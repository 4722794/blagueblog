{
 "cells": [
  {
   "cell_type": "markdown",
   "id": "muslim-click",
   "metadata": {
    "papermill": {
     "duration": 0.033554,
     "end_time": "2022-06-19T00:41:47.435048",
     "exception": false,
     "start_time": "2022-06-19T00:41:47.401494",
     "status": "completed"
    },
    "tags": []
   },
   "source": [
    "# COVID-19 Case Race\n",
    "> A race chart to see rising cases around the world\n",
    "\n",
    "- author: Hargun Oberoi\n",
    "- image: images/covid-overview.png\n",
    "- hide: false\n",
    "- badges: false"
   ]
  },
  {
   "cell_type": "code",
   "execution_count": 1,
   "id": "proof-material",
   "metadata": {
    "execution": {
     "iopub.execute_input": "2022-06-19T00:41:47.509746Z",
     "iopub.status.busy": "2022-06-19T00:41:47.509148Z",
     "iopub.status.idle": "2022-06-19T00:41:47.829614Z",
     "shell.execute_reply": "2022-06-19T00:41:47.830118Z"
    },
    "papermill": {
     "duration": 0.36405,
     "end_time": "2022-06-19T00:41:47.830283",
     "exception": false,
     "start_time": "2022-06-19T00:41:47.466233",
     "status": "completed"
    },
    "tags": []
   },
   "outputs": [],
   "source": [
    "#hide\n",
    "import numpy as np\n",
    "import pandas as pd\n",
    "from jinja2 import Template\n",
    "from IPython.display import HTML"
   ]
  },
  {
   "cell_type": "code",
   "execution_count": 2,
   "id": "developed-terminology",
   "metadata": {
    "execution": {
     "iopub.execute_input": "2022-06-19T00:41:47.898429Z",
     "iopub.status.busy": "2022-06-19T00:41:47.897817Z",
     "iopub.status.idle": "2022-06-19T00:41:47.900383Z",
     "shell.execute_reply": "2022-06-19T00:41:47.899918Z"
    },
    "papermill": {
     "duration": 0.040475,
     "end_time": "2022-06-19T00:41:47.900487",
     "exception": false,
     "start_time": "2022-06-19T00:41:47.860012",
     "status": "completed"
    },
    "tags": []
   },
   "outputs": [],
   "source": [
    "#hide\n",
    "\n",
    "# FETCH\n",
    "base_url = 'https://raw.githubusercontent.com/pratapvardhan/notebooks/master/covid19/'\n",
    "paths = {\n",
    "    'mapping': base_url + 'mapping_countries.csv',\n",
    "    'overview': base_url + 'overview.tpl'\n",
    "}"
   ]
  },
  {
   "cell_type": "code",
   "execution_count": 3,
   "id": "dynamic-saver",
   "metadata": {
    "execution": {
     "iopub.execute_input": "2022-06-19T00:41:47.969232Z",
     "iopub.status.busy": "2022-06-19T00:41:47.968651Z",
     "iopub.status.idle": "2022-06-19T00:41:47.972239Z",
     "shell.execute_reply": "2022-06-19T00:41:47.972658Z"
    },
    "papermill": {
     "duration": 0.043091,
     "end_time": "2022-06-19T00:41:47.972779",
     "exception": false,
     "start_time": "2022-06-19T00:41:47.929688",
     "status": "completed"
    },
    "tags": []
   },
   "outputs": [
    {
     "data": {
      "text/plain": [
       "'https://raw.githubusercontent.com/pratapvardhan/notebooks/master/covid19/mapping_countries.csv'"
      ]
     },
     "execution_count": 3,
     "metadata": {},
     "output_type": "execute_result"
    }
   ],
   "source": [
    "#hide\n",
    "paths['mapping']"
   ]
  },
  {
   "cell_type": "code",
   "execution_count": 4,
   "id": "urban-software",
   "metadata": {
    "execution": {
     "iopub.execute_input": "2022-06-19T00:41:48.036957Z",
     "iopub.status.busy": "2022-06-19T00:41:48.036383Z",
     "iopub.status.idle": "2022-06-19T00:41:48.039367Z",
     "shell.execute_reply": "2022-06-19T00:41:48.038901Z"
    },
    "papermill": {
     "duration": 0.037002,
     "end_time": "2022-06-19T00:41:48.039469",
     "exception": false,
     "start_time": "2022-06-19T00:41:48.002467",
     "status": "completed"
    },
    "tags": []
   },
   "outputs": [],
   "source": [
    "#hide\n",
    "def get_mappings(url):\n",
    "    df = pd.read_csv(url)\n",
    "    return {\n",
    "        'df': df,\n",
    "        'replace.country': dict(df.dropna(subset=['Name']).set_index('Country')['Name']),\n",
    "        'map.continent': dict(df.set_index('Name')['Continent'])\n",
    "    }"
   ]
  },
  {
   "cell_type": "code",
   "execution_count": 5,
   "id": "intimate-machinery",
   "metadata": {
    "execution": {
     "iopub.execute_input": "2022-06-19T00:41:48.103905Z",
     "iopub.status.busy": "2022-06-19T00:41:48.103320Z",
     "iopub.status.idle": "2022-06-19T00:41:48.129767Z",
     "shell.execute_reply": "2022-06-19T00:41:48.129224Z"
    },
    "papermill": {
     "duration": 0.060931,
     "end_time": "2022-06-19T00:41:48.129888",
     "exception": false,
     "start_time": "2022-06-19T00:41:48.068957",
     "status": "completed"
    },
    "tags": []
   },
   "outputs": [],
   "source": [
    "#hide\n",
    "mapping = get_mappings(paths['mapping'])"
   ]
  },
  {
   "cell_type": "code",
   "execution_count": 6,
   "id": "certified-tactics",
   "metadata": {
    "execution": {
     "iopub.execute_input": "2022-06-19T00:41:48.196377Z",
     "iopub.status.busy": "2022-06-19T00:41:48.195770Z",
     "iopub.status.idle": "2022-06-19T00:41:48.197665Z",
     "shell.execute_reply": "2022-06-19T00:41:48.198145Z"
    },
    "papermill": {
     "duration": 0.038085,
     "end_time": "2022-06-19T00:41:48.198282",
     "exception": false,
     "start_time": "2022-06-19T00:41:48.160197",
     "status": "completed"
    },
    "tags": []
   },
   "outputs": [],
   "source": [
    "#hide\n",
    "def get_template(path):\n",
    "    from urllib.parse import urlparse\n",
    "    if bool(urlparse(path).netloc):\n",
    "        from urllib.request import urlopen\n",
    "        return urlopen(path).read().decode('utf8')\n",
    "    return open(path).read()"
   ]
  },
  {
   "cell_type": "code",
   "execution_count": 7,
   "id": "realistic-blast",
   "metadata": {
    "execution": {
     "iopub.execute_input": "2022-06-19T00:41:48.262931Z",
     "iopub.status.busy": "2022-06-19T00:41:48.262228Z",
     "iopub.status.idle": "2022-06-19T00:41:48.267102Z",
     "shell.execute_reply": "2022-06-19T00:41:48.267534Z"
    },
    "papermill": {
     "duration": 0.039567,
     "end_time": "2022-06-19T00:41:48.267664",
     "exception": false,
     "start_time": "2022-06-19T00:41:48.228097",
     "status": "completed"
    },
    "tags": []
   },
   "outputs": [],
   "source": [
    "#hide\n",
    "def get_frame(name):\n",
    "    url = (\n",
    "        'https://raw.githubusercontent.com/CSSEGISandData/COVID-19/master/csse_covid_19_data/'\n",
    "        f'csse_covid_19_time_series/time_series_covid19_{name}_global.csv')\n",
    "    df = pd.read_csv(url)\n",
    "    # rename countries\n",
    "    df['Country/Region'] = df['Country/Region'].replace(mapping['replace.country'])\n",
    "    return df"
   ]
  },
  {
   "cell_type": "code",
   "execution_count": 8,
   "id": "affiliated-characterization",
   "metadata": {
    "execution": {
     "iopub.execute_input": "2022-06-19T00:41:48.332240Z",
     "iopub.status.busy": "2022-06-19T00:41:48.331662Z",
     "iopub.status.idle": "2022-06-19T00:41:48.333909Z",
     "shell.execute_reply": "2022-06-19T00:41:48.334352Z"
    },
    "papermill": {
     "duration": 0.037072,
     "end_time": "2022-06-19T00:41:48.334493",
     "exception": false,
     "start_time": "2022-06-19T00:41:48.297421",
     "status": "completed"
    },
    "tags": []
   },
   "outputs": [],
   "source": [
    "#hide\n",
    "def get_dates(df):\n",
    "    dt_cols = df.columns[~df.columns.isin(['Province/State', 'Country/Region', 'Lat', 'Long'])]\n",
    "    LAST_DATE_I = -1\n",
    "    # sometimes last column may be empty, then go backwards\n",
    "    for i in range(-1, -len(dt_cols), -1):\n",
    "        if not df[dt_cols[i]].fillna(0).eq(0).all():\n",
    "            LAST_DATE_I = i\n",
    "            break\n",
    "    return LAST_DATE_I, dt_cols"
   ]
  },
  {
   "cell_type": "code",
   "execution_count": 9,
   "id": "recent-optimization",
   "metadata": {
    "execution": {
     "iopub.execute_input": "2022-06-19T00:41:48.398411Z",
     "iopub.status.busy": "2022-06-19T00:41:48.397797Z",
     "iopub.status.idle": "2022-06-19T00:41:48.761912Z",
     "shell.execute_reply": "2022-06-19T00:41:48.760704Z"
    },
    "papermill": {
     "duration": 0.398066,
     "end_time": "2022-06-19T00:41:48.762046",
     "exception": false,
     "start_time": "2022-06-19T00:41:48.363980",
     "status": "completed"
    },
    "tags": []
   },
   "outputs": [],
   "source": [
    "#hide\n",
    "COL_REGION = 'Country/Region'\n",
    "# Confirmed, Recovered, Deaths\n",
    "df = get_frame('confirmed')\n",
    "# dft_: timeseries, dfc_: today country agg\n",
    "dft_cases = df\n",
    "dft_deaths = get_frame('deaths')\n",
    "dft_recovered = get_frame('recovered')\n",
    "LAST_DATE_I, dt_cols = get_dates(df)"
   ]
  },
  {
   "cell_type": "code",
   "execution_count": 10,
   "id": "absolute-copper",
   "metadata": {
    "execution": {
     "iopub.execute_input": "2022-06-19T00:41:48.827656Z",
     "iopub.status.busy": "2022-06-19T00:41:48.826979Z",
     "iopub.status.idle": "2022-06-19T00:41:48.828900Z",
     "shell.execute_reply": "2022-06-19T00:41:48.829406Z"
    },
    "papermill": {
     "duration": 0.037456,
     "end_time": "2022-06-19T00:41:48.829547",
     "exception": false,
     "start_time": "2022-06-19T00:41:48.792091",
     "status": "completed"
    },
    "tags": []
   },
   "outputs": [],
   "source": [
    "#hide\n",
    "LAST_DATE_I, dt_cols = get_dates(df)\n",
    "dt_today =dt_cols[LAST_DATE_I]\n",
    "# dt_5day = dt_cols[LAST_DATE_I - 5]\n",
    "dt_yday = dt_cols[LAST_DATE_I - 1]"
   ]
  },
  {
   "cell_type": "code",
   "execution_count": 11,
   "id": "restricted-sheriff",
   "metadata": {
    "execution": {
     "iopub.execute_input": "2022-06-19T00:41:48.897217Z",
     "iopub.status.busy": "2022-06-19T00:41:48.896588Z",
     "iopub.status.idle": "2022-06-19T00:41:48.902601Z",
     "shell.execute_reply": "2022-06-19T00:41:48.902003Z"
    },
    "papermill": {
     "duration": 0.04263,
     "end_time": "2022-06-19T00:41:48.902712",
     "exception": false,
     "start_time": "2022-06-19T00:41:48.860082",
     "status": "completed"
    },
    "tags": []
   },
   "outputs": [],
   "source": [
    "#hide\n",
    "dfc_cases = dft_cases.groupby(COL_REGION)[dt_today].sum()\n",
    "dfc_deaths = dft_deaths.groupby(COL_REGION)[dt_today].sum()\n",
    "# dfp_cases = dft_cases.groupby(COL_REGION)[dt_5day].sum()\n",
    "# dfp_deaths = dft_deaths.groupby(COL_REGION)[dt_5day].sum()\n",
    "dfp_cases = dft_cases.groupby(COL_REGION)[dt_yday].sum()\n",
    "dfp_deaths = dft_deaths.groupby(COL_REGION)[dt_yday].sum()"
   ]
  },
  {
   "cell_type": "code",
   "execution_count": 12,
   "id": "deluxe-hepatitis",
   "metadata": {
    "execution": {
     "iopub.execute_input": "2022-06-19T00:41:48.967602Z",
     "iopub.status.busy": "2022-06-19T00:41:48.967028Z",
     "iopub.status.idle": "2022-06-19T00:41:48.971435Z",
     "shell.execute_reply": "2022-06-19T00:41:48.971907Z"
    },
    "papermill": {
     "duration": 0.039618,
     "end_time": "2022-06-19T00:41:48.972025",
     "exception": false,
     "start_time": "2022-06-19T00:41:48.932407",
     "status": "completed"
    },
    "tags": []
   },
   "outputs": [],
   "source": [
    "#hide\n",
    "df_table = (pd.DataFrame(dict(Cases = dfc_cases, Deaths = dfc_deaths, PCases = dfp_cases, PDeaths = dfp_deaths))\n",
    "            .sort_values(by = ['Cases','Deaths'], ascending = [False, False])\n",
    "            .reset_index())"
   ]
  },
  {
   "cell_type": "code",
   "execution_count": 13,
   "id": "educational-chancellor",
   "metadata": {
    "execution": {
     "iopub.execute_input": "2022-06-19T00:41:49.047810Z",
     "iopub.status.busy": "2022-06-19T00:41:49.047231Z",
     "iopub.status.idle": "2022-06-19T00:41:49.055195Z",
     "shell.execute_reply": "2022-06-19T00:41:49.054631Z"
    },
    "papermill": {
     "duration": 0.053872,
     "end_time": "2022-06-19T00:41:49.055298",
     "exception": false,
     "start_time": "2022-06-19T00:41:49.001426",
     "status": "completed"
    },
    "tags": []
   },
   "outputs": [
    {
     "data": {
      "text/html": [
       "<div>\n",
       "<style scoped>\n",
       "    .dataframe tbody tr th:only-of-type {\n",
       "        vertical-align: middle;\n",
       "    }\n",
       "\n",
       "    .dataframe tbody tr th {\n",
       "        vertical-align: top;\n",
       "    }\n",
       "\n",
       "    .dataframe thead th {\n",
       "        text-align: right;\n",
       "    }\n",
       "</style>\n",
       "<table border=\"1\" class=\"dataframe\">\n",
       "  <thead>\n",
       "    <tr style=\"text-align: right;\">\n",
       "      <th></th>\n",
       "      <th>Country/Region</th>\n",
       "      <th>Cases</th>\n",
       "      <th>Deaths</th>\n",
       "      <th>PCases</th>\n",
       "      <th>PDeaths</th>\n",
       "      <th>Cases (+)</th>\n",
       "      <th>Deaths (+)</th>\n",
       "      <th>Fatality Rate</th>\n",
       "      <th>Continent</th>\n",
       "    </tr>\n",
       "  </thead>\n",
       "  <tbody>\n",
       "    <tr>\n",
       "      <th>0</th>\n",
       "      <td>US</td>\n",
       "      <td>86216418</td>\n",
       "      <td>1013358</td>\n",
       "      <td>86057735</td>\n",
       "      <td>1012647</td>\n",
       "      <td>158683</td>\n",
       "      <td>711</td>\n",
       "      <td>1.18</td>\n",
       "      <td>North America</td>\n",
       "    </tr>\n",
       "    <tr>\n",
       "      <th>1</th>\n",
       "      <td>India</td>\n",
       "      <td>43283793</td>\n",
       "      <td>524840</td>\n",
       "      <td>43270577</td>\n",
       "      <td>524817</td>\n",
       "      <td>13216</td>\n",
       "      <td>23</td>\n",
       "      <td>1.21</td>\n",
       "      <td>Asia</td>\n",
       "    </tr>\n",
       "    <tr>\n",
       "      <th>2</th>\n",
       "      <td>Brazil</td>\n",
       "      <td>31611769</td>\n",
       "      <td>668693</td>\n",
       "      <td>31611769</td>\n",
       "      <td>668693</td>\n",
       "      <td>0</td>\n",
       "      <td>0</td>\n",
       "      <td>2.12</td>\n",
       "      <td>South America</td>\n",
       "    </tr>\n",
       "    <tr>\n",
       "      <th>3</th>\n",
       "      <td>France</td>\n",
       "      <td>30279240</td>\n",
       "      <td>150078</td>\n",
       "      <td>30228615</td>\n",
       "      <td>150035</td>\n",
       "      <td>50625</td>\n",
       "      <td>43</td>\n",
       "      <td>0.50</td>\n",
       "      <td>Europe</td>\n",
       "    </tr>\n",
       "    <tr>\n",
       "      <th>4</th>\n",
       "      <td>Germany</td>\n",
       "      <td>27204953</td>\n",
       "      <td>140176</td>\n",
       "      <td>27124689</td>\n",
       "      <td>140118</td>\n",
       "      <td>80264</td>\n",
       "      <td>58</td>\n",
       "      <td>0.52</td>\n",
       "      <td>Europe</td>\n",
       "    </tr>\n",
       "  </tbody>\n",
       "</table>\n",
       "</div>"
      ],
      "text/plain": [
       "  Country/Region     Cases   Deaths    PCases  PDeaths  Cases (+)  Deaths (+)  \\\n",
       "0             US  86216418  1013358  86057735  1012647     158683         711   \n",
       "1          India  43283793   524840  43270577   524817      13216          23   \n",
       "2         Brazil  31611769   668693  31611769   668693          0           0   \n",
       "3         France  30279240   150078  30228615   150035      50625          43   \n",
       "4        Germany  27204953   140176  27124689   140118      80264          58   \n",
       "\n",
       "   Fatality Rate      Continent  \n",
       "0           1.18  North America  \n",
       "1           1.21           Asia  \n",
       "2           2.12  South America  \n",
       "3           0.50         Europe  \n",
       "4           0.52         Europe  "
      ]
     },
     "execution_count": 13,
     "metadata": {},
     "output_type": "execute_result"
    }
   ],
   "source": [
    "#hide\n",
    "for c in 'Cases, Deaths'.split(', '):\n",
    "    df_table[f'{c} (+)'] = (df_table[c] - df_table[f'P{c}']).clip(0)\n",
    "    #Clip ça veut dire, les chiffres negatif sont interdit\n",
    "df_table['Fatality Rate'] = (100* df_table['Deaths']/ df_table['Cases']).round(2)\n",
    "df_table['Continent'] = df_table['Country/Region'].map(mapping['map.continent'])\n",
    "df_table.head(5)"
   ]
  },
  {
   "cell_type": "code",
   "execution_count": 14,
   "id": "aboriginal-bulgaria",
   "metadata": {
    "execution": {
     "iopub.execute_input": "2022-06-19T00:41:49.126200Z",
     "iopub.status.busy": "2022-06-19T00:41:49.125627Z",
     "iopub.status.idle": "2022-06-19T00:41:49.127864Z",
     "shell.execute_reply": "2022-06-19T00:41:49.128310Z"
    },
    "papermill": {
     "duration": 0.037491,
     "end_time": "2022-06-19T00:41:49.128429",
     "exception": false,
     "start_time": "2022-06-19T00:41:49.090938",
     "status": "completed"
    },
    "tags": []
   },
   "outputs": [],
   "source": [
    "#hide\n",
    "#delete problematic countries from table\n",
    "df_table = df_table[~df_table['Country/Region'].isin(['Cape Verde', 'Cruise Ship', 'Kosovo'])]"
   ]
  },
  {
   "cell_type": "code",
   "execution_count": 15,
   "id": "fantastic-effect",
   "metadata": {
    "execution": {
     "iopub.execute_input": "2022-06-19T00:41:49.196718Z",
     "iopub.status.busy": "2022-06-19T00:41:49.196131Z",
     "iopub.status.idle": "2022-06-19T00:41:49.213702Z",
     "shell.execute_reply": "2022-06-19T00:41:49.213232Z"
    },
    "papermill": {
     "duration": 0.055382,
     "end_time": "2022-06-19T00:41:49.213811",
     "exception": false,
     "start_time": "2022-06-19T00:41:49.158429",
     "status": "completed"
    },
    "tags": []
   },
   "outputs": [
    {
     "data": {
      "text/html": [
       "<div>\n",
       "<style scoped>\n",
       "    .dataframe tbody tr th:only-of-type {\n",
       "        vertical-align: middle;\n",
       "    }\n",
       "\n",
       "    .dataframe tbody tr th {\n",
       "        vertical-align: top;\n",
       "    }\n",
       "\n",
       "    .dataframe thead th {\n",
       "        text-align: right;\n",
       "    }\n",
       "</style>\n",
       "<table border=\"1\" class=\"dataframe\">\n",
       "  <thead>\n",
       "    <tr style=\"text-align: right;\">\n",
       "      <th></th>\n",
       "      <th>Country/Region</th>\n",
       "      <th>Cases</th>\n",
       "      <th>Deaths</th>\n",
       "      <th>PCases</th>\n",
       "      <th>PDeaths</th>\n",
       "      <th>Cases (+)</th>\n",
       "      <th>Deaths (+)</th>\n",
       "      <th>Fatality Rate</th>\n",
       "      <th>Continent</th>\n",
       "    </tr>\n",
       "  </thead>\n",
       "  <tbody>\n",
       "    <tr>\n",
       "      <th>0</th>\n",
       "      <td>US</td>\n",
       "      <td>86216418</td>\n",
       "      <td>1013358</td>\n",
       "      <td>86057735</td>\n",
       "      <td>1012647</td>\n",
       "      <td>158683</td>\n",
       "      <td>711</td>\n",
       "      <td>1.2</td>\n",
       "      <td>North America</td>\n",
       "    </tr>\n",
       "    <tr>\n",
       "      <th>1</th>\n",
       "      <td>India</td>\n",
       "      <td>43283793</td>\n",
       "      <td>524840</td>\n",
       "      <td>43270577</td>\n",
       "      <td>524817</td>\n",
       "      <td>13216</td>\n",
       "      <td>23</td>\n",
       "      <td>1.2</td>\n",
       "      <td>Asia</td>\n",
       "    </tr>\n",
       "    <tr>\n",
       "      <th>2</th>\n",
       "      <td>Brazil</td>\n",
       "      <td>31611769</td>\n",
       "      <td>668693</td>\n",
       "      <td>31611769</td>\n",
       "      <td>668693</td>\n",
       "      <td>0</td>\n",
       "      <td>0</td>\n",
       "      <td>2.1</td>\n",
       "      <td>South America</td>\n",
       "    </tr>\n",
       "    <tr>\n",
       "      <th>3</th>\n",
       "      <td>France</td>\n",
       "      <td>30279240</td>\n",
       "      <td>150078</td>\n",
       "      <td>30228615</td>\n",
       "      <td>150035</td>\n",
       "      <td>50625</td>\n",
       "      <td>43</td>\n",
       "      <td>0.5</td>\n",
       "      <td>Europe</td>\n",
       "    </tr>\n",
       "    <tr>\n",
       "      <th>4</th>\n",
       "      <td>Germany</td>\n",
       "      <td>27204953</td>\n",
       "      <td>140176</td>\n",
       "      <td>27124689</td>\n",
       "      <td>140118</td>\n",
       "      <td>80264</td>\n",
       "      <td>58</td>\n",
       "      <td>0.5</td>\n",
       "      <td>Europe</td>\n",
       "    </tr>\n",
       "  </tbody>\n",
       "</table>\n",
       "</div>"
      ],
      "text/plain": [
       "  Country/Region     Cases   Deaths    PCases  PDeaths  Cases (+)  Deaths (+)  \\\n",
       "0             US  86216418  1013358  86057735  1012647     158683         711   \n",
       "1          India  43283793   524840  43270577   524817      13216          23   \n",
       "2         Brazil  31611769   668693  31611769   668693          0           0   \n",
       "3         France  30279240   150078  30228615   150035      50625          43   \n",
       "4        Germany  27204953   140176  27124689   140118      80264          58   \n",
       "\n",
       "   Fatality Rate      Continent  \n",
       "0            1.2  North America  \n",
       "1            1.2           Asia  \n",
       "2            2.1  South America  \n",
       "3            0.5         Europe  \n",
       "4            0.5         Europe  "
      ]
     },
     "execution_count": 15,
     "metadata": {},
     "output_type": "execute_result"
    }
   ],
   "source": [
    "#hide\n",
    "df_table = (pd.DataFrame(dict(Cases=dfc_cases, Deaths=dfc_deaths, PCases=dfp_cases, PDeaths=dfp_deaths))\n",
    "             .sort_values(by=['Cases', 'Deaths'], ascending=[False, False])\n",
    "             .reset_index())\n",
    "df_table.rename(columns={'index': 'Country/Region'}, inplace=True)\n",
    "for c in 'Cases, Deaths'.split(', '):\n",
    "    df_table[f'{c} (+)'] = (df_table[c] - df_table[f'P{c}']).clip(0)  # DATA BUG\n",
    "df_table['Fatality Rate'] = (100 * df_table['Deaths'] / df_table['Cases']).round(1)\n",
    "df_table['Continent'] = df_table['Country/Region'].map(mapping['map.continent'])\n",
    "df_table.head(5)"
   ]
  },
  {
   "cell_type": "code",
   "execution_count": 16,
   "id": "fewer-occasion",
   "metadata": {
    "execution": {
     "iopub.execute_input": "2022-06-19T00:41:49.280022Z",
     "iopub.status.busy": "2022-06-19T00:41:49.279431Z",
     "iopub.status.idle": "2022-06-19T00:41:49.282048Z",
     "shell.execute_reply": "2022-06-19T00:41:49.281579Z"
    },
    "papermill": {
     "duration": 0.037559,
     "end_time": "2022-06-19T00:41:49.282153",
     "exception": false,
     "start_time": "2022-06-19T00:41:49.244594",
     "status": "completed"
    },
    "tags": []
   },
   "outputs": [],
   "source": [
    "#hide\n",
    "#delete problematic countries from table\n",
    "df_table = df_table[~df_table['Country/Region'].isin(['Cape Verde', 'Cruise Ship', 'Kosovo'])]"
   ]
  },
  {
   "cell_type": "code",
   "execution_count": 17,
   "id": "related-center",
   "metadata": {
    "execution": {
     "iopub.execute_input": "2022-06-19T00:41:49.349967Z",
     "iopub.status.busy": "2022-06-19T00:41:49.349390Z",
     "iopub.status.idle": "2022-06-19T00:41:49.363000Z",
     "shell.execute_reply": "2022-06-19T00:41:49.363443Z"
    },
    "papermill": {
     "duration": 0.050906,
     "end_time": "2022-06-19T00:41:49.363563",
     "exception": false,
     "start_time": "2022-06-19T00:41:49.312657",
     "status": "completed"
    },
    "tags": []
   },
   "outputs": [],
   "source": [
    "#hide\n",
    "metrics = [df_table.columns[index] for index in [1,2,5,6]]\n",
    "# s_china = df_table[df_table['Country/Region'].eq('China')][metrics].sum().add_prefix('China ')\n",
    "s_us = df_table[df_table['Country/Region'].eq('US')][metrics].sum().add_prefix('US ')\n",
    "s_eu = df_table[df_table['Continent'].eq('Europe')][metrics].sum().add_prefix('EU ')\n",
    "s_ind = df_table[df_table['Country/Region'].eq('India')][metrics].sum().add_prefix('India ')\n",
    "summary = {'updated': pd.to_datetime(dt_today), 'since': pd.to_datetime(dt_yday)}\n",
    "summary = {'updated': pd.to_datetime(dt_today), 'since': pd.to_datetime(dt_yday)}\n",
    "summary = {**summary, **df_table[metrics].sum(), **s_ind, **s_us, **s_eu}"
   ]
  },
  {
   "cell_type": "code",
   "execution_count": 18,
   "id": "engaging-syndrome",
   "metadata": {
    "execution": {
     "iopub.execute_input": "2022-06-19T00:41:49.435700Z",
     "iopub.status.busy": "2022-06-19T00:41:49.435125Z",
     "iopub.status.idle": "2022-06-19T00:41:49.453247Z",
     "shell.execute_reply": "2022-06-19T00:41:49.453695Z"
    },
    "papermill": {
     "duration": 0.055549,
     "end_time": "2022-06-19T00:41:49.453819",
     "exception": false,
     "start_time": "2022-06-19T00:41:49.398270",
     "status": "completed"
    },
    "tags": []
   },
   "outputs": [],
   "source": [
    "#hide\n",
    "dft_ct_new_cases = dft_cases.groupby(COL_REGION)[dt_cols].sum().diff(axis=1).fillna(0).astype(int)"
   ]
  },
  {
   "cell_type": "code",
   "execution_count": 19,
   "id": "neutral-assignment",
   "metadata": {
    "execution": {
     "iopub.execute_input": "2022-06-19T00:41:49.521736Z",
     "iopub.status.busy": "2022-06-19T00:41:49.521155Z",
     "iopub.status.idle": "2022-06-19T00:41:49.523433Z",
     "shell.execute_reply": "2022-06-19T00:41:49.523854Z"
    },
    "papermill": {
     "duration": 0.038047,
     "end_time": "2022-06-19T00:41:49.523976",
     "exception": false,
     "start_time": "2022-06-19T00:41:49.485929",
     "status": "completed"
    },
    "tags": []
   },
   "outputs": [],
   "source": [
    "#hide\n",
    "everydaycases = dft_ct_new_cases.cumsum(axis=1)"
   ]
  },
  {
   "cell_type": "code",
   "execution_count": 20,
   "id": "parliamentary-calgary",
   "metadata": {
    "execution": {
     "iopub.execute_input": "2022-06-19T00:41:49.589086Z",
     "iopub.status.busy": "2022-06-19T00:41:49.588508Z",
     "iopub.status.idle": "2022-06-19T00:41:50.114683Z",
     "shell.execute_reply": "2022-06-19T00:41:50.115226Z"
    },
    "papermill": {
     "duration": 0.560763,
     "end_time": "2022-06-19T00:41:50.115392",
     "exception": false,
     "start_time": "2022-06-19T00:41:49.554629",
     "status": "completed"
    },
    "tags": []
   },
   "outputs": [],
   "source": [
    "#hide\n",
    "import pandas as pd\n",
    "import matplotlib.pyplot as plt\n",
    "import matplotlib.ticker as ticker\n",
    "import matplotlib.animation as animation\n",
    "from IPython.display import HTML"
   ]
  },
  {
   "cell_type": "code",
   "execution_count": 21,
   "id": "lasting-extraction",
   "metadata": {
    "execution": {
     "iopub.execute_input": "2022-06-19T00:41:50.188316Z",
     "iopub.status.busy": "2022-06-19T00:41:50.187723Z",
     "iopub.status.idle": "2022-06-19T00:41:50.194534Z",
     "shell.execute_reply": "2022-06-19T00:41:50.194028Z"
    },
    "papermill": {
     "duration": 0.048298,
     "end_time": "2022-06-19T00:41:50.194648",
     "exception": false,
     "start_time": "2022-06-19T00:41:50.146350",
     "status": "completed"
    },
    "tags": []
   },
   "outputs": [],
   "source": [
    "#hide\n",
    "t = everydaycases.stack()"
   ]
  },
  {
   "cell_type": "code",
   "execution_count": 22,
   "id": "premier-sleeve",
   "metadata": {
    "execution": {
     "iopub.execute_input": "2022-06-19T00:41:50.260485Z",
     "iopub.status.busy": "2022-06-19T00:41:50.259907Z",
     "iopub.status.idle": "2022-06-19T00:41:50.270609Z",
     "shell.execute_reply": "2022-06-19T00:41:50.271042Z"
    },
    "papermill": {
     "duration": 0.045585,
     "end_time": "2022-06-19T00:41:50.271173",
     "exception": false,
     "start_time": "2022-06-19T00:41:50.225588",
     "status": "completed"
    },
    "tags": []
   },
   "outputs": [],
   "source": [
    "#hide\n",
    "g = t.reset_index(['Country/Region'])"
   ]
  },
  {
   "cell_type": "code",
   "execution_count": 23,
   "id": "distributed-pittsburgh",
   "metadata": {
    "execution": {
     "iopub.execute_input": "2022-06-19T00:41:50.335612Z",
     "iopub.status.busy": "2022-06-19T00:41:50.335041Z",
     "iopub.status.idle": "2022-06-19T00:41:50.337845Z",
     "shell.execute_reply": "2022-06-19T00:41:50.337339Z"
    },
    "papermill": {
     "duration": 0.036314,
     "end_time": "2022-06-19T00:41:50.337966",
     "exception": false,
     "start_time": "2022-06-19T00:41:50.301652",
     "status": "completed"
    },
    "tags": []
   },
   "outputs": [],
   "source": [
    "#hide\n",
    "g.index.name = 'date'"
   ]
  },
  {
   "cell_type": "code",
   "execution_count": 24,
   "id": "naked-donor",
   "metadata": {
    "execution": {
     "iopub.execute_input": "2022-06-19T00:41:50.409585Z",
     "iopub.status.busy": "2022-06-19T00:41:50.408914Z",
     "iopub.status.idle": "2022-06-19T00:41:50.413259Z",
     "shell.execute_reply": "2022-06-19T00:41:50.412789Z"
    },
    "papermill": {
     "duration": 0.039081,
     "end_time": "2022-06-19T00:41:50.413364",
     "exception": false,
     "start_time": "2022-06-19T00:41:50.374283",
     "status": "completed"
    },
    "tags": []
   },
   "outputs": [],
   "source": [
    "# #hide\n",
    "# g = g.reset_index(['date'])"
   ]
  },
  {
   "cell_type": "code",
   "execution_count": 25,
   "id": "incomplete-mustang",
   "metadata": {
    "execution": {
     "iopub.execute_input": "2022-06-19T00:41:50.478277Z",
     "iopub.status.busy": "2022-06-19T00:41:50.477609Z",
     "iopub.status.idle": "2022-06-19T00:41:50.480262Z",
     "shell.execute_reply": "2022-06-19T00:41:50.479751Z"
    },
    "papermill": {
     "duration": 0.036464,
     "end_time": "2022-06-19T00:41:50.480384",
     "exception": false,
     "start_time": "2022-06-19T00:41:50.443920",
     "status": "completed"
    },
    "tags": []
   },
   "outputs": [],
   "source": [
    "#hide\n",
    "# g.head()"
   ]
  },
  {
   "cell_type": "code",
   "execution_count": 26,
   "id": "specific-kruger",
   "metadata": {
    "execution": {
     "iopub.execute_input": "2022-06-19T00:41:50.545473Z",
     "iopub.status.busy": "2022-06-19T00:41:50.544897Z",
     "iopub.status.idle": "2022-06-19T00:41:50.547037Z",
     "shell.execute_reply": "2022-06-19T00:41:50.547586Z"
    },
    "papermill": {
     "duration": 0.036227,
     "end_time": "2022-06-19T00:41:50.547706",
     "exception": false,
     "start_time": "2022-06-19T00:41:50.511479",
     "status": "completed"
    },
    "tags": []
   },
   "outputs": [],
   "source": [
    "#hide\n",
    "# g.columns = ['date','country','cases']"
   ]
  },
  {
   "cell_type": "code",
   "execution_count": 27,
   "id": "tender-conversion",
   "metadata": {
    "execution": {
     "iopub.execute_input": "2022-06-19T00:41:50.612091Z",
     "iopub.status.busy": "2022-06-19T00:41:50.611435Z",
     "iopub.status.idle": "2022-06-19T00:41:50.615407Z",
     "shell.execute_reply": "2022-06-19T00:41:50.614937Z"
    },
    "papermill": {
     "duration": 0.037497,
     "end_time": "2022-06-19T00:41:50.615508",
     "exception": false,
     "start_time": "2022-06-19T00:41:50.578011",
     "status": "completed"
    },
    "tags": []
   },
   "outputs": [],
   "source": [
    "#hide\n",
    "# g['continent'] = g.country"
   ]
  },
  {
   "cell_type": "code",
   "execution_count": 28,
   "id": "substantial-wilderness",
   "metadata": {
    "execution": {
     "iopub.execute_input": "2022-06-19T00:41:50.679922Z",
     "iopub.status.busy": "2022-06-19T00:41:50.679355Z",
     "iopub.status.idle": "2022-06-19T00:41:50.681491Z",
     "shell.execute_reply": "2022-06-19T00:41:50.682039Z"
    },
    "papermill": {
     "duration": 0.036016,
     "end_time": "2022-06-19T00:41:50.682152",
     "exception": false,
     "start_time": "2022-06-19T00:41:50.646136",
     "status": "completed"
    },
    "tags": []
   },
   "outputs": [],
   "source": [
    "#hide\n",
    "# cols = list(g.columns.values)"
   ]
  },
  {
   "cell_type": "code",
   "execution_count": 29,
   "id": "solved-farming",
   "metadata": {
    "execution": {
     "iopub.execute_input": "2022-06-19T00:41:50.746365Z",
     "iopub.status.busy": "2022-06-19T00:41:50.745799Z",
     "iopub.status.idle": "2022-06-19T00:41:50.748155Z",
     "shell.execute_reply": "2022-06-19T00:41:50.748631Z"
    },
    "papermill": {
     "duration": 0.036227,
     "end_time": "2022-06-19T00:41:50.748743",
     "exception": false,
     "start_time": "2022-06-19T00:41:50.712516",
     "status": "completed"
    },
    "tags": []
   },
   "outputs": [],
   "source": [
    "#hide\n",
    "# cols.insert(0, cols.pop())"
   ]
  },
  {
   "cell_type": "code",
   "execution_count": 30,
   "id": "executed-adoption",
   "metadata": {
    "execution": {
     "iopub.execute_input": "2022-06-19T00:41:50.812852Z",
     "iopub.status.busy": "2022-06-19T00:41:50.812199Z",
     "iopub.status.idle": "2022-06-19T00:41:50.814828Z",
     "shell.execute_reply": "2022-06-19T00:41:50.814177Z"
    },
    "papermill": {
     "duration": 0.035812,
     "end_time": "2022-06-19T00:41:50.814949",
     "exception": false,
     "start_time": "2022-06-19T00:41:50.779137",
     "status": "completed"
    },
    "tags": []
   },
   "outputs": [],
   "source": [
    "#hide\n",
    "# g = g[cols]"
   ]
  },
  {
   "cell_type": "code",
   "execution_count": 31,
   "id": "subject-dublin",
   "metadata": {
    "execution": {
     "iopub.execute_input": "2022-06-19T00:41:50.887319Z",
     "iopub.status.busy": "2022-06-19T00:41:50.886681Z",
     "iopub.status.idle": "2022-06-19T00:41:50.889941Z",
     "shell.execute_reply": "2022-06-19T00:41:50.889458Z"
    },
    "papermill": {
     "duration": 0.03944,
     "end_time": "2022-06-19T00:41:50.890052",
     "exception": false,
     "start_time": "2022-06-19T00:41:50.850612",
     "status": "completed"
    },
    "tags": []
   },
   "outputs": [],
   "source": [
    "#hide\n",
    "# g['continent'] = g['continent'].map(mapping['map.continent'])"
   ]
  },
  {
   "cell_type": "code",
   "execution_count": 32,
   "id": "freelance-scout",
   "metadata": {
    "execution": {
     "iopub.execute_input": "2022-06-19T00:41:50.991398Z",
     "iopub.status.busy": "2022-06-19T00:41:50.990643Z",
     "iopub.status.idle": "2022-06-19T00:41:50.993928Z",
     "shell.execute_reply": "2022-06-19T00:41:50.994517Z"
    },
    "papermill": {
     "duration": 0.051784,
     "end_time": "2022-06-19T00:41:50.994649",
     "exception": false,
     "start_time": "2022-06-19T00:41:50.942865",
     "status": "completed"
    },
    "tags": []
   },
   "outputs": [],
   "source": [
    "#hide\n",
    "# g.head()"
   ]
  },
  {
   "cell_type": "code",
   "execution_count": 33,
   "id": "limited-engine",
   "metadata": {
    "execution": {
     "iopub.execute_input": "2022-06-19T00:41:51.080666Z",
     "iopub.status.busy": "2022-06-19T00:41:51.080085Z",
     "iopub.status.idle": "2022-06-19T00:41:51.082345Z",
     "shell.execute_reply": "2022-06-19T00:41:51.082801Z"
    },
    "papermill": {
     "duration": 0.052892,
     "end_time": "2022-06-19T00:41:51.082929",
     "exception": false,
     "start_time": "2022-06-19T00:41:51.030037",
     "status": "completed"
    },
    "tags": []
   },
   "outputs": [],
   "source": [
    "# hide\n",
    "# g['date'] = g['date'].astype('datetime64[ns]')"
   ]
  },
  {
   "cell_type": "code",
   "execution_count": 34,
   "id": "sophisticated-supervisor",
   "metadata": {
    "execution": {
     "iopub.execute_input": "2022-06-19T00:41:51.377077Z",
     "iopub.status.busy": "2022-06-19T00:41:51.376360Z",
     "iopub.status.idle": "2022-06-19T00:41:51.378891Z",
     "shell.execute_reply": "2022-06-19T00:41:51.378203Z"
    },
    "papermill": {
     "duration": 0.105879,
     "end_time": "2022-06-19T00:41:51.379021",
     "exception": false,
     "start_time": "2022-06-19T00:41:51.273142",
     "status": "completed"
    },
    "tags": []
   },
   "outputs": [],
   "source": [
    "#hide\n",
    "# g['date'] = g.date.dt.dayofyear"
   ]
  },
  {
   "cell_type": "code",
   "execution_count": 35,
   "id": "inside-dubai",
   "metadata": {
    "execution": {
     "iopub.execute_input": "2022-06-19T00:41:51.479596Z",
     "iopub.status.busy": "2022-06-19T00:41:51.478815Z",
     "iopub.status.idle": "2022-06-19T00:41:51.482714Z",
     "shell.execute_reply": "2022-06-19T00:41:51.482115Z"
    },
    "papermill": {
     "duration": 0.050344,
     "end_time": "2022-06-19T00:41:51.482827",
     "exception": false,
     "start_time": "2022-06-19T00:41:51.432483",
     "status": "completed"
    },
    "tags": []
   },
   "outputs": [],
   "source": [
    "#hide\n",
    "# g = g.rename(columns= {'continent':'group','country':'name','cases':'value'})"
   ]
  },
  {
   "cell_type": "code",
   "execution_count": 36,
   "id": "fleet-motorcycle",
   "metadata": {
    "execution": {
     "iopub.execute_input": "2022-06-19T00:41:51.548498Z",
     "iopub.status.busy": "2022-06-19T00:41:51.547825Z",
     "iopub.status.idle": "2022-06-19T00:41:51.550160Z",
     "shell.execute_reply": "2022-06-19T00:41:51.549569Z"
    },
    "papermill": {
     "duration": 0.03635,
     "end_time": "2022-06-19T00:41:51.550267",
     "exception": false,
     "start_time": "2022-06-19T00:41:51.513917",
     "status": "completed"
    },
    "tags": []
   },
   "outputs": [],
   "source": [
    "#hide\n",
    "# cols = ['name','group','day','value']"
   ]
  },
  {
   "cell_type": "code",
   "execution_count": 37,
   "id": "continued-sleeping",
   "metadata": {
    "execution": {
     "iopub.execute_input": "2022-06-19T00:41:51.615277Z",
     "iopub.status.busy": "2022-06-19T00:41:51.614603Z",
     "iopub.status.idle": "2022-06-19T00:41:51.617066Z",
     "shell.execute_reply": "2022-06-19T00:41:51.616427Z"
    },
    "papermill": {
     "duration": 0.036313,
     "end_time": "2022-06-19T00:41:51.617187",
     "exception": false,
     "start_time": "2022-06-19T00:41:51.580874",
     "status": "completed"
    },
    "tags": []
   },
   "outputs": [],
   "source": [
    "#hide\n",
    "# g.rename(columns= {'date':'day'},inplace = True)"
   ]
  },
  {
   "cell_type": "code",
   "execution_count": 38,
   "id": "major-fight",
   "metadata": {
    "execution": {
     "iopub.execute_input": "2022-06-19T00:41:51.682350Z",
     "iopub.status.busy": "2022-06-19T00:41:51.681773Z",
     "iopub.status.idle": "2022-06-19T00:41:51.684212Z",
     "shell.execute_reply": "2022-06-19T00:41:51.683745Z"
    },
    "papermill": {
     "duration": 0.035913,
     "end_time": "2022-06-19T00:41:51.684316",
     "exception": false,
     "start_time": "2022-06-19T00:41:51.648403",
     "status": "completed"
    },
    "tags": []
   },
   "outputs": [],
   "source": [
    "#hide\n",
    "# g = g[cols]"
   ]
  },
  {
   "cell_type": "code",
   "execution_count": 39,
   "id": "structured-mobile",
   "metadata": {
    "execution": {
     "iopub.execute_input": "2022-06-19T00:41:51.749111Z",
     "iopub.status.busy": "2022-06-19T00:41:51.748126Z",
     "iopub.status.idle": "2022-06-19T00:41:51.751153Z",
     "shell.execute_reply": "2022-06-19T00:41:51.750617Z"
    },
    "papermill": {
     "duration": 0.036633,
     "end_time": "2022-06-19T00:41:51.751268",
     "exception": false,
     "start_time": "2022-06-19T00:41:51.714635",
     "status": "completed"
    },
    "tags": []
   },
   "outputs": [],
   "source": [
    "# #hide\n",
    "# g = g[g.group.notna()]"
   ]
  },
  {
   "cell_type": "code",
   "execution_count": 40,
   "id": "determined-closing",
   "metadata": {
    "execution": {
     "iopub.execute_input": "2022-06-19T00:41:51.816148Z",
     "iopub.status.busy": "2022-06-19T00:41:51.815553Z",
     "iopub.status.idle": "2022-06-19T00:41:51.819833Z",
     "shell.execute_reply": "2022-06-19T00:41:51.819363Z"
    },
    "papermill": {
     "duration": 0.037652,
     "end_time": "2022-06-19T00:41:51.819941",
     "exception": false,
     "start_time": "2022-06-19T00:41:51.782289",
     "status": "completed"
    },
    "tags": []
   },
   "outputs": [],
   "source": [
    "# #hide\n",
    "# colors = dict(zip(\n",
    "#     [\"Oceania\", \"Europe\", \"Asia\", \"South America\", \"Middle East\", \"North America\", \"Africa\"],\n",
    "#     [\"#adb0ff\", \"#ffb3ff\", \"#90d595\", \"#e48381\", \"#aafbff\", \"#f7bb5f\", \"#eafb50\"]\n",
    "# ))\n",
    "# group_lk = g.set_index('name')['group'].to_dict()"
   ]
  },
  {
   "cell_type": "code",
   "execution_count": null,
   "id": "gross-drinking",
   "metadata": {
    "papermill": {
     "duration": 0.030504,
     "end_time": "2022-06-19T00:41:51.880976",
     "exception": false,
     "start_time": "2022-06-19T00:41:51.850472",
     "status": "completed"
    },
    "tags": []
   },
   "outputs": [],
   "source": []
  },
  {
   "cell_type": "code",
   "execution_count": 41,
   "id": "subject-macintosh",
   "metadata": {
    "execution": {
     "iopub.execute_input": "2022-06-19T00:41:51.947033Z",
     "iopub.status.busy": "2022-06-19T00:41:51.946325Z",
     "iopub.status.idle": "2022-06-19T00:41:51.948195Z",
     "shell.execute_reply": "2022-06-19T00:41:51.948641Z"
    },
    "papermill": {
     "duration": 0.037264,
     "end_time": "2022-06-19T00:41:51.948764",
     "exception": false,
     "start_time": "2022-06-19T00:41:51.911500",
     "status": "completed"
    },
    "tags": []
   },
   "outputs": [],
   "source": [
    "# #hide\n",
    "# fig, ax = plt.subplots(figsize=(15, 8))\n",
    "\n",
    "# def draw_barchart(current_day):\n",
    "#     dff = g[g['day'].eq(current_day)].sort_values(by='value', ascending=True).tail(10)\n",
    "#     ax.clear()\n",
    "#     ax.barh(dff['name'], dff['value'], color=[colors[group_lk[x]] for x in dff['name']])\n",
    "#     dx = dff['value'].max() / 200\n",
    "    \n",
    "#     for i, (value, name) in enumerate(zip(dff['value'], dff['name'])):\n",
    "#         ax.text(value-dx, i,     name,           size=14, weight=600, ha='right', va='bottom')\n",
    "#         ax.text(value-dx, i-.25, group_lk[name], size=10, color='#444444', ha='right', va='baseline')\n",
    "#         ax.text(value+dx, i,     f'{value:,.0f}',  size=14, ha='left',  va='center')\n",
    "#     ax.text(1, 0.4, current_day, transform=ax.transAxes, color='#777777', size=46, ha='right', weight=800)\n",
    "#     ax.text(0, 1.06, 'Population (thousands)', transform=ax.transAxes, size=12, color='#777777')\n",
    "#     ax.xaxis.set_major_formatter(ticker.StrMethodFormatter('{x:,.0f}'))\n",
    "#     ax.xaxis.set_ticks_position('top')\n",
    "#     ax.tick_params(axis='x', colors='#777777', labelsize=12)\n",
    "#     ax.set_yticks([])\n",
    "#     ax.margins(0, 0.01)\n",
    "#     ax.grid(which='major', axis='x', linestyle='-')\n",
    "#     ax.set_axisbelow(True)\n",
    "    \n",
    "#     ax.text(0, 1.15, 'Coronavirus',\n",
    "#             transform=ax.transAxes, size=24, weight=600, ha='left', va='top')\n",
    "# #     ax.text(1, 0, 'by @pratapvardhan; credit @jburnmurdoch', transform=ax.transAxes, color='#777777', ha='right',\n",
    "# #             bbox=dict(facecolor='white', alpha=0.8, edgecolor='white'))\n",
    "#     plt.box(False)"
   ]
  },
  {
   "cell_type": "code",
   "execution_count": 42,
   "id": "sexual-wages",
   "metadata": {
    "execution": {
     "iopub.execute_input": "2022-06-19T00:41:52.013519Z",
     "iopub.status.busy": "2022-06-19T00:41:52.012851Z",
     "iopub.status.idle": "2022-06-19T00:41:52.015442Z",
     "shell.execute_reply": "2022-06-19T00:41:52.014909Z"
    },
    "papermill": {
     "duration": 0.036345,
     "end_time": "2022-06-19T00:41:52.015561",
     "exception": false,
     "start_time": "2022-06-19T00:41:51.979216",
     "status": "completed"
    },
    "tags": []
   },
   "outputs": [],
   "source": [
    "# #hide_input\n",
    "# fig, ax = plt.subplots(figsize=(15, 8))\n",
    "# animator = animation.FuncAnimation(fig, draw_barchart, frames=range(g.day.values.min(), g.day.values.max()))\n",
    "# HTML(animator.to_jshtml())\n",
    "# # or use animator.to_html5_video() or animator.save() "
   ]
  },
  {
   "cell_type": "code",
   "execution_count": null,
   "id": "australian-container",
   "metadata": {
    "papermill": {
     "duration": 0.03047,
     "end_time": "2022-06-19T00:41:52.077071",
     "exception": false,
     "start_time": "2022-06-19T00:41:52.046601",
     "status": "completed"
    },
    "tags": []
   },
   "outputs": [],
   "source": []
  },
  {
   "cell_type": "code",
   "execution_count": null,
   "id": "mediterranean-pontiac",
   "metadata": {
    "papermill": {
     "duration": 0.030437,
     "end_time": "2022-06-19T00:41:52.138176",
     "exception": false,
     "start_time": "2022-06-19T00:41:52.107739",
     "status": "completed"
    },
    "tags": []
   },
   "outputs": [],
   "source": []
  },
  {
   "cell_type": "code",
   "execution_count": null,
   "id": "aging-legislature",
   "metadata": {
    "papermill": {
     "duration": 0.030537,
     "end_time": "2022-06-19T00:41:52.199330",
     "exception": false,
     "start_time": "2022-06-19T00:41:52.168793",
     "status": "completed"
    },
    "tags": []
   },
   "outputs": [],
   "source": []
  }
 ],
 "metadata": {
  "kernelspec": {
   "display_name": "Python 3",
   "language": "python",
   "name": "python3"
  },
  "language_info": {
   "codemirror_mode": {
    "name": "ipython",
    "version": 3
   },
   "file_extension": ".py",
   "mimetype": "text/x-python",
   "name": "python",
   "nbconvert_exporter": "python",
   "pygments_lexer": "ipython3",
   "version": "3.6.15"
  },
  "papermill": {
   "duration": 6.082726,
   "end_time": "2022-06-19T00:41:52.549563",
   "environment_variables": {},
   "exception": null,
   "input_path": "2020-03-21-covid19exp.ipynb",
   "output_path": "2020-03-21-covid19exp.ipynb",
   "parameters": {},
   "start_time": "2022-06-19T00:41:46.466837",
   "version": "2.0.0"
  }
 },
 "nbformat": 4,
 "nbformat_minor": 5
}