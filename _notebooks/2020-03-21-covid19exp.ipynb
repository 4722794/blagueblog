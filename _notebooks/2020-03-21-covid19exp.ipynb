{
 "cells": [
  {
   "cell_type": "markdown",
   "id": "muslim-click",
   "metadata": {
    "papermill": {
     "duration": 0.046153,
     "end_time": "2021-04-15T12:05:20.903064",
     "exception": false,
     "start_time": "2021-04-15T12:05:20.856911",
     "status": "completed"
    },
    "tags": []
   },
   "source": [
    "# COVID-19 Case Race\n",
    "> A race chart to see rising cases around the world\n",
    "\n",
    "- author: Hargun Oberoi\n",
    "- image: images/covid-overview.png\n",
    "- hide: false\n",
    "- badges: false"
   ]
  },
  {
   "cell_type": "code",
   "execution_count": 1,
   "id": "proof-material",
   "metadata": {
    "execution": {
     "iopub.execute_input": "2021-04-15T12:05:20.999128Z",
     "iopub.status.busy": "2021-04-15T12:05:20.998385Z",
     "iopub.status.idle": "2021-04-15T12:05:21.386154Z",
     "shell.execute_reply": "2021-04-15T12:05:21.385589Z"
    },
    "papermill": {
     "duration": 0.441974,
     "end_time": "2021-04-15T12:05:21.386370",
     "exception": false,
     "start_time": "2021-04-15T12:05:20.944396",
     "status": "completed"
    },
    "tags": []
   },
   "outputs": [],
   "source": [
    "#hide\n",
    "import numpy as np\n",
    "import pandas as pd\n",
    "from jinja2 import Template\n",
    "from IPython.display import HTML"
   ]
  },
  {
   "cell_type": "code",
   "execution_count": 2,
   "id": "developed-terminology",
   "metadata": {
    "execution": {
     "iopub.execute_input": "2021-04-15T12:05:21.474583Z",
     "iopub.status.busy": "2021-04-15T12:05:21.473891Z",
     "iopub.status.idle": "2021-04-15T12:05:21.476722Z",
     "shell.execute_reply": "2021-04-15T12:05:21.477321Z"
    },
    "papermill": {
     "duration": 0.049926,
     "end_time": "2021-04-15T12:05:21.477518",
     "exception": false,
     "start_time": "2021-04-15T12:05:21.427592",
     "status": "completed"
    },
    "tags": []
   },
   "outputs": [],
   "source": [
    "#hide\n",
    "\n",
    "# FETCH\n",
    "base_url = 'https://raw.githubusercontent.com/pratapvardhan/notebooks/master/covid19/'\n",
    "paths = {\n",
    "    'mapping': base_url + 'mapping_countries.csv',\n",
    "    'overview': base_url + 'overview.tpl'\n",
    "}"
   ]
  },
  {
   "cell_type": "code",
   "execution_count": 3,
   "id": "dynamic-saver",
   "metadata": {
    "execution": {
     "iopub.execute_input": "2021-04-15T12:05:21.570485Z",
     "iopub.status.busy": "2021-04-15T12:05:21.569645Z",
     "iopub.status.idle": "2021-04-15T12:05:21.572270Z",
     "shell.execute_reply": "2021-04-15T12:05:21.572859Z"
    },
    "papermill": {
     "duration": 0.056009,
     "end_time": "2021-04-15T12:05:21.573023",
     "exception": false,
     "start_time": "2021-04-15T12:05:21.517014",
     "status": "completed"
    },
    "tags": []
   },
   "outputs": [
    {
     "data": {
      "text/plain": [
       "'https://raw.githubusercontent.com/pratapvardhan/notebooks/master/covid19/mapping_countries.csv'"
      ]
     },
     "execution_count": 3,
     "metadata": {},
     "output_type": "execute_result"
    }
   ],
   "source": [
    "#hide\n",
    "paths['mapping']"
   ]
  },
  {
   "cell_type": "code",
   "execution_count": 4,
   "id": "urban-software",
   "metadata": {
    "execution": {
     "iopub.execute_input": "2021-04-15T12:05:21.662157Z",
     "iopub.status.busy": "2021-04-15T12:05:21.661455Z",
     "iopub.status.idle": "2021-04-15T12:05:21.663226Z",
     "shell.execute_reply": "2021-04-15T12:05:21.663831Z"
    },
    "papermill": {
     "duration": 0.049416,
     "end_time": "2021-04-15T12:05:21.664015",
     "exception": false,
     "start_time": "2021-04-15T12:05:21.614599",
     "status": "completed"
    },
    "tags": []
   },
   "outputs": [],
   "source": [
    "#hide\n",
    "def get_mappings(url):\n",
    "    df = pd.read_csv(url)\n",
    "    return {\n",
    "        'df': df,\n",
    "        'replace.country': dict(df.dropna(subset=['Name']).set_index('Country')['Name']),\n",
    "        'map.continent': dict(df.set_index('Name')['Continent'])\n",
    "    }"
   ]
  },
  {
   "cell_type": "code",
   "execution_count": 5,
   "id": "intimate-machinery",
   "metadata": {
    "execution": {
     "iopub.execute_input": "2021-04-15T12:05:21.751715Z",
     "iopub.status.busy": "2021-04-15T12:05:21.751019Z",
     "iopub.status.idle": "2021-04-15T12:05:21.808440Z",
     "shell.execute_reply": "2021-04-15T12:05:21.807734Z"
    },
    "papermill": {
     "duration": 0.103816,
     "end_time": "2021-04-15T12:05:21.808594",
     "exception": false,
     "start_time": "2021-04-15T12:05:21.704778",
     "status": "completed"
    },
    "tags": []
   },
   "outputs": [],
   "source": [
    "#hide\n",
    "mapping = get_mappings(paths['mapping'])"
   ]
  },
  {
   "cell_type": "code",
   "execution_count": 6,
   "id": "certified-tactics",
   "metadata": {
    "execution": {
     "iopub.execute_input": "2021-04-15T12:05:21.896239Z",
     "iopub.status.busy": "2021-04-15T12:05:21.895444Z",
     "iopub.status.idle": "2021-04-15T12:05:21.897921Z",
     "shell.execute_reply": "2021-04-15T12:05:21.898606Z"
    },
    "papermill": {
     "duration": 0.04871,
     "end_time": "2021-04-15T12:05:21.898801",
     "exception": false,
     "start_time": "2021-04-15T12:05:21.850091",
     "status": "completed"
    },
    "tags": []
   },
   "outputs": [],
   "source": [
    "#hide\n",
    "def get_template(path):\n",
    "    from urllib.parse import urlparse\n",
    "    if bool(urlparse(path).netloc):\n",
    "        from urllib.request import urlopen\n",
    "        return urlopen(path).read().decode('utf8')\n",
    "    return open(path).read()"
   ]
  },
  {
   "cell_type": "code",
   "execution_count": 7,
   "id": "realistic-blast",
   "metadata": {
    "execution": {
     "iopub.execute_input": "2021-04-15T12:05:21.993099Z",
     "iopub.status.busy": "2021-04-15T12:05:21.992419Z",
     "iopub.status.idle": "2021-04-15T12:05:21.994916Z",
     "shell.execute_reply": "2021-04-15T12:05:21.994321Z"
    },
    "papermill": {
     "duration": 0.055692,
     "end_time": "2021-04-15T12:05:21.995058",
     "exception": false,
     "start_time": "2021-04-15T12:05:21.939366",
     "status": "completed"
    },
    "tags": []
   },
   "outputs": [],
   "source": [
    "#hide\n",
    "def get_frame(name):\n",
    "    url = (\n",
    "        'https://raw.githubusercontent.com/CSSEGISandData/COVID-19/master/csse_covid_19_data/'\n",
    "        f'csse_covid_19_time_series/time_series_covid19_{name}_global.csv')\n",
    "    df = pd.read_csv(url)\n",
    "    # rename countries\n",
    "    df['Country/Region'] = df['Country/Region'].replace(mapping['replace.country'])\n",
    "    return df"
   ]
  },
  {
   "cell_type": "code",
   "execution_count": 8,
   "id": "affiliated-characterization",
   "metadata": {
    "execution": {
     "iopub.execute_input": "2021-04-15T12:05:22.085988Z",
     "iopub.status.busy": "2021-04-15T12:05:22.085325Z",
     "iopub.status.idle": "2021-04-15T12:05:22.087872Z",
     "shell.execute_reply": "2021-04-15T12:05:22.087336Z"
    },
    "papermill": {
     "duration": 0.050408,
     "end_time": "2021-04-15T12:05:22.088048",
     "exception": false,
     "start_time": "2021-04-15T12:05:22.037640",
     "status": "completed"
    },
    "tags": []
   },
   "outputs": [],
   "source": [
    "#hide\n",
    "def get_dates(df):\n",
    "    dt_cols = df.columns[~df.columns.isin(['Province/State', 'Country/Region', 'Lat', 'Long'])]\n",
    "    LAST_DATE_I = -1\n",
    "    # sometimes last column may be empty, then go backwards\n",
    "    for i in range(-1, -len(dt_cols), -1):\n",
    "        if not df[dt_cols[i]].fillna(0).eq(0).all():\n",
    "            LAST_DATE_I = i\n",
    "            break\n",
    "    return LAST_DATE_I, dt_cols"
   ]
  },
  {
   "cell_type": "code",
   "execution_count": 9,
   "id": "recent-optimization",
   "metadata": {
    "execution": {
     "iopub.execute_input": "2021-04-15T12:05:22.174188Z",
     "iopub.status.busy": "2021-04-15T12:05:22.173522Z",
     "iopub.status.idle": "2021-04-15T12:05:22.636128Z",
     "shell.execute_reply": "2021-04-15T12:05:22.634926Z"
    },
    "papermill": {
     "duration": 0.507456,
     "end_time": "2021-04-15T12:05:22.636284",
     "exception": false,
     "start_time": "2021-04-15T12:05:22.128828",
     "status": "completed"
    },
    "tags": []
   },
   "outputs": [],
   "source": [
    "#hide\n",
    "COL_REGION = 'Country/Region'\n",
    "# Confirmed, Recovered, Deaths\n",
    "df = get_frame('confirmed')\n",
    "# dft_: timeseries, dfc_: today country agg\n",
    "dft_cases = df\n",
    "dft_deaths = get_frame('deaths')\n",
    "dft_recovered = get_frame('recovered')\n",
    "LAST_DATE_I, dt_cols = get_dates(df)"
   ]
  },
  {
   "cell_type": "code",
   "execution_count": 10,
   "id": "absolute-copper",
   "metadata": {
    "execution": {
     "iopub.execute_input": "2021-04-15T12:05:22.724373Z",
     "iopub.status.busy": "2021-04-15T12:05:22.723675Z",
     "iopub.status.idle": "2021-04-15T12:05:22.726323Z",
     "shell.execute_reply": "2021-04-15T12:05:22.725716Z"
    },
    "papermill": {
     "duration": 0.049778,
     "end_time": "2021-04-15T12:05:22.726462",
     "exception": false,
     "start_time": "2021-04-15T12:05:22.676684",
     "status": "completed"
    },
    "tags": []
   },
   "outputs": [],
   "source": [
    "#hide\n",
    "LAST_DATE_I, dt_cols = get_dates(df)\n",
    "dt_today =dt_cols[LAST_DATE_I]\n",
    "# dt_5day = dt_cols[LAST_DATE_I - 5]\n",
    "dt_yday = dt_cols[LAST_DATE_I - 1]"
   ]
  },
  {
   "cell_type": "code",
   "execution_count": 11,
   "id": "restricted-sheriff",
   "metadata": {
    "execution": {
     "iopub.execute_input": "2021-04-15T12:05:22.824209Z",
     "iopub.status.busy": "2021-04-15T12:05:22.822499Z",
     "iopub.status.idle": "2021-04-15T12:05:22.829991Z",
     "shell.execute_reply": "2021-04-15T12:05:22.830624Z"
    },
    "papermill": {
     "duration": 0.058834,
     "end_time": "2021-04-15T12:05:22.830784",
     "exception": false,
     "start_time": "2021-04-15T12:05:22.771950",
     "status": "completed"
    },
    "tags": []
   },
   "outputs": [],
   "source": [
    "#hide\n",
    "dfc_cases = dft_cases.groupby(COL_REGION)[dt_today].sum()\n",
    "dfc_deaths = dft_deaths.groupby(COL_REGION)[dt_today].sum()\n",
    "# dfp_cases = dft_cases.groupby(COL_REGION)[dt_5day].sum()\n",
    "# dfp_deaths = dft_deaths.groupby(COL_REGION)[dt_5day].sum()\n",
    "dfp_cases = dft_cases.groupby(COL_REGION)[dt_yday].sum()\n",
    "dfp_deaths = dft_deaths.groupby(COL_REGION)[dt_yday].sum()"
   ]
  },
  {
   "cell_type": "code",
   "execution_count": 12,
   "id": "deluxe-hepatitis",
   "metadata": {
    "execution": {
     "iopub.execute_input": "2021-04-15T12:05:22.925275Z",
     "iopub.status.busy": "2021-04-15T12:05:22.924592Z",
     "iopub.status.idle": "2021-04-15T12:05:22.927307Z",
     "shell.execute_reply": "2021-04-15T12:05:22.928070Z"
    },
    "papermill": {
     "duration": 0.055198,
     "end_time": "2021-04-15T12:05:22.928236",
     "exception": false,
     "start_time": "2021-04-15T12:05:22.873038",
     "status": "completed"
    },
    "tags": []
   },
   "outputs": [],
   "source": [
    "#hide\n",
    "df_table = (pd.DataFrame(dict(Cases = dfc_cases, Deaths = dfc_deaths, PCases = dfp_cases, PDeaths = dfp_deaths))\n",
    "            .sort_values(by = ['Cases','Deaths'], ascending = [False, False])\n",
    "            .reset_index())"
   ]
  },
  {
   "cell_type": "code",
   "execution_count": 13,
   "id": "educational-chancellor",
   "metadata": {
    "execution": {
     "iopub.execute_input": "2021-04-15T12:05:23.037053Z",
     "iopub.status.busy": "2021-04-15T12:05:23.036325Z",
     "iopub.status.idle": "2021-04-15T12:05:23.046332Z",
     "shell.execute_reply": "2021-04-15T12:05:23.045803Z"
    },
    "papermill": {
     "duration": 0.075084,
     "end_time": "2021-04-15T12:05:23.046465",
     "exception": false,
     "start_time": "2021-04-15T12:05:22.971381",
     "status": "completed"
    },
    "tags": []
   },
   "outputs": [
    {
     "data": {
      "text/html": [
       "<div>\n",
       "<style scoped>\n",
       "    .dataframe tbody tr th:only-of-type {\n",
       "        vertical-align: middle;\n",
       "    }\n",
       "\n",
       "    .dataframe tbody tr th {\n",
       "        vertical-align: top;\n",
       "    }\n",
       "\n",
       "    .dataframe thead th {\n",
       "        text-align: right;\n",
       "    }\n",
       "</style>\n",
       "<table border=\"1\" class=\"dataframe\">\n",
       "  <thead>\n",
       "    <tr style=\"text-align: right;\">\n",
       "      <th></th>\n",
       "      <th>Country/Region</th>\n",
       "      <th>Cases</th>\n",
       "      <th>Deaths</th>\n",
       "      <th>PCases</th>\n",
       "      <th>PDeaths</th>\n",
       "      <th>Cases (+)</th>\n",
       "      <th>Deaths (+)</th>\n",
       "      <th>Fatality Rate</th>\n",
       "      <th>Continent</th>\n",
       "    </tr>\n",
       "  </thead>\n",
       "  <tbody>\n",
       "    <tr>\n",
       "      <th>0</th>\n",
       "      <td>US</td>\n",
       "      <td>31421360</td>\n",
       "      <td>564402</td>\n",
       "      <td>31345985</td>\n",
       "      <td>563446</td>\n",
       "      <td>75375</td>\n",
       "      <td>956</td>\n",
       "      <td>1.80</td>\n",
       "      <td>North America</td>\n",
       "    </tr>\n",
       "    <tr>\n",
       "      <th>1</th>\n",
       "      <td>India</td>\n",
       "      <td>14074564</td>\n",
       "      <td>173123</td>\n",
       "      <td>13873825</td>\n",
       "      <td>172085</td>\n",
       "      <td>200739</td>\n",
       "      <td>1038</td>\n",
       "      <td>1.23</td>\n",
       "      <td>Asia</td>\n",
       "    </tr>\n",
       "    <tr>\n",
       "      <th>2</th>\n",
       "      <td>Brazil</td>\n",
       "      <td>13673507</td>\n",
       "      <td>361884</td>\n",
       "      <td>13599994</td>\n",
       "      <td>358425</td>\n",
       "      <td>73513</td>\n",
       "      <td>3459</td>\n",
       "      <td>2.65</td>\n",
       "      <td>South America</td>\n",
       "    </tr>\n",
       "    <tr>\n",
       "      <th>3</th>\n",
       "      <td>France</td>\n",
       "      <td>5210772</td>\n",
       "      <td>99936</td>\n",
       "      <td>5167265</td>\n",
       "      <td>99639</td>\n",
       "      <td>43507</td>\n",
       "      <td>297</td>\n",
       "      <td>1.92</td>\n",
       "      <td>Europe</td>\n",
       "    </tr>\n",
       "    <tr>\n",
       "      <th>4</th>\n",
       "      <td>Russia</td>\n",
       "      <td>4613646</td>\n",
       "      <td>102275</td>\n",
       "      <td>4605444</td>\n",
       "      <td>101882</td>\n",
       "      <td>8202</td>\n",
       "      <td>393</td>\n",
       "      <td>2.22</td>\n",
       "      <td>Europe</td>\n",
       "    </tr>\n",
       "  </tbody>\n",
       "</table>\n",
       "</div>"
      ],
      "text/plain": [
       "  Country/Region     Cases  Deaths    PCases  PDeaths  Cases (+)  Deaths (+)  \\\n",
       "0             US  31421360  564402  31345985   563446      75375         956   \n",
       "1          India  14074564  173123  13873825   172085     200739        1038   \n",
       "2         Brazil  13673507  361884  13599994   358425      73513        3459   \n",
       "3         France   5210772   99936   5167265    99639      43507         297   \n",
       "4         Russia   4613646  102275   4605444   101882       8202         393   \n",
       "\n",
       "   Fatality Rate      Continent  \n",
       "0           1.80  North America  \n",
       "1           1.23           Asia  \n",
       "2           2.65  South America  \n",
       "3           1.92         Europe  \n",
       "4           2.22         Europe  "
      ]
     },
     "execution_count": 13,
     "metadata": {},
     "output_type": "execute_result"
    }
   ],
   "source": [
    "#hide\n",
    "for c in 'Cases, Deaths'.split(', '):\n",
    "    df_table[f'{c} (+)'] = (df_table[c] - df_table[f'P{c}']).clip(0)\n",
    "    #Clip ça veut dire, les chiffres negatif sont interdit\n",
    "df_table['Fatality Rate'] = (100* df_table['Deaths']/ df_table['Cases']).round(2)\n",
    "df_table['Continent'] = df_table['Country/Region'].map(mapping['map.continent'])\n",
    "df_table.head(5)"
   ]
  },
  {
   "cell_type": "code",
   "execution_count": 14,
   "id": "aboriginal-bulgaria",
   "metadata": {
    "execution": {
     "iopub.execute_input": "2021-04-15T12:05:23.142691Z",
     "iopub.status.busy": "2021-04-15T12:05:23.141908Z",
     "iopub.status.idle": "2021-04-15T12:05:23.144559Z",
     "shell.execute_reply": "2021-04-15T12:05:23.143865Z"
    },
    "papermill": {
     "duration": 0.052125,
     "end_time": "2021-04-15T12:05:23.144701",
     "exception": false,
     "start_time": "2021-04-15T12:05:23.092576",
     "status": "completed"
    },
    "tags": []
   },
   "outputs": [],
   "source": [
    "#hide\n",
    "#delete problematic countries from table\n",
    "df_table = df_table[~df_table['Country/Region'].isin(['Cape Verde', 'Cruise Ship', 'Kosovo'])]"
   ]
  },
  {
   "cell_type": "code",
   "execution_count": 15,
   "id": "fantastic-effect",
   "metadata": {
    "execution": {
     "iopub.execute_input": "2021-04-15T12:05:23.238909Z",
     "iopub.status.busy": "2021-04-15T12:05:23.238134Z",
     "iopub.status.idle": "2021-04-15T12:05:23.261582Z",
     "shell.execute_reply": "2021-04-15T12:05:23.260969Z"
    },
    "papermill": {
     "duration": 0.074146,
     "end_time": "2021-04-15T12:05:23.261732",
     "exception": false,
     "start_time": "2021-04-15T12:05:23.187586",
     "status": "completed"
    },
    "tags": []
   },
   "outputs": [
    {
     "data": {
      "text/html": [
       "<div>\n",
       "<style scoped>\n",
       "    .dataframe tbody tr th:only-of-type {\n",
       "        vertical-align: middle;\n",
       "    }\n",
       "\n",
       "    .dataframe tbody tr th {\n",
       "        vertical-align: top;\n",
       "    }\n",
       "\n",
       "    .dataframe thead th {\n",
       "        text-align: right;\n",
       "    }\n",
       "</style>\n",
       "<table border=\"1\" class=\"dataframe\">\n",
       "  <thead>\n",
       "    <tr style=\"text-align: right;\">\n",
       "      <th></th>\n",
       "      <th>Country/Region</th>\n",
       "      <th>Cases</th>\n",
       "      <th>Deaths</th>\n",
       "      <th>PCases</th>\n",
       "      <th>PDeaths</th>\n",
       "      <th>Cases (+)</th>\n",
       "      <th>Deaths (+)</th>\n",
       "      <th>Fatality Rate</th>\n",
       "      <th>Continent</th>\n",
       "    </tr>\n",
       "  </thead>\n",
       "  <tbody>\n",
       "    <tr>\n",
       "      <th>0</th>\n",
       "      <td>US</td>\n",
       "      <td>31421360</td>\n",
       "      <td>564402</td>\n",
       "      <td>31345985</td>\n",
       "      <td>563446</td>\n",
       "      <td>75375</td>\n",
       "      <td>956</td>\n",
       "      <td>1.8</td>\n",
       "      <td>North America</td>\n",
       "    </tr>\n",
       "    <tr>\n",
       "      <th>1</th>\n",
       "      <td>India</td>\n",
       "      <td>14074564</td>\n",
       "      <td>173123</td>\n",
       "      <td>13873825</td>\n",
       "      <td>172085</td>\n",
       "      <td>200739</td>\n",
       "      <td>1038</td>\n",
       "      <td>1.2</td>\n",
       "      <td>Asia</td>\n",
       "    </tr>\n",
       "    <tr>\n",
       "      <th>2</th>\n",
       "      <td>Brazil</td>\n",
       "      <td>13673507</td>\n",
       "      <td>361884</td>\n",
       "      <td>13599994</td>\n",
       "      <td>358425</td>\n",
       "      <td>73513</td>\n",
       "      <td>3459</td>\n",
       "      <td>2.6</td>\n",
       "      <td>South America</td>\n",
       "    </tr>\n",
       "    <tr>\n",
       "      <th>3</th>\n",
       "      <td>France</td>\n",
       "      <td>5210772</td>\n",
       "      <td>99936</td>\n",
       "      <td>5167265</td>\n",
       "      <td>99639</td>\n",
       "      <td>43507</td>\n",
       "      <td>297</td>\n",
       "      <td>1.9</td>\n",
       "      <td>Europe</td>\n",
       "    </tr>\n",
       "    <tr>\n",
       "      <th>4</th>\n",
       "      <td>Russia</td>\n",
       "      <td>4613646</td>\n",
       "      <td>102275</td>\n",
       "      <td>4605444</td>\n",
       "      <td>101882</td>\n",
       "      <td>8202</td>\n",
       "      <td>393</td>\n",
       "      <td>2.2</td>\n",
       "      <td>Europe</td>\n",
       "    </tr>\n",
       "  </tbody>\n",
       "</table>\n",
       "</div>"
      ],
      "text/plain": [
       "  Country/Region     Cases  Deaths    PCases  PDeaths  Cases (+)  Deaths (+)  \\\n",
       "0             US  31421360  564402  31345985   563446      75375         956   \n",
       "1          India  14074564  173123  13873825   172085     200739        1038   \n",
       "2         Brazil  13673507  361884  13599994   358425      73513        3459   \n",
       "3         France   5210772   99936   5167265    99639      43507         297   \n",
       "4         Russia   4613646  102275   4605444   101882       8202         393   \n",
       "\n",
       "   Fatality Rate      Continent  \n",
       "0            1.8  North America  \n",
       "1            1.2           Asia  \n",
       "2            2.6  South America  \n",
       "3            1.9         Europe  \n",
       "4            2.2         Europe  "
      ]
     },
     "execution_count": 15,
     "metadata": {},
     "output_type": "execute_result"
    }
   ],
   "source": [
    "#hide\n",
    "df_table = (pd.DataFrame(dict(Cases=dfc_cases, Deaths=dfc_deaths, PCases=dfp_cases, PDeaths=dfp_deaths))\n",
    "             .sort_values(by=['Cases', 'Deaths'], ascending=[False, False])\n",
    "             .reset_index())\n",
    "df_table.rename(columns={'index': 'Country/Region'}, inplace=True)\n",
    "for c in 'Cases, Deaths'.split(', '):\n",
    "    df_table[f'{c} (+)'] = (df_table[c] - df_table[f'P{c}']).clip(0)  # DATA BUG\n",
    "df_table['Fatality Rate'] = (100 * df_table['Deaths'] / df_table['Cases']).round(1)\n",
    "df_table['Continent'] = df_table['Country/Region'].map(mapping['map.continent'])\n",
    "df_table.head(5)"
   ]
  },
  {
   "cell_type": "code",
   "execution_count": 16,
   "id": "fewer-occasion",
   "metadata": {
    "execution": {
     "iopub.execute_input": "2021-04-15T12:05:23.353054Z",
     "iopub.status.busy": "2021-04-15T12:05:23.352354Z",
     "iopub.status.idle": "2021-04-15T12:05:23.354687Z",
     "shell.execute_reply": "2021-04-15T12:05:23.355374Z"
    },
    "papermill": {
     "duration": 0.052236,
     "end_time": "2021-04-15T12:05:23.355546",
     "exception": false,
     "start_time": "2021-04-15T12:05:23.303310",
     "status": "completed"
    },
    "tags": []
   },
   "outputs": [],
   "source": [
    "#hide\n",
    "#delete problematic countries from table\n",
    "df_table = df_table[~df_table['Country/Region'].isin(['Cape Verde', 'Cruise Ship', 'Kosovo'])]"
   ]
  },
  {
   "cell_type": "code",
   "execution_count": 17,
   "id": "related-center",
   "metadata": {
    "execution": {
     "iopub.execute_input": "2021-04-15T12:05:23.460075Z",
     "iopub.status.busy": "2021-04-15T12:05:23.459295Z",
     "iopub.status.idle": "2021-04-15T12:05:23.461811Z",
     "shell.execute_reply": "2021-04-15T12:05:23.461131Z"
    },
    "papermill": {
     "duration": 0.065799,
     "end_time": "2021-04-15T12:05:23.461959",
     "exception": false,
     "start_time": "2021-04-15T12:05:23.396160",
     "status": "completed"
    },
    "tags": []
   },
   "outputs": [],
   "source": [
    "#hide\n",
    "metrics = [df_table.columns[index] for index in [1,2,5,6]]\n",
    "# s_china = df_table[df_table['Country/Region'].eq('China')][metrics].sum().add_prefix('China ')\n",
    "s_us = df_table[df_table['Country/Region'].eq('US')][metrics].sum().add_prefix('US ')\n",
    "s_eu = df_table[df_table['Continent'].eq('Europe')][metrics].sum().add_prefix('EU ')\n",
    "s_ind = df_table[df_table['Country/Region'].eq('India')][metrics].sum().add_prefix('India ')\n",
    "summary = {'updated': pd.to_datetime(dt_today), 'since': pd.to_datetime(dt_yday)}\n",
    "summary = {'updated': pd.to_datetime(dt_today), 'since': pd.to_datetime(dt_yday)}\n",
    "summary = {**summary, **df_table[metrics].sum(), **s_ind, **s_us, **s_eu}"
   ]
  },
  {
   "cell_type": "code",
   "execution_count": 18,
   "id": "engaging-syndrome",
   "metadata": {
    "execution": {
     "iopub.execute_input": "2021-04-15T12:05:23.549133Z",
     "iopub.status.busy": "2021-04-15T12:05:23.548521Z",
     "iopub.status.idle": "2021-04-15T12:05:23.560777Z",
     "shell.execute_reply": "2021-04-15T12:05:23.561315Z"
    },
    "papermill": {
     "duration": 0.058926,
     "end_time": "2021-04-15T12:05:23.561475",
     "exception": false,
     "start_time": "2021-04-15T12:05:23.502549",
     "status": "completed"
    },
    "tags": []
   },
   "outputs": [],
   "source": [
    "#hide\n",
    "dft_ct_new_cases = dft_cases.groupby(COL_REGION)[dt_cols].sum().diff(axis=1).fillna(0).astype(int)"
   ]
  },
  {
   "cell_type": "code",
   "execution_count": 19,
   "id": "neutral-assignment",
   "metadata": {
    "execution": {
     "iopub.execute_input": "2021-04-15T12:05:23.649584Z",
     "iopub.status.busy": "2021-04-15T12:05:23.648873Z",
     "iopub.status.idle": "2021-04-15T12:05:23.651775Z",
     "shell.execute_reply": "2021-04-15T12:05:23.651028Z"
    },
    "papermill": {
     "duration": 0.051065,
     "end_time": "2021-04-15T12:05:23.652003",
     "exception": false,
     "start_time": "2021-04-15T12:05:23.600938",
     "status": "completed"
    },
    "tags": []
   },
   "outputs": [],
   "source": [
    "#hide\n",
    "everydaycases = dft_ct_new_cases.cumsum(axis=1)"
   ]
  },
  {
   "cell_type": "code",
   "execution_count": 20,
   "id": "parliamentary-calgary",
   "metadata": {
    "execution": {
     "iopub.execute_input": "2021-04-15T12:05:23.741000Z",
     "iopub.status.busy": "2021-04-15T12:05:23.740311Z",
     "iopub.status.idle": "2021-04-15T12:05:24.402596Z",
     "shell.execute_reply": "2021-04-15T12:05:24.401947Z"
    },
    "papermill": {
     "duration": 0.708987,
     "end_time": "2021-04-15T12:05:24.402768",
     "exception": false,
     "start_time": "2021-04-15T12:05:23.693781",
     "status": "completed"
    },
    "tags": []
   },
   "outputs": [],
   "source": [
    "#hide\n",
    "import pandas as pd\n",
    "import matplotlib.pyplot as plt\n",
    "import matplotlib.ticker as ticker\n",
    "import matplotlib.animation as animation\n",
    "from IPython.display import HTML"
   ]
  },
  {
   "cell_type": "code",
   "execution_count": 21,
   "id": "lasting-extraction",
   "metadata": {
    "execution": {
     "iopub.execute_input": "2021-04-15T12:05:24.495409Z",
     "iopub.status.busy": "2021-04-15T12:05:24.494637Z",
     "iopub.status.idle": "2021-04-15T12:05:24.501819Z",
     "shell.execute_reply": "2021-04-15T12:05:24.501173Z"
    },
    "papermill": {
     "duration": 0.056659,
     "end_time": "2021-04-15T12:05:24.501989",
     "exception": false,
     "start_time": "2021-04-15T12:05:24.445330",
     "status": "completed"
    },
    "tags": []
   },
   "outputs": [],
   "source": [
    "#hide\n",
    "t = everydaycases.stack()"
   ]
  },
  {
   "cell_type": "code",
   "execution_count": 22,
   "id": "premier-sleeve",
   "metadata": {
    "execution": {
     "iopub.execute_input": "2021-04-15T12:05:24.592320Z",
     "iopub.status.busy": "2021-04-15T12:05:24.591620Z",
     "iopub.status.idle": "2021-04-15T12:05:24.600538Z",
     "shell.execute_reply": "2021-04-15T12:05:24.599968Z"
    },
    "papermill": {
     "duration": 0.056291,
     "end_time": "2021-04-15T12:05:24.600702",
     "exception": false,
     "start_time": "2021-04-15T12:05:24.544411",
     "status": "completed"
    },
    "tags": []
   },
   "outputs": [],
   "source": [
    "#hide\n",
    "g = t.reset_index(['Country/Region'])"
   ]
  },
  {
   "cell_type": "code",
   "execution_count": 23,
   "id": "distributed-pittsburgh",
   "metadata": {
    "execution": {
     "iopub.execute_input": "2021-04-15T12:05:24.690174Z",
     "iopub.status.busy": "2021-04-15T12:05:24.688751Z",
     "iopub.status.idle": "2021-04-15T12:05:24.690923Z",
     "shell.execute_reply": "2021-04-15T12:05:24.691465Z"
    },
    "papermill": {
     "duration": 0.049165,
     "end_time": "2021-04-15T12:05:24.691663",
     "exception": false,
     "start_time": "2021-04-15T12:05:24.642498",
     "status": "completed"
    },
    "tags": []
   },
   "outputs": [],
   "source": [
    "#hide\n",
    "g.index.name = 'date'"
   ]
  },
  {
   "cell_type": "code",
   "execution_count": 24,
   "id": "naked-donor",
   "metadata": {
    "execution": {
     "iopub.execute_input": "2021-04-15T12:05:24.781846Z",
     "iopub.status.busy": "2021-04-15T12:05:24.781078Z",
     "iopub.status.idle": "2021-04-15T12:05:24.785072Z",
     "shell.execute_reply": "2021-04-15T12:05:24.785714Z"
    },
    "papermill": {
     "duration": 0.051121,
     "end_time": "2021-04-15T12:05:24.785886",
     "exception": false,
     "start_time": "2021-04-15T12:05:24.734765",
     "status": "completed"
    },
    "tags": []
   },
   "outputs": [],
   "source": [
    "# #hide\n",
    "# g = g.reset_index(['date'])"
   ]
  },
  {
   "cell_type": "code",
   "execution_count": 25,
   "id": "incomplete-mustang",
   "metadata": {
    "execution": {
     "iopub.execute_input": "2021-04-15T12:05:24.874545Z",
     "iopub.status.busy": "2021-04-15T12:05:24.873864Z",
     "iopub.status.idle": "2021-04-15T12:05:24.875748Z",
     "shell.execute_reply": "2021-04-15T12:05:24.876461Z"
    },
    "papermill": {
     "duration": 0.048438,
     "end_time": "2021-04-15T12:05:24.876625",
     "exception": false,
     "start_time": "2021-04-15T12:05:24.828187",
     "status": "completed"
    },
    "tags": []
   },
   "outputs": [],
   "source": [
    "#hide\n",
    "# g.head()"
   ]
  },
  {
   "cell_type": "code",
   "execution_count": 26,
   "id": "specific-kruger",
   "metadata": {
    "execution": {
     "iopub.execute_input": "2021-04-15T12:05:24.968188Z",
     "iopub.status.busy": "2021-04-15T12:05:24.967450Z",
     "iopub.status.idle": "2021-04-15T12:05:24.969508Z",
     "shell.execute_reply": "2021-04-15T12:05:24.970123Z"
    },
    "papermill": {
     "duration": 0.048942,
     "end_time": "2021-04-15T12:05:24.970287",
     "exception": false,
     "start_time": "2021-04-15T12:05:24.921345",
     "status": "completed"
    },
    "tags": []
   },
   "outputs": [],
   "source": [
    "#hide\n",
    "# g.columns = ['date','country','cases']"
   ]
  },
  {
   "cell_type": "code",
   "execution_count": 27,
   "id": "tender-conversion",
   "metadata": {
    "execution": {
     "iopub.execute_input": "2021-04-15T12:05:25.062955Z",
     "iopub.status.busy": "2021-04-15T12:05:25.061697Z",
     "iopub.status.idle": "2021-04-15T12:05:25.064467Z",
     "shell.execute_reply": "2021-04-15T12:05:25.065213Z"
    },
    "papermill": {
     "duration": 0.053099,
     "end_time": "2021-04-15T12:05:25.065374",
     "exception": false,
     "start_time": "2021-04-15T12:05:25.012275",
     "status": "completed"
    },
    "tags": []
   },
   "outputs": [],
   "source": [
    "#hide\n",
    "# g['continent'] = g.country"
   ]
  },
  {
   "cell_type": "code",
   "execution_count": 28,
   "id": "substantial-wilderness",
   "metadata": {
    "execution": {
     "iopub.execute_input": "2021-04-15T12:05:25.159652Z",
     "iopub.status.busy": "2021-04-15T12:05:25.158972Z",
     "iopub.status.idle": "2021-04-15T12:05:25.161296Z",
     "shell.execute_reply": "2021-04-15T12:05:25.161819Z"
    },
    "papermill": {
     "duration": 0.048799,
     "end_time": "2021-04-15T12:05:25.162011",
     "exception": false,
     "start_time": "2021-04-15T12:05:25.113212",
     "status": "completed"
    },
    "tags": []
   },
   "outputs": [],
   "source": [
    "#hide\n",
    "# cols = list(g.columns.values)"
   ]
  },
  {
   "cell_type": "code",
   "execution_count": 29,
   "id": "solved-farming",
   "metadata": {
    "execution": {
     "iopub.execute_input": "2021-04-15T12:05:25.248676Z",
     "iopub.status.busy": "2021-04-15T12:05:25.247925Z",
     "iopub.status.idle": "2021-04-15T12:05:25.250556Z",
     "shell.execute_reply": "2021-04-15T12:05:25.249873Z"
    },
    "papermill": {
     "duration": 0.048529,
     "end_time": "2021-04-15T12:05:25.250707",
     "exception": false,
     "start_time": "2021-04-15T12:05:25.202178",
     "status": "completed"
    },
    "tags": []
   },
   "outputs": [],
   "source": [
    "#hide\n",
    "# cols.insert(0, cols.pop())"
   ]
  },
  {
   "cell_type": "code",
   "execution_count": 30,
   "id": "executed-adoption",
   "metadata": {
    "execution": {
     "iopub.execute_input": "2021-04-15T12:05:25.337137Z",
     "iopub.status.busy": "2021-04-15T12:05:25.336480Z",
     "iopub.status.idle": "2021-04-15T12:05:25.338858Z",
     "shell.execute_reply": "2021-04-15T12:05:25.338206Z"
    },
    "papermill": {
     "duration": 0.047419,
     "end_time": "2021-04-15T12:05:25.338992",
     "exception": false,
     "start_time": "2021-04-15T12:05:25.291573",
     "status": "completed"
    },
    "tags": []
   },
   "outputs": [],
   "source": [
    "#hide\n",
    "# g = g[cols]"
   ]
  },
  {
   "cell_type": "code",
   "execution_count": 31,
   "id": "subject-dublin",
   "metadata": {
    "execution": {
     "iopub.execute_input": "2021-04-15T12:05:25.422720Z",
     "iopub.status.busy": "2021-04-15T12:05:25.422060Z",
     "iopub.status.idle": "2021-04-15T12:05:25.423957Z",
     "shell.execute_reply": "2021-04-15T12:05:25.424510Z"
    },
    "papermill": {
     "duration": 0.045916,
     "end_time": "2021-04-15T12:05:25.424660",
     "exception": false,
     "start_time": "2021-04-15T12:05:25.378744",
     "status": "completed"
    },
    "tags": []
   },
   "outputs": [],
   "source": [
    "#hide\n",
    "# g['continent'] = g['continent'].map(mapping['map.continent'])"
   ]
  },
  {
   "cell_type": "code",
   "execution_count": 32,
   "id": "freelance-scout",
   "metadata": {
    "execution": {
     "iopub.execute_input": "2021-04-15T12:05:25.509110Z",
     "iopub.status.busy": "2021-04-15T12:05:25.507870Z",
     "iopub.status.idle": "2021-04-15T12:05:25.509940Z",
     "shell.execute_reply": "2021-04-15T12:05:25.510487Z"
    },
    "papermill": {
     "duration": 0.047798,
     "end_time": "2021-04-15T12:05:25.510679",
     "exception": false,
     "start_time": "2021-04-15T12:05:25.462881",
     "status": "completed"
    },
    "tags": []
   },
   "outputs": [],
   "source": [
    "#hide\n",
    "# g.head()"
   ]
  },
  {
   "cell_type": "code",
   "execution_count": 33,
   "id": "limited-engine",
   "metadata": {
    "execution": {
     "iopub.execute_input": "2021-04-15T12:05:25.598516Z",
     "iopub.status.busy": "2021-04-15T12:05:25.597722Z",
     "iopub.status.idle": "2021-04-15T12:05:25.600357Z",
     "shell.execute_reply": "2021-04-15T12:05:25.599656Z"
    },
    "papermill": {
     "duration": 0.046674,
     "end_time": "2021-04-15T12:05:25.600504",
     "exception": false,
     "start_time": "2021-04-15T12:05:25.553830",
     "status": "completed"
    },
    "tags": []
   },
   "outputs": [],
   "source": [
    "# hide\n",
    "# g['date'] = g['date'].astype('datetime64[ns]')"
   ]
  },
  {
   "cell_type": "code",
   "execution_count": 34,
   "id": "sophisticated-supervisor",
   "metadata": {
    "execution": {
     "iopub.execute_input": "2021-04-15T12:05:25.688990Z",
     "iopub.status.busy": "2021-04-15T12:05:25.688331Z",
     "iopub.status.idle": "2021-04-15T12:05:25.690905Z",
     "shell.execute_reply": "2021-04-15T12:05:25.690329Z"
    },
    "papermill": {
     "duration": 0.048964,
     "end_time": "2021-04-15T12:05:25.691047",
     "exception": false,
     "start_time": "2021-04-15T12:05:25.642083",
     "status": "completed"
    },
    "tags": []
   },
   "outputs": [],
   "source": [
    "#hide\n",
    "# g['date'] = g.date.dt.dayofyear"
   ]
  },
  {
   "cell_type": "code",
   "execution_count": 35,
   "id": "inside-dubai",
   "metadata": {
    "execution": {
     "iopub.execute_input": "2021-04-15T12:05:25.778021Z",
     "iopub.status.busy": "2021-04-15T12:05:25.777355Z",
     "iopub.status.idle": "2021-04-15T12:05:25.779368Z",
     "shell.execute_reply": "2021-04-15T12:05:25.779931Z"
    },
    "papermill": {
     "duration": 0.047738,
     "end_time": "2021-04-15T12:05:25.780104",
     "exception": false,
     "start_time": "2021-04-15T12:05:25.732366",
     "status": "completed"
    },
    "tags": []
   },
   "outputs": [],
   "source": [
    "#hide\n",
    "# g = g.rename(columns= {'continent':'group','country':'name','cases':'value'})"
   ]
  },
  {
   "cell_type": "code",
   "execution_count": 36,
   "id": "fleet-motorcycle",
   "metadata": {
    "execution": {
     "iopub.execute_input": "2021-04-15T12:05:25.866828Z",
     "iopub.status.busy": "2021-04-15T12:05:25.866145Z",
     "iopub.status.idle": "2021-04-15T12:05:25.868613Z",
     "shell.execute_reply": "2021-04-15T12:05:25.868034Z"
    },
    "papermill": {
     "duration": 0.046838,
     "end_time": "2021-04-15T12:05:25.868760",
     "exception": false,
     "start_time": "2021-04-15T12:05:25.821922",
     "status": "completed"
    },
    "tags": []
   },
   "outputs": [],
   "source": [
    "#hide\n",
    "# cols = ['name','group','day','value']"
   ]
  },
  {
   "cell_type": "code",
   "execution_count": 37,
   "id": "continued-sleeping",
   "metadata": {
    "execution": {
     "iopub.execute_input": "2021-04-15T12:05:25.956104Z",
     "iopub.status.busy": "2021-04-15T12:05:25.955367Z",
     "iopub.status.idle": "2021-04-15T12:05:25.957597Z",
     "shell.execute_reply": "2021-04-15T12:05:25.958125Z"
    },
    "papermill": {
     "duration": 0.049635,
     "end_time": "2021-04-15T12:05:25.958284",
     "exception": false,
     "start_time": "2021-04-15T12:05:25.908649",
     "status": "completed"
    },
    "tags": []
   },
   "outputs": [],
   "source": [
    "#hide\n",
    "# g.rename(columns= {'date':'day'},inplace = True)"
   ]
  },
  {
   "cell_type": "code",
   "execution_count": 38,
   "id": "major-fight",
   "metadata": {
    "execution": {
     "iopub.execute_input": "2021-04-15T12:05:26.047403Z",
     "iopub.status.busy": "2021-04-15T12:05:26.046719Z",
     "iopub.status.idle": "2021-04-15T12:05:26.048782Z",
     "shell.execute_reply": "2021-04-15T12:05:26.049339Z"
    },
    "papermill": {
     "duration": 0.0483,
     "end_time": "2021-04-15T12:05:26.049492",
     "exception": false,
     "start_time": "2021-04-15T12:05:26.001192",
     "status": "completed"
    },
    "tags": []
   },
   "outputs": [],
   "source": [
    "#hide\n",
    "# g = g[cols]"
   ]
  },
  {
   "cell_type": "code",
   "execution_count": 39,
   "id": "structured-mobile",
   "metadata": {
    "execution": {
     "iopub.execute_input": "2021-04-15T12:05:26.153964Z",
     "iopub.status.busy": "2021-04-15T12:05:26.153204Z",
     "iopub.status.idle": "2021-04-15T12:05:26.155744Z",
     "shell.execute_reply": "2021-04-15T12:05:26.155211Z"
    },
    "papermill": {
     "duration": 0.050103,
     "end_time": "2021-04-15T12:05:26.155885",
     "exception": false,
     "start_time": "2021-04-15T12:05:26.105782",
     "status": "completed"
    },
    "tags": []
   },
   "outputs": [],
   "source": [
    "# #hide\n",
    "# g = g[g.group.notna()]"
   ]
  },
  {
   "cell_type": "code",
   "execution_count": 40,
   "id": "determined-closing",
   "metadata": {
    "execution": {
     "iopub.execute_input": "2021-04-15T12:05:26.246802Z",
     "iopub.status.busy": "2021-04-15T12:05:26.246152Z",
     "iopub.status.idle": "2021-04-15T12:05:26.249176Z",
     "shell.execute_reply": "2021-04-15T12:05:26.248394Z"
    },
    "papermill": {
     "duration": 0.050972,
     "end_time": "2021-04-15T12:05:26.249309",
     "exception": false,
     "start_time": "2021-04-15T12:05:26.198337",
     "status": "completed"
    },
    "tags": []
   },
   "outputs": [],
   "source": [
    "# #hide\n",
    "# colors = dict(zip(\n",
    "#     [\"Oceania\", \"Europe\", \"Asia\", \"South America\", \"Middle East\", \"North America\", \"Africa\"],\n",
    "#     [\"#adb0ff\", \"#ffb3ff\", \"#90d595\", \"#e48381\", \"#aafbff\", \"#f7bb5f\", \"#eafb50\"]\n",
    "# ))\n",
    "# group_lk = g.set_index('name')['group'].to_dict()"
   ]
  },
  {
   "cell_type": "code",
   "execution_count": null,
   "id": "gross-drinking",
   "metadata": {
    "papermill": {
     "duration": 0.040407,
     "end_time": "2021-04-15T12:05:26.332142",
     "exception": false,
     "start_time": "2021-04-15T12:05:26.291735",
     "status": "completed"
    },
    "tags": []
   },
   "outputs": [],
   "source": []
  },
  {
   "cell_type": "code",
   "execution_count": 41,
   "id": "subject-macintosh",
   "metadata": {
    "execution": {
     "iopub.execute_input": "2021-04-15T12:05:26.420594Z",
     "iopub.status.busy": "2021-04-15T12:05:26.419853Z",
     "iopub.status.idle": "2021-04-15T12:05:26.421910Z",
     "shell.execute_reply": "2021-04-15T12:05:26.422603Z"
    },
    "papermill": {
     "duration": 0.049556,
     "end_time": "2021-04-15T12:05:26.422780",
     "exception": false,
     "start_time": "2021-04-15T12:05:26.373224",
     "status": "completed"
    },
    "tags": []
   },
   "outputs": [],
   "source": [
    "# #hide\n",
    "# fig, ax = plt.subplots(figsize=(15, 8))\n",
    "\n",
    "# def draw_barchart(current_day):\n",
    "#     dff = g[g['day'].eq(current_day)].sort_values(by='value', ascending=True).tail(10)\n",
    "#     ax.clear()\n",
    "#     ax.barh(dff['name'], dff['value'], color=[colors[group_lk[x]] for x in dff['name']])\n",
    "#     dx = dff['value'].max() / 200\n",
    "    \n",
    "#     for i, (value, name) in enumerate(zip(dff['value'], dff['name'])):\n",
    "#         ax.text(value-dx, i,     name,           size=14, weight=600, ha='right', va='bottom')\n",
    "#         ax.text(value-dx, i-.25, group_lk[name], size=10, color='#444444', ha='right', va='baseline')\n",
    "#         ax.text(value+dx, i,     f'{value:,.0f}',  size=14, ha='left',  va='center')\n",
    "#     ax.text(1, 0.4, current_day, transform=ax.transAxes, color='#777777', size=46, ha='right', weight=800)\n",
    "#     ax.text(0, 1.06, 'Population (thousands)', transform=ax.transAxes, size=12, color='#777777')\n",
    "#     ax.xaxis.set_major_formatter(ticker.StrMethodFormatter('{x:,.0f}'))\n",
    "#     ax.xaxis.set_ticks_position('top')\n",
    "#     ax.tick_params(axis='x', colors='#777777', labelsize=12)\n",
    "#     ax.set_yticks([])\n",
    "#     ax.margins(0, 0.01)\n",
    "#     ax.grid(which='major', axis='x', linestyle='-')\n",
    "#     ax.set_axisbelow(True)\n",
    "    \n",
    "#     ax.text(0, 1.15, 'Coronavirus',\n",
    "#             transform=ax.transAxes, size=24, weight=600, ha='left', va='top')\n",
    "# #     ax.text(1, 0, 'by @pratapvardhan; credit @jburnmurdoch', transform=ax.transAxes, color='#777777', ha='right',\n",
    "# #             bbox=dict(facecolor='white', alpha=0.8, edgecolor='white'))\n",
    "#     plt.box(False)"
   ]
  },
  {
   "cell_type": "code",
   "execution_count": 42,
   "id": "sexual-wages",
   "metadata": {
    "execution": {
     "iopub.execute_input": "2021-04-15T12:05:26.512916Z",
     "iopub.status.busy": "2021-04-15T12:05:26.512173Z",
     "iopub.status.idle": "2021-04-15T12:05:26.514103Z",
     "shell.execute_reply": "2021-04-15T12:05:26.514724Z"
    },
    "papermill": {
     "duration": 0.04722,
     "end_time": "2021-04-15T12:05:26.514881",
     "exception": false,
     "start_time": "2021-04-15T12:05:26.467661",
     "status": "completed"
    },
    "tags": []
   },
   "outputs": [],
   "source": [
    "# #hide_input\n",
    "# fig, ax = plt.subplots(figsize=(15, 8))\n",
    "# animator = animation.FuncAnimation(fig, draw_barchart, frames=range(g.day.values.min(), g.day.values.max()))\n",
    "# HTML(animator.to_jshtml())\n",
    "# # or use animator.to_html5_video() or animator.save() "
   ]
  },
  {
   "cell_type": "code",
   "execution_count": null,
   "id": "australian-container",
   "metadata": {
    "papermill": {
     "duration": 0.039627,
     "end_time": "2021-04-15T12:05:26.596209",
     "exception": false,
     "start_time": "2021-04-15T12:05:26.556582",
     "status": "completed"
    },
    "tags": []
   },
   "outputs": [],
   "source": []
  },
  {
   "cell_type": "code",
   "execution_count": null,
   "id": "mediterranean-pontiac",
   "metadata": {
    "papermill": {
     "duration": 0.04237,
     "end_time": "2021-04-15T12:05:26.678937",
     "exception": false,
     "start_time": "2021-04-15T12:05:26.636567",
     "status": "completed"
    },
    "tags": []
   },
   "outputs": [],
   "source": []
  },
  {
   "cell_type": "code",
   "execution_count": null,
   "id": "aging-legislature",
   "metadata": {
    "papermill": {
     "duration": 0.040857,
     "end_time": "2021-04-15T12:05:26.761268",
     "exception": false,
     "start_time": "2021-04-15T12:05:26.720411",
     "status": "completed"
    },
    "tags": []
   },
   "outputs": [],
   "source": []
  }
 ],
 "metadata": {
  "kernelspec": {
   "display_name": "Python 3",
   "language": "python",
   "name": "python3"
  },
  "language_info": {
   "codemirror_mode": {
    "name": "ipython",
    "version": 3
   },
   "file_extension": ".py",
   "mimetype": "text/x-python",
   "name": "python",
   "nbconvert_exporter": "python",
   "pygments_lexer": "ipython3",
   "version": "3.6.13"
  },
  "papermill": {
   "duration": 8.466454,
   "end_time": "2021-04-15T12:05:28.107015",
   "environment_variables": {},
   "exception": null,
   "input_path": "2020-03-21-covid19exp.ipynb",
   "output_path": "2020-03-21-covid19exp.ipynb",
   "parameters": {},
   "start_time": "2021-04-15T12:05:19.640561",
   "version": "2.0.0"
  }
 },
 "nbformat": 4,
 "nbformat_minor": 5
}