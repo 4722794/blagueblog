{
 "cells": [
  {
   "cell_type": "markdown",
   "id": "muslim-click",
   "metadata": {
    "papermill": {
     "duration": 0.042695,
     "end_time": "2022-04-06T00:37:45.110269",
     "exception": false,
     "start_time": "2022-04-06T00:37:45.067574",
     "status": "completed"
    },
    "tags": []
   },
   "source": [
    "# COVID-19 Case Race\n",
    "> A race chart to see rising cases around the world\n",
    "\n",
    "- author: Hargun Oberoi\n",
    "- image: images/covid-overview.png\n",
    "- hide: false\n",
    "- badges: false"
   ]
  },
  {
   "cell_type": "code",
   "execution_count": 1,
   "id": "proof-material",
   "metadata": {
    "execution": {
     "iopub.execute_input": "2022-04-06T00:37:45.191270Z",
     "iopub.status.busy": "2022-04-06T00:37:45.190652Z",
     "iopub.status.idle": "2022-04-06T00:37:45.552644Z",
     "shell.execute_reply": "2022-04-06T00:37:45.553194Z"
    },
    "papermill": {
     "duration": 0.406419,
     "end_time": "2022-04-06T00:37:45.553404",
     "exception": false,
     "start_time": "2022-04-06T00:37:45.146985",
     "status": "completed"
    },
    "tags": []
   },
   "outputs": [],
   "source": [
    "#hide\n",
    "import numpy as np\n",
    "import pandas as pd\n",
    "from jinja2 import Template\n",
    "from IPython.display import HTML"
   ]
  },
  {
   "cell_type": "code",
   "execution_count": 2,
   "id": "developed-terminology",
   "metadata": {
    "execution": {
     "iopub.execute_input": "2022-04-06T00:37:45.634054Z",
     "iopub.status.busy": "2022-04-06T00:37:45.633435Z",
     "iopub.status.idle": "2022-04-06T00:37:45.636044Z",
     "shell.execute_reply": "2022-04-06T00:37:45.635522Z"
    },
    "papermill": {
     "duration": 0.043296,
     "end_time": "2022-04-06T00:37:45.636167",
     "exception": false,
     "start_time": "2022-04-06T00:37:45.592871",
     "status": "completed"
    },
    "tags": []
   },
   "outputs": [],
   "source": [
    "#hide\n",
    "\n",
    "# FETCH\n",
    "base_url = 'https://raw.githubusercontent.com/pratapvardhan/notebooks/master/covid19/'\n",
    "paths = {\n",
    "    'mapping': base_url + 'mapping_countries.csv',\n",
    "    'overview': base_url + 'overview.tpl'\n",
    "}"
   ]
  },
  {
   "cell_type": "code",
   "execution_count": 3,
   "id": "dynamic-saver",
   "metadata": {
    "execution": {
     "iopub.execute_input": "2022-04-06T00:37:45.713955Z",
     "iopub.status.busy": "2022-04-06T00:37:45.713358Z",
     "iopub.status.idle": "2022-04-06T00:37:45.716774Z",
     "shell.execute_reply": "2022-04-06T00:37:45.716272Z"
    },
    "papermill": {
     "duration": 0.046742,
     "end_time": "2022-04-06T00:37:45.716892",
     "exception": false,
     "start_time": "2022-04-06T00:37:45.670150",
     "status": "completed"
    },
    "tags": []
   },
   "outputs": [
    {
     "data": {
      "text/plain": [
       "'https://raw.githubusercontent.com/pratapvardhan/notebooks/master/covid19/mapping_countries.csv'"
      ]
     },
     "execution_count": 3,
     "metadata": {},
     "output_type": "execute_result"
    }
   ],
   "source": [
    "#hide\n",
    "paths['mapping']"
   ]
  },
  {
   "cell_type": "code",
   "execution_count": 4,
   "id": "urban-software",
   "metadata": {
    "execution": {
     "iopub.execute_input": "2022-04-06T00:37:45.792577Z",
     "iopub.status.busy": "2022-04-06T00:37:45.791944Z",
     "iopub.status.idle": "2022-04-06T00:37:45.794699Z",
     "shell.execute_reply": "2022-04-06T00:37:45.794158Z"
    },
    "papermill": {
     "duration": 0.043477,
     "end_time": "2022-04-06T00:37:45.794823",
     "exception": false,
     "start_time": "2022-04-06T00:37:45.751346",
     "status": "completed"
    },
    "tags": []
   },
   "outputs": [],
   "source": [
    "#hide\n",
    "def get_mappings(url):\n",
    "    df = pd.read_csv(url)\n",
    "    return {\n",
    "        'df': df,\n",
    "        'replace.country': dict(df.dropna(subset=['Name']).set_index('Country')['Name']),\n",
    "        'map.continent': dict(df.set_index('Name')['Continent'])\n",
    "    }"
   ]
  },
  {
   "cell_type": "code",
   "execution_count": 5,
   "id": "intimate-machinery",
   "metadata": {
    "execution": {
     "iopub.execute_input": "2022-04-06T00:37:45.870705Z",
     "iopub.status.busy": "2022-04-06T00:37:45.870007Z",
     "iopub.status.idle": "2022-04-06T00:37:45.900106Z",
     "shell.execute_reply": "2022-04-06T00:37:45.899535Z"
    },
    "papermill": {
     "duration": 0.070199,
     "end_time": "2022-04-06T00:37:45.900249",
     "exception": false,
     "start_time": "2022-04-06T00:37:45.830050",
     "status": "completed"
    },
    "tags": []
   },
   "outputs": [],
   "source": [
    "#hide\n",
    "mapping = get_mappings(paths['mapping'])"
   ]
  },
  {
   "cell_type": "code",
   "execution_count": 6,
   "id": "certified-tactics",
   "metadata": {
    "execution": {
     "iopub.execute_input": "2022-04-06T00:37:45.977282Z",
     "iopub.status.busy": "2022-04-06T00:37:45.976622Z",
     "iopub.status.idle": "2022-04-06T00:37:45.979363Z",
     "shell.execute_reply": "2022-04-06T00:37:45.978815Z"
    },
    "papermill": {
     "duration": 0.042203,
     "end_time": "2022-04-06T00:37:45.979495",
     "exception": false,
     "start_time": "2022-04-06T00:37:45.937292",
     "status": "completed"
    },
    "tags": []
   },
   "outputs": [],
   "source": [
    "#hide\n",
    "def get_template(path):\n",
    "    from urllib.parse import urlparse\n",
    "    if bool(urlparse(path).netloc):\n",
    "        from urllib.request import urlopen\n",
    "        return urlopen(path).read().decode('utf8')\n",
    "    return open(path).read()"
   ]
  },
  {
   "cell_type": "code",
   "execution_count": 7,
   "id": "realistic-blast",
   "metadata": {
    "execution": {
     "iopub.execute_input": "2022-04-06T00:37:46.059736Z",
     "iopub.status.busy": "2022-04-06T00:37:46.059038Z",
     "iopub.status.idle": "2022-04-06T00:37:46.061853Z",
     "shell.execute_reply": "2022-04-06T00:37:46.061322Z"
    },
    "papermill": {
     "duration": 0.043542,
     "end_time": "2022-04-06T00:37:46.061989",
     "exception": false,
     "start_time": "2022-04-06T00:37:46.018447",
     "status": "completed"
    },
    "tags": []
   },
   "outputs": [],
   "source": [
    "#hide\n",
    "def get_frame(name):\n",
    "    url = (\n",
    "        'https://raw.githubusercontent.com/CSSEGISandData/COVID-19/master/csse_covid_19_data/'\n",
    "        f'csse_covid_19_time_series/time_series_covid19_{name}_global.csv')\n",
    "    df = pd.read_csv(url)\n",
    "    # rename countries\n",
    "    df['Country/Region'] = df['Country/Region'].replace(mapping['replace.country'])\n",
    "    return df"
   ]
  },
  {
   "cell_type": "code",
   "execution_count": 8,
   "id": "affiliated-characterization",
   "metadata": {
    "execution": {
     "iopub.execute_input": "2022-04-06T00:37:46.143182Z",
     "iopub.status.busy": "2022-04-06T00:37:46.142578Z",
     "iopub.status.idle": "2022-04-06T00:37:46.145231Z",
     "shell.execute_reply": "2022-04-06T00:37:46.144671Z"
    },
    "papermill": {
     "duration": 0.043111,
     "end_time": "2022-04-06T00:37:46.145354",
     "exception": false,
     "start_time": "2022-04-06T00:37:46.102243",
     "status": "completed"
    },
    "tags": []
   },
   "outputs": [],
   "source": [
    "#hide\n",
    "def get_dates(df):\n",
    "    dt_cols = df.columns[~df.columns.isin(['Province/State', 'Country/Region', 'Lat', 'Long'])]\n",
    "    LAST_DATE_I = -1\n",
    "    # sometimes last column may be empty, then go backwards\n",
    "    for i in range(-1, -len(dt_cols), -1):\n",
    "        if not df[dt_cols[i]].fillna(0).eq(0).all():\n",
    "            LAST_DATE_I = i\n",
    "            break\n",
    "    return LAST_DATE_I, dt_cols"
   ]
  },
  {
   "cell_type": "code",
   "execution_count": 9,
   "id": "recent-optimization",
   "metadata": {
    "execution": {
     "iopub.execute_input": "2022-04-06T00:37:46.220649Z",
     "iopub.status.busy": "2022-04-06T00:37:46.219957Z",
     "iopub.status.idle": "2022-04-06T00:37:46.599512Z",
     "shell.execute_reply": "2022-04-06T00:37:46.598942Z"
    },
    "papermill": {
     "duration": 0.419195,
     "end_time": "2022-04-06T00:37:46.599658",
     "exception": false,
     "start_time": "2022-04-06T00:37:46.180463",
     "status": "completed"
    },
    "tags": []
   },
   "outputs": [],
   "source": [
    "#hide\n",
    "COL_REGION = 'Country/Region'\n",
    "# Confirmed, Recovered, Deaths\n",
    "df = get_frame('confirmed')\n",
    "# dft_: timeseries, dfc_: today country agg\n",
    "dft_cases = df\n",
    "dft_deaths = get_frame('deaths')\n",
    "dft_recovered = get_frame('recovered')\n",
    "LAST_DATE_I, dt_cols = get_dates(df)"
   ]
  },
  {
   "cell_type": "code",
   "execution_count": 10,
   "id": "absolute-copper",
   "metadata": {
    "execution": {
     "iopub.execute_input": "2022-04-06T00:37:46.677998Z",
     "iopub.status.busy": "2022-04-06T00:37:46.677297Z",
     "iopub.status.idle": "2022-04-06T00:37:46.679972Z",
     "shell.execute_reply": "2022-04-06T00:37:46.680496Z"
    },
    "papermill": {
     "duration": 0.045155,
     "end_time": "2022-04-06T00:37:46.680644",
     "exception": false,
     "start_time": "2022-04-06T00:37:46.635489",
     "status": "completed"
    },
    "tags": []
   },
   "outputs": [],
   "source": [
    "#hide\n",
    "LAST_DATE_I, dt_cols = get_dates(df)\n",
    "dt_today =dt_cols[LAST_DATE_I]\n",
    "# dt_5day = dt_cols[LAST_DATE_I - 5]\n",
    "dt_yday = dt_cols[LAST_DATE_I - 1]"
   ]
  },
  {
   "cell_type": "code",
   "execution_count": 11,
   "id": "restricted-sheriff",
   "metadata": {
    "execution": {
     "iopub.execute_input": "2022-04-06T00:37:46.763234Z",
     "iopub.status.busy": "2022-04-06T00:37:46.762560Z",
     "iopub.status.idle": "2022-04-06T00:37:46.768270Z",
     "shell.execute_reply": "2022-04-06T00:37:46.768897Z"
    },
    "papermill": {
     "duration": 0.052594,
     "end_time": "2022-04-06T00:37:46.769136",
     "exception": false,
     "start_time": "2022-04-06T00:37:46.716542",
     "status": "completed"
    },
    "tags": []
   },
   "outputs": [],
   "source": [
    "#hide\n",
    "dfc_cases = dft_cases.groupby(COL_REGION)[dt_today].sum()\n",
    "dfc_deaths = dft_deaths.groupby(COL_REGION)[dt_today].sum()\n",
    "# dfp_cases = dft_cases.groupby(COL_REGION)[dt_5day].sum()\n",
    "# dfp_deaths = dft_deaths.groupby(COL_REGION)[dt_5day].sum()\n",
    "dfp_cases = dft_cases.groupby(COL_REGION)[dt_yday].sum()\n",
    "dfp_deaths = dft_deaths.groupby(COL_REGION)[dt_yday].sum()"
   ]
  },
  {
   "cell_type": "code",
   "execution_count": 12,
   "id": "deluxe-hepatitis",
   "metadata": {
    "execution": {
     "iopub.execute_input": "2022-04-06T00:37:46.849538Z",
     "iopub.status.busy": "2022-04-06T00:37:46.848871Z",
     "iopub.status.idle": "2022-04-06T00:37:46.853775Z",
     "shell.execute_reply": "2022-04-06T00:37:46.854431Z"
    },
    "papermill": {
     "duration": 0.048493,
     "end_time": "2022-04-06T00:37:46.854582",
     "exception": false,
     "start_time": "2022-04-06T00:37:46.806089",
     "status": "completed"
    },
    "tags": []
   },
   "outputs": [],
   "source": [
    "#hide\n",
    "df_table = (pd.DataFrame(dict(Cases = dfc_cases, Deaths = dfc_deaths, PCases = dfp_cases, PDeaths = dfp_deaths))\n",
    "            .sort_values(by = ['Cases','Deaths'], ascending = [False, False])\n",
    "            .reset_index())"
   ]
  },
  {
   "cell_type": "code",
   "execution_count": 13,
   "id": "educational-chancellor",
   "metadata": {
    "execution": {
     "iopub.execute_input": "2022-04-06T00:37:46.947989Z",
     "iopub.status.busy": "2022-04-06T00:37:46.947391Z",
     "iopub.status.idle": "2022-04-06T00:37:46.955364Z",
     "shell.execute_reply": "2022-04-06T00:37:46.956002Z"
    },
    "papermill": {
     "duration": 0.063936,
     "end_time": "2022-04-06T00:37:46.956148",
     "exception": false,
     "start_time": "2022-04-06T00:37:46.892212",
     "status": "completed"
    },
    "tags": []
   },
   "outputs": [
    {
     "data": {
      "text/html": [
       "<div>\n",
       "<style scoped>\n",
       "    .dataframe tbody tr th:only-of-type {\n",
       "        vertical-align: middle;\n",
       "    }\n",
       "\n",
       "    .dataframe tbody tr th {\n",
       "        vertical-align: top;\n",
       "    }\n",
       "\n",
       "    .dataframe thead th {\n",
       "        text-align: right;\n",
       "    }\n",
       "</style>\n",
       "<table border=\"1\" class=\"dataframe\">\n",
       "  <thead>\n",
       "    <tr style=\"text-align: right;\">\n",
       "      <th></th>\n",
       "      <th>Country/Region</th>\n",
       "      <th>Cases</th>\n",
       "      <th>Deaths</th>\n",
       "      <th>PCases</th>\n",
       "      <th>PDeaths</th>\n",
       "      <th>Cases (+)</th>\n",
       "      <th>Deaths (+)</th>\n",
       "      <th>Fatality Rate</th>\n",
       "      <th>Continent</th>\n",
       "    </tr>\n",
       "  </thead>\n",
       "  <tbody>\n",
       "    <tr>\n",
       "      <th>0</th>\n",
       "      <td>US</td>\n",
       "      <td>80179289</td>\n",
       "      <td>982099</td>\n",
       "      <td>80155397</td>\n",
       "      <td>981644</td>\n",
       "      <td>23892</td>\n",
       "      <td>455</td>\n",
       "      <td>1.22</td>\n",
       "      <td>North America</td>\n",
       "    </tr>\n",
       "    <tr>\n",
       "      <th>1</th>\n",
       "      <td>India</td>\n",
       "      <td>43029839</td>\n",
       "      <td>521416</td>\n",
       "      <td>43029044</td>\n",
       "      <td>521358</td>\n",
       "      <td>795</td>\n",
       "      <td>58</td>\n",
       "      <td>1.21</td>\n",
       "      <td>Asia</td>\n",
       "    </tr>\n",
       "    <tr>\n",
       "      <th>2</th>\n",
       "      <td>Brazil</td>\n",
       "      <td>30015357</td>\n",
       "      <td>660570</td>\n",
       "      <td>30002785</td>\n",
       "      <td>660410</td>\n",
       "      <td>12572</td>\n",
       "      <td>160</td>\n",
       "      <td>2.20</td>\n",
       "      <td>South America</td>\n",
       "    </tr>\n",
       "    <tr>\n",
       "      <th>3</th>\n",
       "      <td>France</td>\n",
       "      <td>26218724</td>\n",
       "      <td>143699</td>\n",
       "      <td>26186606</td>\n",
       "      <td>143540</td>\n",
       "      <td>32118</td>\n",
       "      <td>159</td>\n",
       "      <td>0.55</td>\n",
       "      <td>Europe</td>\n",
       "    </tr>\n",
       "    <tr>\n",
       "      <th>4</th>\n",
       "      <td>Germany</td>\n",
       "      <td>21706329</td>\n",
       "      <td>130052</td>\n",
       "      <td>21706329</td>\n",
       "      <td>130052</td>\n",
       "      <td>0</td>\n",
       "      <td>0</td>\n",
       "      <td>0.60</td>\n",
       "      <td>Europe</td>\n",
       "    </tr>\n",
       "  </tbody>\n",
       "</table>\n",
       "</div>"
      ],
      "text/plain": [
       "  Country/Region     Cases  Deaths    PCases  PDeaths  Cases (+)  Deaths (+)  \\\n",
       "0             US  80179289  982099  80155397   981644      23892         455   \n",
       "1          India  43029839  521416  43029044   521358        795          58   \n",
       "2         Brazil  30015357  660570  30002785   660410      12572         160   \n",
       "3         France  26218724  143699  26186606   143540      32118         159   \n",
       "4        Germany  21706329  130052  21706329   130052          0           0   \n",
       "\n",
       "   Fatality Rate      Continent  \n",
       "0           1.22  North America  \n",
       "1           1.21           Asia  \n",
       "2           2.20  South America  \n",
       "3           0.55         Europe  \n",
       "4           0.60         Europe  "
      ]
     },
     "execution_count": 13,
     "metadata": {},
     "output_type": "execute_result"
    }
   ],
   "source": [
    "#hide\n",
    "for c in 'Cases, Deaths'.split(', '):\n",
    "    df_table[f'{c} (+)'] = (df_table[c] - df_table[f'P{c}']).clip(0)\n",
    "    #Clip ça veut dire, les chiffres negatif sont interdit\n",
    "df_table['Fatality Rate'] = (100* df_table['Deaths']/ df_table['Cases']).round(2)\n",
    "df_table['Continent'] = df_table['Country/Region'].map(mapping['map.continent'])\n",
    "df_table.head(5)"
   ]
  },
  {
   "cell_type": "code",
   "execution_count": 14,
   "id": "aboriginal-bulgaria",
   "metadata": {
    "execution": {
     "iopub.execute_input": "2022-04-06T00:37:47.036386Z",
     "iopub.status.busy": "2022-04-06T00:37:47.035786Z",
     "iopub.status.idle": "2022-04-06T00:37:47.038586Z",
     "shell.execute_reply": "2022-04-06T00:37:47.037916Z"
    },
    "papermill": {
     "duration": 0.044167,
     "end_time": "2022-04-06T00:37:47.038747",
     "exception": false,
     "start_time": "2022-04-06T00:37:46.994580",
     "status": "completed"
    },
    "tags": []
   },
   "outputs": [],
   "source": [
    "#hide\n",
    "#delete problematic countries from table\n",
    "df_table = df_table[~df_table['Country/Region'].isin(['Cape Verde', 'Cruise Ship', 'Kosovo'])]"
   ]
  },
  {
   "cell_type": "code",
   "execution_count": 15,
   "id": "fantastic-effect",
   "metadata": {
    "execution": {
     "iopub.execute_input": "2022-04-06T00:37:47.119131Z",
     "iopub.status.busy": "2022-04-06T00:37:47.118438Z",
     "iopub.status.idle": "2022-04-06T00:37:47.139753Z",
     "shell.execute_reply": "2022-04-06T00:37:47.140326Z"
    },
    "papermill": {
     "duration": 0.064876,
     "end_time": "2022-04-06T00:37:47.140486",
     "exception": false,
     "start_time": "2022-04-06T00:37:47.075610",
     "status": "completed"
    },
    "tags": []
   },
   "outputs": [
    {
     "data": {
      "text/html": [
       "<div>\n",
       "<style scoped>\n",
       "    .dataframe tbody tr th:only-of-type {\n",
       "        vertical-align: middle;\n",
       "    }\n",
       "\n",
       "    .dataframe tbody tr th {\n",
       "        vertical-align: top;\n",
       "    }\n",
       "\n",
       "    .dataframe thead th {\n",
       "        text-align: right;\n",
       "    }\n",
       "</style>\n",
       "<table border=\"1\" class=\"dataframe\">\n",
       "  <thead>\n",
       "    <tr style=\"text-align: right;\">\n",
       "      <th></th>\n",
       "      <th>Country/Region</th>\n",
       "      <th>Cases</th>\n",
       "      <th>Deaths</th>\n",
       "      <th>PCases</th>\n",
       "      <th>PDeaths</th>\n",
       "      <th>Cases (+)</th>\n",
       "      <th>Deaths (+)</th>\n",
       "      <th>Fatality Rate</th>\n",
       "      <th>Continent</th>\n",
       "    </tr>\n",
       "  </thead>\n",
       "  <tbody>\n",
       "    <tr>\n",
       "      <th>0</th>\n",
       "      <td>US</td>\n",
       "      <td>80179289</td>\n",
       "      <td>982099</td>\n",
       "      <td>80155397</td>\n",
       "      <td>981644</td>\n",
       "      <td>23892</td>\n",
       "      <td>455</td>\n",
       "      <td>1.2</td>\n",
       "      <td>North America</td>\n",
       "    </tr>\n",
       "    <tr>\n",
       "      <th>1</th>\n",
       "      <td>India</td>\n",
       "      <td>43029839</td>\n",
       "      <td>521416</td>\n",
       "      <td>43029044</td>\n",
       "      <td>521358</td>\n",
       "      <td>795</td>\n",
       "      <td>58</td>\n",
       "      <td>1.2</td>\n",
       "      <td>Asia</td>\n",
       "    </tr>\n",
       "    <tr>\n",
       "      <th>2</th>\n",
       "      <td>Brazil</td>\n",
       "      <td>30015357</td>\n",
       "      <td>660570</td>\n",
       "      <td>30002785</td>\n",
       "      <td>660410</td>\n",
       "      <td>12572</td>\n",
       "      <td>160</td>\n",
       "      <td>2.2</td>\n",
       "      <td>South America</td>\n",
       "    </tr>\n",
       "    <tr>\n",
       "      <th>3</th>\n",
       "      <td>France</td>\n",
       "      <td>26218724</td>\n",
       "      <td>143699</td>\n",
       "      <td>26186606</td>\n",
       "      <td>143540</td>\n",
       "      <td>32118</td>\n",
       "      <td>159</td>\n",
       "      <td>0.5</td>\n",
       "      <td>Europe</td>\n",
       "    </tr>\n",
       "    <tr>\n",
       "      <th>4</th>\n",
       "      <td>Germany</td>\n",
       "      <td>21706329</td>\n",
       "      <td>130052</td>\n",
       "      <td>21706329</td>\n",
       "      <td>130052</td>\n",
       "      <td>0</td>\n",
       "      <td>0</td>\n",
       "      <td>0.6</td>\n",
       "      <td>Europe</td>\n",
       "    </tr>\n",
       "  </tbody>\n",
       "</table>\n",
       "</div>"
      ],
      "text/plain": [
       "  Country/Region     Cases  Deaths    PCases  PDeaths  Cases (+)  Deaths (+)  \\\n",
       "0             US  80179289  982099  80155397   981644      23892         455   \n",
       "1          India  43029839  521416  43029044   521358        795          58   \n",
       "2         Brazil  30015357  660570  30002785   660410      12572         160   \n",
       "3         France  26218724  143699  26186606   143540      32118         159   \n",
       "4        Germany  21706329  130052  21706329   130052          0           0   \n",
       "\n",
       "   Fatality Rate      Continent  \n",
       "0            1.2  North America  \n",
       "1            1.2           Asia  \n",
       "2            2.2  South America  \n",
       "3            0.5         Europe  \n",
       "4            0.6         Europe  "
      ]
     },
     "execution_count": 15,
     "metadata": {},
     "output_type": "execute_result"
    }
   ],
   "source": [
    "#hide\n",
    "df_table = (pd.DataFrame(dict(Cases=dfc_cases, Deaths=dfc_deaths, PCases=dfp_cases, PDeaths=dfp_deaths))\n",
    "             .sort_values(by=['Cases', 'Deaths'], ascending=[False, False])\n",
    "             .reset_index())\n",
    "df_table.rename(columns={'index': 'Country/Region'}, inplace=True)\n",
    "for c in 'Cases, Deaths'.split(', '):\n",
    "    df_table[f'{c} (+)'] = (df_table[c] - df_table[f'P{c}']).clip(0)  # DATA BUG\n",
    "df_table['Fatality Rate'] = (100 * df_table['Deaths'] / df_table['Cases']).round(1)\n",
    "df_table['Continent'] = df_table['Country/Region'].map(mapping['map.continent'])\n",
    "df_table.head(5)"
   ]
  },
  {
   "cell_type": "code",
   "execution_count": 16,
   "id": "fewer-occasion",
   "metadata": {
    "execution": {
     "iopub.execute_input": "2022-04-06T00:37:47.220168Z",
     "iopub.status.busy": "2022-04-06T00:37:47.219568Z",
     "iopub.status.idle": "2022-04-06T00:37:47.222668Z",
     "shell.execute_reply": "2022-04-06T00:37:47.223234Z"
    },
    "papermill": {
     "duration": 0.046681,
     "end_time": "2022-04-06T00:37:47.223370",
     "exception": false,
     "start_time": "2022-04-06T00:37:47.176689",
     "status": "completed"
    },
    "tags": []
   },
   "outputs": [],
   "source": [
    "#hide\n",
    "#delete problematic countries from table\n",
    "df_table = df_table[~df_table['Country/Region'].isin(['Cape Verde', 'Cruise Ship', 'Kosovo'])]"
   ]
  },
  {
   "cell_type": "code",
   "execution_count": 17,
   "id": "related-center",
   "metadata": {
    "execution": {
     "iopub.execute_input": "2022-04-06T00:37:47.301206Z",
     "iopub.status.busy": "2022-04-06T00:37:47.300589Z",
     "iopub.status.idle": "2022-04-06T00:37:47.314868Z",
     "shell.execute_reply": "2022-04-06T00:37:47.314358Z"
    },
    "papermill": {
     "duration": 0.057049,
     "end_time": "2022-04-06T00:37:47.314984",
     "exception": false,
     "start_time": "2022-04-06T00:37:47.257935",
     "status": "completed"
    },
    "tags": []
   },
   "outputs": [],
   "source": [
    "#hide\n",
    "metrics = [df_table.columns[index] for index in [1,2,5,6]]\n",
    "# s_china = df_table[df_table['Country/Region'].eq('China')][metrics].sum().add_prefix('China ')\n",
    "s_us = df_table[df_table['Country/Region'].eq('US')][metrics].sum().add_prefix('US ')\n",
    "s_eu = df_table[df_table['Continent'].eq('Europe')][metrics].sum().add_prefix('EU ')\n",
    "s_ind = df_table[df_table['Country/Region'].eq('India')][metrics].sum().add_prefix('India ')\n",
    "summary = {'updated': pd.to_datetime(dt_today), 'since': pd.to_datetime(dt_yday)}\n",
    "summary = {'updated': pd.to_datetime(dt_today), 'since': pd.to_datetime(dt_yday)}\n",
    "summary = {**summary, **df_table[metrics].sum(), **s_ind, **s_us, **s_eu}"
   ]
  },
  {
   "cell_type": "code",
   "execution_count": 18,
   "id": "engaging-syndrome",
   "metadata": {
    "execution": {
     "iopub.execute_input": "2022-04-06T00:37:47.391845Z",
     "iopub.status.busy": "2022-04-06T00:37:47.391266Z",
     "iopub.status.idle": "2022-04-06T00:37:47.408723Z",
     "shell.execute_reply": "2022-04-06T00:37:47.409178Z"
    },
    "papermill": {
     "duration": 0.058272,
     "end_time": "2022-04-06T00:37:47.409316",
     "exception": false,
     "start_time": "2022-04-06T00:37:47.351044",
     "status": "completed"
    },
    "tags": []
   },
   "outputs": [],
   "source": [
    "#hide\n",
    "dft_ct_new_cases = dft_cases.groupby(COL_REGION)[dt_cols].sum().diff(axis=1).fillna(0).astype(int)"
   ]
  },
  {
   "cell_type": "code",
   "execution_count": 19,
   "id": "neutral-assignment",
   "metadata": {
    "execution": {
     "iopub.execute_input": "2022-04-06T00:37:47.487342Z",
     "iopub.status.busy": "2022-04-06T00:37:47.486512Z",
     "iopub.status.idle": "2022-04-06T00:37:47.488818Z",
     "shell.execute_reply": "2022-04-06T00:37:47.489274Z"
    },
    "papermill": {
     "duration": 0.04312,
     "end_time": "2022-04-06T00:37:47.489416",
     "exception": false,
     "start_time": "2022-04-06T00:37:47.446296",
     "status": "completed"
    },
    "tags": []
   },
   "outputs": [],
   "source": [
    "#hide\n",
    "everydaycases = dft_ct_new_cases.cumsum(axis=1)"
   ]
  },
  {
   "cell_type": "code",
   "execution_count": 20,
   "id": "parliamentary-calgary",
   "metadata": {
    "execution": {
     "iopub.execute_input": "2022-04-06T00:37:47.563290Z",
     "iopub.status.busy": "2022-04-06T00:37:47.562680Z",
     "iopub.status.idle": "2022-04-06T00:37:48.289383Z",
     "shell.execute_reply": "2022-04-06T00:37:48.288804Z"
    },
    "papermill": {
     "duration": 0.765223,
     "end_time": "2022-04-06T00:37:48.289536",
     "exception": false,
     "start_time": "2022-04-06T00:37:47.524313",
     "status": "completed"
    },
    "tags": []
   },
   "outputs": [],
   "source": [
    "#hide\n",
    "import pandas as pd\n",
    "import matplotlib.pyplot as plt\n",
    "import matplotlib.ticker as ticker\n",
    "import matplotlib.animation as animation\n",
    "from IPython.display import HTML"
   ]
  },
  {
   "cell_type": "code",
   "execution_count": 21,
   "id": "lasting-extraction",
   "metadata": {
    "execution": {
     "iopub.execute_input": "2022-04-06T00:37:48.378914Z",
     "iopub.status.busy": "2022-04-06T00:37:48.377894Z",
     "iopub.status.idle": "2022-04-06T00:37:48.384514Z",
     "shell.execute_reply": "2022-04-06T00:37:48.385148Z"
    },
    "papermill": {
     "duration": 0.055666,
     "end_time": "2022-04-06T00:37:48.385306",
     "exception": false,
     "start_time": "2022-04-06T00:37:48.329640",
     "status": "completed"
    },
    "tags": []
   },
   "outputs": [],
   "source": [
    "#hide\n",
    "t = everydaycases.stack()"
   ]
  },
  {
   "cell_type": "code",
   "execution_count": 22,
   "id": "premier-sleeve",
   "metadata": {
    "execution": {
     "iopub.execute_input": "2022-04-06T00:37:48.473485Z",
     "iopub.status.busy": "2022-04-06T00:37:48.472831Z",
     "iopub.status.idle": "2022-04-06T00:37:48.484584Z",
     "shell.execute_reply": "2022-04-06T00:37:48.483921Z"
    },
    "papermill": {
     "duration": 0.057903,
     "end_time": "2022-04-06T00:37:48.484725",
     "exception": false,
     "start_time": "2022-04-06T00:37:48.426822",
     "status": "completed"
    },
    "tags": []
   },
   "outputs": [],
   "source": [
    "#hide\n",
    "g = t.reset_index(['Country/Region'])"
   ]
  },
  {
   "cell_type": "code",
   "execution_count": 23,
   "id": "distributed-pittsburgh",
   "metadata": {
    "execution": {
     "iopub.execute_input": "2022-04-06T00:37:48.568564Z",
     "iopub.status.busy": "2022-04-06T00:37:48.567896Z",
     "iopub.status.idle": "2022-04-06T00:37:48.570638Z",
     "shell.execute_reply": "2022-04-06T00:37:48.570028Z"
    },
    "papermill": {
     "duration": 0.046069,
     "end_time": "2022-04-06T00:37:48.570777",
     "exception": false,
     "start_time": "2022-04-06T00:37:48.524708",
     "status": "completed"
    },
    "tags": []
   },
   "outputs": [],
   "source": [
    "#hide\n",
    "g.index.name = 'date'"
   ]
  },
  {
   "cell_type": "code",
   "execution_count": 24,
   "id": "naked-donor",
   "metadata": {
    "execution": {
     "iopub.execute_input": "2022-04-06T00:37:48.653618Z",
     "iopub.status.busy": "2022-04-06T00:37:48.652956Z",
     "iopub.status.idle": "2022-04-06T00:37:48.656757Z",
     "shell.execute_reply": "2022-04-06T00:37:48.657244Z"
    },
    "papermill": {
     "duration": 0.047995,
     "end_time": "2022-04-06T00:37:48.657395",
     "exception": false,
     "start_time": "2022-04-06T00:37:48.609400",
     "status": "completed"
    },
    "tags": []
   },
   "outputs": [],
   "source": [
    "# #hide\n",
    "# g = g.reset_index(['date'])"
   ]
  },
  {
   "cell_type": "code",
   "execution_count": 25,
   "id": "incomplete-mustang",
   "metadata": {
    "execution": {
     "iopub.execute_input": "2022-04-06T00:37:48.741392Z",
     "iopub.status.busy": "2022-04-06T00:37:48.740639Z",
     "iopub.status.idle": "2022-04-06T00:37:48.744699Z",
     "shell.execute_reply": "2022-04-06T00:37:48.745207Z"
    },
    "papermill": {
     "duration": 0.048868,
     "end_time": "2022-04-06T00:37:48.745359",
     "exception": false,
     "start_time": "2022-04-06T00:37:48.696491",
     "status": "completed"
    },
    "tags": []
   },
   "outputs": [],
   "source": [
    "#hide\n",
    "# g.head()"
   ]
  },
  {
   "cell_type": "code",
   "execution_count": 26,
   "id": "specific-kruger",
   "metadata": {
    "execution": {
     "iopub.execute_input": "2022-04-06T00:37:48.828619Z",
     "iopub.status.busy": "2022-04-06T00:37:48.827165Z",
     "iopub.status.idle": "2022-04-06T00:37:48.829503Z",
     "shell.execute_reply": "2022-04-06T00:37:48.830039Z"
    },
    "papermill": {
     "duration": 0.045069,
     "end_time": "2022-04-06T00:37:48.830211",
     "exception": false,
     "start_time": "2022-04-06T00:37:48.785142",
     "status": "completed"
    },
    "tags": []
   },
   "outputs": [],
   "source": [
    "#hide\n",
    "# g.columns = ['date','country','cases']"
   ]
  },
  {
   "cell_type": "code",
   "execution_count": 27,
   "id": "tender-conversion",
   "metadata": {
    "execution": {
     "iopub.execute_input": "2022-04-06T00:37:48.912263Z",
     "iopub.status.busy": "2022-04-06T00:37:48.911616Z",
     "iopub.status.idle": "2022-04-06T00:37:48.915301Z",
     "shell.execute_reply": "2022-04-06T00:37:48.915825Z"
    },
    "papermill": {
     "duration": 0.04601,
     "end_time": "2022-04-06T00:37:48.915972",
     "exception": false,
     "start_time": "2022-04-06T00:37:48.869962",
     "status": "completed"
    },
    "tags": []
   },
   "outputs": [],
   "source": [
    "#hide\n",
    "# g['continent'] = g.country"
   ]
  },
  {
   "cell_type": "code",
   "execution_count": 28,
   "id": "substantial-wilderness",
   "metadata": {
    "execution": {
     "iopub.execute_input": "2022-04-06T00:37:48.997472Z",
     "iopub.status.busy": "2022-04-06T00:37:48.996576Z",
     "iopub.status.idle": "2022-04-06T00:37:49.000975Z",
     "shell.execute_reply": "2022-04-06T00:37:49.001469Z"
    },
    "papermill": {
     "duration": 0.046556,
     "end_time": "2022-04-06T00:37:49.001611",
     "exception": false,
     "start_time": "2022-04-06T00:37:48.955055",
     "status": "completed"
    },
    "tags": []
   },
   "outputs": [],
   "source": [
    "#hide\n",
    "# cols = list(g.columns.values)"
   ]
  },
  {
   "cell_type": "code",
   "execution_count": 29,
   "id": "solved-farming",
   "metadata": {
    "execution": {
     "iopub.execute_input": "2022-04-06T00:37:49.085045Z",
     "iopub.status.busy": "2022-04-06T00:37:49.084087Z",
     "iopub.status.idle": "2022-04-06T00:37:49.086629Z",
     "shell.execute_reply": "2022-04-06T00:37:49.085919Z"
    },
    "papermill": {
     "duration": 0.045258,
     "end_time": "2022-04-06T00:37:49.086758",
     "exception": false,
     "start_time": "2022-04-06T00:37:49.041500",
     "status": "completed"
    },
    "tags": []
   },
   "outputs": [],
   "source": [
    "#hide\n",
    "# cols.insert(0, cols.pop())"
   ]
  },
  {
   "cell_type": "code",
   "execution_count": 30,
   "id": "executed-adoption",
   "metadata": {
    "execution": {
     "iopub.execute_input": "2022-04-06T00:37:49.169822Z",
     "iopub.status.busy": "2022-04-06T00:37:49.169187Z",
     "iopub.status.idle": "2022-04-06T00:37:49.171253Z",
     "shell.execute_reply": "2022-04-06T00:37:49.171797Z"
    },
    "papermill": {
     "duration": 0.044318,
     "end_time": "2022-04-06T00:37:49.171940",
     "exception": false,
     "start_time": "2022-04-06T00:37:49.127622",
     "status": "completed"
    },
    "tags": []
   },
   "outputs": [],
   "source": [
    "#hide\n",
    "# g = g[cols]"
   ]
  },
  {
   "cell_type": "code",
   "execution_count": 31,
   "id": "subject-dublin",
   "metadata": {
    "execution": {
     "iopub.execute_input": "2022-04-06T00:37:49.252855Z",
     "iopub.status.busy": "2022-04-06T00:37:49.252209Z",
     "iopub.status.idle": "2022-04-06T00:37:49.256642Z",
     "shell.execute_reply": "2022-04-06T00:37:49.256120Z"
    },
    "papermill": {
     "duration": 0.046894,
     "end_time": "2022-04-06T00:37:49.256767",
     "exception": false,
     "start_time": "2022-04-06T00:37:49.209873",
     "status": "completed"
    },
    "tags": []
   },
   "outputs": [],
   "source": [
    "#hide\n",
    "# g['continent'] = g['continent'].map(mapping['map.continent'])"
   ]
  },
  {
   "cell_type": "code",
   "execution_count": 32,
   "id": "freelance-scout",
   "metadata": {
    "execution": {
     "iopub.execute_input": "2022-04-06T00:37:49.335665Z",
     "iopub.status.busy": "2022-04-06T00:37:49.335035Z",
     "iopub.status.idle": "2022-04-06T00:37:49.337928Z",
     "shell.execute_reply": "2022-04-06T00:37:49.337241Z"
    },
    "papermill": {
     "duration": 0.043019,
     "end_time": "2022-04-06T00:37:49.338050",
     "exception": false,
     "start_time": "2022-04-06T00:37:49.295031",
     "status": "completed"
    },
    "tags": []
   },
   "outputs": [],
   "source": [
    "#hide\n",
    "# g.head()"
   ]
  },
  {
   "cell_type": "code",
   "execution_count": 33,
   "id": "limited-engine",
   "metadata": {
    "execution": {
     "iopub.execute_input": "2022-04-06T00:37:49.412299Z",
     "iopub.status.busy": "2022-04-06T00:37:49.411720Z",
     "iopub.status.idle": "2022-04-06T00:37:49.414450Z",
     "shell.execute_reply": "2022-04-06T00:37:49.413928Z"
    },
    "papermill": {
     "duration": 0.040606,
     "end_time": "2022-04-06T00:37:49.414567",
     "exception": false,
     "start_time": "2022-04-06T00:37:49.373961",
     "status": "completed"
    },
    "tags": []
   },
   "outputs": [],
   "source": [
    "# hide\n",
    "# g['date'] = g['date'].astype('datetime64[ns]')"
   ]
  },
  {
   "cell_type": "code",
   "execution_count": 34,
   "id": "sophisticated-supervisor",
   "metadata": {
    "execution": {
     "iopub.execute_input": "2022-04-06T00:37:49.487434Z",
     "iopub.status.busy": "2022-04-06T00:37:49.486770Z",
     "iopub.status.idle": "2022-04-06T00:37:49.489603Z",
     "shell.execute_reply": "2022-04-06T00:37:49.488958Z"
    },
    "papermill": {
     "duration": 0.040317,
     "end_time": "2022-04-06T00:37:49.489721",
     "exception": false,
     "start_time": "2022-04-06T00:37:49.449404",
     "status": "completed"
    },
    "tags": []
   },
   "outputs": [],
   "source": [
    "#hide\n",
    "# g['date'] = g.date.dt.dayofyear"
   ]
  },
  {
   "cell_type": "code",
   "execution_count": 35,
   "id": "inside-dubai",
   "metadata": {
    "execution": {
     "iopub.execute_input": "2022-04-06T00:37:49.570008Z",
     "iopub.status.busy": "2022-04-06T00:37:49.569353Z",
     "iopub.status.idle": "2022-04-06T00:37:49.573578Z",
     "shell.execute_reply": "2022-04-06T00:37:49.573032Z"
    },
    "papermill": {
     "duration": 0.047302,
     "end_time": "2022-04-06T00:37:49.573725",
     "exception": false,
     "start_time": "2022-04-06T00:37:49.526423",
     "status": "completed"
    },
    "tags": []
   },
   "outputs": [],
   "source": [
    "#hide\n",
    "# g = g.rename(columns= {'continent':'group','country':'name','cases':'value'})"
   ]
  },
  {
   "cell_type": "code",
   "execution_count": 36,
   "id": "fleet-motorcycle",
   "metadata": {
    "execution": {
     "iopub.execute_input": "2022-04-06T00:37:49.649810Z",
     "iopub.status.busy": "2022-04-06T00:37:49.648667Z",
     "iopub.status.idle": "2022-04-06T00:37:49.651415Z",
     "shell.execute_reply": "2022-04-06T00:37:49.650812Z"
    },
    "papermill": {
     "duration": 0.041292,
     "end_time": "2022-04-06T00:37:49.651536",
     "exception": false,
     "start_time": "2022-04-06T00:37:49.610244",
     "status": "completed"
    },
    "tags": []
   },
   "outputs": [],
   "source": [
    "#hide\n",
    "# cols = ['name','group','day','value']"
   ]
  },
  {
   "cell_type": "code",
   "execution_count": 37,
   "id": "continued-sleeping",
   "metadata": {
    "execution": {
     "iopub.execute_input": "2022-04-06T00:37:49.725980Z",
     "iopub.status.busy": "2022-04-06T00:37:49.725382Z",
     "iopub.status.idle": "2022-04-06T00:37:49.727440Z",
     "shell.execute_reply": "2022-04-06T00:37:49.727913Z"
    },
    "papermill": {
     "duration": 0.041714,
     "end_time": "2022-04-06T00:37:49.728043",
     "exception": false,
     "start_time": "2022-04-06T00:37:49.686329",
     "status": "completed"
    },
    "tags": []
   },
   "outputs": [],
   "source": [
    "#hide\n",
    "# g.rename(columns= {'date':'day'},inplace = True)"
   ]
  },
  {
   "cell_type": "code",
   "execution_count": 38,
   "id": "major-fight",
   "metadata": {
    "execution": {
     "iopub.execute_input": "2022-04-06T00:37:49.803431Z",
     "iopub.status.busy": "2022-04-06T00:37:49.802805Z",
     "iopub.status.idle": "2022-04-06T00:37:49.805032Z",
     "shell.execute_reply": "2022-04-06T00:37:49.805482Z"
    },
    "papermill": {
     "duration": 0.041894,
     "end_time": "2022-04-06T00:37:49.805623",
     "exception": false,
     "start_time": "2022-04-06T00:37:49.763729",
     "status": "completed"
    },
    "tags": []
   },
   "outputs": [],
   "source": [
    "#hide\n",
    "# g = g[cols]"
   ]
  },
  {
   "cell_type": "code",
   "execution_count": 39,
   "id": "structured-mobile",
   "metadata": {
    "execution": {
     "iopub.execute_input": "2022-04-06T00:37:49.878832Z",
     "iopub.status.busy": "2022-04-06T00:37:49.878198Z",
     "iopub.status.idle": "2022-04-06T00:37:49.880782Z",
     "shell.execute_reply": "2022-04-06T00:37:49.880168Z"
    },
    "papermill": {
     "duration": 0.041184,
     "end_time": "2022-04-06T00:37:49.880905",
     "exception": false,
     "start_time": "2022-04-06T00:37:49.839721",
     "status": "completed"
    },
    "tags": []
   },
   "outputs": [],
   "source": [
    "# #hide\n",
    "# g = g[g.group.notna()]"
   ]
  },
  {
   "cell_type": "code",
   "execution_count": 40,
   "id": "determined-closing",
   "metadata": {
    "execution": {
     "iopub.execute_input": "2022-04-06T00:37:49.957858Z",
     "iopub.status.busy": "2022-04-06T00:37:49.957252Z",
     "iopub.status.idle": "2022-04-06T00:37:49.959283Z",
     "shell.execute_reply": "2022-04-06T00:37:49.959733Z"
    },
    "papermill": {
     "duration": 0.042433,
     "end_time": "2022-04-06T00:37:49.959865",
     "exception": false,
     "start_time": "2022-04-06T00:37:49.917432",
     "status": "completed"
    },
    "tags": []
   },
   "outputs": [],
   "source": [
    "# #hide\n",
    "# colors = dict(zip(\n",
    "#     [\"Oceania\", \"Europe\", \"Asia\", \"South America\", \"Middle East\", \"North America\", \"Africa\"],\n",
    "#     [\"#adb0ff\", \"#ffb3ff\", \"#90d595\", \"#e48381\", \"#aafbff\", \"#f7bb5f\", \"#eafb50\"]\n",
    "# ))\n",
    "# group_lk = g.set_index('name')['group'].to_dict()"
   ]
  },
  {
   "cell_type": "code",
   "execution_count": null,
   "id": "gross-drinking",
   "metadata": {
    "papermill": {
     "duration": 0.034866,
     "end_time": "2022-04-06T00:37:50.029183",
     "exception": false,
     "start_time": "2022-04-06T00:37:49.994317",
     "status": "completed"
    },
    "tags": []
   },
   "outputs": [],
   "source": []
  },
  {
   "cell_type": "code",
   "execution_count": 41,
   "id": "subject-macintosh",
   "metadata": {
    "execution": {
     "iopub.execute_input": "2022-04-06T00:37:50.104292Z",
     "iopub.status.busy": "2022-04-06T00:37:50.103687Z",
     "iopub.status.idle": "2022-04-06T00:37:50.106200Z",
     "shell.execute_reply": "2022-04-06T00:37:50.106738Z"
    },
    "papermill": {
     "duration": 0.042191,
     "end_time": "2022-04-06T00:37:50.106870",
     "exception": false,
     "start_time": "2022-04-06T00:37:50.064679",
     "status": "completed"
    },
    "tags": []
   },
   "outputs": [],
   "source": [
    "# #hide\n",
    "# fig, ax = plt.subplots(figsize=(15, 8))\n",
    "\n",
    "# def draw_barchart(current_day):\n",
    "#     dff = g[g['day'].eq(current_day)].sort_values(by='value', ascending=True).tail(10)\n",
    "#     ax.clear()\n",
    "#     ax.barh(dff['name'], dff['value'], color=[colors[group_lk[x]] for x in dff['name']])\n",
    "#     dx = dff['value'].max() / 200\n",
    "    \n",
    "#     for i, (value, name) in enumerate(zip(dff['value'], dff['name'])):\n",
    "#         ax.text(value-dx, i,     name,           size=14, weight=600, ha='right', va='bottom')\n",
    "#         ax.text(value-dx, i-.25, group_lk[name], size=10, color='#444444', ha='right', va='baseline')\n",
    "#         ax.text(value+dx, i,     f'{value:,.0f}',  size=14, ha='left',  va='center')\n",
    "#     ax.text(1, 0.4, current_day, transform=ax.transAxes, color='#777777', size=46, ha='right', weight=800)\n",
    "#     ax.text(0, 1.06, 'Population (thousands)', transform=ax.transAxes, size=12, color='#777777')\n",
    "#     ax.xaxis.set_major_formatter(ticker.StrMethodFormatter('{x:,.0f}'))\n",
    "#     ax.xaxis.set_ticks_position('top')\n",
    "#     ax.tick_params(axis='x', colors='#777777', labelsize=12)\n",
    "#     ax.set_yticks([])\n",
    "#     ax.margins(0, 0.01)\n",
    "#     ax.grid(which='major', axis='x', linestyle='-')\n",
    "#     ax.set_axisbelow(True)\n",
    "    \n",
    "#     ax.text(0, 1.15, 'Coronavirus',\n",
    "#             transform=ax.transAxes, size=24, weight=600, ha='left', va='top')\n",
    "# #     ax.text(1, 0, 'by @pratapvardhan; credit @jburnmurdoch', transform=ax.transAxes, color='#777777', ha='right',\n",
    "# #             bbox=dict(facecolor='white', alpha=0.8, edgecolor='white'))\n",
    "#     plt.box(False)"
   ]
  },
  {
   "cell_type": "code",
   "execution_count": 42,
   "id": "sexual-wages",
   "metadata": {
    "execution": {
     "iopub.execute_input": "2022-04-06T00:37:50.180272Z",
     "iopub.status.busy": "2022-04-06T00:37:50.179662Z",
     "iopub.status.idle": "2022-04-06T00:37:50.181719Z",
     "shell.execute_reply": "2022-04-06T00:37:50.182204Z"
    },
    "papermill": {
     "duration": 0.040145,
     "end_time": "2022-04-06T00:37:50.182344",
     "exception": false,
     "start_time": "2022-04-06T00:37:50.142199",
     "status": "completed"
    },
    "tags": []
   },
   "outputs": [],
   "source": [
    "# #hide_input\n",
    "# fig, ax = plt.subplots(figsize=(15, 8))\n",
    "# animator = animation.FuncAnimation(fig, draw_barchart, frames=range(g.day.values.min(), g.day.values.max()))\n",
    "# HTML(animator.to_jshtml())\n",
    "# # or use animator.to_html5_video() or animator.save() "
   ]
  },
  {
   "cell_type": "code",
   "execution_count": null,
   "id": "australian-container",
   "metadata": {
    "papermill": {
     "duration": 0.034982,
     "end_time": "2022-04-06T00:37:50.253378",
     "exception": false,
     "start_time": "2022-04-06T00:37:50.218396",
     "status": "completed"
    },
    "tags": []
   },
   "outputs": [],
   "source": []
  },
  {
   "cell_type": "code",
   "execution_count": null,
   "id": "mediterranean-pontiac",
   "metadata": {
    "papermill": {
     "duration": 0.034887,
     "end_time": "2022-04-06T00:37:50.322447",
     "exception": false,
     "start_time": "2022-04-06T00:37:50.287560",
     "status": "completed"
    },
    "tags": []
   },
   "outputs": [],
   "source": []
  },
  {
   "cell_type": "code",
   "execution_count": null,
   "id": "aging-legislature",
   "metadata": {
    "papermill": {
     "duration": 0.034676,
     "end_time": "2022-04-06T00:37:50.393578",
     "exception": false,
     "start_time": "2022-04-06T00:37:50.358902",
     "status": "completed"
    },
    "tags": []
   },
   "outputs": [],
   "source": []
  }
 ],
 "metadata": {
  "kernelspec": {
   "display_name": "Python 3",
   "language": "python",
   "name": "python3"
  },
  "language_info": {
   "codemirror_mode": {
    "name": "ipython",
    "version": 3
   },
   "file_extension": ".py",
   "mimetype": "text/x-python",
   "name": "python",
   "nbconvert_exporter": "python",
   "pygments_lexer": "ipython3",
   "version": "3.6.15"
  },
  "papermill": {
   "duration": 7.062191,
   "end_time": "2022-04-06T00:37:50.851736",
   "environment_variables": {},
   "exception": null,
   "input_path": "2020-03-21-covid19exp.ipynb",
   "output_path": "2020-03-21-covid19exp.ipynb",
   "parameters": {},
   "start_time": "2022-04-06T00:37:43.789545",
   "version": "2.0.0"
  }
 },
 "nbformat": 4,
 "nbformat_minor": 5
}