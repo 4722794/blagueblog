{
 "cells": [
  {
   "cell_type": "markdown",
   "id": "muslim-click",
   "metadata": {
    "papermill": {
     "duration": 0.036793,
     "end_time": "2021-03-29T00:06:12.003611",
     "exception": false,
     "start_time": "2021-03-29T00:06:11.966818",
     "status": "completed"
    },
    "tags": []
   },
   "source": [
    "# COVID-19 Case Race\n",
    "> A race chart to see rising cases around the world\n",
    "\n",
    "- author: Hargun Oberoi\n",
    "- image: images/covid-overview.png\n",
    "- hide: false\n",
    "- badges: false"
   ]
  },
  {
   "cell_type": "code",
   "execution_count": 1,
   "id": "proof-material",
   "metadata": {
    "execution": {
     "iopub.execute_input": "2021-03-29T00:06:12.080312Z",
     "iopub.status.busy": "2021-03-29T00:06:12.079725Z",
     "iopub.status.idle": "2021-03-29T00:06:12.403532Z",
     "shell.execute_reply": "2021-03-29T00:06:12.403026Z"
    },
    "papermill": {
     "duration": 0.366426,
     "end_time": "2021-03-29T00:06:12.403678",
     "exception": false,
     "start_time": "2021-03-29T00:06:12.037252",
     "status": "completed"
    },
    "tags": []
   },
   "outputs": [],
   "source": [
    "#hide\n",
    "import numpy as np\n",
    "import pandas as pd\n",
    "from jinja2 import Template\n",
    "from IPython.display import HTML"
   ]
  },
  {
   "cell_type": "code",
   "execution_count": 2,
   "id": "developed-terminology",
   "metadata": {
    "execution": {
     "iopub.execute_input": "2021-03-29T00:06:12.477348Z",
     "iopub.status.busy": "2021-03-29T00:06:12.476748Z",
     "iopub.status.idle": "2021-03-29T00:06:12.480290Z",
     "shell.execute_reply": "2021-03-29T00:06:12.479616Z"
    },
    "papermill": {
     "duration": 0.043264,
     "end_time": "2021-03-29T00:06:12.480408",
     "exception": false,
     "start_time": "2021-03-29T00:06:12.437144",
     "status": "completed"
    },
    "tags": []
   },
   "outputs": [],
   "source": [
    "#hide\n",
    "\n",
    "# FETCH\n",
    "base_url = 'https://raw.githubusercontent.com/pratapvardhan/notebooks/master/covid19/'\n",
    "paths = {\n",
    "    'mapping': base_url + 'mapping_countries.csv',\n",
    "    'overview': base_url + 'overview.tpl'\n",
    "}"
   ]
  },
  {
   "cell_type": "code",
   "execution_count": 3,
   "id": "dynamic-saver",
   "metadata": {
    "execution": {
     "iopub.execute_input": "2021-03-29T00:06:12.557626Z",
     "iopub.status.busy": "2021-03-29T00:06:12.555428Z",
     "iopub.status.idle": "2021-03-29T00:06:12.561277Z",
     "shell.execute_reply": "2021-03-29T00:06:12.561838Z"
    },
    "papermill": {
     "duration": 0.047873,
     "end_time": "2021-03-29T00:06:12.561962",
     "exception": false,
     "start_time": "2021-03-29T00:06:12.514089",
     "status": "completed"
    },
    "tags": []
   },
   "outputs": [
    {
     "data": {
      "text/plain": [
       "'https://raw.githubusercontent.com/pratapvardhan/notebooks/master/covid19/mapping_countries.csv'"
      ]
     },
     "execution_count": 3,
     "metadata": {},
     "output_type": "execute_result"
    }
   ],
   "source": [
    "#hide\n",
    "paths['mapping']"
   ]
  },
  {
   "cell_type": "code",
   "execution_count": 4,
   "id": "urban-software",
   "metadata": {
    "execution": {
     "iopub.execute_input": "2021-03-29T00:06:12.644298Z",
     "iopub.status.busy": "2021-03-29T00:06:12.643561Z",
     "iopub.status.idle": "2021-03-29T00:06:12.646009Z",
     "shell.execute_reply": "2021-03-29T00:06:12.645462Z"
    },
    "papermill": {
     "duration": 0.045703,
     "end_time": "2021-03-29T00:06:12.646137",
     "exception": false,
     "start_time": "2021-03-29T00:06:12.600434",
     "status": "completed"
    },
    "tags": []
   },
   "outputs": [],
   "source": [
    "#hide\n",
    "def get_mappings(url):\n",
    "    df = pd.read_csv(url)\n",
    "    return {\n",
    "        'df': df,\n",
    "        'replace.country': dict(df.dropna(subset=['Name']).set_index('Country')['Name']),\n",
    "        'map.continent': dict(df.set_index('Name')['Continent'])\n",
    "    }"
   ]
  },
  {
   "cell_type": "code",
   "execution_count": 5,
   "id": "intimate-machinery",
   "metadata": {
    "execution": {
     "iopub.execute_input": "2021-03-29T00:06:12.722754Z",
     "iopub.status.busy": "2021-03-29T00:06:12.722213Z",
     "iopub.status.idle": "2021-03-29T00:06:12.757697Z",
     "shell.execute_reply": "2021-03-29T00:06:12.758274Z"
    },
    "papermill": {
     "duration": 0.078514,
     "end_time": "2021-03-29T00:06:12.758483",
     "exception": false,
     "start_time": "2021-03-29T00:06:12.679969",
     "status": "completed"
    },
    "tags": []
   },
   "outputs": [],
   "source": [
    "#hide\n",
    "mapping = get_mappings(paths['mapping'])"
   ]
  },
  {
   "cell_type": "code",
   "execution_count": 6,
   "id": "certified-tactics",
   "metadata": {
    "execution": {
     "iopub.execute_input": "2021-03-29T00:06:12.836091Z",
     "iopub.status.busy": "2021-03-29T00:06:12.835495Z",
     "iopub.status.idle": "2021-03-29T00:06:12.838333Z",
     "shell.execute_reply": "2021-03-29T00:06:12.839681Z"
    },
    "papermill": {
     "duration": 0.04372,
     "end_time": "2021-03-29T00:06:12.839970",
     "exception": false,
     "start_time": "2021-03-29T00:06:12.796250",
     "status": "completed"
    },
    "tags": []
   },
   "outputs": [],
   "source": [
    "#hide\n",
    "def get_template(path):\n",
    "    from urllib.parse import urlparse\n",
    "    if bool(urlparse(path).netloc):\n",
    "        from urllib.request import urlopen\n",
    "        return urlopen(path).read().decode('utf8')\n",
    "    return open(path).read()"
   ]
  },
  {
   "cell_type": "code",
   "execution_count": 7,
   "id": "realistic-blast",
   "metadata": {
    "execution": {
     "iopub.execute_input": "2021-03-29T00:06:12.917311Z",
     "iopub.status.busy": "2021-03-29T00:06:12.916604Z",
     "iopub.status.idle": "2021-03-29T00:06:12.919612Z",
     "shell.execute_reply": "2021-03-29T00:06:12.918942Z"
    },
    "papermill": {
     "duration": 0.044837,
     "end_time": "2021-03-29T00:06:12.919768",
     "exception": false,
     "start_time": "2021-03-29T00:06:12.874931",
     "status": "completed"
    },
    "tags": []
   },
   "outputs": [],
   "source": [
    "#hide\n",
    "def get_frame(name):\n",
    "    url = (\n",
    "        'https://raw.githubusercontent.com/CSSEGISandData/COVID-19/master/csse_covid_19_data/'\n",
    "        f'csse_covid_19_time_series/time_series_covid19_{name}_global.csv')\n",
    "    df = pd.read_csv(url)\n",
    "    # rename countries\n",
    "    df['Country/Region'] = df['Country/Region'].replace(mapping['replace.country'])\n",
    "    return df"
   ]
  },
  {
   "cell_type": "code",
   "execution_count": 8,
   "id": "affiliated-characterization",
   "metadata": {
    "execution": {
     "iopub.execute_input": "2021-03-29T00:06:12.995277Z",
     "iopub.status.busy": "2021-03-29T00:06:12.994710Z",
     "iopub.status.idle": "2021-03-29T00:06:12.996652Z",
     "shell.execute_reply": "2021-03-29T00:06:12.997175Z"
    },
    "papermill": {
     "duration": 0.041683,
     "end_time": "2021-03-29T00:06:12.997372",
     "exception": false,
     "start_time": "2021-03-29T00:06:12.955689",
     "status": "completed"
    },
    "tags": []
   },
   "outputs": [],
   "source": [
    "#hide\n",
    "def get_dates(df):\n",
    "    dt_cols = df.columns[~df.columns.isin(['Province/State', 'Country/Region', 'Lat', 'Long'])]\n",
    "    LAST_DATE_I = -1\n",
    "    # sometimes last column may be empty, then go backwards\n",
    "    for i in range(-1, -len(dt_cols), -1):\n",
    "        if not df[dt_cols[i]].fillna(0).eq(0).all():\n",
    "            LAST_DATE_I = i\n",
    "            break\n",
    "    return LAST_DATE_I, dt_cols"
   ]
  },
  {
   "cell_type": "code",
   "execution_count": 9,
   "id": "recent-optimization",
   "metadata": {
    "execution": {
     "iopub.execute_input": "2021-03-29T00:06:13.077582Z",
     "iopub.status.busy": "2021-03-29T00:06:13.076893Z",
     "iopub.status.idle": "2021-03-29T00:06:13.353283Z",
     "shell.execute_reply": "2021-03-29T00:06:13.352493Z"
    },
    "papermill": {
     "duration": 0.318163,
     "end_time": "2021-03-29T00:06:13.353409",
     "exception": false,
     "start_time": "2021-03-29T00:06:13.035246",
     "status": "completed"
    },
    "tags": []
   },
   "outputs": [],
   "source": [
    "#hide\n",
    "COL_REGION = 'Country/Region'\n",
    "# Confirmed, Recovered, Deaths\n",
    "df = get_frame('confirmed')\n",
    "# dft_: timeseries, dfc_: today country agg\n",
    "dft_cases = df\n",
    "dft_deaths = get_frame('deaths')\n",
    "dft_recovered = get_frame('recovered')\n",
    "LAST_DATE_I, dt_cols = get_dates(df)"
   ]
  },
  {
   "cell_type": "code",
   "execution_count": 10,
   "id": "absolute-copper",
   "metadata": {
    "execution": {
     "iopub.execute_input": "2021-03-29T00:06:13.425369Z",
     "iopub.status.busy": "2021-03-29T00:06:13.424811Z",
     "iopub.status.idle": "2021-03-29T00:06:13.426907Z",
     "shell.execute_reply": "2021-03-29T00:06:13.427546Z"
    },
    "papermill": {
     "duration": 0.040927,
     "end_time": "2021-03-29T00:06:13.427661",
     "exception": false,
     "start_time": "2021-03-29T00:06:13.386734",
     "status": "completed"
    },
    "tags": []
   },
   "outputs": [],
   "source": [
    "#hide\n",
    "LAST_DATE_I, dt_cols = get_dates(df)\n",
    "dt_today =dt_cols[LAST_DATE_I]\n",
    "# dt_5day = dt_cols[LAST_DATE_I - 5]\n",
    "dt_yday = dt_cols[LAST_DATE_I - 1]"
   ]
  },
  {
   "cell_type": "code",
   "execution_count": 11,
   "id": "restricted-sheriff",
   "metadata": {
    "execution": {
     "iopub.execute_input": "2021-03-29T00:06:13.505755Z",
     "iopub.status.busy": "2021-03-29T00:06:13.505189Z",
     "iopub.status.idle": "2021-03-29T00:06:13.514014Z",
     "shell.execute_reply": "2021-03-29T00:06:13.514540Z"
    },
    "papermill": {
     "duration": 0.052168,
     "end_time": "2021-03-29T00:06:13.514667",
     "exception": false,
     "start_time": "2021-03-29T00:06:13.462499",
     "status": "completed"
    },
    "tags": []
   },
   "outputs": [],
   "source": [
    "#hide\n",
    "dfc_cases = dft_cases.groupby(COL_REGION)[dt_today].sum()\n",
    "dfc_deaths = dft_deaths.groupby(COL_REGION)[dt_today].sum()\n",
    "# dfp_cases = dft_cases.groupby(COL_REGION)[dt_5day].sum()\n",
    "# dfp_deaths = dft_deaths.groupby(COL_REGION)[dt_5day].sum()\n",
    "dfp_cases = dft_cases.groupby(COL_REGION)[dt_yday].sum()\n",
    "dfp_deaths = dft_deaths.groupby(COL_REGION)[dt_yday].sum()"
   ]
  },
  {
   "cell_type": "code",
   "execution_count": 12,
   "id": "deluxe-hepatitis",
   "metadata": {
    "execution": {
     "iopub.execute_input": "2021-03-29T00:06:13.597453Z",
     "iopub.status.busy": "2021-03-29T00:06:13.596721Z",
     "iopub.status.idle": "2021-03-29T00:06:13.602138Z",
     "shell.execute_reply": "2021-03-29T00:06:13.602838Z"
    },
    "papermill": {
     "duration": 0.054783,
     "end_time": "2021-03-29T00:06:13.603200",
     "exception": false,
     "start_time": "2021-03-29T00:06:13.548417",
     "status": "completed"
    },
    "tags": []
   },
   "outputs": [],
   "source": [
    "#hide\n",
    "df_table = (pd.DataFrame(dict(Cases = dfc_cases, Deaths = dfc_deaths, PCases = dfp_cases, PDeaths = dfp_deaths))\n",
    "            .sort_values(by = ['Cases','Deaths'], ascending = [False, False])\n",
    "            .reset_index())"
   ]
  },
  {
   "cell_type": "code",
   "execution_count": 13,
   "id": "educational-chancellor",
   "metadata": {
    "execution": {
     "iopub.execute_input": "2021-03-29T00:06:13.693342Z",
     "iopub.status.busy": "2021-03-29T00:06:13.692818Z",
     "iopub.status.idle": "2021-03-29T00:06:13.700778Z",
     "shell.execute_reply": "2021-03-29T00:06:13.701264Z"
    },
    "papermill": {
     "duration": 0.062225,
     "end_time": "2021-03-29T00:06:13.701378",
     "exception": false,
     "start_time": "2021-03-29T00:06:13.639153",
     "status": "completed"
    },
    "tags": []
   },
   "outputs": [
    {
     "data": {
      "text/html": [
       "<div>\n",
       "<style scoped>\n",
       "    .dataframe tbody tr th:only-of-type {\n",
       "        vertical-align: middle;\n",
       "    }\n",
       "\n",
       "    .dataframe tbody tr th {\n",
       "        vertical-align: top;\n",
       "    }\n",
       "\n",
       "    .dataframe thead th {\n",
       "        text-align: right;\n",
       "    }\n",
       "</style>\n",
       "<table border=\"1\" class=\"dataframe\">\n",
       "  <thead>\n",
       "    <tr style=\"text-align: right;\">\n",
       "      <th></th>\n",
       "      <th>Country/Region</th>\n",
       "      <th>Cases</th>\n",
       "      <th>Deaths</th>\n",
       "      <th>PCases</th>\n",
       "      <th>PDeaths</th>\n",
       "      <th>Cases (+)</th>\n",
       "      <th>Deaths (+)</th>\n",
       "      <th>Fatality Rate</th>\n",
       "      <th>Continent</th>\n",
       "    </tr>\n",
       "  </thead>\n",
       "  <tbody>\n",
       "    <tr>\n",
       "      <th>0</th>\n",
       "      <td>US</td>\n",
       "      <td>30218683</td>\n",
       "      <td>548828</td>\n",
       "      <td>30156621</td>\n",
       "      <td>548087</td>\n",
       "      <td>62062</td>\n",
       "      <td>741</td>\n",
       "      <td>1.82</td>\n",
       "      <td>North America</td>\n",
       "    </tr>\n",
       "    <tr>\n",
       "      <th>1</th>\n",
       "      <td>Brazil</td>\n",
       "      <td>12490362</td>\n",
       "      <td>310550</td>\n",
       "      <td>12404414</td>\n",
       "      <td>307112</td>\n",
       "      <td>85948</td>\n",
       "      <td>3438</td>\n",
       "      <td>2.49</td>\n",
       "      <td>South America</td>\n",
       "    </tr>\n",
       "    <tr>\n",
       "      <th>2</th>\n",
       "      <td>India</td>\n",
       "      <td>11971624</td>\n",
       "      <td>161552</td>\n",
       "      <td>11908910</td>\n",
       "      <td>161240</td>\n",
       "      <td>62714</td>\n",
       "      <td>312</td>\n",
       "      <td>1.35</td>\n",
       "      <td>Asia</td>\n",
       "    </tr>\n",
       "    <tr>\n",
       "      <th>3</th>\n",
       "      <td>France</td>\n",
       "      <td>4569164</td>\n",
       "      <td>94623</td>\n",
       "      <td>4526530</td>\n",
       "      <td>94432</td>\n",
       "      <td>42634</td>\n",
       "      <td>191</td>\n",
       "      <td>2.07</td>\n",
       "      <td>Europe</td>\n",
       "    </tr>\n",
       "    <tr>\n",
       "      <th>4</th>\n",
       "      <td>Russia</td>\n",
       "      <td>4460348</td>\n",
       "      <td>95792</td>\n",
       "      <td>4451565</td>\n",
       "      <td>95410</td>\n",
       "      <td>8783</td>\n",
       "      <td>382</td>\n",
       "      <td>2.15</td>\n",
       "      <td>Europe</td>\n",
       "    </tr>\n",
       "  </tbody>\n",
       "</table>\n",
       "</div>"
      ],
      "text/plain": [
       "  Country/Region     Cases  Deaths    PCases  PDeaths  Cases (+)  Deaths (+)  \\\n",
       "0             US  30218683  548828  30156621   548087      62062         741   \n",
       "1         Brazil  12490362  310550  12404414   307112      85948        3438   \n",
       "2          India  11971624  161552  11908910   161240      62714         312   \n",
       "3         France   4569164   94623   4526530    94432      42634         191   \n",
       "4         Russia   4460348   95792   4451565    95410       8783         382   \n",
       "\n",
       "   Fatality Rate      Continent  \n",
       "0           1.82  North America  \n",
       "1           2.49  South America  \n",
       "2           1.35           Asia  \n",
       "3           2.07         Europe  \n",
       "4           2.15         Europe  "
      ]
     },
     "execution_count": 13,
     "metadata": {},
     "output_type": "execute_result"
    }
   ],
   "source": [
    "#hide\n",
    "for c in 'Cases, Deaths'.split(', '):\n",
    "    df_table[f'{c} (+)'] = (df_table[c] - df_table[f'P{c}']).clip(0)\n",
    "    #Clip ça veut dire, les chiffres negatif sont interdit\n",
    "df_table['Fatality Rate'] = (100* df_table['Deaths']/ df_table['Cases']).round(2)\n",
    "df_table['Continent'] = df_table['Country/Region'].map(mapping['map.continent'])\n",
    "df_table.head(5)"
   ]
  },
  {
   "cell_type": "code",
   "execution_count": 14,
   "id": "aboriginal-bulgaria",
   "metadata": {
    "execution": {
     "iopub.execute_input": "2021-03-29T00:06:13.773105Z",
     "iopub.status.busy": "2021-03-29T00:06:13.772475Z",
     "iopub.status.idle": "2021-03-29T00:06:13.777414Z",
     "shell.execute_reply": "2021-03-29T00:06:13.776844Z"
    },
    "papermill": {
     "duration": 0.043444,
     "end_time": "2021-03-29T00:06:13.777555",
     "exception": false,
     "start_time": "2021-03-29T00:06:13.734111",
     "status": "completed"
    },
    "tags": []
   },
   "outputs": [],
   "source": [
    "#hide\n",
    "#delete problematic countries from table\n",
    "df_table = df_table[~df_table['Country/Region'].isin(['Cape Verde', 'Cruise Ship', 'Kosovo'])]"
   ]
  },
  {
   "cell_type": "code",
   "execution_count": 15,
   "id": "fantastic-effect",
   "metadata": {
    "execution": {
     "iopub.execute_input": "2021-03-29T00:06:13.857135Z",
     "iopub.status.busy": "2021-03-29T00:06:13.856506Z",
     "iopub.status.idle": "2021-03-29T00:06:13.876424Z",
     "shell.execute_reply": "2021-03-29T00:06:13.875911Z"
    },
    "papermill": {
     "duration": 0.06431,
     "end_time": "2021-03-29T00:06:13.876539",
     "exception": false,
     "start_time": "2021-03-29T00:06:13.812229",
     "status": "completed"
    },
    "tags": []
   },
   "outputs": [
    {
     "data": {
      "text/html": [
       "<div>\n",
       "<style scoped>\n",
       "    .dataframe tbody tr th:only-of-type {\n",
       "        vertical-align: middle;\n",
       "    }\n",
       "\n",
       "    .dataframe tbody tr th {\n",
       "        vertical-align: top;\n",
       "    }\n",
       "\n",
       "    .dataframe thead th {\n",
       "        text-align: right;\n",
       "    }\n",
       "</style>\n",
       "<table border=\"1\" class=\"dataframe\">\n",
       "  <thead>\n",
       "    <tr style=\"text-align: right;\">\n",
       "      <th></th>\n",
       "      <th>Country/Region</th>\n",
       "      <th>Cases</th>\n",
       "      <th>Deaths</th>\n",
       "      <th>PCases</th>\n",
       "      <th>PDeaths</th>\n",
       "      <th>Cases (+)</th>\n",
       "      <th>Deaths (+)</th>\n",
       "      <th>Fatality Rate</th>\n",
       "      <th>Continent</th>\n",
       "    </tr>\n",
       "  </thead>\n",
       "  <tbody>\n",
       "    <tr>\n",
       "      <th>0</th>\n",
       "      <td>US</td>\n",
       "      <td>30218683</td>\n",
       "      <td>548828</td>\n",
       "      <td>30156621</td>\n",
       "      <td>548087</td>\n",
       "      <td>62062</td>\n",
       "      <td>741</td>\n",
       "      <td>1.8</td>\n",
       "      <td>North America</td>\n",
       "    </tr>\n",
       "    <tr>\n",
       "      <th>1</th>\n",
       "      <td>Brazil</td>\n",
       "      <td>12490362</td>\n",
       "      <td>310550</td>\n",
       "      <td>12404414</td>\n",
       "      <td>307112</td>\n",
       "      <td>85948</td>\n",
       "      <td>3438</td>\n",
       "      <td>2.5</td>\n",
       "      <td>South America</td>\n",
       "    </tr>\n",
       "    <tr>\n",
       "      <th>2</th>\n",
       "      <td>India</td>\n",
       "      <td>11971624</td>\n",
       "      <td>161552</td>\n",
       "      <td>11908910</td>\n",
       "      <td>161240</td>\n",
       "      <td>62714</td>\n",
       "      <td>312</td>\n",
       "      <td>1.3</td>\n",
       "      <td>Asia</td>\n",
       "    </tr>\n",
       "    <tr>\n",
       "      <th>3</th>\n",
       "      <td>France</td>\n",
       "      <td>4569164</td>\n",
       "      <td>94623</td>\n",
       "      <td>4526530</td>\n",
       "      <td>94432</td>\n",
       "      <td>42634</td>\n",
       "      <td>191</td>\n",
       "      <td>2.1</td>\n",
       "      <td>Europe</td>\n",
       "    </tr>\n",
       "    <tr>\n",
       "      <th>4</th>\n",
       "      <td>Russia</td>\n",
       "      <td>4460348</td>\n",
       "      <td>95792</td>\n",
       "      <td>4451565</td>\n",
       "      <td>95410</td>\n",
       "      <td>8783</td>\n",
       "      <td>382</td>\n",
       "      <td>2.1</td>\n",
       "      <td>Europe</td>\n",
       "    </tr>\n",
       "  </tbody>\n",
       "</table>\n",
       "</div>"
      ],
      "text/plain": [
       "  Country/Region     Cases  Deaths    PCases  PDeaths  Cases (+)  Deaths (+)  \\\n",
       "0             US  30218683  548828  30156621   548087      62062         741   \n",
       "1         Brazil  12490362  310550  12404414   307112      85948        3438   \n",
       "2          India  11971624  161552  11908910   161240      62714         312   \n",
       "3         France   4569164   94623   4526530    94432      42634         191   \n",
       "4         Russia   4460348   95792   4451565    95410       8783         382   \n",
       "\n",
       "   Fatality Rate      Continent  \n",
       "0            1.8  North America  \n",
       "1            2.5  South America  \n",
       "2            1.3           Asia  \n",
       "3            2.1         Europe  \n",
       "4            2.1         Europe  "
      ]
     },
     "execution_count": 15,
     "metadata": {},
     "output_type": "execute_result"
    }
   ],
   "source": [
    "#hide\n",
    "df_table = (pd.DataFrame(dict(Cases=dfc_cases, Deaths=dfc_deaths, PCases=dfp_cases, PDeaths=dfp_deaths))\n",
    "             .sort_values(by=['Cases', 'Deaths'], ascending=[False, False])\n",
    "             .reset_index())\n",
    "df_table.rename(columns={'index': 'Country/Region'}, inplace=True)\n",
    "for c in 'Cases, Deaths'.split(', '):\n",
    "    df_table[f'{c} (+)'] = (df_table[c] - df_table[f'P{c}']).clip(0)  # DATA BUG\n",
    "df_table['Fatality Rate'] = (100 * df_table['Deaths'] / df_table['Cases']).round(1)\n",
    "df_table['Continent'] = df_table['Country/Region'].map(mapping['map.continent'])\n",
    "df_table.head(5)"
   ]
  },
  {
   "cell_type": "code",
   "execution_count": 16,
   "id": "fewer-occasion",
   "metadata": {
    "execution": {
     "iopub.execute_input": "2021-03-29T00:06:13.954202Z",
     "iopub.status.busy": "2021-03-29T00:06:13.953636Z",
     "iopub.status.idle": "2021-03-29T00:06:13.956458Z",
     "shell.execute_reply": "2021-03-29T00:06:13.956908Z"
    },
    "papermill": {
     "duration": 0.043843,
     "end_time": "2021-03-29T00:06:13.957024",
     "exception": false,
     "start_time": "2021-03-29T00:06:13.913181",
     "status": "completed"
    },
    "tags": []
   },
   "outputs": [],
   "source": [
    "#hide\n",
    "#delete problematic countries from table\n",
    "df_table = df_table[~df_table['Country/Region'].isin(['Cape Verde', 'Cruise Ship', 'Kosovo'])]"
   ]
  },
  {
   "cell_type": "code",
   "execution_count": 17,
   "id": "related-center",
   "metadata": {
    "execution": {
     "iopub.execute_input": "2021-03-29T00:06:14.045521Z",
     "iopub.status.busy": "2021-03-29T00:06:14.044970Z",
     "iopub.status.idle": "2021-03-29T00:06:14.047025Z",
     "shell.execute_reply": "2021-03-29T00:06:14.047451Z"
    },
    "papermill": {
     "duration": 0.058175,
     "end_time": "2021-03-29T00:06:14.047573",
     "exception": false,
     "start_time": "2021-03-29T00:06:13.989398",
     "status": "completed"
    },
    "tags": []
   },
   "outputs": [],
   "source": [
    "#hide\n",
    "metrics = [df_table.columns[index] for index in [1,2,5,6]]\n",
    "# s_china = df_table[df_table['Country/Region'].eq('China')][metrics].sum().add_prefix('China ')\n",
    "s_us = df_table[df_table['Country/Region'].eq('US')][metrics].sum().add_prefix('US ')\n",
    "s_eu = df_table[df_table['Continent'].eq('Europe')][metrics].sum().add_prefix('EU ')\n",
    "s_ind = df_table[df_table['Country/Region'].eq('India')][metrics].sum().add_prefix('India ')\n",
    "summary = {'updated': pd.to_datetime(dt_today), 'since': pd.to_datetime(dt_yday)}\n",
    "summary = {'updated': pd.to_datetime(dt_today), 'since': pd.to_datetime(dt_yday)}\n",
    "summary = {**summary, **df_table[metrics].sum(), **s_ind, **s_us, **s_eu}"
   ]
  },
  {
   "cell_type": "code",
   "execution_count": 18,
   "id": "engaging-syndrome",
   "metadata": {
    "execution": {
     "iopub.execute_input": "2021-03-29T00:06:14.126209Z",
     "iopub.status.busy": "2021-03-29T00:06:14.125476Z",
     "iopub.status.idle": "2021-03-29T00:06:14.137293Z",
     "shell.execute_reply": "2021-03-29T00:06:14.137868Z"
    },
    "papermill": {
     "duration": 0.054951,
     "end_time": "2021-03-29T00:06:14.138135",
     "exception": false,
     "start_time": "2021-03-29T00:06:14.083184",
     "status": "completed"
    },
    "tags": []
   },
   "outputs": [],
   "source": [
    "#hide\n",
    "dft_ct_new_cases = dft_cases.groupby(COL_REGION)[dt_cols].sum().diff(axis=1).fillna(0).astype(int)"
   ]
  },
  {
   "cell_type": "code",
   "execution_count": 19,
   "id": "neutral-assignment",
   "metadata": {
    "execution": {
     "iopub.execute_input": "2021-03-29T00:06:14.210761Z",
     "iopub.status.busy": "2021-03-29T00:06:14.210147Z",
     "iopub.status.idle": "2021-03-29T00:06:14.212755Z",
     "shell.execute_reply": "2021-03-29T00:06:14.213396Z"
    },
    "papermill": {
     "duration": 0.040055,
     "end_time": "2021-03-29T00:06:14.213539",
     "exception": false,
     "start_time": "2021-03-29T00:06:14.173484",
     "status": "completed"
    },
    "tags": []
   },
   "outputs": [],
   "source": [
    "#hide\n",
    "everydaycases = dft_ct_new_cases.cumsum(axis=1)"
   ]
  },
  {
   "cell_type": "code",
   "execution_count": 20,
   "id": "parliamentary-calgary",
   "metadata": {
    "execution": {
     "iopub.execute_input": "2021-03-29T00:06:14.288751Z",
     "iopub.status.busy": "2021-03-29T00:06:14.288230Z",
     "iopub.status.idle": "2021-03-29T00:06:14.937526Z",
     "shell.execute_reply": "2021-03-29T00:06:14.937066Z"
    },
    "papermill": {
     "duration": 0.687565,
     "end_time": "2021-03-29T00:06:14.937638",
     "exception": false,
     "start_time": "2021-03-29T00:06:14.250073",
     "status": "completed"
    },
    "tags": []
   },
   "outputs": [],
   "source": [
    "#hide\n",
    "import pandas as pd\n",
    "import matplotlib.pyplot as plt\n",
    "import matplotlib.ticker as ticker\n",
    "import matplotlib.animation as animation\n",
    "from IPython.display import HTML"
   ]
  },
  {
   "cell_type": "code",
   "execution_count": 21,
   "id": "lasting-extraction",
   "metadata": {
    "execution": {
     "iopub.execute_input": "2021-03-29T00:06:15.009364Z",
     "iopub.status.busy": "2021-03-29T00:06:15.008723Z",
     "iopub.status.idle": "2021-03-29T00:06:15.015351Z",
     "shell.execute_reply": "2021-03-29T00:06:15.015815Z"
    },
    "papermill": {
     "duration": 0.045434,
     "end_time": "2021-03-29T00:06:15.015975",
     "exception": false,
     "start_time": "2021-03-29T00:06:14.970541",
     "status": "completed"
    },
    "tags": []
   },
   "outputs": [],
   "source": [
    "#hide\n",
    "t = everydaycases.stack()"
   ]
  },
  {
   "cell_type": "code",
   "execution_count": 22,
   "id": "premier-sleeve",
   "metadata": {
    "execution": {
     "iopub.execute_input": "2021-03-29T00:06:15.091032Z",
     "iopub.status.busy": "2021-03-29T00:06:15.090310Z",
     "iopub.status.idle": "2021-03-29T00:06:15.097984Z",
     "shell.execute_reply": "2021-03-29T00:06:15.098540Z"
    },
    "papermill": {
     "duration": 0.048245,
     "end_time": "2021-03-29T00:06:15.098743",
     "exception": false,
     "start_time": "2021-03-29T00:06:15.050498",
     "status": "completed"
    },
    "tags": []
   },
   "outputs": [],
   "source": [
    "#hide\n",
    "g = t.reset_index(['Country/Region'])"
   ]
  },
  {
   "cell_type": "code",
   "execution_count": 23,
   "id": "distributed-pittsburgh",
   "metadata": {
    "execution": {
     "iopub.execute_input": "2021-03-29T00:06:15.171556Z",
     "iopub.status.busy": "2021-03-29T00:06:15.171014Z",
     "iopub.status.idle": "2021-03-29T00:06:15.173344Z",
     "shell.execute_reply": "2021-03-29T00:06:15.172678Z"
    },
    "papermill": {
     "duration": 0.039321,
     "end_time": "2021-03-29T00:06:15.173454",
     "exception": false,
     "start_time": "2021-03-29T00:06:15.134133",
     "status": "completed"
    },
    "tags": []
   },
   "outputs": [],
   "source": [
    "#hide\n",
    "g.index.name = 'date'"
   ]
  },
  {
   "cell_type": "code",
   "execution_count": 24,
   "id": "naked-donor",
   "metadata": {
    "execution": {
     "iopub.execute_input": "2021-03-29T00:06:15.250150Z",
     "iopub.status.busy": "2021-03-29T00:06:15.249603Z",
     "iopub.status.idle": "2021-03-29T00:06:15.251778Z",
     "shell.execute_reply": "2021-03-29T00:06:15.251286Z"
    },
    "papermill": {
     "duration": 0.041939,
     "end_time": "2021-03-29T00:06:15.251881",
     "exception": false,
     "start_time": "2021-03-29T00:06:15.209942",
     "status": "completed"
    },
    "tags": []
   },
   "outputs": [],
   "source": [
    "# #hide\n",
    "# g = g.reset_index(['date'])"
   ]
  },
  {
   "cell_type": "code",
   "execution_count": 25,
   "id": "incomplete-mustang",
   "metadata": {
    "execution": {
     "iopub.execute_input": "2021-03-29T00:06:15.325268Z",
     "iopub.status.busy": "2021-03-29T00:06:15.324491Z",
     "iopub.status.idle": "2021-03-29T00:06:15.327584Z",
     "shell.execute_reply": "2021-03-29T00:06:15.327064Z"
    },
    "papermill": {
     "duration": 0.039882,
     "end_time": "2021-03-29T00:06:15.327692",
     "exception": false,
     "start_time": "2021-03-29T00:06:15.287810",
     "status": "completed"
    },
    "tags": []
   },
   "outputs": [],
   "source": [
    "#hide\n",
    "# g.head()"
   ]
  },
  {
   "cell_type": "code",
   "execution_count": 26,
   "id": "specific-kruger",
   "metadata": {
    "execution": {
     "iopub.execute_input": "2021-03-29T00:06:15.403967Z",
     "iopub.status.busy": "2021-03-29T00:06:15.403362Z",
     "iopub.status.idle": "2021-03-29T00:06:15.405527Z",
     "shell.execute_reply": "2021-03-29T00:06:15.405091Z"
    },
    "papermill": {
     "duration": 0.040859,
     "end_time": "2021-03-29T00:06:15.405625",
     "exception": false,
     "start_time": "2021-03-29T00:06:15.364766",
     "status": "completed"
    },
    "tags": []
   },
   "outputs": [],
   "source": [
    "#hide\n",
    "# g.columns = ['date','country','cases']"
   ]
  },
  {
   "cell_type": "code",
   "execution_count": 27,
   "id": "tender-conversion",
   "metadata": {
    "execution": {
     "iopub.execute_input": "2021-03-29T00:06:15.483357Z",
     "iopub.status.busy": "2021-03-29T00:06:15.482803Z",
     "iopub.status.idle": "2021-03-29T00:06:15.485102Z",
     "shell.execute_reply": "2021-03-29T00:06:15.484645Z"
    },
    "papermill": {
     "duration": 0.04224,
     "end_time": "2021-03-29T00:06:15.485241",
     "exception": false,
     "start_time": "2021-03-29T00:06:15.443001",
     "status": "completed"
    },
    "tags": []
   },
   "outputs": [],
   "source": [
    "#hide\n",
    "# g['continent'] = g.country"
   ]
  },
  {
   "cell_type": "code",
   "execution_count": 28,
   "id": "substantial-wilderness",
   "metadata": {
    "execution": {
     "iopub.execute_input": "2021-03-29T00:06:15.559743Z",
     "iopub.status.busy": "2021-03-29T00:06:15.559035Z",
     "iopub.status.idle": "2021-03-29T00:06:15.561530Z",
     "shell.execute_reply": "2021-03-29T00:06:15.560916Z"
    },
    "papermill": {
     "duration": 0.041393,
     "end_time": "2021-03-29T00:06:15.561632",
     "exception": false,
     "start_time": "2021-03-29T00:06:15.520239",
     "status": "completed"
    },
    "tags": []
   },
   "outputs": [],
   "source": [
    "#hide\n",
    "# cols = list(g.columns.values)"
   ]
  },
  {
   "cell_type": "code",
   "execution_count": 29,
   "id": "solved-farming",
   "metadata": {
    "execution": {
     "iopub.execute_input": "2021-03-29T00:06:15.641398Z",
     "iopub.status.busy": "2021-03-29T00:06:15.640772Z",
     "iopub.status.idle": "2021-03-29T00:06:15.643029Z",
     "shell.execute_reply": "2021-03-29T00:06:15.642561Z"
    },
    "papermill": {
     "duration": 0.040589,
     "end_time": "2021-03-29T00:06:15.643142",
     "exception": false,
     "start_time": "2021-03-29T00:06:15.602553",
     "status": "completed"
    },
    "tags": []
   },
   "outputs": [],
   "source": [
    "#hide\n",
    "# cols.insert(0, cols.pop())"
   ]
  },
  {
   "cell_type": "code",
   "execution_count": 30,
   "id": "executed-adoption",
   "metadata": {
    "execution": {
     "iopub.execute_input": "2021-03-29T00:06:15.715221Z",
     "iopub.status.busy": "2021-03-29T00:06:15.714686Z",
     "iopub.status.idle": "2021-03-29T00:06:15.716015Z",
     "shell.execute_reply": "2021-03-29T00:06:15.716515Z"
    },
    "papermill": {
     "duration": 0.039062,
     "end_time": "2021-03-29T00:06:15.716633",
     "exception": false,
     "start_time": "2021-03-29T00:06:15.677571",
     "status": "completed"
    },
    "tags": []
   },
   "outputs": [],
   "source": [
    "#hide\n",
    "# g = g[cols]"
   ]
  },
  {
   "cell_type": "code",
   "execution_count": 31,
   "id": "subject-dublin",
   "metadata": {
    "execution": {
     "iopub.execute_input": "2021-03-29T00:06:15.793594Z",
     "iopub.status.busy": "2021-03-29T00:06:15.793021Z",
     "iopub.status.idle": "2021-03-29T00:06:15.795391Z",
     "shell.execute_reply": "2021-03-29T00:06:15.794924Z"
    },
    "papermill": {
     "duration": 0.043872,
     "end_time": "2021-03-29T00:06:15.795498",
     "exception": false,
     "start_time": "2021-03-29T00:06:15.751626",
     "status": "completed"
    },
    "tags": []
   },
   "outputs": [],
   "source": [
    "#hide\n",
    "# g['continent'] = g['continent'].map(mapping['map.continent'])"
   ]
  },
  {
   "cell_type": "code",
   "execution_count": 32,
   "id": "freelance-scout",
   "metadata": {
    "execution": {
     "iopub.execute_input": "2021-03-29T00:06:15.873970Z",
     "iopub.status.busy": "2021-03-29T00:06:15.873387Z",
     "iopub.status.idle": "2021-03-29T00:06:15.875469Z",
     "shell.execute_reply": "2021-03-29T00:06:15.874906Z"
    },
    "papermill": {
     "duration": 0.041896,
     "end_time": "2021-03-29T00:06:15.875593",
     "exception": false,
     "start_time": "2021-03-29T00:06:15.833697",
     "status": "completed"
    },
    "tags": []
   },
   "outputs": [],
   "source": [
    "#hide\n",
    "# g.head()"
   ]
  },
  {
   "cell_type": "code",
   "execution_count": 33,
   "id": "limited-engine",
   "metadata": {
    "execution": {
     "iopub.execute_input": "2021-03-29T00:06:15.949151Z",
     "iopub.status.busy": "2021-03-29T00:06:15.948530Z",
     "iopub.status.idle": "2021-03-29T00:06:15.950839Z",
     "shell.execute_reply": "2021-03-29T00:06:15.950318Z"
    },
    "papermill": {
     "duration": 0.04138,
     "end_time": "2021-03-29T00:06:15.950949",
     "exception": false,
     "start_time": "2021-03-29T00:06:15.909569",
     "status": "completed"
    },
    "tags": []
   },
   "outputs": [],
   "source": [
    "# hide\n",
    "# g['date'] = g['date'].astype('datetime64[ns]')"
   ]
  },
  {
   "cell_type": "code",
   "execution_count": 34,
   "id": "sophisticated-supervisor",
   "metadata": {
    "execution": {
     "iopub.execute_input": "2021-03-29T00:06:16.024416Z",
     "iopub.status.busy": "2021-03-29T00:06:16.023742Z",
     "iopub.status.idle": "2021-03-29T00:06:16.026152Z",
     "shell.execute_reply": "2021-03-29T00:06:16.026552Z"
    },
    "papermill": {
     "duration": 0.039542,
     "end_time": "2021-03-29T00:06:16.026668",
     "exception": false,
     "start_time": "2021-03-29T00:06:15.987126",
     "status": "completed"
    },
    "tags": []
   },
   "outputs": [],
   "source": [
    "#hide\n",
    "# g['date'] = g.date.dt.dayofyear"
   ]
  },
  {
   "cell_type": "code",
   "execution_count": 35,
   "id": "inside-dubai",
   "metadata": {
    "execution": {
     "iopub.execute_input": "2021-03-29T00:06:16.103493Z",
     "iopub.status.busy": "2021-03-29T00:06:16.102726Z",
     "iopub.status.idle": "2021-03-29T00:06:16.104929Z",
     "shell.execute_reply": "2021-03-29T00:06:16.105432Z"
    },
    "papermill": {
     "duration": 0.041941,
     "end_time": "2021-03-29T00:06:16.105552",
     "exception": false,
     "start_time": "2021-03-29T00:06:16.063611",
     "status": "completed"
    },
    "tags": []
   },
   "outputs": [],
   "source": [
    "#hide\n",
    "# g = g.rename(columns= {'continent':'group','country':'name','cases':'value'})"
   ]
  },
  {
   "cell_type": "code",
   "execution_count": 36,
   "id": "fleet-motorcycle",
   "metadata": {
    "execution": {
     "iopub.execute_input": "2021-03-29T00:06:16.177101Z",
     "iopub.status.busy": "2021-03-29T00:06:16.176555Z",
     "iopub.status.idle": "2021-03-29T00:06:16.178936Z",
     "shell.execute_reply": "2021-03-29T00:06:16.178488Z"
    },
    "papermill": {
     "duration": 0.039931,
     "end_time": "2021-03-29T00:06:16.179035",
     "exception": false,
     "start_time": "2021-03-29T00:06:16.139104",
     "status": "completed"
    },
    "tags": []
   },
   "outputs": [],
   "source": [
    "#hide\n",
    "# cols = ['name','group','day','value']"
   ]
  },
  {
   "cell_type": "code",
   "execution_count": 37,
   "id": "continued-sleeping",
   "metadata": {
    "execution": {
     "iopub.execute_input": "2021-03-29T00:06:16.249903Z",
     "iopub.status.busy": "2021-03-29T00:06:16.249361Z",
     "iopub.status.idle": "2021-03-29T00:06:16.251394Z",
     "shell.execute_reply": "2021-03-29T00:06:16.251826Z"
    },
    "papermill": {
     "duration": 0.038465,
     "end_time": "2021-03-29T00:06:16.251996",
     "exception": false,
     "start_time": "2021-03-29T00:06:16.213531",
     "status": "completed"
    },
    "tags": []
   },
   "outputs": [],
   "source": [
    "#hide\n",
    "# g.rename(columns= {'date':'day'},inplace = True)"
   ]
  },
  {
   "cell_type": "code",
   "execution_count": 38,
   "id": "major-fight",
   "metadata": {
    "execution": {
     "iopub.execute_input": "2021-03-29T00:06:16.324167Z",
     "iopub.status.busy": "2021-03-29T00:06:16.323608Z",
     "iopub.status.idle": "2021-03-29T00:06:16.325994Z",
     "shell.execute_reply": "2021-03-29T00:06:16.325364Z"
    },
    "papermill": {
     "duration": 0.038782,
     "end_time": "2021-03-29T00:06:16.326105",
     "exception": false,
     "start_time": "2021-03-29T00:06:16.287323",
     "status": "completed"
    },
    "tags": []
   },
   "outputs": [],
   "source": [
    "#hide\n",
    "# g = g[cols]"
   ]
  },
  {
   "cell_type": "code",
   "execution_count": 39,
   "id": "structured-mobile",
   "metadata": {
    "execution": {
     "iopub.execute_input": "2021-03-29T00:06:16.398505Z",
     "iopub.status.busy": "2021-03-29T00:06:16.397962Z",
     "iopub.status.idle": "2021-03-29T00:06:16.400960Z",
     "shell.execute_reply": "2021-03-29T00:06:16.401530Z"
    },
    "papermill": {
     "duration": 0.040558,
     "end_time": "2021-03-29T00:06:16.401690",
     "exception": false,
     "start_time": "2021-03-29T00:06:16.361132",
     "status": "completed"
    },
    "tags": []
   },
   "outputs": [],
   "source": [
    "# #hide\n",
    "# g = g[g.group.notna()]"
   ]
  },
  {
   "cell_type": "code",
   "execution_count": 40,
   "id": "determined-closing",
   "metadata": {
    "execution": {
     "iopub.execute_input": "2021-03-29T00:06:16.471571Z",
     "iopub.status.busy": "2021-03-29T00:06:16.471026Z",
     "iopub.status.idle": "2021-03-29T00:06:16.473459Z",
     "shell.execute_reply": "2021-03-29T00:06:16.472960Z"
    },
    "papermill": {
     "duration": 0.036996,
     "end_time": "2021-03-29T00:06:16.473562",
     "exception": false,
     "start_time": "2021-03-29T00:06:16.436566",
     "status": "completed"
    },
    "tags": []
   },
   "outputs": [],
   "source": [
    "# #hide\n",
    "# colors = dict(zip(\n",
    "#     [\"Oceania\", \"Europe\", \"Asia\", \"South America\", \"Middle East\", \"North America\", \"Africa\"],\n",
    "#     [\"#adb0ff\", \"#ffb3ff\", \"#90d595\", \"#e48381\", \"#aafbff\", \"#f7bb5f\", \"#eafb50\"]\n",
    "# ))\n",
    "# group_lk = g.set_index('name')['group'].to_dict()"
   ]
  },
  {
   "cell_type": "code",
   "execution_count": null,
   "id": "gross-drinking",
   "metadata": {
    "papermill": {
     "duration": 0.034322,
     "end_time": "2021-03-29T00:06:16.544291",
     "exception": false,
     "start_time": "2021-03-29T00:06:16.509969",
     "status": "completed"
    },
    "tags": []
   },
   "outputs": [],
   "source": []
  },
  {
   "cell_type": "code",
   "execution_count": 41,
   "id": "subject-macintosh",
   "metadata": {
    "execution": {
     "iopub.execute_input": "2021-03-29T00:06:16.621268Z",
     "iopub.status.busy": "2021-03-29T00:06:16.620644Z",
     "iopub.status.idle": "2021-03-29T00:06:16.623457Z",
     "shell.execute_reply": "2021-03-29T00:06:16.622699Z"
    },
    "papermill": {
     "duration": 0.043299,
     "end_time": "2021-03-29T00:06:16.623603",
     "exception": false,
     "start_time": "2021-03-29T00:06:16.580304",
     "status": "completed"
    },
    "tags": []
   },
   "outputs": [],
   "source": [
    "# #hide\n",
    "# fig, ax = plt.subplots(figsize=(15, 8))\n",
    "\n",
    "# def draw_barchart(current_day):\n",
    "#     dff = g[g['day'].eq(current_day)].sort_values(by='value', ascending=True).tail(10)\n",
    "#     ax.clear()\n",
    "#     ax.barh(dff['name'], dff['value'], color=[colors[group_lk[x]] for x in dff['name']])\n",
    "#     dx = dff['value'].max() / 200\n",
    "    \n",
    "#     for i, (value, name) in enumerate(zip(dff['value'], dff['name'])):\n",
    "#         ax.text(value-dx, i,     name,           size=14, weight=600, ha='right', va='bottom')\n",
    "#         ax.text(value-dx, i-.25, group_lk[name], size=10, color='#444444', ha='right', va='baseline')\n",
    "#         ax.text(value+dx, i,     f'{value:,.0f}',  size=14, ha='left',  va='center')\n",
    "#     ax.text(1, 0.4, current_day, transform=ax.transAxes, color='#777777', size=46, ha='right', weight=800)\n",
    "#     ax.text(0, 1.06, 'Population (thousands)', transform=ax.transAxes, size=12, color='#777777')\n",
    "#     ax.xaxis.set_major_formatter(ticker.StrMethodFormatter('{x:,.0f}'))\n",
    "#     ax.xaxis.set_ticks_position('top')\n",
    "#     ax.tick_params(axis='x', colors='#777777', labelsize=12)\n",
    "#     ax.set_yticks([])\n",
    "#     ax.margins(0, 0.01)\n",
    "#     ax.grid(which='major', axis='x', linestyle='-')\n",
    "#     ax.set_axisbelow(True)\n",
    "    \n",
    "#     ax.text(0, 1.15, 'Coronavirus',\n",
    "#             transform=ax.transAxes, size=24, weight=600, ha='left', va='top')\n",
    "# #     ax.text(1, 0, 'by @pratapvardhan; credit @jburnmurdoch', transform=ax.transAxes, color='#777777', ha='right',\n",
    "# #             bbox=dict(facecolor='white', alpha=0.8, edgecolor='white'))\n",
    "#     plt.box(False)"
   ]
  },
  {
   "cell_type": "code",
   "execution_count": 42,
   "id": "sexual-wages",
   "metadata": {
    "execution": {
     "iopub.execute_input": "2021-03-29T00:06:16.697618Z",
     "iopub.status.busy": "2021-03-29T00:06:16.697075Z",
     "iopub.status.idle": "2021-03-29T00:06:16.698368Z",
     "shell.execute_reply": "2021-03-29T00:06:16.699018Z"
    },
    "papermill": {
     "duration": 0.040851,
     "end_time": "2021-03-29T00:06:16.699135",
     "exception": false,
     "start_time": "2021-03-29T00:06:16.658284",
     "status": "completed"
    },
    "tags": []
   },
   "outputs": [],
   "source": [
    "# #hide_input\n",
    "# fig, ax = plt.subplots(figsize=(15, 8))\n",
    "# animator = animation.FuncAnimation(fig, draw_barchart, frames=range(g.day.values.min(), g.day.values.max()))\n",
    "# HTML(animator.to_jshtml())\n",
    "# # or use animator.to_html5_video() or animator.save() "
   ]
  },
  {
   "cell_type": "code",
   "execution_count": null,
   "id": "australian-container",
   "metadata": {
    "papermill": {
     "duration": 0.035529,
     "end_time": "2021-03-29T00:06:16.772848",
     "exception": false,
     "start_time": "2021-03-29T00:06:16.737319",
     "status": "completed"
    },
    "tags": []
   },
   "outputs": [],
   "source": []
  },
  {
   "cell_type": "code",
   "execution_count": null,
   "id": "mediterranean-pontiac",
   "metadata": {
    "papermill": {
     "duration": 0.037031,
     "end_time": "2021-03-29T00:06:16.845211",
     "exception": false,
     "start_time": "2021-03-29T00:06:16.808180",
     "status": "completed"
    },
    "tags": []
   },
   "outputs": [],
   "source": []
  },
  {
   "cell_type": "code",
   "execution_count": null,
   "id": "aging-legislature",
   "metadata": {
    "papermill": {
     "duration": 0.036555,
     "end_time": "2021-03-29T00:06:16.918445",
     "exception": false,
     "start_time": "2021-03-29T00:06:16.881890",
     "status": "completed"
    },
    "tags": []
   },
   "outputs": [],
   "source": []
  }
 ],
 "metadata": {
  "kernelspec": {
   "display_name": "Python 3",
   "language": "python",
   "name": "python3"
  },
  "language_info": {
   "codemirror_mode": {
    "name": "ipython",
    "version": 3
   },
   "file_extension": ".py",
   "mimetype": "text/x-python",
   "name": "python",
   "nbconvert_exporter": "python",
   "pygments_lexer": "ipython3",
   "version": "3.6.13"
  },
  "papermill": {
   "duration": 7.369114,
   "end_time": "2021-03-29T00:06:18.174659",
   "environment_variables": {},
   "exception": null,
   "input_path": "2020-03-21-covid19exp.ipynb",
   "output_path": "2020-03-21-covid19exp.ipynb",
   "parameters": {},
   "start_time": "2021-03-29T00:06:10.805545",
   "version": "2.0.0"
  }
 },
 "nbformat": 4,
 "nbformat_minor": 5
}