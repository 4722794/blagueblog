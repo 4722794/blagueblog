{
 "cells": [
  {
   "cell_type": "markdown",
   "id": "muslim-click",
   "metadata": {
    "papermill": {
     "duration": 0.035213,
     "end_time": "2022-11-08T00:45:29.856238",
     "exception": false,
     "start_time": "2022-11-08T00:45:29.821025",
     "status": "completed"
    },
    "tags": []
   },
   "source": [
    "# COVID-19 Case Race\n",
    "> A race chart to see rising cases around the world\n",
    "\n",
    "- author: Hargun Oberoi\n",
    "- image: images/covid-overview.png\n",
    "- hide: false\n",
    "- badges: false"
   ]
  },
  {
   "cell_type": "code",
   "execution_count": 1,
   "id": "proof-material",
   "metadata": {
    "execution": {
     "iopub.execute_input": "2022-11-08T00:45:29.926381Z",
     "iopub.status.busy": "2022-11-08T00:45:29.925801Z",
     "iopub.status.idle": "2022-11-08T00:45:30.237891Z",
     "shell.execute_reply": "2022-11-08T00:45:30.237372Z"
    },
    "papermill": {
     "duration": 0.351107,
     "end_time": "2022-11-08T00:45:30.238025",
     "exception": false,
     "start_time": "2022-11-08T00:45:29.886918",
     "status": "completed"
    },
    "tags": []
   },
   "outputs": [],
   "source": [
    "#hide\n",
    "import numpy as np\n",
    "import pandas as pd\n",
    "from jinja2 import Template\n",
    "from IPython.display import HTML"
   ]
  },
  {
   "cell_type": "code",
   "execution_count": 2,
   "id": "developed-terminology",
   "metadata": {
    "execution": {
     "iopub.execute_input": "2022-11-08T00:45:30.303689Z",
     "iopub.status.busy": "2022-11-08T00:45:30.303122Z",
     "iopub.status.idle": "2022-11-08T00:45:30.304879Z",
     "shell.execute_reply": "2022-11-08T00:45:30.305336Z"
    },
    "papermill": {
     "duration": 0.036489,
     "end_time": "2022-11-08T00:45:30.305451",
     "exception": false,
     "start_time": "2022-11-08T00:45:30.268962",
     "status": "completed"
    },
    "tags": []
   },
   "outputs": [],
   "source": [
    "#hide\n",
    "\n",
    "# FETCH\n",
    "base_url = 'https://raw.githubusercontent.com/pratapvardhan/notebooks/master/covid19/'\n",
    "paths = {\n",
    "    'mapping': base_url + 'mapping_countries.csv',\n",
    "    'overview': base_url + 'overview.tpl'\n",
    "}"
   ]
  },
  {
   "cell_type": "code",
   "execution_count": 3,
   "id": "dynamic-saver",
   "metadata": {
    "execution": {
     "iopub.execute_input": "2022-11-08T00:45:30.374297Z",
     "iopub.status.busy": "2022-11-08T00:45:30.373706Z",
     "iopub.status.idle": "2022-11-08T00:45:30.376895Z",
     "shell.execute_reply": "2022-11-08T00:45:30.376439Z"
    },
    "papermill": {
     "duration": 0.041871,
     "end_time": "2022-11-08T00:45:30.376999",
     "exception": false,
     "start_time": "2022-11-08T00:45:30.335128",
     "status": "completed"
    },
    "tags": []
   },
   "outputs": [
    {
     "data": {
      "text/plain": [
       "'https://raw.githubusercontent.com/pratapvardhan/notebooks/master/covid19/mapping_countries.csv'"
      ]
     },
     "execution_count": 3,
     "metadata": {},
     "output_type": "execute_result"
    }
   ],
   "source": [
    "#hide\n",
    "paths['mapping']"
   ]
  },
  {
   "cell_type": "code",
   "execution_count": 4,
   "id": "urban-software",
   "metadata": {
    "execution": {
     "iopub.execute_input": "2022-11-08T00:45:30.443045Z",
     "iopub.status.busy": "2022-11-08T00:45:30.442471Z",
     "iopub.status.idle": "2022-11-08T00:45:30.444896Z",
     "shell.execute_reply": "2022-11-08T00:45:30.444448Z"
    },
    "papermill": {
     "duration": 0.037537,
     "end_time": "2022-11-08T00:45:30.444998",
     "exception": false,
     "start_time": "2022-11-08T00:45:30.407461",
     "status": "completed"
    },
    "tags": []
   },
   "outputs": [],
   "source": [
    "#hide\n",
    "def get_mappings(url):\n",
    "    df = pd.read_csv(url)\n",
    "    return {\n",
    "        'df': df,\n",
    "        'replace.country': dict(df.dropna(subset=['Name']).set_index('Country')['Name']),\n",
    "        'map.continent': dict(df.set_index('Name')['Continent'])\n",
    "    }"
   ]
  },
  {
   "cell_type": "code",
   "execution_count": 5,
   "id": "intimate-machinery",
   "metadata": {
    "execution": {
     "iopub.execute_input": "2022-11-08T00:45:30.510126Z",
     "iopub.status.busy": "2022-11-08T00:45:30.509562Z",
     "iopub.status.idle": "2022-11-08T00:45:30.569923Z",
     "shell.execute_reply": "2022-11-08T00:45:30.569425Z"
    },
    "papermill": {
     "duration": 0.094984,
     "end_time": "2022-11-08T00:45:30.570034",
     "exception": false,
     "start_time": "2022-11-08T00:45:30.475050",
     "status": "completed"
    },
    "tags": []
   },
   "outputs": [],
   "source": [
    "#hide\n",
    "mapping = get_mappings(paths['mapping'])"
   ]
  },
  {
   "cell_type": "code",
   "execution_count": 6,
   "id": "certified-tactics",
   "metadata": {
    "execution": {
     "iopub.execute_input": "2022-11-08T00:45:30.635688Z",
     "iopub.status.busy": "2022-11-08T00:45:30.635099Z",
     "iopub.status.idle": "2022-11-08T00:45:30.637556Z",
     "shell.execute_reply": "2022-11-08T00:45:30.637088Z"
    },
    "papermill": {
     "duration": 0.037138,
     "end_time": "2022-11-08T00:45:30.637659",
     "exception": false,
     "start_time": "2022-11-08T00:45:30.600521",
     "status": "completed"
    },
    "tags": []
   },
   "outputs": [],
   "source": [
    "#hide\n",
    "def get_template(path):\n",
    "    from urllib.parse import urlparse\n",
    "    if bool(urlparse(path).netloc):\n",
    "        from urllib.request import urlopen\n",
    "        return urlopen(path).read().decode('utf8')\n",
    "    return open(path).read()"
   ]
  },
  {
   "cell_type": "code",
   "execution_count": 7,
   "id": "realistic-blast",
   "metadata": {
    "execution": {
     "iopub.execute_input": "2022-11-08T00:45:30.702914Z",
     "iopub.status.busy": "2022-11-08T00:45:30.702352Z",
     "iopub.status.idle": "2022-11-08T00:45:30.704140Z",
     "shell.execute_reply": "2022-11-08T00:45:30.704550Z"
    },
    "papermill": {
     "duration": 0.036905,
     "end_time": "2022-11-08T00:45:30.704668",
     "exception": false,
     "start_time": "2022-11-08T00:45:30.667763",
     "status": "completed"
    },
    "tags": []
   },
   "outputs": [],
   "source": [
    "#hide\n",
    "def get_frame(name):\n",
    "    url = (\n",
    "        'https://raw.githubusercontent.com/CSSEGISandData/COVID-19/master/csse_covid_19_data/'\n",
    "        f'csse_covid_19_time_series/time_series_covid19_{name}_global.csv')\n",
    "    df = pd.read_csv(url)\n",
    "    # rename countries\n",
    "    df['Country/Region'] = df['Country/Region'].replace(mapping['replace.country'])\n",
    "    return df"
   ]
  },
  {
   "cell_type": "code",
   "execution_count": 8,
   "id": "affiliated-characterization",
   "metadata": {
    "execution": {
     "iopub.execute_input": "2022-11-08T00:45:30.771471Z",
     "iopub.status.busy": "2022-11-08T00:45:30.770883Z",
     "iopub.status.idle": "2022-11-08T00:45:30.773646Z",
     "shell.execute_reply": "2022-11-08T00:45:30.773141Z"
    },
    "papermill": {
     "duration": 0.038935,
     "end_time": "2022-11-08T00:45:30.773751",
     "exception": false,
     "start_time": "2022-11-08T00:45:30.734816",
     "status": "completed"
    },
    "tags": []
   },
   "outputs": [],
   "source": [
    "#hide\n",
    "def get_dates(df):\n",
    "    dt_cols = df.columns[~df.columns.isin(['Province/State', 'Country/Region', 'Lat', 'Long'])]\n",
    "    LAST_DATE_I = -1\n",
    "    # sometimes last column may be empty, then go backwards\n",
    "    for i in range(-1, -len(dt_cols), -1):\n",
    "        if not df[dt_cols[i]].fillna(0).eq(0).all():\n",
    "            LAST_DATE_I = i\n",
    "            break\n",
    "    return LAST_DATE_I, dt_cols"
   ]
  },
  {
   "cell_type": "code",
   "execution_count": 9,
   "id": "recent-optimization",
   "metadata": {
    "execution": {
     "iopub.execute_input": "2022-11-08T00:45:30.838861Z",
     "iopub.status.busy": "2022-11-08T00:45:30.838263Z",
     "iopub.status.idle": "2022-11-08T00:45:31.534545Z",
     "shell.execute_reply": "2022-11-08T00:45:31.535065Z"
    },
    "papermill": {
     "duration": 0.731185,
     "end_time": "2022-11-08T00:45:31.535213",
     "exception": false,
     "start_time": "2022-11-08T00:45:30.804028",
     "status": "completed"
    },
    "tags": []
   },
   "outputs": [],
   "source": [
    "#hide\n",
    "COL_REGION = 'Country/Region'\n",
    "# Confirmed, Recovered, Deaths\n",
    "df = get_frame('confirmed')\n",
    "# dft_: timeseries, dfc_: today country agg\n",
    "dft_cases = df\n",
    "dft_deaths = get_frame('deaths')\n",
    "dft_recovered = get_frame('recovered')\n",
    "LAST_DATE_I, dt_cols = get_dates(df)"
   ]
  },
  {
   "cell_type": "code",
   "execution_count": 10,
   "id": "absolute-copper",
   "metadata": {
    "execution": {
     "iopub.execute_input": "2022-11-08T00:45:31.602954Z",
     "iopub.status.busy": "2022-11-08T00:45:31.601602Z",
     "iopub.status.idle": "2022-11-08T00:45:31.603600Z",
     "shell.execute_reply": "2022-11-08T00:45:31.604028Z"
    },
    "papermill": {
     "duration": 0.038093,
     "end_time": "2022-11-08T00:45:31.604148",
     "exception": false,
     "start_time": "2022-11-08T00:45:31.566055",
     "status": "completed"
    },
    "tags": []
   },
   "outputs": [],
   "source": [
    "#hide\n",
    "LAST_DATE_I, dt_cols = get_dates(df)\n",
    "dt_today =dt_cols[LAST_DATE_I]\n",
    "# dt_5day = dt_cols[LAST_DATE_I - 5]\n",
    "dt_yday = dt_cols[LAST_DATE_I - 1]"
   ]
  },
  {
   "cell_type": "code",
   "execution_count": 11,
   "id": "restricted-sheriff",
   "metadata": {
    "execution": {
     "iopub.execute_input": "2022-11-08T00:45:31.671454Z",
     "iopub.status.busy": "2022-11-08T00:45:31.670890Z",
     "iopub.status.idle": "2022-11-08T00:45:31.676554Z",
     "shell.execute_reply": "2022-11-08T00:45:31.677086Z"
    },
    "papermill": {
     "duration": 0.042785,
     "end_time": "2022-11-08T00:45:31.677224",
     "exception": false,
     "start_time": "2022-11-08T00:45:31.634439",
     "status": "completed"
    },
    "tags": []
   },
   "outputs": [],
   "source": [
    "#hide\n",
    "dfc_cases = dft_cases.groupby(COL_REGION)[dt_today].sum()\n",
    "dfc_deaths = dft_deaths.groupby(COL_REGION)[dt_today].sum()\n",
    "# dfp_cases = dft_cases.groupby(COL_REGION)[dt_5day].sum()\n",
    "# dfp_deaths = dft_deaths.groupby(COL_REGION)[dt_5day].sum()\n",
    "dfp_cases = dft_cases.groupby(COL_REGION)[dt_yday].sum()\n",
    "dfp_deaths = dft_deaths.groupby(COL_REGION)[dt_yday].sum()"
   ]
  },
  {
   "cell_type": "code",
   "execution_count": 12,
   "id": "deluxe-hepatitis",
   "metadata": {
    "execution": {
     "iopub.execute_input": "2022-11-08T00:45:31.743669Z",
     "iopub.status.busy": "2022-11-08T00:45:31.743089Z",
     "iopub.status.idle": "2022-11-08T00:45:31.748183Z",
     "shell.execute_reply": "2022-11-08T00:45:31.748697Z"
    },
    "papermill": {
     "duration": 0.041315,
     "end_time": "2022-11-08T00:45:31.748818",
     "exception": false,
     "start_time": "2022-11-08T00:45:31.707503",
     "status": "completed"
    },
    "tags": []
   },
   "outputs": [],
   "source": [
    "#hide\n",
    "df_table = (pd.DataFrame(dict(Cases = dfc_cases, Deaths = dfc_deaths, PCases = dfp_cases, PDeaths = dfp_deaths))\n",
    "            .sort_values(by = ['Cases','Deaths'], ascending = [False, False])\n",
    "            .reset_index())"
   ]
  },
  {
   "cell_type": "code",
   "execution_count": 13,
   "id": "educational-chancellor",
   "metadata": {
    "execution": {
     "iopub.execute_input": "2022-11-08T00:45:31.825823Z",
     "iopub.status.busy": "2022-11-08T00:45:31.825243Z",
     "iopub.status.idle": "2022-11-08T00:45:31.833010Z",
     "shell.execute_reply": "2022-11-08T00:45:31.832556Z"
    },
    "papermill": {
     "duration": 0.05414,
     "end_time": "2022-11-08T00:45:31.833113",
     "exception": false,
     "start_time": "2022-11-08T00:45:31.778973",
     "status": "completed"
    },
    "tags": []
   },
   "outputs": [
    {
     "data": {
      "text/html": [
       "<div>\n",
       "<style scoped>\n",
       "    .dataframe tbody tr th:only-of-type {\n",
       "        vertical-align: middle;\n",
       "    }\n",
       "\n",
       "    .dataframe tbody tr th {\n",
       "        vertical-align: top;\n",
       "    }\n",
       "\n",
       "    .dataframe thead th {\n",
       "        text-align: right;\n",
       "    }\n",
       "</style>\n",
       "<table border=\"1\" class=\"dataframe\">\n",
       "  <thead>\n",
       "    <tr style=\"text-align: right;\">\n",
       "      <th></th>\n",
       "      <th>Country/Region</th>\n",
       "      <th>Cases</th>\n",
       "      <th>Deaths</th>\n",
       "      <th>PCases</th>\n",
       "      <th>PDeaths</th>\n",
       "      <th>Cases (+)</th>\n",
       "      <th>Deaths (+)</th>\n",
       "      <th>Fatality Rate</th>\n",
       "      <th>Continent</th>\n",
       "    </tr>\n",
       "  </thead>\n",
       "  <tbody>\n",
       "    <tr>\n",
       "      <th>0</th>\n",
       "      <td>US</td>\n",
       "      <td>97741764</td>\n",
       "      <td>1072594</td>\n",
       "      <td>97734261</td>\n",
       "      <td>1072582</td>\n",
       "      <td>7503</td>\n",
       "      <td>12</td>\n",
       "      <td>1.10</td>\n",
       "      <td>North America</td>\n",
       "    </tr>\n",
       "    <tr>\n",
       "      <th>1</th>\n",
       "      <td>India</td>\n",
       "      <td>44661504</td>\n",
       "      <td>530509</td>\n",
       "      <td>44660579</td>\n",
       "      <td>530500</td>\n",
       "      <td>925</td>\n",
       "      <td>9</td>\n",
       "      <td>1.19</td>\n",
       "      <td>Asia</td>\n",
       "    </tr>\n",
       "    <tr>\n",
       "      <th>2</th>\n",
       "      <td>France</td>\n",
       "      <td>37140238</td>\n",
       "      <td>158317</td>\n",
       "      <td>37140238</td>\n",
       "      <td>158317</td>\n",
       "      <td>0</td>\n",
       "      <td>0</td>\n",
       "      <td>0.43</td>\n",
       "      <td>Europe</td>\n",
       "    </tr>\n",
       "    <tr>\n",
       "      <th>3</th>\n",
       "      <td>Germany</td>\n",
       "      <td>35823771</td>\n",
       "      <td>154535</td>\n",
       "      <td>35823771</td>\n",
       "      <td>154535</td>\n",
       "      <td>0</td>\n",
       "      <td>0</td>\n",
       "      <td>0.43</td>\n",
       "      <td>Europe</td>\n",
       "    </tr>\n",
       "    <tr>\n",
       "      <th>4</th>\n",
       "      <td>Brazil</td>\n",
       "      <td>34849063</td>\n",
       "      <td>688332</td>\n",
       "      <td>34849063</td>\n",
       "      <td>688332</td>\n",
       "      <td>0</td>\n",
       "      <td>0</td>\n",
       "      <td>1.98</td>\n",
       "      <td>South America</td>\n",
       "    </tr>\n",
       "  </tbody>\n",
       "</table>\n",
       "</div>"
      ],
      "text/plain": [
       "  Country/Region     Cases   Deaths    PCases  PDeaths  Cases (+)  Deaths (+)  \\\n",
       "0             US  97741764  1072594  97734261  1072582       7503          12   \n",
       "1          India  44661504   530509  44660579   530500        925           9   \n",
       "2         France  37140238   158317  37140238   158317          0           0   \n",
       "3        Germany  35823771   154535  35823771   154535          0           0   \n",
       "4         Brazil  34849063   688332  34849063   688332          0           0   \n",
       "\n",
       "   Fatality Rate      Continent  \n",
       "0           1.10  North America  \n",
       "1           1.19           Asia  \n",
       "2           0.43         Europe  \n",
       "3           0.43         Europe  \n",
       "4           1.98  South America  "
      ]
     },
     "execution_count": 13,
     "metadata": {},
     "output_type": "execute_result"
    }
   ],
   "source": [
    "#hide\n",
    "for c in 'Cases, Deaths'.split(', '):\n",
    "    df_table[f'{c} (+)'] = (df_table[c] - df_table[f'P{c}']).clip(0)\n",
    "    #Clip ça veut dire, les chiffres negatif sont interdit\n",
    "df_table['Fatality Rate'] = (100* df_table['Deaths']/ df_table['Cases']).round(2)\n",
    "df_table['Continent'] = df_table['Country/Region'].map(mapping['map.continent'])\n",
    "df_table.head(5)"
   ]
  },
  {
   "cell_type": "code",
   "execution_count": 14,
   "id": "aboriginal-bulgaria",
   "metadata": {
    "execution": {
     "iopub.execute_input": "2022-11-08T00:45:31.900072Z",
     "iopub.status.busy": "2022-11-08T00:45:31.899503Z",
     "iopub.status.idle": "2022-11-08T00:45:31.901996Z",
     "shell.execute_reply": "2022-11-08T00:45:31.901559Z"
    },
    "papermill": {
     "duration": 0.038193,
     "end_time": "2022-11-08T00:45:31.902100",
     "exception": false,
     "start_time": "2022-11-08T00:45:31.863907",
     "status": "completed"
    },
    "tags": []
   },
   "outputs": [],
   "source": [
    "#hide\n",
    "#delete problematic countries from table\n",
    "df_table = df_table[~df_table['Country/Region'].isin(['Cape Verde', 'Cruise Ship', 'Kosovo'])]"
   ]
  },
  {
   "cell_type": "code",
   "execution_count": 15,
   "id": "fantastic-effect",
   "metadata": {
    "execution": {
     "iopub.execute_input": "2022-11-08T00:45:31.970953Z",
     "iopub.status.busy": "2022-11-08T00:45:31.970383Z",
     "iopub.status.idle": "2022-11-08T00:45:31.987163Z",
     "shell.execute_reply": "2022-11-08T00:45:31.987595Z"
    },
    "papermill": {
     "duration": 0.055,
     "end_time": "2022-11-08T00:45:31.987714",
     "exception": false,
     "start_time": "2022-11-08T00:45:31.932714",
     "status": "completed"
    },
    "tags": []
   },
   "outputs": [
    {
     "data": {
      "text/html": [
       "<div>\n",
       "<style scoped>\n",
       "    .dataframe tbody tr th:only-of-type {\n",
       "        vertical-align: middle;\n",
       "    }\n",
       "\n",
       "    .dataframe tbody tr th {\n",
       "        vertical-align: top;\n",
       "    }\n",
       "\n",
       "    .dataframe thead th {\n",
       "        text-align: right;\n",
       "    }\n",
       "</style>\n",
       "<table border=\"1\" class=\"dataframe\">\n",
       "  <thead>\n",
       "    <tr style=\"text-align: right;\">\n",
       "      <th></th>\n",
       "      <th>Country/Region</th>\n",
       "      <th>Cases</th>\n",
       "      <th>Deaths</th>\n",
       "      <th>PCases</th>\n",
       "      <th>PDeaths</th>\n",
       "      <th>Cases (+)</th>\n",
       "      <th>Deaths (+)</th>\n",
       "      <th>Fatality Rate</th>\n",
       "      <th>Continent</th>\n",
       "    </tr>\n",
       "  </thead>\n",
       "  <tbody>\n",
       "    <tr>\n",
       "      <th>0</th>\n",
       "      <td>US</td>\n",
       "      <td>97741764</td>\n",
       "      <td>1072594</td>\n",
       "      <td>97734261</td>\n",
       "      <td>1072582</td>\n",
       "      <td>7503</td>\n",
       "      <td>12</td>\n",
       "      <td>1.1</td>\n",
       "      <td>North America</td>\n",
       "    </tr>\n",
       "    <tr>\n",
       "      <th>1</th>\n",
       "      <td>India</td>\n",
       "      <td>44661504</td>\n",
       "      <td>530509</td>\n",
       "      <td>44660579</td>\n",
       "      <td>530500</td>\n",
       "      <td>925</td>\n",
       "      <td>9</td>\n",
       "      <td>1.2</td>\n",
       "      <td>Asia</td>\n",
       "    </tr>\n",
       "    <tr>\n",
       "      <th>2</th>\n",
       "      <td>France</td>\n",
       "      <td>37140238</td>\n",
       "      <td>158317</td>\n",
       "      <td>37140238</td>\n",
       "      <td>158317</td>\n",
       "      <td>0</td>\n",
       "      <td>0</td>\n",
       "      <td>0.4</td>\n",
       "      <td>Europe</td>\n",
       "    </tr>\n",
       "    <tr>\n",
       "      <th>3</th>\n",
       "      <td>Germany</td>\n",
       "      <td>35823771</td>\n",
       "      <td>154535</td>\n",
       "      <td>35823771</td>\n",
       "      <td>154535</td>\n",
       "      <td>0</td>\n",
       "      <td>0</td>\n",
       "      <td>0.4</td>\n",
       "      <td>Europe</td>\n",
       "    </tr>\n",
       "    <tr>\n",
       "      <th>4</th>\n",
       "      <td>Brazil</td>\n",
       "      <td>34849063</td>\n",
       "      <td>688332</td>\n",
       "      <td>34849063</td>\n",
       "      <td>688332</td>\n",
       "      <td>0</td>\n",
       "      <td>0</td>\n",
       "      <td>2.0</td>\n",
       "      <td>South America</td>\n",
       "    </tr>\n",
       "  </tbody>\n",
       "</table>\n",
       "</div>"
      ],
      "text/plain": [
       "  Country/Region     Cases   Deaths    PCases  PDeaths  Cases (+)  Deaths (+)  \\\n",
       "0             US  97741764  1072594  97734261  1072582       7503          12   \n",
       "1          India  44661504   530509  44660579   530500        925           9   \n",
       "2         France  37140238   158317  37140238   158317          0           0   \n",
       "3        Germany  35823771   154535  35823771   154535          0           0   \n",
       "4         Brazil  34849063   688332  34849063   688332          0           0   \n",
       "\n",
       "   Fatality Rate      Continent  \n",
       "0            1.1  North America  \n",
       "1            1.2           Asia  \n",
       "2            0.4         Europe  \n",
       "3            0.4         Europe  \n",
       "4            2.0  South America  "
      ]
     },
     "execution_count": 15,
     "metadata": {},
     "output_type": "execute_result"
    }
   ],
   "source": [
    "#hide\n",
    "df_table = (pd.DataFrame(dict(Cases=dfc_cases, Deaths=dfc_deaths, PCases=dfp_cases, PDeaths=dfp_deaths))\n",
    "             .sort_values(by=['Cases', 'Deaths'], ascending=[False, False])\n",
    "             .reset_index())\n",
    "df_table.rename(columns={'index': 'Country/Region'}, inplace=True)\n",
    "for c in 'Cases, Deaths'.split(', '):\n",
    "    df_table[f'{c} (+)'] = (df_table[c] - df_table[f'P{c}']).clip(0)  # DATA BUG\n",
    "df_table['Fatality Rate'] = (100 * df_table['Deaths'] / df_table['Cases']).round(1)\n",
    "df_table['Continent'] = df_table['Country/Region'].map(mapping['map.continent'])\n",
    "df_table.head(5)"
   ]
  },
  {
   "cell_type": "code",
   "execution_count": 16,
   "id": "fewer-occasion",
   "metadata": {
    "execution": {
     "iopub.execute_input": "2022-11-08T00:45:32.056113Z",
     "iopub.status.busy": "2022-11-08T00:45:32.055551Z",
     "iopub.status.idle": "2022-11-08T00:45:32.057844Z",
     "shell.execute_reply": "2022-11-08T00:45:32.058300Z"
    },
    "papermill": {
     "duration": 0.039374,
     "end_time": "2022-11-08T00:45:32.058415",
     "exception": false,
     "start_time": "2022-11-08T00:45:32.019041",
     "status": "completed"
    },
    "tags": []
   },
   "outputs": [],
   "source": [
    "#hide\n",
    "#delete problematic countries from table\n",
    "df_table = df_table[~df_table['Country/Region'].isin(['Cape Verde', 'Cruise Ship', 'Kosovo'])]"
   ]
  },
  {
   "cell_type": "code",
   "execution_count": 17,
   "id": "related-center",
   "metadata": {
    "execution": {
     "iopub.execute_input": "2022-11-08T00:45:32.127323Z",
     "iopub.status.busy": "2022-11-08T00:45:32.126758Z",
     "iopub.status.idle": "2022-11-08T00:45:32.139806Z",
     "shell.execute_reply": "2022-11-08T00:45:32.139263Z"
    },
    "papermill": {
     "duration": 0.05039,
     "end_time": "2022-11-08T00:45:32.139910",
     "exception": false,
     "start_time": "2022-11-08T00:45:32.089520",
     "status": "completed"
    },
    "tags": []
   },
   "outputs": [],
   "source": [
    "#hide\n",
    "metrics = [df_table.columns[index] for index in [1,2,5,6]]\n",
    "# s_china = df_table[df_table['Country/Region'].eq('China')][metrics].sum().add_prefix('China ')\n",
    "s_us = df_table[df_table['Country/Region'].eq('US')][metrics].sum().add_prefix('US ')\n",
    "s_eu = df_table[df_table['Continent'].eq('Europe')][metrics].sum().add_prefix('EU ')\n",
    "s_ind = df_table[df_table['Country/Region'].eq('India')][metrics].sum().add_prefix('India ')\n",
    "summary = {'updated': pd.to_datetime(dt_today), 'since': pd.to_datetime(dt_yday)}\n",
    "summary = {'updated': pd.to_datetime(dt_today), 'since': pd.to_datetime(dt_yday)}\n",
    "summary = {**summary, **df_table[metrics].sum(), **s_ind, **s_us, **s_eu}"
   ]
  },
  {
   "cell_type": "code",
   "execution_count": 18,
   "id": "engaging-syndrome",
   "metadata": {
    "execution": {
     "iopub.execute_input": "2022-11-08T00:45:32.207560Z",
     "iopub.status.busy": "2022-11-08T00:45:32.206988Z",
     "iopub.status.idle": "2022-11-08T00:45:32.226161Z",
     "shell.execute_reply": "2022-11-08T00:45:32.225696Z"
    },
    "papermill": {
     "duration": 0.054899,
     "end_time": "2022-11-08T00:45:32.226267",
     "exception": false,
     "start_time": "2022-11-08T00:45:32.171368",
     "status": "completed"
    },
    "tags": []
   },
   "outputs": [],
   "source": [
    "#hide\n",
    "dft_ct_new_cases = dft_cases.groupby(COL_REGION)[dt_cols].sum().diff(axis=1).fillna(0).astype(int)"
   ]
  },
  {
   "cell_type": "code",
   "execution_count": 19,
   "id": "neutral-assignment",
   "metadata": {
    "execution": {
     "iopub.execute_input": "2022-11-08T00:45:32.294828Z",
     "iopub.status.busy": "2022-11-08T00:45:32.294234Z",
     "iopub.status.idle": "2022-11-08T00:45:32.296572Z",
     "shell.execute_reply": "2022-11-08T00:45:32.296045Z"
    },
    "papermill": {
     "duration": 0.038746,
     "end_time": "2022-11-08T00:45:32.296670",
     "exception": false,
     "start_time": "2022-11-08T00:45:32.257924",
     "status": "completed"
    },
    "tags": []
   },
   "outputs": [],
   "source": [
    "#hide\n",
    "everydaycases = dft_ct_new_cases.cumsum(axis=1)"
   ]
  },
  {
   "cell_type": "code",
   "execution_count": 20,
   "id": "parliamentary-calgary",
   "metadata": {
    "execution": {
     "iopub.execute_input": "2022-11-08T00:45:32.363313Z",
     "iopub.status.busy": "2022-11-08T00:45:32.362742Z",
     "iopub.status.idle": "2022-11-08T00:45:32.906121Z",
     "shell.execute_reply": "2022-11-08T00:45:32.905594Z"
    },
    "papermill": {
     "duration": 0.578188,
     "end_time": "2022-11-08T00:45:32.906234",
     "exception": false,
     "start_time": "2022-11-08T00:45:32.328046",
     "status": "completed"
    },
    "tags": []
   },
   "outputs": [],
   "source": [
    "#hide\n",
    "import pandas as pd\n",
    "import matplotlib.pyplot as plt\n",
    "import matplotlib.ticker as ticker\n",
    "import matplotlib.animation as animation\n",
    "from IPython.display import HTML"
   ]
  },
  {
   "cell_type": "code",
   "execution_count": 21,
   "id": "lasting-extraction",
   "metadata": {
    "execution": {
     "iopub.execute_input": "2022-11-08T00:45:32.975211Z",
     "iopub.status.busy": "2022-11-08T00:45:32.974651Z",
     "iopub.status.idle": "2022-11-08T00:45:32.981133Z",
     "shell.execute_reply": "2022-11-08T00:45:32.981688Z"
    },
    "papermill": {
     "duration": 0.044246,
     "end_time": "2022-11-08T00:45:32.981808",
     "exception": false,
     "start_time": "2022-11-08T00:45:32.937562",
     "status": "completed"
    },
    "tags": []
   },
   "outputs": [],
   "source": [
    "#hide\n",
    "t = everydaycases.stack()"
   ]
  },
  {
   "cell_type": "code",
   "execution_count": 22,
   "id": "premier-sleeve",
   "metadata": {
    "execution": {
     "iopub.execute_input": "2022-11-08T00:45:33.048395Z",
     "iopub.status.busy": "2022-11-08T00:45:33.047834Z",
     "iopub.status.idle": "2022-11-08T00:45:33.059784Z",
     "shell.execute_reply": "2022-11-08T00:45:33.059246Z"
    },
    "papermill": {
     "duration": 0.046846,
     "end_time": "2022-11-08T00:45:33.059887",
     "exception": false,
     "start_time": "2022-11-08T00:45:33.013041",
     "status": "completed"
    },
    "tags": []
   },
   "outputs": [],
   "source": [
    "#hide\n",
    "g = t.reset_index(['Country/Region'])"
   ]
  },
  {
   "cell_type": "code",
   "execution_count": 23,
   "id": "distributed-pittsburgh",
   "metadata": {
    "execution": {
     "iopub.execute_input": "2022-11-08T00:45:33.126051Z",
     "iopub.status.busy": "2022-11-08T00:45:33.125484Z",
     "iopub.status.idle": "2022-11-08T00:45:33.128984Z",
     "shell.execute_reply": "2022-11-08T00:45:33.129424Z"
    },
    "papermill": {
     "duration": 0.03844,
     "end_time": "2022-11-08T00:45:33.129546",
     "exception": false,
     "start_time": "2022-11-08T00:45:33.091106",
     "status": "completed"
    },
    "tags": []
   },
   "outputs": [],
   "source": [
    "#hide\n",
    "g.index.name = 'date'"
   ]
  },
  {
   "cell_type": "code",
   "execution_count": 24,
   "id": "naked-donor",
   "metadata": {
    "execution": {
     "iopub.execute_input": "2022-11-08T00:45:33.196149Z",
     "iopub.status.busy": "2022-11-08T00:45:33.195577Z",
     "iopub.status.idle": "2022-11-08T00:45:33.197881Z",
     "shell.execute_reply": "2022-11-08T00:45:33.197415Z"
    },
    "papermill": {
     "duration": 0.037166,
     "end_time": "2022-11-08T00:45:33.197986",
     "exception": false,
     "start_time": "2022-11-08T00:45:33.160820",
     "status": "completed"
    },
    "tags": []
   },
   "outputs": [],
   "source": [
    "# #hide\n",
    "# g = g.reset_index(['date'])"
   ]
  },
  {
   "cell_type": "code",
   "execution_count": 25,
   "id": "incomplete-mustang",
   "metadata": {
    "execution": {
     "iopub.execute_input": "2022-11-08T00:45:33.264228Z",
     "iopub.status.busy": "2022-11-08T00:45:33.263652Z",
     "iopub.status.idle": "2022-11-08T00:45:33.266133Z",
     "shell.execute_reply": "2022-11-08T00:45:33.265714Z"
    },
    "papermill": {
     "duration": 0.037073,
     "end_time": "2022-11-08T00:45:33.266236",
     "exception": false,
     "start_time": "2022-11-08T00:45:33.229163",
     "status": "completed"
    },
    "tags": []
   },
   "outputs": [],
   "source": [
    "#hide\n",
    "# g.head()"
   ]
  },
  {
   "cell_type": "code",
   "execution_count": 26,
   "id": "specific-kruger",
   "metadata": {
    "execution": {
     "iopub.execute_input": "2022-11-08T00:45:33.332898Z",
     "iopub.status.busy": "2022-11-08T00:45:33.332320Z",
     "iopub.status.idle": "2022-11-08T00:45:33.334780Z",
     "shell.execute_reply": "2022-11-08T00:45:33.334302Z"
    },
    "papermill": {
     "duration": 0.037245,
     "end_time": "2022-11-08T00:45:33.334884",
     "exception": false,
     "start_time": "2022-11-08T00:45:33.297639",
     "status": "completed"
    },
    "tags": []
   },
   "outputs": [],
   "source": [
    "#hide\n",
    "# g.columns = ['date','country','cases']"
   ]
  },
  {
   "cell_type": "code",
   "execution_count": 27,
   "id": "tender-conversion",
   "metadata": {
    "execution": {
     "iopub.execute_input": "2022-11-08T00:45:33.400787Z",
     "iopub.status.busy": "2022-11-08T00:45:33.400206Z",
     "iopub.status.idle": "2022-11-08T00:45:33.402706Z",
     "shell.execute_reply": "2022-11-08T00:45:33.402264Z"
    },
    "papermill": {
     "duration": 0.036765,
     "end_time": "2022-11-08T00:45:33.402807",
     "exception": false,
     "start_time": "2022-11-08T00:45:33.366042",
     "status": "completed"
    },
    "tags": []
   },
   "outputs": [],
   "source": [
    "#hide\n",
    "# g['continent'] = g.country"
   ]
  },
  {
   "cell_type": "code",
   "execution_count": 28,
   "id": "substantial-wilderness",
   "metadata": {
    "execution": {
     "iopub.execute_input": "2022-11-08T00:45:33.468980Z",
     "iopub.status.busy": "2022-11-08T00:45:33.468405Z",
     "iopub.status.idle": "2022-11-08T00:45:33.470741Z",
     "shell.execute_reply": "2022-11-08T00:45:33.470214Z"
    },
    "papermill": {
     "duration": 0.036731,
     "end_time": "2022-11-08T00:45:33.470838",
     "exception": false,
     "start_time": "2022-11-08T00:45:33.434107",
     "status": "completed"
    },
    "tags": []
   },
   "outputs": [],
   "source": [
    "#hide\n",
    "# cols = list(g.columns.values)"
   ]
  },
  {
   "cell_type": "code",
   "execution_count": 29,
   "id": "solved-farming",
   "metadata": {
    "execution": {
     "iopub.execute_input": "2022-11-08T00:45:33.536923Z",
     "iopub.status.busy": "2022-11-08T00:45:33.536340Z",
     "iopub.status.idle": "2022-11-08T00:45:33.538807Z",
     "shell.execute_reply": "2022-11-08T00:45:33.538258Z"
    },
    "papermill": {
     "duration": 0.036845,
     "end_time": "2022-11-08T00:45:33.538910",
     "exception": false,
     "start_time": "2022-11-08T00:45:33.502065",
     "status": "completed"
    },
    "tags": []
   },
   "outputs": [],
   "source": [
    "#hide\n",
    "# cols.insert(0, cols.pop())"
   ]
  },
  {
   "cell_type": "code",
   "execution_count": 30,
   "id": "executed-adoption",
   "metadata": {
    "execution": {
     "iopub.execute_input": "2022-11-08T00:45:33.604801Z",
     "iopub.status.busy": "2022-11-08T00:45:33.604218Z",
     "iopub.status.idle": "2022-11-08T00:45:33.606479Z",
     "shell.execute_reply": "2022-11-08T00:45:33.605959Z"
    },
    "papermill": {
     "duration": 0.036511,
     "end_time": "2022-11-08T00:45:33.606579",
     "exception": false,
     "start_time": "2022-11-08T00:45:33.570068",
     "status": "completed"
    },
    "tags": []
   },
   "outputs": [],
   "source": [
    "#hide\n",
    "# g = g[cols]"
   ]
  },
  {
   "cell_type": "code",
   "execution_count": 31,
   "id": "subject-dublin",
   "metadata": {
    "execution": {
     "iopub.execute_input": "2022-11-08T00:45:33.672766Z",
     "iopub.status.busy": "2022-11-08T00:45:33.672181Z",
     "iopub.status.idle": "2022-11-08T00:45:33.674107Z",
     "shell.execute_reply": "2022-11-08T00:45:33.674529Z"
    },
    "papermill": {
     "duration": 0.036956,
     "end_time": "2022-11-08T00:45:33.674649",
     "exception": false,
     "start_time": "2022-11-08T00:45:33.637693",
     "status": "completed"
    },
    "tags": []
   },
   "outputs": [],
   "source": [
    "#hide\n",
    "# g['continent'] = g['continent'].map(mapping['map.continent'])"
   ]
  },
  {
   "cell_type": "code",
   "execution_count": 32,
   "id": "freelance-scout",
   "metadata": {
    "execution": {
     "iopub.execute_input": "2022-11-08T00:45:33.741113Z",
     "iopub.status.busy": "2022-11-08T00:45:33.740534Z",
     "iopub.status.idle": "2022-11-08T00:45:33.742454Z",
     "shell.execute_reply": "2022-11-08T00:45:33.742876Z"
    },
    "papermill": {
     "duration": 0.036921,
     "end_time": "2022-11-08T00:45:33.742993",
     "exception": false,
     "start_time": "2022-11-08T00:45:33.706072",
     "status": "completed"
    },
    "tags": []
   },
   "outputs": [],
   "source": [
    "#hide\n",
    "# g.head()"
   ]
  },
  {
   "cell_type": "code",
   "execution_count": 33,
   "id": "limited-engine",
   "metadata": {
    "execution": {
     "iopub.execute_input": "2022-11-08T00:45:33.809441Z",
     "iopub.status.busy": "2022-11-08T00:45:33.808847Z",
     "iopub.status.idle": "2022-11-08T00:45:33.812284Z",
     "shell.execute_reply": "2022-11-08T00:45:33.811845Z"
    },
    "papermill": {
     "duration": 0.037859,
     "end_time": "2022-11-08T00:45:33.812387",
     "exception": false,
     "start_time": "2022-11-08T00:45:33.774528",
     "status": "completed"
    },
    "tags": []
   },
   "outputs": [],
   "source": [
    "# hide\n",
    "# g['date'] = g['date'].astype('datetime64[ns]')"
   ]
  },
  {
   "cell_type": "code",
   "execution_count": 34,
   "id": "sophisticated-supervisor",
   "metadata": {
    "execution": {
     "iopub.execute_input": "2022-11-08T00:45:33.879186Z",
     "iopub.status.busy": "2022-11-08T00:45:33.878600Z",
     "iopub.status.idle": "2022-11-08T00:45:33.880965Z",
     "shell.execute_reply": "2022-11-08T00:45:33.880526Z"
    },
    "papermill": {
     "duration": 0.037312,
     "end_time": "2022-11-08T00:45:33.881066",
     "exception": false,
     "start_time": "2022-11-08T00:45:33.843754",
     "status": "completed"
    },
    "tags": []
   },
   "outputs": [],
   "source": [
    "#hide\n",
    "# g['date'] = g.date.dt.dayofyear"
   ]
  },
  {
   "cell_type": "code",
   "execution_count": 35,
   "id": "inside-dubai",
   "metadata": {
    "execution": {
     "iopub.execute_input": "2022-11-08T00:45:33.946589Z",
     "iopub.status.busy": "2022-11-08T00:45:33.946031Z",
     "iopub.status.idle": "2022-11-08T00:45:33.948358Z",
     "shell.execute_reply": "2022-11-08T00:45:33.947938Z"
    },
    "papermill": {
     "duration": 0.036387,
     "end_time": "2022-11-08T00:45:33.948461",
     "exception": false,
     "start_time": "2022-11-08T00:45:33.912074",
     "status": "completed"
    },
    "tags": []
   },
   "outputs": [],
   "source": [
    "#hide\n",
    "# g = g.rename(columns= {'continent':'group','country':'name','cases':'value'})"
   ]
  },
  {
   "cell_type": "code",
   "execution_count": 36,
   "id": "fleet-motorcycle",
   "metadata": {
    "execution": {
     "iopub.execute_input": "2022-11-08T00:45:34.014838Z",
     "iopub.status.busy": "2022-11-08T00:45:34.014255Z",
     "iopub.status.idle": "2022-11-08T00:45:34.016703Z",
     "shell.execute_reply": "2022-11-08T00:45:34.016170Z"
    },
    "papermill": {
     "duration": 0.037133,
     "end_time": "2022-11-08T00:45:34.016805",
     "exception": false,
     "start_time": "2022-11-08T00:45:33.979672",
     "status": "completed"
    },
    "tags": []
   },
   "outputs": [],
   "source": [
    "#hide\n",
    "# cols = ['name','group','day','value']"
   ]
  },
  {
   "cell_type": "code",
   "execution_count": 37,
   "id": "continued-sleeping",
   "metadata": {
    "execution": {
     "iopub.execute_input": "2022-11-08T00:45:34.082863Z",
     "iopub.status.busy": "2022-11-08T00:45:34.082302Z",
     "iopub.status.idle": "2022-11-08T00:45:34.084549Z",
     "shell.execute_reply": "2022-11-08T00:45:34.084026Z"
    },
    "papermill": {
     "duration": 0.036536,
     "end_time": "2022-11-08T00:45:34.084650",
     "exception": false,
     "start_time": "2022-11-08T00:45:34.048114",
     "status": "completed"
    },
    "tags": []
   },
   "outputs": [],
   "source": [
    "#hide\n",
    "# g.rename(columns= {'date':'day'},inplace = True)"
   ]
  },
  {
   "cell_type": "code",
   "execution_count": 38,
   "id": "major-fight",
   "metadata": {
    "execution": {
     "iopub.execute_input": "2022-11-08T00:45:34.151959Z",
     "iopub.status.busy": "2022-11-08T00:45:34.151373Z",
     "iopub.status.idle": "2022-11-08T00:45:34.153339Z",
     "shell.execute_reply": "2022-11-08T00:45:34.153783Z"
    },
    "papermill": {
     "duration": 0.037971,
     "end_time": "2022-11-08T00:45:34.153902",
     "exception": false,
     "start_time": "2022-11-08T00:45:34.115931",
     "status": "completed"
    },
    "tags": []
   },
   "outputs": [],
   "source": [
    "#hide\n",
    "# g = g[cols]"
   ]
  },
  {
   "cell_type": "code",
   "execution_count": 39,
   "id": "structured-mobile",
   "metadata": {
    "execution": {
     "iopub.execute_input": "2022-11-08T00:45:34.220733Z",
     "iopub.status.busy": "2022-11-08T00:45:34.220148Z",
     "iopub.status.idle": "2022-11-08T00:45:34.222488Z",
     "shell.execute_reply": "2022-11-08T00:45:34.221957Z"
    },
    "papermill": {
     "duration": 0.037487,
     "end_time": "2022-11-08T00:45:34.222592",
     "exception": false,
     "start_time": "2022-11-08T00:45:34.185105",
     "status": "completed"
    },
    "tags": []
   },
   "outputs": [],
   "source": [
    "# #hide\n",
    "# g = g[g.group.notna()]"
   ]
  },
  {
   "cell_type": "code",
   "execution_count": 40,
   "id": "determined-closing",
   "metadata": {
    "execution": {
     "iopub.execute_input": "2022-11-08T00:45:34.289200Z",
     "iopub.status.busy": "2022-11-08T00:45:34.288595Z",
     "iopub.status.idle": "2022-11-08T00:45:34.292277Z",
     "shell.execute_reply": "2022-11-08T00:45:34.291827Z"
    },
    "papermill": {
     "duration": 0.038167,
     "end_time": "2022-11-08T00:45:34.292383",
     "exception": false,
     "start_time": "2022-11-08T00:45:34.254216",
     "status": "completed"
    },
    "tags": []
   },
   "outputs": [],
   "source": [
    "# #hide\n",
    "# colors = dict(zip(\n",
    "#     [\"Oceania\", \"Europe\", \"Asia\", \"South America\", \"Middle East\", \"North America\", \"Africa\"],\n",
    "#     [\"#adb0ff\", \"#ffb3ff\", \"#90d595\", \"#e48381\", \"#aafbff\", \"#f7bb5f\", \"#eafb50\"]\n",
    "# ))\n",
    "# group_lk = g.set_index('name')['group'].to_dict()"
   ]
  },
  {
   "cell_type": "code",
   "execution_count": null,
   "id": "gross-drinking",
   "metadata": {
    "papermill": {
     "duration": 0.031053,
     "end_time": "2022-11-08T00:45:34.354542",
     "exception": false,
     "start_time": "2022-11-08T00:45:34.323489",
     "status": "completed"
    },
    "tags": []
   },
   "outputs": [],
   "source": []
  },
  {
   "cell_type": "code",
   "execution_count": 41,
   "id": "subject-macintosh",
   "metadata": {
    "execution": {
     "iopub.execute_input": "2022-11-08T00:45:34.421786Z",
     "iopub.status.busy": "2022-11-08T00:45:34.421150Z",
     "iopub.status.idle": "2022-11-08T00:45:34.423400Z",
     "shell.execute_reply": "2022-11-08T00:45:34.422877Z"
    },
    "papermill": {
     "duration": 0.037501,
     "end_time": "2022-11-08T00:45:34.423500",
     "exception": false,
     "start_time": "2022-11-08T00:45:34.385999",
     "status": "completed"
    },
    "tags": []
   },
   "outputs": [],
   "source": [
    "# #hide\n",
    "# fig, ax = plt.subplots(figsize=(15, 8))\n",
    "\n",
    "# def draw_barchart(current_day):\n",
    "#     dff = g[g['day'].eq(current_day)].sort_values(by='value', ascending=True).tail(10)\n",
    "#     ax.clear()\n",
    "#     ax.barh(dff['name'], dff['value'], color=[colors[group_lk[x]] for x in dff['name']])\n",
    "#     dx = dff['value'].max() / 200\n",
    "    \n",
    "#     for i, (value, name) in enumerate(zip(dff['value'], dff['name'])):\n",
    "#         ax.text(value-dx, i,     name,           size=14, weight=600, ha='right', va='bottom')\n",
    "#         ax.text(value-dx, i-.25, group_lk[name], size=10, color='#444444', ha='right', va='baseline')\n",
    "#         ax.text(value+dx, i,     f'{value:,.0f}',  size=14, ha='left',  va='center')\n",
    "#     ax.text(1, 0.4, current_day, transform=ax.transAxes, color='#777777', size=46, ha='right', weight=800)\n",
    "#     ax.text(0, 1.06, 'Population (thousands)', transform=ax.transAxes, size=12, color='#777777')\n",
    "#     ax.xaxis.set_major_formatter(ticker.StrMethodFormatter('{x:,.0f}'))\n",
    "#     ax.xaxis.set_ticks_position('top')\n",
    "#     ax.tick_params(axis='x', colors='#777777', labelsize=12)\n",
    "#     ax.set_yticks([])\n",
    "#     ax.margins(0, 0.01)\n",
    "#     ax.grid(which='major', axis='x', linestyle='-')\n",
    "#     ax.set_axisbelow(True)\n",
    "    \n",
    "#     ax.text(0, 1.15, 'Coronavirus',\n",
    "#             transform=ax.transAxes, size=24, weight=600, ha='left', va='top')\n",
    "# #     ax.text(1, 0, 'by @pratapvardhan; credit @jburnmurdoch', transform=ax.transAxes, color='#777777', ha='right',\n",
    "# #             bbox=dict(facecolor='white', alpha=0.8, edgecolor='white'))\n",
    "#     plt.box(False)"
   ]
  },
  {
   "cell_type": "code",
   "execution_count": 42,
   "id": "sexual-wages",
   "metadata": {
    "execution": {
     "iopub.execute_input": "2022-11-08T00:45:34.489692Z",
     "iopub.status.busy": "2022-11-08T00:45:34.489085Z",
     "iopub.status.idle": "2022-11-08T00:45:34.490941Z",
     "shell.execute_reply": "2022-11-08T00:45:34.491373Z"
    },
    "papermill": {
     "duration": 0.036682,
     "end_time": "2022-11-08T00:45:34.491490",
     "exception": false,
     "start_time": "2022-11-08T00:45:34.454808",
     "status": "completed"
    },
    "tags": []
   },
   "outputs": [],
   "source": [
    "# #hide_input\n",
    "# fig, ax = plt.subplots(figsize=(15, 8))\n",
    "# animator = animation.FuncAnimation(fig, draw_barchart, frames=range(g.day.values.min(), g.day.values.max()))\n",
    "# HTML(animator.to_jshtml())\n",
    "# # or use animator.to_html5_video() or animator.save() "
   ]
  },
  {
   "cell_type": "code",
   "execution_count": null,
   "id": "australian-container",
   "metadata": {
    "papermill": {
     "duration": 0.031666,
     "end_time": "2022-11-08T00:45:34.554334",
     "exception": false,
     "start_time": "2022-11-08T00:45:34.522668",
     "status": "completed"
    },
    "tags": []
   },
   "outputs": [],
   "source": []
  },
  {
   "cell_type": "code",
   "execution_count": null,
   "id": "mediterranean-pontiac",
   "metadata": {
    "papermill": {
     "duration": 0.031047,
     "end_time": "2022-11-08T00:45:34.616641",
     "exception": false,
     "start_time": "2022-11-08T00:45:34.585594",
     "status": "completed"
    },
    "tags": []
   },
   "outputs": [],
   "source": []
  },
  {
   "cell_type": "code",
   "execution_count": null,
   "id": "aging-legislature",
   "metadata": {
    "papermill": {
     "duration": 0.031028,
     "end_time": "2022-11-08T00:45:34.679062",
     "exception": false,
     "start_time": "2022-11-08T00:45:34.648034",
     "status": "completed"
    },
    "tags": []
   },
   "outputs": [],
   "source": []
  }
 ],
 "metadata": {
  "kernelspec": {
   "display_name": "Python 3",
   "language": "python",
   "name": "python3"
  },
  "language_info": {
   "codemirror_mode": {
    "name": "ipython",
    "version": 3
   },
   "file_extension": ".py",
   "mimetype": "text/x-python",
   "name": "python",
   "nbconvert_exporter": "python",
   "pygments_lexer": "ipython3",
   "version": "3.6.15"
  },
  "papermill": {
   "duration": 6.144707,
   "end_time": "2022-11-08T00:45:35.027818",
   "environment_variables": {},
   "exception": null,
   "input_path": "2020-03-21-covid19exp.ipynb",
   "output_path": "2020-03-21-covid19exp.ipynb",
   "parameters": {},
   "start_time": "2022-11-08T00:45:28.883111",
   "version": "2.0.0"
  }
 },
 "nbformat": 4,
 "nbformat_minor": 5
}