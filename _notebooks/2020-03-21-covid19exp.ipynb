{
 "cells": [
  {
   "cell_type": "markdown",
   "id": "muslim-click",
   "metadata": {
    "papermill": {
     "duration": 0.04249,
     "end_time": "2021-01-21T12:25:56.299446",
     "exception": false,
     "start_time": "2021-01-21T12:25:56.256956",
     "status": "completed"
    },
    "tags": []
   },
   "source": [
    "# COVID-19 Case Race\n",
    "> A race chart to see rising cases around the world\n",
    "\n",
    "- author: Hargun Oberoi\n",
    "- image: images/covid-overview.png\n",
    "- hide: false\n",
    "- badges: false"
   ]
  },
  {
   "cell_type": "code",
   "execution_count": 1,
   "id": "proof-material",
   "metadata": {
    "execution": {
     "iopub.execute_input": "2021-01-21T12:25:56.385874Z",
     "iopub.status.busy": "2021-01-21T12:25:56.385103Z",
     "iopub.status.idle": "2021-01-21T12:25:56.743880Z",
     "shell.execute_reply": "2021-01-21T12:25:56.742913Z"
    },
    "papermill": {
     "duration": 0.406993,
     "end_time": "2021-01-21T12:25:56.744100",
     "exception": false,
     "start_time": "2021-01-21T12:25:56.337107",
     "status": "completed"
    },
    "tags": []
   },
   "outputs": [],
   "source": [
    "#hide\n",
    "import numpy as np\n",
    "import pandas as pd\n",
    "from jinja2 import Template\n",
    "from IPython.display import HTML"
   ]
  },
  {
   "cell_type": "code",
   "execution_count": 2,
   "id": "developed-terminology",
   "metadata": {
    "execution": {
     "iopub.execute_input": "2021-01-21T12:25:56.827310Z",
     "iopub.status.busy": "2021-01-21T12:25:56.826660Z",
     "iopub.status.idle": "2021-01-21T12:25:56.828902Z",
     "shell.execute_reply": "2021-01-21T12:25:56.828285Z"
    },
    "papermill": {
     "duration": 0.049026,
     "end_time": "2021-01-21T12:25:56.829038",
     "exception": false,
     "start_time": "2021-01-21T12:25:56.780012",
     "status": "completed"
    },
    "tags": []
   },
   "outputs": [],
   "source": [
    "#hide\n",
    "\n",
    "# FETCH\n",
    "base_url = 'https://raw.githubusercontent.com/pratapvardhan/notebooks/master/covid19/'\n",
    "paths = {\n",
    "    'mapping': base_url + 'mapping_countries.csv',\n",
    "    'overview': base_url + 'overview.tpl'\n",
    "}"
   ]
  },
  {
   "cell_type": "code",
   "execution_count": 3,
   "id": "dynamic-saver",
   "metadata": {
    "execution": {
     "iopub.execute_input": "2021-01-21T12:25:56.909666Z",
     "iopub.status.busy": "2021-01-21T12:25:56.909050Z",
     "iopub.status.idle": "2021-01-21T12:25:56.912059Z",
     "shell.execute_reply": "2021-01-21T12:25:56.912707Z"
    },
    "papermill": {
     "duration": 0.048489,
     "end_time": "2021-01-21T12:25:56.912912",
     "exception": false,
     "start_time": "2021-01-21T12:25:56.864423",
     "status": "completed"
    },
    "tags": []
   },
   "outputs": [
    {
     "data": {
      "text/plain": [
       "'https://raw.githubusercontent.com/pratapvardhan/notebooks/master/covid19/mapping_countries.csv'"
      ]
     },
     "execution_count": 3,
     "metadata": {},
     "output_type": "execute_result"
    }
   ],
   "source": [
    "#hide\n",
    "paths['mapping']"
   ]
  },
  {
   "cell_type": "code",
   "execution_count": 4,
   "id": "urban-software",
   "metadata": {
    "execution": {
     "iopub.execute_input": "2021-01-21T12:25:56.995912Z",
     "iopub.status.busy": "2021-01-21T12:25:56.994949Z",
     "iopub.status.idle": "2021-01-21T12:25:56.997110Z",
     "shell.execute_reply": "2021-01-21T12:25:56.997680Z"
    },
    "papermill": {
     "duration": 0.046152,
     "end_time": "2021-01-21T12:25:56.997829",
     "exception": false,
     "start_time": "2021-01-21T12:25:56.951677",
     "status": "completed"
    },
    "tags": []
   },
   "outputs": [],
   "source": [
    "#hide\n",
    "def get_mappings(url):\n",
    "    df = pd.read_csv(url)\n",
    "    return {\n",
    "        'df': df,\n",
    "        'replace.country': dict(df.dropna(subset=['Name']).set_index('Country')['Name']),\n",
    "        'map.continent': dict(df.set_index('Name')['Continent'])\n",
    "    }"
   ]
  },
  {
   "cell_type": "code",
   "execution_count": 5,
   "id": "intimate-machinery",
   "metadata": {
    "execution": {
     "iopub.execute_input": "2021-01-21T12:25:57.081330Z",
     "iopub.status.busy": "2021-01-21T12:25:57.080729Z",
     "iopub.status.idle": "2021-01-21T12:25:57.148995Z",
     "shell.execute_reply": "2021-01-21T12:25:57.148419Z"
    },
    "papermill": {
     "duration": 0.111248,
     "end_time": "2021-01-21T12:25:57.149151",
     "exception": false,
     "start_time": "2021-01-21T12:25:57.037903",
     "status": "completed"
    },
    "tags": []
   },
   "outputs": [],
   "source": [
    "#hide\n",
    "mapping = get_mappings(paths['mapping'])"
   ]
  },
  {
   "cell_type": "code",
   "execution_count": 6,
   "id": "certified-tactics",
   "metadata": {
    "execution": {
     "iopub.execute_input": "2021-01-21T12:25:57.225274Z",
     "iopub.status.busy": "2021-01-21T12:25:57.224459Z",
     "iopub.status.idle": "2021-01-21T12:25:57.227566Z",
     "shell.execute_reply": "2021-01-21T12:25:57.226782Z"
    },
    "papermill": {
     "duration": 0.044834,
     "end_time": "2021-01-21T12:25:57.227776",
     "exception": false,
     "start_time": "2021-01-21T12:25:57.182942",
     "status": "completed"
    },
    "tags": []
   },
   "outputs": [],
   "source": [
    "#hide\n",
    "def get_template(path):\n",
    "    from urllib.parse import urlparse\n",
    "    if bool(urlparse(path).netloc):\n",
    "        from urllib.request import urlopen\n",
    "        return urlopen(path).read().decode('utf8')\n",
    "    return open(path).read()"
   ]
  },
  {
   "cell_type": "code",
   "execution_count": 7,
   "id": "realistic-blast",
   "metadata": {
    "execution": {
     "iopub.execute_input": "2021-01-21T12:25:57.306411Z",
     "iopub.status.busy": "2021-01-21T12:25:57.305845Z",
     "iopub.status.idle": "2021-01-21T12:25:57.308459Z",
     "shell.execute_reply": "2021-01-21T12:25:57.307845Z"
    },
    "papermill": {
     "duration": 0.043933,
     "end_time": "2021-01-21T12:25:57.308594",
     "exception": false,
     "start_time": "2021-01-21T12:25:57.264661",
     "status": "completed"
    },
    "tags": []
   },
   "outputs": [],
   "source": [
    "#hide\n",
    "def get_frame(name):\n",
    "    url = (\n",
    "        'https://raw.githubusercontent.com/CSSEGISandData/COVID-19/master/csse_covid_19_data/'\n",
    "        f'csse_covid_19_time_series/time_series_covid19_{name}_global.csv')\n",
    "    df = pd.read_csv(url)\n",
    "    # rename countries\n",
    "    df['Country/Region'] = df['Country/Region'].replace(mapping['replace.country'])\n",
    "    return df"
   ]
  },
  {
   "cell_type": "code",
   "execution_count": 8,
   "id": "affiliated-characterization",
   "metadata": {
    "execution": {
     "iopub.execute_input": "2021-01-21T12:25:57.387550Z",
     "iopub.status.busy": "2021-01-21T12:25:57.386760Z",
     "iopub.status.idle": "2021-01-21T12:25:57.389056Z",
     "shell.execute_reply": "2021-01-21T12:25:57.389581Z"
    },
    "papermill": {
     "duration": 0.04619,
     "end_time": "2021-01-21T12:25:57.389728",
     "exception": false,
     "start_time": "2021-01-21T12:25:57.343538",
     "status": "completed"
    },
    "tags": []
   },
   "outputs": [],
   "source": [
    "#hide\n",
    "def get_dates(df):\n",
    "    dt_cols = df.columns[~df.columns.isin(['Province/State', 'Country/Region', 'Lat', 'Long'])]\n",
    "    LAST_DATE_I = -1\n",
    "    # sometimes last column may be empty, then go backwards\n",
    "    for i in range(-1, -len(dt_cols), -1):\n",
    "        if not df[dt_cols[i]].fillna(0).eq(0).all():\n",
    "            LAST_DATE_I = i\n",
    "            break\n",
    "    return LAST_DATE_I, dt_cols"
   ]
  },
  {
   "cell_type": "code",
   "execution_count": 9,
   "id": "recent-optimization",
   "metadata": {
    "execution": {
     "iopub.execute_input": "2021-01-21T12:25:57.466976Z",
     "iopub.status.busy": "2021-01-21T12:25:57.466093Z",
     "iopub.status.idle": "2021-01-21T12:25:57.948985Z",
     "shell.execute_reply": "2021-01-21T12:25:57.948082Z"
    },
    "papermill": {
     "duration": 0.525123,
     "end_time": "2021-01-21T12:25:57.949219",
     "exception": false,
     "start_time": "2021-01-21T12:25:57.424096",
     "status": "completed"
    },
    "tags": []
   },
   "outputs": [],
   "source": [
    "#hide\n",
    "COL_REGION = 'Country/Region'\n",
    "# Confirmed, Recovered, Deaths\n",
    "df = get_frame('confirmed')\n",
    "# dft_: timeseries, dfc_: today country agg\n",
    "dft_cases = df\n",
    "dft_deaths = get_frame('deaths')\n",
    "dft_recovered = get_frame('recovered')\n",
    "LAST_DATE_I, dt_cols = get_dates(df)"
   ]
  },
  {
   "cell_type": "code",
   "execution_count": 10,
   "id": "absolute-copper",
   "metadata": {
    "execution": {
     "iopub.execute_input": "2021-01-21T12:25:58.032431Z",
     "iopub.status.busy": "2021-01-21T12:25:58.031617Z",
     "iopub.status.idle": "2021-01-21T12:25:58.034220Z",
     "shell.execute_reply": "2021-01-21T12:25:58.033668Z"
    },
    "papermill": {
     "duration": 0.044191,
     "end_time": "2021-01-21T12:25:58.034356",
     "exception": false,
     "start_time": "2021-01-21T12:25:57.990165",
     "status": "completed"
    },
    "tags": []
   },
   "outputs": [],
   "source": [
    "#hide\n",
    "LAST_DATE_I, dt_cols = get_dates(df)\n",
    "dt_today =dt_cols[LAST_DATE_I]\n",
    "# dt_5day = dt_cols[LAST_DATE_I - 5]\n",
    "dt_yday = dt_cols[LAST_DATE_I - 1]"
   ]
  },
  {
   "cell_type": "code",
   "execution_count": 11,
   "id": "restricted-sheriff",
   "metadata": {
    "execution": {
     "iopub.execute_input": "2021-01-21T12:25:58.122762Z",
     "iopub.status.busy": "2021-01-21T12:25:58.122178Z",
     "iopub.status.idle": "2021-01-21T12:25:58.132017Z",
     "shell.execute_reply": "2021-01-21T12:25:58.132549Z"
    },
    "papermill": {
     "duration": 0.060648,
     "end_time": "2021-01-21T12:25:58.132753",
     "exception": false,
     "start_time": "2021-01-21T12:25:58.072105",
     "status": "completed"
    },
    "tags": []
   },
   "outputs": [],
   "source": [
    "#hide\n",
    "dfc_cases = dft_cases.groupby(COL_REGION)[dt_today].sum()\n",
    "dfc_deaths = dft_deaths.groupby(COL_REGION)[dt_today].sum()\n",
    "# dfp_cases = dft_cases.groupby(COL_REGION)[dt_5day].sum()\n",
    "# dfp_deaths = dft_deaths.groupby(COL_REGION)[dt_5day].sum()\n",
    "dfp_cases = dft_cases.groupby(COL_REGION)[dt_yday].sum()\n",
    "dfp_deaths = dft_deaths.groupby(COL_REGION)[dt_yday].sum()"
   ]
  },
  {
   "cell_type": "code",
   "execution_count": 12,
   "id": "deluxe-hepatitis",
   "metadata": {
    "execution": {
     "iopub.execute_input": "2021-01-21T12:25:58.212221Z",
     "iopub.status.busy": "2021-01-21T12:25:58.211560Z",
     "iopub.status.idle": "2021-01-21T12:25:58.216919Z",
     "shell.execute_reply": "2021-01-21T12:25:58.216389Z"
    },
    "papermill": {
     "duration": 0.048784,
     "end_time": "2021-01-21T12:25:58.217044",
     "exception": false,
     "start_time": "2021-01-21T12:25:58.168260",
     "status": "completed"
    },
    "tags": []
   },
   "outputs": [],
   "source": [
    "#hide\n",
    "df_table = (pd.DataFrame(dict(Cases = dfc_cases, Deaths = dfc_deaths, PCases = dfp_cases, PDeaths = dfp_deaths))\n",
    "            .sort_values(by = ['Cases','Deaths'], ascending = [False, False])\n",
    "            .reset_index())"
   ]
  },
  {
   "cell_type": "code",
   "execution_count": 13,
   "id": "educational-chancellor",
   "metadata": {
    "execution": {
     "iopub.execute_input": "2021-01-21T12:25:58.303223Z",
     "iopub.status.busy": "2021-01-21T12:25:58.302553Z",
     "iopub.status.idle": "2021-01-21T12:25:58.317648Z",
     "shell.execute_reply": "2021-01-21T12:25:58.318191Z"
    },
    "papermill": {
     "duration": 0.065123,
     "end_time": "2021-01-21T12:25:58.318345",
     "exception": false,
     "start_time": "2021-01-21T12:25:58.253222",
     "status": "completed"
    },
    "tags": []
   },
   "outputs": [
    {
     "data": {
      "text/html": [
       "<div>\n",
       "<style scoped>\n",
       "    .dataframe tbody tr th:only-of-type {\n",
       "        vertical-align: middle;\n",
       "    }\n",
       "\n",
       "    .dataframe tbody tr th {\n",
       "        vertical-align: top;\n",
       "    }\n",
       "\n",
       "    .dataframe thead th {\n",
       "        text-align: right;\n",
       "    }\n",
       "</style>\n",
       "<table border=\"1\" class=\"dataframe\">\n",
       "  <thead>\n",
       "    <tr style=\"text-align: right;\">\n",
       "      <th></th>\n",
       "      <th>Country/Region</th>\n",
       "      <th>Cases</th>\n",
       "      <th>Deaths</th>\n",
       "      <th>PCases</th>\n",
       "      <th>PDeaths</th>\n",
       "      <th>Cases (+)</th>\n",
       "      <th>Deaths (+)</th>\n",
       "      <th>Fatality Rate</th>\n",
       "      <th>Continent</th>\n",
       "    </tr>\n",
       "  </thead>\n",
       "  <tbody>\n",
       "    <tr>\n",
       "      <th>0</th>\n",
       "      <td>US</td>\n",
       "      <td>24438723</td>\n",
       "      <td>406147</td>\n",
       "      <td>24256028</td>\n",
       "      <td>401772</td>\n",
       "      <td>182695</td>\n",
       "      <td>4375</td>\n",
       "      <td>1.66</td>\n",
       "      <td>North America</td>\n",
       "    </tr>\n",
       "    <tr>\n",
       "      <th>1</th>\n",
       "      <td>India</td>\n",
       "      <td>10610883</td>\n",
       "      <td>152869</td>\n",
       "      <td>10595639</td>\n",
       "      <td>152718</td>\n",
       "      <td>15244</td>\n",
       "      <td>151</td>\n",
       "      <td>1.44</td>\n",
       "      <td>Asia</td>\n",
       "    </tr>\n",
       "    <tr>\n",
       "      <th>2</th>\n",
       "      <td>Brazil</td>\n",
       "      <td>8638249</td>\n",
       "      <td>212831</td>\n",
       "      <td>8573864</td>\n",
       "      <td>211491</td>\n",
       "      <td>64385</td>\n",
       "      <td>1340</td>\n",
       "      <td>2.46</td>\n",
       "      <td>South America</td>\n",
       "    </tr>\n",
       "    <tr>\n",
       "      <th>3</th>\n",
       "      <td>Russia</td>\n",
       "      <td>3595136</td>\n",
       "      <td>66214</td>\n",
       "      <td>3574330</td>\n",
       "      <td>65632</td>\n",
       "      <td>20806</td>\n",
       "      <td>582</td>\n",
       "      <td>1.84</td>\n",
       "      <td>Europe</td>\n",
       "    </tr>\n",
       "    <tr>\n",
       "      <th>4</th>\n",
       "      <td>United Kingdom</td>\n",
       "      <td>3515796</td>\n",
       "      <td>93469</td>\n",
       "      <td>3476804</td>\n",
       "      <td>91643</td>\n",
       "      <td>38992</td>\n",
       "      <td>1826</td>\n",
       "      <td>2.66</td>\n",
       "      <td>Europe</td>\n",
       "    </tr>\n",
       "  </tbody>\n",
       "</table>\n",
       "</div>"
      ],
      "text/plain": [
       "   Country/Region     Cases  Deaths    PCases  PDeaths  Cases (+)  Deaths (+)  \\\n",
       "0              US  24438723  406147  24256028   401772     182695        4375   \n",
       "1           India  10610883  152869  10595639   152718      15244         151   \n",
       "2          Brazil   8638249  212831   8573864   211491      64385        1340   \n",
       "3          Russia   3595136   66214   3574330    65632      20806         582   \n",
       "4  United Kingdom   3515796   93469   3476804    91643      38992        1826   \n",
       "\n",
       "   Fatality Rate      Continent  \n",
       "0           1.66  North America  \n",
       "1           1.44           Asia  \n",
       "2           2.46  South America  \n",
       "3           1.84         Europe  \n",
       "4           2.66         Europe  "
      ]
     },
     "execution_count": 13,
     "metadata": {},
     "output_type": "execute_result"
    }
   ],
   "source": [
    "#hide\n",
    "for c in 'Cases, Deaths'.split(', '):\n",
    "    df_table[f'{c} (+)'] = (df_table[c] - df_table[f'P{c}']).clip(0)\n",
    "    #Clip ça veut dire, les chiffres negatif sont interdit\n",
    "df_table['Fatality Rate'] = (100* df_table['Deaths']/ df_table['Cases']).round(2)\n",
    "df_table['Continent'] = df_table['Country/Region'].map(mapping['map.continent'])\n",
    "df_table.head(5)"
   ]
  },
  {
   "cell_type": "code",
   "execution_count": 14,
   "id": "aboriginal-bulgaria",
   "metadata": {
    "execution": {
     "iopub.execute_input": "2021-01-21T12:25:58.395037Z",
     "iopub.status.busy": "2021-01-21T12:25:58.394314Z",
     "iopub.status.idle": "2021-01-21T12:25:58.396996Z",
     "shell.execute_reply": "2021-01-21T12:25:58.396525Z"
    },
    "papermill": {
     "duration": 0.042077,
     "end_time": "2021-01-21T12:25:58.397112",
     "exception": false,
     "start_time": "2021-01-21T12:25:58.355035",
     "status": "completed"
    },
    "tags": []
   },
   "outputs": [],
   "source": [
    "#hide\n",
    "#delete problematic countries from table\n",
    "df_table = df_table[~df_table['Country/Region'].isin(['Cape Verde', 'Cruise Ship', 'Kosovo'])]"
   ]
  },
  {
   "cell_type": "code",
   "execution_count": 15,
   "id": "fantastic-effect",
   "metadata": {
    "execution": {
     "iopub.execute_input": "2021-01-21T12:25:58.478480Z",
     "iopub.status.busy": "2021-01-21T12:25:58.477789Z",
     "iopub.status.idle": "2021-01-21T12:25:58.501010Z",
     "shell.execute_reply": "2021-01-21T12:25:58.500445Z"
    },
    "papermill": {
     "duration": 0.069074,
     "end_time": "2021-01-21T12:25:58.501187",
     "exception": false,
     "start_time": "2021-01-21T12:25:58.432113",
     "status": "completed"
    },
    "tags": []
   },
   "outputs": [
    {
     "data": {
      "text/html": [
       "<div>\n",
       "<style scoped>\n",
       "    .dataframe tbody tr th:only-of-type {\n",
       "        vertical-align: middle;\n",
       "    }\n",
       "\n",
       "    .dataframe tbody tr th {\n",
       "        vertical-align: top;\n",
       "    }\n",
       "\n",
       "    .dataframe thead th {\n",
       "        text-align: right;\n",
       "    }\n",
       "</style>\n",
       "<table border=\"1\" class=\"dataframe\">\n",
       "  <thead>\n",
       "    <tr style=\"text-align: right;\">\n",
       "      <th></th>\n",
       "      <th>Country/Region</th>\n",
       "      <th>Cases</th>\n",
       "      <th>Deaths</th>\n",
       "      <th>PCases</th>\n",
       "      <th>PDeaths</th>\n",
       "      <th>Cases (+)</th>\n",
       "      <th>Deaths (+)</th>\n",
       "      <th>Fatality Rate</th>\n",
       "      <th>Continent</th>\n",
       "    </tr>\n",
       "  </thead>\n",
       "  <tbody>\n",
       "    <tr>\n",
       "      <th>0</th>\n",
       "      <td>US</td>\n",
       "      <td>24438723</td>\n",
       "      <td>406147</td>\n",
       "      <td>24256028</td>\n",
       "      <td>401772</td>\n",
       "      <td>182695</td>\n",
       "      <td>4375</td>\n",
       "      <td>1.7</td>\n",
       "      <td>North America</td>\n",
       "    </tr>\n",
       "    <tr>\n",
       "      <th>1</th>\n",
       "      <td>India</td>\n",
       "      <td>10610883</td>\n",
       "      <td>152869</td>\n",
       "      <td>10595639</td>\n",
       "      <td>152718</td>\n",
       "      <td>15244</td>\n",
       "      <td>151</td>\n",
       "      <td>1.4</td>\n",
       "      <td>Asia</td>\n",
       "    </tr>\n",
       "    <tr>\n",
       "      <th>2</th>\n",
       "      <td>Brazil</td>\n",
       "      <td>8638249</td>\n",
       "      <td>212831</td>\n",
       "      <td>8573864</td>\n",
       "      <td>211491</td>\n",
       "      <td>64385</td>\n",
       "      <td>1340</td>\n",
       "      <td>2.5</td>\n",
       "      <td>South America</td>\n",
       "    </tr>\n",
       "    <tr>\n",
       "      <th>3</th>\n",
       "      <td>Russia</td>\n",
       "      <td>3595136</td>\n",
       "      <td>66214</td>\n",
       "      <td>3574330</td>\n",
       "      <td>65632</td>\n",
       "      <td>20806</td>\n",
       "      <td>582</td>\n",
       "      <td>1.8</td>\n",
       "      <td>Europe</td>\n",
       "    </tr>\n",
       "    <tr>\n",
       "      <th>4</th>\n",
       "      <td>United Kingdom</td>\n",
       "      <td>3515796</td>\n",
       "      <td>93469</td>\n",
       "      <td>3476804</td>\n",
       "      <td>91643</td>\n",
       "      <td>38992</td>\n",
       "      <td>1826</td>\n",
       "      <td>2.7</td>\n",
       "      <td>Europe</td>\n",
       "    </tr>\n",
       "  </tbody>\n",
       "</table>\n",
       "</div>"
      ],
      "text/plain": [
       "   Country/Region     Cases  Deaths    PCases  PDeaths  Cases (+)  Deaths (+)  \\\n",
       "0              US  24438723  406147  24256028   401772     182695        4375   \n",
       "1           India  10610883  152869  10595639   152718      15244         151   \n",
       "2          Brazil   8638249  212831   8573864   211491      64385        1340   \n",
       "3          Russia   3595136   66214   3574330    65632      20806         582   \n",
       "4  United Kingdom   3515796   93469   3476804    91643      38992        1826   \n",
       "\n",
       "   Fatality Rate      Continent  \n",
       "0            1.7  North America  \n",
       "1            1.4           Asia  \n",
       "2            2.5  South America  \n",
       "3            1.8         Europe  \n",
       "4            2.7         Europe  "
      ]
     },
     "execution_count": 15,
     "metadata": {},
     "output_type": "execute_result"
    }
   ],
   "source": [
    "#hide\n",
    "df_table = (pd.DataFrame(dict(Cases=dfc_cases, Deaths=dfc_deaths, PCases=dfp_cases, PDeaths=dfp_deaths))\n",
    "             .sort_values(by=['Cases', 'Deaths'], ascending=[False, False])\n",
    "             .reset_index())\n",
    "df_table.rename(columns={'index': 'Country/Region'}, inplace=True)\n",
    "for c in 'Cases, Deaths'.split(', '):\n",
    "    df_table[f'{c} (+)'] = (df_table[c] - df_table[f'P{c}']).clip(0)  # DATA BUG\n",
    "df_table['Fatality Rate'] = (100 * df_table['Deaths'] / df_table['Cases']).round(1)\n",
    "df_table['Continent'] = df_table['Country/Region'].map(mapping['map.continent'])\n",
    "df_table.head(5)"
   ]
  },
  {
   "cell_type": "code",
   "execution_count": 16,
   "id": "fewer-occasion",
   "metadata": {
    "execution": {
     "iopub.execute_input": "2021-01-21T12:25:58.574467Z",
     "iopub.status.busy": "2021-01-21T12:25:58.573930Z",
     "iopub.status.idle": "2021-01-21T12:25:58.577206Z",
     "shell.execute_reply": "2021-01-21T12:25:58.576705Z"
    },
    "papermill": {
     "duration": 0.041029,
     "end_time": "2021-01-21T12:25:58.577332",
     "exception": false,
     "start_time": "2021-01-21T12:25:58.536303",
     "status": "completed"
    },
    "tags": []
   },
   "outputs": [],
   "source": [
    "#hide\n",
    "#delete problematic countries from table\n",
    "df_table = df_table[~df_table['Country/Region'].isin(['Cape Verde', 'Cruise Ship', 'Kosovo'])]"
   ]
  },
  {
   "cell_type": "code",
   "execution_count": 17,
   "id": "related-center",
   "metadata": {
    "execution": {
     "iopub.execute_input": "2021-01-21T12:25:58.660309Z",
     "iopub.status.busy": "2021-01-21T12:25:58.659568Z",
     "iopub.status.idle": "2021-01-21T12:25:58.673465Z",
     "shell.execute_reply": "2021-01-21T12:25:58.674023Z"
    },
    "papermill": {
     "duration": 0.060673,
     "end_time": "2021-01-21T12:25:58.674190",
     "exception": false,
     "start_time": "2021-01-21T12:25:58.613517",
     "status": "completed"
    },
    "tags": []
   },
   "outputs": [],
   "source": [
    "#hide\n",
    "metrics = [df_table.columns[index] for index in [1,2,5,6]]\n",
    "# s_china = df_table[df_table['Country/Region'].eq('China')][metrics].sum().add_prefix('China ')\n",
    "s_us = df_table[df_table['Country/Region'].eq('US')][metrics].sum().add_prefix('US ')\n",
    "s_eu = df_table[df_table['Continent'].eq('Europe')][metrics].sum().add_prefix('EU ')\n",
    "s_ind = df_table[df_table['Country/Region'].eq('India')][metrics].sum().add_prefix('India ')\n",
    "summary = {'updated': pd.to_datetime(dt_today), 'since': pd.to_datetime(dt_yday)}\n",
    "summary = {'updated': pd.to_datetime(dt_today), 'since': pd.to_datetime(dt_yday)}\n",
    "summary = {**summary, **df_table[metrics].sum(), **s_ind, **s_us, **s_eu}"
   ]
  },
  {
   "cell_type": "code",
   "execution_count": 18,
   "id": "engaging-syndrome",
   "metadata": {
    "execution": {
     "iopub.execute_input": "2021-01-21T12:25:58.752937Z",
     "iopub.status.busy": "2021-01-21T12:25:58.752171Z",
     "iopub.status.idle": "2021-01-21T12:25:58.762922Z",
     "shell.execute_reply": "2021-01-21T12:25:58.763405Z"
    },
    "papermill": {
     "duration": 0.05466,
     "end_time": "2021-01-21T12:25:58.763570",
     "exception": false,
     "start_time": "2021-01-21T12:25:58.708910",
     "status": "completed"
    },
    "tags": []
   },
   "outputs": [],
   "source": [
    "#hide\n",
    "dft_ct_new_cases = dft_cases.groupby(COL_REGION)[dt_cols].sum().diff(axis=1).fillna(0).astype(int)"
   ]
  },
  {
   "cell_type": "code",
   "execution_count": 19,
   "id": "neutral-assignment",
   "metadata": {
    "execution": {
     "iopub.execute_input": "2021-01-21T12:25:58.843574Z",
     "iopub.status.busy": "2021-01-21T12:25:58.842980Z",
     "iopub.status.idle": "2021-01-21T12:25:58.845622Z",
     "shell.execute_reply": "2021-01-21T12:25:58.845116Z"
    },
    "papermill": {
     "duration": 0.046937,
     "end_time": "2021-01-21T12:25:58.845764",
     "exception": false,
     "start_time": "2021-01-21T12:25:58.798827",
     "status": "completed"
    },
    "tags": []
   },
   "outputs": [],
   "source": [
    "#hide\n",
    "everydaycases = dft_ct_new_cases.cumsum(axis=1)"
   ]
  },
  {
   "cell_type": "code",
   "execution_count": 20,
   "id": "parliamentary-calgary",
   "metadata": {
    "execution": {
     "iopub.execute_input": "2021-01-21T12:25:58.924984Z",
     "iopub.status.busy": "2021-01-21T12:25:58.924386Z",
     "iopub.status.idle": "2021-01-21T12:26:00.852560Z",
     "shell.execute_reply": "2021-01-21T12:26:00.851889Z"
    },
    "papermill": {
     "duration": 1.969882,
     "end_time": "2021-01-21T12:26:00.852706",
     "exception": false,
     "start_time": "2021-01-21T12:25:58.882824",
     "status": "completed"
    },
    "tags": []
   },
   "outputs": [],
   "source": [
    "#hide\n",
    "import pandas as pd\n",
    "import matplotlib.pyplot as plt\n",
    "import matplotlib.ticker as ticker\n",
    "import matplotlib.animation as animation\n",
    "from IPython.display import HTML"
   ]
  },
  {
   "cell_type": "code",
   "execution_count": 21,
   "id": "lasting-extraction",
   "metadata": {
    "execution": {
     "iopub.execute_input": "2021-01-21T12:26:00.938592Z",
     "iopub.status.busy": "2021-01-21T12:26:00.937974Z",
     "iopub.status.idle": "2021-01-21T12:26:00.942545Z",
     "shell.execute_reply": "2021-01-21T12:26:00.943123Z"
    },
    "papermill": {
     "duration": 0.050544,
     "end_time": "2021-01-21T12:26:00.943273",
     "exception": false,
     "start_time": "2021-01-21T12:26:00.892729",
     "status": "completed"
    },
    "tags": []
   },
   "outputs": [],
   "source": [
    "#hide\n",
    "t = everydaycases.stack()"
   ]
  },
  {
   "cell_type": "code",
   "execution_count": 22,
   "id": "premier-sleeve",
   "metadata": {
    "execution": {
     "iopub.execute_input": "2021-01-21T12:26:01.027873Z",
     "iopub.status.busy": "2021-01-21T12:26:01.027082Z",
     "iopub.status.idle": "2021-01-21T12:26:01.034201Z",
     "shell.execute_reply": "2021-01-21T12:26:01.034792Z"
    },
    "papermill": {
     "duration": 0.052117,
     "end_time": "2021-01-21T12:26:01.034964",
     "exception": false,
     "start_time": "2021-01-21T12:26:00.982847",
     "status": "completed"
    },
    "tags": []
   },
   "outputs": [],
   "source": [
    "#hide\n",
    "g = t.reset_index(['Country/Region'])"
   ]
  },
  {
   "cell_type": "code",
   "execution_count": 23,
   "id": "distributed-pittsburgh",
   "metadata": {
    "execution": {
     "iopub.execute_input": "2021-01-21T12:26:01.121572Z",
     "iopub.status.busy": "2021-01-21T12:26:01.120806Z",
     "iopub.status.idle": "2021-01-21T12:26:01.122732Z",
     "shell.execute_reply": "2021-01-21T12:26:01.123284Z"
    },
    "papermill": {
     "duration": 0.051442,
     "end_time": "2021-01-21T12:26:01.123434",
     "exception": false,
     "start_time": "2021-01-21T12:26:01.071992",
     "status": "completed"
    },
    "tags": []
   },
   "outputs": [],
   "source": [
    "#hide\n",
    "g.index.name = 'date'"
   ]
  },
  {
   "cell_type": "code",
   "execution_count": 24,
   "id": "naked-donor",
   "metadata": {
    "execution": {
     "iopub.execute_input": "2021-01-21T12:26:01.206501Z",
     "iopub.status.busy": "2021-01-21T12:26:01.205712Z",
     "iopub.status.idle": "2021-01-21T12:26:01.208302Z",
     "shell.execute_reply": "2021-01-21T12:26:01.207789Z"
    },
    "papermill": {
     "duration": 0.045595,
     "end_time": "2021-01-21T12:26:01.208433",
     "exception": false,
     "start_time": "2021-01-21T12:26:01.162838",
     "status": "completed"
    },
    "tags": []
   },
   "outputs": [],
   "source": [
    "# #hide\n",
    "# g = g.reset_index(['date'])"
   ]
  },
  {
   "cell_type": "code",
   "execution_count": 25,
   "id": "incomplete-mustang",
   "metadata": {
    "execution": {
     "iopub.execute_input": "2021-01-21T12:26:01.289070Z",
     "iopub.status.busy": "2021-01-21T12:26:01.288497Z",
     "iopub.status.idle": "2021-01-21T12:26:01.291831Z",
     "shell.execute_reply": "2021-01-21T12:26:01.292810Z"
    },
    "papermill": {
     "duration": 0.046165,
     "end_time": "2021-01-21T12:26:01.293110",
     "exception": false,
     "start_time": "2021-01-21T12:26:01.246945",
     "status": "completed"
    },
    "tags": []
   },
   "outputs": [],
   "source": [
    "#hide\n",
    "# g.head()"
   ]
  },
  {
   "cell_type": "code",
   "execution_count": 26,
   "id": "specific-kruger",
   "metadata": {
    "execution": {
     "iopub.execute_input": "2021-01-21T12:26:01.374347Z",
     "iopub.status.busy": "2021-01-21T12:26:01.373610Z",
     "iopub.status.idle": "2021-01-21T12:26:01.375579Z",
     "shell.execute_reply": "2021-01-21T12:26:01.376122Z"
    },
    "papermill": {
     "duration": 0.043424,
     "end_time": "2021-01-21T12:26:01.376269",
     "exception": false,
     "start_time": "2021-01-21T12:26:01.332845",
     "status": "completed"
    },
    "tags": []
   },
   "outputs": [],
   "source": [
    "#hide\n",
    "# g.columns = ['date','country','cases']"
   ]
  },
  {
   "cell_type": "code",
   "execution_count": 27,
   "id": "tender-conversion",
   "metadata": {
    "execution": {
     "iopub.execute_input": "2021-01-21T12:26:01.456017Z",
     "iopub.status.busy": "2021-01-21T12:26:01.455275Z",
     "iopub.status.idle": "2021-01-21T12:26:01.457855Z",
     "shell.execute_reply": "2021-01-21T12:26:01.457368Z"
    },
    "papermill": {
     "duration": 0.044015,
     "end_time": "2021-01-21T12:26:01.457980",
     "exception": false,
     "start_time": "2021-01-21T12:26:01.413965",
     "status": "completed"
    },
    "tags": []
   },
   "outputs": [],
   "source": [
    "#hide\n",
    "# g['continent'] = g.country"
   ]
  },
  {
   "cell_type": "code",
   "execution_count": 28,
   "id": "substantial-wilderness",
   "metadata": {
    "execution": {
     "iopub.execute_input": "2021-01-21T12:26:01.538547Z",
     "iopub.status.busy": "2021-01-21T12:26:01.537970Z",
     "iopub.status.idle": "2021-01-21T12:26:01.539733Z",
     "shell.execute_reply": "2021-01-21T12:26:01.540265Z"
    },
    "papermill": {
     "duration": 0.045361,
     "end_time": "2021-01-21T12:26:01.540464",
     "exception": false,
     "start_time": "2021-01-21T12:26:01.495103",
     "status": "completed"
    },
    "tags": []
   },
   "outputs": [],
   "source": [
    "#hide\n",
    "# cols = list(g.columns.values)"
   ]
  },
  {
   "cell_type": "code",
   "execution_count": 29,
   "id": "solved-farming",
   "metadata": {
    "execution": {
     "iopub.execute_input": "2021-01-21T12:26:01.621258Z",
     "iopub.status.busy": "2021-01-21T12:26:01.620654Z",
     "iopub.status.idle": "2021-01-21T12:26:01.623417Z",
     "shell.execute_reply": "2021-01-21T12:26:01.622901Z"
    },
    "papermill": {
     "duration": 0.043946,
     "end_time": "2021-01-21T12:26:01.623569",
     "exception": false,
     "start_time": "2021-01-21T12:26:01.579623",
     "status": "completed"
    },
    "tags": []
   },
   "outputs": [],
   "source": [
    "#hide\n",
    "# cols.insert(0, cols.pop())"
   ]
  },
  {
   "cell_type": "code",
   "execution_count": 30,
   "id": "executed-adoption",
   "metadata": {
    "execution": {
     "iopub.execute_input": "2021-01-21T12:26:01.711152Z",
     "iopub.status.busy": "2021-01-21T12:26:01.710581Z",
     "iopub.status.idle": "2021-01-21T12:26:01.713462Z",
     "shell.execute_reply": "2021-01-21T12:26:01.714191Z"
    },
    "papermill": {
     "duration": 0.05132,
     "end_time": "2021-01-21T12:26:01.714402",
     "exception": false,
     "start_time": "2021-01-21T12:26:01.663082",
     "status": "completed"
    },
    "tags": []
   },
   "outputs": [],
   "source": [
    "#hide\n",
    "# g = g[cols]"
   ]
  },
  {
   "cell_type": "code",
   "execution_count": 31,
   "id": "subject-dublin",
   "metadata": {
    "execution": {
     "iopub.execute_input": "2021-01-21T12:26:02.330892Z",
     "iopub.status.busy": "2021-01-21T12:26:02.330083Z",
     "iopub.status.idle": "2021-01-21T12:26:02.333115Z",
     "shell.execute_reply": "2021-01-21T12:26:02.332409Z"
    },
    "papermill": {
     "duration": 0.399822,
     "end_time": "2021-01-21T12:26:02.333259",
     "exception": false,
     "start_time": "2021-01-21T12:26:01.933437",
     "status": "completed"
    },
    "tags": []
   },
   "outputs": [],
   "source": [
    "#hide\n",
    "# g['continent'] = g['continent'].map(mapping['map.continent'])"
   ]
  },
  {
   "cell_type": "code",
   "execution_count": 32,
   "id": "freelance-scout",
   "metadata": {
    "execution": {
     "iopub.execute_input": "2021-01-21T12:26:02.413116Z",
     "iopub.status.busy": "2021-01-21T12:26:02.412532Z",
     "iopub.status.idle": "2021-01-21T12:26:02.414905Z",
     "shell.execute_reply": "2021-01-21T12:26:02.415432Z"
    },
    "papermill": {
     "duration": 0.044763,
     "end_time": "2021-01-21T12:26:02.415580",
     "exception": false,
     "start_time": "2021-01-21T12:26:02.370817",
     "status": "completed"
    },
    "tags": []
   },
   "outputs": [],
   "source": [
    "#hide\n",
    "# g.head()"
   ]
  },
  {
   "cell_type": "code",
   "execution_count": 33,
   "id": "limited-engine",
   "metadata": {
    "execution": {
     "iopub.execute_input": "2021-01-21T12:26:02.493739Z",
     "iopub.status.busy": "2021-01-21T12:26:02.493187Z",
     "iopub.status.idle": "2021-01-21T12:26:02.496129Z",
     "shell.execute_reply": "2021-01-21T12:26:02.495310Z"
    },
    "papermill": {
     "duration": 0.04286,
     "end_time": "2021-01-21T12:26:02.496307",
     "exception": false,
     "start_time": "2021-01-21T12:26:02.453447",
     "status": "completed"
    },
    "tags": []
   },
   "outputs": [],
   "source": [
    "# hide\n",
    "# g['date'] = g['date'].astype('datetime64[ns]')"
   ]
  },
  {
   "cell_type": "code",
   "execution_count": 34,
   "id": "sophisticated-supervisor",
   "metadata": {
    "execution": {
     "iopub.execute_input": "2021-01-21T12:26:02.577601Z",
     "iopub.status.busy": "2021-01-21T12:26:02.576848Z",
     "iopub.status.idle": "2021-01-21T12:26:02.578670Z",
     "shell.execute_reply": "2021-01-21T12:26:02.579365Z"
    },
    "papermill": {
     "duration": 0.045415,
     "end_time": "2021-01-21T12:26:02.579545",
     "exception": false,
     "start_time": "2021-01-21T12:26:02.534130",
     "status": "completed"
    },
    "tags": []
   },
   "outputs": [],
   "source": [
    "#hide\n",
    "# g['date'] = g.date.dt.dayofyear"
   ]
  },
  {
   "cell_type": "code",
   "execution_count": 35,
   "id": "inside-dubai",
   "metadata": {
    "execution": {
     "iopub.execute_input": "2021-01-21T12:26:02.660386Z",
     "iopub.status.busy": "2021-01-21T12:26:02.659789Z",
     "iopub.status.idle": "2021-01-21T12:26:02.661696Z",
     "shell.execute_reply": "2021-01-21T12:26:02.662463Z"
    },
    "papermill": {
     "duration": 0.046599,
     "end_time": "2021-01-21T12:26:02.662668",
     "exception": false,
     "start_time": "2021-01-21T12:26:02.616069",
     "status": "completed"
    },
    "tags": []
   },
   "outputs": [],
   "source": [
    "#hide\n",
    "# g = g.rename(columns= {'continent':'group','country':'name','cases':'value'})"
   ]
  },
  {
   "cell_type": "code",
   "execution_count": 36,
   "id": "fleet-motorcycle",
   "metadata": {
    "execution": {
     "iopub.execute_input": "2021-01-21T12:26:02.742474Z",
     "iopub.status.busy": "2021-01-21T12:26:02.741883Z",
     "iopub.status.idle": "2021-01-21T12:26:02.745921Z",
     "shell.execute_reply": "2021-01-21T12:26:02.745213Z"
    },
    "papermill": {
     "duration": 0.04579,
     "end_time": "2021-01-21T12:26:02.746049",
     "exception": false,
     "start_time": "2021-01-21T12:26:02.700259",
     "status": "completed"
    },
    "tags": []
   },
   "outputs": [],
   "source": [
    "#hide\n",
    "# cols = ['name','group','day','value']"
   ]
  },
  {
   "cell_type": "code",
   "execution_count": 37,
   "id": "continued-sleeping",
   "metadata": {
    "execution": {
     "iopub.execute_input": "2021-01-21T12:26:02.828156Z",
     "iopub.status.busy": "2021-01-21T12:26:02.826716Z",
     "iopub.status.idle": "2021-01-21T12:26:02.828920Z",
     "shell.execute_reply": "2021-01-21T12:26:02.829516Z"
    },
    "papermill": {
     "duration": 0.04589,
     "end_time": "2021-01-21T12:26:02.829660",
     "exception": false,
     "start_time": "2021-01-21T12:26:02.783770",
     "status": "completed"
    },
    "tags": []
   },
   "outputs": [],
   "source": [
    "#hide\n",
    "# g.rename(columns= {'date':'day'},inplace = True)"
   ]
  },
  {
   "cell_type": "code",
   "execution_count": 38,
   "id": "major-fight",
   "metadata": {
    "execution": {
     "iopub.execute_input": "2021-01-21T12:26:02.908879Z",
     "iopub.status.busy": "2021-01-21T12:26:02.908194Z",
     "iopub.status.idle": "2021-01-21T12:26:02.910387Z",
     "shell.execute_reply": "2021-01-21T12:26:02.910885Z"
    },
    "papermill": {
     "duration": 0.044403,
     "end_time": "2021-01-21T12:26:02.911029",
     "exception": false,
     "start_time": "2021-01-21T12:26:02.866626",
     "status": "completed"
    },
    "tags": []
   },
   "outputs": [],
   "source": [
    "#hide\n",
    "# g = g[cols]"
   ]
  },
  {
   "cell_type": "code",
   "execution_count": 39,
   "id": "structured-mobile",
   "metadata": {
    "execution": {
     "iopub.execute_input": "2021-01-21T12:26:02.991197Z",
     "iopub.status.busy": "2021-01-21T12:26:02.990637Z",
     "iopub.status.idle": "2021-01-21T12:26:02.992302Z",
     "shell.execute_reply": "2021-01-21T12:26:02.992841Z"
    },
    "papermill": {
     "duration": 0.04313,
     "end_time": "2021-01-21T12:26:02.993035",
     "exception": false,
     "start_time": "2021-01-21T12:26:02.949905",
     "status": "completed"
    },
    "tags": []
   },
   "outputs": [],
   "source": [
    "# #hide\n",
    "# g = g[g.group.notna()]"
   ]
  },
  {
   "cell_type": "code",
   "execution_count": 40,
   "id": "determined-closing",
   "metadata": {
    "execution": {
     "iopub.execute_input": "2021-01-21T12:26:03.080050Z",
     "iopub.status.busy": "2021-01-21T12:26:03.079198Z",
     "iopub.status.idle": "2021-01-21T12:26:03.082097Z",
     "shell.execute_reply": "2021-01-21T12:26:03.081392Z"
    },
    "papermill": {
     "duration": 0.048433,
     "end_time": "2021-01-21T12:26:03.082273",
     "exception": false,
     "start_time": "2021-01-21T12:26:03.033840",
     "status": "completed"
    },
    "tags": []
   },
   "outputs": [],
   "source": [
    "# #hide\n",
    "# colors = dict(zip(\n",
    "#     [\"Oceania\", \"Europe\", \"Asia\", \"South America\", \"Middle East\", \"North America\", \"Africa\"],\n",
    "#     [\"#adb0ff\", \"#ffb3ff\", \"#90d595\", \"#e48381\", \"#aafbff\", \"#f7bb5f\", \"#eafb50\"]\n",
    "# ))\n",
    "# group_lk = g.set_index('name')['group'].to_dict()"
   ]
  },
  {
   "cell_type": "code",
   "execution_count": null,
   "id": "gross-drinking",
   "metadata": {
    "papermill": {
     "duration": 0.038166,
     "end_time": "2021-01-21T12:26:03.158466",
     "exception": false,
     "start_time": "2021-01-21T12:26:03.120300",
     "status": "completed"
    },
    "tags": []
   },
   "outputs": [],
   "source": []
  },
  {
   "cell_type": "code",
   "execution_count": 41,
   "id": "subject-macintosh",
   "metadata": {
    "execution": {
     "iopub.execute_input": "2021-01-21T12:26:03.244259Z",
     "iopub.status.busy": "2021-01-21T12:26:03.243530Z",
     "iopub.status.idle": "2021-01-21T12:26:03.245808Z",
     "shell.execute_reply": "2021-01-21T12:26:03.246346Z"
    },
    "papermill": {
     "duration": 0.047572,
     "end_time": "2021-01-21T12:26:03.246508",
     "exception": false,
     "start_time": "2021-01-21T12:26:03.198936",
     "status": "completed"
    },
    "tags": []
   },
   "outputs": [],
   "source": [
    "# #hide\n",
    "# fig, ax = plt.subplots(figsize=(15, 8))\n",
    "\n",
    "# def draw_barchart(current_day):\n",
    "#     dff = g[g['day'].eq(current_day)].sort_values(by='value', ascending=True).tail(10)\n",
    "#     ax.clear()\n",
    "#     ax.barh(dff['name'], dff['value'], color=[colors[group_lk[x]] for x in dff['name']])\n",
    "#     dx = dff['value'].max() / 200\n",
    "    \n",
    "#     for i, (value, name) in enumerate(zip(dff['value'], dff['name'])):\n",
    "#         ax.text(value-dx, i,     name,           size=14, weight=600, ha='right', va='bottom')\n",
    "#         ax.text(value-dx, i-.25, group_lk[name], size=10, color='#444444', ha='right', va='baseline')\n",
    "#         ax.text(value+dx, i,     f'{value:,.0f}',  size=14, ha='left',  va='center')\n",
    "#     ax.text(1, 0.4, current_day, transform=ax.transAxes, color='#777777', size=46, ha='right', weight=800)\n",
    "#     ax.text(0, 1.06, 'Population (thousands)', transform=ax.transAxes, size=12, color='#777777')\n",
    "#     ax.xaxis.set_major_formatter(ticker.StrMethodFormatter('{x:,.0f}'))\n",
    "#     ax.xaxis.set_ticks_position('top')\n",
    "#     ax.tick_params(axis='x', colors='#777777', labelsize=12)\n",
    "#     ax.set_yticks([])\n",
    "#     ax.margins(0, 0.01)\n",
    "#     ax.grid(which='major', axis='x', linestyle='-')\n",
    "#     ax.set_axisbelow(True)\n",
    "    \n",
    "#     ax.text(0, 1.15, 'Coronavirus',\n",
    "#             transform=ax.transAxes, size=24, weight=600, ha='left', va='top')\n",
    "# #     ax.text(1, 0, 'by @pratapvardhan; credit @jburnmurdoch', transform=ax.transAxes, color='#777777', ha='right',\n",
    "# #             bbox=dict(facecolor='white', alpha=0.8, edgecolor='white'))\n",
    "#     plt.box(False)"
   ]
  },
  {
   "cell_type": "code",
   "execution_count": 42,
   "id": "sexual-wages",
   "metadata": {
    "execution": {
     "iopub.execute_input": "2021-01-21T12:26:03.330606Z",
     "iopub.status.busy": "2021-01-21T12:26:03.329841Z",
     "iopub.status.idle": "2021-01-21T12:26:03.332339Z",
     "shell.execute_reply": "2021-01-21T12:26:03.331670Z"
    },
    "papermill": {
     "duration": 0.048391,
     "end_time": "2021-01-21T12:26:03.332478",
     "exception": false,
     "start_time": "2021-01-21T12:26:03.284087",
     "status": "completed"
    },
    "tags": []
   },
   "outputs": [],
   "source": [
    "# #hide_input\n",
    "# fig, ax = plt.subplots(figsize=(15, 8))\n",
    "# animator = animation.FuncAnimation(fig, draw_barchart, frames=range(g.day.values.min(), g.day.values.max()))\n",
    "# HTML(animator.to_jshtml())\n",
    "# # or use animator.to_html5_video() or animator.save() "
   ]
  },
  {
   "cell_type": "code",
   "execution_count": null,
   "id": "australian-container",
   "metadata": {
    "papermill": {
     "duration": 0.03686,
     "end_time": "2021-01-21T12:26:03.406399",
     "exception": false,
     "start_time": "2021-01-21T12:26:03.369539",
     "status": "completed"
    },
    "tags": []
   },
   "outputs": [],
   "source": []
  },
  {
   "cell_type": "code",
   "execution_count": null,
   "id": "mediterranean-pontiac",
   "metadata": {
    "papermill": {
     "duration": 0.038017,
     "end_time": "2021-01-21T12:26:03.485100",
     "exception": false,
     "start_time": "2021-01-21T12:26:03.447083",
     "status": "completed"
    },
    "tags": []
   },
   "outputs": [],
   "source": []
  },
  {
   "cell_type": "code",
   "execution_count": null,
   "id": "aging-legislature",
   "metadata": {
    "papermill": {
     "duration": 0.039403,
     "end_time": "2021-01-21T12:26:03.562791",
     "exception": false,
     "start_time": "2021-01-21T12:26:03.523388",
     "status": "completed"
    },
    "tags": []
   },
   "outputs": [],
   "source": []
  }
 ],
 "metadata": {
  "kernelspec": {
   "display_name": "Python 3",
   "language": "python",
   "name": "python3"
  },
  "language_info": {
   "codemirror_mode": {
    "name": "ipython",
    "version": 3
   },
   "file_extension": ".py",
   "mimetype": "text/x-python",
   "name": "python",
   "nbconvert_exporter": "python",
   "pygments_lexer": "ipython3",
   "version": "3.6.12"
  },
  "papermill": {
   "duration": 9.085868,
   "end_time": "2021-01-21T12:26:04.016392",
   "environment_variables": {},
   "exception": null,
   "input_path": "2020-03-21-covid19exp.ipynb",
   "output_path": "2020-03-21-covid19exp.ipynb",
   "parameters": {},
   "start_time": "2021-01-21T12:25:54.930524",
   "version": "2.0.0"
  }
 },
 "nbformat": 4,
 "nbformat_minor": 5
}