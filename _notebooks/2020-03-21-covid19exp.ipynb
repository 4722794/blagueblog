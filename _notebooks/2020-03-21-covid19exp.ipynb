{
 "cells": [
  {
   "cell_type": "markdown",
   "id": "muslim-click",
   "metadata": {
    "papermill": {
     "duration": 0.031741,
     "end_time": "2022-06-18T00:42:24.427709",
     "exception": false,
     "start_time": "2022-06-18T00:42:24.395968",
     "status": "completed"
    },
    "tags": []
   },
   "source": [
    "# COVID-19 Case Race\n",
    "> A race chart to see rising cases around the world\n",
    "\n",
    "- author: Hargun Oberoi\n",
    "- image: images/covid-overview.png\n",
    "- hide: false\n",
    "- badges: false"
   ]
  },
  {
   "cell_type": "code",
   "execution_count": 1,
   "id": "proof-material",
   "metadata": {
    "execution": {
     "iopub.execute_input": "2022-06-18T00:42:24.492946Z",
     "iopub.status.busy": "2022-06-18T00:42:24.492259Z",
     "iopub.status.idle": "2022-06-18T00:42:24.806373Z",
     "shell.execute_reply": "2022-06-18T00:42:24.805683Z"
    },
    "papermill": {
     "duration": 0.351328,
     "end_time": "2022-06-18T00:42:24.806547",
     "exception": false,
     "start_time": "2022-06-18T00:42:24.455219",
     "status": "completed"
    },
    "tags": []
   },
   "outputs": [],
   "source": [
    "#hide\n",
    "import numpy as np\n",
    "import pandas as pd\n",
    "from jinja2 import Template\n",
    "from IPython.display import HTML"
   ]
  },
  {
   "cell_type": "code",
   "execution_count": 2,
   "id": "developed-terminology",
   "metadata": {
    "execution": {
     "iopub.execute_input": "2022-06-18T00:42:24.872518Z",
     "iopub.status.busy": "2022-06-18T00:42:24.871146Z",
     "iopub.status.idle": "2022-06-18T00:42:24.873166Z",
     "shell.execute_reply": "2022-06-18T00:42:24.873638Z"
    },
    "papermill": {
     "duration": 0.037791,
     "end_time": "2022-06-18T00:42:24.873766",
     "exception": false,
     "start_time": "2022-06-18T00:42:24.835975",
     "status": "completed"
    },
    "tags": []
   },
   "outputs": [],
   "source": [
    "#hide\n",
    "\n",
    "# FETCH\n",
    "base_url = 'https://raw.githubusercontent.com/pratapvardhan/notebooks/master/covid19/'\n",
    "paths = {\n",
    "    'mapping': base_url + 'mapping_countries.csv',\n",
    "    'overview': base_url + 'overview.tpl'\n",
    "}"
   ]
  },
  {
   "cell_type": "code",
   "execution_count": 3,
   "id": "dynamic-saver",
   "metadata": {
    "execution": {
     "iopub.execute_input": "2022-06-18T00:42:24.942700Z",
     "iopub.status.busy": "2022-06-18T00:42:24.942128Z",
     "iopub.status.idle": "2022-06-18T00:42:24.945261Z",
     "shell.execute_reply": "2022-06-18T00:42:24.945778Z"
    },
    "papermill": {
     "duration": 0.042964,
     "end_time": "2022-06-18T00:42:24.945890",
     "exception": false,
     "start_time": "2022-06-18T00:42:24.902926",
     "status": "completed"
    },
    "tags": []
   },
   "outputs": [
    {
     "data": {
      "text/plain": [
       "'https://raw.githubusercontent.com/pratapvardhan/notebooks/master/covid19/mapping_countries.csv'"
      ]
     },
     "execution_count": 3,
     "metadata": {},
     "output_type": "execute_result"
    }
   ],
   "source": [
    "#hide\n",
    "paths['mapping']"
   ]
  },
  {
   "cell_type": "code",
   "execution_count": 4,
   "id": "urban-software",
   "metadata": {
    "execution": {
     "iopub.execute_input": "2022-06-18T00:42:25.010140Z",
     "iopub.status.busy": "2022-06-18T00:42:25.009365Z",
     "iopub.status.idle": "2022-06-18T00:42:25.011142Z",
     "shell.execute_reply": "2022-06-18T00:42:25.011646Z"
    },
    "papermill": {
     "duration": 0.037366,
     "end_time": "2022-06-18T00:42:25.011769",
     "exception": false,
     "start_time": "2022-06-18T00:42:24.974403",
     "status": "completed"
    },
    "tags": []
   },
   "outputs": [],
   "source": [
    "#hide\n",
    "def get_mappings(url):\n",
    "    df = pd.read_csv(url)\n",
    "    return {\n",
    "        'df': df,\n",
    "        'replace.country': dict(df.dropna(subset=['Name']).set_index('Country')['Name']),\n",
    "        'map.continent': dict(df.set_index('Name')['Continent'])\n",
    "    }"
   ]
  },
  {
   "cell_type": "code",
   "execution_count": 5,
   "id": "intimate-machinery",
   "metadata": {
    "execution": {
     "iopub.execute_input": "2022-06-18T00:42:25.074706Z",
     "iopub.status.busy": "2022-06-18T00:42:25.074136Z",
     "iopub.status.idle": "2022-06-18T00:42:25.118898Z",
     "shell.execute_reply": "2022-06-18T00:42:25.118219Z"
    },
    "papermill": {
     "duration": 0.079454,
     "end_time": "2022-06-18T00:42:25.119035",
     "exception": false,
     "start_time": "2022-06-18T00:42:25.039581",
     "status": "completed"
    },
    "tags": []
   },
   "outputs": [],
   "source": [
    "#hide\n",
    "mapping = get_mappings(paths['mapping'])"
   ]
  },
  {
   "cell_type": "code",
   "execution_count": 6,
   "id": "certified-tactics",
   "metadata": {
    "execution": {
     "iopub.execute_input": "2022-06-18T00:42:25.178858Z",
     "iopub.status.busy": "2022-06-18T00:42:25.178037Z",
     "iopub.status.idle": "2022-06-18T00:42:25.181846Z",
     "shell.execute_reply": "2022-06-18T00:42:25.182440Z"
    },
    "papermill": {
     "duration": 0.037176,
     "end_time": "2022-06-18T00:42:25.182596",
     "exception": false,
     "start_time": "2022-06-18T00:42:25.145420",
     "status": "completed"
    },
    "tags": []
   },
   "outputs": [],
   "source": [
    "#hide\n",
    "def get_template(path):\n",
    "    from urllib.parse import urlparse\n",
    "    if bool(urlparse(path).netloc):\n",
    "        from urllib.request import urlopen\n",
    "        return urlopen(path).read().decode('utf8')\n",
    "    return open(path).read()"
   ]
  },
  {
   "cell_type": "code",
   "execution_count": 7,
   "id": "realistic-blast",
   "metadata": {
    "execution": {
     "iopub.execute_input": "2022-06-18T00:42:25.238921Z",
     "iopub.status.busy": "2022-06-18T00:42:25.238106Z",
     "iopub.status.idle": "2022-06-18T00:42:25.239789Z",
     "shell.execute_reply": "2022-06-18T00:42:25.240392Z"
    },
    "papermill": {
     "duration": 0.032384,
     "end_time": "2022-06-18T00:42:25.240544",
     "exception": false,
     "start_time": "2022-06-18T00:42:25.208160",
     "status": "completed"
    },
    "tags": []
   },
   "outputs": [],
   "source": [
    "#hide\n",
    "def get_frame(name):\n",
    "    url = (\n",
    "        'https://raw.githubusercontent.com/CSSEGISandData/COVID-19/master/csse_covid_19_data/'\n",
    "        f'csse_covid_19_time_series/time_series_covid19_{name}_global.csv')\n",
    "    df = pd.read_csv(url)\n",
    "    # rename countries\n",
    "    df['Country/Region'] = df['Country/Region'].replace(mapping['replace.country'])\n",
    "    return df"
   ]
  },
  {
   "cell_type": "code",
   "execution_count": 8,
   "id": "affiliated-characterization",
   "metadata": {
    "execution": {
     "iopub.execute_input": "2022-06-18T00:42:25.300866Z",
     "iopub.status.busy": "2022-06-18T00:42:25.300398Z",
     "iopub.status.idle": "2022-06-18T00:42:25.304236Z",
     "shell.execute_reply": "2022-06-18T00:42:25.303730Z"
    },
    "papermill": {
     "duration": 0.036856,
     "end_time": "2022-06-18T00:42:25.304352",
     "exception": false,
     "start_time": "2022-06-18T00:42:25.267496",
     "status": "completed"
    },
    "tags": []
   },
   "outputs": [],
   "source": [
    "#hide\n",
    "def get_dates(df):\n",
    "    dt_cols = df.columns[~df.columns.isin(['Province/State', 'Country/Region', 'Lat', 'Long'])]\n",
    "    LAST_DATE_I = -1\n",
    "    # sometimes last column may be empty, then go backwards\n",
    "    for i in range(-1, -len(dt_cols), -1):\n",
    "        if not df[dt_cols[i]].fillna(0).eq(0).all():\n",
    "            LAST_DATE_I = i\n",
    "            break\n",
    "    return LAST_DATE_I, dt_cols"
   ]
  },
  {
   "cell_type": "code",
   "execution_count": 9,
   "id": "recent-optimization",
   "metadata": {
    "execution": {
     "iopub.execute_input": "2022-06-18T00:42:25.364551Z",
     "iopub.status.busy": "2022-06-18T00:42:25.363835Z",
     "iopub.status.idle": "2022-06-18T00:42:25.838395Z",
     "shell.execute_reply": "2022-06-18T00:42:25.839063Z"
    },
    "papermill": {
     "duration": 0.507965,
     "end_time": "2022-06-18T00:42:25.839228",
     "exception": false,
     "start_time": "2022-06-18T00:42:25.331263",
     "status": "completed"
    },
    "tags": []
   },
   "outputs": [],
   "source": [
    "#hide\n",
    "COL_REGION = 'Country/Region'\n",
    "# Confirmed, Recovered, Deaths\n",
    "df = get_frame('confirmed')\n",
    "# dft_: timeseries, dfc_: today country agg\n",
    "dft_cases = df\n",
    "dft_deaths = get_frame('deaths')\n",
    "dft_recovered = get_frame('recovered')\n",
    "LAST_DATE_I, dt_cols = get_dates(df)"
   ]
  },
  {
   "cell_type": "code",
   "execution_count": 10,
   "id": "absolute-copper",
   "metadata": {
    "execution": {
     "iopub.execute_input": "2022-06-18T00:42:25.897664Z",
     "iopub.status.busy": "2022-06-18T00:42:25.897119Z",
     "iopub.status.idle": "2022-06-18T00:42:25.899763Z",
     "shell.execute_reply": "2022-06-18T00:42:25.900355Z"
    },
    "papermill": {
     "duration": 0.035178,
     "end_time": "2022-06-18T00:42:25.900490",
     "exception": false,
     "start_time": "2022-06-18T00:42:25.865312",
     "status": "completed"
    },
    "tags": []
   },
   "outputs": [],
   "source": [
    "#hide\n",
    "LAST_DATE_I, dt_cols = get_dates(df)\n",
    "dt_today =dt_cols[LAST_DATE_I]\n",
    "# dt_5day = dt_cols[LAST_DATE_I - 5]\n",
    "dt_yday = dt_cols[LAST_DATE_I - 1]"
   ]
  },
  {
   "cell_type": "code",
   "execution_count": 11,
   "id": "restricted-sheriff",
   "metadata": {
    "execution": {
     "iopub.execute_input": "2022-06-18T00:42:25.960881Z",
     "iopub.status.busy": "2022-06-18T00:42:25.960412Z",
     "iopub.status.idle": "2022-06-18T00:42:25.967518Z",
     "shell.execute_reply": "2022-06-18T00:42:25.967136Z"
    },
    "papermill": {
     "duration": 0.039723,
     "end_time": "2022-06-18T00:42:25.967603",
     "exception": false,
     "start_time": "2022-06-18T00:42:25.927880",
     "status": "completed"
    },
    "tags": []
   },
   "outputs": [],
   "source": [
    "#hide\n",
    "dfc_cases = dft_cases.groupby(COL_REGION)[dt_today].sum()\n",
    "dfc_deaths = dft_deaths.groupby(COL_REGION)[dt_today].sum()\n",
    "# dfp_cases = dft_cases.groupby(COL_REGION)[dt_5day].sum()\n",
    "# dfp_deaths = dft_deaths.groupby(COL_REGION)[dt_5day].sum()\n",
    "dfp_cases = dft_cases.groupby(COL_REGION)[dt_yday].sum()\n",
    "dfp_deaths = dft_deaths.groupby(COL_REGION)[dt_yday].sum()"
   ]
  },
  {
   "cell_type": "code",
   "execution_count": 12,
   "id": "deluxe-hepatitis",
   "metadata": {
    "execution": {
     "iopub.execute_input": "2022-06-18T00:42:26.025801Z",
     "iopub.status.busy": "2022-06-18T00:42:26.025335Z",
     "iopub.status.idle": "2022-06-18T00:42:26.030199Z",
     "shell.execute_reply": "2022-06-18T00:42:26.029731Z"
    },
    "papermill": {
     "duration": 0.036745,
     "end_time": "2022-06-18T00:42:26.030281",
     "exception": false,
     "start_time": "2022-06-18T00:42:25.993536",
     "status": "completed"
    },
    "tags": []
   },
   "outputs": [],
   "source": [
    "#hide\n",
    "df_table = (pd.DataFrame(dict(Cases = dfc_cases, Deaths = dfc_deaths, PCases = dfp_cases, PDeaths = dfp_deaths))\n",
    "            .sort_values(by = ['Cases','Deaths'], ascending = [False, False])\n",
    "            .reset_index())"
   ]
  },
  {
   "cell_type": "code",
   "execution_count": 13,
   "id": "educational-chancellor",
   "metadata": {
    "execution": {
     "iopub.execute_input": "2022-06-18T00:42:26.092162Z",
     "iopub.status.busy": "2022-06-18T00:42:26.091622Z",
     "iopub.status.idle": "2022-06-18T00:42:26.103872Z",
     "shell.execute_reply": "2022-06-18T00:42:26.103246Z"
    },
    "papermill": {
     "duration": 0.048952,
     "end_time": "2022-06-18T00:42:26.103984",
     "exception": false,
     "start_time": "2022-06-18T00:42:26.055032",
     "status": "completed"
    },
    "tags": []
   },
   "outputs": [
    {
     "data": {
      "text/html": [
       "<div>\n",
       "<style scoped>\n",
       "    .dataframe tbody tr th:only-of-type {\n",
       "        vertical-align: middle;\n",
       "    }\n",
       "\n",
       "    .dataframe tbody tr th {\n",
       "        vertical-align: top;\n",
       "    }\n",
       "\n",
       "    .dataframe thead th {\n",
       "        text-align: right;\n",
       "    }\n",
       "</style>\n",
       "<table border=\"1\" class=\"dataframe\">\n",
       "  <thead>\n",
       "    <tr style=\"text-align: right;\">\n",
       "      <th></th>\n",
       "      <th>Country/Region</th>\n",
       "      <th>Cases</th>\n",
       "      <th>Deaths</th>\n",
       "      <th>PCases</th>\n",
       "      <th>PDeaths</th>\n",
       "      <th>Cases (+)</th>\n",
       "      <th>Deaths (+)</th>\n",
       "      <th>Fatality Rate</th>\n",
       "      <th>Continent</th>\n",
       "    </tr>\n",
       "  </thead>\n",
       "  <tbody>\n",
       "    <tr>\n",
       "      <th>0</th>\n",
       "      <td>US</td>\n",
       "      <td>86057735</td>\n",
       "      <td>1012647</td>\n",
       "      <td>85941290</td>\n",
       "      <td>1012607</td>\n",
       "      <td>116445</td>\n",
       "      <td>40</td>\n",
       "      <td>1.18</td>\n",
       "      <td>North America</td>\n",
       "    </tr>\n",
       "    <tr>\n",
       "      <th>1</th>\n",
       "      <td>India</td>\n",
       "      <td>43270577</td>\n",
       "      <td>524817</td>\n",
       "      <td>43257730</td>\n",
       "      <td>524803</td>\n",
       "      <td>12847</td>\n",
       "      <td>14</td>\n",
       "      <td>1.21</td>\n",
       "      <td>Asia</td>\n",
       "    </tr>\n",
       "    <tr>\n",
       "      <th>2</th>\n",
       "      <td>Brazil</td>\n",
       "      <td>31611769</td>\n",
       "      <td>668693</td>\n",
       "      <td>31611769</td>\n",
       "      <td>668693</td>\n",
       "      <td>0</td>\n",
       "      <td>0</td>\n",
       "      <td>2.12</td>\n",
       "      <td>South America</td>\n",
       "    </tr>\n",
       "    <tr>\n",
       "      <th>3</th>\n",
       "      <td>France</td>\n",
       "      <td>30228615</td>\n",
       "      <td>150035</td>\n",
       "      <td>30175534</td>\n",
       "      <td>149986</td>\n",
       "      <td>53081</td>\n",
       "      <td>49</td>\n",
       "      <td>0.50</td>\n",
       "      <td>Europe</td>\n",
       "    </tr>\n",
       "    <tr>\n",
       "      <th>4</th>\n",
       "      <td>Germany</td>\n",
       "      <td>27124689</td>\n",
       "      <td>140118</td>\n",
       "      <td>27096571</td>\n",
       "      <td>140099</td>\n",
       "      <td>28118</td>\n",
       "      <td>19</td>\n",
       "      <td>0.52</td>\n",
       "      <td>Europe</td>\n",
       "    </tr>\n",
       "  </tbody>\n",
       "</table>\n",
       "</div>"
      ],
      "text/plain": [
       "  Country/Region     Cases   Deaths    PCases  PDeaths  Cases (+)  Deaths (+)  \\\n",
       "0             US  86057735  1012647  85941290  1012607     116445          40   \n",
       "1          India  43270577   524817  43257730   524803      12847          14   \n",
       "2         Brazil  31611769   668693  31611769   668693          0           0   \n",
       "3         France  30228615   150035  30175534   149986      53081          49   \n",
       "4        Germany  27124689   140118  27096571   140099      28118          19   \n",
       "\n",
       "   Fatality Rate      Continent  \n",
       "0           1.18  North America  \n",
       "1           1.21           Asia  \n",
       "2           2.12  South America  \n",
       "3           0.50         Europe  \n",
       "4           0.52         Europe  "
      ]
     },
     "execution_count": 13,
     "metadata": {},
     "output_type": "execute_result"
    }
   ],
   "source": [
    "#hide\n",
    "for c in 'Cases, Deaths'.split(', '):\n",
    "    df_table[f'{c} (+)'] = (df_table[c] - df_table[f'P{c}']).clip(0)\n",
    "    #Clip ça veut dire, les chiffres negatif sont interdit\n",
    "df_table['Fatality Rate'] = (100* df_table['Deaths']/ df_table['Cases']).round(2)\n",
    "df_table['Continent'] = df_table['Country/Region'].map(mapping['map.continent'])\n",
    "df_table.head(5)"
   ]
  },
  {
   "cell_type": "code",
   "execution_count": 14,
   "id": "aboriginal-bulgaria",
   "metadata": {
    "execution": {
     "iopub.execute_input": "2022-06-18T00:42:26.166875Z",
     "iopub.status.busy": "2022-06-18T00:42:26.166246Z",
     "iopub.status.idle": "2022-06-18T00:42:26.168663Z",
     "shell.execute_reply": "2022-06-18T00:42:26.168246Z"
    },
    "papermill": {
     "duration": 0.036004,
     "end_time": "2022-06-18T00:42:26.168759",
     "exception": false,
     "start_time": "2022-06-18T00:42:26.132755",
     "status": "completed"
    },
    "tags": []
   },
   "outputs": [],
   "source": [
    "#hide\n",
    "#delete problematic countries from table\n",
    "df_table = df_table[~df_table['Country/Region'].isin(['Cape Verde', 'Cruise Ship', 'Kosovo'])]"
   ]
  },
  {
   "cell_type": "code",
   "execution_count": 15,
   "id": "fantastic-effect",
   "metadata": {
    "execution": {
     "iopub.execute_input": "2022-06-18T00:42:26.229317Z",
     "iopub.status.busy": "2022-06-18T00:42:26.228757Z",
     "iopub.status.idle": "2022-06-18T00:42:26.244630Z",
     "shell.execute_reply": "2022-06-18T00:42:26.244225Z"
    },
    "papermill": {
     "duration": 0.049861,
     "end_time": "2022-06-18T00:42:26.244714",
     "exception": false,
     "start_time": "2022-06-18T00:42:26.194853",
     "status": "completed"
    },
    "tags": []
   },
   "outputs": [
    {
     "data": {
      "text/html": [
       "<div>\n",
       "<style scoped>\n",
       "    .dataframe tbody tr th:only-of-type {\n",
       "        vertical-align: middle;\n",
       "    }\n",
       "\n",
       "    .dataframe tbody tr th {\n",
       "        vertical-align: top;\n",
       "    }\n",
       "\n",
       "    .dataframe thead th {\n",
       "        text-align: right;\n",
       "    }\n",
       "</style>\n",
       "<table border=\"1\" class=\"dataframe\">\n",
       "  <thead>\n",
       "    <tr style=\"text-align: right;\">\n",
       "      <th></th>\n",
       "      <th>Country/Region</th>\n",
       "      <th>Cases</th>\n",
       "      <th>Deaths</th>\n",
       "      <th>PCases</th>\n",
       "      <th>PDeaths</th>\n",
       "      <th>Cases (+)</th>\n",
       "      <th>Deaths (+)</th>\n",
       "      <th>Fatality Rate</th>\n",
       "      <th>Continent</th>\n",
       "    </tr>\n",
       "  </thead>\n",
       "  <tbody>\n",
       "    <tr>\n",
       "      <th>0</th>\n",
       "      <td>US</td>\n",
       "      <td>86057735</td>\n",
       "      <td>1012647</td>\n",
       "      <td>85941290</td>\n",
       "      <td>1012607</td>\n",
       "      <td>116445</td>\n",
       "      <td>40</td>\n",
       "      <td>1.2</td>\n",
       "      <td>North America</td>\n",
       "    </tr>\n",
       "    <tr>\n",
       "      <th>1</th>\n",
       "      <td>India</td>\n",
       "      <td>43270577</td>\n",
       "      <td>524817</td>\n",
       "      <td>43257730</td>\n",
       "      <td>524803</td>\n",
       "      <td>12847</td>\n",
       "      <td>14</td>\n",
       "      <td>1.2</td>\n",
       "      <td>Asia</td>\n",
       "    </tr>\n",
       "    <tr>\n",
       "      <th>2</th>\n",
       "      <td>Brazil</td>\n",
       "      <td>31611769</td>\n",
       "      <td>668693</td>\n",
       "      <td>31611769</td>\n",
       "      <td>668693</td>\n",
       "      <td>0</td>\n",
       "      <td>0</td>\n",
       "      <td>2.1</td>\n",
       "      <td>South America</td>\n",
       "    </tr>\n",
       "    <tr>\n",
       "      <th>3</th>\n",
       "      <td>France</td>\n",
       "      <td>30228615</td>\n",
       "      <td>150035</td>\n",
       "      <td>30175534</td>\n",
       "      <td>149986</td>\n",
       "      <td>53081</td>\n",
       "      <td>49</td>\n",
       "      <td>0.5</td>\n",
       "      <td>Europe</td>\n",
       "    </tr>\n",
       "    <tr>\n",
       "      <th>4</th>\n",
       "      <td>Germany</td>\n",
       "      <td>27124689</td>\n",
       "      <td>140118</td>\n",
       "      <td>27096571</td>\n",
       "      <td>140099</td>\n",
       "      <td>28118</td>\n",
       "      <td>19</td>\n",
       "      <td>0.5</td>\n",
       "      <td>Europe</td>\n",
       "    </tr>\n",
       "  </tbody>\n",
       "</table>\n",
       "</div>"
      ],
      "text/plain": [
       "  Country/Region     Cases   Deaths    PCases  PDeaths  Cases (+)  Deaths (+)  \\\n",
       "0             US  86057735  1012647  85941290  1012607     116445          40   \n",
       "1          India  43270577   524817  43257730   524803      12847          14   \n",
       "2         Brazil  31611769   668693  31611769   668693          0           0   \n",
       "3         France  30228615   150035  30175534   149986      53081          49   \n",
       "4        Germany  27124689   140118  27096571   140099      28118          19   \n",
       "\n",
       "   Fatality Rate      Continent  \n",
       "0            1.2  North America  \n",
       "1            1.2           Asia  \n",
       "2            2.1  South America  \n",
       "3            0.5         Europe  \n",
       "4            0.5         Europe  "
      ]
     },
     "execution_count": 15,
     "metadata": {},
     "output_type": "execute_result"
    }
   ],
   "source": [
    "#hide\n",
    "df_table = (pd.DataFrame(dict(Cases=dfc_cases, Deaths=dfc_deaths, PCases=dfp_cases, PDeaths=dfp_deaths))\n",
    "             .sort_values(by=['Cases', 'Deaths'], ascending=[False, False])\n",
    "             .reset_index())\n",
    "df_table.rename(columns={'index': 'Country/Region'}, inplace=True)\n",
    "for c in 'Cases, Deaths'.split(', '):\n",
    "    df_table[f'{c} (+)'] = (df_table[c] - df_table[f'P{c}']).clip(0)  # DATA BUG\n",
    "df_table['Fatality Rate'] = (100 * df_table['Deaths'] / df_table['Cases']).round(1)\n",
    "df_table['Continent'] = df_table['Country/Region'].map(mapping['map.continent'])\n",
    "df_table.head(5)"
   ]
  },
  {
   "cell_type": "code",
   "execution_count": 16,
   "id": "fewer-occasion",
   "metadata": {
    "execution": {
     "iopub.execute_input": "2022-06-18T00:42:26.306483Z",
     "iopub.status.busy": "2022-06-18T00:42:26.305853Z",
     "iopub.status.idle": "2022-06-18T00:42:26.309581Z",
     "shell.execute_reply": "2022-06-18T00:42:26.309197Z"
    },
    "papermill": {
     "duration": 0.037044,
     "end_time": "2022-06-18T00:42:26.309664",
     "exception": false,
     "start_time": "2022-06-18T00:42:26.272620",
     "status": "completed"
    },
    "tags": []
   },
   "outputs": [],
   "source": [
    "#hide\n",
    "#delete problematic countries from table\n",
    "df_table = df_table[~df_table['Country/Region'].isin(['Cape Verde', 'Cruise Ship', 'Kosovo'])]"
   ]
  },
  {
   "cell_type": "code",
   "execution_count": 17,
   "id": "related-center",
   "metadata": {
    "execution": {
     "iopub.execute_input": "2022-06-18T00:42:26.372964Z",
     "iopub.status.busy": "2022-06-18T00:42:26.372489Z",
     "iopub.status.idle": "2022-06-18T00:42:26.384150Z",
     "shell.execute_reply": "2022-06-18T00:42:26.383616Z"
    },
    "papermill": {
     "duration": 0.046556,
     "end_time": "2022-06-18T00:42:26.384246",
     "exception": false,
     "start_time": "2022-06-18T00:42:26.337690",
     "status": "completed"
    },
    "tags": []
   },
   "outputs": [],
   "source": [
    "#hide\n",
    "metrics = [df_table.columns[index] for index in [1,2,5,6]]\n",
    "# s_china = df_table[df_table['Country/Region'].eq('China')][metrics].sum().add_prefix('China ')\n",
    "s_us = df_table[df_table['Country/Region'].eq('US')][metrics].sum().add_prefix('US ')\n",
    "s_eu = df_table[df_table['Continent'].eq('Europe')][metrics].sum().add_prefix('EU ')\n",
    "s_ind = df_table[df_table['Country/Region'].eq('India')][metrics].sum().add_prefix('India ')\n",
    "summary = {'updated': pd.to_datetime(dt_today), 'since': pd.to_datetime(dt_yday)}\n",
    "summary = {'updated': pd.to_datetime(dt_today), 'since': pd.to_datetime(dt_yday)}\n",
    "summary = {**summary, **df_table[metrics].sum(), **s_ind, **s_us, **s_eu}"
   ]
  },
  {
   "cell_type": "code",
   "execution_count": 18,
   "id": "engaging-syndrome",
   "metadata": {
    "execution": {
     "iopub.execute_input": "2022-06-18T00:42:26.441601Z",
     "iopub.status.busy": "2022-06-18T00:42:26.441060Z",
     "iopub.status.idle": "2022-06-18T00:42:26.459773Z",
     "shell.execute_reply": "2022-06-18T00:42:26.459308Z"
    },
    "papermill": {
     "duration": 0.049111,
     "end_time": "2022-06-18T00:42:26.459877",
     "exception": false,
     "start_time": "2022-06-18T00:42:26.410766",
     "status": "completed"
    },
    "tags": []
   },
   "outputs": [],
   "source": [
    "#hide\n",
    "dft_ct_new_cases = dft_cases.groupby(COL_REGION)[dt_cols].sum().diff(axis=1).fillna(0).astype(int)"
   ]
  },
  {
   "cell_type": "code",
   "execution_count": 19,
   "id": "neutral-assignment",
   "metadata": {
    "execution": {
     "iopub.execute_input": "2022-06-18T00:42:26.522941Z",
     "iopub.status.busy": "2022-06-18T00:42:26.522360Z",
     "iopub.status.idle": "2022-06-18T00:42:26.524826Z",
     "shell.execute_reply": "2022-06-18T00:42:26.525292Z"
    },
    "papermill": {
     "duration": 0.037574,
     "end_time": "2022-06-18T00:42:26.525405",
     "exception": false,
     "start_time": "2022-06-18T00:42:26.487831",
     "status": "completed"
    },
    "tags": []
   },
   "outputs": [],
   "source": [
    "#hide\n",
    "everydaycases = dft_ct_new_cases.cumsum(axis=1)"
   ]
  },
  {
   "cell_type": "code",
   "execution_count": 20,
   "id": "parliamentary-calgary",
   "metadata": {
    "execution": {
     "iopub.execute_input": "2022-06-18T00:42:26.583402Z",
     "iopub.status.busy": "2022-06-18T00:42:26.582868Z",
     "iopub.status.idle": "2022-06-18T00:42:27.095692Z",
     "shell.execute_reply": "2022-06-18T00:42:27.094791Z"
    },
    "papermill": {
     "duration": 0.543269,
     "end_time": "2022-06-18T00:42:27.095856",
     "exception": false,
     "start_time": "2022-06-18T00:42:26.552587",
     "status": "completed"
    },
    "tags": []
   },
   "outputs": [],
   "source": [
    "#hide\n",
    "import pandas as pd\n",
    "import matplotlib.pyplot as plt\n",
    "import matplotlib.ticker as ticker\n",
    "import matplotlib.animation as animation\n",
    "from IPython.display import HTML"
   ]
  },
  {
   "cell_type": "code",
   "execution_count": 21,
   "id": "lasting-extraction",
   "metadata": {
    "execution": {
     "iopub.execute_input": "2022-06-18T00:42:27.159531Z",
     "iopub.status.busy": "2022-06-18T00:42:27.158950Z",
     "iopub.status.idle": "2022-06-18T00:42:27.166058Z",
     "shell.execute_reply": "2022-06-18T00:42:27.166565Z"
    },
    "papermill": {
     "duration": 0.042976,
     "end_time": "2022-06-18T00:42:27.166703",
     "exception": false,
     "start_time": "2022-06-18T00:42:27.123727",
     "status": "completed"
    },
    "tags": []
   },
   "outputs": [],
   "source": [
    "#hide\n",
    "t = everydaycases.stack()"
   ]
  },
  {
   "cell_type": "code",
   "execution_count": 22,
   "id": "premier-sleeve",
   "metadata": {
    "execution": {
     "iopub.execute_input": "2022-06-18T00:42:27.223578Z",
     "iopub.status.busy": "2022-06-18T00:42:27.223019Z",
     "iopub.status.idle": "2022-06-18T00:42:27.236172Z",
     "shell.execute_reply": "2022-06-18T00:42:27.235786Z"
    },
    "papermill": {
     "duration": 0.043688,
     "end_time": "2022-06-18T00:42:27.236260",
     "exception": false,
     "start_time": "2022-06-18T00:42:27.192572",
     "status": "completed"
    },
    "tags": []
   },
   "outputs": [],
   "source": [
    "#hide\n",
    "g = t.reset_index(['Country/Region'])"
   ]
  },
  {
   "cell_type": "code",
   "execution_count": 23,
   "id": "distributed-pittsburgh",
   "metadata": {
    "execution": {
     "iopub.execute_input": "2022-06-18T00:42:27.293088Z",
     "iopub.status.busy": "2022-06-18T00:42:27.292382Z",
     "iopub.status.idle": "2022-06-18T00:42:27.295078Z",
     "shell.execute_reply": "2022-06-18T00:42:27.294688Z"
    },
    "papermill": {
     "duration": 0.032347,
     "end_time": "2022-06-18T00:42:27.295164",
     "exception": false,
     "start_time": "2022-06-18T00:42:27.262817",
     "status": "completed"
    },
    "tags": []
   },
   "outputs": [],
   "source": [
    "#hide\n",
    "g.index.name = 'date'"
   ]
  },
  {
   "cell_type": "code",
   "execution_count": 24,
   "id": "naked-donor",
   "metadata": {
    "execution": {
     "iopub.execute_input": "2022-06-18T00:42:27.353149Z",
     "iopub.status.busy": "2022-06-18T00:42:27.352604Z",
     "iopub.status.idle": "2022-06-18T00:42:27.354398Z",
     "shell.execute_reply": "2022-06-18T00:42:27.354823Z"
    },
    "papermill": {
     "duration": 0.032535,
     "end_time": "2022-06-18T00:42:27.354938",
     "exception": false,
     "start_time": "2022-06-18T00:42:27.322403",
     "status": "completed"
    },
    "tags": []
   },
   "outputs": [],
   "source": [
    "# #hide\n",
    "# g = g.reset_index(['date'])"
   ]
  },
  {
   "cell_type": "code",
   "execution_count": 25,
   "id": "incomplete-mustang",
   "metadata": {
    "execution": {
     "iopub.execute_input": "2022-06-18T00:42:27.416567Z",
     "iopub.status.busy": "2022-06-18T00:42:27.415793Z",
     "iopub.status.idle": "2022-06-18T00:42:27.417392Z",
     "shell.execute_reply": "2022-06-18T00:42:27.418106Z"
    },
    "papermill": {
     "duration": 0.033952,
     "end_time": "2022-06-18T00:42:27.418252",
     "exception": false,
     "start_time": "2022-06-18T00:42:27.384300",
     "status": "completed"
    },
    "tags": []
   },
   "outputs": [],
   "source": [
    "#hide\n",
    "# g.head()"
   ]
  },
  {
   "cell_type": "code",
   "execution_count": 26,
   "id": "specific-kruger",
   "metadata": {
    "execution": {
     "iopub.execute_input": "2022-06-18T00:42:27.481105Z",
     "iopub.status.busy": "2022-06-18T00:42:27.480319Z",
     "iopub.status.idle": "2022-06-18T00:42:27.484681Z",
     "shell.execute_reply": "2022-06-18T00:42:27.485143Z"
    },
    "papermill": {
     "duration": 0.037108,
     "end_time": "2022-06-18T00:42:27.485265",
     "exception": false,
     "start_time": "2022-06-18T00:42:27.448157",
     "status": "completed"
    },
    "tags": []
   },
   "outputs": [],
   "source": [
    "#hide\n",
    "# g.columns = ['date','country','cases']"
   ]
  },
  {
   "cell_type": "code",
   "execution_count": 27,
   "id": "tender-conversion",
   "metadata": {
    "execution": {
     "iopub.execute_input": "2022-06-18T00:42:27.545085Z",
     "iopub.status.busy": "2022-06-18T00:42:27.544553Z",
     "iopub.status.idle": "2022-06-18T00:42:27.548663Z",
     "shell.execute_reply": "2022-06-18T00:42:27.548275Z"
    },
    "papermill": {
     "duration": 0.034654,
     "end_time": "2022-06-18T00:42:27.548745",
     "exception": false,
     "start_time": "2022-06-18T00:42:27.514091",
     "status": "completed"
    },
    "tags": []
   },
   "outputs": [],
   "source": [
    "#hide\n",
    "# g['continent'] = g.country"
   ]
  },
  {
   "cell_type": "code",
   "execution_count": 28,
   "id": "substantial-wilderness",
   "metadata": {
    "execution": {
     "iopub.execute_input": "2022-06-18T00:42:27.609034Z",
     "iopub.status.busy": "2022-06-18T00:42:27.608249Z",
     "iopub.status.idle": "2022-06-18T00:42:27.610638Z",
     "shell.execute_reply": "2022-06-18T00:42:27.609868Z"
    },
    "papermill": {
     "duration": 0.033586,
     "end_time": "2022-06-18T00:42:27.610776",
     "exception": false,
     "start_time": "2022-06-18T00:42:27.577190",
     "status": "completed"
    },
    "tags": []
   },
   "outputs": [],
   "source": [
    "#hide\n",
    "# cols = list(g.columns.values)"
   ]
  },
  {
   "cell_type": "code",
   "execution_count": 29,
   "id": "solved-farming",
   "metadata": {
    "execution": {
     "iopub.execute_input": "2022-06-18T00:42:27.675300Z",
     "iopub.status.busy": "2022-06-18T00:42:27.674432Z",
     "iopub.status.idle": "2022-06-18T00:42:27.676947Z",
     "shell.execute_reply": "2022-06-18T00:42:27.676312Z"
    },
    "papermill": {
     "duration": 0.037107,
     "end_time": "2022-06-18T00:42:27.677060",
     "exception": false,
     "start_time": "2022-06-18T00:42:27.639953",
     "status": "completed"
    },
    "tags": []
   },
   "outputs": [],
   "source": [
    "#hide\n",
    "# cols.insert(0, cols.pop())"
   ]
  },
  {
   "cell_type": "code",
   "execution_count": 30,
   "id": "executed-adoption",
   "metadata": {
    "execution": {
     "iopub.execute_input": "2022-06-18T00:42:27.741022Z",
     "iopub.status.busy": "2022-06-18T00:42:27.740240Z",
     "iopub.status.idle": "2022-06-18T00:42:27.742580Z",
     "shell.execute_reply": "2022-06-18T00:42:27.741951Z"
    },
    "papermill": {
     "duration": 0.0353,
     "end_time": "2022-06-18T00:42:27.742759",
     "exception": false,
     "start_time": "2022-06-18T00:42:27.707459",
     "status": "completed"
    },
    "tags": []
   },
   "outputs": [],
   "source": [
    "#hide\n",
    "# g = g[cols]"
   ]
  },
  {
   "cell_type": "code",
   "execution_count": 31,
   "id": "subject-dublin",
   "metadata": {
    "execution": {
     "iopub.execute_input": "2022-06-18T00:42:27.805397Z",
     "iopub.status.busy": "2022-06-18T00:42:27.804627Z",
     "iopub.status.idle": "2022-06-18T00:42:27.807122Z",
     "shell.execute_reply": "2022-06-18T00:42:27.806497Z"
    },
    "papermill": {
     "duration": 0.037247,
     "end_time": "2022-06-18T00:42:27.807229",
     "exception": false,
     "start_time": "2022-06-18T00:42:27.769982",
     "status": "completed"
    },
    "tags": []
   },
   "outputs": [],
   "source": [
    "#hide\n",
    "# g['continent'] = g['continent'].map(mapping['map.continent'])"
   ]
  },
  {
   "cell_type": "code",
   "execution_count": 32,
   "id": "freelance-scout",
   "metadata": {
    "execution": {
     "iopub.execute_input": "2022-06-18T00:42:27.875949Z",
     "iopub.status.busy": "2022-06-18T00:42:27.875153Z",
     "iopub.status.idle": "2022-06-18T00:42:27.879588Z",
     "shell.execute_reply": "2022-06-18T00:42:27.879088Z"
    },
    "papermill": {
     "duration": 0.040215,
     "end_time": "2022-06-18T00:42:27.879694",
     "exception": false,
     "start_time": "2022-06-18T00:42:27.839479",
     "status": "completed"
    },
    "tags": []
   },
   "outputs": [],
   "source": [
    "#hide\n",
    "# g.head()"
   ]
  },
  {
   "cell_type": "code",
   "execution_count": 33,
   "id": "limited-engine",
   "metadata": {
    "execution": {
     "iopub.execute_input": "2022-06-18T00:42:27.942748Z",
     "iopub.status.busy": "2022-06-18T00:42:27.941932Z",
     "iopub.status.idle": "2022-06-18T00:42:27.943518Z",
     "shell.execute_reply": "2022-06-18T00:42:27.944239Z"
    },
    "papermill": {
     "duration": 0.033273,
     "end_time": "2022-06-18T00:42:27.944390",
     "exception": false,
     "start_time": "2022-06-18T00:42:27.911117",
     "status": "completed"
    },
    "tags": []
   },
   "outputs": [],
   "source": [
    "# hide\n",
    "# g['date'] = g['date'].astype('datetime64[ns]')"
   ]
  },
  {
   "cell_type": "code",
   "execution_count": 34,
   "id": "sophisticated-supervisor",
   "metadata": {
    "execution": {
     "iopub.execute_input": "2022-06-18T00:42:28.003848Z",
     "iopub.status.busy": "2022-06-18T00:42:28.003063Z",
     "iopub.status.idle": "2022-06-18T00:42:28.004677Z",
     "shell.execute_reply": "2022-06-18T00:42:28.005299Z"
    },
    "papermill": {
     "duration": 0.032254,
     "end_time": "2022-06-18T00:42:28.005443",
     "exception": false,
     "start_time": "2022-06-18T00:42:27.973189",
     "status": "completed"
    },
    "tags": []
   },
   "outputs": [],
   "source": [
    "#hide\n",
    "# g['date'] = g.date.dt.dayofyear"
   ]
  },
  {
   "cell_type": "code",
   "execution_count": 35,
   "id": "inside-dubai",
   "metadata": {
    "execution": {
     "iopub.execute_input": "2022-06-18T00:42:28.064791Z",
     "iopub.status.busy": "2022-06-18T00:42:28.064021Z",
     "iopub.status.idle": "2022-06-18T00:42:28.065634Z",
     "shell.execute_reply": "2022-06-18T00:42:28.066352Z"
    },
    "papermill": {
     "duration": 0.033394,
     "end_time": "2022-06-18T00:42:28.066499",
     "exception": false,
     "start_time": "2022-06-18T00:42:28.033105",
     "status": "completed"
    },
    "tags": []
   },
   "outputs": [],
   "source": [
    "#hide\n",
    "# g = g.rename(columns= {'continent':'group','country':'name','cases':'value'})"
   ]
  },
  {
   "cell_type": "code",
   "execution_count": 36,
   "id": "fleet-motorcycle",
   "metadata": {
    "execution": {
     "iopub.execute_input": "2022-06-18T00:42:28.123182Z",
     "iopub.status.busy": "2022-06-18T00:42:28.122698Z",
     "iopub.status.idle": "2022-06-18T00:42:28.126541Z",
     "shell.execute_reply": "2022-06-18T00:42:28.126941Z"
    },
    "papermill": {
     "duration": 0.032618,
     "end_time": "2022-06-18T00:42:28.127036",
     "exception": false,
     "start_time": "2022-06-18T00:42:28.094418",
     "status": "completed"
    },
    "tags": []
   },
   "outputs": [],
   "source": [
    "#hide\n",
    "# cols = ['name','group','day','value']"
   ]
  },
  {
   "cell_type": "code",
   "execution_count": 37,
   "id": "continued-sleeping",
   "metadata": {
    "execution": {
     "iopub.execute_input": "2022-06-18T00:42:28.186692Z",
     "iopub.status.busy": "2022-06-18T00:42:28.186100Z",
     "iopub.status.idle": "2022-06-18T00:42:28.188939Z",
     "shell.execute_reply": "2022-06-18T00:42:28.188555Z"
    },
    "papermill": {
     "duration": 0.034628,
     "end_time": "2022-06-18T00:42:28.189023",
     "exception": false,
     "start_time": "2022-06-18T00:42:28.154395",
     "status": "completed"
    },
    "tags": []
   },
   "outputs": [],
   "source": [
    "#hide\n",
    "# g.rename(columns= {'date':'day'},inplace = True)"
   ]
  },
  {
   "cell_type": "code",
   "execution_count": 38,
   "id": "major-fight",
   "metadata": {
    "execution": {
     "iopub.execute_input": "2022-06-18T00:42:28.245543Z",
     "iopub.status.busy": "2022-06-18T00:42:28.244771Z",
     "iopub.status.idle": "2022-06-18T00:42:28.246668Z",
     "shell.execute_reply": "2022-06-18T00:42:28.247276Z"
    },
    "papermill": {
     "duration": 0.0326,
     "end_time": "2022-06-18T00:42:28.247420",
     "exception": false,
     "start_time": "2022-06-18T00:42:28.214820",
     "status": "completed"
    },
    "tags": []
   },
   "outputs": [],
   "source": [
    "#hide\n",
    "# g = g[cols]"
   ]
  },
  {
   "cell_type": "code",
   "execution_count": 39,
   "id": "structured-mobile",
   "metadata": {
    "execution": {
     "iopub.execute_input": "2022-06-18T00:42:28.306789Z",
     "iopub.status.busy": "2022-06-18T00:42:28.305987Z",
     "iopub.status.idle": "2022-06-18T00:42:28.307628Z",
     "shell.execute_reply": "2022-06-18T00:42:28.308347Z"
    },
    "papermill": {
     "duration": 0.032835,
     "end_time": "2022-06-18T00:42:28.308490",
     "exception": false,
     "start_time": "2022-06-18T00:42:28.275655",
     "status": "completed"
    },
    "tags": []
   },
   "outputs": [],
   "source": [
    "# #hide\n",
    "# g = g[g.group.notna()]"
   ]
  },
  {
   "cell_type": "code",
   "execution_count": 40,
   "id": "determined-closing",
   "metadata": {
    "execution": {
     "iopub.execute_input": "2022-06-18T00:42:28.367753Z",
     "iopub.status.busy": "2022-06-18T00:42:28.366957Z",
     "iopub.status.idle": "2022-06-18T00:42:28.368664Z",
     "shell.execute_reply": "2022-06-18T00:42:28.369302Z"
    },
    "papermill": {
     "duration": 0.033356,
     "end_time": "2022-06-18T00:42:28.369452",
     "exception": false,
     "start_time": "2022-06-18T00:42:28.336096",
     "status": "completed"
    },
    "tags": []
   },
   "outputs": [],
   "source": [
    "# #hide\n",
    "# colors = dict(zip(\n",
    "#     [\"Oceania\", \"Europe\", \"Asia\", \"South America\", \"Middle East\", \"North America\", \"Africa\"],\n",
    "#     [\"#adb0ff\", \"#ffb3ff\", \"#90d595\", \"#e48381\", \"#aafbff\", \"#f7bb5f\", \"#eafb50\"]\n",
    "# ))\n",
    "# group_lk = g.set_index('name')['group'].to_dict()"
   ]
  },
  {
   "cell_type": "code",
   "execution_count": null,
   "id": "gross-drinking",
   "metadata": {
    "papermill": {
     "duration": 0.026158,
     "end_time": "2022-06-18T00:42:28.423237",
     "exception": false,
     "start_time": "2022-06-18T00:42:28.397079",
     "status": "completed"
    },
    "tags": []
   },
   "outputs": [],
   "source": []
  },
  {
   "cell_type": "code",
   "execution_count": 41,
   "id": "subject-macintosh",
   "metadata": {
    "execution": {
     "iopub.execute_input": "2022-06-18T00:42:28.481799Z",
     "iopub.status.busy": "2022-06-18T00:42:28.481325Z",
     "iopub.status.idle": "2022-06-18T00:42:28.483896Z",
     "shell.execute_reply": "2022-06-18T00:42:28.484531Z"
    },
    "papermill": {
     "duration": 0.035983,
     "end_time": "2022-06-18T00:42:28.484669",
     "exception": false,
     "start_time": "2022-06-18T00:42:28.448686",
     "status": "completed"
    },
    "tags": []
   },
   "outputs": [],
   "source": [
    "# #hide\n",
    "# fig, ax = plt.subplots(figsize=(15, 8))\n",
    "\n",
    "# def draw_barchart(current_day):\n",
    "#     dff = g[g['day'].eq(current_day)].sort_values(by='value', ascending=True).tail(10)\n",
    "#     ax.clear()\n",
    "#     ax.barh(dff['name'], dff['value'], color=[colors[group_lk[x]] for x in dff['name']])\n",
    "#     dx = dff['value'].max() / 200\n",
    "    \n",
    "#     for i, (value, name) in enumerate(zip(dff['value'], dff['name'])):\n",
    "#         ax.text(value-dx, i,     name,           size=14, weight=600, ha='right', va='bottom')\n",
    "#         ax.text(value-dx, i-.25, group_lk[name], size=10, color='#444444', ha='right', va='baseline')\n",
    "#         ax.text(value+dx, i,     f'{value:,.0f}',  size=14, ha='left',  va='center')\n",
    "#     ax.text(1, 0.4, current_day, transform=ax.transAxes, color='#777777', size=46, ha='right', weight=800)\n",
    "#     ax.text(0, 1.06, 'Population (thousands)', transform=ax.transAxes, size=12, color='#777777')\n",
    "#     ax.xaxis.set_major_formatter(ticker.StrMethodFormatter('{x:,.0f}'))\n",
    "#     ax.xaxis.set_ticks_position('top')\n",
    "#     ax.tick_params(axis='x', colors='#777777', labelsize=12)\n",
    "#     ax.set_yticks([])\n",
    "#     ax.margins(0, 0.01)\n",
    "#     ax.grid(which='major', axis='x', linestyle='-')\n",
    "#     ax.set_axisbelow(True)\n",
    "    \n",
    "#     ax.text(0, 1.15, 'Coronavirus',\n",
    "#             transform=ax.transAxes, size=24, weight=600, ha='left', va='top')\n",
    "# #     ax.text(1, 0, 'by @pratapvardhan; credit @jburnmurdoch', transform=ax.transAxes, color='#777777', ha='right',\n",
    "# #             bbox=dict(facecolor='white', alpha=0.8, edgecolor='white'))\n",
    "#     plt.box(False)"
   ]
  },
  {
   "cell_type": "code",
   "execution_count": 42,
   "id": "sexual-wages",
   "metadata": {
    "execution": {
     "iopub.execute_input": "2022-06-18T00:42:28.543017Z",
     "iopub.status.busy": "2022-06-18T00:42:28.542195Z",
     "iopub.status.idle": "2022-06-18T00:42:28.543896Z",
     "shell.execute_reply": "2022-06-18T00:42:28.544492Z"
    },
    "papermill": {
     "duration": 0.032639,
     "end_time": "2022-06-18T00:42:28.544637",
     "exception": false,
     "start_time": "2022-06-18T00:42:28.511998",
     "status": "completed"
    },
    "tags": []
   },
   "outputs": [],
   "source": [
    "# #hide_input\n",
    "# fig, ax = plt.subplots(figsize=(15, 8))\n",
    "# animator = animation.FuncAnimation(fig, draw_barchart, frames=range(g.day.values.min(), g.day.values.max()))\n",
    "# HTML(animator.to_jshtml())\n",
    "# # or use animator.to_html5_video() or animator.save() "
   ]
  },
  {
   "cell_type": "code",
   "execution_count": null,
   "id": "australian-container",
   "metadata": {
    "papermill": {
     "duration": 0.028749,
     "end_time": "2022-06-18T00:42:28.602433",
     "exception": false,
     "start_time": "2022-06-18T00:42:28.573684",
     "status": "completed"
    },
    "tags": []
   },
   "outputs": [],
   "source": []
  },
  {
   "cell_type": "code",
   "execution_count": null,
   "id": "mediterranean-pontiac",
   "metadata": {
    "papermill": {
     "duration": 0.027478,
     "end_time": "2022-06-18T00:42:28.656510",
     "exception": false,
     "start_time": "2022-06-18T00:42:28.629032",
     "status": "completed"
    },
    "tags": []
   },
   "outputs": [],
   "source": []
  },
  {
   "cell_type": "code",
   "execution_count": null,
   "id": "aging-legislature",
   "metadata": {
    "papermill": {
     "duration": 0.027207,
     "end_time": "2022-06-18T00:42:28.709614",
     "exception": false,
     "start_time": "2022-06-18T00:42:28.682407",
     "status": "completed"
    },
    "tags": []
   },
   "outputs": [],
   "source": []
  }
 ],
 "metadata": {
  "kernelspec": {
   "display_name": "Python 3",
   "language": "python",
   "name": "python3"
  },
  "language_info": {
   "codemirror_mode": {
    "name": "ipython",
    "version": 3
   },
   "file_extension": ".py",
   "mimetype": "text/x-python",
   "name": "python",
   "nbconvert_exporter": "python",
   "pygments_lexer": "ipython3",
   "version": "3.6.15"
  },
  "papermill": {
   "duration": 5.763175,
   "end_time": "2022-06-18T00:42:29.055532",
   "environment_variables": {},
   "exception": null,
   "input_path": "2020-03-21-covid19exp.ipynb",
   "output_path": "2020-03-21-covid19exp.ipynb",
   "parameters": {},
   "start_time": "2022-06-18T00:42:23.292357",
   "version": "2.0.0"
  }
 },
 "nbformat": 4,
 "nbformat_minor": 5
}