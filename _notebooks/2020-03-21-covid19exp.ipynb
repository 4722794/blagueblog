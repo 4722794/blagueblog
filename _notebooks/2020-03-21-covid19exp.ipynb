{
 "cells": [
  {
   "cell_type": "markdown",
   "id": "muslim-click",
   "metadata": {
    "papermill": {
     "duration": 0.037279,
     "end_time": "2022-11-10T00:58:42.315694",
     "exception": false,
     "start_time": "2022-11-10T00:58:42.278415",
     "status": "completed"
    },
    "tags": []
   },
   "source": [
    "# COVID-19 Case Race\n",
    "> A race chart to see rising cases around the world\n",
    "\n",
    "- author: Hargun Oberoi\n",
    "- image: images/covid-overview.png\n",
    "- hide: false\n",
    "- badges: false"
   ]
  },
  {
   "cell_type": "code",
   "execution_count": 1,
   "id": "proof-material",
   "metadata": {
    "execution": {
     "iopub.execute_input": "2022-11-10T00:58:42.390047Z",
     "iopub.status.busy": "2022-11-10T00:58:42.389352Z",
     "iopub.status.idle": "2022-11-10T00:58:42.751646Z",
     "shell.execute_reply": "2022-11-10T00:58:42.750442Z"
    },
    "papermill": {
     "duration": 0.405054,
     "end_time": "2022-11-10T00:58:42.751835",
     "exception": false,
     "start_time": "2022-11-10T00:58:42.346781",
     "status": "completed"
    },
    "tags": []
   },
   "outputs": [],
   "source": [
    "#hide\n",
    "import numpy as np\n",
    "import pandas as pd\n",
    "from jinja2 import Template\n",
    "from IPython.display import HTML"
   ]
  },
  {
   "cell_type": "code",
   "execution_count": 2,
   "id": "developed-terminology",
   "metadata": {
    "execution": {
     "iopub.execute_input": "2022-11-10T00:58:42.821081Z",
     "iopub.status.busy": "2022-11-10T00:58:42.820335Z",
     "iopub.status.idle": "2022-11-10T00:58:42.822942Z",
     "shell.execute_reply": "2022-11-10T00:58:42.822282Z"
    },
    "papermill": {
     "duration": 0.040039,
     "end_time": "2022-11-10T00:58:42.823069",
     "exception": false,
     "start_time": "2022-11-10T00:58:42.783030",
     "status": "completed"
    },
    "tags": []
   },
   "outputs": [],
   "source": [
    "#hide\n",
    "\n",
    "# FETCH\n",
    "base_url = 'https://raw.githubusercontent.com/pratapvardhan/notebooks/master/covid19/'\n",
    "paths = {\n",
    "    'mapping': base_url + 'mapping_countries.csv',\n",
    "    'overview': base_url + 'overview.tpl'\n",
    "}"
   ]
  },
  {
   "cell_type": "code",
   "execution_count": 3,
   "id": "dynamic-saver",
   "metadata": {
    "execution": {
     "iopub.execute_input": "2022-11-10T00:58:42.897466Z",
     "iopub.status.busy": "2022-11-10T00:58:42.893958Z",
     "iopub.status.idle": "2022-11-10T00:58:42.901221Z",
     "shell.execute_reply": "2022-11-10T00:58:42.900593Z"
    },
    "papermill": {
     "duration": 0.046494,
     "end_time": "2022-11-10T00:58:42.901330",
     "exception": false,
     "start_time": "2022-11-10T00:58:42.854836",
     "status": "completed"
    },
    "tags": []
   },
   "outputs": [
    {
     "data": {
      "text/plain": [
       "'https://raw.githubusercontent.com/pratapvardhan/notebooks/master/covid19/mapping_countries.csv'"
      ]
     },
     "execution_count": 3,
     "metadata": {},
     "output_type": "execute_result"
    }
   ],
   "source": [
    "#hide\n",
    "paths['mapping']"
   ]
  },
  {
   "cell_type": "code",
   "execution_count": 4,
   "id": "urban-software",
   "metadata": {
    "execution": {
     "iopub.execute_input": "2022-11-10T00:58:42.968275Z",
     "iopub.status.busy": "2022-11-10T00:58:42.967561Z",
     "iopub.status.idle": "2022-11-10T00:58:42.970240Z",
     "shell.execute_reply": "2022-11-10T00:58:42.970742Z"
    },
    "papermill": {
     "duration": 0.038927,
     "end_time": "2022-11-10T00:58:42.970878",
     "exception": false,
     "start_time": "2022-11-10T00:58:42.931951",
     "status": "completed"
    },
    "tags": []
   },
   "outputs": [],
   "source": [
    "#hide\n",
    "def get_mappings(url):\n",
    "    df = pd.read_csv(url)\n",
    "    return {\n",
    "        'df': df,\n",
    "        'replace.country': dict(df.dropna(subset=['Name']).set_index('Country')['Name']),\n",
    "        'map.continent': dict(df.set_index('Name')['Continent'])\n",
    "    }"
   ]
  },
  {
   "cell_type": "code",
   "execution_count": 5,
   "id": "intimate-machinery",
   "metadata": {
    "execution": {
     "iopub.execute_input": "2022-11-10T00:58:43.040743Z",
     "iopub.status.busy": "2022-11-10T00:58:43.040008Z",
     "iopub.status.idle": "2022-11-10T00:58:43.077547Z",
     "shell.execute_reply": "2022-11-10T00:58:43.076961Z"
    },
    "papermill": {
     "duration": 0.076222,
     "end_time": "2022-11-10T00:58:43.077694",
     "exception": false,
     "start_time": "2022-11-10T00:58:43.001472",
     "status": "completed"
    },
    "tags": []
   },
   "outputs": [],
   "source": [
    "#hide\n",
    "mapping = get_mappings(paths['mapping'])"
   ]
  },
  {
   "cell_type": "code",
   "execution_count": 6,
   "id": "certified-tactics",
   "metadata": {
    "execution": {
     "iopub.execute_input": "2022-11-10T00:58:43.149160Z",
     "iopub.status.busy": "2022-11-10T00:58:43.148355Z",
     "iopub.status.idle": "2022-11-10T00:58:43.149982Z",
     "shell.execute_reply": "2022-11-10T00:58:43.150619Z"
    },
    "papermill": {
     "duration": 0.041017,
     "end_time": "2022-11-10T00:58:43.150769",
     "exception": false,
     "start_time": "2022-11-10T00:58:43.109752",
     "status": "completed"
    },
    "tags": []
   },
   "outputs": [],
   "source": [
    "#hide\n",
    "def get_template(path):\n",
    "    from urllib.parse import urlparse\n",
    "    if bool(urlparse(path).netloc):\n",
    "        from urllib.request import urlopen\n",
    "        return urlopen(path).read().decode('utf8')\n",
    "    return open(path).read()"
   ]
  },
  {
   "cell_type": "code",
   "execution_count": 7,
   "id": "realistic-blast",
   "metadata": {
    "execution": {
     "iopub.execute_input": "2022-11-10T00:58:43.222622Z",
     "iopub.status.busy": "2022-11-10T00:58:43.221987Z",
     "iopub.status.idle": "2022-11-10T00:58:43.226031Z",
     "shell.execute_reply": "2022-11-10T00:58:43.225485Z"
    },
    "papermill": {
     "duration": 0.040858,
     "end_time": "2022-11-10T00:58:43.226138",
     "exception": false,
     "start_time": "2022-11-10T00:58:43.185280",
     "status": "completed"
    },
    "tags": []
   },
   "outputs": [],
   "source": [
    "#hide\n",
    "def get_frame(name):\n",
    "    url = (\n",
    "        'https://raw.githubusercontent.com/CSSEGISandData/COVID-19/master/csse_covid_19_data/'\n",
    "        f'csse_covid_19_time_series/time_series_covid19_{name}_global.csv')\n",
    "    df = pd.read_csv(url)\n",
    "    # rename countries\n",
    "    df['Country/Region'] = df['Country/Region'].replace(mapping['replace.country'])\n",
    "    return df"
   ]
  },
  {
   "cell_type": "code",
   "execution_count": 8,
   "id": "affiliated-characterization",
   "metadata": {
    "execution": {
     "iopub.execute_input": "2022-11-10T00:58:43.297349Z",
     "iopub.status.busy": "2022-11-10T00:58:43.296699Z",
     "iopub.status.idle": "2022-11-10T00:58:43.299119Z",
     "shell.execute_reply": "2022-11-10T00:58:43.299772Z"
    },
    "papermill": {
     "duration": 0.041152,
     "end_time": "2022-11-10T00:58:43.299924",
     "exception": false,
     "start_time": "2022-11-10T00:58:43.258772",
     "status": "completed"
    },
    "tags": []
   },
   "outputs": [],
   "source": [
    "#hide\n",
    "def get_dates(df):\n",
    "    dt_cols = df.columns[~df.columns.isin(['Province/State', 'Country/Region', 'Lat', 'Long'])]\n",
    "    LAST_DATE_I = -1\n",
    "    # sometimes last column may be empty, then go backwards\n",
    "    for i in range(-1, -len(dt_cols), -1):\n",
    "        if not df[dt_cols[i]].fillna(0).eq(0).all():\n",
    "            LAST_DATE_I = i\n",
    "            break\n",
    "    return LAST_DATE_I, dt_cols"
   ]
  },
  {
   "cell_type": "code",
   "execution_count": 9,
   "id": "recent-optimization",
   "metadata": {
    "execution": {
     "iopub.execute_input": "2022-11-10T00:58:43.372180Z",
     "iopub.status.busy": "2022-11-10T00:58:43.371481Z",
     "iopub.status.idle": "2022-11-10T00:58:43.788113Z",
     "shell.execute_reply": "2022-11-10T00:58:43.787242Z"
    },
    "papermill": {
     "duration": 0.455336,
     "end_time": "2022-11-10T00:58:43.788347",
     "exception": false,
     "start_time": "2022-11-10T00:58:43.333011",
     "status": "completed"
    },
    "tags": []
   },
   "outputs": [],
   "source": [
    "#hide\n",
    "COL_REGION = 'Country/Region'\n",
    "# Confirmed, Recovered, Deaths\n",
    "df = get_frame('confirmed')\n",
    "# dft_: timeseries, dfc_: today country agg\n",
    "dft_cases = df\n",
    "dft_deaths = get_frame('deaths')\n",
    "dft_recovered = get_frame('recovered')\n",
    "LAST_DATE_I, dt_cols = get_dates(df)"
   ]
  },
  {
   "cell_type": "code",
   "execution_count": 10,
   "id": "absolute-copper",
   "metadata": {
    "execution": {
     "iopub.execute_input": "2022-11-10T00:58:43.860278Z",
     "iopub.status.busy": "2022-11-10T00:58:43.859587Z",
     "iopub.status.idle": "2022-11-10T00:58:43.861819Z",
     "shell.execute_reply": "2022-11-10T00:58:43.862256Z"
    },
    "papermill": {
     "duration": 0.040564,
     "end_time": "2022-11-10T00:58:43.862397",
     "exception": false,
     "start_time": "2022-11-10T00:58:43.821833",
     "status": "completed"
    },
    "tags": []
   },
   "outputs": [],
   "source": [
    "#hide\n",
    "LAST_DATE_I, dt_cols = get_dates(df)\n",
    "dt_today =dt_cols[LAST_DATE_I]\n",
    "# dt_5day = dt_cols[LAST_DATE_I - 5]\n",
    "dt_yday = dt_cols[LAST_DATE_I - 1]"
   ]
  },
  {
   "cell_type": "code",
   "execution_count": 11,
   "id": "restricted-sheriff",
   "metadata": {
    "execution": {
     "iopub.execute_input": "2022-11-10T00:58:43.928463Z",
     "iopub.status.busy": "2022-11-10T00:58:43.927910Z",
     "iopub.status.idle": "2022-11-10T00:58:43.936052Z",
     "shell.execute_reply": "2022-11-10T00:58:43.936585Z"
    },
    "papermill": {
     "duration": 0.044137,
     "end_time": "2022-11-10T00:58:43.936710",
     "exception": false,
     "start_time": "2022-11-10T00:58:43.892573",
     "status": "completed"
    },
    "tags": []
   },
   "outputs": [],
   "source": [
    "#hide\n",
    "dfc_cases = dft_cases.groupby(COL_REGION)[dt_today].sum()\n",
    "dfc_deaths = dft_deaths.groupby(COL_REGION)[dt_today].sum()\n",
    "# dfp_cases = dft_cases.groupby(COL_REGION)[dt_5day].sum()\n",
    "# dfp_deaths = dft_deaths.groupby(COL_REGION)[dt_5day].sum()\n",
    "dfp_cases = dft_cases.groupby(COL_REGION)[dt_yday].sum()\n",
    "dfp_deaths = dft_deaths.groupby(COL_REGION)[dt_yday].sum()"
   ]
  },
  {
   "cell_type": "code",
   "execution_count": 12,
   "id": "deluxe-hepatitis",
   "metadata": {
    "execution": {
     "iopub.execute_input": "2022-11-10T00:58:44.003620Z",
     "iopub.status.busy": "2022-11-10T00:58:44.002968Z",
     "iopub.status.idle": "2022-11-10T00:58:44.008149Z",
     "shell.execute_reply": "2022-11-10T00:58:44.007696Z"
    },
    "papermill": {
     "duration": 0.041404,
     "end_time": "2022-11-10T00:58:44.008278",
     "exception": false,
     "start_time": "2022-11-10T00:58:43.966874",
     "status": "completed"
    },
    "tags": []
   },
   "outputs": [],
   "source": [
    "#hide\n",
    "df_table = (pd.DataFrame(dict(Cases = dfc_cases, Deaths = dfc_deaths, PCases = dfp_cases, PDeaths = dfp_deaths))\n",
    "            .sort_values(by = ['Cases','Deaths'], ascending = [False, False])\n",
    "            .reset_index())"
   ]
  },
  {
   "cell_type": "code",
   "execution_count": 13,
   "id": "educational-chancellor",
   "metadata": {
    "execution": {
     "iopub.execute_input": "2022-11-10T00:58:44.087860Z",
     "iopub.status.busy": "2022-11-10T00:58:44.087225Z",
     "iopub.status.idle": "2022-11-10T00:58:44.096633Z",
     "shell.execute_reply": "2022-11-10T00:58:44.095959Z"
    },
    "papermill": {
     "duration": 0.05817,
     "end_time": "2022-11-10T00:58:44.096757",
     "exception": false,
     "start_time": "2022-11-10T00:58:44.038587",
     "status": "completed"
    },
    "tags": []
   },
   "outputs": [
    {
     "data": {
      "text/html": [
       "<div>\n",
       "<style scoped>\n",
       "    .dataframe tbody tr th:only-of-type {\n",
       "        vertical-align: middle;\n",
       "    }\n",
       "\n",
       "    .dataframe tbody tr th {\n",
       "        vertical-align: top;\n",
       "    }\n",
       "\n",
       "    .dataframe thead th {\n",
       "        text-align: right;\n",
       "    }\n",
       "</style>\n",
       "<table border=\"1\" class=\"dataframe\">\n",
       "  <thead>\n",
       "    <tr style=\"text-align: right;\">\n",
       "      <th></th>\n",
       "      <th>Country/Region</th>\n",
       "      <th>Cases</th>\n",
       "      <th>Deaths</th>\n",
       "      <th>PCases</th>\n",
       "      <th>PDeaths</th>\n",
       "      <th>Cases (+)</th>\n",
       "      <th>Deaths (+)</th>\n",
       "      <th>Fatality Rate</th>\n",
       "      <th>Continent</th>\n",
       "    </tr>\n",
       "  </thead>\n",
       "  <tbody>\n",
       "    <tr>\n",
       "      <th>0</th>\n",
       "      <td>US</td>\n",
       "      <td>97804801</td>\n",
       "      <td>1072995</td>\n",
       "      <td>97787422</td>\n",
       "      <td>1072798</td>\n",
       "      <td>17379</td>\n",
       "      <td>197</td>\n",
       "      <td>1.10</td>\n",
       "      <td>North America</td>\n",
       "    </tr>\n",
       "    <tr>\n",
       "      <th>1</th>\n",
       "      <td>India</td>\n",
       "      <td>44660293</td>\n",
       "      <td>530509</td>\n",
       "      <td>44660293</td>\n",
       "      <td>530509</td>\n",
       "      <td>0</td>\n",
       "      <td>0</td>\n",
       "      <td>1.19</td>\n",
       "      <td>Asia</td>\n",
       "    </tr>\n",
       "    <tr>\n",
       "      <th>2</th>\n",
       "      <td>France</td>\n",
       "      <td>37232493</td>\n",
       "      <td>158586</td>\n",
       "      <td>37191901</td>\n",
       "      <td>158469</td>\n",
       "      <td>40592</td>\n",
       "      <td>117</td>\n",
       "      <td>0.43</td>\n",
       "      <td>Europe</td>\n",
       "    </tr>\n",
       "    <tr>\n",
       "      <th>3</th>\n",
       "      <td>Germany</td>\n",
       "      <td>35932654</td>\n",
       "      <td>155012</td>\n",
       "      <td>35884834</td>\n",
       "      <td>154785</td>\n",
       "      <td>47820</td>\n",
       "      <td>227</td>\n",
       "      <td>0.43</td>\n",
       "      <td>Europe</td>\n",
       "    </tr>\n",
       "    <tr>\n",
       "      <th>4</th>\n",
       "      <td>Brazil</td>\n",
       "      <td>34855492</td>\n",
       "      <td>688395</td>\n",
       "      <td>34855492</td>\n",
       "      <td>688395</td>\n",
       "      <td>0</td>\n",
       "      <td>0</td>\n",
       "      <td>1.97</td>\n",
       "      <td>South America</td>\n",
       "    </tr>\n",
       "  </tbody>\n",
       "</table>\n",
       "</div>"
      ],
      "text/plain": [
       "  Country/Region     Cases   Deaths    PCases  PDeaths  Cases (+)  Deaths (+)  \\\n",
       "0             US  97804801  1072995  97787422  1072798      17379         197   \n",
       "1          India  44660293   530509  44660293   530509          0           0   \n",
       "2         France  37232493   158586  37191901   158469      40592         117   \n",
       "3        Germany  35932654   155012  35884834   154785      47820         227   \n",
       "4         Brazil  34855492   688395  34855492   688395          0           0   \n",
       "\n",
       "   Fatality Rate      Continent  \n",
       "0           1.10  North America  \n",
       "1           1.19           Asia  \n",
       "2           0.43         Europe  \n",
       "3           0.43         Europe  \n",
       "4           1.97  South America  "
      ]
     },
     "execution_count": 13,
     "metadata": {},
     "output_type": "execute_result"
    }
   ],
   "source": [
    "#hide\n",
    "for c in 'Cases, Deaths'.split(', '):\n",
    "    df_table[f'{c} (+)'] = (df_table[c] - df_table[f'P{c}']).clip(0)\n",
    "    #Clip ça veut dire, les chiffres negatif sont interdit\n",
    "df_table['Fatality Rate'] = (100* df_table['Deaths']/ df_table['Cases']).round(2)\n",
    "df_table['Continent'] = df_table['Country/Region'].map(mapping['map.continent'])\n",
    "df_table.head(5)"
   ]
  },
  {
   "cell_type": "code",
   "execution_count": 14,
   "id": "aboriginal-bulgaria",
   "metadata": {
    "execution": {
     "iopub.execute_input": "2022-11-10T00:58:44.166763Z",
     "iopub.status.busy": "2022-11-10T00:58:44.166073Z",
     "iopub.status.idle": "2022-11-10T00:58:44.168837Z",
     "shell.execute_reply": "2022-11-10T00:58:44.168251Z"
    },
    "papermill": {
     "duration": 0.038175,
     "end_time": "2022-11-10T00:58:44.168965",
     "exception": false,
     "start_time": "2022-11-10T00:58:44.130790",
     "status": "completed"
    },
    "tags": []
   },
   "outputs": [],
   "source": [
    "#hide\n",
    "#delete problematic countries from table\n",
    "df_table = df_table[~df_table['Country/Region'].isin(['Cape Verde', 'Cruise Ship', 'Kosovo'])]"
   ]
  },
  {
   "cell_type": "code",
   "execution_count": 15,
   "id": "fantastic-effect",
   "metadata": {
    "execution": {
     "iopub.execute_input": "2022-11-10T00:58:44.243209Z",
     "iopub.status.busy": "2022-11-10T00:58:44.242496Z",
     "iopub.status.idle": "2022-11-10T00:58:44.262646Z",
     "shell.execute_reply": "2022-11-10T00:58:44.263180Z"
    },
    "papermill": {
     "duration": 0.062213,
     "end_time": "2022-11-10T00:58:44.263323",
     "exception": false,
     "start_time": "2022-11-10T00:58:44.201110",
     "status": "completed"
    },
    "tags": []
   },
   "outputs": [
    {
     "data": {
      "text/html": [
       "<div>\n",
       "<style scoped>\n",
       "    .dataframe tbody tr th:only-of-type {\n",
       "        vertical-align: middle;\n",
       "    }\n",
       "\n",
       "    .dataframe tbody tr th {\n",
       "        vertical-align: top;\n",
       "    }\n",
       "\n",
       "    .dataframe thead th {\n",
       "        text-align: right;\n",
       "    }\n",
       "</style>\n",
       "<table border=\"1\" class=\"dataframe\">\n",
       "  <thead>\n",
       "    <tr style=\"text-align: right;\">\n",
       "      <th></th>\n",
       "      <th>Country/Region</th>\n",
       "      <th>Cases</th>\n",
       "      <th>Deaths</th>\n",
       "      <th>PCases</th>\n",
       "      <th>PDeaths</th>\n",
       "      <th>Cases (+)</th>\n",
       "      <th>Deaths (+)</th>\n",
       "      <th>Fatality Rate</th>\n",
       "      <th>Continent</th>\n",
       "    </tr>\n",
       "  </thead>\n",
       "  <tbody>\n",
       "    <tr>\n",
       "      <th>0</th>\n",
       "      <td>US</td>\n",
       "      <td>97804801</td>\n",
       "      <td>1072995</td>\n",
       "      <td>97787422</td>\n",
       "      <td>1072798</td>\n",
       "      <td>17379</td>\n",
       "      <td>197</td>\n",
       "      <td>1.1</td>\n",
       "      <td>North America</td>\n",
       "    </tr>\n",
       "    <tr>\n",
       "      <th>1</th>\n",
       "      <td>India</td>\n",
       "      <td>44660293</td>\n",
       "      <td>530509</td>\n",
       "      <td>44660293</td>\n",
       "      <td>530509</td>\n",
       "      <td>0</td>\n",
       "      <td>0</td>\n",
       "      <td>1.2</td>\n",
       "      <td>Asia</td>\n",
       "    </tr>\n",
       "    <tr>\n",
       "      <th>2</th>\n",
       "      <td>France</td>\n",
       "      <td>37232493</td>\n",
       "      <td>158586</td>\n",
       "      <td>37191901</td>\n",
       "      <td>158469</td>\n",
       "      <td>40592</td>\n",
       "      <td>117</td>\n",
       "      <td>0.4</td>\n",
       "      <td>Europe</td>\n",
       "    </tr>\n",
       "    <tr>\n",
       "      <th>3</th>\n",
       "      <td>Germany</td>\n",
       "      <td>35932654</td>\n",
       "      <td>155012</td>\n",
       "      <td>35884834</td>\n",
       "      <td>154785</td>\n",
       "      <td>47820</td>\n",
       "      <td>227</td>\n",
       "      <td>0.4</td>\n",
       "      <td>Europe</td>\n",
       "    </tr>\n",
       "    <tr>\n",
       "      <th>4</th>\n",
       "      <td>Brazil</td>\n",
       "      <td>34855492</td>\n",
       "      <td>688395</td>\n",
       "      <td>34855492</td>\n",
       "      <td>688395</td>\n",
       "      <td>0</td>\n",
       "      <td>0</td>\n",
       "      <td>2.0</td>\n",
       "      <td>South America</td>\n",
       "    </tr>\n",
       "  </tbody>\n",
       "</table>\n",
       "</div>"
      ],
      "text/plain": [
       "  Country/Region     Cases   Deaths    PCases  PDeaths  Cases (+)  Deaths (+)  \\\n",
       "0             US  97804801  1072995  97787422  1072798      17379         197   \n",
       "1          India  44660293   530509  44660293   530509          0           0   \n",
       "2         France  37232493   158586  37191901   158469      40592         117   \n",
       "3        Germany  35932654   155012  35884834   154785      47820         227   \n",
       "4         Brazil  34855492   688395  34855492   688395          0           0   \n",
       "\n",
       "   Fatality Rate      Continent  \n",
       "0            1.1  North America  \n",
       "1            1.2           Asia  \n",
       "2            0.4         Europe  \n",
       "3            0.4         Europe  \n",
       "4            2.0  South America  "
      ]
     },
     "execution_count": 15,
     "metadata": {},
     "output_type": "execute_result"
    }
   ],
   "source": [
    "#hide\n",
    "df_table = (pd.DataFrame(dict(Cases=dfc_cases, Deaths=dfc_deaths, PCases=dfp_cases, PDeaths=dfp_deaths))\n",
    "             .sort_values(by=['Cases', 'Deaths'], ascending=[False, False])\n",
    "             .reset_index())\n",
    "df_table.rename(columns={'index': 'Country/Region'}, inplace=True)\n",
    "for c in 'Cases, Deaths'.split(', '):\n",
    "    df_table[f'{c} (+)'] = (df_table[c] - df_table[f'P{c}']).clip(0)  # DATA BUG\n",
    "df_table['Fatality Rate'] = (100 * df_table['Deaths'] / df_table['Cases']).round(1)\n",
    "df_table['Continent'] = df_table['Country/Region'].map(mapping['map.continent'])\n",
    "df_table.head(5)"
   ]
  },
  {
   "cell_type": "code",
   "execution_count": 16,
   "id": "fewer-occasion",
   "metadata": {
    "execution": {
     "iopub.execute_input": "2022-11-10T00:58:44.335523Z",
     "iopub.status.busy": "2022-11-10T00:58:44.334863Z",
     "iopub.status.idle": "2022-11-10T00:58:44.337296Z",
     "shell.execute_reply": "2022-11-10T00:58:44.337820Z"
    },
    "papermill": {
     "duration": 0.042295,
     "end_time": "2022-11-10T00:58:44.337969",
     "exception": false,
     "start_time": "2022-11-10T00:58:44.295674",
     "status": "completed"
    },
    "tags": []
   },
   "outputs": [],
   "source": [
    "#hide\n",
    "#delete problematic countries from table\n",
    "df_table = df_table[~df_table['Country/Region'].isin(['Cape Verde', 'Cruise Ship', 'Kosovo'])]"
   ]
  },
  {
   "cell_type": "code",
   "execution_count": 17,
   "id": "related-center",
   "metadata": {
    "execution": {
     "iopub.execute_input": "2022-11-10T00:58:44.412913Z",
     "iopub.status.busy": "2022-11-10T00:58:44.412245Z",
     "iopub.status.idle": "2022-11-10T00:58:44.426427Z",
     "shell.execute_reply": "2022-11-10T00:58:44.425867Z"
    },
    "papermill": {
     "duration": 0.05555,
     "end_time": "2022-11-10T00:58:44.426572",
     "exception": false,
     "start_time": "2022-11-10T00:58:44.371022",
     "status": "completed"
    },
    "tags": []
   },
   "outputs": [],
   "source": [
    "#hide\n",
    "metrics = [df_table.columns[index] for index in [1,2,5,6]]\n",
    "# s_china = df_table[df_table['Country/Region'].eq('China')][metrics].sum().add_prefix('China ')\n",
    "s_us = df_table[df_table['Country/Region'].eq('US')][metrics].sum().add_prefix('US ')\n",
    "s_eu = df_table[df_table['Continent'].eq('Europe')][metrics].sum().add_prefix('EU ')\n",
    "s_ind = df_table[df_table['Country/Region'].eq('India')][metrics].sum().add_prefix('India ')\n",
    "summary = {'updated': pd.to_datetime(dt_today), 'since': pd.to_datetime(dt_yday)}\n",
    "summary = {'updated': pd.to_datetime(dt_today), 'since': pd.to_datetime(dt_yday)}\n",
    "summary = {**summary, **df_table[metrics].sum(), **s_ind, **s_us, **s_eu}"
   ]
  },
  {
   "cell_type": "code",
   "execution_count": 18,
   "id": "engaging-syndrome",
   "metadata": {
    "execution": {
     "iopub.execute_input": "2022-11-10T00:58:44.497793Z",
     "iopub.status.busy": "2022-11-10T00:58:44.497136Z",
     "iopub.status.idle": "2022-11-10T00:58:44.520669Z",
     "shell.execute_reply": "2022-11-10T00:58:44.520027Z"
    },
    "papermill": {
     "duration": 0.061267,
     "end_time": "2022-11-10T00:58:44.520810",
     "exception": false,
     "start_time": "2022-11-10T00:58:44.459543",
     "status": "completed"
    },
    "tags": []
   },
   "outputs": [],
   "source": [
    "#hide\n",
    "dft_ct_new_cases = dft_cases.groupby(COL_REGION)[dt_cols].sum().diff(axis=1).fillna(0).astype(int)"
   ]
  },
  {
   "cell_type": "code",
   "execution_count": 19,
   "id": "neutral-assignment",
   "metadata": {
    "execution": {
     "iopub.execute_input": "2022-11-10T00:58:44.594886Z",
     "iopub.status.busy": "2022-11-10T00:58:44.594208Z",
     "iopub.status.idle": "2022-11-10T00:58:44.597002Z",
     "shell.execute_reply": "2022-11-10T00:58:44.596340Z"
    },
    "papermill": {
     "duration": 0.043242,
     "end_time": "2022-11-10T00:58:44.597135",
     "exception": false,
     "start_time": "2022-11-10T00:58:44.553893",
     "status": "completed"
    },
    "tags": []
   },
   "outputs": [],
   "source": [
    "#hide\n",
    "everydaycases = dft_ct_new_cases.cumsum(axis=1)"
   ]
  },
  {
   "cell_type": "code",
   "execution_count": 20,
   "id": "parliamentary-calgary",
   "metadata": {
    "execution": {
     "iopub.execute_input": "2022-11-10T00:58:44.670500Z",
     "iopub.status.busy": "2022-11-10T00:58:44.669804Z",
     "iopub.status.idle": "2022-11-10T00:58:45.283624Z",
     "shell.execute_reply": "2022-11-10T00:58:45.282551Z"
    },
    "papermill": {
     "duration": 0.652612,
     "end_time": "2022-11-10T00:58:45.283780",
     "exception": false,
     "start_time": "2022-11-10T00:58:44.631168",
     "status": "completed"
    },
    "tags": []
   },
   "outputs": [],
   "source": [
    "#hide\n",
    "import pandas as pd\n",
    "import matplotlib.pyplot as plt\n",
    "import matplotlib.ticker as ticker\n",
    "import matplotlib.animation as animation\n",
    "from IPython.display import HTML"
   ]
  },
  {
   "cell_type": "code",
   "execution_count": 21,
   "id": "lasting-extraction",
   "metadata": {
    "execution": {
     "iopub.execute_input": "2022-11-10T00:58:45.360756Z",
     "iopub.status.busy": "2022-11-10T00:58:45.360059Z",
     "iopub.status.idle": "2022-11-10T00:58:45.367772Z",
     "shell.execute_reply": "2022-11-10T00:58:45.368359Z"
    },
    "papermill": {
     "duration": 0.050338,
     "end_time": "2022-11-10T00:58:45.368522",
     "exception": false,
     "start_time": "2022-11-10T00:58:45.318184",
     "status": "completed"
    },
    "tags": []
   },
   "outputs": [],
   "source": [
    "#hide\n",
    "t = everydaycases.stack()"
   ]
  },
  {
   "cell_type": "code",
   "execution_count": 22,
   "id": "premier-sleeve",
   "metadata": {
    "execution": {
     "iopub.execute_input": "2022-11-10T00:58:45.444262Z",
     "iopub.status.busy": "2022-11-10T00:58:45.443521Z",
     "iopub.status.idle": "2022-11-10T00:58:45.458653Z",
     "shell.execute_reply": "2022-11-10T00:58:45.458089Z"
    },
    "papermill": {
     "duration": 0.054039,
     "end_time": "2022-11-10T00:58:45.458795",
     "exception": false,
     "start_time": "2022-11-10T00:58:45.404756",
     "status": "completed"
    },
    "tags": []
   },
   "outputs": [],
   "source": [
    "#hide\n",
    "g = t.reset_index(['Country/Region'])"
   ]
  },
  {
   "cell_type": "code",
   "execution_count": 23,
   "id": "distributed-pittsburgh",
   "metadata": {
    "execution": {
     "iopub.execute_input": "2022-11-10T00:58:45.531939Z",
     "iopub.status.busy": "2022-11-10T00:58:45.531106Z",
     "iopub.status.idle": "2022-11-10T00:58:45.533190Z",
     "shell.execute_reply": "2022-11-10T00:58:45.533807Z"
    },
    "papermill": {
     "duration": 0.041408,
     "end_time": "2022-11-10T00:58:45.533976",
     "exception": false,
     "start_time": "2022-11-10T00:58:45.492568",
     "status": "completed"
    },
    "tags": []
   },
   "outputs": [],
   "source": [
    "#hide\n",
    "g.index.name = 'date'"
   ]
  },
  {
   "cell_type": "code",
   "execution_count": 24,
   "id": "naked-donor",
   "metadata": {
    "execution": {
     "iopub.execute_input": "2022-11-10T00:58:45.607184Z",
     "iopub.status.busy": "2022-11-10T00:58:45.606346Z",
     "iopub.status.idle": "2022-11-10T00:58:45.610817Z",
     "shell.execute_reply": "2022-11-10T00:58:45.611316Z"
    },
    "papermill": {
     "duration": 0.042887,
     "end_time": "2022-11-10T00:58:45.611469",
     "exception": false,
     "start_time": "2022-11-10T00:58:45.568582",
     "status": "completed"
    },
    "tags": []
   },
   "outputs": [],
   "source": [
    "# #hide\n",
    "# g = g.reset_index(['date'])"
   ]
  },
  {
   "cell_type": "code",
   "execution_count": 25,
   "id": "incomplete-mustang",
   "metadata": {
    "execution": {
     "iopub.execute_input": "2022-11-10T00:58:45.680498Z",
     "iopub.status.busy": "2022-11-10T00:58:45.679780Z",
     "iopub.status.idle": "2022-11-10T00:58:45.682310Z",
     "shell.execute_reply": "2022-11-10T00:58:45.681809Z"
    },
    "papermill": {
     "duration": 0.038393,
     "end_time": "2022-11-10T00:58:45.682419",
     "exception": false,
     "start_time": "2022-11-10T00:58:45.644026",
     "status": "completed"
    },
    "tags": []
   },
   "outputs": [],
   "source": [
    "#hide\n",
    "# g.head()"
   ]
  },
  {
   "cell_type": "code",
   "execution_count": 26,
   "id": "specific-kruger",
   "metadata": {
    "execution": {
     "iopub.execute_input": "2022-11-10T00:58:45.749835Z",
     "iopub.status.busy": "2022-11-10T00:58:45.749207Z",
     "iopub.status.idle": "2022-11-10T00:58:45.753514Z",
     "shell.execute_reply": "2022-11-10T00:58:45.752904Z"
    },
    "papermill": {
     "duration": 0.038401,
     "end_time": "2022-11-10T00:58:45.753633",
     "exception": false,
     "start_time": "2022-11-10T00:58:45.715232",
     "status": "completed"
    },
    "tags": []
   },
   "outputs": [],
   "source": [
    "#hide\n",
    "# g.columns = ['date','country','cases']"
   ]
  },
  {
   "cell_type": "code",
   "execution_count": 27,
   "id": "tender-conversion",
   "metadata": {
    "execution": {
     "iopub.execute_input": "2022-11-10T00:58:45.820556Z",
     "iopub.status.busy": "2022-11-10T00:58:45.819726Z",
     "iopub.status.idle": "2022-11-10T00:58:45.823547Z",
     "shell.execute_reply": "2022-11-10T00:58:45.823075Z"
    },
    "papermill": {
     "duration": 0.039165,
     "end_time": "2022-11-10T00:58:45.823674",
     "exception": false,
     "start_time": "2022-11-10T00:58:45.784509",
     "status": "completed"
    },
    "tags": []
   },
   "outputs": [],
   "source": [
    "#hide\n",
    "# g['continent'] = g.country"
   ]
  },
  {
   "cell_type": "code",
   "execution_count": 28,
   "id": "substantial-wilderness",
   "metadata": {
    "execution": {
     "iopub.execute_input": "2022-11-10T00:58:45.893050Z",
     "iopub.status.busy": "2022-11-10T00:58:45.892180Z",
     "iopub.status.idle": "2022-11-10T00:58:45.895167Z",
     "shell.execute_reply": "2022-11-10T00:58:45.895572Z"
    },
    "papermill": {
     "duration": 0.039123,
     "end_time": "2022-11-10T00:58:45.895694",
     "exception": false,
     "start_time": "2022-11-10T00:58:45.856571",
     "status": "completed"
    },
    "tags": []
   },
   "outputs": [],
   "source": [
    "#hide\n",
    "# cols = list(g.columns.values)"
   ]
  },
  {
   "cell_type": "code",
   "execution_count": 29,
   "id": "solved-farming",
   "metadata": {
    "execution": {
     "iopub.execute_input": "2022-11-10T00:58:45.964053Z",
     "iopub.status.busy": "2022-11-10T00:58:45.963244Z",
     "iopub.status.idle": "2022-11-10T00:58:45.967539Z",
     "shell.execute_reply": "2022-11-10T00:58:45.966923Z"
    },
    "papermill": {
     "duration": 0.039795,
     "end_time": "2022-11-10T00:58:45.967654",
     "exception": false,
     "start_time": "2022-11-10T00:58:45.927859",
     "status": "completed"
    },
    "tags": []
   },
   "outputs": [],
   "source": [
    "#hide\n",
    "# cols.insert(0, cols.pop())"
   ]
  },
  {
   "cell_type": "code",
   "execution_count": 30,
   "id": "executed-adoption",
   "metadata": {
    "execution": {
     "iopub.execute_input": "2022-11-10T00:58:46.038256Z",
     "iopub.status.busy": "2022-11-10T00:58:46.037597Z",
     "iopub.status.idle": "2022-11-10T00:58:46.040169Z",
     "shell.execute_reply": "2022-11-10T00:58:46.040765Z"
    },
    "papermill": {
     "duration": 0.040057,
     "end_time": "2022-11-10T00:58:46.040899",
     "exception": false,
     "start_time": "2022-11-10T00:58:46.000842",
     "status": "completed"
    },
    "tags": []
   },
   "outputs": [],
   "source": [
    "#hide\n",
    "# g = g[cols]"
   ]
  },
  {
   "cell_type": "code",
   "execution_count": 31,
   "id": "subject-dublin",
   "metadata": {
    "execution": {
     "iopub.execute_input": "2022-11-10T00:58:46.112040Z",
     "iopub.status.busy": "2022-11-10T00:58:46.111197Z",
     "iopub.status.idle": "2022-11-10T00:58:46.113217Z",
     "shell.execute_reply": "2022-11-10T00:58:46.113828Z"
    },
    "papermill": {
     "duration": 0.039937,
     "end_time": "2022-11-10T00:58:46.113992",
     "exception": false,
     "start_time": "2022-11-10T00:58:46.074055",
     "status": "completed"
    },
    "tags": []
   },
   "outputs": [],
   "source": [
    "#hide\n",
    "# g['continent'] = g['continent'].map(mapping['map.continent'])"
   ]
  },
  {
   "cell_type": "code",
   "execution_count": 32,
   "id": "freelance-scout",
   "metadata": {
    "execution": {
     "iopub.execute_input": "2022-11-10T00:58:46.187140Z",
     "iopub.status.busy": "2022-11-10T00:58:46.186581Z",
     "iopub.status.idle": "2022-11-10T00:58:46.189763Z",
     "shell.execute_reply": "2022-11-10T00:58:46.190252Z"
    },
    "papermill": {
     "duration": 0.040505,
     "end_time": "2022-11-10T00:58:46.190388",
     "exception": false,
     "start_time": "2022-11-10T00:58:46.149883",
     "status": "completed"
    },
    "tags": []
   },
   "outputs": [],
   "source": [
    "#hide\n",
    "# g.head()"
   ]
  },
  {
   "cell_type": "code",
   "execution_count": 33,
   "id": "limited-engine",
   "metadata": {
    "execution": {
     "iopub.execute_input": "2022-11-10T00:58:46.258518Z",
     "iopub.status.busy": "2022-11-10T00:58:46.257828Z",
     "iopub.status.idle": "2022-11-10T00:58:46.262042Z",
     "shell.execute_reply": "2022-11-10T00:58:46.262446Z"
    },
    "papermill": {
     "duration": 0.040792,
     "end_time": "2022-11-10T00:58:46.262570",
     "exception": false,
     "start_time": "2022-11-10T00:58:46.221778",
     "status": "completed"
    },
    "tags": []
   },
   "outputs": [],
   "source": [
    "# hide\n",
    "# g['date'] = g['date'].astype('datetime64[ns]')"
   ]
  },
  {
   "cell_type": "code",
   "execution_count": 34,
   "id": "sophisticated-supervisor",
   "metadata": {
    "execution": {
     "iopub.execute_input": "2022-11-10T00:58:46.334813Z",
     "iopub.status.busy": "2022-11-10T00:58:46.333990Z",
     "iopub.status.idle": "2022-11-10T00:58:46.336449Z",
     "shell.execute_reply": "2022-11-10T00:58:46.335772Z"
    },
    "papermill": {
     "duration": 0.040208,
     "end_time": "2022-11-10T00:58:46.336598",
     "exception": false,
     "start_time": "2022-11-10T00:58:46.296390",
     "status": "completed"
    },
    "tags": []
   },
   "outputs": [],
   "source": [
    "#hide\n",
    "# g['date'] = g.date.dt.dayofyear"
   ]
  },
  {
   "cell_type": "code",
   "execution_count": 35,
   "id": "inside-dubai",
   "metadata": {
    "execution": {
     "iopub.execute_input": "2022-11-10T00:58:46.414909Z",
     "iopub.status.busy": "2022-11-10T00:58:46.414181Z",
     "iopub.status.idle": "2022-11-10T00:58:46.417055Z",
     "shell.execute_reply": "2022-11-10T00:58:46.416504Z"
    },
    "papermill": {
     "duration": 0.042231,
     "end_time": "2022-11-10T00:58:46.417164",
     "exception": false,
     "start_time": "2022-11-10T00:58:46.374933",
     "status": "completed"
    },
    "tags": []
   },
   "outputs": [],
   "source": [
    "#hide\n",
    "# g = g.rename(columns= {'continent':'group','country':'name','cases':'value'})"
   ]
  },
  {
   "cell_type": "code",
   "execution_count": 36,
   "id": "fleet-motorcycle",
   "metadata": {
    "execution": {
     "iopub.execute_input": "2022-11-10T00:58:46.486081Z",
     "iopub.status.busy": "2022-11-10T00:58:46.485284Z",
     "iopub.status.idle": "2022-11-10T00:58:46.489766Z",
     "shell.execute_reply": "2022-11-10T00:58:46.490384Z"
    },
    "papermill": {
     "duration": 0.041239,
     "end_time": "2022-11-10T00:58:46.490549",
     "exception": false,
     "start_time": "2022-11-10T00:58:46.449310",
     "status": "completed"
    },
    "tags": []
   },
   "outputs": [],
   "source": [
    "#hide\n",
    "# cols = ['name','group','day','value']"
   ]
  },
  {
   "cell_type": "code",
   "execution_count": 37,
   "id": "continued-sleeping",
   "metadata": {
    "execution": {
     "iopub.execute_input": "2022-11-10T00:58:46.562266Z",
     "iopub.status.busy": "2022-11-10T00:58:46.561457Z",
     "iopub.status.idle": "2022-11-10T00:58:46.563167Z",
     "shell.execute_reply": "2022-11-10T00:58:46.563880Z"
    },
    "papermill": {
     "duration": 0.039236,
     "end_time": "2022-11-10T00:58:46.564025",
     "exception": false,
     "start_time": "2022-11-10T00:58:46.524789",
     "status": "completed"
    },
    "tags": []
   },
   "outputs": [],
   "source": [
    "#hide\n",
    "# g.rename(columns= {'date':'day'},inplace = True)"
   ]
  },
  {
   "cell_type": "code",
   "execution_count": 38,
   "id": "major-fight",
   "metadata": {
    "execution": {
     "iopub.execute_input": "2022-11-10T00:58:46.631927Z",
     "iopub.status.busy": "2022-11-10T00:58:46.631099Z",
     "iopub.status.idle": "2022-11-10T00:58:46.632826Z",
     "shell.execute_reply": "2022-11-10T00:58:46.633555Z"
    },
    "papermill": {
     "duration": 0.036603,
     "end_time": "2022-11-10T00:58:46.633718",
     "exception": false,
     "start_time": "2022-11-10T00:58:46.597115",
     "status": "completed"
    },
    "tags": []
   },
   "outputs": [],
   "source": [
    "#hide\n",
    "# g = g[cols]"
   ]
  },
  {
   "cell_type": "code",
   "execution_count": 39,
   "id": "structured-mobile",
   "metadata": {
    "execution": {
     "iopub.execute_input": "2022-11-10T00:58:46.703030Z",
     "iopub.status.busy": "2022-11-10T00:58:46.702233Z",
     "iopub.status.idle": "2022-11-10T00:58:46.704048Z",
     "shell.execute_reply": "2022-11-10T00:58:46.704817Z"
    },
    "papermill": {
     "duration": 0.03779,
     "end_time": "2022-11-10T00:58:46.704984",
     "exception": false,
     "start_time": "2022-11-10T00:58:46.667194",
     "status": "completed"
    },
    "tags": []
   },
   "outputs": [],
   "source": [
    "# #hide\n",
    "# g = g[g.group.notna()]"
   ]
  },
  {
   "cell_type": "code",
   "execution_count": 40,
   "id": "determined-closing",
   "metadata": {
    "execution": {
     "iopub.execute_input": "2022-11-10T00:58:46.771913Z",
     "iopub.status.busy": "2022-11-10T00:58:46.771108Z",
     "iopub.status.idle": "2022-11-10T00:58:46.776356Z",
     "shell.execute_reply": "2022-11-10T00:58:46.775785Z"
    },
    "papermill": {
     "duration": 0.040278,
     "end_time": "2022-11-10T00:58:46.776490",
     "exception": false,
     "start_time": "2022-11-10T00:58:46.736212",
     "status": "completed"
    },
    "tags": []
   },
   "outputs": [],
   "source": [
    "# #hide\n",
    "# colors = dict(zip(\n",
    "#     [\"Oceania\", \"Europe\", \"Asia\", \"South America\", \"Middle East\", \"North America\", \"Africa\"],\n",
    "#     [\"#adb0ff\", \"#ffb3ff\", \"#90d595\", \"#e48381\", \"#aafbff\", \"#f7bb5f\", \"#eafb50\"]\n",
    "# ))\n",
    "# group_lk = g.set_index('name')['group'].to_dict()"
   ]
  },
  {
   "cell_type": "code",
   "execution_count": null,
   "id": "gross-drinking",
   "metadata": {
    "papermill": {
     "duration": 0.031884,
     "end_time": "2022-11-10T00:58:46.841553",
     "exception": false,
     "start_time": "2022-11-10T00:58:46.809669",
     "status": "completed"
    },
    "tags": []
   },
   "outputs": [],
   "source": []
  },
  {
   "cell_type": "code",
   "execution_count": 41,
   "id": "subject-macintosh",
   "metadata": {
    "execution": {
     "iopub.execute_input": "2022-11-10T00:58:46.913554Z",
     "iopub.status.busy": "2022-11-10T00:58:46.912731Z",
     "iopub.status.idle": "2022-11-10T00:58:46.915101Z",
     "shell.execute_reply": "2022-11-10T00:58:46.914376Z"
    },
    "papermill": {
     "duration": 0.040034,
     "end_time": "2022-11-10T00:58:46.915235",
     "exception": false,
     "start_time": "2022-11-10T00:58:46.875201",
     "status": "completed"
    },
    "tags": []
   },
   "outputs": [],
   "source": [
    "# #hide\n",
    "# fig, ax = plt.subplots(figsize=(15, 8))\n",
    "\n",
    "# def draw_barchart(current_day):\n",
    "#     dff = g[g['day'].eq(current_day)].sort_values(by='value', ascending=True).tail(10)\n",
    "#     ax.clear()\n",
    "#     ax.barh(dff['name'], dff['value'], color=[colors[group_lk[x]] for x in dff['name']])\n",
    "#     dx = dff['value'].max() / 200\n",
    "    \n",
    "#     for i, (value, name) in enumerate(zip(dff['value'], dff['name'])):\n",
    "#         ax.text(value-dx, i,     name,           size=14, weight=600, ha='right', va='bottom')\n",
    "#         ax.text(value-dx, i-.25, group_lk[name], size=10, color='#444444', ha='right', va='baseline')\n",
    "#         ax.text(value+dx, i,     f'{value:,.0f}',  size=14, ha='left',  va='center')\n",
    "#     ax.text(1, 0.4, current_day, transform=ax.transAxes, color='#777777', size=46, ha='right', weight=800)\n",
    "#     ax.text(0, 1.06, 'Population (thousands)', transform=ax.transAxes, size=12, color='#777777')\n",
    "#     ax.xaxis.set_major_formatter(ticker.StrMethodFormatter('{x:,.0f}'))\n",
    "#     ax.xaxis.set_ticks_position('top')\n",
    "#     ax.tick_params(axis='x', colors='#777777', labelsize=12)\n",
    "#     ax.set_yticks([])\n",
    "#     ax.margins(0, 0.01)\n",
    "#     ax.grid(which='major', axis='x', linestyle='-')\n",
    "#     ax.set_axisbelow(True)\n",
    "    \n",
    "#     ax.text(0, 1.15, 'Coronavirus',\n",
    "#             transform=ax.transAxes, size=24, weight=600, ha='left', va='top')\n",
    "# #     ax.text(1, 0, 'by @pratapvardhan; credit @jburnmurdoch', transform=ax.transAxes, color='#777777', ha='right',\n",
    "# #             bbox=dict(facecolor='white', alpha=0.8, edgecolor='white'))\n",
    "#     plt.box(False)"
   ]
  },
  {
   "cell_type": "code",
   "execution_count": 42,
   "id": "sexual-wages",
   "metadata": {
    "execution": {
     "iopub.execute_input": "2022-11-10T00:58:46.983980Z",
     "iopub.status.busy": "2022-11-10T00:58:46.983179Z",
     "iopub.status.idle": "2022-11-10T00:58:46.987892Z",
     "shell.execute_reply": "2022-11-10T00:58:46.987353Z"
    },
    "papermill": {
     "duration": 0.040188,
     "end_time": "2022-11-10T00:58:46.988014",
     "exception": false,
     "start_time": "2022-11-10T00:58:46.947826",
     "status": "completed"
    },
    "tags": []
   },
   "outputs": [],
   "source": [
    "# #hide_input\n",
    "# fig, ax = plt.subplots(figsize=(15, 8))\n",
    "# animator = animation.FuncAnimation(fig, draw_barchart, frames=range(g.day.values.min(), g.day.values.max()))\n",
    "# HTML(animator.to_jshtml())\n",
    "# # or use animator.to_html5_video() or animator.save() "
   ]
  },
  {
   "cell_type": "code",
   "execution_count": null,
   "id": "australian-container",
   "metadata": {
    "papermill": {
     "duration": 0.038676,
     "end_time": "2022-11-10T00:58:47.057673",
     "exception": false,
     "start_time": "2022-11-10T00:58:47.018997",
     "status": "completed"
    },
    "tags": []
   },
   "outputs": [],
   "source": []
  },
  {
   "cell_type": "code",
   "execution_count": null,
   "id": "mediterranean-pontiac",
   "metadata": {
    "papermill": {
     "duration": 0.036434,
     "end_time": "2022-11-10T00:58:47.130595",
     "exception": false,
     "start_time": "2022-11-10T00:58:47.094161",
     "status": "completed"
    },
    "tags": []
   },
   "outputs": [],
   "source": []
  },
  {
   "cell_type": "code",
   "execution_count": null,
   "id": "aging-legislature",
   "metadata": {
    "papermill": {
     "duration": 0.031476,
     "end_time": "2022-11-10T00:58:47.195972",
     "exception": false,
     "start_time": "2022-11-10T00:58:47.164496",
     "status": "completed"
    },
    "tags": []
   },
   "outputs": [],
   "source": []
  }
 ],
 "metadata": {
  "kernelspec": {
   "display_name": "Python 3",
   "language": "python",
   "name": "python3"
  },
  "language_info": {
   "codemirror_mode": {
    "name": "ipython",
    "version": 3
   },
   "file_extension": ".py",
   "mimetype": "text/x-python",
   "name": "python",
   "nbconvert_exporter": "python",
   "pygments_lexer": "ipython3",
   "version": "3.6.15"
  },
  "papermill": {
   "duration": 6.647543,
   "end_time": "2022-11-10T00:58:47.651223",
   "environment_variables": {},
   "exception": null,
   "input_path": "2020-03-21-covid19exp.ipynb",
   "output_path": "2020-03-21-covid19exp.ipynb",
   "parameters": {},
   "start_time": "2022-11-10T00:58:41.003680",
   "version": "2.0.0"
  }
 },
 "nbformat": 4,
 "nbformat_minor": 5
}