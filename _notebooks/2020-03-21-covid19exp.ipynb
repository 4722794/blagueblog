{
 "cells": [
  {
   "cell_type": "markdown",
   "id": "muslim-click",
   "metadata": {
    "papermill": {
     "duration": 0.034544,
     "end_time": "2021-02-04T12:18:27.576041",
     "exception": false,
     "start_time": "2021-02-04T12:18:27.541497",
     "status": "completed"
    },
    "tags": []
   },
   "source": [
    "# COVID-19 Case Race\n",
    "> A race chart to see rising cases around the world\n",
    "\n",
    "- author: Hargun Oberoi\n",
    "- image: images/covid-overview.png\n",
    "- hide: false\n",
    "- badges: false"
   ]
  },
  {
   "cell_type": "code",
   "execution_count": 1,
   "id": "proof-material",
   "metadata": {
    "execution": {
     "iopub.execute_input": "2021-02-04T12:18:27.646589Z",
     "iopub.status.busy": "2021-02-04T12:18:27.646045Z",
     "iopub.status.idle": "2021-02-04T12:18:27.943821Z",
     "shell.execute_reply": "2021-02-04T12:18:27.943160Z"
    },
    "papermill": {
     "duration": 0.338354,
     "end_time": "2021-02-04T12:18:27.944094",
     "exception": false,
     "start_time": "2021-02-04T12:18:27.605740",
     "status": "completed"
    },
    "tags": []
   },
   "outputs": [],
   "source": [
    "#hide\n",
    "import numpy as np\n",
    "import pandas as pd\n",
    "from jinja2 import Template\n",
    "from IPython.display import HTML"
   ]
  },
  {
   "cell_type": "code",
   "execution_count": 2,
   "id": "developed-terminology",
   "metadata": {
    "execution": {
     "iopub.execute_input": "2021-02-04T12:18:28.010870Z",
     "iopub.status.busy": "2021-02-04T12:18:28.010173Z",
     "iopub.status.idle": "2021-02-04T12:18:28.012587Z",
     "shell.execute_reply": "2021-02-04T12:18:28.012132Z"
    },
    "papermill": {
     "duration": 0.03821,
     "end_time": "2021-02-04T12:18:28.012717",
     "exception": false,
     "start_time": "2021-02-04T12:18:27.974507",
     "status": "completed"
    },
    "tags": []
   },
   "outputs": [],
   "source": [
    "#hide\n",
    "\n",
    "# FETCH\n",
    "base_url = 'https://raw.githubusercontent.com/pratapvardhan/notebooks/master/covid19/'\n",
    "paths = {\n",
    "    'mapping': base_url + 'mapping_countries.csv',\n",
    "    'overview': base_url + 'overview.tpl'\n",
    "}"
   ]
  },
  {
   "cell_type": "code",
   "execution_count": 3,
   "id": "dynamic-saver",
   "metadata": {
    "execution": {
     "iopub.execute_input": "2021-02-04T12:18:28.088312Z",
     "iopub.status.busy": "2021-02-04T12:18:28.084094Z",
     "iopub.status.idle": "2021-02-04T12:18:28.090972Z",
     "shell.execute_reply": "2021-02-04T12:18:28.091455Z"
    },
    "papermill": {
     "duration": 0.047346,
     "end_time": "2021-02-04T12:18:28.091606",
     "exception": false,
     "start_time": "2021-02-04T12:18:28.044260",
     "status": "completed"
    },
    "tags": []
   },
   "outputs": [
    {
     "data": {
      "text/plain": [
       "'https://raw.githubusercontent.com/pratapvardhan/notebooks/master/covid19/mapping_countries.csv'"
      ]
     },
     "execution_count": 3,
     "metadata": {},
     "output_type": "execute_result"
    }
   ],
   "source": [
    "#hide\n",
    "paths['mapping']"
   ]
  },
  {
   "cell_type": "code",
   "execution_count": 4,
   "id": "urban-software",
   "metadata": {
    "execution": {
     "iopub.execute_input": "2021-02-04T12:18:28.159328Z",
     "iopub.status.busy": "2021-02-04T12:18:28.158795Z",
     "iopub.status.idle": "2021-02-04T12:18:28.161104Z",
     "shell.execute_reply": "2021-02-04T12:18:28.160642Z"
    },
    "papermill": {
     "duration": 0.03845,
     "end_time": "2021-02-04T12:18:28.161207",
     "exception": false,
     "start_time": "2021-02-04T12:18:28.122757",
     "status": "completed"
    },
    "tags": []
   },
   "outputs": [],
   "source": [
    "#hide\n",
    "def get_mappings(url):\n",
    "    df = pd.read_csv(url)\n",
    "    return {\n",
    "        'df': df,\n",
    "        'replace.country': dict(df.dropna(subset=['Name']).set_index('Country')['Name']),\n",
    "        'map.continent': dict(df.set_index('Name')['Continent'])\n",
    "    }"
   ]
  },
  {
   "cell_type": "code",
   "execution_count": 5,
   "id": "intimate-machinery",
   "metadata": {
    "execution": {
     "iopub.execute_input": "2021-02-04T12:18:28.227906Z",
     "iopub.status.busy": "2021-02-04T12:18:28.227316Z",
     "iopub.status.idle": "2021-02-04T12:18:28.263768Z",
     "shell.execute_reply": "2021-02-04T12:18:28.264414Z"
    },
    "papermill": {
     "duration": 0.073077,
     "end_time": "2021-02-04T12:18:28.264538",
     "exception": false,
     "start_time": "2021-02-04T12:18:28.191461",
     "status": "completed"
    },
    "tags": []
   },
   "outputs": [],
   "source": [
    "#hide\n",
    "mapping = get_mappings(paths['mapping'])"
   ]
  },
  {
   "cell_type": "code",
   "execution_count": 6,
   "id": "certified-tactics",
   "metadata": {
    "execution": {
     "iopub.execute_input": "2021-02-04T12:18:28.337051Z",
     "iopub.status.busy": "2021-02-04T12:18:28.336294Z",
     "iopub.status.idle": "2021-02-04T12:18:28.338960Z",
     "shell.execute_reply": "2021-02-04T12:18:28.338431Z"
    },
    "papermill": {
     "duration": 0.040425,
     "end_time": "2021-02-04T12:18:28.339094",
     "exception": false,
     "start_time": "2021-02-04T12:18:28.298669",
     "status": "completed"
    },
    "tags": []
   },
   "outputs": [],
   "source": [
    "#hide\n",
    "def get_template(path):\n",
    "    from urllib.parse import urlparse\n",
    "    if bool(urlparse(path).netloc):\n",
    "        from urllib.request import urlopen\n",
    "        return urlopen(path).read().decode('utf8')\n",
    "    return open(path).read()"
   ]
  },
  {
   "cell_type": "code",
   "execution_count": 7,
   "id": "realistic-blast",
   "metadata": {
    "execution": {
     "iopub.execute_input": "2021-02-04T12:18:28.412003Z",
     "iopub.status.busy": "2021-02-04T12:18:28.411395Z",
     "iopub.status.idle": "2021-02-04T12:18:28.415865Z",
     "shell.execute_reply": "2021-02-04T12:18:28.415284Z"
    },
    "papermill": {
     "duration": 0.042301,
     "end_time": "2021-02-04T12:18:28.416010",
     "exception": false,
     "start_time": "2021-02-04T12:18:28.373709",
     "status": "completed"
    },
    "tags": []
   },
   "outputs": [],
   "source": [
    "#hide\n",
    "def get_frame(name):\n",
    "    url = (\n",
    "        'https://raw.githubusercontent.com/CSSEGISandData/COVID-19/master/csse_covid_19_data/'\n",
    "        f'csse_covid_19_time_series/time_series_covid19_{name}_global.csv')\n",
    "    df = pd.read_csv(url)\n",
    "    # rename countries\n",
    "    df['Country/Region'] = df['Country/Region'].replace(mapping['replace.country'])\n",
    "    return df"
   ]
  },
  {
   "cell_type": "code",
   "execution_count": 8,
   "id": "affiliated-characterization",
   "metadata": {
    "execution": {
     "iopub.execute_input": "2021-02-04T12:18:28.486442Z",
     "iopub.status.busy": "2021-02-04T12:18:28.485781Z",
     "iopub.status.idle": "2021-02-04T12:18:28.488202Z",
     "shell.execute_reply": "2021-02-04T12:18:28.487726Z"
    },
    "papermill": {
     "duration": 0.03797,
     "end_time": "2021-02-04T12:18:28.488304",
     "exception": false,
     "start_time": "2021-02-04T12:18:28.450334",
     "status": "completed"
    },
    "tags": []
   },
   "outputs": [],
   "source": [
    "#hide\n",
    "def get_dates(df):\n",
    "    dt_cols = df.columns[~df.columns.isin(['Province/State', 'Country/Region', 'Lat', 'Long'])]\n",
    "    LAST_DATE_I = -1\n",
    "    # sometimes last column may be empty, then go backwards\n",
    "    for i in range(-1, -len(dt_cols), -1):\n",
    "        if not df[dt_cols[i]].fillna(0).eq(0).all():\n",
    "            LAST_DATE_I = i\n",
    "            break\n",
    "    return LAST_DATE_I, dt_cols"
   ]
  },
  {
   "cell_type": "code",
   "execution_count": 9,
   "id": "recent-optimization",
   "metadata": {
    "execution": {
     "iopub.execute_input": "2021-02-04T12:18:28.553700Z",
     "iopub.status.busy": "2021-02-04T12:18:28.553007Z",
     "iopub.status.idle": "2021-02-04T12:18:28.844628Z",
     "shell.execute_reply": "2021-02-04T12:18:28.844020Z"
    },
    "papermill": {
     "duration": 0.327981,
     "end_time": "2021-02-04T12:18:28.844771",
     "exception": false,
     "start_time": "2021-02-04T12:18:28.516790",
     "status": "completed"
    },
    "tags": []
   },
   "outputs": [],
   "source": [
    "#hide\n",
    "COL_REGION = 'Country/Region'\n",
    "# Confirmed, Recovered, Deaths\n",
    "df = get_frame('confirmed')\n",
    "# dft_: timeseries, dfc_: today country agg\n",
    "dft_cases = df\n",
    "dft_deaths = get_frame('deaths')\n",
    "dft_recovered = get_frame('recovered')\n",
    "LAST_DATE_I, dt_cols = get_dates(df)"
   ]
  },
  {
   "cell_type": "code",
   "execution_count": 10,
   "id": "absolute-copper",
   "metadata": {
    "execution": {
     "iopub.execute_input": "2021-02-04T12:18:28.913272Z",
     "iopub.status.busy": "2021-02-04T12:18:28.912610Z",
     "iopub.status.idle": "2021-02-04T12:18:28.914752Z",
     "shell.execute_reply": "2021-02-04T12:18:28.914213Z"
    },
    "papermill": {
     "duration": 0.036384,
     "end_time": "2021-02-04T12:18:28.914862",
     "exception": false,
     "start_time": "2021-02-04T12:18:28.878478",
     "status": "completed"
    },
    "tags": []
   },
   "outputs": [],
   "source": [
    "#hide\n",
    "LAST_DATE_I, dt_cols = get_dates(df)\n",
    "dt_today =dt_cols[LAST_DATE_I]\n",
    "# dt_5day = dt_cols[LAST_DATE_I - 5]\n",
    "dt_yday = dt_cols[LAST_DATE_I - 1]"
   ]
  },
  {
   "cell_type": "code",
   "execution_count": 11,
   "id": "restricted-sheriff",
   "metadata": {
    "execution": {
     "iopub.execute_input": "2021-02-04T12:18:28.979794Z",
     "iopub.status.busy": "2021-02-04T12:18:28.979175Z",
     "iopub.status.idle": "2021-02-04T12:18:28.987329Z",
     "shell.execute_reply": "2021-02-04T12:18:28.987847Z"
    },
    "papermill": {
     "duration": 0.043005,
     "end_time": "2021-02-04T12:18:28.987967",
     "exception": false,
     "start_time": "2021-02-04T12:18:28.944962",
     "status": "completed"
    },
    "tags": []
   },
   "outputs": [],
   "source": [
    "#hide\n",
    "dfc_cases = dft_cases.groupby(COL_REGION)[dt_today].sum()\n",
    "dfc_deaths = dft_deaths.groupby(COL_REGION)[dt_today].sum()\n",
    "# dfp_cases = dft_cases.groupby(COL_REGION)[dt_5day].sum()\n",
    "# dfp_deaths = dft_deaths.groupby(COL_REGION)[dt_5day].sum()\n",
    "dfp_cases = dft_cases.groupby(COL_REGION)[dt_yday].sum()\n",
    "dfp_deaths = dft_deaths.groupby(COL_REGION)[dt_yday].sum()"
   ]
  },
  {
   "cell_type": "code",
   "execution_count": 12,
   "id": "deluxe-hepatitis",
   "metadata": {
    "execution": {
     "iopub.execute_input": "2021-02-04T12:18:29.054005Z",
     "iopub.status.busy": "2021-02-04T12:18:29.053335Z",
     "iopub.status.idle": "2021-02-04T12:18:29.058154Z",
     "shell.execute_reply": "2021-02-04T12:18:29.058646Z"
    },
    "papermill": {
     "duration": 0.040521,
     "end_time": "2021-02-04T12:18:29.058759",
     "exception": false,
     "start_time": "2021-02-04T12:18:29.018238",
     "status": "completed"
    },
    "tags": []
   },
   "outputs": [],
   "source": [
    "#hide\n",
    "df_table = (pd.DataFrame(dict(Cases = dfc_cases, Deaths = dfc_deaths, PCases = dfp_cases, PDeaths = dfp_deaths))\n",
    "            .sort_values(by = ['Cases','Deaths'], ascending = [False, False])\n",
    "            .reset_index())"
   ]
  },
  {
   "cell_type": "code",
   "execution_count": 13,
   "id": "educational-chancellor",
   "metadata": {
    "execution": {
     "iopub.execute_input": "2021-02-04T12:18:29.140856Z",
     "iopub.status.busy": "2021-02-04T12:18:29.140334Z",
     "iopub.status.idle": "2021-02-04T12:18:29.148353Z",
     "shell.execute_reply": "2021-02-04T12:18:29.148889Z"
    },
    "papermill": {
     "duration": 0.058301,
     "end_time": "2021-02-04T12:18:29.149028",
     "exception": false,
     "start_time": "2021-02-04T12:18:29.090727",
     "status": "completed"
    },
    "tags": []
   },
   "outputs": [
    {
     "data": {
      "text/html": [
       "<div>\n",
       "<style scoped>\n",
       "    .dataframe tbody tr th:only-of-type {\n",
       "        vertical-align: middle;\n",
       "    }\n",
       "\n",
       "    .dataframe tbody tr th {\n",
       "        vertical-align: top;\n",
       "    }\n",
       "\n",
       "    .dataframe thead th {\n",
       "        text-align: right;\n",
       "    }\n",
       "</style>\n",
       "<table border=\"1\" class=\"dataframe\">\n",
       "  <thead>\n",
       "    <tr style=\"text-align: right;\">\n",
       "      <th></th>\n",
       "      <th>Country/Region</th>\n",
       "      <th>Cases</th>\n",
       "      <th>Deaths</th>\n",
       "      <th>PCases</th>\n",
       "      <th>PDeaths</th>\n",
       "      <th>Cases (+)</th>\n",
       "      <th>Deaths (+)</th>\n",
       "      <th>Fatality Rate</th>\n",
       "      <th>Continent</th>\n",
       "    </tr>\n",
       "  </thead>\n",
       "  <tbody>\n",
       "    <tr>\n",
       "      <th>0</th>\n",
       "      <td>US</td>\n",
       "      <td>26557026</td>\n",
       "      <td>450797</td>\n",
       "      <td>26435557</td>\n",
       "      <td>446885</td>\n",
       "      <td>121469</td>\n",
       "      <td>3912</td>\n",
       "      <td>1.70</td>\n",
       "      <td>North America</td>\n",
       "    </tr>\n",
       "    <tr>\n",
       "      <th>1</th>\n",
       "      <td>India</td>\n",
       "      <td>10790183</td>\n",
       "      <td>154703</td>\n",
       "      <td>10777284</td>\n",
       "      <td>154596</td>\n",
       "      <td>12899</td>\n",
       "      <td>107</td>\n",
       "      <td>1.43</td>\n",
       "      <td>Asia</td>\n",
       "    </tr>\n",
       "    <tr>\n",
       "      <th>2</th>\n",
       "      <td>Brazil</td>\n",
       "      <td>9339420</td>\n",
       "      <td>227563</td>\n",
       "      <td>9283418</td>\n",
       "      <td>226309</td>\n",
       "      <td>56002</td>\n",
       "      <td>1254</td>\n",
       "      <td>2.44</td>\n",
       "      <td>South America</td>\n",
       "    </tr>\n",
       "    <tr>\n",
       "      <th>3</th>\n",
       "      <td>United Kingdom</td>\n",
       "      <td>3882972</td>\n",
       "      <td>109547</td>\n",
       "      <td>3863757</td>\n",
       "      <td>108225</td>\n",
       "      <td>19215</td>\n",
       "      <td>1322</td>\n",
       "      <td>2.82</td>\n",
       "      <td>Europe</td>\n",
       "    </tr>\n",
       "    <tr>\n",
       "      <th>4</th>\n",
       "      <td>Russia</td>\n",
       "      <td>3858367</td>\n",
       "      <td>73497</td>\n",
       "      <td>3842145</td>\n",
       "      <td>72982</td>\n",
       "      <td>16222</td>\n",
       "      <td>515</td>\n",
       "      <td>1.90</td>\n",
       "      <td>Europe</td>\n",
       "    </tr>\n",
       "  </tbody>\n",
       "</table>\n",
       "</div>"
      ],
      "text/plain": [
       "   Country/Region     Cases  Deaths    PCases  PDeaths  Cases (+)  Deaths (+)  \\\n",
       "0              US  26557026  450797  26435557   446885     121469        3912   \n",
       "1           India  10790183  154703  10777284   154596      12899         107   \n",
       "2          Brazil   9339420  227563   9283418   226309      56002        1254   \n",
       "3  United Kingdom   3882972  109547   3863757   108225      19215        1322   \n",
       "4          Russia   3858367   73497   3842145    72982      16222         515   \n",
       "\n",
       "   Fatality Rate      Continent  \n",
       "0           1.70  North America  \n",
       "1           1.43           Asia  \n",
       "2           2.44  South America  \n",
       "3           2.82         Europe  \n",
       "4           1.90         Europe  "
      ]
     },
     "execution_count": 13,
     "metadata": {},
     "output_type": "execute_result"
    }
   ],
   "source": [
    "#hide\n",
    "for c in 'Cases, Deaths'.split(', '):\n",
    "    df_table[f'{c} (+)'] = (df_table[c] - df_table[f'P{c}']).clip(0)\n",
    "    #Clip ça veut dire, les chiffres negatif sont interdit\n",
    "df_table['Fatality Rate'] = (100* df_table['Deaths']/ df_table['Cases']).round(2)\n",
    "df_table['Continent'] = df_table['Country/Region'].map(mapping['map.continent'])\n",
    "df_table.head(5)"
   ]
  },
  {
   "cell_type": "code",
   "execution_count": 14,
   "id": "aboriginal-bulgaria",
   "metadata": {
    "execution": {
     "iopub.execute_input": "2021-02-04T12:18:29.214055Z",
     "iopub.status.busy": "2021-02-04T12:18:29.213517Z",
     "iopub.status.idle": "2021-02-04T12:18:29.215565Z",
     "shell.execute_reply": "2021-02-04T12:18:29.216050Z"
    },
    "papermill": {
     "duration": 0.03691,
     "end_time": "2021-02-04T12:18:29.216170",
     "exception": false,
     "start_time": "2021-02-04T12:18:29.179260",
     "status": "completed"
    },
    "tags": []
   },
   "outputs": [],
   "source": [
    "#hide\n",
    "#delete problematic countries from table\n",
    "df_table = df_table[~df_table['Country/Region'].isin(['Cape Verde', 'Cruise Ship', 'Kosovo'])]"
   ]
  },
  {
   "cell_type": "code",
   "execution_count": 15,
   "id": "fantastic-effect",
   "metadata": {
    "execution": {
     "iopub.execute_input": "2021-02-04T12:18:29.280662Z",
     "iopub.status.busy": "2021-02-04T12:18:29.280144Z",
     "iopub.status.idle": "2021-02-04T12:18:29.300573Z",
     "shell.execute_reply": "2021-02-04T12:18:29.300127Z"
    },
    "papermill": {
     "duration": 0.055318,
     "end_time": "2021-02-04T12:18:29.300687",
     "exception": false,
     "start_time": "2021-02-04T12:18:29.245369",
     "status": "completed"
    },
    "tags": []
   },
   "outputs": [
    {
     "data": {
      "text/html": [
       "<div>\n",
       "<style scoped>\n",
       "    .dataframe tbody tr th:only-of-type {\n",
       "        vertical-align: middle;\n",
       "    }\n",
       "\n",
       "    .dataframe tbody tr th {\n",
       "        vertical-align: top;\n",
       "    }\n",
       "\n",
       "    .dataframe thead th {\n",
       "        text-align: right;\n",
       "    }\n",
       "</style>\n",
       "<table border=\"1\" class=\"dataframe\">\n",
       "  <thead>\n",
       "    <tr style=\"text-align: right;\">\n",
       "      <th></th>\n",
       "      <th>Country/Region</th>\n",
       "      <th>Cases</th>\n",
       "      <th>Deaths</th>\n",
       "      <th>PCases</th>\n",
       "      <th>PDeaths</th>\n",
       "      <th>Cases (+)</th>\n",
       "      <th>Deaths (+)</th>\n",
       "      <th>Fatality Rate</th>\n",
       "      <th>Continent</th>\n",
       "    </tr>\n",
       "  </thead>\n",
       "  <tbody>\n",
       "    <tr>\n",
       "      <th>0</th>\n",
       "      <td>US</td>\n",
       "      <td>26557026</td>\n",
       "      <td>450797</td>\n",
       "      <td>26435557</td>\n",
       "      <td>446885</td>\n",
       "      <td>121469</td>\n",
       "      <td>3912</td>\n",
       "      <td>1.7</td>\n",
       "      <td>North America</td>\n",
       "    </tr>\n",
       "    <tr>\n",
       "      <th>1</th>\n",
       "      <td>India</td>\n",
       "      <td>10790183</td>\n",
       "      <td>154703</td>\n",
       "      <td>10777284</td>\n",
       "      <td>154596</td>\n",
       "      <td>12899</td>\n",
       "      <td>107</td>\n",
       "      <td>1.4</td>\n",
       "      <td>Asia</td>\n",
       "    </tr>\n",
       "    <tr>\n",
       "      <th>2</th>\n",
       "      <td>Brazil</td>\n",
       "      <td>9339420</td>\n",
       "      <td>227563</td>\n",
       "      <td>9283418</td>\n",
       "      <td>226309</td>\n",
       "      <td>56002</td>\n",
       "      <td>1254</td>\n",
       "      <td>2.4</td>\n",
       "      <td>South America</td>\n",
       "    </tr>\n",
       "    <tr>\n",
       "      <th>3</th>\n",
       "      <td>United Kingdom</td>\n",
       "      <td>3882972</td>\n",
       "      <td>109547</td>\n",
       "      <td>3863757</td>\n",
       "      <td>108225</td>\n",
       "      <td>19215</td>\n",
       "      <td>1322</td>\n",
       "      <td>2.8</td>\n",
       "      <td>Europe</td>\n",
       "    </tr>\n",
       "    <tr>\n",
       "      <th>4</th>\n",
       "      <td>Russia</td>\n",
       "      <td>3858367</td>\n",
       "      <td>73497</td>\n",
       "      <td>3842145</td>\n",
       "      <td>72982</td>\n",
       "      <td>16222</td>\n",
       "      <td>515</td>\n",
       "      <td>1.9</td>\n",
       "      <td>Europe</td>\n",
       "    </tr>\n",
       "  </tbody>\n",
       "</table>\n",
       "</div>"
      ],
      "text/plain": [
       "   Country/Region     Cases  Deaths    PCases  PDeaths  Cases (+)  Deaths (+)  \\\n",
       "0              US  26557026  450797  26435557   446885     121469        3912   \n",
       "1           India  10790183  154703  10777284   154596      12899         107   \n",
       "2          Brazil   9339420  227563   9283418   226309      56002        1254   \n",
       "3  United Kingdom   3882972  109547   3863757   108225      19215        1322   \n",
       "4          Russia   3858367   73497   3842145    72982      16222         515   \n",
       "\n",
       "   Fatality Rate      Continent  \n",
       "0            1.7  North America  \n",
       "1            1.4           Asia  \n",
       "2            2.4  South America  \n",
       "3            2.8         Europe  \n",
       "4            1.9         Europe  "
      ]
     },
     "execution_count": 15,
     "metadata": {},
     "output_type": "execute_result"
    }
   ],
   "source": [
    "#hide\n",
    "df_table = (pd.DataFrame(dict(Cases=dfc_cases, Deaths=dfc_deaths, PCases=dfp_cases, PDeaths=dfp_deaths))\n",
    "             .sort_values(by=['Cases', 'Deaths'], ascending=[False, False])\n",
    "             .reset_index())\n",
    "df_table.rename(columns={'index': 'Country/Region'}, inplace=True)\n",
    "for c in 'Cases, Deaths'.split(', '):\n",
    "    df_table[f'{c} (+)'] = (df_table[c] - df_table[f'P{c}']).clip(0)  # DATA BUG\n",
    "df_table['Fatality Rate'] = (100 * df_table['Deaths'] / df_table['Cases']).round(1)\n",
    "df_table['Continent'] = df_table['Country/Region'].map(mapping['map.continent'])\n",
    "df_table.head(5)"
   ]
  },
  {
   "cell_type": "code",
   "execution_count": 16,
   "id": "fewer-occasion",
   "metadata": {
    "execution": {
     "iopub.execute_input": "2021-02-04T12:18:29.369677Z",
     "iopub.status.busy": "2021-02-04T12:18:29.369126Z",
     "iopub.status.idle": "2021-02-04T12:18:29.371314Z",
     "shell.execute_reply": "2021-02-04T12:18:29.371785Z"
    },
    "papermill": {
     "duration": 0.039534,
     "end_time": "2021-02-04T12:18:29.371899",
     "exception": false,
     "start_time": "2021-02-04T12:18:29.332365",
     "status": "completed"
    },
    "tags": []
   },
   "outputs": [],
   "source": [
    "#hide\n",
    "#delete problematic countries from table\n",
    "df_table = df_table[~df_table['Country/Region'].isin(['Cape Verde', 'Cruise Ship', 'Kosovo'])]"
   ]
  },
  {
   "cell_type": "code",
   "execution_count": 17,
   "id": "related-center",
   "metadata": {
    "execution": {
     "iopub.execute_input": "2021-02-04T12:18:29.457138Z",
     "iopub.status.busy": "2021-02-04T12:18:29.456574Z",
     "iopub.status.idle": "2021-02-04T12:18:29.458414Z",
     "shell.execute_reply": "2021-02-04T12:18:29.458863Z"
    },
    "papermill": {
     "duration": 0.054479,
     "end_time": "2021-02-04T12:18:29.458986",
     "exception": false,
     "start_time": "2021-02-04T12:18:29.404507",
     "status": "completed"
    },
    "tags": []
   },
   "outputs": [],
   "source": [
    "#hide\n",
    "metrics = [df_table.columns[index] for index in [1,2,5,6]]\n",
    "# s_china = df_table[df_table['Country/Region'].eq('China')][metrics].sum().add_prefix('China ')\n",
    "s_us = df_table[df_table['Country/Region'].eq('US')][metrics].sum().add_prefix('US ')\n",
    "s_eu = df_table[df_table['Continent'].eq('Europe')][metrics].sum().add_prefix('EU ')\n",
    "s_ind = df_table[df_table['Country/Region'].eq('India')][metrics].sum().add_prefix('India ')\n",
    "summary = {'updated': pd.to_datetime(dt_today), 'since': pd.to_datetime(dt_yday)}\n",
    "summary = {'updated': pd.to_datetime(dt_today), 'since': pd.to_datetime(dt_yday)}\n",
    "summary = {**summary, **df_table[metrics].sum(), **s_ind, **s_us, **s_eu}"
   ]
  },
  {
   "cell_type": "code",
   "execution_count": 18,
   "id": "engaging-syndrome",
   "metadata": {
    "execution": {
     "iopub.execute_input": "2021-02-04T12:18:29.529659Z",
     "iopub.status.busy": "2021-02-04T12:18:29.529062Z",
     "iopub.status.idle": "2021-02-04T12:18:29.539571Z",
     "shell.execute_reply": "2021-02-04T12:18:29.539977Z"
    },
    "papermill": {
     "duration": 0.050239,
     "end_time": "2021-02-04T12:18:29.540100",
     "exception": false,
     "start_time": "2021-02-04T12:18:29.489861",
     "status": "completed"
    },
    "tags": []
   },
   "outputs": [],
   "source": [
    "#hide\n",
    "dft_ct_new_cases = dft_cases.groupby(COL_REGION)[dt_cols].sum().diff(axis=1).fillna(0).astype(int)"
   ]
  },
  {
   "cell_type": "code",
   "execution_count": 19,
   "id": "neutral-assignment",
   "metadata": {
    "execution": {
     "iopub.execute_input": "2021-02-04T12:18:29.605574Z",
     "iopub.status.busy": "2021-02-04T12:18:29.605062Z",
     "iopub.status.idle": "2021-02-04T12:18:29.607567Z",
     "shell.execute_reply": "2021-02-04T12:18:29.607110Z"
    },
    "papermill": {
     "duration": 0.037344,
     "end_time": "2021-02-04T12:18:29.607672",
     "exception": false,
     "start_time": "2021-02-04T12:18:29.570328",
     "status": "completed"
    },
    "tags": []
   },
   "outputs": [],
   "source": [
    "#hide\n",
    "everydaycases = dft_ct_new_cases.cumsum(axis=1)"
   ]
  },
  {
   "cell_type": "code",
   "execution_count": 20,
   "id": "parliamentary-calgary",
   "metadata": {
    "execution": {
     "iopub.execute_input": "2021-02-04T12:18:29.678907Z",
     "iopub.status.busy": "2021-02-04T12:18:29.678362Z",
     "iopub.status.idle": "2021-02-04T12:18:31.463935Z",
     "shell.execute_reply": "2021-02-04T12:18:31.463033Z"
    },
    "papermill": {
     "duration": 1.821372,
     "end_time": "2021-02-04T12:18:31.464064",
     "exception": false,
     "start_time": "2021-02-04T12:18:29.642692",
     "status": "completed"
    },
    "tags": []
   },
   "outputs": [],
   "source": [
    "#hide\n",
    "import pandas as pd\n",
    "import matplotlib.pyplot as plt\n",
    "import matplotlib.ticker as ticker\n",
    "import matplotlib.animation as animation\n",
    "from IPython.display import HTML"
   ]
  },
  {
   "cell_type": "code",
   "execution_count": 21,
   "id": "lasting-extraction",
   "metadata": {
    "execution": {
     "iopub.execute_input": "2021-02-04T12:18:31.535887Z",
     "iopub.status.busy": "2021-02-04T12:18:31.535156Z",
     "iopub.status.idle": "2021-02-04T12:18:31.541619Z",
     "shell.execute_reply": "2021-02-04T12:18:31.541081Z"
    },
    "papermill": {
     "duration": 0.045519,
     "end_time": "2021-02-04T12:18:31.541770",
     "exception": false,
     "start_time": "2021-02-04T12:18:31.496251",
     "status": "completed"
    },
    "tags": []
   },
   "outputs": [],
   "source": [
    "#hide\n",
    "t = everydaycases.stack()"
   ]
  },
  {
   "cell_type": "code",
   "execution_count": 22,
   "id": "premier-sleeve",
   "metadata": {
    "execution": {
     "iopub.execute_input": "2021-02-04T12:18:31.622446Z",
     "iopub.status.busy": "2021-02-04T12:18:31.621842Z",
     "iopub.status.idle": "2021-02-04T12:18:31.629395Z",
     "shell.execute_reply": "2021-02-04T12:18:31.628847Z"
    },
    "papermill": {
     "duration": 0.048969,
     "end_time": "2021-02-04T12:18:31.629541",
     "exception": false,
     "start_time": "2021-02-04T12:18:31.580572",
     "status": "completed"
    },
    "tags": []
   },
   "outputs": [],
   "source": [
    "#hide\n",
    "g = t.reset_index(['Country/Region'])"
   ]
  },
  {
   "cell_type": "code",
   "execution_count": 23,
   "id": "distributed-pittsburgh",
   "metadata": {
    "execution": {
     "iopub.execute_input": "2021-02-04T12:18:31.696857Z",
     "iopub.status.busy": "2021-02-04T12:18:31.696254Z",
     "iopub.status.idle": "2021-02-04T12:18:31.698473Z",
     "shell.execute_reply": "2021-02-04T12:18:31.698001Z"
    },
    "papermill": {
     "duration": 0.037716,
     "end_time": "2021-02-04T12:18:31.698592",
     "exception": false,
     "start_time": "2021-02-04T12:18:31.660876",
     "status": "completed"
    },
    "tags": []
   },
   "outputs": [],
   "source": [
    "#hide\n",
    "g.index.name = 'date'"
   ]
  },
  {
   "cell_type": "code",
   "execution_count": 24,
   "id": "naked-donor",
   "metadata": {
    "execution": {
     "iopub.execute_input": "2021-02-04T12:18:31.767399Z",
     "iopub.status.busy": "2021-02-04T12:18:31.766739Z",
     "iopub.status.idle": "2021-02-04T12:18:31.768637Z",
     "shell.execute_reply": "2021-02-04T12:18:31.769149Z"
    },
    "papermill": {
     "duration": 0.040019,
     "end_time": "2021-02-04T12:18:31.769261",
     "exception": false,
     "start_time": "2021-02-04T12:18:31.729242",
     "status": "completed"
    },
    "tags": []
   },
   "outputs": [],
   "source": [
    "# #hide\n",
    "# g = g.reset_index(['date'])"
   ]
  },
  {
   "cell_type": "code",
   "execution_count": 25,
   "id": "incomplete-mustang",
   "metadata": {
    "execution": {
     "iopub.execute_input": "2021-02-04T12:18:31.833078Z",
     "iopub.status.busy": "2021-02-04T12:18:31.832545Z",
     "iopub.status.idle": "2021-02-04T12:18:31.834691Z",
     "shell.execute_reply": "2021-02-04T12:18:31.835361Z"
    },
    "papermill": {
     "duration": 0.036644,
     "end_time": "2021-02-04T12:18:31.835518",
     "exception": false,
     "start_time": "2021-02-04T12:18:31.798874",
     "status": "completed"
    },
    "tags": []
   },
   "outputs": [],
   "source": [
    "#hide\n",
    "# g.head()"
   ]
  },
  {
   "cell_type": "code",
   "execution_count": 26,
   "id": "specific-kruger",
   "metadata": {
    "execution": {
     "iopub.execute_input": "2021-02-04T12:18:31.899676Z",
     "iopub.status.busy": "2021-02-04T12:18:31.899130Z",
     "iopub.status.idle": "2021-02-04T12:18:31.900969Z",
     "shell.execute_reply": "2021-02-04T12:18:31.901366Z"
    },
    "papermill": {
     "duration": 0.034713,
     "end_time": "2021-02-04T12:18:31.901480",
     "exception": false,
     "start_time": "2021-02-04T12:18:31.866767",
     "status": "completed"
    },
    "tags": []
   },
   "outputs": [],
   "source": [
    "#hide\n",
    "# g.columns = ['date','country','cases']"
   ]
  },
  {
   "cell_type": "code",
   "execution_count": 27,
   "id": "tender-conversion",
   "metadata": {
    "execution": {
     "iopub.execute_input": "2021-02-04T12:18:31.966536Z",
     "iopub.status.busy": "2021-02-04T12:18:31.966027Z",
     "iopub.status.idle": "2021-02-04T12:18:31.967872Z",
     "shell.execute_reply": "2021-02-04T12:18:31.968380Z"
    },
    "papermill": {
     "duration": 0.035334,
     "end_time": "2021-02-04T12:18:31.968495",
     "exception": false,
     "start_time": "2021-02-04T12:18:31.933161",
     "status": "completed"
    },
    "tags": []
   },
   "outputs": [],
   "source": [
    "#hide\n",
    "# g['continent'] = g.country"
   ]
  },
  {
   "cell_type": "code",
   "execution_count": 28,
   "id": "substantial-wilderness",
   "metadata": {
    "execution": {
     "iopub.execute_input": "2021-02-04T12:18:32.038923Z",
     "iopub.status.busy": "2021-02-04T12:18:32.038346Z",
     "iopub.status.idle": "2021-02-04T12:18:32.040339Z",
     "shell.execute_reply": "2021-02-04T12:18:32.040965Z"
    },
    "papermill": {
     "duration": 0.041256,
     "end_time": "2021-02-04T12:18:32.041128",
     "exception": false,
     "start_time": "2021-02-04T12:18:31.999872",
     "status": "completed"
    },
    "tags": []
   },
   "outputs": [],
   "source": [
    "#hide\n",
    "# cols = list(g.columns.values)"
   ]
  },
  {
   "cell_type": "code",
   "execution_count": 29,
   "id": "solved-farming",
   "metadata": {
    "execution": {
     "iopub.execute_input": "2021-02-04T12:18:32.112788Z",
     "iopub.status.busy": "2021-02-04T12:18:32.112192Z",
     "iopub.status.idle": "2021-02-04T12:18:32.114470Z",
     "shell.execute_reply": "2021-02-04T12:18:32.113912Z"
    },
    "papermill": {
     "duration": 0.041155,
     "end_time": "2021-02-04T12:18:32.114583",
     "exception": false,
     "start_time": "2021-02-04T12:18:32.073428",
     "status": "completed"
    },
    "tags": []
   },
   "outputs": [],
   "source": [
    "#hide\n",
    "# cols.insert(0, cols.pop())"
   ]
  },
  {
   "cell_type": "code",
   "execution_count": 30,
   "id": "executed-adoption",
   "metadata": {
    "execution": {
     "iopub.execute_input": "2021-02-04T12:18:32.183931Z",
     "iopub.status.busy": "2021-02-04T12:18:32.183371Z",
     "iopub.status.idle": "2021-02-04T12:18:32.185367Z",
     "shell.execute_reply": "2021-02-04T12:18:32.184858Z"
    },
    "papermill": {
     "duration": 0.035102,
     "end_time": "2021-02-04T12:18:32.185476",
     "exception": false,
     "start_time": "2021-02-04T12:18:32.150374",
     "status": "completed"
    },
    "tags": []
   },
   "outputs": [],
   "source": [
    "#hide\n",
    "# g = g[cols]"
   ]
  },
  {
   "cell_type": "code",
   "execution_count": 31,
   "id": "subject-dublin",
   "metadata": {
    "execution": {
     "iopub.execute_input": "2021-02-04T12:18:32.251619Z",
     "iopub.status.busy": "2021-02-04T12:18:32.250964Z",
     "iopub.status.idle": "2021-02-04T12:18:32.252973Z",
     "shell.execute_reply": "2021-02-04T12:18:32.253418Z"
    },
    "papermill": {
     "duration": 0.037363,
     "end_time": "2021-02-04T12:18:32.253537",
     "exception": false,
     "start_time": "2021-02-04T12:18:32.216174",
     "status": "completed"
    },
    "tags": []
   },
   "outputs": [],
   "source": [
    "#hide\n",
    "# g['continent'] = g['continent'].map(mapping['map.continent'])"
   ]
  },
  {
   "cell_type": "code",
   "execution_count": 32,
   "id": "freelance-scout",
   "metadata": {
    "execution": {
     "iopub.execute_input": "2021-02-04T12:18:32.318316Z",
     "iopub.status.busy": "2021-02-04T12:18:32.317780Z",
     "iopub.status.idle": "2021-02-04T12:18:32.320651Z",
     "shell.execute_reply": "2021-02-04T12:18:32.320088Z"
    },
    "papermill": {
     "duration": 0.036522,
     "end_time": "2021-02-04T12:18:32.320752",
     "exception": false,
     "start_time": "2021-02-04T12:18:32.284230",
     "status": "completed"
    },
    "tags": []
   },
   "outputs": [],
   "source": [
    "#hide\n",
    "# g.head()"
   ]
  },
  {
   "cell_type": "code",
   "execution_count": 33,
   "id": "limited-engine",
   "metadata": {
    "execution": {
     "iopub.execute_input": "2021-02-04T12:18:32.388435Z",
     "iopub.status.busy": "2021-02-04T12:18:32.387808Z",
     "iopub.status.idle": "2021-02-04T12:18:32.390029Z",
     "shell.execute_reply": "2021-02-04T12:18:32.389569Z"
    },
    "papermill": {
     "duration": 0.039253,
     "end_time": "2021-02-04T12:18:32.390134",
     "exception": false,
     "start_time": "2021-02-04T12:18:32.350881",
     "status": "completed"
    },
    "tags": []
   },
   "outputs": [],
   "source": [
    "# hide\n",
    "# g['date'] = g['date'].astype('datetime64[ns]')"
   ]
  },
  {
   "cell_type": "code",
   "execution_count": 34,
   "id": "sophisticated-supervisor",
   "metadata": {
    "execution": {
     "iopub.execute_input": "2021-02-04T12:18:32.462078Z",
     "iopub.status.busy": "2021-02-04T12:18:32.461508Z",
     "iopub.status.idle": "2021-02-04T12:18:32.463874Z",
     "shell.execute_reply": "2021-02-04T12:18:32.463373Z"
    },
    "papermill": {
     "duration": 0.037648,
     "end_time": "2021-02-04T12:18:32.463996",
     "exception": false,
     "start_time": "2021-02-04T12:18:32.426348",
     "status": "completed"
    },
    "tags": []
   },
   "outputs": [],
   "source": [
    "#hide\n",
    "# g['date'] = g.date.dt.dayofyear"
   ]
  },
  {
   "cell_type": "code",
   "execution_count": 35,
   "id": "inside-dubai",
   "metadata": {
    "execution": {
     "iopub.execute_input": "2021-02-04T12:18:32.531725Z",
     "iopub.status.busy": "2021-02-04T12:18:32.531150Z",
     "iopub.status.idle": "2021-02-04T12:18:32.533660Z",
     "shell.execute_reply": "2021-02-04T12:18:32.533201Z"
    },
    "papermill": {
     "duration": 0.038051,
     "end_time": "2021-02-04T12:18:32.533767",
     "exception": false,
     "start_time": "2021-02-04T12:18:32.495716",
     "status": "completed"
    },
    "tags": []
   },
   "outputs": [],
   "source": [
    "#hide\n",
    "# g = g.rename(columns= {'continent':'group','country':'name','cases':'value'})"
   ]
  },
  {
   "cell_type": "code",
   "execution_count": 36,
   "id": "fleet-motorcycle",
   "metadata": {
    "execution": {
     "iopub.execute_input": "2021-02-04T12:18:32.604561Z",
     "iopub.status.busy": "2021-02-04T12:18:32.603911Z",
     "iopub.status.idle": "2021-02-04T12:18:32.606372Z",
     "shell.execute_reply": "2021-02-04T12:18:32.605839Z"
    },
    "papermill": {
     "duration": 0.040408,
     "end_time": "2021-02-04T12:18:32.606504",
     "exception": false,
     "start_time": "2021-02-04T12:18:32.566096",
     "status": "completed"
    },
    "tags": []
   },
   "outputs": [],
   "source": [
    "#hide\n",
    "# cols = ['name','group','day','value']"
   ]
  },
  {
   "cell_type": "code",
   "execution_count": 37,
   "id": "continued-sleeping",
   "metadata": {
    "execution": {
     "iopub.execute_input": "2021-02-04T12:18:32.673658Z",
     "iopub.status.busy": "2021-02-04T12:18:32.672876Z",
     "iopub.status.idle": "2021-02-04T12:18:32.674968Z",
     "shell.execute_reply": "2021-02-04T12:18:32.675424Z"
    },
    "papermill": {
     "duration": 0.037803,
     "end_time": "2021-02-04T12:18:32.675579",
     "exception": false,
     "start_time": "2021-02-04T12:18:32.637776",
     "status": "completed"
    },
    "tags": []
   },
   "outputs": [],
   "source": [
    "#hide\n",
    "# g.rename(columns= {'date':'day'},inplace = True)"
   ]
  },
  {
   "cell_type": "code",
   "execution_count": 38,
   "id": "major-fight",
   "metadata": {
    "execution": {
     "iopub.execute_input": "2021-02-04T12:18:32.744112Z",
     "iopub.status.busy": "2021-02-04T12:18:32.743449Z",
     "iopub.status.idle": "2021-02-04T12:18:32.745459Z",
     "shell.execute_reply": "2021-02-04T12:18:32.745926Z"
    },
    "papermill": {
     "duration": 0.037234,
     "end_time": "2021-02-04T12:18:32.746046",
     "exception": false,
     "start_time": "2021-02-04T12:18:32.708812",
     "status": "completed"
    },
    "tags": []
   },
   "outputs": [],
   "source": [
    "#hide\n",
    "# g = g[cols]"
   ]
  },
  {
   "cell_type": "code",
   "execution_count": 39,
   "id": "structured-mobile",
   "metadata": {
    "execution": {
     "iopub.execute_input": "2021-02-04T12:18:32.810710Z",
     "iopub.status.busy": "2021-02-04T12:18:32.810191Z",
     "iopub.status.idle": "2021-02-04T12:18:32.812454Z",
     "shell.execute_reply": "2021-02-04T12:18:32.811983Z"
    },
    "papermill": {
     "duration": 0.036146,
     "end_time": "2021-02-04T12:18:32.812581",
     "exception": false,
     "start_time": "2021-02-04T12:18:32.776435",
     "status": "completed"
    },
    "tags": []
   },
   "outputs": [],
   "source": [
    "# #hide\n",
    "# g = g[g.group.notna()]"
   ]
  },
  {
   "cell_type": "code",
   "execution_count": 40,
   "id": "determined-closing",
   "metadata": {
    "execution": {
     "iopub.execute_input": "2021-02-04T12:18:32.881345Z",
     "iopub.status.busy": "2021-02-04T12:18:32.880473Z",
     "iopub.status.idle": "2021-02-04T12:18:32.883157Z",
     "shell.execute_reply": "2021-02-04T12:18:32.882608Z"
    },
    "papermill": {
     "duration": 0.039283,
     "end_time": "2021-02-04T12:18:32.883309",
     "exception": false,
     "start_time": "2021-02-04T12:18:32.844026",
     "status": "completed"
    },
    "tags": []
   },
   "outputs": [],
   "source": [
    "# #hide\n",
    "# colors = dict(zip(\n",
    "#     [\"Oceania\", \"Europe\", \"Asia\", \"South America\", \"Middle East\", \"North America\", \"Africa\"],\n",
    "#     [\"#adb0ff\", \"#ffb3ff\", \"#90d595\", \"#e48381\", \"#aafbff\", \"#f7bb5f\", \"#eafb50\"]\n",
    "# ))\n",
    "# group_lk = g.set_index('name')['group'].to_dict()"
   ]
  },
  {
   "cell_type": "code",
   "execution_count": null,
   "id": "gross-drinking",
   "metadata": {
    "papermill": {
     "duration": 0.032542,
     "end_time": "2021-02-04T12:18:32.950827",
     "exception": false,
     "start_time": "2021-02-04T12:18:32.918285",
     "status": "completed"
    },
    "tags": []
   },
   "outputs": [],
   "source": []
  },
  {
   "cell_type": "code",
   "execution_count": 41,
   "id": "subject-macintosh",
   "metadata": {
    "execution": {
     "iopub.execute_input": "2021-02-04T12:18:33.020843Z",
     "iopub.status.busy": "2021-02-04T12:18:33.020234Z",
     "iopub.status.idle": "2021-02-04T12:18:33.022783Z",
     "shell.execute_reply": "2021-02-04T12:18:33.022337Z"
    },
    "papermill": {
     "duration": 0.039471,
     "end_time": "2021-02-04T12:18:33.022893",
     "exception": false,
     "start_time": "2021-02-04T12:18:32.983422",
     "status": "completed"
    },
    "tags": []
   },
   "outputs": [],
   "source": [
    "# #hide\n",
    "# fig, ax = plt.subplots(figsize=(15, 8))\n",
    "\n",
    "# def draw_barchart(current_day):\n",
    "#     dff = g[g['day'].eq(current_day)].sort_values(by='value', ascending=True).tail(10)\n",
    "#     ax.clear()\n",
    "#     ax.barh(dff['name'], dff['value'], color=[colors[group_lk[x]] for x in dff['name']])\n",
    "#     dx = dff['value'].max() / 200\n",
    "    \n",
    "#     for i, (value, name) in enumerate(zip(dff['value'], dff['name'])):\n",
    "#         ax.text(value-dx, i,     name,           size=14, weight=600, ha='right', va='bottom')\n",
    "#         ax.text(value-dx, i-.25, group_lk[name], size=10, color='#444444', ha='right', va='baseline')\n",
    "#         ax.text(value+dx, i,     f'{value:,.0f}',  size=14, ha='left',  va='center')\n",
    "#     ax.text(1, 0.4, current_day, transform=ax.transAxes, color='#777777', size=46, ha='right', weight=800)\n",
    "#     ax.text(0, 1.06, 'Population (thousands)', transform=ax.transAxes, size=12, color='#777777')\n",
    "#     ax.xaxis.set_major_formatter(ticker.StrMethodFormatter('{x:,.0f}'))\n",
    "#     ax.xaxis.set_ticks_position('top')\n",
    "#     ax.tick_params(axis='x', colors='#777777', labelsize=12)\n",
    "#     ax.set_yticks([])\n",
    "#     ax.margins(0, 0.01)\n",
    "#     ax.grid(which='major', axis='x', linestyle='-')\n",
    "#     ax.set_axisbelow(True)\n",
    "    \n",
    "#     ax.text(0, 1.15, 'Coronavirus',\n",
    "#             transform=ax.transAxes, size=24, weight=600, ha='left', va='top')\n",
    "# #     ax.text(1, 0, 'by @pratapvardhan; credit @jburnmurdoch', transform=ax.transAxes, color='#777777', ha='right',\n",
    "# #             bbox=dict(facecolor='white', alpha=0.8, edgecolor='white'))\n",
    "#     plt.box(False)"
   ]
  },
  {
   "cell_type": "code",
   "execution_count": 42,
   "id": "sexual-wages",
   "metadata": {
    "execution": {
     "iopub.execute_input": "2021-02-04T12:18:33.090938Z",
     "iopub.status.busy": "2021-02-04T12:18:33.090357Z",
     "iopub.status.idle": "2021-02-04T12:18:33.092260Z",
     "shell.execute_reply": "2021-02-04T12:18:33.092724Z"
    },
    "papermill": {
     "duration": 0.038107,
     "end_time": "2021-02-04T12:18:33.092843",
     "exception": false,
     "start_time": "2021-02-04T12:18:33.054736",
     "status": "completed"
    },
    "tags": []
   },
   "outputs": [],
   "source": [
    "# #hide_input\n",
    "# fig, ax = plt.subplots(figsize=(15, 8))\n",
    "# animator = animation.FuncAnimation(fig, draw_barchart, frames=range(g.day.values.min(), g.day.values.max()))\n",
    "# HTML(animator.to_jshtml())\n",
    "# # or use animator.to_html5_video() or animator.save() "
   ]
  },
  {
   "cell_type": "code",
   "execution_count": null,
   "id": "australian-container",
   "metadata": {
    "papermill": {
     "duration": 0.032116,
     "end_time": "2021-02-04T12:18:33.157485",
     "exception": false,
     "start_time": "2021-02-04T12:18:33.125369",
     "status": "completed"
    },
    "tags": []
   },
   "outputs": [],
   "source": []
  },
  {
   "cell_type": "code",
   "execution_count": null,
   "id": "mediterranean-pontiac",
   "metadata": {
    "papermill": {
     "duration": 0.031762,
     "end_time": "2021-02-04T12:18:33.229059",
     "exception": false,
     "start_time": "2021-02-04T12:18:33.197297",
     "status": "completed"
    },
    "tags": []
   },
   "outputs": [],
   "source": []
  },
  {
   "cell_type": "code",
   "execution_count": null,
   "id": "aging-legislature",
   "metadata": {
    "papermill": {
     "duration": 0.033022,
     "end_time": "2021-02-04T12:18:33.294340",
     "exception": false,
     "start_time": "2021-02-04T12:18:33.261318",
     "status": "completed"
    },
    "tags": []
   },
   "outputs": [],
   "source": []
  }
 ],
 "metadata": {
  "kernelspec": {
   "display_name": "Python 3",
   "language": "python",
   "name": "python3"
  },
  "language_info": {
   "codemirror_mode": {
    "name": "ipython",
    "version": 3
   },
   "file_extension": ".py",
   "mimetype": "text/x-python",
   "name": "python",
   "nbconvert_exporter": "python",
   "pygments_lexer": "ipython3",
   "version": "3.6.12"
  },
  "papermill": {
   "duration": 7.153998,
   "end_time": "2021-02-04T12:18:33.632995",
   "environment_variables": {},
   "exception": null,
   "input_path": "2020-03-21-covid19exp.ipynb",
   "output_path": "2020-03-21-covid19exp.ipynb",
   "parameters": {},
   "start_time": "2021-02-04T12:18:26.478997",
   "version": "2.0.0"
  }
 },
 "nbformat": 4,
 "nbformat_minor": 5
}