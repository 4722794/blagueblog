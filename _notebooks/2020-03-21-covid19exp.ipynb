{
 "cells": [
  {
   "cell_type": "markdown",
   "id": "muslim-click",
   "metadata": {
    "papermill": {
     "duration": 0.037232,
     "end_time": "2022-08-26T12:18:38.117863",
     "exception": false,
     "start_time": "2022-08-26T12:18:38.080631",
     "status": "completed"
    },
    "tags": []
   },
   "source": [
    "# COVID-19 Case Race\n",
    "> A race chart to see rising cases around the world\n",
    "\n",
    "- author: Hargun Oberoi\n",
    "- image: images/covid-overview.png\n",
    "- hide: false\n",
    "- badges: false"
   ]
  },
  {
   "cell_type": "code",
   "execution_count": 1,
   "id": "proof-material",
   "metadata": {
    "execution": {
     "iopub.execute_input": "2022-08-26T12:18:38.186674Z",
     "iopub.status.busy": "2022-08-26T12:18:38.186028Z",
     "iopub.status.idle": "2022-08-26T12:18:38.511918Z",
     "shell.execute_reply": "2022-08-26T12:18:38.511363Z"
    },
    "papermill": {
     "duration": 0.364486,
     "end_time": "2022-08-26T12:18:38.512055",
     "exception": false,
     "start_time": "2022-08-26T12:18:38.147569",
     "status": "completed"
    },
    "tags": []
   },
   "outputs": [],
   "source": [
    "#hide\n",
    "import numpy as np\n",
    "import pandas as pd\n",
    "from jinja2 import Template\n",
    "from IPython.display import HTML"
   ]
  },
  {
   "cell_type": "code",
   "execution_count": 2,
   "id": "developed-terminology",
   "metadata": {
    "execution": {
     "iopub.execute_input": "2022-08-26T12:18:38.574926Z",
     "iopub.status.busy": "2022-08-26T12:18:38.574305Z",
     "iopub.status.idle": "2022-08-26T12:18:38.576795Z",
     "shell.execute_reply": "2022-08-26T12:18:38.577266Z"
    },
    "papermill": {
     "duration": 0.036097,
     "end_time": "2022-08-26T12:18:38.577386",
     "exception": false,
     "start_time": "2022-08-26T12:18:38.541289",
     "status": "completed"
    },
    "tags": []
   },
   "outputs": [],
   "source": [
    "#hide\n",
    "\n",
    "# FETCH\n",
    "base_url = 'https://raw.githubusercontent.com/pratapvardhan/notebooks/master/covid19/'\n",
    "paths = {\n",
    "    'mapping': base_url + 'mapping_countries.csv',\n",
    "    'overview': base_url + 'overview.tpl'\n",
    "}"
   ]
  },
  {
   "cell_type": "code",
   "execution_count": 3,
   "id": "dynamic-saver",
   "metadata": {
    "execution": {
     "iopub.execute_input": "2022-08-26T12:18:38.644493Z",
     "iopub.status.busy": "2022-08-26T12:18:38.642648Z",
     "iopub.status.idle": "2022-08-26T12:18:38.647422Z",
     "shell.execute_reply": "2022-08-26T12:18:38.647841Z"
    },
    "papermill": {
     "duration": 0.041812,
     "end_time": "2022-08-26T12:18:38.647967",
     "exception": false,
     "start_time": "2022-08-26T12:18:38.606155",
     "status": "completed"
    },
    "tags": []
   },
   "outputs": [
    {
     "data": {
      "text/plain": [
       "'https://raw.githubusercontent.com/pratapvardhan/notebooks/master/covid19/mapping_countries.csv'"
      ]
     },
     "execution_count": 3,
     "metadata": {},
     "output_type": "execute_result"
    }
   ],
   "source": [
    "#hide\n",
    "paths['mapping']"
   ]
  },
  {
   "cell_type": "code",
   "execution_count": 4,
   "id": "urban-software",
   "metadata": {
    "execution": {
     "iopub.execute_input": "2022-08-26T12:18:38.711617Z",
     "iopub.status.busy": "2022-08-26T12:18:38.711026Z",
     "iopub.status.idle": "2022-08-26T12:18:38.713680Z",
     "shell.execute_reply": "2022-08-26T12:18:38.713209Z"
    },
    "papermill": {
     "duration": 0.03658,
     "end_time": "2022-08-26T12:18:38.713786",
     "exception": false,
     "start_time": "2022-08-26T12:18:38.677206",
     "status": "completed"
    },
    "tags": []
   },
   "outputs": [],
   "source": [
    "#hide\n",
    "def get_mappings(url):\n",
    "    df = pd.read_csv(url)\n",
    "    return {\n",
    "        'df': df,\n",
    "        'replace.country': dict(df.dropna(subset=['Name']).set_index('Country')['Name']),\n",
    "        'map.continent': dict(df.set_index('Name')['Continent'])\n",
    "    }"
   ]
  },
  {
   "cell_type": "code",
   "execution_count": 5,
   "id": "intimate-machinery",
   "metadata": {
    "execution": {
     "iopub.execute_input": "2022-08-26T12:18:38.777293Z",
     "iopub.status.busy": "2022-08-26T12:18:38.776717Z",
     "iopub.status.idle": "2022-08-26T12:18:38.838263Z",
     "shell.execute_reply": "2022-08-26T12:18:38.837702Z"
    },
    "papermill": {
     "duration": 0.095421,
     "end_time": "2022-08-26T12:18:38.838387",
     "exception": false,
     "start_time": "2022-08-26T12:18:38.742966",
     "status": "completed"
    },
    "tags": []
   },
   "outputs": [],
   "source": [
    "#hide\n",
    "mapping = get_mappings(paths['mapping'])"
   ]
  },
  {
   "cell_type": "code",
   "execution_count": 6,
   "id": "certified-tactics",
   "metadata": {
    "execution": {
     "iopub.execute_input": "2022-08-26T12:18:38.903369Z",
     "iopub.status.busy": "2022-08-26T12:18:38.902762Z",
     "iopub.status.idle": "2022-08-26T12:18:38.904135Z",
     "shell.execute_reply": "2022-08-26T12:18:38.904669Z"
    },
    "papermill": {
     "duration": 0.03657,
     "end_time": "2022-08-26T12:18:38.904794",
     "exception": false,
     "start_time": "2022-08-26T12:18:38.868224",
     "status": "completed"
    },
    "tags": []
   },
   "outputs": [],
   "source": [
    "#hide\n",
    "def get_template(path):\n",
    "    from urllib.parse import urlparse\n",
    "    if bool(urlparse(path).netloc):\n",
    "        from urllib.request import urlopen\n",
    "        return urlopen(path).read().decode('utf8')\n",
    "    return open(path).read()"
   ]
  },
  {
   "cell_type": "code",
   "execution_count": 7,
   "id": "realistic-blast",
   "metadata": {
    "execution": {
     "iopub.execute_input": "2022-08-26T12:18:38.968120Z",
     "iopub.status.busy": "2022-08-26T12:18:38.967530Z",
     "iopub.status.idle": "2022-08-26T12:18:38.969605Z",
     "shell.execute_reply": "2022-08-26T12:18:38.970074Z"
    },
    "papermill": {
     "duration": 0.036277,
     "end_time": "2022-08-26T12:18:38.970195",
     "exception": false,
     "start_time": "2022-08-26T12:18:38.933918",
     "status": "completed"
    },
    "tags": []
   },
   "outputs": [],
   "source": [
    "#hide\n",
    "def get_frame(name):\n",
    "    url = (\n",
    "        'https://raw.githubusercontent.com/CSSEGISandData/COVID-19/master/csse_covid_19_data/'\n",
    "        f'csse_covid_19_time_series/time_series_covid19_{name}_global.csv')\n",
    "    df = pd.read_csv(url)\n",
    "    # rename countries\n",
    "    df['Country/Region'] = df['Country/Region'].replace(mapping['replace.country'])\n",
    "    return df"
   ]
  },
  {
   "cell_type": "code",
   "execution_count": 8,
   "id": "affiliated-characterization",
   "metadata": {
    "execution": {
     "iopub.execute_input": "2022-08-26T12:18:39.035414Z",
     "iopub.status.busy": "2022-08-26T12:18:39.034814Z",
     "iopub.status.idle": "2022-08-26T12:18:39.037138Z",
     "shell.execute_reply": "2022-08-26T12:18:39.037693Z"
    },
    "papermill": {
     "duration": 0.037824,
     "end_time": "2022-08-26T12:18:39.037819",
     "exception": false,
     "start_time": "2022-08-26T12:18:38.999995",
     "status": "completed"
    },
    "tags": []
   },
   "outputs": [],
   "source": [
    "#hide\n",
    "def get_dates(df):\n",
    "    dt_cols = df.columns[~df.columns.isin(['Province/State', 'Country/Region', 'Lat', 'Long'])]\n",
    "    LAST_DATE_I = -1\n",
    "    # sometimes last column may be empty, then go backwards\n",
    "    for i in range(-1, -len(dt_cols), -1):\n",
    "        if not df[dt_cols[i]].fillna(0).eq(0).all():\n",
    "            LAST_DATE_I = i\n",
    "            break\n",
    "    return LAST_DATE_I, dt_cols"
   ]
  },
  {
   "cell_type": "code",
   "execution_count": 9,
   "id": "recent-optimization",
   "metadata": {
    "execution": {
     "iopub.execute_input": "2022-08-26T12:18:39.108041Z",
     "iopub.status.busy": "2022-08-26T12:18:39.107425Z",
     "iopub.status.idle": "2022-08-26T12:18:39.737863Z",
     "shell.execute_reply": "2022-08-26T12:18:39.736853Z"
    },
    "papermill": {
     "duration": 0.6703,
     "end_time": "2022-08-26T12:18:39.738000",
     "exception": false,
     "start_time": "2022-08-26T12:18:39.067700",
     "status": "completed"
    },
    "tags": []
   },
   "outputs": [],
   "source": [
    "#hide\n",
    "COL_REGION = 'Country/Region'\n",
    "# Confirmed, Recovered, Deaths\n",
    "df = get_frame('confirmed')\n",
    "# dft_: timeseries, dfc_: today country agg\n",
    "dft_cases = df\n",
    "dft_deaths = get_frame('deaths')\n",
    "dft_recovered = get_frame('recovered')\n",
    "LAST_DATE_I, dt_cols = get_dates(df)"
   ]
  },
  {
   "cell_type": "code",
   "execution_count": 10,
   "id": "absolute-copper",
   "metadata": {
    "execution": {
     "iopub.execute_input": "2022-08-26T12:18:39.808305Z",
     "iopub.status.busy": "2022-08-26T12:18:39.807247Z",
     "iopub.status.idle": "2022-08-26T12:18:39.808843Z",
     "shell.execute_reply": "2022-08-26T12:18:39.807828Z"
    },
    "papermill": {
     "duration": 0.041074,
     "end_time": "2022-08-26T12:18:39.808955",
     "exception": false,
     "start_time": "2022-08-26T12:18:39.767881",
     "status": "completed"
    },
    "tags": []
   },
   "outputs": [],
   "source": [
    "#hide\n",
    "LAST_DATE_I, dt_cols = get_dates(df)\n",
    "dt_today =dt_cols[LAST_DATE_I]\n",
    "# dt_5day = dt_cols[LAST_DATE_I - 5]\n",
    "dt_yday = dt_cols[LAST_DATE_I - 1]"
   ]
  },
  {
   "cell_type": "code",
   "execution_count": 11,
   "id": "restricted-sheriff",
   "metadata": {
    "execution": {
     "iopub.execute_input": "2022-08-26T12:18:39.873201Z",
     "iopub.status.busy": "2022-08-26T12:18:39.872620Z",
     "iopub.status.idle": "2022-08-26T12:18:39.880675Z",
     "shell.execute_reply": "2022-08-26T12:18:39.881149Z"
    },
    "papermill": {
     "duration": 0.043076,
     "end_time": "2022-08-26T12:18:39.881281",
     "exception": false,
     "start_time": "2022-08-26T12:18:39.838205",
     "status": "completed"
    },
    "tags": []
   },
   "outputs": [],
   "source": [
    "#hide\n",
    "dfc_cases = dft_cases.groupby(COL_REGION)[dt_today].sum()\n",
    "dfc_deaths = dft_deaths.groupby(COL_REGION)[dt_today].sum()\n",
    "# dfp_cases = dft_cases.groupby(COL_REGION)[dt_5day].sum()\n",
    "# dfp_deaths = dft_deaths.groupby(COL_REGION)[dt_5day].sum()\n",
    "dfp_cases = dft_cases.groupby(COL_REGION)[dt_yday].sum()\n",
    "dfp_deaths = dft_deaths.groupby(COL_REGION)[dt_yday].sum()"
   ]
  },
  {
   "cell_type": "code",
   "execution_count": 12,
   "id": "deluxe-hepatitis",
   "metadata": {
    "execution": {
     "iopub.execute_input": "2022-08-26T12:18:39.945469Z",
     "iopub.status.busy": "2022-08-26T12:18:39.944887Z",
     "iopub.status.idle": "2022-08-26T12:18:39.950218Z",
     "shell.execute_reply": "2022-08-26T12:18:39.950817Z"
    },
    "papermill": {
     "duration": 0.040376,
     "end_time": "2022-08-26T12:18:39.950949",
     "exception": false,
     "start_time": "2022-08-26T12:18:39.910573",
     "status": "completed"
    },
    "tags": []
   },
   "outputs": [],
   "source": [
    "#hide\n",
    "df_table = (pd.DataFrame(dict(Cases = dfc_cases, Deaths = dfc_deaths, PCases = dfp_cases, PDeaths = dfp_deaths))\n",
    "            .sort_values(by = ['Cases','Deaths'], ascending = [False, False])\n",
    "            .reset_index())"
   ]
  },
  {
   "cell_type": "code",
   "execution_count": 13,
   "id": "educational-chancellor",
   "metadata": {
    "execution": {
     "iopub.execute_input": "2022-08-26T12:18:40.027774Z",
     "iopub.status.busy": "2022-08-26T12:18:40.027180Z",
     "iopub.status.idle": "2022-08-26T12:18:40.035377Z",
     "shell.execute_reply": "2022-08-26T12:18:40.034799Z"
    },
    "papermill": {
     "duration": 0.054756,
     "end_time": "2022-08-26T12:18:40.035489",
     "exception": false,
     "start_time": "2022-08-26T12:18:39.980733",
     "status": "completed"
    },
    "tags": []
   },
   "outputs": [
    {
     "data": {
      "text/html": [
       "<div>\n",
       "<style scoped>\n",
       "    .dataframe tbody tr th:only-of-type {\n",
       "        vertical-align: middle;\n",
       "    }\n",
       "\n",
       "    .dataframe tbody tr th {\n",
       "        vertical-align: top;\n",
       "    }\n",
       "\n",
       "    .dataframe thead th {\n",
       "        text-align: right;\n",
       "    }\n",
       "</style>\n",
       "<table border=\"1\" class=\"dataframe\">\n",
       "  <thead>\n",
       "    <tr style=\"text-align: right;\">\n",
       "      <th></th>\n",
       "      <th>Country/Region</th>\n",
       "      <th>Cases</th>\n",
       "      <th>Deaths</th>\n",
       "      <th>PCases</th>\n",
       "      <th>PDeaths</th>\n",
       "      <th>Cases (+)</th>\n",
       "      <th>Deaths (+)</th>\n",
       "      <th>Fatality Rate</th>\n",
       "      <th>Continent</th>\n",
       "    </tr>\n",
       "  </thead>\n",
       "  <tbody>\n",
       "    <tr>\n",
       "      <th>0</th>\n",
       "      <td>US</td>\n",
       "      <td>94028125</td>\n",
       "      <td>1043089</td>\n",
       "      <td>93903269</td>\n",
       "      <td>1042494</td>\n",
       "      <td>124856</td>\n",
       "      <td>595</td>\n",
       "      <td>1.11</td>\n",
       "      <td>North America</td>\n",
       "    </tr>\n",
       "    <tr>\n",
       "      <th>1</th>\n",
       "      <td>India</td>\n",
       "      <td>44389176</td>\n",
       "      <td>527556</td>\n",
       "      <td>44378920</td>\n",
       "      <td>527488</td>\n",
       "      <td>10256</td>\n",
       "      <td>68</td>\n",
       "      <td>1.19</td>\n",
       "      <td>Asia</td>\n",
       "    </tr>\n",
       "    <tr>\n",
       "      <th>2</th>\n",
       "      <td>France</td>\n",
       "      <td>34644718</td>\n",
       "      <td>154846</td>\n",
       "      <td>34624825</td>\n",
       "      <td>154802</td>\n",
       "      <td>19893</td>\n",
       "      <td>44</td>\n",
       "      <td>0.45</td>\n",
       "      <td>Europe</td>\n",
       "    </tr>\n",
       "    <tr>\n",
       "      <th>3</th>\n",
       "      <td>Brazil</td>\n",
       "      <td>34350639</td>\n",
       "      <td>683233</td>\n",
       "      <td>34329600</td>\n",
       "      <td>683076</td>\n",
       "      <td>21039</td>\n",
       "      <td>157</td>\n",
       "      <td>1.99</td>\n",
       "      <td>South America</td>\n",
       "    </tr>\n",
       "    <tr>\n",
       "      <th>4</th>\n",
       "      <td>Germany</td>\n",
       "      <td>32008122</td>\n",
       "      <td>147003</td>\n",
       "      <td>31921578</td>\n",
       "      <td>146797</td>\n",
       "      <td>86544</td>\n",
       "      <td>206</td>\n",
       "      <td>0.46</td>\n",
       "      <td>Europe</td>\n",
       "    </tr>\n",
       "  </tbody>\n",
       "</table>\n",
       "</div>"
      ],
      "text/plain": [
       "  Country/Region     Cases   Deaths    PCases  PDeaths  Cases (+)  Deaths (+)  \\\n",
       "0             US  94028125  1043089  93903269  1042494     124856         595   \n",
       "1          India  44389176   527556  44378920   527488      10256          68   \n",
       "2         France  34644718   154846  34624825   154802      19893          44   \n",
       "3         Brazil  34350639   683233  34329600   683076      21039         157   \n",
       "4        Germany  32008122   147003  31921578   146797      86544         206   \n",
       "\n",
       "   Fatality Rate      Continent  \n",
       "0           1.11  North America  \n",
       "1           1.19           Asia  \n",
       "2           0.45         Europe  \n",
       "3           1.99  South America  \n",
       "4           0.46         Europe  "
      ]
     },
     "execution_count": 13,
     "metadata": {},
     "output_type": "execute_result"
    }
   ],
   "source": [
    "#hide\n",
    "for c in 'Cases, Deaths'.split(', '):\n",
    "    df_table[f'{c} (+)'] = (df_table[c] - df_table[f'P{c}']).clip(0)\n",
    "    #Clip ça veut dire, les chiffres negatif sont interdit\n",
    "df_table['Fatality Rate'] = (100* df_table['Deaths']/ df_table['Cases']).round(2)\n",
    "df_table['Continent'] = df_table['Country/Region'].map(mapping['map.continent'])\n",
    "df_table.head(5)"
   ]
  },
  {
   "cell_type": "code",
   "execution_count": 14,
   "id": "aboriginal-bulgaria",
   "metadata": {
    "execution": {
     "iopub.execute_input": "2022-08-26T12:18:40.105051Z",
     "iopub.status.busy": "2022-08-26T12:18:40.104434Z",
     "iopub.status.idle": "2022-08-26T12:18:40.107183Z",
     "shell.execute_reply": "2022-08-26T12:18:40.107610Z"
    },
    "papermill": {
     "duration": 0.042224,
     "end_time": "2022-08-26T12:18:40.107744",
     "exception": false,
     "start_time": "2022-08-26T12:18:40.065520",
     "status": "completed"
    },
    "tags": []
   },
   "outputs": [],
   "source": [
    "#hide\n",
    "#delete problematic countries from table\n",
    "df_table = df_table[~df_table['Country/Region'].isin(['Cape Verde', 'Cruise Ship', 'Kosovo'])]"
   ]
  },
  {
   "cell_type": "code",
   "execution_count": 15,
   "id": "fantastic-effect",
   "metadata": {
    "execution": {
     "iopub.execute_input": "2022-08-26T12:18:40.175607Z",
     "iopub.status.busy": "2022-08-26T12:18:40.175009Z",
     "iopub.status.idle": "2022-08-26T12:18:40.192334Z",
     "shell.execute_reply": "2022-08-26T12:18:40.192810Z"
    },
    "papermill": {
     "duration": 0.055553,
     "end_time": "2022-08-26T12:18:40.192940",
     "exception": false,
     "start_time": "2022-08-26T12:18:40.137387",
     "status": "completed"
    },
    "tags": []
   },
   "outputs": [
    {
     "data": {
      "text/html": [
       "<div>\n",
       "<style scoped>\n",
       "    .dataframe tbody tr th:only-of-type {\n",
       "        vertical-align: middle;\n",
       "    }\n",
       "\n",
       "    .dataframe tbody tr th {\n",
       "        vertical-align: top;\n",
       "    }\n",
       "\n",
       "    .dataframe thead th {\n",
       "        text-align: right;\n",
       "    }\n",
       "</style>\n",
       "<table border=\"1\" class=\"dataframe\">\n",
       "  <thead>\n",
       "    <tr style=\"text-align: right;\">\n",
       "      <th></th>\n",
       "      <th>Country/Region</th>\n",
       "      <th>Cases</th>\n",
       "      <th>Deaths</th>\n",
       "      <th>PCases</th>\n",
       "      <th>PDeaths</th>\n",
       "      <th>Cases (+)</th>\n",
       "      <th>Deaths (+)</th>\n",
       "      <th>Fatality Rate</th>\n",
       "      <th>Continent</th>\n",
       "    </tr>\n",
       "  </thead>\n",
       "  <tbody>\n",
       "    <tr>\n",
       "      <th>0</th>\n",
       "      <td>US</td>\n",
       "      <td>94028125</td>\n",
       "      <td>1043089</td>\n",
       "      <td>93903269</td>\n",
       "      <td>1042494</td>\n",
       "      <td>124856</td>\n",
       "      <td>595</td>\n",
       "      <td>1.1</td>\n",
       "      <td>North America</td>\n",
       "    </tr>\n",
       "    <tr>\n",
       "      <th>1</th>\n",
       "      <td>India</td>\n",
       "      <td>44389176</td>\n",
       "      <td>527556</td>\n",
       "      <td>44378920</td>\n",
       "      <td>527488</td>\n",
       "      <td>10256</td>\n",
       "      <td>68</td>\n",
       "      <td>1.2</td>\n",
       "      <td>Asia</td>\n",
       "    </tr>\n",
       "    <tr>\n",
       "      <th>2</th>\n",
       "      <td>France</td>\n",
       "      <td>34644718</td>\n",
       "      <td>154846</td>\n",
       "      <td>34624825</td>\n",
       "      <td>154802</td>\n",
       "      <td>19893</td>\n",
       "      <td>44</td>\n",
       "      <td>0.4</td>\n",
       "      <td>Europe</td>\n",
       "    </tr>\n",
       "    <tr>\n",
       "      <th>3</th>\n",
       "      <td>Brazil</td>\n",
       "      <td>34350639</td>\n",
       "      <td>683233</td>\n",
       "      <td>34329600</td>\n",
       "      <td>683076</td>\n",
       "      <td>21039</td>\n",
       "      <td>157</td>\n",
       "      <td>2.0</td>\n",
       "      <td>South America</td>\n",
       "    </tr>\n",
       "    <tr>\n",
       "      <th>4</th>\n",
       "      <td>Germany</td>\n",
       "      <td>32008122</td>\n",
       "      <td>147003</td>\n",
       "      <td>31921578</td>\n",
       "      <td>146797</td>\n",
       "      <td>86544</td>\n",
       "      <td>206</td>\n",
       "      <td>0.5</td>\n",
       "      <td>Europe</td>\n",
       "    </tr>\n",
       "  </tbody>\n",
       "</table>\n",
       "</div>"
      ],
      "text/plain": [
       "  Country/Region     Cases   Deaths    PCases  PDeaths  Cases (+)  Deaths (+)  \\\n",
       "0             US  94028125  1043089  93903269  1042494     124856         595   \n",
       "1          India  44389176   527556  44378920   527488      10256          68   \n",
       "2         France  34644718   154846  34624825   154802      19893          44   \n",
       "3         Brazil  34350639   683233  34329600   683076      21039         157   \n",
       "4        Germany  32008122   147003  31921578   146797      86544         206   \n",
       "\n",
       "   Fatality Rate      Continent  \n",
       "0            1.1  North America  \n",
       "1            1.2           Asia  \n",
       "2            0.4         Europe  \n",
       "3            2.0  South America  \n",
       "4            0.5         Europe  "
      ]
     },
     "execution_count": 15,
     "metadata": {},
     "output_type": "execute_result"
    }
   ],
   "source": [
    "#hide\n",
    "df_table = (pd.DataFrame(dict(Cases=dfc_cases, Deaths=dfc_deaths, PCases=dfp_cases, PDeaths=dfp_deaths))\n",
    "             .sort_values(by=['Cases', 'Deaths'], ascending=[False, False])\n",
    "             .reset_index())\n",
    "df_table.rename(columns={'index': 'Country/Region'}, inplace=True)\n",
    "for c in 'Cases, Deaths'.split(', '):\n",
    "    df_table[f'{c} (+)'] = (df_table[c] - df_table[f'P{c}']).clip(0)  # DATA BUG\n",
    "df_table['Fatality Rate'] = (100 * df_table['Deaths'] / df_table['Cases']).round(1)\n",
    "df_table['Continent'] = df_table['Country/Region'].map(mapping['map.continent'])\n",
    "df_table.head(5)"
   ]
  },
  {
   "cell_type": "code",
   "execution_count": 16,
   "id": "fewer-occasion",
   "metadata": {
    "execution": {
     "iopub.execute_input": "2022-08-26T12:18:40.263772Z",
     "iopub.status.busy": "2022-08-26T12:18:40.263183Z",
     "iopub.status.idle": "2022-08-26T12:18:40.266272Z",
     "shell.execute_reply": "2022-08-26T12:18:40.266726Z"
    },
    "papermill": {
     "duration": 0.039298,
     "end_time": "2022-08-26T12:18:40.266862",
     "exception": false,
     "start_time": "2022-08-26T12:18:40.227564",
     "status": "completed"
    },
    "tags": []
   },
   "outputs": [],
   "source": [
    "#hide\n",
    "#delete problematic countries from table\n",
    "df_table = df_table[~df_table['Country/Region'].isin(['Cape Verde', 'Cruise Ship', 'Kosovo'])]"
   ]
  },
  {
   "cell_type": "code",
   "execution_count": 17,
   "id": "related-center",
   "metadata": {
    "execution": {
     "iopub.execute_input": "2022-08-26T12:18:40.338059Z",
     "iopub.status.busy": "2022-08-26T12:18:40.337477Z",
     "iopub.status.idle": "2022-08-26T12:18:40.350877Z",
     "shell.execute_reply": "2022-08-26T12:18:40.350372Z"
    },
    "papermill": {
     "duration": 0.053834,
     "end_time": "2022-08-26T12:18:40.350989",
     "exception": false,
     "start_time": "2022-08-26T12:18:40.297155",
     "status": "completed"
    },
    "tags": []
   },
   "outputs": [],
   "source": [
    "#hide\n",
    "metrics = [df_table.columns[index] for index in [1,2,5,6]]\n",
    "# s_china = df_table[df_table['Country/Region'].eq('China')][metrics].sum().add_prefix('China ')\n",
    "s_us = df_table[df_table['Country/Region'].eq('US')][metrics].sum().add_prefix('US ')\n",
    "s_eu = df_table[df_table['Continent'].eq('Europe')][metrics].sum().add_prefix('EU ')\n",
    "s_ind = df_table[df_table['Country/Region'].eq('India')][metrics].sum().add_prefix('India ')\n",
    "summary = {'updated': pd.to_datetime(dt_today), 'since': pd.to_datetime(dt_yday)}\n",
    "summary = {'updated': pd.to_datetime(dt_today), 'since': pd.to_datetime(dt_yday)}\n",
    "summary = {**summary, **df_table[metrics].sum(), **s_ind, **s_us, **s_eu}"
   ]
  },
  {
   "cell_type": "code",
   "execution_count": 18,
   "id": "engaging-syndrome",
   "metadata": {
    "execution": {
     "iopub.execute_input": "2022-08-26T12:18:40.420471Z",
     "iopub.status.busy": "2022-08-26T12:18:40.419885Z",
     "iopub.status.idle": "2022-08-26T12:18:40.442943Z",
     "shell.execute_reply": "2022-08-26T12:18:40.442370Z"
    },
    "papermill": {
     "duration": 0.061703,
     "end_time": "2022-08-26T12:18:40.443068",
     "exception": false,
     "start_time": "2022-08-26T12:18:40.381365",
     "status": "completed"
    },
    "tags": []
   },
   "outputs": [],
   "source": [
    "#hide\n",
    "dft_ct_new_cases = dft_cases.groupby(COL_REGION)[dt_cols].sum().diff(axis=1).fillna(0).astype(int)"
   ]
  },
  {
   "cell_type": "code",
   "execution_count": 19,
   "id": "neutral-assignment",
   "metadata": {
    "execution": {
     "iopub.execute_input": "2022-08-26T12:18:40.510307Z",
     "iopub.status.busy": "2022-08-26T12:18:40.509716Z",
     "iopub.status.idle": "2022-08-26T12:18:40.512155Z",
     "shell.execute_reply": "2022-08-26T12:18:40.512584Z"
    },
    "papermill": {
     "duration": 0.039188,
     "end_time": "2022-08-26T12:18:40.512714",
     "exception": false,
     "start_time": "2022-08-26T12:18:40.473526",
     "status": "completed"
    },
    "tags": []
   },
   "outputs": [],
   "source": [
    "#hide\n",
    "everydaycases = dft_ct_new_cases.cumsum(axis=1)"
   ]
  },
  {
   "cell_type": "code",
   "execution_count": 20,
   "id": "parliamentary-calgary",
   "metadata": {
    "execution": {
     "iopub.execute_input": "2022-08-26T12:18:40.577480Z",
     "iopub.status.busy": "2022-08-26T12:18:40.576900Z",
     "iopub.status.idle": "2022-08-26T12:18:41.135261Z",
     "shell.execute_reply": "2022-08-26T12:18:41.134679Z"
    },
    "papermill": {
     "duration": 0.592512,
     "end_time": "2022-08-26T12:18:41.135403",
     "exception": false,
     "start_time": "2022-08-26T12:18:40.542891",
     "status": "completed"
    },
    "tags": []
   },
   "outputs": [],
   "source": [
    "#hide\n",
    "import pandas as pd\n",
    "import matplotlib.pyplot as plt\n",
    "import matplotlib.ticker as ticker\n",
    "import matplotlib.animation as animation\n",
    "from IPython.display import HTML"
   ]
  },
  {
   "cell_type": "code",
   "execution_count": 21,
   "id": "lasting-extraction",
   "metadata": {
    "execution": {
     "iopub.execute_input": "2022-08-26T12:18:41.202682Z",
     "iopub.status.busy": "2022-08-26T12:18:41.202040Z",
     "iopub.status.idle": "2022-08-26T12:18:41.209262Z",
     "shell.execute_reply": "2022-08-26T12:18:41.208787Z"
    },
    "papermill": {
     "duration": 0.043565,
     "end_time": "2022-08-26T12:18:41.209373",
     "exception": false,
     "start_time": "2022-08-26T12:18:41.165808",
     "status": "completed"
    },
    "tags": []
   },
   "outputs": [],
   "source": [
    "#hide\n",
    "t = everydaycases.stack()"
   ]
  },
  {
   "cell_type": "code",
   "execution_count": 22,
   "id": "premier-sleeve",
   "metadata": {
    "execution": {
     "iopub.execute_input": "2022-08-26T12:18:41.274627Z",
     "iopub.status.busy": "2022-08-26T12:18:41.274013Z",
     "iopub.status.idle": "2022-08-26T12:18:41.285955Z",
     "shell.execute_reply": "2022-08-26T12:18:41.286430Z"
    },
    "papermill": {
     "duration": 0.046796,
     "end_time": "2022-08-26T12:18:41.286580",
     "exception": false,
     "start_time": "2022-08-26T12:18:41.239784",
     "status": "completed"
    },
    "tags": []
   },
   "outputs": [],
   "source": [
    "#hide\n",
    "g = t.reset_index(['Country/Region'])"
   ]
  },
  {
   "cell_type": "code",
   "execution_count": 23,
   "id": "distributed-pittsburgh",
   "metadata": {
    "execution": {
     "iopub.execute_input": "2022-08-26T12:18:41.351083Z",
     "iopub.status.busy": "2022-08-26T12:18:41.350476Z",
     "iopub.status.idle": "2022-08-26T12:18:41.352854Z",
     "shell.execute_reply": "2022-08-26T12:18:41.353389Z"
    },
    "papermill": {
     "duration": 0.036754,
     "end_time": "2022-08-26T12:18:41.353511",
     "exception": false,
     "start_time": "2022-08-26T12:18:41.316757",
     "status": "completed"
    },
    "tags": []
   },
   "outputs": [],
   "source": [
    "#hide\n",
    "g.index.name = 'date'"
   ]
  },
  {
   "cell_type": "code",
   "execution_count": 24,
   "id": "naked-donor",
   "metadata": {
    "execution": {
     "iopub.execute_input": "2022-08-26T12:18:41.420105Z",
     "iopub.status.busy": "2022-08-26T12:18:41.419521Z",
     "iopub.status.idle": "2022-08-26T12:18:41.425166Z",
     "shell.execute_reply": "2022-08-26T12:18:41.425632Z"
    },
    "papermill": {
     "duration": 0.042047,
     "end_time": "2022-08-26T12:18:41.425759",
     "exception": false,
     "start_time": "2022-08-26T12:18:41.383712",
     "status": "completed"
    },
    "tags": []
   },
   "outputs": [],
   "source": [
    "# #hide\n",
    "# g = g.reset_index(['date'])"
   ]
  },
  {
   "cell_type": "code",
   "execution_count": 25,
   "id": "incomplete-mustang",
   "metadata": {
    "execution": {
     "iopub.execute_input": "2022-08-26T12:18:41.501902Z",
     "iopub.status.busy": "2022-08-26T12:18:41.499858Z",
     "iopub.status.idle": "2022-08-26T12:18:41.503378Z",
     "shell.execute_reply": "2022-08-26T12:18:41.503830Z"
    },
    "papermill": {
     "duration": 0.046795,
     "end_time": "2022-08-26T12:18:41.503959",
     "exception": false,
     "start_time": "2022-08-26T12:18:41.457164",
     "status": "completed"
    },
    "tags": []
   },
   "outputs": [],
   "source": [
    "#hide\n",
    "# g.head()"
   ]
  },
  {
   "cell_type": "code",
   "execution_count": 26,
   "id": "specific-kruger",
   "metadata": {
    "execution": {
     "iopub.execute_input": "2022-08-26T12:18:41.601702Z",
     "iopub.status.busy": "2022-08-26T12:18:41.601033Z",
     "iopub.status.idle": "2022-08-26T12:18:41.606117Z",
     "shell.execute_reply": "2022-08-26T12:18:41.606653Z"
    },
    "papermill": {
     "duration": 0.069284,
     "end_time": "2022-08-26T12:18:41.606817",
     "exception": false,
     "start_time": "2022-08-26T12:18:41.537533",
     "status": "completed"
    },
    "tags": []
   },
   "outputs": [],
   "source": [
    "#hide\n",
    "# g.columns = ['date','country','cases']"
   ]
  },
  {
   "cell_type": "code",
   "execution_count": 27,
   "id": "tender-conversion",
   "metadata": {
    "execution": {
     "iopub.execute_input": "2022-08-26T12:18:41.708730Z",
     "iopub.status.busy": "2022-08-26T12:18:41.708052Z",
     "iopub.status.idle": "2022-08-26T12:18:41.710594Z",
     "shell.execute_reply": "2022-08-26T12:18:41.709941Z"
    },
    "papermill": {
     "duration": 0.071661,
     "end_time": "2022-08-26T12:18:41.710732",
     "exception": false,
     "start_time": "2022-08-26T12:18:41.639071",
     "status": "completed"
    },
    "tags": []
   },
   "outputs": [],
   "source": [
    "#hide\n",
    "# g['continent'] = g.country"
   ]
  },
  {
   "cell_type": "code",
   "execution_count": 28,
   "id": "substantial-wilderness",
   "metadata": {
    "execution": {
     "iopub.execute_input": "2022-08-26T12:18:41.845688Z",
     "iopub.status.busy": "2022-08-26T12:18:41.845096Z",
     "iopub.status.idle": "2022-08-26T12:18:41.847725Z",
     "shell.execute_reply": "2022-08-26T12:18:41.847225Z"
    },
    "papermill": {
     "duration": 0.046761,
     "end_time": "2022-08-26T12:18:41.847836",
     "exception": false,
     "start_time": "2022-08-26T12:18:41.801075",
     "status": "completed"
    },
    "tags": []
   },
   "outputs": [],
   "source": [
    "#hide\n",
    "# cols = list(g.columns.values)"
   ]
  },
  {
   "cell_type": "code",
   "execution_count": 29,
   "id": "solved-farming",
   "metadata": {
    "execution": {
     "iopub.execute_input": "2022-08-26T12:18:41.948749Z",
     "iopub.status.busy": "2022-08-26T12:18:41.947841Z",
     "iopub.status.idle": "2022-08-26T12:18:41.949907Z",
     "shell.execute_reply": "2022-08-26T12:18:41.949375Z"
    },
    "papermill": {
     "duration": 0.048402,
     "end_time": "2022-08-26T12:18:41.950032",
     "exception": false,
     "start_time": "2022-08-26T12:18:41.901630",
     "status": "completed"
    },
    "tags": []
   },
   "outputs": [],
   "source": [
    "#hide\n",
    "# cols.insert(0, cols.pop())"
   ]
  },
  {
   "cell_type": "code",
   "execution_count": 30,
   "id": "executed-adoption",
   "metadata": {
    "execution": {
     "iopub.execute_input": "2022-08-26T12:18:42.023164Z",
     "iopub.status.busy": "2022-08-26T12:18:42.022533Z",
     "iopub.status.idle": "2022-08-26T12:18:42.025959Z",
     "shell.execute_reply": "2022-08-26T12:18:42.025483Z"
    },
    "papermill": {
     "duration": 0.043537,
     "end_time": "2022-08-26T12:18:42.026072",
     "exception": false,
     "start_time": "2022-08-26T12:18:41.982535",
     "status": "completed"
    },
    "tags": []
   },
   "outputs": [],
   "source": [
    "#hide\n",
    "# g = g[cols]"
   ]
  },
  {
   "cell_type": "code",
   "execution_count": 31,
   "id": "subject-dublin",
   "metadata": {
    "execution": {
     "iopub.execute_input": "2022-08-26T12:18:42.152354Z",
     "iopub.status.busy": "2022-08-26T12:18:42.151513Z",
     "iopub.status.idle": "2022-08-26T12:18:42.153491Z",
     "shell.execute_reply": "2022-08-26T12:18:42.152962Z"
    },
    "papermill": {
     "duration": 0.068892,
     "end_time": "2022-08-26T12:18:42.153617",
     "exception": false,
     "start_time": "2022-08-26T12:18:42.084725",
     "status": "completed"
    },
    "tags": []
   },
   "outputs": [],
   "source": [
    "#hide\n",
    "# g['continent'] = g['continent'].map(mapping['map.continent'])"
   ]
  },
  {
   "cell_type": "code",
   "execution_count": 32,
   "id": "freelance-scout",
   "metadata": {
    "execution": {
     "iopub.execute_input": "2022-08-26T12:18:42.343162Z",
     "iopub.status.busy": "2022-08-26T12:18:42.342436Z",
     "iopub.status.idle": "2022-08-26T12:18:42.344751Z",
     "shell.execute_reply": "2022-08-26T12:18:42.345269Z"
    },
    "papermill": {
     "duration": 0.15075,
     "end_time": "2022-08-26T12:18:42.345412",
     "exception": false,
     "start_time": "2022-08-26T12:18:42.194662",
     "status": "completed"
    },
    "tags": []
   },
   "outputs": [],
   "source": [
    "#hide\n",
    "# g.head()"
   ]
  },
  {
   "cell_type": "code",
   "execution_count": 33,
   "id": "limited-engine",
   "metadata": {
    "execution": {
     "iopub.execute_input": "2022-08-26T12:18:42.410318Z",
     "iopub.status.busy": "2022-08-26T12:18:42.409701Z",
     "iopub.status.idle": "2022-08-26T12:18:42.412342Z",
     "shell.execute_reply": "2022-08-26T12:18:42.411771Z"
    },
    "papermill": {
     "duration": 0.036428,
     "end_time": "2022-08-26T12:18:42.412454",
     "exception": false,
     "start_time": "2022-08-26T12:18:42.376026",
     "status": "completed"
    },
    "tags": []
   },
   "outputs": [],
   "source": [
    "# hide\n",
    "# g['date'] = g['date'].astype('datetime64[ns]')"
   ]
  },
  {
   "cell_type": "code",
   "execution_count": 34,
   "id": "sophisticated-supervisor",
   "metadata": {
    "execution": {
     "iopub.execute_input": "2022-08-26T12:18:42.477832Z",
     "iopub.status.busy": "2022-08-26T12:18:42.477139Z",
     "iopub.status.idle": "2022-08-26T12:18:42.479751Z",
     "shell.execute_reply": "2022-08-26T12:18:42.479103Z"
    },
    "papermill": {
     "duration": 0.036689,
     "end_time": "2022-08-26T12:18:42.479874",
     "exception": false,
     "start_time": "2022-08-26T12:18:42.443185",
     "status": "completed"
    },
    "tags": []
   },
   "outputs": [],
   "source": [
    "#hide\n",
    "# g['date'] = g.date.dt.dayofyear"
   ]
  },
  {
   "cell_type": "code",
   "execution_count": 35,
   "id": "inside-dubai",
   "metadata": {
    "execution": {
     "iopub.execute_input": "2022-08-26T12:18:42.545001Z",
     "iopub.status.busy": "2022-08-26T12:18:42.544295Z",
     "iopub.status.idle": "2022-08-26T12:18:42.546971Z",
     "shell.execute_reply": "2022-08-26T12:18:42.546281Z"
    },
    "papermill": {
     "duration": 0.03683,
     "end_time": "2022-08-26T12:18:42.547096",
     "exception": false,
     "start_time": "2022-08-26T12:18:42.510266",
     "status": "completed"
    },
    "tags": []
   },
   "outputs": [],
   "source": [
    "#hide\n",
    "# g = g.rename(columns= {'continent':'group','country':'name','cases':'value'})"
   ]
  },
  {
   "cell_type": "code",
   "execution_count": 36,
   "id": "fleet-motorcycle",
   "metadata": {
    "execution": {
     "iopub.execute_input": "2022-08-26T12:18:42.612755Z",
     "iopub.status.busy": "2022-08-26T12:18:42.611975Z",
     "iopub.status.idle": "2022-08-26T12:18:42.614950Z",
     "shell.execute_reply": "2022-08-26T12:18:42.614346Z"
    },
    "papermill": {
     "duration": 0.036965,
     "end_time": "2022-08-26T12:18:42.615061",
     "exception": false,
     "start_time": "2022-08-26T12:18:42.578096",
     "status": "completed"
    },
    "tags": []
   },
   "outputs": [],
   "source": [
    "#hide\n",
    "# cols = ['name','group','day','value']"
   ]
  },
  {
   "cell_type": "code",
   "execution_count": 37,
   "id": "continued-sleeping",
   "metadata": {
    "execution": {
     "iopub.execute_input": "2022-08-26T12:18:42.679408Z",
     "iopub.status.busy": "2022-08-26T12:18:42.678724Z",
     "iopub.status.idle": "2022-08-26T12:18:42.681236Z",
     "shell.execute_reply": "2022-08-26T12:18:42.680698Z"
    },
    "papermill": {
     "duration": 0.036086,
     "end_time": "2022-08-26T12:18:42.681356",
     "exception": false,
     "start_time": "2022-08-26T12:18:42.645270",
     "status": "completed"
    },
    "tags": []
   },
   "outputs": [],
   "source": [
    "#hide\n",
    "# g.rename(columns= {'date':'day'},inplace = True)"
   ]
  },
  {
   "cell_type": "code",
   "execution_count": 38,
   "id": "major-fight",
   "metadata": {
    "execution": {
     "iopub.execute_input": "2022-08-26T12:18:42.746291Z",
     "iopub.status.busy": "2022-08-26T12:18:42.745673Z",
     "iopub.status.idle": "2022-08-26T12:18:42.749618Z",
     "shell.execute_reply": "2022-08-26T12:18:42.749143Z"
    },
    "papermill": {
     "duration": 0.037712,
     "end_time": "2022-08-26T12:18:42.749726",
     "exception": false,
     "start_time": "2022-08-26T12:18:42.712014",
     "status": "completed"
    },
    "tags": []
   },
   "outputs": [],
   "source": [
    "#hide\n",
    "# g = g[cols]"
   ]
  },
  {
   "cell_type": "code",
   "execution_count": 39,
   "id": "structured-mobile",
   "metadata": {
    "execution": {
     "iopub.execute_input": "2022-08-26T12:18:42.814571Z",
     "iopub.status.busy": "2022-08-26T12:18:42.813831Z",
     "iopub.status.idle": "2022-08-26T12:18:42.816345Z",
     "shell.execute_reply": "2022-08-26T12:18:42.815864Z"
    },
    "papermill": {
     "duration": 0.036478,
     "end_time": "2022-08-26T12:18:42.816453",
     "exception": false,
     "start_time": "2022-08-26T12:18:42.779975",
     "status": "completed"
    },
    "tags": []
   },
   "outputs": [],
   "source": [
    "# #hide\n",
    "# g = g[g.group.notna()]"
   ]
  },
  {
   "cell_type": "code",
   "execution_count": 40,
   "id": "determined-closing",
   "metadata": {
    "execution": {
     "iopub.execute_input": "2022-08-26T12:18:42.881545Z",
     "iopub.status.busy": "2022-08-26T12:18:42.880929Z",
     "iopub.status.idle": "2022-08-26T12:18:42.883540Z",
     "shell.execute_reply": "2022-08-26T12:18:42.883065Z"
    },
    "papermill": {
     "duration": 0.036824,
     "end_time": "2022-08-26T12:18:42.883650",
     "exception": false,
     "start_time": "2022-08-26T12:18:42.846826",
     "status": "completed"
    },
    "tags": []
   },
   "outputs": [],
   "source": [
    "# #hide\n",
    "# colors = dict(zip(\n",
    "#     [\"Oceania\", \"Europe\", \"Asia\", \"South America\", \"Middle East\", \"North America\", \"Africa\"],\n",
    "#     [\"#adb0ff\", \"#ffb3ff\", \"#90d595\", \"#e48381\", \"#aafbff\", \"#f7bb5f\", \"#eafb50\"]\n",
    "# ))\n",
    "# group_lk = g.set_index('name')['group'].to_dict()"
   ]
  },
  {
   "cell_type": "code",
   "execution_count": null,
   "id": "gross-drinking",
   "metadata": {
    "papermill": {
     "duration": 0.030219,
     "end_time": "2022-08-26T12:18:42.944268",
     "exception": false,
     "start_time": "2022-08-26T12:18:42.914049",
     "status": "completed"
    },
    "tags": []
   },
   "outputs": [],
   "source": []
  },
  {
   "cell_type": "code",
   "execution_count": 41,
   "id": "subject-macintosh",
   "metadata": {
    "execution": {
     "iopub.execute_input": "2022-08-26T12:18:43.009715Z",
     "iopub.status.busy": "2022-08-26T12:18:43.009074Z",
     "iopub.status.idle": "2022-08-26T12:18:43.011617Z",
     "shell.execute_reply": "2022-08-26T12:18:43.011142Z"
    },
    "papermill": {
     "duration": 0.037003,
     "end_time": "2022-08-26T12:18:43.011726",
     "exception": false,
     "start_time": "2022-08-26T12:18:42.974723",
     "status": "completed"
    },
    "tags": []
   },
   "outputs": [],
   "source": [
    "# #hide\n",
    "# fig, ax = plt.subplots(figsize=(15, 8))\n",
    "\n",
    "# def draw_barchart(current_day):\n",
    "#     dff = g[g['day'].eq(current_day)].sort_values(by='value', ascending=True).tail(10)\n",
    "#     ax.clear()\n",
    "#     ax.barh(dff['name'], dff['value'], color=[colors[group_lk[x]] for x in dff['name']])\n",
    "#     dx = dff['value'].max() / 200\n",
    "    \n",
    "#     for i, (value, name) in enumerate(zip(dff['value'], dff['name'])):\n",
    "#         ax.text(value-dx, i,     name,           size=14, weight=600, ha='right', va='bottom')\n",
    "#         ax.text(value-dx, i-.25, group_lk[name], size=10, color='#444444', ha='right', va='baseline')\n",
    "#         ax.text(value+dx, i,     f'{value:,.0f}',  size=14, ha='left',  va='center')\n",
    "#     ax.text(1, 0.4, current_day, transform=ax.transAxes, color='#777777', size=46, ha='right', weight=800)\n",
    "#     ax.text(0, 1.06, 'Population (thousands)', transform=ax.transAxes, size=12, color='#777777')\n",
    "#     ax.xaxis.set_major_formatter(ticker.StrMethodFormatter('{x:,.0f}'))\n",
    "#     ax.xaxis.set_ticks_position('top')\n",
    "#     ax.tick_params(axis='x', colors='#777777', labelsize=12)\n",
    "#     ax.set_yticks([])\n",
    "#     ax.margins(0, 0.01)\n",
    "#     ax.grid(which='major', axis='x', linestyle='-')\n",
    "#     ax.set_axisbelow(True)\n",
    "    \n",
    "#     ax.text(0, 1.15, 'Coronavirus',\n",
    "#             transform=ax.transAxes, size=24, weight=600, ha='left', va='top')\n",
    "# #     ax.text(1, 0, 'by @pratapvardhan; credit @jburnmurdoch', transform=ax.transAxes, color='#777777', ha='right',\n",
    "# #             bbox=dict(facecolor='white', alpha=0.8, edgecolor='white'))\n",
    "#     plt.box(False)"
   ]
  },
  {
   "cell_type": "code",
   "execution_count": 42,
   "id": "sexual-wages",
   "metadata": {
    "execution": {
     "iopub.execute_input": "2022-08-26T12:18:43.076784Z",
     "iopub.status.busy": "2022-08-26T12:18:43.076080Z",
     "iopub.status.idle": "2022-08-26T12:18:43.077863Z",
     "shell.execute_reply": "2022-08-26T12:18:43.078406Z"
    },
    "papermill": {
     "duration": 0.036544,
     "end_time": "2022-08-26T12:18:43.078577",
     "exception": false,
     "start_time": "2022-08-26T12:18:43.042033",
     "status": "completed"
    },
    "tags": []
   },
   "outputs": [],
   "source": [
    "# #hide_input\n",
    "# fig, ax = plt.subplots(figsize=(15, 8))\n",
    "# animator = animation.FuncAnimation(fig, draw_barchart, frames=range(g.day.values.min(), g.day.values.max()))\n",
    "# HTML(animator.to_jshtml())\n",
    "# # or use animator.to_html5_video() or animator.save() "
   ]
  },
  {
   "cell_type": "code",
   "execution_count": null,
   "id": "australian-container",
   "metadata": {
    "papermill": {
     "duration": 0.030796,
     "end_time": "2022-08-26T12:18:43.139917",
     "exception": false,
     "start_time": "2022-08-26T12:18:43.109121",
     "status": "completed"
    },
    "tags": []
   },
   "outputs": [],
   "source": []
  },
  {
   "cell_type": "code",
   "execution_count": null,
   "id": "mediterranean-pontiac",
   "metadata": {
    "papermill": {
     "duration": 0.030294,
     "end_time": "2022-08-26T12:18:43.200502",
     "exception": false,
     "start_time": "2022-08-26T12:18:43.170208",
     "status": "completed"
    },
    "tags": []
   },
   "outputs": [],
   "source": []
  },
  {
   "cell_type": "code",
   "execution_count": null,
   "id": "aging-legislature",
   "metadata": {
    "papermill": {
     "duration": 0.030275,
     "end_time": "2022-08-26T12:18:43.261313",
     "exception": false,
     "start_time": "2022-08-26T12:18:43.231038",
     "status": "completed"
    },
    "tags": []
   },
   "outputs": [],
   "source": []
  }
 ],
 "metadata": {
  "kernelspec": {
   "display_name": "Python 3",
   "language": "python",
   "name": "python3"
  },
  "language_info": {
   "codemirror_mode": {
    "name": "ipython",
    "version": 3
   },
   "file_extension": ".py",
   "mimetype": "text/x-python",
   "name": "python",
   "nbconvert_exporter": "python",
   "pygments_lexer": "ipython3",
   "version": "3.6.15"
  },
  "papermill": {
   "duration": 6.472782,
   "end_time": "2022-08-26T12:18:43.610193",
   "environment_variables": {},
   "exception": null,
   "input_path": "2020-03-21-covid19exp.ipynb",
   "output_path": "2020-03-21-covid19exp.ipynb",
   "parameters": {},
   "start_time": "2022-08-26T12:18:37.137411",
   "version": "2.0.0"
  }
 },
 "nbformat": 4,
 "nbformat_minor": 5
}