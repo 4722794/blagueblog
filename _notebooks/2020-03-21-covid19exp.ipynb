{
 "cells": [
  {
   "cell_type": "markdown",
   "id": "muslim-click",
   "metadata": {
    "papermill": {
     "duration": 0.035134,
     "end_time": "2022-05-17T12:20:15.329037",
     "exception": false,
     "start_time": "2022-05-17T12:20:15.293903",
     "status": "completed"
    },
    "tags": []
   },
   "source": [
    "# COVID-19 Case Race\n",
    "> A race chart to see rising cases around the world\n",
    "\n",
    "- author: Hargun Oberoi\n",
    "- image: images/covid-overview.png\n",
    "- hide: false\n",
    "- badges: false"
   ]
  },
  {
   "cell_type": "code",
   "execution_count": 1,
   "id": "proof-material",
   "metadata": {
    "execution": {
     "iopub.execute_input": "2022-05-17T12:20:15.403932Z",
     "iopub.status.busy": "2022-05-17T12:20:15.403291Z",
     "iopub.status.idle": "2022-05-17T12:20:15.772256Z",
     "shell.execute_reply": "2022-05-17T12:20:15.771621Z"
    },
    "papermill": {
     "duration": 0.409908,
     "end_time": "2022-05-17T12:20:15.772396",
     "exception": false,
     "start_time": "2022-05-17T12:20:15.362488",
     "status": "completed"
    },
    "tags": []
   },
   "outputs": [],
   "source": [
    "#hide\n",
    "import numpy as np\n",
    "import pandas as pd\n",
    "from jinja2 import Template\n",
    "from IPython.display import HTML"
   ]
  },
  {
   "cell_type": "code",
   "execution_count": 2,
   "id": "developed-terminology",
   "metadata": {
    "execution": {
     "iopub.execute_input": "2022-05-17T12:20:15.840399Z",
     "iopub.status.busy": "2022-05-17T12:20:15.839754Z",
     "iopub.status.idle": "2022-05-17T12:20:15.841710Z",
     "shell.execute_reply": "2022-05-17T12:20:15.842117Z"
    },
    "papermill": {
     "duration": 0.038767,
     "end_time": "2022-05-17T12:20:15.842266",
     "exception": false,
     "start_time": "2022-05-17T12:20:15.803499",
     "status": "completed"
    },
    "tags": []
   },
   "outputs": [],
   "source": [
    "#hide\n",
    "\n",
    "# FETCH\n",
    "base_url = 'https://raw.githubusercontent.com/pratapvardhan/notebooks/master/covid19/'\n",
    "paths = {\n",
    "    'mapping': base_url + 'mapping_countries.csv',\n",
    "    'overview': base_url + 'overview.tpl'\n",
    "}"
   ]
  },
  {
   "cell_type": "code",
   "execution_count": 3,
   "id": "dynamic-saver",
   "metadata": {
    "execution": {
     "iopub.execute_input": "2022-05-17T12:20:15.914788Z",
     "iopub.status.busy": "2022-05-17T12:20:15.914149Z",
     "iopub.status.idle": "2022-05-17T12:20:15.917390Z",
     "shell.execute_reply": "2022-05-17T12:20:15.916939Z"
    },
    "papermill": {
     "duration": 0.044078,
     "end_time": "2022-05-17T12:20:15.917515",
     "exception": false,
     "start_time": "2022-05-17T12:20:15.873437",
     "status": "completed"
    },
    "tags": []
   },
   "outputs": [
    {
     "data": {
      "text/plain": [
       "'https://raw.githubusercontent.com/pratapvardhan/notebooks/master/covid19/mapping_countries.csv'"
      ]
     },
     "execution_count": 3,
     "metadata": {},
     "output_type": "execute_result"
    }
   ],
   "source": [
    "#hide\n",
    "paths['mapping']"
   ]
  },
  {
   "cell_type": "code",
   "execution_count": 4,
   "id": "urban-software",
   "metadata": {
    "execution": {
     "iopub.execute_input": "2022-05-17T12:20:15.986620Z",
     "iopub.status.busy": "2022-05-17T12:20:15.986011Z",
     "iopub.status.idle": "2022-05-17T12:20:15.988229Z",
     "shell.execute_reply": "2022-05-17T12:20:15.987782Z"
    },
    "papermill": {
     "duration": 0.039319,
     "end_time": "2022-05-17T12:20:15.988355",
     "exception": false,
     "start_time": "2022-05-17T12:20:15.949036",
     "status": "completed"
    },
    "tags": []
   },
   "outputs": [],
   "source": [
    "#hide\n",
    "def get_mappings(url):\n",
    "    df = pd.read_csv(url)\n",
    "    return {\n",
    "        'df': df,\n",
    "        'replace.country': dict(df.dropna(subset=['Name']).set_index('Country')['Name']),\n",
    "        'map.continent': dict(df.set_index('Name')['Continent'])\n",
    "    }"
   ]
  },
  {
   "cell_type": "code",
   "execution_count": 5,
   "id": "intimate-machinery",
   "metadata": {
    "execution": {
     "iopub.execute_input": "2022-05-17T12:20:16.056673Z",
     "iopub.status.busy": "2022-05-17T12:20:16.056114Z",
     "iopub.status.idle": "2022-05-17T12:20:16.103588Z",
     "shell.execute_reply": "2022-05-17T12:20:16.102993Z"
    },
    "papermill": {
     "duration": 0.084,
     "end_time": "2022-05-17T12:20:16.103717",
     "exception": false,
     "start_time": "2022-05-17T12:20:16.019717",
     "status": "completed"
    },
    "tags": []
   },
   "outputs": [],
   "source": [
    "#hide\n",
    "mapping = get_mappings(paths['mapping'])"
   ]
  },
  {
   "cell_type": "code",
   "execution_count": 6,
   "id": "certified-tactics",
   "metadata": {
    "execution": {
     "iopub.execute_input": "2022-05-17T12:20:16.172102Z",
     "iopub.status.busy": "2022-05-17T12:20:16.171496Z",
     "iopub.status.idle": "2022-05-17T12:20:16.175952Z",
     "shell.execute_reply": "2022-05-17T12:20:16.175480Z"
    },
    "papermill": {
     "duration": 0.040828,
     "end_time": "2022-05-17T12:20:16.176076",
     "exception": false,
     "start_time": "2022-05-17T12:20:16.135248",
     "status": "completed"
    },
    "tags": []
   },
   "outputs": [],
   "source": [
    "#hide\n",
    "def get_template(path):\n",
    "    from urllib.parse import urlparse\n",
    "    if bool(urlparse(path).netloc):\n",
    "        from urllib.request import urlopen\n",
    "        return urlopen(path).read().decode('utf8')\n",
    "    return open(path).read()"
   ]
  },
  {
   "cell_type": "code",
   "execution_count": 7,
   "id": "realistic-blast",
   "metadata": {
    "execution": {
     "iopub.execute_input": "2022-05-17T12:20:16.244201Z",
     "iopub.status.busy": "2022-05-17T12:20:16.243545Z",
     "iopub.status.idle": "2022-05-17T12:20:16.245629Z",
     "shell.execute_reply": "2022-05-17T12:20:16.245088Z"
    },
    "papermill": {
     "duration": 0.038293,
     "end_time": "2022-05-17T12:20:16.245756",
     "exception": false,
     "start_time": "2022-05-17T12:20:16.207463",
     "status": "completed"
    },
    "tags": []
   },
   "outputs": [],
   "source": [
    "#hide\n",
    "def get_frame(name):\n",
    "    url = (\n",
    "        'https://raw.githubusercontent.com/CSSEGISandData/COVID-19/master/csse_covid_19_data/'\n",
    "        f'csse_covid_19_time_series/time_series_covid19_{name}_global.csv')\n",
    "    df = pd.read_csv(url)\n",
    "    # rename countries\n",
    "    df['Country/Region'] = df['Country/Region'].replace(mapping['replace.country'])\n",
    "    return df"
   ]
  },
  {
   "cell_type": "code",
   "execution_count": 8,
   "id": "affiliated-characterization",
   "metadata": {
    "execution": {
     "iopub.execute_input": "2022-05-17T12:20:16.314912Z",
     "iopub.status.busy": "2022-05-17T12:20:16.314311Z",
     "iopub.status.idle": "2022-05-17T12:20:16.316725Z",
     "shell.execute_reply": "2022-05-17T12:20:16.316280Z"
    },
    "papermill": {
     "duration": 0.039609,
     "end_time": "2022-05-17T12:20:16.316850",
     "exception": false,
     "start_time": "2022-05-17T12:20:16.277241",
     "status": "completed"
    },
    "tags": []
   },
   "outputs": [],
   "source": [
    "#hide\n",
    "def get_dates(df):\n",
    "    dt_cols = df.columns[~df.columns.isin(['Province/State', 'Country/Region', 'Lat', 'Long'])]\n",
    "    LAST_DATE_I = -1\n",
    "    # sometimes last column may be empty, then go backwards\n",
    "    for i in range(-1, -len(dt_cols), -1):\n",
    "        if not df[dt_cols[i]].fillna(0).eq(0).all():\n",
    "            LAST_DATE_I = i\n",
    "            break\n",
    "    return LAST_DATE_I, dt_cols"
   ]
  },
  {
   "cell_type": "code",
   "execution_count": 9,
   "id": "recent-optimization",
   "metadata": {
    "execution": {
     "iopub.execute_input": "2022-05-17T12:20:16.385918Z",
     "iopub.status.busy": "2022-05-17T12:20:16.385321Z",
     "iopub.status.idle": "2022-05-17T12:20:16.890832Z",
     "shell.execute_reply": "2022-05-17T12:20:16.889608Z"
    },
    "papermill": {
     "duration": 0.542041,
     "end_time": "2022-05-17T12:20:16.890980",
     "exception": false,
     "start_time": "2022-05-17T12:20:16.348939",
     "status": "completed"
    },
    "tags": []
   },
   "outputs": [],
   "source": [
    "#hide\n",
    "COL_REGION = 'Country/Region'\n",
    "# Confirmed, Recovered, Deaths\n",
    "df = get_frame('confirmed')\n",
    "# dft_: timeseries, dfc_: today country agg\n",
    "dft_cases = df\n",
    "dft_deaths = get_frame('deaths')\n",
    "dft_recovered = get_frame('recovered')\n",
    "LAST_DATE_I, dt_cols = get_dates(df)"
   ]
  },
  {
   "cell_type": "code",
   "execution_count": 10,
   "id": "absolute-copper",
   "metadata": {
    "execution": {
     "iopub.execute_input": "2022-05-17T12:20:16.960368Z",
     "iopub.status.busy": "2022-05-17T12:20:16.959709Z",
     "iopub.status.idle": "2022-05-17T12:20:16.961118Z",
     "shell.execute_reply": "2022-05-17T12:20:16.961643Z"
    },
    "papermill": {
     "duration": 0.039193,
     "end_time": "2022-05-17T12:20:16.961790",
     "exception": false,
     "start_time": "2022-05-17T12:20:16.922597",
     "status": "completed"
    },
    "tags": []
   },
   "outputs": [],
   "source": [
    "#hide\n",
    "LAST_DATE_I, dt_cols = get_dates(df)\n",
    "dt_today =dt_cols[LAST_DATE_I]\n",
    "# dt_5day = dt_cols[LAST_DATE_I - 5]\n",
    "dt_yday = dt_cols[LAST_DATE_I - 1]"
   ]
  },
  {
   "cell_type": "code",
   "execution_count": 11,
   "id": "restricted-sheriff",
   "metadata": {
    "execution": {
     "iopub.execute_input": "2022-05-17T12:20:17.032656Z",
     "iopub.status.busy": "2022-05-17T12:20:17.031966Z",
     "iopub.status.idle": "2022-05-17T12:20:17.039487Z",
     "shell.execute_reply": "2022-05-17T12:20:17.038967Z"
    },
    "papermill": {
     "duration": 0.046421,
     "end_time": "2022-05-17T12:20:17.039618",
     "exception": false,
     "start_time": "2022-05-17T12:20:16.993197",
     "status": "completed"
    },
    "tags": []
   },
   "outputs": [],
   "source": [
    "#hide\n",
    "dfc_cases = dft_cases.groupby(COL_REGION)[dt_today].sum()\n",
    "dfc_deaths = dft_deaths.groupby(COL_REGION)[dt_today].sum()\n",
    "# dfp_cases = dft_cases.groupby(COL_REGION)[dt_5day].sum()\n",
    "# dfp_deaths = dft_deaths.groupby(COL_REGION)[dt_5day].sum()\n",
    "dfp_cases = dft_cases.groupby(COL_REGION)[dt_yday].sum()\n",
    "dfp_deaths = dft_deaths.groupby(COL_REGION)[dt_yday].sum()"
   ]
  },
  {
   "cell_type": "code",
   "execution_count": 12,
   "id": "deluxe-hepatitis",
   "metadata": {
    "execution": {
     "iopub.execute_input": "2022-05-17T12:20:17.109019Z",
     "iopub.status.busy": "2022-05-17T12:20:17.108352Z",
     "iopub.status.idle": "2022-05-17T12:20:17.114468Z",
     "shell.execute_reply": "2022-05-17T12:20:17.113895Z"
    },
    "papermill": {
     "duration": 0.043407,
     "end_time": "2022-05-17T12:20:17.114597",
     "exception": false,
     "start_time": "2022-05-17T12:20:17.071190",
     "status": "completed"
    },
    "tags": []
   },
   "outputs": [],
   "source": [
    "#hide\n",
    "df_table = (pd.DataFrame(dict(Cases = dfc_cases, Deaths = dfc_deaths, PCases = dfp_cases, PDeaths = dfp_deaths))\n",
    "            .sort_values(by = ['Cases','Deaths'], ascending = [False, False])\n",
    "            .reset_index())"
   ]
  },
  {
   "cell_type": "code",
   "execution_count": 13,
   "id": "educational-chancellor",
   "metadata": {
    "execution": {
     "iopub.execute_input": "2022-05-17T12:20:17.192762Z",
     "iopub.status.busy": "2022-05-17T12:20:17.192073Z",
     "iopub.status.idle": "2022-05-17T12:20:17.206233Z",
     "shell.execute_reply": "2022-05-17T12:20:17.205748Z"
    },
    "papermill": {
     "duration": 0.060463,
     "end_time": "2022-05-17T12:20:17.206367",
     "exception": false,
     "start_time": "2022-05-17T12:20:17.145904",
     "status": "completed"
    },
    "tags": []
   },
   "outputs": [
    {
     "data": {
      "text/html": [
       "<div>\n",
       "<style scoped>\n",
       "    .dataframe tbody tr th:only-of-type {\n",
       "        vertical-align: middle;\n",
       "    }\n",
       "\n",
       "    .dataframe tbody tr th {\n",
       "        vertical-align: top;\n",
       "    }\n",
       "\n",
       "    .dataframe thead th {\n",
       "        text-align: right;\n",
       "    }\n",
       "</style>\n",
       "<table border=\"1\" class=\"dataframe\">\n",
       "  <thead>\n",
       "    <tr style=\"text-align: right;\">\n",
       "      <th></th>\n",
       "      <th>Country/Region</th>\n",
       "      <th>Cases</th>\n",
       "      <th>Deaths</th>\n",
       "      <th>PCases</th>\n",
       "      <th>PDeaths</th>\n",
       "      <th>Cases (+)</th>\n",
       "      <th>Deaths (+)</th>\n",
       "      <th>Fatality Rate</th>\n",
       "      <th>Continent</th>\n",
       "    </tr>\n",
       "  </thead>\n",
       "  <tbody>\n",
       "    <tr>\n",
       "      <th>0</th>\n",
       "      <td>US</td>\n",
       "      <td>82613620</td>\n",
       "      <td>999842</td>\n",
       "      <td>82468606</td>\n",
       "      <td>999602</td>\n",
       "      <td>145014</td>\n",
       "      <td>240</td>\n",
       "      <td>1.21</td>\n",
       "      <td>North America</td>\n",
       "    </tr>\n",
       "    <tr>\n",
       "      <th>1</th>\n",
       "      <td>India</td>\n",
       "      <td>43125370</td>\n",
       "      <td>524260</td>\n",
       "      <td>43123801</td>\n",
       "      <td>524241</td>\n",
       "      <td>1569</td>\n",
       "      <td>19</td>\n",
       "      <td>1.22</td>\n",
       "      <td>Asia</td>\n",
       "    </tr>\n",
       "    <tr>\n",
       "      <th>2</th>\n",
       "      <td>Brazil</td>\n",
       "      <td>30701900</td>\n",
       "      <td>665216</td>\n",
       "      <td>30688390</td>\n",
       "      <td>665150</td>\n",
       "      <td>13510</td>\n",
       "      <td>66</td>\n",
       "      <td>2.17</td>\n",
       "      <td>South America</td>\n",
       "    </tr>\n",
       "    <tr>\n",
       "      <th>3</th>\n",
       "      <td>France</td>\n",
       "      <td>29381085</td>\n",
       "      <td>148516</td>\n",
       "      <td>29375134</td>\n",
       "      <td>148313</td>\n",
       "      <td>5951</td>\n",
       "      <td>203</td>\n",
       "      <td>0.51</td>\n",
       "      <td>Europe</td>\n",
       "    </tr>\n",
       "    <tr>\n",
       "      <th>4</th>\n",
       "      <td>Germany</td>\n",
       "      <td>25818405</td>\n",
       "      <td>137714</td>\n",
       "      <td>25732153</td>\n",
       "      <td>137499</td>\n",
       "      <td>86252</td>\n",
       "      <td>215</td>\n",
       "      <td>0.53</td>\n",
       "      <td>Europe</td>\n",
       "    </tr>\n",
       "  </tbody>\n",
       "</table>\n",
       "</div>"
      ],
      "text/plain": [
       "  Country/Region     Cases  Deaths    PCases  PDeaths  Cases (+)  Deaths (+)  \\\n",
       "0             US  82613620  999842  82468606   999602     145014         240   \n",
       "1          India  43125370  524260  43123801   524241       1569          19   \n",
       "2         Brazil  30701900  665216  30688390   665150      13510          66   \n",
       "3         France  29381085  148516  29375134   148313       5951         203   \n",
       "4        Germany  25818405  137714  25732153   137499      86252         215   \n",
       "\n",
       "   Fatality Rate      Continent  \n",
       "0           1.21  North America  \n",
       "1           1.22           Asia  \n",
       "2           2.17  South America  \n",
       "3           0.51         Europe  \n",
       "4           0.53         Europe  "
      ]
     },
     "execution_count": 13,
     "metadata": {},
     "output_type": "execute_result"
    }
   ],
   "source": [
    "#hide\n",
    "for c in 'Cases, Deaths'.split(', '):\n",
    "    df_table[f'{c} (+)'] = (df_table[c] - df_table[f'P{c}']).clip(0)\n",
    "    #Clip ça veut dire, les chiffres negatif sont interdit\n",
    "df_table['Fatality Rate'] = (100* df_table['Deaths']/ df_table['Cases']).round(2)\n",
    "df_table['Continent'] = df_table['Country/Region'].map(mapping['map.continent'])\n",
    "df_table.head(5)"
   ]
  },
  {
   "cell_type": "code",
   "execution_count": 14,
   "id": "aboriginal-bulgaria",
   "metadata": {
    "execution": {
     "iopub.execute_input": "2022-05-17T12:20:17.277057Z",
     "iopub.status.busy": "2022-05-17T12:20:17.276363Z",
     "iopub.status.idle": "2022-05-17T12:20:17.279065Z",
     "shell.execute_reply": "2022-05-17T12:20:17.278489Z"
    },
    "papermill": {
     "duration": 0.040984,
     "end_time": "2022-05-17T12:20:17.279243",
     "exception": false,
     "start_time": "2022-05-17T12:20:17.238259",
     "status": "completed"
    },
    "tags": []
   },
   "outputs": [],
   "source": [
    "#hide\n",
    "#delete problematic countries from table\n",
    "df_table = df_table[~df_table['Country/Region'].isin(['Cape Verde', 'Cruise Ship', 'Kosovo'])]"
   ]
  },
  {
   "cell_type": "code",
   "execution_count": 15,
   "id": "fantastic-effect",
   "metadata": {
    "execution": {
     "iopub.execute_input": "2022-05-17T12:20:17.350413Z",
     "iopub.status.busy": "2022-05-17T12:20:17.349830Z",
     "iopub.status.idle": "2022-05-17T12:20:17.369904Z",
     "shell.execute_reply": "2022-05-17T12:20:17.369427Z"
    },
    "papermill": {
     "duration": 0.059125,
     "end_time": "2022-05-17T12:20:17.370036",
     "exception": false,
     "start_time": "2022-05-17T12:20:17.310911",
     "status": "completed"
    },
    "tags": []
   },
   "outputs": [
    {
     "data": {
      "text/html": [
       "<div>\n",
       "<style scoped>\n",
       "    .dataframe tbody tr th:only-of-type {\n",
       "        vertical-align: middle;\n",
       "    }\n",
       "\n",
       "    .dataframe tbody tr th {\n",
       "        vertical-align: top;\n",
       "    }\n",
       "\n",
       "    .dataframe thead th {\n",
       "        text-align: right;\n",
       "    }\n",
       "</style>\n",
       "<table border=\"1\" class=\"dataframe\">\n",
       "  <thead>\n",
       "    <tr style=\"text-align: right;\">\n",
       "      <th></th>\n",
       "      <th>Country/Region</th>\n",
       "      <th>Cases</th>\n",
       "      <th>Deaths</th>\n",
       "      <th>PCases</th>\n",
       "      <th>PDeaths</th>\n",
       "      <th>Cases (+)</th>\n",
       "      <th>Deaths (+)</th>\n",
       "      <th>Fatality Rate</th>\n",
       "      <th>Continent</th>\n",
       "    </tr>\n",
       "  </thead>\n",
       "  <tbody>\n",
       "    <tr>\n",
       "      <th>0</th>\n",
       "      <td>US</td>\n",
       "      <td>82613620</td>\n",
       "      <td>999842</td>\n",
       "      <td>82468606</td>\n",
       "      <td>999602</td>\n",
       "      <td>145014</td>\n",
       "      <td>240</td>\n",
       "      <td>1.2</td>\n",
       "      <td>North America</td>\n",
       "    </tr>\n",
       "    <tr>\n",
       "      <th>1</th>\n",
       "      <td>India</td>\n",
       "      <td>43125370</td>\n",
       "      <td>524260</td>\n",
       "      <td>43123801</td>\n",
       "      <td>524241</td>\n",
       "      <td>1569</td>\n",
       "      <td>19</td>\n",
       "      <td>1.2</td>\n",
       "      <td>Asia</td>\n",
       "    </tr>\n",
       "    <tr>\n",
       "      <th>2</th>\n",
       "      <td>Brazil</td>\n",
       "      <td>30701900</td>\n",
       "      <td>665216</td>\n",
       "      <td>30688390</td>\n",
       "      <td>665150</td>\n",
       "      <td>13510</td>\n",
       "      <td>66</td>\n",
       "      <td>2.2</td>\n",
       "      <td>South America</td>\n",
       "    </tr>\n",
       "    <tr>\n",
       "      <th>3</th>\n",
       "      <td>France</td>\n",
       "      <td>29381085</td>\n",
       "      <td>148516</td>\n",
       "      <td>29375134</td>\n",
       "      <td>148313</td>\n",
       "      <td>5951</td>\n",
       "      <td>203</td>\n",
       "      <td>0.5</td>\n",
       "      <td>Europe</td>\n",
       "    </tr>\n",
       "    <tr>\n",
       "      <th>4</th>\n",
       "      <td>Germany</td>\n",
       "      <td>25818405</td>\n",
       "      <td>137714</td>\n",
       "      <td>25732153</td>\n",
       "      <td>137499</td>\n",
       "      <td>86252</td>\n",
       "      <td>215</td>\n",
       "      <td>0.5</td>\n",
       "      <td>Europe</td>\n",
       "    </tr>\n",
       "  </tbody>\n",
       "</table>\n",
       "</div>"
      ],
      "text/plain": [
       "  Country/Region     Cases  Deaths    PCases  PDeaths  Cases (+)  Deaths (+)  \\\n",
       "0             US  82613620  999842  82468606   999602     145014         240   \n",
       "1          India  43125370  524260  43123801   524241       1569          19   \n",
       "2         Brazil  30701900  665216  30688390   665150      13510          66   \n",
       "3         France  29381085  148516  29375134   148313       5951         203   \n",
       "4        Germany  25818405  137714  25732153   137499      86252         215   \n",
       "\n",
       "   Fatality Rate      Continent  \n",
       "0            1.2  North America  \n",
       "1            1.2           Asia  \n",
       "2            2.2  South America  \n",
       "3            0.5         Europe  \n",
       "4            0.5         Europe  "
      ]
     },
     "execution_count": 15,
     "metadata": {},
     "output_type": "execute_result"
    }
   ],
   "source": [
    "#hide\n",
    "df_table = (pd.DataFrame(dict(Cases=dfc_cases, Deaths=dfc_deaths, PCases=dfp_cases, PDeaths=dfp_deaths))\n",
    "             .sort_values(by=['Cases', 'Deaths'], ascending=[False, False])\n",
    "             .reset_index())\n",
    "df_table.rename(columns={'index': 'Country/Region'}, inplace=True)\n",
    "for c in 'Cases, Deaths'.split(', '):\n",
    "    df_table[f'{c} (+)'] = (df_table[c] - df_table[f'P{c}']).clip(0)  # DATA BUG\n",
    "df_table['Fatality Rate'] = (100 * df_table['Deaths'] / df_table['Cases']).round(1)\n",
    "df_table['Continent'] = df_table['Country/Region'].map(mapping['map.continent'])\n",
    "df_table.head(5)"
   ]
  },
  {
   "cell_type": "code",
   "execution_count": 16,
   "id": "fewer-occasion",
   "metadata": {
    "execution": {
     "iopub.execute_input": "2022-05-17T12:20:17.441453Z",
     "iopub.status.busy": "2022-05-17T12:20:17.440812Z",
     "iopub.status.idle": "2022-05-17T12:20:17.443290Z",
     "shell.execute_reply": "2022-05-17T12:20:17.442714Z"
    },
    "papermill": {
     "duration": 0.041058,
     "end_time": "2022-05-17T12:20:17.443421",
     "exception": false,
     "start_time": "2022-05-17T12:20:17.402363",
     "status": "completed"
    },
    "tags": []
   },
   "outputs": [],
   "source": [
    "#hide\n",
    "#delete problematic countries from table\n",
    "df_table = df_table[~df_table['Country/Region'].isin(['Cape Verde', 'Cruise Ship', 'Kosovo'])]"
   ]
  },
  {
   "cell_type": "code",
   "execution_count": 17,
   "id": "related-center",
   "metadata": {
    "execution": {
     "iopub.execute_input": "2022-05-17T12:20:17.527728Z",
     "iopub.status.busy": "2022-05-17T12:20:17.527137Z",
     "iopub.status.idle": "2022-05-17T12:20:17.529216Z",
     "shell.execute_reply": "2022-05-17T12:20:17.529657Z"
    },
    "papermill": {
     "duration": 0.054078,
     "end_time": "2022-05-17T12:20:17.529803",
     "exception": false,
     "start_time": "2022-05-17T12:20:17.475725",
     "status": "completed"
    },
    "tags": []
   },
   "outputs": [],
   "source": [
    "#hide\n",
    "metrics = [df_table.columns[index] for index in [1,2,5,6]]\n",
    "# s_china = df_table[df_table['Country/Region'].eq('China')][metrics].sum().add_prefix('China ')\n",
    "s_us = df_table[df_table['Country/Region'].eq('US')][metrics].sum().add_prefix('US ')\n",
    "s_eu = df_table[df_table['Continent'].eq('Europe')][metrics].sum().add_prefix('EU ')\n",
    "s_ind = df_table[df_table['Country/Region'].eq('India')][metrics].sum().add_prefix('India ')\n",
    "summary = {'updated': pd.to_datetime(dt_today), 'since': pd.to_datetime(dt_yday)}\n",
    "summary = {'updated': pd.to_datetime(dt_today), 'since': pd.to_datetime(dt_yday)}\n",
    "summary = {**summary, **df_table[metrics].sum(), **s_ind, **s_us, **s_eu}"
   ]
  },
  {
   "cell_type": "code",
   "execution_count": 18,
   "id": "engaging-syndrome",
   "metadata": {
    "execution": {
     "iopub.execute_input": "2022-05-17T12:20:17.599777Z",
     "iopub.status.busy": "2022-05-17T12:20:17.599202Z",
     "iopub.status.idle": "2022-05-17T12:20:17.620023Z",
     "shell.execute_reply": "2022-05-17T12:20:17.620436Z"
    },
    "papermill": {
     "duration": 0.058414,
     "end_time": "2022-05-17T12:20:17.620588",
     "exception": false,
     "start_time": "2022-05-17T12:20:17.562174",
     "status": "completed"
    },
    "tags": []
   },
   "outputs": [],
   "source": [
    "#hide\n",
    "dft_ct_new_cases = dft_cases.groupby(COL_REGION)[dt_cols].sum().diff(axis=1).fillna(0).astype(int)"
   ]
  },
  {
   "cell_type": "code",
   "execution_count": 19,
   "id": "neutral-assignment",
   "metadata": {
    "execution": {
     "iopub.execute_input": "2022-05-17T12:20:17.692239Z",
     "iopub.status.busy": "2022-05-17T12:20:17.691627Z",
     "iopub.status.idle": "2022-05-17T12:20:17.695941Z",
     "shell.execute_reply": "2022-05-17T12:20:17.695406Z"
    },
    "papermill": {
     "duration": 0.043319,
     "end_time": "2022-05-17T12:20:17.696073",
     "exception": false,
     "start_time": "2022-05-17T12:20:17.652754",
     "status": "completed"
    },
    "tags": []
   },
   "outputs": [],
   "source": [
    "#hide\n",
    "everydaycases = dft_ct_new_cases.cumsum(axis=1)"
   ]
  },
  {
   "cell_type": "code",
   "execution_count": 20,
   "id": "parliamentary-calgary",
   "metadata": {
    "execution": {
     "iopub.execute_input": "2022-05-17T12:20:17.765984Z",
     "iopub.status.busy": "2022-05-17T12:20:17.765376Z",
     "iopub.status.idle": "2022-05-17T12:20:18.358982Z",
     "shell.execute_reply": "2022-05-17T12:20:18.357911Z"
    },
    "papermill": {
     "duration": 0.630601,
     "end_time": "2022-05-17T12:20:18.359176",
     "exception": false,
     "start_time": "2022-05-17T12:20:17.728575",
     "status": "completed"
    },
    "tags": []
   },
   "outputs": [],
   "source": [
    "#hide\n",
    "import pandas as pd\n",
    "import matplotlib.pyplot as plt\n",
    "import matplotlib.ticker as ticker\n",
    "import matplotlib.animation as animation\n",
    "from IPython.display import HTML"
   ]
  },
  {
   "cell_type": "code",
   "execution_count": 21,
   "id": "lasting-extraction",
   "metadata": {
    "execution": {
     "iopub.execute_input": "2022-05-17T12:20:18.430774Z",
     "iopub.status.busy": "2022-05-17T12:20:18.430202Z",
     "iopub.status.idle": "2022-05-17T12:20:18.437521Z",
     "shell.execute_reply": "2022-05-17T12:20:18.437044Z"
    },
    "papermill": {
     "duration": 0.045988,
     "end_time": "2022-05-17T12:20:18.437650",
     "exception": false,
     "start_time": "2022-05-17T12:20:18.391662",
     "status": "completed"
    },
    "tags": []
   },
   "outputs": [],
   "source": [
    "#hide\n",
    "t = everydaycases.stack()"
   ]
  },
  {
   "cell_type": "code",
   "execution_count": 22,
   "id": "premier-sleeve",
   "metadata": {
    "execution": {
     "iopub.execute_input": "2022-05-17T12:20:18.507520Z",
     "iopub.status.busy": "2022-05-17T12:20:18.506908Z",
     "iopub.status.idle": "2022-05-17T12:20:18.518797Z",
     "shell.execute_reply": "2022-05-17T12:20:18.518306Z"
    },
    "papermill": {
     "duration": 0.048756,
     "end_time": "2022-05-17T12:20:18.518922",
     "exception": false,
     "start_time": "2022-05-17T12:20:18.470166",
     "status": "completed"
    },
    "tags": []
   },
   "outputs": [],
   "source": [
    "#hide\n",
    "g = t.reset_index(['Country/Region'])"
   ]
  },
  {
   "cell_type": "code",
   "execution_count": 23,
   "id": "distributed-pittsburgh",
   "metadata": {
    "execution": {
     "iopub.execute_input": "2022-05-17T12:20:18.587950Z",
     "iopub.status.busy": "2022-05-17T12:20:18.587311Z",
     "iopub.status.idle": "2022-05-17T12:20:18.590600Z",
     "shell.execute_reply": "2022-05-17T12:20:18.590143Z"
    },
    "papermill": {
     "duration": 0.039361,
     "end_time": "2022-05-17T12:20:18.590728",
     "exception": false,
     "start_time": "2022-05-17T12:20:18.551367",
     "status": "completed"
    },
    "tags": []
   },
   "outputs": [],
   "source": [
    "#hide\n",
    "g.index.name = 'date'"
   ]
  },
  {
   "cell_type": "code",
   "execution_count": 24,
   "id": "naked-donor",
   "metadata": {
    "execution": {
     "iopub.execute_input": "2022-05-17T12:20:18.659768Z",
     "iopub.status.busy": "2022-05-17T12:20:18.659089Z",
     "iopub.status.idle": "2022-05-17T12:20:18.662763Z",
     "shell.execute_reply": "2022-05-17T12:20:18.662200Z"
    },
    "papermill": {
     "duration": 0.039795,
     "end_time": "2022-05-17T12:20:18.662890",
     "exception": false,
     "start_time": "2022-05-17T12:20:18.623095",
     "status": "completed"
    },
    "tags": []
   },
   "outputs": [],
   "source": [
    "# #hide\n",
    "# g = g.reset_index(['date'])"
   ]
  },
  {
   "cell_type": "code",
   "execution_count": 25,
   "id": "incomplete-mustang",
   "metadata": {
    "execution": {
     "iopub.execute_input": "2022-05-17T12:20:18.732284Z",
     "iopub.status.busy": "2022-05-17T12:20:18.731698Z",
     "iopub.status.idle": "2022-05-17T12:20:18.734238Z",
     "shell.execute_reply": "2022-05-17T12:20:18.733670Z"
    },
    "papermill": {
     "duration": 0.039316,
     "end_time": "2022-05-17T12:20:18.734363",
     "exception": false,
     "start_time": "2022-05-17T12:20:18.695047",
     "status": "completed"
    },
    "tags": []
   },
   "outputs": [],
   "source": [
    "#hide\n",
    "# g.head()"
   ]
  },
  {
   "cell_type": "code",
   "execution_count": 26,
   "id": "specific-kruger",
   "metadata": {
    "execution": {
     "iopub.execute_input": "2022-05-17T12:20:18.803842Z",
     "iopub.status.busy": "2022-05-17T12:20:18.803178Z",
     "iopub.status.idle": "2022-05-17T12:20:18.806580Z",
     "shell.execute_reply": "2022-05-17T12:20:18.806102Z"
    },
    "papermill": {
     "duration": 0.039979,
     "end_time": "2022-05-17T12:20:18.806714",
     "exception": false,
     "start_time": "2022-05-17T12:20:18.766735",
     "status": "completed"
    },
    "tags": []
   },
   "outputs": [],
   "source": [
    "#hide\n",
    "# g.columns = ['date','country','cases']"
   ]
  },
  {
   "cell_type": "code",
   "execution_count": 27,
   "id": "tender-conversion",
   "metadata": {
    "execution": {
     "iopub.execute_input": "2022-05-17T12:20:18.875847Z",
     "iopub.status.busy": "2022-05-17T12:20:18.875154Z",
     "iopub.status.idle": "2022-05-17T12:20:18.878343Z",
     "shell.execute_reply": "2022-05-17T12:20:18.878802Z"
    },
    "papermill": {
     "duration": 0.039923,
     "end_time": "2022-05-17T12:20:18.878959",
     "exception": false,
     "start_time": "2022-05-17T12:20:18.839036",
     "status": "completed"
    },
    "tags": []
   },
   "outputs": [],
   "source": [
    "#hide\n",
    "# g['continent'] = g.country"
   ]
  },
  {
   "cell_type": "code",
   "execution_count": 28,
   "id": "substantial-wilderness",
   "metadata": {
    "execution": {
     "iopub.execute_input": "2022-05-17T12:20:18.948121Z",
     "iopub.status.busy": "2022-05-17T12:20:18.947503Z",
     "iopub.status.idle": "2022-05-17T12:20:18.950123Z",
     "shell.execute_reply": "2022-05-17T12:20:18.949666Z"
    },
    "papermill": {
     "duration": 0.038802,
     "end_time": "2022-05-17T12:20:18.950253",
     "exception": false,
     "start_time": "2022-05-17T12:20:18.911451",
     "status": "completed"
    },
    "tags": []
   },
   "outputs": [],
   "source": [
    "#hide\n",
    "# cols = list(g.columns.values)"
   ]
  },
  {
   "cell_type": "code",
   "execution_count": 29,
   "id": "solved-farming",
   "metadata": {
    "execution": {
     "iopub.execute_input": "2022-05-17T12:20:19.019340Z",
     "iopub.status.busy": "2022-05-17T12:20:19.018659Z",
     "iopub.status.idle": "2022-05-17T12:20:19.022564Z",
     "shell.execute_reply": "2022-05-17T12:20:19.022069Z"
    },
    "papermill": {
     "duration": 0.040172,
     "end_time": "2022-05-17T12:20:19.022690",
     "exception": false,
     "start_time": "2022-05-17T12:20:18.982518",
     "status": "completed"
    },
    "tags": []
   },
   "outputs": [],
   "source": [
    "#hide\n",
    "# cols.insert(0, cols.pop())"
   ]
  },
  {
   "cell_type": "code",
   "execution_count": 30,
   "id": "executed-adoption",
   "metadata": {
    "execution": {
     "iopub.execute_input": "2022-05-17T12:20:19.091994Z",
     "iopub.status.busy": "2022-05-17T12:20:19.091306Z",
     "iopub.status.idle": "2022-05-17T12:20:19.094777Z",
     "shell.execute_reply": "2022-05-17T12:20:19.094294Z"
    },
    "papermill": {
     "duration": 0.039779,
     "end_time": "2022-05-17T12:20:19.094910",
     "exception": false,
     "start_time": "2022-05-17T12:20:19.055131",
     "status": "completed"
    },
    "tags": []
   },
   "outputs": [],
   "source": [
    "#hide\n",
    "# g = g[cols]"
   ]
  },
  {
   "cell_type": "code",
   "execution_count": 31,
   "id": "subject-dublin",
   "metadata": {
    "execution": {
     "iopub.execute_input": "2022-05-17T12:20:19.163804Z",
     "iopub.status.busy": "2022-05-17T12:20:19.163164Z",
     "iopub.status.idle": "2022-05-17T12:20:19.165421Z",
     "shell.execute_reply": "2022-05-17T12:20:19.164948Z"
    },
    "papermill": {
     "duration": 0.038152,
     "end_time": "2022-05-17T12:20:19.165544",
     "exception": false,
     "start_time": "2022-05-17T12:20:19.127392",
     "status": "completed"
    },
    "tags": []
   },
   "outputs": [],
   "source": [
    "#hide\n",
    "# g['continent'] = g['continent'].map(mapping['map.continent'])"
   ]
  },
  {
   "cell_type": "code",
   "execution_count": 32,
   "id": "freelance-scout",
   "metadata": {
    "execution": {
     "iopub.execute_input": "2022-05-17T12:20:19.235173Z",
     "iopub.status.busy": "2022-05-17T12:20:19.234501Z",
     "iopub.status.idle": "2022-05-17T12:20:19.236752Z",
     "shell.execute_reply": "2022-05-17T12:20:19.236199Z"
    },
    "papermill": {
     "duration": 0.038739,
     "end_time": "2022-05-17T12:20:19.236879",
     "exception": false,
     "start_time": "2022-05-17T12:20:19.198140",
     "status": "completed"
    },
    "tags": []
   },
   "outputs": [],
   "source": [
    "#hide\n",
    "# g.head()"
   ]
  },
  {
   "cell_type": "code",
   "execution_count": 33,
   "id": "limited-engine",
   "metadata": {
    "execution": {
     "iopub.execute_input": "2022-05-17T12:20:19.305986Z",
     "iopub.status.busy": "2022-05-17T12:20:19.305334Z",
     "iopub.status.idle": "2022-05-17T12:20:19.307731Z",
     "shell.execute_reply": "2022-05-17T12:20:19.307264Z"
    },
    "papermill": {
     "duration": 0.038672,
     "end_time": "2022-05-17T12:20:19.307864",
     "exception": false,
     "start_time": "2022-05-17T12:20:19.269192",
     "status": "completed"
    },
    "tags": []
   },
   "outputs": [],
   "source": [
    "# hide\n",
    "# g['date'] = g['date'].astype('datetime64[ns]')"
   ]
  },
  {
   "cell_type": "code",
   "execution_count": 34,
   "id": "sophisticated-supervisor",
   "metadata": {
    "execution": {
     "iopub.execute_input": "2022-05-17T12:20:19.377550Z",
     "iopub.status.busy": "2022-05-17T12:20:19.376933Z",
     "iopub.status.idle": "2022-05-17T12:20:19.380984Z",
     "shell.execute_reply": "2022-05-17T12:20:19.381420Z"
    },
    "papermill": {
     "duration": 0.041241,
     "end_time": "2022-05-17T12:20:19.381575",
     "exception": false,
     "start_time": "2022-05-17T12:20:19.340334",
     "status": "completed"
    },
    "tags": []
   },
   "outputs": [],
   "source": [
    "#hide\n",
    "# g['date'] = g.date.dt.dayofyear"
   ]
  },
  {
   "cell_type": "code",
   "execution_count": 35,
   "id": "inside-dubai",
   "metadata": {
    "execution": {
     "iopub.execute_input": "2022-05-17T12:20:19.451314Z",
     "iopub.status.busy": "2022-05-17T12:20:19.449985Z",
     "iopub.status.idle": "2022-05-17T12:20:19.451948Z",
     "shell.execute_reply": "2022-05-17T12:20:19.452376Z"
    },
    "papermill": {
     "duration": 0.038749,
     "end_time": "2022-05-17T12:20:19.452524",
     "exception": false,
     "start_time": "2022-05-17T12:20:19.413775",
     "status": "completed"
    },
    "tags": []
   },
   "outputs": [],
   "source": [
    "#hide\n",
    "# g = g.rename(columns= {'continent':'group','country':'name','cases':'value'})"
   ]
  },
  {
   "cell_type": "code",
   "execution_count": 36,
   "id": "fleet-motorcycle",
   "metadata": {
    "execution": {
     "iopub.execute_input": "2022-05-17T12:20:19.521415Z",
     "iopub.status.busy": "2022-05-17T12:20:19.520796Z",
     "iopub.status.idle": "2022-05-17T12:20:19.525293Z",
     "shell.execute_reply": "2022-05-17T12:20:19.524819Z"
    },
    "papermill": {
     "duration": 0.040582,
     "end_time": "2022-05-17T12:20:19.525423",
     "exception": false,
     "start_time": "2022-05-17T12:20:19.484841",
     "status": "completed"
    },
    "tags": []
   },
   "outputs": [],
   "source": [
    "#hide\n",
    "# cols = ['name','group','day','value']"
   ]
  },
  {
   "cell_type": "code",
   "execution_count": 37,
   "id": "continued-sleeping",
   "metadata": {
    "execution": {
     "iopub.execute_input": "2022-05-17T12:20:19.595619Z",
     "iopub.status.busy": "2022-05-17T12:20:19.594199Z",
     "iopub.status.idle": "2022-05-17T12:20:19.596310Z",
     "shell.execute_reply": "2022-05-17T12:20:19.596765Z"
    },
    "papermill": {
     "duration": 0.038964,
     "end_time": "2022-05-17T12:20:19.596917",
     "exception": false,
     "start_time": "2022-05-17T12:20:19.557953",
     "status": "completed"
    },
    "tags": []
   },
   "outputs": [],
   "source": [
    "#hide\n",
    "# g.rename(columns= {'date':'day'},inplace = True)"
   ]
  },
  {
   "cell_type": "code",
   "execution_count": 38,
   "id": "major-fight",
   "metadata": {
    "execution": {
     "iopub.execute_input": "2022-05-17T12:20:19.666615Z",
     "iopub.status.busy": "2022-05-17T12:20:19.665372Z",
     "iopub.status.idle": "2022-05-17T12:20:19.667290Z",
     "shell.execute_reply": "2022-05-17T12:20:19.667723Z"
    },
    "papermill": {
     "duration": 0.038601,
     "end_time": "2022-05-17T12:20:19.667866",
     "exception": false,
     "start_time": "2022-05-17T12:20:19.629265",
     "status": "completed"
    },
    "tags": []
   },
   "outputs": [],
   "source": [
    "#hide\n",
    "# g = g[cols]"
   ]
  },
  {
   "cell_type": "code",
   "execution_count": 39,
   "id": "structured-mobile",
   "metadata": {
    "execution": {
     "iopub.execute_input": "2022-05-17T12:20:19.736558Z",
     "iopub.status.busy": "2022-05-17T12:20:19.735927Z",
     "iopub.status.idle": "2022-05-17T12:20:19.738248Z",
     "shell.execute_reply": "2022-05-17T12:20:19.737805Z"
    },
    "papermill": {
     "duration": 0.038142,
     "end_time": "2022-05-17T12:20:19.738376",
     "exception": false,
     "start_time": "2022-05-17T12:20:19.700234",
     "status": "completed"
    },
    "tags": []
   },
   "outputs": [],
   "source": [
    "# #hide\n",
    "# g = g[g.group.notna()]"
   ]
  },
  {
   "cell_type": "code",
   "execution_count": 40,
   "id": "determined-closing",
   "metadata": {
    "execution": {
     "iopub.execute_input": "2022-05-17T12:20:19.807094Z",
     "iopub.status.busy": "2022-05-17T12:20:19.806508Z",
     "iopub.status.idle": "2022-05-17T12:20:19.809087Z",
     "shell.execute_reply": "2022-05-17T12:20:19.808593Z"
    },
    "papermill": {
     "duration": 0.03823,
     "end_time": "2022-05-17T12:20:19.809218",
     "exception": false,
     "start_time": "2022-05-17T12:20:19.770988",
     "status": "completed"
    },
    "tags": []
   },
   "outputs": [],
   "source": [
    "# #hide\n",
    "# colors = dict(zip(\n",
    "#     [\"Oceania\", \"Europe\", \"Asia\", \"South America\", \"Middle East\", \"North America\", \"Africa\"],\n",
    "#     [\"#adb0ff\", \"#ffb3ff\", \"#90d595\", \"#e48381\", \"#aafbff\", \"#f7bb5f\", \"#eafb50\"]\n",
    "# ))\n",
    "# group_lk = g.set_index('name')['group'].to_dict()"
   ]
  },
  {
   "cell_type": "code",
   "execution_count": null,
   "id": "gross-drinking",
   "metadata": {
    "papermill": {
     "duration": 0.032068,
     "end_time": "2022-05-17T12:20:19.873435",
     "exception": false,
     "start_time": "2022-05-17T12:20:19.841367",
     "status": "completed"
    },
    "tags": []
   },
   "outputs": [],
   "source": []
  },
  {
   "cell_type": "code",
   "execution_count": 41,
   "id": "subject-macintosh",
   "metadata": {
    "execution": {
     "iopub.execute_input": "2022-05-17T12:20:19.942790Z",
     "iopub.status.busy": "2022-05-17T12:20:19.942113Z",
     "iopub.status.idle": "2022-05-17T12:20:19.944632Z",
     "shell.execute_reply": "2022-05-17T12:20:19.944160Z"
    },
    "papermill": {
     "duration": 0.03895,
     "end_time": "2022-05-17T12:20:19.944763",
     "exception": false,
     "start_time": "2022-05-17T12:20:19.905813",
     "status": "completed"
    },
    "tags": []
   },
   "outputs": [],
   "source": [
    "# #hide\n",
    "# fig, ax = plt.subplots(figsize=(15, 8))\n",
    "\n",
    "# def draw_barchart(current_day):\n",
    "#     dff = g[g['day'].eq(current_day)].sort_values(by='value', ascending=True).tail(10)\n",
    "#     ax.clear()\n",
    "#     ax.barh(dff['name'], dff['value'], color=[colors[group_lk[x]] for x in dff['name']])\n",
    "#     dx = dff['value'].max() / 200\n",
    "    \n",
    "#     for i, (value, name) in enumerate(zip(dff['value'], dff['name'])):\n",
    "#         ax.text(value-dx, i,     name,           size=14, weight=600, ha='right', va='bottom')\n",
    "#         ax.text(value-dx, i-.25, group_lk[name], size=10, color='#444444', ha='right', va='baseline')\n",
    "#         ax.text(value+dx, i,     f'{value:,.0f}',  size=14, ha='left',  va='center')\n",
    "#     ax.text(1, 0.4, current_day, transform=ax.transAxes, color='#777777', size=46, ha='right', weight=800)\n",
    "#     ax.text(0, 1.06, 'Population (thousands)', transform=ax.transAxes, size=12, color='#777777')\n",
    "#     ax.xaxis.set_major_formatter(ticker.StrMethodFormatter('{x:,.0f}'))\n",
    "#     ax.xaxis.set_ticks_position('top')\n",
    "#     ax.tick_params(axis='x', colors='#777777', labelsize=12)\n",
    "#     ax.set_yticks([])\n",
    "#     ax.margins(0, 0.01)\n",
    "#     ax.grid(which='major', axis='x', linestyle='-')\n",
    "#     ax.set_axisbelow(True)\n",
    "    \n",
    "#     ax.text(0, 1.15, 'Coronavirus',\n",
    "#             transform=ax.transAxes, size=24, weight=600, ha='left', va='top')\n",
    "# #     ax.text(1, 0, 'by @pratapvardhan; credit @jburnmurdoch', transform=ax.transAxes, color='#777777', ha='right',\n",
    "# #             bbox=dict(facecolor='white', alpha=0.8, edgecolor='white'))\n",
    "#     plt.box(False)"
   ]
  },
  {
   "cell_type": "code",
   "execution_count": 42,
   "id": "sexual-wages",
   "metadata": {
    "execution": {
     "iopub.execute_input": "2022-05-17T12:20:20.015000Z",
     "iopub.status.busy": "2022-05-17T12:20:20.014419Z",
     "iopub.status.idle": "2022-05-17T12:20:20.016744Z",
     "shell.execute_reply": "2022-05-17T12:20:20.017159Z"
    },
    "papermill": {
     "duration": 0.038669,
     "end_time": "2022-05-17T12:20:20.017309",
     "exception": false,
     "start_time": "2022-05-17T12:20:19.978640",
     "status": "completed"
    },
    "tags": []
   },
   "outputs": [],
   "source": [
    "# #hide_input\n",
    "# fig, ax = plt.subplots(figsize=(15, 8))\n",
    "# animator = animation.FuncAnimation(fig, draw_barchart, frames=range(g.day.values.min(), g.day.values.max()))\n",
    "# HTML(animator.to_jshtml())\n",
    "# # or use animator.to_html5_video() or animator.save() "
   ]
  },
  {
   "cell_type": "code",
   "execution_count": null,
   "id": "australian-container",
   "metadata": {
    "papermill": {
     "duration": 0.032159,
     "end_time": "2022-05-17T12:20:20.081820",
     "exception": false,
     "start_time": "2022-05-17T12:20:20.049661",
     "status": "completed"
    },
    "tags": []
   },
   "outputs": [],
   "source": []
  },
  {
   "cell_type": "code",
   "execution_count": null,
   "id": "mediterranean-pontiac",
   "metadata": {
    "papermill": {
     "duration": 0.032202,
     "end_time": "2022-05-17T12:20:20.146351",
     "exception": false,
     "start_time": "2022-05-17T12:20:20.114149",
     "status": "completed"
    },
    "tags": []
   },
   "outputs": [],
   "source": []
  },
  {
   "cell_type": "code",
   "execution_count": null,
   "id": "aging-legislature",
   "metadata": {
    "papermill": {
     "duration": 0.032098,
     "end_time": "2022-05-17T12:20:20.210755",
     "exception": false,
     "start_time": "2022-05-17T12:20:20.178657",
     "status": "completed"
    },
    "tags": []
   },
   "outputs": [],
   "source": []
  }
 ],
 "metadata": {
  "kernelspec": {
   "display_name": "Python 3",
   "language": "python",
   "name": "python3"
  },
  "language_info": {
   "codemirror_mode": {
    "name": "ipython",
    "version": 3
   },
   "file_extension": ".py",
   "mimetype": "text/x-python",
   "name": "python",
   "nbconvert_exporter": "python",
   "pygments_lexer": "ipython3",
   "version": "3.6.15"
  },
  "papermill": {
   "duration": 6.649525,
   "end_time": "2022-05-17T12:20:20.661186",
   "environment_variables": {},
   "exception": null,
   "input_path": "2020-03-21-covid19exp.ipynb",
   "output_path": "2020-03-21-covid19exp.ipynb",
   "parameters": {},
   "start_time": "2022-05-17T12:20:14.011661",
   "version": "2.0.0"
  }
 },
 "nbformat": 4,
 "nbformat_minor": 5
}