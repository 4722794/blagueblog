{
 "cells": [
  {
   "cell_type": "markdown",
   "id": "muslim-click",
   "metadata": {
    "papermill": {
     "duration": 0.034757,
     "end_time": "2021-07-24T00:20:22.838661",
     "exception": false,
     "start_time": "2021-07-24T00:20:22.803904",
     "status": "completed"
    },
    "tags": []
   },
   "source": [
    "# COVID-19 Case Race\n",
    "> A race chart to see rising cases around the world\n",
    "\n",
    "- author: Hargun Oberoi\n",
    "- image: images/covid-overview.png\n",
    "- hide: false\n",
    "- badges: false"
   ]
  },
  {
   "cell_type": "code",
   "execution_count": 1,
   "id": "proof-material",
   "metadata": {
    "execution": {
     "iopub.execute_input": "2021-07-24T00:20:22.915943Z",
     "iopub.status.busy": "2021-07-24T00:20:22.915373Z",
     "iopub.status.idle": "2021-07-24T00:20:23.284250Z",
     "shell.execute_reply": "2021-07-24T00:20:23.283740Z"
    },
    "papermill": {
     "duration": 0.4139,
     "end_time": "2021-07-24T00:20:23.284430",
     "exception": false,
     "start_time": "2021-07-24T00:20:22.870530",
     "status": "completed"
    },
    "tags": []
   },
   "outputs": [],
   "source": [
    "#hide\n",
    "import numpy as np\n",
    "import pandas as pd\n",
    "from jinja2 import Template\n",
    "from IPython.display import HTML"
   ]
  },
  {
   "cell_type": "code",
   "execution_count": 2,
   "id": "developed-terminology",
   "metadata": {
    "execution": {
     "iopub.execute_input": "2021-07-24T00:20:23.353569Z",
     "iopub.status.busy": "2021-07-24T00:20:23.353007Z",
     "iopub.status.idle": "2021-07-24T00:20:23.354943Z",
     "shell.execute_reply": "2021-07-24T00:20:23.355334Z"
    },
    "papermill": {
     "duration": 0.037886,
     "end_time": "2021-07-24T00:20:23.355492",
     "exception": false,
     "start_time": "2021-07-24T00:20:23.317606",
     "status": "completed"
    },
    "tags": []
   },
   "outputs": [],
   "source": [
    "#hide\n",
    "\n",
    "# FETCH\n",
    "base_url = 'https://raw.githubusercontent.com/pratapvardhan/notebooks/master/covid19/'\n",
    "paths = {\n",
    "    'mapping': base_url + 'mapping_countries.csv',\n",
    "    'overview': base_url + 'overview.tpl'\n",
    "}"
   ]
  },
  {
   "cell_type": "code",
   "execution_count": 3,
   "id": "dynamic-saver",
   "metadata": {
    "execution": {
     "iopub.execute_input": "2021-07-24T00:20:23.433066Z",
     "iopub.status.busy": "2021-07-24T00:20:23.429938Z",
     "iopub.status.idle": "2021-07-24T00:20:23.435982Z",
     "shell.execute_reply": "2021-07-24T00:20:23.436483Z"
    },
    "papermill": {
     "duration": 0.047218,
     "end_time": "2021-07-24T00:20:23.436591",
     "exception": false,
     "start_time": "2021-07-24T00:20:23.389373",
     "status": "completed"
    },
    "tags": []
   },
   "outputs": [
    {
     "data": {
      "text/plain": [
       "'https://raw.githubusercontent.com/pratapvardhan/notebooks/master/covid19/mapping_countries.csv'"
      ]
     },
     "execution_count": 3,
     "metadata": {},
     "output_type": "execute_result"
    }
   ],
   "source": [
    "#hide\n",
    "paths['mapping']"
   ]
  },
  {
   "cell_type": "code",
   "execution_count": 4,
   "id": "urban-software",
   "metadata": {
    "execution": {
     "iopub.execute_input": "2021-07-24T00:20:23.512088Z",
     "iopub.status.busy": "2021-07-24T00:20:23.511513Z",
     "iopub.status.idle": "2021-07-24T00:20:23.514323Z",
     "shell.execute_reply": "2021-07-24T00:20:23.513846Z"
    },
    "papermill": {
     "duration": 0.042471,
     "end_time": "2021-07-24T00:20:23.514419",
     "exception": false,
     "start_time": "2021-07-24T00:20:23.471948",
     "status": "completed"
    },
    "tags": []
   },
   "outputs": [],
   "source": [
    "#hide\n",
    "def get_mappings(url):\n",
    "    df = pd.read_csv(url)\n",
    "    return {\n",
    "        'df': df,\n",
    "        'replace.country': dict(df.dropna(subset=['Name']).set_index('Country')['Name']),\n",
    "        'map.continent': dict(df.set_index('Name')['Continent'])\n",
    "    }"
   ]
  },
  {
   "cell_type": "code",
   "execution_count": 5,
   "id": "intimate-machinery",
   "metadata": {
    "execution": {
     "iopub.execute_input": "2021-07-24T00:20:23.582876Z",
     "iopub.status.busy": "2021-07-24T00:20:23.582127Z",
     "iopub.status.idle": "2021-07-24T00:20:23.626300Z",
     "shell.execute_reply": "2021-07-24T00:20:23.626738Z"
    },
    "papermill": {
     "duration": 0.080433,
     "end_time": "2021-07-24T00:20:23.626858",
     "exception": false,
     "start_time": "2021-07-24T00:20:23.546425",
     "status": "completed"
    },
    "tags": []
   },
   "outputs": [],
   "source": [
    "#hide\n",
    "mapping = get_mappings(paths['mapping'])"
   ]
  },
  {
   "cell_type": "code",
   "execution_count": 6,
   "id": "certified-tactics",
   "metadata": {
    "execution": {
     "iopub.execute_input": "2021-07-24T00:20:23.692337Z",
     "iopub.status.busy": "2021-07-24T00:20:23.691740Z",
     "iopub.status.idle": "2021-07-24T00:20:23.696596Z",
     "shell.execute_reply": "2021-07-24T00:20:23.697070Z"
    },
    "papermill": {
     "duration": 0.039709,
     "end_time": "2021-07-24T00:20:23.697219",
     "exception": false,
     "start_time": "2021-07-24T00:20:23.657510",
     "status": "completed"
    },
    "tags": []
   },
   "outputs": [],
   "source": [
    "#hide\n",
    "def get_template(path):\n",
    "    from urllib.parse import urlparse\n",
    "    if bool(urlparse(path).netloc):\n",
    "        from urllib.request import urlopen\n",
    "        return urlopen(path).read().decode('utf8')\n",
    "    return open(path).read()"
   ]
  },
  {
   "cell_type": "code",
   "execution_count": 7,
   "id": "realistic-blast",
   "metadata": {
    "execution": {
     "iopub.execute_input": "2021-07-24T00:20:23.770771Z",
     "iopub.status.busy": "2021-07-24T00:20:23.770122Z",
     "iopub.status.idle": "2021-07-24T00:20:23.771979Z",
     "shell.execute_reply": "2021-07-24T00:20:23.772448Z"
    },
    "papermill": {
     "duration": 0.044224,
     "end_time": "2021-07-24T00:20:23.772569",
     "exception": false,
     "start_time": "2021-07-24T00:20:23.728345",
     "status": "completed"
    },
    "tags": []
   },
   "outputs": [],
   "source": [
    "#hide\n",
    "def get_frame(name):\n",
    "    url = (\n",
    "        'https://raw.githubusercontent.com/CSSEGISandData/COVID-19/master/csse_covid_19_data/'\n",
    "        f'csse_covid_19_time_series/time_series_covid19_{name}_global.csv')\n",
    "    df = pd.read_csv(url)\n",
    "    # rename countries\n",
    "    df['Country/Region'] = df['Country/Region'].replace(mapping['replace.country'])\n",
    "    return df"
   ]
  },
  {
   "cell_type": "code",
   "execution_count": 8,
   "id": "affiliated-characterization",
   "metadata": {
    "execution": {
     "iopub.execute_input": "2021-07-24T00:20:23.844030Z",
     "iopub.status.busy": "2021-07-24T00:20:23.843466Z",
     "iopub.status.idle": "2021-07-24T00:20:23.845879Z",
     "shell.execute_reply": "2021-07-24T00:20:23.845398Z"
    },
    "papermill": {
     "duration": 0.039577,
     "end_time": "2021-07-24T00:20:23.845975",
     "exception": false,
     "start_time": "2021-07-24T00:20:23.806398",
     "status": "completed"
    },
    "tags": []
   },
   "outputs": [],
   "source": [
    "#hide\n",
    "def get_dates(df):\n",
    "    dt_cols = df.columns[~df.columns.isin(['Province/State', 'Country/Region', 'Lat', 'Long'])]\n",
    "    LAST_DATE_I = -1\n",
    "    # sometimes last column may be empty, then go backwards\n",
    "    for i in range(-1, -len(dt_cols), -1):\n",
    "        if not df[dt_cols[i]].fillna(0).eq(0).all():\n",
    "            LAST_DATE_I = i\n",
    "            break\n",
    "    return LAST_DATE_I, dt_cols"
   ]
  },
  {
   "cell_type": "code",
   "execution_count": 9,
   "id": "recent-optimization",
   "metadata": {
    "execution": {
     "iopub.execute_input": "2021-07-24T00:20:23.915660Z",
     "iopub.status.busy": "2021-07-24T00:20:23.915033Z",
     "iopub.status.idle": "2021-07-24T00:20:24.292734Z",
     "shell.execute_reply": "2021-07-24T00:20:24.291678Z"
    },
    "papermill": {
     "duration": 0.416043,
     "end_time": "2021-07-24T00:20:24.292856",
     "exception": false,
     "start_time": "2021-07-24T00:20:23.876813",
     "status": "completed"
    },
    "tags": []
   },
   "outputs": [],
   "source": [
    "#hide\n",
    "COL_REGION = 'Country/Region'\n",
    "# Confirmed, Recovered, Deaths\n",
    "df = get_frame('confirmed')\n",
    "# dft_: timeseries, dfc_: today country agg\n",
    "dft_cases = df\n",
    "dft_deaths = get_frame('deaths')\n",
    "dft_recovered = get_frame('recovered')\n",
    "LAST_DATE_I, dt_cols = get_dates(df)"
   ]
  },
  {
   "cell_type": "code",
   "execution_count": 10,
   "id": "absolute-copper",
   "metadata": {
    "execution": {
     "iopub.execute_input": "2021-07-24T00:20:24.369151Z",
     "iopub.status.busy": "2021-07-24T00:20:24.368576Z",
     "iopub.status.idle": "2021-07-24T00:20:24.371099Z",
     "shell.execute_reply": "2021-07-24T00:20:24.370569Z"
    },
    "papermill": {
     "duration": 0.043112,
     "end_time": "2021-07-24T00:20:24.371208",
     "exception": false,
     "start_time": "2021-07-24T00:20:24.328096",
     "status": "completed"
    },
    "tags": []
   },
   "outputs": [],
   "source": [
    "#hide\n",
    "LAST_DATE_I, dt_cols = get_dates(df)\n",
    "dt_today =dt_cols[LAST_DATE_I]\n",
    "# dt_5day = dt_cols[LAST_DATE_I - 5]\n",
    "dt_yday = dt_cols[LAST_DATE_I - 1]"
   ]
  },
  {
   "cell_type": "code",
   "execution_count": 11,
   "id": "restricted-sheriff",
   "metadata": {
    "execution": {
     "iopub.execute_input": "2021-07-24T00:20:24.445965Z",
     "iopub.status.busy": "2021-07-24T00:20:24.445371Z",
     "iopub.status.idle": "2021-07-24T00:20:24.456192Z",
     "shell.execute_reply": "2021-07-24T00:20:24.456839Z"
    },
    "papermill": {
     "duration": 0.050895,
     "end_time": "2021-07-24T00:20:24.456959",
     "exception": false,
     "start_time": "2021-07-24T00:20:24.406064",
     "status": "completed"
    },
    "tags": []
   },
   "outputs": [],
   "source": [
    "#hide\n",
    "dfc_cases = dft_cases.groupby(COL_REGION)[dt_today].sum()\n",
    "dfc_deaths = dft_deaths.groupby(COL_REGION)[dt_today].sum()\n",
    "# dfp_cases = dft_cases.groupby(COL_REGION)[dt_5day].sum()\n",
    "# dfp_deaths = dft_deaths.groupby(COL_REGION)[dt_5day].sum()\n",
    "dfp_cases = dft_cases.groupby(COL_REGION)[dt_yday].sum()\n",
    "dfp_deaths = dft_deaths.groupby(COL_REGION)[dt_yday].sum()"
   ]
  },
  {
   "cell_type": "code",
   "execution_count": 12,
   "id": "deluxe-hepatitis",
   "metadata": {
    "execution": {
     "iopub.execute_input": "2021-07-24T00:20:24.538292Z",
     "iopub.status.busy": "2021-07-24T00:20:24.537531Z",
     "iopub.status.idle": "2021-07-24T00:20:24.543530Z",
     "shell.execute_reply": "2021-07-24T00:20:24.542890Z"
    },
    "papermill": {
     "duration": 0.04927,
     "end_time": "2021-07-24T00:20:24.543717",
     "exception": false,
     "start_time": "2021-07-24T00:20:24.494447",
     "status": "completed"
    },
    "tags": []
   },
   "outputs": [],
   "source": [
    "#hide\n",
    "df_table = (pd.DataFrame(dict(Cases = dfc_cases, Deaths = dfc_deaths, PCases = dfp_cases, PDeaths = dfp_deaths))\n",
    "            .sort_values(by = ['Cases','Deaths'], ascending = [False, False])\n",
    "            .reset_index())"
   ]
  },
  {
   "cell_type": "code",
   "execution_count": 13,
   "id": "educational-chancellor",
   "metadata": {
    "execution": {
     "iopub.execute_input": "2021-07-24T00:20:24.645114Z",
     "iopub.status.busy": "2021-07-24T00:20:24.644438Z",
     "iopub.status.idle": "2021-07-24T00:20:24.654206Z",
     "shell.execute_reply": "2021-07-24T00:20:24.654790Z"
    },
    "papermill": {
     "duration": 0.068954,
     "end_time": "2021-07-24T00:20:24.654933",
     "exception": false,
     "start_time": "2021-07-24T00:20:24.585979",
     "status": "completed"
    },
    "tags": []
   },
   "outputs": [
    {
     "data": {
      "text/html": [
       "<div>\n",
       "<style scoped>\n",
       "    .dataframe tbody tr th:only-of-type {\n",
       "        vertical-align: middle;\n",
       "    }\n",
       "\n",
       "    .dataframe tbody tr th {\n",
       "        vertical-align: top;\n",
       "    }\n",
       "\n",
       "    .dataframe thead th {\n",
       "        text-align: right;\n",
       "    }\n",
       "</style>\n",
       "<table border=\"1\" class=\"dataframe\">\n",
       "  <thead>\n",
       "    <tr style=\"text-align: right;\">\n",
       "      <th></th>\n",
       "      <th>Country/Region</th>\n",
       "      <th>Cases</th>\n",
       "      <th>Deaths</th>\n",
       "      <th>PCases</th>\n",
       "      <th>PDeaths</th>\n",
       "      <th>Cases (+)</th>\n",
       "      <th>Deaths (+)</th>\n",
       "      <th>Fatality Rate</th>\n",
       "      <th>Continent</th>\n",
       "    </tr>\n",
       "  </thead>\n",
       "  <tbody>\n",
       "    <tr>\n",
       "      <th>0</th>\n",
       "      <td>US</td>\n",
       "      <td>34281864</td>\n",
       "      <td>610177</td>\n",
       "      <td>34226806</td>\n",
       "      <td>609862</td>\n",
       "      <td>55058</td>\n",
       "      <td>315</td>\n",
       "      <td>1.78</td>\n",
       "      <td>North America</td>\n",
       "    </tr>\n",
       "    <tr>\n",
       "      <th>1</th>\n",
       "      <td>India</td>\n",
       "      <td>31293062</td>\n",
       "      <td>419470</td>\n",
       "      <td>31257720</td>\n",
       "      <td>418987</td>\n",
       "      <td>35342</td>\n",
       "      <td>483</td>\n",
       "      <td>1.34</td>\n",
       "      <td>Asia</td>\n",
       "    </tr>\n",
       "    <tr>\n",
       "      <th>2</th>\n",
       "      <td>Brazil</td>\n",
       "      <td>19523711</td>\n",
       "      <td>547016</td>\n",
       "      <td>19473954</td>\n",
       "      <td>545604</td>\n",
       "      <td>49757</td>\n",
       "      <td>1412</td>\n",
       "      <td>2.80</td>\n",
       "      <td>South America</td>\n",
       "    </tr>\n",
       "    <tr>\n",
       "      <th>3</th>\n",
       "      <td>France</td>\n",
       "      <td>5996060</td>\n",
       "      <td>111749</td>\n",
       "      <td>5973912</td>\n",
       "      <td>111737</td>\n",
       "      <td>22148</td>\n",
       "      <td>12</td>\n",
       "      <td>1.86</td>\n",
       "      <td>Europe</td>\n",
       "    </tr>\n",
       "    <tr>\n",
       "      <th>4</th>\n",
       "      <td>Russia</td>\n",
       "      <td>5979027</td>\n",
       "      <td>149012</td>\n",
       "      <td>5955089</td>\n",
       "      <td>148229</td>\n",
       "      <td>23938</td>\n",
       "      <td>783</td>\n",
       "      <td>2.49</td>\n",
       "      <td>Europe</td>\n",
       "    </tr>\n",
       "  </tbody>\n",
       "</table>\n",
       "</div>"
      ],
      "text/plain": [
       "  Country/Region     Cases  Deaths    PCases  PDeaths  Cases (+)  Deaths (+)  \\\n",
       "0             US  34281864  610177  34226806   609862      55058         315   \n",
       "1          India  31293062  419470  31257720   418987      35342         483   \n",
       "2         Brazil  19523711  547016  19473954   545604      49757        1412   \n",
       "3         France   5996060  111749   5973912   111737      22148          12   \n",
       "4         Russia   5979027  149012   5955089   148229      23938         783   \n",
       "\n",
       "   Fatality Rate      Continent  \n",
       "0           1.78  North America  \n",
       "1           1.34           Asia  \n",
       "2           2.80  South America  \n",
       "3           1.86         Europe  \n",
       "4           2.49         Europe  "
      ]
     },
     "execution_count": 13,
     "metadata": {},
     "output_type": "execute_result"
    }
   ],
   "source": [
    "#hide\n",
    "for c in 'Cases, Deaths'.split(', '):\n",
    "    df_table[f'{c} (+)'] = (df_table[c] - df_table[f'P{c}']).clip(0)\n",
    "    #Clip ça veut dire, les chiffres negatif sont interdit\n",
    "df_table['Fatality Rate'] = (100* df_table['Deaths']/ df_table['Cases']).round(2)\n",
    "df_table['Continent'] = df_table['Country/Region'].map(mapping['map.continent'])\n",
    "df_table.head(5)"
   ]
  },
  {
   "cell_type": "code",
   "execution_count": 14,
   "id": "aboriginal-bulgaria",
   "metadata": {
    "execution": {
     "iopub.execute_input": "2021-07-24T00:20:24.739987Z",
     "iopub.status.busy": "2021-07-24T00:20:24.739298Z",
     "iopub.status.idle": "2021-07-24T00:20:24.741351Z",
     "shell.execute_reply": "2021-07-24T00:20:24.741939Z"
    },
    "papermill": {
     "duration": 0.048273,
     "end_time": "2021-07-24T00:20:24.742088",
     "exception": false,
     "start_time": "2021-07-24T00:20:24.693815",
     "status": "completed"
    },
    "tags": []
   },
   "outputs": [],
   "source": [
    "#hide\n",
    "#delete problematic countries from table\n",
    "df_table = df_table[~df_table['Country/Region'].isin(['Cape Verde', 'Cruise Ship', 'Kosovo'])]"
   ]
  },
  {
   "cell_type": "code",
   "execution_count": 15,
   "id": "fantastic-effect",
   "metadata": {
    "execution": {
     "iopub.execute_input": "2021-07-24T00:20:24.827741Z",
     "iopub.status.busy": "2021-07-24T00:20:24.827094Z",
     "iopub.status.idle": "2021-07-24T00:20:24.850242Z",
     "shell.execute_reply": "2021-07-24T00:20:24.849507Z"
    },
    "papermill": {
     "duration": 0.069528,
     "end_time": "2021-07-24T00:20:24.850461",
     "exception": false,
     "start_time": "2021-07-24T00:20:24.780933",
     "status": "completed"
    },
    "tags": []
   },
   "outputs": [
    {
     "data": {
      "text/html": [
       "<div>\n",
       "<style scoped>\n",
       "    .dataframe tbody tr th:only-of-type {\n",
       "        vertical-align: middle;\n",
       "    }\n",
       "\n",
       "    .dataframe tbody tr th {\n",
       "        vertical-align: top;\n",
       "    }\n",
       "\n",
       "    .dataframe thead th {\n",
       "        text-align: right;\n",
       "    }\n",
       "</style>\n",
       "<table border=\"1\" class=\"dataframe\">\n",
       "  <thead>\n",
       "    <tr style=\"text-align: right;\">\n",
       "      <th></th>\n",
       "      <th>Country/Region</th>\n",
       "      <th>Cases</th>\n",
       "      <th>Deaths</th>\n",
       "      <th>PCases</th>\n",
       "      <th>PDeaths</th>\n",
       "      <th>Cases (+)</th>\n",
       "      <th>Deaths (+)</th>\n",
       "      <th>Fatality Rate</th>\n",
       "      <th>Continent</th>\n",
       "    </tr>\n",
       "  </thead>\n",
       "  <tbody>\n",
       "    <tr>\n",
       "      <th>0</th>\n",
       "      <td>US</td>\n",
       "      <td>34281864</td>\n",
       "      <td>610177</td>\n",
       "      <td>34226806</td>\n",
       "      <td>609862</td>\n",
       "      <td>55058</td>\n",
       "      <td>315</td>\n",
       "      <td>1.8</td>\n",
       "      <td>North America</td>\n",
       "    </tr>\n",
       "    <tr>\n",
       "      <th>1</th>\n",
       "      <td>India</td>\n",
       "      <td>31293062</td>\n",
       "      <td>419470</td>\n",
       "      <td>31257720</td>\n",
       "      <td>418987</td>\n",
       "      <td>35342</td>\n",
       "      <td>483</td>\n",
       "      <td>1.3</td>\n",
       "      <td>Asia</td>\n",
       "    </tr>\n",
       "    <tr>\n",
       "      <th>2</th>\n",
       "      <td>Brazil</td>\n",
       "      <td>19523711</td>\n",
       "      <td>547016</td>\n",
       "      <td>19473954</td>\n",
       "      <td>545604</td>\n",
       "      <td>49757</td>\n",
       "      <td>1412</td>\n",
       "      <td>2.8</td>\n",
       "      <td>South America</td>\n",
       "    </tr>\n",
       "    <tr>\n",
       "      <th>3</th>\n",
       "      <td>France</td>\n",
       "      <td>5996060</td>\n",
       "      <td>111749</td>\n",
       "      <td>5973912</td>\n",
       "      <td>111737</td>\n",
       "      <td>22148</td>\n",
       "      <td>12</td>\n",
       "      <td>1.9</td>\n",
       "      <td>Europe</td>\n",
       "    </tr>\n",
       "    <tr>\n",
       "      <th>4</th>\n",
       "      <td>Russia</td>\n",
       "      <td>5979027</td>\n",
       "      <td>149012</td>\n",
       "      <td>5955089</td>\n",
       "      <td>148229</td>\n",
       "      <td>23938</td>\n",
       "      <td>783</td>\n",
       "      <td>2.5</td>\n",
       "      <td>Europe</td>\n",
       "    </tr>\n",
       "  </tbody>\n",
       "</table>\n",
       "</div>"
      ],
      "text/plain": [
       "  Country/Region     Cases  Deaths    PCases  PDeaths  Cases (+)  Deaths (+)  \\\n",
       "0             US  34281864  610177  34226806   609862      55058         315   \n",
       "1          India  31293062  419470  31257720   418987      35342         483   \n",
       "2         Brazil  19523711  547016  19473954   545604      49757        1412   \n",
       "3         France   5996060  111749   5973912   111737      22148          12   \n",
       "4         Russia   5979027  149012   5955089   148229      23938         783   \n",
       "\n",
       "   Fatality Rate      Continent  \n",
       "0            1.8  North America  \n",
       "1            1.3           Asia  \n",
       "2            2.8  South America  \n",
       "3            1.9         Europe  \n",
       "4            2.5         Europe  "
      ]
     },
     "execution_count": 15,
     "metadata": {},
     "output_type": "execute_result"
    }
   ],
   "source": [
    "#hide\n",
    "df_table = (pd.DataFrame(dict(Cases=dfc_cases, Deaths=dfc_deaths, PCases=dfp_cases, PDeaths=dfp_deaths))\n",
    "             .sort_values(by=['Cases', 'Deaths'], ascending=[False, False])\n",
    "             .reset_index())\n",
    "df_table.rename(columns={'index': 'Country/Region'}, inplace=True)\n",
    "for c in 'Cases, Deaths'.split(', '):\n",
    "    df_table[f'{c} (+)'] = (df_table[c] - df_table[f'P{c}']).clip(0)  # DATA BUG\n",
    "df_table['Fatality Rate'] = (100 * df_table['Deaths'] / df_table['Cases']).round(1)\n",
    "df_table['Continent'] = df_table['Country/Region'].map(mapping['map.continent'])\n",
    "df_table.head(5)"
   ]
  },
  {
   "cell_type": "code",
   "execution_count": 16,
   "id": "fewer-occasion",
   "metadata": {
    "execution": {
     "iopub.execute_input": "2021-07-24T00:20:24.929614Z",
     "iopub.status.busy": "2021-07-24T00:20:24.928958Z",
     "iopub.status.idle": "2021-07-24T00:20:24.931985Z",
     "shell.execute_reply": "2021-07-24T00:20:24.932541Z"
    },
    "papermill": {
     "duration": 0.044128,
     "end_time": "2021-07-24T00:20:24.932665",
     "exception": false,
     "start_time": "2021-07-24T00:20:24.888537",
     "status": "completed"
    },
    "tags": []
   },
   "outputs": [],
   "source": [
    "#hide\n",
    "#delete problematic countries from table\n",
    "df_table = df_table[~df_table['Country/Region'].isin(['Cape Verde', 'Cruise Ship', 'Kosovo'])]"
   ]
  },
  {
   "cell_type": "code",
   "execution_count": 17,
   "id": "related-center",
   "metadata": {
    "execution": {
     "iopub.execute_input": "2021-07-24T00:20:25.019067Z",
     "iopub.status.busy": "2021-07-24T00:20:25.018285Z",
     "iopub.status.idle": "2021-07-24T00:20:25.034590Z",
     "shell.execute_reply": "2021-07-24T00:20:25.035158Z"
    },
    "papermill": {
     "duration": 0.062373,
     "end_time": "2021-07-24T00:20:25.035297",
     "exception": false,
     "start_time": "2021-07-24T00:20:24.972924",
     "status": "completed"
    },
    "tags": []
   },
   "outputs": [],
   "source": [
    "#hide\n",
    "metrics = [df_table.columns[index] for index in [1,2,5,6]]\n",
    "# s_china = df_table[df_table['Country/Region'].eq('China')][metrics].sum().add_prefix('China ')\n",
    "s_us = df_table[df_table['Country/Region'].eq('US')][metrics].sum().add_prefix('US ')\n",
    "s_eu = df_table[df_table['Continent'].eq('Europe')][metrics].sum().add_prefix('EU ')\n",
    "s_ind = df_table[df_table['Country/Region'].eq('India')][metrics].sum().add_prefix('India ')\n",
    "summary = {'updated': pd.to_datetime(dt_today), 'since': pd.to_datetime(dt_yday)}\n",
    "summary = {'updated': pd.to_datetime(dt_today), 'since': pd.to_datetime(dt_yday)}\n",
    "summary = {**summary, **df_table[metrics].sum(), **s_ind, **s_us, **s_eu}"
   ]
  },
  {
   "cell_type": "code",
   "execution_count": 18,
   "id": "engaging-syndrome",
   "metadata": {
    "execution": {
     "iopub.execute_input": "2021-07-24T00:20:25.122002Z",
     "iopub.status.busy": "2021-07-24T00:20:25.121330Z",
     "iopub.status.idle": "2021-07-24T00:20:25.134494Z",
     "shell.execute_reply": "2021-07-24T00:20:25.135254Z"
    },
    "papermill": {
     "duration": 0.061112,
     "end_time": "2021-07-24T00:20:25.135430",
     "exception": false,
     "start_time": "2021-07-24T00:20:25.074318",
     "status": "completed"
    },
    "tags": []
   },
   "outputs": [],
   "source": [
    "#hide\n",
    "dft_ct_new_cases = dft_cases.groupby(COL_REGION)[dt_cols].sum().diff(axis=1).fillna(0).astype(int)"
   ]
  },
  {
   "cell_type": "code",
   "execution_count": 19,
   "id": "neutral-assignment",
   "metadata": {
    "execution": {
     "iopub.execute_input": "2021-07-24T00:20:25.220364Z",
     "iopub.status.busy": "2021-07-24T00:20:25.219572Z",
     "iopub.status.idle": "2021-07-24T00:20:25.221691Z",
     "shell.execute_reply": "2021-07-24T00:20:25.222279Z"
    },
    "papermill": {
     "duration": 0.046562,
     "end_time": "2021-07-24T00:20:25.222405",
     "exception": false,
     "start_time": "2021-07-24T00:20:25.175843",
     "status": "completed"
    },
    "tags": []
   },
   "outputs": [],
   "source": [
    "#hide\n",
    "everydaycases = dft_ct_new_cases.cumsum(axis=1)"
   ]
  },
  {
   "cell_type": "code",
   "execution_count": 20,
   "id": "parliamentary-calgary",
   "metadata": {
    "execution": {
     "iopub.execute_input": "2021-07-24T00:20:25.293597Z",
     "iopub.status.busy": "2021-07-24T00:20:25.293063Z",
     "iopub.status.idle": "2021-07-24T00:20:26.015040Z",
     "shell.execute_reply": "2021-07-24T00:20:26.015601Z"
    },
    "papermill": {
     "duration": 0.760597,
     "end_time": "2021-07-24T00:20:26.015755",
     "exception": false,
     "start_time": "2021-07-24T00:20:25.255158",
     "status": "completed"
    },
    "tags": []
   },
   "outputs": [],
   "source": [
    "#hide\n",
    "import pandas as pd\n",
    "import matplotlib.pyplot as plt\n",
    "import matplotlib.ticker as ticker\n",
    "import matplotlib.animation as animation\n",
    "from IPython.display import HTML"
   ]
  },
  {
   "cell_type": "code",
   "execution_count": 21,
   "id": "lasting-extraction",
   "metadata": {
    "execution": {
     "iopub.execute_input": "2021-07-24T00:20:26.097668Z",
     "iopub.status.busy": "2021-07-24T00:20:26.096970Z",
     "iopub.status.idle": "2021-07-24T00:20:26.102642Z",
     "shell.execute_reply": "2021-07-24T00:20:26.103201Z"
    },
    "papermill": {
     "duration": 0.048908,
     "end_time": "2021-07-24T00:20:26.103327",
     "exception": false,
     "start_time": "2021-07-24T00:20:26.054419",
     "status": "completed"
    },
    "tags": []
   },
   "outputs": [],
   "source": [
    "#hide\n",
    "t = everydaycases.stack()"
   ]
  },
  {
   "cell_type": "code",
   "execution_count": 22,
   "id": "premier-sleeve",
   "metadata": {
    "execution": {
     "iopub.execute_input": "2021-07-24T00:20:26.174702Z",
     "iopub.status.busy": "2021-07-24T00:20:26.174111Z",
     "iopub.status.idle": "2021-07-24T00:20:26.184713Z",
     "shell.execute_reply": "2021-07-24T00:20:26.184107Z"
    },
    "papermill": {
     "duration": 0.047959,
     "end_time": "2021-07-24T00:20:26.184825",
     "exception": false,
     "start_time": "2021-07-24T00:20:26.136866",
     "status": "completed"
    },
    "tags": []
   },
   "outputs": [],
   "source": [
    "#hide\n",
    "g = t.reset_index(['Country/Region'])"
   ]
  },
  {
   "cell_type": "code",
   "execution_count": 23,
   "id": "distributed-pittsburgh",
   "metadata": {
    "execution": {
     "iopub.execute_input": "2021-07-24T00:20:26.261734Z",
     "iopub.status.busy": "2021-07-24T00:20:26.260979Z",
     "iopub.status.idle": "2021-07-24T00:20:26.265019Z",
     "shell.execute_reply": "2021-07-24T00:20:26.264526Z"
    },
    "papermill": {
     "duration": 0.044499,
     "end_time": "2021-07-24T00:20:26.265126",
     "exception": false,
     "start_time": "2021-07-24T00:20:26.220627",
     "status": "completed"
    },
    "tags": []
   },
   "outputs": [],
   "source": [
    "#hide\n",
    "g.index.name = 'date'"
   ]
  },
  {
   "cell_type": "code",
   "execution_count": 24,
   "id": "naked-donor",
   "metadata": {
    "execution": {
     "iopub.execute_input": "2021-07-24T00:20:26.338547Z",
     "iopub.status.busy": "2021-07-24T00:20:26.337940Z",
     "iopub.status.idle": "2021-07-24T00:20:26.340567Z",
     "shell.execute_reply": "2021-07-24T00:20:26.340093Z"
    },
    "papermill": {
     "duration": 0.041425,
     "end_time": "2021-07-24T00:20:26.340731",
     "exception": false,
     "start_time": "2021-07-24T00:20:26.299306",
     "status": "completed"
    },
    "tags": []
   },
   "outputs": [],
   "source": [
    "# #hide\n",
    "# g = g.reset_index(['date'])"
   ]
  },
  {
   "cell_type": "code",
   "execution_count": 25,
   "id": "incomplete-mustang",
   "metadata": {
    "execution": {
     "iopub.execute_input": "2021-07-24T00:20:26.412939Z",
     "iopub.status.busy": "2021-07-24T00:20:26.412157Z",
     "iopub.status.idle": "2021-07-24T00:20:26.415487Z",
     "shell.execute_reply": "2021-07-24T00:20:26.414894Z"
    },
    "papermill": {
     "duration": 0.040693,
     "end_time": "2021-07-24T00:20:26.415638",
     "exception": false,
     "start_time": "2021-07-24T00:20:26.374945",
     "status": "completed"
    },
    "tags": []
   },
   "outputs": [],
   "source": [
    "#hide\n",
    "# g.head()"
   ]
  },
  {
   "cell_type": "code",
   "execution_count": 26,
   "id": "specific-kruger",
   "metadata": {
    "execution": {
     "iopub.execute_input": "2021-07-24T00:20:26.487483Z",
     "iopub.status.busy": "2021-07-24T00:20:26.486775Z",
     "iopub.status.idle": "2021-07-24T00:20:26.489608Z",
     "shell.execute_reply": "2021-07-24T00:20:26.488992Z"
    },
    "papermill": {
     "duration": 0.041591,
     "end_time": "2021-07-24T00:20:26.489715",
     "exception": false,
     "start_time": "2021-07-24T00:20:26.448124",
     "status": "completed"
    },
    "tags": []
   },
   "outputs": [],
   "source": [
    "#hide\n",
    "# g.columns = ['date','country','cases']"
   ]
  },
  {
   "cell_type": "code",
   "execution_count": 27,
   "id": "tender-conversion",
   "metadata": {
    "execution": {
     "iopub.execute_input": "2021-07-24T00:20:26.560484Z",
     "iopub.status.busy": "2021-07-24T00:20:26.559897Z",
     "iopub.status.idle": "2021-07-24T00:20:26.562316Z",
     "shell.execute_reply": "2021-07-24T00:20:26.561831Z"
    },
    "papermill": {
     "duration": 0.038714,
     "end_time": "2021-07-24T00:20:26.562453",
     "exception": false,
     "start_time": "2021-07-24T00:20:26.523739",
     "status": "completed"
    },
    "tags": []
   },
   "outputs": [],
   "source": [
    "#hide\n",
    "# g['continent'] = g.country"
   ]
  },
  {
   "cell_type": "code",
   "execution_count": 28,
   "id": "substantial-wilderness",
   "metadata": {
    "execution": {
     "iopub.execute_input": "2021-07-24T00:20:26.633268Z",
     "iopub.status.busy": "2021-07-24T00:20:26.632728Z",
     "iopub.status.idle": "2021-07-24T00:20:26.635282Z",
     "shell.execute_reply": "2021-07-24T00:20:26.634641Z"
    },
    "papermill": {
     "duration": 0.037835,
     "end_time": "2021-07-24T00:20:26.635457",
     "exception": false,
     "start_time": "2021-07-24T00:20:26.597622",
     "status": "completed"
    },
    "tags": []
   },
   "outputs": [],
   "source": [
    "#hide\n",
    "# cols = list(g.columns.values)"
   ]
  },
  {
   "cell_type": "code",
   "execution_count": 29,
   "id": "solved-farming",
   "metadata": {
    "execution": {
     "iopub.execute_input": "2021-07-24T00:20:26.710971Z",
     "iopub.status.busy": "2021-07-24T00:20:26.710397Z",
     "iopub.status.idle": "2021-07-24T00:20:26.712389Z",
     "shell.execute_reply": "2021-07-24T00:20:26.712868Z"
    },
    "papermill": {
     "duration": 0.04491,
     "end_time": "2021-07-24T00:20:26.713020",
     "exception": false,
     "start_time": "2021-07-24T00:20:26.668110",
     "status": "completed"
    },
    "tags": []
   },
   "outputs": [],
   "source": [
    "#hide\n",
    "# cols.insert(0, cols.pop())"
   ]
  },
  {
   "cell_type": "code",
   "execution_count": 30,
   "id": "executed-adoption",
   "metadata": {
    "execution": {
     "iopub.execute_input": "2021-07-24T00:20:26.792195Z",
     "iopub.status.busy": "2021-07-24T00:20:26.791460Z",
     "iopub.status.idle": "2021-07-24T00:20:26.793575Z",
     "shell.execute_reply": "2021-07-24T00:20:26.794073Z"
    },
    "papermill": {
     "duration": 0.044193,
     "end_time": "2021-07-24T00:20:26.794223",
     "exception": false,
     "start_time": "2021-07-24T00:20:26.750030",
     "status": "completed"
    },
    "tags": []
   },
   "outputs": [],
   "source": [
    "#hide\n",
    "# g = g[cols]"
   ]
  },
  {
   "cell_type": "code",
   "execution_count": 31,
   "id": "subject-dublin",
   "metadata": {
    "execution": {
     "iopub.execute_input": "2021-07-24T00:20:26.868702Z",
     "iopub.status.busy": "2021-07-24T00:20:26.868108Z",
     "iopub.status.idle": "2021-07-24T00:20:26.870334Z",
     "shell.execute_reply": "2021-07-24T00:20:26.870868Z"
    },
    "papermill": {
     "duration": 0.040629,
     "end_time": "2021-07-24T00:20:26.871062",
     "exception": false,
     "start_time": "2021-07-24T00:20:26.830433",
     "status": "completed"
    },
    "tags": []
   },
   "outputs": [],
   "source": [
    "#hide\n",
    "# g['continent'] = g['continent'].map(mapping['map.continent'])"
   ]
  },
  {
   "cell_type": "code",
   "execution_count": 32,
   "id": "freelance-scout",
   "metadata": {
    "execution": {
     "iopub.execute_input": "2021-07-24T00:20:26.947354Z",
     "iopub.status.busy": "2021-07-24T00:20:26.946641Z",
     "iopub.status.idle": "2021-07-24T00:20:26.949091Z",
     "shell.execute_reply": "2021-07-24T00:20:26.948399Z"
    },
    "papermill": {
     "duration": 0.041291,
     "end_time": "2021-07-24T00:20:26.949216",
     "exception": false,
     "start_time": "2021-07-24T00:20:26.907925",
     "status": "completed"
    },
    "tags": []
   },
   "outputs": [],
   "source": [
    "#hide\n",
    "# g.head()"
   ]
  },
  {
   "cell_type": "code",
   "execution_count": 33,
   "id": "limited-engine",
   "metadata": {
    "execution": {
     "iopub.execute_input": "2021-07-24T00:20:27.028847Z",
     "iopub.status.busy": "2021-07-24T00:20:27.027622Z",
     "iopub.status.idle": "2021-07-24T00:20:27.029521Z",
     "shell.execute_reply": "2021-07-24T00:20:27.029963Z"
    },
    "papermill": {
     "duration": 0.044309,
     "end_time": "2021-07-24T00:20:27.030120",
     "exception": false,
     "start_time": "2021-07-24T00:20:26.985811",
     "status": "completed"
    },
    "tags": []
   },
   "outputs": [],
   "source": [
    "# hide\n",
    "# g['date'] = g['date'].astype('datetime64[ns]')"
   ]
  },
  {
   "cell_type": "code",
   "execution_count": 34,
   "id": "sophisticated-supervisor",
   "metadata": {
    "execution": {
     "iopub.execute_input": "2021-07-24T00:20:27.123227Z",
     "iopub.status.busy": "2021-07-24T00:20:27.122009Z",
     "iopub.status.idle": "2021-07-24T00:20:27.124000Z",
     "shell.execute_reply": "2021-07-24T00:20:27.124767Z"
    },
    "papermill": {
     "duration": 0.048595,
     "end_time": "2021-07-24T00:20:27.124918",
     "exception": false,
     "start_time": "2021-07-24T00:20:27.076323",
     "status": "completed"
    },
    "tags": []
   },
   "outputs": [],
   "source": [
    "#hide\n",
    "# g['date'] = g.date.dt.dayofyear"
   ]
  },
  {
   "cell_type": "code",
   "execution_count": 35,
   "id": "inside-dubai",
   "metadata": {
    "execution": {
     "iopub.execute_input": "2021-07-24T00:20:27.201583Z",
     "iopub.status.busy": "2021-07-24T00:20:27.200716Z",
     "iopub.status.idle": "2021-07-24T00:20:27.202590Z",
     "shell.execute_reply": "2021-07-24T00:20:27.203077Z"
    },
    "papermill": {
     "duration": 0.040452,
     "end_time": "2021-07-24T00:20:27.203212",
     "exception": false,
     "start_time": "2021-07-24T00:20:27.162760",
     "status": "completed"
    },
    "tags": []
   },
   "outputs": [],
   "source": [
    "#hide\n",
    "# g = g.rename(columns= {'continent':'group','country':'name','cases':'value'})"
   ]
  },
  {
   "cell_type": "code",
   "execution_count": 36,
   "id": "fleet-motorcycle",
   "metadata": {
    "execution": {
     "iopub.execute_input": "2021-07-24T00:20:27.280762Z",
     "iopub.status.busy": "2021-07-24T00:20:27.279385Z",
     "iopub.status.idle": "2021-07-24T00:20:27.281587Z",
     "shell.execute_reply": "2021-07-24T00:20:27.282089Z"
    },
    "papermill": {
     "duration": 0.043667,
     "end_time": "2021-07-24T00:20:27.282227",
     "exception": false,
     "start_time": "2021-07-24T00:20:27.238560",
     "status": "completed"
    },
    "tags": []
   },
   "outputs": [],
   "source": [
    "#hide\n",
    "# cols = ['name','group','day','value']"
   ]
  },
  {
   "cell_type": "code",
   "execution_count": 37,
   "id": "continued-sleeping",
   "metadata": {
    "execution": {
     "iopub.execute_input": "2021-07-24T00:20:27.357375Z",
     "iopub.status.busy": "2021-07-24T00:20:27.356540Z",
     "iopub.status.idle": "2021-07-24T00:20:27.359136Z",
     "shell.execute_reply": "2021-07-24T00:20:27.358698Z"
    },
    "papermill": {
     "duration": 0.037271,
     "end_time": "2021-07-24T00:20:27.359330",
     "exception": false,
     "start_time": "2021-07-24T00:20:27.322059",
     "status": "completed"
    },
    "tags": []
   },
   "outputs": [],
   "source": [
    "#hide\n",
    "# g.rename(columns= {'date':'day'},inplace = True)"
   ]
  },
  {
   "cell_type": "code",
   "execution_count": 38,
   "id": "major-fight",
   "metadata": {
    "execution": {
     "iopub.execute_input": "2021-07-24T00:20:27.431327Z",
     "iopub.status.busy": "2021-07-24T00:20:27.430720Z",
     "iopub.status.idle": "2021-07-24T00:20:27.432807Z",
     "shell.execute_reply": "2021-07-24T00:20:27.433206Z"
    },
    "papermill": {
     "duration": 0.04105,
     "end_time": "2021-07-24T00:20:27.433319",
     "exception": false,
     "start_time": "2021-07-24T00:20:27.392269",
     "status": "completed"
    },
    "tags": []
   },
   "outputs": [],
   "source": [
    "#hide\n",
    "# g = g[cols]"
   ]
  },
  {
   "cell_type": "code",
   "execution_count": 39,
   "id": "structured-mobile",
   "metadata": {
    "execution": {
     "iopub.execute_input": "2021-07-24T00:20:27.503488Z",
     "iopub.status.busy": "2021-07-24T00:20:27.502836Z",
     "iopub.status.idle": "2021-07-24T00:20:27.505459Z",
     "shell.execute_reply": "2021-07-24T00:20:27.504905Z"
    },
    "papermill": {
     "duration": 0.038976,
     "end_time": "2021-07-24T00:20:27.505557",
     "exception": false,
     "start_time": "2021-07-24T00:20:27.466581",
     "status": "completed"
    },
    "tags": []
   },
   "outputs": [],
   "source": [
    "# #hide\n",
    "# g = g[g.group.notna()]"
   ]
  },
  {
   "cell_type": "code",
   "execution_count": 40,
   "id": "determined-closing",
   "metadata": {
    "execution": {
     "iopub.execute_input": "2021-07-24T00:20:27.573553Z",
     "iopub.status.busy": "2021-07-24T00:20:27.572980Z",
     "iopub.status.idle": "2021-07-24T00:20:27.574839Z",
     "shell.execute_reply": "2021-07-24T00:20:27.575312Z"
    },
    "papermill": {
     "duration": 0.038003,
     "end_time": "2021-07-24T00:20:27.575424",
     "exception": false,
     "start_time": "2021-07-24T00:20:27.537421",
     "status": "completed"
    },
    "tags": []
   },
   "outputs": [],
   "source": [
    "# #hide\n",
    "# colors = dict(zip(\n",
    "#     [\"Oceania\", \"Europe\", \"Asia\", \"South America\", \"Middle East\", \"North America\", \"Africa\"],\n",
    "#     [\"#adb0ff\", \"#ffb3ff\", \"#90d595\", \"#e48381\", \"#aafbff\", \"#f7bb5f\", \"#eafb50\"]\n",
    "# ))\n",
    "# group_lk = g.set_index('name')['group'].to_dict()"
   ]
  },
  {
   "cell_type": "code",
   "execution_count": null,
   "id": "gross-drinking",
   "metadata": {
    "papermill": {
     "duration": 0.03423,
     "end_time": "2021-07-24T00:20:27.644778",
     "exception": false,
     "start_time": "2021-07-24T00:20:27.610548",
     "status": "completed"
    },
    "tags": []
   },
   "outputs": [],
   "source": []
  },
  {
   "cell_type": "code",
   "execution_count": 41,
   "id": "subject-macintosh",
   "metadata": {
    "execution": {
     "iopub.execute_input": "2021-07-24T00:20:27.721898Z",
     "iopub.status.busy": "2021-07-24T00:20:27.721166Z",
     "iopub.status.idle": "2021-07-24T00:20:27.723274Z",
     "shell.execute_reply": "2021-07-24T00:20:27.723844Z"
    },
    "papermill": {
     "duration": 0.042536,
     "end_time": "2021-07-24T00:20:27.723973",
     "exception": false,
     "start_time": "2021-07-24T00:20:27.681437",
     "status": "completed"
    },
    "tags": []
   },
   "outputs": [],
   "source": [
    "# #hide\n",
    "# fig, ax = plt.subplots(figsize=(15, 8))\n",
    "\n",
    "# def draw_barchart(current_day):\n",
    "#     dff = g[g['day'].eq(current_day)].sort_values(by='value', ascending=True).tail(10)\n",
    "#     ax.clear()\n",
    "#     ax.barh(dff['name'], dff['value'], color=[colors[group_lk[x]] for x in dff['name']])\n",
    "#     dx = dff['value'].max() / 200\n",
    "    \n",
    "#     for i, (value, name) in enumerate(zip(dff['value'], dff['name'])):\n",
    "#         ax.text(value-dx, i,     name,           size=14, weight=600, ha='right', va='bottom')\n",
    "#         ax.text(value-dx, i-.25, group_lk[name], size=10, color='#444444', ha='right', va='baseline')\n",
    "#         ax.text(value+dx, i,     f'{value:,.0f}',  size=14, ha='left',  va='center')\n",
    "#     ax.text(1, 0.4, current_day, transform=ax.transAxes, color='#777777', size=46, ha='right', weight=800)\n",
    "#     ax.text(0, 1.06, 'Population (thousands)', transform=ax.transAxes, size=12, color='#777777')\n",
    "#     ax.xaxis.set_major_formatter(ticker.StrMethodFormatter('{x:,.0f}'))\n",
    "#     ax.xaxis.set_ticks_position('top')\n",
    "#     ax.tick_params(axis='x', colors='#777777', labelsize=12)\n",
    "#     ax.set_yticks([])\n",
    "#     ax.margins(0, 0.01)\n",
    "#     ax.grid(which='major', axis='x', linestyle='-')\n",
    "#     ax.set_axisbelow(True)\n",
    "    \n",
    "#     ax.text(0, 1.15, 'Coronavirus',\n",
    "#             transform=ax.transAxes, size=24, weight=600, ha='left', va='top')\n",
    "# #     ax.text(1, 0, 'by @pratapvardhan; credit @jburnmurdoch', transform=ax.transAxes, color='#777777', ha='right',\n",
    "# #             bbox=dict(facecolor='white', alpha=0.8, edgecolor='white'))\n",
    "#     plt.box(False)"
   ]
  },
  {
   "cell_type": "code",
   "execution_count": 42,
   "id": "sexual-wages",
   "metadata": {
    "execution": {
     "iopub.execute_input": "2021-07-24T00:20:27.797355Z",
     "iopub.status.busy": "2021-07-24T00:20:27.796776Z",
     "iopub.status.idle": "2021-07-24T00:20:27.799242Z",
     "shell.execute_reply": "2021-07-24T00:20:27.798716Z"
    },
    "papermill": {
     "duration": 0.040351,
     "end_time": "2021-07-24T00:20:27.799345",
     "exception": false,
     "start_time": "2021-07-24T00:20:27.758994",
     "status": "completed"
    },
    "tags": []
   },
   "outputs": [],
   "source": [
    "# #hide_input\n",
    "# fig, ax = plt.subplots(figsize=(15, 8))\n",
    "# animator = animation.FuncAnimation(fig, draw_barchart, frames=range(g.day.values.min(), g.day.values.max()))\n",
    "# HTML(animator.to_jshtml())\n",
    "# # or use animator.to_html5_video() or animator.save() "
   ]
  },
  {
   "cell_type": "code",
   "execution_count": null,
   "id": "australian-container",
   "metadata": {
    "papermill": {
     "duration": 0.032232,
     "end_time": "2021-07-24T00:20:27.865319",
     "exception": false,
     "start_time": "2021-07-24T00:20:27.833087",
     "status": "completed"
    },
    "tags": []
   },
   "outputs": [],
   "source": []
  },
  {
   "cell_type": "code",
   "execution_count": null,
   "id": "mediterranean-pontiac",
   "metadata": {
    "papermill": {
     "duration": 0.033674,
     "end_time": "2021-07-24T00:20:27.931718",
     "exception": false,
     "start_time": "2021-07-24T00:20:27.898044",
     "status": "completed"
    },
    "tags": []
   },
   "outputs": [],
   "source": []
  },
  {
   "cell_type": "code",
   "execution_count": null,
   "id": "aging-legislature",
   "metadata": {
    "papermill": {
     "duration": 0.03648,
     "end_time": "2021-07-24T00:20:28.001291",
     "exception": false,
     "start_time": "2021-07-24T00:20:27.964811",
     "status": "completed"
    },
    "tags": []
   },
   "outputs": [],
   "source": []
  }
 ],
 "metadata": {
  "kernelspec": {
   "display_name": "Python 3",
   "language": "python",
   "name": "python3"
  },
  "language_info": {
   "codemirror_mode": {
    "name": "ipython",
    "version": 3
   },
   "file_extension": ".py",
   "mimetype": "text/x-python",
   "name": "python",
   "nbconvert_exporter": "python",
   "pygments_lexer": "ipython3",
   "version": "3.6.14"
  },
  "papermill": {
   "duration": 6.620027,
   "end_time": "2021-07-24T00:20:28.349413",
   "environment_variables": {},
   "exception": null,
   "input_path": "2020-03-21-covid19exp.ipynb",
   "output_path": "2020-03-21-covid19exp.ipynb",
   "parameters": {},
   "start_time": "2021-07-24T00:20:21.729386",
   "version": "2.0.0"
  }
 },
 "nbformat": 4,
 "nbformat_minor": 5
}