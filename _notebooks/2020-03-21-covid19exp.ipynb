{
 "cells": [
  {
   "cell_type": "markdown",
   "id": "muslim-click",
   "metadata": {
    "papermill": {
     "duration": 0.033876,
     "end_time": "2022-05-27T00:41:48.857109",
     "exception": false,
     "start_time": "2022-05-27T00:41:48.823233",
     "status": "completed"
    },
    "tags": []
   },
   "source": [
    "# COVID-19 Case Race\n",
    "> A race chart to see rising cases around the world\n",
    "\n",
    "- author: Hargun Oberoi\n",
    "- image: images/covid-overview.png\n",
    "- hide: false\n",
    "- badges: false"
   ]
  },
  {
   "cell_type": "code",
   "execution_count": 1,
   "id": "proof-material",
   "metadata": {
    "execution": {
     "iopub.execute_input": "2022-05-27T00:41:48.927892Z",
     "iopub.status.busy": "2022-05-27T00:41:48.927279Z",
     "iopub.status.idle": "2022-05-27T00:41:49.256632Z",
     "shell.execute_reply": "2022-05-27T00:41:49.255553Z"
    },
    "papermill": {
     "duration": 0.368535,
     "end_time": "2022-05-27T00:41:49.256788",
     "exception": false,
     "start_time": "2022-05-27T00:41:48.888253",
     "status": "completed"
    },
    "tags": []
   },
   "outputs": [],
   "source": [
    "#hide\n",
    "import numpy as np\n",
    "import pandas as pd\n",
    "from jinja2 import Template\n",
    "from IPython.display import HTML"
   ]
  },
  {
   "cell_type": "code",
   "execution_count": 2,
   "id": "developed-terminology",
   "metadata": {
    "execution": {
     "iopub.execute_input": "2022-05-27T00:41:49.320684Z",
     "iopub.status.busy": "2022-05-27T00:41:49.320002Z",
     "iopub.status.idle": "2022-05-27T00:41:49.322330Z",
     "shell.execute_reply": "2022-05-27T00:41:49.321660Z"
    },
    "papermill": {
     "duration": 0.036081,
     "end_time": "2022-05-27T00:41:49.322456",
     "exception": false,
     "start_time": "2022-05-27T00:41:49.286375",
     "status": "completed"
    },
    "tags": []
   },
   "outputs": [],
   "source": [
    "#hide\n",
    "\n",
    "# FETCH\n",
    "base_url = 'https://raw.githubusercontent.com/pratapvardhan/notebooks/master/covid19/'\n",
    "paths = {\n",
    "    'mapping': base_url + 'mapping_countries.csv',\n",
    "    'overview': base_url + 'overview.tpl'\n",
    "}"
   ]
  },
  {
   "cell_type": "code",
   "execution_count": 3,
   "id": "dynamic-saver",
   "metadata": {
    "execution": {
     "iopub.execute_input": "2022-05-27T00:41:49.391694Z",
     "iopub.status.busy": "2022-05-27T00:41:49.391124Z",
     "iopub.status.idle": "2022-05-27T00:41:49.394276Z",
     "shell.execute_reply": "2022-05-27T00:41:49.394736Z"
    },
    "papermill": {
     "duration": 0.042305,
     "end_time": "2022-05-27T00:41:49.394869",
     "exception": false,
     "start_time": "2022-05-27T00:41:49.352564",
     "status": "completed"
    },
    "tags": []
   },
   "outputs": [
    {
     "data": {
      "text/plain": [
       "'https://raw.githubusercontent.com/pratapvardhan/notebooks/master/covid19/mapping_countries.csv'"
      ]
     },
     "execution_count": 3,
     "metadata": {},
     "output_type": "execute_result"
    }
   ],
   "source": [
    "#hide\n",
    "paths['mapping']"
   ]
  },
  {
   "cell_type": "code",
   "execution_count": 4,
   "id": "urban-software",
   "metadata": {
    "execution": {
     "iopub.execute_input": "2022-05-27T00:41:49.460248Z",
     "iopub.status.busy": "2022-05-27T00:41:49.459552Z",
     "iopub.status.idle": "2022-05-27T00:41:49.461857Z",
     "shell.execute_reply": "2022-05-27T00:41:49.461257Z"
    },
    "papermill": {
     "duration": 0.037445,
     "end_time": "2022-05-27T00:41:49.461973",
     "exception": false,
     "start_time": "2022-05-27T00:41:49.424528",
     "status": "completed"
    },
    "tags": []
   },
   "outputs": [],
   "source": [
    "#hide\n",
    "def get_mappings(url):\n",
    "    df = pd.read_csv(url)\n",
    "    return {\n",
    "        'df': df,\n",
    "        'replace.country': dict(df.dropna(subset=['Name']).set_index('Country')['Name']),\n",
    "        'map.continent': dict(df.set_index('Name')['Continent'])\n",
    "    }"
   ]
  },
  {
   "cell_type": "code",
   "execution_count": 5,
   "id": "intimate-machinery",
   "metadata": {
    "execution": {
     "iopub.execute_input": "2022-05-27T00:41:49.526618Z",
     "iopub.status.busy": "2022-05-27T00:41:49.525998Z",
     "iopub.status.idle": "2022-05-27T00:41:49.553958Z",
     "shell.execute_reply": "2022-05-27T00:41:49.554481Z"
    },
    "papermill": {
     "duration": 0.063236,
     "end_time": "2022-05-27T00:41:49.554630",
     "exception": false,
     "start_time": "2022-05-27T00:41:49.491394",
     "status": "completed"
    },
    "tags": []
   },
   "outputs": [],
   "source": [
    "#hide\n",
    "mapping = get_mappings(paths['mapping'])"
   ]
  },
  {
   "cell_type": "code",
   "execution_count": 6,
   "id": "certified-tactics",
   "metadata": {
    "execution": {
     "iopub.execute_input": "2022-05-27T00:41:49.619625Z",
     "iopub.status.busy": "2022-05-27T00:41:49.618977Z",
     "iopub.status.idle": "2022-05-27T00:41:49.621551Z",
     "shell.execute_reply": "2022-05-27T00:41:49.620999Z"
    },
    "papermill": {
     "duration": 0.037087,
     "end_time": "2022-05-27T00:41:49.621671",
     "exception": false,
     "start_time": "2022-05-27T00:41:49.584584",
     "status": "completed"
    },
    "tags": []
   },
   "outputs": [],
   "source": [
    "#hide\n",
    "def get_template(path):\n",
    "    from urllib.parse import urlparse\n",
    "    if bool(urlparse(path).netloc):\n",
    "        from urllib.request import urlopen\n",
    "        return urlopen(path).read().decode('utf8')\n",
    "    return open(path).read()"
   ]
  },
  {
   "cell_type": "code",
   "execution_count": 7,
   "id": "realistic-blast",
   "metadata": {
    "execution": {
     "iopub.execute_input": "2022-05-27T00:41:49.685725Z",
     "iopub.status.busy": "2022-05-27T00:41:49.685129Z",
     "iopub.status.idle": "2022-05-27T00:41:49.687477Z",
     "shell.execute_reply": "2022-05-27T00:41:49.686904Z"
    },
    "papermill": {
     "duration": 0.036421,
     "end_time": "2022-05-27T00:41:49.687587",
     "exception": false,
     "start_time": "2022-05-27T00:41:49.651166",
     "status": "completed"
    },
    "tags": []
   },
   "outputs": [],
   "source": [
    "#hide\n",
    "def get_frame(name):\n",
    "    url = (\n",
    "        'https://raw.githubusercontent.com/CSSEGISandData/COVID-19/master/csse_covid_19_data/'\n",
    "        f'csse_covid_19_time_series/time_series_covid19_{name}_global.csv')\n",
    "    df = pd.read_csv(url)\n",
    "    # rename countries\n",
    "    df['Country/Region'] = df['Country/Region'].replace(mapping['replace.country'])\n",
    "    return df"
   ]
  },
  {
   "cell_type": "code",
   "execution_count": 8,
   "id": "affiliated-characterization",
   "metadata": {
    "execution": {
     "iopub.execute_input": "2022-05-27T00:41:49.752152Z",
     "iopub.status.busy": "2022-05-27T00:41:49.751494Z",
     "iopub.status.idle": "2022-05-27T00:41:49.754111Z",
     "shell.execute_reply": "2022-05-27T00:41:49.753573Z"
    },
    "papermill": {
     "duration": 0.037363,
     "end_time": "2022-05-27T00:41:49.754259",
     "exception": false,
     "start_time": "2022-05-27T00:41:49.716896",
     "status": "completed"
    },
    "tags": []
   },
   "outputs": [],
   "source": [
    "#hide\n",
    "def get_dates(df):\n",
    "    dt_cols = df.columns[~df.columns.isin(['Province/State', 'Country/Region', 'Lat', 'Long'])]\n",
    "    LAST_DATE_I = -1\n",
    "    # sometimes last column may be empty, then go backwards\n",
    "    for i in range(-1, -len(dt_cols), -1):\n",
    "        if not df[dt_cols[i]].fillna(0).eq(0).all():\n",
    "            LAST_DATE_I = i\n",
    "            break\n",
    "    return LAST_DATE_I, dt_cols"
   ]
  },
  {
   "cell_type": "code",
   "execution_count": 9,
   "id": "recent-optimization",
   "metadata": {
    "execution": {
     "iopub.execute_input": "2022-05-27T00:41:49.817758Z",
     "iopub.status.busy": "2022-05-27T00:41:49.817165Z",
     "iopub.status.idle": "2022-05-27T00:41:50.175054Z",
     "shell.execute_reply": "2022-05-27T00:41:50.173862Z"
    },
    "papermill": {
     "duration": 0.391619,
     "end_time": "2022-05-27T00:41:50.175192",
     "exception": false,
     "start_time": "2022-05-27T00:41:49.783573",
     "status": "completed"
    },
    "tags": []
   },
   "outputs": [],
   "source": [
    "#hide\n",
    "COL_REGION = 'Country/Region'\n",
    "# Confirmed, Recovered, Deaths\n",
    "df = get_frame('confirmed')\n",
    "# dft_: timeseries, dfc_: today country agg\n",
    "dft_cases = df\n",
    "dft_deaths = get_frame('deaths')\n",
    "dft_recovered = get_frame('recovered')\n",
    "LAST_DATE_I, dt_cols = get_dates(df)"
   ]
  },
  {
   "cell_type": "code",
   "execution_count": 10,
   "id": "absolute-copper",
   "metadata": {
    "execution": {
     "iopub.execute_input": "2022-05-27T00:41:50.240472Z",
     "iopub.status.busy": "2022-05-27T00:41:50.239802Z",
     "iopub.status.idle": "2022-05-27T00:41:50.242105Z",
     "shell.execute_reply": "2022-05-27T00:41:50.241453Z"
    },
    "papermill": {
     "duration": 0.037216,
     "end_time": "2022-05-27T00:41:50.242255",
     "exception": false,
     "start_time": "2022-05-27T00:41:50.205039",
     "status": "completed"
    },
    "tags": []
   },
   "outputs": [],
   "source": [
    "#hide\n",
    "LAST_DATE_I, dt_cols = get_dates(df)\n",
    "dt_today =dt_cols[LAST_DATE_I]\n",
    "# dt_5day = dt_cols[LAST_DATE_I - 5]\n",
    "dt_yday = dt_cols[LAST_DATE_I - 1]"
   ]
  },
  {
   "cell_type": "code",
   "execution_count": 11,
   "id": "restricted-sheriff",
   "metadata": {
    "execution": {
     "iopub.execute_input": "2022-05-27T00:41:50.306856Z",
     "iopub.status.busy": "2022-05-27T00:41:50.306253Z",
     "iopub.status.idle": "2022-05-27T00:41:50.314851Z",
     "shell.execute_reply": "2022-05-27T00:41:50.314372Z"
    },
    "papermill": {
     "duration": 0.042825,
     "end_time": "2022-05-27T00:41:50.314962",
     "exception": false,
     "start_time": "2022-05-27T00:41:50.272137",
     "status": "completed"
    },
    "tags": []
   },
   "outputs": [],
   "source": [
    "#hide\n",
    "dfc_cases = dft_cases.groupby(COL_REGION)[dt_today].sum()\n",
    "dfc_deaths = dft_deaths.groupby(COL_REGION)[dt_today].sum()\n",
    "# dfp_cases = dft_cases.groupby(COL_REGION)[dt_5day].sum()\n",
    "# dfp_deaths = dft_deaths.groupby(COL_REGION)[dt_5day].sum()\n",
    "dfp_cases = dft_cases.groupby(COL_REGION)[dt_yday].sum()\n",
    "dfp_deaths = dft_deaths.groupby(COL_REGION)[dt_yday].sum()"
   ]
  },
  {
   "cell_type": "code",
   "execution_count": 12,
   "id": "deluxe-hepatitis",
   "metadata": {
    "execution": {
     "iopub.execute_input": "2022-05-27T00:41:50.379259Z",
     "iopub.status.busy": "2022-05-27T00:41:50.378689Z",
     "iopub.status.idle": "2022-05-27T00:41:50.383113Z",
     "shell.execute_reply": "2022-05-27T00:41:50.383588Z"
    },
    "papermill": {
     "duration": 0.039553,
     "end_time": "2022-05-27T00:41:50.383712",
     "exception": false,
     "start_time": "2022-05-27T00:41:50.344159",
     "status": "completed"
    },
    "tags": []
   },
   "outputs": [],
   "source": [
    "#hide\n",
    "df_table = (pd.DataFrame(dict(Cases = dfc_cases, Deaths = dfc_deaths, PCases = dfp_cases, PDeaths = dfp_deaths))\n",
    "            .sort_values(by = ['Cases','Deaths'], ascending = [False, False])\n",
    "            .reset_index())"
   ]
  },
  {
   "cell_type": "code",
   "execution_count": 13,
   "id": "educational-chancellor",
   "metadata": {
    "execution": {
     "iopub.execute_input": "2022-05-27T00:41:50.459302Z",
     "iopub.status.busy": "2022-05-27T00:41:50.454896Z",
     "iopub.status.idle": "2022-05-27T00:41:50.467677Z",
     "shell.execute_reply": "2022-05-27T00:41:50.467194Z"
    },
    "papermill": {
     "duration": 0.05497,
     "end_time": "2022-05-27T00:41:50.467787",
     "exception": false,
     "start_time": "2022-05-27T00:41:50.412817",
     "status": "completed"
    },
    "tags": []
   },
   "outputs": [
    {
     "data": {
      "text/html": [
       "<div>\n",
       "<style scoped>\n",
       "    .dataframe tbody tr th:only-of-type {\n",
       "        vertical-align: middle;\n",
       "    }\n",
       "\n",
       "    .dataframe tbody tr th {\n",
       "        vertical-align: top;\n",
       "    }\n",
       "\n",
       "    .dataframe thead th {\n",
       "        text-align: right;\n",
       "    }\n",
       "</style>\n",
       "<table border=\"1\" class=\"dataframe\">\n",
       "  <thead>\n",
       "    <tr style=\"text-align: right;\">\n",
       "      <th></th>\n",
       "      <th>Country/Region</th>\n",
       "      <th>Cases</th>\n",
       "      <th>Deaths</th>\n",
       "      <th>PCases</th>\n",
       "      <th>PDeaths</th>\n",
       "      <th>Cases (+)</th>\n",
       "      <th>Deaths (+)</th>\n",
       "      <th>Fatality Rate</th>\n",
       "      <th>Continent</th>\n",
       "    </tr>\n",
       "  </thead>\n",
       "  <tbody>\n",
       "    <tr>\n",
       "      <th>0</th>\n",
       "      <td>US</td>\n",
       "      <td>83706662</td>\n",
       "      <td>1003743</td>\n",
       "      <td>83501457</td>\n",
       "      <td>1002726</td>\n",
       "      <td>205205</td>\n",
       "      <td>1017</td>\n",
       "      <td>1.20</td>\n",
       "      <td>North America</td>\n",
       "    </tr>\n",
       "    <tr>\n",
       "      <th>1</th>\n",
       "      <td>India</td>\n",
       "      <td>43144820</td>\n",
       "      <td>524525</td>\n",
       "      <td>43142192</td>\n",
       "      <td>524507</td>\n",
       "      <td>2628</td>\n",
       "      <td>18</td>\n",
       "      <td>1.22</td>\n",
       "      <td>Asia</td>\n",
       "    </tr>\n",
       "    <tr>\n",
       "      <th>2</th>\n",
       "      <td>Brazil</td>\n",
       "      <td>30851191</td>\n",
       "      <td>666261</td>\n",
       "      <td>30836815</td>\n",
       "      <td>666129</td>\n",
       "      <td>14376</td>\n",
       "      <td>132</td>\n",
       "      <td>2.16</td>\n",
       "      <td>South America</td>\n",
       "    </tr>\n",
       "    <tr>\n",
       "      <th>3</th>\n",
       "      <td>France</td>\n",
       "      <td>29605758</td>\n",
       "      <td>149095</td>\n",
       "      <td>29583616</td>\n",
       "      <td>149044</td>\n",
       "      <td>22142</td>\n",
       "      <td>51</td>\n",
       "      <td>0.50</td>\n",
       "      <td>Europe</td>\n",
       "    </tr>\n",
       "    <tr>\n",
       "      <th>4</th>\n",
       "      <td>Germany</td>\n",
       "      <td>26198811</td>\n",
       "      <td>138779</td>\n",
       "      <td>26159106</td>\n",
       "      <td>138643</td>\n",
       "      <td>39705</td>\n",
       "      <td>136</td>\n",
       "      <td>0.53</td>\n",
       "      <td>Europe</td>\n",
       "    </tr>\n",
       "  </tbody>\n",
       "</table>\n",
       "</div>"
      ],
      "text/plain": [
       "  Country/Region     Cases   Deaths    PCases  PDeaths  Cases (+)  Deaths (+)  \\\n",
       "0             US  83706662  1003743  83501457  1002726     205205        1017   \n",
       "1          India  43144820   524525  43142192   524507       2628          18   \n",
       "2         Brazil  30851191   666261  30836815   666129      14376         132   \n",
       "3         France  29605758   149095  29583616   149044      22142          51   \n",
       "4        Germany  26198811   138779  26159106   138643      39705         136   \n",
       "\n",
       "   Fatality Rate      Continent  \n",
       "0           1.20  North America  \n",
       "1           1.22           Asia  \n",
       "2           2.16  South America  \n",
       "3           0.50         Europe  \n",
       "4           0.53         Europe  "
      ]
     },
     "execution_count": 13,
     "metadata": {},
     "output_type": "execute_result"
    }
   ],
   "source": [
    "#hide\n",
    "for c in 'Cases, Deaths'.split(', '):\n",
    "    df_table[f'{c} (+)'] = (df_table[c] - df_table[f'P{c}']).clip(0)\n",
    "    #Clip ça veut dire, les chiffres negatif sont interdit\n",
    "df_table['Fatality Rate'] = (100* df_table['Deaths']/ df_table['Cases']).round(2)\n",
    "df_table['Continent'] = df_table['Country/Region'].map(mapping['map.continent'])\n",
    "df_table.head(5)"
   ]
  },
  {
   "cell_type": "code",
   "execution_count": 14,
   "id": "aboriginal-bulgaria",
   "metadata": {
    "execution": {
     "iopub.execute_input": "2022-05-27T00:41:50.532954Z",
     "iopub.status.busy": "2022-05-27T00:41:50.532390Z",
     "iopub.status.idle": "2022-05-27T00:41:50.534732Z",
     "shell.execute_reply": "2022-05-27T00:41:50.535206Z"
    },
    "papermill": {
     "duration": 0.03765,
     "end_time": "2022-05-27T00:41:50.535331",
     "exception": false,
     "start_time": "2022-05-27T00:41:50.497681",
     "status": "completed"
    },
    "tags": []
   },
   "outputs": [],
   "source": [
    "#hide\n",
    "#delete problematic countries from table\n",
    "df_table = df_table[~df_table['Country/Region'].isin(['Cape Verde', 'Cruise Ship', 'Kosovo'])]"
   ]
  },
  {
   "cell_type": "code",
   "execution_count": 15,
   "id": "fantastic-effect",
   "metadata": {
    "execution": {
     "iopub.execute_input": "2022-05-27T00:41:50.602770Z",
     "iopub.status.busy": "2022-05-27T00:41:50.602153Z",
     "iopub.status.idle": "2022-05-27T00:41:50.619899Z",
     "shell.execute_reply": "2022-05-27T00:41:50.619424Z"
    },
    "papermill": {
     "duration": 0.055209,
     "end_time": "2022-05-27T00:41:50.620012",
     "exception": false,
     "start_time": "2022-05-27T00:41:50.564803",
     "status": "completed"
    },
    "tags": []
   },
   "outputs": [
    {
     "data": {
      "text/html": [
       "<div>\n",
       "<style scoped>\n",
       "    .dataframe tbody tr th:only-of-type {\n",
       "        vertical-align: middle;\n",
       "    }\n",
       "\n",
       "    .dataframe tbody tr th {\n",
       "        vertical-align: top;\n",
       "    }\n",
       "\n",
       "    .dataframe thead th {\n",
       "        text-align: right;\n",
       "    }\n",
       "</style>\n",
       "<table border=\"1\" class=\"dataframe\">\n",
       "  <thead>\n",
       "    <tr style=\"text-align: right;\">\n",
       "      <th></th>\n",
       "      <th>Country/Region</th>\n",
       "      <th>Cases</th>\n",
       "      <th>Deaths</th>\n",
       "      <th>PCases</th>\n",
       "      <th>PDeaths</th>\n",
       "      <th>Cases (+)</th>\n",
       "      <th>Deaths (+)</th>\n",
       "      <th>Fatality Rate</th>\n",
       "      <th>Continent</th>\n",
       "    </tr>\n",
       "  </thead>\n",
       "  <tbody>\n",
       "    <tr>\n",
       "      <th>0</th>\n",
       "      <td>US</td>\n",
       "      <td>83706662</td>\n",
       "      <td>1003743</td>\n",
       "      <td>83501457</td>\n",
       "      <td>1002726</td>\n",
       "      <td>205205</td>\n",
       "      <td>1017</td>\n",
       "      <td>1.2</td>\n",
       "      <td>North America</td>\n",
       "    </tr>\n",
       "    <tr>\n",
       "      <th>1</th>\n",
       "      <td>India</td>\n",
       "      <td>43144820</td>\n",
       "      <td>524525</td>\n",
       "      <td>43142192</td>\n",
       "      <td>524507</td>\n",
       "      <td>2628</td>\n",
       "      <td>18</td>\n",
       "      <td>1.2</td>\n",
       "      <td>Asia</td>\n",
       "    </tr>\n",
       "    <tr>\n",
       "      <th>2</th>\n",
       "      <td>Brazil</td>\n",
       "      <td>30851191</td>\n",
       "      <td>666261</td>\n",
       "      <td>30836815</td>\n",
       "      <td>666129</td>\n",
       "      <td>14376</td>\n",
       "      <td>132</td>\n",
       "      <td>2.2</td>\n",
       "      <td>South America</td>\n",
       "    </tr>\n",
       "    <tr>\n",
       "      <th>3</th>\n",
       "      <td>France</td>\n",
       "      <td>29605758</td>\n",
       "      <td>149095</td>\n",
       "      <td>29583616</td>\n",
       "      <td>149044</td>\n",
       "      <td>22142</td>\n",
       "      <td>51</td>\n",
       "      <td>0.5</td>\n",
       "      <td>Europe</td>\n",
       "    </tr>\n",
       "    <tr>\n",
       "      <th>4</th>\n",
       "      <td>Germany</td>\n",
       "      <td>26198811</td>\n",
       "      <td>138779</td>\n",
       "      <td>26159106</td>\n",
       "      <td>138643</td>\n",
       "      <td>39705</td>\n",
       "      <td>136</td>\n",
       "      <td>0.5</td>\n",
       "      <td>Europe</td>\n",
       "    </tr>\n",
       "  </tbody>\n",
       "</table>\n",
       "</div>"
      ],
      "text/plain": [
       "  Country/Region     Cases   Deaths    PCases  PDeaths  Cases (+)  Deaths (+)  \\\n",
       "0             US  83706662  1003743  83501457  1002726     205205        1017   \n",
       "1          India  43144820   524525  43142192   524507       2628          18   \n",
       "2         Brazil  30851191   666261  30836815   666129      14376         132   \n",
       "3         France  29605758   149095  29583616   149044      22142          51   \n",
       "4        Germany  26198811   138779  26159106   138643      39705         136   \n",
       "\n",
       "   Fatality Rate      Continent  \n",
       "0            1.2  North America  \n",
       "1            1.2           Asia  \n",
       "2            2.2  South America  \n",
       "3            0.5         Europe  \n",
       "4            0.5         Europe  "
      ]
     },
     "execution_count": 15,
     "metadata": {},
     "output_type": "execute_result"
    }
   ],
   "source": [
    "#hide\n",
    "df_table = (pd.DataFrame(dict(Cases=dfc_cases, Deaths=dfc_deaths, PCases=dfp_cases, PDeaths=dfp_deaths))\n",
    "             .sort_values(by=['Cases', 'Deaths'], ascending=[False, False])\n",
    "             .reset_index())\n",
    "df_table.rename(columns={'index': 'Country/Region'}, inplace=True)\n",
    "for c in 'Cases, Deaths'.split(', '):\n",
    "    df_table[f'{c} (+)'] = (df_table[c] - df_table[f'P{c}']).clip(0)  # DATA BUG\n",
    "df_table['Fatality Rate'] = (100 * df_table['Deaths'] / df_table['Cases']).round(1)\n",
    "df_table['Continent'] = df_table['Country/Region'].map(mapping['map.continent'])\n",
    "df_table.head(5)"
   ]
  },
  {
   "cell_type": "code",
   "execution_count": 16,
   "id": "fewer-occasion",
   "metadata": {
    "execution": {
     "iopub.execute_input": "2022-05-27T00:41:50.687754Z",
     "iopub.status.busy": "2022-05-27T00:41:50.687129Z",
     "iopub.status.idle": "2022-05-27T00:41:50.689685Z",
     "shell.execute_reply": "2022-05-27T00:41:50.689112Z"
    },
    "papermill": {
     "duration": 0.039067,
     "end_time": "2022-05-27T00:41:50.689801",
     "exception": false,
     "start_time": "2022-05-27T00:41:50.650734",
     "status": "completed"
    },
    "tags": []
   },
   "outputs": [],
   "source": [
    "#hide\n",
    "#delete problematic countries from table\n",
    "df_table = df_table[~df_table['Country/Region'].isin(['Cape Verde', 'Cruise Ship', 'Kosovo'])]"
   ]
  },
  {
   "cell_type": "code",
   "execution_count": 17,
   "id": "related-center",
   "metadata": {
    "execution": {
     "iopub.execute_input": "2022-05-27T00:41:50.769513Z",
     "iopub.status.busy": "2022-05-27T00:41:50.768897Z",
     "iopub.status.idle": "2022-05-27T00:41:50.771629Z",
     "shell.execute_reply": "2022-05-27T00:41:50.771057Z"
    },
    "papermill": {
     "duration": 0.051459,
     "end_time": "2022-05-27T00:41:50.771744",
     "exception": false,
     "start_time": "2022-05-27T00:41:50.720285",
     "status": "completed"
    },
    "tags": []
   },
   "outputs": [],
   "source": [
    "#hide\n",
    "metrics = [df_table.columns[index] for index in [1,2,5,6]]\n",
    "# s_china = df_table[df_table['Country/Region'].eq('China')][metrics].sum().add_prefix('China ')\n",
    "s_us = df_table[df_table['Country/Region'].eq('US')][metrics].sum().add_prefix('US ')\n",
    "s_eu = df_table[df_table['Continent'].eq('Europe')][metrics].sum().add_prefix('EU ')\n",
    "s_ind = df_table[df_table['Country/Region'].eq('India')][metrics].sum().add_prefix('India ')\n",
    "summary = {'updated': pd.to_datetime(dt_today), 'since': pd.to_datetime(dt_yday)}\n",
    "summary = {'updated': pd.to_datetime(dt_today), 'since': pd.to_datetime(dt_yday)}\n",
    "summary = {**summary, **df_table[metrics].sum(), **s_ind, **s_us, **s_eu}"
   ]
  },
  {
   "cell_type": "code",
   "execution_count": 18,
   "id": "engaging-syndrome",
   "metadata": {
    "execution": {
     "iopub.execute_input": "2022-05-27T00:41:50.837768Z",
     "iopub.status.busy": "2022-05-27T00:41:50.837209Z",
     "iopub.status.idle": "2022-05-27T00:41:50.856376Z",
     "shell.execute_reply": "2022-05-27T00:41:50.855901Z"
    },
    "papermill": {
     "duration": 0.054141,
     "end_time": "2022-05-27T00:41:50.856491",
     "exception": false,
     "start_time": "2022-05-27T00:41:50.802350",
     "status": "completed"
    },
    "tags": []
   },
   "outputs": [],
   "source": [
    "#hide\n",
    "dft_ct_new_cases = dft_cases.groupby(COL_REGION)[dt_cols].sum().diff(axis=1).fillna(0).astype(int)"
   ]
  },
  {
   "cell_type": "code",
   "execution_count": 19,
   "id": "neutral-assignment",
   "metadata": {
    "execution": {
     "iopub.execute_input": "2022-05-27T00:41:50.921258Z",
     "iopub.status.busy": "2022-05-27T00:41:50.920684Z",
     "iopub.status.idle": "2022-05-27T00:41:50.926557Z",
     "shell.execute_reply": "2022-05-27T00:41:50.926036Z"
    },
    "papermill": {
     "duration": 0.039881,
     "end_time": "2022-05-27T00:41:50.926674",
     "exception": false,
     "start_time": "2022-05-27T00:41:50.886793",
     "status": "completed"
    },
    "tags": []
   },
   "outputs": [],
   "source": [
    "#hide\n",
    "everydaycases = dft_ct_new_cases.cumsum(axis=1)"
   ]
  },
  {
   "cell_type": "code",
   "execution_count": 20,
   "id": "parliamentary-calgary",
   "metadata": {
    "execution": {
     "iopub.execute_input": "2022-05-27T00:41:50.991952Z",
     "iopub.status.busy": "2022-05-27T00:41:50.991373Z",
     "iopub.status.idle": "2022-05-27T00:41:51.578160Z",
     "shell.execute_reply": "2022-05-27T00:41:51.576858Z"
    },
    "papermill": {
     "duration": 0.621466,
     "end_time": "2022-05-27T00:41:51.578325",
     "exception": false,
     "start_time": "2022-05-27T00:41:50.956859",
     "status": "completed"
    },
    "tags": []
   },
   "outputs": [],
   "source": [
    "#hide\n",
    "import pandas as pd\n",
    "import matplotlib.pyplot as plt\n",
    "import matplotlib.ticker as ticker\n",
    "import matplotlib.animation as animation\n",
    "from IPython.display import HTML"
   ]
  },
  {
   "cell_type": "code",
   "execution_count": 21,
   "id": "lasting-extraction",
   "metadata": {
    "execution": {
     "iopub.execute_input": "2022-05-27T00:41:51.646253Z",
     "iopub.status.busy": "2022-05-27T00:41:51.645550Z",
     "iopub.status.idle": "2022-05-27T00:41:51.652545Z",
     "shell.execute_reply": "2022-05-27T00:41:51.652085Z"
    },
    "papermill": {
     "duration": 0.043789,
     "end_time": "2022-05-27T00:41:51.652667",
     "exception": false,
     "start_time": "2022-05-27T00:41:51.608878",
     "status": "completed"
    },
    "tags": []
   },
   "outputs": [],
   "source": [
    "#hide\n",
    "t = everydaycases.stack()"
   ]
  },
  {
   "cell_type": "code",
   "execution_count": 22,
   "id": "premier-sleeve",
   "metadata": {
    "execution": {
     "iopub.execute_input": "2022-05-27T00:41:51.718263Z",
     "iopub.status.busy": "2022-05-27T00:41:51.717660Z",
     "iopub.status.idle": "2022-05-27T00:41:51.728772Z",
     "shell.execute_reply": "2022-05-27T00:41:51.729243Z"
    },
    "papermill": {
     "duration": 0.046168,
     "end_time": "2022-05-27T00:41:51.729374",
     "exception": false,
     "start_time": "2022-05-27T00:41:51.683206",
     "status": "completed"
    },
    "tags": []
   },
   "outputs": [],
   "source": [
    "#hide\n",
    "g = t.reset_index(['Country/Region'])"
   ]
  },
  {
   "cell_type": "code",
   "execution_count": 23,
   "id": "distributed-pittsburgh",
   "metadata": {
    "execution": {
     "iopub.execute_input": "2022-05-27T00:41:51.793751Z",
     "iopub.status.busy": "2022-05-27T00:41:51.793185Z",
     "iopub.status.idle": "2022-05-27T00:41:51.796122Z",
     "shell.execute_reply": "2022-05-27T00:41:51.795650Z"
    },
    "papermill": {
     "duration": 0.036781,
     "end_time": "2022-05-27T00:41:51.796235",
     "exception": false,
     "start_time": "2022-05-27T00:41:51.759454",
     "status": "completed"
    },
    "tags": []
   },
   "outputs": [],
   "source": [
    "#hide\n",
    "g.index.name = 'date'"
   ]
  },
  {
   "cell_type": "code",
   "execution_count": 24,
   "id": "naked-donor",
   "metadata": {
    "execution": {
     "iopub.execute_input": "2022-05-27T00:41:51.860684Z",
     "iopub.status.busy": "2022-05-27T00:41:51.860025Z",
     "iopub.status.idle": "2022-05-27T00:41:51.864010Z",
     "shell.execute_reply": "2022-05-27T00:41:51.863538Z"
    },
    "papermill": {
     "duration": 0.037513,
     "end_time": "2022-05-27T00:41:51.864119",
     "exception": false,
     "start_time": "2022-05-27T00:41:51.826606",
     "status": "completed"
    },
    "tags": []
   },
   "outputs": [],
   "source": [
    "# #hide\n",
    "# g = g.reset_index(['date'])"
   ]
  },
  {
   "cell_type": "code",
   "execution_count": 25,
   "id": "incomplete-mustang",
   "metadata": {
    "execution": {
     "iopub.execute_input": "2022-05-27T00:41:51.927069Z",
     "iopub.status.busy": "2022-05-27T00:41:51.926500Z",
     "iopub.status.idle": "2022-05-27T00:41:51.930272Z",
     "shell.execute_reply": "2022-05-27T00:41:51.930823Z"
    },
    "papermill": {
     "duration": 0.036734,
     "end_time": "2022-05-27T00:41:51.930945",
     "exception": false,
     "start_time": "2022-05-27T00:41:51.894211",
     "status": "completed"
    },
    "tags": []
   },
   "outputs": [],
   "source": [
    "#hide\n",
    "# g.head()"
   ]
  },
  {
   "cell_type": "code",
   "execution_count": 26,
   "id": "specific-kruger",
   "metadata": {
    "execution": {
     "iopub.execute_input": "2022-05-27T00:41:51.995036Z",
     "iopub.status.busy": "2022-05-27T00:41:51.994374Z",
     "iopub.status.idle": "2022-05-27T00:41:51.997506Z",
     "shell.execute_reply": "2022-05-27T00:41:51.996947Z"
    },
    "papermill": {
     "duration": 0.036583,
     "end_time": "2022-05-27T00:41:51.997639",
     "exception": false,
     "start_time": "2022-05-27T00:41:51.961056",
     "status": "completed"
    },
    "tags": []
   },
   "outputs": [],
   "source": [
    "#hide\n",
    "# g.columns = ['date','country','cases']"
   ]
  },
  {
   "cell_type": "code",
   "execution_count": 27,
   "id": "tender-conversion",
   "metadata": {
    "execution": {
     "iopub.execute_input": "2022-05-27T00:41:52.061488Z",
     "iopub.status.busy": "2022-05-27T00:41:52.060830Z",
     "iopub.status.idle": "2022-05-27T00:41:52.063263Z",
     "shell.execute_reply": "2022-05-27T00:41:52.062788Z"
    },
    "papermill": {
     "duration": 0.035735,
     "end_time": "2022-05-27T00:41:52.063371",
     "exception": false,
     "start_time": "2022-05-27T00:41:52.027636",
     "status": "completed"
    },
    "tags": []
   },
   "outputs": [],
   "source": [
    "#hide\n",
    "# g['continent'] = g.country"
   ]
  },
  {
   "cell_type": "code",
   "execution_count": 28,
   "id": "substantial-wilderness",
   "metadata": {
    "execution": {
     "iopub.execute_input": "2022-05-27T00:41:52.127740Z",
     "iopub.status.busy": "2022-05-27T00:41:52.127175Z",
     "iopub.status.idle": "2022-05-27T00:41:52.129331Z",
     "shell.execute_reply": "2022-05-27T00:41:52.129878Z"
    },
    "papermill": {
     "duration": 0.036379,
     "end_time": "2022-05-27T00:41:52.130001",
     "exception": false,
     "start_time": "2022-05-27T00:41:52.093622",
     "status": "completed"
    },
    "tags": []
   },
   "outputs": [],
   "source": [
    "#hide\n",
    "# cols = list(g.columns.values)"
   ]
  },
  {
   "cell_type": "code",
   "execution_count": 29,
   "id": "solved-farming",
   "metadata": {
    "execution": {
     "iopub.execute_input": "2022-05-27T00:41:52.195216Z",
     "iopub.status.busy": "2022-05-27T00:41:52.194524Z",
     "iopub.status.idle": "2022-05-27T00:41:52.197581Z",
     "shell.execute_reply": "2022-05-27T00:41:52.196932Z"
    },
    "papermill": {
     "duration": 0.037453,
     "end_time": "2022-05-27T00:41:52.197706",
     "exception": false,
     "start_time": "2022-05-27T00:41:52.160253",
     "status": "completed"
    },
    "tags": []
   },
   "outputs": [],
   "source": [
    "#hide\n",
    "# cols.insert(0, cols.pop())"
   ]
  },
  {
   "cell_type": "code",
   "execution_count": 30,
   "id": "executed-adoption",
   "metadata": {
    "execution": {
     "iopub.execute_input": "2022-05-27T00:41:52.262377Z",
     "iopub.status.busy": "2022-05-27T00:41:52.261682Z",
     "iopub.status.idle": "2022-05-27T00:41:52.265360Z",
     "shell.execute_reply": "2022-05-27T00:41:52.264795Z"
    },
    "papermill": {
     "duration": 0.036992,
     "end_time": "2022-05-27T00:41:52.265468",
     "exception": false,
     "start_time": "2022-05-27T00:41:52.228476",
     "status": "completed"
    },
    "tags": []
   },
   "outputs": [],
   "source": [
    "#hide\n",
    "# g = g[cols]"
   ]
  },
  {
   "cell_type": "code",
   "execution_count": 31,
   "id": "subject-dublin",
   "metadata": {
    "execution": {
     "iopub.execute_input": "2022-05-27T00:41:52.329953Z",
     "iopub.status.busy": "2022-05-27T00:41:52.329284Z",
     "iopub.status.idle": "2022-05-27T00:41:52.333408Z",
     "shell.execute_reply": "2022-05-27T00:41:52.333925Z"
    },
    "papermill": {
     "duration": 0.038293,
     "end_time": "2022-05-27T00:41:52.334067",
     "exception": false,
     "start_time": "2022-05-27T00:41:52.295774",
     "status": "completed"
    },
    "tags": []
   },
   "outputs": [],
   "source": [
    "#hide\n",
    "# g['continent'] = g['continent'].map(mapping['map.continent'])"
   ]
  },
  {
   "cell_type": "code",
   "execution_count": 32,
   "id": "freelance-scout",
   "metadata": {
    "execution": {
     "iopub.execute_input": "2022-05-27T00:41:52.398749Z",
     "iopub.status.busy": "2022-05-27T00:41:52.398003Z",
     "iopub.status.idle": "2022-05-27T00:41:52.400577Z",
     "shell.execute_reply": "2022-05-27T00:41:52.400038Z"
    },
    "papermill": {
     "duration": 0.036311,
     "end_time": "2022-05-27T00:41:52.400697",
     "exception": false,
     "start_time": "2022-05-27T00:41:52.364386",
     "status": "completed"
    },
    "tags": []
   },
   "outputs": [],
   "source": [
    "#hide\n",
    "# g.head()"
   ]
  },
  {
   "cell_type": "code",
   "execution_count": 33,
   "id": "limited-engine",
   "metadata": {
    "execution": {
     "iopub.execute_input": "2022-05-27T00:41:52.466969Z",
     "iopub.status.busy": "2022-05-27T00:41:52.465612Z",
     "iopub.status.idle": "2022-05-27T00:41:52.469056Z",
     "shell.execute_reply": "2022-05-27T00:41:52.468578Z"
    },
    "papermill": {
     "duration": 0.037717,
     "end_time": "2022-05-27T00:41:52.469175",
     "exception": false,
     "start_time": "2022-05-27T00:41:52.431458",
     "status": "completed"
    },
    "tags": []
   },
   "outputs": [],
   "source": [
    "# hide\n",
    "# g['date'] = g['date'].astype('datetime64[ns]')"
   ]
  },
  {
   "cell_type": "code",
   "execution_count": 34,
   "id": "sophisticated-supervisor",
   "metadata": {
    "execution": {
     "iopub.execute_input": "2022-05-27T00:41:52.533720Z",
     "iopub.status.busy": "2022-05-27T00:41:52.533039Z",
     "iopub.status.idle": "2022-05-27T00:41:52.535641Z",
     "shell.execute_reply": "2022-05-27T00:41:52.535101Z"
    },
    "papermill": {
     "duration": 0.036245,
     "end_time": "2022-05-27T00:41:52.535769",
     "exception": false,
     "start_time": "2022-05-27T00:41:52.499524",
     "status": "completed"
    },
    "tags": []
   },
   "outputs": [],
   "source": [
    "#hide\n",
    "# g['date'] = g.date.dt.dayofyear"
   ]
  },
  {
   "cell_type": "code",
   "execution_count": 35,
   "id": "inside-dubai",
   "metadata": {
    "execution": {
     "iopub.execute_input": "2022-05-27T00:41:52.600297Z",
     "iopub.status.busy": "2022-05-27T00:41:52.599698Z",
     "iopub.status.idle": "2022-05-27T00:41:52.603240Z",
     "shell.execute_reply": "2022-05-27T00:41:52.603659Z"
    },
    "papermill": {
     "duration": 0.037539,
     "end_time": "2022-05-27T00:41:52.603788",
     "exception": false,
     "start_time": "2022-05-27T00:41:52.566249",
     "status": "completed"
    },
    "tags": []
   },
   "outputs": [],
   "source": [
    "#hide\n",
    "# g = g.rename(columns= {'continent':'group','country':'name','cases':'value'})"
   ]
  },
  {
   "cell_type": "code",
   "execution_count": 36,
   "id": "fleet-motorcycle",
   "metadata": {
    "execution": {
     "iopub.execute_input": "2022-05-27T00:41:52.668034Z",
     "iopub.status.busy": "2022-05-27T00:41:52.667412Z",
     "iopub.status.idle": "2022-05-27T00:41:52.669906Z",
     "shell.execute_reply": "2022-05-27T00:41:52.669402Z"
    },
    "papermill": {
     "duration": 0.035944,
     "end_time": "2022-05-27T00:41:52.670021",
     "exception": false,
     "start_time": "2022-05-27T00:41:52.634077",
     "status": "completed"
    },
    "tags": []
   },
   "outputs": [],
   "source": [
    "#hide\n",
    "# cols = ['name','group','day','value']"
   ]
  },
  {
   "cell_type": "code",
   "execution_count": 37,
   "id": "continued-sleeping",
   "metadata": {
    "execution": {
     "iopub.execute_input": "2022-05-27T00:41:52.735283Z",
     "iopub.status.busy": "2022-05-27T00:41:52.734599Z",
     "iopub.status.idle": "2022-05-27T00:41:52.737074Z",
     "shell.execute_reply": "2022-05-27T00:41:52.736425Z"
    },
    "papermill": {
     "duration": 0.036512,
     "end_time": "2022-05-27T00:41:52.737196",
     "exception": false,
     "start_time": "2022-05-27T00:41:52.700684",
     "status": "completed"
    },
    "tags": []
   },
   "outputs": [],
   "source": [
    "#hide\n",
    "# g.rename(columns= {'date':'day'},inplace = True)"
   ]
  },
  {
   "cell_type": "code",
   "execution_count": 38,
   "id": "major-fight",
   "metadata": {
    "execution": {
     "iopub.execute_input": "2022-05-27T00:41:52.802082Z",
     "iopub.status.busy": "2022-05-27T00:41:52.801510Z",
     "iopub.status.idle": "2022-05-27T00:41:52.803666Z",
     "shell.execute_reply": "2022-05-27T00:41:52.804212Z"
    },
    "papermill": {
     "duration": 0.036125,
     "end_time": "2022-05-27T00:41:52.804337",
     "exception": false,
     "start_time": "2022-05-27T00:41:52.768212",
     "status": "completed"
    },
    "tags": []
   },
   "outputs": [],
   "source": [
    "#hide\n",
    "# g = g[cols]"
   ]
  },
  {
   "cell_type": "code",
   "execution_count": 39,
   "id": "structured-mobile",
   "metadata": {
    "execution": {
     "iopub.execute_input": "2022-05-27T00:41:52.868624Z",
     "iopub.status.busy": "2022-05-27T00:41:52.868064Z",
     "iopub.status.idle": "2022-05-27T00:41:52.870404Z",
     "shell.execute_reply": "2022-05-27T00:41:52.870880Z"
    },
    "papermill": {
     "duration": 0.03638,
     "end_time": "2022-05-27T00:41:52.871005",
     "exception": false,
     "start_time": "2022-05-27T00:41:52.834625",
     "status": "completed"
    },
    "tags": []
   },
   "outputs": [],
   "source": [
    "# #hide\n",
    "# g = g[g.group.notna()]"
   ]
  },
  {
   "cell_type": "code",
   "execution_count": 40,
   "id": "determined-closing",
   "metadata": {
    "execution": {
     "iopub.execute_input": "2022-05-27T00:41:52.936063Z",
     "iopub.status.busy": "2022-05-27T00:41:52.935375Z",
     "iopub.status.idle": "2022-05-27T00:41:52.939084Z",
     "shell.execute_reply": "2022-05-27T00:41:52.939510Z"
    },
    "papermill": {
     "duration": 0.038403,
     "end_time": "2022-05-27T00:41:52.939636",
     "exception": false,
     "start_time": "2022-05-27T00:41:52.901233",
     "status": "completed"
    },
    "tags": []
   },
   "outputs": [],
   "source": [
    "# #hide\n",
    "# colors = dict(zip(\n",
    "#     [\"Oceania\", \"Europe\", \"Asia\", \"South America\", \"Middle East\", \"North America\", \"Africa\"],\n",
    "#     [\"#adb0ff\", \"#ffb3ff\", \"#90d595\", \"#e48381\", \"#aafbff\", \"#f7bb5f\", \"#eafb50\"]\n",
    "# ))\n",
    "# group_lk = g.set_index('name')['group'].to_dict()"
   ]
  },
  {
   "cell_type": "code",
   "execution_count": null,
   "id": "gross-drinking",
   "metadata": {
    "papermill": {
     "duration": 0.030281,
     "end_time": "2022-05-27T00:41:53.000083",
     "exception": false,
     "start_time": "2022-05-27T00:41:52.969802",
     "status": "completed"
    },
    "tags": []
   },
   "outputs": [],
   "source": []
  },
  {
   "cell_type": "code",
   "execution_count": 41,
   "id": "subject-macintosh",
   "metadata": {
    "execution": {
     "iopub.execute_input": "2022-05-27T00:41:53.065479Z",
     "iopub.status.busy": "2022-05-27T00:41:53.064895Z",
     "iopub.status.idle": "2022-05-27T00:41:53.067327Z",
     "shell.execute_reply": "2022-05-27T00:41:53.067773Z"
    },
    "papermill": {
     "duration": 0.037312,
     "end_time": "2022-05-27T00:41:53.067901",
     "exception": false,
     "start_time": "2022-05-27T00:41:53.030589",
     "status": "completed"
    },
    "tags": []
   },
   "outputs": [],
   "source": [
    "# #hide\n",
    "# fig, ax = plt.subplots(figsize=(15, 8))\n",
    "\n",
    "# def draw_barchart(current_day):\n",
    "#     dff = g[g['day'].eq(current_day)].sort_values(by='value', ascending=True).tail(10)\n",
    "#     ax.clear()\n",
    "#     ax.barh(dff['name'], dff['value'], color=[colors[group_lk[x]] for x in dff['name']])\n",
    "#     dx = dff['value'].max() / 200\n",
    "    \n",
    "#     for i, (value, name) in enumerate(zip(dff['value'], dff['name'])):\n",
    "#         ax.text(value-dx, i,     name,           size=14, weight=600, ha='right', va='bottom')\n",
    "#         ax.text(value-dx, i-.25, group_lk[name], size=10, color='#444444', ha='right', va='baseline')\n",
    "#         ax.text(value+dx, i,     f'{value:,.0f}',  size=14, ha='left',  va='center')\n",
    "#     ax.text(1, 0.4, current_day, transform=ax.transAxes, color='#777777', size=46, ha='right', weight=800)\n",
    "#     ax.text(0, 1.06, 'Population (thousands)', transform=ax.transAxes, size=12, color='#777777')\n",
    "#     ax.xaxis.set_major_formatter(ticker.StrMethodFormatter('{x:,.0f}'))\n",
    "#     ax.xaxis.set_ticks_position('top')\n",
    "#     ax.tick_params(axis='x', colors='#777777', labelsize=12)\n",
    "#     ax.set_yticks([])\n",
    "#     ax.margins(0, 0.01)\n",
    "#     ax.grid(which='major', axis='x', linestyle='-')\n",
    "#     ax.set_axisbelow(True)\n",
    "    \n",
    "#     ax.text(0, 1.15, 'Coronavirus',\n",
    "#             transform=ax.transAxes, size=24, weight=600, ha='left', va='top')\n",
    "# #     ax.text(1, 0, 'by @pratapvardhan; credit @jburnmurdoch', transform=ax.transAxes, color='#777777', ha='right',\n",
    "# #             bbox=dict(facecolor='white', alpha=0.8, edgecolor='white'))\n",
    "#     plt.box(False)"
   ]
  },
  {
   "cell_type": "code",
   "execution_count": 42,
   "id": "sexual-wages",
   "metadata": {
    "execution": {
     "iopub.execute_input": "2022-05-27T00:41:53.132741Z",
     "iopub.status.busy": "2022-05-27T00:41:53.132049Z",
     "iopub.status.idle": "2022-05-27T00:41:53.135670Z",
     "shell.execute_reply": "2022-05-27T00:41:53.136177Z"
    },
    "papermill": {
     "duration": 0.03818,
     "end_time": "2022-05-27T00:41:53.136343",
     "exception": false,
     "start_time": "2022-05-27T00:41:53.098163",
     "status": "completed"
    },
    "tags": []
   },
   "outputs": [],
   "source": [
    "# #hide_input\n",
    "# fig, ax = plt.subplots(figsize=(15, 8))\n",
    "# animator = animation.FuncAnimation(fig, draw_barchart, frames=range(g.day.values.min(), g.day.values.max()))\n",
    "# HTML(animator.to_jshtml())\n",
    "# # or use animator.to_html5_video() or animator.save() "
   ]
  },
  {
   "cell_type": "code",
   "execution_count": null,
   "id": "australian-container",
   "metadata": {
    "papermill": {
     "duration": 0.031156,
     "end_time": "2022-05-27T00:41:53.198552",
     "exception": false,
     "start_time": "2022-05-27T00:41:53.167396",
     "status": "completed"
    },
    "tags": []
   },
   "outputs": [],
   "source": []
  },
  {
   "cell_type": "code",
   "execution_count": null,
   "id": "mediterranean-pontiac",
   "metadata": {
    "papermill": {
     "duration": 0.030157,
     "end_time": "2022-05-27T00:41:53.258958",
     "exception": false,
     "start_time": "2022-05-27T00:41:53.228801",
     "status": "completed"
    },
    "tags": []
   },
   "outputs": [],
   "source": []
  },
  {
   "cell_type": "code",
   "execution_count": null,
   "id": "aging-legislature",
   "metadata": {
    "papermill": {
     "duration": 0.030176,
     "end_time": "2022-05-27T00:41:53.319574",
     "exception": false,
     "start_time": "2022-05-27T00:41:53.289398",
     "status": "completed"
    },
    "tags": []
   },
   "outputs": [],
   "source": []
  }
 ],
 "metadata": {
  "kernelspec": {
   "display_name": "Python 3",
   "language": "python",
   "name": "python3"
  },
  "language_info": {
   "codemirror_mode": {
    "name": "ipython",
    "version": 3
   },
   "file_extension": ".py",
   "mimetype": "text/x-python",
   "name": "python",
   "nbconvert_exporter": "python",
   "pygments_lexer": "ipython3",
   "version": "3.6.15"
  },
  "papermill": {
   "duration": 5.797389,
   "end_time": "2022-05-27T00:41:53.668242",
   "environment_variables": {},
   "exception": null,
   "input_path": "2020-03-21-covid19exp.ipynb",
   "output_path": "2020-03-21-covid19exp.ipynb",
   "parameters": {},
   "start_time": "2022-05-27T00:41:47.870853",
   "version": "2.0.0"
  }
 },
 "nbformat": 4,
 "nbformat_minor": 5
}