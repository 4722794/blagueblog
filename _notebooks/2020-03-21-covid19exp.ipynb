{
 "cells": [
  {
   "cell_type": "markdown",
   "id": "muslim-click",
   "metadata": {
    "papermill": {
     "duration": 0.034002,
     "end_time": "2021-02-13T00:10:27.044120",
     "exception": false,
     "start_time": "2021-02-13T00:10:27.010118",
     "status": "completed"
    },
    "tags": []
   },
   "source": [
    "# COVID-19 Case Race\n",
    "> A race chart to see rising cases around the world\n",
    "\n",
    "- author: Hargun Oberoi\n",
    "- image: images/covid-overview.png\n",
    "- hide: false\n",
    "- badges: false"
   ]
  },
  {
   "cell_type": "code",
   "execution_count": 1,
   "id": "proof-material",
   "metadata": {
    "execution": {
     "iopub.execute_input": "2021-02-13T00:10:27.122477Z",
     "iopub.status.busy": "2021-02-13T00:10:27.121848Z",
     "iopub.status.idle": "2021-02-13T00:10:27.434956Z",
     "shell.execute_reply": "2021-02-13T00:10:27.435796Z"
    },
    "papermill": {
     "duration": 0.358292,
     "end_time": "2021-02-13T00:10:27.436077",
     "exception": false,
     "start_time": "2021-02-13T00:10:27.077785",
     "status": "completed"
    },
    "tags": []
   },
   "outputs": [],
   "source": [
    "#hide\n",
    "import numpy as np\n",
    "import pandas as pd\n",
    "from jinja2 import Template\n",
    "from IPython.display import HTML"
   ]
  },
  {
   "cell_type": "code",
   "execution_count": 2,
   "id": "developed-terminology",
   "metadata": {
    "execution": {
     "iopub.execute_input": "2021-02-13T00:10:27.501997Z",
     "iopub.status.busy": "2021-02-13T00:10:27.501498Z",
     "iopub.status.idle": "2021-02-13T00:10:27.503465Z",
     "shell.execute_reply": "2021-02-13T00:10:27.503918Z"
    },
    "papermill": {
     "duration": 0.035318,
     "end_time": "2021-02-13T00:10:27.504044",
     "exception": false,
     "start_time": "2021-02-13T00:10:27.468726",
     "status": "completed"
    },
    "tags": []
   },
   "outputs": [],
   "source": [
    "#hide\n",
    "\n",
    "# FETCH\n",
    "base_url = 'https://raw.githubusercontent.com/pratapvardhan/notebooks/master/covid19/'\n",
    "paths = {\n",
    "    'mapping': base_url + 'mapping_countries.csv',\n",
    "    'overview': base_url + 'overview.tpl'\n",
    "}"
   ]
  },
  {
   "cell_type": "code",
   "execution_count": 3,
   "id": "dynamic-saver",
   "metadata": {
    "execution": {
     "iopub.execute_input": "2021-02-13T00:10:27.569872Z",
     "iopub.status.busy": "2021-02-13T00:10:27.569317Z",
     "iopub.status.idle": "2021-02-13T00:10:27.573982Z",
     "shell.execute_reply": "2021-02-13T00:10:27.573525Z"
    },
    "papermill": {
     "duration": 0.041458,
     "end_time": "2021-02-13T00:10:27.574092",
     "exception": false,
     "start_time": "2021-02-13T00:10:27.532634",
     "status": "completed"
    },
    "tags": []
   },
   "outputs": [
    {
     "data": {
      "text/plain": [
       "'https://raw.githubusercontent.com/pratapvardhan/notebooks/master/covid19/mapping_countries.csv'"
      ]
     },
     "execution_count": 3,
     "metadata": {},
     "output_type": "execute_result"
    }
   ],
   "source": [
    "#hide\n",
    "paths['mapping']"
   ]
  },
  {
   "cell_type": "code",
   "execution_count": 4,
   "id": "urban-software",
   "metadata": {
    "execution": {
     "iopub.execute_input": "2021-02-13T00:10:27.641089Z",
     "iopub.status.busy": "2021-02-13T00:10:27.640556Z",
     "iopub.status.idle": "2021-02-13T00:10:27.642822Z",
     "shell.execute_reply": "2021-02-13T00:10:27.643320Z"
    },
    "papermill": {
     "duration": 0.038017,
     "end_time": "2021-02-13T00:10:27.643432",
     "exception": false,
     "start_time": "2021-02-13T00:10:27.605415",
     "status": "completed"
    },
    "tags": []
   },
   "outputs": [],
   "source": [
    "#hide\n",
    "def get_mappings(url):\n",
    "    df = pd.read_csv(url)\n",
    "    return {\n",
    "        'df': df,\n",
    "        'replace.country': dict(df.dropna(subset=['Name']).set_index('Country')['Name']),\n",
    "        'map.continent': dict(df.set_index('Name')['Continent'])\n",
    "    }"
   ]
  },
  {
   "cell_type": "code",
   "execution_count": 5,
   "id": "intimate-machinery",
   "metadata": {
    "execution": {
     "iopub.execute_input": "2021-02-13T00:10:27.702444Z",
     "iopub.status.busy": "2021-02-13T00:10:27.701868Z",
     "iopub.status.idle": "2021-02-13T00:10:27.729506Z",
     "shell.execute_reply": "2021-02-13T00:10:27.730089Z"
    },
    "papermill": {
     "duration": 0.059993,
     "end_time": "2021-02-13T00:10:27.730244",
     "exception": false,
     "start_time": "2021-02-13T00:10:27.670251",
     "status": "completed"
    },
    "tags": []
   },
   "outputs": [],
   "source": [
    "#hide\n",
    "mapping = get_mappings(paths['mapping'])"
   ]
  },
  {
   "cell_type": "code",
   "execution_count": 6,
   "id": "certified-tactics",
   "metadata": {
    "execution": {
     "iopub.execute_input": "2021-02-13T00:10:27.796905Z",
     "iopub.status.busy": "2021-02-13T00:10:27.795962Z",
     "iopub.status.idle": "2021-02-13T00:10:27.797488Z",
     "shell.execute_reply": "2021-02-13T00:10:27.797917Z"
    },
    "papermill": {
     "duration": 0.037445,
     "end_time": "2021-02-13T00:10:27.798045",
     "exception": false,
     "start_time": "2021-02-13T00:10:27.760600",
     "status": "completed"
    },
    "tags": []
   },
   "outputs": [],
   "source": [
    "#hide\n",
    "def get_template(path):\n",
    "    from urllib.parse import urlparse\n",
    "    if bool(urlparse(path).netloc):\n",
    "        from urllib.request import urlopen\n",
    "        return urlopen(path).read().decode('utf8')\n",
    "    return open(path).read()"
   ]
  },
  {
   "cell_type": "code",
   "execution_count": 7,
   "id": "realistic-blast",
   "metadata": {
    "execution": {
     "iopub.execute_input": "2021-02-13T00:10:27.861290Z",
     "iopub.status.busy": "2021-02-13T00:10:27.860747Z",
     "iopub.status.idle": "2021-02-13T00:10:27.863138Z",
     "shell.execute_reply": "2021-02-13T00:10:27.863595Z"
    },
    "papermill": {
     "duration": 0.036186,
     "end_time": "2021-02-13T00:10:27.863703",
     "exception": false,
     "start_time": "2021-02-13T00:10:27.827517",
     "status": "completed"
    },
    "tags": []
   },
   "outputs": [],
   "source": [
    "#hide\n",
    "def get_frame(name):\n",
    "    url = (\n",
    "        'https://raw.githubusercontent.com/CSSEGISandData/COVID-19/master/csse_covid_19_data/'\n",
    "        f'csse_covid_19_time_series/time_series_covid19_{name}_global.csv')\n",
    "    df = pd.read_csv(url)\n",
    "    # rename countries\n",
    "    df['Country/Region'] = df['Country/Region'].replace(mapping['replace.country'])\n",
    "    return df"
   ]
  },
  {
   "cell_type": "code",
   "execution_count": 8,
   "id": "affiliated-characterization",
   "metadata": {
    "execution": {
     "iopub.execute_input": "2021-02-13T00:10:27.927408Z",
     "iopub.status.busy": "2021-02-13T00:10:27.926820Z",
     "iopub.status.idle": "2021-02-13T00:10:27.928947Z",
     "shell.execute_reply": "2021-02-13T00:10:27.929337Z"
    },
    "papermill": {
     "duration": 0.037438,
     "end_time": "2021-02-13T00:10:27.929446",
     "exception": false,
     "start_time": "2021-02-13T00:10:27.892008",
     "status": "completed"
    },
    "tags": []
   },
   "outputs": [],
   "source": [
    "#hide\n",
    "def get_dates(df):\n",
    "    dt_cols = df.columns[~df.columns.isin(['Province/State', 'Country/Region', 'Lat', 'Long'])]\n",
    "    LAST_DATE_I = -1\n",
    "    # sometimes last column may be empty, then go backwards\n",
    "    for i in range(-1, -len(dt_cols), -1):\n",
    "        if not df[dt_cols[i]].fillna(0).eq(0).all():\n",
    "            LAST_DATE_I = i\n",
    "            break\n",
    "    return LAST_DATE_I, dt_cols"
   ]
  },
  {
   "cell_type": "code",
   "execution_count": 9,
   "id": "recent-optimization",
   "metadata": {
    "execution": {
     "iopub.execute_input": "2021-02-13T00:10:27.992224Z",
     "iopub.status.busy": "2021-02-13T00:10:27.991683Z",
     "iopub.status.idle": "2021-02-13T00:10:28.223922Z",
     "shell.execute_reply": "2021-02-13T00:10:28.223343Z"
    },
    "papermill": {
     "duration": 0.266773,
     "end_time": "2021-02-13T00:10:28.224057",
     "exception": false,
     "start_time": "2021-02-13T00:10:27.957284",
     "status": "completed"
    },
    "tags": []
   },
   "outputs": [],
   "source": [
    "#hide\n",
    "COL_REGION = 'Country/Region'\n",
    "# Confirmed, Recovered, Deaths\n",
    "df = get_frame('confirmed')\n",
    "# dft_: timeseries, dfc_: today country agg\n",
    "dft_cases = df\n",
    "dft_deaths = get_frame('deaths')\n",
    "dft_recovered = get_frame('recovered')\n",
    "LAST_DATE_I, dt_cols = get_dates(df)"
   ]
  },
  {
   "cell_type": "code",
   "execution_count": 10,
   "id": "absolute-copper",
   "metadata": {
    "execution": {
     "iopub.execute_input": "2021-02-13T00:10:28.293846Z",
     "iopub.status.busy": "2021-02-13T00:10:28.293277Z",
     "iopub.status.idle": "2021-02-13T00:10:28.296029Z",
     "shell.execute_reply": "2021-02-13T00:10:28.295513Z"
    },
    "papermill": {
     "duration": 0.040037,
     "end_time": "2021-02-13T00:10:28.296147",
     "exception": false,
     "start_time": "2021-02-13T00:10:28.256110",
     "status": "completed"
    },
    "tags": []
   },
   "outputs": [],
   "source": [
    "#hide\n",
    "LAST_DATE_I, dt_cols = get_dates(df)\n",
    "dt_today =dt_cols[LAST_DATE_I]\n",
    "# dt_5day = dt_cols[LAST_DATE_I - 5]\n",
    "dt_yday = dt_cols[LAST_DATE_I - 1]"
   ]
  },
  {
   "cell_type": "code",
   "execution_count": 11,
   "id": "restricted-sheriff",
   "metadata": {
    "execution": {
     "iopub.execute_input": "2021-02-13T00:10:28.365150Z",
     "iopub.status.busy": "2021-02-13T00:10:28.364561Z",
     "iopub.status.idle": "2021-02-13T00:10:28.372832Z",
     "shell.execute_reply": "2021-02-13T00:10:28.372350Z"
    },
    "papermill": {
     "duration": 0.046019,
     "end_time": "2021-02-13T00:10:28.372949",
     "exception": false,
     "start_time": "2021-02-13T00:10:28.326930",
     "status": "completed"
    },
    "tags": []
   },
   "outputs": [],
   "source": [
    "#hide\n",
    "dfc_cases = dft_cases.groupby(COL_REGION)[dt_today].sum()\n",
    "dfc_deaths = dft_deaths.groupby(COL_REGION)[dt_today].sum()\n",
    "# dfp_cases = dft_cases.groupby(COL_REGION)[dt_5day].sum()\n",
    "# dfp_deaths = dft_deaths.groupby(COL_REGION)[dt_5day].sum()\n",
    "dfp_cases = dft_cases.groupby(COL_REGION)[dt_yday].sum()\n",
    "dfp_deaths = dft_deaths.groupby(COL_REGION)[dt_yday].sum()"
   ]
  },
  {
   "cell_type": "code",
   "execution_count": 12,
   "id": "deluxe-hepatitis",
   "metadata": {
    "execution": {
     "iopub.execute_input": "2021-02-13T00:10:28.439489Z",
     "iopub.status.busy": "2021-02-13T00:10:28.438948Z",
     "iopub.status.idle": "2021-02-13T00:10:28.442482Z",
     "shell.execute_reply": "2021-02-13T00:10:28.442939Z"
    },
    "papermill": {
     "duration": 0.039358,
     "end_time": "2021-02-13T00:10:28.443081",
     "exception": false,
     "start_time": "2021-02-13T00:10:28.403723",
     "status": "completed"
    },
    "tags": []
   },
   "outputs": [],
   "source": [
    "#hide\n",
    "df_table = (pd.DataFrame(dict(Cases = dfc_cases, Deaths = dfc_deaths, PCases = dfp_cases, PDeaths = dfp_deaths))\n",
    "            .sort_values(by = ['Cases','Deaths'], ascending = [False, False])\n",
    "            .reset_index())"
   ]
  },
  {
   "cell_type": "code",
   "execution_count": 13,
   "id": "educational-chancellor",
   "metadata": {
    "execution": {
     "iopub.execute_input": "2021-02-13T00:10:28.521686Z",
     "iopub.status.busy": "2021-02-13T00:10:28.517381Z",
     "iopub.status.idle": "2021-02-13T00:10:28.528634Z",
     "shell.execute_reply": "2021-02-13T00:10:28.528227Z"
    },
    "papermill": {
     "duration": 0.056537,
     "end_time": "2021-02-13T00:10:28.528735",
     "exception": false,
     "start_time": "2021-02-13T00:10:28.472198",
     "status": "completed"
    },
    "tags": []
   },
   "outputs": [
    {
     "data": {
      "text/html": [
       "<div>\n",
       "<style scoped>\n",
       "    .dataframe tbody tr th:only-of-type {\n",
       "        vertical-align: middle;\n",
       "    }\n",
       "\n",
       "    .dataframe tbody tr th {\n",
       "        vertical-align: top;\n",
       "    }\n",
       "\n",
       "    .dataframe thead th {\n",
       "        text-align: right;\n",
       "    }\n",
       "</style>\n",
       "<table border=\"1\" class=\"dataframe\">\n",
       "  <thead>\n",
       "    <tr style=\"text-align: right;\">\n",
       "      <th></th>\n",
       "      <th>Country/Region</th>\n",
       "      <th>Cases</th>\n",
       "      <th>Deaths</th>\n",
       "      <th>PCases</th>\n",
       "      <th>PDeaths</th>\n",
       "      <th>Cases (+)</th>\n",
       "      <th>Deaths (+)</th>\n",
       "      <th>Fatality Rate</th>\n",
       "      <th>Continent</th>\n",
       "    </tr>\n",
       "  </thead>\n",
       "  <tbody>\n",
       "    <tr>\n",
       "      <th>0</th>\n",
       "      <td>US</td>\n",
       "      <td>27392512</td>\n",
       "      <td>475444</td>\n",
       "      <td>27287159</td>\n",
       "      <td>471567</td>\n",
       "      <td>105353</td>\n",
       "      <td>3877</td>\n",
       "      <td>1.74</td>\n",
       "      <td>North America</td>\n",
       "    </tr>\n",
       "    <tr>\n",
       "      <th>1</th>\n",
       "      <td>India</td>\n",
       "      <td>10880603</td>\n",
       "      <td>155447</td>\n",
       "      <td>10871294</td>\n",
       "      <td>155360</td>\n",
       "      <td>9309</td>\n",
       "      <td>87</td>\n",
       "      <td>1.43</td>\n",
       "      <td>Asia</td>\n",
       "    </tr>\n",
       "    <tr>\n",
       "      <th>2</th>\n",
       "      <td>Brazil</td>\n",
       "      <td>9713909</td>\n",
       "      <td>236201</td>\n",
       "      <td>9659167</td>\n",
       "      <td>234850</td>\n",
       "      <td>54742</td>\n",
       "      <td>1351</td>\n",
       "      <td>2.43</td>\n",
       "      <td>South America</td>\n",
       "    </tr>\n",
       "    <tr>\n",
       "      <th>3</th>\n",
       "      <td>United Kingdom</td>\n",
       "      <td>4010376</td>\n",
       "      <td>115748</td>\n",
       "      <td>3996833</td>\n",
       "      <td>115068</td>\n",
       "      <td>13543</td>\n",
       "      <td>680</td>\n",
       "      <td>2.89</td>\n",
       "      <td>Europe</td>\n",
       "    </tr>\n",
       "    <tr>\n",
       "      <th>4</th>\n",
       "      <td>Russia</td>\n",
       "      <td>3983031</td>\n",
       "      <td>77415</td>\n",
       "      <td>3968228</td>\n",
       "      <td>76873</td>\n",
       "      <td>14803</td>\n",
       "      <td>542</td>\n",
       "      <td>1.94</td>\n",
       "      <td>Europe</td>\n",
       "    </tr>\n",
       "  </tbody>\n",
       "</table>\n",
       "</div>"
      ],
      "text/plain": [
       "   Country/Region     Cases  Deaths    PCases  PDeaths  Cases (+)  Deaths (+)  \\\n",
       "0              US  27392512  475444  27287159   471567     105353        3877   \n",
       "1           India  10880603  155447  10871294   155360       9309          87   \n",
       "2          Brazil   9713909  236201   9659167   234850      54742        1351   \n",
       "3  United Kingdom   4010376  115748   3996833   115068      13543         680   \n",
       "4          Russia   3983031   77415   3968228    76873      14803         542   \n",
       "\n",
       "   Fatality Rate      Continent  \n",
       "0           1.74  North America  \n",
       "1           1.43           Asia  \n",
       "2           2.43  South America  \n",
       "3           2.89         Europe  \n",
       "4           1.94         Europe  "
      ]
     },
     "execution_count": 13,
     "metadata": {},
     "output_type": "execute_result"
    }
   ],
   "source": [
    "#hide\n",
    "for c in 'Cases, Deaths'.split(', '):\n",
    "    df_table[f'{c} (+)'] = (df_table[c] - df_table[f'P{c}']).clip(0)\n",
    "    #Clip ça veut dire, les chiffres negatif sont interdit\n",
    "df_table['Fatality Rate'] = (100* df_table['Deaths']/ df_table['Cases']).round(2)\n",
    "df_table['Continent'] = df_table['Country/Region'].map(mapping['map.continent'])\n",
    "df_table.head(5)"
   ]
  },
  {
   "cell_type": "code",
   "execution_count": 14,
   "id": "aboriginal-bulgaria",
   "metadata": {
    "execution": {
     "iopub.execute_input": "2021-02-13T00:10:28.591964Z",
     "iopub.status.busy": "2021-02-13T00:10:28.591458Z",
     "iopub.status.idle": "2021-02-13T00:10:28.594266Z",
     "shell.execute_reply": "2021-02-13T00:10:28.593855Z"
    },
    "papermill": {
     "duration": 0.037735,
     "end_time": "2021-02-13T00:10:28.594379",
     "exception": false,
     "start_time": "2021-02-13T00:10:28.556644",
     "status": "completed"
    },
    "tags": []
   },
   "outputs": [],
   "source": [
    "#hide\n",
    "#delete problematic countries from table\n",
    "df_table = df_table[~df_table['Country/Region'].isin(['Cape Verde', 'Cruise Ship', 'Kosovo'])]"
   ]
  },
  {
   "cell_type": "code",
   "execution_count": 15,
   "id": "fantastic-effect",
   "metadata": {
    "execution": {
     "iopub.execute_input": "2021-02-13T00:10:28.664365Z",
     "iopub.status.busy": "2021-02-13T00:10:28.663822Z",
     "iopub.status.idle": "2021-02-13T00:10:28.680795Z",
     "shell.execute_reply": "2021-02-13T00:10:28.680310Z"
    },
    "papermill": {
     "duration": 0.056468,
     "end_time": "2021-02-13T00:10:28.680905",
     "exception": false,
     "start_time": "2021-02-13T00:10:28.624437",
     "status": "completed"
    },
    "tags": []
   },
   "outputs": [
    {
     "data": {
      "text/html": [
       "<div>\n",
       "<style scoped>\n",
       "    .dataframe tbody tr th:only-of-type {\n",
       "        vertical-align: middle;\n",
       "    }\n",
       "\n",
       "    .dataframe tbody tr th {\n",
       "        vertical-align: top;\n",
       "    }\n",
       "\n",
       "    .dataframe thead th {\n",
       "        text-align: right;\n",
       "    }\n",
       "</style>\n",
       "<table border=\"1\" class=\"dataframe\">\n",
       "  <thead>\n",
       "    <tr style=\"text-align: right;\">\n",
       "      <th></th>\n",
       "      <th>Country/Region</th>\n",
       "      <th>Cases</th>\n",
       "      <th>Deaths</th>\n",
       "      <th>PCases</th>\n",
       "      <th>PDeaths</th>\n",
       "      <th>Cases (+)</th>\n",
       "      <th>Deaths (+)</th>\n",
       "      <th>Fatality Rate</th>\n",
       "      <th>Continent</th>\n",
       "    </tr>\n",
       "  </thead>\n",
       "  <tbody>\n",
       "    <tr>\n",
       "      <th>0</th>\n",
       "      <td>US</td>\n",
       "      <td>27392512</td>\n",
       "      <td>475444</td>\n",
       "      <td>27287159</td>\n",
       "      <td>471567</td>\n",
       "      <td>105353</td>\n",
       "      <td>3877</td>\n",
       "      <td>1.7</td>\n",
       "      <td>North America</td>\n",
       "    </tr>\n",
       "    <tr>\n",
       "      <th>1</th>\n",
       "      <td>India</td>\n",
       "      <td>10880603</td>\n",
       "      <td>155447</td>\n",
       "      <td>10871294</td>\n",
       "      <td>155360</td>\n",
       "      <td>9309</td>\n",
       "      <td>87</td>\n",
       "      <td>1.4</td>\n",
       "      <td>Asia</td>\n",
       "    </tr>\n",
       "    <tr>\n",
       "      <th>2</th>\n",
       "      <td>Brazil</td>\n",
       "      <td>9713909</td>\n",
       "      <td>236201</td>\n",
       "      <td>9659167</td>\n",
       "      <td>234850</td>\n",
       "      <td>54742</td>\n",
       "      <td>1351</td>\n",
       "      <td>2.4</td>\n",
       "      <td>South America</td>\n",
       "    </tr>\n",
       "    <tr>\n",
       "      <th>3</th>\n",
       "      <td>United Kingdom</td>\n",
       "      <td>4010376</td>\n",
       "      <td>115748</td>\n",
       "      <td>3996833</td>\n",
       "      <td>115068</td>\n",
       "      <td>13543</td>\n",
       "      <td>680</td>\n",
       "      <td>2.9</td>\n",
       "      <td>Europe</td>\n",
       "    </tr>\n",
       "    <tr>\n",
       "      <th>4</th>\n",
       "      <td>Russia</td>\n",
       "      <td>3983031</td>\n",
       "      <td>77415</td>\n",
       "      <td>3968228</td>\n",
       "      <td>76873</td>\n",
       "      <td>14803</td>\n",
       "      <td>542</td>\n",
       "      <td>1.9</td>\n",
       "      <td>Europe</td>\n",
       "    </tr>\n",
       "  </tbody>\n",
       "</table>\n",
       "</div>"
      ],
      "text/plain": [
       "   Country/Region     Cases  Deaths    PCases  PDeaths  Cases (+)  Deaths (+)  \\\n",
       "0              US  27392512  475444  27287159   471567     105353        3877   \n",
       "1           India  10880603  155447  10871294   155360       9309          87   \n",
       "2          Brazil   9713909  236201   9659167   234850      54742        1351   \n",
       "3  United Kingdom   4010376  115748   3996833   115068      13543         680   \n",
       "4          Russia   3983031   77415   3968228    76873      14803         542   \n",
       "\n",
       "   Fatality Rate      Continent  \n",
       "0            1.7  North America  \n",
       "1            1.4           Asia  \n",
       "2            2.4  South America  \n",
       "3            2.9         Europe  \n",
       "4            1.9         Europe  "
      ]
     },
     "execution_count": 15,
     "metadata": {},
     "output_type": "execute_result"
    }
   ],
   "source": [
    "#hide\n",
    "df_table = (pd.DataFrame(dict(Cases=dfc_cases, Deaths=dfc_deaths, PCases=dfp_cases, PDeaths=dfp_deaths))\n",
    "             .sort_values(by=['Cases', 'Deaths'], ascending=[False, False])\n",
    "             .reset_index())\n",
    "df_table.rename(columns={'index': 'Country/Region'}, inplace=True)\n",
    "for c in 'Cases, Deaths'.split(', '):\n",
    "    df_table[f'{c} (+)'] = (df_table[c] - df_table[f'P{c}']).clip(0)  # DATA BUG\n",
    "df_table['Fatality Rate'] = (100 * df_table['Deaths'] / df_table['Cases']).round(1)\n",
    "df_table['Continent'] = df_table['Country/Region'].map(mapping['map.continent'])\n",
    "df_table.head(5)"
   ]
  },
  {
   "cell_type": "code",
   "execution_count": 16,
   "id": "fewer-occasion",
   "metadata": {
    "execution": {
     "iopub.execute_input": "2021-02-13T00:10:28.752452Z",
     "iopub.status.busy": "2021-02-13T00:10:28.751970Z",
     "iopub.status.idle": "2021-02-13T00:10:28.753637Z",
     "shell.execute_reply": "2021-02-13T00:10:28.754048Z"
    },
    "papermill": {
     "duration": 0.041339,
     "end_time": "2021-02-13T00:10:28.754161",
     "exception": false,
     "start_time": "2021-02-13T00:10:28.712822",
     "status": "completed"
    },
    "tags": []
   },
   "outputs": [],
   "source": [
    "#hide\n",
    "#delete problematic countries from table\n",
    "df_table = df_table[~df_table['Country/Region'].isin(['Cape Verde', 'Cruise Ship', 'Kosovo'])]"
   ]
  },
  {
   "cell_type": "code",
   "execution_count": 17,
   "id": "related-center",
   "metadata": {
    "execution": {
     "iopub.execute_input": "2021-02-13T00:10:28.835823Z",
     "iopub.status.busy": "2021-02-13T00:10:28.835228Z",
     "iopub.status.idle": "2021-02-13T00:10:28.837917Z",
     "shell.execute_reply": "2021-02-13T00:10:28.837422Z"
    },
    "papermill": {
     "duration": 0.053459,
     "end_time": "2021-02-13T00:10:28.838111",
     "exception": false,
     "start_time": "2021-02-13T00:10:28.784652",
     "status": "completed"
    },
    "tags": []
   },
   "outputs": [],
   "source": [
    "#hide\n",
    "metrics = [df_table.columns[index] for index in [1,2,5,6]]\n",
    "# s_china = df_table[df_table['Country/Region'].eq('China')][metrics].sum().add_prefix('China ')\n",
    "s_us = df_table[df_table['Country/Region'].eq('US')][metrics].sum().add_prefix('US ')\n",
    "s_eu = df_table[df_table['Continent'].eq('Europe')][metrics].sum().add_prefix('EU ')\n",
    "s_ind = df_table[df_table['Country/Region'].eq('India')][metrics].sum().add_prefix('India ')\n",
    "summary = {'updated': pd.to_datetime(dt_today), 'since': pd.to_datetime(dt_yday)}\n",
    "summary = {'updated': pd.to_datetime(dt_today), 'since': pd.to_datetime(dt_yday)}\n",
    "summary = {**summary, **df_table[metrics].sum(), **s_ind, **s_us, **s_eu}"
   ]
  },
  {
   "cell_type": "code",
   "execution_count": 18,
   "id": "engaging-syndrome",
   "metadata": {
    "execution": {
     "iopub.execute_input": "2021-02-13T00:10:28.905208Z",
     "iopub.status.busy": "2021-02-13T00:10:28.904662Z",
     "iopub.status.idle": "2021-02-13T00:10:28.914770Z",
     "shell.execute_reply": "2021-02-13T00:10:28.915222Z"
    },
    "papermill": {
     "duration": 0.047269,
     "end_time": "2021-02-13T00:10:28.915349",
     "exception": false,
     "start_time": "2021-02-13T00:10:28.868080",
     "status": "completed"
    },
    "tags": []
   },
   "outputs": [],
   "source": [
    "#hide\n",
    "dft_ct_new_cases = dft_cases.groupby(COL_REGION)[dt_cols].sum().diff(axis=1).fillna(0).astype(int)"
   ]
  },
  {
   "cell_type": "code",
   "execution_count": 19,
   "id": "neutral-assignment",
   "metadata": {
    "execution": {
     "iopub.execute_input": "2021-02-13T00:10:28.981117Z",
     "iopub.status.busy": "2021-02-13T00:10:28.980077Z",
     "iopub.status.idle": "2021-02-13T00:10:28.982189Z",
     "shell.execute_reply": "2021-02-13T00:10:28.983056Z"
    },
    "papermill": {
     "duration": 0.039087,
     "end_time": "2021-02-13T00:10:28.983275",
     "exception": false,
     "start_time": "2021-02-13T00:10:28.944188",
     "status": "completed"
    },
    "tags": []
   },
   "outputs": [],
   "source": [
    "#hide\n",
    "everydaycases = dft_ct_new_cases.cumsum(axis=1)"
   ]
  },
  {
   "cell_type": "code",
   "execution_count": 20,
   "id": "parliamentary-calgary",
   "metadata": {
    "execution": {
     "iopub.execute_input": "2021-02-13T00:10:29.055111Z",
     "iopub.status.busy": "2021-02-13T00:10:29.054031Z",
     "iopub.status.idle": "2021-02-13T00:10:29.703445Z",
     "shell.execute_reply": "2021-02-13T00:10:29.702768Z"
    },
    "papermill": {
     "duration": 0.688574,
     "end_time": "2021-02-13T00:10:29.703617",
     "exception": false,
     "start_time": "2021-02-13T00:10:29.015043",
     "status": "completed"
    },
    "tags": []
   },
   "outputs": [],
   "source": [
    "#hide\n",
    "import pandas as pd\n",
    "import matplotlib.pyplot as plt\n",
    "import matplotlib.ticker as ticker\n",
    "import matplotlib.animation as animation\n",
    "from IPython.display import HTML"
   ]
  },
  {
   "cell_type": "code",
   "execution_count": 21,
   "id": "lasting-extraction",
   "metadata": {
    "execution": {
     "iopub.execute_input": "2021-02-13T00:10:29.774573Z",
     "iopub.status.busy": "2021-02-13T00:10:29.774008Z",
     "iopub.status.idle": "2021-02-13T00:10:29.779763Z",
     "shell.execute_reply": "2021-02-13T00:10:29.779328Z"
    },
    "papermill": {
     "duration": 0.04398,
     "end_time": "2021-02-13T00:10:29.779876",
     "exception": false,
     "start_time": "2021-02-13T00:10:29.735896",
     "status": "completed"
    },
    "tags": []
   },
   "outputs": [],
   "source": [
    "#hide\n",
    "t = everydaycases.stack()"
   ]
  },
  {
   "cell_type": "code",
   "execution_count": 22,
   "id": "premier-sleeve",
   "metadata": {
    "execution": {
     "iopub.execute_input": "2021-02-13T00:10:29.848190Z",
     "iopub.status.busy": "2021-02-13T00:10:29.847715Z",
     "iopub.status.idle": "2021-02-13T00:10:29.854491Z",
     "shell.execute_reply": "2021-02-13T00:10:29.854055Z"
    },
    "papermill": {
     "duration": 0.0441,
     "end_time": "2021-02-13T00:10:29.854596",
     "exception": false,
     "start_time": "2021-02-13T00:10:29.810496",
     "status": "completed"
    },
    "tags": []
   },
   "outputs": [],
   "source": [
    "#hide\n",
    "g = t.reset_index(['Country/Region'])"
   ]
  },
  {
   "cell_type": "code",
   "execution_count": 23,
   "id": "distributed-pittsburgh",
   "metadata": {
    "execution": {
     "iopub.execute_input": "2021-02-13T00:10:29.920837Z",
     "iopub.status.busy": "2021-02-13T00:10:29.920295Z",
     "iopub.status.idle": "2021-02-13T00:10:29.922347Z",
     "shell.execute_reply": "2021-02-13T00:10:29.922807Z"
    },
    "papermill": {
     "duration": 0.037346,
     "end_time": "2021-02-13T00:10:29.922956",
     "exception": false,
     "start_time": "2021-02-13T00:10:29.885610",
     "status": "completed"
    },
    "tags": []
   },
   "outputs": [],
   "source": [
    "#hide\n",
    "g.index.name = 'date'"
   ]
  },
  {
   "cell_type": "code",
   "execution_count": 24,
   "id": "naked-donor",
   "metadata": {
    "execution": {
     "iopub.execute_input": "2021-02-13T00:10:29.989118Z",
     "iopub.status.busy": "2021-02-13T00:10:29.988319Z",
     "iopub.status.idle": "2021-02-13T00:10:29.989949Z",
     "shell.execute_reply": "2021-02-13T00:10:29.990630Z"
    },
    "papermill": {
     "duration": 0.035614,
     "end_time": "2021-02-13T00:10:29.990806",
     "exception": false,
     "start_time": "2021-02-13T00:10:29.955192",
     "status": "completed"
    },
    "tags": []
   },
   "outputs": [],
   "source": [
    "# #hide\n",
    "# g = g.reset_index(['date'])"
   ]
  },
  {
   "cell_type": "code",
   "execution_count": 25,
   "id": "incomplete-mustang",
   "metadata": {
    "execution": {
     "iopub.execute_input": "2021-02-13T00:10:30.056707Z",
     "iopub.status.busy": "2021-02-13T00:10:30.055700Z",
     "iopub.status.idle": "2021-02-13T00:10:30.057755Z",
     "shell.execute_reply": "2021-02-13T00:10:30.058216Z"
    },
    "papermill": {
     "duration": 0.035703,
     "end_time": "2021-02-13T00:10:30.058376",
     "exception": false,
     "start_time": "2021-02-13T00:10:30.022673",
     "status": "completed"
    },
    "tags": []
   },
   "outputs": [],
   "source": [
    "#hide\n",
    "# g.head()"
   ]
  },
  {
   "cell_type": "code",
   "execution_count": 26,
   "id": "specific-kruger",
   "metadata": {
    "execution": {
     "iopub.execute_input": "2021-02-13T00:10:30.124645Z",
     "iopub.status.busy": "2021-02-13T00:10:30.124148Z",
     "iopub.status.idle": "2021-02-13T00:10:30.126793Z",
     "shell.execute_reply": "2021-02-13T00:10:30.127325Z"
    },
    "papermill": {
     "duration": 0.03663,
     "end_time": "2021-02-13T00:10:30.127450",
     "exception": false,
     "start_time": "2021-02-13T00:10:30.090820",
     "status": "completed"
    },
    "tags": []
   },
   "outputs": [],
   "source": [
    "#hide\n",
    "# g.columns = ['date','country','cases']"
   ]
  },
  {
   "cell_type": "code",
   "execution_count": 27,
   "id": "tender-conversion",
   "metadata": {
    "execution": {
     "iopub.execute_input": "2021-02-13T00:10:30.192682Z",
     "iopub.status.busy": "2021-02-13T00:10:30.192092Z",
     "iopub.status.idle": "2021-02-13T00:10:30.194932Z",
     "shell.execute_reply": "2021-02-13T00:10:30.194449Z"
    },
    "papermill": {
     "duration": 0.037095,
     "end_time": "2021-02-13T00:10:30.195056",
     "exception": false,
     "start_time": "2021-02-13T00:10:30.157961",
     "status": "completed"
    },
    "tags": []
   },
   "outputs": [],
   "source": [
    "#hide\n",
    "# g['continent'] = g.country"
   ]
  },
  {
   "cell_type": "code",
   "execution_count": 28,
   "id": "substantial-wilderness",
   "metadata": {
    "execution": {
     "iopub.execute_input": "2021-02-13T00:10:30.262098Z",
     "iopub.status.busy": "2021-02-13T00:10:30.261559Z",
     "iopub.status.idle": "2021-02-13T00:10:30.263645Z",
     "shell.execute_reply": "2021-02-13T00:10:30.263239Z"
    },
    "papermill": {
     "duration": 0.03738,
     "end_time": "2021-02-13T00:10:30.263745",
     "exception": false,
     "start_time": "2021-02-13T00:10:30.226365",
     "status": "completed"
    },
    "tags": []
   },
   "outputs": [],
   "source": [
    "#hide\n",
    "# cols = list(g.columns.values)"
   ]
  },
  {
   "cell_type": "code",
   "execution_count": 29,
   "id": "solved-farming",
   "metadata": {
    "execution": {
     "iopub.execute_input": "2021-02-13T00:10:30.327757Z",
     "iopub.status.busy": "2021-02-13T00:10:30.327282Z",
     "iopub.status.idle": "2021-02-13T00:10:30.329642Z",
     "shell.execute_reply": "2021-02-13T00:10:30.330167Z"
    },
    "papermill": {
     "duration": 0.036481,
     "end_time": "2021-02-13T00:10:30.330287",
     "exception": false,
     "start_time": "2021-02-13T00:10:30.293806",
     "status": "completed"
    },
    "tags": []
   },
   "outputs": [],
   "source": [
    "#hide\n",
    "# cols.insert(0, cols.pop())"
   ]
  },
  {
   "cell_type": "code",
   "execution_count": 30,
   "id": "executed-adoption",
   "metadata": {
    "execution": {
     "iopub.execute_input": "2021-02-13T00:10:30.394126Z",
     "iopub.status.busy": "2021-02-13T00:10:30.393585Z",
     "iopub.status.idle": "2021-02-13T00:10:30.395890Z",
     "shell.execute_reply": "2021-02-13T00:10:30.395396Z"
    },
    "papermill": {
     "duration": 0.036783,
     "end_time": "2021-02-13T00:10:30.396005",
     "exception": false,
     "start_time": "2021-02-13T00:10:30.359222",
     "status": "completed"
    },
    "tags": []
   },
   "outputs": [],
   "source": [
    "#hide\n",
    "# g = g[cols]"
   ]
  },
  {
   "cell_type": "code",
   "execution_count": 31,
   "id": "subject-dublin",
   "metadata": {
    "execution": {
     "iopub.execute_input": "2021-02-13T00:10:30.459985Z",
     "iopub.status.busy": "2021-02-13T00:10:30.459481Z",
     "iopub.status.idle": "2021-02-13T00:10:30.461765Z",
     "shell.execute_reply": "2021-02-13T00:10:30.462274Z"
    },
    "papermill": {
     "duration": 0.035597,
     "end_time": "2021-02-13T00:10:30.462400",
     "exception": false,
     "start_time": "2021-02-13T00:10:30.426803",
     "status": "completed"
    },
    "tags": []
   },
   "outputs": [],
   "source": [
    "#hide\n",
    "# g['continent'] = g['continent'].map(mapping['map.continent'])"
   ]
  },
  {
   "cell_type": "code",
   "execution_count": 32,
   "id": "freelance-scout",
   "metadata": {
    "execution": {
     "iopub.execute_input": "2021-02-13T00:10:30.522596Z",
     "iopub.status.busy": "2021-02-13T00:10:30.522075Z",
     "iopub.status.idle": "2021-02-13T00:10:30.525013Z",
     "shell.execute_reply": "2021-02-13T00:10:30.524590Z"
    },
    "papermill": {
     "duration": 0.033851,
     "end_time": "2021-02-13T00:10:30.525123",
     "exception": false,
     "start_time": "2021-02-13T00:10:30.491272",
     "status": "completed"
    },
    "tags": []
   },
   "outputs": [],
   "source": [
    "#hide\n",
    "# g.head()"
   ]
  },
  {
   "cell_type": "code",
   "execution_count": 33,
   "id": "limited-engine",
   "metadata": {
    "execution": {
     "iopub.execute_input": "2021-02-13T00:10:30.589550Z",
     "iopub.status.busy": "2021-02-13T00:10:30.589010Z",
     "iopub.status.idle": "2021-02-13T00:10:30.591523Z",
     "shell.execute_reply": "2021-02-13T00:10:30.592082Z"
    },
    "papermill": {
     "duration": 0.036236,
     "end_time": "2021-02-13T00:10:30.592212",
     "exception": false,
     "start_time": "2021-02-13T00:10:30.555976",
     "status": "completed"
    },
    "tags": []
   },
   "outputs": [],
   "source": [
    "# hide\n",
    "# g['date'] = g['date'].astype('datetime64[ns]')"
   ]
  },
  {
   "cell_type": "code",
   "execution_count": 34,
   "id": "sophisticated-supervisor",
   "metadata": {
    "execution": {
     "iopub.execute_input": "2021-02-13T00:10:30.655673Z",
     "iopub.status.busy": "2021-02-13T00:10:30.655135Z",
     "iopub.status.idle": "2021-02-13T00:10:30.657434Z",
     "shell.execute_reply": "2021-02-13T00:10:30.656961Z"
    },
    "papermill": {
     "duration": 0.03591,
     "end_time": "2021-02-13T00:10:30.657549",
     "exception": false,
     "start_time": "2021-02-13T00:10:30.621639",
     "status": "completed"
    },
    "tags": []
   },
   "outputs": [],
   "source": [
    "#hide\n",
    "# g['date'] = g.date.dt.dayofyear"
   ]
  },
  {
   "cell_type": "code",
   "execution_count": 35,
   "id": "inside-dubai",
   "metadata": {
    "execution": {
     "iopub.execute_input": "2021-02-13T00:10:30.724554Z",
     "iopub.status.busy": "2021-02-13T00:10:30.723975Z",
     "iopub.status.idle": "2021-02-13T00:10:30.726573Z",
     "shell.execute_reply": "2021-02-13T00:10:30.727080Z"
    },
    "papermill": {
     "duration": 0.038099,
     "end_time": "2021-02-13T00:10:30.727202",
     "exception": false,
     "start_time": "2021-02-13T00:10:30.689103",
     "status": "completed"
    },
    "tags": []
   },
   "outputs": [],
   "source": [
    "#hide\n",
    "# g = g.rename(columns= {'continent':'group','country':'name','cases':'value'})"
   ]
  },
  {
   "cell_type": "code",
   "execution_count": 36,
   "id": "fleet-motorcycle",
   "metadata": {
    "execution": {
     "iopub.execute_input": "2021-02-13T00:10:30.787615Z",
     "iopub.status.busy": "2021-02-13T00:10:30.787103Z",
     "iopub.status.idle": "2021-02-13T00:10:30.789154Z",
     "shell.execute_reply": "2021-02-13T00:10:30.789657Z"
    },
    "papermill": {
     "duration": 0.033467,
     "end_time": "2021-02-13T00:10:30.789774",
     "exception": false,
     "start_time": "2021-02-13T00:10:30.756307",
     "status": "completed"
    },
    "tags": []
   },
   "outputs": [],
   "source": [
    "#hide\n",
    "# cols = ['name','group','day','value']"
   ]
  },
  {
   "cell_type": "code",
   "execution_count": 37,
   "id": "continued-sleeping",
   "metadata": {
    "execution": {
     "iopub.execute_input": "2021-02-13T00:10:30.854648Z",
     "iopub.status.busy": "2021-02-13T00:10:30.854147Z",
     "iopub.status.idle": "2021-02-13T00:10:30.856553Z",
     "shell.execute_reply": "2021-02-13T00:10:30.857062Z"
    },
    "papermill": {
     "duration": 0.03714,
     "end_time": "2021-02-13T00:10:30.857180",
     "exception": false,
     "start_time": "2021-02-13T00:10:30.820040",
     "status": "completed"
    },
    "tags": []
   },
   "outputs": [],
   "source": [
    "#hide\n",
    "# g.rename(columns= {'date':'day'},inplace = True)"
   ]
  },
  {
   "cell_type": "code",
   "execution_count": 38,
   "id": "major-fight",
   "metadata": {
    "execution": {
     "iopub.execute_input": "2021-02-13T00:10:30.923926Z",
     "iopub.status.busy": "2021-02-13T00:10:30.923186Z",
     "iopub.status.idle": "2021-02-13T00:10:30.924686Z",
     "shell.execute_reply": "2021-02-13T00:10:30.925256Z"
    },
    "papermill": {
     "duration": 0.036892,
     "end_time": "2021-02-13T00:10:30.925416",
     "exception": false,
     "start_time": "2021-02-13T00:10:30.888524",
     "status": "completed"
    },
    "tags": []
   },
   "outputs": [],
   "source": [
    "#hide\n",
    "# g = g[cols]"
   ]
  },
  {
   "cell_type": "code",
   "execution_count": 39,
   "id": "structured-mobile",
   "metadata": {
    "execution": {
     "iopub.execute_input": "2021-02-13T00:10:30.992235Z",
     "iopub.status.busy": "2021-02-13T00:10:30.991697Z",
     "iopub.status.idle": "2021-02-13T00:10:30.993933Z",
     "shell.execute_reply": "2021-02-13T00:10:30.993522Z"
    },
    "papermill": {
     "duration": 0.037149,
     "end_time": "2021-02-13T00:10:30.994055",
     "exception": false,
     "start_time": "2021-02-13T00:10:30.956906",
     "status": "completed"
    },
    "tags": []
   },
   "outputs": [],
   "source": [
    "# #hide\n",
    "# g = g[g.group.notna()]"
   ]
  },
  {
   "cell_type": "code",
   "execution_count": 40,
   "id": "determined-closing",
   "metadata": {
    "execution": {
     "iopub.execute_input": "2021-02-13T00:10:31.055964Z",
     "iopub.status.busy": "2021-02-13T00:10:31.055373Z",
     "iopub.status.idle": "2021-02-13T00:10:31.058099Z",
     "shell.execute_reply": "2021-02-13T00:10:31.058643Z"
    },
    "papermill": {
     "duration": 0.03539,
     "end_time": "2021-02-13T00:10:31.058768",
     "exception": false,
     "start_time": "2021-02-13T00:10:31.023378",
     "status": "completed"
    },
    "tags": []
   },
   "outputs": [],
   "source": [
    "# #hide\n",
    "# colors = dict(zip(\n",
    "#     [\"Oceania\", \"Europe\", \"Asia\", \"South America\", \"Middle East\", \"North America\", \"Africa\"],\n",
    "#     [\"#adb0ff\", \"#ffb3ff\", \"#90d595\", \"#e48381\", \"#aafbff\", \"#f7bb5f\", \"#eafb50\"]\n",
    "# ))\n",
    "# group_lk = g.set_index('name')['group'].to_dict()"
   ]
  },
  {
   "cell_type": "code",
   "execution_count": null,
   "id": "gross-drinking",
   "metadata": {
    "papermill": {
     "duration": 0.03152,
     "end_time": "2021-02-13T00:10:31.121819",
     "exception": false,
     "start_time": "2021-02-13T00:10:31.090299",
     "status": "completed"
    },
    "tags": []
   },
   "outputs": [],
   "source": []
  },
  {
   "cell_type": "code",
   "execution_count": 41,
   "id": "subject-macintosh",
   "metadata": {
    "execution": {
     "iopub.execute_input": "2021-02-13T00:10:31.188405Z",
     "iopub.status.busy": "2021-02-13T00:10:31.187847Z",
     "iopub.status.idle": "2021-02-13T00:10:31.190089Z",
     "shell.execute_reply": "2021-02-13T00:10:31.189658Z"
    },
    "papermill": {
     "duration": 0.036873,
     "end_time": "2021-02-13T00:10:31.190199",
     "exception": false,
     "start_time": "2021-02-13T00:10:31.153326",
     "status": "completed"
    },
    "tags": []
   },
   "outputs": [],
   "source": [
    "# #hide\n",
    "# fig, ax = plt.subplots(figsize=(15, 8))\n",
    "\n",
    "# def draw_barchart(current_day):\n",
    "#     dff = g[g['day'].eq(current_day)].sort_values(by='value', ascending=True).tail(10)\n",
    "#     ax.clear()\n",
    "#     ax.barh(dff['name'], dff['value'], color=[colors[group_lk[x]] for x in dff['name']])\n",
    "#     dx = dff['value'].max() / 200\n",
    "    \n",
    "#     for i, (value, name) in enumerate(zip(dff['value'], dff['name'])):\n",
    "#         ax.text(value-dx, i,     name,           size=14, weight=600, ha='right', va='bottom')\n",
    "#         ax.text(value-dx, i-.25, group_lk[name], size=10, color='#444444', ha='right', va='baseline')\n",
    "#         ax.text(value+dx, i,     f'{value:,.0f}',  size=14, ha='left',  va='center')\n",
    "#     ax.text(1, 0.4, current_day, transform=ax.transAxes, color='#777777', size=46, ha='right', weight=800)\n",
    "#     ax.text(0, 1.06, 'Population (thousands)', transform=ax.transAxes, size=12, color='#777777')\n",
    "#     ax.xaxis.set_major_formatter(ticker.StrMethodFormatter('{x:,.0f}'))\n",
    "#     ax.xaxis.set_ticks_position('top')\n",
    "#     ax.tick_params(axis='x', colors='#777777', labelsize=12)\n",
    "#     ax.set_yticks([])\n",
    "#     ax.margins(0, 0.01)\n",
    "#     ax.grid(which='major', axis='x', linestyle='-')\n",
    "#     ax.set_axisbelow(True)\n",
    "    \n",
    "#     ax.text(0, 1.15, 'Coronavirus',\n",
    "#             transform=ax.transAxes, size=24, weight=600, ha='left', va='top')\n",
    "# #     ax.text(1, 0, 'by @pratapvardhan; credit @jburnmurdoch', transform=ax.transAxes, color='#777777', ha='right',\n",
    "# #             bbox=dict(facecolor='white', alpha=0.8, edgecolor='white'))\n",
    "#     plt.box(False)"
   ]
  },
  {
   "cell_type": "code",
   "execution_count": 42,
   "id": "sexual-wages",
   "metadata": {
    "execution": {
     "iopub.execute_input": "2021-02-13T00:10:31.256140Z",
     "iopub.status.busy": "2021-02-13T00:10:31.255549Z",
     "iopub.status.idle": "2021-02-13T00:10:31.257327Z",
     "shell.execute_reply": "2021-02-13T00:10:31.257829Z"
    },
    "papermill": {
     "duration": 0.036819,
     "end_time": "2021-02-13T00:10:31.258175",
     "exception": false,
     "start_time": "2021-02-13T00:10:31.221356",
     "status": "completed"
    },
    "tags": []
   },
   "outputs": [],
   "source": [
    "# #hide_input\n",
    "# fig, ax = plt.subplots(figsize=(15, 8))\n",
    "# animator = animation.FuncAnimation(fig, draw_barchart, frames=range(g.day.values.min(), g.day.values.max()))\n",
    "# HTML(animator.to_jshtml())\n",
    "# # or use animator.to_html5_video() or animator.save() "
   ]
  },
  {
   "cell_type": "code",
   "execution_count": null,
   "id": "australian-container",
   "metadata": {
    "papermill": {
     "duration": 0.028849,
     "end_time": "2021-02-13T00:10:31.316572",
     "exception": false,
     "start_time": "2021-02-13T00:10:31.287723",
     "status": "completed"
    },
    "tags": []
   },
   "outputs": [],
   "source": []
  },
  {
   "cell_type": "code",
   "execution_count": null,
   "id": "mediterranean-pontiac",
   "metadata": {
    "papermill": {
     "duration": 0.028049,
     "end_time": "2021-02-13T00:10:31.374004",
     "exception": false,
     "start_time": "2021-02-13T00:10:31.345955",
     "status": "completed"
    },
    "tags": []
   },
   "outputs": [],
   "source": []
  },
  {
   "cell_type": "code",
   "execution_count": null,
   "id": "aging-legislature",
   "metadata": {
    "papermill": {
     "duration": 0.030164,
     "end_time": "2021-02-13T00:10:31.431819",
     "exception": false,
     "start_time": "2021-02-13T00:10:31.401655",
     "status": "completed"
    },
    "tags": []
   },
   "outputs": [],
   "source": []
  }
 ],
 "metadata": {
  "kernelspec": {
   "display_name": "Python 3",
   "language": "python",
   "name": "python3"
  },
  "language_info": {
   "codemirror_mode": {
    "name": "ipython",
    "version": 3
   },
   "file_extension": ".py",
   "mimetype": "text/x-python",
   "name": "python",
   "nbconvert_exporter": "python",
   "pygments_lexer": "ipython3",
   "version": "3.6.12"
  },
  "papermill": {
   "duration": 5.824763,
   "end_time": "2021-02-13T00:10:31.771177",
   "environment_variables": {},
   "exception": null,
   "input_path": "2020-03-21-covid19exp.ipynb",
   "output_path": "2020-03-21-covid19exp.ipynb",
   "parameters": {},
   "start_time": "2021-02-13T00:10:25.946414",
   "version": "2.0.0"
  }
 },
 "nbformat": 4,
 "nbformat_minor": 5
}