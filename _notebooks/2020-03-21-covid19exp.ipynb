{
 "cells": [
  {
   "cell_type": "markdown",
   "id": "muslim-click",
   "metadata": {
    "papermill": {
     "duration": 0.047445,
     "end_time": "2022-10-17T01:04:17.388982",
     "exception": false,
     "start_time": "2022-10-17T01:04:17.341537",
     "status": "completed"
    },
    "tags": []
   },
   "source": [
    "# COVID-19 Case Race\n",
    "> A race chart to see rising cases around the world\n",
    "\n",
    "- author: Hargun Oberoi\n",
    "- image: images/covid-overview.png\n",
    "- hide: false\n",
    "- badges: false"
   ]
  },
  {
   "cell_type": "code",
   "execution_count": 1,
   "id": "proof-material",
   "metadata": {
    "execution": {
     "iopub.execute_input": "2022-10-17T01:04:17.488842Z",
     "iopub.status.busy": "2022-10-17T01:04:17.488027Z",
     "iopub.status.idle": "2022-10-17T01:04:17.965261Z",
     "shell.execute_reply": "2022-10-17T01:04:17.964159Z"
    },
    "papermill": {
     "duration": 0.532472,
     "end_time": "2022-10-17T01:04:17.965452",
     "exception": false,
     "start_time": "2022-10-17T01:04:17.432980",
     "status": "completed"
    },
    "tags": []
   },
   "outputs": [],
   "source": [
    "#hide\n",
    "import numpy as np\n",
    "import pandas as pd\n",
    "from jinja2 import Template\n",
    "from IPython.display import HTML"
   ]
  },
  {
   "cell_type": "code",
   "execution_count": 2,
   "id": "developed-terminology",
   "metadata": {
    "execution": {
     "iopub.execute_input": "2022-10-17T01:04:18.060097Z",
     "iopub.status.busy": "2022-10-17T01:04:18.059156Z",
     "iopub.status.idle": "2022-10-17T01:04:18.062763Z",
     "shell.execute_reply": "2022-10-17T01:04:18.062109Z"
    },
    "papermill": {
     "duration": 0.055786,
     "end_time": "2022-10-17T01:04:18.062924",
     "exception": false,
     "start_time": "2022-10-17T01:04:18.007138",
     "status": "completed"
    },
    "tags": []
   },
   "outputs": [],
   "source": [
    "#hide\n",
    "\n",
    "# FETCH\n",
    "base_url = 'https://raw.githubusercontent.com/pratapvardhan/notebooks/master/covid19/'\n",
    "paths = {\n",
    "    'mapping': base_url + 'mapping_countries.csv',\n",
    "    'overview': base_url + 'overview.tpl'\n",
    "}"
   ]
  },
  {
   "cell_type": "code",
   "execution_count": 3,
   "id": "dynamic-saver",
   "metadata": {
    "execution": {
     "iopub.execute_input": "2022-10-17T01:04:18.165098Z",
     "iopub.status.busy": "2022-10-17T01:04:18.164268Z",
     "iopub.status.idle": "2022-10-17T01:04:18.168697Z",
     "shell.execute_reply": "2022-10-17T01:04:18.167943Z"
    },
    "papermill": {
     "duration": 0.060787,
     "end_time": "2022-10-17T01:04:18.168851",
     "exception": false,
     "start_time": "2022-10-17T01:04:18.108064",
     "status": "completed"
    },
    "tags": []
   },
   "outputs": [
    {
     "data": {
      "text/plain": [
       "'https://raw.githubusercontent.com/pratapvardhan/notebooks/master/covid19/mapping_countries.csv'"
      ]
     },
     "execution_count": 3,
     "metadata": {},
     "output_type": "execute_result"
    }
   ],
   "source": [
    "#hide\n",
    "paths['mapping']"
   ]
  },
  {
   "cell_type": "code",
   "execution_count": 4,
   "id": "urban-software",
   "metadata": {
    "execution": {
     "iopub.execute_input": "2022-10-17T01:04:18.261414Z",
     "iopub.status.busy": "2022-10-17T01:04:18.260593Z",
     "iopub.status.idle": "2022-10-17T01:04:18.265673Z",
     "shell.execute_reply": "2022-10-17T01:04:18.266262Z"
    },
    "papermill": {
     "duration": 0.055157,
     "end_time": "2022-10-17T01:04:18.266449",
     "exception": false,
     "start_time": "2022-10-17T01:04:18.211292",
     "status": "completed"
    },
    "tags": []
   },
   "outputs": [],
   "source": [
    "#hide\n",
    "def get_mappings(url):\n",
    "    df = pd.read_csv(url)\n",
    "    return {\n",
    "        'df': df,\n",
    "        'replace.country': dict(df.dropna(subset=['Name']).set_index('Country')['Name']),\n",
    "        'map.continent': dict(df.set_index('Name')['Continent'])\n",
    "    }"
   ]
  },
  {
   "cell_type": "code",
   "execution_count": 5,
   "id": "intimate-machinery",
   "metadata": {
    "execution": {
     "iopub.execute_input": "2022-10-17T01:04:18.360511Z",
     "iopub.status.busy": "2022-10-17T01:04:18.359674Z",
     "iopub.status.idle": "2022-10-17T01:04:18.417002Z",
     "shell.execute_reply": "2022-10-17T01:04:18.416292Z"
    },
    "papermill": {
     "duration": 0.107148,
     "end_time": "2022-10-17T01:04:18.417159",
     "exception": false,
     "start_time": "2022-10-17T01:04:18.310011",
     "status": "completed"
    },
    "tags": []
   },
   "outputs": [],
   "source": [
    "#hide\n",
    "mapping = get_mappings(paths['mapping'])"
   ]
  },
  {
   "cell_type": "code",
   "execution_count": 6,
   "id": "certified-tactics",
   "metadata": {
    "execution": {
     "iopub.execute_input": "2022-10-17T01:04:18.527674Z",
     "iopub.status.busy": "2022-10-17T01:04:18.526627Z",
     "iopub.status.idle": "2022-10-17T01:04:18.529095Z",
     "shell.execute_reply": "2022-10-17T01:04:18.528430Z"
    },
    "papermill": {
     "duration": 0.060735,
     "end_time": "2022-10-17T01:04:18.529248",
     "exception": false,
     "start_time": "2022-10-17T01:04:18.468513",
     "status": "completed"
    },
    "tags": []
   },
   "outputs": [],
   "source": [
    "#hide\n",
    "def get_template(path):\n",
    "    from urllib.parse import urlparse\n",
    "    if bool(urlparse(path).netloc):\n",
    "        from urllib.request import urlopen\n",
    "        return urlopen(path).read().decode('utf8')\n",
    "    return open(path).read()"
   ]
  },
  {
   "cell_type": "code",
   "execution_count": 7,
   "id": "realistic-blast",
   "metadata": {
    "execution": {
     "iopub.execute_input": "2022-10-17T01:04:18.621466Z",
     "iopub.status.busy": "2022-10-17T01:04:18.620689Z",
     "iopub.status.idle": "2022-10-17T01:04:18.623749Z",
     "shell.execute_reply": "2022-10-17T01:04:18.623117Z"
    },
    "papermill": {
     "duration": 0.052235,
     "end_time": "2022-10-17T01:04:18.623927",
     "exception": false,
     "start_time": "2022-10-17T01:04:18.571692",
     "status": "completed"
    },
    "tags": []
   },
   "outputs": [],
   "source": [
    "#hide\n",
    "def get_frame(name):\n",
    "    url = (\n",
    "        'https://raw.githubusercontent.com/CSSEGISandData/COVID-19/master/csse_covid_19_data/'\n",
    "        f'csse_covid_19_time_series/time_series_covid19_{name}_global.csv')\n",
    "    df = pd.read_csv(url)\n",
    "    # rename countries\n",
    "    df['Country/Region'] = df['Country/Region'].replace(mapping['replace.country'])\n",
    "    return df"
   ]
  },
  {
   "cell_type": "code",
   "execution_count": 8,
   "id": "affiliated-characterization",
   "metadata": {
    "execution": {
     "iopub.execute_input": "2022-10-17T01:04:18.715082Z",
     "iopub.status.busy": "2022-10-17T01:04:18.714274Z",
     "iopub.status.idle": "2022-10-17T01:04:18.717529Z",
     "shell.execute_reply": "2022-10-17T01:04:18.716871Z"
    },
    "papermill": {
     "duration": 0.051132,
     "end_time": "2022-10-17T01:04:18.717681",
     "exception": false,
     "start_time": "2022-10-17T01:04:18.666549",
     "status": "completed"
    },
    "tags": []
   },
   "outputs": [],
   "source": [
    "#hide\n",
    "def get_dates(df):\n",
    "    dt_cols = df.columns[~df.columns.isin(['Province/State', 'Country/Region', 'Lat', 'Long'])]\n",
    "    LAST_DATE_I = -1\n",
    "    # sometimes last column may be empty, then go backwards\n",
    "    for i in range(-1, -len(dt_cols), -1):\n",
    "        if not df[dt_cols[i]].fillna(0).eq(0).all():\n",
    "            LAST_DATE_I = i\n",
    "            break\n",
    "    return LAST_DATE_I, dt_cols"
   ]
  },
  {
   "cell_type": "code",
   "execution_count": 9,
   "id": "recent-optimization",
   "metadata": {
    "execution": {
     "iopub.execute_input": "2022-10-17T01:04:18.809208Z",
     "iopub.status.busy": "2022-10-17T01:04:18.808394Z",
     "iopub.status.idle": "2022-10-17T01:04:19.541056Z",
     "shell.execute_reply": "2022-10-17T01:04:19.540301Z"
    },
    "papermill": {
     "duration": 0.781608,
     "end_time": "2022-10-17T01:04:19.541224",
     "exception": false,
     "start_time": "2022-10-17T01:04:18.759616",
     "status": "completed"
    },
    "tags": []
   },
   "outputs": [],
   "source": [
    "#hide\n",
    "COL_REGION = 'Country/Region'\n",
    "# Confirmed, Recovered, Deaths\n",
    "df = get_frame('confirmed')\n",
    "# dft_: timeseries, dfc_: today country agg\n",
    "dft_cases = df\n",
    "dft_deaths = get_frame('deaths')\n",
    "dft_recovered = get_frame('recovered')\n",
    "LAST_DATE_I, dt_cols = get_dates(df)"
   ]
  },
  {
   "cell_type": "code",
   "execution_count": 10,
   "id": "absolute-copper",
   "metadata": {
    "execution": {
     "iopub.execute_input": "2022-10-17T01:04:19.638076Z",
     "iopub.status.busy": "2022-10-17T01:04:19.637233Z",
     "iopub.status.idle": "2022-10-17T01:04:19.642374Z",
     "shell.execute_reply": "2022-10-17T01:04:19.642974Z"
    },
    "papermill": {
     "duration": 0.055632,
     "end_time": "2022-10-17T01:04:19.643134",
     "exception": false,
     "start_time": "2022-10-17T01:04:19.587502",
     "status": "completed"
    },
    "tags": []
   },
   "outputs": [],
   "source": [
    "#hide\n",
    "LAST_DATE_I, dt_cols = get_dates(df)\n",
    "dt_today =dt_cols[LAST_DATE_I]\n",
    "# dt_5day = dt_cols[LAST_DATE_I - 5]\n",
    "dt_yday = dt_cols[LAST_DATE_I - 1]"
   ]
  },
  {
   "cell_type": "code",
   "execution_count": 11,
   "id": "restricted-sheriff",
   "metadata": {
    "execution": {
     "iopub.execute_input": "2022-10-17T01:04:19.747482Z",
     "iopub.status.busy": "2022-10-17T01:04:19.746651Z",
     "iopub.status.idle": "2022-10-17T01:04:19.753491Z",
     "shell.execute_reply": "2022-10-17T01:04:19.752727Z"
    },
    "papermill": {
     "duration": 0.066591,
     "end_time": "2022-10-17T01:04:19.753658",
     "exception": false,
     "start_time": "2022-10-17T01:04:19.687067",
     "status": "completed"
    },
    "tags": []
   },
   "outputs": [],
   "source": [
    "#hide\n",
    "dfc_cases = dft_cases.groupby(COL_REGION)[dt_today].sum()\n",
    "dfc_deaths = dft_deaths.groupby(COL_REGION)[dt_today].sum()\n",
    "# dfp_cases = dft_cases.groupby(COL_REGION)[dt_5day].sum()\n",
    "# dfp_deaths = dft_deaths.groupby(COL_REGION)[dt_5day].sum()\n",
    "dfp_cases = dft_cases.groupby(COL_REGION)[dt_yday].sum()\n",
    "dfp_deaths = dft_deaths.groupby(COL_REGION)[dt_yday].sum()"
   ]
  },
  {
   "cell_type": "code",
   "execution_count": 12,
   "id": "deluxe-hepatitis",
   "metadata": {
    "execution": {
     "iopub.execute_input": "2022-10-17T01:04:19.851100Z",
     "iopub.status.busy": "2022-10-17T01:04:19.850288Z",
     "iopub.status.idle": "2022-10-17T01:04:19.862660Z",
     "shell.execute_reply": "2022-10-17T01:04:19.861849Z"
    },
    "papermill": {
     "duration": 0.066532,
     "end_time": "2022-10-17T01:04:19.862847",
     "exception": false,
     "start_time": "2022-10-17T01:04:19.796315",
     "status": "completed"
    },
    "tags": []
   },
   "outputs": [],
   "source": [
    "#hide\n",
    "df_table = (pd.DataFrame(dict(Cases = dfc_cases, Deaths = dfc_deaths, PCases = dfp_cases, PDeaths = dfp_deaths))\n",
    "            .sort_values(by = ['Cases','Deaths'], ascending = [False, False])\n",
    "            .reset_index())"
   ]
  },
  {
   "cell_type": "code",
   "execution_count": 13,
   "id": "educational-chancellor",
   "metadata": {
    "execution": {
     "iopub.execute_input": "2022-10-17T01:04:19.973515Z",
     "iopub.status.busy": "2022-10-17T01:04:19.972594Z",
     "iopub.status.idle": "2022-10-17T01:04:19.984139Z",
     "shell.execute_reply": "2022-10-17T01:04:19.983469Z"
    },
    "papermill": {
     "duration": 0.080292,
     "end_time": "2022-10-17T01:04:19.984327",
     "exception": false,
     "start_time": "2022-10-17T01:04:19.904035",
     "status": "completed"
    },
    "tags": []
   },
   "outputs": [
    {
     "data": {
      "text/html": [
       "<div>\n",
       "<style scoped>\n",
       "    .dataframe tbody tr th:only-of-type {\n",
       "        vertical-align: middle;\n",
       "    }\n",
       "\n",
       "    .dataframe tbody tr th {\n",
       "        vertical-align: top;\n",
       "    }\n",
       "\n",
       "    .dataframe thead th {\n",
       "        text-align: right;\n",
       "    }\n",
       "</style>\n",
       "<table border=\"1\" class=\"dataframe\">\n",
       "  <thead>\n",
       "    <tr style=\"text-align: right;\">\n",
       "      <th></th>\n",
       "      <th>Country/Region</th>\n",
       "      <th>Cases</th>\n",
       "      <th>Deaths</th>\n",
       "      <th>PCases</th>\n",
       "      <th>PDeaths</th>\n",
       "      <th>Cases (+)</th>\n",
       "      <th>Deaths (+)</th>\n",
       "      <th>Fatality Rate</th>\n",
       "      <th>Continent</th>\n",
       "    </tr>\n",
       "  </thead>\n",
       "  <tbody>\n",
       "    <tr>\n",
       "      <th>0</th>\n",
       "      <td>US</td>\n",
       "      <td>96945785</td>\n",
       "      <td>1065108</td>\n",
       "      <td>96940217</td>\n",
       "      <td>1065076</td>\n",
       "      <td>5568</td>\n",
       "      <td>32</td>\n",
       "      <td>1.10</td>\n",
       "      <td>North America</td>\n",
       "    </tr>\n",
       "    <tr>\n",
       "      <th>1</th>\n",
       "      <td>India</td>\n",
       "      <td>44628828</td>\n",
       "      <td>528895</td>\n",
       "      <td>44626427</td>\n",
       "      <td>528874</td>\n",
       "      <td>2401</td>\n",
       "      <td>21</td>\n",
       "      <td>1.19</td>\n",
       "      <td>Asia</td>\n",
       "    </tr>\n",
       "    <tr>\n",
       "      <th>2</th>\n",
       "      <td>France</td>\n",
       "      <td>36378553</td>\n",
       "      <td>156856</td>\n",
       "      <td>36378553</td>\n",
       "      <td>156856</td>\n",
       "      <td>0</td>\n",
       "      <td>0</td>\n",
       "      <td>0.43</td>\n",
       "      <td>Europe</td>\n",
       "    </tr>\n",
       "    <tr>\n",
       "      <th>3</th>\n",
       "      <td>Brazil</td>\n",
       "      <td>34746462</td>\n",
       "      <td>687144</td>\n",
       "      <td>34746462</td>\n",
       "      <td>687144</td>\n",
       "      <td>0</td>\n",
       "      <td>0</td>\n",
       "      <td>1.98</td>\n",
       "      <td>South America</td>\n",
       "    </tr>\n",
       "    <tr>\n",
       "      <th>4</th>\n",
       "      <td>Germany</td>\n",
       "      <td>34608837</td>\n",
       "      <td>151420</td>\n",
       "      <td>34608835</td>\n",
       "      <td>151420</td>\n",
       "      <td>2</td>\n",
       "      <td>0</td>\n",
       "      <td>0.44</td>\n",
       "      <td>Europe</td>\n",
       "    </tr>\n",
       "  </tbody>\n",
       "</table>\n",
       "</div>"
      ],
      "text/plain": [
       "  Country/Region     Cases   Deaths    PCases  PDeaths  Cases (+)  Deaths (+)  \\\n",
       "0             US  96945785  1065108  96940217  1065076       5568          32   \n",
       "1          India  44628828   528895  44626427   528874       2401          21   \n",
       "2         France  36378553   156856  36378553   156856          0           0   \n",
       "3         Brazil  34746462   687144  34746462   687144          0           0   \n",
       "4        Germany  34608837   151420  34608835   151420          2           0   \n",
       "\n",
       "   Fatality Rate      Continent  \n",
       "0           1.10  North America  \n",
       "1           1.19           Asia  \n",
       "2           0.43         Europe  \n",
       "3           1.98  South America  \n",
       "4           0.44         Europe  "
      ]
     },
     "execution_count": 13,
     "metadata": {},
     "output_type": "execute_result"
    }
   ],
   "source": [
    "#hide\n",
    "for c in 'Cases, Deaths'.split(', '):\n",
    "    df_table[f'{c} (+)'] = (df_table[c] - df_table[f'P{c}']).clip(0)\n",
    "    #Clip ça veut dire, les chiffres negatif sont interdit\n",
    "df_table['Fatality Rate'] = (100* df_table['Deaths']/ df_table['Cases']).round(2)\n",
    "df_table['Continent'] = df_table['Country/Region'].map(mapping['map.continent'])\n",
    "df_table.head(5)"
   ]
  },
  {
   "cell_type": "code",
   "execution_count": 14,
   "id": "aboriginal-bulgaria",
   "metadata": {
    "execution": {
     "iopub.execute_input": "2022-10-17T01:04:20.080759Z",
     "iopub.status.busy": "2022-10-17T01:04:20.079919Z",
     "iopub.status.idle": "2022-10-17T01:04:20.083404Z",
     "shell.execute_reply": "2022-10-17T01:04:20.082752Z"
    },
    "papermill": {
     "duration": 0.056957,
     "end_time": "2022-10-17T01:04:20.083558",
     "exception": false,
     "start_time": "2022-10-17T01:04:20.026601",
     "status": "completed"
    },
    "tags": []
   },
   "outputs": [],
   "source": [
    "#hide\n",
    "#delete problematic countries from table\n",
    "df_table = df_table[~df_table['Country/Region'].isin(['Cape Verde', 'Cruise Ship', 'Kosovo'])]"
   ]
  },
  {
   "cell_type": "code",
   "execution_count": 15,
   "id": "fantastic-effect",
   "metadata": {
    "execution": {
     "iopub.execute_input": "2022-10-17T01:04:20.179211Z",
     "iopub.status.busy": "2022-10-17T01:04:20.178390Z",
     "iopub.status.idle": "2022-10-17T01:04:20.206798Z",
     "shell.execute_reply": "2022-10-17T01:04:20.206014Z"
    },
    "papermill": {
     "duration": 0.081155,
     "end_time": "2022-10-17T01:04:20.206965",
     "exception": false,
     "start_time": "2022-10-17T01:04:20.125810",
     "status": "completed"
    },
    "tags": []
   },
   "outputs": [
    {
     "data": {
      "text/html": [
       "<div>\n",
       "<style scoped>\n",
       "    .dataframe tbody tr th:only-of-type {\n",
       "        vertical-align: middle;\n",
       "    }\n",
       "\n",
       "    .dataframe tbody tr th {\n",
       "        vertical-align: top;\n",
       "    }\n",
       "\n",
       "    .dataframe thead th {\n",
       "        text-align: right;\n",
       "    }\n",
       "</style>\n",
       "<table border=\"1\" class=\"dataframe\">\n",
       "  <thead>\n",
       "    <tr style=\"text-align: right;\">\n",
       "      <th></th>\n",
       "      <th>Country/Region</th>\n",
       "      <th>Cases</th>\n",
       "      <th>Deaths</th>\n",
       "      <th>PCases</th>\n",
       "      <th>PDeaths</th>\n",
       "      <th>Cases (+)</th>\n",
       "      <th>Deaths (+)</th>\n",
       "      <th>Fatality Rate</th>\n",
       "      <th>Continent</th>\n",
       "    </tr>\n",
       "  </thead>\n",
       "  <tbody>\n",
       "    <tr>\n",
       "      <th>0</th>\n",
       "      <td>US</td>\n",
       "      <td>96945785</td>\n",
       "      <td>1065108</td>\n",
       "      <td>96940217</td>\n",
       "      <td>1065076</td>\n",
       "      <td>5568</td>\n",
       "      <td>32</td>\n",
       "      <td>1.1</td>\n",
       "      <td>North America</td>\n",
       "    </tr>\n",
       "    <tr>\n",
       "      <th>1</th>\n",
       "      <td>India</td>\n",
       "      <td>44628828</td>\n",
       "      <td>528895</td>\n",
       "      <td>44626427</td>\n",
       "      <td>528874</td>\n",
       "      <td>2401</td>\n",
       "      <td>21</td>\n",
       "      <td>1.2</td>\n",
       "      <td>Asia</td>\n",
       "    </tr>\n",
       "    <tr>\n",
       "      <th>2</th>\n",
       "      <td>France</td>\n",
       "      <td>36378553</td>\n",
       "      <td>156856</td>\n",
       "      <td>36378553</td>\n",
       "      <td>156856</td>\n",
       "      <td>0</td>\n",
       "      <td>0</td>\n",
       "      <td>0.4</td>\n",
       "      <td>Europe</td>\n",
       "    </tr>\n",
       "    <tr>\n",
       "      <th>3</th>\n",
       "      <td>Brazil</td>\n",
       "      <td>34746462</td>\n",
       "      <td>687144</td>\n",
       "      <td>34746462</td>\n",
       "      <td>687144</td>\n",
       "      <td>0</td>\n",
       "      <td>0</td>\n",
       "      <td>2.0</td>\n",
       "      <td>South America</td>\n",
       "    </tr>\n",
       "    <tr>\n",
       "      <th>4</th>\n",
       "      <td>Germany</td>\n",
       "      <td>34608837</td>\n",
       "      <td>151420</td>\n",
       "      <td>34608835</td>\n",
       "      <td>151420</td>\n",
       "      <td>2</td>\n",
       "      <td>0</td>\n",
       "      <td>0.4</td>\n",
       "      <td>Europe</td>\n",
       "    </tr>\n",
       "  </tbody>\n",
       "</table>\n",
       "</div>"
      ],
      "text/plain": [
       "  Country/Region     Cases   Deaths    PCases  PDeaths  Cases (+)  Deaths (+)  \\\n",
       "0             US  96945785  1065108  96940217  1065076       5568          32   \n",
       "1          India  44628828   528895  44626427   528874       2401          21   \n",
       "2         France  36378553   156856  36378553   156856          0           0   \n",
       "3         Brazil  34746462   687144  34746462   687144          0           0   \n",
       "4        Germany  34608837   151420  34608835   151420          2           0   \n",
       "\n",
       "   Fatality Rate      Continent  \n",
       "0            1.1  North America  \n",
       "1            1.2           Asia  \n",
       "2            0.4         Europe  \n",
       "3            2.0  South America  \n",
       "4            0.4         Europe  "
      ]
     },
     "execution_count": 15,
     "metadata": {},
     "output_type": "execute_result"
    }
   ],
   "source": [
    "#hide\n",
    "df_table = (pd.DataFrame(dict(Cases=dfc_cases, Deaths=dfc_deaths, PCases=dfp_cases, PDeaths=dfp_deaths))\n",
    "             .sort_values(by=['Cases', 'Deaths'], ascending=[False, False])\n",
    "             .reset_index())\n",
    "df_table.rename(columns={'index': 'Country/Region'}, inplace=True)\n",
    "for c in 'Cases, Deaths'.split(', '):\n",
    "    df_table[f'{c} (+)'] = (df_table[c] - df_table[f'P{c}']).clip(0)  # DATA BUG\n",
    "df_table['Fatality Rate'] = (100 * df_table['Deaths'] / df_table['Cases']).round(1)\n",
    "df_table['Continent'] = df_table['Country/Region'].map(mapping['map.continent'])\n",
    "df_table.head(5)"
   ]
  },
  {
   "cell_type": "code",
   "execution_count": 16,
   "id": "fewer-occasion",
   "metadata": {
    "execution": {
     "iopub.execute_input": "2022-10-17T01:04:20.304013Z",
     "iopub.status.busy": "2022-10-17T01:04:20.303189Z",
     "iopub.status.idle": "2022-10-17T01:04:20.310197Z",
     "shell.execute_reply": "2022-10-17T01:04:20.310821Z"
    },
    "papermill": {
     "duration": 0.060271,
     "end_time": "2022-10-17T01:04:20.311008",
     "exception": false,
     "start_time": "2022-10-17T01:04:20.250737",
     "status": "completed"
    },
    "tags": []
   },
   "outputs": [],
   "source": [
    "#hide\n",
    "#delete problematic countries from table\n",
    "df_table = df_table[~df_table['Country/Region'].isin(['Cape Verde', 'Cruise Ship', 'Kosovo'])]"
   ]
  },
  {
   "cell_type": "code",
   "execution_count": 17,
   "id": "related-center",
   "metadata": {
    "execution": {
     "iopub.execute_input": "2022-10-17T01:04:20.410284Z",
     "iopub.status.busy": "2022-10-17T01:04:20.409491Z",
     "iopub.status.idle": "2022-10-17T01:04:20.430300Z",
     "shell.execute_reply": "2022-10-17T01:04:20.431145Z"
    },
    "papermill": {
     "duration": 0.075911,
     "end_time": "2022-10-17T01:04:20.431344",
     "exception": false,
     "start_time": "2022-10-17T01:04:20.355433",
     "status": "completed"
    },
    "tags": []
   },
   "outputs": [],
   "source": [
    "#hide\n",
    "metrics = [df_table.columns[index] for index in [1,2,5,6]]\n",
    "# s_china = df_table[df_table['Country/Region'].eq('China')][metrics].sum().add_prefix('China ')\n",
    "s_us = df_table[df_table['Country/Region'].eq('US')][metrics].sum().add_prefix('US ')\n",
    "s_eu = df_table[df_table['Continent'].eq('Europe')][metrics].sum().add_prefix('EU ')\n",
    "s_ind = df_table[df_table['Country/Region'].eq('India')][metrics].sum().add_prefix('India ')\n",
    "summary = {'updated': pd.to_datetime(dt_today), 'since': pd.to_datetime(dt_yday)}\n",
    "summary = {'updated': pd.to_datetime(dt_today), 'since': pd.to_datetime(dt_yday)}\n",
    "summary = {**summary, **df_table[metrics].sum(), **s_ind, **s_us, **s_eu}"
   ]
  },
  {
   "cell_type": "code",
   "execution_count": 18,
   "id": "engaging-syndrome",
   "metadata": {
    "execution": {
     "iopub.execute_input": "2022-10-17T01:04:20.545994Z",
     "iopub.status.busy": "2022-10-17T01:04:20.544876Z",
     "iopub.status.idle": "2022-10-17T01:04:20.573995Z",
     "shell.execute_reply": "2022-10-17T01:04:20.573289Z"
    },
    "papermill": {
     "duration": 0.089904,
     "end_time": "2022-10-17T01:04:20.574163",
     "exception": false,
     "start_time": "2022-10-17T01:04:20.484259",
     "status": "completed"
    },
    "tags": []
   },
   "outputs": [],
   "source": [
    "#hide\n",
    "dft_ct_new_cases = dft_cases.groupby(COL_REGION)[dt_cols].sum().diff(axis=1).fillna(0).astype(int)"
   ]
  },
  {
   "cell_type": "code",
   "execution_count": 19,
   "id": "neutral-assignment",
   "metadata": {
    "execution": {
     "iopub.execute_input": "2022-10-17T01:04:20.671844Z",
     "iopub.status.busy": "2022-10-17T01:04:20.670990Z",
     "iopub.status.idle": "2022-10-17T01:04:20.674498Z",
     "shell.execute_reply": "2022-10-17T01:04:20.673797Z"
    },
    "papermill": {
     "duration": 0.05751,
     "end_time": "2022-10-17T01:04:20.674650",
     "exception": false,
     "start_time": "2022-10-17T01:04:20.617140",
     "status": "completed"
    },
    "tags": []
   },
   "outputs": [],
   "source": [
    "#hide\n",
    "everydaycases = dft_ct_new_cases.cumsum(axis=1)"
   ]
  },
  {
   "cell_type": "code",
   "execution_count": 20,
   "id": "parliamentary-calgary",
   "metadata": {
    "execution": {
     "iopub.execute_input": "2022-10-17T01:04:20.772047Z",
     "iopub.status.busy": "2022-10-17T01:04:20.771211Z",
     "iopub.status.idle": "2022-10-17T01:04:21.539450Z",
     "shell.execute_reply": "2022-10-17T01:04:21.540478Z"
    },
    "papermill": {
     "duration": 0.821873,
     "end_time": "2022-10-17T01:04:21.540664",
     "exception": false,
     "start_time": "2022-10-17T01:04:20.718791",
     "status": "completed"
    },
    "tags": []
   },
   "outputs": [],
   "source": [
    "#hide\n",
    "import pandas as pd\n",
    "import matplotlib.pyplot as plt\n",
    "import matplotlib.ticker as ticker\n",
    "import matplotlib.animation as animation\n",
    "from IPython.display import HTML"
   ]
  },
  {
   "cell_type": "code",
   "execution_count": 21,
   "id": "lasting-extraction",
   "metadata": {
    "execution": {
     "iopub.execute_input": "2022-10-17T01:04:21.648488Z",
     "iopub.status.busy": "2022-10-17T01:04:21.647554Z",
     "iopub.status.idle": "2022-10-17T01:04:21.658408Z",
     "shell.execute_reply": "2022-10-17T01:04:21.657660Z"
    },
    "papermill": {
     "duration": 0.075285,
     "end_time": "2022-10-17T01:04:21.658584",
     "exception": false,
     "start_time": "2022-10-17T01:04:21.583299",
     "status": "completed"
    },
    "tags": []
   },
   "outputs": [],
   "source": [
    "#hide\n",
    "t = everydaycases.stack()"
   ]
  },
  {
   "cell_type": "code",
   "execution_count": 22,
   "id": "premier-sleeve",
   "metadata": {
    "execution": {
     "iopub.execute_input": "2022-10-17T01:04:21.789436Z",
     "iopub.status.busy": "2022-10-17T01:04:21.788616Z",
     "iopub.status.idle": "2022-10-17T01:04:21.804682Z",
     "shell.execute_reply": "2022-10-17T01:04:21.805954Z"
    },
    "papermill": {
     "duration": 0.100798,
     "end_time": "2022-10-17T01:04:21.806345",
     "exception": false,
     "start_time": "2022-10-17T01:04:21.705547",
     "status": "completed"
    },
    "tags": []
   },
   "outputs": [],
   "source": [
    "#hide\n",
    "g = t.reset_index(['Country/Region'])"
   ]
  },
  {
   "cell_type": "code",
   "execution_count": 23,
   "id": "distributed-pittsburgh",
   "metadata": {
    "execution": {
     "iopub.execute_input": "2022-10-17T01:04:21.906353Z",
     "iopub.status.busy": "2022-10-17T01:04:21.905133Z",
     "iopub.status.idle": "2022-10-17T01:04:21.912782Z",
     "shell.execute_reply": "2022-10-17T01:04:21.913375Z"
    },
    "papermill": {
     "duration": 0.063098,
     "end_time": "2022-10-17T01:04:21.913592",
     "exception": false,
     "start_time": "2022-10-17T01:04:21.850494",
     "status": "completed"
    },
    "tags": []
   },
   "outputs": [],
   "source": [
    "#hide\n",
    "g.index.name = 'date'"
   ]
  },
  {
   "cell_type": "code",
   "execution_count": 24,
   "id": "naked-donor",
   "metadata": {
    "execution": {
     "iopub.execute_input": "2022-10-17T01:04:22.008204Z",
     "iopub.status.busy": "2022-10-17T01:04:22.007401Z",
     "iopub.status.idle": "2022-10-17T01:04:22.013762Z",
     "shell.execute_reply": "2022-10-17T01:04:22.011993Z"
    },
    "papermill": {
     "duration": 0.054971,
     "end_time": "2022-10-17T01:04:22.014133",
     "exception": false,
     "start_time": "2022-10-17T01:04:21.959162",
     "status": "completed"
    },
    "tags": []
   },
   "outputs": [],
   "source": [
    "# #hide\n",
    "# g = g.reset_index(['date'])"
   ]
  },
  {
   "cell_type": "code",
   "execution_count": 25,
   "id": "incomplete-mustang",
   "metadata": {
    "execution": {
     "iopub.execute_input": "2022-10-17T01:04:22.136116Z",
     "iopub.status.busy": "2022-10-17T01:04:22.135042Z",
     "iopub.status.idle": "2022-10-17T01:04:22.140678Z",
     "shell.execute_reply": "2022-10-17T01:04:22.140047Z"
    },
    "papermill": {
     "duration": 0.053222,
     "end_time": "2022-10-17T01:04:22.140838",
     "exception": false,
     "start_time": "2022-10-17T01:04:22.087616",
     "status": "completed"
    },
    "tags": []
   },
   "outputs": [],
   "source": [
    "#hide\n",
    "# g.head()"
   ]
  },
  {
   "cell_type": "code",
   "execution_count": 26,
   "id": "specific-kruger",
   "metadata": {
    "execution": {
     "iopub.execute_input": "2022-10-17T01:04:22.231708Z",
     "iopub.status.busy": "2022-10-17T01:04:22.230805Z",
     "iopub.status.idle": "2022-10-17T01:04:22.234525Z",
     "shell.execute_reply": "2022-10-17T01:04:22.233882Z"
    },
    "papermill": {
     "duration": 0.052402,
     "end_time": "2022-10-17T01:04:22.234691",
     "exception": false,
     "start_time": "2022-10-17T01:04:22.182289",
     "status": "completed"
    },
    "tags": []
   },
   "outputs": [],
   "source": [
    "#hide\n",
    "# g.columns = ['date','country','cases']"
   ]
  },
  {
   "cell_type": "code",
   "execution_count": 27,
   "id": "tender-conversion",
   "metadata": {
    "execution": {
     "iopub.execute_input": "2022-10-17T01:04:22.326209Z",
     "iopub.status.busy": "2022-10-17T01:04:22.325185Z",
     "iopub.status.idle": "2022-10-17T01:04:22.330201Z",
     "shell.execute_reply": "2022-10-17T01:04:22.330861Z"
    },
    "papermill": {
     "duration": 0.054733,
     "end_time": "2022-10-17T01:04:22.331043",
     "exception": false,
     "start_time": "2022-10-17T01:04:22.276310",
     "status": "completed"
    },
    "tags": []
   },
   "outputs": [],
   "source": [
    "#hide\n",
    "# g['continent'] = g.country"
   ]
  },
  {
   "cell_type": "code",
   "execution_count": 28,
   "id": "substantial-wilderness",
   "metadata": {
    "execution": {
     "iopub.execute_input": "2022-10-17T01:04:22.421468Z",
     "iopub.status.busy": "2022-10-17T01:04:22.420665Z",
     "iopub.status.idle": "2022-10-17T01:04:22.424113Z",
     "shell.execute_reply": "2022-10-17T01:04:22.423464Z"
    },
    "papermill": {
     "duration": 0.050503,
     "end_time": "2022-10-17T01:04:22.424265",
     "exception": false,
     "start_time": "2022-10-17T01:04:22.373762",
     "status": "completed"
    },
    "tags": []
   },
   "outputs": [],
   "source": [
    "#hide\n",
    "# cols = list(g.columns.values)"
   ]
  },
  {
   "cell_type": "code",
   "execution_count": 29,
   "id": "solved-farming",
   "metadata": {
    "execution": {
     "iopub.execute_input": "2022-10-17T01:04:22.521313Z",
     "iopub.status.busy": "2022-10-17T01:04:22.520377Z",
     "iopub.status.idle": "2022-10-17T01:04:22.523609Z",
     "shell.execute_reply": "2022-10-17T01:04:22.522990Z"
    },
    "papermill": {
     "duration": 0.053746,
     "end_time": "2022-10-17T01:04:22.523753",
     "exception": false,
     "start_time": "2022-10-17T01:04:22.470007",
     "status": "completed"
    },
    "tags": []
   },
   "outputs": [],
   "source": [
    "#hide\n",
    "# cols.insert(0, cols.pop())"
   ]
  },
  {
   "cell_type": "code",
   "execution_count": 30,
   "id": "executed-adoption",
   "metadata": {
    "execution": {
     "iopub.execute_input": "2022-10-17T01:04:22.634891Z",
     "iopub.status.busy": "2022-10-17T01:04:22.634036Z",
     "iopub.status.idle": "2022-10-17T01:04:22.638732Z",
     "shell.execute_reply": "2022-10-17T01:04:22.639320Z"
    },
    "papermill": {
     "duration": 0.068365,
     "end_time": "2022-10-17T01:04:22.639499",
     "exception": false,
     "start_time": "2022-10-17T01:04:22.571134",
     "status": "completed"
    },
    "tags": []
   },
   "outputs": [],
   "source": [
    "#hide\n",
    "# g = g[cols]"
   ]
  },
  {
   "cell_type": "code",
   "execution_count": 31,
   "id": "subject-dublin",
   "metadata": {
    "execution": {
     "iopub.execute_input": "2022-10-17T01:04:22.731988Z",
     "iopub.status.busy": "2022-10-17T01:04:22.731101Z",
     "iopub.status.idle": "2022-10-17T01:04:22.733606Z",
     "shell.execute_reply": "2022-10-17T01:04:22.734321Z"
    },
    "papermill": {
     "duration": 0.049849,
     "end_time": "2022-10-17T01:04:22.734501",
     "exception": false,
     "start_time": "2022-10-17T01:04:22.684652",
     "status": "completed"
    },
    "tags": []
   },
   "outputs": [],
   "source": [
    "#hide\n",
    "# g['continent'] = g['continent'].map(mapping['map.continent'])"
   ]
  },
  {
   "cell_type": "code",
   "execution_count": 32,
   "id": "freelance-scout",
   "metadata": {
    "execution": {
     "iopub.execute_input": "2022-10-17T01:04:22.853256Z",
     "iopub.status.busy": "2022-10-17T01:04:22.852464Z",
     "iopub.status.idle": "2022-10-17T01:04:22.858726Z",
     "shell.execute_reply": "2022-10-17T01:04:22.859343Z"
    },
    "papermill": {
     "duration": 0.072724,
     "end_time": "2022-10-17T01:04:22.859646",
     "exception": false,
     "start_time": "2022-10-17T01:04:22.786922",
     "status": "completed"
    },
    "tags": []
   },
   "outputs": [],
   "source": [
    "#hide\n",
    "# g.head()"
   ]
  },
  {
   "cell_type": "code",
   "execution_count": 33,
   "id": "limited-engine",
   "metadata": {
    "execution": {
     "iopub.execute_input": "2022-10-17T01:04:22.953108Z",
     "iopub.status.busy": "2022-10-17T01:04:22.952281Z",
     "iopub.status.idle": "2022-10-17T01:04:22.955936Z",
     "shell.execute_reply": "2022-10-17T01:04:22.954868Z"
    },
    "papermill": {
     "duration": 0.050533,
     "end_time": "2022-10-17T01:04:22.956156",
     "exception": false,
     "start_time": "2022-10-17T01:04:22.905623",
     "status": "completed"
    },
    "tags": []
   },
   "outputs": [],
   "source": [
    "# hide\n",
    "# g['date'] = g['date'].astype('datetime64[ns]')"
   ]
  },
  {
   "cell_type": "code",
   "execution_count": 34,
   "id": "sophisticated-supervisor",
   "metadata": {
    "execution": {
     "iopub.execute_input": "2022-10-17T01:04:23.052229Z",
     "iopub.status.busy": "2022-10-17T01:04:23.050930Z",
     "iopub.status.idle": "2022-10-17T01:04:23.054882Z",
     "shell.execute_reply": "2022-10-17T01:04:23.054225Z"
    },
    "papermill": {
     "duration": 0.05519,
     "end_time": "2022-10-17T01:04:23.055044",
     "exception": false,
     "start_time": "2022-10-17T01:04:22.999854",
     "status": "completed"
    },
    "tags": []
   },
   "outputs": [],
   "source": [
    "#hide\n",
    "# g['date'] = g.date.dt.dayofyear"
   ]
  },
  {
   "cell_type": "code",
   "execution_count": 35,
   "id": "inside-dubai",
   "metadata": {
    "execution": {
     "iopub.execute_input": "2022-10-17T01:04:23.154673Z",
     "iopub.status.busy": "2022-10-17T01:04:23.153881Z",
     "iopub.status.idle": "2022-10-17T01:04:23.158421Z",
     "shell.execute_reply": "2022-10-17T01:04:23.159075Z"
    },
    "papermill": {
     "duration": 0.054713,
     "end_time": "2022-10-17T01:04:23.159253",
     "exception": false,
     "start_time": "2022-10-17T01:04:23.104540",
     "status": "completed"
    },
    "tags": []
   },
   "outputs": [],
   "source": [
    "#hide\n",
    "# g = g.rename(columns= {'continent':'group','country':'name','cases':'value'})"
   ]
  },
  {
   "cell_type": "code",
   "execution_count": 36,
   "id": "fleet-motorcycle",
   "metadata": {
    "execution": {
     "iopub.execute_input": "2022-10-17T01:04:23.262670Z",
     "iopub.status.busy": "2022-10-17T01:04:23.261837Z",
     "iopub.status.idle": "2022-10-17T01:04:23.265374Z",
     "shell.execute_reply": "2022-10-17T01:04:23.265962Z"
    },
    "papermill": {
     "duration": 0.062997,
     "end_time": "2022-10-17T01:04:23.266161",
     "exception": false,
     "start_time": "2022-10-17T01:04:23.203164",
     "status": "completed"
    },
    "tags": []
   },
   "outputs": [],
   "source": [
    "#hide\n",
    "# cols = ['name','group','day','value']"
   ]
  },
  {
   "cell_type": "code",
   "execution_count": 37,
   "id": "continued-sleeping",
   "metadata": {
    "execution": {
     "iopub.execute_input": "2022-10-17T01:04:23.357945Z",
     "iopub.status.busy": "2022-10-17T01:04:23.357114Z",
     "iopub.status.idle": "2022-10-17T01:04:23.358697Z",
     "shell.execute_reply": "2022-10-17T01:04:23.359451Z"
    },
    "papermill": {
     "duration": 0.051671,
     "end_time": "2022-10-17T01:04:23.359631",
     "exception": false,
     "start_time": "2022-10-17T01:04:23.307960",
     "status": "completed"
    },
    "tags": []
   },
   "outputs": [],
   "source": [
    "#hide\n",
    "# g.rename(columns= {'date':'day'},inplace = True)"
   ]
  },
  {
   "cell_type": "code",
   "execution_count": 38,
   "id": "major-fight",
   "metadata": {
    "execution": {
     "iopub.execute_input": "2022-10-17T01:04:23.461599Z",
     "iopub.status.busy": "2022-10-17T01:04:23.460542Z",
     "iopub.status.idle": "2022-10-17T01:04:23.466572Z",
     "shell.execute_reply": "2022-10-17T01:04:23.467175Z"
    },
    "papermill": {
     "duration": 0.059128,
     "end_time": "2022-10-17T01:04:23.467368",
     "exception": false,
     "start_time": "2022-10-17T01:04:23.408240",
     "status": "completed"
    },
    "tags": []
   },
   "outputs": [],
   "source": [
    "#hide\n",
    "# g = g[cols]"
   ]
  },
  {
   "cell_type": "code",
   "execution_count": 39,
   "id": "structured-mobile",
   "metadata": {
    "execution": {
     "iopub.execute_input": "2022-10-17T01:04:23.565304Z",
     "iopub.status.busy": "2022-10-17T01:04:23.564433Z",
     "iopub.status.idle": "2022-10-17T01:04:23.570209Z",
     "shell.execute_reply": "2022-10-17T01:04:23.569554Z"
    },
    "papermill": {
     "duration": 0.058009,
     "end_time": "2022-10-17T01:04:23.570722",
     "exception": false,
     "start_time": "2022-10-17T01:04:23.512713",
     "status": "completed"
    },
    "tags": []
   },
   "outputs": [],
   "source": [
    "# #hide\n",
    "# g = g[g.group.notna()]"
   ]
  },
  {
   "cell_type": "code",
   "execution_count": 40,
   "id": "determined-closing",
   "metadata": {
    "execution": {
     "iopub.execute_input": "2022-10-17T01:04:23.672409Z",
     "iopub.status.busy": "2022-10-17T01:04:23.671535Z",
     "iopub.status.idle": "2022-10-17T01:04:23.677341Z",
     "shell.execute_reply": "2022-10-17T01:04:23.676229Z"
    },
    "papermill": {
     "duration": 0.058285,
     "end_time": "2022-10-17T01:04:23.677502",
     "exception": false,
     "start_time": "2022-10-17T01:04:23.619217",
     "status": "completed"
    },
    "tags": []
   },
   "outputs": [],
   "source": [
    "# #hide\n",
    "# colors = dict(zip(\n",
    "#     [\"Oceania\", \"Europe\", \"Asia\", \"South America\", \"Middle East\", \"North America\", \"Africa\"],\n",
    "#     [\"#adb0ff\", \"#ffb3ff\", \"#90d595\", \"#e48381\", \"#aafbff\", \"#f7bb5f\", \"#eafb50\"]\n",
    "# ))\n",
    "# group_lk = g.set_index('name')['group'].to_dict()"
   ]
  },
  {
   "cell_type": "code",
   "execution_count": null,
   "id": "gross-drinking",
   "metadata": {
    "papermill": {
     "duration": 0.042895,
     "end_time": "2022-10-17T01:04:23.765403",
     "exception": false,
     "start_time": "2022-10-17T01:04:23.722508",
     "status": "completed"
    },
    "tags": []
   },
   "outputs": [],
   "source": []
  },
  {
   "cell_type": "code",
   "execution_count": 41,
   "id": "subject-macintosh",
   "metadata": {
    "execution": {
     "iopub.execute_input": "2022-10-17T01:04:23.857838Z",
     "iopub.status.busy": "2022-10-17T01:04:23.856555Z",
     "iopub.status.idle": "2022-10-17T01:04:23.859971Z",
     "shell.execute_reply": "2022-10-17T01:04:23.861750Z"
    },
    "papermill": {
     "duration": 0.054508,
     "end_time": "2022-10-17T01:04:23.862227",
     "exception": false,
     "start_time": "2022-10-17T01:04:23.807719",
     "status": "completed"
    },
    "tags": []
   },
   "outputs": [],
   "source": [
    "# #hide\n",
    "# fig, ax = plt.subplots(figsize=(15, 8))\n",
    "\n",
    "# def draw_barchart(current_day):\n",
    "#     dff = g[g['day'].eq(current_day)].sort_values(by='value', ascending=True).tail(10)\n",
    "#     ax.clear()\n",
    "#     ax.barh(dff['name'], dff['value'], color=[colors[group_lk[x]] for x in dff['name']])\n",
    "#     dx = dff['value'].max() / 200\n",
    "    \n",
    "#     for i, (value, name) in enumerate(zip(dff['value'], dff['name'])):\n",
    "#         ax.text(value-dx, i,     name,           size=14, weight=600, ha='right', va='bottom')\n",
    "#         ax.text(value-dx, i-.25, group_lk[name], size=10, color='#444444', ha='right', va='baseline')\n",
    "#         ax.text(value+dx, i,     f'{value:,.0f}',  size=14, ha='left',  va='center')\n",
    "#     ax.text(1, 0.4, current_day, transform=ax.transAxes, color='#777777', size=46, ha='right', weight=800)\n",
    "#     ax.text(0, 1.06, 'Population (thousands)', transform=ax.transAxes, size=12, color='#777777')\n",
    "#     ax.xaxis.set_major_formatter(ticker.StrMethodFormatter('{x:,.0f}'))\n",
    "#     ax.xaxis.set_ticks_position('top')\n",
    "#     ax.tick_params(axis='x', colors='#777777', labelsize=12)\n",
    "#     ax.set_yticks([])\n",
    "#     ax.margins(0, 0.01)\n",
    "#     ax.grid(which='major', axis='x', linestyle='-')\n",
    "#     ax.set_axisbelow(True)\n",
    "    \n",
    "#     ax.text(0, 1.15, 'Coronavirus',\n",
    "#             transform=ax.transAxes, size=24, weight=600, ha='left', va='top')\n",
    "# #     ax.text(1, 0, 'by @pratapvardhan; credit @jburnmurdoch', transform=ax.transAxes, color='#777777', ha='right',\n",
    "# #             bbox=dict(facecolor='white', alpha=0.8, edgecolor='white'))\n",
    "#     plt.box(False)"
   ]
  },
  {
   "cell_type": "code",
   "execution_count": 42,
   "id": "sexual-wages",
   "metadata": {
    "execution": {
     "iopub.execute_input": "2022-10-17T01:04:24.065766Z",
     "iopub.status.busy": "2022-10-17T01:04:24.064922Z",
     "iopub.status.idle": "2022-10-17T01:04:24.071017Z",
     "shell.execute_reply": "2022-10-17T01:04:24.070348Z"
    },
    "papermill": {
     "duration": 0.110509,
     "end_time": "2022-10-17T01:04:24.071174",
     "exception": false,
     "start_time": "2022-10-17T01:04:23.960665",
     "status": "completed"
    },
    "tags": []
   },
   "outputs": [],
   "source": [
    "# #hide_input\n",
    "# fig, ax = plt.subplots(figsize=(15, 8))\n",
    "# animator = animation.FuncAnimation(fig, draw_barchart, frames=range(g.day.values.min(), g.day.values.max()))\n",
    "# HTML(animator.to_jshtml())\n",
    "# # or use animator.to_html5_video() or animator.save() "
   ]
  },
  {
   "cell_type": "code",
   "execution_count": null,
   "id": "australian-container",
   "metadata": {
    "papermill": {
     "duration": 0.04461,
     "end_time": "2022-10-17T01:04:24.172801",
     "exception": false,
     "start_time": "2022-10-17T01:04:24.128191",
     "status": "completed"
    },
    "tags": []
   },
   "outputs": [],
   "source": []
  },
  {
   "cell_type": "code",
   "execution_count": null,
   "id": "mediterranean-pontiac",
   "metadata": {
    "papermill": {
     "duration": 0.046468,
     "end_time": "2022-10-17T01:04:24.268398",
     "exception": false,
     "start_time": "2022-10-17T01:04:24.221930",
     "status": "completed"
    },
    "tags": []
   },
   "outputs": [],
   "source": []
  },
  {
   "cell_type": "code",
   "execution_count": null,
   "id": "aging-legislature",
   "metadata": {
    "papermill": {
     "duration": 0.046859,
     "end_time": "2022-10-17T01:04:24.363877",
     "exception": false,
     "start_time": "2022-10-17T01:04:24.317018",
     "status": "completed"
    },
    "tags": []
   },
   "outputs": [],
   "source": []
  }
 ],
 "metadata": {
  "kernelspec": {
   "display_name": "Python 3",
   "language": "python",
   "name": "python3"
  },
  "language_info": {
   "codemirror_mode": {
    "name": "ipython",
    "version": 3
   },
   "file_extension": ".py",
   "mimetype": "text/x-python",
   "name": "python",
   "nbconvert_exporter": "python",
   "pygments_lexer": "ipython3",
   "version": "3.6.15"
  },
  "papermill": {
   "duration": 8.88142,
   "end_time": "2022-10-17T01:04:24.931853",
   "environment_variables": {},
   "exception": null,
   "input_path": "2020-03-21-covid19exp.ipynb",
   "output_path": "2020-03-21-covid19exp.ipynb",
   "parameters": {},
   "start_time": "2022-10-17T01:04:16.050433",
   "version": "2.0.0"
  }
 },
 "nbformat": 4,
 "nbformat_minor": 5
}