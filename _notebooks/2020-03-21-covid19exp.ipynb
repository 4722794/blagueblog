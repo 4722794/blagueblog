{
 "cells": [
  {
   "cell_type": "markdown",
   "id": "muslim-click",
   "metadata": {
    "papermill": {
     "duration": 0.034553,
     "end_time": "2022-11-25T12:16:34.618123",
     "exception": false,
     "start_time": "2022-11-25T12:16:34.583570",
     "status": "completed"
    },
    "tags": []
   },
   "source": [
    "# COVID-19 Case Race\n",
    "> A race chart to see rising cases around the world\n",
    "\n",
    "- author: Hargun Oberoi\n",
    "- image: images/covid-overview.png\n",
    "- hide: false\n",
    "- badges: false"
   ]
  },
  {
   "cell_type": "code",
   "execution_count": 1,
   "id": "proof-material",
   "metadata": {
    "execution": {
     "iopub.execute_input": "2022-11-25T12:16:34.687217Z",
     "iopub.status.busy": "2022-11-25T12:16:34.686659Z",
     "iopub.status.idle": "2022-11-25T12:16:34.990847Z",
     "shell.execute_reply": "2022-11-25T12:16:34.990167Z"
    },
    "papermill": {
     "duration": 0.342666,
     "end_time": "2022-11-25T12:16:34.990971",
     "exception": false,
     "start_time": "2022-11-25T12:16:34.648305",
     "status": "completed"
    },
    "tags": []
   },
   "outputs": [],
   "source": [
    "#hide\n",
    "import numpy as np\n",
    "import pandas as pd\n",
    "from jinja2 import Template\n",
    "from IPython.display import HTML"
   ]
  },
  {
   "cell_type": "code",
   "execution_count": 2,
   "id": "developed-terminology",
   "metadata": {
    "execution": {
     "iopub.execute_input": "2022-11-25T12:16:35.054764Z",
     "iopub.status.busy": "2022-11-25T12:16:35.054188Z",
     "iopub.status.idle": "2022-11-25T12:16:35.056018Z",
     "shell.execute_reply": "2022-11-25T12:16:35.056521Z"
    },
    "papermill": {
     "duration": 0.035633,
     "end_time": "2022-11-25T12:16:35.056631",
     "exception": false,
     "start_time": "2022-11-25T12:16:35.020998",
     "status": "completed"
    },
    "tags": []
   },
   "outputs": [],
   "source": [
    "#hide\n",
    "\n",
    "# FETCH\n",
    "base_url = 'https://raw.githubusercontent.com/pratapvardhan/notebooks/master/covid19/'\n",
    "paths = {\n",
    "    'mapping': base_url + 'mapping_countries.csv',\n",
    "    'overview': base_url + 'overview.tpl'\n",
    "}"
   ]
  },
  {
   "cell_type": "code",
   "execution_count": 3,
   "id": "dynamic-saver",
   "metadata": {
    "execution": {
     "iopub.execute_input": "2022-11-25T12:16:35.124156Z",
     "iopub.status.busy": "2022-11-25T12:16:35.123025Z",
     "iopub.status.idle": "2022-11-25T12:16:35.126525Z",
     "shell.execute_reply": "2022-11-25T12:16:35.127041Z"
    },
    "papermill": {
     "duration": 0.040836,
     "end_time": "2022-11-25T12:16:35.127150",
     "exception": false,
     "start_time": "2022-11-25T12:16:35.086314",
     "status": "completed"
    },
    "tags": []
   },
   "outputs": [
    {
     "data": {
      "text/plain": [
       "'https://raw.githubusercontent.com/pratapvardhan/notebooks/master/covid19/mapping_countries.csv'"
      ]
     },
     "execution_count": 3,
     "metadata": {},
     "output_type": "execute_result"
    }
   ],
   "source": [
    "#hide\n",
    "paths['mapping']"
   ]
  },
  {
   "cell_type": "code",
   "execution_count": 4,
   "id": "urban-software",
   "metadata": {
    "execution": {
     "iopub.execute_input": "2022-11-25T12:16:35.191379Z",
     "iopub.status.busy": "2022-11-25T12:16:35.190823Z",
     "iopub.status.idle": "2022-11-25T12:16:35.193092Z",
     "shell.execute_reply": "2022-11-25T12:16:35.193504Z"
    },
    "papermill": {
     "duration": 0.036437,
     "end_time": "2022-11-25T12:16:35.193609",
     "exception": false,
     "start_time": "2022-11-25T12:16:35.157172",
     "status": "completed"
    },
    "tags": []
   },
   "outputs": [],
   "source": [
    "#hide\n",
    "def get_mappings(url):\n",
    "    df = pd.read_csv(url)\n",
    "    return {\n",
    "        'df': df,\n",
    "        'replace.country': dict(df.dropna(subset=['Name']).set_index('Country')['Name']),\n",
    "        'map.continent': dict(df.set_index('Name')['Continent'])\n",
    "    }"
   ]
  },
  {
   "cell_type": "code",
   "execution_count": 5,
   "id": "intimate-machinery",
   "metadata": {
    "execution": {
     "iopub.execute_input": "2022-11-25T12:16:35.258840Z",
     "iopub.status.busy": "2022-11-25T12:16:35.258276Z",
     "iopub.status.idle": "2022-11-25T12:16:35.308275Z",
     "shell.execute_reply": "2022-11-25T12:16:35.307799Z"
    },
    "papermill": {
     "duration": 0.084002,
     "end_time": "2022-11-25T12:16:35.308378",
     "exception": false,
     "start_time": "2022-11-25T12:16:35.224376",
     "status": "completed"
    },
    "tags": []
   },
   "outputs": [],
   "source": [
    "#hide\n",
    "mapping = get_mappings(paths['mapping'])"
   ]
  },
  {
   "cell_type": "code",
   "execution_count": 6,
   "id": "certified-tactics",
   "metadata": {
    "execution": {
     "iopub.execute_input": "2022-11-25T12:16:35.373626Z",
     "iopub.status.busy": "2022-11-25T12:16:35.373059Z",
     "iopub.status.idle": "2022-11-25T12:16:35.375344Z",
     "shell.execute_reply": "2022-11-25T12:16:35.375740Z"
    },
    "papermill": {
     "duration": 0.037192,
     "end_time": "2022-11-25T12:16:35.375857",
     "exception": false,
     "start_time": "2022-11-25T12:16:35.338665",
     "status": "completed"
    },
    "tags": []
   },
   "outputs": [],
   "source": [
    "#hide\n",
    "def get_template(path):\n",
    "    from urllib.parse import urlparse\n",
    "    if bool(urlparse(path).netloc):\n",
    "        from urllib.request import urlopen\n",
    "        return urlopen(path).read().decode('utf8')\n",
    "    return open(path).read()"
   ]
  },
  {
   "cell_type": "code",
   "execution_count": 7,
   "id": "realistic-blast",
   "metadata": {
    "execution": {
     "iopub.execute_input": "2022-11-25T12:16:35.440599Z",
     "iopub.status.busy": "2022-11-25T12:16:35.440027Z",
     "iopub.status.idle": "2022-11-25T12:16:35.442554Z",
     "shell.execute_reply": "2022-11-25T12:16:35.442123Z"
    },
    "papermill": {
     "duration": 0.036556,
     "end_time": "2022-11-25T12:16:35.442656",
     "exception": false,
     "start_time": "2022-11-25T12:16:35.406100",
     "status": "completed"
    },
    "tags": []
   },
   "outputs": [],
   "source": [
    "#hide\n",
    "def get_frame(name):\n",
    "    url = (\n",
    "        'https://raw.githubusercontent.com/CSSEGISandData/COVID-19/master/csse_covid_19_data/'\n",
    "        f'csse_covid_19_time_series/time_series_covid19_{name}_global.csv')\n",
    "    df = pd.read_csv(url)\n",
    "    # rename countries\n",
    "    df['Country/Region'] = df['Country/Region'].replace(mapping['replace.country'])\n",
    "    return df"
   ]
  },
  {
   "cell_type": "code",
   "execution_count": 8,
   "id": "affiliated-characterization",
   "metadata": {
    "execution": {
     "iopub.execute_input": "2022-11-25T12:16:35.507911Z",
     "iopub.status.busy": "2022-11-25T12:16:35.507338Z",
     "iopub.status.idle": "2022-11-25T12:16:35.510046Z",
     "shell.execute_reply": "2022-11-25T12:16:35.509563Z"
    },
    "papermill": {
     "duration": 0.037497,
     "end_time": "2022-11-25T12:16:35.510145",
     "exception": false,
     "start_time": "2022-11-25T12:16:35.472648",
     "status": "completed"
    },
    "tags": []
   },
   "outputs": [],
   "source": [
    "#hide\n",
    "def get_dates(df):\n",
    "    dt_cols = df.columns[~df.columns.isin(['Province/State', 'Country/Region', 'Lat', 'Long'])]\n",
    "    LAST_DATE_I = -1\n",
    "    # sometimes last column may be empty, then go backwards\n",
    "    for i in range(-1, -len(dt_cols), -1):\n",
    "        if not df[dt_cols[i]].fillna(0).eq(0).all():\n",
    "            LAST_DATE_I = i\n",
    "            break\n",
    "    return LAST_DATE_I, dt_cols"
   ]
  },
  {
   "cell_type": "code",
   "execution_count": 9,
   "id": "recent-optimization",
   "metadata": {
    "execution": {
     "iopub.execute_input": "2022-11-25T12:16:35.573779Z",
     "iopub.status.busy": "2022-11-25T12:16:35.573121Z",
     "iopub.status.idle": "2022-11-25T12:16:36.117597Z",
     "shell.execute_reply": "2022-11-25T12:16:36.116647Z"
    },
    "papermill": {
     "duration": 0.5778,
     "end_time": "2022-11-25T12:16:36.117726",
     "exception": false,
     "start_time": "2022-11-25T12:16:35.539926",
     "status": "completed"
    },
    "tags": []
   },
   "outputs": [],
   "source": [
    "#hide\n",
    "COL_REGION = 'Country/Region'\n",
    "# Confirmed, Recovered, Deaths\n",
    "df = get_frame('confirmed')\n",
    "# dft_: timeseries, dfc_: today country agg\n",
    "dft_cases = df\n",
    "dft_deaths = get_frame('deaths')\n",
    "dft_recovered = get_frame('recovered')\n",
    "LAST_DATE_I, dt_cols = get_dates(df)"
   ]
  },
  {
   "cell_type": "code",
   "execution_count": 10,
   "id": "absolute-copper",
   "metadata": {
    "execution": {
     "iopub.execute_input": "2022-11-25T12:16:36.182527Z",
     "iopub.status.busy": "2022-11-25T12:16:36.181949Z",
     "iopub.status.idle": "2022-11-25T12:16:36.184170Z",
     "shell.execute_reply": "2022-11-25T12:16:36.184584Z"
    },
    "papermill": {
     "duration": 0.036729,
     "end_time": "2022-11-25T12:16:36.184702",
     "exception": false,
     "start_time": "2022-11-25T12:16:36.147973",
     "status": "completed"
    },
    "tags": []
   },
   "outputs": [],
   "source": [
    "#hide\n",
    "LAST_DATE_I, dt_cols = get_dates(df)\n",
    "dt_today =dt_cols[LAST_DATE_I]\n",
    "# dt_5day = dt_cols[LAST_DATE_I - 5]\n",
    "dt_yday = dt_cols[LAST_DATE_I - 1]"
   ]
  },
  {
   "cell_type": "code",
   "execution_count": 11,
   "id": "restricted-sheriff",
   "metadata": {
    "execution": {
     "iopub.execute_input": "2022-11-25T12:16:36.251386Z",
     "iopub.status.busy": "2022-11-25T12:16:36.248831Z",
     "iopub.status.idle": "2022-11-25T12:16:36.255730Z",
     "shell.execute_reply": "2022-11-25T12:16:36.256136Z"
    },
    "papermill": {
     "duration": 0.041702,
     "end_time": "2022-11-25T12:16:36.256253",
     "exception": false,
     "start_time": "2022-11-25T12:16:36.214551",
     "status": "completed"
    },
    "tags": []
   },
   "outputs": [],
   "source": [
    "#hide\n",
    "dfc_cases = dft_cases.groupby(COL_REGION)[dt_today].sum()\n",
    "dfc_deaths = dft_deaths.groupby(COL_REGION)[dt_today].sum()\n",
    "# dfp_cases = dft_cases.groupby(COL_REGION)[dt_5day].sum()\n",
    "# dfp_deaths = dft_deaths.groupby(COL_REGION)[dt_5day].sum()\n",
    "dfp_cases = dft_cases.groupby(COL_REGION)[dt_yday].sum()\n",
    "dfp_deaths = dft_deaths.groupby(COL_REGION)[dt_yday].sum()"
   ]
  },
  {
   "cell_type": "code",
   "execution_count": 12,
   "id": "deluxe-hepatitis",
   "metadata": {
    "execution": {
     "iopub.execute_input": "2022-11-25T12:16:36.322230Z",
     "iopub.status.busy": "2022-11-25T12:16:36.321656Z",
     "iopub.status.idle": "2022-11-25T12:16:36.326292Z",
     "shell.execute_reply": "2022-11-25T12:16:36.325820Z"
    },
    "papermill": {
     "duration": 0.039662,
     "end_time": "2022-11-25T12:16:36.326392",
     "exception": false,
     "start_time": "2022-11-25T12:16:36.286730",
     "status": "completed"
    },
    "tags": []
   },
   "outputs": [],
   "source": [
    "#hide\n",
    "df_table = (pd.DataFrame(dict(Cases = dfc_cases, Deaths = dfc_deaths, PCases = dfp_cases, PDeaths = dfp_deaths))\n",
    "            .sort_values(by = ['Cases','Deaths'], ascending = [False, False])\n",
    "            .reset_index())"
   ]
  },
  {
   "cell_type": "code",
   "execution_count": 13,
   "id": "educational-chancellor",
   "metadata": {
    "execution": {
     "iopub.execute_input": "2022-11-25T12:16:36.402991Z",
     "iopub.status.busy": "2022-11-25T12:16:36.402420Z",
     "iopub.status.idle": "2022-11-25T12:16:36.410078Z",
     "shell.execute_reply": "2022-11-25T12:16:36.409607Z"
    },
    "papermill": {
     "duration": 0.053832,
     "end_time": "2022-11-25T12:16:36.410181",
     "exception": false,
     "start_time": "2022-11-25T12:16:36.356349",
     "status": "completed"
    },
    "tags": []
   },
   "outputs": [
    {
     "data": {
      "text/html": [
       "<div>\n",
       "<style scoped>\n",
       "    .dataframe tbody tr th:only-of-type {\n",
       "        vertical-align: middle;\n",
       "    }\n",
       "\n",
       "    .dataframe tbody tr th {\n",
       "        vertical-align: top;\n",
       "    }\n",
       "\n",
       "    .dataframe thead th {\n",
       "        text-align: right;\n",
       "    }\n",
       "</style>\n",
       "<table border=\"1\" class=\"dataframe\">\n",
       "  <thead>\n",
       "    <tr style=\"text-align: right;\">\n",
       "      <th></th>\n",
       "      <th>Country/Region</th>\n",
       "      <th>Cases</th>\n",
       "      <th>Deaths</th>\n",
       "      <th>PCases</th>\n",
       "      <th>PDeaths</th>\n",
       "      <th>Cases (+)</th>\n",
       "      <th>Deaths (+)</th>\n",
       "      <th>Fatality Rate</th>\n",
       "      <th>Continent</th>\n",
       "    </tr>\n",
       "  </thead>\n",
       "  <tbody>\n",
       "    <tr>\n",
       "      <th>0</th>\n",
       "      <td>US</td>\n",
       "      <td>98538245</td>\n",
       "      <td>1079052</td>\n",
       "      <td>98503462</td>\n",
       "      <td>1078929</td>\n",
       "      <td>34783</td>\n",
       "      <td>123</td>\n",
       "      <td>1.10</td>\n",
       "      <td>North America</td>\n",
       "    </tr>\n",
       "    <tr>\n",
       "      <th>1</th>\n",
       "      <td>India</td>\n",
       "      <td>44672048</td>\n",
       "      <td>530604</td>\n",
       "      <td>44671708</td>\n",
       "      <td>530601</td>\n",
       "      <td>340</td>\n",
       "      <td>3</td>\n",
       "      <td>1.19</td>\n",
       "      <td>Asia</td>\n",
       "    </tr>\n",
       "    <tr>\n",
       "      <th>2</th>\n",
       "      <td>France</td>\n",
       "      <td>37741188</td>\n",
       "      <td>159611</td>\n",
       "      <td>37690658</td>\n",
       "      <td>159551</td>\n",
       "      <td>50530</td>\n",
       "      <td>60</td>\n",
       "      <td>0.42</td>\n",
       "      <td>Europe</td>\n",
       "    </tr>\n",
       "    <tr>\n",
       "      <th>3</th>\n",
       "      <td>Germany</td>\n",
       "      <td>36348477</td>\n",
       "      <td>157388</td>\n",
       "      <td>36318461</td>\n",
       "      <td>157114</td>\n",
       "      <td>30016</td>\n",
       "      <td>274</td>\n",
       "      <td>0.43</td>\n",
       "      <td>Europe</td>\n",
       "    </tr>\n",
       "    <tr>\n",
       "      <th>4</th>\n",
       "      <td>Brazil</td>\n",
       "      <td>35105241</td>\n",
       "      <td>689342</td>\n",
       "      <td>35082036</td>\n",
       "      <td>689272</td>\n",
       "      <td>23205</td>\n",
       "      <td>70</td>\n",
       "      <td>1.96</td>\n",
       "      <td>South America</td>\n",
       "    </tr>\n",
       "  </tbody>\n",
       "</table>\n",
       "</div>"
      ],
      "text/plain": [
       "  Country/Region     Cases   Deaths    PCases  PDeaths  Cases (+)  Deaths (+)  \\\n",
       "0             US  98538245  1079052  98503462  1078929      34783         123   \n",
       "1          India  44672048   530604  44671708   530601        340           3   \n",
       "2         France  37741188   159611  37690658   159551      50530          60   \n",
       "3        Germany  36348477   157388  36318461   157114      30016         274   \n",
       "4         Brazil  35105241   689342  35082036   689272      23205          70   \n",
       "\n",
       "   Fatality Rate      Continent  \n",
       "0           1.10  North America  \n",
       "1           1.19           Asia  \n",
       "2           0.42         Europe  \n",
       "3           0.43         Europe  \n",
       "4           1.96  South America  "
      ]
     },
     "execution_count": 13,
     "metadata": {},
     "output_type": "execute_result"
    }
   ],
   "source": [
    "#hide\n",
    "for c in 'Cases, Deaths'.split(', '):\n",
    "    df_table[f'{c} (+)'] = (df_table[c] - df_table[f'P{c}']).clip(0)\n",
    "    #Clip ça veut dire, les chiffres negatif sont interdit\n",
    "df_table['Fatality Rate'] = (100* df_table['Deaths']/ df_table['Cases']).round(2)\n",
    "df_table['Continent'] = df_table['Country/Region'].map(mapping['map.continent'])\n",
    "df_table.head(5)"
   ]
  },
  {
   "cell_type": "code",
   "execution_count": 14,
   "id": "aboriginal-bulgaria",
   "metadata": {
    "execution": {
     "iopub.execute_input": "2022-11-25T12:16:36.476658Z",
     "iopub.status.busy": "2022-11-25T12:16:36.476062Z",
     "iopub.status.idle": "2022-11-25T12:16:36.477839Z",
     "shell.execute_reply": "2022-11-25T12:16:36.478274Z"
    },
    "papermill": {
     "duration": 0.037557,
     "end_time": "2022-11-25T12:16:36.478386",
     "exception": false,
     "start_time": "2022-11-25T12:16:36.440829",
     "status": "completed"
    },
    "tags": []
   },
   "outputs": [],
   "source": [
    "#hide\n",
    "#delete problematic countries from table\n",
    "df_table = df_table[~df_table['Country/Region'].isin(['Cape Verde', 'Cruise Ship', 'Kosovo'])]"
   ]
  },
  {
   "cell_type": "code",
   "execution_count": 15,
   "id": "fantastic-effect",
   "metadata": {
    "execution": {
     "iopub.execute_input": "2022-11-25T12:16:36.545605Z",
     "iopub.status.busy": "2022-11-25T12:16:36.545042Z",
     "iopub.status.idle": "2022-11-25T12:16:36.562114Z",
     "shell.execute_reply": "2022-11-25T12:16:36.562571Z"
    },
    "papermill": {
     "duration": 0.053943,
     "end_time": "2022-11-25T12:16:36.562682",
     "exception": false,
     "start_time": "2022-11-25T12:16:36.508739",
     "status": "completed"
    },
    "tags": []
   },
   "outputs": [
    {
     "data": {
      "text/html": [
       "<div>\n",
       "<style scoped>\n",
       "    .dataframe tbody tr th:only-of-type {\n",
       "        vertical-align: middle;\n",
       "    }\n",
       "\n",
       "    .dataframe tbody tr th {\n",
       "        vertical-align: top;\n",
       "    }\n",
       "\n",
       "    .dataframe thead th {\n",
       "        text-align: right;\n",
       "    }\n",
       "</style>\n",
       "<table border=\"1\" class=\"dataframe\">\n",
       "  <thead>\n",
       "    <tr style=\"text-align: right;\">\n",
       "      <th></th>\n",
       "      <th>Country/Region</th>\n",
       "      <th>Cases</th>\n",
       "      <th>Deaths</th>\n",
       "      <th>PCases</th>\n",
       "      <th>PDeaths</th>\n",
       "      <th>Cases (+)</th>\n",
       "      <th>Deaths (+)</th>\n",
       "      <th>Fatality Rate</th>\n",
       "      <th>Continent</th>\n",
       "    </tr>\n",
       "  </thead>\n",
       "  <tbody>\n",
       "    <tr>\n",
       "      <th>0</th>\n",
       "      <td>US</td>\n",
       "      <td>98538245</td>\n",
       "      <td>1079052</td>\n",
       "      <td>98503462</td>\n",
       "      <td>1078929</td>\n",
       "      <td>34783</td>\n",
       "      <td>123</td>\n",
       "      <td>1.1</td>\n",
       "      <td>North America</td>\n",
       "    </tr>\n",
       "    <tr>\n",
       "      <th>1</th>\n",
       "      <td>India</td>\n",
       "      <td>44672048</td>\n",
       "      <td>530604</td>\n",
       "      <td>44671708</td>\n",
       "      <td>530601</td>\n",
       "      <td>340</td>\n",
       "      <td>3</td>\n",
       "      <td>1.2</td>\n",
       "      <td>Asia</td>\n",
       "    </tr>\n",
       "    <tr>\n",
       "      <th>2</th>\n",
       "      <td>France</td>\n",
       "      <td>37741188</td>\n",
       "      <td>159611</td>\n",
       "      <td>37690658</td>\n",
       "      <td>159551</td>\n",
       "      <td>50530</td>\n",
       "      <td>60</td>\n",
       "      <td>0.4</td>\n",
       "      <td>Europe</td>\n",
       "    </tr>\n",
       "    <tr>\n",
       "      <th>3</th>\n",
       "      <td>Germany</td>\n",
       "      <td>36348477</td>\n",
       "      <td>157388</td>\n",
       "      <td>36318461</td>\n",
       "      <td>157114</td>\n",
       "      <td>30016</td>\n",
       "      <td>274</td>\n",
       "      <td>0.4</td>\n",
       "      <td>Europe</td>\n",
       "    </tr>\n",
       "    <tr>\n",
       "      <th>4</th>\n",
       "      <td>Brazil</td>\n",
       "      <td>35105241</td>\n",
       "      <td>689342</td>\n",
       "      <td>35082036</td>\n",
       "      <td>689272</td>\n",
       "      <td>23205</td>\n",
       "      <td>70</td>\n",
       "      <td>2.0</td>\n",
       "      <td>South America</td>\n",
       "    </tr>\n",
       "  </tbody>\n",
       "</table>\n",
       "</div>"
      ],
      "text/plain": [
       "  Country/Region     Cases   Deaths    PCases  PDeaths  Cases (+)  Deaths (+)  \\\n",
       "0             US  98538245  1079052  98503462  1078929      34783         123   \n",
       "1          India  44672048   530604  44671708   530601        340           3   \n",
       "2         France  37741188   159611  37690658   159551      50530          60   \n",
       "3        Germany  36348477   157388  36318461   157114      30016         274   \n",
       "4         Brazil  35105241   689342  35082036   689272      23205          70   \n",
       "\n",
       "   Fatality Rate      Continent  \n",
       "0            1.1  North America  \n",
       "1            1.2           Asia  \n",
       "2            0.4         Europe  \n",
       "3            0.4         Europe  \n",
       "4            2.0  South America  "
      ]
     },
     "execution_count": 15,
     "metadata": {},
     "output_type": "execute_result"
    }
   ],
   "source": [
    "#hide\n",
    "df_table = (pd.DataFrame(dict(Cases=dfc_cases, Deaths=dfc_deaths, PCases=dfp_cases, PDeaths=dfp_deaths))\n",
    "             .sort_values(by=['Cases', 'Deaths'], ascending=[False, False])\n",
    "             .reset_index())\n",
    "df_table.rename(columns={'index': 'Country/Region'}, inplace=True)\n",
    "for c in 'Cases, Deaths'.split(', '):\n",
    "    df_table[f'{c} (+)'] = (df_table[c] - df_table[f'P{c}']).clip(0)  # DATA BUG\n",
    "df_table['Fatality Rate'] = (100 * df_table['Deaths'] / df_table['Cases']).round(1)\n",
    "df_table['Continent'] = df_table['Country/Region'].map(mapping['map.continent'])\n",
    "df_table.head(5)"
   ]
  },
  {
   "cell_type": "code",
   "execution_count": 16,
   "id": "fewer-occasion",
   "metadata": {
    "execution": {
     "iopub.execute_input": "2022-11-25T12:16:36.629555Z",
     "iopub.status.busy": "2022-11-25T12:16:36.628984Z",
     "iopub.status.idle": "2022-11-25T12:16:36.630792Z",
     "shell.execute_reply": "2022-11-25T12:16:36.631214Z"
    },
    "papermill": {
     "duration": 0.037585,
     "end_time": "2022-11-25T12:16:36.631324",
     "exception": false,
     "start_time": "2022-11-25T12:16:36.593739",
     "status": "completed"
    },
    "tags": []
   },
   "outputs": [],
   "source": [
    "#hide\n",
    "#delete problematic countries from table\n",
    "df_table = df_table[~df_table['Country/Region'].isin(['Cape Verde', 'Cruise Ship', 'Kosovo'])]"
   ]
  },
  {
   "cell_type": "code",
   "execution_count": 17,
   "id": "related-center",
   "metadata": {
    "execution": {
     "iopub.execute_input": "2022-11-25T12:16:36.695877Z",
     "iopub.status.busy": "2022-11-25T12:16:36.695310Z",
     "iopub.status.idle": "2022-11-25T12:16:36.711869Z",
     "shell.execute_reply": "2022-11-25T12:16:36.711429Z"
    },
    "papermill": {
     "duration": 0.049711,
     "end_time": "2022-11-25T12:16:36.711975",
     "exception": false,
     "start_time": "2022-11-25T12:16:36.662264",
     "status": "completed"
    },
    "tags": []
   },
   "outputs": [],
   "source": [
    "#hide\n",
    "metrics = [df_table.columns[index] for index in [1,2,5,6]]\n",
    "# s_china = df_table[df_table['Country/Region'].eq('China')][metrics].sum().add_prefix('China ')\n",
    "s_us = df_table[df_table['Country/Region'].eq('US')][metrics].sum().add_prefix('US ')\n",
    "s_eu = df_table[df_table['Continent'].eq('Europe')][metrics].sum().add_prefix('EU ')\n",
    "s_ind = df_table[df_table['Country/Region'].eq('India')][metrics].sum().add_prefix('India ')\n",
    "summary = {'updated': pd.to_datetime(dt_today), 'since': pd.to_datetime(dt_yday)}\n",
    "summary = {'updated': pd.to_datetime(dt_today), 'since': pd.to_datetime(dt_yday)}\n",
    "summary = {**summary, **df_table[metrics].sum(), **s_ind, **s_us, **s_eu}"
   ]
  },
  {
   "cell_type": "code",
   "execution_count": 18,
   "id": "engaging-syndrome",
   "metadata": {
    "execution": {
     "iopub.execute_input": "2022-11-25T12:16:36.779004Z",
     "iopub.status.busy": "2022-11-25T12:16:36.778442Z",
     "iopub.status.idle": "2022-11-25T12:16:36.797638Z",
     "shell.execute_reply": "2022-11-25T12:16:36.798099Z"
    },
    "papermill": {
     "duration": 0.055087,
     "end_time": "2022-11-25T12:16:36.798219",
     "exception": false,
     "start_time": "2022-11-25T12:16:36.743132",
     "status": "completed"
    },
    "tags": []
   },
   "outputs": [],
   "source": [
    "#hide\n",
    "dft_ct_new_cases = dft_cases.groupby(COL_REGION)[dt_cols].sum().diff(axis=1).fillna(0).astype(int)"
   ]
  },
  {
   "cell_type": "code",
   "execution_count": 19,
   "id": "neutral-assignment",
   "metadata": {
    "execution": {
     "iopub.execute_input": "2022-11-25T12:16:36.865852Z",
     "iopub.status.busy": "2022-11-25T12:16:36.865278Z",
     "iopub.status.idle": "2022-11-25T12:16:36.867744Z",
     "shell.execute_reply": "2022-11-25T12:16:36.867297Z"
    },
    "papermill": {
     "duration": 0.038637,
     "end_time": "2022-11-25T12:16:36.867841",
     "exception": false,
     "start_time": "2022-11-25T12:16:36.829204",
     "status": "completed"
    },
    "tags": []
   },
   "outputs": [],
   "source": [
    "#hide\n",
    "everydaycases = dft_ct_new_cases.cumsum(axis=1)"
   ]
  },
  {
   "cell_type": "code",
   "execution_count": 20,
   "id": "parliamentary-calgary",
   "metadata": {
    "execution": {
     "iopub.execute_input": "2022-11-25T12:16:36.933470Z",
     "iopub.status.busy": "2022-11-25T12:16:36.932873Z",
     "iopub.status.idle": "2022-11-25T12:16:37.465729Z",
     "shell.execute_reply": "2022-11-25T12:16:37.464780Z"
    },
    "papermill": {
     "duration": 0.566954,
     "end_time": "2022-11-25T12:16:37.465852",
     "exception": false,
     "start_time": "2022-11-25T12:16:36.898898",
     "status": "completed"
    },
    "tags": []
   },
   "outputs": [],
   "source": [
    "#hide\n",
    "import pandas as pd\n",
    "import matplotlib.pyplot as plt\n",
    "import matplotlib.ticker as ticker\n",
    "import matplotlib.animation as animation\n",
    "from IPython.display import HTML"
   ]
  },
  {
   "cell_type": "code",
   "execution_count": 21,
   "id": "lasting-extraction",
   "metadata": {
    "execution": {
     "iopub.execute_input": "2022-11-25T12:16:37.533991Z",
     "iopub.status.busy": "2022-11-25T12:16:37.533440Z",
     "iopub.status.idle": "2022-11-25T12:16:37.540473Z",
     "shell.execute_reply": "2022-11-25T12:16:37.540009Z"
    },
    "papermill": {
     "duration": 0.043634,
     "end_time": "2022-11-25T12:16:37.540576",
     "exception": false,
     "start_time": "2022-11-25T12:16:37.496942",
     "status": "completed"
    },
    "tags": []
   },
   "outputs": [],
   "source": [
    "#hide\n",
    "t = everydaycases.stack()"
   ]
  },
  {
   "cell_type": "code",
   "execution_count": 22,
   "id": "premier-sleeve",
   "metadata": {
    "execution": {
     "iopub.execute_input": "2022-11-25T12:16:37.607309Z",
     "iopub.status.busy": "2022-11-25T12:16:37.606744Z",
     "iopub.status.idle": "2022-11-25T12:16:37.621157Z",
     "shell.execute_reply": "2022-11-25T12:16:37.620691Z"
    },
    "papermill": {
     "duration": 0.049562,
     "end_time": "2022-11-25T12:16:37.621257",
     "exception": false,
     "start_time": "2022-11-25T12:16:37.571695",
     "status": "completed"
    },
    "tags": []
   },
   "outputs": [],
   "source": [
    "#hide\n",
    "g = t.reset_index(['Country/Region'])"
   ]
  },
  {
   "cell_type": "code",
   "execution_count": 23,
   "id": "distributed-pittsburgh",
   "metadata": {
    "execution": {
     "iopub.execute_input": "2022-11-25T12:16:37.686918Z",
     "iopub.status.busy": "2022-11-25T12:16:37.686347Z",
     "iopub.status.idle": "2022-11-25T12:16:37.688832Z",
     "shell.execute_reply": "2022-11-25T12:16:37.688400Z"
    },
    "papermill": {
     "duration": 0.036752,
     "end_time": "2022-11-25T12:16:37.688934",
     "exception": false,
     "start_time": "2022-11-25T12:16:37.652182",
     "status": "completed"
    },
    "tags": []
   },
   "outputs": [],
   "source": [
    "#hide\n",
    "g.index.name = 'date'"
   ]
  },
  {
   "cell_type": "code",
   "execution_count": 24,
   "id": "naked-donor",
   "metadata": {
    "execution": {
     "iopub.execute_input": "2022-11-25T12:16:37.753835Z",
     "iopub.status.busy": "2022-11-25T12:16:37.753255Z",
     "iopub.status.idle": "2022-11-25T12:16:37.755717Z",
     "shell.execute_reply": "2022-11-25T12:16:37.755205Z"
    },
    "papermill": {
     "duration": 0.036,
     "end_time": "2022-11-25T12:16:37.755815",
     "exception": false,
     "start_time": "2022-11-25T12:16:37.719815",
     "status": "completed"
    },
    "tags": []
   },
   "outputs": [],
   "source": [
    "# #hide\n",
    "# g = g.reset_index(['date'])"
   ]
  },
  {
   "cell_type": "code",
   "execution_count": 25,
   "id": "incomplete-mustang",
   "metadata": {
    "execution": {
     "iopub.execute_input": "2022-11-25T12:16:37.821536Z",
     "iopub.status.busy": "2022-11-25T12:16:37.820967Z",
     "iopub.status.idle": "2022-11-25T12:16:37.823394Z",
     "shell.execute_reply": "2022-11-25T12:16:37.822873Z"
    },
    "papermill": {
     "duration": 0.036571,
     "end_time": "2022-11-25T12:16:37.823492",
     "exception": false,
     "start_time": "2022-11-25T12:16:37.786921",
     "status": "completed"
    },
    "tags": []
   },
   "outputs": [],
   "source": [
    "#hide\n",
    "# g.head()"
   ]
  },
  {
   "cell_type": "code",
   "execution_count": 26,
   "id": "specific-kruger",
   "metadata": {
    "execution": {
     "iopub.execute_input": "2022-11-25T12:16:37.888879Z",
     "iopub.status.busy": "2022-11-25T12:16:37.888313Z",
     "iopub.status.idle": "2022-11-25T12:16:37.890772Z",
     "shell.execute_reply": "2022-11-25T12:16:37.890242Z"
    },
    "papermill": {
     "duration": 0.036313,
     "end_time": "2022-11-25T12:16:37.890868",
     "exception": false,
     "start_time": "2022-11-25T12:16:37.854555",
     "status": "completed"
    },
    "tags": []
   },
   "outputs": [],
   "source": [
    "#hide\n",
    "# g.columns = ['date','country','cases']"
   ]
  },
  {
   "cell_type": "code",
   "execution_count": 27,
   "id": "tender-conversion",
   "metadata": {
    "execution": {
     "iopub.execute_input": "2022-11-25T12:16:37.956303Z",
     "iopub.status.busy": "2022-11-25T12:16:37.955744Z",
     "iopub.status.idle": "2022-11-25T12:16:37.958244Z",
     "shell.execute_reply": "2022-11-25T12:16:37.957678Z"
    },
    "papermill": {
     "duration": 0.036514,
     "end_time": "2022-11-25T12:16:37.958344",
     "exception": false,
     "start_time": "2022-11-25T12:16:37.921830",
     "status": "completed"
    },
    "tags": []
   },
   "outputs": [],
   "source": [
    "#hide\n",
    "# g['continent'] = g.country"
   ]
  },
  {
   "cell_type": "code",
   "execution_count": 28,
   "id": "substantial-wilderness",
   "metadata": {
    "execution": {
     "iopub.execute_input": "2022-11-25T12:16:38.023701Z",
     "iopub.status.busy": "2022-11-25T12:16:38.023143Z",
     "iopub.status.idle": "2022-11-25T12:16:38.025486Z",
     "shell.execute_reply": "2022-11-25T12:16:38.024961Z"
    },
    "papermill": {
     "duration": 0.036262,
     "end_time": "2022-11-25T12:16:38.025583",
     "exception": false,
     "start_time": "2022-11-25T12:16:37.989321",
     "status": "completed"
    },
    "tags": []
   },
   "outputs": [],
   "source": [
    "#hide\n",
    "# cols = list(g.columns.values)"
   ]
  },
  {
   "cell_type": "code",
   "execution_count": 29,
   "id": "solved-farming",
   "metadata": {
    "execution": {
     "iopub.execute_input": "2022-11-25T12:16:38.090632Z",
     "iopub.status.busy": "2022-11-25T12:16:38.090061Z",
     "iopub.status.idle": "2022-11-25T12:16:38.092457Z",
     "shell.execute_reply": "2022-11-25T12:16:38.092023Z"
    },
    "papermill": {
     "duration": 0.036215,
     "end_time": "2022-11-25T12:16:38.092553",
     "exception": false,
     "start_time": "2022-11-25T12:16:38.056338",
     "status": "completed"
    },
    "tags": []
   },
   "outputs": [],
   "source": [
    "#hide\n",
    "# cols.insert(0, cols.pop())"
   ]
  },
  {
   "cell_type": "code",
   "execution_count": 30,
   "id": "executed-adoption",
   "metadata": {
    "execution": {
     "iopub.execute_input": "2022-11-25T12:16:38.158293Z",
     "iopub.status.busy": "2022-11-25T12:16:38.157699Z",
     "iopub.status.idle": "2022-11-25T12:16:38.159980Z",
     "shell.execute_reply": "2022-11-25T12:16:38.159548Z"
    },
    "papermill": {
     "duration": 0.036474,
     "end_time": "2022-11-25T12:16:38.160076",
     "exception": false,
     "start_time": "2022-11-25T12:16:38.123602",
     "status": "completed"
    },
    "tags": []
   },
   "outputs": [],
   "source": [
    "#hide\n",
    "# g = g[cols]"
   ]
  },
  {
   "cell_type": "code",
   "execution_count": 31,
   "id": "subject-dublin",
   "metadata": {
    "execution": {
     "iopub.execute_input": "2022-11-25T12:16:38.225747Z",
     "iopub.status.busy": "2022-11-25T12:16:38.225178Z",
     "iopub.status.idle": "2022-11-25T12:16:38.227595Z",
     "shell.execute_reply": "2022-11-25T12:16:38.227073Z"
    },
    "papermill": {
     "duration": 0.036545,
     "end_time": "2022-11-25T12:16:38.227695",
     "exception": false,
     "start_time": "2022-11-25T12:16:38.191150",
     "status": "completed"
    },
    "tags": []
   },
   "outputs": [],
   "source": [
    "#hide\n",
    "# g['continent'] = g['continent'].map(mapping['map.continent'])"
   ]
  },
  {
   "cell_type": "code",
   "execution_count": 32,
   "id": "freelance-scout",
   "metadata": {
    "execution": {
     "iopub.execute_input": "2022-11-25T12:16:38.293375Z",
     "iopub.status.busy": "2022-11-25T12:16:38.292805Z",
     "iopub.status.idle": "2022-11-25T12:16:38.295242Z",
     "shell.execute_reply": "2022-11-25T12:16:38.294723Z"
    },
    "papermill": {
     "duration": 0.036493,
     "end_time": "2022-11-25T12:16:38.295339",
     "exception": false,
     "start_time": "2022-11-25T12:16:38.258846",
     "status": "completed"
    },
    "tags": []
   },
   "outputs": [],
   "source": [
    "#hide\n",
    "# g.head()"
   ]
  },
  {
   "cell_type": "code",
   "execution_count": 33,
   "id": "limited-engine",
   "metadata": {
    "execution": {
     "iopub.execute_input": "2022-11-25T12:16:38.360944Z",
     "iopub.status.busy": "2022-11-25T12:16:38.360361Z",
     "iopub.status.idle": "2022-11-25T12:16:38.362421Z",
     "shell.execute_reply": "2022-11-25T12:16:38.362839Z"
    },
    "papermill": {
     "duration": 0.036702,
     "end_time": "2022-11-25T12:16:38.362955",
     "exception": false,
     "start_time": "2022-11-25T12:16:38.326253",
     "status": "completed"
    },
    "tags": []
   },
   "outputs": [],
   "source": [
    "# hide\n",
    "# g['date'] = g['date'].astype('datetime64[ns]')"
   ]
  },
  {
   "cell_type": "code",
   "execution_count": 34,
   "id": "sophisticated-supervisor",
   "metadata": {
    "execution": {
     "iopub.execute_input": "2022-11-25T12:16:38.428967Z",
     "iopub.status.busy": "2022-11-25T12:16:38.428405Z",
     "iopub.status.idle": "2022-11-25T12:16:38.430057Z",
     "shell.execute_reply": "2022-11-25T12:16:38.430559Z"
    },
    "papermill": {
     "duration": 0.036601,
     "end_time": "2022-11-25T12:16:38.430672",
     "exception": false,
     "start_time": "2022-11-25T12:16:38.394071",
     "status": "completed"
    },
    "tags": []
   },
   "outputs": [],
   "source": [
    "#hide\n",
    "# g['date'] = g.date.dt.dayofyear"
   ]
  },
  {
   "cell_type": "code",
   "execution_count": 35,
   "id": "inside-dubai",
   "metadata": {
    "execution": {
     "iopub.execute_input": "2022-11-25T12:16:38.495984Z",
     "iopub.status.busy": "2022-11-25T12:16:38.495424Z",
     "iopub.status.idle": "2022-11-25T12:16:38.498205Z",
     "shell.execute_reply": "2022-11-25T12:16:38.497712Z"
    },
    "papermill": {
     "duration": 0.036681,
     "end_time": "2022-11-25T12:16:38.498305",
     "exception": false,
     "start_time": "2022-11-25T12:16:38.461624",
     "status": "completed"
    },
    "tags": []
   },
   "outputs": [],
   "source": [
    "#hide\n",
    "# g = g.rename(columns= {'continent':'group','country':'name','cases':'value'})"
   ]
  },
  {
   "cell_type": "code",
   "execution_count": 36,
   "id": "fleet-motorcycle",
   "metadata": {
    "execution": {
     "iopub.execute_input": "2022-11-25T12:16:38.563737Z",
     "iopub.status.busy": "2022-11-25T12:16:38.563176Z",
     "iopub.status.idle": "2022-11-25T12:16:38.565562Z",
     "shell.execute_reply": "2022-11-25T12:16:38.565132Z"
    },
    "papermill": {
     "duration": 0.036407,
     "end_time": "2022-11-25T12:16:38.565659",
     "exception": false,
     "start_time": "2022-11-25T12:16:38.529252",
     "status": "completed"
    },
    "tags": []
   },
   "outputs": [],
   "source": [
    "#hide\n",
    "# cols = ['name','group','day','value']"
   ]
  },
  {
   "cell_type": "code",
   "execution_count": 37,
   "id": "continued-sleeping",
   "metadata": {
    "execution": {
     "iopub.execute_input": "2022-11-25T12:16:38.631174Z",
     "iopub.status.busy": "2022-11-25T12:16:38.630623Z",
     "iopub.status.idle": "2022-11-25T12:16:38.632876Z",
     "shell.execute_reply": "2022-11-25T12:16:38.632357Z"
    },
    "papermill": {
     "duration": 0.036062,
     "end_time": "2022-11-25T12:16:38.632973",
     "exception": false,
     "start_time": "2022-11-25T12:16:38.596911",
     "status": "completed"
    },
    "tags": []
   },
   "outputs": [],
   "source": [
    "#hide\n",
    "# g.rename(columns= {'date':'day'},inplace = True)"
   ]
  },
  {
   "cell_type": "code",
   "execution_count": 38,
   "id": "major-fight",
   "metadata": {
    "execution": {
     "iopub.execute_input": "2022-11-25T12:16:38.698318Z",
     "iopub.status.busy": "2022-11-25T12:16:38.697724Z",
     "iopub.status.idle": "2022-11-25T12:16:38.700051Z",
     "shell.execute_reply": "2022-11-25T12:16:38.699527Z"
    },
    "papermill": {
     "duration": 0.03631,
     "end_time": "2022-11-25T12:16:38.700147",
     "exception": false,
     "start_time": "2022-11-25T12:16:38.663837",
     "status": "completed"
    },
    "tags": []
   },
   "outputs": [],
   "source": [
    "#hide\n",
    "# g = g[cols]"
   ]
  },
  {
   "cell_type": "code",
   "execution_count": 39,
   "id": "structured-mobile",
   "metadata": {
    "execution": {
     "iopub.execute_input": "2022-11-25T12:16:38.764978Z",
     "iopub.status.busy": "2022-11-25T12:16:38.764420Z",
     "iopub.status.idle": "2022-11-25T12:16:38.766841Z",
     "shell.execute_reply": "2022-11-25T12:16:38.766407Z"
    },
    "papermill": {
     "duration": 0.036071,
     "end_time": "2022-11-25T12:16:38.766934",
     "exception": false,
     "start_time": "2022-11-25T12:16:38.730863",
     "status": "completed"
    },
    "tags": []
   },
   "outputs": [],
   "source": [
    "# #hide\n",
    "# g = g[g.group.notna()]"
   ]
  },
  {
   "cell_type": "code",
   "execution_count": 40,
   "id": "determined-closing",
   "metadata": {
    "execution": {
     "iopub.execute_input": "2022-11-25T12:16:38.832095Z",
     "iopub.status.busy": "2022-11-25T12:16:38.831526Z",
     "iopub.status.idle": "2022-11-25T12:16:38.833490Z",
     "shell.execute_reply": "2022-11-25T12:16:38.833904Z"
    },
    "papermill": {
     "duration": 0.036143,
     "end_time": "2022-11-25T12:16:38.834033",
     "exception": false,
     "start_time": "2022-11-25T12:16:38.797890",
     "status": "completed"
    },
    "tags": []
   },
   "outputs": [],
   "source": [
    "# #hide\n",
    "# colors = dict(zip(\n",
    "#     [\"Oceania\", \"Europe\", \"Asia\", \"South America\", \"Middle East\", \"North America\", \"Africa\"],\n",
    "#     [\"#adb0ff\", \"#ffb3ff\", \"#90d595\", \"#e48381\", \"#aafbff\", \"#f7bb5f\", \"#eafb50\"]\n",
    "# ))\n",
    "# group_lk = g.set_index('name')['group'].to_dict()"
   ]
  },
  {
   "cell_type": "code",
   "execution_count": null,
   "id": "gross-drinking",
   "metadata": {
    "papermill": {
     "duration": 0.030681,
     "end_time": "2022-11-25T12:16:38.895380",
     "exception": false,
     "start_time": "2022-11-25T12:16:38.864699",
     "status": "completed"
    },
    "tags": []
   },
   "outputs": [],
   "source": []
  },
  {
   "cell_type": "code",
   "execution_count": 41,
   "id": "subject-macintosh",
   "metadata": {
    "execution": {
     "iopub.execute_input": "2022-11-25T12:16:38.961086Z",
     "iopub.status.busy": "2022-11-25T12:16:38.960521Z",
     "iopub.status.idle": "2022-11-25T12:16:38.962812Z",
     "shell.execute_reply": "2022-11-25T12:16:38.962382Z"
    },
    "papermill": {
     "duration": 0.036693,
     "end_time": "2022-11-25T12:16:38.962904",
     "exception": false,
     "start_time": "2022-11-25T12:16:38.926211",
     "status": "completed"
    },
    "tags": []
   },
   "outputs": [],
   "source": [
    "# #hide\n",
    "# fig, ax = plt.subplots(figsize=(15, 8))\n",
    "\n",
    "# def draw_barchart(current_day):\n",
    "#     dff = g[g['day'].eq(current_day)].sort_values(by='value', ascending=True).tail(10)\n",
    "#     ax.clear()\n",
    "#     ax.barh(dff['name'], dff['value'], color=[colors[group_lk[x]] for x in dff['name']])\n",
    "#     dx = dff['value'].max() / 200\n",
    "    \n",
    "#     for i, (value, name) in enumerate(zip(dff['value'], dff['name'])):\n",
    "#         ax.text(value-dx, i,     name,           size=14, weight=600, ha='right', va='bottom')\n",
    "#         ax.text(value-dx, i-.25, group_lk[name], size=10, color='#444444', ha='right', va='baseline')\n",
    "#         ax.text(value+dx, i,     f'{value:,.0f}',  size=14, ha='left',  va='center')\n",
    "#     ax.text(1, 0.4, current_day, transform=ax.transAxes, color='#777777', size=46, ha='right', weight=800)\n",
    "#     ax.text(0, 1.06, 'Population (thousands)', transform=ax.transAxes, size=12, color='#777777')\n",
    "#     ax.xaxis.set_major_formatter(ticker.StrMethodFormatter('{x:,.0f}'))\n",
    "#     ax.xaxis.set_ticks_position('top')\n",
    "#     ax.tick_params(axis='x', colors='#777777', labelsize=12)\n",
    "#     ax.set_yticks([])\n",
    "#     ax.margins(0, 0.01)\n",
    "#     ax.grid(which='major', axis='x', linestyle='-')\n",
    "#     ax.set_axisbelow(True)\n",
    "    \n",
    "#     ax.text(0, 1.15, 'Coronavirus',\n",
    "#             transform=ax.transAxes, size=24, weight=600, ha='left', va='top')\n",
    "# #     ax.text(1, 0, 'by @pratapvardhan; credit @jburnmurdoch', transform=ax.transAxes, color='#777777', ha='right',\n",
    "# #             bbox=dict(facecolor='white', alpha=0.8, edgecolor='white'))\n",
    "#     plt.box(False)"
   ]
  },
  {
   "cell_type": "code",
   "execution_count": 42,
   "id": "sexual-wages",
   "metadata": {
    "execution": {
     "iopub.execute_input": "2022-11-25T12:16:39.027516Z",
     "iopub.status.busy": "2022-11-25T12:16:39.026957Z",
     "iopub.status.idle": "2022-11-25T12:16:39.029337Z",
     "shell.execute_reply": "2022-11-25T12:16:39.028812Z"
    },
    "papermill": {
     "duration": 0.035939,
     "end_time": "2022-11-25T12:16:39.029431",
     "exception": false,
     "start_time": "2022-11-25T12:16:38.993492",
     "status": "completed"
    },
    "tags": []
   },
   "outputs": [],
   "source": [
    "# #hide_input\n",
    "# fig, ax = plt.subplots(figsize=(15, 8))\n",
    "# animator = animation.FuncAnimation(fig, draw_barchart, frames=range(g.day.values.min(), g.day.values.max()))\n",
    "# HTML(animator.to_jshtml())\n",
    "# # or use animator.to_html5_video() or animator.save() "
   ]
  },
  {
   "cell_type": "code",
   "execution_count": null,
   "id": "australian-container",
   "metadata": {
    "papermill": {
     "duration": 0.030801,
     "end_time": "2022-11-25T12:16:39.091061",
     "exception": false,
     "start_time": "2022-11-25T12:16:39.060260",
     "status": "completed"
    },
    "tags": []
   },
   "outputs": [],
   "source": []
  },
  {
   "cell_type": "code",
   "execution_count": null,
   "id": "mediterranean-pontiac",
   "metadata": {
    "papermill": {
     "duration": 0.030712,
     "end_time": "2022-11-25T12:16:39.152531",
     "exception": false,
     "start_time": "2022-11-25T12:16:39.121819",
     "status": "completed"
    },
    "tags": []
   },
   "outputs": [],
   "source": []
  },
  {
   "cell_type": "code",
   "execution_count": null,
   "id": "aging-legislature",
   "metadata": {
    "papermill": {
     "duration": 0.030794,
     "end_time": "2022-11-25T12:16:39.214233",
     "exception": false,
     "start_time": "2022-11-25T12:16:39.183439",
     "status": "completed"
    },
    "tags": []
   },
   "outputs": [],
   "source": []
  }
 ],
 "metadata": {
  "kernelspec": {
   "display_name": "Python 3",
   "language": "python",
   "name": "python3"
  },
  "language_info": {
   "codemirror_mode": {
    "name": "ipython",
    "version": 3
   },
   "file_extension": ".py",
   "mimetype": "text/x-python",
   "name": "python",
   "nbconvert_exporter": "python",
   "pygments_lexer": "ipython3",
   "version": "3.6.15"
  },
  "papermill": {
   "duration": 5.901444,
   "end_time": "2022-11-25T12:16:39.562109",
   "environment_variables": {},
   "exception": null,
   "input_path": "2020-03-21-covid19exp.ipynb",
   "output_path": "2020-03-21-covid19exp.ipynb",
   "parameters": {},
   "start_time": "2022-11-25T12:16:33.660665",
   "version": "2.0.0"
  }
 },
 "nbformat": 4,
 "nbformat_minor": 5
}