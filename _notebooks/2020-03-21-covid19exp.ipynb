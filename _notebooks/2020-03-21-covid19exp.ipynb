{
 "cells": [
  {
   "cell_type": "markdown",
   "id": "muslim-click",
   "metadata": {
    "papermill": {
     "duration": 0.041429,
     "end_time": "2021-02-24T00:11:24.972285",
     "exception": false,
     "start_time": "2021-02-24T00:11:24.930856",
     "status": "completed"
    },
    "tags": []
   },
   "source": [
    "# COVID-19 Case Race\n",
    "> A race chart to see rising cases around the world\n",
    "\n",
    "- author: Hargun Oberoi\n",
    "- image: images/covid-overview.png\n",
    "- hide: false\n",
    "- badges: false"
   ]
  },
  {
   "cell_type": "code",
   "execution_count": 1,
   "id": "proof-material",
   "metadata": {
    "execution": {
     "iopub.execute_input": "2021-02-24T00:11:25.052672Z",
     "iopub.status.busy": "2021-02-24T00:11:25.052066Z",
     "iopub.status.idle": "2021-02-24T00:11:25.405553Z",
     "shell.execute_reply": "2021-02-24T00:11:25.404652Z"
    },
    "papermill": {
     "duration": 0.39649,
     "end_time": "2021-02-24T00:11:25.405795",
     "exception": false,
     "start_time": "2021-02-24T00:11:25.009305",
     "status": "completed"
    },
    "tags": []
   },
   "outputs": [],
   "source": [
    "#hide\n",
    "import numpy as np\n",
    "import pandas as pd\n",
    "from jinja2 import Template\n",
    "from IPython.display import HTML"
   ]
  },
  {
   "cell_type": "code",
   "execution_count": 2,
   "id": "developed-terminology",
   "metadata": {
    "execution": {
     "iopub.execute_input": "2021-02-24T00:11:25.479242Z",
     "iopub.status.busy": "2021-02-24T00:11:25.478649Z",
     "iopub.status.idle": "2021-02-24T00:11:25.481293Z",
     "shell.execute_reply": "2021-02-24T00:11:25.480799Z"
    },
    "papermill": {
     "duration": 0.040265,
     "end_time": "2021-02-24T00:11:25.481410",
     "exception": false,
     "start_time": "2021-02-24T00:11:25.441145",
     "status": "completed"
    },
    "tags": []
   },
   "outputs": [],
   "source": [
    "#hide\n",
    "\n",
    "# FETCH\n",
    "base_url = 'https://raw.githubusercontent.com/pratapvardhan/notebooks/master/covid19/'\n",
    "paths = {\n",
    "    'mapping': base_url + 'mapping_countries.csv',\n",
    "    'overview': base_url + 'overview.tpl'\n",
    "}"
   ]
  },
  {
   "cell_type": "code",
   "execution_count": 3,
   "id": "dynamic-saver",
   "metadata": {
    "execution": {
     "iopub.execute_input": "2021-02-24T00:11:25.560301Z",
     "iopub.status.busy": "2021-02-24T00:11:25.558193Z",
     "iopub.status.idle": "2021-02-24T00:11:25.563382Z",
     "shell.execute_reply": "2021-02-24T00:11:25.562883Z"
    },
    "papermill": {
     "duration": 0.047385,
     "end_time": "2021-02-24T00:11:25.563500",
     "exception": false,
     "start_time": "2021-02-24T00:11:25.516115",
     "status": "completed"
    },
    "tags": []
   },
   "outputs": [
    {
     "data": {
      "text/plain": [
       "'https://raw.githubusercontent.com/pratapvardhan/notebooks/master/covid19/mapping_countries.csv'"
      ]
     },
     "execution_count": 3,
     "metadata": {},
     "output_type": "execute_result"
    }
   ],
   "source": [
    "#hide\n",
    "paths['mapping']"
   ]
  },
  {
   "cell_type": "code",
   "execution_count": 4,
   "id": "urban-software",
   "metadata": {
    "execution": {
     "iopub.execute_input": "2021-02-24T00:11:25.636819Z",
     "iopub.status.busy": "2021-02-24T00:11:25.636234Z",
     "iopub.status.idle": "2021-02-24T00:11:25.638413Z",
     "shell.execute_reply": "2021-02-24T00:11:25.638912Z"
    },
    "papermill": {
     "duration": 0.042512,
     "end_time": "2021-02-24T00:11:25.639045",
     "exception": false,
     "start_time": "2021-02-24T00:11:25.596533",
     "status": "completed"
    },
    "tags": []
   },
   "outputs": [],
   "source": [
    "#hide\n",
    "def get_mappings(url):\n",
    "    df = pd.read_csv(url)\n",
    "    return {\n",
    "        'df': df,\n",
    "        'replace.country': dict(df.dropna(subset=['Name']).set_index('Country')['Name']),\n",
    "        'map.continent': dict(df.set_index('Name')['Continent'])\n",
    "    }"
   ]
  },
  {
   "cell_type": "code",
   "execution_count": 5,
   "id": "intimate-machinery",
   "metadata": {
    "execution": {
     "iopub.execute_input": "2021-02-24T00:11:25.713064Z",
     "iopub.status.busy": "2021-02-24T00:11:25.712480Z",
     "iopub.status.idle": "2021-02-24T00:11:25.764153Z",
     "shell.execute_reply": "2021-02-24T00:11:25.763654Z"
    },
    "papermill": {
     "duration": 0.091466,
     "end_time": "2021-02-24T00:11:25.764278",
     "exception": false,
     "start_time": "2021-02-24T00:11:25.672812",
     "status": "completed"
    },
    "tags": []
   },
   "outputs": [],
   "source": [
    "#hide\n",
    "mapping = get_mappings(paths['mapping'])"
   ]
  },
  {
   "cell_type": "code",
   "execution_count": 6,
   "id": "certified-tactics",
   "metadata": {
    "execution": {
     "iopub.execute_input": "2021-02-24T00:11:25.836789Z",
     "iopub.status.busy": "2021-02-24T00:11:25.836205Z",
     "iopub.status.idle": "2021-02-24T00:11:25.837953Z",
     "shell.execute_reply": "2021-02-24T00:11:25.838391Z"
    },
    "papermill": {
     "duration": 0.041502,
     "end_time": "2021-02-24T00:11:25.838523",
     "exception": false,
     "start_time": "2021-02-24T00:11:25.797021",
     "status": "completed"
    },
    "tags": []
   },
   "outputs": [],
   "source": [
    "#hide\n",
    "def get_template(path):\n",
    "    from urllib.parse import urlparse\n",
    "    if bool(urlparse(path).netloc):\n",
    "        from urllib.request import urlopen\n",
    "        return urlopen(path).read().decode('utf8')\n",
    "    return open(path).read()"
   ]
  },
  {
   "cell_type": "code",
   "execution_count": 7,
   "id": "realistic-blast",
   "metadata": {
    "execution": {
     "iopub.execute_input": "2021-02-24T00:11:25.912839Z",
     "iopub.status.busy": "2021-02-24T00:11:25.911567Z",
     "iopub.status.idle": "2021-02-24T00:11:25.913952Z",
     "shell.execute_reply": "2021-02-24T00:11:25.914758Z"
    },
    "papermill": {
     "duration": 0.043604,
     "end_time": "2021-02-24T00:11:25.914984",
     "exception": false,
     "start_time": "2021-02-24T00:11:25.871380",
     "status": "completed"
    },
    "tags": []
   },
   "outputs": [],
   "source": [
    "#hide\n",
    "def get_frame(name):\n",
    "    url = (\n",
    "        'https://raw.githubusercontent.com/CSSEGISandData/COVID-19/master/csse_covid_19_data/'\n",
    "        f'csse_covid_19_time_series/time_series_covid19_{name}_global.csv')\n",
    "    df = pd.read_csv(url)\n",
    "    # rename countries\n",
    "    df['Country/Region'] = df['Country/Region'].replace(mapping['replace.country'])\n",
    "    return df"
   ]
  },
  {
   "cell_type": "code",
   "execution_count": 8,
   "id": "affiliated-characterization",
   "metadata": {
    "execution": {
     "iopub.execute_input": "2021-02-24T00:11:25.989511Z",
     "iopub.status.busy": "2021-02-24T00:11:25.988926Z",
     "iopub.status.idle": "2021-02-24T00:11:25.991768Z",
     "shell.execute_reply": "2021-02-24T00:11:25.991176Z"
    },
    "papermill": {
     "duration": 0.043653,
     "end_time": "2021-02-24T00:11:25.991920",
     "exception": false,
     "start_time": "2021-02-24T00:11:25.948267",
     "status": "completed"
    },
    "tags": []
   },
   "outputs": [],
   "source": [
    "#hide\n",
    "def get_dates(df):\n",
    "    dt_cols = df.columns[~df.columns.isin(['Province/State', 'Country/Region', 'Lat', 'Long'])]\n",
    "    LAST_DATE_I = -1\n",
    "    # sometimes last column may be empty, then go backwards\n",
    "    for i in range(-1, -len(dt_cols), -1):\n",
    "        if not df[dt_cols[i]].fillna(0).eq(0).all():\n",
    "            LAST_DATE_I = i\n",
    "            break\n",
    "    return LAST_DATE_I, dt_cols"
   ]
  },
  {
   "cell_type": "code",
   "execution_count": 9,
   "id": "recent-optimization",
   "metadata": {
    "execution": {
     "iopub.execute_input": "2021-02-24T00:11:26.065644Z",
     "iopub.status.busy": "2021-02-24T00:11:26.064865Z",
     "iopub.status.idle": "2021-02-24T00:11:26.463484Z",
     "shell.execute_reply": "2021-02-24T00:11:26.462917Z"
    },
    "papermill": {
     "duration": 0.438493,
     "end_time": "2021-02-24T00:11:26.463615",
     "exception": false,
     "start_time": "2021-02-24T00:11:26.025122",
     "status": "completed"
    },
    "tags": []
   },
   "outputs": [],
   "source": [
    "#hide\n",
    "COL_REGION = 'Country/Region'\n",
    "# Confirmed, Recovered, Deaths\n",
    "df = get_frame('confirmed')\n",
    "# dft_: timeseries, dfc_: today country agg\n",
    "dft_cases = df\n",
    "dft_deaths = get_frame('deaths')\n",
    "dft_recovered = get_frame('recovered')\n",
    "LAST_DATE_I, dt_cols = get_dates(df)"
   ]
  },
  {
   "cell_type": "code",
   "execution_count": 10,
   "id": "absolute-copper",
   "metadata": {
    "execution": {
     "iopub.execute_input": "2021-02-24T00:11:26.544512Z",
     "iopub.status.busy": "2021-02-24T00:11:26.543912Z",
     "iopub.status.idle": "2021-02-24T00:11:26.546580Z",
     "shell.execute_reply": "2021-02-24T00:11:26.546083Z"
    },
    "papermill": {
     "duration": 0.048501,
     "end_time": "2021-02-24T00:11:26.546698",
     "exception": false,
     "start_time": "2021-02-24T00:11:26.498197",
     "status": "completed"
    },
    "tags": []
   },
   "outputs": [],
   "source": [
    "#hide\n",
    "LAST_DATE_I, dt_cols = get_dates(df)\n",
    "dt_today =dt_cols[LAST_DATE_I]\n",
    "# dt_5day = dt_cols[LAST_DATE_I - 5]\n",
    "dt_yday = dt_cols[LAST_DATE_I - 1]"
   ]
  },
  {
   "cell_type": "code",
   "execution_count": 11,
   "id": "restricted-sheriff",
   "metadata": {
    "execution": {
     "iopub.execute_input": "2021-02-24T00:11:26.630357Z",
     "iopub.status.busy": "2021-02-24T00:11:26.627706Z",
     "iopub.status.idle": "2021-02-24T00:11:26.634761Z",
     "shell.execute_reply": "2021-02-24T00:11:26.635322Z"
    },
    "papermill": {
     "duration": 0.055538,
     "end_time": "2021-02-24T00:11:26.635464",
     "exception": false,
     "start_time": "2021-02-24T00:11:26.579926",
     "status": "completed"
    },
    "tags": []
   },
   "outputs": [],
   "source": [
    "#hide\n",
    "dfc_cases = dft_cases.groupby(COL_REGION)[dt_today].sum()\n",
    "dfc_deaths = dft_deaths.groupby(COL_REGION)[dt_today].sum()\n",
    "# dfp_cases = dft_cases.groupby(COL_REGION)[dt_5day].sum()\n",
    "# dfp_deaths = dft_deaths.groupby(COL_REGION)[dt_5day].sum()\n",
    "dfp_cases = dft_cases.groupby(COL_REGION)[dt_yday].sum()\n",
    "dfp_deaths = dft_deaths.groupby(COL_REGION)[dt_yday].sum()"
   ]
  },
  {
   "cell_type": "code",
   "execution_count": 12,
   "id": "deluxe-hepatitis",
   "metadata": {
    "execution": {
     "iopub.execute_input": "2021-02-24T00:11:26.714137Z",
     "iopub.status.busy": "2021-02-24T00:11:26.713164Z",
     "iopub.status.idle": "2021-02-24T00:11:26.724422Z",
     "shell.execute_reply": "2021-02-24T00:11:26.727099Z"
    },
    "papermill": {
     "duration": 0.05489,
     "end_time": "2021-02-24T00:11:26.727257",
     "exception": false,
     "start_time": "2021-02-24T00:11:26.672367",
     "status": "completed"
    },
    "tags": []
   },
   "outputs": [],
   "source": [
    "#hide\n",
    "df_table = (pd.DataFrame(dict(Cases = dfc_cases, Deaths = dfc_deaths, PCases = dfp_cases, PDeaths = dfp_deaths))\n",
    "            .sort_values(by = ['Cases','Deaths'], ascending = [False, False])\n",
    "            .reset_index())"
   ]
  },
  {
   "cell_type": "code",
   "execution_count": 13,
   "id": "educational-chancellor",
   "metadata": {
    "execution": {
     "iopub.execute_input": "2021-02-24T00:11:26.816046Z",
     "iopub.status.busy": "2021-02-24T00:11:26.815174Z",
     "iopub.status.idle": "2021-02-24T00:11:26.823517Z",
     "shell.execute_reply": "2021-02-24T00:11:26.822972Z"
    },
    "papermill": {
     "duration": 0.061961,
     "end_time": "2021-02-24T00:11:26.823642",
     "exception": false,
     "start_time": "2021-02-24T00:11:26.761681",
     "status": "completed"
    },
    "tags": []
   },
   "outputs": [
    {
     "data": {
      "text/html": [
       "<div>\n",
       "<style scoped>\n",
       "    .dataframe tbody tr th:only-of-type {\n",
       "        vertical-align: middle;\n",
       "    }\n",
       "\n",
       "    .dataframe tbody tr th {\n",
       "        vertical-align: top;\n",
       "    }\n",
       "\n",
       "    .dataframe thead th {\n",
       "        text-align: right;\n",
       "    }\n",
       "</style>\n",
       "<table border=\"1\" class=\"dataframe\">\n",
       "  <thead>\n",
       "    <tr style=\"text-align: right;\">\n",
       "      <th></th>\n",
       "      <th>Country/Region</th>\n",
       "      <th>Cases</th>\n",
       "      <th>Deaths</th>\n",
       "      <th>PCases</th>\n",
       "      <th>PDeaths</th>\n",
       "      <th>Cases (+)</th>\n",
       "      <th>Deaths (+)</th>\n",
       "      <th>Fatality Rate</th>\n",
       "      <th>Continent</th>\n",
       "    </tr>\n",
       "  </thead>\n",
       "  <tbody>\n",
       "    <tr>\n",
       "      <th>0</th>\n",
       "      <td>US</td>\n",
       "      <td>28190159</td>\n",
       "      <td>500310</td>\n",
       "      <td>28134115</td>\n",
       "      <td>498897</td>\n",
       "      <td>56044</td>\n",
       "      <td>1413</td>\n",
       "      <td>1.77</td>\n",
       "      <td>North America</td>\n",
       "    </tr>\n",
       "    <tr>\n",
       "      <th>1</th>\n",
       "      <td>India</td>\n",
       "      <td>11016434</td>\n",
       "      <td>156463</td>\n",
       "      <td>11005850</td>\n",
       "      <td>156385</td>\n",
       "      <td>10584</td>\n",
       "      <td>78</td>\n",
       "      <td>1.42</td>\n",
       "      <td>Asia</td>\n",
       "    </tr>\n",
       "    <tr>\n",
       "      <th>2</th>\n",
       "      <td>Brazil</td>\n",
       "      <td>10195160</td>\n",
       "      <td>247143</td>\n",
       "      <td>10168174</td>\n",
       "      <td>246504</td>\n",
       "      <td>26986</td>\n",
       "      <td>639</td>\n",
       "      <td>2.42</td>\n",
       "      <td>South America</td>\n",
       "    </tr>\n",
       "    <tr>\n",
       "      <th>3</th>\n",
       "      <td>United Kingdom</td>\n",
       "      <td>4138233</td>\n",
       "      <td>120988</td>\n",
       "      <td>4127574</td>\n",
       "      <td>120810</td>\n",
       "      <td>10659</td>\n",
       "      <td>178</td>\n",
       "      <td>2.92</td>\n",
       "      <td>Europe</td>\n",
       "    </tr>\n",
       "    <tr>\n",
       "      <th>4</th>\n",
       "      <td>Russia</td>\n",
       "      <td>4130447</td>\n",
       "      <td>82255</td>\n",
       "      <td>4117992</td>\n",
       "      <td>81926</td>\n",
       "      <td>12455</td>\n",
       "      <td>329</td>\n",
       "      <td>1.99</td>\n",
       "      <td>Europe</td>\n",
       "    </tr>\n",
       "  </tbody>\n",
       "</table>\n",
       "</div>"
      ],
      "text/plain": [
       "   Country/Region     Cases  Deaths    PCases  PDeaths  Cases (+)  Deaths (+)  \\\n",
       "0              US  28190159  500310  28134115   498897      56044        1413   \n",
       "1           India  11016434  156463  11005850   156385      10584          78   \n",
       "2          Brazil  10195160  247143  10168174   246504      26986         639   \n",
       "3  United Kingdom   4138233  120988   4127574   120810      10659         178   \n",
       "4          Russia   4130447   82255   4117992    81926      12455         329   \n",
       "\n",
       "   Fatality Rate      Continent  \n",
       "0           1.77  North America  \n",
       "1           1.42           Asia  \n",
       "2           2.42  South America  \n",
       "3           2.92         Europe  \n",
       "4           1.99         Europe  "
      ]
     },
     "execution_count": 13,
     "metadata": {},
     "output_type": "execute_result"
    }
   ],
   "source": [
    "#hide\n",
    "for c in 'Cases, Deaths'.split(', '):\n",
    "    df_table[f'{c} (+)'] = (df_table[c] - df_table[f'P{c}']).clip(0)\n",
    "    #Clip ça veut dire, les chiffres negatif sont interdit\n",
    "df_table['Fatality Rate'] = (100* df_table['Deaths']/ df_table['Cases']).round(2)\n",
    "df_table['Continent'] = df_table['Country/Region'].map(mapping['map.continent'])\n",
    "df_table.head(5)"
   ]
  },
  {
   "cell_type": "code",
   "execution_count": 14,
   "id": "aboriginal-bulgaria",
   "metadata": {
    "execution": {
     "iopub.execute_input": "2021-02-24T00:11:26.902395Z",
     "iopub.status.busy": "2021-02-24T00:11:26.901805Z",
     "iopub.status.idle": "2021-02-24T00:11:26.903902Z",
     "shell.execute_reply": "2021-02-24T00:11:26.904453Z"
    },
    "papermill": {
     "duration": 0.04695,
     "end_time": "2021-02-24T00:11:26.904591",
     "exception": false,
     "start_time": "2021-02-24T00:11:26.857641",
     "status": "completed"
    },
    "tags": []
   },
   "outputs": [],
   "source": [
    "#hide\n",
    "#delete problematic countries from table\n",
    "df_table = df_table[~df_table['Country/Region'].isin(['Cape Verde', 'Cruise Ship', 'Kosovo'])]"
   ]
  },
  {
   "cell_type": "code",
   "execution_count": 15,
   "id": "fantastic-effect",
   "metadata": {
    "execution": {
     "iopub.execute_input": "2021-02-24T00:11:26.986908Z",
     "iopub.status.busy": "2021-02-24T00:11:26.979848Z",
     "iopub.status.idle": "2021-02-24T00:11:27.007150Z",
     "shell.execute_reply": "2021-02-24T00:11:27.007776Z"
    },
    "papermill": {
     "duration": 0.064886,
     "end_time": "2021-02-24T00:11:27.007969",
     "exception": false,
     "start_time": "2021-02-24T00:11:26.943083",
     "status": "completed"
    },
    "tags": []
   },
   "outputs": [
    {
     "data": {
      "text/html": [
       "<div>\n",
       "<style scoped>\n",
       "    .dataframe tbody tr th:only-of-type {\n",
       "        vertical-align: middle;\n",
       "    }\n",
       "\n",
       "    .dataframe tbody tr th {\n",
       "        vertical-align: top;\n",
       "    }\n",
       "\n",
       "    .dataframe thead th {\n",
       "        text-align: right;\n",
       "    }\n",
       "</style>\n",
       "<table border=\"1\" class=\"dataframe\">\n",
       "  <thead>\n",
       "    <tr style=\"text-align: right;\">\n",
       "      <th></th>\n",
       "      <th>Country/Region</th>\n",
       "      <th>Cases</th>\n",
       "      <th>Deaths</th>\n",
       "      <th>PCases</th>\n",
       "      <th>PDeaths</th>\n",
       "      <th>Cases (+)</th>\n",
       "      <th>Deaths (+)</th>\n",
       "      <th>Fatality Rate</th>\n",
       "      <th>Continent</th>\n",
       "    </tr>\n",
       "  </thead>\n",
       "  <tbody>\n",
       "    <tr>\n",
       "      <th>0</th>\n",
       "      <td>US</td>\n",
       "      <td>28190159</td>\n",
       "      <td>500310</td>\n",
       "      <td>28134115</td>\n",
       "      <td>498897</td>\n",
       "      <td>56044</td>\n",
       "      <td>1413</td>\n",
       "      <td>1.8</td>\n",
       "      <td>North America</td>\n",
       "    </tr>\n",
       "    <tr>\n",
       "      <th>1</th>\n",
       "      <td>India</td>\n",
       "      <td>11016434</td>\n",
       "      <td>156463</td>\n",
       "      <td>11005850</td>\n",
       "      <td>156385</td>\n",
       "      <td>10584</td>\n",
       "      <td>78</td>\n",
       "      <td>1.4</td>\n",
       "      <td>Asia</td>\n",
       "    </tr>\n",
       "    <tr>\n",
       "      <th>2</th>\n",
       "      <td>Brazil</td>\n",
       "      <td>10195160</td>\n",
       "      <td>247143</td>\n",
       "      <td>10168174</td>\n",
       "      <td>246504</td>\n",
       "      <td>26986</td>\n",
       "      <td>639</td>\n",
       "      <td>2.4</td>\n",
       "      <td>South America</td>\n",
       "    </tr>\n",
       "    <tr>\n",
       "      <th>3</th>\n",
       "      <td>United Kingdom</td>\n",
       "      <td>4138233</td>\n",
       "      <td>120988</td>\n",
       "      <td>4127574</td>\n",
       "      <td>120810</td>\n",
       "      <td>10659</td>\n",
       "      <td>178</td>\n",
       "      <td>2.9</td>\n",
       "      <td>Europe</td>\n",
       "    </tr>\n",
       "    <tr>\n",
       "      <th>4</th>\n",
       "      <td>Russia</td>\n",
       "      <td>4130447</td>\n",
       "      <td>82255</td>\n",
       "      <td>4117992</td>\n",
       "      <td>81926</td>\n",
       "      <td>12455</td>\n",
       "      <td>329</td>\n",
       "      <td>2.0</td>\n",
       "      <td>Europe</td>\n",
       "    </tr>\n",
       "  </tbody>\n",
       "</table>\n",
       "</div>"
      ],
      "text/plain": [
       "   Country/Region     Cases  Deaths    PCases  PDeaths  Cases (+)  Deaths (+)  \\\n",
       "0              US  28190159  500310  28134115   498897      56044        1413   \n",
       "1           India  11016434  156463  11005850   156385      10584          78   \n",
       "2          Brazil  10195160  247143  10168174   246504      26986         639   \n",
       "3  United Kingdom   4138233  120988   4127574   120810      10659         178   \n",
       "4          Russia   4130447   82255   4117992    81926      12455         329   \n",
       "\n",
       "   Fatality Rate      Continent  \n",
       "0            1.8  North America  \n",
       "1            1.4           Asia  \n",
       "2            2.4  South America  \n",
       "3            2.9         Europe  \n",
       "4            2.0         Europe  "
      ]
     },
     "execution_count": 15,
     "metadata": {},
     "output_type": "execute_result"
    }
   ],
   "source": [
    "#hide\n",
    "df_table = (pd.DataFrame(dict(Cases=dfc_cases, Deaths=dfc_deaths, PCases=dfp_cases, PDeaths=dfp_deaths))\n",
    "             .sort_values(by=['Cases', 'Deaths'], ascending=[False, False])\n",
    "             .reset_index())\n",
    "df_table.rename(columns={'index': 'Country/Region'}, inplace=True)\n",
    "for c in 'Cases, Deaths'.split(', '):\n",
    "    df_table[f'{c} (+)'] = (df_table[c] - df_table[f'P{c}']).clip(0)  # DATA BUG\n",
    "df_table['Fatality Rate'] = (100 * df_table['Deaths'] / df_table['Cases']).round(1)\n",
    "df_table['Continent'] = df_table['Country/Region'].map(mapping['map.continent'])\n",
    "df_table.head(5)"
   ]
  },
  {
   "cell_type": "code",
   "execution_count": 16,
   "id": "fewer-occasion",
   "metadata": {
    "execution": {
     "iopub.execute_input": "2021-02-24T00:11:27.083178Z",
     "iopub.status.busy": "2021-02-24T00:11:27.082596Z",
     "iopub.status.idle": "2021-02-24T00:11:27.086935Z",
     "shell.execute_reply": "2021-02-24T00:11:27.086424Z"
    },
    "papermill": {
     "duration": 0.043937,
     "end_time": "2021-02-24T00:11:27.087054",
     "exception": false,
     "start_time": "2021-02-24T00:11:27.043117",
     "status": "completed"
    },
    "tags": []
   },
   "outputs": [],
   "source": [
    "#hide\n",
    "#delete problematic countries from table\n",
    "df_table = df_table[~df_table['Country/Region'].isin(['Cape Verde', 'Cruise Ship', 'Kosovo'])]"
   ]
  },
  {
   "cell_type": "code",
   "execution_count": 17,
   "id": "related-center",
   "metadata": {
    "execution": {
     "iopub.execute_input": "2021-02-24T00:11:27.170635Z",
     "iopub.status.busy": "2021-02-24T00:11:27.170048Z",
     "iopub.status.idle": "2021-02-24T00:11:27.185121Z",
     "shell.execute_reply": "2021-02-24T00:11:27.184297Z"
    },
    "papermill": {
     "duration": 0.060946,
     "end_time": "2021-02-24T00:11:27.185305",
     "exception": false,
     "start_time": "2021-02-24T00:11:27.124359",
     "status": "completed"
    },
    "tags": []
   },
   "outputs": [],
   "source": [
    "#hide\n",
    "metrics = [df_table.columns[index] for index in [1,2,5,6]]\n",
    "# s_china = df_table[df_table['Country/Region'].eq('China')][metrics].sum().add_prefix('China ')\n",
    "s_us = df_table[df_table['Country/Region'].eq('US')][metrics].sum().add_prefix('US ')\n",
    "s_eu = df_table[df_table['Continent'].eq('Europe')][metrics].sum().add_prefix('EU ')\n",
    "s_ind = df_table[df_table['Country/Region'].eq('India')][metrics].sum().add_prefix('India ')\n",
    "summary = {'updated': pd.to_datetime(dt_today), 'since': pd.to_datetime(dt_yday)}\n",
    "summary = {'updated': pd.to_datetime(dt_today), 'since': pd.to_datetime(dt_yday)}\n",
    "summary = {**summary, **df_table[metrics].sum(), **s_ind, **s_us, **s_eu}"
   ]
  },
  {
   "cell_type": "code",
   "execution_count": 18,
   "id": "engaging-syndrome",
   "metadata": {
    "execution": {
     "iopub.execute_input": "2021-02-24T00:11:27.263629Z",
     "iopub.status.busy": "2021-02-24T00:11:27.263041Z",
     "iopub.status.idle": "2021-02-24T00:11:27.276068Z",
     "shell.execute_reply": "2021-02-24T00:11:27.276547Z"
    },
    "papermill": {
     "duration": 0.054322,
     "end_time": "2021-02-24T00:11:27.276688",
     "exception": false,
     "start_time": "2021-02-24T00:11:27.222366",
     "status": "completed"
    },
    "tags": []
   },
   "outputs": [],
   "source": [
    "#hide\n",
    "dft_ct_new_cases = dft_cases.groupby(COL_REGION)[dt_cols].sum().diff(axis=1).fillna(0).astype(int)"
   ]
  },
  {
   "cell_type": "code",
   "execution_count": 19,
   "id": "neutral-assignment",
   "metadata": {
    "execution": {
     "iopub.execute_input": "2021-02-24T00:11:27.350341Z",
     "iopub.status.busy": "2021-02-24T00:11:27.349750Z",
     "iopub.status.idle": "2021-02-24T00:11:27.352664Z",
     "shell.execute_reply": "2021-02-24T00:11:27.352083Z"
    },
    "papermill": {
     "duration": 0.042133,
     "end_time": "2021-02-24T00:11:27.352782",
     "exception": false,
     "start_time": "2021-02-24T00:11:27.310649",
     "status": "completed"
    },
    "tags": []
   },
   "outputs": [],
   "source": [
    "#hide\n",
    "everydaycases = dft_ct_new_cases.cumsum(axis=1)"
   ]
  },
  {
   "cell_type": "code",
   "execution_count": 20,
   "id": "parliamentary-calgary",
   "metadata": {
    "execution": {
     "iopub.execute_input": "2021-02-24T00:11:27.426372Z",
     "iopub.status.busy": "2021-02-24T00:11:27.425789Z",
     "iopub.status.idle": "2021-02-24T00:11:29.605147Z",
     "shell.execute_reply": "2021-02-24T00:11:29.604262Z"
    },
    "papermill": {
     "duration": 2.218573,
     "end_time": "2021-02-24T00:11:29.605363",
     "exception": false,
     "start_time": "2021-02-24T00:11:27.386790",
     "status": "completed"
    },
    "tags": []
   },
   "outputs": [],
   "source": [
    "#hide\n",
    "import pandas as pd\n",
    "import matplotlib.pyplot as plt\n",
    "import matplotlib.ticker as ticker\n",
    "import matplotlib.animation as animation\n",
    "from IPython.display import HTML"
   ]
  },
  {
   "cell_type": "code",
   "execution_count": 21,
   "id": "lasting-extraction",
   "metadata": {
    "execution": {
     "iopub.execute_input": "2021-02-24T00:11:29.688409Z",
     "iopub.status.busy": "2021-02-24T00:11:29.687774Z",
     "iopub.status.idle": "2021-02-24T00:11:29.694493Z",
     "shell.execute_reply": "2021-02-24T00:11:29.693978Z"
    },
    "papermill": {
     "duration": 0.049092,
     "end_time": "2021-02-24T00:11:29.694614",
     "exception": false,
     "start_time": "2021-02-24T00:11:29.645522",
     "status": "completed"
    },
    "tags": []
   },
   "outputs": [],
   "source": [
    "#hide\n",
    "t = everydaycases.stack()"
   ]
  },
  {
   "cell_type": "code",
   "execution_count": 22,
   "id": "premier-sleeve",
   "metadata": {
    "execution": {
     "iopub.execute_input": "2021-02-24T00:11:29.769510Z",
     "iopub.status.busy": "2021-02-24T00:11:29.768924Z",
     "iopub.status.idle": "2021-02-24T00:11:29.777886Z",
     "shell.execute_reply": "2021-02-24T00:11:29.777376Z"
    },
    "papermill": {
     "duration": 0.048779,
     "end_time": "2021-02-24T00:11:29.778009",
     "exception": false,
     "start_time": "2021-02-24T00:11:29.729230",
     "status": "completed"
    },
    "tags": []
   },
   "outputs": [],
   "source": [
    "#hide\n",
    "g = t.reset_index(['Country/Region'])"
   ]
  },
  {
   "cell_type": "code",
   "execution_count": 23,
   "id": "distributed-pittsburgh",
   "metadata": {
    "execution": {
     "iopub.execute_input": "2021-02-24T00:11:29.853212Z",
     "iopub.status.busy": "2021-02-24T00:11:29.852596Z",
     "iopub.status.idle": "2021-02-24T00:11:29.854857Z",
     "shell.execute_reply": "2021-02-24T00:11:29.854219Z"
    },
    "papermill": {
     "duration": 0.042425,
     "end_time": "2021-02-24T00:11:29.854983",
     "exception": false,
     "start_time": "2021-02-24T00:11:29.812558",
     "status": "completed"
    },
    "tags": []
   },
   "outputs": [],
   "source": [
    "#hide\n",
    "g.index.name = 'date'"
   ]
  },
  {
   "cell_type": "code",
   "execution_count": 24,
   "id": "naked-donor",
   "metadata": {
    "execution": {
     "iopub.execute_input": "2021-02-24T00:11:29.930252Z",
     "iopub.status.busy": "2021-02-24T00:11:29.929602Z",
     "iopub.status.idle": "2021-02-24T00:11:29.931787Z",
     "shell.execute_reply": "2021-02-24T00:11:29.932289Z"
    },
    "papermill": {
     "duration": 0.042386,
     "end_time": "2021-02-24T00:11:29.932424",
     "exception": false,
     "start_time": "2021-02-24T00:11:29.890038",
     "status": "completed"
    },
    "tags": []
   },
   "outputs": [],
   "source": [
    "# #hide\n",
    "# g = g.reset_index(['date'])"
   ]
  },
  {
   "cell_type": "code",
   "execution_count": 25,
   "id": "incomplete-mustang",
   "metadata": {
    "execution": {
     "iopub.execute_input": "2021-02-24T00:11:30.004553Z",
     "iopub.status.busy": "2021-02-24T00:11:30.003962Z",
     "iopub.status.idle": "2021-02-24T00:11:30.006367Z",
     "shell.execute_reply": "2021-02-24T00:11:30.005899Z"
    },
    "papermill": {
     "duration": 0.040286,
     "end_time": "2021-02-24T00:11:30.006490",
     "exception": false,
     "start_time": "2021-02-24T00:11:29.966204",
     "status": "completed"
    },
    "tags": []
   },
   "outputs": [],
   "source": [
    "#hide\n",
    "# g.head()"
   ]
  },
  {
   "cell_type": "code",
   "execution_count": 26,
   "id": "specific-kruger",
   "metadata": {
    "execution": {
     "iopub.execute_input": "2021-02-24T00:11:30.077519Z",
     "iopub.status.busy": "2021-02-24T00:11:30.076932Z",
     "iopub.status.idle": "2021-02-24T00:11:30.080241Z",
     "shell.execute_reply": "2021-02-24T00:11:30.079636Z"
    },
    "papermill": {
     "duration": 0.04016,
     "end_time": "2021-02-24T00:11:30.080362",
     "exception": false,
     "start_time": "2021-02-24T00:11:30.040202",
     "status": "completed"
    },
    "tags": []
   },
   "outputs": [],
   "source": [
    "#hide\n",
    "# g.columns = ['date','country','cases']"
   ]
  },
  {
   "cell_type": "code",
   "execution_count": 27,
   "id": "tender-conversion",
   "metadata": {
    "execution": {
     "iopub.execute_input": "2021-02-24T00:11:30.151106Z",
     "iopub.status.busy": "2021-02-24T00:11:30.150529Z",
     "iopub.status.idle": "2021-02-24T00:11:30.153056Z",
     "shell.execute_reply": "2021-02-24T00:11:30.152565Z"
    },
    "papermill": {
     "duration": 0.039063,
     "end_time": "2021-02-24T00:11:30.153171",
     "exception": false,
     "start_time": "2021-02-24T00:11:30.114108",
     "status": "completed"
    },
    "tags": []
   },
   "outputs": [],
   "source": [
    "#hide\n",
    "# g['continent'] = g.country"
   ]
  },
  {
   "cell_type": "code",
   "execution_count": 28,
   "id": "substantial-wilderness",
   "metadata": {
    "execution": {
     "iopub.execute_input": "2021-02-24T00:11:30.224851Z",
     "iopub.status.busy": "2021-02-24T00:11:30.224273Z",
     "iopub.status.idle": "2021-02-24T00:11:30.226873Z",
     "shell.execute_reply": "2021-02-24T00:11:30.227445Z"
    },
    "papermill": {
     "duration": 0.040837,
     "end_time": "2021-02-24T00:11:30.227578",
     "exception": false,
     "start_time": "2021-02-24T00:11:30.186741",
     "status": "completed"
    },
    "tags": []
   },
   "outputs": [],
   "source": [
    "#hide\n",
    "# cols = list(g.columns.values)"
   ]
  },
  {
   "cell_type": "code",
   "execution_count": 29,
   "id": "solved-farming",
   "metadata": {
    "execution": {
     "iopub.execute_input": "2021-02-24T00:11:30.298149Z",
     "iopub.status.busy": "2021-02-24T00:11:30.297574Z",
     "iopub.status.idle": "2021-02-24T00:11:30.299936Z",
     "shell.execute_reply": "2021-02-24T00:11:30.299419Z"
    },
    "papermill": {
     "duration": 0.038867,
     "end_time": "2021-02-24T00:11:30.300053",
     "exception": false,
     "start_time": "2021-02-24T00:11:30.261186",
     "status": "completed"
    },
    "tags": []
   },
   "outputs": [],
   "source": [
    "#hide\n",
    "# cols.insert(0, cols.pop())"
   ]
  },
  {
   "cell_type": "code",
   "execution_count": 30,
   "id": "executed-adoption",
   "metadata": {
    "execution": {
     "iopub.execute_input": "2021-02-24T00:11:30.371016Z",
     "iopub.status.busy": "2021-02-24T00:11:30.370430Z",
     "iopub.status.idle": "2021-02-24T00:11:30.374308Z",
     "shell.execute_reply": "2021-02-24T00:11:30.373840Z"
    },
    "papermill": {
     "duration": 0.040857,
     "end_time": "2021-02-24T00:11:30.374425",
     "exception": false,
     "start_time": "2021-02-24T00:11:30.333568",
     "status": "completed"
    },
    "tags": []
   },
   "outputs": [],
   "source": [
    "#hide\n",
    "# g = g[cols]"
   ]
  },
  {
   "cell_type": "code",
   "execution_count": 31,
   "id": "subject-dublin",
   "metadata": {
    "execution": {
     "iopub.execute_input": "2021-02-24T00:11:30.447204Z",
     "iopub.status.busy": "2021-02-24T00:11:30.446240Z",
     "iopub.status.idle": "2021-02-24T00:11:30.448243Z",
     "shell.execute_reply": "2021-02-24T00:11:30.449001Z"
    },
    "papermill": {
     "duration": 0.041206,
     "end_time": "2021-02-24T00:11:30.449202",
     "exception": false,
     "start_time": "2021-02-24T00:11:30.407996",
     "status": "completed"
    },
    "tags": []
   },
   "outputs": [],
   "source": [
    "#hide\n",
    "# g['continent'] = g['continent'].map(mapping['map.continent'])"
   ]
  },
  {
   "cell_type": "code",
   "execution_count": 32,
   "id": "freelance-scout",
   "metadata": {
    "execution": {
     "iopub.execute_input": "2021-02-24T00:11:30.521765Z",
     "iopub.status.busy": "2021-02-24T00:11:30.521168Z",
     "iopub.status.idle": "2021-02-24T00:11:30.525535Z",
     "shell.execute_reply": "2021-02-24T00:11:30.525054Z"
    },
    "papermill": {
     "duration": 0.042608,
     "end_time": "2021-02-24T00:11:30.525653",
     "exception": false,
     "start_time": "2021-02-24T00:11:30.483045",
     "status": "completed"
    },
    "tags": []
   },
   "outputs": [],
   "source": [
    "#hide\n",
    "# g.head()"
   ]
  },
  {
   "cell_type": "code",
   "execution_count": 33,
   "id": "limited-engine",
   "metadata": {
    "execution": {
     "iopub.execute_input": "2021-02-24T00:11:30.600513Z",
     "iopub.status.busy": "2021-02-24T00:11:30.599436Z",
     "iopub.status.idle": "2021-02-24T00:11:30.601590Z",
     "shell.execute_reply": "2021-02-24T00:11:30.602342Z"
    },
    "papermill": {
     "duration": 0.04225,
     "end_time": "2021-02-24T00:11:30.602475",
     "exception": false,
     "start_time": "2021-02-24T00:11:30.560225",
     "status": "completed"
    },
    "tags": []
   },
   "outputs": [],
   "source": [
    "# hide\n",
    "# g['date'] = g['date'].astype('datetime64[ns]')"
   ]
  },
  {
   "cell_type": "code",
   "execution_count": 34,
   "id": "sophisticated-supervisor",
   "metadata": {
    "execution": {
     "iopub.execute_input": "2021-02-24T00:11:30.674975Z",
     "iopub.status.busy": "2021-02-24T00:11:30.674393Z",
     "iopub.status.idle": "2021-02-24T00:11:30.676728Z",
     "shell.execute_reply": "2021-02-24T00:11:30.676236Z"
    },
    "papermill": {
     "duration": 0.040539,
     "end_time": "2021-02-24T00:11:30.676846",
     "exception": false,
     "start_time": "2021-02-24T00:11:30.636307",
     "status": "completed"
    },
    "tags": []
   },
   "outputs": [],
   "source": [
    "#hide\n",
    "# g['date'] = g.date.dt.dayofyear"
   ]
  },
  {
   "cell_type": "code",
   "execution_count": 35,
   "id": "inside-dubai",
   "metadata": {
    "execution": {
     "iopub.execute_input": "2021-02-24T00:11:30.748851Z",
     "iopub.status.busy": "2021-02-24T00:11:30.748256Z",
     "iopub.status.idle": "2021-02-24T00:11:30.751249Z",
     "shell.execute_reply": "2021-02-24T00:11:30.751792Z"
    },
    "papermill": {
     "duration": 0.041813,
     "end_time": "2021-02-24T00:11:30.751960",
     "exception": false,
     "start_time": "2021-02-24T00:11:30.710147",
     "status": "completed"
    },
    "tags": []
   },
   "outputs": [],
   "source": [
    "#hide\n",
    "# g = g.rename(columns= {'continent':'group','country':'name','cases':'value'})"
   ]
  },
  {
   "cell_type": "code",
   "execution_count": 36,
   "id": "fleet-motorcycle",
   "metadata": {
    "execution": {
     "iopub.execute_input": "2021-02-24T00:11:30.824267Z",
     "iopub.status.busy": "2021-02-24T00:11:30.823650Z",
     "iopub.status.idle": "2021-02-24T00:11:30.826206Z",
     "shell.execute_reply": "2021-02-24T00:11:30.825709Z"
    },
    "papermill": {
     "duration": 0.040011,
     "end_time": "2021-02-24T00:11:30.826327",
     "exception": false,
     "start_time": "2021-02-24T00:11:30.786316",
     "status": "completed"
    },
    "tags": []
   },
   "outputs": [],
   "source": [
    "#hide\n",
    "# cols = ['name','group','day','value']"
   ]
  },
  {
   "cell_type": "code",
   "execution_count": 37,
   "id": "continued-sleeping",
   "metadata": {
    "execution": {
     "iopub.execute_input": "2021-02-24T00:11:30.898269Z",
     "iopub.status.busy": "2021-02-24T00:11:30.897679Z",
     "iopub.status.idle": "2021-02-24T00:11:30.899629Z",
     "shell.execute_reply": "2021-02-24T00:11:30.900155Z"
    },
    "papermill": {
     "duration": 0.04008,
     "end_time": "2021-02-24T00:11:30.900297",
     "exception": false,
     "start_time": "2021-02-24T00:11:30.860217",
     "status": "completed"
    },
    "tags": []
   },
   "outputs": [],
   "source": [
    "#hide\n",
    "# g.rename(columns= {'date':'day'},inplace = True)"
   ]
  },
  {
   "cell_type": "code",
   "execution_count": 38,
   "id": "major-fight",
   "metadata": {
    "execution": {
     "iopub.execute_input": "2021-02-24T00:11:30.972403Z",
     "iopub.status.busy": "2021-02-24T00:11:30.971790Z",
     "iopub.status.idle": "2021-02-24T00:11:30.974312Z",
     "shell.execute_reply": "2021-02-24T00:11:30.974809Z"
    },
    "papermill": {
     "duration": 0.040789,
     "end_time": "2021-02-24T00:11:30.974940",
     "exception": false,
     "start_time": "2021-02-24T00:11:30.934151",
     "status": "completed"
    },
    "tags": []
   },
   "outputs": [],
   "source": [
    "#hide\n",
    "# g = g[cols]"
   ]
  },
  {
   "cell_type": "code",
   "execution_count": 39,
   "id": "structured-mobile",
   "metadata": {
    "execution": {
     "iopub.execute_input": "2021-02-24T00:11:31.046845Z",
     "iopub.status.busy": "2021-02-24T00:11:31.046265Z",
     "iopub.status.idle": "2021-02-24T00:11:31.048693Z",
     "shell.execute_reply": "2021-02-24T00:11:31.048223Z"
    },
    "papermill": {
     "duration": 0.039804,
     "end_time": "2021-02-24T00:11:31.048809",
     "exception": false,
     "start_time": "2021-02-24T00:11:31.009005",
     "status": "completed"
    },
    "tags": []
   },
   "outputs": [],
   "source": [
    "# #hide\n",
    "# g = g[g.group.notna()]"
   ]
  },
  {
   "cell_type": "code",
   "execution_count": 40,
   "id": "determined-closing",
   "metadata": {
    "execution": {
     "iopub.execute_input": "2021-02-24T00:11:31.119517Z",
     "iopub.status.busy": "2021-02-24T00:11:31.118965Z",
     "iopub.status.idle": "2021-02-24T00:11:31.121342Z",
     "shell.execute_reply": "2021-02-24T00:11:31.120853Z"
    },
    "papermill": {
     "duration": 0.038786,
     "end_time": "2021-02-24T00:11:31.121455",
     "exception": false,
     "start_time": "2021-02-24T00:11:31.082669",
     "status": "completed"
    },
    "tags": []
   },
   "outputs": [],
   "source": [
    "# #hide\n",
    "# colors = dict(zip(\n",
    "#     [\"Oceania\", \"Europe\", \"Asia\", \"South America\", \"Middle East\", \"North America\", \"Africa\"],\n",
    "#     [\"#adb0ff\", \"#ffb3ff\", \"#90d595\", \"#e48381\", \"#aafbff\", \"#f7bb5f\", \"#eafb50\"]\n",
    "# ))\n",
    "# group_lk = g.set_index('name')['group'].to_dict()"
   ]
  },
  {
   "cell_type": "code",
   "execution_count": null,
   "id": "gross-drinking",
   "metadata": {
    "papermill": {
     "duration": 0.033454,
     "end_time": "2021-02-24T00:11:31.188300",
     "exception": false,
     "start_time": "2021-02-24T00:11:31.154846",
     "status": "completed"
    },
    "tags": []
   },
   "outputs": [],
   "source": []
  },
  {
   "cell_type": "code",
   "execution_count": 41,
   "id": "subject-macintosh",
   "metadata": {
    "execution": {
     "iopub.execute_input": "2021-02-24T00:11:31.262682Z",
     "iopub.status.busy": "2021-02-24T00:11:31.261792Z",
     "iopub.status.idle": "2021-02-24T00:11:31.263575Z",
     "shell.execute_reply": "2021-02-24T00:11:31.264281Z"
    },
    "papermill": {
     "duration": 0.04231,
     "end_time": "2021-02-24T00:11:31.264466",
     "exception": false,
     "start_time": "2021-02-24T00:11:31.222156",
     "status": "completed"
    },
    "tags": []
   },
   "outputs": [],
   "source": [
    "# #hide\n",
    "# fig, ax = plt.subplots(figsize=(15, 8))\n",
    "\n",
    "# def draw_barchart(current_day):\n",
    "#     dff = g[g['day'].eq(current_day)].sort_values(by='value', ascending=True).tail(10)\n",
    "#     ax.clear()\n",
    "#     ax.barh(dff['name'], dff['value'], color=[colors[group_lk[x]] for x in dff['name']])\n",
    "#     dx = dff['value'].max() / 200\n",
    "    \n",
    "#     for i, (value, name) in enumerate(zip(dff['value'], dff['name'])):\n",
    "#         ax.text(value-dx, i,     name,           size=14, weight=600, ha='right', va='bottom')\n",
    "#         ax.text(value-dx, i-.25, group_lk[name], size=10, color='#444444', ha='right', va='baseline')\n",
    "#         ax.text(value+dx, i,     f'{value:,.0f}',  size=14, ha='left',  va='center')\n",
    "#     ax.text(1, 0.4, current_day, transform=ax.transAxes, color='#777777', size=46, ha='right', weight=800)\n",
    "#     ax.text(0, 1.06, 'Population (thousands)', transform=ax.transAxes, size=12, color='#777777')\n",
    "#     ax.xaxis.set_major_formatter(ticker.StrMethodFormatter('{x:,.0f}'))\n",
    "#     ax.xaxis.set_ticks_position('top')\n",
    "#     ax.tick_params(axis='x', colors='#777777', labelsize=12)\n",
    "#     ax.set_yticks([])\n",
    "#     ax.margins(0, 0.01)\n",
    "#     ax.grid(which='major', axis='x', linestyle='-')\n",
    "#     ax.set_axisbelow(True)\n",
    "    \n",
    "#     ax.text(0, 1.15, 'Coronavirus',\n",
    "#             transform=ax.transAxes, size=24, weight=600, ha='left', va='top')\n",
    "# #     ax.text(1, 0, 'by @pratapvardhan; credit @jburnmurdoch', transform=ax.transAxes, color='#777777', ha='right',\n",
    "# #             bbox=dict(facecolor='white', alpha=0.8, edgecolor='white'))\n",
    "#     plt.box(False)"
   ]
  },
  {
   "cell_type": "code",
   "execution_count": 42,
   "id": "sexual-wages",
   "metadata": {
    "execution": {
     "iopub.execute_input": "2021-02-24T00:11:31.340330Z",
     "iopub.status.busy": "2021-02-24T00:11:31.339701Z",
     "iopub.status.idle": "2021-02-24T00:11:31.341942Z",
     "shell.execute_reply": "2021-02-24T00:11:31.341445Z"
    },
    "papermill": {
     "duration": 0.04132,
     "end_time": "2021-02-24T00:11:31.342056",
     "exception": false,
     "start_time": "2021-02-24T00:11:31.300736",
     "status": "completed"
    },
    "tags": []
   },
   "outputs": [],
   "source": [
    "# #hide_input\n",
    "# fig, ax = plt.subplots(figsize=(15, 8))\n",
    "# animator = animation.FuncAnimation(fig, draw_barchart, frames=range(g.day.values.min(), g.day.values.max()))\n",
    "# HTML(animator.to_jshtml())\n",
    "# # or use animator.to_html5_video() or animator.save() "
   ]
  },
  {
   "cell_type": "code",
   "execution_count": null,
   "id": "australian-container",
   "metadata": {
    "papermill": {
     "duration": 0.033617,
     "end_time": "2021-02-24T00:11:31.411318",
     "exception": false,
     "start_time": "2021-02-24T00:11:31.377701",
     "status": "completed"
    },
    "tags": []
   },
   "outputs": [],
   "source": []
  },
  {
   "cell_type": "code",
   "execution_count": null,
   "id": "mediterranean-pontiac",
   "metadata": {
    "papermill": {
     "duration": 0.033821,
     "end_time": "2021-02-24T00:11:31.481119",
     "exception": false,
     "start_time": "2021-02-24T00:11:31.447298",
     "status": "completed"
    },
    "tags": []
   },
   "outputs": [],
   "source": []
  },
  {
   "cell_type": "code",
   "execution_count": null,
   "id": "aging-legislature",
   "metadata": {
    "papermill": {
     "duration": 0.034091,
     "end_time": "2021-02-24T00:11:31.550032",
     "exception": false,
     "start_time": "2021-02-24T00:11:31.515941",
     "status": "completed"
    },
    "tags": []
   },
   "outputs": [],
   "source": []
  }
 ],
 "metadata": {
  "kernelspec": {
   "display_name": "Python 3",
   "language": "python",
   "name": "python3"
  },
  "language_info": {
   "codemirror_mode": {
    "name": "ipython",
    "version": 3
   },
   "file_extension": ".py",
   "mimetype": "text/x-python",
   "name": "python",
   "nbconvert_exporter": "python",
   "pygments_lexer": "ipython3",
   "version": "3.6.12"
  },
  "papermill": {
   "duration": 8.276459,
   "end_time": "2021-02-24T00:11:31.890688",
   "environment_variables": {},
   "exception": null,
   "input_path": "2020-03-21-covid19exp.ipynb",
   "output_path": "2020-03-21-covid19exp.ipynb",
   "parameters": {},
   "start_time": "2021-02-24T00:11:23.614229",
   "version": "2.0.0"
  }
 },
 "nbformat": 4,
 "nbformat_minor": 5
}