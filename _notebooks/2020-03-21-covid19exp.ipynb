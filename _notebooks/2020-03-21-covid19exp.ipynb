{
 "cells": [
  {
   "cell_type": "markdown",
   "id": "muslim-click",
   "metadata": {
    "papermill": {
     "duration": 0.041116,
     "end_time": "2022-07-04T12:18:47.782996",
     "exception": false,
     "start_time": "2022-07-04T12:18:47.741880",
     "status": "completed"
    },
    "tags": []
   },
   "source": [
    "# COVID-19 Case Race\n",
    "> A race chart to see rising cases around the world\n",
    "\n",
    "- author: Hargun Oberoi\n",
    "- image: images/covid-overview.png\n",
    "- hide: false\n",
    "- badges: false"
   ]
  },
  {
   "cell_type": "code",
   "execution_count": 1,
   "id": "proof-material",
   "metadata": {
    "execution": {
     "iopub.execute_input": "2022-07-04T12:18:47.868610Z",
     "iopub.status.busy": "2022-07-04T12:18:47.867643Z",
     "iopub.status.idle": "2022-07-04T12:18:48.280209Z",
     "shell.execute_reply": "2022-07-04T12:18:48.280871Z"
    },
    "papermill": {
     "duration": 0.459491,
     "end_time": "2022-07-04T12:18:48.281064",
     "exception": false,
     "start_time": "2022-07-04T12:18:47.821573",
     "status": "completed"
    },
    "tags": []
   },
   "outputs": [],
   "source": [
    "#hide\n",
    "import numpy as np\n",
    "import pandas as pd\n",
    "from jinja2 import Template\n",
    "from IPython.display import HTML"
   ]
  },
  {
   "cell_type": "code",
   "execution_count": 2,
   "id": "developed-terminology",
   "metadata": {
    "execution": {
     "iopub.execute_input": "2022-07-04T12:18:48.362426Z",
     "iopub.status.busy": "2022-07-04T12:18:48.361621Z",
     "iopub.status.idle": "2022-07-04T12:18:48.364725Z",
     "shell.execute_reply": "2022-07-04T12:18:48.363933Z"
    },
    "papermill": {
     "duration": 0.044542,
     "end_time": "2022-07-04T12:18:48.364974",
     "exception": false,
     "start_time": "2022-07-04T12:18:48.320432",
     "status": "completed"
    },
    "tags": []
   },
   "outputs": [],
   "source": [
    "#hide\n",
    "\n",
    "# FETCH\n",
    "base_url = 'https://raw.githubusercontent.com/pratapvardhan/notebooks/master/covid19/'\n",
    "paths = {\n",
    "    'mapping': base_url + 'mapping_countries.csv',\n",
    "    'overview': base_url + 'overview.tpl'\n",
    "}"
   ]
  },
  {
   "cell_type": "code",
   "execution_count": 3,
   "id": "dynamic-saver",
   "metadata": {
    "execution": {
     "iopub.execute_input": "2022-07-04T12:18:48.451931Z",
     "iopub.status.busy": "2022-07-04T12:18:48.451293Z",
     "iopub.status.idle": "2022-07-04T12:18:48.455522Z",
     "shell.execute_reply": "2022-07-04T12:18:48.456240Z"
    },
    "papermill": {
     "duration": 0.053051,
     "end_time": "2022-07-04T12:18:48.456372",
     "exception": false,
     "start_time": "2022-07-04T12:18:48.403321",
     "status": "completed"
    },
    "tags": []
   },
   "outputs": [
    {
     "data": {
      "text/plain": [
       "'https://raw.githubusercontent.com/pratapvardhan/notebooks/master/covid19/mapping_countries.csv'"
      ]
     },
     "execution_count": 3,
     "metadata": {},
     "output_type": "execute_result"
    }
   ],
   "source": [
    "#hide\n",
    "paths['mapping']"
   ]
  },
  {
   "cell_type": "code",
   "execution_count": 4,
   "id": "urban-software",
   "metadata": {
    "execution": {
     "iopub.execute_input": "2022-07-04T12:18:48.536731Z",
     "iopub.status.busy": "2022-07-04T12:18:48.535862Z",
     "iopub.status.idle": "2022-07-04T12:18:48.538981Z",
     "shell.execute_reply": "2022-07-04T12:18:48.539633Z"
    },
    "papermill": {
     "duration": 0.047383,
     "end_time": "2022-07-04T12:18:48.539851",
     "exception": false,
     "start_time": "2022-07-04T12:18:48.492468",
     "status": "completed"
    },
    "tags": []
   },
   "outputs": [],
   "source": [
    "#hide\n",
    "def get_mappings(url):\n",
    "    df = pd.read_csv(url)\n",
    "    return {\n",
    "        'df': df,\n",
    "        'replace.country': dict(df.dropna(subset=['Name']).set_index('Country')['Name']),\n",
    "        'map.continent': dict(df.set_index('Name')['Continent'])\n",
    "    }"
   ]
  },
  {
   "cell_type": "code",
   "execution_count": 5,
   "id": "intimate-machinery",
   "metadata": {
    "execution": {
     "iopub.execute_input": "2022-07-04T12:18:48.615830Z",
     "iopub.status.busy": "2022-07-04T12:18:48.614827Z",
     "iopub.status.idle": "2022-07-04T12:18:48.645253Z",
     "shell.execute_reply": "2022-07-04T12:18:48.644592Z"
    },
    "papermill": {
     "duration": 0.070698,
     "end_time": "2022-07-04T12:18:48.645448",
     "exception": false,
     "start_time": "2022-07-04T12:18:48.574750",
     "status": "completed"
    },
    "tags": []
   },
   "outputs": [],
   "source": [
    "#hide\n",
    "mapping = get_mappings(paths['mapping'])"
   ]
  },
  {
   "cell_type": "code",
   "execution_count": 6,
   "id": "certified-tactics",
   "metadata": {
    "execution": {
     "iopub.execute_input": "2022-07-04T12:18:48.724504Z",
     "iopub.status.busy": "2022-07-04T12:18:48.723845Z",
     "iopub.status.idle": "2022-07-04T12:18:48.728638Z",
     "shell.execute_reply": "2022-07-04T12:18:48.728039Z"
    },
    "papermill": {
     "duration": 0.046176,
     "end_time": "2022-07-04T12:18:48.728756",
     "exception": false,
     "start_time": "2022-07-04T12:18:48.682580",
     "status": "completed"
    },
    "tags": []
   },
   "outputs": [],
   "source": [
    "#hide\n",
    "def get_template(path):\n",
    "    from urllib.parse import urlparse\n",
    "    if bool(urlparse(path).netloc):\n",
    "        from urllib.request import urlopen\n",
    "        return urlopen(path).read().decode('utf8')\n",
    "    return open(path).read()"
   ]
  },
  {
   "cell_type": "code",
   "execution_count": 7,
   "id": "realistic-blast",
   "metadata": {
    "execution": {
     "iopub.execute_input": "2022-07-04T12:18:48.808897Z",
     "iopub.status.busy": "2022-07-04T12:18:48.808115Z",
     "iopub.status.idle": "2022-07-04T12:18:48.810967Z",
     "shell.execute_reply": "2022-07-04T12:18:48.810305Z"
    },
    "papermill": {
     "duration": 0.045546,
     "end_time": "2022-07-04T12:18:48.811085",
     "exception": false,
     "start_time": "2022-07-04T12:18:48.765539",
     "status": "completed"
    },
    "tags": []
   },
   "outputs": [],
   "source": [
    "#hide\n",
    "def get_frame(name):\n",
    "    url = (\n",
    "        'https://raw.githubusercontent.com/CSSEGISandData/COVID-19/master/csse_covid_19_data/'\n",
    "        f'csse_covid_19_time_series/time_series_covid19_{name}_global.csv')\n",
    "    df = pd.read_csv(url)\n",
    "    # rename countries\n",
    "    df['Country/Region'] = df['Country/Region'].replace(mapping['replace.country'])\n",
    "    return df"
   ]
  },
  {
   "cell_type": "code",
   "execution_count": 8,
   "id": "affiliated-characterization",
   "metadata": {
    "execution": {
     "iopub.execute_input": "2022-07-04T12:18:48.892664Z",
     "iopub.status.busy": "2022-07-04T12:18:48.891697Z",
     "iopub.status.idle": "2022-07-04T12:18:48.895577Z",
     "shell.execute_reply": "2022-07-04T12:18:48.894384Z"
    },
    "papermill": {
     "duration": 0.047587,
     "end_time": "2022-07-04T12:18:48.895722",
     "exception": false,
     "start_time": "2022-07-04T12:18:48.848135",
     "status": "completed"
    },
    "tags": []
   },
   "outputs": [],
   "source": [
    "#hide\n",
    "def get_dates(df):\n",
    "    dt_cols = df.columns[~df.columns.isin(['Province/State', 'Country/Region', 'Lat', 'Long'])]\n",
    "    LAST_DATE_I = -1\n",
    "    # sometimes last column may be empty, then go backwards\n",
    "    for i in range(-1, -len(dt_cols), -1):\n",
    "        if not df[dt_cols[i]].fillna(0).eq(0).all():\n",
    "            LAST_DATE_I = i\n",
    "            break\n",
    "    return LAST_DATE_I, dt_cols"
   ]
  },
  {
   "cell_type": "code",
   "execution_count": 9,
   "id": "recent-optimization",
   "metadata": {
    "execution": {
     "iopub.execute_input": "2022-07-04T12:18:48.976462Z",
     "iopub.status.busy": "2022-07-04T12:18:48.975574Z",
     "iopub.status.idle": "2022-07-04T12:18:49.423987Z",
     "shell.execute_reply": "2022-07-04T12:18:49.423380Z"
    },
    "papermill": {
     "duration": 0.491591,
     "end_time": "2022-07-04T12:18:49.424124",
     "exception": false,
     "start_time": "2022-07-04T12:18:48.932533",
     "status": "completed"
    },
    "tags": []
   },
   "outputs": [],
   "source": [
    "#hide\n",
    "COL_REGION = 'Country/Region'\n",
    "# Confirmed, Recovered, Deaths\n",
    "df = get_frame('confirmed')\n",
    "# dft_: timeseries, dfc_: today country agg\n",
    "dft_cases = df\n",
    "dft_deaths = get_frame('deaths')\n",
    "dft_recovered = get_frame('recovered')\n",
    "LAST_DATE_I, dt_cols = get_dates(df)"
   ]
  },
  {
   "cell_type": "code",
   "execution_count": 10,
   "id": "absolute-copper",
   "metadata": {
    "execution": {
     "iopub.execute_input": "2022-07-04T12:18:49.504131Z",
     "iopub.status.busy": "2022-07-04T12:18:49.503306Z",
     "iopub.status.idle": "2022-07-04T12:18:49.509595Z",
     "shell.execute_reply": "2022-07-04T12:18:49.510269Z"
    },
    "papermill": {
     "duration": 0.047476,
     "end_time": "2022-07-04T12:18:49.510402",
     "exception": false,
     "start_time": "2022-07-04T12:18:49.462926",
     "status": "completed"
    },
    "tags": []
   },
   "outputs": [],
   "source": [
    "#hide\n",
    "LAST_DATE_I, dt_cols = get_dates(df)\n",
    "dt_today =dt_cols[LAST_DATE_I]\n",
    "# dt_5day = dt_cols[LAST_DATE_I - 5]\n",
    "dt_yday = dt_cols[LAST_DATE_I - 1]"
   ]
  },
  {
   "cell_type": "code",
   "execution_count": 11,
   "id": "restricted-sheriff",
   "metadata": {
    "execution": {
     "iopub.execute_input": "2022-07-04T12:18:49.594443Z",
     "iopub.status.busy": "2022-07-04T12:18:49.593693Z",
     "iopub.status.idle": "2022-07-04T12:18:49.603730Z",
     "shell.execute_reply": "2022-07-04T12:18:49.603035Z"
    },
    "papermill": {
     "duration": 0.054597,
     "end_time": "2022-07-04T12:18:49.603877",
     "exception": false,
     "start_time": "2022-07-04T12:18:49.549280",
     "status": "completed"
    },
    "tags": []
   },
   "outputs": [],
   "source": [
    "#hide\n",
    "dfc_cases = dft_cases.groupby(COL_REGION)[dt_today].sum()\n",
    "dfc_deaths = dft_deaths.groupby(COL_REGION)[dt_today].sum()\n",
    "# dfp_cases = dft_cases.groupby(COL_REGION)[dt_5day].sum()\n",
    "# dfp_deaths = dft_deaths.groupby(COL_REGION)[dt_5day].sum()\n",
    "dfp_cases = dft_cases.groupby(COL_REGION)[dt_yday].sum()\n",
    "dfp_deaths = dft_deaths.groupby(COL_REGION)[dt_yday].sum()"
   ]
  },
  {
   "cell_type": "code",
   "execution_count": 12,
   "id": "deluxe-hepatitis",
   "metadata": {
    "execution": {
     "iopub.execute_input": "2022-07-04T12:18:49.684171Z",
     "iopub.status.busy": "2022-07-04T12:18:49.683488Z",
     "iopub.status.idle": "2022-07-04T12:18:49.689149Z",
     "shell.execute_reply": "2022-07-04T12:18:49.689787Z"
    },
    "papermill": {
     "duration": 0.049741,
     "end_time": "2022-07-04T12:18:49.689917",
     "exception": false,
     "start_time": "2022-07-04T12:18:49.640176",
     "status": "completed"
    },
    "tags": []
   },
   "outputs": [],
   "source": [
    "#hide\n",
    "df_table = (pd.DataFrame(dict(Cases = dfc_cases, Deaths = dfc_deaths, PCases = dfp_cases, PDeaths = dfp_deaths))\n",
    "            .sort_values(by = ['Cases','Deaths'], ascending = [False, False])\n",
    "            .reset_index())"
   ]
  },
  {
   "cell_type": "code",
   "execution_count": 13,
   "id": "educational-chancellor",
   "metadata": {
    "execution": {
     "iopub.execute_input": "2022-07-04T12:18:49.784906Z",
     "iopub.status.busy": "2022-07-04T12:18:49.779517Z",
     "iopub.status.idle": "2022-07-04T12:18:49.795027Z",
     "shell.execute_reply": "2022-07-04T12:18:49.794503Z"
    },
    "papermill": {
     "duration": 0.069815,
     "end_time": "2022-07-04T12:18:49.795141",
     "exception": false,
     "start_time": "2022-07-04T12:18:49.725326",
     "status": "completed"
    },
    "tags": []
   },
   "outputs": [
    {
     "data": {
      "text/html": [
       "<div>\n",
       "<style scoped>\n",
       "    .dataframe tbody tr th:only-of-type {\n",
       "        vertical-align: middle;\n",
       "    }\n",
       "\n",
       "    .dataframe tbody tr th {\n",
       "        vertical-align: top;\n",
       "    }\n",
       "\n",
       "    .dataframe thead th {\n",
       "        text-align: right;\n",
       "    }\n",
       "</style>\n",
       "<table border=\"1\" class=\"dataframe\">\n",
       "  <thead>\n",
       "    <tr style=\"text-align: right;\">\n",
       "      <th></th>\n",
       "      <th>Country/Region</th>\n",
       "      <th>Cases</th>\n",
       "      <th>Deaths</th>\n",
       "      <th>PCases</th>\n",
       "      <th>PDeaths</th>\n",
       "      <th>Cases (+)</th>\n",
       "      <th>Deaths (+)</th>\n",
       "      <th>Fatality Rate</th>\n",
       "      <th>Continent</th>\n",
       "    </tr>\n",
       "  </thead>\n",
       "  <tbody>\n",
       "    <tr>\n",
       "      <th>0</th>\n",
       "      <td>US</td>\n",
       "      <td>87843561</td>\n",
       "      <td>1017848</td>\n",
       "      <td>87838623</td>\n",
       "      <td>1017846</td>\n",
       "      <td>4938</td>\n",
       "      <td>2</td>\n",
       "      <td>1.16</td>\n",
       "      <td>North America</td>\n",
       "    </tr>\n",
       "    <tr>\n",
       "      <th>1</th>\n",
       "      <td>India</td>\n",
       "      <td>43518564</td>\n",
       "      <td>525223</td>\n",
       "      <td>43502429</td>\n",
       "      <td>525199</td>\n",
       "      <td>16135</td>\n",
       "      <td>24</td>\n",
       "      <td>1.21</td>\n",
       "      <td>Asia</td>\n",
       "    </tr>\n",
       "    <tr>\n",
       "      <th>2</th>\n",
       "      <td>Brazil</td>\n",
       "      <td>32490422</td>\n",
       "      <td>671911</td>\n",
       "      <td>32471847</td>\n",
       "      <td>671858</td>\n",
       "      <td>18575</td>\n",
       "      <td>53</td>\n",
       "      <td>2.07</td>\n",
       "      <td>South America</td>\n",
       "    </tr>\n",
       "    <tr>\n",
       "      <th>3</th>\n",
       "      <td>France</td>\n",
       "      <td>31410383</td>\n",
       "      <td>150624</td>\n",
       "      <td>31410383</td>\n",
       "      <td>150624</td>\n",
       "      <td>0</td>\n",
       "      <td>0</td>\n",
       "      <td>0.48</td>\n",
       "      <td>Europe</td>\n",
       "    </tr>\n",
       "    <tr>\n",
       "      <th>4</th>\n",
       "      <td>Germany</td>\n",
       "      <td>28394995</td>\n",
       "      <td>141295</td>\n",
       "      <td>28392630</td>\n",
       "      <td>141292</td>\n",
       "      <td>2365</td>\n",
       "      <td>3</td>\n",
       "      <td>0.50</td>\n",
       "      <td>Europe</td>\n",
       "    </tr>\n",
       "  </tbody>\n",
       "</table>\n",
       "</div>"
      ],
      "text/plain": [
       "  Country/Region     Cases   Deaths    PCases  PDeaths  Cases (+)  Deaths (+)  \\\n",
       "0             US  87843561  1017848  87838623  1017846       4938           2   \n",
       "1          India  43518564   525223  43502429   525199      16135          24   \n",
       "2         Brazil  32490422   671911  32471847   671858      18575          53   \n",
       "3         France  31410383   150624  31410383   150624          0           0   \n",
       "4        Germany  28394995   141295  28392630   141292       2365           3   \n",
       "\n",
       "   Fatality Rate      Continent  \n",
       "0           1.16  North America  \n",
       "1           1.21           Asia  \n",
       "2           2.07  South America  \n",
       "3           0.48         Europe  \n",
       "4           0.50         Europe  "
      ]
     },
     "execution_count": 13,
     "metadata": {},
     "output_type": "execute_result"
    }
   ],
   "source": [
    "#hide\n",
    "for c in 'Cases, Deaths'.split(', '):\n",
    "    df_table[f'{c} (+)'] = (df_table[c] - df_table[f'P{c}']).clip(0)\n",
    "    #Clip ça veut dire, les chiffres negatif sont interdit\n",
    "df_table['Fatality Rate'] = (100* df_table['Deaths']/ df_table['Cases']).round(2)\n",
    "df_table['Continent'] = df_table['Country/Region'].map(mapping['map.continent'])\n",
    "df_table.head(5)"
   ]
  },
  {
   "cell_type": "code",
   "execution_count": 14,
   "id": "aboriginal-bulgaria",
   "metadata": {
    "execution": {
     "iopub.execute_input": "2022-07-04T12:18:49.876842Z",
     "iopub.status.busy": "2022-07-04T12:18:49.876163Z",
     "iopub.status.idle": "2022-07-04T12:18:49.879513Z",
     "shell.execute_reply": "2022-07-04T12:18:49.878587Z"
    },
    "papermill": {
     "duration": 0.046891,
     "end_time": "2022-07-04T12:18:49.879648",
     "exception": false,
     "start_time": "2022-07-04T12:18:49.832757",
     "status": "completed"
    },
    "tags": []
   },
   "outputs": [],
   "source": [
    "#hide\n",
    "#delete problematic countries from table\n",
    "df_table = df_table[~df_table['Country/Region'].isin(['Cape Verde', 'Cruise Ship', 'Kosovo'])]"
   ]
  },
  {
   "cell_type": "code",
   "execution_count": 15,
   "id": "fantastic-effect",
   "metadata": {
    "execution": {
     "iopub.execute_input": "2022-07-04T12:18:49.966851Z",
     "iopub.status.busy": "2022-07-04T12:18:49.965837Z",
     "iopub.status.idle": "2022-07-04T12:18:49.990384Z",
     "shell.execute_reply": "2022-07-04T12:18:49.989623Z"
    },
    "papermill": {
     "duration": 0.071816,
     "end_time": "2022-07-04T12:18:49.990567",
     "exception": false,
     "start_time": "2022-07-04T12:18:49.918751",
     "status": "completed"
    },
    "tags": []
   },
   "outputs": [
    {
     "data": {
      "text/html": [
       "<div>\n",
       "<style scoped>\n",
       "    .dataframe tbody tr th:only-of-type {\n",
       "        vertical-align: middle;\n",
       "    }\n",
       "\n",
       "    .dataframe tbody tr th {\n",
       "        vertical-align: top;\n",
       "    }\n",
       "\n",
       "    .dataframe thead th {\n",
       "        text-align: right;\n",
       "    }\n",
       "</style>\n",
       "<table border=\"1\" class=\"dataframe\">\n",
       "  <thead>\n",
       "    <tr style=\"text-align: right;\">\n",
       "      <th></th>\n",
       "      <th>Country/Region</th>\n",
       "      <th>Cases</th>\n",
       "      <th>Deaths</th>\n",
       "      <th>PCases</th>\n",
       "      <th>PDeaths</th>\n",
       "      <th>Cases (+)</th>\n",
       "      <th>Deaths (+)</th>\n",
       "      <th>Fatality Rate</th>\n",
       "      <th>Continent</th>\n",
       "    </tr>\n",
       "  </thead>\n",
       "  <tbody>\n",
       "    <tr>\n",
       "      <th>0</th>\n",
       "      <td>US</td>\n",
       "      <td>87843561</td>\n",
       "      <td>1017848</td>\n",
       "      <td>87838623</td>\n",
       "      <td>1017846</td>\n",
       "      <td>4938</td>\n",
       "      <td>2</td>\n",
       "      <td>1.2</td>\n",
       "      <td>North America</td>\n",
       "    </tr>\n",
       "    <tr>\n",
       "      <th>1</th>\n",
       "      <td>India</td>\n",
       "      <td>43518564</td>\n",
       "      <td>525223</td>\n",
       "      <td>43502429</td>\n",
       "      <td>525199</td>\n",
       "      <td>16135</td>\n",
       "      <td>24</td>\n",
       "      <td>1.2</td>\n",
       "      <td>Asia</td>\n",
       "    </tr>\n",
       "    <tr>\n",
       "      <th>2</th>\n",
       "      <td>Brazil</td>\n",
       "      <td>32490422</td>\n",
       "      <td>671911</td>\n",
       "      <td>32471847</td>\n",
       "      <td>671858</td>\n",
       "      <td>18575</td>\n",
       "      <td>53</td>\n",
       "      <td>2.1</td>\n",
       "      <td>South America</td>\n",
       "    </tr>\n",
       "    <tr>\n",
       "      <th>3</th>\n",
       "      <td>France</td>\n",
       "      <td>31410383</td>\n",
       "      <td>150624</td>\n",
       "      <td>31410383</td>\n",
       "      <td>150624</td>\n",
       "      <td>0</td>\n",
       "      <td>0</td>\n",
       "      <td>0.5</td>\n",
       "      <td>Europe</td>\n",
       "    </tr>\n",
       "    <tr>\n",
       "      <th>4</th>\n",
       "      <td>Germany</td>\n",
       "      <td>28394995</td>\n",
       "      <td>141295</td>\n",
       "      <td>28392630</td>\n",
       "      <td>141292</td>\n",
       "      <td>2365</td>\n",
       "      <td>3</td>\n",
       "      <td>0.5</td>\n",
       "      <td>Europe</td>\n",
       "    </tr>\n",
       "  </tbody>\n",
       "</table>\n",
       "</div>"
      ],
      "text/plain": [
       "  Country/Region     Cases   Deaths    PCases  PDeaths  Cases (+)  Deaths (+)  \\\n",
       "0             US  87843561  1017848  87838623  1017846       4938           2   \n",
       "1          India  43518564   525223  43502429   525199      16135          24   \n",
       "2         Brazil  32490422   671911  32471847   671858      18575          53   \n",
       "3         France  31410383   150624  31410383   150624          0           0   \n",
       "4        Germany  28394995   141295  28392630   141292       2365           3   \n",
       "\n",
       "   Fatality Rate      Continent  \n",
       "0            1.2  North America  \n",
       "1            1.2           Asia  \n",
       "2            2.1  South America  \n",
       "3            0.5         Europe  \n",
       "4            0.5         Europe  "
      ]
     },
     "execution_count": 15,
     "metadata": {},
     "output_type": "execute_result"
    }
   ],
   "source": [
    "#hide\n",
    "df_table = (pd.DataFrame(dict(Cases=dfc_cases, Deaths=dfc_deaths, PCases=dfp_cases, PDeaths=dfp_deaths))\n",
    "             .sort_values(by=['Cases', 'Deaths'], ascending=[False, False])\n",
    "             .reset_index())\n",
    "df_table.rename(columns={'index': 'Country/Region'}, inplace=True)\n",
    "for c in 'Cases, Deaths'.split(', '):\n",
    "    df_table[f'{c} (+)'] = (df_table[c] - df_table[f'P{c}']).clip(0)  # DATA BUG\n",
    "df_table['Fatality Rate'] = (100 * df_table['Deaths'] / df_table['Cases']).round(1)\n",
    "df_table['Continent'] = df_table['Country/Region'].map(mapping['map.continent'])\n",
    "df_table.head(5)"
   ]
  },
  {
   "cell_type": "code",
   "execution_count": 16,
   "id": "fewer-occasion",
   "metadata": {
    "execution": {
     "iopub.execute_input": "2022-07-04T12:18:50.076673Z",
     "iopub.status.busy": "2022-07-04T12:18:50.075985Z",
     "iopub.status.idle": "2022-07-04T12:18:50.079555Z",
     "shell.execute_reply": "2022-07-04T12:18:50.080181Z"
    },
    "papermill": {
     "duration": 0.050512,
     "end_time": "2022-07-04T12:18:50.080328",
     "exception": false,
     "start_time": "2022-07-04T12:18:50.029816",
     "status": "completed"
    },
    "tags": []
   },
   "outputs": [],
   "source": [
    "#hide\n",
    "#delete problematic countries from table\n",
    "df_table = df_table[~df_table['Country/Region'].isin(['Cape Verde', 'Cruise Ship', 'Kosovo'])]"
   ]
  },
  {
   "cell_type": "code",
   "execution_count": 17,
   "id": "related-center",
   "metadata": {
    "execution": {
     "iopub.execute_input": "2022-07-04T12:18:50.165629Z",
     "iopub.status.busy": "2022-07-04T12:18:50.164953Z",
     "iopub.status.idle": "2022-07-04T12:18:50.179787Z",
     "shell.execute_reply": "2022-07-04T12:18:50.179030Z"
    },
    "papermill": {
     "duration": 0.062217,
     "end_time": "2022-07-04T12:18:50.179923",
     "exception": false,
     "start_time": "2022-07-04T12:18:50.117706",
     "status": "completed"
    },
    "tags": []
   },
   "outputs": [],
   "source": [
    "#hide\n",
    "metrics = [df_table.columns[index] for index in [1,2,5,6]]\n",
    "# s_china = df_table[df_table['Country/Region'].eq('China')][metrics].sum().add_prefix('China ')\n",
    "s_us = df_table[df_table['Country/Region'].eq('US')][metrics].sum().add_prefix('US ')\n",
    "s_eu = df_table[df_table['Continent'].eq('Europe')][metrics].sum().add_prefix('EU ')\n",
    "s_ind = df_table[df_table['Country/Region'].eq('India')][metrics].sum().add_prefix('India ')\n",
    "summary = {'updated': pd.to_datetime(dt_today), 'since': pd.to_datetime(dt_yday)}\n",
    "summary = {'updated': pd.to_datetime(dt_today), 'since': pd.to_datetime(dt_yday)}\n",
    "summary = {**summary, **df_table[metrics].sum(), **s_ind, **s_us, **s_eu}"
   ]
  },
  {
   "cell_type": "code",
   "execution_count": 18,
   "id": "engaging-syndrome",
   "metadata": {
    "execution": {
     "iopub.execute_input": "2022-07-04T12:18:50.262509Z",
     "iopub.status.busy": "2022-07-04T12:18:50.261767Z",
     "iopub.status.idle": "2022-07-04T12:18:50.284524Z",
     "shell.execute_reply": "2022-07-04T12:18:50.283818Z"
    },
    "papermill": {
     "duration": 0.066589,
     "end_time": "2022-07-04T12:18:50.284656",
     "exception": false,
     "start_time": "2022-07-04T12:18:50.218067",
     "status": "completed"
    },
    "tags": []
   },
   "outputs": [],
   "source": [
    "#hide\n",
    "dft_ct_new_cases = dft_cases.groupby(COL_REGION)[dt_cols].sum().diff(axis=1).fillna(0).astype(int)"
   ]
  },
  {
   "cell_type": "code",
   "execution_count": 19,
   "id": "neutral-assignment",
   "metadata": {
    "execution": {
     "iopub.execute_input": "2022-07-04T12:18:50.370942Z",
     "iopub.status.busy": "2022-07-04T12:18:50.370263Z",
     "iopub.status.idle": "2022-07-04T12:18:50.373358Z",
     "shell.execute_reply": "2022-07-04T12:18:50.372690Z"
    },
    "papermill": {
     "duration": 0.049437,
     "end_time": "2022-07-04T12:18:50.373480",
     "exception": false,
     "start_time": "2022-07-04T12:18:50.324043",
     "status": "completed"
    },
    "tags": []
   },
   "outputs": [],
   "source": [
    "#hide\n",
    "everydaycases = dft_ct_new_cases.cumsum(axis=1)"
   ]
  },
  {
   "cell_type": "code",
   "execution_count": 20,
   "id": "parliamentary-calgary",
   "metadata": {
    "execution": {
     "iopub.execute_input": "2022-07-04T12:18:50.454436Z",
     "iopub.status.busy": "2022-07-04T12:18:50.453730Z",
     "iopub.status.idle": "2022-07-04T12:18:51.091132Z",
     "shell.execute_reply": "2022-07-04T12:18:51.090285Z"
    },
    "papermill": {
     "duration": 0.679656,
     "end_time": "2022-07-04T12:18:51.091366",
     "exception": false,
     "start_time": "2022-07-04T12:18:50.411710",
     "status": "completed"
    },
    "tags": []
   },
   "outputs": [],
   "source": [
    "#hide\n",
    "import pandas as pd\n",
    "import matplotlib.pyplot as plt\n",
    "import matplotlib.ticker as ticker\n",
    "import matplotlib.animation as animation\n",
    "from IPython.display import HTML"
   ]
  },
  {
   "cell_type": "code",
   "execution_count": 21,
   "id": "lasting-extraction",
   "metadata": {
    "execution": {
     "iopub.execute_input": "2022-07-04T12:18:51.177037Z",
     "iopub.status.busy": "2022-07-04T12:18:51.176286Z",
     "iopub.status.idle": "2022-07-04T12:18:51.183891Z",
     "shell.execute_reply": "2022-07-04T12:18:51.184564Z"
    },
    "papermill": {
     "duration": 0.054113,
     "end_time": "2022-07-04T12:18:51.184705",
     "exception": false,
     "start_time": "2022-07-04T12:18:51.130592",
     "status": "completed"
    },
    "tags": []
   },
   "outputs": [],
   "source": [
    "#hide\n",
    "t = everydaycases.stack()"
   ]
  },
  {
   "cell_type": "code",
   "execution_count": 22,
   "id": "premier-sleeve",
   "metadata": {
    "execution": {
     "iopub.execute_input": "2022-07-04T12:18:51.267201Z",
     "iopub.status.busy": "2022-07-04T12:18:51.266449Z",
     "iopub.status.idle": "2022-07-04T12:18:51.279912Z",
     "shell.execute_reply": "2022-07-04T12:18:51.279017Z"
    },
    "papermill": {
     "duration": 0.057859,
     "end_time": "2022-07-04T12:18:51.280083",
     "exception": false,
     "start_time": "2022-07-04T12:18:51.222224",
     "status": "completed"
    },
    "tags": []
   },
   "outputs": [],
   "source": [
    "#hide\n",
    "g = t.reset_index(['Country/Region'])"
   ]
  },
  {
   "cell_type": "code",
   "execution_count": 23,
   "id": "distributed-pittsburgh",
   "metadata": {
    "execution": {
     "iopub.execute_input": "2022-07-04T12:18:51.358389Z",
     "iopub.status.busy": "2022-07-04T12:18:51.356704Z",
     "iopub.status.idle": "2022-07-04T12:18:51.359153Z",
     "shell.execute_reply": "2022-07-04T12:18:51.359695Z"
    },
    "papermill": {
     "duration": 0.043353,
     "end_time": "2022-07-04T12:18:51.359860",
     "exception": false,
     "start_time": "2022-07-04T12:18:51.316507",
     "status": "completed"
    },
    "tags": []
   },
   "outputs": [],
   "source": [
    "#hide\n",
    "g.index.name = 'date'"
   ]
  },
  {
   "cell_type": "code",
   "execution_count": 24,
   "id": "naked-donor",
   "metadata": {
    "execution": {
     "iopub.execute_input": "2022-07-04T12:18:51.441191Z",
     "iopub.status.busy": "2022-07-04T12:18:51.440496Z",
     "iopub.status.idle": "2022-07-04T12:18:51.443738Z",
     "shell.execute_reply": "2022-07-04T12:18:51.443093Z"
    },
    "papermill": {
     "duration": 0.045207,
     "end_time": "2022-07-04T12:18:51.443888",
     "exception": false,
     "start_time": "2022-07-04T12:18:51.398681",
     "status": "completed"
    },
    "tags": []
   },
   "outputs": [],
   "source": [
    "# #hide\n",
    "# g = g.reset_index(['date'])"
   ]
  },
  {
   "cell_type": "code",
   "execution_count": 25,
   "id": "incomplete-mustang",
   "metadata": {
    "execution": {
     "iopub.execute_input": "2022-07-04T12:18:51.525367Z",
     "iopub.status.busy": "2022-07-04T12:18:51.524500Z",
     "iopub.status.idle": "2022-07-04T12:18:51.529645Z",
     "shell.execute_reply": "2022-07-04T12:18:51.529105Z"
    },
    "papermill": {
     "duration": 0.046928,
     "end_time": "2022-07-04T12:18:51.529813",
     "exception": false,
     "start_time": "2022-07-04T12:18:51.482885",
     "status": "completed"
    },
    "tags": []
   },
   "outputs": [],
   "source": [
    "#hide\n",
    "# g.head()"
   ]
  },
  {
   "cell_type": "code",
   "execution_count": 26,
   "id": "specific-kruger",
   "metadata": {
    "execution": {
     "iopub.execute_input": "2022-07-04T12:18:51.609557Z",
     "iopub.status.busy": "2022-07-04T12:18:51.608831Z",
     "iopub.status.idle": "2022-07-04T12:18:51.613549Z",
     "shell.execute_reply": "2022-07-04T12:18:51.613018Z"
    },
    "papermill": {
     "duration": 0.048433,
     "end_time": "2022-07-04T12:18:51.613661",
     "exception": false,
     "start_time": "2022-07-04T12:18:51.565228",
     "status": "completed"
    },
    "tags": []
   },
   "outputs": [],
   "source": [
    "#hide\n",
    "# g.columns = ['date','country','cases']"
   ]
  },
  {
   "cell_type": "code",
   "execution_count": 27,
   "id": "tender-conversion",
   "metadata": {
    "execution": {
     "iopub.execute_input": "2022-07-04T12:18:51.692962Z",
     "iopub.status.busy": "2022-07-04T12:18:51.692248Z",
     "iopub.status.idle": "2022-07-04T12:18:51.696839Z",
     "shell.execute_reply": "2022-07-04T12:18:51.697392Z"
    },
    "papermill": {
     "duration": 0.046099,
     "end_time": "2022-07-04T12:18:51.697546",
     "exception": false,
     "start_time": "2022-07-04T12:18:51.651447",
     "status": "completed"
    },
    "tags": []
   },
   "outputs": [],
   "source": [
    "#hide\n",
    "# g['continent'] = g.country"
   ]
  },
  {
   "cell_type": "code",
   "execution_count": 28,
   "id": "substantial-wilderness",
   "metadata": {
    "execution": {
     "iopub.execute_input": "2022-07-04T12:18:51.779307Z",
     "iopub.status.busy": "2022-07-04T12:18:51.777646Z",
     "iopub.status.idle": "2022-07-04T12:18:51.780231Z",
     "shell.execute_reply": "2022-07-04T12:18:51.780718Z"
    },
    "papermill": {
     "duration": 0.043886,
     "end_time": "2022-07-04T12:18:51.780843",
     "exception": false,
     "start_time": "2022-07-04T12:18:51.736957",
     "status": "completed"
    },
    "tags": []
   },
   "outputs": [],
   "source": [
    "#hide\n",
    "# cols = list(g.columns.values)"
   ]
  },
  {
   "cell_type": "code",
   "execution_count": 29,
   "id": "solved-farming",
   "metadata": {
    "execution": {
     "iopub.execute_input": "2022-07-04T12:18:51.856836Z",
     "iopub.status.busy": "2022-07-04T12:18:51.856065Z",
     "iopub.status.idle": "2022-07-04T12:18:51.860903Z",
     "shell.execute_reply": "2022-07-04T12:18:51.861395Z"
    },
    "papermill": {
     "duration": 0.043838,
     "end_time": "2022-07-04T12:18:51.861541",
     "exception": false,
     "start_time": "2022-07-04T12:18:51.817703",
     "status": "completed"
    },
    "tags": []
   },
   "outputs": [],
   "source": [
    "#hide\n",
    "# cols.insert(0, cols.pop())"
   ]
  },
  {
   "cell_type": "code",
   "execution_count": 30,
   "id": "executed-adoption",
   "metadata": {
    "execution": {
     "iopub.execute_input": "2022-07-04T12:18:51.943593Z",
     "iopub.status.busy": "2022-07-04T12:18:51.941103Z",
     "iopub.status.idle": "2022-07-04T12:18:51.944434Z",
     "shell.execute_reply": "2022-07-04T12:18:51.945030Z"
    },
    "papermill": {
     "duration": 0.045186,
     "end_time": "2022-07-04T12:18:51.945156",
     "exception": false,
     "start_time": "2022-07-04T12:18:51.899970",
     "status": "completed"
    },
    "tags": []
   },
   "outputs": [],
   "source": [
    "#hide\n",
    "# g = g[cols]"
   ]
  },
  {
   "cell_type": "code",
   "execution_count": 31,
   "id": "subject-dublin",
   "metadata": {
    "execution": {
     "iopub.execute_input": "2022-07-04T12:18:52.028229Z",
     "iopub.status.busy": "2022-07-04T12:18:52.027526Z",
     "iopub.status.idle": "2022-07-04T12:18:52.031227Z",
     "shell.execute_reply": "2022-07-04T12:18:52.030573Z"
    },
    "papermill": {
     "duration": 0.045007,
     "end_time": "2022-07-04T12:18:52.031349",
     "exception": false,
     "start_time": "2022-07-04T12:18:51.986342",
     "status": "completed"
    },
    "tags": []
   },
   "outputs": [],
   "source": [
    "#hide\n",
    "# g['continent'] = g['continent'].map(mapping['map.continent'])"
   ]
  },
  {
   "cell_type": "code",
   "execution_count": 32,
   "id": "freelance-scout",
   "metadata": {
    "execution": {
     "iopub.execute_input": "2022-07-04T12:18:52.116982Z",
     "iopub.status.busy": "2022-07-04T12:18:52.116176Z",
     "iopub.status.idle": "2022-07-04T12:18:52.119407Z",
     "shell.execute_reply": "2022-07-04T12:18:52.118853Z"
    },
    "papermill": {
     "duration": 0.045891,
     "end_time": "2022-07-04T12:18:52.119531",
     "exception": false,
     "start_time": "2022-07-04T12:18:52.073640",
     "status": "completed"
    },
    "tags": []
   },
   "outputs": [],
   "source": [
    "#hide\n",
    "# g.head()"
   ]
  },
  {
   "cell_type": "code",
   "execution_count": 33,
   "id": "limited-engine",
   "metadata": {
    "execution": {
     "iopub.execute_input": "2022-07-04T12:18:52.204517Z",
     "iopub.status.busy": "2022-07-04T12:18:52.203658Z",
     "iopub.status.idle": "2022-07-04T12:18:52.206894Z",
     "shell.execute_reply": "2022-07-04T12:18:52.206363Z"
    },
    "papermill": {
     "duration": 0.046153,
     "end_time": "2022-07-04T12:18:52.207014",
     "exception": false,
     "start_time": "2022-07-04T12:18:52.160861",
     "status": "completed"
    },
    "tags": []
   },
   "outputs": [],
   "source": [
    "# hide\n",
    "# g['date'] = g['date'].astype('datetime64[ns]')"
   ]
  },
  {
   "cell_type": "code",
   "execution_count": 34,
   "id": "sophisticated-supervisor",
   "metadata": {
    "execution": {
     "iopub.execute_input": "2022-07-04T12:18:52.292145Z",
     "iopub.status.busy": "2022-07-04T12:18:52.291474Z",
     "iopub.status.idle": "2022-07-04T12:18:52.295536Z",
     "shell.execute_reply": "2022-07-04T12:18:52.296188Z"
    },
    "papermill": {
     "duration": 0.049892,
     "end_time": "2022-07-04T12:18:52.296351",
     "exception": false,
     "start_time": "2022-07-04T12:18:52.246459",
     "status": "completed"
    },
    "tags": []
   },
   "outputs": [],
   "source": [
    "#hide\n",
    "# g['date'] = g.date.dt.dayofyear"
   ]
  },
  {
   "cell_type": "code",
   "execution_count": 35,
   "id": "inside-dubai",
   "metadata": {
    "execution": {
     "iopub.execute_input": "2022-07-04T12:18:52.382299Z",
     "iopub.status.busy": "2022-07-04T12:18:52.381478Z",
     "iopub.status.idle": "2022-07-04T12:18:52.386944Z",
     "shell.execute_reply": "2022-07-04T12:18:52.386101Z"
    },
    "papermill": {
     "duration": 0.053791,
     "end_time": "2022-07-04T12:18:52.387074",
     "exception": false,
     "start_time": "2022-07-04T12:18:52.333283",
     "status": "completed"
    },
    "tags": []
   },
   "outputs": [],
   "source": [
    "#hide\n",
    "# g = g.rename(columns= {'continent':'group','country':'name','cases':'value'})"
   ]
  },
  {
   "cell_type": "code",
   "execution_count": 36,
   "id": "fleet-motorcycle",
   "metadata": {
    "execution": {
     "iopub.execute_input": "2022-07-04T12:18:52.470556Z",
     "iopub.status.busy": "2022-07-04T12:18:52.469810Z",
     "iopub.status.idle": "2022-07-04T12:18:52.473527Z",
     "shell.execute_reply": "2022-07-04T12:18:52.472866Z"
    },
    "papermill": {
     "duration": 0.047631,
     "end_time": "2022-07-04T12:18:52.473650",
     "exception": false,
     "start_time": "2022-07-04T12:18:52.426019",
     "status": "completed"
    },
    "tags": []
   },
   "outputs": [],
   "source": [
    "#hide\n",
    "# cols = ['name','group','day','value']"
   ]
  },
  {
   "cell_type": "code",
   "execution_count": 37,
   "id": "continued-sleeping",
   "metadata": {
    "execution": {
     "iopub.execute_input": "2022-07-04T12:18:52.553717Z",
     "iopub.status.busy": "2022-07-04T12:18:52.553080Z",
     "iopub.status.idle": "2022-07-04T12:18:52.556371Z",
     "shell.execute_reply": "2022-07-04T12:18:52.555738Z"
    },
    "papermill": {
     "duration": 0.044925,
     "end_time": "2022-07-04T12:18:52.556487",
     "exception": false,
     "start_time": "2022-07-04T12:18:52.511562",
     "status": "completed"
    },
    "tags": []
   },
   "outputs": [],
   "source": [
    "#hide\n",
    "# g.rename(columns= {'date':'day'},inplace = True)"
   ]
  },
  {
   "cell_type": "code",
   "execution_count": 38,
   "id": "major-fight",
   "metadata": {
    "execution": {
     "iopub.execute_input": "2022-07-04T12:18:52.637975Z",
     "iopub.status.busy": "2022-07-04T12:18:52.637164Z",
     "iopub.status.idle": "2022-07-04T12:18:52.641000Z",
     "shell.execute_reply": "2022-07-04T12:18:52.640303Z"
    },
    "papermill": {
     "duration": 0.046303,
     "end_time": "2022-07-04T12:18:52.641164",
     "exception": false,
     "start_time": "2022-07-04T12:18:52.594861",
     "status": "completed"
    },
    "tags": []
   },
   "outputs": [],
   "source": [
    "#hide\n",
    "# g = g[cols]"
   ]
  },
  {
   "cell_type": "code",
   "execution_count": 39,
   "id": "structured-mobile",
   "metadata": {
    "execution": {
     "iopub.execute_input": "2022-07-04T12:18:52.719488Z",
     "iopub.status.busy": "2022-07-04T12:18:52.718765Z",
     "iopub.status.idle": "2022-07-04T12:18:52.721769Z",
     "shell.execute_reply": "2022-07-04T12:18:52.720938Z"
    },
    "papermill": {
     "duration": 0.044167,
     "end_time": "2022-07-04T12:18:52.721880",
     "exception": false,
     "start_time": "2022-07-04T12:18:52.677713",
     "status": "completed"
    },
    "tags": []
   },
   "outputs": [],
   "source": [
    "# #hide\n",
    "# g = g[g.group.notna()]"
   ]
  },
  {
   "cell_type": "code",
   "execution_count": 40,
   "id": "determined-closing",
   "metadata": {
    "execution": {
     "iopub.execute_input": "2022-07-04T12:18:52.801790Z",
     "iopub.status.busy": "2022-07-04T12:18:52.801038Z",
     "iopub.status.idle": "2022-07-04T12:18:52.805393Z",
     "shell.execute_reply": "2022-07-04T12:18:52.804685Z"
    },
    "papermill": {
     "duration": 0.046407,
     "end_time": "2022-07-04T12:18:52.805543",
     "exception": false,
     "start_time": "2022-07-04T12:18:52.759136",
     "status": "completed"
    },
    "tags": []
   },
   "outputs": [],
   "source": [
    "# #hide\n",
    "# colors = dict(zip(\n",
    "#     [\"Oceania\", \"Europe\", \"Asia\", \"South America\", \"Middle East\", \"North America\", \"Africa\"],\n",
    "#     [\"#adb0ff\", \"#ffb3ff\", \"#90d595\", \"#e48381\", \"#aafbff\", \"#f7bb5f\", \"#eafb50\"]\n",
    "# ))\n",
    "# group_lk = g.set_index('name')['group'].to_dict()"
   ]
  },
  {
   "cell_type": "code",
   "execution_count": null,
   "id": "gross-drinking",
   "metadata": {
    "papermill": {
     "duration": 0.038857,
     "end_time": "2022-07-04T12:18:52.883194",
     "exception": false,
     "start_time": "2022-07-04T12:18:52.844337",
     "status": "completed"
    },
    "tags": []
   },
   "outputs": [],
   "source": []
  },
  {
   "cell_type": "code",
   "execution_count": 41,
   "id": "subject-macintosh",
   "metadata": {
    "execution": {
     "iopub.execute_input": "2022-07-04T12:18:52.962588Z",
     "iopub.status.busy": "2022-07-04T12:18:52.961822Z",
     "iopub.status.idle": "2022-07-04T12:18:52.965207Z",
     "shell.execute_reply": "2022-07-04T12:18:52.964464Z"
    },
    "papermill": {
     "duration": 0.045112,
     "end_time": "2022-07-04T12:18:52.965316",
     "exception": false,
     "start_time": "2022-07-04T12:18:52.920204",
     "status": "completed"
    },
    "tags": []
   },
   "outputs": [],
   "source": [
    "# #hide\n",
    "# fig, ax = plt.subplots(figsize=(15, 8))\n",
    "\n",
    "# def draw_barchart(current_day):\n",
    "#     dff = g[g['day'].eq(current_day)].sort_values(by='value', ascending=True).tail(10)\n",
    "#     ax.clear()\n",
    "#     ax.barh(dff['name'], dff['value'], color=[colors[group_lk[x]] for x in dff['name']])\n",
    "#     dx = dff['value'].max() / 200\n",
    "    \n",
    "#     for i, (value, name) in enumerate(zip(dff['value'], dff['name'])):\n",
    "#         ax.text(value-dx, i,     name,           size=14, weight=600, ha='right', va='bottom')\n",
    "#         ax.text(value-dx, i-.25, group_lk[name], size=10, color='#444444', ha='right', va='baseline')\n",
    "#         ax.text(value+dx, i,     f'{value:,.0f}',  size=14, ha='left',  va='center')\n",
    "#     ax.text(1, 0.4, current_day, transform=ax.transAxes, color='#777777', size=46, ha='right', weight=800)\n",
    "#     ax.text(0, 1.06, 'Population (thousands)', transform=ax.transAxes, size=12, color='#777777')\n",
    "#     ax.xaxis.set_major_formatter(ticker.StrMethodFormatter('{x:,.0f}'))\n",
    "#     ax.xaxis.set_ticks_position('top')\n",
    "#     ax.tick_params(axis='x', colors='#777777', labelsize=12)\n",
    "#     ax.set_yticks([])\n",
    "#     ax.margins(0, 0.01)\n",
    "#     ax.grid(which='major', axis='x', linestyle='-')\n",
    "#     ax.set_axisbelow(True)\n",
    "    \n",
    "#     ax.text(0, 1.15, 'Coronavirus',\n",
    "#             transform=ax.transAxes, size=24, weight=600, ha='left', va='top')\n",
    "# #     ax.text(1, 0, 'by @pratapvardhan; credit @jburnmurdoch', transform=ax.transAxes, color='#777777', ha='right',\n",
    "# #             bbox=dict(facecolor='white', alpha=0.8, edgecolor='white'))\n",
    "#     plt.box(False)"
   ]
  },
  {
   "cell_type": "code",
   "execution_count": 42,
   "id": "sexual-wages",
   "metadata": {
    "execution": {
     "iopub.execute_input": "2022-07-04T12:18:53.042518Z",
     "iopub.status.busy": "2022-07-04T12:18:53.041822Z",
     "iopub.status.idle": "2022-07-04T12:18:53.044693Z",
     "shell.execute_reply": "2022-07-04T12:18:53.044143Z"
    },
    "papermill": {
     "duration": 0.044273,
     "end_time": "2022-07-04T12:18:53.044890",
     "exception": false,
     "start_time": "2022-07-04T12:18:53.000617",
     "status": "completed"
    },
    "tags": []
   },
   "outputs": [],
   "source": [
    "# #hide_input\n",
    "# fig, ax = plt.subplots(figsize=(15, 8))\n",
    "# animator = animation.FuncAnimation(fig, draw_barchart, frames=range(g.day.values.min(), g.day.values.max()))\n",
    "# HTML(animator.to_jshtml())\n",
    "# # or use animator.to_html5_video() or animator.save() "
   ]
  },
  {
   "cell_type": "code",
   "execution_count": null,
   "id": "australian-container",
   "metadata": {
    "papermill": {
     "duration": 0.037999,
     "end_time": "2022-07-04T12:18:53.122247",
     "exception": false,
     "start_time": "2022-07-04T12:18:53.084248",
     "status": "completed"
    },
    "tags": []
   },
   "outputs": [],
   "source": []
  },
  {
   "cell_type": "code",
   "execution_count": null,
   "id": "mediterranean-pontiac",
   "metadata": {
    "papermill": {
     "duration": 0.03968,
     "end_time": "2022-07-04T12:18:53.202767",
     "exception": false,
     "start_time": "2022-07-04T12:18:53.163087",
     "status": "completed"
    },
    "tags": []
   },
   "outputs": [],
   "source": []
  },
  {
   "cell_type": "code",
   "execution_count": null,
   "id": "aging-legislature",
   "metadata": {
    "papermill": {
     "duration": 0.046716,
     "end_time": "2022-07-04T12:18:53.286282",
     "exception": false,
     "start_time": "2022-07-04T12:18:53.239566",
     "status": "completed"
    },
    "tags": []
   },
   "outputs": [],
   "source": []
  }
 ],
 "metadata": {
  "kernelspec": {
   "display_name": "Python 3",
   "language": "python",
   "name": "python3"
  },
  "language_info": {
   "codemirror_mode": {
    "name": "ipython",
    "version": 3
   },
   "file_extension": ".py",
   "mimetype": "text/x-python",
   "name": "python",
   "nbconvert_exporter": "python",
   "pygments_lexer": "ipython3",
   "version": "3.6.15"
  },
  "papermill": {
   "duration": 7.225194,
   "end_time": "2022-07-04T12:18:53.646372",
   "environment_variables": {},
   "exception": null,
   "input_path": "2020-03-21-covid19exp.ipynb",
   "output_path": "2020-03-21-covid19exp.ipynb",
   "parameters": {},
   "start_time": "2022-07-04T12:18:46.421178",
   "version": "2.0.0"
  }
 },
 "nbformat": 4,
 "nbformat_minor": 5
}