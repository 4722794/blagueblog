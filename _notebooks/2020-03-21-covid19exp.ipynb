{
 "cells": [
  {
   "cell_type": "markdown",
   "id": "muslim-click",
   "metadata": {
    "papermill": {
     "duration": 0.033941,
     "end_time": "2022-05-24T12:17:27.476055",
     "exception": false,
     "start_time": "2022-05-24T12:17:27.442114",
     "status": "completed"
    },
    "tags": []
   },
   "source": [
    "# COVID-19 Case Race\n",
    "> A race chart to see rising cases around the world\n",
    "\n",
    "- author: Hargun Oberoi\n",
    "- image: images/covid-overview.png\n",
    "- hide: false\n",
    "- badges: false"
   ]
  },
  {
   "cell_type": "code",
   "execution_count": 1,
   "id": "proof-material",
   "metadata": {
    "execution": {
     "iopub.execute_input": "2022-05-24T12:17:27.546917Z",
     "iopub.status.busy": "2022-05-24T12:17:27.546316Z",
     "iopub.status.idle": "2022-05-24T12:17:27.869968Z",
     "shell.execute_reply": "2022-05-24T12:17:27.869421Z"
    },
    "papermill": {
     "duration": 0.362949,
     "end_time": "2022-05-24T12:17:27.870117",
     "exception": false,
     "start_time": "2022-05-24T12:17:27.507168",
     "status": "completed"
    },
    "tags": []
   },
   "outputs": [],
   "source": [
    "#hide\n",
    "import numpy as np\n",
    "import pandas as pd\n",
    "from jinja2 import Template\n",
    "from IPython.display import HTML"
   ]
  },
  {
   "cell_type": "code",
   "execution_count": 2,
   "id": "developed-terminology",
   "metadata": {
    "execution": {
     "iopub.execute_input": "2022-05-24T12:17:27.934131Z",
     "iopub.status.busy": "2022-05-24T12:17:27.933450Z",
     "iopub.status.idle": "2022-05-24T12:17:27.935697Z",
     "shell.execute_reply": "2022-05-24T12:17:27.935120Z"
    },
    "papermill": {
     "duration": 0.036111,
     "end_time": "2022-05-24T12:17:27.935805",
     "exception": false,
     "start_time": "2022-05-24T12:17:27.899694",
     "status": "completed"
    },
    "tags": []
   },
   "outputs": [],
   "source": [
    "#hide\n",
    "\n",
    "# FETCH\n",
    "base_url = 'https://raw.githubusercontent.com/pratapvardhan/notebooks/master/covid19/'\n",
    "paths = {\n",
    "    'mapping': base_url + 'mapping_countries.csv',\n",
    "    'overview': base_url + 'overview.tpl'\n",
    "}"
   ]
  },
  {
   "cell_type": "code",
   "execution_count": 3,
   "id": "dynamic-saver",
   "metadata": {
    "execution": {
     "iopub.execute_input": "2022-05-24T12:17:28.003275Z",
     "iopub.status.busy": "2022-05-24T12:17:28.001134Z",
     "iopub.status.idle": "2022-05-24T12:17:28.005916Z",
     "shell.execute_reply": "2022-05-24T12:17:28.006458Z"
    },
    "papermill": {
     "duration": 0.041765,
     "end_time": "2022-05-24T12:17:28.006578",
     "exception": false,
     "start_time": "2022-05-24T12:17:27.964813",
     "status": "completed"
    },
    "tags": []
   },
   "outputs": [
    {
     "data": {
      "text/plain": [
       "'https://raw.githubusercontent.com/pratapvardhan/notebooks/master/covid19/mapping_countries.csv'"
      ]
     },
     "execution_count": 3,
     "metadata": {},
     "output_type": "execute_result"
    }
   ],
   "source": [
    "#hide\n",
    "paths['mapping']"
   ]
  },
  {
   "cell_type": "code",
   "execution_count": 4,
   "id": "urban-software",
   "metadata": {
    "execution": {
     "iopub.execute_input": "2022-05-24T12:17:28.071265Z",
     "iopub.status.busy": "2022-05-24T12:17:28.070670Z",
     "iopub.status.idle": "2022-05-24T12:17:28.073299Z",
     "shell.execute_reply": "2022-05-24T12:17:28.073847Z"
    },
    "papermill": {
     "duration": 0.038167,
     "end_time": "2022-05-24T12:17:28.073978",
     "exception": false,
     "start_time": "2022-05-24T12:17:28.035811",
     "status": "completed"
    },
    "tags": []
   },
   "outputs": [],
   "source": [
    "#hide\n",
    "def get_mappings(url):\n",
    "    df = pd.read_csv(url)\n",
    "    return {\n",
    "        'df': df,\n",
    "        'replace.country': dict(df.dropna(subset=['Name']).set_index('Country')['Name']),\n",
    "        'map.continent': dict(df.set_index('Name')['Continent'])\n",
    "    }"
   ]
  },
  {
   "cell_type": "code",
   "execution_count": 5,
   "id": "intimate-machinery",
   "metadata": {
    "execution": {
     "iopub.execute_input": "2022-05-24T12:17:28.138234Z",
     "iopub.status.busy": "2022-05-24T12:17:28.137652Z",
     "iopub.status.idle": "2022-05-24T12:17:28.177094Z",
     "shell.execute_reply": "2022-05-24T12:17:28.176513Z"
    },
    "papermill": {
     "duration": 0.073746,
     "end_time": "2022-05-24T12:17:28.177224",
     "exception": false,
     "start_time": "2022-05-24T12:17:28.103478",
     "status": "completed"
    },
    "tags": []
   },
   "outputs": [],
   "source": [
    "#hide\n",
    "mapping = get_mappings(paths['mapping'])"
   ]
  },
  {
   "cell_type": "code",
   "execution_count": 6,
   "id": "certified-tactics",
   "metadata": {
    "execution": {
     "iopub.execute_input": "2022-05-24T12:17:28.242867Z",
     "iopub.status.busy": "2022-05-24T12:17:28.242183Z",
     "iopub.status.idle": "2022-05-24T12:17:28.244705Z",
     "shell.execute_reply": "2022-05-24T12:17:28.244027Z"
    },
    "papermill": {
     "duration": 0.037249,
     "end_time": "2022-05-24T12:17:28.244820",
     "exception": false,
     "start_time": "2022-05-24T12:17:28.207571",
     "status": "completed"
    },
    "tags": []
   },
   "outputs": [],
   "source": [
    "#hide\n",
    "def get_template(path):\n",
    "    from urllib.parse import urlparse\n",
    "    if bool(urlparse(path).netloc):\n",
    "        from urllib.request import urlopen\n",
    "        return urlopen(path).read().decode('utf8')\n",
    "    return open(path).read()"
   ]
  },
  {
   "cell_type": "code",
   "execution_count": 7,
   "id": "realistic-blast",
   "metadata": {
    "execution": {
     "iopub.execute_input": "2022-05-24T12:17:28.308912Z",
     "iopub.status.busy": "2022-05-24T12:17:28.308291Z",
     "iopub.status.idle": "2022-05-24T12:17:28.310431Z",
     "shell.execute_reply": "2022-05-24T12:17:28.310861Z"
    },
    "papermill": {
     "duration": 0.036797,
     "end_time": "2022-05-24T12:17:28.310993",
     "exception": false,
     "start_time": "2022-05-24T12:17:28.274196",
     "status": "completed"
    },
    "tags": []
   },
   "outputs": [],
   "source": [
    "#hide\n",
    "def get_frame(name):\n",
    "    url = (\n",
    "        'https://raw.githubusercontent.com/CSSEGISandData/COVID-19/master/csse_covid_19_data/'\n",
    "        f'csse_covid_19_time_series/time_series_covid19_{name}_global.csv')\n",
    "    df = pd.read_csv(url)\n",
    "    # rename countries\n",
    "    df['Country/Region'] = df['Country/Region'].replace(mapping['replace.country'])\n",
    "    return df"
   ]
  },
  {
   "cell_type": "code",
   "execution_count": 8,
   "id": "affiliated-characterization",
   "metadata": {
    "execution": {
     "iopub.execute_input": "2022-05-24T12:17:28.376029Z",
     "iopub.status.busy": "2022-05-24T12:17:28.375445Z",
     "iopub.status.idle": "2022-05-24T12:17:28.377624Z",
     "shell.execute_reply": "2022-05-24T12:17:28.378170Z"
    },
    "papermill": {
     "duration": 0.037659,
     "end_time": "2022-05-24T12:17:28.378298",
     "exception": false,
     "start_time": "2022-05-24T12:17:28.340639",
     "status": "completed"
    },
    "tags": []
   },
   "outputs": [],
   "source": [
    "#hide\n",
    "def get_dates(df):\n",
    "    dt_cols = df.columns[~df.columns.isin(['Province/State', 'Country/Region', 'Lat', 'Long'])]\n",
    "    LAST_DATE_I = -1\n",
    "    # sometimes last column may be empty, then go backwards\n",
    "    for i in range(-1, -len(dt_cols), -1):\n",
    "        if not df[dt_cols[i]].fillna(0).eq(0).all():\n",
    "            LAST_DATE_I = i\n",
    "            break\n",
    "    return LAST_DATE_I, dt_cols"
   ]
  },
  {
   "cell_type": "code",
   "execution_count": 9,
   "id": "recent-optimization",
   "metadata": {
    "execution": {
     "iopub.execute_input": "2022-05-24T12:17:28.442143Z",
     "iopub.status.busy": "2022-05-24T12:17:28.441514Z",
     "iopub.status.idle": "2022-05-24T12:17:28.879968Z",
     "shell.execute_reply": "2022-05-24T12:17:28.879344Z"
    },
    "papermill": {
     "duration": 0.472628,
     "end_time": "2022-05-24T12:17:28.880110",
     "exception": false,
     "start_time": "2022-05-24T12:17:28.407482",
     "status": "completed"
    },
    "tags": []
   },
   "outputs": [],
   "source": [
    "#hide\n",
    "COL_REGION = 'Country/Region'\n",
    "# Confirmed, Recovered, Deaths\n",
    "df = get_frame('confirmed')\n",
    "# dft_: timeseries, dfc_: today country agg\n",
    "dft_cases = df\n",
    "dft_deaths = get_frame('deaths')\n",
    "dft_recovered = get_frame('recovered')\n",
    "LAST_DATE_I, dt_cols = get_dates(df)"
   ]
  },
  {
   "cell_type": "code",
   "execution_count": 10,
   "id": "absolute-copper",
   "metadata": {
    "execution": {
     "iopub.execute_input": "2022-05-24T12:17:28.946069Z",
     "iopub.status.busy": "2022-05-24T12:17:28.945374Z",
     "iopub.status.idle": "2022-05-24T12:17:28.947194Z",
     "shell.execute_reply": "2022-05-24T12:17:28.947682Z"
    },
    "papermill": {
     "duration": 0.037212,
     "end_time": "2022-05-24T12:17:28.947812",
     "exception": false,
     "start_time": "2022-05-24T12:17:28.910600",
     "status": "completed"
    },
    "tags": []
   },
   "outputs": [],
   "source": [
    "#hide\n",
    "LAST_DATE_I, dt_cols = get_dates(df)\n",
    "dt_today =dt_cols[LAST_DATE_I]\n",
    "# dt_5day = dt_cols[LAST_DATE_I - 5]\n",
    "dt_yday = dt_cols[LAST_DATE_I - 1]"
   ]
  },
  {
   "cell_type": "code",
   "execution_count": 11,
   "id": "restricted-sheriff",
   "metadata": {
    "execution": {
     "iopub.execute_input": "2022-05-24T12:17:29.013329Z",
     "iopub.status.busy": "2022-05-24T12:17:29.012739Z",
     "iopub.status.idle": "2022-05-24T12:17:29.018538Z",
     "shell.execute_reply": "2022-05-24T12:17:29.018983Z"
    },
    "papermill": {
     "duration": 0.042121,
     "end_time": "2022-05-24T12:17:29.019109",
     "exception": false,
     "start_time": "2022-05-24T12:17:28.976988",
     "status": "completed"
    },
    "tags": []
   },
   "outputs": [],
   "source": [
    "#hide\n",
    "dfc_cases = dft_cases.groupby(COL_REGION)[dt_today].sum()\n",
    "dfc_deaths = dft_deaths.groupby(COL_REGION)[dt_today].sum()\n",
    "# dfp_cases = dft_cases.groupby(COL_REGION)[dt_5day].sum()\n",
    "# dfp_deaths = dft_deaths.groupby(COL_REGION)[dt_5day].sum()\n",
    "dfp_cases = dft_cases.groupby(COL_REGION)[dt_yday].sum()\n",
    "dfp_deaths = dft_deaths.groupby(COL_REGION)[dt_yday].sum()"
   ]
  },
  {
   "cell_type": "code",
   "execution_count": 12,
   "id": "deluxe-hepatitis",
   "metadata": {
    "execution": {
     "iopub.execute_input": "2022-05-24T12:17:29.083846Z",
     "iopub.status.busy": "2022-05-24T12:17:29.083261Z",
     "iopub.status.idle": "2022-05-24T12:17:29.087551Z",
     "shell.execute_reply": "2022-05-24T12:17:29.088099Z"
    },
    "papermill": {
     "duration": 0.039912,
     "end_time": "2022-05-24T12:17:29.088254",
     "exception": false,
     "start_time": "2022-05-24T12:17:29.048342",
     "status": "completed"
    },
    "tags": []
   },
   "outputs": [],
   "source": [
    "#hide\n",
    "df_table = (pd.DataFrame(dict(Cases = dfc_cases, Deaths = dfc_deaths, PCases = dfp_cases, PDeaths = dfp_deaths))\n",
    "            .sort_values(by = ['Cases','Deaths'], ascending = [False, False])\n",
    "            .reset_index())"
   ]
  },
  {
   "cell_type": "code",
   "execution_count": 13,
   "id": "educational-chancellor",
   "metadata": {
    "execution": {
     "iopub.execute_input": "2022-05-24T12:17:29.165609Z",
     "iopub.status.busy": "2022-05-24T12:17:29.165020Z",
     "iopub.status.idle": "2022-05-24T12:17:29.173408Z",
     "shell.execute_reply": "2022-05-24T12:17:29.172841Z"
    },
    "papermill": {
     "duration": 0.055986,
     "end_time": "2022-05-24T12:17:29.173519",
     "exception": false,
     "start_time": "2022-05-24T12:17:29.117533",
     "status": "completed"
    },
    "tags": []
   },
   "outputs": [
    {
     "data": {
      "text/html": [
       "<div>\n",
       "<style scoped>\n",
       "    .dataframe tbody tr th:only-of-type {\n",
       "        vertical-align: middle;\n",
       "    }\n",
       "\n",
       "    .dataframe tbody tr th {\n",
       "        vertical-align: top;\n",
       "    }\n",
       "\n",
       "    .dataframe thead th {\n",
       "        text-align: right;\n",
       "    }\n",
       "</style>\n",
       "<table border=\"1\" class=\"dataframe\">\n",
       "  <thead>\n",
       "    <tr style=\"text-align: right;\">\n",
       "      <th></th>\n",
       "      <th>Country/Region</th>\n",
       "      <th>Cases</th>\n",
       "      <th>Deaths</th>\n",
       "      <th>PCases</th>\n",
       "      <th>PDeaths</th>\n",
       "      <th>Cases (+)</th>\n",
       "      <th>Deaths (+)</th>\n",
       "      <th>Fatality Rate</th>\n",
       "      <th>Continent</th>\n",
       "    </tr>\n",
       "  </thead>\n",
       "  <tbody>\n",
       "    <tr>\n",
       "      <th>0</th>\n",
       "      <td>US</td>\n",
       "      <td>83390587</td>\n",
       "      <td>1002377</td>\n",
       "      <td>83281329</td>\n",
       "      <td>1002173</td>\n",
       "      <td>109258</td>\n",
       "      <td>204</td>\n",
       "      <td>1.20</td>\n",
       "      <td>North America</td>\n",
       "    </tr>\n",
       "    <tr>\n",
       "      <th>1</th>\n",
       "      <td>India</td>\n",
       "      <td>43140068</td>\n",
       "      <td>524490</td>\n",
       "      <td>43138393</td>\n",
       "      <td>524459</td>\n",
       "      <td>1675</td>\n",
       "      <td>31</td>\n",
       "      <td>1.22</td>\n",
       "      <td>Asia</td>\n",
       "    </tr>\n",
       "    <tr>\n",
       "      <th>2</th>\n",
       "      <td>Brazil</td>\n",
       "      <td>30803995</td>\n",
       "      <td>665891</td>\n",
       "      <td>30791220</td>\n",
       "      <td>665854</td>\n",
       "      <td>12775</td>\n",
       "      <td>37</td>\n",
       "      <td>2.16</td>\n",
       "      <td>South America</td>\n",
       "    </tr>\n",
       "    <tr>\n",
       "      <th>3</th>\n",
       "      <td>France</td>\n",
       "      <td>29551335</td>\n",
       "      <td>148955</td>\n",
       "      <td>29580970</td>\n",
       "      <td>148823</td>\n",
       "      <td>0</td>\n",
       "      <td>132</td>\n",
       "      <td>0.50</td>\n",
       "      <td>Europe</td>\n",
       "    </tr>\n",
       "    <tr>\n",
       "      <th>4</th>\n",
       "      <td>Germany</td>\n",
       "      <td>26109965</td>\n",
       "      <td>138485</td>\n",
       "      <td>26045528</td>\n",
       "      <td>138326</td>\n",
       "      <td>64437</td>\n",
       "      <td>159</td>\n",
       "      <td>0.53</td>\n",
       "      <td>Europe</td>\n",
       "    </tr>\n",
       "  </tbody>\n",
       "</table>\n",
       "</div>"
      ],
      "text/plain": [
       "  Country/Region     Cases   Deaths    PCases  PDeaths  Cases (+)  Deaths (+)  \\\n",
       "0             US  83390587  1002377  83281329  1002173     109258         204   \n",
       "1          India  43140068   524490  43138393   524459       1675          31   \n",
       "2         Brazil  30803995   665891  30791220   665854      12775          37   \n",
       "3         France  29551335   148955  29580970   148823          0         132   \n",
       "4        Germany  26109965   138485  26045528   138326      64437         159   \n",
       "\n",
       "   Fatality Rate      Continent  \n",
       "0           1.20  North America  \n",
       "1           1.22           Asia  \n",
       "2           2.16  South America  \n",
       "3           0.50         Europe  \n",
       "4           0.53         Europe  "
      ]
     },
     "execution_count": 13,
     "metadata": {},
     "output_type": "execute_result"
    }
   ],
   "source": [
    "#hide\n",
    "for c in 'Cases, Deaths'.split(', '):\n",
    "    df_table[f'{c} (+)'] = (df_table[c] - df_table[f'P{c}']).clip(0)\n",
    "    #Clip ça veut dire, les chiffres negatif sont interdit\n",
    "df_table['Fatality Rate'] = (100* df_table['Deaths']/ df_table['Cases']).round(2)\n",
    "df_table['Continent'] = df_table['Country/Region'].map(mapping['map.continent'])\n",
    "df_table.head(5)"
   ]
  },
  {
   "cell_type": "code",
   "execution_count": 14,
   "id": "aboriginal-bulgaria",
   "metadata": {
    "execution": {
     "iopub.execute_input": "2022-05-24T12:17:29.238519Z",
     "iopub.status.busy": "2022-05-24T12:17:29.237949Z",
     "iopub.status.idle": "2022-05-24T12:17:29.240876Z",
     "shell.execute_reply": "2022-05-24T12:17:29.241429Z"
    },
    "papermill": {
     "duration": 0.038074,
     "end_time": "2022-05-24T12:17:29.241552",
     "exception": false,
     "start_time": "2022-05-24T12:17:29.203478",
     "status": "completed"
    },
    "tags": []
   },
   "outputs": [],
   "source": [
    "#hide\n",
    "#delete problematic countries from table\n",
    "df_table = df_table[~df_table['Country/Region'].isin(['Cape Verde', 'Cruise Ship', 'Kosovo'])]"
   ]
  },
  {
   "cell_type": "code",
   "execution_count": 15,
   "id": "fantastic-effect",
   "metadata": {
    "execution": {
     "iopub.execute_input": "2022-05-24T12:17:29.308766Z",
     "iopub.status.busy": "2022-05-24T12:17:29.308147Z",
     "iopub.status.idle": "2022-05-24T12:17:29.325493Z",
     "shell.execute_reply": "2022-05-24T12:17:29.325967Z"
    },
    "papermill": {
     "duration": 0.054927,
     "end_time": "2022-05-24T12:17:29.326096",
     "exception": false,
     "start_time": "2022-05-24T12:17:29.271169",
     "status": "completed"
    },
    "tags": []
   },
   "outputs": [
    {
     "data": {
      "text/html": [
       "<div>\n",
       "<style scoped>\n",
       "    .dataframe tbody tr th:only-of-type {\n",
       "        vertical-align: middle;\n",
       "    }\n",
       "\n",
       "    .dataframe tbody tr th {\n",
       "        vertical-align: top;\n",
       "    }\n",
       "\n",
       "    .dataframe thead th {\n",
       "        text-align: right;\n",
       "    }\n",
       "</style>\n",
       "<table border=\"1\" class=\"dataframe\">\n",
       "  <thead>\n",
       "    <tr style=\"text-align: right;\">\n",
       "      <th></th>\n",
       "      <th>Country/Region</th>\n",
       "      <th>Cases</th>\n",
       "      <th>Deaths</th>\n",
       "      <th>PCases</th>\n",
       "      <th>PDeaths</th>\n",
       "      <th>Cases (+)</th>\n",
       "      <th>Deaths (+)</th>\n",
       "      <th>Fatality Rate</th>\n",
       "      <th>Continent</th>\n",
       "    </tr>\n",
       "  </thead>\n",
       "  <tbody>\n",
       "    <tr>\n",
       "      <th>0</th>\n",
       "      <td>US</td>\n",
       "      <td>83390587</td>\n",
       "      <td>1002377</td>\n",
       "      <td>83281329</td>\n",
       "      <td>1002173</td>\n",
       "      <td>109258</td>\n",
       "      <td>204</td>\n",
       "      <td>1.2</td>\n",
       "      <td>North America</td>\n",
       "    </tr>\n",
       "    <tr>\n",
       "      <th>1</th>\n",
       "      <td>India</td>\n",
       "      <td>43140068</td>\n",
       "      <td>524490</td>\n",
       "      <td>43138393</td>\n",
       "      <td>524459</td>\n",
       "      <td>1675</td>\n",
       "      <td>31</td>\n",
       "      <td>1.2</td>\n",
       "      <td>Asia</td>\n",
       "    </tr>\n",
       "    <tr>\n",
       "      <th>2</th>\n",
       "      <td>Brazil</td>\n",
       "      <td>30803995</td>\n",
       "      <td>665891</td>\n",
       "      <td>30791220</td>\n",
       "      <td>665854</td>\n",
       "      <td>12775</td>\n",
       "      <td>37</td>\n",
       "      <td>2.2</td>\n",
       "      <td>South America</td>\n",
       "    </tr>\n",
       "    <tr>\n",
       "      <th>3</th>\n",
       "      <td>France</td>\n",
       "      <td>29551335</td>\n",
       "      <td>148955</td>\n",
       "      <td>29580970</td>\n",
       "      <td>148823</td>\n",
       "      <td>0</td>\n",
       "      <td>132</td>\n",
       "      <td>0.5</td>\n",
       "      <td>Europe</td>\n",
       "    </tr>\n",
       "    <tr>\n",
       "      <th>4</th>\n",
       "      <td>Germany</td>\n",
       "      <td>26109965</td>\n",
       "      <td>138485</td>\n",
       "      <td>26045528</td>\n",
       "      <td>138326</td>\n",
       "      <td>64437</td>\n",
       "      <td>159</td>\n",
       "      <td>0.5</td>\n",
       "      <td>Europe</td>\n",
       "    </tr>\n",
       "  </tbody>\n",
       "</table>\n",
       "</div>"
      ],
      "text/plain": [
       "  Country/Region     Cases   Deaths    PCases  PDeaths  Cases (+)  Deaths (+)  \\\n",
       "0             US  83390587  1002377  83281329  1002173     109258         204   \n",
       "1          India  43140068   524490  43138393   524459       1675          31   \n",
       "2         Brazil  30803995   665891  30791220   665854      12775          37   \n",
       "3         France  29551335   148955  29580970   148823          0         132   \n",
       "4        Germany  26109965   138485  26045528   138326      64437         159   \n",
       "\n",
       "   Fatality Rate      Continent  \n",
       "0            1.2  North America  \n",
       "1            1.2           Asia  \n",
       "2            2.2  South America  \n",
       "3            0.5         Europe  \n",
       "4            0.5         Europe  "
      ]
     },
     "execution_count": 15,
     "metadata": {},
     "output_type": "execute_result"
    }
   ],
   "source": [
    "#hide\n",
    "df_table = (pd.DataFrame(dict(Cases=dfc_cases, Deaths=dfc_deaths, PCases=dfp_cases, PDeaths=dfp_deaths))\n",
    "             .sort_values(by=['Cases', 'Deaths'], ascending=[False, False])\n",
    "             .reset_index())\n",
    "df_table.rename(columns={'index': 'Country/Region'}, inplace=True)\n",
    "for c in 'Cases, Deaths'.split(', '):\n",
    "    df_table[f'{c} (+)'] = (df_table[c] - df_table[f'P{c}']).clip(0)  # DATA BUG\n",
    "df_table['Fatality Rate'] = (100 * df_table['Deaths'] / df_table['Cases']).round(1)\n",
    "df_table['Continent'] = df_table['Country/Region'].map(mapping['map.continent'])\n",
    "df_table.head(5)"
   ]
  },
  {
   "cell_type": "code",
   "execution_count": 16,
   "id": "fewer-occasion",
   "metadata": {
    "execution": {
     "iopub.execute_input": "2022-05-24T12:17:29.393483Z",
     "iopub.status.busy": "2022-05-24T12:17:29.392785Z",
     "iopub.status.idle": "2022-05-24T12:17:29.395323Z",
     "shell.execute_reply": "2022-05-24T12:17:29.394851Z"
    },
    "papermill": {
     "duration": 0.038741,
     "end_time": "2022-05-24T12:17:29.395440",
     "exception": false,
     "start_time": "2022-05-24T12:17:29.356699",
     "status": "completed"
    },
    "tags": []
   },
   "outputs": [],
   "source": [
    "#hide\n",
    "#delete problematic countries from table\n",
    "df_table = df_table[~df_table['Country/Region'].isin(['Cape Verde', 'Cruise Ship', 'Kosovo'])]"
   ]
  },
  {
   "cell_type": "code",
   "execution_count": 17,
   "id": "related-center",
   "metadata": {
    "execution": {
     "iopub.execute_input": "2022-05-24T12:17:29.474653Z",
     "iopub.status.busy": "2022-05-24T12:17:29.474068Z",
     "iopub.status.idle": "2022-05-24T12:17:29.476415Z",
     "shell.execute_reply": "2022-05-24T12:17:29.476868Z"
    },
    "papermill": {
     "duration": 0.05132,
     "end_time": "2022-05-24T12:17:29.476997",
     "exception": false,
     "start_time": "2022-05-24T12:17:29.425677",
     "status": "completed"
    },
    "tags": []
   },
   "outputs": [],
   "source": [
    "#hide\n",
    "metrics = [df_table.columns[index] for index in [1,2,5,6]]\n",
    "# s_china = df_table[df_table['Country/Region'].eq('China')][metrics].sum().add_prefix('China ')\n",
    "s_us = df_table[df_table['Country/Region'].eq('US')][metrics].sum().add_prefix('US ')\n",
    "s_eu = df_table[df_table['Continent'].eq('Europe')][metrics].sum().add_prefix('EU ')\n",
    "s_ind = df_table[df_table['Country/Region'].eq('India')][metrics].sum().add_prefix('India ')\n",
    "summary = {'updated': pd.to_datetime(dt_today), 'since': pd.to_datetime(dt_yday)}\n",
    "summary = {'updated': pd.to_datetime(dt_today), 'since': pd.to_datetime(dt_yday)}\n",
    "summary = {**summary, **df_table[metrics].sum(), **s_ind, **s_us, **s_eu}"
   ]
  },
  {
   "cell_type": "code",
   "execution_count": 18,
   "id": "engaging-syndrome",
   "metadata": {
    "execution": {
     "iopub.execute_input": "2022-05-24T12:17:29.543527Z",
     "iopub.status.busy": "2022-05-24T12:17:29.542949Z",
     "iopub.status.idle": "2022-05-24T12:17:29.562791Z",
     "shell.execute_reply": "2022-05-24T12:17:29.562129Z"
    },
    "papermill": {
     "duration": 0.055416,
     "end_time": "2022-05-24T12:17:29.562919",
     "exception": false,
     "start_time": "2022-05-24T12:17:29.507503",
     "status": "completed"
    },
    "tags": []
   },
   "outputs": [],
   "source": [
    "#hide\n",
    "dft_ct_new_cases = dft_cases.groupby(COL_REGION)[dt_cols].sum().diff(axis=1).fillna(0).astype(int)"
   ]
  },
  {
   "cell_type": "code",
   "execution_count": 19,
   "id": "neutral-assignment",
   "metadata": {
    "execution": {
     "iopub.execute_input": "2022-05-24T12:17:29.628093Z",
     "iopub.status.busy": "2022-05-24T12:17:29.627526Z",
     "iopub.status.idle": "2022-05-24T12:17:29.631985Z",
     "shell.execute_reply": "2022-05-24T12:17:29.632568Z"
    },
    "papermill": {
     "duration": 0.038712,
     "end_time": "2022-05-24T12:17:29.632696",
     "exception": false,
     "start_time": "2022-05-24T12:17:29.593984",
     "status": "completed"
    },
    "tags": []
   },
   "outputs": [],
   "source": [
    "#hide\n",
    "everydaycases = dft_ct_new_cases.cumsum(axis=1)"
   ]
  },
  {
   "cell_type": "code",
   "execution_count": 20,
   "id": "parliamentary-calgary",
   "metadata": {
    "execution": {
     "iopub.execute_input": "2022-05-24T12:17:29.697273Z",
     "iopub.status.busy": "2022-05-24T12:17:29.696694Z",
     "iopub.status.idle": "2022-05-24T12:17:30.278832Z",
     "shell.execute_reply": "2022-05-24T12:17:30.278248Z"
    },
    "papermill": {
     "duration": 0.616213,
     "end_time": "2022-05-24T12:17:30.278974",
     "exception": false,
     "start_time": "2022-05-24T12:17:29.662761",
     "status": "completed"
    },
    "tags": []
   },
   "outputs": [],
   "source": [
    "#hide\n",
    "import pandas as pd\n",
    "import matplotlib.pyplot as plt\n",
    "import matplotlib.ticker as ticker\n",
    "import matplotlib.animation as animation\n",
    "from IPython.display import HTML"
   ]
  },
  {
   "cell_type": "code",
   "execution_count": 21,
   "id": "lasting-extraction",
   "metadata": {
    "execution": {
     "iopub.execute_input": "2022-05-24T12:17:30.348644Z",
     "iopub.status.busy": "2022-05-24T12:17:30.347987Z",
     "iopub.status.idle": "2022-05-24T12:17:30.354550Z",
     "shell.execute_reply": "2022-05-24T12:17:30.355124Z"
    },
    "papermill": {
     "duration": 0.044909,
     "end_time": "2022-05-24T12:17:30.355257",
     "exception": false,
     "start_time": "2022-05-24T12:17:30.310348",
     "status": "completed"
    },
    "tags": []
   },
   "outputs": [],
   "source": [
    "#hide\n",
    "t = everydaycases.stack()"
   ]
  },
  {
   "cell_type": "code",
   "execution_count": 22,
   "id": "premier-sleeve",
   "metadata": {
    "execution": {
     "iopub.execute_input": "2022-05-24T12:17:30.421888Z",
     "iopub.status.busy": "2022-05-24T12:17:30.421209Z",
     "iopub.status.idle": "2022-05-24T12:17:30.432527Z",
     "shell.execute_reply": "2022-05-24T12:17:30.433101Z"
    },
    "papermill": {
     "duration": 0.046793,
     "end_time": "2022-05-24T12:17:30.433264",
     "exception": false,
     "start_time": "2022-05-24T12:17:30.386471",
     "status": "completed"
    },
    "tags": []
   },
   "outputs": [],
   "source": [
    "#hide\n",
    "g = t.reset_index(['Country/Region'])"
   ]
  },
  {
   "cell_type": "code",
   "execution_count": 23,
   "id": "distributed-pittsburgh",
   "metadata": {
    "execution": {
     "iopub.execute_input": "2022-05-24T12:17:30.499724Z",
     "iopub.status.busy": "2022-05-24T12:17:30.499092Z",
     "iopub.status.idle": "2022-05-24T12:17:30.502170Z",
     "shell.execute_reply": "2022-05-24T12:17:30.501672Z"
    },
    "papermill": {
     "duration": 0.037872,
     "end_time": "2022-05-24T12:17:30.502285",
     "exception": false,
     "start_time": "2022-05-24T12:17:30.464413",
     "status": "completed"
    },
    "tags": []
   },
   "outputs": [],
   "source": [
    "#hide\n",
    "g.index.name = 'date'"
   ]
  },
  {
   "cell_type": "code",
   "execution_count": 24,
   "id": "naked-donor",
   "metadata": {
    "execution": {
     "iopub.execute_input": "2022-05-24T12:17:30.568614Z",
     "iopub.status.busy": "2022-05-24T12:17:30.567909Z",
     "iopub.status.idle": "2022-05-24T12:17:30.570535Z",
     "shell.execute_reply": "2022-05-24T12:17:30.569968Z"
    },
    "papermill": {
     "duration": 0.036125,
     "end_time": "2022-05-24T12:17:30.570658",
     "exception": false,
     "start_time": "2022-05-24T12:17:30.534533",
     "status": "completed"
    },
    "tags": []
   },
   "outputs": [],
   "source": [
    "# #hide\n",
    "# g = g.reset_index(['date'])"
   ]
  },
  {
   "cell_type": "code",
   "execution_count": 25,
   "id": "incomplete-mustang",
   "metadata": {
    "execution": {
     "iopub.execute_input": "2022-05-24T12:17:30.634782Z",
     "iopub.status.busy": "2022-05-24T12:17:30.634134Z",
     "iopub.status.idle": "2022-05-24T12:17:30.636767Z",
     "shell.execute_reply": "2022-05-24T12:17:30.636249Z"
    },
    "papermill": {
     "duration": 0.035899,
     "end_time": "2022-05-24T12:17:30.636894",
     "exception": false,
     "start_time": "2022-05-24T12:17:30.600995",
     "status": "completed"
    },
    "tags": []
   },
   "outputs": [],
   "source": [
    "#hide\n",
    "# g.head()"
   ]
  },
  {
   "cell_type": "code",
   "execution_count": 26,
   "id": "specific-kruger",
   "metadata": {
    "execution": {
     "iopub.execute_input": "2022-05-24T12:17:30.701127Z",
     "iopub.status.busy": "2022-05-24T12:17:30.700544Z",
     "iopub.status.idle": "2022-05-24T12:17:30.703049Z",
     "shell.execute_reply": "2022-05-24T12:17:30.702481Z"
    },
    "papermill": {
     "duration": 0.035494,
     "end_time": "2022-05-24T12:17:30.703155",
     "exception": false,
     "start_time": "2022-05-24T12:17:30.667661",
     "status": "completed"
    },
    "tags": []
   },
   "outputs": [],
   "source": [
    "#hide\n",
    "# g.columns = ['date','country','cases']"
   ]
  },
  {
   "cell_type": "code",
   "execution_count": 27,
   "id": "tender-conversion",
   "metadata": {
    "execution": {
     "iopub.execute_input": "2022-05-24T12:17:30.766865Z",
     "iopub.status.busy": "2022-05-24T12:17:30.766207Z",
     "iopub.status.idle": "2022-05-24T12:17:30.770267Z",
     "shell.execute_reply": "2022-05-24T12:17:30.770747Z"
    },
    "papermill": {
     "duration": 0.037718,
     "end_time": "2022-05-24T12:17:30.770887",
     "exception": false,
     "start_time": "2022-05-24T12:17:30.733169",
     "status": "completed"
    },
    "tags": []
   },
   "outputs": [],
   "source": [
    "#hide\n",
    "# g['continent'] = g.country"
   ]
  },
  {
   "cell_type": "code",
   "execution_count": 28,
   "id": "substantial-wilderness",
   "metadata": {
    "execution": {
     "iopub.execute_input": "2022-05-24T12:17:30.835299Z",
     "iopub.status.busy": "2022-05-24T12:17:30.834656Z",
     "iopub.status.idle": "2022-05-24T12:17:30.837136Z",
     "shell.execute_reply": "2022-05-24T12:17:30.836603Z"
    },
    "papermill": {
     "duration": 0.035521,
     "end_time": "2022-05-24T12:17:30.837253",
     "exception": false,
     "start_time": "2022-05-24T12:17:30.801732",
     "status": "completed"
    },
    "tags": []
   },
   "outputs": [],
   "source": [
    "#hide\n",
    "# cols = list(g.columns.values)"
   ]
  },
  {
   "cell_type": "code",
   "execution_count": 29,
   "id": "solved-farming",
   "metadata": {
    "execution": {
     "iopub.execute_input": "2022-05-24T12:17:30.902120Z",
     "iopub.status.busy": "2022-05-24T12:17:30.901468Z",
     "iopub.status.idle": "2022-05-24T12:17:30.904012Z",
     "shell.execute_reply": "2022-05-24T12:17:30.903449Z"
    },
    "papermill": {
     "duration": 0.035936,
     "end_time": "2022-05-24T12:17:30.904129",
     "exception": false,
     "start_time": "2022-05-24T12:17:30.868193",
     "status": "completed"
    },
    "tags": []
   },
   "outputs": [],
   "source": [
    "#hide\n",
    "# cols.insert(0, cols.pop())"
   ]
  },
  {
   "cell_type": "code",
   "execution_count": 30,
   "id": "executed-adoption",
   "metadata": {
    "execution": {
     "iopub.execute_input": "2022-05-24T12:17:30.969054Z",
     "iopub.status.busy": "2022-05-24T12:17:30.968462Z",
     "iopub.status.idle": "2022-05-24T12:17:30.970601Z",
     "shell.execute_reply": "2022-05-24T12:17:30.971150Z"
    },
    "papermill": {
     "duration": 0.036589,
     "end_time": "2022-05-24T12:17:30.971273",
     "exception": false,
     "start_time": "2022-05-24T12:17:30.934684",
     "status": "completed"
    },
    "tags": []
   },
   "outputs": [],
   "source": [
    "#hide\n",
    "# g = g[cols]"
   ]
  },
  {
   "cell_type": "code",
   "execution_count": 31,
   "id": "subject-dublin",
   "metadata": {
    "execution": {
     "iopub.execute_input": "2022-05-24T12:17:31.035826Z",
     "iopub.status.busy": "2022-05-24T12:17:31.035156Z",
     "iopub.status.idle": "2022-05-24T12:17:31.038815Z",
     "shell.execute_reply": "2022-05-24T12:17:31.039239Z"
    },
    "papermill": {
     "duration": 0.037932,
     "end_time": "2022-05-24T12:17:31.039371",
     "exception": false,
     "start_time": "2022-05-24T12:17:31.001439",
     "status": "completed"
    },
    "tags": []
   },
   "outputs": [],
   "source": [
    "#hide\n",
    "# g['continent'] = g['continent'].map(mapping['map.continent'])"
   ]
  },
  {
   "cell_type": "code",
   "execution_count": 32,
   "id": "freelance-scout",
   "metadata": {
    "execution": {
     "iopub.execute_input": "2022-05-24T12:17:31.104159Z",
     "iopub.status.busy": "2022-05-24T12:17:31.103490Z",
     "iopub.status.idle": "2022-05-24T12:17:31.107571Z",
     "shell.execute_reply": "2022-05-24T12:17:31.107036Z"
    },
    "papermill": {
     "duration": 0.037748,
     "end_time": "2022-05-24T12:17:31.107691",
     "exception": false,
     "start_time": "2022-05-24T12:17:31.069943",
     "status": "completed"
    },
    "tags": []
   },
   "outputs": [],
   "source": [
    "#hide\n",
    "# g.head()"
   ]
  },
  {
   "cell_type": "code",
   "execution_count": 33,
   "id": "limited-engine",
   "metadata": {
    "execution": {
     "iopub.execute_input": "2022-05-24T12:17:31.171904Z",
     "iopub.status.busy": "2022-05-24T12:17:31.171333Z",
     "iopub.status.idle": "2022-05-24T12:17:31.173705Z",
     "shell.execute_reply": "2022-05-24T12:17:31.174124Z"
    },
    "papermill": {
     "duration": 0.036374,
     "end_time": "2022-05-24T12:17:31.174251",
     "exception": false,
     "start_time": "2022-05-24T12:17:31.137877",
     "status": "completed"
    },
    "tags": []
   },
   "outputs": [],
   "source": [
    "# hide\n",
    "# g['date'] = g['date'].astype('datetime64[ns]')"
   ]
  },
  {
   "cell_type": "code",
   "execution_count": 34,
   "id": "sophisticated-supervisor",
   "metadata": {
    "execution": {
     "iopub.execute_input": "2022-05-24T12:17:31.239121Z",
     "iopub.status.busy": "2022-05-24T12:17:31.238433Z",
     "iopub.status.idle": "2022-05-24T12:17:31.240847Z",
     "shell.execute_reply": "2022-05-24T12:17:31.240369Z"
    },
    "papermill": {
     "duration": 0.036131,
     "end_time": "2022-05-24T12:17:31.240955",
     "exception": false,
     "start_time": "2022-05-24T12:17:31.204824",
     "status": "completed"
    },
    "tags": []
   },
   "outputs": [],
   "source": [
    "#hide\n",
    "# g['date'] = g.date.dt.dayofyear"
   ]
  },
  {
   "cell_type": "code",
   "execution_count": 35,
   "id": "inside-dubai",
   "metadata": {
    "execution": {
     "iopub.execute_input": "2022-05-24T12:17:31.305268Z",
     "iopub.status.busy": "2022-05-24T12:17:31.304680Z",
     "iopub.status.idle": "2022-05-24T12:17:31.307201Z",
     "shell.execute_reply": "2022-05-24T12:17:31.306729Z"
    },
    "papermill": {
     "duration": 0.036081,
     "end_time": "2022-05-24T12:17:31.307310",
     "exception": false,
     "start_time": "2022-05-24T12:17:31.271229",
     "status": "completed"
    },
    "tags": []
   },
   "outputs": [],
   "source": [
    "#hide\n",
    "# g = g.rename(columns= {'continent':'group','country':'name','cases':'value'})"
   ]
  },
  {
   "cell_type": "code",
   "execution_count": 36,
   "id": "fleet-motorcycle",
   "metadata": {
    "execution": {
     "iopub.execute_input": "2022-05-24T12:17:31.372621Z",
     "iopub.status.busy": "2022-05-24T12:17:31.372010Z",
     "iopub.status.idle": "2022-05-24T12:17:31.374573Z",
     "shell.execute_reply": "2022-05-24T12:17:31.374103Z"
    },
    "papermill": {
     "duration": 0.035996,
     "end_time": "2022-05-24T12:17:31.374679",
     "exception": false,
     "start_time": "2022-05-24T12:17:31.338683",
     "status": "completed"
    },
    "tags": []
   },
   "outputs": [],
   "source": [
    "#hide\n",
    "# cols = ['name','group','day','value']"
   ]
  },
  {
   "cell_type": "code",
   "execution_count": 37,
   "id": "continued-sleeping",
   "metadata": {
    "execution": {
     "iopub.execute_input": "2022-05-24T12:17:31.439086Z",
     "iopub.status.busy": "2022-05-24T12:17:31.438409Z",
     "iopub.status.idle": "2022-05-24T12:17:31.440905Z",
     "shell.execute_reply": "2022-05-24T12:17:31.440245Z"
    },
    "papermill": {
     "duration": 0.036239,
     "end_time": "2022-05-24T12:17:31.441028",
     "exception": false,
     "start_time": "2022-05-24T12:17:31.404789",
     "status": "completed"
    },
    "tags": []
   },
   "outputs": [],
   "source": [
    "#hide\n",
    "# g.rename(columns= {'date':'day'},inplace = True)"
   ]
  },
  {
   "cell_type": "code",
   "execution_count": 38,
   "id": "major-fight",
   "metadata": {
    "execution": {
     "iopub.execute_input": "2022-05-24T12:17:31.505566Z",
     "iopub.status.busy": "2022-05-24T12:17:31.504893Z",
     "iopub.status.idle": "2022-05-24T12:17:31.507422Z",
     "shell.execute_reply": "2022-05-24T12:17:31.506885Z"
    },
    "papermill": {
     "duration": 0.0361,
     "end_time": "2022-05-24T12:17:31.507542",
     "exception": false,
     "start_time": "2022-05-24T12:17:31.471442",
     "status": "completed"
    },
    "tags": []
   },
   "outputs": [],
   "source": [
    "#hide\n",
    "# g = g[cols]"
   ]
  },
  {
   "cell_type": "code",
   "execution_count": 39,
   "id": "structured-mobile",
   "metadata": {
    "execution": {
     "iopub.execute_input": "2022-05-24T12:17:31.572558Z",
     "iopub.status.busy": "2022-05-24T12:17:31.571864Z",
     "iopub.status.idle": "2022-05-24T12:17:31.573947Z",
     "shell.execute_reply": "2022-05-24T12:17:31.574388Z"
    },
    "papermill": {
     "duration": 0.036016,
     "end_time": "2022-05-24T12:17:31.574515",
     "exception": false,
     "start_time": "2022-05-24T12:17:31.538499",
     "status": "completed"
    },
    "tags": []
   },
   "outputs": [],
   "source": [
    "# #hide\n",
    "# g = g[g.group.notna()]"
   ]
  },
  {
   "cell_type": "code",
   "execution_count": 40,
   "id": "determined-closing",
   "metadata": {
    "execution": {
     "iopub.execute_input": "2022-05-24T12:17:31.638972Z",
     "iopub.status.busy": "2022-05-24T12:17:31.638379Z",
     "iopub.status.idle": "2022-05-24T12:17:31.640562Z",
     "shell.execute_reply": "2022-05-24T12:17:31.641119Z"
    },
    "papermill": {
     "duration": 0.036369,
     "end_time": "2022-05-24T12:17:31.641247",
     "exception": false,
     "start_time": "2022-05-24T12:17:31.604878",
     "status": "completed"
    },
    "tags": []
   },
   "outputs": [],
   "source": [
    "# #hide\n",
    "# colors = dict(zip(\n",
    "#     [\"Oceania\", \"Europe\", \"Asia\", \"South America\", \"Middle East\", \"North America\", \"Africa\"],\n",
    "#     [\"#adb0ff\", \"#ffb3ff\", \"#90d595\", \"#e48381\", \"#aafbff\", \"#f7bb5f\", \"#eafb50\"]\n",
    "# ))\n",
    "# group_lk = g.set_index('name')['group'].to_dict()"
   ]
  },
  {
   "cell_type": "code",
   "execution_count": null,
   "id": "gross-drinking",
   "metadata": {
    "papermill": {
     "duration": 0.030392,
     "end_time": "2022-05-24T12:17:31.701764",
     "exception": false,
     "start_time": "2022-05-24T12:17:31.671372",
     "status": "completed"
    },
    "tags": []
   },
   "outputs": [],
   "source": []
  },
  {
   "cell_type": "code",
   "execution_count": 41,
   "id": "subject-macintosh",
   "metadata": {
    "execution": {
     "iopub.execute_input": "2022-05-24T12:17:31.767655Z",
     "iopub.status.busy": "2022-05-24T12:17:31.766949Z",
     "iopub.status.idle": "2022-05-24T12:17:31.768602Z",
     "shell.execute_reply": "2022-05-24T12:17:31.769072Z"
    },
    "papermill": {
     "duration": 0.037049,
     "end_time": "2022-05-24T12:17:31.769201",
     "exception": false,
     "start_time": "2022-05-24T12:17:31.732152",
     "status": "completed"
    },
    "tags": []
   },
   "outputs": [],
   "source": [
    "# #hide\n",
    "# fig, ax = plt.subplots(figsize=(15, 8))\n",
    "\n",
    "# def draw_barchart(current_day):\n",
    "#     dff = g[g['day'].eq(current_day)].sort_values(by='value', ascending=True).tail(10)\n",
    "#     ax.clear()\n",
    "#     ax.barh(dff['name'], dff['value'], color=[colors[group_lk[x]] for x in dff['name']])\n",
    "#     dx = dff['value'].max() / 200\n",
    "    \n",
    "#     for i, (value, name) in enumerate(zip(dff['value'], dff['name'])):\n",
    "#         ax.text(value-dx, i,     name,           size=14, weight=600, ha='right', va='bottom')\n",
    "#         ax.text(value-dx, i-.25, group_lk[name], size=10, color='#444444', ha='right', va='baseline')\n",
    "#         ax.text(value+dx, i,     f'{value:,.0f}',  size=14, ha='left',  va='center')\n",
    "#     ax.text(1, 0.4, current_day, transform=ax.transAxes, color='#777777', size=46, ha='right', weight=800)\n",
    "#     ax.text(0, 1.06, 'Population (thousands)', transform=ax.transAxes, size=12, color='#777777')\n",
    "#     ax.xaxis.set_major_formatter(ticker.StrMethodFormatter('{x:,.0f}'))\n",
    "#     ax.xaxis.set_ticks_position('top')\n",
    "#     ax.tick_params(axis='x', colors='#777777', labelsize=12)\n",
    "#     ax.set_yticks([])\n",
    "#     ax.margins(0, 0.01)\n",
    "#     ax.grid(which='major', axis='x', linestyle='-')\n",
    "#     ax.set_axisbelow(True)\n",
    "    \n",
    "#     ax.text(0, 1.15, 'Coronavirus',\n",
    "#             transform=ax.transAxes, size=24, weight=600, ha='left', va='top')\n",
    "# #     ax.text(1, 0, 'by @pratapvardhan; credit @jburnmurdoch', transform=ax.transAxes, color='#777777', ha='right',\n",
    "# #             bbox=dict(facecolor='white', alpha=0.8, edgecolor='white'))\n",
    "#     plt.box(False)"
   ]
  },
  {
   "cell_type": "code",
   "execution_count": 42,
   "id": "sexual-wages",
   "metadata": {
    "execution": {
     "iopub.execute_input": "2022-05-24T12:17:31.833437Z",
     "iopub.status.busy": "2022-05-24T12:17:31.832774Z",
     "iopub.status.idle": "2022-05-24T12:17:31.836432Z",
     "shell.execute_reply": "2022-05-24T12:17:31.836944Z"
    },
    "papermill": {
     "duration": 0.037602,
     "end_time": "2022-05-24T12:17:31.837084",
     "exception": false,
     "start_time": "2022-05-24T12:17:31.799482",
     "status": "completed"
    },
    "tags": []
   },
   "outputs": [],
   "source": [
    "# #hide_input\n",
    "# fig, ax = plt.subplots(figsize=(15, 8))\n",
    "# animator = animation.FuncAnimation(fig, draw_barchart, frames=range(g.day.values.min(), g.day.values.max()))\n",
    "# HTML(animator.to_jshtml())\n",
    "# # or use animator.to_html5_video() or animator.save() "
   ]
  },
  {
   "cell_type": "code",
   "execution_count": null,
   "id": "australian-container",
   "metadata": {
    "papermill": {
     "duration": 0.030021,
     "end_time": "2022-05-24T12:17:31.897410",
     "exception": false,
     "start_time": "2022-05-24T12:17:31.867389",
     "status": "completed"
    },
    "tags": []
   },
   "outputs": [],
   "source": []
  },
  {
   "cell_type": "code",
   "execution_count": null,
   "id": "mediterranean-pontiac",
   "metadata": {
    "papermill": {
     "duration": 0.030007,
     "end_time": "2022-05-24T12:17:31.957424",
     "exception": false,
     "start_time": "2022-05-24T12:17:31.927417",
     "status": "completed"
    },
    "tags": []
   },
   "outputs": [],
   "source": []
  },
  {
   "cell_type": "code",
   "execution_count": null,
   "id": "aging-legislature",
   "metadata": {
    "papermill": {
     "duration": 0.030153,
     "end_time": "2022-05-24T12:17:32.017828",
     "exception": false,
     "start_time": "2022-05-24T12:17:31.987675",
     "status": "completed"
    },
    "tags": []
   },
   "outputs": [],
   "source": []
  }
 ],
 "metadata": {
  "kernelspec": {
   "display_name": "Python 3",
   "language": "python",
   "name": "python3"
  },
  "language_info": {
   "codemirror_mode": {
    "name": "ipython",
    "version": 3
   },
   "file_extension": ".py",
   "mimetype": "text/x-python",
   "name": "python",
   "nbconvert_exporter": "python",
   "pygments_lexer": "ipython3",
   "version": "3.6.15"
  },
  "papermill": {
   "duration": 5.876821,
   "end_time": "2022-05-24T12:17:32.367060",
   "environment_variables": {},
   "exception": null,
   "input_path": "2020-03-21-covid19exp.ipynb",
   "output_path": "2020-03-21-covid19exp.ipynb",
   "parameters": {},
   "start_time": "2022-05-24T12:17:26.490239",
   "version": "2.0.0"
  }
 },
 "nbformat": 4,
 "nbformat_minor": 5
}