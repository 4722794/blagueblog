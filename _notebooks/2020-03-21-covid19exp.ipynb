{
 "cells": [
  {
   "cell_type": "markdown",
   "id": "muslim-click",
   "metadata": {
    "papermill": {
     "duration": 0.035013,
     "end_time": "2022-09-23T12:20:06.386349",
     "exception": false,
     "start_time": "2022-09-23T12:20:06.351336",
     "status": "completed"
    },
    "tags": []
   },
   "source": [
    "# COVID-19 Case Race\n",
    "> A race chart to see rising cases around the world\n",
    "\n",
    "- author: Hargun Oberoi\n",
    "- image: images/covid-overview.png\n",
    "- hide: false\n",
    "- badges: false"
   ]
  },
  {
   "cell_type": "code",
   "execution_count": 1,
   "id": "proof-material",
   "metadata": {
    "execution": {
     "iopub.execute_input": "2022-09-23T12:20:06.456644Z",
     "iopub.status.busy": "2022-09-23T12:20:06.456065Z",
     "iopub.status.idle": "2022-09-23T12:20:06.771041Z",
     "shell.execute_reply": "2022-09-23T12:20:06.770538Z"
    },
    "papermill": {
     "duration": 0.354197,
     "end_time": "2022-09-23T12:20:06.771169",
     "exception": false,
     "start_time": "2022-09-23T12:20:06.416972",
     "status": "completed"
    },
    "tags": []
   },
   "outputs": [],
   "source": [
    "#hide\n",
    "import numpy as np\n",
    "import pandas as pd\n",
    "from jinja2 import Template\n",
    "from IPython.display import HTML"
   ]
  },
  {
   "cell_type": "code",
   "execution_count": 2,
   "id": "developed-terminology",
   "metadata": {
    "execution": {
     "iopub.execute_input": "2022-09-23T12:20:06.836310Z",
     "iopub.status.busy": "2022-09-23T12:20:06.835746Z",
     "iopub.status.idle": "2022-09-23T12:20:06.837993Z",
     "shell.execute_reply": "2022-09-23T12:20:06.838443Z"
    },
    "papermill": {
     "duration": 0.03754,
     "end_time": "2022-09-23T12:20:06.838559",
     "exception": false,
     "start_time": "2022-09-23T12:20:06.801019",
     "status": "completed"
    },
    "tags": []
   },
   "outputs": [],
   "source": [
    "#hide\n",
    "\n",
    "# FETCH\n",
    "base_url = 'https://raw.githubusercontent.com/pratapvardhan/notebooks/master/covid19/'\n",
    "paths = {\n",
    "    'mapping': base_url + 'mapping_countries.csv',\n",
    "    'overview': base_url + 'overview.tpl'\n",
    "}"
   ]
  },
  {
   "cell_type": "code",
   "execution_count": 3,
   "id": "dynamic-saver",
   "metadata": {
    "execution": {
     "iopub.execute_input": "2022-09-23T12:20:06.907074Z",
     "iopub.status.busy": "2022-09-23T12:20:06.906473Z",
     "iopub.status.idle": "2022-09-23T12:20:06.910066Z",
     "shell.execute_reply": "2022-09-23T12:20:06.909611Z"
    },
    "papermill": {
     "duration": 0.041896,
     "end_time": "2022-09-23T12:20:06.910168",
     "exception": false,
     "start_time": "2022-09-23T12:20:06.868272",
     "status": "completed"
    },
    "tags": []
   },
   "outputs": [
    {
     "data": {
      "text/plain": [
       "'https://raw.githubusercontent.com/pratapvardhan/notebooks/master/covid19/mapping_countries.csv'"
      ]
     },
     "execution_count": 3,
     "metadata": {},
     "output_type": "execute_result"
    }
   ],
   "source": [
    "#hide\n",
    "paths['mapping']"
   ]
  },
  {
   "cell_type": "code",
   "execution_count": 4,
   "id": "urban-software",
   "metadata": {
    "execution": {
     "iopub.execute_input": "2022-09-23T12:20:06.975941Z",
     "iopub.status.busy": "2022-09-23T12:20:06.975372Z",
     "iopub.status.idle": "2022-09-23T12:20:06.977328Z",
     "shell.execute_reply": "2022-09-23T12:20:06.977728Z"
    },
    "papermill": {
     "duration": 0.037443,
     "end_time": "2022-09-23T12:20:06.977849",
     "exception": false,
     "start_time": "2022-09-23T12:20:06.940406",
     "status": "completed"
    },
    "tags": []
   },
   "outputs": [],
   "source": [
    "#hide\n",
    "def get_mappings(url):\n",
    "    df = pd.read_csv(url)\n",
    "    return {\n",
    "        'df': df,\n",
    "        'replace.country': dict(df.dropna(subset=['Name']).set_index('Country')['Name']),\n",
    "        'map.continent': dict(df.set_index('Name')['Continent'])\n",
    "    }"
   ]
  },
  {
   "cell_type": "code",
   "execution_count": 5,
   "id": "intimate-machinery",
   "metadata": {
    "execution": {
     "iopub.execute_input": "2022-09-23T12:20:07.043472Z",
     "iopub.status.busy": "2022-09-23T12:20:07.042894Z",
     "iopub.status.idle": "2022-09-23T12:20:07.104688Z",
     "shell.execute_reply": "2022-09-23T12:20:07.105153Z"
    },
    "papermill": {
     "duration": 0.097141,
     "end_time": "2022-09-23T12:20:07.105284",
     "exception": false,
     "start_time": "2022-09-23T12:20:07.008143",
     "status": "completed"
    },
    "tags": []
   },
   "outputs": [],
   "source": [
    "#hide\n",
    "mapping = get_mappings(paths['mapping'])"
   ]
  },
  {
   "cell_type": "code",
   "execution_count": 6,
   "id": "certified-tactics",
   "metadata": {
    "execution": {
     "iopub.execute_input": "2022-09-23T12:20:07.171159Z",
     "iopub.status.busy": "2022-09-23T12:20:07.170539Z",
     "iopub.status.idle": "2022-09-23T12:20:07.172946Z",
     "shell.execute_reply": "2022-09-23T12:20:07.172382Z"
    },
    "papermill": {
     "duration": 0.037458,
     "end_time": "2022-09-23T12:20:07.173050",
     "exception": false,
     "start_time": "2022-09-23T12:20:07.135592",
     "status": "completed"
    },
    "tags": []
   },
   "outputs": [],
   "source": [
    "#hide\n",
    "def get_template(path):\n",
    "    from urllib.parse import urlparse\n",
    "    if bool(urlparse(path).netloc):\n",
    "        from urllib.request import urlopen\n",
    "        return urlopen(path).read().decode('utf8')\n",
    "    return open(path).read()"
   ]
  },
  {
   "cell_type": "code",
   "execution_count": 7,
   "id": "realistic-blast",
   "metadata": {
    "execution": {
     "iopub.execute_input": "2022-09-23T12:20:07.238729Z",
     "iopub.status.busy": "2022-09-23T12:20:07.238126Z",
     "iopub.status.idle": "2022-09-23T12:20:07.239890Z",
     "shell.execute_reply": "2022-09-23T12:20:07.240315Z"
    },
    "papermill": {
     "duration": 0.037067,
     "end_time": "2022-09-23T12:20:07.240437",
     "exception": false,
     "start_time": "2022-09-23T12:20:07.203370",
     "status": "completed"
    },
    "tags": []
   },
   "outputs": [],
   "source": [
    "#hide\n",
    "def get_frame(name):\n",
    "    url = (\n",
    "        'https://raw.githubusercontent.com/CSSEGISandData/COVID-19/master/csse_covid_19_data/'\n",
    "        f'csse_covid_19_time_series/time_series_covid19_{name}_global.csv')\n",
    "    df = pd.read_csv(url)\n",
    "    # rename countries\n",
    "    df['Country/Region'] = df['Country/Region'].replace(mapping['replace.country'])\n",
    "    return df"
   ]
  },
  {
   "cell_type": "code",
   "execution_count": 8,
   "id": "affiliated-characterization",
   "metadata": {
    "execution": {
     "iopub.execute_input": "2022-09-23T12:20:07.306569Z",
     "iopub.status.busy": "2022-09-23T12:20:07.305979Z",
     "iopub.status.idle": "2022-09-23T12:20:07.308290Z",
     "shell.execute_reply": "2022-09-23T12:20:07.308714Z"
    },
    "papermill": {
     "duration": 0.038169,
     "end_time": "2022-09-23T12:20:07.308838",
     "exception": false,
     "start_time": "2022-09-23T12:20:07.270669",
     "status": "completed"
    },
    "tags": []
   },
   "outputs": [],
   "source": [
    "#hide\n",
    "def get_dates(df):\n",
    "    dt_cols = df.columns[~df.columns.isin(['Province/State', 'Country/Region', 'Lat', 'Long'])]\n",
    "    LAST_DATE_I = -1\n",
    "    # sometimes last column may be empty, then go backwards\n",
    "    for i in range(-1, -len(dt_cols), -1):\n",
    "        if not df[dt_cols[i]].fillna(0).eq(0).all():\n",
    "            LAST_DATE_I = i\n",
    "            break\n",
    "    return LAST_DATE_I, dt_cols"
   ]
  },
  {
   "cell_type": "code",
   "execution_count": 9,
   "id": "recent-optimization",
   "metadata": {
    "execution": {
     "iopub.execute_input": "2022-09-23T12:20:07.373901Z",
     "iopub.status.busy": "2022-09-23T12:20:07.373328Z",
     "iopub.status.idle": "2022-09-23T12:20:07.837908Z",
     "shell.execute_reply": "2022-09-23T12:20:07.837429Z"
    },
    "papermill": {
     "duration": 0.499105,
     "end_time": "2022-09-23T12:20:07.838023",
     "exception": false,
     "start_time": "2022-09-23T12:20:07.338918",
     "status": "completed"
    },
    "tags": []
   },
   "outputs": [],
   "source": [
    "#hide\n",
    "COL_REGION = 'Country/Region'\n",
    "# Confirmed, Recovered, Deaths\n",
    "df = get_frame('confirmed')\n",
    "# dft_: timeseries, dfc_: today country agg\n",
    "dft_cases = df\n",
    "dft_deaths = get_frame('deaths')\n",
    "dft_recovered = get_frame('recovered')\n",
    "LAST_DATE_I, dt_cols = get_dates(df)"
   ]
  },
  {
   "cell_type": "code",
   "execution_count": 10,
   "id": "absolute-copper",
   "metadata": {
    "execution": {
     "iopub.execute_input": "2022-09-23T12:20:07.904236Z",
     "iopub.status.busy": "2022-09-23T12:20:07.903649Z",
     "iopub.status.idle": "2022-09-23T12:20:07.906094Z",
     "shell.execute_reply": "2022-09-23T12:20:07.905547Z"
    },
    "papermill": {
     "duration": 0.037697,
     "end_time": "2022-09-23T12:20:07.906198",
     "exception": false,
     "start_time": "2022-09-23T12:20:07.868501",
     "status": "completed"
    },
    "tags": []
   },
   "outputs": [],
   "source": [
    "#hide\n",
    "LAST_DATE_I, dt_cols = get_dates(df)\n",
    "dt_today =dt_cols[LAST_DATE_I]\n",
    "# dt_5day = dt_cols[LAST_DATE_I - 5]\n",
    "dt_yday = dt_cols[LAST_DATE_I - 1]"
   ]
  },
  {
   "cell_type": "code",
   "execution_count": 11,
   "id": "restricted-sheriff",
   "metadata": {
    "execution": {
     "iopub.execute_input": "2022-09-23T12:20:07.973945Z",
     "iopub.status.busy": "2022-09-23T12:20:07.973369Z",
     "iopub.status.idle": "2022-09-23T12:20:07.979308Z",
     "shell.execute_reply": "2022-09-23T12:20:07.978826Z"
    },
    "papermill": {
     "duration": 0.043114,
     "end_time": "2022-09-23T12:20:07.979413",
     "exception": false,
     "start_time": "2022-09-23T12:20:07.936299",
     "status": "completed"
    },
    "tags": []
   },
   "outputs": [],
   "source": [
    "#hide\n",
    "dfc_cases = dft_cases.groupby(COL_REGION)[dt_today].sum()\n",
    "dfc_deaths = dft_deaths.groupby(COL_REGION)[dt_today].sum()\n",
    "# dfp_cases = dft_cases.groupby(COL_REGION)[dt_5day].sum()\n",
    "# dfp_deaths = dft_deaths.groupby(COL_REGION)[dt_5day].sum()\n",
    "dfp_cases = dft_cases.groupby(COL_REGION)[dt_yday].sum()\n",
    "dfp_deaths = dft_deaths.groupby(COL_REGION)[dt_yday].sum()"
   ]
  },
  {
   "cell_type": "code",
   "execution_count": 12,
   "id": "deluxe-hepatitis",
   "metadata": {
    "execution": {
     "iopub.execute_input": "2022-09-23T12:20:08.045565Z",
     "iopub.status.busy": "2022-09-23T12:20:08.045014Z",
     "iopub.status.idle": "2022-09-23T12:20:08.049220Z",
     "shell.execute_reply": "2022-09-23T12:20:08.049665Z"
    },
    "papermill": {
     "duration": 0.040179,
     "end_time": "2022-09-23T12:20:08.049781",
     "exception": false,
     "start_time": "2022-09-23T12:20:08.009602",
     "status": "completed"
    },
    "tags": []
   },
   "outputs": [],
   "source": [
    "#hide\n",
    "df_table = (pd.DataFrame(dict(Cases = dfc_cases, Deaths = dfc_deaths, PCases = dfp_cases, PDeaths = dfp_deaths))\n",
    "            .sort_values(by = ['Cases','Deaths'], ascending = [False, False])\n",
    "            .reset_index())"
   ]
  },
  {
   "cell_type": "code",
   "execution_count": 13,
   "id": "educational-chancellor",
   "metadata": {
    "execution": {
     "iopub.execute_input": "2022-09-23T12:20:08.122431Z",
     "iopub.status.busy": "2022-09-23T12:20:08.121867Z",
     "iopub.status.idle": "2022-09-23T12:20:08.133701Z",
     "shell.execute_reply": "2022-09-23T12:20:08.133246Z"
    },
    "papermill": {
     "duration": 0.053981,
     "end_time": "2022-09-23T12:20:08.133803",
     "exception": false,
     "start_time": "2022-09-23T12:20:08.079822",
     "status": "completed"
    },
    "tags": []
   },
   "outputs": [
    {
     "data": {
      "text/html": [
       "<div>\n",
       "<style scoped>\n",
       "    .dataframe tbody tr th:only-of-type {\n",
       "        vertical-align: middle;\n",
       "    }\n",
       "\n",
       "    .dataframe tbody tr th {\n",
       "        vertical-align: top;\n",
       "    }\n",
       "\n",
       "    .dataframe thead th {\n",
       "        text-align: right;\n",
       "    }\n",
       "</style>\n",
       "<table border=\"1\" class=\"dataframe\">\n",
       "  <thead>\n",
       "    <tr style=\"text-align: right;\">\n",
       "      <th></th>\n",
       "      <th>Country/Region</th>\n",
       "      <th>Cases</th>\n",
       "      <th>Deaths</th>\n",
       "      <th>PCases</th>\n",
       "      <th>PDeaths</th>\n",
       "      <th>Cases (+)</th>\n",
       "      <th>Deaths (+)</th>\n",
       "      <th>Fatality Rate</th>\n",
       "      <th>Continent</th>\n",
       "    </tr>\n",
       "  </thead>\n",
       "  <tbody>\n",
       "    <tr>\n",
       "      <th>0</th>\n",
       "      <td>US</td>\n",
       "      <td>95969895</td>\n",
       "      <td>1055922</td>\n",
       "      <td>95888756</td>\n",
       "      <td>1055287</td>\n",
       "      <td>81139</td>\n",
       "      <td>635</td>\n",
       "      <td>1.10</td>\n",
       "      <td>North America</td>\n",
       "    </tr>\n",
       "    <tr>\n",
       "      <th>1</th>\n",
       "      <td>India</td>\n",
       "      <td>44558425</td>\n",
       "      <td>528449</td>\n",
       "      <td>44553042</td>\n",
       "      <td>528429</td>\n",
       "      <td>5383</td>\n",
       "      <td>20</td>\n",
       "      <td>1.19</td>\n",
       "      <td>Asia</td>\n",
       "    </tr>\n",
       "    <tr>\n",
       "      <th>2</th>\n",
       "      <td>France</td>\n",
       "      <td>35267124</td>\n",
       "      <td>155894</td>\n",
       "      <td>35228660</td>\n",
       "      <td>155864</td>\n",
       "      <td>38464</td>\n",
       "      <td>30</td>\n",
       "      <td>0.44</td>\n",
       "      <td>Europe</td>\n",
       "    </tr>\n",
       "    <tr>\n",
       "      <th>3</th>\n",
       "      <td>Brazil</td>\n",
       "      <td>34616655</td>\n",
       "      <td>685677</td>\n",
       "      <td>34592027</td>\n",
       "      <td>685428</td>\n",
       "      <td>24628</td>\n",
       "      <td>249</td>\n",
       "      <td>1.98</td>\n",
       "      <td>South America</td>\n",
       "    </tr>\n",
       "    <tr>\n",
       "      <th>4</th>\n",
       "      <td>Germany</td>\n",
       "      <td>32905086</td>\n",
       "      <td>149368</td>\n",
       "      <td>32854286</td>\n",
       "      <td>149275</td>\n",
       "      <td>50800</td>\n",
       "      <td>93</td>\n",
       "      <td>0.45</td>\n",
       "      <td>Europe</td>\n",
       "    </tr>\n",
       "  </tbody>\n",
       "</table>\n",
       "</div>"
      ],
      "text/plain": [
       "  Country/Region     Cases   Deaths    PCases  PDeaths  Cases (+)  Deaths (+)  \\\n",
       "0             US  95969895  1055922  95888756  1055287      81139         635   \n",
       "1          India  44558425   528449  44553042   528429       5383          20   \n",
       "2         France  35267124   155894  35228660   155864      38464          30   \n",
       "3         Brazil  34616655   685677  34592027   685428      24628         249   \n",
       "4        Germany  32905086   149368  32854286   149275      50800          93   \n",
       "\n",
       "   Fatality Rate      Continent  \n",
       "0           1.10  North America  \n",
       "1           1.19           Asia  \n",
       "2           0.44         Europe  \n",
       "3           1.98  South America  \n",
       "4           0.45         Europe  "
      ]
     },
     "execution_count": 13,
     "metadata": {},
     "output_type": "execute_result"
    }
   ],
   "source": [
    "#hide\n",
    "for c in 'Cases, Deaths'.split(', '):\n",
    "    df_table[f'{c} (+)'] = (df_table[c] - df_table[f'P{c}']).clip(0)\n",
    "    #Clip ça veut dire, les chiffres negatif sont interdit\n",
    "df_table['Fatality Rate'] = (100* df_table['Deaths']/ df_table['Cases']).round(2)\n",
    "df_table['Continent'] = df_table['Country/Region'].map(mapping['map.continent'])\n",
    "df_table.head(5)"
   ]
  },
  {
   "cell_type": "code",
   "execution_count": 14,
   "id": "aboriginal-bulgaria",
   "metadata": {
    "execution": {
     "iopub.execute_input": "2022-09-23T12:20:08.199558Z",
     "iopub.status.busy": "2022-09-23T12:20:08.198964Z",
     "iopub.status.idle": "2022-09-23T12:20:08.202158Z",
     "shell.execute_reply": "2022-09-23T12:20:08.201720Z"
    },
    "papermill": {
     "duration": 0.037994,
     "end_time": "2022-09-23T12:20:08.202255",
     "exception": false,
     "start_time": "2022-09-23T12:20:08.164261",
     "status": "completed"
    },
    "tags": []
   },
   "outputs": [],
   "source": [
    "#hide\n",
    "#delete problematic countries from table\n",
    "df_table = df_table[~df_table['Country/Region'].isin(['Cape Verde', 'Cruise Ship', 'Kosovo'])]"
   ]
  },
  {
   "cell_type": "code",
   "execution_count": 15,
   "id": "fantastic-effect",
   "metadata": {
    "execution": {
     "iopub.execute_input": "2022-09-23T12:20:08.270444Z",
     "iopub.status.busy": "2022-09-23T12:20:08.269883Z",
     "iopub.status.idle": "2022-09-23T12:20:08.287151Z",
     "shell.execute_reply": "2022-09-23T12:20:08.286586Z"
    },
    "papermill": {
     "duration": 0.054693,
     "end_time": "2022-09-23T12:20:08.287270",
     "exception": false,
     "start_time": "2022-09-23T12:20:08.232577",
     "status": "completed"
    },
    "tags": []
   },
   "outputs": [
    {
     "data": {
      "text/html": [
       "<div>\n",
       "<style scoped>\n",
       "    .dataframe tbody tr th:only-of-type {\n",
       "        vertical-align: middle;\n",
       "    }\n",
       "\n",
       "    .dataframe tbody tr th {\n",
       "        vertical-align: top;\n",
       "    }\n",
       "\n",
       "    .dataframe thead th {\n",
       "        text-align: right;\n",
       "    }\n",
       "</style>\n",
       "<table border=\"1\" class=\"dataframe\">\n",
       "  <thead>\n",
       "    <tr style=\"text-align: right;\">\n",
       "      <th></th>\n",
       "      <th>Country/Region</th>\n",
       "      <th>Cases</th>\n",
       "      <th>Deaths</th>\n",
       "      <th>PCases</th>\n",
       "      <th>PDeaths</th>\n",
       "      <th>Cases (+)</th>\n",
       "      <th>Deaths (+)</th>\n",
       "      <th>Fatality Rate</th>\n",
       "      <th>Continent</th>\n",
       "    </tr>\n",
       "  </thead>\n",
       "  <tbody>\n",
       "    <tr>\n",
       "      <th>0</th>\n",
       "      <td>US</td>\n",
       "      <td>95969895</td>\n",
       "      <td>1055922</td>\n",
       "      <td>95888756</td>\n",
       "      <td>1055287</td>\n",
       "      <td>81139</td>\n",
       "      <td>635</td>\n",
       "      <td>1.1</td>\n",
       "      <td>North America</td>\n",
       "    </tr>\n",
       "    <tr>\n",
       "      <th>1</th>\n",
       "      <td>India</td>\n",
       "      <td>44558425</td>\n",
       "      <td>528449</td>\n",
       "      <td>44553042</td>\n",
       "      <td>528429</td>\n",
       "      <td>5383</td>\n",
       "      <td>20</td>\n",
       "      <td>1.2</td>\n",
       "      <td>Asia</td>\n",
       "    </tr>\n",
       "    <tr>\n",
       "      <th>2</th>\n",
       "      <td>France</td>\n",
       "      <td>35267124</td>\n",
       "      <td>155894</td>\n",
       "      <td>35228660</td>\n",
       "      <td>155864</td>\n",
       "      <td>38464</td>\n",
       "      <td>30</td>\n",
       "      <td>0.4</td>\n",
       "      <td>Europe</td>\n",
       "    </tr>\n",
       "    <tr>\n",
       "      <th>3</th>\n",
       "      <td>Brazil</td>\n",
       "      <td>34616655</td>\n",
       "      <td>685677</td>\n",
       "      <td>34592027</td>\n",
       "      <td>685428</td>\n",
       "      <td>24628</td>\n",
       "      <td>249</td>\n",
       "      <td>2.0</td>\n",
       "      <td>South America</td>\n",
       "    </tr>\n",
       "    <tr>\n",
       "      <th>4</th>\n",
       "      <td>Germany</td>\n",
       "      <td>32905086</td>\n",
       "      <td>149368</td>\n",
       "      <td>32854286</td>\n",
       "      <td>149275</td>\n",
       "      <td>50800</td>\n",
       "      <td>93</td>\n",
       "      <td>0.5</td>\n",
       "      <td>Europe</td>\n",
       "    </tr>\n",
       "  </tbody>\n",
       "</table>\n",
       "</div>"
      ],
      "text/plain": [
       "  Country/Region     Cases   Deaths    PCases  PDeaths  Cases (+)  Deaths (+)  \\\n",
       "0             US  95969895  1055922  95888756  1055287      81139         635   \n",
       "1          India  44558425   528449  44553042   528429       5383          20   \n",
       "2         France  35267124   155894  35228660   155864      38464          30   \n",
       "3         Brazil  34616655   685677  34592027   685428      24628         249   \n",
       "4        Germany  32905086   149368  32854286   149275      50800          93   \n",
       "\n",
       "   Fatality Rate      Continent  \n",
       "0            1.1  North America  \n",
       "1            1.2           Asia  \n",
       "2            0.4         Europe  \n",
       "3            2.0  South America  \n",
       "4            0.5         Europe  "
      ]
     },
     "execution_count": 15,
     "metadata": {},
     "output_type": "execute_result"
    }
   ],
   "source": [
    "#hide\n",
    "df_table = (pd.DataFrame(dict(Cases=dfc_cases, Deaths=dfc_deaths, PCases=dfp_cases, PDeaths=dfp_deaths))\n",
    "             .sort_values(by=['Cases', 'Deaths'], ascending=[False, False])\n",
    "             .reset_index())\n",
    "df_table.rename(columns={'index': 'Country/Region'}, inplace=True)\n",
    "for c in 'Cases, Deaths'.split(', '):\n",
    "    df_table[f'{c} (+)'] = (df_table[c] - df_table[f'P{c}']).clip(0)  # DATA BUG\n",
    "df_table['Fatality Rate'] = (100 * df_table['Deaths'] / df_table['Cases']).round(1)\n",
    "df_table['Continent'] = df_table['Country/Region'].map(mapping['map.continent'])\n",
    "df_table.head(5)"
   ]
  },
  {
   "cell_type": "code",
   "execution_count": 16,
   "id": "fewer-occasion",
   "metadata": {
    "execution": {
     "iopub.execute_input": "2022-09-23T12:20:08.354671Z",
     "iopub.status.busy": "2022-09-23T12:20:08.354115Z",
     "iopub.status.idle": "2022-09-23T12:20:08.356860Z",
     "shell.execute_reply": "2022-09-23T12:20:08.357294Z"
    },
    "papermill": {
     "duration": 0.038899,
     "end_time": "2022-09-23T12:20:08.357410",
     "exception": false,
     "start_time": "2022-09-23T12:20:08.318511",
     "status": "completed"
    },
    "tags": []
   },
   "outputs": [],
   "source": [
    "#hide\n",
    "#delete problematic countries from table\n",
    "df_table = df_table[~df_table['Country/Region'].isin(['Cape Verde', 'Cruise Ship', 'Kosovo'])]"
   ]
  },
  {
   "cell_type": "code",
   "execution_count": 17,
   "id": "related-center",
   "metadata": {
    "execution": {
     "iopub.execute_input": "2022-09-23T12:20:08.436582Z",
     "iopub.status.busy": "2022-09-23T12:20:08.436005Z",
     "iopub.status.idle": "2022-09-23T12:20:08.438713Z",
     "shell.execute_reply": "2022-09-23T12:20:08.438266Z"
    },
    "papermill": {
     "duration": 0.050375,
     "end_time": "2022-09-23T12:20:08.438816",
     "exception": false,
     "start_time": "2022-09-23T12:20:08.388441",
     "status": "completed"
    },
    "tags": []
   },
   "outputs": [],
   "source": [
    "#hide\n",
    "metrics = [df_table.columns[index] for index in [1,2,5,6]]\n",
    "# s_china = df_table[df_table['Country/Region'].eq('China')][metrics].sum().add_prefix('China ')\n",
    "s_us = df_table[df_table['Country/Region'].eq('US')][metrics].sum().add_prefix('US ')\n",
    "s_eu = df_table[df_table['Continent'].eq('Europe')][metrics].sum().add_prefix('EU ')\n",
    "s_ind = df_table[df_table['Country/Region'].eq('India')][metrics].sum().add_prefix('India ')\n",
    "summary = {'updated': pd.to_datetime(dt_today), 'since': pd.to_datetime(dt_yday)}\n",
    "summary = {'updated': pd.to_datetime(dt_today), 'since': pd.to_datetime(dt_yday)}\n",
    "summary = {**summary, **df_table[metrics].sum(), **s_ind, **s_us, **s_eu}"
   ]
  },
  {
   "cell_type": "code",
   "execution_count": 18,
   "id": "engaging-syndrome",
   "metadata": {
    "execution": {
     "iopub.execute_input": "2022-09-23T12:20:08.506053Z",
     "iopub.status.busy": "2022-09-23T12:20:08.505489Z",
     "iopub.status.idle": "2022-09-23T12:20:08.523351Z",
     "shell.execute_reply": "2022-09-23T12:20:08.522901Z"
    },
    "papermill": {
     "duration": 0.05341,
     "end_time": "2022-09-23T12:20:08.523464",
     "exception": false,
     "start_time": "2022-09-23T12:20:08.470054",
     "status": "completed"
    },
    "tags": []
   },
   "outputs": [],
   "source": [
    "#hide\n",
    "dft_ct_new_cases = dft_cases.groupby(COL_REGION)[dt_cols].sum().diff(axis=1).fillna(0).astype(int)"
   ]
  },
  {
   "cell_type": "code",
   "execution_count": 19,
   "id": "neutral-assignment",
   "metadata": {
    "execution": {
     "iopub.execute_input": "2022-09-23T12:20:08.591842Z",
     "iopub.status.busy": "2022-09-23T12:20:08.591251Z",
     "iopub.status.idle": "2022-09-23T12:20:08.593591Z",
     "shell.execute_reply": "2022-09-23T12:20:08.593167Z"
    },
    "papermill": {
     "duration": 0.039096,
     "end_time": "2022-09-23T12:20:08.593694",
     "exception": false,
     "start_time": "2022-09-23T12:20:08.554598",
     "status": "completed"
    },
    "tags": []
   },
   "outputs": [],
   "source": [
    "#hide\n",
    "everydaycases = dft_ct_new_cases.cumsum(axis=1)"
   ]
  },
  {
   "cell_type": "code",
   "execution_count": 20,
   "id": "parliamentary-calgary",
   "metadata": {
    "execution": {
     "iopub.execute_input": "2022-09-23T12:20:08.660623Z",
     "iopub.status.busy": "2022-09-23T12:20:08.660061Z",
     "iopub.status.idle": "2022-09-23T12:20:09.210588Z",
     "shell.execute_reply": "2022-09-23T12:20:09.210110Z"
    },
    "papermill": {
     "duration": 0.585617,
     "end_time": "2022-09-23T12:20:09.210701",
     "exception": false,
     "start_time": "2022-09-23T12:20:08.625084",
     "status": "completed"
    },
    "tags": []
   },
   "outputs": [],
   "source": [
    "#hide\n",
    "import pandas as pd\n",
    "import matplotlib.pyplot as plt\n",
    "import matplotlib.ticker as ticker\n",
    "import matplotlib.animation as animation\n",
    "from IPython.display import HTML"
   ]
  },
  {
   "cell_type": "code",
   "execution_count": 21,
   "id": "lasting-extraction",
   "metadata": {
    "execution": {
     "iopub.execute_input": "2022-09-23T12:20:09.278974Z",
     "iopub.status.busy": "2022-09-23T12:20:09.278395Z",
     "iopub.status.idle": "2022-09-23T12:20:09.284955Z",
     "shell.execute_reply": "2022-09-23T12:20:09.285456Z"
    },
    "papermill": {
     "duration": 0.043844,
     "end_time": "2022-09-23T12:20:09.285571",
     "exception": false,
     "start_time": "2022-09-23T12:20:09.241727",
     "status": "completed"
    },
    "tags": []
   },
   "outputs": [],
   "source": [
    "#hide\n",
    "t = everydaycases.stack()"
   ]
  },
  {
   "cell_type": "code",
   "execution_count": 22,
   "id": "premier-sleeve",
   "metadata": {
    "execution": {
     "iopub.execute_input": "2022-09-23T12:20:09.351806Z",
     "iopub.status.busy": "2022-09-23T12:20:09.351235Z",
     "iopub.status.idle": "2022-09-23T12:20:09.362569Z",
     "shell.execute_reply": "2022-09-23T12:20:09.362015Z"
    },
    "papermill": {
     "duration": 0.045972,
     "end_time": "2022-09-23T12:20:09.362668",
     "exception": false,
     "start_time": "2022-09-23T12:20:09.316696",
     "status": "completed"
    },
    "tags": []
   },
   "outputs": [],
   "source": [
    "#hide\n",
    "g = t.reset_index(['Country/Region'])"
   ]
  },
  {
   "cell_type": "code",
   "execution_count": 23,
   "id": "distributed-pittsburgh",
   "metadata": {
    "execution": {
     "iopub.execute_input": "2022-09-23T12:20:09.428107Z",
     "iopub.status.busy": "2022-09-23T12:20:09.427551Z",
     "iopub.status.idle": "2022-09-23T12:20:09.429784Z",
     "shell.execute_reply": "2022-09-23T12:20:09.429266Z"
    },
    "papermill": {
     "duration": 0.036375,
     "end_time": "2022-09-23T12:20:09.429880",
     "exception": false,
     "start_time": "2022-09-23T12:20:09.393505",
     "status": "completed"
    },
    "tags": []
   },
   "outputs": [],
   "source": [
    "#hide\n",
    "g.index.name = 'date'"
   ]
  },
  {
   "cell_type": "code",
   "execution_count": 24,
   "id": "naked-donor",
   "metadata": {
    "execution": {
     "iopub.execute_input": "2022-09-23T12:20:09.495818Z",
     "iopub.status.busy": "2022-09-23T12:20:09.495239Z",
     "iopub.status.idle": "2022-09-23T12:20:09.498766Z",
     "shell.execute_reply": "2022-09-23T12:20:09.499211Z"
    },
    "papermill": {
     "duration": 0.038421,
     "end_time": "2022-09-23T12:20:09.499333",
     "exception": false,
     "start_time": "2022-09-23T12:20:09.460912",
     "status": "completed"
    },
    "tags": []
   },
   "outputs": [],
   "source": [
    "# #hide\n",
    "# g = g.reset_index(['date'])"
   ]
  },
  {
   "cell_type": "code",
   "execution_count": 25,
   "id": "incomplete-mustang",
   "metadata": {
    "execution": {
     "iopub.execute_input": "2022-09-23T12:20:09.564576Z",
     "iopub.status.busy": "2022-09-23T12:20:09.564017Z",
     "iopub.status.idle": "2022-09-23T12:20:09.566226Z",
     "shell.execute_reply": "2022-09-23T12:20:09.565686Z"
    },
    "papermill": {
     "duration": 0.036135,
     "end_time": "2022-09-23T12:20:09.566324",
     "exception": false,
     "start_time": "2022-09-23T12:20:09.530189",
     "status": "completed"
    },
    "tags": []
   },
   "outputs": [],
   "source": [
    "#hide\n",
    "# g.head()"
   ]
  },
  {
   "cell_type": "code",
   "execution_count": 26,
   "id": "specific-kruger",
   "metadata": {
    "execution": {
     "iopub.execute_input": "2022-09-23T12:20:09.632000Z",
     "iopub.status.busy": "2022-09-23T12:20:09.631404Z",
     "iopub.status.idle": "2022-09-23T12:20:09.634267Z",
     "shell.execute_reply": "2022-09-23T12:20:09.633745Z"
    },
    "papermill": {
     "duration": 0.036888,
     "end_time": "2022-09-23T12:20:09.634366",
     "exception": false,
     "start_time": "2022-09-23T12:20:09.597478",
     "status": "completed"
    },
    "tags": []
   },
   "outputs": [],
   "source": [
    "#hide\n",
    "# g.columns = ['date','country','cases']"
   ]
  },
  {
   "cell_type": "code",
   "execution_count": 27,
   "id": "tender-conversion",
   "metadata": {
    "execution": {
     "iopub.execute_input": "2022-09-23T12:20:09.699921Z",
     "iopub.status.busy": "2022-09-23T12:20:09.699363Z",
     "iopub.status.idle": "2022-09-23T12:20:09.701652Z",
     "shell.execute_reply": "2022-09-23T12:20:09.702061Z"
    },
    "papermill": {
     "duration": 0.03687,
     "end_time": "2022-09-23T12:20:09.702173",
     "exception": false,
     "start_time": "2022-09-23T12:20:09.665303",
     "status": "completed"
    },
    "tags": []
   },
   "outputs": [],
   "source": [
    "#hide\n",
    "# g['continent'] = g.country"
   ]
  },
  {
   "cell_type": "code",
   "execution_count": 28,
   "id": "substantial-wilderness",
   "metadata": {
    "execution": {
     "iopub.execute_input": "2022-09-23T12:20:09.767656Z",
     "iopub.status.busy": "2022-09-23T12:20:09.767095Z",
     "iopub.status.idle": "2022-09-23T12:20:09.769089Z",
     "shell.execute_reply": "2022-09-23T12:20:09.769513Z"
    },
    "papermill": {
     "duration": 0.036395,
     "end_time": "2022-09-23T12:20:09.769627",
     "exception": false,
     "start_time": "2022-09-23T12:20:09.733232",
     "status": "completed"
    },
    "tags": []
   },
   "outputs": [],
   "source": [
    "#hide\n",
    "# cols = list(g.columns.values)"
   ]
  },
  {
   "cell_type": "code",
   "execution_count": 29,
   "id": "solved-farming",
   "metadata": {
    "execution": {
     "iopub.execute_input": "2022-09-23T12:20:09.834727Z",
     "iopub.status.busy": "2022-09-23T12:20:09.834154Z",
     "iopub.status.idle": "2022-09-23T12:20:09.836577Z",
     "shell.execute_reply": "2022-09-23T12:20:09.836057Z"
    },
    "papermill": {
     "duration": 0.036287,
     "end_time": "2022-09-23T12:20:09.836674",
     "exception": false,
     "start_time": "2022-09-23T12:20:09.800387",
     "status": "completed"
    },
    "tags": []
   },
   "outputs": [],
   "source": [
    "#hide\n",
    "# cols.insert(0, cols.pop())"
   ]
  },
  {
   "cell_type": "code",
   "execution_count": 30,
   "id": "executed-adoption",
   "metadata": {
    "execution": {
     "iopub.execute_input": "2022-09-23T12:20:09.901924Z",
     "iopub.status.busy": "2022-09-23T12:20:09.901358Z",
     "iopub.status.idle": "2022-09-23T12:20:09.903845Z",
     "shell.execute_reply": "2022-09-23T12:20:09.903337Z"
    },
    "papermill": {
     "duration": 0.036258,
     "end_time": "2022-09-23T12:20:09.903942",
     "exception": false,
     "start_time": "2022-09-23T12:20:09.867684",
     "status": "completed"
    },
    "tags": []
   },
   "outputs": [],
   "source": [
    "#hide\n",
    "# g = g[cols]"
   ]
  },
  {
   "cell_type": "code",
   "execution_count": 31,
   "id": "subject-dublin",
   "metadata": {
    "execution": {
     "iopub.execute_input": "2022-09-23T12:20:09.968830Z",
     "iopub.status.busy": "2022-09-23T12:20:09.968260Z",
     "iopub.status.idle": "2022-09-23T12:20:09.970678Z",
     "shell.execute_reply": "2022-09-23T12:20:09.970160Z"
    },
    "papermill": {
     "duration": 0.036101,
     "end_time": "2022-09-23T12:20:09.970774",
     "exception": false,
     "start_time": "2022-09-23T12:20:09.934673",
     "status": "completed"
    },
    "tags": []
   },
   "outputs": [],
   "source": [
    "#hide\n",
    "# g['continent'] = g['continent'].map(mapping['map.continent'])"
   ]
  },
  {
   "cell_type": "code",
   "execution_count": 32,
   "id": "freelance-scout",
   "metadata": {
    "execution": {
     "iopub.execute_input": "2022-09-23T12:20:10.036346Z",
     "iopub.status.busy": "2022-09-23T12:20:10.035776Z",
     "iopub.status.idle": "2022-09-23T12:20:10.038211Z",
     "shell.execute_reply": "2022-09-23T12:20:10.037773Z"
    },
    "papermill": {
     "duration": 0.036639,
     "end_time": "2022-09-23T12:20:10.038308",
     "exception": false,
     "start_time": "2022-09-23T12:20:10.001669",
     "status": "completed"
    },
    "tags": []
   },
   "outputs": [],
   "source": [
    "#hide\n",
    "# g.head()"
   ]
  },
  {
   "cell_type": "code",
   "execution_count": 33,
   "id": "limited-engine",
   "metadata": {
    "execution": {
     "iopub.execute_input": "2022-09-23T12:20:10.103593Z",
     "iopub.status.busy": "2022-09-23T12:20:10.103020Z",
     "iopub.status.idle": "2022-09-23T12:20:10.105352Z",
     "shell.execute_reply": "2022-09-23T12:20:10.104833Z"
    },
    "papermill": {
     "duration": 0.036222,
     "end_time": "2022-09-23T12:20:10.105453",
     "exception": false,
     "start_time": "2022-09-23T12:20:10.069231",
     "status": "completed"
    },
    "tags": []
   },
   "outputs": [],
   "source": [
    "# hide\n",
    "# g['date'] = g['date'].astype('datetime64[ns]')"
   ]
  },
  {
   "cell_type": "code",
   "execution_count": 34,
   "id": "sophisticated-supervisor",
   "metadata": {
    "execution": {
     "iopub.execute_input": "2022-09-23T12:20:10.171135Z",
     "iopub.status.busy": "2022-09-23T12:20:10.170545Z",
     "iopub.status.idle": "2022-09-23T12:20:10.173020Z",
     "shell.execute_reply": "2022-09-23T12:20:10.172587Z"
    },
    "papermill": {
     "duration": 0.03649,
     "end_time": "2022-09-23T12:20:10.173117",
     "exception": false,
     "start_time": "2022-09-23T12:20:10.136627",
     "status": "completed"
    },
    "tags": []
   },
   "outputs": [],
   "source": [
    "#hide\n",
    "# g['date'] = g.date.dt.dayofyear"
   ]
  },
  {
   "cell_type": "code",
   "execution_count": 35,
   "id": "inside-dubai",
   "metadata": {
    "execution": {
     "iopub.execute_input": "2022-09-23T12:20:10.237909Z",
     "iopub.status.busy": "2022-09-23T12:20:10.237357Z",
     "iopub.status.idle": "2022-09-23T12:20:10.239617Z",
     "shell.execute_reply": "2022-09-23T12:20:10.239098Z"
    },
    "papermill": {
     "duration": 0.035798,
     "end_time": "2022-09-23T12:20:10.239713",
     "exception": false,
     "start_time": "2022-09-23T12:20:10.203915",
     "status": "completed"
    },
    "tags": []
   },
   "outputs": [],
   "source": [
    "#hide\n",
    "# g = g.rename(columns= {'continent':'group','country':'name','cases':'value'})"
   ]
  },
  {
   "cell_type": "code",
   "execution_count": 36,
   "id": "fleet-motorcycle",
   "metadata": {
    "execution": {
     "iopub.execute_input": "2022-09-23T12:20:10.304904Z",
     "iopub.status.busy": "2022-09-23T12:20:10.304339Z",
     "iopub.status.idle": "2022-09-23T12:20:10.306673Z",
     "shell.execute_reply": "2022-09-23T12:20:10.306147Z"
    },
    "papermill": {
     "duration": 0.036189,
     "end_time": "2022-09-23T12:20:10.306771",
     "exception": false,
     "start_time": "2022-09-23T12:20:10.270582",
     "status": "completed"
    },
    "tags": []
   },
   "outputs": [],
   "source": [
    "#hide\n",
    "# cols = ['name','group','day','value']"
   ]
  },
  {
   "cell_type": "code",
   "execution_count": 37,
   "id": "continued-sleeping",
   "metadata": {
    "execution": {
     "iopub.execute_input": "2022-09-23T12:20:10.372061Z",
     "iopub.status.busy": "2022-09-23T12:20:10.371503Z",
     "iopub.status.idle": "2022-09-23T12:20:10.373784Z",
     "shell.execute_reply": "2022-09-23T12:20:10.373367Z"
    },
    "papermill": {
     "duration": 0.036312,
     "end_time": "2022-09-23T12:20:10.373885",
     "exception": false,
     "start_time": "2022-09-23T12:20:10.337573",
     "status": "completed"
    },
    "tags": []
   },
   "outputs": [],
   "source": [
    "#hide\n",
    "# g.rename(columns= {'date':'day'},inplace = True)"
   ]
  },
  {
   "cell_type": "code",
   "execution_count": 38,
   "id": "major-fight",
   "metadata": {
    "execution": {
     "iopub.execute_input": "2022-09-23T12:20:10.439452Z",
     "iopub.status.busy": "2022-09-23T12:20:10.438866Z",
     "iopub.status.idle": "2022-09-23T12:20:10.441530Z",
     "shell.execute_reply": "2022-09-23T12:20:10.441934Z"
    },
    "papermill": {
     "duration": 0.037191,
     "end_time": "2022-09-23T12:20:10.442051",
     "exception": false,
     "start_time": "2022-09-23T12:20:10.404860",
     "status": "completed"
    },
    "tags": []
   },
   "outputs": [],
   "source": [
    "#hide\n",
    "# g = g[cols]"
   ]
  },
  {
   "cell_type": "code",
   "execution_count": 39,
   "id": "structured-mobile",
   "metadata": {
    "execution": {
     "iopub.execute_input": "2022-09-23T12:20:10.507381Z",
     "iopub.status.busy": "2022-09-23T12:20:10.506782Z",
     "iopub.status.idle": "2022-09-23T12:20:10.509195Z",
     "shell.execute_reply": "2022-09-23T12:20:10.508673Z"
    },
    "papermill": {
     "duration": 0.036398,
     "end_time": "2022-09-23T12:20:10.509292",
     "exception": false,
     "start_time": "2022-09-23T12:20:10.472894",
     "status": "completed"
    },
    "tags": []
   },
   "outputs": [],
   "source": [
    "# #hide\n",
    "# g = g[g.group.notna()]"
   ]
  },
  {
   "cell_type": "code",
   "execution_count": 40,
   "id": "determined-closing",
   "metadata": {
    "execution": {
     "iopub.execute_input": "2022-09-23T12:20:10.575007Z",
     "iopub.status.busy": "2022-09-23T12:20:10.574417Z",
     "iopub.status.idle": "2022-09-23T12:20:10.576878Z",
     "shell.execute_reply": "2022-09-23T12:20:10.576448Z"
    },
    "papermill": {
     "duration": 0.036595,
     "end_time": "2022-09-23T12:20:10.576975",
     "exception": false,
     "start_time": "2022-09-23T12:20:10.540380",
     "status": "completed"
    },
    "tags": []
   },
   "outputs": [],
   "source": [
    "# #hide\n",
    "# colors = dict(zip(\n",
    "#     [\"Oceania\", \"Europe\", \"Asia\", \"South America\", \"Middle East\", \"North America\", \"Africa\"],\n",
    "#     [\"#adb0ff\", \"#ffb3ff\", \"#90d595\", \"#e48381\", \"#aafbff\", \"#f7bb5f\", \"#eafb50\"]\n",
    "# ))\n",
    "# group_lk = g.set_index('name')['group'].to_dict()"
   ]
  },
  {
   "cell_type": "code",
   "execution_count": null,
   "id": "gross-drinking",
   "metadata": {
    "papermill": {
     "duration": 0.031009,
     "end_time": "2022-09-23T12:20:10.639003",
     "exception": false,
     "start_time": "2022-09-23T12:20:10.607994",
     "status": "completed"
    },
    "tags": []
   },
   "outputs": [],
   "source": []
  },
  {
   "cell_type": "code",
   "execution_count": 41,
   "id": "subject-macintosh",
   "metadata": {
    "execution": {
     "iopub.execute_input": "2022-09-23T12:20:10.705542Z",
     "iopub.status.busy": "2022-09-23T12:20:10.704950Z",
     "iopub.status.idle": "2022-09-23T12:20:10.707420Z",
     "shell.execute_reply": "2022-09-23T12:20:10.706965Z"
    },
    "papermill": {
     "duration": 0.037559,
     "end_time": "2022-09-23T12:20:10.707520",
     "exception": false,
     "start_time": "2022-09-23T12:20:10.669961",
     "status": "completed"
    },
    "tags": []
   },
   "outputs": [],
   "source": [
    "# #hide\n",
    "# fig, ax = plt.subplots(figsize=(15, 8))\n",
    "\n",
    "# def draw_barchart(current_day):\n",
    "#     dff = g[g['day'].eq(current_day)].sort_values(by='value', ascending=True).tail(10)\n",
    "#     ax.clear()\n",
    "#     ax.barh(dff['name'], dff['value'], color=[colors[group_lk[x]] for x in dff['name']])\n",
    "#     dx = dff['value'].max() / 200\n",
    "    \n",
    "#     for i, (value, name) in enumerate(zip(dff['value'], dff['name'])):\n",
    "#         ax.text(value-dx, i,     name,           size=14, weight=600, ha='right', va='bottom')\n",
    "#         ax.text(value-dx, i-.25, group_lk[name], size=10, color='#444444', ha='right', va='baseline')\n",
    "#         ax.text(value+dx, i,     f'{value:,.0f}',  size=14, ha='left',  va='center')\n",
    "#     ax.text(1, 0.4, current_day, transform=ax.transAxes, color='#777777', size=46, ha='right', weight=800)\n",
    "#     ax.text(0, 1.06, 'Population (thousands)', transform=ax.transAxes, size=12, color='#777777')\n",
    "#     ax.xaxis.set_major_formatter(ticker.StrMethodFormatter('{x:,.0f}'))\n",
    "#     ax.xaxis.set_ticks_position('top')\n",
    "#     ax.tick_params(axis='x', colors='#777777', labelsize=12)\n",
    "#     ax.set_yticks([])\n",
    "#     ax.margins(0, 0.01)\n",
    "#     ax.grid(which='major', axis='x', linestyle='-')\n",
    "#     ax.set_axisbelow(True)\n",
    "    \n",
    "#     ax.text(0, 1.15, 'Coronavirus',\n",
    "#             transform=ax.transAxes, size=24, weight=600, ha='left', va='top')\n",
    "# #     ax.text(1, 0, 'by @pratapvardhan; credit @jburnmurdoch', transform=ax.transAxes, color='#777777', ha='right',\n",
    "# #             bbox=dict(facecolor='white', alpha=0.8, edgecolor='white'))\n",
    "#     plt.box(False)"
   ]
  },
  {
   "cell_type": "code",
   "execution_count": 42,
   "id": "sexual-wages",
   "metadata": {
    "execution": {
     "iopub.execute_input": "2022-09-23T12:20:10.773034Z",
     "iopub.status.busy": "2022-09-23T12:20:10.772471Z",
     "iopub.status.idle": "2022-09-23T12:20:10.774942Z",
     "shell.execute_reply": "2022-09-23T12:20:10.774477Z"
    },
    "papermill": {
     "duration": 0.036607,
     "end_time": "2022-09-23T12:20:10.775040",
     "exception": false,
     "start_time": "2022-09-23T12:20:10.738433",
     "status": "completed"
    },
    "tags": []
   },
   "outputs": [],
   "source": [
    "# #hide_input\n",
    "# fig, ax = plt.subplots(figsize=(15, 8))\n",
    "# animator = animation.FuncAnimation(fig, draw_barchart, frames=range(g.day.values.min(), g.day.values.max()))\n",
    "# HTML(animator.to_jshtml())\n",
    "# # or use animator.to_html5_video() or animator.save() "
   ]
  },
  {
   "cell_type": "code",
   "execution_count": null,
   "id": "australian-container",
   "metadata": {
    "papermill": {
     "duration": 0.031084,
     "end_time": "2022-09-23T12:20:10.837133",
     "exception": false,
     "start_time": "2022-09-23T12:20:10.806049",
     "status": "completed"
    },
    "tags": []
   },
   "outputs": [],
   "source": []
  },
  {
   "cell_type": "code",
   "execution_count": null,
   "id": "mediterranean-pontiac",
   "metadata": {
    "papermill": {
     "duration": 0.030829,
     "end_time": "2022-09-23T12:20:10.898827",
     "exception": false,
     "start_time": "2022-09-23T12:20:10.867998",
     "status": "completed"
    },
    "tags": []
   },
   "outputs": [],
   "source": []
  },
  {
   "cell_type": "code",
   "execution_count": null,
   "id": "aging-legislature",
   "metadata": {
    "papermill": {
     "duration": 0.030871,
     "end_time": "2022-09-23T12:20:10.960696",
     "exception": false,
     "start_time": "2022-09-23T12:20:10.929825",
     "status": "completed"
    },
    "tags": []
   },
   "outputs": [],
   "source": []
  }
 ],
 "metadata": {
  "kernelspec": {
   "display_name": "Python 3",
   "language": "python",
   "name": "python3"
  },
  "language_info": {
   "codemirror_mode": {
    "name": "ipython",
    "version": 3
   },
   "file_extension": ".py",
   "mimetype": "text/x-python",
   "name": "python",
   "nbconvert_exporter": "python",
   "pygments_lexer": "ipython3",
   "version": "3.6.15"
  },
  "papermill": {
   "duration": 5.894601,
   "end_time": "2022-09-23T12:20:11.308905",
   "environment_variables": {},
   "exception": null,
   "input_path": "2020-03-21-covid19exp.ipynb",
   "output_path": "2020-03-21-covid19exp.ipynb",
   "parameters": {},
   "start_time": "2022-09-23T12:20:05.414304",
   "version": "2.0.0"
  }
 },
 "nbformat": 4,
 "nbformat_minor": 5
}