{
 "cells": [
  {
   "cell_type": "markdown",
   "id": "muslim-click",
   "metadata": {
    "papermill": {
     "duration": 0.049053,
     "end_time": "2021-07-11T00:20:17.357537",
     "exception": false,
     "start_time": "2021-07-11T00:20:17.308484",
     "status": "completed"
    },
    "tags": []
   },
   "source": [
    "# COVID-19 Case Race\n",
    "> A race chart to see rising cases around the world\n",
    "\n",
    "- author: Hargun Oberoi\n",
    "- image: images/covid-overview.png\n",
    "- hide: false\n",
    "- badges: false"
   ]
  },
  {
   "cell_type": "code",
   "execution_count": 1,
   "id": "proof-material",
   "metadata": {
    "execution": {
     "iopub.execute_input": "2021-07-11T00:20:17.448840Z",
     "iopub.status.busy": "2021-07-11T00:20:17.448000Z",
     "iopub.status.idle": "2021-07-11T00:20:17.844545Z",
     "shell.execute_reply": "2021-07-11T00:20:17.843997Z"
    },
    "papermill": {
     "duration": 0.446455,
     "end_time": "2021-07-11T00:20:17.844712",
     "exception": false,
     "start_time": "2021-07-11T00:20:17.398257",
     "status": "completed"
    },
    "tags": []
   },
   "outputs": [],
   "source": [
    "#hide\n",
    "import numpy as np\n",
    "import pandas as pd\n",
    "from jinja2 import Template\n",
    "from IPython.display import HTML"
   ]
  },
  {
   "cell_type": "code",
   "execution_count": 2,
   "id": "developed-terminology",
   "metadata": {
    "execution": {
     "iopub.execute_input": "2021-07-11T00:20:17.929685Z",
     "iopub.status.busy": "2021-07-11T00:20:17.928861Z",
     "iopub.status.idle": "2021-07-11T00:20:17.931301Z",
     "shell.execute_reply": "2021-07-11T00:20:17.931880Z"
    },
    "papermill": {
     "duration": 0.046912,
     "end_time": "2021-07-11T00:20:17.932019",
     "exception": false,
     "start_time": "2021-07-11T00:20:17.885107",
     "status": "completed"
    },
    "tags": []
   },
   "outputs": [],
   "source": [
    "#hide\n",
    "\n",
    "# FETCH\n",
    "base_url = 'https://raw.githubusercontent.com/pratapvardhan/notebooks/master/covid19/'\n",
    "paths = {\n",
    "    'mapping': base_url + 'mapping_countries.csv',\n",
    "    'overview': base_url + 'overview.tpl'\n",
    "}"
   ]
  },
  {
   "cell_type": "code",
   "execution_count": 3,
   "id": "dynamic-saver",
   "metadata": {
    "execution": {
     "iopub.execute_input": "2021-07-11T00:20:18.018656Z",
     "iopub.status.busy": "2021-07-11T00:20:18.015484Z",
     "iopub.status.idle": "2021-07-11T00:20:18.022664Z",
     "shell.execute_reply": "2021-07-11T00:20:18.022116Z"
    },
    "papermill": {
     "duration": 0.051731,
     "end_time": "2021-07-11T00:20:18.022773",
     "exception": false,
     "start_time": "2021-07-11T00:20:17.971042",
     "status": "completed"
    },
    "tags": []
   },
   "outputs": [
    {
     "data": {
      "text/plain": [
       "'https://raw.githubusercontent.com/pratapvardhan/notebooks/master/covid19/mapping_countries.csv'"
      ]
     },
     "execution_count": 3,
     "metadata": {},
     "output_type": "execute_result"
    }
   ],
   "source": [
    "#hide\n",
    "paths['mapping']"
   ]
  },
  {
   "cell_type": "code",
   "execution_count": 4,
   "id": "urban-software",
   "metadata": {
    "execution": {
     "iopub.execute_input": "2021-07-11T00:20:18.104362Z",
     "iopub.status.busy": "2021-07-11T00:20:18.103791Z",
     "iopub.status.idle": "2021-07-11T00:20:18.106356Z",
     "shell.execute_reply": "2021-07-11T00:20:18.105835Z"
    },
    "papermill": {
     "duration": 0.044565,
     "end_time": "2021-07-11T00:20:18.106472",
     "exception": false,
     "start_time": "2021-07-11T00:20:18.061907",
     "status": "completed"
    },
    "tags": []
   },
   "outputs": [],
   "source": [
    "#hide\n",
    "def get_mappings(url):\n",
    "    df = pd.read_csv(url)\n",
    "    return {\n",
    "        'df': df,\n",
    "        'replace.country': dict(df.dropna(subset=['Name']).set_index('Country')['Name']),\n",
    "        'map.continent': dict(df.set_index('Name')['Continent'])\n",
    "    }"
   ]
  },
  {
   "cell_type": "code",
   "execution_count": 5,
   "id": "intimate-machinery",
   "metadata": {
    "execution": {
     "iopub.execute_input": "2021-07-11T00:20:18.188213Z",
     "iopub.status.busy": "2021-07-11T00:20:18.187677Z",
     "iopub.status.idle": "2021-07-11T00:20:18.229878Z",
     "shell.execute_reply": "2021-07-11T00:20:18.230509Z"
    },
    "papermill": {
     "duration": 0.087012,
     "end_time": "2021-07-11T00:20:18.230721",
     "exception": false,
     "start_time": "2021-07-11T00:20:18.143709",
     "status": "completed"
    },
    "tags": []
   },
   "outputs": [],
   "source": [
    "#hide\n",
    "mapping = get_mappings(paths['mapping'])"
   ]
  },
  {
   "cell_type": "code",
   "execution_count": 6,
   "id": "certified-tactics",
   "metadata": {
    "execution": {
     "iopub.execute_input": "2021-07-11T00:20:18.316330Z",
     "iopub.status.busy": "2021-07-11T00:20:18.315708Z",
     "iopub.status.idle": "2021-07-11T00:20:18.317727Z",
     "shell.execute_reply": "2021-07-11T00:20:18.318266Z"
    },
    "papermill": {
     "duration": 0.046358,
     "end_time": "2021-07-11T00:20:18.318412",
     "exception": false,
     "start_time": "2021-07-11T00:20:18.272054",
     "status": "completed"
    },
    "tags": []
   },
   "outputs": [],
   "source": [
    "#hide\n",
    "def get_template(path):\n",
    "    from urllib.parse import urlparse\n",
    "    if bool(urlparse(path).netloc):\n",
    "        from urllib.request import urlopen\n",
    "        return urlopen(path).read().decode('utf8')\n",
    "    return open(path).read()"
   ]
  },
  {
   "cell_type": "code",
   "execution_count": 7,
   "id": "realistic-blast",
   "metadata": {
    "execution": {
     "iopub.execute_input": "2021-07-11T00:20:18.402963Z",
     "iopub.status.busy": "2021-07-11T00:20:18.402347Z",
     "iopub.status.idle": "2021-07-11T00:20:18.404038Z",
     "shell.execute_reply": "2021-07-11T00:20:18.404651Z"
    },
    "papermill": {
     "duration": 0.045928,
     "end_time": "2021-07-11T00:20:18.404831",
     "exception": false,
     "start_time": "2021-07-11T00:20:18.358903",
     "status": "completed"
    },
    "tags": []
   },
   "outputs": [],
   "source": [
    "#hide\n",
    "def get_frame(name):\n",
    "    url = (\n",
    "        'https://raw.githubusercontent.com/CSSEGISandData/COVID-19/master/csse_covid_19_data/'\n",
    "        f'csse_covid_19_time_series/time_series_covid19_{name}_global.csv')\n",
    "    df = pd.read_csv(url)\n",
    "    # rename countries\n",
    "    df['Country/Region'] = df['Country/Region'].replace(mapping['replace.country'])\n",
    "    return df"
   ]
  },
  {
   "cell_type": "code",
   "execution_count": 8,
   "id": "affiliated-characterization",
   "metadata": {
    "execution": {
     "iopub.execute_input": "2021-07-11T00:20:18.486191Z",
     "iopub.status.busy": "2021-07-11T00:20:18.485526Z",
     "iopub.status.idle": "2021-07-11T00:20:18.488229Z",
     "shell.execute_reply": "2021-07-11T00:20:18.487769Z"
    },
    "papermill": {
     "duration": 0.048447,
     "end_time": "2021-07-11T00:20:18.488346",
     "exception": false,
     "start_time": "2021-07-11T00:20:18.439899",
     "status": "completed"
    },
    "tags": []
   },
   "outputs": [],
   "source": [
    "#hide\n",
    "def get_dates(df):\n",
    "    dt_cols = df.columns[~df.columns.isin(['Province/State', 'Country/Region', 'Lat', 'Long'])]\n",
    "    LAST_DATE_I = -1\n",
    "    # sometimes last column may be empty, then go backwards\n",
    "    for i in range(-1, -len(dt_cols), -1):\n",
    "        if not df[dt_cols[i]].fillna(0).eq(0).all():\n",
    "            LAST_DATE_I = i\n",
    "            break\n",
    "    return LAST_DATE_I, dt_cols"
   ]
  },
  {
   "cell_type": "code",
   "execution_count": 9,
   "id": "recent-optimization",
   "metadata": {
    "execution": {
     "iopub.execute_input": "2021-07-11T00:20:18.570042Z",
     "iopub.status.busy": "2021-07-11T00:20:18.569404Z",
     "iopub.status.idle": "2021-07-11T00:20:18.957653Z",
     "shell.execute_reply": "2021-07-11T00:20:18.957060Z"
    },
    "papermill": {
     "duration": 0.433442,
     "end_time": "2021-07-11T00:20:18.957791",
     "exception": false,
     "start_time": "2021-07-11T00:20:18.524349",
     "status": "completed"
    },
    "tags": []
   },
   "outputs": [],
   "source": [
    "#hide\n",
    "COL_REGION = 'Country/Region'\n",
    "# Confirmed, Recovered, Deaths\n",
    "df = get_frame('confirmed')\n",
    "# dft_: timeseries, dfc_: today country agg\n",
    "dft_cases = df\n",
    "dft_deaths = get_frame('deaths')\n",
    "dft_recovered = get_frame('recovered')\n",
    "LAST_DATE_I, dt_cols = get_dates(df)"
   ]
  },
  {
   "cell_type": "code",
   "execution_count": 10,
   "id": "absolute-copper",
   "metadata": {
    "execution": {
     "iopub.execute_input": "2021-07-11T00:20:19.030101Z",
     "iopub.status.busy": "2021-07-11T00:20:19.029529Z",
     "iopub.status.idle": "2021-07-11T00:20:19.032452Z",
     "shell.execute_reply": "2021-07-11T00:20:19.031830Z"
    },
    "papermill": {
     "duration": 0.038528,
     "end_time": "2021-07-11T00:20:19.032578",
     "exception": false,
     "start_time": "2021-07-11T00:20:18.994050",
     "status": "completed"
    },
    "tags": []
   },
   "outputs": [],
   "source": [
    "#hide\n",
    "LAST_DATE_I, dt_cols = get_dates(df)\n",
    "dt_today =dt_cols[LAST_DATE_I]\n",
    "# dt_5day = dt_cols[LAST_DATE_I - 5]\n",
    "dt_yday = dt_cols[LAST_DATE_I - 1]"
   ]
  },
  {
   "cell_type": "code",
   "execution_count": 11,
   "id": "restricted-sheriff",
   "metadata": {
    "execution": {
     "iopub.execute_input": "2021-07-11T00:20:19.115611Z",
     "iopub.status.busy": "2021-07-11T00:20:19.115060Z",
     "iopub.status.idle": "2021-07-11T00:20:19.119653Z",
     "shell.execute_reply": "2021-07-11T00:20:19.119223Z"
    },
    "papermill": {
     "duration": 0.048986,
     "end_time": "2021-07-11T00:20:19.119753",
     "exception": false,
     "start_time": "2021-07-11T00:20:19.070767",
     "status": "completed"
    },
    "tags": []
   },
   "outputs": [],
   "source": [
    "#hide\n",
    "dfc_cases = dft_cases.groupby(COL_REGION)[dt_today].sum()\n",
    "dfc_deaths = dft_deaths.groupby(COL_REGION)[dt_today].sum()\n",
    "# dfp_cases = dft_cases.groupby(COL_REGION)[dt_5day].sum()\n",
    "# dfp_deaths = dft_deaths.groupby(COL_REGION)[dt_5day].sum()\n",
    "dfp_cases = dft_cases.groupby(COL_REGION)[dt_yday].sum()\n",
    "dfp_deaths = dft_deaths.groupby(COL_REGION)[dt_yday].sum()"
   ]
  },
  {
   "cell_type": "code",
   "execution_count": 12,
   "id": "deluxe-hepatitis",
   "metadata": {
    "execution": {
     "iopub.execute_input": "2021-07-11T00:20:19.196045Z",
     "iopub.status.busy": "2021-07-11T00:20:19.195508Z",
     "iopub.status.idle": "2021-07-11T00:20:19.200968Z",
     "shell.execute_reply": "2021-07-11T00:20:19.200495Z"
    },
    "papermill": {
     "duration": 0.046606,
     "end_time": "2021-07-11T00:20:19.201071",
     "exception": false,
     "start_time": "2021-07-11T00:20:19.154465",
     "status": "completed"
    },
    "tags": []
   },
   "outputs": [],
   "source": [
    "#hide\n",
    "df_table = (pd.DataFrame(dict(Cases = dfc_cases, Deaths = dfc_deaths, PCases = dfp_cases, PDeaths = dfp_deaths))\n",
    "            .sort_values(by = ['Cases','Deaths'], ascending = [False, False])\n",
    "            .reset_index())"
   ]
  },
  {
   "cell_type": "code",
   "execution_count": 13,
   "id": "educational-chancellor",
   "metadata": {
    "execution": {
     "iopub.execute_input": "2021-07-11T00:20:19.285893Z",
     "iopub.status.busy": "2021-07-11T00:20:19.285160Z",
     "iopub.status.idle": "2021-07-11T00:20:19.293765Z",
     "shell.execute_reply": "2021-07-11T00:20:19.293334Z"
    },
    "papermill": {
     "duration": 0.062637,
     "end_time": "2021-07-11T00:20:19.293865",
     "exception": false,
     "start_time": "2021-07-11T00:20:19.231228",
     "status": "completed"
    },
    "tags": []
   },
   "outputs": [
    {
     "data": {
      "text/html": [
       "<div>\n",
       "<style scoped>\n",
       "    .dataframe tbody tr th:only-of-type {\n",
       "        vertical-align: middle;\n",
       "    }\n",
       "\n",
       "    .dataframe tbody tr th {\n",
       "        vertical-align: top;\n",
       "    }\n",
       "\n",
       "    .dataframe thead th {\n",
       "        text-align: right;\n",
       "    }\n",
       "</style>\n",
       "<table border=\"1\" class=\"dataframe\">\n",
       "  <thead>\n",
       "    <tr style=\"text-align: right;\">\n",
       "      <th></th>\n",
       "      <th>Country/Region</th>\n",
       "      <th>Cases</th>\n",
       "      <th>Deaths</th>\n",
       "      <th>PCases</th>\n",
       "      <th>PDeaths</th>\n",
       "      <th>Cases (+)</th>\n",
       "      <th>Deaths (+)</th>\n",
       "      <th>Fatality Rate</th>\n",
       "      <th>Continent</th>\n",
       "    </tr>\n",
       "  </thead>\n",
       "  <tbody>\n",
       "    <tr>\n",
       "      <th>0</th>\n",
       "      <td>US</td>\n",
       "      <td>33838746</td>\n",
       "      <td>606993</td>\n",
       "      <td>33790505</td>\n",
       "      <td>606475</td>\n",
       "      <td>48241</td>\n",
       "      <td>518</td>\n",
       "      <td>1.79</td>\n",
       "      <td>North America</td>\n",
       "    </tr>\n",
       "    <tr>\n",
       "      <th>1</th>\n",
       "      <td>India</td>\n",
       "      <td>30795716</td>\n",
       "      <td>407145</td>\n",
       "      <td>30752950</td>\n",
       "      <td>405939</td>\n",
       "      <td>42766</td>\n",
       "      <td>1206</td>\n",
       "      <td>1.32</td>\n",
       "      <td>Asia</td>\n",
       "    </tr>\n",
       "    <tr>\n",
       "      <th>2</th>\n",
       "      <td>Brazil</td>\n",
       "      <td>19020499</td>\n",
       "      <td>531688</td>\n",
       "      <td>18962762</td>\n",
       "      <td>530179</td>\n",
       "      <td>57737</td>\n",
       "      <td>1509</td>\n",
       "      <td>2.80</td>\n",
       "      <td>South America</td>\n",
       "    </tr>\n",
       "    <tr>\n",
       "      <th>3</th>\n",
       "      <td>France</td>\n",
       "      <td>5865767</td>\n",
       "      <td>111492</td>\n",
       "      <td>5861128</td>\n",
       "      <td>111473</td>\n",
       "      <td>4639</td>\n",
       "      <td>19</td>\n",
       "      <td>1.90</td>\n",
       "      <td>Europe</td>\n",
       "    </tr>\n",
       "    <tr>\n",
       "      <th>4</th>\n",
       "      <td>Russia</td>\n",
       "      <td>5664200</td>\n",
       "      <td>139156</td>\n",
       "      <td>5638901</td>\n",
       "      <td>138441</td>\n",
       "      <td>25299</td>\n",
       "      <td>715</td>\n",
       "      <td>2.46</td>\n",
       "      <td>Europe</td>\n",
       "    </tr>\n",
       "  </tbody>\n",
       "</table>\n",
       "</div>"
      ],
      "text/plain": [
       "  Country/Region     Cases  Deaths    PCases  PDeaths  Cases (+)  Deaths (+)  \\\n",
       "0             US  33838746  606993  33790505   606475      48241         518   \n",
       "1          India  30795716  407145  30752950   405939      42766        1206   \n",
       "2         Brazil  19020499  531688  18962762   530179      57737        1509   \n",
       "3         France   5865767  111492   5861128   111473       4639          19   \n",
       "4         Russia   5664200  139156   5638901   138441      25299         715   \n",
       "\n",
       "   Fatality Rate      Continent  \n",
       "0           1.79  North America  \n",
       "1           1.32           Asia  \n",
       "2           2.80  South America  \n",
       "3           1.90         Europe  \n",
       "4           2.46         Europe  "
      ]
     },
     "execution_count": 13,
     "metadata": {},
     "output_type": "execute_result"
    }
   ],
   "source": [
    "#hide\n",
    "for c in 'Cases, Deaths'.split(', '):\n",
    "    df_table[f'{c} (+)'] = (df_table[c] - df_table[f'P{c}']).clip(0)\n",
    "    #Clip ça veut dire, les chiffres negatif sont interdit\n",
    "df_table['Fatality Rate'] = (100* df_table['Deaths']/ df_table['Cases']).round(2)\n",
    "df_table['Continent'] = df_table['Country/Region'].map(mapping['map.continent'])\n",
    "df_table.head(5)"
   ]
  },
  {
   "cell_type": "code",
   "execution_count": 14,
   "id": "aboriginal-bulgaria",
   "metadata": {
    "execution": {
     "iopub.execute_input": "2021-07-11T00:20:19.365975Z",
     "iopub.status.busy": "2021-07-11T00:20:19.364251Z",
     "iopub.status.idle": "2021-07-11T00:20:19.366813Z",
     "shell.execute_reply": "2021-07-11T00:20:19.367235Z"
    },
    "papermill": {
     "duration": 0.042902,
     "end_time": "2021-07-11T00:20:19.367355",
     "exception": false,
     "start_time": "2021-07-11T00:20:19.324453",
     "status": "completed"
    },
    "tags": []
   },
   "outputs": [],
   "source": [
    "#hide\n",
    "#delete problematic countries from table\n",
    "df_table = df_table[~df_table['Country/Region'].isin(['Cape Verde', 'Cruise Ship', 'Kosovo'])]"
   ]
  },
  {
   "cell_type": "code",
   "execution_count": 15,
   "id": "fantastic-effect",
   "metadata": {
    "execution": {
     "iopub.execute_input": "2021-07-11T00:20:19.442263Z",
     "iopub.status.busy": "2021-07-11T00:20:19.441702Z",
     "iopub.status.idle": "2021-07-11T00:20:19.460973Z",
     "shell.execute_reply": "2021-07-11T00:20:19.461515Z"
    },
    "papermill": {
     "duration": 0.05994,
     "end_time": "2021-07-11T00:20:19.461633",
     "exception": false,
     "start_time": "2021-07-11T00:20:19.401693",
     "status": "completed"
    },
    "tags": []
   },
   "outputs": [
    {
     "data": {
      "text/html": [
       "<div>\n",
       "<style scoped>\n",
       "    .dataframe tbody tr th:only-of-type {\n",
       "        vertical-align: middle;\n",
       "    }\n",
       "\n",
       "    .dataframe tbody tr th {\n",
       "        vertical-align: top;\n",
       "    }\n",
       "\n",
       "    .dataframe thead th {\n",
       "        text-align: right;\n",
       "    }\n",
       "</style>\n",
       "<table border=\"1\" class=\"dataframe\">\n",
       "  <thead>\n",
       "    <tr style=\"text-align: right;\">\n",
       "      <th></th>\n",
       "      <th>Country/Region</th>\n",
       "      <th>Cases</th>\n",
       "      <th>Deaths</th>\n",
       "      <th>PCases</th>\n",
       "      <th>PDeaths</th>\n",
       "      <th>Cases (+)</th>\n",
       "      <th>Deaths (+)</th>\n",
       "      <th>Fatality Rate</th>\n",
       "      <th>Continent</th>\n",
       "    </tr>\n",
       "  </thead>\n",
       "  <tbody>\n",
       "    <tr>\n",
       "      <th>0</th>\n",
       "      <td>US</td>\n",
       "      <td>33838746</td>\n",
       "      <td>606993</td>\n",
       "      <td>33790505</td>\n",
       "      <td>606475</td>\n",
       "      <td>48241</td>\n",
       "      <td>518</td>\n",
       "      <td>1.8</td>\n",
       "      <td>North America</td>\n",
       "    </tr>\n",
       "    <tr>\n",
       "      <th>1</th>\n",
       "      <td>India</td>\n",
       "      <td>30795716</td>\n",
       "      <td>407145</td>\n",
       "      <td>30752950</td>\n",
       "      <td>405939</td>\n",
       "      <td>42766</td>\n",
       "      <td>1206</td>\n",
       "      <td>1.3</td>\n",
       "      <td>Asia</td>\n",
       "    </tr>\n",
       "    <tr>\n",
       "      <th>2</th>\n",
       "      <td>Brazil</td>\n",
       "      <td>19020499</td>\n",
       "      <td>531688</td>\n",
       "      <td>18962762</td>\n",
       "      <td>530179</td>\n",
       "      <td>57737</td>\n",
       "      <td>1509</td>\n",
       "      <td>2.8</td>\n",
       "      <td>South America</td>\n",
       "    </tr>\n",
       "    <tr>\n",
       "      <th>3</th>\n",
       "      <td>France</td>\n",
       "      <td>5865767</td>\n",
       "      <td>111492</td>\n",
       "      <td>5861128</td>\n",
       "      <td>111473</td>\n",
       "      <td>4639</td>\n",
       "      <td>19</td>\n",
       "      <td>1.9</td>\n",
       "      <td>Europe</td>\n",
       "    </tr>\n",
       "    <tr>\n",
       "      <th>4</th>\n",
       "      <td>Russia</td>\n",
       "      <td>5664200</td>\n",
       "      <td>139156</td>\n",
       "      <td>5638901</td>\n",
       "      <td>138441</td>\n",
       "      <td>25299</td>\n",
       "      <td>715</td>\n",
       "      <td>2.5</td>\n",
       "      <td>Europe</td>\n",
       "    </tr>\n",
       "  </tbody>\n",
       "</table>\n",
       "</div>"
      ],
      "text/plain": [
       "  Country/Region     Cases  Deaths    PCases  PDeaths  Cases (+)  Deaths (+)  \\\n",
       "0             US  33838746  606993  33790505   606475      48241         518   \n",
       "1          India  30795716  407145  30752950   405939      42766        1206   \n",
       "2         Brazil  19020499  531688  18962762   530179      57737        1509   \n",
       "3         France   5865767  111492   5861128   111473       4639          19   \n",
       "4         Russia   5664200  139156   5638901   138441      25299         715   \n",
       "\n",
       "   Fatality Rate      Continent  \n",
       "0            1.8  North America  \n",
       "1            1.3           Asia  \n",
       "2            2.8  South America  \n",
       "3            1.9         Europe  \n",
       "4            2.5         Europe  "
      ]
     },
     "execution_count": 15,
     "metadata": {},
     "output_type": "execute_result"
    }
   ],
   "source": [
    "#hide\n",
    "df_table = (pd.DataFrame(dict(Cases=dfc_cases, Deaths=dfc_deaths, PCases=dfp_cases, PDeaths=dfp_deaths))\n",
    "             .sort_values(by=['Cases', 'Deaths'], ascending=[False, False])\n",
    "             .reset_index())\n",
    "df_table.rename(columns={'index': 'Country/Region'}, inplace=True)\n",
    "for c in 'Cases, Deaths'.split(', '):\n",
    "    df_table[f'{c} (+)'] = (df_table[c] - df_table[f'P{c}']).clip(0)  # DATA BUG\n",
    "df_table['Fatality Rate'] = (100 * df_table['Deaths'] / df_table['Cases']).round(1)\n",
    "df_table['Continent'] = df_table['Country/Region'].map(mapping['map.continent'])\n",
    "df_table.head(5)"
   ]
  },
  {
   "cell_type": "code",
   "execution_count": 16,
   "id": "fewer-occasion",
   "metadata": {
    "execution": {
     "iopub.execute_input": "2021-07-11T00:20:19.538731Z",
     "iopub.status.busy": "2021-07-11T00:20:19.538178Z",
     "iopub.status.idle": "2021-07-11T00:20:19.541710Z",
     "shell.execute_reply": "2021-07-11T00:20:19.541279Z"
    },
    "papermill": {
     "duration": 0.043211,
     "end_time": "2021-07-11T00:20:19.541810",
     "exception": false,
     "start_time": "2021-07-11T00:20:19.498599",
     "status": "completed"
    },
    "tags": []
   },
   "outputs": [],
   "source": [
    "#hide\n",
    "#delete problematic countries from table\n",
    "df_table = df_table[~df_table['Country/Region'].isin(['Cape Verde', 'Cruise Ship', 'Kosovo'])]"
   ]
  },
  {
   "cell_type": "code",
   "execution_count": 17,
   "id": "related-center",
   "metadata": {
    "execution": {
     "iopub.execute_input": "2021-07-11T00:20:19.636538Z",
     "iopub.status.busy": "2021-07-11T00:20:19.635993Z",
     "iopub.status.idle": "2021-07-11T00:20:19.637781Z",
     "shell.execute_reply": "2021-07-11T00:20:19.638438Z"
    },
    "papermill": {
     "duration": 0.056187,
     "end_time": "2021-07-11T00:20:19.638598",
     "exception": false,
     "start_time": "2021-07-11T00:20:19.582411",
     "status": "completed"
    },
    "tags": []
   },
   "outputs": [],
   "source": [
    "#hide\n",
    "metrics = [df_table.columns[index] for index in [1,2,5,6]]\n",
    "# s_china = df_table[df_table['Country/Region'].eq('China')][metrics].sum().add_prefix('China ')\n",
    "s_us = df_table[df_table['Country/Region'].eq('US')][metrics].sum().add_prefix('US ')\n",
    "s_eu = df_table[df_table['Continent'].eq('Europe')][metrics].sum().add_prefix('EU ')\n",
    "s_ind = df_table[df_table['Country/Region'].eq('India')][metrics].sum().add_prefix('India ')\n",
    "summary = {'updated': pd.to_datetime(dt_today), 'since': pd.to_datetime(dt_yday)}\n",
    "summary = {'updated': pd.to_datetime(dt_today), 'since': pd.to_datetime(dt_yday)}\n",
    "summary = {**summary, **df_table[metrics].sum(), **s_ind, **s_us, **s_eu}"
   ]
  },
  {
   "cell_type": "code",
   "execution_count": 18,
   "id": "engaging-syndrome",
   "metadata": {
    "execution": {
     "iopub.execute_input": "2021-07-11T00:20:19.714976Z",
     "iopub.status.busy": "2021-07-11T00:20:19.714360Z",
     "iopub.status.idle": "2021-07-11T00:20:19.726921Z",
     "shell.execute_reply": "2021-07-11T00:20:19.726389Z"
    },
    "papermill": {
     "duration": 0.052946,
     "end_time": "2021-07-11T00:20:19.727047",
     "exception": false,
     "start_time": "2021-07-11T00:20:19.674101",
     "status": "completed"
    },
    "tags": []
   },
   "outputs": [],
   "source": [
    "#hide\n",
    "dft_ct_new_cases = dft_cases.groupby(COL_REGION)[dt_cols].sum().diff(axis=1).fillna(0).astype(int)"
   ]
  },
  {
   "cell_type": "code",
   "execution_count": 19,
   "id": "neutral-assignment",
   "metadata": {
    "execution": {
     "iopub.execute_input": "2021-07-11T00:20:19.807328Z",
     "iopub.status.busy": "2021-07-11T00:20:19.806791Z",
     "iopub.status.idle": "2021-07-11T00:20:19.809235Z",
     "shell.execute_reply": "2021-07-11T00:20:19.808779Z"
    },
    "papermill": {
     "duration": 0.044196,
     "end_time": "2021-07-11T00:20:19.809337",
     "exception": false,
     "start_time": "2021-07-11T00:20:19.765141",
     "status": "completed"
    },
    "tags": []
   },
   "outputs": [],
   "source": [
    "#hide\n",
    "everydaycases = dft_ct_new_cases.cumsum(axis=1)"
   ]
  },
  {
   "cell_type": "code",
   "execution_count": 20,
   "id": "parliamentary-calgary",
   "metadata": {
    "execution": {
     "iopub.execute_input": "2021-07-11T00:20:19.893105Z",
     "iopub.status.busy": "2021-07-11T00:20:19.891531Z",
     "iopub.status.idle": "2021-07-11T00:20:20.441589Z",
     "shell.execute_reply": "2021-07-11T00:20:20.441068Z"
    },
    "papermill": {
     "duration": 0.593536,
     "end_time": "2021-07-11T00:20:20.441712",
     "exception": false,
     "start_time": "2021-07-11T00:20:19.848176",
     "status": "completed"
    },
    "tags": []
   },
   "outputs": [],
   "source": [
    "#hide\n",
    "import pandas as pd\n",
    "import matplotlib.pyplot as plt\n",
    "import matplotlib.ticker as ticker\n",
    "import matplotlib.animation as animation\n",
    "from IPython.display import HTML"
   ]
  },
  {
   "cell_type": "code",
   "execution_count": 21,
   "id": "lasting-extraction",
   "metadata": {
    "execution": {
     "iopub.execute_input": "2021-07-11T00:20:20.517335Z",
     "iopub.status.busy": "2021-07-11T00:20:20.516641Z",
     "iopub.status.idle": "2021-07-11T00:20:20.522033Z",
     "shell.execute_reply": "2021-07-11T00:20:20.522752Z"
    },
    "papermill": {
     "duration": 0.046745,
     "end_time": "2021-07-11T00:20:20.522869",
     "exception": false,
     "start_time": "2021-07-11T00:20:20.476124",
     "status": "completed"
    },
    "tags": []
   },
   "outputs": [],
   "source": [
    "#hide\n",
    "t = everydaycases.stack()"
   ]
  },
  {
   "cell_type": "code",
   "execution_count": 22,
   "id": "premier-sleeve",
   "metadata": {
    "execution": {
     "iopub.execute_input": "2021-07-11T00:20:20.597541Z",
     "iopub.status.busy": "2021-07-11T00:20:20.596995Z",
     "iopub.status.idle": "2021-07-11T00:20:20.604537Z",
     "shell.execute_reply": "2021-07-11T00:20:20.605108Z"
    },
    "papermill": {
     "duration": 0.047019,
     "end_time": "2021-07-11T00:20:20.605261",
     "exception": false,
     "start_time": "2021-07-11T00:20:20.558242",
     "status": "completed"
    },
    "tags": []
   },
   "outputs": [],
   "source": [
    "#hide\n",
    "g = t.reset_index(['Country/Region'])"
   ]
  },
  {
   "cell_type": "code",
   "execution_count": 23,
   "id": "distributed-pittsburgh",
   "metadata": {
    "execution": {
     "iopub.execute_input": "2021-07-11T00:20:20.674887Z",
     "iopub.status.busy": "2021-07-11T00:20:20.674300Z",
     "iopub.status.idle": "2021-07-11T00:20:20.676886Z",
     "shell.execute_reply": "2021-07-11T00:20:20.676338Z"
    },
    "papermill": {
     "duration": 0.039987,
     "end_time": "2021-07-11T00:20:20.677007",
     "exception": false,
     "start_time": "2021-07-11T00:20:20.637020",
     "status": "completed"
    },
    "tags": []
   },
   "outputs": [],
   "source": [
    "#hide\n",
    "g.index.name = 'date'"
   ]
  },
  {
   "cell_type": "code",
   "execution_count": 24,
   "id": "naked-donor",
   "metadata": {
    "execution": {
     "iopub.execute_input": "2021-07-11T00:20:20.752355Z",
     "iopub.status.busy": "2021-07-11T00:20:20.751622Z",
     "iopub.status.idle": "2021-07-11T00:20:20.754224Z",
     "shell.execute_reply": "2021-07-11T00:20:20.753753Z"
    },
    "papermill": {
     "duration": 0.040465,
     "end_time": "2021-07-11T00:20:20.754328",
     "exception": false,
     "start_time": "2021-07-11T00:20:20.713863",
     "status": "completed"
    },
    "tags": []
   },
   "outputs": [],
   "source": [
    "# #hide\n",
    "# g = g.reset_index(['date'])"
   ]
  },
  {
   "cell_type": "code",
   "execution_count": 25,
   "id": "incomplete-mustang",
   "metadata": {
    "execution": {
     "iopub.execute_input": "2021-07-11T00:20:20.824607Z",
     "iopub.status.busy": "2021-07-11T00:20:20.824017Z",
     "iopub.status.idle": "2021-07-11T00:20:20.826624Z",
     "shell.execute_reply": "2021-07-11T00:20:20.826052Z"
    },
    "papermill": {
     "duration": 0.038527,
     "end_time": "2021-07-11T00:20:20.826722",
     "exception": false,
     "start_time": "2021-07-11T00:20:20.788195",
     "status": "completed"
    },
    "tags": []
   },
   "outputs": [],
   "source": [
    "#hide\n",
    "# g.head()"
   ]
  },
  {
   "cell_type": "code",
   "execution_count": 26,
   "id": "specific-kruger",
   "metadata": {
    "execution": {
     "iopub.execute_input": "2021-07-11T00:20:20.904874Z",
     "iopub.status.busy": "2021-07-11T00:20:20.904309Z",
     "iopub.status.idle": "2021-07-11T00:20:20.906485Z",
     "shell.execute_reply": "2021-07-11T00:20:20.906994Z"
    },
    "papermill": {
     "duration": 0.044609,
     "end_time": "2021-07-11T00:20:20.907127",
     "exception": false,
     "start_time": "2021-07-11T00:20:20.862518",
     "status": "completed"
    },
    "tags": []
   },
   "outputs": [],
   "source": [
    "#hide\n",
    "# g.columns = ['date','country','cases']"
   ]
  },
  {
   "cell_type": "code",
   "execution_count": 27,
   "id": "tender-conversion",
   "metadata": {
    "execution": {
     "iopub.execute_input": "2021-07-11T00:20:20.982098Z",
     "iopub.status.busy": "2021-07-11T00:20:20.981511Z",
     "iopub.status.idle": "2021-07-11T00:20:20.985075Z",
     "shell.execute_reply": "2021-07-11T00:20:20.984536Z"
    },
    "papermill": {
     "duration": 0.040233,
     "end_time": "2021-07-11T00:20:20.985190",
     "exception": false,
     "start_time": "2021-07-11T00:20:20.944957",
     "status": "completed"
    },
    "tags": []
   },
   "outputs": [],
   "source": [
    "#hide\n",
    "# g['continent'] = g.country"
   ]
  },
  {
   "cell_type": "code",
   "execution_count": 28,
   "id": "substantial-wilderness",
   "metadata": {
    "execution": {
     "iopub.execute_input": "2021-07-11T00:20:21.068758Z",
     "iopub.status.busy": "2021-07-11T00:20:21.067661Z",
     "iopub.status.idle": "2021-07-11T00:20:21.069917Z",
     "shell.execute_reply": "2021-07-11T00:20:21.070736Z"
    },
    "papermill": {
     "duration": 0.046808,
     "end_time": "2021-07-11T00:20:21.070937",
     "exception": false,
     "start_time": "2021-07-11T00:20:21.024129",
     "status": "completed"
    },
    "tags": []
   },
   "outputs": [],
   "source": [
    "#hide\n",
    "# cols = list(g.columns.values)"
   ]
  },
  {
   "cell_type": "code",
   "execution_count": 29,
   "id": "solved-farming",
   "metadata": {
    "execution": {
     "iopub.execute_input": "2021-07-11T00:20:21.162120Z",
     "iopub.status.busy": "2021-07-11T00:20:21.161497Z",
     "iopub.status.idle": "2021-07-11T00:20:21.163576Z",
     "shell.execute_reply": "2021-07-11T00:20:21.164106Z"
    },
    "papermill": {
     "duration": 0.045293,
     "end_time": "2021-07-11T00:20:21.164259",
     "exception": false,
     "start_time": "2021-07-11T00:20:21.118966",
     "status": "completed"
    },
    "tags": []
   },
   "outputs": [],
   "source": [
    "#hide\n",
    "# cols.insert(0, cols.pop())"
   ]
  },
  {
   "cell_type": "code",
   "execution_count": 30,
   "id": "executed-adoption",
   "metadata": {
    "execution": {
     "iopub.execute_input": "2021-07-11T00:20:21.244231Z",
     "iopub.status.busy": "2021-07-11T00:20:21.243557Z",
     "iopub.status.idle": "2021-07-11T00:20:21.246488Z",
     "shell.execute_reply": "2021-07-11T00:20:21.245928Z"
    },
    "papermill": {
     "duration": 0.044234,
     "end_time": "2021-07-11T00:20:21.246596",
     "exception": false,
     "start_time": "2021-07-11T00:20:21.202362",
     "status": "completed"
    },
    "tags": []
   },
   "outputs": [],
   "source": [
    "#hide\n",
    "# g = g[cols]"
   ]
  },
  {
   "cell_type": "code",
   "execution_count": 31,
   "id": "subject-dublin",
   "metadata": {
    "execution": {
     "iopub.execute_input": "2021-07-11T00:20:21.327813Z",
     "iopub.status.busy": "2021-07-11T00:20:21.327203Z",
     "iopub.status.idle": "2021-07-11T00:20:21.329351Z",
     "shell.execute_reply": "2021-07-11T00:20:21.329992Z"
    },
    "papermill": {
     "duration": 0.04596,
     "end_time": "2021-07-11T00:20:21.330128",
     "exception": false,
     "start_time": "2021-07-11T00:20:21.284168",
     "status": "completed"
    },
    "tags": []
   },
   "outputs": [],
   "source": [
    "#hide\n",
    "# g['continent'] = g['continent'].map(mapping['map.continent'])"
   ]
  },
  {
   "cell_type": "code",
   "execution_count": 32,
   "id": "freelance-scout",
   "metadata": {
    "execution": {
     "iopub.execute_input": "2021-07-11T00:20:21.412445Z",
     "iopub.status.busy": "2021-07-11T00:20:21.411782Z",
     "iopub.status.idle": "2021-07-11T00:20:21.414541Z",
     "shell.execute_reply": "2021-07-11T00:20:21.413967Z"
    },
    "papermill": {
     "duration": 0.046952,
     "end_time": "2021-07-11T00:20:21.414674",
     "exception": false,
     "start_time": "2021-07-11T00:20:21.367722",
     "status": "completed"
    },
    "tags": []
   },
   "outputs": [],
   "source": [
    "#hide\n",
    "# g.head()"
   ]
  },
  {
   "cell_type": "code",
   "execution_count": 33,
   "id": "limited-engine",
   "metadata": {
    "execution": {
     "iopub.execute_input": "2021-07-11T00:20:21.498299Z",
     "iopub.status.busy": "2021-07-11T00:20:21.497664Z",
     "iopub.status.idle": "2021-07-11T00:20:21.500881Z",
     "shell.execute_reply": "2021-07-11T00:20:21.500328Z"
    },
    "papermill": {
     "duration": 0.046124,
     "end_time": "2021-07-11T00:20:21.500998",
     "exception": false,
     "start_time": "2021-07-11T00:20:21.454874",
     "status": "completed"
    },
    "tags": []
   },
   "outputs": [],
   "source": [
    "# hide\n",
    "# g['date'] = g['date'].astype('datetime64[ns]')"
   ]
  },
  {
   "cell_type": "code",
   "execution_count": 34,
   "id": "sophisticated-supervisor",
   "metadata": {
    "execution": {
     "iopub.execute_input": "2021-07-11T00:20:21.580926Z",
     "iopub.status.busy": "2021-07-11T00:20:21.580247Z",
     "iopub.status.idle": "2021-07-11T00:20:21.583088Z",
     "shell.execute_reply": "2021-07-11T00:20:21.582604Z"
    },
    "papermill": {
     "duration": 0.044656,
     "end_time": "2021-07-11T00:20:21.583197",
     "exception": false,
     "start_time": "2021-07-11T00:20:21.538541",
     "status": "completed"
    },
    "tags": []
   },
   "outputs": [],
   "source": [
    "#hide\n",
    "# g['date'] = g.date.dt.dayofyear"
   ]
  },
  {
   "cell_type": "code",
   "execution_count": 35,
   "id": "inside-dubai",
   "metadata": {
    "execution": {
     "iopub.execute_input": "2021-07-11T00:20:21.664100Z",
     "iopub.status.busy": "2021-07-11T00:20:21.663501Z",
     "iopub.status.idle": "2021-07-11T00:20:21.666148Z",
     "shell.execute_reply": "2021-07-11T00:20:21.665653Z"
    },
    "papermill": {
     "duration": 0.044621,
     "end_time": "2021-07-11T00:20:21.666257",
     "exception": false,
     "start_time": "2021-07-11T00:20:21.621636",
     "status": "completed"
    },
    "tags": []
   },
   "outputs": [],
   "source": [
    "#hide\n",
    "# g = g.rename(columns= {'continent':'group','country':'name','cases':'value'})"
   ]
  },
  {
   "cell_type": "code",
   "execution_count": 36,
   "id": "fleet-motorcycle",
   "metadata": {
    "execution": {
     "iopub.execute_input": "2021-07-11T00:20:21.747750Z",
     "iopub.status.busy": "2021-07-11T00:20:21.747052Z",
     "iopub.status.idle": "2021-07-11T00:20:21.749478Z",
     "shell.execute_reply": "2021-07-11T00:20:21.749009Z"
    },
    "papermill": {
     "duration": 0.043722,
     "end_time": "2021-07-11T00:20:21.749587",
     "exception": false,
     "start_time": "2021-07-11T00:20:21.705865",
     "status": "completed"
    },
    "tags": []
   },
   "outputs": [],
   "source": [
    "#hide\n",
    "# cols = ['name','group','day','value']"
   ]
  },
  {
   "cell_type": "code",
   "execution_count": 37,
   "id": "continued-sleeping",
   "metadata": {
    "execution": {
     "iopub.execute_input": "2021-07-11T00:20:21.829628Z",
     "iopub.status.busy": "2021-07-11T00:20:21.829030Z",
     "iopub.status.idle": "2021-07-11T00:20:21.831543Z",
     "shell.execute_reply": "2021-07-11T00:20:21.831061Z"
    },
    "papermill": {
     "duration": 0.044794,
     "end_time": "2021-07-11T00:20:21.831678",
     "exception": false,
     "start_time": "2021-07-11T00:20:21.786884",
     "status": "completed"
    },
    "tags": []
   },
   "outputs": [],
   "source": [
    "#hide\n",
    "# g.rename(columns= {'date':'day'},inplace = True)"
   ]
  },
  {
   "cell_type": "code",
   "execution_count": 38,
   "id": "major-fight",
   "metadata": {
    "execution": {
     "iopub.execute_input": "2021-07-11T00:20:21.918572Z",
     "iopub.status.busy": "2021-07-11T00:20:21.917916Z",
     "iopub.status.idle": "2021-07-11T00:20:21.920649Z",
     "shell.execute_reply": "2021-07-11T00:20:21.920183Z"
    },
    "papermill": {
     "duration": 0.051536,
     "end_time": "2021-07-11T00:20:21.920799",
     "exception": false,
     "start_time": "2021-07-11T00:20:21.869263",
     "status": "completed"
    },
    "tags": []
   },
   "outputs": [],
   "source": [
    "#hide\n",
    "# g = g[cols]"
   ]
  },
  {
   "cell_type": "code",
   "execution_count": 39,
   "id": "structured-mobile",
   "metadata": {
    "execution": {
     "iopub.execute_input": "2021-07-11T00:20:22.004054Z",
     "iopub.status.busy": "2021-07-11T00:20:22.003321Z",
     "iopub.status.idle": "2021-07-11T00:20:22.005479Z",
     "shell.execute_reply": "2021-07-11T00:20:22.005989Z"
    },
    "papermill": {
     "duration": 0.047315,
     "end_time": "2021-07-11T00:20:22.006121",
     "exception": false,
     "start_time": "2021-07-11T00:20:21.958806",
     "status": "completed"
    },
    "tags": []
   },
   "outputs": [],
   "source": [
    "# #hide\n",
    "# g = g[g.group.notna()]"
   ]
  },
  {
   "cell_type": "code",
   "execution_count": 40,
   "id": "determined-closing",
   "metadata": {
    "execution": {
     "iopub.execute_input": "2021-07-11T00:20:22.086463Z",
     "iopub.status.busy": "2021-07-11T00:20:22.085786Z",
     "iopub.status.idle": "2021-07-11T00:20:22.088007Z",
     "shell.execute_reply": "2021-07-11T00:20:22.087431Z"
    },
    "papermill": {
     "duration": 0.045898,
     "end_time": "2021-07-11T00:20:22.088125",
     "exception": false,
     "start_time": "2021-07-11T00:20:22.042227",
     "status": "completed"
    },
    "tags": []
   },
   "outputs": [],
   "source": [
    "# #hide\n",
    "# colors = dict(zip(\n",
    "#     [\"Oceania\", \"Europe\", \"Asia\", \"South America\", \"Middle East\", \"North America\", \"Africa\"],\n",
    "#     [\"#adb0ff\", \"#ffb3ff\", \"#90d595\", \"#e48381\", \"#aafbff\", \"#f7bb5f\", \"#eafb50\"]\n",
    "# ))\n",
    "# group_lk = g.set_index('name')['group'].to_dict()"
   ]
  },
  {
   "cell_type": "code",
   "execution_count": null,
   "id": "gross-drinking",
   "metadata": {
    "papermill": {
     "duration": 0.039747,
     "end_time": "2021-07-11T00:20:22.164479",
     "exception": false,
     "start_time": "2021-07-11T00:20:22.124732",
     "status": "completed"
    },
    "tags": []
   },
   "outputs": [],
   "source": []
  },
  {
   "cell_type": "code",
   "execution_count": 41,
   "id": "subject-macintosh",
   "metadata": {
    "execution": {
     "iopub.execute_input": "2021-07-11T00:20:22.252002Z",
     "iopub.status.busy": "2021-07-11T00:20:22.251394Z",
     "iopub.status.idle": "2021-07-11T00:20:22.253415Z",
     "shell.execute_reply": "2021-07-11T00:20:22.254011Z"
    },
    "papermill": {
     "duration": 0.046008,
     "end_time": "2021-07-11T00:20:22.254144",
     "exception": false,
     "start_time": "2021-07-11T00:20:22.208136",
     "status": "completed"
    },
    "tags": []
   },
   "outputs": [],
   "source": [
    "# #hide\n",
    "# fig, ax = plt.subplots(figsize=(15, 8))\n",
    "\n",
    "# def draw_barchart(current_day):\n",
    "#     dff = g[g['day'].eq(current_day)].sort_values(by='value', ascending=True).tail(10)\n",
    "#     ax.clear()\n",
    "#     ax.barh(dff['name'], dff['value'], color=[colors[group_lk[x]] for x in dff['name']])\n",
    "#     dx = dff['value'].max() / 200\n",
    "    \n",
    "#     for i, (value, name) in enumerate(zip(dff['value'], dff['name'])):\n",
    "#         ax.text(value-dx, i,     name,           size=14, weight=600, ha='right', va='bottom')\n",
    "#         ax.text(value-dx, i-.25, group_lk[name], size=10, color='#444444', ha='right', va='baseline')\n",
    "#         ax.text(value+dx, i,     f'{value:,.0f}',  size=14, ha='left',  va='center')\n",
    "#     ax.text(1, 0.4, current_day, transform=ax.transAxes, color='#777777', size=46, ha='right', weight=800)\n",
    "#     ax.text(0, 1.06, 'Population (thousands)', transform=ax.transAxes, size=12, color='#777777')\n",
    "#     ax.xaxis.set_major_formatter(ticker.StrMethodFormatter('{x:,.0f}'))\n",
    "#     ax.xaxis.set_ticks_position('top')\n",
    "#     ax.tick_params(axis='x', colors='#777777', labelsize=12)\n",
    "#     ax.set_yticks([])\n",
    "#     ax.margins(0, 0.01)\n",
    "#     ax.grid(which='major', axis='x', linestyle='-')\n",
    "#     ax.set_axisbelow(True)\n",
    "    \n",
    "#     ax.text(0, 1.15, 'Coronavirus',\n",
    "#             transform=ax.transAxes, size=24, weight=600, ha='left', va='top')\n",
    "# #     ax.text(1, 0, 'by @pratapvardhan; credit @jburnmurdoch', transform=ax.transAxes, color='#777777', ha='right',\n",
    "# #             bbox=dict(facecolor='white', alpha=0.8, edgecolor='white'))\n",
    "#     plt.box(False)"
   ]
  },
  {
   "cell_type": "code",
   "execution_count": 42,
   "id": "sexual-wages",
   "metadata": {
    "execution": {
     "iopub.execute_input": "2021-07-11T00:20:22.332642Z",
     "iopub.status.busy": "2021-07-11T00:20:22.332116Z",
     "iopub.status.idle": "2021-07-11T00:20:22.334052Z",
     "shell.execute_reply": "2021-07-11T00:20:22.334488Z"
    },
    "papermill": {
     "duration": 0.042527,
     "end_time": "2021-07-11T00:20:22.334603",
     "exception": false,
     "start_time": "2021-07-11T00:20:22.292076",
     "status": "completed"
    },
    "tags": []
   },
   "outputs": [],
   "source": [
    "# #hide_input\n",
    "# fig, ax = plt.subplots(figsize=(15, 8))\n",
    "# animator = animation.FuncAnimation(fig, draw_barchart, frames=range(g.day.values.min(), g.day.values.max()))\n",
    "# HTML(animator.to_jshtml())\n",
    "# # or use animator.to_html5_video() or animator.save() "
   ]
  },
  {
   "cell_type": "code",
   "execution_count": null,
   "id": "australian-container",
   "metadata": {
    "papermill": {
     "duration": 0.037744,
     "end_time": "2021-07-11T00:20:22.406876",
     "exception": false,
     "start_time": "2021-07-11T00:20:22.369132",
     "status": "completed"
    },
    "tags": []
   },
   "outputs": [],
   "source": []
  },
  {
   "cell_type": "code",
   "execution_count": null,
   "id": "mediterranean-pontiac",
   "metadata": {
    "papermill": {
     "duration": 0.03301,
     "end_time": "2021-07-11T00:20:22.477842",
     "exception": false,
     "start_time": "2021-07-11T00:20:22.444832",
     "status": "completed"
    },
    "tags": []
   },
   "outputs": [],
   "source": []
  },
  {
   "cell_type": "code",
   "execution_count": null,
   "id": "aging-legislature",
   "metadata": {
    "papermill": {
     "duration": 0.034053,
     "end_time": "2021-07-11T00:20:22.546014",
     "exception": false,
     "start_time": "2021-07-11T00:20:22.511961",
     "status": "completed"
    },
    "tags": []
   },
   "outputs": [],
   "source": []
  }
 ],
 "metadata": {
  "kernelspec": {
   "display_name": "Python 3",
   "language": "python",
   "name": "python3"
  },
  "language_info": {
   "codemirror_mode": {
    "name": "ipython",
    "version": 3
   },
   "file_extension": ".py",
   "mimetype": "text/x-python",
   "name": "python",
   "nbconvert_exporter": "python",
   "pygments_lexer": "ipython3",
   "version": "3.6.13"
  },
  "papermill": {
   "duration": 6.68632,
   "end_time": "2021-07-11T00:20:22.889908",
   "environment_variables": {},
   "exception": null,
   "input_path": "2020-03-21-covid19exp.ipynb",
   "output_path": "2020-03-21-covid19exp.ipynb",
   "parameters": {},
   "start_time": "2021-07-11T00:20:16.203588",
   "version": "2.0.0"
  }
 },
 "nbformat": 4,
 "nbformat_minor": 5
}