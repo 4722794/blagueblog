{
 "cells": [
  {
   "cell_type": "markdown",
   "id": "muslim-click",
   "metadata": {
    "papermill": {
     "duration": 0.040778,
     "end_time": "2021-08-17T12:11:30.968909",
     "exception": false,
     "start_time": "2021-08-17T12:11:30.928131",
     "status": "completed"
    },
    "tags": []
   },
   "source": [
    "# COVID-19 Case Race\n",
    "> A race chart to see rising cases around the world\n",
    "\n",
    "- author: Hargun Oberoi\n",
    "- image: images/covid-overview.png\n",
    "- hide: false\n",
    "- badges: false"
   ]
  },
  {
   "cell_type": "code",
   "execution_count": 1,
   "id": "proof-material",
   "metadata": {
    "execution": {
     "iopub.execute_input": "2021-08-17T12:11:31.055963Z",
     "iopub.status.busy": "2021-08-17T12:11:31.055309Z",
     "iopub.status.idle": "2021-08-17T12:11:31.448684Z",
     "shell.execute_reply": "2021-08-17T12:11:31.448061Z"
    },
    "papermill": {
     "duration": 0.443924,
     "end_time": "2021-08-17T12:11:31.448842",
     "exception": false,
     "start_time": "2021-08-17T12:11:31.004918",
     "status": "completed"
    },
    "tags": []
   },
   "outputs": [],
   "source": [
    "#hide\n",
    "import numpy as np\n",
    "import pandas as pd\n",
    "from jinja2 import Template\n",
    "from IPython.display import HTML"
   ]
  },
  {
   "cell_type": "code",
   "execution_count": 2,
   "id": "developed-terminology",
   "metadata": {
    "execution": {
     "iopub.execute_input": "2021-08-17T12:11:31.535748Z",
     "iopub.status.busy": "2021-08-17T12:11:31.535084Z",
     "iopub.status.idle": "2021-08-17T12:11:31.537586Z",
     "shell.execute_reply": "2021-08-17T12:11:31.537022Z"
    },
    "papermill": {
     "duration": 0.04473,
     "end_time": "2021-08-17T12:11:31.537715",
     "exception": false,
     "start_time": "2021-08-17T12:11:31.492985",
     "status": "completed"
    },
    "tags": []
   },
   "outputs": [],
   "source": [
    "#hide\n",
    "\n",
    "# FETCH\n",
    "base_url = 'https://raw.githubusercontent.com/pratapvardhan/notebooks/master/covid19/'\n",
    "paths = {\n",
    "    'mapping': base_url + 'mapping_countries.csv',\n",
    "    'overview': base_url + 'overview.tpl'\n",
    "}"
   ]
  },
  {
   "cell_type": "code",
   "execution_count": 3,
   "id": "dynamic-saver",
   "metadata": {
    "execution": {
     "iopub.execute_input": "2021-08-17T12:11:31.625740Z",
     "iopub.status.busy": "2021-08-17T12:11:31.625083Z",
     "iopub.status.idle": "2021-08-17T12:11:31.627808Z",
     "shell.execute_reply": "2021-08-17T12:11:31.628363Z"
    },
    "papermill": {
     "duration": 0.051322,
     "end_time": "2021-08-17T12:11:31.628514",
     "exception": false,
     "start_time": "2021-08-17T12:11:31.577192",
     "status": "completed"
    },
    "tags": []
   },
   "outputs": [
    {
     "data": {
      "text/plain": [
       "'https://raw.githubusercontent.com/pratapvardhan/notebooks/master/covid19/mapping_countries.csv'"
      ]
     },
     "execution_count": 3,
     "metadata": {},
     "output_type": "execute_result"
    }
   ],
   "source": [
    "#hide\n",
    "paths['mapping']"
   ]
  },
  {
   "cell_type": "code",
   "execution_count": 4,
   "id": "urban-software",
   "metadata": {
    "execution": {
     "iopub.execute_input": "2021-08-17T12:11:31.710283Z",
     "iopub.status.busy": "2021-08-17T12:11:31.709593Z",
     "iopub.status.idle": "2021-08-17T12:11:31.711399Z",
     "shell.execute_reply": "2021-08-17T12:11:31.712023Z"
    },
    "papermill": {
     "duration": 0.045656,
     "end_time": "2021-08-17T12:11:31.712703",
     "exception": false,
     "start_time": "2021-08-17T12:11:31.667047",
     "status": "completed"
    },
    "tags": []
   },
   "outputs": [],
   "source": [
    "#hide\n",
    "def get_mappings(url):\n",
    "    df = pd.read_csv(url)\n",
    "    return {\n",
    "        'df': df,\n",
    "        'replace.country': dict(df.dropna(subset=['Name']).set_index('Country')['Name']),\n",
    "        'map.continent': dict(df.set_index('Name')['Continent'])\n",
    "    }"
   ]
  },
  {
   "cell_type": "code",
   "execution_count": 5,
   "id": "intimate-machinery",
   "metadata": {
    "execution": {
     "iopub.execute_input": "2021-08-17T12:11:31.793437Z",
     "iopub.status.busy": "2021-08-17T12:11:31.792647Z",
     "iopub.status.idle": "2021-08-17T12:11:31.856581Z",
     "shell.execute_reply": "2021-08-17T12:11:31.857131Z"
    },
    "papermill": {
     "duration": 0.107991,
     "end_time": "2021-08-17T12:11:31.857331",
     "exception": false,
     "start_time": "2021-08-17T12:11:31.749340",
     "status": "completed"
    },
    "tags": []
   },
   "outputs": [],
   "source": [
    "#hide\n",
    "mapping = get_mappings(paths['mapping'])"
   ]
  },
  {
   "cell_type": "code",
   "execution_count": 6,
   "id": "certified-tactics",
   "metadata": {
    "execution": {
     "iopub.execute_input": "2021-08-17T12:11:31.941232Z",
     "iopub.status.busy": "2021-08-17T12:11:31.940517Z",
     "iopub.status.idle": "2021-08-17T12:11:31.942153Z",
     "shell.execute_reply": "2021-08-17T12:11:31.942769Z"
    },
    "papermill": {
     "duration": 0.046284,
     "end_time": "2021-08-17T12:11:31.942927",
     "exception": false,
     "start_time": "2021-08-17T12:11:31.896643",
     "status": "completed"
    },
    "tags": []
   },
   "outputs": [],
   "source": [
    "#hide\n",
    "def get_template(path):\n",
    "    from urllib.parse import urlparse\n",
    "    if bool(urlparse(path).netloc):\n",
    "        from urllib.request import urlopen\n",
    "        return urlopen(path).read().decode('utf8')\n",
    "    return open(path).read()"
   ]
  },
  {
   "cell_type": "code",
   "execution_count": 7,
   "id": "realistic-blast",
   "metadata": {
    "execution": {
     "iopub.execute_input": "2021-08-17T12:11:32.026186Z",
     "iopub.status.busy": "2021-08-17T12:11:32.025506Z",
     "iopub.status.idle": "2021-08-17T12:11:32.027352Z",
     "shell.execute_reply": "2021-08-17T12:11:32.027878Z"
    },
    "papermill": {
     "duration": 0.046239,
     "end_time": "2021-08-17T12:11:32.028044",
     "exception": false,
     "start_time": "2021-08-17T12:11:31.981805",
     "status": "completed"
    },
    "tags": []
   },
   "outputs": [],
   "source": [
    "#hide\n",
    "def get_frame(name):\n",
    "    url = (\n",
    "        'https://raw.githubusercontent.com/CSSEGISandData/COVID-19/master/csse_covid_19_data/'\n",
    "        f'csse_covid_19_time_series/time_series_covid19_{name}_global.csv')\n",
    "    df = pd.read_csv(url)\n",
    "    # rename countries\n",
    "    df['Country/Region'] = df['Country/Region'].replace(mapping['replace.country'])\n",
    "    return df"
   ]
  },
  {
   "cell_type": "code",
   "execution_count": 8,
   "id": "affiliated-characterization",
   "metadata": {
    "execution": {
     "iopub.execute_input": "2021-08-17T12:11:32.119458Z",
     "iopub.status.busy": "2021-08-17T12:11:32.118509Z",
     "iopub.status.idle": "2021-08-17T12:11:32.120168Z",
     "shell.execute_reply": "2021-08-17T12:11:32.120945Z"
    },
    "papermill": {
     "duration": 0.053217,
     "end_time": "2021-08-17T12:11:32.121170",
     "exception": false,
     "start_time": "2021-08-17T12:11:32.067953",
     "status": "completed"
    },
    "tags": []
   },
   "outputs": [],
   "source": [
    "#hide\n",
    "def get_dates(df):\n",
    "    dt_cols = df.columns[~df.columns.isin(['Province/State', 'Country/Region', 'Lat', 'Long'])]\n",
    "    LAST_DATE_I = -1\n",
    "    # sometimes last column may be empty, then go backwards\n",
    "    for i in range(-1, -len(dt_cols), -1):\n",
    "        if not df[dt_cols[i]].fillna(0).eq(0).all():\n",
    "            LAST_DATE_I = i\n",
    "            break\n",
    "    return LAST_DATE_I, dt_cols"
   ]
  },
  {
   "cell_type": "code",
   "execution_count": 9,
   "id": "recent-optimization",
   "metadata": {
    "execution": {
     "iopub.execute_input": "2021-08-17T12:11:32.205874Z",
     "iopub.status.busy": "2021-08-17T12:11:32.205199Z",
     "iopub.status.idle": "2021-08-17T12:11:32.802989Z",
     "shell.execute_reply": "2021-08-17T12:11:32.801911Z"
    },
    "papermill": {
     "duration": 0.643769,
     "end_time": "2021-08-17T12:11:32.803131",
     "exception": false,
     "start_time": "2021-08-17T12:11:32.159362",
     "status": "completed"
    },
    "tags": []
   },
   "outputs": [],
   "source": [
    "#hide\n",
    "COL_REGION = 'Country/Region'\n",
    "# Confirmed, Recovered, Deaths\n",
    "df = get_frame('confirmed')\n",
    "# dft_: timeseries, dfc_: today country agg\n",
    "dft_cases = df\n",
    "dft_deaths = get_frame('deaths')\n",
    "dft_recovered = get_frame('recovered')\n",
    "LAST_DATE_I, dt_cols = get_dates(df)"
   ]
  },
  {
   "cell_type": "code",
   "execution_count": 10,
   "id": "absolute-copper",
   "metadata": {
    "execution": {
     "iopub.execute_input": "2021-08-17T12:11:32.887882Z",
     "iopub.status.busy": "2021-08-17T12:11:32.887188Z",
     "iopub.status.idle": "2021-08-17T12:11:32.889295Z",
     "shell.execute_reply": "2021-08-17T12:11:32.889935Z"
    },
    "papermill": {
     "duration": 0.047591,
     "end_time": "2021-08-17T12:11:32.890080",
     "exception": false,
     "start_time": "2021-08-17T12:11:32.842489",
     "status": "completed"
    },
    "tags": []
   },
   "outputs": [],
   "source": [
    "#hide\n",
    "LAST_DATE_I, dt_cols = get_dates(df)\n",
    "dt_today =dt_cols[LAST_DATE_I]\n",
    "# dt_5day = dt_cols[LAST_DATE_I - 5]\n",
    "dt_yday = dt_cols[LAST_DATE_I - 1]"
   ]
  },
  {
   "cell_type": "code",
   "execution_count": 11,
   "id": "restricted-sheriff",
   "metadata": {
    "execution": {
     "iopub.execute_input": "2021-08-17T12:11:32.974543Z",
     "iopub.status.busy": "2021-08-17T12:11:32.973889Z",
     "iopub.status.idle": "2021-08-17T12:11:32.983379Z",
     "shell.execute_reply": "2021-08-17T12:11:32.983908Z"
    },
    "papermill": {
     "duration": 0.055179,
     "end_time": "2021-08-17T12:11:32.984057",
     "exception": false,
     "start_time": "2021-08-17T12:11:32.928878",
     "status": "completed"
    },
    "tags": []
   },
   "outputs": [],
   "source": [
    "#hide\n",
    "dfc_cases = dft_cases.groupby(COL_REGION)[dt_today].sum()\n",
    "dfc_deaths = dft_deaths.groupby(COL_REGION)[dt_today].sum()\n",
    "# dfp_cases = dft_cases.groupby(COL_REGION)[dt_5day].sum()\n",
    "# dfp_deaths = dft_deaths.groupby(COL_REGION)[dt_5day].sum()\n",
    "dfp_cases = dft_cases.groupby(COL_REGION)[dt_yday].sum()\n",
    "dfp_deaths = dft_deaths.groupby(COL_REGION)[dt_yday].sum()"
   ]
  },
  {
   "cell_type": "code",
   "execution_count": 12,
   "id": "deluxe-hepatitis",
   "metadata": {
    "execution": {
     "iopub.execute_input": "2021-08-17T12:11:33.066311Z",
     "iopub.status.busy": "2021-08-17T12:11:33.065650Z",
     "iopub.status.idle": "2021-08-17T12:11:33.072564Z",
     "shell.execute_reply": "2021-08-17T12:11:33.071968Z"
    },
    "papermill": {
     "duration": 0.051156,
     "end_time": "2021-08-17T12:11:33.072708",
     "exception": false,
     "start_time": "2021-08-17T12:11:33.021552",
     "status": "completed"
    },
    "tags": []
   },
   "outputs": [],
   "source": [
    "#hide\n",
    "df_table = (pd.DataFrame(dict(Cases = dfc_cases, Deaths = dfc_deaths, PCases = dfp_cases, PDeaths = dfp_deaths))\n",
    "            .sort_values(by = ['Cases','Deaths'], ascending = [False, False])\n",
    "            .reset_index())"
   ]
  },
  {
   "cell_type": "code",
   "execution_count": 13,
   "id": "educational-chancellor",
   "metadata": {
    "execution": {
     "iopub.execute_input": "2021-08-17T12:11:33.176888Z",
     "iopub.status.busy": "2021-08-17T12:11:33.171289Z",
     "iopub.status.idle": "2021-08-17T12:11:33.180020Z",
     "shell.execute_reply": "2021-08-17T12:11:33.180677Z"
    },
    "papermill": {
     "duration": 0.070722,
     "end_time": "2021-08-17T12:11:33.180841",
     "exception": false,
     "start_time": "2021-08-17T12:11:33.110119",
     "status": "completed"
    },
    "tags": []
   },
   "outputs": [
    {
     "data": {
      "text/html": [
       "<div>\n",
       "<style scoped>\n",
       "    .dataframe tbody tr th:only-of-type {\n",
       "        vertical-align: middle;\n",
       "    }\n",
       "\n",
       "    .dataframe tbody tr th {\n",
       "        vertical-align: top;\n",
       "    }\n",
       "\n",
       "    .dataframe thead th {\n",
       "        text-align: right;\n",
       "    }\n",
       "</style>\n",
       "<table border=\"1\" class=\"dataframe\">\n",
       "  <thead>\n",
       "    <tr style=\"text-align: right;\">\n",
       "      <th></th>\n",
       "      <th>Country/Region</th>\n",
       "      <th>Cases</th>\n",
       "      <th>Deaths</th>\n",
       "      <th>PCases</th>\n",
       "      <th>PDeaths</th>\n",
       "      <th>Cases (+)</th>\n",
       "      <th>Deaths (+)</th>\n",
       "      <th>Fatality Rate</th>\n",
       "      <th>Continent</th>\n",
       "    </tr>\n",
       "  </thead>\n",
       "  <tbody>\n",
       "    <tr>\n",
       "      <th>0</th>\n",
       "      <td>US</td>\n",
       "      <td>36888921</td>\n",
       "      <td>622321</td>\n",
       "      <td>36678753</td>\n",
       "      <td>621635</td>\n",
       "      <td>210168</td>\n",
       "      <td>686</td>\n",
       "      <td>1.69</td>\n",
       "      <td>North America</td>\n",
       "    </tr>\n",
       "    <tr>\n",
       "      <th>1</th>\n",
       "      <td>India</td>\n",
       "      <td>32250679</td>\n",
       "      <td>432079</td>\n",
       "      <td>32225513</td>\n",
       "      <td>431642</td>\n",
       "      <td>25166</td>\n",
       "      <td>437</td>\n",
       "      <td>1.34</td>\n",
       "      <td>Asia</td>\n",
       "    </tr>\n",
       "    <tr>\n",
       "      <th>2</th>\n",
       "      <td>Brazil</td>\n",
       "      <td>20378570</td>\n",
       "      <td>569492</td>\n",
       "      <td>20364099</td>\n",
       "      <td>569058</td>\n",
       "      <td>14471</td>\n",
       "      <td>434</td>\n",
       "      <td>2.79</td>\n",
       "      <td>South America</td>\n",
       "    </tr>\n",
       "    <tr>\n",
       "      <th>3</th>\n",
       "      <td>France</td>\n",
       "      <td>6556496</td>\n",
       "      <td>112992</td>\n",
       "      <td>6543099</td>\n",
       "      <td>112873</td>\n",
       "      <td>13397</td>\n",
       "      <td>119</td>\n",
       "      <td>1.72</td>\n",
       "      <td>Europe</td>\n",
       "    </tr>\n",
       "    <tr>\n",
       "      <th>4</th>\n",
       "      <td>Russia</td>\n",
       "      <td>6531585</td>\n",
       "      <td>168384</td>\n",
       "      <td>6511431</td>\n",
       "      <td>167595</td>\n",
       "      <td>20154</td>\n",
       "      <td>789</td>\n",
       "      <td>2.58</td>\n",
       "      <td>Europe</td>\n",
       "    </tr>\n",
       "  </tbody>\n",
       "</table>\n",
       "</div>"
      ],
      "text/plain": [
       "  Country/Region     Cases  Deaths    PCases  PDeaths  Cases (+)  Deaths (+)  \\\n",
       "0             US  36888921  622321  36678753   621635     210168         686   \n",
       "1          India  32250679  432079  32225513   431642      25166         437   \n",
       "2         Brazil  20378570  569492  20364099   569058      14471         434   \n",
       "3         France   6556496  112992   6543099   112873      13397         119   \n",
       "4         Russia   6531585  168384   6511431   167595      20154         789   \n",
       "\n",
       "   Fatality Rate      Continent  \n",
       "0           1.69  North America  \n",
       "1           1.34           Asia  \n",
       "2           2.79  South America  \n",
       "3           1.72         Europe  \n",
       "4           2.58         Europe  "
      ]
     },
     "execution_count": 13,
     "metadata": {},
     "output_type": "execute_result"
    }
   ],
   "source": [
    "#hide\n",
    "for c in 'Cases, Deaths'.split(', '):\n",
    "    df_table[f'{c} (+)'] = (df_table[c] - df_table[f'P{c}']).clip(0)\n",
    "    #Clip ça veut dire, les chiffres negatif sont interdit\n",
    "df_table['Fatality Rate'] = (100* df_table['Deaths']/ df_table['Cases']).round(2)\n",
    "df_table['Continent'] = df_table['Country/Region'].map(mapping['map.continent'])\n",
    "df_table.head(5)"
   ]
  },
  {
   "cell_type": "code",
   "execution_count": 14,
   "id": "aboriginal-bulgaria",
   "metadata": {
    "execution": {
     "iopub.execute_input": "2021-08-17T12:11:33.270205Z",
     "iopub.status.busy": "2021-08-17T12:11:33.269554Z",
     "iopub.status.idle": "2021-08-17T12:11:33.272038Z",
     "shell.execute_reply": "2021-08-17T12:11:33.271488Z"
    },
    "papermill": {
     "duration": 0.052608,
     "end_time": "2021-08-17T12:11:33.272166",
     "exception": false,
     "start_time": "2021-08-17T12:11:33.219558",
     "status": "completed"
    },
    "tags": []
   },
   "outputs": [],
   "source": [
    "#hide\n",
    "#delete problematic countries from table\n",
    "df_table = df_table[~df_table['Country/Region'].isin(['Cape Verde', 'Cruise Ship', 'Kosovo'])]"
   ]
  },
  {
   "cell_type": "code",
   "execution_count": 15,
   "id": "fantastic-effect",
   "metadata": {
    "execution": {
     "iopub.execute_input": "2021-08-17T12:11:33.357572Z",
     "iopub.status.busy": "2021-08-17T12:11:33.356913Z",
     "iopub.status.idle": "2021-08-17T12:11:33.378294Z",
     "shell.execute_reply": "2021-08-17T12:11:33.379074Z"
    },
    "papermill": {
     "duration": 0.069717,
     "end_time": "2021-08-17T12:11:33.379238",
     "exception": false,
     "start_time": "2021-08-17T12:11:33.309521",
     "status": "completed"
    },
    "tags": []
   },
   "outputs": [
    {
     "data": {
      "text/html": [
       "<div>\n",
       "<style scoped>\n",
       "    .dataframe tbody tr th:only-of-type {\n",
       "        vertical-align: middle;\n",
       "    }\n",
       "\n",
       "    .dataframe tbody tr th {\n",
       "        vertical-align: top;\n",
       "    }\n",
       "\n",
       "    .dataframe thead th {\n",
       "        text-align: right;\n",
       "    }\n",
       "</style>\n",
       "<table border=\"1\" class=\"dataframe\">\n",
       "  <thead>\n",
       "    <tr style=\"text-align: right;\">\n",
       "      <th></th>\n",
       "      <th>Country/Region</th>\n",
       "      <th>Cases</th>\n",
       "      <th>Deaths</th>\n",
       "      <th>PCases</th>\n",
       "      <th>PDeaths</th>\n",
       "      <th>Cases (+)</th>\n",
       "      <th>Deaths (+)</th>\n",
       "      <th>Fatality Rate</th>\n",
       "      <th>Continent</th>\n",
       "    </tr>\n",
       "  </thead>\n",
       "  <tbody>\n",
       "    <tr>\n",
       "      <th>0</th>\n",
       "      <td>US</td>\n",
       "      <td>36888921</td>\n",
       "      <td>622321</td>\n",
       "      <td>36678753</td>\n",
       "      <td>621635</td>\n",
       "      <td>210168</td>\n",
       "      <td>686</td>\n",
       "      <td>1.7</td>\n",
       "      <td>North America</td>\n",
       "    </tr>\n",
       "    <tr>\n",
       "      <th>1</th>\n",
       "      <td>India</td>\n",
       "      <td>32250679</td>\n",
       "      <td>432079</td>\n",
       "      <td>32225513</td>\n",
       "      <td>431642</td>\n",
       "      <td>25166</td>\n",
       "      <td>437</td>\n",
       "      <td>1.3</td>\n",
       "      <td>Asia</td>\n",
       "    </tr>\n",
       "    <tr>\n",
       "      <th>2</th>\n",
       "      <td>Brazil</td>\n",
       "      <td>20378570</td>\n",
       "      <td>569492</td>\n",
       "      <td>20364099</td>\n",
       "      <td>569058</td>\n",
       "      <td>14471</td>\n",
       "      <td>434</td>\n",
       "      <td>2.8</td>\n",
       "      <td>South America</td>\n",
       "    </tr>\n",
       "    <tr>\n",
       "      <th>3</th>\n",
       "      <td>France</td>\n",
       "      <td>6556496</td>\n",
       "      <td>112992</td>\n",
       "      <td>6543099</td>\n",
       "      <td>112873</td>\n",
       "      <td>13397</td>\n",
       "      <td>119</td>\n",
       "      <td>1.7</td>\n",
       "      <td>Europe</td>\n",
       "    </tr>\n",
       "    <tr>\n",
       "      <th>4</th>\n",
       "      <td>Russia</td>\n",
       "      <td>6531585</td>\n",
       "      <td>168384</td>\n",
       "      <td>6511431</td>\n",
       "      <td>167595</td>\n",
       "      <td>20154</td>\n",
       "      <td>789</td>\n",
       "      <td>2.6</td>\n",
       "      <td>Europe</td>\n",
       "    </tr>\n",
       "  </tbody>\n",
       "</table>\n",
       "</div>"
      ],
      "text/plain": [
       "  Country/Region     Cases  Deaths    PCases  PDeaths  Cases (+)  Deaths (+)  \\\n",
       "0             US  36888921  622321  36678753   621635     210168         686   \n",
       "1          India  32250679  432079  32225513   431642      25166         437   \n",
       "2         Brazil  20378570  569492  20364099   569058      14471         434   \n",
       "3         France   6556496  112992   6543099   112873      13397         119   \n",
       "4         Russia   6531585  168384   6511431   167595      20154         789   \n",
       "\n",
       "   Fatality Rate      Continent  \n",
       "0            1.7  North America  \n",
       "1            1.3           Asia  \n",
       "2            2.8  South America  \n",
       "3            1.7         Europe  \n",
       "4            2.6         Europe  "
      ]
     },
     "execution_count": 15,
     "metadata": {},
     "output_type": "execute_result"
    }
   ],
   "source": [
    "#hide\n",
    "df_table = (pd.DataFrame(dict(Cases=dfc_cases, Deaths=dfc_deaths, PCases=dfp_cases, PDeaths=dfp_deaths))\n",
    "             .sort_values(by=['Cases', 'Deaths'], ascending=[False, False])\n",
    "             .reset_index())\n",
    "df_table.rename(columns={'index': 'Country/Region'}, inplace=True)\n",
    "for c in 'Cases, Deaths'.split(', '):\n",
    "    df_table[f'{c} (+)'] = (df_table[c] - df_table[f'P{c}']).clip(0)  # DATA BUG\n",
    "df_table['Fatality Rate'] = (100 * df_table['Deaths'] / df_table['Cases']).round(1)\n",
    "df_table['Continent'] = df_table['Country/Region'].map(mapping['map.continent'])\n",
    "df_table.head(5)"
   ]
  },
  {
   "cell_type": "code",
   "execution_count": 16,
   "id": "fewer-occasion",
   "metadata": {
    "execution": {
     "iopub.execute_input": "2021-08-17T12:11:33.465589Z",
     "iopub.status.busy": "2021-08-17T12:11:33.464939Z",
     "iopub.status.idle": "2021-08-17T12:11:33.466995Z",
     "shell.execute_reply": "2021-08-17T12:11:33.467596Z"
    },
    "papermill": {
     "duration": 0.048866,
     "end_time": "2021-08-17T12:11:33.467747",
     "exception": false,
     "start_time": "2021-08-17T12:11:33.418881",
     "status": "completed"
    },
    "tags": []
   },
   "outputs": [],
   "source": [
    "#hide\n",
    "#delete problematic countries from table\n",
    "df_table = df_table[~df_table['Country/Region'].isin(['Cape Verde', 'Cruise Ship', 'Kosovo'])]"
   ]
  },
  {
   "cell_type": "code",
   "execution_count": 17,
   "id": "related-center",
   "metadata": {
    "execution": {
     "iopub.execute_input": "2021-08-17T12:11:33.558774Z",
     "iopub.status.busy": "2021-08-17T12:11:33.558110Z",
     "iopub.status.idle": "2021-08-17T12:11:33.578403Z",
     "shell.execute_reply": "2021-08-17T12:11:33.576981Z"
    },
    "papermill": {
     "duration": 0.073031,
     "end_time": "2021-08-17T12:11:33.579606",
     "exception": false,
     "start_time": "2021-08-17T12:11:33.506575",
     "status": "completed"
    },
    "tags": []
   },
   "outputs": [],
   "source": [
    "#hide\n",
    "metrics = [df_table.columns[index] for index in [1,2,5,6]]\n",
    "# s_china = df_table[df_table['Country/Region'].eq('China')][metrics].sum().add_prefix('China ')\n",
    "s_us = df_table[df_table['Country/Region'].eq('US')][metrics].sum().add_prefix('US ')\n",
    "s_eu = df_table[df_table['Continent'].eq('Europe')][metrics].sum().add_prefix('EU ')\n",
    "s_ind = df_table[df_table['Country/Region'].eq('India')][metrics].sum().add_prefix('India ')\n",
    "summary = {'updated': pd.to_datetime(dt_today), 'since': pd.to_datetime(dt_yday)}\n",
    "summary = {'updated': pd.to_datetime(dt_today), 'since': pd.to_datetime(dt_yday)}\n",
    "summary = {**summary, **df_table[metrics].sum(), **s_ind, **s_us, **s_eu}"
   ]
  },
  {
   "cell_type": "code",
   "execution_count": 18,
   "id": "engaging-syndrome",
   "metadata": {
    "execution": {
     "iopub.execute_input": "2021-08-17T12:11:33.670525Z",
     "iopub.status.busy": "2021-08-17T12:11:33.669868Z",
     "iopub.status.idle": "2021-08-17T12:11:33.684043Z",
     "shell.execute_reply": "2021-08-17T12:11:33.683486Z"
    },
    "papermill": {
     "duration": 0.057965,
     "end_time": "2021-08-17T12:11:33.684188",
     "exception": false,
     "start_time": "2021-08-17T12:11:33.626223",
     "status": "completed"
    },
    "tags": []
   },
   "outputs": [],
   "source": [
    "#hide\n",
    "dft_ct_new_cases = dft_cases.groupby(COL_REGION)[dt_cols].sum().diff(axis=1).fillna(0).astype(int)"
   ]
  },
  {
   "cell_type": "code",
   "execution_count": 19,
   "id": "neutral-assignment",
   "metadata": {
    "execution": {
     "iopub.execute_input": "2021-08-17T12:11:33.768362Z",
     "iopub.status.busy": "2021-08-17T12:11:33.767693Z",
     "iopub.status.idle": "2021-08-17T12:11:33.770051Z",
     "shell.execute_reply": "2021-08-17T12:11:33.769411Z"
    },
    "papermill": {
     "duration": 0.047529,
     "end_time": "2021-08-17T12:11:33.770183",
     "exception": false,
     "start_time": "2021-08-17T12:11:33.722654",
     "status": "completed"
    },
    "tags": []
   },
   "outputs": [],
   "source": [
    "#hide\n",
    "everydaycases = dft_ct_new_cases.cumsum(axis=1)"
   ]
  },
  {
   "cell_type": "code",
   "execution_count": 20,
   "id": "parliamentary-calgary",
   "metadata": {
    "execution": {
     "iopub.execute_input": "2021-08-17T12:11:33.852281Z",
     "iopub.status.busy": "2021-08-17T12:11:33.851623Z",
     "iopub.status.idle": "2021-08-17T12:11:34.491097Z",
     "shell.execute_reply": "2021-08-17T12:11:34.490523Z"
    },
    "papermill": {
     "duration": 0.682155,
     "end_time": "2021-08-17T12:11:34.491243",
     "exception": false,
     "start_time": "2021-08-17T12:11:33.809088",
     "status": "completed"
    },
    "tags": []
   },
   "outputs": [],
   "source": [
    "#hide\n",
    "import pandas as pd\n",
    "import matplotlib.pyplot as plt\n",
    "import matplotlib.ticker as ticker\n",
    "import matplotlib.animation as animation\n",
    "from IPython.display import HTML"
   ]
  },
  {
   "cell_type": "code",
   "execution_count": 21,
   "id": "lasting-extraction",
   "metadata": {
    "execution": {
     "iopub.execute_input": "2021-08-17T12:11:34.576017Z",
     "iopub.status.busy": "2021-08-17T12:11:34.575342Z",
     "iopub.status.idle": "2021-08-17T12:11:34.581389Z",
     "shell.execute_reply": "2021-08-17T12:11:34.580836Z"
    },
    "papermill": {
     "duration": 0.051338,
     "end_time": "2021-08-17T12:11:34.581536",
     "exception": false,
     "start_time": "2021-08-17T12:11:34.530198",
     "status": "completed"
    },
    "tags": []
   },
   "outputs": [],
   "source": [
    "#hide\n",
    "t = everydaycases.stack()"
   ]
  },
  {
   "cell_type": "code",
   "execution_count": 22,
   "id": "premier-sleeve",
   "metadata": {
    "execution": {
     "iopub.execute_input": "2021-08-17T12:11:34.668547Z",
     "iopub.status.busy": "2021-08-17T12:11:34.667874Z",
     "iopub.status.idle": "2021-08-17T12:11:34.676442Z",
     "shell.execute_reply": "2021-08-17T12:11:34.677082Z"
    },
    "papermill": {
     "duration": 0.05352,
     "end_time": "2021-08-17T12:11:34.677247",
     "exception": false,
     "start_time": "2021-08-17T12:11:34.623727",
     "status": "completed"
    },
    "tags": []
   },
   "outputs": [],
   "source": [
    "#hide\n",
    "g = t.reset_index(['Country/Region'])"
   ]
  },
  {
   "cell_type": "code",
   "execution_count": 23,
   "id": "distributed-pittsburgh",
   "metadata": {
    "execution": {
     "iopub.execute_input": "2021-08-17T12:11:34.764620Z",
     "iopub.status.busy": "2021-08-17T12:11:34.763880Z",
     "iopub.status.idle": "2021-08-17T12:11:34.765467Z",
     "shell.execute_reply": "2021-08-17T12:11:34.766098Z"
    },
    "papermill": {
     "duration": 0.051201,
     "end_time": "2021-08-17T12:11:34.766263",
     "exception": false,
     "start_time": "2021-08-17T12:11:34.715062",
     "status": "completed"
    },
    "tags": []
   },
   "outputs": [],
   "source": [
    "#hide\n",
    "g.index.name = 'date'"
   ]
  },
  {
   "cell_type": "code",
   "execution_count": 24,
   "id": "naked-donor",
   "metadata": {
    "execution": {
     "iopub.execute_input": "2021-08-17T12:11:34.849348Z",
     "iopub.status.busy": "2021-08-17T12:11:34.848692Z",
     "iopub.status.idle": "2021-08-17T12:11:34.850463Z",
     "shell.execute_reply": "2021-08-17T12:11:34.851022Z"
    },
    "papermill": {
     "duration": 0.046016,
     "end_time": "2021-08-17T12:11:34.851177",
     "exception": false,
     "start_time": "2021-08-17T12:11:34.805161",
     "status": "completed"
    },
    "tags": []
   },
   "outputs": [],
   "source": [
    "# #hide\n",
    "# g = g.reset_index(['date'])"
   ]
  },
  {
   "cell_type": "code",
   "execution_count": 25,
   "id": "incomplete-mustang",
   "metadata": {
    "execution": {
     "iopub.execute_input": "2021-08-17T12:11:34.934795Z",
     "iopub.status.busy": "2021-08-17T12:11:34.934123Z",
     "iopub.status.idle": "2021-08-17T12:11:34.935896Z",
     "shell.execute_reply": "2021-08-17T12:11:34.936502Z"
    },
    "papermill": {
     "duration": 0.046341,
     "end_time": "2021-08-17T12:11:34.936686",
     "exception": false,
     "start_time": "2021-08-17T12:11:34.890345",
     "status": "completed"
    },
    "tags": []
   },
   "outputs": [],
   "source": [
    "#hide\n",
    "# g.head()"
   ]
  },
  {
   "cell_type": "code",
   "execution_count": 26,
   "id": "specific-kruger",
   "metadata": {
    "execution": {
     "iopub.execute_input": "2021-08-17T12:11:35.017705Z",
     "iopub.status.busy": "2021-08-17T12:11:35.017054Z",
     "iopub.status.idle": "2021-08-17T12:11:35.018937Z",
     "shell.execute_reply": "2021-08-17T12:11:35.019544Z"
    },
    "papermill": {
     "duration": 0.045008,
     "end_time": "2021-08-17T12:11:35.019694",
     "exception": false,
     "start_time": "2021-08-17T12:11:34.974686",
     "status": "completed"
    },
    "tags": []
   },
   "outputs": [],
   "source": [
    "#hide\n",
    "# g.columns = ['date','country','cases']"
   ]
  },
  {
   "cell_type": "code",
   "execution_count": 27,
   "id": "tender-conversion",
   "metadata": {
    "execution": {
     "iopub.execute_input": "2021-08-17T12:11:35.104855Z",
     "iopub.status.busy": "2021-08-17T12:11:35.104129Z",
     "iopub.status.idle": "2021-08-17T12:11:35.106060Z",
     "shell.execute_reply": "2021-08-17T12:11:35.107092Z"
    },
    "papermill": {
     "duration": 0.046428,
     "end_time": "2021-08-17T12:11:35.107250",
     "exception": false,
     "start_time": "2021-08-17T12:11:35.060822",
     "status": "completed"
    },
    "tags": []
   },
   "outputs": [],
   "source": [
    "#hide\n",
    "# g['continent'] = g.country"
   ]
  },
  {
   "cell_type": "code",
   "execution_count": 28,
   "id": "substantial-wilderness",
   "metadata": {
    "execution": {
     "iopub.execute_input": "2021-08-17T12:11:35.188999Z",
     "iopub.status.busy": "2021-08-17T12:11:35.188329Z",
     "iopub.status.idle": "2021-08-17T12:11:35.190266Z",
     "shell.execute_reply": "2021-08-17T12:11:35.190825Z"
    },
    "papermill": {
     "duration": 0.044689,
     "end_time": "2021-08-17T12:11:35.190974",
     "exception": false,
     "start_time": "2021-08-17T12:11:35.146285",
     "status": "completed"
    },
    "tags": []
   },
   "outputs": [],
   "source": [
    "#hide\n",
    "# cols = list(g.columns.values)"
   ]
  },
  {
   "cell_type": "code",
   "execution_count": 29,
   "id": "solved-farming",
   "metadata": {
    "execution": {
     "iopub.execute_input": "2021-08-17T12:11:35.273516Z",
     "iopub.status.busy": "2021-08-17T12:11:35.272867Z",
     "iopub.status.idle": "2021-08-17T12:11:35.274722Z",
     "shell.execute_reply": "2021-08-17T12:11:35.275282Z"
    },
    "papermill": {
     "duration": 0.045501,
     "end_time": "2021-08-17T12:11:35.275429",
     "exception": false,
     "start_time": "2021-08-17T12:11:35.229928",
     "status": "completed"
    },
    "tags": []
   },
   "outputs": [],
   "source": [
    "#hide\n",
    "# cols.insert(0, cols.pop())"
   ]
  },
  {
   "cell_type": "code",
   "execution_count": 30,
   "id": "executed-adoption",
   "metadata": {
    "execution": {
     "iopub.execute_input": "2021-08-17T12:11:35.358241Z",
     "iopub.status.busy": "2021-08-17T12:11:35.357568Z",
     "iopub.status.idle": "2021-08-17T12:11:35.359870Z",
     "shell.execute_reply": "2021-08-17T12:11:35.360440Z"
    },
    "papermill": {
     "duration": 0.047045,
     "end_time": "2021-08-17T12:11:35.360637",
     "exception": false,
     "start_time": "2021-08-17T12:11:35.313592",
     "status": "completed"
    },
    "tags": []
   },
   "outputs": [],
   "source": [
    "#hide\n",
    "# g = g[cols]"
   ]
  },
  {
   "cell_type": "code",
   "execution_count": 31,
   "id": "subject-dublin",
   "metadata": {
    "execution": {
     "iopub.execute_input": "2021-08-17T12:11:35.450492Z",
     "iopub.status.busy": "2021-08-17T12:11:35.449232Z",
     "iopub.status.idle": "2021-08-17T12:11:35.451119Z",
     "shell.execute_reply": "2021-08-17T12:11:35.449907Z"
    },
    "papermill": {
     "duration": 0.052316,
     "end_time": "2021-08-17T12:11:35.451260",
     "exception": false,
     "start_time": "2021-08-17T12:11:35.398944",
     "status": "completed"
    },
    "tags": []
   },
   "outputs": [],
   "source": [
    "#hide\n",
    "# g['continent'] = g['continent'].map(mapping['map.continent'])"
   ]
  },
  {
   "cell_type": "code",
   "execution_count": 32,
   "id": "freelance-scout",
   "metadata": {
    "execution": {
     "iopub.execute_input": "2021-08-17T12:11:35.539851Z",
     "iopub.status.busy": "2021-08-17T12:11:35.539125Z",
     "iopub.status.idle": "2021-08-17T12:11:35.542301Z",
     "shell.execute_reply": "2021-08-17T12:11:35.547769Z"
    },
    "papermill": {
     "duration": 0.05645,
     "end_time": "2021-08-17T12:11:35.548055",
     "exception": false,
     "start_time": "2021-08-17T12:11:35.491605",
     "status": "completed"
    },
    "tags": []
   },
   "outputs": [],
   "source": [
    "#hide\n",
    "# g.head()"
   ]
  },
  {
   "cell_type": "code",
   "execution_count": 33,
   "id": "limited-engine",
   "metadata": {
    "execution": {
     "iopub.execute_input": "2021-08-17T12:11:35.631746Z",
     "iopub.status.busy": "2021-08-17T12:11:35.631068Z",
     "iopub.status.idle": "2021-08-17T12:11:35.632675Z",
     "shell.execute_reply": "2021-08-17T12:11:35.633405Z"
    },
    "papermill": {
     "duration": 0.046341,
     "end_time": "2021-08-17T12:11:35.633574",
     "exception": false,
     "start_time": "2021-08-17T12:11:35.587233",
     "status": "completed"
    },
    "tags": []
   },
   "outputs": [],
   "source": [
    "# hide\n",
    "# g['date'] = g['date'].astype('datetime64[ns]')"
   ]
  },
  {
   "cell_type": "code",
   "execution_count": 34,
   "id": "sophisticated-supervisor",
   "metadata": {
    "execution": {
     "iopub.execute_input": "2021-08-17T12:11:35.720065Z",
     "iopub.status.busy": "2021-08-17T12:11:35.719197Z",
     "iopub.status.idle": "2021-08-17T12:11:35.720887Z",
     "shell.execute_reply": "2021-08-17T12:11:35.721546Z"
    },
    "papermill": {
     "duration": 0.04808,
     "end_time": "2021-08-17T12:11:35.721793",
     "exception": false,
     "start_time": "2021-08-17T12:11:35.673713",
     "status": "completed"
    },
    "tags": []
   },
   "outputs": [],
   "source": [
    "#hide\n",
    "# g['date'] = g.date.dt.dayofyear"
   ]
  },
  {
   "cell_type": "code",
   "execution_count": 35,
   "id": "inside-dubai",
   "metadata": {
    "execution": {
     "iopub.execute_input": "2021-08-17T12:11:35.808976Z",
     "iopub.status.busy": "2021-08-17T12:11:35.808291Z",
     "iopub.status.idle": "2021-08-17T12:11:35.810253Z",
     "shell.execute_reply": "2021-08-17T12:11:35.810785Z"
    },
    "papermill": {
     "duration": 0.045958,
     "end_time": "2021-08-17T12:11:35.810949",
     "exception": false,
     "start_time": "2021-08-17T12:11:35.764991",
     "status": "completed"
    },
    "tags": []
   },
   "outputs": [],
   "source": [
    "#hide\n",
    "# g = g.rename(columns= {'continent':'group','country':'name','cases':'value'})"
   ]
  },
  {
   "cell_type": "code",
   "execution_count": 36,
   "id": "fleet-motorcycle",
   "metadata": {
    "execution": {
     "iopub.execute_input": "2021-08-17T12:11:35.894196Z",
     "iopub.status.busy": "2021-08-17T12:11:35.893522Z",
     "iopub.status.idle": "2021-08-17T12:11:35.896086Z",
     "shell.execute_reply": "2021-08-17T12:11:35.896647Z"
    },
    "papermill": {
     "duration": 0.046546,
     "end_time": "2021-08-17T12:11:35.896811",
     "exception": false,
     "start_time": "2021-08-17T12:11:35.850265",
     "status": "completed"
    },
    "tags": []
   },
   "outputs": [],
   "source": [
    "#hide\n",
    "# cols = ['name','group','day','value']"
   ]
  },
  {
   "cell_type": "code",
   "execution_count": 37,
   "id": "continued-sleeping",
   "metadata": {
    "execution": {
     "iopub.execute_input": "2021-08-17T12:11:35.983493Z",
     "iopub.status.busy": "2021-08-17T12:11:35.982822Z",
     "iopub.status.idle": "2021-08-17T12:11:35.986125Z",
     "shell.execute_reply": "2021-08-17T12:11:35.986631Z"
    },
    "papermill": {
     "duration": 0.048702,
     "end_time": "2021-08-17T12:11:35.986798",
     "exception": false,
     "start_time": "2021-08-17T12:11:35.938096",
     "status": "completed"
    },
    "tags": []
   },
   "outputs": [],
   "source": [
    "#hide\n",
    "# g.rename(columns= {'date':'day'},inplace = True)"
   ]
  },
  {
   "cell_type": "code",
   "execution_count": 38,
   "id": "major-fight",
   "metadata": {
    "execution": {
     "iopub.execute_input": "2021-08-17T12:11:36.069746Z",
     "iopub.status.busy": "2021-08-17T12:11:36.069011Z",
     "iopub.status.idle": "2021-08-17T12:11:36.070765Z",
     "shell.execute_reply": "2021-08-17T12:11:36.071294Z"
    },
    "papermill": {
     "duration": 0.044956,
     "end_time": "2021-08-17T12:11:36.071451",
     "exception": false,
     "start_time": "2021-08-17T12:11:36.026495",
     "status": "completed"
    },
    "tags": []
   },
   "outputs": [],
   "source": [
    "#hide\n",
    "# g = g[cols]"
   ]
  },
  {
   "cell_type": "code",
   "execution_count": 39,
   "id": "structured-mobile",
   "metadata": {
    "execution": {
     "iopub.execute_input": "2021-08-17T12:11:36.167679Z",
     "iopub.status.busy": "2021-08-17T12:11:36.166673Z",
     "iopub.status.idle": "2021-08-17T12:11:36.168356Z",
     "shell.execute_reply": "2021-08-17T12:11:36.168988Z"
    },
    "papermill": {
     "duration": 0.044713,
     "end_time": "2021-08-17T12:11:36.169133",
     "exception": false,
     "start_time": "2021-08-17T12:11:36.124420",
     "status": "completed"
    },
    "tags": []
   },
   "outputs": [],
   "source": [
    "# #hide\n",
    "# g = g[g.group.notna()]"
   ]
  },
  {
   "cell_type": "code",
   "execution_count": 40,
   "id": "determined-closing",
   "metadata": {
    "execution": {
     "iopub.execute_input": "2021-08-17T12:11:36.251057Z",
     "iopub.status.busy": "2021-08-17T12:11:36.250400Z",
     "iopub.status.idle": "2021-08-17T12:11:36.252319Z",
     "shell.execute_reply": "2021-08-17T12:11:36.252834Z"
    },
    "papermill": {
     "duration": 0.044757,
     "end_time": "2021-08-17T12:11:36.252988",
     "exception": false,
     "start_time": "2021-08-17T12:11:36.208231",
     "status": "completed"
    },
    "tags": []
   },
   "outputs": [],
   "source": [
    "# #hide\n",
    "# colors = dict(zip(\n",
    "#     [\"Oceania\", \"Europe\", \"Asia\", \"South America\", \"Middle East\", \"North America\", \"Africa\"],\n",
    "#     [\"#adb0ff\", \"#ffb3ff\", \"#90d595\", \"#e48381\", \"#aafbff\", \"#f7bb5f\", \"#eafb50\"]\n",
    "# ))\n",
    "# group_lk = g.set_index('name')['group'].to_dict()"
   ]
  },
  {
   "cell_type": "code",
   "execution_count": null,
   "id": "gross-drinking",
   "metadata": {
    "papermill": {
     "duration": 0.038534,
     "end_time": "2021-08-17T12:11:36.331595",
     "exception": false,
     "start_time": "2021-08-17T12:11:36.293061",
     "status": "completed"
    },
    "tags": []
   },
   "outputs": [],
   "source": []
  },
  {
   "cell_type": "code",
   "execution_count": 41,
   "id": "subject-macintosh",
   "metadata": {
    "execution": {
     "iopub.execute_input": "2021-08-17T12:11:36.413913Z",
     "iopub.status.busy": "2021-08-17T12:11:36.413243Z",
     "iopub.status.idle": "2021-08-17T12:11:36.415277Z",
     "shell.execute_reply": "2021-08-17T12:11:36.415832Z"
    },
    "papermill": {
     "duration": 0.045748,
     "end_time": "2021-08-17T12:11:36.415992",
     "exception": false,
     "start_time": "2021-08-17T12:11:36.370244",
     "status": "completed"
    },
    "tags": []
   },
   "outputs": [],
   "source": [
    "# #hide\n",
    "# fig, ax = plt.subplots(figsize=(15, 8))\n",
    "\n",
    "# def draw_barchart(current_day):\n",
    "#     dff = g[g['day'].eq(current_day)].sort_values(by='value', ascending=True).tail(10)\n",
    "#     ax.clear()\n",
    "#     ax.barh(dff['name'], dff['value'], color=[colors[group_lk[x]] for x in dff['name']])\n",
    "#     dx = dff['value'].max() / 200\n",
    "    \n",
    "#     for i, (value, name) in enumerate(zip(dff['value'], dff['name'])):\n",
    "#         ax.text(value-dx, i,     name,           size=14, weight=600, ha='right', va='bottom')\n",
    "#         ax.text(value-dx, i-.25, group_lk[name], size=10, color='#444444', ha='right', va='baseline')\n",
    "#         ax.text(value+dx, i,     f'{value:,.0f}',  size=14, ha='left',  va='center')\n",
    "#     ax.text(1, 0.4, current_day, transform=ax.transAxes, color='#777777', size=46, ha='right', weight=800)\n",
    "#     ax.text(0, 1.06, 'Population (thousands)', transform=ax.transAxes, size=12, color='#777777')\n",
    "#     ax.xaxis.set_major_formatter(ticker.StrMethodFormatter('{x:,.0f}'))\n",
    "#     ax.xaxis.set_ticks_position('top')\n",
    "#     ax.tick_params(axis='x', colors='#777777', labelsize=12)\n",
    "#     ax.set_yticks([])\n",
    "#     ax.margins(0, 0.01)\n",
    "#     ax.grid(which='major', axis='x', linestyle='-')\n",
    "#     ax.set_axisbelow(True)\n",
    "    \n",
    "#     ax.text(0, 1.15, 'Coronavirus',\n",
    "#             transform=ax.transAxes, size=24, weight=600, ha='left', va='top')\n",
    "# #     ax.text(1, 0, 'by @pratapvardhan; credit @jburnmurdoch', transform=ax.transAxes, color='#777777', ha='right',\n",
    "# #             bbox=dict(facecolor='white', alpha=0.8, edgecolor='white'))\n",
    "#     plt.box(False)"
   ]
  },
  {
   "cell_type": "code",
   "execution_count": 42,
   "id": "sexual-wages",
   "metadata": {
    "execution": {
     "iopub.execute_input": "2021-08-17T12:11:36.498771Z",
     "iopub.status.busy": "2021-08-17T12:11:36.498087Z",
     "iopub.status.idle": "2021-08-17T12:11:36.500121Z",
     "shell.execute_reply": "2021-08-17T12:11:36.500668Z"
    },
    "papermill": {
     "duration": 0.046505,
     "end_time": "2021-08-17T12:11:36.500834",
     "exception": false,
     "start_time": "2021-08-17T12:11:36.454329",
     "status": "completed"
    },
    "tags": []
   },
   "outputs": [],
   "source": [
    "# #hide_input\n",
    "# fig, ax = plt.subplots(figsize=(15, 8))\n",
    "# animator = animation.FuncAnimation(fig, draw_barchart, frames=range(g.day.values.min(), g.day.values.max()))\n",
    "# HTML(animator.to_jshtml())\n",
    "# # or use animator.to_html5_video() or animator.save() "
   ]
  },
  {
   "cell_type": "code",
   "execution_count": null,
   "id": "australian-container",
   "metadata": {
    "papermill": {
     "duration": 0.038827,
     "end_time": "2021-08-17T12:11:36.578333",
     "exception": false,
     "start_time": "2021-08-17T12:11:36.539506",
     "status": "completed"
    },
    "tags": []
   },
   "outputs": [],
   "source": []
  },
  {
   "cell_type": "code",
   "execution_count": null,
   "id": "mediterranean-pontiac",
   "metadata": {
    "papermill": {
     "duration": 0.038959,
     "end_time": "2021-08-17T12:11:36.656453",
     "exception": false,
     "start_time": "2021-08-17T12:11:36.617494",
     "status": "completed"
    },
    "tags": []
   },
   "outputs": [],
   "source": []
  },
  {
   "cell_type": "code",
   "execution_count": null,
   "id": "aging-legislature",
   "metadata": {
    "papermill": {
     "duration": 0.039299,
     "end_time": "2021-08-17T12:11:36.734539",
     "exception": false,
     "start_time": "2021-08-17T12:11:36.695240",
     "status": "completed"
    },
    "tags": []
   },
   "outputs": [],
   "source": []
  }
 ],
 "metadata": {
  "kernelspec": {
   "display_name": "Python 3",
   "language": "python",
   "name": "python3"
  },
  "language_info": {
   "codemirror_mode": {
    "name": "ipython",
    "version": 3
   },
   "file_extension": ".py",
   "mimetype": "text/x-python",
   "name": "python",
   "nbconvert_exporter": "python",
   "pygments_lexer": "ipython3",
   "version": "3.6.14"
  },
  "papermill": {
   "duration": 7.35879,
   "end_time": "2021-08-17T12:11:37.181465",
   "environment_variables": {},
   "exception": null,
   "input_path": "2020-03-21-covid19exp.ipynb",
   "output_path": "2020-03-21-covid19exp.ipynb",
   "parameters": {},
   "start_time": "2021-08-17T12:11:29.822675",
   "version": "2.0.0"
  }
 },
 "nbformat": 4,
 "nbformat_minor": 5
}