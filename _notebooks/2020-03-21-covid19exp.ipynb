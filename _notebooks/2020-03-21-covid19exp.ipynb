{
 "cells": [
  {
   "cell_type": "markdown",
   "id": "muslim-click",
   "metadata": {
    "papermill": {
     "duration": 0.046363,
     "end_time": "2022-03-28T12:15:02.011136",
     "exception": false,
     "start_time": "2022-03-28T12:15:01.964773",
     "status": "completed"
    },
    "tags": []
   },
   "source": [
    "# COVID-19 Case Race\n",
    "> A race chart to see rising cases around the world\n",
    "\n",
    "- author: Hargun Oberoi\n",
    "- image: images/covid-overview.png\n",
    "- hide: false\n",
    "- badges: false"
   ]
  },
  {
   "cell_type": "code",
   "execution_count": 1,
   "id": "proof-material",
   "metadata": {
    "execution": {
     "iopub.execute_input": "2022-03-28T12:15:02.106859Z",
     "iopub.status.busy": "2022-03-28T12:15:02.106083Z",
     "iopub.status.idle": "2022-03-28T12:15:02.522284Z",
     "shell.execute_reply": "2022-03-28T12:15:02.523356Z"
    },
    "papermill": {
     "duration": 0.469141,
     "end_time": "2022-03-28T12:15:02.523629",
     "exception": false,
     "start_time": "2022-03-28T12:15:02.054488",
     "status": "completed"
    },
    "tags": []
   },
   "outputs": [],
   "source": [
    "#hide\n",
    "import numpy as np\n",
    "import pandas as pd\n",
    "from jinja2 import Template\n",
    "from IPython.display import HTML"
   ]
  },
  {
   "cell_type": "code",
   "execution_count": 2,
   "id": "developed-terminology",
   "metadata": {
    "execution": {
     "iopub.execute_input": "2022-03-28T12:15:02.614168Z",
     "iopub.status.busy": "2022-03-28T12:15:02.613479Z",
     "iopub.status.idle": "2022-03-28T12:15:02.616372Z",
     "shell.execute_reply": "2022-03-28T12:15:02.615757Z"
    },
    "papermill": {
     "duration": 0.047022,
     "end_time": "2022-03-28T12:15:02.616509",
     "exception": false,
     "start_time": "2022-03-28T12:15:02.569487",
     "status": "completed"
    },
    "tags": []
   },
   "outputs": [],
   "source": [
    "#hide\n",
    "\n",
    "# FETCH\n",
    "base_url = 'https://raw.githubusercontent.com/pratapvardhan/notebooks/master/covid19/'\n",
    "paths = {\n",
    "    'mapping': base_url + 'mapping_countries.csv',\n",
    "    'overview': base_url + 'overview.tpl'\n",
    "}"
   ]
  },
  {
   "cell_type": "code",
   "execution_count": 3,
   "id": "dynamic-saver",
   "metadata": {
    "execution": {
     "iopub.execute_input": "2022-03-28T12:15:02.709496Z",
     "iopub.status.busy": "2022-03-28T12:15:02.708820Z",
     "iopub.status.idle": "2022-03-28T12:15:02.712118Z",
     "shell.execute_reply": "2022-03-28T12:15:02.712675Z"
    },
    "papermill": {
     "duration": 0.056038,
     "end_time": "2022-03-28T12:15:02.712900",
     "exception": false,
     "start_time": "2022-03-28T12:15:02.656862",
     "status": "completed"
    },
    "tags": []
   },
   "outputs": [
    {
     "data": {
      "text/plain": [
       "'https://raw.githubusercontent.com/pratapvardhan/notebooks/master/covid19/mapping_countries.csv'"
      ]
     },
     "execution_count": 3,
     "metadata": {},
     "output_type": "execute_result"
    }
   ],
   "source": [
    "#hide\n",
    "paths['mapping']"
   ]
  },
  {
   "cell_type": "code",
   "execution_count": 4,
   "id": "urban-software",
   "metadata": {
    "execution": {
     "iopub.execute_input": "2022-03-28T12:15:02.805067Z",
     "iopub.status.busy": "2022-03-28T12:15:02.804195Z",
     "iopub.status.idle": "2022-03-28T12:15:02.807149Z",
     "shell.execute_reply": "2022-03-28T12:15:02.806579Z"
    },
    "papermill": {
     "duration": 0.04748,
     "end_time": "2022-03-28T12:15:02.807310",
     "exception": false,
     "start_time": "2022-03-28T12:15:02.759830",
     "status": "completed"
    },
    "tags": []
   },
   "outputs": [],
   "source": [
    "#hide\n",
    "def get_mappings(url):\n",
    "    df = pd.read_csv(url)\n",
    "    return {\n",
    "        'df': df,\n",
    "        'replace.country': dict(df.dropna(subset=['Name']).set_index('Country')['Name']),\n",
    "        'map.continent': dict(df.set_index('Name')['Continent'])\n",
    "    }"
   ]
  },
  {
   "cell_type": "code",
   "execution_count": 5,
   "id": "intimate-machinery",
   "metadata": {
    "execution": {
     "iopub.execute_input": "2022-03-28T12:15:02.890790Z",
     "iopub.status.busy": "2022-03-28T12:15:02.890111Z",
     "iopub.status.idle": "2022-03-28T12:15:02.919708Z",
     "shell.execute_reply": "2022-03-28T12:15:02.919080Z"
    },
    "papermill": {
     "duration": 0.074011,
     "end_time": "2022-03-28T12:15:02.919860",
     "exception": false,
     "start_time": "2022-03-28T12:15:02.845849",
     "status": "completed"
    },
    "tags": []
   },
   "outputs": [],
   "source": [
    "#hide\n",
    "mapping = get_mappings(paths['mapping'])"
   ]
  },
  {
   "cell_type": "code",
   "execution_count": 6,
   "id": "certified-tactics",
   "metadata": {
    "execution": {
     "iopub.execute_input": "2022-03-28T12:15:03.004601Z",
     "iopub.status.busy": "2022-03-28T12:15:03.003908Z",
     "iopub.status.idle": "2022-03-28T12:15:03.008384Z",
     "shell.execute_reply": "2022-03-28T12:15:03.007813Z"
    },
    "papermill": {
     "duration": 0.048948,
     "end_time": "2022-03-28T12:15:03.008547",
     "exception": false,
     "start_time": "2022-03-28T12:15:02.959599",
     "status": "completed"
    },
    "tags": []
   },
   "outputs": [],
   "source": [
    "#hide\n",
    "def get_template(path):\n",
    "    from urllib.parse import urlparse\n",
    "    if bool(urlparse(path).netloc):\n",
    "        from urllib.request import urlopen\n",
    "        return urlopen(path).read().decode('utf8')\n",
    "    return open(path).read()"
   ]
  },
  {
   "cell_type": "code",
   "execution_count": 7,
   "id": "realistic-blast",
   "metadata": {
    "execution": {
     "iopub.execute_input": "2022-03-28T12:15:03.102463Z",
     "iopub.status.busy": "2022-03-28T12:15:03.101795Z",
     "iopub.status.idle": "2022-03-28T12:15:03.103856Z",
     "shell.execute_reply": "2022-03-28T12:15:03.104366Z"
    },
    "papermill": {
     "duration": 0.047403,
     "end_time": "2022-03-28T12:15:03.104523",
     "exception": false,
     "start_time": "2022-03-28T12:15:03.057120",
     "status": "completed"
    },
    "tags": []
   },
   "outputs": [],
   "source": [
    "#hide\n",
    "def get_frame(name):\n",
    "    url = (\n",
    "        'https://raw.githubusercontent.com/CSSEGISandData/COVID-19/master/csse_covid_19_data/'\n",
    "        f'csse_covid_19_time_series/time_series_covid19_{name}_global.csv')\n",
    "    df = pd.read_csv(url)\n",
    "    # rename countries\n",
    "    df['Country/Region'] = df['Country/Region'].replace(mapping['replace.country'])\n",
    "    return df"
   ]
  },
  {
   "cell_type": "code",
   "execution_count": 8,
   "id": "affiliated-characterization",
   "metadata": {
    "execution": {
     "iopub.execute_input": "2022-03-28T12:15:03.190812Z",
     "iopub.status.busy": "2022-03-28T12:15:03.190096Z",
     "iopub.status.idle": "2022-03-28T12:15:03.192315Z",
     "shell.execute_reply": "2022-03-28T12:15:03.192857Z"
    },
    "papermill": {
     "duration": 0.049878,
     "end_time": "2022-03-28T12:15:03.193020",
     "exception": false,
     "start_time": "2022-03-28T12:15:03.143142",
     "status": "completed"
    },
    "tags": []
   },
   "outputs": [],
   "source": [
    "#hide\n",
    "def get_dates(df):\n",
    "    dt_cols = df.columns[~df.columns.isin(['Province/State', 'Country/Region', 'Lat', 'Long'])]\n",
    "    LAST_DATE_I = -1\n",
    "    # sometimes last column may be empty, then go backwards\n",
    "    for i in range(-1, -len(dt_cols), -1):\n",
    "        if not df[dt_cols[i]].fillna(0).eq(0).all():\n",
    "            LAST_DATE_I = i\n",
    "            break\n",
    "    return LAST_DATE_I, dt_cols"
   ]
  },
  {
   "cell_type": "code",
   "execution_count": 9,
   "id": "recent-optimization",
   "metadata": {
    "execution": {
     "iopub.execute_input": "2022-03-28T12:15:03.278688Z",
     "iopub.status.busy": "2022-03-28T12:15:03.277937Z",
     "iopub.status.idle": "2022-03-28T12:15:03.831519Z",
     "shell.execute_reply": "2022-03-28T12:15:03.832082Z"
    },
    "papermill": {
     "duration": 0.59898,
     "end_time": "2022-03-28T12:15:03.832257",
     "exception": false,
     "start_time": "2022-03-28T12:15:03.233277",
     "status": "completed"
    },
    "tags": []
   },
   "outputs": [],
   "source": [
    "#hide\n",
    "COL_REGION = 'Country/Region'\n",
    "# Confirmed, Recovered, Deaths\n",
    "df = get_frame('confirmed')\n",
    "# dft_: timeseries, dfc_: today country agg\n",
    "dft_cases = df\n",
    "dft_deaths = get_frame('deaths')\n",
    "dft_recovered = get_frame('recovered')\n",
    "LAST_DATE_I, dt_cols = get_dates(df)"
   ]
  },
  {
   "cell_type": "code",
   "execution_count": 10,
   "id": "absolute-copper",
   "metadata": {
    "execution": {
     "iopub.execute_input": "2022-03-28T12:15:03.917704Z",
     "iopub.status.busy": "2022-03-28T12:15:03.916869Z",
     "iopub.status.idle": "2022-03-28T12:15:03.921683Z",
     "shell.execute_reply": "2022-03-28T12:15:03.921042Z"
    },
    "papermill": {
     "duration": 0.050271,
     "end_time": "2022-03-28T12:15:03.921838",
     "exception": false,
     "start_time": "2022-03-28T12:15:03.871567",
     "status": "completed"
    },
    "tags": []
   },
   "outputs": [],
   "source": [
    "#hide\n",
    "LAST_DATE_I, dt_cols = get_dates(df)\n",
    "dt_today =dt_cols[LAST_DATE_I]\n",
    "# dt_5day = dt_cols[LAST_DATE_I - 5]\n",
    "dt_yday = dt_cols[LAST_DATE_I - 1]"
   ]
  },
  {
   "cell_type": "code",
   "execution_count": 11,
   "id": "restricted-sheriff",
   "metadata": {
    "execution": {
     "iopub.execute_input": "2022-03-28T12:15:04.018428Z",
     "iopub.status.busy": "2022-03-28T12:15:04.017736Z",
     "iopub.status.idle": "2022-03-28T12:15:04.025110Z",
     "shell.execute_reply": "2022-03-28T12:15:04.024427Z"
    },
    "papermill": {
     "duration": 0.058596,
     "end_time": "2022-03-28T12:15:04.025259",
     "exception": false,
     "start_time": "2022-03-28T12:15:03.966663",
     "status": "completed"
    },
    "tags": []
   },
   "outputs": [],
   "source": [
    "#hide\n",
    "dfc_cases = dft_cases.groupby(COL_REGION)[dt_today].sum()\n",
    "dfc_deaths = dft_deaths.groupby(COL_REGION)[dt_today].sum()\n",
    "# dfp_cases = dft_cases.groupby(COL_REGION)[dt_5day].sum()\n",
    "# dfp_deaths = dft_deaths.groupby(COL_REGION)[dt_5day].sum()\n",
    "dfp_cases = dft_cases.groupby(COL_REGION)[dt_yday].sum()\n",
    "dfp_deaths = dft_deaths.groupby(COL_REGION)[dt_yday].sum()"
   ]
  },
  {
   "cell_type": "code",
   "execution_count": 12,
   "id": "deluxe-hepatitis",
   "metadata": {
    "execution": {
     "iopub.execute_input": "2022-03-28T12:15:04.111070Z",
     "iopub.status.busy": "2022-03-28T12:15:04.110412Z",
     "iopub.status.idle": "2022-03-28T12:15:04.115280Z",
     "shell.execute_reply": "2022-03-28T12:15:04.116285Z"
    },
    "papermill": {
     "duration": 0.05115,
     "end_time": "2022-03-28T12:15:04.116453",
     "exception": false,
     "start_time": "2022-03-28T12:15:04.065303",
     "status": "completed"
    },
    "tags": []
   },
   "outputs": [],
   "source": [
    "#hide\n",
    "df_table = (pd.DataFrame(dict(Cases = dfc_cases, Deaths = dfc_deaths, PCases = dfp_cases, PDeaths = dfp_deaths))\n",
    "            .sort_values(by = ['Cases','Deaths'], ascending = [False, False])\n",
    "            .reset_index())"
   ]
  },
  {
   "cell_type": "code",
   "execution_count": 13,
   "id": "educational-chancellor",
   "metadata": {
    "execution": {
     "iopub.execute_input": "2022-03-28T12:15:04.213379Z",
     "iopub.status.busy": "2022-03-28T12:15:04.212688Z",
     "iopub.status.idle": "2022-03-28T12:15:04.226684Z",
     "shell.execute_reply": "2022-03-28T12:15:04.227454Z"
    },
    "papermill": {
     "duration": 0.070471,
     "end_time": "2022-03-28T12:15:04.227619",
     "exception": false,
     "start_time": "2022-03-28T12:15:04.157148",
     "status": "completed"
    },
    "tags": []
   },
   "outputs": [
    {
     "data": {
      "text/html": [
       "<div>\n",
       "<style scoped>\n",
       "    .dataframe tbody tr th:only-of-type {\n",
       "        vertical-align: middle;\n",
       "    }\n",
       "\n",
       "    .dataframe tbody tr th {\n",
       "        vertical-align: top;\n",
       "    }\n",
       "\n",
       "    .dataframe thead th {\n",
       "        text-align: right;\n",
       "    }\n",
       "</style>\n",
       "<table border=\"1\" class=\"dataframe\">\n",
       "  <thead>\n",
       "    <tr style=\"text-align: right;\">\n",
       "      <th></th>\n",
       "      <th>Country/Region</th>\n",
       "      <th>Cases</th>\n",
       "      <th>Deaths</th>\n",
       "      <th>PCases</th>\n",
       "      <th>PDeaths</th>\n",
       "      <th>Cases (+)</th>\n",
       "      <th>Deaths (+)</th>\n",
       "      <th>Fatality Rate</th>\n",
       "      <th>Continent</th>\n",
       "    </tr>\n",
       "  </thead>\n",
       "  <tbody>\n",
       "    <tr>\n",
       "      <th>0</th>\n",
       "      <td>US</td>\n",
       "      <td>79954418</td>\n",
       "      <td>976702</td>\n",
       "      <td>79946097</td>\n",
       "      <td>976652</td>\n",
       "      <td>8321</td>\n",
       "      <td>50</td>\n",
       "      <td>1.22</td>\n",
       "      <td>North America</td>\n",
       "    </tr>\n",
       "    <tr>\n",
       "      <th>1</th>\n",
       "      <td>India</td>\n",
       "      <td>43020723</td>\n",
       "      <td>521035</td>\n",
       "      <td>43019453</td>\n",
       "      <td>521004</td>\n",
       "      <td>1270</td>\n",
       "      <td>31</td>\n",
       "      <td>1.21</td>\n",
       "      <td>Asia</td>\n",
       "    </tr>\n",
       "    <tr>\n",
       "      <th>2</th>\n",
       "      <td>Brazil</td>\n",
       "      <td>29849740</td>\n",
       "      <td>659159</td>\n",
       "      <td>29839103</td>\n",
       "      <td>659046</td>\n",
       "      <td>10637</td>\n",
       "      <td>113</td>\n",
       "      <td>2.21</td>\n",
       "      <td>South America</td>\n",
       "    </tr>\n",
       "    <tr>\n",
       "      <th>3</th>\n",
       "      <td>France</td>\n",
       "      <td>25216913</td>\n",
       "      <td>142705</td>\n",
       "      <td>25106739</td>\n",
       "      <td>142664</td>\n",
       "      <td>110174</td>\n",
       "      <td>41</td>\n",
       "      <td>0.57</td>\n",
       "      <td>Europe</td>\n",
       "    </tr>\n",
       "    <tr>\n",
       "      <th>4</th>\n",
       "      <td>United Kingdom</td>\n",
       "      <td>20848913</td>\n",
       "      <td>165046</td>\n",
       "      <td>20848913</td>\n",
       "      <td>165046</td>\n",
       "      <td>0</td>\n",
       "      <td>0</td>\n",
       "      <td>0.79</td>\n",
       "      <td>Europe</td>\n",
       "    </tr>\n",
       "  </tbody>\n",
       "</table>\n",
       "</div>"
      ],
      "text/plain": [
       "   Country/Region     Cases  Deaths    PCases  PDeaths  Cases (+)  Deaths (+)  \\\n",
       "0              US  79954418  976702  79946097   976652       8321          50   \n",
       "1           India  43020723  521035  43019453   521004       1270          31   \n",
       "2          Brazil  29849740  659159  29839103   659046      10637         113   \n",
       "3          France  25216913  142705  25106739   142664     110174          41   \n",
       "4  United Kingdom  20848913  165046  20848913   165046          0           0   \n",
       "\n",
       "   Fatality Rate      Continent  \n",
       "0           1.22  North America  \n",
       "1           1.21           Asia  \n",
       "2           2.21  South America  \n",
       "3           0.57         Europe  \n",
       "4           0.79         Europe  "
      ]
     },
     "execution_count": 13,
     "metadata": {},
     "output_type": "execute_result"
    }
   ],
   "source": [
    "#hide\n",
    "for c in 'Cases, Deaths'.split(', '):\n",
    "    df_table[f'{c} (+)'] = (df_table[c] - df_table[f'P{c}']).clip(0)\n",
    "    #Clip ça veut dire, les chiffres negatif sont interdit\n",
    "df_table['Fatality Rate'] = (100* df_table['Deaths']/ df_table['Cases']).round(2)\n",
    "df_table['Continent'] = df_table['Country/Region'].map(mapping['map.continent'])\n",
    "df_table.head(5)"
   ]
  },
  {
   "cell_type": "code",
   "execution_count": 14,
   "id": "aboriginal-bulgaria",
   "metadata": {
    "execution": {
     "iopub.execute_input": "2022-03-28T12:15:04.317411Z",
     "iopub.status.busy": "2022-03-28T12:15:04.316738Z",
     "iopub.status.idle": "2022-03-28T12:15:04.322956Z",
     "shell.execute_reply": "2022-03-28T12:15:04.323644Z"
    },
    "papermill": {
     "duration": 0.052979,
     "end_time": "2022-03-28T12:15:04.323808",
     "exception": false,
     "start_time": "2022-03-28T12:15:04.270829",
     "status": "completed"
    },
    "tags": []
   },
   "outputs": [],
   "source": [
    "#hide\n",
    "#delete problematic countries from table\n",
    "df_table = df_table[~df_table['Country/Region'].isin(['Cape Verde', 'Cruise Ship', 'Kosovo'])]"
   ]
  },
  {
   "cell_type": "code",
   "execution_count": 15,
   "id": "fantastic-effect",
   "metadata": {
    "execution": {
     "iopub.execute_input": "2022-03-28T12:15:04.415141Z",
     "iopub.status.busy": "2022-03-28T12:15:04.414475Z",
     "iopub.status.idle": "2022-03-28T12:15:04.437761Z",
     "shell.execute_reply": "2022-03-28T12:15:04.437050Z"
    },
    "papermill": {
     "duration": 0.072095,
     "end_time": "2022-03-28T12:15:04.437935",
     "exception": false,
     "start_time": "2022-03-28T12:15:04.365840",
     "status": "completed"
    },
    "tags": []
   },
   "outputs": [
    {
     "data": {
      "text/html": [
       "<div>\n",
       "<style scoped>\n",
       "    .dataframe tbody tr th:only-of-type {\n",
       "        vertical-align: middle;\n",
       "    }\n",
       "\n",
       "    .dataframe tbody tr th {\n",
       "        vertical-align: top;\n",
       "    }\n",
       "\n",
       "    .dataframe thead th {\n",
       "        text-align: right;\n",
       "    }\n",
       "</style>\n",
       "<table border=\"1\" class=\"dataframe\">\n",
       "  <thead>\n",
       "    <tr style=\"text-align: right;\">\n",
       "      <th></th>\n",
       "      <th>Country/Region</th>\n",
       "      <th>Cases</th>\n",
       "      <th>Deaths</th>\n",
       "      <th>PCases</th>\n",
       "      <th>PDeaths</th>\n",
       "      <th>Cases (+)</th>\n",
       "      <th>Deaths (+)</th>\n",
       "      <th>Fatality Rate</th>\n",
       "      <th>Continent</th>\n",
       "    </tr>\n",
       "  </thead>\n",
       "  <tbody>\n",
       "    <tr>\n",
       "      <th>0</th>\n",
       "      <td>US</td>\n",
       "      <td>79954418</td>\n",
       "      <td>976702</td>\n",
       "      <td>79946097</td>\n",
       "      <td>976652</td>\n",
       "      <td>8321</td>\n",
       "      <td>50</td>\n",
       "      <td>1.2</td>\n",
       "      <td>North America</td>\n",
       "    </tr>\n",
       "    <tr>\n",
       "      <th>1</th>\n",
       "      <td>India</td>\n",
       "      <td>43020723</td>\n",
       "      <td>521035</td>\n",
       "      <td>43019453</td>\n",
       "      <td>521004</td>\n",
       "      <td>1270</td>\n",
       "      <td>31</td>\n",
       "      <td>1.2</td>\n",
       "      <td>Asia</td>\n",
       "    </tr>\n",
       "    <tr>\n",
       "      <th>2</th>\n",
       "      <td>Brazil</td>\n",
       "      <td>29849740</td>\n",
       "      <td>659159</td>\n",
       "      <td>29839103</td>\n",
       "      <td>659046</td>\n",
       "      <td>10637</td>\n",
       "      <td>113</td>\n",
       "      <td>2.2</td>\n",
       "      <td>South America</td>\n",
       "    </tr>\n",
       "    <tr>\n",
       "      <th>3</th>\n",
       "      <td>France</td>\n",
       "      <td>25216913</td>\n",
       "      <td>142705</td>\n",
       "      <td>25106739</td>\n",
       "      <td>142664</td>\n",
       "      <td>110174</td>\n",
       "      <td>41</td>\n",
       "      <td>0.6</td>\n",
       "      <td>Europe</td>\n",
       "    </tr>\n",
       "    <tr>\n",
       "      <th>4</th>\n",
       "      <td>United Kingdom</td>\n",
       "      <td>20848913</td>\n",
       "      <td>165046</td>\n",
       "      <td>20848913</td>\n",
       "      <td>165046</td>\n",
       "      <td>0</td>\n",
       "      <td>0</td>\n",
       "      <td>0.8</td>\n",
       "      <td>Europe</td>\n",
       "    </tr>\n",
       "  </tbody>\n",
       "</table>\n",
       "</div>"
      ],
      "text/plain": [
       "   Country/Region     Cases  Deaths    PCases  PDeaths  Cases (+)  Deaths (+)  \\\n",
       "0              US  79954418  976702  79946097   976652       8321          50   \n",
       "1           India  43020723  521035  43019453   521004       1270          31   \n",
       "2          Brazil  29849740  659159  29839103   659046      10637         113   \n",
       "3          France  25216913  142705  25106739   142664     110174          41   \n",
       "4  United Kingdom  20848913  165046  20848913   165046          0           0   \n",
       "\n",
       "   Fatality Rate      Continent  \n",
       "0            1.2  North America  \n",
       "1            1.2           Asia  \n",
       "2            2.2  South America  \n",
       "3            0.6         Europe  \n",
       "4            0.8         Europe  "
      ]
     },
     "execution_count": 15,
     "metadata": {},
     "output_type": "execute_result"
    }
   ],
   "source": [
    "#hide\n",
    "df_table = (pd.DataFrame(dict(Cases=dfc_cases, Deaths=dfc_deaths, PCases=dfp_cases, PDeaths=dfp_deaths))\n",
    "             .sort_values(by=['Cases', 'Deaths'], ascending=[False, False])\n",
    "             .reset_index())\n",
    "df_table.rename(columns={'index': 'Country/Region'}, inplace=True)\n",
    "for c in 'Cases, Deaths'.split(', '):\n",
    "    df_table[f'{c} (+)'] = (df_table[c] - df_table[f'P{c}']).clip(0)  # DATA BUG\n",
    "df_table['Fatality Rate'] = (100 * df_table['Deaths'] / df_table['Cases']).round(1)\n",
    "df_table['Continent'] = df_table['Country/Region'].map(mapping['map.continent'])\n",
    "df_table.head(5)"
   ]
  },
  {
   "cell_type": "code",
   "execution_count": 16,
   "id": "fewer-occasion",
   "metadata": {
    "execution": {
     "iopub.execute_input": "2022-03-28T12:15:04.527302Z",
     "iopub.status.busy": "2022-03-28T12:15:04.526626Z",
     "iopub.status.idle": "2022-03-28T12:15:04.530344Z",
     "shell.execute_reply": "2022-03-28T12:15:04.530859Z"
    },
    "papermill": {
     "duration": 0.050236,
     "end_time": "2022-03-28T12:15:04.531021",
     "exception": false,
     "start_time": "2022-03-28T12:15:04.480785",
     "status": "completed"
    },
    "tags": []
   },
   "outputs": [],
   "source": [
    "#hide\n",
    "#delete problematic countries from table\n",
    "df_table = df_table[~df_table['Country/Region'].isin(['Cape Verde', 'Cruise Ship', 'Kosovo'])]"
   ]
  },
  {
   "cell_type": "code",
   "execution_count": 17,
   "id": "related-center",
   "metadata": {
    "execution": {
     "iopub.execute_input": "2022-03-28T12:15:04.632734Z",
     "iopub.status.busy": "2022-03-28T12:15:04.632038Z",
     "iopub.status.idle": "2022-03-28T12:15:04.633911Z",
     "shell.execute_reply": "2022-03-28T12:15:04.634544Z"
    },
    "papermill": {
     "duration": 0.063586,
     "end_time": "2022-03-28T12:15:04.634724",
     "exception": false,
     "start_time": "2022-03-28T12:15:04.571138",
     "status": "completed"
    },
    "tags": []
   },
   "outputs": [],
   "source": [
    "#hide\n",
    "metrics = [df_table.columns[index] for index in [1,2,5,6]]\n",
    "# s_china = df_table[df_table['Country/Region'].eq('China')][metrics].sum().add_prefix('China ')\n",
    "s_us = df_table[df_table['Country/Region'].eq('US')][metrics].sum().add_prefix('US ')\n",
    "s_eu = df_table[df_table['Continent'].eq('Europe')][metrics].sum().add_prefix('EU ')\n",
    "s_ind = df_table[df_table['Country/Region'].eq('India')][metrics].sum().add_prefix('India ')\n",
    "summary = {'updated': pd.to_datetime(dt_today), 'since': pd.to_datetime(dt_yday)}\n",
    "summary = {'updated': pd.to_datetime(dt_today), 'since': pd.to_datetime(dt_yday)}\n",
    "summary = {**summary, **df_table[metrics].sum(), **s_ind, **s_us, **s_eu}"
   ]
  },
  {
   "cell_type": "code",
   "execution_count": 18,
   "id": "engaging-syndrome",
   "metadata": {
    "execution": {
     "iopub.execute_input": "2022-03-28T12:15:04.720519Z",
     "iopub.status.busy": "2022-03-28T12:15:04.719849Z",
     "iopub.status.idle": "2022-03-28T12:15:04.738878Z",
     "shell.execute_reply": "2022-03-28T12:15:04.739453Z"
    },
    "papermill": {
     "duration": 0.064736,
     "end_time": "2022-03-28T12:15:04.739633",
     "exception": false,
     "start_time": "2022-03-28T12:15:04.674897",
     "status": "completed"
    },
    "tags": []
   },
   "outputs": [],
   "source": [
    "#hide\n",
    "dft_ct_new_cases = dft_cases.groupby(COL_REGION)[dt_cols].sum().diff(axis=1).fillna(0).astype(int)"
   ]
  },
  {
   "cell_type": "code",
   "execution_count": 19,
   "id": "neutral-assignment",
   "metadata": {
    "execution": {
     "iopub.execute_input": "2022-03-28T12:15:04.826398Z",
     "iopub.status.busy": "2022-03-28T12:15:04.825714Z",
     "iopub.status.idle": "2022-03-28T12:15:04.828246Z",
     "shell.execute_reply": "2022-03-28T12:15:04.827668Z"
    },
    "papermill": {
     "duration": 0.04853,
     "end_time": "2022-03-28T12:15:04.828384",
     "exception": false,
     "start_time": "2022-03-28T12:15:04.779854",
     "status": "completed"
    },
    "tags": []
   },
   "outputs": [],
   "source": [
    "#hide\n",
    "everydaycases = dft_ct_new_cases.cumsum(axis=1)"
   ]
  },
  {
   "cell_type": "code",
   "execution_count": 20,
   "id": "parliamentary-calgary",
   "metadata": {
    "execution": {
     "iopub.execute_input": "2022-03-28T12:15:04.913789Z",
     "iopub.status.busy": "2022-03-28T12:15:04.913058Z",
     "iopub.status.idle": "2022-03-28T12:15:05.658390Z",
     "shell.execute_reply": "2022-03-28T12:15:05.658920Z"
    },
    "papermill": {
     "duration": 0.79068,
     "end_time": "2022-03-28T12:15:05.659096",
     "exception": false,
     "start_time": "2022-03-28T12:15:04.868416",
     "status": "completed"
    },
    "tags": []
   },
   "outputs": [],
   "source": [
    "#hide\n",
    "import pandas as pd\n",
    "import matplotlib.pyplot as plt\n",
    "import matplotlib.ticker as ticker\n",
    "import matplotlib.animation as animation\n",
    "from IPython.display import HTML"
   ]
  },
  {
   "cell_type": "code",
   "execution_count": 21,
   "id": "lasting-extraction",
   "metadata": {
    "execution": {
     "iopub.execute_input": "2022-03-28T12:15:05.750296Z",
     "iopub.status.busy": "2022-03-28T12:15:05.749530Z",
     "iopub.status.idle": "2022-03-28T12:15:05.756069Z",
     "shell.execute_reply": "2022-03-28T12:15:05.757034Z"
    },
    "papermill": {
     "duration": 0.054936,
     "end_time": "2022-03-28T12:15:05.757212",
     "exception": false,
     "start_time": "2022-03-28T12:15:05.702276",
     "status": "completed"
    },
    "tags": []
   },
   "outputs": [],
   "source": [
    "#hide\n",
    "t = everydaycases.stack()"
   ]
  },
  {
   "cell_type": "code",
   "execution_count": 22,
   "id": "premier-sleeve",
   "metadata": {
    "execution": {
     "iopub.execute_input": "2022-03-28T12:15:05.842381Z",
     "iopub.status.busy": "2022-03-28T12:15:05.841695Z",
     "iopub.status.idle": "2022-03-28T12:15:05.853961Z",
     "shell.execute_reply": "2022-03-28T12:15:05.853403Z"
    },
    "papermill": {
     "duration": 0.05594,
     "end_time": "2022-03-28T12:15:05.854110",
     "exception": false,
     "start_time": "2022-03-28T12:15:05.798170",
     "status": "completed"
    },
    "tags": []
   },
   "outputs": [],
   "source": [
    "#hide\n",
    "g = t.reset_index(['Country/Region'])"
   ]
  },
  {
   "cell_type": "code",
   "execution_count": 23,
   "id": "distributed-pittsburgh",
   "metadata": {
    "execution": {
     "iopub.execute_input": "2022-03-28T12:15:05.939805Z",
     "iopub.status.busy": "2022-03-28T12:15:05.939116Z",
     "iopub.status.idle": "2022-03-28T12:15:05.942869Z",
     "shell.execute_reply": "2022-03-28T12:15:05.942276Z"
    },
    "papermill": {
     "duration": 0.049524,
     "end_time": "2022-03-28T12:15:05.943010",
     "exception": false,
     "start_time": "2022-03-28T12:15:05.893486",
     "status": "completed"
    },
    "tags": []
   },
   "outputs": [],
   "source": [
    "#hide\n",
    "g.index.name = 'date'"
   ]
  },
  {
   "cell_type": "code",
   "execution_count": 24,
   "id": "naked-donor",
   "metadata": {
    "execution": {
     "iopub.execute_input": "2022-03-28T12:15:06.027541Z",
     "iopub.status.busy": "2022-03-28T12:15:06.026794Z",
     "iopub.status.idle": "2022-03-28T12:15:06.029569Z",
     "shell.execute_reply": "2022-03-28T12:15:06.028922Z"
    },
    "papermill": {
     "duration": 0.047486,
     "end_time": "2022-03-28T12:15:06.029701",
     "exception": false,
     "start_time": "2022-03-28T12:15:05.982215",
     "status": "completed"
    },
    "tags": []
   },
   "outputs": [],
   "source": [
    "# #hide\n",
    "# g = g.reset_index(['date'])"
   ]
  },
  {
   "cell_type": "code",
   "execution_count": 25,
   "id": "incomplete-mustang",
   "metadata": {
    "execution": {
     "iopub.execute_input": "2022-03-28T12:15:06.120234Z",
     "iopub.status.busy": "2022-03-28T12:15:06.119559Z",
     "iopub.status.idle": "2022-03-28T12:15:06.121724Z",
     "shell.execute_reply": "2022-03-28T12:15:06.121078Z"
    },
    "papermill": {
     "duration": 0.053032,
     "end_time": "2022-03-28T12:15:06.121858",
     "exception": false,
     "start_time": "2022-03-28T12:15:06.068826",
     "status": "completed"
    },
    "tags": []
   },
   "outputs": [],
   "source": [
    "#hide\n",
    "# g.head()"
   ]
  },
  {
   "cell_type": "code",
   "execution_count": 26,
   "id": "specific-kruger",
   "metadata": {
    "execution": {
     "iopub.execute_input": "2022-03-28T12:15:06.205641Z",
     "iopub.status.busy": "2022-03-28T12:15:06.204971Z",
     "iopub.status.idle": "2022-03-28T12:15:06.208869Z",
     "shell.execute_reply": "2022-03-28T12:15:06.209377Z"
    },
    "papermill": {
     "duration": 0.048703,
     "end_time": "2022-03-28T12:15:06.209536",
     "exception": false,
     "start_time": "2022-03-28T12:15:06.160833",
     "status": "completed"
    },
    "tags": []
   },
   "outputs": [],
   "source": [
    "#hide\n",
    "# g.columns = ['date','country','cases']"
   ]
  },
  {
   "cell_type": "code",
   "execution_count": 27,
   "id": "tender-conversion",
   "metadata": {
    "execution": {
     "iopub.execute_input": "2022-03-28T12:15:06.292961Z",
     "iopub.status.busy": "2022-03-28T12:15:06.292307Z",
     "iopub.status.idle": "2022-03-28T12:15:06.294929Z",
     "shell.execute_reply": "2022-03-28T12:15:06.294278Z"
    },
    "papermill": {
     "duration": 0.052989,
     "end_time": "2022-03-28T12:15:06.301400",
     "exception": false,
     "start_time": "2022-03-28T12:15:06.248411",
     "status": "completed"
    },
    "tags": []
   },
   "outputs": [],
   "source": [
    "#hide\n",
    "# g['continent'] = g.country"
   ]
  },
  {
   "cell_type": "code",
   "execution_count": 28,
   "id": "substantial-wilderness",
   "metadata": {
    "execution": {
     "iopub.execute_input": "2022-03-28T12:15:06.384375Z",
     "iopub.status.busy": "2022-03-28T12:15:06.383714Z",
     "iopub.status.idle": "2022-03-28T12:15:06.385571Z",
     "shell.execute_reply": "2022-03-28T12:15:06.386277Z"
    },
    "papermill": {
     "duration": 0.04518,
     "end_time": "2022-03-28T12:15:06.386431",
     "exception": false,
     "start_time": "2022-03-28T12:15:06.341251",
     "status": "completed"
    },
    "tags": []
   },
   "outputs": [],
   "source": [
    "#hide\n",
    "# cols = list(g.columns.values)"
   ]
  },
  {
   "cell_type": "code",
   "execution_count": 29,
   "id": "solved-farming",
   "metadata": {
    "execution": {
     "iopub.execute_input": "2022-03-28T12:15:06.471178Z",
     "iopub.status.busy": "2022-03-28T12:15:06.470488Z",
     "iopub.status.idle": "2022-03-28T12:15:06.472995Z",
     "shell.execute_reply": "2022-03-28T12:15:06.472338Z"
    },
    "papermill": {
     "duration": 0.045471,
     "end_time": "2022-03-28T12:15:06.473130",
     "exception": false,
     "start_time": "2022-03-28T12:15:06.427659",
     "status": "completed"
    },
    "tags": []
   },
   "outputs": [],
   "source": [
    "#hide\n",
    "# cols.insert(0, cols.pop())"
   ]
  },
  {
   "cell_type": "code",
   "execution_count": 30,
   "id": "executed-adoption",
   "metadata": {
    "execution": {
     "iopub.execute_input": "2022-03-28T12:15:06.559901Z",
     "iopub.status.busy": "2022-03-28T12:15:06.558662Z",
     "iopub.status.idle": "2022-03-28T12:15:06.562888Z",
     "shell.execute_reply": "2022-03-28T12:15:06.562328Z"
    },
    "papermill": {
     "duration": 0.048281,
     "end_time": "2022-03-28T12:15:06.563037",
     "exception": false,
     "start_time": "2022-03-28T12:15:06.514756",
     "status": "completed"
    },
    "tags": []
   },
   "outputs": [],
   "source": [
    "#hide\n",
    "# g = g[cols]"
   ]
  },
  {
   "cell_type": "code",
   "execution_count": 31,
   "id": "subject-dublin",
   "metadata": {
    "execution": {
     "iopub.execute_input": "2022-03-28T12:15:06.647824Z",
     "iopub.status.busy": "2022-03-28T12:15:06.647138Z",
     "iopub.status.idle": "2022-03-28T12:15:06.649375Z",
     "shell.execute_reply": "2022-03-28T12:15:06.649877Z"
    },
    "papermill": {
     "duration": 0.045295,
     "end_time": "2022-03-28T12:15:06.650034",
     "exception": false,
     "start_time": "2022-03-28T12:15:06.604739",
     "status": "completed"
    },
    "tags": []
   },
   "outputs": [],
   "source": [
    "#hide\n",
    "# g['continent'] = g['continent'].map(mapping['map.continent'])"
   ]
  },
  {
   "cell_type": "code",
   "execution_count": 32,
   "id": "freelance-scout",
   "metadata": {
    "execution": {
     "iopub.execute_input": "2022-03-28T12:15:06.731848Z",
     "iopub.status.busy": "2022-03-28T12:15:06.731140Z",
     "iopub.status.idle": "2022-03-28T12:15:06.733642Z",
     "shell.execute_reply": "2022-03-28T12:15:06.732987Z"
    },
    "papermill": {
     "duration": 0.045453,
     "end_time": "2022-03-28T12:15:06.733781",
     "exception": false,
     "start_time": "2022-03-28T12:15:06.688328",
     "status": "completed"
    },
    "tags": []
   },
   "outputs": [],
   "source": [
    "#hide\n",
    "# g.head()"
   ]
  },
  {
   "cell_type": "code",
   "execution_count": 33,
   "id": "limited-engine",
   "metadata": {
    "execution": {
     "iopub.execute_input": "2022-03-28T12:15:06.819377Z",
     "iopub.status.busy": "2022-03-28T12:15:06.818640Z",
     "iopub.status.idle": "2022-03-28T12:15:06.820940Z",
     "shell.execute_reply": "2022-03-28T12:15:06.821448Z"
    },
    "papermill": {
     "duration": 0.047858,
     "end_time": "2022-03-28T12:15:06.821602",
     "exception": false,
     "start_time": "2022-03-28T12:15:06.773744",
     "status": "completed"
    },
    "tags": []
   },
   "outputs": [],
   "source": [
    "# hide\n",
    "# g['date'] = g['date'].astype('datetime64[ns]')"
   ]
  },
  {
   "cell_type": "code",
   "execution_count": 34,
   "id": "sophisticated-supervisor",
   "metadata": {
    "execution": {
     "iopub.execute_input": "2022-03-28T12:15:06.909427Z",
     "iopub.status.busy": "2022-03-28T12:15:06.908640Z",
     "iopub.status.idle": "2022-03-28T12:15:06.910376Z",
     "shell.execute_reply": "2022-03-28T12:15:06.911012Z"
    },
    "papermill": {
     "duration": 0.049502,
     "end_time": "2022-03-28T12:15:06.911168",
     "exception": false,
     "start_time": "2022-03-28T12:15:06.861666",
     "status": "completed"
    },
    "tags": []
   },
   "outputs": [],
   "source": [
    "#hide\n",
    "# g['date'] = g.date.dt.dayofyear"
   ]
  },
  {
   "cell_type": "code",
   "execution_count": 35,
   "id": "inside-dubai",
   "metadata": {
    "execution": {
     "iopub.execute_input": "2022-03-28T12:15:06.995140Z",
     "iopub.status.busy": "2022-03-28T12:15:06.994462Z",
     "iopub.status.idle": "2022-03-28T12:15:06.996939Z",
     "shell.execute_reply": "2022-03-28T12:15:06.997449Z"
    },
    "papermill": {
     "duration": 0.046712,
     "end_time": "2022-03-28T12:15:06.997603",
     "exception": false,
     "start_time": "2022-03-28T12:15:06.950891",
     "status": "completed"
    },
    "tags": []
   },
   "outputs": [],
   "source": [
    "#hide\n",
    "# g = g.rename(columns= {'continent':'group','country':'name','cases':'value'})"
   ]
  },
  {
   "cell_type": "code",
   "execution_count": 36,
   "id": "fleet-motorcycle",
   "metadata": {
    "execution": {
     "iopub.execute_input": "2022-03-28T12:15:07.084384Z",
     "iopub.status.busy": "2022-03-28T12:15:07.083709Z",
     "iopub.status.idle": "2022-03-28T12:15:07.086697Z",
     "shell.execute_reply": "2022-03-28T12:15:07.086119Z"
    },
    "papermill": {
     "duration": 0.045895,
     "end_time": "2022-03-28T12:15:07.086830",
     "exception": false,
     "start_time": "2022-03-28T12:15:07.040935",
     "status": "completed"
    },
    "tags": []
   },
   "outputs": [],
   "source": [
    "#hide\n",
    "# cols = ['name','group','day','value']"
   ]
  },
  {
   "cell_type": "code",
   "execution_count": 37,
   "id": "continued-sleeping",
   "metadata": {
    "execution": {
     "iopub.execute_input": "2022-03-28T12:15:07.171856Z",
     "iopub.status.busy": "2022-03-28T12:15:07.171164Z",
     "iopub.status.idle": "2022-03-28T12:15:07.173192Z",
     "shell.execute_reply": "2022-03-28T12:15:07.173760Z"
    },
    "papermill": {
     "duration": 0.046864,
     "end_time": "2022-03-28T12:15:07.173923",
     "exception": false,
     "start_time": "2022-03-28T12:15:07.127059",
     "status": "completed"
    },
    "tags": []
   },
   "outputs": [],
   "source": [
    "#hide\n",
    "# g.rename(columns= {'date':'day'},inplace = True)"
   ]
  },
  {
   "cell_type": "code",
   "execution_count": 38,
   "id": "major-fight",
   "metadata": {
    "execution": {
     "iopub.execute_input": "2022-03-28T12:15:07.265919Z",
     "iopub.status.busy": "2022-03-28T12:15:07.265200Z",
     "iopub.status.idle": "2022-03-28T12:15:07.267908Z",
     "shell.execute_reply": "2022-03-28T12:15:07.267317Z"
    },
    "papermill": {
     "duration": 0.047945,
     "end_time": "2022-03-28T12:15:07.268030",
     "exception": false,
     "start_time": "2022-03-28T12:15:07.220085",
     "status": "completed"
    },
    "tags": []
   },
   "outputs": [],
   "source": [
    "#hide\n",
    "# g = g[cols]"
   ]
  },
  {
   "cell_type": "code",
   "execution_count": 39,
   "id": "structured-mobile",
   "metadata": {
    "execution": {
     "iopub.execute_input": "2022-03-28T12:15:07.356936Z",
     "iopub.status.busy": "2022-03-28T12:15:07.356247Z",
     "iopub.status.idle": "2022-03-28T12:15:07.359097Z",
     "shell.execute_reply": "2022-03-28T12:15:07.358540Z"
    },
    "papermill": {
     "duration": 0.048534,
     "end_time": "2022-03-28T12:15:07.359256",
     "exception": false,
     "start_time": "2022-03-28T12:15:07.310722",
     "status": "completed"
    },
    "tags": []
   },
   "outputs": [],
   "source": [
    "# #hide\n",
    "# g = g[g.group.notna()]"
   ]
  },
  {
   "cell_type": "code",
   "execution_count": 40,
   "id": "determined-closing",
   "metadata": {
    "execution": {
     "iopub.execute_input": "2022-03-28T12:15:07.445488Z",
     "iopub.status.busy": "2022-03-28T12:15:07.444780Z",
     "iopub.status.idle": "2022-03-28T12:15:07.447771Z",
     "shell.execute_reply": "2022-03-28T12:15:07.447133Z"
    },
    "papermill": {
     "duration": 0.048902,
     "end_time": "2022-03-28T12:15:07.447931",
     "exception": false,
     "start_time": "2022-03-28T12:15:07.399029",
     "status": "completed"
    },
    "tags": []
   },
   "outputs": [],
   "source": [
    "# #hide\n",
    "# colors = dict(zip(\n",
    "#     [\"Oceania\", \"Europe\", \"Asia\", \"South America\", \"Middle East\", \"North America\", \"Africa\"],\n",
    "#     [\"#adb0ff\", \"#ffb3ff\", \"#90d595\", \"#e48381\", \"#aafbff\", \"#f7bb5f\", \"#eafb50\"]\n",
    "# ))\n",
    "# group_lk = g.set_index('name')['group'].to_dict()"
   ]
  },
  {
   "cell_type": "code",
   "execution_count": null,
   "id": "gross-drinking",
   "metadata": {
    "papermill": {
     "duration": 0.040375,
     "end_time": "2022-03-28T12:15:07.528703",
     "exception": false,
     "start_time": "2022-03-28T12:15:07.488328",
     "status": "completed"
    },
    "tags": []
   },
   "outputs": [],
   "source": []
  },
  {
   "cell_type": "code",
   "execution_count": 41,
   "id": "subject-macintosh",
   "metadata": {
    "execution": {
     "iopub.execute_input": "2022-03-28T12:15:07.612766Z",
     "iopub.status.busy": "2022-03-28T12:15:07.612069Z",
     "iopub.status.idle": "2022-03-28T12:15:07.614204Z",
     "shell.execute_reply": "2022-03-28T12:15:07.614744Z"
    },
    "papermill": {
     "duration": 0.046619,
     "end_time": "2022-03-28T12:15:07.614906",
     "exception": false,
     "start_time": "2022-03-28T12:15:07.568287",
     "status": "completed"
    },
    "tags": []
   },
   "outputs": [],
   "source": [
    "# #hide\n",
    "# fig, ax = plt.subplots(figsize=(15, 8))\n",
    "\n",
    "# def draw_barchart(current_day):\n",
    "#     dff = g[g['day'].eq(current_day)].sort_values(by='value', ascending=True).tail(10)\n",
    "#     ax.clear()\n",
    "#     ax.barh(dff['name'], dff['value'], color=[colors[group_lk[x]] for x in dff['name']])\n",
    "#     dx = dff['value'].max() / 200\n",
    "    \n",
    "#     for i, (value, name) in enumerate(zip(dff['value'], dff['name'])):\n",
    "#         ax.text(value-dx, i,     name,           size=14, weight=600, ha='right', va='bottom')\n",
    "#         ax.text(value-dx, i-.25, group_lk[name], size=10, color='#444444', ha='right', va='baseline')\n",
    "#         ax.text(value+dx, i,     f'{value:,.0f}',  size=14, ha='left',  va='center')\n",
    "#     ax.text(1, 0.4, current_day, transform=ax.transAxes, color='#777777', size=46, ha='right', weight=800)\n",
    "#     ax.text(0, 1.06, 'Population (thousands)', transform=ax.transAxes, size=12, color='#777777')\n",
    "#     ax.xaxis.set_major_formatter(ticker.StrMethodFormatter('{x:,.0f}'))\n",
    "#     ax.xaxis.set_ticks_position('top')\n",
    "#     ax.tick_params(axis='x', colors='#777777', labelsize=12)\n",
    "#     ax.set_yticks([])\n",
    "#     ax.margins(0, 0.01)\n",
    "#     ax.grid(which='major', axis='x', linestyle='-')\n",
    "#     ax.set_axisbelow(True)\n",
    "    \n",
    "#     ax.text(0, 1.15, 'Coronavirus',\n",
    "#             transform=ax.transAxes, size=24, weight=600, ha='left', va='top')\n",
    "# #     ax.text(1, 0, 'by @pratapvardhan; credit @jburnmurdoch', transform=ax.transAxes, color='#777777', ha='right',\n",
    "# #             bbox=dict(facecolor='white', alpha=0.8, edgecolor='white'))\n",
    "#     plt.box(False)"
   ]
  },
  {
   "cell_type": "code",
   "execution_count": 42,
   "id": "sexual-wages",
   "metadata": {
    "execution": {
     "iopub.execute_input": "2022-03-28T12:15:07.698979Z",
     "iopub.status.busy": "2022-03-28T12:15:07.698307Z",
     "iopub.status.idle": "2022-03-28T12:15:07.700538Z",
     "shell.execute_reply": "2022-03-28T12:15:07.701106Z"
    },
    "papermill": {
     "duration": 0.046449,
     "end_time": "2022-03-28T12:15:07.701265",
     "exception": false,
     "start_time": "2022-03-28T12:15:07.654816",
     "status": "completed"
    },
    "tags": []
   },
   "outputs": [],
   "source": [
    "# #hide_input\n",
    "# fig, ax = plt.subplots(figsize=(15, 8))\n",
    "# animator = animation.FuncAnimation(fig, draw_barchart, frames=range(g.day.values.min(), g.day.values.max()))\n",
    "# HTML(animator.to_jshtml())\n",
    "# # or use animator.to_html5_video() or animator.save() "
   ]
  },
  {
   "cell_type": "code",
   "execution_count": null,
   "id": "australian-container",
   "metadata": {
    "papermill": {
     "duration": 0.039343,
     "end_time": "2022-03-28T12:15:07.780709",
     "exception": false,
     "start_time": "2022-03-28T12:15:07.741366",
     "status": "completed"
    },
    "tags": []
   },
   "outputs": [],
   "source": []
  },
  {
   "cell_type": "code",
   "execution_count": null,
   "id": "mediterranean-pontiac",
   "metadata": {
    "papermill": {
     "duration": 0.041161,
     "end_time": "2022-03-28T12:15:07.862587",
     "exception": false,
     "start_time": "2022-03-28T12:15:07.821426",
     "status": "completed"
    },
    "tags": []
   },
   "outputs": [],
   "source": []
  },
  {
   "cell_type": "code",
   "execution_count": null,
   "id": "aging-legislature",
   "metadata": {
    "papermill": {
     "duration": 0.041908,
     "end_time": "2022-03-28T12:15:07.944906",
     "exception": false,
     "start_time": "2022-03-28T12:15:07.902998",
     "status": "completed"
    },
    "tags": []
   },
   "outputs": [],
   "source": []
  }
 ],
 "metadata": {
  "kernelspec": {
   "display_name": "Python 3",
   "language": "python",
   "name": "python3"
  },
  "language_info": {
   "codemirror_mode": {
    "name": "ipython",
    "version": 3
   },
   "file_extension": ".py",
   "mimetype": "text/x-python",
   "name": "python",
   "nbconvert_exporter": "python",
   "pygments_lexer": "ipython3",
   "version": "3.6.15"
  },
  "papermill": {
   "duration": 7.6427,
   "end_time": "2022-03-28T12:15:08.406055",
   "environment_variables": {},
   "exception": null,
   "input_path": "2020-03-21-covid19exp.ipynb",
   "output_path": "2020-03-21-covid19exp.ipynb",
   "parameters": {},
   "start_time": "2022-03-28T12:15:00.763355",
   "version": "2.0.0"
  }
 },
 "nbformat": 4,
 "nbformat_minor": 5
}