{
 "cells": [
  {
   "cell_type": "markdown",
   "id": "muslim-click",
   "metadata": {
    "papermill": {
     "duration": 0.050728,
     "end_time": "2021-04-19T00:07:43.593309",
     "exception": false,
     "start_time": "2021-04-19T00:07:43.542581",
     "status": "completed"
    },
    "tags": []
   },
   "source": [
    "# COVID-19 Case Race\n",
    "> A race chart to see rising cases around the world\n",
    "\n",
    "- author: Hargun Oberoi\n",
    "- image: images/covid-overview.png\n",
    "- hide: false\n",
    "- badges: false"
   ]
  },
  {
   "cell_type": "code",
   "execution_count": 1,
   "id": "proof-material",
   "metadata": {
    "execution": {
     "iopub.execute_input": "2021-04-19T00:07:43.702557Z",
     "iopub.status.busy": "2021-04-19T00:07:43.701872Z",
     "iopub.status.idle": "2021-04-19T00:07:44.142014Z",
     "shell.execute_reply": "2021-04-19T00:07:44.141225Z"
    },
    "papermill": {
     "duration": 0.499836,
     "end_time": "2021-04-19T00:07:44.142217",
     "exception": false,
     "start_time": "2021-04-19T00:07:43.642381",
     "status": "completed"
    },
    "tags": []
   },
   "outputs": [],
   "source": [
    "#hide\n",
    "import numpy as np\n",
    "import pandas as pd\n",
    "from jinja2 import Template\n",
    "from IPython.display import HTML"
   ]
  },
  {
   "cell_type": "code",
   "execution_count": 2,
   "id": "developed-terminology",
   "metadata": {
    "execution": {
     "iopub.execute_input": "2021-04-19T00:07:44.237905Z",
     "iopub.status.busy": "2021-04-19T00:07:44.237065Z",
     "iopub.status.idle": "2021-04-19T00:07:44.239044Z",
     "shell.execute_reply": "2021-04-19T00:07:44.239697Z"
    },
    "papermill": {
     "duration": 0.055395,
     "end_time": "2021-04-19T00:07:44.239847",
     "exception": false,
     "start_time": "2021-04-19T00:07:44.184452",
     "status": "completed"
    },
    "tags": []
   },
   "outputs": [],
   "source": [
    "#hide\n",
    "\n",
    "# FETCH\n",
    "base_url = 'https://raw.githubusercontent.com/pratapvardhan/notebooks/master/covid19/'\n",
    "paths = {\n",
    "    'mapping': base_url + 'mapping_countries.csv',\n",
    "    'overview': base_url + 'overview.tpl'\n",
    "}"
   ]
  },
  {
   "cell_type": "code",
   "execution_count": 3,
   "id": "dynamic-saver",
   "metadata": {
    "execution": {
     "iopub.execute_input": "2021-04-19T00:07:44.349483Z",
     "iopub.status.busy": "2021-04-19T00:07:44.348803Z",
     "iopub.status.idle": "2021-04-19T00:07:44.353456Z",
     "shell.execute_reply": "2021-04-19T00:07:44.354528Z"
    },
    "papermill": {
     "duration": 0.066486,
     "end_time": "2021-04-19T00:07:44.354860",
     "exception": false,
     "start_time": "2021-04-19T00:07:44.288374",
     "status": "completed"
    },
    "tags": []
   },
   "outputs": [
    {
     "data": {
      "text/plain": [
       "'https://raw.githubusercontent.com/pratapvardhan/notebooks/master/covid19/mapping_countries.csv'"
      ]
     },
     "execution_count": 3,
     "metadata": {},
     "output_type": "execute_result"
    }
   ],
   "source": [
    "#hide\n",
    "paths['mapping']"
   ]
  },
  {
   "cell_type": "code",
   "execution_count": 4,
   "id": "urban-software",
   "metadata": {
    "execution": {
     "iopub.execute_input": "2021-04-19T00:07:44.476761Z",
     "iopub.status.busy": "2021-04-19T00:07:44.475271Z",
     "iopub.status.idle": "2021-04-19T00:07:44.477474Z",
     "shell.execute_reply": "2021-04-19T00:07:44.478030Z"
    },
    "papermill": {
     "duration": 0.062137,
     "end_time": "2021-04-19T00:07:44.478186",
     "exception": false,
     "start_time": "2021-04-19T00:07:44.416049",
     "status": "completed"
    },
    "tags": []
   },
   "outputs": [],
   "source": [
    "#hide\n",
    "def get_mappings(url):\n",
    "    df = pd.read_csv(url)\n",
    "    return {\n",
    "        'df': df,\n",
    "        'replace.country': dict(df.dropna(subset=['Name']).set_index('Country')['Name']),\n",
    "        'map.continent': dict(df.set_index('Name')['Continent'])\n",
    "    }"
   ]
  },
  {
   "cell_type": "code",
   "execution_count": 5,
   "id": "intimate-machinery",
   "metadata": {
    "execution": {
     "iopub.execute_input": "2021-04-19T00:07:44.576699Z",
     "iopub.status.busy": "2021-04-19T00:07:44.575940Z",
     "iopub.status.idle": "2021-04-19T00:07:44.624435Z",
     "shell.execute_reply": "2021-04-19T00:07:44.623742Z"
    },
    "papermill": {
     "duration": 0.102887,
     "end_time": "2021-04-19T00:07:44.624615",
     "exception": false,
     "start_time": "2021-04-19T00:07:44.521728",
     "status": "completed"
    },
    "tags": []
   },
   "outputs": [],
   "source": [
    "#hide\n",
    "mapping = get_mappings(paths['mapping'])"
   ]
  },
  {
   "cell_type": "code",
   "execution_count": 6,
   "id": "certified-tactics",
   "metadata": {
    "execution": {
     "iopub.execute_input": "2021-04-19T00:07:44.734438Z",
     "iopub.status.busy": "2021-04-19T00:07:44.733747Z",
     "iopub.status.idle": "2021-04-19T00:07:44.737559Z",
     "shell.execute_reply": "2021-04-19T00:07:44.736795Z"
    },
    "papermill": {
     "duration": 0.05764,
     "end_time": "2021-04-19T00:07:44.737692",
     "exception": false,
     "start_time": "2021-04-19T00:07:44.680052",
     "status": "completed"
    },
    "tags": []
   },
   "outputs": [],
   "source": [
    "#hide\n",
    "def get_template(path):\n",
    "    from urllib.parse import urlparse\n",
    "    if bool(urlparse(path).netloc):\n",
    "        from urllib.request import urlopen\n",
    "        return urlopen(path).read().decode('utf8')\n",
    "    return open(path).read()"
   ]
  },
  {
   "cell_type": "code",
   "execution_count": 7,
   "id": "realistic-blast",
   "metadata": {
    "execution": {
     "iopub.execute_input": "2021-04-19T00:07:44.844088Z",
     "iopub.status.busy": "2021-04-19T00:07:44.843288Z",
     "iopub.status.idle": "2021-04-19T00:07:44.846249Z",
     "shell.execute_reply": "2021-04-19T00:07:44.845483Z"
    },
    "papermill": {
     "duration": 0.054915,
     "end_time": "2021-04-19T00:07:44.846470",
     "exception": false,
     "start_time": "2021-04-19T00:07:44.791555",
     "status": "completed"
    },
    "tags": []
   },
   "outputs": [],
   "source": [
    "#hide\n",
    "def get_frame(name):\n",
    "    url = (\n",
    "        'https://raw.githubusercontent.com/CSSEGISandData/COVID-19/master/csse_covid_19_data/'\n",
    "        f'csse_covid_19_time_series/time_series_covid19_{name}_global.csv')\n",
    "    df = pd.read_csv(url)\n",
    "    # rename countries\n",
    "    df['Country/Region'] = df['Country/Region'].replace(mapping['replace.country'])\n",
    "    return df"
   ]
  },
  {
   "cell_type": "code",
   "execution_count": 8,
   "id": "affiliated-characterization",
   "metadata": {
    "execution": {
     "iopub.execute_input": "2021-04-19T00:07:44.956730Z",
     "iopub.status.busy": "2021-04-19T00:07:44.955965Z",
     "iopub.status.idle": "2021-04-19T00:07:44.959538Z",
     "shell.execute_reply": "2021-04-19T00:07:44.958966Z"
    },
    "papermill": {
     "duration": 0.062582,
     "end_time": "2021-04-19T00:07:44.959681",
     "exception": false,
     "start_time": "2021-04-19T00:07:44.897099",
     "status": "completed"
    },
    "tags": []
   },
   "outputs": [],
   "source": [
    "#hide\n",
    "def get_dates(df):\n",
    "    dt_cols = df.columns[~df.columns.isin(['Province/State', 'Country/Region', 'Lat', 'Long'])]\n",
    "    LAST_DATE_I = -1\n",
    "    # sometimes last column may be empty, then go backwards\n",
    "    for i in range(-1, -len(dt_cols), -1):\n",
    "        if not df[dt_cols[i]].fillna(0).eq(0).all():\n",
    "            LAST_DATE_I = i\n",
    "            break\n",
    "    return LAST_DATE_I, dt_cols"
   ]
  },
  {
   "cell_type": "code",
   "execution_count": 9,
   "id": "recent-optimization",
   "metadata": {
    "execution": {
     "iopub.execute_input": "2021-04-19T00:07:45.066594Z",
     "iopub.status.busy": "2021-04-19T00:07:45.065760Z",
     "iopub.status.idle": "2021-04-19T00:07:45.479709Z",
     "shell.execute_reply": "2021-04-19T00:07:45.479152Z"
    },
    "papermill": {
     "duration": 0.464851,
     "end_time": "2021-04-19T00:07:45.479850",
     "exception": false,
     "start_time": "2021-04-19T00:07:45.014999",
     "status": "completed"
    },
    "tags": []
   },
   "outputs": [],
   "source": [
    "#hide\n",
    "COL_REGION = 'Country/Region'\n",
    "# Confirmed, Recovered, Deaths\n",
    "df = get_frame('confirmed')\n",
    "# dft_: timeseries, dfc_: today country agg\n",
    "dft_cases = df\n",
    "dft_deaths = get_frame('deaths')\n",
    "dft_recovered = get_frame('recovered')\n",
    "LAST_DATE_I, dt_cols = get_dates(df)"
   ]
  },
  {
   "cell_type": "code",
   "execution_count": 10,
   "id": "absolute-copper",
   "metadata": {
    "execution": {
     "iopub.execute_input": "2021-04-19T00:07:45.587958Z",
     "iopub.status.busy": "2021-04-19T00:07:45.585524Z",
     "iopub.status.idle": "2021-04-19T00:07:45.588778Z",
     "shell.execute_reply": "2021-04-19T00:07:45.589737Z"
    },
    "papermill": {
     "duration": 0.06241,
     "end_time": "2021-04-19T00:07:45.589952",
     "exception": false,
     "start_time": "2021-04-19T00:07:45.527542",
     "status": "completed"
    },
    "tags": []
   },
   "outputs": [],
   "source": [
    "#hide\n",
    "LAST_DATE_I, dt_cols = get_dates(df)\n",
    "dt_today =dt_cols[LAST_DATE_I]\n",
    "# dt_5day = dt_cols[LAST_DATE_I - 5]\n",
    "dt_yday = dt_cols[LAST_DATE_I - 1]"
   ]
  },
  {
   "cell_type": "code",
   "execution_count": 11,
   "id": "restricted-sheriff",
   "metadata": {
    "execution": {
     "iopub.execute_input": "2021-04-19T00:07:45.699516Z",
     "iopub.status.busy": "2021-04-19T00:07:45.698184Z",
     "iopub.status.idle": "2021-04-19T00:07:45.709756Z",
     "shell.execute_reply": "2021-04-19T00:07:45.710378Z"
    },
    "papermill": {
     "duration": 0.069513,
     "end_time": "2021-04-19T00:07:45.710528",
     "exception": false,
     "start_time": "2021-04-19T00:07:45.641015",
     "status": "completed"
    },
    "tags": []
   },
   "outputs": [],
   "source": [
    "#hide\n",
    "dfc_cases = dft_cases.groupby(COL_REGION)[dt_today].sum()\n",
    "dfc_deaths = dft_deaths.groupby(COL_REGION)[dt_today].sum()\n",
    "# dfp_cases = dft_cases.groupby(COL_REGION)[dt_5day].sum()\n",
    "# dfp_deaths = dft_deaths.groupby(COL_REGION)[dt_5day].sum()\n",
    "dfp_cases = dft_cases.groupby(COL_REGION)[dt_yday].sum()\n",
    "dfp_deaths = dft_deaths.groupby(COL_REGION)[dt_yday].sum()"
   ]
  },
  {
   "cell_type": "code",
   "execution_count": 12,
   "id": "deluxe-hepatitis",
   "metadata": {
    "execution": {
     "iopub.execute_input": "2021-04-19T00:07:45.809191Z",
     "iopub.status.busy": "2021-04-19T00:07:45.808425Z",
     "iopub.status.idle": "2021-04-19T00:07:45.813436Z",
     "shell.execute_reply": "2021-04-19T00:07:45.814055Z"
    },
    "papermill": {
     "duration": 0.061409,
     "end_time": "2021-04-19T00:07:45.814194",
     "exception": false,
     "start_time": "2021-04-19T00:07:45.752785",
     "status": "completed"
    },
    "tags": []
   },
   "outputs": [],
   "source": [
    "#hide\n",
    "df_table = (pd.DataFrame(dict(Cases = dfc_cases, Deaths = dfc_deaths, PCases = dfp_cases, PDeaths = dfp_deaths))\n",
    "            .sort_values(by = ['Cases','Deaths'], ascending = [False, False])\n",
    "            .reset_index())"
   ]
  },
  {
   "cell_type": "code",
   "execution_count": 13,
   "id": "educational-chancellor",
   "metadata": {
    "execution": {
     "iopub.execute_input": "2021-04-19T00:07:45.935563Z",
     "iopub.status.busy": "2021-04-19T00:07:45.934868Z",
     "iopub.status.idle": "2021-04-19T00:07:45.945759Z",
     "shell.execute_reply": "2021-04-19T00:07:45.945210Z"
    },
    "papermill": {
     "duration": 0.084591,
     "end_time": "2021-04-19T00:07:45.945889",
     "exception": false,
     "start_time": "2021-04-19T00:07:45.861298",
     "status": "completed"
    },
    "tags": []
   },
   "outputs": [
    {
     "data": {
      "text/html": [
       "<div>\n",
       "<style scoped>\n",
       "    .dataframe tbody tr th:only-of-type {\n",
       "        vertical-align: middle;\n",
       "    }\n",
       "\n",
       "    .dataframe tbody tr th {\n",
       "        vertical-align: top;\n",
       "    }\n",
       "\n",
       "    .dataframe thead th {\n",
       "        text-align: right;\n",
       "    }\n",
       "</style>\n",
       "<table border=\"1\" class=\"dataframe\">\n",
       "  <thead>\n",
       "    <tr style=\"text-align: right;\">\n",
       "      <th></th>\n",
       "      <th>Country/Region</th>\n",
       "      <th>Cases</th>\n",
       "      <th>Deaths</th>\n",
       "      <th>PCases</th>\n",
       "      <th>PDeaths</th>\n",
       "      <th>Cases (+)</th>\n",
       "      <th>Deaths (+)</th>\n",
       "      <th>Fatality Rate</th>\n",
       "      <th>Continent</th>\n",
       "    </tr>\n",
       "  </thead>\n",
       "  <tbody>\n",
       "    <tr>\n",
       "      <th>0</th>\n",
       "      <td>US</td>\n",
       "      <td>31628013</td>\n",
       "      <td>566904</td>\n",
       "      <td>31575640</td>\n",
       "      <td>566224</td>\n",
       "      <td>52373</td>\n",
       "      <td>680</td>\n",
       "      <td>1.79</td>\n",
       "      <td>North America</td>\n",
       "    </tr>\n",
       "    <tr>\n",
       "      <th>1</th>\n",
       "      <td>India</td>\n",
       "      <td>14788003</td>\n",
       "      <td>177150</td>\n",
       "      <td>14526609</td>\n",
       "      <td>175649</td>\n",
       "      <td>261394</td>\n",
       "      <td>1501</td>\n",
       "      <td>1.20</td>\n",
       "      <td>Asia</td>\n",
       "    </tr>\n",
       "    <tr>\n",
       "      <th>2</th>\n",
       "      <td>Brazil</td>\n",
       "      <td>13900091</td>\n",
       "      <td>371678</td>\n",
       "      <td>13832455</td>\n",
       "      <td>368749</td>\n",
       "      <td>67636</td>\n",
       "      <td>2929</td>\n",
       "      <td>2.67</td>\n",
       "      <td>South America</td>\n",
       "    </tr>\n",
       "    <tr>\n",
       "      <th>3</th>\n",
       "      <td>France</td>\n",
       "      <td>5321176</td>\n",
       "      <td>100752</td>\n",
       "      <td>5285304</td>\n",
       "      <td>100563</td>\n",
       "      <td>35872</td>\n",
       "      <td>189</td>\n",
       "      <td>1.89</td>\n",
       "      <td>Europe</td>\n",
       "    </tr>\n",
       "    <tr>\n",
       "      <th>4</th>\n",
       "      <td>Russia</td>\n",
       "      <td>4640537</td>\n",
       "      <td>103451</td>\n",
       "      <td>4631336</td>\n",
       "      <td>103059</td>\n",
       "      <td>9201</td>\n",
       "      <td>392</td>\n",
       "      <td>2.23</td>\n",
       "      <td>Europe</td>\n",
       "    </tr>\n",
       "  </tbody>\n",
       "</table>\n",
       "</div>"
      ],
      "text/plain": [
       "  Country/Region     Cases  Deaths    PCases  PDeaths  Cases (+)  Deaths (+)  \\\n",
       "0             US  31628013  566904  31575640   566224      52373         680   \n",
       "1          India  14788003  177150  14526609   175649     261394        1501   \n",
       "2         Brazil  13900091  371678  13832455   368749      67636        2929   \n",
       "3         France   5321176  100752   5285304   100563      35872         189   \n",
       "4         Russia   4640537  103451   4631336   103059       9201         392   \n",
       "\n",
       "   Fatality Rate      Continent  \n",
       "0           1.79  North America  \n",
       "1           1.20           Asia  \n",
       "2           2.67  South America  \n",
       "3           1.89         Europe  \n",
       "4           2.23         Europe  "
      ]
     },
     "execution_count": 13,
     "metadata": {},
     "output_type": "execute_result"
    }
   ],
   "source": [
    "#hide\n",
    "for c in 'Cases, Deaths'.split(', '):\n",
    "    df_table[f'{c} (+)'] = (df_table[c] - df_table[f'P{c}']).clip(0)\n",
    "    #Clip ça veut dire, les chiffres negatif sont interdit\n",
    "df_table['Fatality Rate'] = (100* df_table['Deaths']/ df_table['Cases']).round(2)\n",
    "df_table['Continent'] = df_table['Country/Region'].map(mapping['map.continent'])\n",
    "df_table.head(5)"
   ]
  },
  {
   "cell_type": "code",
   "execution_count": 14,
   "id": "aboriginal-bulgaria",
   "metadata": {
    "execution": {
     "iopub.execute_input": "2021-04-19T00:07:46.046103Z",
     "iopub.status.busy": "2021-04-19T00:07:46.045442Z",
     "iopub.status.idle": "2021-04-19T00:07:46.050309Z",
     "shell.execute_reply": "2021-04-19T00:07:46.051241Z"
    },
    "papermill": {
     "duration": 0.059838,
     "end_time": "2021-04-19T00:07:46.051760",
     "exception": false,
     "start_time": "2021-04-19T00:07:45.991922",
     "status": "completed"
    },
    "tags": []
   },
   "outputs": [],
   "source": [
    "#hide\n",
    "#delete problematic countries from table\n",
    "df_table = df_table[~df_table['Country/Region'].isin(['Cape Verde', 'Cruise Ship', 'Kosovo'])]"
   ]
  },
  {
   "cell_type": "code",
   "execution_count": 15,
   "id": "fantastic-effect",
   "metadata": {
    "execution": {
     "iopub.execute_input": "2021-04-19T00:07:46.162518Z",
     "iopub.status.busy": "2021-04-19T00:07:46.161629Z",
     "iopub.status.idle": "2021-04-19T00:07:46.189434Z",
     "shell.execute_reply": "2021-04-19T00:07:46.188499Z"
    },
    "papermill": {
     "duration": 0.083033,
     "end_time": "2021-04-19T00:07:46.189601",
     "exception": false,
     "start_time": "2021-04-19T00:07:46.106568",
     "status": "completed"
    },
    "tags": []
   },
   "outputs": [
    {
     "data": {
      "text/html": [
       "<div>\n",
       "<style scoped>\n",
       "    .dataframe tbody tr th:only-of-type {\n",
       "        vertical-align: middle;\n",
       "    }\n",
       "\n",
       "    .dataframe tbody tr th {\n",
       "        vertical-align: top;\n",
       "    }\n",
       "\n",
       "    .dataframe thead th {\n",
       "        text-align: right;\n",
       "    }\n",
       "</style>\n",
       "<table border=\"1\" class=\"dataframe\">\n",
       "  <thead>\n",
       "    <tr style=\"text-align: right;\">\n",
       "      <th></th>\n",
       "      <th>Country/Region</th>\n",
       "      <th>Cases</th>\n",
       "      <th>Deaths</th>\n",
       "      <th>PCases</th>\n",
       "      <th>PDeaths</th>\n",
       "      <th>Cases (+)</th>\n",
       "      <th>Deaths (+)</th>\n",
       "      <th>Fatality Rate</th>\n",
       "      <th>Continent</th>\n",
       "    </tr>\n",
       "  </thead>\n",
       "  <tbody>\n",
       "    <tr>\n",
       "      <th>0</th>\n",
       "      <td>US</td>\n",
       "      <td>31628013</td>\n",
       "      <td>566904</td>\n",
       "      <td>31575640</td>\n",
       "      <td>566224</td>\n",
       "      <td>52373</td>\n",
       "      <td>680</td>\n",
       "      <td>1.8</td>\n",
       "      <td>North America</td>\n",
       "    </tr>\n",
       "    <tr>\n",
       "      <th>1</th>\n",
       "      <td>India</td>\n",
       "      <td>14788003</td>\n",
       "      <td>177150</td>\n",
       "      <td>14526609</td>\n",
       "      <td>175649</td>\n",
       "      <td>261394</td>\n",
       "      <td>1501</td>\n",
       "      <td>1.2</td>\n",
       "      <td>Asia</td>\n",
       "    </tr>\n",
       "    <tr>\n",
       "      <th>2</th>\n",
       "      <td>Brazil</td>\n",
       "      <td>13900091</td>\n",
       "      <td>371678</td>\n",
       "      <td>13832455</td>\n",
       "      <td>368749</td>\n",
       "      <td>67636</td>\n",
       "      <td>2929</td>\n",
       "      <td>2.7</td>\n",
       "      <td>South America</td>\n",
       "    </tr>\n",
       "    <tr>\n",
       "      <th>3</th>\n",
       "      <td>France</td>\n",
       "      <td>5321176</td>\n",
       "      <td>100752</td>\n",
       "      <td>5285304</td>\n",
       "      <td>100563</td>\n",
       "      <td>35872</td>\n",
       "      <td>189</td>\n",
       "      <td>1.9</td>\n",
       "      <td>Europe</td>\n",
       "    </tr>\n",
       "    <tr>\n",
       "      <th>4</th>\n",
       "      <td>Russia</td>\n",
       "      <td>4640537</td>\n",
       "      <td>103451</td>\n",
       "      <td>4631336</td>\n",
       "      <td>103059</td>\n",
       "      <td>9201</td>\n",
       "      <td>392</td>\n",
       "      <td>2.2</td>\n",
       "      <td>Europe</td>\n",
       "    </tr>\n",
       "  </tbody>\n",
       "</table>\n",
       "</div>"
      ],
      "text/plain": [
       "  Country/Region     Cases  Deaths    PCases  PDeaths  Cases (+)  Deaths (+)  \\\n",
       "0             US  31628013  566904  31575640   566224      52373         680   \n",
       "1          India  14788003  177150  14526609   175649     261394        1501   \n",
       "2         Brazil  13900091  371678  13832455   368749      67636        2929   \n",
       "3         France   5321176  100752   5285304   100563      35872         189   \n",
       "4         Russia   4640537  103451   4631336   103059       9201         392   \n",
       "\n",
       "   Fatality Rate      Continent  \n",
       "0            1.8  North America  \n",
       "1            1.2           Asia  \n",
       "2            2.7  South America  \n",
       "3            1.9         Europe  \n",
       "4            2.2         Europe  "
      ]
     },
     "execution_count": 15,
     "metadata": {},
     "output_type": "execute_result"
    }
   ],
   "source": [
    "#hide\n",
    "df_table = (pd.DataFrame(dict(Cases=dfc_cases, Deaths=dfc_deaths, PCases=dfp_cases, PDeaths=dfp_deaths))\n",
    "             .sort_values(by=['Cases', 'Deaths'], ascending=[False, False])\n",
    "             .reset_index())\n",
    "df_table.rename(columns={'index': 'Country/Region'}, inplace=True)\n",
    "for c in 'Cases, Deaths'.split(', '):\n",
    "    df_table[f'{c} (+)'] = (df_table[c] - df_table[f'P{c}']).clip(0)  # DATA BUG\n",
    "df_table['Fatality Rate'] = (100 * df_table['Deaths'] / df_table['Cases']).round(1)\n",
    "df_table['Continent'] = df_table['Country/Region'].map(mapping['map.continent'])\n",
    "df_table.head(5)"
   ]
  },
  {
   "cell_type": "code",
   "execution_count": 16,
   "id": "fewer-occasion",
   "metadata": {
    "execution": {
     "iopub.execute_input": "2021-04-19T00:07:46.305661Z",
     "iopub.status.busy": "2021-04-19T00:07:46.304923Z",
     "iopub.status.idle": "2021-04-19T00:07:46.306648Z",
     "shell.execute_reply": "2021-04-19T00:07:46.307314Z"
    },
    "papermill": {
     "duration": 0.059457,
     "end_time": "2021-04-19T00:07:46.307450",
     "exception": false,
     "start_time": "2021-04-19T00:07:46.247993",
     "status": "completed"
    },
    "tags": []
   },
   "outputs": [],
   "source": [
    "#hide\n",
    "#delete problematic countries from table\n",
    "df_table = df_table[~df_table['Country/Region'].isin(['Cape Verde', 'Cruise Ship', 'Kosovo'])]"
   ]
  },
  {
   "cell_type": "code",
   "execution_count": 17,
   "id": "related-center",
   "metadata": {
    "execution": {
     "iopub.execute_input": "2021-04-19T00:07:46.432840Z",
     "iopub.status.busy": "2021-04-19T00:07:46.431714Z",
     "iopub.status.idle": "2021-04-19T00:07:46.433546Z",
     "shell.execute_reply": "2021-04-19T00:07:46.434243Z"
    },
    "papermill": {
     "duration": 0.07291,
     "end_time": "2021-04-19T00:07:46.434447",
     "exception": false,
     "start_time": "2021-04-19T00:07:46.361537",
     "status": "completed"
    },
    "tags": []
   },
   "outputs": [],
   "source": [
    "#hide\n",
    "metrics = [df_table.columns[index] for index in [1,2,5,6]]\n",
    "# s_china = df_table[df_table['Country/Region'].eq('China')][metrics].sum().add_prefix('China ')\n",
    "s_us = df_table[df_table['Country/Region'].eq('US')][metrics].sum().add_prefix('US ')\n",
    "s_eu = df_table[df_table['Continent'].eq('Europe')][metrics].sum().add_prefix('EU ')\n",
    "s_ind = df_table[df_table['Country/Region'].eq('India')][metrics].sum().add_prefix('India ')\n",
    "summary = {'updated': pd.to_datetime(dt_today), 'since': pd.to_datetime(dt_yday)}\n",
    "summary = {'updated': pd.to_datetime(dt_today), 'since': pd.to_datetime(dt_yday)}\n",
    "summary = {**summary, **df_table[metrics].sum(), **s_ind, **s_us, **s_eu}"
   ]
  },
  {
   "cell_type": "code",
   "execution_count": 18,
   "id": "engaging-syndrome",
   "metadata": {
    "execution": {
     "iopub.execute_input": "2021-04-19T00:07:46.538440Z",
     "iopub.status.busy": "2021-04-19T00:07:46.537516Z",
     "iopub.status.idle": "2021-04-19T00:07:46.551227Z",
     "shell.execute_reply": "2021-04-19T00:07:46.550474Z"
    },
    "papermill": {
     "duration": 0.065855,
     "end_time": "2021-04-19T00:07:46.551376",
     "exception": false,
     "start_time": "2021-04-19T00:07:46.485521",
     "status": "completed"
    },
    "tags": []
   },
   "outputs": [],
   "source": [
    "#hide\n",
    "dft_ct_new_cases = dft_cases.groupby(COL_REGION)[dt_cols].sum().diff(axis=1).fillna(0).astype(int)"
   ]
  },
  {
   "cell_type": "code",
   "execution_count": 19,
   "id": "neutral-assignment",
   "metadata": {
    "execution": {
     "iopub.execute_input": "2021-04-19T00:07:46.663750Z",
     "iopub.status.busy": "2021-04-19T00:07:46.662952Z",
     "iopub.status.idle": "2021-04-19T00:07:46.665762Z",
     "shell.execute_reply": "2021-04-19T00:07:46.665232Z"
    },
    "papermill": {
     "duration": 0.060152,
     "end_time": "2021-04-19T00:07:46.665882",
     "exception": false,
     "start_time": "2021-04-19T00:07:46.605730",
     "status": "completed"
    },
    "tags": []
   },
   "outputs": [],
   "source": [
    "#hide\n",
    "everydaycases = dft_ct_new_cases.cumsum(axis=1)"
   ]
  },
  {
   "cell_type": "code",
   "execution_count": 20,
   "id": "parliamentary-calgary",
   "metadata": {
    "execution": {
     "iopub.execute_input": "2021-04-19T00:07:46.786687Z",
     "iopub.status.busy": "2021-04-19T00:07:46.785867Z",
     "iopub.status.idle": "2021-04-19T00:07:47.579580Z",
     "shell.execute_reply": "2021-04-19T00:07:47.580147Z"
    },
    "papermill": {
     "duration": 0.85123,
     "end_time": "2021-04-19T00:07:47.580304",
     "exception": false,
     "start_time": "2021-04-19T00:07:46.729074",
     "status": "completed"
    },
    "tags": []
   },
   "outputs": [],
   "source": [
    "#hide\n",
    "import pandas as pd\n",
    "import matplotlib.pyplot as plt\n",
    "import matplotlib.ticker as ticker\n",
    "import matplotlib.animation as animation\n",
    "from IPython.display import HTML"
   ]
  },
  {
   "cell_type": "code",
   "execution_count": 21,
   "id": "lasting-extraction",
   "metadata": {
    "execution": {
     "iopub.execute_input": "2021-04-19T00:07:47.691616Z",
     "iopub.status.busy": "2021-04-19T00:07:47.690872Z",
     "iopub.status.idle": "2021-04-19T00:07:47.701164Z",
     "shell.execute_reply": "2021-04-19T00:07:47.702219Z"
    },
    "papermill": {
     "duration": 0.070996,
     "end_time": "2021-04-19T00:07:47.702549",
     "exception": false,
     "start_time": "2021-04-19T00:07:47.631553",
     "status": "completed"
    },
    "tags": []
   },
   "outputs": [],
   "source": [
    "#hide\n",
    "t = everydaycases.stack()"
   ]
  },
  {
   "cell_type": "code",
   "execution_count": 22,
   "id": "premier-sleeve",
   "metadata": {
    "execution": {
     "iopub.execute_input": "2021-04-19T00:07:47.816839Z",
     "iopub.status.busy": "2021-04-19T00:07:47.816139Z",
     "iopub.status.idle": "2021-04-19T00:07:47.825956Z",
     "shell.execute_reply": "2021-04-19T00:07:47.824976Z"
    },
    "papermill": {
     "duration": 0.062092,
     "end_time": "2021-04-19T00:07:47.826666",
     "exception": false,
     "start_time": "2021-04-19T00:07:47.764574",
     "status": "completed"
    },
    "tags": []
   },
   "outputs": [],
   "source": [
    "#hide\n",
    "g = t.reset_index(['Country/Region'])"
   ]
  },
  {
   "cell_type": "code",
   "execution_count": 23,
   "id": "distributed-pittsburgh",
   "metadata": {
    "execution": {
     "iopub.execute_input": "2021-04-19T00:07:47.935390Z",
     "iopub.status.busy": "2021-04-19T00:07:47.934199Z",
     "iopub.status.idle": "2021-04-19T00:07:47.936159Z",
     "shell.execute_reply": "2021-04-19T00:07:47.936765Z"
    },
    "papermill": {
     "duration": 0.061315,
     "end_time": "2021-04-19T00:07:47.936904",
     "exception": false,
     "start_time": "2021-04-19T00:07:47.875589",
     "status": "completed"
    },
    "tags": []
   },
   "outputs": [],
   "source": [
    "#hide\n",
    "g.index.name = 'date'"
   ]
  },
  {
   "cell_type": "code",
   "execution_count": 24,
   "id": "naked-donor",
   "metadata": {
    "execution": {
     "iopub.execute_input": "2021-04-19T00:07:48.042942Z",
     "iopub.status.busy": "2021-04-19T00:07:48.042329Z",
     "iopub.status.idle": "2021-04-19T00:07:48.046594Z",
     "shell.execute_reply": "2021-04-19T00:07:48.045745Z"
    },
    "papermill": {
     "duration": 0.055205,
     "end_time": "2021-04-19T00:07:48.046729",
     "exception": false,
     "start_time": "2021-04-19T00:07:47.991524",
     "status": "completed"
    },
    "tags": []
   },
   "outputs": [],
   "source": [
    "# #hide\n",
    "# g = g.reset_index(['date'])"
   ]
  },
  {
   "cell_type": "code",
   "execution_count": 25,
   "id": "incomplete-mustang",
   "metadata": {
    "execution": {
     "iopub.execute_input": "2021-04-19T00:07:48.148588Z",
     "iopub.status.busy": "2021-04-19T00:07:48.147934Z",
     "iopub.status.idle": "2021-04-19T00:07:48.150178Z",
     "shell.execute_reply": "2021-04-19T00:07:48.150799Z"
    },
    "papermill": {
     "duration": 0.056685,
     "end_time": "2021-04-19T00:07:48.150942",
     "exception": false,
     "start_time": "2021-04-19T00:07:48.094257",
     "status": "completed"
    },
    "tags": []
   },
   "outputs": [],
   "source": [
    "#hide\n",
    "# g.head()"
   ]
  },
  {
   "cell_type": "code",
   "execution_count": 26,
   "id": "specific-kruger",
   "metadata": {
    "execution": {
     "iopub.execute_input": "2021-04-19T00:07:48.249413Z",
     "iopub.status.busy": "2021-04-19T00:07:48.248754Z",
     "iopub.status.idle": "2021-04-19T00:07:48.250173Z",
     "shell.execute_reply": "2021-04-19T00:07:48.250833Z"
    },
    "papermill": {
     "duration": 0.052016,
     "end_time": "2021-04-19T00:07:48.251028",
     "exception": false,
     "start_time": "2021-04-19T00:07:48.199012",
     "status": "completed"
    },
    "tags": []
   },
   "outputs": [],
   "source": [
    "#hide\n",
    "# g.columns = ['date','country','cases']"
   ]
  },
  {
   "cell_type": "code",
   "execution_count": 27,
   "id": "tender-conversion",
   "metadata": {
    "execution": {
     "iopub.execute_input": "2021-04-19T00:07:48.359821Z",
     "iopub.status.busy": "2021-04-19T00:07:48.359097Z",
     "iopub.status.idle": "2021-04-19T00:07:48.360495Z",
     "shell.execute_reply": "2021-04-19T00:07:48.361044Z"
    },
    "papermill": {
     "duration": 0.051568,
     "end_time": "2021-04-19T00:07:48.361181",
     "exception": false,
     "start_time": "2021-04-19T00:07:48.309613",
     "status": "completed"
    },
    "tags": []
   },
   "outputs": [],
   "source": [
    "#hide\n",
    "# g['continent'] = g.country"
   ]
  },
  {
   "cell_type": "code",
   "execution_count": 28,
   "id": "substantial-wilderness",
   "metadata": {
    "execution": {
     "iopub.execute_input": "2021-04-19T00:07:48.471559Z",
     "iopub.status.busy": "2021-04-19T00:07:48.470837Z",
     "iopub.status.idle": "2021-04-19T00:07:48.474308Z",
     "shell.execute_reply": "2021-04-19T00:07:48.473522Z"
    },
    "papermill": {
     "duration": 0.06145,
     "end_time": "2021-04-19T00:07:48.474447",
     "exception": false,
     "start_time": "2021-04-19T00:07:48.412997",
     "status": "completed"
    },
    "tags": []
   },
   "outputs": [],
   "source": [
    "#hide\n",
    "# cols = list(g.columns.values)"
   ]
  },
  {
   "cell_type": "code",
   "execution_count": 29,
   "id": "solved-farming",
   "metadata": {
    "execution": {
     "iopub.execute_input": "2021-04-19T00:07:48.582319Z",
     "iopub.status.busy": "2021-04-19T00:07:48.581496Z",
     "iopub.status.idle": "2021-04-19T00:07:48.589337Z",
     "shell.execute_reply": "2021-04-19T00:07:48.590014Z"
    },
    "papermill": {
     "duration": 0.066017,
     "end_time": "2021-04-19T00:07:48.590423",
     "exception": false,
     "start_time": "2021-04-19T00:07:48.524406",
     "status": "completed"
    },
    "tags": []
   },
   "outputs": [],
   "source": [
    "#hide\n",
    "# cols.insert(0, cols.pop())"
   ]
  },
  {
   "cell_type": "code",
   "execution_count": 30,
   "id": "executed-adoption",
   "metadata": {
    "execution": {
     "iopub.execute_input": "2021-04-19T00:07:48.693090Z",
     "iopub.status.busy": "2021-04-19T00:07:48.691811Z",
     "iopub.status.idle": "2021-04-19T00:07:48.698952Z",
     "shell.execute_reply": "2021-04-19T00:07:48.699562Z"
    },
    "papermill": {
     "duration": 0.058738,
     "end_time": "2021-04-19T00:07:48.699715",
     "exception": false,
     "start_time": "2021-04-19T00:07:48.640977",
     "status": "completed"
    },
    "tags": []
   },
   "outputs": [],
   "source": [
    "#hide\n",
    "# g = g[cols]"
   ]
  },
  {
   "cell_type": "code",
   "execution_count": 31,
   "id": "subject-dublin",
   "metadata": {
    "execution": {
     "iopub.execute_input": "2021-04-19T00:07:48.797579Z",
     "iopub.status.busy": "2021-04-19T00:07:48.796915Z",
     "iopub.status.idle": "2021-04-19T00:07:48.799923Z",
     "shell.execute_reply": "2021-04-19T00:07:48.798904Z"
    },
    "papermill": {
     "duration": 0.050841,
     "end_time": "2021-04-19T00:07:48.800071",
     "exception": false,
     "start_time": "2021-04-19T00:07:48.749230",
     "status": "completed"
    },
    "tags": []
   },
   "outputs": [],
   "source": [
    "#hide\n",
    "# g['continent'] = g['continent'].map(mapping['map.continent'])"
   ]
  },
  {
   "cell_type": "code",
   "execution_count": 32,
   "id": "freelance-scout",
   "metadata": {
    "execution": {
     "iopub.execute_input": "2021-04-19T00:07:48.902980Z",
     "iopub.status.busy": "2021-04-19T00:07:48.902318Z",
     "iopub.status.idle": "2021-04-19T00:07:48.904852Z",
     "shell.execute_reply": "2021-04-19T00:07:48.905535Z"
    },
    "papermill": {
     "duration": 0.058631,
     "end_time": "2021-04-19T00:07:48.905908",
     "exception": false,
     "start_time": "2021-04-19T00:07:48.847277",
     "status": "completed"
    },
    "tags": []
   },
   "outputs": [],
   "source": [
    "#hide\n",
    "# g.head()"
   ]
  },
  {
   "cell_type": "code",
   "execution_count": 33,
   "id": "limited-engine",
   "metadata": {
    "execution": {
     "iopub.execute_input": "2021-04-19T00:07:49.001000Z",
     "iopub.status.busy": "2021-04-19T00:07:49.000292Z",
     "iopub.status.idle": "2021-04-19T00:07:49.002778Z",
     "shell.execute_reply": "2021-04-19T00:07:49.002240Z"
    },
    "papermill": {
     "duration": 0.052756,
     "end_time": "2021-04-19T00:07:49.002898",
     "exception": false,
     "start_time": "2021-04-19T00:07:48.950142",
     "status": "completed"
    },
    "tags": []
   },
   "outputs": [],
   "source": [
    "# hide\n",
    "# g['date'] = g['date'].astype('datetime64[ns]')"
   ]
  },
  {
   "cell_type": "code",
   "execution_count": 34,
   "id": "sophisticated-supervisor",
   "metadata": {
    "execution": {
     "iopub.execute_input": "2021-04-19T00:07:49.102533Z",
     "iopub.status.busy": "2021-04-19T00:07:49.101901Z",
     "iopub.status.idle": "2021-04-19T00:07:49.104788Z",
     "shell.execute_reply": "2021-04-19T00:07:49.104033Z"
    },
    "papermill": {
     "duration": 0.057667,
     "end_time": "2021-04-19T00:07:49.104914",
     "exception": false,
     "start_time": "2021-04-19T00:07:49.047247",
     "status": "completed"
    },
    "tags": []
   },
   "outputs": [],
   "source": [
    "#hide\n",
    "# g['date'] = g.date.dt.dayofyear"
   ]
  },
  {
   "cell_type": "code",
   "execution_count": 35,
   "id": "inside-dubai",
   "metadata": {
    "execution": {
     "iopub.execute_input": "2021-04-19T00:07:49.202855Z",
     "iopub.status.busy": "2021-04-19T00:07:49.202154Z",
     "iopub.status.idle": "2021-04-19T00:07:49.204903Z",
     "shell.execute_reply": "2021-04-19T00:07:49.203971Z"
    },
    "papermill": {
     "duration": 0.05673,
     "end_time": "2021-04-19T00:07:49.205114",
     "exception": false,
     "start_time": "2021-04-19T00:07:49.148384",
     "status": "completed"
    },
    "tags": []
   },
   "outputs": [],
   "source": [
    "#hide\n",
    "# g = g.rename(columns= {'continent':'group','country':'name','cases':'value'})"
   ]
  },
  {
   "cell_type": "code",
   "execution_count": 36,
   "id": "fleet-motorcycle",
   "metadata": {
    "execution": {
     "iopub.execute_input": "2021-04-19T00:07:49.327145Z",
     "iopub.status.busy": "2021-04-19T00:07:49.326517Z",
     "iopub.status.idle": "2021-04-19T00:07:49.331327Z",
     "shell.execute_reply": "2021-04-19T00:07:49.330654Z"
    },
    "papermill": {
     "duration": 0.065426,
     "end_time": "2021-04-19T00:07:49.331459",
     "exception": false,
     "start_time": "2021-04-19T00:07:49.266033",
     "status": "completed"
    },
    "tags": []
   },
   "outputs": [],
   "source": [
    "#hide\n",
    "# cols = ['name','group','day','value']"
   ]
  },
  {
   "cell_type": "code",
   "execution_count": 37,
   "id": "continued-sleeping",
   "metadata": {
    "execution": {
     "iopub.execute_input": "2021-04-19T00:07:49.433673Z",
     "iopub.status.busy": "2021-04-19T00:07:49.432955Z",
     "iopub.status.idle": "2021-04-19T00:07:49.435335Z",
     "shell.execute_reply": "2021-04-19T00:07:49.435937Z"
    },
    "papermill": {
     "duration": 0.057099,
     "end_time": "2021-04-19T00:07:49.436086",
     "exception": false,
     "start_time": "2021-04-19T00:07:49.378987",
     "status": "completed"
    },
    "tags": []
   },
   "outputs": [],
   "source": [
    "#hide\n",
    "# g.rename(columns= {'date':'day'},inplace = True)"
   ]
  },
  {
   "cell_type": "code",
   "execution_count": 38,
   "id": "major-fight",
   "metadata": {
    "execution": {
     "iopub.execute_input": "2021-04-19T00:07:49.534833Z",
     "iopub.status.busy": "2021-04-19T00:07:49.534165Z",
     "iopub.status.idle": "2021-04-19T00:07:49.536885Z",
     "shell.execute_reply": "2021-04-19T00:07:49.536278Z"
    },
    "papermill": {
     "duration": 0.054822,
     "end_time": "2021-04-19T00:07:49.537009",
     "exception": false,
     "start_time": "2021-04-19T00:07:49.482187",
     "status": "completed"
    },
    "tags": []
   },
   "outputs": [],
   "source": [
    "#hide\n",
    "# g = g[cols]"
   ]
  },
  {
   "cell_type": "code",
   "execution_count": 39,
   "id": "structured-mobile",
   "metadata": {
    "execution": {
     "iopub.execute_input": "2021-04-19T00:07:49.645795Z",
     "iopub.status.busy": "2021-04-19T00:07:49.645027Z",
     "iopub.status.idle": "2021-04-19T00:07:49.647679Z",
     "shell.execute_reply": "2021-04-19T00:07:49.646880Z"
    },
    "papermill": {
     "duration": 0.063942,
     "end_time": "2021-04-19T00:07:49.647807",
     "exception": false,
     "start_time": "2021-04-19T00:07:49.583865",
     "status": "completed"
    },
    "tags": []
   },
   "outputs": [],
   "source": [
    "# #hide\n",
    "# g = g[g.group.notna()]"
   ]
  },
  {
   "cell_type": "code",
   "execution_count": 40,
   "id": "determined-closing",
   "metadata": {
    "execution": {
     "iopub.execute_input": "2021-04-19T00:07:49.760398Z",
     "iopub.status.busy": "2021-04-19T00:07:49.759693Z",
     "iopub.status.idle": "2021-04-19T00:07:49.762378Z",
     "shell.execute_reply": "2021-04-19T00:07:49.761634Z"
    },
    "papermill": {
     "duration": 0.066065,
     "end_time": "2021-04-19T00:07:49.762522",
     "exception": false,
     "start_time": "2021-04-19T00:07:49.696457",
     "status": "completed"
    },
    "tags": []
   },
   "outputs": [],
   "source": [
    "# #hide\n",
    "# colors = dict(zip(\n",
    "#     [\"Oceania\", \"Europe\", \"Asia\", \"South America\", \"Middle East\", \"North America\", \"Africa\"],\n",
    "#     [\"#adb0ff\", \"#ffb3ff\", \"#90d595\", \"#e48381\", \"#aafbff\", \"#f7bb5f\", \"#eafb50\"]\n",
    "# ))\n",
    "# group_lk = g.set_index('name')['group'].to_dict()"
   ]
  },
  {
   "cell_type": "code",
   "execution_count": null,
   "id": "gross-drinking",
   "metadata": {
    "papermill": {
     "duration": 0.055381,
     "end_time": "2021-04-19T00:07:49.868544",
     "exception": false,
     "start_time": "2021-04-19T00:07:49.813163",
     "status": "completed"
    },
    "tags": []
   },
   "outputs": [],
   "source": []
  },
  {
   "cell_type": "code",
   "execution_count": 41,
   "id": "subject-macintosh",
   "metadata": {
    "execution": {
     "iopub.execute_input": "2021-04-19T00:07:49.973189Z",
     "iopub.status.busy": "2021-04-19T00:07:49.972286Z",
     "iopub.status.idle": "2021-04-19T00:07:49.975597Z",
     "shell.execute_reply": "2021-04-19T00:07:49.976225Z"
    },
    "papermill": {
     "duration": 0.055371,
     "end_time": "2021-04-19T00:07:49.976385",
     "exception": false,
     "start_time": "2021-04-19T00:07:49.921014",
     "status": "completed"
    },
    "tags": []
   },
   "outputs": [],
   "source": [
    "# #hide\n",
    "# fig, ax = plt.subplots(figsize=(15, 8))\n",
    "\n",
    "# def draw_barchart(current_day):\n",
    "#     dff = g[g['day'].eq(current_day)].sort_values(by='value', ascending=True).tail(10)\n",
    "#     ax.clear()\n",
    "#     ax.barh(dff['name'], dff['value'], color=[colors[group_lk[x]] for x in dff['name']])\n",
    "#     dx = dff['value'].max() / 200\n",
    "    \n",
    "#     for i, (value, name) in enumerate(zip(dff['value'], dff['name'])):\n",
    "#         ax.text(value-dx, i,     name,           size=14, weight=600, ha='right', va='bottom')\n",
    "#         ax.text(value-dx, i-.25, group_lk[name], size=10, color='#444444', ha='right', va='baseline')\n",
    "#         ax.text(value+dx, i,     f'{value:,.0f}',  size=14, ha='left',  va='center')\n",
    "#     ax.text(1, 0.4, current_day, transform=ax.transAxes, color='#777777', size=46, ha='right', weight=800)\n",
    "#     ax.text(0, 1.06, 'Population (thousands)', transform=ax.transAxes, size=12, color='#777777')\n",
    "#     ax.xaxis.set_major_formatter(ticker.StrMethodFormatter('{x:,.0f}'))\n",
    "#     ax.xaxis.set_ticks_position('top')\n",
    "#     ax.tick_params(axis='x', colors='#777777', labelsize=12)\n",
    "#     ax.set_yticks([])\n",
    "#     ax.margins(0, 0.01)\n",
    "#     ax.grid(which='major', axis='x', linestyle='-')\n",
    "#     ax.set_axisbelow(True)\n",
    "    \n",
    "#     ax.text(0, 1.15, 'Coronavirus',\n",
    "#             transform=ax.transAxes, size=24, weight=600, ha='left', va='top')\n",
    "# #     ax.text(1, 0, 'by @pratapvardhan; credit @jburnmurdoch', transform=ax.transAxes, color='#777777', ha='right',\n",
    "# #             bbox=dict(facecolor='white', alpha=0.8, edgecolor='white'))\n",
    "#     plt.box(False)"
   ]
  },
  {
   "cell_type": "code",
   "execution_count": 42,
   "id": "sexual-wages",
   "metadata": {
    "execution": {
     "iopub.execute_input": "2021-04-19T00:07:50.073608Z",
     "iopub.status.busy": "2021-04-19T00:07:50.072897Z",
     "iopub.status.idle": "2021-04-19T00:07:50.074826Z",
     "shell.execute_reply": "2021-04-19T00:07:50.075587Z"
    },
    "papermill": {
     "duration": 0.050767,
     "end_time": "2021-04-19T00:07:50.075733",
     "exception": false,
     "start_time": "2021-04-19T00:07:50.024966",
     "status": "completed"
    },
    "tags": []
   },
   "outputs": [],
   "source": [
    "# #hide_input\n",
    "# fig, ax = plt.subplots(figsize=(15, 8))\n",
    "# animator = animation.FuncAnimation(fig, draw_barchart, frames=range(g.day.values.min(), g.day.values.max()))\n",
    "# HTML(animator.to_jshtml())\n",
    "# # or use animator.to_html5_video() or animator.save() "
   ]
  },
  {
   "cell_type": "code",
   "execution_count": null,
   "id": "australian-container",
   "metadata": {
    "papermill": {
     "duration": 0.047065,
     "end_time": "2021-04-19T00:07:50.170052",
     "exception": false,
     "start_time": "2021-04-19T00:07:50.122987",
     "status": "completed"
    },
    "tags": []
   },
   "outputs": [],
   "source": []
  },
  {
   "cell_type": "code",
   "execution_count": null,
   "id": "mediterranean-pontiac",
   "metadata": {
    "papermill": {
     "duration": 0.047077,
     "end_time": "2021-04-19T00:07:50.265699",
     "exception": false,
     "start_time": "2021-04-19T00:07:50.218622",
     "status": "completed"
    },
    "tags": []
   },
   "outputs": [],
   "source": []
  },
  {
   "cell_type": "code",
   "execution_count": null,
   "id": "aging-legislature",
   "metadata": {
    "papermill": {
     "duration": 0.053187,
     "end_time": "2021-04-19T00:07:50.364688",
     "exception": false,
     "start_time": "2021-04-19T00:07:50.311501",
     "status": "completed"
    },
    "tags": []
   },
   "outputs": [],
   "source": []
  }
 ],
 "metadata": {
  "kernelspec": {
   "display_name": "Python 3",
   "language": "python",
   "name": "python3"
  },
  "language_info": {
   "codemirror_mode": {
    "name": "ipython",
    "version": 3
   },
   "file_extension": ".py",
   "mimetype": "text/x-python",
   "name": "python",
   "nbconvert_exporter": "python",
   "pygments_lexer": "ipython3",
   "version": "3.6.13"
  },
  "papermill": {
   "duration": 9.479536,
   "end_time": "2021-04-19T00:07:51.633467",
   "environment_variables": {},
   "exception": null,
   "input_path": "2020-03-21-covid19exp.ipynb",
   "output_path": "2020-03-21-covid19exp.ipynb",
   "parameters": {},
   "start_time": "2021-04-19T00:07:42.153931",
   "version": "2.0.0"
  }
 },
 "nbformat": 4,
 "nbformat_minor": 5
}