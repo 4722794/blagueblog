{
 "cells": [
  {
   "cell_type": "markdown",
   "id": "muslim-click",
   "metadata": {
    "papermill": {
     "duration": 0.042223,
     "end_time": "2022-07-01T12:17:39.060476",
     "exception": false,
     "start_time": "2022-07-01T12:17:39.018253",
     "status": "completed"
    },
    "tags": []
   },
   "source": [
    "# COVID-19 Case Race\n",
    "> A race chart to see rising cases around the world\n",
    "\n",
    "- author: Hargun Oberoi\n",
    "- image: images/covid-overview.png\n",
    "- hide: false\n",
    "- badges: false"
   ]
  },
  {
   "cell_type": "code",
   "execution_count": 1,
   "id": "proof-material",
   "metadata": {
    "execution": {
     "iopub.execute_input": "2022-07-01T12:17:39.146051Z",
     "iopub.status.busy": "2022-07-01T12:17:39.145243Z",
     "iopub.status.idle": "2022-07-01T12:17:39.533935Z",
     "shell.execute_reply": "2022-07-01T12:17:39.533224Z"
    },
    "papermill": {
     "duration": 0.433696,
     "end_time": "2022-07-01T12:17:39.534097",
     "exception": false,
     "start_time": "2022-07-01T12:17:39.100401",
     "status": "completed"
    },
    "tags": []
   },
   "outputs": [],
   "source": [
    "#hide\n",
    "import numpy as np\n",
    "import pandas as pd\n",
    "from jinja2 import Template\n",
    "from IPython.display import HTML"
   ]
  },
  {
   "cell_type": "code",
   "execution_count": 2,
   "id": "developed-terminology",
   "metadata": {
    "execution": {
     "iopub.execute_input": "2022-07-01T12:17:39.613663Z",
     "iopub.status.busy": "2022-07-01T12:17:39.612774Z",
     "iopub.status.idle": "2022-07-01T12:17:39.615444Z",
     "shell.execute_reply": "2022-07-01T12:17:39.615981Z"
    },
    "papermill": {
     "duration": 0.044688,
     "end_time": "2022-07-01T12:17:39.616144",
     "exception": false,
     "start_time": "2022-07-01T12:17:39.571456",
     "status": "completed"
    },
    "tags": []
   },
   "outputs": [],
   "source": [
    "#hide\n",
    "\n",
    "# FETCH\n",
    "base_url = 'https://raw.githubusercontent.com/pratapvardhan/notebooks/master/covid19/'\n",
    "paths = {\n",
    "    'mapping': base_url + 'mapping_countries.csv',\n",
    "    'overview': base_url + 'overview.tpl'\n",
    "}"
   ]
  },
  {
   "cell_type": "code",
   "execution_count": 3,
   "id": "dynamic-saver",
   "metadata": {
    "execution": {
     "iopub.execute_input": "2022-07-01T12:17:39.705735Z",
     "iopub.status.busy": "2022-07-01T12:17:39.704972Z",
     "iopub.status.idle": "2022-07-01T12:17:39.709242Z",
     "shell.execute_reply": "2022-07-01T12:17:39.708644Z"
    },
    "papermill": {
     "duration": 0.054328,
     "end_time": "2022-07-01T12:17:39.709372",
     "exception": false,
     "start_time": "2022-07-01T12:17:39.655044",
     "status": "completed"
    },
    "tags": []
   },
   "outputs": [
    {
     "data": {
      "text/plain": [
       "'https://raw.githubusercontent.com/pratapvardhan/notebooks/master/covid19/mapping_countries.csv'"
      ]
     },
     "execution_count": 3,
     "metadata": {},
     "output_type": "execute_result"
    }
   ],
   "source": [
    "#hide\n",
    "paths['mapping']"
   ]
  },
  {
   "cell_type": "code",
   "execution_count": 4,
   "id": "urban-software",
   "metadata": {
    "execution": {
     "iopub.execute_input": "2022-07-01T12:17:39.790805Z",
     "iopub.status.busy": "2022-07-01T12:17:39.790077Z",
     "iopub.status.idle": "2022-07-01T12:17:39.792806Z",
     "shell.execute_reply": "2022-07-01T12:17:39.793533Z"
    },
    "papermill": {
     "duration": 0.04583,
     "end_time": "2022-07-01T12:17:39.793689",
     "exception": false,
     "start_time": "2022-07-01T12:17:39.747859",
     "status": "completed"
    },
    "tags": []
   },
   "outputs": [],
   "source": [
    "#hide\n",
    "def get_mappings(url):\n",
    "    df = pd.read_csv(url)\n",
    "    return {\n",
    "        'df': df,\n",
    "        'replace.country': dict(df.dropna(subset=['Name']).set_index('Country')['Name']),\n",
    "        'map.continent': dict(df.set_index('Name')['Continent'])\n",
    "    }"
   ]
  },
  {
   "cell_type": "code",
   "execution_count": 5,
   "id": "intimate-machinery",
   "metadata": {
    "execution": {
     "iopub.execute_input": "2022-07-01T12:17:39.874036Z",
     "iopub.status.busy": "2022-07-01T12:17:39.873273Z",
     "iopub.status.idle": "2022-07-01T12:17:39.902056Z",
     "shell.execute_reply": "2022-07-01T12:17:39.901408Z"
    },
    "papermill": {
     "duration": 0.071277,
     "end_time": "2022-07-01T12:17:39.902181",
     "exception": false,
     "start_time": "2022-07-01T12:17:39.830904",
     "status": "completed"
    },
    "tags": []
   },
   "outputs": [],
   "source": [
    "#hide\n",
    "mapping = get_mappings(paths['mapping'])"
   ]
  },
  {
   "cell_type": "code",
   "execution_count": 6,
   "id": "certified-tactics",
   "metadata": {
    "execution": {
     "iopub.execute_input": "2022-07-01T12:17:39.985197Z",
     "iopub.status.busy": "2022-07-01T12:17:39.984456Z",
     "iopub.status.idle": "2022-07-01T12:17:39.987728Z",
     "shell.execute_reply": "2022-07-01T12:17:39.987125Z"
    },
    "papermill": {
     "duration": 0.047904,
     "end_time": "2022-07-01T12:17:39.987861",
     "exception": false,
     "start_time": "2022-07-01T12:17:39.939957",
     "status": "completed"
    },
    "tags": []
   },
   "outputs": [],
   "source": [
    "#hide\n",
    "def get_template(path):\n",
    "    from urllib.parse import urlparse\n",
    "    if bool(urlparse(path).netloc):\n",
    "        from urllib.request import urlopen\n",
    "        return urlopen(path).read().decode('utf8')\n",
    "    return open(path).read()"
   ]
  },
  {
   "cell_type": "code",
   "execution_count": 7,
   "id": "realistic-blast",
   "metadata": {
    "execution": {
     "iopub.execute_input": "2022-07-01T12:17:40.082751Z",
     "iopub.status.busy": "2022-07-01T12:17:40.081954Z",
     "iopub.status.idle": "2022-07-01T12:17:40.085794Z",
     "shell.execute_reply": "2022-07-01T12:17:40.085052Z"
    },
    "papermill": {
     "duration": 0.05762,
     "end_time": "2022-07-01T12:17:40.085923",
     "exception": false,
     "start_time": "2022-07-01T12:17:40.028303",
     "status": "completed"
    },
    "tags": []
   },
   "outputs": [],
   "source": [
    "#hide\n",
    "def get_frame(name):\n",
    "    url = (\n",
    "        'https://raw.githubusercontent.com/CSSEGISandData/COVID-19/master/csse_covid_19_data/'\n",
    "        f'csse_covid_19_time_series/time_series_covid19_{name}_global.csv')\n",
    "    df = pd.read_csv(url)\n",
    "    # rename countries\n",
    "    df['Country/Region'] = df['Country/Region'].replace(mapping['replace.country'])\n",
    "    return df"
   ]
  },
  {
   "cell_type": "code",
   "execution_count": 8,
   "id": "affiliated-characterization",
   "metadata": {
    "execution": {
     "iopub.execute_input": "2022-07-01T12:17:40.165076Z",
     "iopub.status.busy": "2022-07-01T12:17:40.164340Z",
     "iopub.status.idle": "2022-07-01T12:17:40.167479Z",
     "shell.execute_reply": "2022-07-01T12:17:40.166940Z"
    },
    "papermill": {
     "duration": 0.044081,
     "end_time": "2022-07-01T12:17:40.167595",
     "exception": false,
     "start_time": "2022-07-01T12:17:40.123514",
     "status": "completed"
    },
    "tags": []
   },
   "outputs": [],
   "source": [
    "#hide\n",
    "def get_dates(df):\n",
    "    dt_cols = df.columns[~df.columns.isin(['Province/State', 'Country/Region', 'Lat', 'Long'])]\n",
    "    LAST_DATE_I = -1\n",
    "    # sometimes last column may be empty, then go backwards\n",
    "    for i in range(-1, -len(dt_cols), -1):\n",
    "        if not df[dt_cols[i]].fillna(0).eq(0).all():\n",
    "            LAST_DATE_I = i\n",
    "            break\n",
    "    return LAST_DATE_I, dt_cols"
   ]
  },
  {
   "cell_type": "code",
   "execution_count": 9,
   "id": "recent-optimization",
   "metadata": {
    "execution": {
     "iopub.execute_input": "2022-07-01T12:17:40.244521Z",
     "iopub.status.busy": "2022-07-01T12:17:40.243842Z",
     "iopub.status.idle": "2022-07-01T12:17:40.668401Z",
     "shell.execute_reply": "2022-07-01T12:17:40.668970Z"
    },
    "papermill": {
     "duration": 0.465699,
     "end_time": "2022-07-01T12:17:40.669138",
     "exception": false,
     "start_time": "2022-07-01T12:17:40.203439",
     "status": "completed"
    },
    "tags": []
   },
   "outputs": [],
   "source": [
    "#hide\n",
    "COL_REGION = 'Country/Region'\n",
    "# Confirmed, Recovered, Deaths\n",
    "df = get_frame('confirmed')\n",
    "# dft_: timeseries, dfc_: today country agg\n",
    "dft_cases = df\n",
    "dft_deaths = get_frame('deaths')\n",
    "dft_recovered = get_frame('recovered')\n",
    "LAST_DATE_I, dt_cols = get_dates(df)"
   ]
  },
  {
   "cell_type": "code",
   "execution_count": 10,
   "id": "absolute-copper",
   "metadata": {
    "execution": {
     "iopub.execute_input": "2022-07-01T12:17:40.751617Z",
     "iopub.status.busy": "2022-07-01T12:17:40.750832Z",
     "iopub.status.idle": "2022-07-01T12:17:40.753923Z",
     "shell.execute_reply": "2022-07-01T12:17:40.753308Z"
    },
    "papermill": {
     "duration": 0.047112,
     "end_time": "2022-07-01T12:17:40.754060",
     "exception": false,
     "start_time": "2022-07-01T12:17:40.706948",
     "status": "completed"
    },
    "tags": []
   },
   "outputs": [],
   "source": [
    "#hide\n",
    "LAST_DATE_I, dt_cols = get_dates(df)\n",
    "dt_today =dt_cols[LAST_DATE_I]\n",
    "# dt_5day = dt_cols[LAST_DATE_I - 5]\n",
    "dt_yday = dt_cols[LAST_DATE_I - 1]"
   ]
  },
  {
   "cell_type": "code",
   "execution_count": 11,
   "id": "restricted-sheriff",
   "metadata": {
    "execution": {
     "iopub.execute_input": "2022-07-01T12:17:40.839451Z",
     "iopub.status.busy": "2022-07-01T12:17:40.838759Z",
     "iopub.status.idle": "2022-07-01T12:17:40.844530Z",
     "shell.execute_reply": "2022-07-01T12:17:40.845160Z"
    },
    "papermill": {
     "duration": 0.054035,
     "end_time": "2022-07-01T12:17:40.845293",
     "exception": false,
     "start_time": "2022-07-01T12:17:40.791258",
     "status": "completed"
    },
    "tags": []
   },
   "outputs": [],
   "source": [
    "#hide\n",
    "dfc_cases = dft_cases.groupby(COL_REGION)[dt_today].sum()\n",
    "dfc_deaths = dft_deaths.groupby(COL_REGION)[dt_today].sum()\n",
    "# dfp_cases = dft_cases.groupby(COL_REGION)[dt_5day].sum()\n",
    "# dfp_deaths = dft_deaths.groupby(COL_REGION)[dt_5day].sum()\n",
    "dfp_cases = dft_cases.groupby(COL_REGION)[dt_yday].sum()\n",
    "dfp_deaths = dft_deaths.groupby(COL_REGION)[dt_yday].sum()"
   ]
  },
  {
   "cell_type": "code",
   "execution_count": 12,
   "id": "deluxe-hepatitis",
   "metadata": {
    "execution": {
     "iopub.execute_input": "2022-07-01T12:17:40.922489Z",
     "iopub.status.busy": "2022-07-01T12:17:40.921642Z",
     "iopub.status.idle": "2022-07-01T12:17:40.927696Z",
     "shell.execute_reply": "2022-07-01T12:17:40.927112Z"
    },
    "papermill": {
     "duration": 0.048114,
     "end_time": "2022-07-01T12:17:40.927820",
     "exception": false,
     "start_time": "2022-07-01T12:17:40.879706",
     "status": "completed"
    },
    "tags": []
   },
   "outputs": [],
   "source": [
    "#hide\n",
    "df_table = (pd.DataFrame(dict(Cases = dfc_cases, Deaths = dfc_deaths, PCases = dfp_cases, PDeaths = dfp_deaths))\n",
    "            .sort_values(by = ['Cases','Deaths'], ascending = [False, False])\n",
    "            .reset_index())"
   ]
  },
  {
   "cell_type": "code",
   "execution_count": 13,
   "id": "educational-chancellor",
   "metadata": {
    "execution": {
     "iopub.execute_input": "2022-07-01T12:17:41.026975Z",
     "iopub.status.busy": "2022-07-01T12:17:41.026068Z",
     "iopub.status.idle": "2022-07-01T12:17:41.030559Z",
     "shell.execute_reply": "2022-07-01T12:17:41.029946Z"
    },
    "papermill": {
     "duration": 0.066178,
     "end_time": "2022-07-01T12:17:41.030696",
     "exception": false,
     "start_time": "2022-07-01T12:17:40.964518",
     "status": "completed"
    },
    "tags": []
   },
   "outputs": [
    {
     "data": {
      "text/html": [
       "<div>\n",
       "<style scoped>\n",
       "    .dataframe tbody tr th:only-of-type {\n",
       "        vertical-align: middle;\n",
       "    }\n",
       "\n",
       "    .dataframe tbody tr th {\n",
       "        vertical-align: top;\n",
       "    }\n",
       "\n",
       "    .dataframe thead th {\n",
       "        text-align: right;\n",
       "    }\n",
       "</style>\n",
       "<table border=\"1\" class=\"dataframe\">\n",
       "  <thead>\n",
       "    <tr style=\"text-align: right;\">\n",
       "      <th></th>\n",
       "      <th>Country/Region</th>\n",
       "      <th>Cases</th>\n",
       "      <th>Deaths</th>\n",
       "      <th>PCases</th>\n",
       "      <th>PDeaths</th>\n",
       "      <th>Cases (+)</th>\n",
       "      <th>Deaths (+)</th>\n",
       "      <th>Fatality Rate</th>\n",
       "      <th>Continent</th>\n",
       "    </tr>\n",
       "  </thead>\n",
       "  <tbody>\n",
       "    <tr>\n",
       "      <th>0</th>\n",
       "      <td>US</td>\n",
       "      <td>87623593</td>\n",
       "      <td>1017266</td>\n",
       "      <td>87487627</td>\n",
       "      <td>1017467</td>\n",
       "      <td>135966</td>\n",
       "      <td>0</td>\n",
       "      <td>1.16</td>\n",
       "      <td>North America</td>\n",
       "    </tr>\n",
       "    <tr>\n",
       "      <th>1</th>\n",
       "      <td>India</td>\n",
       "      <td>43469234</td>\n",
       "      <td>525139</td>\n",
       "      <td>43452164</td>\n",
       "      <td>525116</td>\n",
       "      <td>17070</td>\n",
       "      <td>23</td>\n",
       "      <td>1.21</td>\n",
       "      <td>Asia</td>\n",
       "    </tr>\n",
       "    <tr>\n",
       "      <th>2</th>\n",
       "      <td>Brazil</td>\n",
       "      <td>32358018</td>\n",
       "      <td>671416</td>\n",
       "      <td>32206954</td>\n",
       "      <td>670848</td>\n",
       "      <td>151064</td>\n",
       "      <td>568</td>\n",
       "      <td>2.07</td>\n",
       "      <td>South America</td>\n",
       "    </tr>\n",
       "    <tr>\n",
       "      <th>3</th>\n",
       "      <td>France</td>\n",
       "      <td>31285317</td>\n",
       "      <td>150572</td>\n",
       "      <td>31151971</td>\n",
       "      <td>150530</td>\n",
       "      <td>133346</td>\n",
       "      <td>42</td>\n",
       "      <td>0.48</td>\n",
       "      <td>Europe</td>\n",
       "    </tr>\n",
       "    <tr>\n",
       "      <th>4</th>\n",
       "      <td>Germany</td>\n",
       "      <td>28293960</td>\n",
       "      <td>141189</td>\n",
       "      <td>28180861</td>\n",
       "      <td>141105</td>\n",
       "      <td>113099</td>\n",
       "      <td>84</td>\n",
       "      <td>0.50</td>\n",
       "      <td>Europe</td>\n",
       "    </tr>\n",
       "  </tbody>\n",
       "</table>\n",
       "</div>"
      ],
      "text/plain": [
       "  Country/Region     Cases   Deaths    PCases  PDeaths  Cases (+)  Deaths (+)  \\\n",
       "0             US  87623593  1017266  87487627  1017467     135966           0   \n",
       "1          India  43469234   525139  43452164   525116      17070          23   \n",
       "2         Brazil  32358018   671416  32206954   670848     151064         568   \n",
       "3         France  31285317   150572  31151971   150530     133346          42   \n",
       "4        Germany  28293960   141189  28180861   141105     113099          84   \n",
       "\n",
       "   Fatality Rate      Continent  \n",
       "0           1.16  North America  \n",
       "1           1.21           Asia  \n",
       "2           2.07  South America  \n",
       "3           0.48         Europe  \n",
       "4           0.50         Europe  "
      ]
     },
     "execution_count": 13,
     "metadata": {},
     "output_type": "execute_result"
    }
   ],
   "source": [
    "#hide\n",
    "for c in 'Cases, Deaths'.split(', '):\n",
    "    df_table[f'{c} (+)'] = (df_table[c] - df_table[f'P{c}']).clip(0)\n",
    "    #Clip ça veut dire, les chiffres negatif sont interdit\n",
    "df_table['Fatality Rate'] = (100* df_table['Deaths']/ df_table['Cases']).round(2)\n",
    "df_table['Continent'] = df_table['Country/Region'].map(mapping['map.continent'])\n",
    "df_table.head(5)"
   ]
  },
  {
   "cell_type": "code",
   "execution_count": 14,
   "id": "aboriginal-bulgaria",
   "metadata": {
    "execution": {
     "iopub.execute_input": "2022-07-01T12:17:41.108968Z",
     "iopub.status.busy": "2022-07-01T12:17:41.108212Z",
     "iopub.status.idle": "2022-07-01T12:17:41.111848Z",
     "shell.execute_reply": "2022-07-01T12:17:41.112527Z"
    },
    "papermill": {
     "duration": 0.045063,
     "end_time": "2022-07-01T12:17:41.112655",
     "exception": false,
     "start_time": "2022-07-01T12:17:41.067592",
     "status": "completed"
    },
    "tags": []
   },
   "outputs": [],
   "source": [
    "#hide\n",
    "#delete problematic countries from table\n",
    "df_table = df_table[~df_table['Country/Region'].isin(['Cape Verde', 'Cruise Ship', 'Kosovo'])]"
   ]
  },
  {
   "cell_type": "code",
   "execution_count": 15,
   "id": "fantastic-effect",
   "metadata": {
    "execution": {
     "iopub.execute_input": "2022-07-01T12:17:41.199184Z",
     "iopub.status.busy": "2022-07-01T12:17:41.197181Z",
     "iopub.status.idle": "2022-07-01T12:17:41.216275Z",
     "shell.execute_reply": "2022-07-01T12:17:41.216858Z"
    },
    "papermill": {
     "duration": 0.06884,
     "end_time": "2022-07-01T12:17:41.217019",
     "exception": false,
     "start_time": "2022-07-01T12:17:41.148179",
     "status": "completed"
    },
    "tags": []
   },
   "outputs": [
    {
     "data": {
      "text/html": [
       "<div>\n",
       "<style scoped>\n",
       "    .dataframe tbody tr th:only-of-type {\n",
       "        vertical-align: middle;\n",
       "    }\n",
       "\n",
       "    .dataframe tbody tr th {\n",
       "        vertical-align: top;\n",
       "    }\n",
       "\n",
       "    .dataframe thead th {\n",
       "        text-align: right;\n",
       "    }\n",
       "</style>\n",
       "<table border=\"1\" class=\"dataframe\">\n",
       "  <thead>\n",
       "    <tr style=\"text-align: right;\">\n",
       "      <th></th>\n",
       "      <th>Country/Region</th>\n",
       "      <th>Cases</th>\n",
       "      <th>Deaths</th>\n",
       "      <th>PCases</th>\n",
       "      <th>PDeaths</th>\n",
       "      <th>Cases (+)</th>\n",
       "      <th>Deaths (+)</th>\n",
       "      <th>Fatality Rate</th>\n",
       "      <th>Continent</th>\n",
       "    </tr>\n",
       "  </thead>\n",
       "  <tbody>\n",
       "    <tr>\n",
       "      <th>0</th>\n",
       "      <td>US</td>\n",
       "      <td>87623593</td>\n",
       "      <td>1017266</td>\n",
       "      <td>87487627</td>\n",
       "      <td>1017467</td>\n",
       "      <td>135966</td>\n",
       "      <td>0</td>\n",
       "      <td>1.2</td>\n",
       "      <td>North America</td>\n",
       "    </tr>\n",
       "    <tr>\n",
       "      <th>1</th>\n",
       "      <td>India</td>\n",
       "      <td>43469234</td>\n",
       "      <td>525139</td>\n",
       "      <td>43452164</td>\n",
       "      <td>525116</td>\n",
       "      <td>17070</td>\n",
       "      <td>23</td>\n",
       "      <td>1.2</td>\n",
       "      <td>Asia</td>\n",
       "    </tr>\n",
       "    <tr>\n",
       "      <th>2</th>\n",
       "      <td>Brazil</td>\n",
       "      <td>32358018</td>\n",
       "      <td>671416</td>\n",
       "      <td>32206954</td>\n",
       "      <td>670848</td>\n",
       "      <td>151064</td>\n",
       "      <td>568</td>\n",
       "      <td>2.1</td>\n",
       "      <td>South America</td>\n",
       "    </tr>\n",
       "    <tr>\n",
       "      <th>3</th>\n",
       "      <td>France</td>\n",
       "      <td>31285317</td>\n",
       "      <td>150572</td>\n",
       "      <td>31151971</td>\n",
       "      <td>150530</td>\n",
       "      <td>133346</td>\n",
       "      <td>42</td>\n",
       "      <td>0.5</td>\n",
       "      <td>Europe</td>\n",
       "    </tr>\n",
       "    <tr>\n",
       "      <th>4</th>\n",
       "      <td>Germany</td>\n",
       "      <td>28293960</td>\n",
       "      <td>141189</td>\n",
       "      <td>28180861</td>\n",
       "      <td>141105</td>\n",
       "      <td>113099</td>\n",
       "      <td>84</td>\n",
       "      <td>0.5</td>\n",
       "      <td>Europe</td>\n",
       "    </tr>\n",
       "  </tbody>\n",
       "</table>\n",
       "</div>"
      ],
      "text/plain": [
       "  Country/Region     Cases   Deaths    PCases  PDeaths  Cases (+)  Deaths (+)  \\\n",
       "0             US  87623593  1017266  87487627  1017467     135966           0   \n",
       "1          India  43469234   525139  43452164   525116      17070          23   \n",
       "2         Brazil  32358018   671416  32206954   670848     151064         568   \n",
       "3         France  31285317   150572  31151971   150530     133346          42   \n",
       "4        Germany  28293960   141189  28180861   141105     113099          84   \n",
       "\n",
       "   Fatality Rate      Continent  \n",
       "0            1.2  North America  \n",
       "1            1.2           Asia  \n",
       "2            2.1  South America  \n",
       "3            0.5         Europe  \n",
       "4            0.5         Europe  "
      ]
     },
     "execution_count": 15,
     "metadata": {},
     "output_type": "execute_result"
    }
   ],
   "source": [
    "#hide\n",
    "df_table = (pd.DataFrame(dict(Cases=dfc_cases, Deaths=dfc_deaths, PCases=dfp_cases, PDeaths=dfp_deaths))\n",
    "             .sort_values(by=['Cases', 'Deaths'], ascending=[False, False])\n",
    "             .reset_index())\n",
    "df_table.rename(columns={'index': 'Country/Region'}, inplace=True)\n",
    "for c in 'Cases, Deaths'.split(', '):\n",
    "    df_table[f'{c} (+)'] = (df_table[c] - df_table[f'P{c}']).clip(0)  # DATA BUG\n",
    "df_table['Fatality Rate'] = (100 * df_table['Deaths'] / df_table['Cases']).round(1)\n",
    "df_table['Continent'] = df_table['Country/Region'].map(mapping['map.continent'])\n",
    "df_table.head(5)"
   ]
  },
  {
   "cell_type": "code",
   "execution_count": 16,
   "id": "fewer-occasion",
   "metadata": {
    "execution": {
     "iopub.execute_input": "2022-07-01T12:17:41.303283Z",
     "iopub.status.busy": "2022-07-01T12:17:41.302576Z",
     "iopub.status.idle": "2022-07-01T12:17:41.306113Z",
     "shell.execute_reply": "2022-07-01T12:17:41.305506Z"
    },
    "papermill": {
     "duration": 0.046443,
     "end_time": "2022-07-01T12:17:41.306229",
     "exception": false,
     "start_time": "2022-07-01T12:17:41.259786",
     "status": "completed"
    },
    "tags": []
   },
   "outputs": [],
   "source": [
    "#hide\n",
    "#delete problematic countries from table\n",
    "df_table = df_table[~df_table['Country/Region'].isin(['Cape Verde', 'Cruise Ship', 'Kosovo'])]"
   ]
  },
  {
   "cell_type": "code",
   "execution_count": 17,
   "id": "related-center",
   "metadata": {
    "execution": {
     "iopub.execute_input": "2022-07-01T12:17:41.386023Z",
     "iopub.status.busy": "2022-07-01T12:17:41.385184Z",
     "iopub.status.idle": "2022-07-01T12:17:41.401094Z",
     "shell.execute_reply": "2022-07-01T12:17:41.401680Z"
    },
    "papermill": {
     "duration": 0.060546,
     "end_time": "2022-07-01T12:17:41.401839",
     "exception": false,
     "start_time": "2022-07-01T12:17:41.341293",
     "status": "completed"
    },
    "tags": []
   },
   "outputs": [],
   "source": [
    "#hide\n",
    "metrics = [df_table.columns[index] for index in [1,2,5,6]]\n",
    "# s_china = df_table[df_table['Country/Region'].eq('China')][metrics].sum().add_prefix('China ')\n",
    "s_us = df_table[df_table['Country/Region'].eq('US')][metrics].sum().add_prefix('US ')\n",
    "s_eu = df_table[df_table['Continent'].eq('Europe')][metrics].sum().add_prefix('EU ')\n",
    "s_ind = df_table[df_table['Country/Region'].eq('India')][metrics].sum().add_prefix('India ')\n",
    "summary = {'updated': pd.to_datetime(dt_today), 'since': pd.to_datetime(dt_yday)}\n",
    "summary = {'updated': pd.to_datetime(dt_today), 'since': pd.to_datetime(dt_yday)}\n",
    "summary = {**summary, **df_table[metrics].sum(), **s_ind, **s_us, **s_eu}"
   ]
  },
  {
   "cell_type": "code",
   "execution_count": 18,
   "id": "engaging-syndrome",
   "metadata": {
    "execution": {
     "iopub.execute_input": "2022-07-01T12:17:41.479064Z",
     "iopub.status.busy": "2022-07-01T12:17:41.478318Z",
     "iopub.status.idle": "2022-07-01T12:17:41.498171Z",
     "shell.execute_reply": "2022-07-01T12:17:41.497392Z"
    },
    "papermill": {
     "duration": 0.061396,
     "end_time": "2022-07-01T12:17:41.498299",
     "exception": false,
     "start_time": "2022-07-01T12:17:41.436903",
     "status": "completed"
    },
    "tags": []
   },
   "outputs": [],
   "source": [
    "#hide\n",
    "dft_ct_new_cases = dft_cases.groupby(COL_REGION)[dt_cols].sum().diff(axis=1).fillna(0).astype(int)"
   ]
  },
  {
   "cell_type": "code",
   "execution_count": 19,
   "id": "neutral-assignment",
   "metadata": {
    "execution": {
     "iopub.execute_input": "2022-07-01T12:17:41.578169Z",
     "iopub.status.busy": "2022-07-01T12:17:41.577430Z",
     "iopub.status.idle": "2022-07-01T12:17:41.580515Z",
     "shell.execute_reply": "2022-07-01T12:17:41.579952Z"
    },
    "papermill": {
     "duration": 0.046174,
     "end_time": "2022-07-01T12:17:41.580636",
     "exception": false,
     "start_time": "2022-07-01T12:17:41.534462",
     "status": "completed"
    },
    "tags": []
   },
   "outputs": [],
   "source": [
    "#hide\n",
    "everydaycases = dft_ct_new_cases.cumsum(axis=1)"
   ]
  },
  {
   "cell_type": "code",
   "execution_count": 20,
   "id": "parliamentary-calgary",
   "metadata": {
    "execution": {
     "iopub.execute_input": "2022-07-01T12:17:41.660794Z",
     "iopub.status.busy": "2022-07-01T12:17:41.660080Z",
     "iopub.status.idle": "2022-07-01T12:17:42.318748Z",
     "shell.execute_reply": "2022-07-01T12:17:42.318167Z"
    },
    "papermill": {
     "duration": 0.700598,
     "end_time": "2022-07-01T12:17:42.318880",
     "exception": false,
     "start_time": "2022-07-01T12:17:41.618282",
     "status": "completed"
    },
    "tags": []
   },
   "outputs": [],
   "source": [
    "#hide\n",
    "import pandas as pd\n",
    "import matplotlib.pyplot as plt\n",
    "import matplotlib.ticker as ticker\n",
    "import matplotlib.animation as animation\n",
    "from IPython.display import HTML"
   ]
  },
  {
   "cell_type": "code",
   "execution_count": 21,
   "id": "lasting-extraction",
   "metadata": {
    "execution": {
     "iopub.execute_input": "2022-07-01T12:17:42.398809Z",
     "iopub.status.busy": "2022-07-01T12:17:42.398147Z",
     "iopub.status.idle": "2022-07-01T12:17:42.405006Z",
     "shell.execute_reply": "2022-07-01T12:17:42.405690Z"
    },
    "papermill": {
     "duration": 0.050006,
     "end_time": "2022-07-01T12:17:42.405852",
     "exception": false,
     "start_time": "2022-07-01T12:17:42.355846",
     "status": "completed"
    },
    "tags": []
   },
   "outputs": [],
   "source": [
    "#hide\n",
    "t = everydaycases.stack()"
   ]
  },
  {
   "cell_type": "code",
   "execution_count": 22,
   "id": "premier-sleeve",
   "metadata": {
    "execution": {
     "iopub.execute_input": "2022-07-01T12:17:42.482691Z",
     "iopub.status.busy": "2022-07-01T12:17:42.481987Z",
     "iopub.status.idle": "2022-07-01T12:17:42.494861Z",
     "shell.execute_reply": "2022-07-01T12:17:42.494311Z"
    },
    "papermill": {
     "duration": 0.052221,
     "end_time": "2022-07-01T12:17:42.494988",
     "exception": false,
     "start_time": "2022-07-01T12:17:42.442767",
     "status": "completed"
    },
    "tags": []
   },
   "outputs": [],
   "source": [
    "#hide\n",
    "g = t.reset_index(['Country/Region'])"
   ]
  },
  {
   "cell_type": "code",
   "execution_count": 23,
   "id": "distributed-pittsburgh",
   "metadata": {
    "execution": {
     "iopub.execute_input": "2022-07-01T12:17:42.572131Z",
     "iopub.status.busy": "2022-07-01T12:17:42.571478Z",
     "iopub.status.idle": "2022-07-01T12:17:42.573775Z",
     "shell.execute_reply": "2022-07-01T12:17:42.574322Z"
    },
    "papermill": {
     "duration": 0.041824,
     "end_time": "2022-07-01T12:17:42.574454",
     "exception": false,
     "start_time": "2022-07-01T12:17:42.532630",
     "status": "completed"
    },
    "tags": []
   },
   "outputs": [],
   "source": [
    "#hide\n",
    "g.index.name = 'date'"
   ]
  },
  {
   "cell_type": "code",
   "execution_count": 24,
   "id": "naked-donor",
   "metadata": {
    "execution": {
     "iopub.execute_input": "2022-07-01T12:17:42.647565Z",
     "iopub.status.busy": "2022-07-01T12:17:42.646905Z",
     "iopub.status.idle": "2022-07-01T12:17:42.650044Z",
     "shell.execute_reply": "2022-07-01T12:17:42.649469Z"
    },
    "papermill": {
     "duration": 0.040757,
     "end_time": "2022-07-01T12:17:42.650164",
     "exception": false,
     "start_time": "2022-07-01T12:17:42.609407",
     "status": "completed"
    },
    "tags": []
   },
   "outputs": [],
   "source": [
    "# #hide\n",
    "# g = g.reset_index(['date'])"
   ]
  },
  {
   "cell_type": "code",
   "execution_count": 25,
   "id": "incomplete-mustang",
   "metadata": {
    "execution": {
     "iopub.execute_input": "2022-07-01T12:17:42.726162Z",
     "iopub.status.busy": "2022-07-01T12:17:42.725481Z",
     "iopub.status.idle": "2022-07-01T12:17:42.727955Z",
     "shell.execute_reply": "2022-07-01T12:17:42.728437Z"
    },
    "papermill": {
     "duration": 0.042817,
     "end_time": "2022-07-01T12:17:42.728679",
     "exception": false,
     "start_time": "2022-07-01T12:17:42.685862",
     "status": "completed"
    },
    "tags": []
   },
   "outputs": [],
   "source": [
    "#hide\n",
    "# g.head()"
   ]
  },
  {
   "cell_type": "code",
   "execution_count": 26,
   "id": "specific-kruger",
   "metadata": {
    "execution": {
     "iopub.execute_input": "2022-07-01T12:17:42.808321Z",
     "iopub.status.busy": "2022-07-01T12:17:42.807612Z",
     "iopub.status.idle": "2022-07-01T12:17:42.810761Z",
     "shell.execute_reply": "2022-07-01T12:17:42.810188Z"
    },
    "papermill": {
     "duration": 0.044145,
     "end_time": "2022-07-01T12:17:42.810886",
     "exception": false,
     "start_time": "2022-07-01T12:17:42.766741",
     "status": "completed"
    },
    "tags": []
   },
   "outputs": [],
   "source": [
    "#hide\n",
    "# g.columns = ['date','country','cases']"
   ]
  },
  {
   "cell_type": "code",
   "execution_count": 27,
   "id": "tender-conversion",
   "metadata": {
    "execution": {
     "iopub.execute_input": "2022-07-01T12:17:42.893293Z",
     "iopub.status.busy": "2022-07-01T12:17:42.892563Z",
     "iopub.status.idle": "2022-07-01T12:17:42.895086Z",
     "shell.execute_reply": "2022-07-01T12:17:42.895781Z"
    },
    "papermill": {
     "duration": 0.043107,
     "end_time": "2022-07-01T12:17:42.895920",
     "exception": false,
     "start_time": "2022-07-01T12:17:42.852813",
     "status": "completed"
    },
    "tags": []
   },
   "outputs": [],
   "source": [
    "#hide\n",
    "# g['continent'] = g.country"
   ]
  },
  {
   "cell_type": "code",
   "execution_count": 28,
   "id": "substantial-wilderness",
   "metadata": {
    "execution": {
     "iopub.execute_input": "2022-07-01T12:17:42.977965Z",
     "iopub.status.busy": "2022-07-01T12:17:42.977225Z",
     "iopub.status.idle": "2022-07-01T12:17:42.980047Z",
     "shell.execute_reply": "2022-07-01T12:17:42.979502Z"
    },
    "papermill": {
     "duration": 0.044646,
     "end_time": "2022-07-01T12:17:42.980167",
     "exception": false,
     "start_time": "2022-07-01T12:17:42.935521",
     "status": "completed"
    },
    "tags": []
   },
   "outputs": [],
   "source": [
    "#hide\n",
    "# cols = list(g.columns.values)"
   ]
  },
  {
   "cell_type": "code",
   "execution_count": 29,
   "id": "solved-farming",
   "metadata": {
    "execution": {
     "iopub.execute_input": "2022-07-01T12:17:43.054635Z",
     "iopub.status.busy": "2022-07-01T12:17:43.053981Z",
     "iopub.status.idle": "2022-07-01T12:17:43.058558Z",
     "shell.execute_reply": "2022-07-01T12:17:43.058016Z"
    },
    "papermill": {
     "duration": 0.042752,
     "end_time": "2022-07-01T12:17:43.058670",
     "exception": false,
     "start_time": "2022-07-01T12:17:43.015918",
     "status": "completed"
    },
    "tags": []
   },
   "outputs": [],
   "source": [
    "#hide\n",
    "# cols.insert(0, cols.pop())"
   ]
  },
  {
   "cell_type": "code",
   "execution_count": 30,
   "id": "executed-adoption",
   "metadata": {
    "execution": {
     "iopub.execute_input": "2022-07-01T12:17:43.133910Z",
     "iopub.status.busy": "2022-07-01T12:17:43.133048Z",
     "iopub.status.idle": "2022-07-01T12:17:43.136115Z",
     "shell.execute_reply": "2022-07-01T12:17:43.135576Z"
    },
    "papermill": {
     "duration": 0.041549,
     "end_time": "2022-07-01T12:17:43.136230",
     "exception": false,
     "start_time": "2022-07-01T12:17:43.094681",
     "status": "completed"
    },
    "tags": []
   },
   "outputs": [],
   "source": [
    "#hide\n",
    "# g = g[cols]"
   ]
  },
  {
   "cell_type": "code",
   "execution_count": 31,
   "id": "subject-dublin",
   "metadata": {
    "execution": {
     "iopub.execute_input": "2022-07-01T12:17:43.211770Z",
     "iopub.status.busy": "2022-07-01T12:17:43.211039Z",
     "iopub.status.idle": "2022-07-01T12:17:43.213740Z",
     "shell.execute_reply": "2022-07-01T12:17:43.214293Z"
    },
    "papermill": {
     "duration": 0.041833,
     "end_time": "2022-07-01T12:17:43.214434",
     "exception": false,
     "start_time": "2022-07-01T12:17:43.172601",
     "status": "completed"
    },
    "tags": []
   },
   "outputs": [],
   "source": [
    "#hide\n",
    "# g['continent'] = g['continent'].map(mapping['map.continent'])"
   ]
  },
  {
   "cell_type": "code",
   "execution_count": 32,
   "id": "freelance-scout",
   "metadata": {
    "execution": {
     "iopub.execute_input": "2022-07-01T12:17:43.296565Z",
     "iopub.status.busy": "2022-07-01T12:17:43.295762Z",
     "iopub.status.idle": "2022-07-01T12:17:43.298990Z",
     "shell.execute_reply": "2022-07-01T12:17:43.298237Z"
    },
    "papermill": {
     "duration": 0.047655,
     "end_time": "2022-07-01T12:17:43.299124",
     "exception": false,
     "start_time": "2022-07-01T12:17:43.251469",
     "status": "completed"
    },
    "tags": []
   },
   "outputs": [],
   "source": [
    "#hide\n",
    "# g.head()"
   ]
  },
  {
   "cell_type": "code",
   "execution_count": 33,
   "id": "limited-engine",
   "metadata": {
    "execution": {
     "iopub.execute_input": "2022-07-01T12:17:43.380888Z",
     "iopub.status.busy": "2022-07-01T12:17:43.380131Z",
     "iopub.status.idle": "2022-07-01T12:17:43.385174Z",
     "shell.execute_reply": "2022-07-01T12:17:43.385875Z"
    },
    "papermill": {
     "duration": 0.049542,
     "end_time": "2022-07-01T12:17:43.386031",
     "exception": false,
     "start_time": "2022-07-01T12:17:43.336489",
     "status": "completed"
    },
    "tags": []
   },
   "outputs": [],
   "source": [
    "# hide\n",
    "# g['date'] = g['date'].astype('datetime64[ns]')"
   ]
  },
  {
   "cell_type": "code",
   "execution_count": 34,
   "id": "sophisticated-supervisor",
   "metadata": {
    "execution": {
     "iopub.execute_input": "2022-07-01T12:17:43.475702Z",
     "iopub.status.busy": "2022-07-01T12:17:43.474961Z",
     "iopub.status.idle": "2022-07-01T12:17:43.478434Z",
     "shell.execute_reply": "2022-07-01T12:17:43.477864Z"
    },
    "papermill": {
     "duration": 0.051019,
     "end_time": "2022-07-01T12:17:43.478557",
     "exception": false,
     "start_time": "2022-07-01T12:17:43.427538",
     "status": "completed"
    },
    "tags": []
   },
   "outputs": [],
   "source": [
    "#hide\n",
    "# g['date'] = g.date.dt.dayofyear"
   ]
  },
  {
   "cell_type": "code",
   "execution_count": 35,
   "id": "inside-dubai",
   "metadata": {
    "execution": {
     "iopub.execute_input": "2022-07-01T12:17:43.554074Z",
     "iopub.status.busy": "2022-07-01T12:17:43.553328Z",
     "iopub.status.idle": "2022-07-01T12:17:43.556395Z",
     "shell.execute_reply": "2022-07-01T12:17:43.555859Z"
    },
    "papermill": {
     "duration": 0.041495,
     "end_time": "2022-07-01T12:17:43.556508",
     "exception": false,
     "start_time": "2022-07-01T12:17:43.515013",
     "status": "completed"
    },
    "tags": []
   },
   "outputs": [],
   "source": [
    "#hide\n",
    "# g = g.rename(columns= {'continent':'group','country':'name','cases':'value'})"
   ]
  },
  {
   "cell_type": "code",
   "execution_count": 36,
   "id": "fleet-motorcycle",
   "metadata": {
    "execution": {
     "iopub.execute_input": "2022-07-01T12:17:43.632988Z",
     "iopub.status.busy": "2022-07-01T12:17:43.632286Z",
     "iopub.status.idle": "2022-07-01T12:17:43.635456Z",
     "shell.execute_reply": "2022-07-01T12:17:43.634773Z"
    },
    "papermill": {
     "duration": 0.043863,
     "end_time": "2022-07-01T12:17:43.635581",
     "exception": false,
     "start_time": "2022-07-01T12:17:43.591718",
     "status": "completed"
    },
    "tags": []
   },
   "outputs": [],
   "source": [
    "#hide\n",
    "# cols = ['name','group','day','value']"
   ]
  },
  {
   "cell_type": "code",
   "execution_count": 37,
   "id": "continued-sleeping",
   "metadata": {
    "execution": {
     "iopub.execute_input": "2022-07-01T12:17:43.710473Z",
     "iopub.status.busy": "2022-07-01T12:17:43.709779Z",
     "iopub.status.idle": "2022-07-01T12:17:43.712725Z",
     "shell.execute_reply": "2022-07-01T12:17:43.713264Z"
    },
    "papermill": {
     "duration": 0.041489,
     "end_time": "2022-07-01T12:17:43.713404",
     "exception": false,
     "start_time": "2022-07-01T12:17:43.671915",
     "status": "completed"
    },
    "tags": []
   },
   "outputs": [],
   "source": [
    "#hide\n",
    "# g.rename(columns= {'date':'day'},inplace = True)"
   ]
  },
  {
   "cell_type": "code",
   "execution_count": 38,
   "id": "major-fight",
   "metadata": {
    "execution": {
     "iopub.execute_input": "2022-07-01T12:17:43.791079Z",
     "iopub.status.busy": "2022-07-01T12:17:43.790386Z",
     "iopub.status.idle": "2022-07-01T12:17:43.793767Z",
     "shell.execute_reply": "2022-07-01T12:17:43.793120Z"
    },
    "papermill": {
     "duration": 0.043463,
     "end_time": "2022-07-01T12:17:43.793890",
     "exception": false,
     "start_time": "2022-07-01T12:17:43.750427",
     "status": "completed"
    },
    "tags": []
   },
   "outputs": [],
   "source": [
    "#hide\n",
    "# g = g[cols]"
   ]
  },
  {
   "cell_type": "code",
   "execution_count": 39,
   "id": "structured-mobile",
   "metadata": {
    "execution": {
     "iopub.execute_input": "2022-07-01T12:17:43.869958Z",
     "iopub.status.busy": "2022-07-01T12:17:43.869231Z",
     "iopub.status.idle": "2022-07-01T12:17:43.872498Z",
     "shell.execute_reply": "2022-07-01T12:17:43.871872Z"
    },
    "papermill": {
     "duration": 0.042501,
     "end_time": "2022-07-01T12:17:43.872632",
     "exception": false,
     "start_time": "2022-07-01T12:17:43.830131",
     "status": "completed"
    },
    "tags": []
   },
   "outputs": [],
   "source": [
    "# #hide\n",
    "# g = g[g.group.notna()]"
   ]
  },
  {
   "cell_type": "code",
   "execution_count": 40,
   "id": "determined-closing",
   "metadata": {
    "execution": {
     "iopub.execute_input": "2022-07-01T12:17:43.949189Z",
     "iopub.status.busy": "2022-07-01T12:17:43.948433Z",
     "iopub.status.idle": "2022-07-01T12:17:43.951534Z",
     "shell.execute_reply": "2022-07-01T12:17:43.950925Z"
    },
    "papermill": {
     "duration": 0.042351,
     "end_time": "2022-07-01T12:17:43.951657",
     "exception": false,
     "start_time": "2022-07-01T12:17:43.909306",
     "status": "completed"
    },
    "tags": []
   },
   "outputs": [],
   "source": [
    "# #hide\n",
    "# colors = dict(zip(\n",
    "#     [\"Oceania\", \"Europe\", \"Asia\", \"South America\", \"Middle East\", \"North America\", \"Africa\"],\n",
    "#     [\"#adb0ff\", \"#ffb3ff\", \"#90d595\", \"#e48381\", \"#aafbff\", \"#f7bb5f\", \"#eafb50\"]\n",
    "# ))\n",
    "# group_lk = g.set_index('name')['group'].to_dict()"
   ]
  },
  {
   "cell_type": "code",
   "execution_count": null,
   "id": "gross-drinking",
   "metadata": {
    "papermill": {
     "duration": 0.038796,
     "end_time": "2022-07-01T12:17:44.029454",
     "exception": false,
     "start_time": "2022-07-01T12:17:43.990658",
     "status": "completed"
    },
    "tags": []
   },
   "outputs": [],
   "source": []
  },
  {
   "cell_type": "code",
   "execution_count": 41,
   "id": "subject-macintosh",
   "metadata": {
    "execution": {
     "iopub.execute_input": "2022-07-01T12:17:44.106680Z",
     "iopub.status.busy": "2022-07-01T12:17:44.105971Z",
     "iopub.status.idle": "2022-07-01T12:17:44.108457Z",
     "shell.execute_reply": "2022-07-01T12:17:44.109201Z"
    },
    "papermill": {
     "duration": 0.043806,
     "end_time": "2022-07-01T12:17:44.109350",
     "exception": false,
     "start_time": "2022-07-01T12:17:44.065544",
     "status": "completed"
    },
    "tags": []
   },
   "outputs": [],
   "source": [
    "# #hide\n",
    "# fig, ax = plt.subplots(figsize=(15, 8))\n",
    "\n",
    "# def draw_barchart(current_day):\n",
    "#     dff = g[g['day'].eq(current_day)].sort_values(by='value', ascending=True).tail(10)\n",
    "#     ax.clear()\n",
    "#     ax.barh(dff['name'], dff['value'], color=[colors[group_lk[x]] for x in dff['name']])\n",
    "#     dx = dff['value'].max() / 200\n",
    "    \n",
    "#     for i, (value, name) in enumerate(zip(dff['value'], dff['name'])):\n",
    "#         ax.text(value-dx, i,     name,           size=14, weight=600, ha='right', va='bottom')\n",
    "#         ax.text(value-dx, i-.25, group_lk[name], size=10, color='#444444', ha='right', va='baseline')\n",
    "#         ax.text(value+dx, i,     f'{value:,.0f}',  size=14, ha='left',  va='center')\n",
    "#     ax.text(1, 0.4, current_day, transform=ax.transAxes, color='#777777', size=46, ha='right', weight=800)\n",
    "#     ax.text(0, 1.06, 'Population (thousands)', transform=ax.transAxes, size=12, color='#777777')\n",
    "#     ax.xaxis.set_major_formatter(ticker.StrMethodFormatter('{x:,.0f}'))\n",
    "#     ax.xaxis.set_ticks_position('top')\n",
    "#     ax.tick_params(axis='x', colors='#777777', labelsize=12)\n",
    "#     ax.set_yticks([])\n",
    "#     ax.margins(0, 0.01)\n",
    "#     ax.grid(which='major', axis='x', linestyle='-')\n",
    "#     ax.set_axisbelow(True)\n",
    "    \n",
    "#     ax.text(0, 1.15, 'Coronavirus',\n",
    "#             transform=ax.transAxes, size=24, weight=600, ha='left', va='top')\n",
    "# #     ax.text(1, 0, 'by @pratapvardhan; credit @jburnmurdoch', transform=ax.transAxes, color='#777777', ha='right',\n",
    "# #             bbox=dict(facecolor='white', alpha=0.8, edgecolor='white'))\n",
    "#     plt.box(False)"
   ]
  },
  {
   "cell_type": "code",
   "execution_count": 42,
   "id": "sexual-wages",
   "metadata": {
    "execution": {
     "iopub.execute_input": "2022-07-01T12:17:44.192786Z",
     "iopub.status.busy": "2022-07-01T12:17:44.192036Z",
     "iopub.status.idle": "2022-07-01T12:17:44.193855Z",
     "shell.execute_reply": "2022-07-01T12:17:44.194545Z"
    },
    "papermill": {
     "duration": 0.045138,
     "end_time": "2022-07-01T12:17:44.194690",
     "exception": false,
     "start_time": "2022-07-01T12:17:44.149552",
     "status": "completed"
    },
    "tags": []
   },
   "outputs": [],
   "source": [
    "# #hide_input\n",
    "# fig, ax = plt.subplots(figsize=(15, 8))\n",
    "# animator = animation.FuncAnimation(fig, draw_barchart, frames=range(g.day.values.min(), g.day.values.max()))\n",
    "# HTML(animator.to_jshtml())\n",
    "# # or use animator.to_html5_video() or animator.save() "
   ]
  },
  {
   "cell_type": "code",
   "execution_count": null,
   "id": "australian-container",
   "metadata": {
    "papermill": {
     "duration": 0.0415,
     "end_time": "2022-07-01T12:17:44.273209",
     "exception": false,
     "start_time": "2022-07-01T12:17:44.231709",
     "status": "completed"
    },
    "tags": []
   },
   "outputs": [],
   "source": []
  },
  {
   "cell_type": "code",
   "execution_count": null,
   "id": "mediterranean-pontiac",
   "metadata": {
    "papermill": {
     "duration": 0.044298,
     "end_time": "2022-07-01T12:17:44.355510",
     "exception": false,
     "start_time": "2022-07-01T12:17:44.311212",
     "status": "completed"
    },
    "tags": []
   },
   "outputs": [],
   "source": []
  },
  {
   "cell_type": "code",
   "execution_count": null,
   "id": "aging-legislature",
   "metadata": {
    "papermill": {
     "duration": 0.037141,
     "end_time": "2022-07-01T12:17:44.438377",
     "exception": false,
     "start_time": "2022-07-01T12:17:44.401236",
     "status": "completed"
    },
    "tags": []
   },
   "outputs": [],
   "source": []
  }
 ],
 "metadata": {
  "kernelspec": {
   "display_name": "Python 3",
   "language": "python",
   "name": "python3"
  },
  "language_info": {
   "codemirror_mode": {
    "name": "ipython",
    "version": 3
   },
   "file_extension": ".py",
   "mimetype": "text/x-python",
   "name": "python",
   "nbconvert_exporter": "python",
   "pygments_lexer": "ipython3",
   "version": "3.6.15"
  },
  "papermill": {
   "duration": 7.070633,
   "end_time": "2022-07-01T12:17:44.799764",
   "environment_variables": {},
   "exception": null,
   "input_path": "2020-03-21-covid19exp.ipynb",
   "output_path": "2020-03-21-covid19exp.ipynb",
   "parameters": {},
   "start_time": "2022-07-01T12:17:37.729131",
   "version": "2.0.0"
  }
 },
 "nbformat": 4,
 "nbformat_minor": 5
}