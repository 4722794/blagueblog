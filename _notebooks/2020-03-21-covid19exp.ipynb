{
 "cells": [
  {
   "cell_type": "markdown",
   "id": "muslim-click",
   "metadata": {
    "papermill": {
     "duration": 0.039441,
     "end_time": "2021-12-25T12:12:00.999972",
     "exception": false,
     "start_time": "2021-12-25T12:12:00.960531",
     "status": "completed"
    },
    "tags": []
   },
   "source": [
    "# COVID-19 Case Race\n",
    "> A race chart to see rising cases around the world\n",
    "\n",
    "- author: Hargun Oberoi\n",
    "- image: images/covid-overview.png\n",
    "- hide: false\n",
    "- badges: false"
   ]
  },
  {
   "cell_type": "code",
   "execution_count": 1,
   "id": "proof-material",
   "metadata": {
    "execution": {
     "iopub.execute_input": "2021-12-25T12:12:01.082144Z",
     "iopub.status.busy": "2021-12-25T12:12:01.081025Z",
     "iopub.status.idle": "2021-12-25T12:12:01.489242Z",
     "shell.execute_reply": "2021-12-25T12:12:01.488643Z"
    },
    "papermill": {
     "duration": 0.45474,
     "end_time": "2021-12-25T12:12:01.489396",
     "exception": false,
     "start_time": "2021-12-25T12:12:01.034656",
     "status": "completed"
    },
    "tags": []
   },
   "outputs": [],
   "source": [
    "#hide\n",
    "import numpy as np\n",
    "import pandas as pd\n",
    "from jinja2 import Template\n",
    "from IPython.display import HTML"
   ]
  },
  {
   "cell_type": "code",
   "execution_count": 2,
   "id": "developed-terminology",
   "metadata": {
    "execution": {
     "iopub.execute_input": "2021-12-25T12:12:01.563716Z",
     "iopub.status.busy": "2021-12-25T12:12:01.563041Z",
     "iopub.status.idle": "2021-12-25T12:12:01.566225Z",
     "shell.execute_reply": "2021-12-25T12:12:01.566680Z"
    },
    "papermill": {
     "duration": 0.043608,
     "end_time": "2021-12-25T12:12:01.566832",
     "exception": false,
     "start_time": "2021-12-25T12:12:01.523224",
     "status": "completed"
    },
    "tags": []
   },
   "outputs": [],
   "source": [
    "#hide\n",
    "\n",
    "# FETCH\n",
    "base_url = 'https://raw.githubusercontent.com/pratapvardhan/notebooks/master/covid19/'\n",
    "paths = {\n",
    "    'mapping': base_url + 'mapping_countries.csv',\n",
    "    'overview': base_url + 'overview.tpl'\n",
    "}"
   ]
  },
  {
   "cell_type": "code",
   "execution_count": 3,
   "id": "dynamic-saver",
   "metadata": {
    "execution": {
     "iopub.execute_input": "2021-12-25T12:12:01.648093Z",
     "iopub.status.busy": "2021-12-25T12:12:01.647399Z",
     "iopub.status.idle": "2021-12-25T12:12:01.651557Z",
     "shell.execute_reply": "2021-12-25T12:12:01.650928Z"
    },
    "papermill": {
     "duration": 0.049766,
     "end_time": "2021-12-25T12:12:01.651694",
     "exception": false,
     "start_time": "2021-12-25T12:12:01.601928",
     "status": "completed"
    },
    "tags": []
   },
   "outputs": [
    {
     "data": {
      "text/plain": [
       "'https://raw.githubusercontent.com/pratapvardhan/notebooks/master/covid19/mapping_countries.csv'"
      ]
     },
     "execution_count": 3,
     "metadata": {},
     "output_type": "execute_result"
    }
   ],
   "source": [
    "#hide\n",
    "paths['mapping']"
   ]
  },
  {
   "cell_type": "code",
   "execution_count": 4,
   "id": "urban-software",
   "metadata": {
    "execution": {
     "iopub.execute_input": "2021-12-25T12:12:01.726761Z",
     "iopub.status.busy": "2021-12-25T12:12:01.726133Z",
     "iopub.status.idle": "2021-12-25T12:12:01.728994Z",
     "shell.execute_reply": "2021-12-25T12:12:01.729447Z"
    },
    "papermill": {
     "duration": 0.043478,
     "end_time": "2021-12-25T12:12:01.729599",
     "exception": false,
     "start_time": "2021-12-25T12:12:01.686121",
     "status": "completed"
    },
    "tags": []
   },
   "outputs": [],
   "source": [
    "#hide\n",
    "def get_mappings(url):\n",
    "    df = pd.read_csv(url)\n",
    "    return {\n",
    "        'df': df,\n",
    "        'replace.country': dict(df.dropna(subset=['Name']).set_index('Country')['Name']),\n",
    "        'map.continent': dict(df.set_index('Name')['Continent'])\n",
    "    }"
   ]
  },
  {
   "cell_type": "code",
   "execution_count": 5,
   "id": "intimate-machinery",
   "metadata": {
    "execution": {
     "iopub.execute_input": "2021-12-25T12:12:01.803363Z",
     "iopub.status.busy": "2021-12-25T12:12:01.802753Z",
     "iopub.status.idle": "2021-12-25T12:12:01.831851Z",
     "shell.execute_reply": "2021-12-25T12:12:01.832375Z"
    },
    "papermill": {
     "duration": 0.069177,
     "end_time": "2021-12-25T12:12:01.832536",
     "exception": false,
     "start_time": "2021-12-25T12:12:01.763359",
     "status": "completed"
    },
    "tags": []
   },
   "outputs": [],
   "source": [
    "#hide\n",
    "mapping = get_mappings(paths['mapping'])"
   ]
  },
  {
   "cell_type": "code",
   "execution_count": 6,
   "id": "certified-tactics",
   "metadata": {
    "execution": {
     "iopub.execute_input": "2021-12-25T12:12:01.906669Z",
     "iopub.status.busy": "2021-12-25T12:12:01.906053Z",
     "iopub.status.idle": "2021-12-25T12:12:01.908309Z",
     "shell.execute_reply": "2021-12-25T12:12:01.908879Z"
    },
    "papermill": {
     "duration": 0.042631,
     "end_time": "2021-12-25T12:12:01.909027",
     "exception": false,
     "start_time": "2021-12-25T12:12:01.866396",
     "status": "completed"
    },
    "tags": []
   },
   "outputs": [],
   "source": [
    "#hide\n",
    "def get_template(path):\n",
    "    from urllib.parse import urlparse\n",
    "    if bool(urlparse(path).netloc):\n",
    "        from urllib.request import urlopen\n",
    "        return urlopen(path).read().decode('utf8')\n",
    "    return open(path).read()"
   ]
  },
  {
   "cell_type": "code",
   "execution_count": 7,
   "id": "realistic-blast",
   "metadata": {
    "execution": {
     "iopub.execute_input": "2021-12-25T12:12:01.982295Z",
     "iopub.status.busy": "2021-12-25T12:12:01.981688Z",
     "iopub.status.idle": "2021-12-25T12:12:01.984476Z",
     "shell.execute_reply": "2021-12-25T12:12:01.983991Z"
    },
    "papermill": {
     "duration": 0.041719,
     "end_time": "2021-12-25T12:12:01.984609",
     "exception": false,
     "start_time": "2021-12-25T12:12:01.942890",
     "status": "completed"
    },
    "tags": []
   },
   "outputs": [],
   "source": [
    "#hide\n",
    "def get_frame(name):\n",
    "    url = (\n",
    "        'https://raw.githubusercontent.com/CSSEGISandData/COVID-19/master/csse_covid_19_data/'\n",
    "        f'csse_covid_19_time_series/time_series_covid19_{name}_global.csv')\n",
    "    df = pd.read_csv(url)\n",
    "    # rename countries\n",
    "    df['Country/Region'] = df['Country/Region'].replace(mapping['replace.country'])\n",
    "    return df"
   ]
  },
  {
   "cell_type": "code",
   "execution_count": 8,
   "id": "affiliated-characterization",
   "metadata": {
    "execution": {
     "iopub.execute_input": "2021-12-25T12:12:02.060164Z",
     "iopub.status.busy": "2021-12-25T12:12:02.059450Z",
     "iopub.status.idle": "2021-12-25T12:12:02.061083Z",
     "shell.execute_reply": "2021-12-25T12:12:02.061588Z"
    },
    "papermill": {
     "duration": 0.042418,
     "end_time": "2021-12-25T12:12:02.061738",
     "exception": false,
     "start_time": "2021-12-25T12:12:02.019320",
     "status": "completed"
    },
    "tags": []
   },
   "outputs": [],
   "source": [
    "#hide\n",
    "def get_dates(df):\n",
    "    dt_cols = df.columns[~df.columns.isin(['Province/State', 'Country/Region', 'Lat', 'Long'])]\n",
    "    LAST_DATE_I = -1\n",
    "    # sometimes last column may be empty, then go backwards\n",
    "    for i in range(-1, -len(dt_cols), -1):\n",
    "        if not df[dt_cols[i]].fillna(0).eq(0).all():\n",
    "            LAST_DATE_I = i\n",
    "            break\n",
    "    return LAST_DATE_I, dt_cols"
   ]
  },
  {
   "cell_type": "code",
   "execution_count": 9,
   "id": "recent-optimization",
   "metadata": {
    "execution": {
     "iopub.execute_input": "2021-12-25T12:12:02.135899Z",
     "iopub.status.busy": "2021-12-25T12:12:02.135235Z",
     "iopub.status.idle": "2021-12-25T12:12:02.516390Z",
     "shell.execute_reply": "2021-12-25T12:12:02.515404Z"
    },
    "papermill": {
     "duration": 0.420833,
     "end_time": "2021-12-25T12:12:02.516624",
     "exception": false,
     "start_time": "2021-12-25T12:12:02.095791",
     "status": "completed"
    },
    "tags": []
   },
   "outputs": [],
   "source": [
    "#hide\n",
    "COL_REGION = 'Country/Region'\n",
    "# Confirmed, Recovered, Deaths\n",
    "df = get_frame('confirmed')\n",
    "# dft_: timeseries, dfc_: today country agg\n",
    "dft_cases = df\n",
    "dft_deaths = get_frame('deaths')\n",
    "dft_recovered = get_frame('recovered')\n",
    "LAST_DATE_I, dt_cols = get_dates(df)"
   ]
  },
  {
   "cell_type": "code",
   "execution_count": 10,
   "id": "absolute-copper",
   "metadata": {
    "execution": {
     "iopub.execute_input": "2021-12-25T12:12:02.602599Z",
     "iopub.status.busy": "2021-12-25T12:12:02.601494Z",
     "iopub.status.idle": "2021-12-25T12:12:02.605917Z",
     "shell.execute_reply": "2021-12-25T12:12:02.606373Z"
    },
    "papermill": {
     "duration": 0.053226,
     "end_time": "2021-12-25T12:12:02.606532",
     "exception": false,
     "start_time": "2021-12-25T12:12:02.553306",
     "status": "completed"
    },
    "tags": []
   },
   "outputs": [],
   "source": [
    "#hide\n",
    "LAST_DATE_I, dt_cols = get_dates(df)\n",
    "dt_today =dt_cols[LAST_DATE_I]\n",
    "# dt_5day = dt_cols[LAST_DATE_I - 5]\n",
    "dt_yday = dt_cols[LAST_DATE_I - 1]"
   ]
  },
  {
   "cell_type": "code",
   "execution_count": 11,
   "id": "restricted-sheriff",
   "metadata": {
    "execution": {
     "iopub.execute_input": "2021-12-25T12:12:02.684118Z",
     "iopub.status.busy": "2021-12-25T12:12:02.683321Z",
     "iopub.status.idle": "2021-12-25T12:12:02.692463Z",
     "shell.execute_reply": "2021-12-25T12:12:02.691863Z"
    },
    "papermill": {
     "duration": 0.051444,
     "end_time": "2021-12-25T12:12:02.692609",
     "exception": false,
     "start_time": "2021-12-25T12:12:02.641165",
     "status": "completed"
    },
    "tags": []
   },
   "outputs": [],
   "source": [
    "#hide\n",
    "dfc_cases = dft_cases.groupby(COL_REGION)[dt_today].sum()\n",
    "dfc_deaths = dft_deaths.groupby(COL_REGION)[dt_today].sum()\n",
    "# dfp_cases = dft_cases.groupby(COL_REGION)[dt_5day].sum()\n",
    "# dfp_deaths = dft_deaths.groupby(COL_REGION)[dt_5day].sum()\n",
    "dfp_cases = dft_cases.groupby(COL_REGION)[dt_yday].sum()\n",
    "dfp_deaths = dft_deaths.groupby(COL_REGION)[dt_yday].sum()"
   ]
  },
  {
   "cell_type": "code",
   "execution_count": 12,
   "id": "deluxe-hepatitis",
   "metadata": {
    "execution": {
     "iopub.execute_input": "2021-12-25T12:12:02.780887Z",
     "iopub.status.busy": "2021-12-25T12:12:02.780271Z",
     "iopub.status.idle": "2021-12-25T12:12:02.785499Z",
     "shell.execute_reply": "2021-12-25T12:12:02.785012Z"
    },
    "papermill": {
     "duration": 0.052702,
     "end_time": "2021-12-25T12:12:02.785632",
     "exception": false,
     "start_time": "2021-12-25T12:12:02.732930",
     "status": "completed"
    },
    "tags": []
   },
   "outputs": [],
   "source": [
    "#hide\n",
    "df_table = (pd.DataFrame(dict(Cases = dfc_cases, Deaths = dfc_deaths, PCases = dfp_cases, PDeaths = dfp_deaths))\n",
    "            .sort_values(by = ['Cases','Deaths'], ascending = [False, False])\n",
    "            .reset_index())"
   ]
  },
  {
   "cell_type": "code",
   "execution_count": 13,
   "id": "educational-chancellor",
   "metadata": {
    "execution": {
     "iopub.execute_input": "2021-12-25T12:12:02.878956Z",
     "iopub.status.busy": "2021-12-25T12:12:02.878328Z",
     "iopub.status.idle": "2021-12-25T12:12:02.887864Z",
     "shell.execute_reply": "2021-12-25T12:12:02.887342Z"
    },
    "papermill": {
     "duration": 0.066097,
     "end_time": "2021-12-25T12:12:02.888005",
     "exception": false,
     "start_time": "2021-12-25T12:12:02.821908",
     "status": "completed"
    },
    "tags": []
   },
   "outputs": [
    {
     "data": {
      "text/html": [
       "<div>\n",
       "<style scoped>\n",
       "    .dataframe tbody tr th:only-of-type {\n",
       "        vertical-align: middle;\n",
       "    }\n",
       "\n",
       "    .dataframe tbody tr th {\n",
       "        vertical-align: top;\n",
       "    }\n",
       "\n",
       "    .dataframe thead th {\n",
       "        text-align: right;\n",
       "    }\n",
       "</style>\n",
       "<table border=\"1\" class=\"dataframe\">\n",
       "  <thead>\n",
       "    <tr style=\"text-align: right;\">\n",
       "      <th></th>\n",
       "      <th>Country/Region</th>\n",
       "      <th>Cases</th>\n",
       "      <th>Deaths</th>\n",
       "      <th>PCases</th>\n",
       "      <th>PDeaths</th>\n",
       "      <th>Cases (+)</th>\n",
       "      <th>Deaths (+)</th>\n",
       "      <th>Fatality Rate</th>\n",
       "      <th>Continent</th>\n",
       "    </tr>\n",
       "  </thead>\n",
       "  <tbody>\n",
       "    <tr>\n",
       "      <th>0</th>\n",
       "      <td>US</td>\n",
       "      <td>51966735</td>\n",
       "      <td>816436</td>\n",
       "      <td>51814820</td>\n",
       "      <td>815423</td>\n",
       "      <td>151915</td>\n",
       "      <td>1013</td>\n",
       "      <td>1.57</td>\n",
       "      <td>North America</td>\n",
       "    </tr>\n",
       "    <tr>\n",
       "      <th>1</th>\n",
       "      <td>India</td>\n",
       "      <td>34779815</td>\n",
       "      <td>479520</td>\n",
       "      <td>34772626</td>\n",
       "      <td>479133</td>\n",
       "      <td>7189</td>\n",
       "      <td>387</td>\n",
       "      <td>1.38</td>\n",
       "      <td>Asia</td>\n",
       "    </tr>\n",
       "    <tr>\n",
       "      <th>2</th>\n",
       "      <td>Brazil</td>\n",
       "      <td>22234623</td>\n",
       "      <td>618655</td>\n",
       "      <td>22230943</td>\n",
       "      <td>618492</td>\n",
       "      <td>3680</td>\n",
       "      <td>163</td>\n",
       "      <td>2.78</td>\n",
       "      <td>South America</td>\n",
       "    </tr>\n",
       "    <tr>\n",
       "      <th>3</th>\n",
       "      <td>United Kingdom</td>\n",
       "      <td>11958841</td>\n",
       "      <td>148324</td>\n",
       "      <td>11836909</td>\n",
       "      <td>148187</td>\n",
       "      <td>121932</td>\n",
       "      <td>137</td>\n",
       "      <td>1.24</td>\n",
       "      <td>Europe</td>\n",
       "    </tr>\n",
       "    <tr>\n",
       "      <th>4</th>\n",
       "      <td>Russia</td>\n",
       "      <td>10164951</td>\n",
       "      <td>296268</td>\n",
       "      <td>10140429</td>\n",
       "      <td>295296</td>\n",
       "      <td>24522</td>\n",
       "      <td>972</td>\n",
       "      <td>2.91</td>\n",
       "      <td>Europe</td>\n",
       "    </tr>\n",
       "  </tbody>\n",
       "</table>\n",
       "</div>"
      ],
      "text/plain": [
       "   Country/Region     Cases  Deaths    PCases  PDeaths  Cases (+)  Deaths (+)  \\\n",
       "0              US  51966735  816436  51814820   815423     151915        1013   \n",
       "1           India  34779815  479520  34772626   479133       7189         387   \n",
       "2          Brazil  22234623  618655  22230943   618492       3680         163   \n",
       "3  United Kingdom  11958841  148324  11836909   148187     121932         137   \n",
       "4          Russia  10164951  296268  10140429   295296      24522         972   \n",
       "\n",
       "   Fatality Rate      Continent  \n",
       "0           1.57  North America  \n",
       "1           1.38           Asia  \n",
       "2           2.78  South America  \n",
       "3           1.24         Europe  \n",
       "4           2.91         Europe  "
      ]
     },
     "execution_count": 13,
     "metadata": {},
     "output_type": "execute_result"
    }
   ],
   "source": [
    "#hide\n",
    "for c in 'Cases, Deaths'.split(', '):\n",
    "    df_table[f'{c} (+)'] = (df_table[c] - df_table[f'P{c}']).clip(0)\n",
    "    #Clip ça veut dire, les chiffres negatif sont interdit\n",
    "df_table['Fatality Rate'] = (100* df_table['Deaths']/ df_table['Cases']).round(2)\n",
    "df_table['Continent'] = df_table['Country/Region'].map(mapping['map.continent'])\n",
    "df_table.head(5)"
   ]
  },
  {
   "cell_type": "code",
   "execution_count": 14,
   "id": "aboriginal-bulgaria",
   "metadata": {
    "execution": {
     "iopub.execute_input": "2021-12-25T12:12:02.971019Z",
     "iopub.status.busy": "2021-12-25T12:12:02.970382Z",
     "iopub.status.idle": "2021-12-25T12:12:02.974488Z",
     "shell.execute_reply": "2021-12-25T12:12:02.974003Z"
    },
    "papermill": {
     "duration": 0.048364,
     "end_time": "2021-12-25T12:12:02.974620",
     "exception": false,
     "start_time": "2021-12-25T12:12:02.926256",
     "status": "completed"
    },
    "tags": []
   },
   "outputs": [],
   "source": [
    "#hide\n",
    "#delete problematic countries from table\n",
    "df_table = df_table[~df_table['Country/Region'].isin(['Cape Verde', 'Cruise Ship', 'Kosovo'])]"
   ]
  },
  {
   "cell_type": "code",
   "execution_count": 15,
   "id": "fantastic-effect",
   "metadata": {
    "execution": {
     "iopub.execute_input": "2021-12-25T12:12:03.060607Z",
     "iopub.status.busy": "2021-12-25T12:12:03.059970Z",
     "iopub.status.idle": "2021-12-25T12:12:03.081014Z",
     "shell.execute_reply": "2021-12-25T12:12:03.081470Z"
    },
    "papermill": {
     "duration": 0.071759,
     "end_time": "2021-12-25T12:12:03.081629",
     "exception": false,
     "start_time": "2021-12-25T12:12:03.009870",
     "status": "completed"
    },
    "tags": []
   },
   "outputs": [
    {
     "data": {
      "text/html": [
       "<div>\n",
       "<style scoped>\n",
       "    .dataframe tbody tr th:only-of-type {\n",
       "        vertical-align: middle;\n",
       "    }\n",
       "\n",
       "    .dataframe tbody tr th {\n",
       "        vertical-align: top;\n",
       "    }\n",
       "\n",
       "    .dataframe thead th {\n",
       "        text-align: right;\n",
       "    }\n",
       "</style>\n",
       "<table border=\"1\" class=\"dataframe\">\n",
       "  <thead>\n",
       "    <tr style=\"text-align: right;\">\n",
       "      <th></th>\n",
       "      <th>Country/Region</th>\n",
       "      <th>Cases</th>\n",
       "      <th>Deaths</th>\n",
       "      <th>PCases</th>\n",
       "      <th>PDeaths</th>\n",
       "      <th>Cases (+)</th>\n",
       "      <th>Deaths (+)</th>\n",
       "      <th>Fatality Rate</th>\n",
       "      <th>Continent</th>\n",
       "    </tr>\n",
       "  </thead>\n",
       "  <tbody>\n",
       "    <tr>\n",
       "      <th>0</th>\n",
       "      <td>US</td>\n",
       "      <td>51966735</td>\n",
       "      <td>816436</td>\n",
       "      <td>51814820</td>\n",
       "      <td>815423</td>\n",
       "      <td>151915</td>\n",
       "      <td>1013</td>\n",
       "      <td>1.6</td>\n",
       "      <td>North America</td>\n",
       "    </tr>\n",
       "    <tr>\n",
       "      <th>1</th>\n",
       "      <td>India</td>\n",
       "      <td>34779815</td>\n",
       "      <td>479520</td>\n",
       "      <td>34772626</td>\n",
       "      <td>479133</td>\n",
       "      <td>7189</td>\n",
       "      <td>387</td>\n",
       "      <td>1.4</td>\n",
       "      <td>Asia</td>\n",
       "    </tr>\n",
       "    <tr>\n",
       "      <th>2</th>\n",
       "      <td>Brazil</td>\n",
       "      <td>22234623</td>\n",
       "      <td>618655</td>\n",
       "      <td>22230943</td>\n",
       "      <td>618492</td>\n",
       "      <td>3680</td>\n",
       "      <td>163</td>\n",
       "      <td>2.8</td>\n",
       "      <td>South America</td>\n",
       "    </tr>\n",
       "    <tr>\n",
       "      <th>3</th>\n",
       "      <td>United Kingdom</td>\n",
       "      <td>11958841</td>\n",
       "      <td>148324</td>\n",
       "      <td>11836909</td>\n",
       "      <td>148187</td>\n",
       "      <td>121932</td>\n",
       "      <td>137</td>\n",
       "      <td>1.2</td>\n",
       "      <td>Europe</td>\n",
       "    </tr>\n",
       "    <tr>\n",
       "      <th>4</th>\n",
       "      <td>Russia</td>\n",
       "      <td>10164951</td>\n",
       "      <td>296268</td>\n",
       "      <td>10140429</td>\n",
       "      <td>295296</td>\n",
       "      <td>24522</td>\n",
       "      <td>972</td>\n",
       "      <td>2.9</td>\n",
       "      <td>Europe</td>\n",
       "    </tr>\n",
       "  </tbody>\n",
       "</table>\n",
       "</div>"
      ],
      "text/plain": [
       "   Country/Region     Cases  Deaths    PCases  PDeaths  Cases (+)  Deaths (+)  \\\n",
       "0              US  51966735  816436  51814820   815423     151915        1013   \n",
       "1           India  34779815  479520  34772626   479133       7189         387   \n",
       "2          Brazil  22234623  618655  22230943   618492       3680         163   \n",
       "3  United Kingdom  11958841  148324  11836909   148187     121932         137   \n",
       "4          Russia  10164951  296268  10140429   295296      24522         972   \n",
       "\n",
       "   Fatality Rate      Continent  \n",
       "0            1.6  North America  \n",
       "1            1.4           Asia  \n",
       "2            2.8  South America  \n",
       "3            1.2         Europe  \n",
       "4            2.9         Europe  "
      ]
     },
     "execution_count": 15,
     "metadata": {},
     "output_type": "execute_result"
    }
   ],
   "source": [
    "#hide\n",
    "df_table = (pd.DataFrame(dict(Cases=dfc_cases, Deaths=dfc_deaths, PCases=dfp_cases, PDeaths=dfp_deaths))\n",
    "             .sort_values(by=['Cases', 'Deaths'], ascending=[False, False])\n",
    "             .reset_index())\n",
    "df_table.rename(columns={'index': 'Country/Region'}, inplace=True)\n",
    "for c in 'Cases, Deaths'.split(', '):\n",
    "    df_table[f'{c} (+)'] = (df_table[c] - df_table[f'P{c}']).clip(0)  # DATA BUG\n",
    "df_table['Fatality Rate'] = (100 * df_table['Deaths'] / df_table['Cases']).round(1)\n",
    "df_table['Continent'] = df_table['Country/Region'].map(mapping['map.continent'])\n",
    "df_table.head(5)"
   ]
  },
  {
   "cell_type": "code",
   "execution_count": 16,
   "id": "fewer-occasion",
   "metadata": {
    "execution": {
     "iopub.execute_input": "2021-12-25T12:12:03.162237Z",
     "iopub.status.busy": "2021-12-25T12:12:03.161440Z",
     "iopub.status.idle": "2021-12-25T12:12:03.166532Z",
     "shell.execute_reply": "2021-12-25T12:12:03.167111Z"
    },
    "papermill": {
     "duration": 0.050821,
     "end_time": "2021-12-25T12:12:03.167359",
     "exception": false,
     "start_time": "2021-12-25T12:12:03.116538",
     "status": "completed"
    },
    "tags": []
   },
   "outputs": [],
   "source": [
    "#hide\n",
    "#delete problematic countries from table\n",
    "df_table = df_table[~df_table['Country/Region'].isin(['Cape Verde', 'Cruise Ship', 'Kosovo'])]"
   ]
  },
  {
   "cell_type": "code",
   "execution_count": 17,
   "id": "related-center",
   "metadata": {
    "execution": {
     "iopub.execute_input": "2021-12-25T12:12:03.269397Z",
     "iopub.status.busy": "2021-12-25T12:12:03.268737Z",
     "iopub.status.idle": "2021-12-25T12:12:03.271488Z",
     "shell.execute_reply": "2021-12-25T12:12:03.272032Z"
    },
    "papermill": {
     "duration": 0.06421,
     "end_time": "2021-12-25T12:12:03.272193",
     "exception": false,
     "start_time": "2021-12-25T12:12:03.207983",
     "status": "completed"
    },
    "tags": []
   },
   "outputs": [],
   "source": [
    "#hide\n",
    "metrics = [df_table.columns[index] for index in [1,2,5,6]]\n",
    "# s_china = df_table[df_table['Country/Region'].eq('China')][metrics].sum().add_prefix('China ')\n",
    "s_us = df_table[df_table['Country/Region'].eq('US')][metrics].sum().add_prefix('US ')\n",
    "s_eu = df_table[df_table['Continent'].eq('Europe')][metrics].sum().add_prefix('EU ')\n",
    "s_ind = df_table[df_table['Country/Region'].eq('India')][metrics].sum().add_prefix('India ')\n",
    "summary = {'updated': pd.to_datetime(dt_today), 'since': pd.to_datetime(dt_yday)}\n",
    "summary = {'updated': pd.to_datetime(dt_today), 'since': pd.to_datetime(dt_yday)}\n",
    "summary = {**summary, **df_table[metrics].sum(), **s_ind, **s_us, **s_eu}"
   ]
  },
  {
   "cell_type": "code",
   "execution_count": 18,
   "id": "engaging-syndrome",
   "metadata": {
    "execution": {
     "iopub.execute_input": "2021-12-25T12:12:03.350810Z",
     "iopub.status.busy": "2021-12-25T12:12:03.350195Z",
     "iopub.status.idle": "2021-12-25T12:12:03.367767Z",
     "shell.execute_reply": "2021-12-25T12:12:03.367137Z"
    },
    "papermill": {
     "duration": 0.060271,
     "end_time": "2021-12-25T12:12:03.367922",
     "exception": false,
     "start_time": "2021-12-25T12:12:03.307651",
     "status": "completed"
    },
    "tags": []
   },
   "outputs": [],
   "source": [
    "#hide\n",
    "dft_ct_new_cases = dft_cases.groupby(COL_REGION)[dt_cols].sum().diff(axis=1).fillna(0).astype(int)"
   ]
  },
  {
   "cell_type": "code",
   "execution_count": 19,
   "id": "neutral-assignment",
   "metadata": {
    "execution": {
     "iopub.execute_input": "2021-12-25T12:12:03.450439Z",
     "iopub.status.busy": "2021-12-25T12:12:03.449575Z",
     "iopub.status.idle": "2021-12-25T12:12:03.451297Z",
     "shell.execute_reply": "2021-12-25T12:12:03.451824Z"
    },
    "papermill": {
     "duration": 0.046969,
     "end_time": "2021-12-25T12:12:03.452081",
     "exception": false,
     "start_time": "2021-12-25T12:12:03.405112",
     "status": "completed"
    },
    "tags": []
   },
   "outputs": [],
   "source": [
    "#hide\n",
    "everydaycases = dft_ct_new_cases.cumsum(axis=1)"
   ]
  },
  {
   "cell_type": "code",
   "execution_count": 20,
   "id": "parliamentary-calgary",
   "metadata": {
    "execution": {
     "iopub.execute_input": "2021-12-25T12:12:03.528536Z",
     "iopub.status.busy": "2021-12-25T12:12:03.527917Z",
     "iopub.status.idle": "2021-12-25T12:12:04.216641Z",
     "shell.execute_reply": "2021-12-25T12:12:04.215948Z"
    },
    "papermill": {
     "duration": 0.728398,
     "end_time": "2021-12-25T12:12:04.216782",
     "exception": false,
     "start_time": "2021-12-25T12:12:03.488384",
     "status": "completed"
    },
    "tags": []
   },
   "outputs": [],
   "source": [
    "#hide\n",
    "import pandas as pd\n",
    "import matplotlib.pyplot as plt\n",
    "import matplotlib.ticker as ticker\n",
    "import matplotlib.animation as animation\n",
    "from IPython.display import HTML"
   ]
  },
  {
   "cell_type": "code",
   "execution_count": 21,
   "id": "lasting-extraction",
   "metadata": {
    "execution": {
     "iopub.execute_input": "2021-12-25T12:12:04.293501Z",
     "iopub.status.busy": "2021-12-25T12:12:04.292889Z",
     "iopub.status.idle": "2021-12-25T12:12:04.299519Z",
     "shell.execute_reply": "2021-12-25T12:12:04.299005Z"
    },
    "papermill": {
     "duration": 0.048016,
     "end_time": "2021-12-25T12:12:04.299658",
     "exception": false,
     "start_time": "2021-12-25T12:12:04.251642",
     "status": "completed"
    },
    "tags": []
   },
   "outputs": [],
   "source": [
    "#hide\n",
    "t = everydaycases.stack()"
   ]
  },
  {
   "cell_type": "code",
   "execution_count": 22,
   "id": "premier-sleeve",
   "metadata": {
    "execution": {
     "iopub.execute_input": "2021-12-25T12:12:04.374961Z",
     "iopub.status.busy": "2021-12-25T12:12:04.374337Z",
     "iopub.status.idle": "2021-12-25T12:12:04.385182Z",
     "shell.execute_reply": "2021-12-25T12:12:04.385698Z"
    },
    "papermill": {
     "duration": 0.051203,
     "end_time": "2021-12-25T12:12:04.385861",
     "exception": false,
     "start_time": "2021-12-25T12:12:04.334658",
     "status": "completed"
    },
    "tags": []
   },
   "outputs": [],
   "source": [
    "#hide\n",
    "g = t.reset_index(['Country/Region'])"
   ]
  },
  {
   "cell_type": "code",
   "execution_count": 23,
   "id": "distributed-pittsburgh",
   "metadata": {
    "execution": {
     "iopub.execute_input": "2021-12-25T12:12:04.462026Z",
     "iopub.status.busy": "2021-12-25T12:12:04.460944Z",
     "iopub.status.idle": "2021-12-25T12:12:04.466188Z",
     "shell.execute_reply": "2021-12-25T12:12:04.466666Z"
    },
    "papermill": {
     "duration": 0.046297,
     "end_time": "2021-12-25T12:12:04.466823",
     "exception": false,
     "start_time": "2021-12-25T12:12:04.420526",
     "status": "completed"
    },
    "tags": []
   },
   "outputs": [],
   "source": [
    "#hide\n",
    "g.index.name = 'date'"
   ]
  },
  {
   "cell_type": "code",
   "execution_count": 24,
   "id": "naked-donor",
   "metadata": {
    "execution": {
     "iopub.execute_input": "2021-12-25T12:12:04.542641Z",
     "iopub.status.busy": "2021-12-25T12:12:04.541551Z",
     "iopub.status.idle": "2021-12-25T12:12:04.546929Z",
     "shell.execute_reply": "2021-12-25T12:12:04.547454Z"
    },
    "papermill": {
     "duration": 0.04602,
     "end_time": "2021-12-25T12:12:04.547642",
     "exception": false,
     "start_time": "2021-12-25T12:12:04.501622",
     "status": "completed"
    },
    "tags": []
   },
   "outputs": [],
   "source": [
    "# #hide\n",
    "# g = g.reset_index(['date'])"
   ]
  },
  {
   "cell_type": "code",
   "execution_count": 25,
   "id": "incomplete-mustang",
   "metadata": {
    "execution": {
     "iopub.execute_input": "2021-12-25T12:12:04.621193Z",
     "iopub.status.busy": "2021-12-25T12:12:04.620576Z",
     "iopub.status.idle": "2021-12-25T12:12:04.623272Z",
     "shell.execute_reply": "2021-12-25T12:12:04.623785Z"
    },
    "papermill": {
     "duration": 0.041592,
     "end_time": "2021-12-25T12:12:04.623939",
     "exception": false,
     "start_time": "2021-12-25T12:12:04.582347",
     "status": "completed"
    },
    "tags": []
   },
   "outputs": [],
   "source": [
    "#hide\n",
    "# g.head()"
   ]
  },
  {
   "cell_type": "code",
   "execution_count": 26,
   "id": "specific-kruger",
   "metadata": {
    "execution": {
     "iopub.execute_input": "2021-12-25T12:12:04.699026Z",
     "iopub.status.busy": "2021-12-25T12:12:04.698405Z",
     "iopub.status.idle": "2021-12-25T12:12:04.700967Z",
     "shell.execute_reply": "2021-12-25T12:12:04.701508Z"
    },
    "papermill": {
     "duration": 0.0429,
     "end_time": "2021-12-25T12:12:04.701681",
     "exception": false,
     "start_time": "2021-12-25T12:12:04.658781",
     "status": "completed"
    },
    "tags": []
   },
   "outputs": [],
   "source": [
    "#hide\n",
    "# g.columns = ['date','country','cases']"
   ]
  },
  {
   "cell_type": "code",
   "execution_count": 27,
   "id": "tender-conversion",
   "metadata": {
    "execution": {
     "iopub.execute_input": "2021-12-25T12:12:04.776101Z",
     "iopub.status.busy": "2021-12-25T12:12:04.775231Z",
     "iopub.status.idle": "2021-12-25T12:12:04.776868Z",
     "shell.execute_reply": "2021-12-25T12:12:04.777891Z"
    },
    "papermill": {
     "duration": 0.041634,
     "end_time": "2021-12-25T12:12:04.778063",
     "exception": false,
     "start_time": "2021-12-25T12:12:04.736429",
     "status": "completed"
    },
    "tags": []
   },
   "outputs": [],
   "source": [
    "#hide\n",
    "# g['continent'] = g.country"
   ]
  },
  {
   "cell_type": "code",
   "execution_count": 28,
   "id": "substantial-wilderness",
   "metadata": {
    "execution": {
     "iopub.execute_input": "2021-12-25T12:12:04.857558Z",
     "iopub.status.busy": "2021-12-25T12:12:04.856455Z",
     "iopub.status.idle": "2021-12-25T12:12:04.861600Z",
     "shell.execute_reply": "2021-12-25T12:12:04.862055Z"
    },
    "papermill": {
     "duration": 0.046858,
     "end_time": "2021-12-25T12:12:04.862221",
     "exception": false,
     "start_time": "2021-12-25T12:12:04.815363",
     "status": "completed"
    },
    "tags": []
   },
   "outputs": [],
   "source": [
    "#hide\n",
    "# cols = list(g.columns.values)"
   ]
  },
  {
   "cell_type": "code",
   "execution_count": 29,
   "id": "solved-farming",
   "metadata": {
    "execution": {
     "iopub.execute_input": "2021-12-25T12:12:04.936328Z",
     "iopub.status.busy": "2021-12-25T12:12:04.935676Z",
     "iopub.status.idle": "2021-12-25T12:12:04.937237Z",
     "shell.execute_reply": "2021-12-25T12:12:04.937755Z"
    },
    "papermill": {
     "duration": 0.040797,
     "end_time": "2021-12-25T12:12:04.937913",
     "exception": false,
     "start_time": "2021-12-25T12:12:04.897116",
     "status": "completed"
    },
    "tags": []
   },
   "outputs": [],
   "source": [
    "#hide\n",
    "# cols.insert(0, cols.pop())"
   ]
  },
  {
   "cell_type": "code",
   "execution_count": 30,
   "id": "executed-adoption",
   "metadata": {
    "execution": {
     "iopub.execute_input": "2021-12-25T12:12:05.022713Z",
     "iopub.status.busy": "2021-12-25T12:12:05.022086Z",
     "iopub.status.idle": "2021-12-25T12:12:05.027421Z",
     "shell.execute_reply": "2021-12-25T12:12:05.026705Z"
    },
    "papermill": {
     "duration": 0.049089,
     "end_time": "2021-12-25T12:12:05.027623",
     "exception": false,
     "start_time": "2021-12-25T12:12:04.978534",
     "status": "completed"
    },
    "tags": []
   },
   "outputs": [],
   "source": [
    "#hide\n",
    "# g = g[cols]"
   ]
  },
  {
   "cell_type": "code",
   "execution_count": 31,
   "id": "subject-dublin",
   "metadata": {
    "execution": {
     "iopub.execute_input": "2021-12-25T12:12:05.112199Z",
     "iopub.status.busy": "2021-12-25T12:12:05.111001Z",
     "iopub.status.idle": "2021-12-25T12:12:05.115409Z",
     "shell.execute_reply": "2021-12-25T12:12:05.114767Z"
    },
    "papermill": {
     "duration": 0.048278,
     "end_time": "2021-12-25T12:12:05.115589",
     "exception": false,
     "start_time": "2021-12-25T12:12:05.067311",
     "status": "completed"
    },
    "tags": []
   },
   "outputs": [],
   "source": [
    "#hide\n",
    "# g['continent'] = g['continent'].map(mapping['map.continent'])"
   ]
  },
  {
   "cell_type": "code",
   "execution_count": 32,
   "id": "freelance-scout",
   "metadata": {
    "execution": {
     "iopub.execute_input": "2021-12-25T12:12:05.194217Z",
     "iopub.status.busy": "2021-12-25T12:12:05.193582Z",
     "iopub.status.idle": "2021-12-25T12:12:05.196622Z",
     "shell.execute_reply": "2021-12-25T12:12:05.197144Z"
    },
    "papermill": {
     "duration": 0.044884,
     "end_time": "2021-12-25T12:12:05.197304",
     "exception": false,
     "start_time": "2021-12-25T12:12:05.152420",
     "status": "completed"
    },
    "tags": []
   },
   "outputs": [],
   "source": [
    "#hide\n",
    "# g.head()"
   ]
  },
  {
   "cell_type": "code",
   "execution_count": 33,
   "id": "limited-engine",
   "metadata": {
    "execution": {
     "iopub.execute_input": "2021-12-25T12:12:05.273782Z",
     "iopub.status.busy": "2021-12-25T12:12:05.273112Z",
     "iopub.status.idle": "2021-12-25T12:12:05.275654Z",
     "shell.execute_reply": "2021-12-25T12:12:05.275106Z"
    },
    "papermill": {
     "duration": 0.04287,
     "end_time": "2021-12-25T12:12:05.275803",
     "exception": false,
     "start_time": "2021-12-25T12:12:05.232933",
     "status": "completed"
    },
    "tags": []
   },
   "outputs": [],
   "source": [
    "# hide\n",
    "# g['date'] = g['date'].astype('datetime64[ns]')"
   ]
  },
  {
   "cell_type": "code",
   "execution_count": 34,
   "id": "sophisticated-supervisor",
   "metadata": {
    "execution": {
     "iopub.execute_input": "2021-12-25T12:12:05.354608Z",
     "iopub.status.busy": "2021-12-25T12:12:05.353543Z",
     "iopub.status.idle": "2021-12-25T12:12:05.358266Z",
     "shell.execute_reply": "2021-12-25T12:12:05.358724Z"
    },
    "papermill": {
     "duration": 0.046735,
     "end_time": "2021-12-25T12:12:05.358886",
     "exception": false,
     "start_time": "2021-12-25T12:12:05.312151",
     "status": "completed"
    },
    "tags": []
   },
   "outputs": [],
   "source": [
    "#hide\n",
    "# g['date'] = g.date.dt.dayofyear"
   ]
  },
  {
   "cell_type": "code",
   "execution_count": 35,
   "id": "inside-dubai",
   "metadata": {
    "execution": {
     "iopub.execute_input": "2021-12-25T12:12:05.434592Z",
     "iopub.status.busy": "2021-12-25T12:12:05.433972Z",
     "iopub.status.idle": "2021-12-25T12:12:05.436511Z",
     "shell.execute_reply": "2021-12-25T12:12:05.437086Z"
    },
    "papermill": {
     "duration": 0.043448,
     "end_time": "2021-12-25T12:12:05.437244",
     "exception": false,
     "start_time": "2021-12-25T12:12:05.393796",
     "status": "completed"
    },
    "tags": []
   },
   "outputs": [],
   "source": [
    "#hide\n",
    "# g = g.rename(columns= {'continent':'group','country':'name','cases':'value'})"
   ]
  },
  {
   "cell_type": "code",
   "execution_count": 36,
   "id": "fleet-motorcycle",
   "metadata": {
    "execution": {
     "iopub.execute_input": "2021-12-25T12:12:05.512631Z",
     "iopub.status.busy": "2021-12-25T12:12:05.512006Z",
     "iopub.status.idle": "2021-12-25T12:12:05.514180Z",
     "shell.execute_reply": "2021-12-25T12:12:05.514754Z"
    },
    "papermill": {
     "duration": 0.042719,
     "end_time": "2021-12-25T12:12:05.514909",
     "exception": false,
     "start_time": "2021-12-25T12:12:05.472190",
     "status": "completed"
    },
    "tags": []
   },
   "outputs": [],
   "source": [
    "#hide\n",
    "# cols = ['name','group','day','value']"
   ]
  },
  {
   "cell_type": "code",
   "execution_count": 37,
   "id": "continued-sleeping",
   "metadata": {
    "execution": {
     "iopub.execute_input": "2021-12-25T12:12:05.588721Z",
     "iopub.status.busy": "2021-12-25T12:12:05.588077Z",
     "iopub.status.idle": "2021-12-25T12:12:05.592320Z",
     "shell.execute_reply": "2021-12-25T12:12:05.591798Z"
    },
    "papermill": {
     "duration": 0.042668,
     "end_time": "2021-12-25T12:12:05.592458",
     "exception": false,
     "start_time": "2021-12-25T12:12:05.549790",
     "status": "completed"
    },
    "tags": []
   },
   "outputs": [],
   "source": [
    "#hide\n",
    "# g.rename(columns= {'date':'day'},inplace = True)"
   ]
  },
  {
   "cell_type": "code",
   "execution_count": 38,
   "id": "major-fight",
   "metadata": {
    "execution": {
     "iopub.execute_input": "2021-12-25T12:12:05.684424Z",
     "iopub.status.busy": "2021-12-25T12:12:05.683697Z",
     "iopub.status.idle": "2021-12-25T12:12:05.685626Z",
     "shell.execute_reply": "2021-12-25T12:12:05.686071Z"
    },
    "papermill": {
     "duration": 0.042253,
     "end_time": "2021-12-25T12:12:05.686225",
     "exception": false,
     "start_time": "2021-12-25T12:12:05.643972",
     "status": "completed"
    },
    "tags": []
   },
   "outputs": [],
   "source": [
    "#hide\n",
    "# g = g[cols]"
   ]
  },
  {
   "cell_type": "code",
   "execution_count": 39,
   "id": "structured-mobile",
   "metadata": {
    "execution": {
     "iopub.execute_input": "2021-12-25T12:12:05.763997Z",
     "iopub.status.busy": "2021-12-25T12:12:05.763338Z",
     "iopub.status.idle": "2021-12-25T12:12:05.766675Z",
     "shell.execute_reply": "2021-12-25T12:12:05.765759Z"
    },
    "papermill": {
     "duration": 0.04414,
     "end_time": "2021-12-25T12:12:05.766888",
     "exception": false,
     "start_time": "2021-12-25T12:12:05.722748",
     "status": "completed"
    },
    "tags": []
   },
   "outputs": [],
   "source": [
    "# #hide\n",
    "# g = g[g.group.notna()]"
   ]
  },
  {
   "cell_type": "code",
   "execution_count": 40,
   "id": "determined-closing",
   "metadata": {
    "execution": {
     "iopub.execute_input": "2021-12-25T12:12:05.861184Z",
     "iopub.status.busy": "2021-12-25T12:12:05.860466Z",
     "iopub.status.idle": "2021-12-25T12:12:05.864752Z",
     "shell.execute_reply": "2021-12-25T12:12:05.864246Z"
    },
    "papermill": {
     "duration": 0.050825,
     "end_time": "2021-12-25T12:12:05.864890",
     "exception": false,
     "start_time": "2021-12-25T12:12:05.814065",
     "status": "completed"
    },
    "tags": []
   },
   "outputs": [],
   "source": [
    "# #hide\n",
    "# colors = dict(zip(\n",
    "#     [\"Oceania\", \"Europe\", \"Asia\", \"South America\", \"Middle East\", \"North America\", \"Africa\"],\n",
    "#     [\"#adb0ff\", \"#ffb3ff\", \"#90d595\", \"#e48381\", \"#aafbff\", \"#f7bb5f\", \"#eafb50\"]\n",
    "# ))\n",
    "# group_lk = g.set_index('name')['group'].to_dict()"
   ]
  },
  {
   "cell_type": "code",
   "execution_count": null,
   "id": "gross-drinking",
   "metadata": {
    "papermill": {
     "duration": 0.035508,
     "end_time": "2021-12-25T12:12:05.936411",
     "exception": false,
     "start_time": "2021-12-25T12:12:05.900903",
     "status": "completed"
    },
    "tags": []
   },
   "outputs": [],
   "source": []
  },
  {
   "cell_type": "code",
   "execution_count": 41,
   "id": "subject-macintosh",
   "metadata": {
    "execution": {
     "iopub.execute_input": "2021-12-25T12:12:06.014710Z",
     "iopub.status.busy": "2021-12-25T12:12:06.013771Z",
     "iopub.status.idle": "2021-12-25T12:12:06.018424Z",
     "shell.execute_reply": "2021-12-25T12:12:06.017926Z"
    },
    "papermill": {
     "duration": 0.045616,
     "end_time": "2021-12-25T12:12:06.018563",
     "exception": false,
     "start_time": "2021-12-25T12:12:05.972947",
     "status": "completed"
    },
    "tags": []
   },
   "outputs": [],
   "source": [
    "# #hide\n",
    "# fig, ax = plt.subplots(figsize=(15, 8))\n",
    "\n",
    "# def draw_barchart(current_day):\n",
    "#     dff = g[g['day'].eq(current_day)].sort_values(by='value', ascending=True).tail(10)\n",
    "#     ax.clear()\n",
    "#     ax.barh(dff['name'], dff['value'], color=[colors[group_lk[x]] for x in dff['name']])\n",
    "#     dx = dff['value'].max() / 200\n",
    "    \n",
    "#     for i, (value, name) in enumerate(zip(dff['value'], dff['name'])):\n",
    "#         ax.text(value-dx, i,     name,           size=14, weight=600, ha='right', va='bottom')\n",
    "#         ax.text(value-dx, i-.25, group_lk[name], size=10, color='#444444', ha='right', va='baseline')\n",
    "#         ax.text(value+dx, i,     f'{value:,.0f}',  size=14, ha='left',  va='center')\n",
    "#     ax.text(1, 0.4, current_day, transform=ax.transAxes, color='#777777', size=46, ha='right', weight=800)\n",
    "#     ax.text(0, 1.06, 'Population (thousands)', transform=ax.transAxes, size=12, color='#777777')\n",
    "#     ax.xaxis.set_major_formatter(ticker.StrMethodFormatter('{x:,.0f}'))\n",
    "#     ax.xaxis.set_ticks_position('top')\n",
    "#     ax.tick_params(axis='x', colors='#777777', labelsize=12)\n",
    "#     ax.set_yticks([])\n",
    "#     ax.margins(0, 0.01)\n",
    "#     ax.grid(which='major', axis='x', linestyle='-')\n",
    "#     ax.set_axisbelow(True)\n",
    "    \n",
    "#     ax.text(0, 1.15, 'Coronavirus',\n",
    "#             transform=ax.transAxes, size=24, weight=600, ha='left', va='top')\n",
    "# #     ax.text(1, 0, 'by @pratapvardhan; credit @jburnmurdoch', transform=ax.transAxes, color='#777777', ha='right',\n",
    "# #             bbox=dict(facecolor='white', alpha=0.8, edgecolor='white'))\n",
    "#     plt.box(False)"
   ]
  },
  {
   "cell_type": "code",
   "execution_count": 42,
   "id": "sexual-wages",
   "metadata": {
    "execution": {
     "iopub.execute_input": "2021-12-25T12:12:06.093641Z",
     "iopub.status.busy": "2021-12-25T12:12:06.093004Z",
     "iopub.status.idle": "2021-12-25T12:12:06.095311Z",
     "shell.execute_reply": "2021-12-25T12:12:06.094757Z"
    },
    "papermill": {
     "duration": 0.041356,
     "end_time": "2021-12-25T12:12:06.095442",
     "exception": false,
     "start_time": "2021-12-25T12:12:06.054086",
     "status": "completed"
    },
    "tags": []
   },
   "outputs": [],
   "source": [
    "# #hide_input\n",
    "# fig, ax = plt.subplots(figsize=(15, 8))\n",
    "# animator = animation.FuncAnimation(fig, draw_barchart, frames=range(g.day.values.min(), g.day.values.max()))\n",
    "# HTML(animator.to_jshtml())\n",
    "# # or use animator.to_html5_video() or animator.save() "
   ]
  },
  {
   "cell_type": "code",
   "execution_count": null,
   "id": "australian-container",
   "metadata": {
    "papermill": {
     "duration": 0.035502,
     "end_time": "2021-12-25T12:12:06.166416",
     "exception": false,
     "start_time": "2021-12-25T12:12:06.130914",
     "status": "completed"
    },
    "tags": []
   },
   "outputs": [],
   "source": []
  },
  {
   "cell_type": "code",
   "execution_count": null,
   "id": "mediterranean-pontiac",
   "metadata": {
    "papermill": {
     "duration": 0.03582,
     "end_time": "2021-12-25T12:12:06.238690",
     "exception": false,
     "start_time": "2021-12-25T12:12:06.202870",
     "status": "completed"
    },
    "tags": []
   },
   "outputs": [],
   "source": []
  },
  {
   "cell_type": "code",
   "execution_count": null,
   "id": "aging-legislature",
   "metadata": {
    "papermill": {
     "duration": 0.035387,
     "end_time": "2021-12-25T12:12:06.309915",
     "exception": false,
     "start_time": "2021-12-25T12:12:06.274528",
     "status": "completed"
    },
    "tags": []
   },
   "outputs": [],
   "source": []
  }
 ],
 "metadata": {
  "kernelspec": {
   "display_name": "Python 3",
   "language": "python",
   "name": "python3"
  },
  "language_info": {
   "codemirror_mode": {
    "name": "ipython",
    "version": 3
   },
   "file_extension": ".py",
   "mimetype": "text/x-python",
   "name": "python",
   "nbconvert_exporter": "python",
   "pygments_lexer": "ipython3",
   "version": "3.6.15"
  },
  "papermill": {
   "duration": 7.094305,
   "end_time": "2021-12-25T12:12:06.756196",
   "environment_variables": {},
   "exception": null,
   "input_path": "2020-03-21-covid19exp.ipynb",
   "output_path": "2020-03-21-covid19exp.ipynb",
   "parameters": {},
   "start_time": "2021-12-25T12:11:59.661891",
   "version": "2.0.0"
  }
 },
 "nbformat": 4,
 "nbformat_minor": 5
}