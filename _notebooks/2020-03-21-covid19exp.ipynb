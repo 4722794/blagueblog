{
 "cells": [
  {
   "cell_type": "markdown",
   "id": "muslim-click",
   "metadata": {
    "papermill": {
     "duration": 0.035099,
     "end_time": "2022-08-13T00:40:13.398674",
     "exception": false,
     "start_time": "2022-08-13T00:40:13.363575",
     "status": "completed"
    },
    "tags": []
   },
   "source": [
    "# COVID-19 Case Race\n",
    "> A race chart to see rising cases around the world\n",
    "\n",
    "- author: Hargun Oberoi\n",
    "- image: images/covid-overview.png\n",
    "- hide: false\n",
    "- badges: false"
   ]
  },
  {
   "cell_type": "code",
   "execution_count": 1,
   "id": "proof-material",
   "metadata": {
    "execution": {
     "iopub.execute_input": "2022-08-13T00:40:13.469133Z",
     "iopub.status.busy": "2022-08-13T00:40:13.468550Z",
     "iopub.status.idle": "2022-08-13T00:40:13.786480Z",
     "shell.execute_reply": "2022-08-13T00:40:13.785986Z"
    },
    "papermill": {
     "duration": 0.357403,
     "end_time": "2022-08-13T00:40:13.786610",
     "exception": false,
     "start_time": "2022-08-13T00:40:13.429207",
     "status": "completed"
    },
    "tags": []
   },
   "outputs": [],
   "source": [
    "#hide\n",
    "import numpy as np\n",
    "import pandas as pd\n",
    "from jinja2 import Template\n",
    "from IPython.display import HTML"
   ]
  },
  {
   "cell_type": "code",
   "execution_count": 2,
   "id": "developed-terminology",
   "metadata": {
    "execution": {
     "iopub.execute_input": "2022-08-13T00:40:13.851099Z",
     "iopub.status.busy": "2022-08-13T00:40:13.850534Z",
     "iopub.status.idle": "2022-08-13T00:40:13.852811Z",
     "shell.execute_reply": "2022-08-13T00:40:13.853232Z"
    },
    "papermill": {
     "duration": 0.036736,
     "end_time": "2022-08-13T00:40:13.853348",
     "exception": false,
     "start_time": "2022-08-13T00:40:13.816612",
     "status": "completed"
    },
    "tags": []
   },
   "outputs": [],
   "source": [
    "#hide\n",
    "\n",
    "# FETCH\n",
    "base_url = 'https://raw.githubusercontent.com/pratapvardhan/notebooks/master/covid19/'\n",
    "paths = {\n",
    "    'mapping': base_url + 'mapping_countries.csv',\n",
    "    'overview': base_url + 'overview.tpl'\n",
    "}"
   ]
  },
  {
   "cell_type": "code",
   "execution_count": 3,
   "id": "dynamic-saver",
   "metadata": {
    "execution": {
     "iopub.execute_input": "2022-08-13T00:40:13.922293Z",
     "iopub.status.busy": "2022-08-13T00:40:13.921719Z",
     "iopub.status.idle": "2022-08-13T00:40:13.925689Z",
     "shell.execute_reply": "2022-08-13T00:40:13.926222Z"
    },
    "papermill": {
     "duration": 0.043343,
     "end_time": "2022-08-13T00:40:13.926343",
     "exception": false,
     "start_time": "2022-08-13T00:40:13.883000",
     "status": "completed"
    },
    "tags": []
   },
   "outputs": [
    {
     "data": {
      "text/plain": [
       "'https://raw.githubusercontent.com/pratapvardhan/notebooks/master/covid19/mapping_countries.csv'"
      ]
     },
     "execution_count": 3,
     "metadata": {},
     "output_type": "execute_result"
    }
   ],
   "source": [
    "#hide\n",
    "paths['mapping']"
   ]
  },
  {
   "cell_type": "code",
   "execution_count": 4,
   "id": "urban-software",
   "metadata": {
    "execution": {
     "iopub.execute_input": "2022-08-13T00:40:13.992329Z",
     "iopub.status.busy": "2022-08-13T00:40:13.991726Z",
     "iopub.status.idle": "2022-08-13T00:40:13.994996Z",
     "shell.execute_reply": "2022-08-13T00:40:13.995445Z"
    },
    "papermill": {
     "duration": 0.038828,
     "end_time": "2022-08-13T00:40:13.995570",
     "exception": false,
     "start_time": "2022-08-13T00:40:13.956742",
     "status": "completed"
    },
    "tags": []
   },
   "outputs": [],
   "source": [
    "#hide\n",
    "def get_mappings(url):\n",
    "    df = pd.read_csv(url)\n",
    "    return {\n",
    "        'df': df,\n",
    "        'replace.country': dict(df.dropna(subset=['Name']).set_index('Country')['Name']),\n",
    "        'map.continent': dict(df.set_index('Name')['Continent'])\n",
    "    }"
   ]
  },
  {
   "cell_type": "code",
   "execution_count": 5,
   "id": "intimate-machinery",
   "metadata": {
    "execution": {
     "iopub.execute_input": "2022-08-13T00:40:14.062076Z",
     "iopub.status.busy": "2022-08-13T00:40:14.061320Z",
     "iopub.status.idle": "2022-08-13T00:40:14.109711Z",
     "shell.execute_reply": "2022-08-13T00:40:14.109136Z"
    },
    "papermill": {
     "duration": 0.083937,
     "end_time": "2022-08-13T00:40:14.109818",
     "exception": false,
     "start_time": "2022-08-13T00:40:14.025881",
     "status": "completed"
    },
    "tags": []
   },
   "outputs": [],
   "source": [
    "#hide\n",
    "mapping = get_mappings(paths['mapping'])"
   ]
  },
  {
   "cell_type": "code",
   "execution_count": 6,
   "id": "certified-tactics",
   "metadata": {
    "execution": {
     "iopub.execute_input": "2022-08-13T00:40:14.175361Z",
     "iopub.status.busy": "2022-08-13T00:40:14.174775Z",
     "iopub.status.idle": "2022-08-13T00:40:14.177288Z",
     "shell.execute_reply": "2022-08-13T00:40:14.176823Z"
    },
    "papermill": {
     "duration": 0.037194,
     "end_time": "2022-08-13T00:40:14.177389",
     "exception": false,
     "start_time": "2022-08-13T00:40:14.140195",
     "status": "completed"
    },
    "tags": []
   },
   "outputs": [],
   "source": [
    "#hide\n",
    "def get_template(path):\n",
    "    from urllib.parse import urlparse\n",
    "    if bool(urlparse(path).netloc):\n",
    "        from urllib.request import urlopen\n",
    "        return urlopen(path).read().decode('utf8')\n",
    "    return open(path).read()"
   ]
  },
  {
   "cell_type": "code",
   "execution_count": 7,
   "id": "realistic-blast",
   "metadata": {
    "execution": {
     "iopub.execute_input": "2022-08-13T00:40:14.242710Z",
     "iopub.status.busy": "2022-08-13T00:40:14.242104Z",
     "iopub.status.idle": "2022-08-13T00:40:14.245853Z",
     "shell.execute_reply": "2022-08-13T00:40:14.246286Z"
    },
    "papermill": {
     "duration": 0.03902,
     "end_time": "2022-08-13T00:40:14.246426",
     "exception": false,
     "start_time": "2022-08-13T00:40:14.207406",
     "status": "completed"
    },
    "tags": []
   },
   "outputs": [],
   "source": [
    "#hide\n",
    "def get_frame(name):\n",
    "    url = (\n",
    "        'https://raw.githubusercontent.com/CSSEGISandData/COVID-19/master/csse_covid_19_data/'\n",
    "        f'csse_covid_19_time_series/time_series_covid19_{name}_global.csv')\n",
    "    df = pd.read_csv(url)\n",
    "    # rename countries\n",
    "    df['Country/Region'] = df['Country/Region'].replace(mapping['replace.country'])\n",
    "    return df"
   ]
  },
  {
   "cell_type": "code",
   "execution_count": 8,
   "id": "affiliated-characterization",
   "metadata": {
    "execution": {
     "iopub.execute_input": "2022-08-13T00:40:14.312779Z",
     "iopub.status.busy": "2022-08-13T00:40:14.312176Z",
     "iopub.status.idle": "2022-08-13T00:40:14.314433Z",
     "shell.execute_reply": "2022-08-13T00:40:14.314852Z"
    },
    "papermill": {
     "duration": 0.038161,
     "end_time": "2022-08-13T00:40:14.314977",
     "exception": false,
     "start_time": "2022-08-13T00:40:14.276816",
     "status": "completed"
    },
    "tags": []
   },
   "outputs": [],
   "source": [
    "#hide\n",
    "def get_dates(df):\n",
    "    dt_cols = df.columns[~df.columns.isin(['Province/State', 'Country/Region', 'Lat', 'Long'])]\n",
    "    LAST_DATE_I = -1\n",
    "    # sometimes last column may be empty, then go backwards\n",
    "    for i in range(-1, -len(dt_cols), -1):\n",
    "        if not df[dt_cols[i]].fillna(0).eq(0).all():\n",
    "            LAST_DATE_I = i\n",
    "            break\n",
    "    return LAST_DATE_I, dt_cols"
   ]
  },
  {
   "cell_type": "code",
   "execution_count": 9,
   "id": "recent-optimization",
   "metadata": {
    "execution": {
     "iopub.execute_input": "2022-08-13T00:40:14.379563Z",
     "iopub.status.busy": "2022-08-13T00:40:14.378999Z",
     "iopub.status.idle": "2022-08-13T00:40:14.908779Z",
     "shell.execute_reply": "2022-08-13T00:40:14.908271Z"
    },
    "papermill": {
     "duration": 0.563868,
     "end_time": "2022-08-13T00:40:14.908898",
     "exception": false,
     "start_time": "2022-08-13T00:40:14.345030",
     "status": "completed"
    },
    "tags": []
   },
   "outputs": [],
   "source": [
    "#hide\n",
    "COL_REGION = 'Country/Region'\n",
    "# Confirmed, Recovered, Deaths\n",
    "df = get_frame('confirmed')\n",
    "# dft_: timeseries, dfc_: today country agg\n",
    "dft_cases = df\n",
    "dft_deaths = get_frame('deaths')\n",
    "dft_recovered = get_frame('recovered')\n",
    "LAST_DATE_I, dt_cols = get_dates(df)"
   ]
  },
  {
   "cell_type": "code",
   "execution_count": 10,
   "id": "absolute-copper",
   "metadata": {
    "execution": {
     "iopub.execute_input": "2022-08-13T00:40:14.974567Z",
     "iopub.status.busy": "2022-08-13T00:40:14.973972Z",
     "iopub.status.idle": "2022-08-13T00:40:14.976474Z",
     "shell.execute_reply": "2022-08-13T00:40:14.975928Z"
    },
    "papermill": {
     "duration": 0.037392,
     "end_time": "2022-08-13T00:40:14.976579",
     "exception": false,
     "start_time": "2022-08-13T00:40:14.939187",
     "status": "completed"
    },
    "tags": []
   },
   "outputs": [],
   "source": [
    "#hide\n",
    "LAST_DATE_I, dt_cols = get_dates(df)\n",
    "dt_today =dt_cols[LAST_DATE_I]\n",
    "# dt_5day = dt_cols[LAST_DATE_I - 5]\n",
    "dt_yday = dt_cols[LAST_DATE_I - 1]"
   ]
  },
  {
   "cell_type": "code",
   "execution_count": 11,
   "id": "restricted-sheriff",
   "metadata": {
    "execution": {
     "iopub.execute_input": "2022-08-13T00:40:15.043723Z",
     "iopub.status.busy": "2022-08-13T00:40:15.043135Z",
     "iopub.status.idle": "2022-08-13T00:40:15.049190Z",
     "shell.execute_reply": "2022-08-13T00:40:15.048653Z"
    },
    "papermill": {
     "duration": 0.042645,
     "end_time": "2022-08-13T00:40:15.049293",
     "exception": false,
     "start_time": "2022-08-13T00:40:15.006648",
     "status": "completed"
    },
    "tags": []
   },
   "outputs": [],
   "source": [
    "#hide\n",
    "dfc_cases = dft_cases.groupby(COL_REGION)[dt_today].sum()\n",
    "dfc_deaths = dft_deaths.groupby(COL_REGION)[dt_today].sum()\n",
    "# dfp_cases = dft_cases.groupby(COL_REGION)[dt_5day].sum()\n",
    "# dfp_deaths = dft_deaths.groupby(COL_REGION)[dt_5day].sum()\n",
    "dfp_cases = dft_cases.groupby(COL_REGION)[dt_yday].sum()\n",
    "dfp_deaths = dft_deaths.groupby(COL_REGION)[dt_yday].sum()"
   ]
  },
  {
   "cell_type": "code",
   "execution_count": 12,
   "id": "deluxe-hepatitis",
   "metadata": {
    "execution": {
     "iopub.execute_input": "2022-08-13T00:40:15.115224Z",
     "iopub.status.busy": "2022-08-13T00:40:15.114663Z",
     "iopub.status.idle": "2022-08-13T00:40:15.119358Z",
     "shell.execute_reply": "2022-08-13T00:40:15.118903Z"
    },
    "papermill": {
     "duration": 0.040022,
     "end_time": "2022-08-13T00:40:15.119459",
     "exception": false,
     "start_time": "2022-08-13T00:40:15.079437",
     "status": "completed"
    },
    "tags": []
   },
   "outputs": [],
   "source": [
    "#hide\n",
    "df_table = (pd.DataFrame(dict(Cases = dfc_cases, Deaths = dfc_deaths, PCases = dfp_cases, PDeaths = dfp_deaths))\n",
    "            .sort_values(by = ['Cases','Deaths'], ascending = [False, False])\n",
    "            .reset_index())"
   ]
  },
  {
   "cell_type": "code",
   "execution_count": 13,
   "id": "educational-chancellor",
   "metadata": {
    "execution": {
     "iopub.execute_input": "2022-08-13T00:40:15.192180Z",
     "iopub.status.busy": "2022-08-13T00:40:15.191615Z",
     "iopub.status.idle": "2022-08-13T00:40:15.203739Z",
     "shell.execute_reply": "2022-08-13T00:40:15.203279Z"
    },
    "papermill": {
     "duration": 0.054405,
     "end_time": "2022-08-13T00:40:15.203843",
     "exception": false,
     "start_time": "2022-08-13T00:40:15.149438",
     "status": "completed"
    },
    "tags": []
   },
   "outputs": [
    {
     "data": {
      "text/html": [
       "<div>\n",
       "<style scoped>\n",
       "    .dataframe tbody tr th:only-of-type {\n",
       "        vertical-align: middle;\n",
       "    }\n",
       "\n",
       "    .dataframe tbody tr th {\n",
       "        vertical-align: top;\n",
       "    }\n",
       "\n",
       "    .dataframe thead th {\n",
       "        text-align: right;\n",
       "    }\n",
       "</style>\n",
       "<table border=\"1\" class=\"dataframe\">\n",
       "  <thead>\n",
       "    <tr style=\"text-align: right;\">\n",
       "      <th></th>\n",
       "      <th>Country/Region</th>\n",
       "      <th>Cases</th>\n",
       "      <th>Deaths</th>\n",
       "      <th>PCases</th>\n",
       "      <th>PDeaths</th>\n",
       "      <th>Cases (+)</th>\n",
       "      <th>Deaths (+)</th>\n",
       "      <th>Fatality Rate</th>\n",
       "      <th>Continent</th>\n",
       "    </tr>\n",
       "  </thead>\n",
       "  <tbody>\n",
       "    <tr>\n",
       "      <th>0</th>\n",
       "      <td>US</td>\n",
       "      <td>92720029</td>\n",
       "      <td>1036325</td>\n",
       "      <td>92569249</td>\n",
       "      <td>1035706</td>\n",
       "      <td>150780</td>\n",
       "      <td>619</td>\n",
       "      <td>1.12</td>\n",
       "      <td>North America</td>\n",
       "    </tr>\n",
       "    <tr>\n",
       "      <th>1</th>\n",
       "      <td>India</td>\n",
       "      <td>44223557</td>\n",
       "      <td>526928</td>\n",
       "      <td>44206996</td>\n",
       "      <td>526879</td>\n",
       "      <td>16561</td>\n",
       "      <td>49</td>\n",
       "      <td>1.19</td>\n",
       "      <td>Asia</td>\n",
       "    </tr>\n",
       "    <tr>\n",
       "      <th>2</th>\n",
       "      <td>France</td>\n",
       "      <td>34383344</td>\n",
       "      <td>154030</td>\n",
       "      <td>34359013</td>\n",
       "      <td>153950</td>\n",
       "      <td>24331</td>\n",
       "      <td>80</td>\n",
       "      <td>0.45</td>\n",
       "      <td>Europe</td>\n",
       "    </tr>\n",
       "    <tr>\n",
       "      <th>3</th>\n",
       "      <td>Brazil</td>\n",
       "      <td>34124579</td>\n",
       "      <td>681006</td>\n",
       "      <td>34066000</td>\n",
       "      <td>680531</td>\n",
       "      <td>58579</td>\n",
       "      <td>475</td>\n",
       "      <td>2.00</td>\n",
       "      <td>South America</td>\n",
       "    </tr>\n",
       "    <tr>\n",
       "      <th>4</th>\n",
       "      <td>Germany</td>\n",
       "      <td>31489484</td>\n",
       "      <td>145561</td>\n",
       "      <td>31439645</td>\n",
       "      <td>145394</td>\n",
       "      <td>49839</td>\n",
       "      <td>167</td>\n",
       "      <td>0.46</td>\n",
       "      <td>Europe</td>\n",
       "    </tr>\n",
       "  </tbody>\n",
       "</table>\n",
       "</div>"
      ],
      "text/plain": [
       "  Country/Region     Cases   Deaths    PCases  PDeaths  Cases (+)  Deaths (+)  \\\n",
       "0             US  92720029  1036325  92569249  1035706     150780         619   \n",
       "1          India  44223557   526928  44206996   526879      16561          49   \n",
       "2         France  34383344   154030  34359013   153950      24331          80   \n",
       "3         Brazil  34124579   681006  34066000   680531      58579         475   \n",
       "4        Germany  31489484   145561  31439645   145394      49839         167   \n",
       "\n",
       "   Fatality Rate      Continent  \n",
       "0           1.12  North America  \n",
       "1           1.19           Asia  \n",
       "2           0.45         Europe  \n",
       "3           2.00  South America  \n",
       "4           0.46         Europe  "
      ]
     },
     "execution_count": 13,
     "metadata": {},
     "output_type": "execute_result"
    }
   ],
   "source": [
    "#hide\n",
    "for c in 'Cases, Deaths'.split(', '):\n",
    "    df_table[f'{c} (+)'] = (df_table[c] - df_table[f'P{c}']).clip(0)\n",
    "    #Clip ça veut dire, les chiffres negatif sont interdit\n",
    "df_table['Fatality Rate'] = (100* df_table['Deaths']/ df_table['Cases']).round(2)\n",
    "df_table['Continent'] = df_table['Country/Region'].map(mapping['map.continent'])\n",
    "df_table.head(5)"
   ]
  },
  {
   "cell_type": "code",
   "execution_count": 14,
   "id": "aboriginal-bulgaria",
   "metadata": {
    "execution": {
     "iopub.execute_input": "2022-08-13T00:40:15.270727Z",
     "iopub.status.busy": "2022-08-13T00:40:15.270143Z",
     "iopub.status.idle": "2022-08-13T00:40:15.272664Z",
     "shell.execute_reply": "2022-08-13T00:40:15.272115Z"
    },
    "papermill": {
     "duration": 0.038259,
     "end_time": "2022-08-13T00:40:15.272767",
     "exception": false,
     "start_time": "2022-08-13T00:40:15.234508",
     "status": "completed"
    },
    "tags": []
   },
   "outputs": [],
   "source": [
    "#hide\n",
    "#delete problematic countries from table\n",
    "df_table = df_table[~df_table['Country/Region'].isin(['Cape Verde', 'Cruise Ship', 'Kosovo'])]"
   ]
  },
  {
   "cell_type": "code",
   "execution_count": 15,
   "id": "fantastic-effect",
   "metadata": {
    "execution": {
     "iopub.execute_input": "2022-08-13T00:40:15.341773Z",
     "iopub.status.busy": "2022-08-13T00:40:15.341206Z",
     "iopub.status.idle": "2022-08-13T00:40:15.358750Z",
     "shell.execute_reply": "2022-08-13T00:40:15.358296Z"
    },
    "papermill": {
     "duration": 0.055525,
     "end_time": "2022-08-13T00:40:15.358852",
     "exception": false,
     "start_time": "2022-08-13T00:40:15.303327",
     "status": "completed"
    },
    "tags": []
   },
   "outputs": [
    {
     "data": {
      "text/html": [
       "<div>\n",
       "<style scoped>\n",
       "    .dataframe tbody tr th:only-of-type {\n",
       "        vertical-align: middle;\n",
       "    }\n",
       "\n",
       "    .dataframe tbody tr th {\n",
       "        vertical-align: top;\n",
       "    }\n",
       "\n",
       "    .dataframe thead th {\n",
       "        text-align: right;\n",
       "    }\n",
       "</style>\n",
       "<table border=\"1\" class=\"dataframe\">\n",
       "  <thead>\n",
       "    <tr style=\"text-align: right;\">\n",
       "      <th></th>\n",
       "      <th>Country/Region</th>\n",
       "      <th>Cases</th>\n",
       "      <th>Deaths</th>\n",
       "      <th>PCases</th>\n",
       "      <th>PDeaths</th>\n",
       "      <th>Cases (+)</th>\n",
       "      <th>Deaths (+)</th>\n",
       "      <th>Fatality Rate</th>\n",
       "      <th>Continent</th>\n",
       "    </tr>\n",
       "  </thead>\n",
       "  <tbody>\n",
       "    <tr>\n",
       "      <th>0</th>\n",
       "      <td>US</td>\n",
       "      <td>92720029</td>\n",
       "      <td>1036325</td>\n",
       "      <td>92569249</td>\n",
       "      <td>1035706</td>\n",
       "      <td>150780</td>\n",
       "      <td>619</td>\n",
       "      <td>1.1</td>\n",
       "      <td>North America</td>\n",
       "    </tr>\n",
       "    <tr>\n",
       "      <th>1</th>\n",
       "      <td>India</td>\n",
       "      <td>44223557</td>\n",
       "      <td>526928</td>\n",
       "      <td>44206996</td>\n",
       "      <td>526879</td>\n",
       "      <td>16561</td>\n",
       "      <td>49</td>\n",
       "      <td>1.2</td>\n",
       "      <td>Asia</td>\n",
       "    </tr>\n",
       "    <tr>\n",
       "      <th>2</th>\n",
       "      <td>France</td>\n",
       "      <td>34383344</td>\n",
       "      <td>154030</td>\n",
       "      <td>34359013</td>\n",
       "      <td>153950</td>\n",
       "      <td>24331</td>\n",
       "      <td>80</td>\n",
       "      <td>0.4</td>\n",
       "      <td>Europe</td>\n",
       "    </tr>\n",
       "    <tr>\n",
       "      <th>3</th>\n",
       "      <td>Brazil</td>\n",
       "      <td>34124579</td>\n",
       "      <td>681006</td>\n",
       "      <td>34066000</td>\n",
       "      <td>680531</td>\n",
       "      <td>58579</td>\n",
       "      <td>475</td>\n",
       "      <td>2.0</td>\n",
       "      <td>South America</td>\n",
       "    </tr>\n",
       "    <tr>\n",
       "      <th>4</th>\n",
       "      <td>Germany</td>\n",
       "      <td>31489484</td>\n",
       "      <td>145561</td>\n",
       "      <td>31439645</td>\n",
       "      <td>145394</td>\n",
       "      <td>49839</td>\n",
       "      <td>167</td>\n",
       "      <td>0.5</td>\n",
       "      <td>Europe</td>\n",
       "    </tr>\n",
       "  </tbody>\n",
       "</table>\n",
       "</div>"
      ],
      "text/plain": [
       "  Country/Region     Cases   Deaths    PCases  PDeaths  Cases (+)  Deaths (+)  \\\n",
       "0             US  92720029  1036325  92569249  1035706     150780         619   \n",
       "1          India  44223557   526928  44206996   526879      16561          49   \n",
       "2         France  34383344   154030  34359013   153950      24331          80   \n",
       "3         Brazil  34124579   681006  34066000   680531      58579         475   \n",
       "4        Germany  31489484   145561  31439645   145394      49839         167   \n",
       "\n",
       "   Fatality Rate      Continent  \n",
       "0            1.1  North America  \n",
       "1            1.2           Asia  \n",
       "2            0.4         Europe  \n",
       "3            2.0  South America  \n",
       "4            0.5         Europe  "
      ]
     },
     "execution_count": 15,
     "metadata": {},
     "output_type": "execute_result"
    }
   ],
   "source": [
    "#hide\n",
    "df_table = (pd.DataFrame(dict(Cases=dfc_cases, Deaths=dfc_deaths, PCases=dfp_cases, PDeaths=dfp_deaths))\n",
    "             .sort_values(by=['Cases', 'Deaths'], ascending=[False, False])\n",
    "             .reset_index())\n",
    "df_table.rename(columns={'index': 'Country/Region'}, inplace=True)\n",
    "for c in 'Cases, Deaths'.split(', '):\n",
    "    df_table[f'{c} (+)'] = (df_table[c] - df_table[f'P{c}']).clip(0)  # DATA BUG\n",
    "df_table['Fatality Rate'] = (100 * df_table['Deaths'] / df_table['Cases']).round(1)\n",
    "df_table['Continent'] = df_table['Country/Region'].map(mapping['map.continent'])\n",
    "df_table.head(5)"
   ]
  },
  {
   "cell_type": "code",
   "execution_count": 16,
   "id": "fewer-occasion",
   "metadata": {
    "execution": {
     "iopub.execute_input": "2022-08-13T00:40:15.426552Z",
     "iopub.status.busy": "2022-08-13T00:40:15.426004Z",
     "iopub.status.idle": "2022-08-13T00:40:15.428279Z",
     "shell.execute_reply": "2022-08-13T00:40:15.428728Z"
    },
    "papermill": {
     "duration": 0.038755,
     "end_time": "2022-08-13T00:40:15.428844",
     "exception": false,
     "start_time": "2022-08-13T00:40:15.390089",
     "status": "completed"
    },
    "tags": []
   },
   "outputs": [],
   "source": [
    "#hide\n",
    "#delete problematic countries from table\n",
    "df_table = df_table[~df_table['Country/Region'].isin(['Cape Verde', 'Cruise Ship', 'Kosovo'])]"
   ]
  },
  {
   "cell_type": "code",
   "execution_count": 17,
   "id": "related-center",
   "metadata": {
    "execution": {
     "iopub.execute_input": "2022-08-13T00:40:15.508121Z",
     "iopub.status.busy": "2022-08-13T00:40:15.507542Z",
     "iopub.status.idle": "2022-08-13T00:40:15.509978Z",
     "shell.execute_reply": "2022-08-13T00:40:15.509448Z"
    },
    "papermill": {
     "duration": 0.05035,
     "end_time": "2022-08-13T00:40:15.510080",
     "exception": false,
     "start_time": "2022-08-13T00:40:15.459730",
     "status": "completed"
    },
    "tags": []
   },
   "outputs": [],
   "source": [
    "#hide\n",
    "metrics = [df_table.columns[index] for index in [1,2,5,6]]\n",
    "# s_china = df_table[df_table['Country/Region'].eq('China')][metrics].sum().add_prefix('China ')\n",
    "s_us = df_table[df_table['Country/Region'].eq('US')][metrics].sum().add_prefix('US ')\n",
    "s_eu = df_table[df_table['Continent'].eq('Europe')][metrics].sum().add_prefix('EU ')\n",
    "s_ind = df_table[df_table['Country/Region'].eq('India')][metrics].sum().add_prefix('India ')\n",
    "summary = {'updated': pd.to_datetime(dt_today), 'since': pd.to_datetime(dt_yday)}\n",
    "summary = {'updated': pd.to_datetime(dt_today), 'since': pd.to_datetime(dt_yday)}\n",
    "summary = {**summary, **df_table[metrics].sum(), **s_ind, **s_us, **s_eu}"
   ]
  },
  {
   "cell_type": "code",
   "execution_count": 18,
   "id": "engaging-syndrome",
   "metadata": {
    "execution": {
     "iopub.execute_input": "2022-08-13T00:40:15.577379Z",
     "iopub.status.busy": "2022-08-13T00:40:15.576817Z",
     "iopub.status.idle": "2022-08-13T00:40:15.595533Z",
     "shell.execute_reply": "2022-08-13T00:40:15.595964Z"
    },
    "papermill": {
     "duration": 0.054834,
     "end_time": "2022-08-13T00:40:15.596091",
     "exception": false,
     "start_time": "2022-08-13T00:40:15.541257",
     "status": "completed"
    },
    "tags": []
   },
   "outputs": [],
   "source": [
    "#hide\n",
    "dft_ct_new_cases = dft_cases.groupby(COL_REGION)[dt_cols].sum().diff(axis=1).fillna(0).astype(int)"
   ]
  },
  {
   "cell_type": "code",
   "execution_count": 19,
   "id": "neutral-assignment",
   "metadata": {
    "execution": {
     "iopub.execute_input": "2022-08-13T00:40:15.664203Z",
     "iopub.status.busy": "2022-08-13T00:40:15.663608Z",
     "iopub.status.idle": "2022-08-13T00:40:15.666057Z",
     "shell.execute_reply": "2022-08-13T00:40:15.665616Z"
    },
    "papermill": {
     "duration": 0.038869,
     "end_time": "2022-08-13T00:40:15.666156",
     "exception": false,
     "start_time": "2022-08-13T00:40:15.627287",
     "status": "completed"
    },
    "tags": []
   },
   "outputs": [],
   "source": [
    "#hide\n",
    "everydaycases = dft_ct_new_cases.cumsum(axis=1)"
   ]
  },
  {
   "cell_type": "code",
   "execution_count": 20,
   "id": "parliamentary-calgary",
   "metadata": {
    "execution": {
     "iopub.execute_input": "2022-08-13T00:40:15.733240Z",
     "iopub.status.busy": "2022-08-13T00:40:15.732663Z",
     "iopub.status.idle": "2022-08-13T00:40:16.278111Z",
     "shell.execute_reply": "2022-08-13T00:40:16.277614Z"
    },
    "papermill": {
     "duration": 0.580875,
     "end_time": "2022-08-13T00:40:16.278236",
     "exception": false,
     "start_time": "2022-08-13T00:40:15.697361",
     "status": "completed"
    },
    "tags": []
   },
   "outputs": [],
   "source": [
    "#hide\n",
    "import pandas as pd\n",
    "import matplotlib.pyplot as plt\n",
    "import matplotlib.ticker as ticker\n",
    "import matplotlib.animation as animation\n",
    "from IPython.display import HTML"
   ]
  },
  {
   "cell_type": "code",
   "execution_count": 21,
   "id": "lasting-extraction",
   "metadata": {
    "execution": {
     "iopub.execute_input": "2022-08-13T00:40:16.346547Z",
     "iopub.status.busy": "2022-08-13T00:40:16.345979Z",
     "iopub.status.idle": "2022-08-13T00:40:16.352595Z",
     "shell.execute_reply": "2022-08-13T00:40:16.353032Z"
    },
    "papermill": {
     "duration": 0.043873,
     "end_time": "2022-08-13T00:40:16.353157",
     "exception": false,
     "start_time": "2022-08-13T00:40:16.309284",
     "status": "completed"
    },
    "tags": []
   },
   "outputs": [],
   "source": [
    "#hide\n",
    "t = everydaycases.stack()"
   ]
  },
  {
   "cell_type": "code",
   "execution_count": 22,
   "id": "premier-sleeve",
   "metadata": {
    "execution": {
     "iopub.execute_input": "2022-08-13T00:40:16.419759Z",
     "iopub.status.busy": "2022-08-13T00:40:16.419189Z",
     "iopub.status.idle": "2022-08-13T00:40:16.430524Z",
     "shell.execute_reply": "2022-08-13T00:40:16.430080Z"
    },
    "papermill": {
     "duration": 0.046179,
     "end_time": "2022-08-13T00:40:16.430629",
     "exception": false,
     "start_time": "2022-08-13T00:40:16.384450",
     "status": "completed"
    },
    "tags": []
   },
   "outputs": [],
   "source": [
    "#hide\n",
    "g = t.reset_index(['Country/Region'])"
   ]
  },
  {
   "cell_type": "code",
   "execution_count": 23,
   "id": "distributed-pittsburgh",
   "metadata": {
    "execution": {
     "iopub.execute_input": "2022-08-13T00:40:16.496539Z",
     "iopub.status.busy": "2022-08-13T00:40:16.495935Z",
     "iopub.status.idle": "2022-08-13T00:40:16.498452Z",
     "shell.execute_reply": "2022-08-13T00:40:16.497902Z"
    },
    "papermill": {
     "duration": 0.036903,
     "end_time": "2022-08-13T00:40:16.498552",
     "exception": false,
     "start_time": "2022-08-13T00:40:16.461649",
     "status": "completed"
    },
    "tags": []
   },
   "outputs": [],
   "source": [
    "#hide\n",
    "g.index.name = 'date'"
   ]
  },
  {
   "cell_type": "code",
   "execution_count": 24,
   "id": "naked-donor",
   "metadata": {
    "execution": {
     "iopub.execute_input": "2022-08-13T00:40:16.564550Z",
     "iopub.status.busy": "2022-08-13T00:40:16.563947Z",
     "iopub.status.idle": "2022-08-13T00:40:16.566483Z",
     "shell.execute_reply": "2022-08-13T00:40:16.565949Z"
    },
    "papermill": {
     "duration": 0.036815,
     "end_time": "2022-08-13T00:40:16.566584",
     "exception": false,
     "start_time": "2022-08-13T00:40:16.529769",
     "status": "completed"
    },
    "tags": []
   },
   "outputs": [],
   "source": [
    "# #hide\n",
    "# g = g.reset_index(['date'])"
   ]
  },
  {
   "cell_type": "code",
   "execution_count": 25,
   "id": "incomplete-mustang",
   "metadata": {
    "execution": {
     "iopub.execute_input": "2022-08-13T00:40:16.632360Z",
     "iopub.status.busy": "2022-08-13T00:40:16.631784Z",
     "iopub.status.idle": "2022-08-13T00:40:16.634272Z",
     "shell.execute_reply": "2022-08-13T00:40:16.633741Z"
    },
    "papermill": {
     "duration": 0.036774,
     "end_time": "2022-08-13T00:40:16.634372",
     "exception": false,
     "start_time": "2022-08-13T00:40:16.597598",
     "status": "completed"
    },
    "tags": []
   },
   "outputs": [],
   "source": [
    "#hide\n",
    "# g.head()"
   ]
  },
  {
   "cell_type": "code",
   "execution_count": 26,
   "id": "specific-kruger",
   "metadata": {
    "execution": {
     "iopub.execute_input": "2022-08-13T00:40:16.699978Z",
     "iopub.status.busy": "2022-08-13T00:40:16.699408Z",
     "iopub.status.idle": "2022-08-13T00:40:16.701502Z",
     "shell.execute_reply": "2022-08-13T00:40:16.701902Z"
    },
    "papermill": {
     "duration": 0.036505,
     "end_time": "2022-08-13T00:40:16.702022",
     "exception": false,
     "start_time": "2022-08-13T00:40:16.665517",
     "status": "completed"
    },
    "tags": []
   },
   "outputs": [],
   "source": [
    "#hide\n",
    "# g.columns = ['date','country','cases']"
   ]
  },
  {
   "cell_type": "code",
   "execution_count": 27,
   "id": "tender-conversion",
   "metadata": {
    "execution": {
     "iopub.execute_input": "2022-08-13T00:40:16.768592Z",
     "iopub.status.busy": "2022-08-13T00:40:16.768000Z",
     "iopub.status.idle": "2022-08-13T00:40:16.770343Z",
     "shell.execute_reply": "2022-08-13T00:40:16.769900Z"
    },
    "papermill": {
     "duration": 0.03678,
     "end_time": "2022-08-13T00:40:16.770443",
     "exception": false,
     "start_time": "2022-08-13T00:40:16.733663",
     "status": "completed"
    },
    "tags": []
   },
   "outputs": [],
   "source": [
    "#hide\n",
    "# g['continent'] = g.country"
   ]
  },
  {
   "cell_type": "code",
   "execution_count": 28,
   "id": "substantial-wilderness",
   "metadata": {
    "execution": {
     "iopub.execute_input": "2022-08-13T00:40:16.836074Z",
     "iopub.status.busy": "2022-08-13T00:40:16.835497Z",
     "iopub.status.idle": "2022-08-13T00:40:16.837950Z",
     "shell.execute_reply": "2022-08-13T00:40:16.837423Z"
    },
    "papermill": {
     "duration": 0.036481,
     "end_time": "2022-08-13T00:40:16.838050",
     "exception": false,
     "start_time": "2022-08-13T00:40:16.801569",
     "status": "completed"
    },
    "tags": []
   },
   "outputs": [],
   "source": [
    "#hide\n",
    "# cols = list(g.columns.values)"
   ]
  },
  {
   "cell_type": "code",
   "execution_count": 29,
   "id": "solved-farming",
   "metadata": {
    "execution": {
     "iopub.execute_input": "2022-08-13T00:40:16.903545Z",
     "iopub.status.busy": "2022-08-13T00:40:16.902980Z",
     "iopub.status.idle": "2022-08-13T00:40:16.905667Z",
     "shell.execute_reply": "2022-08-13T00:40:16.906010Z"
    },
    "papermill": {
     "duration": 0.037161,
     "end_time": "2022-08-13T00:40:16.906109",
     "exception": false,
     "start_time": "2022-08-13T00:40:16.868948",
     "status": "completed"
    },
    "tags": []
   },
   "outputs": [],
   "source": [
    "#hide\n",
    "# cols.insert(0, cols.pop())"
   ]
  },
  {
   "cell_type": "code",
   "execution_count": 30,
   "id": "executed-adoption",
   "metadata": {
    "execution": {
     "iopub.execute_input": "2022-08-13T00:40:16.979426Z",
     "iopub.status.busy": "2022-08-13T00:40:16.978858Z",
     "iopub.status.idle": "2022-08-13T00:40:16.981329Z",
     "shell.execute_reply": "2022-08-13T00:40:16.981752Z"
    },
    "papermill": {
     "duration": 0.039113,
     "end_time": "2022-08-13T00:40:16.981884",
     "exception": false,
     "start_time": "2022-08-13T00:40:16.942771",
     "status": "completed"
    },
    "tags": []
   },
   "outputs": [],
   "source": [
    "#hide\n",
    "# g = g[cols]"
   ]
  },
  {
   "cell_type": "code",
   "execution_count": 31,
   "id": "subject-dublin",
   "metadata": {
    "execution": {
     "iopub.execute_input": "2022-08-13T00:40:17.048146Z",
     "iopub.status.busy": "2022-08-13T00:40:17.047569Z",
     "iopub.status.idle": "2022-08-13T00:40:17.049802Z",
     "shell.execute_reply": "2022-08-13T00:40:17.049259Z"
    },
    "papermill": {
     "duration": 0.03712,
     "end_time": "2022-08-13T00:40:17.049903",
     "exception": false,
     "start_time": "2022-08-13T00:40:17.012783",
     "status": "completed"
    },
    "tags": []
   },
   "outputs": [],
   "source": [
    "#hide\n",
    "# g['continent'] = g['continent'].map(mapping['map.continent'])"
   ]
  },
  {
   "cell_type": "code",
   "execution_count": 32,
   "id": "freelance-scout",
   "metadata": {
    "execution": {
     "iopub.execute_input": "2022-08-13T00:40:17.115601Z",
     "iopub.status.busy": "2022-08-13T00:40:17.115023Z",
     "iopub.status.idle": "2022-08-13T00:40:17.117336Z",
     "shell.execute_reply": "2022-08-13T00:40:17.117759Z"
    },
    "papermill": {
     "duration": 0.036904,
     "end_time": "2022-08-13T00:40:17.117882",
     "exception": false,
     "start_time": "2022-08-13T00:40:17.080978",
     "status": "completed"
    },
    "tags": []
   },
   "outputs": [],
   "source": [
    "#hide\n",
    "# g.head()"
   ]
  },
  {
   "cell_type": "code",
   "execution_count": 33,
   "id": "limited-engine",
   "metadata": {
    "execution": {
     "iopub.execute_input": "2022-08-13T00:40:17.183691Z",
     "iopub.status.busy": "2022-08-13T00:40:17.183113Z",
     "iopub.status.idle": "2022-08-13T00:40:17.185018Z",
     "shell.execute_reply": "2022-08-13T00:40:17.185436Z"
    },
    "papermill": {
     "duration": 0.036641,
     "end_time": "2022-08-13T00:40:17.185552",
     "exception": false,
     "start_time": "2022-08-13T00:40:17.148911",
     "status": "completed"
    },
    "tags": []
   },
   "outputs": [],
   "source": [
    "# hide\n",
    "# g['date'] = g['date'].astype('datetime64[ns]')"
   ]
  },
  {
   "cell_type": "code",
   "execution_count": 34,
   "id": "sophisticated-supervisor",
   "metadata": {
    "execution": {
     "iopub.execute_input": "2022-08-13T00:40:17.251377Z",
     "iopub.status.busy": "2022-08-13T00:40:17.250796Z",
     "iopub.status.idle": "2022-08-13T00:40:17.253321Z",
     "shell.execute_reply": "2022-08-13T00:40:17.252868Z"
    },
    "papermill": {
     "duration": 0.036568,
     "end_time": "2022-08-13T00:40:17.253421",
     "exception": false,
     "start_time": "2022-08-13T00:40:17.216853",
     "status": "completed"
    },
    "tags": []
   },
   "outputs": [],
   "source": [
    "#hide\n",
    "# g['date'] = g.date.dt.dayofyear"
   ]
  },
  {
   "cell_type": "code",
   "execution_count": 35,
   "id": "inside-dubai",
   "metadata": {
    "execution": {
     "iopub.execute_input": "2022-08-13T00:40:17.318974Z",
     "iopub.status.busy": "2022-08-13T00:40:17.318392Z",
     "iopub.status.idle": "2022-08-13T00:40:17.320811Z",
     "shell.execute_reply": "2022-08-13T00:40:17.320248Z"
    },
    "papermill": {
     "duration": 0.036517,
     "end_time": "2022-08-13T00:40:17.320914",
     "exception": false,
     "start_time": "2022-08-13T00:40:17.284397",
     "status": "completed"
    },
    "tags": []
   },
   "outputs": [],
   "source": [
    "#hide\n",
    "# g = g.rename(columns= {'continent':'group','country':'name','cases':'value'})"
   ]
  },
  {
   "cell_type": "code",
   "execution_count": 36,
   "id": "fleet-motorcycle",
   "metadata": {
    "execution": {
     "iopub.execute_input": "2022-08-13T00:40:17.386782Z",
     "iopub.status.busy": "2022-08-13T00:40:17.386210Z",
     "iopub.status.idle": "2022-08-13T00:40:17.388636Z",
     "shell.execute_reply": "2022-08-13T00:40:17.388035Z"
    },
    "papermill": {
     "duration": 0.036572,
     "end_time": "2022-08-13T00:40:17.388740",
     "exception": false,
     "start_time": "2022-08-13T00:40:17.352168",
     "status": "completed"
    },
    "tags": []
   },
   "outputs": [],
   "source": [
    "#hide\n",
    "# cols = ['name','group','day','value']"
   ]
  },
  {
   "cell_type": "code",
   "execution_count": 37,
   "id": "continued-sleeping",
   "metadata": {
    "execution": {
     "iopub.execute_input": "2022-08-13T00:40:17.455931Z",
     "iopub.status.busy": "2022-08-13T00:40:17.455361Z",
     "iopub.status.idle": "2022-08-13T00:40:17.457892Z",
     "shell.execute_reply": "2022-08-13T00:40:17.457432Z"
    },
    "papermill": {
     "duration": 0.038277,
     "end_time": "2022-08-13T00:40:17.457992",
     "exception": false,
     "start_time": "2022-08-13T00:40:17.419715",
     "status": "completed"
    },
    "tags": []
   },
   "outputs": [],
   "source": [
    "#hide\n",
    "# g.rename(columns= {'date':'day'},inplace = True)"
   ]
  },
  {
   "cell_type": "code",
   "execution_count": 38,
   "id": "major-fight",
   "metadata": {
    "execution": {
     "iopub.execute_input": "2022-08-13T00:40:17.523702Z",
     "iopub.status.busy": "2022-08-13T00:40:17.523127Z",
     "iopub.status.idle": "2022-08-13T00:40:17.525565Z",
     "shell.execute_reply": "2022-08-13T00:40:17.525129Z"
    },
    "papermill": {
     "duration": 0.036501,
     "end_time": "2022-08-13T00:40:17.525662",
     "exception": false,
     "start_time": "2022-08-13T00:40:17.489161",
     "status": "completed"
    },
    "tags": []
   },
   "outputs": [],
   "source": [
    "#hide\n",
    "# g = g[cols]"
   ]
  },
  {
   "cell_type": "code",
   "execution_count": 39,
   "id": "structured-mobile",
   "metadata": {
    "execution": {
     "iopub.execute_input": "2022-08-13T00:40:17.591306Z",
     "iopub.status.busy": "2022-08-13T00:40:17.590724Z",
     "iopub.status.idle": "2022-08-13T00:40:17.593212Z",
     "shell.execute_reply": "2022-08-13T00:40:17.592757Z"
    },
    "papermill": {
     "duration": 0.036757,
     "end_time": "2022-08-13T00:40:17.593312",
     "exception": false,
     "start_time": "2022-08-13T00:40:17.556555",
     "status": "completed"
    },
    "tags": []
   },
   "outputs": [],
   "source": [
    "# #hide\n",
    "# g = g[g.group.notna()]"
   ]
  },
  {
   "cell_type": "code",
   "execution_count": 40,
   "id": "determined-closing",
   "metadata": {
    "execution": {
     "iopub.execute_input": "2022-08-13T00:40:17.659350Z",
     "iopub.status.busy": "2022-08-13T00:40:17.658783Z",
     "iopub.status.idle": "2022-08-13T00:40:17.662351Z",
     "shell.execute_reply": "2022-08-13T00:40:17.662773Z"
    },
    "papermill": {
     "duration": 0.038362,
     "end_time": "2022-08-13T00:40:17.662898",
     "exception": false,
     "start_time": "2022-08-13T00:40:17.624536",
     "status": "completed"
    },
    "tags": []
   },
   "outputs": [],
   "source": [
    "# #hide\n",
    "# colors = dict(zip(\n",
    "#     [\"Oceania\", \"Europe\", \"Asia\", \"South America\", \"Middle East\", \"North America\", \"Africa\"],\n",
    "#     [\"#adb0ff\", \"#ffb3ff\", \"#90d595\", \"#e48381\", \"#aafbff\", \"#f7bb5f\", \"#eafb50\"]\n",
    "# ))\n",
    "# group_lk = g.set_index('name')['group'].to_dict()"
   ]
  },
  {
   "cell_type": "code",
   "execution_count": null,
   "id": "gross-drinking",
   "metadata": {
    "papermill": {
     "duration": 0.030871,
     "end_time": "2022-08-13T00:40:17.724710",
     "exception": false,
     "start_time": "2022-08-13T00:40:17.693839",
     "status": "completed"
    },
    "tags": []
   },
   "outputs": [],
   "source": []
  },
  {
   "cell_type": "code",
   "execution_count": 41,
   "id": "subject-macintosh",
   "metadata": {
    "execution": {
     "iopub.execute_input": "2022-08-13T00:40:17.792104Z",
     "iopub.status.busy": "2022-08-13T00:40:17.791515Z",
     "iopub.status.idle": "2022-08-13T00:40:17.793683Z",
     "shell.execute_reply": "2022-08-13T00:40:17.793236Z"
    },
    "papermill": {
     "duration": 0.037482,
     "end_time": "2022-08-13T00:40:17.793784",
     "exception": false,
     "start_time": "2022-08-13T00:40:17.756302",
     "status": "completed"
    },
    "tags": []
   },
   "outputs": [],
   "source": [
    "# #hide\n",
    "# fig, ax = plt.subplots(figsize=(15, 8))\n",
    "\n",
    "# def draw_barchart(current_day):\n",
    "#     dff = g[g['day'].eq(current_day)].sort_values(by='value', ascending=True).tail(10)\n",
    "#     ax.clear()\n",
    "#     ax.barh(dff['name'], dff['value'], color=[colors[group_lk[x]] for x in dff['name']])\n",
    "#     dx = dff['value'].max() / 200\n",
    "    \n",
    "#     for i, (value, name) in enumerate(zip(dff['value'], dff['name'])):\n",
    "#         ax.text(value-dx, i,     name,           size=14, weight=600, ha='right', va='bottom')\n",
    "#         ax.text(value-dx, i-.25, group_lk[name], size=10, color='#444444', ha='right', va='baseline')\n",
    "#         ax.text(value+dx, i,     f'{value:,.0f}',  size=14, ha='left',  va='center')\n",
    "#     ax.text(1, 0.4, current_day, transform=ax.transAxes, color='#777777', size=46, ha='right', weight=800)\n",
    "#     ax.text(0, 1.06, 'Population (thousands)', transform=ax.transAxes, size=12, color='#777777')\n",
    "#     ax.xaxis.set_major_formatter(ticker.StrMethodFormatter('{x:,.0f}'))\n",
    "#     ax.xaxis.set_ticks_position('top')\n",
    "#     ax.tick_params(axis='x', colors='#777777', labelsize=12)\n",
    "#     ax.set_yticks([])\n",
    "#     ax.margins(0, 0.01)\n",
    "#     ax.grid(which='major', axis='x', linestyle='-')\n",
    "#     ax.set_axisbelow(True)\n",
    "    \n",
    "#     ax.text(0, 1.15, 'Coronavirus',\n",
    "#             transform=ax.transAxes, size=24, weight=600, ha='left', va='top')\n",
    "# #     ax.text(1, 0, 'by @pratapvardhan; credit @jburnmurdoch', transform=ax.transAxes, color='#777777', ha='right',\n",
    "# #             bbox=dict(facecolor='white', alpha=0.8, edgecolor='white'))\n",
    "#     plt.box(False)"
   ]
  },
  {
   "cell_type": "code",
   "execution_count": 42,
   "id": "sexual-wages",
   "metadata": {
    "execution": {
     "iopub.execute_input": "2022-08-13T00:40:17.859283Z",
     "iopub.status.busy": "2022-08-13T00:40:17.858710Z",
     "iopub.status.idle": "2022-08-13T00:40:17.861173Z",
     "shell.execute_reply": "2022-08-13T00:40:17.860716Z"
    },
    "papermill": {
     "duration": 0.03649,
     "end_time": "2022-08-13T00:40:17.861271",
     "exception": false,
     "start_time": "2022-08-13T00:40:17.824781",
     "status": "completed"
    },
    "tags": []
   },
   "outputs": [],
   "source": [
    "# #hide_input\n",
    "# fig, ax = plt.subplots(figsize=(15, 8))\n",
    "# animator = animation.FuncAnimation(fig, draw_barchart, frames=range(g.day.values.min(), g.day.values.max()))\n",
    "# HTML(animator.to_jshtml())\n",
    "# # or use animator.to_html5_video() or animator.save() "
   ]
  },
  {
   "cell_type": "code",
   "execution_count": null,
   "id": "australian-container",
   "metadata": {
    "papermill": {
     "duration": 0.030939,
     "end_time": "2022-08-13T00:40:17.923222",
     "exception": false,
     "start_time": "2022-08-13T00:40:17.892283",
     "status": "completed"
    },
    "tags": []
   },
   "outputs": [],
   "source": []
  },
  {
   "cell_type": "code",
   "execution_count": null,
   "id": "mediterranean-pontiac",
   "metadata": {
    "papermill": {
     "duration": 0.030898,
     "end_time": "2022-08-13T00:40:17.985028",
     "exception": false,
     "start_time": "2022-08-13T00:40:17.954130",
     "status": "completed"
    },
    "tags": []
   },
   "outputs": [],
   "source": []
  },
  {
   "cell_type": "code",
   "execution_count": null,
   "id": "aging-legislature",
   "metadata": {
    "papermill": {
     "duration": 0.030926,
     "end_time": "2022-08-13T00:40:18.047047",
     "exception": false,
     "start_time": "2022-08-13T00:40:18.016121",
     "status": "completed"
    },
    "tags": []
   },
   "outputs": [],
   "source": []
  }
 ],
 "metadata": {
  "kernelspec": {
   "display_name": "Python 3",
   "language": "python",
   "name": "python3"
  },
  "language_info": {
   "codemirror_mode": {
    "name": "ipython",
    "version": 3
   },
   "file_extension": ".py",
   "mimetype": "text/x-python",
   "name": "python",
   "nbconvert_exporter": "python",
   "pygments_lexer": "ipython3",
   "version": "3.6.15"
  },
  "papermill": {
   "duration": 5.980077,
   "end_time": "2022-08-13T00:40:18.397266",
   "environment_variables": {},
   "exception": null,
   "input_path": "2020-03-21-covid19exp.ipynb",
   "output_path": "2020-03-21-covid19exp.ipynb",
   "parameters": {},
   "start_time": "2022-08-13T00:40:12.417189",
   "version": "2.0.0"
  }
 },
 "nbformat": 4,
 "nbformat_minor": 5
}