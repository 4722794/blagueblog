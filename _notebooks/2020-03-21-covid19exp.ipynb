{
 "cells": [
  {
   "cell_type": "markdown",
   "id": "muslim-click",
   "metadata": {
    "papermill": {
     "duration": 0.033469,
     "end_time": "2022-05-15T12:15:25.522442",
     "exception": false,
     "start_time": "2022-05-15T12:15:25.488973",
     "status": "completed"
    },
    "tags": []
   },
   "source": [
    "# COVID-19 Case Race\n",
    "> A race chart to see rising cases around the world\n",
    "\n",
    "- author: Hargun Oberoi\n",
    "- image: images/covid-overview.png\n",
    "- hide: false\n",
    "- badges: false"
   ]
  },
  {
   "cell_type": "code",
   "execution_count": 1,
   "id": "proof-material",
   "metadata": {
    "execution": {
     "iopub.execute_input": "2022-05-15T12:15:25.593764Z",
     "iopub.status.busy": "2022-05-15T12:15:25.593245Z",
     "iopub.status.idle": "2022-05-15T12:15:25.919720Z",
     "shell.execute_reply": "2022-05-15T12:15:25.920245Z"
    },
    "papermill": {
     "duration": 0.3664,
     "end_time": "2022-05-15T12:15:25.920460",
     "exception": false,
     "start_time": "2022-05-15T12:15:25.554060",
     "status": "completed"
    },
    "tags": []
   },
   "outputs": [],
   "source": [
    "#hide\n",
    "import numpy as np\n",
    "import pandas as pd\n",
    "from jinja2 import Template\n",
    "from IPython.display import HTML"
   ]
  },
  {
   "cell_type": "code",
   "execution_count": 2,
   "id": "developed-terminology",
   "metadata": {
    "execution": {
     "iopub.execute_input": "2022-05-15T12:15:25.986688Z",
     "iopub.status.busy": "2022-05-15T12:15:25.986070Z",
     "iopub.status.idle": "2022-05-15T12:15:25.989403Z",
     "shell.execute_reply": "2022-05-15T12:15:25.989790Z"
    },
    "papermill": {
     "duration": 0.03872,
     "end_time": "2022-05-15T12:15:25.989930",
     "exception": false,
     "start_time": "2022-05-15T12:15:25.951210",
     "status": "completed"
    },
    "tags": []
   },
   "outputs": [],
   "source": [
    "#hide\n",
    "\n",
    "# FETCH\n",
    "base_url = 'https://raw.githubusercontent.com/pratapvardhan/notebooks/master/covid19/'\n",
    "paths = {\n",
    "    'mapping': base_url + 'mapping_countries.csv',\n",
    "    'overview': base_url + 'overview.tpl'\n",
    "}"
   ]
  },
  {
   "cell_type": "code",
   "execution_count": 3,
   "id": "dynamic-saver",
   "metadata": {
    "execution": {
     "iopub.execute_input": "2022-05-15T12:15:26.059399Z",
     "iopub.status.busy": "2022-05-15T12:15:26.058791Z",
     "iopub.status.idle": "2022-05-15T12:15:26.060865Z",
     "shell.execute_reply": "2022-05-15T12:15:26.061355Z"
    },
    "papermill": {
     "duration": 0.042103,
     "end_time": "2022-05-15T12:15:26.061489",
     "exception": false,
     "start_time": "2022-05-15T12:15:26.019386",
     "status": "completed"
    },
    "tags": []
   },
   "outputs": [
    {
     "data": {
      "text/plain": [
       "'https://raw.githubusercontent.com/pratapvardhan/notebooks/master/covid19/mapping_countries.csv'"
      ]
     },
     "execution_count": 3,
     "metadata": {},
     "output_type": "execute_result"
    }
   ],
   "source": [
    "#hide\n",
    "paths['mapping']"
   ]
  },
  {
   "cell_type": "code",
   "execution_count": 4,
   "id": "urban-software",
   "metadata": {
    "execution": {
     "iopub.execute_input": "2022-05-15T12:15:26.127197Z",
     "iopub.status.busy": "2022-05-15T12:15:26.126593Z",
     "iopub.status.idle": "2022-05-15T12:15:26.128057Z",
     "shell.execute_reply": "2022-05-15T12:15:26.128577Z"
    },
    "papermill": {
     "duration": 0.037176,
     "end_time": "2022-05-15T12:15:26.128725",
     "exception": false,
     "start_time": "2022-05-15T12:15:26.091549",
     "status": "completed"
    },
    "tags": []
   },
   "outputs": [],
   "source": [
    "#hide\n",
    "def get_mappings(url):\n",
    "    df = pd.read_csv(url)\n",
    "    return {\n",
    "        'df': df,\n",
    "        'replace.country': dict(df.dropna(subset=['Name']).set_index('Country')['Name']),\n",
    "        'map.continent': dict(df.set_index('Name')['Continent'])\n",
    "    }"
   ]
  },
  {
   "cell_type": "code",
   "execution_count": 5,
   "id": "intimate-machinery",
   "metadata": {
    "execution": {
     "iopub.execute_input": "2022-05-15T12:15:26.194296Z",
     "iopub.status.busy": "2022-05-15T12:15:26.193775Z",
     "iopub.status.idle": "2022-05-15T12:15:26.255891Z",
     "shell.execute_reply": "2022-05-15T12:15:26.255400Z"
    },
    "papermill": {
     "duration": 0.097145,
     "end_time": "2022-05-15T12:15:26.256028",
     "exception": false,
     "start_time": "2022-05-15T12:15:26.158883",
     "status": "completed"
    },
    "tags": []
   },
   "outputs": [],
   "source": [
    "#hide\n",
    "mapping = get_mappings(paths['mapping'])"
   ]
  },
  {
   "cell_type": "code",
   "execution_count": 6,
   "id": "certified-tactics",
   "metadata": {
    "execution": {
     "iopub.execute_input": "2022-05-15T12:15:26.322200Z",
     "iopub.status.busy": "2022-05-15T12:15:26.321693Z",
     "iopub.status.idle": "2022-05-15T12:15:26.323649Z",
     "shell.execute_reply": "2022-05-15T12:15:26.324051Z"
    },
    "papermill": {
     "duration": 0.037109,
     "end_time": "2022-05-15T12:15:26.324173",
     "exception": false,
     "start_time": "2022-05-15T12:15:26.287064",
     "status": "completed"
    },
    "tags": []
   },
   "outputs": [],
   "source": [
    "#hide\n",
    "def get_template(path):\n",
    "    from urllib.parse import urlparse\n",
    "    if bool(urlparse(path).netloc):\n",
    "        from urllib.request import urlopen\n",
    "        return urlopen(path).read().decode('utf8')\n",
    "    return open(path).read()"
   ]
  },
  {
   "cell_type": "code",
   "execution_count": 7,
   "id": "realistic-blast",
   "metadata": {
    "execution": {
     "iopub.execute_input": "2022-05-15T12:15:26.387872Z",
     "iopub.status.busy": "2022-05-15T12:15:26.387355Z",
     "iopub.status.idle": "2022-05-15T12:15:26.389159Z",
     "shell.execute_reply": "2022-05-15T12:15:26.389541Z"
    },
    "papermill": {
     "duration": 0.035935,
     "end_time": "2022-05-15T12:15:26.389663",
     "exception": false,
     "start_time": "2022-05-15T12:15:26.353728",
     "status": "completed"
    },
    "tags": []
   },
   "outputs": [],
   "source": [
    "#hide\n",
    "def get_frame(name):\n",
    "    url = (\n",
    "        'https://raw.githubusercontent.com/CSSEGISandData/COVID-19/master/csse_covid_19_data/'\n",
    "        f'csse_covid_19_time_series/time_series_covid19_{name}_global.csv')\n",
    "    df = pd.read_csv(url)\n",
    "    # rename countries\n",
    "    df['Country/Region'] = df['Country/Region'].replace(mapping['replace.country'])\n",
    "    return df"
   ]
  },
  {
   "cell_type": "code",
   "execution_count": 8,
   "id": "affiliated-characterization",
   "metadata": {
    "execution": {
     "iopub.execute_input": "2022-05-15T12:15:26.454437Z",
     "iopub.status.busy": "2022-05-15T12:15:26.453929Z",
     "iopub.status.idle": "2022-05-15T12:15:26.456075Z",
     "shell.execute_reply": "2022-05-15T12:15:26.456511Z"
    },
    "papermill": {
     "duration": 0.037264,
     "end_time": "2022-05-15T12:15:26.456637",
     "exception": false,
     "start_time": "2022-05-15T12:15:26.419373",
     "status": "completed"
    },
    "tags": []
   },
   "outputs": [],
   "source": [
    "#hide\n",
    "def get_dates(df):\n",
    "    dt_cols = df.columns[~df.columns.isin(['Province/State', 'Country/Region', 'Lat', 'Long'])]\n",
    "    LAST_DATE_I = -1\n",
    "    # sometimes last column may be empty, then go backwards\n",
    "    for i in range(-1, -len(dt_cols), -1):\n",
    "        if not df[dt_cols[i]].fillna(0).eq(0).all():\n",
    "            LAST_DATE_I = i\n",
    "            break\n",
    "    return LAST_DATE_I, dt_cols"
   ]
  },
  {
   "cell_type": "code",
   "execution_count": 9,
   "id": "recent-optimization",
   "metadata": {
    "execution": {
     "iopub.execute_input": "2022-05-15T12:15:26.520115Z",
     "iopub.status.busy": "2022-05-15T12:15:26.519580Z",
     "iopub.status.idle": "2022-05-15T12:15:27.124357Z",
     "shell.execute_reply": "2022-05-15T12:15:27.123795Z"
    },
    "papermill": {
     "duration": 0.638434,
     "end_time": "2022-05-15T12:15:27.124508",
     "exception": false,
     "start_time": "2022-05-15T12:15:26.486074",
     "status": "completed"
    },
    "tags": []
   },
   "outputs": [],
   "source": [
    "#hide\n",
    "COL_REGION = 'Country/Region'\n",
    "# Confirmed, Recovered, Deaths\n",
    "df = get_frame('confirmed')\n",
    "# dft_: timeseries, dfc_: today country agg\n",
    "dft_cases = df\n",
    "dft_deaths = get_frame('deaths')\n",
    "dft_recovered = get_frame('recovered')\n",
    "LAST_DATE_I, dt_cols = get_dates(df)"
   ]
  },
  {
   "cell_type": "code",
   "execution_count": 10,
   "id": "absolute-copper",
   "metadata": {
    "execution": {
     "iopub.execute_input": "2022-05-15T12:15:27.190453Z",
     "iopub.status.busy": "2022-05-15T12:15:27.189926Z",
     "iopub.status.idle": "2022-05-15T12:15:27.191617Z",
     "shell.execute_reply": "2022-05-15T12:15:27.191998Z"
    },
    "papermill": {
     "duration": 0.036995,
     "end_time": "2022-05-15T12:15:27.192128",
     "exception": false,
     "start_time": "2022-05-15T12:15:27.155133",
     "status": "completed"
    },
    "tags": []
   },
   "outputs": [],
   "source": [
    "#hide\n",
    "LAST_DATE_I, dt_cols = get_dates(df)\n",
    "dt_today =dt_cols[LAST_DATE_I]\n",
    "# dt_5day = dt_cols[LAST_DATE_I - 5]\n",
    "dt_yday = dt_cols[LAST_DATE_I - 1]"
   ]
  },
  {
   "cell_type": "code",
   "execution_count": 11,
   "id": "restricted-sheriff",
   "metadata": {
    "execution": {
     "iopub.execute_input": "2022-05-15T12:15:27.258247Z",
     "iopub.status.busy": "2022-05-15T12:15:27.257730Z",
     "iopub.status.idle": "2022-05-15T12:15:27.264075Z",
     "shell.execute_reply": "2022-05-15T12:15:27.263670Z"
    },
    "papermill": {
     "duration": 0.042569,
     "end_time": "2022-05-15T12:15:27.264190",
     "exception": false,
     "start_time": "2022-05-15T12:15:27.221621",
     "status": "completed"
    },
    "tags": []
   },
   "outputs": [],
   "source": [
    "#hide\n",
    "dfc_cases = dft_cases.groupby(COL_REGION)[dt_today].sum()\n",
    "dfc_deaths = dft_deaths.groupby(COL_REGION)[dt_today].sum()\n",
    "# dfp_cases = dft_cases.groupby(COL_REGION)[dt_5day].sum()\n",
    "# dfp_deaths = dft_deaths.groupby(COL_REGION)[dt_5day].sum()\n",
    "dfp_cases = dft_cases.groupby(COL_REGION)[dt_yday].sum()\n",
    "dfp_deaths = dft_deaths.groupby(COL_REGION)[dt_yday].sum()"
   ]
  },
  {
   "cell_type": "code",
   "execution_count": 12,
   "id": "deluxe-hepatitis",
   "metadata": {
    "execution": {
     "iopub.execute_input": "2022-05-15T12:15:27.328955Z",
     "iopub.status.busy": "2022-05-15T12:15:27.328443Z",
     "iopub.status.idle": "2022-05-15T12:15:27.333847Z",
     "shell.execute_reply": "2022-05-15T12:15:27.333446Z"
    },
    "papermill": {
     "duration": 0.040062,
     "end_time": "2022-05-15T12:15:27.333952",
     "exception": false,
     "start_time": "2022-05-15T12:15:27.293890",
     "status": "completed"
    },
    "tags": []
   },
   "outputs": [],
   "source": [
    "#hide\n",
    "df_table = (pd.DataFrame(dict(Cases = dfc_cases, Deaths = dfc_deaths, PCases = dfp_cases, PDeaths = dfp_deaths))\n",
    "            .sort_values(by = ['Cases','Deaths'], ascending = [False, False])\n",
    "            .reset_index())"
   ]
  },
  {
   "cell_type": "code",
   "execution_count": 13,
   "id": "educational-chancellor",
   "metadata": {
    "execution": {
     "iopub.execute_input": "2022-05-15T12:15:27.409660Z",
     "iopub.status.busy": "2022-05-15T12:15:27.409158Z",
     "iopub.status.idle": "2022-05-15T12:15:27.417171Z",
     "shell.execute_reply": "2022-05-15T12:15:27.416738Z"
    },
    "papermill": {
     "duration": 0.053886,
     "end_time": "2022-05-15T12:15:27.417276",
     "exception": false,
     "start_time": "2022-05-15T12:15:27.363390",
     "status": "completed"
    },
    "tags": []
   },
   "outputs": [
    {
     "data": {
      "text/html": [
       "<div>\n",
       "<style scoped>\n",
       "    .dataframe tbody tr th:only-of-type {\n",
       "        vertical-align: middle;\n",
       "    }\n",
       "\n",
       "    .dataframe tbody tr th {\n",
       "        vertical-align: top;\n",
       "    }\n",
       "\n",
       "    .dataframe thead th {\n",
       "        text-align: right;\n",
       "    }\n",
       "</style>\n",
       "<table border=\"1\" class=\"dataframe\">\n",
       "  <thead>\n",
       "    <tr style=\"text-align: right;\">\n",
       "      <th></th>\n",
       "      <th>Country/Region</th>\n",
       "      <th>Cases</th>\n",
       "      <th>Deaths</th>\n",
       "      <th>PCases</th>\n",
       "      <th>PDeaths</th>\n",
       "      <th>Cases (+)</th>\n",
       "      <th>Deaths (+)</th>\n",
       "      <th>Fatality Rate</th>\n",
       "      <th>Continent</th>\n",
       "    </tr>\n",
       "  </thead>\n",
       "  <tbody>\n",
       "    <tr>\n",
       "      <th>0</th>\n",
       "      <td>US</td>\n",
       "      <td>82437716</td>\n",
       "      <td>999570</td>\n",
       "      <td>82421624</td>\n",
       "      <td>999518</td>\n",
       "      <td>16092</td>\n",
       "      <td>52</td>\n",
       "      <td>1.21</td>\n",
       "      <td>North America</td>\n",
       "    </tr>\n",
       "    <tr>\n",
       "      <th>1</th>\n",
       "      <td>India</td>\n",
       "      <td>43121599</td>\n",
       "      <td>524214</td>\n",
       "      <td>43119112</td>\n",
       "      <td>524201</td>\n",
       "      <td>2487</td>\n",
       "      <td>13</td>\n",
       "      <td>1.22</td>\n",
       "      <td>Asia</td>\n",
       "    </tr>\n",
       "    <tr>\n",
       "      <th>2</th>\n",
       "      <td>Brazil</td>\n",
       "      <td>30682094</td>\n",
       "      <td>665104</td>\n",
       "      <td>30664739</td>\n",
       "      <td>665012</td>\n",
       "      <td>17355</td>\n",
       "      <td>92</td>\n",
       "      <td>2.17</td>\n",
       "      <td>South America</td>\n",
       "    </tr>\n",
       "    <tr>\n",
       "      <th>3</th>\n",
       "      <td>France</td>\n",
       "      <td>29352290</td>\n",
       "      <td>148306</td>\n",
       "      <td>29321831</td>\n",
       "      <td>148295</td>\n",
       "      <td>30459</td>\n",
       "      <td>11</td>\n",
       "      <td>0.51</td>\n",
       "      <td>Europe</td>\n",
       "    </tr>\n",
       "    <tr>\n",
       "      <th>4</th>\n",
       "      <td>Germany</td>\n",
       "      <td>25729848</td>\n",
       "      <td>137499</td>\n",
       "      <td>25723697</td>\n",
       "      <td>137492</td>\n",
       "      <td>6151</td>\n",
       "      <td>7</td>\n",
       "      <td>0.53</td>\n",
       "      <td>Europe</td>\n",
       "    </tr>\n",
       "  </tbody>\n",
       "</table>\n",
       "</div>"
      ],
      "text/plain": [
       "  Country/Region     Cases  Deaths    PCases  PDeaths  Cases (+)  Deaths (+)  \\\n",
       "0             US  82437716  999570  82421624   999518      16092          52   \n",
       "1          India  43121599  524214  43119112   524201       2487          13   \n",
       "2         Brazil  30682094  665104  30664739   665012      17355          92   \n",
       "3         France  29352290  148306  29321831   148295      30459          11   \n",
       "4        Germany  25729848  137499  25723697   137492       6151           7   \n",
       "\n",
       "   Fatality Rate      Continent  \n",
       "0           1.21  North America  \n",
       "1           1.22           Asia  \n",
       "2           2.17  South America  \n",
       "3           0.51         Europe  \n",
       "4           0.53         Europe  "
      ]
     },
     "execution_count": 13,
     "metadata": {},
     "output_type": "execute_result"
    }
   ],
   "source": [
    "#hide\n",
    "for c in 'Cases, Deaths'.split(', '):\n",
    "    df_table[f'{c} (+)'] = (df_table[c] - df_table[f'P{c}']).clip(0)\n",
    "    #Clip ça veut dire, les chiffres negatif sont interdit\n",
    "df_table['Fatality Rate'] = (100* df_table['Deaths']/ df_table['Cases']).round(2)\n",
    "df_table['Continent'] = df_table['Country/Region'].map(mapping['map.continent'])\n",
    "df_table.head(5)"
   ]
  },
  {
   "cell_type": "code",
   "execution_count": 14,
   "id": "aboriginal-bulgaria",
   "metadata": {
    "execution": {
     "iopub.execute_input": "2022-05-15T12:15:27.482558Z",
     "iopub.status.busy": "2022-05-15T12:15:27.482024Z",
     "iopub.status.idle": "2022-05-15T12:15:27.484477Z",
     "shell.execute_reply": "2022-05-15T12:15:27.484030Z"
    },
    "papermill": {
     "duration": 0.037202,
     "end_time": "2022-05-15T12:15:27.484583",
     "exception": false,
     "start_time": "2022-05-15T12:15:27.447381",
     "status": "completed"
    },
    "tags": []
   },
   "outputs": [],
   "source": [
    "#hide\n",
    "#delete problematic countries from table\n",
    "df_table = df_table[~df_table['Country/Region'].isin(['Cape Verde', 'Cruise Ship', 'Kosovo'])]"
   ]
  },
  {
   "cell_type": "code",
   "execution_count": 15,
   "id": "fantastic-effect",
   "metadata": {
    "execution": {
     "iopub.execute_input": "2022-05-15T12:15:27.551746Z",
     "iopub.status.busy": "2022-05-15T12:15:27.551238Z",
     "iopub.status.idle": "2022-05-15T12:15:27.568823Z",
     "shell.execute_reply": "2022-05-15T12:15:27.568353Z"
    },
    "papermill": {
     "duration": 0.05446,
     "end_time": "2022-05-15T12:15:27.568942",
     "exception": false,
     "start_time": "2022-05-15T12:15:27.514482",
     "status": "completed"
    },
    "tags": []
   },
   "outputs": [
    {
     "data": {
      "text/html": [
       "<div>\n",
       "<style scoped>\n",
       "    .dataframe tbody tr th:only-of-type {\n",
       "        vertical-align: middle;\n",
       "    }\n",
       "\n",
       "    .dataframe tbody tr th {\n",
       "        vertical-align: top;\n",
       "    }\n",
       "\n",
       "    .dataframe thead th {\n",
       "        text-align: right;\n",
       "    }\n",
       "</style>\n",
       "<table border=\"1\" class=\"dataframe\">\n",
       "  <thead>\n",
       "    <tr style=\"text-align: right;\">\n",
       "      <th></th>\n",
       "      <th>Country/Region</th>\n",
       "      <th>Cases</th>\n",
       "      <th>Deaths</th>\n",
       "      <th>PCases</th>\n",
       "      <th>PDeaths</th>\n",
       "      <th>Cases (+)</th>\n",
       "      <th>Deaths (+)</th>\n",
       "      <th>Fatality Rate</th>\n",
       "      <th>Continent</th>\n",
       "    </tr>\n",
       "  </thead>\n",
       "  <tbody>\n",
       "    <tr>\n",
       "      <th>0</th>\n",
       "      <td>US</td>\n",
       "      <td>82437716</td>\n",
       "      <td>999570</td>\n",
       "      <td>82421624</td>\n",
       "      <td>999518</td>\n",
       "      <td>16092</td>\n",
       "      <td>52</td>\n",
       "      <td>1.2</td>\n",
       "      <td>North America</td>\n",
       "    </tr>\n",
       "    <tr>\n",
       "      <th>1</th>\n",
       "      <td>India</td>\n",
       "      <td>43121599</td>\n",
       "      <td>524214</td>\n",
       "      <td>43119112</td>\n",
       "      <td>524201</td>\n",
       "      <td>2487</td>\n",
       "      <td>13</td>\n",
       "      <td>1.2</td>\n",
       "      <td>Asia</td>\n",
       "    </tr>\n",
       "    <tr>\n",
       "      <th>2</th>\n",
       "      <td>Brazil</td>\n",
       "      <td>30682094</td>\n",
       "      <td>665104</td>\n",
       "      <td>30664739</td>\n",
       "      <td>665012</td>\n",
       "      <td>17355</td>\n",
       "      <td>92</td>\n",
       "      <td>2.2</td>\n",
       "      <td>South America</td>\n",
       "    </tr>\n",
       "    <tr>\n",
       "      <th>3</th>\n",
       "      <td>France</td>\n",
       "      <td>29352290</td>\n",
       "      <td>148306</td>\n",
       "      <td>29321831</td>\n",
       "      <td>148295</td>\n",
       "      <td>30459</td>\n",
       "      <td>11</td>\n",
       "      <td>0.5</td>\n",
       "      <td>Europe</td>\n",
       "    </tr>\n",
       "    <tr>\n",
       "      <th>4</th>\n",
       "      <td>Germany</td>\n",
       "      <td>25729848</td>\n",
       "      <td>137499</td>\n",
       "      <td>25723697</td>\n",
       "      <td>137492</td>\n",
       "      <td>6151</td>\n",
       "      <td>7</td>\n",
       "      <td>0.5</td>\n",
       "      <td>Europe</td>\n",
       "    </tr>\n",
       "  </tbody>\n",
       "</table>\n",
       "</div>"
      ],
      "text/plain": [
       "  Country/Region     Cases  Deaths    PCases  PDeaths  Cases (+)  Deaths (+)  \\\n",
       "0             US  82437716  999570  82421624   999518      16092          52   \n",
       "1          India  43121599  524214  43119112   524201       2487          13   \n",
       "2         Brazil  30682094  665104  30664739   665012      17355          92   \n",
       "3         France  29352290  148306  29321831   148295      30459          11   \n",
       "4        Germany  25729848  137499  25723697   137492       6151           7   \n",
       "\n",
       "   Fatality Rate      Continent  \n",
       "0            1.2  North America  \n",
       "1            1.2           Asia  \n",
       "2            2.2  South America  \n",
       "3            0.5         Europe  \n",
       "4            0.5         Europe  "
      ]
     },
     "execution_count": 15,
     "metadata": {},
     "output_type": "execute_result"
    }
   ],
   "source": [
    "#hide\n",
    "df_table = (pd.DataFrame(dict(Cases=dfc_cases, Deaths=dfc_deaths, PCases=dfp_cases, PDeaths=dfp_deaths))\n",
    "             .sort_values(by=['Cases', 'Deaths'], ascending=[False, False])\n",
    "             .reset_index())\n",
    "df_table.rename(columns={'index': 'Country/Region'}, inplace=True)\n",
    "for c in 'Cases, Deaths'.split(', '):\n",
    "    df_table[f'{c} (+)'] = (df_table[c] - df_table[f'P{c}']).clip(0)  # DATA BUG\n",
    "df_table['Fatality Rate'] = (100 * df_table['Deaths'] / df_table['Cases']).round(1)\n",
    "df_table['Continent'] = df_table['Country/Region'].map(mapping['map.continent'])\n",
    "df_table.head(5)"
   ]
  },
  {
   "cell_type": "code",
   "execution_count": 16,
   "id": "fewer-occasion",
   "metadata": {
    "execution": {
     "iopub.execute_input": "2022-05-15T12:15:27.636111Z",
     "iopub.status.busy": "2022-05-15T12:15:27.635598Z",
     "iopub.status.idle": "2022-05-15T12:15:27.637807Z",
     "shell.execute_reply": "2022-05-15T12:15:27.637306Z"
    },
    "papermill": {
     "duration": 0.03767,
     "end_time": "2022-05-15T12:15:27.637911",
     "exception": false,
     "start_time": "2022-05-15T12:15:27.600241",
     "status": "completed"
    },
    "tags": []
   },
   "outputs": [],
   "source": [
    "#hide\n",
    "#delete problematic countries from table\n",
    "df_table = df_table[~df_table['Country/Region'].isin(['Cape Verde', 'Cruise Ship', 'Kosovo'])]"
   ]
  },
  {
   "cell_type": "code",
   "execution_count": 17,
   "id": "related-center",
   "metadata": {
    "execution": {
     "iopub.execute_input": "2022-05-15T12:15:27.716668Z",
     "iopub.status.busy": "2022-05-15T12:15:27.716112Z",
     "iopub.status.idle": "2022-05-15T12:15:27.718517Z",
     "shell.execute_reply": "2022-05-15T12:15:27.718108Z"
    },
    "papermill": {
     "duration": 0.050258,
     "end_time": "2022-05-15T12:15:27.718631",
     "exception": false,
     "start_time": "2022-05-15T12:15:27.668373",
     "status": "completed"
    },
    "tags": []
   },
   "outputs": [],
   "source": [
    "#hide\n",
    "metrics = [df_table.columns[index] for index in [1,2,5,6]]\n",
    "# s_china = df_table[df_table['Country/Region'].eq('China')][metrics].sum().add_prefix('China ')\n",
    "s_us = df_table[df_table['Country/Region'].eq('US')][metrics].sum().add_prefix('US ')\n",
    "s_eu = df_table[df_table['Continent'].eq('Europe')][metrics].sum().add_prefix('EU ')\n",
    "s_ind = df_table[df_table['Country/Region'].eq('India')][metrics].sum().add_prefix('India ')\n",
    "summary = {'updated': pd.to_datetime(dt_today), 'since': pd.to_datetime(dt_yday)}\n",
    "summary = {'updated': pd.to_datetime(dt_today), 'since': pd.to_datetime(dt_yday)}\n",
    "summary = {**summary, **df_table[metrics].sum(), **s_ind, **s_us, **s_eu}"
   ]
  },
  {
   "cell_type": "code",
   "execution_count": 18,
   "id": "engaging-syndrome",
   "metadata": {
    "execution": {
     "iopub.execute_input": "2022-05-15T12:15:27.785799Z",
     "iopub.status.busy": "2022-05-15T12:15:27.785283Z",
     "iopub.status.idle": "2022-05-15T12:15:27.804079Z",
     "shell.execute_reply": "2022-05-15T12:15:27.803658Z"
    },
    "papermill": {
     "duration": 0.054695,
     "end_time": "2022-05-15T12:15:27.804199",
     "exception": false,
     "start_time": "2022-05-15T12:15:27.749504",
     "status": "completed"
    },
    "tags": []
   },
   "outputs": [],
   "source": [
    "#hide\n",
    "dft_ct_new_cases = dft_cases.groupby(COL_REGION)[dt_cols].sum().diff(axis=1).fillna(0).astype(int)"
   ]
  },
  {
   "cell_type": "code",
   "execution_count": 19,
   "id": "neutral-assignment",
   "metadata": {
    "execution": {
     "iopub.execute_input": "2022-05-15T12:15:27.872933Z",
     "iopub.status.busy": "2022-05-15T12:15:27.872393Z",
     "iopub.status.idle": "2022-05-15T12:15:27.874499Z",
     "shell.execute_reply": "2022-05-15T12:15:27.873991Z"
    },
    "papermill": {
     "duration": 0.039584,
     "end_time": "2022-05-15T12:15:27.874613",
     "exception": false,
     "start_time": "2022-05-15T12:15:27.835029",
     "status": "completed"
    },
    "tags": []
   },
   "outputs": [],
   "source": [
    "#hide\n",
    "everydaycases = dft_ct_new_cases.cumsum(axis=1)"
   ]
  },
  {
   "cell_type": "code",
   "execution_count": 20,
   "id": "parliamentary-calgary",
   "metadata": {
    "execution": {
     "iopub.execute_input": "2022-05-15T12:15:27.940704Z",
     "iopub.status.busy": "2022-05-15T12:15:27.940152Z",
     "iopub.status.idle": "2022-05-15T12:15:28.546411Z",
     "shell.execute_reply": "2022-05-15T12:15:28.546876Z"
    },
    "papermill": {
     "duration": 0.641627,
     "end_time": "2022-05-15T12:15:28.547032",
     "exception": false,
     "start_time": "2022-05-15T12:15:27.905405",
     "status": "completed"
    },
    "tags": []
   },
   "outputs": [],
   "source": [
    "#hide\n",
    "import pandas as pd\n",
    "import matplotlib.pyplot as plt\n",
    "import matplotlib.ticker as ticker\n",
    "import matplotlib.animation as animation\n",
    "from IPython.display import HTML"
   ]
  },
  {
   "cell_type": "code",
   "execution_count": 21,
   "id": "lasting-extraction",
   "metadata": {
    "execution": {
     "iopub.execute_input": "2022-05-15T12:15:28.614641Z",
     "iopub.status.busy": "2022-05-15T12:15:28.614126Z",
     "iopub.status.idle": "2022-05-15T12:15:28.621214Z",
     "shell.execute_reply": "2022-05-15T12:15:28.620803Z"
    },
    "papermill": {
     "duration": 0.043462,
     "end_time": "2022-05-15T12:15:28.621329",
     "exception": false,
     "start_time": "2022-05-15T12:15:28.577867",
     "status": "completed"
    },
    "tags": []
   },
   "outputs": [],
   "source": [
    "#hide\n",
    "t = everydaycases.stack()"
   ]
  },
  {
   "cell_type": "code",
   "execution_count": 22,
   "id": "premier-sleeve",
   "metadata": {
    "execution": {
     "iopub.execute_input": "2022-05-15T12:15:28.686674Z",
     "iopub.status.busy": "2022-05-15T12:15:28.686157Z",
     "iopub.status.idle": "2022-05-15T12:15:28.697623Z",
     "shell.execute_reply": "2022-05-15T12:15:28.698097Z"
    },
    "papermill": {
     "duration": 0.046087,
     "end_time": "2022-05-15T12:15:28.698225",
     "exception": false,
     "start_time": "2022-05-15T12:15:28.652138",
     "status": "completed"
    },
    "tags": []
   },
   "outputs": [],
   "source": [
    "#hide\n",
    "g = t.reset_index(['Country/Region'])"
   ]
  },
  {
   "cell_type": "code",
   "execution_count": 23,
   "id": "distributed-pittsburgh",
   "metadata": {
    "execution": {
     "iopub.execute_input": "2022-05-15T12:15:28.763613Z",
     "iopub.status.busy": "2022-05-15T12:15:28.763082Z",
     "iopub.status.idle": "2022-05-15T12:15:28.765154Z",
     "shell.execute_reply": "2022-05-15T12:15:28.764643Z"
    },
    "papermill": {
     "duration": 0.036725,
     "end_time": "2022-05-15T12:15:28.765269",
     "exception": false,
     "start_time": "2022-05-15T12:15:28.728544",
     "status": "completed"
    },
    "tags": []
   },
   "outputs": [],
   "source": [
    "#hide\n",
    "g.index.name = 'date'"
   ]
  },
  {
   "cell_type": "code",
   "execution_count": 24,
   "id": "naked-donor",
   "metadata": {
    "execution": {
     "iopub.execute_input": "2022-05-15T12:15:28.830222Z",
     "iopub.status.busy": "2022-05-15T12:15:28.829633Z",
     "iopub.status.idle": "2022-05-15T12:15:28.831398Z",
     "shell.execute_reply": "2022-05-15T12:15:28.831830Z"
    },
    "papermill": {
     "duration": 0.035956,
     "end_time": "2022-05-15T12:15:28.831976",
     "exception": false,
     "start_time": "2022-05-15T12:15:28.796020",
     "status": "completed"
    },
    "tags": []
   },
   "outputs": [],
   "source": [
    "# #hide\n",
    "# g = g.reset_index(['date'])"
   ]
  },
  {
   "cell_type": "code",
   "execution_count": 25,
   "id": "incomplete-mustang",
   "metadata": {
    "execution": {
     "iopub.execute_input": "2022-05-15T12:15:28.896887Z",
     "iopub.status.busy": "2022-05-15T12:15:28.896271Z",
     "iopub.status.idle": "2022-05-15T12:15:28.898428Z",
     "shell.execute_reply": "2022-05-15T12:15:28.897874Z"
    },
    "papermill": {
     "duration": 0.0356,
     "end_time": "2022-05-15T12:15:28.898550",
     "exception": false,
     "start_time": "2022-05-15T12:15:28.862950",
     "status": "completed"
    },
    "tags": []
   },
   "outputs": [],
   "source": [
    "#hide\n",
    "# g.head()"
   ]
  },
  {
   "cell_type": "code",
   "execution_count": 26,
   "id": "specific-kruger",
   "metadata": {
    "execution": {
     "iopub.execute_input": "2022-05-15T12:15:28.965192Z",
     "iopub.status.busy": "2022-05-15T12:15:28.964676Z",
     "iopub.status.idle": "2022-05-15T12:15:28.966655Z",
     "shell.execute_reply": "2022-05-15T12:15:28.966250Z"
    },
    "papermill": {
     "duration": 0.035181,
     "end_time": "2022-05-15T12:15:28.966764",
     "exception": false,
     "start_time": "2022-05-15T12:15:28.931583",
     "status": "completed"
    },
    "tags": []
   },
   "outputs": [],
   "source": [
    "#hide\n",
    "# g.columns = ['date','country','cases']"
   ]
  },
  {
   "cell_type": "code",
   "execution_count": 27,
   "id": "tender-conversion",
   "metadata": {
    "execution": {
     "iopub.execute_input": "2022-05-15T12:15:29.030399Z",
     "iopub.status.busy": "2022-05-15T12:15:29.029901Z",
     "iopub.status.idle": "2022-05-15T12:15:29.032103Z",
     "shell.execute_reply": "2022-05-15T12:15:29.031685Z"
    },
    "papermill": {
     "duration": 0.035175,
     "end_time": "2022-05-15T12:15:29.032205",
     "exception": false,
     "start_time": "2022-05-15T12:15:28.997030",
     "status": "completed"
    },
    "tags": []
   },
   "outputs": [],
   "source": [
    "#hide\n",
    "# g['continent'] = g.country"
   ]
  },
  {
   "cell_type": "code",
   "execution_count": 28,
   "id": "substantial-wilderness",
   "metadata": {
    "execution": {
     "iopub.execute_input": "2022-05-15T12:15:29.097038Z",
     "iopub.status.busy": "2022-05-15T12:15:29.096430Z",
     "iopub.status.idle": "2022-05-15T12:15:29.097879Z",
     "shell.execute_reply": "2022-05-15T12:15:29.098259Z"
    },
    "papermill": {
     "duration": 0.035756,
     "end_time": "2022-05-15T12:15:29.098390",
     "exception": false,
     "start_time": "2022-05-15T12:15:29.062634",
     "status": "completed"
    },
    "tags": []
   },
   "outputs": [],
   "source": [
    "#hide\n",
    "# cols = list(g.columns.values)"
   ]
  },
  {
   "cell_type": "code",
   "execution_count": 29,
   "id": "solved-farming",
   "metadata": {
    "execution": {
     "iopub.execute_input": "2022-05-15T12:15:29.162592Z",
     "iopub.status.busy": "2022-05-15T12:15:29.162012Z",
     "iopub.status.idle": "2022-05-15T12:15:29.164158Z",
     "shell.execute_reply": "2022-05-15T12:15:29.163705Z"
    },
    "papermill": {
     "duration": 0.035503,
     "end_time": "2022-05-15T12:15:29.164302",
     "exception": false,
     "start_time": "2022-05-15T12:15:29.128799",
     "status": "completed"
    },
    "tags": []
   },
   "outputs": [],
   "source": [
    "#hide\n",
    "# cols.insert(0, cols.pop())"
   ]
  },
  {
   "cell_type": "code",
   "execution_count": 30,
   "id": "executed-adoption",
   "metadata": {
    "execution": {
     "iopub.execute_input": "2022-05-15T12:15:29.229129Z",
     "iopub.status.busy": "2022-05-15T12:15:29.228541Z",
     "iopub.status.idle": "2022-05-15T12:15:29.230536Z",
     "shell.execute_reply": "2022-05-15T12:15:29.230042Z"
    },
    "papermill": {
     "duration": 0.035322,
     "end_time": "2022-05-15T12:15:29.230642",
     "exception": false,
     "start_time": "2022-05-15T12:15:29.195320",
     "status": "completed"
    },
    "tags": []
   },
   "outputs": [],
   "source": [
    "#hide\n",
    "# g = g[cols]"
   ]
  },
  {
   "cell_type": "code",
   "execution_count": 31,
   "id": "subject-dublin",
   "metadata": {
    "execution": {
     "iopub.execute_input": "2022-05-15T12:15:29.295111Z",
     "iopub.status.busy": "2022-05-15T12:15:29.294528Z",
     "iopub.status.idle": "2022-05-15T12:15:29.296710Z",
     "shell.execute_reply": "2022-05-15T12:15:29.296216Z"
    },
    "papermill": {
     "duration": 0.035874,
     "end_time": "2022-05-15T12:15:29.296835",
     "exception": false,
     "start_time": "2022-05-15T12:15:29.260961",
     "status": "completed"
    },
    "tags": []
   },
   "outputs": [],
   "source": [
    "#hide\n",
    "# g['continent'] = g['continent'].map(mapping['map.continent'])"
   ]
  },
  {
   "cell_type": "code",
   "execution_count": 32,
   "id": "freelance-scout",
   "metadata": {
    "execution": {
     "iopub.execute_input": "2022-05-15T12:15:29.361123Z",
     "iopub.status.busy": "2022-05-15T12:15:29.360614Z",
     "iopub.status.idle": "2022-05-15T12:15:29.364318Z",
     "shell.execute_reply": "2022-05-15T12:15:29.363894Z"
    },
    "papermill": {
     "duration": 0.036832,
     "end_time": "2022-05-15T12:15:29.364426",
     "exception": false,
     "start_time": "2022-05-15T12:15:29.327594",
     "status": "completed"
    },
    "tags": []
   },
   "outputs": [],
   "source": [
    "#hide\n",
    "# g.head()"
   ]
  },
  {
   "cell_type": "code",
   "execution_count": 33,
   "id": "limited-engine",
   "metadata": {
    "execution": {
     "iopub.execute_input": "2022-05-15T12:15:29.428530Z",
     "iopub.status.busy": "2022-05-15T12:15:29.427921Z",
     "iopub.status.idle": "2022-05-15T12:15:29.430073Z",
     "shell.execute_reply": "2022-05-15T12:15:29.429605Z"
    },
    "papermill": {
     "duration": 0.035353,
     "end_time": "2022-05-15T12:15:29.430191",
     "exception": false,
     "start_time": "2022-05-15T12:15:29.394838",
     "status": "completed"
    },
    "tags": []
   },
   "outputs": [],
   "source": [
    "# hide\n",
    "# g['date'] = g['date'].astype('datetime64[ns]')"
   ]
  },
  {
   "cell_type": "code",
   "execution_count": 34,
   "id": "sophisticated-supervisor",
   "metadata": {
    "execution": {
     "iopub.execute_input": "2022-05-15T12:15:29.494477Z",
     "iopub.status.busy": "2022-05-15T12:15:29.493908Z",
     "iopub.status.idle": "2022-05-15T12:15:29.495519Z",
     "shell.execute_reply": "2022-05-15T12:15:29.495977Z"
    },
    "papermill": {
     "duration": 0.035119,
     "end_time": "2022-05-15T12:15:29.496105",
     "exception": false,
     "start_time": "2022-05-15T12:15:29.460986",
     "status": "completed"
    },
    "tags": []
   },
   "outputs": [],
   "source": [
    "#hide\n",
    "# g['date'] = g.date.dt.dayofyear"
   ]
  },
  {
   "cell_type": "code",
   "execution_count": 35,
   "id": "inside-dubai",
   "metadata": {
    "execution": {
     "iopub.execute_input": "2022-05-15T12:15:29.561067Z",
     "iopub.status.busy": "2022-05-15T12:15:29.560483Z",
     "iopub.status.idle": "2022-05-15T12:15:29.562149Z",
     "shell.execute_reply": "2022-05-15T12:15:29.562580Z"
    },
    "papermill": {
     "duration": 0.035334,
     "end_time": "2022-05-15T12:15:29.562711",
     "exception": false,
     "start_time": "2022-05-15T12:15:29.527377",
     "status": "completed"
    },
    "tags": []
   },
   "outputs": [],
   "source": [
    "#hide\n",
    "# g = g.rename(columns= {'continent':'group','country':'name','cases':'value'})"
   ]
  },
  {
   "cell_type": "code",
   "execution_count": 36,
   "id": "fleet-motorcycle",
   "metadata": {
    "execution": {
     "iopub.execute_input": "2022-05-15T12:15:29.627896Z",
     "iopub.status.busy": "2022-05-15T12:15:29.627301Z",
     "iopub.status.idle": "2022-05-15T12:15:29.628826Z",
     "shell.execute_reply": "2022-05-15T12:15:29.629284Z"
    },
    "papermill": {
     "duration": 0.036008,
     "end_time": "2022-05-15T12:15:29.629448",
     "exception": false,
     "start_time": "2022-05-15T12:15:29.593440",
     "status": "completed"
    },
    "tags": []
   },
   "outputs": [],
   "source": [
    "#hide\n",
    "# cols = ['name','group','day','value']"
   ]
  },
  {
   "cell_type": "code",
   "execution_count": 37,
   "id": "continued-sleeping",
   "metadata": {
    "execution": {
     "iopub.execute_input": "2022-05-15T12:15:29.694730Z",
     "iopub.status.busy": "2022-05-15T12:15:29.694145Z",
     "iopub.status.idle": "2022-05-15T12:15:29.696256Z",
     "shell.execute_reply": "2022-05-15T12:15:29.695810Z"
    },
    "papermill": {
     "duration": 0.035703,
     "end_time": "2022-05-15T12:15:29.696395",
     "exception": false,
     "start_time": "2022-05-15T12:15:29.660692",
     "status": "completed"
    },
    "tags": []
   },
   "outputs": [],
   "source": [
    "#hide\n",
    "# g.rename(columns= {'date':'day'},inplace = True)"
   ]
  },
  {
   "cell_type": "code",
   "execution_count": 38,
   "id": "major-fight",
   "metadata": {
    "execution": {
     "iopub.execute_input": "2022-05-15T12:15:29.761256Z",
     "iopub.status.busy": "2022-05-15T12:15:29.760669Z",
     "iopub.status.idle": "2022-05-15T12:15:29.762298Z",
     "shell.execute_reply": "2022-05-15T12:15:29.762756Z"
    },
    "papermill": {
     "duration": 0.035498,
     "end_time": "2022-05-15T12:15:29.762890",
     "exception": false,
     "start_time": "2022-05-15T12:15:29.727392",
     "status": "completed"
    },
    "tags": []
   },
   "outputs": [],
   "source": [
    "#hide\n",
    "# g = g[cols]"
   ]
  },
  {
   "cell_type": "code",
   "execution_count": 39,
   "id": "structured-mobile",
   "metadata": {
    "execution": {
     "iopub.execute_input": "2022-05-15T12:15:29.827270Z",
     "iopub.status.busy": "2022-05-15T12:15:29.826699Z",
     "iopub.status.idle": "2022-05-15T12:15:29.828252Z",
     "shell.execute_reply": "2022-05-15T12:15:29.828687Z"
    },
    "papermill": {
     "duration": 0.035088,
     "end_time": "2022-05-15T12:15:29.828807",
     "exception": false,
     "start_time": "2022-05-15T12:15:29.793719",
     "status": "completed"
    },
    "tags": []
   },
   "outputs": [],
   "source": [
    "# #hide\n",
    "# g = g[g.group.notna()]"
   ]
  },
  {
   "cell_type": "code",
   "execution_count": 40,
   "id": "determined-closing",
   "metadata": {
    "execution": {
     "iopub.execute_input": "2022-05-15T12:15:29.893316Z",
     "iopub.status.busy": "2022-05-15T12:15:29.892722Z",
     "iopub.status.idle": "2022-05-15T12:15:29.894844Z",
     "shell.execute_reply": "2022-05-15T12:15:29.894384Z"
    },
    "papermill": {
     "duration": 0.035695,
     "end_time": "2022-05-15T12:15:29.894966",
     "exception": false,
     "start_time": "2022-05-15T12:15:29.859271",
     "status": "completed"
    },
    "tags": []
   },
   "outputs": [],
   "source": [
    "# #hide\n",
    "# colors = dict(zip(\n",
    "#     [\"Oceania\", \"Europe\", \"Asia\", \"South America\", \"Middle East\", \"North America\", \"Africa\"],\n",
    "#     [\"#adb0ff\", \"#ffb3ff\", \"#90d595\", \"#e48381\", \"#aafbff\", \"#f7bb5f\", \"#eafb50\"]\n",
    "# ))\n",
    "# group_lk = g.set_index('name')['group'].to_dict()"
   ]
  },
  {
   "cell_type": "code",
   "execution_count": null,
   "id": "gross-drinking",
   "metadata": {
    "papermill": {
     "duration": 0.030388,
     "end_time": "2022-05-15T12:15:29.956249",
     "exception": false,
     "start_time": "2022-05-15T12:15:29.925861",
     "status": "completed"
    },
    "tags": []
   },
   "outputs": [],
   "source": []
  },
  {
   "cell_type": "code",
   "execution_count": 41,
   "id": "subject-macintosh",
   "metadata": {
    "execution": {
     "iopub.execute_input": "2022-05-15T12:15:30.021701Z",
     "iopub.status.busy": "2022-05-15T12:15:30.021173Z",
     "iopub.status.idle": "2022-05-15T12:15:30.022795Z",
     "shell.execute_reply": "2022-05-15T12:15:30.023197Z"
    },
    "papermill": {
     "duration": 0.036652,
     "end_time": "2022-05-15T12:15:30.023317",
     "exception": false,
     "start_time": "2022-05-15T12:15:29.986665",
     "status": "completed"
    },
    "tags": []
   },
   "outputs": [],
   "source": [
    "# #hide\n",
    "# fig, ax = plt.subplots(figsize=(15, 8))\n",
    "\n",
    "# def draw_barchart(current_day):\n",
    "#     dff = g[g['day'].eq(current_day)].sort_values(by='value', ascending=True).tail(10)\n",
    "#     ax.clear()\n",
    "#     ax.barh(dff['name'], dff['value'], color=[colors[group_lk[x]] for x in dff['name']])\n",
    "#     dx = dff['value'].max() / 200\n",
    "    \n",
    "#     for i, (value, name) in enumerate(zip(dff['value'], dff['name'])):\n",
    "#         ax.text(value-dx, i,     name,           size=14, weight=600, ha='right', va='bottom')\n",
    "#         ax.text(value-dx, i-.25, group_lk[name], size=10, color='#444444', ha='right', va='baseline')\n",
    "#         ax.text(value+dx, i,     f'{value:,.0f}',  size=14, ha='left',  va='center')\n",
    "#     ax.text(1, 0.4, current_day, transform=ax.transAxes, color='#777777', size=46, ha='right', weight=800)\n",
    "#     ax.text(0, 1.06, 'Population (thousands)', transform=ax.transAxes, size=12, color='#777777')\n",
    "#     ax.xaxis.set_major_formatter(ticker.StrMethodFormatter('{x:,.0f}'))\n",
    "#     ax.xaxis.set_ticks_position('top')\n",
    "#     ax.tick_params(axis='x', colors='#777777', labelsize=12)\n",
    "#     ax.set_yticks([])\n",
    "#     ax.margins(0, 0.01)\n",
    "#     ax.grid(which='major', axis='x', linestyle='-')\n",
    "#     ax.set_axisbelow(True)\n",
    "    \n",
    "#     ax.text(0, 1.15, 'Coronavirus',\n",
    "#             transform=ax.transAxes, size=24, weight=600, ha='left', va='top')\n",
    "# #     ax.text(1, 0, 'by @pratapvardhan; credit @jburnmurdoch', transform=ax.transAxes, color='#777777', ha='right',\n",
    "# #             bbox=dict(facecolor='white', alpha=0.8, edgecolor='white'))\n",
    "#     plt.box(False)"
   ]
  },
  {
   "cell_type": "code",
   "execution_count": 42,
   "id": "sexual-wages",
   "metadata": {
    "execution": {
     "iopub.execute_input": "2022-05-15T12:15:30.087812Z",
     "iopub.status.busy": "2022-05-15T12:15:30.087221Z",
     "iopub.status.idle": "2022-05-15T12:15:30.088968Z",
     "shell.execute_reply": "2022-05-15T12:15:30.089397Z"
    },
    "papermill": {
     "duration": 0.035906,
     "end_time": "2022-05-15T12:15:30.089538",
     "exception": false,
     "start_time": "2022-05-15T12:15:30.053632",
     "status": "completed"
    },
    "tags": []
   },
   "outputs": [],
   "source": [
    "# #hide_input\n",
    "# fig, ax = plt.subplots(figsize=(15, 8))\n",
    "# animator = animation.FuncAnimation(fig, draw_barchart, frames=range(g.day.values.min(), g.day.values.max()))\n",
    "# HTML(animator.to_jshtml())\n",
    "# # or use animator.to_html5_video() or animator.save() "
   ]
  },
  {
   "cell_type": "code",
   "execution_count": null,
   "id": "australian-container",
   "metadata": {
    "papermill": {
     "duration": 0.030327,
     "end_time": "2022-05-15T12:15:30.150781",
     "exception": false,
     "start_time": "2022-05-15T12:15:30.120454",
     "status": "completed"
    },
    "tags": []
   },
   "outputs": [],
   "source": []
  },
  {
   "cell_type": "code",
   "execution_count": null,
   "id": "mediterranean-pontiac",
   "metadata": {
    "papermill": {
     "duration": 0.030203,
     "end_time": "2022-05-15T12:15:30.211349",
     "exception": false,
     "start_time": "2022-05-15T12:15:30.181146",
     "status": "completed"
    },
    "tags": []
   },
   "outputs": [],
   "source": []
  },
  {
   "cell_type": "code",
   "execution_count": null,
   "id": "aging-legislature",
   "metadata": {
    "papermill": {
     "duration": 0.030398,
     "end_time": "2022-05-15T12:15:30.272356",
     "exception": false,
     "start_time": "2022-05-15T12:15:30.241958",
     "status": "completed"
    },
    "tags": []
   },
   "outputs": [],
   "source": []
  }
 ],
 "metadata": {
  "kernelspec": {
   "display_name": "Python 3",
   "language": "python",
   "name": "python3"
  },
  "language_info": {
   "codemirror_mode": {
    "name": "ipython",
    "version": 3
   },
   "file_extension": ".py",
   "mimetype": "text/x-python",
   "name": "python",
   "nbconvert_exporter": "python",
   "pygments_lexer": "ipython3",
   "version": "3.6.15"
  },
  "papermill": {
   "duration": 6.069364,
   "end_time": "2022-05-15T12:15:30.620499",
   "environment_variables": {},
   "exception": null,
   "input_path": "2020-03-21-covid19exp.ipynb",
   "output_path": "2020-03-21-covid19exp.ipynb",
   "parameters": {},
   "start_time": "2022-05-15T12:15:24.551135",
   "version": "2.0.0"
  }
 },
 "nbformat": 4,
 "nbformat_minor": 5
}