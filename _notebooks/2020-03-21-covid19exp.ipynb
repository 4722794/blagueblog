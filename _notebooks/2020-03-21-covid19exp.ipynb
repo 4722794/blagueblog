{
 "cells": [
  {
   "cell_type": "markdown",
   "id": "muslim-click",
   "metadata": {
    "papermill": {
     "duration": 0.034071,
     "end_time": "2022-07-09T00:37:45.905274",
     "exception": false,
     "start_time": "2022-07-09T00:37:45.871203",
     "status": "completed"
    },
    "tags": []
   },
   "source": [
    "# COVID-19 Case Race\n",
    "> A race chart to see rising cases around the world\n",
    "\n",
    "- author: Hargun Oberoi\n",
    "- image: images/covid-overview.png\n",
    "- hide: false\n",
    "- badges: false"
   ]
  },
  {
   "cell_type": "code",
   "execution_count": 1,
   "id": "proof-material",
   "metadata": {
    "execution": {
     "iopub.execute_input": "2022-07-09T00:37:45.976417Z",
     "iopub.status.busy": "2022-07-09T00:37:45.975780Z",
     "iopub.status.idle": "2022-07-09T00:37:46.294767Z",
     "shell.execute_reply": "2022-07-09T00:37:46.294237Z"
    },
    "papermill": {
     "duration": 0.357895,
     "end_time": "2022-07-09T00:37:46.294906",
     "exception": false,
     "start_time": "2022-07-09T00:37:45.937011",
     "status": "completed"
    },
    "tags": []
   },
   "outputs": [],
   "source": [
    "#hide\n",
    "import numpy as np\n",
    "import pandas as pd\n",
    "from jinja2 import Template\n",
    "from IPython.display import HTML"
   ]
  },
  {
   "cell_type": "code",
   "execution_count": 2,
   "id": "developed-terminology",
   "metadata": {
    "execution": {
     "iopub.execute_input": "2022-07-09T00:37:46.359502Z",
     "iopub.status.busy": "2022-07-09T00:37:46.358835Z",
     "iopub.status.idle": "2022-07-09T00:37:46.361144Z",
     "shell.execute_reply": "2022-07-09T00:37:46.360563Z"
    },
    "papermill": {
     "duration": 0.036433,
     "end_time": "2022-07-09T00:37:46.361251",
     "exception": false,
     "start_time": "2022-07-09T00:37:46.324818",
     "status": "completed"
    },
    "tags": []
   },
   "outputs": [],
   "source": [
    "#hide\n",
    "\n",
    "# FETCH\n",
    "base_url = 'https://raw.githubusercontent.com/pratapvardhan/notebooks/master/covid19/'\n",
    "paths = {\n",
    "    'mapping': base_url + 'mapping_countries.csv',\n",
    "    'overview': base_url + 'overview.tpl'\n",
    "}"
   ]
  },
  {
   "cell_type": "code",
   "execution_count": 3,
   "id": "dynamic-saver",
   "metadata": {
    "execution": {
     "iopub.execute_input": "2022-07-09T00:37:46.429692Z",
     "iopub.status.busy": "2022-07-09T00:37:46.429123Z",
     "iopub.status.idle": "2022-07-09T00:37:46.431917Z",
     "shell.execute_reply": "2022-07-09T00:37:46.432414Z"
    },
    "papermill": {
     "duration": 0.042006,
     "end_time": "2022-07-09T00:37:46.432537",
     "exception": false,
     "start_time": "2022-07-09T00:37:46.390531",
     "status": "completed"
    },
    "tags": []
   },
   "outputs": [
    {
     "data": {
      "text/plain": [
       "'https://raw.githubusercontent.com/pratapvardhan/notebooks/master/covid19/mapping_countries.csv'"
      ]
     },
     "execution_count": 3,
     "metadata": {},
     "output_type": "execute_result"
    }
   ],
   "source": [
    "#hide\n",
    "paths['mapping']"
   ]
  },
  {
   "cell_type": "code",
   "execution_count": 4,
   "id": "urban-software",
   "metadata": {
    "execution": {
     "iopub.execute_input": "2022-07-09T00:37:46.497861Z",
     "iopub.status.busy": "2022-07-09T00:37:46.497268Z",
     "iopub.status.idle": "2022-07-09T00:37:46.499838Z",
     "shell.execute_reply": "2022-07-09T00:37:46.499340Z"
    },
    "papermill": {
     "duration": 0.037517,
     "end_time": "2022-07-09T00:37:46.499950",
     "exception": false,
     "start_time": "2022-07-09T00:37:46.462433",
     "status": "completed"
    },
    "tags": []
   },
   "outputs": [],
   "source": [
    "#hide\n",
    "def get_mappings(url):\n",
    "    df = pd.read_csv(url)\n",
    "    return {\n",
    "        'df': df,\n",
    "        'replace.country': dict(df.dropna(subset=['Name']).set_index('Country')['Name']),\n",
    "        'map.continent': dict(df.set_index('Name')['Continent'])\n",
    "    }"
   ]
  },
  {
   "cell_type": "code",
   "execution_count": 5,
   "id": "intimate-machinery",
   "metadata": {
    "execution": {
     "iopub.execute_input": "2022-07-09T00:37:46.565340Z",
     "iopub.status.busy": "2022-07-09T00:37:46.564747Z",
     "iopub.status.idle": "2022-07-09T00:37:46.626603Z",
     "shell.execute_reply": "2022-07-09T00:37:46.626028Z"
    },
    "papermill": {
     "duration": 0.096883,
     "end_time": "2022-07-09T00:37:46.626732",
     "exception": false,
     "start_time": "2022-07-09T00:37:46.529849",
     "status": "completed"
    },
    "tags": []
   },
   "outputs": [],
   "source": [
    "#hide\n",
    "mapping = get_mappings(paths['mapping'])"
   ]
  },
  {
   "cell_type": "code",
   "execution_count": 6,
   "id": "certified-tactics",
   "metadata": {
    "execution": {
     "iopub.execute_input": "2022-07-09T00:37:46.692818Z",
     "iopub.status.busy": "2022-07-09T00:37:46.692112Z",
     "iopub.status.idle": "2022-07-09T00:37:46.694659Z",
     "shell.execute_reply": "2022-07-09T00:37:46.694142Z"
    },
    "papermill": {
     "duration": 0.037761,
     "end_time": "2022-07-09T00:37:46.694778",
     "exception": false,
     "start_time": "2022-07-09T00:37:46.657017",
     "status": "completed"
    },
    "tags": []
   },
   "outputs": [],
   "source": [
    "#hide\n",
    "def get_template(path):\n",
    "    from urllib.parse import urlparse\n",
    "    if bool(urlparse(path).netloc):\n",
    "        from urllib.request import urlopen\n",
    "        return urlopen(path).read().decode('utf8')\n",
    "    return open(path).read()"
   ]
  },
  {
   "cell_type": "code",
   "execution_count": 7,
   "id": "realistic-blast",
   "metadata": {
    "execution": {
     "iopub.execute_input": "2022-07-09T00:37:46.760294Z",
     "iopub.status.busy": "2022-07-09T00:37:46.759646Z",
     "iopub.status.idle": "2022-07-09T00:37:46.761900Z",
     "shell.execute_reply": "2022-07-09T00:37:46.761332Z"
    },
    "papermill": {
     "duration": 0.037045,
     "end_time": "2022-07-09T00:37:46.762011",
     "exception": false,
     "start_time": "2022-07-09T00:37:46.724966",
     "status": "completed"
    },
    "tags": []
   },
   "outputs": [],
   "source": [
    "#hide\n",
    "def get_frame(name):\n",
    "    url = (\n",
    "        'https://raw.githubusercontent.com/CSSEGISandData/COVID-19/master/csse_covid_19_data/'\n",
    "        f'csse_covid_19_time_series/time_series_covid19_{name}_global.csv')\n",
    "    df = pd.read_csv(url)\n",
    "    # rename countries\n",
    "    df['Country/Region'] = df['Country/Region'].replace(mapping['replace.country'])\n",
    "    return df"
   ]
  },
  {
   "cell_type": "code",
   "execution_count": 8,
   "id": "affiliated-characterization",
   "metadata": {
    "execution": {
     "iopub.execute_input": "2022-07-09T00:37:46.828243Z",
     "iopub.status.busy": "2022-07-09T00:37:46.827662Z",
     "iopub.status.idle": "2022-07-09T00:37:46.830191Z",
     "shell.execute_reply": "2022-07-09T00:37:46.830661Z"
    },
    "papermill": {
     "duration": 0.038691,
     "end_time": "2022-07-09T00:37:46.830790",
     "exception": false,
     "start_time": "2022-07-09T00:37:46.792099",
     "status": "completed"
    },
    "tags": []
   },
   "outputs": [],
   "source": [
    "#hide\n",
    "def get_dates(df):\n",
    "    dt_cols = df.columns[~df.columns.isin(['Province/State', 'Country/Region', 'Lat', 'Long'])]\n",
    "    LAST_DATE_I = -1\n",
    "    # sometimes last column may be empty, then go backwards\n",
    "    for i in range(-1, -len(dt_cols), -1):\n",
    "        if not df[dt_cols[i]].fillna(0).eq(0).all():\n",
    "            LAST_DATE_I = i\n",
    "            break\n",
    "    return LAST_DATE_I, dt_cols"
   ]
  },
  {
   "cell_type": "code",
   "execution_count": 9,
   "id": "recent-optimization",
   "metadata": {
    "execution": {
     "iopub.execute_input": "2022-07-09T00:37:46.895970Z",
     "iopub.status.busy": "2022-07-09T00:37:46.895379Z",
     "iopub.status.idle": "2022-07-09T00:37:47.514572Z",
     "shell.execute_reply": "2022-07-09T00:37:47.513395Z"
    },
    "papermill": {
     "duration": 0.654076,
     "end_time": "2022-07-09T00:37:47.514715",
     "exception": false,
     "start_time": "2022-07-09T00:37:46.860639",
     "status": "completed"
    },
    "tags": []
   },
   "outputs": [],
   "source": [
    "#hide\n",
    "COL_REGION = 'Country/Region'\n",
    "# Confirmed, Recovered, Deaths\n",
    "df = get_frame('confirmed')\n",
    "# dft_: timeseries, dfc_: today country agg\n",
    "dft_cases = df\n",
    "dft_deaths = get_frame('deaths')\n",
    "dft_recovered = get_frame('recovered')\n",
    "LAST_DATE_I, dt_cols = get_dates(df)"
   ]
  },
  {
   "cell_type": "code",
   "execution_count": 10,
   "id": "absolute-copper",
   "metadata": {
    "execution": {
     "iopub.execute_input": "2022-07-09T00:37:47.581162Z",
     "iopub.status.busy": "2022-07-09T00:37:47.580467Z",
     "iopub.status.idle": "2022-07-09T00:37:47.582763Z",
     "shell.execute_reply": "2022-07-09T00:37:47.582114Z"
    },
    "papermill": {
     "duration": 0.037926,
     "end_time": "2022-07-09T00:37:47.582891",
     "exception": false,
     "start_time": "2022-07-09T00:37:47.544965",
     "status": "completed"
    },
    "tags": []
   },
   "outputs": [],
   "source": [
    "#hide\n",
    "LAST_DATE_I, dt_cols = get_dates(df)\n",
    "dt_today =dt_cols[LAST_DATE_I]\n",
    "# dt_5day = dt_cols[LAST_DATE_I - 5]\n",
    "dt_yday = dt_cols[LAST_DATE_I - 1]"
   ]
  },
  {
   "cell_type": "code",
   "execution_count": 11,
   "id": "restricted-sheriff",
   "metadata": {
    "execution": {
     "iopub.execute_input": "2022-07-09T00:37:47.649772Z",
     "iopub.status.busy": "2022-07-09T00:37:47.649193Z",
     "iopub.status.idle": "2022-07-09T00:37:47.655019Z",
     "shell.execute_reply": "2022-07-09T00:37:47.655491Z"
    },
    "papermill": {
     "duration": 0.042721,
     "end_time": "2022-07-09T00:37:47.655622",
     "exception": false,
     "start_time": "2022-07-09T00:37:47.612901",
     "status": "completed"
    },
    "tags": []
   },
   "outputs": [],
   "source": [
    "#hide\n",
    "dfc_cases = dft_cases.groupby(COL_REGION)[dt_today].sum()\n",
    "dfc_deaths = dft_deaths.groupby(COL_REGION)[dt_today].sum()\n",
    "# dfp_cases = dft_cases.groupby(COL_REGION)[dt_5day].sum()\n",
    "# dfp_deaths = dft_deaths.groupby(COL_REGION)[dt_5day].sum()\n",
    "dfp_cases = dft_cases.groupby(COL_REGION)[dt_yday].sum()\n",
    "dfp_deaths = dft_deaths.groupby(COL_REGION)[dt_yday].sum()"
   ]
  },
  {
   "cell_type": "code",
   "execution_count": 12,
   "id": "deluxe-hepatitis",
   "metadata": {
    "execution": {
     "iopub.execute_input": "2022-07-09T00:37:47.722002Z",
     "iopub.status.busy": "2022-07-09T00:37:47.721412Z",
     "iopub.status.idle": "2022-07-09T00:37:47.726070Z",
     "shell.execute_reply": "2022-07-09T00:37:47.726542Z"
    },
    "papermill": {
     "duration": 0.040949,
     "end_time": "2022-07-09T00:37:47.726668",
     "exception": false,
     "start_time": "2022-07-09T00:37:47.685719",
     "status": "completed"
    },
    "tags": []
   },
   "outputs": [],
   "source": [
    "#hide\n",
    "df_table = (pd.DataFrame(dict(Cases = dfc_cases, Deaths = dfc_deaths, PCases = dfp_cases, PDeaths = dfp_deaths))\n",
    "            .sort_values(by = ['Cases','Deaths'], ascending = [False, False])\n",
    "            .reset_index())"
   ]
  },
  {
   "cell_type": "code",
   "execution_count": 13,
   "id": "educational-chancellor",
   "metadata": {
    "execution": {
     "iopub.execute_input": "2022-07-09T00:37:47.807849Z",
     "iopub.status.busy": "2022-07-09T00:37:47.803586Z",
     "iopub.status.idle": "2022-07-09T00:37:47.811409Z",
     "shell.execute_reply": "2022-07-09T00:37:47.810939Z"
    },
    "papermill": {
     "duration": 0.055136,
     "end_time": "2022-07-09T00:37:47.811519",
     "exception": false,
     "start_time": "2022-07-09T00:37:47.756383",
     "status": "completed"
    },
    "tags": []
   },
   "outputs": [
    {
     "data": {
      "text/html": [
       "<div>\n",
       "<style scoped>\n",
       "    .dataframe tbody tr th:only-of-type {\n",
       "        vertical-align: middle;\n",
       "    }\n",
       "\n",
       "    .dataframe tbody tr th {\n",
       "        vertical-align: top;\n",
       "    }\n",
       "\n",
       "    .dataframe thead th {\n",
       "        text-align: right;\n",
       "    }\n",
       "</style>\n",
       "<table border=\"1\" class=\"dataframe\">\n",
       "  <thead>\n",
       "    <tr style=\"text-align: right;\">\n",
       "      <th></th>\n",
       "      <th>Country/Region</th>\n",
       "      <th>Cases</th>\n",
       "      <th>Deaths</th>\n",
       "      <th>PCases</th>\n",
       "      <th>PDeaths</th>\n",
       "      <th>Cases (+)</th>\n",
       "      <th>Deaths (+)</th>\n",
       "      <th>Fatality Rate</th>\n",
       "      <th>Continent</th>\n",
       "    </tr>\n",
       "  </thead>\n",
       "  <tbody>\n",
       "    <tr>\n",
       "      <th>0</th>\n",
       "      <td>US</td>\n",
       "      <td>88381589</td>\n",
       "      <td>1020262</td>\n",
       "      <td>88262908</td>\n",
       "      <td>1019151</td>\n",
       "      <td>118681</td>\n",
       "      <td>1111</td>\n",
       "      <td>1.15</td>\n",
       "      <td>North America</td>\n",
       "    </tr>\n",
       "    <tr>\n",
       "      <th>1</th>\n",
       "      <td>India</td>\n",
       "      <td>43585554</td>\n",
       "      <td>525343</td>\n",
       "      <td>43566739</td>\n",
       "      <td>525305</td>\n",
       "      <td>18815</td>\n",
       "      <td>38</td>\n",
       "      <td>1.21</td>\n",
       "      <td>Asia</td>\n",
       "    </tr>\n",
       "    <tr>\n",
       "      <th>2</th>\n",
       "      <td>Brazil</td>\n",
       "      <td>32759730</td>\n",
       "      <td>673073</td>\n",
       "      <td>32687680</td>\n",
       "      <td>672790</td>\n",
       "      <td>72050</td>\n",
       "      <td>283</td>\n",
       "      <td>2.05</td>\n",
       "      <td>South America</td>\n",
       "    </tr>\n",
       "    <tr>\n",
       "      <th>3</th>\n",
       "      <td>France</td>\n",
       "      <td>32177472</td>\n",
       "      <td>150982</td>\n",
       "      <td>32016207</td>\n",
       "      <td>150893</td>\n",
       "      <td>161265</td>\n",
       "      <td>89</td>\n",
       "      <td>0.47</td>\n",
       "      <td>Europe</td>\n",
       "    </tr>\n",
       "    <tr>\n",
       "      <th>4</th>\n",
       "      <td>Germany</td>\n",
       "      <td>28926346</td>\n",
       "      <td>141758</td>\n",
       "      <td>28808614</td>\n",
       "      <td>141627</td>\n",
       "      <td>117732</td>\n",
       "      <td>131</td>\n",
       "      <td>0.49</td>\n",
       "      <td>Europe</td>\n",
       "    </tr>\n",
       "  </tbody>\n",
       "</table>\n",
       "</div>"
      ],
      "text/plain": [
       "  Country/Region     Cases   Deaths    PCases  PDeaths  Cases (+)  Deaths (+)  \\\n",
       "0             US  88381589  1020262  88262908  1019151     118681        1111   \n",
       "1          India  43585554   525343  43566739   525305      18815          38   \n",
       "2         Brazil  32759730   673073  32687680   672790      72050         283   \n",
       "3         France  32177472   150982  32016207   150893     161265          89   \n",
       "4        Germany  28926346   141758  28808614   141627     117732         131   \n",
       "\n",
       "   Fatality Rate      Continent  \n",
       "0           1.15  North America  \n",
       "1           1.21           Asia  \n",
       "2           2.05  South America  \n",
       "3           0.47         Europe  \n",
       "4           0.49         Europe  "
      ]
     },
     "execution_count": 13,
     "metadata": {},
     "output_type": "execute_result"
    }
   ],
   "source": [
    "#hide\n",
    "for c in 'Cases, Deaths'.split(', '):\n",
    "    df_table[f'{c} (+)'] = (df_table[c] - df_table[f'P{c}']).clip(0)\n",
    "    #Clip ça veut dire, les chiffres negatif sont interdit\n",
    "df_table['Fatality Rate'] = (100* df_table['Deaths']/ df_table['Cases']).round(2)\n",
    "df_table['Continent'] = df_table['Country/Region'].map(mapping['map.continent'])\n",
    "df_table.head(5)"
   ]
  },
  {
   "cell_type": "code",
   "execution_count": 14,
   "id": "aboriginal-bulgaria",
   "metadata": {
    "execution": {
     "iopub.execute_input": "2022-07-09T00:37:47.878286Z",
     "iopub.status.busy": "2022-07-09T00:37:47.877709Z",
     "iopub.status.idle": "2022-07-09T00:37:47.880131Z",
     "shell.execute_reply": "2022-07-09T00:37:47.880601Z"
    },
    "papermill": {
     "duration": 0.038835,
     "end_time": "2022-07-09T00:37:47.880734",
     "exception": false,
     "start_time": "2022-07-09T00:37:47.841899",
     "status": "completed"
    },
    "tags": []
   },
   "outputs": [],
   "source": [
    "#hide\n",
    "#delete problematic countries from table\n",
    "df_table = df_table[~df_table['Country/Region'].isin(['Cape Verde', 'Cruise Ship', 'Kosovo'])]"
   ]
  },
  {
   "cell_type": "code",
   "execution_count": 15,
   "id": "fantastic-effect",
   "metadata": {
    "execution": {
     "iopub.execute_input": "2022-07-09T00:37:47.949584Z",
     "iopub.status.busy": "2022-07-09T00:37:47.949009Z",
     "iopub.status.idle": "2022-07-09T00:37:47.966670Z",
     "shell.execute_reply": "2022-07-09T00:37:47.966197Z"
    },
    "papermill": {
     "duration": 0.0559,
     "end_time": "2022-07-09T00:37:47.966783",
     "exception": false,
     "start_time": "2022-07-09T00:37:47.910883",
     "status": "completed"
    },
    "tags": []
   },
   "outputs": [
    {
     "data": {
      "text/html": [
       "<div>\n",
       "<style scoped>\n",
       "    .dataframe tbody tr th:only-of-type {\n",
       "        vertical-align: middle;\n",
       "    }\n",
       "\n",
       "    .dataframe tbody tr th {\n",
       "        vertical-align: top;\n",
       "    }\n",
       "\n",
       "    .dataframe thead th {\n",
       "        text-align: right;\n",
       "    }\n",
       "</style>\n",
       "<table border=\"1\" class=\"dataframe\">\n",
       "  <thead>\n",
       "    <tr style=\"text-align: right;\">\n",
       "      <th></th>\n",
       "      <th>Country/Region</th>\n",
       "      <th>Cases</th>\n",
       "      <th>Deaths</th>\n",
       "      <th>PCases</th>\n",
       "      <th>PDeaths</th>\n",
       "      <th>Cases (+)</th>\n",
       "      <th>Deaths (+)</th>\n",
       "      <th>Fatality Rate</th>\n",
       "      <th>Continent</th>\n",
       "    </tr>\n",
       "  </thead>\n",
       "  <tbody>\n",
       "    <tr>\n",
       "      <th>0</th>\n",
       "      <td>US</td>\n",
       "      <td>88381589</td>\n",
       "      <td>1020262</td>\n",
       "      <td>88262908</td>\n",
       "      <td>1019151</td>\n",
       "      <td>118681</td>\n",
       "      <td>1111</td>\n",
       "      <td>1.2</td>\n",
       "      <td>North America</td>\n",
       "    </tr>\n",
       "    <tr>\n",
       "      <th>1</th>\n",
       "      <td>India</td>\n",
       "      <td>43585554</td>\n",
       "      <td>525343</td>\n",
       "      <td>43566739</td>\n",
       "      <td>525305</td>\n",
       "      <td>18815</td>\n",
       "      <td>38</td>\n",
       "      <td>1.2</td>\n",
       "      <td>Asia</td>\n",
       "    </tr>\n",
       "    <tr>\n",
       "      <th>2</th>\n",
       "      <td>Brazil</td>\n",
       "      <td>32759730</td>\n",
       "      <td>673073</td>\n",
       "      <td>32687680</td>\n",
       "      <td>672790</td>\n",
       "      <td>72050</td>\n",
       "      <td>283</td>\n",
       "      <td>2.1</td>\n",
       "      <td>South America</td>\n",
       "    </tr>\n",
       "    <tr>\n",
       "      <th>3</th>\n",
       "      <td>France</td>\n",
       "      <td>32177472</td>\n",
       "      <td>150982</td>\n",
       "      <td>32016207</td>\n",
       "      <td>150893</td>\n",
       "      <td>161265</td>\n",
       "      <td>89</td>\n",
       "      <td>0.5</td>\n",
       "      <td>Europe</td>\n",
       "    </tr>\n",
       "    <tr>\n",
       "      <th>4</th>\n",
       "      <td>Germany</td>\n",
       "      <td>28926346</td>\n",
       "      <td>141758</td>\n",
       "      <td>28808614</td>\n",
       "      <td>141627</td>\n",
       "      <td>117732</td>\n",
       "      <td>131</td>\n",
       "      <td>0.5</td>\n",
       "      <td>Europe</td>\n",
       "    </tr>\n",
       "  </tbody>\n",
       "</table>\n",
       "</div>"
      ],
      "text/plain": [
       "  Country/Region     Cases   Deaths    PCases  PDeaths  Cases (+)  Deaths (+)  \\\n",
       "0             US  88381589  1020262  88262908  1019151     118681        1111   \n",
       "1          India  43585554   525343  43566739   525305      18815          38   \n",
       "2         Brazil  32759730   673073  32687680   672790      72050         283   \n",
       "3         France  32177472   150982  32016207   150893     161265          89   \n",
       "4        Germany  28926346   141758  28808614   141627     117732         131   \n",
       "\n",
       "   Fatality Rate      Continent  \n",
       "0            1.2  North America  \n",
       "1            1.2           Asia  \n",
       "2            2.1  South America  \n",
       "3            0.5         Europe  \n",
       "4            0.5         Europe  "
      ]
     },
     "execution_count": 15,
     "metadata": {},
     "output_type": "execute_result"
    }
   ],
   "source": [
    "#hide\n",
    "df_table = (pd.DataFrame(dict(Cases=dfc_cases, Deaths=dfc_deaths, PCases=dfp_cases, PDeaths=dfp_deaths))\n",
    "             .sort_values(by=['Cases', 'Deaths'], ascending=[False, False])\n",
    "             .reset_index())\n",
    "df_table.rename(columns={'index': 'Country/Region'}, inplace=True)\n",
    "for c in 'Cases, Deaths'.split(', '):\n",
    "    df_table[f'{c} (+)'] = (df_table[c] - df_table[f'P{c}']).clip(0)  # DATA BUG\n",
    "df_table['Fatality Rate'] = (100 * df_table['Deaths'] / df_table['Cases']).round(1)\n",
    "df_table['Continent'] = df_table['Country/Region'].map(mapping['map.continent'])\n",
    "df_table.head(5)"
   ]
  },
  {
   "cell_type": "code",
   "execution_count": 16,
   "id": "fewer-occasion",
   "metadata": {
    "execution": {
     "iopub.execute_input": "2022-07-09T00:37:48.034089Z",
     "iopub.status.busy": "2022-07-09T00:37:48.033483Z",
     "iopub.status.idle": "2022-07-09T00:37:48.036128Z",
     "shell.execute_reply": "2022-07-09T00:37:48.035558Z"
    },
    "papermill": {
     "duration": 0.038525,
     "end_time": "2022-07-09T00:37:48.036238",
     "exception": false,
     "start_time": "2022-07-09T00:37:47.997713",
     "status": "completed"
    },
    "tags": []
   },
   "outputs": [],
   "source": [
    "#hide\n",
    "#delete problematic countries from table\n",
    "df_table = df_table[~df_table['Country/Region'].isin(['Cape Verde', 'Cruise Ship', 'Kosovo'])]"
   ]
  },
  {
   "cell_type": "code",
   "execution_count": 17,
   "id": "related-center",
   "metadata": {
    "execution": {
     "iopub.execute_input": "2022-07-09T00:37:48.104681Z",
     "iopub.status.busy": "2022-07-09T00:37:48.104071Z",
     "iopub.status.idle": "2022-07-09T00:37:48.117281Z",
     "shell.execute_reply": "2022-07-09T00:37:48.116805Z"
    },
    "papermill": {
     "duration": 0.050505,
     "end_time": "2022-07-09T00:37:48.117392",
     "exception": false,
     "start_time": "2022-07-09T00:37:48.066887",
     "status": "completed"
    },
    "tags": []
   },
   "outputs": [],
   "source": [
    "#hide\n",
    "metrics = [df_table.columns[index] for index in [1,2,5,6]]\n",
    "# s_china = df_table[df_table['Country/Region'].eq('China')][metrics].sum().add_prefix('China ')\n",
    "s_us = df_table[df_table['Country/Region'].eq('US')][metrics].sum().add_prefix('US ')\n",
    "s_eu = df_table[df_table['Continent'].eq('Europe')][metrics].sum().add_prefix('EU ')\n",
    "s_ind = df_table[df_table['Country/Region'].eq('India')][metrics].sum().add_prefix('India ')\n",
    "summary = {'updated': pd.to_datetime(dt_today), 'since': pd.to_datetime(dt_yday)}\n",
    "summary = {'updated': pd.to_datetime(dt_today), 'since': pd.to_datetime(dt_yday)}\n",
    "summary = {**summary, **df_table[metrics].sum(), **s_ind, **s_us, **s_eu}"
   ]
  },
  {
   "cell_type": "code",
   "execution_count": 18,
   "id": "engaging-syndrome",
   "metadata": {
    "execution": {
     "iopub.execute_input": "2022-07-09T00:37:48.184864Z",
     "iopub.status.busy": "2022-07-09T00:37:48.184214Z",
     "iopub.status.idle": "2022-07-09T00:37:48.204488Z",
     "shell.execute_reply": "2022-07-09T00:37:48.203927Z"
    },
    "papermill": {
     "duration": 0.056333,
     "end_time": "2022-07-09T00:37:48.204621",
     "exception": false,
     "start_time": "2022-07-09T00:37:48.148288",
     "status": "completed"
    },
    "tags": []
   },
   "outputs": [],
   "source": [
    "#hide\n",
    "dft_ct_new_cases = dft_cases.groupby(COL_REGION)[dt_cols].sum().diff(axis=1).fillna(0).astype(int)"
   ]
  },
  {
   "cell_type": "code",
   "execution_count": 19,
   "id": "neutral-assignment",
   "metadata": {
    "execution": {
     "iopub.execute_input": "2022-07-09T00:37:48.273357Z",
     "iopub.status.busy": "2022-07-09T00:37:48.272673Z",
     "iopub.status.idle": "2022-07-09T00:37:48.275087Z",
     "shell.execute_reply": "2022-07-09T00:37:48.274521Z"
    },
    "papermill": {
     "duration": 0.039359,
     "end_time": "2022-07-09T00:37:48.275197",
     "exception": false,
     "start_time": "2022-07-09T00:37:48.235838",
     "status": "completed"
    },
    "tags": []
   },
   "outputs": [],
   "source": [
    "#hide\n",
    "everydaycases = dft_ct_new_cases.cumsum(axis=1)"
   ]
  },
  {
   "cell_type": "code",
   "execution_count": 20,
   "id": "parliamentary-calgary",
   "metadata": {
    "execution": {
     "iopub.execute_input": "2022-07-09T00:37:48.341911Z",
     "iopub.status.busy": "2022-07-09T00:37:48.341319Z",
     "iopub.status.idle": "2022-07-09T00:37:48.870430Z",
     "shell.execute_reply": "2022-07-09T00:37:48.870959Z"
    },
    "papermill": {
     "duration": 0.565133,
     "end_time": "2022-07-09T00:37:48.871124",
     "exception": false,
     "start_time": "2022-07-09T00:37:48.305991",
     "status": "completed"
    },
    "tags": []
   },
   "outputs": [],
   "source": [
    "#hide\n",
    "import pandas as pd\n",
    "import matplotlib.pyplot as plt\n",
    "import matplotlib.ticker as ticker\n",
    "import matplotlib.animation as animation\n",
    "from IPython.display import HTML"
   ]
  },
  {
   "cell_type": "code",
   "execution_count": 21,
   "id": "lasting-extraction",
   "metadata": {
    "execution": {
     "iopub.execute_input": "2022-07-09T00:37:48.940509Z",
     "iopub.status.busy": "2022-07-09T00:37:48.939891Z",
     "iopub.status.idle": "2022-07-09T00:37:48.946842Z",
     "shell.execute_reply": "2022-07-09T00:37:48.947318Z"
    },
    "papermill": {
     "duration": 0.045087,
     "end_time": "2022-07-09T00:37:48.947460",
     "exception": false,
     "start_time": "2022-07-09T00:37:48.902373",
     "status": "completed"
    },
    "tags": []
   },
   "outputs": [],
   "source": [
    "#hide\n",
    "t = everydaycases.stack()"
   ]
  },
  {
   "cell_type": "code",
   "execution_count": 22,
   "id": "premier-sleeve",
   "metadata": {
    "execution": {
     "iopub.execute_input": "2022-07-09T00:37:49.014296Z",
     "iopub.status.busy": "2022-07-09T00:37:49.013687Z",
     "iopub.status.idle": "2022-07-09T00:37:49.024969Z",
     "shell.execute_reply": "2022-07-09T00:37:49.025445Z"
    },
    "papermill": {
     "duration": 0.047025,
     "end_time": "2022-07-09T00:37:49.025583",
     "exception": false,
     "start_time": "2022-07-09T00:37:48.978558",
     "status": "completed"
    },
    "tags": []
   },
   "outputs": [],
   "source": [
    "#hide\n",
    "g = t.reset_index(['Country/Region'])"
   ]
  },
  {
   "cell_type": "code",
   "execution_count": 23,
   "id": "distributed-pittsburgh",
   "metadata": {
    "execution": {
     "iopub.execute_input": "2022-07-09T00:37:49.091737Z",
     "iopub.status.busy": "2022-07-09T00:37:49.091057Z",
     "iopub.status.idle": "2022-07-09T00:37:49.093688Z",
     "shell.execute_reply": "2022-07-09T00:37:49.093059Z"
    },
    "papermill": {
     "duration": 0.037475,
     "end_time": "2022-07-09T00:37:49.093811",
     "exception": false,
     "start_time": "2022-07-09T00:37:49.056336",
     "status": "completed"
    },
    "tags": []
   },
   "outputs": [],
   "source": [
    "#hide\n",
    "g.index.name = 'date'"
   ]
  },
  {
   "cell_type": "code",
   "execution_count": 24,
   "id": "naked-donor",
   "metadata": {
    "execution": {
     "iopub.execute_input": "2022-07-09T00:37:49.159631Z",
     "iopub.status.busy": "2022-07-09T00:37:49.159031Z",
     "iopub.status.idle": "2022-07-09T00:37:49.162650Z",
     "shell.execute_reply": "2022-07-09T00:37:49.163073Z"
    },
    "papermill": {
     "duration": 0.038222,
     "end_time": "2022-07-09T00:37:49.163208",
     "exception": false,
     "start_time": "2022-07-09T00:37:49.124986",
     "status": "completed"
    },
    "tags": []
   },
   "outputs": [],
   "source": [
    "# #hide\n",
    "# g = g.reset_index(['date'])"
   ]
  },
  {
   "cell_type": "code",
   "execution_count": 25,
   "id": "incomplete-mustang",
   "metadata": {
    "execution": {
     "iopub.execute_input": "2022-07-09T00:37:49.229025Z",
     "iopub.status.busy": "2022-07-09T00:37:49.228264Z",
     "iopub.status.idle": "2022-07-09T00:37:49.231033Z",
     "shell.execute_reply": "2022-07-09T00:37:49.230469Z"
    },
    "papermill": {
     "duration": 0.037187,
     "end_time": "2022-07-09T00:37:49.231145",
     "exception": false,
     "start_time": "2022-07-09T00:37:49.193958",
     "status": "completed"
    },
    "tags": []
   },
   "outputs": [],
   "source": [
    "#hide\n",
    "# g.head()"
   ]
  },
  {
   "cell_type": "code",
   "execution_count": 26,
   "id": "specific-kruger",
   "metadata": {
    "execution": {
     "iopub.execute_input": "2022-07-09T00:37:49.296730Z",
     "iopub.status.busy": "2022-07-09T00:37:49.295994Z",
     "iopub.status.idle": "2022-07-09T00:37:49.298628Z",
     "shell.execute_reply": "2022-07-09T00:37:49.297977Z"
    },
    "papermill": {
     "duration": 0.036731,
     "end_time": "2022-07-09T00:37:49.298751",
     "exception": false,
     "start_time": "2022-07-09T00:37:49.262020",
     "status": "completed"
    },
    "tags": []
   },
   "outputs": [],
   "source": [
    "#hide\n",
    "# g.columns = ['date','country','cases']"
   ]
  },
  {
   "cell_type": "code",
   "execution_count": 27,
   "id": "tender-conversion",
   "metadata": {
    "execution": {
     "iopub.execute_input": "2022-07-09T00:37:49.363831Z",
     "iopub.status.busy": "2022-07-09T00:37:49.363256Z",
     "iopub.status.idle": "2022-07-09T00:37:49.365603Z",
     "shell.execute_reply": "2022-07-09T00:37:49.366075Z"
    },
    "papermill": {
     "duration": 0.036708,
     "end_time": "2022-07-09T00:37:49.366200",
     "exception": false,
     "start_time": "2022-07-09T00:37:49.329492",
     "status": "completed"
    },
    "tags": []
   },
   "outputs": [],
   "source": [
    "#hide\n",
    "# g['continent'] = g.country"
   ]
  },
  {
   "cell_type": "code",
   "execution_count": 28,
   "id": "substantial-wilderness",
   "metadata": {
    "execution": {
     "iopub.execute_input": "2022-07-09T00:37:49.431607Z",
     "iopub.status.busy": "2022-07-09T00:37:49.430943Z",
     "iopub.status.idle": "2022-07-09T00:37:49.434849Z",
     "shell.execute_reply": "2022-07-09T00:37:49.434375Z"
    },
    "papermill": {
     "duration": 0.037955,
     "end_time": "2022-07-09T00:37:49.434954",
     "exception": false,
     "start_time": "2022-07-09T00:37:49.396999",
     "status": "completed"
    },
    "tags": []
   },
   "outputs": [],
   "source": [
    "#hide\n",
    "# cols = list(g.columns.values)"
   ]
  },
  {
   "cell_type": "code",
   "execution_count": 29,
   "id": "solved-farming",
   "metadata": {
    "execution": {
     "iopub.execute_input": "2022-07-09T00:37:49.500220Z",
     "iopub.status.busy": "2022-07-09T00:37:49.499548Z",
     "iopub.status.idle": "2022-07-09T00:37:49.503736Z",
     "shell.execute_reply": "2022-07-09T00:37:49.503182Z"
    },
    "papermill": {
     "duration": 0.038346,
     "end_time": "2022-07-09T00:37:49.503857",
     "exception": false,
     "start_time": "2022-07-09T00:37:49.465511",
     "status": "completed"
    },
    "tags": []
   },
   "outputs": [],
   "source": [
    "#hide\n",
    "# cols.insert(0, cols.pop())"
   ]
  },
  {
   "cell_type": "code",
   "execution_count": 30,
   "id": "executed-adoption",
   "metadata": {
    "execution": {
     "iopub.execute_input": "2022-07-09T00:37:49.570059Z",
     "iopub.status.busy": "2022-07-09T00:37:49.568700Z",
     "iopub.status.idle": "2022-07-09T00:37:49.570863Z",
     "shell.execute_reply": "2022-07-09T00:37:49.571383Z"
    },
    "papermill": {
     "duration": 0.036885,
     "end_time": "2022-07-09T00:37:49.571525",
     "exception": false,
     "start_time": "2022-07-09T00:37:49.534640",
     "status": "completed"
    },
    "tags": []
   },
   "outputs": [],
   "source": [
    "#hide\n",
    "# g = g[cols]"
   ]
  },
  {
   "cell_type": "code",
   "execution_count": 31,
   "id": "subject-dublin",
   "metadata": {
    "execution": {
     "iopub.execute_input": "2022-07-09T00:37:49.637767Z",
     "iopub.status.busy": "2022-07-09T00:37:49.637103Z",
     "iopub.status.idle": "2022-07-09T00:37:49.640661Z",
     "shell.execute_reply": "2022-07-09T00:37:49.641160Z"
    },
    "papermill": {
     "duration": 0.038591,
     "end_time": "2022-07-09T00:37:49.641300",
     "exception": false,
     "start_time": "2022-07-09T00:37:49.602709",
     "status": "completed"
    },
    "tags": []
   },
   "outputs": [],
   "source": [
    "#hide\n",
    "# g['continent'] = g['continent'].map(mapping['map.continent'])"
   ]
  },
  {
   "cell_type": "code",
   "execution_count": 32,
   "id": "freelance-scout",
   "metadata": {
    "execution": {
     "iopub.execute_input": "2022-07-09T00:37:49.707600Z",
     "iopub.status.busy": "2022-07-09T00:37:49.707004Z",
     "iopub.status.idle": "2022-07-09T00:37:49.709164Z",
     "shell.execute_reply": "2022-07-09T00:37:49.709702Z"
    },
    "papermill": {
     "duration": 0.037218,
     "end_time": "2022-07-09T00:37:49.709834",
     "exception": false,
     "start_time": "2022-07-09T00:37:49.672616",
     "status": "completed"
    },
    "tags": []
   },
   "outputs": [],
   "source": [
    "#hide\n",
    "# g.head()"
   ]
  },
  {
   "cell_type": "code",
   "execution_count": 33,
   "id": "limited-engine",
   "metadata": {
    "execution": {
     "iopub.execute_input": "2022-07-09T00:37:49.775320Z",
     "iopub.status.busy": "2022-07-09T00:37:49.774630Z",
     "iopub.status.idle": "2022-07-09T00:37:49.778179Z",
     "shell.execute_reply": "2022-07-09T00:37:49.778627Z"
    },
    "papermill": {
     "duration": 0.038216,
     "end_time": "2022-07-09T00:37:49.778755",
     "exception": false,
     "start_time": "2022-07-09T00:37:49.740539",
     "status": "completed"
    },
    "tags": []
   },
   "outputs": [],
   "source": [
    "# hide\n",
    "# g['date'] = g['date'].astype('datetime64[ns]')"
   ]
  },
  {
   "cell_type": "code",
   "execution_count": 34,
   "id": "sophisticated-supervisor",
   "metadata": {
    "execution": {
     "iopub.execute_input": "2022-07-09T00:37:49.844663Z",
     "iopub.status.busy": "2022-07-09T00:37:49.843949Z",
     "iopub.status.idle": "2022-07-09T00:37:49.847710Z",
     "shell.execute_reply": "2022-07-09T00:37:49.847172Z"
    },
    "papermill": {
     "duration": 0.038187,
     "end_time": "2022-07-09T00:37:49.847833",
     "exception": false,
     "start_time": "2022-07-09T00:37:49.809646",
     "status": "completed"
    },
    "tags": []
   },
   "outputs": [],
   "source": [
    "#hide\n",
    "# g['date'] = g.date.dt.dayofyear"
   ]
  },
  {
   "cell_type": "code",
   "execution_count": 35,
   "id": "inside-dubai",
   "metadata": {
    "execution": {
     "iopub.execute_input": "2022-07-09T00:37:49.913529Z",
     "iopub.status.busy": "2022-07-09T00:37:49.912838Z",
     "iopub.status.idle": "2022-07-09T00:37:49.915304Z",
     "shell.execute_reply": "2022-07-09T00:37:49.914657Z"
    },
    "papermill": {
     "duration": 0.036888,
     "end_time": "2022-07-09T00:37:49.915431",
     "exception": false,
     "start_time": "2022-07-09T00:37:49.878543",
     "status": "completed"
    },
    "tags": []
   },
   "outputs": [],
   "source": [
    "#hide\n",
    "# g = g.rename(columns= {'continent':'group','country':'name','cases':'value'})"
   ]
  },
  {
   "cell_type": "code",
   "execution_count": 36,
   "id": "fleet-motorcycle",
   "metadata": {
    "execution": {
     "iopub.execute_input": "2022-07-09T00:37:49.981797Z",
     "iopub.status.busy": "2022-07-09T00:37:49.981189Z",
     "iopub.status.idle": "2022-07-09T00:37:49.983868Z",
     "shell.execute_reply": "2022-07-09T00:37:49.983304Z"
    },
    "papermill": {
     "duration": 0.036904,
     "end_time": "2022-07-09T00:37:49.983978",
     "exception": false,
     "start_time": "2022-07-09T00:37:49.947074",
     "status": "completed"
    },
    "tags": []
   },
   "outputs": [],
   "source": [
    "#hide\n",
    "# cols = ['name','group','day','value']"
   ]
  },
  {
   "cell_type": "code",
   "execution_count": 37,
   "id": "continued-sleeping",
   "metadata": {
    "execution": {
     "iopub.execute_input": "2022-07-09T00:37:50.049661Z",
     "iopub.status.busy": "2022-07-09T00:37:50.048986Z",
     "iopub.status.idle": "2022-07-09T00:37:50.051372Z",
     "shell.execute_reply": "2022-07-09T00:37:50.050806Z"
    },
    "papermill": {
     "duration": 0.036871,
     "end_time": "2022-07-09T00:37:50.051482",
     "exception": false,
     "start_time": "2022-07-09T00:37:50.014611",
     "status": "completed"
    },
    "tags": []
   },
   "outputs": [],
   "source": [
    "#hide\n",
    "# g.rename(columns= {'date':'day'},inplace = True)"
   ]
  },
  {
   "cell_type": "code",
   "execution_count": 38,
   "id": "major-fight",
   "metadata": {
    "execution": {
     "iopub.execute_input": "2022-07-09T00:37:50.117546Z",
     "iopub.status.busy": "2022-07-09T00:37:50.116865Z",
     "iopub.status.idle": "2022-07-09T00:37:50.120660Z",
     "shell.execute_reply": "2022-07-09T00:37:50.121176Z"
    },
    "papermill": {
     "duration": 0.038803,
     "end_time": "2022-07-09T00:37:50.121318",
     "exception": false,
     "start_time": "2022-07-09T00:37:50.082515",
     "status": "completed"
    },
    "tags": []
   },
   "outputs": [],
   "source": [
    "#hide\n",
    "# g = g[cols]"
   ]
  },
  {
   "cell_type": "code",
   "execution_count": 39,
   "id": "structured-mobile",
   "metadata": {
    "execution": {
     "iopub.execute_input": "2022-07-09T00:37:50.186838Z",
     "iopub.status.busy": "2022-07-09T00:37:50.186147Z",
     "iopub.status.idle": "2022-07-09T00:37:50.189850Z",
     "shell.execute_reply": "2022-07-09T00:37:50.190363Z"
    },
    "papermill": {
     "duration": 0.038457,
     "end_time": "2022-07-09T00:37:50.190509",
     "exception": false,
     "start_time": "2022-07-09T00:37:50.152052",
     "status": "completed"
    },
    "tags": []
   },
   "outputs": [],
   "source": [
    "# #hide\n",
    "# g = g[g.group.notna()]"
   ]
  },
  {
   "cell_type": "code",
   "execution_count": 40,
   "id": "determined-closing",
   "metadata": {
    "execution": {
     "iopub.execute_input": "2022-07-09T00:37:50.256869Z",
     "iopub.status.busy": "2022-07-09T00:37:50.256142Z",
     "iopub.status.idle": "2022-07-09T00:37:50.259565Z",
     "shell.execute_reply": "2022-07-09T00:37:50.258920Z"
    },
    "papermill": {
     "duration": 0.038025,
     "end_time": "2022-07-09T00:37:50.259688",
     "exception": false,
     "start_time": "2022-07-09T00:37:50.221663",
     "status": "completed"
    },
    "tags": []
   },
   "outputs": [],
   "source": [
    "# #hide\n",
    "# colors = dict(zip(\n",
    "#     [\"Oceania\", \"Europe\", \"Asia\", \"South America\", \"Middle East\", \"North America\", \"Africa\"],\n",
    "#     [\"#adb0ff\", \"#ffb3ff\", \"#90d595\", \"#e48381\", \"#aafbff\", \"#f7bb5f\", \"#eafb50\"]\n",
    "# ))\n",
    "# group_lk = g.set_index('name')['group'].to_dict()"
   ]
  },
  {
   "cell_type": "code",
   "execution_count": null,
   "id": "gross-drinking",
   "metadata": {
    "papermill": {
     "duration": 0.030667,
     "end_time": "2022-07-09T00:37:50.321505",
     "exception": false,
     "start_time": "2022-07-09T00:37:50.290838",
     "status": "completed"
    },
    "tags": []
   },
   "outputs": [],
   "source": []
  },
  {
   "cell_type": "code",
   "execution_count": 41,
   "id": "subject-macintosh",
   "metadata": {
    "execution": {
     "iopub.execute_input": "2022-07-09T00:37:50.387448Z",
     "iopub.status.busy": "2022-07-09T00:37:50.386853Z",
     "iopub.status.idle": "2022-07-09T00:37:50.389129Z",
     "shell.execute_reply": "2022-07-09T00:37:50.389572Z"
    },
    "papermill": {
     "duration": 0.037497,
     "end_time": "2022-07-09T00:37:50.389698",
     "exception": false,
     "start_time": "2022-07-09T00:37:50.352201",
     "status": "completed"
    },
    "tags": []
   },
   "outputs": [],
   "source": [
    "# #hide\n",
    "# fig, ax = plt.subplots(figsize=(15, 8))\n",
    "\n",
    "# def draw_barchart(current_day):\n",
    "#     dff = g[g['day'].eq(current_day)].sort_values(by='value', ascending=True).tail(10)\n",
    "#     ax.clear()\n",
    "#     ax.barh(dff['name'], dff['value'], color=[colors[group_lk[x]] for x in dff['name']])\n",
    "#     dx = dff['value'].max() / 200\n",
    "    \n",
    "#     for i, (value, name) in enumerate(zip(dff['value'], dff['name'])):\n",
    "#         ax.text(value-dx, i,     name,           size=14, weight=600, ha='right', va='bottom')\n",
    "#         ax.text(value-dx, i-.25, group_lk[name], size=10, color='#444444', ha='right', va='baseline')\n",
    "#         ax.text(value+dx, i,     f'{value:,.0f}',  size=14, ha='left',  va='center')\n",
    "#     ax.text(1, 0.4, current_day, transform=ax.transAxes, color='#777777', size=46, ha='right', weight=800)\n",
    "#     ax.text(0, 1.06, 'Population (thousands)', transform=ax.transAxes, size=12, color='#777777')\n",
    "#     ax.xaxis.set_major_formatter(ticker.StrMethodFormatter('{x:,.0f}'))\n",
    "#     ax.xaxis.set_ticks_position('top')\n",
    "#     ax.tick_params(axis='x', colors='#777777', labelsize=12)\n",
    "#     ax.set_yticks([])\n",
    "#     ax.margins(0, 0.01)\n",
    "#     ax.grid(which='major', axis='x', linestyle='-')\n",
    "#     ax.set_axisbelow(True)\n",
    "    \n",
    "#     ax.text(0, 1.15, 'Coronavirus',\n",
    "#             transform=ax.transAxes, size=24, weight=600, ha='left', va='top')\n",
    "# #     ax.text(1, 0, 'by @pratapvardhan; credit @jburnmurdoch', transform=ax.transAxes, color='#777777', ha='right',\n",
    "# #             bbox=dict(facecolor='white', alpha=0.8, edgecolor='white'))\n",
    "#     plt.box(False)"
   ]
  },
  {
   "cell_type": "code",
   "execution_count": 42,
   "id": "sexual-wages",
   "metadata": {
    "execution": {
     "iopub.execute_input": "2022-07-09T00:37:50.454745Z",
     "iopub.status.busy": "2022-07-09T00:37:50.454071Z",
     "iopub.status.idle": "2022-07-09T00:37:50.456576Z",
     "shell.execute_reply": "2022-07-09T00:37:50.455907Z"
    },
    "papermill": {
     "duration": 0.036462,
     "end_time": "2022-07-09T00:37:50.456700",
     "exception": false,
     "start_time": "2022-07-09T00:37:50.420238",
     "status": "completed"
    },
    "tags": []
   },
   "outputs": [],
   "source": [
    "# #hide_input\n",
    "# fig, ax = plt.subplots(figsize=(15, 8))\n",
    "# animator = animation.FuncAnimation(fig, draw_barchart, frames=range(g.day.values.min(), g.day.values.max()))\n",
    "# HTML(animator.to_jshtml())\n",
    "# # or use animator.to_html5_video() or animator.save() "
   ]
  },
  {
   "cell_type": "code",
   "execution_count": null,
   "id": "australian-container",
   "metadata": {
    "papermill": {
     "duration": 0.030589,
     "end_time": "2022-07-09T00:37:50.518050",
     "exception": false,
     "start_time": "2022-07-09T00:37:50.487461",
     "status": "completed"
    },
    "tags": []
   },
   "outputs": [],
   "source": []
  },
  {
   "cell_type": "code",
   "execution_count": null,
   "id": "mediterranean-pontiac",
   "metadata": {
    "papermill": {
     "duration": 0.03058,
     "end_time": "2022-07-09T00:37:50.579142",
     "exception": false,
     "start_time": "2022-07-09T00:37:50.548562",
     "status": "completed"
    },
    "tags": []
   },
   "outputs": [],
   "source": []
  },
  {
   "cell_type": "code",
   "execution_count": null,
   "id": "aging-legislature",
   "metadata": {
    "papermill": {
     "duration": 0.030589,
     "end_time": "2022-07-09T00:37:50.640547",
     "exception": false,
     "start_time": "2022-07-09T00:37:50.609958",
     "status": "completed"
    },
    "tags": []
   },
   "outputs": [],
   "source": []
  }
 ],
 "metadata": {
  "kernelspec": {
   "display_name": "Python 3",
   "language": "python",
   "name": "python3"
  },
  "language_info": {
   "codemirror_mode": {
    "name": "ipython",
    "version": 3
   },
   "file_extension": ".py",
   "mimetype": "text/x-python",
   "name": "python",
   "nbconvert_exporter": "python",
   "pygments_lexer": "ipython3",
   "version": "3.6.15"
  },
  "papermill": {
   "duration": 6.060186,
   "end_time": "2022-07-09T00:37:50.989863",
   "environment_variables": {},
   "exception": null,
   "input_path": "2020-03-21-covid19exp.ipynb",
   "output_path": "2020-03-21-covid19exp.ipynb",
   "parameters": {},
   "start_time": "2022-07-09T00:37:44.929677",
   "version": "2.0.0"
  }
 },
 "nbformat": 4,
 "nbformat_minor": 5
}