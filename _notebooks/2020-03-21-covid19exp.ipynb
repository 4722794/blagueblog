{
 "cells": [
  {
   "cell_type": "markdown",
   "id": "muslim-click",
   "metadata": {
    "papermill": {
     "duration": 0.042767,
     "end_time": "2022-03-19T12:14:56.578578",
     "exception": false,
     "start_time": "2022-03-19T12:14:56.535811",
     "status": "completed"
    },
    "tags": []
   },
   "source": [
    "# COVID-19 Case Race\n",
    "> A race chart to see rising cases around the world\n",
    "\n",
    "- author: Hargun Oberoi\n",
    "- image: images/covid-overview.png\n",
    "- hide: false\n",
    "- badges: false"
   ]
  },
  {
   "cell_type": "code",
   "execution_count": 1,
   "id": "proof-material",
   "metadata": {
    "execution": {
     "iopub.execute_input": "2022-03-19T12:14:56.665787Z",
     "iopub.status.busy": "2022-03-19T12:14:56.665027Z",
     "iopub.status.idle": "2022-03-19T12:14:57.061192Z",
     "shell.execute_reply": "2022-03-19T12:14:57.060134Z"
    },
    "papermill": {
     "duration": 0.442671,
     "end_time": "2022-03-19T12:14:57.061349",
     "exception": false,
     "start_time": "2022-03-19T12:14:56.618678",
     "status": "completed"
    },
    "tags": []
   },
   "outputs": [],
   "source": [
    "#hide\n",
    "import numpy as np\n",
    "import pandas as pd\n",
    "from jinja2 import Template\n",
    "from IPython.display import HTML"
   ]
  },
  {
   "cell_type": "code",
   "execution_count": 2,
   "id": "developed-terminology",
   "metadata": {
    "execution": {
     "iopub.execute_input": "2022-03-19T12:14:57.141352Z",
     "iopub.status.busy": "2022-03-19T12:14:57.140678Z",
     "iopub.status.idle": "2022-03-19T12:14:57.143073Z",
     "shell.execute_reply": "2022-03-19T12:14:57.142551Z"
    },
    "papermill": {
     "duration": 0.04465,
     "end_time": "2022-03-19T12:14:57.143192",
     "exception": false,
     "start_time": "2022-03-19T12:14:57.098542",
     "status": "completed"
    },
    "tags": []
   },
   "outputs": [],
   "source": [
    "#hide\n",
    "\n",
    "# FETCH\n",
    "base_url = 'https://raw.githubusercontent.com/pratapvardhan/notebooks/master/covid19/'\n",
    "paths = {\n",
    "    'mapping': base_url + 'mapping_countries.csv',\n",
    "    'overview': base_url + 'overview.tpl'\n",
    "}"
   ]
  },
  {
   "cell_type": "code",
   "execution_count": 3,
   "id": "dynamic-saver",
   "metadata": {
    "execution": {
     "iopub.execute_input": "2022-03-19T12:14:57.227346Z",
     "iopub.status.busy": "2022-03-19T12:14:57.224511Z",
     "iopub.status.idle": "2022-03-19T12:14:57.230328Z",
     "shell.execute_reply": "2022-03-19T12:14:57.230899Z"
    },
    "papermill": {
     "duration": 0.051676,
     "end_time": "2022-03-19T12:14:57.231029",
     "exception": false,
     "start_time": "2022-03-19T12:14:57.179353",
     "status": "completed"
    },
    "tags": []
   },
   "outputs": [
    {
     "data": {
      "text/plain": [
       "'https://raw.githubusercontent.com/pratapvardhan/notebooks/master/covid19/mapping_countries.csv'"
      ]
     },
     "execution_count": 3,
     "metadata": {},
     "output_type": "execute_result"
    }
   ],
   "source": [
    "#hide\n",
    "paths['mapping']"
   ]
  },
  {
   "cell_type": "code",
   "execution_count": 4,
   "id": "urban-software",
   "metadata": {
    "execution": {
     "iopub.execute_input": "2022-03-19T12:14:57.311272Z",
     "iopub.status.busy": "2022-03-19T12:14:57.310665Z",
     "iopub.status.idle": "2022-03-19T12:14:57.314404Z",
     "shell.execute_reply": "2022-03-19T12:14:57.314960Z"
    },
    "papermill": {
     "duration": 0.046025,
     "end_time": "2022-03-19T12:14:57.315084",
     "exception": false,
     "start_time": "2022-03-19T12:14:57.269059",
     "status": "completed"
    },
    "tags": []
   },
   "outputs": [],
   "source": [
    "#hide\n",
    "def get_mappings(url):\n",
    "    df = pd.read_csv(url)\n",
    "    return {\n",
    "        'df': df,\n",
    "        'replace.country': dict(df.dropna(subset=['Name']).set_index('Country')['Name']),\n",
    "        'map.continent': dict(df.set_index('Name')['Continent'])\n",
    "    }"
   ]
  },
  {
   "cell_type": "code",
   "execution_count": 5,
   "id": "intimate-machinery",
   "metadata": {
    "execution": {
     "iopub.execute_input": "2022-03-19T12:14:57.400733Z",
     "iopub.status.busy": "2022-03-19T12:14:57.399816Z",
     "iopub.status.idle": "2022-03-19T12:14:57.439627Z",
     "shell.execute_reply": "2022-03-19T12:14:57.440294Z"
    },
    "papermill": {
     "duration": 0.084966,
     "end_time": "2022-03-19T12:14:57.440513",
     "exception": false,
     "start_time": "2022-03-19T12:14:57.355547",
     "status": "completed"
    },
    "tags": []
   },
   "outputs": [],
   "source": [
    "#hide\n",
    "mapping = get_mappings(paths['mapping'])"
   ]
  },
  {
   "cell_type": "code",
   "execution_count": 6,
   "id": "certified-tactics",
   "metadata": {
    "execution": {
     "iopub.execute_input": "2022-03-19T12:14:57.523880Z",
     "iopub.status.busy": "2022-03-19T12:14:57.523080Z",
     "iopub.status.idle": "2022-03-19T12:14:57.526914Z",
     "shell.execute_reply": "2022-03-19T12:14:57.526309Z"
    },
    "papermill": {
     "duration": 0.047447,
     "end_time": "2022-03-19T12:14:57.527033",
     "exception": false,
     "start_time": "2022-03-19T12:14:57.479586",
     "status": "completed"
    },
    "tags": []
   },
   "outputs": [],
   "source": [
    "#hide\n",
    "def get_template(path):\n",
    "    from urllib.parse import urlparse\n",
    "    if bool(urlparse(path).netloc):\n",
    "        from urllib.request import urlopen\n",
    "        return urlopen(path).read().decode('utf8')\n",
    "    return open(path).read()"
   ]
  },
  {
   "cell_type": "code",
   "execution_count": 7,
   "id": "realistic-blast",
   "metadata": {
    "execution": {
     "iopub.execute_input": "2022-03-19T12:14:57.612386Z",
     "iopub.status.busy": "2022-03-19T12:14:57.611812Z",
     "iopub.status.idle": "2022-03-19T12:14:57.615730Z",
     "shell.execute_reply": "2022-03-19T12:14:57.616218Z"
    },
    "papermill": {
     "duration": 0.051751,
     "end_time": "2022-03-19T12:14:57.616339",
     "exception": false,
     "start_time": "2022-03-19T12:14:57.564588",
     "status": "completed"
    },
    "tags": []
   },
   "outputs": [],
   "source": [
    "#hide\n",
    "def get_frame(name):\n",
    "    url = (\n",
    "        'https://raw.githubusercontent.com/CSSEGISandData/COVID-19/master/csse_covid_19_data/'\n",
    "        f'csse_covid_19_time_series/time_series_covid19_{name}_global.csv')\n",
    "    df = pd.read_csv(url)\n",
    "    # rename countries\n",
    "    df['Country/Region'] = df['Country/Region'].replace(mapping['replace.country'])\n",
    "    return df"
   ]
  },
  {
   "cell_type": "code",
   "execution_count": 8,
   "id": "affiliated-characterization",
   "metadata": {
    "execution": {
     "iopub.execute_input": "2022-03-19T12:14:57.700692Z",
     "iopub.status.busy": "2022-03-19T12:14:57.700086Z",
     "iopub.status.idle": "2022-03-19T12:14:57.702891Z",
     "shell.execute_reply": "2022-03-19T12:14:57.702165Z"
    },
    "papermill": {
     "duration": 0.046253,
     "end_time": "2022-03-19T12:14:57.703026",
     "exception": false,
     "start_time": "2022-03-19T12:14:57.656773",
     "status": "completed"
    },
    "tags": []
   },
   "outputs": [],
   "source": [
    "#hide\n",
    "def get_dates(df):\n",
    "    dt_cols = df.columns[~df.columns.isin(['Province/State', 'Country/Region', 'Lat', 'Long'])]\n",
    "    LAST_DATE_I = -1\n",
    "    # sometimes last column may be empty, then go backwards\n",
    "    for i in range(-1, -len(dt_cols), -1):\n",
    "        if not df[dt_cols[i]].fillna(0).eq(0).all():\n",
    "            LAST_DATE_I = i\n",
    "            break\n",
    "    return LAST_DATE_I, dt_cols"
   ]
  },
  {
   "cell_type": "code",
   "execution_count": 9,
   "id": "recent-optimization",
   "metadata": {
    "execution": {
     "iopub.execute_input": "2022-03-19T12:14:57.785334Z",
     "iopub.status.busy": "2022-03-19T12:14:57.784140Z",
     "iopub.status.idle": "2022-03-19T12:14:58.283211Z",
     "shell.execute_reply": "2022-03-19T12:14:58.281798Z"
    },
    "papermill": {
     "duration": 0.541021,
     "end_time": "2022-03-19T12:14:58.283385",
     "exception": false,
     "start_time": "2022-03-19T12:14:57.742364",
     "status": "completed"
    },
    "tags": []
   },
   "outputs": [],
   "source": [
    "#hide\n",
    "COL_REGION = 'Country/Region'\n",
    "# Confirmed, Recovered, Deaths\n",
    "df = get_frame('confirmed')\n",
    "# dft_: timeseries, dfc_: today country agg\n",
    "dft_cases = df\n",
    "dft_deaths = get_frame('deaths')\n",
    "dft_recovered = get_frame('recovered')\n",
    "LAST_DATE_I, dt_cols = get_dates(df)"
   ]
  },
  {
   "cell_type": "code",
   "execution_count": 10,
   "id": "absolute-copper",
   "metadata": {
    "execution": {
     "iopub.execute_input": "2022-03-19T12:14:58.368193Z",
     "iopub.status.busy": "2022-03-19T12:14:58.367096Z",
     "iopub.status.idle": "2022-03-19T12:14:58.369416Z",
     "shell.execute_reply": "2022-03-19T12:14:58.369972Z"
    },
    "papermill": {
     "duration": 0.047439,
     "end_time": "2022-03-19T12:14:58.370120",
     "exception": false,
     "start_time": "2022-03-19T12:14:58.322681",
     "status": "completed"
    },
    "tags": []
   },
   "outputs": [],
   "source": [
    "#hide\n",
    "LAST_DATE_I, dt_cols = get_dates(df)\n",
    "dt_today =dt_cols[LAST_DATE_I]\n",
    "# dt_5day = dt_cols[LAST_DATE_I - 5]\n",
    "dt_yday = dt_cols[LAST_DATE_I - 1]"
   ]
  },
  {
   "cell_type": "code",
   "execution_count": 11,
   "id": "restricted-sheriff",
   "metadata": {
    "execution": {
     "iopub.execute_input": "2022-03-19T12:14:58.459722Z",
     "iopub.status.busy": "2022-03-19T12:14:58.459028Z",
     "iopub.status.idle": "2022-03-19T12:14:58.465905Z",
     "shell.execute_reply": "2022-03-19T12:14:58.466380Z"
    },
    "papermill": {
     "duration": 0.055382,
     "end_time": "2022-03-19T12:14:58.466522",
     "exception": false,
     "start_time": "2022-03-19T12:14:58.411140",
     "status": "completed"
    },
    "tags": []
   },
   "outputs": [],
   "source": [
    "#hide\n",
    "dfc_cases = dft_cases.groupby(COL_REGION)[dt_today].sum()\n",
    "dfc_deaths = dft_deaths.groupby(COL_REGION)[dt_today].sum()\n",
    "# dfp_cases = dft_cases.groupby(COL_REGION)[dt_5day].sum()\n",
    "# dfp_deaths = dft_deaths.groupby(COL_REGION)[dt_5day].sum()\n",
    "dfp_cases = dft_cases.groupby(COL_REGION)[dt_yday].sum()\n",
    "dfp_deaths = dft_deaths.groupby(COL_REGION)[dt_yday].sum()"
   ]
  },
  {
   "cell_type": "code",
   "execution_count": 12,
   "id": "deluxe-hepatitis",
   "metadata": {
    "execution": {
     "iopub.execute_input": "2022-03-19T12:14:58.551088Z",
     "iopub.status.busy": "2022-03-19T12:14:58.550486Z",
     "iopub.status.idle": "2022-03-19T12:14:58.556565Z",
     "shell.execute_reply": "2022-03-19T12:14:58.557159Z"
    },
    "papermill": {
     "duration": 0.051499,
     "end_time": "2022-03-19T12:14:58.557310",
     "exception": false,
     "start_time": "2022-03-19T12:14:58.505811",
     "status": "completed"
    },
    "tags": []
   },
   "outputs": [],
   "source": [
    "#hide\n",
    "df_table = (pd.DataFrame(dict(Cases = dfc_cases, Deaths = dfc_deaths, PCases = dfp_cases, PDeaths = dfp_deaths))\n",
    "            .sort_values(by = ['Cases','Deaths'], ascending = [False, False])\n",
    "            .reset_index())"
   ]
  },
  {
   "cell_type": "code",
   "execution_count": 13,
   "id": "educational-chancellor",
   "metadata": {
    "execution": {
     "iopub.execute_input": "2022-03-19T12:14:58.651713Z",
     "iopub.status.busy": "2022-03-19T12:14:58.650992Z",
     "iopub.status.idle": "2022-03-19T12:14:58.660915Z",
     "shell.execute_reply": "2022-03-19T12:14:58.660418Z"
    },
    "papermill": {
     "duration": 0.067515,
     "end_time": "2022-03-19T12:14:58.661024",
     "exception": false,
     "start_time": "2022-03-19T12:14:58.593509",
     "status": "completed"
    },
    "tags": []
   },
   "outputs": [
    {
     "data": {
      "text/html": [
       "<div>\n",
       "<style scoped>\n",
       "    .dataframe tbody tr th:only-of-type {\n",
       "        vertical-align: middle;\n",
       "    }\n",
       "\n",
       "    .dataframe tbody tr th {\n",
       "        vertical-align: top;\n",
       "    }\n",
       "\n",
       "    .dataframe thead th {\n",
       "        text-align: right;\n",
       "    }\n",
       "</style>\n",
       "<table border=\"1\" class=\"dataframe\">\n",
       "  <thead>\n",
       "    <tr style=\"text-align: right;\">\n",
       "      <th></th>\n",
       "      <th>Country/Region</th>\n",
       "      <th>Cases</th>\n",
       "      <th>Deaths</th>\n",
       "      <th>PCases</th>\n",
       "      <th>PDeaths</th>\n",
       "      <th>Cases (+)</th>\n",
       "      <th>Deaths (+)</th>\n",
       "      <th>Fatality Rate</th>\n",
       "      <th>Continent</th>\n",
       "    </tr>\n",
       "  </thead>\n",
       "  <tbody>\n",
       "    <tr>\n",
       "      <th>0</th>\n",
       "      <td>US</td>\n",
       "      <td>79717247</td>\n",
       "      <td>970806</td>\n",
       "      <td>79683737</td>\n",
       "      <td>970009</td>\n",
       "      <td>33510</td>\n",
       "      <td>797</td>\n",
       "      <td>1.22</td>\n",
       "      <td>North America</td>\n",
       "    </tr>\n",
       "    <tr>\n",
       "      <th>1</th>\n",
       "      <td>India</td>\n",
       "      <td>43006080</td>\n",
       "      <td>516352</td>\n",
       "      <td>43004005</td>\n",
       "      <td>516281</td>\n",
       "      <td>2075</td>\n",
       "      <td>71</td>\n",
       "      <td>1.20</td>\n",
       "      <td>Asia</td>\n",
       "    </tr>\n",
       "    <tr>\n",
       "      <th>2</th>\n",
       "      <td>Brazil</td>\n",
       "      <td>29584800</td>\n",
       "      <td>657098</td>\n",
       "      <td>29532810</td>\n",
       "      <td>656693</td>\n",
       "      <td>51990</td>\n",
       "      <td>405</td>\n",
       "      <td>2.22</td>\n",
       "      <td>South America</td>\n",
       "    </tr>\n",
       "    <tr>\n",
       "      <th>3</th>\n",
       "      <td>France</td>\n",
       "      <td>24143852</td>\n",
       "      <td>141869</td>\n",
       "      <td>24046195</td>\n",
       "      <td>141757</td>\n",
       "      <td>97657</td>\n",
       "      <td>112</td>\n",
       "      <td>0.59</td>\n",
       "      <td>Europe</td>\n",
       "    </tr>\n",
       "    <tr>\n",
       "      <th>4</th>\n",
       "      <td>United Kingdom</td>\n",
       "      <td>20243940</td>\n",
       "      <td>164099</td>\n",
       "      <td>20150847</td>\n",
       "      <td>163972</td>\n",
       "      <td>93093</td>\n",
       "      <td>127</td>\n",
       "      <td>0.81</td>\n",
       "      <td>Europe</td>\n",
       "    </tr>\n",
       "  </tbody>\n",
       "</table>\n",
       "</div>"
      ],
      "text/plain": [
       "   Country/Region     Cases  Deaths    PCases  PDeaths  Cases (+)  Deaths (+)  \\\n",
       "0              US  79717247  970806  79683737   970009      33510         797   \n",
       "1           India  43006080  516352  43004005   516281       2075          71   \n",
       "2          Brazil  29584800  657098  29532810   656693      51990         405   \n",
       "3          France  24143852  141869  24046195   141757      97657         112   \n",
       "4  United Kingdom  20243940  164099  20150847   163972      93093         127   \n",
       "\n",
       "   Fatality Rate      Continent  \n",
       "0           1.22  North America  \n",
       "1           1.20           Asia  \n",
       "2           2.22  South America  \n",
       "3           0.59         Europe  \n",
       "4           0.81         Europe  "
      ]
     },
     "execution_count": 13,
     "metadata": {},
     "output_type": "execute_result"
    }
   ],
   "source": [
    "#hide\n",
    "for c in 'Cases, Deaths'.split(', '):\n",
    "    df_table[f'{c} (+)'] = (df_table[c] - df_table[f'P{c}']).clip(0)\n",
    "    #Clip ça veut dire, les chiffres negatif sont interdit\n",
    "df_table['Fatality Rate'] = (100* df_table['Deaths']/ df_table['Cases']).round(2)\n",
    "df_table['Continent'] = df_table['Country/Region'].map(mapping['map.continent'])\n",
    "df_table.head(5)"
   ]
  },
  {
   "cell_type": "code",
   "execution_count": 14,
   "id": "aboriginal-bulgaria",
   "metadata": {
    "execution": {
     "iopub.execute_input": "2022-03-19T12:14:58.743093Z",
     "iopub.status.busy": "2022-03-19T12:14:58.742451Z",
     "iopub.status.idle": "2022-03-19T12:14:58.745380Z",
     "shell.execute_reply": "2022-03-19T12:14:58.744572Z"
    },
    "papermill": {
     "duration": 0.047074,
     "end_time": "2022-03-19T12:14:58.745504",
     "exception": false,
     "start_time": "2022-03-19T12:14:58.698430",
     "status": "completed"
    },
    "tags": []
   },
   "outputs": [],
   "source": [
    "#hide\n",
    "#delete problematic countries from table\n",
    "df_table = df_table[~df_table['Country/Region'].isin(['Cape Verde', 'Cruise Ship', 'Kosovo'])]"
   ]
  },
  {
   "cell_type": "code",
   "execution_count": 15,
   "id": "fantastic-effect",
   "metadata": {
    "execution": {
     "iopub.execute_input": "2022-03-19T12:14:58.830983Z",
     "iopub.status.busy": "2022-03-19T12:14:58.830367Z",
     "iopub.status.idle": "2022-03-19T12:14:58.852213Z",
     "shell.execute_reply": "2022-03-19T12:14:58.852689Z"
    },
    "papermill": {
     "duration": 0.069662,
     "end_time": "2022-03-19T12:14:58.852811",
     "exception": false,
     "start_time": "2022-03-19T12:14:58.783149",
     "status": "completed"
    },
    "tags": []
   },
   "outputs": [
    {
     "data": {
      "text/html": [
       "<div>\n",
       "<style scoped>\n",
       "    .dataframe tbody tr th:only-of-type {\n",
       "        vertical-align: middle;\n",
       "    }\n",
       "\n",
       "    .dataframe tbody tr th {\n",
       "        vertical-align: top;\n",
       "    }\n",
       "\n",
       "    .dataframe thead th {\n",
       "        text-align: right;\n",
       "    }\n",
       "</style>\n",
       "<table border=\"1\" class=\"dataframe\">\n",
       "  <thead>\n",
       "    <tr style=\"text-align: right;\">\n",
       "      <th></th>\n",
       "      <th>Country/Region</th>\n",
       "      <th>Cases</th>\n",
       "      <th>Deaths</th>\n",
       "      <th>PCases</th>\n",
       "      <th>PDeaths</th>\n",
       "      <th>Cases (+)</th>\n",
       "      <th>Deaths (+)</th>\n",
       "      <th>Fatality Rate</th>\n",
       "      <th>Continent</th>\n",
       "    </tr>\n",
       "  </thead>\n",
       "  <tbody>\n",
       "    <tr>\n",
       "      <th>0</th>\n",
       "      <td>US</td>\n",
       "      <td>79717247</td>\n",
       "      <td>970806</td>\n",
       "      <td>79683737</td>\n",
       "      <td>970009</td>\n",
       "      <td>33510</td>\n",
       "      <td>797</td>\n",
       "      <td>1.2</td>\n",
       "      <td>North America</td>\n",
       "    </tr>\n",
       "    <tr>\n",
       "      <th>1</th>\n",
       "      <td>India</td>\n",
       "      <td>43006080</td>\n",
       "      <td>516352</td>\n",
       "      <td>43004005</td>\n",
       "      <td>516281</td>\n",
       "      <td>2075</td>\n",
       "      <td>71</td>\n",
       "      <td>1.2</td>\n",
       "      <td>Asia</td>\n",
       "    </tr>\n",
       "    <tr>\n",
       "      <th>2</th>\n",
       "      <td>Brazil</td>\n",
       "      <td>29584800</td>\n",
       "      <td>657098</td>\n",
       "      <td>29532810</td>\n",
       "      <td>656693</td>\n",
       "      <td>51990</td>\n",
       "      <td>405</td>\n",
       "      <td>2.2</td>\n",
       "      <td>South America</td>\n",
       "    </tr>\n",
       "    <tr>\n",
       "      <th>3</th>\n",
       "      <td>France</td>\n",
       "      <td>24143852</td>\n",
       "      <td>141869</td>\n",
       "      <td>24046195</td>\n",
       "      <td>141757</td>\n",
       "      <td>97657</td>\n",
       "      <td>112</td>\n",
       "      <td>0.6</td>\n",
       "      <td>Europe</td>\n",
       "    </tr>\n",
       "    <tr>\n",
       "      <th>4</th>\n",
       "      <td>United Kingdom</td>\n",
       "      <td>20243940</td>\n",
       "      <td>164099</td>\n",
       "      <td>20150847</td>\n",
       "      <td>163972</td>\n",
       "      <td>93093</td>\n",
       "      <td>127</td>\n",
       "      <td>0.8</td>\n",
       "      <td>Europe</td>\n",
       "    </tr>\n",
       "  </tbody>\n",
       "</table>\n",
       "</div>"
      ],
      "text/plain": [
       "   Country/Region     Cases  Deaths    PCases  PDeaths  Cases (+)  Deaths (+)  \\\n",
       "0              US  79717247  970806  79683737   970009      33510         797   \n",
       "1           India  43006080  516352  43004005   516281       2075          71   \n",
       "2          Brazil  29584800  657098  29532810   656693      51990         405   \n",
       "3          France  24143852  141869  24046195   141757      97657         112   \n",
       "4  United Kingdom  20243940  164099  20150847   163972      93093         127   \n",
       "\n",
       "   Fatality Rate      Continent  \n",
       "0            1.2  North America  \n",
       "1            1.2           Asia  \n",
       "2            2.2  South America  \n",
       "3            0.6         Europe  \n",
       "4            0.8         Europe  "
      ]
     },
     "execution_count": 15,
     "metadata": {},
     "output_type": "execute_result"
    }
   ],
   "source": [
    "#hide\n",
    "df_table = (pd.DataFrame(dict(Cases=dfc_cases, Deaths=dfc_deaths, PCases=dfp_cases, PDeaths=dfp_deaths))\n",
    "             .sort_values(by=['Cases', 'Deaths'], ascending=[False, False])\n",
    "             .reset_index())\n",
    "df_table.rename(columns={'index': 'Country/Region'}, inplace=True)\n",
    "for c in 'Cases, Deaths'.split(', '):\n",
    "    df_table[f'{c} (+)'] = (df_table[c] - df_table[f'P{c}']).clip(0)  # DATA BUG\n",
    "df_table['Fatality Rate'] = (100 * df_table['Deaths'] / df_table['Cases']).round(1)\n",
    "df_table['Continent'] = df_table['Country/Region'].map(mapping['map.continent'])\n",
    "df_table.head(5)"
   ]
  },
  {
   "cell_type": "code",
   "execution_count": 16,
   "id": "fewer-occasion",
   "metadata": {
    "execution": {
     "iopub.execute_input": "2022-03-19T12:14:58.938655Z",
     "iopub.status.busy": "2022-03-19T12:14:58.937889Z",
     "iopub.status.idle": "2022-03-19T12:14:58.941016Z",
     "shell.execute_reply": "2022-03-19T12:14:58.940469Z"
    },
    "papermill": {
     "duration": 0.049113,
     "end_time": "2022-03-19T12:14:58.941137",
     "exception": false,
     "start_time": "2022-03-19T12:14:58.892024",
     "status": "completed"
    },
    "tags": []
   },
   "outputs": [],
   "source": [
    "#hide\n",
    "#delete problematic countries from table\n",
    "df_table = df_table[~df_table['Country/Region'].isin(['Cape Verde', 'Cruise Ship', 'Kosovo'])]"
   ]
  },
  {
   "cell_type": "code",
   "execution_count": 17,
   "id": "related-center",
   "metadata": {
    "execution": {
     "iopub.execute_input": "2022-03-19T12:14:59.043800Z",
     "iopub.status.busy": "2022-03-19T12:14:59.043059Z",
     "iopub.status.idle": "2022-03-19T12:14:59.046211Z",
     "shell.execute_reply": "2022-03-19T12:14:59.045637Z"
    },
    "papermill": {
     "duration": 0.064667,
     "end_time": "2022-03-19T12:14:59.046351",
     "exception": false,
     "start_time": "2022-03-19T12:14:58.981684",
     "status": "completed"
    },
    "tags": []
   },
   "outputs": [],
   "source": [
    "#hide\n",
    "metrics = [df_table.columns[index] for index in [1,2,5,6]]\n",
    "# s_china = df_table[df_table['Country/Region'].eq('China')][metrics].sum().add_prefix('China ')\n",
    "s_us = df_table[df_table['Country/Region'].eq('US')][metrics].sum().add_prefix('US ')\n",
    "s_eu = df_table[df_table['Continent'].eq('Europe')][metrics].sum().add_prefix('EU ')\n",
    "s_ind = df_table[df_table['Country/Region'].eq('India')][metrics].sum().add_prefix('India ')\n",
    "summary = {'updated': pd.to_datetime(dt_today), 'since': pd.to_datetime(dt_yday)}\n",
    "summary = {'updated': pd.to_datetime(dt_today), 'since': pd.to_datetime(dt_yday)}\n",
    "summary = {**summary, **df_table[metrics].sum(), **s_ind, **s_us, **s_eu}"
   ]
  },
  {
   "cell_type": "code",
   "execution_count": 18,
   "id": "engaging-syndrome",
   "metadata": {
    "execution": {
     "iopub.execute_input": "2022-03-19T12:14:59.146545Z",
     "iopub.status.busy": "2022-03-19T12:14:59.145856Z",
     "iopub.status.idle": "2022-03-19T12:14:59.165477Z",
     "shell.execute_reply": "2022-03-19T12:14:59.164945Z"
    },
    "papermill": {
     "duration": 0.069038,
     "end_time": "2022-03-19T12:14:59.165615",
     "exception": false,
     "start_time": "2022-03-19T12:14:59.096577",
     "status": "completed"
    },
    "tags": []
   },
   "outputs": [],
   "source": [
    "#hide\n",
    "dft_ct_new_cases = dft_cases.groupby(COL_REGION)[dt_cols].sum().diff(axis=1).fillna(0).astype(int)"
   ]
  },
  {
   "cell_type": "code",
   "execution_count": 19,
   "id": "neutral-assignment",
   "metadata": {
    "execution": {
     "iopub.execute_input": "2022-03-19T12:14:59.249086Z",
     "iopub.status.busy": "2022-03-19T12:14:59.248413Z",
     "iopub.status.idle": "2022-03-19T12:14:59.251066Z",
     "shell.execute_reply": "2022-03-19T12:14:59.250229Z"
    },
    "papermill": {
     "duration": 0.045927,
     "end_time": "2022-03-19T12:14:59.251191",
     "exception": false,
     "start_time": "2022-03-19T12:14:59.205264",
     "status": "completed"
    },
    "tags": []
   },
   "outputs": [],
   "source": [
    "#hide\n",
    "everydaycases = dft_ct_new_cases.cumsum(axis=1)"
   ]
  },
  {
   "cell_type": "code",
   "execution_count": 20,
   "id": "parliamentary-calgary",
   "metadata": {
    "execution": {
     "iopub.execute_input": "2022-03-19T12:14:59.339324Z",
     "iopub.status.busy": "2022-03-19T12:14:59.338579Z",
     "iopub.status.idle": "2022-03-19T12:15:00.065142Z",
     "shell.execute_reply": "2022-03-19T12:15:00.065626Z"
    },
    "papermill": {
     "duration": 0.772853,
     "end_time": "2022-03-19T12:15:00.065798",
     "exception": false,
     "start_time": "2022-03-19T12:14:59.292945",
     "status": "completed"
    },
    "tags": []
   },
   "outputs": [],
   "source": [
    "#hide\n",
    "import pandas as pd\n",
    "import matplotlib.pyplot as plt\n",
    "import matplotlib.ticker as ticker\n",
    "import matplotlib.animation as animation\n",
    "from IPython.display import HTML"
   ]
  },
  {
   "cell_type": "code",
   "execution_count": 21,
   "id": "lasting-extraction",
   "metadata": {
    "execution": {
     "iopub.execute_input": "2022-03-19T12:15:00.149645Z",
     "iopub.status.busy": "2022-03-19T12:15:00.149024Z",
     "iopub.status.idle": "2022-03-19T12:15:00.155982Z",
     "shell.execute_reply": "2022-03-19T12:15:00.156432Z"
    },
    "papermill": {
     "duration": 0.051676,
     "end_time": "2022-03-19T12:15:00.156566",
     "exception": false,
     "start_time": "2022-03-19T12:15:00.104890",
     "status": "completed"
    },
    "tags": []
   },
   "outputs": [],
   "source": [
    "#hide\n",
    "t = everydaycases.stack()"
   ]
  },
  {
   "cell_type": "code",
   "execution_count": 22,
   "id": "premier-sleeve",
   "metadata": {
    "execution": {
     "iopub.execute_input": "2022-03-19T12:15:00.238401Z",
     "iopub.status.busy": "2022-03-19T12:15:00.237682Z",
     "iopub.status.idle": "2022-03-19T12:15:00.248430Z",
     "shell.execute_reply": "2022-03-19T12:15:00.248960Z"
    },
    "papermill": {
     "duration": 0.054172,
     "end_time": "2022-03-19T12:15:00.249083",
     "exception": false,
     "start_time": "2022-03-19T12:15:00.194911",
     "status": "completed"
    },
    "tags": []
   },
   "outputs": [],
   "source": [
    "#hide\n",
    "g = t.reset_index(['Country/Region'])"
   ]
  },
  {
   "cell_type": "code",
   "execution_count": 23,
   "id": "distributed-pittsburgh",
   "metadata": {
    "execution": {
     "iopub.execute_input": "2022-03-19T12:15:00.332202Z",
     "iopub.status.busy": "2022-03-19T12:15:00.331554Z",
     "iopub.status.idle": "2022-03-19T12:15:00.333716Z",
     "shell.execute_reply": "2022-03-19T12:15:00.334151Z"
    },
    "papermill": {
     "duration": 0.045165,
     "end_time": "2022-03-19T12:15:00.334280",
     "exception": false,
     "start_time": "2022-03-19T12:15:00.289115",
     "status": "completed"
    },
    "tags": []
   },
   "outputs": [],
   "source": [
    "#hide\n",
    "g.index.name = 'date'"
   ]
  },
  {
   "cell_type": "code",
   "execution_count": 24,
   "id": "naked-donor",
   "metadata": {
    "execution": {
     "iopub.execute_input": "2022-03-19T12:15:00.414796Z",
     "iopub.status.busy": "2022-03-19T12:15:00.414183Z",
     "iopub.status.idle": "2022-03-19T12:15:00.417978Z",
     "shell.execute_reply": "2022-03-19T12:15:00.418493Z"
    },
    "papermill": {
     "duration": 0.045798,
     "end_time": "2022-03-19T12:15:00.418641",
     "exception": false,
     "start_time": "2022-03-19T12:15:00.372843",
     "status": "completed"
    },
    "tags": []
   },
   "outputs": [],
   "source": [
    "# #hide\n",
    "# g = g.reset_index(['date'])"
   ]
  },
  {
   "cell_type": "code",
   "execution_count": 25,
   "id": "incomplete-mustang",
   "metadata": {
    "execution": {
     "iopub.execute_input": "2022-03-19T12:15:00.499531Z",
     "iopub.status.busy": "2022-03-19T12:15:00.498807Z",
     "iopub.status.idle": "2022-03-19T12:15:00.501198Z",
     "shell.execute_reply": "2022-03-19T12:15:00.500592Z"
    },
    "papermill": {
     "duration": 0.043729,
     "end_time": "2022-03-19T12:15:00.501317",
     "exception": false,
     "start_time": "2022-03-19T12:15:00.457588",
     "status": "completed"
    },
    "tags": []
   },
   "outputs": [],
   "source": [
    "#hide\n",
    "# g.head()"
   ]
  },
  {
   "cell_type": "code",
   "execution_count": 26,
   "id": "specific-kruger",
   "metadata": {
    "execution": {
     "iopub.execute_input": "2022-03-19T12:15:00.581616Z",
     "iopub.status.busy": "2022-03-19T12:15:00.580979Z",
     "iopub.status.idle": "2022-03-19T12:15:00.583074Z",
     "shell.execute_reply": "2022-03-19T12:15:00.583667Z"
    },
    "papermill": {
     "duration": 0.043846,
     "end_time": "2022-03-19T12:15:00.583796",
     "exception": false,
     "start_time": "2022-03-19T12:15:00.539950",
     "status": "completed"
    },
    "tags": []
   },
   "outputs": [],
   "source": [
    "#hide\n",
    "# g.columns = ['date','country','cases']"
   ]
  },
  {
   "cell_type": "code",
   "execution_count": 27,
   "id": "tender-conversion",
   "metadata": {
    "execution": {
     "iopub.execute_input": "2022-03-19T12:15:00.662386Z",
     "iopub.status.busy": "2022-03-19T12:15:00.661590Z",
     "iopub.status.idle": "2022-03-19T12:15:00.664398Z",
     "shell.execute_reply": "2022-03-19T12:15:00.663681Z"
    },
    "papermill": {
     "duration": 0.042373,
     "end_time": "2022-03-19T12:15:00.664535",
     "exception": false,
     "start_time": "2022-03-19T12:15:00.622162",
     "status": "completed"
    },
    "tags": []
   },
   "outputs": [],
   "source": [
    "#hide\n",
    "# g['continent'] = g.country"
   ]
  },
  {
   "cell_type": "code",
   "execution_count": 28,
   "id": "substantial-wilderness",
   "metadata": {
    "execution": {
     "iopub.execute_input": "2022-03-19T12:15:00.743579Z",
     "iopub.status.busy": "2022-03-19T12:15:00.742965Z",
     "iopub.status.idle": "2022-03-19T12:15:00.745434Z",
     "shell.execute_reply": "2022-03-19T12:15:00.744924Z"
    },
    "papermill": {
     "duration": 0.043078,
     "end_time": "2022-03-19T12:15:00.745541",
     "exception": false,
     "start_time": "2022-03-19T12:15:00.702463",
     "status": "completed"
    },
    "tags": []
   },
   "outputs": [],
   "source": [
    "#hide\n",
    "# cols = list(g.columns.values)"
   ]
  },
  {
   "cell_type": "code",
   "execution_count": 29,
   "id": "solved-farming",
   "metadata": {
    "execution": {
     "iopub.execute_input": "2022-03-19T12:15:00.823931Z",
     "iopub.status.busy": "2022-03-19T12:15:00.823284Z",
     "iopub.status.idle": "2022-03-19T12:15:00.825753Z",
     "shell.execute_reply": "2022-03-19T12:15:00.825142Z"
    },
    "papermill": {
     "duration": 0.043725,
     "end_time": "2022-03-19T12:15:00.825886",
     "exception": false,
     "start_time": "2022-03-19T12:15:00.782161",
     "status": "completed"
    },
    "tags": []
   },
   "outputs": [],
   "source": [
    "#hide\n",
    "# cols.insert(0, cols.pop())"
   ]
  },
  {
   "cell_type": "code",
   "execution_count": 30,
   "id": "executed-adoption",
   "metadata": {
    "execution": {
     "iopub.execute_input": "2022-03-19T12:15:00.908619Z",
     "iopub.status.busy": "2022-03-19T12:15:00.908024Z",
     "iopub.status.idle": "2022-03-19T12:15:00.910443Z",
     "shell.execute_reply": "2022-03-19T12:15:00.910923Z"
    },
    "papermill": {
     "duration": 0.046334,
     "end_time": "2022-03-19T12:15:00.911055",
     "exception": false,
     "start_time": "2022-03-19T12:15:00.864721",
     "status": "completed"
    },
    "tags": []
   },
   "outputs": [],
   "source": [
    "#hide\n",
    "# g = g[cols]"
   ]
  },
  {
   "cell_type": "code",
   "execution_count": 31,
   "id": "subject-dublin",
   "metadata": {
    "execution": {
     "iopub.execute_input": "2022-03-19T12:15:00.990485Z",
     "iopub.status.busy": "2022-03-19T12:15:00.989796Z",
     "iopub.status.idle": "2022-03-19T12:15:00.991990Z",
     "shell.execute_reply": "2022-03-19T12:15:00.991345Z"
    },
    "papermill": {
     "duration": 0.043091,
     "end_time": "2022-03-19T12:15:00.992109",
     "exception": false,
     "start_time": "2022-03-19T12:15:00.949018",
     "status": "completed"
    },
    "tags": []
   },
   "outputs": [],
   "source": [
    "#hide\n",
    "# g['continent'] = g['continent'].map(mapping['map.continent'])"
   ]
  },
  {
   "cell_type": "code",
   "execution_count": 32,
   "id": "freelance-scout",
   "metadata": {
    "execution": {
     "iopub.execute_input": "2022-03-19T12:15:01.078867Z",
     "iopub.status.busy": "2022-03-19T12:15:01.078264Z",
     "iopub.status.idle": "2022-03-19T12:15:01.082733Z",
     "shell.execute_reply": "2022-03-19T12:15:01.082179Z"
    },
    "papermill": {
     "duration": 0.04911,
     "end_time": "2022-03-19T12:15:01.082944",
     "exception": false,
     "start_time": "2022-03-19T12:15:01.033834",
     "status": "completed"
    },
    "tags": []
   },
   "outputs": [],
   "source": [
    "#hide\n",
    "# g.head()"
   ]
  },
  {
   "cell_type": "code",
   "execution_count": 33,
   "id": "limited-engine",
   "metadata": {
    "execution": {
     "iopub.execute_input": "2022-03-19T12:15:01.161869Z",
     "iopub.status.busy": "2022-03-19T12:15:01.160965Z",
     "iopub.status.idle": "2022-03-19T12:15:01.163928Z",
     "shell.execute_reply": "2022-03-19T12:15:01.163288Z"
    },
    "papermill": {
     "duration": 0.044149,
     "end_time": "2022-03-19T12:15:01.164045",
     "exception": false,
     "start_time": "2022-03-19T12:15:01.119896",
     "status": "completed"
    },
    "tags": []
   },
   "outputs": [],
   "source": [
    "# hide\n",
    "# g['date'] = g['date'].astype('datetime64[ns]')"
   ]
  },
  {
   "cell_type": "code",
   "execution_count": 34,
   "id": "sophisticated-supervisor",
   "metadata": {
    "execution": {
     "iopub.execute_input": "2022-03-19T12:15:01.242422Z",
     "iopub.status.busy": "2022-03-19T12:15:01.241453Z",
     "iopub.status.idle": "2022-03-19T12:15:01.245460Z",
     "shell.execute_reply": "2022-03-19T12:15:01.245910Z"
    },
    "papermill": {
     "duration": 0.044779,
     "end_time": "2022-03-19T12:15:01.246037",
     "exception": false,
     "start_time": "2022-03-19T12:15:01.201258",
     "status": "completed"
    },
    "tags": []
   },
   "outputs": [],
   "source": [
    "#hide\n",
    "# g['date'] = g.date.dt.dayofyear"
   ]
  },
  {
   "cell_type": "code",
   "execution_count": 35,
   "id": "inside-dubai",
   "metadata": {
    "execution": {
     "iopub.execute_input": "2022-03-19T12:15:01.329628Z",
     "iopub.status.busy": "2022-03-19T12:15:01.328866Z",
     "iopub.status.idle": "2022-03-19T12:15:01.331366Z",
     "shell.execute_reply": "2022-03-19T12:15:01.331977Z"
    },
    "papermill": {
     "duration": 0.047372,
     "end_time": "2022-03-19T12:15:01.332128",
     "exception": false,
     "start_time": "2022-03-19T12:15:01.284756",
     "status": "completed"
    },
    "tags": []
   },
   "outputs": [],
   "source": [
    "#hide\n",
    "# g = g.rename(columns= {'continent':'group','country':'name','cases':'value'})"
   ]
  },
  {
   "cell_type": "code",
   "execution_count": 36,
   "id": "fleet-motorcycle",
   "metadata": {
    "execution": {
     "iopub.execute_input": "2022-03-19T12:15:01.416094Z",
     "iopub.status.busy": "2022-03-19T12:15:01.415372Z",
     "iopub.status.idle": "2022-03-19T12:15:01.418419Z",
     "shell.execute_reply": "2022-03-19T12:15:01.417818Z"
    },
    "papermill": {
     "duration": 0.045232,
     "end_time": "2022-03-19T12:15:01.418547",
     "exception": false,
     "start_time": "2022-03-19T12:15:01.373315",
     "status": "completed"
    },
    "tags": []
   },
   "outputs": [],
   "source": [
    "#hide\n",
    "# cols = ['name','group','day','value']"
   ]
  },
  {
   "cell_type": "code",
   "execution_count": 37,
   "id": "continued-sleeping",
   "metadata": {
    "execution": {
     "iopub.execute_input": "2022-03-19T12:15:01.503035Z",
     "iopub.status.busy": "2022-03-19T12:15:01.502280Z",
     "iopub.status.idle": "2022-03-19T12:15:01.506563Z",
     "shell.execute_reply": "2022-03-19T12:15:01.507056Z"
    },
    "papermill": {
     "duration": 0.048675,
     "end_time": "2022-03-19T12:15:01.507200",
     "exception": false,
     "start_time": "2022-03-19T12:15:01.458525",
     "status": "completed"
    },
    "tags": []
   },
   "outputs": [],
   "source": [
    "#hide\n",
    "# g.rename(columns= {'date':'day'},inplace = True)"
   ]
  },
  {
   "cell_type": "code",
   "execution_count": 38,
   "id": "major-fight",
   "metadata": {
    "execution": {
     "iopub.execute_input": "2022-03-19T12:15:01.590080Z",
     "iopub.status.busy": "2022-03-19T12:15:01.589452Z",
     "iopub.status.idle": "2022-03-19T12:15:01.591891Z",
     "shell.execute_reply": "2022-03-19T12:15:01.591242Z"
    },
    "papermill": {
     "duration": 0.046247,
     "end_time": "2022-03-19T12:15:01.592013",
     "exception": false,
     "start_time": "2022-03-19T12:15:01.545766",
     "status": "completed"
    },
    "tags": []
   },
   "outputs": [],
   "source": [
    "#hide\n",
    "# g = g[cols]"
   ]
  },
  {
   "cell_type": "code",
   "execution_count": 39,
   "id": "structured-mobile",
   "metadata": {
    "execution": {
     "iopub.execute_input": "2022-03-19T12:15:01.673995Z",
     "iopub.status.busy": "2022-03-19T12:15:01.673236Z",
     "iopub.status.idle": "2022-03-19T12:15:01.675817Z",
     "shell.execute_reply": "2022-03-19T12:15:01.675284Z"
    },
    "papermill": {
     "duration": 0.045215,
     "end_time": "2022-03-19T12:15:01.675934",
     "exception": false,
     "start_time": "2022-03-19T12:15:01.630719",
     "status": "completed"
    },
    "tags": []
   },
   "outputs": [],
   "source": [
    "# #hide\n",
    "# g = g[g.group.notna()]"
   ]
  },
  {
   "cell_type": "code",
   "execution_count": 40,
   "id": "determined-closing",
   "metadata": {
    "execution": {
     "iopub.execute_input": "2022-03-19T12:15:01.759776Z",
     "iopub.status.busy": "2022-03-19T12:15:01.759145Z",
     "iopub.status.idle": "2022-03-19T12:15:01.762351Z",
     "shell.execute_reply": "2022-03-19T12:15:01.761623Z"
    },
    "papermill": {
     "duration": 0.046311,
     "end_time": "2022-03-19T12:15:01.762469",
     "exception": false,
     "start_time": "2022-03-19T12:15:01.716158",
     "status": "completed"
    },
    "tags": []
   },
   "outputs": [],
   "source": [
    "# #hide\n",
    "# colors = dict(zip(\n",
    "#     [\"Oceania\", \"Europe\", \"Asia\", \"South America\", \"Middle East\", \"North America\", \"Africa\"],\n",
    "#     [\"#adb0ff\", \"#ffb3ff\", \"#90d595\", \"#e48381\", \"#aafbff\", \"#f7bb5f\", \"#eafb50\"]\n",
    "# ))\n",
    "# group_lk = g.set_index('name')['group'].to_dict()"
   ]
  },
  {
   "cell_type": "code",
   "execution_count": null,
   "id": "gross-drinking",
   "metadata": {
    "papermill": {
     "duration": 0.041241,
     "end_time": "2022-03-19T12:15:01.844801",
     "exception": false,
     "start_time": "2022-03-19T12:15:01.803560",
     "status": "completed"
    },
    "tags": []
   },
   "outputs": [],
   "source": []
  },
  {
   "cell_type": "code",
   "execution_count": 41,
   "id": "subject-macintosh",
   "metadata": {
    "execution": {
     "iopub.execute_input": "2022-03-19T12:15:01.934904Z",
     "iopub.status.busy": "2022-03-19T12:15:01.934249Z",
     "iopub.status.idle": "2022-03-19T12:15:01.937894Z",
     "shell.execute_reply": "2022-03-19T12:15:01.938378Z"
    },
    "papermill": {
     "duration": 0.051299,
     "end_time": "2022-03-19T12:15:01.938528",
     "exception": false,
     "start_time": "2022-03-19T12:15:01.887229",
     "status": "completed"
    },
    "tags": []
   },
   "outputs": [],
   "source": [
    "# #hide\n",
    "# fig, ax = plt.subplots(figsize=(15, 8))\n",
    "\n",
    "# def draw_barchart(current_day):\n",
    "#     dff = g[g['day'].eq(current_day)].sort_values(by='value', ascending=True).tail(10)\n",
    "#     ax.clear()\n",
    "#     ax.barh(dff['name'], dff['value'], color=[colors[group_lk[x]] for x in dff['name']])\n",
    "#     dx = dff['value'].max() / 200\n",
    "    \n",
    "#     for i, (value, name) in enumerate(zip(dff['value'], dff['name'])):\n",
    "#         ax.text(value-dx, i,     name,           size=14, weight=600, ha='right', va='bottom')\n",
    "#         ax.text(value-dx, i-.25, group_lk[name], size=10, color='#444444', ha='right', va='baseline')\n",
    "#         ax.text(value+dx, i,     f'{value:,.0f}',  size=14, ha='left',  va='center')\n",
    "#     ax.text(1, 0.4, current_day, transform=ax.transAxes, color='#777777', size=46, ha='right', weight=800)\n",
    "#     ax.text(0, 1.06, 'Population (thousands)', transform=ax.transAxes, size=12, color='#777777')\n",
    "#     ax.xaxis.set_major_formatter(ticker.StrMethodFormatter('{x:,.0f}'))\n",
    "#     ax.xaxis.set_ticks_position('top')\n",
    "#     ax.tick_params(axis='x', colors='#777777', labelsize=12)\n",
    "#     ax.set_yticks([])\n",
    "#     ax.margins(0, 0.01)\n",
    "#     ax.grid(which='major', axis='x', linestyle='-')\n",
    "#     ax.set_axisbelow(True)\n",
    "    \n",
    "#     ax.text(0, 1.15, 'Coronavirus',\n",
    "#             transform=ax.transAxes, size=24, weight=600, ha='left', va='top')\n",
    "# #     ax.text(1, 0, 'by @pratapvardhan; credit @jburnmurdoch', transform=ax.transAxes, color='#777777', ha='right',\n",
    "# #             bbox=dict(facecolor='white', alpha=0.8, edgecolor='white'))\n",
    "#     plt.box(False)"
   ]
  },
  {
   "cell_type": "code",
   "execution_count": 42,
   "id": "sexual-wages",
   "metadata": {
    "execution": {
     "iopub.execute_input": "2022-03-19T12:15:02.022688Z",
     "iopub.status.busy": "2022-03-19T12:15:02.021959Z",
     "iopub.status.idle": "2022-03-19T12:15:02.025688Z",
     "shell.execute_reply": "2022-03-19T12:15:02.026151Z"
    },
    "papermill": {
     "duration": 0.04709,
     "end_time": "2022-03-19T12:15:02.026290",
     "exception": false,
     "start_time": "2022-03-19T12:15:01.979200",
     "status": "completed"
    },
    "tags": []
   },
   "outputs": [],
   "source": [
    "# #hide_input\n",
    "# fig, ax = plt.subplots(figsize=(15, 8))\n",
    "# animator = animation.FuncAnimation(fig, draw_barchart, frames=range(g.day.values.min(), g.day.values.max()))\n",
    "# HTML(animator.to_jshtml())\n",
    "# # or use animator.to_html5_video() or animator.save() "
   ]
  },
  {
   "cell_type": "code",
   "execution_count": null,
   "id": "australian-container",
   "metadata": {
    "papermill": {
     "duration": 0.039553,
     "end_time": "2022-03-19T12:15:02.105203",
     "exception": false,
     "start_time": "2022-03-19T12:15:02.065650",
     "status": "completed"
    },
    "tags": []
   },
   "outputs": [],
   "source": []
  },
  {
   "cell_type": "code",
   "execution_count": null,
   "id": "mediterranean-pontiac",
   "metadata": {
    "papermill": {
     "duration": 0.037197,
     "end_time": "2022-03-19T12:15:02.181103",
     "exception": false,
     "start_time": "2022-03-19T12:15:02.143906",
     "status": "completed"
    },
    "tags": []
   },
   "outputs": [],
   "source": []
  },
  {
   "cell_type": "code",
   "execution_count": null,
   "id": "aging-legislature",
   "metadata": {
    "papermill": {
     "duration": 0.037282,
     "end_time": "2022-03-19T12:15:02.256420",
     "exception": false,
     "start_time": "2022-03-19T12:15:02.219138",
     "status": "completed"
    },
    "tags": []
   },
   "outputs": [],
   "source": []
  }
 ],
 "metadata": {
  "kernelspec": {
   "display_name": "Python 3",
   "language": "python",
   "name": "python3"
  },
  "language_info": {
   "codemirror_mode": {
    "name": "ipython",
    "version": 3
   },
   "file_extension": ".py",
   "mimetype": "text/x-python",
   "name": "python",
   "nbconvert_exporter": "python",
   "pygments_lexer": "ipython3",
   "version": "3.6.15"
  },
  "papermill": {
   "duration": 7.396814,
   "end_time": "2022-03-19T12:15:02.613461",
   "environment_variables": {},
   "exception": null,
   "input_path": "2020-03-21-covid19exp.ipynb",
   "output_path": "2020-03-21-covid19exp.ipynb",
   "parameters": {},
   "start_time": "2022-03-19T12:14:55.216647",
   "version": "2.0.0"
  }
 },
 "nbformat": 4,
 "nbformat_minor": 5
}