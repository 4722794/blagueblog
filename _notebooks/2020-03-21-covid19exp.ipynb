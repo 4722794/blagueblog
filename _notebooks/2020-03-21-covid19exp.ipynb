{
 "cells": [
  {
   "cell_type": "markdown",
   "id": "muslim-click",
   "metadata": {
    "papermill": {
     "duration": 0.03497,
     "end_time": "2022-08-31T12:19:40.745369",
     "exception": false,
     "start_time": "2022-08-31T12:19:40.710399",
     "status": "completed"
    },
    "tags": []
   },
   "source": [
    "# COVID-19 Case Race\n",
    "> A race chart to see rising cases around the world\n",
    "\n",
    "- author: Hargun Oberoi\n",
    "- image: images/covid-overview.png\n",
    "- hide: false\n",
    "- badges: false"
   ]
  },
  {
   "cell_type": "code",
   "execution_count": 1,
   "id": "proof-material",
   "metadata": {
    "execution": {
     "iopub.execute_input": "2022-08-31T12:19:40.814841Z",
     "iopub.status.busy": "2022-08-31T12:19:40.814151Z",
     "iopub.status.idle": "2022-08-31T12:19:41.137249Z",
     "shell.execute_reply": "2022-08-31T12:19:41.136650Z"
    },
    "papermill": {
     "duration": 0.362398,
     "end_time": "2022-08-31T12:19:41.137404",
     "exception": false,
     "start_time": "2022-08-31T12:19:40.775006",
     "status": "completed"
    },
    "tags": []
   },
   "outputs": [],
   "source": [
    "#hide\n",
    "import numpy as np\n",
    "import pandas as pd\n",
    "from jinja2 import Template\n",
    "from IPython.display import HTML"
   ]
  },
  {
   "cell_type": "code",
   "execution_count": 2,
   "id": "developed-terminology",
   "metadata": {
    "execution": {
     "iopub.execute_input": "2022-08-31T12:19:41.201196Z",
     "iopub.status.busy": "2022-08-31T12:19:41.200584Z",
     "iopub.status.idle": "2022-08-31T12:19:41.202962Z",
     "shell.execute_reply": "2022-08-31T12:19:41.202505Z"
    },
    "papermill": {
     "duration": 0.03606,
     "end_time": "2022-08-31T12:19:41.203077",
     "exception": false,
     "start_time": "2022-08-31T12:19:41.167017",
     "status": "completed"
    },
    "tags": []
   },
   "outputs": [],
   "source": [
    "#hide\n",
    "\n",
    "# FETCH\n",
    "base_url = 'https://raw.githubusercontent.com/pratapvardhan/notebooks/master/covid19/'\n",
    "paths = {\n",
    "    'mapping': base_url + 'mapping_countries.csv',\n",
    "    'overview': base_url + 'overview.tpl'\n",
    "}"
   ]
  },
  {
   "cell_type": "code",
   "execution_count": 3,
   "id": "dynamic-saver",
   "metadata": {
    "execution": {
     "iopub.execute_input": "2022-08-31T12:19:41.270720Z",
     "iopub.status.busy": "2022-08-31T12:19:41.268248Z",
     "iopub.status.idle": "2022-08-31T12:19:41.274112Z",
     "shell.execute_reply": "2022-08-31T12:19:41.273649Z"
    },
    "papermill": {
     "duration": 0.042208,
     "end_time": "2022-08-31T12:19:41.274217",
     "exception": false,
     "start_time": "2022-08-31T12:19:41.232009",
     "status": "completed"
    },
    "tags": []
   },
   "outputs": [
    {
     "data": {
      "text/plain": [
       "'https://raw.githubusercontent.com/pratapvardhan/notebooks/master/covid19/mapping_countries.csv'"
      ]
     },
     "execution_count": 3,
     "metadata": {},
     "output_type": "execute_result"
    }
   ],
   "source": [
    "#hide\n",
    "paths['mapping']"
   ]
  },
  {
   "cell_type": "code",
   "execution_count": 4,
   "id": "urban-software",
   "metadata": {
    "execution": {
     "iopub.execute_input": "2022-08-31T12:19:41.337920Z",
     "iopub.status.busy": "2022-08-31T12:19:41.337350Z",
     "iopub.status.idle": "2022-08-31T12:19:41.340366Z",
     "shell.execute_reply": "2022-08-31T12:19:41.339874Z"
    },
    "papermill": {
     "duration": 0.036858,
     "end_time": "2022-08-31T12:19:41.340471",
     "exception": false,
     "start_time": "2022-08-31T12:19:41.303613",
     "status": "completed"
    },
    "tags": []
   },
   "outputs": [],
   "source": [
    "#hide\n",
    "def get_mappings(url):\n",
    "    df = pd.read_csv(url)\n",
    "    return {\n",
    "        'df': df,\n",
    "        'replace.country': dict(df.dropna(subset=['Name']).set_index('Country')['Name']),\n",
    "        'map.continent': dict(df.set_index('Name')['Continent'])\n",
    "    }"
   ]
  },
  {
   "cell_type": "code",
   "execution_count": 5,
   "id": "intimate-machinery",
   "metadata": {
    "execution": {
     "iopub.execute_input": "2022-08-31T12:19:41.404128Z",
     "iopub.status.busy": "2022-08-31T12:19:41.403550Z",
     "iopub.status.idle": "2022-08-31T12:19:41.459789Z",
     "shell.execute_reply": "2022-08-31T12:19:41.459140Z"
    },
    "papermill": {
     "duration": 0.090245,
     "end_time": "2022-08-31T12:19:41.459911",
     "exception": false,
     "start_time": "2022-08-31T12:19:41.369666",
     "status": "completed"
    },
    "tags": []
   },
   "outputs": [],
   "source": [
    "#hide\n",
    "mapping = get_mappings(paths['mapping'])"
   ]
  },
  {
   "cell_type": "code",
   "execution_count": 6,
   "id": "certified-tactics",
   "metadata": {
    "execution": {
     "iopub.execute_input": "2022-08-31T12:19:41.524521Z",
     "iopub.status.busy": "2022-08-31T12:19:41.523915Z",
     "iopub.status.idle": "2022-08-31T12:19:41.526269Z",
     "shell.execute_reply": "2022-08-31T12:19:41.526821Z"
    },
    "papermill": {
     "duration": 0.037085,
     "end_time": "2022-08-31T12:19:41.526939",
     "exception": false,
     "start_time": "2022-08-31T12:19:41.489854",
     "status": "completed"
    },
    "tags": []
   },
   "outputs": [],
   "source": [
    "#hide\n",
    "def get_template(path):\n",
    "    from urllib.parse import urlparse\n",
    "    if bool(urlparse(path).netloc):\n",
    "        from urllib.request import urlopen\n",
    "        return urlopen(path).read().decode('utf8')\n",
    "    return open(path).read()"
   ]
  },
  {
   "cell_type": "code",
   "execution_count": 7,
   "id": "realistic-blast",
   "metadata": {
    "execution": {
     "iopub.execute_input": "2022-08-31T12:19:41.589892Z",
     "iopub.status.busy": "2022-08-31T12:19:41.589325Z",
     "iopub.status.idle": "2022-08-31T12:19:41.591669Z",
     "shell.execute_reply": "2022-08-31T12:19:41.592212Z"
    },
    "papermill": {
     "duration": 0.036213,
     "end_time": "2022-08-31T12:19:41.592354",
     "exception": false,
     "start_time": "2022-08-31T12:19:41.556141",
     "status": "completed"
    },
    "tags": []
   },
   "outputs": [],
   "source": [
    "#hide\n",
    "def get_frame(name):\n",
    "    url = (\n",
    "        'https://raw.githubusercontent.com/CSSEGISandData/COVID-19/master/csse_covid_19_data/'\n",
    "        f'csse_covid_19_time_series/time_series_covid19_{name}_global.csv')\n",
    "    df = pd.read_csv(url)\n",
    "    # rename countries\n",
    "    df['Country/Region'] = df['Country/Region'].replace(mapping['replace.country'])\n",
    "    return df"
   ]
  },
  {
   "cell_type": "code",
   "execution_count": 8,
   "id": "affiliated-characterization",
   "metadata": {
    "execution": {
     "iopub.execute_input": "2022-08-31T12:19:41.656767Z",
     "iopub.status.busy": "2022-08-31T12:19:41.656153Z",
     "iopub.status.idle": "2022-08-31T12:19:41.658726Z",
     "shell.execute_reply": "2022-08-31T12:19:41.658256Z"
    },
    "papermill": {
     "duration": 0.037165,
     "end_time": "2022-08-31T12:19:41.658829",
     "exception": false,
     "start_time": "2022-08-31T12:19:41.621664",
     "status": "completed"
    },
    "tags": []
   },
   "outputs": [],
   "source": [
    "#hide\n",
    "def get_dates(df):\n",
    "    dt_cols = df.columns[~df.columns.isin(['Province/State', 'Country/Region', 'Lat', 'Long'])]\n",
    "    LAST_DATE_I = -1\n",
    "    # sometimes last column may be empty, then go backwards\n",
    "    for i in range(-1, -len(dt_cols), -1):\n",
    "        if not df[dt_cols[i]].fillna(0).eq(0).all():\n",
    "            LAST_DATE_I = i\n",
    "            break\n",
    "    return LAST_DATE_I, dt_cols"
   ]
  },
  {
   "cell_type": "code",
   "execution_count": 9,
   "id": "recent-optimization",
   "metadata": {
    "execution": {
     "iopub.execute_input": "2022-08-31T12:19:41.722299Z",
     "iopub.status.busy": "2022-08-31T12:19:41.721720Z",
     "iopub.status.idle": "2022-08-31T12:19:42.240179Z",
     "shell.execute_reply": "2022-08-31T12:19:42.238938Z"
    },
    "papermill": {
     "duration": 0.55244,
     "end_time": "2022-08-31T12:19:42.240335",
     "exception": false,
     "start_time": "2022-08-31T12:19:41.687895",
     "status": "completed"
    },
    "tags": []
   },
   "outputs": [],
   "source": [
    "#hide\n",
    "COL_REGION = 'Country/Region'\n",
    "# Confirmed, Recovered, Deaths\n",
    "df = get_frame('confirmed')\n",
    "# dft_: timeseries, dfc_: today country agg\n",
    "dft_cases = df\n",
    "dft_deaths = get_frame('deaths')\n",
    "dft_recovered = get_frame('recovered')\n",
    "LAST_DATE_I, dt_cols = get_dates(df)"
   ]
  },
  {
   "cell_type": "code",
   "execution_count": 10,
   "id": "absolute-copper",
   "metadata": {
    "execution": {
     "iopub.execute_input": "2022-08-31T12:19:42.304981Z",
     "iopub.status.busy": "2022-08-31T12:19:42.304381Z",
     "iopub.status.idle": "2022-08-31T12:19:42.306560Z",
     "shell.execute_reply": "2022-08-31T12:19:42.306988Z"
    },
    "papermill": {
     "duration": 0.037119,
     "end_time": "2022-08-31T12:19:42.307128",
     "exception": false,
     "start_time": "2022-08-31T12:19:42.270009",
     "status": "completed"
    },
    "tags": []
   },
   "outputs": [],
   "source": [
    "#hide\n",
    "LAST_DATE_I, dt_cols = get_dates(df)\n",
    "dt_today =dt_cols[LAST_DATE_I]\n",
    "# dt_5day = dt_cols[LAST_DATE_I - 5]\n",
    "dt_yday = dt_cols[LAST_DATE_I - 1]"
   ]
  },
  {
   "cell_type": "code",
   "execution_count": 11,
   "id": "restricted-sheriff",
   "metadata": {
    "execution": {
     "iopub.execute_input": "2022-08-31T12:19:42.373474Z",
     "iopub.status.busy": "2022-08-31T12:19:42.372897Z",
     "iopub.status.idle": "2022-08-31T12:19:42.380761Z",
     "shell.execute_reply": "2022-08-31T12:19:42.381235Z"
    },
    "papermill": {
     "duration": 0.044913,
     "end_time": "2022-08-31T12:19:42.381364",
     "exception": false,
     "start_time": "2022-08-31T12:19:42.336451",
     "status": "completed"
    },
    "tags": []
   },
   "outputs": [],
   "source": [
    "#hide\n",
    "dfc_cases = dft_cases.groupby(COL_REGION)[dt_today].sum()\n",
    "dfc_deaths = dft_deaths.groupby(COL_REGION)[dt_today].sum()\n",
    "# dfp_cases = dft_cases.groupby(COL_REGION)[dt_5day].sum()\n",
    "# dfp_deaths = dft_deaths.groupby(COL_REGION)[dt_5day].sum()\n",
    "dfp_cases = dft_cases.groupby(COL_REGION)[dt_yday].sum()\n",
    "dfp_deaths = dft_deaths.groupby(COL_REGION)[dt_yday].sum()"
   ]
  },
  {
   "cell_type": "code",
   "execution_count": 12,
   "id": "deluxe-hepatitis",
   "metadata": {
    "execution": {
     "iopub.execute_input": "2022-08-31T12:19:42.446768Z",
     "iopub.status.busy": "2022-08-31T12:19:42.446190Z",
     "iopub.status.idle": "2022-08-31T12:19:42.450770Z",
     "shell.execute_reply": "2022-08-31T12:19:42.451307Z"
    },
    "papermill": {
     "duration": 0.040546,
     "end_time": "2022-08-31T12:19:42.451439",
     "exception": false,
     "start_time": "2022-08-31T12:19:42.410893",
     "status": "completed"
    },
    "tags": []
   },
   "outputs": [],
   "source": [
    "#hide\n",
    "df_table = (pd.DataFrame(dict(Cases = dfc_cases, Deaths = dfc_deaths, PCases = dfp_cases, PDeaths = dfp_deaths))\n",
    "            .sort_values(by = ['Cases','Deaths'], ascending = [False, False])\n",
    "            .reset_index())"
   ]
  },
  {
   "cell_type": "code",
   "execution_count": 13,
   "id": "educational-chancellor",
   "metadata": {
    "execution": {
     "iopub.execute_input": "2022-08-31T12:19:42.527140Z",
     "iopub.status.busy": "2022-08-31T12:19:42.526555Z",
     "iopub.status.idle": "2022-08-31T12:19:42.535299Z",
     "shell.execute_reply": "2022-08-31T12:19:42.534830Z"
    },
    "papermill": {
     "duration": 0.054817,
     "end_time": "2022-08-31T12:19:42.535406",
     "exception": false,
     "start_time": "2022-08-31T12:19:42.480589",
     "status": "completed"
    },
    "tags": []
   },
   "outputs": [
    {
     "data": {
      "text/html": [
       "<div>\n",
       "<style scoped>\n",
       "    .dataframe tbody tr th:only-of-type {\n",
       "        vertical-align: middle;\n",
       "    }\n",
       "\n",
       "    .dataframe tbody tr th {\n",
       "        vertical-align: top;\n",
       "    }\n",
       "\n",
       "    .dataframe thead th {\n",
       "        text-align: right;\n",
       "    }\n",
       "</style>\n",
       "<table border=\"1\" class=\"dataframe\">\n",
       "  <thead>\n",
       "    <tr style=\"text-align: right;\">\n",
       "      <th></th>\n",
       "      <th>Country/Region</th>\n",
       "      <th>Cases</th>\n",
       "      <th>Deaths</th>\n",
       "      <th>PCases</th>\n",
       "      <th>PDeaths</th>\n",
       "      <th>Cases (+)</th>\n",
       "      <th>Deaths (+)</th>\n",
       "      <th>Fatality Rate</th>\n",
       "      <th>Continent</th>\n",
       "    </tr>\n",
       "  </thead>\n",
       "  <tbody>\n",
       "    <tr>\n",
       "      <th>0</th>\n",
       "      <td>US</td>\n",
       "      <td>94379514</td>\n",
       "      <td>1044730</td>\n",
       "      <td>94285683</td>\n",
       "      <td>1044373</td>\n",
       "      <td>93831</td>\n",
       "      <td>357</td>\n",
       "      <td>1.11</td>\n",
       "      <td>North America</td>\n",
       "    </tr>\n",
       "    <tr>\n",
       "      <th>1</th>\n",
       "      <td>India</td>\n",
       "      <td>44415723</td>\n",
       "      <td>527799</td>\n",
       "      <td>44415723</td>\n",
       "      <td>527799</td>\n",
       "      <td>0</td>\n",
       "      <td>0</td>\n",
       "      <td>1.19</td>\n",
       "      <td>Asia</td>\n",
       "    </tr>\n",
       "    <tr>\n",
       "      <th>2</th>\n",
       "      <td>France</td>\n",
       "      <td>34726269</td>\n",
       "      <td>155079</td>\n",
       "      <td>34698583</td>\n",
       "      <td>155007</td>\n",
       "      <td>27686</td>\n",
       "      <td>72</td>\n",
       "      <td>0.45</td>\n",
       "      <td>Europe</td>\n",
       "    </tr>\n",
       "    <tr>\n",
       "      <th>3</th>\n",
       "      <td>Brazil</td>\n",
       "      <td>34414011</td>\n",
       "      <td>683851</td>\n",
       "      <td>34397205</td>\n",
       "      <td>683622</td>\n",
       "      <td>16806</td>\n",
       "      <td>229</td>\n",
       "      <td>1.99</td>\n",
       "      <td>South America</td>\n",
       "    </tr>\n",
       "    <tr>\n",
       "      <th>4</th>\n",
       "      <td>Germany</td>\n",
       "      <td>32095854</td>\n",
       "      <td>147223</td>\n",
       "      <td>32095854</td>\n",
       "      <td>147223</td>\n",
       "      <td>0</td>\n",
       "      <td>0</td>\n",
       "      <td>0.46</td>\n",
       "      <td>Europe</td>\n",
       "    </tr>\n",
       "  </tbody>\n",
       "</table>\n",
       "</div>"
      ],
      "text/plain": [
       "  Country/Region     Cases   Deaths    PCases  PDeaths  Cases (+)  Deaths (+)  \\\n",
       "0             US  94379514  1044730  94285683  1044373      93831         357   \n",
       "1          India  44415723   527799  44415723   527799          0           0   \n",
       "2         France  34726269   155079  34698583   155007      27686          72   \n",
       "3         Brazil  34414011   683851  34397205   683622      16806         229   \n",
       "4        Germany  32095854   147223  32095854   147223          0           0   \n",
       "\n",
       "   Fatality Rate      Continent  \n",
       "0           1.11  North America  \n",
       "1           1.19           Asia  \n",
       "2           0.45         Europe  \n",
       "3           1.99  South America  \n",
       "4           0.46         Europe  "
      ]
     },
     "execution_count": 13,
     "metadata": {},
     "output_type": "execute_result"
    }
   ],
   "source": [
    "#hide\n",
    "for c in 'Cases, Deaths'.split(', '):\n",
    "    df_table[f'{c} (+)'] = (df_table[c] - df_table[f'P{c}']).clip(0)\n",
    "    #Clip ça veut dire, les chiffres negatif sont interdit\n",
    "df_table['Fatality Rate'] = (100* df_table['Deaths']/ df_table['Cases']).round(2)\n",
    "df_table['Continent'] = df_table['Country/Region'].map(mapping['map.continent'])\n",
    "df_table.head(5)"
   ]
  },
  {
   "cell_type": "code",
   "execution_count": 14,
   "id": "aboriginal-bulgaria",
   "metadata": {
    "execution": {
     "iopub.execute_input": "2022-08-31T12:19:42.600708Z",
     "iopub.status.busy": "2022-08-31T12:19:42.600097Z",
     "iopub.status.idle": "2022-08-31T12:19:42.602492Z",
     "shell.execute_reply": "2022-08-31T12:19:42.602963Z"
    },
    "papermill": {
     "duration": 0.03788,
     "end_time": "2022-08-31T12:19:42.603087",
     "exception": false,
     "start_time": "2022-08-31T12:19:42.565207",
     "status": "completed"
    },
    "tags": []
   },
   "outputs": [],
   "source": [
    "#hide\n",
    "#delete problematic countries from table\n",
    "df_table = df_table[~df_table['Country/Region'].isin(['Cape Verde', 'Cruise Ship', 'Kosovo'])]"
   ]
  },
  {
   "cell_type": "code",
   "execution_count": 15,
   "id": "fantastic-effect",
   "metadata": {
    "execution": {
     "iopub.execute_input": "2022-08-31T12:19:42.670487Z",
     "iopub.status.busy": "2022-08-31T12:19:42.669908Z",
     "iopub.status.idle": "2022-08-31T12:19:42.688673Z",
     "shell.execute_reply": "2022-08-31T12:19:42.688100Z"
    },
    "papermill": {
     "duration": 0.056104,
     "end_time": "2022-08-31T12:19:42.688804",
     "exception": false,
     "start_time": "2022-08-31T12:19:42.632700",
     "status": "completed"
    },
    "tags": []
   },
   "outputs": [
    {
     "data": {
      "text/html": [
       "<div>\n",
       "<style scoped>\n",
       "    .dataframe tbody tr th:only-of-type {\n",
       "        vertical-align: middle;\n",
       "    }\n",
       "\n",
       "    .dataframe tbody tr th {\n",
       "        vertical-align: top;\n",
       "    }\n",
       "\n",
       "    .dataframe thead th {\n",
       "        text-align: right;\n",
       "    }\n",
       "</style>\n",
       "<table border=\"1\" class=\"dataframe\">\n",
       "  <thead>\n",
       "    <tr style=\"text-align: right;\">\n",
       "      <th></th>\n",
       "      <th>Country/Region</th>\n",
       "      <th>Cases</th>\n",
       "      <th>Deaths</th>\n",
       "      <th>PCases</th>\n",
       "      <th>PDeaths</th>\n",
       "      <th>Cases (+)</th>\n",
       "      <th>Deaths (+)</th>\n",
       "      <th>Fatality Rate</th>\n",
       "      <th>Continent</th>\n",
       "    </tr>\n",
       "  </thead>\n",
       "  <tbody>\n",
       "    <tr>\n",
       "      <th>0</th>\n",
       "      <td>US</td>\n",
       "      <td>94379514</td>\n",
       "      <td>1044730</td>\n",
       "      <td>94285683</td>\n",
       "      <td>1044373</td>\n",
       "      <td>93831</td>\n",
       "      <td>357</td>\n",
       "      <td>1.1</td>\n",
       "      <td>North America</td>\n",
       "    </tr>\n",
       "    <tr>\n",
       "      <th>1</th>\n",
       "      <td>India</td>\n",
       "      <td>44415723</td>\n",
       "      <td>527799</td>\n",
       "      <td>44415723</td>\n",
       "      <td>527799</td>\n",
       "      <td>0</td>\n",
       "      <td>0</td>\n",
       "      <td>1.2</td>\n",
       "      <td>Asia</td>\n",
       "    </tr>\n",
       "    <tr>\n",
       "      <th>2</th>\n",
       "      <td>France</td>\n",
       "      <td>34726269</td>\n",
       "      <td>155079</td>\n",
       "      <td>34698583</td>\n",
       "      <td>155007</td>\n",
       "      <td>27686</td>\n",
       "      <td>72</td>\n",
       "      <td>0.4</td>\n",
       "      <td>Europe</td>\n",
       "    </tr>\n",
       "    <tr>\n",
       "      <th>3</th>\n",
       "      <td>Brazil</td>\n",
       "      <td>34414011</td>\n",
       "      <td>683851</td>\n",
       "      <td>34397205</td>\n",
       "      <td>683622</td>\n",
       "      <td>16806</td>\n",
       "      <td>229</td>\n",
       "      <td>2.0</td>\n",
       "      <td>South America</td>\n",
       "    </tr>\n",
       "    <tr>\n",
       "      <th>4</th>\n",
       "      <td>Germany</td>\n",
       "      <td>32095854</td>\n",
       "      <td>147223</td>\n",
       "      <td>32095854</td>\n",
       "      <td>147223</td>\n",
       "      <td>0</td>\n",
       "      <td>0</td>\n",
       "      <td>0.5</td>\n",
       "      <td>Europe</td>\n",
       "    </tr>\n",
       "  </tbody>\n",
       "</table>\n",
       "</div>"
      ],
      "text/plain": [
       "  Country/Region     Cases   Deaths    PCases  PDeaths  Cases (+)  Deaths (+)  \\\n",
       "0             US  94379514  1044730  94285683  1044373      93831         357   \n",
       "1          India  44415723   527799  44415723   527799          0           0   \n",
       "2         France  34726269   155079  34698583   155007      27686          72   \n",
       "3         Brazil  34414011   683851  34397205   683622      16806         229   \n",
       "4        Germany  32095854   147223  32095854   147223          0           0   \n",
       "\n",
       "   Fatality Rate      Continent  \n",
       "0            1.1  North America  \n",
       "1            1.2           Asia  \n",
       "2            0.4         Europe  \n",
       "3            2.0  South America  \n",
       "4            0.5         Europe  "
      ]
     },
     "execution_count": 15,
     "metadata": {},
     "output_type": "execute_result"
    }
   ],
   "source": [
    "#hide\n",
    "df_table = (pd.DataFrame(dict(Cases=dfc_cases, Deaths=dfc_deaths, PCases=dfp_cases, PDeaths=dfp_deaths))\n",
    "             .sort_values(by=['Cases', 'Deaths'], ascending=[False, False])\n",
    "             .reset_index())\n",
    "df_table.rename(columns={'index': 'Country/Region'}, inplace=True)\n",
    "for c in 'Cases, Deaths'.split(', '):\n",
    "    df_table[f'{c} (+)'] = (df_table[c] - df_table[f'P{c}']).clip(0)  # DATA BUG\n",
    "df_table['Fatality Rate'] = (100 * df_table['Deaths'] / df_table['Cases']).round(1)\n",
    "df_table['Continent'] = df_table['Country/Region'].map(mapping['map.continent'])\n",
    "df_table.head(5)"
   ]
  },
  {
   "cell_type": "code",
   "execution_count": 16,
   "id": "fewer-occasion",
   "metadata": {
    "execution": {
     "iopub.execute_input": "2022-08-31T12:19:42.755926Z",
     "iopub.status.busy": "2022-08-31T12:19:42.755346Z",
     "iopub.status.idle": "2022-08-31T12:19:42.757693Z",
     "shell.execute_reply": "2022-08-31T12:19:42.758164Z"
    },
    "papermill": {
     "duration": 0.038522,
     "end_time": "2022-08-31T12:19:42.758291",
     "exception": false,
     "start_time": "2022-08-31T12:19:42.719769",
     "status": "completed"
    },
    "tags": []
   },
   "outputs": [],
   "source": [
    "#hide\n",
    "#delete problematic countries from table\n",
    "df_table = df_table[~df_table['Country/Region'].isin(['Cape Verde', 'Cruise Ship', 'Kosovo'])]"
   ]
  },
  {
   "cell_type": "code",
   "execution_count": 17,
   "id": "related-center",
   "metadata": {
    "execution": {
     "iopub.execute_input": "2022-08-31T12:19:42.836890Z",
     "iopub.status.busy": "2022-08-31T12:19:42.836280Z",
     "iopub.status.idle": "2022-08-31T12:19:42.838828Z",
     "shell.execute_reply": "2022-08-31T12:19:42.838261Z"
    },
    "papermill": {
     "duration": 0.050412,
     "end_time": "2022-08-31T12:19:42.838938",
     "exception": false,
     "start_time": "2022-08-31T12:19:42.788526",
     "status": "completed"
    },
    "tags": []
   },
   "outputs": [],
   "source": [
    "#hide\n",
    "metrics = [df_table.columns[index] for index in [1,2,5,6]]\n",
    "# s_china = df_table[df_table['Country/Region'].eq('China')][metrics].sum().add_prefix('China ')\n",
    "s_us = df_table[df_table['Country/Region'].eq('US')][metrics].sum().add_prefix('US ')\n",
    "s_eu = df_table[df_table['Continent'].eq('Europe')][metrics].sum().add_prefix('EU ')\n",
    "s_ind = df_table[df_table['Country/Region'].eq('India')][metrics].sum().add_prefix('India ')\n",
    "summary = {'updated': pd.to_datetime(dt_today), 'since': pd.to_datetime(dt_yday)}\n",
    "summary = {'updated': pd.to_datetime(dt_today), 'since': pd.to_datetime(dt_yday)}\n",
    "summary = {**summary, **df_table[metrics].sum(), **s_ind, **s_us, **s_eu}"
   ]
  },
  {
   "cell_type": "code",
   "execution_count": 18,
   "id": "engaging-syndrome",
   "metadata": {
    "execution": {
     "iopub.execute_input": "2022-08-31T12:19:42.905400Z",
     "iopub.status.busy": "2022-08-31T12:19:42.904830Z",
     "iopub.status.idle": "2022-08-31T12:19:42.926662Z",
     "shell.execute_reply": "2022-08-31T12:19:42.926179Z"
    },
    "papermill": {
     "duration": 0.057317,
     "end_time": "2022-08-31T12:19:42.926784",
     "exception": false,
     "start_time": "2022-08-31T12:19:42.869467",
     "status": "completed"
    },
    "tags": []
   },
   "outputs": [],
   "source": [
    "#hide\n",
    "dft_ct_new_cases = dft_cases.groupby(COL_REGION)[dt_cols].sum().diff(axis=1).fillna(0).astype(int)"
   ]
  },
  {
   "cell_type": "code",
   "execution_count": 19,
   "id": "neutral-assignment",
   "metadata": {
    "execution": {
     "iopub.execute_input": "2022-08-31T12:19:42.995035Z",
     "iopub.status.busy": "2022-08-31T12:19:42.994343Z",
     "iopub.status.idle": "2022-08-31T12:19:42.996880Z",
     "shell.execute_reply": "2022-08-31T12:19:42.996199Z"
    },
    "papermill": {
     "duration": 0.039802,
     "end_time": "2022-08-31T12:19:42.997007",
     "exception": false,
     "start_time": "2022-08-31T12:19:42.957205",
     "status": "completed"
    },
    "tags": []
   },
   "outputs": [],
   "source": [
    "#hide\n",
    "everydaycases = dft_ct_new_cases.cumsum(axis=1)"
   ]
  },
  {
   "cell_type": "code",
   "execution_count": 20,
   "id": "parliamentary-calgary",
   "metadata": {
    "execution": {
     "iopub.execute_input": "2022-08-31T12:19:43.063694Z",
     "iopub.status.busy": "2022-08-31T12:19:43.063107Z",
     "iopub.status.idle": "2022-08-31T12:19:43.609184Z",
     "shell.execute_reply": "2022-08-31T12:19:43.608673Z"
    },
    "papermill": {
     "duration": 0.581772,
     "end_time": "2022-08-31T12:19:43.609312",
     "exception": false,
     "start_time": "2022-08-31T12:19:43.027540",
     "status": "completed"
    },
    "tags": []
   },
   "outputs": [],
   "source": [
    "#hide\n",
    "import pandas as pd\n",
    "import matplotlib.pyplot as plt\n",
    "import matplotlib.ticker as ticker\n",
    "import matplotlib.animation as animation\n",
    "from IPython.display import HTML"
   ]
  },
  {
   "cell_type": "code",
   "execution_count": 21,
   "id": "lasting-extraction",
   "metadata": {
    "execution": {
     "iopub.execute_input": "2022-08-31T12:19:43.678083Z",
     "iopub.status.busy": "2022-08-31T12:19:43.677444Z",
     "iopub.status.idle": "2022-08-31T12:19:43.684352Z",
     "shell.execute_reply": "2022-08-31T12:19:43.684933Z"
    },
    "papermill": {
     "duration": 0.045084,
     "end_time": "2022-08-31T12:19:43.685074",
     "exception": false,
     "start_time": "2022-08-31T12:19:43.639990",
     "status": "completed"
    },
    "tags": []
   },
   "outputs": [],
   "source": [
    "#hide\n",
    "t = everydaycases.stack()"
   ]
  },
  {
   "cell_type": "code",
   "execution_count": 22,
   "id": "premier-sleeve",
   "metadata": {
    "execution": {
     "iopub.execute_input": "2022-08-31T12:19:43.750569Z",
     "iopub.status.busy": "2022-08-31T12:19:43.749990Z",
     "iopub.status.idle": "2022-08-31T12:19:43.762144Z",
     "shell.execute_reply": "2022-08-31T12:19:43.761664Z"
    },
    "papermill": {
     "duration": 0.046708,
     "end_time": "2022-08-31T12:19:43.762258",
     "exception": false,
     "start_time": "2022-08-31T12:19:43.715550",
     "status": "completed"
    },
    "tags": []
   },
   "outputs": [],
   "source": [
    "#hide\n",
    "g = t.reset_index(['Country/Region'])"
   ]
  },
  {
   "cell_type": "code",
   "execution_count": 23,
   "id": "distributed-pittsburgh",
   "metadata": {
    "execution": {
     "iopub.execute_input": "2022-08-31T12:19:43.827807Z",
     "iopub.status.busy": "2022-08-31T12:19:43.827119Z",
     "iopub.status.idle": "2022-08-31T12:19:43.829651Z",
     "shell.execute_reply": "2022-08-31T12:19:43.829114Z"
    },
    "papermill": {
     "duration": 0.037177,
     "end_time": "2022-08-31T12:19:43.829776",
     "exception": false,
     "start_time": "2022-08-31T12:19:43.792599",
     "status": "completed"
    },
    "tags": []
   },
   "outputs": [],
   "source": [
    "#hide\n",
    "g.index.name = 'date'"
   ]
  },
  {
   "cell_type": "code",
   "execution_count": 24,
   "id": "naked-donor",
   "metadata": {
    "execution": {
     "iopub.execute_input": "2022-08-31T12:19:43.894290Z",
     "iopub.status.busy": "2022-08-31T12:19:43.893672Z",
     "iopub.status.idle": "2022-08-31T12:19:43.897395Z",
     "shell.execute_reply": "2022-08-31T12:19:43.897846Z"
    },
    "papermill": {
     "duration": 0.037788,
     "end_time": "2022-08-31T12:19:43.897986",
     "exception": false,
     "start_time": "2022-08-31T12:19:43.860198",
     "status": "completed"
    },
    "tags": []
   },
   "outputs": [],
   "source": [
    "# #hide\n",
    "# g = g.reset_index(['date'])"
   ]
  },
  {
   "cell_type": "code",
   "execution_count": 25,
   "id": "incomplete-mustang",
   "metadata": {
    "execution": {
     "iopub.execute_input": "2022-08-31T12:19:43.962902Z",
     "iopub.status.busy": "2022-08-31T12:19:43.962264Z",
     "iopub.status.idle": "2022-08-31T12:19:43.964519Z",
     "shell.execute_reply": "2022-08-31T12:19:43.963936Z"
    },
    "papermill": {
     "duration": 0.036053,
     "end_time": "2022-08-31T12:19:43.964628",
     "exception": false,
     "start_time": "2022-08-31T12:19:43.928575",
     "status": "completed"
    },
    "tags": []
   },
   "outputs": [],
   "source": [
    "#hide\n",
    "# g.head()"
   ]
  },
  {
   "cell_type": "code",
   "execution_count": 26,
   "id": "specific-kruger",
   "metadata": {
    "execution": {
     "iopub.execute_input": "2022-08-31T12:19:44.029084Z",
     "iopub.status.busy": "2022-08-31T12:19:44.028392Z",
     "iopub.status.idle": "2022-08-31T12:19:44.030927Z",
     "shell.execute_reply": "2022-08-31T12:19:44.030288Z"
    },
    "papermill": {
     "duration": 0.036096,
     "end_time": "2022-08-31T12:19:44.031052",
     "exception": false,
     "start_time": "2022-08-31T12:19:43.994956",
     "status": "completed"
    },
    "tags": []
   },
   "outputs": [],
   "source": [
    "#hide\n",
    "# g.columns = ['date','country','cases']"
   ]
  },
  {
   "cell_type": "code",
   "execution_count": 27,
   "id": "tender-conversion",
   "metadata": {
    "execution": {
     "iopub.execute_input": "2022-08-31T12:19:44.096228Z",
     "iopub.status.busy": "2022-08-31T12:19:44.095621Z",
     "iopub.status.idle": "2022-08-31T12:19:44.098329Z",
     "shell.execute_reply": "2022-08-31T12:19:44.097853Z"
    },
    "papermill": {
     "duration": 0.036552,
     "end_time": "2022-08-31T12:19:44.098439",
     "exception": false,
     "start_time": "2022-08-31T12:19:44.061887",
     "status": "completed"
    },
    "tags": []
   },
   "outputs": [],
   "source": [
    "#hide\n",
    "# g['continent'] = g.country"
   ]
  },
  {
   "cell_type": "code",
   "execution_count": 28,
   "id": "substantial-wilderness",
   "metadata": {
    "execution": {
     "iopub.execute_input": "2022-08-31T12:19:44.163916Z",
     "iopub.status.busy": "2022-08-31T12:19:44.163249Z",
     "iopub.status.idle": "2022-08-31T12:19:44.165887Z",
     "shell.execute_reply": "2022-08-31T12:19:44.165243Z"
    },
    "papermill": {
     "duration": 0.036502,
     "end_time": "2022-08-31T12:19:44.166010",
     "exception": false,
     "start_time": "2022-08-31T12:19:44.129508",
     "status": "completed"
    },
    "tags": []
   },
   "outputs": [],
   "source": [
    "#hide\n",
    "# cols = list(g.columns.values)"
   ]
  },
  {
   "cell_type": "code",
   "execution_count": 29,
   "id": "solved-farming",
   "metadata": {
    "execution": {
     "iopub.execute_input": "2022-08-31T12:19:44.230652Z",
     "iopub.status.busy": "2022-08-31T12:19:44.229955Z",
     "iopub.status.idle": "2022-08-31T12:19:44.232202Z",
     "shell.execute_reply": "2022-08-31T12:19:44.232716Z"
    },
    "papermill": {
     "duration": 0.036579,
     "end_time": "2022-08-31T12:19:44.232871",
     "exception": false,
     "start_time": "2022-08-31T12:19:44.196292",
     "status": "completed"
    },
    "tags": []
   },
   "outputs": [],
   "source": [
    "#hide\n",
    "# cols.insert(0, cols.pop())"
   ]
  },
  {
   "cell_type": "code",
   "execution_count": 30,
   "id": "executed-adoption",
   "metadata": {
    "execution": {
     "iopub.execute_input": "2022-08-31T12:19:44.297912Z",
     "iopub.status.busy": "2022-08-31T12:19:44.297245Z",
     "iopub.status.idle": "2022-08-31T12:19:44.300908Z",
     "shell.execute_reply": "2022-08-31T12:19:44.301327Z"
    },
    "papermill": {
     "duration": 0.037724,
     "end_time": "2022-08-31T12:19:44.301455",
     "exception": false,
     "start_time": "2022-08-31T12:19:44.263731",
     "status": "completed"
    },
    "tags": []
   },
   "outputs": [],
   "source": [
    "#hide\n",
    "# g = g[cols]"
   ]
  },
  {
   "cell_type": "code",
   "execution_count": 31,
   "id": "subject-dublin",
   "metadata": {
    "execution": {
     "iopub.execute_input": "2022-08-31T12:19:44.365996Z",
     "iopub.status.busy": "2022-08-31T12:19:44.365401Z",
     "iopub.status.idle": "2022-08-31T12:19:44.368067Z",
     "shell.execute_reply": "2022-08-31T12:19:44.367502Z"
    },
    "papermill": {
     "duration": 0.036471,
     "end_time": "2022-08-31T12:19:44.368179",
     "exception": false,
     "start_time": "2022-08-31T12:19:44.331708",
     "status": "completed"
    },
    "tags": []
   },
   "outputs": [],
   "source": [
    "#hide\n",
    "# g['continent'] = g['continent'].map(mapping['map.continent'])"
   ]
  },
  {
   "cell_type": "code",
   "execution_count": 32,
   "id": "freelance-scout",
   "metadata": {
    "execution": {
     "iopub.execute_input": "2022-08-31T12:19:44.432944Z",
     "iopub.status.busy": "2022-08-31T12:19:44.432308Z",
     "iopub.status.idle": "2022-08-31T12:19:44.434839Z",
     "shell.execute_reply": "2022-08-31T12:19:44.434264Z"
    },
    "papermill": {
     "duration": 0.036342,
     "end_time": "2022-08-31T12:19:44.434953",
     "exception": false,
     "start_time": "2022-08-31T12:19:44.398611",
     "status": "completed"
    },
    "tags": []
   },
   "outputs": [],
   "source": [
    "#hide\n",
    "# g.head()"
   ]
  },
  {
   "cell_type": "code",
   "execution_count": 33,
   "id": "limited-engine",
   "metadata": {
    "execution": {
     "iopub.execute_input": "2022-08-31T12:19:44.499530Z",
     "iopub.status.busy": "2022-08-31T12:19:44.498849Z",
     "iopub.status.idle": "2022-08-31T12:19:44.501307Z",
     "shell.execute_reply": "2022-08-31T12:19:44.500660Z"
    },
    "papermill": {
     "duration": 0.036185,
     "end_time": "2022-08-31T12:19:44.501431",
     "exception": false,
     "start_time": "2022-08-31T12:19:44.465246",
     "status": "completed"
    },
    "tags": []
   },
   "outputs": [],
   "source": [
    "# hide\n",
    "# g['date'] = g['date'].astype('datetime64[ns]')"
   ]
  },
  {
   "cell_type": "code",
   "execution_count": 34,
   "id": "sophisticated-supervisor",
   "metadata": {
    "execution": {
     "iopub.execute_input": "2022-08-31T12:19:44.566363Z",
     "iopub.status.busy": "2022-08-31T12:19:44.565691Z",
     "iopub.status.idle": "2022-08-31T12:19:44.568192Z",
     "shell.execute_reply": "2022-08-31T12:19:44.567547Z"
    },
    "papermill": {
     "duration": 0.036459,
     "end_time": "2022-08-31T12:19:44.568340",
     "exception": false,
     "start_time": "2022-08-31T12:19:44.531881",
     "status": "completed"
    },
    "tags": []
   },
   "outputs": [],
   "source": [
    "#hide\n",
    "# g['date'] = g.date.dt.dayofyear"
   ]
  },
  {
   "cell_type": "code",
   "execution_count": 35,
   "id": "inside-dubai",
   "metadata": {
    "execution": {
     "iopub.execute_input": "2022-08-31T12:19:44.633286Z",
     "iopub.status.busy": "2022-08-31T12:19:44.632713Z",
     "iopub.status.idle": "2022-08-31T12:19:44.635390Z",
     "shell.execute_reply": "2022-08-31T12:19:44.634833Z"
    },
    "papermill": {
     "duration": 0.036241,
     "end_time": "2022-08-31T12:19:44.635500",
     "exception": false,
     "start_time": "2022-08-31T12:19:44.599259",
     "status": "completed"
    },
    "tags": []
   },
   "outputs": [],
   "source": [
    "#hide\n",
    "# g = g.rename(columns= {'continent':'group','country':'name','cases':'value'})"
   ]
  },
  {
   "cell_type": "code",
   "execution_count": 36,
   "id": "fleet-motorcycle",
   "metadata": {
    "execution": {
     "iopub.execute_input": "2022-08-31T12:19:44.700010Z",
     "iopub.status.busy": "2022-08-31T12:19:44.699443Z",
     "iopub.status.idle": "2022-08-31T12:19:44.702202Z",
     "shell.execute_reply": "2022-08-31T12:19:44.701731Z"
    },
    "papermill": {
     "duration": 0.036335,
     "end_time": "2022-08-31T12:19:44.702311",
     "exception": false,
     "start_time": "2022-08-31T12:19:44.665976",
     "status": "completed"
    },
    "tags": []
   },
   "outputs": [],
   "source": [
    "#hide\n",
    "# cols = ['name','group','day','value']"
   ]
  },
  {
   "cell_type": "code",
   "execution_count": 37,
   "id": "continued-sleeping",
   "metadata": {
    "execution": {
     "iopub.execute_input": "2022-08-31T12:19:44.767136Z",
     "iopub.status.busy": "2022-08-31T12:19:44.766557Z",
     "iopub.status.idle": "2022-08-31T12:19:44.769222Z",
     "shell.execute_reply": "2022-08-31T12:19:44.768613Z"
    },
    "papermill": {
     "duration": 0.036581,
     "end_time": "2022-08-31T12:19:44.769337",
     "exception": false,
     "start_time": "2022-08-31T12:19:44.732756",
     "status": "completed"
    },
    "tags": []
   },
   "outputs": [],
   "source": [
    "#hide\n",
    "# g.rename(columns= {'date':'day'},inplace = True)"
   ]
  },
  {
   "cell_type": "code",
   "execution_count": 38,
   "id": "major-fight",
   "metadata": {
    "execution": {
     "iopub.execute_input": "2022-08-31T12:19:44.834634Z",
     "iopub.status.busy": "2022-08-31T12:19:44.833944Z",
     "iopub.status.idle": "2022-08-31T12:19:44.836346Z",
     "shell.execute_reply": "2022-08-31T12:19:44.835675Z"
    },
    "papermill": {
     "duration": 0.036778,
     "end_time": "2022-08-31T12:19:44.836477",
     "exception": false,
     "start_time": "2022-08-31T12:19:44.799699",
     "status": "completed"
    },
    "tags": []
   },
   "outputs": [],
   "source": [
    "#hide\n",
    "# g = g[cols]"
   ]
  },
  {
   "cell_type": "code",
   "execution_count": 39,
   "id": "structured-mobile",
   "metadata": {
    "execution": {
     "iopub.execute_input": "2022-08-31T12:19:44.903095Z",
     "iopub.status.busy": "2022-08-31T12:19:44.902394Z",
     "iopub.status.idle": "2022-08-31T12:19:44.906977Z",
     "shell.execute_reply": "2022-08-31T12:19:44.906455Z"
    },
    "papermill": {
     "duration": 0.039951,
     "end_time": "2022-08-31T12:19:44.907108",
     "exception": false,
     "start_time": "2022-08-31T12:19:44.867157",
     "status": "completed"
    },
    "tags": []
   },
   "outputs": [],
   "source": [
    "# #hide\n",
    "# g = g[g.group.notna()]"
   ]
  },
  {
   "cell_type": "code",
   "execution_count": 40,
   "id": "determined-closing",
   "metadata": {
    "execution": {
     "iopub.execute_input": "2022-08-31T12:19:44.973432Z",
     "iopub.status.busy": "2022-08-31T12:19:44.972800Z",
     "iopub.status.idle": "2022-08-31T12:19:44.975258Z",
     "shell.execute_reply": "2022-08-31T12:19:44.974777Z"
    },
    "papermill": {
     "duration": 0.036908,
     "end_time": "2022-08-31T12:19:44.975372",
     "exception": false,
     "start_time": "2022-08-31T12:19:44.938464",
     "status": "completed"
    },
    "tags": []
   },
   "outputs": [],
   "source": [
    "# #hide\n",
    "# colors = dict(zip(\n",
    "#     [\"Oceania\", \"Europe\", \"Asia\", \"South America\", \"Middle East\", \"North America\", \"Africa\"],\n",
    "#     [\"#adb0ff\", \"#ffb3ff\", \"#90d595\", \"#e48381\", \"#aafbff\", \"#f7bb5f\", \"#eafb50\"]\n",
    "# ))\n",
    "# group_lk = g.set_index('name')['group'].to_dict()"
   ]
  },
  {
   "cell_type": "code",
   "execution_count": null,
   "id": "gross-drinking",
   "metadata": {
    "papermill": {
     "duration": 0.030156,
     "end_time": "2022-08-31T12:19:45.035800",
     "exception": false,
     "start_time": "2022-08-31T12:19:45.005644",
     "status": "completed"
    },
    "tags": []
   },
   "outputs": [],
   "source": []
  },
  {
   "cell_type": "code",
   "execution_count": 41,
   "id": "subject-macintosh",
   "metadata": {
    "execution": {
     "iopub.execute_input": "2022-08-31T12:19:45.102031Z",
     "iopub.status.busy": "2022-08-31T12:19:45.101392Z",
     "iopub.status.idle": "2022-08-31T12:19:45.103711Z",
     "shell.execute_reply": "2022-08-31T12:19:45.103143Z"
    },
    "papermill": {
     "duration": 0.037679,
     "end_time": "2022-08-31T12:19:45.103826",
     "exception": false,
     "start_time": "2022-08-31T12:19:45.066147",
     "status": "completed"
    },
    "tags": []
   },
   "outputs": [],
   "source": [
    "# #hide\n",
    "# fig, ax = plt.subplots(figsize=(15, 8))\n",
    "\n",
    "# def draw_barchart(current_day):\n",
    "#     dff = g[g['day'].eq(current_day)].sort_values(by='value', ascending=True).tail(10)\n",
    "#     ax.clear()\n",
    "#     ax.barh(dff['name'], dff['value'], color=[colors[group_lk[x]] for x in dff['name']])\n",
    "#     dx = dff['value'].max() / 200\n",
    "    \n",
    "#     for i, (value, name) in enumerate(zip(dff['value'], dff['name'])):\n",
    "#         ax.text(value-dx, i,     name,           size=14, weight=600, ha='right', va='bottom')\n",
    "#         ax.text(value-dx, i-.25, group_lk[name], size=10, color='#444444', ha='right', va='baseline')\n",
    "#         ax.text(value+dx, i,     f'{value:,.0f}',  size=14, ha='left',  va='center')\n",
    "#     ax.text(1, 0.4, current_day, transform=ax.transAxes, color='#777777', size=46, ha='right', weight=800)\n",
    "#     ax.text(0, 1.06, 'Population (thousands)', transform=ax.transAxes, size=12, color='#777777')\n",
    "#     ax.xaxis.set_major_formatter(ticker.StrMethodFormatter('{x:,.0f}'))\n",
    "#     ax.xaxis.set_ticks_position('top')\n",
    "#     ax.tick_params(axis='x', colors='#777777', labelsize=12)\n",
    "#     ax.set_yticks([])\n",
    "#     ax.margins(0, 0.01)\n",
    "#     ax.grid(which='major', axis='x', linestyle='-')\n",
    "#     ax.set_axisbelow(True)\n",
    "    \n",
    "#     ax.text(0, 1.15, 'Coronavirus',\n",
    "#             transform=ax.transAxes, size=24, weight=600, ha='left', va='top')\n",
    "# #     ax.text(1, 0, 'by @pratapvardhan; credit @jburnmurdoch', transform=ax.transAxes, color='#777777', ha='right',\n",
    "# #             bbox=dict(facecolor='white', alpha=0.8, edgecolor='white'))\n",
    "#     plt.box(False)"
   ]
  },
  {
   "cell_type": "code",
   "execution_count": 42,
   "id": "sexual-wages",
   "metadata": {
    "execution": {
     "iopub.execute_input": "2022-08-31T12:19:45.168192Z",
     "iopub.status.busy": "2022-08-31T12:19:45.167521Z",
     "iopub.status.idle": "2022-08-31T12:19:45.170091Z",
     "shell.execute_reply": "2022-08-31T12:19:45.169550Z"
    },
    "papermill": {
     "duration": 0.036152,
     "end_time": "2022-08-31T12:19:45.170214",
     "exception": false,
     "start_time": "2022-08-31T12:19:45.134062",
     "status": "completed"
    },
    "tags": []
   },
   "outputs": [],
   "source": [
    "# #hide_input\n",
    "# fig, ax = plt.subplots(figsize=(15, 8))\n",
    "# animator = animation.FuncAnimation(fig, draw_barchart, frames=range(g.day.values.min(), g.day.values.max()))\n",
    "# HTML(animator.to_jshtml())\n",
    "# # or use animator.to_html5_video() or animator.save() "
   ]
  },
  {
   "cell_type": "code",
   "execution_count": null,
   "id": "australian-container",
   "metadata": {
    "papermill": {
     "duration": 0.030239,
     "end_time": "2022-08-31T12:19:45.231877",
     "exception": false,
     "start_time": "2022-08-31T12:19:45.201638",
     "status": "completed"
    },
    "tags": []
   },
   "outputs": [],
   "source": []
  },
  {
   "cell_type": "code",
   "execution_count": null,
   "id": "mediterranean-pontiac",
   "metadata": {
    "papermill": {
     "duration": 0.029951,
     "end_time": "2022-08-31T12:19:45.291967",
     "exception": false,
     "start_time": "2022-08-31T12:19:45.262016",
     "status": "completed"
    },
    "tags": []
   },
   "outputs": [],
   "source": []
  },
  {
   "cell_type": "code",
   "execution_count": null,
   "id": "aging-legislature",
   "metadata": {
    "papermill": {
     "duration": 0.043959,
     "end_time": "2022-08-31T12:19:45.366161",
     "exception": false,
     "start_time": "2022-08-31T12:19:45.322202",
     "status": "completed"
    },
    "tags": []
   },
   "outputs": [],
   "source": []
  }
 ],
 "metadata": {
  "kernelspec": {
   "display_name": "Python 3",
   "language": "python",
   "name": "python3"
  },
  "language_info": {
   "codemirror_mode": {
    "name": "ipython",
    "version": 3
   },
   "file_extension": ".py",
   "mimetype": "text/x-python",
   "name": "python",
   "nbconvert_exporter": "python",
   "pygments_lexer": "ipython3",
   "version": "3.6.15"
  },
  "papermill": {
   "duration": 5.954573,
   "end_time": "2022-08-31T12:19:45.720526",
   "environment_variables": {},
   "exception": null,
   "input_path": "2020-03-21-covid19exp.ipynb",
   "output_path": "2020-03-21-covid19exp.ipynb",
   "parameters": {},
   "start_time": "2022-08-31T12:19:39.765953",
   "version": "2.0.0"
  }
 },
 "nbformat": 4,
 "nbformat_minor": 5
}