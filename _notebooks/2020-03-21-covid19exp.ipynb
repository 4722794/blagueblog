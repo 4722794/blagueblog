{
 "cells": [
  {
   "cell_type": "markdown",
   "id": "muslim-click",
   "metadata": {
    "papermill": {
     "duration": 0.041951,
     "end_time": "2022-03-25T00:32:51.696519",
     "exception": false,
     "start_time": "2022-03-25T00:32:51.654568",
     "status": "completed"
    },
    "tags": []
   },
   "source": [
    "# COVID-19 Case Race\n",
    "> A race chart to see rising cases around the world\n",
    "\n",
    "- author: Hargun Oberoi\n",
    "- image: images/covid-overview.png\n",
    "- hide: false\n",
    "- badges: false"
   ]
  },
  {
   "cell_type": "code",
   "execution_count": 1,
   "id": "proof-material",
   "metadata": {
    "execution": {
     "iopub.execute_input": "2022-03-25T00:32:51.782419Z",
     "iopub.status.busy": "2022-03-25T00:32:51.781792Z",
     "iopub.status.idle": "2022-03-25T00:32:52.161437Z",
     "shell.execute_reply": "2022-03-25T00:32:52.160769Z"
    },
    "papermill": {
     "duration": 0.425613,
     "end_time": "2022-03-25T00:32:52.161615",
     "exception": false,
     "start_time": "2022-03-25T00:32:51.736002",
     "status": "completed"
    },
    "tags": []
   },
   "outputs": [],
   "source": [
    "#hide\n",
    "import numpy as np\n",
    "import pandas as pd\n",
    "from jinja2 import Template\n",
    "from IPython.display import HTML"
   ]
  },
  {
   "cell_type": "code",
   "execution_count": 2,
   "id": "developed-terminology",
   "metadata": {
    "execution": {
     "iopub.execute_input": "2022-03-25T00:32:52.243311Z",
     "iopub.status.busy": "2022-03-25T00:32:52.241574Z",
     "iopub.status.idle": "2022-03-25T00:32:52.244069Z",
     "shell.execute_reply": "2022-03-25T00:32:52.244553Z"
    },
    "papermill": {
     "duration": 0.045948,
     "end_time": "2022-03-25T00:32:52.244688",
     "exception": false,
     "start_time": "2022-03-25T00:32:52.198740",
     "status": "completed"
    },
    "tags": []
   },
   "outputs": [],
   "source": [
    "#hide\n",
    "\n",
    "# FETCH\n",
    "base_url = 'https://raw.githubusercontent.com/pratapvardhan/notebooks/master/covid19/'\n",
    "paths = {\n",
    "    'mapping': base_url + 'mapping_countries.csv',\n",
    "    'overview': base_url + 'overview.tpl'\n",
    "}"
   ]
  },
  {
   "cell_type": "code",
   "execution_count": 3,
   "id": "dynamic-saver",
   "metadata": {
    "execution": {
     "iopub.execute_input": "2022-03-25T00:32:52.329762Z",
     "iopub.status.busy": "2022-03-25T00:32:52.326728Z",
     "iopub.status.idle": "2022-03-25T00:32:52.333240Z",
     "shell.execute_reply": "2022-03-25T00:32:52.332731Z"
    },
    "papermill": {
     "duration": 0.053554,
     "end_time": "2022-03-25T00:32:52.333367",
     "exception": false,
     "start_time": "2022-03-25T00:32:52.279813",
     "status": "completed"
    },
    "tags": []
   },
   "outputs": [
    {
     "data": {
      "text/plain": [
       "'https://raw.githubusercontent.com/pratapvardhan/notebooks/master/covid19/mapping_countries.csv'"
      ]
     },
     "execution_count": 3,
     "metadata": {},
     "output_type": "execute_result"
    }
   ],
   "source": [
    "#hide\n",
    "paths['mapping']"
   ]
  },
  {
   "cell_type": "code",
   "execution_count": 4,
   "id": "urban-software",
   "metadata": {
    "execution": {
     "iopub.execute_input": "2022-03-25T00:32:52.417411Z",
     "iopub.status.busy": "2022-03-25T00:32:52.416679Z",
     "iopub.status.idle": "2022-03-25T00:32:52.419431Z",
     "shell.execute_reply": "2022-03-25T00:32:52.418847Z"
    },
    "papermill": {
     "duration": 0.049135,
     "end_time": "2022-03-25T00:32:52.419600",
     "exception": false,
     "start_time": "2022-03-25T00:32:52.370465",
     "status": "completed"
    },
    "tags": []
   },
   "outputs": [],
   "source": [
    "#hide\n",
    "def get_mappings(url):\n",
    "    df = pd.read_csv(url)\n",
    "    return {\n",
    "        'df': df,\n",
    "        'replace.country': dict(df.dropna(subset=['Name']).set_index('Country')['Name']),\n",
    "        'map.continent': dict(df.set_index('Name')['Continent'])\n",
    "    }"
   ]
  },
  {
   "cell_type": "code",
   "execution_count": 5,
   "id": "intimate-machinery",
   "metadata": {
    "execution": {
     "iopub.execute_input": "2022-03-25T00:32:52.502288Z",
     "iopub.status.busy": "2022-03-25T00:32:52.501627Z",
     "iopub.status.idle": "2022-03-25T00:32:52.543310Z",
     "shell.execute_reply": "2022-03-25T00:32:52.542751Z"
    },
    "papermill": {
     "duration": 0.084344,
     "end_time": "2022-03-25T00:32:52.543576",
     "exception": false,
     "start_time": "2022-03-25T00:32:52.459232",
     "status": "completed"
    },
    "tags": []
   },
   "outputs": [],
   "source": [
    "#hide\n",
    "mapping = get_mappings(paths['mapping'])"
   ]
  },
  {
   "cell_type": "code",
   "execution_count": 6,
   "id": "certified-tactics",
   "metadata": {
    "execution": {
     "iopub.execute_input": "2022-03-25T00:32:52.620409Z",
     "iopub.status.busy": "2022-03-25T00:32:52.619794Z",
     "iopub.status.idle": "2022-03-25T00:32:52.623009Z",
     "shell.execute_reply": "2022-03-25T00:32:52.622392Z"
    },
    "papermill": {
     "duration": 0.044307,
     "end_time": "2022-03-25T00:32:52.623182",
     "exception": false,
     "start_time": "2022-03-25T00:32:52.578875",
     "status": "completed"
    },
    "tags": []
   },
   "outputs": [],
   "source": [
    "#hide\n",
    "def get_template(path):\n",
    "    from urllib.parse import urlparse\n",
    "    if bool(urlparse(path).netloc):\n",
    "        from urllib.request import urlopen\n",
    "        return urlopen(path).read().decode('utf8')\n",
    "    return open(path).read()"
   ]
  },
  {
   "cell_type": "code",
   "execution_count": 7,
   "id": "realistic-blast",
   "metadata": {
    "execution": {
     "iopub.execute_input": "2022-03-25T00:32:52.698784Z",
     "iopub.status.busy": "2022-03-25T00:32:52.698116Z",
     "iopub.status.idle": "2022-03-25T00:32:52.700428Z",
     "shell.execute_reply": "2022-03-25T00:32:52.700965Z"
    },
    "papermill": {
     "duration": 0.042363,
     "end_time": "2022-03-25T00:32:52.701084",
     "exception": false,
     "start_time": "2022-03-25T00:32:52.658721",
     "status": "completed"
    },
    "tags": []
   },
   "outputs": [],
   "source": [
    "#hide\n",
    "def get_frame(name):\n",
    "    url = (\n",
    "        'https://raw.githubusercontent.com/CSSEGISandData/COVID-19/master/csse_covid_19_data/'\n",
    "        f'csse_covid_19_time_series/time_series_covid19_{name}_global.csv')\n",
    "    df = pd.read_csv(url)\n",
    "    # rename countries\n",
    "    df['Country/Region'] = df['Country/Region'].replace(mapping['replace.country'])\n",
    "    return df"
   ]
  },
  {
   "cell_type": "code",
   "execution_count": 8,
   "id": "affiliated-characterization",
   "metadata": {
    "execution": {
     "iopub.execute_input": "2022-03-25T00:32:52.779534Z",
     "iopub.status.busy": "2022-03-25T00:32:52.778946Z",
     "iopub.status.idle": "2022-03-25T00:32:52.780935Z",
     "shell.execute_reply": "2022-03-25T00:32:52.781390Z"
    },
    "papermill": {
     "duration": 0.043347,
     "end_time": "2022-03-25T00:32:52.781537",
     "exception": false,
     "start_time": "2022-03-25T00:32:52.738190",
     "status": "completed"
    },
    "tags": []
   },
   "outputs": [],
   "source": [
    "#hide\n",
    "def get_dates(df):\n",
    "    dt_cols = df.columns[~df.columns.isin(['Province/State', 'Country/Region', 'Lat', 'Long'])]\n",
    "    LAST_DATE_I = -1\n",
    "    # sometimes last column may be empty, then go backwards\n",
    "    for i in range(-1, -len(dt_cols), -1):\n",
    "        if not df[dt_cols[i]].fillna(0).eq(0).all():\n",
    "            LAST_DATE_I = i\n",
    "            break\n",
    "    return LAST_DATE_I, dt_cols"
   ]
  },
  {
   "cell_type": "code",
   "execution_count": 9,
   "id": "recent-optimization",
   "metadata": {
    "execution": {
     "iopub.execute_input": "2022-03-25T00:32:52.859959Z",
     "iopub.status.busy": "2022-03-25T00:32:52.858090Z",
     "iopub.status.idle": "2022-03-25T00:32:53.291087Z",
     "shell.execute_reply": "2022-03-25T00:32:53.289806Z"
    },
    "papermill": {
     "duration": 0.472341,
     "end_time": "2022-03-25T00:32:53.291222",
     "exception": false,
     "start_time": "2022-03-25T00:32:52.818881",
     "status": "completed"
    },
    "tags": []
   },
   "outputs": [],
   "source": [
    "#hide\n",
    "COL_REGION = 'Country/Region'\n",
    "# Confirmed, Recovered, Deaths\n",
    "df = get_frame('confirmed')\n",
    "# dft_: timeseries, dfc_: today country agg\n",
    "dft_cases = df\n",
    "dft_deaths = get_frame('deaths')\n",
    "dft_recovered = get_frame('recovered')\n",
    "LAST_DATE_I, dt_cols = get_dates(df)"
   ]
  },
  {
   "cell_type": "code",
   "execution_count": 10,
   "id": "absolute-copper",
   "metadata": {
    "execution": {
     "iopub.execute_input": "2022-03-25T00:32:53.376713Z",
     "iopub.status.busy": "2022-03-25T00:32:53.376084Z",
     "iopub.status.idle": "2022-03-25T00:32:53.378402Z",
     "shell.execute_reply": "2022-03-25T00:32:53.378971Z"
    },
    "papermill": {
     "duration": 0.048444,
     "end_time": "2022-03-25T00:32:53.379106",
     "exception": false,
     "start_time": "2022-03-25T00:32:53.330662",
     "status": "completed"
    },
    "tags": []
   },
   "outputs": [],
   "source": [
    "#hide\n",
    "LAST_DATE_I, dt_cols = get_dates(df)\n",
    "dt_today =dt_cols[LAST_DATE_I]\n",
    "# dt_5day = dt_cols[LAST_DATE_I - 5]\n",
    "dt_yday = dt_cols[LAST_DATE_I - 1]"
   ]
  },
  {
   "cell_type": "code",
   "execution_count": 11,
   "id": "restricted-sheriff",
   "metadata": {
    "execution": {
     "iopub.execute_input": "2022-03-25T00:32:53.457754Z",
     "iopub.status.busy": "2022-03-25T00:32:53.457103Z",
     "iopub.status.idle": "2022-03-25T00:32:53.466548Z",
     "shell.execute_reply": "2022-03-25T00:32:53.467022Z"
    },
    "papermill": {
     "duration": 0.051895,
     "end_time": "2022-03-25T00:32:53.467161",
     "exception": false,
     "start_time": "2022-03-25T00:32:53.415266",
     "status": "completed"
    },
    "tags": []
   },
   "outputs": [],
   "source": [
    "#hide\n",
    "dfc_cases = dft_cases.groupby(COL_REGION)[dt_today].sum()\n",
    "dfc_deaths = dft_deaths.groupby(COL_REGION)[dt_today].sum()\n",
    "# dfp_cases = dft_cases.groupby(COL_REGION)[dt_5day].sum()\n",
    "# dfp_deaths = dft_deaths.groupby(COL_REGION)[dt_5day].sum()\n",
    "dfp_cases = dft_cases.groupby(COL_REGION)[dt_yday].sum()\n",
    "dfp_deaths = dft_deaths.groupby(COL_REGION)[dt_yday].sum()"
   ]
  },
  {
   "cell_type": "code",
   "execution_count": 12,
   "id": "deluxe-hepatitis",
   "metadata": {
    "execution": {
     "iopub.execute_input": "2022-03-25T00:32:53.548789Z",
     "iopub.status.busy": "2022-03-25T00:32:53.548116Z",
     "iopub.status.idle": "2022-03-25T00:32:53.553709Z",
     "shell.execute_reply": "2022-03-25T00:32:53.553227Z"
    },
    "papermill": {
     "duration": 0.049279,
     "end_time": "2022-03-25T00:32:53.553826",
     "exception": false,
     "start_time": "2022-03-25T00:32:53.504547",
     "status": "completed"
    },
    "tags": []
   },
   "outputs": [],
   "source": [
    "#hide\n",
    "df_table = (pd.DataFrame(dict(Cases = dfc_cases, Deaths = dfc_deaths, PCases = dfp_cases, PDeaths = dfp_deaths))\n",
    "            .sort_values(by = ['Cases','Deaths'], ascending = [False, False])\n",
    "            .reset_index())"
   ]
  },
  {
   "cell_type": "code",
   "execution_count": 13,
   "id": "educational-chancellor",
   "metadata": {
    "execution": {
     "iopub.execute_input": "2022-03-25T00:32:53.649547Z",
     "iopub.status.busy": "2022-03-25T00:32:53.648885Z",
     "iopub.status.idle": "2022-03-25T00:32:53.658686Z",
     "shell.execute_reply": "2022-03-25T00:32:53.658157Z"
    },
    "papermill": {
     "duration": 0.068318,
     "end_time": "2022-03-25T00:32:53.658831",
     "exception": false,
     "start_time": "2022-03-25T00:32:53.590513",
     "status": "completed"
    },
    "tags": []
   },
   "outputs": [
    {
     "data": {
      "text/html": [
       "<div>\n",
       "<style scoped>\n",
       "    .dataframe tbody tr th:only-of-type {\n",
       "        vertical-align: middle;\n",
       "    }\n",
       "\n",
       "    .dataframe tbody tr th {\n",
       "        vertical-align: top;\n",
       "    }\n",
       "\n",
       "    .dataframe thead th {\n",
       "        text-align: right;\n",
       "    }\n",
       "</style>\n",
       "<table border=\"1\" class=\"dataframe\">\n",
       "  <thead>\n",
       "    <tr style=\"text-align: right;\">\n",
       "      <th></th>\n",
       "      <th>Country/Region</th>\n",
       "      <th>Cases</th>\n",
       "      <th>Deaths</th>\n",
       "      <th>PCases</th>\n",
       "      <th>PDeaths</th>\n",
       "      <th>Cases (+)</th>\n",
       "      <th>Deaths (+)</th>\n",
       "      <th>Fatality Rate</th>\n",
       "      <th>Continent</th>\n",
       "    </tr>\n",
       "  </thead>\n",
       "  <tbody>\n",
       "    <tr>\n",
       "      <th>0</th>\n",
       "      <td>US</td>\n",
       "      <td>79844430</td>\n",
       "      <td>974830</td>\n",
       "      <td>79803443</td>\n",
       "      <td>973213</td>\n",
       "      <td>40987</td>\n",
       "      <td>1617</td>\n",
       "      <td>1.22</td>\n",
       "      <td>North America</td>\n",
       "    </tr>\n",
       "    <tr>\n",
       "      <th>1</th>\n",
       "      <td>India</td>\n",
       "      <td>43014687</td>\n",
       "      <td>516672</td>\n",
       "      <td>43012749</td>\n",
       "      <td>516605</td>\n",
       "      <td>1938</td>\n",
       "      <td>67</td>\n",
       "      <td>1.20</td>\n",
       "      <td>Asia</td>\n",
       "    </tr>\n",
       "    <tr>\n",
       "      <th>2</th>\n",
       "      <td>Brazil</td>\n",
       "      <td>29738362</td>\n",
       "      <td>658286</td>\n",
       "      <td>29691641</td>\n",
       "      <td>658005</td>\n",
       "      <td>46721</td>\n",
       "      <td>281</td>\n",
       "      <td>2.21</td>\n",
       "      <td>South America</td>\n",
       "    </tr>\n",
       "    <tr>\n",
       "      <th>3</th>\n",
       "      <td>France</td>\n",
       "      <td>24683075</td>\n",
       "      <td>142362</td>\n",
       "      <td>24528957</td>\n",
       "      <td>142248</td>\n",
       "      <td>154118</td>\n",
       "      <td>114</td>\n",
       "      <td>0.58</td>\n",
       "      <td>Europe</td>\n",
       "    </tr>\n",
       "    <tr>\n",
       "      <th>4</th>\n",
       "      <td>United Kingdom</td>\n",
       "      <td>20669099</td>\n",
       "      <td>164712</td>\n",
       "      <td>20566021</td>\n",
       "      <td>164516</td>\n",
       "      <td>103078</td>\n",
       "      <td>196</td>\n",
       "      <td>0.80</td>\n",
       "      <td>Europe</td>\n",
       "    </tr>\n",
       "  </tbody>\n",
       "</table>\n",
       "</div>"
      ],
      "text/plain": [
       "   Country/Region     Cases  Deaths    PCases  PDeaths  Cases (+)  Deaths (+)  \\\n",
       "0              US  79844430  974830  79803443   973213      40987        1617   \n",
       "1           India  43014687  516672  43012749   516605       1938          67   \n",
       "2          Brazil  29738362  658286  29691641   658005      46721         281   \n",
       "3          France  24683075  142362  24528957   142248     154118         114   \n",
       "4  United Kingdom  20669099  164712  20566021   164516     103078         196   \n",
       "\n",
       "   Fatality Rate      Continent  \n",
       "0           1.22  North America  \n",
       "1           1.20           Asia  \n",
       "2           2.21  South America  \n",
       "3           0.58         Europe  \n",
       "4           0.80         Europe  "
      ]
     },
     "execution_count": 13,
     "metadata": {},
     "output_type": "execute_result"
    }
   ],
   "source": [
    "#hide\n",
    "for c in 'Cases, Deaths'.split(', '):\n",
    "    df_table[f'{c} (+)'] = (df_table[c] - df_table[f'P{c}']).clip(0)\n",
    "    #Clip ça veut dire, les chiffres negatif sont interdit\n",
    "df_table['Fatality Rate'] = (100* df_table['Deaths']/ df_table['Cases']).round(2)\n",
    "df_table['Continent'] = df_table['Country/Region'].map(mapping['map.continent'])\n",
    "df_table.head(5)"
   ]
  },
  {
   "cell_type": "code",
   "execution_count": 14,
   "id": "aboriginal-bulgaria",
   "metadata": {
    "execution": {
     "iopub.execute_input": "2022-03-25T00:32:53.739605Z",
     "iopub.status.busy": "2022-03-25T00:32:53.738954Z",
     "iopub.status.idle": "2022-03-25T00:32:53.741467Z",
     "shell.execute_reply": "2022-03-25T00:32:53.740861Z"
    },
    "papermill": {
     "duration": 0.045288,
     "end_time": "2022-03-25T00:32:53.741582",
     "exception": false,
     "start_time": "2022-03-25T00:32:53.696294",
     "status": "completed"
    },
    "tags": []
   },
   "outputs": [],
   "source": [
    "#hide\n",
    "#delete problematic countries from table\n",
    "df_table = df_table[~df_table['Country/Region'].isin(['Cape Verde', 'Cruise Ship', 'Kosovo'])]"
   ]
  },
  {
   "cell_type": "code",
   "execution_count": 15,
   "id": "fantastic-effect",
   "metadata": {
    "execution": {
     "iopub.execute_input": "2022-03-25T00:32:53.827499Z",
     "iopub.status.busy": "2022-03-25T00:32:53.826904Z",
     "iopub.status.idle": "2022-03-25T00:32:53.850570Z",
     "shell.execute_reply": "2022-03-25T00:32:53.850086Z"
    },
    "papermill": {
     "duration": 0.070746,
     "end_time": "2022-03-25T00:32:53.850685",
     "exception": false,
     "start_time": "2022-03-25T00:32:53.779939",
     "status": "completed"
    },
    "tags": []
   },
   "outputs": [
    {
     "data": {
      "text/html": [
       "<div>\n",
       "<style scoped>\n",
       "    .dataframe tbody tr th:only-of-type {\n",
       "        vertical-align: middle;\n",
       "    }\n",
       "\n",
       "    .dataframe tbody tr th {\n",
       "        vertical-align: top;\n",
       "    }\n",
       "\n",
       "    .dataframe thead th {\n",
       "        text-align: right;\n",
       "    }\n",
       "</style>\n",
       "<table border=\"1\" class=\"dataframe\">\n",
       "  <thead>\n",
       "    <tr style=\"text-align: right;\">\n",
       "      <th></th>\n",
       "      <th>Country/Region</th>\n",
       "      <th>Cases</th>\n",
       "      <th>Deaths</th>\n",
       "      <th>PCases</th>\n",
       "      <th>PDeaths</th>\n",
       "      <th>Cases (+)</th>\n",
       "      <th>Deaths (+)</th>\n",
       "      <th>Fatality Rate</th>\n",
       "      <th>Continent</th>\n",
       "    </tr>\n",
       "  </thead>\n",
       "  <tbody>\n",
       "    <tr>\n",
       "      <th>0</th>\n",
       "      <td>US</td>\n",
       "      <td>79844430</td>\n",
       "      <td>974830</td>\n",
       "      <td>79803443</td>\n",
       "      <td>973213</td>\n",
       "      <td>40987</td>\n",
       "      <td>1617</td>\n",
       "      <td>1.2</td>\n",
       "      <td>North America</td>\n",
       "    </tr>\n",
       "    <tr>\n",
       "      <th>1</th>\n",
       "      <td>India</td>\n",
       "      <td>43014687</td>\n",
       "      <td>516672</td>\n",
       "      <td>43012749</td>\n",
       "      <td>516605</td>\n",
       "      <td>1938</td>\n",
       "      <td>67</td>\n",
       "      <td>1.2</td>\n",
       "      <td>Asia</td>\n",
       "    </tr>\n",
       "    <tr>\n",
       "      <th>2</th>\n",
       "      <td>Brazil</td>\n",
       "      <td>29738362</td>\n",
       "      <td>658286</td>\n",
       "      <td>29691641</td>\n",
       "      <td>658005</td>\n",
       "      <td>46721</td>\n",
       "      <td>281</td>\n",
       "      <td>2.2</td>\n",
       "      <td>South America</td>\n",
       "    </tr>\n",
       "    <tr>\n",
       "      <th>3</th>\n",
       "      <td>France</td>\n",
       "      <td>24683075</td>\n",
       "      <td>142362</td>\n",
       "      <td>24528957</td>\n",
       "      <td>142248</td>\n",
       "      <td>154118</td>\n",
       "      <td>114</td>\n",
       "      <td>0.6</td>\n",
       "      <td>Europe</td>\n",
       "    </tr>\n",
       "    <tr>\n",
       "      <th>4</th>\n",
       "      <td>United Kingdom</td>\n",
       "      <td>20669099</td>\n",
       "      <td>164712</td>\n",
       "      <td>20566021</td>\n",
       "      <td>164516</td>\n",
       "      <td>103078</td>\n",
       "      <td>196</td>\n",
       "      <td>0.8</td>\n",
       "      <td>Europe</td>\n",
       "    </tr>\n",
       "  </tbody>\n",
       "</table>\n",
       "</div>"
      ],
      "text/plain": [
       "   Country/Region     Cases  Deaths    PCases  PDeaths  Cases (+)  Deaths (+)  \\\n",
       "0              US  79844430  974830  79803443   973213      40987        1617   \n",
       "1           India  43014687  516672  43012749   516605       1938          67   \n",
       "2          Brazil  29738362  658286  29691641   658005      46721         281   \n",
       "3          France  24683075  142362  24528957   142248     154118         114   \n",
       "4  United Kingdom  20669099  164712  20566021   164516     103078         196   \n",
       "\n",
       "   Fatality Rate      Continent  \n",
       "0            1.2  North America  \n",
       "1            1.2           Asia  \n",
       "2            2.2  South America  \n",
       "3            0.6         Europe  \n",
       "4            0.8         Europe  "
      ]
     },
     "execution_count": 15,
     "metadata": {},
     "output_type": "execute_result"
    }
   ],
   "source": [
    "#hide\n",
    "df_table = (pd.DataFrame(dict(Cases=dfc_cases, Deaths=dfc_deaths, PCases=dfp_cases, PDeaths=dfp_deaths))\n",
    "             .sort_values(by=['Cases', 'Deaths'], ascending=[False, False])\n",
    "             .reset_index())\n",
    "df_table.rename(columns={'index': 'Country/Region'}, inplace=True)\n",
    "for c in 'Cases, Deaths'.split(', '):\n",
    "    df_table[f'{c} (+)'] = (df_table[c] - df_table[f'P{c}']).clip(0)  # DATA BUG\n",
    "df_table['Fatality Rate'] = (100 * df_table['Deaths'] / df_table['Cases']).round(1)\n",
    "df_table['Continent'] = df_table['Country/Region'].map(mapping['map.continent'])\n",
    "df_table.head(5)"
   ]
  },
  {
   "cell_type": "code",
   "execution_count": 16,
   "id": "fewer-occasion",
   "metadata": {
    "execution": {
     "iopub.execute_input": "2022-03-25T00:32:53.929428Z",
     "iopub.status.busy": "2022-03-25T00:32:53.928826Z",
     "iopub.status.idle": "2022-03-25T00:32:53.932551Z",
     "shell.execute_reply": "2022-03-25T00:32:53.932031Z"
    },
    "papermill": {
     "duration": 0.045489,
     "end_time": "2022-03-25T00:32:53.932744",
     "exception": false,
     "start_time": "2022-03-25T00:32:53.887255",
     "status": "completed"
    },
    "tags": []
   },
   "outputs": [],
   "source": [
    "#hide\n",
    "#delete problematic countries from table\n",
    "df_table = df_table[~df_table['Country/Region'].isin(['Cape Verde', 'Cruise Ship', 'Kosovo'])]"
   ]
  },
  {
   "cell_type": "code",
   "execution_count": 17,
   "id": "related-center",
   "metadata": {
    "execution": {
     "iopub.execute_input": "2022-03-25T00:32:54.030279Z",
     "iopub.status.busy": "2022-03-25T00:32:54.029498Z",
     "iopub.status.idle": "2022-03-25T00:32:54.032737Z",
     "shell.execute_reply": "2022-03-25T00:32:54.032197Z"
    },
    "papermill": {
     "duration": 0.063343,
     "end_time": "2022-03-25T00:32:54.032861",
     "exception": false,
     "start_time": "2022-03-25T00:32:53.969518",
     "status": "completed"
    },
    "tags": []
   },
   "outputs": [],
   "source": [
    "#hide\n",
    "metrics = [df_table.columns[index] for index in [1,2,5,6]]\n",
    "# s_china = df_table[df_table['Country/Region'].eq('China')][metrics].sum().add_prefix('China ')\n",
    "s_us = df_table[df_table['Country/Region'].eq('US')][metrics].sum().add_prefix('US ')\n",
    "s_eu = df_table[df_table['Continent'].eq('Europe')][metrics].sum().add_prefix('EU ')\n",
    "s_ind = df_table[df_table['Country/Region'].eq('India')][metrics].sum().add_prefix('India ')\n",
    "summary = {'updated': pd.to_datetime(dt_today), 'since': pd.to_datetime(dt_yday)}\n",
    "summary = {'updated': pd.to_datetime(dt_today), 'since': pd.to_datetime(dt_yday)}\n",
    "summary = {**summary, **df_table[metrics].sum(), **s_ind, **s_us, **s_eu}"
   ]
  },
  {
   "cell_type": "code",
   "execution_count": 18,
   "id": "engaging-syndrome",
   "metadata": {
    "execution": {
     "iopub.execute_input": "2022-03-25T00:32:54.115629Z",
     "iopub.status.busy": "2022-03-25T00:32:54.115022Z",
     "iopub.status.idle": "2022-03-25T00:32:54.133805Z",
     "shell.execute_reply": "2022-03-25T00:32:54.134329Z"
    },
    "papermill": {
     "duration": 0.063887,
     "end_time": "2022-03-25T00:32:54.134473",
     "exception": false,
     "start_time": "2022-03-25T00:32:54.070586",
     "status": "completed"
    },
    "tags": []
   },
   "outputs": [],
   "source": [
    "#hide\n",
    "dft_ct_new_cases = dft_cases.groupby(COL_REGION)[dt_cols].sum().diff(axis=1).fillna(0).astype(int)"
   ]
  },
  {
   "cell_type": "code",
   "execution_count": 19,
   "id": "neutral-assignment",
   "metadata": {
    "execution": {
     "iopub.execute_input": "2022-03-25T00:32:54.215259Z",
     "iopub.status.busy": "2022-03-25T00:32:54.214481Z",
     "iopub.status.idle": "2022-03-25T00:32:54.219102Z",
     "shell.execute_reply": "2022-03-25T00:32:54.219610Z"
    },
    "papermill": {
     "duration": 0.046738,
     "end_time": "2022-03-25T00:32:54.219840",
     "exception": false,
     "start_time": "2022-03-25T00:32:54.173102",
     "status": "completed"
    },
    "tags": []
   },
   "outputs": [],
   "source": [
    "#hide\n",
    "everydaycases = dft_ct_new_cases.cumsum(axis=1)"
   ]
  },
  {
   "cell_type": "code",
   "execution_count": 20,
   "id": "parliamentary-calgary",
   "metadata": {
    "execution": {
     "iopub.execute_input": "2022-03-25T00:32:54.301198Z",
     "iopub.status.busy": "2022-03-25T00:32:54.300541Z",
     "iopub.status.idle": "2022-03-25T00:32:54.976416Z",
     "shell.execute_reply": "2022-03-25T00:32:54.976973Z"
    },
    "papermill": {
     "duration": 0.719388,
     "end_time": "2022-03-25T00:32:54.977136",
     "exception": false,
     "start_time": "2022-03-25T00:32:54.257748",
     "status": "completed"
    },
    "tags": []
   },
   "outputs": [],
   "source": [
    "#hide\n",
    "import pandas as pd\n",
    "import matplotlib.pyplot as plt\n",
    "import matplotlib.ticker as ticker\n",
    "import matplotlib.animation as animation\n",
    "from IPython.display import HTML"
   ]
  },
  {
   "cell_type": "code",
   "execution_count": 21,
   "id": "lasting-extraction",
   "metadata": {
    "execution": {
     "iopub.execute_input": "2022-03-25T00:32:55.063377Z",
     "iopub.status.busy": "2022-03-25T00:32:55.062737Z",
     "iopub.status.idle": "2022-03-25T00:32:55.069397Z",
     "shell.execute_reply": "2022-03-25T00:32:55.069870Z"
    },
    "papermill": {
     "duration": 0.053224,
     "end_time": "2022-03-25T00:32:55.070011",
     "exception": false,
     "start_time": "2022-03-25T00:32:55.016787",
     "status": "completed"
    },
    "tags": []
   },
   "outputs": [],
   "source": [
    "#hide\n",
    "t = everydaycases.stack()"
   ]
  },
  {
   "cell_type": "code",
   "execution_count": 22,
   "id": "premier-sleeve",
   "metadata": {
    "execution": {
     "iopub.execute_input": "2022-03-25T00:32:55.147344Z",
     "iopub.status.busy": "2022-03-25T00:32:55.146742Z",
     "iopub.status.idle": "2022-03-25T00:32:55.157454Z",
     "shell.execute_reply": "2022-03-25T00:32:55.157969Z"
    },
    "papermill": {
     "duration": 0.051595,
     "end_time": "2022-03-25T00:32:55.158108",
     "exception": false,
     "start_time": "2022-03-25T00:32:55.106513",
     "status": "completed"
    },
    "tags": []
   },
   "outputs": [],
   "source": [
    "#hide\n",
    "g = t.reset_index(['Country/Region'])"
   ]
  },
  {
   "cell_type": "code",
   "execution_count": 23,
   "id": "distributed-pittsburgh",
   "metadata": {
    "execution": {
     "iopub.execute_input": "2022-03-25T00:32:55.235306Z",
     "iopub.status.busy": "2022-03-25T00:32:55.234583Z",
     "iopub.status.idle": "2022-03-25T00:32:55.238606Z",
     "shell.execute_reply": "2022-03-25T00:32:55.238064Z"
    },
    "papermill": {
     "duration": 0.044293,
     "end_time": "2022-03-25T00:32:55.238722",
     "exception": false,
     "start_time": "2022-03-25T00:32:55.194429",
     "status": "completed"
    },
    "tags": []
   },
   "outputs": [],
   "source": [
    "#hide\n",
    "g.index.name = 'date'"
   ]
  },
  {
   "cell_type": "code",
   "execution_count": 24,
   "id": "naked-donor",
   "metadata": {
    "execution": {
     "iopub.execute_input": "2022-03-25T00:32:55.316872Z",
     "iopub.status.busy": "2022-03-25T00:32:55.316113Z",
     "iopub.status.idle": "2022-03-25T00:32:55.318836Z",
     "shell.execute_reply": "2022-03-25T00:32:55.319368Z"
    },
    "papermill": {
     "duration": 0.043896,
     "end_time": "2022-03-25T00:32:55.319519",
     "exception": false,
     "start_time": "2022-03-25T00:32:55.275623",
     "status": "completed"
    },
    "tags": []
   },
   "outputs": [],
   "source": [
    "# #hide\n",
    "# g = g.reset_index(['date'])"
   ]
  },
  {
   "cell_type": "code",
   "execution_count": 25,
   "id": "incomplete-mustang",
   "metadata": {
    "execution": {
     "iopub.execute_input": "2022-03-25T00:32:55.398339Z",
     "iopub.status.busy": "2022-03-25T00:32:55.397653Z",
     "iopub.status.idle": "2022-03-25T00:32:55.400092Z",
     "shell.execute_reply": "2022-03-25T00:32:55.399496Z"
    },
    "papermill": {
     "duration": 0.041735,
     "end_time": "2022-03-25T00:32:55.400204",
     "exception": false,
     "start_time": "2022-03-25T00:32:55.358469",
     "status": "completed"
    },
    "tags": []
   },
   "outputs": [],
   "source": [
    "#hide\n",
    "# g.head()"
   ]
  },
  {
   "cell_type": "code",
   "execution_count": 26,
   "id": "specific-kruger",
   "metadata": {
    "execution": {
     "iopub.execute_input": "2022-03-25T00:32:55.477625Z",
     "iopub.status.busy": "2022-03-25T00:32:55.476818Z",
     "iopub.status.idle": "2022-03-25T00:32:55.479359Z",
     "shell.execute_reply": "2022-03-25T00:32:55.478827Z"
    },
    "papermill": {
     "duration": 0.042763,
     "end_time": "2022-03-25T00:32:55.479490",
     "exception": false,
     "start_time": "2022-03-25T00:32:55.436727",
     "status": "completed"
    },
    "tags": []
   },
   "outputs": [],
   "source": [
    "#hide\n",
    "# g.columns = ['date','country','cases']"
   ]
  },
  {
   "cell_type": "code",
   "execution_count": 27,
   "id": "tender-conversion",
   "metadata": {
    "execution": {
     "iopub.execute_input": "2022-03-25T00:32:55.558036Z",
     "iopub.status.busy": "2022-03-25T00:32:55.557329Z",
     "iopub.status.idle": "2022-03-25T00:32:55.561902Z",
     "shell.execute_reply": "2022-03-25T00:32:55.562367Z"
    },
    "papermill": {
     "duration": 0.04624,
     "end_time": "2022-03-25T00:32:55.562492",
     "exception": false,
     "start_time": "2022-03-25T00:32:55.516252",
     "status": "completed"
    },
    "tags": []
   },
   "outputs": [],
   "source": [
    "#hide\n",
    "# g['continent'] = g.country"
   ]
  },
  {
   "cell_type": "code",
   "execution_count": 28,
   "id": "substantial-wilderness",
   "metadata": {
    "execution": {
     "iopub.execute_input": "2022-03-25T00:32:55.641851Z",
     "iopub.status.busy": "2022-03-25T00:32:55.641238Z",
     "iopub.status.idle": "2022-03-25T00:32:55.644932Z",
     "shell.execute_reply": "2022-03-25T00:32:55.645500Z"
    },
    "papermill": {
     "duration": 0.045448,
     "end_time": "2022-03-25T00:32:55.645682",
     "exception": false,
     "start_time": "2022-03-25T00:32:55.600234",
     "status": "completed"
    },
    "tags": []
   },
   "outputs": [],
   "source": [
    "#hide\n",
    "# cols = list(g.columns.values)"
   ]
  },
  {
   "cell_type": "code",
   "execution_count": 29,
   "id": "solved-farming",
   "metadata": {
    "execution": {
     "iopub.execute_input": "2022-03-25T00:32:55.726923Z",
     "iopub.status.busy": "2022-03-25T00:32:55.726290Z",
     "iopub.status.idle": "2022-03-25T00:32:55.728697Z",
     "shell.execute_reply": "2022-03-25T00:32:55.728079Z"
    },
    "papermill": {
     "duration": 0.044054,
     "end_time": "2022-03-25T00:32:55.728812",
     "exception": false,
     "start_time": "2022-03-25T00:32:55.684758",
     "status": "completed"
    },
    "tags": []
   },
   "outputs": [],
   "source": [
    "#hide\n",
    "# cols.insert(0, cols.pop())"
   ]
  },
  {
   "cell_type": "code",
   "execution_count": 30,
   "id": "executed-adoption",
   "metadata": {
    "execution": {
     "iopub.execute_input": "2022-03-25T00:32:55.808384Z",
     "iopub.status.busy": "2022-03-25T00:32:55.807672Z",
     "iopub.status.idle": "2022-03-25T00:32:55.810434Z",
     "shell.execute_reply": "2022-03-25T00:32:55.811017Z"
    },
    "papermill": {
     "duration": 0.043584,
     "end_time": "2022-03-25T00:32:55.811143",
     "exception": false,
     "start_time": "2022-03-25T00:32:55.767559",
     "status": "completed"
    },
    "tags": []
   },
   "outputs": [],
   "source": [
    "#hide\n",
    "# g = g[cols]"
   ]
  },
  {
   "cell_type": "code",
   "execution_count": 31,
   "id": "subject-dublin",
   "metadata": {
    "execution": {
     "iopub.execute_input": "2022-03-25T00:32:55.895692Z",
     "iopub.status.busy": "2022-03-25T00:32:55.895028Z",
     "iopub.status.idle": "2022-03-25T00:32:55.897673Z",
     "shell.execute_reply": "2022-03-25T00:32:55.897058Z"
    },
    "papermill": {
     "duration": 0.045372,
     "end_time": "2022-03-25T00:32:55.897791",
     "exception": false,
     "start_time": "2022-03-25T00:32:55.852419",
     "status": "completed"
    },
    "tags": []
   },
   "outputs": [],
   "source": [
    "#hide\n",
    "# g['continent'] = g['continent'].map(mapping['map.continent'])"
   ]
  },
  {
   "cell_type": "code",
   "execution_count": 32,
   "id": "freelance-scout",
   "metadata": {
    "execution": {
     "iopub.execute_input": "2022-03-25T00:32:55.977791Z",
     "iopub.status.busy": "2022-03-25T00:32:55.977154Z",
     "iopub.status.idle": "2022-03-25T00:32:55.980877Z",
     "shell.execute_reply": "2022-03-25T00:32:55.981345Z"
    },
    "papermill": {
     "duration": 0.044046,
     "end_time": "2022-03-25T00:32:55.981491",
     "exception": false,
     "start_time": "2022-03-25T00:32:55.937445",
     "status": "completed"
    },
    "tags": []
   },
   "outputs": [],
   "source": [
    "#hide\n",
    "# g.head()"
   ]
  },
  {
   "cell_type": "code",
   "execution_count": 33,
   "id": "limited-engine",
   "metadata": {
    "execution": {
     "iopub.execute_input": "2022-03-25T00:32:56.060349Z",
     "iopub.status.busy": "2022-03-25T00:32:56.059740Z",
     "iopub.status.idle": "2022-03-25T00:32:56.063031Z",
     "shell.execute_reply": "2022-03-25T00:32:56.062438Z"
    },
    "papermill": {
     "duration": 0.044041,
     "end_time": "2022-03-25T00:32:56.063140",
     "exception": false,
     "start_time": "2022-03-25T00:32:56.019099",
     "status": "completed"
    },
    "tags": []
   },
   "outputs": [],
   "source": [
    "# hide\n",
    "# g['date'] = g['date'].astype('datetime64[ns]')"
   ]
  },
  {
   "cell_type": "code",
   "execution_count": 34,
   "id": "sophisticated-supervisor",
   "metadata": {
    "execution": {
     "iopub.execute_input": "2022-03-25T00:32:56.143348Z",
     "iopub.status.busy": "2022-03-25T00:32:56.142754Z",
     "iopub.status.idle": "2022-03-25T00:32:56.145330Z",
     "shell.execute_reply": "2022-03-25T00:32:56.144844Z"
    },
    "papermill": {
     "duration": 0.043817,
     "end_time": "2022-03-25T00:32:56.145440",
     "exception": false,
     "start_time": "2022-03-25T00:32:56.101623",
     "status": "completed"
    },
    "tags": []
   },
   "outputs": [],
   "source": [
    "#hide\n",
    "# g['date'] = g.date.dt.dayofyear"
   ]
  },
  {
   "cell_type": "code",
   "execution_count": 35,
   "id": "inside-dubai",
   "metadata": {
    "execution": {
     "iopub.execute_input": "2022-03-25T00:32:56.226351Z",
     "iopub.status.busy": "2022-03-25T00:32:56.225577Z",
     "iopub.status.idle": "2022-03-25T00:32:56.228412Z",
     "shell.execute_reply": "2022-03-25T00:32:56.227659Z"
    },
    "papermill": {
     "duration": 0.04427,
     "end_time": "2022-03-25T00:32:56.228551",
     "exception": false,
     "start_time": "2022-03-25T00:32:56.184281",
     "status": "completed"
    },
    "tags": []
   },
   "outputs": [],
   "source": [
    "#hide\n",
    "# g = g.rename(columns= {'continent':'group','country':'name','cases':'value'})"
   ]
  },
  {
   "cell_type": "code",
   "execution_count": 36,
   "id": "fleet-motorcycle",
   "metadata": {
    "execution": {
     "iopub.execute_input": "2022-03-25T00:32:56.310424Z",
     "iopub.status.busy": "2022-03-25T00:32:56.309790Z",
     "iopub.status.idle": "2022-03-25T00:32:56.312069Z",
     "shell.execute_reply": "2022-03-25T00:32:56.312523Z"
    },
    "papermill": {
     "duration": 0.043678,
     "end_time": "2022-03-25T00:32:56.312672",
     "exception": false,
     "start_time": "2022-03-25T00:32:56.268994",
     "status": "completed"
    },
    "tags": []
   },
   "outputs": [],
   "source": [
    "#hide\n",
    "# cols = ['name','group','day','value']"
   ]
  },
  {
   "cell_type": "code",
   "execution_count": 37,
   "id": "continued-sleeping",
   "metadata": {
    "execution": {
     "iopub.execute_input": "2022-03-25T00:32:56.395116Z",
     "iopub.status.busy": "2022-03-25T00:32:56.394366Z",
     "iopub.status.idle": "2022-03-25T00:32:56.396191Z",
     "shell.execute_reply": "2022-03-25T00:32:56.396849Z"
    },
    "papermill": {
     "duration": 0.044802,
     "end_time": "2022-03-25T00:32:56.396985",
     "exception": false,
     "start_time": "2022-03-25T00:32:56.352183",
     "status": "completed"
    },
    "tags": []
   },
   "outputs": [],
   "source": [
    "#hide\n",
    "# g.rename(columns= {'date':'day'},inplace = True)"
   ]
  },
  {
   "cell_type": "code",
   "execution_count": 38,
   "id": "major-fight",
   "metadata": {
    "execution": {
     "iopub.execute_input": "2022-03-25T00:32:56.478424Z",
     "iopub.status.busy": "2022-03-25T00:32:56.477818Z",
     "iopub.status.idle": "2022-03-25T00:32:56.479977Z",
     "shell.execute_reply": "2022-03-25T00:32:56.480468Z"
    },
    "papermill": {
     "duration": 0.044065,
     "end_time": "2022-03-25T00:32:56.480620",
     "exception": false,
     "start_time": "2022-03-25T00:32:56.436555",
     "status": "completed"
    },
    "tags": []
   },
   "outputs": [],
   "source": [
    "#hide\n",
    "# g = g[cols]"
   ]
  },
  {
   "cell_type": "code",
   "execution_count": 39,
   "id": "structured-mobile",
   "metadata": {
    "execution": {
     "iopub.execute_input": "2022-03-25T00:32:56.561358Z",
     "iopub.status.busy": "2022-03-25T00:32:56.560745Z",
     "iopub.status.idle": "2022-03-25T00:32:56.565648Z",
     "shell.execute_reply": "2022-03-25T00:32:56.566195Z"
    },
    "papermill": {
     "duration": 0.047896,
     "end_time": "2022-03-25T00:32:56.566345",
     "exception": false,
     "start_time": "2022-03-25T00:32:56.518449",
     "status": "completed"
    },
    "tags": []
   },
   "outputs": [],
   "source": [
    "# #hide\n",
    "# g = g[g.group.notna()]"
   ]
  },
  {
   "cell_type": "code",
   "execution_count": 40,
   "id": "determined-closing",
   "metadata": {
    "execution": {
     "iopub.execute_input": "2022-03-25T00:32:56.659468Z",
     "iopub.status.busy": "2022-03-25T00:32:56.658818Z",
     "iopub.status.idle": "2022-03-25T00:32:56.661111Z",
     "shell.execute_reply": "2022-03-25T00:32:56.660616Z"
    },
    "papermill": {
     "duration": 0.054041,
     "end_time": "2022-03-25T00:32:56.661225",
     "exception": false,
     "start_time": "2022-03-25T00:32:56.607184",
     "status": "completed"
    },
    "tags": []
   },
   "outputs": [],
   "source": [
    "# #hide\n",
    "# colors = dict(zip(\n",
    "#     [\"Oceania\", \"Europe\", \"Asia\", \"South America\", \"Middle East\", \"North America\", \"Africa\"],\n",
    "#     [\"#adb0ff\", \"#ffb3ff\", \"#90d595\", \"#e48381\", \"#aafbff\", \"#f7bb5f\", \"#eafb50\"]\n",
    "# ))\n",
    "# group_lk = g.set_index('name')['group'].to_dict()"
   ]
  },
  {
   "cell_type": "code",
   "execution_count": null,
   "id": "gross-drinking",
   "metadata": {
    "papermill": {
     "duration": 0.037183,
     "end_time": "2022-03-25T00:32:56.736835",
     "exception": false,
     "start_time": "2022-03-25T00:32:56.699652",
     "status": "completed"
    },
    "tags": []
   },
   "outputs": [],
   "source": []
  },
  {
   "cell_type": "code",
   "execution_count": 41,
   "id": "subject-macintosh",
   "metadata": {
    "execution": {
     "iopub.execute_input": "2022-03-25T00:32:56.813503Z",
     "iopub.status.busy": "2022-03-25T00:32:56.812907Z",
     "iopub.status.idle": "2022-03-25T00:32:56.815410Z",
     "shell.execute_reply": "2022-03-25T00:32:56.814761Z"
    },
    "papermill": {
     "duration": 0.042627,
     "end_time": "2022-03-25T00:32:56.815601",
     "exception": false,
     "start_time": "2022-03-25T00:32:56.772974",
     "status": "completed"
    },
    "tags": []
   },
   "outputs": [],
   "source": [
    "# #hide\n",
    "# fig, ax = plt.subplots(figsize=(15, 8))\n",
    "\n",
    "# def draw_barchart(current_day):\n",
    "#     dff = g[g['day'].eq(current_day)].sort_values(by='value', ascending=True).tail(10)\n",
    "#     ax.clear()\n",
    "#     ax.barh(dff['name'], dff['value'], color=[colors[group_lk[x]] for x in dff['name']])\n",
    "#     dx = dff['value'].max() / 200\n",
    "    \n",
    "#     for i, (value, name) in enumerate(zip(dff['value'], dff['name'])):\n",
    "#         ax.text(value-dx, i,     name,           size=14, weight=600, ha='right', va='bottom')\n",
    "#         ax.text(value-dx, i-.25, group_lk[name], size=10, color='#444444', ha='right', va='baseline')\n",
    "#         ax.text(value+dx, i,     f'{value:,.0f}',  size=14, ha='left',  va='center')\n",
    "#     ax.text(1, 0.4, current_day, transform=ax.transAxes, color='#777777', size=46, ha='right', weight=800)\n",
    "#     ax.text(0, 1.06, 'Population (thousands)', transform=ax.transAxes, size=12, color='#777777')\n",
    "#     ax.xaxis.set_major_formatter(ticker.StrMethodFormatter('{x:,.0f}'))\n",
    "#     ax.xaxis.set_ticks_position('top')\n",
    "#     ax.tick_params(axis='x', colors='#777777', labelsize=12)\n",
    "#     ax.set_yticks([])\n",
    "#     ax.margins(0, 0.01)\n",
    "#     ax.grid(which='major', axis='x', linestyle='-')\n",
    "#     ax.set_axisbelow(True)\n",
    "    \n",
    "#     ax.text(0, 1.15, 'Coronavirus',\n",
    "#             transform=ax.transAxes, size=24, weight=600, ha='left', va='top')\n",
    "# #     ax.text(1, 0, 'by @pratapvardhan; credit @jburnmurdoch', transform=ax.transAxes, color='#777777', ha='right',\n",
    "# #             bbox=dict(facecolor='white', alpha=0.8, edgecolor='white'))\n",
    "#     plt.box(False)"
   ]
  },
  {
   "cell_type": "code",
   "execution_count": 42,
   "id": "sexual-wages",
   "metadata": {
    "execution": {
     "iopub.execute_input": "2022-03-25T00:32:56.895066Z",
     "iopub.status.busy": "2022-03-25T00:32:56.894411Z",
     "iopub.status.idle": "2022-03-25T00:32:56.897091Z",
     "shell.execute_reply": "2022-03-25T00:32:56.897903Z"
    },
    "papermill": {
     "duration": 0.044604,
     "end_time": "2022-03-25T00:32:56.898061",
     "exception": false,
     "start_time": "2022-03-25T00:32:56.853457",
     "status": "completed"
    },
    "tags": []
   },
   "outputs": [],
   "source": [
    "# #hide_input\n",
    "# fig, ax = plt.subplots(figsize=(15, 8))\n",
    "# animator = animation.FuncAnimation(fig, draw_barchart, frames=range(g.day.values.min(), g.day.values.max()))\n",
    "# HTML(animator.to_jshtml())\n",
    "# # or use animator.to_html5_video() or animator.save() "
   ]
  },
  {
   "cell_type": "code",
   "execution_count": null,
   "id": "australian-container",
   "metadata": {
    "papermill": {
     "duration": 0.03711,
     "end_time": "2022-03-25T00:32:56.972274",
     "exception": false,
     "start_time": "2022-03-25T00:32:56.935164",
     "status": "completed"
    },
    "tags": []
   },
   "outputs": [],
   "source": []
  },
  {
   "cell_type": "code",
   "execution_count": null,
   "id": "mediterranean-pontiac",
   "metadata": {
    "papermill": {
     "duration": 0.037828,
     "end_time": "2022-03-25T00:32:57.049968",
     "exception": false,
     "start_time": "2022-03-25T00:32:57.012140",
     "status": "completed"
    },
    "tags": []
   },
   "outputs": [],
   "source": []
  },
  {
   "cell_type": "code",
   "execution_count": null,
   "id": "aging-legislature",
   "metadata": {
    "papermill": {
     "duration": 0.039574,
     "end_time": "2022-03-25T00:32:57.128634",
     "exception": false,
     "start_time": "2022-03-25T00:32:57.089060",
     "status": "completed"
    },
    "tags": []
   },
   "outputs": [],
   "source": []
  }
 ],
 "metadata": {
  "kernelspec": {
   "display_name": "Python 3",
   "language": "python",
   "name": "python3"
  },
  "language_info": {
   "codemirror_mode": {
    "name": "ipython",
    "version": 3
   },
   "file_extension": ".py",
   "mimetype": "text/x-python",
   "name": "python",
   "nbconvert_exporter": "python",
   "pygments_lexer": "ipython3",
   "version": "3.6.15"
  },
  "papermill": {
   "duration": 7.14305,
   "end_time": "2022-03-25T00:32:57.484984",
   "environment_variables": {},
   "exception": null,
   "input_path": "2020-03-21-covid19exp.ipynb",
   "output_path": "2020-03-21-covid19exp.ipynb",
   "parameters": {},
   "start_time": "2022-03-25T00:32:50.341934",
   "version": "2.0.0"
  }
 },
 "nbformat": 4,
 "nbformat_minor": 5
}