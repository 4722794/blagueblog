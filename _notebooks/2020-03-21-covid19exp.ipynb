{
 "cells": [
  {
   "cell_type": "markdown",
   "id": "muslim-click",
   "metadata": {
    "papermill": {
     "duration": 0.029284,
     "end_time": "2022-07-07T00:47:57.705690",
     "exception": false,
     "start_time": "2022-07-07T00:47:57.676406",
     "status": "completed"
    },
    "tags": []
   },
   "source": [
    "# COVID-19 Case Race\n",
    "> A race chart to see rising cases around the world\n",
    "\n",
    "- author: Hargun Oberoi\n",
    "- image: images/covid-overview.png\n",
    "- hide: false\n",
    "- badges: false"
   ]
  },
  {
   "cell_type": "code",
   "execution_count": 1,
   "id": "proof-material",
   "metadata": {
    "execution": {
     "iopub.execute_input": "2022-07-07T00:47:57.767761Z",
     "iopub.status.busy": "2022-07-07T00:47:57.767134Z",
     "iopub.status.idle": "2022-07-07T00:47:58.114081Z",
     "shell.execute_reply": "2022-07-07T00:47:58.114543Z"
    },
    "papermill": {
     "duration": 0.381642,
     "end_time": "2022-07-07T00:47:58.114699",
     "exception": false,
     "start_time": "2022-07-07T00:47:57.733057",
     "status": "completed"
    },
    "tags": []
   },
   "outputs": [],
   "source": [
    "#hide\n",
    "import numpy as np\n",
    "import pandas as pd\n",
    "from jinja2 import Template\n",
    "from IPython.display import HTML"
   ]
  },
  {
   "cell_type": "code",
   "execution_count": 2,
   "id": "developed-terminology",
   "metadata": {
    "execution": {
     "iopub.execute_input": "2022-07-07T00:47:58.171956Z",
     "iopub.status.busy": "2022-07-07T00:47:58.171111Z",
     "iopub.status.idle": "2022-07-07T00:47:58.174007Z",
     "shell.execute_reply": "2022-07-07T00:47:58.173575Z"
    },
    "papermill": {
     "duration": 0.033017,
     "end_time": "2022-07-07T00:47:58.174104",
     "exception": false,
     "start_time": "2022-07-07T00:47:58.141087",
     "status": "completed"
    },
    "tags": []
   },
   "outputs": [],
   "source": [
    "#hide\n",
    "\n",
    "# FETCH\n",
    "base_url = 'https://raw.githubusercontent.com/pratapvardhan/notebooks/master/covid19/'\n",
    "paths = {\n",
    "    'mapping': base_url + 'mapping_countries.csv',\n",
    "    'overview': base_url + 'overview.tpl'\n",
    "}"
   ]
  },
  {
   "cell_type": "code",
   "execution_count": 3,
   "id": "dynamic-saver",
   "metadata": {
    "execution": {
     "iopub.execute_input": "2022-07-07T00:47:58.234622Z",
     "iopub.status.busy": "2022-07-07T00:47:58.233725Z",
     "iopub.status.idle": "2022-07-07T00:47:58.237767Z",
     "shell.execute_reply": "2022-07-07T00:47:58.237327Z"
    },
    "papermill": {
     "duration": 0.038019,
     "end_time": "2022-07-07T00:47:58.237860",
     "exception": false,
     "start_time": "2022-07-07T00:47:58.199841",
     "status": "completed"
    },
    "tags": []
   },
   "outputs": [
    {
     "data": {
      "text/plain": [
       "'https://raw.githubusercontent.com/pratapvardhan/notebooks/master/covid19/mapping_countries.csv'"
      ]
     },
     "execution_count": 3,
     "metadata": {},
     "output_type": "execute_result"
    }
   ],
   "source": [
    "#hide\n",
    "paths['mapping']"
   ]
  },
  {
   "cell_type": "code",
   "execution_count": 4,
   "id": "urban-software",
   "metadata": {
    "execution": {
     "iopub.execute_input": "2022-07-07T00:47:58.294535Z",
     "iopub.status.busy": "2022-07-07T00:47:58.293879Z",
     "iopub.status.idle": "2022-07-07T00:47:58.296394Z",
     "shell.execute_reply": "2022-07-07T00:47:58.296758Z"
    },
    "papermill": {
     "duration": 0.032991,
     "end_time": "2022-07-07T00:47:58.296882",
     "exception": false,
     "start_time": "2022-07-07T00:47:58.263891",
     "status": "completed"
    },
    "tags": []
   },
   "outputs": [],
   "source": [
    "#hide\n",
    "def get_mappings(url):\n",
    "    df = pd.read_csv(url)\n",
    "    return {\n",
    "        'df': df,\n",
    "        'replace.country': dict(df.dropna(subset=['Name']).set_index('Country')['Name']),\n",
    "        'map.continent': dict(df.set_index('Name')['Continent'])\n",
    "    }"
   ]
  },
  {
   "cell_type": "code",
   "execution_count": 5,
   "id": "intimate-machinery",
   "metadata": {
    "execution": {
     "iopub.execute_input": "2022-07-07T00:47:58.353803Z",
     "iopub.status.busy": "2022-07-07T00:47:58.352944Z",
     "iopub.status.idle": "2022-07-07T00:47:58.416566Z",
     "shell.execute_reply": "2022-07-07T00:47:58.416017Z"
    },
    "papermill": {
     "duration": 0.094055,
     "end_time": "2022-07-07T00:47:58.416671",
     "exception": false,
     "start_time": "2022-07-07T00:47:58.322616",
     "status": "completed"
    },
    "tags": []
   },
   "outputs": [],
   "source": [
    "#hide\n",
    "mapping = get_mappings(paths['mapping'])"
   ]
  },
  {
   "cell_type": "code",
   "execution_count": 6,
   "id": "certified-tactics",
   "metadata": {
    "execution": {
     "iopub.execute_input": "2022-07-07T00:47:58.473819Z",
     "iopub.status.busy": "2022-07-07T00:47:58.473137Z",
     "iopub.status.idle": "2022-07-07T00:47:58.475646Z",
     "shell.execute_reply": "2022-07-07T00:47:58.476054Z"
    },
    "papermill": {
     "duration": 0.033087,
     "end_time": "2022-07-07T00:47:58.476165",
     "exception": false,
     "start_time": "2022-07-07T00:47:58.443078",
     "status": "completed"
    },
    "tags": []
   },
   "outputs": [],
   "source": [
    "#hide\n",
    "def get_template(path):\n",
    "    from urllib.parse import urlparse\n",
    "    if bool(urlparse(path).netloc):\n",
    "        from urllib.request import urlopen\n",
    "        return urlopen(path).read().decode('utf8')\n",
    "    return open(path).read()"
   ]
  },
  {
   "cell_type": "code",
   "execution_count": 7,
   "id": "realistic-blast",
   "metadata": {
    "execution": {
     "iopub.execute_input": "2022-07-07T00:47:58.532540Z",
     "iopub.status.busy": "2022-07-07T00:47:58.531799Z",
     "iopub.status.idle": "2022-07-07T00:47:58.534650Z",
     "shell.execute_reply": "2022-07-07T00:47:58.534229Z"
    },
    "papermill": {
     "duration": 0.032866,
     "end_time": "2022-07-07T00:47:58.534743",
     "exception": false,
     "start_time": "2022-07-07T00:47:58.501877",
     "status": "completed"
    },
    "tags": []
   },
   "outputs": [],
   "source": [
    "#hide\n",
    "def get_frame(name):\n",
    "    url = (\n",
    "        'https://raw.githubusercontent.com/CSSEGISandData/COVID-19/master/csse_covid_19_data/'\n",
    "        f'csse_covid_19_time_series/time_series_covid19_{name}_global.csv')\n",
    "    df = pd.read_csv(url)\n",
    "    # rename countries\n",
    "    df['Country/Region'] = df['Country/Region'].replace(mapping['replace.country'])\n",
    "    return df"
   ]
  },
  {
   "cell_type": "code",
   "execution_count": 8,
   "id": "affiliated-characterization",
   "metadata": {
    "execution": {
     "iopub.execute_input": "2022-07-07T00:47:58.592416Z",
     "iopub.status.busy": "2022-07-07T00:47:58.591680Z",
     "iopub.status.idle": "2022-07-07T00:47:58.594056Z",
     "shell.execute_reply": "2022-07-07T00:47:58.594459Z"
    },
    "papermill": {
     "duration": 0.03371,
     "end_time": "2022-07-07T00:47:58.594568",
     "exception": false,
     "start_time": "2022-07-07T00:47:58.560858",
     "status": "completed"
    },
    "tags": []
   },
   "outputs": [],
   "source": [
    "#hide\n",
    "def get_dates(df):\n",
    "    dt_cols = df.columns[~df.columns.isin(['Province/State', 'Country/Region', 'Lat', 'Long'])]\n",
    "    LAST_DATE_I = -1\n",
    "    # sometimes last column may be empty, then go backwards\n",
    "    for i in range(-1, -len(dt_cols), -1):\n",
    "        if not df[dt_cols[i]].fillna(0).eq(0).all():\n",
    "            LAST_DATE_I = i\n",
    "            break\n",
    "    return LAST_DATE_I, dt_cols"
   ]
  },
  {
   "cell_type": "code",
   "execution_count": 9,
   "id": "recent-optimization",
   "metadata": {
    "execution": {
     "iopub.execute_input": "2022-07-07T00:47:58.651452Z",
     "iopub.status.busy": "2022-07-07T00:47:58.650881Z",
     "iopub.status.idle": "2022-07-07T00:47:59.246470Z",
     "shell.execute_reply": "2022-07-07T00:47:59.246911Z"
    },
    "papermill": {
     "duration": 0.626603,
     "end_time": "2022-07-07T00:47:59.247045",
     "exception": false,
     "start_time": "2022-07-07T00:47:58.620442",
     "status": "completed"
    },
    "tags": []
   },
   "outputs": [],
   "source": [
    "#hide\n",
    "COL_REGION = 'Country/Region'\n",
    "# Confirmed, Recovered, Deaths\n",
    "df = get_frame('confirmed')\n",
    "# dft_: timeseries, dfc_: today country agg\n",
    "dft_cases = df\n",
    "dft_deaths = get_frame('deaths')\n",
    "dft_recovered = get_frame('recovered')\n",
    "LAST_DATE_I, dt_cols = get_dates(df)"
   ]
  },
  {
   "cell_type": "code",
   "execution_count": 10,
   "id": "absolute-copper",
   "metadata": {
    "execution": {
     "iopub.execute_input": "2022-07-07T00:47:59.305907Z",
     "iopub.status.busy": "2022-07-07T00:47:59.305123Z",
     "iopub.status.idle": "2022-07-07T00:47:59.308024Z",
     "shell.execute_reply": "2022-07-07T00:47:59.307480Z"
    },
    "papermill": {
     "duration": 0.034492,
     "end_time": "2022-07-07T00:47:59.308132",
     "exception": false,
     "start_time": "2022-07-07T00:47:59.273640",
     "status": "completed"
    },
    "tags": []
   },
   "outputs": [],
   "source": [
    "#hide\n",
    "LAST_DATE_I, dt_cols = get_dates(df)\n",
    "dt_today =dt_cols[LAST_DATE_I]\n",
    "# dt_5day = dt_cols[LAST_DATE_I - 5]\n",
    "dt_yday = dt_cols[LAST_DATE_I - 1]"
   ]
  },
  {
   "cell_type": "code",
   "execution_count": 11,
   "id": "restricted-sheriff",
   "metadata": {
    "execution": {
     "iopub.execute_input": "2022-07-07T00:47:59.365853Z",
     "iopub.status.busy": "2022-07-07T00:47:59.364945Z",
     "iopub.status.idle": "2022-07-07T00:47:59.372441Z",
     "shell.execute_reply": "2022-07-07T00:47:59.372955Z"
    },
    "papermill": {
     "duration": 0.038967,
     "end_time": "2022-07-07T00:47:59.373071",
     "exception": false,
     "start_time": "2022-07-07T00:47:59.334104",
     "status": "completed"
    },
    "tags": []
   },
   "outputs": [],
   "source": [
    "#hide\n",
    "dfc_cases = dft_cases.groupby(COL_REGION)[dt_today].sum()\n",
    "dfc_deaths = dft_deaths.groupby(COL_REGION)[dt_today].sum()\n",
    "# dfp_cases = dft_cases.groupby(COL_REGION)[dt_5day].sum()\n",
    "# dfp_deaths = dft_deaths.groupby(COL_REGION)[dt_5day].sum()\n",
    "dfp_cases = dft_cases.groupby(COL_REGION)[dt_yday].sum()\n",
    "dfp_deaths = dft_deaths.groupby(COL_REGION)[dt_yday].sum()"
   ]
  },
  {
   "cell_type": "code",
   "execution_count": 12,
   "id": "deluxe-hepatitis",
   "metadata": {
    "execution": {
     "iopub.execute_input": "2022-07-07T00:47:59.431207Z",
     "iopub.status.busy": "2022-07-07T00:47:59.430321Z",
     "iopub.status.idle": "2022-07-07T00:47:59.434928Z",
     "shell.execute_reply": "2022-07-07T00:47:59.435444Z"
    },
    "papermill": {
     "duration": 0.036736,
     "end_time": "2022-07-07T00:47:59.435558",
     "exception": false,
     "start_time": "2022-07-07T00:47:59.398822",
     "status": "completed"
    },
    "tags": []
   },
   "outputs": [],
   "source": [
    "#hide\n",
    "df_table = (pd.DataFrame(dict(Cases = dfc_cases, Deaths = dfc_deaths, PCases = dfp_cases, PDeaths = dfp_deaths))\n",
    "            .sort_values(by = ['Cases','Deaths'], ascending = [False, False])\n",
    "            .reset_index())"
   ]
  },
  {
   "cell_type": "code",
   "execution_count": 13,
   "id": "educational-chancellor",
   "metadata": {
    "execution": {
     "iopub.execute_input": "2022-07-07T00:47:59.503672Z",
     "iopub.status.busy": "2022-07-07T00:47:59.502750Z",
     "iopub.status.idle": "2022-07-07T00:47:59.511025Z",
     "shell.execute_reply": "2022-07-07T00:47:59.510592Z"
    },
    "papermill": {
     "duration": 0.049703,
     "end_time": "2022-07-07T00:47:59.511126",
     "exception": false,
     "start_time": "2022-07-07T00:47:59.461423",
     "status": "completed"
    },
    "tags": []
   },
   "outputs": [
    {
     "data": {
      "text/html": [
       "<div>\n",
       "<style scoped>\n",
       "    .dataframe tbody tr th:only-of-type {\n",
       "        vertical-align: middle;\n",
       "    }\n",
       "\n",
       "    .dataframe tbody tr th {\n",
       "        vertical-align: top;\n",
       "    }\n",
       "\n",
       "    .dataframe thead th {\n",
       "        text-align: right;\n",
       "    }\n",
       "</style>\n",
       "<table border=\"1\" class=\"dataframe\">\n",
       "  <thead>\n",
       "    <tr style=\"text-align: right;\">\n",
       "      <th></th>\n",
       "      <th>Country/Region</th>\n",
       "      <th>Cases</th>\n",
       "      <th>Deaths</th>\n",
       "      <th>PCases</th>\n",
       "      <th>PDeaths</th>\n",
       "      <th>Cases (+)</th>\n",
       "      <th>Deaths (+)</th>\n",
       "      <th>Fatality Rate</th>\n",
       "      <th>Continent</th>\n",
       "    </tr>\n",
       "  </thead>\n",
       "  <tbody>\n",
       "    <tr>\n",
       "      <th>0</th>\n",
       "      <td>US</td>\n",
       "      <td>88066096</td>\n",
       "      <td>1018349</td>\n",
       "      <td>87886589</td>\n",
       "      <td>1017915</td>\n",
       "      <td>179507</td>\n",
       "      <td>434</td>\n",
       "      <td>1.16</td>\n",
       "      <td>North America</td>\n",
       "    </tr>\n",
       "    <tr>\n",
       "      <th>1</th>\n",
       "      <td>India</td>\n",
       "      <td>43547809</td>\n",
       "      <td>525270</td>\n",
       "      <td>43531650</td>\n",
       "      <td>525242</td>\n",
       "      <td>16159</td>\n",
       "      <td>28</td>\n",
       "      <td>1.21</td>\n",
       "      <td>Asia</td>\n",
       "    </tr>\n",
       "    <tr>\n",
       "      <th>2</th>\n",
       "      <td>Brazil</td>\n",
       "      <td>32610514</td>\n",
       "      <td>672429</td>\n",
       "      <td>32535923</td>\n",
       "      <td>672033</td>\n",
       "      <td>74591</td>\n",
       "      <td>396</td>\n",
       "      <td>2.06</td>\n",
       "      <td>South America</td>\n",
       "    </tr>\n",
       "    <tr>\n",
       "      <th>3</th>\n",
       "      <td>France</td>\n",
       "      <td>31861391</td>\n",
       "      <td>150840</td>\n",
       "      <td>31653749</td>\n",
       "      <td>150765</td>\n",
       "      <td>207642</td>\n",
       "      <td>75</td>\n",
       "      <td>0.47</td>\n",
       "      <td>Europe</td>\n",
       "    </tr>\n",
       "    <tr>\n",
       "      <th>4</th>\n",
       "      <td>Germany</td>\n",
       "      <td>28673212</td>\n",
       "      <td>141519</td>\n",
       "      <td>28542484</td>\n",
       "      <td>141397</td>\n",
       "      <td>130728</td>\n",
       "      <td>122</td>\n",
       "      <td>0.49</td>\n",
       "      <td>Europe</td>\n",
       "    </tr>\n",
       "  </tbody>\n",
       "</table>\n",
       "</div>"
      ],
      "text/plain": [
       "  Country/Region     Cases   Deaths    PCases  PDeaths  Cases (+)  Deaths (+)  \\\n",
       "0             US  88066096  1018349  87886589  1017915     179507         434   \n",
       "1          India  43547809   525270  43531650   525242      16159          28   \n",
       "2         Brazil  32610514   672429  32535923   672033      74591         396   \n",
       "3         France  31861391   150840  31653749   150765     207642          75   \n",
       "4        Germany  28673212   141519  28542484   141397     130728         122   \n",
       "\n",
       "   Fatality Rate      Continent  \n",
       "0           1.16  North America  \n",
       "1           1.21           Asia  \n",
       "2           2.06  South America  \n",
       "3           0.47         Europe  \n",
       "4           0.49         Europe  "
      ]
     },
     "execution_count": 13,
     "metadata": {},
     "output_type": "execute_result"
    }
   ],
   "source": [
    "#hide\n",
    "for c in 'Cases, Deaths'.split(', '):\n",
    "    df_table[f'{c} (+)'] = (df_table[c] - df_table[f'P{c}']).clip(0)\n",
    "    #Clip ça veut dire, les chiffres negatif sont interdit\n",
    "df_table['Fatality Rate'] = (100* df_table['Deaths']/ df_table['Cases']).round(2)\n",
    "df_table['Continent'] = df_table['Country/Region'].map(mapping['map.continent'])\n",
    "df_table.head(5)"
   ]
  },
  {
   "cell_type": "code",
   "execution_count": 14,
   "id": "aboriginal-bulgaria",
   "metadata": {
    "execution": {
     "iopub.execute_input": "2022-07-07T00:47:59.569758Z",
     "iopub.status.busy": "2022-07-07T00:47:59.568858Z",
     "iopub.status.idle": "2022-07-07T00:47:59.572659Z",
     "shell.execute_reply": "2022-07-07T00:47:59.572234Z"
    },
    "papermill": {
     "duration": 0.034985,
     "end_time": "2022-07-07T00:47:59.572757",
     "exception": false,
     "start_time": "2022-07-07T00:47:59.537772",
     "status": "completed"
    },
    "tags": []
   },
   "outputs": [],
   "source": [
    "#hide\n",
    "#delete problematic countries from table\n",
    "df_table = df_table[~df_table['Country/Region'].isin(['Cape Verde', 'Cruise Ship', 'Kosovo'])]"
   ]
  },
  {
   "cell_type": "code",
   "execution_count": 15,
   "id": "fantastic-effect",
   "metadata": {
    "execution": {
     "iopub.execute_input": "2022-07-07T00:47:59.632557Z",
     "iopub.status.busy": "2022-07-07T00:47:59.631645Z",
     "iopub.status.idle": "2022-07-07T00:47:59.648923Z",
     "shell.execute_reply": "2022-07-07T00:47:59.649339Z"
    },
    "papermill": {
     "duration": 0.050467,
     "end_time": "2022-07-07T00:47:59.649463",
     "exception": false,
     "start_time": "2022-07-07T00:47:59.598996",
     "status": "completed"
    },
    "tags": []
   },
   "outputs": [
    {
     "data": {
      "text/html": [
       "<div>\n",
       "<style scoped>\n",
       "    .dataframe tbody tr th:only-of-type {\n",
       "        vertical-align: middle;\n",
       "    }\n",
       "\n",
       "    .dataframe tbody tr th {\n",
       "        vertical-align: top;\n",
       "    }\n",
       "\n",
       "    .dataframe thead th {\n",
       "        text-align: right;\n",
       "    }\n",
       "</style>\n",
       "<table border=\"1\" class=\"dataframe\">\n",
       "  <thead>\n",
       "    <tr style=\"text-align: right;\">\n",
       "      <th></th>\n",
       "      <th>Country/Region</th>\n",
       "      <th>Cases</th>\n",
       "      <th>Deaths</th>\n",
       "      <th>PCases</th>\n",
       "      <th>PDeaths</th>\n",
       "      <th>Cases (+)</th>\n",
       "      <th>Deaths (+)</th>\n",
       "      <th>Fatality Rate</th>\n",
       "      <th>Continent</th>\n",
       "    </tr>\n",
       "  </thead>\n",
       "  <tbody>\n",
       "    <tr>\n",
       "      <th>0</th>\n",
       "      <td>US</td>\n",
       "      <td>88066096</td>\n",
       "      <td>1018349</td>\n",
       "      <td>87886589</td>\n",
       "      <td>1017915</td>\n",
       "      <td>179507</td>\n",
       "      <td>434</td>\n",
       "      <td>1.2</td>\n",
       "      <td>North America</td>\n",
       "    </tr>\n",
       "    <tr>\n",
       "      <th>1</th>\n",
       "      <td>India</td>\n",
       "      <td>43547809</td>\n",
       "      <td>525270</td>\n",
       "      <td>43531650</td>\n",
       "      <td>525242</td>\n",
       "      <td>16159</td>\n",
       "      <td>28</td>\n",
       "      <td>1.2</td>\n",
       "      <td>Asia</td>\n",
       "    </tr>\n",
       "    <tr>\n",
       "      <th>2</th>\n",
       "      <td>Brazil</td>\n",
       "      <td>32610514</td>\n",
       "      <td>672429</td>\n",
       "      <td>32535923</td>\n",
       "      <td>672033</td>\n",
       "      <td>74591</td>\n",
       "      <td>396</td>\n",
       "      <td>2.1</td>\n",
       "      <td>South America</td>\n",
       "    </tr>\n",
       "    <tr>\n",
       "      <th>3</th>\n",
       "      <td>France</td>\n",
       "      <td>31861391</td>\n",
       "      <td>150840</td>\n",
       "      <td>31653749</td>\n",
       "      <td>150765</td>\n",
       "      <td>207642</td>\n",
       "      <td>75</td>\n",
       "      <td>0.5</td>\n",
       "      <td>Europe</td>\n",
       "    </tr>\n",
       "    <tr>\n",
       "      <th>4</th>\n",
       "      <td>Germany</td>\n",
       "      <td>28673212</td>\n",
       "      <td>141519</td>\n",
       "      <td>28542484</td>\n",
       "      <td>141397</td>\n",
       "      <td>130728</td>\n",
       "      <td>122</td>\n",
       "      <td>0.5</td>\n",
       "      <td>Europe</td>\n",
       "    </tr>\n",
       "  </tbody>\n",
       "</table>\n",
       "</div>"
      ],
      "text/plain": [
       "  Country/Region     Cases   Deaths    PCases  PDeaths  Cases (+)  Deaths (+)  \\\n",
       "0             US  88066096  1018349  87886589  1017915     179507         434   \n",
       "1          India  43547809   525270  43531650   525242      16159          28   \n",
       "2         Brazil  32610514   672429  32535923   672033      74591         396   \n",
       "3         France  31861391   150840  31653749   150765     207642          75   \n",
       "4        Germany  28673212   141519  28542484   141397     130728         122   \n",
       "\n",
       "   Fatality Rate      Continent  \n",
       "0            1.2  North America  \n",
       "1            1.2           Asia  \n",
       "2            2.1  South America  \n",
       "3            0.5         Europe  \n",
       "4            0.5         Europe  "
      ]
     },
     "execution_count": 15,
     "metadata": {},
     "output_type": "execute_result"
    }
   ],
   "source": [
    "#hide\n",
    "df_table = (pd.DataFrame(dict(Cases=dfc_cases, Deaths=dfc_deaths, PCases=dfp_cases, PDeaths=dfp_deaths))\n",
    "             .sort_values(by=['Cases', 'Deaths'], ascending=[False, False])\n",
    "             .reset_index())\n",
    "df_table.rename(columns={'index': 'Country/Region'}, inplace=True)\n",
    "for c in 'Cases, Deaths'.split(', '):\n",
    "    df_table[f'{c} (+)'] = (df_table[c] - df_table[f'P{c}']).clip(0)  # DATA BUG\n",
    "df_table['Fatality Rate'] = (100 * df_table['Deaths'] / df_table['Cases']).round(1)\n",
    "df_table['Continent'] = df_table['Country/Region'].map(mapping['map.continent'])\n",
    "df_table.head(5)"
   ]
  },
  {
   "cell_type": "code",
   "execution_count": 16,
   "id": "fewer-occasion",
   "metadata": {
    "execution": {
     "iopub.execute_input": "2022-07-07T00:47:59.709753Z",
     "iopub.status.busy": "2022-07-07T00:47:59.708916Z",
     "iopub.status.idle": "2022-07-07T00:47:59.712011Z",
     "shell.execute_reply": "2022-07-07T00:47:59.712524Z"
    },
    "papermill": {
     "duration": 0.03607,
     "end_time": "2022-07-07T00:47:59.712646",
     "exception": false,
     "start_time": "2022-07-07T00:47:59.676576",
     "status": "completed"
    },
    "tags": []
   },
   "outputs": [],
   "source": [
    "#hide\n",
    "#delete problematic countries from table\n",
    "df_table = df_table[~df_table['Country/Region'].isin(['Cape Verde', 'Cruise Ship', 'Kosovo'])]"
   ]
  },
  {
   "cell_type": "code",
   "execution_count": 17,
   "id": "related-center",
   "metadata": {
    "execution": {
     "iopub.execute_input": "2022-07-07T00:47:59.773414Z",
     "iopub.status.busy": "2022-07-07T00:47:59.772508Z",
     "iopub.status.idle": "2022-07-07T00:47:59.785250Z",
     "shell.execute_reply": "2022-07-07T00:47:59.784788Z"
    },
    "papermill": {
     "duration": 0.045963,
     "end_time": "2022-07-07T00:47:59.785350",
     "exception": false,
     "start_time": "2022-07-07T00:47:59.739387",
     "status": "completed"
    },
    "tags": []
   },
   "outputs": [],
   "source": [
    "#hide\n",
    "metrics = [df_table.columns[index] for index in [1,2,5,6]]\n",
    "# s_china = df_table[df_table['Country/Region'].eq('China')][metrics].sum().add_prefix('China ')\n",
    "s_us = df_table[df_table['Country/Region'].eq('US')][metrics].sum().add_prefix('US ')\n",
    "s_eu = df_table[df_table['Continent'].eq('Europe')][metrics].sum().add_prefix('EU ')\n",
    "s_ind = df_table[df_table['Country/Region'].eq('India')][metrics].sum().add_prefix('India ')\n",
    "summary = {'updated': pd.to_datetime(dt_today), 'since': pd.to_datetime(dt_yday)}\n",
    "summary = {'updated': pd.to_datetime(dt_today), 'since': pd.to_datetime(dt_yday)}\n",
    "summary = {**summary, **df_table[metrics].sum(), **s_ind, **s_us, **s_eu}"
   ]
  },
  {
   "cell_type": "code",
   "execution_count": 18,
   "id": "engaging-syndrome",
   "metadata": {
    "execution": {
     "iopub.execute_input": "2022-07-07T00:47:59.844104Z",
     "iopub.status.busy": "2022-07-07T00:47:59.843185Z",
     "iopub.status.idle": "2022-07-07T00:47:59.860577Z",
     "shell.execute_reply": "2022-07-07T00:47:59.860995Z"
    },
    "papermill": {
     "duration": 0.048915,
     "end_time": "2022-07-07T00:47:59.861116",
     "exception": false,
     "start_time": "2022-07-07T00:47:59.812201",
     "status": "completed"
    },
    "tags": []
   },
   "outputs": [],
   "source": [
    "#hide\n",
    "dft_ct_new_cases = dft_cases.groupby(COL_REGION)[dt_cols].sum().diff(axis=1).fillna(0).astype(int)"
   ]
  },
  {
   "cell_type": "code",
   "execution_count": 19,
   "id": "neutral-assignment",
   "metadata": {
    "execution": {
     "iopub.execute_input": "2022-07-07T00:47:59.919265Z",
     "iopub.status.busy": "2022-07-07T00:47:59.918397Z",
     "iopub.status.idle": "2022-07-07T00:47:59.922933Z",
     "shell.execute_reply": "2022-07-07T00:47:59.923456Z"
    },
    "papermill": {
     "duration": 0.03557,
     "end_time": "2022-07-07T00:47:59.923572",
     "exception": false,
     "start_time": "2022-07-07T00:47:59.888002",
     "status": "completed"
    },
    "tags": []
   },
   "outputs": [],
   "source": [
    "#hide\n",
    "everydaycases = dft_ct_new_cases.cumsum(axis=1)"
   ]
  },
  {
   "cell_type": "code",
   "execution_count": 20,
   "id": "parliamentary-calgary",
   "metadata": {
    "execution": {
     "iopub.execute_input": "2022-07-07T00:47:59.981343Z",
     "iopub.status.busy": "2022-07-07T00:47:59.980476Z",
     "iopub.status.idle": "2022-07-07T00:48:00.503825Z",
     "shell.execute_reply": "2022-07-07T00:48:00.504316Z"
    },
    "papermill": {
     "duration": 0.554281,
     "end_time": "2022-07-07T00:48:00.504449",
     "exception": false,
     "start_time": "2022-07-07T00:47:59.950168",
     "status": "completed"
    },
    "tags": []
   },
   "outputs": [],
   "source": [
    "#hide\n",
    "import pandas as pd\n",
    "import matplotlib.pyplot as plt\n",
    "import matplotlib.ticker as ticker\n",
    "import matplotlib.animation as animation\n",
    "from IPython.display import HTML"
   ]
  },
  {
   "cell_type": "code",
   "execution_count": 21,
   "id": "lasting-extraction",
   "metadata": {
    "execution": {
     "iopub.execute_input": "2022-07-07T00:48:00.564869Z",
     "iopub.status.busy": "2022-07-07T00:48:00.563902Z",
     "iopub.status.idle": "2022-07-07T00:48:00.570274Z",
     "shell.execute_reply": "2022-07-07T00:48:00.570684Z"
    },
    "papermill": {
     "duration": 0.039505,
     "end_time": "2022-07-07T00:48:00.570804",
     "exception": false,
     "start_time": "2022-07-07T00:48:00.531299",
     "status": "completed"
    },
    "tags": []
   },
   "outputs": [],
   "source": [
    "#hide\n",
    "t = everydaycases.stack()"
   ]
  },
  {
   "cell_type": "code",
   "execution_count": 22,
   "id": "premier-sleeve",
   "metadata": {
    "execution": {
     "iopub.execute_input": "2022-07-07T00:48:00.629274Z",
     "iopub.status.busy": "2022-07-07T00:48:00.628390Z",
     "iopub.status.idle": "2022-07-07T00:48:00.638920Z",
     "shell.execute_reply": "2022-07-07T00:48:00.638472Z"
    },
    "papermill": {
     "duration": 0.041351,
     "end_time": "2022-07-07T00:48:00.639018",
     "exception": false,
     "start_time": "2022-07-07T00:48:00.597667",
     "status": "completed"
    },
    "tags": []
   },
   "outputs": [],
   "source": [
    "#hide\n",
    "g = t.reset_index(['Country/Region'])"
   ]
  },
  {
   "cell_type": "code",
   "execution_count": 23,
   "id": "distributed-pittsburgh",
   "metadata": {
    "execution": {
     "iopub.execute_input": "2022-07-07T00:48:00.696279Z",
     "iopub.status.busy": "2022-07-07T00:48:00.695583Z",
     "iopub.status.idle": "2022-07-07T00:48:00.698000Z",
     "shell.execute_reply": "2022-07-07T00:48:00.698417Z"
    },
    "papermill": {
     "duration": 0.032894,
     "end_time": "2022-07-07T00:48:00.698528",
     "exception": false,
     "start_time": "2022-07-07T00:48:00.665634",
     "status": "completed"
    },
    "tags": []
   },
   "outputs": [],
   "source": [
    "#hide\n",
    "g.index.name = 'date'"
   ]
  },
  {
   "cell_type": "code",
   "execution_count": 24,
   "id": "naked-donor",
   "metadata": {
    "execution": {
     "iopub.execute_input": "2022-07-07T00:48:00.754759Z",
     "iopub.status.busy": "2022-07-07T00:48:00.754105Z",
     "iopub.status.idle": "2022-07-07T00:48:00.756552Z",
     "shell.execute_reply": "2022-07-07T00:48:00.756981Z"
    },
    "papermill": {
     "duration": 0.032032,
     "end_time": "2022-07-07T00:48:00.757085",
     "exception": false,
     "start_time": "2022-07-07T00:48:00.725053",
     "status": "completed"
    },
    "tags": []
   },
   "outputs": [],
   "source": [
    "# #hide\n",
    "# g = g.reset_index(['date'])"
   ]
  },
  {
   "cell_type": "code",
   "execution_count": 25,
   "id": "incomplete-mustang",
   "metadata": {
    "execution": {
     "iopub.execute_input": "2022-07-07T00:48:00.813965Z",
     "iopub.status.busy": "2022-07-07T00:48:00.813007Z",
     "iopub.status.idle": "2022-07-07T00:48:00.816195Z",
     "shell.execute_reply": "2022-07-07T00:48:00.816629Z"
    },
    "papermill": {
     "duration": 0.033319,
     "end_time": "2022-07-07T00:48:00.816734",
     "exception": false,
     "start_time": "2022-07-07T00:48:00.783415",
     "status": "completed"
    },
    "tags": []
   },
   "outputs": [],
   "source": [
    "#hide\n",
    "# g.head()"
   ]
  },
  {
   "cell_type": "code",
   "execution_count": 26,
   "id": "specific-kruger",
   "metadata": {
    "execution": {
     "iopub.execute_input": "2022-07-07T00:48:00.872977Z",
     "iopub.status.busy": "2022-07-07T00:48:00.872342Z",
     "iopub.status.idle": "2022-07-07T00:48:00.874658Z",
     "shell.execute_reply": "2022-07-07T00:48:00.875092Z"
    },
    "papermill": {
     "duration": 0.031733,
     "end_time": "2022-07-07T00:48:00.875196",
     "exception": false,
     "start_time": "2022-07-07T00:48:00.843463",
     "status": "completed"
    },
    "tags": []
   },
   "outputs": [],
   "source": [
    "#hide\n",
    "# g.columns = ['date','country','cases']"
   ]
  },
  {
   "cell_type": "code",
   "execution_count": 27,
   "id": "tender-conversion",
   "metadata": {
    "execution": {
     "iopub.execute_input": "2022-07-07T00:48:00.931952Z",
     "iopub.status.busy": "2022-07-07T00:48:00.931268Z",
     "iopub.status.idle": "2022-07-07T00:48:00.933930Z",
     "shell.execute_reply": "2022-07-07T00:48:00.933504Z"
    },
    "papermill": {
     "duration": 0.032171,
     "end_time": "2022-07-07T00:48:00.934018",
     "exception": false,
     "start_time": "2022-07-07T00:48:00.901847",
     "status": "completed"
    },
    "tags": []
   },
   "outputs": [],
   "source": [
    "#hide\n",
    "# g['continent'] = g.country"
   ]
  },
  {
   "cell_type": "code",
   "execution_count": 28,
   "id": "substantial-wilderness",
   "metadata": {
    "execution": {
     "iopub.execute_input": "2022-07-07T00:48:00.990958Z",
     "iopub.status.busy": "2022-07-07T00:48:00.990316Z",
     "iopub.status.idle": "2022-07-07T00:48:00.992750Z",
     "shell.execute_reply": "2022-07-07T00:48:00.993182Z"
    },
    "papermill": {
     "duration": 0.032293,
     "end_time": "2022-07-07T00:48:00.993287",
     "exception": false,
     "start_time": "2022-07-07T00:48:00.960994",
     "status": "completed"
    },
    "tags": []
   },
   "outputs": [],
   "source": [
    "#hide\n",
    "# cols = list(g.columns.values)"
   ]
  },
  {
   "cell_type": "code",
   "execution_count": 29,
   "id": "solved-farming",
   "metadata": {
    "execution": {
     "iopub.execute_input": "2022-07-07T00:48:01.049599Z",
     "iopub.status.busy": "2022-07-07T00:48:01.048950Z",
     "iopub.status.idle": "2022-07-07T00:48:01.051531Z",
     "shell.execute_reply": "2022-07-07T00:48:01.051974Z"
    },
    "papermill": {
     "duration": 0.032265,
     "end_time": "2022-07-07T00:48:01.052081",
     "exception": false,
     "start_time": "2022-07-07T00:48:01.019816",
     "status": "completed"
    },
    "tags": []
   },
   "outputs": [],
   "source": [
    "#hide\n",
    "# cols.insert(0, cols.pop())"
   ]
  },
  {
   "cell_type": "code",
   "execution_count": 30,
   "id": "executed-adoption",
   "metadata": {
    "execution": {
     "iopub.execute_input": "2022-07-07T00:48:01.109018Z",
     "iopub.status.busy": "2022-07-07T00:48:01.108363Z",
     "iopub.status.idle": "2022-07-07T00:48:01.110810Z",
     "shell.execute_reply": "2022-07-07T00:48:01.111231Z"
    },
    "papermill": {
     "duration": 0.032486,
     "end_time": "2022-07-07T00:48:01.111346",
     "exception": false,
     "start_time": "2022-07-07T00:48:01.078860",
     "status": "completed"
    },
    "tags": []
   },
   "outputs": [],
   "source": [
    "#hide\n",
    "# g = g[cols]"
   ]
  },
  {
   "cell_type": "code",
   "execution_count": 31,
   "id": "subject-dublin",
   "metadata": {
    "execution": {
     "iopub.execute_input": "2022-07-07T00:48:01.167940Z",
     "iopub.status.busy": "2022-07-07T00:48:01.167237Z",
     "iopub.status.idle": "2022-07-07T00:48:01.170049Z",
     "shell.execute_reply": "2022-07-07T00:48:01.169559Z"
    },
    "papermill": {
     "duration": 0.032038,
     "end_time": "2022-07-07T00:48:01.170148",
     "exception": false,
     "start_time": "2022-07-07T00:48:01.138110",
     "status": "completed"
    },
    "tags": []
   },
   "outputs": [],
   "source": [
    "#hide\n",
    "# g['continent'] = g['continent'].map(mapping['map.continent'])"
   ]
  },
  {
   "cell_type": "code",
   "execution_count": 32,
   "id": "freelance-scout",
   "metadata": {
    "execution": {
     "iopub.execute_input": "2022-07-07T00:48:01.226560Z",
     "iopub.status.busy": "2022-07-07T00:48:01.225891Z",
     "iopub.status.idle": "2022-07-07T00:48:01.228606Z",
     "shell.execute_reply": "2022-07-07T00:48:01.228092Z"
    },
    "papermill": {
     "duration": 0.032202,
     "end_time": "2022-07-07T00:48:01.228699",
     "exception": false,
     "start_time": "2022-07-07T00:48:01.196497",
     "status": "completed"
    },
    "tags": []
   },
   "outputs": [],
   "source": [
    "#hide\n",
    "# g.head()"
   ]
  },
  {
   "cell_type": "code",
   "execution_count": 33,
   "id": "limited-engine",
   "metadata": {
    "execution": {
     "iopub.execute_input": "2022-07-07T00:48:01.284727Z",
     "iopub.status.busy": "2022-07-07T00:48:01.284246Z",
     "iopub.status.idle": "2022-07-07T00:48:01.287975Z",
     "shell.execute_reply": "2022-07-07T00:48:01.288363Z"
    },
    "papermill": {
     "duration": 0.033392,
     "end_time": "2022-07-07T00:48:01.288465",
     "exception": false,
     "start_time": "2022-07-07T00:48:01.255073",
     "status": "completed"
    },
    "tags": []
   },
   "outputs": [],
   "source": [
    "# hide\n",
    "# g['date'] = g['date'].astype('datetime64[ns]')"
   ]
  },
  {
   "cell_type": "code",
   "execution_count": 34,
   "id": "sophisticated-supervisor",
   "metadata": {
    "execution": {
     "iopub.execute_input": "2022-07-07T00:48:01.346085Z",
     "iopub.status.busy": "2022-07-07T00:48:01.345301Z",
     "iopub.status.idle": "2022-07-07T00:48:01.348263Z",
     "shell.execute_reply": "2022-07-07T00:48:01.347835Z"
    },
    "papermill": {
     "duration": 0.033203,
     "end_time": "2022-07-07T00:48:01.348359",
     "exception": false,
     "start_time": "2022-07-07T00:48:01.315156",
     "status": "completed"
    },
    "tags": []
   },
   "outputs": [],
   "source": [
    "#hide\n",
    "# g['date'] = g.date.dt.dayofyear"
   ]
  },
  {
   "cell_type": "code",
   "execution_count": 35,
   "id": "inside-dubai",
   "metadata": {
    "execution": {
     "iopub.execute_input": "2022-07-07T00:48:01.404152Z",
     "iopub.status.busy": "2022-07-07T00:48:01.403500Z",
     "iopub.status.idle": "2022-07-07T00:48:01.406952Z",
     "shell.execute_reply": "2022-07-07T00:48:01.406527Z"
    },
    "papermill": {
     "duration": 0.032215,
     "end_time": "2022-07-07T00:48:01.407046",
     "exception": false,
     "start_time": "2022-07-07T00:48:01.374831",
     "status": "completed"
    },
    "tags": []
   },
   "outputs": [],
   "source": [
    "#hide\n",
    "# g = g.rename(columns= {'continent':'group','country':'name','cases':'value'})"
   ]
  },
  {
   "cell_type": "code",
   "execution_count": 36,
   "id": "fleet-motorcycle",
   "metadata": {
    "execution": {
     "iopub.execute_input": "2022-07-07T00:48:01.464425Z",
     "iopub.status.busy": "2022-07-07T00:48:01.463815Z",
     "iopub.status.idle": "2022-07-07T00:48:01.466771Z",
     "shell.execute_reply": "2022-07-07T00:48:01.466343Z"
    },
    "papermill": {
     "duration": 0.032724,
     "end_time": "2022-07-07T00:48:01.466877",
     "exception": false,
     "start_time": "2022-07-07T00:48:01.434153",
     "status": "completed"
    },
    "tags": []
   },
   "outputs": [],
   "source": [
    "#hide\n",
    "# cols = ['name','group','day','value']"
   ]
  },
  {
   "cell_type": "code",
   "execution_count": 37,
   "id": "continued-sleeping",
   "metadata": {
    "execution": {
     "iopub.execute_input": "2022-07-07T00:48:01.523837Z",
     "iopub.status.busy": "2022-07-07T00:48:01.523162Z",
     "iopub.status.idle": "2022-07-07T00:48:01.525816Z",
     "shell.execute_reply": "2022-07-07T00:48:01.525328Z"
    },
    "papermill": {
     "duration": 0.032336,
     "end_time": "2022-07-07T00:48:01.525907",
     "exception": false,
     "start_time": "2022-07-07T00:48:01.493571",
     "status": "completed"
    },
    "tags": []
   },
   "outputs": [],
   "source": [
    "#hide\n",
    "# g.rename(columns= {'date':'day'},inplace = True)"
   ]
  },
  {
   "cell_type": "code",
   "execution_count": 38,
   "id": "major-fight",
   "metadata": {
    "execution": {
     "iopub.execute_input": "2022-07-07T00:48:01.582677Z",
     "iopub.status.busy": "2022-07-07T00:48:01.582030Z",
     "iopub.status.idle": "2022-07-07T00:48:01.584761Z",
     "shell.execute_reply": "2022-07-07T00:48:01.584368Z"
    },
    "papermill": {
     "duration": 0.032185,
     "end_time": "2022-07-07T00:48:01.584857",
     "exception": false,
     "start_time": "2022-07-07T00:48:01.552672",
     "status": "completed"
    },
    "tags": []
   },
   "outputs": [],
   "source": [
    "#hide\n",
    "# g = g[cols]"
   ]
  },
  {
   "cell_type": "code",
   "execution_count": 39,
   "id": "structured-mobile",
   "metadata": {
    "execution": {
     "iopub.execute_input": "2022-07-07T00:48:01.641279Z",
     "iopub.status.busy": "2022-07-07T00:48:01.640659Z",
     "iopub.status.idle": "2022-07-07T00:48:01.643251Z",
     "shell.execute_reply": "2022-07-07T00:48:01.642764Z"
    },
    "papermill": {
     "duration": 0.031812,
     "end_time": "2022-07-07T00:48:01.643340",
     "exception": false,
     "start_time": "2022-07-07T00:48:01.611528",
     "status": "completed"
    },
    "tags": []
   },
   "outputs": [],
   "source": [
    "# #hide\n",
    "# g = g[g.group.notna()]"
   ]
  },
  {
   "cell_type": "code",
   "execution_count": 40,
   "id": "determined-closing",
   "metadata": {
    "execution": {
     "iopub.execute_input": "2022-07-07T00:48:01.700358Z",
     "iopub.status.busy": "2022-07-07T00:48:01.699665Z",
     "iopub.status.idle": "2022-07-07T00:48:01.702060Z",
     "shell.execute_reply": "2022-07-07T00:48:01.702463Z"
    },
    "papermill": {
     "duration": 0.03256,
     "end_time": "2022-07-07T00:48:01.702565",
     "exception": false,
     "start_time": "2022-07-07T00:48:01.670005",
     "status": "completed"
    },
    "tags": []
   },
   "outputs": [],
   "source": [
    "# #hide\n",
    "# colors = dict(zip(\n",
    "#     [\"Oceania\", \"Europe\", \"Asia\", \"South America\", \"Middle East\", \"North America\", \"Africa\"],\n",
    "#     [\"#adb0ff\", \"#ffb3ff\", \"#90d595\", \"#e48381\", \"#aafbff\", \"#f7bb5f\", \"#eafb50\"]\n",
    "# ))\n",
    "# group_lk = g.set_index('name')['group'].to_dict()"
   ]
  },
  {
   "cell_type": "code",
   "execution_count": null,
   "id": "gross-drinking",
   "metadata": {
    "papermill": {
     "duration": 0.026321,
     "end_time": "2022-07-07T00:48:01.755153",
     "exception": false,
     "start_time": "2022-07-07T00:48:01.728832",
     "status": "completed"
    },
    "tags": []
   },
   "outputs": [],
   "source": []
  },
  {
   "cell_type": "code",
   "execution_count": 41,
   "id": "subject-macintosh",
   "metadata": {
    "execution": {
     "iopub.execute_input": "2022-07-07T00:48:01.812817Z",
     "iopub.status.busy": "2022-07-07T00:48:01.812148Z",
     "iopub.status.idle": "2022-07-07T00:48:01.814564Z",
     "shell.execute_reply": "2022-07-07T00:48:01.814997Z"
    },
    "papermill": {
     "duration": 0.033267,
     "end_time": "2022-07-07T00:48:01.815104",
     "exception": false,
     "start_time": "2022-07-07T00:48:01.781837",
     "status": "completed"
    },
    "tags": []
   },
   "outputs": [],
   "source": [
    "# #hide\n",
    "# fig, ax = plt.subplots(figsize=(15, 8))\n",
    "\n",
    "# def draw_barchart(current_day):\n",
    "#     dff = g[g['day'].eq(current_day)].sort_values(by='value', ascending=True).tail(10)\n",
    "#     ax.clear()\n",
    "#     ax.barh(dff['name'], dff['value'], color=[colors[group_lk[x]] for x in dff['name']])\n",
    "#     dx = dff['value'].max() / 200\n",
    "    \n",
    "#     for i, (value, name) in enumerate(zip(dff['value'], dff['name'])):\n",
    "#         ax.text(value-dx, i,     name,           size=14, weight=600, ha='right', va='bottom')\n",
    "#         ax.text(value-dx, i-.25, group_lk[name], size=10, color='#444444', ha='right', va='baseline')\n",
    "#         ax.text(value+dx, i,     f'{value:,.0f}',  size=14, ha='left',  va='center')\n",
    "#     ax.text(1, 0.4, current_day, transform=ax.transAxes, color='#777777', size=46, ha='right', weight=800)\n",
    "#     ax.text(0, 1.06, 'Population (thousands)', transform=ax.transAxes, size=12, color='#777777')\n",
    "#     ax.xaxis.set_major_formatter(ticker.StrMethodFormatter('{x:,.0f}'))\n",
    "#     ax.xaxis.set_ticks_position('top')\n",
    "#     ax.tick_params(axis='x', colors='#777777', labelsize=12)\n",
    "#     ax.set_yticks([])\n",
    "#     ax.margins(0, 0.01)\n",
    "#     ax.grid(which='major', axis='x', linestyle='-')\n",
    "#     ax.set_axisbelow(True)\n",
    "    \n",
    "#     ax.text(0, 1.15, 'Coronavirus',\n",
    "#             transform=ax.transAxes, size=24, weight=600, ha='left', va='top')\n",
    "# #     ax.text(1, 0, 'by @pratapvardhan; credit @jburnmurdoch', transform=ax.transAxes, color='#777777', ha='right',\n",
    "# #             bbox=dict(facecolor='white', alpha=0.8, edgecolor='white'))\n",
    "#     plt.box(False)"
   ]
  },
  {
   "cell_type": "code",
   "execution_count": 42,
   "id": "sexual-wages",
   "metadata": {
    "execution": {
     "iopub.execute_input": "2022-07-07T00:48:01.872053Z",
     "iopub.status.busy": "2022-07-07T00:48:01.871286Z",
     "iopub.status.idle": "2022-07-07T00:48:01.873627Z",
     "shell.execute_reply": "2022-07-07T00:48:01.874071Z"
    },
    "papermill": {
     "duration": 0.032793,
     "end_time": "2022-07-07T00:48:01.874173",
     "exception": false,
     "start_time": "2022-07-07T00:48:01.841380",
     "status": "completed"
    },
    "tags": []
   },
   "outputs": [],
   "source": [
    "# #hide_input\n",
    "# fig, ax = plt.subplots(figsize=(15, 8))\n",
    "# animator = animation.FuncAnimation(fig, draw_barchart, frames=range(g.day.values.min(), g.day.values.max()))\n",
    "# HTML(animator.to_jshtml())\n",
    "# # or use animator.to_html5_video() or animator.save() "
   ]
  },
  {
   "cell_type": "code",
   "execution_count": null,
   "id": "australian-container",
   "metadata": {
    "papermill": {
     "duration": 0.02693,
     "end_time": "2022-07-07T00:48:01.927549",
     "exception": false,
     "start_time": "2022-07-07T00:48:01.900619",
     "status": "completed"
    },
    "tags": []
   },
   "outputs": [],
   "source": []
  },
  {
   "cell_type": "code",
   "execution_count": null,
   "id": "mediterranean-pontiac",
   "metadata": {
    "papermill": {
     "duration": 0.026441,
     "end_time": "2022-07-07T00:48:01.979693",
     "exception": false,
     "start_time": "2022-07-07T00:48:01.953252",
     "status": "completed"
    },
    "tags": []
   },
   "outputs": [],
   "source": []
  },
  {
   "cell_type": "code",
   "execution_count": null,
   "id": "aging-legislature",
   "metadata": {
    "papermill": {
     "duration": 0.026617,
     "end_time": "2022-07-07T00:48:02.032885",
     "exception": false,
     "start_time": "2022-07-07T00:48:02.006268",
     "status": "completed"
    },
    "tags": []
   },
   "outputs": [],
   "source": []
  }
 ],
 "metadata": {
  "kernelspec": {
   "display_name": "Python 3",
   "language": "python",
   "name": "python3"
  },
  "language_info": {
   "codemirror_mode": {
    "name": "ipython",
    "version": 3
   },
   "file_extension": ".py",
   "mimetype": "text/x-python",
   "name": "python",
   "nbconvert_exporter": "python",
   "pygments_lexer": "ipython3",
   "version": "3.6.15"
  },
  "papermill": {
   "duration": 5.791752,
   "end_time": "2022-07-07T00:48:02.377247",
   "environment_variables": {},
   "exception": null,
   "input_path": "2020-03-21-covid19exp.ipynb",
   "output_path": "2020-03-21-covid19exp.ipynb",
   "parameters": {},
   "start_time": "2022-07-07T00:47:56.585495",
   "version": "2.0.0"
  }
 },
 "nbformat": 4,
 "nbformat_minor": 5
}