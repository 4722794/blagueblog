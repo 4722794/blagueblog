{
 "cells": [
  {
   "cell_type": "markdown",
   "metadata": {
    "papermill": {
     "duration": 0.032096,
     "end_time": "2020-12-02T00:11:17.994448",
     "exception": false,
     "start_time": "2020-12-02T00:11:17.962352",
     "status": "completed"
    },
    "tags": []
   },
   "source": [
    "# COVID-19 Case Race\n",
    "> A race chart to see rising cases around the world\n",
    "\n",
    "- author: Hargun Oberoi\n",
    "- image: images/covid-overview.png\n",
    "- hide: false\n",
    "- badges: false"
   ]
  },
  {
   "cell_type": "code",
   "execution_count": 1,
   "metadata": {
    "execution": {
     "iopub.execute_input": "2020-12-02T00:11:18.060159Z",
     "iopub.status.busy": "2020-12-02T00:11:18.059532Z",
     "iopub.status.idle": "2020-12-02T00:11:18.402078Z",
     "shell.execute_reply": "2020-12-02T00:11:18.401430Z"
    },
    "papermill": {
     "duration": 0.377,
     "end_time": "2020-12-02T00:11:18.402272",
     "exception": false,
     "start_time": "2020-12-02T00:11:18.025272",
     "status": "completed"
    },
    "tags": []
   },
   "outputs": [],
   "source": [
    "#hide\n",
    "import numpy as np\n",
    "import pandas as pd\n",
    "from jinja2 import Template\n",
    "from IPython.display import HTML"
   ]
  },
  {
   "cell_type": "code",
   "execution_count": 2,
   "metadata": {
    "execution": {
     "iopub.execute_input": "2020-12-02T00:11:18.469686Z",
     "iopub.status.busy": "2020-12-02T00:11:18.469100Z",
     "iopub.status.idle": "2020-12-02T00:11:18.470796Z",
     "shell.execute_reply": "2020-12-02T00:11:18.471285Z"
    },
    "papermill": {
     "duration": 0.037368,
     "end_time": "2020-12-02T00:11:18.471410",
     "exception": false,
     "start_time": "2020-12-02T00:11:18.434042",
     "status": "completed"
    },
    "tags": []
   },
   "outputs": [],
   "source": [
    "#hide\n",
    "\n",
    "# FETCH\n",
    "base_url = 'https://raw.githubusercontent.com/pratapvardhan/notebooks/master/covid19/'\n",
    "paths = {\n",
    "    'mapping': base_url + 'mapping_countries.csv',\n",
    "    'overview': base_url + 'overview.tpl'\n",
    "}"
   ]
  },
  {
   "cell_type": "code",
   "execution_count": 3,
   "metadata": {
    "execution": {
     "iopub.execute_input": "2020-12-02T00:11:18.543842Z",
     "iopub.status.busy": "2020-12-02T00:11:18.543086Z",
     "iopub.status.idle": "2020-12-02T00:11:18.545716Z",
     "shell.execute_reply": "2020-12-02T00:11:18.546394Z"
    },
    "papermill": {
     "duration": 0.043231,
     "end_time": "2020-12-02T00:11:18.546554",
     "exception": false,
     "start_time": "2020-12-02T00:11:18.503323",
     "status": "completed"
    },
    "tags": []
   },
   "outputs": [
    {
     "data": {
      "text/plain": [
       "'https://raw.githubusercontent.com/pratapvardhan/notebooks/master/covid19/mapping_countries.csv'"
      ]
     },
     "execution_count": 3,
     "metadata": {},
     "output_type": "execute_result"
    }
   ],
   "source": [
    "#hide\n",
    "paths['mapping']"
   ]
  },
  {
   "cell_type": "code",
   "execution_count": 4,
   "metadata": {
    "execution": {
     "iopub.execute_input": "2020-12-02T00:11:18.616932Z",
     "iopub.status.busy": "2020-12-02T00:11:18.616310Z",
     "iopub.status.idle": "2020-12-02T00:11:18.618929Z",
     "shell.execute_reply": "2020-12-02T00:11:18.618458Z"
    },
    "papermill": {
     "duration": 0.040128,
     "end_time": "2020-12-02T00:11:18.619042",
     "exception": false,
     "start_time": "2020-12-02T00:11:18.578914",
     "status": "completed"
    },
    "tags": []
   },
   "outputs": [],
   "source": [
    "#hide\n",
    "def get_mappings(url):\n",
    "    df = pd.read_csv(url)\n",
    "    return {\n",
    "        'df': df,\n",
    "        'replace.country': dict(df.dropna(subset=['Name']).set_index('Country')['Name']),\n",
    "        'map.continent': dict(df.set_index('Name')['Continent'])\n",
    "    }"
   ]
  },
  {
   "cell_type": "code",
   "execution_count": 5,
   "metadata": {
    "execution": {
     "iopub.execute_input": "2020-12-02T00:11:18.685580Z",
     "iopub.status.busy": "2020-12-02T00:11:18.684995Z",
     "iopub.status.idle": "2020-12-02T00:11:18.730071Z",
     "shell.execute_reply": "2020-12-02T00:11:18.729325Z"
    },
    "papermill": {
     "duration": 0.081789,
     "end_time": "2020-12-02T00:11:18.730217",
     "exception": false,
     "start_time": "2020-12-02T00:11:18.648428",
     "status": "completed"
    },
    "tags": []
   },
   "outputs": [],
   "source": [
    "#hide\n",
    "mapping = get_mappings(paths['mapping'])"
   ]
  },
  {
   "cell_type": "code",
   "execution_count": 6,
   "metadata": {
    "execution": {
     "iopub.execute_input": "2020-12-02T00:11:18.799465Z",
     "iopub.status.busy": "2020-12-02T00:11:18.798818Z",
     "iopub.status.idle": "2020-12-02T00:11:18.801440Z",
     "shell.execute_reply": "2020-12-02T00:11:18.800860Z"
    },
    "papermill": {
     "duration": 0.039436,
     "end_time": "2020-12-02T00:11:18.801573",
     "exception": false,
     "start_time": "2020-12-02T00:11:18.762137",
     "status": "completed"
    },
    "tags": []
   },
   "outputs": [],
   "source": [
    "#hide\n",
    "def get_template(path):\n",
    "    from urllib.parse import urlparse\n",
    "    if bool(urlparse(path).netloc):\n",
    "        from urllib.request import urlopen\n",
    "        return urlopen(path).read().decode('utf8')\n",
    "    return open(path).read()"
   ]
  },
  {
   "cell_type": "code",
   "execution_count": 7,
   "metadata": {
    "execution": {
     "iopub.execute_input": "2020-12-02T00:11:18.868034Z",
     "iopub.status.busy": "2020-12-02T00:11:18.867462Z",
     "iopub.status.idle": "2020-12-02T00:11:18.869735Z",
     "shell.execute_reply": "2020-12-02T00:11:18.869250Z"
    },
    "papermill": {
     "duration": 0.037436,
     "end_time": "2020-12-02T00:11:18.869848",
     "exception": false,
     "start_time": "2020-12-02T00:11:18.832412",
     "status": "completed"
    },
    "tags": []
   },
   "outputs": [],
   "source": [
    "#hide\n",
    "def get_frame(name):\n",
    "    url = (\n",
    "        'https://raw.githubusercontent.com/CSSEGISandData/COVID-19/master/csse_covid_19_data/'\n",
    "        f'csse_covid_19_time_series/time_series_covid19_{name}_global.csv')\n",
    "    df = pd.read_csv(url)\n",
    "    # rename countries\n",
    "    df['Country/Region'] = df['Country/Region'].replace(mapping['replace.country'])\n",
    "    return df"
   ]
  },
  {
   "cell_type": "code",
   "execution_count": 8,
   "metadata": {
    "execution": {
     "iopub.execute_input": "2020-12-02T00:11:18.940375Z",
     "iopub.status.busy": "2020-12-02T00:11:18.939534Z",
     "iopub.status.idle": "2020-12-02T00:11:18.942101Z",
     "shell.execute_reply": "2020-12-02T00:11:18.941573Z"
    },
    "papermill": {
     "duration": 0.040744,
     "end_time": "2020-12-02T00:11:18.942222",
     "exception": false,
     "start_time": "2020-12-02T00:11:18.901478",
     "status": "completed"
    },
    "tags": []
   },
   "outputs": [],
   "source": [
    "#hide\n",
    "def get_dates(df):\n",
    "    dt_cols = df.columns[~df.columns.isin(['Province/State', 'Country/Region', 'Lat', 'Long'])]\n",
    "    LAST_DATE_I = -1\n",
    "    # sometimes last column may be empty, then go backwards\n",
    "    for i in range(-1, -len(dt_cols), -1):\n",
    "        if not df[dt_cols[i]].fillna(0).eq(0).all():\n",
    "            LAST_DATE_I = i\n",
    "            break\n",
    "    return LAST_DATE_I, dt_cols"
   ]
  },
  {
   "cell_type": "code",
   "execution_count": 9,
   "metadata": {
    "execution": {
     "iopub.execute_input": "2020-12-02T00:11:19.016541Z",
     "iopub.status.busy": "2020-12-02T00:11:19.015956Z",
     "iopub.status.idle": "2020-12-02T00:11:19.356936Z",
     "shell.execute_reply": "2020-12-02T00:11:19.356366Z"
    },
    "papermill": {
     "duration": 0.380982,
     "end_time": "2020-12-02T00:11:19.357063",
     "exception": false,
     "start_time": "2020-12-02T00:11:18.976081",
     "status": "completed"
    },
    "tags": []
   },
   "outputs": [],
   "source": [
    "#hide\n",
    "COL_REGION = 'Country/Region'\n",
    "# Confirmed, Recovered, Deaths\n",
    "df = get_frame('confirmed')\n",
    "# dft_: timeseries, dfc_: today country agg\n",
    "dft_cases = df\n",
    "dft_deaths = get_frame('deaths')\n",
    "dft_recovered = get_frame('recovered')\n",
    "LAST_DATE_I, dt_cols = get_dates(df)"
   ]
  },
  {
   "cell_type": "code",
   "execution_count": 10,
   "metadata": {
    "execution": {
     "iopub.execute_input": "2020-12-02T00:11:19.421230Z",
     "iopub.status.busy": "2020-12-02T00:11:19.419975Z",
     "iopub.status.idle": "2020-12-02T00:11:19.422110Z",
     "shell.execute_reply": "2020-12-02T00:11:19.422670Z"
    },
    "papermill": {
     "duration": 0.037111,
     "end_time": "2020-12-02T00:11:19.422812",
     "exception": false,
     "start_time": "2020-12-02T00:11:19.385701",
     "status": "completed"
    },
    "tags": []
   },
   "outputs": [],
   "source": [
    "#hide\n",
    "LAST_DATE_I, dt_cols = get_dates(df)\n",
    "dt_today =dt_cols[LAST_DATE_I]\n",
    "# dt_5day = dt_cols[LAST_DATE_I - 5]\n",
    "dt_yday = dt_cols[LAST_DATE_I - 1]"
   ]
  },
  {
   "cell_type": "code",
   "execution_count": 11,
   "metadata": {
    "execution": {
     "iopub.execute_input": "2020-12-02T00:11:19.493815Z",
     "iopub.status.busy": "2020-12-02T00:11:19.493043Z",
     "iopub.status.idle": "2020-12-02T00:11:19.498221Z",
     "shell.execute_reply": "2020-12-02T00:11:19.498987Z"
    },
    "papermill": {
     "duration": 0.046206,
     "end_time": "2020-12-02T00:11:19.499137",
     "exception": false,
     "start_time": "2020-12-02T00:11:19.452931",
     "status": "completed"
    },
    "tags": []
   },
   "outputs": [],
   "source": [
    "#hide\n",
    "dfc_cases = dft_cases.groupby(COL_REGION)[dt_today].sum()\n",
    "dfc_deaths = dft_deaths.groupby(COL_REGION)[dt_today].sum()\n",
    "# dfp_cases = dft_cases.groupby(COL_REGION)[dt_5day].sum()\n",
    "# dfp_deaths = dft_deaths.groupby(COL_REGION)[dt_5day].sum()\n",
    "dfp_cases = dft_cases.groupby(COL_REGION)[dt_yday].sum()\n",
    "dfp_deaths = dft_deaths.groupby(COL_REGION)[dt_yday].sum()"
   ]
  },
  {
   "cell_type": "code",
   "execution_count": 12,
   "metadata": {
    "execution": {
     "iopub.execute_input": "2020-12-02T00:11:19.572194Z",
     "iopub.status.busy": "2020-12-02T00:11:19.571498Z",
     "iopub.status.idle": "2020-12-02T00:11:19.576265Z",
     "shell.execute_reply": "2020-12-02T00:11:19.576786Z"
    },
    "papermill": {
     "duration": 0.045535,
     "end_time": "2020-12-02T00:11:19.576917",
     "exception": false,
     "start_time": "2020-12-02T00:11:19.531382",
     "status": "completed"
    },
    "tags": []
   },
   "outputs": [],
   "source": [
    "#hide\n",
    "df_table = (pd.DataFrame(dict(Cases = dfc_cases, Deaths = dfc_deaths, PCases = dfp_cases, PDeaths = dfp_deaths))\n",
    "            .sort_values(by = ['Cases','Deaths'], ascending = [False, False])\n",
    "            .reset_index())"
   ]
  },
  {
   "cell_type": "code",
   "execution_count": 13,
   "metadata": {
    "execution": {
     "iopub.execute_input": "2020-12-02T00:11:19.670220Z",
     "iopub.status.busy": "2020-12-02T00:11:19.658538Z",
     "iopub.status.idle": "2020-12-02T00:11:19.673272Z",
     "shell.execute_reply": "2020-12-02T00:11:19.673914Z"
    },
    "papermill": {
     "duration": 0.064341,
     "end_time": "2020-12-02T00:11:19.674068",
     "exception": false,
     "start_time": "2020-12-02T00:11:19.609727",
     "status": "completed"
    },
    "tags": []
   },
   "outputs": [
    {
     "data": {
      "text/html": [
       "<div>\n",
       "<style scoped>\n",
       "    .dataframe tbody tr th:only-of-type {\n",
       "        vertical-align: middle;\n",
       "    }\n",
       "\n",
       "    .dataframe tbody tr th {\n",
       "        vertical-align: top;\n",
       "    }\n",
       "\n",
       "    .dataframe thead th {\n",
       "        text-align: right;\n",
       "    }\n",
       "</style>\n",
       "<table border=\"1\" class=\"dataframe\">\n",
       "  <thead>\n",
       "    <tr style=\"text-align: right;\">\n",
       "      <th></th>\n",
       "      <th>Country/Region</th>\n",
       "      <th>Cases</th>\n",
       "      <th>Deaths</th>\n",
       "      <th>PCases</th>\n",
       "      <th>PDeaths</th>\n",
       "      <th>Cases (+)</th>\n",
       "      <th>Deaths (+)</th>\n",
       "      <th>Fatality Rate</th>\n",
       "      <th>Continent</th>\n",
       "    </tr>\n",
       "  </thead>\n",
       "  <tbody>\n",
       "    <tr>\n",
       "      <th>0</th>\n",
       "      <td>US</td>\n",
       "      <td>13541221</td>\n",
       "      <td>268045</td>\n",
       "      <td>13383320</td>\n",
       "      <td>266873</td>\n",
       "      <td>157901</td>\n",
       "      <td>1172</td>\n",
       "      <td>1.98</td>\n",
       "      <td>North America</td>\n",
       "    </tr>\n",
       "    <tr>\n",
       "      <th>1</th>\n",
       "      <td>India</td>\n",
       "      <td>9462809</td>\n",
       "      <td>137621</td>\n",
       "      <td>9431691</td>\n",
       "      <td>137139</td>\n",
       "      <td>31118</td>\n",
       "      <td>482</td>\n",
       "      <td>1.45</td>\n",
       "      <td>Asia</td>\n",
       "    </tr>\n",
       "    <tr>\n",
       "      <th>2</th>\n",
       "      <td>Brazil</td>\n",
       "      <td>6335878</td>\n",
       "      <td>173120</td>\n",
       "      <td>6314740</td>\n",
       "      <td>172833</td>\n",
       "      <td>21138</td>\n",
       "      <td>287</td>\n",
       "      <td>2.73</td>\n",
       "      <td>South America</td>\n",
       "    </tr>\n",
       "    <tr>\n",
       "      <th>3</th>\n",
       "      <td>Russia</td>\n",
       "      <td>2275936</td>\n",
       "      <td>39491</td>\n",
       "      <td>2249890</td>\n",
       "      <td>39127</td>\n",
       "      <td>26046</td>\n",
       "      <td>364</td>\n",
       "      <td>1.74</td>\n",
       "      <td>Europe</td>\n",
       "    </tr>\n",
       "    <tr>\n",
       "      <th>4</th>\n",
       "      <td>France</td>\n",
       "      <td>2275016</td>\n",
       "      <td>52819</td>\n",
       "      <td>2270573</td>\n",
       "      <td>52410</td>\n",
       "      <td>4443</td>\n",
       "      <td>409</td>\n",
       "      <td>2.32</td>\n",
       "      <td>Europe</td>\n",
       "    </tr>\n",
       "  </tbody>\n",
       "</table>\n",
       "</div>"
      ],
      "text/plain": [
       "  Country/Region     Cases  Deaths    PCases  PDeaths  Cases (+)  Deaths (+)  \\\n",
       "0             US  13541221  268045  13383320   266873     157901        1172   \n",
       "1          India   9462809  137621   9431691   137139      31118         482   \n",
       "2         Brazil   6335878  173120   6314740   172833      21138         287   \n",
       "3         Russia   2275936   39491   2249890    39127      26046         364   \n",
       "4         France   2275016   52819   2270573    52410       4443         409   \n",
       "\n",
       "   Fatality Rate      Continent  \n",
       "0           1.98  North America  \n",
       "1           1.45           Asia  \n",
       "2           2.73  South America  \n",
       "3           1.74         Europe  \n",
       "4           2.32         Europe  "
      ]
     },
     "execution_count": 13,
     "metadata": {},
     "output_type": "execute_result"
    }
   ],
   "source": [
    "#hide\n",
    "for c in 'Cases, Deaths'.split(', '):\n",
    "    df_table[f'{c} (+)'] = (df_table[c] - df_table[f'P{c}']).clip(0)\n",
    "    #Clip ça veut dire, les chiffres negatif sont interdit\n",
    "df_table['Fatality Rate'] = (100* df_table['Deaths']/ df_table['Cases']).round(2)\n",
    "df_table['Continent'] = df_table['Country/Region'].map(mapping['map.continent'])\n",
    "df_table.head(5)"
   ]
  },
  {
   "cell_type": "code",
   "execution_count": 14,
   "metadata": {
    "execution": {
     "iopub.execute_input": "2020-12-02T00:11:19.747741Z",
     "iopub.status.busy": "2020-12-02T00:11:19.747154Z",
     "iopub.status.idle": "2020-12-02T00:11:19.749598Z",
     "shell.execute_reply": "2020-12-02T00:11:19.750103Z"
    },
    "papermill": {
     "duration": 0.042738,
     "end_time": "2020-12-02T00:11:19.750233",
     "exception": false,
     "start_time": "2020-12-02T00:11:19.707495",
     "status": "completed"
    },
    "tags": []
   },
   "outputs": [],
   "source": [
    "#hide\n",
    "#delete problematic countries from table\n",
    "df_table = df_table[~df_table['Country/Region'].isin(['Cape Verde', 'Cruise Ship', 'Kosovo'])]"
   ]
  },
  {
   "cell_type": "code",
   "execution_count": 15,
   "metadata": {
    "execution": {
     "iopub.execute_input": "2020-12-02T00:11:19.827980Z",
     "iopub.status.busy": "2020-12-02T00:11:19.827411Z",
     "iopub.status.idle": "2020-12-02T00:11:19.847111Z",
     "shell.execute_reply": "2020-12-02T00:11:19.847567Z"
    },
    "papermill": {
     "duration": 0.065039,
     "end_time": "2020-12-02T00:11:19.847692",
     "exception": false,
     "start_time": "2020-12-02T00:11:19.782653",
     "status": "completed"
    },
    "tags": []
   },
   "outputs": [
    {
     "data": {
      "text/html": [
       "<div>\n",
       "<style scoped>\n",
       "    .dataframe tbody tr th:only-of-type {\n",
       "        vertical-align: middle;\n",
       "    }\n",
       "\n",
       "    .dataframe tbody tr th {\n",
       "        vertical-align: top;\n",
       "    }\n",
       "\n",
       "    .dataframe thead th {\n",
       "        text-align: right;\n",
       "    }\n",
       "</style>\n",
       "<table border=\"1\" class=\"dataframe\">\n",
       "  <thead>\n",
       "    <tr style=\"text-align: right;\">\n",
       "      <th></th>\n",
       "      <th>Country/Region</th>\n",
       "      <th>Cases</th>\n",
       "      <th>Deaths</th>\n",
       "      <th>PCases</th>\n",
       "      <th>PDeaths</th>\n",
       "      <th>Cases (+)</th>\n",
       "      <th>Deaths (+)</th>\n",
       "      <th>Fatality Rate</th>\n",
       "      <th>Continent</th>\n",
       "    </tr>\n",
       "  </thead>\n",
       "  <tbody>\n",
       "    <tr>\n",
       "      <th>0</th>\n",
       "      <td>US</td>\n",
       "      <td>13541221</td>\n",
       "      <td>268045</td>\n",
       "      <td>13383320</td>\n",
       "      <td>266873</td>\n",
       "      <td>157901</td>\n",
       "      <td>1172</td>\n",
       "      <td>2.0</td>\n",
       "      <td>North America</td>\n",
       "    </tr>\n",
       "    <tr>\n",
       "      <th>1</th>\n",
       "      <td>India</td>\n",
       "      <td>9462809</td>\n",
       "      <td>137621</td>\n",
       "      <td>9431691</td>\n",
       "      <td>137139</td>\n",
       "      <td>31118</td>\n",
       "      <td>482</td>\n",
       "      <td>1.5</td>\n",
       "      <td>Asia</td>\n",
       "    </tr>\n",
       "    <tr>\n",
       "      <th>2</th>\n",
       "      <td>Brazil</td>\n",
       "      <td>6335878</td>\n",
       "      <td>173120</td>\n",
       "      <td>6314740</td>\n",
       "      <td>172833</td>\n",
       "      <td>21138</td>\n",
       "      <td>287</td>\n",
       "      <td>2.7</td>\n",
       "      <td>South America</td>\n",
       "    </tr>\n",
       "    <tr>\n",
       "      <th>3</th>\n",
       "      <td>Russia</td>\n",
       "      <td>2275936</td>\n",
       "      <td>39491</td>\n",
       "      <td>2249890</td>\n",
       "      <td>39127</td>\n",
       "      <td>26046</td>\n",
       "      <td>364</td>\n",
       "      <td>1.7</td>\n",
       "      <td>Europe</td>\n",
       "    </tr>\n",
       "    <tr>\n",
       "      <th>4</th>\n",
       "      <td>France</td>\n",
       "      <td>2275016</td>\n",
       "      <td>52819</td>\n",
       "      <td>2270573</td>\n",
       "      <td>52410</td>\n",
       "      <td>4443</td>\n",
       "      <td>409</td>\n",
       "      <td>2.3</td>\n",
       "      <td>Europe</td>\n",
       "    </tr>\n",
       "  </tbody>\n",
       "</table>\n",
       "</div>"
      ],
      "text/plain": [
       "  Country/Region     Cases  Deaths    PCases  PDeaths  Cases (+)  Deaths (+)  \\\n",
       "0             US  13541221  268045  13383320   266873     157901        1172   \n",
       "1          India   9462809  137621   9431691   137139      31118         482   \n",
       "2         Brazil   6335878  173120   6314740   172833      21138         287   \n",
       "3         Russia   2275936   39491   2249890    39127      26046         364   \n",
       "4         France   2275016   52819   2270573    52410       4443         409   \n",
       "\n",
       "   Fatality Rate      Continent  \n",
       "0            2.0  North America  \n",
       "1            1.5           Asia  \n",
       "2            2.7  South America  \n",
       "3            1.7         Europe  \n",
       "4            2.3         Europe  "
      ]
     },
     "execution_count": 15,
     "metadata": {},
     "output_type": "execute_result"
    }
   ],
   "source": [
    "#hide\n",
    "df_table = (pd.DataFrame(dict(Cases=dfc_cases, Deaths=dfc_deaths, PCases=dfp_cases, PDeaths=dfp_deaths))\n",
    "             .sort_values(by=['Cases', 'Deaths'], ascending=[False, False])\n",
    "             .reset_index())\n",
    "df_table.rename(columns={'index': 'Country/Region'}, inplace=True)\n",
    "for c in 'Cases, Deaths'.split(', '):\n",
    "    df_table[f'{c} (+)'] = (df_table[c] - df_table[f'P{c}']).clip(0)  # DATA BUG\n",
    "df_table['Fatality Rate'] = (100 * df_table['Deaths'] / df_table['Cases']).round(1)\n",
    "df_table['Continent'] = df_table['Country/Region'].map(mapping['map.continent'])\n",
    "df_table.head(5)"
   ]
  },
  {
   "cell_type": "code",
   "execution_count": 16,
   "metadata": {
    "execution": {
     "iopub.execute_input": "2020-12-02T00:11:19.930390Z",
     "iopub.status.busy": "2020-12-02T00:11:19.929723Z",
     "iopub.status.idle": "2020-12-02T00:11:19.932029Z",
     "shell.execute_reply": "2020-12-02T00:11:19.931563Z"
    },
    "papermill": {
     "duration": 0.040521,
     "end_time": "2020-12-02T00:11:19.932155",
     "exception": false,
     "start_time": "2020-12-02T00:11:19.891634",
     "status": "completed"
    },
    "tags": []
   },
   "outputs": [],
   "source": [
    "#hide\n",
    "#delete problematic countries from table\n",
    "df_table = df_table[~df_table['Country/Region'].isin(['Cape Verde', 'Cruise Ship', 'Kosovo'])]"
   ]
  },
  {
   "cell_type": "code",
   "execution_count": 17,
   "metadata": {
    "execution": {
     "iopub.execute_input": "2020-12-02T00:11:20.013191Z",
     "iopub.status.busy": "2020-12-02T00:11:20.012532Z",
     "iopub.status.idle": "2020-12-02T00:11:20.015029Z",
     "shell.execute_reply": "2020-12-02T00:11:20.014562Z"
    },
    "papermill": {
     "duration": 0.052327,
     "end_time": "2020-12-02T00:11:20.015146",
     "exception": false,
     "start_time": "2020-12-02T00:11:19.962819",
     "status": "completed"
    },
    "tags": []
   },
   "outputs": [],
   "source": [
    "#hide\n",
    "metrics = [df_table.columns[index] for index in [1,2,5,6]]\n",
    "# s_china = df_table[df_table['Country/Region'].eq('China')][metrics].sum().add_prefix('China ')\n",
    "s_us = df_table[df_table['Country/Region'].eq('US')][metrics].sum().add_prefix('US ')\n",
    "s_eu = df_table[df_table['Continent'].eq('Europe')][metrics].sum().add_prefix('EU ')\n",
    "s_ind = df_table[df_table['Country/Region'].eq('India')][metrics].sum().add_prefix('India ')\n",
    "summary = {'updated': pd.to_datetime(dt_today), 'since': pd.to_datetime(dt_yday)}\n",
    "summary = {'updated': pd.to_datetime(dt_today), 'since': pd.to_datetime(dt_yday)}\n",
    "summary = {**summary, **df_table[metrics].sum(), **s_ind, **s_us, **s_eu}"
   ]
  },
  {
   "cell_type": "code",
   "execution_count": 18,
   "metadata": {
    "execution": {
     "iopub.execute_input": "2020-12-02T00:11:20.088138Z",
     "iopub.status.busy": "2020-12-02T00:11:20.087380Z",
     "iopub.status.idle": "2020-12-02T00:11:20.095605Z",
     "shell.execute_reply": "2020-12-02T00:11:20.096060Z"
    },
    "papermill": {
     "duration": 0.050971,
     "end_time": "2020-12-02T00:11:20.096193",
     "exception": false,
     "start_time": "2020-12-02T00:11:20.045222",
     "status": "completed"
    },
    "tags": []
   },
   "outputs": [],
   "source": [
    "#hide\n",
    "dft_ct_new_cases = dft_cases.groupby(COL_REGION)[dt_cols].sum().diff(axis=1).fillna(0).astype(int)"
   ]
  },
  {
   "cell_type": "code",
   "execution_count": 19,
   "metadata": {
    "execution": {
     "iopub.execute_input": "2020-12-02T00:11:20.170192Z",
     "iopub.status.busy": "2020-12-02T00:11:20.169420Z",
     "iopub.status.idle": "2020-12-02T00:11:20.171888Z",
     "shell.execute_reply": "2020-12-02T00:11:20.172407Z"
    },
    "papermill": {
     "duration": 0.041352,
     "end_time": "2020-12-02T00:11:20.172538",
     "exception": false,
     "start_time": "2020-12-02T00:11:20.131186",
     "status": "completed"
    },
    "tags": []
   },
   "outputs": [],
   "source": [
    "#hide\n",
    "everydaycases = dft_ct_new_cases.cumsum(axis=1)"
   ]
  },
  {
   "cell_type": "code",
   "execution_count": 20,
   "metadata": {
    "execution": {
     "iopub.execute_input": "2020-12-02T00:11:20.247327Z",
     "iopub.status.busy": "2020-12-02T00:11:20.246729Z",
     "iopub.status.idle": "2020-12-02T00:11:21.962595Z",
     "shell.execute_reply": "2020-12-02T00:11:21.961621Z"
    },
    "papermill": {
     "duration": 1.756004,
     "end_time": "2020-12-02T00:11:21.962734",
     "exception": false,
     "start_time": "2020-12-02T00:11:20.206730",
     "status": "completed"
    },
    "tags": []
   },
   "outputs": [],
   "source": [
    "#hide\n",
    "import pandas as pd\n",
    "import matplotlib.pyplot as plt\n",
    "import matplotlib.ticker as ticker\n",
    "import matplotlib.animation as animation\n",
    "from IPython.display import HTML"
   ]
  },
  {
   "cell_type": "code",
   "execution_count": 21,
   "metadata": {
    "execution": {
     "iopub.execute_input": "2020-12-02T00:11:22.032647Z",
     "iopub.status.busy": "2020-12-02T00:11:22.032080Z",
     "iopub.status.idle": "2020-12-02T00:11:22.036145Z",
     "shell.execute_reply": "2020-12-02T00:11:22.036733Z"
    },
    "papermill": {
     "duration": 0.041553,
     "end_time": "2020-12-02T00:11:22.036954",
     "exception": false,
     "start_time": "2020-12-02T00:11:21.995401",
     "status": "completed"
    },
    "tags": []
   },
   "outputs": [],
   "source": [
    "#hide\n",
    "t = everydaycases.stack()"
   ]
  },
  {
   "cell_type": "code",
   "execution_count": 22,
   "metadata": {
    "execution": {
     "iopub.execute_input": "2020-12-02T00:11:22.101784Z",
     "iopub.status.busy": "2020-12-02T00:11:22.101217Z",
     "iopub.status.idle": "2020-12-02T00:11:22.106772Z",
     "shell.execute_reply": "2020-12-02T00:11:22.107281Z"
    },
    "papermill": {
     "duration": 0.040048,
     "end_time": "2020-12-02T00:11:22.107400",
     "exception": false,
     "start_time": "2020-12-02T00:11:22.067352",
     "status": "completed"
    },
    "tags": []
   },
   "outputs": [],
   "source": [
    "#hide\n",
    "g = t.reset_index(['Country/Region'])"
   ]
  },
  {
   "cell_type": "code",
   "execution_count": 23,
   "metadata": {
    "execution": {
     "iopub.execute_input": "2020-12-02T00:11:22.166642Z",
     "iopub.status.busy": "2020-12-02T00:11:22.166008Z",
     "iopub.status.idle": "2020-12-02T00:11:22.168253Z",
     "shell.execute_reply": "2020-12-02T00:11:22.167710Z"
    },
    "papermill": {
     "duration": 0.03333,
     "end_time": "2020-12-02T00:11:22.168435",
     "exception": false,
     "start_time": "2020-12-02T00:11:22.135105",
     "status": "completed"
    },
    "tags": []
   },
   "outputs": [],
   "source": [
    "#hide\n",
    "g.index.name = 'date'"
   ]
  },
  {
   "cell_type": "code",
   "execution_count": 24,
   "metadata": {
    "execution": {
     "iopub.execute_input": "2020-12-02T00:11:22.238504Z",
     "iopub.status.busy": "2020-12-02T00:11:22.237774Z",
     "iopub.status.idle": "2020-12-02T00:11:22.240696Z",
     "shell.execute_reply": "2020-12-02T00:11:22.240032Z"
    },
    "papermill": {
     "duration": 0.040338,
     "end_time": "2020-12-02T00:11:22.240824",
     "exception": false,
     "start_time": "2020-12-02T00:11:22.200486",
     "status": "completed"
    },
    "tags": []
   },
   "outputs": [],
   "source": [
    "# #hide\n",
    "# g = g.reset_index(['date'])"
   ]
  },
  {
   "cell_type": "code",
   "execution_count": 25,
   "metadata": {
    "execution": {
     "iopub.execute_input": "2020-12-02T00:11:22.308136Z",
     "iopub.status.busy": "2020-12-02T00:11:22.307576Z",
     "iopub.status.idle": "2020-12-02T00:11:22.309427Z",
     "shell.execute_reply": "2020-12-02T00:11:22.310058Z"
    },
    "papermill": {
     "duration": 0.038568,
     "end_time": "2020-12-02T00:11:22.310182",
     "exception": false,
     "start_time": "2020-12-02T00:11:22.271614",
     "status": "completed"
    },
    "tags": []
   },
   "outputs": [],
   "source": [
    "#hide\n",
    "# g.head()"
   ]
  },
  {
   "cell_type": "code",
   "execution_count": 26,
   "metadata": {
    "execution": {
     "iopub.execute_input": "2020-12-02T00:11:22.372372Z",
     "iopub.status.busy": "2020-12-02T00:11:22.371607Z",
     "iopub.status.idle": "2020-12-02T00:11:22.374247Z",
     "shell.execute_reply": "2020-12-02T00:11:22.373651Z"
    },
    "papermill": {
     "duration": 0.034906,
     "end_time": "2020-12-02T00:11:22.374365",
     "exception": false,
     "start_time": "2020-12-02T00:11:22.339459",
     "status": "completed"
    },
    "tags": []
   },
   "outputs": [],
   "source": [
    "#hide\n",
    "# g.columns = ['date','country','cases']"
   ]
  },
  {
   "cell_type": "code",
   "execution_count": 27,
   "metadata": {
    "execution": {
     "iopub.execute_input": "2020-12-02T00:11:22.444882Z",
     "iopub.status.busy": "2020-12-02T00:11:22.444125Z",
     "iopub.status.idle": "2020-12-02T00:11:22.446281Z",
     "shell.execute_reply": "2020-12-02T00:11:22.446785Z"
    },
    "papermill": {
     "duration": 0.038564,
     "end_time": "2020-12-02T00:11:22.446909",
     "exception": false,
     "start_time": "2020-12-02T00:11:22.408345",
     "status": "completed"
    },
    "tags": []
   },
   "outputs": [],
   "source": [
    "#hide\n",
    "# g['continent'] = g.country"
   ]
  },
  {
   "cell_type": "code",
   "execution_count": 28,
   "metadata": {
    "execution": {
     "iopub.execute_input": "2020-12-02T00:11:22.512179Z",
     "iopub.status.busy": "2020-12-02T00:11:22.511614Z",
     "iopub.status.idle": "2020-12-02T00:11:22.513589Z",
     "shell.execute_reply": "2020-12-02T00:11:22.514056Z"
    },
    "papermill": {
     "duration": 0.036488,
     "end_time": "2020-12-02T00:11:22.514235",
     "exception": false,
     "start_time": "2020-12-02T00:11:22.477747",
     "status": "completed"
    },
    "tags": []
   },
   "outputs": [],
   "source": [
    "#hide\n",
    "# cols = list(g.columns.values)"
   ]
  },
  {
   "cell_type": "code",
   "execution_count": 29,
   "metadata": {
    "execution": {
     "iopub.execute_input": "2020-12-02T00:11:22.576810Z",
     "iopub.status.busy": "2020-12-02T00:11:22.576263Z",
     "iopub.status.idle": "2020-12-02T00:11:22.578210Z",
     "shell.execute_reply": "2020-12-02T00:11:22.578631Z"
    },
    "papermill": {
     "duration": 0.035401,
     "end_time": "2020-12-02T00:11:22.578745",
     "exception": false,
     "start_time": "2020-12-02T00:11:22.543344",
     "status": "completed"
    },
    "tags": []
   },
   "outputs": [],
   "source": [
    "#hide\n",
    "# cols.insert(0, cols.pop())"
   ]
  },
  {
   "cell_type": "code",
   "execution_count": 30,
   "metadata": {
    "execution": {
     "iopub.execute_input": "2020-12-02T00:11:22.644037Z",
     "iopub.status.busy": "2020-12-02T00:11:22.643476Z",
     "iopub.status.idle": "2020-12-02T00:11:22.645913Z",
     "shell.execute_reply": "2020-12-02T00:11:22.645386Z"
    },
    "papermill": {
     "duration": 0.036801,
     "end_time": "2020-12-02T00:11:22.646053",
     "exception": false,
     "start_time": "2020-12-02T00:11:22.609252",
     "status": "completed"
    },
    "tags": []
   },
   "outputs": [],
   "source": [
    "#hide\n",
    "# g = g[cols]"
   ]
  },
  {
   "cell_type": "code",
   "execution_count": 31,
   "metadata": {
    "execution": {
     "iopub.execute_input": "2020-12-02T00:11:22.710612Z",
     "iopub.status.busy": "2020-12-02T00:11:22.710033Z",
     "iopub.status.idle": "2020-12-02T00:11:22.712396Z",
     "shell.execute_reply": "2020-12-02T00:11:22.711918Z"
    },
    "papermill": {
     "duration": 0.036004,
     "end_time": "2020-12-02T00:11:22.712506",
     "exception": false,
     "start_time": "2020-12-02T00:11:22.676502",
     "status": "completed"
    },
    "tags": []
   },
   "outputs": [],
   "source": [
    "#hide\n",
    "# g['continent'] = g['continent'].map(mapping['map.continent'])"
   ]
  },
  {
   "cell_type": "code",
   "execution_count": 32,
   "metadata": {
    "execution": {
     "iopub.execute_input": "2020-12-02T00:11:22.788260Z",
     "iopub.status.busy": "2020-12-02T00:11:22.787453Z",
     "iopub.status.idle": "2020-12-02T00:11:22.790447Z",
     "shell.execute_reply": "2020-12-02T00:11:22.789543Z"
    },
    "papermill": {
     "duration": 0.040306,
     "end_time": "2020-12-02T00:11:22.790573",
     "exception": false,
     "start_time": "2020-12-02T00:11:22.750267",
     "status": "completed"
    },
    "tags": []
   },
   "outputs": [],
   "source": [
    "#hide\n",
    "# g.head()"
   ]
  },
  {
   "cell_type": "code",
   "execution_count": 33,
   "metadata": {
    "execution": {
     "iopub.execute_input": "2020-12-02T00:11:22.859113Z",
     "iopub.status.busy": "2020-12-02T00:11:22.858432Z",
     "iopub.status.idle": "2020-12-02T00:11:22.860362Z",
     "shell.execute_reply": "2020-12-02T00:11:22.860839Z"
    },
    "papermill": {
     "duration": 0.036681,
     "end_time": "2020-12-02T00:11:22.860962",
     "exception": false,
     "start_time": "2020-12-02T00:11:22.824281",
     "status": "completed"
    },
    "tags": []
   },
   "outputs": [],
   "source": [
    "# hide\n",
    "# g['date'] = g['date'].astype('datetime64[ns]')"
   ]
  },
  {
   "cell_type": "code",
   "execution_count": 34,
   "metadata": {
    "execution": {
     "iopub.execute_input": "2020-12-02T00:11:22.925839Z",
     "iopub.status.busy": "2020-12-02T00:11:22.925252Z",
     "iopub.status.idle": "2020-12-02T00:11:22.927239Z",
     "shell.execute_reply": "2020-12-02T00:11:22.927912Z"
    },
    "papermill": {
     "duration": 0.037319,
     "end_time": "2020-12-02T00:11:22.928043",
     "exception": false,
     "start_time": "2020-12-02T00:11:22.890724",
     "status": "completed"
    },
    "tags": []
   },
   "outputs": [],
   "source": [
    "#hide\n",
    "# g['date'] = g.date.dt.dayofyear"
   ]
  },
  {
   "cell_type": "code",
   "execution_count": 35,
   "metadata": {
    "execution": {
     "iopub.execute_input": "2020-12-02T00:11:22.993865Z",
     "iopub.status.busy": "2020-12-02T00:11:22.993274Z",
     "iopub.status.idle": "2020-12-02T00:11:22.995783Z",
     "shell.execute_reply": "2020-12-02T00:11:22.995194Z"
    },
    "papermill": {
     "duration": 0.037241,
     "end_time": "2020-12-02T00:11:22.995916",
     "exception": false,
     "start_time": "2020-12-02T00:11:22.958675",
     "status": "completed"
    },
    "tags": []
   },
   "outputs": [],
   "source": [
    "#hide\n",
    "# g = g.rename(columns= {'continent':'group','country':'name','cases':'value'})"
   ]
  },
  {
   "cell_type": "code",
   "execution_count": 36,
   "metadata": {
    "execution": {
     "iopub.execute_input": "2020-12-02T00:11:23.069089Z",
     "iopub.status.busy": "2020-12-02T00:11:23.068415Z",
     "iopub.status.idle": "2020-12-02T00:11:23.071384Z",
     "shell.execute_reply": "2020-12-02T00:11:23.070757Z"
    },
    "papermill": {
     "duration": 0.044401,
     "end_time": "2020-12-02T00:11:23.071541",
     "exception": false,
     "start_time": "2020-12-02T00:11:23.027140",
     "status": "completed"
    },
    "tags": []
   },
   "outputs": [],
   "source": [
    "#hide\n",
    "# cols = ['name','group','day','value']"
   ]
  },
  {
   "cell_type": "code",
   "execution_count": 37,
   "metadata": {
    "execution": {
     "iopub.execute_input": "2020-12-02T00:11:23.138548Z",
     "iopub.status.busy": "2020-12-02T00:11:23.137958Z",
     "iopub.status.idle": "2020-12-02T00:11:23.140028Z",
     "shell.execute_reply": "2020-12-02T00:11:23.140449Z"
    },
    "papermill": {
     "duration": 0.03647,
     "end_time": "2020-12-02T00:11:23.140586",
     "exception": false,
     "start_time": "2020-12-02T00:11:23.104116",
     "status": "completed"
    },
    "tags": []
   },
   "outputs": [],
   "source": [
    "#hide\n",
    "# g.rename(columns= {'date':'day'},inplace = True)"
   ]
  },
  {
   "cell_type": "code",
   "execution_count": 38,
   "metadata": {
    "execution": {
     "iopub.execute_input": "2020-12-02T00:11:23.207882Z",
     "iopub.status.busy": "2020-12-02T00:11:23.207326Z",
     "iopub.status.idle": "2020-12-02T00:11:23.210140Z",
     "shell.execute_reply": "2020-12-02T00:11:23.209576Z"
    },
    "papermill": {
     "duration": 0.036823,
     "end_time": "2020-12-02T00:11:23.210291",
     "exception": false,
     "start_time": "2020-12-02T00:11:23.173468",
     "status": "completed"
    },
    "tags": []
   },
   "outputs": [],
   "source": [
    "#hide\n",
    "# g = g[cols]"
   ]
  },
  {
   "cell_type": "code",
   "execution_count": 39,
   "metadata": {
    "execution": {
     "iopub.execute_input": "2020-12-02T00:11:23.824345Z",
     "iopub.status.busy": "2020-12-02T00:11:23.823821Z",
     "iopub.status.idle": "2020-12-02T00:11:23.826296Z",
     "shell.execute_reply": "2020-12-02T00:11:23.825762Z"
    },
    "papermill": {
     "duration": 0.583556,
     "end_time": "2020-12-02T00:11:23.826408",
     "exception": false,
     "start_time": "2020-12-02T00:11:23.242852",
     "status": "completed"
    },
    "tags": []
   },
   "outputs": [],
   "source": [
    "# #hide\n",
    "# g = g[g.group.notna()]"
   ]
  },
  {
   "cell_type": "code",
   "execution_count": 40,
   "metadata": {
    "execution": {
     "iopub.execute_input": "2020-12-02T00:11:23.886412Z",
     "iopub.status.busy": "2020-12-02T00:11:23.885819Z",
     "iopub.status.idle": "2020-12-02T00:11:23.887981Z",
     "shell.execute_reply": "2020-12-02T00:11:23.887546Z"
    },
    "papermill": {
     "duration": 0.033664,
     "end_time": "2020-12-02T00:11:23.888080",
     "exception": false,
     "start_time": "2020-12-02T00:11:23.854416",
     "status": "completed"
    },
    "tags": []
   },
   "outputs": [],
   "source": [
    "# #hide\n",
    "# colors = dict(zip(\n",
    "#     [\"Oceania\", \"Europe\", \"Asia\", \"South America\", \"Middle East\", \"North America\", \"Africa\"],\n",
    "#     [\"#adb0ff\", \"#ffb3ff\", \"#90d595\", \"#e48381\", \"#aafbff\", \"#f7bb5f\", \"#eafb50\"]\n",
    "# ))\n",
    "# group_lk = g.set_index('name')['group'].to_dict()"
   ]
  },
  {
   "cell_type": "code",
   "execution_count": null,
   "metadata": {
    "papermill": {
     "duration": 0.028984,
     "end_time": "2020-12-02T00:11:23.945359",
     "exception": false,
     "start_time": "2020-12-02T00:11:23.916375",
     "status": "completed"
    },
    "tags": []
   },
   "outputs": [],
   "source": []
  },
  {
   "cell_type": "code",
   "execution_count": 41,
   "metadata": {
    "execution": {
     "iopub.execute_input": "2020-12-02T00:11:24.009746Z",
     "iopub.status.busy": "2020-12-02T00:11:24.009033Z",
     "iopub.status.idle": "2020-12-02T00:11:24.011617Z",
     "shell.execute_reply": "2020-12-02T00:11:24.011118Z"
    },
    "papermill": {
     "duration": 0.036703,
     "end_time": "2020-12-02T00:11:24.011724",
     "exception": false,
     "start_time": "2020-12-02T00:11:23.975021",
     "status": "completed"
    },
    "tags": []
   },
   "outputs": [],
   "source": [
    "# #hide\n",
    "# fig, ax = plt.subplots(figsize=(15, 8))\n",
    "\n",
    "# def draw_barchart(current_day):\n",
    "#     dff = g[g['day'].eq(current_day)].sort_values(by='value', ascending=True).tail(10)\n",
    "#     ax.clear()\n",
    "#     ax.barh(dff['name'], dff['value'], color=[colors[group_lk[x]] for x in dff['name']])\n",
    "#     dx = dff['value'].max() / 200\n",
    "    \n",
    "#     for i, (value, name) in enumerate(zip(dff['value'], dff['name'])):\n",
    "#         ax.text(value-dx, i,     name,           size=14, weight=600, ha='right', va='bottom')\n",
    "#         ax.text(value-dx, i-.25, group_lk[name], size=10, color='#444444', ha='right', va='baseline')\n",
    "#         ax.text(value+dx, i,     f'{value:,.0f}',  size=14, ha='left',  va='center')\n",
    "#     ax.text(1, 0.4, current_day, transform=ax.transAxes, color='#777777', size=46, ha='right', weight=800)\n",
    "#     ax.text(0, 1.06, 'Population (thousands)', transform=ax.transAxes, size=12, color='#777777')\n",
    "#     ax.xaxis.set_major_formatter(ticker.StrMethodFormatter('{x:,.0f}'))\n",
    "#     ax.xaxis.set_ticks_position('top')\n",
    "#     ax.tick_params(axis='x', colors='#777777', labelsize=12)\n",
    "#     ax.set_yticks([])\n",
    "#     ax.margins(0, 0.01)\n",
    "#     ax.grid(which='major', axis='x', linestyle='-')\n",
    "#     ax.set_axisbelow(True)\n",
    "    \n",
    "#     ax.text(0, 1.15, 'Coronavirus',\n",
    "#             transform=ax.transAxes, size=24, weight=600, ha='left', va='top')\n",
    "# #     ax.text(1, 0, 'by @pratapvardhan; credit @jburnmurdoch', transform=ax.transAxes, color='#777777', ha='right',\n",
    "# #             bbox=dict(facecolor='white', alpha=0.8, edgecolor='white'))\n",
    "#     plt.box(False)"
   ]
  },
  {
   "cell_type": "code",
   "execution_count": 42,
   "metadata": {
    "execution": {
     "iopub.execute_input": "2020-12-02T00:11:24.084894Z",
     "iopub.status.busy": "2020-12-02T00:11:24.084282Z",
     "iopub.status.idle": "2020-12-02T00:11:24.087357Z",
     "shell.execute_reply": "2020-12-02T00:11:24.087859Z"
    },
    "papermill": {
     "duration": 0.043234,
     "end_time": "2020-12-02T00:11:24.087992",
     "exception": false,
     "start_time": "2020-12-02T00:11:24.044758",
     "status": "completed"
    },
    "tags": []
   },
   "outputs": [],
   "source": [
    "# #hide_input\n",
    "# fig, ax = plt.subplots(figsize=(15, 8))\n",
    "# animator = animation.FuncAnimation(fig, draw_barchart, frames=range(g.day.values.min(), g.day.values.max()))\n",
    "# HTML(animator.to_jshtml())\n",
    "# # or use animator.to_html5_video() or animator.save() "
   ]
  },
  {
   "cell_type": "code",
   "execution_count": null,
   "metadata": {
    "papermill": {
     "duration": 0.030006,
     "end_time": "2020-12-02T00:11:24.148338",
     "exception": false,
     "start_time": "2020-12-02T00:11:24.118332",
     "status": "completed"
    },
    "tags": []
   },
   "outputs": [],
   "source": []
  },
  {
   "cell_type": "code",
   "execution_count": null,
   "metadata": {
    "papermill": {
     "duration": 0.031325,
     "end_time": "2020-12-02T00:11:24.210402",
     "exception": false,
     "start_time": "2020-12-02T00:11:24.179077",
     "status": "completed"
    },
    "tags": []
   },
   "outputs": [],
   "source": []
  },
  {
   "cell_type": "code",
   "execution_count": null,
   "metadata": {
    "papermill": {
     "duration": 0.039276,
     "end_time": "2020-12-02T00:11:24.281420",
     "exception": false,
     "start_time": "2020-12-02T00:11:24.242144",
     "status": "completed"
    },
    "tags": []
   },
   "outputs": [],
   "source": []
  }
 ],
 "metadata": {
  "kernelspec": {
   "display_name": "Python 3",
   "language": "python",
   "name": "python3"
  },
  "language_info": {
   "codemirror_mode": {
    "name": "ipython",
    "version": 3
   },
   "file_extension": ".py",
   "mimetype": "text/x-python",
   "name": "python",
   "nbconvert_exporter": "python",
   "pygments_lexer": "ipython3",
   "version": "3.6.12"
  },
  "papermill": {
   "duration": 7.737784,
   "end_time": "2020-12-02T00:11:24.620072",
   "environment_variables": {},
   "exception": null,
   "input_path": "2020-03-21-covid19exp.ipynb",
   "output_path": "2020-03-21-covid19exp.ipynb",
   "parameters": {},
   "start_time": "2020-12-02T00:11:16.882288",
   "version": "2.0.0"
  }
 },
 "nbformat": 4,
 "nbformat_minor": 4
}