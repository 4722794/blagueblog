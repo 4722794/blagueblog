{
 "cells": [
  {
   "cell_type": "markdown",
   "metadata": {
    "papermill": {
     "duration": 0.036707,
     "end_time": "2020-11-28T00:10:59.647795",
     "exception": false,
     "start_time": "2020-11-28T00:10:59.611088",
     "status": "completed"
    },
    "tags": []
   },
   "source": [
    "# COVID-19 Case Race\n",
    "> A race chart to see rising cases around the world\n",
    "\n",
    "- author: Hargun Oberoi\n",
    "- image: images/covid-overview.png\n",
    "- hide: false\n",
    "- badges: false"
   ]
  },
  {
   "cell_type": "code",
   "execution_count": 1,
   "metadata": {
    "execution": {
     "iopub.execute_input": "2020-11-28T00:10:59.712975Z",
     "iopub.status.busy": "2020-11-28T00:10:59.712370Z",
     "iopub.status.idle": "2020-11-28T00:11:00.136736Z",
     "shell.execute_reply": "2020-11-28T00:11:00.137264Z"
    },
    "papermill": {
     "duration": 0.459064,
     "end_time": "2020-11-28T00:11:00.137453",
     "exception": false,
     "start_time": "2020-11-28T00:10:59.678389",
     "status": "completed"
    },
    "tags": []
   },
   "outputs": [],
   "source": [
    "#hide\n",
    "import numpy as np\n",
    "import pandas as pd\n",
    "from jinja2 import Template\n",
    "from IPython.display import HTML"
   ]
  },
  {
   "cell_type": "code",
   "execution_count": 2,
   "metadata": {
    "execution": {
     "iopub.execute_input": "2020-11-28T00:11:00.214193Z",
     "iopub.status.busy": "2020-11-28T00:11:00.213588Z",
     "iopub.status.idle": "2020-11-28T00:11:00.216208Z",
     "shell.execute_reply": "2020-11-28T00:11:00.215679Z"
    },
    "papermill": {
     "duration": 0.041896,
     "end_time": "2020-11-28T00:11:00.216335",
     "exception": false,
     "start_time": "2020-11-28T00:11:00.174439",
     "status": "completed"
    },
    "tags": []
   },
   "outputs": [],
   "source": [
    "#hide\n",
    "\n",
    "# FETCH\n",
    "base_url = 'https://raw.githubusercontent.com/pratapvardhan/notebooks/master/covid19/'\n",
    "paths = {\n",
    "    'mapping': base_url + 'mapping_countries.csv',\n",
    "    'overview': base_url + 'overview.tpl'\n",
    "}"
   ]
  },
  {
   "cell_type": "code",
   "execution_count": 3,
   "metadata": {
    "execution": {
     "iopub.execute_input": "2020-11-28T00:11:00.288966Z",
     "iopub.status.busy": "2020-11-28T00:11:00.288360Z",
     "iopub.status.idle": "2020-11-28T00:11:00.292232Z",
     "shell.execute_reply": "2020-11-28T00:11:00.291724Z"
    },
    "papermill": {
     "duration": 0.045862,
     "end_time": "2020-11-28T00:11:00.292359",
     "exception": false,
     "start_time": "2020-11-28T00:11:00.246497",
     "status": "completed"
    },
    "tags": []
   },
   "outputs": [
    {
     "data": {
      "text/plain": [
       "'https://raw.githubusercontent.com/pratapvardhan/notebooks/master/covid19/mapping_countries.csv'"
      ]
     },
     "execution_count": 3,
     "metadata": {},
     "output_type": "execute_result"
    }
   ],
   "source": [
    "#hide\n",
    "paths['mapping']"
   ]
  },
  {
   "cell_type": "code",
   "execution_count": 4,
   "metadata": {
    "execution": {
     "iopub.execute_input": "2020-11-28T00:11:00.358103Z",
     "iopub.status.busy": "2020-11-28T00:11:00.357513Z",
     "iopub.status.idle": "2020-11-28T00:11:00.359471Z",
     "shell.execute_reply": "2020-11-28T00:11:00.359969Z"
    },
    "papermill": {
     "duration": 0.037493,
     "end_time": "2020-11-28T00:11:00.360111",
     "exception": false,
     "start_time": "2020-11-28T00:11:00.322618",
     "status": "completed"
    },
    "tags": []
   },
   "outputs": [],
   "source": [
    "#hide\n",
    "def get_mappings(url):\n",
    "    df = pd.read_csv(url)\n",
    "    return {\n",
    "        'df': df,\n",
    "        'replace.country': dict(df.dropna(subset=['Name']).set_index('Country')['Name']),\n",
    "        'map.continent': dict(df.set_index('Name')['Continent'])\n",
    "    }"
   ]
  },
  {
   "cell_type": "code",
   "execution_count": 5,
   "metadata": {
    "execution": {
     "iopub.execute_input": "2020-11-28T00:11:00.426774Z",
     "iopub.status.busy": "2020-11-28T00:11:00.426151Z",
     "iopub.status.idle": "2020-11-28T00:11:00.475657Z",
     "shell.execute_reply": "2020-11-28T00:11:00.474699Z"
    },
    "papermill": {
     "duration": 0.085567,
     "end_time": "2020-11-28T00:11:00.475868",
     "exception": false,
     "start_time": "2020-11-28T00:11:00.390301",
     "status": "completed"
    },
    "tags": []
   },
   "outputs": [],
   "source": [
    "#hide\n",
    "mapping = get_mappings(paths['mapping'])"
   ]
  },
  {
   "cell_type": "code",
   "execution_count": 6,
   "metadata": {
    "execution": {
     "iopub.execute_input": "2020-11-28T00:11:00.544933Z",
     "iopub.status.busy": "2020-11-28T00:11:00.544327Z",
     "iopub.status.idle": "2020-11-28T00:11:00.546634Z",
     "shell.execute_reply": "2020-11-28T00:11:00.547220Z"
    },
    "papermill": {
     "duration": 0.038276,
     "end_time": "2020-11-28T00:11:00.547376",
     "exception": false,
     "start_time": "2020-11-28T00:11:00.509100",
     "status": "completed"
    },
    "tags": []
   },
   "outputs": [],
   "source": [
    "#hide\n",
    "def get_template(path):\n",
    "    from urllib.parse import urlparse\n",
    "    if bool(urlparse(path).netloc):\n",
    "        from urllib.request import urlopen\n",
    "        return urlopen(path).read().decode('utf8')\n",
    "    return open(path).read()"
   ]
  },
  {
   "cell_type": "code",
   "execution_count": 7,
   "metadata": {
    "execution": {
     "iopub.execute_input": "2020-11-28T00:11:00.613806Z",
     "iopub.status.busy": "2020-11-28T00:11:00.613197Z",
     "iopub.status.idle": "2020-11-28T00:11:00.615525Z",
     "shell.execute_reply": "2020-11-28T00:11:00.615018Z"
    },
    "papermill": {
     "duration": 0.037903,
     "end_time": "2020-11-28T00:11:00.615650",
     "exception": false,
     "start_time": "2020-11-28T00:11:00.577747",
     "status": "completed"
    },
    "tags": []
   },
   "outputs": [],
   "source": [
    "#hide\n",
    "def get_frame(name):\n",
    "    url = (\n",
    "        'https://raw.githubusercontent.com/CSSEGISandData/COVID-19/master/csse_covid_19_data/'\n",
    "        f'csse_covid_19_time_series/time_series_covid19_{name}_global.csv')\n",
    "    df = pd.read_csv(url)\n",
    "    # rename countries\n",
    "    df['Country/Region'] = df['Country/Region'].replace(mapping['replace.country'])\n",
    "    return df"
   ]
  },
  {
   "cell_type": "code",
   "execution_count": 8,
   "metadata": {
    "execution": {
     "iopub.execute_input": "2020-11-28T00:11:00.683336Z",
     "iopub.status.busy": "2020-11-28T00:11:00.682702Z",
     "iopub.status.idle": "2020-11-28T00:11:00.684776Z",
     "shell.execute_reply": "2020-11-28T00:11:00.685274Z"
    },
    "papermill": {
     "duration": 0.039289,
     "end_time": "2020-11-28T00:11:00.685416",
     "exception": false,
     "start_time": "2020-11-28T00:11:00.646127",
     "status": "completed"
    },
    "tags": []
   },
   "outputs": [],
   "source": [
    "#hide\n",
    "def get_dates(df):\n",
    "    dt_cols = df.columns[~df.columns.isin(['Province/State', 'Country/Region', 'Lat', 'Long'])]\n",
    "    LAST_DATE_I = -1\n",
    "    # sometimes last column may be empty, then go backwards\n",
    "    for i in range(-1, -len(dt_cols), -1):\n",
    "        if not df[dt_cols[i]].fillna(0).eq(0).all():\n",
    "            LAST_DATE_I = i\n",
    "            break\n",
    "    return LAST_DATE_I, dt_cols"
   ]
  },
  {
   "cell_type": "code",
   "execution_count": 9,
   "metadata": {
    "execution": {
     "iopub.execute_input": "2020-11-28T00:11:00.751625Z",
     "iopub.status.busy": "2020-11-28T00:11:00.751017Z",
     "iopub.status.idle": "2020-11-28T00:11:01.048369Z",
     "shell.execute_reply": "2020-11-28T00:11:01.047814Z"
    },
    "papermill": {
     "duration": 0.332873,
     "end_time": "2020-11-28T00:11:01.048502",
     "exception": false,
     "start_time": "2020-11-28T00:11:00.715629",
     "status": "completed"
    },
    "tags": []
   },
   "outputs": [],
   "source": [
    "#hide\n",
    "COL_REGION = 'Country/Region'\n",
    "# Confirmed, Recovered, Deaths\n",
    "df = get_frame('confirmed')\n",
    "# dft_: timeseries, dfc_: today country agg\n",
    "dft_cases = df\n",
    "dft_deaths = get_frame('deaths')\n",
    "dft_recovered = get_frame('recovered')\n",
    "LAST_DATE_I, dt_cols = get_dates(df)"
   ]
  },
  {
   "cell_type": "code",
   "execution_count": 10,
   "metadata": {
    "execution": {
     "iopub.execute_input": "2020-11-28T00:11:01.118365Z",
     "iopub.status.busy": "2020-11-28T00:11:01.117764Z",
     "iopub.status.idle": "2020-11-28T00:11:01.120523Z",
     "shell.execute_reply": "2020-11-28T00:11:01.120044Z"
    },
    "papermill": {
     "duration": 0.039741,
     "end_time": "2020-11-28T00:11:01.120652",
     "exception": false,
     "start_time": "2020-11-28T00:11:01.080911",
     "status": "completed"
    },
    "tags": []
   },
   "outputs": [],
   "source": [
    "#hide\n",
    "LAST_DATE_I, dt_cols = get_dates(df)\n",
    "dt_today =dt_cols[LAST_DATE_I]\n",
    "# dt_5day = dt_cols[LAST_DATE_I - 5]\n",
    "dt_yday = dt_cols[LAST_DATE_I - 1]"
   ]
  },
  {
   "cell_type": "code",
   "execution_count": 11,
   "metadata": {
    "execution": {
     "iopub.execute_input": "2020-11-28T00:11:01.186605Z",
     "iopub.status.busy": "2020-11-28T00:11:01.186022Z",
     "iopub.status.idle": "2020-11-28T00:11:01.195323Z",
     "shell.execute_reply": "2020-11-28T00:11:01.195875Z"
    },
    "papermill": {
     "duration": 0.045294,
     "end_time": "2020-11-28T00:11:01.196023",
     "exception": false,
     "start_time": "2020-11-28T00:11:01.150729",
     "status": "completed"
    },
    "tags": []
   },
   "outputs": [],
   "source": [
    "#hide\n",
    "dfc_cases = dft_cases.groupby(COL_REGION)[dt_today].sum()\n",
    "dfc_deaths = dft_deaths.groupby(COL_REGION)[dt_today].sum()\n",
    "# dfp_cases = dft_cases.groupby(COL_REGION)[dt_5day].sum()\n",
    "# dfp_deaths = dft_deaths.groupby(COL_REGION)[dt_5day].sum()\n",
    "dfp_cases = dft_cases.groupby(COL_REGION)[dt_yday].sum()\n",
    "dfp_deaths = dft_deaths.groupby(COL_REGION)[dt_yday].sum()"
   ]
  },
  {
   "cell_type": "code",
   "execution_count": 12,
   "metadata": {
    "execution": {
     "iopub.execute_input": "2020-11-28T00:11:01.264151Z",
     "iopub.status.busy": "2020-11-28T00:11:01.263538Z",
     "iopub.status.idle": "2020-11-28T00:11:01.267323Z",
     "shell.execute_reply": "2020-11-28T00:11:01.267772Z"
    },
    "papermill": {
     "duration": 0.041464,
     "end_time": "2020-11-28T00:11:01.267928",
     "exception": false,
     "start_time": "2020-11-28T00:11:01.226464",
     "status": "completed"
    },
    "tags": []
   },
   "outputs": [],
   "source": [
    "#hide\n",
    "df_table = (pd.DataFrame(dict(Cases = dfc_cases, Deaths = dfc_deaths, PCases = dfp_cases, PDeaths = dfp_deaths))\n",
    "            .sort_values(by = ['Cases','Deaths'], ascending = [False, False])\n",
    "            .reset_index())"
   ]
  },
  {
   "cell_type": "code",
   "execution_count": 13,
   "metadata": {
    "execution": {
     "iopub.execute_input": "2020-11-28T00:11:01.351607Z",
     "iopub.status.busy": "2020-11-28T00:11:01.343707Z",
     "iopub.status.idle": "2020-11-28T00:11:01.356266Z",
     "shell.execute_reply": "2020-11-28T00:11:01.355760Z"
    },
    "papermill": {
     "duration": 0.058263,
     "end_time": "2020-11-28T00:11:01.356392",
     "exception": false,
     "start_time": "2020-11-28T00:11:01.298129",
     "status": "completed"
    },
    "tags": []
   },
   "outputs": [
    {
     "data": {
      "text/html": [
       "<div>\n",
       "<style scoped>\n",
       "    .dataframe tbody tr th:only-of-type {\n",
       "        vertical-align: middle;\n",
       "    }\n",
       "\n",
       "    .dataframe tbody tr th {\n",
       "        vertical-align: top;\n",
       "    }\n",
       "\n",
       "    .dataframe thead th {\n",
       "        text-align: right;\n",
       "    }\n",
       "</style>\n",
       "<table border=\"1\" class=\"dataframe\">\n",
       "  <thead>\n",
       "    <tr style=\"text-align: right;\">\n",
       "      <th></th>\n",
       "      <th>Country/Region</th>\n",
       "      <th>Cases</th>\n",
       "      <th>Deaths</th>\n",
       "      <th>PCases</th>\n",
       "      <th>PDeaths</th>\n",
       "      <th>Cases (+)</th>\n",
       "      <th>Deaths (+)</th>\n",
       "      <th>Fatality Rate</th>\n",
       "      <th>Continent</th>\n",
       "    </tr>\n",
       "  </thead>\n",
       "  <tbody>\n",
       "    <tr>\n",
       "      <th>0</th>\n",
       "      <td>US</td>\n",
       "      <td>12883264</td>\n",
       "      <td>263454</td>\n",
       "      <td>12772653</td>\n",
       "      <td>262222</td>\n",
       "      <td>110611</td>\n",
       "      <td>1232</td>\n",
       "      <td>2.04</td>\n",
       "      <td>North America</td>\n",
       "    </tr>\n",
       "    <tr>\n",
       "      <th>1</th>\n",
       "      <td>India</td>\n",
       "      <td>9309787</td>\n",
       "      <td>135715</td>\n",
       "      <td>9266705</td>\n",
       "      <td>135223</td>\n",
       "      <td>43082</td>\n",
       "      <td>492</td>\n",
       "      <td>1.46</td>\n",
       "      <td>Asia</td>\n",
       "    </tr>\n",
       "    <tr>\n",
       "      <th>2</th>\n",
       "      <td>Brazil</td>\n",
       "      <td>6204220</td>\n",
       "      <td>171460</td>\n",
       "      <td>6166606</td>\n",
       "      <td>170769</td>\n",
       "      <td>37614</td>\n",
       "      <td>691</td>\n",
       "      <td>2.76</td>\n",
       "      <td>South America</td>\n",
       "    </tr>\n",
       "    <tr>\n",
       "      <th>3</th>\n",
       "      <td>France</td>\n",
       "      <td>2235537</td>\n",
       "      <td>51041</td>\n",
       "      <td>2221874</td>\n",
       "      <td>50700</td>\n",
       "      <td>13663</td>\n",
       "      <td>341</td>\n",
       "      <td>2.28</td>\n",
       "      <td>Europe</td>\n",
       "    </tr>\n",
       "    <tr>\n",
       "      <th>4</th>\n",
       "      <td>Russia</td>\n",
       "      <td>2169424</td>\n",
       "      <td>37688</td>\n",
       "      <td>2144229</td>\n",
       "      <td>37173</td>\n",
       "      <td>25195</td>\n",
       "      <td>515</td>\n",
       "      <td>1.74</td>\n",
       "      <td>Europe</td>\n",
       "    </tr>\n",
       "  </tbody>\n",
       "</table>\n",
       "</div>"
      ],
      "text/plain": [
       "  Country/Region     Cases  Deaths    PCases  PDeaths  Cases (+)  Deaths (+)  \\\n",
       "0             US  12883264  263454  12772653   262222     110611        1232   \n",
       "1          India   9309787  135715   9266705   135223      43082         492   \n",
       "2         Brazil   6204220  171460   6166606   170769      37614         691   \n",
       "3         France   2235537   51041   2221874    50700      13663         341   \n",
       "4         Russia   2169424   37688   2144229    37173      25195         515   \n",
       "\n",
       "   Fatality Rate      Continent  \n",
       "0           2.04  North America  \n",
       "1           1.46           Asia  \n",
       "2           2.76  South America  \n",
       "3           2.28         Europe  \n",
       "4           1.74         Europe  "
      ]
     },
     "execution_count": 13,
     "metadata": {},
     "output_type": "execute_result"
    }
   ],
   "source": [
    "#hide\n",
    "for c in 'Cases, Deaths'.split(', '):\n",
    "    df_table[f'{c} (+)'] = (df_table[c] - df_table[f'P{c}']).clip(0)\n",
    "    #Clip ça veut dire, les chiffres negatif sont interdit\n",
    "df_table['Fatality Rate'] = (100* df_table['Deaths']/ df_table['Cases']).round(2)\n",
    "df_table['Continent'] = df_table['Country/Region'].map(mapping['map.continent'])\n",
    "df_table.head(5)"
   ]
  },
  {
   "cell_type": "code",
   "execution_count": 14,
   "metadata": {
    "execution": {
     "iopub.execute_input": "2020-11-28T00:11:01.423938Z",
     "iopub.status.busy": "2020-11-28T00:11:01.423325Z",
     "iopub.status.idle": "2020-11-28T00:11:01.426004Z",
     "shell.execute_reply": "2020-11-28T00:11:01.425501Z"
    },
    "papermill": {
     "duration": 0.038902,
     "end_time": "2020-11-28T00:11:01.426128",
     "exception": false,
     "start_time": "2020-11-28T00:11:01.387226",
     "status": "completed"
    },
    "tags": []
   },
   "outputs": [],
   "source": [
    "#hide\n",
    "#delete problematic countries from table\n",
    "df_table = df_table[~df_table['Country/Region'].isin(['Cape Verde', 'Cruise Ship', 'Kosovo'])]"
   ]
  },
  {
   "cell_type": "code",
   "execution_count": 15,
   "metadata": {
    "execution": {
     "iopub.execute_input": "2020-11-28T00:11:01.496408Z",
     "iopub.status.busy": "2020-11-28T00:11:01.495810Z",
     "iopub.status.idle": "2020-11-28T00:11:01.516946Z",
     "shell.execute_reply": "2020-11-28T00:11:01.517597Z"
    },
    "papermill": {
     "duration": 0.061103,
     "end_time": "2020-11-28T00:11:01.517790",
     "exception": false,
     "start_time": "2020-11-28T00:11:01.456687",
     "status": "completed"
    },
    "tags": []
   },
   "outputs": [
    {
     "data": {
      "text/html": [
       "<div>\n",
       "<style scoped>\n",
       "    .dataframe tbody tr th:only-of-type {\n",
       "        vertical-align: middle;\n",
       "    }\n",
       "\n",
       "    .dataframe tbody tr th {\n",
       "        vertical-align: top;\n",
       "    }\n",
       "\n",
       "    .dataframe thead th {\n",
       "        text-align: right;\n",
       "    }\n",
       "</style>\n",
       "<table border=\"1\" class=\"dataframe\">\n",
       "  <thead>\n",
       "    <tr style=\"text-align: right;\">\n",
       "      <th></th>\n",
       "      <th>Country/Region</th>\n",
       "      <th>Cases</th>\n",
       "      <th>Deaths</th>\n",
       "      <th>PCases</th>\n",
       "      <th>PDeaths</th>\n",
       "      <th>Cases (+)</th>\n",
       "      <th>Deaths (+)</th>\n",
       "      <th>Fatality Rate</th>\n",
       "      <th>Continent</th>\n",
       "    </tr>\n",
       "  </thead>\n",
       "  <tbody>\n",
       "    <tr>\n",
       "      <th>0</th>\n",
       "      <td>US</td>\n",
       "      <td>12883264</td>\n",
       "      <td>263454</td>\n",
       "      <td>12772653</td>\n",
       "      <td>262222</td>\n",
       "      <td>110611</td>\n",
       "      <td>1232</td>\n",
       "      <td>2.0</td>\n",
       "      <td>North America</td>\n",
       "    </tr>\n",
       "    <tr>\n",
       "      <th>1</th>\n",
       "      <td>India</td>\n",
       "      <td>9309787</td>\n",
       "      <td>135715</td>\n",
       "      <td>9266705</td>\n",
       "      <td>135223</td>\n",
       "      <td>43082</td>\n",
       "      <td>492</td>\n",
       "      <td>1.5</td>\n",
       "      <td>Asia</td>\n",
       "    </tr>\n",
       "    <tr>\n",
       "      <th>2</th>\n",
       "      <td>Brazil</td>\n",
       "      <td>6204220</td>\n",
       "      <td>171460</td>\n",
       "      <td>6166606</td>\n",
       "      <td>170769</td>\n",
       "      <td>37614</td>\n",
       "      <td>691</td>\n",
       "      <td>2.8</td>\n",
       "      <td>South America</td>\n",
       "    </tr>\n",
       "    <tr>\n",
       "      <th>3</th>\n",
       "      <td>France</td>\n",
       "      <td>2235537</td>\n",
       "      <td>51041</td>\n",
       "      <td>2221874</td>\n",
       "      <td>50700</td>\n",
       "      <td>13663</td>\n",
       "      <td>341</td>\n",
       "      <td>2.3</td>\n",
       "      <td>Europe</td>\n",
       "    </tr>\n",
       "    <tr>\n",
       "      <th>4</th>\n",
       "      <td>Russia</td>\n",
       "      <td>2169424</td>\n",
       "      <td>37688</td>\n",
       "      <td>2144229</td>\n",
       "      <td>37173</td>\n",
       "      <td>25195</td>\n",
       "      <td>515</td>\n",
       "      <td>1.7</td>\n",
       "      <td>Europe</td>\n",
       "    </tr>\n",
       "  </tbody>\n",
       "</table>\n",
       "</div>"
      ],
      "text/plain": [
       "  Country/Region     Cases  Deaths    PCases  PDeaths  Cases (+)  Deaths (+)  \\\n",
       "0             US  12883264  263454  12772653   262222     110611        1232   \n",
       "1          India   9309787  135715   9266705   135223      43082         492   \n",
       "2         Brazil   6204220  171460   6166606   170769      37614         691   \n",
       "3         France   2235537   51041   2221874    50700      13663         341   \n",
       "4         Russia   2169424   37688   2144229    37173      25195         515   \n",
       "\n",
       "   Fatality Rate      Continent  \n",
       "0            2.0  North America  \n",
       "1            1.5           Asia  \n",
       "2            2.8  South America  \n",
       "3            2.3         Europe  \n",
       "4            1.7         Europe  "
      ]
     },
     "execution_count": 15,
     "metadata": {},
     "output_type": "execute_result"
    }
   ],
   "source": [
    "#hide\n",
    "df_table = (pd.DataFrame(dict(Cases=dfc_cases, Deaths=dfc_deaths, PCases=dfp_cases, PDeaths=dfp_deaths))\n",
    "             .sort_values(by=['Cases', 'Deaths'], ascending=[False, False])\n",
    "             .reset_index())\n",
    "df_table.rename(columns={'index': 'Country/Region'}, inplace=True)\n",
    "for c in 'Cases, Deaths'.split(', '):\n",
    "    df_table[f'{c} (+)'] = (df_table[c] - df_table[f'P{c}']).clip(0)  # DATA BUG\n",
    "df_table['Fatality Rate'] = (100 * df_table['Deaths'] / df_table['Cases']).round(1)\n",
    "df_table['Continent'] = df_table['Country/Region'].map(mapping['map.continent'])\n",
    "df_table.head(5)"
   ]
  },
  {
   "cell_type": "code",
   "execution_count": 16,
   "metadata": {
    "execution": {
     "iopub.execute_input": "2020-11-28T00:11:01.588192Z",
     "iopub.status.busy": "2020-11-28T00:11:01.587597Z",
     "iopub.status.idle": "2020-11-28T00:11:01.590965Z",
     "shell.execute_reply": "2020-11-28T00:11:01.591533Z"
    },
    "papermill": {
     "duration": 0.042198,
     "end_time": "2020-11-28T00:11:01.591679",
     "exception": false,
     "start_time": "2020-11-28T00:11:01.549481",
     "status": "completed"
    },
    "tags": []
   },
   "outputs": [],
   "source": [
    "#hide\n",
    "#delete problematic countries from table\n",
    "df_table = df_table[~df_table['Country/Region'].isin(['Cape Verde', 'Cruise Ship', 'Kosovo'])]"
   ]
  },
  {
   "cell_type": "code",
   "execution_count": 17,
   "metadata": {
    "execution": {
     "iopub.execute_input": "2020-11-28T00:11:01.661414Z",
     "iopub.status.busy": "2020-11-28T00:11:01.660810Z",
     "iopub.status.idle": "2020-11-28T00:11:01.676043Z",
     "shell.execute_reply": "2020-11-28T00:11:01.675303Z"
    },
    "papermill": {
     "duration": 0.053412,
     "end_time": "2020-11-28T00:11:01.676200",
     "exception": false,
     "start_time": "2020-11-28T00:11:01.622788",
     "status": "completed"
    },
    "tags": []
   },
   "outputs": [],
   "source": [
    "#hide\n",
    "metrics = [df_table.columns[index] for index in [1,2,5,6]]\n",
    "# s_china = df_table[df_table['Country/Region'].eq('China')][metrics].sum().add_prefix('China ')\n",
    "s_us = df_table[df_table['Country/Region'].eq('US')][metrics].sum().add_prefix('US ')\n",
    "s_eu = df_table[df_table['Continent'].eq('Europe')][metrics].sum().add_prefix('EU ')\n",
    "s_ind = df_table[df_table['Country/Region'].eq('India')][metrics].sum().add_prefix('India ')\n",
    "summary = {'updated': pd.to_datetime(dt_today), 'since': pd.to_datetime(dt_yday)}\n",
    "summary = {'updated': pd.to_datetime(dt_today), 'since': pd.to_datetime(dt_yday)}\n",
    "summary = {**summary, **df_table[metrics].sum(), **s_ind, **s_us, **s_eu}"
   ]
  },
  {
   "cell_type": "code",
   "execution_count": 18,
   "metadata": {
    "execution": {
     "iopub.execute_input": "2020-11-28T00:11:01.766607Z",
     "iopub.status.busy": "2020-11-28T00:11:01.766021Z",
     "iopub.status.idle": "2020-11-28T00:11:01.776010Z",
     "shell.execute_reply": "2020-11-28T00:11:01.775514Z"
    },
    "papermill": {
     "duration": 0.059122,
     "end_time": "2020-11-28T00:11:01.776143",
     "exception": false,
     "start_time": "2020-11-28T00:11:01.717021",
     "status": "completed"
    },
    "tags": []
   },
   "outputs": [],
   "source": [
    "#hide\n",
    "dft_ct_new_cases = dft_cases.groupby(COL_REGION)[dt_cols].sum().diff(axis=1).fillna(0).astype(int)"
   ]
  },
  {
   "cell_type": "code",
   "execution_count": 19,
   "metadata": {
    "execution": {
     "iopub.execute_input": "2020-11-28T00:11:01.844723Z",
     "iopub.status.busy": "2020-11-28T00:11:01.844137Z",
     "iopub.status.idle": "2020-11-28T00:11:01.846841Z",
     "shell.execute_reply": "2020-11-28T00:11:01.846341Z"
    },
    "papermill": {
     "duration": 0.03959,
     "end_time": "2020-11-28T00:11:01.846971",
     "exception": false,
     "start_time": "2020-11-28T00:11:01.807381",
     "status": "completed"
    },
    "tags": []
   },
   "outputs": [],
   "source": [
    "#hide\n",
    "everydaycases = dft_ct_new_cases.cumsum(axis=1)"
   ]
  },
  {
   "cell_type": "code",
   "execution_count": 20,
   "metadata": {
    "execution": {
     "iopub.execute_input": "2020-11-28T00:11:01.915119Z",
     "iopub.status.busy": "2020-11-28T00:11:01.914494Z",
     "iopub.status.idle": "2020-11-28T00:11:02.961431Z",
     "shell.execute_reply": "2020-11-28T00:11:02.960903Z"
    },
    "papermill": {
     "duration": 1.08317,
     "end_time": "2020-11-28T00:11:02.961570",
     "exception": false,
     "start_time": "2020-11-28T00:11:01.878400",
     "status": "completed"
    },
    "tags": []
   },
   "outputs": [],
   "source": [
    "#hide\n",
    "import pandas as pd\n",
    "import matplotlib.pyplot as plt\n",
    "import matplotlib.ticker as ticker\n",
    "import matplotlib.animation as animation\n",
    "from IPython.display import HTML"
   ]
  },
  {
   "cell_type": "code",
   "execution_count": 21,
   "metadata": {
    "execution": {
     "iopub.execute_input": "2020-11-28T00:11:03.036603Z",
     "iopub.status.busy": "2020-11-28T00:11:03.035906Z",
     "iopub.status.idle": "2020-11-28T00:11:03.043673Z",
     "shell.execute_reply": "2020-11-28T00:11:03.041994Z"
    },
    "papermill": {
     "duration": 0.044399,
     "end_time": "2020-11-28T00:11:03.043815",
     "exception": false,
     "start_time": "2020-11-28T00:11:02.999416",
     "status": "completed"
    },
    "tags": []
   },
   "outputs": [],
   "source": [
    "#hide\n",
    "t = everydaycases.stack()"
   ]
  },
  {
   "cell_type": "code",
   "execution_count": 22,
   "metadata": {
    "execution": {
     "iopub.execute_input": "2020-11-28T00:11:03.111670Z",
     "iopub.status.busy": "2020-11-28T00:11:03.111019Z",
     "iopub.status.idle": "2020-11-28T00:11:03.119451Z",
     "shell.execute_reply": "2020-11-28T00:11:03.118646Z"
    },
    "papermill": {
     "duration": 0.044292,
     "end_time": "2020-11-28T00:11:03.119594",
     "exception": false,
     "start_time": "2020-11-28T00:11:03.075302",
     "status": "completed"
    },
    "tags": []
   },
   "outputs": [],
   "source": [
    "#hide\n",
    "g = t.reset_index(['Country/Region'])"
   ]
  },
  {
   "cell_type": "code",
   "execution_count": 23,
   "metadata": {
    "execution": {
     "iopub.execute_input": "2020-11-28T00:11:03.192268Z",
     "iopub.status.busy": "2020-11-28T00:11:03.191670Z",
     "iopub.status.idle": "2020-11-28T00:11:03.194931Z",
     "shell.execute_reply": "2020-11-28T00:11:03.195494Z"
    },
    "papermill": {
     "duration": 0.04084,
     "end_time": "2020-11-28T00:11:03.195641",
     "exception": false,
     "start_time": "2020-11-28T00:11:03.154801",
     "status": "completed"
    },
    "tags": []
   },
   "outputs": [],
   "source": [
    "#hide\n",
    "g.index.name = 'date'"
   ]
  },
  {
   "cell_type": "code",
   "execution_count": 24,
   "metadata": {
    "execution": {
     "iopub.execute_input": "2020-11-28T00:11:03.261874Z",
     "iopub.status.busy": "2020-11-28T00:11:03.261085Z",
     "iopub.status.idle": "2020-11-28T00:11:03.264736Z",
     "shell.execute_reply": "2020-11-28T00:11:03.265966Z"
    },
    "papermill": {
     "duration": 0.039348,
     "end_time": "2020-11-28T00:11:03.266127",
     "exception": false,
     "start_time": "2020-11-28T00:11:03.226779",
     "status": "completed"
    },
    "tags": []
   },
   "outputs": [],
   "source": [
    "# #hide\n",
    "# g = g.reset_index(['date'])"
   ]
  },
  {
   "cell_type": "code",
   "execution_count": 25,
   "metadata": {
    "execution": {
     "iopub.execute_input": "2020-11-28T00:11:03.344507Z",
     "iopub.status.busy": "2020-11-28T00:11:03.343471Z",
     "iopub.status.idle": "2020-11-28T00:11:03.345544Z",
     "shell.execute_reply": "2020-11-28T00:11:03.346000Z"
    },
    "papermill": {
     "duration": 0.042049,
     "end_time": "2020-11-28T00:11:03.346140",
     "exception": false,
     "start_time": "2020-11-28T00:11:03.304091",
     "status": "completed"
    },
    "tags": []
   },
   "outputs": [],
   "source": [
    "#hide\n",
    "# g.head()"
   ]
  },
  {
   "cell_type": "code",
   "execution_count": 26,
   "metadata": {
    "execution": {
     "iopub.execute_input": "2020-11-28T00:11:03.412564Z",
     "iopub.status.busy": "2020-11-28T00:11:03.411976Z",
     "iopub.status.idle": "2020-11-28T00:11:03.414074Z",
     "shell.execute_reply": "2020-11-28T00:11:03.414615Z"
    },
    "papermill": {
     "duration": 0.037492,
     "end_time": "2020-11-28T00:11:03.414792",
     "exception": false,
     "start_time": "2020-11-28T00:11:03.377300",
     "status": "completed"
    },
    "tags": []
   },
   "outputs": [],
   "source": [
    "#hide\n",
    "# g.columns = ['date','country','cases']"
   ]
  },
  {
   "cell_type": "code",
   "execution_count": 27,
   "metadata": {
    "execution": {
     "iopub.execute_input": "2020-11-28T00:11:03.480681Z",
     "iopub.status.busy": "2020-11-28T00:11:03.480095Z",
     "iopub.status.idle": "2020-11-28T00:11:03.481863Z",
     "shell.execute_reply": "2020-11-28T00:11:03.482331Z"
    },
    "papermill": {
     "duration": 0.036768,
     "end_time": "2020-11-28T00:11:03.482473",
     "exception": false,
     "start_time": "2020-11-28T00:11:03.445705",
     "status": "completed"
    },
    "tags": []
   },
   "outputs": [],
   "source": [
    "#hide\n",
    "# g['continent'] = g.country"
   ]
  },
  {
   "cell_type": "code",
   "execution_count": 28,
   "metadata": {
    "execution": {
     "iopub.execute_input": "2020-11-28T00:11:03.549288Z",
     "iopub.status.busy": "2020-11-28T00:11:03.548676Z",
     "iopub.status.idle": "2020-11-28T00:11:03.550483Z",
     "shell.execute_reply": "2020-11-28T00:11:03.550956Z"
    },
    "papermill": {
     "duration": 0.0375,
     "end_time": "2020-11-28T00:11:03.551107",
     "exception": false,
     "start_time": "2020-11-28T00:11:03.513607",
     "status": "completed"
    },
    "tags": []
   },
   "outputs": [],
   "source": [
    "#hide\n",
    "# cols = list(g.columns.values)"
   ]
  },
  {
   "cell_type": "code",
   "execution_count": 29,
   "metadata": {
    "execution": {
     "iopub.execute_input": "2020-11-28T00:11:03.638500Z",
     "iopub.status.busy": "2020-11-28T00:11:03.637887Z",
     "iopub.status.idle": "2020-11-28T00:11:03.639778Z",
     "shell.execute_reply": "2020-11-28T00:11:03.640248Z"
    },
    "papermill": {
     "duration": 0.053661,
     "end_time": "2020-11-28T00:11:03.640398",
     "exception": false,
     "start_time": "2020-11-28T00:11:03.586737",
     "status": "completed"
    },
    "tags": []
   },
   "outputs": [],
   "source": [
    "#hide\n",
    "# cols.insert(0, cols.pop())"
   ]
  },
  {
   "cell_type": "code",
   "execution_count": 30,
   "metadata": {
    "execution": {
     "iopub.execute_input": "2020-11-28T00:11:03.707106Z",
     "iopub.status.busy": "2020-11-28T00:11:03.706471Z",
     "iopub.status.idle": "2020-11-28T00:11:03.707906Z",
     "shell.execute_reply": "2020-11-28T00:11:03.708828Z"
    },
    "papermill": {
     "duration": 0.037258,
     "end_time": "2020-11-28T00:11:03.708986",
     "exception": false,
     "start_time": "2020-11-28T00:11:03.671728",
     "status": "completed"
    },
    "tags": []
   },
   "outputs": [],
   "source": [
    "#hide\n",
    "# g = g[cols]"
   ]
  },
  {
   "cell_type": "code",
   "execution_count": 31,
   "metadata": {
    "execution": {
     "iopub.execute_input": "2020-11-28T00:11:03.790779Z",
     "iopub.status.busy": "2020-11-28T00:11:03.789533Z",
     "iopub.status.idle": "2020-11-28T00:11:03.791554Z",
     "shell.execute_reply": "2020-11-28T00:11:03.790061Z"
    },
    "papermill": {
     "duration": 0.047637,
     "end_time": "2020-11-28T00:11:03.791693",
     "exception": false,
     "start_time": "2020-11-28T00:11:03.744056",
     "status": "completed"
    },
    "tags": []
   },
   "outputs": [],
   "source": [
    "#hide\n",
    "# g['continent'] = g['continent'].map(mapping['map.continent'])"
   ]
  },
  {
   "cell_type": "code",
   "execution_count": 32,
   "metadata": {
    "execution": {
     "iopub.execute_input": "2020-11-28T00:11:03.870724Z",
     "iopub.status.busy": "2020-11-28T00:11:03.869747Z",
     "iopub.status.idle": "2020-11-28T00:11:03.874885Z",
     "shell.execute_reply": "2020-11-28T00:11:03.875966Z"
    },
    "papermill": {
     "duration": 0.048306,
     "end_time": "2020-11-28T00:11:03.876208",
     "exception": false,
     "start_time": "2020-11-28T00:11:03.827902",
     "status": "completed"
    },
    "tags": []
   },
   "outputs": [],
   "source": [
    "#hide\n",
    "# g.head()"
   ]
  },
  {
   "cell_type": "code",
   "execution_count": 33,
   "metadata": {
    "execution": {
     "iopub.execute_input": "2020-11-28T00:11:03.960294Z",
     "iopub.status.busy": "2020-11-28T00:11:03.959686Z",
     "iopub.status.idle": "2020-11-28T00:11:03.963997Z",
     "shell.execute_reply": "2020-11-28T00:11:03.964527Z"
    },
    "papermill": {
     "duration": 0.048862,
     "end_time": "2020-11-28T00:11:03.964691",
     "exception": false,
     "start_time": "2020-11-28T00:11:03.915829",
     "status": "completed"
    },
    "tags": []
   },
   "outputs": [],
   "source": [
    "# hide\n",
    "# g['date'] = g['date'].astype('datetime64[ns]')"
   ]
  },
  {
   "cell_type": "code",
   "execution_count": 34,
   "metadata": {
    "execution": {
     "iopub.execute_input": "2020-11-28T00:11:04.043139Z",
     "iopub.status.busy": "2020-11-28T00:11:04.042454Z",
     "iopub.status.idle": "2020-11-28T00:11:04.045083Z",
     "shell.execute_reply": "2020-11-28T00:11:04.045536Z"
    },
    "papermill": {
     "duration": 0.041859,
     "end_time": "2020-11-28T00:11:04.045693",
     "exception": false,
     "start_time": "2020-11-28T00:11:04.003834",
     "status": "completed"
    },
    "tags": []
   },
   "outputs": [],
   "source": [
    "#hide\n",
    "# g['date'] = g.date.dt.dayofyear"
   ]
  },
  {
   "cell_type": "code",
   "execution_count": 35,
   "metadata": {
    "execution": {
     "iopub.execute_input": "2020-11-28T00:11:04.118826Z",
     "iopub.status.busy": "2020-11-28T00:11:04.117969Z",
     "iopub.status.idle": "2020-11-28T00:11:04.119383Z",
     "shell.execute_reply": "2020-11-28T00:11:04.120938Z"
    },
    "papermill": {
     "duration": 0.041147,
     "end_time": "2020-11-28T00:11:04.121104",
     "exception": false,
     "start_time": "2020-11-28T00:11:04.079957",
     "status": "completed"
    },
    "tags": []
   },
   "outputs": [],
   "source": [
    "#hide\n",
    "# g = g.rename(columns= {'continent':'group','country':'name','cases':'value'})"
   ]
  },
  {
   "cell_type": "code",
   "execution_count": 36,
   "metadata": {
    "execution": {
     "iopub.execute_input": "2020-11-28T00:11:04.187400Z",
     "iopub.status.busy": "2020-11-28T00:11:04.186791Z",
     "iopub.status.idle": "2020-11-28T00:11:04.188785Z",
     "shell.execute_reply": "2020-11-28T00:11:04.189280Z"
    },
    "papermill": {
     "duration": 0.037191,
     "end_time": "2020-11-28T00:11:04.189423",
     "exception": false,
     "start_time": "2020-11-28T00:11:04.152232",
     "status": "completed"
    },
    "tags": []
   },
   "outputs": [],
   "source": [
    "#hide\n",
    "# cols = ['name','group','day','value']"
   ]
  },
  {
   "cell_type": "code",
   "execution_count": 37,
   "metadata": {
    "execution": {
     "iopub.execute_input": "2020-11-28T00:11:04.255521Z",
     "iopub.status.busy": "2020-11-28T00:11:04.254923Z",
     "iopub.status.idle": "2020-11-28T00:11:04.256914Z",
     "shell.execute_reply": "2020-11-28T00:11:04.257389Z"
    },
    "papermill": {
     "duration": 0.037123,
     "end_time": "2020-11-28T00:11:04.257532",
     "exception": false,
     "start_time": "2020-11-28T00:11:04.220409",
     "status": "completed"
    },
    "tags": []
   },
   "outputs": [],
   "source": [
    "#hide\n",
    "# g.rename(columns= {'date':'day'},inplace = True)"
   ]
  },
  {
   "cell_type": "code",
   "execution_count": 38,
   "metadata": {
    "execution": {
     "iopub.execute_input": "2020-11-28T00:11:04.323650Z",
     "iopub.status.busy": "2020-11-28T00:11:04.323046Z",
     "iopub.status.idle": "2020-11-28T00:11:04.325268Z",
     "shell.execute_reply": "2020-11-28T00:11:04.324773Z"
    },
    "papermill": {
     "duration": 0.036644,
     "end_time": "2020-11-28T00:11:04.325391",
     "exception": false,
     "start_time": "2020-11-28T00:11:04.288747",
     "status": "completed"
    },
    "tags": []
   },
   "outputs": [],
   "source": [
    "#hide\n",
    "# g = g[cols]"
   ]
  },
  {
   "cell_type": "code",
   "execution_count": 39,
   "metadata": {
    "execution": {
     "iopub.execute_input": "2020-11-28T00:11:04.391198Z",
     "iopub.status.busy": "2020-11-28T00:11:04.390568Z",
     "iopub.status.idle": "2020-11-28T00:11:04.392806Z",
     "shell.execute_reply": "2020-11-28T00:11:04.392311Z"
    },
    "papermill": {
     "duration": 0.036646,
     "end_time": "2020-11-28T00:11:04.392929",
     "exception": false,
     "start_time": "2020-11-28T00:11:04.356283",
     "status": "completed"
    },
    "tags": []
   },
   "outputs": [],
   "source": [
    "# #hide\n",
    "# g = g[g.group.notna()]"
   ]
  },
  {
   "cell_type": "code",
   "execution_count": 40,
   "metadata": {
    "execution": {
     "iopub.execute_input": "2020-11-28T00:11:04.459228Z",
     "iopub.status.busy": "2020-11-28T00:11:04.458578Z",
     "iopub.status.idle": "2020-11-28T00:11:04.462815Z",
     "shell.execute_reply": "2020-11-28T00:11:04.463277Z"
    },
    "papermill": {
     "duration": 0.039254,
     "end_time": "2020-11-28T00:11:04.463426",
     "exception": false,
     "start_time": "2020-11-28T00:11:04.424172",
     "status": "completed"
    },
    "tags": []
   },
   "outputs": [],
   "source": [
    "# #hide\n",
    "# colors = dict(zip(\n",
    "#     [\"Oceania\", \"Europe\", \"Asia\", \"South America\", \"Middle East\", \"North America\", \"Africa\"],\n",
    "#     [\"#adb0ff\", \"#ffb3ff\", \"#90d595\", \"#e48381\", \"#aafbff\", \"#f7bb5f\", \"#eafb50\"]\n",
    "# ))\n",
    "# group_lk = g.set_index('name')['group'].to_dict()"
   ]
  },
  {
   "cell_type": "code",
   "execution_count": null,
   "metadata": {
    "papermill": {
     "duration": 0.030951,
     "end_time": "2020-11-28T00:11:04.525235",
     "exception": false,
     "start_time": "2020-11-28T00:11:04.494284",
     "status": "completed"
    },
    "tags": []
   },
   "outputs": [],
   "source": []
  },
  {
   "cell_type": "code",
   "execution_count": 41,
   "metadata": {
    "execution": {
     "iopub.execute_input": "2020-11-28T00:11:04.591825Z",
     "iopub.status.busy": "2020-11-28T00:11:04.591219Z",
     "iopub.status.idle": "2020-11-28T00:11:04.593423Z",
     "shell.execute_reply": "2020-11-28T00:11:04.593898Z"
    },
    "papermill": {
     "duration": 0.03775,
     "end_time": "2020-11-28T00:11:04.594040",
     "exception": false,
     "start_time": "2020-11-28T00:11:04.556290",
     "status": "completed"
    },
    "tags": []
   },
   "outputs": [],
   "source": [
    "# #hide\n",
    "# fig, ax = plt.subplots(figsize=(15, 8))\n",
    "\n",
    "# def draw_barchart(current_day):\n",
    "#     dff = g[g['day'].eq(current_day)].sort_values(by='value', ascending=True).tail(10)\n",
    "#     ax.clear()\n",
    "#     ax.barh(dff['name'], dff['value'], color=[colors[group_lk[x]] for x in dff['name']])\n",
    "#     dx = dff['value'].max() / 200\n",
    "    \n",
    "#     for i, (value, name) in enumerate(zip(dff['value'], dff['name'])):\n",
    "#         ax.text(value-dx, i,     name,           size=14, weight=600, ha='right', va='bottom')\n",
    "#         ax.text(value-dx, i-.25, group_lk[name], size=10, color='#444444', ha='right', va='baseline')\n",
    "#         ax.text(value+dx, i,     f'{value:,.0f}',  size=14, ha='left',  va='center')\n",
    "#     ax.text(1, 0.4, current_day, transform=ax.transAxes, color='#777777', size=46, ha='right', weight=800)\n",
    "#     ax.text(0, 1.06, 'Population (thousands)', transform=ax.transAxes, size=12, color='#777777')\n",
    "#     ax.xaxis.set_major_formatter(ticker.StrMethodFormatter('{x:,.0f}'))\n",
    "#     ax.xaxis.set_ticks_position('top')\n",
    "#     ax.tick_params(axis='x', colors='#777777', labelsize=12)\n",
    "#     ax.set_yticks([])\n",
    "#     ax.margins(0, 0.01)\n",
    "#     ax.grid(which='major', axis='x', linestyle='-')\n",
    "#     ax.set_axisbelow(True)\n",
    "    \n",
    "#     ax.text(0, 1.15, 'Coronavirus',\n",
    "#             transform=ax.transAxes, size=24, weight=600, ha='left', va='top')\n",
    "# #     ax.text(1, 0, 'by @pratapvardhan; credit @jburnmurdoch', transform=ax.transAxes, color='#777777', ha='right',\n",
    "# #             bbox=dict(facecolor='white', alpha=0.8, edgecolor='white'))\n",
    "#     plt.box(False)"
   ]
  },
  {
   "cell_type": "code",
   "execution_count": 42,
   "metadata": {
    "execution": {
     "iopub.execute_input": "2020-11-28T00:11:04.660424Z",
     "iopub.status.busy": "2020-11-28T00:11:04.659790Z",
     "iopub.status.idle": "2020-11-28T00:11:04.661659Z",
     "shell.execute_reply": "2020-11-28T00:11:04.662115Z"
    },
    "papermill": {
     "duration": 0.037158,
     "end_time": "2020-11-28T00:11:04.662266",
     "exception": false,
     "start_time": "2020-11-28T00:11:04.625108",
     "status": "completed"
    },
    "tags": []
   },
   "outputs": [],
   "source": [
    "# #hide_input\n",
    "# fig, ax = plt.subplots(figsize=(15, 8))\n",
    "# animator = animation.FuncAnimation(fig, draw_barchart, frames=range(g.day.values.min(), g.day.values.max()))\n",
    "# HTML(animator.to_jshtml())\n",
    "# # or use animator.to_html5_video() or animator.save() "
   ]
  },
  {
   "cell_type": "code",
   "execution_count": null,
   "metadata": {
    "papermill": {
     "duration": 0.048262,
     "end_time": "2020-11-28T00:11:04.750535",
     "exception": false,
     "start_time": "2020-11-28T00:11:04.702273",
     "status": "completed"
    },
    "tags": []
   },
   "outputs": [],
   "source": []
  },
  {
   "cell_type": "code",
   "execution_count": null,
   "metadata": {
    "papermill": {
     "duration": 0.044213,
     "end_time": "2020-11-28T00:11:04.838596",
     "exception": false,
     "start_time": "2020-11-28T00:11:04.794383",
     "status": "completed"
    },
    "tags": []
   },
   "outputs": [],
   "source": []
  },
  {
   "cell_type": "code",
   "execution_count": null,
   "metadata": {
    "papermill": {
     "duration": 0.036195,
     "end_time": "2020-11-28T00:11:04.917009",
     "exception": false,
     "start_time": "2020-11-28T00:11:04.880814",
     "status": "completed"
    },
    "tags": []
   },
   "outputs": [],
   "source": []
  }
 ],
 "metadata": {
  "kernelspec": {
   "display_name": "Python 3",
   "language": "python",
   "name": "python3"
  },
  "language_info": {
   "codemirror_mode": {
    "name": "ipython",
    "version": 3
   },
   "file_extension": ".py",
   "mimetype": "text/x-python",
   "name": "python",
   "nbconvert_exporter": "python",
   "pygments_lexer": "ipython3",
   "version": "3.6.12"
  },
  "papermill": {
   "duration": 6.951258,
   "end_time": "2020-11-28T00:11:05.359533",
   "environment_variables": {},
   "exception": null,
   "input_path": "2020-03-21-covid19exp.ipynb",
   "output_path": "2020-03-21-covid19exp.ipynb",
   "parameters": {},
   "start_time": "2020-11-28T00:10:58.408275",
   "version": "2.0.0"
  }
 },
 "nbformat": 4,
 "nbformat_minor": 4
}