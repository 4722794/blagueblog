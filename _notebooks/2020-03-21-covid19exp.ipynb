{
 "cells": [
  {
   "cell_type": "markdown",
   "id": "muslim-click",
   "metadata": {
    "papermill": {
     "duration": 0.031019,
     "end_time": "2022-04-26T00:40:41.515540",
     "exception": false,
     "start_time": "2022-04-26T00:40:41.484521",
     "status": "completed"
    },
    "tags": []
   },
   "source": [
    "# COVID-19 Case Race\n",
    "> A race chart to see rising cases around the world\n",
    "\n",
    "- author: Hargun Oberoi\n",
    "- image: images/covid-overview.png\n",
    "- hide: false\n",
    "- badges: false"
   ]
  },
  {
   "cell_type": "code",
   "execution_count": 1,
   "id": "proof-material",
   "metadata": {
    "execution": {
     "iopub.execute_input": "2022-04-26T00:40:41.582039Z",
     "iopub.status.busy": "2022-04-26T00:40:41.581461Z",
     "iopub.status.idle": "2022-04-26T00:40:41.959402Z",
     "shell.execute_reply": "2022-04-26T00:40:41.958785Z"
    },
    "papermill": {
     "duration": 0.414679,
     "end_time": "2022-04-26T00:40:41.959564",
     "exception": false,
     "start_time": "2022-04-26T00:40:41.544885",
     "status": "completed"
    },
    "tags": []
   },
   "outputs": [],
   "source": [
    "#hide\n",
    "import numpy as np\n",
    "import pandas as pd\n",
    "from jinja2 import Template\n",
    "from IPython.display import HTML"
   ]
  },
  {
   "cell_type": "code",
   "execution_count": 2,
   "id": "developed-terminology",
   "metadata": {
    "execution": {
     "iopub.execute_input": "2022-04-26T00:40:42.031606Z",
     "iopub.status.busy": "2022-04-26T00:40:42.030937Z",
     "iopub.status.idle": "2022-04-26T00:40:42.035305Z",
     "shell.execute_reply": "2022-04-26T00:40:42.034798Z"
    },
    "papermill": {
     "duration": 0.042141,
     "end_time": "2022-04-26T00:40:42.035429",
     "exception": false,
     "start_time": "2022-04-26T00:40:41.993288",
     "status": "completed"
    },
    "tags": []
   },
   "outputs": [],
   "source": [
    "#hide\n",
    "\n",
    "# FETCH\n",
    "base_url = 'https://raw.githubusercontent.com/pratapvardhan/notebooks/master/covid19/'\n",
    "paths = {\n",
    "    'mapping': base_url + 'mapping_countries.csv',\n",
    "    'overview': base_url + 'overview.tpl'\n",
    "}"
   ]
  },
  {
   "cell_type": "code",
   "execution_count": 3,
   "id": "dynamic-saver",
   "metadata": {
    "execution": {
     "iopub.execute_input": "2022-04-26T00:40:42.105157Z",
     "iopub.status.busy": "2022-04-26T00:40:42.104594Z",
     "iopub.status.idle": "2022-04-26T00:40:42.106784Z",
     "shell.execute_reply": "2022-04-26T00:40:42.107269Z"
    },
    "papermill": {
     "duration": 0.042251,
     "end_time": "2022-04-26T00:40:42.107406",
     "exception": false,
     "start_time": "2022-04-26T00:40:42.065155",
     "status": "completed"
    },
    "tags": []
   },
   "outputs": [
    {
     "data": {
      "text/plain": [
       "'https://raw.githubusercontent.com/pratapvardhan/notebooks/master/covid19/mapping_countries.csv'"
      ]
     },
     "execution_count": 3,
     "metadata": {},
     "output_type": "execute_result"
    }
   ],
   "source": [
    "#hide\n",
    "paths['mapping']"
   ]
  },
  {
   "cell_type": "code",
   "execution_count": 4,
   "id": "urban-software",
   "metadata": {
    "execution": {
     "iopub.execute_input": "2022-04-26T00:40:42.177718Z",
     "iopub.status.busy": "2022-04-26T00:40:42.177107Z",
     "iopub.status.idle": "2022-04-26T00:40:42.178590Z",
     "shell.execute_reply": "2022-04-26T00:40:42.179042Z"
    },
    "papermill": {
     "duration": 0.039712,
     "end_time": "2022-04-26T00:40:42.179181",
     "exception": false,
     "start_time": "2022-04-26T00:40:42.139469",
     "status": "completed"
    },
    "tags": []
   },
   "outputs": [],
   "source": [
    "#hide\n",
    "def get_mappings(url):\n",
    "    df = pd.read_csv(url)\n",
    "    return {\n",
    "        'df': df,\n",
    "        'replace.country': dict(df.dropna(subset=['Name']).set_index('Country')['Name']),\n",
    "        'map.continent': dict(df.set_index('Name')['Continent'])\n",
    "    }"
   ]
  },
  {
   "cell_type": "code",
   "execution_count": 5,
   "id": "intimate-machinery",
   "metadata": {
    "execution": {
     "iopub.execute_input": "2022-04-26T00:40:42.245308Z",
     "iopub.status.busy": "2022-04-26T00:40:42.244752Z",
     "iopub.status.idle": "2022-04-26T00:40:42.336026Z",
     "shell.execute_reply": "2022-04-26T00:40:42.336542Z"
    },
    "papermill": {
     "duration": 0.127538,
     "end_time": "2022-04-26T00:40:42.336727",
     "exception": false,
     "start_time": "2022-04-26T00:40:42.209189",
     "status": "completed"
    },
    "tags": []
   },
   "outputs": [],
   "source": [
    "#hide\n",
    "mapping = get_mappings(paths['mapping'])"
   ]
  },
  {
   "cell_type": "code",
   "execution_count": 6,
   "id": "certified-tactics",
   "metadata": {
    "execution": {
     "iopub.execute_input": "2022-04-26T00:40:42.397371Z",
     "iopub.status.busy": "2022-04-26T00:40:42.396851Z",
     "iopub.status.idle": "2022-04-26T00:40:42.406728Z",
     "shell.execute_reply": "2022-04-26T00:40:42.407109Z"
    },
    "papermill": {
     "duration": 0.042544,
     "end_time": "2022-04-26T00:40:42.407255",
     "exception": false,
     "start_time": "2022-04-26T00:40:42.364711",
     "status": "completed"
    },
    "tags": []
   },
   "outputs": [],
   "source": [
    "#hide\n",
    "def get_template(path):\n",
    "    from urllib.parse import urlparse\n",
    "    if bool(urlparse(path).netloc):\n",
    "        from urllib.request import urlopen\n",
    "        return urlopen(path).read().decode('utf8')\n",
    "    return open(path).read()"
   ]
  },
  {
   "cell_type": "code",
   "execution_count": 7,
   "id": "realistic-blast",
   "metadata": {
    "execution": {
     "iopub.execute_input": "2022-04-26T00:40:42.466213Z",
     "iopub.status.busy": "2022-04-26T00:40:42.465673Z",
     "iopub.status.idle": "2022-04-26T00:40:42.467999Z",
     "shell.execute_reply": "2022-04-26T00:40:42.468389Z"
    },
    "papermill": {
     "duration": 0.034347,
     "end_time": "2022-04-26T00:40:42.468525",
     "exception": false,
     "start_time": "2022-04-26T00:40:42.434178",
     "status": "completed"
    },
    "tags": []
   },
   "outputs": [],
   "source": [
    "#hide\n",
    "def get_frame(name):\n",
    "    url = (\n",
    "        'https://raw.githubusercontent.com/CSSEGISandData/COVID-19/master/csse_covid_19_data/'\n",
    "        f'csse_covid_19_time_series/time_series_covid19_{name}_global.csv')\n",
    "    df = pd.read_csv(url)\n",
    "    # rename countries\n",
    "    df['Country/Region'] = df['Country/Region'].replace(mapping['replace.country'])\n",
    "    return df"
   ]
  },
  {
   "cell_type": "code",
   "execution_count": 8,
   "id": "affiliated-characterization",
   "metadata": {
    "execution": {
     "iopub.execute_input": "2022-04-26T00:40:42.535219Z",
     "iopub.status.busy": "2022-04-26T00:40:42.534627Z",
     "iopub.status.idle": "2022-04-26T00:40:42.537512Z",
     "shell.execute_reply": "2022-04-26T00:40:42.537056Z"
    },
    "papermill": {
     "duration": 0.038914,
     "end_time": "2022-04-26T00:40:42.537679",
     "exception": false,
     "start_time": "2022-04-26T00:40:42.498765",
     "status": "completed"
    },
    "tags": []
   },
   "outputs": [],
   "source": [
    "#hide\n",
    "def get_dates(df):\n",
    "    dt_cols = df.columns[~df.columns.isin(['Province/State', 'Country/Region', 'Lat', 'Long'])]\n",
    "    LAST_DATE_I = -1\n",
    "    # sometimes last column may be empty, then go backwards\n",
    "    for i in range(-1, -len(dt_cols), -1):\n",
    "        if not df[dt_cols[i]].fillna(0).eq(0).all():\n",
    "            LAST_DATE_I = i\n",
    "            break\n",
    "    return LAST_DATE_I, dt_cols"
   ]
  },
  {
   "cell_type": "code",
   "execution_count": 9,
   "id": "recent-optimization",
   "metadata": {
    "execution": {
     "iopub.execute_input": "2022-04-26T00:40:42.604263Z",
     "iopub.status.busy": "2022-04-26T00:40:42.603679Z",
     "iopub.status.idle": "2022-04-26T00:40:43.237949Z",
     "shell.execute_reply": "2022-04-26T00:40:43.237460Z"
    },
    "papermill": {
     "duration": 0.669205,
     "end_time": "2022-04-26T00:40:43.238080",
     "exception": false,
     "start_time": "2022-04-26T00:40:42.568875",
     "status": "completed"
    },
    "tags": []
   },
   "outputs": [],
   "source": [
    "#hide\n",
    "COL_REGION = 'Country/Region'\n",
    "# Confirmed, Recovered, Deaths\n",
    "df = get_frame('confirmed')\n",
    "# dft_: timeseries, dfc_: today country agg\n",
    "dft_cases = df\n",
    "dft_deaths = get_frame('deaths')\n",
    "dft_recovered = get_frame('recovered')\n",
    "LAST_DATE_I, dt_cols = get_dates(df)"
   ]
  },
  {
   "cell_type": "code",
   "execution_count": 10,
   "id": "absolute-copper",
   "metadata": {
    "execution": {
     "iopub.execute_input": "2022-04-26T00:40:43.306800Z",
     "iopub.status.busy": "2022-04-26T00:40:43.306096Z",
     "iopub.status.idle": "2022-04-26T00:40:43.309387Z",
     "shell.execute_reply": "2022-04-26T00:40:43.308952Z"
    },
    "papermill": {
     "duration": 0.040327,
     "end_time": "2022-04-26T00:40:43.309507",
     "exception": false,
     "start_time": "2022-04-26T00:40:43.269180",
     "status": "completed"
    },
    "tags": []
   },
   "outputs": [],
   "source": [
    "#hide\n",
    "LAST_DATE_I, dt_cols = get_dates(df)\n",
    "dt_today =dt_cols[LAST_DATE_I]\n",
    "# dt_5day = dt_cols[LAST_DATE_I - 5]\n",
    "dt_yday = dt_cols[LAST_DATE_I - 1]"
   ]
  },
  {
   "cell_type": "code",
   "execution_count": 11,
   "id": "restricted-sheriff",
   "metadata": {
    "execution": {
     "iopub.execute_input": "2022-04-26T00:40:43.377238Z",
     "iopub.status.busy": "2022-04-26T00:40:43.375266Z",
     "iopub.status.idle": "2022-04-26T00:40:43.383632Z",
     "shell.execute_reply": "2022-04-26T00:40:43.383182Z"
    },
    "papermill": {
     "duration": 0.044242,
     "end_time": "2022-04-26T00:40:43.383749",
     "exception": false,
     "start_time": "2022-04-26T00:40:43.339507",
     "status": "completed"
    },
    "tags": []
   },
   "outputs": [],
   "source": [
    "#hide\n",
    "dfc_cases = dft_cases.groupby(COL_REGION)[dt_today].sum()\n",
    "dfc_deaths = dft_deaths.groupby(COL_REGION)[dt_today].sum()\n",
    "# dfp_cases = dft_cases.groupby(COL_REGION)[dt_5day].sum()\n",
    "# dfp_deaths = dft_deaths.groupby(COL_REGION)[dt_5day].sum()\n",
    "dfp_cases = dft_cases.groupby(COL_REGION)[dt_yday].sum()\n",
    "dfp_deaths = dft_deaths.groupby(COL_REGION)[dt_yday].sum()"
   ]
  },
  {
   "cell_type": "code",
   "execution_count": 12,
   "id": "deluxe-hepatitis",
   "metadata": {
    "execution": {
     "iopub.execute_input": "2022-04-26T00:40:43.451130Z",
     "iopub.status.busy": "2022-04-26T00:40:43.450572Z",
     "iopub.status.idle": "2022-04-26T00:40:43.456782Z",
     "shell.execute_reply": "2022-04-26T00:40:43.456315Z"
    },
    "papermill": {
     "duration": 0.043073,
     "end_time": "2022-04-26T00:40:43.456899",
     "exception": false,
     "start_time": "2022-04-26T00:40:43.413826",
     "status": "completed"
    },
    "tags": []
   },
   "outputs": [],
   "source": [
    "#hide\n",
    "df_table = (pd.DataFrame(dict(Cases = dfc_cases, Deaths = dfc_deaths, PCases = dfp_cases, PDeaths = dfp_deaths))\n",
    "            .sort_values(by = ['Cases','Deaths'], ascending = [False, False])\n",
    "            .reset_index())"
   ]
  },
  {
   "cell_type": "code",
   "execution_count": 13,
   "id": "educational-chancellor",
   "metadata": {
    "execution": {
     "iopub.execute_input": "2022-04-26T00:40:43.539051Z",
     "iopub.status.busy": "2022-04-26T00:40:43.538467Z",
     "iopub.status.idle": "2022-04-26T00:40:43.551508Z",
     "shell.execute_reply": "2022-04-26T00:40:43.551929Z"
    },
    "papermill": {
     "duration": 0.065256,
     "end_time": "2022-04-26T00:40:43.552068",
     "exception": false,
     "start_time": "2022-04-26T00:40:43.486812",
     "status": "completed"
    },
    "tags": []
   },
   "outputs": [
    {
     "data": {
      "text/html": [
       "<div>\n",
       "<style scoped>\n",
       "    .dataframe tbody tr th:only-of-type {\n",
       "        vertical-align: middle;\n",
       "    }\n",
       "\n",
       "    .dataframe tbody tr th {\n",
       "        vertical-align: top;\n",
       "    }\n",
       "\n",
       "    .dataframe thead th {\n",
       "        text-align: right;\n",
       "    }\n",
       "</style>\n",
       "<table border=\"1\" class=\"dataframe\">\n",
       "  <thead>\n",
       "    <tr style=\"text-align: right;\">\n",
       "      <th></th>\n",
       "      <th>Country/Region</th>\n",
       "      <th>Cases</th>\n",
       "      <th>Deaths</th>\n",
       "      <th>PCases</th>\n",
       "      <th>PDeaths</th>\n",
       "      <th>Cases (+)</th>\n",
       "      <th>Deaths (+)</th>\n",
       "      <th>Fatality Rate</th>\n",
       "      <th>Continent</th>\n",
       "    </tr>\n",
       "  </thead>\n",
       "  <tbody>\n",
       "    <tr>\n",
       "      <th>0</th>\n",
       "      <td>US</td>\n",
       "      <td>80984214</td>\n",
       "      <td>991326</td>\n",
       "      <td>80971230</td>\n",
       "      <td>991303</td>\n",
       "      <td>12984</td>\n",
       "      <td>23</td>\n",
       "      <td>1.22</td>\n",
       "      <td>North America</td>\n",
       "    </tr>\n",
       "    <tr>\n",
       "      <th>1</th>\n",
       "      <td>India</td>\n",
       "      <td>43060086</td>\n",
       "      <td>522223</td>\n",
       "      <td>43057545</td>\n",
       "      <td>522193</td>\n",
       "      <td>2541</td>\n",
       "      <td>30</td>\n",
       "      <td>1.21</td>\n",
       "      <td>Asia</td>\n",
       "    </tr>\n",
       "    <tr>\n",
       "      <th>2</th>\n",
       "      <td>Brazil</td>\n",
       "      <td>30349463</td>\n",
       "      <td>662891</td>\n",
       "      <td>30345808</td>\n",
       "      <td>662855</td>\n",
       "      <td>3655</td>\n",
       "      <td>36</td>\n",
       "      <td>2.18</td>\n",
       "      <td>South America</td>\n",
       "    </tr>\n",
       "    <tr>\n",
       "      <th>3</th>\n",
       "      <td>France</td>\n",
       "      <td>28494054</td>\n",
       "      <td>146097</td>\n",
       "      <td>28435100</td>\n",
       "      <td>146057</td>\n",
       "      <td>58954</td>\n",
       "      <td>40</td>\n",
       "      <td>0.51</td>\n",
       "      <td>Europe</td>\n",
       "    </tr>\n",
       "    <tr>\n",
       "      <th>4</th>\n",
       "      <td>Germany</td>\n",
       "      <td>24200596</td>\n",
       "      <td>134185</td>\n",
       "      <td>24180512</td>\n",
       "      <td>134179</td>\n",
       "      <td>20084</td>\n",
       "      <td>6</td>\n",
       "      <td>0.55</td>\n",
       "      <td>Europe</td>\n",
       "    </tr>\n",
       "  </tbody>\n",
       "</table>\n",
       "</div>"
      ],
      "text/plain": [
       "  Country/Region     Cases  Deaths    PCases  PDeaths  Cases (+)  Deaths (+)  \\\n",
       "0             US  80984214  991326  80971230   991303      12984          23   \n",
       "1          India  43060086  522223  43057545   522193       2541          30   \n",
       "2         Brazil  30349463  662891  30345808   662855       3655          36   \n",
       "3         France  28494054  146097  28435100   146057      58954          40   \n",
       "4        Germany  24200596  134185  24180512   134179      20084           6   \n",
       "\n",
       "   Fatality Rate      Continent  \n",
       "0           1.22  North America  \n",
       "1           1.21           Asia  \n",
       "2           2.18  South America  \n",
       "3           0.51         Europe  \n",
       "4           0.55         Europe  "
      ]
     },
     "execution_count": 13,
     "metadata": {},
     "output_type": "execute_result"
    }
   ],
   "source": [
    "#hide\n",
    "for c in 'Cases, Deaths'.split(', '):\n",
    "    df_table[f'{c} (+)'] = (df_table[c] - df_table[f'P{c}']).clip(0)\n",
    "    #Clip ça veut dire, les chiffres negatif sont interdit\n",
    "df_table['Fatality Rate'] = (100* df_table['Deaths']/ df_table['Cases']).round(2)\n",
    "df_table['Continent'] = df_table['Country/Region'].map(mapping['map.continent'])\n",
    "df_table.head(5)"
   ]
  },
  {
   "cell_type": "code",
   "execution_count": 14,
   "id": "aboriginal-bulgaria",
   "metadata": {
    "execution": {
     "iopub.execute_input": "2022-04-26T00:40:43.639237Z",
     "iopub.status.busy": "2022-04-26T00:40:43.638668Z",
     "iopub.status.idle": "2022-04-26T00:40:43.643331Z",
     "shell.execute_reply": "2022-04-26T00:40:43.642870Z"
    },
    "papermill": {
     "duration": 0.040646,
     "end_time": "2022-04-26T00:40:43.643449",
     "exception": false,
     "start_time": "2022-04-26T00:40:43.602803",
     "status": "completed"
    },
    "tags": []
   },
   "outputs": [],
   "source": [
    "#hide\n",
    "#delete problematic countries from table\n",
    "df_table = df_table[~df_table['Country/Region'].isin(['Cape Verde', 'Cruise Ship', 'Kosovo'])]"
   ]
  },
  {
   "cell_type": "code",
   "execution_count": 15,
   "id": "fantastic-effect",
   "metadata": {
    "execution": {
     "iopub.execute_input": "2022-04-26T00:40:43.723816Z",
     "iopub.status.busy": "2022-04-26T00:40:43.723247Z",
     "iopub.status.idle": "2022-04-26T00:40:43.746092Z",
     "shell.execute_reply": "2022-04-26T00:40:43.746521Z"
    },
    "papermill": {
     "duration": 0.061703,
     "end_time": "2022-04-26T00:40:43.746669",
     "exception": false,
     "start_time": "2022-04-26T00:40:43.684966",
     "status": "completed"
    },
    "tags": []
   },
   "outputs": [
    {
     "data": {
      "text/html": [
       "<div>\n",
       "<style scoped>\n",
       "    .dataframe tbody tr th:only-of-type {\n",
       "        vertical-align: middle;\n",
       "    }\n",
       "\n",
       "    .dataframe tbody tr th {\n",
       "        vertical-align: top;\n",
       "    }\n",
       "\n",
       "    .dataframe thead th {\n",
       "        text-align: right;\n",
       "    }\n",
       "</style>\n",
       "<table border=\"1\" class=\"dataframe\">\n",
       "  <thead>\n",
       "    <tr style=\"text-align: right;\">\n",
       "      <th></th>\n",
       "      <th>Country/Region</th>\n",
       "      <th>Cases</th>\n",
       "      <th>Deaths</th>\n",
       "      <th>PCases</th>\n",
       "      <th>PDeaths</th>\n",
       "      <th>Cases (+)</th>\n",
       "      <th>Deaths (+)</th>\n",
       "      <th>Fatality Rate</th>\n",
       "      <th>Continent</th>\n",
       "    </tr>\n",
       "  </thead>\n",
       "  <tbody>\n",
       "    <tr>\n",
       "      <th>0</th>\n",
       "      <td>US</td>\n",
       "      <td>80984214</td>\n",
       "      <td>991326</td>\n",
       "      <td>80971230</td>\n",
       "      <td>991303</td>\n",
       "      <td>12984</td>\n",
       "      <td>23</td>\n",
       "      <td>1.2</td>\n",
       "      <td>North America</td>\n",
       "    </tr>\n",
       "    <tr>\n",
       "      <th>1</th>\n",
       "      <td>India</td>\n",
       "      <td>43060086</td>\n",
       "      <td>522223</td>\n",
       "      <td>43057545</td>\n",
       "      <td>522193</td>\n",
       "      <td>2541</td>\n",
       "      <td>30</td>\n",
       "      <td>1.2</td>\n",
       "      <td>Asia</td>\n",
       "    </tr>\n",
       "    <tr>\n",
       "      <th>2</th>\n",
       "      <td>Brazil</td>\n",
       "      <td>30349463</td>\n",
       "      <td>662891</td>\n",
       "      <td>30345808</td>\n",
       "      <td>662855</td>\n",
       "      <td>3655</td>\n",
       "      <td>36</td>\n",
       "      <td>2.2</td>\n",
       "      <td>South America</td>\n",
       "    </tr>\n",
       "    <tr>\n",
       "      <th>3</th>\n",
       "      <td>France</td>\n",
       "      <td>28494054</td>\n",
       "      <td>146097</td>\n",
       "      <td>28435100</td>\n",
       "      <td>146057</td>\n",
       "      <td>58954</td>\n",
       "      <td>40</td>\n",
       "      <td>0.5</td>\n",
       "      <td>Europe</td>\n",
       "    </tr>\n",
       "    <tr>\n",
       "      <th>4</th>\n",
       "      <td>Germany</td>\n",
       "      <td>24200596</td>\n",
       "      <td>134185</td>\n",
       "      <td>24180512</td>\n",
       "      <td>134179</td>\n",
       "      <td>20084</td>\n",
       "      <td>6</td>\n",
       "      <td>0.6</td>\n",
       "      <td>Europe</td>\n",
       "    </tr>\n",
       "  </tbody>\n",
       "</table>\n",
       "</div>"
      ],
      "text/plain": [
       "  Country/Region     Cases  Deaths    PCases  PDeaths  Cases (+)  Deaths (+)  \\\n",
       "0             US  80984214  991326  80971230   991303      12984          23   \n",
       "1          India  43060086  522223  43057545   522193       2541          30   \n",
       "2         Brazil  30349463  662891  30345808   662855       3655          36   \n",
       "3         France  28494054  146097  28435100   146057      58954          40   \n",
       "4        Germany  24200596  134185  24180512   134179      20084           6   \n",
       "\n",
       "   Fatality Rate      Continent  \n",
       "0            1.2  North America  \n",
       "1            1.2           Asia  \n",
       "2            2.2  South America  \n",
       "3            0.5         Europe  \n",
       "4            0.6         Europe  "
      ]
     },
     "execution_count": 15,
     "metadata": {},
     "output_type": "execute_result"
    }
   ],
   "source": [
    "#hide\n",
    "df_table = (pd.DataFrame(dict(Cases=dfc_cases, Deaths=dfc_deaths, PCases=dfp_cases, PDeaths=dfp_deaths))\n",
    "             .sort_values(by=['Cases', 'Deaths'], ascending=[False, False])\n",
    "             .reset_index())\n",
    "df_table.rename(columns={'index': 'Country/Region'}, inplace=True)\n",
    "for c in 'Cases, Deaths'.split(', '):\n",
    "    df_table[f'{c} (+)'] = (df_table[c] - df_table[f'P{c}']).clip(0)  # DATA BUG\n",
    "df_table['Fatality Rate'] = (100 * df_table['Deaths'] / df_table['Cases']).round(1)\n",
    "df_table['Continent'] = df_table['Country/Region'].map(mapping['map.continent'])\n",
    "df_table.head(5)"
   ]
  },
  {
   "cell_type": "code",
   "execution_count": 16,
   "id": "fewer-occasion",
   "metadata": {
    "execution": {
     "iopub.execute_input": "2022-04-26T00:40:43.811873Z",
     "iopub.status.busy": "2022-04-26T00:40:43.811304Z",
     "iopub.status.idle": "2022-04-26T00:40:43.816887Z",
     "shell.execute_reply": "2022-04-26T00:40:43.816433Z"
    },
    "papermill": {
     "duration": 0.039422,
     "end_time": "2022-04-26T00:40:43.817003",
     "exception": false,
     "start_time": "2022-04-26T00:40:43.777581",
     "status": "completed"
    },
    "tags": []
   },
   "outputs": [],
   "source": [
    "#hide\n",
    "#delete problematic countries from table\n",
    "df_table = df_table[~df_table['Country/Region'].isin(['Cape Verde', 'Cruise Ship', 'Kosovo'])]"
   ]
  },
  {
   "cell_type": "code",
   "execution_count": 17,
   "id": "related-center",
   "metadata": {
    "execution": {
     "iopub.execute_input": "2022-04-26T00:40:43.887975Z",
     "iopub.status.busy": "2022-04-26T00:40:43.887437Z",
     "iopub.status.idle": "2022-04-26T00:40:43.899203Z",
     "shell.execute_reply": "2022-04-26T00:40:43.898773Z"
    },
    "papermill": {
     "duration": 0.051371,
     "end_time": "2022-04-26T00:40:43.899320",
     "exception": false,
     "start_time": "2022-04-26T00:40:43.847949",
     "status": "completed"
    },
    "tags": []
   },
   "outputs": [],
   "source": [
    "#hide\n",
    "metrics = [df_table.columns[index] for index in [1,2,5,6]]\n",
    "# s_china = df_table[df_table['Country/Region'].eq('China')][metrics].sum().add_prefix('China ')\n",
    "s_us = df_table[df_table['Country/Region'].eq('US')][metrics].sum().add_prefix('US ')\n",
    "s_eu = df_table[df_table['Continent'].eq('Europe')][metrics].sum().add_prefix('EU ')\n",
    "s_ind = df_table[df_table['Country/Region'].eq('India')][metrics].sum().add_prefix('India ')\n",
    "summary = {'updated': pd.to_datetime(dt_today), 'since': pd.to_datetime(dt_yday)}\n",
    "summary = {'updated': pd.to_datetime(dt_today), 'since': pd.to_datetime(dt_yday)}\n",
    "summary = {**summary, **df_table[metrics].sum(), **s_ind, **s_us, **s_eu}"
   ]
  },
  {
   "cell_type": "code",
   "execution_count": 18,
   "id": "engaging-syndrome",
   "metadata": {
    "execution": {
     "iopub.execute_input": "2022-04-26T00:40:43.959880Z",
     "iopub.status.busy": "2022-04-26T00:40:43.959375Z",
     "iopub.status.idle": "2022-04-26T00:40:43.984960Z",
     "shell.execute_reply": "2022-04-26T00:40:43.985455Z"
    },
    "papermill": {
     "duration": 0.058782,
     "end_time": "2022-04-26T00:40:43.985625",
     "exception": false,
     "start_time": "2022-04-26T00:40:43.926843",
     "status": "completed"
    },
    "tags": []
   },
   "outputs": [],
   "source": [
    "#hide\n",
    "dft_ct_new_cases = dft_cases.groupby(COL_REGION)[dt_cols].sum().diff(axis=1).fillna(0).astype(int)"
   ]
  },
  {
   "cell_type": "code",
   "execution_count": 19,
   "id": "neutral-assignment",
   "metadata": {
    "execution": {
     "iopub.execute_input": "2022-04-26T00:40:44.063331Z",
     "iopub.status.busy": "2022-04-26T00:40:44.062805Z",
     "iopub.status.idle": "2022-04-26T00:40:44.065056Z",
     "shell.execute_reply": "2022-04-26T00:40:44.065423Z"
    },
    "papermill": {
     "duration": 0.047051,
     "end_time": "2022-04-26T00:40:44.065565",
     "exception": false,
     "start_time": "2022-04-26T00:40:44.018514",
     "status": "completed"
    },
    "tags": []
   },
   "outputs": [],
   "source": [
    "#hide\n",
    "everydaycases = dft_ct_new_cases.cumsum(axis=1)"
   ]
  },
  {
   "cell_type": "code",
   "execution_count": 20,
   "id": "parliamentary-calgary",
   "metadata": {
    "execution": {
     "iopub.execute_input": "2022-04-26T00:40:44.125558Z",
     "iopub.status.busy": "2022-04-26T00:40:44.125073Z",
     "iopub.status.idle": "2022-04-26T00:40:44.658546Z",
     "shell.execute_reply": "2022-04-26T00:40:44.657982Z"
    },
    "papermill": {
     "duration": 0.565268,
     "end_time": "2022-04-26T00:40:44.658696",
     "exception": false,
     "start_time": "2022-04-26T00:40:44.093428",
     "status": "completed"
    },
    "tags": []
   },
   "outputs": [],
   "source": [
    "#hide\n",
    "import pandas as pd\n",
    "import matplotlib.pyplot as plt\n",
    "import matplotlib.ticker as ticker\n",
    "import matplotlib.animation as animation\n",
    "from IPython.display import HTML"
   ]
  },
  {
   "cell_type": "code",
   "execution_count": 21,
   "id": "lasting-extraction",
   "metadata": {
    "execution": {
     "iopub.execute_input": "2022-04-26T00:40:44.732664Z",
     "iopub.status.busy": "2022-04-26T00:40:44.732167Z",
     "iopub.status.idle": "2022-04-26T00:40:44.739522Z",
     "shell.execute_reply": "2022-04-26T00:40:44.739129Z"
    },
    "papermill": {
     "duration": 0.0417,
     "end_time": "2022-04-26T00:40:44.739634",
     "exception": false,
     "start_time": "2022-04-26T00:40:44.697934",
     "status": "completed"
    },
    "tags": []
   },
   "outputs": [],
   "source": [
    "#hide\n",
    "t = everydaycases.stack()"
   ]
  },
  {
   "cell_type": "code",
   "execution_count": 22,
   "id": "premier-sleeve",
   "metadata": {
    "execution": {
     "iopub.execute_input": "2022-04-26T00:40:44.799032Z",
     "iopub.status.busy": "2022-04-26T00:40:44.798535Z",
     "iopub.status.idle": "2022-04-26T00:40:44.809896Z",
     "shell.execute_reply": "2022-04-26T00:40:44.810317Z"
    },
    "papermill": {
     "duration": 0.04332,
     "end_time": "2022-04-26T00:40:44.810514",
     "exception": false,
     "start_time": "2022-04-26T00:40:44.767194",
     "status": "completed"
    },
    "tags": []
   },
   "outputs": [],
   "source": [
    "#hide\n",
    "g = t.reset_index(['Country/Region'])"
   ]
  },
  {
   "cell_type": "code",
   "execution_count": 23,
   "id": "distributed-pittsburgh",
   "metadata": {
    "execution": {
     "iopub.execute_input": "2022-04-26T00:40:44.882116Z",
     "iopub.status.busy": "2022-04-26T00:40:44.881514Z",
     "iopub.status.idle": "2022-04-26T00:40:44.883716Z",
     "shell.execute_reply": "2022-04-26T00:40:44.883292Z"
    },
    "papermill": {
     "duration": 0.041429,
     "end_time": "2022-04-26T00:40:44.883835",
     "exception": false,
     "start_time": "2022-04-26T00:40:44.842406",
     "status": "completed"
    },
    "tags": []
   },
   "outputs": [],
   "source": [
    "#hide\n",
    "g.index.name = 'date'"
   ]
  },
  {
   "cell_type": "code",
   "execution_count": 24,
   "id": "naked-donor",
   "metadata": {
    "execution": {
     "iopub.execute_input": "2022-04-26T00:40:44.950081Z",
     "iopub.status.busy": "2022-04-26T00:40:44.949486Z",
     "iopub.status.idle": "2022-04-26T00:40:44.951683Z",
     "shell.execute_reply": "2022-04-26T00:40:44.951248Z"
    },
    "papermill": {
     "duration": 0.036822,
     "end_time": "2022-04-26T00:40:44.951803",
     "exception": false,
     "start_time": "2022-04-26T00:40:44.914981",
     "status": "completed"
    },
    "tags": []
   },
   "outputs": [],
   "source": [
    "# #hide\n",
    "# g = g.reset_index(['date'])"
   ]
  },
  {
   "cell_type": "code",
   "execution_count": 25,
   "id": "incomplete-mustang",
   "metadata": {
    "execution": {
     "iopub.execute_input": "2022-04-26T00:40:45.051111Z",
     "iopub.status.busy": "2022-04-26T00:40:45.050582Z",
     "iopub.status.idle": "2022-04-26T00:40:45.053284Z",
     "shell.execute_reply": "2022-04-26T00:40:45.052877Z"
    },
    "papermill": {
     "duration": 0.058848,
     "end_time": "2022-04-26T00:40:45.053390",
     "exception": false,
     "start_time": "2022-04-26T00:40:44.994542",
     "status": "completed"
    },
    "tags": []
   },
   "outputs": [],
   "source": [
    "#hide\n",
    "# g.head()"
   ]
  },
  {
   "cell_type": "code",
   "execution_count": 26,
   "id": "specific-kruger",
   "metadata": {
    "execution": {
     "iopub.execute_input": "2022-04-26T00:40:45.119432Z",
     "iopub.status.busy": "2022-04-26T00:40:45.118859Z",
     "iopub.status.idle": "2022-04-26T00:40:45.122538Z",
     "shell.execute_reply": "2022-04-26T00:40:45.122951Z"
    },
    "papermill": {
     "duration": 0.038474,
     "end_time": "2022-04-26T00:40:45.123097",
     "exception": false,
     "start_time": "2022-04-26T00:40:45.084623",
     "status": "completed"
    },
    "tags": []
   },
   "outputs": [],
   "source": [
    "#hide\n",
    "# g.columns = ['date','country','cases']"
   ]
  },
  {
   "cell_type": "code",
   "execution_count": 27,
   "id": "tender-conversion",
   "metadata": {
    "execution": {
     "iopub.execute_input": "2022-04-26T00:40:45.202530Z",
     "iopub.status.busy": "2022-04-26T00:40:45.201535Z",
     "iopub.status.idle": "2022-04-26T00:40:45.205526Z",
     "shell.execute_reply": "2022-04-26T00:40:45.203415Z"
    },
    "papermill": {
     "duration": 0.03904,
     "end_time": "2022-04-26T00:40:45.205673",
     "exception": false,
     "start_time": "2022-04-26T00:40:45.166633",
     "status": "completed"
    },
    "tags": []
   },
   "outputs": [],
   "source": [
    "#hide\n",
    "# g['continent'] = g.country"
   ]
  },
  {
   "cell_type": "code",
   "execution_count": 28,
   "id": "substantial-wilderness",
   "metadata": {
    "execution": {
     "iopub.execute_input": "2022-04-26T00:40:45.278185Z",
     "iopub.status.busy": "2022-04-26T00:40:45.277538Z",
     "iopub.status.idle": "2022-04-26T00:40:45.279534Z",
     "shell.execute_reply": "2022-04-26T00:40:45.279021Z"
    },
    "papermill": {
     "duration": 0.033384,
     "end_time": "2022-04-26T00:40:45.279648",
     "exception": false,
     "start_time": "2022-04-26T00:40:45.246264",
     "status": "completed"
    },
    "tags": []
   },
   "outputs": [],
   "source": [
    "#hide\n",
    "# cols = list(g.columns.values)"
   ]
  },
  {
   "cell_type": "code",
   "execution_count": 29,
   "id": "solved-farming",
   "metadata": {
    "execution": {
     "iopub.execute_input": "2022-04-26T00:40:45.345471Z",
     "iopub.status.busy": "2022-04-26T00:40:45.344957Z",
     "iopub.status.idle": "2022-04-26T00:40:45.349759Z",
     "shell.execute_reply": "2022-04-26T00:40:45.349269Z"
    },
    "papermill": {
     "duration": 0.03921,
     "end_time": "2022-04-26T00:40:45.349867",
     "exception": false,
     "start_time": "2022-04-26T00:40:45.310657",
     "status": "completed"
    },
    "tags": []
   },
   "outputs": [],
   "source": [
    "#hide\n",
    "# cols.insert(0, cols.pop())"
   ]
  },
  {
   "cell_type": "code",
   "execution_count": 30,
   "id": "executed-adoption",
   "metadata": {
    "execution": {
     "iopub.execute_input": "2022-04-26T00:40:45.407656Z",
     "iopub.status.busy": "2022-04-26T00:40:45.407180Z",
     "iopub.status.idle": "2022-04-26T00:40:45.410112Z",
     "shell.execute_reply": "2022-04-26T00:40:45.410517Z"
    },
    "papermill": {
     "duration": 0.033157,
     "end_time": "2022-04-26T00:40:45.410651",
     "exception": false,
     "start_time": "2022-04-26T00:40:45.377494",
     "status": "completed"
    },
    "tags": []
   },
   "outputs": [],
   "source": [
    "#hide\n",
    "# g = g[cols]"
   ]
  },
  {
   "cell_type": "code",
   "execution_count": 31,
   "id": "subject-dublin",
   "metadata": {
    "execution": {
     "iopub.execute_input": "2022-04-26T00:40:45.469606Z",
     "iopub.status.busy": "2022-04-26T00:40:45.469006Z",
     "iopub.status.idle": "2022-04-26T00:40:45.470498Z",
     "shell.execute_reply": "2022-04-26T00:40:45.470919Z"
    },
    "papermill": {
     "duration": 0.033007,
     "end_time": "2022-04-26T00:40:45.471054",
     "exception": false,
     "start_time": "2022-04-26T00:40:45.438047",
     "status": "completed"
    },
    "tags": []
   },
   "outputs": [],
   "source": [
    "#hide\n",
    "# g['continent'] = g['continent'].map(mapping['map.continent'])"
   ]
  },
  {
   "cell_type": "code",
   "execution_count": 32,
   "id": "freelance-scout",
   "metadata": {
    "execution": {
     "iopub.execute_input": "2022-04-26T00:40:45.545513Z",
     "iopub.status.busy": "2022-04-26T00:40:45.544919Z",
     "iopub.status.idle": "2022-04-26T00:40:45.547050Z",
     "shell.execute_reply": "2022-04-26T00:40:45.546590Z"
    },
    "papermill": {
     "duration": 0.037903,
     "end_time": "2022-04-26T00:40:45.547166",
     "exception": false,
     "start_time": "2022-04-26T00:40:45.509263",
     "status": "completed"
    },
    "tags": []
   },
   "outputs": [],
   "source": [
    "#hide\n",
    "# g.head()"
   ]
  },
  {
   "cell_type": "code",
   "execution_count": 33,
   "id": "limited-engine",
   "metadata": {
    "execution": {
     "iopub.execute_input": "2022-04-26T00:40:45.613859Z",
     "iopub.status.busy": "2022-04-26T00:40:45.613294Z",
     "iopub.status.idle": "2022-04-26T00:40:45.616631Z",
     "shell.execute_reply": "2022-04-26T00:40:45.617038Z"
    },
    "papermill": {
     "duration": 0.038229,
     "end_time": "2022-04-26T00:40:45.617185",
     "exception": false,
     "start_time": "2022-04-26T00:40:45.578956",
     "status": "completed"
    },
    "tags": []
   },
   "outputs": [],
   "source": [
    "# hide\n",
    "# g['date'] = g['date'].astype('datetime64[ns]')"
   ]
  },
  {
   "cell_type": "code",
   "execution_count": 34,
   "id": "sophisticated-supervisor",
   "metadata": {
    "execution": {
     "iopub.execute_input": "2022-04-26T00:40:45.687158Z",
     "iopub.status.busy": "2022-04-26T00:40:45.686575Z",
     "iopub.status.idle": "2022-04-26T00:40:45.689390Z",
     "shell.execute_reply": "2022-04-26T00:40:45.688908Z"
    },
    "papermill": {
     "duration": 0.039991,
     "end_time": "2022-04-26T00:40:45.689512",
     "exception": false,
     "start_time": "2022-04-26T00:40:45.649521",
     "status": "completed"
    },
    "tags": []
   },
   "outputs": [],
   "source": [
    "#hide\n",
    "# g['date'] = g.date.dt.dayofyear"
   ]
  },
  {
   "cell_type": "code",
   "execution_count": 35,
   "id": "inside-dubai",
   "metadata": {
    "execution": {
     "iopub.execute_input": "2022-04-26T00:40:45.757236Z",
     "iopub.status.busy": "2022-04-26T00:40:45.756587Z",
     "iopub.status.idle": "2022-04-26T00:40:45.762458Z",
     "shell.execute_reply": "2022-04-26T00:40:45.762877Z"
    },
    "papermill": {
     "duration": 0.037827,
     "end_time": "2022-04-26T00:40:45.763025",
     "exception": false,
     "start_time": "2022-04-26T00:40:45.725198",
     "status": "completed"
    },
    "tags": []
   },
   "outputs": [],
   "source": [
    "#hide\n",
    "# g = g.rename(columns= {'continent':'group','country':'name','cases':'value'})"
   ]
  },
  {
   "cell_type": "code",
   "execution_count": 36,
   "id": "fleet-motorcycle",
   "metadata": {
    "execution": {
     "iopub.execute_input": "2022-04-26T00:40:45.836084Z",
     "iopub.status.busy": "2022-04-26T00:40:45.835583Z",
     "iopub.status.idle": "2022-04-26T00:40:45.837571Z",
     "shell.execute_reply": "2022-04-26T00:40:45.838056Z"
    },
    "papermill": {
     "duration": 0.033379,
     "end_time": "2022-04-26T00:40:45.838193",
     "exception": false,
     "start_time": "2022-04-26T00:40:45.804814",
     "status": "completed"
    },
    "tags": []
   },
   "outputs": [],
   "source": [
    "#hide\n",
    "# cols = ['name','group','day','value']"
   ]
  },
  {
   "cell_type": "code",
   "execution_count": 37,
   "id": "continued-sleeping",
   "metadata": {
    "execution": {
     "iopub.execute_input": "2022-04-26T00:40:45.897277Z",
     "iopub.status.busy": "2022-04-26T00:40:45.896599Z",
     "iopub.status.idle": "2022-04-26T00:40:45.900838Z",
     "shell.execute_reply": "2022-04-26T00:40:45.901242Z"
    },
    "papermill": {
     "duration": 0.035844,
     "end_time": "2022-04-26T00:40:45.901389",
     "exception": false,
     "start_time": "2022-04-26T00:40:45.865545",
     "status": "completed"
    },
    "tags": []
   },
   "outputs": [],
   "source": [
    "#hide\n",
    "# g.rename(columns= {'date':'day'},inplace = True)"
   ]
  },
  {
   "cell_type": "code",
   "execution_count": 38,
   "id": "major-fight",
   "metadata": {
    "execution": {
     "iopub.execute_input": "2022-04-26T00:40:45.975504Z",
     "iopub.status.busy": "2022-04-26T00:40:45.974946Z",
     "iopub.status.idle": "2022-04-26T00:40:45.977128Z",
     "shell.execute_reply": "2022-04-26T00:40:45.976695Z"
    },
    "papermill": {
     "duration": 0.039614,
     "end_time": "2022-04-26T00:40:45.977245",
     "exception": false,
     "start_time": "2022-04-26T00:40:45.937631",
     "status": "completed"
    },
    "tags": []
   },
   "outputs": [],
   "source": [
    "#hide\n",
    "# g = g[cols]"
   ]
  },
  {
   "cell_type": "code",
   "execution_count": 39,
   "id": "structured-mobile",
   "metadata": {
    "execution": {
     "iopub.execute_input": "2022-04-26T00:40:46.049330Z",
     "iopub.status.busy": "2022-04-26T00:40:46.048744Z",
     "iopub.status.idle": "2022-04-26T00:40:46.050479Z",
     "shell.execute_reply": "2022-04-26T00:40:46.050930Z"
    },
    "papermill": {
     "duration": 0.040598,
     "end_time": "2022-04-26T00:40:46.051067",
     "exception": false,
     "start_time": "2022-04-26T00:40:46.010469",
     "status": "completed"
    },
    "tags": []
   },
   "outputs": [],
   "source": [
    "# #hide\n",
    "# g = g[g.group.notna()]"
   ]
  },
  {
   "cell_type": "code",
   "execution_count": 40,
   "id": "determined-closing",
   "metadata": {
    "execution": {
     "iopub.execute_input": "2022-04-26T00:40:46.132320Z",
     "iopub.status.busy": "2022-04-26T00:40:46.131628Z",
     "iopub.status.idle": "2022-04-26T00:40:46.133025Z",
     "shell.execute_reply": "2022-04-26T00:40:46.133448Z"
    },
    "papermill": {
     "duration": 0.049365,
     "end_time": "2022-04-26T00:40:46.133591",
     "exception": false,
     "start_time": "2022-04-26T00:40:46.084226",
     "status": "completed"
    },
    "tags": []
   },
   "outputs": [],
   "source": [
    "# #hide\n",
    "# colors = dict(zip(\n",
    "#     [\"Oceania\", \"Europe\", \"Asia\", \"South America\", \"Middle East\", \"North America\", \"Africa\"],\n",
    "#     [\"#adb0ff\", \"#ffb3ff\", \"#90d595\", \"#e48381\", \"#aafbff\", \"#f7bb5f\", \"#eafb50\"]\n",
    "# ))\n",
    "# group_lk = g.set_index('name')['group'].to_dict()"
   ]
  },
  {
   "cell_type": "code",
   "execution_count": null,
   "id": "gross-drinking",
   "metadata": {
    "papermill": {
     "duration": 0.035377,
     "end_time": "2022-04-26T00:40:46.204048",
     "exception": false,
     "start_time": "2022-04-26T00:40:46.168671",
     "status": "completed"
    },
    "tags": []
   },
   "outputs": [],
   "source": []
  },
  {
   "cell_type": "code",
   "execution_count": 41,
   "id": "subject-macintosh",
   "metadata": {
    "execution": {
     "iopub.execute_input": "2022-04-26T00:40:46.272371Z",
     "iopub.status.busy": "2022-04-26T00:40:46.271786Z",
     "iopub.status.idle": "2022-04-26T00:40:46.275780Z",
     "shell.execute_reply": "2022-04-26T00:40:46.275210Z"
    },
    "papermill": {
     "duration": 0.039741,
     "end_time": "2022-04-26T00:40:46.275900",
     "exception": false,
     "start_time": "2022-04-26T00:40:46.236159",
     "status": "completed"
    },
    "tags": []
   },
   "outputs": [],
   "source": [
    "# #hide\n",
    "# fig, ax = plt.subplots(figsize=(15, 8))\n",
    "\n",
    "# def draw_barchart(current_day):\n",
    "#     dff = g[g['day'].eq(current_day)].sort_values(by='value', ascending=True).tail(10)\n",
    "#     ax.clear()\n",
    "#     ax.barh(dff['name'], dff['value'], color=[colors[group_lk[x]] for x in dff['name']])\n",
    "#     dx = dff['value'].max() / 200\n",
    "    \n",
    "#     for i, (value, name) in enumerate(zip(dff['value'], dff['name'])):\n",
    "#         ax.text(value-dx, i,     name,           size=14, weight=600, ha='right', va='bottom')\n",
    "#         ax.text(value-dx, i-.25, group_lk[name], size=10, color='#444444', ha='right', va='baseline')\n",
    "#         ax.text(value+dx, i,     f'{value:,.0f}',  size=14, ha='left',  va='center')\n",
    "#     ax.text(1, 0.4, current_day, transform=ax.transAxes, color='#777777', size=46, ha='right', weight=800)\n",
    "#     ax.text(0, 1.06, 'Population (thousands)', transform=ax.transAxes, size=12, color='#777777')\n",
    "#     ax.xaxis.set_major_formatter(ticker.StrMethodFormatter('{x:,.0f}'))\n",
    "#     ax.xaxis.set_ticks_position('top')\n",
    "#     ax.tick_params(axis='x', colors='#777777', labelsize=12)\n",
    "#     ax.set_yticks([])\n",
    "#     ax.margins(0, 0.01)\n",
    "#     ax.grid(which='major', axis='x', linestyle='-')\n",
    "#     ax.set_axisbelow(True)\n",
    "    \n",
    "#     ax.text(0, 1.15, 'Coronavirus',\n",
    "#             transform=ax.transAxes, size=24, weight=600, ha='left', va='top')\n",
    "# #     ax.text(1, 0, 'by @pratapvardhan; credit @jburnmurdoch', transform=ax.transAxes, color='#777777', ha='right',\n",
    "# #             bbox=dict(facecolor='white', alpha=0.8, edgecolor='white'))\n",
    "#     plt.box(False)"
   ]
  },
  {
   "cell_type": "code",
   "execution_count": 42,
   "id": "sexual-wages",
   "metadata": {
    "execution": {
     "iopub.execute_input": "2022-04-26T00:40:46.345473Z",
     "iopub.status.busy": "2022-04-26T00:40:46.344896Z",
     "iopub.status.idle": "2022-04-26T00:40:46.349120Z",
     "shell.execute_reply": "2022-04-26T00:40:46.348556Z"
    },
    "papermill": {
     "duration": 0.041731,
     "end_time": "2022-04-26T00:40:46.349250",
     "exception": false,
     "start_time": "2022-04-26T00:40:46.307519",
     "status": "completed"
    },
    "tags": []
   },
   "outputs": [],
   "source": [
    "# #hide_input\n",
    "# fig, ax = plt.subplots(figsize=(15, 8))\n",
    "# animator = animation.FuncAnimation(fig, draw_barchart, frames=range(g.day.values.min(), g.day.values.max()))\n",
    "# HTML(animator.to_jshtml())\n",
    "# # or use animator.to_html5_video() or animator.save() "
   ]
  },
  {
   "cell_type": "code",
   "execution_count": null,
   "id": "australian-container",
   "metadata": {
    "papermill": {
     "duration": 0.032964,
     "end_time": "2022-04-26T00:40:46.415961",
     "exception": false,
     "start_time": "2022-04-26T00:40:46.382997",
     "status": "completed"
    },
    "tags": []
   },
   "outputs": [],
   "source": []
  },
  {
   "cell_type": "code",
   "execution_count": null,
   "id": "mediterranean-pontiac",
   "metadata": {
    "papermill": {
     "duration": 0.043372,
     "end_time": "2022-04-26T00:40:46.497293",
     "exception": false,
     "start_time": "2022-04-26T00:40:46.453921",
     "status": "completed"
    },
    "tags": []
   },
   "outputs": [],
   "source": []
  },
  {
   "cell_type": "code",
   "execution_count": null,
   "id": "aging-legislature",
   "metadata": {
    "papermill": {
     "duration": 0.035562,
     "end_time": "2022-04-26T00:40:46.564602",
     "exception": false,
     "start_time": "2022-04-26T00:40:46.529040",
     "status": "completed"
    },
    "tags": []
   },
   "outputs": [],
   "source": []
  }
 ],
 "metadata": {
  "kernelspec": {
   "display_name": "Python 3",
   "language": "python",
   "name": "python3"
  },
  "language_info": {
   "codemirror_mode": {
    "name": "ipython",
    "version": 3
   },
   "file_extension": ".py",
   "mimetype": "text/x-python",
   "name": "python",
   "nbconvert_exporter": "python",
   "pygments_lexer": "ipython3",
   "version": "3.6.15"
  },
  "papermill": {
   "duration": 6.810401,
   "end_time": "2022-04-26T00:40:47.019298",
   "environment_variables": {},
   "exception": null,
   "input_path": "2020-03-21-covid19exp.ipynb",
   "output_path": "2020-03-21-covid19exp.ipynb",
   "parameters": {},
   "start_time": "2022-04-26T00:40:40.208897",
   "version": "2.0.0"
  }
 },
 "nbformat": 4,
 "nbformat_minor": 5
}