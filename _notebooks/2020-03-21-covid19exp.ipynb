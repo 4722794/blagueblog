{
 "cells": [
  {
   "cell_type": "markdown",
   "id": "muslim-click",
   "metadata": {
    "papermill": {
     "duration": 0.042392,
     "end_time": "2021-09-12T12:10:51.216823",
     "exception": false,
     "start_time": "2021-09-12T12:10:51.174431",
     "status": "completed"
    },
    "tags": []
   },
   "source": [
    "# COVID-19 Case Race\n",
    "> A race chart to see rising cases around the world\n",
    "\n",
    "- author: Hargun Oberoi\n",
    "- image: images/covid-overview.png\n",
    "- hide: false\n",
    "- badges: false"
   ]
  },
  {
   "cell_type": "code",
   "execution_count": 1,
   "id": "proof-material",
   "metadata": {
    "execution": {
     "iopub.execute_input": "2021-09-12T12:10:51.305866Z",
     "iopub.status.busy": "2021-09-12T12:10:51.305203Z",
     "iopub.status.idle": "2021-09-12T12:10:51.691200Z",
     "shell.execute_reply": "2021-09-12T12:10:51.690650Z"
    },
    "papermill": {
     "duration": 0.431463,
     "end_time": "2021-09-12T12:10:51.691351",
     "exception": false,
     "start_time": "2021-09-12T12:10:51.259888",
     "status": "completed"
    },
    "tags": []
   },
   "outputs": [],
   "source": [
    "#hide\n",
    "import numpy as np\n",
    "import pandas as pd\n",
    "from jinja2 import Template\n",
    "from IPython.display import HTML"
   ]
  },
  {
   "cell_type": "code",
   "execution_count": 2,
   "id": "developed-terminology",
   "metadata": {
    "execution": {
     "iopub.execute_input": "2021-09-12T12:10:51.767628Z",
     "iopub.status.busy": "2021-09-12T12:10:51.766317Z",
     "iopub.status.idle": "2021-09-12T12:10:51.768297Z",
     "shell.execute_reply": "2021-09-12T12:10:51.768766Z"
    },
    "papermill": {
     "duration": 0.043543,
     "end_time": "2021-09-12T12:10:51.768910",
     "exception": false,
     "start_time": "2021-09-12T12:10:51.725367",
     "status": "completed"
    },
    "tags": []
   },
   "outputs": [],
   "source": [
    "#hide\n",
    "\n",
    "# FETCH\n",
    "base_url = 'https://raw.githubusercontent.com/pratapvardhan/notebooks/master/covid19/'\n",
    "paths = {\n",
    "    'mapping': base_url + 'mapping_countries.csv',\n",
    "    'overview': base_url + 'overview.tpl'\n",
    "}"
   ]
  },
  {
   "cell_type": "code",
   "execution_count": 3,
   "id": "dynamic-saver",
   "metadata": {
    "execution": {
     "iopub.execute_input": "2021-09-12T12:10:51.848568Z",
     "iopub.status.busy": "2021-09-12T12:10:51.847817Z",
     "iopub.status.idle": "2021-09-12T12:10:51.850292Z",
     "shell.execute_reply": "2021-09-12T12:10:51.850792Z"
    },
    "papermill": {
     "duration": 0.048478,
     "end_time": "2021-09-12T12:10:51.850944",
     "exception": false,
     "start_time": "2021-09-12T12:10:51.802466",
     "status": "completed"
    },
    "tags": []
   },
   "outputs": [
    {
     "data": {
      "text/plain": [
       "'https://raw.githubusercontent.com/pratapvardhan/notebooks/master/covid19/mapping_countries.csv'"
      ]
     },
     "execution_count": 3,
     "metadata": {},
     "output_type": "execute_result"
    }
   ],
   "source": [
    "#hide\n",
    "paths['mapping']"
   ]
  },
  {
   "cell_type": "code",
   "execution_count": 4,
   "id": "urban-software",
   "metadata": {
    "execution": {
     "iopub.execute_input": "2021-09-12T12:10:51.928007Z",
     "iopub.status.busy": "2021-09-12T12:10:51.927388Z",
     "iopub.status.idle": "2021-09-12T12:10:51.930176Z",
     "shell.execute_reply": "2021-09-12T12:10:51.929674Z"
    },
    "papermill": {
     "duration": 0.043777,
     "end_time": "2021-09-12T12:10:51.930307",
     "exception": false,
     "start_time": "2021-09-12T12:10:51.886530",
     "status": "completed"
    },
    "tags": []
   },
   "outputs": [],
   "source": [
    "#hide\n",
    "def get_mappings(url):\n",
    "    df = pd.read_csv(url)\n",
    "    return {\n",
    "        'df': df,\n",
    "        'replace.country': dict(df.dropna(subset=['Name']).set_index('Country')['Name']),\n",
    "        'map.continent': dict(df.set_index('Name')['Continent'])\n",
    "    }"
   ]
  },
  {
   "cell_type": "code",
   "execution_count": 5,
   "id": "intimate-machinery",
   "metadata": {
    "execution": {
     "iopub.execute_input": "2021-09-12T12:10:52.006313Z",
     "iopub.status.busy": "2021-09-12T12:10:52.005659Z",
     "iopub.status.idle": "2021-09-12T12:10:52.078701Z",
     "shell.execute_reply": "2021-09-12T12:10:52.078156Z"
    },
    "papermill": {
     "duration": 0.114352,
     "end_time": "2021-09-12T12:10:52.078845",
     "exception": false,
     "start_time": "2021-09-12T12:10:51.964493",
     "status": "completed"
    },
    "tags": []
   },
   "outputs": [],
   "source": [
    "#hide\n",
    "mapping = get_mappings(paths['mapping'])"
   ]
  },
  {
   "cell_type": "code",
   "execution_count": 6,
   "id": "certified-tactics",
   "metadata": {
    "execution": {
     "iopub.execute_input": "2021-09-12T12:10:52.155967Z",
     "iopub.status.busy": "2021-09-12T12:10:52.155276Z",
     "iopub.status.idle": "2021-09-12T12:10:52.157586Z",
     "shell.execute_reply": "2021-09-12T12:10:52.156992Z"
    },
    "papermill": {
     "duration": 0.043493,
     "end_time": "2021-09-12T12:10:52.157736",
     "exception": false,
     "start_time": "2021-09-12T12:10:52.114243",
     "status": "completed"
    },
    "tags": []
   },
   "outputs": [],
   "source": [
    "#hide\n",
    "def get_template(path):\n",
    "    from urllib.parse import urlparse\n",
    "    if bool(urlparse(path).netloc):\n",
    "        from urllib.request import urlopen\n",
    "        return urlopen(path).read().decode('utf8')\n",
    "    return open(path).read()"
   ]
  },
  {
   "cell_type": "code",
   "execution_count": 7,
   "id": "realistic-blast",
   "metadata": {
    "execution": {
     "iopub.execute_input": "2021-09-12T12:10:52.234840Z",
     "iopub.status.busy": "2021-09-12T12:10:52.234220Z",
     "iopub.status.idle": "2021-09-12T12:10:52.236587Z",
     "shell.execute_reply": "2021-09-12T12:10:52.237137Z"
    },
    "papermill": {
     "duration": 0.044628,
     "end_time": "2021-09-12T12:10:52.237285",
     "exception": false,
     "start_time": "2021-09-12T12:10:52.192657",
     "status": "completed"
    },
    "tags": []
   },
   "outputs": [],
   "source": [
    "#hide\n",
    "def get_frame(name):\n",
    "    url = (\n",
    "        'https://raw.githubusercontent.com/CSSEGISandData/COVID-19/master/csse_covid_19_data/'\n",
    "        f'csse_covid_19_time_series/time_series_covid19_{name}_global.csv')\n",
    "    df = pd.read_csv(url)\n",
    "    # rename countries\n",
    "    df['Country/Region'] = df['Country/Region'].replace(mapping['replace.country'])\n",
    "    return df"
   ]
  },
  {
   "cell_type": "code",
   "execution_count": 8,
   "id": "affiliated-characterization",
   "metadata": {
    "execution": {
     "iopub.execute_input": "2021-09-12T12:10:52.313409Z",
     "iopub.status.busy": "2021-09-12T12:10:52.312794Z",
     "iopub.status.idle": "2021-09-12T12:10:52.316175Z",
     "shell.execute_reply": "2021-09-12T12:10:52.315207Z"
    },
    "papermill": {
     "duration": 0.043427,
     "end_time": "2021-09-12T12:10:52.316423",
     "exception": false,
     "start_time": "2021-09-12T12:10:52.272996",
     "status": "completed"
    },
    "tags": []
   },
   "outputs": [],
   "source": [
    "#hide\n",
    "def get_dates(df):\n",
    "    dt_cols = df.columns[~df.columns.isin(['Province/State', 'Country/Region', 'Lat', 'Long'])]\n",
    "    LAST_DATE_I = -1\n",
    "    # sometimes last column may be empty, then go backwards\n",
    "    for i in range(-1, -len(dt_cols), -1):\n",
    "        if not df[dt_cols[i]].fillna(0).eq(0).all():\n",
    "            LAST_DATE_I = i\n",
    "            break\n",
    "    return LAST_DATE_I, dt_cols"
   ]
  },
  {
   "cell_type": "code",
   "execution_count": 9,
   "id": "recent-optimization",
   "metadata": {
    "execution": {
     "iopub.execute_input": "2021-09-12T12:10:52.392054Z",
     "iopub.status.busy": "2021-09-12T12:10:52.391413Z",
     "iopub.status.idle": "2021-09-12T12:10:52.902625Z",
     "shell.execute_reply": "2021-09-12T12:10:52.901726Z"
    },
    "papermill": {
     "duration": 0.551376,
     "end_time": "2021-09-12T12:10:52.902846",
     "exception": false,
     "start_time": "2021-09-12T12:10:52.351470",
     "status": "completed"
    },
    "tags": []
   },
   "outputs": [],
   "source": [
    "#hide\n",
    "COL_REGION = 'Country/Region'\n",
    "# Confirmed, Recovered, Deaths\n",
    "df = get_frame('confirmed')\n",
    "# dft_: timeseries, dfc_: today country agg\n",
    "dft_cases = df\n",
    "dft_deaths = get_frame('deaths')\n",
    "dft_recovered = get_frame('recovered')\n",
    "LAST_DATE_I, dt_cols = get_dates(df)"
   ]
  },
  {
   "cell_type": "code",
   "execution_count": 10,
   "id": "absolute-copper",
   "metadata": {
    "execution": {
     "iopub.execute_input": "2021-09-12T12:10:52.978793Z",
     "iopub.status.busy": "2021-09-12T12:10:52.977442Z",
     "iopub.status.idle": "2021-09-12T12:10:52.979463Z",
     "shell.execute_reply": "2021-09-12T12:10:52.979931Z"
    },
    "papermill": {
     "duration": 0.04193,
     "end_time": "2021-09-12T12:10:52.980075",
     "exception": false,
     "start_time": "2021-09-12T12:10:52.938145",
     "status": "completed"
    },
    "tags": []
   },
   "outputs": [],
   "source": [
    "#hide\n",
    "LAST_DATE_I, dt_cols = get_dates(df)\n",
    "dt_today =dt_cols[LAST_DATE_I]\n",
    "# dt_5day = dt_cols[LAST_DATE_I - 5]\n",
    "dt_yday = dt_cols[LAST_DATE_I - 1]"
   ]
  },
  {
   "cell_type": "code",
   "execution_count": 11,
   "id": "restricted-sheriff",
   "metadata": {
    "execution": {
     "iopub.execute_input": "2021-09-12T12:10:53.055205Z",
     "iopub.status.busy": "2021-09-12T12:10:53.053385Z",
     "iopub.status.idle": "2021-09-12T12:10:53.062252Z",
     "shell.execute_reply": "2021-09-12T12:10:53.061606Z"
    },
    "papermill": {
     "duration": 0.048273,
     "end_time": "2021-09-12T12:10:53.062419",
     "exception": false,
     "start_time": "2021-09-12T12:10:53.014146",
     "status": "completed"
    },
    "tags": []
   },
   "outputs": [],
   "source": [
    "#hide\n",
    "dfc_cases = dft_cases.groupby(COL_REGION)[dt_today].sum()\n",
    "dfc_deaths = dft_deaths.groupby(COL_REGION)[dt_today].sum()\n",
    "# dfp_cases = dft_cases.groupby(COL_REGION)[dt_5day].sum()\n",
    "# dfp_deaths = dft_deaths.groupby(COL_REGION)[dt_5day].sum()\n",
    "dfp_cases = dft_cases.groupby(COL_REGION)[dt_yday].sum()\n",
    "dfp_deaths = dft_deaths.groupby(COL_REGION)[dt_yday].sum()"
   ]
  },
  {
   "cell_type": "code",
   "execution_count": 12,
   "id": "deluxe-hepatitis",
   "metadata": {
    "execution": {
     "iopub.execute_input": "2021-09-12T12:10:53.138706Z",
     "iopub.status.busy": "2021-09-12T12:10:53.138082Z",
     "iopub.status.idle": "2021-09-12T12:10:53.142407Z",
     "shell.execute_reply": "2021-09-12T12:10:53.142887Z"
    },
    "papermill": {
     "duration": 0.045697,
     "end_time": "2021-09-12T12:10:53.143037",
     "exception": false,
     "start_time": "2021-09-12T12:10:53.097340",
     "status": "completed"
    },
    "tags": []
   },
   "outputs": [],
   "source": [
    "#hide\n",
    "df_table = (pd.DataFrame(dict(Cases = dfc_cases, Deaths = dfc_deaths, PCases = dfp_cases, PDeaths = dfp_deaths))\n",
    "            .sort_values(by = ['Cases','Deaths'], ascending = [False, False])\n",
    "            .reset_index())"
   ]
  },
  {
   "cell_type": "code",
   "execution_count": 13,
   "id": "educational-chancellor",
   "metadata": {
    "execution": {
     "iopub.execute_input": "2021-09-12T12:10:53.235282Z",
     "iopub.status.busy": "2021-09-12T12:10:53.234542Z",
     "iopub.status.idle": "2021-09-12T12:10:53.243964Z",
     "shell.execute_reply": "2021-09-12T12:10:53.243472Z"
    },
    "papermill": {
     "duration": 0.066038,
     "end_time": "2021-09-12T12:10:53.244097",
     "exception": false,
     "start_time": "2021-09-12T12:10:53.178059",
     "status": "completed"
    },
    "tags": []
   },
   "outputs": [
    {
     "data": {
      "text/html": [
       "<div>\n",
       "<style scoped>\n",
       "    .dataframe tbody tr th:only-of-type {\n",
       "        vertical-align: middle;\n",
       "    }\n",
       "\n",
       "    .dataframe tbody tr th {\n",
       "        vertical-align: top;\n",
       "    }\n",
       "\n",
       "    .dataframe thead th {\n",
       "        text-align: right;\n",
       "    }\n",
       "</style>\n",
       "<table border=\"1\" class=\"dataframe\">\n",
       "  <thead>\n",
       "    <tr style=\"text-align: right;\">\n",
       "      <th></th>\n",
       "      <th>Country/Region</th>\n",
       "      <th>Cases</th>\n",
       "      <th>Deaths</th>\n",
       "      <th>PCases</th>\n",
       "      <th>PDeaths</th>\n",
       "      <th>Cases (+)</th>\n",
       "      <th>Deaths (+)</th>\n",
       "      <th>Fatality Rate</th>\n",
       "      <th>Continent</th>\n",
       "    </tr>\n",
       "  </thead>\n",
       "  <tbody>\n",
       "    <tr>\n",
       "      <th>0</th>\n",
       "      <td>US</td>\n",
       "      <td>40921394</td>\n",
       "      <td>659691</td>\n",
       "      <td>40863868</td>\n",
       "      <td>658992</td>\n",
       "      <td>57526</td>\n",
       "      <td>699</td>\n",
       "      <td>1.61</td>\n",
       "      <td>North America</td>\n",
       "    </tr>\n",
       "    <tr>\n",
       "      <th>1</th>\n",
       "      <td>India</td>\n",
       "      <td>33236921</td>\n",
       "      <td>442655</td>\n",
       "      <td>33208330</td>\n",
       "      <td>442317</td>\n",
       "      <td>28591</td>\n",
       "      <td>338</td>\n",
       "      <td>1.33</td>\n",
       "      <td>Asia</td>\n",
       "    </tr>\n",
       "    <tr>\n",
       "      <th>2</th>\n",
       "      <td>Brazil</td>\n",
       "      <td>20989164</td>\n",
       "      <td>586558</td>\n",
       "      <td>20974850</td>\n",
       "      <td>585846</td>\n",
       "      <td>14314</td>\n",
       "      <td>712</td>\n",
       "      <td>2.79</td>\n",
       "      <td>South America</td>\n",
       "    </tr>\n",
       "    <tr>\n",
       "      <th>3</th>\n",
       "      <td>United Kingdom</td>\n",
       "      <td>7231111</td>\n",
       "      <td>134469</td>\n",
       "      <td>7202212</td>\n",
       "      <td>134313</td>\n",
       "      <td>28899</td>\n",
       "      <td>156</td>\n",
       "      <td>1.86</td>\n",
       "      <td>Europe</td>\n",
       "    </tr>\n",
       "    <tr>\n",
       "      <th>4</th>\n",
       "      <td>Russia</td>\n",
       "      <td>7019200</td>\n",
       "      <td>188546</td>\n",
       "      <td>7000636</td>\n",
       "      <td>187768</td>\n",
       "      <td>18564</td>\n",
       "      <td>778</td>\n",
       "      <td>2.69</td>\n",
       "      <td>Europe</td>\n",
       "    </tr>\n",
       "  </tbody>\n",
       "</table>\n",
       "</div>"
      ],
      "text/plain": [
       "   Country/Region     Cases  Deaths    PCases  PDeaths  Cases (+)  Deaths (+)  \\\n",
       "0              US  40921394  659691  40863868   658992      57526         699   \n",
       "1           India  33236921  442655  33208330   442317      28591         338   \n",
       "2          Brazil  20989164  586558  20974850   585846      14314         712   \n",
       "3  United Kingdom   7231111  134469   7202212   134313      28899         156   \n",
       "4          Russia   7019200  188546   7000636   187768      18564         778   \n",
       "\n",
       "   Fatality Rate      Continent  \n",
       "0           1.61  North America  \n",
       "1           1.33           Asia  \n",
       "2           2.79  South America  \n",
       "3           1.86         Europe  \n",
       "4           2.69         Europe  "
      ]
     },
     "execution_count": 13,
     "metadata": {},
     "output_type": "execute_result"
    }
   ],
   "source": [
    "#hide\n",
    "for c in 'Cases, Deaths'.split(', '):\n",
    "    df_table[f'{c} (+)'] = (df_table[c] - df_table[f'P{c}']).clip(0)\n",
    "    #Clip ça veut dire, les chiffres negatif sont interdit\n",
    "df_table['Fatality Rate'] = (100* df_table['Deaths']/ df_table['Cases']).round(2)\n",
    "df_table['Continent'] = df_table['Country/Region'].map(mapping['map.continent'])\n",
    "df_table.head(5)"
   ]
  },
  {
   "cell_type": "code",
   "execution_count": 14,
   "id": "aboriginal-bulgaria",
   "metadata": {
    "execution": {
     "iopub.execute_input": "2021-09-12T12:10:53.322024Z",
     "iopub.status.busy": "2021-09-12T12:10:53.321362Z",
     "iopub.status.idle": "2021-09-12T12:10:53.324416Z",
     "shell.execute_reply": "2021-09-12T12:10:53.323827Z"
    },
    "papermill": {
     "duration": 0.044633,
     "end_time": "2021-09-12T12:10:53.324552",
     "exception": false,
     "start_time": "2021-09-12T12:10:53.279919",
     "status": "completed"
    },
    "tags": []
   },
   "outputs": [],
   "source": [
    "#hide\n",
    "#delete problematic countries from table\n",
    "df_table = df_table[~df_table['Country/Region'].isin(['Cape Verde', 'Cruise Ship', 'Kosovo'])]"
   ]
  },
  {
   "cell_type": "code",
   "execution_count": 15,
   "id": "fantastic-effect",
   "metadata": {
    "execution": {
     "iopub.execute_input": "2021-09-12T12:10:53.405562Z",
     "iopub.status.busy": "2021-09-12T12:10:53.402554Z",
     "iopub.status.idle": "2021-09-12T12:10:53.424840Z",
     "shell.execute_reply": "2021-09-12T12:10:53.424354Z"
    },
    "papermill": {
     "duration": 0.065794,
     "end_time": "2021-09-12T12:10:53.424971",
     "exception": false,
     "start_time": "2021-09-12T12:10:53.359177",
     "status": "completed"
    },
    "tags": []
   },
   "outputs": [
    {
     "data": {
      "text/html": [
       "<div>\n",
       "<style scoped>\n",
       "    .dataframe tbody tr th:only-of-type {\n",
       "        vertical-align: middle;\n",
       "    }\n",
       "\n",
       "    .dataframe tbody tr th {\n",
       "        vertical-align: top;\n",
       "    }\n",
       "\n",
       "    .dataframe thead th {\n",
       "        text-align: right;\n",
       "    }\n",
       "</style>\n",
       "<table border=\"1\" class=\"dataframe\">\n",
       "  <thead>\n",
       "    <tr style=\"text-align: right;\">\n",
       "      <th></th>\n",
       "      <th>Country/Region</th>\n",
       "      <th>Cases</th>\n",
       "      <th>Deaths</th>\n",
       "      <th>PCases</th>\n",
       "      <th>PDeaths</th>\n",
       "      <th>Cases (+)</th>\n",
       "      <th>Deaths (+)</th>\n",
       "      <th>Fatality Rate</th>\n",
       "      <th>Continent</th>\n",
       "    </tr>\n",
       "  </thead>\n",
       "  <tbody>\n",
       "    <tr>\n",
       "      <th>0</th>\n",
       "      <td>US</td>\n",
       "      <td>40921394</td>\n",
       "      <td>659691</td>\n",
       "      <td>40863868</td>\n",
       "      <td>658992</td>\n",
       "      <td>57526</td>\n",
       "      <td>699</td>\n",
       "      <td>1.6</td>\n",
       "      <td>North America</td>\n",
       "    </tr>\n",
       "    <tr>\n",
       "      <th>1</th>\n",
       "      <td>India</td>\n",
       "      <td>33236921</td>\n",
       "      <td>442655</td>\n",
       "      <td>33208330</td>\n",
       "      <td>442317</td>\n",
       "      <td>28591</td>\n",
       "      <td>338</td>\n",
       "      <td>1.3</td>\n",
       "      <td>Asia</td>\n",
       "    </tr>\n",
       "    <tr>\n",
       "      <th>2</th>\n",
       "      <td>Brazil</td>\n",
       "      <td>20989164</td>\n",
       "      <td>586558</td>\n",
       "      <td>20974850</td>\n",
       "      <td>585846</td>\n",
       "      <td>14314</td>\n",
       "      <td>712</td>\n",
       "      <td>2.8</td>\n",
       "      <td>South America</td>\n",
       "    </tr>\n",
       "    <tr>\n",
       "      <th>3</th>\n",
       "      <td>United Kingdom</td>\n",
       "      <td>7231111</td>\n",
       "      <td>134469</td>\n",
       "      <td>7202212</td>\n",
       "      <td>134313</td>\n",
       "      <td>28899</td>\n",
       "      <td>156</td>\n",
       "      <td>1.9</td>\n",
       "      <td>Europe</td>\n",
       "    </tr>\n",
       "    <tr>\n",
       "      <th>4</th>\n",
       "      <td>Russia</td>\n",
       "      <td>7019200</td>\n",
       "      <td>188546</td>\n",
       "      <td>7000636</td>\n",
       "      <td>187768</td>\n",
       "      <td>18564</td>\n",
       "      <td>778</td>\n",
       "      <td>2.7</td>\n",
       "      <td>Europe</td>\n",
       "    </tr>\n",
       "  </tbody>\n",
       "</table>\n",
       "</div>"
      ],
      "text/plain": [
       "   Country/Region     Cases  Deaths    PCases  PDeaths  Cases (+)  Deaths (+)  \\\n",
       "0              US  40921394  659691  40863868   658992      57526         699   \n",
       "1           India  33236921  442655  33208330   442317      28591         338   \n",
       "2          Brazil  20989164  586558  20974850   585846      14314         712   \n",
       "3  United Kingdom   7231111  134469   7202212   134313      28899         156   \n",
       "4          Russia   7019200  188546   7000636   187768      18564         778   \n",
       "\n",
       "   Fatality Rate      Continent  \n",
       "0            1.6  North America  \n",
       "1            1.3           Asia  \n",
       "2            2.8  South America  \n",
       "3            1.9         Europe  \n",
       "4            2.7         Europe  "
      ]
     },
     "execution_count": 15,
     "metadata": {},
     "output_type": "execute_result"
    }
   ],
   "source": [
    "#hide\n",
    "df_table = (pd.DataFrame(dict(Cases=dfc_cases, Deaths=dfc_deaths, PCases=dfp_cases, PDeaths=dfp_deaths))\n",
    "             .sort_values(by=['Cases', 'Deaths'], ascending=[False, False])\n",
    "             .reset_index())\n",
    "df_table.rename(columns={'index': 'Country/Region'}, inplace=True)\n",
    "for c in 'Cases, Deaths'.split(', '):\n",
    "    df_table[f'{c} (+)'] = (df_table[c] - df_table[f'P{c}']).clip(0)  # DATA BUG\n",
    "df_table['Fatality Rate'] = (100 * df_table['Deaths'] / df_table['Cases']).round(1)\n",
    "df_table['Continent'] = df_table['Country/Region'].map(mapping['map.continent'])\n",
    "df_table.head(5)"
   ]
  },
  {
   "cell_type": "code",
   "execution_count": 16,
   "id": "fewer-occasion",
   "metadata": {
    "execution": {
     "iopub.execute_input": "2021-09-12T12:10:53.504302Z",
     "iopub.status.busy": "2021-09-12T12:10:53.503692Z",
     "iopub.status.idle": "2021-09-12T12:10:53.507562Z",
     "shell.execute_reply": "2021-09-12T12:10:53.507051Z"
    },
    "papermill": {
     "duration": 0.045357,
     "end_time": "2021-09-12T12:10:53.507688",
     "exception": false,
     "start_time": "2021-09-12T12:10:53.462331",
     "status": "completed"
    },
    "tags": []
   },
   "outputs": [],
   "source": [
    "#hide\n",
    "#delete problematic countries from table\n",
    "df_table = df_table[~df_table['Country/Region'].isin(['Cape Verde', 'Cruise Ship', 'Kosovo'])]"
   ]
  },
  {
   "cell_type": "code",
   "execution_count": 17,
   "id": "related-center",
   "metadata": {
    "execution": {
     "iopub.execute_input": "2021-09-12T12:10:53.586662Z",
     "iopub.status.busy": "2021-09-12T12:10:53.586045Z",
     "iopub.status.idle": "2021-09-12T12:10:53.601006Z",
     "shell.execute_reply": "2021-09-12T12:10:53.601494Z"
    },
    "papermill": {
     "duration": 0.059135,
     "end_time": "2021-09-12T12:10:53.601675",
     "exception": false,
     "start_time": "2021-09-12T12:10:53.542540",
     "status": "completed"
    },
    "tags": []
   },
   "outputs": [],
   "source": [
    "#hide\n",
    "metrics = [df_table.columns[index] for index in [1,2,5,6]]\n",
    "# s_china = df_table[df_table['Country/Region'].eq('China')][metrics].sum().add_prefix('China ')\n",
    "s_us = df_table[df_table['Country/Region'].eq('US')][metrics].sum().add_prefix('US ')\n",
    "s_eu = df_table[df_table['Continent'].eq('Europe')][metrics].sum().add_prefix('EU ')\n",
    "s_ind = df_table[df_table['Country/Region'].eq('India')][metrics].sum().add_prefix('India ')\n",
    "summary = {'updated': pd.to_datetime(dt_today), 'since': pd.to_datetime(dt_yday)}\n",
    "summary = {'updated': pd.to_datetime(dt_today), 'since': pd.to_datetime(dt_yday)}\n",
    "summary = {**summary, **df_table[metrics].sum(), **s_ind, **s_us, **s_eu}"
   ]
  },
  {
   "cell_type": "code",
   "execution_count": 18,
   "id": "engaging-syndrome",
   "metadata": {
    "execution": {
     "iopub.execute_input": "2021-09-12T12:10:53.678919Z",
     "iopub.status.busy": "2021-09-12T12:10:53.678307Z",
     "iopub.status.idle": "2021-09-12T12:10:53.693951Z",
     "shell.execute_reply": "2021-09-12T12:10:53.693396Z"
    },
    "papermill": {
     "duration": 0.057123,
     "end_time": "2021-09-12T12:10:53.694094",
     "exception": false,
     "start_time": "2021-09-12T12:10:53.636971",
     "status": "completed"
    },
    "tags": []
   },
   "outputs": [],
   "source": [
    "#hide\n",
    "dft_ct_new_cases = dft_cases.groupby(COL_REGION)[dt_cols].sum().diff(axis=1).fillna(0).astype(int)"
   ]
  },
  {
   "cell_type": "code",
   "execution_count": 19,
   "id": "neutral-assignment",
   "metadata": {
    "execution": {
     "iopub.execute_input": "2021-09-12T12:10:53.777379Z",
     "iopub.status.busy": "2021-09-12T12:10:53.776765Z",
     "iopub.status.idle": "2021-09-12T12:10:53.779347Z",
     "shell.execute_reply": "2021-09-12T12:10:53.778843Z"
    },
    "papermill": {
     "duration": 0.050155,
     "end_time": "2021-09-12T12:10:53.779472",
     "exception": false,
     "start_time": "2021-09-12T12:10:53.729317",
     "status": "completed"
    },
    "tags": []
   },
   "outputs": [],
   "source": [
    "#hide\n",
    "everydaycases = dft_ct_new_cases.cumsum(axis=1)"
   ]
  },
  {
   "cell_type": "code",
   "execution_count": 20,
   "id": "parliamentary-calgary",
   "metadata": {
    "execution": {
     "iopub.execute_input": "2021-09-12T12:10:53.856091Z",
     "iopub.status.busy": "2021-09-12T12:10:53.855479Z",
     "iopub.status.idle": "2021-09-12T12:10:54.562525Z",
     "shell.execute_reply": "2021-09-12T12:10:54.561804Z"
    },
    "papermill": {
     "duration": 0.748154,
     "end_time": "2021-09-12T12:10:54.562703",
     "exception": false,
     "start_time": "2021-09-12T12:10:53.814549",
     "status": "completed"
    },
    "tags": []
   },
   "outputs": [],
   "source": [
    "#hide\n",
    "import pandas as pd\n",
    "import matplotlib.pyplot as plt\n",
    "import matplotlib.ticker as ticker\n",
    "import matplotlib.animation as animation\n",
    "from IPython.display import HTML"
   ]
  },
  {
   "cell_type": "code",
   "execution_count": 21,
   "id": "lasting-extraction",
   "metadata": {
    "execution": {
     "iopub.execute_input": "2021-09-12T12:10:54.640893Z",
     "iopub.status.busy": "2021-09-12T12:10:54.640283Z",
     "iopub.status.idle": "2021-09-12T12:10:54.647851Z",
     "shell.execute_reply": "2021-09-12T12:10:54.647004Z"
    },
    "papermill": {
     "duration": 0.048553,
     "end_time": "2021-09-12T12:10:54.647982",
     "exception": false,
     "start_time": "2021-09-12T12:10:54.599429",
     "status": "completed"
    },
    "tags": []
   },
   "outputs": [],
   "source": [
    "#hide\n",
    "t = everydaycases.stack()"
   ]
  },
  {
   "cell_type": "code",
   "execution_count": 22,
   "id": "premier-sleeve",
   "metadata": {
    "execution": {
     "iopub.execute_input": "2021-09-12T12:10:54.724689Z",
     "iopub.status.busy": "2021-09-12T12:10:54.724076Z",
     "iopub.status.idle": "2021-09-12T12:10:54.734474Z",
     "shell.execute_reply": "2021-09-12T12:10:54.733982Z"
    },
    "papermill": {
     "duration": 0.051373,
     "end_time": "2021-09-12T12:10:54.734606",
     "exception": false,
     "start_time": "2021-09-12T12:10:54.683233",
     "status": "completed"
    },
    "tags": []
   },
   "outputs": [],
   "source": [
    "#hide\n",
    "g = t.reset_index(['Country/Region'])"
   ]
  },
  {
   "cell_type": "code",
   "execution_count": 23,
   "id": "distributed-pittsburgh",
   "metadata": {
    "execution": {
     "iopub.execute_input": "2021-09-12T12:10:54.809737Z",
     "iopub.status.busy": "2021-09-12T12:10:54.809113Z",
     "iopub.status.idle": "2021-09-12T12:10:54.811598Z",
     "shell.execute_reply": "2021-09-12T12:10:54.811012Z"
    },
    "papermill": {
     "duration": 0.042062,
     "end_time": "2021-09-12T12:10:54.811724",
     "exception": false,
     "start_time": "2021-09-12T12:10:54.769662",
     "status": "completed"
    },
    "tags": []
   },
   "outputs": [],
   "source": [
    "#hide\n",
    "g.index.name = 'date'"
   ]
  },
  {
   "cell_type": "code",
   "execution_count": 24,
   "id": "naked-donor",
   "metadata": {
    "execution": {
     "iopub.execute_input": "2021-09-12T12:10:54.887272Z",
     "iopub.status.busy": "2021-09-12T12:10:54.886669Z",
     "iopub.status.idle": "2021-09-12T12:10:54.889150Z",
     "shell.execute_reply": "2021-09-12T12:10:54.888641Z"
    },
    "papermill": {
     "duration": 0.042517,
     "end_time": "2021-09-12T12:10:54.889275",
     "exception": false,
     "start_time": "2021-09-12T12:10:54.846758",
     "status": "completed"
    },
    "tags": []
   },
   "outputs": [],
   "source": [
    "# #hide\n",
    "# g = g.reset_index(['date'])"
   ]
  },
  {
   "cell_type": "code",
   "execution_count": 25,
   "id": "incomplete-mustang",
   "metadata": {
    "execution": {
     "iopub.execute_input": "2021-09-12T12:10:54.964640Z",
     "iopub.status.busy": "2021-09-12T12:10:54.964039Z",
     "iopub.status.idle": "2021-09-12T12:10:54.966946Z",
     "shell.execute_reply": "2021-09-12T12:10:54.967495Z"
    },
    "papermill": {
     "duration": 0.043301,
     "end_time": "2021-09-12T12:10:54.967637",
     "exception": false,
     "start_time": "2021-09-12T12:10:54.924336",
     "status": "completed"
    },
    "tags": []
   },
   "outputs": [],
   "source": [
    "#hide\n",
    "# g.head()"
   ]
  },
  {
   "cell_type": "code",
   "execution_count": 26,
   "id": "specific-kruger",
   "metadata": {
    "execution": {
     "iopub.execute_input": "2021-09-12T12:10:55.042154Z",
     "iopub.status.busy": "2021-09-12T12:10:55.041509Z",
     "iopub.status.idle": "2021-09-12T12:10:55.044366Z",
     "shell.execute_reply": "2021-09-12T12:10:55.043808Z"
    },
    "papermill": {
     "duration": 0.041679,
     "end_time": "2021-09-12T12:10:55.044496",
     "exception": false,
     "start_time": "2021-09-12T12:10:55.002817",
     "status": "completed"
    },
    "tags": []
   },
   "outputs": [],
   "source": [
    "#hide\n",
    "# g.columns = ['date','country','cases']"
   ]
  },
  {
   "cell_type": "code",
   "execution_count": 27,
   "id": "tender-conversion",
   "metadata": {
    "execution": {
     "iopub.execute_input": "2021-09-12T12:10:55.124304Z",
     "iopub.status.busy": "2021-09-12T12:10:55.123219Z",
     "iopub.status.idle": "2021-09-12T12:10:55.124882Z",
     "shell.execute_reply": "2021-09-12T12:10:55.125435Z"
    },
    "papermill": {
     "duration": 0.040965,
     "end_time": "2021-09-12T12:10:55.125575",
     "exception": false,
     "start_time": "2021-09-12T12:10:55.084610",
     "status": "completed"
    },
    "tags": []
   },
   "outputs": [],
   "source": [
    "#hide\n",
    "# g['continent'] = g.country"
   ]
  },
  {
   "cell_type": "code",
   "execution_count": 28,
   "id": "substantial-wilderness",
   "metadata": {
    "execution": {
     "iopub.execute_input": "2021-09-12T12:10:55.202885Z",
     "iopub.status.busy": "2021-09-12T12:10:55.201742Z",
     "iopub.status.idle": "2021-09-12T12:10:55.204288Z",
     "shell.execute_reply": "2021-09-12T12:10:55.204820Z"
    },
    "papermill": {
     "duration": 0.043883,
     "end_time": "2021-09-12T12:10:55.204970",
     "exception": false,
     "start_time": "2021-09-12T12:10:55.161087",
     "status": "completed"
    },
    "tags": []
   },
   "outputs": [],
   "source": [
    "#hide\n",
    "# cols = list(g.columns.values)"
   ]
  },
  {
   "cell_type": "code",
   "execution_count": 29,
   "id": "solved-farming",
   "metadata": {
    "execution": {
     "iopub.execute_input": "2021-09-12T12:10:55.285597Z",
     "iopub.status.busy": "2021-09-12T12:10:55.284972Z",
     "iopub.status.idle": "2021-09-12T12:10:55.286431Z",
     "shell.execute_reply": "2021-09-12T12:10:55.286975Z"
    },
    "papermill": {
     "duration": 0.041631,
     "end_time": "2021-09-12T12:10:55.287118",
     "exception": false,
     "start_time": "2021-09-12T12:10:55.245487",
     "status": "completed"
    },
    "tags": []
   },
   "outputs": [],
   "source": [
    "#hide\n",
    "# cols.insert(0, cols.pop())"
   ]
  },
  {
   "cell_type": "code",
   "execution_count": 30,
   "id": "executed-adoption",
   "metadata": {
    "execution": {
     "iopub.execute_input": "2021-09-12T12:10:55.363874Z",
     "iopub.status.busy": "2021-09-12T12:10:55.363272Z",
     "iopub.status.idle": "2021-09-12T12:10:55.366568Z",
     "shell.execute_reply": "2021-09-12T12:10:55.367127Z"
    },
    "papermill": {
     "duration": 0.044392,
     "end_time": "2021-09-12T12:10:55.367269",
     "exception": false,
     "start_time": "2021-09-12T12:10:55.322877",
     "status": "completed"
    },
    "tags": []
   },
   "outputs": [],
   "source": [
    "#hide\n",
    "# g = g[cols]"
   ]
  },
  {
   "cell_type": "code",
   "execution_count": 31,
   "id": "subject-dublin",
   "metadata": {
    "execution": {
     "iopub.execute_input": "2021-09-12T12:10:55.441919Z",
     "iopub.status.busy": "2021-09-12T12:10:55.441287Z",
     "iopub.status.idle": "2021-09-12T12:10:55.443806Z",
     "shell.execute_reply": "2021-09-12T12:10:55.443302Z"
    },
    "papermill": {
     "duration": 0.041521,
     "end_time": "2021-09-12T12:10:55.443927",
     "exception": false,
     "start_time": "2021-09-12T12:10:55.402406",
     "status": "completed"
    },
    "tags": []
   },
   "outputs": [],
   "source": [
    "#hide\n",
    "# g['continent'] = g['continent'].map(mapping['map.continent'])"
   ]
  },
  {
   "cell_type": "code",
   "execution_count": 32,
   "id": "freelance-scout",
   "metadata": {
    "execution": {
     "iopub.execute_input": "2021-09-12T12:10:55.519748Z",
     "iopub.status.busy": "2021-09-12T12:10:55.519139Z",
     "iopub.status.idle": "2021-09-12T12:10:55.521407Z",
     "shell.execute_reply": "2021-09-12T12:10:55.520906Z"
    },
    "papermill": {
     "duration": 0.041335,
     "end_time": "2021-09-12T12:10:55.521530",
     "exception": false,
     "start_time": "2021-09-12T12:10:55.480195",
     "status": "completed"
    },
    "tags": []
   },
   "outputs": [],
   "source": [
    "#hide\n",
    "# g.head()"
   ]
  },
  {
   "cell_type": "code",
   "execution_count": 33,
   "id": "limited-engine",
   "metadata": {
    "execution": {
     "iopub.execute_input": "2021-09-12T12:10:55.597072Z",
     "iopub.status.busy": "2021-09-12T12:10:55.596388Z",
     "iopub.status.idle": "2021-09-12T12:10:55.598190Z",
     "shell.execute_reply": "2021-09-12T12:10:55.598689Z"
    },
    "papermill": {
     "duration": 0.041128,
     "end_time": "2021-09-12T12:10:55.598830",
     "exception": false,
     "start_time": "2021-09-12T12:10:55.557702",
     "status": "completed"
    },
    "tags": []
   },
   "outputs": [],
   "source": [
    "# hide\n",
    "# g['date'] = g['date'].astype('datetime64[ns]')"
   ]
  },
  {
   "cell_type": "code",
   "execution_count": 34,
   "id": "sophisticated-supervisor",
   "metadata": {
    "execution": {
     "iopub.execute_input": "2021-09-12T12:10:55.673808Z",
     "iopub.status.busy": "2021-09-12T12:10:55.673182Z",
     "iopub.status.idle": "2021-09-12T12:10:55.675564Z",
     "shell.execute_reply": "2021-09-12T12:10:55.677263Z"
    },
    "papermill": {
     "duration": 0.043512,
     "end_time": "2021-09-12T12:10:55.677414",
     "exception": false,
     "start_time": "2021-09-12T12:10:55.633902",
     "status": "completed"
    },
    "tags": []
   },
   "outputs": [],
   "source": [
    "#hide\n",
    "# g['date'] = g.date.dt.dayofyear"
   ]
  },
  {
   "cell_type": "code",
   "execution_count": 35,
   "id": "inside-dubai",
   "metadata": {
    "execution": {
     "iopub.execute_input": "2021-09-12T12:10:55.754243Z",
     "iopub.status.busy": "2021-09-12T12:10:55.753608Z",
     "iopub.status.idle": "2021-09-12T12:10:55.756232Z",
     "shell.execute_reply": "2021-09-12T12:10:55.755731Z"
    },
    "papermill": {
     "duration": 0.044291,
     "end_time": "2021-09-12T12:10:55.756354",
     "exception": false,
     "start_time": "2021-09-12T12:10:55.712063",
     "status": "completed"
    },
    "tags": []
   },
   "outputs": [],
   "source": [
    "#hide\n",
    "# g = g.rename(columns= {'continent':'group','country':'name','cases':'value'})"
   ]
  },
  {
   "cell_type": "code",
   "execution_count": 36,
   "id": "fleet-motorcycle",
   "metadata": {
    "execution": {
     "iopub.execute_input": "2021-09-12T12:10:55.830885Z",
     "iopub.status.busy": "2021-09-12T12:10:55.830285Z",
     "iopub.status.idle": "2021-09-12T12:10:55.832553Z",
     "shell.execute_reply": "2021-09-12T12:10:55.832054Z"
    },
    "papermill": {
     "duration": 0.041217,
     "end_time": "2021-09-12T12:10:55.832675",
     "exception": false,
     "start_time": "2021-09-12T12:10:55.791458",
     "status": "completed"
    },
    "tags": []
   },
   "outputs": [],
   "source": [
    "#hide\n",
    "# cols = ['name','group','day','value']"
   ]
  },
  {
   "cell_type": "code",
   "execution_count": 37,
   "id": "continued-sleeping",
   "metadata": {
    "execution": {
     "iopub.execute_input": "2021-09-12T12:10:55.907183Z",
     "iopub.status.busy": "2021-09-12T12:10:55.906584Z",
     "iopub.status.idle": "2021-09-12T12:10:55.909649Z",
     "shell.execute_reply": "2021-09-12T12:10:55.909077Z"
    },
    "papermill": {
     "duration": 0.042443,
     "end_time": "2021-09-12T12:10:55.909781",
     "exception": false,
     "start_time": "2021-09-12T12:10:55.867338",
     "status": "completed"
    },
    "tags": []
   },
   "outputs": [],
   "source": [
    "#hide\n",
    "# g.rename(columns= {'date':'day'},inplace = True)"
   ]
  },
  {
   "cell_type": "code",
   "execution_count": 38,
   "id": "major-fight",
   "metadata": {
    "execution": {
     "iopub.execute_input": "2021-09-12T12:10:55.986454Z",
     "iopub.status.busy": "2021-09-12T12:10:55.985837Z",
     "iopub.status.idle": "2021-09-12T12:10:55.988085Z",
     "shell.execute_reply": "2021-09-12T12:10:55.987585Z"
    },
    "papermill": {
     "duration": 0.042817,
     "end_time": "2021-09-12T12:10:55.988208",
     "exception": false,
     "start_time": "2021-09-12T12:10:55.945391",
     "status": "completed"
    },
    "tags": []
   },
   "outputs": [],
   "source": [
    "#hide\n",
    "# g = g[cols]"
   ]
  },
  {
   "cell_type": "code",
   "execution_count": 39,
   "id": "structured-mobile",
   "metadata": {
    "execution": {
     "iopub.execute_input": "2021-09-12T12:10:56.074199Z",
     "iopub.status.busy": "2021-09-12T12:10:56.073504Z",
     "iopub.status.idle": "2021-09-12T12:10:56.075965Z",
     "shell.execute_reply": "2021-09-12T12:10:56.075468Z"
    },
    "papermill": {
     "duration": 0.051934,
     "end_time": "2021-09-12T12:10:56.076099",
     "exception": false,
     "start_time": "2021-09-12T12:10:56.024165",
     "status": "completed"
    },
    "tags": []
   },
   "outputs": [],
   "source": [
    "# #hide\n",
    "# g = g[g.group.notna()]"
   ]
  },
  {
   "cell_type": "code",
   "execution_count": 40,
   "id": "determined-closing",
   "metadata": {
    "execution": {
     "iopub.execute_input": "2021-09-12T12:10:56.151845Z",
     "iopub.status.busy": "2021-09-12T12:10:56.151173Z",
     "iopub.status.idle": "2021-09-12T12:10:56.152458Z",
     "shell.execute_reply": "2021-09-12T12:10:56.153071Z"
    },
    "papermill": {
     "duration": 0.041243,
     "end_time": "2021-09-12T12:10:56.153214",
     "exception": false,
     "start_time": "2021-09-12T12:10:56.111971",
     "status": "completed"
    },
    "tags": []
   },
   "outputs": [],
   "source": [
    "# #hide\n",
    "# colors = dict(zip(\n",
    "#     [\"Oceania\", \"Europe\", \"Asia\", \"South America\", \"Middle East\", \"North America\", \"Africa\"],\n",
    "#     [\"#adb0ff\", \"#ffb3ff\", \"#90d595\", \"#e48381\", \"#aafbff\", \"#f7bb5f\", \"#eafb50\"]\n",
    "# ))\n",
    "# group_lk = g.set_index('name')['group'].to_dict()"
   ]
  },
  {
   "cell_type": "code",
   "execution_count": null,
   "id": "gross-drinking",
   "metadata": {
    "papermill": {
     "duration": 0.034897,
     "end_time": "2021-09-12T12:10:56.223002",
     "exception": false,
     "start_time": "2021-09-12T12:10:56.188105",
     "status": "completed"
    },
    "tags": []
   },
   "outputs": [],
   "source": []
  },
  {
   "cell_type": "code",
   "execution_count": 41,
   "id": "subject-macintosh",
   "metadata": {
    "execution": {
     "iopub.execute_input": "2021-09-12T12:10:56.298152Z",
     "iopub.status.busy": "2021-09-12T12:10:56.297458Z",
     "iopub.status.idle": "2021-09-12T12:10:56.299022Z",
     "shell.execute_reply": "2021-09-12T12:10:56.299564Z"
    },
    "papermill": {
     "duration": 0.041325,
     "end_time": "2021-09-12T12:10:56.299712",
     "exception": false,
     "start_time": "2021-09-12T12:10:56.258387",
     "status": "completed"
    },
    "tags": []
   },
   "outputs": [],
   "source": [
    "# #hide\n",
    "# fig, ax = plt.subplots(figsize=(15, 8))\n",
    "\n",
    "# def draw_barchart(current_day):\n",
    "#     dff = g[g['day'].eq(current_day)].sort_values(by='value', ascending=True).tail(10)\n",
    "#     ax.clear()\n",
    "#     ax.barh(dff['name'], dff['value'], color=[colors[group_lk[x]] for x in dff['name']])\n",
    "#     dx = dff['value'].max() / 200\n",
    "    \n",
    "#     for i, (value, name) in enumerate(zip(dff['value'], dff['name'])):\n",
    "#         ax.text(value-dx, i,     name,           size=14, weight=600, ha='right', va='bottom')\n",
    "#         ax.text(value-dx, i-.25, group_lk[name], size=10, color='#444444', ha='right', va='baseline')\n",
    "#         ax.text(value+dx, i,     f'{value:,.0f}',  size=14, ha='left',  va='center')\n",
    "#     ax.text(1, 0.4, current_day, transform=ax.transAxes, color='#777777', size=46, ha='right', weight=800)\n",
    "#     ax.text(0, 1.06, 'Population (thousands)', transform=ax.transAxes, size=12, color='#777777')\n",
    "#     ax.xaxis.set_major_formatter(ticker.StrMethodFormatter('{x:,.0f}'))\n",
    "#     ax.xaxis.set_ticks_position('top')\n",
    "#     ax.tick_params(axis='x', colors='#777777', labelsize=12)\n",
    "#     ax.set_yticks([])\n",
    "#     ax.margins(0, 0.01)\n",
    "#     ax.grid(which='major', axis='x', linestyle='-')\n",
    "#     ax.set_axisbelow(True)\n",
    "    \n",
    "#     ax.text(0, 1.15, 'Coronavirus',\n",
    "#             transform=ax.transAxes, size=24, weight=600, ha='left', va='top')\n",
    "# #     ax.text(1, 0, 'by @pratapvardhan; credit @jburnmurdoch', transform=ax.transAxes, color='#777777', ha='right',\n",
    "# #             bbox=dict(facecolor='white', alpha=0.8, edgecolor='white'))\n",
    "#     plt.box(False)"
   ]
  },
  {
   "cell_type": "code",
   "execution_count": 42,
   "id": "sexual-wages",
   "metadata": {
    "execution": {
     "iopub.execute_input": "2021-09-12T12:10:56.375926Z",
     "iopub.status.busy": "2021-09-12T12:10:56.375300Z",
     "iopub.status.idle": "2021-09-12T12:10:56.377707Z",
     "shell.execute_reply": "2021-09-12T12:10:56.377177Z"
    },
    "papermill": {
     "duration": 0.041795,
     "end_time": "2021-09-12T12:10:56.377834",
     "exception": false,
     "start_time": "2021-09-12T12:10:56.336039",
     "status": "completed"
    },
    "tags": []
   },
   "outputs": [],
   "source": [
    "# #hide_input\n",
    "# fig, ax = plt.subplots(figsize=(15, 8))\n",
    "# animator = animation.FuncAnimation(fig, draw_barchart, frames=range(g.day.values.min(), g.day.values.max()))\n",
    "# HTML(animator.to_jshtml())\n",
    "# # or use animator.to_html5_video() or animator.save() "
   ]
  },
  {
   "cell_type": "code",
   "execution_count": null,
   "id": "australian-container",
   "metadata": {
    "papermill": {
     "duration": 0.035741,
     "end_time": "2021-09-12T12:10:56.449912",
     "exception": false,
     "start_time": "2021-09-12T12:10:56.414171",
     "status": "completed"
    },
    "tags": []
   },
   "outputs": [],
   "source": []
  },
  {
   "cell_type": "code",
   "execution_count": null,
   "id": "mediterranean-pontiac",
   "metadata": {
    "papermill": {
     "duration": 0.038526,
     "end_time": "2021-09-12T12:10:56.525253",
     "exception": false,
     "start_time": "2021-09-12T12:10:56.486727",
     "status": "completed"
    },
    "tags": []
   },
   "outputs": [],
   "source": []
  },
  {
   "cell_type": "code",
   "execution_count": null,
   "id": "aging-legislature",
   "metadata": {
    "papermill": {
     "duration": 0.036608,
     "end_time": "2021-09-12T12:10:56.598732",
     "exception": false,
     "start_time": "2021-09-12T12:10:56.562124",
     "status": "completed"
    },
    "tags": []
   },
   "outputs": [],
   "source": []
  }
 ],
 "metadata": {
  "kernelspec": {
   "display_name": "Python 3",
   "language": "python",
   "name": "python3"
  },
  "language_info": {
   "codemirror_mode": {
    "name": "ipython",
    "version": 3
   },
   "file_extension": ".py",
   "mimetype": "text/x-python",
   "name": "python",
   "nbconvert_exporter": "python",
   "pygments_lexer": "ipython3",
   "version": "3.6.14"
  },
  "papermill": {
   "duration": 7.209226,
   "end_time": "2021-09-12T12:10:57.046229",
   "environment_variables": {},
   "exception": null,
   "input_path": "2020-03-21-covid19exp.ipynb",
   "output_path": "2020-03-21-covid19exp.ipynb",
   "parameters": {},
   "start_time": "2021-09-12T12:10:49.837003",
   "version": "2.0.0"
  }
 },
 "nbformat": 4,
 "nbformat_minor": 5
}