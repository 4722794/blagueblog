{
 "cells": [
  {
   "cell_type": "markdown",
   "id": "muslim-click",
   "metadata": {
    "papermill": {
     "duration": 0.042198,
     "end_time": "2022-05-30T00:46:39.865552",
     "exception": false,
     "start_time": "2022-05-30T00:46:39.823354",
     "status": "completed"
    },
    "tags": []
   },
   "source": [
    "# COVID-19 Case Race\n",
    "> A race chart to see rising cases around the world\n",
    "\n",
    "- author: Hargun Oberoi\n",
    "- image: images/covid-overview.png\n",
    "- hide: false\n",
    "- badges: false"
   ]
  },
  {
   "cell_type": "code",
   "execution_count": 1,
   "id": "proof-material",
   "metadata": {
    "execution": {
     "iopub.execute_input": "2022-05-30T00:46:39.950737Z",
     "iopub.status.busy": "2022-05-30T00:46:39.949943Z",
     "iopub.status.idle": "2022-05-30T00:46:40.321258Z",
     "shell.execute_reply": "2022-05-30T00:46:40.321879Z"
    },
    "papermill": {
     "duration": 0.419686,
     "end_time": "2022-05-30T00:46:40.322087",
     "exception": false,
     "start_time": "2022-05-30T00:46:39.902401",
     "status": "completed"
    },
    "tags": []
   },
   "outputs": [],
   "source": [
    "#hide\n",
    "import numpy as np\n",
    "import pandas as pd\n",
    "from jinja2 import Template\n",
    "from IPython.display import HTML"
   ]
  },
  {
   "cell_type": "code",
   "execution_count": 2,
   "id": "developed-terminology",
   "metadata": {
    "execution": {
     "iopub.execute_input": "2022-05-30T00:46:40.401132Z",
     "iopub.status.busy": "2022-05-30T00:46:40.400373Z",
     "iopub.status.idle": "2022-05-30T00:46:40.403112Z",
     "shell.execute_reply": "2022-05-30T00:46:40.403682Z"
    },
    "papermill": {
     "duration": 0.044082,
     "end_time": "2022-05-30T00:46:40.403819",
     "exception": false,
     "start_time": "2022-05-30T00:46:40.359737",
     "status": "completed"
    },
    "tags": []
   },
   "outputs": [],
   "source": [
    "#hide\n",
    "\n",
    "# FETCH\n",
    "base_url = 'https://raw.githubusercontent.com/pratapvardhan/notebooks/master/covid19/'\n",
    "paths = {\n",
    "    'mapping': base_url + 'mapping_countries.csv',\n",
    "    'overview': base_url + 'overview.tpl'\n",
    "}"
   ]
  },
  {
   "cell_type": "code",
   "execution_count": 3,
   "id": "dynamic-saver",
   "metadata": {
    "execution": {
     "iopub.execute_input": "2022-05-30T00:46:40.489948Z",
     "iopub.status.busy": "2022-05-30T00:46:40.489296Z",
     "iopub.status.idle": "2022-05-30T00:46:40.493867Z",
     "shell.execute_reply": "2022-05-30T00:46:40.493334Z"
    },
    "papermill": {
     "duration": 0.053345,
     "end_time": "2022-05-30T00:46:40.493983",
     "exception": false,
     "start_time": "2022-05-30T00:46:40.440638",
     "status": "completed"
    },
    "tags": []
   },
   "outputs": [
    {
     "data": {
      "text/plain": [
       "'https://raw.githubusercontent.com/pratapvardhan/notebooks/master/covid19/mapping_countries.csv'"
      ]
     },
     "execution_count": 3,
     "metadata": {},
     "output_type": "execute_result"
    }
   ],
   "source": [
    "#hide\n",
    "paths['mapping']"
   ]
  },
  {
   "cell_type": "code",
   "execution_count": 4,
   "id": "urban-software",
   "metadata": {
    "execution": {
     "iopub.execute_input": "2022-05-30T00:46:40.572539Z",
     "iopub.status.busy": "2022-05-30T00:46:40.571692Z",
     "iopub.status.idle": "2022-05-30T00:46:40.575140Z",
     "shell.execute_reply": "2022-05-30T00:46:40.574573Z"
    },
    "papermill": {
     "duration": 0.044594,
     "end_time": "2022-05-30T00:46:40.575255",
     "exception": false,
     "start_time": "2022-05-30T00:46:40.530661",
     "status": "completed"
    },
    "tags": []
   },
   "outputs": [],
   "source": [
    "#hide\n",
    "def get_mappings(url):\n",
    "    df = pd.read_csv(url)\n",
    "    return {\n",
    "        'df': df,\n",
    "        'replace.country': dict(df.dropna(subset=['Name']).set_index('Country')['Name']),\n",
    "        'map.continent': dict(df.set_index('Name')['Continent'])\n",
    "    }"
   ]
  },
  {
   "cell_type": "code",
   "execution_count": 5,
   "id": "intimate-machinery",
   "metadata": {
    "execution": {
     "iopub.execute_input": "2022-05-30T00:46:40.656399Z",
     "iopub.status.busy": "2022-05-30T00:46:40.655610Z",
     "iopub.status.idle": "2022-05-30T00:46:40.688047Z",
     "shell.execute_reply": "2022-05-30T00:46:40.687388Z"
    },
    "papermill": {
     "duration": 0.075656,
     "end_time": "2022-05-30T00:46:40.688185",
     "exception": false,
     "start_time": "2022-05-30T00:46:40.612529",
     "status": "completed"
    },
    "tags": []
   },
   "outputs": [],
   "source": [
    "#hide\n",
    "mapping = get_mappings(paths['mapping'])"
   ]
  },
  {
   "cell_type": "code",
   "execution_count": 6,
   "id": "certified-tactics",
   "metadata": {
    "execution": {
     "iopub.execute_input": "2022-05-30T00:46:40.766186Z",
     "iopub.status.busy": "2022-05-30T00:46:40.765432Z",
     "iopub.status.idle": "2022-05-30T00:46:40.768675Z",
     "shell.execute_reply": "2022-05-30T00:46:40.768040Z"
    },
    "papermill": {
     "duration": 0.043788,
     "end_time": "2022-05-30T00:46:40.768792",
     "exception": false,
     "start_time": "2022-05-30T00:46:40.725004",
     "status": "completed"
    },
    "tags": []
   },
   "outputs": [],
   "source": [
    "#hide\n",
    "def get_template(path):\n",
    "    from urllib.parse import urlparse\n",
    "    if bool(urlparse(path).netloc):\n",
    "        from urllib.request import urlopen\n",
    "        return urlopen(path).read().decode('utf8')\n",
    "    return open(path).read()"
   ]
  },
  {
   "cell_type": "code",
   "execution_count": 7,
   "id": "realistic-blast",
   "metadata": {
    "execution": {
     "iopub.execute_input": "2022-05-30T00:46:40.848986Z",
     "iopub.status.busy": "2022-05-30T00:46:40.848157Z",
     "iopub.status.idle": "2022-05-30T00:46:40.852303Z",
     "shell.execute_reply": "2022-05-30T00:46:40.851453Z"
    },
    "papermill": {
     "duration": 0.046633,
     "end_time": "2022-05-30T00:46:40.852436",
     "exception": false,
     "start_time": "2022-05-30T00:46:40.805803",
     "status": "completed"
    },
    "tags": []
   },
   "outputs": [],
   "source": [
    "#hide\n",
    "def get_frame(name):\n",
    "    url = (\n",
    "        'https://raw.githubusercontent.com/CSSEGISandData/COVID-19/master/csse_covid_19_data/'\n",
    "        f'csse_covid_19_time_series/time_series_covid19_{name}_global.csv')\n",
    "    df = pd.read_csv(url)\n",
    "    # rename countries\n",
    "    df['Country/Region'] = df['Country/Region'].replace(mapping['replace.country'])\n",
    "    return df"
   ]
  },
  {
   "cell_type": "code",
   "execution_count": 8,
   "id": "affiliated-characterization",
   "metadata": {
    "execution": {
     "iopub.execute_input": "2022-05-30T00:46:40.933894Z",
     "iopub.status.busy": "2022-05-30T00:46:40.933093Z",
     "iopub.status.idle": "2022-05-30T00:46:40.936555Z",
     "shell.execute_reply": "2022-05-30T00:46:40.935841Z"
    },
    "papermill": {
     "duration": 0.045253,
     "end_time": "2022-05-30T00:46:40.936685",
     "exception": false,
     "start_time": "2022-05-30T00:46:40.891432",
     "status": "completed"
    },
    "tags": []
   },
   "outputs": [],
   "source": [
    "#hide\n",
    "def get_dates(df):\n",
    "    dt_cols = df.columns[~df.columns.isin(['Province/State', 'Country/Region', 'Lat', 'Long'])]\n",
    "    LAST_DATE_I = -1\n",
    "    # sometimes last column may be empty, then go backwards\n",
    "    for i in range(-1, -len(dt_cols), -1):\n",
    "        if not df[dt_cols[i]].fillna(0).eq(0).all():\n",
    "            LAST_DATE_I = i\n",
    "            break\n",
    "    return LAST_DATE_I, dt_cols"
   ]
  },
  {
   "cell_type": "code",
   "execution_count": 9,
   "id": "recent-optimization",
   "metadata": {
    "execution": {
     "iopub.execute_input": "2022-05-30T00:46:41.013152Z",
     "iopub.status.busy": "2022-05-30T00:46:41.012386Z",
     "iopub.status.idle": "2022-05-30T00:46:41.615014Z",
     "shell.execute_reply": "2022-05-30T00:46:41.614422Z"
    },
    "papermill": {
     "duration": 0.641896,
     "end_time": "2022-05-30T00:46:41.615150",
     "exception": false,
     "start_time": "2022-05-30T00:46:40.973254",
     "status": "completed"
    },
    "tags": []
   },
   "outputs": [],
   "source": [
    "#hide\n",
    "COL_REGION = 'Country/Region'\n",
    "# Confirmed, Recovered, Deaths\n",
    "df = get_frame('confirmed')\n",
    "# dft_: timeseries, dfc_: today country agg\n",
    "dft_cases = df\n",
    "dft_deaths = get_frame('deaths')\n",
    "dft_recovered = get_frame('recovered')\n",
    "LAST_DATE_I, dt_cols = get_dates(df)"
   ]
  },
  {
   "cell_type": "code",
   "execution_count": 10,
   "id": "absolute-copper",
   "metadata": {
    "execution": {
     "iopub.execute_input": "2022-05-30T00:46:41.694126Z",
     "iopub.status.busy": "2022-05-30T00:46:41.693302Z",
     "iopub.status.idle": "2022-05-30T00:46:41.695768Z",
     "shell.execute_reply": "2022-05-30T00:46:41.696383Z"
    },
    "papermill": {
     "duration": 0.044793,
     "end_time": "2022-05-30T00:46:41.696519",
     "exception": false,
     "start_time": "2022-05-30T00:46:41.651726",
     "status": "completed"
    },
    "tags": []
   },
   "outputs": [],
   "source": [
    "#hide\n",
    "LAST_DATE_I, dt_cols = get_dates(df)\n",
    "dt_today =dt_cols[LAST_DATE_I]\n",
    "# dt_5day = dt_cols[LAST_DATE_I - 5]\n",
    "dt_yday = dt_cols[LAST_DATE_I - 1]"
   ]
  },
  {
   "cell_type": "code",
   "execution_count": 11,
   "id": "restricted-sheriff",
   "metadata": {
    "execution": {
     "iopub.execute_input": "2022-05-30T00:46:41.772030Z",
     "iopub.status.busy": "2022-05-30T00:46:41.771310Z",
     "iopub.status.idle": "2022-05-30T00:46:41.780028Z",
     "shell.execute_reply": "2022-05-30T00:46:41.780856Z"
    },
    "papermill": {
     "duration": 0.04973,
     "end_time": "2022-05-30T00:46:41.780983",
     "exception": false,
     "start_time": "2022-05-30T00:46:41.731253",
     "status": "completed"
    },
    "tags": []
   },
   "outputs": [],
   "source": [
    "#hide\n",
    "dfc_cases = dft_cases.groupby(COL_REGION)[dt_today].sum()\n",
    "dfc_deaths = dft_deaths.groupby(COL_REGION)[dt_today].sum()\n",
    "# dfp_cases = dft_cases.groupby(COL_REGION)[dt_5day].sum()\n",
    "# dfp_deaths = dft_deaths.groupby(COL_REGION)[dt_5day].sum()\n",
    "dfp_cases = dft_cases.groupby(COL_REGION)[dt_yday].sum()\n",
    "dfp_deaths = dft_deaths.groupby(COL_REGION)[dt_yday].sum()"
   ]
  },
  {
   "cell_type": "code",
   "execution_count": 12,
   "id": "deluxe-hepatitis",
   "metadata": {
    "execution": {
     "iopub.execute_input": "2022-05-30T00:46:41.863325Z",
     "iopub.status.busy": "2022-05-30T00:46:41.862463Z",
     "iopub.status.idle": "2022-05-30T00:46:41.870350Z",
     "shell.execute_reply": "2022-05-30T00:46:41.869556Z"
    },
    "papermill": {
     "duration": 0.053042,
     "end_time": "2022-05-30T00:46:41.870483",
     "exception": false,
     "start_time": "2022-05-30T00:46:41.817441",
     "status": "completed"
    },
    "tags": []
   },
   "outputs": [],
   "source": [
    "#hide\n",
    "df_table = (pd.DataFrame(dict(Cases = dfc_cases, Deaths = dfc_deaths, PCases = dfp_cases, PDeaths = dfp_deaths))\n",
    "            .sort_values(by = ['Cases','Deaths'], ascending = [False, False])\n",
    "            .reset_index())"
   ]
  },
  {
   "cell_type": "code",
   "execution_count": 13,
   "id": "educational-chancellor",
   "metadata": {
    "execution": {
     "iopub.execute_input": "2022-05-30T00:46:41.966036Z",
     "iopub.status.busy": "2022-05-30T00:46:41.965383Z",
     "iopub.status.idle": "2022-05-30T00:46:41.975829Z",
     "shell.execute_reply": "2022-05-30T00:46:41.975222Z"
    },
    "papermill": {
     "duration": 0.065368,
     "end_time": "2022-05-30T00:46:41.975966",
     "exception": false,
     "start_time": "2022-05-30T00:46:41.910598",
     "status": "completed"
    },
    "tags": []
   },
   "outputs": [
    {
     "data": {
      "text/html": [
       "<div>\n",
       "<style scoped>\n",
       "    .dataframe tbody tr th:only-of-type {\n",
       "        vertical-align: middle;\n",
       "    }\n",
       "\n",
       "    .dataframe tbody tr th {\n",
       "        vertical-align: top;\n",
       "    }\n",
       "\n",
       "    .dataframe thead th {\n",
       "        text-align: right;\n",
       "    }\n",
       "</style>\n",
       "<table border=\"1\" class=\"dataframe\">\n",
       "  <thead>\n",
       "    <tr style=\"text-align: right;\">\n",
       "      <th></th>\n",
       "      <th>Country/Region</th>\n",
       "      <th>Cases</th>\n",
       "      <th>Deaths</th>\n",
       "      <th>PCases</th>\n",
       "      <th>PDeaths</th>\n",
       "      <th>Cases (+)</th>\n",
       "      <th>Deaths (+)</th>\n",
       "      <th>Fatality Rate</th>\n",
       "      <th>Continent</th>\n",
       "    </tr>\n",
       "  </thead>\n",
       "  <tbody>\n",
       "    <tr>\n",
       "      <th>0</th>\n",
       "      <td>US</td>\n",
       "      <td>83980356</td>\n",
       "      <td>1004726</td>\n",
       "      <td>83969313</td>\n",
       "      <td>1004693</td>\n",
       "      <td>11043</td>\n",
       "      <td>33</td>\n",
       "      <td>1.20</td>\n",
       "      <td>North America</td>\n",
       "    </tr>\n",
       "    <tr>\n",
       "      <th>1</th>\n",
       "      <td>India</td>\n",
       "      <td>43153043</td>\n",
       "      <td>524586</td>\n",
       "      <td>43150215</td>\n",
       "      <td>524572</td>\n",
       "      <td>2828</td>\n",
       "      <td>14</td>\n",
       "      <td>1.22</td>\n",
       "      <td>Asia</td>\n",
       "    </tr>\n",
       "    <tr>\n",
       "      <th>2</th>\n",
       "      <td>Brazil</td>\n",
       "      <td>30945384</td>\n",
       "      <td>666391</td>\n",
       "      <td>30921145</td>\n",
       "      <td>666319</td>\n",
       "      <td>24239</td>\n",
       "      <td>72</td>\n",
       "      <td>2.15</td>\n",
       "      <td>South America</td>\n",
       "    </tr>\n",
       "    <tr>\n",
       "      <th>3</th>\n",
       "      <td>France</td>\n",
       "      <td>29655398</td>\n",
       "      <td>149168</td>\n",
       "      <td>29631816</td>\n",
       "      <td>149168</td>\n",
       "      <td>23582</td>\n",
       "      <td>0</td>\n",
       "      <td>0.50</td>\n",
       "      <td>Europe</td>\n",
       "    </tr>\n",
       "    <tr>\n",
       "      <th>4</th>\n",
       "      <td>Germany</td>\n",
       "      <td>26243352</td>\n",
       "      <td>138862</td>\n",
       "      <td>26240639</td>\n",
       "      <td>138854</td>\n",
       "      <td>2713</td>\n",
       "      <td>8</td>\n",
       "      <td>0.53</td>\n",
       "      <td>Europe</td>\n",
       "    </tr>\n",
       "  </tbody>\n",
       "</table>\n",
       "</div>"
      ],
      "text/plain": [
       "  Country/Region     Cases   Deaths    PCases  PDeaths  Cases (+)  Deaths (+)  \\\n",
       "0             US  83980356  1004726  83969313  1004693      11043          33   \n",
       "1          India  43153043   524586  43150215   524572       2828          14   \n",
       "2         Brazil  30945384   666391  30921145   666319      24239          72   \n",
       "3         France  29655398   149168  29631816   149168      23582           0   \n",
       "4        Germany  26243352   138862  26240639   138854       2713           8   \n",
       "\n",
       "   Fatality Rate      Continent  \n",
       "0           1.20  North America  \n",
       "1           1.22           Asia  \n",
       "2           2.15  South America  \n",
       "3           0.50         Europe  \n",
       "4           0.53         Europe  "
      ]
     },
     "execution_count": 13,
     "metadata": {},
     "output_type": "execute_result"
    }
   ],
   "source": [
    "#hide\n",
    "for c in 'Cases, Deaths'.split(', '):\n",
    "    df_table[f'{c} (+)'] = (df_table[c] - df_table[f'P{c}']).clip(0)\n",
    "    #Clip ça veut dire, les chiffres negatif sont interdit\n",
    "df_table['Fatality Rate'] = (100* df_table['Deaths']/ df_table['Cases']).round(2)\n",
    "df_table['Continent'] = df_table['Country/Region'].map(mapping['map.continent'])\n",
    "df_table.head(5)"
   ]
  },
  {
   "cell_type": "code",
   "execution_count": 14,
   "id": "aboriginal-bulgaria",
   "metadata": {
    "execution": {
     "iopub.execute_input": "2022-05-30T00:46:42.057420Z",
     "iopub.status.busy": "2022-05-30T00:46:42.056146Z",
     "iopub.status.idle": "2022-05-30T00:46:42.058253Z",
     "shell.execute_reply": "2022-05-30T00:46:42.058772Z"
    },
    "papermill": {
     "duration": 0.046193,
     "end_time": "2022-05-30T00:46:42.058907",
     "exception": false,
     "start_time": "2022-05-30T00:46:42.012714",
     "status": "completed"
    },
    "tags": []
   },
   "outputs": [],
   "source": [
    "#hide\n",
    "#delete problematic countries from table\n",
    "df_table = df_table[~df_table['Country/Region'].isin(['Cape Verde', 'Cruise Ship', 'Kosovo'])]"
   ]
  },
  {
   "cell_type": "code",
   "execution_count": 15,
   "id": "fantastic-effect",
   "metadata": {
    "execution": {
     "iopub.execute_input": "2022-05-30T00:46:42.144681Z",
     "iopub.status.busy": "2022-05-30T00:46:42.143870Z",
     "iopub.status.idle": "2022-05-30T00:46:42.165808Z",
     "shell.execute_reply": "2022-05-30T00:46:42.165160Z"
    },
    "papermill": {
     "duration": 0.067974,
     "end_time": "2022-05-30T00:46:42.165925",
     "exception": false,
     "start_time": "2022-05-30T00:46:42.097951",
     "status": "completed"
    },
    "tags": []
   },
   "outputs": [
    {
     "data": {
      "text/html": [
       "<div>\n",
       "<style scoped>\n",
       "    .dataframe tbody tr th:only-of-type {\n",
       "        vertical-align: middle;\n",
       "    }\n",
       "\n",
       "    .dataframe tbody tr th {\n",
       "        vertical-align: top;\n",
       "    }\n",
       "\n",
       "    .dataframe thead th {\n",
       "        text-align: right;\n",
       "    }\n",
       "</style>\n",
       "<table border=\"1\" class=\"dataframe\">\n",
       "  <thead>\n",
       "    <tr style=\"text-align: right;\">\n",
       "      <th></th>\n",
       "      <th>Country/Region</th>\n",
       "      <th>Cases</th>\n",
       "      <th>Deaths</th>\n",
       "      <th>PCases</th>\n",
       "      <th>PDeaths</th>\n",
       "      <th>Cases (+)</th>\n",
       "      <th>Deaths (+)</th>\n",
       "      <th>Fatality Rate</th>\n",
       "      <th>Continent</th>\n",
       "    </tr>\n",
       "  </thead>\n",
       "  <tbody>\n",
       "    <tr>\n",
       "      <th>0</th>\n",
       "      <td>US</td>\n",
       "      <td>83980356</td>\n",
       "      <td>1004726</td>\n",
       "      <td>83969313</td>\n",
       "      <td>1004693</td>\n",
       "      <td>11043</td>\n",
       "      <td>33</td>\n",
       "      <td>1.2</td>\n",
       "      <td>North America</td>\n",
       "    </tr>\n",
       "    <tr>\n",
       "      <th>1</th>\n",
       "      <td>India</td>\n",
       "      <td>43153043</td>\n",
       "      <td>524586</td>\n",
       "      <td>43150215</td>\n",
       "      <td>524572</td>\n",
       "      <td>2828</td>\n",
       "      <td>14</td>\n",
       "      <td>1.2</td>\n",
       "      <td>Asia</td>\n",
       "    </tr>\n",
       "    <tr>\n",
       "      <th>2</th>\n",
       "      <td>Brazil</td>\n",
       "      <td>30945384</td>\n",
       "      <td>666391</td>\n",
       "      <td>30921145</td>\n",
       "      <td>666319</td>\n",
       "      <td>24239</td>\n",
       "      <td>72</td>\n",
       "      <td>2.2</td>\n",
       "      <td>South America</td>\n",
       "    </tr>\n",
       "    <tr>\n",
       "      <th>3</th>\n",
       "      <td>France</td>\n",
       "      <td>29655398</td>\n",
       "      <td>149168</td>\n",
       "      <td>29631816</td>\n",
       "      <td>149168</td>\n",
       "      <td>23582</td>\n",
       "      <td>0</td>\n",
       "      <td>0.5</td>\n",
       "      <td>Europe</td>\n",
       "    </tr>\n",
       "    <tr>\n",
       "      <th>4</th>\n",
       "      <td>Germany</td>\n",
       "      <td>26243352</td>\n",
       "      <td>138862</td>\n",
       "      <td>26240639</td>\n",
       "      <td>138854</td>\n",
       "      <td>2713</td>\n",
       "      <td>8</td>\n",
       "      <td>0.5</td>\n",
       "      <td>Europe</td>\n",
       "    </tr>\n",
       "  </tbody>\n",
       "</table>\n",
       "</div>"
      ],
      "text/plain": [
       "  Country/Region     Cases   Deaths    PCases  PDeaths  Cases (+)  Deaths (+)  \\\n",
       "0             US  83980356  1004726  83969313  1004693      11043          33   \n",
       "1          India  43153043   524586  43150215   524572       2828          14   \n",
       "2         Brazil  30945384   666391  30921145   666319      24239          72   \n",
       "3         France  29655398   149168  29631816   149168      23582           0   \n",
       "4        Germany  26243352   138862  26240639   138854       2713           8   \n",
       "\n",
       "   Fatality Rate      Continent  \n",
       "0            1.2  North America  \n",
       "1            1.2           Asia  \n",
       "2            2.2  South America  \n",
       "3            0.5         Europe  \n",
       "4            0.5         Europe  "
      ]
     },
     "execution_count": 15,
     "metadata": {},
     "output_type": "execute_result"
    }
   ],
   "source": [
    "#hide\n",
    "df_table = (pd.DataFrame(dict(Cases=dfc_cases, Deaths=dfc_deaths, PCases=dfp_cases, PDeaths=dfp_deaths))\n",
    "             .sort_values(by=['Cases', 'Deaths'], ascending=[False, False])\n",
    "             .reset_index())\n",
    "df_table.rename(columns={'index': 'Country/Region'}, inplace=True)\n",
    "for c in 'Cases, Deaths'.split(', '):\n",
    "    df_table[f'{c} (+)'] = (df_table[c] - df_table[f'P{c}']).clip(0)  # DATA BUG\n",
    "df_table['Fatality Rate'] = (100 * df_table['Deaths'] / df_table['Cases']).round(1)\n",
    "df_table['Continent'] = df_table['Country/Region'].map(mapping['map.continent'])\n",
    "df_table.head(5)"
   ]
  },
  {
   "cell_type": "code",
   "execution_count": 16,
   "id": "fewer-occasion",
   "metadata": {
    "execution": {
     "iopub.execute_input": "2022-05-30T00:46:42.246733Z",
     "iopub.status.busy": "2022-05-30T00:46:42.245923Z",
     "iopub.status.idle": "2022-05-30T00:46:42.249548Z",
     "shell.execute_reply": "2022-05-30T00:46:42.248937Z"
    },
    "papermill": {
     "duration": 0.046032,
     "end_time": "2022-05-30T00:46:42.249718",
     "exception": false,
     "start_time": "2022-05-30T00:46:42.203686",
     "status": "completed"
    },
    "tags": []
   },
   "outputs": [],
   "source": [
    "#hide\n",
    "#delete problematic countries from table\n",
    "df_table = df_table[~df_table['Country/Region'].isin(['Cape Verde', 'Cruise Ship', 'Kosovo'])]"
   ]
  },
  {
   "cell_type": "code",
   "execution_count": 17,
   "id": "related-center",
   "metadata": {
    "execution": {
     "iopub.execute_input": "2022-05-30T00:46:42.345270Z",
     "iopub.status.busy": "2022-05-30T00:46:42.344588Z",
     "iopub.status.idle": "2022-05-30T00:46:42.347529Z",
     "shell.execute_reply": "2022-05-30T00:46:42.346802Z"
    },
    "papermill": {
     "duration": 0.060994,
     "end_time": "2022-05-30T00:46:42.347682",
     "exception": false,
     "start_time": "2022-05-30T00:46:42.286688",
     "status": "completed"
    },
    "tags": []
   },
   "outputs": [],
   "source": [
    "#hide\n",
    "metrics = [df_table.columns[index] for index in [1,2,5,6]]\n",
    "# s_china = df_table[df_table['Country/Region'].eq('China')][metrics].sum().add_prefix('China ')\n",
    "s_us = df_table[df_table['Country/Region'].eq('US')][metrics].sum().add_prefix('US ')\n",
    "s_eu = df_table[df_table['Continent'].eq('Europe')][metrics].sum().add_prefix('EU ')\n",
    "s_ind = df_table[df_table['Country/Region'].eq('India')][metrics].sum().add_prefix('India ')\n",
    "summary = {'updated': pd.to_datetime(dt_today), 'since': pd.to_datetime(dt_yday)}\n",
    "summary = {'updated': pd.to_datetime(dt_today), 'since': pd.to_datetime(dt_yday)}\n",
    "summary = {**summary, **df_table[metrics].sum(), **s_ind, **s_us, **s_eu}"
   ]
  },
  {
   "cell_type": "code",
   "execution_count": 18,
   "id": "engaging-syndrome",
   "metadata": {
    "execution": {
     "iopub.execute_input": "2022-05-30T00:46:42.424553Z",
     "iopub.status.busy": "2022-05-30T00:46:42.423802Z",
     "iopub.status.idle": "2022-05-30T00:46:42.443550Z",
     "shell.execute_reply": "2022-05-30T00:46:42.442757Z"
    },
    "papermill": {
     "duration": 0.060548,
     "end_time": "2022-05-30T00:46:42.443695",
     "exception": false,
     "start_time": "2022-05-30T00:46:42.383147",
     "status": "completed"
    },
    "tags": []
   },
   "outputs": [],
   "source": [
    "#hide\n",
    "dft_ct_new_cases = dft_cases.groupby(COL_REGION)[dt_cols].sum().diff(axis=1).fillna(0).astype(int)"
   ]
  },
  {
   "cell_type": "code",
   "execution_count": 19,
   "id": "neutral-assignment",
   "metadata": {
    "execution": {
     "iopub.execute_input": "2022-05-30T00:46:42.531061Z",
     "iopub.status.busy": "2022-05-30T00:46:42.530297Z",
     "iopub.status.idle": "2022-05-30T00:46:42.533617Z",
     "shell.execute_reply": "2022-05-30T00:46:42.532973Z"
    },
    "papermill": {
     "duration": 0.049035,
     "end_time": "2022-05-30T00:46:42.533775",
     "exception": false,
     "start_time": "2022-05-30T00:46:42.484740",
     "status": "completed"
    },
    "tags": []
   },
   "outputs": [],
   "source": [
    "#hide\n",
    "everydaycases = dft_ct_new_cases.cumsum(axis=1)"
   ]
  },
  {
   "cell_type": "code",
   "execution_count": 20,
   "id": "parliamentary-calgary",
   "metadata": {
    "execution": {
     "iopub.execute_input": "2022-05-30T00:46:42.612198Z",
     "iopub.status.busy": "2022-05-30T00:46:42.611445Z",
     "iopub.status.idle": "2022-05-30T00:46:43.283785Z",
     "shell.execute_reply": "2022-05-30T00:46:43.283145Z"
    },
    "papermill": {
     "duration": 0.712137,
     "end_time": "2022-05-30T00:46:43.283995",
     "exception": false,
     "start_time": "2022-05-30T00:46:42.571858",
     "status": "completed"
    },
    "tags": []
   },
   "outputs": [],
   "source": [
    "#hide\n",
    "import pandas as pd\n",
    "import matplotlib.pyplot as plt\n",
    "import matplotlib.ticker as ticker\n",
    "import matplotlib.animation as animation\n",
    "from IPython.display import HTML"
   ]
  },
  {
   "cell_type": "code",
   "execution_count": 21,
   "id": "lasting-extraction",
   "metadata": {
    "execution": {
     "iopub.execute_input": "2022-05-30T00:46:43.365094Z",
     "iopub.status.busy": "2022-05-30T00:46:43.364280Z",
     "iopub.status.idle": "2022-05-30T00:46:43.372658Z",
     "shell.execute_reply": "2022-05-30T00:46:43.371833Z"
    },
    "papermill": {
     "duration": 0.05218,
     "end_time": "2022-05-30T00:46:43.372809",
     "exception": false,
     "start_time": "2022-05-30T00:46:43.320629",
     "status": "completed"
    },
    "tags": []
   },
   "outputs": [],
   "source": [
    "#hide\n",
    "t = everydaycases.stack()"
   ]
  },
  {
   "cell_type": "code",
   "execution_count": 22,
   "id": "premier-sleeve",
   "metadata": {
    "execution": {
     "iopub.execute_input": "2022-05-30T00:46:43.453603Z",
     "iopub.status.busy": "2022-05-30T00:46:43.452863Z",
     "iopub.status.idle": "2022-05-30T00:46:43.468170Z",
     "shell.execute_reply": "2022-05-30T00:46:43.467544Z"
    },
    "papermill": {
     "duration": 0.057051,
     "end_time": "2022-05-30T00:46:43.468359",
     "exception": false,
     "start_time": "2022-05-30T00:46:43.411308",
     "status": "completed"
    },
    "tags": []
   },
   "outputs": [],
   "source": [
    "#hide\n",
    "g = t.reset_index(['Country/Region'])"
   ]
  },
  {
   "cell_type": "code",
   "execution_count": 23,
   "id": "distributed-pittsburgh",
   "metadata": {
    "execution": {
     "iopub.execute_input": "2022-05-30T00:46:43.552618Z",
     "iopub.status.busy": "2022-05-30T00:46:43.551789Z",
     "iopub.status.idle": "2022-05-30T00:46:43.555036Z",
     "shell.execute_reply": "2022-05-30T00:46:43.554370Z"
    },
    "papermill": {
     "duration": 0.048836,
     "end_time": "2022-05-30T00:46:43.555197",
     "exception": false,
     "start_time": "2022-05-30T00:46:43.506361",
     "status": "completed"
    },
    "tags": []
   },
   "outputs": [],
   "source": [
    "#hide\n",
    "g.index.name = 'date'"
   ]
  },
  {
   "cell_type": "code",
   "execution_count": 24,
   "id": "naked-donor",
   "metadata": {
    "execution": {
     "iopub.execute_input": "2022-05-30T00:46:43.637928Z",
     "iopub.status.busy": "2022-05-30T00:46:43.637185Z",
     "iopub.status.idle": "2022-05-30T00:46:43.639876Z",
     "shell.execute_reply": "2022-05-30T00:46:43.640654Z"
    },
    "papermill": {
     "duration": 0.045685,
     "end_time": "2022-05-30T00:46:43.640802",
     "exception": false,
     "start_time": "2022-05-30T00:46:43.595117",
     "status": "completed"
    },
    "tags": []
   },
   "outputs": [],
   "source": [
    "# #hide\n",
    "# g = g.reset_index(['date'])"
   ]
  },
  {
   "cell_type": "code",
   "execution_count": 25,
   "id": "incomplete-mustang",
   "metadata": {
    "execution": {
     "iopub.execute_input": "2022-05-30T00:46:43.722684Z",
     "iopub.status.busy": "2022-05-30T00:46:43.721957Z",
     "iopub.status.idle": "2022-05-30T00:46:43.726603Z",
     "shell.execute_reply": "2022-05-30T00:46:43.726059Z"
    },
    "papermill": {
     "duration": 0.04488,
     "end_time": "2022-05-30T00:46:43.726720",
     "exception": false,
     "start_time": "2022-05-30T00:46:43.681840",
     "status": "completed"
    },
    "tags": []
   },
   "outputs": [],
   "source": [
    "#hide\n",
    "# g.head()"
   ]
  },
  {
   "cell_type": "code",
   "execution_count": 26,
   "id": "specific-kruger",
   "metadata": {
    "execution": {
     "iopub.execute_input": "2022-05-30T00:46:43.801963Z",
     "iopub.status.busy": "2022-05-30T00:46:43.801230Z",
     "iopub.status.idle": "2022-05-30T00:46:43.804471Z",
     "shell.execute_reply": "2022-05-30T00:46:43.803794Z"
    },
    "papermill": {
     "duration": 0.041848,
     "end_time": "2022-05-30T00:46:43.804641",
     "exception": false,
     "start_time": "2022-05-30T00:46:43.762793",
     "status": "completed"
    },
    "tags": []
   },
   "outputs": [],
   "source": [
    "#hide\n",
    "# g.columns = ['date','country','cases']"
   ]
  },
  {
   "cell_type": "code",
   "execution_count": 27,
   "id": "tender-conversion",
   "metadata": {
    "execution": {
     "iopub.execute_input": "2022-05-30T00:46:43.883793Z",
     "iopub.status.busy": "2022-05-30T00:46:43.883053Z",
     "iopub.status.idle": "2022-05-30T00:46:43.887935Z",
     "shell.execute_reply": "2022-05-30T00:46:43.887212Z"
    },
    "papermill": {
     "duration": 0.045674,
     "end_time": "2022-05-30T00:46:43.888063",
     "exception": false,
     "start_time": "2022-05-30T00:46:43.842389",
     "status": "completed"
    },
    "tags": []
   },
   "outputs": [],
   "source": [
    "#hide\n",
    "# g['continent'] = g.country"
   ]
  },
  {
   "cell_type": "code",
   "execution_count": 28,
   "id": "substantial-wilderness",
   "metadata": {
    "execution": {
     "iopub.execute_input": "2022-05-30T00:46:43.967459Z",
     "iopub.status.busy": "2022-05-30T00:46:43.966754Z",
     "iopub.status.idle": "2022-05-30T00:46:43.969244Z",
     "shell.execute_reply": "2022-05-30T00:46:43.969773Z"
    },
    "papermill": {
     "duration": 0.04391,
     "end_time": "2022-05-30T00:46:43.969907",
     "exception": false,
     "start_time": "2022-05-30T00:46:43.925997",
     "status": "completed"
    },
    "tags": []
   },
   "outputs": [],
   "source": [
    "#hide\n",
    "# cols = list(g.columns.values)"
   ]
  },
  {
   "cell_type": "code",
   "execution_count": 29,
   "id": "solved-farming",
   "metadata": {
    "execution": {
     "iopub.execute_input": "2022-05-30T00:46:44.048880Z",
     "iopub.status.busy": "2022-05-30T00:46:44.048130Z",
     "iopub.status.idle": "2022-05-30T00:46:44.050988Z",
     "shell.execute_reply": "2022-05-30T00:46:44.051481Z"
    },
    "papermill": {
     "duration": 0.044403,
     "end_time": "2022-05-30T00:46:44.051618",
     "exception": false,
     "start_time": "2022-05-30T00:46:44.007215",
     "status": "completed"
    },
    "tags": []
   },
   "outputs": [],
   "source": [
    "#hide\n",
    "# cols.insert(0, cols.pop())"
   ]
  },
  {
   "cell_type": "code",
   "execution_count": 30,
   "id": "executed-adoption",
   "metadata": {
    "execution": {
     "iopub.execute_input": "2022-05-30T00:46:44.131292Z",
     "iopub.status.busy": "2022-05-30T00:46:44.130581Z",
     "iopub.status.idle": "2022-05-30T00:46:44.132854Z",
     "shell.execute_reply": "2022-05-30T00:46:44.132088Z"
    },
    "papermill": {
     "duration": 0.043709,
     "end_time": "2022-05-30T00:46:44.132981",
     "exception": false,
     "start_time": "2022-05-30T00:46:44.089272",
     "status": "completed"
    },
    "tags": []
   },
   "outputs": [],
   "source": [
    "#hide\n",
    "# g = g[cols]"
   ]
  },
  {
   "cell_type": "code",
   "execution_count": 31,
   "id": "subject-dublin",
   "metadata": {
    "execution": {
     "iopub.execute_input": "2022-05-30T00:46:44.212547Z",
     "iopub.status.busy": "2022-05-30T00:46:44.211766Z",
     "iopub.status.idle": "2022-05-30T00:46:44.215560Z",
     "shell.execute_reply": "2022-05-30T00:46:44.216101Z"
    },
    "papermill": {
     "duration": 0.045262,
     "end_time": "2022-05-30T00:46:44.216309",
     "exception": false,
     "start_time": "2022-05-30T00:46:44.171047",
     "status": "completed"
    },
    "tags": []
   },
   "outputs": [],
   "source": [
    "#hide\n",
    "# g['continent'] = g['continent'].map(mapping['map.continent'])"
   ]
  },
  {
   "cell_type": "code",
   "execution_count": 32,
   "id": "freelance-scout",
   "metadata": {
    "execution": {
     "iopub.execute_input": "2022-05-30T00:46:44.294247Z",
     "iopub.status.busy": "2022-05-30T00:46:44.293547Z",
     "iopub.status.idle": "2022-05-30T00:46:44.296095Z",
     "shell.execute_reply": "2022-05-30T00:46:44.296646Z"
    },
    "papermill": {
     "duration": 0.042658,
     "end_time": "2022-05-30T00:46:44.296773",
     "exception": false,
     "start_time": "2022-05-30T00:46:44.254115",
     "status": "completed"
    },
    "tags": []
   },
   "outputs": [],
   "source": [
    "#hide\n",
    "# g.head()"
   ]
  },
  {
   "cell_type": "code",
   "execution_count": 33,
   "id": "limited-engine",
   "metadata": {
    "execution": {
     "iopub.execute_input": "2022-05-30T00:46:44.370935Z",
     "iopub.status.busy": "2022-05-30T00:46:44.370192Z",
     "iopub.status.idle": "2022-05-30T00:46:44.373428Z",
     "shell.execute_reply": "2022-05-30T00:46:44.372819Z"
    },
    "papermill": {
     "duration": 0.041483,
     "end_time": "2022-05-30T00:46:44.373583",
     "exception": false,
     "start_time": "2022-05-30T00:46:44.332100",
     "status": "completed"
    },
    "tags": []
   },
   "outputs": [],
   "source": [
    "# hide\n",
    "# g['date'] = g['date'].astype('datetime64[ns]')"
   ]
  },
  {
   "cell_type": "code",
   "execution_count": 34,
   "id": "sophisticated-supervisor",
   "metadata": {
    "execution": {
     "iopub.execute_input": "2022-05-30T00:46:44.452164Z",
     "iopub.status.busy": "2022-05-30T00:46:44.451396Z",
     "iopub.status.idle": "2022-05-30T00:46:44.454120Z",
     "shell.execute_reply": "2022-05-30T00:46:44.454702Z"
    },
    "papermill": {
     "duration": 0.044976,
     "end_time": "2022-05-30T00:46:44.454866",
     "exception": false,
     "start_time": "2022-05-30T00:46:44.409890",
     "status": "completed"
    },
    "tags": []
   },
   "outputs": [],
   "source": [
    "#hide\n",
    "# g['date'] = g.date.dt.dayofyear"
   ]
  },
  {
   "cell_type": "code",
   "execution_count": 35,
   "id": "inside-dubai",
   "metadata": {
    "execution": {
     "iopub.execute_input": "2022-05-30T00:46:44.534708Z",
     "iopub.status.busy": "2022-05-30T00:46:44.533989Z",
     "iopub.status.idle": "2022-05-30T00:46:44.537509Z",
     "shell.execute_reply": "2022-05-30T00:46:44.536963Z"
    },
    "papermill": {
     "duration": 0.043805,
     "end_time": "2022-05-30T00:46:44.537626",
     "exception": false,
     "start_time": "2022-05-30T00:46:44.493821",
     "status": "completed"
    },
    "tags": []
   },
   "outputs": [],
   "source": [
    "#hide\n",
    "# g = g.rename(columns= {'continent':'group','country':'name','cases':'value'})"
   ]
  },
  {
   "cell_type": "code",
   "execution_count": 36,
   "id": "fleet-motorcycle",
   "metadata": {
    "execution": {
     "iopub.execute_input": "2022-05-30T00:46:44.613801Z",
     "iopub.status.busy": "2022-05-30T00:46:44.613046Z",
     "iopub.status.idle": "2022-05-30T00:46:44.616546Z",
     "shell.execute_reply": "2022-05-30T00:46:44.615942Z"
    },
    "papermill": {
     "duration": 0.04341,
     "end_time": "2022-05-30T00:46:44.616682",
     "exception": false,
     "start_time": "2022-05-30T00:46:44.573272",
     "status": "completed"
    },
    "tags": []
   },
   "outputs": [],
   "source": [
    "#hide\n",
    "# cols = ['name','group','day','value']"
   ]
  },
  {
   "cell_type": "code",
   "execution_count": 37,
   "id": "continued-sleeping",
   "metadata": {
    "execution": {
     "iopub.execute_input": "2022-05-30T00:46:44.694467Z",
     "iopub.status.busy": "2022-05-30T00:46:44.693583Z",
     "iopub.status.idle": "2022-05-30T00:46:44.696802Z",
     "shell.execute_reply": "2022-05-30T00:46:44.697664Z"
    },
    "papermill": {
     "duration": 0.043587,
     "end_time": "2022-05-30T00:46:44.697828",
     "exception": false,
     "start_time": "2022-05-30T00:46:44.654241",
     "status": "completed"
    },
    "tags": []
   },
   "outputs": [],
   "source": [
    "#hide\n",
    "# g.rename(columns= {'date':'day'},inplace = True)"
   ]
  },
  {
   "cell_type": "code",
   "execution_count": 38,
   "id": "major-fight",
   "metadata": {
    "execution": {
     "iopub.execute_input": "2022-05-30T00:46:44.785638Z",
     "iopub.status.busy": "2022-05-30T00:46:44.784922Z",
     "iopub.status.idle": "2022-05-30T00:46:44.788474Z",
     "shell.execute_reply": "2022-05-30T00:46:44.787875Z"
    },
    "papermill": {
     "duration": 0.044708,
     "end_time": "2022-05-30T00:46:44.788622",
     "exception": false,
     "start_time": "2022-05-30T00:46:44.743914",
     "status": "completed"
    },
    "tags": []
   },
   "outputs": [],
   "source": [
    "#hide\n",
    "# g = g[cols]"
   ]
  },
  {
   "cell_type": "code",
   "execution_count": 39,
   "id": "structured-mobile",
   "metadata": {
    "execution": {
     "iopub.execute_input": "2022-05-30T00:46:44.869162Z",
     "iopub.status.busy": "2022-05-30T00:46:44.868396Z",
     "iopub.status.idle": "2022-05-30T00:46:44.871388Z",
     "shell.execute_reply": "2022-05-30T00:46:44.871938Z"
    },
    "papermill": {
     "duration": 0.045075,
     "end_time": "2022-05-30T00:46:44.872092",
     "exception": false,
     "start_time": "2022-05-30T00:46:44.827017",
     "status": "completed"
    },
    "tags": []
   },
   "outputs": [],
   "source": [
    "# #hide\n",
    "# g = g[g.group.notna()]"
   ]
  },
  {
   "cell_type": "code",
   "execution_count": 40,
   "id": "determined-closing",
   "metadata": {
    "execution": {
     "iopub.execute_input": "2022-05-30T00:46:44.951174Z",
     "iopub.status.busy": "2022-05-30T00:46:44.950419Z",
     "iopub.status.idle": "2022-05-30T00:46:44.953654Z",
     "shell.execute_reply": "2022-05-30T00:46:44.953027Z"
    },
    "papermill": {
     "duration": 0.044151,
     "end_time": "2022-05-30T00:46:44.953783",
     "exception": false,
     "start_time": "2022-05-30T00:46:44.909632",
     "status": "completed"
    },
    "tags": []
   },
   "outputs": [],
   "source": [
    "# #hide\n",
    "# colors = dict(zip(\n",
    "#     [\"Oceania\", \"Europe\", \"Asia\", \"South America\", \"Middle East\", \"North America\", \"Africa\"],\n",
    "#     [\"#adb0ff\", \"#ffb3ff\", \"#90d595\", \"#e48381\", \"#aafbff\", \"#f7bb5f\", \"#eafb50\"]\n",
    "# ))\n",
    "# group_lk = g.set_index('name')['group'].to_dict()"
   ]
  },
  {
   "cell_type": "code",
   "execution_count": null,
   "id": "gross-drinking",
   "metadata": {
    "papermill": {
     "duration": 0.036492,
     "end_time": "2022-05-30T00:46:45.027322",
     "exception": false,
     "start_time": "2022-05-30T00:46:44.990830",
     "status": "completed"
    },
    "tags": []
   },
   "outputs": [],
   "source": []
  },
  {
   "cell_type": "code",
   "execution_count": 41,
   "id": "subject-macintosh",
   "metadata": {
    "execution": {
     "iopub.execute_input": "2022-05-30T00:46:45.107669Z",
     "iopub.status.busy": "2022-05-30T00:46:45.106814Z",
     "iopub.status.idle": "2022-05-30T00:46:45.109908Z",
     "shell.execute_reply": "2022-05-30T00:46:45.109328Z"
    },
    "papermill": {
     "duration": 0.044987,
     "end_time": "2022-05-30T00:46:45.110035",
     "exception": false,
     "start_time": "2022-05-30T00:46:45.065048",
     "status": "completed"
    },
    "tags": []
   },
   "outputs": [],
   "source": [
    "# #hide\n",
    "# fig, ax = plt.subplots(figsize=(15, 8))\n",
    "\n",
    "# def draw_barchart(current_day):\n",
    "#     dff = g[g['day'].eq(current_day)].sort_values(by='value', ascending=True).tail(10)\n",
    "#     ax.clear()\n",
    "#     ax.barh(dff['name'], dff['value'], color=[colors[group_lk[x]] for x in dff['name']])\n",
    "#     dx = dff['value'].max() / 200\n",
    "    \n",
    "#     for i, (value, name) in enumerate(zip(dff['value'], dff['name'])):\n",
    "#         ax.text(value-dx, i,     name,           size=14, weight=600, ha='right', va='bottom')\n",
    "#         ax.text(value-dx, i-.25, group_lk[name], size=10, color='#444444', ha='right', va='baseline')\n",
    "#         ax.text(value+dx, i,     f'{value:,.0f}',  size=14, ha='left',  va='center')\n",
    "#     ax.text(1, 0.4, current_day, transform=ax.transAxes, color='#777777', size=46, ha='right', weight=800)\n",
    "#     ax.text(0, 1.06, 'Population (thousands)', transform=ax.transAxes, size=12, color='#777777')\n",
    "#     ax.xaxis.set_major_formatter(ticker.StrMethodFormatter('{x:,.0f}'))\n",
    "#     ax.xaxis.set_ticks_position('top')\n",
    "#     ax.tick_params(axis='x', colors='#777777', labelsize=12)\n",
    "#     ax.set_yticks([])\n",
    "#     ax.margins(0, 0.01)\n",
    "#     ax.grid(which='major', axis='x', linestyle='-')\n",
    "#     ax.set_axisbelow(True)\n",
    "    \n",
    "#     ax.text(0, 1.15, 'Coronavirus',\n",
    "#             transform=ax.transAxes, size=24, weight=600, ha='left', va='top')\n",
    "# #     ax.text(1, 0, 'by @pratapvardhan; credit @jburnmurdoch', transform=ax.transAxes, color='#777777', ha='right',\n",
    "# #             bbox=dict(facecolor='white', alpha=0.8, edgecolor='white'))\n",
    "#     plt.box(False)"
   ]
  },
  {
   "cell_type": "code",
   "execution_count": 42,
   "id": "sexual-wages",
   "metadata": {
    "execution": {
     "iopub.execute_input": "2022-05-30T00:46:45.192439Z",
     "iopub.status.busy": "2022-05-30T00:46:45.191598Z",
     "iopub.status.idle": "2022-05-30T00:46:45.194829Z",
     "shell.execute_reply": "2022-05-30T00:46:45.194212Z"
    },
    "papermill": {
     "duration": 0.045436,
     "end_time": "2022-05-30T00:46:45.194955",
     "exception": false,
     "start_time": "2022-05-30T00:46:45.149519",
     "status": "completed"
    },
    "tags": []
   },
   "outputs": [],
   "source": [
    "# #hide_input\n",
    "# fig, ax = plt.subplots(figsize=(15, 8))\n",
    "# animator = animation.FuncAnimation(fig, draw_barchart, frames=range(g.day.values.min(), g.day.values.max()))\n",
    "# HTML(animator.to_jshtml())\n",
    "# # or use animator.to_html5_video() or animator.save() "
   ]
  },
  {
   "cell_type": "code",
   "execution_count": null,
   "id": "australian-container",
   "metadata": {
    "papermill": {
     "duration": 0.035904,
     "end_time": "2022-05-30T00:46:45.268418",
     "exception": false,
     "start_time": "2022-05-30T00:46:45.232514",
     "status": "completed"
    },
    "tags": []
   },
   "outputs": [],
   "source": []
  },
  {
   "cell_type": "code",
   "execution_count": null,
   "id": "mediterranean-pontiac",
   "metadata": {
    "papermill": {
     "duration": 0.039193,
     "end_time": "2022-05-30T00:46:45.343202",
     "exception": false,
     "start_time": "2022-05-30T00:46:45.304009",
     "status": "completed"
    },
    "tags": []
   },
   "outputs": [],
   "source": []
  },
  {
   "cell_type": "code",
   "execution_count": null,
   "id": "aging-legislature",
   "metadata": {
    "papermill": {
     "duration": 0.035774,
     "end_time": "2022-05-30T00:46:45.415320",
     "exception": false,
     "start_time": "2022-05-30T00:46:45.379546",
     "status": "completed"
    },
    "tags": []
   },
   "outputs": [],
   "source": []
  }
 ],
 "metadata": {
  "kernelspec": {
   "display_name": "Python 3",
   "language": "python",
   "name": "python3"
  },
  "language_info": {
   "codemirror_mode": {
    "name": "ipython",
    "version": 3
   },
   "file_extension": ".py",
   "mimetype": "text/x-python",
   "name": "python",
   "nbconvert_exporter": "python",
   "pygments_lexer": "ipython3",
   "version": "3.6.15"
  },
  "papermill": {
   "duration": 7.362285,
   "end_time": "2022-05-30T00:46:45.872281",
   "environment_variables": {},
   "exception": null,
   "input_path": "2020-03-21-covid19exp.ipynb",
   "output_path": "2020-03-21-covid19exp.ipynb",
   "parameters": {},
   "start_time": "2022-05-30T00:46:38.509996",
   "version": "2.0.0"
  }
 },
 "nbformat": 4,
 "nbformat_minor": 5
}