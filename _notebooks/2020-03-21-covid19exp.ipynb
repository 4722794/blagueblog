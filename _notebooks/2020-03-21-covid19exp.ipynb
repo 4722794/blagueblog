{
 "cells": [
  {
   "cell_type": "markdown",
   "id": "muslim-click",
   "metadata": {
    "papermill": {
     "duration": 0.038969,
     "end_time": "2021-02-28T12:06:43.015349",
     "exception": false,
     "start_time": "2021-02-28T12:06:42.976380",
     "status": "completed"
    },
    "tags": []
   },
   "source": [
    "# COVID-19 Case Race\n",
    "> A race chart to see rising cases around the world\n",
    "\n",
    "- author: Hargun Oberoi\n",
    "- image: images/covid-overview.png\n",
    "- hide: false\n",
    "- badges: false"
   ]
  },
  {
   "cell_type": "code",
   "execution_count": 1,
   "id": "proof-material",
   "metadata": {
    "execution": {
     "iopub.execute_input": "2021-02-28T12:06:43.086014Z",
     "iopub.status.busy": "2021-02-28T12:06:43.085474Z",
     "iopub.status.idle": "2021-02-28T12:06:43.387197Z",
     "shell.execute_reply": "2021-02-28T12:06:43.386650Z"
    },
    "papermill": {
     "duration": 0.340595,
     "end_time": "2021-02-28T12:06:43.387343",
     "exception": false,
     "start_time": "2021-02-28T12:06:43.046748",
     "status": "completed"
    },
    "tags": []
   },
   "outputs": [],
   "source": [
    "#hide\n",
    "import numpy as np\n",
    "import pandas as pd\n",
    "from jinja2 import Template\n",
    "from IPython.display import HTML"
   ]
  },
  {
   "cell_type": "code",
   "execution_count": 2,
   "id": "developed-terminology",
   "metadata": {
    "execution": {
     "iopub.execute_input": "2021-02-28T12:06:43.450695Z",
     "iopub.status.busy": "2021-02-28T12:06:43.450126Z",
     "iopub.status.idle": "2021-02-28T12:06:43.452131Z",
     "shell.execute_reply": "2021-02-28T12:06:43.451719Z"
    },
    "papermill": {
     "duration": 0.035857,
     "end_time": "2021-02-28T12:06:43.452243",
     "exception": false,
     "start_time": "2021-02-28T12:06:43.416386",
     "status": "completed"
    },
    "tags": []
   },
   "outputs": [],
   "source": [
    "#hide\n",
    "\n",
    "# FETCH\n",
    "base_url = 'https://raw.githubusercontent.com/pratapvardhan/notebooks/master/covid19/'\n",
    "paths = {\n",
    "    'mapping': base_url + 'mapping_countries.csv',\n",
    "    'overview': base_url + 'overview.tpl'\n",
    "}"
   ]
  },
  {
   "cell_type": "code",
   "execution_count": 3,
   "id": "dynamic-saver",
   "metadata": {
    "execution": {
     "iopub.execute_input": "2021-02-28T12:06:43.519908Z",
     "iopub.status.busy": "2021-02-28T12:06:43.519378Z",
     "iopub.status.idle": "2021-02-28T12:06:43.521893Z",
     "shell.execute_reply": "2021-02-28T12:06:43.522359Z"
    },
    "papermill": {
     "duration": 0.040598,
     "end_time": "2021-02-28T12:06:43.522511",
     "exception": false,
     "start_time": "2021-02-28T12:06:43.481913",
     "status": "completed"
    },
    "tags": []
   },
   "outputs": [
    {
     "data": {
      "text/plain": [
       "'https://raw.githubusercontent.com/pratapvardhan/notebooks/master/covid19/mapping_countries.csv'"
      ]
     },
     "execution_count": 3,
     "metadata": {},
     "output_type": "execute_result"
    }
   ],
   "source": [
    "#hide\n",
    "paths['mapping']"
   ]
  },
  {
   "cell_type": "code",
   "execution_count": 4,
   "id": "urban-software",
   "metadata": {
    "execution": {
     "iopub.execute_input": "2021-02-28T12:06:43.587599Z",
     "iopub.status.busy": "2021-02-28T12:06:43.587031Z",
     "iopub.status.idle": "2021-02-28T12:06:43.588255Z",
     "shell.execute_reply": "2021-02-28T12:06:43.588726Z"
    },
    "papermill": {
     "duration": 0.036594,
     "end_time": "2021-02-28T12:06:43.588856",
     "exception": false,
     "start_time": "2021-02-28T12:06:43.552262",
     "status": "completed"
    },
    "tags": []
   },
   "outputs": [],
   "source": [
    "#hide\n",
    "def get_mappings(url):\n",
    "    df = pd.read_csv(url)\n",
    "    return {\n",
    "        'df': df,\n",
    "        'replace.country': dict(df.dropna(subset=['Name']).set_index('Country')['Name']),\n",
    "        'map.continent': dict(df.set_index('Name')['Continent'])\n",
    "    }"
   ]
  },
  {
   "cell_type": "code",
   "execution_count": 5,
   "id": "intimate-machinery",
   "metadata": {
    "execution": {
     "iopub.execute_input": "2021-02-28T12:06:43.658095Z",
     "iopub.status.busy": "2021-02-28T12:06:43.657446Z",
     "iopub.status.idle": "2021-02-28T12:06:43.687280Z",
     "shell.execute_reply": "2021-02-28T12:06:43.686773Z"
    },
    "papermill": {
     "duration": 0.066693,
     "end_time": "2021-02-28T12:06:43.687399",
     "exception": false,
     "start_time": "2021-02-28T12:06:43.620706",
     "status": "completed"
    },
    "tags": []
   },
   "outputs": [],
   "source": [
    "#hide\n",
    "mapping = get_mappings(paths['mapping'])"
   ]
  },
  {
   "cell_type": "code",
   "execution_count": 6,
   "id": "certified-tactics",
   "metadata": {
    "execution": {
     "iopub.execute_input": "2021-02-28T12:06:43.752363Z",
     "iopub.status.busy": "2021-02-28T12:06:43.751834Z",
     "iopub.status.idle": "2021-02-28T12:06:43.754001Z",
     "shell.execute_reply": "2021-02-28T12:06:43.753589Z"
    },
    "papermill": {
     "duration": 0.036958,
     "end_time": "2021-02-28T12:06:43.754112",
     "exception": false,
     "start_time": "2021-02-28T12:06:43.717154",
     "status": "completed"
    },
    "tags": []
   },
   "outputs": [],
   "source": [
    "#hide\n",
    "def get_template(path):\n",
    "    from urllib.parse import urlparse\n",
    "    if bool(urlparse(path).netloc):\n",
    "        from urllib.request import urlopen\n",
    "        return urlopen(path).read().decode('utf8')\n",
    "    return open(path).read()"
   ]
  },
  {
   "cell_type": "code",
   "execution_count": 7,
   "id": "realistic-blast",
   "metadata": {
    "execution": {
     "iopub.execute_input": "2021-02-28T12:06:43.818242Z",
     "iopub.status.busy": "2021-02-28T12:06:43.817728Z",
     "iopub.status.idle": "2021-02-28T12:06:43.819903Z",
     "shell.execute_reply": "2021-02-28T12:06:43.819494Z"
    },
    "papermill": {
     "duration": 0.03613,
     "end_time": "2021-02-28T12:06:43.820012",
     "exception": false,
     "start_time": "2021-02-28T12:06:43.783882",
     "status": "completed"
    },
    "tags": []
   },
   "outputs": [],
   "source": [
    "#hide\n",
    "def get_frame(name):\n",
    "    url = (\n",
    "        'https://raw.githubusercontent.com/CSSEGISandData/COVID-19/master/csse_covid_19_data/'\n",
    "        f'csse_covid_19_time_series/time_series_covid19_{name}_global.csv')\n",
    "    df = pd.read_csv(url)\n",
    "    # rename countries\n",
    "    df['Country/Region'] = df['Country/Region'].replace(mapping['replace.country'])\n",
    "    return df"
   ]
  },
  {
   "cell_type": "code",
   "execution_count": 8,
   "id": "affiliated-characterization",
   "metadata": {
    "execution": {
     "iopub.execute_input": "2021-02-28T12:06:43.885323Z",
     "iopub.status.busy": "2021-02-28T12:06:43.884791Z",
     "iopub.status.idle": "2021-02-28T12:06:43.886877Z",
     "shell.execute_reply": "2021-02-28T12:06:43.887316Z"
    },
    "papermill": {
     "duration": 0.037999,
     "end_time": "2021-02-28T12:06:43.887443",
     "exception": false,
     "start_time": "2021-02-28T12:06:43.849444",
     "status": "completed"
    },
    "tags": []
   },
   "outputs": [],
   "source": [
    "#hide\n",
    "def get_dates(df):\n",
    "    dt_cols = df.columns[~df.columns.isin(['Province/State', 'Country/Region', 'Lat', 'Long'])]\n",
    "    LAST_DATE_I = -1\n",
    "    # sometimes last column may be empty, then go backwards\n",
    "    for i in range(-1, -len(dt_cols), -1):\n",
    "        if not df[dt_cols[i]].fillna(0).eq(0).all():\n",
    "            LAST_DATE_I = i\n",
    "            break\n",
    "    return LAST_DATE_I, dt_cols"
   ]
  },
  {
   "cell_type": "code",
   "execution_count": 9,
   "id": "recent-optimization",
   "metadata": {
    "execution": {
     "iopub.execute_input": "2021-02-28T12:06:43.951621Z",
     "iopub.status.busy": "2021-02-28T12:06:43.951098Z",
     "iopub.status.idle": "2021-02-28T12:06:44.176897Z",
     "shell.execute_reply": "2021-02-28T12:06:44.175976Z"
    },
    "papermill": {
     "duration": 0.260129,
     "end_time": "2021-02-28T12:06:44.177014",
     "exception": false,
     "start_time": "2021-02-28T12:06:43.916885",
     "status": "completed"
    },
    "tags": []
   },
   "outputs": [],
   "source": [
    "#hide\n",
    "COL_REGION = 'Country/Region'\n",
    "# Confirmed, Recovered, Deaths\n",
    "df = get_frame('confirmed')\n",
    "# dft_: timeseries, dfc_: today country agg\n",
    "dft_cases = df\n",
    "dft_deaths = get_frame('deaths')\n",
    "dft_recovered = get_frame('recovered')\n",
    "LAST_DATE_I, dt_cols = get_dates(df)"
   ]
  },
  {
   "cell_type": "code",
   "execution_count": 10,
   "id": "absolute-copper",
   "metadata": {
    "execution": {
     "iopub.execute_input": "2021-02-28T12:06:44.234611Z",
     "iopub.status.busy": "2021-02-28T12:06:44.233997Z",
     "iopub.status.idle": "2021-02-28T12:06:44.235205Z",
     "shell.execute_reply": "2021-02-28T12:06:44.235708Z"
    },
    "papermill": {
     "duration": 0.032496,
     "end_time": "2021-02-28T12:06:44.235834",
     "exception": false,
     "start_time": "2021-02-28T12:06:44.203338",
     "status": "completed"
    },
    "tags": []
   },
   "outputs": [],
   "source": [
    "#hide\n",
    "LAST_DATE_I, dt_cols = get_dates(df)\n",
    "dt_today =dt_cols[LAST_DATE_I]\n",
    "# dt_5day = dt_cols[LAST_DATE_I - 5]\n",
    "dt_yday = dt_cols[LAST_DATE_I - 1]"
   ]
  },
  {
   "cell_type": "code",
   "execution_count": 11,
   "id": "restricted-sheriff",
   "metadata": {
    "execution": {
     "iopub.execute_input": "2021-02-28T12:06:44.300129Z",
     "iopub.status.busy": "2021-02-28T12:06:44.299609Z",
     "iopub.status.idle": "2021-02-28T12:06:44.305618Z",
     "shell.execute_reply": "2021-02-28T12:06:44.306057Z"
    },
    "papermill": {
     "duration": 0.040841,
     "end_time": "2021-02-28T12:06:44.306184",
     "exception": false,
     "start_time": "2021-02-28T12:06:44.265343",
     "status": "completed"
    },
    "tags": []
   },
   "outputs": [],
   "source": [
    "#hide\n",
    "dfc_cases = dft_cases.groupby(COL_REGION)[dt_today].sum()\n",
    "dfc_deaths = dft_deaths.groupby(COL_REGION)[dt_today].sum()\n",
    "# dfp_cases = dft_cases.groupby(COL_REGION)[dt_5day].sum()\n",
    "# dfp_deaths = dft_deaths.groupby(COL_REGION)[dt_5day].sum()\n",
    "dfp_cases = dft_cases.groupby(COL_REGION)[dt_yday].sum()\n",
    "dfp_deaths = dft_deaths.groupby(COL_REGION)[dt_yday].sum()"
   ]
  },
  {
   "cell_type": "code",
   "execution_count": 12,
   "id": "deluxe-hepatitis",
   "metadata": {
    "execution": {
     "iopub.execute_input": "2021-02-28T12:06:44.371632Z",
     "iopub.status.busy": "2021-02-28T12:06:44.370458Z",
     "iopub.status.idle": "2021-02-28T12:06:44.375424Z",
     "shell.execute_reply": "2021-02-28T12:06:44.375010Z"
    },
    "papermill": {
     "duration": 0.039717,
     "end_time": "2021-02-28T12:06:44.375538",
     "exception": false,
     "start_time": "2021-02-28T12:06:44.335821",
     "status": "completed"
    },
    "tags": []
   },
   "outputs": [],
   "source": [
    "#hide\n",
    "df_table = (pd.DataFrame(dict(Cases = dfc_cases, Deaths = dfc_deaths, PCases = dfp_cases, PDeaths = dfp_deaths))\n",
    "            .sort_values(by = ['Cases','Deaths'], ascending = [False, False])\n",
    "            .reset_index())"
   ]
  },
  {
   "cell_type": "code",
   "execution_count": 13,
   "id": "educational-chancellor",
   "metadata": {
    "execution": {
     "iopub.execute_input": "2021-02-28T12:06:44.450830Z",
     "iopub.status.busy": "2021-02-28T12:06:44.450253Z",
     "iopub.status.idle": "2021-02-28T12:06:44.456589Z",
     "shell.execute_reply": "2021-02-28T12:06:44.456173Z"
    },
    "papermill": {
     "duration": 0.051518,
     "end_time": "2021-02-28T12:06:44.456703",
     "exception": false,
     "start_time": "2021-02-28T12:06:44.405185",
     "status": "completed"
    },
    "tags": []
   },
   "outputs": [
    {
     "data": {
      "text/html": [
       "<div>\n",
       "<style scoped>\n",
       "    .dataframe tbody tr th:only-of-type {\n",
       "        vertical-align: middle;\n",
       "    }\n",
       "\n",
       "    .dataframe tbody tr th {\n",
       "        vertical-align: top;\n",
       "    }\n",
       "\n",
       "    .dataframe thead th {\n",
       "        text-align: right;\n",
       "    }\n",
       "</style>\n",
       "<table border=\"1\" class=\"dataframe\">\n",
       "  <thead>\n",
       "    <tr style=\"text-align: right;\">\n",
       "      <th></th>\n",
       "      <th>Country/Region</th>\n",
       "      <th>Cases</th>\n",
       "      <th>Deaths</th>\n",
       "      <th>PCases</th>\n",
       "      <th>PDeaths</th>\n",
       "      <th>Cases (+)</th>\n",
       "      <th>Deaths (+)</th>\n",
       "      <th>Fatality Rate</th>\n",
       "      <th>Continent</th>\n",
       "    </tr>\n",
       "  </thead>\n",
       "  <tbody>\n",
       "    <tr>\n",
       "      <th>0</th>\n",
       "      <td>US</td>\n",
       "      <td>28554465</td>\n",
       "      <td>511994</td>\n",
       "      <td>28486394</td>\n",
       "      <td>510458</td>\n",
       "      <td>68071</td>\n",
       "      <td>1536</td>\n",
       "      <td>1.79</td>\n",
       "      <td>North America</td>\n",
       "    </tr>\n",
       "    <tr>\n",
       "      <th>1</th>\n",
       "      <td>India</td>\n",
       "      <td>11096731</td>\n",
       "      <td>157051</td>\n",
       "      <td>11079979</td>\n",
       "      <td>156938</td>\n",
       "      <td>16752</td>\n",
       "      <td>113</td>\n",
       "      <td>1.42</td>\n",
       "      <td>Asia</td>\n",
       "    </tr>\n",
       "    <tr>\n",
       "      <th>2</th>\n",
       "      <td>Brazil</td>\n",
       "      <td>10517232</td>\n",
       "      <td>254221</td>\n",
       "      <td>10455630</td>\n",
       "      <td>252835</td>\n",
       "      <td>61602</td>\n",
       "      <td>1386</td>\n",
       "      <td>2.42</td>\n",
       "      <td>South America</td>\n",
       "    </tr>\n",
       "    <tr>\n",
       "      <th>3</th>\n",
       "      <td>Russia</td>\n",
       "      <td>4187166</td>\n",
       "      <td>84330</td>\n",
       "      <td>4175757</td>\n",
       "      <td>83900</td>\n",
       "      <td>11409</td>\n",
       "      <td>430</td>\n",
       "      <td>2.01</td>\n",
       "      <td>Europe</td>\n",
       "    </tr>\n",
       "    <tr>\n",
       "      <th>4</th>\n",
       "      <td>United Kingdom</td>\n",
       "      <td>4182772</td>\n",
       "      <td>122939</td>\n",
       "      <td>4175315</td>\n",
       "      <td>122648</td>\n",
       "      <td>7457</td>\n",
       "      <td>291</td>\n",
       "      <td>2.94</td>\n",
       "      <td>Europe</td>\n",
       "    </tr>\n",
       "  </tbody>\n",
       "</table>\n",
       "</div>"
      ],
      "text/plain": [
       "   Country/Region     Cases  Deaths    PCases  PDeaths  Cases (+)  Deaths (+)  \\\n",
       "0              US  28554465  511994  28486394   510458      68071        1536   \n",
       "1           India  11096731  157051  11079979   156938      16752         113   \n",
       "2          Brazil  10517232  254221  10455630   252835      61602        1386   \n",
       "3          Russia   4187166   84330   4175757    83900      11409         430   \n",
       "4  United Kingdom   4182772  122939   4175315   122648       7457         291   \n",
       "\n",
       "   Fatality Rate      Continent  \n",
       "0           1.79  North America  \n",
       "1           1.42           Asia  \n",
       "2           2.42  South America  \n",
       "3           2.01         Europe  \n",
       "4           2.94         Europe  "
      ]
     },
     "execution_count": 13,
     "metadata": {},
     "output_type": "execute_result"
    }
   ],
   "source": [
    "#hide\n",
    "for c in 'Cases, Deaths'.split(', '):\n",
    "    df_table[f'{c} (+)'] = (df_table[c] - df_table[f'P{c}']).clip(0)\n",
    "    #Clip ça veut dire, les chiffres negatif sont interdit\n",
    "df_table['Fatality Rate'] = (100* df_table['Deaths']/ df_table['Cases']).round(2)\n",
    "df_table['Continent'] = df_table['Country/Region'].map(mapping['map.continent'])\n",
    "df_table.head(5)"
   ]
  },
  {
   "cell_type": "code",
   "execution_count": 14,
   "id": "aboriginal-bulgaria",
   "metadata": {
    "execution": {
     "iopub.execute_input": "2021-02-28T12:06:44.521953Z",
     "iopub.status.busy": "2021-02-28T12:06:44.521442Z",
     "iopub.status.idle": "2021-02-28T12:06:44.523411Z",
     "shell.execute_reply": "2021-02-28T12:06:44.522980Z"
    },
    "papermill": {
     "duration": 0.036768,
     "end_time": "2021-02-28T12:06:44.523517",
     "exception": false,
     "start_time": "2021-02-28T12:06:44.486749",
     "status": "completed"
    },
    "tags": []
   },
   "outputs": [],
   "source": [
    "#hide\n",
    "#delete problematic countries from table\n",
    "df_table = df_table[~df_table['Country/Region'].isin(['Cape Verde', 'Cruise Ship', 'Kosovo'])]"
   ]
  },
  {
   "cell_type": "code",
   "execution_count": 15,
   "id": "fantastic-effect",
   "metadata": {
    "execution": {
     "iopub.execute_input": "2021-02-28T12:06:44.590313Z",
     "iopub.status.busy": "2021-02-28T12:06:44.589784Z",
     "iopub.status.idle": "2021-02-28T12:06:44.605087Z",
     "shell.execute_reply": "2021-02-28T12:06:44.604666Z"
    },
    "papermill": {
     "duration": 0.051732,
     "end_time": "2021-02-28T12:06:44.605203",
     "exception": false,
     "start_time": "2021-02-28T12:06:44.553471",
     "status": "completed"
    },
    "tags": []
   },
   "outputs": [
    {
     "data": {
      "text/html": [
       "<div>\n",
       "<style scoped>\n",
       "    .dataframe tbody tr th:only-of-type {\n",
       "        vertical-align: middle;\n",
       "    }\n",
       "\n",
       "    .dataframe tbody tr th {\n",
       "        vertical-align: top;\n",
       "    }\n",
       "\n",
       "    .dataframe thead th {\n",
       "        text-align: right;\n",
       "    }\n",
       "</style>\n",
       "<table border=\"1\" class=\"dataframe\">\n",
       "  <thead>\n",
       "    <tr style=\"text-align: right;\">\n",
       "      <th></th>\n",
       "      <th>Country/Region</th>\n",
       "      <th>Cases</th>\n",
       "      <th>Deaths</th>\n",
       "      <th>PCases</th>\n",
       "      <th>PDeaths</th>\n",
       "      <th>Cases (+)</th>\n",
       "      <th>Deaths (+)</th>\n",
       "      <th>Fatality Rate</th>\n",
       "      <th>Continent</th>\n",
       "    </tr>\n",
       "  </thead>\n",
       "  <tbody>\n",
       "    <tr>\n",
       "      <th>0</th>\n",
       "      <td>US</td>\n",
       "      <td>28554465</td>\n",
       "      <td>511994</td>\n",
       "      <td>28486394</td>\n",
       "      <td>510458</td>\n",
       "      <td>68071</td>\n",
       "      <td>1536</td>\n",
       "      <td>1.8</td>\n",
       "      <td>North America</td>\n",
       "    </tr>\n",
       "    <tr>\n",
       "      <th>1</th>\n",
       "      <td>India</td>\n",
       "      <td>11096731</td>\n",
       "      <td>157051</td>\n",
       "      <td>11079979</td>\n",
       "      <td>156938</td>\n",
       "      <td>16752</td>\n",
       "      <td>113</td>\n",
       "      <td>1.4</td>\n",
       "      <td>Asia</td>\n",
       "    </tr>\n",
       "    <tr>\n",
       "      <th>2</th>\n",
       "      <td>Brazil</td>\n",
       "      <td>10517232</td>\n",
       "      <td>254221</td>\n",
       "      <td>10455630</td>\n",
       "      <td>252835</td>\n",
       "      <td>61602</td>\n",
       "      <td>1386</td>\n",
       "      <td>2.4</td>\n",
       "      <td>South America</td>\n",
       "    </tr>\n",
       "    <tr>\n",
       "      <th>3</th>\n",
       "      <td>Russia</td>\n",
       "      <td>4187166</td>\n",
       "      <td>84330</td>\n",
       "      <td>4175757</td>\n",
       "      <td>83900</td>\n",
       "      <td>11409</td>\n",
       "      <td>430</td>\n",
       "      <td>2.0</td>\n",
       "      <td>Europe</td>\n",
       "    </tr>\n",
       "    <tr>\n",
       "      <th>4</th>\n",
       "      <td>United Kingdom</td>\n",
       "      <td>4182772</td>\n",
       "      <td>122939</td>\n",
       "      <td>4175315</td>\n",
       "      <td>122648</td>\n",
       "      <td>7457</td>\n",
       "      <td>291</td>\n",
       "      <td>2.9</td>\n",
       "      <td>Europe</td>\n",
       "    </tr>\n",
       "  </tbody>\n",
       "</table>\n",
       "</div>"
      ],
      "text/plain": [
       "   Country/Region     Cases  Deaths    PCases  PDeaths  Cases (+)  Deaths (+)  \\\n",
       "0              US  28554465  511994  28486394   510458      68071        1536   \n",
       "1           India  11096731  157051  11079979   156938      16752         113   \n",
       "2          Brazil  10517232  254221  10455630   252835      61602        1386   \n",
       "3          Russia   4187166   84330   4175757    83900      11409         430   \n",
       "4  United Kingdom   4182772  122939   4175315   122648       7457         291   \n",
       "\n",
       "   Fatality Rate      Continent  \n",
       "0            1.8  North America  \n",
       "1            1.4           Asia  \n",
       "2            2.4  South America  \n",
       "3            2.0         Europe  \n",
       "4            2.9         Europe  "
      ]
     },
     "execution_count": 15,
     "metadata": {},
     "output_type": "execute_result"
    }
   ],
   "source": [
    "#hide\n",
    "df_table = (pd.DataFrame(dict(Cases=dfc_cases, Deaths=dfc_deaths, PCases=dfp_cases, PDeaths=dfp_deaths))\n",
    "             .sort_values(by=['Cases', 'Deaths'], ascending=[False, False])\n",
    "             .reset_index())\n",
    "df_table.rename(columns={'index': 'Country/Region'}, inplace=True)\n",
    "for c in 'Cases, Deaths'.split(', '):\n",
    "    df_table[f'{c} (+)'] = (df_table[c] - df_table[f'P{c}']).clip(0)  # DATA BUG\n",
    "df_table['Fatality Rate'] = (100 * df_table['Deaths'] / df_table['Cases']).round(1)\n",
    "df_table['Continent'] = df_table['Country/Region'].map(mapping['map.continent'])\n",
    "df_table.head(5)"
   ]
  },
  {
   "cell_type": "code",
   "execution_count": 16,
   "id": "fewer-occasion",
   "metadata": {
    "execution": {
     "iopub.execute_input": "2021-02-28T12:06:44.671878Z",
     "iopub.status.busy": "2021-02-28T12:06:44.671320Z",
     "iopub.status.idle": "2021-02-28T12:06:44.673480Z",
     "shell.execute_reply": "2021-02-28T12:06:44.673049Z"
    },
    "papermill": {
     "duration": 0.037768,
     "end_time": "2021-02-28T12:06:44.673595",
     "exception": false,
     "start_time": "2021-02-28T12:06:44.635827",
     "status": "completed"
    },
    "tags": []
   },
   "outputs": [],
   "source": [
    "#hide\n",
    "#delete problematic countries from table\n",
    "df_table = df_table[~df_table['Country/Region'].isin(['Cape Verde', 'Cruise Ship', 'Kosovo'])]"
   ]
  },
  {
   "cell_type": "code",
   "execution_count": 17,
   "id": "related-center",
   "metadata": {
    "execution": {
     "iopub.execute_input": "2021-02-28T12:06:44.744922Z",
     "iopub.status.busy": "2021-02-28T12:06:44.744375Z",
     "iopub.status.idle": "2021-02-28T12:06:44.746330Z",
     "shell.execute_reply": "2021-02-28T12:06:44.745842Z"
    },
    "papermill": {
     "duration": 0.045904,
     "end_time": "2021-02-28T12:06:44.746441",
     "exception": false,
     "start_time": "2021-02-28T12:06:44.700537",
     "status": "completed"
    },
    "tags": []
   },
   "outputs": [],
   "source": [
    "#hide\n",
    "metrics = [df_table.columns[index] for index in [1,2,5,6]]\n",
    "# s_china = df_table[df_table['Country/Region'].eq('China')][metrics].sum().add_prefix('China ')\n",
    "s_us = df_table[df_table['Country/Region'].eq('US')][metrics].sum().add_prefix('US ')\n",
    "s_eu = df_table[df_table['Continent'].eq('Europe')][metrics].sum().add_prefix('EU ')\n",
    "s_ind = df_table[df_table['Country/Region'].eq('India')][metrics].sum().add_prefix('India ')\n",
    "summary = {'updated': pd.to_datetime(dt_today), 'since': pd.to_datetime(dt_yday)}\n",
    "summary = {'updated': pd.to_datetime(dt_today), 'since': pd.to_datetime(dt_yday)}\n",
    "summary = {**summary, **df_table[metrics].sum(), **s_ind, **s_us, **s_eu}"
   ]
  },
  {
   "cell_type": "code",
   "execution_count": 18,
   "id": "engaging-syndrome",
   "metadata": {
    "execution": {
     "iopub.execute_input": "2021-02-28T12:06:44.811713Z",
     "iopub.status.busy": "2021-02-28T12:06:44.811195Z",
     "iopub.status.idle": "2021-02-28T12:06:44.821169Z",
     "shell.execute_reply": "2021-02-28T12:06:44.820729Z"
    },
    "papermill": {
     "duration": 0.044438,
     "end_time": "2021-02-28T12:06:44.821281",
     "exception": false,
     "start_time": "2021-02-28T12:06:44.776843",
     "status": "completed"
    },
    "tags": []
   },
   "outputs": [],
   "source": [
    "#hide\n",
    "dft_ct_new_cases = dft_cases.groupby(COL_REGION)[dt_cols].sum().diff(axis=1).fillna(0).astype(int)"
   ]
  },
  {
   "cell_type": "code",
   "execution_count": 19,
   "id": "neutral-assignment",
   "metadata": {
    "execution": {
     "iopub.execute_input": "2021-02-28T12:06:44.886839Z",
     "iopub.status.busy": "2021-02-28T12:06:44.886295Z",
     "iopub.status.idle": "2021-02-28T12:06:44.887821Z",
     "shell.execute_reply": "2021-02-28T12:06:44.888223Z"
    },
    "papermill": {
     "duration": 0.036738,
     "end_time": "2021-02-28T12:06:44.888346",
     "exception": false,
     "start_time": "2021-02-28T12:06:44.851608",
     "status": "completed"
    },
    "tags": []
   },
   "outputs": [],
   "source": [
    "#hide\n",
    "everydaycases = dft_ct_new_cases.cumsum(axis=1)"
   ]
  },
  {
   "cell_type": "code",
   "execution_count": 20,
   "id": "parliamentary-calgary",
   "metadata": {
    "execution": {
     "iopub.execute_input": "2021-02-28T12:06:44.953182Z",
     "iopub.status.busy": "2021-02-28T12:06:44.952661Z",
     "iopub.status.idle": "2021-02-28T12:06:45.511451Z",
     "shell.execute_reply": "2021-02-28T12:06:45.510955Z"
    },
    "papermill": {
     "duration": 0.592753,
     "end_time": "2021-02-28T12:06:45.511566",
     "exception": false,
     "start_time": "2021-02-28T12:06:44.918813",
     "status": "completed"
    },
    "tags": []
   },
   "outputs": [],
   "source": [
    "#hide\n",
    "import pandas as pd\n",
    "import matplotlib.pyplot as plt\n",
    "import matplotlib.ticker as ticker\n",
    "import matplotlib.animation as animation\n",
    "from IPython.display import HTML"
   ]
  },
  {
   "cell_type": "code",
   "execution_count": 21,
   "id": "lasting-extraction",
   "metadata": {
    "execution": {
     "iopub.execute_input": "2021-02-28T12:06:45.578767Z",
     "iopub.status.busy": "2021-02-28T12:06:45.578216Z",
     "iopub.status.idle": "2021-02-28T12:06:45.588606Z",
     "shell.execute_reply": "2021-02-28T12:06:45.589099Z"
    },
    "papermill": {
     "duration": 0.047376,
     "end_time": "2021-02-28T12:06:45.589229",
     "exception": false,
     "start_time": "2021-02-28T12:06:45.541853",
     "status": "completed"
    },
    "tags": []
   },
   "outputs": [],
   "source": [
    "#hide\n",
    "t = everydaycases.stack()"
   ]
  },
  {
   "cell_type": "code",
   "execution_count": 22,
   "id": "premier-sleeve",
   "metadata": {
    "execution": {
     "iopub.execute_input": "2021-02-28T12:06:45.656051Z",
     "iopub.status.busy": "2021-02-28T12:06:45.655519Z",
     "iopub.status.idle": "2021-02-28T12:06:45.661955Z",
     "shell.execute_reply": "2021-02-28T12:06:45.661489Z"
    },
    "papermill": {
     "duration": 0.042353,
     "end_time": "2021-02-28T12:06:45.662065",
     "exception": false,
     "start_time": "2021-02-28T12:06:45.619712",
     "status": "completed"
    },
    "tags": []
   },
   "outputs": [],
   "source": [
    "#hide\n",
    "g = t.reset_index(['Country/Region'])"
   ]
  },
  {
   "cell_type": "code",
   "execution_count": 23,
   "id": "distributed-pittsburgh",
   "metadata": {
    "execution": {
     "iopub.execute_input": "2021-02-28T12:06:45.726797Z",
     "iopub.status.busy": "2021-02-28T12:06:45.726251Z",
     "iopub.status.idle": "2021-02-28T12:06:45.728332Z",
     "shell.execute_reply": "2021-02-28T12:06:45.727897Z"
    },
    "papermill": {
     "duration": 0.035942,
     "end_time": "2021-02-28T12:06:45.728440",
     "exception": false,
     "start_time": "2021-02-28T12:06:45.692498",
     "status": "completed"
    },
    "tags": []
   },
   "outputs": [],
   "source": [
    "#hide\n",
    "g.index.name = 'date'"
   ]
  },
  {
   "cell_type": "code",
   "execution_count": 24,
   "id": "naked-donor",
   "metadata": {
    "execution": {
     "iopub.execute_input": "2021-02-28T12:06:45.792962Z",
     "iopub.status.busy": "2021-02-28T12:06:45.792339Z",
     "iopub.status.idle": "2021-02-28T12:06:45.793630Z",
     "shell.execute_reply": "2021-02-28T12:06:45.794157Z"
    },
    "papermill": {
     "duration": 0.035373,
     "end_time": "2021-02-28T12:06:45.794300",
     "exception": false,
     "start_time": "2021-02-28T12:06:45.758927",
     "status": "completed"
    },
    "tags": []
   },
   "outputs": [],
   "source": [
    "# #hide\n",
    "# g = g.reset_index(['date'])"
   ]
  },
  {
   "cell_type": "code",
   "execution_count": 25,
   "id": "incomplete-mustang",
   "metadata": {
    "execution": {
     "iopub.execute_input": "2021-02-28T12:06:45.851871Z",
     "iopub.status.busy": "2021-02-28T12:06:45.851259Z",
     "iopub.status.idle": "2021-02-28T12:06:45.852537Z",
     "shell.execute_reply": "2021-02-28T12:06:45.853080Z"
    },
    "papermill": {
     "duration": 0.031848,
     "end_time": "2021-02-28T12:06:45.853221",
     "exception": false,
     "start_time": "2021-02-28T12:06:45.821373",
     "status": "completed"
    },
    "tags": []
   },
   "outputs": [],
   "source": [
    "#hide\n",
    "# g.head()"
   ]
  },
  {
   "cell_type": "code",
   "execution_count": 26,
   "id": "specific-kruger",
   "metadata": {
    "execution": {
     "iopub.execute_input": "2021-02-28T12:06:45.918022Z",
     "iopub.status.busy": "2021-02-28T12:06:45.917464Z",
     "iopub.status.idle": "2021-02-28T12:06:45.919864Z",
     "shell.execute_reply": "2021-02-28T12:06:45.919429Z"
    },
    "papermill": {
     "duration": 0.035795,
     "end_time": "2021-02-28T12:06:45.919971",
     "exception": false,
     "start_time": "2021-02-28T12:06:45.884176",
     "status": "completed"
    },
    "tags": []
   },
   "outputs": [],
   "source": [
    "#hide\n",
    "# g.columns = ['date','country','cases']"
   ]
  },
  {
   "cell_type": "code",
   "execution_count": 27,
   "id": "tender-conversion",
   "metadata": {
    "execution": {
     "iopub.execute_input": "2021-02-28T12:06:45.984051Z",
     "iopub.status.busy": "2021-02-28T12:06:45.983500Z",
     "iopub.status.idle": "2021-02-28T12:06:45.985622Z",
     "shell.execute_reply": "2021-02-28T12:06:45.985199Z"
    },
    "papermill": {
     "duration": 0.035484,
     "end_time": "2021-02-28T12:06:45.985737",
     "exception": false,
     "start_time": "2021-02-28T12:06:45.950253",
     "status": "completed"
    },
    "tags": []
   },
   "outputs": [],
   "source": [
    "#hide\n",
    "# g['continent'] = g.country"
   ]
  },
  {
   "cell_type": "code",
   "execution_count": 28,
   "id": "substantial-wilderness",
   "metadata": {
    "execution": {
     "iopub.execute_input": "2021-02-28T12:06:46.050511Z",
     "iopub.status.busy": "2021-02-28T12:06:46.049969Z",
     "iopub.status.idle": "2021-02-28T12:06:46.051707Z",
     "shell.execute_reply": "2021-02-28T12:06:46.052123Z"
    },
    "papermill": {
     "duration": 0.03603,
     "end_time": "2021-02-28T12:06:46.052251",
     "exception": false,
     "start_time": "2021-02-28T12:06:46.016221",
     "status": "completed"
    },
    "tags": []
   },
   "outputs": [],
   "source": [
    "#hide\n",
    "# cols = list(g.columns.values)"
   ]
  },
  {
   "cell_type": "code",
   "execution_count": 29,
   "id": "solved-farming",
   "metadata": {
    "execution": {
     "iopub.execute_input": "2021-02-28T12:06:46.116238Z",
     "iopub.status.busy": "2021-02-28T12:06:46.115716Z",
     "iopub.status.idle": "2021-02-28T12:06:46.117546Z",
     "shell.execute_reply": "2021-02-28T12:06:46.117957Z"
    },
    "papermill": {
     "duration": 0.03571,
     "end_time": "2021-02-28T12:06:46.118085",
     "exception": false,
     "start_time": "2021-02-28T12:06:46.082375",
     "status": "completed"
    },
    "tags": []
   },
   "outputs": [],
   "source": [
    "#hide\n",
    "# cols.insert(0, cols.pop())"
   ]
  },
  {
   "cell_type": "code",
   "execution_count": 30,
   "id": "executed-adoption",
   "metadata": {
    "execution": {
     "iopub.execute_input": "2021-02-28T12:06:46.182896Z",
     "iopub.status.busy": "2021-02-28T12:06:46.182310Z",
     "iopub.status.idle": "2021-02-28T12:06:46.184418Z",
     "shell.execute_reply": "2021-02-28T12:06:46.183998Z"
    },
    "papermill": {
     "duration": 0.036106,
     "end_time": "2021-02-28T12:06:46.184531",
     "exception": false,
     "start_time": "2021-02-28T12:06:46.148425",
     "status": "completed"
    },
    "tags": []
   },
   "outputs": [],
   "source": [
    "#hide\n",
    "# g = g[cols]"
   ]
  },
  {
   "cell_type": "code",
   "execution_count": 31,
   "id": "subject-dublin",
   "metadata": {
    "execution": {
     "iopub.execute_input": "2021-02-28T12:06:46.249474Z",
     "iopub.status.busy": "2021-02-28T12:06:46.248957Z",
     "iopub.status.idle": "2021-02-28T12:06:46.251271Z",
     "shell.execute_reply": "2021-02-28T12:06:46.250856Z"
    },
    "papermill": {
     "duration": 0.03659,
     "end_time": "2021-02-28T12:06:46.251387",
     "exception": false,
     "start_time": "2021-02-28T12:06:46.214797",
     "status": "completed"
    },
    "tags": []
   },
   "outputs": [],
   "source": [
    "#hide\n",
    "# g['continent'] = g['continent'].map(mapping['map.continent'])"
   ]
  },
  {
   "cell_type": "code",
   "execution_count": 32,
   "id": "freelance-scout",
   "metadata": {
    "execution": {
     "iopub.execute_input": "2021-02-28T12:06:46.315674Z",
     "iopub.status.busy": "2021-02-28T12:06:46.315082Z",
     "iopub.status.idle": "2021-02-28T12:06:46.316674Z",
     "shell.execute_reply": "2021-02-28T12:06:46.317059Z"
    },
    "papermill": {
     "duration": 0.035555,
     "end_time": "2021-02-28T12:06:46.317191",
     "exception": false,
     "start_time": "2021-02-28T12:06:46.281636",
     "status": "completed"
    },
    "tags": []
   },
   "outputs": [],
   "source": [
    "#hide\n",
    "# g.head()"
   ]
  },
  {
   "cell_type": "code",
   "execution_count": 33,
   "id": "limited-engine",
   "metadata": {
    "execution": {
     "iopub.execute_input": "2021-02-28T12:06:46.380733Z",
     "iopub.status.busy": "2021-02-28T12:06:46.380219Z",
     "iopub.status.idle": "2021-02-28T12:06:46.382265Z",
     "shell.execute_reply": "2021-02-28T12:06:46.381830Z"
    },
    "papermill": {
     "duration": 0.035212,
     "end_time": "2021-02-28T12:06:46.382375",
     "exception": false,
     "start_time": "2021-02-28T12:06:46.347163",
     "status": "completed"
    },
    "tags": []
   },
   "outputs": [],
   "source": [
    "# hide\n",
    "# g['date'] = g['date'].astype('datetime64[ns]')"
   ]
  },
  {
   "cell_type": "code",
   "execution_count": 34,
   "id": "sophisticated-supervisor",
   "metadata": {
    "execution": {
     "iopub.execute_input": "2021-02-28T12:06:46.446389Z",
     "iopub.status.busy": "2021-02-28T12:06:46.445873Z",
     "iopub.status.idle": "2021-02-28T12:06:46.448070Z",
     "shell.execute_reply": "2021-02-28T12:06:46.447639Z"
    },
    "papermill": {
     "duration": 0.035493,
     "end_time": "2021-02-28T12:06:46.448179",
     "exception": false,
     "start_time": "2021-02-28T12:06:46.412686",
     "status": "completed"
    },
    "tags": []
   },
   "outputs": [],
   "source": [
    "#hide\n",
    "# g['date'] = g.date.dt.dayofyear"
   ]
  },
  {
   "cell_type": "code",
   "execution_count": 35,
   "id": "inside-dubai",
   "metadata": {
    "execution": {
     "iopub.execute_input": "2021-02-28T12:06:46.511799Z",
     "iopub.status.busy": "2021-02-28T12:06:46.511285Z",
     "iopub.status.idle": "2021-02-28T12:06:46.513530Z",
     "shell.execute_reply": "2021-02-28T12:06:46.513100Z"
    },
    "papermill": {
     "duration": 0.035306,
     "end_time": "2021-02-28T12:06:46.513636",
     "exception": false,
     "start_time": "2021-02-28T12:06:46.478330",
     "status": "completed"
    },
    "tags": []
   },
   "outputs": [],
   "source": [
    "#hide\n",
    "# g = g.rename(columns= {'continent':'group','country':'name','cases':'value'})"
   ]
  },
  {
   "cell_type": "code",
   "execution_count": 36,
   "id": "fleet-motorcycle",
   "metadata": {
    "execution": {
     "iopub.execute_input": "2021-02-28T12:06:46.577423Z",
     "iopub.status.busy": "2021-02-28T12:06:46.576907Z",
     "iopub.status.idle": "2021-02-28T12:06:46.578914Z",
     "shell.execute_reply": "2021-02-28T12:06:46.578461Z"
    },
    "papermill": {
     "duration": 0.035181,
     "end_time": "2021-02-28T12:06:46.579020",
     "exception": false,
     "start_time": "2021-02-28T12:06:46.543839",
     "status": "completed"
    },
    "tags": []
   },
   "outputs": [],
   "source": [
    "#hide\n",
    "# cols = ['name','group','day','value']"
   ]
  },
  {
   "cell_type": "code",
   "execution_count": 37,
   "id": "continued-sleeping",
   "metadata": {
    "execution": {
     "iopub.execute_input": "2021-02-28T12:06:46.642935Z",
     "iopub.status.busy": "2021-02-28T12:06:46.642368Z",
     "iopub.status.idle": "2021-02-28T12:06:46.644317Z",
     "shell.execute_reply": "2021-02-28T12:06:46.643884Z"
    },
    "papermill": {
     "duration": 0.035231,
     "end_time": "2021-02-28T12:06:46.644425",
     "exception": false,
     "start_time": "2021-02-28T12:06:46.609194",
     "status": "completed"
    },
    "tags": []
   },
   "outputs": [],
   "source": [
    "#hide\n",
    "# g.rename(columns= {'date':'day'},inplace = True)"
   ]
  },
  {
   "cell_type": "code",
   "execution_count": 38,
   "id": "major-fight",
   "metadata": {
    "execution": {
     "iopub.execute_input": "2021-02-28T12:06:46.708705Z",
     "iopub.status.busy": "2021-02-28T12:06:46.708091Z",
     "iopub.status.idle": "2021-02-28T12:06:46.709498Z",
     "shell.execute_reply": "2021-02-28T12:06:46.709959Z"
    },
    "papermill": {
     "duration": 0.035449,
     "end_time": "2021-02-28T12:06:46.710100",
     "exception": false,
     "start_time": "2021-02-28T12:06:46.674651",
     "status": "completed"
    },
    "tags": []
   },
   "outputs": [],
   "source": [
    "#hide\n",
    "# g = g[cols]"
   ]
  },
  {
   "cell_type": "code",
   "execution_count": 39,
   "id": "structured-mobile",
   "metadata": {
    "execution": {
     "iopub.execute_input": "2021-02-28T12:06:46.768064Z",
     "iopub.status.busy": "2021-02-28T12:06:46.767446Z",
     "iopub.status.idle": "2021-02-28T12:06:46.768712Z",
     "shell.execute_reply": "2021-02-28T12:06:46.769254Z"
    },
    "papermill": {
     "duration": 0.03184,
     "end_time": "2021-02-28T12:06:46.769394",
     "exception": false,
     "start_time": "2021-02-28T12:06:46.737554",
     "status": "completed"
    },
    "tags": []
   },
   "outputs": [],
   "source": [
    "# #hide\n",
    "# g = g[g.group.notna()]"
   ]
  },
  {
   "cell_type": "code",
   "execution_count": 40,
   "id": "determined-closing",
   "metadata": {
    "execution": {
     "iopub.execute_input": "2021-02-28T12:06:46.834332Z",
     "iopub.status.busy": "2021-02-28T12:06:46.833787Z",
     "iopub.status.idle": "2021-02-28T12:06:46.836107Z",
     "shell.execute_reply": "2021-02-28T12:06:46.835688Z"
    },
    "papermill": {
     "duration": 0.035731,
     "end_time": "2021-02-28T12:06:46.836228",
     "exception": false,
     "start_time": "2021-02-28T12:06:46.800497",
     "status": "completed"
    },
    "tags": []
   },
   "outputs": [],
   "source": [
    "# #hide\n",
    "# colors = dict(zip(\n",
    "#     [\"Oceania\", \"Europe\", \"Asia\", \"South America\", \"Middle East\", \"North America\", \"Africa\"],\n",
    "#     [\"#adb0ff\", \"#ffb3ff\", \"#90d595\", \"#e48381\", \"#aafbff\", \"#f7bb5f\", \"#eafb50\"]\n",
    "# ))\n",
    "# group_lk = g.set_index('name')['group'].to_dict()"
   ]
  },
  {
   "cell_type": "code",
   "execution_count": null,
   "id": "gross-drinking",
   "metadata": {
    "papermill": {
     "duration": 0.030004,
     "end_time": "2021-02-28T12:06:46.896299",
     "exception": false,
     "start_time": "2021-02-28T12:06:46.866295",
     "status": "completed"
    },
    "tags": []
   },
   "outputs": [],
   "source": []
  },
  {
   "cell_type": "code",
   "execution_count": 41,
   "id": "subject-macintosh",
   "metadata": {
    "execution": {
     "iopub.execute_input": "2021-02-28T12:06:46.961086Z",
     "iopub.status.busy": "2021-02-28T12:06:46.960553Z",
     "iopub.status.idle": "2021-02-28T12:06:46.962500Z",
     "shell.execute_reply": "2021-02-28T12:06:46.962052Z"
    },
    "papermill": {
     "duration": 0.035938,
     "end_time": "2021-02-28T12:06:46.962614",
     "exception": false,
     "start_time": "2021-02-28T12:06:46.926676",
     "status": "completed"
    },
    "tags": []
   },
   "outputs": [],
   "source": [
    "# #hide\n",
    "# fig, ax = plt.subplots(figsize=(15, 8))\n",
    "\n",
    "# def draw_barchart(current_day):\n",
    "#     dff = g[g['day'].eq(current_day)].sort_values(by='value', ascending=True).tail(10)\n",
    "#     ax.clear()\n",
    "#     ax.barh(dff['name'], dff['value'], color=[colors[group_lk[x]] for x in dff['name']])\n",
    "#     dx = dff['value'].max() / 200\n",
    "    \n",
    "#     for i, (value, name) in enumerate(zip(dff['value'], dff['name'])):\n",
    "#         ax.text(value-dx, i,     name,           size=14, weight=600, ha='right', va='bottom')\n",
    "#         ax.text(value-dx, i-.25, group_lk[name], size=10, color='#444444', ha='right', va='baseline')\n",
    "#         ax.text(value+dx, i,     f'{value:,.0f}',  size=14, ha='left',  va='center')\n",
    "#     ax.text(1, 0.4, current_day, transform=ax.transAxes, color='#777777', size=46, ha='right', weight=800)\n",
    "#     ax.text(0, 1.06, 'Population (thousands)', transform=ax.transAxes, size=12, color='#777777')\n",
    "#     ax.xaxis.set_major_formatter(ticker.StrMethodFormatter('{x:,.0f}'))\n",
    "#     ax.xaxis.set_ticks_position('top')\n",
    "#     ax.tick_params(axis='x', colors='#777777', labelsize=12)\n",
    "#     ax.set_yticks([])\n",
    "#     ax.margins(0, 0.01)\n",
    "#     ax.grid(which='major', axis='x', linestyle='-')\n",
    "#     ax.set_axisbelow(True)\n",
    "    \n",
    "#     ax.text(0, 1.15, 'Coronavirus',\n",
    "#             transform=ax.transAxes, size=24, weight=600, ha='left', va='top')\n",
    "# #     ax.text(1, 0, 'by @pratapvardhan; credit @jburnmurdoch', transform=ax.transAxes, color='#777777', ha='right',\n",
    "# #             bbox=dict(facecolor='white', alpha=0.8, edgecolor='white'))\n",
    "#     plt.box(False)"
   ]
  },
  {
   "cell_type": "code",
   "execution_count": 42,
   "id": "sexual-wages",
   "metadata": {
    "execution": {
     "iopub.execute_input": "2021-02-28T12:06:47.026621Z",
     "iopub.status.busy": "2021-02-28T12:06:47.026071Z",
     "iopub.status.idle": "2021-02-28T12:06:47.027891Z",
     "shell.execute_reply": "2021-02-28T12:06:47.028363Z"
    },
    "papermill": {
     "duration": 0.035798,
     "end_time": "2021-02-28T12:06:47.028491",
     "exception": false,
     "start_time": "2021-02-28T12:06:46.992693",
     "status": "completed"
    },
    "tags": []
   },
   "outputs": [],
   "source": [
    "# #hide_input\n",
    "# fig, ax = plt.subplots(figsize=(15, 8))\n",
    "# animator = animation.FuncAnimation(fig, draw_barchart, frames=range(g.day.values.min(), g.day.values.max()))\n",
    "# HTML(animator.to_jshtml())\n",
    "# # or use animator.to_html5_video() or animator.save() "
   ]
  },
  {
   "cell_type": "code",
   "execution_count": null,
   "id": "australian-container",
   "metadata": {
    "papermill": {
     "duration": 0.030084,
     "end_time": "2021-02-28T12:06:47.088863",
     "exception": false,
     "start_time": "2021-02-28T12:06:47.058779",
     "status": "completed"
    },
    "tags": []
   },
   "outputs": [],
   "source": []
  },
  {
   "cell_type": "code",
   "execution_count": null,
   "id": "mediterranean-pontiac",
   "metadata": {
    "papermill": {
     "duration": 0.029897,
     "end_time": "2021-02-28T12:06:47.148811",
     "exception": false,
     "start_time": "2021-02-28T12:06:47.118914",
     "status": "completed"
    },
    "tags": []
   },
   "outputs": [],
   "source": []
  },
  {
   "cell_type": "code",
   "execution_count": null,
   "id": "aging-legislature",
   "metadata": {
    "papermill": {
     "duration": 0.030002,
     "end_time": "2021-02-28T12:06:47.209054",
     "exception": false,
     "start_time": "2021-02-28T12:06:47.179052",
     "status": "completed"
    },
    "tags": []
   },
   "outputs": [],
   "source": []
  }
 ],
 "metadata": {
  "kernelspec": {
   "display_name": "Python 3",
   "language": "python",
   "name": "python3"
  },
  "language_info": {
   "codemirror_mode": {
    "name": "ipython",
    "version": 3
   },
   "file_extension": ".py",
   "mimetype": "text/x-python",
   "name": "python",
   "nbconvert_exporter": "python",
   "pygments_lexer": "ipython3",
   "version": "3.6.13"
  },
  "papermill": {
   "duration": 5.604999,
   "end_time": "2021-02-28T12:06:47.546005",
   "environment_variables": {},
   "exception": null,
   "input_path": "2020-03-21-covid19exp.ipynb",
   "output_path": "2020-03-21-covid19exp.ipynb",
   "parameters": {},
   "start_time": "2021-02-28T12:06:41.941006",
   "version": "2.0.0"
  }
 },
 "nbformat": 4,
 "nbformat_minor": 5
}