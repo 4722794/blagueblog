{
 "cells": [
  {
   "cell_type": "markdown",
   "id": "muslim-click",
   "metadata": {
    "papermill": {
     "duration": 0.045593,
     "end_time": "2022-08-12T12:17:40.970096",
     "exception": false,
     "start_time": "2022-08-12T12:17:40.924503",
     "status": "completed"
    },
    "tags": []
   },
   "source": [
    "# COVID-19 Case Race\n",
    "> A race chart to see rising cases around the world\n",
    "\n",
    "- author: Hargun Oberoi\n",
    "- image: images/covid-overview.png\n",
    "- hide: false\n",
    "- badges: false"
   ]
  },
  {
   "cell_type": "code",
   "execution_count": 1,
   "id": "proof-material",
   "metadata": {
    "execution": {
     "iopub.execute_input": "2022-08-12T12:17:41.063769Z",
     "iopub.status.busy": "2022-08-12T12:17:41.062787Z",
     "iopub.status.idle": "2022-08-12T12:17:41.486693Z",
     "shell.execute_reply": "2022-08-12T12:17:41.486003Z"
    },
    "papermill": {
     "duration": 0.47666,
     "end_time": "2022-08-12T12:17:41.486861",
     "exception": false,
     "start_time": "2022-08-12T12:17:41.010201",
     "status": "completed"
    },
    "tags": []
   },
   "outputs": [],
   "source": [
    "#hide\n",
    "import numpy as np\n",
    "import pandas as pd\n",
    "from jinja2 import Template\n",
    "from IPython.display import HTML"
   ]
  },
  {
   "cell_type": "code",
   "execution_count": 2,
   "id": "developed-terminology",
   "metadata": {
    "execution": {
     "iopub.execute_input": "2022-08-12T12:17:41.573763Z",
     "iopub.status.busy": "2022-08-12T12:17:41.572768Z",
     "iopub.status.idle": "2022-08-12T12:17:41.574728Z",
     "shell.execute_reply": "2022-08-12T12:17:41.575494Z"
    },
    "papermill": {
     "duration": 0.048469,
     "end_time": "2022-08-12T12:17:41.575669",
     "exception": false,
     "start_time": "2022-08-12T12:17:41.527200",
     "status": "completed"
    },
    "tags": []
   },
   "outputs": [],
   "source": [
    "#hide\n",
    "\n",
    "# FETCH\n",
    "base_url = 'https://raw.githubusercontent.com/pratapvardhan/notebooks/master/covid19/'\n",
    "paths = {\n",
    "    'mapping': base_url + 'mapping_countries.csv',\n",
    "    'overview': base_url + 'overview.tpl'\n",
    "}"
   ]
  },
  {
   "cell_type": "code",
   "execution_count": 3,
   "id": "dynamic-saver",
   "metadata": {
    "execution": {
     "iopub.execute_input": "2022-08-12T12:17:41.666445Z",
     "iopub.status.busy": "2022-08-12T12:17:41.665726Z",
     "iopub.status.idle": "2022-08-12T12:17:41.670045Z",
     "shell.execute_reply": "2022-08-12T12:17:41.670788Z"
    },
    "papermill": {
     "duration": 0.055137,
     "end_time": "2022-08-12T12:17:41.671042",
     "exception": false,
     "start_time": "2022-08-12T12:17:41.615905",
     "status": "completed"
    },
    "tags": []
   },
   "outputs": [
    {
     "data": {
      "text/plain": [
       "'https://raw.githubusercontent.com/pratapvardhan/notebooks/master/covid19/mapping_countries.csv'"
      ]
     },
     "execution_count": 3,
     "metadata": {},
     "output_type": "execute_result"
    }
   ],
   "source": [
    "#hide\n",
    "paths['mapping']"
   ]
  },
  {
   "cell_type": "code",
   "execution_count": 4,
   "id": "urban-software",
   "metadata": {
    "execution": {
     "iopub.execute_input": "2022-08-12T12:17:41.756407Z",
     "iopub.status.busy": "2022-08-12T12:17:41.755590Z",
     "iopub.status.idle": "2022-08-12T12:17:41.758803Z",
     "shell.execute_reply": "2022-08-12T12:17:41.758250Z"
    },
    "papermill": {
     "duration": 0.049096,
     "end_time": "2022-08-12T12:17:41.758945",
     "exception": false,
     "start_time": "2022-08-12T12:17:41.709849",
     "status": "completed"
    },
    "tags": []
   },
   "outputs": [],
   "source": [
    "#hide\n",
    "def get_mappings(url):\n",
    "    df = pd.read_csv(url)\n",
    "    return {\n",
    "        'df': df,\n",
    "        'replace.country': dict(df.dropna(subset=['Name']).set_index('Country')['Name']),\n",
    "        'map.continent': dict(df.set_index('Name')['Continent'])\n",
    "    }"
   ]
  },
  {
   "cell_type": "code",
   "execution_count": 5,
   "id": "intimate-machinery",
   "metadata": {
    "execution": {
     "iopub.execute_input": "2022-08-12T12:17:41.845678Z",
     "iopub.status.busy": "2022-08-12T12:17:41.844829Z",
     "iopub.status.idle": "2022-08-12T12:17:41.880856Z",
     "shell.execute_reply": "2022-08-12T12:17:41.881480Z"
    },
    "papermill": {
     "duration": 0.083088,
     "end_time": "2022-08-12T12:17:41.881656",
     "exception": false,
     "start_time": "2022-08-12T12:17:41.798568",
     "status": "completed"
    },
    "tags": []
   },
   "outputs": [],
   "source": [
    "#hide\n",
    "mapping = get_mappings(paths['mapping'])"
   ]
  },
  {
   "cell_type": "code",
   "execution_count": 6,
   "id": "certified-tactics",
   "metadata": {
    "execution": {
     "iopub.execute_input": "2022-08-12T12:17:41.971140Z",
     "iopub.status.busy": "2022-08-12T12:17:41.970340Z",
     "iopub.status.idle": "2022-08-12T12:17:41.974717Z",
     "shell.execute_reply": "2022-08-12T12:17:41.975324Z"
    },
    "papermill": {
     "duration": 0.0539,
     "end_time": "2022-08-12T12:17:41.975491",
     "exception": false,
     "start_time": "2022-08-12T12:17:41.921591",
     "status": "completed"
    },
    "tags": []
   },
   "outputs": [],
   "source": [
    "#hide\n",
    "def get_template(path):\n",
    "    from urllib.parse import urlparse\n",
    "    if bool(urlparse(path).netloc):\n",
    "        from urllib.request import urlopen\n",
    "        return urlopen(path).read().decode('utf8')\n",
    "    return open(path).read()"
   ]
  },
  {
   "cell_type": "code",
   "execution_count": 7,
   "id": "realistic-blast",
   "metadata": {
    "execution": {
     "iopub.execute_input": "2022-08-12T12:17:42.061820Z",
     "iopub.status.busy": "2022-08-12T12:17:42.060822Z",
     "iopub.status.idle": "2022-08-12T12:17:42.063913Z",
     "shell.execute_reply": "2022-08-12T12:17:42.063288Z"
    },
    "papermill": {
     "duration": 0.04967,
     "end_time": "2022-08-12T12:17:42.064055",
     "exception": false,
     "start_time": "2022-08-12T12:17:42.014385",
     "status": "completed"
    },
    "tags": []
   },
   "outputs": [],
   "source": [
    "#hide\n",
    "def get_frame(name):\n",
    "    url = (\n",
    "        'https://raw.githubusercontent.com/CSSEGISandData/COVID-19/master/csse_covid_19_data/'\n",
    "        f'csse_covid_19_time_series/time_series_covid19_{name}_global.csv')\n",
    "    df = pd.read_csv(url)\n",
    "    # rename countries\n",
    "    df['Country/Region'] = df['Country/Region'].replace(mapping['replace.country'])\n",
    "    return df"
   ]
  },
  {
   "cell_type": "code",
   "execution_count": 8,
   "id": "affiliated-characterization",
   "metadata": {
    "execution": {
     "iopub.execute_input": "2022-08-12T12:17:42.155559Z",
     "iopub.status.busy": "2022-08-12T12:17:42.154636Z",
     "iopub.status.idle": "2022-08-12T12:17:42.158199Z",
     "shell.execute_reply": "2022-08-12T12:17:42.157541Z"
    },
    "papermill": {
     "duration": 0.051468,
     "end_time": "2022-08-12T12:17:42.158333",
     "exception": false,
     "start_time": "2022-08-12T12:17:42.106865",
     "status": "completed"
    },
    "tags": []
   },
   "outputs": [],
   "source": [
    "#hide\n",
    "def get_dates(df):\n",
    "    dt_cols = df.columns[~df.columns.isin(['Province/State', 'Country/Region', 'Lat', 'Long'])]\n",
    "    LAST_DATE_I = -1\n",
    "    # sometimes last column may be empty, then go backwards\n",
    "    for i in range(-1, -len(dt_cols), -1):\n",
    "        if not df[dt_cols[i]].fillna(0).eq(0).all():\n",
    "            LAST_DATE_I = i\n",
    "            break\n",
    "    return LAST_DATE_I, dt_cols"
   ]
  },
  {
   "cell_type": "code",
   "execution_count": 9,
   "id": "recent-optimization",
   "metadata": {
    "execution": {
     "iopub.execute_input": "2022-08-12T12:17:42.245513Z",
     "iopub.status.busy": "2022-08-12T12:17:42.244741Z",
     "iopub.status.idle": "2022-08-12T12:17:42.737130Z",
     "shell.execute_reply": "2022-08-12T12:17:42.737827Z"
    },
    "papermill": {
     "duration": 0.539395,
     "end_time": "2022-08-12T12:17:42.738017",
     "exception": false,
     "start_time": "2022-08-12T12:17:42.198622",
     "status": "completed"
    },
    "tags": []
   },
   "outputs": [],
   "source": [
    "#hide\n",
    "COL_REGION = 'Country/Region'\n",
    "# Confirmed, Recovered, Deaths\n",
    "df = get_frame('confirmed')\n",
    "# dft_: timeseries, dfc_: today country agg\n",
    "dft_cases = df\n",
    "dft_deaths = get_frame('deaths')\n",
    "dft_recovered = get_frame('recovered')\n",
    "LAST_DATE_I, dt_cols = get_dates(df)"
   ]
  },
  {
   "cell_type": "code",
   "execution_count": 10,
   "id": "absolute-copper",
   "metadata": {
    "execution": {
     "iopub.execute_input": "2022-08-12T12:17:42.825769Z",
     "iopub.status.busy": "2022-08-12T12:17:42.824962Z",
     "iopub.status.idle": "2022-08-12T12:17:42.829418Z",
     "shell.execute_reply": "2022-08-12T12:17:42.829988Z"
    },
    "papermill": {
     "duration": 0.051263,
     "end_time": "2022-08-12T12:17:42.830148",
     "exception": false,
     "start_time": "2022-08-12T12:17:42.778885",
     "status": "completed"
    },
    "tags": []
   },
   "outputs": [],
   "source": [
    "#hide\n",
    "LAST_DATE_I, dt_cols = get_dates(df)\n",
    "dt_today =dt_cols[LAST_DATE_I]\n",
    "# dt_5day = dt_cols[LAST_DATE_I - 5]\n",
    "dt_yday = dt_cols[LAST_DATE_I - 1]"
   ]
  },
  {
   "cell_type": "code",
   "execution_count": 11,
   "id": "restricted-sheriff",
   "metadata": {
    "execution": {
     "iopub.execute_input": "2022-08-12T12:17:42.921581Z",
     "iopub.status.busy": "2022-08-12T12:17:42.919887Z",
     "iopub.status.idle": "2022-08-12T12:17:42.929420Z",
     "shell.execute_reply": "2022-08-12T12:17:42.930305Z"
    },
    "papermill": {
     "duration": 0.059914,
     "end_time": "2022-08-12T12:17:42.930474",
     "exception": false,
     "start_time": "2022-08-12T12:17:42.870560",
     "status": "completed"
    },
    "tags": []
   },
   "outputs": [],
   "source": [
    "#hide\n",
    "dfc_cases = dft_cases.groupby(COL_REGION)[dt_today].sum()\n",
    "dfc_deaths = dft_deaths.groupby(COL_REGION)[dt_today].sum()\n",
    "# dfp_cases = dft_cases.groupby(COL_REGION)[dt_5day].sum()\n",
    "# dfp_deaths = dft_deaths.groupby(COL_REGION)[dt_5day].sum()\n",
    "dfp_cases = dft_cases.groupby(COL_REGION)[dt_yday].sum()\n",
    "dfp_deaths = dft_deaths.groupby(COL_REGION)[dt_yday].sum()"
   ]
  },
  {
   "cell_type": "code",
   "execution_count": 12,
   "id": "deluxe-hepatitis",
   "metadata": {
    "execution": {
     "iopub.execute_input": "2022-08-12T12:17:43.021171Z",
     "iopub.status.busy": "2022-08-12T12:17:43.020378Z",
     "iopub.status.idle": "2022-08-12T12:17:43.026477Z",
     "shell.execute_reply": "2022-08-12T12:17:43.025833Z"
    },
    "papermill": {
     "duration": 0.054476,
     "end_time": "2022-08-12T12:17:43.026630",
     "exception": false,
     "start_time": "2022-08-12T12:17:42.972154",
     "status": "completed"
    },
    "tags": []
   },
   "outputs": [],
   "source": [
    "#hide\n",
    "df_table = (pd.DataFrame(dict(Cases = dfc_cases, Deaths = dfc_deaths, PCases = dfp_cases, PDeaths = dfp_deaths))\n",
    "            .sort_values(by = ['Cases','Deaths'], ascending = [False, False])\n",
    "            .reset_index())"
   ]
  },
  {
   "cell_type": "code",
   "execution_count": 13,
   "id": "educational-chancellor",
   "metadata": {
    "execution": {
     "iopub.execute_input": "2022-08-12T12:17:43.129535Z",
     "iopub.status.busy": "2022-08-12T12:17:43.128727Z",
     "iopub.status.idle": "2022-08-12T12:17:43.138914Z",
     "shell.execute_reply": "2022-08-12T12:17:43.139521Z"
    },
    "papermill": {
     "duration": 0.073192,
     "end_time": "2022-08-12T12:17:43.139694",
     "exception": false,
     "start_time": "2022-08-12T12:17:43.066502",
     "status": "completed"
    },
    "tags": []
   },
   "outputs": [
    {
     "data": {
      "text/html": [
       "<div>\n",
       "<style scoped>\n",
       "    .dataframe tbody tr th:only-of-type {\n",
       "        vertical-align: middle;\n",
       "    }\n",
       "\n",
       "    .dataframe tbody tr th {\n",
       "        vertical-align: top;\n",
       "    }\n",
       "\n",
       "    .dataframe thead th {\n",
       "        text-align: right;\n",
       "    }\n",
       "</style>\n",
       "<table border=\"1\" class=\"dataframe\">\n",
       "  <thead>\n",
       "    <tr style=\"text-align: right;\">\n",
       "      <th></th>\n",
       "      <th>Country/Region</th>\n",
       "      <th>Cases</th>\n",
       "      <th>Deaths</th>\n",
       "      <th>PCases</th>\n",
       "      <th>PDeaths</th>\n",
       "      <th>Cases (+)</th>\n",
       "      <th>Deaths (+)</th>\n",
       "      <th>Fatality Rate</th>\n",
       "      <th>Continent</th>\n",
       "    </tr>\n",
       "  </thead>\n",
       "  <tbody>\n",
       "    <tr>\n",
       "      <th>0</th>\n",
       "      <td>US</td>\n",
       "      <td>92719491</td>\n",
       "      <td>1036325</td>\n",
       "      <td>92568623</td>\n",
       "      <td>1035706</td>\n",
       "      <td>150868</td>\n",
       "      <td>619</td>\n",
       "      <td>1.12</td>\n",
       "      <td>North America</td>\n",
       "    </tr>\n",
       "    <tr>\n",
       "      <th>1</th>\n",
       "      <td>India</td>\n",
       "      <td>44223557</td>\n",
       "      <td>526928</td>\n",
       "      <td>44206996</td>\n",
       "      <td>526879</td>\n",
       "      <td>16561</td>\n",
       "      <td>49</td>\n",
       "      <td>1.19</td>\n",
       "      <td>Asia</td>\n",
       "    </tr>\n",
       "    <tr>\n",
       "      <th>2</th>\n",
       "      <td>France</td>\n",
       "      <td>34383344</td>\n",
       "      <td>154030</td>\n",
       "      <td>34359013</td>\n",
       "      <td>153950</td>\n",
       "      <td>24331</td>\n",
       "      <td>80</td>\n",
       "      <td>0.45</td>\n",
       "      <td>Europe</td>\n",
       "    </tr>\n",
       "    <tr>\n",
       "      <th>3</th>\n",
       "      <td>Brazil</td>\n",
       "      <td>34124579</td>\n",
       "      <td>681006</td>\n",
       "      <td>34066000</td>\n",
       "      <td>680531</td>\n",
       "      <td>58579</td>\n",
       "      <td>475</td>\n",
       "      <td>2.00</td>\n",
       "      <td>South America</td>\n",
       "    </tr>\n",
       "    <tr>\n",
       "      <th>4</th>\n",
       "      <td>Germany</td>\n",
       "      <td>31489484</td>\n",
       "      <td>145561</td>\n",
       "      <td>31439645</td>\n",
       "      <td>145394</td>\n",
       "      <td>49839</td>\n",
       "      <td>167</td>\n",
       "      <td>0.46</td>\n",
       "      <td>Europe</td>\n",
       "    </tr>\n",
       "  </tbody>\n",
       "</table>\n",
       "</div>"
      ],
      "text/plain": [
       "  Country/Region     Cases   Deaths    PCases  PDeaths  Cases (+)  Deaths (+)  \\\n",
       "0             US  92719491  1036325  92568623  1035706     150868         619   \n",
       "1          India  44223557   526928  44206996   526879      16561          49   \n",
       "2         France  34383344   154030  34359013   153950      24331          80   \n",
       "3         Brazil  34124579   681006  34066000   680531      58579         475   \n",
       "4        Germany  31489484   145561  31439645   145394      49839         167   \n",
       "\n",
       "   Fatality Rate      Continent  \n",
       "0           1.12  North America  \n",
       "1           1.19           Asia  \n",
       "2           0.45         Europe  \n",
       "3           2.00  South America  \n",
       "4           0.46         Europe  "
      ]
     },
     "execution_count": 13,
     "metadata": {},
     "output_type": "execute_result"
    }
   ],
   "source": [
    "#hide\n",
    "for c in 'Cases, Deaths'.split(', '):\n",
    "    df_table[f'{c} (+)'] = (df_table[c] - df_table[f'P{c}']).clip(0)\n",
    "    #Clip ça veut dire, les chiffres negatif sont interdit\n",
    "df_table['Fatality Rate'] = (100* df_table['Deaths']/ df_table['Cases']).round(2)\n",
    "df_table['Continent'] = df_table['Country/Region'].map(mapping['map.continent'])\n",
    "df_table.head(5)"
   ]
  },
  {
   "cell_type": "code",
   "execution_count": 14,
   "id": "aboriginal-bulgaria",
   "metadata": {
    "execution": {
     "iopub.execute_input": "2022-08-12T12:17:43.230297Z",
     "iopub.status.busy": "2022-08-12T12:17:43.229452Z",
     "iopub.status.idle": "2022-08-12T12:17:43.233209Z",
     "shell.execute_reply": "2022-08-12T12:17:43.233905Z"
    },
    "papermill": {
     "duration": 0.052289,
     "end_time": "2022-08-12T12:17:43.234075",
     "exception": false,
     "start_time": "2022-08-12T12:17:43.181786",
     "status": "completed"
    },
    "tags": []
   },
   "outputs": [],
   "source": [
    "#hide\n",
    "#delete problematic countries from table\n",
    "df_table = df_table[~df_table['Country/Region'].isin(['Cape Verde', 'Cruise Ship', 'Kosovo'])]"
   ]
  },
  {
   "cell_type": "code",
   "execution_count": 15,
   "id": "fantastic-effect",
   "metadata": {
    "execution": {
     "iopub.execute_input": "2022-08-12T12:17:43.327739Z",
     "iopub.status.busy": "2022-08-12T12:17:43.326801Z",
     "iopub.status.idle": "2022-08-12T12:17:43.350781Z",
     "shell.execute_reply": "2022-08-12T12:17:43.351482Z"
    },
    "papermill": {
     "duration": 0.077214,
     "end_time": "2022-08-12T12:17:43.351651",
     "exception": false,
     "start_time": "2022-08-12T12:17:43.274437",
     "status": "completed"
    },
    "tags": []
   },
   "outputs": [
    {
     "data": {
      "text/html": [
       "<div>\n",
       "<style scoped>\n",
       "    .dataframe tbody tr th:only-of-type {\n",
       "        vertical-align: middle;\n",
       "    }\n",
       "\n",
       "    .dataframe tbody tr th {\n",
       "        vertical-align: top;\n",
       "    }\n",
       "\n",
       "    .dataframe thead th {\n",
       "        text-align: right;\n",
       "    }\n",
       "</style>\n",
       "<table border=\"1\" class=\"dataframe\">\n",
       "  <thead>\n",
       "    <tr style=\"text-align: right;\">\n",
       "      <th></th>\n",
       "      <th>Country/Region</th>\n",
       "      <th>Cases</th>\n",
       "      <th>Deaths</th>\n",
       "      <th>PCases</th>\n",
       "      <th>PDeaths</th>\n",
       "      <th>Cases (+)</th>\n",
       "      <th>Deaths (+)</th>\n",
       "      <th>Fatality Rate</th>\n",
       "      <th>Continent</th>\n",
       "    </tr>\n",
       "  </thead>\n",
       "  <tbody>\n",
       "    <tr>\n",
       "      <th>0</th>\n",
       "      <td>US</td>\n",
       "      <td>92719491</td>\n",
       "      <td>1036325</td>\n",
       "      <td>92568623</td>\n",
       "      <td>1035706</td>\n",
       "      <td>150868</td>\n",
       "      <td>619</td>\n",
       "      <td>1.1</td>\n",
       "      <td>North America</td>\n",
       "    </tr>\n",
       "    <tr>\n",
       "      <th>1</th>\n",
       "      <td>India</td>\n",
       "      <td>44223557</td>\n",
       "      <td>526928</td>\n",
       "      <td>44206996</td>\n",
       "      <td>526879</td>\n",
       "      <td>16561</td>\n",
       "      <td>49</td>\n",
       "      <td>1.2</td>\n",
       "      <td>Asia</td>\n",
       "    </tr>\n",
       "    <tr>\n",
       "      <th>2</th>\n",
       "      <td>France</td>\n",
       "      <td>34383344</td>\n",
       "      <td>154030</td>\n",
       "      <td>34359013</td>\n",
       "      <td>153950</td>\n",
       "      <td>24331</td>\n",
       "      <td>80</td>\n",
       "      <td>0.4</td>\n",
       "      <td>Europe</td>\n",
       "    </tr>\n",
       "    <tr>\n",
       "      <th>3</th>\n",
       "      <td>Brazil</td>\n",
       "      <td>34124579</td>\n",
       "      <td>681006</td>\n",
       "      <td>34066000</td>\n",
       "      <td>680531</td>\n",
       "      <td>58579</td>\n",
       "      <td>475</td>\n",
       "      <td>2.0</td>\n",
       "      <td>South America</td>\n",
       "    </tr>\n",
       "    <tr>\n",
       "      <th>4</th>\n",
       "      <td>Germany</td>\n",
       "      <td>31489484</td>\n",
       "      <td>145561</td>\n",
       "      <td>31439645</td>\n",
       "      <td>145394</td>\n",
       "      <td>49839</td>\n",
       "      <td>167</td>\n",
       "      <td>0.5</td>\n",
       "      <td>Europe</td>\n",
       "    </tr>\n",
       "  </tbody>\n",
       "</table>\n",
       "</div>"
      ],
      "text/plain": [
       "  Country/Region     Cases   Deaths    PCases  PDeaths  Cases (+)  Deaths (+)  \\\n",
       "0             US  92719491  1036325  92568623  1035706     150868         619   \n",
       "1          India  44223557   526928  44206996   526879      16561          49   \n",
       "2         France  34383344   154030  34359013   153950      24331          80   \n",
       "3         Brazil  34124579   681006  34066000   680531      58579         475   \n",
       "4        Germany  31489484   145561  31439645   145394      49839         167   \n",
       "\n",
       "   Fatality Rate      Continent  \n",
       "0            1.1  North America  \n",
       "1            1.2           Asia  \n",
       "2            0.4         Europe  \n",
       "3            2.0  South America  \n",
       "4            0.5         Europe  "
      ]
     },
     "execution_count": 15,
     "metadata": {},
     "output_type": "execute_result"
    }
   ],
   "source": [
    "#hide\n",
    "df_table = (pd.DataFrame(dict(Cases=dfc_cases, Deaths=dfc_deaths, PCases=dfp_cases, PDeaths=dfp_deaths))\n",
    "             .sort_values(by=['Cases', 'Deaths'], ascending=[False, False])\n",
    "             .reset_index())\n",
    "df_table.rename(columns={'index': 'Country/Region'}, inplace=True)\n",
    "for c in 'Cases, Deaths'.split(', '):\n",
    "    df_table[f'{c} (+)'] = (df_table[c] - df_table[f'P{c}']).clip(0)  # DATA BUG\n",
    "df_table['Fatality Rate'] = (100 * df_table['Deaths'] / df_table['Cases']).round(1)\n",
    "df_table['Continent'] = df_table['Country/Region'].map(mapping['map.continent'])\n",
    "df_table.head(5)"
   ]
  },
  {
   "cell_type": "code",
   "execution_count": 16,
   "id": "fewer-occasion",
   "metadata": {
    "execution": {
     "iopub.execute_input": "2022-08-12T12:17:43.441995Z",
     "iopub.status.busy": "2022-08-12T12:17:43.441173Z",
     "iopub.status.idle": "2022-08-12T12:17:43.444005Z",
     "shell.execute_reply": "2022-08-12T12:17:43.444611Z"
    },
    "papermill": {
     "duration": 0.051647,
     "end_time": "2022-08-12T12:17:43.444783",
     "exception": false,
     "start_time": "2022-08-12T12:17:43.393136",
     "status": "completed"
    },
    "tags": []
   },
   "outputs": [],
   "source": [
    "#hide\n",
    "#delete problematic countries from table\n",
    "df_table = df_table[~df_table['Country/Region'].isin(['Cape Verde', 'Cruise Ship', 'Kosovo'])]"
   ]
  },
  {
   "cell_type": "code",
   "execution_count": 17,
   "id": "related-center",
   "metadata": {
    "execution": {
     "iopub.execute_input": "2022-08-12T12:17:43.549912Z",
     "iopub.status.busy": "2022-08-12T12:17:43.549057Z",
     "iopub.status.idle": "2022-08-12T12:17:43.551983Z",
     "shell.execute_reply": "2022-08-12T12:17:43.552623Z"
    },
    "papermill": {
     "duration": 0.067427,
     "end_time": "2022-08-12T12:17:43.552790",
     "exception": false,
     "start_time": "2022-08-12T12:17:43.485363",
     "status": "completed"
    },
    "tags": []
   },
   "outputs": [],
   "source": [
    "#hide\n",
    "metrics = [df_table.columns[index] for index in [1,2,5,6]]\n",
    "# s_china = df_table[df_table['Country/Region'].eq('China')][metrics].sum().add_prefix('China ')\n",
    "s_us = df_table[df_table['Country/Region'].eq('US')][metrics].sum().add_prefix('US ')\n",
    "s_eu = df_table[df_table['Continent'].eq('Europe')][metrics].sum().add_prefix('EU ')\n",
    "s_ind = df_table[df_table['Country/Region'].eq('India')][metrics].sum().add_prefix('India ')\n",
    "summary = {'updated': pd.to_datetime(dt_today), 'since': pd.to_datetime(dt_yday)}\n",
    "summary = {'updated': pd.to_datetime(dt_today), 'since': pd.to_datetime(dt_yday)}\n",
    "summary = {**summary, **df_table[metrics].sum(), **s_ind, **s_us, **s_eu}"
   ]
  },
  {
   "cell_type": "code",
   "execution_count": 18,
   "id": "engaging-syndrome",
   "metadata": {
    "execution": {
     "iopub.execute_input": "2022-08-12T12:17:43.641685Z",
     "iopub.status.busy": "2022-08-12T12:17:43.640909Z",
     "iopub.status.idle": "2022-08-12T12:17:43.665019Z",
     "shell.execute_reply": "2022-08-12T12:17:43.664379Z"
    },
    "papermill": {
     "duration": 0.070539,
     "end_time": "2022-08-12T12:17:43.665196",
     "exception": false,
     "start_time": "2022-08-12T12:17:43.594657",
     "status": "completed"
    },
    "tags": []
   },
   "outputs": [],
   "source": [
    "#hide\n",
    "dft_ct_new_cases = dft_cases.groupby(COL_REGION)[dt_cols].sum().diff(axis=1).fillna(0).astype(int)"
   ]
  },
  {
   "cell_type": "code",
   "execution_count": 19,
   "id": "neutral-assignment",
   "metadata": {
    "execution": {
     "iopub.execute_input": "2022-08-12T12:17:43.756771Z",
     "iopub.status.busy": "2022-08-12T12:17:43.755964Z",
     "iopub.status.idle": "2022-08-12T12:17:43.759430Z",
     "shell.execute_reply": "2022-08-12T12:17:43.758713Z"
    },
    "papermill": {
     "duration": 0.052459,
     "end_time": "2022-08-12T12:17:43.759601",
     "exception": false,
     "start_time": "2022-08-12T12:17:43.707142",
     "status": "completed"
    },
    "tags": []
   },
   "outputs": [],
   "source": [
    "#hide\n",
    "everydaycases = dft_ct_new_cases.cumsum(axis=1)"
   ]
  },
  {
   "cell_type": "code",
   "execution_count": 20,
   "id": "parliamentary-calgary",
   "metadata": {
    "execution": {
     "iopub.execute_input": "2022-08-12T12:17:43.849721Z",
     "iopub.status.busy": "2022-08-12T12:17:43.848918Z",
     "iopub.status.idle": "2022-08-12T12:17:44.561113Z",
     "shell.execute_reply": "2022-08-12T12:17:44.559831Z"
    },
    "papermill": {
     "duration": 0.759792,
     "end_time": "2022-08-12T12:17:44.561269",
     "exception": false,
     "start_time": "2022-08-12T12:17:43.801477",
     "status": "completed"
    },
    "tags": []
   },
   "outputs": [],
   "source": [
    "#hide\n",
    "import pandas as pd\n",
    "import matplotlib.pyplot as plt\n",
    "import matplotlib.ticker as ticker\n",
    "import matplotlib.animation as animation\n",
    "from IPython.display import HTML"
   ]
  },
  {
   "cell_type": "code",
   "execution_count": 21,
   "id": "lasting-extraction",
   "metadata": {
    "execution": {
     "iopub.execute_input": "2022-08-12T12:17:44.653324Z",
     "iopub.status.busy": "2022-08-12T12:17:44.652482Z",
     "iopub.status.idle": "2022-08-12T12:17:44.662128Z",
     "shell.execute_reply": "2022-08-12T12:17:44.662747Z"
    },
    "papermill": {
     "duration": 0.059283,
     "end_time": "2022-08-12T12:17:44.662960",
     "exception": false,
     "start_time": "2022-08-12T12:17:44.603677",
     "status": "completed"
    },
    "tags": []
   },
   "outputs": [],
   "source": [
    "#hide\n",
    "t = everydaycases.stack()"
   ]
  },
  {
   "cell_type": "code",
   "execution_count": 22,
   "id": "premier-sleeve",
   "metadata": {
    "execution": {
     "iopub.execute_input": "2022-08-12T12:17:44.751379Z",
     "iopub.status.busy": "2022-08-12T12:17:44.750326Z",
     "iopub.status.idle": "2022-08-12T12:17:44.766429Z",
     "shell.execute_reply": "2022-08-12T12:17:44.765632Z"
    },
    "papermill": {
     "duration": 0.062797,
     "end_time": "2022-08-12T12:17:44.766885",
     "exception": false,
     "start_time": "2022-08-12T12:17:44.704088",
     "status": "completed"
    },
    "tags": []
   },
   "outputs": [],
   "source": [
    "#hide\n",
    "g = t.reset_index(['Country/Region'])"
   ]
  },
  {
   "cell_type": "code",
   "execution_count": 23,
   "id": "distributed-pittsburgh",
   "metadata": {
    "execution": {
     "iopub.execute_input": "2022-08-12T12:17:44.856583Z",
     "iopub.status.busy": "2022-08-12T12:17:44.855812Z",
     "iopub.status.idle": "2022-08-12T12:17:44.861035Z",
     "shell.execute_reply": "2022-08-12T12:17:44.860302Z"
    },
    "papermill": {
     "duration": 0.051901,
     "end_time": "2022-08-12T12:17:44.861176",
     "exception": false,
     "start_time": "2022-08-12T12:17:44.809275",
     "status": "completed"
    },
    "tags": []
   },
   "outputs": [],
   "source": [
    "#hide\n",
    "g.index.name = 'date'"
   ]
  },
  {
   "cell_type": "code",
   "execution_count": 24,
   "id": "naked-donor",
   "metadata": {
    "execution": {
     "iopub.execute_input": "2022-08-12T12:17:44.949118Z",
     "iopub.status.busy": "2022-08-12T12:17:44.948259Z",
     "iopub.status.idle": "2022-08-12T12:17:44.953334Z",
     "shell.execute_reply": "2022-08-12T12:17:44.952655Z"
    },
    "papermill": {
     "duration": 0.051913,
     "end_time": "2022-08-12T12:17:44.953474",
     "exception": false,
     "start_time": "2022-08-12T12:17:44.901561",
     "status": "completed"
    },
    "tags": []
   },
   "outputs": [],
   "source": [
    "# #hide\n",
    "# g = g.reset_index(['date'])"
   ]
  },
  {
   "cell_type": "code",
   "execution_count": 25,
   "id": "incomplete-mustang",
   "metadata": {
    "execution": {
     "iopub.execute_input": "2022-08-12T12:17:45.043547Z",
     "iopub.status.busy": "2022-08-12T12:17:45.042740Z",
     "iopub.status.idle": "2022-08-12T12:17:45.047229Z",
     "shell.execute_reply": "2022-08-12T12:17:45.047802Z"
    },
    "papermill": {
     "duration": 0.051891,
     "end_time": "2022-08-12T12:17:45.047962",
     "exception": false,
     "start_time": "2022-08-12T12:17:44.996071",
     "status": "completed"
    },
    "tags": []
   },
   "outputs": [],
   "source": [
    "#hide\n",
    "# g.head()"
   ]
  },
  {
   "cell_type": "code",
   "execution_count": 26,
   "id": "specific-kruger",
   "metadata": {
    "execution": {
     "iopub.execute_input": "2022-08-12T12:17:45.146902Z",
     "iopub.status.busy": "2022-08-12T12:17:45.145742Z",
     "iopub.status.idle": "2022-08-12T12:17:45.151526Z",
     "shell.execute_reply": "2022-08-12T12:17:45.152168Z"
    },
    "papermill": {
     "duration": 0.05684,
     "end_time": "2022-08-12T12:17:45.152411",
     "exception": false,
     "start_time": "2022-08-12T12:17:45.095571",
     "status": "completed"
    },
    "tags": []
   },
   "outputs": [],
   "source": [
    "#hide\n",
    "# g.columns = ['date','country','cases']"
   ]
  },
  {
   "cell_type": "code",
   "execution_count": 27,
   "id": "tender-conversion",
   "metadata": {
    "execution": {
     "iopub.execute_input": "2022-08-12T12:17:45.257718Z",
     "iopub.status.busy": "2022-08-12T12:17:45.256954Z",
     "iopub.status.idle": "2022-08-12T12:17:45.259821Z",
     "shell.execute_reply": "2022-08-12T12:17:45.259160Z"
    },
    "papermill": {
     "duration": 0.054352,
     "end_time": "2022-08-12T12:17:45.259971",
     "exception": false,
     "start_time": "2022-08-12T12:17:45.205619",
     "status": "completed"
    },
    "tags": []
   },
   "outputs": [],
   "source": [
    "#hide\n",
    "# g['continent'] = g.country"
   ]
  },
  {
   "cell_type": "code",
   "execution_count": 28,
   "id": "substantial-wilderness",
   "metadata": {
    "execution": {
     "iopub.execute_input": "2022-08-12T12:17:45.348849Z",
     "iopub.status.busy": "2022-08-12T12:17:45.348078Z",
     "iopub.status.idle": "2022-08-12T12:17:45.351485Z",
     "shell.execute_reply": "2022-08-12T12:17:45.350726Z"
    },
    "papermill": {
     "duration": 0.048815,
     "end_time": "2022-08-12T12:17:45.351676",
     "exception": false,
     "start_time": "2022-08-12T12:17:45.302861",
     "status": "completed"
    },
    "tags": []
   },
   "outputs": [],
   "source": [
    "#hide\n",
    "# cols = list(g.columns.values)"
   ]
  },
  {
   "cell_type": "code",
   "execution_count": 29,
   "id": "solved-farming",
   "metadata": {
    "execution": {
     "iopub.execute_input": "2022-08-12T12:17:45.455346Z",
     "iopub.status.busy": "2022-08-12T12:17:45.453272Z",
     "iopub.status.idle": "2022-08-12T12:17:45.456553Z",
     "shell.execute_reply": "2022-08-12T12:17:45.458039Z"
    },
    "papermill": {
     "duration": 0.063465,
     "end_time": "2022-08-12T12:17:45.458214",
     "exception": false,
     "start_time": "2022-08-12T12:17:45.394749",
     "status": "completed"
    },
    "tags": []
   },
   "outputs": [],
   "source": [
    "#hide\n",
    "# cols.insert(0, cols.pop())"
   ]
  },
  {
   "cell_type": "code",
   "execution_count": 30,
   "id": "executed-adoption",
   "metadata": {
    "execution": {
     "iopub.execute_input": "2022-08-12T12:17:45.544647Z",
     "iopub.status.busy": "2022-08-12T12:17:45.543878Z",
     "iopub.status.idle": "2022-08-12T12:17:45.547112Z",
     "shell.execute_reply": "2022-08-12T12:17:45.546490Z"
    },
    "papermill": {
     "duration": 0.048183,
     "end_time": "2022-08-12T12:17:45.547293",
     "exception": false,
     "start_time": "2022-08-12T12:17:45.499110",
     "status": "completed"
    },
    "tags": []
   },
   "outputs": [],
   "source": [
    "#hide\n",
    "# g = g[cols]"
   ]
  },
  {
   "cell_type": "code",
   "execution_count": 31,
   "id": "subject-dublin",
   "metadata": {
    "execution": {
     "iopub.execute_input": "2022-08-12T12:17:45.638140Z",
     "iopub.status.busy": "2022-08-12T12:17:45.637218Z",
     "iopub.status.idle": "2022-08-12T12:17:45.640640Z",
     "shell.execute_reply": "2022-08-12T12:17:45.639922Z"
    },
    "papermill": {
     "duration": 0.051804,
     "end_time": "2022-08-12T12:17:45.640781",
     "exception": false,
     "start_time": "2022-08-12T12:17:45.588977",
     "status": "completed"
    },
    "tags": []
   },
   "outputs": [],
   "source": [
    "#hide\n",
    "# g['continent'] = g['continent'].map(mapping['map.continent'])"
   ]
  },
  {
   "cell_type": "code",
   "execution_count": 32,
   "id": "freelance-scout",
   "metadata": {
    "execution": {
     "iopub.execute_input": "2022-08-12T12:17:45.732596Z",
     "iopub.status.busy": "2022-08-12T12:17:45.731783Z",
     "iopub.status.idle": "2022-08-12T12:17:45.734454Z",
     "shell.execute_reply": "2022-08-12T12:17:45.735162Z"
    },
    "papermill": {
     "duration": 0.051839,
     "end_time": "2022-08-12T12:17:45.735359",
     "exception": false,
     "start_time": "2022-08-12T12:17:45.683520",
     "status": "completed"
    },
    "tags": []
   },
   "outputs": [],
   "source": [
    "#hide\n",
    "# g.head()"
   ]
  },
  {
   "cell_type": "code",
   "execution_count": 33,
   "id": "limited-engine",
   "metadata": {
    "execution": {
     "iopub.execute_input": "2022-08-12T12:17:45.830796Z",
     "iopub.status.busy": "2022-08-12T12:17:45.829249Z",
     "iopub.status.idle": "2022-08-12T12:17:45.834086Z",
     "shell.execute_reply": "2022-08-12T12:17:45.835775Z"
    },
    "papermill": {
     "duration": 0.059279,
     "end_time": "2022-08-12T12:17:45.835952",
     "exception": false,
     "start_time": "2022-08-12T12:17:45.776673",
     "status": "completed"
    },
    "tags": []
   },
   "outputs": [],
   "source": [
    "# hide\n",
    "# g['date'] = g['date'].astype('datetime64[ns]')"
   ]
  },
  {
   "cell_type": "code",
   "execution_count": 34,
   "id": "sophisticated-supervisor",
   "metadata": {
    "execution": {
     "iopub.execute_input": "2022-08-12T12:17:45.929644Z",
     "iopub.status.busy": "2022-08-12T12:17:45.928064Z",
     "iopub.status.idle": "2022-08-12T12:17:45.930618Z",
     "shell.execute_reply": "2022-08-12T12:17:45.931250Z"
    },
    "papermill": {
     "duration": 0.050817,
     "end_time": "2022-08-12T12:17:45.931410",
     "exception": false,
     "start_time": "2022-08-12T12:17:45.880593",
     "status": "completed"
    },
    "tags": []
   },
   "outputs": [],
   "source": [
    "#hide\n",
    "# g['date'] = g.date.dt.dayofyear"
   ]
  },
  {
   "cell_type": "code",
   "execution_count": 35,
   "id": "inside-dubai",
   "metadata": {
    "execution": {
     "iopub.execute_input": "2022-08-12T12:17:46.022513Z",
     "iopub.status.busy": "2022-08-12T12:17:46.021680Z",
     "iopub.status.idle": "2022-08-12T12:17:46.024837Z",
     "shell.execute_reply": "2022-08-12T12:17:46.024044Z"
    },
    "papermill": {
     "duration": 0.051173,
     "end_time": "2022-08-12T12:17:46.024969",
     "exception": false,
     "start_time": "2022-08-12T12:17:45.973796",
     "status": "completed"
    },
    "tags": []
   },
   "outputs": [],
   "source": [
    "#hide\n",
    "# g = g.rename(columns= {'continent':'group','country':'name','cases':'value'})"
   ]
  },
  {
   "cell_type": "code",
   "execution_count": 36,
   "id": "fleet-motorcycle",
   "metadata": {
    "execution": {
     "iopub.execute_input": "2022-08-12T12:17:46.128111Z",
     "iopub.status.busy": "2022-08-12T12:17:46.127211Z",
     "iopub.status.idle": "2022-08-12T12:17:46.129499Z",
     "shell.execute_reply": "2022-08-12T12:17:46.130422Z"
    },
    "papermill": {
     "duration": 0.0621,
     "end_time": "2022-08-12T12:17:46.130607",
     "exception": false,
     "start_time": "2022-08-12T12:17:46.068507",
     "status": "completed"
    },
    "tags": []
   },
   "outputs": [],
   "source": [
    "#hide\n",
    "# cols = ['name','group','day','value']"
   ]
  },
  {
   "cell_type": "code",
   "execution_count": 37,
   "id": "continued-sleeping",
   "metadata": {
    "execution": {
     "iopub.execute_input": "2022-08-12T12:17:46.221839Z",
     "iopub.status.busy": "2022-08-12T12:17:46.221059Z",
     "iopub.status.idle": "2022-08-12T12:17:46.224375Z",
     "shell.execute_reply": "2022-08-12T12:17:46.223420Z"
    },
    "papermill": {
     "duration": 0.04995,
     "end_time": "2022-08-12T12:17:46.224600",
     "exception": false,
     "start_time": "2022-08-12T12:17:46.174650",
     "status": "completed"
    },
    "tags": []
   },
   "outputs": [],
   "source": [
    "#hide\n",
    "# g.rename(columns= {'date':'day'},inplace = True)"
   ]
  },
  {
   "cell_type": "code",
   "execution_count": 38,
   "id": "major-fight",
   "metadata": {
    "execution": {
     "iopub.execute_input": "2022-08-12T12:17:46.316030Z",
     "iopub.status.busy": "2022-08-12T12:17:46.315259Z",
     "iopub.status.idle": "2022-08-12T12:17:46.318251Z",
     "shell.execute_reply": "2022-08-12T12:17:46.318825Z"
    },
    "papermill": {
     "duration": 0.048864,
     "end_time": "2022-08-12T12:17:46.318992",
     "exception": false,
     "start_time": "2022-08-12T12:17:46.270128",
     "status": "completed"
    },
    "tags": []
   },
   "outputs": [],
   "source": [
    "#hide\n",
    "# g = g[cols]"
   ]
  },
  {
   "cell_type": "code",
   "execution_count": 39,
   "id": "structured-mobile",
   "metadata": {
    "execution": {
     "iopub.execute_input": "2022-08-12T12:17:46.406092Z",
     "iopub.status.busy": "2022-08-12T12:17:46.405325Z",
     "iopub.status.idle": "2022-08-12T12:17:46.407865Z",
     "shell.execute_reply": "2022-08-12T12:17:46.407070Z"
    },
    "papermill": {
     "duration": 0.047853,
     "end_time": "2022-08-12T12:17:46.408003",
     "exception": false,
     "start_time": "2022-08-12T12:17:46.360150",
     "status": "completed"
    },
    "tags": []
   },
   "outputs": [],
   "source": [
    "# #hide\n",
    "# g = g[g.group.notna()]"
   ]
  },
  {
   "cell_type": "code",
   "execution_count": 40,
   "id": "determined-closing",
   "metadata": {
    "execution": {
     "iopub.execute_input": "2022-08-12T12:17:46.509586Z",
     "iopub.status.busy": "2022-08-12T12:17:46.508394Z",
     "iopub.status.idle": "2022-08-12T12:17:46.513921Z",
     "shell.execute_reply": "2022-08-12T12:17:46.511510Z"
    },
    "papermill": {
     "duration": 0.055024,
     "end_time": "2022-08-12T12:17:46.514070",
     "exception": false,
     "start_time": "2022-08-12T12:17:46.459046",
     "status": "completed"
    },
    "tags": []
   },
   "outputs": [],
   "source": [
    "# #hide\n",
    "# colors = dict(zip(\n",
    "#     [\"Oceania\", \"Europe\", \"Asia\", \"South America\", \"Middle East\", \"North America\", \"Africa\"],\n",
    "#     [\"#adb0ff\", \"#ffb3ff\", \"#90d595\", \"#e48381\", \"#aafbff\", \"#f7bb5f\", \"#eafb50\"]\n",
    "# ))\n",
    "# group_lk = g.set_index('name')['group'].to_dict()"
   ]
  },
  {
   "cell_type": "code",
   "execution_count": null,
   "id": "gross-drinking",
   "metadata": {
    "papermill": {
     "duration": 0.041526,
     "end_time": "2022-08-12T12:17:46.606511",
     "exception": false,
     "start_time": "2022-08-12T12:17:46.564985",
     "status": "completed"
    },
    "tags": []
   },
   "outputs": [],
   "source": []
  },
  {
   "cell_type": "code",
   "execution_count": 41,
   "id": "subject-macintosh",
   "metadata": {
    "execution": {
     "iopub.execute_input": "2022-08-12T12:17:46.694824Z",
     "iopub.status.busy": "2022-08-12T12:17:46.693748Z",
     "iopub.status.idle": "2022-08-12T12:17:46.697085Z",
     "shell.execute_reply": "2022-08-12T12:17:46.696434Z"
    },
    "papermill": {
     "duration": 0.049522,
     "end_time": "2022-08-12T12:17:46.697224",
     "exception": false,
     "start_time": "2022-08-12T12:17:46.647702",
     "status": "completed"
    },
    "tags": []
   },
   "outputs": [],
   "source": [
    "# #hide\n",
    "# fig, ax = plt.subplots(figsize=(15, 8))\n",
    "\n",
    "# def draw_barchart(current_day):\n",
    "#     dff = g[g['day'].eq(current_day)].sort_values(by='value', ascending=True).tail(10)\n",
    "#     ax.clear()\n",
    "#     ax.barh(dff['name'], dff['value'], color=[colors[group_lk[x]] for x in dff['name']])\n",
    "#     dx = dff['value'].max() / 200\n",
    "    \n",
    "#     for i, (value, name) in enumerate(zip(dff['value'], dff['name'])):\n",
    "#         ax.text(value-dx, i,     name,           size=14, weight=600, ha='right', va='bottom')\n",
    "#         ax.text(value-dx, i-.25, group_lk[name], size=10, color='#444444', ha='right', va='baseline')\n",
    "#         ax.text(value+dx, i,     f'{value:,.0f}',  size=14, ha='left',  va='center')\n",
    "#     ax.text(1, 0.4, current_day, transform=ax.transAxes, color='#777777', size=46, ha='right', weight=800)\n",
    "#     ax.text(0, 1.06, 'Population (thousands)', transform=ax.transAxes, size=12, color='#777777')\n",
    "#     ax.xaxis.set_major_formatter(ticker.StrMethodFormatter('{x:,.0f}'))\n",
    "#     ax.xaxis.set_ticks_position('top')\n",
    "#     ax.tick_params(axis='x', colors='#777777', labelsize=12)\n",
    "#     ax.set_yticks([])\n",
    "#     ax.margins(0, 0.01)\n",
    "#     ax.grid(which='major', axis='x', linestyle='-')\n",
    "#     ax.set_axisbelow(True)\n",
    "    \n",
    "#     ax.text(0, 1.15, 'Coronavirus',\n",
    "#             transform=ax.transAxes, size=24, weight=600, ha='left', va='top')\n",
    "# #     ax.text(1, 0, 'by @pratapvardhan; credit @jburnmurdoch', transform=ax.transAxes, color='#777777', ha='right',\n",
    "# #             bbox=dict(facecolor='white', alpha=0.8, edgecolor='white'))\n",
    "#     plt.box(False)"
   ]
  },
  {
   "cell_type": "code",
   "execution_count": 42,
   "id": "sexual-wages",
   "metadata": {
    "execution": {
     "iopub.execute_input": "2022-08-12T12:17:46.801793Z",
     "iopub.status.busy": "2022-08-12T12:17:46.801014Z",
     "iopub.status.idle": "2022-08-12T12:17:46.804285Z",
     "shell.execute_reply": "2022-08-12T12:17:46.803662Z"
    },
    "papermill": {
     "duration": 0.063415,
     "end_time": "2022-08-12T12:17:46.804424",
     "exception": false,
     "start_time": "2022-08-12T12:17:46.741009",
     "status": "completed"
    },
    "tags": []
   },
   "outputs": [],
   "source": [
    "# #hide_input\n",
    "# fig, ax = plt.subplots(figsize=(15, 8))\n",
    "# animator = animation.FuncAnimation(fig, draw_barchart, frames=range(g.day.values.min(), g.day.values.max()))\n",
    "# HTML(animator.to_jshtml())\n",
    "# # or use animator.to_html5_video() or animator.save() "
   ]
  },
  {
   "cell_type": "code",
   "execution_count": null,
   "id": "australian-container",
   "metadata": {
    "papermill": {
     "duration": 0.041057,
     "end_time": "2022-08-12T12:17:46.887277",
     "exception": false,
     "start_time": "2022-08-12T12:17:46.846220",
     "status": "completed"
    },
    "tags": []
   },
   "outputs": [],
   "source": []
  },
  {
   "cell_type": "code",
   "execution_count": null,
   "id": "mediterranean-pontiac",
   "metadata": {
    "papermill": {
     "duration": 0.046419,
     "end_time": "2022-08-12T12:17:46.979366",
     "exception": false,
     "start_time": "2022-08-12T12:17:46.932947",
     "status": "completed"
    },
    "tags": []
   },
   "outputs": [],
   "source": []
  },
  {
   "cell_type": "code",
   "execution_count": null,
   "id": "aging-legislature",
   "metadata": {
    "papermill": {
     "duration": 0.042608,
     "end_time": "2022-08-12T12:17:47.064201",
     "exception": false,
     "start_time": "2022-08-12T12:17:47.021593",
     "status": "completed"
    },
    "tags": []
   },
   "outputs": [],
   "source": []
  }
 ],
 "metadata": {
  "kernelspec": {
   "display_name": "Python 3",
   "language": "python",
   "name": "python3"
  },
  "language_info": {
   "codemirror_mode": {
    "name": "ipython",
    "version": 3
   },
   "file_extension": ".py",
   "mimetype": "text/x-python",
   "name": "python",
   "nbconvert_exporter": "python",
   "pygments_lexer": "ipython3",
   "version": "3.6.15"
  },
  "papermill": {
   "duration": 7.860654,
   "end_time": "2022-08-12T12:17:47.529186",
   "environment_variables": {},
   "exception": null,
   "input_path": "2020-03-21-covid19exp.ipynb",
   "output_path": "2020-03-21-covid19exp.ipynb",
   "parameters": {},
   "start_time": "2022-08-12T12:17:39.668532",
   "version": "2.0.0"
  }
 },
 "nbformat": 4,
 "nbformat_minor": 5
}