{
 "cells": [
  {
   "cell_type": "markdown",
   "id": "muslim-click",
   "metadata": {
    "papermill": {
     "duration": 0.037203,
     "end_time": "2022-08-03T00:50:04.612761",
     "exception": false,
     "start_time": "2022-08-03T00:50:04.575558",
     "status": "completed"
    },
    "tags": []
   },
   "source": [
    "# COVID-19 Case Race\n",
    "> A race chart to see rising cases around the world\n",
    "\n",
    "- author: Hargun Oberoi\n",
    "- image: images/covid-overview.png\n",
    "- hide: false\n",
    "- badges: false"
   ]
  },
  {
   "cell_type": "code",
   "execution_count": 1,
   "id": "proof-material",
   "metadata": {
    "execution": {
     "iopub.execute_input": "2022-08-03T00:50:04.685781Z",
     "iopub.status.busy": "2022-08-03T00:50:04.684951Z",
     "iopub.status.idle": "2022-08-03T00:50:05.076862Z",
     "shell.execute_reply": "2022-08-03T00:50:05.076283Z"
    },
    "papermill": {
     "duration": 0.432784,
     "end_time": "2022-08-03T00:50:05.077004",
     "exception": false,
     "start_time": "2022-08-03T00:50:04.644220",
     "status": "completed"
    },
    "tags": []
   },
   "outputs": [],
   "source": [
    "#hide\n",
    "import numpy as np\n",
    "import pandas as pd\n",
    "from jinja2 import Template\n",
    "from IPython.display import HTML"
   ]
  },
  {
   "cell_type": "code",
   "execution_count": 2,
   "id": "developed-terminology",
   "metadata": {
    "execution": {
     "iopub.execute_input": "2022-08-03T00:50:05.144012Z",
     "iopub.status.busy": "2022-08-03T00:50:05.143250Z",
     "iopub.status.idle": "2022-08-03T00:50:05.146314Z",
     "shell.execute_reply": "2022-08-03T00:50:05.145789Z"
    },
    "papermill": {
     "duration": 0.039039,
     "end_time": "2022-08-03T00:50:05.146458",
     "exception": false,
     "start_time": "2022-08-03T00:50:05.107419",
     "status": "completed"
    },
    "tags": []
   },
   "outputs": [],
   "source": [
    "#hide\n",
    "\n",
    "# FETCH\n",
    "base_url = 'https://raw.githubusercontent.com/pratapvardhan/notebooks/master/covid19/'\n",
    "paths = {\n",
    "    'mapping': base_url + 'mapping_countries.csv',\n",
    "    'overview': base_url + 'overview.tpl'\n",
    "}"
   ]
  },
  {
   "cell_type": "code",
   "execution_count": 3,
   "id": "dynamic-saver",
   "metadata": {
    "execution": {
     "iopub.execute_input": "2022-08-03T00:50:05.216370Z",
     "iopub.status.busy": "2022-08-03T00:50:05.215508Z",
     "iopub.status.idle": "2022-08-03T00:50:05.221451Z",
     "shell.execute_reply": "2022-08-03T00:50:05.221932Z"
    },
    "papermill": {
     "duration": 0.045188,
     "end_time": "2022-08-03T00:50:05.222085",
     "exception": false,
     "start_time": "2022-08-03T00:50:05.176897",
     "status": "completed"
    },
    "tags": []
   },
   "outputs": [
    {
     "data": {
      "text/plain": [
       "'https://raw.githubusercontent.com/pratapvardhan/notebooks/master/covid19/mapping_countries.csv'"
      ]
     },
     "execution_count": 3,
     "metadata": {},
     "output_type": "execute_result"
    }
   ],
   "source": [
    "#hide\n",
    "paths['mapping']"
   ]
  },
  {
   "cell_type": "code",
   "execution_count": 4,
   "id": "urban-software",
   "metadata": {
    "execution": {
     "iopub.execute_input": "2022-08-03T00:50:05.290262Z",
     "iopub.status.busy": "2022-08-03T00:50:05.289526Z",
     "iopub.status.idle": "2022-08-03T00:50:05.292938Z",
     "shell.execute_reply": "2022-08-03T00:50:05.292369Z"
    },
    "papermill": {
     "duration": 0.040429,
     "end_time": "2022-08-03T00:50:05.293121",
     "exception": false,
     "start_time": "2022-08-03T00:50:05.252692",
     "status": "completed"
    },
    "tags": []
   },
   "outputs": [],
   "source": [
    "#hide\n",
    "def get_mappings(url):\n",
    "    df = pd.read_csv(url)\n",
    "    return {\n",
    "        'df': df,\n",
    "        'replace.country': dict(df.dropna(subset=['Name']).set_index('Country')['Name']),\n",
    "        'map.continent': dict(df.set_index('Name')['Continent'])\n",
    "    }"
   ]
  },
  {
   "cell_type": "code",
   "execution_count": 5,
   "id": "intimate-machinery",
   "metadata": {
    "execution": {
     "iopub.execute_input": "2022-08-03T00:50:05.360746Z",
     "iopub.status.busy": "2022-08-03T00:50:05.360082Z",
     "iopub.status.idle": "2022-08-03T00:50:05.411721Z",
     "shell.execute_reply": "2022-08-03T00:50:05.411204Z"
    },
    "papermill": {
     "duration": 0.087887,
     "end_time": "2022-08-03T00:50:05.411854",
     "exception": false,
     "start_time": "2022-08-03T00:50:05.323967",
     "status": "completed"
    },
    "tags": []
   },
   "outputs": [],
   "source": [
    "#hide\n",
    "mapping = get_mappings(paths['mapping'])"
   ]
  },
  {
   "cell_type": "code",
   "execution_count": 6,
   "id": "certified-tactics",
   "metadata": {
    "execution": {
     "iopub.execute_input": "2022-08-03T00:50:05.480192Z",
     "iopub.status.busy": "2022-08-03T00:50:05.479433Z",
     "iopub.status.idle": "2022-08-03T00:50:05.482338Z",
     "shell.execute_reply": "2022-08-03T00:50:05.481671Z"
    },
    "papermill": {
     "duration": 0.039624,
     "end_time": "2022-08-03T00:50:05.482469",
     "exception": false,
     "start_time": "2022-08-03T00:50:05.442845",
     "status": "completed"
    },
    "tags": []
   },
   "outputs": [],
   "source": [
    "#hide\n",
    "def get_template(path):\n",
    "    from urllib.parse import urlparse\n",
    "    if bool(urlparse(path).netloc):\n",
    "        from urllib.request import urlopen\n",
    "        return urlopen(path).read().decode('utf8')\n",
    "    return open(path).read()"
   ]
  },
  {
   "cell_type": "code",
   "execution_count": 7,
   "id": "realistic-blast",
   "metadata": {
    "execution": {
     "iopub.execute_input": "2022-08-03T00:50:05.549728Z",
     "iopub.status.busy": "2022-08-03T00:50:05.548932Z",
     "iopub.status.idle": "2022-08-03T00:50:05.550881Z",
     "shell.execute_reply": "2022-08-03T00:50:05.551503Z"
    },
    "papermill": {
     "duration": 0.038612,
     "end_time": "2022-08-03T00:50:05.551645",
     "exception": false,
     "start_time": "2022-08-03T00:50:05.513033",
     "status": "completed"
    },
    "tags": []
   },
   "outputs": [],
   "source": [
    "#hide\n",
    "def get_frame(name):\n",
    "    url = (\n",
    "        'https://raw.githubusercontent.com/CSSEGISandData/COVID-19/master/csse_covid_19_data/'\n",
    "        f'csse_covid_19_time_series/time_series_covid19_{name}_global.csv')\n",
    "    df = pd.read_csv(url)\n",
    "    # rename countries\n",
    "    df['Country/Region'] = df['Country/Region'].replace(mapping['replace.country'])\n",
    "    return df"
   ]
  },
  {
   "cell_type": "code",
   "execution_count": 8,
   "id": "affiliated-characterization",
   "metadata": {
    "execution": {
     "iopub.execute_input": "2022-08-03T00:50:05.620793Z",
     "iopub.status.busy": "2022-08-03T00:50:05.620086Z",
     "iopub.status.idle": "2022-08-03T00:50:05.623620Z",
     "shell.execute_reply": "2022-08-03T00:50:05.623081Z"
    },
    "papermill": {
     "duration": 0.041405,
     "end_time": "2022-08-03T00:50:05.623746",
     "exception": false,
     "start_time": "2022-08-03T00:50:05.582341",
     "status": "completed"
    },
    "tags": []
   },
   "outputs": [],
   "source": [
    "#hide\n",
    "def get_dates(df):\n",
    "    dt_cols = df.columns[~df.columns.isin(['Province/State', 'Country/Region', 'Lat', 'Long'])]\n",
    "    LAST_DATE_I = -1\n",
    "    # sometimes last column may be empty, then go backwards\n",
    "    for i in range(-1, -len(dt_cols), -1):\n",
    "        if not df[dt_cols[i]].fillna(0).eq(0).all():\n",
    "            LAST_DATE_I = i\n",
    "            break\n",
    "    return LAST_DATE_I, dt_cols"
   ]
  },
  {
   "cell_type": "code",
   "execution_count": 9,
   "id": "recent-optimization",
   "metadata": {
    "execution": {
     "iopub.execute_input": "2022-08-03T00:50:05.691300Z",
     "iopub.status.busy": "2022-08-03T00:50:05.690609Z",
     "iopub.status.idle": "2022-08-03T00:50:06.229216Z",
     "shell.execute_reply": "2022-08-03T00:50:06.228611Z"
    },
    "papermill": {
     "duration": 0.575008,
     "end_time": "2022-08-03T00:50:06.229353",
     "exception": false,
     "start_time": "2022-08-03T00:50:05.654345",
     "status": "completed"
    },
    "tags": []
   },
   "outputs": [],
   "source": [
    "#hide\n",
    "COL_REGION = 'Country/Region'\n",
    "# Confirmed, Recovered, Deaths\n",
    "df = get_frame('confirmed')\n",
    "# dft_: timeseries, dfc_: today country agg\n",
    "dft_cases = df\n",
    "dft_deaths = get_frame('deaths')\n",
    "dft_recovered = get_frame('recovered')\n",
    "LAST_DATE_I, dt_cols = get_dates(df)"
   ]
  },
  {
   "cell_type": "code",
   "execution_count": 10,
   "id": "absolute-copper",
   "metadata": {
    "execution": {
     "iopub.execute_input": "2022-08-03T00:50:06.298208Z",
     "iopub.status.busy": "2022-08-03T00:50:06.297435Z",
     "iopub.status.idle": "2022-08-03T00:50:06.299487Z",
     "shell.execute_reply": "2022-08-03T00:50:06.299961Z"
    },
    "papermill": {
     "duration": 0.039897,
     "end_time": "2022-08-03T00:50:06.300103",
     "exception": false,
     "start_time": "2022-08-03T00:50:06.260206",
     "status": "completed"
    },
    "tags": []
   },
   "outputs": [],
   "source": [
    "#hide\n",
    "LAST_DATE_I, dt_cols = get_dates(df)\n",
    "dt_today =dt_cols[LAST_DATE_I]\n",
    "# dt_5day = dt_cols[LAST_DATE_I - 5]\n",
    "dt_yday = dt_cols[LAST_DATE_I - 1]"
   ]
  },
  {
   "cell_type": "code",
   "execution_count": 11,
   "id": "restricted-sheriff",
   "metadata": {
    "execution": {
     "iopub.execute_input": "2022-08-03T00:50:06.368268Z",
     "iopub.status.busy": "2022-08-03T00:50:06.367620Z",
     "iopub.status.idle": "2022-08-03T00:50:06.376529Z",
     "shell.execute_reply": "2022-08-03T00:50:06.376024Z"
    },
    "papermill": {
     "duration": 0.045865,
     "end_time": "2022-08-03T00:50:06.376660",
     "exception": false,
     "start_time": "2022-08-03T00:50:06.330795",
     "status": "completed"
    },
    "tags": []
   },
   "outputs": [],
   "source": [
    "#hide\n",
    "dfc_cases = dft_cases.groupby(COL_REGION)[dt_today].sum()\n",
    "dfc_deaths = dft_deaths.groupby(COL_REGION)[dt_today].sum()\n",
    "# dfp_cases = dft_cases.groupby(COL_REGION)[dt_5day].sum()\n",
    "# dfp_deaths = dft_deaths.groupby(COL_REGION)[dt_5day].sum()\n",
    "dfp_cases = dft_cases.groupby(COL_REGION)[dt_yday].sum()\n",
    "dfp_deaths = dft_deaths.groupby(COL_REGION)[dt_yday].sum()"
   ]
  },
  {
   "cell_type": "code",
   "execution_count": 12,
   "id": "deluxe-hepatitis",
   "metadata": {
    "execution": {
     "iopub.execute_input": "2022-08-03T00:50:06.445291Z",
     "iopub.status.busy": "2022-08-03T00:50:06.444512Z",
     "iopub.status.idle": "2022-08-03T00:50:06.450595Z",
     "shell.execute_reply": "2022-08-03T00:50:06.450086Z"
    },
    "papermill": {
     "duration": 0.043265,
     "end_time": "2022-08-03T00:50:06.450719",
     "exception": false,
     "start_time": "2022-08-03T00:50:06.407454",
     "status": "completed"
    },
    "tags": []
   },
   "outputs": [],
   "source": [
    "#hide\n",
    "df_table = (pd.DataFrame(dict(Cases = dfc_cases, Deaths = dfc_deaths, PCases = dfp_cases, PDeaths = dfp_deaths))\n",
    "            .sort_values(by = ['Cases','Deaths'], ascending = [False, False])\n",
    "            .reset_index())"
   ]
  },
  {
   "cell_type": "code",
   "execution_count": 13,
   "id": "educational-chancellor",
   "metadata": {
    "execution": {
     "iopub.execute_input": "2022-08-03T00:50:06.531556Z",
     "iopub.status.busy": "2022-08-03T00:50:06.530909Z",
     "iopub.status.idle": "2022-08-03T00:50:06.540429Z",
     "shell.execute_reply": "2022-08-03T00:50:06.539937Z"
    },
    "papermill": {
     "duration": 0.059256,
     "end_time": "2022-08-03T00:50:06.540550",
     "exception": false,
     "start_time": "2022-08-03T00:50:06.481294",
     "status": "completed"
    },
    "tags": []
   },
   "outputs": [
    {
     "data": {
      "text/html": [
       "<div>\n",
       "<style scoped>\n",
       "    .dataframe tbody tr th:only-of-type {\n",
       "        vertical-align: middle;\n",
       "    }\n",
       "\n",
       "    .dataframe tbody tr th {\n",
       "        vertical-align: top;\n",
       "    }\n",
       "\n",
       "    .dataframe thead th {\n",
       "        text-align: right;\n",
       "    }\n",
       "</style>\n",
       "<table border=\"1\" class=\"dataframe\">\n",
       "  <thead>\n",
       "    <tr style=\"text-align: right;\">\n",
       "      <th></th>\n",
       "      <th>Country/Region</th>\n",
       "      <th>Cases</th>\n",
       "      <th>Deaths</th>\n",
       "      <th>PCases</th>\n",
       "      <th>PDeaths</th>\n",
       "      <th>Cases (+)</th>\n",
       "      <th>Deaths (+)</th>\n",
       "      <th>Fatality Rate</th>\n",
       "      <th>Continent</th>\n",
       "    </tr>\n",
       "  </thead>\n",
       "  <tbody>\n",
       "    <tr>\n",
       "      <th>0</th>\n",
       "      <td>US</td>\n",
       "      <td>91472835</td>\n",
       "      <td>1030498</td>\n",
       "      <td>91331830</td>\n",
       "      <td>1029939</td>\n",
       "      <td>141005</td>\n",
       "      <td>559</td>\n",
       "      <td>1.13</td>\n",
       "      <td>North America</td>\n",
       "    </tr>\n",
       "    <tr>\n",
       "      <th>1</th>\n",
       "      <td>India</td>\n",
       "      <td>44050009</td>\n",
       "      <td>526430</td>\n",
       "      <td>44036275</td>\n",
       "      <td>526396</td>\n",
       "      <td>13734</td>\n",
       "      <td>34</td>\n",
       "      <td>1.20</td>\n",
       "      <td>Asia</td>\n",
       "    </tr>\n",
       "    <tr>\n",
       "      <th>2</th>\n",
       "      <td>France</td>\n",
       "      <td>34077286</td>\n",
       "      <td>153219</td>\n",
       "      <td>33997224</td>\n",
       "      <td>153023</td>\n",
       "      <td>80062</td>\n",
       "      <td>196</td>\n",
       "      <td>0.45</td>\n",
       "      <td>Europe</td>\n",
       "    </tr>\n",
       "    <tr>\n",
       "      <th>3</th>\n",
       "      <td>Brazil</td>\n",
       "      <td>33855964</td>\n",
       "      <td>678715</td>\n",
       "      <td>33833900</td>\n",
       "      <td>678514</td>\n",
       "      <td>22064</td>\n",
       "      <td>201</td>\n",
       "      <td>2.00</td>\n",
       "      <td>South America</td>\n",
       "    </tr>\n",
       "    <tr>\n",
       "      <th>4</th>\n",
       "      <td>Germany</td>\n",
       "      <td>30956873</td>\n",
       "      <td>144150</td>\n",
       "      <td>30854175</td>\n",
       "      <td>143979</td>\n",
       "      <td>102698</td>\n",
       "      <td>171</td>\n",
       "      <td>0.47</td>\n",
       "      <td>Europe</td>\n",
       "    </tr>\n",
       "  </tbody>\n",
       "</table>\n",
       "</div>"
      ],
      "text/plain": [
       "  Country/Region     Cases   Deaths    PCases  PDeaths  Cases (+)  Deaths (+)  \\\n",
       "0             US  91472835  1030498  91331830  1029939     141005         559   \n",
       "1          India  44050009   526430  44036275   526396      13734          34   \n",
       "2         France  34077286   153219  33997224   153023      80062         196   \n",
       "3         Brazil  33855964   678715  33833900   678514      22064         201   \n",
       "4        Germany  30956873   144150  30854175   143979     102698         171   \n",
       "\n",
       "   Fatality Rate      Continent  \n",
       "0           1.13  North America  \n",
       "1           1.20           Asia  \n",
       "2           0.45         Europe  \n",
       "3           2.00  South America  \n",
       "4           0.47         Europe  "
      ]
     },
     "execution_count": 13,
     "metadata": {},
     "output_type": "execute_result"
    }
   ],
   "source": [
    "#hide\n",
    "for c in 'Cases, Deaths'.split(', '):\n",
    "    df_table[f'{c} (+)'] = (df_table[c] - df_table[f'P{c}']).clip(0)\n",
    "    #Clip ça veut dire, les chiffres negatif sont interdit\n",
    "df_table['Fatality Rate'] = (100* df_table['Deaths']/ df_table['Cases']).round(2)\n",
    "df_table['Continent'] = df_table['Country/Region'].map(mapping['map.continent'])\n",
    "df_table.head(5)"
   ]
  },
  {
   "cell_type": "code",
   "execution_count": 14,
   "id": "aboriginal-bulgaria",
   "metadata": {
    "execution": {
     "iopub.execute_input": "2022-08-03T00:50:06.607290Z",
     "iopub.status.busy": "2022-08-03T00:50:06.606547Z",
     "iopub.status.idle": "2022-08-03T00:50:06.612961Z",
     "shell.execute_reply": "2022-08-03T00:50:06.613589Z"
    },
    "papermill": {
     "duration": 0.042094,
     "end_time": "2022-08-03T00:50:06.613736",
     "exception": false,
     "start_time": "2022-08-03T00:50:06.571642",
     "status": "completed"
    },
    "tags": []
   },
   "outputs": [],
   "source": [
    "#hide\n",
    "#delete problematic countries from table\n",
    "df_table = df_table[~df_table['Country/Region'].isin(['Cape Verde', 'Cruise Ship', 'Kosovo'])]"
   ]
  },
  {
   "cell_type": "code",
   "execution_count": 15,
   "id": "fantastic-effect",
   "metadata": {
    "execution": {
     "iopub.execute_input": "2022-08-03T00:50:06.686165Z",
     "iopub.status.busy": "2022-08-03T00:50:06.685453Z",
     "iopub.status.idle": "2022-08-03T00:50:06.705387Z",
     "shell.execute_reply": "2022-08-03T00:50:06.704830Z"
    },
    "papermill": {
     "duration": 0.059524,
     "end_time": "2022-08-03T00:50:06.705509",
     "exception": false,
     "start_time": "2022-08-03T00:50:06.645985",
     "status": "completed"
    },
    "tags": []
   },
   "outputs": [
    {
     "data": {
      "text/html": [
       "<div>\n",
       "<style scoped>\n",
       "    .dataframe tbody tr th:only-of-type {\n",
       "        vertical-align: middle;\n",
       "    }\n",
       "\n",
       "    .dataframe tbody tr th {\n",
       "        vertical-align: top;\n",
       "    }\n",
       "\n",
       "    .dataframe thead th {\n",
       "        text-align: right;\n",
       "    }\n",
       "</style>\n",
       "<table border=\"1\" class=\"dataframe\">\n",
       "  <thead>\n",
       "    <tr style=\"text-align: right;\">\n",
       "      <th></th>\n",
       "      <th>Country/Region</th>\n",
       "      <th>Cases</th>\n",
       "      <th>Deaths</th>\n",
       "      <th>PCases</th>\n",
       "      <th>PDeaths</th>\n",
       "      <th>Cases (+)</th>\n",
       "      <th>Deaths (+)</th>\n",
       "      <th>Fatality Rate</th>\n",
       "      <th>Continent</th>\n",
       "    </tr>\n",
       "  </thead>\n",
       "  <tbody>\n",
       "    <tr>\n",
       "      <th>0</th>\n",
       "      <td>US</td>\n",
       "      <td>91472835</td>\n",
       "      <td>1030498</td>\n",
       "      <td>91331830</td>\n",
       "      <td>1029939</td>\n",
       "      <td>141005</td>\n",
       "      <td>559</td>\n",
       "      <td>1.1</td>\n",
       "      <td>North America</td>\n",
       "    </tr>\n",
       "    <tr>\n",
       "      <th>1</th>\n",
       "      <td>India</td>\n",
       "      <td>44050009</td>\n",
       "      <td>526430</td>\n",
       "      <td>44036275</td>\n",
       "      <td>526396</td>\n",
       "      <td>13734</td>\n",
       "      <td>34</td>\n",
       "      <td>1.2</td>\n",
       "      <td>Asia</td>\n",
       "    </tr>\n",
       "    <tr>\n",
       "      <th>2</th>\n",
       "      <td>France</td>\n",
       "      <td>34077286</td>\n",
       "      <td>153219</td>\n",
       "      <td>33997224</td>\n",
       "      <td>153023</td>\n",
       "      <td>80062</td>\n",
       "      <td>196</td>\n",
       "      <td>0.4</td>\n",
       "      <td>Europe</td>\n",
       "    </tr>\n",
       "    <tr>\n",
       "      <th>3</th>\n",
       "      <td>Brazil</td>\n",
       "      <td>33855964</td>\n",
       "      <td>678715</td>\n",
       "      <td>33833900</td>\n",
       "      <td>678514</td>\n",
       "      <td>22064</td>\n",
       "      <td>201</td>\n",
       "      <td>2.0</td>\n",
       "      <td>South America</td>\n",
       "    </tr>\n",
       "    <tr>\n",
       "      <th>4</th>\n",
       "      <td>Germany</td>\n",
       "      <td>30956873</td>\n",
       "      <td>144150</td>\n",
       "      <td>30854175</td>\n",
       "      <td>143979</td>\n",
       "      <td>102698</td>\n",
       "      <td>171</td>\n",
       "      <td>0.5</td>\n",
       "      <td>Europe</td>\n",
       "    </tr>\n",
       "  </tbody>\n",
       "</table>\n",
       "</div>"
      ],
      "text/plain": [
       "  Country/Region     Cases   Deaths    PCases  PDeaths  Cases (+)  Deaths (+)  \\\n",
       "0             US  91472835  1030498  91331830  1029939     141005         559   \n",
       "1          India  44050009   526430  44036275   526396      13734          34   \n",
       "2         France  34077286   153219  33997224   153023      80062         196   \n",
       "3         Brazil  33855964   678715  33833900   678514      22064         201   \n",
       "4        Germany  30956873   144150  30854175   143979     102698         171   \n",
       "\n",
       "   Fatality Rate      Continent  \n",
       "0            1.1  North America  \n",
       "1            1.2           Asia  \n",
       "2            0.4         Europe  \n",
       "3            2.0  South America  \n",
       "4            0.5         Europe  "
      ]
     },
     "execution_count": 15,
     "metadata": {},
     "output_type": "execute_result"
    }
   ],
   "source": [
    "#hide\n",
    "df_table = (pd.DataFrame(dict(Cases=dfc_cases, Deaths=dfc_deaths, PCases=dfp_cases, PDeaths=dfp_deaths))\n",
    "             .sort_values(by=['Cases', 'Deaths'], ascending=[False, False])\n",
    "             .reset_index())\n",
    "df_table.rename(columns={'index': 'Country/Region'}, inplace=True)\n",
    "for c in 'Cases, Deaths'.split(', '):\n",
    "    df_table[f'{c} (+)'] = (df_table[c] - df_table[f'P{c}']).clip(0)  # DATA BUG\n",
    "df_table['Fatality Rate'] = (100 * df_table['Deaths'] / df_table['Cases']).round(1)\n",
    "df_table['Continent'] = df_table['Country/Region'].map(mapping['map.continent'])\n",
    "df_table.head(5)"
   ]
  },
  {
   "cell_type": "code",
   "execution_count": 16,
   "id": "fewer-occasion",
   "metadata": {
    "execution": {
     "iopub.execute_input": "2022-08-03T00:50:06.775217Z",
     "iopub.status.busy": "2022-08-03T00:50:06.774556Z",
     "iopub.status.idle": "2022-08-03T00:50:06.780258Z",
     "shell.execute_reply": "2022-08-03T00:50:06.778705Z"
    },
    "papermill": {
     "duration": 0.043241,
     "end_time": "2022-08-03T00:50:06.780417",
     "exception": false,
     "start_time": "2022-08-03T00:50:06.737176",
     "status": "completed"
    },
    "tags": []
   },
   "outputs": [],
   "source": [
    "#hide\n",
    "#delete problematic countries from table\n",
    "df_table = df_table[~df_table['Country/Region'].isin(['Cape Verde', 'Cruise Ship', 'Kosovo'])]"
   ]
  },
  {
   "cell_type": "code",
   "execution_count": 17,
   "id": "related-center",
   "metadata": {
    "execution": {
     "iopub.execute_input": "2022-08-03T00:50:06.865608Z",
     "iopub.status.busy": "2022-08-03T00:50:06.864745Z",
     "iopub.status.idle": "2022-08-03T00:50:06.868471Z",
     "shell.execute_reply": "2022-08-03T00:50:06.867909Z"
    },
    "papermill": {
     "duration": 0.056654,
     "end_time": "2022-08-03T00:50:06.868599",
     "exception": false,
     "start_time": "2022-08-03T00:50:06.811945",
     "status": "completed"
    },
    "tags": []
   },
   "outputs": [],
   "source": [
    "#hide\n",
    "metrics = [df_table.columns[index] for index in [1,2,5,6]]\n",
    "# s_china = df_table[df_table['Country/Region'].eq('China')][metrics].sum().add_prefix('China ')\n",
    "s_us = df_table[df_table['Country/Region'].eq('US')][metrics].sum().add_prefix('US ')\n",
    "s_eu = df_table[df_table['Continent'].eq('Europe')][metrics].sum().add_prefix('EU ')\n",
    "s_ind = df_table[df_table['Country/Region'].eq('India')][metrics].sum().add_prefix('India ')\n",
    "summary = {'updated': pd.to_datetime(dt_today), 'since': pd.to_datetime(dt_yday)}\n",
    "summary = {'updated': pd.to_datetime(dt_today), 'since': pd.to_datetime(dt_yday)}\n",
    "summary = {**summary, **df_table[metrics].sum(), **s_ind, **s_us, **s_eu}"
   ]
  },
  {
   "cell_type": "code",
   "execution_count": 18,
   "id": "engaging-syndrome",
   "metadata": {
    "execution": {
     "iopub.execute_input": "2022-08-03T00:50:06.938116Z",
     "iopub.status.busy": "2022-08-03T00:50:06.937435Z",
     "iopub.status.idle": "2022-08-03T00:50:06.963920Z",
     "shell.execute_reply": "2022-08-03T00:50:06.964428Z"
    },
    "papermill": {
     "duration": 0.064282,
     "end_time": "2022-08-03T00:50:06.964584",
     "exception": false,
     "start_time": "2022-08-03T00:50:06.900302",
     "status": "completed"
    },
    "tags": []
   },
   "outputs": [],
   "source": [
    "#hide\n",
    "dft_ct_new_cases = dft_cases.groupby(COL_REGION)[dt_cols].sum().diff(axis=1).fillna(0).astype(int)"
   ]
  },
  {
   "cell_type": "code",
   "execution_count": 19,
   "id": "neutral-assignment",
   "metadata": {
    "execution": {
     "iopub.execute_input": "2022-08-03T00:50:07.037429Z",
     "iopub.status.busy": "2022-08-03T00:50:07.036543Z",
     "iopub.status.idle": "2022-08-03T00:50:07.039560Z",
     "shell.execute_reply": "2022-08-03T00:50:07.039009Z"
    },
    "papermill": {
     "duration": 0.042731,
     "end_time": "2022-08-03T00:50:07.039693",
     "exception": false,
     "start_time": "2022-08-03T00:50:06.996962",
     "status": "completed"
    },
    "tags": []
   },
   "outputs": [],
   "source": [
    "#hide\n",
    "everydaycases = dft_ct_new_cases.cumsum(axis=1)"
   ]
  },
  {
   "cell_type": "code",
   "execution_count": 20,
   "id": "parliamentary-calgary",
   "metadata": {
    "execution": {
     "iopub.execute_input": "2022-08-03T00:50:07.109354Z",
     "iopub.status.busy": "2022-08-03T00:50:07.108585Z",
     "iopub.status.idle": "2022-08-03T00:50:07.719325Z",
     "shell.execute_reply": "2022-08-03T00:50:07.718779Z"
    },
    "papermill": {
     "duration": 0.647772,
     "end_time": "2022-08-03T00:50:07.719469",
     "exception": false,
     "start_time": "2022-08-03T00:50:07.071697",
     "status": "completed"
    },
    "tags": []
   },
   "outputs": [],
   "source": [
    "#hide\n",
    "import pandas as pd\n",
    "import matplotlib.pyplot as plt\n",
    "import matplotlib.ticker as ticker\n",
    "import matplotlib.animation as animation\n",
    "from IPython.display import HTML"
   ]
  },
  {
   "cell_type": "code",
   "execution_count": 21,
   "id": "lasting-extraction",
   "metadata": {
    "execution": {
     "iopub.execute_input": "2022-08-03T00:50:07.790488Z",
     "iopub.status.busy": "2022-08-03T00:50:07.789805Z",
     "iopub.status.idle": "2022-08-03T00:50:07.799867Z",
     "shell.execute_reply": "2022-08-03T00:50:07.800378Z"
    },
    "papermill": {
     "duration": 0.049579,
     "end_time": "2022-08-03T00:50:07.800528",
     "exception": false,
     "start_time": "2022-08-03T00:50:07.750949",
     "status": "completed"
    },
    "tags": []
   },
   "outputs": [],
   "source": [
    "#hide\n",
    "t = everydaycases.stack()"
   ]
  },
  {
   "cell_type": "code",
   "execution_count": 22,
   "id": "premier-sleeve",
   "metadata": {
    "execution": {
     "iopub.execute_input": "2022-08-03T00:50:07.869452Z",
     "iopub.status.busy": "2022-08-03T00:50:07.868766Z",
     "iopub.status.idle": "2022-08-03T00:50:07.881570Z",
     "shell.execute_reply": "2022-08-03T00:50:07.880994Z"
    },
    "papermill": {
     "duration": 0.049163,
     "end_time": "2022-08-03T00:50:07.881696",
     "exception": false,
     "start_time": "2022-08-03T00:50:07.832533",
     "status": "completed"
    },
    "tags": []
   },
   "outputs": [],
   "source": [
    "#hide\n",
    "g = t.reset_index(['Country/Region'])"
   ]
  },
  {
   "cell_type": "code",
   "execution_count": 23,
   "id": "distributed-pittsburgh",
   "metadata": {
    "execution": {
     "iopub.execute_input": "2022-08-03T00:50:07.950067Z",
     "iopub.status.busy": "2022-08-03T00:50:07.949299Z",
     "iopub.status.idle": "2022-08-03T00:50:07.953492Z",
     "shell.execute_reply": "2022-08-03T00:50:07.952918Z"
    },
    "papermill": {
     "duration": 0.04061,
     "end_time": "2022-08-03T00:50:07.953621",
     "exception": false,
     "start_time": "2022-08-03T00:50:07.913011",
     "status": "completed"
    },
    "tags": []
   },
   "outputs": [],
   "source": [
    "#hide\n",
    "g.index.name = 'date'"
   ]
  },
  {
   "cell_type": "code",
   "execution_count": 24,
   "id": "naked-donor",
   "metadata": {
    "execution": {
     "iopub.execute_input": "2022-08-03T00:50:08.022089Z",
     "iopub.status.busy": "2022-08-03T00:50:08.021269Z",
     "iopub.status.idle": "2022-08-03T00:50:08.024332Z",
     "shell.execute_reply": "2022-08-03T00:50:08.023776Z"
    },
    "papermill": {
     "duration": 0.038958,
     "end_time": "2022-08-03T00:50:08.024463",
     "exception": false,
     "start_time": "2022-08-03T00:50:07.985505",
     "status": "completed"
    },
    "tags": []
   },
   "outputs": [],
   "source": [
    "# #hide\n",
    "# g = g.reset_index(['date'])"
   ]
  },
  {
   "cell_type": "code",
   "execution_count": 25,
   "id": "incomplete-mustang",
   "metadata": {
    "execution": {
     "iopub.execute_input": "2022-08-03T00:50:08.092719Z",
     "iopub.status.busy": "2022-08-03T00:50:08.091936Z",
     "iopub.status.idle": "2022-08-03T00:50:08.096916Z",
     "shell.execute_reply": "2022-08-03T00:50:08.097439Z"
    },
    "papermill": {
     "duration": 0.04133,
     "end_time": "2022-08-03T00:50:08.097606",
     "exception": false,
     "start_time": "2022-08-03T00:50:08.056276",
     "status": "completed"
    },
    "tags": []
   },
   "outputs": [],
   "source": [
    "#hide\n",
    "# g.head()"
   ]
  },
  {
   "cell_type": "code",
   "execution_count": 26,
   "id": "specific-kruger",
   "metadata": {
    "execution": {
     "iopub.execute_input": "2022-08-03T00:50:08.165517Z",
     "iopub.status.busy": "2022-08-03T00:50:08.164689Z",
     "iopub.status.idle": "2022-08-03T00:50:08.167756Z",
     "shell.execute_reply": "2022-08-03T00:50:08.167240Z"
    },
    "papermill": {
     "duration": 0.038563,
     "end_time": "2022-08-03T00:50:08.167880",
     "exception": false,
     "start_time": "2022-08-03T00:50:08.129317",
     "status": "completed"
    },
    "tags": []
   },
   "outputs": [],
   "source": [
    "#hide\n",
    "# g.columns = ['date','country','cases']"
   ]
  },
  {
   "cell_type": "code",
   "execution_count": 27,
   "id": "tender-conversion",
   "metadata": {
    "execution": {
     "iopub.execute_input": "2022-08-03T00:50:08.235627Z",
     "iopub.status.busy": "2022-08-03T00:50:08.234838Z",
     "iopub.status.idle": "2022-08-03T00:50:08.236757Z",
     "shell.execute_reply": "2022-08-03T00:50:08.237332Z"
    },
    "papermill": {
     "duration": 0.038191,
     "end_time": "2022-08-03T00:50:08.237491",
     "exception": false,
     "start_time": "2022-08-03T00:50:08.199300",
     "status": "completed"
    },
    "tags": []
   },
   "outputs": [],
   "source": [
    "#hide\n",
    "# g['continent'] = g.country"
   ]
  },
  {
   "cell_type": "code",
   "execution_count": 28,
   "id": "substantial-wilderness",
   "metadata": {
    "execution": {
     "iopub.execute_input": "2022-08-03T00:50:08.305640Z",
     "iopub.status.busy": "2022-08-03T00:50:08.304767Z",
     "iopub.status.idle": "2022-08-03T00:50:08.306466Z",
     "shell.execute_reply": "2022-08-03T00:50:08.307079Z"
    },
    "papermill": {
     "duration": 0.037903,
     "end_time": "2022-08-03T00:50:08.307229",
     "exception": false,
     "start_time": "2022-08-03T00:50:08.269326",
     "status": "completed"
    },
    "tags": []
   },
   "outputs": [],
   "source": [
    "#hide\n",
    "# cols = list(g.columns.values)"
   ]
  },
  {
   "cell_type": "code",
   "execution_count": 29,
   "id": "solved-farming",
   "metadata": {
    "execution": {
     "iopub.execute_input": "2022-08-03T00:50:08.375516Z",
     "iopub.status.busy": "2022-08-03T00:50:08.374792Z",
     "iopub.status.idle": "2022-08-03T00:50:08.379628Z",
     "shell.execute_reply": "2022-08-03T00:50:08.380129Z"
    },
    "papermill": {
     "duration": 0.041374,
     "end_time": "2022-08-03T00:50:08.380294",
     "exception": false,
     "start_time": "2022-08-03T00:50:08.338920",
     "status": "completed"
    },
    "tags": []
   },
   "outputs": [],
   "source": [
    "#hide\n",
    "# cols.insert(0, cols.pop())"
   ]
  },
  {
   "cell_type": "code",
   "execution_count": 30,
   "id": "executed-adoption",
   "metadata": {
    "execution": {
     "iopub.execute_input": "2022-08-03T00:50:08.448114Z",
     "iopub.status.busy": "2022-08-03T00:50:08.447427Z",
     "iopub.status.idle": "2022-08-03T00:50:08.450579Z",
     "shell.execute_reply": "2022-08-03T00:50:08.451092Z"
    },
    "papermill": {
     "duration": 0.039212,
     "end_time": "2022-08-03T00:50:08.451254",
     "exception": false,
     "start_time": "2022-08-03T00:50:08.412042",
     "status": "completed"
    },
    "tags": []
   },
   "outputs": [],
   "source": [
    "#hide\n",
    "# g = g[cols]"
   ]
  },
  {
   "cell_type": "code",
   "execution_count": 31,
   "id": "subject-dublin",
   "metadata": {
    "execution": {
     "iopub.execute_input": "2022-08-03T00:50:08.519094Z",
     "iopub.status.busy": "2022-08-03T00:50:08.518290Z",
     "iopub.status.idle": "2022-08-03T00:50:08.520159Z",
     "shell.execute_reply": "2022-08-03T00:50:08.520665Z"
    },
    "papermill": {
     "duration": 0.038034,
     "end_time": "2022-08-03T00:50:08.520810",
     "exception": false,
     "start_time": "2022-08-03T00:50:08.482776",
     "status": "completed"
    },
    "tags": []
   },
   "outputs": [],
   "source": [
    "#hide\n",
    "# g['continent'] = g['continent'].map(mapping['map.continent'])"
   ]
  },
  {
   "cell_type": "code",
   "execution_count": 32,
   "id": "freelance-scout",
   "metadata": {
    "execution": {
     "iopub.execute_input": "2022-08-03T00:50:08.589358Z",
     "iopub.status.busy": "2022-08-03T00:50:08.588504Z",
     "iopub.status.idle": "2022-08-03T00:50:08.591717Z",
     "shell.execute_reply": "2022-08-03T00:50:08.591200Z"
    },
    "papermill": {
     "duration": 0.039375,
     "end_time": "2022-08-03T00:50:08.591845",
     "exception": false,
     "start_time": "2022-08-03T00:50:08.552470",
     "status": "completed"
    },
    "tags": []
   },
   "outputs": [],
   "source": [
    "#hide\n",
    "# g.head()"
   ]
  },
  {
   "cell_type": "code",
   "execution_count": 33,
   "id": "limited-engine",
   "metadata": {
    "execution": {
     "iopub.execute_input": "2022-08-03T00:50:08.661249Z",
     "iopub.status.busy": "2022-08-03T00:50:08.660408Z",
     "iopub.status.idle": "2022-08-03T00:50:08.663174Z",
     "shell.execute_reply": "2022-08-03T00:50:08.663630Z"
    },
    "papermill": {
     "duration": 0.040339,
     "end_time": "2022-08-03T00:50:08.663889",
     "exception": false,
     "start_time": "2022-08-03T00:50:08.623550",
     "status": "completed"
    },
    "tags": []
   },
   "outputs": [],
   "source": [
    "# hide\n",
    "# g['date'] = g['date'].astype('datetime64[ns]')"
   ]
  },
  {
   "cell_type": "code",
   "execution_count": 34,
   "id": "sophisticated-supervisor",
   "metadata": {
    "execution": {
     "iopub.execute_input": "2022-08-03T00:50:08.732088Z",
     "iopub.status.busy": "2022-08-03T00:50:08.731282Z",
     "iopub.status.idle": "2022-08-03T00:50:08.734329Z",
     "shell.execute_reply": "2022-08-03T00:50:08.733674Z"
    },
    "papermill": {
     "duration": 0.03874,
     "end_time": "2022-08-03T00:50:08.734455",
     "exception": false,
     "start_time": "2022-08-03T00:50:08.695715",
     "status": "completed"
    },
    "tags": []
   },
   "outputs": [],
   "source": [
    "#hide\n",
    "# g['date'] = g.date.dt.dayofyear"
   ]
  },
  {
   "cell_type": "code",
   "execution_count": 35,
   "id": "inside-dubai",
   "metadata": {
    "execution": {
     "iopub.execute_input": "2022-08-03T00:50:08.802231Z",
     "iopub.status.busy": "2022-08-03T00:50:08.801485Z",
     "iopub.status.idle": "2022-08-03T00:50:08.805193Z",
     "shell.execute_reply": "2022-08-03T00:50:08.804615Z"
    },
    "papermill": {
     "duration": 0.039486,
     "end_time": "2022-08-03T00:50:08.805318",
     "exception": false,
     "start_time": "2022-08-03T00:50:08.765832",
     "status": "completed"
    },
    "tags": []
   },
   "outputs": [],
   "source": [
    "#hide\n",
    "# g = g.rename(columns= {'continent':'group','country':'name','cases':'value'})"
   ]
  },
  {
   "cell_type": "code",
   "execution_count": 36,
   "id": "fleet-motorcycle",
   "metadata": {
    "execution": {
     "iopub.execute_input": "2022-08-03T00:50:08.873482Z",
     "iopub.status.busy": "2022-08-03T00:50:08.872622Z",
     "iopub.status.idle": "2022-08-03T00:50:08.874609Z",
     "shell.execute_reply": "2022-08-03T00:50:08.875106Z"
    },
    "papermill": {
     "duration": 0.038379,
     "end_time": "2022-08-03T00:50:08.875260",
     "exception": false,
     "start_time": "2022-08-03T00:50:08.836881",
     "status": "completed"
    },
    "tags": []
   },
   "outputs": [],
   "source": [
    "#hide\n",
    "# cols = ['name','group','day','value']"
   ]
  },
  {
   "cell_type": "code",
   "execution_count": 37,
   "id": "continued-sleeping",
   "metadata": {
    "execution": {
     "iopub.execute_input": "2022-08-03T00:50:08.943356Z",
     "iopub.status.busy": "2022-08-03T00:50:08.942602Z",
     "iopub.status.idle": "2022-08-03T00:50:08.946103Z",
     "shell.execute_reply": "2022-08-03T00:50:08.945516Z"
    },
    "papermill": {
     "duration": 0.039454,
     "end_time": "2022-08-03T00:50:08.946221",
     "exception": false,
     "start_time": "2022-08-03T00:50:08.906767",
     "status": "completed"
    },
    "tags": []
   },
   "outputs": [],
   "source": [
    "#hide\n",
    "# g.rename(columns= {'date':'day'},inplace = True)"
   ]
  },
  {
   "cell_type": "code",
   "execution_count": 38,
   "id": "major-fight",
   "metadata": {
    "execution": {
     "iopub.execute_input": "2022-08-03T00:50:09.014012Z",
     "iopub.status.busy": "2022-08-03T00:50:09.013252Z",
     "iopub.status.idle": "2022-08-03T00:50:09.016118Z",
     "shell.execute_reply": "2022-08-03T00:50:09.015589Z"
    },
    "papermill": {
     "duration": 0.038409,
     "end_time": "2022-08-03T00:50:09.016245",
     "exception": false,
     "start_time": "2022-08-03T00:50:08.977836",
     "status": "completed"
    },
    "tags": []
   },
   "outputs": [],
   "source": [
    "#hide\n",
    "# g = g[cols]"
   ]
  },
  {
   "cell_type": "code",
   "execution_count": 39,
   "id": "structured-mobile",
   "metadata": {
    "execution": {
     "iopub.execute_input": "2022-08-03T00:50:09.083767Z",
     "iopub.status.busy": "2022-08-03T00:50:09.083061Z",
     "iopub.status.idle": "2022-08-03T00:50:09.084765Z",
     "shell.execute_reply": "2022-08-03T00:50:09.085358Z"
    },
    "papermill": {
     "duration": 0.037808,
     "end_time": "2022-08-03T00:50:09.085507",
     "exception": false,
     "start_time": "2022-08-03T00:50:09.047699",
     "status": "completed"
    },
    "tags": []
   },
   "outputs": [],
   "source": [
    "# #hide\n",
    "# g = g[g.group.notna()]"
   ]
  },
  {
   "cell_type": "code",
   "execution_count": 40,
   "id": "determined-closing",
   "metadata": {
    "execution": {
     "iopub.execute_input": "2022-08-03T00:50:09.153678Z",
     "iopub.status.busy": "2022-08-03T00:50:09.152796Z",
     "iopub.status.idle": "2022-08-03T00:50:09.155882Z",
     "shell.execute_reply": "2022-08-03T00:50:09.155349Z"
    },
    "papermill": {
     "duration": 0.038823,
     "end_time": "2022-08-03T00:50:09.156015",
     "exception": false,
     "start_time": "2022-08-03T00:50:09.117192",
     "status": "completed"
    },
    "tags": []
   },
   "outputs": [],
   "source": [
    "# #hide\n",
    "# colors = dict(zip(\n",
    "#     [\"Oceania\", \"Europe\", \"Asia\", \"South America\", \"Middle East\", \"North America\", \"Africa\"],\n",
    "#     [\"#adb0ff\", \"#ffb3ff\", \"#90d595\", \"#e48381\", \"#aafbff\", \"#f7bb5f\", \"#eafb50\"]\n",
    "# ))\n",
    "# group_lk = g.set_index('name')['group'].to_dict()"
   ]
  },
  {
   "cell_type": "code",
   "execution_count": null,
   "id": "gross-drinking",
   "metadata": {
    "papermill": {
     "duration": 0.031542,
     "end_time": "2022-08-03T00:50:09.219078",
     "exception": false,
     "start_time": "2022-08-03T00:50:09.187536",
     "status": "completed"
    },
    "tags": []
   },
   "outputs": [],
   "source": []
  },
  {
   "cell_type": "code",
   "execution_count": 41,
   "id": "subject-macintosh",
   "metadata": {
    "execution": {
     "iopub.execute_input": "2022-08-03T00:50:09.287153Z",
     "iopub.status.busy": "2022-08-03T00:50:09.286488Z",
     "iopub.status.idle": "2022-08-03T00:50:09.289356Z",
     "shell.execute_reply": "2022-08-03T00:50:09.288837Z"
    },
    "papermill": {
     "duration": 0.038853,
     "end_time": "2022-08-03T00:50:09.289473",
     "exception": false,
     "start_time": "2022-08-03T00:50:09.250620",
     "status": "completed"
    },
    "tags": []
   },
   "outputs": [],
   "source": [
    "# #hide\n",
    "# fig, ax = plt.subplots(figsize=(15, 8))\n",
    "\n",
    "# def draw_barchart(current_day):\n",
    "#     dff = g[g['day'].eq(current_day)].sort_values(by='value', ascending=True).tail(10)\n",
    "#     ax.clear()\n",
    "#     ax.barh(dff['name'], dff['value'], color=[colors[group_lk[x]] for x in dff['name']])\n",
    "#     dx = dff['value'].max() / 200\n",
    "    \n",
    "#     for i, (value, name) in enumerate(zip(dff['value'], dff['name'])):\n",
    "#         ax.text(value-dx, i,     name,           size=14, weight=600, ha='right', va='bottom')\n",
    "#         ax.text(value-dx, i-.25, group_lk[name], size=10, color='#444444', ha='right', va='baseline')\n",
    "#         ax.text(value+dx, i,     f'{value:,.0f}',  size=14, ha='left',  va='center')\n",
    "#     ax.text(1, 0.4, current_day, transform=ax.transAxes, color='#777777', size=46, ha='right', weight=800)\n",
    "#     ax.text(0, 1.06, 'Population (thousands)', transform=ax.transAxes, size=12, color='#777777')\n",
    "#     ax.xaxis.set_major_formatter(ticker.StrMethodFormatter('{x:,.0f}'))\n",
    "#     ax.xaxis.set_ticks_position('top')\n",
    "#     ax.tick_params(axis='x', colors='#777777', labelsize=12)\n",
    "#     ax.set_yticks([])\n",
    "#     ax.margins(0, 0.01)\n",
    "#     ax.grid(which='major', axis='x', linestyle='-')\n",
    "#     ax.set_axisbelow(True)\n",
    "    \n",
    "#     ax.text(0, 1.15, 'Coronavirus',\n",
    "#             transform=ax.transAxes, size=24, weight=600, ha='left', va='top')\n",
    "# #     ax.text(1, 0, 'by @pratapvardhan; credit @jburnmurdoch', transform=ax.transAxes, color='#777777', ha='right',\n",
    "# #             bbox=dict(facecolor='white', alpha=0.8, edgecolor='white'))\n",
    "#     plt.box(False)"
   ]
  },
  {
   "cell_type": "code",
   "execution_count": 42,
   "id": "sexual-wages",
   "metadata": {
    "execution": {
     "iopub.execute_input": "2022-08-03T00:50:09.357228Z",
     "iopub.status.busy": "2022-08-03T00:50:09.356422Z",
     "iopub.status.idle": "2022-08-03T00:50:09.359411Z",
     "shell.execute_reply": "2022-08-03T00:50:09.358880Z"
    },
    "papermill": {
     "duration": 0.03867,
     "end_time": "2022-08-03T00:50:09.359541",
     "exception": false,
     "start_time": "2022-08-03T00:50:09.320871",
     "status": "completed"
    },
    "tags": []
   },
   "outputs": [],
   "source": [
    "# #hide_input\n",
    "# fig, ax = plt.subplots(figsize=(15, 8))\n",
    "# animator = animation.FuncAnimation(fig, draw_barchart, frames=range(g.day.values.min(), g.day.values.max()))\n",
    "# HTML(animator.to_jshtml())\n",
    "# # or use animator.to_html5_video() or animator.save() "
   ]
  },
  {
   "cell_type": "code",
   "execution_count": null,
   "id": "australian-container",
   "metadata": {
    "papermill": {
     "duration": 0.031599,
     "end_time": "2022-08-03T00:50:09.422936",
     "exception": false,
     "start_time": "2022-08-03T00:50:09.391337",
     "status": "completed"
    },
    "tags": []
   },
   "outputs": [],
   "source": []
  },
  {
   "cell_type": "code",
   "execution_count": null,
   "id": "mediterranean-pontiac",
   "metadata": {
    "papermill": {
     "duration": 0.031474,
     "end_time": "2022-08-03T00:50:09.486113",
     "exception": false,
     "start_time": "2022-08-03T00:50:09.454639",
     "status": "completed"
    },
    "tags": []
   },
   "outputs": [],
   "source": []
  },
  {
   "cell_type": "code",
   "execution_count": null,
   "id": "aging-legislature",
   "metadata": {
    "papermill": {
     "duration": 0.031532,
     "end_time": "2022-08-03T00:50:09.549328",
     "exception": false,
     "start_time": "2022-08-03T00:50:09.517796",
     "status": "completed"
    },
    "tags": []
   },
   "outputs": [],
   "source": []
  }
 ],
 "metadata": {
  "kernelspec": {
   "display_name": "Python 3",
   "language": "python",
   "name": "python3"
  },
  "language_info": {
   "codemirror_mode": {
    "name": "ipython",
    "version": 3
   },
   "file_extension": ".py",
   "mimetype": "text/x-python",
   "name": "python",
   "nbconvert_exporter": "python",
   "pygments_lexer": "ipython3",
   "version": "3.6.15"
  },
  "papermill": {
   "duration": 6.817234,
   "end_time": "2022-08-03T00:50:10.100965",
   "environment_variables": {},
   "exception": null,
   "input_path": "2020-03-21-covid19exp.ipynb",
   "output_path": "2020-03-21-covid19exp.ipynb",
   "parameters": {},
   "start_time": "2022-08-03T00:50:03.283731",
   "version": "2.0.0"
  }
 },
 "nbformat": 4,
 "nbformat_minor": 5
}