{
 "cells": [
  {
   "cell_type": "markdown",
   "id": "muslim-click",
   "metadata": {
    "papermill": {
     "duration": 0.033239,
     "end_time": "2022-07-01T00:46:41.241491",
     "exception": false,
     "start_time": "2022-07-01T00:46:41.208252",
     "status": "completed"
    },
    "tags": []
   },
   "source": [
    "# COVID-19 Case Race\n",
    "> A race chart to see rising cases around the world\n",
    "\n",
    "- author: Hargun Oberoi\n",
    "- image: images/covid-overview.png\n",
    "- hide: false\n",
    "- badges: false"
   ]
  },
  {
   "cell_type": "code",
   "execution_count": 1,
   "id": "proof-material",
   "metadata": {
    "execution": {
     "iopub.execute_input": "2022-07-01T00:46:41.312438Z",
     "iopub.status.busy": "2022-07-01T00:46:41.311863Z",
     "iopub.status.idle": "2022-07-01T00:46:41.623084Z",
     "shell.execute_reply": "2022-07-01T00:46:41.622580Z"
    },
    "papermill": {
     "duration": 0.350064,
     "end_time": "2022-07-01T00:46:41.623214",
     "exception": false,
     "start_time": "2022-07-01T00:46:41.273150",
     "status": "completed"
    },
    "tags": []
   },
   "outputs": [],
   "source": [
    "#hide\n",
    "import numpy as np\n",
    "import pandas as pd\n",
    "from jinja2 import Template\n",
    "from IPython.display import HTML"
   ]
  },
  {
   "cell_type": "code",
   "execution_count": 2,
   "id": "developed-terminology",
   "metadata": {
    "execution": {
     "iopub.execute_input": "2022-07-01T00:46:41.687745Z",
     "iopub.status.busy": "2022-07-01T00:46:41.687179Z",
     "iopub.status.idle": "2022-07-01T00:46:41.689102Z",
     "shell.execute_reply": "2022-07-01T00:46:41.689537Z"
    },
    "papermill": {
     "duration": 0.03644,
     "end_time": "2022-07-01T00:46:41.689649",
     "exception": false,
     "start_time": "2022-07-01T00:46:41.653209",
     "status": "completed"
    },
    "tags": []
   },
   "outputs": [],
   "source": [
    "#hide\n",
    "\n",
    "# FETCH\n",
    "base_url = 'https://raw.githubusercontent.com/pratapvardhan/notebooks/master/covid19/'\n",
    "paths = {\n",
    "    'mapping': base_url + 'mapping_countries.csv',\n",
    "    'overview': base_url + 'overview.tpl'\n",
    "}"
   ]
  },
  {
   "cell_type": "code",
   "execution_count": 3,
   "id": "dynamic-saver",
   "metadata": {
    "execution": {
     "iopub.execute_input": "2022-07-01T00:46:41.757765Z",
     "iopub.status.busy": "2022-07-01T00:46:41.757189Z",
     "iopub.status.idle": "2022-07-01T00:46:41.760214Z",
     "shell.execute_reply": "2022-07-01T00:46:41.760673Z"
    },
    "papermill": {
     "duration": 0.041532,
     "end_time": "2022-07-01T00:46:41.760792",
     "exception": false,
     "start_time": "2022-07-01T00:46:41.719260",
     "status": "completed"
    },
    "tags": []
   },
   "outputs": [
    {
     "data": {
      "text/plain": [
       "'https://raw.githubusercontent.com/pratapvardhan/notebooks/master/covid19/mapping_countries.csv'"
      ]
     },
     "execution_count": 3,
     "metadata": {},
     "output_type": "execute_result"
    }
   ],
   "source": [
    "#hide\n",
    "paths['mapping']"
   ]
  },
  {
   "cell_type": "code",
   "execution_count": 4,
   "id": "urban-software",
   "metadata": {
    "execution": {
     "iopub.execute_input": "2022-07-01T00:46:41.826298Z",
     "iopub.status.busy": "2022-07-01T00:46:41.825725Z",
     "iopub.status.idle": "2022-07-01T00:46:41.828184Z",
     "shell.execute_reply": "2022-07-01T00:46:41.827737Z"
    },
    "papermill": {
     "duration": 0.03746,
     "end_time": "2022-07-01T00:46:41.828286",
     "exception": false,
     "start_time": "2022-07-01T00:46:41.790826",
     "status": "completed"
    },
    "tags": []
   },
   "outputs": [],
   "source": [
    "#hide\n",
    "def get_mappings(url):\n",
    "    df = pd.read_csv(url)\n",
    "    return {\n",
    "        'df': df,\n",
    "        'replace.country': dict(df.dropna(subset=['Name']).set_index('Country')['Name']),\n",
    "        'map.continent': dict(df.set_index('Name')['Continent'])\n",
    "    }"
   ]
  },
  {
   "cell_type": "code",
   "execution_count": 5,
   "id": "intimate-machinery",
   "metadata": {
    "execution": {
     "iopub.execute_input": "2022-07-01T00:46:41.893408Z",
     "iopub.status.busy": "2022-07-01T00:46:41.892852Z",
     "iopub.status.idle": "2022-07-01T00:46:41.939478Z",
     "shell.execute_reply": "2022-07-01T00:46:41.938965Z"
    },
    "papermill": {
     "duration": 0.081357,
     "end_time": "2022-07-01T00:46:41.939592",
     "exception": false,
     "start_time": "2022-07-01T00:46:41.858235",
     "status": "completed"
    },
    "tags": []
   },
   "outputs": [],
   "source": [
    "#hide\n",
    "mapping = get_mappings(paths['mapping'])"
   ]
  },
  {
   "cell_type": "code",
   "execution_count": 6,
   "id": "certified-tactics",
   "metadata": {
    "execution": {
     "iopub.execute_input": "2022-07-01T00:46:42.005428Z",
     "iopub.status.busy": "2022-07-01T00:46:42.004858Z",
     "iopub.status.idle": "2022-07-01T00:46:42.006720Z",
     "shell.execute_reply": "2022-07-01T00:46:42.007160Z"
    },
    "papermill": {
     "duration": 0.037484,
     "end_time": "2022-07-01T00:46:42.007280",
     "exception": false,
     "start_time": "2022-07-01T00:46:41.969796",
     "status": "completed"
    },
    "tags": []
   },
   "outputs": [],
   "source": [
    "#hide\n",
    "def get_template(path):\n",
    "    from urllib.parse import urlparse\n",
    "    if bool(urlparse(path).netloc):\n",
    "        from urllib.request import urlopen\n",
    "        return urlopen(path).read().decode('utf8')\n",
    "    return open(path).read()"
   ]
  },
  {
   "cell_type": "code",
   "execution_count": 7,
   "id": "realistic-blast",
   "metadata": {
    "execution": {
     "iopub.execute_input": "2022-07-01T00:46:42.072322Z",
     "iopub.status.busy": "2022-07-01T00:46:42.071756Z",
     "iopub.status.idle": "2022-07-01T00:46:42.073583Z",
     "shell.execute_reply": "2022-07-01T00:46:42.073997Z"
    },
    "papermill": {
     "duration": 0.036811,
     "end_time": "2022-07-01T00:46:42.074108",
     "exception": false,
     "start_time": "2022-07-01T00:46:42.037297",
     "status": "completed"
    },
    "tags": []
   },
   "outputs": [],
   "source": [
    "#hide\n",
    "def get_frame(name):\n",
    "    url = (\n",
    "        'https://raw.githubusercontent.com/CSSEGISandData/COVID-19/master/csse_covid_19_data/'\n",
    "        f'csse_covid_19_time_series/time_series_covid19_{name}_global.csv')\n",
    "    df = pd.read_csv(url)\n",
    "    # rename countries\n",
    "    df['Country/Region'] = df['Country/Region'].replace(mapping['replace.country'])\n",
    "    return df"
   ]
  },
  {
   "cell_type": "code",
   "execution_count": 8,
   "id": "affiliated-characterization",
   "metadata": {
    "execution": {
     "iopub.execute_input": "2022-07-01T00:46:42.140133Z",
     "iopub.status.busy": "2022-07-01T00:46:42.139558Z",
     "iopub.status.idle": "2022-07-01T00:46:42.141987Z",
     "shell.execute_reply": "2022-07-01T00:46:42.141449Z"
    },
    "papermill": {
     "duration": 0.037946,
     "end_time": "2022-07-01T00:46:42.142087",
     "exception": false,
     "start_time": "2022-07-01T00:46:42.104141",
     "status": "completed"
    },
    "tags": []
   },
   "outputs": [],
   "source": [
    "#hide\n",
    "def get_dates(df):\n",
    "    dt_cols = df.columns[~df.columns.isin(['Province/State', 'Country/Region', 'Lat', 'Long'])]\n",
    "    LAST_DATE_I = -1\n",
    "    # sometimes last column may be empty, then go backwards\n",
    "    for i in range(-1, -len(dt_cols), -1):\n",
    "        if not df[dt_cols[i]].fillna(0).eq(0).all():\n",
    "            LAST_DATE_I = i\n",
    "            break\n",
    "    return LAST_DATE_I, dt_cols"
   ]
  },
  {
   "cell_type": "code",
   "execution_count": 9,
   "id": "recent-optimization",
   "metadata": {
    "execution": {
     "iopub.execute_input": "2022-07-01T00:46:42.206624Z",
     "iopub.status.busy": "2022-07-01T00:46:42.206060Z",
     "iopub.status.idle": "2022-07-01T00:46:42.651641Z",
     "shell.execute_reply": "2022-07-01T00:46:42.651152Z"
    },
    "papermill": {
     "duration": 0.479557,
     "end_time": "2022-07-01T00:46:42.651760",
     "exception": false,
     "start_time": "2022-07-01T00:46:42.172203",
     "status": "completed"
    },
    "tags": []
   },
   "outputs": [],
   "source": [
    "#hide\n",
    "COL_REGION = 'Country/Region'\n",
    "# Confirmed, Recovered, Deaths\n",
    "df = get_frame('confirmed')\n",
    "# dft_: timeseries, dfc_: today country agg\n",
    "dft_cases = df\n",
    "dft_deaths = get_frame('deaths')\n",
    "dft_recovered = get_frame('recovered')\n",
    "LAST_DATE_I, dt_cols = get_dates(df)"
   ]
  },
  {
   "cell_type": "code",
   "execution_count": 10,
   "id": "absolute-copper",
   "metadata": {
    "execution": {
     "iopub.execute_input": "2022-07-01T00:46:42.717012Z",
     "iopub.status.busy": "2022-07-01T00:46:42.716455Z",
     "iopub.status.idle": "2022-07-01T00:46:42.718880Z",
     "shell.execute_reply": "2022-07-01T00:46:42.718358Z"
    },
    "papermill": {
     "duration": 0.037151,
     "end_time": "2022-07-01T00:46:42.718996",
     "exception": false,
     "start_time": "2022-07-01T00:46:42.681845",
     "status": "completed"
    },
    "tags": []
   },
   "outputs": [],
   "source": [
    "#hide\n",
    "LAST_DATE_I, dt_cols = get_dates(df)\n",
    "dt_today =dt_cols[LAST_DATE_I]\n",
    "# dt_5day = dt_cols[LAST_DATE_I - 5]\n",
    "dt_yday = dt_cols[LAST_DATE_I - 1]"
   ]
  },
  {
   "cell_type": "code",
   "execution_count": 11,
   "id": "restricted-sheriff",
   "metadata": {
    "execution": {
     "iopub.execute_input": "2022-07-01T00:46:42.784171Z",
     "iopub.status.busy": "2022-07-01T00:46:42.783615Z",
     "iopub.status.idle": "2022-07-01T00:46:42.790503Z",
     "shell.execute_reply": "2022-07-01T00:46:42.790933Z"
    },
    "papermill": {
     "duration": 0.04213,
     "end_time": "2022-07-01T00:46:42.791069",
     "exception": false,
     "start_time": "2022-07-01T00:46:42.748939",
     "status": "completed"
    },
    "tags": []
   },
   "outputs": [],
   "source": [
    "#hide\n",
    "dfc_cases = dft_cases.groupby(COL_REGION)[dt_today].sum()\n",
    "dfc_deaths = dft_deaths.groupby(COL_REGION)[dt_today].sum()\n",
    "# dfp_cases = dft_cases.groupby(COL_REGION)[dt_5day].sum()\n",
    "# dfp_deaths = dft_deaths.groupby(COL_REGION)[dt_5day].sum()\n",
    "dfp_cases = dft_cases.groupby(COL_REGION)[dt_yday].sum()\n",
    "dfp_deaths = dft_deaths.groupby(COL_REGION)[dt_yday].sum()"
   ]
  },
  {
   "cell_type": "code",
   "execution_count": 12,
   "id": "deluxe-hepatitis",
   "metadata": {
    "execution": {
     "iopub.execute_input": "2022-07-01T00:46:42.856351Z",
     "iopub.status.busy": "2022-07-01T00:46:42.855793Z",
     "iopub.status.idle": "2022-07-01T00:46:42.860147Z",
     "shell.execute_reply": "2022-07-01T00:46:42.860678Z"
    },
    "papermill": {
     "duration": 0.039706,
     "end_time": "2022-07-01T00:46:42.860794",
     "exception": false,
     "start_time": "2022-07-01T00:46:42.821088",
     "status": "completed"
    },
    "tags": []
   },
   "outputs": [],
   "source": [
    "#hide\n",
    "df_table = (pd.DataFrame(dict(Cases = dfc_cases, Deaths = dfc_deaths, PCases = dfp_cases, PDeaths = dfp_deaths))\n",
    "            .sort_values(by = ['Cases','Deaths'], ascending = [False, False])\n",
    "            .reset_index())"
   ]
  },
  {
   "cell_type": "code",
   "execution_count": 13,
   "id": "educational-chancellor",
   "metadata": {
    "execution": {
     "iopub.execute_input": "2022-07-01T00:46:42.933377Z",
     "iopub.status.busy": "2022-07-01T00:46:42.932800Z",
     "iopub.status.idle": "2022-07-01T00:46:42.944734Z",
     "shell.execute_reply": "2022-07-01T00:46:42.944279Z"
    },
    "papermill": {
     "duration": 0.054143,
     "end_time": "2022-07-01T00:46:42.944839",
     "exception": false,
     "start_time": "2022-07-01T00:46:42.890696",
     "status": "completed"
    },
    "tags": []
   },
   "outputs": [
    {
     "data": {
      "text/html": [
       "<div>\n",
       "<style scoped>\n",
       "    .dataframe tbody tr th:only-of-type {\n",
       "        vertical-align: middle;\n",
       "    }\n",
       "\n",
       "    .dataframe tbody tr th {\n",
       "        vertical-align: top;\n",
       "    }\n",
       "\n",
       "    .dataframe thead th {\n",
       "        text-align: right;\n",
       "    }\n",
       "</style>\n",
       "<table border=\"1\" class=\"dataframe\">\n",
       "  <thead>\n",
       "    <tr style=\"text-align: right;\">\n",
       "      <th></th>\n",
       "      <th>Country/Region</th>\n",
       "      <th>Cases</th>\n",
       "      <th>Deaths</th>\n",
       "      <th>PCases</th>\n",
       "      <th>PDeaths</th>\n",
       "      <th>Cases (+)</th>\n",
       "      <th>Deaths (+)</th>\n",
       "      <th>Fatality Rate</th>\n",
       "      <th>Continent</th>\n",
       "    </tr>\n",
       "  </thead>\n",
       "  <tbody>\n",
       "    <tr>\n",
       "      <th>0</th>\n",
       "      <td>US</td>\n",
       "      <td>87487627</td>\n",
       "      <td>1017467</td>\n",
       "      <td>87293787</td>\n",
       "      <td>1016757</td>\n",
       "      <td>193840</td>\n",
       "      <td>710</td>\n",
       "      <td>1.16</td>\n",
       "      <td>North America</td>\n",
       "    </tr>\n",
       "    <tr>\n",
       "      <th>1</th>\n",
       "      <td>India</td>\n",
       "      <td>43452164</td>\n",
       "      <td>525116</td>\n",
       "      <td>43433345</td>\n",
       "      <td>525077</td>\n",
       "      <td>18819</td>\n",
       "      <td>39</td>\n",
       "      <td>1.21</td>\n",
       "      <td>Asia</td>\n",
       "    </tr>\n",
       "    <tr>\n",
       "      <th>2</th>\n",
       "      <td>Brazil</td>\n",
       "      <td>32206954</td>\n",
       "      <td>670848</td>\n",
       "      <td>32206954</td>\n",
       "      <td>670848</td>\n",
       "      <td>0</td>\n",
       "      <td>0</td>\n",
       "      <td>2.08</td>\n",
       "      <td>South America</td>\n",
       "    </tr>\n",
       "    <tr>\n",
       "      <th>3</th>\n",
       "      <td>France</td>\n",
       "      <td>31151971</td>\n",
       "      <td>150530</td>\n",
       "      <td>31027099</td>\n",
       "      <td>150482</td>\n",
       "      <td>124872</td>\n",
       "      <td>48</td>\n",
       "      <td>0.48</td>\n",
       "      <td>Europe</td>\n",
       "    </tr>\n",
       "    <tr>\n",
       "      <th>4</th>\n",
       "      <td>Germany</td>\n",
       "      <td>28180861</td>\n",
       "      <td>141105</td>\n",
       "      <td>28048190</td>\n",
       "      <td>141022</td>\n",
       "      <td>132671</td>\n",
       "      <td>83</td>\n",
       "      <td>0.50</td>\n",
       "      <td>Europe</td>\n",
       "    </tr>\n",
       "  </tbody>\n",
       "</table>\n",
       "</div>"
      ],
      "text/plain": [
       "  Country/Region     Cases   Deaths    PCases  PDeaths  Cases (+)  Deaths (+)  \\\n",
       "0             US  87487627  1017467  87293787  1016757     193840         710   \n",
       "1          India  43452164   525116  43433345   525077      18819          39   \n",
       "2         Brazil  32206954   670848  32206954   670848          0           0   \n",
       "3         France  31151971   150530  31027099   150482     124872          48   \n",
       "4        Germany  28180861   141105  28048190   141022     132671          83   \n",
       "\n",
       "   Fatality Rate      Continent  \n",
       "0           1.16  North America  \n",
       "1           1.21           Asia  \n",
       "2           2.08  South America  \n",
       "3           0.48         Europe  \n",
       "4           0.50         Europe  "
      ]
     },
     "execution_count": 13,
     "metadata": {},
     "output_type": "execute_result"
    }
   ],
   "source": [
    "#hide\n",
    "for c in 'Cases, Deaths'.split(', '):\n",
    "    df_table[f'{c} (+)'] = (df_table[c] - df_table[f'P{c}']).clip(0)\n",
    "    #Clip ça veut dire, les chiffres negatif sont interdit\n",
    "df_table['Fatality Rate'] = (100* df_table['Deaths']/ df_table['Cases']).round(2)\n",
    "df_table['Continent'] = df_table['Country/Region'].map(mapping['map.continent'])\n",
    "df_table.head(5)"
   ]
  },
  {
   "cell_type": "code",
   "execution_count": 14,
   "id": "aboriginal-bulgaria",
   "metadata": {
    "execution": {
     "iopub.execute_input": "2022-07-01T00:46:43.011682Z",
     "iopub.status.busy": "2022-07-01T00:46:43.011102Z",
     "iopub.status.idle": "2022-07-01T00:46:43.013503Z",
     "shell.execute_reply": "2022-07-01T00:46:43.012989Z"
    },
    "papermill": {
     "duration": 0.038227,
     "end_time": "2022-07-01T00:46:43.013603",
     "exception": false,
     "start_time": "2022-07-01T00:46:42.975376",
     "status": "completed"
    },
    "tags": []
   },
   "outputs": [],
   "source": [
    "#hide\n",
    "#delete problematic countries from table\n",
    "df_table = df_table[~df_table['Country/Region'].isin(['Cape Verde', 'Cruise Ship', 'Kosovo'])]"
   ]
  },
  {
   "cell_type": "code",
   "execution_count": 15,
   "id": "fantastic-effect",
   "metadata": {
    "execution": {
     "iopub.execute_input": "2022-07-01T00:46:43.081796Z",
     "iopub.status.busy": "2022-07-01T00:46:43.081226Z",
     "iopub.status.idle": "2022-07-01T00:46:43.098391Z",
     "shell.execute_reply": "2022-07-01T00:46:43.097937Z"
    },
    "papermill": {
     "duration": 0.05452,
     "end_time": "2022-07-01T00:46:43.098494",
     "exception": false,
     "start_time": "2022-07-01T00:46:43.043974",
     "status": "completed"
    },
    "tags": []
   },
   "outputs": [
    {
     "data": {
      "text/html": [
       "<div>\n",
       "<style scoped>\n",
       "    .dataframe tbody tr th:only-of-type {\n",
       "        vertical-align: middle;\n",
       "    }\n",
       "\n",
       "    .dataframe tbody tr th {\n",
       "        vertical-align: top;\n",
       "    }\n",
       "\n",
       "    .dataframe thead th {\n",
       "        text-align: right;\n",
       "    }\n",
       "</style>\n",
       "<table border=\"1\" class=\"dataframe\">\n",
       "  <thead>\n",
       "    <tr style=\"text-align: right;\">\n",
       "      <th></th>\n",
       "      <th>Country/Region</th>\n",
       "      <th>Cases</th>\n",
       "      <th>Deaths</th>\n",
       "      <th>PCases</th>\n",
       "      <th>PDeaths</th>\n",
       "      <th>Cases (+)</th>\n",
       "      <th>Deaths (+)</th>\n",
       "      <th>Fatality Rate</th>\n",
       "      <th>Continent</th>\n",
       "    </tr>\n",
       "  </thead>\n",
       "  <tbody>\n",
       "    <tr>\n",
       "      <th>0</th>\n",
       "      <td>US</td>\n",
       "      <td>87487627</td>\n",
       "      <td>1017467</td>\n",
       "      <td>87293787</td>\n",
       "      <td>1016757</td>\n",
       "      <td>193840</td>\n",
       "      <td>710</td>\n",
       "      <td>1.2</td>\n",
       "      <td>North America</td>\n",
       "    </tr>\n",
       "    <tr>\n",
       "      <th>1</th>\n",
       "      <td>India</td>\n",
       "      <td>43452164</td>\n",
       "      <td>525116</td>\n",
       "      <td>43433345</td>\n",
       "      <td>525077</td>\n",
       "      <td>18819</td>\n",
       "      <td>39</td>\n",
       "      <td>1.2</td>\n",
       "      <td>Asia</td>\n",
       "    </tr>\n",
       "    <tr>\n",
       "      <th>2</th>\n",
       "      <td>Brazil</td>\n",
       "      <td>32206954</td>\n",
       "      <td>670848</td>\n",
       "      <td>32206954</td>\n",
       "      <td>670848</td>\n",
       "      <td>0</td>\n",
       "      <td>0</td>\n",
       "      <td>2.1</td>\n",
       "      <td>South America</td>\n",
       "    </tr>\n",
       "    <tr>\n",
       "      <th>3</th>\n",
       "      <td>France</td>\n",
       "      <td>31151971</td>\n",
       "      <td>150530</td>\n",
       "      <td>31027099</td>\n",
       "      <td>150482</td>\n",
       "      <td>124872</td>\n",
       "      <td>48</td>\n",
       "      <td>0.5</td>\n",
       "      <td>Europe</td>\n",
       "    </tr>\n",
       "    <tr>\n",
       "      <th>4</th>\n",
       "      <td>Germany</td>\n",
       "      <td>28180861</td>\n",
       "      <td>141105</td>\n",
       "      <td>28048190</td>\n",
       "      <td>141022</td>\n",
       "      <td>132671</td>\n",
       "      <td>83</td>\n",
       "      <td>0.5</td>\n",
       "      <td>Europe</td>\n",
       "    </tr>\n",
       "  </tbody>\n",
       "</table>\n",
       "</div>"
      ],
      "text/plain": [
       "  Country/Region     Cases   Deaths    PCases  PDeaths  Cases (+)  Deaths (+)  \\\n",
       "0             US  87487627  1017467  87293787  1016757     193840         710   \n",
       "1          India  43452164   525116  43433345   525077      18819          39   \n",
       "2         Brazil  32206954   670848  32206954   670848          0           0   \n",
       "3         France  31151971   150530  31027099   150482     124872          48   \n",
       "4        Germany  28180861   141105  28048190   141022     132671          83   \n",
       "\n",
       "   Fatality Rate      Continent  \n",
       "0            1.2  North America  \n",
       "1            1.2           Asia  \n",
       "2            2.1  South America  \n",
       "3            0.5         Europe  \n",
       "4            0.5         Europe  "
      ]
     },
     "execution_count": 15,
     "metadata": {},
     "output_type": "execute_result"
    }
   ],
   "source": [
    "#hide\n",
    "df_table = (pd.DataFrame(dict(Cases=dfc_cases, Deaths=dfc_deaths, PCases=dfp_cases, PDeaths=dfp_deaths))\n",
    "             .sort_values(by=['Cases', 'Deaths'], ascending=[False, False])\n",
    "             .reset_index())\n",
    "df_table.rename(columns={'index': 'Country/Region'}, inplace=True)\n",
    "for c in 'Cases, Deaths'.split(', '):\n",
    "    df_table[f'{c} (+)'] = (df_table[c] - df_table[f'P{c}']).clip(0)  # DATA BUG\n",
    "df_table['Fatality Rate'] = (100 * df_table['Deaths'] / df_table['Cases']).round(1)\n",
    "df_table['Continent'] = df_table['Country/Region'].map(mapping['map.continent'])\n",
    "df_table.head(5)"
   ]
  },
  {
   "cell_type": "code",
   "execution_count": 16,
   "id": "fewer-occasion",
   "metadata": {
    "execution": {
     "iopub.execute_input": "2022-07-01T00:46:43.165735Z",
     "iopub.status.busy": "2022-07-01T00:46:43.165155Z",
     "iopub.status.idle": "2022-07-01T00:46:43.167600Z",
     "shell.execute_reply": "2022-07-01T00:46:43.167064Z"
    },
    "papermill": {
     "duration": 0.03819,
     "end_time": "2022-07-01T00:46:43.167699",
     "exception": false,
     "start_time": "2022-07-01T00:46:43.129509",
     "status": "completed"
    },
    "tags": []
   },
   "outputs": [],
   "source": [
    "#hide\n",
    "#delete problematic countries from table\n",
    "df_table = df_table[~df_table['Country/Region'].isin(['Cape Verde', 'Cruise Ship', 'Kosovo'])]"
   ]
  },
  {
   "cell_type": "code",
   "execution_count": 17,
   "id": "related-center",
   "metadata": {
    "execution": {
     "iopub.execute_input": "2022-07-01T00:46:43.236192Z",
     "iopub.status.busy": "2022-07-01T00:46:43.235628Z",
     "iopub.status.idle": "2022-07-01T00:46:43.248822Z",
     "shell.execute_reply": "2022-07-01T00:46:43.249491Z"
    },
    "papermill": {
     "duration": 0.05101,
     "end_time": "2022-07-01T00:46:43.249623",
     "exception": false,
     "start_time": "2022-07-01T00:46:43.198613",
     "status": "completed"
    },
    "tags": []
   },
   "outputs": [],
   "source": [
    "#hide\n",
    "metrics = [df_table.columns[index] for index in [1,2,5,6]]\n",
    "# s_china = df_table[df_table['Country/Region'].eq('China')][metrics].sum().add_prefix('China ')\n",
    "s_us = df_table[df_table['Country/Region'].eq('US')][metrics].sum().add_prefix('US ')\n",
    "s_eu = df_table[df_table['Continent'].eq('Europe')][metrics].sum().add_prefix('EU ')\n",
    "s_ind = df_table[df_table['Country/Region'].eq('India')][metrics].sum().add_prefix('India ')\n",
    "summary = {'updated': pd.to_datetime(dt_today), 'since': pd.to_datetime(dt_yday)}\n",
    "summary = {'updated': pd.to_datetime(dt_today), 'since': pd.to_datetime(dt_yday)}\n",
    "summary = {**summary, **df_table[metrics].sum(), **s_ind, **s_us, **s_eu}"
   ]
  },
  {
   "cell_type": "code",
   "execution_count": 18,
   "id": "engaging-syndrome",
   "metadata": {
    "execution": {
     "iopub.execute_input": "2022-07-01T00:46:43.317237Z",
     "iopub.status.busy": "2022-07-01T00:46:43.316670Z",
     "iopub.status.idle": "2022-07-01T00:46:43.333208Z",
     "shell.execute_reply": "2022-07-01T00:46:43.332714Z"
    },
    "papermill": {
     "duration": 0.051989,
     "end_time": "2022-07-01T00:46:43.333316",
     "exception": false,
     "start_time": "2022-07-01T00:46:43.281327",
     "status": "completed"
    },
    "tags": []
   },
   "outputs": [],
   "source": [
    "#hide\n",
    "dft_ct_new_cases = dft_cases.groupby(COL_REGION)[dt_cols].sum().diff(axis=1).fillna(0).astype(int)"
   ]
  },
  {
   "cell_type": "code",
   "execution_count": 19,
   "id": "neutral-assignment",
   "metadata": {
    "execution": {
     "iopub.execute_input": "2022-07-01T00:46:43.401214Z",
     "iopub.status.busy": "2022-07-01T00:46:43.400636Z",
     "iopub.status.idle": "2022-07-01T00:46:43.403091Z",
     "shell.execute_reply": "2022-07-01T00:46:43.402538Z"
    },
    "papermill": {
     "duration": 0.038932,
     "end_time": "2022-07-01T00:46:43.403195",
     "exception": false,
     "start_time": "2022-07-01T00:46:43.364263",
     "status": "completed"
    },
    "tags": []
   },
   "outputs": [],
   "source": [
    "#hide\n",
    "everydaycases = dft_ct_new_cases.cumsum(axis=1)"
   ]
  },
  {
   "cell_type": "code",
   "execution_count": 20,
   "id": "parliamentary-calgary",
   "metadata": {
    "execution": {
     "iopub.execute_input": "2022-07-01T00:46:43.469654Z",
     "iopub.status.busy": "2022-07-01T00:46:43.469100Z",
     "iopub.status.idle": "2022-07-01T00:46:44.004200Z",
     "shell.execute_reply": "2022-07-01T00:46:44.003707Z"
    },
    "papermill": {
     "duration": 0.570076,
     "end_time": "2022-07-01T00:46:44.004316",
     "exception": false,
     "start_time": "2022-07-01T00:46:43.434240",
     "status": "completed"
    },
    "tags": []
   },
   "outputs": [],
   "source": [
    "#hide\n",
    "import pandas as pd\n",
    "import matplotlib.pyplot as plt\n",
    "import matplotlib.ticker as ticker\n",
    "import matplotlib.animation as animation\n",
    "from IPython.display import HTML"
   ]
  },
  {
   "cell_type": "code",
   "execution_count": 21,
   "id": "lasting-extraction",
   "metadata": {
    "execution": {
     "iopub.execute_input": "2022-07-01T00:46:44.072297Z",
     "iopub.status.busy": "2022-07-01T00:46:44.071737Z",
     "iopub.status.idle": "2022-07-01T00:46:44.077792Z",
     "shell.execute_reply": "2022-07-01T00:46:44.078221Z"
    },
    "papermill": {
     "duration": 0.042879,
     "end_time": "2022-07-01T00:46:44.078341",
     "exception": false,
     "start_time": "2022-07-01T00:46:44.035462",
     "status": "completed"
    },
    "tags": []
   },
   "outputs": [],
   "source": [
    "#hide\n",
    "t = everydaycases.stack()"
   ]
  },
  {
   "cell_type": "code",
   "execution_count": 22,
   "id": "premier-sleeve",
   "metadata": {
    "execution": {
     "iopub.execute_input": "2022-07-01T00:46:44.144413Z",
     "iopub.status.busy": "2022-07-01T00:46:44.143853Z",
     "iopub.status.idle": "2022-07-01T00:46:44.154805Z",
     "shell.execute_reply": "2022-07-01T00:46:44.154276Z"
    },
    "papermill": {
     "duration": 0.045486,
     "end_time": "2022-07-01T00:46:44.154908",
     "exception": false,
     "start_time": "2022-07-01T00:46:44.109422",
     "status": "completed"
    },
    "tags": []
   },
   "outputs": [],
   "source": [
    "#hide\n",
    "g = t.reset_index(['Country/Region'])"
   ]
  },
  {
   "cell_type": "code",
   "execution_count": 23,
   "id": "distributed-pittsburgh",
   "metadata": {
    "execution": {
     "iopub.execute_input": "2022-07-01T00:46:44.220607Z",
     "iopub.status.busy": "2022-07-01T00:46:44.220045Z",
     "iopub.status.idle": "2022-07-01T00:46:44.222518Z",
     "shell.execute_reply": "2022-07-01T00:46:44.222087Z"
    },
    "papermill": {
     "duration": 0.036755,
     "end_time": "2022-07-01T00:46:44.222620",
     "exception": false,
     "start_time": "2022-07-01T00:46:44.185865",
     "status": "completed"
    },
    "tags": []
   },
   "outputs": [],
   "source": [
    "#hide\n",
    "g.index.name = 'date'"
   ]
  },
  {
   "cell_type": "code",
   "execution_count": 24,
   "id": "naked-donor",
   "metadata": {
    "execution": {
     "iopub.execute_input": "2022-07-01T00:46:44.288147Z",
     "iopub.status.busy": "2022-07-01T00:46:44.287594Z",
     "iopub.status.idle": "2022-07-01T00:46:44.289394Z",
     "shell.execute_reply": "2022-07-01T00:46:44.289786Z"
    },
    "papermill": {
     "duration": 0.036274,
     "end_time": "2022-07-01T00:46:44.289902",
     "exception": false,
     "start_time": "2022-07-01T00:46:44.253628",
     "status": "completed"
    },
    "tags": []
   },
   "outputs": [],
   "source": [
    "# #hide\n",
    "# g = g.reset_index(['date'])"
   ]
  },
  {
   "cell_type": "code",
   "execution_count": 25,
   "id": "incomplete-mustang",
   "metadata": {
    "execution": {
     "iopub.execute_input": "2022-07-01T00:46:44.355538Z",
     "iopub.status.busy": "2022-07-01T00:46:44.354949Z",
     "iopub.status.idle": "2022-07-01T00:46:44.357428Z",
     "shell.execute_reply": "2022-07-01T00:46:44.356987Z"
    },
    "papermill": {
     "duration": 0.036749,
     "end_time": "2022-07-01T00:46:44.357529",
     "exception": false,
     "start_time": "2022-07-01T00:46:44.320780",
     "status": "completed"
    },
    "tags": []
   },
   "outputs": [],
   "source": [
    "#hide\n",
    "# g.head()"
   ]
  },
  {
   "cell_type": "code",
   "execution_count": 26,
   "id": "specific-kruger",
   "metadata": {
    "execution": {
     "iopub.execute_input": "2022-07-01T00:46:44.423045Z",
     "iopub.status.busy": "2022-07-01T00:46:44.422455Z",
     "iopub.status.idle": "2022-07-01T00:46:44.424889Z",
     "shell.execute_reply": "2022-07-01T00:46:44.424472Z"
    },
    "papermill": {
     "duration": 0.036378,
     "end_time": "2022-07-01T00:46:44.424989",
     "exception": false,
     "start_time": "2022-07-01T00:46:44.388611",
     "status": "completed"
    },
    "tags": []
   },
   "outputs": [],
   "source": [
    "#hide\n",
    "# g.columns = ['date','country','cases']"
   ]
  },
  {
   "cell_type": "code",
   "execution_count": 27,
   "id": "tender-conversion",
   "metadata": {
    "execution": {
     "iopub.execute_input": "2022-07-01T00:46:44.490199Z",
     "iopub.status.busy": "2022-07-01T00:46:44.489644Z",
     "iopub.status.idle": "2022-07-01T00:46:44.492160Z",
     "shell.execute_reply": "2022-07-01T00:46:44.491681Z"
    },
    "papermill": {
     "duration": 0.036426,
     "end_time": "2022-07-01T00:46:44.492261",
     "exception": false,
     "start_time": "2022-07-01T00:46:44.455835",
     "status": "completed"
    },
    "tags": []
   },
   "outputs": [],
   "source": [
    "#hide\n",
    "# g['continent'] = g.country"
   ]
  },
  {
   "cell_type": "code",
   "execution_count": 28,
   "id": "substantial-wilderness",
   "metadata": {
    "execution": {
     "iopub.execute_input": "2022-07-01T00:46:44.557688Z",
     "iopub.status.busy": "2022-07-01T00:46:44.557113Z",
     "iopub.status.idle": "2022-07-01T00:46:44.559045Z",
     "shell.execute_reply": "2022-07-01T00:46:44.558457Z"
    },
    "papermill": {
     "duration": 0.035879,
     "end_time": "2022-07-01T00:46:44.559168",
     "exception": false,
     "start_time": "2022-07-01T00:46:44.523289",
     "status": "completed"
    },
    "tags": []
   },
   "outputs": [],
   "source": [
    "#hide\n",
    "# cols = list(g.columns.values)"
   ]
  },
  {
   "cell_type": "code",
   "execution_count": 29,
   "id": "solved-farming",
   "metadata": {
    "execution": {
     "iopub.execute_input": "2022-07-01T00:46:44.625054Z",
     "iopub.status.busy": "2022-07-01T00:46:44.624489Z",
     "iopub.status.idle": "2022-07-01T00:46:44.626651Z",
     "shell.execute_reply": "2022-07-01T00:46:44.627074Z"
    },
    "papermill": {
     "duration": 0.036667,
     "end_time": "2022-07-01T00:46:44.627196",
     "exception": false,
     "start_time": "2022-07-01T00:46:44.590529",
     "status": "completed"
    },
    "tags": []
   },
   "outputs": [],
   "source": [
    "#hide\n",
    "# cols.insert(0, cols.pop())"
   ]
  },
  {
   "cell_type": "code",
   "execution_count": 30,
   "id": "executed-adoption",
   "metadata": {
    "execution": {
     "iopub.execute_input": "2022-07-01T00:46:44.692574Z",
     "iopub.status.busy": "2022-07-01T00:46:44.692002Z",
     "iopub.status.idle": "2022-07-01T00:46:44.693874Z",
     "shell.execute_reply": "2022-07-01T00:46:44.693359Z"
    },
    "papermill": {
     "duration": 0.035792,
     "end_time": "2022-07-01T00:46:44.693973",
     "exception": false,
     "start_time": "2022-07-01T00:46:44.658181",
     "status": "completed"
    },
    "tags": []
   },
   "outputs": [],
   "source": [
    "#hide\n",
    "# g = g[cols]"
   ]
  },
  {
   "cell_type": "code",
   "execution_count": 31,
   "id": "subject-dublin",
   "metadata": {
    "execution": {
     "iopub.execute_input": "2022-07-01T00:46:44.759077Z",
     "iopub.status.busy": "2022-07-01T00:46:44.758478Z",
     "iopub.status.idle": "2022-07-01T00:46:44.760334Z",
     "shell.execute_reply": "2022-07-01T00:46:44.759824Z"
    },
    "papermill": {
     "duration": 0.035724,
     "end_time": "2022-07-01T00:46:44.760431",
     "exception": false,
     "start_time": "2022-07-01T00:46:44.724707",
     "status": "completed"
    },
    "tags": []
   },
   "outputs": [],
   "source": [
    "#hide\n",
    "# g['continent'] = g['continent'].map(mapping['map.continent'])"
   ]
  },
  {
   "cell_type": "code",
   "execution_count": 32,
   "id": "freelance-scout",
   "metadata": {
    "execution": {
     "iopub.execute_input": "2022-07-01T00:46:44.826153Z",
     "iopub.status.busy": "2022-07-01T00:46:44.825583Z",
     "iopub.status.idle": "2022-07-01T00:46:44.828079Z",
     "shell.execute_reply": "2022-07-01T00:46:44.827605Z"
    },
    "papermill": {
     "duration": 0.036725,
     "end_time": "2022-07-01T00:46:44.828180",
     "exception": false,
     "start_time": "2022-07-01T00:46:44.791455",
     "status": "completed"
    },
    "tags": []
   },
   "outputs": [],
   "source": [
    "#hide\n",
    "# g.head()"
   ]
  },
  {
   "cell_type": "code",
   "execution_count": 33,
   "id": "limited-engine",
   "metadata": {
    "execution": {
     "iopub.execute_input": "2022-07-01T00:46:44.893505Z",
     "iopub.status.busy": "2022-07-01T00:46:44.892935Z",
     "iopub.status.idle": "2022-07-01T00:46:44.894938Z",
     "shell.execute_reply": "2022-07-01T00:46:44.895376Z"
    },
    "papermill": {
     "duration": 0.036631,
     "end_time": "2022-07-01T00:46:44.895489",
     "exception": false,
     "start_time": "2022-07-01T00:46:44.858858",
     "status": "completed"
    },
    "tags": []
   },
   "outputs": [],
   "source": [
    "# hide\n",
    "# g['date'] = g['date'].astype('datetime64[ns]')"
   ]
  },
  {
   "cell_type": "code",
   "execution_count": 34,
   "id": "sophisticated-supervisor",
   "metadata": {
    "execution": {
     "iopub.execute_input": "2022-07-01T00:46:44.961094Z",
     "iopub.status.busy": "2022-07-01T00:46:44.960524Z",
     "iopub.status.idle": "2022-07-01T00:46:44.962814Z",
     "shell.execute_reply": "2022-07-01T00:46:44.962295Z"
    },
    "papermill": {
     "duration": 0.036397,
     "end_time": "2022-07-01T00:46:44.962912",
     "exception": false,
     "start_time": "2022-07-01T00:46:44.926515",
     "status": "completed"
    },
    "tags": []
   },
   "outputs": [],
   "source": [
    "#hide\n",
    "# g['date'] = g.date.dt.dayofyear"
   ]
  },
  {
   "cell_type": "code",
   "execution_count": 35,
   "id": "inside-dubai",
   "metadata": {
    "execution": {
     "iopub.execute_input": "2022-07-01T00:46:45.028259Z",
     "iopub.status.busy": "2022-07-01T00:46:45.027696Z",
     "iopub.status.idle": "2022-07-01T00:46:45.030096Z",
     "shell.execute_reply": "2022-07-01T00:46:45.029571Z"
    },
    "papermill": {
     "duration": 0.036429,
     "end_time": "2022-07-01T00:46:45.030194",
     "exception": false,
     "start_time": "2022-07-01T00:46:44.993765",
     "status": "completed"
    },
    "tags": []
   },
   "outputs": [],
   "source": [
    "#hide\n",
    "# g = g.rename(columns= {'continent':'group','country':'name','cases':'value'})"
   ]
  },
  {
   "cell_type": "code",
   "execution_count": 36,
   "id": "fleet-motorcycle",
   "metadata": {
    "execution": {
     "iopub.execute_input": "2022-07-01T00:46:45.095616Z",
     "iopub.status.busy": "2022-07-01T00:46:45.095053Z",
     "iopub.status.idle": "2022-07-01T00:46:45.097442Z",
     "shell.execute_reply": "2022-07-01T00:46:45.097005Z"
    },
    "papermill": {
     "duration": 0.036348,
     "end_time": "2022-07-01T00:46:45.097539",
     "exception": false,
     "start_time": "2022-07-01T00:46:45.061191",
     "status": "completed"
    },
    "tags": []
   },
   "outputs": [],
   "source": [
    "#hide\n",
    "# cols = ['name','group','day','value']"
   ]
  },
  {
   "cell_type": "code",
   "execution_count": 37,
   "id": "continued-sleeping",
   "metadata": {
    "execution": {
     "iopub.execute_input": "2022-07-01T00:46:45.162944Z",
     "iopub.status.busy": "2022-07-01T00:46:45.162385Z",
     "iopub.status.idle": "2022-07-01T00:46:45.164857Z",
     "shell.execute_reply": "2022-07-01T00:46:45.164423Z"
    },
    "papermill": {
     "duration": 0.036564,
     "end_time": "2022-07-01T00:46:45.164954",
     "exception": false,
     "start_time": "2022-07-01T00:46:45.128390",
     "status": "completed"
    },
    "tags": []
   },
   "outputs": [],
   "source": [
    "#hide\n",
    "# g.rename(columns= {'date':'day'},inplace = True)"
   ]
  },
  {
   "cell_type": "code",
   "execution_count": 38,
   "id": "major-fight",
   "metadata": {
    "execution": {
     "iopub.execute_input": "2022-07-01T00:46:45.230399Z",
     "iopub.status.busy": "2022-07-01T00:46:45.229831Z",
     "iopub.status.idle": "2022-07-01T00:46:45.232214Z",
     "shell.execute_reply": "2022-07-01T00:46:45.231779Z"
    },
    "papermill": {
     "duration": 0.036431,
     "end_time": "2022-07-01T00:46:45.232312",
     "exception": false,
     "start_time": "2022-07-01T00:46:45.195881",
     "status": "completed"
    },
    "tags": []
   },
   "outputs": [],
   "source": [
    "#hide\n",
    "# g = g[cols]"
   ]
  },
  {
   "cell_type": "code",
   "execution_count": 39,
   "id": "structured-mobile",
   "metadata": {
    "execution": {
     "iopub.execute_input": "2022-07-01T00:46:45.297449Z",
     "iopub.status.busy": "2022-07-01T00:46:45.296884Z",
     "iopub.status.idle": "2022-07-01T00:46:45.299310Z",
     "shell.execute_reply": "2022-07-01T00:46:45.298850Z"
    },
    "papermill": {
     "duration": 0.036328,
     "end_time": "2022-07-01T00:46:45.299412",
     "exception": false,
     "start_time": "2022-07-01T00:46:45.263084",
     "status": "completed"
    },
    "tags": []
   },
   "outputs": [],
   "source": [
    "# #hide\n",
    "# g = g[g.group.notna()]"
   ]
  },
  {
   "cell_type": "code",
   "execution_count": 40,
   "id": "determined-closing",
   "metadata": {
    "execution": {
     "iopub.execute_input": "2022-07-01T00:46:45.365285Z",
     "iopub.status.busy": "2022-07-01T00:46:45.364696Z",
     "iopub.status.idle": "2022-07-01T00:46:45.367191Z",
     "shell.execute_reply": "2022-07-01T00:46:45.366713Z"
    },
    "papermill": {
     "duration": 0.036822,
     "end_time": "2022-07-01T00:46:45.367295",
     "exception": false,
     "start_time": "2022-07-01T00:46:45.330473",
     "status": "completed"
    },
    "tags": []
   },
   "outputs": [],
   "source": [
    "# #hide\n",
    "# colors = dict(zip(\n",
    "#     [\"Oceania\", \"Europe\", \"Asia\", \"South America\", \"Middle East\", \"North America\", \"Africa\"],\n",
    "#     [\"#adb0ff\", \"#ffb3ff\", \"#90d595\", \"#e48381\", \"#aafbff\", \"#f7bb5f\", \"#eafb50\"]\n",
    "# ))\n",
    "# group_lk = g.set_index('name')['group'].to_dict()"
   ]
  },
  {
   "cell_type": "code",
   "execution_count": null,
   "id": "gross-drinking",
   "metadata": {
    "papermill": {
     "duration": 0.030723,
     "end_time": "2022-07-01T00:46:45.429083",
     "exception": false,
     "start_time": "2022-07-01T00:46:45.398360",
     "status": "completed"
    },
    "tags": []
   },
   "outputs": [],
   "source": []
  },
  {
   "cell_type": "code",
   "execution_count": 41,
   "id": "subject-macintosh",
   "metadata": {
    "execution": {
     "iopub.execute_input": "2022-07-01T00:46:45.495307Z",
     "iopub.status.busy": "2022-07-01T00:46:45.494686Z",
     "iopub.status.idle": "2022-07-01T00:46:45.497182Z",
     "shell.execute_reply": "2022-07-01T00:46:45.496723Z"
    },
    "papermill": {
     "duration": 0.03721,
     "end_time": "2022-07-01T00:46:45.497285",
     "exception": false,
     "start_time": "2022-07-01T00:46:45.460075",
     "status": "completed"
    },
    "tags": []
   },
   "outputs": [],
   "source": [
    "# #hide\n",
    "# fig, ax = plt.subplots(figsize=(15, 8))\n",
    "\n",
    "# def draw_barchart(current_day):\n",
    "#     dff = g[g['day'].eq(current_day)].sort_values(by='value', ascending=True).tail(10)\n",
    "#     ax.clear()\n",
    "#     ax.barh(dff['name'], dff['value'], color=[colors[group_lk[x]] for x in dff['name']])\n",
    "#     dx = dff['value'].max() / 200\n",
    "    \n",
    "#     for i, (value, name) in enumerate(zip(dff['value'], dff['name'])):\n",
    "#         ax.text(value-dx, i,     name,           size=14, weight=600, ha='right', va='bottom')\n",
    "#         ax.text(value-dx, i-.25, group_lk[name], size=10, color='#444444', ha='right', va='baseline')\n",
    "#         ax.text(value+dx, i,     f'{value:,.0f}',  size=14, ha='left',  va='center')\n",
    "#     ax.text(1, 0.4, current_day, transform=ax.transAxes, color='#777777', size=46, ha='right', weight=800)\n",
    "#     ax.text(0, 1.06, 'Population (thousands)', transform=ax.transAxes, size=12, color='#777777')\n",
    "#     ax.xaxis.set_major_formatter(ticker.StrMethodFormatter('{x:,.0f}'))\n",
    "#     ax.xaxis.set_ticks_position('top')\n",
    "#     ax.tick_params(axis='x', colors='#777777', labelsize=12)\n",
    "#     ax.set_yticks([])\n",
    "#     ax.margins(0, 0.01)\n",
    "#     ax.grid(which='major', axis='x', linestyle='-')\n",
    "#     ax.set_axisbelow(True)\n",
    "    \n",
    "#     ax.text(0, 1.15, 'Coronavirus',\n",
    "#             transform=ax.transAxes, size=24, weight=600, ha='left', va='top')\n",
    "# #     ax.text(1, 0, 'by @pratapvardhan; credit @jburnmurdoch', transform=ax.transAxes, color='#777777', ha='right',\n",
    "# #             bbox=dict(facecolor='white', alpha=0.8, edgecolor='white'))\n",
    "#     plt.box(False)"
   ]
  },
  {
   "cell_type": "code",
   "execution_count": 42,
   "id": "sexual-wages",
   "metadata": {
    "execution": {
     "iopub.execute_input": "2022-07-01T00:46:45.563039Z",
     "iopub.status.busy": "2022-07-01T00:46:45.562444Z",
     "iopub.status.idle": "2022-07-01T00:46:45.564880Z",
     "shell.execute_reply": "2022-07-01T00:46:45.564440Z"
    },
    "papermill": {
     "duration": 0.036652,
     "end_time": "2022-07-01T00:46:45.564975",
     "exception": false,
     "start_time": "2022-07-01T00:46:45.528323",
     "status": "completed"
    },
    "tags": []
   },
   "outputs": [],
   "source": [
    "# #hide_input\n",
    "# fig, ax = plt.subplots(figsize=(15, 8))\n",
    "# animator = animation.FuncAnimation(fig, draw_barchart, frames=range(g.day.values.min(), g.day.values.max()))\n",
    "# HTML(animator.to_jshtml())\n",
    "# # or use animator.to_html5_video() or animator.save() "
   ]
  },
  {
   "cell_type": "code",
   "execution_count": null,
   "id": "australian-container",
   "metadata": {
    "papermill": {
     "duration": 0.031425,
     "end_time": "2022-07-01T00:46:45.628174",
     "exception": false,
     "start_time": "2022-07-01T00:46:45.596749",
     "status": "completed"
    },
    "tags": []
   },
   "outputs": [],
   "source": []
  },
  {
   "cell_type": "code",
   "execution_count": null,
   "id": "mediterranean-pontiac",
   "metadata": {
    "papermill": {
     "duration": 0.030982,
     "end_time": "2022-07-01T00:46:45.690273",
     "exception": false,
     "start_time": "2022-07-01T00:46:45.659291",
     "status": "completed"
    },
    "tags": []
   },
   "outputs": [],
   "source": []
  },
  {
   "cell_type": "code",
   "execution_count": null,
   "id": "aging-legislature",
   "metadata": {
    "papermill": {
     "duration": 0.031086,
     "end_time": "2022-07-01T00:46:45.752686",
     "exception": false,
     "start_time": "2022-07-01T00:46:45.721600",
     "status": "completed"
    },
    "tags": []
   },
   "outputs": [],
   "source": []
  }
 ],
 "metadata": {
  "kernelspec": {
   "display_name": "Python 3",
   "language": "python",
   "name": "python3"
  },
  "language_info": {
   "codemirror_mode": {
    "name": "ipython",
    "version": 3
   },
   "file_extension": ".py",
   "mimetype": "text/x-python",
   "name": "python",
   "nbconvert_exporter": "python",
   "pygments_lexer": "ipython3",
   "version": "3.6.15"
  },
  "papermill": {
   "duration": 5.823311,
   "end_time": "2022-07-01T00:46:46.101333",
   "environment_variables": {},
   "exception": null,
   "input_path": "2020-03-21-covid19exp.ipynb",
   "output_path": "2020-03-21-covid19exp.ipynb",
   "parameters": {},
   "start_time": "2022-07-01T00:46:40.278022",
   "version": "2.0.0"
  }
 },
 "nbformat": 4,
 "nbformat_minor": 5
}