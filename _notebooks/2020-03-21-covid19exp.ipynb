{
 "cells": [
  {
   "cell_type": "markdown",
   "id": "muslim-click",
   "metadata": {
    "papermill": {
     "duration": 0.036082,
     "end_time": "2022-07-05T12:16:40.889525",
     "exception": false,
     "start_time": "2022-07-05T12:16:40.853443",
     "status": "completed"
    },
    "tags": []
   },
   "source": [
    "# COVID-19 Case Race\n",
    "> A race chart to see rising cases around the world\n",
    "\n",
    "- author: Hargun Oberoi\n",
    "- image: images/covid-overview.png\n",
    "- hide: false\n",
    "- badges: false"
   ]
  },
  {
   "cell_type": "code",
   "execution_count": 1,
   "id": "proof-material",
   "metadata": {
    "execution": {
     "iopub.execute_input": "2022-07-05T12:16:40.969130Z",
     "iopub.status.busy": "2022-07-05T12:16:40.965050Z",
     "iopub.status.idle": "2022-07-05T12:16:41.324114Z",
     "shell.execute_reply": "2022-07-05T12:16:41.323489Z"
    },
    "papermill": {
     "duration": 0.399116,
     "end_time": "2022-07-05T12:16:41.324263",
     "exception": false,
     "start_time": "2022-07-05T12:16:40.925147",
     "status": "completed"
    },
    "tags": []
   },
   "outputs": [],
   "source": [
    "#hide\n",
    "import numpy as np\n",
    "import pandas as pd\n",
    "from jinja2 import Template\n",
    "from IPython.display import HTML"
   ]
  },
  {
   "cell_type": "code",
   "execution_count": 2,
   "id": "developed-terminology",
   "metadata": {
    "execution": {
     "iopub.execute_input": "2022-07-05T12:16:41.395741Z",
     "iopub.status.busy": "2022-07-05T12:16:41.395041Z",
     "iopub.status.idle": "2022-07-05T12:16:41.397575Z",
     "shell.execute_reply": "2022-07-05T12:16:41.397050Z"
    },
    "papermill": {
     "duration": 0.041515,
     "end_time": "2022-07-05T12:16:41.397688",
     "exception": false,
     "start_time": "2022-07-05T12:16:41.356173",
     "status": "completed"
    },
    "tags": []
   },
   "outputs": [],
   "source": [
    "#hide\n",
    "\n",
    "# FETCH\n",
    "base_url = 'https://raw.githubusercontent.com/pratapvardhan/notebooks/master/covid19/'\n",
    "paths = {\n",
    "    'mapping': base_url + 'mapping_countries.csv',\n",
    "    'overview': base_url + 'overview.tpl'\n",
    "}"
   ]
  },
  {
   "cell_type": "code",
   "execution_count": 3,
   "id": "dynamic-saver",
   "metadata": {
    "execution": {
     "iopub.execute_input": "2022-07-05T12:16:41.470277Z",
     "iopub.status.busy": "2022-07-05T12:16:41.466916Z",
     "iopub.status.idle": "2022-07-05T12:16:41.473811Z",
     "shell.execute_reply": "2022-07-05T12:16:41.473209Z"
    },
    "papermill": {
     "duration": 0.044834,
     "end_time": "2022-07-05T12:16:41.473921",
     "exception": false,
     "start_time": "2022-07-05T12:16:41.429087",
     "status": "completed"
    },
    "tags": []
   },
   "outputs": [
    {
     "data": {
      "text/plain": [
       "'https://raw.githubusercontent.com/pratapvardhan/notebooks/master/covid19/mapping_countries.csv'"
      ]
     },
     "execution_count": 3,
     "metadata": {},
     "output_type": "execute_result"
    }
   ],
   "source": [
    "#hide\n",
    "paths['mapping']"
   ]
  },
  {
   "cell_type": "code",
   "execution_count": 4,
   "id": "urban-software",
   "metadata": {
    "execution": {
     "iopub.execute_input": "2022-07-05T12:16:41.545345Z",
     "iopub.status.busy": "2022-07-05T12:16:41.544287Z",
     "iopub.status.idle": "2022-07-05T12:16:41.546065Z",
     "shell.execute_reply": "2022-07-05T12:16:41.546567Z"
    },
    "papermill": {
     "duration": 0.041094,
     "end_time": "2022-07-05T12:16:41.546697",
     "exception": false,
     "start_time": "2022-07-05T12:16:41.505603",
     "status": "completed"
    },
    "tags": []
   },
   "outputs": [],
   "source": [
    "#hide\n",
    "def get_mappings(url):\n",
    "    df = pd.read_csv(url)\n",
    "    return {\n",
    "        'df': df,\n",
    "        'replace.country': dict(df.dropna(subset=['Name']).set_index('Country')['Name']),\n",
    "        'map.continent': dict(df.set_index('Name')['Continent'])\n",
    "    }"
   ]
  },
  {
   "cell_type": "code",
   "execution_count": 5,
   "id": "intimate-machinery",
   "metadata": {
    "execution": {
     "iopub.execute_input": "2022-07-05T12:16:41.618154Z",
     "iopub.status.busy": "2022-07-05T12:16:41.617520Z",
     "iopub.status.idle": "2022-07-05T12:16:41.645154Z",
     "shell.execute_reply": "2022-07-05T12:16:41.644483Z"
    },
    "papermill": {
     "duration": 0.067048,
     "end_time": "2022-07-05T12:16:41.645297",
     "exception": false,
     "start_time": "2022-07-05T12:16:41.578249",
     "status": "completed"
    },
    "tags": []
   },
   "outputs": [],
   "source": [
    "#hide\n",
    "mapping = get_mappings(paths['mapping'])"
   ]
  },
  {
   "cell_type": "code",
   "execution_count": 6,
   "id": "certified-tactics",
   "metadata": {
    "execution": {
     "iopub.execute_input": "2022-07-05T12:16:41.717227Z",
     "iopub.status.busy": "2022-07-05T12:16:41.716050Z",
     "iopub.status.idle": "2022-07-05T12:16:41.718127Z",
     "shell.execute_reply": "2022-07-05T12:16:41.718633Z"
    },
    "papermill": {
     "duration": 0.042794,
     "end_time": "2022-07-05T12:16:41.718768",
     "exception": false,
     "start_time": "2022-07-05T12:16:41.675974",
     "status": "completed"
    },
    "tags": []
   },
   "outputs": [],
   "source": [
    "#hide\n",
    "def get_template(path):\n",
    "    from urllib.parse import urlparse\n",
    "    if bool(urlparse(path).netloc):\n",
    "        from urllib.request import urlopen\n",
    "        return urlopen(path).read().decode('utf8')\n",
    "    return open(path).read()"
   ]
  },
  {
   "cell_type": "code",
   "execution_count": 7,
   "id": "realistic-blast",
   "metadata": {
    "execution": {
     "iopub.execute_input": "2022-07-05T12:16:41.789447Z",
     "iopub.status.busy": "2022-07-05T12:16:41.788758Z",
     "iopub.status.idle": "2022-07-05T12:16:41.792991Z",
     "shell.execute_reply": "2022-07-05T12:16:41.792484Z"
    },
    "papermill": {
     "duration": 0.043399,
     "end_time": "2022-07-05T12:16:41.793103",
     "exception": false,
     "start_time": "2022-07-05T12:16:41.749704",
     "status": "completed"
    },
    "tags": []
   },
   "outputs": [],
   "source": [
    "#hide\n",
    "def get_frame(name):\n",
    "    url = (\n",
    "        'https://raw.githubusercontent.com/CSSEGISandData/COVID-19/master/csse_covid_19_data/'\n",
    "        f'csse_covid_19_time_series/time_series_covid19_{name}_global.csv')\n",
    "    df = pd.read_csv(url)\n",
    "    # rename countries\n",
    "    df['Country/Region'] = df['Country/Region'].replace(mapping['replace.country'])\n",
    "    return df"
   ]
  },
  {
   "cell_type": "code",
   "execution_count": 8,
   "id": "affiliated-characterization",
   "metadata": {
    "execution": {
     "iopub.execute_input": "2022-07-05T12:16:41.862723Z",
     "iopub.status.busy": "2022-07-05T12:16:41.861964Z",
     "iopub.status.idle": "2022-07-05T12:16:41.864996Z",
     "shell.execute_reply": "2022-07-05T12:16:41.864462Z"
    },
    "papermill": {
     "duration": 0.040499,
     "end_time": "2022-07-05T12:16:41.865107",
     "exception": false,
     "start_time": "2022-07-05T12:16:41.824608",
     "status": "completed"
    },
    "tags": []
   },
   "outputs": [],
   "source": [
    "#hide\n",
    "def get_dates(df):\n",
    "    dt_cols = df.columns[~df.columns.isin(['Province/State', 'Country/Region', 'Lat', 'Long'])]\n",
    "    LAST_DATE_I = -1\n",
    "    # sometimes last column may be empty, then go backwards\n",
    "    for i in range(-1, -len(dt_cols), -1):\n",
    "        if not df[dt_cols[i]].fillna(0).eq(0).all():\n",
    "            LAST_DATE_I = i\n",
    "            break\n",
    "    return LAST_DATE_I, dt_cols"
   ]
  },
  {
   "cell_type": "code",
   "execution_count": 9,
   "id": "recent-optimization",
   "metadata": {
    "execution": {
     "iopub.execute_input": "2022-07-05T12:16:41.936946Z",
     "iopub.status.busy": "2022-07-05T12:16:41.935762Z",
     "iopub.status.idle": "2022-07-05T12:16:42.306658Z",
     "shell.execute_reply": "2022-07-05T12:16:42.306038Z"
    },
    "papermill": {
     "duration": 0.409315,
     "end_time": "2022-07-05T12:16:42.306813",
     "exception": false,
     "start_time": "2022-07-05T12:16:41.897498",
     "status": "completed"
    },
    "tags": []
   },
   "outputs": [],
   "source": [
    "#hide\n",
    "COL_REGION = 'Country/Region'\n",
    "# Confirmed, Recovered, Deaths\n",
    "df = get_frame('confirmed')\n",
    "# dft_: timeseries, dfc_: today country agg\n",
    "dft_cases = df\n",
    "dft_deaths = get_frame('deaths')\n",
    "dft_recovered = get_frame('recovered')\n",
    "LAST_DATE_I, dt_cols = get_dates(df)"
   ]
  },
  {
   "cell_type": "code",
   "execution_count": 10,
   "id": "absolute-copper",
   "metadata": {
    "execution": {
     "iopub.execute_input": "2022-07-05T12:16:42.380890Z",
     "iopub.status.busy": "2022-07-05T12:16:42.380260Z",
     "iopub.status.idle": "2022-07-05T12:16:42.382735Z",
     "shell.execute_reply": "2022-07-05T12:16:42.383216Z"
    },
    "papermill": {
     "duration": 0.043075,
     "end_time": "2022-07-05T12:16:42.383349",
     "exception": false,
     "start_time": "2022-07-05T12:16:42.340274",
     "status": "completed"
    },
    "tags": []
   },
   "outputs": [],
   "source": [
    "#hide\n",
    "LAST_DATE_I, dt_cols = get_dates(df)\n",
    "dt_today =dt_cols[LAST_DATE_I]\n",
    "# dt_5day = dt_cols[LAST_DATE_I - 5]\n",
    "dt_yday = dt_cols[LAST_DATE_I - 1]"
   ]
  },
  {
   "cell_type": "code",
   "execution_count": 11,
   "id": "restricted-sheriff",
   "metadata": {
    "execution": {
     "iopub.execute_input": "2022-07-05T12:16:42.457948Z",
     "iopub.status.busy": "2022-07-05T12:16:42.456815Z",
     "iopub.status.idle": "2022-07-05T12:16:42.463188Z",
     "shell.execute_reply": "2022-07-05T12:16:42.462639Z"
    },
    "papermill": {
     "duration": 0.046885,
     "end_time": "2022-07-05T12:16:42.463309",
     "exception": false,
     "start_time": "2022-07-05T12:16:42.416424",
     "status": "completed"
    },
    "tags": []
   },
   "outputs": [],
   "source": [
    "#hide\n",
    "dfc_cases = dft_cases.groupby(COL_REGION)[dt_today].sum()\n",
    "dfc_deaths = dft_deaths.groupby(COL_REGION)[dt_today].sum()\n",
    "# dfp_cases = dft_cases.groupby(COL_REGION)[dt_5day].sum()\n",
    "# dfp_deaths = dft_deaths.groupby(COL_REGION)[dt_5day].sum()\n",
    "dfp_cases = dft_cases.groupby(COL_REGION)[dt_yday].sum()\n",
    "dfp_deaths = dft_deaths.groupby(COL_REGION)[dt_yday].sum()"
   ]
  },
  {
   "cell_type": "code",
   "execution_count": 12,
   "id": "deluxe-hepatitis",
   "metadata": {
    "execution": {
     "iopub.execute_input": "2022-07-05T12:16:42.534205Z",
     "iopub.status.busy": "2022-07-05T12:16:42.533582Z",
     "iopub.status.idle": "2022-07-05T12:16:42.539119Z",
     "shell.execute_reply": "2022-07-05T12:16:42.538471Z"
    },
    "papermill": {
     "duration": 0.043319,
     "end_time": "2022-07-05T12:16:42.539230",
     "exception": false,
     "start_time": "2022-07-05T12:16:42.495911",
     "status": "completed"
    },
    "tags": []
   },
   "outputs": [],
   "source": [
    "#hide\n",
    "df_table = (pd.DataFrame(dict(Cases = dfc_cases, Deaths = dfc_deaths, PCases = dfp_cases, PDeaths = dfp_deaths))\n",
    "            .sort_values(by = ['Cases','Deaths'], ascending = [False, False])\n",
    "            .reset_index())"
   ]
  },
  {
   "cell_type": "code",
   "execution_count": 13,
   "id": "educational-chancellor",
   "metadata": {
    "execution": {
     "iopub.execute_input": "2022-07-05T12:16:42.627597Z",
     "iopub.status.busy": "2022-07-05T12:16:42.626849Z",
     "iopub.status.idle": "2022-07-05T12:16:42.635522Z",
     "shell.execute_reply": "2022-07-05T12:16:42.636037Z"
    },
    "papermill": {
     "duration": 0.063718,
     "end_time": "2022-07-05T12:16:42.636174",
     "exception": false,
     "start_time": "2022-07-05T12:16:42.572456",
     "status": "completed"
    },
    "tags": []
   },
   "outputs": [
    {
     "data": {
      "text/html": [
       "<div>\n",
       "<style scoped>\n",
       "    .dataframe tbody tr th:only-of-type {\n",
       "        vertical-align: middle;\n",
       "    }\n",
       "\n",
       "    .dataframe tbody tr th {\n",
       "        vertical-align: top;\n",
       "    }\n",
       "\n",
       "    .dataframe thead th {\n",
       "        text-align: right;\n",
       "    }\n",
       "</style>\n",
       "<table border=\"1\" class=\"dataframe\">\n",
       "  <thead>\n",
       "    <tr style=\"text-align: right;\">\n",
       "      <th></th>\n",
       "      <th>Country/Region</th>\n",
       "      <th>Cases</th>\n",
       "      <th>Deaths</th>\n",
       "      <th>PCases</th>\n",
       "      <th>PDeaths</th>\n",
       "      <th>Cases (+)</th>\n",
       "      <th>Deaths (+)</th>\n",
       "      <th>Fatality Rate</th>\n",
       "      <th>Continent</th>\n",
       "    </tr>\n",
       "  </thead>\n",
       "  <tbody>\n",
       "    <tr>\n",
       "      <th>0</th>\n",
       "      <td>US</td>\n",
       "      <td>87886589</td>\n",
       "      <td>1017915</td>\n",
       "      <td>87843561</td>\n",
       "      <td>1017848</td>\n",
       "      <td>43028</td>\n",
       "      <td>67</td>\n",
       "      <td>1.16</td>\n",
       "      <td>North America</td>\n",
       "    </tr>\n",
       "    <tr>\n",
       "      <th>1</th>\n",
       "      <td>India</td>\n",
       "      <td>43531650</td>\n",
       "      <td>525242</td>\n",
       "      <td>43518564</td>\n",
       "      <td>525223</td>\n",
       "      <td>13086</td>\n",
       "      <td>19</td>\n",
       "      <td>1.21</td>\n",
       "      <td>Asia</td>\n",
       "    </tr>\n",
       "    <tr>\n",
       "      <th>2</th>\n",
       "      <td>Brazil</td>\n",
       "      <td>32535923</td>\n",
       "      <td>672033</td>\n",
       "      <td>32490422</td>\n",
       "      <td>671911</td>\n",
       "      <td>45501</td>\n",
       "      <td>122</td>\n",
       "      <td>2.07</td>\n",
       "      <td>South America</td>\n",
       "    </tr>\n",
       "    <tr>\n",
       "      <th>3</th>\n",
       "      <td>France</td>\n",
       "      <td>31653749</td>\n",
       "      <td>150765</td>\n",
       "      <td>31410383</td>\n",
       "      <td>150624</td>\n",
       "      <td>243366</td>\n",
       "      <td>141</td>\n",
       "      <td>0.48</td>\n",
       "      <td>Europe</td>\n",
       "    </tr>\n",
       "    <tr>\n",
       "      <th>4</th>\n",
       "      <td>Germany</td>\n",
       "      <td>28542484</td>\n",
       "      <td>141397</td>\n",
       "      <td>28394995</td>\n",
       "      <td>141295</td>\n",
       "      <td>147489</td>\n",
       "      <td>102</td>\n",
       "      <td>0.50</td>\n",
       "      <td>Europe</td>\n",
       "    </tr>\n",
       "  </tbody>\n",
       "</table>\n",
       "</div>"
      ],
      "text/plain": [
       "  Country/Region     Cases   Deaths    PCases  PDeaths  Cases (+)  Deaths (+)  \\\n",
       "0             US  87886589  1017915  87843561  1017848      43028          67   \n",
       "1          India  43531650   525242  43518564   525223      13086          19   \n",
       "2         Brazil  32535923   672033  32490422   671911      45501         122   \n",
       "3         France  31653749   150765  31410383   150624     243366         141   \n",
       "4        Germany  28542484   141397  28394995   141295     147489         102   \n",
       "\n",
       "   Fatality Rate      Continent  \n",
       "0           1.16  North America  \n",
       "1           1.21           Asia  \n",
       "2           2.07  South America  \n",
       "3           0.48         Europe  \n",
       "4           0.50         Europe  "
      ]
     },
     "execution_count": 13,
     "metadata": {},
     "output_type": "execute_result"
    }
   ],
   "source": [
    "#hide\n",
    "for c in 'Cases, Deaths'.split(', '):\n",
    "    df_table[f'{c} (+)'] = (df_table[c] - df_table[f'P{c}']).clip(0)\n",
    "    #Clip ça veut dire, les chiffres negatif sont interdit\n",
    "df_table['Fatality Rate'] = (100* df_table['Deaths']/ df_table['Cases']).round(2)\n",
    "df_table['Continent'] = df_table['Country/Region'].map(mapping['map.continent'])\n",
    "df_table.head(5)"
   ]
  },
  {
   "cell_type": "code",
   "execution_count": 14,
   "id": "aboriginal-bulgaria",
   "metadata": {
    "execution": {
     "iopub.execute_input": "2022-07-05T12:16:42.714069Z",
     "iopub.status.busy": "2022-07-05T12:16:42.713268Z",
     "iopub.status.idle": "2022-07-05T12:16:42.714815Z",
     "shell.execute_reply": "2022-07-05T12:16:42.715318Z"
    },
    "papermill": {
     "duration": 0.045998,
     "end_time": "2022-07-05T12:16:42.715457",
     "exception": false,
     "start_time": "2022-07-05T12:16:42.669459",
     "status": "completed"
    },
    "tags": []
   },
   "outputs": [],
   "source": [
    "#hide\n",
    "#delete problematic countries from table\n",
    "df_table = df_table[~df_table['Country/Region'].isin(['Cape Verde', 'Cruise Ship', 'Kosovo'])]"
   ]
  },
  {
   "cell_type": "code",
   "execution_count": 15,
   "id": "fantastic-effect",
   "metadata": {
    "execution": {
     "iopub.execute_input": "2022-07-05T12:16:42.791410Z",
     "iopub.status.busy": "2022-07-05T12:16:42.790734Z",
     "iopub.status.idle": "2022-07-05T12:16:42.810867Z",
     "shell.execute_reply": "2022-07-05T12:16:42.810195Z"
    },
    "papermill": {
     "duration": 0.062431,
     "end_time": "2022-07-05T12:16:42.811015",
     "exception": false,
     "start_time": "2022-07-05T12:16:42.748584",
     "status": "completed"
    },
    "tags": []
   },
   "outputs": [
    {
     "data": {
      "text/html": [
       "<div>\n",
       "<style scoped>\n",
       "    .dataframe tbody tr th:only-of-type {\n",
       "        vertical-align: middle;\n",
       "    }\n",
       "\n",
       "    .dataframe tbody tr th {\n",
       "        vertical-align: top;\n",
       "    }\n",
       "\n",
       "    .dataframe thead th {\n",
       "        text-align: right;\n",
       "    }\n",
       "</style>\n",
       "<table border=\"1\" class=\"dataframe\">\n",
       "  <thead>\n",
       "    <tr style=\"text-align: right;\">\n",
       "      <th></th>\n",
       "      <th>Country/Region</th>\n",
       "      <th>Cases</th>\n",
       "      <th>Deaths</th>\n",
       "      <th>PCases</th>\n",
       "      <th>PDeaths</th>\n",
       "      <th>Cases (+)</th>\n",
       "      <th>Deaths (+)</th>\n",
       "      <th>Fatality Rate</th>\n",
       "      <th>Continent</th>\n",
       "    </tr>\n",
       "  </thead>\n",
       "  <tbody>\n",
       "    <tr>\n",
       "      <th>0</th>\n",
       "      <td>US</td>\n",
       "      <td>87886589</td>\n",
       "      <td>1017915</td>\n",
       "      <td>87843561</td>\n",
       "      <td>1017848</td>\n",
       "      <td>43028</td>\n",
       "      <td>67</td>\n",
       "      <td>1.2</td>\n",
       "      <td>North America</td>\n",
       "    </tr>\n",
       "    <tr>\n",
       "      <th>1</th>\n",
       "      <td>India</td>\n",
       "      <td>43531650</td>\n",
       "      <td>525242</td>\n",
       "      <td>43518564</td>\n",
       "      <td>525223</td>\n",
       "      <td>13086</td>\n",
       "      <td>19</td>\n",
       "      <td>1.2</td>\n",
       "      <td>Asia</td>\n",
       "    </tr>\n",
       "    <tr>\n",
       "      <th>2</th>\n",
       "      <td>Brazil</td>\n",
       "      <td>32535923</td>\n",
       "      <td>672033</td>\n",
       "      <td>32490422</td>\n",
       "      <td>671911</td>\n",
       "      <td>45501</td>\n",
       "      <td>122</td>\n",
       "      <td>2.1</td>\n",
       "      <td>South America</td>\n",
       "    </tr>\n",
       "    <tr>\n",
       "      <th>3</th>\n",
       "      <td>France</td>\n",
       "      <td>31653749</td>\n",
       "      <td>150765</td>\n",
       "      <td>31410383</td>\n",
       "      <td>150624</td>\n",
       "      <td>243366</td>\n",
       "      <td>141</td>\n",
       "      <td>0.5</td>\n",
       "      <td>Europe</td>\n",
       "    </tr>\n",
       "    <tr>\n",
       "      <th>4</th>\n",
       "      <td>Germany</td>\n",
       "      <td>28542484</td>\n",
       "      <td>141397</td>\n",
       "      <td>28394995</td>\n",
       "      <td>141295</td>\n",
       "      <td>147489</td>\n",
       "      <td>102</td>\n",
       "      <td>0.5</td>\n",
       "      <td>Europe</td>\n",
       "    </tr>\n",
       "  </tbody>\n",
       "</table>\n",
       "</div>"
      ],
      "text/plain": [
       "  Country/Region     Cases   Deaths    PCases  PDeaths  Cases (+)  Deaths (+)  \\\n",
       "0             US  87886589  1017915  87843561  1017848      43028          67   \n",
       "1          India  43531650   525242  43518564   525223      13086          19   \n",
       "2         Brazil  32535923   672033  32490422   671911      45501         122   \n",
       "3         France  31653749   150765  31410383   150624     243366         141   \n",
       "4        Germany  28542484   141397  28394995   141295     147489         102   \n",
       "\n",
       "   Fatality Rate      Continent  \n",
       "0            1.2  North America  \n",
       "1            1.2           Asia  \n",
       "2            2.1  South America  \n",
       "3            0.5         Europe  \n",
       "4            0.5         Europe  "
      ]
     },
     "execution_count": 15,
     "metadata": {},
     "output_type": "execute_result"
    }
   ],
   "source": [
    "#hide\n",
    "df_table = (pd.DataFrame(dict(Cases=dfc_cases, Deaths=dfc_deaths, PCases=dfp_cases, PDeaths=dfp_deaths))\n",
    "             .sort_values(by=['Cases', 'Deaths'], ascending=[False, False])\n",
    "             .reset_index())\n",
    "df_table.rename(columns={'index': 'Country/Region'}, inplace=True)\n",
    "for c in 'Cases, Deaths'.split(', '):\n",
    "    df_table[f'{c} (+)'] = (df_table[c] - df_table[f'P{c}']).clip(0)  # DATA BUG\n",
    "df_table['Fatality Rate'] = (100 * df_table['Deaths'] / df_table['Cases']).round(1)\n",
    "df_table['Continent'] = df_table['Country/Region'].map(mapping['map.continent'])\n",
    "df_table.head(5)"
   ]
  },
  {
   "cell_type": "code",
   "execution_count": 16,
   "id": "fewer-occasion",
   "metadata": {
    "execution": {
     "iopub.execute_input": "2022-07-05T12:16:42.885474Z",
     "iopub.status.busy": "2022-07-05T12:16:42.884852Z",
     "iopub.status.idle": "2022-07-05T12:16:42.888253Z",
     "shell.execute_reply": "2022-07-05T12:16:42.887635Z"
    },
    "papermill": {
     "duration": 0.043808,
     "end_time": "2022-07-05T12:16:42.888367",
     "exception": false,
     "start_time": "2022-07-05T12:16:42.844559",
     "status": "completed"
    },
    "tags": []
   },
   "outputs": [],
   "source": [
    "#hide\n",
    "#delete problematic countries from table\n",
    "df_table = df_table[~df_table['Country/Region'].isin(['Cape Verde', 'Cruise Ship', 'Kosovo'])]"
   ]
  },
  {
   "cell_type": "code",
   "execution_count": 17,
   "id": "related-center",
   "metadata": {
    "execution": {
     "iopub.execute_input": "2022-07-05T12:16:42.961665Z",
     "iopub.status.busy": "2022-07-05T12:16:42.961016Z",
     "iopub.status.idle": "2022-07-05T12:16:42.976166Z",
     "shell.execute_reply": "2022-07-05T12:16:42.975482Z"
    },
    "papermill": {
     "duration": 0.054995,
     "end_time": "2022-07-05T12:16:42.976299",
     "exception": false,
     "start_time": "2022-07-05T12:16:42.921304",
     "status": "completed"
    },
    "tags": []
   },
   "outputs": [],
   "source": [
    "#hide\n",
    "metrics = [df_table.columns[index] for index in [1,2,5,6]]\n",
    "# s_china = df_table[df_table['Country/Region'].eq('China')][metrics].sum().add_prefix('China ')\n",
    "s_us = df_table[df_table['Country/Region'].eq('US')][metrics].sum().add_prefix('US ')\n",
    "s_eu = df_table[df_table['Continent'].eq('Europe')][metrics].sum().add_prefix('EU ')\n",
    "s_ind = df_table[df_table['Country/Region'].eq('India')][metrics].sum().add_prefix('India ')\n",
    "summary = {'updated': pd.to_datetime(dt_today), 'since': pd.to_datetime(dt_yday)}\n",
    "summary = {'updated': pd.to_datetime(dt_today), 'since': pd.to_datetime(dt_yday)}\n",
    "summary = {**summary, **df_table[metrics].sum(), **s_ind, **s_us, **s_eu}"
   ]
  },
  {
   "cell_type": "code",
   "execution_count": 18,
   "id": "engaging-syndrome",
   "metadata": {
    "execution": {
     "iopub.execute_input": "2022-07-05T12:16:43.049381Z",
     "iopub.status.busy": "2022-07-05T12:16:43.048719Z",
     "iopub.status.idle": "2022-07-05T12:16:43.073318Z",
     "shell.execute_reply": "2022-07-05T12:16:43.072556Z"
    },
    "papermill": {
     "duration": 0.064079,
     "end_time": "2022-07-05T12:16:43.073485",
     "exception": false,
     "start_time": "2022-07-05T12:16:43.009406",
     "status": "completed"
    },
    "tags": []
   },
   "outputs": [],
   "source": [
    "#hide\n",
    "dft_ct_new_cases = dft_cases.groupby(COL_REGION)[dt_cols].sum().diff(axis=1).fillna(0).astype(int)"
   ]
  },
  {
   "cell_type": "code",
   "execution_count": 19,
   "id": "neutral-assignment",
   "metadata": {
    "execution": {
     "iopub.execute_input": "2022-07-05T12:16:43.146490Z",
     "iopub.status.busy": "2022-07-05T12:16:43.145814Z",
     "iopub.status.idle": "2022-07-05T12:16:43.149012Z",
     "shell.execute_reply": "2022-07-05T12:16:43.149660Z"
    },
    "papermill": {
     "duration": 0.04331,
     "end_time": "2022-07-05T12:16:43.149803",
     "exception": false,
     "start_time": "2022-07-05T12:16:43.106493",
     "status": "completed"
    },
    "tags": []
   },
   "outputs": [],
   "source": [
    "#hide\n",
    "everydaycases = dft_ct_new_cases.cumsum(axis=1)"
   ]
  },
  {
   "cell_type": "code",
   "execution_count": 20,
   "id": "parliamentary-calgary",
   "metadata": {
    "execution": {
     "iopub.execute_input": "2022-07-05T12:16:43.222346Z",
     "iopub.status.busy": "2022-07-05T12:16:43.221656Z",
     "iopub.status.idle": "2022-07-05T12:16:43.818463Z",
     "shell.execute_reply": "2022-07-05T12:16:43.817922Z"
    },
    "papermill": {
     "duration": 0.635582,
     "end_time": "2022-07-05T12:16:43.818596",
     "exception": false,
     "start_time": "2022-07-05T12:16:43.183014",
     "status": "completed"
    },
    "tags": []
   },
   "outputs": [],
   "source": [
    "#hide\n",
    "import pandas as pd\n",
    "import matplotlib.pyplot as plt\n",
    "import matplotlib.ticker as ticker\n",
    "import matplotlib.animation as animation\n",
    "from IPython.display import HTML"
   ]
  },
  {
   "cell_type": "code",
   "execution_count": 21,
   "id": "lasting-extraction",
   "metadata": {
    "execution": {
     "iopub.execute_input": "2022-07-05T12:16:43.892960Z",
     "iopub.status.busy": "2022-07-05T12:16:43.892292Z",
     "iopub.status.idle": "2022-07-05T12:16:43.900289Z",
     "shell.execute_reply": "2022-07-05T12:16:43.899767Z"
    },
    "papermill": {
     "duration": 0.049374,
     "end_time": "2022-07-05T12:16:43.900405",
     "exception": false,
     "start_time": "2022-07-05T12:16:43.851031",
     "status": "completed"
    },
    "tags": []
   },
   "outputs": [],
   "source": [
    "#hide\n",
    "t = everydaycases.stack()"
   ]
  },
  {
   "cell_type": "code",
   "execution_count": 22,
   "id": "premier-sleeve",
   "metadata": {
    "execution": {
     "iopub.execute_input": "2022-07-05T12:16:43.971519Z",
     "iopub.status.busy": "2022-07-05T12:16:43.970848Z",
     "iopub.status.idle": "2022-07-05T12:16:43.984045Z",
     "shell.execute_reply": "2022-07-05T12:16:43.983398Z"
    },
    "papermill": {
     "duration": 0.050393,
     "end_time": "2022-07-05T12:16:43.984163",
     "exception": false,
     "start_time": "2022-07-05T12:16:43.933770",
     "status": "completed"
    },
    "tags": []
   },
   "outputs": [],
   "source": [
    "#hide\n",
    "g = t.reset_index(['Country/Region'])"
   ]
  },
  {
   "cell_type": "code",
   "execution_count": 23,
   "id": "distributed-pittsburgh",
   "metadata": {
    "execution": {
     "iopub.execute_input": "2022-07-05T12:16:44.052305Z",
     "iopub.status.busy": "2022-07-05T12:16:44.051678Z",
     "iopub.status.idle": "2022-07-05T12:16:44.054221Z",
     "shell.execute_reply": "2022-07-05T12:16:44.054839Z"
    },
    "papermill": {
     "duration": 0.039241,
     "end_time": "2022-07-05T12:16:44.054974",
     "exception": false,
     "start_time": "2022-07-05T12:16:44.015733",
     "status": "completed"
    },
    "tags": []
   },
   "outputs": [],
   "source": [
    "#hide\n",
    "g.index.name = 'date'"
   ]
  },
  {
   "cell_type": "code",
   "execution_count": 24,
   "id": "naked-donor",
   "metadata": {
    "execution": {
     "iopub.execute_input": "2022-07-05T12:16:44.124871Z",
     "iopub.status.busy": "2022-07-05T12:16:44.124188Z",
     "iopub.status.idle": "2022-07-05T12:16:44.126894Z",
     "shell.execute_reply": "2022-07-05T12:16:44.126245Z"
    },
    "papermill": {
     "duration": 0.039857,
     "end_time": "2022-07-05T12:16:44.127013",
     "exception": false,
     "start_time": "2022-07-05T12:16:44.087156",
     "status": "completed"
    },
    "tags": []
   },
   "outputs": [],
   "source": [
    "# #hide\n",
    "# g = g.reset_index(['date'])"
   ]
  },
  {
   "cell_type": "code",
   "execution_count": 25,
   "id": "incomplete-mustang",
   "metadata": {
    "execution": {
     "iopub.execute_input": "2022-07-05T12:16:44.202515Z",
     "iopub.status.busy": "2022-07-05T12:16:44.201345Z",
     "iopub.status.idle": "2022-07-05T12:16:44.203584Z",
     "shell.execute_reply": "2022-07-05T12:16:44.204072Z"
    },
    "papermill": {
     "duration": 0.042934,
     "end_time": "2022-07-05T12:16:44.204203",
     "exception": false,
     "start_time": "2022-07-05T12:16:44.161269",
     "status": "completed"
    },
    "tags": []
   },
   "outputs": [],
   "source": [
    "#hide\n",
    "# g.head()"
   ]
  },
  {
   "cell_type": "code",
   "execution_count": 26,
   "id": "specific-kruger",
   "metadata": {
    "execution": {
     "iopub.execute_input": "2022-07-05T12:16:44.275171Z",
     "iopub.status.busy": "2022-07-05T12:16:44.274526Z",
     "iopub.status.idle": "2022-07-05T12:16:44.277354Z",
     "shell.execute_reply": "2022-07-05T12:16:44.276666Z"
    },
    "papermill": {
     "duration": 0.039888,
     "end_time": "2022-07-05T12:16:44.277467",
     "exception": false,
     "start_time": "2022-07-05T12:16:44.237579",
     "status": "completed"
    },
    "tags": []
   },
   "outputs": [],
   "source": [
    "#hide\n",
    "# g.columns = ['date','country','cases']"
   ]
  },
  {
   "cell_type": "code",
   "execution_count": 27,
   "id": "tender-conversion",
   "metadata": {
    "execution": {
     "iopub.execute_input": "2022-07-05T12:16:44.352144Z",
     "iopub.status.busy": "2022-07-05T12:16:44.350903Z",
     "iopub.status.idle": "2022-07-05T12:16:44.353432Z",
     "shell.execute_reply": "2022-07-05T12:16:44.354312Z"
    },
    "papermill": {
     "duration": 0.042259,
     "end_time": "2022-07-05T12:16:44.354533",
     "exception": false,
     "start_time": "2022-07-05T12:16:44.312274",
     "status": "completed"
    },
    "tags": []
   },
   "outputs": [],
   "source": [
    "#hide\n",
    "# g['continent'] = g.country"
   ]
  },
  {
   "cell_type": "code",
   "execution_count": 28,
   "id": "substantial-wilderness",
   "metadata": {
    "execution": {
     "iopub.execute_input": "2022-07-05T12:16:44.425741Z",
     "iopub.status.busy": "2022-07-05T12:16:44.425102Z",
     "iopub.status.idle": "2022-07-05T12:16:44.427781Z",
     "shell.execute_reply": "2022-07-05T12:16:44.428299Z"
    },
    "papermill": {
     "duration": 0.040997,
     "end_time": "2022-07-05T12:16:44.428433",
     "exception": false,
     "start_time": "2022-07-05T12:16:44.387436",
     "status": "completed"
    },
    "tags": []
   },
   "outputs": [],
   "source": [
    "#hide\n",
    "# cols = list(g.columns.values)"
   ]
  },
  {
   "cell_type": "code",
   "execution_count": 29,
   "id": "solved-farming",
   "metadata": {
    "execution": {
     "iopub.execute_input": "2022-07-05T12:16:44.499476Z",
     "iopub.status.busy": "2022-07-05T12:16:44.498796Z",
     "iopub.status.idle": "2022-07-05T12:16:44.503139Z",
     "shell.execute_reply": "2022-07-05T12:16:44.502578Z"
    },
    "papermill": {
     "duration": 0.042753,
     "end_time": "2022-07-05T12:16:44.503263",
     "exception": false,
     "start_time": "2022-07-05T12:16:44.460510",
     "status": "completed"
    },
    "tags": []
   },
   "outputs": [],
   "source": [
    "#hide\n",
    "# cols.insert(0, cols.pop())"
   ]
  },
  {
   "cell_type": "code",
   "execution_count": 30,
   "id": "executed-adoption",
   "metadata": {
    "execution": {
     "iopub.execute_input": "2022-07-05T12:16:44.578148Z",
     "iopub.status.busy": "2022-07-05T12:16:44.576982Z",
     "iopub.status.idle": "2022-07-05T12:16:44.579166Z",
     "shell.execute_reply": "2022-07-05T12:16:44.579699Z"
    },
    "papermill": {
     "duration": 0.041836,
     "end_time": "2022-07-05T12:16:44.579844",
     "exception": false,
     "start_time": "2022-07-05T12:16:44.538008",
     "status": "completed"
    },
    "tags": []
   },
   "outputs": [],
   "source": [
    "#hide\n",
    "# g = g[cols]"
   ]
  },
  {
   "cell_type": "code",
   "execution_count": 31,
   "id": "subject-dublin",
   "metadata": {
    "execution": {
     "iopub.execute_input": "2022-07-05T12:16:44.649946Z",
     "iopub.status.busy": "2022-07-05T12:16:44.649198Z",
     "iopub.status.idle": "2022-07-05T12:16:44.653470Z",
     "shell.execute_reply": "2022-07-05T12:16:44.652935Z"
    },
    "papermill": {
     "duration": 0.041124,
     "end_time": "2022-07-05T12:16:44.653582",
     "exception": false,
     "start_time": "2022-07-05T12:16:44.612458",
     "status": "completed"
    },
    "tags": []
   },
   "outputs": [],
   "source": [
    "#hide\n",
    "# g['continent'] = g['continent'].map(mapping['map.continent'])"
   ]
  },
  {
   "cell_type": "code",
   "execution_count": 32,
   "id": "freelance-scout",
   "metadata": {
    "execution": {
     "iopub.execute_input": "2022-07-05T12:16:44.723678Z",
     "iopub.status.busy": "2022-07-05T12:16:44.722888Z",
     "iopub.status.idle": "2022-07-05T12:16:44.724829Z",
     "shell.execute_reply": "2022-07-05T12:16:44.725410Z"
    },
    "papermill": {
     "duration": 0.039692,
     "end_time": "2022-07-05T12:16:44.725558",
     "exception": false,
     "start_time": "2022-07-05T12:16:44.685866",
     "status": "completed"
    },
    "tags": []
   },
   "outputs": [],
   "source": [
    "#hide\n",
    "# g.head()"
   ]
  },
  {
   "cell_type": "code",
   "execution_count": 33,
   "id": "limited-engine",
   "metadata": {
    "execution": {
     "iopub.execute_input": "2022-07-05T12:16:44.795756Z",
     "iopub.status.busy": "2022-07-05T12:16:44.794809Z",
     "iopub.status.idle": "2022-07-05T12:16:44.796764Z",
     "shell.execute_reply": "2022-07-05T12:16:44.797452Z"
    },
    "papermill": {
     "duration": 0.038701,
     "end_time": "2022-07-05T12:16:44.797626",
     "exception": false,
     "start_time": "2022-07-05T12:16:44.758925",
     "status": "completed"
    },
    "tags": []
   },
   "outputs": [],
   "source": [
    "# hide\n",
    "# g['date'] = g['date'].astype('datetime64[ns]')"
   ]
  },
  {
   "cell_type": "code",
   "execution_count": 34,
   "id": "sophisticated-supervisor",
   "metadata": {
    "execution": {
     "iopub.execute_input": "2022-07-05T12:16:44.871926Z",
     "iopub.status.busy": "2022-07-05T12:16:44.870730Z",
     "iopub.status.idle": "2022-07-05T12:16:44.875228Z",
     "shell.execute_reply": "2022-07-05T12:16:44.874570Z"
    },
    "papermill": {
     "duration": 0.042955,
     "end_time": "2022-07-05T12:16:44.875345",
     "exception": false,
     "start_time": "2022-07-05T12:16:44.832390",
     "status": "completed"
    },
    "tags": []
   },
   "outputs": [],
   "source": [
    "#hide\n",
    "# g['date'] = g.date.dt.dayofyear"
   ]
  },
  {
   "cell_type": "code",
   "execution_count": 35,
   "id": "inside-dubai",
   "metadata": {
    "execution": {
     "iopub.execute_input": "2022-07-05T12:16:44.944952Z",
     "iopub.status.busy": "2022-07-05T12:16:44.944278Z",
     "iopub.status.idle": "2022-07-05T12:16:44.947973Z",
     "shell.execute_reply": "2022-07-05T12:16:44.948374Z"
    },
    "papermill": {
     "duration": 0.040646,
     "end_time": "2022-07-05T12:16:44.948487",
     "exception": false,
     "start_time": "2022-07-05T12:16:44.907841",
     "status": "completed"
    },
    "tags": []
   },
   "outputs": [],
   "source": [
    "#hide\n",
    "# g = g.rename(columns= {'continent':'group','country':'name','cases':'value'})"
   ]
  },
  {
   "cell_type": "code",
   "execution_count": 36,
   "id": "fleet-motorcycle",
   "metadata": {
    "execution": {
     "iopub.execute_input": "2022-07-05T12:16:45.021476Z",
     "iopub.status.busy": "2022-07-05T12:16:45.020303Z",
     "iopub.status.idle": "2022-07-05T12:16:45.022747Z",
     "shell.execute_reply": "2022-07-05T12:16:45.023694Z"
    },
    "papermill": {
     "duration": 0.042214,
     "end_time": "2022-07-05T12:16:45.023925",
     "exception": false,
     "start_time": "2022-07-05T12:16:44.981711",
     "status": "completed"
    },
    "tags": []
   },
   "outputs": [],
   "source": [
    "#hide\n",
    "# cols = ['name','group','day','value']"
   ]
  },
  {
   "cell_type": "code",
   "execution_count": 37,
   "id": "continued-sleeping",
   "metadata": {
    "execution": {
     "iopub.execute_input": "2022-07-05T12:16:45.095055Z",
     "iopub.status.busy": "2022-07-05T12:16:45.093506Z",
     "iopub.status.idle": "2022-07-05T12:16:45.096263Z",
     "shell.execute_reply": "2022-07-05T12:16:45.096771Z"
    },
    "papermill": {
     "duration": 0.040233,
     "end_time": "2022-07-05T12:16:45.096905",
     "exception": false,
     "start_time": "2022-07-05T12:16:45.056672",
     "status": "completed"
    },
    "tags": []
   },
   "outputs": [],
   "source": [
    "#hide\n",
    "# g.rename(columns= {'date':'day'},inplace = True)"
   ]
  },
  {
   "cell_type": "code",
   "execution_count": 38,
   "id": "major-fight",
   "metadata": {
    "execution": {
     "iopub.execute_input": "2022-07-05T12:16:45.178115Z",
     "iopub.status.busy": "2022-07-05T12:16:45.177123Z",
     "iopub.status.idle": "2022-07-05T12:16:45.180204Z",
     "shell.execute_reply": "2022-07-05T12:16:45.179634Z"
    },
    "papermill": {
     "duration": 0.049448,
     "end_time": "2022-07-05T12:16:45.180328",
     "exception": false,
     "start_time": "2022-07-05T12:16:45.130880",
     "status": "completed"
    },
    "tags": []
   },
   "outputs": [],
   "source": [
    "#hide\n",
    "# g = g[cols]"
   ]
  },
  {
   "cell_type": "code",
   "execution_count": 39,
   "id": "structured-mobile",
   "metadata": {
    "execution": {
     "iopub.execute_input": "2022-07-05T12:16:45.252654Z",
     "iopub.status.busy": "2022-07-05T12:16:45.251752Z",
     "iopub.status.idle": "2022-07-05T12:16:45.254849Z",
     "shell.execute_reply": "2022-07-05T12:16:45.255537Z"
    },
    "papermill": {
     "duration": 0.042118,
     "end_time": "2022-07-05T12:16:45.255745",
     "exception": false,
     "start_time": "2022-07-05T12:16:45.213627",
     "status": "completed"
    },
    "tags": []
   },
   "outputs": [],
   "source": [
    "# #hide\n",
    "# g = g[g.group.notna()]"
   ]
  },
  {
   "cell_type": "code",
   "execution_count": 40,
   "id": "determined-closing",
   "metadata": {
    "execution": {
     "iopub.execute_input": "2022-07-05T12:16:45.328801Z",
     "iopub.status.busy": "2022-07-05T12:16:45.327507Z",
     "iopub.status.idle": "2022-07-05T12:16:45.329850Z",
     "shell.execute_reply": "2022-07-05T12:16:45.330352Z"
    },
    "papermill": {
     "duration": 0.04013,
     "end_time": "2022-07-05T12:16:45.330489",
     "exception": false,
     "start_time": "2022-07-05T12:16:45.290359",
     "status": "completed"
    },
    "tags": []
   },
   "outputs": [],
   "source": [
    "# #hide\n",
    "# colors = dict(zip(\n",
    "#     [\"Oceania\", \"Europe\", \"Asia\", \"South America\", \"Middle East\", \"North America\", \"Africa\"],\n",
    "#     [\"#adb0ff\", \"#ffb3ff\", \"#90d595\", \"#e48381\", \"#aafbff\", \"#f7bb5f\", \"#eafb50\"]\n",
    "# ))\n",
    "# group_lk = g.set_index('name')['group'].to_dict()"
   ]
  },
  {
   "cell_type": "code",
   "execution_count": null,
   "id": "gross-drinking",
   "metadata": {
    "papermill": {
     "duration": 0.032055,
     "end_time": "2022-07-05T12:16:45.395171",
     "exception": false,
     "start_time": "2022-07-05T12:16:45.363116",
     "status": "completed"
    },
    "tags": []
   },
   "outputs": [],
   "source": []
  },
  {
   "cell_type": "code",
   "execution_count": 41,
   "id": "subject-macintosh",
   "metadata": {
    "execution": {
     "iopub.execute_input": "2022-07-05T12:16:45.465259Z",
     "iopub.status.busy": "2022-07-05T12:16:45.464618Z",
     "iopub.status.idle": "2022-07-05T12:16:45.467053Z",
     "shell.execute_reply": "2022-07-05T12:16:45.467515Z"
    },
    "papermill": {
     "duration": 0.039603,
     "end_time": "2022-07-05T12:16:45.467685",
     "exception": false,
     "start_time": "2022-07-05T12:16:45.428082",
     "status": "completed"
    },
    "tags": []
   },
   "outputs": [],
   "source": [
    "# #hide\n",
    "# fig, ax = plt.subplots(figsize=(15, 8))\n",
    "\n",
    "# def draw_barchart(current_day):\n",
    "#     dff = g[g['day'].eq(current_day)].sort_values(by='value', ascending=True).tail(10)\n",
    "#     ax.clear()\n",
    "#     ax.barh(dff['name'], dff['value'], color=[colors[group_lk[x]] for x in dff['name']])\n",
    "#     dx = dff['value'].max() / 200\n",
    "    \n",
    "#     for i, (value, name) in enumerate(zip(dff['value'], dff['name'])):\n",
    "#         ax.text(value-dx, i,     name,           size=14, weight=600, ha='right', va='bottom')\n",
    "#         ax.text(value-dx, i-.25, group_lk[name], size=10, color='#444444', ha='right', va='baseline')\n",
    "#         ax.text(value+dx, i,     f'{value:,.0f}',  size=14, ha='left',  va='center')\n",
    "#     ax.text(1, 0.4, current_day, transform=ax.transAxes, color='#777777', size=46, ha='right', weight=800)\n",
    "#     ax.text(0, 1.06, 'Population (thousands)', transform=ax.transAxes, size=12, color='#777777')\n",
    "#     ax.xaxis.set_major_formatter(ticker.StrMethodFormatter('{x:,.0f}'))\n",
    "#     ax.xaxis.set_ticks_position('top')\n",
    "#     ax.tick_params(axis='x', colors='#777777', labelsize=12)\n",
    "#     ax.set_yticks([])\n",
    "#     ax.margins(0, 0.01)\n",
    "#     ax.grid(which='major', axis='x', linestyle='-')\n",
    "#     ax.set_axisbelow(True)\n",
    "    \n",
    "#     ax.text(0, 1.15, 'Coronavirus',\n",
    "#             transform=ax.transAxes, size=24, weight=600, ha='left', va='top')\n",
    "# #     ax.text(1, 0, 'by @pratapvardhan; credit @jburnmurdoch', transform=ax.transAxes, color='#777777', ha='right',\n",
    "# #             bbox=dict(facecolor='white', alpha=0.8, edgecolor='white'))\n",
    "#     plt.box(False)"
   ]
  },
  {
   "cell_type": "code",
   "execution_count": 42,
   "id": "sexual-wages",
   "metadata": {
    "execution": {
     "iopub.execute_input": "2022-07-05T12:16:45.540413Z",
     "iopub.status.busy": "2022-07-05T12:16:45.539171Z",
     "iopub.status.idle": "2022-07-05T12:16:45.541691Z",
     "shell.execute_reply": "2022-07-05T12:16:45.542578Z"
    },
    "papermill": {
     "duration": 0.041935,
     "end_time": "2022-07-05T12:16:45.542800",
     "exception": false,
     "start_time": "2022-07-05T12:16:45.500865",
     "status": "completed"
    },
    "tags": []
   },
   "outputs": [],
   "source": [
    "# #hide_input\n",
    "# fig, ax = plt.subplots(figsize=(15, 8))\n",
    "# animator = animation.FuncAnimation(fig, draw_barchart, frames=range(g.day.values.min(), g.day.values.max()))\n",
    "# HTML(animator.to_jshtml())\n",
    "# # or use animator.to_html5_video() or animator.save() "
   ]
  },
  {
   "cell_type": "code",
   "execution_count": null,
   "id": "australian-container",
   "metadata": {
    "papermill": {
     "duration": 0.031528,
     "end_time": "2022-07-05T12:16:45.607257",
     "exception": false,
     "start_time": "2022-07-05T12:16:45.575729",
     "status": "completed"
    },
    "tags": []
   },
   "outputs": [],
   "source": []
  },
  {
   "cell_type": "code",
   "execution_count": null,
   "id": "mediterranean-pontiac",
   "metadata": {
    "papermill": {
     "duration": 0.032952,
     "end_time": "2022-07-05T12:16:45.671722",
     "exception": false,
     "start_time": "2022-07-05T12:16:45.638770",
     "status": "completed"
    },
    "tags": []
   },
   "outputs": [],
   "source": []
  },
  {
   "cell_type": "code",
   "execution_count": null,
   "id": "aging-legislature",
   "metadata": {
    "papermill": {
     "duration": 0.030599,
     "end_time": "2022-07-05T12:16:45.734451",
     "exception": false,
     "start_time": "2022-07-05T12:16:45.703852",
     "status": "completed"
    },
    "tags": []
   },
   "outputs": [],
   "source": []
  }
 ],
 "metadata": {
  "kernelspec": {
   "display_name": "Python 3",
   "language": "python",
   "name": "python3"
  },
  "language_info": {
   "codemirror_mode": {
    "name": "ipython",
    "version": 3
   },
   "file_extension": ".py",
   "mimetype": "text/x-python",
   "name": "python",
   "nbconvert_exporter": "python",
   "pygments_lexer": "ipython3",
   "version": "3.6.15"
  },
  "papermill": {
   "duration": 6.61801,
   "end_time": "2022-07-05T12:16:46.185874",
   "environment_variables": {},
   "exception": null,
   "input_path": "2020-03-21-covid19exp.ipynb",
   "output_path": "2020-03-21-covid19exp.ipynb",
   "parameters": {},
   "start_time": "2022-07-05T12:16:39.567864",
   "version": "2.0.0"
  }
 },
 "nbformat": 4,
 "nbformat_minor": 5
}