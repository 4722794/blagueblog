{
 "cells": [
  {
   "cell_type": "markdown",
   "id": "muslim-click",
   "metadata": {
    "papermill": {
     "duration": 0.042018,
     "end_time": "2021-03-28T00:06:18.865346",
     "exception": false,
     "start_time": "2021-03-28T00:06:18.823328",
     "status": "completed"
    },
    "tags": []
   },
   "source": [
    "# COVID-19 Case Race\n",
    "> A race chart to see rising cases around the world\n",
    "\n",
    "- author: Hargun Oberoi\n",
    "- image: images/covid-overview.png\n",
    "- hide: false\n",
    "- badges: false"
   ]
  },
  {
   "cell_type": "code",
   "execution_count": 1,
   "id": "proof-material",
   "metadata": {
    "execution": {
     "iopub.execute_input": "2021-03-28T00:06:18.965788Z",
     "iopub.status.busy": "2021-03-28T00:06:18.965183Z",
     "iopub.status.idle": "2021-03-28T00:06:19.324726Z",
     "shell.execute_reply": "2021-03-28T00:06:19.323986Z"
    },
    "papermill": {
     "duration": 0.416967,
     "end_time": "2021-03-28T00:06:19.324928",
     "exception": false,
     "start_time": "2021-03-28T00:06:18.907961",
     "status": "completed"
    },
    "tags": []
   },
   "outputs": [],
   "source": [
    "#hide\n",
    "import numpy as np\n",
    "import pandas as pd\n",
    "from jinja2 import Template\n",
    "from IPython.display import HTML"
   ]
  },
  {
   "cell_type": "code",
   "execution_count": 2,
   "id": "developed-terminology",
   "metadata": {
    "execution": {
     "iopub.execute_input": "2021-03-28T00:06:19.399846Z",
     "iopub.status.busy": "2021-03-28T00:06:19.399190Z",
     "iopub.status.idle": "2021-03-28T00:06:19.400467Z",
     "shell.execute_reply": "2021-03-28T00:06:19.400924Z"
    },
    "papermill": {
     "duration": 0.041423,
     "end_time": "2021-03-28T00:06:19.401064",
     "exception": false,
     "start_time": "2021-03-28T00:06:19.359641",
     "status": "completed"
    },
    "tags": []
   },
   "outputs": [],
   "source": [
    "#hide\n",
    "\n",
    "# FETCH\n",
    "base_url = 'https://raw.githubusercontent.com/pratapvardhan/notebooks/master/covid19/'\n",
    "paths = {\n",
    "    'mapping': base_url + 'mapping_countries.csv',\n",
    "    'overview': base_url + 'overview.tpl'\n",
    "}"
   ]
  },
  {
   "cell_type": "code",
   "execution_count": 3,
   "id": "dynamic-saver",
   "metadata": {
    "execution": {
     "iopub.execute_input": "2021-03-28T00:06:19.483847Z",
     "iopub.status.busy": "2021-03-28T00:06:19.483230Z",
     "iopub.status.idle": "2021-03-28T00:06:19.485887Z",
     "shell.execute_reply": "2021-03-28T00:06:19.486389Z"
    },
    "papermill": {
     "duration": 0.051146,
     "end_time": "2021-03-28T00:06:19.486543",
     "exception": false,
     "start_time": "2021-03-28T00:06:19.435397",
     "status": "completed"
    },
    "tags": []
   },
   "outputs": [
    {
     "data": {
      "text/plain": [
       "'https://raw.githubusercontent.com/pratapvardhan/notebooks/master/covid19/mapping_countries.csv'"
      ]
     },
     "execution_count": 3,
     "metadata": {},
     "output_type": "execute_result"
    }
   ],
   "source": [
    "#hide\n",
    "paths['mapping']"
   ]
  },
  {
   "cell_type": "code",
   "execution_count": 4,
   "id": "urban-software",
   "metadata": {
    "execution": {
     "iopub.execute_input": "2021-03-28T00:06:19.561825Z",
     "iopub.status.busy": "2021-03-28T00:06:19.561246Z",
     "iopub.status.idle": "2021-03-28T00:06:19.563582Z",
     "shell.execute_reply": "2021-03-28T00:06:19.563078Z"
    },
    "papermill": {
     "duration": 0.04268,
     "end_time": "2021-03-28T00:06:19.563702",
     "exception": false,
     "start_time": "2021-03-28T00:06:19.521022",
     "status": "completed"
    },
    "tags": []
   },
   "outputs": [],
   "source": [
    "#hide\n",
    "def get_mappings(url):\n",
    "    df = pd.read_csv(url)\n",
    "    return {\n",
    "        'df': df,\n",
    "        'replace.country': dict(df.dropna(subset=['Name']).set_index('Country')['Name']),\n",
    "        'map.continent': dict(df.set_index('Name')['Continent'])\n",
    "    }"
   ]
  },
  {
   "cell_type": "code",
   "execution_count": 5,
   "id": "intimate-machinery",
   "metadata": {
    "execution": {
     "iopub.execute_input": "2021-03-28T00:06:19.639236Z",
     "iopub.status.busy": "2021-03-28T00:06:19.638650Z",
     "iopub.status.idle": "2021-03-28T00:06:19.713624Z",
     "shell.execute_reply": "2021-03-28T00:06:19.713117Z"
    },
    "papermill": {
     "duration": 0.115784,
     "end_time": "2021-03-28T00:06:19.713759",
     "exception": false,
     "start_time": "2021-03-28T00:06:19.597975",
     "status": "completed"
    },
    "tags": []
   },
   "outputs": [],
   "source": [
    "#hide\n",
    "mapping = get_mappings(paths['mapping'])"
   ]
  },
  {
   "cell_type": "code",
   "execution_count": 6,
   "id": "certified-tactics",
   "metadata": {
    "execution": {
     "iopub.execute_input": "2021-03-28T00:06:19.790332Z",
     "iopub.status.busy": "2021-03-28T00:06:19.789709Z",
     "iopub.status.idle": "2021-03-28T00:06:19.792515Z",
     "shell.execute_reply": "2021-03-28T00:06:19.793073Z"
    },
    "papermill": {
     "duration": 0.044917,
     "end_time": "2021-03-28T00:06:19.793216",
     "exception": false,
     "start_time": "2021-03-28T00:06:19.748299",
     "status": "completed"
    },
    "tags": []
   },
   "outputs": [],
   "source": [
    "#hide\n",
    "def get_template(path):\n",
    "    from urllib.parse import urlparse\n",
    "    if bool(urlparse(path).netloc):\n",
    "        from urllib.request import urlopen\n",
    "        return urlopen(path).read().decode('utf8')\n",
    "    return open(path).read()"
   ]
  },
  {
   "cell_type": "code",
   "execution_count": 7,
   "id": "realistic-blast",
   "metadata": {
    "execution": {
     "iopub.execute_input": "2021-03-28T00:06:19.867572Z",
     "iopub.status.busy": "2021-03-28T00:06:19.866991Z",
     "iopub.status.idle": "2021-03-28T00:06:19.869417Z",
     "shell.execute_reply": "2021-03-28T00:06:19.869967Z"
    },
    "papermill": {
     "duration": 0.042602,
     "end_time": "2021-03-28T00:06:19.870106",
     "exception": false,
     "start_time": "2021-03-28T00:06:19.827504",
     "status": "completed"
    },
    "tags": []
   },
   "outputs": [],
   "source": [
    "#hide\n",
    "def get_frame(name):\n",
    "    url = (\n",
    "        'https://raw.githubusercontent.com/CSSEGISandData/COVID-19/master/csse_covid_19_data/'\n",
    "        f'csse_covid_19_time_series/time_series_covid19_{name}_global.csv')\n",
    "    df = pd.read_csv(url)\n",
    "    # rename countries\n",
    "    df['Country/Region'] = df['Country/Region'].replace(mapping['replace.country'])\n",
    "    return df"
   ]
  },
  {
   "cell_type": "code",
   "execution_count": 8,
   "id": "affiliated-characterization",
   "metadata": {
    "execution": {
     "iopub.execute_input": "2021-03-28T00:06:19.946384Z",
     "iopub.status.busy": "2021-03-28T00:06:19.945762Z",
     "iopub.status.idle": "2021-03-28T00:06:19.947960Z",
     "shell.execute_reply": "2021-03-28T00:06:19.947397Z"
    },
    "papermill": {
     "duration": 0.043648,
     "end_time": "2021-03-28T00:06:19.948080",
     "exception": false,
     "start_time": "2021-03-28T00:06:19.904432",
     "status": "completed"
    },
    "tags": []
   },
   "outputs": [],
   "source": [
    "#hide\n",
    "def get_dates(df):\n",
    "    dt_cols = df.columns[~df.columns.isin(['Province/State', 'Country/Region', 'Lat', 'Long'])]\n",
    "    LAST_DATE_I = -1\n",
    "    # sometimes last column may be empty, then go backwards\n",
    "    for i in range(-1, -len(dt_cols), -1):\n",
    "        if not df[dt_cols[i]].fillna(0).eq(0).all():\n",
    "            LAST_DATE_I = i\n",
    "            break\n",
    "    return LAST_DATE_I, dt_cols"
   ]
  },
  {
   "cell_type": "code",
   "execution_count": 9,
   "id": "recent-optimization",
   "metadata": {
    "execution": {
     "iopub.execute_input": "2021-03-28T00:06:20.023493Z",
     "iopub.status.busy": "2021-03-28T00:06:20.022379Z",
     "iopub.status.idle": "2021-03-28T00:06:20.545555Z",
     "shell.execute_reply": "2021-03-28T00:06:20.544607Z"
    },
    "papermill": {
     "duration": 0.56322,
     "end_time": "2021-03-28T00:06:20.545697",
     "exception": false,
     "start_time": "2021-03-28T00:06:19.982477",
     "status": "completed"
    },
    "tags": []
   },
   "outputs": [],
   "source": [
    "#hide\n",
    "COL_REGION = 'Country/Region'\n",
    "# Confirmed, Recovered, Deaths\n",
    "df = get_frame('confirmed')\n",
    "# dft_: timeseries, dfc_: today country agg\n",
    "dft_cases = df\n",
    "dft_deaths = get_frame('deaths')\n",
    "dft_recovered = get_frame('recovered')\n",
    "LAST_DATE_I, dt_cols = get_dates(df)"
   ]
  },
  {
   "cell_type": "code",
   "execution_count": 10,
   "id": "absolute-copper",
   "metadata": {
    "execution": {
     "iopub.execute_input": "2021-03-28T00:06:20.622984Z",
     "iopub.status.busy": "2021-03-28T00:06:20.622392Z",
     "iopub.status.idle": "2021-03-28T00:06:20.625207Z",
     "shell.execute_reply": "2021-03-28T00:06:20.624716Z"
    },
    "papermill": {
     "duration": 0.043518,
     "end_time": "2021-03-28T00:06:20.625328",
     "exception": false,
     "start_time": "2021-03-28T00:06:20.581810",
     "status": "completed"
    },
    "tags": []
   },
   "outputs": [],
   "source": [
    "#hide\n",
    "LAST_DATE_I, dt_cols = get_dates(df)\n",
    "dt_today =dt_cols[LAST_DATE_I]\n",
    "# dt_5day = dt_cols[LAST_DATE_I - 5]\n",
    "dt_yday = dt_cols[LAST_DATE_I - 1]"
   ]
  },
  {
   "cell_type": "code",
   "execution_count": 11,
   "id": "restricted-sheriff",
   "metadata": {
    "execution": {
     "iopub.execute_input": "2021-03-28T00:06:20.701809Z",
     "iopub.status.busy": "2021-03-28T00:06:20.701219Z",
     "iopub.status.idle": "2021-03-28T00:06:20.707109Z",
     "shell.execute_reply": "2021-03-28T00:06:20.707552Z"
    },
    "papermill": {
     "duration": 0.048135,
     "end_time": "2021-03-28T00:06:20.707701",
     "exception": false,
     "start_time": "2021-03-28T00:06:20.659566",
     "status": "completed"
    },
    "tags": []
   },
   "outputs": [],
   "source": [
    "#hide\n",
    "dfc_cases = dft_cases.groupby(COL_REGION)[dt_today].sum()\n",
    "dfc_deaths = dft_deaths.groupby(COL_REGION)[dt_today].sum()\n",
    "# dfp_cases = dft_cases.groupby(COL_REGION)[dt_5day].sum()\n",
    "# dfp_deaths = dft_deaths.groupby(COL_REGION)[dt_5day].sum()\n",
    "dfp_cases = dft_cases.groupby(COL_REGION)[dt_yday].sum()\n",
    "dfp_deaths = dft_deaths.groupby(COL_REGION)[dt_yday].sum()"
   ]
  },
  {
   "cell_type": "code",
   "execution_count": 12,
   "id": "deluxe-hepatitis",
   "metadata": {
    "execution": {
     "iopub.execute_input": "2021-03-28T00:06:20.783378Z",
     "iopub.status.busy": "2021-03-28T00:06:20.782799Z",
     "iopub.status.idle": "2021-03-28T00:06:20.789153Z",
     "shell.execute_reply": "2021-03-28T00:06:20.789720Z"
    },
    "papermill": {
     "duration": 0.047726,
     "end_time": "2021-03-28T00:06:20.789875",
     "exception": false,
     "start_time": "2021-03-28T00:06:20.742149",
     "status": "completed"
    },
    "tags": []
   },
   "outputs": [],
   "source": [
    "#hide\n",
    "df_table = (pd.DataFrame(dict(Cases = dfc_cases, Deaths = dfc_deaths, PCases = dfp_cases, PDeaths = dfp_deaths))\n",
    "            .sort_values(by = ['Cases','Deaths'], ascending = [False, False])\n",
    "            .reset_index())"
   ]
  },
  {
   "cell_type": "code",
   "execution_count": 13,
   "id": "educational-chancellor",
   "metadata": {
    "execution": {
     "iopub.execute_input": "2021-03-28T00:06:20.883206Z",
     "iopub.status.busy": "2021-03-28T00:06:20.866988Z",
     "iopub.status.idle": "2021-03-28T00:06:20.891814Z",
     "shell.execute_reply": "2021-03-28T00:06:20.891311Z"
    },
    "papermill": {
     "duration": 0.067678,
     "end_time": "2021-03-28T00:06:20.891941",
     "exception": false,
     "start_time": "2021-03-28T00:06:20.824263",
     "status": "completed"
    },
    "tags": []
   },
   "outputs": [
    {
     "data": {
      "text/html": [
       "<div>\n",
       "<style scoped>\n",
       "    .dataframe tbody tr th:only-of-type {\n",
       "        vertical-align: middle;\n",
       "    }\n",
       "\n",
       "    .dataframe tbody tr th {\n",
       "        vertical-align: top;\n",
       "    }\n",
       "\n",
       "    .dataframe thead th {\n",
       "        text-align: right;\n",
       "    }\n",
       "</style>\n",
       "<table border=\"1\" class=\"dataframe\">\n",
       "  <thead>\n",
       "    <tr style=\"text-align: right;\">\n",
       "      <th></th>\n",
       "      <th>Country/Region</th>\n",
       "      <th>Cases</th>\n",
       "      <th>Deaths</th>\n",
       "      <th>PCases</th>\n",
       "      <th>PDeaths</th>\n",
       "      <th>Cases (+)</th>\n",
       "      <th>Deaths (+)</th>\n",
       "      <th>Fatality Rate</th>\n",
       "      <th>Continent</th>\n",
       "    </tr>\n",
       "  </thead>\n",
       "  <tbody>\n",
       "    <tr>\n",
       "      <th>0</th>\n",
       "      <td>US</td>\n",
       "      <td>30156621</td>\n",
       "      <td>548087</td>\n",
       "      <td>30079282</td>\n",
       "      <td>546822</td>\n",
       "      <td>77339</td>\n",
       "      <td>1265</td>\n",
       "      <td>1.82</td>\n",
       "      <td>North America</td>\n",
       "    </tr>\n",
       "    <tr>\n",
       "      <th>1</th>\n",
       "      <td>Brazil</td>\n",
       "      <td>12404414</td>\n",
       "      <td>307112</td>\n",
       "      <td>12320169</td>\n",
       "      <td>303462</td>\n",
       "      <td>84245</td>\n",
       "      <td>3650</td>\n",
       "      <td>2.48</td>\n",
       "      <td>South America</td>\n",
       "    </tr>\n",
       "    <tr>\n",
       "      <th>2</th>\n",
       "      <td>India</td>\n",
       "      <td>11908910</td>\n",
       "      <td>161240</td>\n",
       "      <td>11846652</td>\n",
       "      <td>160949</td>\n",
       "      <td>62258</td>\n",
       "      <td>291</td>\n",
       "      <td>1.35</td>\n",
       "      <td>Asia</td>\n",
       "    </tr>\n",
       "    <tr>\n",
       "      <th>3</th>\n",
       "      <td>France</td>\n",
       "      <td>4526530</td>\n",
       "      <td>94432</td>\n",
       "      <td>4484659</td>\n",
       "      <td>93535</td>\n",
       "      <td>41871</td>\n",
       "      <td>897</td>\n",
       "      <td>2.09</td>\n",
       "      <td>Europe</td>\n",
       "    </tr>\n",
       "    <tr>\n",
       "      <th>4</th>\n",
       "      <td>Russia</td>\n",
       "      <td>4451565</td>\n",
       "      <td>95410</td>\n",
       "      <td>4442492</td>\n",
       "      <td>95010</td>\n",
       "      <td>9073</td>\n",
       "      <td>400</td>\n",
       "      <td>2.14</td>\n",
       "      <td>Europe</td>\n",
       "    </tr>\n",
       "  </tbody>\n",
       "</table>\n",
       "</div>"
      ],
      "text/plain": [
       "  Country/Region     Cases  Deaths    PCases  PDeaths  Cases (+)  Deaths (+)  \\\n",
       "0             US  30156621  548087  30079282   546822      77339        1265   \n",
       "1         Brazil  12404414  307112  12320169   303462      84245        3650   \n",
       "2          India  11908910  161240  11846652   160949      62258         291   \n",
       "3         France   4526530   94432   4484659    93535      41871         897   \n",
       "4         Russia   4451565   95410   4442492    95010       9073         400   \n",
       "\n",
       "   Fatality Rate      Continent  \n",
       "0           1.82  North America  \n",
       "1           2.48  South America  \n",
       "2           1.35           Asia  \n",
       "3           2.09         Europe  \n",
       "4           2.14         Europe  "
      ]
     },
     "execution_count": 13,
     "metadata": {},
     "output_type": "execute_result"
    }
   ],
   "source": [
    "#hide\n",
    "for c in 'Cases, Deaths'.split(', '):\n",
    "    df_table[f'{c} (+)'] = (df_table[c] - df_table[f'P{c}']).clip(0)\n",
    "    #Clip ça veut dire, les chiffres negatif sont interdit\n",
    "df_table['Fatality Rate'] = (100* df_table['Deaths']/ df_table['Cases']).round(2)\n",
    "df_table['Continent'] = df_table['Country/Region'].map(mapping['map.continent'])\n",
    "df_table.head(5)"
   ]
  },
  {
   "cell_type": "code",
   "execution_count": 14,
   "id": "aboriginal-bulgaria",
   "metadata": {
    "execution": {
     "iopub.execute_input": "2021-03-28T00:06:20.968553Z",
     "iopub.status.busy": "2021-03-28T00:06:20.967959Z",
     "iopub.status.idle": "2021-03-28T00:06:20.970313Z",
     "shell.execute_reply": "2021-03-28T00:06:20.970879Z"
    },
    "papermill": {
     "duration": 0.043948,
     "end_time": "2021-03-28T00:06:20.971026",
     "exception": false,
     "start_time": "2021-03-28T00:06:20.927078",
     "status": "completed"
    },
    "tags": []
   },
   "outputs": [],
   "source": [
    "#hide\n",
    "#delete problematic countries from table\n",
    "df_table = df_table[~df_table['Country/Region'].isin(['Cape Verde', 'Cruise Ship', 'Kosovo'])]"
   ]
  },
  {
   "cell_type": "code",
   "execution_count": 15,
   "id": "fantastic-effect",
   "metadata": {
    "execution": {
     "iopub.execute_input": "2021-03-28T00:06:21.049066Z",
     "iopub.status.busy": "2021-03-28T00:06:21.048483Z",
     "iopub.status.idle": "2021-03-28T00:06:21.068732Z",
     "shell.execute_reply": "2021-03-28T00:06:21.068262Z"
    },
    "papermill": {
     "duration": 0.063053,
     "end_time": "2021-03-28T00:06:21.068861",
     "exception": false,
     "start_time": "2021-03-28T00:06:21.005808",
     "status": "completed"
    },
    "tags": []
   },
   "outputs": [
    {
     "data": {
      "text/html": [
       "<div>\n",
       "<style scoped>\n",
       "    .dataframe tbody tr th:only-of-type {\n",
       "        vertical-align: middle;\n",
       "    }\n",
       "\n",
       "    .dataframe tbody tr th {\n",
       "        vertical-align: top;\n",
       "    }\n",
       "\n",
       "    .dataframe thead th {\n",
       "        text-align: right;\n",
       "    }\n",
       "</style>\n",
       "<table border=\"1\" class=\"dataframe\">\n",
       "  <thead>\n",
       "    <tr style=\"text-align: right;\">\n",
       "      <th></th>\n",
       "      <th>Country/Region</th>\n",
       "      <th>Cases</th>\n",
       "      <th>Deaths</th>\n",
       "      <th>PCases</th>\n",
       "      <th>PDeaths</th>\n",
       "      <th>Cases (+)</th>\n",
       "      <th>Deaths (+)</th>\n",
       "      <th>Fatality Rate</th>\n",
       "      <th>Continent</th>\n",
       "    </tr>\n",
       "  </thead>\n",
       "  <tbody>\n",
       "    <tr>\n",
       "      <th>0</th>\n",
       "      <td>US</td>\n",
       "      <td>30156621</td>\n",
       "      <td>548087</td>\n",
       "      <td>30079282</td>\n",
       "      <td>546822</td>\n",
       "      <td>77339</td>\n",
       "      <td>1265</td>\n",
       "      <td>1.8</td>\n",
       "      <td>North America</td>\n",
       "    </tr>\n",
       "    <tr>\n",
       "      <th>1</th>\n",
       "      <td>Brazil</td>\n",
       "      <td>12404414</td>\n",
       "      <td>307112</td>\n",
       "      <td>12320169</td>\n",
       "      <td>303462</td>\n",
       "      <td>84245</td>\n",
       "      <td>3650</td>\n",
       "      <td>2.5</td>\n",
       "      <td>South America</td>\n",
       "    </tr>\n",
       "    <tr>\n",
       "      <th>2</th>\n",
       "      <td>India</td>\n",
       "      <td>11908910</td>\n",
       "      <td>161240</td>\n",
       "      <td>11846652</td>\n",
       "      <td>160949</td>\n",
       "      <td>62258</td>\n",
       "      <td>291</td>\n",
       "      <td>1.4</td>\n",
       "      <td>Asia</td>\n",
       "    </tr>\n",
       "    <tr>\n",
       "      <th>3</th>\n",
       "      <td>France</td>\n",
       "      <td>4526530</td>\n",
       "      <td>94432</td>\n",
       "      <td>4484659</td>\n",
       "      <td>93535</td>\n",
       "      <td>41871</td>\n",
       "      <td>897</td>\n",
       "      <td>2.1</td>\n",
       "      <td>Europe</td>\n",
       "    </tr>\n",
       "    <tr>\n",
       "      <th>4</th>\n",
       "      <td>Russia</td>\n",
       "      <td>4451565</td>\n",
       "      <td>95410</td>\n",
       "      <td>4442492</td>\n",
       "      <td>95010</td>\n",
       "      <td>9073</td>\n",
       "      <td>400</td>\n",
       "      <td>2.1</td>\n",
       "      <td>Europe</td>\n",
       "    </tr>\n",
       "  </tbody>\n",
       "</table>\n",
       "</div>"
      ],
      "text/plain": [
       "  Country/Region     Cases  Deaths    PCases  PDeaths  Cases (+)  Deaths (+)  \\\n",
       "0             US  30156621  548087  30079282   546822      77339        1265   \n",
       "1         Brazil  12404414  307112  12320169   303462      84245        3650   \n",
       "2          India  11908910  161240  11846652   160949      62258         291   \n",
       "3         France   4526530   94432   4484659    93535      41871         897   \n",
       "4         Russia   4451565   95410   4442492    95010       9073         400   \n",
       "\n",
       "   Fatality Rate      Continent  \n",
       "0            1.8  North America  \n",
       "1            2.5  South America  \n",
       "2            1.4           Asia  \n",
       "3            2.1         Europe  \n",
       "4            2.1         Europe  "
      ]
     },
     "execution_count": 15,
     "metadata": {},
     "output_type": "execute_result"
    }
   ],
   "source": [
    "#hide\n",
    "df_table = (pd.DataFrame(dict(Cases=dfc_cases, Deaths=dfc_deaths, PCases=dfp_cases, PDeaths=dfp_deaths))\n",
    "             .sort_values(by=['Cases', 'Deaths'], ascending=[False, False])\n",
    "             .reset_index())\n",
    "df_table.rename(columns={'index': 'Country/Region'}, inplace=True)\n",
    "for c in 'Cases, Deaths'.split(', '):\n",
    "    df_table[f'{c} (+)'] = (df_table[c] - df_table[f'P{c}']).clip(0)  # DATA BUG\n",
    "df_table['Fatality Rate'] = (100 * df_table['Deaths'] / df_table['Cases']).round(1)\n",
    "df_table['Continent'] = df_table['Country/Region'].map(mapping['map.continent'])\n",
    "df_table.head(5)"
   ]
  },
  {
   "cell_type": "code",
   "execution_count": 16,
   "id": "fewer-occasion",
   "metadata": {
    "execution": {
     "iopub.execute_input": "2021-03-28T00:06:21.146339Z",
     "iopub.status.busy": "2021-03-28T00:06:21.145728Z",
     "iopub.status.idle": "2021-03-28T00:06:21.147975Z",
     "shell.execute_reply": "2021-03-28T00:06:21.147478Z"
    },
    "papermill": {
     "duration": 0.043627,
     "end_time": "2021-03-28T00:06:21.148097",
     "exception": false,
     "start_time": "2021-03-28T00:06:21.104470",
     "status": "completed"
    },
    "tags": []
   },
   "outputs": [],
   "source": [
    "#hide\n",
    "#delete problematic countries from table\n",
    "df_table = df_table[~df_table['Country/Region'].isin(['Cape Verde', 'Cruise Ship', 'Kosovo'])]"
   ]
  },
  {
   "cell_type": "code",
   "execution_count": 17,
   "id": "related-center",
   "metadata": {
    "execution": {
     "iopub.execute_input": "2021-03-28T00:06:21.232308Z",
     "iopub.status.busy": "2021-03-28T00:06:21.231695Z",
     "iopub.status.idle": "2021-03-28T00:06:21.242048Z",
     "shell.execute_reply": "2021-03-28T00:06:21.242560Z"
    },
    "papermill": {
     "duration": 0.059578,
     "end_time": "2021-03-28T00:06:21.242721",
     "exception": false,
     "start_time": "2021-03-28T00:06:21.183143",
     "status": "completed"
    },
    "tags": []
   },
   "outputs": [],
   "source": [
    "#hide\n",
    "metrics = [df_table.columns[index] for index in [1,2,5,6]]\n",
    "# s_china = df_table[df_table['Country/Region'].eq('China')][metrics].sum().add_prefix('China ')\n",
    "s_us = df_table[df_table['Country/Region'].eq('US')][metrics].sum().add_prefix('US ')\n",
    "s_eu = df_table[df_table['Continent'].eq('Europe')][metrics].sum().add_prefix('EU ')\n",
    "s_ind = df_table[df_table['Country/Region'].eq('India')][metrics].sum().add_prefix('India ')\n",
    "summary = {'updated': pd.to_datetime(dt_today), 'since': pd.to_datetime(dt_yday)}\n",
    "summary = {'updated': pd.to_datetime(dt_today), 'since': pd.to_datetime(dt_yday)}\n",
    "summary = {**summary, **df_table[metrics].sum(), **s_ind, **s_us, **s_eu}"
   ]
  },
  {
   "cell_type": "code",
   "execution_count": 18,
   "id": "engaging-syndrome",
   "metadata": {
    "execution": {
     "iopub.execute_input": "2021-03-28T00:06:21.321572Z",
     "iopub.status.busy": "2021-03-28T00:06:21.317960Z",
     "iopub.status.idle": "2021-03-28T00:06:21.332316Z",
     "shell.execute_reply": "2021-03-28T00:06:21.331305Z"
    },
    "papermill": {
     "duration": 0.054457,
     "end_time": "2021-03-28T00:06:21.332447",
     "exception": false,
     "start_time": "2021-03-28T00:06:21.277990",
     "status": "completed"
    },
    "tags": []
   },
   "outputs": [],
   "source": [
    "#hide\n",
    "dft_ct_new_cases = dft_cases.groupby(COL_REGION)[dt_cols].sum().diff(axis=1).fillna(0).astype(int)"
   ]
  },
  {
   "cell_type": "code",
   "execution_count": 19,
   "id": "neutral-assignment",
   "metadata": {
    "execution": {
     "iopub.execute_input": "2021-03-28T00:06:21.409794Z",
     "iopub.status.busy": "2021-03-28T00:06:21.409216Z",
     "iopub.status.idle": "2021-03-28T00:06:21.411436Z",
     "shell.execute_reply": "2021-03-28T00:06:21.410950Z"
    },
    "papermill": {
     "duration": 0.04386,
     "end_time": "2021-03-28T00:06:21.411555",
     "exception": false,
     "start_time": "2021-03-28T00:06:21.367695",
     "status": "completed"
    },
    "tags": []
   },
   "outputs": [],
   "source": [
    "#hide\n",
    "everydaycases = dft_ct_new_cases.cumsum(axis=1)"
   ]
  },
  {
   "cell_type": "code",
   "execution_count": 20,
   "id": "parliamentary-calgary",
   "metadata": {
    "execution": {
     "iopub.execute_input": "2021-03-28T00:06:21.486340Z",
     "iopub.status.busy": "2021-03-28T00:06:21.485733Z",
     "iopub.status.idle": "2021-03-28T00:06:23.199059Z",
     "shell.execute_reply": "2021-03-28T00:06:23.198528Z"
    },
    "papermill": {
     "duration": 1.752469,
     "end_time": "2021-03-28T00:06:23.199195",
     "exception": false,
     "start_time": "2021-03-28T00:06:21.446726",
     "status": "completed"
    },
    "tags": []
   },
   "outputs": [],
   "source": [
    "#hide\n",
    "import pandas as pd\n",
    "import matplotlib.pyplot as plt\n",
    "import matplotlib.ticker as ticker\n",
    "import matplotlib.animation as animation\n",
    "from IPython.display import HTML"
   ]
  },
  {
   "cell_type": "code",
   "execution_count": 21,
   "id": "lasting-extraction",
   "metadata": {
    "execution": {
     "iopub.execute_input": "2021-03-28T00:06:23.280435Z",
     "iopub.status.busy": "2021-03-28T00:06:23.279817Z",
     "iopub.status.idle": "2021-03-28T00:06:23.285833Z",
     "shell.execute_reply": "2021-03-28T00:06:23.286353Z"
    },
    "papermill": {
     "duration": 0.050749,
     "end_time": "2021-03-28T00:06:23.286511",
     "exception": false,
     "start_time": "2021-03-28T00:06:23.235762",
     "status": "completed"
    },
    "tags": []
   },
   "outputs": [],
   "source": [
    "#hide\n",
    "t = everydaycases.stack()"
   ]
  },
  {
   "cell_type": "code",
   "execution_count": 22,
   "id": "premier-sleeve",
   "metadata": {
    "execution": {
     "iopub.execute_input": "2021-03-28T00:06:23.364673Z",
     "iopub.status.busy": "2021-03-28T00:06:23.364081Z",
     "iopub.status.idle": "2021-03-28T00:06:23.372011Z",
     "shell.execute_reply": "2021-03-28T00:06:23.371528Z"
    },
    "papermill": {
     "duration": 0.048825,
     "end_time": "2021-03-28T00:06:23.372141",
     "exception": false,
     "start_time": "2021-03-28T00:06:23.323316",
     "status": "completed"
    },
    "tags": []
   },
   "outputs": [],
   "source": [
    "#hide\n",
    "g = t.reset_index(['Country/Region'])"
   ]
  },
  {
   "cell_type": "code",
   "execution_count": 23,
   "id": "distributed-pittsburgh",
   "metadata": {
    "execution": {
     "iopub.execute_input": "2021-03-28T00:06:23.450742Z",
     "iopub.status.busy": "2021-03-28T00:06:23.450113Z",
     "iopub.status.idle": "2021-03-28T00:06:23.452363Z",
     "shell.execute_reply": "2021-03-28T00:06:23.451787Z"
    },
    "papermill": {
     "duration": 0.042629,
     "end_time": "2021-03-28T00:06:23.452490",
     "exception": false,
     "start_time": "2021-03-28T00:06:23.409861",
     "status": "completed"
    },
    "tags": []
   },
   "outputs": [],
   "source": [
    "#hide\n",
    "g.index.name = 'date'"
   ]
  },
  {
   "cell_type": "code",
   "execution_count": 24,
   "id": "naked-donor",
   "metadata": {
    "execution": {
     "iopub.execute_input": "2021-03-28T00:06:23.528860Z",
     "iopub.status.busy": "2021-03-28T00:06:23.528258Z",
     "iopub.status.idle": "2021-03-28T00:06:23.530632Z",
     "shell.execute_reply": "2021-03-28T00:06:23.531194Z"
    },
    "papermill": {
     "duration": 0.043187,
     "end_time": "2021-03-28T00:06:23.531344",
     "exception": false,
     "start_time": "2021-03-28T00:06:23.488157",
     "status": "completed"
    },
    "tags": []
   },
   "outputs": [],
   "source": [
    "# #hide\n",
    "# g = g.reset_index(['date'])"
   ]
  },
  {
   "cell_type": "code",
   "execution_count": 25,
   "id": "incomplete-mustang",
   "metadata": {
    "execution": {
     "iopub.execute_input": "2021-03-28T00:06:23.607817Z",
     "iopub.status.busy": "2021-03-28T00:06:23.607141Z",
     "iopub.status.idle": "2021-03-28T00:06:23.608727Z",
     "shell.execute_reply": "2021-03-28T00:06:23.609293Z"
    },
    "papermill": {
     "duration": 0.042659,
     "end_time": "2021-03-28T00:06:23.609457",
     "exception": false,
     "start_time": "2021-03-28T00:06:23.566798",
     "status": "completed"
    },
    "tags": []
   },
   "outputs": [],
   "source": [
    "#hide\n",
    "# g.head()"
   ]
  },
  {
   "cell_type": "code",
   "execution_count": 26,
   "id": "specific-kruger",
   "metadata": {
    "execution": {
     "iopub.execute_input": "2021-03-28T00:06:23.686346Z",
     "iopub.status.busy": "2021-03-28T00:06:23.685581Z",
     "iopub.status.idle": "2021-03-28T00:06:23.686987Z",
     "shell.execute_reply": "2021-03-28T00:06:23.687461Z"
    },
    "papermill": {
     "duration": 0.042044,
     "end_time": "2021-03-28T00:06:23.687616",
     "exception": false,
     "start_time": "2021-03-28T00:06:23.645572",
     "status": "completed"
    },
    "tags": []
   },
   "outputs": [],
   "source": [
    "#hide\n",
    "# g.columns = ['date','country','cases']"
   ]
  },
  {
   "cell_type": "code",
   "execution_count": 27,
   "id": "tender-conversion",
   "metadata": {
    "execution": {
     "iopub.execute_input": "2021-03-28T00:06:23.772492Z",
     "iopub.status.busy": "2021-03-28T00:06:23.771458Z",
     "iopub.status.idle": "2021-03-28T00:06:23.773973Z",
     "shell.execute_reply": "2021-03-28T00:06:23.774835Z"
    },
    "papermill": {
     "duration": 0.049749,
     "end_time": "2021-03-28T00:06:23.775075",
     "exception": false,
     "start_time": "2021-03-28T00:06:23.725326",
     "status": "completed"
    },
    "tags": []
   },
   "outputs": [],
   "source": [
    "#hide\n",
    "# g['continent'] = g.country"
   ]
  },
  {
   "cell_type": "code",
   "execution_count": 28,
   "id": "substantial-wilderness",
   "metadata": {
    "execution": {
     "iopub.execute_input": "2021-03-28T00:06:23.851310Z",
     "iopub.status.busy": "2021-03-28T00:06:23.850719Z",
     "iopub.status.idle": "2021-03-28T00:06:23.854448Z",
     "shell.execute_reply": "2021-03-28T00:06:23.855015Z"
    },
    "papermill": {
     "duration": 0.044141,
     "end_time": "2021-03-28T00:06:23.855165",
     "exception": false,
     "start_time": "2021-03-28T00:06:23.811024",
     "status": "completed"
    },
    "tags": []
   },
   "outputs": [],
   "source": [
    "#hide\n",
    "# cols = list(g.columns.values)"
   ]
  },
  {
   "cell_type": "code",
   "execution_count": 29,
   "id": "solved-farming",
   "metadata": {
    "execution": {
     "iopub.execute_input": "2021-03-28T00:06:23.930107Z",
     "iopub.status.busy": "2021-03-28T00:06:23.929481Z",
     "iopub.status.idle": "2021-03-28T00:06:23.932219Z",
     "shell.execute_reply": "2021-03-28T00:06:23.932789Z"
    },
    "papermill": {
     "duration": 0.04249,
     "end_time": "2021-03-28T00:06:23.932942",
     "exception": false,
     "start_time": "2021-03-28T00:06:23.890452",
     "status": "completed"
    },
    "tags": []
   },
   "outputs": [],
   "source": [
    "#hide\n",
    "# cols.insert(0, cols.pop())"
   ]
  },
  {
   "cell_type": "code",
   "execution_count": 30,
   "id": "executed-adoption",
   "metadata": {
    "execution": {
     "iopub.execute_input": "2021-03-28T00:06:24.008538Z",
     "iopub.status.busy": "2021-03-28T00:06:24.007925Z",
     "iopub.status.idle": "2021-03-28T00:06:24.010879Z",
     "shell.execute_reply": "2021-03-28T00:06:24.010384Z"
    },
    "papermill": {
     "duration": 0.04253,
     "end_time": "2021-03-28T00:06:24.011012",
     "exception": false,
     "start_time": "2021-03-28T00:06:23.968482",
     "status": "completed"
    },
    "tags": []
   },
   "outputs": [],
   "source": [
    "#hide\n",
    "# g = g[cols]"
   ]
  },
  {
   "cell_type": "code",
   "execution_count": 31,
   "id": "subject-dublin",
   "metadata": {
    "execution": {
     "iopub.execute_input": "2021-03-28T00:06:24.087137Z",
     "iopub.status.busy": "2021-03-28T00:06:24.086534Z",
     "iopub.status.idle": "2021-03-28T00:06:24.088802Z",
     "shell.execute_reply": "2021-03-28T00:06:24.088303Z"
    },
    "papermill": {
     "duration": 0.042367,
     "end_time": "2021-03-28T00:06:24.088928",
     "exception": false,
     "start_time": "2021-03-28T00:06:24.046561",
     "status": "completed"
    },
    "tags": []
   },
   "outputs": [],
   "source": [
    "#hide\n",
    "# g['continent'] = g['continent'].map(mapping['map.continent'])"
   ]
  },
  {
   "cell_type": "code",
   "execution_count": 32,
   "id": "freelance-scout",
   "metadata": {
    "execution": {
     "iopub.execute_input": "2021-03-28T00:06:24.164323Z",
     "iopub.status.busy": "2021-03-28T00:06:24.163713Z",
     "iopub.status.idle": "2021-03-28T00:06:24.165600Z",
     "shell.execute_reply": "2021-03-28T00:06:24.166051Z"
    },
    "papermill": {
     "duration": 0.041765,
     "end_time": "2021-03-28T00:06:24.166233",
     "exception": false,
     "start_time": "2021-03-28T00:06:24.124468",
     "status": "completed"
    },
    "tags": []
   },
   "outputs": [],
   "source": [
    "#hide\n",
    "# g.head()"
   ]
  },
  {
   "cell_type": "code",
   "execution_count": 33,
   "id": "limited-engine",
   "metadata": {
    "execution": {
     "iopub.execute_input": "2021-03-28T00:06:24.242227Z",
     "iopub.status.busy": "2021-03-28T00:06:24.241577Z",
     "iopub.status.idle": "2021-03-28T00:06:24.244220Z",
     "shell.execute_reply": "2021-03-28T00:06:24.244737Z"
    },
    "papermill": {
     "duration": 0.043479,
     "end_time": "2021-03-28T00:06:24.244891",
     "exception": false,
     "start_time": "2021-03-28T00:06:24.201412",
     "status": "completed"
    },
    "tags": []
   },
   "outputs": [],
   "source": [
    "# hide\n",
    "# g['date'] = g['date'].astype('datetime64[ns]')"
   ]
  },
  {
   "cell_type": "code",
   "execution_count": 34,
   "id": "sophisticated-supervisor",
   "metadata": {
    "execution": {
     "iopub.execute_input": "2021-03-28T00:06:24.322102Z",
     "iopub.status.busy": "2021-03-28T00:06:24.321456Z",
     "iopub.status.idle": "2021-03-28T00:06:24.324311Z",
     "shell.execute_reply": "2021-03-28T00:06:24.324804Z"
    },
    "papermill": {
     "duration": 0.04466,
     "end_time": "2021-03-28T00:06:24.324977",
     "exception": false,
     "start_time": "2021-03-28T00:06:24.280317",
     "status": "completed"
    },
    "tags": []
   },
   "outputs": [],
   "source": [
    "#hide\n",
    "# g['date'] = g.date.dt.dayofyear"
   ]
  },
  {
   "cell_type": "code",
   "execution_count": 35,
   "id": "inside-dubai",
   "metadata": {
    "execution": {
     "iopub.execute_input": "2021-03-28T00:06:24.402665Z",
     "iopub.status.busy": "2021-03-28T00:06:24.402011Z",
     "iopub.status.idle": "2021-03-28T00:06:24.404970Z",
     "shell.execute_reply": "2021-03-28T00:06:24.405537Z"
    },
    "papermill": {
     "duration": 0.044849,
     "end_time": "2021-03-28T00:06:24.405688",
     "exception": false,
     "start_time": "2021-03-28T00:06:24.360839",
     "status": "completed"
    },
    "tags": []
   },
   "outputs": [],
   "source": [
    "#hide\n",
    "# g = g.rename(columns= {'continent':'group','country':'name','cases':'value'})"
   ]
  },
  {
   "cell_type": "code",
   "execution_count": 36,
   "id": "fleet-motorcycle",
   "metadata": {
    "execution": {
     "iopub.execute_input": "2021-03-28T00:06:24.481033Z",
     "iopub.status.busy": "2021-03-28T00:06:24.480449Z",
     "iopub.status.idle": "2021-03-28T00:06:24.482728Z",
     "shell.execute_reply": "2021-03-28T00:06:24.483270Z"
    },
    "papermill": {
     "duration": 0.042318,
     "end_time": "2021-03-28T00:06:24.483413",
     "exception": false,
     "start_time": "2021-03-28T00:06:24.441095",
     "status": "completed"
    },
    "tags": []
   },
   "outputs": [],
   "source": [
    "#hide\n",
    "# cols = ['name','group','day','value']"
   ]
  },
  {
   "cell_type": "code",
   "execution_count": 37,
   "id": "continued-sleeping",
   "metadata": {
    "execution": {
     "iopub.execute_input": "2021-03-28T00:06:24.559598Z",
     "iopub.status.busy": "2021-03-28T00:06:24.559002Z",
     "iopub.status.idle": "2021-03-28T00:06:24.561268Z",
     "shell.execute_reply": "2021-03-28T00:06:24.560779Z"
    },
    "papermill": {
     "duration": 0.04172,
     "end_time": "2021-03-28T00:06:24.561388",
     "exception": false,
     "start_time": "2021-03-28T00:06:24.519668",
     "status": "completed"
    },
    "tags": []
   },
   "outputs": [],
   "source": [
    "#hide\n",
    "# g.rename(columns= {'date':'day'},inplace = True)"
   ]
  },
  {
   "cell_type": "code",
   "execution_count": 38,
   "id": "major-fight",
   "metadata": {
    "execution": {
     "iopub.execute_input": "2021-03-28T00:06:24.640770Z",
     "iopub.status.busy": "2021-03-28T00:06:24.640178Z",
     "iopub.status.idle": "2021-03-28T00:06:24.642472Z",
     "shell.execute_reply": "2021-03-28T00:06:24.641945Z"
    },
    "papermill": {
     "duration": 0.04387,
     "end_time": "2021-03-28T00:06:24.642600",
     "exception": false,
     "start_time": "2021-03-28T00:06:24.598730",
     "status": "completed"
    },
    "tags": []
   },
   "outputs": [],
   "source": [
    "#hide\n",
    "# g = g[cols]"
   ]
  },
  {
   "cell_type": "code",
   "execution_count": 39,
   "id": "structured-mobile",
   "metadata": {
    "execution": {
     "iopub.execute_input": "2021-03-28T00:06:24.733018Z",
     "iopub.status.busy": "2021-03-28T00:06:24.732269Z",
     "iopub.status.idle": "2021-03-28T00:06:24.734040Z",
     "shell.execute_reply": "2021-03-28T00:06:24.733552Z"
    },
    "papermill": {
     "duration": 0.047395,
     "end_time": "2021-03-28T00:06:24.734167",
     "exception": false,
     "start_time": "2021-03-28T00:06:24.686772",
     "status": "completed"
    },
    "tags": []
   },
   "outputs": [],
   "source": [
    "# #hide\n",
    "# g = g[g.group.notna()]"
   ]
  },
  {
   "cell_type": "code",
   "execution_count": 40,
   "id": "determined-closing",
   "metadata": {
    "execution": {
     "iopub.execute_input": "2021-03-28T00:06:24.812172Z",
     "iopub.status.busy": "2021-03-28T00:06:24.811537Z",
     "iopub.status.idle": "2021-03-28T00:06:24.812820Z",
     "shell.execute_reply": "2021-03-28T00:06:24.813302Z"
    },
    "papermill": {
     "duration": 0.043038,
     "end_time": "2021-03-28T00:06:24.813446",
     "exception": false,
     "start_time": "2021-03-28T00:06:24.770408",
     "status": "completed"
    },
    "tags": []
   },
   "outputs": [],
   "source": [
    "# #hide\n",
    "# colors = dict(zip(\n",
    "#     [\"Oceania\", \"Europe\", \"Asia\", \"South America\", \"Middle East\", \"North America\", \"Africa\"],\n",
    "#     [\"#adb0ff\", \"#ffb3ff\", \"#90d595\", \"#e48381\", \"#aafbff\", \"#f7bb5f\", \"#eafb50\"]\n",
    "# ))\n",
    "# group_lk = g.set_index('name')['group'].to_dict()"
   ]
  },
  {
   "cell_type": "code",
   "execution_count": null,
   "id": "gross-drinking",
   "metadata": {
    "papermill": {
     "duration": 0.035789,
     "end_time": "2021-03-28T00:06:24.884886",
     "exception": false,
     "start_time": "2021-03-28T00:06:24.849097",
     "status": "completed"
    },
    "tags": []
   },
   "outputs": [],
   "source": []
  },
  {
   "cell_type": "code",
   "execution_count": 41,
   "id": "subject-macintosh",
   "metadata": {
    "execution": {
     "iopub.execute_input": "2021-03-28T00:06:24.964584Z",
     "iopub.status.busy": "2021-03-28T00:06:24.963980Z",
     "iopub.status.idle": "2021-03-28T00:06:24.966177Z",
     "shell.execute_reply": "2021-03-28T00:06:24.965685Z"
    },
    "papermill": {
     "duration": 0.044606,
     "end_time": "2021-03-28T00:06:24.966319",
     "exception": false,
     "start_time": "2021-03-28T00:06:24.921713",
     "status": "completed"
    },
    "tags": []
   },
   "outputs": [],
   "source": [
    "# #hide\n",
    "# fig, ax = plt.subplots(figsize=(15, 8))\n",
    "\n",
    "# def draw_barchart(current_day):\n",
    "#     dff = g[g['day'].eq(current_day)].sort_values(by='value', ascending=True).tail(10)\n",
    "#     ax.clear()\n",
    "#     ax.barh(dff['name'], dff['value'], color=[colors[group_lk[x]] for x in dff['name']])\n",
    "#     dx = dff['value'].max() / 200\n",
    "    \n",
    "#     for i, (value, name) in enumerate(zip(dff['value'], dff['name'])):\n",
    "#         ax.text(value-dx, i,     name,           size=14, weight=600, ha='right', va='bottom')\n",
    "#         ax.text(value-dx, i-.25, group_lk[name], size=10, color='#444444', ha='right', va='baseline')\n",
    "#         ax.text(value+dx, i,     f'{value:,.0f}',  size=14, ha='left',  va='center')\n",
    "#     ax.text(1, 0.4, current_day, transform=ax.transAxes, color='#777777', size=46, ha='right', weight=800)\n",
    "#     ax.text(0, 1.06, 'Population (thousands)', transform=ax.transAxes, size=12, color='#777777')\n",
    "#     ax.xaxis.set_major_formatter(ticker.StrMethodFormatter('{x:,.0f}'))\n",
    "#     ax.xaxis.set_ticks_position('top')\n",
    "#     ax.tick_params(axis='x', colors='#777777', labelsize=12)\n",
    "#     ax.set_yticks([])\n",
    "#     ax.margins(0, 0.01)\n",
    "#     ax.grid(which='major', axis='x', linestyle='-')\n",
    "#     ax.set_axisbelow(True)\n",
    "    \n",
    "#     ax.text(0, 1.15, 'Coronavirus',\n",
    "#             transform=ax.transAxes, size=24, weight=600, ha='left', va='top')\n",
    "# #     ax.text(1, 0, 'by @pratapvardhan; credit @jburnmurdoch', transform=ax.transAxes, color='#777777', ha='right',\n",
    "# #             bbox=dict(facecolor='white', alpha=0.8, edgecolor='white'))\n",
    "#     plt.box(False)"
   ]
  },
  {
   "cell_type": "code",
   "execution_count": 42,
   "id": "sexual-wages",
   "metadata": {
    "execution": {
     "iopub.execute_input": "2021-03-28T00:06:25.046183Z",
     "iopub.status.busy": "2021-03-28T00:06:25.045600Z",
     "iopub.status.idle": "2021-03-28T00:06:25.048064Z",
     "shell.execute_reply": "2021-03-28T00:06:25.047576Z"
    },
    "papermill": {
     "duration": 0.046074,
     "end_time": "2021-03-28T00:06:25.048183",
     "exception": false,
     "start_time": "2021-03-28T00:06:25.002109",
     "status": "completed"
    },
    "tags": []
   },
   "outputs": [],
   "source": [
    "# #hide_input\n",
    "# fig, ax = plt.subplots(figsize=(15, 8))\n",
    "# animator = animation.FuncAnimation(fig, draw_barchart, frames=range(g.day.values.min(), g.day.values.max()))\n",
    "# HTML(animator.to_jshtml())\n",
    "# # or use animator.to_html5_video() or animator.save() "
   ]
  },
  {
   "cell_type": "code",
   "execution_count": null,
   "id": "australian-container",
   "metadata": {
    "papermill": {
     "duration": 0.036047,
     "end_time": "2021-03-28T00:06:25.121800",
     "exception": false,
     "start_time": "2021-03-28T00:06:25.085753",
     "status": "completed"
    },
    "tags": []
   },
   "outputs": [],
   "source": []
  },
  {
   "cell_type": "code",
   "execution_count": null,
   "id": "mediterranean-pontiac",
   "metadata": {
    "papermill": {
     "duration": 0.036717,
     "end_time": "2021-03-28T00:06:25.194482",
     "exception": false,
     "start_time": "2021-03-28T00:06:25.157765",
     "status": "completed"
    },
    "tags": []
   },
   "outputs": [],
   "source": []
  },
  {
   "cell_type": "code",
   "execution_count": null,
   "id": "aging-legislature",
   "metadata": {
    "papermill": {
     "duration": 0.035763,
     "end_time": "2021-03-28T00:06:25.271712",
     "exception": false,
     "start_time": "2021-03-28T00:06:25.235949",
     "status": "completed"
    },
    "tags": []
   },
   "outputs": [],
   "source": []
  }
 ],
 "metadata": {
  "kernelspec": {
   "display_name": "Python 3",
   "language": "python",
   "name": "python3"
  },
  "language_info": {
   "codemirror_mode": {
    "name": "ipython",
    "version": 3
   },
   "file_extension": ".py",
   "mimetype": "text/x-python",
   "name": "python",
   "nbconvert_exporter": "python",
   "pygments_lexer": "ipython3",
   "version": "3.6.13"
  },
  "papermill": {
   "duration": 8.005357,
   "end_time": "2021-03-28T00:06:25.716087",
   "environment_variables": {},
   "exception": null,
   "input_path": "2020-03-21-covid19exp.ipynb",
   "output_path": "2020-03-21-covid19exp.ipynb",
   "parameters": {},
   "start_time": "2021-03-28T00:06:17.710730",
   "version": "2.0.0"
  }
 },
 "nbformat": 4,
 "nbformat_minor": 5
}