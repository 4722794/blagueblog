{
 "cells": [
  {
   "cell_type": "markdown",
   "metadata": {
    "papermill": {
     "duration": 0.03694,
     "end_time": "2020-11-20T12:06:30.209922",
     "exception": false,
     "start_time": "2020-11-20T12:06:30.172982",
     "status": "completed"
    },
    "tags": []
   },
   "source": [
    "# COVID-19 Case Race\n",
    "> A race chart to see rising cases around the world\n",
    "\n",
    "- author: Hargun Oberoi\n",
    "- image: images/covid-overview.png\n",
    "- hide: false\n",
    "- badges: false"
   ]
  },
  {
   "cell_type": "code",
   "execution_count": 1,
   "metadata": {
    "execution": {
     "iopub.execute_input": "2020-11-20T12:06:30.275632Z",
     "iopub.status.busy": "2020-11-20T12:06:30.275041Z",
     "iopub.status.idle": "2020-11-20T12:06:30.613469Z",
     "shell.execute_reply": "2020-11-20T12:06:30.612786Z"
    },
    "papermill": {
     "duration": 0.37365,
     "end_time": "2020-11-20T12:06:30.613661",
     "exception": false,
     "start_time": "2020-11-20T12:06:30.240011",
     "status": "completed"
    },
    "tags": []
   },
   "outputs": [],
   "source": [
    "#hide\n",
    "import numpy as np\n",
    "import pandas as pd\n",
    "from jinja2 import Template\n",
    "from IPython.display import HTML"
   ]
  },
  {
   "cell_type": "code",
   "execution_count": 2,
   "metadata": {
    "execution": {
     "iopub.execute_input": "2020-11-20T12:06:30.692210Z",
     "iopub.status.busy": "2020-11-20T12:06:30.691213Z",
     "iopub.status.idle": "2020-11-20T12:06:30.693397Z",
     "shell.execute_reply": "2020-11-20T12:06:30.694152Z"
    },
    "papermill": {
     "duration": 0.0423,
     "end_time": "2020-11-20T12:06:30.694373",
     "exception": false,
     "start_time": "2020-11-20T12:06:30.652073",
     "status": "completed"
    },
    "tags": []
   },
   "outputs": [],
   "source": [
    "#hide\n",
    "\n",
    "# FETCH\n",
    "base_url = 'https://raw.githubusercontent.com/pratapvardhan/notebooks/master/covid19/'\n",
    "paths = {\n",
    "    'mapping': base_url + 'mapping_countries.csv',\n",
    "    'overview': base_url + 'overview.tpl'\n",
    "}"
   ]
  },
  {
   "cell_type": "code",
   "execution_count": 3,
   "metadata": {
    "execution": {
     "iopub.execute_input": "2020-11-20T12:06:30.768825Z",
     "iopub.status.busy": "2020-11-20T12:06:30.766649Z",
     "iopub.status.idle": "2020-11-20T12:06:30.771976Z",
     "shell.execute_reply": "2020-11-20T12:06:30.771511Z"
    },
    "papermill": {
     "duration": 0.044321,
     "end_time": "2020-11-20T12:06:30.772169",
     "exception": false,
     "start_time": "2020-11-20T12:06:30.727848",
     "status": "completed"
    },
    "tags": []
   },
   "outputs": [
    {
     "data": {
      "text/plain": [
       "'https://raw.githubusercontent.com/pratapvardhan/notebooks/master/covid19/mapping_countries.csv'"
      ]
     },
     "execution_count": 3,
     "metadata": {},
     "output_type": "execute_result"
    }
   ],
   "source": [
    "#hide\n",
    "paths['mapping']"
   ]
  },
  {
   "cell_type": "code",
   "execution_count": 4,
   "metadata": {
    "execution": {
     "iopub.execute_input": "2020-11-20T12:06:30.849875Z",
     "iopub.status.busy": "2020-11-20T12:06:30.849288Z",
     "iopub.status.idle": "2020-11-20T12:06:30.851642Z",
     "shell.execute_reply": "2020-11-20T12:06:30.852200Z"
    },
    "papermill": {
     "duration": 0.040269,
     "end_time": "2020-11-20T12:06:30.852345",
     "exception": false,
     "start_time": "2020-11-20T12:06:30.812076",
     "status": "completed"
    },
    "tags": []
   },
   "outputs": [],
   "source": [
    "#hide\n",
    "def get_mappings(url):\n",
    "    df = pd.read_csv(url)\n",
    "    return {\n",
    "        'df': df,\n",
    "        'replace.country': dict(df.dropna(subset=['Name']).set_index('Country')['Name']),\n",
    "        'map.continent': dict(df.set_index('Name')['Continent'])\n",
    "    }"
   ]
  },
  {
   "cell_type": "code",
   "execution_count": 5,
   "metadata": {
    "execution": {
     "iopub.execute_input": "2020-11-20T12:06:30.918378Z",
     "iopub.status.busy": "2020-11-20T12:06:30.917778Z",
     "iopub.status.idle": "2020-11-20T12:06:30.976790Z",
     "shell.execute_reply": "2020-11-20T12:06:30.977305Z"
    },
    "papermill": {
     "duration": 0.095489,
     "end_time": "2020-11-20T12:06:30.977463",
     "exception": false,
     "start_time": "2020-11-20T12:06:30.881974",
     "status": "completed"
    },
    "tags": []
   },
   "outputs": [],
   "source": [
    "#hide\n",
    "mapping = get_mappings(paths['mapping'])"
   ]
  },
  {
   "cell_type": "code",
   "execution_count": 6,
   "metadata": {
    "execution": {
     "iopub.execute_input": "2020-11-20T12:06:31.045956Z",
     "iopub.status.busy": "2020-11-20T12:06:31.044863Z",
     "iopub.status.idle": "2020-11-20T12:06:31.046803Z",
     "shell.execute_reply": "2020-11-20T12:06:31.047273Z"
    },
    "papermill": {
     "duration": 0.039911,
     "end_time": "2020-11-20T12:06:31.047424",
     "exception": false,
     "start_time": "2020-11-20T12:06:31.007513",
     "status": "completed"
    },
    "tags": []
   },
   "outputs": [],
   "source": [
    "#hide\n",
    "def get_template(path):\n",
    "    from urllib.parse import urlparse\n",
    "    if bool(urlparse(path).netloc):\n",
    "        from urllib.request import urlopen\n",
    "        return urlopen(path).read().decode('utf8')\n",
    "    return open(path).read()"
   ]
  },
  {
   "cell_type": "code",
   "execution_count": 7,
   "metadata": {
    "execution": {
     "iopub.execute_input": "2020-11-20T12:06:31.113473Z",
     "iopub.status.busy": "2020-11-20T12:06:31.112875Z",
     "iopub.status.idle": "2020-11-20T12:06:31.115611Z",
     "shell.execute_reply": "2020-11-20T12:06:31.115137Z"
    },
    "papermill": {
     "duration": 0.038401,
     "end_time": "2020-11-20T12:06:31.115742",
     "exception": false,
     "start_time": "2020-11-20T12:06:31.077341",
     "status": "completed"
    },
    "tags": []
   },
   "outputs": [],
   "source": [
    "#hide\n",
    "def get_frame(name):\n",
    "    url = (\n",
    "        'https://raw.githubusercontent.com/CSSEGISandData/COVID-19/master/csse_covid_19_data/'\n",
    "        f'csse_covid_19_time_series/time_series_covid19_{name}_global.csv')\n",
    "    df = pd.read_csv(url)\n",
    "    # rename countries\n",
    "    df['Country/Region'] = df['Country/Region'].replace(mapping['replace.country'])\n",
    "    return df"
   ]
  },
  {
   "cell_type": "code",
   "execution_count": 8,
   "metadata": {
    "execution": {
     "iopub.execute_input": "2020-11-20T12:06:31.181966Z",
     "iopub.status.busy": "2020-11-20T12:06:31.181356Z",
     "iopub.status.idle": "2020-11-20T12:06:31.183140Z",
     "shell.execute_reply": "2020-11-20T12:06:31.183581Z"
    },
    "papermill": {
     "duration": 0.038082,
     "end_time": "2020-11-20T12:06:31.183738",
     "exception": false,
     "start_time": "2020-11-20T12:06:31.145656",
     "status": "completed"
    },
    "tags": []
   },
   "outputs": [],
   "source": [
    "#hide\n",
    "def get_dates(df):\n",
    "    dt_cols = df.columns[~df.columns.isin(['Province/State', 'Country/Region', 'Lat', 'Long'])]\n",
    "    LAST_DATE_I = -1\n",
    "    # sometimes last column may be empty, then go backwards\n",
    "    for i in range(-1, -len(dt_cols), -1):\n",
    "        if not df[dt_cols[i]].fillna(0).eq(0).all():\n",
    "            LAST_DATE_I = i\n",
    "            break\n",
    "    return LAST_DATE_I, dt_cols"
   ]
  },
  {
   "cell_type": "code",
   "execution_count": 9,
   "metadata": {
    "execution": {
     "iopub.execute_input": "2020-11-20T12:06:31.248263Z",
     "iopub.status.busy": "2020-11-20T12:06:31.247653Z",
     "iopub.status.idle": "2020-11-20T12:06:31.581681Z",
     "shell.execute_reply": "2020-11-20T12:06:31.580519Z"
    },
    "papermill": {
     "duration": 0.368468,
     "end_time": "2020-11-20T12:06:31.581828",
     "exception": false,
     "start_time": "2020-11-20T12:06:31.213360",
     "status": "completed"
    },
    "tags": []
   },
   "outputs": [],
   "source": [
    "#hide\n",
    "COL_REGION = 'Country/Region'\n",
    "# Confirmed, Recovered, Deaths\n",
    "df = get_frame('confirmed')\n",
    "# dft_: timeseries, dfc_: today country agg\n",
    "dft_cases = df\n",
    "dft_deaths = get_frame('deaths')\n",
    "dft_recovered = get_frame('recovered')\n",
    "LAST_DATE_I, dt_cols = get_dates(df)"
   ]
  },
  {
   "cell_type": "code",
   "execution_count": 10,
   "metadata": {
    "execution": {
     "iopub.execute_input": "2020-11-20T12:06:31.647180Z",
     "iopub.status.busy": "2020-11-20T12:06:31.646563Z",
     "iopub.status.idle": "2020-11-20T12:06:31.648317Z",
     "shell.execute_reply": "2020-11-20T12:06:31.648784Z"
    },
    "papermill": {
     "duration": 0.03712,
     "end_time": "2020-11-20T12:06:31.648930",
     "exception": false,
     "start_time": "2020-11-20T12:06:31.611810",
     "status": "completed"
    },
    "tags": []
   },
   "outputs": [],
   "source": [
    "#hide\n",
    "LAST_DATE_I, dt_cols = get_dates(df)\n",
    "dt_today =dt_cols[LAST_DATE_I]\n",
    "# dt_5day = dt_cols[LAST_DATE_I - 5]\n",
    "dt_yday = dt_cols[LAST_DATE_I - 1]"
   ]
  },
  {
   "cell_type": "code",
   "execution_count": 11,
   "metadata": {
    "execution": {
     "iopub.execute_input": "2020-11-20T12:06:31.718272Z",
     "iopub.status.busy": "2020-11-20T12:06:31.717675Z",
     "iopub.status.idle": "2020-11-20T12:06:31.726063Z",
     "shell.execute_reply": "2020-11-20T12:06:31.725563Z"
    },
    "papermill": {
     "duration": 0.045603,
     "end_time": "2020-11-20T12:06:31.726191",
     "exception": false,
     "start_time": "2020-11-20T12:06:31.680588",
     "status": "completed"
    },
    "tags": []
   },
   "outputs": [],
   "source": [
    "#hide\n",
    "dfc_cases = dft_cases.groupby(COL_REGION)[dt_today].sum()\n",
    "dfc_deaths = dft_deaths.groupby(COL_REGION)[dt_today].sum()\n",
    "# dfp_cases = dft_cases.groupby(COL_REGION)[dt_5day].sum()\n",
    "# dfp_deaths = dft_deaths.groupby(COL_REGION)[dt_5day].sum()\n",
    "dfp_cases = dft_cases.groupby(COL_REGION)[dt_yday].sum()\n",
    "dfp_deaths = dft_deaths.groupby(COL_REGION)[dt_yday].sum()"
   ]
  },
  {
   "cell_type": "code",
   "execution_count": 12,
   "metadata": {
    "execution": {
     "iopub.execute_input": "2020-11-20T12:06:31.792870Z",
     "iopub.status.busy": "2020-11-20T12:06:31.792291Z",
     "iopub.status.idle": "2020-11-20T12:06:31.797169Z",
     "shell.execute_reply": "2020-11-20T12:06:31.796673Z"
    },
    "papermill": {
     "duration": 0.04145,
     "end_time": "2020-11-20T12:06:31.797295",
     "exception": false,
     "start_time": "2020-11-20T12:06:31.755845",
     "status": "completed"
    },
    "tags": []
   },
   "outputs": [],
   "source": [
    "#hide\n",
    "df_table = (pd.DataFrame(dict(Cases = dfc_cases, Deaths = dfc_deaths, PCases = dfp_cases, PDeaths = dfp_deaths))\n",
    "            .sort_values(by = ['Cases','Deaths'], ascending = [False, False])\n",
    "            .reset_index())"
   ]
  },
  {
   "cell_type": "code",
   "execution_count": 13,
   "metadata": {
    "execution": {
     "iopub.execute_input": "2020-11-20T12:06:31.875611Z",
     "iopub.status.busy": "2020-11-20T12:06:31.874937Z",
     "iopub.status.idle": "2020-11-20T12:06:31.882566Z",
     "shell.execute_reply": "2020-11-20T12:06:31.882032Z"
    },
    "papermill": {
     "duration": 0.055899,
     "end_time": "2020-11-20T12:06:31.882700",
     "exception": false,
     "start_time": "2020-11-20T12:06:31.826801",
     "status": "completed"
    },
    "tags": []
   },
   "outputs": [
    {
     "data": {
      "text/html": [
       "<div>\n",
       "<style scoped>\n",
       "    .dataframe tbody tr th:only-of-type {\n",
       "        vertical-align: middle;\n",
       "    }\n",
       "\n",
       "    .dataframe tbody tr th {\n",
       "        vertical-align: top;\n",
       "    }\n",
       "\n",
       "    .dataframe thead th {\n",
       "        text-align: right;\n",
       "    }\n",
       "</style>\n",
       "<table border=\"1\" class=\"dataframe\">\n",
       "  <thead>\n",
       "    <tr style=\"text-align: right;\">\n",
       "      <th></th>\n",
       "      <th>Country/Region</th>\n",
       "      <th>Cases</th>\n",
       "      <th>Deaths</th>\n",
       "      <th>PCases</th>\n",
       "      <th>PDeaths</th>\n",
       "      <th>Cases (+)</th>\n",
       "      <th>Deaths (+)</th>\n",
       "      <th>Fatality Rate</th>\n",
       "      <th>Continent</th>\n",
       "    </tr>\n",
       "  </thead>\n",
       "  <tbody>\n",
       "    <tr>\n",
       "      <th>0</th>\n",
       "      <td>US</td>\n",
       "      <td>11715316</td>\n",
       "      <td>252535</td>\n",
       "      <td>11527483</td>\n",
       "      <td>250520</td>\n",
       "      <td>187833</td>\n",
       "      <td>2015</td>\n",
       "      <td>2.16</td>\n",
       "      <td>North America</td>\n",
       "    </tr>\n",
       "    <tr>\n",
       "      <th>1</th>\n",
       "      <td>India</td>\n",
       "      <td>9004365</td>\n",
       "      <td>132162</td>\n",
       "      <td>8958483</td>\n",
       "      <td>131578</td>\n",
       "      <td>45882</td>\n",
       "      <td>584</td>\n",
       "      <td>1.47</td>\n",
       "      <td>Asia</td>\n",
       "    </tr>\n",
       "    <tr>\n",
       "      <th>2</th>\n",
       "      <td>Brazil</td>\n",
       "      <td>5981767</td>\n",
       "      <td>168061</td>\n",
       "      <td>5945849</td>\n",
       "      <td>167455</td>\n",
       "      <td>35918</td>\n",
       "      <td>606</td>\n",
       "      <td>2.81</td>\n",
       "      <td>South America</td>\n",
       "    </tr>\n",
       "    <tr>\n",
       "      <th>3</th>\n",
       "      <td>France</td>\n",
       "      <td>2137096</td>\n",
       "      <td>47201</td>\n",
       "      <td>2115717</td>\n",
       "      <td>46772</td>\n",
       "      <td>21379</td>\n",
       "      <td>429</td>\n",
       "      <td>2.21</td>\n",
       "      <td>Europe</td>\n",
       "    </tr>\n",
       "    <tr>\n",
       "      <th>4</th>\n",
       "      <td>Russia</td>\n",
       "      <td>1998966</td>\n",
       "      <td>34525</td>\n",
       "      <td>1975629</td>\n",
       "      <td>34068</td>\n",
       "      <td>23337</td>\n",
       "      <td>457</td>\n",
       "      <td>1.73</td>\n",
       "      <td>Europe</td>\n",
       "    </tr>\n",
       "  </tbody>\n",
       "</table>\n",
       "</div>"
      ],
      "text/plain": [
       "  Country/Region     Cases  Deaths    PCases  PDeaths  Cases (+)  Deaths (+)  \\\n",
       "0             US  11715316  252535  11527483   250520     187833        2015   \n",
       "1          India   9004365  132162   8958483   131578      45882         584   \n",
       "2         Brazil   5981767  168061   5945849   167455      35918         606   \n",
       "3         France   2137096   47201   2115717    46772      21379         429   \n",
       "4         Russia   1998966   34525   1975629    34068      23337         457   \n",
       "\n",
       "   Fatality Rate      Continent  \n",
       "0           2.16  North America  \n",
       "1           1.47           Asia  \n",
       "2           2.81  South America  \n",
       "3           2.21         Europe  \n",
       "4           1.73         Europe  "
      ]
     },
     "execution_count": 13,
     "metadata": {},
     "output_type": "execute_result"
    }
   ],
   "source": [
    "#hide\n",
    "for c in 'Cases, Deaths'.split(', '):\n",
    "    df_table[f'{c} (+)'] = (df_table[c] - df_table[f'P{c}']).clip(0)\n",
    "    #Clip ça veut dire, les chiffres negatif sont interdit\n",
    "df_table['Fatality Rate'] = (100* df_table['Deaths']/ df_table['Cases']).round(2)\n",
    "df_table['Continent'] = df_table['Country/Region'].map(mapping['map.continent'])\n",
    "df_table.head(5)"
   ]
  },
  {
   "cell_type": "code",
   "execution_count": 14,
   "metadata": {
    "execution": {
     "iopub.execute_input": "2020-11-20T12:06:31.968232Z",
     "iopub.status.busy": "2020-11-20T12:06:31.967493Z",
     "iopub.status.idle": "2020-11-20T12:06:31.968981Z",
     "shell.execute_reply": "2020-11-20T12:06:31.969657Z"
    },
    "papermill": {
     "duration": 0.050742,
     "end_time": "2020-11-20T12:06:31.969828",
     "exception": false,
     "start_time": "2020-11-20T12:06:31.919086",
     "status": "completed"
    },
    "tags": []
   },
   "outputs": [],
   "source": [
    "#hide\n",
    "#delete problematic countries from table\n",
    "df_table = df_table[~df_table['Country/Region'].isin(['Cape Verde', 'Cruise Ship', 'Kosovo'])]"
   ]
  },
  {
   "cell_type": "code",
   "execution_count": 15,
   "metadata": {
    "execution": {
     "iopub.execute_input": "2020-11-20T12:06:32.039844Z",
     "iopub.status.busy": "2020-11-20T12:06:32.039244Z",
     "iopub.status.idle": "2020-11-20T12:06:32.058235Z",
     "shell.execute_reply": "2020-11-20T12:06:32.058916Z"
    },
    "papermill": {
     "duration": 0.058489,
     "end_time": "2020-11-20T12:06:32.059114",
     "exception": false,
     "start_time": "2020-11-20T12:06:32.000625",
     "status": "completed"
    },
    "tags": []
   },
   "outputs": [
    {
     "data": {
      "text/html": [
       "<div>\n",
       "<style scoped>\n",
       "    .dataframe tbody tr th:only-of-type {\n",
       "        vertical-align: middle;\n",
       "    }\n",
       "\n",
       "    .dataframe tbody tr th {\n",
       "        vertical-align: top;\n",
       "    }\n",
       "\n",
       "    .dataframe thead th {\n",
       "        text-align: right;\n",
       "    }\n",
       "</style>\n",
       "<table border=\"1\" class=\"dataframe\">\n",
       "  <thead>\n",
       "    <tr style=\"text-align: right;\">\n",
       "      <th></th>\n",
       "      <th>Country/Region</th>\n",
       "      <th>Cases</th>\n",
       "      <th>Deaths</th>\n",
       "      <th>PCases</th>\n",
       "      <th>PDeaths</th>\n",
       "      <th>Cases (+)</th>\n",
       "      <th>Deaths (+)</th>\n",
       "      <th>Fatality Rate</th>\n",
       "      <th>Continent</th>\n",
       "    </tr>\n",
       "  </thead>\n",
       "  <tbody>\n",
       "    <tr>\n",
       "      <th>0</th>\n",
       "      <td>US</td>\n",
       "      <td>11715316</td>\n",
       "      <td>252535</td>\n",
       "      <td>11527483</td>\n",
       "      <td>250520</td>\n",
       "      <td>187833</td>\n",
       "      <td>2015</td>\n",
       "      <td>2.2</td>\n",
       "      <td>North America</td>\n",
       "    </tr>\n",
       "    <tr>\n",
       "      <th>1</th>\n",
       "      <td>India</td>\n",
       "      <td>9004365</td>\n",
       "      <td>132162</td>\n",
       "      <td>8958483</td>\n",
       "      <td>131578</td>\n",
       "      <td>45882</td>\n",
       "      <td>584</td>\n",
       "      <td>1.5</td>\n",
       "      <td>Asia</td>\n",
       "    </tr>\n",
       "    <tr>\n",
       "      <th>2</th>\n",
       "      <td>Brazil</td>\n",
       "      <td>5981767</td>\n",
       "      <td>168061</td>\n",
       "      <td>5945849</td>\n",
       "      <td>167455</td>\n",
       "      <td>35918</td>\n",
       "      <td>606</td>\n",
       "      <td>2.8</td>\n",
       "      <td>South America</td>\n",
       "    </tr>\n",
       "    <tr>\n",
       "      <th>3</th>\n",
       "      <td>France</td>\n",
       "      <td>2137096</td>\n",
       "      <td>47201</td>\n",
       "      <td>2115717</td>\n",
       "      <td>46772</td>\n",
       "      <td>21379</td>\n",
       "      <td>429</td>\n",
       "      <td>2.2</td>\n",
       "      <td>Europe</td>\n",
       "    </tr>\n",
       "    <tr>\n",
       "      <th>4</th>\n",
       "      <td>Russia</td>\n",
       "      <td>1998966</td>\n",
       "      <td>34525</td>\n",
       "      <td>1975629</td>\n",
       "      <td>34068</td>\n",
       "      <td>23337</td>\n",
       "      <td>457</td>\n",
       "      <td>1.7</td>\n",
       "      <td>Europe</td>\n",
       "    </tr>\n",
       "  </tbody>\n",
       "</table>\n",
       "</div>"
      ],
      "text/plain": [
       "  Country/Region     Cases  Deaths    PCases  PDeaths  Cases (+)  Deaths (+)  \\\n",
       "0             US  11715316  252535  11527483   250520     187833        2015   \n",
       "1          India   9004365  132162   8958483   131578      45882         584   \n",
       "2         Brazil   5981767  168061   5945849   167455      35918         606   \n",
       "3         France   2137096   47201   2115717    46772      21379         429   \n",
       "4         Russia   1998966   34525   1975629    34068      23337         457   \n",
       "\n",
       "   Fatality Rate      Continent  \n",
       "0            2.2  North America  \n",
       "1            1.5           Asia  \n",
       "2            2.8  South America  \n",
       "3            2.2         Europe  \n",
       "4            1.7         Europe  "
      ]
     },
     "execution_count": 15,
     "metadata": {},
     "output_type": "execute_result"
    }
   ],
   "source": [
    "#hide\n",
    "df_table = (pd.DataFrame(dict(Cases=dfc_cases, Deaths=dfc_deaths, PCases=dfp_cases, PDeaths=dfp_deaths))\n",
    "             .sort_values(by=['Cases', 'Deaths'], ascending=[False, False])\n",
    "             .reset_index())\n",
    "df_table.rename(columns={'index': 'Country/Region'}, inplace=True)\n",
    "for c in 'Cases, Deaths'.split(', '):\n",
    "    df_table[f'{c} (+)'] = (df_table[c] - df_table[f'P{c}']).clip(0)  # DATA BUG\n",
    "df_table['Fatality Rate'] = (100 * df_table['Deaths'] / df_table['Cases']).round(1)\n",
    "df_table['Continent'] = df_table['Country/Region'].map(mapping['map.continent'])\n",
    "df_table.head(5)"
   ]
  },
  {
   "cell_type": "code",
   "execution_count": 16,
   "metadata": {
    "execution": {
     "iopub.execute_input": "2020-11-20T12:06:32.128278Z",
     "iopub.status.busy": "2020-11-20T12:06:32.127683Z",
     "iopub.status.idle": "2020-11-20T12:06:32.129858Z",
     "shell.execute_reply": "2020-11-20T12:06:32.129290Z"
    },
    "papermill": {
     "duration": 0.038552,
     "end_time": "2020-11-20T12:06:32.129983",
     "exception": false,
     "start_time": "2020-11-20T12:06:32.091431",
     "status": "completed"
    },
    "tags": []
   },
   "outputs": [],
   "source": [
    "#hide\n",
    "#delete problematic countries from table\n",
    "df_table = df_table[~df_table['Country/Region'].isin(['Cape Verde', 'Cruise Ship', 'Kosovo'])]"
   ]
  },
  {
   "cell_type": "code",
   "execution_count": 17,
   "metadata": {
    "execution": {
     "iopub.execute_input": "2020-11-20T12:06:32.210969Z",
     "iopub.status.busy": "2020-11-20T12:06:32.210311Z",
     "iopub.status.idle": "2020-11-20T12:06:32.212968Z",
     "shell.execute_reply": "2020-11-20T12:06:32.212466Z"
    },
    "papermill": {
     "duration": 0.052649,
     "end_time": "2020-11-20T12:06:32.213101",
     "exception": false,
     "start_time": "2020-11-20T12:06:32.160452",
     "status": "completed"
    },
    "tags": []
   },
   "outputs": [],
   "source": [
    "#hide\n",
    "metrics = [df_table.columns[index] for index in [1,2,5,6]]\n",
    "# s_china = df_table[df_table['Country/Region'].eq('China')][metrics].sum().add_prefix('China ')\n",
    "s_us = df_table[df_table['Country/Region'].eq('US')][metrics].sum().add_prefix('US ')\n",
    "s_eu = df_table[df_table['Continent'].eq('Europe')][metrics].sum().add_prefix('EU ')\n",
    "s_ind = df_table[df_table['Country/Region'].eq('India')][metrics].sum().add_prefix('India ')\n",
    "summary = {'updated': pd.to_datetime(dt_today), 'since': pd.to_datetime(dt_yday)}\n",
    "summary = {'updated': pd.to_datetime(dt_today), 'since': pd.to_datetime(dt_yday)}\n",
    "summary = {**summary, **df_table[metrics].sum(), **s_ind, **s_us, **s_eu}"
   ]
  },
  {
   "cell_type": "code",
   "execution_count": 18,
   "metadata": {
    "execution": {
     "iopub.execute_input": "2020-11-20T12:06:32.282220Z",
     "iopub.status.busy": "2020-11-20T12:06:32.281634Z",
     "iopub.status.idle": "2020-11-20T12:06:32.290109Z",
     "shell.execute_reply": "2020-11-20T12:06:32.289609Z"
    },
    "papermill": {
     "duration": 0.046255,
     "end_time": "2020-11-20T12:06:32.290238",
     "exception": false,
     "start_time": "2020-11-20T12:06:32.243983",
     "status": "completed"
    },
    "tags": []
   },
   "outputs": [],
   "source": [
    "#hide\n",
    "dft_ct_new_cases = dft_cases.groupby(COL_REGION)[dt_cols].sum().diff(axis=1).fillna(0).astype(int)"
   ]
  },
  {
   "cell_type": "code",
   "execution_count": 19,
   "metadata": {
    "execution": {
     "iopub.execute_input": "2020-11-20T12:06:32.361618Z",
     "iopub.status.busy": "2020-11-20T12:06:32.361032Z",
     "iopub.status.idle": "2020-11-20T12:06:32.365778Z",
     "shell.execute_reply": "2020-11-20T12:06:32.365278Z"
    },
    "papermill": {
     "duration": 0.045121,
     "end_time": "2020-11-20T12:06:32.365907",
     "exception": false,
     "start_time": "2020-11-20T12:06:32.320786",
     "status": "completed"
    },
    "tags": []
   },
   "outputs": [],
   "source": [
    "#hide\n",
    "everydaycases = dft_ct_new_cases.cumsum(axis=1)"
   ]
  },
  {
   "cell_type": "code",
   "execution_count": 20,
   "metadata": {
    "execution": {
     "iopub.execute_input": "2020-11-20T12:06:32.432200Z",
     "iopub.status.busy": "2020-11-20T12:06:32.431618Z",
     "iopub.status.idle": "2020-11-20T12:06:33.810787Z",
     "shell.execute_reply": "2020-11-20T12:06:33.810174Z"
    },
    "papermill": {
     "duration": 1.414278,
     "end_time": "2020-11-20T12:06:33.810930",
     "exception": false,
     "start_time": "2020-11-20T12:06:32.396652",
     "status": "completed"
    },
    "tags": []
   },
   "outputs": [],
   "source": [
    "#hide\n",
    "import pandas as pd\n",
    "import matplotlib.pyplot as plt\n",
    "import matplotlib.ticker as ticker\n",
    "import matplotlib.animation as animation\n",
    "from IPython.display import HTML"
   ]
  },
  {
   "cell_type": "code",
   "execution_count": 21,
   "metadata": {
    "execution": {
     "iopub.execute_input": "2020-11-20T12:06:33.879597Z",
     "iopub.status.busy": "2020-11-20T12:06:33.879012Z",
     "iopub.status.idle": "2020-11-20T12:06:33.884792Z",
     "shell.execute_reply": "2020-11-20T12:06:33.885235Z"
    },
    "papermill": {
     "duration": 0.043748,
     "end_time": "2020-11-20T12:06:33.885383",
     "exception": false,
     "start_time": "2020-11-20T12:06:33.841635",
     "status": "completed"
    },
    "tags": []
   },
   "outputs": [],
   "source": [
    "#hide\n",
    "t = everydaycases.stack()"
   ]
  },
  {
   "cell_type": "code",
   "execution_count": 22,
   "metadata": {
    "execution": {
     "iopub.execute_input": "2020-11-20T12:06:33.950642Z",
     "iopub.status.busy": "2020-11-20T12:06:33.950031Z",
     "iopub.status.idle": "2020-11-20T12:06:33.956971Z",
     "shell.execute_reply": "2020-11-20T12:06:33.956497Z"
    },
    "papermill": {
     "duration": 0.04135,
     "end_time": "2020-11-20T12:06:33.957100",
     "exception": false,
     "start_time": "2020-11-20T12:06:33.915750",
     "status": "completed"
    },
    "tags": []
   },
   "outputs": [],
   "source": [
    "#hide\n",
    "g = t.reset_index(['Country/Region'])"
   ]
  },
  {
   "cell_type": "code",
   "execution_count": 23,
   "metadata": {
    "execution": {
     "iopub.execute_input": "2020-11-20T12:06:34.021842Z",
     "iopub.status.busy": "2020-11-20T12:06:34.021263Z",
     "iopub.status.idle": "2020-11-20T12:06:34.023618Z",
     "shell.execute_reply": "2020-11-20T12:06:34.023120Z"
    },
    "papermill": {
     "duration": 0.036279,
     "end_time": "2020-11-20T12:06:34.023738",
     "exception": false,
     "start_time": "2020-11-20T12:06:33.987459",
     "status": "completed"
    },
    "tags": []
   },
   "outputs": [],
   "source": [
    "#hide\n",
    "g.index.name = 'date'"
   ]
  },
  {
   "cell_type": "code",
   "execution_count": 24,
   "metadata": {
    "execution": {
     "iopub.execute_input": "2020-11-20T12:06:34.089073Z",
     "iopub.status.busy": "2020-11-20T12:06:34.088492Z",
     "iopub.status.idle": "2020-11-20T12:06:34.090627Z",
     "shell.execute_reply": "2020-11-20T12:06:34.091197Z"
    },
    "papermill": {
     "duration": 0.037014,
     "end_time": "2020-11-20T12:06:34.091342",
     "exception": false,
     "start_time": "2020-11-20T12:06:34.054328",
     "status": "completed"
    },
    "tags": []
   },
   "outputs": [],
   "source": [
    "# #hide\n",
    "# g = g.reset_index(['date'])"
   ]
  },
  {
   "cell_type": "code",
   "execution_count": 25,
   "metadata": {
    "execution": {
     "iopub.execute_input": "2020-11-20T12:06:34.156653Z",
     "iopub.status.busy": "2020-11-20T12:06:34.156061Z",
     "iopub.status.idle": "2020-11-20T12:06:34.158321Z",
     "shell.execute_reply": "2020-11-20T12:06:34.157830Z"
    },
    "papermill": {
     "duration": 0.036696,
     "end_time": "2020-11-20T12:06:34.158477",
     "exception": false,
     "start_time": "2020-11-20T12:06:34.121781",
     "status": "completed"
    },
    "tags": []
   },
   "outputs": [],
   "source": [
    "#hide\n",
    "# g.head()"
   ]
  },
  {
   "cell_type": "code",
   "execution_count": 26,
   "metadata": {
    "execution": {
     "iopub.execute_input": "2020-11-20T12:06:34.223748Z",
     "iopub.status.busy": "2020-11-20T12:06:34.223164Z",
     "iopub.status.idle": "2020-11-20T12:06:34.226025Z",
     "shell.execute_reply": "2020-11-20T12:06:34.225557Z"
    },
    "papermill": {
     "duration": 0.037066,
     "end_time": "2020-11-20T12:06:34.226152",
     "exception": false,
     "start_time": "2020-11-20T12:06:34.189086",
     "status": "completed"
    },
    "tags": []
   },
   "outputs": [],
   "source": [
    "#hide\n",
    "# g.columns = ['date','country','cases']"
   ]
  },
  {
   "cell_type": "code",
   "execution_count": 27,
   "metadata": {
    "execution": {
     "iopub.execute_input": "2020-11-20T12:06:34.291228Z",
     "iopub.status.busy": "2020-11-20T12:06:34.290626Z",
     "iopub.status.idle": "2020-11-20T12:06:34.292851Z",
     "shell.execute_reply": "2020-11-20T12:06:34.292355Z"
    },
    "papermill": {
     "duration": 0.036373,
     "end_time": "2020-11-20T12:06:34.292979",
     "exception": false,
     "start_time": "2020-11-20T12:06:34.256606",
     "status": "completed"
    },
    "tags": []
   },
   "outputs": [],
   "source": [
    "#hide\n",
    "# g['continent'] = g.country"
   ]
  },
  {
   "cell_type": "code",
   "execution_count": 28,
   "metadata": {
    "execution": {
     "iopub.execute_input": "2020-11-20T12:06:34.358694Z",
     "iopub.status.busy": "2020-11-20T12:06:34.358085Z",
     "iopub.status.idle": "2020-11-20T12:06:34.360548Z",
     "shell.execute_reply": "2020-11-20T12:06:34.361103Z"
    },
    "papermill": {
     "duration": 0.037712,
     "end_time": "2020-11-20T12:06:34.361245",
     "exception": false,
     "start_time": "2020-11-20T12:06:34.323533",
     "status": "completed"
    },
    "tags": []
   },
   "outputs": [],
   "source": [
    "#hide\n",
    "# cols = list(g.columns.values)"
   ]
  },
  {
   "cell_type": "code",
   "execution_count": 29,
   "metadata": {
    "execution": {
     "iopub.execute_input": "2020-11-20T12:06:34.426678Z",
     "iopub.status.busy": "2020-11-20T12:06:34.426058Z",
     "iopub.status.idle": "2020-11-20T12:06:34.428379Z",
     "shell.execute_reply": "2020-11-20T12:06:34.427886Z"
    },
    "papermill": {
     "duration": 0.036511,
     "end_time": "2020-11-20T12:06:34.428506",
     "exception": false,
     "start_time": "2020-11-20T12:06:34.391995",
     "status": "completed"
    },
    "tags": []
   },
   "outputs": [],
   "source": [
    "#hide\n",
    "# cols.insert(0, cols.pop())"
   ]
  },
  {
   "cell_type": "code",
   "execution_count": 30,
   "metadata": {
    "execution": {
     "iopub.execute_input": "2020-11-20T12:06:34.494302Z",
     "iopub.status.busy": "2020-11-20T12:06:34.493710Z",
     "iopub.status.idle": "2020-11-20T12:06:34.495453Z",
     "shell.execute_reply": "2020-11-20T12:06:34.495925Z"
    },
    "papermill": {
     "duration": 0.036812,
     "end_time": "2020-11-20T12:06:34.496070",
     "exception": false,
     "start_time": "2020-11-20T12:06:34.459258",
     "status": "completed"
    },
    "tags": []
   },
   "outputs": [],
   "source": [
    "#hide\n",
    "# g = g[cols]"
   ]
  },
  {
   "cell_type": "code",
   "execution_count": 31,
   "metadata": {
    "execution": {
     "iopub.execute_input": "2020-11-20T12:06:34.561436Z",
     "iopub.status.busy": "2020-11-20T12:06:34.560859Z",
     "iopub.status.idle": "2020-11-20T12:06:34.563637Z",
     "shell.execute_reply": "2020-11-20T12:06:34.563137Z"
    },
    "papermill": {
     "duration": 0.037285,
     "end_time": "2020-11-20T12:06:34.563772",
     "exception": false,
     "start_time": "2020-11-20T12:06:34.526487",
     "status": "completed"
    },
    "tags": []
   },
   "outputs": [],
   "source": [
    "#hide\n",
    "# g['continent'] = g['continent'].map(mapping['map.continent'])"
   ]
  },
  {
   "cell_type": "code",
   "execution_count": 32,
   "metadata": {
    "execution": {
     "iopub.execute_input": "2020-11-20T12:06:34.629673Z",
     "iopub.status.busy": "2020-11-20T12:06:34.629091Z",
     "iopub.status.idle": "2020-11-20T12:06:34.631279Z",
     "shell.execute_reply": "2020-11-20T12:06:34.631827Z"
    },
    "papermill": {
     "duration": 0.037695,
     "end_time": "2020-11-20T12:06:34.631970",
     "exception": false,
     "start_time": "2020-11-20T12:06:34.594275",
     "status": "completed"
    },
    "tags": []
   },
   "outputs": [],
   "source": [
    "#hide\n",
    "# g.head()"
   ]
  },
  {
   "cell_type": "code",
   "execution_count": 33,
   "metadata": {
    "execution": {
     "iopub.execute_input": "2020-11-20T12:06:34.697713Z",
     "iopub.status.busy": "2020-11-20T12:06:34.697133Z",
     "iopub.status.idle": "2020-11-20T12:06:34.699976Z",
     "shell.execute_reply": "2020-11-20T12:06:34.700547Z"
    },
    "papermill": {
     "duration": 0.038424,
     "end_time": "2020-11-20T12:06:34.700684",
     "exception": false,
     "start_time": "2020-11-20T12:06:34.662260",
     "status": "completed"
    },
    "tags": []
   },
   "outputs": [],
   "source": [
    "# hide\n",
    "# g['date'] = g['date'].astype('datetime64[ns]')"
   ]
  },
  {
   "cell_type": "code",
   "execution_count": 34,
   "metadata": {
    "execution": {
     "iopub.execute_input": "2020-11-20T12:06:34.765847Z",
     "iopub.status.busy": "2020-11-20T12:06:34.765262Z",
     "iopub.status.idle": "2020-11-20T12:06:34.766998Z",
     "shell.execute_reply": "2020-11-20T12:06:34.767551Z"
    },
    "papermill": {
     "duration": 0.036489,
     "end_time": "2020-11-20T12:06:34.767692",
     "exception": false,
     "start_time": "2020-11-20T12:06:34.731203",
     "status": "completed"
    },
    "tags": []
   },
   "outputs": [],
   "source": [
    "#hide\n",
    "# g['date'] = g.date.dt.dayofyear"
   ]
  },
  {
   "cell_type": "code",
   "execution_count": 35,
   "metadata": {
    "execution": {
     "iopub.execute_input": "2020-11-20T12:06:34.833534Z",
     "iopub.status.busy": "2020-11-20T12:06:34.832953Z",
     "iopub.status.idle": "2020-11-20T12:06:34.836000Z",
     "shell.execute_reply": "2020-11-20T12:06:34.836559Z"
    },
    "papermill": {
     "duration": 0.038604,
     "end_time": "2020-11-20T12:06:34.836701",
     "exception": false,
     "start_time": "2020-11-20T12:06:34.798097",
     "status": "completed"
    },
    "tags": []
   },
   "outputs": [],
   "source": [
    "#hide\n",
    "# g = g.rename(columns= {'continent':'group','country':'name','cases':'value'})"
   ]
  },
  {
   "cell_type": "code",
   "execution_count": 36,
   "metadata": {
    "execution": {
     "iopub.execute_input": "2020-11-20T12:06:34.901891Z",
     "iopub.status.busy": "2020-11-20T12:06:34.901305Z",
     "iopub.status.idle": "2020-11-20T12:06:34.903515Z",
     "shell.execute_reply": "2020-11-20T12:06:34.902945Z"
    },
    "papermill": {
     "duration": 0.03621,
     "end_time": "2020-11-20T12:06:34.903640",
     "exception": false,
     "start_time": "2020-11-20T12:06:34.867430",
     "status": "completed"
    },
    "tags": []
   },
   "outputs": [],
   "source": [
    "#hide\n",
    "# cols = ['name','group','day','value']"
   ]
  },
  {
   "cell_type": "code",
   "execution_count": 37,
   "metadata": {
    "execution": {
     "iopub.execute_input": "2020-11-20T12:06:34.969970Z",
     "iopub.status.busy": "2020-11-20T12:06:34.969365Z",
     "iopub.status.idle": "2020-11-20T12:06:34.972309Z",
     "shell.execute_reply": "2020-11-20T12:06:34.971807Z"
    },
    "papermill": {
     "duration": 0.038156,
     "end_time": "2020-11-20T12:06:34.972440",
     "exception": false,
     "start_time": "2020-11-20T12:06:34.934284",
     "status": "completed"
    },
    "tags": []
   },
   "outputs": [],
   "source": [
    "#hide\n",
    "# g.rename(columns= {'date':'day'},inplace = True)"
   ]
  },
  {
   "cell_type": "code",
   "execution_count": 38,
   "metadata": {
    "execution": {
     "iopub.execute_input": "2020-11-20T12:06:35.037831Z",
     "iopub.status.busy": "2020-11-20T12:06:35.037249Z",
     "iopub.status.idle": "2020-11-20T12:06:35.039990Z",
     "shell.execute_reply": "2020-11-20T12:06:35.039520Z"
    },
    "papermill": {
     "duration": 0.036993,
     "end_time": "2020-11-20T12:06:35.040121",
     "exception": false,
     "start_time": "2020-11-20T12:06:35.003128",
     "status": "completed"
    },
    "tags": []
   },
   "outputs": [],
   "source": [
    "#hide\n",
    "# g = g[cols]"
   ]
  },
  {
   "cell_type": "code",
   "execution_count": 39,
   "metadata": {
    "execution": {
     "iopub.execute_input": "2020-11-20T12:06:35.105554Z",
     "iopub.status.busy": "2020-11-20T12:06:35.104966Z",
     "iopub.status.idle": "2020-11-20T12:06:35.107261Z",
     "shell.execute_reply": "2020-11-20T12:06:35.106764Z"
    },
    "papermill": {
     "duration": 0.03643,
     "end_time": "2020-11-20T12:06:35.107387",
     "exception": false,
     "start_time": "2020-11-20T12:06:35.070957",
     "status": "completed"
    },
    "tags": []
   },
   "outputs": [],
   "source": [
    "# #hide\n",
    "# g = g[g.group.notna()]"
   ]
  },
  {
   "cell_type": "code",
   "execution_count": 40,
   "metadata": {
    "execution": {
     "iopub.execute_input": "2020-11-20T12:06:35.172097Z",
     "iopub.status.busy": "2020-11-20T12:06:35.171505Z",
     "iopub.status.idle": "2020-11-20T12:06:35.173413Z",
     "shell.execute_reply": "2020-11-20T12:06:35.173880Z"
    },
    "papermill": {
     "duration": 0.036154,
     "end_time": "2020-11-20T12:06:35.174019",
     "exception": false,
     "start_time": "2020-11-20T12:06:35.137865",
     "status": "completed"
    },
    "tags": []
   },
   "outputs": [],
   "source": [
    "# #hide\n",
    "# colors = dict(zip(\n",
    "#     [\"Oceania\", \"Europe\", \"Asia\", \"South America\", \"Middle East\", \"North America\", \"Africa\"],\n",
    "#     [\"#adb0ff\", \"#ffb3ff\", \"#90d595\", \"#e48381\", \"#aafbff\", \"#f7bb5f\", \"#eafb50\"]\n",
    "# ))\n",
    "# group_lk = g.set_index('name')['group'].to_dict()"
   ]
  },
  {
   "cell_type": "code",
   "execution_count": null,
   "metadata": {
    "papermill": {
     "duration": 0.030454,
     "end_time": "2020-11-20T12:06:35.235005",
     "exception": false,
     "start_time": "2020-11-20T12:06:35.204551",
     "status": "completed"
    },
    "tags": []
   },
   "outputs": [],
   "source": []
  },
  {
   "cell_type": "code",
   "execution_count": 41,
   "metadata": {
    "execution": {
     "iopub.execute_input": "2020-11-20T12:06:35.302336Z",
     "iopub.status.busy": "2020-11-20T12:06:35.301732Z",
     "iopub.status.idle": "2020-11-20T12:06:35.304377Z",
     "shell.execute_reply": "2020-11-20T12:06:35.304876Z"
    },
    "papermill": {
     "duration": 0.039514,
     "end_time": "2020-11-20T12:06:35.305022",
     "exception": false,
     "start_time": "2020-11-20T12:06:35.265508",
     "status": "completed"
    },
    "tags": []
   },
   "outputs": [],
   "source": [
    "# #hide\n",
    "# fig, ax = plt.subplots(figsize=(15, 8))\n",
    "\n",
    "# def draw_barchart(current_day):\n",
    "#     dff = g[g['day'].eq(current_day)].sort_values(by='value', ascending=True).tail(10)\n",
    "#     ax.clear()\n",
    "#     ax.barh(dff['name'], dff['value'], color=[colors[group_lk[x]] for x in dff['name']])\n",
    "#     dx = dff['value'].max() / 200\n",
    "    \n",
    "#     for i, (value, name) in enumerate(zip(dff['value'], dff['name'])):\n",
    "#         ax.text(value-dx, i,     name,           size=14, weight=600, ha='right', va='bottom')\n",
    "#         ax.text(value-dx, i-.25, group_lk[name], size=10, color='#444444', ha='right', va='baseline')\n",
    "#         ax.text(value+dx, i,     f'{value:,.0f}',  size=14, ha='left',  va='center')\n",
    "#     ax.text(1, 0.4, current_day, transform=ax.transAxes, color='#777777', size=46, ha='right', weight=800)\n",
    "#     ax.text(0, 1.06, 'Population (thousands)', transform=ax.transAxes, size=12, color='#777777')\n",
    "#     ax.xaxis.set_major_formatter(ticker.StrMethodFormatter('{x:,.0f}'))\n",
    "#     ax.xaxis.set_ticks_position('top')\n",
    "#     ax.tick_params(axis='x', colors='#777777', labelsize=12)\n",
    "#     ax.set_yticks([])\n",
    "#     ax.margins(0, 0.01)\n",
    "#     ax.grid(which='major', axis='x', linestyle='-')\n",
    "#     ax.set_axisbelow(True)\n",
    "    \n",
    "#     ax.text(0, 1.15, 'Coronavirus',\n",
    "#             transform=ax.transAxes, size=24, weight=600, ha='left', va='top')\n",
    "# #     ax.text(1, 0, 'by @pratapvardhan; credit @jburnmurdoch', transform=ax.transAxes, color='#777777', ha='right',\n",
    "# #             bbox=dict(facecolor='white', alpha=0.8, edgecolor='white'))\n",
    "#     plt.box(False)"
   ]
  },
  {
   "cell_type": "code",
   "execution_count": 42,
   "metadata": {
    "execution": {
     "iopub.execute_input": "2020-11-20T12:06:35.369716Z",
     "iopub.status.busy": "2020-11-20T12:06:35.369130Z",
     "iopub.status.idle": "2020-11-20T12:06:35.371659Z",
     "shell.execute_reply": "2020-11-20T12:06:35.371198Z"
    },
    "papermill": {
     "duration": 0.036386,
     "end_time": "2020-11-20T12:06:35.371797",
     "exception": false,
     "start_time": "2020-11-20T12:06:35.335411",
     "status": "completed"
    },
    "tags": []
   },
   "outputs": [],
   "source": [
    "# #hide_input\n",
    "# fig, ax = plt.subplots(figsize=(15, 8))\n",
    "# animator = animation.FuncAnimation(fig, draw_barchart, frames=range(g.day.values.min(), g.day.values.max()))\n",
    "# HTML(animator.to_jshtml())\n",
    "# # or use animator.to_html5_video() or animator.save() "
   ]
  },
  {
   "cell_type": "code",
   "execution_count": null,
   "metadata": {
    "papermill": {
     "duration": 0.031026,
     "end_time": "2020-11-20T12:06:35.433418",
     "exception": false,
     "start_time": "2020-11-20T12:06:35.402392",
     "status": "completed"
    },
    "tags": []
   },
   "outputs": [],
   "source": []
  },
  {
   "cell_type": "code",
   "execution_count": null,
   "metadata": {
    "papermill": {
     "duration": 0.030465,
     "end_time": "2020-11-20T12:06:35.494284",
     "exception": false,
     "start_time": "2020-11-20T12:06:35.463819",
     "status": "completed"
    },
    "tags": []
   },
   "outputs": [],
   "source": []
  },
  {
   "cell_type": "code",
   "execution_count": null,
   "metadata": {
    "papermill": {
     "duration": 0.030546,
     "end_time": "2020-11-20T12:06:35.555533",
     "exception": false,
     "start_time": "2020-11-20T12:06:35.524987",
     "status": "completed"
    },
    "tags": []
   },
   "outputs": [],
   "source": []
  }
 ],
 "metadata": {
  "kernelspec": {
   "display_name": "Python 3",
   "language": "python",
   "name": "python3"
  },
  "language_info": {
   "codemirror_mode": {
    "name": "ipython",
    "version": 3
   },
   "file_extension": ".py",
   "mimetype": "text/x-python",
   "name": "python",
   "nbconvert_exporter": "python",
   "pygments_lexer": "ipython3",
   "version": "3.6.12"
  },
  "papermill": {
   "duration": 6.835381,
   "end_time": "2020-11-20T12:06:35.894240",
   "environment_variables": {},
   "exception": null,
   "input_path": "2020-03-21-covid19exp.ipynb",
   "output_path": "2020-03-21-covid19exp.ipynb",
   "parameters": {},
   "start_time": "2020-11-20T12:06:29.058859",
   "version": "2.0.0"
  }
 },
 "nbformat": 4,
 "nbformat_minor": 4
}