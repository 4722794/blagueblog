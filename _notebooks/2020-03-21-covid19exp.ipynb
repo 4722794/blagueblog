{
 "cells": [
  {
   "cell_type": "markdown",
   "id": "muslim-click",
   "metadata": {
    "papermill": {
     "duration": 0.044137,
     "end_time": "2022-04-16T12:14:49.206419",
     "exception": false,
     "start_time": "2022-04-16T12:14:49.162282",
     "status": "completed"
    },
    "tags": []
   },
   "source": [
    "# COVID-19 Case Race\n",
    "> A race chart to see rising cases around the world\n",
    "\n",
    "- author: Hargun Oberoi\n",
    "- image: images/covid-overview.png\n",
    "- hide: false\n",
    "- badges: false"
   ]
  },
  {
   "cell_type": "code",
   "execution_count": 1,
   "id": "proof-material",
   "metadata": {
    "execution": {
     "iopub.execute_input": "2022-04-16T12:14:49.298440Z",
     "iopub.status.busy": "2022-04-16T12:14:49.297710Z",
     "iopub.status.idle": "2022-04-16T12:14:49.713569Z",
     "shell.execute_reply": "2022-04-16T12:14:49.712962Z"
    },
    "papermill": {
     "duration": 0.466399,
     "end_time": "2022-04-16T12:14:49.713744",
     "exception": false,
     "start_time": "2022-04-16T12:14:49.247345",
     "status": "completed"
    },
    "tags": []
   },
   "outputs": [],
   "source": [
    "#hide\n",
    "import numpy as np\n",
    "import pandas as pd\n",
    "from jinja2 import Template\n",
    "from IPython.display import HTML"
   ]
  },
  {
   "cell_type": "code",
   "execution_count": 2,
   "id": "developed-terminology",
   "metadata": {
    "execution": {
     "iopub.execute_input": "2022-04-16T12:14:49.802541Z",
     "iopub.status.busy": "2022-04-16T12:14:49.801851Z",
     "iopub.status.idle": "2022-04-16T12:14:49.809217Z",
     "shell.execute_reply": "2022-04-16T12:14:49.808638Z"
    },
    "papermill": {
     "duration": 0.051226,
     "end_time": "2022-04-16T12:14:49.809356",
     "exception": false,
     "start_time": "2022-04-16T12:14:49.758130",
     "status": "completed"
    },
    "tags": []
   },
   "outputs": [],
   "source": [
    "#hide\n",
    "\n",
    "# FETCH\n",
    "base_url = 'https://raw.githubusercontent.com/pratapvardhan/notebooks/master/covid19/'\n",
    "paths = {\n",
    "    'mapping': base_url + 'mapping_countries.csv',\n",
    "    'overview': base_url + 'overview.tpl'\n",
    "}"
   ]
  },
  {
   "cell_type": "code",
   "execution_count": 3,
   "id": "dynamic-saver",
   "metadata": {
    "execution": {
     "iopub.execute_input": "2022-04-16T12:14:49.903920Z",
     "iopub.status.busy": "2022-04-16T12:14:49.903247Z",
     "iopub.status.idle": "2022-04-16T12:14:49.906104Z",
     "shell.execute_reply": "2022-04-16T12:14:49.906727Z"
    },
    "papermill": {
     "duration": 0.05744,
     "end_time": "2022-04-16T12:14:49.906880",
     "exception": false,
     "start_time": "2022-04-16T12:14:49.849440",
     "status": "completed"
    },
    "tags": []
   },
   "outputs": [
    {
     "data": {
      "text/plain": [
       "'https://raw.githubusercontent.com/pratapvardhan/notebooks/master/covid19/mapping_countries.csv'"
      ]
     },
     "execution_count": 3,
     "metadata": {},
     "output_type": "execute_result"
    }
   ],
   "source": [
    "#hide\n",
    "paths['mapping']"
   ]
  },
  {
   "cell_type": "code",
   "execution_count": 4,
   "id": "urban-software",
   "metadata": {
    "execution": {
     "iopub.execute_input": "2022-04-16T12:14:49.991938Z",
     "iopub.status.busy": "2022-04-16T12:14:49.991156Z",
     "iopub.status.idle": "2022-04-16T12:14:49.994063Z",
     "shell.execute_reply": "2022-04-16T12:14:49.993492Z"
    },
    "papermill": {
     "duration": 0.049286,
     "end_time": "2022-04-16T12:14:49.994201",
     "exception": false,
     "start_time": "2022-04-16T12:14:49.944915",
     "status": "completed"
    },
    "tags": []
   },
   "outputs": [],
   "source": [
    "#hide\n",
    "def get_mappings(url):\n",
    "    df = pd.read_csv(url)\n",
    "    return {\n",
    "        'df': df,\n",
    "        'replace.country': dict(df.dropna(subset=['Name']).set_index('Country')['Name']),\n",
    "        'map.continent': dict(df.set_index('Name')['Continent'])\n",
    "    }"
   ]
  },
  {
   "cell_type": "code",
   "execution_count": 5,
   "id": "intimate-machinery",
   "metadata": {
    "execution": {
     "iopub.execute_input": "2022-04-16T12:14:50.082093Z",
     "iopub.status.busy": "2022-04-16T12:14:50.081362Z",
     "iopub.status.idle": "2022-04-16T12:14:50.122512Z",
     "shell.execute_reply": "2022-04-16T12:14:50.121856Z"
    },
    "papermill": {
     "duration": 0.090632,
     "end_time": "2022-04-16T12:14:50.122671",
     "exception": false,
     "start_time": "2022-04-16T12:14:50.032039",
     "status": "completed"
    },
    "tags": []
   },
   "outputs": [],
   "source": [
    "#hide\n",
    "mapping = get_mappings(paths['mapping'])"
   ]
  },
  {
   "cell_type": "code",
   "execution_count": 6,
   "id": "certified-tactics",
   "metadata": {
    "execution": {
     "iopub.execute_input": "2022-04-16T12:14:50.207897Z",
     "iopub.status.busy": "2022-04-16T12:14:50.207212Z",
     "iopub.status.idle": "2022-04-16T12:14:50.209852Z",
     "shell.execute_reply": "2022-04-16T12:14:50.209286Z"
    },
    "papermill": {
     "duration": 0.049068,
     "end_time": "2022-04-16T12:14:50.210006",
     "exception": false,
     "start_time": "2022-04-16T12:14:50.160938",
     "status": "completed"
    },
    "tags": []
   },
   "outputs": [],
   "source": [
    "#hide\n",
    "def get_template(path):\n",
    "    from urllib.parse import urlparse\n",
    "    if bool(urlparse(path).netloc):\n",
    "        from urllib.request import urlopen\n",
    "        return urlopen(path).read().decode('utf8')\n",
    "    return open(path).read()"
   ]
  },
  {
   "cell_type": "code",
   "execution_count": 7,
   "id": "realistic-blast",
   "metadata": {
    "execution": {
     "iopub.execute_input": "2022-04-16T12:14:50.292416Z",
     "iopub.status.busy": "2022-04-16T12:14:50.291751Z",
     "iopub.status.idle": "2022-04-16T12:14:50.299786Z",
     "shell.execute_reply": "2022-04-16T12:14:50.299184Z"
    },
    "papermill": {
     "duration": 0.050204,
     "end_time": "2022-04-16T12:14:50.299934",
     "exception": false,
     "start_time": "2022-04-16T12:14:50.249730",
     "status": "completed"
    },
    "tags": []
   },
   "outputs": [],
   "source": [
    "#hide\n",
    "def get_frame(name):\n",
    "    url = (\n",
    "        'https://raw.githubusercontent.com/CSSEGISandData/COVID-19/master/csse_covid_19_data/'\n",
    "        f'csse_covid_19_time_series/time_series_covid19_{name}_global.csv')\n",
    "    df = pd.read_csv(url)\n",
    "    # rename countries\n",
    "    df['Country/Region'] = df['Country/Region'].replace(mapping['replace.country'])\n",
    "    return df"
   ]
  },
  {
   "cell_type": "code",
   "execution_count": 8,
   "id": "affiliated-characterization",
   "metadata": {
    "execution": {
     "iopub.execute_input": "2022-04-16T12:14:50.382976Z",
     "iopub.status.busy": "2022-04-16T12:14:50.382305Z",
     "iopub.status.idle": "2022-04-16T12:14:50.384983Z",
     "shell.execute_reply": "2022-04-16T12:14:50.385503Z"
    },
    "papermill": {
     "duration": 0.047767,
     "end_time": "2022-04-16T12:14:50.385662",
     "exception": false,
     "start_time": "2022-04-16T12:14:50.337895",
     "status": "completed"
    },
    "tags": []
   },
   "outputs": [],
   "source": [
    "#hide\n",
    "def get_dates(df):\n",
    "    dt_cols = df.columns[~df.columns.isin(['Province/State', 'Country/Region', 'Lat', 'Long'])]\n",
    "    LAST_DATE_I = -1\n",
    "    # sometimes last column may be empty, then go backwards\n",
    "    for i in range(-1, -len(dt_cols), -1):\n",
    "        if not df[dt_cols[i]].fillna(0).eq(0).all():\n",
    "            LAST_DATE_I = i\n",
    "            break\n",
    "    return LAST_DATE_I, dt_cols"
   ]
  },
  {
   "cell_type": "code",
   "execution_count": 9,
   "id": "recent-optimization",
   "metadata": {
    "execution": {
     "iopub.execute_input": "2022-04-16T12:14:50.470415Z",
     "iopub.status.busy": "2022-04-16T12:14:50.469311Z",
     "iopub.status.idle": "2022-04-16T12:14:50.976164Z",
     "shell.execute_reply": "2022-04-16T12:14:50.976735Z"
    },
    "papermill": {
     "duration": 0.550916,
     "end_time": "2022-04-16T12:14:50.976911",
     "exception": false,
     "start_time": "2022-04-16T12:14:50.425995",
     "status": "completed"
    },
    "tags": []
   },
   "outputs": [],
   "source": [
    "#hide\n",
    "COL_REGION = 'Country/Region'\n",
    "# Confirmed, Recovered, Deaths\n",
    "df = get_frame('confirmed')\n",
    "# dft_: timeseries, dfc_: today country agg\n",
    "dft_cases = df\n",
    "dft_deaths = get_frame('deaths')\n",
    "dft_recovered = get_frame('recovered')\n",
    "LAST_DATE_I, dt_cols = get_dates(df)"
   ]
  },
  {
   "cell_type": "code",
   "execution_count": 10,
   "id": "absolute-copper",
   "metadata": {
    "execution": {
     "iopub.execute_input": "2022-04-16T12:14:51.059803Z",
     "iopub.status.busy": "2022-04-16T12:14:51.059108Z",
     "iopub.status.idle": "2022-04-16T12:14:51.062776Z",
     "shell.execute_reply": "2022-04-16T12:14:51.062229Z"
    },
    "papermill": {
     "duration": 0.047073,
     "end_time": "2022-04-16T12:14:51.062919",
     "exception": false,
     "start_time": "2022-04-16T12:14:51.015846",
     "status": "completed"
    },
    "tags": []
   },
   "outputs": [],
   "source": [
    "#hide\n",
    "LAST_DATE_I, dt_cols = get_dates(df)\n",
    "dt_today =dt_cols[LAST_DATE_I]\n",
    "# dt_5day = dt_cols[LAST_DATE_I - 5]\n",
    "dt_yday = dt_cols[LAST_DATE_I - 1]"
   ]
  },
  {
   "cell_type": "code",
   "execution_count": 11,
   "id": "restricted-sheriff",
   "metadata": {
    "execution": {
     "iopub.execute_input": "2022-04-16T12:14:51.148553Z",
     "iopub.status.busy": "2022-04-16T12:14:51.147878Z",
     "iopub.status.idle": "2022-04-16T12:14:51.156115Z",
     "shell.execute_reply": "2022-04-16T12:14:51.156630Z"
    },
    "papermill": {
     "duration": 0.055515,
     "end_time": "2022-04-16T12:14:51.156793",
     "exception": false,
     "start_time": "2022-04-16T12:14:51.101278",
     "status": "completed"
    },
    "tags": []
   },
   "outputs": [],
   "source": [
    "#hide\n",
    "dfc_cases = dft_cases.groupby(COL_REGION)[dt_today].sum()\n",
    "dfc_deaths = dft_deaths.groupby(COL_REGION)[dt_today].sum()\n",
    "# dfp_cases = dft_cases.groupby(COL_REGION)[dt_5day].sum()\n",
    "# dfp_deaths = dft_deaths.groupby(COL_REGION)[dt_5day].sum()\n",
    "dfp_cases = dft_cases.groupby(COL_REGION)[dt_yday].sum()\n",
    "dfp_deaths = dft_deaths.groupby(COL_REGION)[dt_yday].sum()"
   ]
  },
  {
   "cell_type": "code",
   "execution_count": 12,
   "id": "deluxe-hepatitis",
   "metadata": {
    "execution": {
     "iopub.execute_input": "2022-04-16T12:14:51.260323Z",
     "iopub.status.busy": "2022-04-16T12:14:51.259336Z",
     "iopub.status.idle": "2022-04-16T12:14:51.265164Z",
     "shell.execute_reply": "2022-04-16T12:14:51.264347Z"
    },
    "papermill": {
     "duration": 0.05722,
     "end_time": "2022-04-16T12:14:51.265450",
     "exception": false,
     "start_time": "2022-04-16T12:14:51.208230",
     "status": "completed"
    },
    "tags": []
   },
   "outputs": [],
   "source": [
    "#hide\n",
    "df_table = (pd.DataFrame(dict(Cases = dfc_cases, Deaths = dfc_deaths, PCases = dfp_cases, PDeaths = dfp_deaths))\n",
    "            .sort_values(by = ['Cases','Deaths'], ascending = [False, False])\n",
    "            .reset_index())"
   ]
  },
  {
   "cell_type": "code",
   "execution_count": 13,
   "id": "educational-chancellor",
   "metadata": {
    "execution": {
     "iopub.execute_input": "2022-04-16T12:14:51.375658Z",
     "iopub.status.busy": "2022-04-16T12:14:51.370148Z",
     "iopub.status.idle": "2022-04-16T12:14:51.379006Z",
     "shell.execute_reply": "2022-04-16T12:14:51.379556Z"
    },
    "papermill": {
     "duration": 0.074808,
     "end_time": "2022-04-16T12:14:51.379715",
     "exception": false,
     "start_time": "2022-04-16T12:14:51.304907",
     "status": "completed"
    },
    "tags": []
   },
   "outputs": [
    {
     "data": {
      "text/html": [
       "<div>\n",
       "<style scoped>\n",
       "    .dataframe tbody tr th:only-of-type {\n",
       "        vertical-align: middle;\n",
       "    }\n",
       "\n",
       "    .dataframe tbody tr th {\n",
       "        vertical-align: top;\n",
       "    }\n",
       "\n",
       "    .dataframe thead th {\n",
       "        text-align: right;\n",
       "    }\n",
       "</style>\n",
       "<table border=\"1\" class=\"dataframe\">\n",
       "  <thead>\n",
       "    <tr style=\"text-align: right;\">\n",
       "      <th></th>\n",
       "      <th>Country/Region</th>\n",
       "      <th>Cases</th>\n",
       "      <th>Deaths</th>\n",
       "      <th>PCases</th>\n",
       "      <th>PDeaths</th>\n",
       "      <th>Cases (+)</th>\n",
       "      <th>Deaths (+)</th>\n",
       "      <th>Fatality Rate</th>\n",
       "      <th>Continent</th>\n",
       "    </tr>\n",
       "  </thead>\n",
       "  <tbody>\n",
       "    <tr>\n",
       "      <th>0</th>\n",
       "      <td>US</td>\n",
       "      <td>80612681</td>\n",
       "      <td>988558</td>\n",
       "      <td>80573532</td>\n",
       "      <td>988121</td>\n",
       "      <td>39149</td>\n",
       "      <td>437</td>\n",
       "      <td>1.23</td>\n",
       "      <td>North America</td>\n",
       "    </tr>\n",
       "    <tr>\n",
       "      <th>1</th>\n",
       "      <td>India</td>\n",
       "      <td>43040947</td>\n",
       "      <td>521747</td>\n",
       "      <td>43039972</td>\n",
       "      <td>521743</td>\n",
       "      <td>975</td>\n",
       "      <td>4</td>\n",
       "      <td>1.21</td>\n",
       "      <td>Asia</td>\n",
       "    </tr>\n",
       "    <tr>\n",
       "      <th>2</th>\n",
       "      <td>Brazil</td>\n",
       "      <td>30247302</td>\n",
       "      <td>662154</td>\n",
       "      <td>30234024</td>\n",
       "      <td>662043</td>\n",
       "      <td>13278</td>\n",
       "      <td>111</td>\n",
       "      <td>2.19</td>\n",
       "      <td>South America</td>\n",
       "    </tr>\n",
       "    <tr>\n",
       "      <th>3</th>\n",
       "      <td>France</td>\n",
       "      <td>27762686</td>\n",
       "      <td>145098</td>\n",
       "      <td>27637292</td>\n",
       "      <td>144947</td>\n",
       "      <td>125394</td>\n",
       "      <td>151</td>\n",
       "      <td>0.52</td>\n",
       "      <td>Europe</td>\n",
       "    </tr>\n",
       "    <tr>\n",
       "      <th>4</th>\n",
       "      <td>Germany</td>\n",
       "      <td>23376879</td>\n",
       "      <td>132929</td>\n",
       "      <td>23339311</td>\n",
       "      <td>132900</td>\n",
       "      <td>37568</td>\n",
       "      <td>29</td>\n",
       "      <td>0.57</td>\n",
       "      <td>Europe</td>\n",
       "    </tr>\n",
       "  </tbody>\n",
       "</table>\n",
       "</div>"
      ],
      "text/plain": [
       "  Country/Region     Cases  Deaths    PCases  PDeaths  Cases (+)  Deaths (+)  \\\n",
       "0             US  80612681  988558  80573532   988121      39149         437   \n",
       "1          India  43040947  521747  43039972   521743        975           4   \n",
       "2         Brazil  30247302  662154  30234024   662043      13278         111   \n",
       "3         France  27762686  145098  27637292   144947     125394         151   \n",
       "4        Germany  23376879  132929  23339311   132900      37568          29   \n",
       "\n",
       "   Fatality Rate      Continent  \n",
       "0           1.23  North America  \n",
       "1           1.21           Asia  \n",
       "2           2.19  South America  \n",
       "3           0.52         Europe  \n",
       "4           0.57         Europe  "
      ]
     },
     "execution_count": 13,
     "metadata": {},
     "output_type": "execute_result"
    }
   ],
   "source": [
    "#hide\n",
    "for c in 'Cases, Deaths'.split(', '):\n",
    "    df_table[f'{c} (+)'] = (df_table[c] - df_table[f'P{c}']).clip(0)\n",
    "    #Clip ça veut dire, les chiffres negatif sont interdit\n",
    "df_table['Fatality Rate'] = (100* df_table['Deaths']/ df_table['Cases']).round(2)\n",
    "df_table['Continent'] = df_table['Country/Region'].map(mapping['map.continent'])\n",
    "df_table.head(5)"
   ]
  },
  {
   "cell_type": "code",
   "execution_count": 14,
   "id": "aboriginal-bulgaria",
   "metadata": {
    "execution": {
     "iopub.execute_input": "2022-04-16T12:14:51.471291Z",
     "iopub.status.busy": "2022-04-16T12:14:51.470580Z",
     "iopub.status.idle": "2022-04-16T12:14:51.473578Z",
     "shell.execute_reply": "2022-04-16T12:14:51.472936Z"
    },
    "papermill": {
     "duration": 0.05509,
     "end_time": "2022-04-16T12:14:51.473720",
     "exception": false,
     "start_time": "2022-04-16T12:14:51.418630",
     "status": "completed"
    },
    "tags": []
   },
   "outputs": [],
   "source": [
    "#hide\n",
    "#delete problematic countries from table\n",
    "df_table = df_table[~df_table['Country/Region'].isin(['Cape Verde', 'Cruise Ship', 'Kosovo'])]"
   ]
  },
  {
   "cell_type": "code",
   "execution_count": 15,
   "id": "fantastic-effect",
   "metadata": {
    "execution": {
     "iopub.execute_input": "2022-04-16T12:14:51.568896Z",
     "iopub.status.busy": "2022-04-16T12:14:51.568212Z",
     "iopub.status.idle": "2022-04-16T12:14:51.597398Z",
     "shell.execute_reply": "2022-04-16T12:14:51.596822Z"
    },
    "papermill": {
     "duration": 0.084803,
     "end_time": "2022-04-16T12:14:51.597551",
     "exception": false,
     "start_time": "2022-04-16T12:14:51.512748",
     "status": "completed"
    },
    "tags": []
   },
   "outputs": [
    {
     "data": {
      "text/html": [
       "<div>\n",
       "<style scoped>\n",
       "    .dataframe tbody tr th:only-of-type {\n",
       "        vertical-align: middle;\n",
       "    }\n",
       "\n",
       "    .dataframe tbody tr th {\n",
       "        vertical-align: top;\n",
       "    }\n",
       "\n",
       "    .dataframe thead th {\n",
       "        text-align: right;\n",
       "    }\n",
       "</style>\n",
       "<table border=\"1\" class=\"dataframe\">\n",
       "  <thead>\n",
       "    <tr style=\"text-align: right;\">\n",
       "      <th></th>\n",
       "      <th>Country/Region</th>\n",
       "      <th>Cases</th>\n",
       "      <th>Deaths</th>\n",
       "      <th>PCases</th>\n",
       "      <th>PDeaths</th>\n",
       "      <th>Cases (+)</th>\n",
       "      <th>Deaths (+)</th>\n",
       "      <th>Fatality Rate</th>\n",
       "      <th>Continent</th>\n",
       "    </tr>\n",
       "  </thead>\n",
       "  <tbody>\n",
       "    <tr>\n",
       "      <th>0</th>\n",
       "      <td>US</td>\n",
       "      <td>80612681</td>\n",
       "      <td>988558</td>\n",
       "      <td>80573532</td>\n",
       "      <td>988121</td>\n",
       "      <td>39149</td>\n",
       "      <td>437</td>\n",
       "      <td>1.2</td>\n",
       "      <td>North America</td>\n",
       "    </tr>\n",
       "    <tr>\n",
       "      <th>1</th>\n",
       "      <td>India</td>\n",
       "      <td>43040947</td>\n",
       "      <td>521747</td>\n",
       "      <td>43039972</td>\n",
       "      <td>521743</td>\n",
       "      <td>975</td>\n",
       "      <td>4</td>\n",
       "      <td>1.2</td>\n",
       "      <td>Asia</td>\n",
       "    </tr>\n",
       "    <tr>\n",
       "      <th>2</th>\n",
       "      <td>Brazil</td>\n",
       "      <td>30247302</td>\n",
       "      <td>662154</td>\n",
       "      <td>30234024</td>\n",
       "      <td>662043</td>\n",
       "      <td>13278</td>\n",
       "      <td>111</td>\n",
       "      <td>2.2</td>\n",
       "      <td>South America</td>\n",
       "    </tr>\n",
       "    <tr>\n",
       "      <th>3</th>\n",
       "      <td>France</td>\n",
       "      <td>27762686</td>\n",
       "      <td>145098</td>\n",
       "      <td>27637292</td>\n",
       "      <td>144947</td>\n",
       "      <td>125394</td>\n",
       "      <td>151</td>\n",
       "      <td>0.5</td>\n",
       "      <td>Europe</td>\n",
       "    </tr>\n",
       "    <tr>\n",
       "      <th>4</th>\n",
       "      <td>Germany</td>\n",
       "      <td>23376879</td>\n",
       "      <td>132929</td>\n",
       "      <td>23339311</td>\n",
       "      <td>132900</td>\n",
       "      <td>37568</td>\n",
       "      <td>29</td>\n",
       "      <td>0.6</td>\n",
       "      <td>Europe</td>\n",
       "    </tr>\n",
       "  </tbody>\n",
       "</table>\n",
       "</div>"
      ],
      "text/plain": [
       "  Country/Region     Cases  Deaths    PCases  PDeaths  Cases (+)  Deaths (+)  \\\n",
       "0             US  80612681  988558  80573532   988121      39149         437   \n",
       "1          India  43040947  521747  43039972   521743        975           4   \n",
       "2         Brazil  30247302  662154  30234024   662043      13278         111   \n",
       "3         France  27762686  145098  27637292   144947     125394         151   \n",
       "4        Germany  23376879  132929  23339311   132900      37568          29   \n",
       "\n",
       "   Fatality Rate      Continent  \n",
       "0            1.2  North America  \n",
       "1            1.2           Asia  \n",
       "2            2.2  South America  \n",
       "3            0.5         Europe  \n",
       "4            0.6         Europe  "
      ]
     },
     "execution_count": 15,
     "metadata": {},
     "output_type": "execute_result"
    }
   ],
   "source": [
    "#hide\n",
    "df_table = (pd.DataFrame(dict(Cases=dfc_cases, Deaths=dfc_deaths, PCases=dfp_cases, PDeaths=dfp_deaths))\n",
    "             .sort_values(by=['Cases', 'Deaths'], ascending=[False, False])\n",
    "             .reset_index())\n",
    "df_table.rename(columns={'index': 'Country/Region'}, inplace=True)\n",
    "for c in 'Cases, Deaths'.split(', '):\n",
    "    df_table[f'{c} (+)'] = (df_table[c] - df_table[f'P{c}']).clip(0)  # DATA BUG\n",
    "df_table['Fatality Rate'] = (100 * df_table['Deaths'] / df_table['Cases']).round(1)\n",
    "df_table['Continent'] = df_table['Country/Region'].map(mapping['map.continent'])\n",
    "df_table.head(5)"
   ]
  },
  {
   "cell_type": "code",
   "execution_count": 16,
   "id": "fewer-occasion",
   "metadata": {
    "execution": {
     "iopub.execute_input": "2022-04-16T12:14:51.687913Z",
     "iopub.status.busy": "2022-04-16T12:14:51.687224Z",
     "iopub.status.idle": "2022-04-16T12:14:51.689718Z",
     "shell.execute_reply": "2022-04-16T12:14:51.689055Z"
    },
    "papermill": {
     "duration": 0.051476,
     "end_time": "2022-04-16T12:14:51.689856",
     "exception": false,
     "start_time": "2022-04-16T12:14:51.638380",
     "status": "completed"
    },
    "tags": []
   },
   "outputs": [],
   "source": [
    "#hide\n",
    "#delete problematic countries from table\n",
    "df_table = df_table[~df_table['Country/Region'].isin(['Cape Verde', 'Cruise Ship', 'Kosovo'])]"
   ]
  },
  {
   "cell_type": "code",
   "execution_count": 17,
   "id": "related-center",
   "metadata": {
    "execution": {
     "iopub.execute_input": "2022-04-16T12:14:51.805653Z",
     "iopub.status.busy": "2022-04-16T12:14:51.804944Z",
     "iopub.status.idle": "2022-04-16T12:14:51.807897Z",
     "shell.execute_reply": "2022-04-16T12:14:51.807226Z"
    },
    "papermill": {
     "duration": 0.073325,
     "end_time": "2022-04-16T12:14:51.808044",
     "exception": false,
     "start_time": "2022-04-16T12:14:51.734719",
     "status": "completed"
    },
    "tags": []
   },
   "outputs": [],
   "source": [
    "#hide\n",
    "metrics = [df_table.columns[index] for index in [1,2,5,6]]\n",
    "# s_china = df_table[df_table['Country/Region'].eq('China')][metrics].sum().add_prefix('China ')\n",
    "s_us = df_table[df_table['Country/Region'].eq('US')][metrics].sum().add_prefix('US ')\n",
    "s_eu = df_table[df_table['Continent'].eq('Europe')][metrics].sum().add_prefix('EU ')\n",
    "s_ind = df_table[df_table['Country/Region'].eq('India')][metrics].sum().add_prefix('India ')\n",
    "summary = {'updated': pd.to_datetime(dt_today), 'since': pd.to_datetime(dt_yday)}\n",
    "summary = {'updated': pd.to_datetime(dt_today), 'since': pd.to_datetime(dt_yday)}\n",
    "summary = {**summary, **df_table[metrics].sum(), **s_ind, **s_us, **s_eu}"
   ]
  },
  {
   "cell_type": "code",
   "execution_count": 18,
   "id": "engaging-syndrome",
   "metadata": {
    "execution": {
     "iopub.execute_input": "2022-04-16T12:14:51.899557Z",
     "iopub.status.busy": "2022-04-16T12:14:51.898852Z",
     "iopub.status.idle": "2022-04-16T12:14:51.919463Z",
     "shell.execute_reply": "2022-04-16T12:14:51.918860Z"
    },
    "papermill": {
     "duration": 0.066525,
     "end_time": "2022-04-16T12:14:51.919617",
     "exception": false,
     "start_time": "2022-04-16T12:14:51.853092",
     "status": "completed"
    },
    "tags": []
   },
   "outputs": [],
   "source": [
    "#hide\n",
    "dft_ct_new_cases = dft_cases.groupby(COL_REGION)[dt_cols].sum().diff(axis=1).fillna(0).astype(int)"
   ]
  },
  {
   "cell_type": "code",
   "execution_count": 19,
   "id": "neutral-assignment",
   "metadata": {
    "execution": {
     "iopub.execute_input": "2022-04-16T12:14:52.008783Z",
     "iopub.status.busy": "2022-04-16T12:14:52.008100Z",
     "iopub.status.idle": "2022-04-16T12:14:52.011224Z",
     "shell.execute_reply": "2022-04-16T12:14:52.010619Z"
    },
    "papermill": {
     "duration": 0.05035,
     "end_time": "2022-04-16T12:14:52.011603",
     "exception": false,
     "start_time": "2022-04-16T12:14:51.961253",
     "status": "completed"
    },
    "tags": []
   },
   "outputs": [],
   "source": [
    "#hide\n",
    "everydaycases = dft_ct_new_cases.cumsum(axis=1)"
   ]
  },
  {
   "cell_type": "code",
   "execution_count": 20,
   "id": "parliamentary-calgary",
   "metadata": {
    "execution": {
     "iopub.execute_input": "2022-04-16T12:14:52.102309Z",
     "iopub.status.busy": "2022-04-16T12:14:52.101615Z",
     "iopub.status.idle": "2022-04-16T12:14:52.793166Z",
     "shell.execute_reply": "2022-04-16T12:14:52.792578Z"
    },
    "papermill": {
     "duration": 0.737199,
     "end_time": "2022-04-16T12:14:52.793322",
     "exception": false,
     "start_time": "2022-04-16T12:14:52.056123",
     "status": "completed"
    },
    "tags": []
   },
   "outputs": [],
   "source": [
    "#hide\n",
    "import pandas as pd\n",
    "import matplotlib.pyplot as plt\n",
    "import matplotlib.ticker as ticker\n",
    "import matplotlib.animation as animation\n",
    "from IPython.display import HTML"
   ]
  },
  {
   "cell_type": "code",
   "execution_count": 21,
   "id": "lasting-extraction",
   "metadata": {
    "execution": {
     "iopub.execute_input": "2022-04-16T12:14:52.888641Z",
     "iopub.status.busy": "2022-04-16T12:14:52.887961Z",
     "iopub.status.idle": "2022-04-16T12:14:52.895781Z",
     "shell.execute_reply": "2022-04-16T12:14:52.894427Z"
    },
    "papermill": {
     "duration": 0.054878,
     "end_time": "2022-04-16T12:14:52.895937",
     "exception": false,
     "start_time": "2022-04-16T12:14:52.841059",
     "status": "completed"
    },
    "tags": []
   },
   "outputs": [],
   "source": [
    "#hide\n",
    "t = everydaycases.stack()"
   ]
  },
  {
   "cell_type": "code",
   "execution_count": 22,
   "id": "premier-sleeve",
   "metadata": {
    "execution": {
     "iopub.execute_input": "2022-04-16T12:14:52.981851Z",
     "iopub.status.busy": "2022-04-16T12:14:52.981171Z",
     "iopub.status.idle": "2022-04-16T12:14:52.993687Z",
     "shell.execute_reply": "2022-04-16T12:14:52.993132Z"
    },
    "papermill": {
     "duration": 0.059185,
     "end_time": "2022-04-16T12:14:52.993838",
     "exception": false,
     "start_time": "2022-04-16T12:14:52.934653",
     "status": "completed"
    },
    "tags": []
   },
   "outputs": [],
   "source": [
    "#hide\n",
    "g = t.reset_index(['Country/Region'])"
   ]
  },
  {
   "cell_type": "code",
   "execution_count": 23,
   "id": "distributed-pittsburgh",
   "metadata": {
    "execution": {
     "iopub.execute_input": "2022-04-16T12:14:53.081245Z",
     "iopub.status.busy": "2022-04-16T12:14:53.080569Z",
     "iopub.status.idle": "2022-04-16T12:14:53.084457Z",
     "shell.execute_reply": "2022-04-16T12:14:53.084974Z"
    },
    "papermill": {
     "duration": 0.051676,
     "end_time": "2022-04-16T12:14:53.085135",
     "exception": false,
     "start_time": "2022-04-16T12:14:53.033459",
     "status": "completed"
    },
    "tags": []
   },
   "outputs": [],
   "source": [
    "#hide\n",
    "g.index.name = 'date'"
   ]
  },
  {
   "cell_type": "code",
   "execution_count": 24,
   "id": "naked-donor",
   "metadata": {
    "execution": {
     "iopub.execute_input": "2022-04-16T12:14:53.176053Z",
     "iopub.status.busy": "2022-04-16T12:14:53.175367Z",
     "iopub.status.idle": "2022-04-16T12:14:53.177735Z",
     "shell.execute_reply": "2022-04-16T12:14:53.176980Z"
    },
    "papermill": {
     "duration": 0.052748,
     "end_time": "2022-04-16T12:14:53.177877",
     "exception": false,
     "start_time": "2022-04-16T12:14:53.125129",
     "status": "completed"
    },
    "tags": []
   },
   "outputs": [],
   "source": [
    "# #hide\n",
    "# g = g.reset_index(['date'])"
   ]
  },
  {
   "cell_type": "code",
   "execution_count": 25,
   "id": "incomplete-mustang",
   "metadata": {
    "execution": {
     "iopub.execute_input": "2022-04-16T12:14:53.270821Z",
     "iopub.status.busy": "2022-04-16T12:14:53.270136Z",
     "iopub.status.idle": "2022-04-16T12:14:53.274191Z",
     "shell.execute_reply": "2022-04-16T12:14:53.274710Z"
    },
    "papermill": {
     "duration": 0.057247,
     "end_time": "2022-04-16T12:14:53.274881",
     "exception": false,
     "start_time": "2022-04-16T12:14:53.217634",
     "status": "completed"
    },
    "tags": []
   },
   "outputs": [],
   "source": [
    "#hide\n",
    "# g.head()"
   ]
  },
  {
   "cell_type": "code",
   "execution_count": 26,
   "id": "specific-kruger",
   "metadata": {
    "execution": {
     "iopub.execute_input": "2022-04-16T12:14:53.369454Z",
     "iopub.status.busy": "2022-04-16T12:14:53.367843Z",
     "iopub.status.idle": "2022-04-16T12:14:53.370208Z",
     "shell.execute_reply": "2022-04-16T12:14:53.370751Z"
    },
    "papermill": {
     "duration": 0.049012,
     "end_time": "2022-04-16T12:14:53.370907",
     "exception": false,
     "start_time": "2022-04-16T12:14:53.321895",
     "status": "completed"
    },
    "tags": []
   },
   "outputs": [],
   "source": [
    "#hide\n",
    "# g.columns = ['date','country','cases']"
   ]
  },
  {
   "cell_type": "code",
   "execution_count": 27,
   "id": "tender-conversion",
   "metadata": {
    "execution": {
     "iopub.execute_input": "2022-04-16T12:14:53.459487Z",
     "iopub.status.busy": "2022-04-16T12:14:53.458755Z",
     "iopub.status.idle": "2022-04-16T12:14:53.462877Z",
     "shell.execute_reply": "2022-04-16T12:14:53.462206Z"
    },
    "papermill": {
     "duration": 0.052719,
     "end_time": "2022-04-16T12:14:53.463032",
     "exception": false,
     "start_time": "2022-04-16T12:14:53.410313",
     "status": "completed"
    },
    "tags": []
   },
   "outputs": [],
   "source": [
    "#hide\n",
    "# g['continent'] = g.country"
   ]
  },
  {
   "cell_type": "code",
   "execution_count": 28,
   "id": "substantial-wilderness",
   "metadata": {
    "execution": {
     "iopub.execute_input": "2022-04-16T12:14:53.556125Z",
     "iopub.status.busy": "2022-04-16T12:14:53.555321Z",
     "iopub.status.idle": "2022-04-16T12:14:53.558913Z",
     "shell.execute_reply": "2022-04-16T12:14:53.558331Z"
    },
    "papermill": {
     "duration": 0.056294,
     "end_time": "2022-04-16T12:14:53.559109",
     "exception": false,
     "start_time": "2022-04-16T12:14:53.502815",
     "status": "completed"
    },
    "tags": []
   },
   "outputs": [],
   "source": [
    "#hide\n",
    "# cols = list(g.columns.values)"
   ]
  },
  {
   "cell_type": "code",
   "execution_count": 29,
   "id": "solved-farming",
   "metadata": {
    "execution": {
     "iopub.execute_input": "2022-04-16T12:14:53.647034Z",
     "iopub.status.busy": "2022-04-16T12:14:53.646352Z",
     "iopub.status.idle": "2022-04-16T12:14:53.649064Z",
     "shell.execute_reply": "2022-04-16T12:14:53.648490Z"
    },
    "papermill": {
     "duration": 0.047144,
     "end_time": "2022-04-16T12:14:53.649206",
     "exception": false,
     "start_time": "2022-04-16T12:14:53.602062",
     "status": "completed"
    },
    "tags": []
   },
   "outputs": [],
   "source": [
    "#hide\n",
    "# cols.insert(0, cols.pop())"
   ]
  },
  {
   "cell_type": "code",
   "execution_count": 30,
   "id": "executed-adoption",
   "metadata": {
    "execution": {
     "iopub.execute_input": "2022-04-16T12:14:53.734125Z",
     "iopub.status.busy": "2022-04-16T12:14:53.733445Z",
     "iopub.status.idle": "2022-04-16T12:14:53.736103Z",
     "shell.execute_reply": "2022-04-16T12:14:53.735533Z"
    },
    "papermill": {
     "duration": 0.0474,
     "end_time": "2022-04-16T12:14:53.736251",
     "exception": false,
     "start_time": "2022-04-16T12:14:53.688851",
     "status": "completed"
    },
    "tags": []
   },
   "outputs": [],
   "source": [
    "#hide\n",
    "# g = g[cols]"
   ]
  },
  {
   "cell_type": "code",
   "execution_count": 31,
   "id": "subject-dublin",
   "metadata": {
    "execution": {
     "iopub.execute_input": "2022-04-16T12:14:53.823396Z",
     "iopub.status.busy": "2022-04-16T12:14:53.822683Z",
     "iopub.status.idle": "2022-04-16T12:14:53.826550Z",
     "shell.execute_reply": "2022-04-16T12:14:53.825980Z"
    },
    "papermill": {
     "duration": 0.048759,
     "end_time": "2022-04-16T12:14:53.826688",
     "exception": false,
     "start_time": "2022-04-16T12:14:53.777929",
     "status": "completed"
    },
    "tags": []
   },
   "outputs": [],
   "source": [
    "#hide\n",
    "# g['continent'] = g['continent'].map(mapping['map.continent'])"
   ]
  },
  {
   "cell_type": "code",
   "execution_count": 32,
   "id": "freelance-scout",
   "metadata": {
    "execution": {
     "iopub.execute_input": "2022-04-16T12:14:53.914767Z",
     "iopub.status.busy": "2022-04-16T12:14:53.914072Z",
     "iopub.status.idle": "2022-04-16T12:14:53.916727Z",
     "shell.execute_reply": "2022-04-16T12:14:53.916157Z"
    },
    "papermill": {
     "duration": 0.048227,
     "end_time": "2022-04-16T12:14:53.916868",
     "exception": false,
     "start_time": "2022-04-16T12:14:53.868641",
     "status": "completed"
    },
    "tags": []
   },
   "outputs": [],
   "source": [
    "#hide\n",
    "# g.head()"
   ]
  },
  {
   "cell_type": "code",
   "execution_count": 33,
   "id": "limited-engine",
   "metadata": {
    "execution": {
     "iopub.execute_input": "2022-04-16T12:14:54.005692Z",
     "iopub.status.busy": "2022-04-16T12:14:54.005016Z",
     "iopub.status.idle": "2022-04-16T12:14:54.009596Z",
     "shell.execute_reply": "2022-04-16T12:14:54.009051Z"
    },
    "papermill": {
     "duration": 0.048465,
     "end_time": "2022-04-16T12:14:54.009736",
     "exception": false,
     "start_time": "2022-04-16T12:14:53.961271",
     "status": "completed"
    },
    "tags": []
   },
   "outputs": [],
   "source": [
    "# hide\n",
    "# g['date'] = g['date'].astype('datetime64[ns]')"
   ]
  },
  {
   "cell_type": "code",
   "execution_count": 34,
   "id": "sophisticated-supervisor",
   "metadata": {
    "execution": {
     "iopub.execute_input": "2022-04-16T12:14:54.100469Z",
     "iopub.status.busy": "2022-04-16T12:14:54.098881Z",
     "iopub.status.idle": "2022-04-16T12:14:54.101207Z",
     "shell.execute_reply": "2022-04-16T12:14:54.101749Z"
    },
    "papermill": {
     "duration": 0.050249,
     "end_time": "2022-04-16T12:14:54.101906",
     "exception": false,
     "start_time": "2022-04-16T12:14:54.051657",
     "status": "completed"
    },
    "tags": []
   },
   "outputs": [],
   "source": [
    "#hide\n",
    "# g['date'] = g.date.dt.dayofyear"
   ]
  },
  {
   "cell_type": "code",
   "execution_count": 35,
   "id": "inside-dubai",
   "metadata": {
    "execution": {
     "iopub.execute_input": "2022-04-16T12:14:54.187967Z",
     "iopub.status.busy": "2022-04-16T12:14:54.187276Z",
     "iopub.status.idle": "2022-04-16T12:14:54.190740Z",
     "shell.execute_reply": "2022-04-16T12:14:54.190159Z"
    },
    "papermill": {
     "duration": 0.048859,
     "end_time": "2022-04-16T12:14:54.190877",
     "exception": false,
     "start_time": "2022-04-16T12:14:54.142018",
     "status": "completed"
    },
    "tags": []
   },
   "outputs": [],
   "source": [
    "#hide\n",
    "# g = g.rename(columns= {'continent':'group','country':'name','cases':'value'})"
   ]
  },
  {
   "cell_type": "code",
   "execution_count": 36,
   "id": "fleet-motorcycle",
   "metadata": {
    "execution": {
     "iopub.execute_input": "2022-04-16T12:14:54.277210Z",
     "iopub.status.busy": "2022-04-16T12:14:54.276533Z",
     "iopub.status.idle": "2022-04-16T12:14:54.278836Z",
     "shell.execute_reply": "2022-04-16T12:14:54.279418Z"
    },
    "papermill": {
     "duration": 0.04861,
     "end_time": "2022-04-16T12:14:54.279581",
     "exception": false,
     "start_time": "2022-04-16T12:14:54.230971",
     "status": "completed"
    },
    "tags": []
   },
   "outputs": [],
   "source": [
    "#hide\n",
    "# cols = ['name','group','day','value']"
   ]
  },
  {
   "cell_type": "code",
   "execution_count": 37,
   "id": "continued-sleeping",
   "metadata": {
    "execution": {
     "iopub.execute_input": "2022-04-16T12:14:54.375650Z",
     "iopub.status.busy": "2022-04-16T12:14:54.374878Z",
     "iopub.status.idle": "2022-04-16T12:14:54.379557Z",
     "shell.execute_reply": "2022-04-16T12:14:54.381112Z"
    },
    "papermill": {
     "duration": 0.062443,
     "end_time": "2022-04-16T12:14:54.381588",
     "exception": false,
     "start_time": "2022-04-16T12:14:54.319145",
     "status": "completed"
    },
    "tags": []
   },
   "outputs": [],
   "source": [
    "#hide\n",
    "# g.rename(columns= {'date':'day'},inplace = True)"
   ]
  },
  {
   "cell_type": "code",
   "execution_count": 38,
   "id": "major-fight",
   "metadata": {
    "execution": {
     "iopub.execute_input": "2022-04-16T12:14:54.483720Z",
     "iopub.status.busy": "2022-04-16T12:14:54.483011Z",
     "iopub.status.idle": "2022-04-16T12:14:54.485621Z",
     "shell.execute_reply": "2022-04-16T12:14:54.484965Z"
    },
    "papermill": {
     "duration": 0.047884,
     "end_time": "2022-04-16T12:14:54.485760",
     "exception": false,
     "start_time": "2022-04-16T12:14:54.437876",
     "status": "completed"
    },
    "tags": []
   },
   "outputs": [],
   "source": [
    "#hide\n",
    "# g = g[cols]"
   ]
  },
  {
   "cell_type": "code",
   "execution_count": 39,
   "id": "structured-mobile",
   "metadata": {
    "execution": {
     "iopub.execute_input": "2022-04-16T12:14:54.572784Z",
     "iopub.status.busy": "2022-04-16T12:14:54.572100Z",
     "iopub.status.idle": "2022-04-16T12:14:54.574205Z",
     "shell.execute_reply": "2022-04-16T12:14:54.574723Z"
    },
    "papermill": {
     "duration": 0.049966,
     "end_time": "2022-04-16T12:14:54.574881",
     "exception": false,
     "start_time": "2022-04-16T12:14:54.524915",
     "status": "completed"
    },
    "tags": []
   },
   "outputs": [],
   "source": [
    "# #hide\n",
    "# g = g[g.group.notna()]"
   ]
  },
  {
   "cell_type": "code",
   "execution_count": 40,
   "id": "determined-closing",
   "metadata": {
    "execution": {
     "iopub.execute_input": "2022-04-16T12:14:54.662583Z",
     "iopub.status.busy": "2022-04-16T12:14:54.661889Z",
     "iopub.status.idle": "2022-04-16T12:14:54.665663Z",
     "shell.execute_reply": "2022-04-16T12:14:54.666179Z"
    },
    "papermill": {
     "duration": 0.051437,
     "end_time": "2022-04-16T12:14:54.666336",
     "exception": false,
     "start_time": "2022-04-16T12:14:54.614899",
     "status": "completed"
    },
    "tags": []
   },
   "outputs": [],
   "source": [
    "# #hide\n",
    "# colors = dict(zip(\n",
    "#     [\"Oceania\", \"Europe\", \"Asia\", \"South America\", \"Middle East\", \"North America\", \"Africa\"],\n",
    "#     [\"#adb0ff\", \"#ffb3ff\", \"#90d595\", \"#e48381\", \"#aafbff\", \"#f7bb5f\", \"#eafb50\"]\n",
    "# ))\n",
    "# group_lk = g.set_index('name')['group'].to_dict()"
   ]
  },
  {
   "cell_type": "code",
   "execution_count": null,
   "id": "gross-drinking",
   "metadata": {
    "papermill": {
     "duration": 0.039502,
     "end_time": "2022-04-16T12:14:54.744842",
     "exception": false,
     "start_time": "2022-04-16T12:14:54.705340",
     "status": "completed"
    },
    "tags": []
   },
   "outputs": [],
   "source": []
  },
  {
   "cell_type": "code",
   "execution_count": 41,
   "id": "subject-macintosh",
   "metadata": {
    "execution": {
     "iopub.execute_input": "2022-04-16T12:14:54.830380Z",
     "iopub.status.busy": "2022-04-16T12:14:54.829683Z",
     "iopub.status.idle": "2022-04-16T12:14:54.832284Z",
     "shell.execute_reply": "2022-04-16T12:14:54.831623Z"
    },
    "papermill": {
     "duration": 0.046814,
     "end_time": "2022-04-16T12:14:54.832423",
     "exception": false,
     "start_time": "2022-04-16T12:14:54.785609",
     "status": "completed"
    },
    "tags": []
   },
   "outputs": [],
   "source": [
    "# #hide\n",
    "# fig, ax = plt.subplots(figsize=(15, 8))\n",
    "\n",
    "# def draw_barchart(current_day):\n",
    "#     dff = g[g['day'].eq(current_day)].sort_values(by='value', ascending=True).tail(10)\n",
    "#     ax.clear()\n",
    "#     ax.barh(dff['name'], dff['value'], color=[colors[group_lk[x]] for x in dff['name']])\n",
    "#     dx = dff['value'].max() / 200\n",
    "    \n",
    "#     for i, (value, name) in enumerate(zip(dff['value'], dff['name'])):\n",
    "#         ax.text(value-dx, i,     name,           size=14, weight=600, ha='right', va='bottom')\n",
    "#         ax.text(value-dx, i-.25, group_lk[name], size=10, color='#444444', ha='right', va='baseline')\n",
    "#         ax.text(value+dx, i,     f'{value:,.0f}',  size=14, ha='left',  va='center')\n",
    "#     ax.text(1, 0.4, current_day, transform=ax.transAxes, color='#777777', size=46, ha='right', weight=800)\n",
    "#     ax.text(0, 1.06, 'Population (thousands)', transform=ax.transAxes, size=12, color='#777777')\n",
    "#     ax.xaxis.set_major_formatter(ticker.StrMethodFormatter('{x:,.0f}'))\n",
    "#     ax.xaxis.set_ticks_position('top')\n",
    "#     ax.tick_params(axis='x', colors='#777777', labelsize=12)\n",
    "#     ax.set_yticks([])\n",
    "#     ax.margins(0, 0.01)\n",
    "#     ax.grid(which='major', axis='x', linestyle='-')\n",
    "#     ax.set_axisbelow(True)\n",
    "    \n",
    "#     ax.text(0, 1.15, 'Coronavirus',\n",
    "#             transform=ax.transAxes, size=24, weight=600, ha='left', va='top')\n",
    "# #     ax.text(1, 0, 'by @pratapvardhan; credit @jburnmurdoch', transform=ax.transAxes, color='#777777', ha='right',\n",
    "# #             bbox=dict(facecolor='white', alpha=0.8, edgecolor='white'))\n",
    "#     plt.box(False)"
   ]
  },
  {
   "cell_type": "code",
   "execution_count": 42,
   "id": "sexual-wages",
   "metadata": {
    "execution": {
     "iopub.execute_input": "2022-04-16T12:14:54.918414Z",
     "iopub.status.busy": "2022-04-16T12:14:54.917725Z",
     "iopub.status.idle": "2022-04-16T12:14:54.920303Z",
     "shell.execute_reply": "2022-04-16T12:14:54.919586Z"
    },
    "papermill": {
     "duration": 0.047174,
     "end_time": "2022-04-16T12:14:54.920439",
     "exception": false,
     "start_time": "2022-04-16T12:14:54.873265",
     "status": "completed"
    },
    "tags": []
   },
   "outputs": [],
   "source": [
    "# #hide_input\n",
    "# fig, ax = plt.subplots(figsize=(15, 8))\n",
    "# animator = animation.FuncAnimation(fig, draw_barchart, frames=range(g.day.values.min(), g.day.values.max()))\n",
    "# HTML(animator.to_jshtml())\n",
    "# # or use animator.to_html5_video() or animator.save() "
   ]
  },
  {
   "cell_type": "code",
   "execution_count": null,
   "id": "australian-container",
   "metadata": {
    "papermill": {
     "duration": 0.03997,
     "end_time": "2022-04-16T12:14:55.006143",
     "exception": false,
     "start_time": "2022-04-16T12:14:54.966173",
     "status": "completed"
    },
    "tags": []
   },
   "outputs": [],
   "source": []
  },
  {
   "cell_type": "code",
   "execution_count": null,
   "id": "mediterranean-pontiac",
   "metadata": {
    "papermill": {
     "duration": 0.041538,
     "end_time": "2022-04-16T12:14:55.086383",
     "exception": false,
     "start_time": "2022-04-16T12:14:55.044845",
     "status": "completed"
    },
    "tags": []
   },
   "outputs": [],
   "source": []
  },
  {
   "cell_type": "code",
   "execution_count": null,
   "id": "aging-legislature",
   "metadata": {
    "papermill": {
     "duration": 0.040998,
     "end_time": "2022-04-16T12:14:55.167624",
     "exception": false,
     "start_time": "2022-04-16T12:14:55.126626",
     "status": "completed"
    },
    "tags": []
   },
   "outputs": [],
   "source": []
  }
 ],
 "metadata": {
  "kernelspec": {
   "display_name": "Python 3",
   "language": "python",
   "name": "python3"
  },
  "language_info": {
   "codemirror_mode": {
    "name": "ipython",
    "version": 3
   },
   "file_extension": ".py",
   "mimetype": "text/x-python",
   "name": "python",
   "nbconvert_exporter": "python",
   "pygments_lexer": "ipython3",
   "version": "3.6.15"
  },
  "papermill": {
   "duration": 7.682984,
   "end_time": "2022-04-16T12:14:55.625950",
   "environment_variables": {},
   "exception": null,
   "input_path": "2020-03-21-covid19exp.ipynb",
   "output_path": "2020-03-21-covid19exp.ipynb",
   "parameters": {},
   "start_time": "2022-04-16T12:14:47.942966",
   "version": "2.0.0"
  }
 },
 "nbformat": 4,
 "nbformat_minor": 5
}