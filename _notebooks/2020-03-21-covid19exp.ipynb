{
 "cells": [
  {
   "cell_type": "markdown",
   "id": "muslim-click",
   "metadata": {
    "papermill": {
     "duration": 0.033565,
     "end_time": "2022-03-17T00:31:43.980243",
     "exception": false,
     "start_time": "2022-03-17T00:31:43.946678",
     "status": "completed"
    },
    "tags": []
   },
   "source": [
    "# COVID-19 Case Race\n",
    "> A race chart to see rising cases around the world\n",
    "\n",
    "- author: Hargun Oberoi\n",
    "- image: images/covid-overview.png\n",
    "- hide: false\n",
    "- badges: false"
   ]
  },
  {
   "cell_type": "code",
   "execution_count": 1,
   "id": "proof-material",
   "metadata": {
    "execution": {
     "iopub.execute_input": "2022-03-17T00:31:44.051211Z",
     "iopub.status.busy": "2022-03-17T00:31:44.050667Z",
     "iopub.status.idle": "2022-03-17T00:31:44.378892Z",
     "shell.execute_reply": "2022-03-17T00:31:44.378386Z"
    },
    "papermill": {
     "duration": 0.367565,
     "end_time": "2022-03-17T00:31:44.379036",
     "exception": false,
     "start_time": "2022-03-17T00:31:44.011471",
     "status": "completed"
    },
    "tags": []
   },
   "outputs": [],
   "source": [
    "#hide\n",
    "import numpy as np\n",
    "import pandas as pd\n",
    "from jinja2 import Template\n",
    "from IPython.display import HTML"
   ]
  },
  {
   "cell_type": "code",
   "execution_count": 2,
   "id": "developed-terminology",
   "metadata": {
    "execution": {
     "iopub.execute_input": "2022-03-17T00:31:44.443926Z",
     "iopub.status.busy": "2022-03-17T00:31:44.443290Z",
     "iopub.status.idle": "2022-03-17T00:31:44.446762Z",
     "shell.execute_reply": "2022-03-17T00:31:44.447208Z"
    },
    "papermill": {
     "duration": 0.038758,
     "end_time": "2022-03-17T00:31:44.447363",
     "exception": false,
     "start_time": "2022-03-17T00:31:44.408605",
     "status": "completed"
    },
    "tags": []
   },
   "outputs": [],
   "source": [
    "#hide\n",
    "\n",
    "# FETCH\n",
    "base_url = 'https://raw.githubusercontent.com/pratapvardhan/notebooks/master/covid19/'\n",
    "paths = {\n",
    "    'mapping': base_url + 'mapping_countries.csv',\n",
    "    'overview': base_url + 'overview.tpl'\n",
    "}"
   ]
  },
  {
   "cell_type": "code",
   "execution_count": 3,
   "id": "dynamic-saver",
   "metadata": {
    "execution": {
     "iopub.execute_input": "2022-03-17T00:31:44.515570Z",
     "iopub.status.busy": "2022-03-17T00:31:44.515056Z",
     "iopub.status.idle": "2022-03-17T00:31:44.518156Z",
     "shell.execute_reply": "2022-03-17T00:31:44.517716Z"
    },
    "papermill": {
     "duration": 0.041445,
     "end_time": "2022-03-17T00:31:44.518265",
     "exception": false,
     "start_time": "2022-03-17T00:31:44.476820",
     "status": "completed"
    },
    "tags": []
   },
   "outputs": [
    {
     "data": {
      "text/plain": [
       "'https://raw.githubusercontent.com/pratapvardhan/notebooks/master/covid19/mapping_countries.csv'"
      ]
     },
     "execution_count": 3,
     "metadata": {},
     "output_type": "execute_result"
    }
   ],
   "source": [
    "#hide\n",
    "paths['mapping']"
   ]
  },
  {
   "cell_type": "code",
   "execution_count": 4,
   "id": "urban-software",
   "metadata": {
    "execution": {
     "iopub.execute_input": "2022-03-17T00:31:44.583633Z",
     "iopub.status.busy": "2022-03-17T00:31:44.583080Z",
     "iopub.status.idle": "2022-03-17T00:31:44.584818Z",
     "shell.execute_reply": "2022-03-17T00:31:44.585203Z"
    },
    "papermill": {
     "duration": 0.036891,
     "end_time": "2022-03-17T00:31:44.585335",
     "exception": false,
     "start_time": "2022-03-17T00:31:44.548444",
     "status": "completed"
    },
    "tags": []
   },
   "outputs": [],
   "source": [
    "#hide\n",
    "def get_mappings(url):\n",
    "    df = pd.read_csv(url)\n",
    "    return {\n",
    "        'df': df,\n",
    "        'replace.country': dict(df.dropna(subset=['Name']).set_index('Country')['Name']),\n",
    "        'map.continent': dict(df.set_index('Name')['Continent'])\n",
    "    }"
   ]
  },
  {
   "cell_type": "code",
   "execution_count": 5,
   "id": "intimate-machinery",
   "metadata": {
    "execution": {
     "iopub.execute_input": "2022-03-17T00:31:44.650404Z",
     "iopub.status.busy": "2022-03-17T00:31:44.649882Z",
     "iopub.status.idle": "2022-03-17T00:31:44.675465Z",
     "shell.execute_reply": "2022-03-17T00:31:44.675911Z"
    },
    "papermill": {
     "duration": 0.061137,
     "end_time": "2022-03-17T00:31:44.676064",
     "exception": false,
     "start_time": "2022-03-17T00:31:44.614927",
     "status": "completed"
    },
    "tags": []
   },
   "outputs": [],
   "source": [
    "#hide\n",
    "mapping = get_mappings(paths['mapping'])"
   ]
  },
  {
   "cell_type": "code",
   "execution_count": 6,
   "id": "certified-tactics",
   "metadata": {
    "execution": {
     "iopub.execute_input": "2022-03-17T00:31:44.739479Z",
     "iopub.status.busy": "2022-03-17T00:31:44.738963Z",
     "iopub.status.idle": "2022-03-17T00:31:44.743528Z",
     "shell.execute_reply": "2022-03-17T00:31:44.744000Z"
    },
    "papermill": {
     "duration": 0.037348,
     "end_time": "2022-03-17T00:31:44.744127",
     "exception": false,
     "start_time": "2022-03-17T00:31:44.706779",
     "status": "completed"
    },
    "tags": []
   },
   "outputs": [],
   "source": [
    "#hide\n",
    "def get_template(path):\n",
    "    from urllib.parse import urlparse\n",
    "    if bool(urlparse(path).netloc):\n",
    "        from urllib.request import urlopen\n",
    "        return urlopen(path).read().decode('utf8')\n",
    "    return open(path).read()"
   ]
  },
  {
   "cell_type": "code",
   "execution_count": 7,
   "id": "realistic-blast",
   "metadata": {
    "execution": {
     "iopub.execute_input": "2022-03-17T00:31:44.807944Z",
     "iopub.status.busy": "2022-03-17T00:31:44.807417Z",
     "iopub.status.idle": "2022-03-17T00:31:44.809165Z",
     "shell.execute_reply": "2022-03-17T00:31:44.809594Z"
    },
    "papermill": {
     "duration": 0.036089,
     "end_time": "2022-03-17T00:31:44.809717",
     "exception": false,
     "start_time": "2022-03-17T00:31:44.773628",
     "status": "completed"
    },
    "tags": []
   },
   "outputs": [],
   "source": [
    "#hide\n",
    "def get_frame(name):\n",
    "    url = (\n",
    "        'https://raw.githubusercontent.com/CSSEGISandData/COVID-19/master/csse_covid_19_data/'\n",
    "        f'csse_covid_19_time_series/time_series_covid19_{name}_global.csv')\n",
    "    df = pd.read_csv(url)\n",
    "    # rename countries\n",
    "    df['Country/Region'] = df['Country/Region'].replace(mapping['replace.country'])\n",
    "    return df"
   ]
  },
  {
   "cell_type": "code",
   "execution_count": 8,
   "id": "affiliated-characterization",
   "metadata": {
    "execution": {
     "iopub.execute_input": "2022-03-17T00:31:44.875773Z",
     "iopub.status.busy": "2022-03-17T00:31:44.875155Z",
     "iopub.status.idle": "2022-03-17T00:31:44.876646Z",
     "shell.execute_reply": "2022-03-17T00:31:44.877047Z"
    },
    "papermill": {
     "duration": 0.037581,
     "end_time": "2022-03-17T00:31:44.877176",
     "exception": false,
     "start_time": "2022-03-17T00:31:44.839595",
     "status": "completed"
    },
    "tags": []
   },
   "outputs": [],
   "source": [
    "#hide\n",
    "def get_dates(df):\n",
    "    dt_cols = df.columns[~df.columns.isin(['Province/State', 'Country/Region', 'Lat', 'Long'])]\n",
    "    LAST_DATE_I = -1\n",
    "    # sometimes last column may be empty, then go backwards\n",
    "    for i in range(-1, -len(dt_cols), -1):\n",
    "        if not df[dt_cols[i]].fillna(0).eq(0).all():\n",
    "            LAST_DATE_I = i\n",
    "            break\n",
    "    return LAST_DATE_I, dt_cols"
   ]
  },
  {
   "cell_type": "code",
   "execution_count": 9,
   "id": "recent-optimization",
   "metadata": {
    "execution": {
     "iopub.execute_input": "2022-03-17T00:31:44.942061Z",
     "iopub.status.busy": "2022-03-17T00:31:44.941500Z",
     "iopub.status.idle": "2022-03-17T00:31:45.298175Z",
     "shell.execute_reply": "2022-03-17T00:31:45.297629Z"
    },
    "papermill": {
     "duration": 0.391695,
     "end_time": "2022-03-17T00:31:45.298318",
     "exception": false,
     "start_time": "2022-03-17T00:31:44.906623",
     "status": "completed"
    },
    "tags": []
   },
   "outputs": [],
   "source": [
    "#hide\n",
    "COL_REGION = 'Country/Region'\n",
    "# Confirmed, Recovered, Deaths\n",
    "df = get_frame('confirmed')\n",
    "# dft_: timeseries, dfc_: today country agg\n",
    "dft_cases = df\n",
    "dft_deaths = get_frame('deaths')\n",
    "dft_recovered = get_frame('recovered')\n",
    "LAST_DATE_I, dt_cols = get_dates(df)"
   ]
  },
  {
   "cell_type": "code",
   "execution_count": 10,
   "id": "absolute-copper",
   "metadata": {
    "execution": {
     "iopub.execute_input": "2022-03-17T00:31:45.364893Z",
     "iopub.status.busy": "2022-03-17T00:31:45.364341Z",
     "iopub.status.idle": "2022-03-17T00:31:45.366418Z",
     "shell.execute_reply": "2022-03-17T00:31:45.366008Z"
    },
    "papermill": {
     "duration": 0.037411,
     "end_time": "2022-03-17T00:31:45.366532",
     "exception": false,
     "start_time": "2022-03-17T00:31:45.329121",
     "status": "completed"
    },
    "tags": []
   },
   "outputs": [],
   "source": [
    "#hide\n",
    "LAST_DATE_I, dt_cols = get_dates(df)\n",
    "dt_today =dt_cols[LAST_DATE_I]\n",
    "# dt_5day = dt_cols[LAST_DATE_I - 5]\n",
    "dt_yday = dt_cols[LAST_DATE_I - 1]"
   ]
  },
  {
   "cell_type": "code",
   "execution_count": 11,
   "id": "restricted-sheriff",
   "metadata": {
    "execution": {
     "iopub.execute_input": "2022-03-17T00:31:45.431530Z",
     "iopub.status.busy": "2022-03-17T00:31:45.430996Z",
     "iopub.status.idle": "2022-03-17T00:31:45.438678Z",
     "shell.execute_reply": "2022-03-17T00:31:45.438267Z"
    },
    "papermill": {
     "duration": 0.042838,
     "end_time": "2022-03-17T00:31:45.438790",
     "exception": false,
     "start_time": "2022-03-17T00:31:45.395952",
     "status": "completed"
    },
    "tags": []
   },
   "outputs": [],
   "source": [
    "#hide\n",
    "dfc_cases = dft_cases.groupby(COL_REGION)[dt_today].sum()\n",
    "dfc_deaths = dft_deaths.groupby(COL_REGION)[dt_today].sum()\n",
    "# dfp_cases = dft_cases.groupby(COL_REGION)[dt_5day].sum()\n",
    "# dfp_deaths = dft_deaths.groupby(COL_REGION)[dt_5day].sum()\n",
    "dfp_cases = dft_cases.groupby(COL_REGION)[dt_yday].sum()\n",
    "dfp_deaths = dft_deaths.groupby(COL_REGION)[dt_yday].sum()"
   ]
  },
  {
   "cell_type": "code",
   "execution_count": 12,
   "id": "deluxe-hepatitis",
   "metadata": {
    "execution": {
     "iopub.execute_input": "2022-03-17T00:31:45.503539Z",
     "iopub.status.busy": "2022-03-17T00:31:45.503033Z",
     "iopub.status.idle": "2022-03-17T00:31:45.508339Z",
     "shell.execute_reply": "2022-03-17T00:31:45.508823Z"
    },
    "papermill": {
     "duration": 0.040388,
     "end_time": "2022-03-17T00:31:45.508946",
     "exception": false,
     "start_time": "2022-03-17T00:31:45.468558",
     "status": "completed"
    },
    "tags": []
   },
   "outputs": [],
   "source": [
    "#hide\n",
    "df_table = (pd.DataFrame(dict(Cases = dfc_cases, Deaths = dfc_deaths, PCases = dfp_cases, PDeaths = dfp_deaths))\n",
    "            .sort_values(by = ['Cases','Deaths'], ascending = [False, False])\n",
    "            .reset_index())"
   ]
  },
  {
   "cell_type": "code",
   "execution_count": 13,
   "id": "educational-chancellor",
   "metadata": {
    "execution": {
     "iopub.execute_input": "2022-03-17T00:31:45.590610Z",
     "iopub.status.busy": "2022-03-17T00:31:45.590037Z",
     "iopub.status.idle": "2022-03-17T00:31:45.593223Z",
     "shell.execute_reply": "2022-03-17T00:31:45.592786Z"
    },
    "papermill": {
     "duration": 0.054883,
     "end_time": "2022-03-17T00:31:45.593333",
     "exception": false,
     "start_time": "2022-03-17T00:31:45.538450",
     "status": "completed"
    },
    "tags": []
   },
   "outputs": [
    {
     "data": {
      "text/html": [
       "<div>\n",
       "<style scoped>\n",
       "    .dataframe tbody tr th:only-of-type {\n",
       "        vertical-align: middle;\n",
       "    }\n",
       "\n",
       "    .dataframe tbody tr th {\n",
       "        vertical-align: top;\n",
       "    }\n",
       "\n",
       "    .dataframe thead th {\n",
       "        text-align: right;\n",
       "    }\n",
       "</style>\n",
       "<table border=\"1\" class=\"dataframe\">\n",
       "  <thead>\n",
       "    <tr style=\"text-align: right;\">\n",
       "      <th></th>\n",
       "      <th>Country/Region</th>\n",
       "      <th>Cases</th>\n",
       "      <th>Deaths</th>\n",
       "      <th>PCases</th>\n",
       "      <th>PDeaths</th>\n",
       "      <th>Cases (+)</th>\n",
       "      <th>Deaths (+)</th>\n",
       "      <th>Fatality Rate</th>\n",
       "      <th>Continent</th>\n",
       "    </tr>\n",
       "  </thead>\n",
       "  <tbody>\n",
       "    <tr>\n",
       "      <th>0</th>\n",
       "      <td>US</td>\n",
       "      <td>79586694</td>\n",
       "      <td>966386</td>\n",
       "      <td>79561144</td>\n",
       "      <td>965105</td>\n",
       "      <td>25550</td>\n",
       "      <td>1281</td>\n",
       "      <td>1.21</td>\n",
       "      <td>North America</td>\n",
       "    </tr>\n",
       "    <tr>\n",
       "      <th>1</th>\n",
       "      <td>India</td>\n",
       "      <td>42998938</td>\n",
       "      <td>516072</td>\n",
       "      <td>42996062</td>\n",
       "      <td>515974</td>\n",
       "      <td>2876</td>\n",
       "      <td>98</td>\n",
       "      <td>1.20</td>\n",
       "      <td>Asia</td>\n",
       "    </tr>\n",
       "    <tr>\n",
       "      <th>2</th>\n",
       "      <td>Brazil</td>\n",
       "      <td>29441039</td>\n",
       "      <td>655878</td>\n",
       "      <td>29391345</td>\n",
       "      <td>655557</td>\n",
       "      <td>49694</td>\n",
       "      <td>321</td>\n",
       "      <td>2.23</td>\n",
       "      <td>South America</td>\n",
       "    </tr>\n",
       "    <tr>\n",
       "      <th>3</th>\n",
       "      <td>France</td>\n",
       "      <td>23834842</td>\n",
       "      <td>141467</td>\n",
       "      <td>23717460</td>\n",
       "      <td>141321</td>\n",
       "      <td>117382</td>\n",
       "      <td>146</td>\n",
       "      <td>0.59</td>\n",
       "      <td>Europe</td>\n",
       "    </tr>\n",
       "    <tr>\n",
       "      <th>4</th>\n",
       "      <td>United Kingdom</td>\n",
       "      <td>19965698</td>\n",
       "      <td>163680</td>\n",
       "      <td>19845016</td>\n",
       "      <td>163454</td>\n",
       "      <td>120682</td>\n",
       "      <td>226</td>\n",
       "      <td>0.82</td>\n",
       "      <td>Europe</td>\n",
       "    </tr>\n",
       "  </tbody>\n",
       "</table>\n",
       "</div>"
      ],
      "text/plain": [
       "   Country/Region     Cases  Deaths    PCases  PDeaths  Cases (+)  Deaths (+)  \\\n",
       "0              US  79586694  966386  79561144   965105      25550        1281   \n",
       "1           India  42998938  516072  42996062   515974       2876          98   \n",
       "2          Brazil  29441039  655878  29391345   655557      49694         321   \n",
       "3          France  23834842  141467  23717460   141321     117382         146   \n",
       "4  United Kingdom  19965698  163680  19845016   163454     120682         226   \n",
       "\n",
       "   Fatality Rate      Continent  \n",
       "0           1.21  North America  \n",
       "1           1.20           Asia  \n",
       "2           2.23  South America  \n",
       "3           0.59         Europe  \n",
       "4           0.82         Europe  "
      ]
     },
     "execution_count": 13,
     "metadata": {},
     "output_type": "execute_result"
    }
   ],
   "source": [
    "#hide\n",
    "for c in 'Cases, Deaths'.split(', '):\n",
    "    df_table[f'{c} (+)'] = (df_table[c] - df_table[f'P{c}']).clip(0)\n",
    "    #Clip ça veut dire, les chiffres negatif sont interdit\n",
    "df_table['Fatality Rate'] = (100* df_table['Deaths']/ df_table['Cases']).round(2)\n",
    "df_table['Continent'] = df_table['Country/Region'].map(mapping['map.continent'])\n",
    "df_table.head(5)"
   ]
  },
  {
   "cell_type": "code",
   "execution_count": 14,
   "id": "aboriginal-bulgaria",
   "metadata": {
    "execution": {
     "iopub.execute_input": "2022-03-17T00:31:45.659893Z",
     "iopub.status.busy": "2022-03-17T00:31:45.659378Z",
     "iopub.status.idle": "2022-03-17T00:31:45.661760Z",
     "shell.execute_reply": "2022-03-17T00:31:45.661324Z"
    },
    "papermill": {
     "duration": 0.038287,
     "end_time": "2022-03-17T00:31:45.661870",
     "exception": false,
     "start_time": "2022-03-17T00:31:45.623583",
     "status": "completed"
    },
    "tags": []
   },
   "outputs": [],
   "source": [
    "#hide\n",
    "#delete problematic countries from table\n",
    "df_table = df_table[~df_table['Country/Region'].isin(['Cape Verde', 'Cruise Ship', 'Kosovo'])]"
   ]
  },
  {
   "cell_type": "code",
   "execution_count": 15,
   "id": "fantastic-effect",
   "metadata": {
    "execution": {
     "iopub.execute_input": "2022-03-17T00:31:45.730454Z",
     "iopub.status.busy": "2022-03-17T00:31:45.729939Z",
     "iopub.status.idle": "2022-03-17T00:31:45.747014Z",
     "shell.execute_reply": "2022-03-17T00:31:45.747492Z"
    },
    "papermill": {
     "duration": 0.055733,
     "end_time": "2022-03-17T00:31:45.747625",
     "exception": false,
     "start_time": "2022-03-17T00:31:45.691892",
     "status": "completed"
    },
    "tags": []
   },
   "outputs": [
    {
     "data": {
      "text/html": [
       "<div>\n",
       "<style scoped>\n",
       "    .dataframe tbody tr th:only-of-type {\n",
       "        vertical-align: middle;\n",
       "    }\n",
       "\n",
       "    .dataframe tbody tr th {\n",
       "        vertical-align: top;\n",
       "    }\n",
       "\n",
       "    .dataframe thead th {\n",
       "        text-align: right;\n",
       "    }\n",
       "</style>\n",
       "<table border=\"1\" class=\"dataframe\">\n",
       "  <thead>\n",
       "    <tr style=\"text-align: right;\">\n",
       "      <th></th>\n",
       "      <th>Country/Region</th>\n",
       "      <th>Cases</th>\n",
       "      <th>Deaths</th>\n",
       "      <th>PCases</th>\n",
       "      <th>PDeaths</th>\n",
       "      <th>Cases (+)</th>\n",
       "      <th>Deaths (+)</th>\n",
       "      <th>Fatality Rate</th>\n",
       "      <th>Continent</th>\n",
       "    </tr>\n",
       "  </thead>\n",
       "  <tbody>\n",
       "    <tr>\n",
       "      <th>0</th>\n",
       "      <td>US</td>\n",
       "      <td>79586694</td>\n",
       "      <td>966386</td>\n",
       "      <td>79561144</td>\n",
       "      <td>965105</td>\n",
       "      <td>25550</td>\n",
       "      <td>1281</td>\n",
       "      <td>1.2</td>\n",
       "      <td>North America</td>\n",
       "    </tr>\n",
       "    <tr>\n",
       "      <th>1</th>\n",
       "      <td>India</td>\n",
       "      <td>42998938</td>\n",
       "      <td>516072</td>\n",
       "      <td>42996062</td>\n",
       "      <td>515974</td>\n",
       "      <td>2876</td>\n",
       "      <td>98</td>\n",
       "      <td>1.2</td>\n",
       "      <td>Asia</td>\n",
       "    </tr>\n",
       "    <tr>\n",
       "      <th>2</th>\n",
       "      <td>Brazil</td>\n",
       "      <td>29441039</td>\n",
       "      <td>655878</td>\n",
       "      <td>29391345</td>\n",
       "      <td>655557</td>\n",
       "      <td>49694</td>\n",
       "      <td>321</td>\n",
       "      <td>2.2</td>\n",
       "      <td>South America</td>\n",
       "    </tr>\n",
       "    <tr>\n",
       "      <th>3</th>\n",
       "      <td>France</td>\n",
       "      <td>23834842</td>\n",
       "      <td>141467</td>\n",
       "      <td>23717460</td>\n",
       "      <td>141321</td>\n",
       "      <td>117382</td>\n",
       "      <td>146</td>\n",
       "      <td>0.6</td>\n",
       "      <td>Europe</td>\n",
       "    </tr>\n",
       "    <tr>\n",
       "      <th>4</th>\n",
       "      <td>United Kingdom</td>\n",
       "      <td>19965698</td>\n",
       "      <td>163680</td>\n",
       "      <td>19845016</td>\n",
       "      <td>163454</td>\n",
       "      <td>120682</td>\n",
       "      <td>226</td>\n",
       "      <td>0.8</td>\n",
       "      <td>Europe</td>\n",
       "    </tr>\n",
       "  </tbody>\n",
       "</table>\n",
       "</div>"
      ],
      "text/plain": [
       "   Country/Region     Cases  Deaths    PCases  PDeaths  Cases (+)  Deaths (+)  \\\n",
       "0              US  79586694  966386  79561144   965105      25550        1281   \n",
       "1           India  42998938  516072  42996062   515974       2876          98   \n",
       "2          Brazil  29441039  655878  29391345   655557      49694         321   \n",
       "3          France  23834842  141467  23717460   141321     117382         146   \n",
       "4  United Kingdom  19965698  163680  19845016   163454     120682         226   \n",
       "\n",
       "   Fatality Rate      Continent  \n",
       "0            1.2  North America  \n",
       "1            1.2           Asia  \n",
       "2            2.2  South America  \n",
       "3            0.6         Europe  \n",
       "4            0.8         Europe  "
      ]
     },
     "execution_count": 15,
     "metadata": {},
     "output_type": "execute_result"
    }
   ],
   "source": [
    "#hide\n",
    "df_table = (pd.DataFrame(dict(Cases=dfc_cases, Deaths=dfc_deaths, PCases=dfp_cases, PDeaths=dfp_deaths))\n",
    "             .sort_values(by=['Cases', 'Deaths'], ascending=[False, False])\n",
    "             .reset_index())\n",
    "df_table.rename(columns={'index': 'Country/Region'}, inplace=True)\n",
    "for c in 'Cases, Deaths'.split(', '):\n",
    "    df_table[f'{c} (+)'] = (df_table[c] - df_table[f'P{c}']).clip(0)  # DATA BUG\n",
    "df_table['Fatality Rate'] = (100 * df_table['Deaths'] / df_table['Cases']).round(1)\n",
    "df_table['Continent'] = df_table['Country/Region'].map(mapping['map.continent'])\n",
    "df_table.head(5)"
   ]
  },
  {
   "cell_type": "code",
   "execution_count": 16,
   "id": "fewer-occasion",
   "metadata": {
    "execution": {
     "iopub.execute_input": "2022-03-17T00:31:45.813852Z",
     "iopub.status.busy": "2022-03-17T00:31:45.813309Z",
     "iopub.status.idle": "2022-03-17T00:31:45.815658Z",
     "shell.execute_reply": "2022-03-17T00:31:45.815234Z"
    },
    "papermill": {
     "duration": 0.037471,
     "end_time": "2022-03-17T00:31:45.815761",
     "exception": false,
     "start_time": "2022-03-17T00:31:45.778290",
     "status": "completed"
    },
    "tags": []
   },
   "outputs": [],
   "source": [
    "#hide\n",
    "#delete problematic countries from table\n",
    "df_table = df_table[~df_table['Country/Region'].isin(['Cape Verde', 'Cruise Ship', 'Kosovo'])]"
   ]
  },
  {
   "cell_type": "code",
   "execution_count": 17,
   "id": "related-center",
   "metadata": {
    "execution": {
     "iopub.execute_input": "2022-03-17T00:31:45.883746Z",
     "iopub.status.busy": "2022-03-17T00:31:45.883132Z",
     "iopub.status.idle": "2022-03-17T00:31:45.896217Z",
     "shell.execute_reply": "2022-03-17T00:31:45.895812Z"
    },
    "papermill": {
     "duration": 0.050183,
     "end_time": "2022-03-17T00:31:45.896326",
     "exception": false,
     "start_time": "2022-03-17T00:31:45.846143",
     "status": "completed"
    },
    "tags": []
   },
   "outputs": [],
   "source": [
    "#hide\n",
    "metrics = [df_table.columns[index] for index in [1,2,5,6]]\n",
    "# s_china = df_table[df_table['Country/Region'].eq('China')][metrics].sum().add_prefix('China ')\n",
    "s_us = df_table[df_table['Country/Region'].eq('US')][metrics].sum().add_prefix('US ')\n",
    "s_eu = df_table[df_table['Continent'].eq('Europe')][metrics].sum().add_prefix('EU ')\n",
    "s_ind = df_table[df_table['Country/Region'].eq('India')][metrics].sum().add_prefix('India ')\n",
    "summary = {'updated': pd.to_datetime(dt_today), 'since': pd.to_datetime(dt_yday)}\n",
    "summary = {'updated': pd.to_datetime(dt_today), 'since': pd.to_datetime(dt_yday)}\n",
    "summary = {**summary, **df_table[metrics].sum(), **s_ind, **s_us, **s_eu}"
   ]
  },
  {
   "cell_type": "code",
   "execution_count": 18,
   "id": "engaging-syndrome",
   "metadata": {
    "execution": {
     "iopub.execute_input": "2022-03-17T00:31:45.962529Z",
     "iopub.status.busy": "2022-03-17T00:31:45.962025Z",
     "iopub.status.idle": "2022-03-17T00:31:45.978310Z",
     "shell.execute_reply": "2022-03-17T00:31:45.977895Z"
    },
    "papermill": {
     "duration": 0.051677,
     "end_time": "2022-03-17T00:31:45.978423",
     "exception": false,
     "start_time": "2022-03-17T00:31:45.926746",
     "status": "completed"
    },
    "tags": []
   },
   "outputs": [],
   "source": [
    "#hide\n",
    "dft_ct_new_cases = dft_cases.groupby(COL_REGION)[dt_cols].sum().diff(axis=1).fillna(0).astype(int)"
   ]
  },
  {
   "cell_type": "code",
   "execution_count": 19,
   "id": "neutral-assignment",
   "metadata": {
    "execution": {
     "iopub.execute_input": "2022-03-17T00:31:46.045934Z",
     "iopub.status.busy": "2022-03-17T00:31:46.045361Z",
     "iopub.status.idle": "2022-03-17T00:31:46.047472Z",
     "shell.execute_reply": "2022-03-17T00:31:46.047044Z"
    },
    "papermill": {
     "duration": 0.038695,
     "end_time": "2022-03-17T00:31:46.047578",
     "exception": false,
     "start_time": "2022-03-17T00:31:46.008883",
     "status": "completed"
    },
    "tags": []
   },
   "outputs": [],
   "source": [
    "#hide\n",
    "everydaycases = dft_ct_new_cases.cumsum(axis=1)"
   ]
  },
  {
   "cell_type": "code",
   "execution_count": 20,
   "id": "parliamentary-calgary",
   "metadata": {
    "execution": {
     "iopub.execute_input": "2022-03-17T00:31:46.113949Z",
     "iopub.status.busy": "2022-03-17T00:31:46.113390Z",
     "iopub.status.idle": "2022-03-17T00:31:46.746817Z",
     "shell.execute_reply": "2022-03-17T00:31:46.746278Z"
    },
    "papermill": {
     "duration": 0.668266,
     "end_time": "2022-03-17T00:31:46.746965",
     "exception": false,
     "start_time": "2022-03-17T00:31:46.078699",
     "status": "completed"
    },
    "tags": []
   },
   "outputs": [],
   "source": [
    "#hide\n",
    "import pandas as pd\n",
    "import matplotlib.pyplot as plt\n",
    "import matplotlib.ticker as ticker\n",
    "import matplotlib.animation as animation\n",
    "from IPython.display import HTML"
   ]
  },
  {
   "cell_type": "code",
   "execution_count": 21,
   "id": "lasting-extraction",
   "metadata": {
    "execution": {
     "iopub.execute_input": "2022-03-17T00:31:46.815570Z",
     "iopub.status.busy": "2022-03-17T00:31:46.815048Z",
     "iopub.status.idle": "2022-03-17T00:31:46.821660Z",
     "shell.execute_reply": "2022-03-17T00:31:46.822047Z"
    },
    "papermill": {
     "duration": 0.04414,
     "end_time": "2022-03-17T00:31:46.822190",
     "exception": false,
     "start_time": "2022-03-17T00:31:46.778050",
     "status": "completed"
    },
    "tags": []
   },
   "outputs": [],
   "source": [
    "#hide\n",
    "t = everydaycases.stack()"
   ]
  },
  {
   "cell_type": "code",
   "execution_count": 22,
   "id": "premier-sleeve",
   "metadata": {
    "execution": {
     "iopub.execute_input": "2022-03-17T00:31:46.888865Z",
     "iopub.status.busy": "2022-03-17T00:31:46.888330Z",
     "iopub.status.idle": "2022-03-17T00:31:46.899157Z",
     "shell.execute_reply": "2022-03-17T00:31:46.898706Z"
    },
    "papermill": {
     "duration": 0.046223,
     "end_time": "2022-03-17T00:31:46.899274",
     "exception": false,
     "start_time": "2022-03-17T00:31:46.853051",
     "status": "completed"
    },
    "tags": []
   },
   "outputs": [],
   "source": [
    "#hide\n",
    "g = t.reset_index(['Country/Region'])"
   ]
  },
  {
   "cell_type": "code",
   "execution_count": 23,
   "id": "distributed-pittsburgh",
   "metadata": {
    "execution": {
     "iopub.execute_input": "2022-03-17T00:31:46.965815Z",
     "iopub.status.busy": "2022-03-17T00:31:46.965130Z",
     "iopub.status.idle": "2022-03-17T00:31:46.966604Z",
     "shell.execute_reply": "2022-03-17T00:31:46.967138Z"
    },
    "papermill": {
     "duration": 0.037138,
     "end_time": "2022-03-17T00:31:46.967290",
     "exception": false,
     "start_time": "2022-03-17T00:31:46.930152",
     "status": "completed"
    },
    "tags": []
   },
   "outputs": [],
   "source": [
    "#hide\n",
    "g.index.name = 'date'"
   ]
  },
  {
   "cell_type": "code",
   "execution_count": 24,
   "id": "naked-donor",
   "metadata": {
    "execution": {
     "iopub.execute_input": "2022-03-17T00:31:47.033205Z",
     "iopub.status.busy": "2022-03-17T00:31:47.032696Z",
     "iopub.status.idle": "2022-03-17T00:31:47.034255Z",
     "shell.execute_reply": "2022-03-17T00:31:47.034756Z"
    },
    "papermill": {
     "duration": 0.036209,
     "end_time": "2022-03-17T00:31:47.034882",
     "exception": false,
     "start_time": "2022-03-17T00:31:46.998673",
     "status": "completed"
    },
    "tags": []
   },
   "outputs": [],
   "source": [
    "# #hide\n",
    "# g = g.reset_index(['date'])"
   ]
  },
  {
   "cell_type": "code",
   "execution_count": 25,
   "id": "incomplete-mustang",
   "metadata": {
    "execution": {
     "iopub.execute_input": "2022-03-17T00:31:47.100207Z",
     "iopub.status.busy": "2022-03-17T00:31:47.099593Z",
     "iopub.status.idle": "2022-03-17T00:31:47.101140Z",
     "shell.execute_reply": "2022-03-17T00:31:47.101602Z"
    },
    "papermill": {
     "duration": 0.036209,
     "end_time": "2022-03-17T00:31:47.101750",
     "exception": false,
     "start_time": "2022-03-17T00:31:47.065541",
     "status": "completed"
    },
    "tags": []
   },
   "outputs": [],
   "source": [
    "#hide\n",
    "# g.head()"
   ]
  },
  {
   "cell_type": "code",
   "execution_count": 26,
   "id": "specific-kruger",
   "metadata": {
    "execution": {
     "iopub.execute_input": "2022-03-17T00:31:47.167106Z",
     "iopub.status.busy": "2022-03-17T00:31:47.166569Z",
     "iopub.status.idle": "2022-03-17T00:31:47.170435Z",
     "shell.execute_reply": "2022-03-17T00:31:47.170936Z"
    },
    "papermill": {
     "duration": 0.038399,
     "end_time": "2022-03-17T00:31:47.171067",
     "exception": false,
     "start_time": "2022-03-17T00:31:47.132668",
     "status": "completed"
    },
    "tags": []
   },
   "outputs": [],
   "source": [
    "#hide\n",
    "# g.columns = ['date','country','cases']"
   ]
  },
  {
   "cell_type": "code",
   "execution_count": 27,
   "id": "tender-conversion",
   "metadata": {
    "execution": {
     "iopub.execute_input": "2022-03-17T00:31:47.235133Z",
     "iopub.status.busy": "2022-03-17T00:31:47.234552Z",
     "iopub.status.idle": "2022-03-17T00:31:47.236704Z",
     "shell.execute_reply": "2022-03-17T00:31:47.236234Z"
    },
    "papermill": {
     "duration": 0.035419,
     "end_time": "2022-03-17T00:31:47.236807",
     "exception": false,
     "start_time": "2022-03-17T00:31:47.201388",
     "status": "completed"
    },
    "tags": []
   },
   "outputs": [],
   "source": [
    "#hide\n",
    "# g['continent'] = g.country"
   ]
  },
  {
   "cell_type": "code",
   "execution_count": 28,
   "id": "substantial-wilderness",
   "metadata": {
    "execution": {
     "iopub.execute_input": "2022-03-17T00:31:47.301902Z",
     "iopub.status.busy": "2022-03-17T00:31:47.301235Z",
     "iopub.status.idle": "2022-03-17T00:31:47.302846Z",
     "shell.execute_reply": "2022-03-17T00:31:47.303279Z"
    },
    "papermill": {
     "duration": 0.036009,
     "end_time": "2022-03-17T00:31:47.303418",
     "exception": false,
     "start_time": "2022-03-17T00:31:47.267409",
     "status": "completed"
    },
    "tags": []
   },
   "outputs": [],
   "source": [
    "#hide\n",
    "# cols = list(g.columns.values)"
   ]
  },
  {
   "cell_type": "code",
   "execution_count": 29,
   "id": "solved-farming",
   "metadata": {
    "execution": {
     "iopub.execute_input": "2022-03-17T00:31:47.369130Z",
     "iopub.status.busy": "2022-03-17T00:31:47.368444Z",
     "iopub.status.idle": "2022-03-17T00:31:47.370577Z",
     "shell.execute_reply": "2022-03-17T00:31:47.370146Z"
    },
    "papermill": {
     "duration": 0.036363,
     "end_time": "2022-03-17T00:31:47.370683",
     "exception": false,
     "start_time": "2022-03-17T00:31:47.334320",
     "status": "completed"
    },
    "tags": []
   },
   "outputs": [],
   "source": [
    "#hide\n",
    "# cols.insert(0, cols.pop())"
   ]
  },
  {
   "cell_type": "code",
   "execution_count": 30,
   "id": "executed-adoption",
   "metadata": {
    "execution": {
     "iopub.execute_input": "2022-03-17T00:31:47.435886Z",
     "iopub.status.busy": "2022-03-17T00:31:47.435342Z",
     "iopub.status.idle": "2022-03-17T00:31:47.437200Z",
     "shell.execute_reply": "2022-03-17T00:31:47.437629Z"
    },
    "papermill": {
     "duration": 0.036291,
     "end_time": "2022-03-17T00:31:47.437757",
     "exception": false,
     "start_time": "2022-03-17T00:31:47.401466",
     "status": "completed"
    },
    "tags": []
   },
   "outputs": [],
   "source": [
    "#hide\n",
    "# g = g[cols]"
   ]
  },
  {
   "cell_type": "code",
   "execution_count": 31,
   "id": "subject-dublin",
   "metadata": {
    "execution": {
     "iopub.execute_input": "2022-03-17T00:31:47.502250Z",
     "iopub.status.busy": "2022-03-17T00:31:47.501726Z",
     "iopub.status.idle": "2022-03-17T00:31:47.503899Z",
     "shell.execute_reply": "2022-03-17T00:31:47.503399Z"
    },
    "papermill": {
     "duration": 0.035855,
     "end_time": "2022-03-17T00:31:47.504002",
     "exception": false,
     "start_time": "2022-03-17T00:31:47.468147",
     "status": "completed"
    },
    "tags": []
   },
   "outputs": [],
   "source": [
    "#hide\n",
    "# g['continent'] = g['continent'].map(mapping['map.continent'])"
   ]
  },
  {
   "cell_type": "code",
   "execution_count": 32,
   "id": "freelance-scout",
   "metadata": {
    "execution": {
     "iopub.execute_input": "2022-03-17T00:31:47.569570Z",
     "iopub.status.busy": "2022-03-17T00:31:47.568902Z",
     "iopub.status.idle": "2022-03-17T00:31:47.573050Z",
     "shell.execute_reply": "2022-03-17T00:31:47.572583Z"
    },
    "papermill": {
     "duration": 0.038484,
     "end_time": "2022-03-17T00:31:47.573161",
     "exception": false,
     "start_time": "2022-03-17T00:31:47.534677",
     "status": "completed"
    },
    "tags": []
   },
   "outputs": [],
   "source": [
    "#hide\n",
    "# g.head()"
   ]
  },
  {
   "cell_type": "code",
   "execution_count": 33,
   "id": "limited-engine",
   "metadata": {
    "execution": {
     "iopub.execute_input": "2022-03-17T00:31:47.637635Z",
     "iopub.status.busy": "2022-03-17T00:31:47.636999Z",
     "iopub.status.idle": "2022-03-17T00:31:47.639249Z",
     "shell.execute_reply": "2022-03-17T00:31:47.638767Z"
    },
    "papermill": {
     "duration": 0.035857,
     "end_time": "2022-03-17T00:31:47.639370",
     "exception": false,
     "start_time": "2022-03-17T00:31:47.603513",
     "status": "completed"
    },
    "tags": []
   },
   "outputs": [],
   "source": [
    "# hide\n",
    "# g['date'] = g['date'].astype('datetime64[ns]')"
   ]
  },
  {
   "cell_type": "code",
   "execution_count": 34,
   "id": "sophisticated-supervisor",
   "metadata": {
    "execution": {
     "iopub.execute_input": "2022-03-17T00:31:47.704958Z",
     "iopub.status.busy": "2022-03-17T00:31:47.704439Z",
     "iopub.status.idle": "2022-03-17T00:31:47.708932Z",
     "shell.execute_reply": "2022-03-17T00:31:47.709313Z"
    },
    "papermill": {
     "duration": 0.038509,
     "end_time": "2022-03-17T00:31:47.709459",
     "exception": false,
     "start_time": "2022-03-17T00:31:47.670950",
     "status": "completed"
    },
    "tags": []
   },
   "outputs": [],
   "source": [
    "#hide\n",
    "# g['date'] = g.date.dt.dayofyear"
   ]
  },
  {
   "cell_type": "code",
   "execution_count": 35,
   "id": "inside-dubai",
   "metadata": {
    "execution": {
     "iopub.execute_input": "2022-03-17T00:31:47.780879Z",
     "iopub.status.busy": "2022-03-17T00:31:47.780365Z",
     "iopub.status.idle": "2022-03-17T00:31:47.782499Z",
     "shell.execute_reply": "2022-03-17T00:31:47.781980Z"
    },
    "papermill": {
     "duration": 0.042327,
     "end_time": "2022-03-17T00:31:47.782609",
     "exception": false,
     "start_time": "2022-03-17T00:31:47.740282",
     "status": "completed"
    },
    "tags": []
   },
   "outputs": [],
   "source": [
    "#hide\n",
    "# g = g.rename(columns= {'continent':'group','country':'name','cases':'value'})"
   ]
  },
  {
   "cell_type": "code",
   "execution_count": 36,
   "id": "fleet-motorcycle",
   "metadata": {
    "execution": {
     "iopub.execute_input": "2022-03-17T00:31:47.902030Z",
     "iopub.status.busy": "2022-03-17T00:31:47.901322Z",
     "iopub.status.idle": "2022-03-17T00:31:47.903003Z",
     "shell.execute_reply": "2022-03-17T00:31:47.903438Z"
    },
    "papermill": {
     "duration": 0.089807,
     "end_time": "2022-03-17T00:31:47.903591",
     "exception": false,
     "start_time": "2022-03-17T00:31:47.813784",
     "status": "completed"
    },
    "tags": []
   },
   "outputs": [],
   "source": [
    "#hide\n",
    "# cols = ['name','group','day','value']"
   ]
  },
  {
   "cell_type": "code",
   "execution_count": 37,
   "id": "continued-sleeping",
   "metadata": {
    "execution": {
     "iopub.execute_input": "2022-03-17T00:31:48.103736Z",
     "iopub.status.busy": "2022-03-17T00:31:48.103168Z",
     "iopub.status.idle": "2022-03-17T00:31:48.104472Z",
     "shell.execute_reply": "2022-03-17T00:31:48.104941Z"
    },
    "papermill": {
     "duration": 0.108254,
     "end_time": "2022-03-17T00:31:48.105079",
     "exception": false,
     "start_time": "2022-03-17T00:31:47.996825",
     "status": "completed"
    },
    "tags": []
   },
   "outputs": [],
   "source": [
    "#hide\n",
    "# g.rename(columns= {'date':'day'},inplace = True)"
   ]
  },
  {
   "cell_type": "code",
   "execution_count": 38,
   "id": "major-fight",
   "metadata": {
    "execution": {
     "iopub.execute_input": "2022-03-17T00:31:48.203119Z",
     "iopub.status.busy": "2022-03-17T00:31:48.202510Z",
     "iopub.status.idle": "2022-03-17T00:31:48.206380Z",
     "shell.execute_reply": "2022-03-17T00:31:48.205908Z"
    },
    "papermill": {
     "duration": 0.068203,
     "end_time": "2022-03-17T00:31:48.206498",
     "exception": false,
     "start_time": "2022-03-17T00:31:48.138295",
     "status": "completed"
    },
    "tags": []
   },
   "outputs": [],
   "source": [
    "#hide\n",
    "# g = g[cols]"
   ]
  },
  {
   "cell_type": "code",
   "execution_count": 39,
   "id": "structured-mobile",
   "metadata": {
    "execution": {
     "iopub.execute_input": "2022-03-17T00:31:48.348635Z",
     "iopub.status.busy": "2022-03-17T00:31:48.348068Z",
     "iopub.status.idle": "2022-03-17T00:31:48.350156Z",
     "shell.execute_reply": "2022-03-17T00:31:48.349635Z"
    },
    "papermill": {
     "duration": 0.106144,
     "end_time": "2022-03-17T00:31:48.350275",
     "exception": false,
     "start_time": "2022-03-17T00:31:48.244131",
     "status": "completed"
    },
    "tags": []
   },
   "outputs": [],
   "source": [
    "# #hide\n",
    "# g = g[g.group.notna()]"
   ]
  },
  {
   "cell_type": "code",
   "execution_count": 40,
   "id": "determined-closing",
   "metadata": {
    "execution": {
     "iopub.execute_input": "2022-03-17T00:31:48.507233Z",
     "iopub.status.busy": "2022-03-17T00:31:48.506572Z",
     "iopub.status.idle": "2022-03-17T00:31:48.509347Z",
     "shell.execute_reply": "2022-03-17T00:31:48.509767Z"
    },
    "papermill": {
     "duration": 0.116692,
     "end_time": "2022-03-17T00:31:48.509903",
     "exception": false,
     "start_time": "2022-03-17T00:31:48.393211",
     "status": "completed"
    },
    "tags": []
   },
   "outputs": [],
   "source": [
    "# #hide\n",
    "# colors = dict(zip(\n",
    "#     [\"Oceania\", \"Europe\", \"Asia\", \"South America\", \"Middle East\", \"North America\", \"Africa\"],\n",
    "#     [\"#adb0ff\", \"#ffb3ff\", \"#90d595\", \"#e48381\", \"#aafbff\", \"#f7bb5f\", \"#eafb50\"]\n",
    "# ))\n",
    "# group_lk = g.set_index('name')['group'].to_dict()"
   ]
  },
  {
   "cell_type": "code",
   "execution_count": null,
   "id": "gross-drinking",
   "metadata": {
    "papermill": {
     "duration": 0.031757,
     "end_time": "2022-03-17T00:31:48.627135",
     "exception": false,
     "start_time": "2022-03-17T00:31:48.595378",
     "status": "completed"
    },
    "tags": []
   },
   "outputs": [],
   "source": []
  },
  {
   "cell_type": "code",
   "execution_count": 41,
   "id": "subject-macintosh",
   "metadata": {
    "execution": {
     "iopub.execute_input": "2022-03-17T00:31:48.692872Z",
     "iopub.status.busy": "2022-03-17T00:31:48.692305Z",
     "iopub.status.idle": "2022-03-17T00:31:48.694488Z",
     "shell.execute_reply": "2022-03-17T00:31:48.694051Z"
    },
    "papermill": {
     "duration": 0.036859,
     "end_time": "2022-03-17T00:31:48.694600",
     "exception": false,
     "start_time": "2022-03-17T00:31:48.657741",
     "status": "completed"
    },
    "tags": []
   },
   "outputs": [],
   "source": [
    "# #hide\n",
    "# fig, ax = plt.subplots(figsize=(15, 8))\n",
    "\n",
    "# def draw_barchart(current_day):\n",
    "#     dff = g[g['day'].eq(current_day)].sort_values(by='value', ascending=True).tail(10)\n",
    "#     ax.clear()\n",
    "#     ax.barh(dff['name'], dff['value'], color=[colors[group_lk[x]] for x in dff['name']])\n",
    "#     dx = dff['value'].max() / 200\n",
    "    \n",
    "#     for i, (value, name) in enumerate(zip(dff['value'], dff['name'])):\n",
    "#         ax.text(value-dx, i,     name,           size=14, weight=600, ha='right', va='bottom')\n",
    "#         ax.text(value-dx, i-.25, group_lk[name], size=10, color='#444444', ha='right', va='baseline')\n",
    "#         ax.text(value+dx, i,     f'{value:,.0f}',  size=14, ha='left',  va='center')\n",
    "#     ax.text(1, 0.4, current_day, transform=ax.transAxes, color='#777777', size=46, ha='right', weight=800)\n",
    "#     ax.text(0, 1.06, 'Population (thousands)', transform=ax.transAxes, size=12, color='#777777')\n",
    "#     ax.xaxis.set_major_formatter(ticker.StrMethodFormatter('{x:,.0f}'))\n",
    "#     ax.xaxis.set_ticks_position('top')\n",
    "#     ax.tick_params(axis='x', colors='#777777', labelsize=12)\n",
    "#     ax.set_yticks([])\n",
    "#     ax.margins(0, 0.01)\n",
    "#     ax.grid(which='major', axis='x', linestyle='-')\n",
    "#     ax.set_axisbelow(True)\n",
    "    \n",
    "#     ax.text(0, 1.15, 'Coronavirus',\n",
    "#             transform=ax.transAxes, size=24, weight=600, ha='left', va='top')\n",
    "# #     ax.text(1, 0, 'by @pratapvardhan; credit @jburnmurdoch', transform=ax.transAxes, color='#777777', ha='right',\n",
    "# #             bbox=dict(facecolor='white', alpha=0.8, edgecolor='white'))\n",
    "#     plt.box(False)"
   ]
  },
  {
   "cell_type": "code",
   "execution_count": 42,
   "id": "sexual-wages",
   "metadata": {
    "execution": {
     "iopub.execute_input": "2022-03-17T00:31:48.759140Z",
     "iopub.status.busy": "2022-03-17T00:31:48.758548Z",
     "iopub.status.idle": "2022-03-17T00:31:48.761927Z",
     "shell.execute_reply": "2022-03-17T00:31:48.762308Z"
    },
    "papermill": {
     "duration": 0.037296,
     "end_time": "2022-03-17T00:31:48.762434",
     "exception": false,
     "start_time": "2022-03-17T00:31:48.725138",
     "status": "completed"
    },
    "tags": []
   },
   "outputs": [],
   "source": [
    "# #hide_input\n",
    "# fig, ax = plt.subplots(figsize=(15, 8))\n",
    "# animator = animation.FuncAnimation(fig, draw_barchart, frames=range(g.day.values.min(), g.day.values.max()))\n",
    "# HTML(animator.to_jshtml())\n",
    "# # or use animator.to_html5_video() or animator.save() "
   ]
  },
  {
   "cell_type": "code",
   "execution_count": null,
   "id": "australian-container",
   "metadata": {
    "papermill": {
     "duration": 0.030699,
     "end_time": "2022-03-17T00:31:48.823744",
     "exception": false,
     "start_time": "2022-03-17T00:31:48.793045",
     "status": "completed"
    },
    "tags": []
   },
   "outputs": [],
   "source": []
  },
  {
   "cell_type": "code",
   "execution_count": null,
   "id": "mediterranean-pontiac",
   "metadata": {
    "papermill": {
     "duration": 0.030315,
     "end_time": "2022-03-17T00:31:48.884322",
     "exception": false,
     "start_time": "2022-03-17T00:31:48.854007",
     "status": "completed"
    },
    "tags": []
   },
   "outputs": [],
   "source": []
  },
  {
   "cell_type": "code",
   "execution_count": null,
   "id": "aging-legislature",
   "metadata": {
    "papermill": {
     "duration": 0.030086,
     "end_time": "2022-03-17T00:31:48.944939",
     "exception": false,
     "start_time": "2022-03-17T00:31:48.914853",
     "status": "completed"
    },
    "tags": []
   },
   "outputs": [],
   "source": []
  }
 ],
 "metadata": {
  "kernelspec": {
   "display_name": "Python 3",
   "language": "python",
   "name": "python3"
  },
  "language_info": {
   "codemirror_mode": {
    "name": "ipython",
    "version": 3
   },
   "file_extension": ".py",
   "mimetype": "text/x-python",
   "name": "python",
   "nbconvert_exporter": "python",
   "pygments_lexer": "ipython3",
   "version": "3.6.15"
  },
  "papermill": {
   "duration": 6.284771,
   "end_time": "2022-03-17T00:31:49.293969",
   "environment_variables": {},
   "exception": null,
   "input_path": "2020-03-21-covid19exp.ipynb",
   "output_path": "2020-03-21-covid19exp.ipynb",
   "parameters": {},
   "start_time": "2022-03-17T00:31:43.009198",
   "version": "2.0.0"
  }
 },
 "nbformat": 4,
 "nbformat_minor": 5
}