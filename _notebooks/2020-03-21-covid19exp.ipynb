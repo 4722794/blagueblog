{
 "cells": [
  {
   "cell_type": "markdown",
   "id": "muslim-click",
   "metadata": {
    "papermill": {
     "duration": 0.042246,
     "end_time": "2021-05-26T12:15:18.090777",
     "exception": false,
     "start_time": "2021-05-26T12:15:18.048531",
     "status": "completed"
    },
    "tags": []
   },
   "source": [
    "# COVID-19 Case Race\n",
    "> A race chart to see rising cases around the world\n",
    "\n",
    "- author: Hargun Oberoi\n",
    "- image: images/covid-overview.png\n",
    "- hide: false\n",
    "- badges: false"
   ]
  },
  {
   "cell_type": "code",
   "execution_count": 1,
   "id": "proof-material",
   "metadata": {
    "execution": {
     "iopub.execute_input": "2021-05-26T12:15:18.179590Z",
     "iopub.status.busy": "2021-05-26T12:15:18.178806Z",
     "iopub.status.idle": "2021-05-26T12:15:18.578032Z",
     "shell.execute_reply": "2021-05-26T12:15:18.577317Z"
    },
    "papermill": {
     "duration": 0.44814,
     "end_time": "2021-05-26T12:15:18.578181",
     "exception": false,
     "start_time": "2021-05-26T12:15:18.130041",
     "status": "completed"
    },
    "tags": []
   },
   "outputs": [],
   "source": [
    "#hide\n",
    "import numpy as np\n",
    "import pandas as pd\n",
    "from jinja2 import Template\n",
    "from IPython.display import HTML"
   ]
  },
  {
   "cell_type": "code",
   "execution_count": 2,
   "id": "developed-terminology",
   "metadata": {
    "execution": {
     "iopub.execute_input": "2021-05-26T12:15:18.656450Z",
     "iopub.status.busy": "2021-05-26T12:15:18.655808Z",
     "iopub.status.idle": "2021-05-26T12:15:18.658050Z",
     "shell.execute_reply": "2021-05-26T12:15:18.657400Z"
    },
    "papermill": {
     "duration": 0.042094,
     "end_time": "2021-05-26T12:15:18.658160",
     "exception": false,
     "start_time": "2021-05-26T12:15:18.616066",
     "status": "completed"
    },
    "tags": []
   },
   "outputs": [],
   "source": [
    "#hide\n",
    "\n",
    "# FETCH\n",
    "base_url = 'https://raw.githubusercontent.com/pratapvardhan/notebooks/master/covid19/'\n",
    "paths = {\n",
    "    'mapping': base_url + 'mapping_countries.csv',\n",
    "    'overview': base_url + 'overview.tpl'\n",
    "}"
   ]
  },
  {
   "cell_type": "code",
   "execution_count": 3,
   "id": "dynamic-saver",
   "metadata": {
    "execution": {
     "iopub.execute_input": "2021-05-26T12:15:18.740495Z",
     "iopub.status.busy": "2021-05-26T12:15:18.737434Z",
     "iopub.status.idle": "2021-05-26T12:15:18.743889Z",
     "shell.execute_reply": "2021-05-26T12:15:18.743424Z"
    },
    "papermill": {
     "duration": 0.049707,
     "end_time": "2021-05-26T12:15:18.743991",
     "exception": false,
     "start_time": "2021-05-26T12:15:18.694284",
     "status": "completed"
    },
    "tags": []
   },
   "outputs": [
    {
     "data": {
      "text/plain": [
       "'https://raw.githubusercontent.com/pratapvardhan/notebooks/master/covid19/mapping_countries.csv'"
      ]
     },
     "execution_count": 3,
     "metadata": {},
     "output_type": "execute_result"
    }
   ],
   "source": [
    "#hide\n",
    "paths['mapping']"
   ]
  },
  {
   "cell_type": "code",
   "execution_count": 4,
   "id": "urban-software",
   "metadata": {
    "execution": {
     "iopub.execute_input": "2021-05-26T12:15:18.824480Z",
     "iopub.status.busy": "2021-05-26T12:15:18.823891Z",
     "iopub.status.idle": "2021-05-26T12:15:18.826254Z",
     "shell.execute_reply": "2021-05-26T12:15:18.825755Z"
    },
    "papermill": {
     "duration": 0.043778,
     "end_time": "2021-05-26T12:15:18.826414",
     "exception": false,
     "start_time": "2021-05-26T12:15:18.782636",
     "status": "completed"
    },
    "tags": []
   },
   "outputs": [],
   "source": [
    "#hide\n",
    "def get_mappings(url):\n",
    "    df = pd.read_csv(url)\n",
    "    return {\n",
    "        'df': df,\n",
    "        'replace.country': dict(df.dropna(subset=['Name']).set_index('Country')['Name']),\n",
    "        'map.continent': dict(df.set_index('Name')['Continent'])\n",
    "    }"
   ]
  },
  {
   "cell_type": "code",
   "execution_count": 5,
   "id": "intimate-machinery",
   "metadata": {
    "execution": {
     "iopub.execute_input": "2021-05-26T12:15:18.907485Z",
     "iopub.status.busy": "2021-05-26T12:15:18.906772Z",
     "iopub.status.idle": "2021-05-26T12:15:18.944626Z",
     "shell.execute_reply": "2021-05-26T12:15:18.945101Z"
    },
    "papermill": {
     "duration": 0.080655,
     "end_time": "2021-05-26T12:15:18.945254",
     "exception": false,
     "start_time": "2021-05-26T12:15:18.864599",
     "status": "completed"
    },
    "tags": []
   },
   "outputs": [],
   "source": [
    "#hide\n",
    "mapping = get_mappings(paths['mapping'])"
   ]
  },
  {
   "cell_type": "code",
   "execution_count": 6,
   "id": "certified-tactics",
   "metadata": {
    "execution": {
     "iopub.execute_input": "2021-05-26T12:15:19.018156Z",
     "iopub.status.busy": "2021-05-26T12:15:19.017476Z",
     "iopub.status.idle": "2021-05-26T12:15:19.020341Z",
     "shell.execute_reply": "2021-05-26T12:15:19.019832Z"
    },
    "papermill": {
     "duration": 0.040606,
     "end_time": "2021-05-26T12:15:19.020497",
     "exception": false,
     "start_time": "2021-05-26T12:15:18.979891",
     "status": "completed"
    },
    "tags": []
   },
   "outputs": [],
   "source": [
    "#hide\n",
    "def get_template(path):\n",
    "    from urllib.parse import urlparse\n",
    "    if bool(urlparse(path).netloc):\n",
    "        from urllib.request import urlopen\n",
    "        return urlopen(path).read().decode('utf8')\n",
    "    return open(path).read()"
   ]
  },
  {
   "cell_type": "code",
   "execution_count": 7,
   "id": "realistic-blast",
   "metadata": {
    "execution": {
     "iopub.execute_input": "2021-05-26T12:15:19.098315Z",
     "iopub.status.busy": "2021-05-26T12:15:19.097543Z",
     "iopub.status.idle": "2021-05-26T12:15:19.100481Z",
     "shell.execute_reply": "2021-05-26T12:15:19.099619Z"
    },
    "papermill": {
     "duration": 0.044935,
     "end_time": "2021-05-26T12:15:19.100721",
     "exception": false,
     "start_time": "2021-05-26T12:15:19.055786",
     "status": "completed"
    },
    "tags": []
   },
   "outputs": [],
   "source": [
    "#hide\n",
    "def get_frame(name):\n",
    "    url = (\n",
    "        'https://raw.githubusercontent.com/CSSEGISandData/COVID-19/master/csse_covid_19_data/'\n",
    "        f'csse_covid_19_time_series/time_series_covid19_{name}_global.csv')\n",
    "    df = pd.read_csv(url)\n",
    "    # rename countries\n",
    "    df['Country/Region'] = df['Country/Region'].replace(mapping['replace.country'])\n",
    "    return df"
   ]
  },
  {
   "cell_type": "code",
   "execution_count": 8,
   "id": "affiliated-characterization",
   "metadata": {
    "execution": {
     "iopub.execute_input": "2021-05-26T12:15:19.180390Z",
     "iopub.status.busy": "2021-05-26T12:15:19.179583Z",
     "iopub.status.idle": "2021-05-26T12:15:19.181334Z",
     "shell.execute_reply": "2021-05-26T12:15:19.181965Z"
    },
    "papermill": {
     "duration": 0.045183,
     "end_time": "2021-05-26T12:15:19.182114",
     "exception": false,
     "start_time": "2021-05-26T12:15:19.136931",
     "status": "completed"
    },
    "tags": []
   },
   "outputs": [],
   "source": [
    "#hide\n",
    "def get_dates(df):\n",
    "    dt_cols = df.columns[~df.columns.isin(['Province/State', 'Country/Region', 'Lat', 'Long'])]\n",
    "    LAST_DATE_I = -1\n",
    "    # sometimes last column may be empty, then go backwards\n",
    "    for i in range(-1, -len(dt_cols), -1):\n",
    "        if not df[dt_cols[i]].fillna(0).eq(0).all():\n",
    "            LAST_DATE_I = i\n",
    "            break\n",
    "    return LAST_DATE_I, dt_cols"
   ]
  },
  {
   "cell_type": "code",
   "execution_count": 9,
   "id": "recent-optimization",
   "metadata": {
    "execution": {
     "iopub.execute_input": "2021-05-26T12:15:19.261806Z",
     "iopub.status.busy": "2021-05-26T12:15:19.261037Z",
     "iopub.status.idle": "2021-05-26T12:15:19.620248Z",
     "shell.execute_reply": "2021-05-26T12:15:19.619693Z"
    },
    "papermill": {
     "duration": 0.401907,
     "end_time": "2021-05-26T12:15:19.620387",
     "exception": false,
     "start_time": "2021-05-26T12:15:19.218480",
     "status": "completed"
    },
    "tags": []
   },
   "outputs": [],
   "source": [
    "#hide\n",
    "COL_REGION = 'Country/Region'\n",
    "# Confirmed, Recovered, Deaths\n",
    "df = get_frame('confirmed')\n",
    "# dft_: timeseries, dfc_: today country agg\n",
    "dft_cases = df\n",
    "dft_deaths = get_frame('deaths')\n",
    "dft_recovered = get_frame('recovered')\n",
    "LAST_DATE_I, dt_cols = get_dates(df)"
   ]
  },
  {
   "cell_type": "code",
   "execution_count": 10,
   "id": "absolute-copper",
   "metadata": {
    "execution": {
     "iopub.execute_input": "2021-05-26T12:15:19.702795Z",
     "iopub.status.busy": "2021-05-26T12:15:19.702210Z",
     "iopub.status.idle": "2021-05-26T12:15:19.704112Z",
     "shell.execute_reply": "2021-05-26T12:15:19.704644Z"
    },
    "papermill": {
     "duration": 0.047168,
     "end_time": "2021-05-26T12:15:19.704767",
     "exception": false,
     "start_time": "2021-05-26T12:15:19.657599",
     "status": "completed"
    },
    "tags": []
   },
   "outputs": [],
   "source": [
    "#hide\n",
    "LAST_DATE_I, dt_cols = get_dates(df)\n",
    "dt_today =dt_cols[LAST_DATE_I]\n",
    "# dt_5day = dt_cols[LAST_DATE_I - 5]\n",
    "dt_yday = dt_cols[LAST_DATE_I - 1]"
   ]
  },
  {
   "cell_type": "code",
   "execution_count": 11,
   "id": "restricted-sheriff",
   "metadata": {
    "execution": {
     "iopub.execute_input": "2021-05-26T12:15:19.785030Z",
     "iopub.status.busy": "2021-05-26T12:15:19.784431Z",
     "iopub.status.idle": "2021-05-26T12:15:19.792479Z",
     "shell.execute_reply": "2021-05-26T12:15:19.791891Z"
    },
    "papermill": {
     "duration": 0.051358,
     "end_time": "2021-05-26T12:15:19.792620",
     "exception": false,
     "start_time": "2021-05-26T12:15:19.741262",
     "status": "completed"
    },
    "tags": []
   },
   "outputs": [],
   "source": [
    "#hide\n",
    "dfc_cases = dft_cases.groupby(COL_REGION)[dt_today].sum()\n",
    "dfc_deaths = dft_deaths.groupby(COL_REGION)[dt_today].sum()\n",
    "# dfp_cases = dft_cases.groupby(COL_REGION)[dt_5day].sum()\n",
    "# dfp_deaths = dft_deaths.groupby(COL_REGION)[dt_5day].sum()\n",
    "dfp_cases = dft_cases.groupby(COL_REGION)[dt_yday].sum()\n",
    "dfp_deaths = dft_deaths.groupby(COL_REGION)[dt_yday].sum()"
   ]
  },
  {
   "cell_type": "code",
   "execution_count": 12,
   "id": "deluxe-hepatitis",
   "metadata": {
    "execution": {
     "iopub.execute_input": "2021-05-26T12:15:19.871544Z",
     "iopub.status.busy": "2021-05-26T12:15:19.870983Z",
     "iopub.status.idle": "2021-05-26T12:15:19.875494Z",
     "shell.execute_reply": "2021-05-26T12:15:19.875965Z"
    },
    "papermill": {
     "duration": 0.049406,
     "end_time": "2021-05-26T12:15:19.876090",
     "exception": false,
     "start_time": "2021-05-26T12:15:19.826684",
     "status": "completed"
    },
    "tags": []
   },
   "outputs": [],
   "source": [
    "#hide\n",
    "df_table = (pd.DataFrame(dict(Cases = dfc_cases, Deaths = dfc_deaths, PCases = dfp_cases, PDeaths = dfp_deaths))\n",
    "            .sort_values(by = ['Cases','Deaths'], ascending = [False, False])\n",
    "            .reset_index())"
   ]
  },
  {
   "cell_type": "code",
   "execution_count": 13,
   "id": "educational-chancellor",
   "metadata": {
    "execution": {
     "iopub.execute_input": "2021-05-26T12:15:19.971774Z",
     "iopub.status.busy": "2021-05-26T12:15:19.971182Z",
     "iopub.status.idle": "2021-05-26T12:15:19.979565Z",
     "shell.execute_reply": "2021-05-26T12:15:19.980067Z"
    },
    "papermill": {
     "duration": 0.067491,
     "end_time": "2021-05-26T12:15:19.980187",
     "exception": false,
     "start_time": "2021-05-26T12:15:19.912696",
     "status": "completed"
    },
    "tags": []
   },
   "outputs": [
    {
     "data": {
      "text/html": [
       "<div>\n",
       "<style scoped>\n",
       "    .dataframe tbody tr th:only-of-type {\n",
       "        vertical-align: middle;\n",
       "    }\n",
       "\n",
       "    .dataframe tbody tr th {\n",
       "        vertical-align: top;\n",
       "    }\n",
       "\n",
       "    .dataframe thead th {\n",
       "        text-align: right;\n",
       "    }\n",
       "</style>\n",
       "<table border=\"1\" class=\"dataframe\">\n",
       "  <thead>\n",
       "    <tr style=\"text-align: right;\">\n",
       "      <th></th>\n",
       "      <th>Country/Region</th>\n",
       "      <th>Cases</th>\n",
       "      <th>Deaths</th>\n",
       "      <th>PCases</th>\n",
       "      <th>PDeaths</th>\n",
       "      <th>Cases (+)</th>\n",
       "      <th>Deaths (+)</th>\n",
       "      <th>Fatality Rate</th>\n",
       "      <th>Continent</th>\n",
       "    </tr>\n",
       "  </thead>\n",
       "  <tbody>\n",
       "    <tr>\n",
       "      <th>0</th>\n",
       "      <td>US</td>\n",
       "      <td>33166418</td>\n",
       "      <td>590941</td>\n",
       "      <td>33143662</td>\n",
       "      <td>590320</td>\n",
       "      <td>22756</td>\n",
       "      <td>621</td>\n",
       "      <td>1.78</td>\n",
       "      <td>North America</td>\n",
       "    </tr>\n",
       "    <tr>\n",
       "      <th>1</th>\n",
       "      <td>India</td>\n",
       "      <td>27157795</td>\n",
       "      <td>311388</td>\n",
       "      <td>26948874</td>\n",
       "      <td>307231</td>\n",
       "      <td>208921</td>\n",
       "      <td>4157</td>\n",
       "      <td>1.15</td>\n",
       "      <td>Asia</td>\n",
       "    </tr>\n",
       "    <tr>\n",
       "      <th>2</th>\n",
       "      <td>Brazil</td>\n",
       "      <td>16194209</td>\n",
       "      <td>452031</td>\n",
       "      <td>16120756</td>\n",
       "      <td>449858</td>\n",
       "      <td>73453</td>\n",
       "      <td>2173</td>\n",
       "      <td>2.79</td>\n",
       "      <td>South America</td>\n",
       "    </tr>\n",
       "    <tr>\n",
       "      <th>3</th>\n",
       "      <td>France</td>\n",
       "      <td>5670486</td>\n",
       "      <td>109040</td>\n",
       "      <td>5667331</td>\n",
       "      <td>108819</td>\n",
       "      <td>3155</td>\n",
       "      <td>221</td>\n",
       "      <td>1.92</td>\n",
       "      <td>Europe</td>\n",
       "    </tr>\n",
       "    <tr>\n",
       "      <th>4</th>\n",
       "      <td>Turkey</td>\n",
       "      <td>5203385</td>\n",
       "      <td>46621</td>\n",
       "      <td>5194010</td>\n",
       "      <td>46446</td>\n",
       "      <td>9375</td>\n",
       "      <td>175</td>\n",
       "      <td>0.90</td>\n",
       "      <td>Asia</td>\n",
       "    </tr>\n",
       "  </tbody>\n",
       "</table>\n",
       "</div>"
      ],
      "text/plain": [
       "  Country/Region     Cases  Deaths    PCases  PDeaths  Cases (+)  Deaths (+)  \\\n",
       "0             US  33166418  590941  33143662   590320      22756         621   \n",
       "1          India  27157795  311388  26948874   307231     208921        4157   \n",
       "2         Brazil  16194209  452031  16120756   449858      73453        2173   \n",
       "3         France   5670486  109040   5667331   108819       3155         221   \n",
       "4         Turkey   5203385   46621   5194010    46446       9375         175   \n",
       "\n",
       "   Fatality Rate      Continent  \n",
       "0           1.78  North America  \n",
       "1           1.15           Asia  \n",
       "2           2.79  South America  \n",
       "3           1.92         Europe  \n",
       "4           0.90           Asia  "
      ]
     },
     "execution_count": 13,
     "metadata": {},
     "output_type": "execute_result"
    }
   ],
   "source": [
    "#hide\n",
    "for c in 'Cases, Deaths'.split(', '):\n",
    "    df_table[f'{c} (+)'] = (df_table[c] - df_table[f'P{c}']).clip(0)\n",
    "    #Clip ça veut dire, les chiffres negatif sont interdit\n",
    "df_table['Fatality Rate'] = (100* df_table['Deaths']/ df_table['Cases']).round(2)\n",
    "df_table['Continent'] = df_table['Country/Region'].map(mapping['map.continent'])\n",
    "df_table.head(5)"
   ]
  },
  {
   "cell_type": "code",
   "execution_count": 14,
   "id": "aboriginal-bulgaria",
   "metadata": {
    "execution": {
     "iopub.execute_input": "2021-05-26T12:15:20.058724Z",
     "iopub.status.busy": "2021-05-26T12:15:20.058106Z",
     "iopub.status.idle": "2021-05-26T12:15:20.060364Z",
     "shell.execute_reply": "2021-05-26T12:15:20.060980Z"
    },
    "papermill": {
     "duration": 0.04492,
     "end_time": "2021-05-26T12:15:20.061122",
     "exception": false,
     "start_time": "2021-05-26T12:15:20.016202",
     "status": "completed"
    },
    "tags": []
   },
   "outputs": [],
   "source": [
    "#hide\n",
    "#delete problematic countries from table\n",
    "df_table = df_table[~df_table['Country/Region'].isin(['Cape Verde', 'Cruise Ship', 'Kosovo'])]"
   ]
  },
  {
   "cell_type": "code",
   "execution_count": 15,
   "id": "fantastic-effect",
   "metadata": {
    "execution": {
     "iopub.execute_input": "2021-05-26T12:15:20.149377Z",
     "iopub.status.busy": "2021-05-26T12:15:20.148592Z",
     "iopub.status.idle": "2021-05-26T12:15:20.176473Z",
     "shell.execute_reply": "2021-05-26T12:15:20.175970Z"
    },
    "papermill": {
     "duration": 0.074069,
     "end_time": "2021-05-26T12:15:20.176617",
     "exception": false,
     "start_time": "2021-05-26T12:15:20.102548",
     "status": "completed"
    },
    "tags": []
   },
   "outputs": [
    {
     "data": {
      "text/html": [
       "<div>\n",
       "<style scoped>\n",
       "    .dataframe tbody tr th:only-of-type {\n",
       "        vertical-align: middle;\n",
       "    }\n",
       "\n",
       "    .dataframe tbody tr th {\n",
       "        vertical-align: top;\n",
       "    }\n",
       "\n",
       "    .dataframe thead th {\n",
       "        text-align: right;\n",
       "    }\n",
       "</style>\n",
       "<table border=\"1\" class=\"dataframe\">\n",
       "  <thead>\n",
       "    <tr style=\"text-align: right;\">\n",
       "      <th></th>\n",
       "      <th>Country/Region</th>\n",
       "      <th>Cases</th>\n",
       "      <th>Deaths</th>\n",
       "      <th>PCases</th>\n",
       "      <th>PDeaths</th>\n",
       "      <th>Cases (+)</th>\n",
       "      <th>Deaths (+)</th>\n",
       "      <th>Fatality Rate</th>\n",
       "      <th>Continent</th>\n",
       "    </tr>\n",
       "  </thead>\n",
       "  <tbody>\n",
       "    <tr>\n",
       "      <th>0</th>\n",
       "      <td>US</td>\n",
       "      <td>33166418</td>\n",
       "      <td>590941</td>\n",
       "      <td>33143662</td>\n",
       "      <td>590320</td>\n",
       "      <td>22756</td>\n",
       "      <td>621</td>\n",
       "      <td>1.8</td>\n",
       "      <td>North America</td>\n",
       "    </tr>\n",
       "    <tr>\n",
       "      <th>1</th>\n",
       "      <td>India</td>\n",
       "      <td>27157795</td>\n",
       "      <td>311388</td>\n",
       "      <td>26948874</td>\n",
       "      <td>307231</td>\n",
       "      <td>208921</td>\n",
       "      <td>4157</td>\n",
       "      <td>1.1</td>\n",
       "      <td>Asia</td>\n",
       "    </tr>\n",
       "    <tr>\n",
       "      <th>2</th>\n",
       "      <td>Brazil</td>\n",
       "      <td>16194209</td>\n",
       "      <td>452031</td>\n",
       "      <td>16120756</td>\n",
       "      <td>449858</td>\n",
       "      <td>73453</td>\n",
       "      <td>2173</td>\n",
       "      <td>2.8</td>\n",
       "      <td>South America</td>\n",
       "    </tr>\n",
       "    <tr>\n",
       "      <th>3</th>\n",
       "      <td>France</td>\n",
       "      <td>5670486</td>\n",
       "      <td>109040</td>\n",
       "      <td>5667331</td>\n",
       "      <td>108819</td>\n",
       "      <td>3155</td>\n",
       "      <td>221</td>\n",
       "      <td>1.9</td>\n",
       "      <td>Europe</td>\n",
       "    </tr>\n",
       "    <tr>\n",
       "      <th>4</th>\n",
       "      <td>Turkey</td>\n",
       "      <td>5203385</td>\n",
       "      <td>46621</td>\n",
       "      <td>5194010</td>\n",
       "      <td>46446</td>\n",
       "      <td>9375</td>\n",
       "      <td>175</td>\n",
       "      <td>0.9</td>\n",
       "      <td>Asia</td>\n",
       "    </tr>\n",
       "  </tbody>\n",
       "</table>\n",
       "</div>"
      ],
      "text/plain": [
       "  Country/Region     Cases  Deaths    PCases  PDeaths  Cases (+)  Deaths (+)  \\\n",
       "0             US  33166418  590941  33143662   590320      22756         621   \n",
       "1          India  27157795  311388  26948874   307231     208921        4157   \n",
       "2         Brazil  16194209  452031  16120756   449858      73453        2173   \n",
       "3         France   5670486  109040   5667331   108819       3155         221   \n",
       "4         Turkey   5203385   46621   5194010    46446       9375         175   \n",
       "\n",
       "   Fatality Rate      Continent  \n",
       "0            1.8  North America  \n",
       "1            1.1           Asia  \n",
       "2            2.8  South America  \n",
       "3            1.9         Europe  \n",
       "4            0.9           Asia  "
      ]
     },
     "execution_count": 15,
     "metadata": {},
     "output_type": "execute_result"
    }
   ],
   "source": [
    "#hide\n",
    "df_table = (pd.DataFrame(dict(Cases=dfc_cases, Deaths=dfc_deaths, PCases=dfp_cases, PDeaths=dfp_deaths))\n",
    "             .sort_values(by=['Cases', 'Deaths'], ascending=[False, False])\n",
    "             .reset_index())\n",
    "df_table.rename(columns={'index': 'Country/Region'}, inplace=True)\n",
    "for c in 'Cases, Deaths'.split(', '):\n",
    "    df_table[f'{c} (+)'] = (df_table[c] - df_table[f'P{c}']).clip(0)  # DATA BUG\n",
    "df_table['Fatality Rate'] = (100 * df_table['Deaths'] / df_table['Cases']).round(1)\n",
    "df_table['Continent'] = df_table['Country/Region'].map(mapping['map.continent'])\n",
    "df_table.head(5)"
   ]
  },
  {
   "cell_type": "code",
   "execution_count": 16,
   "id": "fewer-occasion",
   "metadata": {
    "execution": {
     "iopub.execute_input": "2021-05-26T12:15:20.262441Z",
     "iopub.status.busy": "2021-05-26T12:15:20.261774Z",
     "iopub.status.idle": "2021-05-26T12:15:20.265123Z",
     "shell.execute_reply": "2021-05-26T12:15:20.265636Z"
    },
    "papermill": {
     "duration": 0.050934,
     "end_time": "2021-05-26T12:15:20.265793",
     "exception": false,
     "start_time": "2021-05-26T12:15:20.214859",
     "status": "completed"
    },
    "tags": []
   },
   "outputs": [],
   "source": [
    "#hide\n",
    "#delete problematic countries from table\n",
    "df_table = df_table[~df_table['Country/Region'].isin(['Cape Verde', 'Cruise Ship', 'Kosovo'])]"
   ]
  },
  {
   "cell_type": "code",
   "execution_count": 17,
   "id": "related-center",
   "metadata": {
    "execution": {
     "iopub.execute_input": "2021-05-26T12:15:20.350663Z",
     "iopub.status.busy": "2021-05-26T12:15:20.349670Z",
     "iopub.status.idle": "2021-05-26T12:15:20.367281Z",
     "shell.execute_reply": "2021-05-26T12:15:20.366627Z"
    },
    "papermill": {
     "duration": 0.06302,
     "end_time": "2021-05-26T12:15:20.367427",
     "exception": false,
     "start_time": "2021-05-26T12:15:20.304407",
     "status": "completed"
    },
    "tags": []
   },
   "outputs": [],
   "source": [
    "#hide\n",
    "metrics = [df_table.columns[index] for index in [1,2,5,6]]\n",
    "# s_china = df_table[df_table['Country/Region'].eq('China')][metrics].sum().add_prefix('China ')\n",
    "s_us = df_table[df_table['Country/Region'].eq('US')][metrics].sum().add_prefix('US ')\n",
    "s_eu = df_table[df_table['Continent'].eq('Europe')][metrics].sum().add_prefix('EU ')\n",
    "s_ind = df_table[df_table['Country/Region'].eq('India')][metrics].sum().add_prefix('India ')\n",
    "summary = {'updated': pd.to_datetime(dt_today), 'since': pd.to_datetime(dt_yday)}\n",
    "summary = {'updated': pd.to_datetime(dt_today), 'since': pd.to_datetime(dt_yday)}\n",
    "summary = {**summary, **df_table[metrics].sum(), **s_ind, **s_us, **s_eu}"
   ]
  },
  {
   "cell_type": "code",
   "execution_count": 18,
   "id": "engaging-syndrome",
   "metadata": {
    "execution": {
     "iopub.execute_input": "2021-05-26T12:15:20.457632Z",
     "iopub.status.busy": "2021-05-26T12:15:20.456945Z",
     "iopub.status.idle": "2021-05-26T12:15:20.473006Z",
     "shell.execute_reply": "2021-05-26T12:15:20.470965Z"
    },
    "papermill": {
     "duration": 0.062902,
     "end_time": "2021-05-26T12:15:20.473160",
     "exception": false,
     "start_time": "2021-05-26T12:15:20.410258",
     "status": "completed"
    },
    "tags": []
   },
   "outputs": [],
   "source": [
    "#hide\n",
    "dft_ct_new_cases = dft_cases.groupby(COL_REGION)[dt_cols].sum().diff(axis=1).fillna(0).astype(int)"
   ]
  },
  {
   "cell_type": "code",
   "execution_count": 19,
   "id": "neutral-assignment",
   "metadata": {
    "execution": {
     "iopub.execute_input": "2021-05-26T12:15:20.559813Z",
     "iopub.status.busy": "2021-05-26T12:15:20.559137Z",
     "iopub.status.idle": "2021-05-26T12:15:20.561795Z",
     "shell.execute_reply": "2021-05-26T12:15:20.562434Z"
    },
    "papermill": {
     "duration": 0.046419,
     "end_time": "2021-05-26T12:15:20.562580",
     "exception": false,
     "start_time": "2021-05-26T12:15:20.516161",
     "status": "completed"
    },
    "tags": []
   },
   "outputs": [],
   "source": [
    "#hide\n",
    "everydaycases = dft_ct_new_cases.cumsum(axis=1)"
   ]
  },
  {
   "cell_type": "code",
   "execution_count": 20,
   "id": "parliamentary-calgary",
   "metadata": {
    "execution": {
     "iopub.execute_input": "2021-05-26T12:15:20.640383Z",
     "iopub.status.busy": "2021-05-26T12:15:20.639747Z",
     "iopub.status.idle": "2021-05-26T12:15:21.256250Z",
     "shell.execute_reply": "2021-05-26T12:15:21.255741Z"
    },
    "papermill": {
     "duration": 0.655865,
     "end_time": "2021-05-26T12:15:21.256383",
     "exception": false,
     "start_time": "2021-05-26T12:15:20.600518",
     "status": "completed"
    },
    "tags": []
   },
   "outputs": [],
   "source": [
    "#hide\n",
    "import pandas as pd\n",
    "import matplotlib.pyplot as plt\n",
    "import matplotlib.ticker as ticker\n",
    "import matplotlib.animation as animation\n",
    "from IPython.display import HTML"
   ]
  },
  {
   "cell_type": "code",
   "execution_count": 21,
   "id": "lasting-extraction",
   "metadata": {
    "execution": {
     "iopub.execute_input": "2021-05-26T12:15:21.333588Z",
     "iopub.status.busy": "2021-05-26T12:15:21.333039Z",
     "iopub.status.idle": "2021-05-26T12:15:21.338090Z",
     "shell.execute_reply": "2021-05-26T12:15:21.338977Z"
    },
    "papermill": {
     "duration": 0.045802,
     "end_time": "2021-05-26T12:15:21.339127",
     "exception": false,
     "start_time": "2021-05-26T12:15:21.293325",
     "status": "completed"
    },
    "tags": []
   },
   "outputs": [],
   "source": [
    "#hide\n",
    "t = everydaycases.stack()"
   ]
  },
  {
   "cell_type": "code",
   "execution_count": 22,
   "id": "premier-sleeve",
   "metadata": {
    "execution": {
     "iopub.execute_input": "2021-05-26T12:15:21.415800Z",
     "iopub.status.busy": "2021-05-26T12:15:21.415137Z",
     "iopub.status.idle": "2021-05-26T12:15:21.422498Z",
     "shell.execute_reply": "2021-05-26T12:15:21.423070Z"
    },
    "papermill": {
     "duration": 0.049935,
     "end_time": "2021-05-26T12:15:21.423187",
     "exception": false,
     "start_time": "2021-05-26T12:15:21.373252",
     "status": "completed"
    },
    "tags": []
   },
   "outputs": [],
   "source": [
    "#hide\n",
    "g = t.reset_index(['Country/Region'])"
   ]
  },
  {
   "cell_type": "code",
   "execution_count": 23,
   "id": "distributed-pittsburgh",
   "metadata": {
    "execution": {
     "iopub.execute_input": "2021-05-26T12:15:21.505884Z",
     "iopub.status.busy": "2021-05-26T12:15:21.505023Z",
     "iopub.status.idle": "2021-05-26T12:15:21.507837Z",
     "shell.execute_reply": "2021-05-26T12:15:21.507305Z"
    },
    "papermill": {
     "duration": 0.048062,
     "end_time": "2021-05-26T12:15:21.507946",
     "exception": false,
     "start_time": "2021-05-26T12:15:21.459884",
     "status": "completed"
    },
    "tags": []
   },
   "outputs": [],
   "source": [
    "#hide\n",
    "g.index.name = 'date'"
   ]
  },
  {
   "cell_type": "code",
   "execution_count": 24,
   "id": "naked-donor",
   "metadata": {
    "execution": {
     "iopub.execute_input": "2021-05-26T12:15:21.587405Z",
     "iopub.status.busy": "2021-05-26T12:15:21.586251Z",
     "iopub.status.idle": "2021-05-26T12:15:21.592211Z",
     "shell.execute_reply": "2021-05-26T12:15:21.592774Z"
    },
    "papermill": {
     "duration": 0.047248,
     "end_time": "2021-05-26T12:15:21.592896",
     "exception": false,
     "start_time": "2021-05-26T12:15:21.545648",
     "status": "completed"
    },
    "tags": []
   },
   "outputs": [],
   "source": [
    "# #hide\n",
    "# g = g.reset_index(['date'])"
   ]
  },
  {
   "cell_type": "code",
   "execution_count": 25,
   "id": "incomplete-mustang",
   "metadata": {
    "execution": {
     "iopub.execute_input": "2021-05-26T12:15:21.671081Z",
     "iopub.status.busy": "2021-05-26T12:15:21.670437Z",
     "iopub.status.idle": "2021-05-26T12:15:21.672432Z",
     "shell.execute_reply": "2021-05-26T12:15:21.672896Z"
    },
    "papermill": {
     "duration": 0.042163,
     "end_time": "2021-05-26T12:15:21.673012",
     "exception": false,
     "start_time": "2021-05-26T12:15:21.630849",
     "status": "completed"
    },
    "tags": []
   },
   "outputs": [],
   "source": [
    "#hide\n",
    "# g.head()"
   ]
  },
  {
   "cell_type": "code",
   "execution_count": 26,
   "id": "specific-kruger",
   "metadata": {
    "execution": {
     "iopub.execute_input": "2021-05-26T12:15:21.751896Z",
     "iopub.status.busy": "2021-05-26T12:15:21.751172Z",
     "iopub.status.idle": "2021-05-26T12:15:21.753827Z",
     "shell.execute_reply": "2021-05-26T12:15:21.753342Z"
    },
    "papermill": {
     "duration": 0.042169,
     "end_time": "2021-05-26T12:15:21.753939",
     "exception": false,
     "start_time": "2021-05-26T12:15:21.711770",
     "status": "completed"
    },
    "tags": []
   },
   "outputs": [],
   "source": [
    "#hide\n",
    "# g.columns = ['date','country','cases']"
   ]
  },
  {
   "cell_type": "code",
   "execution_count": 27,
   "id": "tender-conversion",
   "metadata": {
    "execution": {
     "iopub.execute_input": "2021-05-26T12:15:21.830208Z",
     "iopub.status.busy": "2021-05-26T12:15:21.829585Z",
     "iopub.status.idle": "2021-05-26T12:15:21.832477Z",
     "shell.execute_reply": "2021-05-26T12:15:21.832025Z"
    },
    "papermill": {
     "duration": 0.043704,
     "end_time": "2021-05-26T12:15:21.832618",
     "exception": false,
     "start_time": "2021-05-26T12:15:21.788914",
     "status": "completed"
    },
    "tags": []
   },
   "outputs": [],
   "source": [
    "#hide\n",
    "# g['continent'] = g.country"
   ]
  },
  {
   "cell_type": "code",
   "execution_count": 28,
   "id": "substantial-wilderness",
   "metadata": {
    "execution": {
     "iopub.execute_input": "2021-05-26T12:15:21.907840Z",
     "iopub.status.busy": "2021-05-26T12:15:21.907243Z",
     "iopub.status.idle": "2021-05-26T12:15:21.909511Z",
     "shell.execute_reply": "2021-05-26T12:15:21.909086Z"
    },
    "papermill": {
     "duration": 0.042541,
     "end_time": "2021-05-26T12:15:21.909608",
     "exception": false,
     "start_time": "2021-05-26T12:15:21.867067",
     "status": "completed"
    },
    "tags": []
   },
   "outputs": [],
   "source": [
    "#hide\n",
    "# cols = list(g.columns.values)"
   ]
  },
  {
   "cell_type": "code",
   "execution_count": 29,
   "id": "solved-farming",
   "metadata": {
    "execution": {
     "iopub.execute_input": "2021-05-26T12:15:21.984557Z",
     "iopub.status.busy": "2021-05-26T12:15:21.983844Z",
     "iopub.status.idle": "2021-05-26T12:15:21.985799Z",
     "shell.execute_reply": "2021-05-26T12:15:21.986216Z"
    },
    "papermill": {
     "duration": 0.042409,
     "end_time": "2021-05-26T12:15:21.986337",
     "exception": false,
     "start_time": "2021-05-26T12:15:21.943928",
     "status": "completed"
    },
    "tags": []
   },
   "outputs": [],
   "source": [
    "#hide\n",
    "# cols.insert(0, cols.pop())"
   ]
  },
  {
   "cell_type": "code",
   "execution_count": 30,
   "id": "executed-adoption",
   "metadata": {
    "execution": {
     "iopub.execute_input": "2021-05-26T12:15:22.064430Z",
     "iopub.status.busy": "2021-05-26T12:15:22.063792Z",
     "iopub.status.idle": "2021-05-26T12:15:22.066497Z",
     "shell.execute_reply": "2021-05-26T12:15:22.066015Z"
    },
    "papermill": {
     "duration": 0.042701,
     "end_time": "2021-05-26T12:15:22.066643",
     "exception": false,
     "start_time": "2021-05-26T12:15:22.023942",
     "status": "completed"
    },
    "tags": []
   },
   "outputs": [],
   "source": [
    "#hide\n",
    "# g = g[cols]"
   ]
  },
  {
   "cell_type": "code",
   "execution_count": 31,
   "id": "subject-dublin",
   "metadata": {
    "execution": {
     "iopub.execute_input": "2021-05-26T12:15:22.144116Z",
     "iopub.status.busy": "2021-05-26T12:15:22.143364Z",
     "iopub.status.idle": "2021-05-26T12:15:22.145621Z",
     "shell.execute_reply": "2021-05-26T12:15:22.146056Z"
    },
    "papermill": {
     "duration": 0.042407,
     "end_time": "2021-05-26T12:15:22.146177",
     "exception": false,
     "start_time": "2021-05-26T12:15:22.103770",
     "status": "completed"
    },
    "tags": []
   },
   "outputs": [],
   "source": [
    "#hide\n",
    "# g['continent'] = g['continent'].map(mapping['map.continent'])"
   ]
  },
  {
   "cell_type": "code",
   "execution_count": 32,
   "id": "freelance-scout",
   "metadata": {
    "execution": {
     "iopub.execute_input": "2021-05-26T12:15:22.224110Z",
     "iopub.status.busy": "2021-05-26T12:15:22.223513Z",
     "iopub.status.idle": "2021-05-26T12:15:22.225583Z",
     "shell.execute_reply": "2021-05-26T12:15:22.226033Z"
    },
    "papermill": {
     "duration": 0.043815,
     "end_time": "2021-05-26T12:15:22.226176",
     "exception": false,
     "start_time": "2021-05-26T12:15:22.182361",
     "status": "completed"
    },
    "tags": []
   },
   "outputs": [],
   "source": [
    "#hide\n",
    "# g.head()"
   ]
  },
  {
   "cell_type": "code",
   "execution_count": 33,
   "id": "limited-engine",
   "metadata": {
    "execution": {
     "iopub.execute_input": "2021-05-26T12:15:22.303271Z",
     "iopub.status.busy": "2021-05-26T12:15:22.302503Z",
     "iopub.status.idle": "2021-05-26T12:15:22.304273Z",
     "shell.execute_reply": "2021-05-26T12:15:22.304774Z"
    },
    "papermill": {
     "duration": 0.042151,
     "end_time": "2021-05-26T12:15:22.304891",
     "exception": false,
     "start_time": "2021-05-26T12:15:22.262740",
     "status": "completed"
    },
    "tags": []
   },
   "outputs": [],
   "source": [
    "# hide\n",
    "# g['date'] = g['date'].astype('datetime64[ns]')"
   ]
  },
  {
   "cell_type": "code",
   "execution_count": 34,
   "id": "sophisticated-supervisor",
   "metadata": {
    "execution": {
     "iopub.execute_input": "2021-05-26T12:15:22.385951Z",
     "iopub.status.busy": "2021-05-26T12:15:22.385103Z",
     "iopub.status.idle": "2021-05-26T12:15:22.388008Z",
     "shell.execute_reply": "2021-05-26T12:15:22.387243Z"
    },
    "papermill": {
     "duration": 0.048585,
     "end_time": "2021-05-26T12:15:22.388173",
     "exception": false,
     "start_time": "2021-05-26T12:15:22.339588",
     "status": "completed"
    },
    "tags": []
   },
   "outputs": [],
   "source": [
    "#hide\n",
    "# g['date'] = g.date.dt.dayofyear"
   ]
  },
  {
   "cell_type": "code",
   "execution_count": 35,
   "id": "inside-dubai",
   "metadata": {
    "execution": {
     "iopub.execute_input": "2021-05-26T12:15:22.469201Z",
     "iopub.status.busy": "2021-05-26T12:15:22.468650Z",
     "iopub.status.idle": "2021-05-26T12:15:22.470787Z",
     "shell.execute_reply": "2021-05-26T12:15:22.471234Z"
    },
    "papermill": {
     "duration": 0.043513,
     "end_time": "2021-05-26T12:15:22.471355",
     "exception": false,
     "start_time": "2021-05-26T12:15:22.427842",
     "status": "completed"
    },
    "tags": []
   },
   "outputs": [],
   "source": [
    "#hide\n",
    "# g = g.rename(columns= {'continent':'group','country':'name','cases':'value'})"
   ]
  },
  {
   "cell_type": "code",
   "execution_count": 36,
   "id": "fleet-motorcycle",
   "metadata": {
    "execution": {
     "iopub.execute_input": "2021-05-26T12:15:22.555584Z",
     "iopub.status.busy": "2021-05-26T12:15:22.554986Z",
     "iopub.status.idle": "2021-05-26T12:15:22.557145Z",
     "shell.execute_reply": "2021-05-26T12:15:22.556442Z"
    },
    "papermill": {
     "duration": 0.045488,
     "end_time": "2021-05-26T12:15:22.557780",
     "exception": false,
     "start_time": "2021-05-26T12:15:22.512292",
     "status": "completed"
    },
    "tags": []
   },
   "outputs": [],
   "source": [
    "#hide\n",
    "# cols = ['name','group','day','value']"
   ]
  },
  {
   "cell_type": "code",
   "execution_count": 37,
   "id": "continued-sleeping",
   "metadata": {
    "execution": {
     "iopub.execute_input": "2021-05-26T12:15:22.649477Z",
     "iopub.status.busy": "2021-05-26T12:15:22.648796Z",
     "iopub.status.idle": "2021-05-26T12:15:22.651239Z",
     "shell.execute_reply": "2021-05-26T12:15:22.651738Z"
    },
    "papermill": {
     "duration": 0.041259,
     "end_time": "2021-05-26T12:15:22.651865",
     "exception": false,
     "start_time": "2021-05-26T12:15:22.610606",
     "status": "completed"
    },
    "tags": []
   },
   "outputs": [],
   "source": [
    "#hide\n",
    "# g.rename(columns= {'date':'day'},inplace = True)"
   ]
  },
  {
   "cell_type": "code",
   "execution_count": 38,
   "id": "major-fight",
   "metadata": {
    "execution": {
     "iopub.execute_input": "2021-05-26T12:15:22.728455Z",
     "iopub.status.busy": "2021-05-26T12:15:22.727874Z",
     "iopub.status.idle": "2021-05-26T12:15:22.730076Z",
     "shell.execute_reply": "2021-05-26T12:15:22.730516Z"
    },
    "papermill": {
     "duration": 0.042822,
     "end_time": "2021-05-26T12:15:22.730643",
     "exception": false,
     "start_time": "2021-05-26T12:15:22.687821",
     "status": "completed"
    },
    "tags": []
   },
   "outputs": [],
   "source": [
    "#hide\n",
    "# g = g[cols]"
   ]
  },
  {
   "cell_type": "code",
   "execution_count": 39,
   "id": "structured-mobile",
   "metadata": {
    "execution": {
     "iopub.execute_input": "2021-05-26T12:15:22.806131Z",
     "iopub.status.busy": "2021-05-26T12:15:22.805536Z",
     "iopub.status.idle": "2021-05-26T12:15:22.807729Z",
     "shell.execute_reply": "2021-05-26T12:15:22.808275Z"
    },
    "papermill": {
     "duration": 0.042075,
     "end_time": "2021-05-26T12:15:22.808435",
     "exception": false,
     "start_time": "2021-05-26T12:15:22.766360",
     "status": "completed"
    },
    "tags": []
   },
   "outputs": [],
   "source": [
    "# #hide\n",
    "# g = g[g.group.notna()]"
   ]
  },
  {
   "cell_type": "code",
   "execution_count": 40,
   "id": "determined-closing",
   "metadata": {
    "execution": {
     "iopub.execute_input": "2021-05-26T12:15:22.887148Z",
     "iopub.status.busy": "2021-05-26T12:15:22.886432Z",
     "iopub.status.idle": "2021-05-26T12:15:22.888411Z",
     "shell.execute_reply": "2021-05-26T12:15:22.888875Z"
    },
    "papermill": {
     "duration": 0.042738,
     "end_time": "2021-05-26T12:15:22.888997",
     "exception": false,
     "start_time": "2021-05-26T12:15:22.846259",
     "status": "completed"
    },
    "tags": []
   },
   "outputs": [],
   "source": [
    "# #hide\n",
    "# colors = dict(zip(\n",
    "#     [\"Oceania\", \"Europe\", \"Asia\", \"South America\", \"Middle East\", \"North America\", \"Africa\"],\n",
    "#     [\"#adb0ff\", \"#ffb3ff\", \"#90d595\", \"#e48381\", \"#aafbff\", \"#f7bb5f\", \"#eafb50\"]\n",
    "# ))\n",
    "# group_lk = g.set_index('name')['group'].to_dict()"
   ]
  },
  {
   "cell_type": "code",
   "execution_count": null,
   "id": "gross-drinking",
   "metadata": {
    "papermill": {
     "duration": 0.035988,
     "end_time": "2021-05-26T12:15:22.965739",
     "exception": false,
     "start_time": "2021-05-26T12:15:22.929751",
     "status": "completed"
    },
    "tags": []
   },
   "outputs": [],
   "source": []
  },
  {
   "cell_type": "code",
   "execution_count": 41,
   "id": "subject-macintosh",
   "metadata": {
    "execution": {
     "iopub.execute_input": "2021-05-26T12:15:23.052365Z",
     "iopub.status.busy": "2021-05-26T12:15:23.051553Z",
     "iopub.status.idle": "2021-05-26T12:15:23.053701Z",
     "shell.execute_reply": "2021-05-26T12:15:23.054221Z"
    },
    "papermill": {
     "duration": 0.043511,
     "end_time": "2021-05-26T12:15:23.054382",
     "exception": false,
     "start_time": "2021-05-26T12:15:23.010871",
     "status": "completed"
    },
    "tags": []
   },
   "outputs": [],
   "source": [
    "# #hide\n",
    "# fig, ax = plt.subplots(figsize=(15, 8))\n",
    "\n",
    "# def draw_barchart(current_day):\n",
    "#     dff = g[g['day'].eq(current_day)].sort_values(by='value', ascending=True).tail(10)\n",
    "#     ax.clear()\n",
    "#     ax.barh(dff['name'], dff['value'], color=[colors[group_lk[x]] for x in dff['name']])\n",
    "#     dx = dff['value'].max() / 200\n",
    "    \n",
    "#     for i, (value, name) in enumerate(zip(dff['value'], dff['name'])):\n",
    "#         ax.text(value-dx, i,     name,           size=14, weight=600, ha='right', va='bottom')\n",
    "#         ax.text(value-dx, i-.25, group_lk[name], size=10, color='#444444', ha='right', va='baseline')\n",
    "#         ax.text(value+dx, i,     f'{value:,.0f}',  size=14, ha='left',  va='center')\n",
    "#     ax.text(1, 0.4, current_day, transform=ax.transAxes, color='#777777', size=46, ha='right', weight=800)\n",
    "#     ax.text(0, 1.06, 'Population (thousands)', transform=ax.transAxes, size=12, color='#777777')\n",
    "#     ax.xaxis.set_major_formatter(ticker.StrMethodFormatter('{x:,.0f}'))\n",
    "#     ax.xaxis.set_ticks_position('top')\n",
    "#     ax.tick_params(axis='x', colors='#777777', labelsize=12)\n",
    "#     ax.set_yticks([])\n",
    "#     ax.margins(0, 0.01)\n",
    "#     ax.grid(which='major', axis='x', linestyle='-')\n",
    "#     ax.set_axisbelow(True)\n",
    "    \n",
    "#     ax.text(0, 1.15, 'Coronavirus',\n",
    "#             transform=ax.transAxes, size=24, weight=600, ha='left', va='top')\n",
    "# #     ax.text(1, 0, 'by @pratapvardhan; credit @jburnmurdoch', transform=ax.transAxes, color='#777777', ha='right',\n",
    "# #             bbox=dict(facecolor='white', alpha=0.8, edgecolor='white'))\n",
    "#     plt.box(False)"
   ]
  },
  {
   "cell_type": "code",
   "execution_count": 42,
   "id": "sexual-wages",
   "metadata": {
    "execution": {
     "iopub.execute_input": "2021-05-26T12:15:23.136080Z",
     "iopub.status.busy": "2021-05-26T12:15:23.135434Z",
     "iopub.status.idle": "2021-05-26T12:15:23.137184Z",
     "shell.execute_reply": "2021-05-26T12:15:23.137660Z"
    },
    "papermill": {
     "duration": 0.046155,
     "end_time": "2021-05-26T12:15:23.137786",
     "exception": false,
     "start_time": "2021-05-26T12:15:23.091631",
     "status": "completed"
    },
    "tags": []
   },
   "outputs": [],
   "source": [
    "# #hide_input\n",
    "# fig, ax = plt.subplots(figsize=(15, 8))\n",
    "# animator = animation.FuncAnimation(fig, draw_barchart, frames=range(g.day.values.min(), g.day.values.max()))\n",
    "# HTML(animator.to_jshtml())\n",
    "# # or use animator.to_html5_video() or animator.save() "
   ]
  },
  {
   "cell_type": "code",
   "execution_count": null,
   "id": "australian-container",
   "metadata": {
    "papermill": {
     "duration": 0.038097,
     "end_time": "2021-05-26T12:15:23.214344",
     "exception": false,
     "start_time": "2021-05-26T12:15:23.176247",
     "status": "completed"
    },
    "tags": []
   },
   "outputs": [],
   "source": []
  },
  {
   "cell_type": "code",
   "execution_count": null,
   "id": "mediterranean-pontiac",
   "metadata": {
    "papermill": {
     "duration": 0.038801,
     "end_time": "2021-05-26T12:15:23.290320",
     "exception": false,
     "start_time": "2021-05-26T12:15:23.251519",
     "status": "completed"
    },
    "tags": []
   },
   "outputs": [],
   "source": []
  },
  {
   "cell_type": "code",
   "execution_count": null,
   "id": "aging-legislature",
   "metadata": {
    "papermill": {
     "duration": 0.035934,
     "end_time": "2021-05-26T12:15:23.363109",
     "exception": false,
     "start_time": "2021-05-26T12:15:23.327175",
     "status": "completed"
    },
    "tags": []
   },
   "outputs": [],
   "source": []
  }
 ],
 "metadata": {
  "kernelspec": {
   "display_name": "Python 3",
   "language": "python",
   "name": "python3"
  },
  "language_info": {
   "codemirror_mode": {
    "name": "ipython",
    "version": 3
   },
   "file_extension": ".py",
   "mimetype": "text/x-python",
   "name": "python",
   "nbconvert_exporter": "python",
   "pygments_lexer": "ipython3",
   "version": "3.6.13"
  },
  "papermill": {
   "duration": 6.753036,
   "end_time": "2021-05-26T12:15:23.706009",
   "environment_variables": {},
   "exception": null,
   "input_path": "2020-03-21-covid19exp.ipynb",
   "output_path": "2020-03-21-covid19exp.ipynb",
   "parameters": {},
   "start_time": "2021-05-26T12:15:16.952973",
   "version": "2.0.0"
  }
 },
 "nbformat": 4,
 "nbformat_minor": 5
}