{
 "cells": [
  {
   "cell_type": "markdown",
   "id": "muslim-click",
   "metadata": {
    "papermill": {
     "duration": 0.037828,
     "end_time": "2021-08-31T00:21:24.160338",
     "exception": false,
     "start_time": "2021-08-31T00:21:24.122510",
     "status": "completed"
    },
    "tags": []
   },
   "source": [
    "# COVID-19 Case Race\n",
    "> A race chart to see rising cases around the world\n",
    "\n",
    "- author: Hargun Oberoi\n",
    "- image: images/covid-overview.png\n",
    "- hide: false\n",
    "- badges: false"
   ]
  },
  {
   "cell_type": "code",
   "execution_count": 1,
   "id": "proof-material",
   "metadata": {
    "execution": {
     "iopub.execute_input": "2021-08-31T00:21:24.242934Z",
     "iopub.status.busy": "2021-08-31T00:21:24.237216Z",
     "iopub.status.idle": "2021-08-31T00:21:24.644007Z",
     "shell.execute_reply": "2021-08-31T00:21:24.642959Z"
    },
    "papermill": {
     "duration": 0.446682,
     "end_time": "2021-08-31T00:21:24.644163",
     "exception": false,
     "start_time": "2021-08-31T00:21:24.197481",
     "status": "completed"
    },
    "tags": []
   },
   "outputs": [],
   "source": [
    "#hide\n",
    "import numpy as np\n",
    "import pandas as pd\n",
    "from jinja2 import Template\n",
    "from IPython.display import HTML"
   ]
  },
  {
   "cell_type": "code",
   "execution_count": 2,
   "id": "developed-terminology",
   "metadata": {
    "execution": {
     "iopub.execute_input": "2021-08-31T00:21:24.713182Z",
     "iopub.status.busy": "2021-08-31T00:21:24.712606Z",
     "iopub.status.idle": "2021-08-31T00:21:24.715475Z",
     "shell.execute_reply": "2021-08-31T00:21:24.715055Z"
    },
    "papermill": {
     "duration": 0.039754,
     "end_time": "2021-08-31T00:21:24.715580",
     "exception": false,
     "start_time": "2021-08-31T00:21:24.675826",
     "status": "completed"
    },
    "tags": []
   },
   "outputs": [],
   "source": [
    "#hide\n",
    "\n",
    "# FETCH\n",
    "base_url = 'https://raw.githubusercontent.com/pratapvardhan/notebooks/master/covid19/'\n",
    "paths = {\n",
    "    'mapping': base_url + 'mapping_countries.csv',\n",
    "    'overview': base_url + 'overview.tpl'\n",
    "}"
   ]
  },
  {
   "cell_type": "code",
   "execution_count": 3,
   "id": "dynamic-saver",
   "metadata": {
    "execution": {
     "iopub.execute_input": "2021-08-31T00:21:24.786092Z",
     "iopub.status.busy": "2021-08-31T00:21:24.785276Z",
     "iopub.status.idle": "2021-08-31T00:21:24.787503Z",
     "shell.execute_reply": "2021-08-31T00:21:24.787932Z"
    },
    "papermill": {
     "duration": 0.04317,
     "end_time": "2021-08-31T00:21:24.788058",
     "exception": false,
     "start_time": "2021-08-31T00:21:24.744888",
     "status": "completed"
    },
    "tags": []
   },
   "outputs": [
    {
     "data": {
      "text/plain": [
       "'https://raw.githubusercontent.com/pratapvardhan/notebooks/master/covid19/mapping_countries.csv'"
      ]
     },
     "execution_count": 3,
     "metadata": {},
     "output_type": "execute_result"
    }
   ],
   "source": [
    "#hide\n",
    "paths['mapping']"
   ]
  },
  {
   "cell_type": "code",
   "execution_count": 4,
   "id": "urban-software",
   "metadata": {
    "execution": {
     "iopub.execute_input": "2021-08-31T00:21:24.858696Z",
     "iopub.status.busy": "2021-08-31T00:21:24.858144Z",
     "iopub.status.idle": "2021-08-31T00:21:24.860543Z",
     "shell.execute_reply": "2021-08-31T00:21:24.860043Z"
    },
    "papermill": {
     "duration": 0.041443,
     "end_time": "2021-08-31T00:21:24.860665",
     "exception": false,
     "start_time": "2021-08-31T00:21:24.819222",
     "status": "completed"
    },
    "tags": []
   },
   "outputs": [],
   "source": [
    "#hide\n",
    "def get_mappings(url):\n",
    "    df = pd.read_csv(url)\n",
    "    return {\n",
    "        'df': df,\n",
    "        'replace.country': dict(df.dropna(subset=['Name']).set_index('Country')['Name']),\n",
    "        'map.continent': dict(df.set_index('Name')['Continent'])\n",
    "    }"
   ]
  },
  {
   "cell_type": "code",
   "execution_count": 5,
   "id": "intimate-machinery",
   "metadata": {
    "execution": {
     "iopub.execute_input": "2021-08-31T00:21:24.929103Z",
     "iopub.status.busy": "2021-08-31T00:21:24.928539Z",
     "iopub.status.idle": "2021-08-31T00:21:24.956519Z",
     "shell.execute_reply": "2021-08-31T00:21:24.955570Z"
    },
    "papermill": {
     "duration": 0.063901,
     "end_time": "2021-08-31T00:21:24.956636",
     "exception": false,
     "start_time": "2021-08-31T00:21:24.892735",
     "status": "completed"
    },
    "tags": []
   },
   "outputs": [],
   "source": [
    "#hide\n",
    "mapping = get_mappings(paths['mapping'])"
   ]
  },
  {
   "cell_type": "code",
   "execution_count": 6,
   "id": "certified-tactics",
   "metadata": {
    "execution": {
     "iopub.execute_input": "2021-08-31T00:21:25.044403Z",
     "iopub.status.busy": "2021-08-31T00:21:25.043577Z",
     "iopub.status.idle": "2021-08-31T00:21:25.045252Z",
     "shell.execute_reply": "2021-08-31T00:21:25.045843Z"
    },
    "papermill": {
     "duration": 0.056034,
     "end_time": "2021-08-31T00:21:25.045982",
     "exception": false,
     "start_time": "2021-08-31T00:21:24.989948",
     "status": "completed"
    },
    "tags": []
   },
   "outputs": [],
   "source": [
    "#hide\n",
    "def get_template(path):\n",
    "    from urllib.parse import urlparse\n",
    "    if bool(urlparse(path).netloc):\n",
    "        from urllib.request import urlopen\n",
    "        return urlopen(path).read().decode('utf8')\n",
    "    return open(path).read()"
   ]
  },
  {
   "cell_type": "code",
   "execution_count": 7,
   "id": "realistic-blast",
   "metadata": {
    "execution": {
     "iopub.execute_input": "2021-08-31T00:21:25.122320Z",
     "iopub.status.busy": "2021-08-31T00:21:25.121759Z",
     "iopub.status.idle": "2021-08-31T00:21:25.124181Z",
     "shell.execute_reply": "2021-08-31T00:21:25.124667Z"
    },
    "papermill": {
     "duration": 0.040678,
     "end_time": "2021-08-31T00:21:25.124813",
     "exception": false,
     "start_time": "2021-08-31T00:21:25.084135",
     "status": "completed"
    },
    "tags": []
   },
   "outputs": [],
   "source": [
    "#hide\n",
    "def get_frame(name):\n",
    "    url = (\n",
    "        'https://raw.githubusercontent.com/CSSEGISandData/COVID-19/master/csse_covid_19_data/'\n",
    "        f'csse_covid_19_time_series/time_series_covid19_{name}_global.csv')\n",
    "    df = pd.read_csv(url)\n",
    "    # rename countries\n",
    "    df['Country/Region'] = df['Country/Region'].replace(mapping['replace.country'])\n",
    "    return df"
   ]
  },
  {
   "cell_type": "code",
   "execution_count": 8,
   "id": "affiliated-characterization",
   "metadata": {
    "execution": {
     "iopub.execute_input": "2021-08-31T00:21:25.196952Z",
     "iopub.status.busy": "2021-08-31T00:21:25.196366Z",
     "iopub.status.idle": "2021-08-31T00:21:25.198146Z",
     "shell.execute_reply": "2021-08-31T00:21:25.198586Z"
    },
    "papermill": {
     "duration": 0.041223,
     "end_time": "2021-08-31T00:21:25.198729",
     "exception": false,
     "start_time": "2021-08-31T00:21:25.157506",
     "status": "completed"
    },
    "tags": []
   },
   "outputs": [],
   "source": [
    "#hide\n",
    "def get_dates(df):\n",
    "    dt_cols = df.columns[~df.columns.isin(['Province/State', 'Country/Region', 'Lat', 'Long'])]\n",
    "    LAST_DATE_I = -1\n",
    "    # sometimes last column may be empty, then go backwards\n",
    "    for i in range(-1, -len(dt_cols), -1):\n",
    "        if not df[dt_cols[i]].fillna(0).eq(0).all():\n",
    "            LAST_DATE_I = i\n",
    "            break\n",
    "    return LAST_DATE_I, dt_cols"
   ]
  },
  {
   "cell_type": "code",
   "execution_count": 9,
   "id": "recent-optimization",
   "metadata": {
    "execution": {
     "iopub.execute_input": "2021-08-31T00:21:25.274730Z",
     "iopub.status.busy": "2021-08-31T00:21:25.274137Z",
     "iopub.status.idle": "2021-08-31T00:21:25.559063Z",
     "shell.execute_reply": "2021-08-31T00:21:25.557947Z"
    },
    "papermill": {
     "duration": 0.324183,
     "end_time": "2021-08-31T00:21:25.559206",
     "exception": false,
     "start_time": "2021-08-31T00:21:25.235023",
     "status": "completed"
    },
    "tags": []
   },
   "outputs": [],
   "source": [
    "#hide\n",
    "COL_REGION = 'Country/Region'\n",
    "# Confirmed, Recovered, Deaths\n",
    "df = get_frame('confirmed')\n",
    "# dft_: timeseries, dfc_: today country agg\n",
    "dft_cases = df\n",
    "dft_deaths = get_frame('deaths')\n",
    "dft_recovered = get_frame('recovered')\n",
    "LAST_DATE_I, dt_cols = get_dates(df)"
   ]
  },
  {
   "cell_type": "code",
   "execution_count": 10,
   "id": "absolute-copper",
   "metadata": {
    "execution": {
     "iopub.execute_input": "2021-08-31T00:21:25.630187Z",
     "iopub.status.busy": "2021-08-31T00:21:25.629589Z",
     "iopub.status.idle": "2021-08-31T00:21:25.631301Z",
     "shell.execute_reply": "2021-08-31T00:21:25.630845Z"
    },
    "papermill": {
     "duration": 0.039552,
     "end_time": "2021-08-31T00:21:25.631424",
     "exception": false,
     "start_time": "2021-08-31T00:21:25.591872",
     "status": "completed"
    },
    "tags": []
   },
   "outputs": [],
   "source": [
    "#hide\n",
    "LAST_DATE_I, dt_cols = get_dates(df)\n",
    "dt_today =dt_cols[LAST_DATE_I]\n",
    "# dt_5day = dt_cols[LAST_DATE_I - 5]\n",
    "dt_yday = dt_cols[LAST_DATE_I - 1]"
   ]
  },
  {
   "cell_type": "code",
   "execution_count": 11,
   "id": "restricted-sheriff",
   "metadata": {
    "execution": {
     "iopub.execute_input": "2021-08-31T00:21:25.702603Z",
     "iopub.status.busy": "2021-08-31T00:21:25.702053Z",
     "iopub.status.idle": "2021-08-31T00:21:25.709265Z",
     "shell.execute_reply": "2021-08-31T00:21:25.709704Z"
    },
    "papermill": {
     "duration": 0.046517,
     "end_time": "2021-08-31T00:21:25.709834",
     "exception": false,
     "start_time": "2021-08-31T00:21:25.663317",
     "status": "completed"
    },
    "tags": []
   },
   "outputs": [],
   "source": [
    "#hide\n",
    "dfc_cases = dft_cases.groupby(COL_REGION)[dt_today].sum()\n",
    "dfc_deaths = dft_deaths.groupby(COL_REGION)[dt_today].sum()\n",
    "# dfp_cases = dft_cases.groupby(COL_REGION)[dt_5day].sum()\n",
    "# dfp_deaths = dft_deaths.groupby(COL_REGION)[dt_5day].sum()\n",
    "dfp_cases = dft_cases.groupby(COL_REGION)[dt_yday].sum()\n",
    "dfp_deaths = dft_deaths.groupby(COL_REGION)[dt_yday].sum()"
   ]
  },
  {
   "cell_type": "code",
   "execution_count": 12,
   "id": "deluxe-hepatitis",
   "metadata": {
    "execution": {
     "iopub.execute_input": "2021-08-31T00:21:25.781952Z",
     "iopub.status.busy": "2021-08-31T00:21:25.781348Z",
     "iopub.status.idle": "2021-08-31T00:21:25.786377Z",
     "shell.execute_reply": "2021-08-31T00:21:25.785917Z"
    },
    "papermill": {
     "duration": 0.044471,
     "end_time": "2021-08-31T00:21:25.786488",
     "exception": false,
     "start_time": "2021-08-31T00:21:25.742017",
     "status": "completed"
    },
    "tags": []
   },
   "outputs": [],
   "source": [
    "#hide\n",
    "df_table = (pd.DataFrame(dict(Cases = dfc_cases, Deaths = dfc_deaths, PCases = dfp_cases, PDeaths = dfp_deaths))\n",
    "            .sort_values(by = ['Cases','Deaths'], ascending = [False, False])\n",
    "            .reset_index())"
   ]
  },
  {
   "cell_type": "code",
   "execution_count": 13,
   "id": "educational-chancellor",
   "metadata": {
    "execution": {
     "iopub.execute_input": "2021-08-31T00:21:25.868813Z",
     "iopub.status.busy": "2021-08-31T00:21:25.868237Z",
     "iopub.status.idle": "2021-08-31T00:21:25.876606Z",
     "shell.execute_reply": "2021-08-31T00:21:25.876138Z"
    },
    "papermill": {
     "duration": 0.057751,
     "end_time": "2021-08-31T00:21:25.876725",
     "exception": false,
     "start_time": "2021-08-31T00:21:25.818974",
     "status": "completed"
    },
    "tags": []
   },
   "outputs": [
    {
     "data": {
      "text/html": [
       "<div>\n",
       "<style scoped>\n",
       "    .dataframe tbody tr th:only-of-type {\n",
       "        vertical-align: middle;\n",
       "    }\n",
       "\n",
       "    .dataframe tbody tr th {\n",
       "        vertical-align: top;\n",
       "    }\n",
       "\n",
       "    .dataframe thead th {\n",
       "        text-align: right;\n",
       "    }\n",
       "</style>\n",
       "<table border=\"1\" class=\"dataframe\">\n",
       "  <thead>\n",
       "    <tr style=\"text-align: right;\">\n",
       "      <th></th>\n",
       "      <th>Country/Region</th>\n",
       "      <th>Cases</th>\n",
       "      <th>Deaths</th>\n",
       "      <th>PCases</th>\n",
       "      <th>PDeaths</th>\n",
       "      <th>Cases (+)</th>\n",
       "      <th>Deaths (+)</th>\n",
       "      <th>Fatality Rate</th>\n",
       "      <th>Continent</th>\n",
       "    </tr>\n",
       "  </thead>\n",
       "  <tbody>\n",
       "    <tr>\n",
       "      <th>0</th>\n",
       "      <td>US</td>\n",
       "      <td>38798836</td>\n",
       "      <td>637539</td>\n",
       "      <td>38760363</td>\n",
       "      <td>637254</td>\n",
       "      <td>38473</td>\n",
       "      <td>285</td>\n",
       "      <td>1.64</td>\n",
       "      <td>North America</td>\n",
       "    </tr>\n",
       "    <tr>\n",
       "      <th>1</th>\n",
       "      <td>India</td>\n",
       "      <td>32737939</td>\n",
       "      <td>438210</td>\n",
       "      <td>32695030</td>\n",
       "      <td>437830</td>\n",
       "      <td>42909</td>\n",
       "      <td>380</td>\n",
       "      <td>1.34</td>\n",
       "      <td>Asia</td>\n",
       "    </tr>\n",
       "    <tr>\n",
       "      <th>2</th>\n",
       "      <td>Brazil</td>\n",
       "      <td>20741815</td>\n",
       "      <td>579308</td>\n",
       "      <td>20728605</td>\n",
       "      <td>579010</td>\n",
       "      <td>13210</td>\n",
       "      <td>298</td>\n",
       "      <td>2.79</td>\n",
       "      <td>South America</td>\n",
       "    </tr>\n",
       "    <tr>\n",
       "      <th>3</th>\n",
       "      <td>France</td>\n",
       "      <td>6827146</td>\n",
       "      <td>114506</td>\n",
       "      <td>6813516</td>\n",
       "      <td>114453</td>\n",
       "      <td>13630</td>\n",
       "      <td>53</td>\n",
       "      <td>1.68</td>\n",
       "      <td>Europe</td>\n",
       "    </tr>\n",
       "    <tr>\n",
       "      <th>4</th>\n",
       "      <td>Russia</td>\n",
       "      <td>6785465</td>\n",
       "      <td>178457</td>\n",
       "      <td>6766667</td>\n",
       "      <td>177679</td>\n",
       "      <td>18798</td>\n",
       "      <td>778</td>\n",
       "      <td>2.63</td>\n",
       "      <td>Europe</td>\n",
       "    </tr>\n",
       "  </tbody>\n",
       "</table>\n",
       "</div>"
      ],
      "text/plain": [
       "  Country/Region     Cases  Deaths    PCases  PDeaths  Cases (+)  Deaths (+)  \\\n",
       "0             US  38798836  637539  38760363   637254      38473         285   \n",
       "1          India  32737939  438210  32695030   437830      42909         380   \n",
       "2         Brazil  20741815  579308  20728605   579010      13210         298   \n",
       "3         France   6827146  114506   6813516   114453      13630          53   \n",
       "4         Russia   6785465  178457   6766667   177679      18798         778   \n",
       "\n",
       "   Fatality Rate      Continent  \n",
       "0           1.64  North America  \n",
       "1           1.34           Asia  \n",
       "2           2.79  South America  \n",
       "3           1.68         Europe  \n",
       "4           2.63         Europe  "
      ]
     },
     "execution_count": 13,
     "metadata": {},
     "output_type": "execute_result"
    }
   ],
   "source": [
    "#hide\n",
    "for c in 'Cases, Deaths'.split(', '):\n",
    "    df_table[f'{c} (+)'] = (df_table[c] - df_table[f'P{c}']).clip(0)\n",
    "    #Clip ça veut dire, les chiffres negatif sont interdit\n",
    "df_table['Fatality Rate'] = (100* df_table['Deaths']/ df_table['Cases']).round(2)\n",
    "df_table['Continent'] = df_table['Country/Region'].map(mapping['map.continent'])\n",
    "df_table.head(5)"
   ]
  },
  {
   "cell_type": "code",
   "execution_count": 14,
   "id": "aboriginal-bulgaria",
   "metadata": {
    "execution": {
     "iopub.execute_input": "2021-08-31T00:21:25.946995Z",
     "iopub.status.busy": "2021-08-31T00:21:25.946408Z",
     "iopub.status.idle": "2021-08-31T00:21:25.948613Z",
     "shell.execute_reply": "2021-08-31T00:21:25.949061Z"
    },
    "papermill": {
     "duration": 0.040553,
     "end_time": "2021-08-31T00:21:25.949201",
     "exception": false,
     "start_time": "2021-08-31T00:21:25.908648",
     "status": "completed"
    },
    "tags": []
   },
   "outputs": [],
   "source": [
    "#hide\n",
    "#delete problematic countries from table\n",
    "df_table = df_table[~df_table['Country/Region'].isin(['Cape Verde', 'Cruise Ship', 'Kosovo'])]"
   ]
  },
  {
   "cell_type": "code",
   "execution_count": 15,
   "id": "fantastic-effect",
   "metadata": {
    "execution": {
     "iopub.execute_input": "2021-08-31T00:21:26.021495Z",
     "iopub.status.busy": "2021-08-31T00:21:26.016543Z",
     "iopub.status.idle": "2021-08-31T00:21:26.038996Z",
     "shell.execute_reply": "2021-08-31T00:21:26.038535Z"
    },
    "papermill": {
     "duration": 0.059456,
     "end_time": "2021-08-31T00:21:26.039109",
     "exception": false,
     "start_time": "2021-08-31T00:21:25.979653",
     "status": "completed"
    },
    "tags": []
   },
   "outputs": [
    {
     "data": {
      "text/html": [
       "<div>\n",
       "<style scoped>\n",
       "    .dataframe tbody tr th:only-of-type {\n",
       "        vertical-align: middle;\n",
       "    }\n",
       "\n",
       "    .dataframe tbody tr th {\n",
       "        vertical-align: top;\n",
       "    }\n",
       "\n",
       "    .dataframe thead th {\n",
       "        text-align: right;\n",
       "    }\n",
       "</style>\n",
       "<table border=\"1\" class=\"dataframe\">\n",
       "  <thead>\n",
       "    <tr style=\"text-align: right;\">\n",
       "      <th></th>\n",
       "      <th>Country/Region</th>\n",
       "      <th>Cases</th>\n",
       "      <th>Deaths</th>\n",
       "      <th>PCases</th>\n",
       "      <th>PDeaths</th>\n",
       "      <th>Cases (+)</th>\n",
       "      <th>Deaths (+)</th>\n",
       "      <th>Fatality Rate</th>\n",
       "      <th>Continent</th>\n",
       "    </tr>\n",
       "  </thead>\n",
       "  <tbody>\n",
       "    <tr>\n",
       "      <th>0</th>\n",
       "      <td>US</td>\n",
       "      <td>38798836</td>\n",
       "      <td>637539</td>\n",
       "      <td>38760363</td>\n",
       "      <td>637254</td>\n",
       "      <td>38473</td>\n",
       "      <td>285</td>\n",
       "      <td>1.6</td>\n",
       "      <td>North America</td>\n",
       "    </tr>\n",
       "    <tr>\n",
       "      <th>1</th>\n",
       "      <td>India</td>\n",
       "      <td>32737939</td>\n",
       "      <td>438210</td>\n",
       "      <td>32695030</td>\n",
       "      <td>437830</td>\n",
       "      <td>42909</td>\n",
       "      <td>380</td>\n",
       "      <td>1.3</td>\n",
       "      <td>Asia</td>\n",
       "    </tr>\n",
       "    <tr>\n",
       "      <th>2</th>\n",
       "      <td>Brazil</td>\n",
       "      <td>20741815</td>\n",
       "      <td>579308</td>\n",
       "      <td>20728605</td>\n",
       "      <td>579010</td>\n",
       "      <td>13210</td>\n",
       "      <td>298</td>\n",
       "      <td>2.8</td>\n",
       "      <td>South America</td>\n",
       "    </tr>\n",
       "    <tr>\n",
       "      <th>3</th>\n",
       "      <td>France</td>\n",
       "      <td>6827146</td>\n",
       "      <td>114506</td>\n",
       "      <td>6813516</td>\n",
       "      <td>114453</td>\n",
       "      <td>13630</td>\n",
       "      <td>53</td>\n",
       "      <td>1.7</td>\n",
       "      <td>Europe</td>\n",
       "    </tr>\n",
       "    <tr>\n",
       "      <th>4</th>\n",
       "      <td>Russia</td>\n",
       "      <td>6785465</td>\n",
       "      <td>178457</td>\n",
       "      <td>6766667</td>\n",
       "      <td>177679</td>\n",
       "      <td>18798</td>\n",
       "      <td>778</td>\n",
       "      <td>2.6</td>\n",
       "      <td>Europe</td>\n",
       "    </tr>\n",
       "  </tbody>\n",
       "</table>\n",
       "</div>"
      ],
      "text/plain": [
       "  Country/Region     Cases  Deaths    PCases  PDeaths  Cases (+)  Deaths (+)  \\\n",
       "0             US  38798836  637539  38760363   637254      38473         285   \n",
       "1          India  32737939  438210  32695030   437830      42909         380   \n",
       "2         Brazil  20741815  579308  20728605   579010      13210         298   \n",
       "3         France   6827146  114506   6813516   114453      13630          53   \n",
       "4         Russia   6785465  178457   6766667   177679      18798         778   \n",
       "\n",
       "   Fatality Rate      Continent  \n",
       "0            1.6  North America  \n",
       "1            1.3           Asia  \n",
       "2            2.8  South America  \n",
       "3            1.7         Europe  \n",
       "4            2.6         Europe  "
      ]
     },
     "execution_count": 15,
     "metadata": {},
     "output_type": "execute_result"
    }
   ],
   "source": [
    "#hide\n",
    "df_table = (pd.DataFrame(dict(Cases=dfc_cases, Deaths=dfc_deaths, PCases=dfp_cases, PDeaths=dfp_deaths))\n",
    "             .sort_values(by=['Cases', 'Deaths'], ascending=[False, False])\n",
    "             .reset_index())\n",
    "df_table.rename(columns={'index': 'Country/Region'}, inplace=True)\n",
    "for c in 'Cases, Deaths'.split(', '):\n",
    "    df_table[f'{c} (+)'] = (df_table[c] - df_table[f'P{c}']).clip(0)  # DATA BUG\n",
    "df_table['Fatality Rate'] = (100 * df_table['Deaths'] / df_table['Cases']).round(1)\n",
    "df_table['Continent'] = df_table['Country/Region'].map(mapping['map.continent'])\n",
    "df_table.head(5)"
   ]
  },
  {
   "cell_type": "code",
   "execution_count": 16,
   "id": "fewer-occasion",
   "metadata": {
    "execution": {
     "iopub.execute_input": "2021-08-31T00:21:26.109998Z",
     "iopub.status.busy": "2021-08-31T00:21:26.109451Z",
     "iopub.status.idle": "2021-08-31T00:21:26.111071Z",
     "shell.execute_reply": "2021-08-31T00:21:26.111534Z"
    },
    "papermill": {
     "duration": 0.040719,
     "end_time": "2021-08-31T00:21:26.111662",
     "exception": false,
     "start_time": "2021-08-31T00:21:26.070943",
     "status": "completed"
    },
    "tags": []
   },
   "outputs": [],
   "source": [
    "#hide\n",
    "#delete problematic countries from table\n",
    "df_table = df_table[~df_table['Country/Region'].isin(['Cape Verde', 'Cruise Ship', 'Kosovo'])]"
   ]
  },
  {
   "cell_type": "code",
   "execution_count": 17,
   "id": "related-center",
   "metadata": {
    "execution": {
     "iopub.execute_input": "2021-08-31T00:21:26.193091Z",
     "iopub.status.busy": "2021-08-31T00:21:26.192530Z",
     "iopub.status.idle": "2021-08-31T00:21:26.194508Z",
     "shell.execute_reply": "2021-08-31T00:21:26.194101Z"
    },
    "papermill": {
     "duration": 0.051964,
     "end_time": "2021-08-31T00:21:26.194609",
     "exception": false,
     "start_time": "2021-08-31T00:21:26.142645",
     "status": "completed"
    },
    "tags": []
   },
   "outputs": [],
   "source": [
    "#hide\n",
    "metrics = [df_table.columns[index] for index in [1,2,5,6]]\n",
    "# s_china = df_table[df_table['Country/Region'].eq('China')][metrics].sum().add_prefix('China ')\n",
    "s_us = df_table[df_table['Country/Region'].eq('US')][metrics].sum().add_prefix('US ')\n",
    "s_eu = df_table[df_table['Continent'].eq('Europe')][metrics].sum().add_prefix('EU ')\n",
    "s_ind = df_table[df_table['Country/Region'].eq('India')][metrics].sum().add_prefix('India ')\n",
    "summary = {'updated': pd.to_datetime(dt_today), 'since': pd.to_datetime(dt_yday)}\n",
    "summary = {'updated': pd.to_datetime(dt_today), 'since': pd.to_datetime(dt_yday)}\n",
    "summary = {**summary, **df_table[metrics].sum(), **s_ind, **s_us, **s_eu}"
   ]
  },
  {
   "cell_type": "code",
   "execution_count": 18,
   "id": "engaging-syndrome",
   "metadata": {
    "execution": {
     "iopub.execute_input": "2021-08-31T00:21:26.264892Z",
     "iopub.status.busy": "2021-08-31T00:21:26.264294Z",
     "iopub.status.idle": "2021-08-31T00:21:26.281772Z",
     "shell.execute_reply": "2021-08-31T00:21:26.281095Z"
    },
    "papermill": {
     "duration": 0.055713,
     "end_time": "2021-08-31T00:21:26.281932",
     "exception": false,
     "start_time": "2021-08-31T00:21:26.226219",
     "status": "completed"
    },
    "tags": []
   },
   "outputs": [],
   "source": [
    "#hide\n",
    "dft_ct_new_cases = dft_cases.groupby(COL_REGION)[dt_cols].sum().diff(axis=1).fillna(0).astype(int)"
   ]
  },
  {
   "cell_type": "code",
   "execution_count": 19,
   "id": "neutral-assignment",
   "metadata": {
    "execution": {
     "iopub.execute_input": "2021-08-31T00:21:26.357933Z",
     "iopub.status.busy": "2021-08-31T00:21:26.357361Z",
     "iopub.status.idle": "2021-08-31T00:21:26.359593Z",
     "shell.execute_reply": "2021-08-31T00:21:26.360032Z"
    },
    "papermill": {
     "duration": 0.044144,
     "end_time": "2021-08-31T00:21:26.360167",
     "exception": false,
     "start_time": "2021-08-31T00:21:26.316023",
     "status": "completed"
    },
    "tags": []
   },
   "outputs": [],
   "source": [
    "#hide\n",
    "everydaycases = dft_ct_new_cases.cumsum(axis=1)"
   ]
  },
  {
   "cell_type": "code",
   "execution_count": 20,
   "id": "parliamentary-calgary",
   "metadata": {
    "execution": {
     "iopub.execute_input": "2021-08-31T00:21:26.432277Z",
     "iopub.status.busy": "2021-08-31T00:21:26.431650Z",
     "iopub.status.idle": "2021-08-31T00:21:27.034957Z",
     "shell.execute_reply": "2021-08-31T00:21:27.034093Z"
    },
    "papermill": {
     "duration": 0.641731,
     "end_time": "2021-08-31T00:21:27.035178",
     "exception": false,
     "start_time": "2021-08-31T00:21:26.393447",
     "status": "completed"
    },
    "tags": []
   },
   "outputs": [],
   "source": [
    "#hide\n",
    "import pandas as pd\n",
    "import matplotlib.pyplot as plt\n",
    "import matplotlib.ticker as ticker\n",
    "import matplotlib.animation as animation\n",
    "from IPython.display import HTML"
   ]
  },
  {
   "cell_type": "code",
   "execution_count": 21,
   "id": "lasting-extraction",
   "metadata": {
    "execution": {
     "iopub.execute_input": "2021-08-31T00:21:27.110816Z",
     "iopub.status.busy": "2021-08-31T00:21:27.110264Z",
     "iopub.status.idle": "2021-08-31T00:21:27.115986Z",
     "shell.execute_reply": "2021-08-31T00:21:27.116494Z"
    },
    "papermill": {
     "duration": 0.046388,
     "end_time": "2021-08-31T00:21:27.116634",
     "exception": false,
     "start_time": "2021-08-31T00:21:27.070246",
     "status": "completed"
    },
    "tags": []
   },
   "outputs": [],
   "source": [
    "#hide\n",
    "t = everydaycases.stack()"
   ]
  },
  {
   "cell_type": "code",
   "execution_count": 22,
   "id": "premier-sleeve",
   "metadata": {
    "execution": {
     "iopub.execute_input": "2021-08-31T00:21:27.186672Z",
     "iopub.status.busy": "2021-08-31T00:21:27.186125Z",
     "iopub.status.idle": "2021-08-31T00:21:27.196889Z",
     "shell.execute_reply": "2021-08-31T00:21:27.197363Z"
    },
    "papermill": {
     "duration": 0.048097,
     "end_time": "2021-08-31T00:21:27.197514",
     "exception": false,
     "start_time": "2021-08-31T00:21:27.149417",
     "status": "completed"
    },
    "tags": []
   },
   "outputs": [],
   "source": [
    "#hide\n",
    "g = t.reset_index(['Country/Region'])"
   ]
  },
  {
   "cell_type": "code",
   "execution_count": 23,
   "id": "distributed-pittsburgh",
   "metadata": {
    "execution": {
     "iopub.execute_input": "2021-08-31T00:21:27.265500Z",
     "iopub.status.busy": "2021-08-31T00:21:27.264916Z",
     "iopub.status.idle": "2021-08-31T00:21:27.269468Z",
     "shell.execute_reply": "2021-08-31T00:21:27.268930Z"
    },
    "papermill": {
     "duration": 0.039633,
     "end_time": "2021-08-31T00:21:27.269578",
     "exception": false,
     "start_time": "2021-08-31T00:21:27.229945",
     "status": "completed"
    },
    "tags": []
   },
   "outputs": [],
   "source": [
    "#hide\n",
    "g.index.name = 'date'"
   ]
  },
  {
   "cell_type": "code",
   "execution_count": 24,
   "id": "naked-donor",
   "metadata": {
    "execution": {
     "iopub.execute_input": "2021-08-31T00:21:27.335763Z",
     "iopub.status.busy": "2021-08-31T00:21:27.335187Z",
     "iopub.status.idle": "2021-08-31T00:21:27.337616Z",
     "shell.execute_reply": "2021-08-31T00:21:27.338136Z"
    },
    "papermill": {
     "duration": 0.038392,
     "end_time": "2021-08-31T00:21:27.338262",
     "exception": false,
     "start_time": "2021-08-31T00:21:27.299870",
     "status": "completed"
    },
    "tags": []
   },
   "outputs": [],
   "source": [
    "# #hide\n",
    "# g = g.reset_index(['date'])"
   ]
  },
  {
   "cell_type": "code",
   "execution_count": 25,
   "id": "incomplete-mustang",
   "metadata": {
    "execution": {
     "iopub.execute_input": "2021-08-31T00:21:27.406308Z",
     "iopub.status.busy": "2021-08-31T00:21:27.405766Z",
     "iopub.status.idle": "2021-08-31T00:21:27.408147Z",
     "shell.execute_reply": "2021-08-31T00:21:27.408728Z"
    },
    "papermill": {
     "duration": 0.039667,
     "end_time": "2021-08-31T00:21:27.408859",
     "exception": false,
     "start_time": "2021-08-31T00:21:27.369192",
     "status": "completed"
    },
    "tags": []
   },
   "outputs": [],
   "source": [
    "#hide\n",
    "# g.head()"
   ]
  },
  {
   "cell_type": "code",
   "execution_count": 26,
   "id": "specific-kruger",
   "metadata": {
    "execution": {
     "iopub.execute_input": "2021-08-31T00:21:27.478083Z",
     "iopub.status.busy": "2021-08-31T00:21:27.477501Z",
     "iopub.status.idle": "2021-08-31T00:21:27.479865Z",
     "shell.execute_reply": "2021-08-31T00:21:27.480450Z"
    },
    "papermill": {
     "duration": 0.039511,
     "end_time": "2021-08-31T00:21:27.480585",
     "exception": false,
     "start_time": "2021-08-31T00:21:27.441074",
     "status": "completed"
    },
    "tags": []
   },
   "outputs": [],
   "source": [
    "#hide\n",
    "# g.columns = ['date','country','cases']"
   ]
  },
  {
   "cell_type": "code",
   "execution_count": 27,
   "id": "tender-conversion",
   "metadata": {
    "execution": {
     "iopub.execute_input": "2021-08-31T00:21:27.550296Z",
     "iopub.status.busy": "2021-08-31T00:21:27.549706Z",
     "iopub.status.idle": "2021-08-31T00:21:27.552037Z",
     "shell.execute_reply": "2021-08-31T00:21:27.551593Z"
    },
    "papermill": {
     "duration": 0.039778,
     "end_time": "2021-08-31T00:21:27.552154",
     "exception": false,
     "start_time": "2021-08-31T00:21:27.512376",
     "status": "completed"
    },
    "tags": []
   },
   "outputs": [],
   "source": [
    "#hide\n",
    "# g['continent'] = g.country"
   ]
  },
  {
   "cell_type": "code",
   "execution_count": 28,
   "id": "substantial-wilderness",
   "metadata": {
    "execution": {
     "iopub.execute_input": "2021-08-31T00:21:27.625425Z",
     "iopub.status.busy": "2021-08-31T00:21:27.624807Z",
     "iopub.status.idle": "2021-08-31T00:21:27.627131Z",
     "shell.execute_reply": "2021-08-31T00:21:27.627653Z"
    },
    "papermill": {
     "duration": 0.041272,
     "end_time": "2021-08-31T00:21:27.627784",
     "exception": false,
     "start_time": "2021-08-31T00:21:27.586512",
     "status": "completed"
    },
    "tags": []
   },
   "outputs": [],
   "source": [
    "#hide\n",
    "# cols = list(g.columns.values)"
   ]
  },
  {
   "cell_type": "code",
   "execution_count": 29,
   "id": "solved-farming",
   "metadata": {
    "execution": {
     "iopub.execute_input": "2021-08-31T00:21:27.695755Z",
     "iopub.status.busy": "2021-08-31T00:21:27.695207Z",
     "iopub.status.idle": "2021-08-31T00:21:27.697571Z",
     "shell.execute_reply": "2021-08-31T00:21:27.698121Z"
    },
    "papermill": {
     "duration": 0.039221,
     "end_time": "2021-08-31T00:21:27.698255",
     "exception": false,
     "start_time": "2021-08-31T00:21:27.659034",
     "status": "completed"
    },
    "tags": []
   },
   "outputs": [],
   "source": [
    "#hide\n",
    "# cols.insert(0, cols.pop())"
   ]
  },
  {
   "cell_type": "code",
   "execution_count": 30,
   "id": "executed-adoption",
   "metadata": {
    "execution": {
     "iopub.execute_input": "2021-08-31T00:21:27.767098Z",
     "iopub.status.busy": "2021-08-31T00:21:27.766500Z",
     "iopub.status.idle": "2021-08-31T00:21:27.768834Z",
     "shell.execute_reply": "2021-08-31T00:21:27.769349Z"
    },
    "papermill": {
     "duration": 0.038434,
     "end_time": "2021-08-31T00:21:27.769477",
     "exception": false,
     "start_time": "2021-08-31T00:21:27.731043",
     "status": "completed"
    },
    "tags": []
   },
   "outputs": [],
   "source": [
    "#hide\n",
    "# g = g[cols]"
   ]
  },
  {
   "cell_type": "code",
   "execution_count": 31,
   "id": "subject-dublin",
   "metadata": {
    "execution": {
     "iopub.execute_input": "2021-08-31T00:21:27.838349Z",
     "iopub.status.busy": "2021-08-31T00:21:27.837806Z",
     "iopub.status.idle": "2021-08-31T00:21:27.839569Z",
     "shell.execute_reply": "2021-08-31T00:21:27.840034Z"
    },
    "papermill": {
     "duration": 0.038379,
     "end_time": "2021-08-31T00:21:27.840158",
     "exception": false,
     "start_time": "2021-08-31T00:21:27.801779",
     "status": "completed"
    },
    "tags": []
   },
   "outputs": [],
   "source": [
    "#hide\n",
    "# g['continent'] = g['continent'].map(mapping['map.continent'])"
   ]
  },
  {
   "cell_type": "code",
   "execution_count": 32,
   "id": "freelance-scout",
   "metadata": {
    "execution": {
     "iopub.execute_input": "2021-08-31T00:21:27.908435Z",
     "iopub.status.busy": "2021-08-31T00:21:27.907864Z",
     "iopub.status.idle": "2021-08-31T00:21:27.910952Z",
     "shell.execute_reply": "2021-08-31T00:21:27.910490Z"
    },
    "papermill": {
     "duration": 0.039071,
     "end_time": "2021-08-31T00:21:27.911062",
     "exception": false,
     "start_time": "2021-08-31T00:21:27.871991",
     "status": "completed"
    },
    "tags": []
   },
   "outputs": [],
   "source": [
    "#hide\n",
    "# g.head()"
   ]
  },
  {
   "cell_type": "code",
   "execution_count": 33,
   "id": "limited-engine",
   "metadata": {
    "execution": {
     "iopub.execute_input": "2021-08-31T00:21:27.979729Z",
     "iopub.status.busy": "2021-08-31T00:21:27.979126Z",
     "iopub.status.idle": "2021-08-31T00:21:27.981412Z",
     "shell.execute_reply": "2021-08-31T00:21:27.981930Z"
    },
    "papermill": {
     "duration": 0.038299,
     "end_time": "2021-08-31T00:21:27.982053",
     "exception": false,
     "start_time": "2021-08-31T00:21:27.943754",
     "status": "completed"
    },
    "tags": []
   },
   "outputs": [],
   "source": [
    "# hide\n",
    "# g['date'] = g['date'].astype('datetime64[ns]')"
   ]
  },
  {
   "cell_type": "code",
   "execution_count": 34,
   "id": "sophisticated-supervisor",
   "metadata": {
    "execution": {
     "iopub.execute_input": "2021-08-31T00:21:28.051115Z",
     "iopub.status.busy": "2021-08-31T00:21:28.050612Z",
     "iopub.status.idle": "2021-08-31T00:21:28.052986Z",
     "shell.execute_reply": "2021-08-31T00:21:28.053505Z"
    },
    "papermill": {
     "duration": 0.039426,
     "end_time": "2021-08-31T00:21:28.053630",
     "exception": false,
     "start_time": "2021-08-31T00:21:28.014204",
     "status": "completed"
    },
    "tags": []
   },
   "outputs": [],
   "source": [
    "#hide\n",
    "# g['date'] = g.date.dt.dayofyear"
   ]
  },
  {
   "cell_type": "code",
   "execution_count": 35,
   "id": "inside-dubai",
   "metadata": {
    "execution": {
     "iopub.execute_input": "2021-08-31T00:21:28.124014Z",
     "iopub.status.busy": "2021-08-31T00:21:28.123476Z",
     "iopub.status.idle": "2021-08-31T00:21:28.125861Z",
     "shell.execute_reply": "2021-08-31T00:21:28.126386Z"
    },
    "papermill": {
     "duration": 0.039363,
     "end_time": "2021-08-31T00:21:28.126502",
     "exception": false,
     "start_time": "2021-08-31T00:21:28.087139",
     "status": "completed"
    },
    "tags": []
   },
   "outputs": [],
   "source": [
    "#hide\n",
    "# g = g.rename(columns= {'continent':'group','country':'name','cases':'value'})"
   ]
  },
  {
   "cell_type": "code",
   "execution_count": 36,
   "id": "fleet-motorcycle",
   "metadata": {
    "execution": {
     "iopub.execute_input": "2021-08-31T00:21:28.196871Z",
     "iopub.status.busy": "2021-08-31T00:21:28.196269Z",
     "iopub.status.idle": "2021-08-31T00:21:28.198161Z",
     "shell.execute_reply": "2021-08-31T00:21:28.198605Z"
    },
    "papermill": {
     "duration": 0.039186,
     "end_time": "2021-08-31T00:21:28.198741",
     "exception": false,
     "start_time": "2021-08-31T00:21:28.159555",
     "status": "completed"
    },
    "tags": []
   },
   "outputs": [],
   "source": [
    "#hide\n",
    "# cols = ['name','group','day','value']"
   ]
  },
  {
   "cell_type": "code",
   "execution_count": 37,
   "id": "continued-sleeping",
   "metadata": {
    "execution": {
     "iopub.execute_input": "2021-08-31T00:21:28.267859Z",
     "iopub.status.busy": "2021-08-31T00:21:28.267270Z",
     "iopub.status.idle": "2021-08-31T00:21:28.269320Z",
     "shell.execute_reply": "2021-08-31T00:21:28.268919Z"
    },
    "papermill": {
     "duration": 0.039154,
     "end_time": "2021-08-31T00:21:28.269459",
     "exception": false,
     "start_time": "2021-08-31T00:21:28.230305",
     "status": "completed"
    },
    "tags": []
   },
   "outputs": [],
   "source": [
    "#hide\n",
    "# g.rename(columns= {'date':'day'},inplace = True)"
   ]
  },
  {
   "cell_type": "code",
   "execution_count": 38,
   "id": "major-fight",
   "metadata": {
    "execution": {
     "iopub.execute_input": "2021-08-31T00:21:28.339727Z",
     "iopub.status.busy": "2021-08-31T00:21:28.339168Z",
     "iopub.status.idle": "2021-08-31T00:21:28.341383Z",
     "shell.execute_reply": "2021-08-31T00:21:28.340891Z"
    },
    "papermill": {
     "duration": 0.039538,
     "end_time": "2021-08-31T00:21:28.341502",
     "exception": false,
     "start_time": "2021-08-31T00:21:28.301964",
     "status": "completed"
    },
    "tags": []
   },
   "outputs": [],
   "source": [
    "#hide\n",
    "# g = g[cols]"
   ]
  },
  {
   "cell_type": "code",
   "execution_count": 39,
   "id": "structured-mobile",
   "metadata": {
    "execution": {
     "iopub.execute_input": "2021-08-31T00:21:28.410073Z",
     "iopub.status.busy": "2021-08-31T00:21:28.409598Z",
     "iopub.status.idle": "2021-08-31T00:21:28.411475Z",
     "shell.execute_reply": "2021-08-31T00:21:28.411948Z"
    },
    "papermill": {
     "duration": 0.038957,
     "end_time": "2021-08-31T00:21:28.412082",
     "exception": false,
     "start_time": "2021-08-31T00:21:28.373125",
     "status": "completed"
    },
    "tags": []
   },
   "outputs": [],
   "source": [
    "# #hide\n",
    "# g = g[g.group.notna()]"
   ]
  },
  {
   "cell_type": "code",
   "execution_count": 40,
   "id": "determined-closing",
   "metadata": {
    "execution": {
     "iopub.execute_input": "2021-08-31T00:21:28.481499Z",
     "iopub.status.busy": "2021-08-31T00:21:28.480950Z",
     "iopub.status.idle": "2021-08-31T00:21:28.482516Z",
     "shell.execute_reply": "2021-08-31T00:21:28.482935Z"
    },
    "papermill": {
     "duration": 0.038369,
     "end_time": "2021-08-31T00:21:28.483068",
     "exception": false,
     "start_time": "2021-08-31T00:21:28.444699",
     "status": "completed"
    },
    "tags": []
   },
   "outputs": [],
   "source": [
    "# #hide\n",
    "# colors = dict(zip(\n",
    "#     [\"Oceania\", \"Europe\", \"Asia\", \"South America\", \"Middle East\", \"North America\", \"Africa\"],\n",
    "#     [\"#adb0ff\", \"#ffb3ff\", \"#90d595\", \"#e48381\", \"#aafbff\", \"#f7bb5f\", \"#eafb50\"]\n",
    "# ))\n",
    "# group_lk = g.set_index('name')['group'].to_dict()"
   ]
  },
  {
   "cell_type": "code",
   "execution_count": null,
   "id": "gross-drinking",
   "metadata": {
    "papermill": {
     "duration": 0.032662,
     "end_time": "2021-08-31T00:21:28.547984",
     "exception": false,
     "start_time": "2021-08-31T00:21:28.515322",
     "status": "completed"
    },
    "tags": []
   },
   "outputs": [],
   "source": []
  },
  {
   "cell_type": "code",
   "execution_count": 41,
   "id": "subject-macintosh",
   "metadata": {
    "execution": {
     "iopub.execute_input": "2021-08-31T00:21:28.617381Z",
     "iopub.status.busy": "2021-08-31T00:21:28.616767Z",
     "iopub.status.idle": "2021-08-31T00:21:28.620127Z",
     "shell.execute_reply": "2021-08-31T00:21:28.619658Z"
    },
    "papermill": {
     "duration": 0.040632,
     "end_time": "2021-08-31T00:21:28.620277",
     "exception": false,
     "start_time": "2021-08-31T00:21:28.579645",
     "status": "completed"
    },
    "tags": []
   },
   "outputs": [],
   "source": [
    "# #hide\n",
    "# fig, ax = plt.subplots(figsize=(15, 8))\n",
    "\n",
    "# def draw_barchart(current_day):\n",
    "#     dff = g[g['day'].eq(current_day)].sort_values(by='value', ascending=True).tail(10)\n",
    "#     ax.clear()\n",
    "#     ax.barh(dff['name'], dff['value'], color=[colors[group_lk[x]] for x in dff['name']])\n",
    "#     dx = dff['value'].max() / 200\n",
    "    \n",
    "#     for i, (value, name) in enumerate(zip(dff['value'], dff['name'])):\n",
    "#         ax.text(value-dx, i,     name,           size=14, weight=600, ha='right', va='bottom')\n",
    "#         ax.text(value-dx, i-.25, group_lk[name], size=10, color='#444444', ha='right', va='baseline')\n",
    "#         ax.text(value+dx, i,     f'{value:,.0f}',  size=14, ha='left',  va='center')\n",
    "#     ax.text(1, 0.4, current_day, transform=ax.transAxes, color='#777777', size=46, ha='right', weight=800)\n",
    "#     ax.text(0, 1.06, 'Population (thousands)', transform=ax.transAxes, size=12, color='#777777')\n",
    "#     ax.xaxis.set_major_formatter(ticker.StrMethodFormatter('{x:,.0f}'))\n",
    "#     ax.xaxis.set_ticks_position('top')\n",
    "#     ax.tick_params(axis='x', colors='#777777', labelsize=12)\n",
    "#     ax.set_yticks([])\n",
    "#     ax.margins(0, 0.01)\n",
    "#     ax.grid(which='major', axis='x', linestyle='-')\n",
    "#     ax.set_axisbelow(True)\n",
    "    \n",
    "#     ax.text(0, 1.15, 'Coronavirus',\n",
    "#             transform=ax.transAxes, size=24, weight=600, ha='left', va='top')\n",
    "# #     ax.text(1, 0, 'by @pratapvardhan; credit @jburnmurdoch', transform=ax.transAxes, color='#777777', ha='right',\n",
    "# #             bbox=dict(facecolor='white', alpha=0.8, edgecolor='white'))\n",
    "#     plt.box(False)"
   ]
  },
  {
   "cell_type": "code",
   "execution_count": 42,
   "id": "sexual-wages",
   "metadata": {
    "execution": {
     "iopub.execute_input": "2021-08-31T00:21:28.689395Z",
     "iopub.status.busy": "2021-08-31T00:21:28.688810Z",
     "iopub.status.idle": "2021-08-31T00:21:28.690966Z",
     "shell.execute_reply": "2021-08-31T00:21:28.691485Z"
    },
    "papermill": {
     "duration": 0.040373,
     "end_time": "2021-08-31T00:21:28.691616",
     "exception": false,
     "start_time": "2021-08-31T00:21:28.651243",
     "status": "completed"
    },
    "tags": []
   },
   "outputs": [],
   "source": [
    "# #hide_input\n",
    "# fig, ax = plt.subplots(figsize=(15, 8))\n",
    "# animator = animation.FuncAnimation(fig, draw_barchart, frames=range(g.day.values.min(), g.day.values.max()))\n",
    "# HTML(animator.to_jshtml())\n",
    "# # or use animator.to_html5_video() or animator.save() "
   ]
  },
  {
   "cell_type": "code",
   "execution_count": null,
   "id": "australian-container",
   "metadata": {
    "papermill": {
     "duration": 0.033779,
     "end_time": "2021-08-31T00:21:28.758303",
     "exception": false,
     "start_time": "2021-08-31T00:21:28.724524",
     "status": "completed"
    },
    "tags": []
   },
   "outputs": [],
   "source": []
  },
  {
   "cell_type": "code",
   "execution_count": null,
   "id": "mediterranean-pontiac",
   "metadata": {
    "papermill": {
     "duration": 0.031003,
     "end_time": "2021-08-31T00:21:28.820314",
     "exception": false,
     "start_time": "2021-08-31T00:21:28.789311",
     "status": "completed"
    },
    "tags": []
   },
   "outputs": [],
   "source": []
  },
  {
   "cell_type": "code",
   "execution_count": null,
   "id": "aging-legislature",
   "metadata": {
    "papermill": {
     "duration": 0.032705,
     "end_time": "2021-08-31T00:21:28.884633",
     "exception": false,
     "start_time": "2021-08-31T00:21:28.851928",
     "status": "completed"
    },
    "tags": []
   },
   "outputs": [],
   "source": []
  }
 ],
 "metadata": {
  "kernelspec": {
   "display_name": "Python 3",
   "language": "python",
   "name": "python3"
  },
  "language_info": {
   "codemirror_mode": {
    "name": "ipython",
    "version": 3
   },
   "file_extension": ".py",
   "mimetype": "text/x-python",
   "name": "python",
   "nbconvert_exporter": "python",
   "pygments_lexer": "ipython3",
   "version": "3.6.14"
  },
  "papermill": {
   "duration": 6.391599,
   "end_time": "2021-08-31T00:21:29.223912",
   "environment_variables": {},
   "exception": null,
   "input_path": "2020-03-21-covid19exp.ipynb",
   "output_path": "2020-03-21-covid19exp.ipynb",
   "parameters": {},
   "start_time": "2021-08-31T00:21:22.832313",
   "version": "2.0.0"
  }
 },
 "nbformat": 4,
 "nbformat_minor": 5
}