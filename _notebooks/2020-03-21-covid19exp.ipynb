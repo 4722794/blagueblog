{
 "cells": [
  {
   "cell_type": "markdown",
   "id": "muslim-click",
   "metadata": {
    "papermill": {
     "duration": 0.048438,
     "end_time": "2021-09-07T00:21:57.868642",
     "exception": false,
     "start_time": "2021-09-07T00:21:57.820204",
     "status": "completed"
    },
    "tags": []
   },
   "source": [
    "# COVID-19 Case Race\n",
    "> A race chart to see rising cases around the world\n",
    "\n",
    "- author: Hargun Oberoi\n",
    "- image: images/covid-overview.png\n",
    "- hide: false\n",
    "- badges: false"
   ]
  },
  {
   "cell_type": "code",
   "execution_count": 1,
   "id": "proof-material",
   "metadata": {
    "execution": {
     "iopub.execute_input": "2021-09-07T00:21:57.965420Z",
     "iopub.status.busy": "2021-09-07T00:21:57.964698Z",
     "iopub.status.idle": "2021-09-07T00:21:58.404112Z",
     "shell.execute_reply": "2021-09-07T00:21:58.403377Z"
    },
    "papermill": {
     "duration": 0.492725,
     "end_time": "2021-09-07T00:21:58.404293",
     "exception": false,
     "start_time": "2021-09-07T00:21:57.911568",
     "status": "completed"
    },
    "tags": []
   },
   "outputs": [],
   "source": [
    "#hide\n",
    "import numpy as np\n",
    "import pandas as pd\n",
    "from jinja2 import Template\n",
    "from IPython.display import HTML"
   ]
  },
  {
   "cell_type": "code",
   "execution_count": 2,
   "id": "developed-terminology",
   "metadata": {
    "execution": {
     "iopub.execute_input": "2021-09-07T00:21:58.504784Z",
     "iopub.status.busy": "2021-09-07T00:21:58.504051Z",
     "iopub.status.idle": "2021-09-07T00:21:58.506505Z",
     "shell.execute_reply": "2021-09-07T00:21:58.505805Z"
    },
    "papermill": {
     "duration": 0.057887,
     "end_time": "2021-09-07T00:21:58.506638",
     "exception": false,
     "start_time": "2021-09-07T00:21:58.448751",
     "status": "completed"
    },
    "tags": []
   },
   "outputs": [],
   "source": [
    "#hide\n",
    "\n",
    "# FETCH\n",
    "base_url = 'https://raw.githubusercontent.com/pratapvardhan/notebooks/master/covid19/'\n",
    "paths = {\n",
    "    'mapping': base_url + 'mapping_countries.csv',\n",
    "    'overview': base_url + 'overview.tpl'\n",
    "}"
   ]
  },
  {
   "cell_type": "code",
   "execution_count": 3,
   "id": "dynamic-saver",
   "metadata": {
    "execution": {
     "iopub.execute_input": "2021-09-07T00:21:58.598811Z",
     "iopub.status.busy": "2021-09-07T00:21:58.598152Z",
     "iopub.status.idle": "2021-09-07T00:21:58.601027Z",
     "shell.execute_reply": "2021-09-07T00:21:58.601709Z"
    },
    "papermill": {
     "duration": 0.055176,
     "end_time": "2021-09-07T00:21:58.601900",
     "exception": false,
     "start_time": "2021-09-07T00:21:58.546724",
     "status": "completed"
    },
    "tags": []
   },
   "outputs": [
    {
     "data": {
      "text/plain": [
       "'https://raw.githubusercontent.com/pratapvardhan/notebooks/master/covid19/mapping_countries.csv'"
      ]
     },
     "execution_count": 3,
     "metadata": {},
     "output_type": "execute_result"
    }
   ],
   "source": [
    "#hide\n",
    "paths['mapping']"
   ]
  },
  {
   "cell_type": "code",
   "execution_count": 4,
   "id": "urban-software",
   "metadata": {
    "execution": {
     "iopub.execute_input": "2021-09-07T00:21:58.687495Z",
     "iopub.status.busy": "2021-09-07T00:21:58.686830Z",
     "iopub.status.idle": "2021-09-07T00:21:58.689483Z",
     "shell.execute_reply": "2021-09-07T00:21:58.688830Z"
    },
    "papermill": {
     "duration": 0.04952,
     "end_time": "2021-09-07T00:21:58.689614",
     "exception": false,
     "start_time": "2021-09-07T00:21:58.640094",
     "status": "completed"
    },
    "tags": []
   },
   "outputs": [],
   "source": [
    "#hide\n",
    "def get_mappings(url):\n",
    "    df = pd.read_csv(url)\n",
    "    return {\n",
    "        'df': df,\n",
    "        'replace.country': dict(df.dropna(subset=['Name']).set_index('Country')['Name']),\n",
    "        'map.continent': dict(df.set_index('Name')['Continent'])\n",
    "    }"
   ]
  },
  {
   "cell_type": "code",
   "execution_count": 5,
   "id": "intimate-machinery",
   "metadata": {
    "execution": {
     "iopub.execute_input": "2021-09-07T00:21:58.791079Z",
     "iopub.status.busy": "2021-09-07T00:21:58.790361Z",
     "iopub.status.idle": "2021-09-07T00:21:58.824537Z",
     "shell.execute_reply": "2021-09-07T00:21:58.825130Z"
    },
    "papermill": {
     "duration": 0.094822,
     "end_time": "2021-09-07T00:21:58.825332",
     "exception": false,
     "start_time": "2021-09-07T00:21:58.730510",
     "status": "completed"
    },
    "tags": []
   },
   "outputs": [],
   "source": [
    "#hide\n",
    "mapping = get_mappings(paths['mapping'])"
   ]
  },
  {
   "cell_type": "code",
   "execution_count": 6,
   "id": "certified-tactics",
   "metadata": {
    "execution": {
     "iopub.execute_input": "2021-09-07T00:21:58.913909Z",
     "iopub.status.busy": "2021-09-07T00:21:58.913139Z",
     "iopub.status.idle": "2021-09-07T00:21:58.915823Z",
     "shell.execute_reply": "2021-09-07T00:21:58.915199Z"
    },
    "papermill": {
     "duration": 0.04948,
     "end_time": "2021-09-07T00:21:58.915949",
     "exception": false,
     "start_time": "2021-09-07T00:21:58.866469",
     "status": "completed"
    },
    "tags": []
   },
   "outputs": [],
   "source": [
    "#hide\n",
    "def get_template(path):\n",
    "    from urllib.parse import urlparse\n",
    "    if bool(urlparse(path).netloc):\n",
    "        from urllib.request import urlopen\n",
    "        return urlopen(path).read().decode('utf8')\n",
    "    return open(path).read()"
   ]
  },
  {
   "cell_type": "code",
   "execution_count": 7,
   "id": "realistic-blast",
   "metadata": {
    "execution": {
     "iopub.execute_input": "2021-09-07T00:21:59.008843Z",
     "iopub.status.busy": "2021-09-07T00:21:59.008144Z",
     "iopub.status.idle": "2021-09-07T00:21:59.010194Z",
     "shell.execute_reply": "2021-09-07T00:21:59.010785Z"
    },
    "papermill": {
     "duration": 0.048534,
     "end_time": "2021-09-07T00:21:59.010949",
     "exception": false,
     "start_time": "2021-09-07T00:21:58.962415",
     "status": "completed"
    },
    "tags": []
   },
   "outputs": [],
   "source": [
    "#hide\n",
    "def get_frame(name):\n",
    "    url = (\n",
    "        'https://raw.githubusercontent.com/CSSEGISandData/COVID-19/master/csse_covid_19_data/'\n",
    "        f'csse_covid_19_time_series/time_series_covid19_{name}_global.csv')\n",
    "    df = pd.read_csv(url)\n",
    "    # rename countries\n",
    "    df['Country/Region'] = df['Country/Region'].replace(mapping['replace.country'])\n",
    "    return df"
   ]
  },
  {
   "cell_type": "code",
   "execution_count": 8,
   "id": "affiliated-characterization",
   "metadata": {
    "execution": {
     "iopub.execute_input": "2021-09-07T00:21:59.103062Z",
     "iopub.status.busy": "2021-09-07T00:21:59.102385Z",
     "iopub.status.idle": "2021-09-07T00:21:59.104411Z",
     "shell.execute_reply": "2021-09-07T00:21:59.106828Z"
    },
    "papermill": {
     "duration": 0.05253,
     "end_time": "2021-09-07T00:21:59.107006",
     "exception": false,
     "start_time": "2021-09-07T00:21:59.054476",
     "status": "completed"
    },
    "tags": []
   },
   "outputs": [],
   "source": [
    "#hide\n",
    "def get_dates(df):\n",
    "    dt_cols = df.columns[~df.columns.isin(['Province/State', 'Country/Region', 'Lat', 'Long'])]\n",
    "    LAST_DATE_I = -1\n",
    "    # sometimes last column may be empty, then go backwards\n",
    "    for i in range(-1, -len(dt_cols), -1):\n",
    "        if not df[dt_cols[i]].fillna(0).eq(0).all():\n",
    "            LAST_DATE_I = i\n",
    "            break\n",
    "    return LAST_DATE_I, dt_cols"
   ]
  },
  {
   "cell_type": "code",
   "execution_count": 9,
   "id": "recent-optimization",
   "metadata": {
    "execution": {
     "iopub.execute_input": "2021-09-07T00:21:59.196197Z",
     "iopub.status.busy": "2021-09-07T00:21:59.195475Z",
     "iopub.status.idle": "2021-09-07T00:21:59.582464Z",
     "shell.execute_reply": "2021-09-07T00:21:59.581796Z"
    },
    "papermill": {
     "duration": 0.435392,
     "end_time": "2021-09-07T00:21:59.582625",
     "exception": false,
     "start_time": "2021-09-07T00:21:59.147233",
     "status": "completed"
    },
    "tags": []
   },
   "outputs": [],
   "source": [
    "#hide\n",
    "COL_REGION = 'Country/Region'\n",
    "# Confirmed, Recovered, Deaths\n",
    "df = get_frame('confirmed')\n",
    "# dft_: timeseries, dfc_: today country agg\n",
    "dft_cases = df\n",
    "dft_deaths = get_frame('deaths')\n",
    "dft_recovered = get_frame('recovered')\n",
    "LAST_DATE_I, dt_cols = get_dates(df)"
   ]
  },
  {
   "cell_type": "code",
   "execution_count": 10,
   "id": "absolute-copper",
   "metadata": {
    "execution": {
     "iopub.execute_input": "2021-09-07T00:21:59.676772Z",
     "iopub.status.busy": "2021-09-07T00:21:59.676085Z",
     "iopub.status.idle": "2021-09-07T00:21:59.678013Z",
     "shell.execute_reply": "2021-09-07T00:21:59.678629Z"
    },
    "papermill": {
     "duration": 0.052684,
     "end_time": "2021-09-07T00:21:59.678795",
     "exception": false,
     "start_time": "2021-09-07T00:21:59.626111",
     "status": "completed"
    },
    "tags": []
   },
   "outputs": [],
   "source": [
    "#hide\n",
    "LAST_DATE_I, dt_cols = get_dates(df)\n",
    "dt_today =dt_cols[LAST_DATE_I]\n",
    "# dt_5day = dt_cols[LAST_DATE_I - 5]\n",
    "dt_yday = dt_cols[LAST_DATE_I - 1]"
   ]
  },
  {
   "cell_type": "code",
   "execution_count": 11,
   "id": "restricted-sheriff",
   "metadata": {
    "execution": {
     "iopub.execute_input": "2021-09-07T00:21:59.773703Z",
     "iopub.status.busy": "2021-09-07T00:21:59.773077Z",
     "iopub.status.idle": "2021-09-07T00:21:59.783223Z",
     "shell.execute_reply": "2021-09-07T00:21:59.783889Z"
    },
    "papermill": {
     "duration": 0.05828,
     "end_time": "2021-09-07T00:21:59.784046",
     "exception": false,
     "start_time": "2021-09-07T00:21:59.725766",
     "status": "completed"
    },
    "tags": []
   },
   "outputs": [],
   "source": [
    "#hide\n",
    "dfc_cases = dft_cases.groupby(COL_REGION)[dt_today].sum()\n",
    "dfc_deaths = dft_deaths.groupby(COL_REGION)[dt_today].sum()\n",
    "# dfp_cases = dft_cases.groupby(COL_REGION)[dt_5day].sum()\n",
    "# dfp_deaths = dft_deaths.groupby(COL_REGION)[dt_5day].sum()\n",
    "dfp_cases = dft_cases.groupby(COL_REGION)[dt_yday].sum()\n",
    "dfp_deaths = dft_deaths.groupby(COL_REGION)[dt_yday].sum()"
   ]
  },
  {
   "cell_type": "code",
   "execution_count": 12,
   "id": "deluxe-hepatitis",
   "metadata": {
    "execution": {
     "iopub.execute_input": "2021-09-07T00:21:59.874288Z",
     "iopub.status.busy": "2021-09-07T00:21:59.873435Z",
     "iopub.status.idle": "2021-09-07T00:21:59.878065Z",
     "shell.execute_reply": "2021-09-07T00:21:59.877502Z"
    },
    "papermill": {
     "duration": 0.053842,
     "end_time": "2021-09-07T00:21:59.878203",
     "exception": false,
     "start_time": "2021-09-07T00:21:59.824361",
     "status": "completed"
    },
    "tags": []
   },
   "outputs": [],
   "source": [
    "#hide\n",
    "df_table = (pd.DataFrame(dict(Cases = dfc_cases, Deaths = dfc_deaths, PCases = dfp_cases, PDeaths = dfp_deaths))\n",
    "            .sort_values(by = ['Cases','Deaths'], ascending = [False, False])\n",
    "            .reset_index())"
   ]
  },
  {
   "cell_type": "code",
   "execution_count": 13,
   "id": "educational-chancellor",
   "metadata": {
    "execution": {
     "iopub.execute_input": "2021-09-07T00:21:59.986891Z",
     "iopub.status.busy": "2021-09-07T00:21:59.986180Z",
     "iopub.status.idle": "2021-09-07T00:21:59.995563Z",
     "shell.execute_reply": "2021-09-07T00:21:59.996179Z"
    },
    "papermill": {
     "duration": 0.078054,
     "end_time": "2021-09-07T00:21:59.996338",
     "exception": false,
     "start_time": "2021-09-07T00:21:59.918284",
     "status": "completed"
    },
    "tags": []
   },
   "outputs": [
    {
     "data": {
      "text/html": [
       "<div>\n",
       "<style scoped>\n",
       "    .dataframe tbody tr th:only-of-type {\n",
       "        vertical-align: middle;\n",
       "    }\n",
       "\n",
       "    .dataframe tbody tr th {\n",
       "        vertical-align: top;\n",
       "    }\n",
       "\n",
       "    .dataframe thead th {\n",
       "        text-align: right;\n",
       "    }\n",
       "</style>\n",
       "<table border=\"1\" class=\"dataframe\">\n",
       "  <thead>\n",
       "    <tr style=\"text-align: right;\">\n",
       "      <th></th>\n",
       "      <th>Country/Region</th>\n",
       "      <th>Cases</th>\n",
       "      <th>Deaths</th>\n",
       "      <th>PCases</th>\n",
       "      <th>PDeaths</th>\n",
       "      <th>Cases (+)</th>\n",
       "      <th>Deaths (+)</th>\n",
       "      <th>Fatality Rate</th>\n",
       "      <th>Continent</th>\n",
       "    </tr>\n",
       "  </thead>\n",
       "  <tbody>\n",
       "    <tr>\n",
       "      <th>0</th>\n",
       "      <td>US</td>\n",
       "      <td>39944987</td>\n",
       "      <td>648468</td>\n",
       "      <td>39906426</td>\n",
       "      <td>648106</td>\n",
       "      <td>38561</td>\n",
       "      <td>362</td>\n",
       "      <td>1.62</td>\n",
       "      <td>North America</td>\n",
       "    </tr>\n",
       "    <tr>\n",
       "      <th>1</th>\n",
       "      <td>India</td>\n",
       "      <td>33027621</td>\n",
       "      <td>440752</td>\n",
       "      <td>32988673</td>\n",
       "      <td>440533</td>\n",
       "      <td>38948</td>\n",
       "      <td>219</td>\n",
       "      <td>1.33</td>\n",
       "      <td>Asia</td>\n",
       "    </tr>\n",
       "    <tr>\n",
       "      <th>2</th>\n",
       "      <td>Brazil</td>\n",
       "      <td>20890779</td>\n",
       "      <td>583628</td>\n",
       "      <td>20877864</td>\n",
       "      <td>583362</td>\n",
       "      <td>12915</td>\n",
       "      <td>266</td>\n",
       "      <td>2.79</td>\n",
       "      <td>South America</td>\n",
       "    </tr>\n",
       "    <tr>\n",
       "      <th>3</th>\n",
       "      <td>United Kingdom</td>\n",
       "      <td>7010540</td>\n",
       "      <td>133553</td>\n",
       "      <td>6973995</td>\n",
       "      <td>133485</td>\n",
       "      <td>36545</td>\n",
       "      <td>68</td>\n",
       "      <td>1.91</td>\n",
       "      <td>Europe</td>\n",
       "    </tr>\n",
       "    <tr>\n",
       "      <th>4</th>\n",
       "      <td>France</td>\n",
       "      <td>6921275</td>\n",
       "      <td>115401</td>\n",
       "      <td>6910865</td>\n",
       "      <td>115352</td>\n",
       "      <td>10410</td>\n",
       "      <td>49</td>\n",
       "      <td>1.67</td>\n",
       "      <td>Europe</td>\n",
       "    </tr>\n",
       "  </tbody>\n",
       "</table>\n",
       "</div>"
      ],
      "text/plain": [
       "   Country/Region     Cases  Deaths    PCases  PDeaths  Cases (+)  Deaths (+)  \\\n",
       "0              US  39944987  648468  39906426   648106      38561         362   \n",
       "1           India  33027621  440752  32988673   440533      38948         219   \n",
       "2          Brazil  20890779  583628  20877864   583362      12915         266   \n",
       "3  United Kingdom   7010540  133553   6973995   133485      36545          68   \n",
       "4          France   6921275  115401   6910865   115352      10410          49   \n",
       "\n",
       "   Fatality Rate      Continent  \n",
       "0           1.62  North America  \n",
       "1           1.33           Asia  \n",
       "2           2.79  South America  \n",
       "3           1.91         Europe  \n",
       "4           1.67         Europe  "
      ]
     },
     "execution_count": 13,
     "metadata": {},
     "output_type": "execute_result"
    }
   ],
   "source": [
    "#hide\n",
    "for c in 'Cases, Deaths'.split(', '):\n",
    "    df_table[f'{c} (+)'] = (df_table[c] - df_table[f'P{c}']).clip(0)\n",
    "    #Clip ça veut dire, les chiffres negatif sont interdit\n",
    "df_table['Fatality Rate'] = (100* df_table['Deaths']/ df_table['Cases']).round(2)\n",
    "df_table['Continent'] = df_table['Country/Region'].map(mapping['map.continent'])\n",
    "df_table.head(5)"
   ]
  },
  {
   "cell_type": "code",
   "execution_count": 14,
   "id": "aboriginal-bulgaria",
   "metadata": {
    "execution": {
     "iopub.execute_input": "2021-09-07T00:22:00.085398Z",
     "iopub.status.busy": "2021-09-07T00:22:00.084531Z",
     "iopub.status.idle": "2021-09-07T00:22:00.086882Z",
     "shell.execute_reply": "2021-09-07T00:22:00.087455Z"
    },
    "papermill": {
     "duration": 0.051389,
     "end_time": "2021-09-07T00:22:00.087612",
     "exception": false,
     "start_time": "2021-09-07T00:22:00.036223",
     "status": "completed"
    },
    "tags": []
   },
   "outputs": [],
   "source": [
    "#hide\n",
    "#delete problematic countries from table\n",
    "df_table = df_table[~df_table['Country/Region'].isin(['Cape Verde', 'Cruise Ship', 'Kosovo'])]"
   ]
  },
  {
   "cell_type": "code",
   "execution_count": 15,
   "id": "fantastic-effect",
   "metadata": {
    "execution": {
     "iopub.execute_input": "2021-09-07T00:22:00.178800Z",
     "iopub.status.busy": "2021-09-07T00:22:00.176404Z",
     "iopub.status.idle": "2021-09-07T00:22:00.202117Z",
     "shell.execute_reply": "2021-09-07T00:22:00.202764Z"
    },
    "papermill": {
     "duration": 0.074878,
     "end_time": "2021-09-07T00:22:00.202931",
     "exception": false,
     "start_time": "2021-09-07T00:22:00.128053",
     "status": "completed"
    },
    "tags": []
   },
   "outputs": [
    {
     "data": {
      "text/html": [
       "<div>\n",
       "<style scoped>\n",
       "    .dataframe tbody tr th:only-of-type {\n",
       "        vertical-align: middle;\n",
       "    }\n",
       "\n",
       "    .dataframe tbody tr th {\n",
       "        vertical-align: top;\n",
       "    }\n",
       "\n",
       "    .dataframe thead th {\n",
       "        text-align: right;\n",
       "    }\n",
       "</style>\n",
       "<table border=\"1\" class=\"dataframe\">\n",
       "  <thead>\n",
       "    <tr style=\"text-align: right;\">\n",
       "      <th></th>\n",
       "      <th>Country/Region</th>\n",
       "      <th>Cases</th>\n",
       "      <th>Deaths</th>\n",
       "      <th>PCases</th>\n",
       "      <th>PDeaths</th>\n",
       "      <th>Cases (+)</th>\n",
       "      <th>Deaths (+)</th>\n",
       "      <th>Fatality Rate</th>\n",
       "      <th>Continent</th>\n",
       "    </tr>\n",
       "  </thead>\n",
       "  <tbody>\n",
       "    <tr>\n",
       "      <th>0</th>\n",
       "      <td>US</td>\n",
       "      <td>39944987</td>\n",
       "      <td>648468</td>\n",
       "      <td>39906426</td>\n",
       "      <td>648106</td>\n",
       "      <td>38561</td>\n",
       "      <td>362</td>\n",
       "      <td>1.6</td>\n",
       "      <td>North America</td>\n",
       "    </tr>\n",
       "    <tr>\n",
       "      <th>1</th>\n",
       "      <td>India</td>\n",
       "      <td>33027621</td>\n",
       "      <td>440752</td>\n",
       "      <td>32988673</td>\n",
       "      <td>440533</td>\n",
       "      <td>38948</td>\n",
       "      <td>219</td>\n",
       "      <td>1.3</td>\n",
       "      <td>Asia</td>\n",
       "    </tr>\n",
       "    <tr>\n",
       "      <th>2</th>\n",
       "      <td>Brazil</td>\n",
       "      <td>20890779</td>\n",
       "      <td>583628</td>\n",
       "      <td>20877864</td>\n",
       "      <td>583362</td>\n",
       "      <td>12915</td>\n",
       "      <td>266</td>\n",
       "      <td>2.8</td>\n",
       "      <td>South America</td>\n",
       "    </tr>\n",
       "    <tr>\n",
       "      <th>3</th>\n",
       "      <td>United Kingdom</td>\n",
       "      <td>7010540</td>\n",
       "      <td>133553</td>\n",
       "      <td>6973995</td>\n",
       "      <td>133485</td>\n",
       "      <td>36545</td>\n",
       "      <td>68</td>\n",
       "      <td>1.9</td>\n",
       "      <td>Europe</td>\n",
       "    </tr>\n",
       "    <tr>\n",
       "      <th>4</th>\n",
       "      <td>France</td>\n",
       "      <td>6921275</td>\n",
       "      <td>115401</td>\n",
       "      <td>6910865</td>\n",
       "      <td>115352</td>\n",
       "      <td>10410</td>\n",
       "      <td>49</td>\n",
       "      <td>1.7</td>\n",
       "      <td>Europe</td>\n",
       "    </tr>\n",
       "  </tbody>\n",
       "</table>\n",
       "</div>"
      ],
      "text/plain": [
       "   Country/Region     Cases  Deaths    PCases  PDeaths  Cases (+)  Deaths (+)  \\\n",
       "0              US  39944987  648468  39906426   648106      38561         362   \n",
       "1           India  33027621  440752  32988673   440533      38948         219   \n",
       "2          Brazil  20890779  583628  20877864   583362      12915         266   \n",
       "3  United Kingdom   7010540  133553   6973995   133485      36545          68   \n",
       "4          France   6921275  115401   6910865   115352      10410          49   \n",
       "\n",
       "   Fatality Rate      Continent  \n",
       "0            1.6  North America  \n",
       "1            1.3           Asia  \n",
       "2            2.8  South America  \n",
       "3            1.9         Europe  \n",
       "4            1.7         Europe  "
      ]
     },
     "execution_count": 15,
     "metadata": {},
     "output_type": "execute_result"
    }
   ],
   "source": [
    "#hide\n",
    "df_table = (pd.DataFrame(dict(Cases=dfc_cases, Deaths=dfc_deaths, PCases=dfp_cases, PDeaths=dfp_deaths))\n",
    "             .sort_values(by=['Cases', 'Deaths'], ascending=[False, False])\n",
    "             .reset_index())\n",
    "df_table.rename(columns={'index': 'Country/Region'}, inplace=True)\n",
    "for c in 'Cases, Deaths'.split(', '):\n",
    "    df_table[f'{c} (+)'] = (df_table[c] - df_table[f'P{c}']).clip(0)  # DATA BUG\n",
    "df_table['Fatality Rate'] = (100 * df_table['Deaths'] / df_table['Cases']).round(1)\n",
    "df_table['Continent'] = df_table['Country/Region'].map(mapping['map.continent'])\n",
    "df_table.head(5)"
   ]
  },
  {
   "cell_type": "code",
   "execution_count": 16,
   "id": "fewer-occasion",
   "metadata": {
    "execution": {
     "iopub.execute_input": "2021-09-07T00:22:00.292009Z",
     "iopub.status.busy": "2021-09-07T00:22:00.291270Z",
     "iopub.status.idle": "2021-09-07T00:22:00.294034Z",
     "shell.execute_reply": "2021-09-07T00:22:00.296641Z"
    },
    "papermill": {
     "duration": 0.052271,
     "end_time": "2021-09-07T00:22:00.296816",
     "exception": false,
     "start_time": "2021-09-07T00:22:00.244545",
     "status": "completed"
    },
    "tags": []
   },
   "outputs": [],
   "source": [
    "#hide\n",
    "#delete problematic countries from table\n",
    "df_table = df_table[~df_table['Country/Region'].isin(['Cape Verde', 'Cruise Ship', 'Kosovo'])]"
   ]
  },
  {
   "cell_type": "code",
   "execution_count": 17,
   "id": "related-center",
   "metadata": {
    "execution": {
     "iopub.execute_input": "2021-09-07T00:22:00.393428Z",
     "iopub.status.busy": "2021-09-07T00:22:00.392358Z",
     "iopub.status.idle": "2021-09-07T00:22:00.414564Z",
     "shell.execute_reply": "2021-09-07T00:22:00.415141Z"
    },
    "papermill": {
     "duration": 0.075969,
     "end_time": "2021-09-07T00:22:00.415322",
     "exception": false,
     "start_time": "2021-09-07T00:22:00.339353",
     "status": "completed"
    },
    "tags": []
   },
   "outputs": [],
   "source": [
    "#hide\n",
    "metrics = [df_table.columns[index] for index in [1,2,5,6]]\n",
    "# s_china = df_table[df_table['Country/Region'].eq('China')][metrics].sum().add_prefix('China ')\n",
    "s_us = df_table[df_table['Country/Region'].eq('US')][metrics].sum().add_prefix('US ')\n",
    "s_eu = df_table[df_table['Continent'].eq('Europe')][metrics].sum().add_prefix('EU ')\n",
    "s_ind = df_table[df_table['Country/Region'].eq('India')][metrics].sum().add_prefix('India ')\n",
    "summary = {'updated': pd.to_datetime(dt_today), 'since': pd.to_datetime(dt_yday)}\n",
    "summary = {'updated': pd.to_datetime(dt_today), 'since': pd.to_datetime(dt_yday)}\n",
    "summary = {**summary, **df_table[metrics].sum(), **s_ind, **s_us, **s_eu}"
   ]
  },
  {
   "cell_type": "code",
   "execution_count": 18,
   "id": "engaging-syndrome",
   "metadata": {
    "execution": {
     "iopub.execute_input": "2021-09-07T00:22:00.508880Z",
     "iopub.status.busy": "2021-09-07T00:22:00.508107Z",
     "iopub.status.idle": "2021-09-07T00:22:00.527908Z",
     "shell.execute_reply": "2021-09-07T00:22:00.527179Z"
    },
    "papermill": {
     "duration": 0.068578,
     "end_time": "2021-09-07T00:22:00.528060",
     "exception": false,
     "start_time": "2021-09-07T00:22:00.459482",
     "status": "completed"
    },
    "tags": []
   },
   "outputs": [],
   "source": [
    "#hide\n",
    "dft_ct_new_cases = dft_cases.groupby(COL_REGION)[dt_cols].sum().diff(axis=1).fillna(0).astype(int)"
   ]
  },
  {
   "cell_type": "code",
   "execution_count": 19,
   "id": "neutral-assignment",
   "metadata": {
    "execution": {
     "iopub.execute_input": "2021-09-07T00:22:00.628205Z",
     "iopub.status.busy": "2021-09-07T00:22:00.627457Z",
     "iopub.status.idle": "2021-09-07T00:22:00.629484Z",
     "shell.execute_reply": "2021-09-07T00:22:00.630047Z"
    },
    "papermill": {
     "duration": 0.057638,
     "end_time": "2021-09-07T00:22:00.630200",
     "exception": false,
     "start_time": "2021-09-07T00:22:00.572562",
     "status": "completed"
    },
    "tags": []
   },
   "outputs": [],
   "source": [
    "#hide\n",
    "everydaycases = dft_ct_new_cases.cumsum(axis=1)"
   ]
  },
  {
   "cell_type": "code",
   "execution_count": 20,
   "id": "parliamentary-calgary",
   "metadata": {
    "execution": {
     "iopub.execute_input": "2021-09-07T00:22:00.730355Z",
     "iopub.status.busy": "2021-09-07T00:22:00.729683Z",
     "iopub.status.idle": "2021-09-07T00:22:01.521476Z",
     "shell.execute_reply": "2021-09-07T00:22:01.520929Z"
    },
    "papermill": {
     "duration": 0.847954,
     "end_time": "2021-09-07T00:22:01.521620",
     "exception": false,
     "start_time": "2021-09-07T00:22:00.673666",
     "status": "completed"
    },
    "tags": []
   },
   "outputs": [],
   "source": [
    "#hide\n",
    "import pandas as pd\n",
    "import matplotlib.pyplot as plt\n",
    "import matplotlib.ticker as ticker\n",
    "import matplotlib.animation as animation\n",
    "from IPython.display import HTML"
   ]
  },
  {
   "cell_type": "code",
   "execution_count": 21,
   "id": "lasting-extraction",
   "metadata": {
    "execution": {
     "iopub.execute_input": "2021-09-07T00:22:01.611223Z",
     "iopub.status.busy": "2021-09-07T00:22:01.610511Z",
     "iopub.status.idle": "2021-09-07T00:22:01.621687Z",
     "shell.execute_reply": "2021-09-07T00:22:01.622300Z"
    },
    "papermill": {
     "duration": 0.059289,
     "end_time": "2021-09-07T00:22:01.622466",
     "exception": false,
     "start_time": "2021-09-07T00:22:01.563177",
     "status": "completed"
    },
    "tags": []
   },
   "outputs": [],
   "source": [
    "#hide\n",
    "t = everydaycases.stack()"
   ]
  },
  {
   "cell_type": "code",
   "execution_count": 22,
   "id": "premier-sleeve",
   "metadata": {
    "execution": {
     "iopub.execute_input": "2021-09-07T00:22:01.711954Z",
     "iopub.status.busy": "2021-09-07T00:22:01.711248Z",
     "iopub.status.idle": "2021-09-07T00:22:01.721890Z",
     "shell.execute_reply": "2021-09-07T00:22:01.722549Z"
    },
    "papermill": {
     "duration": 0.059184,
     "end_time": "2021-09-07T00:22:01.722716",
     "exception": false,
     "start_time": "2021-09-07T00:22:01.663532",
     "status": "completed"
    },
    "tags": []
   },
   "outputs": [],
   "source": [
    "#hide\n",
    "g = t.reset_index(['Country/Region'])"
   ]
  },
  {
   "cell_type": "code",
   "execution_count": 23,
   "id": "distributed-pittsburgh",
   "metadata": {
    "execution": {
     "iopub.execute_input": "2021-09-07T00:22:01.813307Z",
     "iopub.status.busy": "2021-09-07T00:22:01.812602Z",
     "iopub.status.idle": "2021-09-07T00:22:01.814392Z",
     "shell.execute_reply": "2021-09-07T00:22:01.815047Z"
    },
    "papermill": {
     "duration": 0.052042,
     "end_time": "2021-09-07T00:22:01.815285",
     "exception": false,
     "start_time": "2021-09-07T00:22:01.763243",
     "status": "completed"
    },
    "tags": []
   },
   "outputs": [],
   "source": [
    "#hide\n",
    "g.index.name = 'date'"
   ]
  },
  {
   "cell_type": "code",
   "execution_count": 24,
   "id": "naked-donor",
   "metadata": {
    "execution": {
     "iopub.execute_input": "2021-09-07T00:22:01.907387Z",
     "iopub.status.busy": "2021-09-07T00:22:01.906081Z",
     "iopub.status.idle": "2021-09-07T00:22:01.908142Z",
     "shell.execute_reply": "2021-09-07T00:22:01.908676Z"
    },
    "papermill": {
     "duration": 0.049755,
     "end_time": "2021-09-07T00:22:01.908835",
     "exception": false,
     "start_time": "2021-09-07T00:22:01.859080",
     "status": "completed"
    },
    "tags": []
   },
   "outputs": [],
   "source": [
    "# #hide\n",
    "# g = g.reset_index(['date'])"
   ]
  },
  {
   "cell_type": "code",
   "execution_count": 25,
   "id": "incomplete-mustang",
   "metadata": {
    "execution": {
     "iopub.execute_input": "2021-09-07T00:22:01.997092Z",
     "iopub.status.busy": "2021-09-07T00:22:01.996339Z",
     "iopub.status.idle": "2021-09-07T00:22:01.998869Z",
     "shell.execute_reply": "2021-09-07T00:22:01.998344Z"
    },
    "papermill": {
     "duration": 0.047815,
     "end_time": "2021-09-07T00:22:01.998993",
     "exception": false,
     "start_time": "2021-09-07T00:22:01.951178",
     "status": "completed"
    },
    "tags": []
   },
   "outputs": [],
   "source": [
    "#hide\n",
    "# g.head()"
   ]
  },
  {
   "cell_type": "code",
   "execution_count": 26,
   "id": "specific-kruger",
   "metadata": {
    "execution": {
     "iopub.execute_input": "2021-09-07T00:22:02.112349Z",
     "iopub.status.busy": "2021-09-07T00:22:02.111633Z",
     "iopub.status.idle": "2021-09-07T00:22:02.114320Z",
     "shell.execute_reply": "2021-09-07T00:22:02.113719Z"
    },
    "papermill": {
     "duration": 0.049374,
     "end_time": "2021-09-07T00:22:02.114450",
     "exception": false,
     "start_time": "2021-09-07T00:22:02.065076",
     "status": "completed"
    },
    "tags": []
   },
   "outputs": [],
   "source": [
    "#hide\n",
    "# g.columns = ['date','country','cases']"
   ]
  },
  {
   "cell_type": "code",
   "execution_count": 27,
   "id": "tender-conversion",
   "metadata": {
    "execution": {
     "iopub.execute_input": "2021-09-07T00:22:02.204775Z",
     "iopub.status.busy": "2021-09-07T00:22:02.204016Z",
     "iopub.status.idle": "2021-09-07T00:22:02.205542Z",
     "shell.execute_reply": "2021-09-07T00:22:02.206145Z"
    },
    "papermill": {
     "duration": 0.049977,
     "end_time": "2021-09-07T00:22:02.206290",
     "exception": false,
     "start_time": "2021-09-07T00:22:02.156313",
     "status": "completed"
    },
    "tags": []
   },
   "outputs": [],
   "source": [
    "#hide\n",
    "# g['continent'] = g.country"
   ]
  },
  {
   "cell_type": "code",
   "execution_count": 28,
   "id": "substantial-wilderness",
   "metadata": {
    "execution": {
     "iopub.execute_input": "2021-09-07T00:22:02.295603Z",
     "iopub.status.busy": "2021-09-07T00:22:02.294941Z",
     "iopub.status.idle": "2021-09-07T00:22:02.296884Z",
     "shell.execute_reply": "2021-09-07T00:22:02.297484Z"
    },
    "papermill": {
     "duration": 0.048116,
     "end_time": "2021-09-07T00:22:02.297625",
     "exception": false,
     "start_time": "2021-09-07T00:22:02.249509",
     "status": "completed"
    },
    "tags": []
   },
   "outputs": [],
   "source": [
    "#hide\n",
    "# cols = list(g.columns.values)"
   ]
  },
  {
   "cell_type": "code",
   "execution_count": 29,
   "id": "solved-farming",
   "metadata": {
    "execution": {
     "iopub.execute_input": "2021-09-07T00:22:02.397494Z",
     "iopub.status.busy": "2021-09-07T00:22:02.396781Z",
     "iopub.status.idle": "2021-09-07T00:22:02.399777Z",
     "shell.execute_reply": "2021-09-07T00:22:02.400379Z"
    },
    "papermill": {
     "duration": 0.051079,
     "end_time": "2021-09-07T00:22:02.400539",
     "exception": false,
     "start_time": "2021-09-07T00:22:02.349460",
     "status": "completed"
    },
    "tags": []
   },
   "outputs": [],
   "source": [
    "#hide\n",
    "# cols.insert(0, cols.pop())"
   ]
  },
  {
   "cell_type": "code",
   "execution_count": 30,
   "id": "executed-adoption",
   "metadata": {
    "execution": {
     "iopub.execute_input": "2021-09-07T00:22:02.490920Z",
     "iopub.status.busy": "2021-09-07T00:22:02.490163Z",
     "iopub.status.idle": "2021-09-07T00:22:02.491996Z",
     "shell.execute_reply": "2021-09-07T00:22:02.492622Z"
    },
    "papermill": {
     "duration": 0.048991,
     "end_time": "2021-09-07T00:22:02.492758",
     "exception": false,
     "start_time": "2021-09-07T00:22:02.443767",
     "status": "completed"
    },
    "tags": []
   },
   "outputs": [],
   "source": [
    "#hide\n",
    "# g = g[cols]"
   ]
  },
  {
   "cell_type": "code",
   "execution_count": 31,
   "id": "subject-dublin",
   "metadata": {
    "execution": {
     "iopub.execute_input": "2021-09-07T00:22:02.582860Z",
     "iopub.status.busy": "2021-09-07T00:22:02.582131Z",
     "iopub.status.idle": "2021-09-07T00:22:02.584064Z",
     "shell.execute_reply": "2021-09-07T00:22:02.584681Z"
    },
    "papermill": {
     "duration": 0.048572,
     "end_time": "2021-09-07T00:22:02.584850",
     "exception": false,
     "start_time": "2021-09-07T00:22:02.536278",
     "status": "completed"
    },
    "tags": []
   },
   "outputs": [],
   "source": [
    "#hide\n",
    "# g['continent'] = g['continent'].map(mapping['map.continent'])"
   ]
  },
  {
   "cell_type": "code",
   "execution_count": 32,
   "id": "freelance-scout",
   "metadata": {
    "execution": {
     "iopub.execute_input": "2021-09-07T00:22:02.675232Z",
     "iopub.status.busy": "2021-09-07T00:22:02.674526Z",
     "iopub.status.idle": "2021-09-07T00:22:02.676985Z",
     "shell.execute_reply": "2021-09-07T00:22:02.676429Z"
    },
    "papermill": {
     "duration": 0.051798,
     "end_time": "2021-09-07T00:22:02.677120",
     "exception": false,
     "start_time": "2021-09-07T00:22:02.625322",
     "status": "completed"
    },
    "tags": []
   },
   "outputs": [],
   "source": [
    "#hide\n",
    "# g.head()"
   ]
  },
  {
   "cell_type": "code",
   "execution_count": 33,
   "id": "limited-engine",
   "metadata": {
    "execution": {
     "iopub.execute_input": "2021-09-07T00:22:02.764963Z",
     "iopub.status.busy": "2021-09-07T00:22:02.764233Z",
     "iopub.status.idle": "2021-09-07T00:22:02.766962Z",
     "shell.execute_reply": "2021-09-07T00:22:02.766353Z"
    },
    "papermill": {
     "duration": 0.049096,
     "end_time": "2021-09-07T00:22:02.767101",
     "exception": false,
     "start_time": "2021-09-07T00:22:02.718005",
     "status": "completed"
    },
    "tags": []
   },
   "outputs": [],
   "source": [
    "# hide\n",
    "# g['date'] = g['date'].astype('datetime64[ns]')"
   ]
  },
  {
   "cell_type": "code",
   "execution_count": 34,
   "id": "sophisticated-supervisor",
   "metadata": {
    "execution": {
     "iopub.execute_input": "2021-09-07T00:22:02.866738Z",
     "iopub.status.busy": "2021-09-07T00:22:02.865943Z",
     "iopub.status.idle": "2021-09-07T00:22:02.868518Z",
     "shell.execute_reply": "2021-09-07T00:22:02.867919Z"
    },
    "papermill": {
     "duration": 0.050164,
     "end_time": "2021-09-07T00:22:02.868645",
     "exception": false,
     "start_time": "2021-09-07T00:22:02.818481",
     "status": "completed"
    },
    "tags": []
   },
   "outputs": [],
   "source": [
    "#hide\n",
    "# g['date'] = g.date.dt.dayofyear"
   ]
  },
  {
   "cell_type": "code",
   "execution_count": 35,
   "id": "inside-dubai",
   "metadata": {
    "execution": {
     "iopub.execute_input": "2021-09-07T00:22:02.966504Z",
     "iopub.status.busy": "2021-09-07T00:22:02.965798Z",
     "iopub.status.idle": "2021-09-07T00:22:02.968345Z",
     "shell.execute_reply": "2021-09-07T00:22:02.967790Z"
    },
    "papermill": {
     "duration": 0.046282,
     "end_time": "2021-09-07T00:22:02.968474",
     "exception": false,
     "start_time": "2021-09-07T00:22:02.922192",
     "status": "completed"
    },
    "tags": []
   },
   "outputs": [],
   "source": [
    "#hide\n",
    "# g = g.rename(columns= {'continent':'group','country':'name','cases':'value'})"
   ]
  },
  {
   "cell_type": "code",
   "execution_count": 36,
   "id": "fleet-motorcycle",
   "metadata": {
    "execution": {
     "iopub.execute_input": "2021-09-07T00:22:03.055620Z",
     "iopub.status.busy": "2021-09-07T00:22:03.054954Z",
     "iopub.status.idle": "2021-09-07T00:22:03.056973Z",
     "shell.execute_reply": "2021-09-07T00:22:03.057584Z"
    },
    "papermill": {
     "duration": 0.047894,
     "end_time": "2021-09-07T00:22:03.057814",
     "exception": false,
     "start_time": "2021-09-07T00:22:03.009920",
     "status": "completed"
    },
    "tags": []
   },
   "outputs": [],
   "source": [
    "#hide\n",
    "# cols = ['name','group','day','value']"
   ]
  },
  {
   "cell_type": "code",
   "execution_count": 37,
   "id": "continued-sleeping",
   "metadata": {
    "execution": {
     "iopub.execute_input": "2021-09-07T00:22:03.145583Z",
     "iopub.status.busy": "2021-09-07T00:22:03.144802Z",
     "iopub.status.idle": "2021-09-07T00:22:03.147587Z",
     "shell.execute_reply": "2021-09-07T00:22:03.146921Z"
    },
    "papermill": {
     "duration": 0.047922,
     "end_time": "2021-09-07T00:22:03.147792",
     "exception": false,
     "start_time": "2021-09-07T00:22:03.099870",
     "status": "completed"
    },
    "tags": []
   },
   "outputs": [],
   "source": [
    "#hide\n",
    "# g.rename(columns= {'date':'day'},inplace = True)"
   ]
  },
  {
   "cell_type": "code",
   "execution_count": 38,
   "id": "major-fight",
   "metadata": {
    "execution": {
     "iopub.execute_input": "2021-09-07T00:22:03.235819Z",
     "iopub.status.busy": "2021-09-07T00:22:03.234763Z",
     "iopub.status.idle": "2021-09-07T00:22:03.237841Z",
     "shell.execute_reply": "2021-09-07T00:22:03.238412Z"
    },
    "papermill": {
     "duration": 0.049174,
     "end_time": "2021-09-07T00:22:03.238568",
     "exception": false,
     "start_time": "2021-09-07T00:22:03.189394",
     "status": "completed"
    },
    "tags": []
   },
   "outputs": [],
   "source": [
    "#hide\n",
    "# g = g[cols]"
   ]
  },
  {
   "cell_type": "code",
   "execution_count": 39,
   "id": "structured-mobile",
   "metadata": {
    "execution": {
     "iopub.execute_input": "2021-09-07T00:22:03.325427Z",
     "iopub.status.busy": "2021-09-07T00:22:03.324737Z",
     "iopub.status.idle": "2021-09-07T00:22:03.328370Z",
     "shell.execute_reply": "2021-09-07T00:22:03.327824Z"
    },
    "papermill": {
     "duration": 0.048344,
     "end_time": "2021-09-07T00:22:03.328497",
     "exception": false,
     "start_time": "2021-09-07T00:22:03.280153",
     "status": "completed"
    },
    "tags": []
   },
   "outputs": [],
   "source": [
    "# #hide\n",
    "# g = g[g.group.notna()]"
   ]
  },
  {
   "cell_type": "code",
   "execution_count": 40,
   "id": "determined-closing",
   "metadata": {
    "execution": {
     "iopub.execute_input": "2021-09-07T00:22:03.418036Z",
     "iopub.status.busy": "2021-09-07T00:22:03.417155Z",
     "iopub.status.idle": "2021-09-07T00:22:03.420206Z",
     "shell.execute_reply": "2021-09-07T00:22:03.420745Z"
    },
    "papermill": {
     "duration": 0.050147,
     "end_time": "2021-09-07T00:22:03.420893",
     "exception": false,
     "start_time": "2021-09-07T00:22:03.370746",
     "status": "completed"
    },
    "tags": []
   },
   "outputs": [],
   "source": [
    "# #hide\n",
    "# colors = dict(zip(\n",
    "#     [\"Oceania\", \"Europe\", \"Asia\", \"South America\", \"Middle East\", \"North America\", \"Africa\"],\n",
    "#     [\"#adb0ff\", \"#ffb3ff\", \"#90d595\", \"#e48381\", \"#aafbff\", \"#f7bb5f\", \"#eafb50\"]\n",
    "# ))\n",
    "# group_lk = g.set_index('name')['group'].to_dict()"
   ]
  },
  {
   "cell_type": "code",
   "execution_count": null,
   "id": "gross-drinking",
   "metadata": {
    "papermill": {
     "duration": 0.040906,
     "end_time": "2021-09-07T00:22:03.504419",
     "exception": false,
     "start_time": "2021-09-07T00:22:03.463513",
     "status": "completed"
    },
    "tags": []
   },
   "outputs": [],
   "source": []
  },
  {
   "cell_type": "code",
   "execution_count": 41,
   "id": "subject-macintosh",
   "metadata": {
    "execution": {
     "iopub.execute_input": "2021-09-07T00:22:03.592070Z",
     "iopub.status.busy": "2021-09-07T00:22:03.591299Z",
     "iopub.status.idle": "2021-09-07T00:22:03.593392Z",
     "shell.execute_reply": "2021-09-07T00:22:03.593943Z"
    },
    "papermill": {
     "duration": 0.048624,
     "end_time": "2021-09-07T00:22:03.594089",
     "exception": false,
     "start_time": "2021-09-07T00:22:03.545465",
     "status": "completed"
    },
    "tags": []
   },
   "outputs": [],
   "source": [
    "# #hide\n",
    "# fig, ax = plt.subplots(figsize=(15, 8))\n",
    "\n",
    "# def draw_barchart(current_day):\n",
    "#     dff = g[g['day'].eq(current_day)].sort_values(by='value', ascending=True).tail(10)\n",
    "#     ax.clear()\n",
    "#     ax.barh(dff['name'], dff['value'], color=[colors[group_lk[x]] for x in dff['name']])\n",
    "#     dx = dff['value'].max() / 200\n",
    "    \n",
    "#     for i, (value, name) in enumerate(zip(dff['value'], dff['name'])):\n",
    "#         ax.text(value-dx, i,     name,           size=14, weight=600, ha='right', va='bottom')\n",
    "#         ax.text(value-dx, i-.25, group_lk[name], size=10, color='#444444', ha='right', va='baseline')\n",
    "#         ax.text(value+dx, i,     f'{value:,.0f}',  size=14, ha='left',  va='center')\n",
    "#     ax.text(1, 0.4, current_day, transform=ax.transAxes, color='#777777', size=46, ha='right', weight=800)\n",
    "#     ax.text(0, 1.06, 'Population (thousands)', transform=ax.transAxes, size=12, color='#777777')\n",
    "#     ax.xaxis.set_major_formatter(ticker.StrMethodFormatter('{x:,.0f}'))\n",
    "#     ax.xaxis.set_ticks_position('top')\n",
    "#     ax.tick_params(axis='x', colors='#777777', labelsize=12)\n",
    "#     ax.set_yticks([])\n",
    "#     ax.margins(0, 0.01)\n",
    "#     ax.grid(which='major', axis='x', linestyle='-')\n",
    "#     ax.set_axisbelow(True)\n",
    "    \n",
    "#     ax.text(0, 1.15, 'Coronavirus',\n",
    "#             transform=ax.transAxes, size=24, weight=600, ha='left', va='top')\n",
    "# #     ax.text(1, 0, 'by @pratapvardhan; credit @jburnmurdoch', transform=ax.transAxes, color='#777777', ha='right',\n",
    "# #             bbox=dict(facecolor='white', alpha=0.8, edgecolor='white'))\n",
    "#     plt.box(False)"
   ]
  },
  {
   "cell_type": "code",
   "execution_count": 42,
   "id": "sexual-wages",
   "metadata": {
    "execution": {
     "iopub.execute_input": "2021-09-07T00:22:03.681035Z",
     "iopub.status.busy": "2021-09-07T00:22:03.680362Z",
     "iopub.status.idle": "2021-09-07T00:22:03.682723Z",
     "shell.execute_reply": "2021-09-07T00:22:03.683276Z"
    },
    "papermill": {
     "duration": 0.04851,
     "end_time": "2021-09-07T00:22:03.683417",
     "exception": false,
     "start_time": "2021-09-07T00:22:03.634907",
     "status": "completed"
    },
    "tags": []
   },
   "outputs": [],
   "source": [
    "# #hide_input\n",
    "# fig, ax = plt.subplots(figsize=(15, 8))\n",
    "# animator = animation.FuncAnimation(fig, draw_barchart, frames=range(g.day.values.min(), g.day.values.max()))\n",
    "# HTML(animator.to_jshtml())\n",
    "# # or use animator.to_html5_video() or animator.save() "
   ]
  },
  {
   "cell_type": "code",
   "execution_count": null,
   "id": "australian-container",
   "metadata": {
    "papermill": {
     "duration": 0.043871,
     "end_time": "2021-09-07T00:22:03.767380",
     "exception": false,
     "start_time": "2021-09-07T00:22:03.723509",
     "status": "completed"
    },
    "tags": []
   },
   "outputs": [],
   "source": []
  },
  {
   "cell_type": "code",
   "execution_count": null,
   "id": "mediterranean-pontiac",
   "metadata": {
    "papermill": {
     "duration": 0.041467,
     "end_time": "2021-09-07T00:22:03.849267",
     "exception": false,
     "start_time": "2021-09-07T00:22:03.807800",
     "status": "completed"
    },
    "tags": []
   },
   "outputs": [],
   "source": []
  },
  {
   "cell_type": "code",
   "execution_count": null,
   "id": "aging-legislature",
   "metadata": {
    "papermill": {
     "duration": 0.040157,
     "end_time": "2021-09-07T00:22:03.930690",
     "exception": false,
     "start_time": "2021-09-07T00:22:03.890533",
     "status": "completed"
    },
    "tags": []
   },
   "outputs": [],
   "source": []
  }
 ],
 "metadata": {
  "kernelspec": {
   "display_name": "Python 3",
   "language": "python",
   "name": "python3"
  },
  "language_info": {
   "codemirror_mode": {
    "name": "ipython",
    "version": 3
   },
   "file_extension": ".py",
   "mimetype": "text/x-python",
   "name": "python",
   "nbconvert_exporter": "python",
   "pygments_lexer": "ipython3",
   "version": "3.6.14"
  },
  "papermill": {
   "duration": 7.964113,
   "end_time": "2021-09-07T00:22:04.393849",
   "environment_variables": {},
   "exception": null,
   "input_path": "2020-03-21-covid19exp.ipynb",
   "output_path": "2020-03-21-covid19exp.ipynb",
   "parameters": {},
   "start_time": "2021-09-07T00:21:56.429736",
   "version": "2.0.0"
  }
 },
 "nbformat": 4,
 "nbformat_minor": 5
}