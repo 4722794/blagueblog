{
 "cells": [
  {
   "cell_type": "markdown",
   "id": "muslim-click",
   "metadata": {
    "papermill": {
     "duration": 0.044706,
     "end_time": "2021-06-14T00:20:15.771570",
     "exception": false,
     "start_time": "2021-06-14T00:20:15.726864",
     "status": "completed"
    },
    "tags": []
   },
   "source": [
    "# COVID-19 Case Race\n",
    "> A race chart to see rising cases around the world\n",
    "\n",
    "- author: Hargun Oberoi\n",
    "- image: images/covid-overview.png\n",
    "- hide: false\n",
    "- badges: false"
   ]
  },
  {
   "cell_type": "code",
   "execution_count": 1,
   "id": "proof-material",
   "metadata": {
    "execution": {
     "iopub.execute_input": "2021-06-14T00:20:15.863052Z",
     "iopub.status.busy": "2021-06-14T00:20:15.862219Z",
     "iopub.status.idle": "2021-06-14T00:20:16.280753Z",
     "shell.execute_reply": "2021-06-14T00:20:16.280081Z"
    },
    "papermill": {
     "duration": 0.468394,
     "end_time": "2021-06-14T00:20:16.280932",
     "exception": false,
     "start_time": "2021-06-14T00:20:15.812538",
     "status": "completed"
    },
    "tags": []
   },
   "outputs": [],
   "source": [
    "#hide\n",
    "import numpy as np\n",
    "import pandas as pd\n",
    "from jinja2 import Template\n",
    "from IPython.display import HTML"
   ]
  },
  {
   "cell_type": "code",
   "execution_count": 2,
   "id": "developed-terminology",
   "metadata": {
    "execution": {
     "iopub.execute_input": "2021-06-14T00:20:16.375873Z",
     "iopub.status.busy": "2021-06-14T00:20:16.375154Z",
     "iopub.status.idle": "2021-06-14T00:20:16.376821Z",
     "shell.execute_reply": "2021-06-14T00:20:16.377603Z"
    },
    "papermill": {
     "duration": 0.050178,
     "end_time": "2021-06-14T00:20:16.377773",
     "exception": false,
     "start_time": "2021-06-14T00:20:16.327595",
     "status": "completed"
    },
    "tags": []
   },
   "outputs": [],
   "source": [
    "#hide\n",
    "\n",
    "# FETCH\n",
    "base_url = 'https://raw.githubusercontent.com/pratapvardhan/notebooks/master/covid19/'\n",
    "paths = {\n",
    "    'mapping': base_url + 'mapping_countries.csv',\n",
    "    'overview': base_url + 'overview.tpl'\n",
    "}"
   ]
  },
  {
   "cell_type": "code",
   "execution_count": 3,
   "id": "dynamic-saver",
   "metadata": {
    "execution": {
     "iopub.execute_input": "2021-06-14T00:20:16.473099Z",
     "iopub.status.busy": "2021-06-14T00:20:16.472375Z",
     "iopub.status.idle": "2021-06-14T00:20:16.475199Z",
     "shell.execute_reply": "2021-06-14T00:20:16.475778Z"
    },
    "papermill": {
     "duration": 0.056319,
     "end_time": "2021-06-14T00:20:16.475940",
     "exception": false,
     "start_time": "2021-06-14T00:20:16.419621",
     "status": "completed"
    },
    "tags": []
   },
   "outputs": [
    {
     "data": {
      "text/plain": [
       "'https://raw.githubusercontent.com/pratapvardhan/notebooks/master/covid19/mapping_countries.csv'"
      ]
     },
     "execution_count": 3,
     "metadata": {},
     "output_type": "execute_result"
    }
   ],
   "source": [
    "#hide\n",
    "paths['mapping']"
   ]
  },
  {
   "cell_type": "code",
   "execution_count": 4,
   "id": "urban-software",
   "metadata": {
    "execution": {
     "iopub.execute_input": "2021-06-14T00:20:16.591891Z",
     "iopub.status.busy": "2021-06-14T00:20:16.590960Z",
     "iopub.status.idle": "2021-06-14T00:20:16.593859Z",
     "shell.execute_reply": "2021-06-14T00:20:16.594590Z"
    },
    "papermill": {
     "duration": 0.059986,
     "end_time": "2021-06-14T00:20:16.594823",
     "exception": false,
     "start_time": "2021-06-14T00:20:16.534837",
     "status": "completed"
    },
    "tags": []
   },
   "outputs": [],
   "source": [
    "#hide\n",
    "def get_mappings(url):\n",
    "    df = pd.read_csv(url)\n",
    "    return {\n",
    "        'df': df,\n",
    "        'replace.country': dict(df.dropna(subset=['Name']).set_index('Country')['Name']),\n",
    "        'map.continent': dict(df.set_index('Name')['Continent'])\n",
    "    }"
   ]
  },
  {
   "cell_type": "code",
   "execution_count": 5,
   "id": "intimate-machinery",
   "metadata": {
    "execution": {
     "iopub.execute_input": "2021-06-14T00:20:16.693085Z",
     "iopub.status.busy": "2021-06-14T00:20:16.692076Z",
     "iopub.status.idle": "2021-06-14T00:20:16.739027Z",
     "shell.execute_reply": "2021-06-14T00:20:16.738448Z"
    },
    "papermill": {
     "duration": 0.096094,
     "end_time": "2021-06-14T00:20:16.739193",
     "exception": false,
     "start_time": "2021-06-14T00:20:16.643099",
     "status": "completed"
    },
    "tags": []
   },
   "outputs": [],
   "source": [
    "#hide\n",
    "mapping = get_mappings(paths['mapping'])"
   ]
  },
  {
   "cell_type": "code",
   "execution_count": 6,
   "id": "certified-tactics",
   "metadata": {
    "execution": {
     "iopub.execute_input": "2021-06-14T00:20:16.837043Z",
     "iopub.status.busy": "2021-06-14T00:20:16.836255Z",
     "iopub.status.idle": "2021-06-14T00:20:16.839134Z",
     "shell.execute_reply": "2021-06-14T00:20:16.838314Z"
    },
    "papermill": {
     "duration": 0.052124,
     "end_time": "2021-06-14T00:20:16.839349",
     "exception": false,
     "start_time": "2021-06-14T00:20:16.787225",
     "status": "completed"
    },
    "tags": []
   },
   "outputs": [],
   "source": [
    "#hide\n",
    "def get_template(path):\n",
    "    from urllib.parse import urlparse\n",
    "    if bool(urlparse(path).netloc):\n",
    "        from urllib.request import urlopen\n",
    "        return urlopen(path).read().decode('utf8')\n",
    "    return open(path).read()"
   ]
  },
  {
   "cell_type": "code",
   "execution_count": 7,
   "id": "realistic-blast",
   "metadata": {
    "execution": {
     "iopub.execute_input": "2021-06-14T00:20:16.943203Z",
     "iopub.status.busy": "2021-06-14T00:20:16.942485Z",
     "iopub.status.idle": "2021-06-14T00:20:16.945026Z",
     "shell.execute_reply": "2021-06-14T00:20:16.944292Z"
    },
    "papermill": {
     "duration": 0.054698,
     "end_time": "2021-06-14T00:20:16.945188",
     "exception": false,
     "start_time": "2021-06-14T00:20:16.890490",
     "status": "completed"
    },
    "tags": []
   },
   "outputs": [],
   "source": [
    "#hide\n",
    "def get_frame(name):\n",
    "    url = (\n",
    "        'https://raw.githubusercontent.com/CSSEGISandData/COVID-19/master/csse_covid_19_data/'\n",
    "        f'csse_covid_19_time_series/time_series_covid19_{name}_global.csv')\n",
    "    df = pd.read_csv(url)\n",
    "    # rename countries\n",
    "    df['Country/Region'] = df['Country/Region'].replace(mapping['replace.country'])\n",
    "    return df"
   ]
  },
  {
   "cell_type": "code",
   "execution_count": 8,
   "id": "affiliated-characterization",
   "metadata": {
    "execution": {
     "iopub.execute_input": "2021-06-14T00:20:17.032856Z",
     "iopub.status.busy": "2021-06-14T00:20:17.032187Z",
     "iopub.status.idle": "2021-06-14T00:20:17.034606Z",
     "shell.execute_reply": "2021-06-14T00:20:17.034088Z"
    },
    "papermill": {
     "duration": 0.048242,
     "end_time": "2021-06-14T00:20:17.034748",
     "exception": false,
     "start_time": "2021-06-14T00:20:16.986506",
     "status": "completed"
    },
    "tags": []
   },
   "outputs": [],
   "source": [
    "#hide\n",
    "def get_dates(df):\n",
    "    dt_cols = df.columns[~df.columns.isin(['Province/State', 'Country/Region', 'Lat', 'Long'])]\n",
    "    LAST_DATE_I = -1\n",
    "    # sometimes last column may be empty, then go backwards\n",
    "    for i in range(-1, -len(dt_cols), -1):\n",
    "        if not df[dt_cols[i]].fillna(0).eq(0).all():\n",
    "            LAST_DATE_I = i\n",
    "            break\n",
    "    return LAST_DATE_I, dt_cols"
   ]
  },
  {
   "cell_type": "code",
   "execution_count": 9,
   "id": "recent-optimization",
   "metadata": {
    "execution": {
     "iopub.execute_input": "2021-06-14T00:20:17.133160Z",
     "iopub.status.busy": "2021-06-14T00:20:17.132344Z",
     "iopub.status.idle": "2021-06-14T00:20:17.549008Z",
     "shell.execute_reply": "2021-06-14T00:20:17.548400Z"
    },
    "papermill": {
     "duration": 0.471557,
     "end_time": "2021-06-14T00:20:17.549176",
     "exception": false,
     "start_time": "2021-06-14T00:20:17.077619",
     "status": "completed"
    },
    "tags": []
   },
   "outputs": [],
   "source": [
    "#hide\n",
    "COL_REGION = 'Country/Region'\n",
    "# Confirmed, Recovered, Deaths\n",
    "df = get_frame('confirmed')\n",
    "# dft_: timeseries, dfc_: today country agg\n",
    "dft_cases = df\n",
    "dft_deaths = get_frame('deaths')\n",
    "dft_recovered = get_frame('recovered')\n",
    "LAST_DATE_I, dt_cols = get_dates(df)"
   ]
  },
  {
   "cell_type": "code",
   "execution_count": 10,
   "id": "absolute-copper",
   "metadata": {
    "execution": {
     "iopub.execute_input": "2021-06-14T00:20:17.636255Z",
     "iopub.status.busy": "2021-06-14T00:20:17.634998Z",
     "iopub.status.idle": "2021-06-14T00:20:17.636980Z",
     "shell.execute_reply": "2021-06-14T00:20:17.637511Z"
    },
    "papermill": {
     "duration": 0.04899,
     "end_time": "2021-06-14T00:20:17.637735",
     "exception": false,
     "start_time": "2021-06-14T00:20:17.588745",
     "status": "completed"
    },
    "tags": []
   },
   "outputs": [],
   "source": [
    "#hide\n",
    "LAST_DATE_I, dt_cols = get_dates(df)\n",
    "dt_today =dt_cols[LAST_DATE_I]\n",
    "# dt_5day = dt_cols[LAST_DATE_I - 5]\n",
    "dt_yday = dt_cols[LAST_DATE_I - 1]"
   ]
  },
  {
   "cell_type": "code",
   "execution_count": 11,
   "id": "restricted-sheriff",
   "metadata": {
    "execution": {
     "iopub.execute_input": "2021-06-14T00:20:17.724384Z",
     "iopub.status.busy": "2021-06-14T00:20:17.723707Z",
     "iopub.status.idle": "2021-06-14T00:20:17.733600Z",
     "shell.execute_reply": "2021-06-14T00:20:17.733047Z"
    },
    "papermill": {
     "duration": 0.05685,
     "end_time": "2021-06-14T00:20:17.733773",
     "exception": false,
     "start_time": "2021-06-14T00:20:17.676923",
     "status": "completed"
    },
    "tags": []
   },
   "outputs": [],
   "source": [
    "#hide\n",
    "dfc_cases = dft_cases.groupby(COL_REGION)[dt_today].sum()\n",
    "dfc_deaths = dft_deaths.groupby(COL_REGION)[dt_today].sum()\n",
    "# dfp_cases = dft_cases.groupby(COL_REGION)[dt_5day].sum()\n",
    "# dfp_deaths = dft_deaths.groupby(COL_REGION)[dt_5day].sum()\n",
    "dfp_cases = dft_cases.groupby(COL_REGION)[dt_yday].sum()\n",
    "dfp_deaths = dft_deaths.groupby(COL_REGION)[dt_yday].sum()"
   ]
  },
  {
   "cell_type": "code",
   "execution_count": 12,
   "id": "deluxe-hepatitis",
   "metadata": {
    "execution": {
     "iopub.execute_input": "2021-06-14T00:20:17.821560Z",
     "iopub.status.busy": "2021-06-14T00:20:17.820890Z",
     "iopub.status.idle": "2021-06-14T00:20:17.825584Z",
     "shell.execute_reply": "2021-06-14T00:20:17.826328Z"
    },
    "papermill": {
     "duration": 0.053627,
     "end_time": "2021-06-14T00:20:17.826521",
     "exception": false,
     "start_time": "2021-06-14T00:20:17.772894",
     "status": "completed"
    },
    "tags": []
   },
   "outputs": [],
   "source": [
    "#hide\n",
    "df_table = (pd.DataFrame(dict(Cases = dfc_cases, Deaths = dfc_deaths, PCases = dfp_cases, PDeaths = dfp_deaths))\n",
    "            .sort_values(by = ['Cases','Deaths'], ascending = [False, False])\n",
    "            .reset_index())"
   ]
  },
  {
   "cell_type": "code",
   "execution_count": 13,
   "id": "educational-chancellor",
   "metadata": {
    "execution": {
     "iopub.execute_input": "2021-06-14T00:20:17.924501Z",
     "iopub.status.busy": "2021-06-14T00:20:17.919159Z",
     "iopub.status.idle": "2021-06-14T00:20:17.933963Z",
     "shell.execute_reply": "2021-06-14T00:20:17.933469Z"
    },
    "papermill": {
     "duration": 0.068718,
     "end_time": "2021-06-14T00:20:17.934094",
     "exception": false,
     "start_time": "2021-06-14T00:20:17.865376",
     "status": "completed"
    },
    "tags": []
   },
   "outputs": [
    {
     "data": {
      "text/html": [
       "<div>\n",
       "<style scoped>\n",
       "    .dataframe tbody tr th:only-of-type {\n",
       "        vertical-align: middle;\n",
       "    }\n",
       "\n",
       "    .dataframe tbody tr th {\n",
       "        vertical-align: top;\n",
       "    }\n",
       "\n",
       "    .dataframe thead th {\n",
       "        text-align: right;\n",
       "    }\n",
       "</style>\n",
       "<table border=\"1\" class=\"dataframe\">\n",
       "  <thead>\n",
       "    <tr style=\"text-align: right;\">\n",
       "      <th></th>\n",
       "      <th>Country/Region</th>\n",
       "      <th>Cases</th>\n",
       "      <th>Deaths</th>\n",
       "      <th>PCases</th>\n",
       "      <th>PDeaths</th>\n",
       "      <th>Cases (+)</th>\n",
       "      <th>Deaths (+)</th>\n",
       "      <th>Fatality Rate</th>\n",
       "      <th>Continent</th>\n",
       "    </tr>\n",
       "  </thead>\n",
       "  <tbody>\n",
       "    <tr>\n",
       "      <th>0</th>\n",
       "      <td>US</td>\n",
       "      <td>33457407</td>\n",
       "      <td>599664</td>\n",
       "      <td>33449200</td>\n",
       "      <td>599385</td>\n",
       "      <td>8207</td>\n",
       "      <td>279</td>\n",
       "      <td>1.79</td>\n",
       "      <td>North America</td>\n",
       "    </tr>\n",
       "    <tr>\n",
       "      <th>1</th>\n",
       "      <td>India</td>\n",
       "      <td>29439989</td>\n",
       "      <td>370384</td>\n",
       "      <td>29359155</td>\n",
       "      <td>367081</td>\n",
       "      <td>80834</td>\n",
       "      <td>3303</td>\n",
       "      <td>1.26</td>\n",
       "      <td>Asia</td>\n",
       "    </tr>\n",
       "    <tr>\n",
       "      <th>2</th>\n",
       "      <td>Brazil</td>\n",
       "      <td>17374818</td>\n",
       "      <td>486272</td>\n",
       "      <td>17296118</td>\n",
       "      <td>484235</td>\n",
       "      <td>78700</td>\n",
       "      <td>2037</td>\n",
       "      <td>2.80</td>\n",
       "      <td>South America</td>\n",
       "    </tr>\n",
       "    <tr>\n",
       "      <th>3</th>\n",
       "      <td>France</td>\n",
       "      <td>5799459</td>\n",
       "      <td>110540</td>\n",
       "      <td>5795487</td>\n",
       "      <td>110506</td>\n",
       "      <td>3972</td>\n",
       "      <td>34</td>\n",
       "      <td>1.91</td>\n",
       "      <td>Europe</td>\n",
       "    </tr>\n",
       "    <tr>\n",
       "      <th>4</th>\n",
       "      <td>Turkey</td>\n",
       "      <td>5325435</td>\n",
       "      <td>48668</td>\n",
       "      <td>5319359</td>\n",
       "      <td>48593</td>\n",
       "      <td>6076</td>\n",
       "      <td>75</td>\n",
       "      <td>0.91</td>\n",
       "      <td>Asia</td>\n",
       "    </tr>\n",
       "  </tbody>\n",
       "</table>\n",
       "</div>"
      ],
      "text/plain": [
       "  Country/Region     Cases  Deaths    PCases  PDeaths  Cases (+)  Deaths (+)  \\\n",
       "0             US  33457407  599664  33449200   599385       8207         279   \n",
       "1          India  29439989  370384  29359155   367081      80834        3303   \n",
       "2         Brazil  17374818  486272  17296118   484235      78700        2037   \n",
       "3         France   5799459  110540   5795487   110506       3972          34   \n",
       "4         Turkey   5325435   48668   5319359    48593       6076          75   \n",
       "\n",
       "   Fatality Rate      Continent  \n",
       "0           1.79  North America  \n",
       "1           1.26           Asia  \n",
       "2           2.80  South America  \n",
       "3           1.91         Europe  \n",
       "4           0.91           Asia  "
      ]
     },
     "execution_count": 13,
     "metadata": {},
     "output_type": "execute_result"
    }
   ],
   "source": [
    "#hide\n",
    "for c in 'Cases, Deaths'.split(', '):\n",
    "    df_table[f'{c} (+)'] = (df_table[c] - df_table[f'P{c}']).clip(0)\n",
    "    #Clip ça veut dire, les chiffres negatif sont interdit\n",
    "df_table['Fatality Rate'] = (100* df_table['Deaths']/ df_table['Cases']).round(2)\n",
    "df_table['Continent'] = df_table['Country/Region'].map(mapping['map.continent'])\n",
    "df_table.head(5)"
   ]
  },
  {
   "cell_type": "code",
   "execution_count": 14,
   "id": "aboriginal-bulgaria",
   "metadata": {
    "execution": {
     "iopub.execute_input": "2021-06-14T00:20:18.021828Z",
     "iopub.status.busy": "2021-06-14T00:20:18.021143Z",
     "iopub.status.idle": "2021-06-14T00:20:18.023716Z",
     "shell.execute_reply": "2021-06-14T00:20:18.023207Z"
    },
    "papermill": {
     "duration": 0.048672,
     "end_time": "2021-06-14T00:20:18.023841",
     "exception": false,
     "start_time": "2021-06-14T00:20:17.975169",
     "status": "completed"
    },
    "tags": []
   },
   "outputs": [],
   "source": [
    "#hide\n",
    "#delete problematic countries from table\n",
    "df_table = df_table[~df_table['Country/Region'].isin(['Cape Verde', 'Cruise Ship', 'Kosovo'])]"
   ]
  },
  {
   "cell_type": "code",
   "execution_count": 15,
   "id": "fantastic-effect",
   "metadata": {
    "execution": {
     "iopub.execute_input": "2021-06-14T00:20:18.114232Z",
     "iopub.status.busy": "2021-06-14T00:20:18.113503Z",
     "iopub.status.idle": "2021-06-14T00:20:18.136409Z",
     "shell.execute_reply": "2021-06-14T00:20:18.136951Z"
    },
    "papermill": {
     "duration": 0.072525,
     "end_time": "2021-06-14T00:20:18.137129",
     "exception": false,
     "start_time": "2021-06-14T00:20:18.064604",
     "status": "completed"
    },
    "tags": []
   },
   "outputs": [
    {
     "data": {
      "text/html": [
       "<div>\n",
       "<style scoped>\n",
       "    .dataframe tbody tr th:only-of-type {\n",
       "        vertical-align: middle;\n",
       "    }\n",
       "\n",
       "    .dataframe tbody tr th {\n",
       "        vertical-align: top;\n",
       "    }\n",
       "\n",
       "    .dataframe thead th {\n",
       "        text-align: right;\n",
       "    }\n",
       "</style>\n",
       "<table border=\"1\" class=\"dataframe\">\n",
       "  <thead>\n",
       "    <tr style=\"text-align: right;\">\n",
       "      <th></th>\n",
       "      <th>Country/Region</th>\n",
       "      <th>Cases</th>\n",
       "      <th>Deaths</th>\n",
       "      <th>PCases</th>\n",
       "      <th>PDeaths</th>\n",
       "      <th>Cases (+)</th>\n",
       "      <th>Deaths (+)</th>\n",
       "      <th>Fatality Rate</th>\n",
       "      <th>Continent</th>\n",
       "    </tr>\n",
       "  </thead>\n",
       "  <tbody>\n",
       "    <tr>\n",
       "      <th>0</th>\n",
       "      <td>US</td>\n",
       "      <td>33457407</td>\n",
       "      <td>599664</td>\n",
       "      <td>33449200</td>\n",
       "      <td>599385</td>\n",
       "      <td>8207</td>\n",
       "      <td>279</td>\n",
       "      <td>1.8</td>\n",
       "      <td>North America</td>\n",
       "    </tr>\n",
       "    <tr>\n",
       "      <th>1</th>\n",
       "      <td>India</td>\n",
       "      <td>29439989</td>\n",
       "      <td>370384</td>\n",
       "      <td>29359155</td>\n",
       "      <td>367081</td>\n",
       "      <td>80834</td>\n",
       "      <td>3303</td>\n",
       "      <td>1.3</td>\n",
       "      <td>Asia</td>\n",
       "    </tr>\n",
       "    <tr>\n",
       "      <th>2</th>\n",
       "      <td>Brazil</td>\n",
       "      <td>17374818</td>\n",
       "      <td>486272</td>\n",
       "      <td>17296118</td>\n",
       "      <td>484235</td>\n",
       "      <td>78700</td>\n",
       "      <td>2037</td>\n",
       "      <td>2.8</td>\n",
       "      <td>South America</td>\n",
       "    </tr>\n",
       "    <tr>\n",
       "      <th>3</th>\n",
       "      <td>France</td>\n",
       "      <td>5799459</td>\n",
       "      <td>110540</td>\n",
       "      <td>5795487</td>\n",
       "      <td>110506</td>\n",
       "      <td>3972</td>\n",
       "      <td>34</td>\n",
       "      <td>1.9</td>\n",
       "      <td>Europe</td>\n",
       "    </tr>\n",
       "    <tr>\n",
       "      <th>4</th>\n",
       "      <td>Turkey</td>\n",
       "      <td>5325435</td>\n",
       "      <td>48668</td>\n",
       "      <td>5319359</td>\n",
       "      <td>48593</td>\n",
       "      <td>6076</td>\n",
       "      <td>75</td>\n",
       "      <td>0.9</td>\n",
       "      <td>Asia</td>\n",
       "    </tr>\n",
       "  </tbody>\n",
       "</table>\n",
       "</div>"
      ],
      "text/plain": [
       "  Country/Region     Cases  Deaths    PCases  PDeaths  Cases (+)  Deaths (+)  \\\n",
       "0             US  33457407  599664  33449200   599385       8207         279   \n",
       "1          India  29439989  370384  29359155   367081      80834        3303   \n",
       "2         Brazil  17374818  486272  17296118   484235      78700        2037   \n",
       "3         France   5799459  110540   5795487   110506       3972          34   \n",
       "4         Turkey   5325435   48668   5319359    48593       6076          75   \n",
       "\n",
       "   Fatality Rate      Continent  \n",
       "0            1.8  North America  \n",
       "1            1.3           Asia  \n",
       "2            2.8  South America  \n",
       "3            1.9         Europe  \n",
       "4            0.9           Asia  "
      ]
     },
     "execution_count": 15,
     "metadata": {},
     "output_type": "execute_result"
    }
   ],
   "source": [
    "#hide\n",
    "df_table = (pd.DataFrame(dict(Cases=dfc_cases, Deaths=dfc_deaths, PCases=dfp_cases, PDeaths=dfp_deaths))\n",
    "             .sort_values(by=['Cases', 'Deaths'], ascending=[False, False])\n",
    "             .reset_index())\n",
    "df_table.rename(columns={'index': 'Country/Region'}, inplace=True)\n",
    "for c in 'Cases, Deaths'.split(', '):\n",
    "    df_table[f'{c} (+)'] = (df_table[c] - df_table[f'P{c}']).clip(0)  # DATA BUG\n",
    "df_table['Fatality Rate'] = (100 * df_table['Deaths'] / df_table['Cases']).round(1)\n",
    "df_table['Continent'] = df_table['Country/Region'].map(mapping['map.continent'])\n",
    "df_table.head(5)"
   ]
  },
  {
   "cell_type": "code",
   "execution_count": 16,
   "id": "fewer-occasion",
   "metadata": {
    "execution": {
     "iopub.execute_input": "2021-06-14T00:20:18.226096Z",
     "iopub.status.busy": "2021-06-14T00:20:18.225346Z",
     "iopub.status.idle": "2021-06-14T00:20:18.227889Z",
     "shell.execute_reply": "2021-06-14T00:20:18.228474Z"
    },
    "papermill": {
     "duration": 0.049662,
     "end_time": "2021-06-14T00:20:18.228618",
     "exception": false,
     "start_time": "2021-06-14T00:20:18.178956",
     "status": "completed"
    },
    "tags": []
   },
   "outputs": [],
   "source": [
    "#hide\n",
    "#delete problematic countries from table\n",
    "df_table = df_table[~df_table['Country/Region'].isin(['Cape Verde', 'Cruise Ship', 'Kosovo'])]"
   ]
  },
  {
   "cell_type": "code",
   "execution_count": 17,
   "id": "related-center",
   "metadata": {
    "execution": {
     "iopub.execute_input": "2021-06-14T00:20:18.331543Z",
     "iopub.status.busy": "2021-06-14T00:20:18.330686Z",
     "iopub.status.idle": "2021-06-14T00:20:18.332394Z",
     "shell.execute_reply": "2021-06-14T00:20:18.333107Z"
    },
    "papermill": {
     "duration": 0.065336,
     "end_time": "2021-06-14T00:20:18.333265",
     "exception": false,
     "start_time": "2021-06-14T00:20:18.267929",
     "status": "completed"
    },
    "tags": []
   },
   "outputs": [],
   "source": [
    "#hide\n",
    "metrics = [df_table.columns[index] for index in [1,2,5,6]]\n",
    "# s_china = df_table[df_table['Country/Region'].eq('China')][metrics].sum().add_prefix('China ')\n",
    "s_us = df_table[df_table['Country/Region'].eq('US')][metrics].sum().add_prefix('US ')\n",
    "s_eu = df_table[df_table['Continent'].eq('Europe')][metrics].sum().add_prefix('EU ')\n",
    "s_ind = df_table[df_table['Country/Region'].eq('India')][metrics].sum().add_prefix('India ')\n",
    "summary = {'updated': pd.to_datetime(dt_today), 'since': pd.to_datetime(dt_yday)}\n",
    "summary = {'updated': pd.to_datetime(dt_today), 'since': pd.to_datetime(dt_yday)}\n",
    "summary = {**summary, **df_table[metrics].sum(), **s_ind, **s_us, **s_eu}"
   ]
  },
  {
   "cell_type": "code",
   "execution_count": 18,
   "id": "engaging-syndrome",
   "metadata": {
    "execution": {
     "iopub.execute_input": "2021-06-14T00:20:18.421854Z",
     "iopub.status.busy": "2021-06-14T00:20:18.421268Z",
     "iopub.status.idle": "2021-06-14T00:20:18.434189Z",
     "shell.execute_reply": "2021-06-14T00:20:18.434686Z"
    },
    "papermill": {
     "duration": 0.059934,
     "end_time": "2021-06-14T00:20:18.434841",
     "exception": false,
     "start_time": "2021-06-14T00:20:18.374907",
     "status": "completed"
    },
    "tags": []
   },
   "outputs": [],
   "source": [
    "#hide\n",
    "dft_ct_new_cases = dft_cases.groupby(COL_REGION)[dt_cols].sum().diff(axis=1).fillna(0).astype(int)"
   ]
  },
  {
   "cell_type": "code",
   "execution_count": 19,
   "id": "neutral-assignment",
   "metadata": {
    "execution": {
     "iopub.execute_input": "2021-06-14T00:20:18.521190Z",
     "iopub.status.busy": "2021-06-14T00:20:18.520380Z",
     "iopub.status.idle": "2021-06-14T00:20:18.524240Z",
     "shell.execute_reply": "2021-06-14T00:20:18.523290Z"
    },
    "papermill": {
     "duration": 0.051916,
     "end_time": "2021-06-14T00:20:18.524393",
     "exception": false,
     "start_time": "2021-06-14T00:20:18.472477",
     "status": "completed"
    },
    "tags": []
   },
   "outputs": [],
   "source": [
    "#hide\n",
    "everydaycases = dft_ct_new_cases.cumsum(axis=1)"
   ]
  },
  {
   "cell_type": "code",
   "execution_count": 20,
   "id": "parliamentary-calgary",
   "metadata": {
    "execution": {
     "iopub.execute_input": "2021-06-14T00:20:18.619684Z",
     "iopub.status.busy": "2021-06-14T00:20:18.618834Z",
     "iopub.status.idle": "2021-06-14T00:20:19.374336Z",
     "shell.execute_reply": "2021-06-14T00:20:19.373610Z"
    },
    "papermill": {
     "duration": 0.803188,
     "end_time": "2021-06-14T00:20:19.374480",
     "exception": false,
     "start_time": "2021-06-14T00:20:18.571292",
     "status": "completed"
    },
    "tags": []
   },
   "outputs": [],
   "source": [
    "#hide\n",
    "import pandas as pd\n",
    "import matplotlib.pyplot as plt\n",
    "import matplotlib.ticker as ticker\n",
    "import matplotlib.animation as animation\n",
    "from IPython.display import HTML"
   ]
  },
  {
   "cell_type": "code",
   "execution_count": 21,
   "id": "lasting-extraction",
   "metadata": {
    "execution": {
     "iopub.execute_input": "2021-06-14T00:20:19.464366Z",
     "iopub.status.busy": "2021-06-14T00:20:19.463749Z",
     "iopub.status.idle": "2021-06-14T00:20:19.469495Z",
     "shell.execute_reply": "2021-06-14T00:20:19.468977Z"
    },
    "papermill": {
     "duration": 0.052413,
     "end_time": "2021-06-14T00:20:19.469626",
     "exception": false,
     "start_time": "2021-06-14T00:20:19.417213",
     "status": "completed"
    },
    "tags": []
   },
   "outputs": [],
   "source": [
    "#hide\n",
    "t = everydaycases.stack()"
   ]
  },
  {
   "cell_type": "code",
   "execution_count": 22,
   "id": "premier-sleeve",
   "metadata": {
    "execution": {
     "iopub.execute_input": "2021-06-14T00:20:19.557088Z",
     "iopub.status.busy": "2021-06-14T00:20:19.556466Z",
     "iopub.status.idle": "2021-06-14T00:20:19.566093Z",
     "shell.execute_reply": "2021-06-14T00:20:19.565575Z"
    },
    "papermill": {
     "duration": 0.054593,
     "end_time": "2021-06-14T00:20:19.566228",
     "exception": false,
     "start_time": "2021-06-14T00:20:19.511635",
     "status": "completed"
    },
    "tags": []
   },
   "outputs": [],
   "source": [
    "#hide\n",
    "g = t.reset_index(['Country/Region'])"
   ]
  },
  {
   "cell_type": "code",
   "execution_count": 23,
   "id": "distributed-pittsburgh",
   "metadata": {
    "execution": {
     "iopub.execute_input": "2021-06-14T00:20:19.653145Z",
     "iopub.status.busy": "2021-06-14T00:20:19.651473Z",
     "iopub.status.idle": "2021-06-14T00:20:19.653977Z",
     "shell.execute_reply": "2021-06-14T00:20:19.654755Z"
    },
    "papermill": {
     "duration": 0.048685,
     "end_time": "2021-06-14T00:20:19.654962",
     "exception": false,
     "start_time": "2021-06-14T00:20:19.606277",
     "status": "completed"
    },
    "tags": []
   },
   "outputs": [],
   "source": [
    "#hide\n",
    "g.index.name = 'date'"
   ]
  },
  {
   "cell_type": "code",
   "execution_count": 24,
   "id": "naked-donor",
   "metadata": {
    "execution": {
     "iopub.execute_input": "2021-06-14T00:20:19.739263Z",
     "iopub.status.busy": "2021-06-14T00:20:19.738579Z",
     "iopub.status.idle": "2021-06-14T00:20:19.741015Z",
     "shell.execute_reply": "2021-06-14T00:20:19.740471Z"
    },
    "papermill": {
     "duration": 0.047677,
     "end_time": "2021-06-14T00:20:19.741163",
     "exception": false,
     "start_time": "2021-06-14T00:20:19.693486",
     "status": "completed"
    },
    "tags": []
   },
   "outputs": [],
   "source": [
    "# #hide\n",
    "# g = g.reset_index(['date'])"
   ]
  },
  {
   "cell_type": "code",
   "execution_count": 25,
   "id": "incomplete-mustang",
   "metadata": {
    "execution": {
     "iopub.execute_input": "2021-06-14T00:20:19.825981Z",
     "iopub.status.busy": "2021-06-14T00:20:19.825382Z",
     "iopub.status.idle": "2021-06-14T00:20:19.827764Z",
     "shell.execute_reply": "2021-06-14T00:20:19.827222Z"
    },
    "papermill": {
     "duration": 0.046068,
     "end_time": "2021-06-14T00:20:19.827886",
     "exception": false,
     "start_time": "2021-06-14T00:20:19.781818",
     "status": "completed"
    },
    "tags": []
   },
   "outputs": [],
   "source": [
    "#hide\n",
    "# g.head()"
   ]
  },
  {
   "cell_type": "code",
   "execution_count": 26,
   "id": "specific-kruger",
   "metadata": {
    "execution": {
     "iopub.execute_input": "2021-06-14T00:20:19.912311Z",
     "iopub.status.busy": "2021-06-14T00:20:19.911694Z",
     "iopub.status.idle": "2021-06-14T00:20:19.914003Z",
     "shell.execute_reply": "2021-06-14T00:20:19.913484Z"
    },
    "papermill": {
     "duration": 0.045803,
     "end_time": "2021-06-14T00:20:19.914127",
     "exception": false,
     "start_time": "2021-06-14T00:20:19.868324",
     "status": "completed"
    },
    "tags": []
   },
   "outputs": [],
   "source": [
    "#hide\n",
    "# g.columns = ['date','country','cases']"
   ]
  },
  {
   "cell_type": "code",
   "execution_count": 27,
   "id": "tender-conversion",
   "metadata": {
    "execution": {
     "iopub.execute_input": "2021-06-14T00:20:20.000561Z",
     "iopub.status.busy": "2021-06-14T00:20:19.999882Z",
     "iopub.status.idle": "2021-06-14T00:20:20.002209Z",
     "shell.execute_reply": "2021-06-14T00:20:20.001588Z"
    },
    "papermill": {
     "duration": 0.048836,
     "end_time": "2021-06-14T00:20:20.002349",
     "exception": false,
     "start_time": "2021-06-14T00:20:19.953513",
     "status": "completed"
    },
    "tags": []
   },
   "outputs": [],
   "source": [
    "#hide\n",
    "# g['continent'] = g.country"
   ]
  },
  {
   "cell_type": "code",
   "execution_count": 28,
   "id": "substantial-wilderness",
   "metadata": {
    "execution": {
     "iopub.execute_input": "2021-06-14T00:20:20.090320Z",
     "iopub.status.busy": "2021-06-14T00:20:20.089676Z",
     "iopub.status.idle": "2021-06-14T00:20:20.093574Z",
     "shell.execute_reply": "2021-06-14T00:20:20.093015Z"
    },
    "papermill": {
     "duration": 0.050083,
     "end_time": "2021-06-14T00:20:20.093699",
     "exception": false,
     "start_time": "2021-06-14T00:20:20.043616",
     "status": "completed"
    },
    "tags": []
   },
   "outputs": [],
   "source": [
    "#hide\n",
    "# cols = list(g.columns.values)"
   ]
  },
  {
   "cell_type": "code",
   "execution_count": 29,
   "id": "solved-farming",
   "metadata": {
    "execution": {
     "iopub.execute_input": "2021-06-14T00:20:20.174595Z",
     "iopub.status.busy": "2021-06-14T00:20:20.173973Z",
     "iopub.status.idle": "2021-06-14T00:20:20.176628Z",
     "shell.execute_reply": "2021-06-14T00:20:20.175951Z"
    },
    "papermill": {
     "duration": 0.04444,
     "end_time": "2021-06-14T00:20:20.176823",
     "exception": false,
     "start_time": "2021-06-14T00:20:20.132383",
     "status": "completed"
    },
    "tags": []
   },
   "outputs": [],
   "source": [
    "#hide\n",
    "# cols.insert(0, cols.pop())"
   ]
  },
  {
   "cell_type": "code",
   "execution_count": 30,
   "id": "executed-adoption",
   "metadata": {
    "execution": {
     "iopub.execute_input": "2021-06-14T00:20:20.259454Z",
     "iopub.status.busy": "2021-06-14T00:20:20.258643Z",
     "iopub.status.idle": "2021-06-14T00:20:20.261222Z",
     "shell.execute_reply": "2021-06-14T00:20:20.260619Z"
    },
    "papermill": {
     "duration": 0.043643,
     "end_time": "2021-06-14T00:20:20.261345",
     "exception": false,
     "start_time": "2021-06-14T00:20:20.217702",
     "status": "completed"
    },
    "tags": []
   },
   "outputs": [],
   "source": [
    "#hide\n",
    "# g = g[cols]"
   ]
  },
  {
   "cell_type": "code",
   "execution_count": 31,
   "id": "subject-dublin",
   "metadata": {
    "execution": {
     "iopub.execute_input": "2021-06-14T00:20:20.345267Z",
     "iopub.status.busy": "2021-06-14T00:20:20.344390Z",
     "iopub.status.idle": "2021-06-14T00:20:20.346605Z",
     "shell.execute_reply": "2021-06-14T00:20:20.347102Z"
    },
    "papermill": {
     "duration": 0.047437,
     "end_time": "2021-06-14T00:20:20.347243",
     "exception": false,
     "start_time": "2021-06-14T00:20:20.299806",
     "status": "completed"
    },
    "tags": []
   },
   "outputs": [],
   "source": [
    "#hide\n",
    "# g['continent'] = g['continent'].map(mapping['map.continent'])"
   ]
  },
  {
   "cell_type": "code",
   "execution_count": 32,
   "id": "freelance-scout",
   "metadata": {
    "execution": {
     "iopub.execute_input": "2021-06-14T00:20:20.431427Z",
     "iopub.status.busy": "2021-06-14T00:20:20.430418Z",
     "iopub.status.idle": "2021-06-14T00:20:20.444737Z",
     "shell.execute_reply": "2021-06-14T00:20:20.444125Z"
    },
    "papermill": {
     "duration": 0.057673,
     "end_time": "2021-06-14T00:20:20.444870",
     "exception": false,
     "start_time": "2021-06-14T00:20:20.387197",
     "status": "completed"
    },
    "tags": []
   },
   "outputs": [],
   "source": [
    "#hide\n",
    "# g.head()"
   ]
  },
  {
   "cell_type": "code",
   "execution_count": 33,
   "id": "limited-engine",
   "metadata": {
    "execution": {
     "iopub.execute_input": "2021-06-14T00:20:20.526174Z",
     "iopub.status.busy": "2021-06-14T00:20:20.525506Z",
     "iopub.status.idle": "2021-06-14T00:20:20.527794Z",
     "shell.execute_reply": "2021-06-14T00:20:20.528319Z"
    },
    "papermill": {
     "duration": 0.045877,
     "end_time": "2021-06-14T00:20:20.528480",
     "exception": false,
     "start_time": "2021-06-14T00:20:20.482603",
     "status": "completed"
    },
    "tags": []
   },
   "outputs": [],
   "source": [
    "# hide\n",
    "# g['date'] = g['date'].astype('datetime64[ns]')"
   ]
  },
  {
   "cell_type": "code",
   "execution_count": 34,
   "id": "sophisticated-supervisor",
   "metadata": {
    "execution": {
     "iopub.execute_input": "2021-06-14T00:20:20.626436Z",
     "iopub.status.busy": "2021-06-14T00:20:20.625784Z",
     "iopub.status.idle": "2021-06-14T00:20:20.627511Z",
     "shell.execute_reply": "2021-06-14T00:20:20.628135Z"
    },
    "papermill": {
     "duration": 0.053601,
     "end_time": "2021-06-14T00:20:20.628283",
     "exception": false,
     "start_time": "2021-06-14T00:20:20.574682",
     "status": "completed"
    },
    "tags": []
   },
   "outputs": [],
   "source": [
    "#hide\n",
    "# g['date'] = g.date.dt.dayofyear"
   ]
  },
  {
   "cell_type": "code",
   "execution_count": 35,
   "id": "inside-dubai",
   "metadata": {
    "execution": {
     "iopub.execute_input": "2021-06-14T00:20:20.732132Z",
     "iopub.status.busy": "2021-06-14T00:20:20.731345Z",
     "iopub.status.idle": "2021-06-14T00:20:20.734151Z",
     "shell.execute_reply": "2021-06-14T00:20:20.733346Z"
    },
    "papermill": {
     "duration": 0.056796,
     "end_time": "2021-06-14T00:20:20.734322",
     "exception": false,
     "start_time": "2021-06-14T00:20:20.677526",
     "status": "completed"
    },
    "tags": []
   },
   "outputs": [],
   "source": [
    "#hide\n",
    "# g = g.rename(columns= {'continent':'group','country':'name','cases':'value'})"
   ]
  },
  {
   "cell_type": "code",
   "execution_count": 36,
   "id": "fleet-motorcycle",
   "metadata": {
    "execution": {
     "iopub.execute_input": "2021-06-14T00:20:20.825031Z",
     "iopub.status.busy": "2021-06-14T00:20:20.824158Z",
     "iopub.status.idle": "2021-06-14T00:20:20.826970Z",
     "shell.execute_reply": "2021-06-14T00:20:20.826260Z"
    },
    "papermill": {
     "duration": 0.049819,
     "end_time": "2021-06-14T00:20:20.827140",
     "exception": false,
     "start_time": "2021-06-14T00:20:20.777321",
     "status": "completed"
    },
    "tags": []
   },
   "outputs": [],
   "source": [
    "#hide\n",
    "# cols = ['name','group','day','value']"
   ]
  },
  {
   "cell_type": "code",
   "execution_count": 37,
   "id": "continued-sleeping",
   "metadata": {
    "execution": {
     "iopub.execute_input": "2021-06-14T00:20:20.917248Z",
     "iopub.status.busy": "2021-06-14T00:20:20.916442Z",
     "iopub.status.idle": "2021-06-14T00:20:20.918261Z",
     "shell.execute_reply": "2021-06-14T00:20:20.918938Z"
    },
    "papermill": {
     "duration": 0.048976,
     "end_time": "2021-06-14T00:20:20.919095",
     "exception": false,
     "start_time": "2021-06-14T00:20:20.870119",
     "status": "completed"
    },
    "tags": []
   },
   "outputs": [],
   "source": [
    "#hide\n",
    "# g.rename(columns= {'date':'day'},inplace = True)"
   ]
  },
  {
   "cell_type": "code",
   "execution_count": 38,
   "id": "major-fight",
   "metadata": {
    "execution": {
     "iopub.execute_input": "2021-06-14T00:20:21.008410Z",
     "iopub.status.busy": "2021-06-14T00:20:21.007728Z",
     "iopub.status.idle": "2021-06-14T00:20:21.009840Z",
     "shell.execute_reply": "2021-06-14T00:20:21.010425Z"
    },
    "papermill": {
     "duration": 0.049342,
     "end_time": "2021-06-14T00:20:21.010578",
     "exception": false,
     "start_time": "2021-06-14T00:20:20.961236",
     "status": "completed"
    },
    "tags": []
   },
   "outputs": [],
   "source": [
    "#hide\n",
    "# g = g[cols]"
   ]
  },
  {
   "cell_type": "code",
   "execution_count": 39,
   "id": "structured-mobile",
   "metadata": {
    "execution": {
     "iopub.execute_input": "2021-06-14T00:20:21.111093Z",
     "iopub.status.busy": "2021-06-14T00:20:21.110412Z",
     "iopub.status.idle": "2021-06-14T00:20:21.113154Z",
     "shell.execute_reply": "2021-06-14T00:20:21.112312Z"
    },
    "papermill": {
     "duration": 0.059175,
     "end_time": "2021-06-14T00:20:21.113310",
     "exception": false,
     "start_time": "2021-06-14T00:20:21.054135",
     "status": "completed"
    },
    "tags": []
   },
   "outputs": [],
   "source": [
    "# #hide\n",
    "# g = g[g.group.notna()]"
   ]
  },
  {
   "cell_type": "code",
   "execution_count": 40,
   "id": "determined-closing",
   "metadata": {
    "execution": {
     "iopub.execute_input": "2021-06-14T00:20:21.216526Z",
     "iopub.status.busy": "2021-06-14T00:20:21.215803Z",
     "iopub.status.idle": "2021-06-14T00:20:21.219415Z",
     "shell.execute_reply": "2021-06-14T00:20:21.217774Z"
    },
    "papermill": {
     "duration": 0.056109,
     "end_time": "2021-06-14T00:20:21.219577",
     "exception": false,
     "start_time": "2021-06-14T00:20:21.163468",
     "status": "completed"
    },
    "tags": []
   },
   "outputs": [],
   "source": [
    "# #hide\n",
    "# colors = dict(zip(\n",
    "#     [\"Oceania\", \"Europe\", \"Asia\", \"South America\", \"Middle East\", \"North America\", \"Africa\"],\n",
    "#     [\"#adb0ff\", \"#ffb3ff\", \"#90d595\", \"#e48381\", \"#aafbff\", \"#f7bb5f\", \"#eafb50\"]\n",
    "# ))\n",
    "# group_lk = g.set_index('name')['group'].to_dict()"
   ]
  },
  {
   "cell_type": "code",
   "execution_count": null,
   "id": "gross-drinking",
   "metadata": {
    "papermill": {
     "duration": 0.040866,
     "end_time": "2021-06-14T00:20:21.304301",
     "exception": false,
     "start_time": "2021-06-14T00:20:21.263435",
     "status": "completed"
    },
    "tags": []
   },
   "outputs": [],
   "source": []
  },
  {
   "cell_type": "code",
   "execution_count": 41,
   "id": "subject-macintosh",
   "metadata": {
    "execution": {
     "iopub.execute_input": "2021-06-14T00:20:21.397242Z",
     "iopub.status.busy": "2021-06-14T00:20:21.396483Z",
     "iopub.status.idle": "2021-06-14T00:20:21.398866Z",
     "shell.execute_reply": "2021-06-14T00:20:21.398207Z"
    },
    "papermill": {
     "duration": 0.046634,
     "end_time": "2021-06-14T00:20:21.399010",
     "exception": false,
     "start_time": "2021-06-14T00:20:21.352376",
     "status": "completed"
    },
    "tags": []
   },
   "outputs": [],
   "source": [
    "# #hide\n",
    "# fig, ax = plt.subplots(figsize=(15, 8))\n",
    "\n",
    "# def draw_barchart(current_day):\n",
    "#     dff = g[g['day'].eq(current_day)].sort_values(by='value', ascending=True).tail(10)\n",
    "#     ax.clear()\n",
    "#     ax.barh(dff['name'], dff['value'], color=[colors[group_lk[x]] for x in dff['name']])\n",
    "#     dx = dff['value'].max() / 200\n",
    "    \n",
    "#     for i, (value, name) in enumerate(zip(dff['value'], dff['name'])):\n",
    "#         ax.text(value-dx, i,     name,           size=14, weight=600, ha='right', va='bottom')\n",
    "#         ax.text(value-dx, i-.25, group_lk[name], size=10, color='#444444', ha='right', va='baseline')\n",
    "#         ax.text(value+dx, i,     f'{value:,.0f}',  size=14, ha='left',  va='center')\n",
    "#     ax.text(1, 0.4, current_day, transform=ax.transAxes, color='#777777', size=46, ha='right', weight=800)\n",
    "#     ax.text(0, 1.06, 'Population (thousands)', transform=ax.transAxes, size=12, color='#777777')\n",
    "#     ax.xaxis.set_major_formatter(ticker.StrMethodFormatter('{x:,.0f}'))\n",
    "#     ax.xaxis.set_ticks_position('top')\n",
    "#     ax.tick_params(axis='x', colors='#777777', labelsize=12)\n",
    "#     ax.set_yticks([])\n",
    "#     ax.margins(0, 0.01)\n",
    "#     ax.grid(which='major', axis='x', linestyle='-')\n",
    "#     ax.set_axisbelow(True)\n",
    "    \n",
    "#     ax.text(0, 1.15, 'Coronavirus',\n",
    "#             transform=ax.transAxes, size=24, weight=600, ha='left', va='top')\n",
    "# #     ax.text(1, 0, 'by @pratapvardhan; credit @jburnmurdoch', transform=ax.transAxes, color='#777777', ha='right',\n",
    "# #             bbox=dict(facecolor='white', alpha=0.8, edgecolor='white'))\n",
    "#     plt.box(False)"
   ]
  },
  {
   "cell_type": "code",
   "execution_count": 42,
   "id": "sexual-wages",
   "metadata": {
    "execution": {
     "iopub.execute_input": "2021-06-14T00:20:21.491641Z",
     "iopub.status.busy": "2021-06-14T00:20:21.490532Z",
     "iopub.status.idle": "2021-06-14T00:20:21.492787Z",
     "shell.execute_reply": "2021-06-14T00:20:21.493395Z"
    },
    "papermill": {
     "duration": 0.051662,
     "end_time": "2021-06-14T00:20:21.493605",
     "exception": false,
     "start_time": "2021-06-14T00:20:21.441943",
     "status": "completed"
    },
    "tags": []
   },
   "outputs": [],
   "source": [
    "# #hide_input\n",
    "# fig, ax = plt.subplots(figsize=(15, 8))\n",
    "# animator = animation.FuncAnimation(fig, draw_barchart, frames=range(g.day.values.min(), g.day.values.max()))\n",
    "# HTML(animator.to_jshtml())\n",
    "# # or use animator.to_html5_video() or animator.save() "
   ]
  },
  {
   "cell_type": "code",
   "execution_count": null,
   "id": "australian-container",
   "metadata": {
    "papermill": {
     "duration": 0.041104,
     "end_time": "2021-06-14T00:20:21.575776",
     "exception": false,
     "start_time": "2021-06-14T00:20:21.534672",
     "status": "completed"
    },
    "tags": []
   },
   "outputs": [],
   "source": []
  },
  {
   "cell_type": "code",
   "execution_count": null,
   "id": "mediterranean-pontiac",
   "metadata": {
    "papermill": {
     "duration": 0.038989,
     "end_time": "2021-06-14T00:20:21.654827",
     "exception": false,
     "start_time": "2021-06-14T00:20:21.615838",
     "status": "completed"
    },
    "tags": []
   },
   "outputs": [],
   "source": []
  },
  {
   "cell_type": "code",
   "execution_count": null,
   "id": "aging-legislature",
   "metadata": {
    "papermill": {
     "duration": 0.037841,
     "end_time": "2021-06-14T00:20:21.731539",
     "exception": false,
     "start_time": "2021-06-14T00:20:21.693698",
     "status": "completed"
    },
    "tags": []
   },
   "outputs": [],
   "source": []
  }
 ],
 "metadata": {
  "kernelspec": {
   "display_name": "Python 3",
   "language": "python",
   "name": "python3"
  },
  "language_info": {
   "codemirror_mode": {
    "name": "ipython",
    "version": 3
   },
   "file_extension": ".py",
   "mimetype": "text/x-python",
   "name": "python",
   "nbconvert_exporter": "python",
   "pygments_lexer": "ipython3",
   "version": "3.6.13"
  },
  "papermill": {
   "duration": 7.929876,
   "end_time": "2021-06-14T00:20:22.179449",
   "environment_variables": {},
   "exception": null,
   "input_path": "2020-03-21-covid19exp.ipynb",
   "output_path": "2020-03-21-covid19exp.ipynb",
   "parameters": {},
   "start_time": "2021-06-14T00:20:14.249573",
   "version": "2.0.0"
  }
 },
 "nbformat": 4,
 "nbformat_minor": 5
}