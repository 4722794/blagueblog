{
 "cells": [
  {
   "cell_type": "markdown",
   "id": "muslim-click",
   "metadata": {
    "papermill": {
     "duration": 0.040441,
     "end_time": "2022-11-26T12:15:25.711183",
     "exception": false,
     "start_time": "2022-11-26T12:15:25.670742",
     "status": "completed"
    },
    "tags": []
   },
   "source": [
    "# COVID-19 Case Race\n",
    "> A race chart to see rising cases around the world\n",
    "\n",
    "- author: Hargun Oberoi\n",
    "- image: images/covid-overview.png\n",
    "- hide: false\n",
    "- badges: false"
   ]
  },
  {
   "cell_type": "code",
   "execution_count": 1,
   "id": "proof-material",
   "metadata": {
    "execution": {
     "iopub.execute_input": "2022-11-26T12:15:25.797390Z",
     "iopub.status.busy": "2022-11-26T12:15:25.796675Z",
     "iopub.status.idle": "2022-11-26T12:15:26.203978Z",
     "shell.execute_reply": "2022-11-26T12:15:26.203279Z"
    },
    "papermill": {
     "duration": 0.453284,
     "end_time": "2022-11-26T12:15:26.204154",
     "exception": false,
     "start_time": "2022-11-26T12:15:25.750870",
     "status": "completed"
    },
    "tags": []
   },
   "outputs": [],
   "source": [
    "#hide\n",
    "import numpy as np\n",
    "import pandas as pd\n",
    "from jinja2 import Template\n",
    "from IPython.display import HTML"
   ]
  },
  {
   "cell_type": "code",
   "execution_count": 2,
   "id": "developed-terminology",
   "metadata": {
    "execution": {
     "iopub.execute_input": "2022-11-26T12:15:26.297362Z",
     "iopub.status.busy": "2022-11-26T12:15:26.296541Z",
     "iopub.status.idle": "2022-11-26T12:15:26.299705Z",
     "shell.execute_reply": "2022-11-26T12:15:26.300291Z"
    },
    "papermill": {
     "duration": 0.05195,
     "end_time": "2022-11-26T12:15:26.300442",
     "exception": false,
     "start_time": "2022-11-26T12:15:26.248492",
     "status": "completed"
    },
    "tags": []
   },
   "outputs": [],
   "source": [
    "#hide\n",
    "\n",
    "# FETCH\n",
    "base_url = 'https://raw.githubusercontent.com/pratapvardhan/notebooks/master/covid19/'\n",
    "paths = {\n",
    "    'mapping': base_url + 'mapping_countries.csv',\n",
    "    'overview': base_url + 'overview.tpl'\n",
    "}"
   ]
  },
  {
   "cell_type": "code",
   "execution_count": 3,
   "id": "dynamic-saver",
   "metadata": {
    "execution": {
     "iopub.execute_input": "2022-11-26T12:15:26.389620Z",
     "iopub.status.busy": "2022-11-26T12:15:26.388862Z",
     "iopub.status.idle": "2022-11-26T12:15:26.392126Z",
     "shell.execute_reply": "2022-11-26T12:15:26.392845Z"
    },
    "papermill": {
     "duration": 0.053749,
     "end_time": "2022-11-26T12:15:26.393010",
     "exception": false,
     "start_time": "2022-11-26T12:15:26.339261",
     "status": "completed"
    },
    "tags": []
   },
   "outputs": [
    {
     "data": {
      "text/plain": [
       "'https://raw.githubusercontent.com/pratapvardhan/notebooks/master/covid19/mapping_countries.csv'"
      ]
     },
     "execution_count": 3,
     "metadata": {},
     "output_type": "execute_result"
    }
   ],
   "source": [
    "#hide\n",
    "paths['mapping']"
   ]
  },
  {
   "cell_type": "code",
   "execution_count": 4,
   "id": "urban-software",
   "metadata": {
    "execution": {
     "iopub.execute_input": "2022-11-26T12:15:26.478053Z",
     "iopub.status.busy": "2022-11-26T12:15:26.477292Z",
     "iopub.status.idle": "2022-11-26T12:15:26.480981Z",
     "shell.execute_reply": "2022-11-26T12:15:26.480316Z"
    },
    "papermill": {
     "duration": 0.04841,
     "end_time": "2022-11-26T12:15:26.481125",
     "exception": false,
     "start_time": "2022-11-26T12:15:26.432715",
     "status": "completed"
    },
    "tags": []
   },
   "outputs": [],
   "source": [
    "#hide\n",
    "def get_mappings(url):\n",
    "    df = pd.read_csv(url)\n",
    "    return {\n",
    "        'df': df,\n",
    "        'replace.country': dict(df.dropna(subset=['Name']).set_index('Country')['Name']),\n",
    "        'map.continent': dict(df.set_index('Name')['Continent'])\n",
    "    }"
   ]
  },
  {
   "cell_type": "code",
   "execution_count": 5,
   "id": "intimate-machinery",
   "metadata": {
    "execution": {
     "iopub.execute_input": "2022-11-26T12:15:26.566495Z",
     "iopub.status.busy": "2022-11-26T12:15:26.565543Z",
     "iopub.status.idle": "2022-11-26T12:15:26.594600Z",
     "shell.execute_reply": "2022-11-26T12:15:26.595106Z"
    },
    "papermill": {
     "duration": 0.0763,
     "end_time": "2022-11-26T12:15:26.595265",
     "exception": false,
     "start_time": "2022-11-26T12:15:26.518965",
     "status": "completed"
    },
    "tags": []
   },
   "outputs": [],
   "source": [
    "#hide\n",
    "mapping = get_mappings(paths['mapping'])"
   ]
  },
  {
   "cell_type": "code",
   "execution_count": 6,
   "id": "certified-tactics",
   "metadata": {
    "execution": {
     "iopub.execute_input": "2022-11-26T12:15:26.686698Z",
     "iopub.status.busy": "2022-11-26T12:15:26.685916Z",
     "iopub.status.idle": "2022-11-26T12:15:26.691058Z",
     "shell.execute_reply": "2022-11-26T12:15:26.691700Z"
    },
    "papermill": {
     "duration": 0.054687,
     "end_time": "2022-11-26T12:15:26.691869",
     "exception": false,
     "start_time": "2022-11-26T12:15:26.637182",
     "status": "completed"
    },
    "tags": []
   },
   "outputs": [],
   "source": [
    "#hide\n",
    "def get_template(path):\n",
    "    from urllib.parse import urlparse\n",
    "    if bool(urlparse(path).netloc):\n",
    "        from urllib.request import urlopen\n",
    "        return urlopen(path).read().decode('utf8')\n",
    "    return open(path).read()"
   ]
  },
  {
   "cell_type": "code",
   "execution_count": 7,
   "id": "realistic-blast",
   "metadata": {
    "execution": {
     "iopub.execute_input": "2022-11-26T12:15:26.770251Z",
     "iopub.status.busy": "2022-11-26T12:15:26.769497Z",
     "iopub.status.idle": "2022-11-26T12:15:26.774811Z",
     "shell.execute_reply": "2022-11-26T12:15:26.775568Z"
    },
    "papermill": {
     "duration": 0.046525,
     "end_time": "2022-11-26T12:15:26.775730",
     "exception": false,
     "start_time": "2022-11-26T12:15:26.729205",
     "status": "completed"
    },
    "tags": []
   },
   "outputs": [],
   "source": [
    "#hide\n",
    "def get_frame(name):\n",
    "    url = (\n",
    "        'https://raw.githubusercontent.com/CSSEGISandData/COVID-19/master/csse_covid_19_data/'\n",
    "        f'csse_covid_19_time_series/time_series_covid19_{name}_global.csv')\n",
    "    df = pd.read_csv(url)\n",
    "    # rename countries\n",
    "    df['Country/Region'] = df['Country/Region'].replace(mapping['replace.country'])\n",
    "    return df"
   ]
  },
  {
   "cell_type": "code",
   "execution_count": 8,
   "id": "affiliated-characterization",
   "metadata": {
    "execution": {
     "iopub.execute_input": "2022-11-26T12:15:26.857274Z",
     "iopub.status.busy": "2022-11-26T12:15:26.856512Z",
     "iopub.status.idle": "2022-11-26T12:15:26.860161Z",
     "shell.execute_reply": "2022-11-26T12:15:26.859504Z"
    },
    "papermill": {
     "duration": 0.047578,
     "end_time": "2022-11-26T12:15:26.860292",
     "exception": false,
     "start_time": "2022-11-26T12:15:26.812714",
     "status": "completed"
    },
    "tags": []
   },
   "outputs": [],
   "source": [
    "#hide\n",
    "def get_dates(df):\n",
    "    dt_cols = df.columns[~df.columns.isin(['Province/State', 'Country/Region', 'Lat', 'Long'])]\n",
    "    LAST_DATE_I = -1\n",
    "    # sometimes last column may be empty, then go backwards\n",
    "    for i in range(-1, -len(dt_cols), -1):\n",
    "        if not df[dt_cols[i]].fillna(0).eq(0).all():\n",
    "            LAST_DATE_I = i\n",
    "            break\n",
    "    return LAST_DATE_I, dt_cols"
   ]
  },
  {
   "cell_type": "code",
   "execution_count": 9,
   "id": "recent-optimization",
   "metadata": {
    "execution": {
     "iopub.execute_input": "2022-11-26T12:15:26.936182Z",
     "iopub.status.busy": "2022-11-26T12:15:26.935309Z",
     "iopub.status.idle": "2022-11-26T12:15:27.550190Z",
     "shell.execute_reply": "2022-11-26T12:15:27.549511Z"
    },
    "papermill": {
     "duration": 0.654654,
     "end_time": "2022-11-26T12:15:27.550342",
     "exception": false,
     "start_time": "2022-11-26T12:15:26.895688",
     "status": "completed"
    },
    "tags": []
   },
   "outputs": [],
   "source": [
    "#hide\n",
    "COL_REGION = 'Country/Region'\n",
    "# Confirmed, Recovered, Deaths\n",
    "df = get_frame('confirmed')\n",
    "# dft_: timeseries, dfc_: today country agg\n",
    "dft_cases = df\n",
    "dft_deaths = get_frame('deaths')\n",
    "dft_recovered = get_frame('recovered')\n",
    "LAST_DATE_I, dt_cols = get_dates(df)"
   ]
  },
  {
   "cell_type": "code",
   "execution_count": 10,
   "id": "absolute-copper",
   "metadata": {
    "execution": {
     "iopub.execute_input": "2022-11-26T12:15:27.634141Z",
     "iopub.status.busy": "2022-11-26T12:15:27.633400Z",
     "iopub.status.idle": "2022-11-26T12:15:27.635878Z",
     "shell.execute_reply": "2022-11-26T12:15:27.636461Z"
    },
    "papermill": {
     "duration": 0.047125,
     "end_time": "2022-11-26T12:15:27.636596",
     "exception": false,
     "start_time": "2022-11-26T12:15:27.589471",
     "status": "completed"
    },
    "tags": []
   },
   "outputs": [],
   "source": [
    "#hide\n",
    "LAST_DATE_I, dt_cols = get_dates(df)\n",
    "dt_today =dt_cols[LAST_DATE_I]\n",
    "# dt_5day = dt_cols[LAST_DATE_I - 5]\n",
    "dt_yday = dt_cols[LAST_DATE_I - 1]"
   ]
  },
  {
   "cell_type": "code",
   "execution_count": 11,
   "id": "restricted-sheriff",
   "metadata": {
    "execution": {
     "iopub.execute_input": "2022-11-26T12:15:27.717512Z",
     "iopub.status.busy": "2022-11-26T12:15:27.716751Z",
     "iopub.status.idle": "2022-11-26T12:15:27.725479Z",
     "shell.execute_reply": "2022-11-26T12:15:27.724823Z"
    },
    "papermill": {
     "duration": 0.053068,
     "end_time": "2022-11-26T12:15:27.725604",
     "exception": false,
     "start_time": "2022-11-26T12:15:27.672536",
     "status": "completed"
    },
    "tags": []
   },
   "outputs": [],
   "source": [
    "#hide\n",
    "dfc_cases = dft_cases.groupby(COL_REGION)[dt_today].sum()\n",
    "dfc_deaths = dft_deaths.groupby(COL_REGION)[dt_today].sum()\n",
    "# dfp_cases = dft_cases.groupby(COL_REGION)[dt_5day].sum()\n",
    "# dfp_deaths = dft_deaths.groupby(COL_REGION)[dt_5day].sum()\n",
    "dfp_cases = dft_cases.groupby(COL_REGION)[dt_yday].sum()\n",
    "dfp_deaths = dft_deaths.groupby(COL_REGION)[dt_yday].sum()"
   ]
  },
  {
   "cell_type": "code",
   "execution_count": 12,
   "id": "deluxe-hepatitis",
   "metadata": {
    "execution": {
     "iopub.execute_input": "2022-11-26T12:15:27.807126Z",
     "iopub.status.busy": "2022-11-26T12:15:27.806386Z",
     "iopub.status.idle": "2022-11-26T12:15:27.811830Z",
     "shell.execute_reply": "2022-11-26T12:15:27.812422Z"
    },
    "papermill": {
     "duration": 0.050428,
     "end_time": "2022-11-26T12:15:27.812566",
     "exception": false,
     "start_time": "2022-11-26T12:15:27.762138",
     "status": "completed"
    },
    "tags": []
   },
   "outputs": [],
   "source": [
    "#hide\n",
    "df_table = (pd.DataFrame(dict(Cases = dfc_cases, Deaths = dfc_deaths, PCases = dfp_cases, PDeaths = dfp_deaths))\n",
    "            .sort_values(by = ['Cases','Deaths'], ascending = [False, False])\n",
    "            .reset_index())"
   ]
  },
  {
   "cell_type": "code",
   "execution_count": 13,
   "id": "educational-chancellor",
   "metadata": {
    "execution": {
     "iopub.execute_input": "2022-11-26T12:15:27.907165Z",
     "iopub.status.busy": "2022-11-26T12:15:27.906482Z",
     "iopub.status.idle": "2022-11-26T12:15:27.917258Z",
     "shell.execute_reply": "2022-11-26T12:15:27.916745Z"
    },
    "papermill": {
     "duration": 0.067771,
     "end_time": "2022-11-26T12:15:27.917379",
     "exception": false,
     "start_time": "2022-11-26T12:15:27.849608",
     "status": "completed"
    },
    "tags": []
   },
   "outputs": [
    {
     "data": {
      "text/html": [
       "<div>\n",
       "<style scoped>\n",
       "    .dataframe tbody tr th:only-of-type {\n",
       "        vertical-align: middle;\n",
       "    }\n",
       "\n",
       "    .dataframe tbody tr th {\n",
       "        vertical-align: top;\n",
       "    }\n",
       "\n",
       "    .dataframe thead th {\n",
       "        text-align: right;\n",
       "    }\n",
       "</style>\n",
       "<table border=\"1\" class=\"dataframe\">\n",
       "  <thead>\n",
       "    <tr style=\"text-align: right;\">\n",
       "      <th></th>\n",
       "      <th>Country/Region</th>\n",
       "      <th>Cases</th>\n",
       "      <th>Deaths</th>\n",
       "      <th>PCases</th>\n",
       "      <th>PDeaths</th>\n",
       "      <th>Cases (+)</th>\n",
       "      <th>Deaths (+)</th>\n",
       "      <th>Fatality Rate</th>\n",
       "      <th>Continent</th>\n",
       "    </tr>\n",
       "  </thead>\n",
       "  <tbody>\n",
       "    <tr>\n",
       "      <th>0</th>\n",
       "      <td>US</td>\n",
       "      <td>98562304</td>\n",
       "      <td>1079196</td>\n",
       "      <td>98538386</td>\n",
       "      <td>1079052</td>\n",
       "      <td>23918</td>\n",
       "      <td>144</td>\n",
       "      <td>1.09</td>\n",
       "      <td>North America</td>\n",
       "    </tr>\n",
       "    <tr>\n",
       "      <th>1</th>\n",
       "      <td>India</td>\n",
       "      <td>44672442</td>\n",
       "      <td>530608</td>\n",
       "      <td>44672048</td>\n",
       "      <td>530604</td>\n",
       "      <td>394</td>\n",
       "      <td>4</td>\n",
       "      <td>1.19</td>\n",
       "      <td>Asia</td>\n",
       "    </tr>\n",
       "    <tr>\n",
       "      <th>2</th>\n",
       "      <td>France</td>\n",
       "      <td>37789817</td>\n",
       "      <td>159679</td>\n",
       "      <td>37741188</td>\n",
       "      <td>159611</td>\n",
       "      <td>48629</td>\n",
       "      <td>68</td>\n",
       "      <td>0.42</td>\n",
       "      <td>Europe</td>\n",
       "    </tr>\n",
       "    <tr>\n",
       "      <th>3</th>\n",
       "      <td>Germany</td>\n",
       "      <td>36373164</td>\n",
       "      <td>157495</td>\n",
       "      <td>36348477</td>\n",
       "      <td>157388</td>\n",
       "      <td>24687</td>\n",
       "      <td>107</td>\n",
       "      <td>0.43</td>\n",
       "      <td>Europe</td>\n",
       "    </tr>\n",
       "    <tr>\n",
       "      <th>4</th>\n",
       "      <td>Brazil</td>\n",
       "      <td>35149503</td>\n",
       "      <td>689442</td>\n",
       "      <td>35105241</td>\n",
       "      <td>689342</td>\n",
       "      <td>44262</td>\n",
       "      <td>100</td>\n",
       "      <td>1.96</td>\n",
       "      <td>South America</td>\n",
       "    </tr>\n",
       "  </tbody>\n",
       "</table>\n",
       "</div>"
      ],
      "text/plain": [
       "  Country/Region     Cases   Deaths    PCases  PDeaths  Cases (+)  Deaths (+)  \\\n",
       "0             US  98562304  1079196  98538386  1079052      23918         144   \n",
       "1          India  44672442   530608  44672048   530604        394           4   \n",
       "2         France  37789817   159679  37741188   159611      48629          68   \n",
       "3        Germany  36373164   157495  36348477   157388      24687         107   \n",
       "4         Brazil  35149503   689442  35105241   689342      44262         100   \n",
       "\n",
       "   Fatality Rate      Continent  \n",
       "0           1.09  North America  \n",
       "1           1.19           Asia  \n",
       "2           0.42         Europe  \n",
       "3           0.43         Europe  \n",
       "4           1.96  South America  "
      ]
     },
     "execution_count": 13,
     "metadata": {},
     "output_type": "execute_result"
    }
   ],
   "source": [
    "#hide\n",
    "for c in 'Cases, Deaths'.split(', '):\n",
    "    df_table[f'{c} (+)'] = (df_table[c] - df_table[f'P{c}']).clip(0)\n",
    "    #Clip ça veut dire, les chiffres negatif sont interdit\n",
    "df_table['Fatality Rate'] = (100* df_table['Deaths']/ df_table['Cases']).round(2)\n",
    "df_table['Continent'] = df_table['Country/Region'].map(mapping['map.continent'])\n",
    "df_table.head(5)"
   ]
  },
  {
   "cell_type": "code",
   "execution_count": 14,
   "id": "aboriginal-bulgaria",
   "metadata": {
    "execution": {
     "iopub.execute_input": "2022-11-26T12:15:27.997824Z",
     "iopub.status.busy": "2022-11-26T12:15:27.997043Z",
     "iopub.status.idle": "2022-11-26T12:15:27.999618Z",
     "shell.execute_reply": "2022-11-26T12:15:28.000208Z"
    },
    "papermill": {
     "duration": 0.047035,
     "end_time": "2022-11-26T12:15:28.000372",
     "exception": false,
     "start_time": "2022-11-26T12:15:27.953337",
     "status": "completed"
    },
    "tags": []
   },
   "outputs": [],
   "source": [
    "#hide\n",
    "#delete problematic countries from table\n",
    "df_table = df_table[~df_table['Country/Region'].isin(['Cape Verde', 'Cruise Ship', 'Kosovo'])]"
   ]
  },
  {
   "cell_type": "code",
   "execution_count": 15,
   "id": "fantastic-effect",
   "metadata": {
    "execution": {
     "iopub.execute_input": "2022-11-26T12:15:28.085349Z",
     "iopub.status.busy": "2022-11-26T12:15:28.084599Z",
     "iopub.status.idle": "2022-11-26T12:15:28.114056Z",
     "shell.execute_reply": "2022-11-26T12:15:28.113478Z"
    },
    "papermill": {
     "duration": 0.076921,
     "end_time": "2022-11-26T12:15:28.114185",
     "exception": false,
     "start_time": "2022-11-26T12:15:28.037264",
     "status": "completed"
    },
    "tags": []
   },
   "outputs": [
    {
     "data": {
      "text/html": [
       "<div>\n",
       "<style scoped>\n",
       "    .dataframe tbody tr th:only-of-type {\n",
       "        vertical-align: middle;\n",
       "    }\n",
       "\n",
       "    .dataframe tbody tr th {\n",
       "        vertical-align: top;\n",
       "    }\n",
       "\n",
       "    .dataframe thead th {\n",
       "        text-align: right;\n",
       "    }\n",
       "</style>\n",
       "<table border=\"1\" class=\"dataframe\">\n",
       "  <thead>\n",
       "    <tr style=\"text-align: right;\">\n",
       "      <th></th>\n",
       "      <th>Country/Region</th>\n",
       "      <th>Cases</th>\n",
       "      <th>Deaths</th>\n",
       "      <th>PCases</th>\n",
       "      <th>PDeaths</th>\n",
       "      <th>Cases (+)</th>\n",
       "      <th>Deaths (+)</th>\n",
       "      <th>Fatality Rate</th>\n",
       "      <th>Continent</th>\n",
       "    </tr>\n",
       "  </thead>\n",
       "  <tbody>\n",
       "    <tr>\n",
       "      <th>0</th>\n",
       "      <td>US</td>\n",
       "      <td>98562304</td>\n",
       "      <td>1079196</td>\n",
       "      <td>98538386</td>\n",
       "      <td>1079052</td>\n",
       "      <td>23918</td>\n",
       "      <td>144</td>\n",
       "      <td>1.1</td>\n",
       "      <td>North America</td>\n",
       "    </tr>\n",
       "    <tr>\n",
       "      <th>1</th>\n",
       "      <td>India</td>\n",
       "      <td>44672442</td>\n",
       "      <td>530608</td>\n",
       "      <td>44672048</td>\n",
       "      <td>530604</td>\n",
       "      <td>394</td>\n",
       "      <td>4</td>\n",
       "      <td>1.2</td>\n",
       "      <td>Asia</td>\n",
       "    </tr>\n",
       "    <tr>\n",
       "      <th>2</th>\n",
       "      <td>France</td>\n",
       "      <td>37789817</td>\n",
       "      <td>159679</td>\n",
       "      <td>37741188</td>\n",
       "      <td>159611</td>\n",
       "      <td>48629</td>\n",
       "      <td>68</td>\n",
       "      <td>0.4</td>\n",
       "      <td>Europe</td>\n",
       "    </tr>\n",
       "    <tr>\n",
       "      <th>3</th>\n",
       "      <td>Germany</td>\n",
       "      <td>36373164</td>\n",
       "      <td>157495</td>\n",
       "      <td>36348477</td>\n",
       "      <td>157388</td>\n",
       "      <td>24687</td>\n",
       "      <td>107</td>\n",
       "      <td>0.4</td>\n",
       "      <td>Europe</td>\n",
       "    </tr>\n",
       "    <tr>\n",
       "      <th>4</th>\n",
       "      <td>Brazil</td>\n",
       "      <td>35149503</td>\n",
       "      <td>689442</td>\n",
       "      <td>35105241</td>\n",
       "      <td>689342</td>\n",
       "      <td>44262</td>\n",
       "      <td>100</td>\n",
       "      <td>2.0</td>\n",
       "      <td>South America</td>\n",
       "    </tr>\n",
       "  </tbody>\n",
       "</table>\n",
       "</div>"
      ],
      "text/plain": [
       "  Country/Region     Cases   Deaths    PCases  PDeaths  Cases (+)  Deaths (+)  \\\n",
       "0             US  98562304  1079196  98538386  1079052      23918         144   \n",
       "1          India  44672442   530608  44672048   530604        394           4   \n",
       "2         France  37789817   159679  37741188   159611      48629          68   \n",
       "3        Germany  36373164   157495  36348477   157388      24687         107   \n",
       "4         Brazil  35149503   689442  35105241   689342      44262         100   \n",
       "\n",
       "   Fatality Rate      Continent  \n",
       "0            1.1  North America  \n",
       "1            1.2           Asia  \n",
       "2            0.4         Europe  \n",
       "3            0.4         Europe  \n",
       "4            2.0  South America  "
      ]
     },
     "execution_count": 15,
     "metadata": {},
     "output_type": "execute_result"
    }
   ],
   "source": [
    "#hide\n",
    "df_table = (pd.DataFrame(dict(Cases=dfc_cases, Deaths=dfc_deaths, PCases=dfp_cases, PDeaths=dfp_deaths))\n",
    "             .sort_values(by=['Cases', 'Deaths'], ascending=[False, False])\n",
    "             .reset_index())\n",
    "df_table.rename(columns={'index': 'Country/Region'}, inplace=True)\n",
    "for c in 'Cases, Deaths'.split(', '):\n",
    "    df_table[f'{c} (+)'] = (df_table[c] - df_table[f'P{c}']).clip(0)  # DATA BUG\n",
    "df_table['Fatality Rate'] = (100 * df_table['Deaths'] / df_table['Cases']).round(1)\n",
    "df_table['Continent'] = df_table['Country/Region'].map(mapping['map.continent'])\n",
    "df_table.head(5)"
   ]
  },
  {
   "cell_type": "code",
   "execution_count": 16,
   "id": "fewer-occasion",
   "metadata": {
    "execution": {
     "iopub.execute_input": "2022-11-26T12:15:28.205494Z",
     "iopub.status.busy": "2022-11-26T12:15:28.204476Z",
     "iopub.status.idle": "2022-11-26T12:15:28.211033Z",
     "shell.execute_reply": "2022-11-26T12:15:28.210413Z"
    },
    "papermill": {
     "duration": 0.058483,
     "end_time": "2022-11-26T12:15:28.211181",
     "exception": false,
     "start_time": "2022-11-26T12:15:28.152698",
     "status": "completed"
    },
    "tags": []
   },
   "outputs": [],
   "source": [
    "#hide\n",
    "#delete problematic countries from table\n",
    "df_table = df_table[~df_table['Country/Region'].isin(['Cape Verde', 'Cruise Ship', 'Kosovo'])]"
   ]
  },
  {
   "cell_type": "code",
   "execution_count": 17,
   "id": "related-center",
   "metadata": {
    "execution": {
     "iopub.execute_input": "2022-11-26T12:15:28.321902Z",
     "iopub.status.busy": "2022-11-26T12:15:28.321237Z",
     "iopub.status.idle": "2022-11-26T12:15:28.325473Z",
     "shell.execute_reply": "2022-11-26T12:15:28.326211Z"
    },
    "papermill": {
     "duration": 0.066793,
     "end_time": "2022-11-26T12:15:28.326373",
     "exception": false,
     "start_time": "2022-11-26T12:15:28.259580",
     "status": "completed"
    },
    "tags": []
   },
   "outputs": [],
   "source": [
    "#hide\n",
    "metrics = [df_table.columns[index] for index in [1,2,5,6]]\n",
    "# s_china = df_table[df_table['Country/Region'].eq('China')][metrics].sum().add_prefix('China ')\n",
    "s_us = df_table[df_table['Country/Region'].eq('US')][metrics].sum().add_prefix('US ')\n",
    "s_eu = df_table[df_table['Continent'].eq('Europe')][metrics].sum().add_prefix('EU ')\n",
    "s_ind = df_table[df_table['Country/Region'].eq('India')][metrics].sum().add_prefix('India ')\n",
    "summary = {'updated': pd.to_datetime(dt_today), 'since': pd.to_datetime(dt_yday)}\n",
    "summary = {'updated': pd.to_datetime(dt_today), 'since': pd.to_datetime(dt_yday)}\n",
    "summary = {**summary, **df_table[metrics].sum(), **s_ind, **s_us, **s_eu}"
   ]
  },
  {
   "cell_type": "code",
   "execution_count": 18,
   "id": "engaging-syndrome",
   "metadata": {
    "execution": {
     "iopub.execute_input": "2022-11-26T12:15:28.418302Z",
     "iopub.status.busy": "2022-11-26T12:15:28.417544Z",
     "iopub.status.idle": "2022-11-26T12:15:28.441119Z",
     "shell.execute_reply": "2022-11-26T12:15:28.440477Z"
    },
    "papermill": {
     "duration": 0.072485,
     "end_time": "2022-11-26T12:15:28.441271",
     "exception": false,
     "start_time": "2022-11-26T12:15:28.368786",
     "status": "completed"
    },
    "tags": []
   },
   "outputs": [],
   "source": [
    "#hide\n",
    "dft_ct_new_cases = dft_cases.groupby(COL_REGION)[dt_cols].sum().diff(axis=1).fillna(0).astype(int)"
   ]
  },
  {
   "cell_type": "code",
   "execution_count": 19,
   "id": "neutral-assignment",
   "metadata": {
    "execution": {
     "iopub.execute_input": "2022-11-26T12:15:28.530189Z",
     "iopub.status.busy": "2022-11-26T12:15:28.529354Z",
     "iopub.status.idle": "2022-11-26T12:15:28.532043Z",
     "shell.execute_reply": "2022-11-26T12:15:28.532661Z"
    },
    "papermill": {
     "duration": 0.051196,
     "end_time": "2022-11-26T12:15:28.532912",
     "exception": false,
     "start_time": "2022-11-26T12:15:28.481716",
     "status": "completed"
    },
    "tags": []
   },
   "outputs": [],
   "source": [
    "#hide\n",
    "everydaycases = dft_ct_new_cases.cumsum(axis=1)"
   ]
  },
  {
   "cell_type": "code",
   "execution_count": 20,
   "id": "parliamentary-calgary",
   "metadata": {
    "execution": {
     "iopub.execute_input": "2022-11-26T12:15:28.613917Z",
     "iopub.status.busy": "2022-11-26T12:15:28.613130Z",
     "iopub.status.idle": "2022-11-26T12:15:29.265614Z",
     "shell.execute_reply": "2022-11-26T12:15:29.264479Z"
    },
    "papermill": {
     "duration": 0.69411,
     "end_time": "2022-11-26T12:15:29.265770",
     "exception": false,
     "start_time": "2022-11-26T12:15:28.571660",
     "status": "completed"
    },
    "tags": []
   },
   "outputs": [],
   "source": [
    "#hide\n",
    "import pandas as pd\n",
    "import matplotlib.pyplot as plt\n",
    "import matplotlib.ticker as ticker\n",
    "import matplotlib.animation as animation\n",
    "from IPython.display import HTML"
   ]
  },
  {
   "cell_type": "code",
   "execution_count": 21,
   "id": "lasting-extraction",
   "metadata": {
    "execution": {
     "iopub.execute_input": "2022-11-26T12:15:29.361649Z",
     "iopub.status.busy": "2022-11-26T12:15:29.360524Z",
     "iopub.status.idle": "2022-11-26T12:15:29.369845Z",
     "shell.execute_reply": "2022-11-26T12:15:29.369244Z"
    },
    "papermill": {
     "duration": 0.060884,
     "end_time": "2022-11-26T12:15:29.369991",
     "exception": false,
     "start_time": "2022-11-26T12:15:29.309107",
     "status": "completed"
    },
    "tags": []
   },
   "outputs": [],
   "source": [
    "#hide\n",
    "t = everydaycases.stack()"
   ]
  },
  {
   "cell_type": "code",
   "execution_count": 22,
   "id": "premier-sleeve",
   "metadata": {
    "execution": {
     "iopub.execute_input": "2022-11-26T12:15:29.454170Z",
     "iopub.status.busy": "2022-11-26T12:15:29.453422Z",
     "iopub.status.idle": "2022-11-26T12:15:29.468011Z",
     "shell.execute_reply": "2022-11-26T12:15:29.467374Z"
    },
    "papermill": {
     "duration": 0.057328,
     "end_time": "2022-11-26T12:15:29.468142",
     "exception": false,
     "start_time": "2022-11-26T12:15:29.410814",
     "status": "completed"
    },
    "tags": []
   },
   "outputs": [],
   "source": [
    "#hide\n",
    "g = t.reset_index(['Country/Region'])"
   ]
  },
  {
   "cell_type": "code",
   "execution_count": 23,
   "id": "distributed-pittsburgh",
   "metadata": {
    "execution": {
     "iopub.execute_input": "2022-11-26T12:15:29.553272Z",
     "iopub.status.busy": "2022-11-26T12:15:29.552559Z",
     "iopub.status.idle": "2022-11-26T12:15:29.556279Z",
     "shell.execute_reply": "2022-11-26T12:15:29.555570Z"
    },
    "papermill": {
     "duration": 0.046583,
     "end_time": "2022-11-26T12:15:29.556399",
     "exception": false,
     "start_time": "2022-11-26T12:15:29.509816",
     "status": "completed"
    },
    "tags": []
   },
   "outputs": [],
   "source": [
    "#hide\n",
    "g.index.name = 'date'"
   ]
  },
  {
   "cell_type": "code",
   "execution_count": 24,
   "id": "naked-donor",
   "metadata": {
    "execution": {
     "iopub.execute_input": "2022-11-26T12:15:29.644759Z",
     "iopub.status.busy": "2022-11-26T12:15:29.644082Z",
     "iopub.status.idle": "2022-11-26T12:15:29.647116Z",
     "shell.execute_reply": "2022-11-26T12:15:29.646472Z"
    },
    "papermill": {
     "duration": 0.047102,
     "end_time": "2022-11-26T12:15:29.647235",
     "exception": false,
     "start_time": "2022-11-26T12:15:29.600133",
     "status": "completed"
    },
    "tags": []
   },
   "outputs": [],
   "source": [
    "# #hide\n",
    "# g = g.reset_index(['date'])"
   ]
  },
  {
   "cell_type": "code",
   "execution_count": 25,
   "id": "incomplete-mustang",
   "metadata": {
    "execution": {
     "iopub.execute_input": "2022-11-26T12:15:29.727038Z",
     "iopub.status.busy": "2022-11-26T12:15:29.726233Z",
     "iopub.status.idle": "2022-11-26T12:15:29.729742Z",
     "shell.execute_reply": "2022-11-26T12:15:29.729004Z"
    },
    "papermill": {
     "duration": 0.04527,
     "end_time": "2022-11-26T12:15:29.729881",
     "exception": false,
     "start_time": "2022-11-26T12:15:29.684611",
     "status": "completed"
    },
    "tags": []
   },
   "outputs": [],
   "source": [
    "#hide\n",
    "# g.head()"
   ]
  },
  {
   "cell_type": "code",
   "execution_count": 26,
   "id": "specific-kruger",
   "metadata": {
    "execution": {
     "iopub.execute_input": "2022-11-26T12:15:29.809395Z",
     "iopub.status.busy": "2022-11-26T12:15:29.808632Z",
     "iopub.status.idle": "2022-11-26T12:15:29.812752Z",
     "shell.execute_reply": "2022-11-26T12:15:29.812031Z"
    },
    "papermill": {
     "duration": 0.045002,
     "end_time": "2022-11-26T12:15:29.812894",
     "exception": false,
     "start_time": "2022-11-26T12:15:29.767892",
     "status": "completed"
    },
    "tags": []
   },
   "outputs": [],
   "source": [
    "#hide\n",
    "# g.columns = ['date','country','cases']"
   ]
  },
  {
   "cell_type": "code",
   "execution_count": 27,
   "id": "tender-conversion",
   "metadata": {
    "execution": {
     "iopub.execute_input": "2022-11-26T12:15:29.893982Z",
     "iopub.status.busy": "2022-11-26T12:15:29.893279Z",
     "iopub.status.idle": "2022-11-26T12:15:29.896617Z",
     "shell.execute_reply": "2022-11-26T12:15:29.895839Z"
    },
    "papermill": {
     "duration": 0.046692,
     "end_time": "2022-11-26T12:15:29.896737",
     "exception": false,
     "start_time": "2022-11-26T12:15:29.850045",
     "status": "completed"
    },
    "tags": []
   },
   "outputs": [],
   "source": [
    "#hide\n",
    "# g['continent'] = g.country"
   ]
  },
  {
   "cell_type": "code",
   "execution_count": 28,
   "id": "substantial-wilderness",
   "metadata": {
    "execution": {
     "iopub.execute_input": "2022-11-26T12:15:29.973753Z",
     "iopub.status.busy": "2022-11-26T12:15:29.973092Z",
     "iopub.status.idle": "2022-11-26T12:15:29.976496Z",
     "shell.execute_reply": "2022-11-26T12:15:29.977068Z"
    },
    "papermill": {
     "duration": 0.043628,
     "end_time": "2022-11-26T12:15:29.977194",
     "exception": false,
     "start_time": "2022-11-26T12:15:29.933566",
     "status": "completed"
    },
    "tags": []
   },
   "outputs": [],
   "source": [
    "#hide\n",
    "# cols = list(g.columns.values)"
   ]
  },
  {
   "cell_type": "code",
   "execution_count": 29,
   "id": "solved-farming",
   "metadata": {
    "execution": {
     "iopub.execute_input": "2022-11-26T12:15:30.058380Z",
     "iopub.status.busy": "2022-11-26T12:15:30.057512Z",
     "iopub.status.idle": "2022-11-26T12:15:30.060831Z",
     "shell.execute_reply": "2022-11-26T12:15:30.060169Z"
    },
    "papermill": {
     "duration": 0.047568,
     "end_time": "2022-11-26T12:15:30.060971",
     "exception": false,
     "start_time": "2022-11-26T12:15:30.013403",
     "status": "completed"
    },
    "tags": []
   },
   "outputs": [],
   "source": [
    "#hide\n",
    "# cols.insert(0, cols.pop())"
   ]
  },
  {
   "cell_type": "code",
   "execution_count": 30,
   "id": "executed-adoption",
   "metadata": {
    "execution": {
     "iopub.execute_input": "2022-11-26T12:15:30.152985Z",
     "iopub.status.busy": "2022-11-26T12:15:30.152288Z",
     "iopub.status.idle": "2022-11-26T12:15:30.155531Z",
     "shell.execute_reply": "2022-11-26T12:15:30.154897Z"
    },
    "papermill": {
     "duration": 0.05471,
     "end_time": "2022-11-26T12:15:30.155675",
     "exception": false,
     "start_time": "2022-11-26T12:15:30.100965",
     "status": "completed"
    },
    "tags": []
   },
   "outputs": [],
   "source": [
    "#hide\n",
    "# g = g[cols]"
   ]
  },
  {
   "cell_type": "code",
   "execution_count": 31,
   "id": "subject-dublin",
   "metadata": {
    "execution": {
     "iopub.execute_input": "2022-11-26T12:15:30.240113Z",
     "iopub.status.busy": "2022-11-26T12:15:30.239274Z",
     "iopub.status.idle": "2022-11-26T12:15:30.242530Z",
     "shell.execute_reply": "2022-11-26T12:15:30.241978Z"
    },
    "papermill": {
     "duration": 0.048407,
     "end_time": "2022-11-26T12:15:30.242655",
     "exception": false,
     "start_time": "2022-11-26T12:15:30.194248",
     "status": "completed"
    },
    "tags": []
   },
   "outputs": [],
   "source": [
    "#hide\n",
    "# g['continent'] = g['continent'].map(mapping['map.continent'])"
   ]
  },
  {
   "cell_type": "code",
   "execution_count": 32,
   "id": "freelance-scout",
   "metadata": {
    "execution": {
     "iopub.execute_input": "2022-11-26T12:15:30.335613Z",
     "iopub.status.busy": "2022-11-26T12:15:30.334779Z",
     "iopub.status.idle": "2022-11-26T12:15:30.338926Z",
     "shell.execute_reply": "2022-11-26T12:15:30.338347Z"
    },
    "papermill": {
     "duration": 0.051182,
     "end_time": "2022-11-26T12:15:30.339065",
     "exception": false,
     "start_time": "2022-11-26T12:15:30.287883",
     "status": "completed"
    },
    "tags": []
   },
   "outputs": [],
   "source": [
    "#hide\n",
    "# g.head()"
   ]
  },
  {
   "cell_type": "code",
   "execution_count": 33,
   "id": "limited-engine",
   "metadata": {
    "execution": {
     "iopub.execute_input": "2022-11-26T12:15:30.432965Z",
     "iopub.status.busy": "2022-11-26T12:15:30.432212Z",
     "iopub.status.idle": "2022-11-26T12:15:30.435810Z",
     "shell.execute_reply": "2022-11-26T12:15:30.435140Z"
    },
    "papermill": {
     "duration": 0.046451,
     "end_time": "2022-11-26T12:15:30.435952",
     "exception": false,
     "start_time": "2022-11-26T12:15:30.389501",
     "status": "completed"
    },
    "tags": []
   },
   "outputs": [],
   "source": [
    "# hide\n",
    "# g['date'] = g['date'].astype('datetime64[ns]')"
   ]
  },
  {
   "cell_type": "code",
   "execution_count": 34,
   "id": "sophisticated-supervisor",
   "metadata": {
    "execution": {
     "iopub.execute_input": "2022-11-26T12:15:30.522158Z",
     "iopub.status.busy": "2022-11-26T12:15:30.521403Z",
     "iopub.status.idle": "2022-11-26T12:15:30.524730Z",
     "shell.execute_reply": "2022-11-26T12:15:30.524148Z"
    },
    "papermill": {
     "duration": 0.04753,
     "end_time": "2022-11-26T12:15:30.524884",
     "exception": false,
     "start_time": "2022-11-26T12:15:30.477354",
     "status": "completed"
    },
    "tags": []
   },
   "outputs": [],
   "source": [
    "#hide\n",
    "# g['date'] = g.date.dt.dayofyear"
   ]
  },
  {
   "cell_type": "code",
   "execution_count": 35,
   "id": "inside-dubai",
   "metadata": {
    "execution": {
     "iopub.execute_input": "2022-11-26T12:15:30.606806Z",
     "iopub.status.busy": "2022-11-26T12:15:30.606143Z",
     "iopub.status.idle": "2022-11-26T12:15:30.608877Z",
     "shell.execute_reply": "2022-11-26T12:15:30.610018Z"
    },
    "papermill": {
     "duration": 0.046556,
     "end_time": "2022-11-26T12:15:30.610190",
     "exception": false,
     "start_time": "2022-11-26T12:15:30.563634",
     "status": "completed"
    },
    "tags": []
   },
   "outputs": [],
   "source": [
    "#hide\n",
    "# g = g.rename(columns= {'continent':'group','country':'name','cases':'value'})"
   ]
  },
  {
   "cell_type": "code",
   "execution_count": 36,
   "id": "fleet-motorcycle",
   "metadata": {
    "execution": {
     "iopub.execute_input": "2022-11-26T12:15:30.687841Z",
     "iopub.status.busy": "2022-11-26T12:15:30.687073Z",
     "iopub.status.idle": "2022-11-26T12:15:30.690412Z",
     "shell.execute_reply": "2022-11-26T12:15:30.689565Z"
    },
    "papermill": {
     "duration": 0.043481,
     "end_time": "2022-11-26T12:15:30.690543",
     "exception": false,
     "start_time": "2022-11-26T12:15:30.647062",
     "status": "completed"
    },
    "tags": []
   },
   "outputs": [],
   "source": [
    "#hide\n",
    "# cols = ['name','group','day','value']"
   ]
  },
  {
   "cell_type": "code",
   "execution_count": 37,
   "id": "continued-sleeping",
   "metadata": {
    "execution": {
     "iopub.execute_input": "2022-11-26T12:15:30.767027Z",
     "iopub.status.busy": "2022-11-26T12:15:30.766366Z",
     "iopub.status.idle": "2022-11-26T12:15:30.769514Z",
     "shell.execute_reply": "2022-11-26T12:15:30.768895Z"
    },
    "papermill": {
     "duration": 0.042084,
     "end_time": "2022-11-26T12:15:30.769629",
     "exception": false,
     "start_time": "2022-11-26T12:15:30.727545",
     "status": "completed"
    },
    "tags": []
   },
   "outputs": [],
   "source": [
    "#hide\n",
    "# g.rename(columns= {'date':'day'},inplace = True)"
   ]
  },
  {
   "cell_type": "code",
   "execution_count": 38,
   "id": "major-fight",
   "metadata": {
    "execution": {
     "iopub.execute_input": "2022-11-26T12:15:30.854047Z",
     "iopub.status.busy": "2022-11-26T12:15:30.853304Z",
     "iopub.status.idle": "2022-11-26T12:15:30.856582Z",
     "shell.execute_reply": "2022-11-26T12:15:30.855834Z"
    },
    "papermill": {
     "duration": 0.048226,
     "end_time": "2022-11-26T12:15:30.856717",
     "exception": false,
     "start_time": "2022-11-26T12:15:30.808491",
     "status": "completed"
    },
    "tags": []
   },
   "outputs": [],
   "source": [
    "#hide\n",
    "# g = g[cols]"
   ]
  },
  {
   "cell_type": "code",
   "execution_count": 39,
   "id": "structured-mobile",
   "metadata": {
    "execution": {
     "iopub.execute_input": "2022-11-26T12:15:30.939380Z",
     "iopub.status.busy": "2022-11-26T12:15:30.938681Z",
     "iopub.status.idle": "2022-11-26T12:15:30.942082Z",
     "shell.execute_reply": "2022-11-26T12:15:30.941308Z"
    },
    "papermill": {
     "duration": 0.04422,
     "end_time": "2022-11-26T12:15:30.942206",
     "exception": false,
     "start_time": "2022-11-26T12:15:30.897986",
     "status": "completed"
    },
    "tags": []
   },
   "outputs": [],
   "source": [
    "# #hide\n",
    "# g = g[g.group.notna()]"
   ]
  },
  {
   "cell_type": "code",
   "execution_count": 40,
   "id": "determined-closing",
   "metadata": {
    "execution": {
     "iopub.execute_input": "2022-11-26T12:15:31.022512Z",
     "iopub.status.busy": "2022-11-26T12:15:31.021724Z",
     "iopub.status.idle": "2022-11-26T12:15:31.025141Z",
     "shell.execute_reply": "2022-11-26T12:15:31.024280Z"
    },
    "papermill": {
     "duration": 0.045212,
     "end_time": "2022-11-26T12:15:31.025279",
     "exception": false,
     "start_time": "2022-11-26T12:15:30.980067",
     "status": "completed"
    },
    "tags": []
   },
   "outputs": [],
   "source": [
    "# #hide\n",
    "# colors = dict(zip(\n",
    "#     [\"Oceania\", \"Europe\", \"Asia\", \"South America\", \"Middle East\", \"North America\", \"Africa\"],\n",
    "#     [\"#adb0ff\", \"#ffb3ff\", \"#90d595\", \"#e48381\", \"#aafbff\", \"#f7bb5f\", \"#eafb50\"]\n",
    "# ))\n",
    "# group_lk = g.set_index('name')['group'].to_dict()"
   ]
  },
  {
   "cell_type": "code",
   "execution_count": null,
   "id": "gross-drinking",
   "metadata": {
    "papermill": {
     "duration": 0.040705,
     "end_time": "2022-11-26T12:15:31.107395",
     "exception": false,
     "start_time": "2022-11-26T12:15:31.066690",
     "status": "completed"
    },
    "tags": []
   },
   "outputs": [],
   "source": []
  },
  {
   "cell_type": "code",
   "execution_count": 41,
   "id": "subject-macintosh",
   "metadata": {
    "execution": {
     "iopub.execute_input": "2022-11-26T12:15:31.191618Z",
     "iopub.status.busy": "2022-11-26T12:15:31.190808Z",
     "iopub.status.idle": "2022-11-26T12:15:31.194099Z",
     "shell.execute_reply": "2022-11-26T12:15:31.193439Z"
    },
    "papermill": {
     "duration": 0.048764,
     "end_time": "2022-11-26T12:15:31.194222",
     "exception": false,
     "start_time": "2022-11-26T12:15:31.145458",
     "status": "completed"
    },
    "tags": []
   },
   "outputs": [],
   "source": [
    "# #hide\n",
    "# fig, ax = plt.subplots(figsize=(15, 8))\n",
    "\n",
    "# def draw_barchart(current_day):\n",
    "#     dff = g[g['day'].eq(current_day)].sort_values(by='value', ascending=True).tail(10)\n",
    "#     ax.clear()\n",
    "#     ax.barh(dff['name'], dff['value'], color=[colors[group_lk[x]] for x in dff['name']])\n",
    "#     dx = dff['value'].max() / 200\n",
    "    \n",
    "#     for i, (value, name) in enumerate(zip(dff['value'], dff['name'])):\n",
    "#         ax.text(value-dx, i,     name,           size=14, weight=600, ha='right', va='bottom')\n",
    "#         ax.text(value-dx, i-.25, group_lk[name], size=10, color='#444444', ha='right', va='baseline')\n",
    "#         ax.text(value+dx, i,     f'{value:,.0f}',  size=14, ha='left',  va='center')\n",
    "#     ax.text(1, 0.4, current_day, transform=ax.transAxes, color='#777777', size=46, ha='right', weight=800)\n",
    "#     ax.text(0, 1.06, 'Population (thousands)', transform=ax.transAxes, size=12, color='#777777')\n",
    "#     ax.xaxis.set_major_formatter(ticker.StrMethodFormatter('{x:,.0f}'))\n",
    "#     ax.xaxis.set_ticks_position('top')\n",
    "#     ax.tick_params(axis='x', colors='#777777', labelsize=12)\n",
    "#     ax.set_yticks([])\n",
    "#     ax.margins(0, 0.01)\n",
    "#     ax.grid(which='major', axis='x', linestyle='-')\n",
    "#     ax.set_axisbelow(True)\n",
    "    \n",
    "#     ax.text(0, 1.15, 'Coronavirus',\n",
    "#             transform=ax.transAxes, size=24, weight=600, ha='left', va='top')\n",
    "# #     ax.text(1, 0, 'by @pratapvardhan; credit @jburnmurdoch', transform=ax.transAxes, color='#777777', ha='right',\n",
    "# #             bbox=dict(facecolor='white', alpha=0.8, edgecolor='white'))\n",
    "#     plt.box(False)"
   ]
  },
  {
   "cell_type": "code",
   "execution_count": 42,
   "id": "sexual-wages",
   "metadata": {
    "execution": {
     "iopub.execute_input": "2022-11-26T12:15:31.280807Z",
     "iopub.status.busy": "2022-11-26T12:15:31.280073Z",
     "iopub.status.idle": "2022-11-26T12:15:31.283532Z",
     "shell.execute_reply": "2022-11-26T12:15:31.282950Z"
    },
    "papermill": {
     "duration": 0.047031,
     "end_time": "2022-11-26T12:15:31.283660",
     "exception": false,
     "start_time": "2022-11-26T12:15:31.236629",
     "status": "completed"
    },
    "tags": []
   },
   "outputs": [],
   "source": [
    "# #hide_input\n",
    "# fig, ax = plt.subplots(figsize=(15, 8))\n",
    "# animator = animation.FuncAnimation(fig, draw_barchart, frames=range(g.day.values.min(), g.day.values.max()))\n",
    "# HTML(animator.to_jshtml())\n",
    "# # or use animator.to_html5_video() or animator.save() "
   ]
  },
  {
   "cell_type": "code",
   "execution_count": null,
   "id": "australian-container",
   "metadata": {
    "papermill": {
     "duration": 0.04175,
     "end_time": "2022-11-26T12:15:31.365104",
     "exception": false,
     "start_time": "2022-11-26T12:15:31.323354",
     "status": "completed"
    },
    "tags": []
   },
   "outputs": [],
   "source": []
  },
  {
   "cell_type": "code",
   "execution_count": null,
   "id": "mediterranean-pontiac",
   "metadata": {
    "papermill": {
     "duration": 0.037611,
     "end_time": "2022-11-26T12:15:31.444477",
     "exception": false,
     "start_time": "2022-11-26T12:15:31.406866",
     "status": "completed"
    },
    "tags": []
   },
   "outputs": [],
   "source": []
  },
  {
   "cell_type": "code",
   "execution_count": null,
   "id": "aging-legislature",
   "metadata": {
    "papermill": {
     "duration": 0.036014,
     "end_time": "2022-11-26T12:15:31.520109",
     "exception": false,
     "start_time": "2022-11-26T12:15:31.484095",
     "status": "completed"
    },
    "tags": []
   },
   "outputs": [],
   "source": []
  }
 ],
 "metadata": {
  "kernelspec": {
   "display_name": "Python 3",
   "language": "python",
   "name": "python3"
  },
  "language_info": {
   "codemirror_mode": {
    "name": "ipython",
    "version": 3
   },
   "file_extension": ".py",
   "mimetype": "text/x-python",
   "name": "python",
   "nbconvert_exporter": "python",
   "pygments_lexer": "ipython3",
   "version": "3.6.15"
  },
  "papermill": {
   "duration": 7.698963,
   "end_time": "2022-11-26T12:15:31.977060",
   "environment_variables": {},
   "exception": null,
   "input_path": "2020-03-21-covid19exp.ipynb",
   "output_path": "2020-03-21-covid19exp.ipynb",
   "parameters": {},
   "start_time": "2022-11-26T12:15:24.278097",
   "version": "2.0.0"
  }
 },
 "nbformat": 4,
 "nbformat_minor": 5
}