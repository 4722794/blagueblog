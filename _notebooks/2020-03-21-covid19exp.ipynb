{
 "cells": [
  {
   "cell_type": "markdown",
   "metadata": {
    "papermill": {
     "duration": 0.037531,
     "end_time": "2020-11-24T12:06:57.499787",
     "exception": false,
     "start_time": "2020-11-24T12:06:57.462256",
     "status": "completed"
    },
    "tags": []
   },
   "source": [
    "# COVID-19 Case Race\n",
    "> A race chart to see rising cases around the world\n",
    "\n",
    "- author: Hargun Oberoi\n",
    "- image: images/covid-overview.png\n",
    "- hide: false\n",
    "- badges: false"
   ]
  },
  {
   "cell_type": "code",
   "execution_count": 1,
   "metadata": {
    "execution": {
     "iopub.execute_input": "2020-11-24T12:06:57.565907Z",
     "iopub.status.busy": "2020-11-24T12:06:57.565279Z",
     "iopub.status.idle": "2020-11-24T12:06:57.924907Z",
     "shell.execute_reply": "2020-11-24T12:06:57.923484Z"
    },
    "papermill": {
     "duration": 0.395757,
     "end_time": "2020-11-24T12:06:57.925169",
     "exception": false,
     "start_time": "2020-11-24T12:06:57.529412",
     "status": "completed"
    },
    "tags": []
   },
   "outputs": [],
   "source": [
    "#hide\n",
    "import numpy as np\n",
    "import pandas as pd\n",
    "from jinja2 import Template\n",
    "from IPython.display import HTML"
   ]
  },
  {
   "cell_type": "code",
   "execution_count": 2,
   "metadata": {
    "execution": {
     "iopub.execute_input": "2020-11-24T12:06:57.992782Z",
     "iopub.status.busy": "2020-11-24T12:06:57.992079Z",
     "iopub.status.idle": "2020-11-24T12:06:57.993463Z",
     "shell.execute_reply": "2020-11-24T12:06:57.994120Z"
    },
    "papermill": {
     "duration": 0.037134,
     "end_time": "2020-11-24T12:06:57.994291",
     "exception": false,
     "start_time": "2020-11-24T12:06:57.957157",
     "status": "completed"
    },
    "tags": []
   },
   "outputs": [],
   "source": [
    "#hide\n",
    "\n",
    "# FETCH\n",
    "base_url = 'https://raw.githubusercontent.com/pratapvardhan/notebooks/master/covid19/'\n",
    "paths = {\n",
    "    'mapping': base_url + 'mapping_countries.csv',\n",
    "    'overview': base_url + 'overview.tpl'\n",
    "}"
   ]
  },
  {
   "cell_type": "code",
   "execution_count": 3,
   "metadata": {
    "execution": {
     "iopub.execute_input": "2020-11-24T12:06:58.066555Z",
     "iopub.status.busy": "2020-11-24T12:06:58.065875Z",
     "iopub.status.idle": "2020-11-24T12:06:58.070067Z",
     "shell.execute_reply": "2020-11-24T12:06:58.069584Z"
    },
    "papermill": {
     "duration": 0.045132,
     "end_time": "2020-11-24T12:06:58.070201",
     "exception": false,
     "start_time": "2020-11-24T12:06:58.025069",
     "status": "completed"
    },
    "tags": []
   },
   "outputs": [
    {
     "data": {
      "text/plain": [
       "'https://raw.githubusercontent.com/pratapvardhan/notebooks/master/covid19/mapping_countries.csv'"
      ]
     },
     "execution_count": 3,
     "metadata": {},
     "output_type": "execute_result"
    }
   ],
   "source": [
    "#hide\n",
    "paths['mapping']"
   ]
  },
  {
   "cell_type": "code",
   "execution_count": 4,
   "metadata": {
    "execution": {
     "iopub.execute_input": "2020-11-24T12:06:58.135000Z",
     "iopub.status.busy": "2020-11-24T12:06:58.134436Z",
     "iopub.status.idle": "2020-11-24T12:06:58.136118Z",
     "shell.execute_reply": "2020-11-24T12:06:58.136642Z"
    },
    "papermill": {
     "duration": 0.037237,
     "end_time": "2020-11-24T12:06:58.136784",
     "exception": false,
     "start_time": "2020-11-24T12:06:58.099547",
     "status": "completed"
    },
    "tags": []
   },
   "outputs": [],
   "source": [
    "#hide\n",
    "def get_mappings(url):\n",
    "    df = pd.read_csv(url)\n",
    "    return {\n",
    "        'df': df,\n",
    "        'replace.country': dict(df.dropna(subset=['Name']).set_index('Country')['Name']),\n",
    "        'map.continent': dict(df.set_index('Name')['Continent'])\n",
    "    }"
   ]
  },
  {
   "cell_type": "code",
   "execution_count": 5,
   "metadata": {
    "execution": {
     "iopub.execute_input": "2020-11-24T12:06:58.201882Z",
     "iopub.status.busy": "2020-11-24T12:06:58.201258Z",
     "iopub.status.idle": "2020-11-24T12:06:58.296537Z",
     "shell.execute_reply": "2020-11-24T12:06:58.295593Z"
    },
    "papermill": {
     "duration": 0.131608,
     "end_time": "2020-11-24T12:06:58.296759",
     "exception": false,
     "start_time": "2020-11-24T12:06:58.165151",
     "status": "completed"
    },
    "tags": []
   },
   "outputs": [],
   "source": [
    "#hide\n",
    "mapping = get_mappings(paths['mapping'])"
   ]
  },
  {
   "cell_type": "code",
   "execution_count": 6,
   "metadata": {
    "execution": {
     "iopub.execute_input": "2020-11-24T12:06:58.364138Z",
     "iopub.status.busy": "2020-11-24T12:06:58.363540Z",
     "iopub.status.idle": "2020-11-24T12:06:58.366087Z",
     "shell.execute_reply": "2020-11-24T12:06:58.365523Z"
    },
    "papermill": {
     "duration": 0.03792,
     "end_time": "2020-11-24T12:06:58.366226",
     "exception": false,
     "start_time": "2020-11-24T12:06:58.328306",
     "status": "completed"
    },
    "tags": []
   },
   "outputs": [],
   "source": [
    "#hide\n",
    "def get_template(path):\n",
    "    from urllib.parse import urlparse\n",
    "    if bool(urlparse(path).netloc):\n",
    "        from urllib.request import urlopen\n",
    "        return urlopen(path).read().decode('utf8')\n",
    "    return open(path).read()"
   ]
  },
  {
   "cell_type": "code",
   "execution_count": 7,
   "metadata": {
    "execution": {
     "iopub.execute_input": "2020-11-24T12:06:58.428655Z",
     "iopub.status.busy": "2020-11-24T12:06:58.428030Z",
     "iopub.status.idle": "2020-11-24T12:06:58.430450Z",
     "shell.execute_reply": "2020-11-24T12:06:58.430982Z"
    },
    "papermill": {
     "duration": 0.036514,
     "end_time": "2020-11-24T12:06:58.431126",
     "exception": false,
     "start_time": "2020-11-24T12:06:58.394612",
     "status": "completed"
    },
    "tags": []
   },
   "outputs": [],
   "source": [
    "#hide\n",
    "def get_frame(name):\n",
    "    url = (\n",
    "        'https://raw.githubusercontent.com/CSSEGISandData/COVID-19/master/csse_covid_19_data/'\n",
    "        f'csse_covid_19_time_series/time_series_covid19_{name}_global.csv')\n",
    "    df = pd.read_csv(url)\n",
    "    # rename countries\n",
    "    df['Country/Region'] = df['Country/Region'].replace(mapping['replace.country'])\n",
    "    return df"
   ]
  },
  {
   "cell_type": "code",
   "execution_count": 8,
   "metadata": {
    "execution": {
     "iopub.execute_input": "2020-11-24T12:06:58.496101Z",
     "iopub.status.busy": "2020-11-24T12:06:58.495531Z",
     "iopub.status.idle": "2020-11-24T12:06:58.497688Z",
     "shell.execute_reply": "2020-11-24T12:06:58.497172Z"
    },
    "papermill": {
     "duration": 0.037398,
     "end_time": "2020-11-24T12:06:58.497819",
     "exception": false,
     "start_time": "2020-11-24T12:06:58.460421",
     "status": "completed"
    },
    "tags": []
   },
   "outputs": [],
   "source": [
    "#hide\n",
    "def get_dates(df):\n",
    "    dt_cols = df.columns[~df.columns.isin(['Province/State', 'Country/Region', 'Lat', 'Long'])]\n",
    "    LAST_DATE_I = -1\n",
    "    # sometimes last column may be empty, then go backwards\n",
    "    for i in range(-1, -len(dt_cols), -1):\n",
    "        if not df[dt_cols[i]].fillna(0).eq(0).all():\n",
    "            LAST_DATE_I = i\n",
    "            break\n",
    "    return LAST_DATE_I, dt_cols"
   ]
  },
  {
   "cell_type": "code",
   "execution_count": 9,
   "metadata": {
    "execution": {
     "iopub.execute_input": "2020-11-24T12:06:58.561550Z",
     "iopub.status.busy": "2020-11-24T12:06:58.560915Z",
     "iopub.status.idle": "2020-11-24T12:06:59.018921Z",
     "shell.execute_reply": "2020-11-24T12:06:59.019418Z"
    },
    "papermill": {
     "duration": 0.493003,
     "end_time": "2020-11-24T12:06:59.019581",
     "exception": false,
     "start_time": "2020-11-24T12:06:58.526578",
     "status": "completed"
    },
    "tags": []
   },
   "outputs": [],
   "source": [
    "#hide\n",
    "COL_REGION = 'Country/Region'\n",
    "# Confirmed, Recovered, Deaths\n",
    "df = get_frame('confirmed')\n",
    "# dft_: timeseries, dfc_: today country agg\n",
    "dft_cases = df\n",
    "dft_deaths = get_frame('deaths')\n",
    "dft_recovered = get_frame('recovered')\n",
    "LAST_DATE_I, dt_cols = get_dates(df)"
   ]
  },
  {
   "cell_type": "code",
   "execution_count": 10,
   "metadata": {
    "execution": {
     "iopub.execute_input": "2020-11-24T12:06:59.084678Z",
     "iopub.status.busy": "2020-11-24T12:06:59.084087Z",
     "iopub.status.idle": "2020-11-24T12:06:59.086648Z",
     "shell.execute_reply": "2020-11-24T12:06:59.086107Z"
    },
    "papermill": {
     "duration": 0.037706,
     "end_time": "2020-11-24T12:06:59.086776",
     "exception": false,
     "start_time": "2020-11-24T12:06:59.049070",
     "status": "completed"
    },
    "tags": []
   },
   "outputs": [],
   "source": [
    "#hide\n",
    "LAST_DATE_I, dt_cols = get_dates(df)\n",
    "dt_today =dt_cols[LAST_DATE_I]\n",
    "# dt_5day = dt_cols[LAST_DATE_I - 5]\n",
    "dt_yday = dt_cols[LAST_DATE_I - 1]"
   ]
  },
  {
   "cell_type": "code",
   "execution_count": 11,
   "metadata": {
    "execution": {
     "iopub.execute_input": "2020-11-24T12:06:59.151739Z",
     "iopub.status.busy": "2020-11-24T12:06:59.151168Z",
     "iopub.status.idle": "2020-11-24T12:06:59.159649Z",
     "shell.execute_reply": "2020-11-24T12:06:59.160109Z"
    },
    "papermill": {
     "duration": 0.045002,
     "end_time": "2020-11-24T12:06:59.160271",
     "exception": false,
     "start_time": "2020-11-24T12:06:59.115269",
     "status": "completed"
    },
    "tags": []
   },
   "outputs": [],
   "source": [
    "#hide\n",
    "dfc_cases = dft_cases.groupby(COL_REGION)[dt_today].sum()\n",
    "dfc_deaths = dft_deaths.groupby(COL_REGION)[dt_today].sum()\n",
    "# dfp_cases = dft_cases.groupby(COL_REGION)[dt_5day].sum()\n",
    "# dfp_deaths = dft_deaths.groupby(COL_REGION)[dt_5day].sum()\n",
    "dfp_cases = dft_cases.groupby(COL_REGION)[dt_yday].sum()\n",
    "dfp_deaths = dft_deaths.groupby(COL_REGION)[dt_yday].sum()"
   ]
  },
  {
   "cell_type": "code",
   "execution_count": 12,
   "metadata": {
    "execution": {
     "iopub.execute_input": "2020-11-24T12:06:59.226903Z",
     "iopub.status.busy": "2020-11-24T12:06:59.226294Z",
     "iopub.status.idle": "2020-11-24T12:06:59.228849Z",
     "shell.execute_reply": "2020-11-24T12:06:59.229279Z"
    },
    "papermill": {
     "duration": 0.040645,
     "end_time": "2020-11-24T12:06:59.229435",
     "exception": false,
     "start_time": "2020-11-24T12:06:59.188790",
     "status": "completed"
    },
    "tags": []
   },
   "outputs": [],
   "source": [
    "#hide\n",
    "df_table = (pd.DataFrame(dict(Cases = dfc_cases, Deaths = dfc_deaths, PCases = dfp_cases, PDeaths = dfp_deaths))\n",
    "            .sort_values(by = ['Cases','Deaths'], ascending = [False, False])\n",
    "            .reset_index())"
   ]
  },
  {
   "cell_type": "code",
   "execution_count": 13,
   "metadata": {
    "execution": {
     "iopub.execute_input": "2020-11-24T12:06:59.309310Z",
     "iopub.status.busy": "2020-11-24T12:06:59.308693Z",
     "iopub.status.idle": "2020-11-24T12:06:59.316499Z",
     "shell.execute_reply": "2020-11-24T12:06:59.315999Z"
    },
    "papermill": {
     "duration": 0.057963,
     "end_time": "2020-11-24T12:06:59.316639",
     "exception": false,
     "start_time": "2020-11-24T12:06:59.258676",
     "status": "completed"
    },
    "tags": []
   },
   "outputs": [
    {
     "data": {
      "text/html": [
       "<div>\n",
       "<style scoped>\n",
       "    .dataframe tbody tr th:only-of-type {\n",
       "        vertical-align: middle;\n",
       "    }\n",
       "\n",
       "    .dataframe tbody tr th {\n",
       "        vertical-align: top;\n",
       "    }\n",
       "\n",
       "    .dataframe thead th {\n",
       "        text-align: right;\n",
       "    }\n",
       "</style>\n",
       "<table border=\"1\" class=\"dataframe\">\n",
       "  <thead>\n",
       "    <tr style=\"text-align: right;\">\n",
       "      <th></th>\n",
       "      <th>Country/Region</th>\n",
       "      <th>Cases</th>\n",
       "      <th>Deaths</th>\n",
       "      <th>PCases</th>\n",
       "      <th>PDeaths</th>\n",
       "      <th>Cases (+)</th>\n",
       "      <th>Deaths (+)</th>\n",
       "      <th>Fatality Rate</th>\n",
       "      <th>Continent</th>\n",
       "    </tr>\n",
       "  </thead>\n",
       "  <tbody>\n",
       "    <tr>\n",
       "      <th>0</th>\n",
       "      <td>US</td>\n",
       "      <td>12416039</td>\n",
       "      <td>257671</td>\n",
       "      <td>12246849</td>\n",
       "      <td>256782</td>\n",
       "      <td>169190</td>\n",
       "      <td>889</td>\n",
       "      <td>2.08</td>\n",
       "      <td>North America</td>\n",
       "    </tr>\n",
       "    <tr>\n",
       "      <th>1</th>\n",
       "      <td>India</td>\n",
       "      <td>9177840</td>\n",
       "      <td>134218</td>\n",
       "      <td>9139865</td>\n",
       "      <td>133738</td>\n",
       "      <td>37975</td>\n",
       "      <td>480</td>\n",
       "      <td>1.46</td>\n",
       "      <td>Asia</td>\n",
       "    </tr>\n",
       "    <tr>\n",
       "      <th>2</th>\n",
       "      <td>Brazil</td>\n",
       "      <td>6087608</td>\n",
       "      <td>169485</td>\n",
       "      <td>6071401</td>\n",
       "      <td>169183</td>\n",
       "      <td>16207</td>\n",
       "      <td>302</td>\n",
       "      <td>2.78</td>\n",
       "      <td>South America</td>\n",
       "    </tr>\n",
       "    <tr>\n",
       "      <th>3</th>\n",
       "      <td>France</td>\n",
       "      <td>2195940</td>\n",
       "      <td>49312</td>\n",
       "      <td>2191180</td>\n",
       "      <td>48807</td>\n",
       "      <td>4760</td>\n",
       "      <td>505</td>\n",
       "      <td>2.25</td>\n",
       "      <td>Europe</td>\n",
       "    </tr>\n",
       "    <tr>\n",
       "      <th>4</th>\n",
       "      <td>Russia</td>\n",
       "      <td>2096749</td>\n",
       "      <td>36192</td>\n",
       "      <td>2071858</td>\n",
       "      <td>35838</td>\n",
       "      <td>24891</td>\n",
       "      <td>354</td>\n",
       "      <td>1.73</td>\n",
       "      <td>Europe</td>\n",
       "    </tr>\n",
       "  </tbody>\n",
       "</table>\n",
       "</div>"
      ],
      "text/plain": [
       "  Country/Region     Cases  Deaths    PCases  PDeaths  Cases (+)  Deaths (+)  \\\n",
       "0             US  12416039  257671  12246849   256782     169190         889   \n",
       "1          India   9177840  134218   9139865   133738      37975         480   \n",
       "2         Brazil   6087608  169485   6071401   169183      16207         302   \n",
       "3         France   2195940   49312   2191180    48807       4760         505   \n",
       "4         Russia   2096749   36192   2071858    35838      24891         354   \n",
       "\n",
       "   Fatality Rate      Continent  \n",
       "0           2.08  North America  \n",
       "1           1.46           Asia  \n",
       "2           2.78  South America  \n",
       "3           2.25         Europe  \n",
       "4           1.73         Europe  "
      ]
     },
     "execution_count": 13,
     "metadata": {},
     "output_type": "execute_result"
    }
   ],
   "source": [
    "#hide\n",
    "for c in 'Cases, Deaths'.split(', '):\n",
    "    df_table[f'{c} (+)'] = (df_table[c] - df_table[f'P{c}']).clip(0)\n",
    "    #Clip ça veut dire, les chiffres negatif sont interdit\n",
    "df_table['Fatality Rate'] = (100* df_table['Deaths']/ df_table['Cases']).round(2)\n",
    "df_table['Continent'] = df_table['Country/Region'].map(mapping['map.continent'])\n",
    "df_table.head(5)"
   ]
  },
  {
   "cell_type": "code",
   "execution_count": 14,
   "metadata": {
    "execution": {
     "iopub.execute_input": "2020-11-24T12:06:59.382653Z",
     "iopub.status.busy": "2020-11-24T12:06:59.382075Z",
     "iopub.status.idle": "2020-11-24T12:06:59.386016Z",
     "shell.execute_reply": "2020-11-24T12:06:59.386455Z"
    },
    "papermill": {
     "duration": 0.040508,
     "end_time": "2020-11-24T12:06:59.386604",
     "exception": false,
     "start_time": "2020-11-24T12:06:59.346096",
     "status": "completed"
    },
    "tags": []
   },
   "outputs": [],
   "source": [
    "#hide\n",
    "#delete problematic countries from table\n",
    "df_table = df_table[~df_table['Country/Region'].isin(['Cape Verde', 'Cruise Ship', 'Kosovo'])]"
   ]
  },
  {
   "cell_type": "code",
   "execution_count": 15,
   "metadata": {
    "execution": {
     "iopub.execute_input": "2020-11-24T12:06:59.468890Z",
     "iopub.status.busy": "2020-11-24T12:06:59.452855Z",
     "iopub.status.idle": "2020-11-24T12:06:59.472850Z",
     "shell.execute_reply": "2020-11-24T12:06:59.473427Z"
    },
    "papermill": {
     "duration": 0.058242,
     "end_time": "2020-11-24T12:06:59.473588",
     "exception": false,
     "start_time": "2020-11-24T12:06:59.415346",
     "status": "completed"
    },
    "tags": []
   },
   "outputs": [
    {
     "data": {
      "text/html": [
       "<div>\n",
       "<style scoped>\n",
       "    .dataframe tbody tr th:only-of-type {\n",
       "        vertical-align: middle;\n",
       "    }\n",
       "\n",
       "    .dataframe tbody tr th {\n",
       "        vertical-align: top;\n",
       "    }\n",
       "\n",
       "    .dataframe thead th {\n",
       "        text-align: right;\n",
       "    }\n",
       "</style>\n",
       "<table border=\"1\" class=\"dataframe\">\n",
       "  <thead>\n",
       "    <tr style=\"text-align: right;\">\n",
       "      <th></th>\n",
       "      <th>Country/Region</th>\n",
       "      <th>Cases</th>\n",
       "      <th>Deaths</th>\n",
       "      <th>PCases</th>\n",
       "      <th>PDeaths</th>\n",
       "      <th>Cases (+)</th>\n",
       "      <th>Deaths (+)</th>\n",
       "      <th>Fatality Rate</th>\n",
       "      <th>Continent</th>\n",
       "    </tr>\n",
       "  </thead>\n",
       "  <tbody>\n",
       "    <tr>\n",
       "      <th>0</th>\n",
       "      <td>US</td>\n",
       "      <td>12416039</td>\n",
       "      <td>257671</td>\n",
       "      <td>12246849</td>\n",
       "      <td>256782</td>\n",
       "      <td>169190</td>\n",
       "      <td>889</td>\n",
       "      <td>2.1</td>\n",
       "      <td>North America</td>\n",
       "    </tr>\n",
       "    <tr>\n",
       "      <th>1</th>\n",
       "      <td>India</td>\n",
       "      <td>9177840</td>\n",
       "      <td>134218</td>\n",
       "      <td>9139865</td>\n",
       "      <td>133738</td>\n",
       "      <td>37975</td>\n",
       "      <td>480</td>\n",
       "      <td>1.5</td>\n",
       "      <td>Asia</td>\n",
       "    </tr>\n",
       "    <tr>\n",
       "      <th>2</th>\n",
       "      <td>Brazil</td>\n",
       "      <td>6087608</td>\n",
       "      <td>169485</td>\n",
       "      <td>6071401</td>\n",
       "      <td>169183</td>\n",
       "      <td>16207</td>\n",
       "      <td>302</td>\n",
       "      <td>2.8</td>\n",
       "      <td>South America</td>\n",
       "    </tr>\n",
       "    <tr>\n",
       "      <th>3</th>\n",
       "      <td>France</td>\n",
       "      <td>2195940</td>\n",
       "      <td>49312</td>\n",
       "      <td>2191180</td>\n",
       "      <td>48807</td>\n",
       "      <td>4760</td>\n",
       "      <td>505</td>\n",
       "      <td>2.2</td>\n",
       "      <td>Europe</td>\n",
       "    </tr>\n",
       "    <tr>\n",
       "      <th>4</th>\n",
       "      <td>Russia</td>\n",
       "      <td>2096749</td>\n",
       "      <td>36192</td>\n",
       "      <td>2071858</td>\n",
       "      <td>35838</td>\n",
       "      <td>24891</td>\n",
       "      <td>354</td>\n",
       "      <td>1.7</td>\n",
       "      <td>Europe</td>\n",
       "    </tr>\n",
       "  </tbody>\n",
       "</table>\n",
       "</div>"
      ],
      "text/plain": [
       "  Country/Region     Cases  Deaths    PCases  PDeaths  Cases (+)  Deaths (+)  \\\n",
       "0             US  12416039  257671  12246849   256782     169190         889   \n",
       "1          India   9177840  134218   9139865   133738      37975         480   \n",
       "2         Brazil   6087608  169485   6071401   169183      16207         302   \n",
       "3         France   2195940   49312   2191180    48807       4760         505   \n",
       "4         Russia   2096749   36192   2071858    35838      24891         354   \n",
       "\n",
       "   Fatality Rate      Continent  \n",
       "0            2.1  North America  \n",
       "1            1.5           Asia  \n",
       "2            2.8  South America  \n",
       "3            2.2         Europe  \n",
       "4            1.7         Europe  "
      ]
     },
     "execution_count": 15,
     "metadata": {},
     "output_type": "execute_result"
    }
   ],
   "source": [
    "#hide\n",
    "df_table = (pd.DataFrame(dict(Cases=dfc_cases, Deaths=dfc_deaths, PCases=dfp_cases, PDeaths=dfp_deaths))\n",
    "             .sort_values(by=['Cases', 'Deaths'], ascending=[False, False])\n",
    "             .reset_index())\n",
    "df_table.rename(columns={'index': 'Country/Region'}, inplace=True)\n",
    "for c in 'Cases, Deaths'.split(', '):\n",
    "    df_table[f'{c} (+)'] = (df_table[c] - df_table[f'P{c}']).clip(0)  # DATA BUG\n",
    "df_table['Fatality Rate'] = (100 * df_table['Deaths'] / df_table['Cases']).round(1)\n",
    "df_table['Continent'] = df_table['Country/Region'].map(mapping['map.continent'])\n",
    "df_table.head(5)"
   ]
  },
  {
   "cell_type": "code",
   "execution_count": 16,
   "metadata": {
    "execution": {
     "iopub.execute_input": "2020-11-24T12:06:59.540487Z",
     "iopub.status.busy": "2020-11-24T12:06:59.539884Z",
     "iopub.status.idle": "2020-11-24T12:06:59.541617Z",
     "shell.execute_reply": "2020-11-24T12:06:59.542094Z"
    },
    "papermill": {
     "duration": 0.038557,
     "end_time": "2020-11-24T12:06:59.542246",
     "exception": false,
     "start_time": "2020-11-24T12:06:59.503689",
     "status": "completed"
    },
    "tags": []
   },
   "outputs": [],
   "source": [
    "#hide\n",
    "#delete problematic countries from table\n",
    "df_table = df_table[~df_table['Country/Region'].isin(['Cape Verde', 'Cruise Ship', 'Kosovo'])]"
   ]
  },
  {
   "cell_type": "code",
   "execution_count": 17,
   "metadata": {
    "execution": {
     "iopub.execute_input": "2020-11-24T12:06:59.621478Z",
     "iopub.status.busy": "2020-11-24T12:06:59.620825Z",
     "iopub.status.idle": "2020-11-24T12:06:59.623615Z",
     "shell.execute_reply": "2020-11-24T12:06:59.623125Z"
    },
    "papermill": {
     "duration": 0.052391,
     "end_time": "2020-11-24T12:06:59.623756",
     "exception": false,
     "start_time": "2020-11-24T12:06:59.571365",
     "status": "completed"
    },
    "tags": []
   },
   "outputs": [],
   "source": [
    "#hide\n",
    "metrics = [df_table.columns[index] for index in [1,2,5,6]]\n",
    "# s_china = df_table[df_table['Country/Region'].eq('China')][metrics].sum().add_prefix('China ')\n",
    "s_us = df_table[df_table['Country/Region'].eq('US')][metrics].sum().add_prefix('US ')\n",
    "s_eu = df_table[df_table['Continent'].eq('Europe')][metrics].sum().add_prefix('EU ')\n",
    "s_ind = df_table[df_table['Country/Region'].eq('India')][metrics].sum().add_prefix('India ')\n",
    "summary = {'updated': pd.to_datetime(dt_today), 'since': pd.to_datetime(dt_yday)}\n",
    "summary = {'updated': pd.to_datetime(dt_today), 'since': pd.to_datetime(dt_yday)}\n",
    "summary = {**summary, **df_table[metrics].sum(), **s_ind, **s_us, **s_eu}"
   ]
  },
  {
   "cell_type": "code",
   "execution_count": 18,
   "metadata": {
    "execution": {
     "iopub.execute_input": "2020-11-24T12:06:59.693358Z",
     "iopub.status.busy": "2020-11-24T12:06:59.692751Z",
     "iopub.status.idle": "2020-11-24T12:06:59.700901Z",
     "shell.execute_reply": "2020-11-24T12:06:59.701419Z"
    },
    "papermill": {
     "duration": 0.047191,
     "end_time": "2020-11-24T12:06:59.701579",
     "exception": false,
     "start_time": "2020-11-24T12:06:59.654388",
     "status": "completed"
    },
    "tags": []
   },
   "outputs": [],
   "source": [
    "#hide\n",
    "dft_ct_new_cases = dft_cases.groupby(COL_REGION)[dt_cols].sum().diff(axis=1).fillna(0).astype(int)"
   ]
  },
  {
   "cell_type": "code",
   "execution_count": 19,
   "metadata": {
    "execution": {
     "iopub.execute_input": "2020-11-24T12:06:59.770587Z",
     "iopub.status.busy": "2020-11-24T12:06:59.769993Z",
     "iopub.status.idle": "2020-11-24T12:06:59.772565Z",
     "shell.execute_reply": "2020-11-24T12:06:59.773026Z"
    },
    "papermill": {
     "duration": 0.040647,
     "end_time": "2020-11-24T12:06:59.773185",
     "exception": false,
     "start_time": "2020-11-24T12:06:59.732538",
     "status": "completed"
    },
    "tags": []
   },
   "outputs": [],
   "source": [
    "#hide\n",
    "everydaycases = dft_ct_new_cases.cumsum(axis=1)"
   ]
  },
  {
   "cell_type": "code",
   "execution_count": 20,
   "metadata": {
    "execution": {
     "iopub.execute_input": "2020-11-24T12:06:59.841051Z",
     "iopub.status.busy": "2020-11-24T12:06:59.840443Z",
     "iopub.status.idle": "2020-11-24T12:07:03.260262Z",
     "shell.execute_reply": "2020-11-24T12:07:03.259090Z"
    },
    "papermill": {
     "duration": 3.456498,
     "end_time": "2020-11-24T12:07:03.260415",
     "exception": false,
     "start_time": "2020-11-24T12:06:59.803917",
     "status": "completed"
    },
    "tags": []
   },
   "outputs": [],
   "source": [
    "#hide\n",
    "import pandas as pd\n",
    "import matplotlib.pyplot as plt\n",
    "import matplotlib.ticker as ticker\n",
    "import matplotlib.animation as animation\n",
    "from IPython.display import HTML"
   ]
  },
  {
   "cell_type": "code",
   "execution_count": 21,
   "metadata": {
    "execution": {
     "iopub.execute_input": "2020-11-24T12:07:03.325392Z",
     "iopub.status.busy": "2020-11-24T12:07:03.324789Z",
     "iopub.status.idle": "2020-11-24T12:07:03.329522Z",
     "shell.execute_reply": "2020-11-24T12:07:03.329018Z"
    },
    "papermill": {
     "duration": 0.03949,
     "end_time": "2020-11-24T12:07:03.329649",
     "exception": false,
     "start_time": "2020-11-24T12:07:03.290159",
     "status": "completed"
    },
    "tags": []
   },
   "outputs": [],
   "source": [
    "#hide\n",
    "t = everydaycases.stack()"
   ]
  },
  {
   "cell_type": "code",
   "execution_count": 22,
   "metadata": {
    "execution": {
     "iopub.execute_input": "2020-11-24T12:07:03.399234Z",
     "iopub.status.busy": "2020-11-24T12:07:03.398620Z",
     "iopub.status.idle": "2020-11-24T12:07:03.406701Z",
     "shell.execute_reply": "2020-11-24T12:07:03.407187Z"
    },
    "papermill": {
     "duration": 0.046303,
     "end_time": "2020-11-24T12:07:03.407340",
     "exception": false,
     "start_time": "2020-11-24T12:07:03.361037",
     "status": "completed"
    },
    "tags": []
   },
   "outputs": [],
   "source": [
    "#hide\n",
    "g = t.reset_index(['Country/Region'])"
   ]
  },
  {
   "cell_type": "code",
   "execution_count": 23,
   "metadata": {
    "execution": {
     "iopub.execute_input": "2020-11-24T12:07:03.472438Z",
     "iopub.status.busy": "2020-11-24T12:07:03.471823Z",
     "iopub.status.idle": "2020-11-24T12:07:03.474363Z",
     "shell.execute_reply": "2020-11-24T12:07:03.474885Z"
    },
    "papermill": {
     "duration": 0.038043,
     "end_time": "2020-11-24T12:07:03.475042",
     "exception": false,
     "start_time": "2020-11-24T12:07:03.436999",
     "status": "completed"
    },
    "tags": []
   },
   "outputs": [],
   "source": [
    "#hide\n",
    "g.index.name = 'date'"
   ]
  },
  {
   "cell_type": "code",
   "execution_count": 24,
   "metadata": {
    "execution": {
     "iopub.execute_input": "2020-11-24T12:07:03.544031Z",
     "iopub.status.busy": "2020-11-24T12:07:03.542995Z",
     "iopub.status.idle": "2020-11-24T12:07:03.544724Z",
     "shell.execute_reply": "2020-11-24T12:07:03.545187Z"
    },
    "papermill": {
     "duration": 0.040024,
     "end_time": "2020-11-24T12:07:03.545337",
     "exception": false,
     "start_time": "2020-11-24T12:07:03.505313",
     "status": "completed"
    },
    "tags": []
   },
   "outputs": [],
   "source": [
    "# #hide\n",
    "# g = g.reset_index(['date'])"
   ]
  },
  {
   "cell_type": "code",
   "execution_count": 25,
   "metadata": {
    "execution": {
     "iopub.execute_input": "2020-11-24T12:07:03.630167Z",
     "iopub.status.busy": "2020-11-24T12:07:03.629549Z",
     "iopub.status.idle": "2020-11-24T12:07:03.632747Z",
     "shell.execute_reply": "2020-11-24T12:07:03.633251Z"
    },
    "papermill": {
     "duration": 0.055829,
     "end_time": "2020-11-24T12:07:03.633406",
     "exception": false,
     "start_time": "2020-11-24T12:07:03.577577",
     "status": "completed"
    },
    "tags": []
   },
   "outputs": [],
   "source": [
    "#hide\n",
    "# g.head()"
   ]
  },
  {
   "cell_type": "code",
   "execution_count": 26,
   "metadata": {
    "execution": {
     "iopub.execute_input": "2020-11-24T12:07:03.702885Z",
     "iopub.status.busy": "2020-11-24T12:07:03.702268Z",
     "iopub.status.idle": "2020-11-24T12:07:03.705444Z",
     "shell.execute_reply": "2020-11-24T12:07:03.705917Z"
    },
    "papermill": {
     "duration": 0.041429,
     "end_time": "2020-11-24T12:07:03.706100",
     "exception": false,
     "start_time": "2020-11-24T12:07:03.664671",
     "status": "completed"
    },
    "tags": []
   },
   "outputs": [],
   "source": [
    "#hide\n",
    "# g.columns = ['date','country','cases']"
   ]
  },
  {
   "cell_type": "code",
   "execution_count": 27,
   "metadata": {
    "execution": {
     "iopub.execute_input": "2020-11-24T12:07:03.772752Z",
     "iopub.status.busy": "2020-11-24T12:07:03.771701Z",
     "iopub.status.idle": "2020-11-24T12:07:03.776403Z",
     "shell.execute_reply": "2020-11-24T12:07:03.776905Z"
    },
    "papermill": {
     "duration": 0.04107,
     "end_time": "2020-11-24T12:07:03.777063",
     "exception": false,
     "start_time": "2020-11-24T12:07:03.735993",
     "status": "completed"
    },
    "tags": []
   },
   "outputs": [],
   "source": [
    "#hide\n",
    "# g['continent'] = g.country"
   ]
  },
  {
   "cell_type": "code",
   "execution_count": 28,
   "metadata": {
    "execution": {
     "iopub.execute_input": "2020-11-24T12:07:03.844541Z",
     "iopub.status.busy": "2020-11-24T12:07:03.843664Z",
     "iopub.status.idle": "2020-11-24T12:07:03.847731Z",
     "shell.execute_reply": "2020-11-24T12:07:03.848246Z"
    },
    "papermill": {
     "duration": 0.039559,
     "end_time": "2020-11-24T12:07:03.848408",
     "exception": false,
     "start_time": "2020-11-24T12:07:03.808849",
     "status": "completed"
    },
    "tags": []
   },
   "outputs": [],
   "source": [
    "#hide\n",
    "# cols = list(g.columns.values)"
   ]
  },
  {
   "cell_type": "code",
   "execution_count": 29,
   "metadata": {
    "execution": {
     "iopub.execute_input": "2020-11-24T12:07:03.917923Z",
     "iopub.status.busy": "2020-11-24T12:07:03.916928Z",
     "iopub.status.idle": "2020-11-24T12:07:03.921752Z",
     "shell.execute_reply": "2020-11-24T12:07:03.921260Z"
    },
    "papermill": {
     "duration": 0.042416,
     "end_time": "2020-11-24T12:07:03.921891",
     "exception": false,
     "start_time": "2020-11-24T12:07:03.879475",
     "status": "completed"
    },
    "tags": []
   },
   "outputs": [],
   "source": [
    "#hide\n",
    "# cols.insert(0, cols.pop())"
   ]
  },
  {
   "cell_type": "code",
   "execution_count": 30,
   "metadata": {
    "execution": {
     "iopub.execute_input": "2020-11-24T12:07:03.987489Z",
     "iopub.status.busy": "2020-11-24T12:07:03.986883Z",
     "iopub.status.idle": "2020-11-24T12:07:03.990928Z",
     "shell.execute_reply": "2020-11-24T12:07:03.990439Z"
    },
    "papermill": {
     "duration": 0.038815,
     "end_time": "2020-11-24T12:07:03.991060",
     "exception": false,
     "start_time": "2020-11-24T12:07:03.952245",
     "status": "completed"
    },
    "tags": []
   },
   "outputs": [],
   "source": [
    "#hide\n",
    "# g = g[cols]"
   ]
  },
  {
   "cell_type": "code",
   "execution_count": 31,
   "metadata": {
    "execution": {
     "iopub.execute_input": "2020-11-24T12:07:04.056161Z",
     "iopub.status.busy": "2020-11-24T12:07:04.055561Z",
     "iopub.status.idle": "2020-11-24T12:07:04.057996Z",
     "shell.execute_reply": "2020-11-24T12:07:04.058484Z"
    },
    "papermill": {
     "duration": 0.037077,
     "end_time": "2020-11-24T12:07:04.058635",
     "exception": false,
     "start_time": "2020-11-24T12:07:04.021558",
     "status": "completed"
    },
    "tags": []
   },
   "outputs": [],
   "source": [
    "#hide\n",
    "# g['continent'] = g['continent'].map(mapping['map.continent'])"
   ]
  },
  {
   "cell_type": "code",
   "execution_count": 32,
   "metadata": {
    "execution": {
     "iopub.execute_input": "2020-11-24T12:07:04.124858Z",
     "iopub.status.busy": "2020-11-24T12:07:04.124223Z",
     "iopub.status.idle": "2020-11-24T12:07:04.128669Z",
     "shell.execute_reply": "2020-11-24T12:07:04.128171Z"
    },
    "papermill": {
     "duration": 0.039403,
     "end_time": "2020-11-24T12:07:04.128809",
     "exception": false,
     "start_time": "2020-11-24T12:07:04.089406",
     "status": "completed"
    },
    "tags": []
   },
   "outputs": [],
   "source": [
    "#hide\n",
    "# g.head()"
   ]
  },
  {
   "cell_type": "code",
   "execution_count": 33,
   "metadata": {
    "execution": {
     "iopub.execute_input": "2020-11-24T12:07:04.194387Z",
     "iopub.status.busy": "2020-11-24T12:07:04.193097Z",
     "iopub.status.idle": "2020-11-24T12:07:04.195064Z",
     "shell.execute_reply": "2020-11-24T12:07:04.195547Z"
    },
    "papermill": {
     "duration": 0.037091,
     "end_time": "2020-11-24T12:07:04.195689",
     "exception": false,
     "start_time": "2020-11-24T12:07:04.158598",
     "status": "completed"
    },
    "tags": []
   },
   "outputs": [],
   "source": [
    "# hide\n",
    "# g['date'] = g['date'].astype('datetime64[ns]')"
   ]
  },
  {
   "cell_type": "code",
   "execution_count": 34,
   "metadata": {
    "execution": {
     "iopub.execute_input": "2020-11-24T12:07:04.260606Z",
     "iopub.status.busy": "2020-11-24T12:07:04.260004Z",
     "iopub.status.idle": "2020-11-24T12:07:04.262399Z",
     "shell.execute_reply": "2020-11-24T12:07:04.262886Z"
    },
    "papermill": {
     "duration": 0.037194,
     "end_time": "2020-11-24T12:07:04.263035",
     "exception": false,
     "start_time": "2020-11-24T12:07:04.225841",
     "status": "completed"
    },
    "tags": []
   },
   "outputs": [],
   "source": [
    "#hide\n",
    "# g['date'] = g.date.dt.dayofyear"
   ]
  },
  {
   "cell_type": "code",
   "execution_count": 35,
   "metadata": {
    "execution": {
     "iopub.execute_input": "2020-11-24T12:07:04.327930Z",
     "iopub.status.busy": "2020-11-24T12:07:04.327327Z",
     "iopub.status.idle": "2020-11-24T12:07:04.329760Z",
     "shell.execute_reply": "2020-11-24T12:07:04.330359Z"
    },
    "papermill": {
     "duration": 0.037763,
     "end_time": "2020-11-24T12:07:04.330525",
     "exception": false,
     "start_time": "2020-11-24T12:07:04.292762",
     "status": "completed"
    },
    "tags": []
   },
   "outputs": [],
   "source": [
    "#hide\n",
    "# g = g.rename(columns= {'continent':'group','country':'name','cases':'value'})"
   ]
  },
  {
   "cell_type": "code",
   "execution_count": 36,
   "metadata": {
    "execution": {
     "iopub.execute_input": "2020-11-24T12:07:04.395822Z",
     "iopub.status.busy": "2020-11-24T12:07:04.395218Z",
     "iopub.status.idle": "2020-11-24T12:07:04.397413Z",
     "shell.execute_reply": "2020-11-24T12:07:04.396905Z"
    },
    "papermill": {
     "duration": 0.036447,
     "end_time": "2020-11-24T12:07:04.397544",
     "exception": false,
     "start_time": "2020-11-24T12:07:04.361097",
     "status": "completed"
    },
    "tags": []
   },
   "outputs": [],
   "source": [
    "#hide\n",
    "# cols = ['name','group','day','value']"
   ]
  },
  {
   "cell_type": "code",
   "execution_count": 37,
   "metadata": {
    "execution": {
     "iopub.execute_input": "2020-11-24T12:07:04.461517Z",
     "iopub.status.busy": "2020-11-24T12:07:04.460915Z",
     "iopub.status.idle": "2020-11-24T12:07:04.463349Z",
     "shell.execute_reply": "2020-11-24T12:07:04.463795Z"
    },
    "papermill": {
     "duration": 0.036938,
     "end_time": "2020-11-24T12:07:04.463936",
     "exception": false,
     "start_time": "2020-11-24T12:07:04.426998",
     "status": "completed"
    },
    "tags": []
   },
   "outputs": [],
   "source": [
    "#hide\n",
    "# g.rename(columns= {'date':'day'},inplace = True)"
   ]
  },
  {
   "cell_type": "code",
   "execution_count": 38,
   "metadata": {
    "execution": {
     "iopub.execute_input": "2020-11-24T12:07:04.527369Z",
     "iopub.status.busy": "2020-11-24T12:07:04.526718Z",
     "iopub.status.idle": "2020-11-24T12:07:04.529423Z",
     "shell.execute_reply": "2020-11-24T12:07:04.529905Z"
    },
    "papermill": {
     "duration": 0.036589,
     "end_time": "2020-11-24T12:07:04.530082",
     "exception": false,
     "start_time": "2020-11-24T12:07:04.493493",
     "status": "completed"
    },
    "tags": []
   },
   "outputs": [],
   "source": [
    "#hide\n",
    "# g = g[cols]"
   ]
  },
  {
   "cell_type": "code",
   "execution_count": 39,
   "metadata": {
    "execution": {
     "iopub.execute_input": "2020-11-24T12:07:04.595432Z",
     "iopub.status.busy": "2020-11-24T12:07:04.594835Z",
     "iopub.status.idle": "2020-11-24T12:07:04.596602Z",
     "shell.execute_reply": "2020-11-24T12:07:04.597059Z"
    },
    "papermill": {
     "duration": 0.036784,
     "end_time": "2020-11-24T12:07:04.597214",
     "exception": false,
     "start_time": "2020-11-24T12:07:04.560430",
     "status": "completed"
    },
    "tags": []
   },
   "outputs": [],
   "source": [
    "# #hide\n",
    "# g = g[g.group.notna()]"
   ]
  },
  {
   "cell_type": "code",
   "execution_count": 40,
   "metadata": {
    "execution": {
     "iopub.execute_input": "2020-11-24T12:07:04.664948Z",
     "iopub.status.busy": "2020-11-24T12:07:04.664315Z",
     "iopub.status.idle": "2020-11-24T12:07:04.666918Z",
     "shell.execute_reply": "2020-11-24T12:07:04.667405Z"
    },
    "papermill": {
     "duration": 0.039136,
     "end_time": "2020-11-24T12:07:04.667560",
     "exception": false,
     "start_time": "2020-11-24T12:07:04.628424",
     "status": "completed"
    },
    "tags": []
   },
   "outputs": [],
   "source": [
    "# #hide\n",
    "# colors = dict(zip(\n",
    "#     [\"Oceania\", \"Europe\", \"Asia\", \"South America\", \"Middle East\", \"North America\", \"Africa\"],\n",
    "#     [\"#adb0ff\", \"#ffb3ff\", \"#90d595\", \"#e48381\", \"#aafbff\", \"#f7bb5f\", \"#eafb50\"]\n",
    "# ))\n",
    "# group_lk = g.set_index('name')['group'].to_dict()"
   ]
  },
  {
   "cell_type": "code",
   "execution_count": null,
   "metadata": {
    "papermill": {
     "duration": 0.031315,
     "end_time": "2020-11-24T12:07:04.730149",
     "exception": false,
     "start_time": "2020-11-24T12:07:04.698834",
     "status": "completed"
    },
    "tags": []
   },
   "outputs": [],
   "source": []
  },
  {
   "cell_type": "code",
   "execution_count": 41,
   "metadata": {
    "execution": {
     "iopub.execute_input": "2020-11-24T12:07:04.797792Z",
     "iopub.status.busy": "2020-11-24T12:07:04.796686Z",
     "iopub.status.idle": "2020-11-24T12:07:04.801444Z",
     "shell.execute_reply": "2020-11-24T12:07:04.800983Z"
    },
    "papermill": {
     "duration": 0.041478,
     "end_time": "2020-11-24T12:07:04.801576",
     "exception": false,
     "start_time": "2020-11-24T12:07:04.760098",
     "status": "completed"
    },
    "tags": []
   },
   "outputs": [],
   "source": [
    "# #hide\n",
    "# fig, ax = plt.subplots(figsize=(15, 8))\n",
    "\n",
    "# def draw_barchart(current_day):\n",
    "#     dff = g[g['day'].eq(current_day)].sort_values(by='value', ascending=True).tail(10)\n",
    "#     ax.clear()\n",
    "#     ax.barh(dff['name'], dff['value'], color=[colors[group_lk[x]] for x in dff['name']])\n",
    "#     dx = dff['value'].max() / 200\n",
    "    \n",
    "#     for i, (value, name) in enumerate(zip(dff['value'], dff['name'])):\n",
    "#         ax.text(value-dx, i,     name,           size=14, weight=600, ha='right', va='bottom')\n",
    "#         ax.text(value-dx, i-.25, group_lk[name], size=10, color='#444444', ha='right', va='baseline')\n",
    "#         ax.text(value+dx, i,     f'{value:,.0f}',  size=14, ha='left',  va='center')\n",
    "#     ax.text(1, 0.4, current_day, transform=ax.transAxes, color='#777777', size=46, ha='right', weight=800)\n",
    "#     ax.text(0, 1.06, 'Population (thousands)', transform=ax.transAxes, size=12, color='#777777')\n",
    "#     ax.xaxis.set_major_formatter(ticker.StrMethodFormatter('{x:,.0f}'))\n",
    "#     ax.xaxis.set_ticks_position('top')\n",
    "#     ax.tick_params(axis='x', colors='#777777', labelsize=12)\n",
    "#     ax.set_yticks([])\n",
    "#     ax.margins(0, 0.01)\n",
    "#     ax.grid(which='major', axis='x', linestyle='-')\n",
    "#     ax.set_axisbelow(True)\n",
    "    \n",
    "#     ax.text(0, 1.15, 'Coronavirus',\n",
    "#             transform=ax.transAxes, size=24, weight=600, ha='left', va='top')\n",
    "# #     ax.text(1, 0, 'by @pratapvardhan; credit @jburnmurdoch', transform=ax.transAxes, color='#777777', ha='right',\n",
    "# #             bbox=dict(facecolor='white', alpha=0.8, edgecolor='white'))\n",
    "#     plt.box(False)"
   ]
  },
  {
   "cell_type": "code",
   "execution_count": 42,
   "metadata": {
    "execution": {
     "iopub.execute_input": "2020-11-24T12:07:04.867969Z",
     "iopub.status.busy": "2020-11-24T12:07:04.867362Z",
     "iopub.status.idle": "2020-11-24T12:07:04.870337Z",
     "shell.execute_reply": "2020-11-24T12:07:04.869764Z"
    },
    "papermill": {
     "duration": 0.038303,
     "end_time": "2020-11-24T12:07:04.870468",
     "exception": false,
     "start_time": "2020-11-24T12:07:04.832165",
     "status": "completed"
    },
    "tags": []
   },
   "outputs": [],
   "source": [
    "# #hide_input\n",
    "# fig, ax = plt.subplots(figsize=(15, 8))\n",
    "# animator = animation.FuncAnimation(fig, draw_barchart, frames=range(g.day.values.min(), g.day.values.max()))\n",
    "# HTML(animator.to_jshtml())\n",
    "# # or use animator.to_html5_video() or animator.save() "
   ]
  },
  {
   "cell_type": "code",
   "execution_count": null,
   "metadata": {
    "papermill": {
     "duration": 0.030352,
     "end_time": "2020-11-24T12:07:04.931079",
     "exception": false,
     "start_time": "2020-11-24T12:07:04.900727",
     "status": "completed"
    },
    "tags": []
   },
   "outputs": [],
   "source": []
  },
  {
   "cell_type": "code",
   "execution_count": null,
   "metadata": {
    "papermill": {
     "duration": 0.02945,
     "end_time": "2020-11-24T12:07:04.990444",
     "exception": false,
     "start_time": "2020-11-24T12:07:04.960994",
     "status": "completed"
    },
    "tags": []
   },
   "outputs": [],
   "source": []
  },
  {
   "cell_type": "code",
   "execution_count": null,
   "metadata": {
    "papermill": {
     "duration": 0.029822,
     "end_time": "2020-11-24T12:07:05.050129",
     "exception": false,
     "start_time": "2020-11-24T12:07:05.020307",
     "status": "completed"
    },
    "tags": []
   },
   "outputs": [],
   "source": []
  }
 ],
 "metadata": {
  "kernelspec": {
   "display_name": "Python 3",
   "language": "python",
   "name": "python3"
  },
  "language_info": {
   "codemirror_mode": {
    "name": "ipython",
    "version": 3
   },
   "file_extension": ".py",
   "mimetype": "text/x-python",
   "name": "python",
   "nbconvert_exporter": "python",
   "pygments_lexer": "ipython3",
   "version": "3.6.12"
  },
  "papermill": {
   "duration": 9.135733,
   "end_time": "2020-11-24T12:07:05.489325",
   "environment_variables": {},
   "exception": null,
   "input_path": "2020-03-21-covid19exp.ipynb",
   "output_path": "2020-03-21-covid19exp.ipynb",
   "parameters": {},
   "start_time": "2020-11-24T12:06:56.353592",
   "version": "2.0.0"
  }
 },
 "nbformat": 4,
 "nbformat_minor": 4
}