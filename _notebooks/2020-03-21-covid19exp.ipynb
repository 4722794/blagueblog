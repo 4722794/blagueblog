{
 "cells": [
  {
   "cell_type": "markdown",
   "id": "muslim-click",
   "metadata": {
    "papermill": {
     "duration": 0.033747,
     "end_time": "2022-03-30T12:14:26.779700",
     "exception": false,
     "start_time": "2022-03-30T12:14:26.745953",
     "status": "completed"
    },
    "tags": []
   },
   "source": [
    "# COVID-19 Case Race\n",
    "> A race chart to see rising cases around the world\n",
    "\n",
    "- author: Hargun Oberoi\n",
    "- image: images/covid-overview.png\n",
    "- hide: false\n",
    "- badges: false"
   ]
  },
  {
   "cell_type": "code",
   "execution_count": 1,
   "id": "proof-material",
   "metadata": {
    "execution": {
     "iopub.execute_input": "2022-03-30T12:14:26.851502Z",
     "iopub.status.busy": "2022-03-30T12:14:26.850935Z",
     "iopub.status.idle": "2022-03-30T12:14:27.187140Z",
     "shell.execute_reply": "2022-03-30T12:14:27.186649Z"
    },
    "papermill": {
     "duration": 0.376037,
     "end_time": "2022-03-30T12:14:27.187282",
     "exception": false,
     "start_time": "2022-03-30T12:14:26.811245",
     "status": "completed"
    },
    "tags": []
   },
   "outputs": [],
   "source": [
    "#hide\n",
    "import numpy as np\n",
    "import pandas as pd\n",
    "from jinja2 import Template\n",
    "from IPython.display import HTML"
   ]
  },
  {
   "cell_type": "code",
   "execution_count": 2,
   "id": "developed-terminology",
   "metadata": {
    "execution": {
     "iopub.execute_input": "2022-03-30T12:14:27.253369Z",
     "iopub.status.busy": "2022-03-30T12:14:27.252815Z",
     "iopub.status.idle": "2022-03-30T12:14:27.254656Z",
     "shell.execute_reply": "2022-03-30T12:14:27.255158Z"
    },
    "papermill": {
     "duration": 0.037466,
     "end_time": "2022-03-30T12:14:27.255312",
     "exception": false,
     "start_time": "2022-03-30T12:14:27.217846",
     "status": "completed"
    },
    "tags": []
   },
   "outputs": [],
   "source": [
    "#hide\n",
    "\n",
    "# FETCH\n",
    "base_url = 'https://raw.githubusercontent.com/pratapvardhan/notebooks/master/covid19/'\n",
    "paths = {\n",
    "    'mapping': base_url + 'mapping_countries.csv',\n",
    "    'overview': base_url + 'overview.tpl'\n",
    "}"
   ]
  },
  {
   "cell_type": "code",
   "execution_count": 3,
   "id": "dynamic-saver",
   "metadata": {
    "execution": {
     "iopub.execute_input": "2022-03-30T12:14:27.325740Z",
     "iopub.status.busy": "2022-03-30T12:14:27.325085Z",
     "iopub.status.idle": "2022-03-30T12:14:27.327367Z",
     "shell.execute_reply": "2022-03-30T12:14:27.327779Z"
    },
    "papermill": {
     "duration": 0.042963,
     "end_time": "2022-03-30T12:14:27.327915",
     "exception": false,
     "start_time": "2022-03-30T12:14:27.284952",
     "status": "completed"
    },
    "tags": []
   },
   "outputs": [
    {
     "data": {
      "text/plain": [
       "'https://raw.githubusercontent.com/pratapvardhan/notebooks/master/covid19/mapping_countries.csv'"
      ]
     },
     "execution_count": 3,
     "metadata": {},
     "output_type": "execute_result"
    }
   ],
   "source": [
    "#hide\n",
    "paths['mapping']"
   ]
  },
  {
   "cell_type": "code",
   "execution_count": 4,
   "id": "urban-software",
   "metadata": {
    "execution": {
     "iopub.execute_input": "2022-03-30T12:14:27.394805Z",
     "iopub.status.busy": "2022-03-30T12:14:27.394271Z",
     "iopub.status.idle": "2022-03-30T12:14:27.396037Z",
     "shell.execute_reply": "2022-03-30T12:14:27.396524Z"
    },
    "papermill": {
     "duration": 0.037948,
     "end_time": "2022-03-30T12:14:27.396683",
     "exception": false,
     "start_time": "2022-03-30T12:14:27.358735",
     "status": "completed"
    },
    "tags": []
   },
   "outputs": [],
   "source": [
    "#hide\n",
    "def get_mappings(url):\n",
    "    df = pd.read_csv(url)\n",
    "    return {\n",
    "        'df': df,\n",
    "        'replace.country': dict(df.dropna(subset=['Name']).set_index('Country')['Name']),\n",
    "        'map.continent': dict(df.set_index('Name')['Continent'])\n",
    "    }"
   ]
  },
  {
   "cell_type": "code",
   "execution_count": 5,
   "id": "intimate-machinery",
   "metadata": {
    "execution": {
     "iopub.execute_input": "2022-03-30T12:14:27.463256Z",
     "iopub.status.busy": "2022-03-30T12:14:27.462689Z",
     "iopub.status.idle": "2022-03-30T12:14:27.491017Z",
     "shell.execute_reply": "2022-03-30T12:14:27.491469Z"
    },
    "papermill": {
     "duration": 0.064634,
     "end_time": "2022-03-30T12:14:27.491620",
     "exception": false,
     "start_time": "2022-03-30T12:14:27.426986",
     "status": "completed"
    },
    "tags": []
   },
   "outputs": [],
   "source": [
    "#hide\n",
    "mapping = get_mappings(paths['mapping'])"
   ]
  },
  {
   "cell_type": "code",
   "execution_count": 6,
   "id": "certified-tactics",
   "metadata": {
    "execution": {
     "iopub.execute_input": "2022-03-30T12:14:27.557651Z",
     "iopub.status.busy": "2022-03-30T12:14:27.557086Z",
     "iopub.status.idle": "2022-03-30T12:14:27.559619Z",
     "shell.execute_reply": "2022-03-30T12:14:27.559190Z"
    },
    "papermill": {
     "duration": 0.037929,
     "end_time": "2022-03-30T12:14:27.559750",
     "exception": false,
     "start_time": "2022-03-30T12:14:27.521821",
     "status": "completed"
    },
    "tags": []
   },
   "outputs": [],
   "source": [
    "#hide\n",
    "def get_template(path):\n",
    "    from urllib.parse import urlparse\n",
    "    if bool(urlparse(path).netloc):\n",
    "        from urllib.request import urlopen\n",
    "        return urlopen(path).read().decode('utf8')\n",
    "    return open(path).read()"
   ]
  },
  {
   "cell_type": "code",
   "execution_count": 7,
   "id": "realistic-blast",
   "metadata": {
    "execution": {
     "iopub.execute_input": "2022-03-30T12:14:27.626237Z",
     "iopub.status.busy": "2022-03-30T12:14:27.625675Z",
     "iopub.status.idle": "2022-03-30T12:14:27.629099Z",
     "shell.execute_reply": "2022-03-30T12:14:27.629518Z"
    },
    "papermill": {
     "duration": 0.039623,
     "end_time": "2022-03-30T12:14:27.629660",
     "exception": false,
     "start_time": "2022-03-30T12:14:27.590037",
     "status": "completed"
    },
    "tags": []
   },
   "outputs": [],
   "source": [
    "#hide\n",
    "def get_frame(name):\n",
    "    url = (\n",
    "        'https://raw.githubusercontent.com/CSSEGISandData/COVID-19/master/csse_covid_19_data/'\n",
    "        f'csse_covid_19_time_series/time_series_covid19_{name}_global.csv')\n",
    "    df = pd.read_csv(url)\n",
    "    # rename countries\n",
    "    df['Country/Region'] = df['Country/Region'].replace(mapping['replace.country'])\n",
    "    return df"
   ]
  },
  {
   "cell_type": "code",
   "execution_count": 8,
   "id": "affiliated-characterization",
   "metadata": {
    "execution": {
     "iopub.execute_input": "2022-03-30T12:14:27.696411Z",
     "iopub.status.busy": "2022-03-30T12:14:27.695837Z",
     "iopub.status.idle": "2022-03-30T12:14:27.697915Z",
     "shell.execute_reply": "2022-03-30T12:14:27.697392Z"
    },
    "papermill": {
     "duration": 0.038225,
     "end_time": "2022-03-30T12:14:27.698030",
     "exception": false,
     "start_time": "2022-03-30T12:14:27.659805",
     "status": "completed"
    },
    "tags": []
   },
   "outputs": [],
   "source": [
    "#hide\n",
    "def get_dates(df):\n",
    "    dt_cols = df.columns[~df.columns.isin(['Province/State', 'Country/Region', 'Lat', 'Long'])]\n",
    "    LAST_DATE_I = -1\n",
    "    # sometimes last column may be empty, then go backwards\n",
    "    for i in range(-1, -len(dt_cols), -1):\n",
    "        if not df[dt_cols[i]].fillna(0).eq(0).all():\n",
    "            LAST_DATE_I = i\n",
    "            break\n",
    "    return LAST_DATE_I, dt_cols"
   ]
  },
  {
   "cell_type": "code",
   "execution_count": 9,
   "id": "recent-optimization",
   "metadata": {
    "execution": {
     "iopub.execute_input": "2022-03-30T12:14:27.764290Z",
     "iopub.status.busy": "2022-03-30T12:14:27.763709Z",
     "iopub.status.idle": "2022-03-30T12:14:28.154113Z",
     "shell.execute_reply": "2022-03-30T12:14:28.153579Z"
    },
    "papermill": {
     "duration": 0.425797,
     "end_time": "2022-03-30T12:14:28.154260",
     "exception": false,
     "start_time": "2022-03-30T12:14:27.728463",
     "status": "completed"
    },
    "tags": []
   },
   "outputs": [],
   "source": [
    "#hide\n",
    "COL_REGION = 'Country/Region'\n",
    "# Confirmed, Recovered, Deaths\n",
    "df = get_frame('confirmed')\n",
    "# dft_: timeseries, dfc_: today country agg\n",
    "dft_cases = df\n",
    "dft_deaths = get_frame('deaths')\n",
    "dft_recovered = get_frame('recovered')\n",
    "LAST_DATE_I, dt_cols = get_dates(df)"
   ]
  },
  {
   "cell_type": "code",
   "execution_count": 10,
   "id": "absolute-copper",
   "metadata": {
    "execution": {
     "iopub.execute_input": "2022-03-30T12:14:28.222362Z",
     "iopub.status.busy": "2022-03-30T12:14:28.221737Z",
     "iopub.status.idle": "2022-03-30T12:14:28.223171Z",
     "shell.execute_reply": "2022-03-30T12:14:28.223670Z"
    },
    "papermill": {
     "duration": 0.037991,
     "end_time": "2022-03-30T12:14:28.223812",
     "exception": false,
     "start_time": "2022-03-30T12:14:28.185821",
     "status": "completed"
    },
    "tags": []
   },
   "outputs": [],
   "source": [
    "#hide\n",
    "LAST_DATE_I, dt_cols = get_dates(df)\n",
    "dt_today =dt_cols[LAST_DATE_I]\n",
    "# dt_5day = dt_cols[LAST_DATE_I - 5]\n",
    "dt_yday = dt_cols[LAST_DATE_I - 1]"
   ]
  },
  {
   "cell_type": "code",
   "execution_count": 11,
   "id": "restricted-sheriff",
   "metadata": {
    "execution": {
     "iopub.execute_input": "2022-03-30T12:14:28.291718Z",
     "iopub.status.busy": "2022-03-30T12:14:28.291156Z",
     "iopub.status.idle": "2022-03-30T12:14:28.297421Z",
     "shell.execute_reply": "2022-03-30T12:14:28.297834Z"
    },
    "papermill": {
     "duration": 0.044104,
     "end_time": "2022-03-30T12:14:28.297973",
     "exception": false,
     "start_time": "2022-03-30T12:14:28.253869",
     "status": "completed"
    },
    "tags": []
   },
   "outputs": [],
   "source": [
    "#hide\n",
    "dfc_cases = dft_cases.groupby(COL_REGION)[dt_today].sum()\n",
    "dfc_deaths = dft_deaths.groupby(COL_REGION)[dt_today].sum()\n",
    "# dfp_cases = dft_cases.groupby(COL_REGION)[dt_5day].sum()\n",
    "# dfp_deaths = dft_deaths.groupby(COL_REGION)[dt_5day].sum()\n",
    "dfp_cases = dft_cases.groupby(COL_REGION)[dt_yday].sum()\n",
    "dfp_deaths = dft_deaths.groupby(COL_REGION)[dt_yday].sum()"
   ]
  },
  {
   "cell_type": "code",
   "execution_count": 12,
   "id": "deluxe-hepatitis",
   "metadata": {
    "execution": {
     "iopub.execute_input": "2022-03-30T12:14:28.366870Z",
     "iopub.status.busy": "2022-03-30T12:14:28.366353Z",
     "iopub.status.idle": "2022-03-30T12:14:28.370977Z",
     "shell.execute_reply": "2022-03-30T12:14:28.370558Z"
    },
    "papermill": {
     "duration": 0.042931,
     "end_time": "2022-03-30T12:14:28.371095",
     "exception": false,
     "start_time": "2022-03-30T12:14:28.328164",
     "status": "completed"
    },
    "tags": []
   },
   "outputs": [],
   "source": [
    "#hide\n",
    "df_table = (pd.DataFrame(dict(Cases = dfc_cases, Deaths = dfc_deaths, PCases = dfp_cases, PDeaths = dfp_deaths))\n",
    "            .sort_values(by = ['Cases','Deaths'], ascending = [False, False])\n",
    "            .reset_index())"
   ]
  },
  {
   "cell_type": "code",
   "execution_count": 13,
   "id": "educational-chancellor",
   "metadata": {
    "execution": {
     "iopub.execute_input": "2022-03-30T12:14:28.450039Z",
     "iopub.status.busy": "2022-03-30T12:14:28.449453Z",
     "iopub.status.idle": "2022-03-30T12:14:28.457165Z",
     "shell.execute_reply": "2022-03-30T12:14:28.456703Z"
    },
    "papermill": {
     "duration": 0.056001,
     "end_time": "2022-03-30T12:14:28.457287",
     "exception": false,
     "start_time": "2022-03-30T12:14:28.401286",
     "status": "completed"
    },
    "tags": []
   },
   "outputs": [
    {
     "data": {
      "text/html": [
       "<div>\n",
       "<style scoped>\n",
       "    .dataframe tbody tr th:only-of-type {\n",
       "        vertical-align: middle;\n",
       "    }\n",
       "\n",
       "    .dataframe tbody tr th {\n",
       "        vertical-align: top;\n",
       "    }\n",
       "\n",
       "    .dataframe thead th {\n",
       "        text-align: right;\n",
       "    }\n",
       "</style>\n",
       "<table border=\"1\" class=\"dataframe\">\n",
       "  <thead>\n",
       "    <tr style=\"text-align: right;\">\n",
       "      <th></th>\n",
       "      <th>Country/Region</th>\n",
       "      <th>Cases</th>\n",
       "      <th>Deaths</th>\n",
       "      <th>PCases</th>\n",
       "      <th>PDeaths</th>\n",
       "      <th>Cases (+)</th>\n",
       "      <th>Deaths (+)</th>\n",
       "      <th>Fatality Rate</th>\n",
       "      <th>Continent</th>\n",
       "    </tr>\n",
       "  </thead>\n",
       "  <tbody>\n",
       "    <tr>\n",
       "      <th>0</th>\n",
       "      <td>US</td>\n",
       "      <td>80019128</td>\n",
       "      <td>978648</td>\n",
       "      <td>79995485</td>\n",
       "      <td>977687</td>\n",
       "      <td>23643</td>\n",
       "      <td>961</td>\n",
       "      <td>1.22</td>\n",
       "      <td>North America</td>\n",
       "    </tr>\n",
       "    <tr>\n",
       "      <th>1</th>\n",
       "      <td>India</td>\n",
       "      <td>43023215</td>\n",
       "      <td>521101</td>\n",
       "      <td>43021982</td>\n",
       "      <td>521070</td>\n",
       "      <td>1233</td>\n",
       "      <td>31</td>\n",
       "      <td>1.21</td>\n",
       "      <td>Asia</td>\n",
       "    </tr>\n",
       "    <tr>\n",
       "      <th>2</th>\n",
       "      <td>Brazil</td>\n",
       "      <td>29887191</td>\n",
       "      <td>659508</td>\n",
       "      <td>29857641</td>\n",
       "      <td>659227</td>\n",
       "      <td>29550</td>\n",
       "      <td>281</td>\n",
       "      <td>2.21</td>\n",
       "      <td>South America</td>\n",
       "    </tr>\n",
       "    <tr>\n",
       "      <th>3</th>\n",
       "      <td>France</td>\n",
       "      <td>25464389</td>\n",
       "      <td>143019</td>\n",
       "      <td>25246720</td>\n",
       "      <td>142855</td>\n",
       "      <td>217669</td>\n",
       "      <td>164</td>\n",
       "      <td>0.56</td>\n",
       "      <td>Europe</td>\n",
       "    </tr>\n",
       "    <tr>\n",
       "      <th>4</th>\n",
       "      <td>United Kingdom</td>\n",
       "      <td>21145773</td>\n",
       "      <td>165569</td>\n",
       "      <td>21064311</td>\n",
       "      <td>165264</td>\n",
       "      <td>81462</td>\n",
       "      <td>305</td>\n",
       "      <td>0.78</td>\n",
       "      <td>Europe</td>\n",
       "    </tr>\n",
       "  </tbody>\n",
       "</table>\n",
       "</div>"
      ],
      "text/plain": [
       "   Country/Region     Cases  Deaths    PCases  PDeaths  Cases (+)  Deaths (+)  \\\n",
       "0              US  80019128  978648  79995485   977687      23643         961   \n",
       "1           India  43023215  521101  43021982   521070       1233          31   \n",
       "2          Brazil  29887191  659508  29857641   659227      29550         281   \n",
       "3          France  25464389  143019  25246720   142855     217669         164   \n",
       "4  United Kingdom  21145773  165569  21064311   165264      81462         305   \n",
       "\n",
       "   Fatality Rate      Continent  \n",
       "0           1.22  North America  \n",
       "1           1.21           Asia  \n",
       "2           2.21  South America  \n",
       "3           0.56         Europe  \n",
       "4           0.78         Europe  "
      ]
     },
     "execution_count": 13,
     "metadata": {},
     "output_type": "execute_result"
    }
   ],
   "source": [
    "#hide\n",
    "for c in 'Cases, Deaths'.split(', '):\n",
    "    df_table[f'{c} (+)'] = (df_table[c] - df_table[f'P{c}']).clip(0)\n",
    "    #Clip ça veut dire, les chiffres negatif sont interdit\n",
    "df_table['Fatality Rate'] = (100* df_table['Deaths']/ df_table['Cases']).round(2)\n",
    "df_table['Continent'] = df_table['Country/Region'].map(mapping['map.continent'])\n",
    "df_table.head(5)"
   ]
  },
  {
   "cell_type": "code",
   "execution_count": 14,
   "id": "aboriginal-bulgaria",
   "metadata": {
    "execution": {
     "iopub.execute_input": "2022-03-30T12:14:28.526166Z",
     "iopub.status.busy": "2022-03-30T12:14:28.525525Z",
     "iopub.status.idle": "2022-03-30T12:14:28.529122Z",
     "shell.execute_reply": "2022-03-30T12:14:28.529523Z"
    },
    "papermill": {
     "duration": 0.041016,
     "end_time": "2022-03-30T12:14:28.529667",
     "exception": false,
     "start_time": "2022-03-30T12:14:28.488651",
     "status": "completed"
    },
    "tags": []
   },
   "outputs": [],
   "source": [
    "#hide\n",
    "#delete problematic countries from table\n",
    "df_table = df_table[~df_table['Country/Region'].isin(['Cape Verde', 'Cruise Ship', 'Kosovo'])]"
   ]
  },
  {
   "cell_type": "code",
   "execution_count": 15,
   "id": "fantastic-effect",
   "metadata": {
    "execution": {
     "iopub.execute_input": "2022-03-30T12:14:28.599341Z",
     "iopub.status.busy": "2022-03-30T12:14:28.598805Z",
     "iopub.status.idle": "2022-03-30T12:14:28.616189Z",
     "shell.execute_reply": "2022-03-30T12:14:28.615762Z"
    },
    "papermill": {
     "duration": 0.056141,
     "end_time": "2022-03-30T12:14:28.616313",
     "exception": false,
     "start_time": "2022-03-30T12:14:28.560172",
     "status": "completed"
    },
    "tags": []
   },
   "outputs": [
    {
     "data": {
      "text/html": [
       "<div>\n",
       "<style scoped>\n",
       "    .dataframe tbody tr th:only-of-type {\n",
       "        vertical-align: middle;\n",
       "    }\n",
       "\n",
       "    .dataframe tbody tr th {\n",
       "        vertical-align: top;\n",
       "    }\n",
       "\n",
       "    .dataframe thead th {\n",
       "        text-align: right;\n",
       "    }\n",
       "</style>\n",
       "<table border=\"1\" class=\"dataframe\">\n",
       "  <thead>\n",
       "    <tr style=\"text-align: right;\">\n",
       "      <th></th>\n",
       "      <th>Country/Region</th>\n",
       "      <th>Cases</th>\n",
       "      <th>Deaths</th>\n",
       "      <th>PCases</th>\n",
       "      <th>PDeaths</th>\n",
       "      <th>Cases (+)</th>\n",
       "      <th>Deaths (+)</th>\n",
       "      <th>Fatality Rate</th>\n",
       "      <th>Continent</th>\n",
       "    </tr>\n",
       "  </thead>\n",
       "  <tbody>\n",
       "    <tr>\n",
       "      <th>0</th>\n",
       "      <td>US</td>\n",
       "      <td>80019128</td>\n",
       "      <td>978648</td>\n",
       "      <td>79995485</td>\n",
       "      <td>977687</td>\n",
       "      <td>23643</td>\n",
       "      <td>961</td>\n",
       "      <td>1.2</td>\n",
       "      <td>North America</td>\n",
       "    </tr>\n",
       "    <tr>\n",
       "      <th>1</th>\n",
       "      <td>India</td>\n",
       "      <td>43023215</td>\n",
       "      <td>521101</td>\n",
       "      <td>43021982</td>\n",
       "      <td>521070</td>\n",
       "      <td>1233</td>\n",
       "      <td>31</td>\n",
       "      <td>1.2</td>\n",
       "      <td>Asia</td>\n",
       "    </tr>\n",
       "    <tr>\n",
       "      <th>2</th>\n",
       "      <td>Brazil</td>\n",
       "      <td>29887191</td>\n",
       "      <td>659508</td>\n",
       "      <td>29857641</td>\n",
       "      <td>659227</td>\n",
       "      <td>29550</td>\n",
       "      <td>281</td>\n",
       "      <td>2.2</td>\n",
       "      <td>South America</td>\n",
       "    </tr>\n",
       "    <tr>\n",
       "      <th>3</th>\n",
       "      <td>France</td>\n",
       "      <td>25464389</td>\n",
       "      <td>143019</td>\n",
       "      <td>25246720</td>\n",
       "      <td>142855</td>\n",
       "      <td>217669</td>\n",
       "      <td>164</td>\n",
       "      <td>0.6</td>\n",
       "      <td>Europe</td>\n",
       "    </tr>\n",
       "    <tr>\n",
       "      <th>4</th>\n",
       "      <td>United Kingdom</td>\n",
       "      <td>21145773</td>\n",
       "      <td>165569</td>\n",
       "      <td>21064311</td>\n",
       "      <td>165264</td>\n",
       "      <td>81462</td>\n",
       "      <td>305</td>\n",
       "      <td>0.8</td>\n",
       "      <td>Europe</td>\n",
       "    </tr>\n",
       "  </tbody>\n",
       "</table>\n",
       "</div>"
      ],
      "text/plain": [
       "   Country/Region     Cases  Deaths    PCases  PDeaths  Cases (+)  Deaths (+)  \\\n",
       "0              US  80019128  978648  79995485   977687      23643         961   \n",
       "1           India  43023215  521101  43021982   521070       1233          31   \n",
       "2          Brazil  29887191  659508  29857641   659227      29550         281   \n",
       "3          France  25464389  143019  25246720   142855     217669         164   \n",
       "4  United Kingdom  21145773  165569  21064311   165264      81462         305   \n",
       "\n",
       "   Fatality Rate      Continent  \n",
       "0            1.2  North America  \n",
       "1            1.2           Asia  \n",
       "2            2.2  South America  \n",
       "3            0.6         Europe  \n",
       "4            0.8         Europe  "
      ]
     },
     "execution_count": 15,
     "metadata": {},
     "output_type": "execute_result"
    }
   ],
   "source": [
    "#hide\n",
    "df_table = (pd.DataFrame(dict(Cases=dfc_cases, Deaths=dfc_deaths, PCases=dfp_cases, PDeaths=dfp_deaths))\n",
    "             .sort_values(by=['Cases', 'Deaths'], ascending=[False, False])\n",
    "             .reset_index())\n",
    "df_table.rename(columns={'index': 'Country/Region'}, inplace=True)\n",
    "for c in 'Cases, Deaths'.split(', '):\n",
    "    df_table[f'{c} (+)'] = (df_table[c] - df_table[f'P{c}']).clip(0)  # DATA BUG\n",
    "df_table['Fatality Rate'] = (100 * df_table['Deaths'] / df_table['Cases']).round(1)\n",
    "df_table['Continent'] = df_table['Country/Region'].map(mapping['map.continent'])\n",
    "df_table.head(5)"
   ]
  },
  {
   "cell_type": "code",
   "execution_count": 16,
   "id": "fewer-occasion",
   "metadata": {
    "execution": {
     "iopub.execute_input": "2022-03-30T12:14:28.684247Z",
     "iopub.status.busy": "2022-03-30T12:14:28.683703Z",
     "iopub.status.idle": "2022-03-30T12:14:28.686398Z",
     "shell.execute_reply": "2022-03-30T12:14:28.686825Z"
    },
    "papermill": {
     "duration": 0.039253,
     "end_time": "2022-03-30T12:14:28.686961",
     "exception": false,
     "start_time": "2022-03-30T12:14:28.647708",
     "status": "completed"
    },
    "tags": []
   },
   "outputs": [],
   "source": [
    "#hide\n",
    "#delete problematic countries from table\n",
    "df_table = df_table[~df_table['Country/Region'].isin(['Cape Verde', 'Cruise Ship', 'Kosovo'])]"
   ]
  },
  {
   "cell_type": "code",
   "execution_count": 17,
   "id": "related-center",
   "metadata": {
    "execution": {
     "iopub.execute_input": "2022-03-30T12:14:28.760172Z",
     "iopub.status.busy": "2022-03-30T12:14:28.759638Z",
     "iopub.status.idle": "2022-03-30T12:14:28.769088Z",
     "shell.execute_reply": "2022-03-30T12:14:28.768621Z"
    },
    "papermill": {
     "duration": 0.051194,
     "end_time": "2022-03-30T12:14:28.769205",
     "exception": false,
     "start_time": "2022-03-30T12:14:28.718011",
     "status": "completed"
    },
    "tags": []
   },
   "outputs": [],
   "source": [
    "#hide\n",
    "metrics = [df_table.columns[index] for index in [1,2,5,6]]\n",
    "# s_china = df_table[df_table['Country/Region'].eq('China')][metrics].sum().add_prefix('China ')\n",
    "s_us = df_table[df_table['Country/Region'].eq('US')][metrics].sum().add_prefix('US ')\n",
    "s_eu = df_table[df_table['Continent'].eq('Europe')][metrics].sum().add_prefix('EU ')\n",
    "s_ind = df_table[df_table['Country/Region'].eq('India')][metrics].sum().add_prefix('India ')\n",
    "summary = {'updated': pd.to_datetime(dt_today), 'since': pd.to_datetime(dt_yday)}\n",
    "summary = {'updated': pd.to_datetime(dt_today), 'since': pd.to_datetime(dt_yday)}\n",
    "summary = {**summary, **df_table[metrics].sum(), **s_ind, **s_us, **s_eu}"
   ]
  },
  {
   "cell_type": "code",
   "execution_count": 18,
   "id": "engaging-syndrome",
   "metadata": {
    "execution": {
     "iopub.execute_input": "2022-03-30T12:14:28.836630Z",
     "iopub.status.busy": "2022-03-30T12:14:28.836103Z",
     "iopub.status.idle": "2022-03-30T12:14:28.853556Z",
     "shell.execute_reply": "2022-03-30T12:14:28.853111Z"
    },
    "papermill": {
     "duration": 0.053462,
     "end_time": "2022-03-30T12:14:28.853684",
     "exception": false,
     "start_time": "2022-03-30T12:14:28.800222",
     "status": "completed"
    },
    "tags": []
   },
   "outputs": [],
   "source": [
    "#hide\n",
    "dft_ct_new_cases = dft_cases.groupby(COL_REGION)[dt_cols].sum().diff(axis=1).fillna(0).astype(int)"
   ]
  },
  {
   "cell_type": "code",
   "execution_count": 19,
   "id": "neutral-assignment",
   "metadata": {
    "execution": {
     "iopub.execute_input": "2022-03-30T12:14:28.921858Z",
     "iopub.status.busy": "2022-03-30T12:14:28.921338Z",
     "iopub.status.idle": "2022-03-30T12:14:28.924095Z",
     "shell.execute_reply": "2022-03-30T12:14:28.924574Z"
    },
    "papermill": {
     "duration": 0.03989,
     "end_time": "2022-03-30T12:14:28.924734",
     "exception": false,
     "start_time": "2022-03-30T12:14:28.884844",
     "status": "completed"
    },
    "tags": []
   },
   "outputs": [],
   "source": [
    "#hide\n",
    "everydaycases = dft_ct_new_cases.cumsum(axis=1)"
   ]
  },
  {
   "cell_type": "code",
   "execution_count": 20,
   "id": "parliamentary-calgary",
   "metadata": {
    "execution": {
     "iopub.execute_input": "2022-03-30T12:14:28.991279Z",
     "iopub.status.busy": "2022-03-30T12:14:28.990742Z",
     "iopub.status.idle": "2022-03-30T12:14:29.597660Z",
     "shell.execute_reply": "2022-03-30T12:14:29.598545Z"
    },
    "papermill": {
     "duration": 0.643126,
     "end_time": "2022-03-30T12:14:29.598717",
     "exception": false,
     "start_time": "2022-03-30T12:14:28.955591",
     "status": "completed"
    },
    "tags": []
   },
   "outputs": [],
   "source": [
    "#hide\n",
    "import pandas as pd\n",
    "import matplotlib.pyplot as plt\n",
    "import matplotlib.ticker as ticker\n",
    "import matplotlib.animation as animation\n",
    "from IPython.display import HTML"
   ]
  },
  {
   "cell_type": "code",
   "execution_count": 21,
   "id": "lasting-extraction",
   "metadata": {
    "execution": {
     "iopub.execute_input": "2022-03-30T12:14:29.668847Z",
     "iopub.status.busy": "2022-03-30T12:14:29.668279Z",
     "iopub.status.idle": "2022-03-30T12:14:29.674390Z",
     "shell.execute_reply": "2022-03-30T12:14:29.674834Z"
    },
    "papermill": {
     "duration": 0.044253,
     "end_time": "2022-03-30T12:14:29.674976",
     "exception": false,
     "start_time": "2022-03-30T12:14:29.630723",
     "status": "completed"
    },
    "tags": []
   },
   "outputs": [],
   "source": [
    "#hide\n",
    "t = everydaycases.stack()"
   ]
  },
  {
   "cell_type": "code",
   "execution_count": 22,
   "id": "premier-sleeve",
   "metadata": {
    "execution": {
     "iopub.execute_input": "2022-03-30T12:14:29.742348Z",
     "iopub.status.busy": "2022-03-30T12:14:29.741796Z",
     "iopub.status.idle": "2022-03-30T12:14:29.753706Z",
     "shell.execute_reply": "2022-03-30T12:14:29.754167Z"
    },
    "papermill": {
     "duration": 0.047906,
     "end_time": "2022-03-30T12:14:29.754312",
     "exception": false,
     "start_time": "2022-03-30T12:14:29.706406",
     "status": "completed"
    },
    "tags": []
   },
   "outputs": [],
   "source": [
    "#hide\n",
    "g = t.reset_index(['Country/Region'])"
   ]
  },
  {
   "cell_type": "code",
   "execution_count": 23,
   "id": "distributed-pittsburgh",
   "metadata": {
    "execution": {
     "iopub.execute_input": "2022-03-30T12:14:29.821176Z",
     "iopub.status.busy": "2022-03-30T12:14:29.820501Z",
     "iopub.status.idle": "2022-03-30T12:14:29.821875Z",
     "shell.execute_reply": "2022-03-30T12:14:29.822360Z"
    },
    "papermill": {
     "duration": 0.037003,
     "end_time": "2022-03-30T12:14:29.822493",
     "exception": false,
     "start_time": "2022-03-30T12:14:29.785490",
     "status": "completed"
    },
    "tags": []
   },
   "outputs": [],
   "source": [
    "#hide\n",
    "g.index.name = 'date'"
   ]
  },
  {
   "cell_type": "code",
   "execution_count": 24,
   "id": "naked-donor",
   "metadata": {
    "execution": {
     "iopub.execute_input": "2022-03-30T12:14:29.888925Z",
     "iopub.status.busy": "2022-03-30T12:14:29.888256Z",
     "iopub.status.idle": "2022-03-30T12:14:29.891806Z",
     "shell.execute_reply": "2022-03-30T12:14:29.891264Z"
    },
    "papermill": {
     "duration": 0.038284,
     "end_time": "2022-03-30T12:14:29.891933",
     "exception": false,
     "start_time": "2022-03-30T12:14:29.853649",
     "status": "completed"
    },
    "tags": []
   },
   "outputs": [],
   "source": [
    "# #hide\n",
    "# g = g.reset_index(['date'])"
   ]
  },
  {
   "cell_type": "code",
   "execution_count": 25,
   "id": "incomplete-mustang",
   "metadata": {
    "execution": {
     "iopub.execute_input": "2022-03-30T12:14:29.958468Z",
     "iopub.status.busy": "2022-03-30T12:14:29.957851Z",
     "iopub.status.idle": "2022-03-30T12:14:29.961724Z",
     "shell.execute_reply": "2022-03-30T12:14:29.961302Z"
    },
    "papermill": {
     "duration": 0.03869,
     "end_time": "2022-03-30T12:14:29.961843",
     "exception": false,
     "start_time": "2022-03-30T12:14:29.923153",
     "status": "completed"
    },
    "tags": []
   },
   "outputs": [],
   "source": [
    "#hide\n",
    "# g.head()"
   ]
  },
  {
   "cell_type": "code",
   "execution_count": 26,
   "id": "specific-kruger",
   "metadata": {
    "execution": {
     "iopub.execute_input": "2022-03-30T12:14:30.028240Z",
     "iopub.status.busy": "2022-03-30T12:14:30.027587Z",
     "iopub.status.idle": "2022-03-30T12:14:30.031162Z",
     "shell.execute_reply": "2022-03-30T12:14:30.031613Z"
    },
    "papermill": {
     "duration": 0.038807,
     "end_time": "2022-03-30T12:14:30.031767",
     "exception": false,
     "start_time": "2022-03-30T12:14:29.992960",
     "status": "completed"
    },
    "tags": []
   },
   "outputs": [],
   "source": [
    "#hide\n",
    "# g.columns = ['date','country','cases']"
   ]
  },
  {
   "cell_type": "code",
   "execution_count": 27,
   "id": "tender-conversion",
   "metadata": {
    "execution": {
     "iopub.execute_input": "2022-03-30T12:14:30.098508Z",
     "iopub.status.busy": "2022-03-30T12:14:30.097936Z",
     "iopub.status.idle": "2022-03-30T12:14:30.100182Z",
     "shell.execute_reply": "2022-03-30T12:14:30.099681Z"
    },
    "papermill": {
     "duration": 0.037145,
     "end_time": "2022-03-30T12:14:30.100309",
     "exception": false,
     "start_time": "2022-03-30T12:14:30.063164",
     "status": "completed"
    },
    "tags": []
   },
   "outputs": [],
   "source": [
    "#hide\n",
    "# g['continent'] = g.country"
   ]
  },
  {
   "cell_type": "code",
   "execution_count": 28,
   "id": "substantial-wilderness",
   "metadata": {
    "execution": {
     "iopub.execute_input": "2022-03-30T12:14:30.166522Z",
     "iopub.status.busy": "2022-03-30T12:14:30.165898Z",
     "iopub.status.idle": "2022-03-30T12:14:30.169730Z",
     "shell.execute_reply": "2022-03-30T12:14:30.169306Z"
    },
    "papermill": {
     "duration": 0.038528,
     "end_time": "2022-03-30T12:14:30.169848",
     "exception": false,
     "start_time": "2022-03-30T12:14:30.131320",
     "status": "completed"
    },
    "tags": []
   },
   "outputs": [],
   "source": [
    "#hide\n",
    "# cols = list(g.columns.values)"
   ]
  },
  {
   "cell_type": "code",
   "execution_count": 29,
   "id": "solved-farming",
   "metadata": {
    "execution": {
     "iopub.execute_input": "2022-03-30T12:14:30.235904Z",
     "iopub.status.busy": "2022-03-30T12:14:30.235260Z",
     "iopub.status.idle": "2022-03-30T12:14:30.239148Z",
     "shell.execute_reply": "2022-03-30T12:14:30.238730Z"
    },
    "papermill": {
     "duration": 0.038529,
     "end_time": "2022-03-30T12:14:30.239265",
     "exception": false,
     "start_time": "2022-03-30T12:14:30.200736",
     "status": "completed"
    },
    "tags": []
   },
   "outputs": [],
   "source": [
    "#hide\n",
    "# cols.insert(0, cols.pop())"
   ]
  },
  {
   "cell_type": "code",
   "execution_count": 30,
   "id": "executed-adoption",
   "metadata": {
    "execution": {
     "iopub.execute_input": "2022-03-30T12:14:30.305305Z",
     "iopub.status.busy": "2022-03-30T12:14:30.304590Z",
     "iopub.status.idle": "2022-03-30T12:14:30.306530Z",
     "shell.execute_reply": "2022-03-30T12:14:30.305948Z"
    },
    "papermill": {
     "duration": 0.036559,
     "end_time": "2022-03-30T12:14:30.306660",
     "exception": false,
     "start_time": "2022-03-30T12:14:30.270101",
     "status": "completed"
    },
    "tags": []
   },
   "outputs": [],
   "source": [
    "#hide\n",
    "# g = g[cols]"
   ]
  },
  {
   "cell_type": "code",
   "execution_count": 31,
   "id": "subject-dublin",
   "metadata": {
    "execution": {
     "iopub.execute_input": "2022-03-30T12:14:30.372886Z",
     "iopub.status.busy": "2022-03-30T12:14:30.372239Z",
     "iopub.status.idle": "2022-03-30T12:14:30.373681Z",
     "shell.execute_reply": "2022-03-30T12:14:30.374223Z"
    },
    "papermill": {
     "duration": 0.036457,
     "end_time": "2022-03-30T12:14:30.374369",
     "exception": false,
     "start_time": "2022-03-30T12:14:30.337912",
     "status": "completed"
    },
    "tags": []
   },
   "outputs": [],
   "source": [
    "#hide\n",
    "# g['continent'] = g['continent'].map(mapping['map.continent'])"
   ]
  },
  {
   "cell_type": "code",
   "execution_count": 32,
   "id": "freelance-scout",
   "metadata": {
    "execution": {
     "iopub.execute_input": "2022-03-30T12:14:30.440804Z",
     "iopub.status.busy": "2022-03-30T12:14:30.440150Z",
     "iopub.status.idle": "2022-03-30T12:14:30.441512Z",
     "shell.execute_reply": "2022-03-30T12:14:30.441998Z"
    },
    "papermill": {
     "duration": 0.036217,
     "end_time": "2022-03-30T12:14:30.442129",
     "exception": false,
     "start_time": "2022-03-30T12:14:30.405912",
     "status": "completed"
    },
    "tags": []
   },
   "outputs": [],
   "source": [
    "#hide\n",
    "# g.head()"
   ]
  },
  {
   "cell_type": "code",
   "execution_count": 33,
   "id": "limited-engine",
   "metadata": {
    "execution": {
     "iopub.execute_input": "2022-03-30T12:14:30.508089Z",
     "iopub.status.busy": "2022-03-30T12:14:30.507449Z",
     "iopub.status.idle": "2022-03-30T12:14:30.510929Z",
     "shell.execute_reply": "2022-03-30T12:14:30.511384Z"
    },
    "papermill": {
     "duration": 0.038738,
     "end_time": "2022-03-30T12:14:30.511542",
     "exception": false,
     "start_time": "2022-03-30T12:14:30.472804",
     "status": "completed"
    },
    "tags": []
   },
   "outputs": [],
   "source": [
    "# hide\n",
    "# g['date'] = g['date'].astype('datetime64[ns]')"
   ]
  },
  {
   "cell_type": "code",
   "execution_count": 34,
   "id": "sophisticated-supervisor",
   "metadata": {
    "execution": {
     "iopub.execute_input": "2022-03-30T12:14:30.577486Z",
     "iopub.status.busy": "2022-03-30T12:14:30.576857Z",
     "iopub.status.idle": "2022-03-30T12:14:30.579687Z",
     "shell.execute_reply": "2022-03-30T12:14:30.579203Z"
    },
    "papermill": {
     "duration": 0.037209,
     "end_time": "2022-03-30T12:14:30.579816",
     "exception": false,
     "start_time": "2022-03-30T12:14:30.542607",
     "status": "completed"
    },
    "tags": []
   },
   "outputs": [],
   "source": [
    "#hide\n",
    "# g['date'] = g.date.dt.dayofyear"
   ]
  },
  {
   "cell_type": "code",
   "execution_count": 35,
   "id": "inside-dubai",
   "metadata": {
    "execution": {
     "iopub.execute_input": "2022-03-30T12:14:30.646139Z",
     "iopub.status.busy": "2022-03-30T12:14:30.645580Z",
     "iopub.status.idle": "2022-03-30T12:14:30.647718Z",
     "shell.execute_reply": "2022-03-30T12:14:30.647294Z"
    },
    "papermill": {
     "duration": 0.036761,
     "end_time": "2022-03-30T12:14:30.647834",
     "exception": false,
     "start_time": "2022-03-30T12:14:30.611073",
     "status": "completed"
    },
    "tags": []
   },
   "outputs": [],
   "source": [
    "#hide\n",
    "# g = g.rename(columns= {'continent':'group','country':'name','cases':'value'})"
   ]
  },
  {
   "cell_type": "code",
   "execution_count": 36,
   "id": "fleet-motorcycle",
   "metadata": {
    "execution": {
     "iopub.execute_input": "2022-03-30T12:14:30.713634Z",
     "iopub.status.busy": "2022-03-30T12:14:30.713101Z",
     "iopub.status.idle": "2022-03-30T12:14:30.714982Z",
     "shell.execute_reply": "2022-03-30T12:14:30.715419Z"
    },
    "papermill": {
     "duration": 0.036551,
     "end_time": "2022-03-30T12:14:30.715551",
     "exception": false,
     "start_time": "2022-03-30T12:14:30.679000",
     "status": "completed"
    },
    "tags": []
   },
   "outputs": [],
   "source": [
    "#hide\n",
    "# cols = ['name','group','day','value']"
   ]
  },
  {
   "cell_type": "code",
   "execution_count": 37,
   "id": "continued-sleeping",
   "metadata": {
    "execution": {
     "iopub.execute_input": "2022-03-30T12:14:30.781091Z",
     "iopub.status.busy": "2022-03-30T12:14:30.780486Z",
     "iopub.status.idle": "2022-03-30T12:14:30.782180Z",
     "shell.execute_reply": "2022-03-30T12:14:30.782566Z"
    },
    "papermill": {
     "duration": 0.036465,
     "end_time": "2022-03-30T12:14:30.782699",
     "exception": false,
     "start_time": "2022-03-30T12:14:30.746234",
     "status": "completed"
    },
    "tags": []
   },
   "outputs": [],
   "source": [
    "#hide\n",
    "# g.rename(columns= {'date':'day'},inplace = True)"
   ]
  },
  {
   "cell_type": "code",
   "execution_count": 38,
   "id": "major-fight",
   "metadata": {
    "execution": {
     "iopub.execute_input": "2022-03-30T12:14:30.848746Z",
     "iopub.status.busy": "2022-03-30T12:14:30.848157Z",
     "iopub.status.idle": "2022-03-30T12:14:30.851559Z",
     "shell.execute_reply": "2022-03-30T12:14:30.851128Z"
    },
    "papermill": {
     "duration": 0.037795,
     "end_time": "2022-03-30T12:14:30.851676",
     "exception": false,
     "start_time": "2022-03-30T12:14:30.813881",
     "status": "completed"
    },
    "tags": []
   },
   "outputs": [],
   "source": [
    "#hide\n",
    "# g = g[cols]"
   ]
  },
  {
   "cell_type": "code",
   "execution_count": 39,
   "id": "structured-mobile",
   "metadata": {
    "execution": {
     "iopub.execute_input": "2022-03-30T12:14:30.916925Z",
     "iopub.status.busy": "2022-03-30T12:14:30.916268Z",
     "iopub.status.idle": "2022-03-30T12:14:30.919620Z",
     "shell.execute_reply": "2022-03-30T12:14:30.919118Z"
    },
    "papermill": {
     "duration": 0.037505,
     "end_time": "2022-03-30T12:14:30.919743",
     "exception": false,
     "start_time": "2022-03-30T12:14:30.882238",
     "status": "completed"
    },
    "tags": []
   },
   "outputs": [],
   "source": [
    "# #hide\n",
    "# g = g[g.group.notna()]"
   ]
  },
  {
   "cell_type": "code",
   "execution_count": 40,
   "id": "determined-closing",
   "metadata": {
    "execution": {
     "iopub.execute_input": "2022-03-30T12:14:30.985081Z",
     "iopub.status.busy": "2022-03-30T12:14:30.984418Z",
     "iopub.status.idle": "2022-03-30T12:14:30.985947Z",
     "shell.execute_reply": "2022-03-30T12:14:30.986411Z"
    },
    "papermill": {
     "duration": 0.036113,
     "end_time": "2022-03-30T12:14:30.986552",
     "exception": false,
     "start_time": "2022-03-30T12:14:30.950439",
     "status": "completed"
    },
    "tags": []
   },
   "outputs": [],
   "source": [
    "# #hide\n",
    "# colors = dict(zip(\n",
    "#     [\"Oceania\", \"Europe\", \"Asia\", \"South America\", \"Middle East\", \"North America\", \"Africa\"],\n",
    "#     [\"#adb0ff\", \"#ffb3ff\", \"#90d595\", \"#e48381\", \"#aafbff\", \"#f7bb5f\", \"#eafb50\"]\n",
    "# ))\n",
    "# group_lk = g.set_index('name')['group'].to_dict()"
   ]
  },
  {
   "cell_type": "code",
   "execution_count": null,
   "id": "gross-drinking",
   "metadata": {
    "papermill": {
     "duration": 0.030504,
     "end_time": "2022-03-30T12:14:31.048472",
     "exception": false,
     "start_time": "2022-03-30T12:14:31.017968",
     "status": "completed"
    },
    "tags": []
   },
   "outputs": [],
   "source": []
  },
  {
   "cell_type": "code",
   "execution_count": 41,
   "id": "subject-macintosh",
   "metadata": {
    "execution": {
     "iopub.execute_input": "2022-03-30T12:14:31.114733Z",
     "iopub.status.busy": "2022-03-30T12:14:31.114159Z",
     "iopub.status.idle": "2022-03-30T12:14:31.116305Z",
     "shell.execute_reply": "2022-03-30T12:14:31.115768Z"
    },
    "papermill": {
     "duration": 0.037376,
     "end_time": "2022-03-30T12:14:31.116423",
     "exception": false,
     "start_time": "2022-03-30T12:14:31.079047",
     "status": "completed"
    },
    "tags": []
   },
   "outputs": [],
   "source": [
    "# #hide\n",
    "# fig, ax = plt.subplots(figsize=(15, 8))\n",
    "\n",
    "# def draw_barchart(current_day):\n",
    "#     dff = g[g['day'].eq(current_day)].sort_values(by='value', ascending=True).tail(10)\n",
    "#     ax.clear()\n",
    "#     ax.barh(dff['name'], dff['value'], color=[colors[group_lk[x]] for x in dff['name']])\n",
    "#     dx = dff['value'].max() / 200\n",
    "    \n",
    "#     for i, (value, name) in enumerate(zip(dff['value'], dff['name'])):\n",
    "#         ax.text(value-dx, i,     name,           size=14, weight=600, ha='right', va='bottom')\n",
    "#         ax.text(value-dx, i-.25, group_lk[name], size=10, color='#444444', ha='right', va='baseline')\n",
    "#         ax.text(value+dx, i,     f'{value:,.0f}',  size=14, ha='left',  va='center')\n",
    "#     ax.text(1, 0.4, current_day, transform=ax.transAxes, color='#777777', size=46, ha='right', weight=800)\n",
    "#     ax.text(0, 1.06, 'Population (thousands)', transform=ax.transAxes, size=12, color='#777777')\n",
    "#     ax.xaxis.set_major_formatter(ticker.StrMethodFormatter('{x:,.0f}'))\n",
    "#     ax.xaxis.set_ticks_position('top')\n",
    "#     ax.tick_params(axis='x', colors='#777777', labelsize=12)\n",
    "#     ax.set_yticks([])\n",
    "#     ax.margins(0, 0.01)\n",
    "#     ax.grid(which='major', axis='x', linestyle='-')\n",
    "#     ax.set_axisbelow(True)\n",
    "    \n",
    "#     ax.text(0, 1.15, 'Coronavirus',\n",
    "#             transform=ax.transAxes, size=24, weight=600, ha='left', va='top')\n",
    "# #     ax.text(1, 0, 'by @pratapvardhan; credit @jburnmurdoch', transform=ax.transAxes, color='#777777', ha='right',\n",
    "# #             bbox=dict(facecolor='white', alpha=0.8, edgecolor='white'))\n",
    "#     plt.box(False)"
   ]
  },
  {
   "cell_type": "code",
   "execution_count": 42,
   "id": "sexual-wages",
   "metadata": {
    "execution": {
     "iopub.execute_input": "2022-03-30T12:14:31.182257Z",
     "iopub.status.busy": "2022-03-30T12:14:31.181625Z",
     "iopub.status.idle": "2022-03-30T12:14:31.183108Z",
     "shell.execute_reply": "2022-03-30T12:14:31.183570Z"
    },
    "papermill": {
     "duration": 0.036537,
     "end_time": "2022-03-30T12:14:31.183695",
     "exception": false,
     "start_time": "2022-03-30T12:14:31.147158",
     "status": "completed"
    },
    "tags": []
   },
   "outputs": [],
   "source": [
    "# #hide_input\n",
    "# fig, ax = plt.subplots(figsize=(15, 8))\n",
    "# animator = animation.FuncAnimation(fig, draw_barchart, frames=range(g.day.values.min(), g.day.values.max()))\n",
    "# HTML(animator.to_jshtml())\n",
    "# # or use animator.to_html5_video() or animator.save() "
   ]
  },
  {
   "cell_type": "code",
   "execution_count": null,
   "id": "australian-container",
   "metadata": {
    "papermill": {
     "duration": 0.03075,
     "end_time": "2022-03-30T12:14:31.245202",
     "exception": false,
     "start_time": "2022-03-30T12:14:31.214452",
     "status": "completed"
    },
    "tags": []
   },
   "outputs": [],
   "source": []
  },
  {
   "cell_type": "code",
   "execution_count": null,
   "id": "mediterranean-pontiac",
   "metadata": {
    "papermill": {
     "duration": 0.030676,
     "end_time": "2022-03-30T12:14:31.306373",
     "exception": false,
     "start_time": "2022-03-30T12:14:31.275697",
     "status": "completed"
    },
    "tags": []
   },
   "outputs": [],
   "source": []
  },
  {
   "cell_type": "code",
   "execution_count": null,
   "id": "aging-legislature",
   "metadata": {
    "papermill": {
     "duration": 0.030623,
     "end_time": "2022-03-30T12:14:31.367882",
     "exception": false,
     "start_time": "2022-03-30T12:14:31.337259",
     "status": "completed"
    },
    "tags": []
   },
   "outputs": [],
   "source": []
  }
 ],
 "metadata": {
  "kernelspec": {
   "display_name": "Python 3",
   "language": "python",
   "name": "python3"
  },
  "language_info": {
   "codemirror_mode": {
    "name": "ipython",
    "version": 3
   },
   "file_extension": ".py",
   "mimetype": "text/x-python",
   "name": "python",
   "nbconvert_exporter": "python",
   "pygments_lexer": "ipython3",
   "version": "3.6.15"
  },
  "papermill": {
   "duration": 6.028328,
   "end_time": "2022-03-30T12:14:31.817486",
   "environment_variables": {},
   "exception": null,
   "input_path": "2020-03-21-covid19exp.ipynb",
   "output_path": "2020-03-21-covid19exp.ipynb",
   "parameters": {},
   "start_time": "2022-03-30T12:14:25.789158",
   "version": "2.0.0"
  }
 },
 "nbformat": 4,
 "nbformat_minor": 5
}