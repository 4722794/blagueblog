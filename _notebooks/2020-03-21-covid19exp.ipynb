{
 "cells": [
  {
   "cell_type": "markdown",
   "id": "muslim-click",
   "metadata": {
    "papermill": {
     "duration": 0.03977,
     "end_time": "2021-12-13T00:31:57.499210",
     "exception": false,
     "start_time": "2021-12-13T00:31:57.459440",
     "status": "completed"
    },
    "tags": []
   },
   "source": [
    "# COVID-19 Case Race\n",
    "> A race chart to see rising cases around the world\n",
    "\n",
    "- author: Hargun Oberoi\n",
    "- image: images/covid-overview.png\n",
    "- hide: false\n",
    "- badges: false"
   ]
  },
  {
   "cell_type": "code",
   "execution_count": 1,
   "id": "proof-material",
   "metadata": {
    "execution": {
     "iopub.execute_input": "2021-12-13T00:31:57.580645Z",
     "iopub.status.busy": "2021-12-13T00:31:57.579932Z",
     "iopub.status.idle": "2021-12-13T00:31:58.015216Z",
     "shell.execute_reply": "2021-12-13T00:31:58.012734Z"
    },
    "papermill": {
     "duration": 0.481868,
     "end_time": "2021-12-13T00:31:58.015403",
     "exception": false,
     "start_time": "2021-12-13T00:31:57.533535",
     "status": "completed"
    },
    "tags": []
   },
   "outputs": [],
   "source": [
    "#hide\n",
    "import numpy as np\n",
    "import pandas as pd\n",
    "from jinja2 import Template\n",
    "from IPython.display import HTML"
   ]
  },
  {
   "cell_type": "code",
   "execution_count": 2,
   "id": "developed-terminology",
   "metadata": {
    "execution": {
     "iopub.execute_input": "2021-12-13T00:31:58.090854Z",
     "iopub.status.busy": "2021-12-13T00:31:58.090166Z",
     "iopub.status.idle": "2021-12-13T00:31:58.095147Z",
     "shell.execute_reply": "2021-12-13T00:31:58.095637Z"
    },
    "papermill": {
     "duration": 0.045946,
     "end_time": "2021-12-13T00:31:58.095809",
     "exception": false,
     "start_time": "2021-12-13T00:31:58.049863",
     "status": "completed"
    },
    "tags": []
   },
   "outputs": [],
   "source": [
    "#hide\n",
    "\n",
    "# FETCH\n",
    "base_url = 'https://raw.githubusercontent.com/pratapvardhan/notebooks/master/covid19/'\n",
    "paths = {\n",
    "    'mapping': base_url + 'mapping_countries.csv',\n",
    "    'overview': base_url + 'overview.tpl'\n",
    "}"
   ]
  },
  {
   "cell_type": "code",
   "execution_count": 3,
   "id": "dynamic-saver",
   "metadata": {
    "execution": {
     "iopub.execute_input": "2021-12-13T00:31:58.176243Z",
     "iopub.status.busy": "2021-12-13T00:31:58.175512Z",
     "iopub.status.idle": "2021-12-13T00:31:58.179487Z",
     "shell.execute_reply": "2021-12-13T00:31:58.178971Z"
    },
    "papermill": {
     "duration": 0.048632,
     "end_time": "2021-12-13T00:31:58.179631",
     "exception": false,
     "start_time": "2021-12-13T00:31:58.130999",
     "status": "completed"
    },
    "tags": []
   },
   "outputs": [
    {
     "data": {
      "text/plain": [
       "'https://raw.githubusercontent.com/pratapvardhan/notebooks/master/covid19/mapping_countries.csv'"
      ]
     },
     "execution_count": 3,
     "metadata": {},
     "output_type": "execute_result"
    }
   ],
   "source": [
    "#hide\n",
    "paths['mapping']"
   ]
  },
  {
   "cell_type": "code",
   "execution_count": 4,
   "id": "urban-software",
   "metadata": {
    "execution": {
     "iopub.execute_input": "2021-12-13T00:31:58.254796Z",
     "iopub.status.busy": "2021-12-13T00:31:58.254117Z",
     "iopub.status.idle": "2021-12-13T00:31:58.259005Z",
     "shell.execute_reply": "2021-12-13T00:31:58.258474Z"
    },
    "papermill": {
     "duration": 0.045574,
     "end_time": "2021-12-13T00:31:58.259148",
     "exception": false,
     "start_time": "2021-12-13T00:31:58.213574",
     "status": "completed"
    },
    "tags": []
   },
   "outputs": [],
   "source": [
    "#hide\n",
    "def get_mappings(url):\n",
    "    df = pd.read_csv(url)\n",
    "    return {\n",
    "        'df': df,\n",
    "        'replace.country': dict(df.dropna(subset=['Name']).set_index('Country')['Name']),\n",
    "        'map.continent': dict(df.set_index('Name')['Continent'])\n",
    "    }"
   ]
  },
  {
   "cell_type": "code",
   "execution_count": 5,
   "id": "intimate-machinery",
   "metadata": {
    "execution": {
     "iopub.execute_input": "2021-12-13T00:31:58.339867Z",
     "iopub.status.busy": "2021-12-13T00:31:58.339174Z",
     "iopub.status.idle": "2021-12-13T00:31:58.384954Z",
     "shell.execute_reply": "2021-12-13T00:31:58.383779Z"
    },
    "papermill": {
     "duration": 0.087587,
     "end_time": "2021-12-13T00:31:58.385137",
     "exception": false,
     "start_time": "2021-12-13T00:31:58.297550",
     "status": "completed"
    },
    "tags": []
   },
   "outputs": [],
   "source": [
    "#hide\n",
    "mapping = get_mappings(paths['mapping'])"
   ]
  },
  {
   "cell_type": "code",
   "execution_count": 6,
   "id": "certified-tactics",
   "metadata": {
    "execution": {
     "iopub.execute_input": "2021-12-13T00:31:58.466710Z",
     "iopub.status.busy": "2021-12-13T00:31:58.466033Z",
     "iopub.status.idle": "2021-12-13T00:31:58.470328Z",
     "shell.execute_reply": "2021-12-13T00:31:58.470957Z"
    },
    "papermill": {
     "duration": 0.048906,
     "end_time": "2021-12-13T00:31:58.471148",
     "exception": false,
     "start_time": "2021-12-13T00:31:58.422242",
     "status": "completed"
    },
    "tags": []
   },
   "outputs": [],
   "source": [
    "#hide\n",
    "def get_template(path):\n",
    "    from urllib.parse import urlparse\n",
    "    if bool(urlparse(path).netloc):\n",
    "        from urllib.request import urlopen\n",
    "        return urlopen(path).read().decode('utf8')\n",
    "    return open(path).read()"
   ]
  },
  {
   "cell_type": "code",
   "execution_count": 7,
   "id": "realistic-blast",
   "metadata": {
    "execution": {
     "iopub.execute_input": "2021-12-13T00:31:58.554227Z",
     "iopub.status.busy": "2021-12-13T00:31:58.553573Z",
     "iopub.status.idle": "2021-12-13T00:31:58.555729Z",
     "shell.execute_reply": "2021-12-13T00:31:58.556222Z"
    },
    "papermill": {
     "duration": 0.045202,
     "end_time": "2021-12-13T00:31:58.557478",
     "exception": false,
     "start_time": "2021-12-13T00:31:58.512276",
     "status": "completed"
    },
    "tags": []
   },
   "outputs": [],
   "source": [
    "#hide\n",
    "def get_frame(name):\n",
    "    url = (\n",
    "        'https://raw.githubusercontent.com/CSSEGISandData/COVID-19/master/csse_covid_19_data/'\n",
    "        f'csse_covid_19_time_series/time_series_covid19_{name}_global.csv')\n",
    "    df = pd.read_csv(url)\n",
    "    # rename countries\n",
    "    df['Country/Region'] = df['Country/Region'].replace(mapping['replace.country'])\n",
    "    return df"
   ]
  },
  {
   "cell_type": "code",
   "execution_count": 8,
   "id": "affiliated-characterization",
   "metadata": {
    "execution": {
     "iopub.execute_input": "2021-12-13T00:31:58.635042Z",
     "iopub.status.busy": "2021-12-13T00:31:58.633954Z",
     "iopub.status.idle": "2021-12-13T00:31:58.637851Z",
     "shell.execute_reply": "2021-12-13T00:31:58.637240Z"
    },
    "papermill": {
     "duration": 0.045689,
     "end_time": "2021-12-13T00:31:58.638002",
     "exception": false,
     "start_time": "2021-12-13T00:31:58.592313",
     "status": "completed"
    },
    "tags": []
   },
   "outputs": [],
   "source": [
    "#hide\n",
    "def get_dates(df):\n",
    "    dt_cols = df.columns[~df.columns.isin(['Province/State', 'Country/Region', 'Lat', 'Long'])]\n",
    "    LAST_DATE_I = -1\n",
    "    # sometimes last column may be empty, then go backwards\n",
    "    for i in range(-1, -len(dt_cols), -1):\n",
    "        if not df[dt_cols[i]].fillna(0).eq(0).all():\n",
    "            LAST_DATE_I = i\n",
    "            break\n",
    "    return LAST_DATE_I, dt_cols"
   ]
  },
  {
   "cell_type": "code",
   "execution_count": 9,
   "id": "recent-optimization",
   "metadata": {
    "execution": {
     "iopub.execute_input": "2021-12-13T00:31:58.717158Z",
     "iopub.status.busy": "2021-12-13T00:31:58.716460Z",
     "iopub.status.idle": "2021-12-13T00:31:59.092923Z",
     "shell.execute_reply": "2021-12-13T00:31:59.091680Z"
    },
    "papermill": {
     "duration": 0.41855,
     "end_time": "2021-12-13T00:31:59.093079",
     "exception": false,
     "start_time": "2021-12-13T00:31:58.674529",
     "status": "completed"
    },
    "tags": []
   },
   "outputs": [],
   "source": [
    "#hide\n",
    "COL_REGION = 'Country/Region'\n",
    "# Confirmed, Recovered, Deaths\n",
    "df = get_frame('confirmed')\n",
    "# dft_: timeseries, dfc_: today country agg\n",
    "dft_cases = df\n",
    "dft_deaths = get_frame('deaths')\n",
    "dft_recovered = get_frame('recovered')\n",
    "LAST_DATE_I, dt_cols = get_dates(df)"
   ]
  },
  {
   "cell_type": "code",
   "execution_count": 10,
   "id": "absolute-copper",
   "metadata": {
    "execution": {
     "iopub.execute_input": "2021-12-13T00:31:59.167656Z",
     "iopub.status.busy": "2021-12-13T00:31:59.166950Z",
     "iopub.status.idle": "2021-12-13T00:31:59.168406Z",
     "shell.execute_reply": "2021-12-13T00:31:59.168978Z"
    },
    "papermill": {
     "duration": 0.041977,
     "end_time": "2021-12-13T00:31:59.169136",
     "exception": false,
     "start_time": "2021-12-13T00:31:59.127159",
     "status": "completed"
    },
    "tags": []
   },
   "outputs": [],
   "source": [
    "#hide\n",
    "LAST_DATE_I, dt_cols = get_dates(df)\n",
    "dt_today =dt_cols[LAST_DATE_I]\n",
    "# dt_5day = dt_cols[LAST_DATE_I - 5]\n",
    "dt_yday = dt_cols[LAST_DATE_I - 1]"
   ]
  },
  {
   "cell_type": "code",
   "execution_count": 11,
   "id": "restricted-sheriff",
   "metadata": {
    "execution": {
     "iopub.execute_input": "2021-12-13T00:31:59.248326Z",
     "iopub.status.busy": "2021-12-13T00:31:59.247450Z",
     "iopub.status.idle": "2021-12-13T00:31:59.258343Z",
     "shell.execute_reply": "2021-12-13T00:31:59.257802Z"
    },
    "papermill": {
     "duration": 0.054288,
     "end_time": "2021-12-13T00:31:59.258493",
     "exception": false,
     "start_time": "2021-12-13T00:31:59.204205",
     "status": "completed"
    },
    "tags": []
   },
   "outputs": [],
   "source": [
    "#hide\n",
    "dfc_cases = dft_cases.groupby(COL_REGION)[dt_today].sum()\n",
    "dfc_deaths = dft_deaths.groupby(COL_REGION)[dt_today].sum()\n",
    "# dfp_cases = dft_cases.groupby(COL_REGION)[dt_5day].sum()\n",
    "# dfp_deaths = dft_deaths.groupby(COL_REGION)[dt_5day].sum()\n",
    "dfp_cases = dft_cases.groupby(COL_REGION)[dt_yday].sum()\n",
    "dfp_deaths = dft_deaths.groupby(COL_REGION)[dt_yday].sum()"
   ]
  },
  {
   "cell_type": "code",
   "execution_count": 12,
   "id": "deluxe-hepatitis",
   "metadata": {
    "execution": {
     "iopub.execute_input": "2021-12-13T00:31:59.337456Z",
     "iopub.status.busy": "2021-12-13T00:31:59.336789Z",
     "iopub.status.idle": "2021-12-13T00:31:59.342465Z",
     "shell.execute_reply": "2021-12-13T00:31:59.342965Z"
    },
    "papermill": {
     "duration": 0.050495,
     "end_time": "2021-12-13T00:31:59.343127",
     "exception": false,
     "start_time": "2021-12-13T00:31:59.292632",
     "status": "completed"
    },
    "tags": []
   },
   "outputs": [],
   "source": [
    "#hide\n",
    "df_table = (pd.DataFrame(dict(Cases = dfc_cases, Deaths = dfc_deaths, PCases = dfp_cases, PDeaths = dfp_deaths))\n",
    "            .sort_values(by = ['Cases','Deaths'], ascending = [False, False])\n",
    "            .reset_index())"
   ]
  },
  {
   "cell_type": "code",
   "execution_count": 13,
   "id": "educational-chancellor",
   "metadata": {
    "execution": {
     "iopub.execute_input": "2021-12-13T00:31:59.434590Z",
     "iopub.status.busy": "2021-12-13T00:31:59.433907Z",
     "iopub.status.idle": "2021-12-13T00:31:59.443063Z",
     "shell.execute_reply": "2021-12-13T00:31:59.443590Z"
    },
    "papermill": {
     "duration": 0.066889,
     "end_time": "2021-12-13T00:31:59.443757",
     "exception": false,
     "start_time": "2021-12-13T00:31:59.376868",
     "status": "completed"
    },
    "tags": []
   },
   "outputs": [
    {
     "data": {
      "text/html": [
       "<div>\n",
       "<style scoped>\n",
       "    .dataframe tbody tr th:only-of-type {\n",
       "        vertical-align: middle;\n",
       "    }\n",
       "\n",
       "    .dataframe tbody tr th {\n",
       "        vertical-align: top;\n",
       "    }\n",
       "\n",
       "    .dataframe thead th {\n",
       "        text-align: right;\n",
       "    }\n",
       "</style>\n",
       "<table border=\"1\" class=\"dataframe\">\n",
       "  <thead>\n",
       "    <tr style=\"text-align: right;\">\n",
       "      <th></th>\n",
       "      <th>Country/Region</th>\n",
       "      <th>Cases</th>\n",
       "      <th>Deaths</th>\n",
       "      <th>PCases</th>\n",
       "      <th>PDeaths</th>\n",
       "      <th>Cases (+)</th>\n",
       "      <th>Deaths (+)</th>\n",
       "      <th>Fatality Rate</th>\n",
       "      <th>Continent</th>\n",
       "    </tr>\n",
       "  </thead>\n",
       "  <tbody>\n",
       "    <tr>\n",
       "      <th>0</th>\n",
       "      <td>US</td>\n",
       "      <td>49884587</td>\n",
       "      <td>797179</td>\n",
       "      <td>49833439</td>\n",
       "      <td>796764</td>\n",
       "      <td>51148</td>\n",
       "      <td>415</td>\n",
       "      <td>1.60</td>\n",
       "      <td>North America</td>\n",
       "    </tr>\n",
       "    <tr>\n",
       "      <th>1</th>\n",
       "      <td>India</td>\n",
       "      <td>34690510</td>\n",
       "      <td>475434</td>\n",
       "      <td>34682633</td>\n",
       "      <td>474872</td>\n",
       "      <td>7877</td>\n",
       "      <td>562</td>\n",
       "      <td>1.37</td>\n",
       "      <td>Asia</td>\n",
       "    </tr>\n",
       "    <tr>\n",
       "      <th>2</th>\n",
       "      <td>Brazil</td>\n",
       "      <td>22177059</td>\n",
       "      <td>616457</td>\n",
       "      <td>22177059</td>\n",
       "      <td>616457</td>\n",
       "      <td>0</td>\n",
       "      <td>0</td>\n",
       "      <td>2.78</td>\n",
       "      <td>South America</td>\n",
       "    </tr>\n",
       "    <tr>\n",
       "      <th>3</th>\n",
       "      <td>United Kingdom</td>\n",
       "      <td>10833033</td>\n",
       "      <td>146844</td>\n",
       "      <td>10780610</td>\n",
       "      <td>146712</td>\n",
       "      <td>52423</td>\n",
       "      <td>132</td>\n",
       "      <td>1.36</td>\n",
       "      <td>Europe</td>\n",
       "    </tr>\n",
       "    <tr>\n",
       "      <th>4</th>\n",
       "      <td>Russia</td>\n",
       "      <td>9812538</td>\n",
       "      <td>282713</td>\n",
       "      <td>9782723</td>\n",
       "      <td>281571</td>\n",
       "      <td>29815</td>\n",
       "      <td>1142</td>\n",
       "      <td>2.88</td>\n",
       "      <td>Europe</td>\n",
       "    </tr>\n",
       "  </tbody>\n",
       "</table>\n",
       "</div>"
      ],
      "text/plain": [
       "   Country/Region     Cases  Deaths    PCases  PDeaths  Cases (+)  Deaths (+)  \\\n",
       "0              US  49884587  797179  49833439   796764      51148         415   \n",
       "1           India  34690510  475434  34682633   474872       7877         562   \n",
       "2          Brazil  22177059  616457  22177059   616457          0           0   \n",
       "3  United Kingdom  10833033  146844  10780610   146712      52423         132   \n",
       "4          Russia   9812538  282713   9782723   281571      29815        1142   \n",
       "\n",
       "   Fatality Rate      Continent  \n",
       "0           1.60  North America  \n",
       "1           1.37           Asia  \n",
       "2           2.78  South America  \n",
       "3           1.36         Europe  \n",
       "4           2.88         Europe  "
      ]
     },
     "execution_count": 13,
     "metadata": {},
     "output_type": "execute_result"
    }
   ],
   "source": [
    "#hide\n",
    "for c in 'Cases, Deaths'.split(', '):\n",
    "    df_table[f'{c} (+)'] = (df_table[c] - df_table[f'P{c}']).clip(0)\n",
    "    #Clip ça veut dire, les chiffres negatif sont interdit\n",
    "df_table['Fatality Rate'] = (100* df_table['Deaths']/ df_table['Cases']).round(2)\n",
    "df_table['Continent'] = df_table['Country/Region'].map(mapping['map.continent'])\n",
    "df_table.head(5)"
   ]
  },
  {
   "cell_type": "code",
   "execution_count": 14,
   "id": "aboriginal-bulgaria",
   "metadata": {
    "execution": {
     "iopub.execute_input": "2021-12-13T00:31:59.520698Z",
     "iopub.status.busy": "2021-12-13T00:31:59.520047Z",
     "iopub.status.idle": "2021-12-13T00:31:59.526648Z",
     "shell.execute_reply": "2021-12-13T00:31:59.527178Z"
    },
    "papermill": {
     "duration": 0.046162,
     "end_time": "2021-12-13T00:31:59.527338",
     "exception": false,
     "start_time": "2021-12-13T00:31:59.481176",
     "status": "completed"
    },
    "tags": []
   },
   "outputs": [],
   "source": [
    "#hide\n",
    "#delete problematic countries from table\n",
    "df_table = df_table[~df_table['Country/Region'].isin(['Cape Verde', 'Cruise Ship', 'Kosovo'])]"
   ]
  },
  {
   "cell_type": "code",
   "execution_count": 15,
   "id": "fantastic-effect",
   "metadata": {
    "execution": {
     "iopub.execute_input": "2021-12-13T00:31:59.606392Z",
     "iopub.status.busy": "2021-12-13T00:31:59.605726Z",
     "iopub.status.idle": "2021-12-13T00:31:59.626405Z",
     "shell.execute_reply": "2021-12-13T00:31:59.626920Z"
    },
    "papermill": {
     "duration": 0.065578,
     "end_time": "2021-12-13T00:31:59.627091",
     "exception": false,
     "start_time": "2021-12-13T00:31:59.561513",
     "status": "completed"
    },
    "tags": []
   },
   "outputs": [
    {
     "data": {
      "text/html": [
       "<div>\n",
       "<style scoped>\n",
       "    .dataframe tbody tr th:only-of-type {\n",
       "        vertical-align: middle;\n",
       "    }\n",
       "\n",
       "    .dataframe tbody tr th {\n",
       "        vertical-align: top;\n",
       "    }\n",
       "\n",
       "    .dataframe thead th {\n",
       "        text-align: right;\n",
       "    }\n",
       "</style>\n",
       "<table border=\"1\" class=\"dataframe\">\n",
       "  <thead>\n",
       "    <tr style=\"text-align: right;\">\n",
       "      <th></th>\n",
       "      <th>Country/Region</th>\n",
       "      <th>Cases</th>\n",
       "      <th>Deaths</th>\n",
       "      <th>PCases</th>\n",
       "      <th>PDeaths</th>\n",
       "      <th>Cases (+)</th>\n",
       "      <th>Deaths (+)</th>\n",
       "      <th>Fatality Rate</th>\n",
       "      <th>Continent</th>\n",
       "    </tr>\n",
       "  </thead>\n",
       "  <tbody>\n",
       "    <tr>\n",
       "      <th>0</th>\n",
       "      <td>US</td>\n",
       "      <td>49884587</td>\n",
       "      <td>797179</td>\n",
       "      <td>49833439</td>\n",
       "      <td>796764</td>\n",
       "      <td>51148</td>\n",
       "      <td>415</td>\n",
       "      <td>1.6</td>\n",
       "      <td>North America</td>\n",
       "    </tr>\n",
       "    <tr>\n",
       "      <th>1</th>\n",
       "      <td>India</td>\n",
       "      <td>34690510</td>\n",
       "      <td>475434</td>\n",
       "      <td>34682633</td>\n",
       "      <td>474872</td>\n",
       "      <td>7877</td>\n",
       "      <td>562</td>\n",
       "      <td>1.4</td>\n",
       "      <td>Asia</td>\n",
       "    </tr>\n",
       "    <tr>\n",
       "      <th>2</th>\n",
       "      <td>Brazil</td>\n",
       "      <td>22177059</td>\n",
       "      <td>616457</td>\n",
       "      <td>22177059</td>\n",
       "      <td>616457</td>\n",
       "      <td>0</td>\n",
       "      <td>0</td>\n",
       "      <td>2.8</td>\n",
       "      <td>South America</td>\n",
       "    </tr>\n",
       "    <tr>\n",
       "      <th>3</th>\n",
       "      <td>United Kingdom</td>\n",
       "      <td>10833033</td>\n",
       "      <td>146844</td>\n",
       "      <td>10780610</td>\n",
       "      <td>146712</td>\n",
       "      <td>52423</td>\n",
       "      <td>132</td>\n",
       "      <td>1.4</td>\n",
       "      <td>Europe</td>\n",
       "    </tr>\n",
       "    <tr>\n",
       "      <th>4</th>\n",
       "      <td>Russia</td>\n",
       "      <td>9812538</td>\n",
       "      <td>282713</td>\n",
       "      <td>9782723</td>\n",
       "      <td>281571</td>\n",
       "      <td>29815</td>\n",
       "      <td>1142</td>\n",
       "      <td>2.9</td>\n",
       "      <td>Europe</td>\n",
       "    </tr>\n",
       "  </tbody>\n",
       "</table>\n",
       "</div>"
      ],
      "text/plain": [
       "   Country/Region     Cases  Deaths    PCases  PDeaths  Cases (+)  Deaths (+)  \\\n",
       "0              US  49884587  797179  49833439   796764      51148         415   \n",
       "1           India  34690510  475434  34682633   474872       7877         562   \n",
       "2          Brazil  22177059  616457  22177059   616457          0           0   \n",
       "3  United Kingdom  10833033  146844  10780610   146712      52423         132   \n",
       "4          Russia   9812538  282713   9782723   281571      29815        1142   \n",
       "\n",
       "   Fatality Rate      Continent  \n",
       "0            1.6  North America  \n",
       "1            1.4           Asia  \n",
       "2            2.8  South America  \n",
       "3            1.4         Europe  \n",
       "4            2.9         Europe  "
      ]
     },
     "execution_count": 15,
     "metadata": {},
     "output_type": "execute_result"
    }
   ],
   "source": [
    "#hide\n",
    "df_table = (pd.DataFrame(dict(Cases=dfc_cases, Deaths=dfc_deaths, PCases=dfp_cases, PDeaths=dfp_deaths))\n",
    "             .sort_values(by=['Cases', 'Deaths'], ascending=[False, False])\n",
    "             .reset_index())\n",
    "df_table.rename(columns={'index': 'Country/Region'}, inplace=True)\n",
    "for c in 'Cases, Deaths'.split(', '):\n",
    "    df_table[f'{c} (+)'] = (df_table[c] - df_table[f'P{c}']).clip(0)  # DATA BUG\n",
    "df_table['Fatality Rate'] = (100 * df_table['Deaths'] / df_table['Cases']).round(1)\n",
    "df_table['Continent'] = df_table['Country/Region'].map(mapping['map.continent'])\n",
    "df_table.head(5)"
   ]
  },
  {
   "cell_type": "code",
   "execution_count": 16,
   "id": "fewer-occasion",
   "metadata": {
    "execution": {
     "iopub.execute_input": "2021-12-13T00:31:59.703413Z",
     "iopub.status.busy": "2021-12-13T00:31:59.702725Z",
     "iopub.status.idle": "2021-12-13T00:31:59.704743Z",
     "shell.execute_reply": "2021-12-13T00:31:59.705269Z"
    },
    "papermill": {
     "duration": 0.043568,
     "end_time": "2021-12-13T00:31:59.705444",
     "exception": false,
     "start_time": "2021-12-13T00:31:59.661876",
     "status": "completed"
    },
    "tags": []
   },
   "outputs": [],
   "source": [
    "#hide\n",
    "#delete problematic countries from table\n",
    "df_table = df_table[~df_table['Country/Region'].isin(['Cape Verde', 'Cruise Ship', 'Kosovo'])]"
   ]
  },
  {
   "cell_type": "code",
   "execution_count": 17,
   "id": "related-center",
   "metadata": {
    "execution": {
     "iopub.execute_input": "2021-12-13T00:31:59.804001Z",
     "iopub.status.busy": "2021-12-13T00:31:59.803289Z",
     "iopub.status.idle": "2021-12-13T00:31:59.808570Z",
     "shell.execute_reply": "2021-12-13T00:31:59.808043Z"
    },
    "papermill": {
     "duration": 0.063501,
     "end_time": "2021-12-13T00:31:59.808714",
     "exception": false,
     "start_time": "2021-12-13T00:31:59.745213",
     "status": "completed"
    },
    "tags": []
   },
   "outputs": [],
   "source": [
    "#hide\n",
    "metrics = [df_table.columns[index] for index in [1,2,5,6]]\n",
    "# s_china = df_table[df_table['Country/Region'].eq('China')][metrics].sum().add_prefix('China ')\n",
    "s_us = df_table[df_table['Country/Region'].eq('US')][metrics].sum().add_prefix('US ')\n",
    "s_eu = df_table[df_table['Continent'].eq('Europe')][metrics].sum().add_prefix('EU ')\n",
    "s_ind = df_table[df_table['Country/Region'].eq('India')][metrics].sum().add_prefix('India ')\n",
    "summary = {'updated': pd.to_datetime(dt_today), 'since': pd.to_datetime(dt_yday)}\n",
    "summary = {'updated': pd.to_datetime(dt_today), 'since': pd.to_datetime(dt_yday)}\n",
    "summary = {**summary, **df_table[metrics].sum(), **s_ind, **s_us, **s_eu}"
   ]
  },
  {
   "cell_type": "code",
   "execution_count": 18,
   "id": "engaging-syndrome",
   "metadata": {
    "execution": {
     "iopub.execute_input": "2021-12-13T00:31:59.884959Z",
     "iopub.status.busy": "2021-12-13T00:31:59.884300Z",
     "iopub.status.idle": "2021-12-13T00:31:59.902663Z",
     "shell.execute_reply": "2021-12-13T00:31:59.902086Z"
    },
    "papermill": {
     "duration": 0.059119,
     "end_time": "2021-12-13T00:31:59.902803",
     "exception": false,
     "start_time": "2021-12-13T00:31:59.843684",
     "status": "completed"
    },
    "tags": []
   },
   "outputs": [],
   "source": [
    "#hide\n",
    "dft_ct_new_cases = dft_cases.groupby(COL_REGION)[dt_cols].sum().diff(axis=1).fillna(0).astype(int)"
   ]
  },
  {
   "cell_type": "code",
   "execution_count": 19,
   "id": "neutral-assignment",
   "metadata": {
    "execution": {
     "iopub.execute_input": "2021-12-13T00:31:59.979518Z",
     "iopub.status.busy": "2021-12-13T00:31:59.978888Z",
     "iopub.status.idle": "2021-12-13T00:31:59.984104Z",
     "shell.execute_reply": "2021-12-13T00:31:59.983562Z"
    },
    "papermill": {
     "duration": 0.046775,
     "end_time": "2021-12-13T00:31:59.984247",
     "exception": false,
     "start_time": "2021-12-13T00:31:59.937472",
     "status": "completed"
    },
    "tags": []
   },
   "outputs": [],
   "source": [
    "#hide\n",
    "everydaycases = dft_ct_new_cases.cumsum(axis=1)"
   ]
  },
  {
   "cell_type": "code",
   "execution_count": 20,
   "id": "parliamentary-calgary",
   "metadata": {
    "execution": {
     "iopub.execute_input": "2021-12-13T00:32:00.059416Z",
     "iopub.status.busy": "2021-12-13T00:32:00.058770Z",
     "iopub.status.idle": "2021-12-13T00:32:00.885038Z",
     "shell.execute_reply": "2021-12-13T00:32:00.885537Z"
    },
    "papermill": {
     "duration": 0.866503,
     "end_time": "2021-12-13T00:32:00.885703",
     "exception": false,
     "start_time": "2021-12-13T00:32:00.019200",
     "status": "completed"
    },
    "tags": []
   },
   "outputs": [],
   "source": [
    "#hide\n",
    "import pandas as pd\n",
    "import matplotlib.pyplot as plt\n",
    "import matplotlib.ticker as ticker\n",
    "import matplotlib.animation as animation\n",
    "from IPython.display import HTML"
   ]
  },
  {
   "cell_type": "code",
   "execution_count": 21,
   "id": "lasting-extraction",
   "metadata": {
    "execution": {
     "iopub.execute_input": "2021-12-13T00:32:00.962158Z",
     "iopub.status.busy": "2021-12-13T00:32:00.961510Z",
     "iopub.status.idle": "2021-12-13T00:32:00.968911Z",
     "shell.execute_reply": "2021-12-13T00:32:00.968370Z"
    },
    "papermill": {
     "duration": 0.048378,
     "end_time": "2021-12-13T00:32:00.969058",
     "exception": false,
     "start_time": "2021-12-13T00:32:00.920680",
     "status": "completed"
    },
    "tags": []
   },
   "outputs": [],
   "source": [
    "#hide\n",
    "t = everydaycases.stack()"
   ]
  },
  {
   "cell_type": "code",
   "execution_count": 22,
   "id": "premier-sleeve",
   "metadata": {
    "execution": {
     "iopub.execute_input": "2021-12-13T00:32:01.060127Z",
     "iopub.status.busy": "2021-12-13T00:32:01.059395Z",
     "iopub.status.idle": "2021-12-13T00:32:01.073074Z",
     "shell.execute_reply": "2021-12-13T00:32:01.072485Z"
    },
    "papermill": {
     "duration": 0.060488,
     "end_time": "2021-12-13T00:32:01.073218",
     "exception": false,
     "start_time": "2021-12-13T00:32:01.012730",
     "status": "completed"
    },
    "tags": []
   },
   "outputs": [],
   "source": [
    "#hide\n",
    "g = t.reset_index(['Country/Region'])"
   ]
  },
  {
   "cell_type": "code",
   "execution_count": 23,
   "id": "distributed-pittsburgh",
   "metadata": {
    "execution": {
     "iopub.execute_input": "2021-12-13T00:32:01.164165Z",
     "iopub.status.busy": "2021-12-13T00:32:01.163283Z",
     "iopub.status.idle": "2021-12-13T00:32:01.165115Z",
     "shell.execute_reply": "2021-12-13T00:32:01.165845Z"
    },
    "papermill": {
     "duration": 0.048911,
     "end_time": "2021-12-13T00:32:01.166021",
     "exception": false,
     "start_time": "2021-12-13T00:32:01.117110",
     "status": "completed"
    },
    "tags": []
   },
   "outputs": [],
   "source": [
    "#hide\n",
    "g.index.name = 'date'"
   ]
  },
  {
   "cell_type": "code",
   "execution_count": 24,
   "id": "naked-donor",
   "metadata": {
    "execution": {
     "iopub.execute_input": "2021-12-13T00:32:01.243936Z",
     "iopub.status.busy": "2021-12-13T00:32:01.243202Z",
     "iopub.status.idle": "2021-12-13T00:32:01.245604Z",
     "shell.execute_reply": "2021-12-13T00:32:01.244998Z"
    },
    "papermill": {
     "duration": 0.043444,
     "end_time": "2021-12-13T00:32:01.245740",
     "exception": false,
     "start_time": "2021-12-13T00:32:01.202296",
     "status": "completed"
    },
    "tags": []
   },
   "outputs": [],
   "source": [
    "# #hide\n",
    "# g = g.reset_index(['date'])"
   ]
  },
  {
   "cell_type": "code",
   "execution_count": 25,
   "id": "incomplete-mustang",
   "metadata": {
    "execution": {
     "iopub.execute_input": "2021-12-13T00:32:01.341059Z",
     "iopub.status.busy": "2021-12-13T00:32:01.340360Z",
     "iopub.status.idle": "2021-12-13T00:32:01.345369Z",
     "shell.execute_reply": "2021-12-13T00:32:01.344827Z"
    },
    "papermill": {
     "duration": 0.05489,
     "end_time": "2021-12-13T00:32:01.345517",
     "exception": false,
     "start_time": "2021-12-13T00:32:01.290627",
     "status": "completed"
    },
    "tags": []
   },
   "outputs": [],
   "source": [
    "#hide\n",
    "# g.head()"
   ]
  },
  {
   "cell_type": "code",
   "execution_count": 26,
   "id": "specific-kruger",
   "metadata": {
    "execution": {
     "iopub.execute_input": "2021-12-13T00:32:01.426601Z",
     "iopub.status.busy": "2021-12-13T00:32:01.425933Z",
     "iopub.status.idle": "2021-12-13T00:32:01.427704Z",
     "shell.execute_reply": "2021-12-13T00:32:01.428352Z"
    },
    "papermill": {
     "duration": 0.041181,
     "end_time": "2021-12-13T00:32:01.428514",
     "exception": false,
     "start_time": "2021-12-13T00:32:01.387333",
     "status": "completed"
    },
    "tags": []
   },
   "outputs": [],
   "source": [
    "#hide\n",
    "# g.columns = ['date','country','cases']"
   ]
  },
  {
   "cell_type": "code",
   "execution_count": 27,
   "id": "tender-conversion",
   "metadata": {
    "execution": {
     "iopub.execute_input": "2021-12-13T00:32:01.512346Z",
     "iopub.status.busy": "2021-12-13T00:32:01.511627Z",
     "iopub.status.idle": "2021-12-13T00:32:01.513037Z",
     "shell.execute_reply": "2021-12-13T00:32:01.513609Z"
    },
    "papermill": {
     "duration": 0.050488,
     "end_time": "2021-12-13T00:32:01.513770",
     "exception": false,
     "start_time": "2021-12-13T00:32:01.463282",
     "status": "completed"
    },
    "tags": []
   },
   "outputs": [],
   "source": [
    "#hide\n",
    "# g['continent'] = g.country"
   ]
  },
  {
   "cell_type": "code",
   "execution_count": 28,
   "id": "substantial-wilderness",
   "metadata": {
    "execution": {
     "iopub.execute_input": "2021-12-13T00:32:01.594148Z",
     "iopub.status.busy": "2021-12-13T00:32:01.593480Z",
     "iopub.status.idle": "2021-12-13T00:32:01.596099Z",
     "shell.execute_reply": "2021-12-13T00:32:01.595456Z"
    },
    "papermill": {
     "duration": 0.045725,
     "end_time": "2021-12-13T00:32:01.596247",
     "exception": false,
     "start_time": "2021-12-13T00:32:01.550522",
     "status": "completed"
    },
    "tags": []
   },
   "outputs": [],
   "source": [
    "#hide\n",
    "# cols = list(g.columns.values)"
   ]
  },
  {
   "cell_type": "code",
   "execution_count": 29,
   "id": "solved-farming",
   "metadata": {
    "execution": {
     "iopub.execute_input": "2021-12-13T00:32:01.674488Z",
     "iopub.status.busy": "2021-12-13T00:32:01.673833Z",
     "iopub.status.idle": "2021-12-13T00:32:01.676226Z",
     "shell.execute_reply": "2021-12-13T00:32:01.675674Z"
    },
    "papermill": {
     "duration": 0.042829,
     "end_time": "2021-12-13T00:32:01.676364",
     "exception": false,
     "start_time": "2021-12-13T00:32:01.633535",
     "status": "completed"
    },
    "tags": []
   },
   "outputs": [],
   "source": [
    "#hide\n",
    "# cols.insert(0, cols.pop())"
   ]
  },
  {
   "cell_type": "code",
   "execution_count": 30,
   "id": "executed-adoption",
   "metadata": {
    "execution": {
     "iopub.execute_input": "2021-12-13T00:32:01.750059Z",
     "iopub.status.busy": "2021-12-13T00:32:01.749392Z",
     "iopub.status.idle": "2021-12-13T00:32:01.753978Z",
     "shell.execute_reply": "2021-12-13T00:32:01.753462Z"
    },
    "papermill": {
     "duration": 0.043284,
     "end_time": "2021-12-13T00:32:01.754123",
     "exception": false,
     "start_time": "2021-12-13T00:32:01.710839",
     "status": "completed"
    },
    "tags": []
   },
   "outputs": [],
   "source": [
    "#hide\n",
    "# g = g[cols]"
   ]
  },
  {
   "cell_type": "code",
   "execution_count": 31,
   "id": "subject-dublin",
   "metadata": {
    "execution": {
     "iopub.execute_input": "2021-12-13T00:32:01.833541Z",
     "iopub.status.busy": "2021-12-13T00:32:01.832853Z",
     "iopub.status.idle": "2021-12-13T00:32:01.835367Z",
     "shell.execute_reply": "2021-12-13T00:32:01.834863Z"
    },
    "papermill": {
     "duration": 0.044033,
     "end_time": "2021-12-13T00:32:01.835508",
     "exception": false,
     "start_time": "2021-12-13T00:32:01.791475",
     "status": "completed"
    },
    "tags": []
   },
   "outputs": [],
   "source": [
    "#hide\n",
    "# g['continent'] = g['continent'].map(mapping['map.continent'])"
   ]
  },
  {
   "cell_type": "code",
   "execution_count": 32,
   "id": "freelance-scout",
   "metadata": {
    "execution": {
     "iopub.execute_input": "2021-12-13T00:32:01.915351Z",
     "iopub.status.busy": "2021-12-13T00:32:01.914675Z",
     "iopub.status.idle": "2021-12-13T00:32:01.918390Z",
     "shell.execute_reply": "2021-12-13T00:32:01.918912Z"
    },
    "papermill": {
     "duration": 0.046794,
     "end_time": "2021-12-13T00:32:01.919084",
     "exception": false,
     "start_time": "2021-12-13T00:32:01.872290",
     "status": "completed"
    },
    "tags": []
   },
   "outputs": [],
   "source": [
    "#hide\n",
    "# g.head()"
   ]
  },
  {
   "cell_type": "code",
   "execution_count": 33,
   "id": "limited-engine",
   "metadata": {
    "execution": {
     "iopub.execute_input": "2021-12-13T00:32:01.995266Z",
     "iopub.status.busy": "2021-12-13T00:32:01.994575Z",
     "iopub.status.idle": "2021-12-13T00:32:02.000573Z",
     "shell.execute_reply": "2021-12-13T00:32:01.999953Z"
    },
    "papermill": {
     "duration": 0.045697,
     "end_time": "2021-12-13T00:32:02.000724",
     "exception": false,
     "start_time": "2021-12-13T00:32:01.955027",
     "status": "completed"
    },
    "tags": []
   },
   "outputs": [],
   "source": [
    "# hide\n",
    "# g['date'] = g['date'].astype('datetime64[ns]')"
   ]
  },
  {
   "cell_type": "code",
   "execution_count": 34,
   "id": "sophisticated-supervisor",
   "metadata": {
    "execution": {
     "iopub.execute_input": "2021-12-13T00:32:02.086593Z",
     "iopub.status.busy": "2021-12-13T00:32:02.085816Z",
     "iopub.status.idle": "2021-12-13T00:32:02.088149Z",
     "shell.execute_reply": "2021-12-13T00:32:02.087295Z"
    },
    "papermill": {
     "duration": 0.041548,
     "end_time": "2021-12-13T00:32:02.088297",
     "exception": false,
     "start_time": "2021-12-13T00:32:02.046749",
     "status": "completed"
    },
    "tags": []
   },
   "outputs": [],
   "source": [
    "#hide\n",
    "# g['date'] = g.date.dt.dayofyear"
   ]
  },
  {
   "cell_type": "code",
   "execution_count": 35,
   "id": "inside-dubai",
   "metadata": {
    "execution": {
     "iopub.execute_input": "2021-12-13T00:32:02.166405Z",
     "iopub.status.busy": "2021-12-13T00:32:02.165736Z",
     "iopub.status.idle": "2021-12-13T00:32:02.170467Z",
     "shell.execute_reply": "2021-12-13T00:32:02.169968Z"
    },
    "papermill": {
     "duration": 0.043554,
     "end_time": "2021-12-13T00:32:02.170605",
     "exception": false,
     "start_time": "2021-12-13T00:32:02.127051",
     "status": "completed"
    },
    "tags": []
   },
   "outputs": [],
   "source": [
    "#hide\n",
    "# g = g.rename(columns= {'continent':'group','country':'name','cases':'value'})"
   ]
  },
  {
   "cell_type": "code",
   "execution_count": 36,
   "id": "fleet-motorcycle",
   "metadata": {
    "execution": {
     "iopub.execute_input": "2021-12-13T00:32:02.246773Z",
     "iopub.status.busy": "2021-12-13T00:32:02.246123Z",
     "iopub.status.idle": "2021-12-13T00:32:02.248549Z",
     "shell.execute_reply": "2021-12-13T00:32:02.248043Z"
    },
    "papermill": {
     "duration": 0.040918,
     "end_time": "2021-12-13T00:32:02.248688",
     "exception": false,
     "start_time": "2021-12-13T00:32:02.207770",
     "status": "completed"
    },
    "tags": []
   },
   "outputs": [],
   "source": [
    "#hide\n",
    "# cols = ['name','group','day','value']"
   ]
  },
  {
   "cell_type": "code",
   "execution_count": 37,
   "id": "continued-sleeping",
   "metadata": {
    "execution": {
     "iopub.execute_input": "2021-12-13T00:32:02.323300Z",
     "iopub.status.busy": "2021-12-13T00:32:02.322668Z",
     "iopub.status.idle": "2021-12-13T00:32:02.325102Z",
     "shell.execute_reply": "2021-12-13T00:32:02.324577Z"
    },
    "papermill": {
     "duration": 0.041447,
     "end_time": "2021-12-13T00:32:02.325237",
     "exception": false,
     "start_time": "2021-12-13T00:32:02.283790",
     "status": "completed"
    },
    "tags": []
   },
   "outputs": [],
   "source": [
    "#hide\n",
    "# g.rename(columns= {'date':'day'},inplace = True)"
   ]
  },
  {
   "cell_type": "code",
   "execution_count": 38,
   "id": "major-fight",
   "metadata": {
    "execution": {
     "iopub.execute_input": "2021-12-13T00:32:02.399010Z",
     "iopub.status.busy": "2021-12-13T00:32:02.398371Z",
     "iopub.status.idle": "2021-12-13T00:32:02.401612Z",
     "shell.execute_reply": "2021-12-13T00:32:02.401050Z"
    },
    "papermill": {
     "duration": 0.042086,
     "end_time": "2021-12-13T00:32:02.401750",
     "exception": false,
     "start_time": "2021-12-13T00:32:02.359664",
     "status": "completed"
    },
    "tags": []
   },
   "outputs": [],
   "source": [
    "#hide\n",
    "# g = g[cols]"
   ]
  },
  {
   "cell_type": "code",
   "execution_count": 39,
   "id": "structured-mobile",
   "metadata": {
    "execution": {
     "iopub.execute_input": "2021-12-13T00:32:02.475651Z",
     "iopub.status.busy": "2021-12-13T00:32:02.474996Z",
     "iopub.status.idle": "2021-12-13T00:32:02.479478Z",
     "shell.execute_reply": "2021-12-13T00:32:02.479994Z"
    },
    "papermill": {
     "duration": 0.043838,
     "end_time": "2021-12-13T00:32:02.480354",
     "exception": false,
     "start_time": "2021-12-13T00:32:02.436516",
     "status": "completed"
    },
    "tags": []
   },
   "outputs": [],
   "source": [
    "# #hide\n",
    "# g = g[g.group.notna()]"
   ]
  },
  {
   "cell_type": "code",
   "execution_count": 40,
   "id": "determined-closing",
   "metadata": {
    "execution": {
     "iopub.execute_input": "2021-12-13T00:32:02.564105Z",
     "iopub.status.busy": "2021-12-13T00:32:02.563388Z",
     "iopub.status.idle": "2021-12-13T00:32:02.566106Z",
     "shell.execute_reply": "2021-12-13T00:32:02.565602Z"
    },
    "papermill": {
     "duration": 0.043868,
     "end_time": "2021-12-13T00:32:02.566249",
     "exception": false,
     "start_time": "2021-12-13T00:32:02.522381",
     "status": "completed"
    },
    "tags": []
   },
   "outputs": [],
   "source": [
    "# #hide\n",
    "# colors = dict(zip(\n",
    "#     [\"Oceania\", \"Europe\", \"Asia\", \"South America\", \"Middle East\", \"North America\", \"Africa\"],\n",
    "#     [\"#adb0ff\", \"#ffb3ff\", \"#90d595\", \"#e48381\", \"#aafbff\", \"#f7bb5f\", \"#eafb50\"]\n",
    "# ))\n",
    "# group_lk = g.set_index('name')['group'].to_dict()"
   ]
  },
  {
   "cell_type": "code",
   "execution_count": null,
   "id": "gross-drinking",
   "metadata": {
    "papermill": {
     "duration": 0.03753,
     "end_time": "2021-12-13T00:32:02.641244",
     "exception": false,
     "start_time": "2021-12-13T00:32:02.603714",
     "status": "completed"
    },
    "tags": []
   },
   "outputs": [],
   "source": []
  },
  {
   "cell_type": "code",
   "execution_count": 41,
   "id": "subject-macintosh",
   "metadata": {
    "execution": {
     "iopub.execute_input": "2021-12-13T00:32:02.715536Z",
     "iopub.status.busy": "2021-12-13T00:32:02.714857Z",
     "iopub.status.idle": "2021-12-13T00:32:02.717326Z",
     "shell.execute_reply": "2021-12-13T00:32:02.716826Z"
    },
    "papermill": {
     "duration": 0.04179,
     "end_time": "2021-12-13T00:32:02.717461",
     "exception": false,
     "start_time": "2021-12-13T00:32:02.675671",
     "status": "completed"
    },
    "tags": []
   },
   "outputs": [],
   "source": [
    "# #hide\n",
    "# fig, ax = plt.subplots(figsize=(15, 8))\n",
    "\n",
    "# def draw_barchart(current_day):\n",
    "#     dff = g[g['day'].eq(current_day)].sort_values(by='value', ascending=True).tail(10)\n",
    "#     ax.clear()\n",
    "#     ax.barh(dff['name'], dff['value'], color=[colors[group_lk[x]] for x in dff['name']])\n",
    "#     dx = dff['value'].max() / 200\n",
    "    \n",
    "#     for i, (value, name) in enumerate(zip(dff['value'], dff['name'])):\n",
    "#         ax.text(value-dx, i,     name,           size=14, weight=600, ha='right', va='bottom')\n",
    "#         ax.text(value-dx, i-.25, group_lk[name], size=10, color='#444444', ha='right', va='baseline')\n",
    "#         ax.text(value+dx, i,     f'{value:,.0f}',  size=14, ha='left',  va='center')\n",
    "#     ax.text(1, 0.4, current_day, transform=ax.transAxes, color='#777777', size=46, ha='right', weight=800)\n",
    "#     ax.text(0, 1.06, 'Population (thousands)', transform=ax.transAxes, size=12, color='#777777')\n",
    "#     ax.xaxis.set_major_formatter(ticker.StrMethodFormatter('{x:,.0f}'))\n",
    "#     ax.xaxis.set_ticks_position('top')\n",
    "#     ax.tick_params(axis='x', colors='#777777', labelsize=12)\n",
    "#     ax.set_yticks([])\n",
    "#     ax.margins(0, 0.01)\n",
    "#     ax.grid(which='major', axis='x', linestyle='-')\n",
    "#     ax.set_axisbelow(True)\n",
    "    \n",
    "#     ax.text(0, 1.15, 'Coronavirus',\n",
    "#             transform=ax.transAxes, size=24, weight=600, ha='left', va='top')\n",
    "# #     ax.text(1, 0, 'by @pratapvardhan; credit @jburnmurdoch', transform=ax.transAxes, color='#777777', ha='right',\n",
    "# #             bbox=dict(facecolor='white', alpha=0.8, edgecolor='white'))\n",
    "#     plt.box(False)"
   ]
  },
  {
   "cell_type": "code",
   "execution_count": 42,
   "id": "sexual-wages",
   "metadata": {
    "execution": {
     "iopub.execute_input": "2021-12-13T00:32:02.792418Z",
     "iopub.status.busy": "2021-12-13T00:32:02.791462Z",
     "iopub.status.idle": "2021-12-13T00:32:02.795120Z",
     "shell.execute_reply": "2021-12-13T00:32:02.794632Z"
    },
    "papermill": {
     "duration": 0.042763,
     "end_time": "2021-12-13T00:32:02.795254",
     "exception": false,
     "start_time": "2021-12-13T00:32:02.752491",
     "status": "completed"
    },
    "tags": []
   },
   "outputs": [],
   "source": [
    "# #hide_input\n",
    "# fig, ax = plt.subplots(figsize=(15, 8))\n",
    "# animator = animation.FuncAnimation(fig, draw_barchart, frames=range(g.day.values.min(), g.day.values.max()))\n",
    "# HTML(animator.to_jshtml())\n",
    "# # or use animator.to_html5_video() or animator.save() "
   ]
  },
  {
   "cell_type": "code",
   "execution_count": null,
   "id": "australian-container",
   "metadata": {
    "papermill": {
     "duration": 0.034591,
     "end_time": "2021-12-13T00:32:02.864614",
     "exception": false,
     "start_time": "2021-12-13T00:32:02.830023",
     "status": "completed"
    },
    "tags": []
   },
   "outputs": [],
   "source": []
  },
  {
   "cell_type": "code",
   "execution_count": null,
   "id": "mediterranean-pontiac",
   "metadata": {
    "papermill": {
     "duration": 0.034446,
     "end_time": "2021-12-13T00:32:02.933949",
     "exception": false,
     "start_time": "2021-12-13T00:32:02.899503",
     "status": "completed"
    },
    "tags": []
   },
   "outputs": [],
   "source": []
  },
  {
   "cell_type": "code",
   "execution_count": null,
   "id": "aging-legislature",
   "metadata": {
    "papermill": {
     "duration": 0.034446,
     "end_time": "2021-12-13T00:32:03.002965",
     "exception": false,
     "start_time": "2021-12-13T00:32:02.968519",
     "status": "completed"
    },
    "tags": []
   },
   "outputs": [],
   "source": []
  }
 ],
 "metadata": {
  "kernelspec": {
   "display_name": "Python 3",
   "language": "python",
   "name": "python3"
  },
  "language_info": {
   "codemirror_mode": {
    "name": "ipython",
    "version": 3
   },
   "file_extension": ".py",
   "mimetype": "text/x-python",
   "name": "python",
   "nbconvert_exporter": "python",
   "pygments_lexer": "ipython3",
   "version": "3.6.15"
  },
  "papermill": {
   "duration": 7.328999,
   "end_time": "2021-12-13T00:32:03.448514",
   "environment_variables": {},
   "exception": null,
   "input_path": "2020-03-21-covid19exp.ipynb",
   "output_path": "2020-03-21-covid19exp.ipynb",
   "parameters": {},
   "start_time": "2021-12-13T00:31:56.119515",
   "version": "2.0.0"
  }
 },
 "nbformat": 4,
 "nbformat_minor": 5
}