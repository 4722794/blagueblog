{
 "cells": [
  {
   "cell_type": "markdown",
   "id": "muslim-click",
   "metadata": {
    "papermill": {
     "duration": 0.034333,
     "end_time": "2022-09-07T12:19:33.587792",
     "exception": false,
     "start_time": "2022-09-07T12:19:33.553459",
     "status": "completed"
    },
    "tags": []
   },
   "source": [
    "# COVID-19 Case Race\n",
    "> A race chart to see rising cases around the world\n",
    "\n",
    "- author: Hargun Oberoi\n",
    "- image: images/covid-overview.png\n",
    "- hide: false\n",
    "- badges: false"
   ]
  },
  {
   "cell_type": "code",
   "execution_count": 1,
   "id": "proof-material",
   "metadata": {
    "execution": {
     "iopub.execute_input": "2022-09-07T12:19:33.657065Z",
     "iopub.status.busy": "2022-09-07T12:19:33.656488Z",
     "iopub.status.idle": "2022-09-07T12:19:33.968453Z",
     "shell.execute_reply": "2022-09-07T12:19:33.967608Z"
    },
    "papermill": {
     "duration": 0.350614,
     "end_time": "2022-09-07T12:19:33.968592",
     "exception": false,
     "start_time": "2022-09-07T12:19:33.617978",
     "status": "completed"
    },
    "tags": []
   },
   "outputs": [],
   "source": [
    "#hide\n",
    "import numpy as np\n",
    "import pandas as pd\n",
    "from jinja2 import Template\n",
    "from IPython.display import HTML"
   ]
  },
  {
   "cell_type": "code",
   "execution_count": 2,
   "id": "developed-terminology",
   "metadata": {
    "execution": {
     "iopub.execute_input": "2022-09-07T12:19:34.033140Z",
     "iopub.status.busy": "2022-09-07T12:19:34.032573Z",
     "iopub.status.idle": "2022-09-07T12:19:34.034804Z",
     "shell.execute_reply": "2022-09-07T12:19:34.034363Z"
    },
    "papermill": {
     "duration": 0.036359,
     "end_time": "2022-09-07T12:19:34.034904",
     "exception": false,
     "start_time": "2022-09-07T12:19:33.998545",
     "status": "completed"
    },
    "tags": []
   },
   "outputs": [],
   "source": [
    "#hide\n",
    "\n",
    "# FETCH\n",
    "base_url = 'https://raw.githubusercontent.com/pratapvardhan/notebooks/master/covid19/'\n",
    "paths = {\n",
    "    'mapping': base_url + 'mapping_countries.csv',\n",
    "    'overview': base_url + 'overview.tpl'\n",
    "}"
   ]
  },
  {
   "cell_type": "code",
   "execution_count": 3,
   "id": "dynamic-saver",
   "metadata": {
    "execution": {
     "iopub.execute_input": "2022-09-07T12:19:34.103148Z",
     "iopub.status.busy": "2022-09-07T12:19:34.102592Z",
     "iopub.status.idle": "2022-09-07T12:19:34.105600Z",
     "shell.execute_reply": "2022-09-07T12:19:34.106029Z"
    },
    "papermill": {
     "duration": 0.041525,
     "end_time": "2022-09-07T12:19:34.106144",
     "exception": false,
     "start_time": "2022-09-07T12:19:34.064619",
     "status": "completed"
    },
    "tags": []
   },
   "outputs": [
    {
     "data": {
      "text/plain": [
       "'https://raw.githubusercontent.com/pratapvardhan/notebooks/master/covid19/mapping_countries.csv'"
      ]
     },
     "execution_count": 3,
     "metadata": {},
     "output_type": "execute_result"
    }
   ],
   "source": [
    "#hide\n",
    "paths['mapping']"
   ]
  },
  {
   "cell_type": "code",
   "execution_count": 4,
   "id": "urban-software",
   "metadata": {
    "execution": {
     "iopub.execute_input": "2022-09-07T12:19:34.171090Z",
     "iopub.status.busy": "2022-09-07T12:19:34.170531Z",
     "iopub.status.idle": "2022-09-07T12:19:34.172889Z",
     "shell.execute_reply": "2022-09-07T12:19:34.172454Z"
    },
    "papermill": {
     "duration": 0.036795,
     "end_time": "2022-09-07T12:19:34.172986",
     "exception": false,
     "start_time": "2022-09-07T12:19:34.136191",
     "status": "completed"
    },
    "tags": []
   },
   "outputs": [],
   "source": [
    "#hide\n",
    "def get_mappings(url):\n",
    "    df = pd.read_csv(url)\n",
    "    return {\n",
    "        'df': df,\n",
    "        'replace.country': dict(df.dropna(subset=['Name']).set_index('Country')['Name']),\n",
    "        'map.continent': dict(df.set_index('Name')['Continent'])\n",
    "    }"
   ]
  },
  {
   "cell_type": "code",
   "execution_count": 5,
   "id": "intimate-machinery",
   "metadata": {
    "execution": {
     "iopub.execute_input": "2022-09-07T12:19:34.237877Z",
     "iopub.status.busy": "2022-09-07T12:19:34.237323Z",
     "iopub.status.idle": "2022-09-07T12:19:34.298492Z",
     "shell.execute_reply": "2022-09-07T12:19:34.298017Z"
    },
    "papermill": {
     "duration": 0.095819,
     "end_time": "2022-09-07T12:19:34.298608",
     "exception": false,
     "start_time": "2022-09-07T12:19:34.202789",
     "status": "completed"
    },
    "tags": []
   },
   "outputs": [],
   "source": [
    "#hide\n",
    "mapping = get_mappings(paths['mapping'])"
   ]
  },
  {
   "cell_type": "code",
   "execution_count": 6,
   "id": "certified-tactics",
   "metadata": {
    "execution": {
     "iopub.execute_input": "2022-09-07T12:19:34.363185Z",
     "iopub.status.busy": "2022-09-07T12:19:34.362635Z",
     "iopub.status.idle": "2022-09-07T12:19:34.364883Z",
     "shell.execute_reply": "2022-09-07T12:19:34.365332Z"
    },
    "papermill": {
     "duration": 0.03689,
     "end_time": "2022-09-07T12:19:34.365441",
     "exception": false,
     "start_time": "2022-09-07T12:19:34.328551",
     "status": "completed"
    },
    "tags": []
   },
   "outputs": [],
   "source": [
    "#hide\n",
    "def get_template(path):\n",
    "    from urllib.parse import urlparse\n",
    "    if bool(urlparse(path).netloc):\n",
    "        from urllib.request import urlopen\n",
    "        return urlopen(path).read().decode('utf8')\n",
    "    return open(path).read()"
   ]
  },
  {
   "cell_type": "code",
   "execution_count": 7,
   "id": "realistic-blast",
   "metadata": {
    "execution": {
     "iopub.execute_input": "2022-09-07T12:19:34.429303Z",
     "iopub.status.busy": "2022-09-07T12:19:34.428747Z",
     "iopub.status.idle": "2022-09-07T12:19:34.431345Z",
     "shell.execute_reply": "2022-09-07T12:19:34.430914Z"
    },
    "papermill": {
     "duration": 0.036076,
     "end_time": "2022-09-07T12:19:34.431464",
     "exception": false,
     "start_time": "2022-09-07T12:19:34.395388",
     "status": "completed"
    },
    "tags": []
   },
   "outputs": [],
   "source": [
    "#hide\n",
    "def get_frame(name):\n",
    "    url = (\n",
    "        'https://raw.githubusercontent.com/CSSEGISandData/COVID-19/master/csse_covid_19_data/'\n",
    "        f'csse_covid_19_time_series/time_series_covid19_{name}_global.csv')\n",
    "    df = pd.read_csv(url)\n",
    "    # rename countries\n",
    "    df['Country/Region'] = df['Country/Region'].replace(mapping['replace.country'])\n",
    "    return df"
   ]
  },
  {
   "cell_type": "code",
   "execution_count": 8,
   "id": "affiliated-characterization",
   "metadata": {
    "execution": {
     "iopub.execute_input": "2022-09-07T12:19:34.496347Z",
     "iopub.status.busy": "2022-09-07T12:19:34.495768Z",
     "iopub.status.idle": "2022-09-07T12:19:34.498141Z",
     "shell.execute_reply": "2022-09-07T12:19:34.497615Z"
    },
    "papermill": {
     "duration": 0.037006,
     "end_time": "2022-09-07T12:19:34.498236",
     "exception": false,
     "start_time": "2022-09-07T12:19:34.461230",
     "status": "completed"
    },
    "tags": []
   },
   "outputs": [],
   "source": [
    "#hide\n",
    "def get_dates(df):\n",
    "    dt_cols = df.columns[~df.columns.isin(['Province/State', 'Country/Region', 'Lat', 'Long'])]\n",
    "    LAST_DATE_I = -1\n",
    "    # sometimes last column may be empty, then go backwards\n",
    "    for i in range(-1, -len(dt_cols), -1):\n",
    "        if not df[dt_cols[i]].fillna(0).eq(0).all():\n",
    "            LAST_DATE_I = i\n",
    "            break\n",
    "    return LAST_DATE_I, dt_cols"
   ]
  },
  {
   "cell_type": "code",
   "execution_count": 9,
   "id": "recent-optimization",
   "metadata": {
    "execution": {
     "iopub.execute_input": "2022-09-07T12:19:34.562173Z",
     "iopub.status.busy": "2022-09-07T12:19:34.561602Z",
     "iopub.status.idle": "2022-09-07T12:19:35.196909Z",
     "shell.execute_reply": "2022-09-07T12:19:35.195833Z"
    },
    "papermill": {
     "duration": 0.669008,
     "end_time": "2022-09-07T12:19:35.197029",
     "exception": false,
     "start_time": "2022-09-07T12:19:34.528021",
     "status": "completed"
    },
    "tags": []
   },
   "outputs": [],
   "source": [
    "#hide\n",
    "COL_REGION = 'Country/Region'\n",
    "# Confirmed, Recovered, Deaths\n",
    "df = get_frame('confirmed')\n",
    "# dft_: timeseries, dfc_: today country agg\n",
    "dft_cases = df\n",
    "dft_deaths = get_frame('deaths')\n",
    "dft_recovered = get_frame('recovered')\n",
    "LAST_DATE_I, dt_cols = get_dates(df)"
   ]
  },
  {
   "cell_type": "code",
   "execution_count": 10,
   "id": "absolute-copper",
   "metadata": {
    "execution": {
     "iopub.execute_input": "2022-09-07T12:19:35.262920Z",
     "iopub.status.busy": "2022-09-07T12:19:35.262358Z",
     "iopub.status.idle": "2022-09-07T12:19:35.264562Z",
     "shell.execute_reply": "2022-09-07T12:19:35.264033Z"
    },
    "papermill": {
     "duration": 0.037127,
     "end_time": "2022-09-07T12:19:35.264663",
     "exception": false,
     "start_time": "2022-09-07T12:19:35.227536",
     "status": "completed"
    },
    "tags": []
   },
   "outputs": [],
   "source": [
    "#hide\n",
    "LAST_DATE_I, dt_cols = get_dates(df)\n",
    "dt_today =dt_cols[LAST_DATE_I]\n",
    "# dt_5day = dt_cols[LAST_DATE_I - 5]\n",
    "dt_yday = dt_cols[LAST_DATE_I - 1]"
   ]
  },
  {
   "cell_type": "code",
   "execution_count": 11,
   "id": "restricted-sheriff",
   "metadata": {
    "execution": {
     "iopub.execute_input": "2022-09-07T12:19:35.330389Z",
     "iopub.status.busy": "2022-09-07T12:19:35.329832Z",
     "iopub.status.idle": "2022-09-07T12:19:35.336422Z",
     "shell.execute_reply": "2022-09-07T12:19:35.336841Z"
    },
    "papermill": {
     "duration": 0.042386,
     "end_time": "2022-09-07T12:19:35.336956",
     "exception": false,
     "start_time": "2022-09-07T12:19:35.294570",
     "status": "completed"
    },
    "tags": []
   },
   "outputs": [],
   "source": [
    "#hide\n",
    "dfc_cases = dft_cases.groupby(COL_REGION)[dt_today].sum()\n",
    "dfc_deaths = dft_deaths.groupby(COL_REGION)[dt_today].sum()\n",
    "# dfp_cases = dft_cases.groupby(COL_REGION)[dt_5day].sum()\n",
    "# dfp_deaths = dft_deaths.groupby(COL_REGION)[dt_5day].sum()\n",
    "dfp_cases = dft_cases.groupby(COL_REGION)[dt_yday].sum()\n",
    "dfp_deaths = dft_deaths.groupby(COL_REGION)[dt_yday].sum()"
   ]
  },
  {
   "cell_type": "code",
   "execution_count": 12,
   "id": "deluxe-hepatitis",
   "metadata": {
    "execution": {
     "iopub.execute_input": "2022-09-07T12:19:35.402542Z",
     "iopub.status.busy": "2022-09-07T12:19:35.401992Z",
     "iopub.status.idle": "2022-09-07T12:19:35.406008Z",
     "shell.execute_reply": "2022-09-07T12:19:35.406518Z"
    },
    "papermill": {
     "duration": 0.039643,
     "end_time": "2022-09-07T12:19:35.406631",
     "exception": false,
     "start_time": "2022-09-07T12:19:35.366988",
     "status": "completed"
    },
    "tags": []
   },
   "outputs": [],
   "source": [
    "#hide\n",
    "df_table = (pd.DataFrame(dict(Cases = dfc_cases, Deaths = dfc_deaths, PCases = dfp_cases, PDeaths = dfp_deaths))\n",
    "            .sort_values(by = ['Cases','Deaths'], ascending = [False, False])\n",
    "            .reset_index())"
   ]
  },
  {
   "cell_type": "code",
   "execution_count": 13,
   "id": "educational-chancellor",
   "metadata": {
    "execution": {
     "iopub.execute_input": "2022-09-07T12:19:35.479474Z",
     "iopub.status.busy": "2022-09-07T12:19:35.478892Z",
     "iopub.status.idle": "2022-09-07T12:19:35.490393Z",
     "shell.execute_reply": "2022-09-07T12:19:35.490842Z"
    },
    "papermill": {
     "duration": 0.05444,
     "end_time": "2022-09-07T12:19:35.490959",
     "exception": false,
     "start_time": "2022-09-07T12:19:35.436519",
     "status": "completed"
    },
    "tags": []
   },
   "outputs": [
    {
     "data": {
      "text/html": [
       "<div>\n",
       "<style scoped>\n",
       "    .dataframe tbody tr th:only-of-type {\n",
       "        vertical-align: middle;\n",
       "    }\n",
       "\n",
       "    .dataframe tbody tr th {\n",
       "        vertical-align: top;\n",
       "    }\n",
       "\n",
       "    .dataframe thead th {\n",
       "        text-align: right;\n",
       "    }\n",
       "</style>\n",
       "<table border=\"1\" class=\"dataframe\">\n",
       "  <thead>\n",
       "    <tr style=\"text-align: right;\">\n",
       "      <th></th>\n",
       "      <th>Country/Region</th>\n",
       "      <th>Cases</th>\n",
       "      <th>Deaths</th>\n",
       "      <th>PCases</th>\n",
       "      <th>PDeaths</th>\n",
       "      <th>Cases (+)</th>\n",
       "      <th>Deaths (+)</th>\n",
       "      <th>Fatality Rate</th>\n",
       "      <th>Continent</th>\n",
       "    </tr>\n",
       "  </thead>\n",
       "  <tbody>\n",
       "    <tr>\n",
       "      <th>0</th>\n",
       "      <td>US</td>\n",
       "      <td>94896544</td>\n",
       "      <td>1048185</td>\n",
       "      <td>94768178</td>\n",
       "      <td>1047563</td>\n",
       "      <td>128366</td>\n",
       "      <td>622</td>\n",
       "      <td>1.10</td>\n",
       "      <td>North America</td>\n",
       "    </tr>\n",
       "    <tr>\n",
       "      <th>1</th>\n",
       "      <td>India</td>\n",
       "      <td>44469661</td>\n",
       "      <td>528057</td>\n",
       "      <td>44466862</td>\n",
       "      <td>528030</td>\n",
       "      <td>2799</td>\n",
       "      <td>27</td>\n",
       "      <td>1.19</td>\n",
       "      <td>Asia</td>\n",
       "    </tr>\n",
       "    <tr>\n",
       "      <th>2</th>\n",
       "      <td>France</td>\n",
       "      <td>34839791</td>\n",
       "      <td>155373</td>\n",
       "      <td>34812853</td>\n",
       "      <td>155313</td>\n",
       "      <td>26938</td>\n",
       "      <td>60</td>\n",
       "      <td>0.45</td>\n",
       "      <td>Europe</td>\n",
       "    </tr>\n",
       "    <tr>\n",
       "      <th>3</th>\n",
       "      <td>Brazil</td>\n",
       "      <td>34477539</td>\n",
       "      <td>684425</td>\n",
       "      <td>34477539</td>\n",
       "      <td>684425</td>\n",
       "      <td>0</td>\n",
       "      <td>0</td>\n",
       "      <td>1.99</td>\n",
       "      <td>South America</td>\n",
       "    </tr>\n",
       "    <tr>\n",
       "      <th>4</th>\n",
       "      <td>Germany</td>\n",
       "      <td>32344032</td>\n",
       "      <td>147981</td>\n",
       "      <td>32297537</td>\n",
       "      <td>147861</td>\n",
       "      <td>46495</td>\n",
       "      <td>120</td>\n",
       "      <td>0.46</td>\n",
       "      <td>Europe</td>\n",
       "    </tr>\n",
       "  </tbody>\n",
       "</table>\n",
       "</div>"
      ],
      "text/plain": [
       "  Country/Region     Cases   Deaths    PCases  PDeaths  Cases (+)  Deaths (+)  \\\n",
       "0             US  94896544  1048185  94768178  1047563     128366         622   \n",
       "1          India  44469661   528057  44466862   528030       2799          27   \n",
       "2         France  34839791   155373  34812853   155313      26938          60   \n",
       "3         Brazil  34477539   684425  34477539   684425          0           0   \n",
       "4        Germany  32344032   147981  32297537   147861      46495         120   \n",
       "\n",
       "   Fatality Rate      Continent  \n",
       "0           1.10  North America  \n",
       "1           1.19           Asia  \n",
       "2           0.45         Europe  \n",
       "3           1.99  South America  \n",
       "4           0.46         Europe  "
      ]
     },
     "execution_count": 13,
     "metadata": {},
     "output_type": "execute_result"
    }
   ],
   "source": [
    "#hide\n",
    "for c in 'Cases, Deaths'.split(', '):\n",
    "    df_table[f'{c} (+)'] = (df_table[c] - df_table[f'P{c}']).clip(0)\n",
    "    #Clip ça veut dire, les chiffres negatif sont interdit\n",
    "df_table['Fatality Rate'] = (100* df_table['Deaths']/ df_table['Cases']).round(2)\n",
    "df_table['Continent'] = df_table['Country/Region'].map(mapping['map.continent'])\n",
    "df_table.head(5)"
   ]
  },
  {
   "cell_type": "code",
   "execution_count": 14,
   "id": "aboriginal-bulgaria",
   "metadata": {
    "execution": {
     "iopub.execute_input": "2022-09-07T12:19:35.557515Z",
     "iopub.status.busy": "2022-09-07T12:19:35.556954Z",
     "iopub.status.idle": "2022-09-07T12:19:35.559170Z",
     "shell.execute_reply": "2022-09-07T12:19:35.559626Z"
    },
    "papermill": {
     "duration": 0.038234,
     "end_time": "2022-09-07T12:19:35.559742",
     "exception": false,
     "start_time": "2022-09-07T12:19:35.521508",
     "status": "completed"
    },
    "tags": []
   },
   "outputs": [],
   "source": [
    "#hide\n",
    "#delete problematic countries from table\n",
    "df_table = df_table[~df_table['Country/Region'].isin(['Cape Verde', 'Cruise Ship', 'Kosovo'])]"
   ]
  },
  {
   "cell_type": "code",
   "execution_count": 15,
   "id": "fantastic-effect",
   "metadata": {
    "execution": {
     "iopub.execute_input": "2022-09-07T12:19:35.628837Z",
     "iopub.status.busy": "2022-09-07T12:19:35.628271Z",
     "iopub.status.idle": "2022-09-07T12:19:35.645603Z",
     "shell.execute_reply": "2022-09-07T12:19:35.646060Z"
    },
    "papermill": {
     "duration": 0.055994,
     "end_time": "2022-09-07T12:19:35.646186",
     "exception": false,
     "start_time": "2022-09-07T12:19:35.590192",
     "status": "completed"
    },
    "tags": []
   },
   "outputs": [
    {
     "data": {
      "text/html": [
       "<div>\n",
       "<style scoped>\n",
       "    .dataframe tbody tr th:only-of-type {\n",
       "        vertical-align: middle;\n",
       "    }\n",
       "\n",
       "    .dataframe tbody tr th {\n",
       "        vertical-align: top;\n",
       "    }\n",
       "\n",
       "    .dataframe thead th {\n",
       "        text-align: right;\n",
       "    }\n",
       "</style>\n",
       "<table border=\"1\" class=\"dataframe\">\n",
       "  <thead>\n",
       "    <tr style=\"text-align: right;\">\n",
       "      <th></th>\n",
       "      <th>Country/Region</th>\n",
       "      <th>Cases</th>\n",
       "      <th>Deaths</th>\n",
       "      <th>PCases</th>\n",
       "      <th>PDeaths</th>\n",
       "      <th>Cases (+)</th>\n",
       "      <th>Deaths (+)</th>\n",
       "      <th>Fatality Rate</th>\n",
       "      <th>Continent</th>\n",
       "    </tr>\n",
       "  </thead>\n",
       "  <tbody>\n",
       "    <tr>\n",
       "      <th>0</th>\n",
       "      <td>US</td>\n",
       "      <td>94896544</td>\n",
       "      <td>1048185</td>\n",
       "      <td>94768178</td>\n",
       "      <td>1047563</td>\n",
       "      <td>128366</td>\n",
       "      <td>622</td>\n",
       "      <td>1.1</td>\n",
       "      <td>North America</td>\n",
       "    </tr>\n",
       "    <tr>\n",
       "      <th>1</th>\n",
       "      <td>India</td>\n",
       "      <td>44469661</td>\n",
       "      <td>528057</td>\n",
       "      <td>44466862</td>\n",
       "      <td>528030</td>\n",
       "      <td>2799</td>\n",
       "      <td>27</td>\n",
       "      <td>1.2</td>\n",
       "      <td>Asia</td>\n",
       "    </tr>\n",
       "    <tr>\n",
       "      <th>2</th>\n",
       "      <td>France</td>\n",
       "      <td>34839791</td>\n",
       "      <td>155373</td>\n",
       "      <td>34812853</td>\n",
       "      <td>155313</td>\n",
       "      <td>26938</td>\n",
       "      <td>60</td>\n",
       "      <td>0.4</td>\n",
       "      <td>Europe</td>\n",
       "    </tr>\n",
       "    <tr>\n",
       "      <th>3</th>\n",
       "      <td>Brazil</td>\n",
       "      <td>34477539</td>\n",
       "      <td>684425</td>\n",
       "      <td>34477539</td>\n",
       "      <td>684425</td>\n",
       "      <td>0</td>\n",
       "      <td>0</td>\n",
       "      <td>2.0</td>\n",
       "      <td>South America</td>\n",
       "    </tr>\n",
       "    <tr>\n",
       "      <th>4</th>\n",
       "      <td>Germany</td>\n",
       "      <td>32344032</td>\n",
       "      <td>147981</td>\n",
       "      <td>32297537</td>\n",
       "      <td>147861</td>\n",
       "      <td>46495</td>\n",
       "      <td>120</td>\n",
       "      <td>0.5</td>\n",
       "      <td>Europe</td>\n",
       "    </tr>\n",
       "  </tbody>\n",
       "</table>\n",
       "</div>"
      ],
      "text/plain": [
       "  Country/Region     Cases   Deaths    PCases  PDeaths  Cases (+)  Deaths (+)  \\\n",
       "0             US  94896544  1048185  94768178  1047563     128366         622   \n",
       "1          India  44469661   528057  44466862   528030       2799          27   \n",
       "2         France  34839791   155373  34812853   155313      26938          60   \n",
       "3         Brazil  34477539   684425  34477539   684425          0           0   \n",
       "4        Germany  32344032   147981  32297537   147861      46495         120   \n",
       "\n",
       "   Fatality Rate      Continent  \n",
       "0            1.1  North America  \n",
       "1            1.2           Asia  \n",
       "2            0.4         Europe  \n",
       "3            2.0  South America  \n",
       "4            0.5         Europe  "
      ]
     },
     "execution_count": 15,
     "metadata": {},
     "output_type": "execute_result"
    }
   ],
   "source": [
    "#hide\n",
    "df_table = (pd.DataFrame(dict(Cases=dfc_cases, Deaths=dfc_deaths, PCases=dfp_cases, PDeaths=dfp_deaths))\n",
    "             .sort_values(by=['Cases', 'Deaths'], ascending=[False, False])\n",
    "             .reset_index())\n",
    "df_table.rename(columns={'index': 'Country/Region'}, inplace=True)\n",
    "for c in 'Cases, Deaths'.split(', '):\n",
    "    df_table[f'{c} (+)'] = (df_table[c] - df_table[f'P{c}']).clip(0)  # DATA BUG\n",
    "df_table['Fatality Rate'] = (100 * df_table['Deaths'] / df_table['Cases']).round(1)\n",
    "df_table['Continent'] = df_table['Country/Region'].map(mapping['map.continent'])\n",
    "df_table.head(5)"
   ]
  },
  {
   "cell_type": "code",
   "execution_count": 16,
   "id": "fewer-occasion",
   "metadata": {
    "execution": {
     "iopub.execute_input": "2022-09-07T12:19:35.714775Z",
     "iopub.status.busy": "2022-09-07T12:19:35.714198Z",
     "iopub.status.idle": "2022-09-07T12:19:35.716970Z",
     "shell.execute_reply": "2022-09-07T12:19:35.717402Z"
    },
    "papermill": {
     "duration": 0.039839,
     "end_time": "2022-09-07T12:19:35.717526",
     "exception": false,
     "start_time": "2022-09-07T12:19:35.677687",
     "status": "completed"
    },
    "tags": []
   },
   "outputs": [],
   "source": [
    "#hide\n",
    "#delete problematic countries from table\n",
    "df_table = df_table[~df_table['Country/Region'].isin(['Cape Verde', 'Cruise Ship', 'Kosovo'])]"
   ]
  },
  {
   "cell_type": "code",
   "execution_count": 17,
   "id": "related-center",
   "metadata": {
    "execution": {
     "iopub.execute_input": "2022-09-07T12:19:35.796357Z",
     "iopub.status.busy": "2022-09-07T12:19:35.795794Z",
     "iopub.status.idle": "2022-09-07T12:19:35.798065Z",
     "shell.execute_reply": "2022-09-07T12:19:35.797531Z"
    },
    "papermill": {
     "duration": 0.04977,
     "end_time": "2022-09-07T12:19:35.798165",
     "exception": false,
     "start_time": "2022-09-07T12:19:35.748395",
     "status": "completed"
    },
    "tags": []
   },
   "outputs": [],
   "source": [
    "#hide\n",
    "metrics = [df_table.columns[index] for index in [1,2,5,6]]\n",
    "# s_china = df_table[df_table['Country/Region'].eq('China')][metrics].sum().add_prefix('China ')\n",
    "s_us = df_table[df_table['Country/Region'].eq('US')][metrics].sum().add_prefix('US ')\n",
    "s_eu = df_table[df_table['Continent'].eq('Europe')][metrics].sum().add_prefix('EU ')\n",
    "s_ind = df_table[df_table['Country/Region'].eq('India')][metrics].sum().add_prefix('India ')\n",
    "summary = {'updated': pd.to_datetime(dt_today), 'since': pd.to_datetime(dt_yday)}\n",
    "summary = {'updated': pd.to_datetime(dt_today), 'since': pd.to_datetime(dt_yday)}\n",
    "summary = {**summary, **df_table[metrics].sum(), **s_ind, **s_us, **s_eu}"
   ]
  },
  {
   "cell_type": "code",
   "execution_count": 18,
   "id": "engaging-syndrome",
   "metadata": {
    "execution": {
     "iopub.execute_input": "2022-09-07T12:19:35.865620Z",
     "iopub.status.busy": "2022-09-07T12:19:35.865054Z",
     "iopub.status.idle": "2022-09-07T12:19:35.884039Z",
     "shell.execute_reply": "2022-09-07T12:19:35.883584Z"
    },
    "papermill": {
     "duration": 0.054831,
     "end_time": "2022-09-07T12:19:35.884145",
     "exception": false,
     "start_time": "2022-09-07T12:19:35.829314",
     "status": "completed"
    },
    "tags": []
   },
   "outputs": [],
   "source": [
    "#hide\n",
    "dft_ct_new_cases = dft_cases.groupby(COL_REGION)[dt_cols].sum().diff(axis=1).fillna(0).astype(int)"
   ]
  },
  {
   "cell_type": "code",
   "execution_count": 19,
   "id": "neutral-assignment",
   "metadata": {
    "execution": {
     "iopub.execute_input": "2022-09-07T12:19:35.953294Z",
     "iopub.status.busy": "2022-09-07T12:19:35.952706Z",
     "iopub.status.idle": "2022-09-07T12:19:35.955151Z",
     "shell.execute_reply": "2022-09-07T12:19:35.954617Z"
    },
    "papermill": {
     "duration": 0.039356,
     "end_time": "2022-09-07T12:19:35.955251",
     "exception": false,
     "start_time": "2022-09-07T12:19:35.915895",
     "status": "completed"
    },
    "tags": []
   },
   "outputs": [],
   "source": [
    "#hide\n",
    "everydaycases = dft_ct_new_cases.cumsum(axis=1)"
   ]
  },
  {
   "cell_type": "code",
   "execution_count": 20,
   "id": "parliamentary-calgary",
   "metadata": {
    "execution": {
     "iopub.execute_input": "2022-09-07T12:19:36.021660Z",
     "iopub.status.busy": "2022-09-07T12:19:36.021092Z",
     "iopub.status.idle": "2022-09-07T12:19:36.594915Z",
     "shell.execute_reply": "2022-09-07T12:19:36.594414Z"
    },
    "papermill": {
     "duration": 0.608572,
     "end_time": "2022-09-07T12:19:36.595032",
     "exception": false,
     "start_time": "2022-09-07T12:19:35.986460",
     "status": "completed"
    },
    "tags": []
   },
   "outputs": [],
   "source": [
    "#hide\n",
    "import pandas as pd\n",
    "import matplotlib.pyplot as plt\n",
    "import matplotlib.ticker as ticker\n",
    "import matplotlib.animation as animation\n",
    "from IPython.display import HTML"
   ]
  },
  {
   "cell_type": "code",
   "execution_count": 21,
   "id": "lasting-extraction",
   "metadata": {
    "execution": {
     "iopub.execute_input": "2022-09-07T12:19:36.663579Z",
     "iopub.status.busy": "2022-09-07T12:19:36.662994Z",
     "iopub.status.idle": "2022-09-07T12:19:36.669306Z",
     "shell.execute_reply": "2022-09-07T12:19:36.669751Z"
    },
    "papermill": {
     "duration": 0.043723,
     "end_time": "2022-09-07T12:19:36.669869",
     "exception": false,
     "start_time": "2022-09-07T12:19:36.626146",
     "status": "completed"
    },
    "tags": []
   },
   "outputs": [],
   "source": [
    "#hide\n",
    "t = everydaycases.stack()"
   ]
  },
  {
   "cell_type": "code",
   "execution_count": 22,
   "id": "premier-sleeve",
   "metadata": {
    "execution": {
     "iopub.execute_input": "2022-09-07T12:19:36.736287Z",
     "iopub.status.busy": "2022-09-07T12:19:36.735716Z",
     "iopub.status.idle": "2022-09-07T12:19:36.747499Z",
     "shell.execute_reply": "2022-09-07T12:19:36.747027Z"
    },
    "papermill": {
     "duration": 0.046405,
     "end_time": "2022-09-07T12:19:36.747608",
     "exception": false,
     "start_time": "2022-09-07T12:19:36.701203",
     "status": "completed"
    },
    "tags": []
   },
   "outputs": [],
   "source": [
    "#hide\n",
    "g = t.reset_index(['Country/Region'])"
   ]
  },
  {
   "cell_type": "code",
   "execution_count": 23,
   "id": "distributed-pittsburgh",
   "metadata": {
    "execution": {
     "iopub.execute_input": "2022-09-07T12:19:36.813607Z",
     "iopub.status.busy": "2022-09-07T12:19:36.813030Z",
     "iopub.status.idle": "2022-09-07T12:19:36.815512Z",
     "shell.execute_reply": "2022-09-07T12:19:36.814963Z"
    },
    "papermill": {
     "duration": 0.037054,
     "end_time": "2022-09-07T12:19:36.815616",
     "exception": false,
     "start_time": "2022-09-07T12:19:36.778562",
     "status": "completed"
    },
    "tags": []
   },
   "outputs": [],
   "source": [
    "#hide\n",
    "g.index.name = 'date'"
   ]
  },
  {
   "cell_type": "code",
   "execution_count": 24,
   "id": "naked-donor",
   "metadata": {
    "execution": {
     "iopub.execute_input": "2022-09-07T12:19:36.881429Z",
     "iopub.status.busy": "2022-09-07T12:19:36.880857Z",
     "iopub.status.idle": "2022-09-07T12:19:36.884464Z",
     "shell.execute_reply": "2022-09-07T12:19:36.884885Z"
    },
    "papermill": {
     "duration": 0.038181,
     "end_time": "2022-09-07T12:19:36.885010",
     "exception": false,
     "start_time": "2022-09-07T12:19:36.846829",
     "status": "completed"
    },
    "tags": []
   },
   "outputs": [],
   "source": [
    "# #hide\n",
    "# g = g.reset_index(['date'])"
   ]
  },
  {
   "cell_type": "code",
   "execution_count": 25,
   "id": "incomplete-mustang",
   "metadata": {
    "execution": {
     "iopub.execute_input": "2022-09-07T12:19:36.951508Z",
     "iopub.status.busy": "2022-09-07T12:19:36.950911Z",
     "iopub.status.idle": "2022-09-07T12:19:36.952740Z",
     "shell.execute_reply": "2022-09-07T12:19:36.953156Z"
    },
    "papermill": {
     "duration": 0.036603,
     "end_time": "2022-09-07T12:19:36.953276",
     "exception": false,
     "start_time": "2022-09-07T12:19:36.916673",
     "status": "completed"
    },
    "tags": []
   },
   "outputs": [],
   "source": [
    "#hide\n",
    "# g.head()"
   ]
  },
  {
   "cell_type": "code",
   "execution_count": 26,
   "id": "specific-kruger",
   "metadata": {
    "execution": {
     "iopub.execute_input": "2022-09-07T12:19:37.019306Z",
     "iopub.status.busy": "2022-09-07T12:19:37.018733Z",
     "iopub.status.idle": "2022-09-07T12:19:37.020654Z",
     "shell.execute_reply": "2022-09-07T12:19:37.021103Z"
    },
    "papermill": {
     "duration": 0.036712,
     "end_time": "2022-09-07T12:19:37.021221",
     "exception": false,
     "start_time": "2022-09-07T12:19:36.984509",
     "status": "completed"
    },
    "tags": []
   },
   "outputs": [],
   "source": [
    "#hide\n",
    "# g.columns = ['date','country','cases']"
   ]
  },
  {
   "cell_type": "code",
   "execution_count": 27,
   "id": "tender-conversion",
   "metadata": {
    "execution": {
     "iopub.execute_input": "2022-09-07T12:19:37.086988Z",
     "iopub.status.busy": "2022-09-07T12:19:37.086415Z",
     "iopub.status.idle": "2022-09-07T12:19:37.088366Z",
     "shell.execute_reply": "2022-09-07T12:19:37.088783Z"
    },
    "papermill": {
     "duration": 0.036682,
     "end_time": "2022-09-07T12:19:37.088899",
     "exception": false,
     "start_time": "2022-09-07T12:19:37.052217",
     "status": "completed"
    },
    "tags": []
   },
   "outputs": [],
   "source": [
    "#hide\n",
    "# g['continent'] = g.country"
   ]
  },
  {
   "cell_type": "code",
   "execution_count": 28,
   "id": "substantial-wilderness",
   "metadata": {
    "execution": {
     "iopub.execute_input": "2022-09-07T12:19:37.155324Z",
     "iopub.status.busy": "2022-09-07T12:19:37.154748Z",
     "iopub.status.idle": "2022-09-07T12:19:37.156979Z",
     "shell.execute_reply": "2022-09-07T12:19:37.157392Z"
    },
    "papermill": {
     "duration": 0.037166,
     "end_time": "2022-09-07T12:19:37.157513",
     "exception": false,
     "start_time": "2022-09-07T12:19:37.120347",
     "status": "completed"
    },
    "tags": []
   },
   "outputs": [],
   "source": [
    "#hide\n",
    "# cols = list(g.columns.values)"
   ]
  },
  {
   "cell_type": "code",
   "execution_count": 29,
   "id": "solved-farming",
   "metadata": {
    "execution": {
     "iopub.execute_input": "2022-09-07T12:19:37.223112Z",
     "iopub.status.busy": "2022-09-07T12:19:37.222545Z",
     "iopub.status.idle": "2022-09-07T12:19:37.224429Z",
     "shell.execute_reply": "2022-09-07T12:19:37.223909Z"
    },
    "papermill": {
     "duration": 0.036025,
     "end_time": "2022-09-07T12:19:37.224527",
     "exception": false,
     "start_time": "2022-09-07T12:19:37.188502",
     "status": "completed"
    },
    "tags": []
   },
   "outputs": [],
   "source": [
    "#hide\n",
    "# cols.insert(0, cols.pop())"
   ]
  },
  {
   "cell_type": "code",
   "execution_count": 30,
   "id": "executed-adoption",
   "metadata": {
    "execution": {
     "iopub.execute_input": "2022-09-07T12:19:37.290336Z",
     "iopub.status.busy": "2022-09-07T12:19:37.289765Z",
     "iopub.status.idle": "2022-09-07T12:19:37.291675Z",
     "shell.execute_reply": "2022-09-07T12:19:37.291134Z"
    },
    "papermill": {
     "duration": 0.036112,
     "end_time": "2022-09-07T12:19:37.291776",
     "exception": false,
     "start_time": "2022-09-07T12:19:37.255664",
     "status": "completed"
    },
    "tags": []
   },
   "outputs": [],
   "source": [
    "#hide\n",
    "# g = g[cols]"
   ]
  },
  {
   "cell_type": "code",
   "execution_count": 31,
   "id": "subject-dublin",
   "metadata": {
    "execution": {
     "iopub.execute_input": "2022-09-07T12:19:37.357149Z",
     "iopub.status.busy": "2022-09-07T12:19:37.356348Z",
     "iopub.status.idle": "2022-09-07T12:19:37.359264Z",
     "shell.execute_reply": "2022-09-07T12:19:37.359731Z"
    },
    "papermill": {
     "duration": 0.037007,
     "end_time": "2022-09-07T12:19:37.359855",
     "exception": false,
     "start_time": "2022-09-07T12:19:37.322848",
     "status": "completed"
    },
    "tags": []
   },
   "outputs": [],
   "source": [
    "#hide\n",
    "# g['continent'] = g['continent'].map(mapping['map.continent'])"
   ]
  },
  {
   "cell_type": "code",
   "execution_count": 32,
   "id": "freelance-scout",
   "metadata": {
    "execution": {
     "iopub.execute_input": "2022-09-07T12:19:37.426313Z",
     "iopub.status.busy": "2022-09-07T12:19:37.425747Z",
     "iopub.status.idle": "2022-09-07T12:19:37.427656Z",
     "shell.execute_reply": "2022-09-07T12:19:37.428077Z"
    },
    "papermill": {
     "duration": 0.037091,
     "end_time": "2022-09-07T12:19:37.428191",
     "exception": false,
     "start_time": "2022-09-07T12:19:37.391100",
     "status": "completed"
    },
    "tags": []
   },
   "outputs": [],
   "source": [
    "#hide\n",
    "# g.head()"
   ]
  },
  {
   "cell_type": "code",
   "execution_count": 33,
   "id": "limited-engine",
   "metadata": {
    "execution": {
     "iopub.execute_input": "2022-09-07T12:19:37.494429Z",
     "iopub.status.busy": "2022-09-07T12:19:37.493853Z",
     "iopub.status.idle": "2022-09-07T12:19:37.497509Z",
     "shell.execute_reply": "2022-09-07T12:19:37.497935Z"
    },
    "papermill": {
     "duration": 0.038656,
     "end_time": "2022-09-07T12:19:37.498063",
     "exception": false,
     "start_time": "2022-09-07T12:19:37.459407",
     "status": "completed"
    },
    "tags": []
   },
   "outputs": [],
   "source": [
    "# hide\n",
    "# g['date'] = g['date'].astype('datetime64[ns]')"
   ]
  },
  {
   "cell_type": "code",
   "execution_count": 34,
   "id": "sophisticated-supervisor",
   "metadata": {
    "execution": {
     "iopub.execute_input": "2022-09-07T12:19:37.564658Z",
     "iopub.status.busy": "2022-09-07T12:19:37.564079Z",
     "iopub.status.idle": "2022-09-07T12:19:37.566176Z",
     "shell.execute_reply": "2022-09-07T12:19:37.565655Z"
    },
    "papermill": {
     "duration": 0.03695,
     "end_time": "2022-09-07T12:19:37.566279",
     "exception": false,
     "start_time": "2022-09-07T12:19:37.529329",
     "status": "completed"
    },
    "tags": []
   },
   "outputs": [],
   "source": [
    "#hide\n",
    "# g['date'] = g.date.dt.dayofyear"
   ]
  },
  {
   "cell_type": "code",
   "execution_count": 35,
   "id": "inside-dubai",
   "metadata": {
    "execution": {
     "iopub.execute_input": "2022-09-07T12:19:37.632363Z",
     "iopub.status.busy": "2022-09-07T12:19:37.631789Z",
     "iopub.status.idle": "2022-09-07T12:19:37.634251Z",
     "shell.execute_reply": "2022-09-07T12:19:37.633600Z"
    },
    "papermill": {
     "duration": 0.036992,
     "end_time": "2022-09-07T12:19:37.634354",
     "exception": false,
     "start_time": "2022-09-07T12:19:37.597362",
     "status": "completed"
    },
    "tags": []
   },
   "outputs": [],
   "source": [
    "#hide\n",
    "# g = g.rename(columns= {'continent':'group','country':'name','cases':'value'})"
   ]
  },
  {
   "cell_type": "code",
   "execution_count": 36,
   "id": "fleet-motorcycle",
   "metadata": {
    "execution": {
     "iopub.execute_input": "2022-09-07T12:19:37.701623Z",
     "iopub.status.busy": "2022-09-07T12:19:37.701054Z",
     "iopub.status.idle": "2022-09-07T12:19:37.703288Z",
     "shell.execute_reply": "2022-09-07T12:19:37.702765Z"
    },
    "papermill": {
     "duration": 0.037064,
     "end_time": "2022-09-07T12:19:37.703406",
     "exception": false,
     "start_time": "2022-09-07T12:19:37.666342",
     "status": "completed"
    },
    "tags": []
   },
   "outputs": [],
   "source": [
    "#hide\n",
    "# cols = ['name','group','day','value']"
   ]
  },
  {
   "cell_type": "code",
   "execution_count": 37,
   "id": "continued-sleeping",
   "metadata": {
    "execution": {
     "iopub.execute_input": "2022-09-07T12:19:37.769008Z",
     "iopub.status.busy": "2022-09-07T12:19:37.768430Z",
     "iopub.status.idle": "2022-09-07T12:19:37.770362Z",
     "shell.execute_reply": "2022-09-07T12:19:37.771372Z"
    },
    "papermill": {
     "duration": 0.037057,
     "end_time": "2022-09-07T12:19:37.771498",
     "exception": false,
     "start_time": "2022-09-07T12:19:37.734441",
     "status": "completed"
    },
    "tags": []
   },
   "outputs": [],
   "source": [
    "#hide\n",
    "# g.rename(columns= {'date':'day'},inplace = True)"
   ]
  },
  {
   "cell_type": "code",
   "execution_count": 38,
   "id": "major-fight",
   "metadata": {
    "execution": {
     "iopub.execute_input": "2022-09-07T12:19:37.837651Z",
     "iopub.status.busy": "2022-09-07T12:19:37.837084Z",
     "iopub.status.idle": "2022-09-07T12:19:37.838936Z",
     "shell.execute_reply": "2022-09-07T12:19:37.838420Z"
    },
    "papermill": {
     "duration": 0.036177,
     "end_time": "2022-09-07T12:19:37.839037",
     "exception": false,
     "start_time": "2022-09-07T12:19:37.802860",
     "status": "completed"
    },
    "tags": []
   },
   "outputs": [],
   "source": [
    "#hide\n",
    "# g = g[cols]"
   ]
  },
  {
   "cell_type": "code",
   "execution_count": 39,
   "id": "structured-mobile",
   "metadata": {
    "execution": {
     "iopub.execute_input": "2022-09-07T12:19:37.904991Z",
     "iopub.status.busy": "2022-09-07T12:19:37.904405Z",
     "iopub.status.idle": "2022-09-07T12:19:37.906282Z",
     "shell.execute_reply": "2022-09-07T12:19:37.905763Z"
    },
    "papermill": {
     "duration": 0.036295,
     "end_time": "2022-09-07T12:19:37.906382",
     "exception": false,
     "start_time": "2022-09-07T12:19:37.870087",
     "status": "completed"
    },
    "tags": []
   },
   "outputs": [],
   "source": [
    "# #hide\n",
    "# g = g[g.group.notna()]"
   ]
  },
  {
   "cell_type": "code",
   "execution_count": 40,
   "id": "determined-closing",
   "metadata": {
    "execution": {
     "iopub.execute_input": "2022-09-07T12:19:37.973340Z",
     "iopub.status.busy": "2022-09-07T12:19:37.972749Z",
     "iopub.status.idle": "2022-09-07T12:19:37.974675Z",
     "shell.execute_reply": "2022-09-07T12:19:37.975103Z"
    },
    "papermill": {
     "duration": 0.037024,
     "end_time": "2022-09-07T12:19:37.975222",
     "exception": false,
     "start_time": "2022-09-07T12:19:37.938198",
     "status": "completed"
    },
    "tags": []
   },
   "outputs": [],
   "source": [
    "# #hide\n",
    "# colors = dict(zip(\n",
    "#     [\"Oceania\", \"Europe\", \"Asia\", \"South America\", \"Middle East\", \"North America\", \"Africa\"],\n",
    "#     [\"#adb0ff\", \"#ffb3ff\", \"#90d595\", \"#e48381\", \"#aafbff\", \"#f7bb5f\", \"#eafb50\"]\n",
    "# ))\n",
    "# group_lk = g.set_index('name')['group'].to_dict()"
   ]
  },
  {
   "cell_type": "code",
   "execution_count": null,
   "id": "gross-drinking",
   "metadata": {
    "papermill": {
     "duration": 0.031035,
     "end_time": "2022-09-07T12:19:38.037350",
     "exception": false,
     "start_time": "2022-09-07T12:19:38.006315",
     "status": "completed"
    },
    "tags": []
   },
   "outputs": [],
   "source": []
  },
  {
   "cell_type": "code",
   "execution_count": 41,
   "id": "subject-macintosh",
   "metadata": {
    "execution": {
     "iopub.execute_input": "2022-09-07T12:19:38.104196Z",
     "iopub.status.busy": "2022-09-07T12:19:38.103597Z",
     "iopub.status.idle": "2022-09-07T12:19:38.106019Z",
     "shell.execute_reply": "2022-09-07T12:19:38.105575Z"
    },
    "papermill": {
     "duration": 0.037672,
     "end_time": "2022-09-07T12:19:38.106120",
     "exception": false,
     "start_time": "2022-09-07T12:19:38.068448",
     "status": "completed"
    },
    "tags": []
   },
   "outputs": [],
   "source": [
    "# #hide\n",
    "# fig, ax = plt.subplots(figsize=(15, 8))\n",
    "\n",
    "# def draw_barchart(current_day):\n",
    "#     dff = g[g['day'].eq(current_day)].sort_values(by='value', ascending=True).tail(10)\n",
    "#     ax.clear()\n",
    "#     ax.barh(dff['name'], dff['value'], color=[colors[group_lk[x]] for x in dff['name']])\n",
    "#     dx = dff['value'].max() / 200\n",
    "    \n",
    "#     for i, (value, name) in enumerate(zip(dff['value'], dff['name'])):\n",
    "#         ax.text(value-dx, i,     name,           size=14, weight=600, ha='right', va='bottom')\n",
    "#         ax.text(value-dx, i-.25, group_lk[name], size=10, color='#444444', ha='right', va='baseline')\n",
    "#         ax.text(value+dx, i,     f'{value:,.0f}',  size=14, ha='left',  va='center')\n",
    "#     ax.text(1, 0.4, current_day, transform=ax.transAxes, color='#777777', size=46, ha='right', weight=800)\n",
    "#     ax.text(0, 1.06, 'Population (thousands)', transform=ax.transAxes, size=12, color='#777777')\n",
    "#     ax.xaxis.set_major_formatter(ticker.StrMethodFormatter('{x:,.0f}'))\n",
    "#     ax.xaxis.set_ticks_position('top')\n",
    "#     ax.tick_params(axis='x', colors='#777777', labelsize=12)\n",
    "#     ax.set_yticks([])\n",
    "#     ax.margins(0, 0.01)\n",
    "#     ax.grid(which='major', axis='x', linestyle='-')\n",
    "#     ax.set_axisbelow(True)\n",
    "    \n",
    "#     ax.text(0, 1.15, 'Coronavirus',\n",
    "#             transform=ax.transAxes, size=24, weight=600, ha='left', va='top')\n",
    "# #     ax.text(1, 0, 'by @pratapvardhan; credit @jburnmurdoch', transform=ax.transAxes, color='#777777', ha='right',\n",
    "# #             bbox=dict(facecolor='white', alpha=0.8, edgecolor='white'))\n",
    "#     plt.box(False)"
   ]
  },
  {
   "cell_type": "code",
   "execution_count": 42,
   "id": "sexual-wages",
   "metadata": {
    "execution": {
     "iopub.execute_input": "2022-09-07T12:19:38.172292Z",
     "iopub.status.busy": "2022-09-07T12:19:38.171724Z",
     "iopub.status.idle": "2022-09-07T12:19:38.174216Z",
     "shell.execute_reply": "2022-09-07T12:19:38.173743Z"
    },
    "papermill": {
     "duration": 0.036834,
     "end_time": "2022-09-07T12:19:38.174318",
     "exception": false,
     "start_time": "2022-09-07T12:19:38.137484",
     "status": "completed"
    },
    "tags": []
   },
   "outputs": [],
   "source": [
    "# #hide_input\n",
    "# fig, ax = plt.subplots(figsize=(15, 8))\n",
    "# animator = animation.FuncAnimation(fig, draw_barchart, frames=range(g.day.values.min(), g.day.values.max()))\n",
    "# HTML(animator.to_jshtml())\n",
    "# # or use animator.to_html5_video() or animator.save() "
   ]
  },
  {
   "cell_type": "code",
   "execution_count": null,
   "id": "australian-container",
   "metadata": {
    "papermill": {
     "duration": 0.030946,
     "end_time": "2022-09-07T12:19:38.236507",
     "exception": false,
     "start_time": "2022-09-07T12:19:38.205561",
     "status": "completed"
    },
    "tags": []
   },
   "outputs": [],
   "source": []
  },
  {
   "cell_type": "code",
   "execution_count": null,
   "id": "mediterranean-pontiac",
   "metadata": {
    "papermill": {
     "duration": 0.030978,
     "end_time": "2022-09-07T12:19:38.298478",
     "exception": false,
     "start_time": "2022-09-07T12:19:38.267500",
     "status": "completed"
    },
    "tags": []
   },
   "outputs": [],
   "source": []
  },
  {
   "cell_type": "code",
   "execution_count": null,
   "id": "aging-legislature",
   "metadata": {
    "papermill": {
     "duration": 0.030798,
     "end_time": "2022-09-07T12:19:38.360365",
     "exception": false,
     "start_time": "2022-09-07T12:19:38.329567",
     "status": "completed"
    },
    "tags": []
   },
   "outputs": [],
   "source": []
  }
 ],
 "metadata": {
  "kernelspec": {
   "display_name": "Python 3",
   "language": "python",
   "name": "python3"
  },
  "language_info": {
   "codemirror_mode": {
    "name": "ipython",
    "version": 3
   },
   "file_extension": ".py",
   "mimetype": "text/x-python",
   "name": "python",
   "nbconvert_exporter": "python",
   "pygments_lexer": "ipython3",
   "version": "3.6.15"
  },
  "papermill": {
   "duration": 6.084176,
   "end_time": "2022-09-07T12:19:38.708638",
   "environment_variables": {},
   "exception": null,
   "input_path": "2020-03-21-covid19exp.ipynb",
   "output_path": "2020-03-21-covid19exp.ipynb",
   "parameters": {},
   "start_time": "2022-09-07T12:19:32.624462",
   "version": "2.0.0"
  }
 },
 "nbformat": 4,
 "nbformat_minor": 5
}