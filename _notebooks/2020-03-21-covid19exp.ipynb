{
 "cells": [
  {
   "cell_type": "markdown",
   "id": "muslim-click",
   "metadata": {
    "papermill": {
     "duration": 0.038552,
     "end_time": "2021-05-28T00:38:06.365252",
     "exception": false,
     "start_time": "2021-05-28T00:38:06.326700",
     "status": "completed"
    },
    "tags": []
   },
   "source": [
    "# COVID-19 Case Race\n",
    "> A race chart to see rising cases around the world\n",
    "\n",
    "- author: Hargun Oberoi\n",
    "- image: images/covid-overview.png\n",
    "- hide: false\n",
    "- badges: false"
   ]
  },
  {
   "cell_type": "code",
   "execution_count": 1,
   "id": "proof-material",
   "metadata": {
    "execution": {
     "iopub.execute_input": "2021-05-28T00:38:06.449306Z",
     "iopub.status.busy": "2021-05-28T00:38:06.448759Z",
     "iopub.status.idle": "2021-05-28T00:38:06.833643Z",
     "shell.execute_reply": "2021-05-28T00:38:06.833080Z"
    },
    "papermill": {
     "duration": 0.433001,
     "end_time": "2021-05-28T00:38:06.833791",
     "exception": false,
     "start_time": "2021-05-28T00:38:06.400790",
     "status": "completed"
    },
    "tags": []
   },
   "outputs": [],
   "source": [
    "#hide\n",
    "import numpy as np\n",
    "import pandas as pd\n",
    "from jinja2 import Template\n",
    "from IPython.display import HTML"
   ]
  },
  {
   "cell_type": "code",
   "execution_count": 2,
   "id": "developed-terminology",
   "metadata": {
    "execution": {
     "iopub.execute_input": "2021-05-28T00:38:06.913771Z",
     "iopub.status.busy": "2021-05-28T00:38:06.913185Z",
     "iopub.status.idle": "2021-05-28T00:38:06.915697Z",
     "shell.execute_reply": "2021-05-28T00:38:06.915232Z"
    },
    "papermill": {
     "duration": 0.042998,
     "end_time": "2021-05-28T00:38:06.915807",
     "exception": false,
     "start_time": "2021-05-28T00:38:06.872809",
     "status": "completed"
    },
    "tags": []
   },
   "outputs": [],
   "source": [
    "#hide\n",
    "\n",
    "# FETCH\n",
    "base_url = 'https://raw.githubusercontent.com/pratapvardhan/notebooks/master/covid19/'\n",
    "paths = {\n",
    "    'mapping': base_url + 'mapping_countries.csv',\n",
    "    'overview': base_url + 'overview.tpl'\n",
    "}"
   ]
  },
  {
   "cell_type": "code",
   "execution_count": 3,
   "id": "dynamic-saver",
   "metadata": {
    "execution": {
     "iopub.execute_input": "2021-05-28T00:38:07.000741Z",
     "iopub.status.busy": "2021-05-28T00:38:07.000165Z",
     "iopub.status.idle": "2021-05-28T00:38:07.003091Z",
     "shell.execute_reply": "2021-05-28T00:38:07.003684Z"
    },
    "papermill": {
     "duration": 0.051186,
     "end_time": "2021-05-28T00:38:07.003816",
     "exception": false,
     "start_time": "2021-05-28T00:38:06.952630",
     "status": "completed"
    },
    "tags": []
   },
   "outputs": [
    {
     "data": {
      "text/plain": [
       "'https://raw.githubusercontent.com/pratapvardhan/notebooks/master/covid19/mapping_countries.csv'"
      ]
     },
     "execution_count": 3,
     "metadata": {},
     "output_type": "execute_result"
    }
   ],
   "source": [
    "#hide\n",
    "paths['mapping']"
   ]
  },
  {
   "cell_type": "code",
   "execution_count": 4,
   "id": "urban-software",
   "metadata": {
    "execution": {
     "iopub.execute_input": "2021-05-28T00:38:07.084340Z",
     "iopub.status.busy": "2021-05-28T00:38:07.083772Z",
     "iopub.status.idle": "2021-05-28T00:38:07.085931Z",
     "shell.execute_reply": "2021-05-28T00:38:07.085414Z"
    },
    "papermill": {
     "duration": 0.045862,
     "end_time": "2021-05-28T00:38:07.086045",
     "exception": false,
     "start_time": "2021-05-28T00:38:07.040183",
     "status": "completed"
    },
    "tags": []
   },
   "outputs": [],
   "source": [
    "#hide\n",
    "def get_mappings(url):\n",
    "    df = pd.read_csv(url)\n",
    "    return {\n",
    "        'df': df,\n",
    "        'replace.country': dict(df.dropna(subset=['Name']).set_index('Country')['Name']),\n",
    "        'map.continent': dict(df.set_index('Name')['Continent'])\n",
    "    }"
   ]
  },
  {
   "cell_type": "code",
   "execution_count": 5,
   "id": "intimate-machinery",
   "metadata": {
    "execution": {
     "iopub.execute_input": "2021-05-28T00:38:07.160821Z",
     "iopub.status.busy": "2021-05-28T00:38:07.160251Z",
     "iopub.status.idle": "2021-05-28T00:38:07.199502Z",
     "shell.execute_reply": "2021-05-28T00:38:07.199008Z"
    },
    "papermill": {
     "duration": 0.079456,
     "end_time": "2021-05-28T00:38:07.199623",
     "exception": false,
     "start_time": "2021-05-28T00:38:07.120167",
     "status": "completed"
    },
    "tags": []
   },
   "outputs": [],
   "source": [
    "#hide\n",
    "mapping = get_mappings(paths['mapping'])"
   ]
  },
  {
   "cell_type": "code",
   "execution_count": 6,
   "id": "certified-tactics",
   "metadata": {
    "execution": {
     "iopub.execute_input": "2021-05-28T00:38:07.278106Z",
     "iopub.status.busy": "2021-05-28T00:38:07.277426Z",
     "iopub.status.idle": "2021-05-28T00:38:07.280817Z",
     "shell.execute_reply": "2021-05-28T00:38:07.280333Z"
    },
    "papermill": {
     "duration": 0.046006,
     "end_time": "2021-05-28T00:38:07.280927",
     "exception": false,
     "start_time": "2021-05-28T00:38:07.234921",
     "status": "completed"
    },
    "tags": []
   },
   "outputs": [],
   "source": [
    "#hide\n",
    "def get_template(path):\n",
    "    from urllib.parse import urlparse\n",
    "    if bool(urlparse(path).netloc):\n",
    "        from urllib.request import urlopen\n",
    "        return urlopen(path).read().decode('utf8')\n",
    "    return open(path).read()"
   ]
  },
  {
   "cell_type": "code",
   "execution_count": 7,
   "id": "realistic-blast",
   "metadata": {
    "execution": {
     "iopub.execute_input": "2021-05-28T00:38:07.363130Z",
     "iopub.status.busy": "2021-05-28T00:38:07.362547Z",
     "iopub.status.idle": "2021-05-28T00:38:07.365129Z",
     "shell.execute_reply": "2021-05-28T00:38:07.364646Z"
    },
    "papermill": {
     "duration": 0.045178,
     "end_time": "2021-05-28T00:38:07.365239",
     "exception": false,
     "start_time": "2021-05-28T00:38:07.320061",
     "status": "completed"
    },
    "tags": []
   },
   "outputs": [],
   "source": [
    "#hide\n",
    "def get_frame(name):\n",
    "    url = (\n",
    "        'https://raw.githubusercontent.com/CSSEGISandData/COVID-19/master/csse_covid_19_data/'\n",
    "        f'csse_covid_19_time_series/time_series_covid19_{name}_global.csv')\n",
    "    df = pd.read_csv(url)\n",
    "    # rename countries\n",
    "    df['Country/Region'] = df['Country/Region'].replace(mapping['replace.country'])\n",
    "    return df"
   ]
  },
  {
   "cell_type": "code",
   "execution_count": 8,
   "id": "affiliated-characterization",
   "metadata": {
    "execution": {
     "iopub.execute_input": "2021-05-28T00:38:07.441236Z",
     "iopub.status.busy": "2021-05-28T00:38:07.440574Z",
     "iopub.status.idle": "2021-05-28T00:38:07.443110Z",
     "shell.execute_reply": "2021-05-28T00:38:07.442665Z"
    },
    "papermill": {
     "duration": 0.042134,
     "end_time": "2021-05-28T00:38:07.443214",
     "exception": false,
     "start_time": "2021-05-28T00:38:07.401080",
     "status": "completed"
    },
    "tags": []
   },
   "outputs": [],
   "source": [
    "#hide\n",
    "def get_dates(df):\n",
    "    dt_cols = df.columns[~df.columns.isin(['Province/State', 'Country/Region', 'Lat', 'Long'])]\n",
    "    LAST_DATE_I = -1\n",
    "    # sometimes last column may be empty, then go backwards\n",
    "    for i in range(-1, -len(dt_cols), -1):\n",
    "        if not df[dt_cols[i]].fillna(0).eq(0).all():\n",
    "            LAST_DATE_I = i\n",
    "            break\n",
    "    return LAST_DATE_I, dt_cols"
   ]
  },
  {
   "cell_type": "code",
   "execution_count": 9,
   "id": "recent-optimization",
   "metadata": {
    "execution": {
     "iopub.execute_input": "2021-05-28T00:38:07.520090Z",
     "iopub.status.busy": "2021-05-28T00:38:07.519466Z",
     "iopub.status.idle": "2021-05-28T00:38:07.921466Z",
     "shell.execute_reply": "2021-05-28T00:38:07.922017Z"
    },
    "papermill": {
     "duration": 0.443392,
     "end_time": "2021-05-28T00:38:07.922171",
     "exception": false,
     "start_time": "2021-05-28T00:38:07.478779",
     "status": "completed"
    },
    "tags": []
   },
   "outputs": [],
   "source": [
    "#hide\n",
    "COL_REGION = 'Country/Region'\n",
    "# Confirmed, Recovered, Deaths\n",
    "df = get_frame('confirmed')\n",
    "# dft_: timeseries, dfc_: today country agg\n",
    "dft_cases = df\n",
    "dft_deaths = get_frame('deaths')\n",
    "dft_recovered = get_frame('recovered')\n",
    "LAST_DATE_I, dt_cols = get_dates(df)"
   ]
  },
  {
   "cell_type": "code",
   "execution_count": 10,
   "id": "absolute-copper",
   "metadata": {
    "execution": {
     "iopub.execute_input": "2021-05-28T00:38:08.003212Z",
     "iopub.status.busy": "2021-05-28T00:38:08.002562Z",
     "iopub.status.idle": "2021-05-28T00:38:08.004698Z",
     "shell.execute_reply": "2021-05-28T00:38:08.005316Z"
    },
    "papermill": {
     "duration": 0.044788,
     "end_time": "2021-05-28T00:38:08.005445",
     "exception": false,
     "start_time": "2021-05-28T00:38:07.960657",
     "status": "completed"
    },
    "tags": []
   },
   "outputs": [],
   "source": [
    "#hide\n",
    "LAST_DATE_I, dt_cols = get_dates(df)\n",
    "dt_today =dt_cols[LAST_DATE_I]\n",
    "# dt_5day = dt_cols[LAST_DATE_I - 5]\n",
    "dt_yday = dt_cols[LAST_DATE_I - 1]"
   ]
  },
  {
   "cell_type": "code",
   "execution_count": 11,
   "id": "restricted-sheriff",
   "metadata": {
    "execution": {
     "iopub.execute_input": "2021-05-28T00:38:08.085043Z",
     "iopub.status.busy": "2021-05-28T00:38:08.084425Z",
     "iopub.status.idle": "2021-05-28T00:38:08.093421Z",
     "shell.execute_reply": "2021-05-28T00:38:08.092835Z"
    },
    "papermill": {
     "duration": 0.053339,
     "end_time": "2021-05-28T00:38:08.093539",
     "exception": false,
     "start_time": "2021-05-28T00:38:08.040200",
     "status": "completed"
    },
    "tags": []
   },
   "outputs": [],
   "source": [
    "#hide\n",
    "dfc_cases = dft_cases.groupby(COL_REGION)[dt_today].sum()\n",
    "dfc_deaths = dft_deaths.groupby(COL_REGION)[dt_today].sum()\n",
    "# dfp_cases = dft_cases.groupby(COL_REGION)[dt_5day].sum()\n",
    "# dfp_deaths = dft_deaths.groupby(COL_REGION)[dt_5day].sum()\n",
    "dfp_cases = dft_cases.groupby(COL_REGION)[dt_yday].sum()\n",
    "dfp_deaths = dft_deaths.groupby(COL_REGION)[dt_yday].sum()"
   ]
  },
  {
   "cell_type": "code",
   "execution_count": 12,
   "id": "deluxe-hepatitis",
   "metadata": {
    "execution": {
     "iopub.execute_input": "2021-05-28T00:38:08.172656Z",
     "iopub.status.busy": "2021-05-28T00:38:08.171633Z",
     "iopub.status.idle": "2021-05-28T00:38:08.177980Z",
     "shell.execute_reply": "2021-05-28T00:38:08.178663Z"
    },
    "papermill": {
     "duration": 0.048372,
     "end_time": "2021-05-28T00:38:08.178800",
     "exception": false,
     "start_time": "2021-05-28T00:38:08.130428",
     "status": "completed"
    },
    "tags": []
   },
   "outputs": [],
   "source": [
    "#hide\n",
    "df_table = (pd.DataFrame(dict(Cases = dfc_cases, Deaths = dfc_deaths, PCases = dfp_cases, PDeaths = dfp_deaths))\n",
    "            .sort_values(by = ['Cases','Deaths'], ascending = [False, False])\n",
    "            .reset_index())"
   ]
  },
  {
   "cell_type": "code",
   "execution_count": 13,
   "id": "educational-chancellor",
   "metadata": {
    "execution": {
     "iopub.execute_input": "2021-05-28T00:38:08.272584Z",
     "iopub.status.busy": "2021-05-28T00:38:08.271999Z",
     "iopub.status.idle": "2021-05-28T00:38:08.279772Z",
     "shell.execute_reply": "2021-05-28T00:38:08.280359Z"
    },
    "papermill": {
     "duration": 0.065982,
     "end_time": "2021-05-28T00:38:08.280561",
     "exception": false,
     "start_time": "2021-05-28T00:38:08.214579",
     "status": "completed"
    },
    "tags": []
   },
   "outputs": [
    {
     "data": {
      "text/html": [
       "<div>\n",
       "<style scoped>\n",
       "    .dataframe tbody tr th:only-of-type {\n",
       "        vertical-align: middle;\n",
       "    }\n",
       "\n",
       "    .dataframe tbody tr th {\n",
       "        vertical-align: top;\n",
       "    }\n",
       "\n",
       "    .dataframe thead th {\n",
       "        text-align: right;\n",
       "    }\n",
       "</style>\n",
       "<table border=\"1\" class=\"dataframe\">\n",
       "  <thead>\n",
       "    <tr style=\"text-align: right;\">\n",
       "      <th></th>\n",
       "      <th>Country/Region</th>\n",
       "      <th>Cases</th>\n",
       "      <th>Deaths</th>\n",
       "      <th>PCases</th>\n",
       "      <th>PDeaths</th>\n",
       "      <th>Cases (+)</th>\n",
       "      <th>Deaths (+)</th>\n",
       "      <th>Fatality Rate</th>\n",
       "      <th>Continent</th>\n",
       "    </tr>\n",
       "  </thead>\n",
       "  <tbody>\n",
       "    <tr>\n",
       "      <th>0</th>\n",
       "      <td>US</td>\n",
       "      <td>33190470</td>\n",
       "      <td>591950</td>\n",
       "      <td>33166418</td>\n",
       "      <td>590941</td>\n",
       "      <td>24052</td>\n",
       "      <td>1009</td>\n",
       "      <td>1.78</td>\n",
       "      <td>North America</td>\n",
       "    </tr>\n",
       "    <tr>\n",
       "      <th>1</th>\n",
       "      <td>India</td>\n",
       "      <td>27369093</td>\n",
       "      <td>315235</td>\n",
       "      <td>27157795</td>\n",
       "      <td>311388</td>\n",
       "      <td>211298</td>\n",
       "      <td>3847</td>\n",
       "      <td>1.15</td>\n",
       "      <td>Asia</td>\n",
       "    </tr>\n",
       "    <tr>\n",
       "      <th>2</th>\n",
       "      <td>Brazil</td>\n",
       "      <td>16274695</td>\n",
       "      <td>454429</td>\n",
       "      <td>16194209</td>\n",
       "      <td>452031</td>\n",
       "      <td>80486</td>\n",
       "      <td>2398</td>\n",
       "      <td>2.79</td>\n",
       "      <td>South America</td>\n",
       "    </tr>\n",
       "    <tr>\n",
       "      <th>3</th>\n",
       "      <td>France</td>\n",
       "      <td>5683143</td>\n",
       "      <td>109185</td>\n",
       "      <td>5670486</td>\n",
       "      <td>109040</td>\n",
       "      <td>12657</td>\n",
       "      <td>145</td>\n",
       "      <td>1.92</td>\n",
       "      <td>Europe</td>\n",
       "    </tr>\n",
       "    <tr>\n",
       "      <th>4</th>\n",
       "      <td>Turkey</td>\n",
       "      <td>5212123</td>\n",
       "      <td>46787</td>\n",
       "      <td>5203385</td>\n",
       "      <td>46621</td>\n",
       "      <td>8738</td>\n",
       "      <td>166</td>\n",
       "      <td>0.90</td>\n",
       "      <td>Asia</td>\n",
       "    </tr>\n",
       "  </tbody>\n",
       "</table>\n",
       "</div>"
      ],
      "text/plain": [
       "  Country/Region     Cases  Deaths    PCases  PDeaths  Cases (+)  Deaths (+)  \\\n",
       "0             US  33190470  591950  33166418   590941      24052        1009   \n",
       "1          India  27369093  315235  27157795   311388     211298        3847   \n",
       "2         Brazil  16274695  454429  16194209   452031      80486        2398   \n",
       "3         France   5683143  109185   5670486   109040      12657         145   \n",
       "4         Turkey   5212123   46787   5203385    46621       8738         166   \n",
       "\n",
       "   Fatality Rate      Continent  \n",
       "0           1.78  North America  \n",
       "1           1.15           Asia  \n",
       "2           2.79  South America  \n",
       "3           1.92         Europe  \n",
       "4           0.90           Asia  "
      ]
     },
     "execution_count": 13,
     "metadata": {},
     "output_type": "execute_result"
    }
   ],
   "source": [
    "#hide\n",
    "for c in 'Cases, Deaths'.split(', '):\n",
    "    df_table[f'{c} (+)'] = (df_table[c] - df_table[f'P{c}']).clip(0)\n",
    "    #Clip ça veut dire, les chiffres negatif sont interdit\n",
    "df_table['Fatality Rate'] = (100* df_table['Deaths']/ df_table['Cases']).round(2)\n",
    "df_table['Continent'] = df_table['Country/Region'].map(mapping['map.continent'])\n",
    "df_table.head(5)"
   ]
  },
  {
   "cell_type": "code",
   "execution_count": 14,
   "id": "aboriginal-bulgaria",
   "metadata": {
    "execution": {
     "iopub.execute_input": "2021-05-28T00:38:08.358332Z",
     "iopub.status.busy": "2021-05-28T00:38:08.357602Z",
     "iopub.status.idle": "2021-05-28T00:38:08.359828Z",
     "shell.execute_reply": "2021-05-28T00:38:08.360344Z"
    },
    "papermill": {
     "duration": 0.043836,
     "end_time": "2021-05-28T00:38:08.360465",
     "exception": false,
     "start_time": "2021-05-28T00:38:08.316629",
     "status": "completed"
    },
    "tags": []
   },
   "outputs": [],
   "source": [
    "#hide\n",
    "#delete problematic countries from table\n",
    "df_table = df_table[~df_table['Country/Region'].isin(['Cape Verde', 'Cruise Ship', 'Kosovo'])]"
   ]
  },
  {
   "cell_type": "code",
   "execution_count": 15,
   "id": "fantastic-effect",
   "metadata": {
    "execution": {
     "iopub.execute_input": "2021-05-28T00:38:08.442538Z",
     "iopub.status.busy": "2021-05-28T00:38:08.441947Z",
     "iopub.status.idle": "2021-05-28T00:38:08.464036Z",
     "shell.execute_reply": "2021-05-28T00:38:08.463588Z"
    },
    "papermill": {
     "duration": 0.066902,
     "end_time": "2021-05-28T00:38:08.464145",
     "exception": false,
     "start_time": "2021-05-28T00:38:08.397243",
     "status": "completed"
    },
    "tags": []
   },
   "outputs": [
    {
     "data": {
      "text/html": [
       "<div>\n",
       "<style scoped>\n",
       "    .dataframe tbody tr th:only-of-type {\n",
       "        vertical-align: middle;\n",
       "    }\n",
       "\n",
       "    .dataframe tbody tr th {\n",
       "        vertical-align: top;\n",
       "    }\n",
       "\n",
       "    .dataframe thead th {\n",
       "        text-align: right;\n",
       "    }\n",
       "</style>\n",
       "<table border=\"1\" class=\"dataframe\">\n",
       "  <thead>\n",
       "    <tr style=\"text-align: right;\">\n",
       "      <th></th>\n",
       "      <th>Country/Region</th>\n",
       "      <th>Cases</th>\n",
       "      <th>Deaths</th>\n",
       "      <th>PCases</th>\n",
       "      <th>PDeaths</th>\n",
       "      <th>Cases (+)</th>\n",
       "      <th>Deaths (+)</th>\n",
       "      <th>Fatality Rate</th>\n",
       "      <th>Continent</th>\n",
       "    </tr>\n",
       "  </thead>\n",
       "  <tbody>\n",
       "    <tr>\n",
       "      <th>0</th>\n",
       "      <td>US</td>\n",
       "      <td>33190470</td>\n",
       "      <td>591950</td>\n",
       "      <td>33166418</td>\n",
       "      <td>590941</td>\n",
       "      <td>24052</td>\n",
       "      <td>1009</td>\n",
       "      <td>1.8</td>\n",
       "      <td>North America</td>\n",
       "    </tr>\n",
       "    <tr>\n",
       "      <th>1</th>\n",
       "      <td>India</td>\n",
       "      <td>27369093</td>\n",
       "      <td>315235</td>\n",
       "      <td>27157795</td>\n",
       "      <td>311388</td>\n",
       "      <td>211298</td>\n",
       "      <td>3847</td>\n",
       "      <td>1.2</td>\n",
       "      <td>Asia</td>\n",
       "    </tr>\n",
       "    <tr>\n",
       "      <th>2</th>\n",
       "      <td>Brazil</td>\n",
       "      <td>16274695</td>\n",
       "      <td>454429</td>\n",
       "      <td>16194209</td>\n",
       "      <td>452031</td>\n",
       "      <td>80486</td>\n",
       "      <td>2398</td>\n",
       "      <td>2.8</td>\n",
       "      <td>South America</td>\n",
       "    </tr>\n",
       "    <tr>\n",
       "      <th>3</th>\n",
       "      <td>France</td>\n",
       "      <td>5683143</td>\n",
       "      <td>109185</td>\n",
       "      <td>5670486</td>\n",
       "      <td>109040</td>\n",
       "      <td>12657</td>\n",
       "      <td>145</td>\n",
       "      <td>1.9</td>\n",
       "      <td>Europe</td>\n",
       "    </tr>\n",
       "    <tr>\n",
       "      <th>4</th>\n",
       "      <td>Turkey</td>\n",
       "      <td>5212123</td>\n",
       "      <td>46787</td>\n",
       "      <td>5203385</td>\n",
       "      <td>46621</td>\n",
       "      <td>8738</td>\n",
       "      <td>166</td>\n",
       "      <td>0.9</td>\n",
       "      <td>Asia</td>\n",
       "    </tr>\n",
       "  </tbody>\n",
       "</table>\n",
       "</div>"
      ],
      "text/plain": [
       "  Country/Region     Cases  Deaths    PCases  PDeaths  Cases (+)  Deaths (+)  \\\n",
       "0             US  33190470  591950  33166418   590941      24052        1009   \n",
       "1          India  27369093  315235  27157795   311388     211298        3847   \n",
       "2         Brazil  16274695  454429  16194209   452031      80486        2398   \n",
       "3         France   5683143  109185   5670486   109040      12657         145   \n",
       "4         Turkey   5212123   46787   5203385    46621       8738         166   \n",
       "\n",
       "   Fatality Rate      Continent  \n",
       "0            1.8  North America  \n",
       "1            1.2           Asia  \n",
       "2            2.8  South America  \n",
       "3            1.9         Europe  \n",
       "4            0.9           Asia  "
      ]
     },
     "execution_count": 15,
     "metadata": {},
     "output_type": "execute_result"
    }
   ],
   "source": [
    "#hide\n",
    "df_table = (pd.DataFrame(dict(Cases=dfc_cases, Deaths=dfc_deaths, PCases=dfp_cases, PDeaths=dfp_deaths))\n",
    "             .sort_values(by=['Cases', 'Deaths'], ascending=[False, False])\n",
    "             .reset_index())\n",
    "df_table.rename(columns={'index': 'Country/Region'}, inplace=True)\n",
    "for c in 'Cases, Deaths'.split(', '):\n",
    "    df_table[f'{c} (+)'] = (df_table[c] - df_table[f'P{c}']).clip(0)  # DATA BUG\n",
    "df_table['Fatality Rate'] = (100 * df_table['Deaths'] / df_table['Cases']).round(1)\n",
    "df_table['Continent'] = df_table['Country/Region'].map(mapping['map.continent'])\n",
    "df_table.head(5)"
   ]
  },
  {
   "cell_type": "code",
   "execution_count": 16,
   "id": "fewer-occasion",
   "metadata": {
    "execution": {
     "iopub.execute_input": "2021-05-28T00:38:08.541250Z",
     "iopub.status.busy": "2021-05-28T00:38:08.540685Z",
     "iopub.status.idle": "2021-05-28T00:38:08.543626Z",
     "shell.execute_reply": "2021-05-28T00:38:08.542889Z"
    },
    "papermill": {
     "duration": 0.042986,
     "end_time": "2021-05-28T00:38:08.543725",
     "exception": false,
     "start_time": "2021-05-28T00:38:08.500739",
     "status": "completed"
    },
    "tags": []
   },
   "outputs": [],
   "source": [
    "#hide\n",
    "#delete problematic countries from table\n",
    "df_table = df_table[~df_table['Country/Region'].isin(['Cape Verde', 'Cruise Ship', 'Kosovo'])]"
   ]
  },
  {
   "cell_type": "code",
   "execution_count": 17,
   "id": "related-center",
   "metadata": {
    "execution": {
     "iopub.execute_input": "2021-05-28T00:38:08.635439Z",
     "iopub.status.busy": "2021-05-28T00:38:08.634881Z",
     "iopub.status.idle": "2021-05-28T00:38:08.637052Z",
     "shell.execute_reply": "2021-05-28T00:38:08.637501Z"
    },
    "papermill": {
     "duration": 0.058431,
     "end_time": "2021-05-28T00:38:08.637634",
     "exception": false,
     "start_time": "2021-05-28T00:38:08.579203",
     "status": "completed"
    },
    "tags": []
   },
   "outputs": [],
   "source": [
    "#hide\n",
    "metrics = [df_table.columns[index] for index in [1,2,5,6]]\n",
    "# s_china = df_table[df_table['Country/Region'].eq('China')][metrics].sum().add_prefix('China ')\n",
    "s_us = df_table[df_table['Country/Region'].eq('US')][metrics].sum().add_prefix('US ')\n",
    "s_eu = df_table[df_table['Continent'].eq('Europe')][metrics].sum().add_prefix('EU ')\n",
    "s_ind = df_table[df_table['Country/Region'].eq('India')][metrics].sum().add_prefix('India ')\n",
    "summary = {'updated': pd.to_datetime(dt_today), 'since': pd.to_datetime(dt_yday)}\n",
    "summary = {'updated': pd.to_datetime(dt_today), 'since': pd.to_datetime(dt_yday)}\n",
    "summary = {**summary, **df_table[metrics].sum(), **s_ind, **s_us, **s_eu}"
   ]
  },
  {
   "cell_type": "code",
   "execution_count": 18,
   "id": "engaging-syndrome",
   "metadata": {
    "execution": {
     "iopub.execute_input": "2021-05-28T00:38:08.718216Z",
     "iopub.status.busy": "2021-05-28T00:38:08.717510Z",
     "iopub.status.idle": "2021-05-28T00:38:08.729788Z",
     "shell.execute_reply": "2021-05-28T00:38:08.730468Z"
    },
    "papermill": {
     "duration": 0.055994,
     "end_time": "2021-05-28T00:38:08.730649",
     "exception": false,
     "start_time": "2021-05-28T00:38:08.674655",
     "status": "completed"
    },
    "tags": []
   },
   "outputs": [],
   "source": [
    "#hide\n",
    "dft_ct_new_cases = dft_cases.groupby(COL_REGION)[dt_cols].sum().diff(axis=1).fillna(0).astype(int)"
   ]
  },
  {
   "cell_type": "code",
   "execution_count": 19,
   "id": "neutral-assignment",
   "metadata": {
    "execution": {
     "iopub.execute_input": "2021-05-28T00:38:08.813487Z",
     "iopub.status.busy": "2021-05-28T00:38:08.812800Z",
     "iopub.status.idle": "2021-05-28T00:38:08.815201Z",
     "shell.execute_reply": "2021-05-28T00:38:08.815654Z"
    },
    "papermill": {
     "duration": 0.048122,
     "end_time": "2021-05-28T00:38:08.815841",
     "exception": false,
     "start_time": "2021-05-28T00:38:08.767719",
     "status": "completed"
    },
    "tags": []
   },
   "outputs": [],
   "source": [
    "#hide\n",
    "everydaycases = dft_ct_new_cases.cumsum(axis=1)"
   ]
  },
  {
   "cell_type": "code",
   "execution_count": 20,
   "id": "parliamentary-calgary",
   "metadata": {
    "execution": {
     "iopub.execute_input": "2021-05-28T00:38:08.892291Z",
     "iopub.status.busy": "2021-05-28T00:38:08.891617Z",
     "iopub.status.idle": "2021-05-28T00:38:09.477570Z",
     "shell.execute_reply": "2021-05-28T00:38:09.477015Z"
    },
    "papermill": {
     "duration": 0.626786,
     "end_time": "2021-05-28T00:38:09.477700",
     "exception": false,
     "start_time": "2021-05-28T00:38:08.850914",
     "status": "completed"
    },
    "tags": []
   },
   "outputs": [],
   "source": [
    "#hide\n",
    "import pandas as pd\n",
    "import matplotlib.pyplot as plt\n",
    "import matplotlib.ticker as ticker\n",
    "import matplotlib.animation as animation\n",
    "from IPython.display import HTML"
   ]
  },
  {
   "cell_type": "code",
   "execution_count": 21,
   "id": "lasting-extraction",
   "metadata": {
    "execution": {
     "iopub.execute_input": "2021-05-28T00:38:09.558618Z",
     "iopub.status.busy": "2021-05-28T00:38:09.558046Z",
     "iopub.status.idle": "2021-05-28T00:38:09.563245Z",
     "shell.execute_reply": "2021-05-28T00:38:09.563701Z"
    },
    "papermill": {
     "duration": 0.049073,
     "end_time": "2021-05-28T00:38:09.563838",
     "exception": false,
     "start_time": "2021-05-28T00:38:09.514765",
     "status": "completed"
    },
    "tags": []
   },
   "outputs": [],
   "source": [
    "#hide\n",
    "t = everydaycases.stack()"
   ]
  },
  {
   "cell_type": "code",
   "execution_count": 22,
   "id": "premier-sleeve",
   "metadata": {
    "execution": {
     "iopub.execute_input": "2021-05-28T00:38:09.637226Z",
     "iopub.status.busy": "2021-05-28T00:38:09.636704Z",
     "iopub.status.idle": "2021-05-28T00:38:09.644463Z",
     "shell.execute_reply": "2021-05-28T00:38:09.643976Z"
    },
    "papermill": {
     "duration": 0.046429,
     "end_time": "2021-05-28T00:38:09.644570",
     "exception": false,
     "start_time": "2021-05-28T00:38:09.598141",
     "status": "completed"
    },
    "tags": []
   },
   "outputs": [],
   "source": [
    "#hide\n",
    "g = t.reset_index(['Country/Region'])"
   ]
  },
  {
   "cell_type": "code",
   "execution_count": 23,
   "id": "distributed-pittsburgh",
   "metadata": {
    "execution": {
     "iopub.execute_input": "2021-05-28T00:38:09.725157Z",
     "iopub.status.busy": "2021-05-28T00:38:09.724451Z",
     "iopub.status.idle": "2021-05-28T00:38:09.726435Z",
     "shell.execute_reply": "2021-05-28T00:38:09.726935Z"
    },
    "papermill": {
     "duration": 0.046922,
     "end_time": "2021-05-28T00:38:09.727083",
     "exception": false,
     "start_time": "2021-05-28T00:38:09.680161",
     "status": "completed"
    },
    "tags": []
   },
   "outputs": [],
   "source": [
    "#hide\n",
    "g.index.name = 'date'"
   ]
  },
  {
   "cell_type": "code",
   "execution_count": 24,
   "id": "naked-donor",
   "metadata": {
    "execution": {
     "iopub.execute_input": "2021-05-28T00:38:09.802880Z",
     "iopub.status.busy": "2021-05-28T00:38:09.802163Z",
     "iopub.status.idle": "2021-05-28T00:38:09.804508Z",
     "shell.execute_reply": "2021-05-28T00:38:09.804922Z"
    },
    "papermill": {
     "duration": 0.042033,
     "end_time": "2021-05-28T00:38:09.805044",
     "exception": false,
     "start_time": "2021-05-28T00:38:09.763011",
     "status": "completed"
    },
    "tags": []
   },
   "outputs": [],
   "source": [
    "# #hide\n",
    "# g = g.reset_index(['date'])"
   ]
  },
  {
   "cell_type": "code",
   "execution_count": 25,
   "id": "incomplete-mustang",
   "metadata": {
    "execution": {
     "iopub.execute_input": "2021-05-28T00:38:09.882699Z",
     "iopub.status.busy": "2021-05-28T00:38:09.882127Z",
     "iopub.status.idle": "2021-05-28T00:38:09.884045Z",
     "shell.execute_reply": "2021-05-28T00:38:09.884558Z"
    },
    "papermill": {
     "duration": 0.043097,
     "end_time": "2021-05-28T00:38:09.884688",
     "exception": false,
     "start_time": "2021-05-28T00:38:09.841591",
     "status": "completed"
    },
    "tags": []
   },
   "outputs": [],
   "source": [
    "#hide\n",
    "# g.head()"
   ]
  },
  {
   "cell_type": "code",
   "execution_count": 26,
   "id": "specific-kruger",
   "metadata": {
    "execution": {
     "iopub.execute_input": "2021-05-28T00:38:09.962487Z",
     "iopub.status.busy": "2021-05-28T00:38:09.961941Z",
     "iopub.status.idle": "2021-05-28T00:38:09.964114Z",
     "shell.execute_reply": "2021-05-28T00:38:09.964770Z"
    },
    "papermill": {
     "duration": 0.045424,
     "end_time": "2021-05-28T00:38:09.964917",
     "exception": false,
     "start_time": "2021-05-28T00:38:09.919493",
     "status": "completed"
    },
    "tags": []
   },
   "outputs": [],
   "source": [
    "#hide\n",
    "# g.columns = ['date','country','cases']"
   ]
  },
  {
   "cell_type": "code",
   "execution_count": 27,
   "id": "tender-conversion",
   "metadata": {
    "execution": {
     "iopub.execute_input": "2021-05-28T00:38:10.039612Z",
     "iopub.status.busy": "2021-05-28T00:38:10.038979Z",
     "iopub.status.idle": "2021-05-28T00:38:10.041143Z",
     "shell.execute_reply": "2021-05-28T00:38:10.040580Z"
    },
    "papermill": {
     "duration": 0.04101,
     "end_time": "2021-05-28T00:38:10.041254",
     "exception": false,
     "start_time": "2021-05-28T00:38:10.000244",
     "status": "completed"
    },
    "tags": []
   },
   "outputs": [],
   "source": [
    "#hide\n",
    "# g['continent'] = g.country"
   ]
  },
  {
   "cell_type": "code",
   "execution_count": 28,
   "id": "substantial-wilderness",
   "metadata": {
    "execution": {
     "iopub.execute_input": "2021-05-28T00:38:10.119373Z",
     "iopub.status.busy": "2021-05-28T00:38:10.118697Z",
     "iopub.status.idle": "2021-05-28T00:38:10.121127Z",
     "shell.execute_reply": "2021-05-28T00:38:10.120541Z"
    },
    "papermill": {
     "duration": 0.040271,
     "end_time": "2021-05-28T00:38:10.121236",
     "exception": false,
     "start_time": "2021-05-28T00:38:10.080965",
     "status": "completed"
    },
    "tags": []
   },
   "outputs": [],
   "source": [
    "#hide\n",
    "# cols = list(g.columns.values)"
   ]
  },
  {
   "cell_type": "code",
   "execution_count": 29,
   "id": "solved-farming",
   "metadata": {
    "execution": {
     "iopub.execute_input": "2021-05-28T00:38:10.199056Z",
     "iopub.status.busy": "2021-05-28T00:38:10.198279Z",
     "iopub.status.idle": "2021-05-28T00:38:10.200293Z",
     "shell.execute_reply": "2021-05-28T00:38:10.200752Z"
    },
    "papermill": {
     "duration": 0.041649,
     "end_time": "2021-05-28T00:38:10.200871",
     "exception": false,
     "start_time": "2021-05-28T00:38:10.159222",
     "status": "completed"
    },
    "tags": []
   },
   "outputs": [],
   "source": [
    "#hide\n",
    "# cols.insert(0, cols.pop())"
   ]
  },
  {
   "cell_type": "code",
   "execution_count": 30,
   "id": "executed-adoption",
   "metadata": {
    "execution": {
     "iopub.execute_input": "2021-05-28T00:38:10.274068Z",
     "iopub.status.busy": "2021-05-28T00:38:10.273419Z",
     "iopub.status.idle": "2021-05-28T00:38:10.275636Z",
     "shell.execute_reply": "2021-05-28T00:38:10.276254Z"
    },
    "papermill": {
     "duration": 0.041381,
     "end_time": "2021-05-28T00:38:10.276383",
     "exception": false,
     "start_time": "2021-05-28T00:38:10.235002",
     "status": "completed"
    },
    "tags": []
   },
   "outputs": [],
   "source": [
    "#hide\n",
    "# g = g[cols]"
   ]
  },
  {
   "cell_type": "code",
   "execution_count": 31,
   "id": "subject-dublin",
   "metadata": {
    "execution": {
     "iopub.execute_input": "2021-05-28T00:38:10.352623Z",
     "iopub.status.busy": "2021-05-28T00:38:10.352036Z",
     "iopub.status.idle": "2021-05-28T00:38:10.354742Z",
     "shell.execute_reply": "2021-05-28T00:38:10.354023Z"
    },
    "papermill": {
     "duration": 0.040687,
     "end_time": "2021-05-28T00:38:10.354852",
     "exception": false,
     "start_time": "2021-05-28T00:38:10.314165",
     "status": "completed"
    },
    "tags": []
   },
   "outputs": [],
   "source": [
    "#hide\n",
    "# g['continent'] = g['continent'].map(mapping['map.continent'])"
   ]
  },
  {
   "cell_type": "code",
   "execution_count": 32,
   "id": "freelance-scout",
   "metadata": {
    "execution": {
     "iopub.execute_input": "2021-05-28T00:38:10.432893Z",
     "iopub.status.busy": "2021-05-28T00:38:10.432313Z",
     "iopub.status.idle": "2021-05-28T00:38:10.434964Z",
     "shell.execute_reply": "2021-05-28T00:38:10.434487Z"
    },
    "papermill": {
     "duration": 0.042291,
     "end_time": "2021-05-28T00:38:10.435072",
     "exception": false,
     "start_time": "2021-05-28T00:38:10.392781",
     "status": "completed"
    },
    "tags": []
   },
   "outputs": [],
   "source": [
    "#hide\n",
    "# g.head()"
   ]
  },
  {
   "cell_type": "code",
   "execution_count": 33,
   "id": "limited-engine",
   "metadata": {
    "execution": {
     "iopub.execute_input": "2021-05-28T00:38:10.513706Z",
     "iopub.status.busy": "2021-05-28T00:38:10.513144Z",
     "iopub.status.idle": "2021-05-28T00:38:10.515015Z",
     "shell.execute_reply": "2021-05-28T00:38:10.515661Z"
    },
    "papermill": {
     "duration": 0.042361,
     "end_time": "2021-05-28T00:38:10.515808",
     "exception": false,
     "start_time": "2021-05-28T00:38:10.473447",
     "status": "completed"
    },
    "tags": []
   },
   "outputs": [],
   "source": [
    "# hide\n",
    "# g['date'] = g['date'].astype('datetime64[ns]')"
   ]
  },
  {
   "cell_type": "code",
   "execution_count": 34,
   "id": "sophisticated-supervisor",
   "metadata": {
    "execution": {
     "iopub.execute_input": "2021-05-28T00:38:10.597362Z",
     "iopub.status.busy": "2021-05-28T00:38:10.596771Z",
     "iopub.status.idle": "2021-05-28T00:38:10.599261Z",
     "shell.execute_reply": "2021-05-28T00:38:10.598680Z"
    },
    "papermill": {
     "duration": 0.044677,
     "end_time": "2021-05-28T00:38:10.599469",
     "exception": false,
     "start_time": "2021-05-28T00:38:10.554792",
     "status": "completed"
    },
    "tags": []
   },
   "outputs": [],
   "source": [
    "#hide\n",
    "# g['date'] = g.date.dt.dayofyear"
   ]
  },
  {
   "cell_type": "code",
   "execution_count": 35,
   "id": "inside-dubai",
   "metadata": {
    "execution": {
     "iopub.execute_input": "2021-05-28T00:38:10.680295Z",
     "iopub.status.busy": "2021-05-28T00:38:10.679559Z",
     "iopub.status.idle": "2021-05-28T00:38:10.681902Z",
     "shell.execute_reply": "2021-05-28T00:38:10.681417Z"
    },
    "papermill": {
     "duration": 0.042851,
     "end_time": "2021-05-28T00:38:10.682070",
     "exception": false,
     "start_time": "2021-05-28T00:38:10.639219",
     "status": "completed"
    },
    "tags": []
   },
   "outputs": [],
   "source": [
    "#hide\n",
    "# g = g.rename(columns= {'continent':'group','country':'name','cases':'value'})"
   ]
  },
  {
   "cell_type": "code",
   "execution_count": 36,
   "id": "fleet-motorcycle",
   "metadata": {
    "execution": {
     "iopub.execute_input": "2021-05-28T00:38:10.759112Z",
     "iopub.status.busy": "2021-05-28T00:38:10.758482Z",
     "iopub.status.idle": "2021-05-28T00:38:10.760841Z",
     "shell.execute_reply": "2021-05-28T00:38:10.761309Z"
    },
    "papermill": {
     "duration": 0.043767,
     "end_time": "2021-05-28T00:38:10.761435",
     "exception": false,
     "start_time": "2021-05-28T00:38:10.717668",
     "status": "completed"
    },
    "tags": []
   },
   "outputs": [],
   "source": [
    "#hide\n",
    "# cols = ['name','group','day','value']"
   ]
  },
  {
   "cell_type": "code",
   "execution_count": 37,
   "id": "continued-sleeping",
   "metadata": {
    "execution": {
     "iopub.execute_input": "2021-05-28T00:38:10.839673Z",
     "iopub.status.busy": "2021-05-28T00:38:10.839106Z",
     "iopub.status.idle": "2021-05-28T00:38:10.840888Z",
     "shell.execute_reply": "2021-05-28T00:38:10.841456Z"
    },
    "papermill": {
     "duration": 0.043378,
     "end_time": "2021-05-28T00:38:10.841602",
     "exception": false,
     "start_time": "2021-05-28T00:38:10.798224",
     "status": "completed"
    },
    "tags": []
   },
   "outputs": [],
   "source": [
    "#hide\n",
    "# g.rename(columns= {'date':'day'},inplace = True)"
   ]
  },
  {
   "cell_type": "code",
   "execution_count": 38,
   "id": "major-fight",
   "metadata": {
    "execution": {
     "iopub.execute_input": "2021-05-28T00:38:10.918549Z",
     "iopub.status.busy": "2021-05-28T00:38:10.917947Z",
     "iopub.status.idle": "2021-05-28T00:38:10.919766Z",
     "shell.execute_reply": "2021-05-28T00:38:10.920266Z"
    },
    "papermill": {
     "duration": 0.041419,
     "end_time": "2021-05-28T00:38:10.920450",
     "exception": false,
     "start_time": "2021-05-28T00:38:10.879031",
     "status": "completed"
    },
    "tags": []
   },
   "outputs": [],
   "source": [
    "#hide\n",
    "# g = g[cols]"
   ]
  },
  {
   "cell_type": "code",
   "execution_count": 39,
   "id": "structured-mobile",
   "metadata": {
    "execution": {
     "iopub.execute_input": "2021-05-28T00:38:10.998858Z",
     "iopub.status.busy": "2021-05-28T00:38:10.998301Z",
     "iopub.status.idle": "2021-05-28T00:38:11.001103Z",
     "shell.execute_reply": "2021-05-28T00:38:11.000607Z"
    },
    "papermill": {
     "duration": 0.043257,
     "end_time": "2021-05-28T00:38:11.001243",
     "exception": false,
     "start_time": "2021-05-28T00:38:10.957986",
     "status": "completed"
    },
    "tags": []
   },
   "outputs": [],
   "source": [
    "# #hide\n",
    "# g = g[g.group.notna()]"
   ]
  },
  {
   "cell_type": "code",
   "execution_count": 40,
   "id": "determined-closing",
   "metadata": {
    "execution": {
     "iopub.execute_input": "2021-05-28T00:38:11.080473Z",
     "iopub.status.busy": "2021-05-28T00:38:11.079774Z",
     "iopub.status.idle": "2021-05-28T00:38:11.081869Z",
     "shell.execute_reply": "2021-05-28T00:38:11.082390Z"
    },
    "papermill": {
     "duration": 0.044031,
     "end_time": "2021-05-28T00:38:11.082521",
     "exception": false,
     "start_time": "2021-05-28T00:38:11.038490",
     "status": "completed"
    },
    "tags": []
   },
   "outputs": [],
   "source": [
    "# #hide\n",
    "# colors = dict(zip(\n",
    "#     [\"Oceania\", \"Europe\", \"Asia\", \"South America\", \"Middle East\", \"North America\", \"Africa\"],\n",
    "#     [\"#adb0ff\", \"#ffb3ff\", \"#90d595\", \"#e48381\", \"#aafbff\", \"#f7bb5f\", \"#eafb50\"]\n",
    "# ))\n",
    "# group_lk = g.set_index('name')['group'].to_dict()"
   ]
  },
  {
   "cell_type": "code",
   "execution_count": null,
   "id": "gross-drinking",
   "metadata": {
    "papermill": {
     "duration": 0.037571,
     "end_time": "2021-05-28T00:38:11.157603",
     "exception": false,
     "start_time": "2021-05-28T00:38:11.120032",
     "status": "completed"
    },
    "tags": []
   },
   "outputs": [],
   "source": []
  },
  {
   "cell_type": "code",
   "execution_count": 41,
   "id": "subject-macintosh",
   "metadata": {
    "execution": {
     "iopub.execute_input": "2021-05-28T00:38:11.242600Z",
     "iopub.status.busy": "2021-05-28T00:38:11.241926Z",
     "iopub.status.idle": "2021-05-28T00:38:11.244236Z",
     "shell.execute_reply": "2021-05-28T00:38:11.244802Z"
    },
    "papermill": {
     "duration": 0.048418,
     "end_time": "2021-05-28T00:38:11.244943",
     "exception": false,
     "start_time": "2021-05-28T00:38:11.196525",
     "status": "completed"
    },
    "tags": []
   },
   "outputs": [],
   "source": [
    "# #hide\n",
    "# fig, ax = plt.subplots(figsize=(15, 8))\n",
    "\n",
    "# def draw_barchart(current_day):\n",
    "#     dff = g[g['day'].eq(current_day)].sort_values(by='value', ascending=True).tail(10)\n",
    "#     ax.clear()\n",
    "#     ax.barh(dff['name'], dff['value'], color=[colors[group_lk[x]] for x in dff['name']])\n",
    "#     dx = dff['value'].max() / 200\n",
    "    \n",
    "#     for i, (value, name) in enumerate(zip(dff['value'], dff['name'])):\n",
    "#         ax.text(value-dx, i,     name,           size=14, weight=600, ha='right', va='bottom')\n",
    "#         ax.text(value-dx, i-.25, group_lk[name], size=10, color='#444444', ha='right', va='baseline')\n",
    "#         ax.text(value+dx, i,     f'{value:,.0f}',  size=14, ha='left',  va='center')\n",
    "#     ax.text(1, 0.4, current_day, transform=ax.transAxes, color='#777777', size=46, ha='right', weight=800)\n",
    "#     ax.text(0, 1.06, 'Population (thousands)', transform=ax.transAxes, size=12, color='#777777')\n",
    "#     ax.xaxis.set_major_formatter(ticker.StrMethodFormatter('{x:,.0f}'))\n",
    "#     ax.xaxis.set_ticks_position('top')\n",
    "#     ax.tick_params(axis='x', colors='#777777', labelsize=12)\n",
    "#     ax.set_yticks([])\n",
    "#     ax.margins(0, 0.01)\n",
    "#     ax.grid(which='major', axis='x', linestyle='-')\n",
    "#     ax.set_axisbelow(True)\n",
    "    \n",
    "#     ax.text(0, 1.15, 'Coronavirus',\n",
    "#             transform=ax.transAxes, size=24, weight=600, ha='left', va='top')\n",
    "# #     ax.text(1, 0, 'by @pratapvardhan; credit @jburnmurdoch', transform=ax.transAxes, color='#777777', ha='right',\n",
    "# #             bbox=dict(facecolor='white', alpha=0.8, edgecolor='white'))\n",
    "#     plt.box(False)"
   ]
  },
  {
   "cell_type": "code",
   "execution_count": 42,
   "id": "sexual-wages",
   "metadata": {
    "execution": {
     "iopub.execute_input": "2021-05-28T00:38:11.329614Z",
     "iopub.status.busy": "2021-05-28T00:38:11.328984Z",
     "iopub.status.idle": "2021-05-28T00:38:11.331844Z",
     "shell.execute_reply": "2021-05-28T00:38:11.331400Z"
    },
    "papermill": {
     "duration": 0.044586,
     "end_time": "2021-05-28T00:38:11.331955",
     "exception": false,
     "start_time": "2021-05-28T00:38:11.287369",
     "status": "completed"
    },
    "tags": []
   },
   "outputs": [],
   "source": [
    "# #hide_input\n",
    "# fig, ax = plt.subplots(figsize=(15, 8))\n",
    "# animator = animation.FuncAnimation(fig, draw_barchart, frames=range(g.day.values.min(), g.day.values.max()))\n",
    "# HTML(animator.to_jshtml())\n",
    "# # or use animator.to_html5_video() or animator.save() "
   ]
  },
  {
   "cell_type": "code",
   "execution_count": null,
   "id": "australian-container",
   "metadata": {
    "papermill": {
     "duration": 0.03584,
     "end_time": "2021-05-28T00:38:11.403719",
     "exception": false,
     "start_time": "2021-05-28T00:38:11.367879",
     "status": "completed"
    },
    "tags": []
   },
   "outputs": [],
   "source": []
  },
  {
   "cell_type": "code",
   "execution_count": null,
   "id": "mediterranean-pontiac",
   "metadata": {
    "papermill": {
     "duration": 0.037996,
     "end_time": "2021-05-28T00:38:11.476736",
     "exception": false,
     "start_time": "2021-05-28T00:38:11.438740",
     "status": "completed"
    },
    "tags": []
   },
   "outputs": [],
   "source": []
  },
  {
   "cell_type": "code",
   "execution_count": null,
   "id": "aging-legislature",
   "metadata": {
    "papermill": {
     "duration": 0.03478,
     "end_time": "2021-05-28T00:38:11.549102",
     "exception": false,
     "start_time": "2021-05-28T00:38:11.514322",
     "status": "completed"
    },
    "tags": []
   },
   "outputs": [],
   "source": []
  }
 ],
 "metadata": {
  "kernelspec": {
   "display_name": "Python 3",
   "language": "python",
   "name": "python3"
  },
  "language_info": {
   "codemirror_mode": {
    "name": "ipython",
    "version": 3
   },
   "file_extension": ".py",
   "mimetype": "text/x-python",
   "name": "python",
   "nbconvert_exporter": "python",
   "pygments_lexer": "ipython3",
   "version": "3.6.13"
  },
  "papermill": {
   "duration": 6.662287,
   "end_time": "2021-05-28T00:38:11.889507",
   "environment_variables": {},
   "exception": null,
   "input_path": "2020-03-21-covid19exp.ipynb",
   "output_path": "2020-03-21-covid19exp.ipynb",
   "parameters": {},
   "start_time": "2021-05-28T00:38:05.227220",
   "version": "2.0.0"
  }
 },
 "nbformat": 4,
 "nbformat_minor": 5
}