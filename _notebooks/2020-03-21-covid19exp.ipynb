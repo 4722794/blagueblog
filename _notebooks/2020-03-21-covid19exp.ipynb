{
 "cells": [
  {
   "cell_type": "markdown",
   "id": "muslim-click",
   "metadata": {
    "papermill": {
     "duration": 0.045818,
     "end_time": "2022-10-26T00:50:01.403064",
     "exception": false,
     "start_time": "2022-10-26T00:50:01.357246",
     "status": "completed"
    },
    "tags": []
   },
   "source": [
    "# COVID-19 Case Race\n",
    "> A race chart to see rising cases around the world\n",
    "\n",
    "- author: Hargun Oberoi\n",
    "- image: images/covid-overview.png\n",
    "- hide: false\n",
    "- badges: false"
   ]
  },
  {
   "cell_type": "code",
   "execution_count": 1,
   "id": "proof-material",
   "metadata": {
    "execution": {
     "iopub.execute_input": "2022-10-26T00:50:01.493272Z",
     "iopub.status.busy": "2022-10-26T00:50:01.492034Z",
     "iopub.status.idle": "2022-10-26T00:50:01.908948Z",
     "shell.execute_reply": "2022-10-26T00:50:01.908303Z"
    },
    "papermill": {
     "duration": 0.466165,
     "end_time": "2022-10-26T00:50:01.909122",
     "exception": false,
     "start_time": "2022-10-26T00:50:01.442957",
     "status": "completed"
    },
    "tags": []
   },
   "outputs": [],
   "source": [
    "#hide\n",
    "import numpy as np\n",
    "import pandas as pd\n",
    "from jinja2 import Template\n",
    "from IPython.display import HTML"
   ]
  },
  {
   "cell_type": "code",
   "execution_count": 2,
   "id": "developed-terminology",
   "metadata": {
    "execution": {
     "iopub.execute_input": "2022-10-26T00:50:01.990732Z",
     "iopub.status.busy": "2022-10-26T00:50:01.989947Z",
     "iopub.status.idle": "2022-10-26T00:50:01.993310Z",
     "shell.execute_reply": "2022-10-26T00:50:01.992681Z"
    },
    "papermill": {
     "duration": 0.046775,
     "end_time": "2022-10-26T00:50:01.993447",
     "exception": false,
     "start_time": "2022-10-26T00:50:01.946672",
     "status": "completed"
    },
    "tags": []
   },
   "outputs": [],
   "source": [
    "#hide\n",
    "\n",
    "# FETCH\n",
    "base_url = 'https://raw.githubusercontent.com/pratapvardhan/notebooks/master/covid19/'\n",
    "paths = {\n",
    "    'mapping': base_url + 'mapping_countries.csv',\n",
    "    'overview': base_url + 'overview.tpl'\n",
    "}"
   ]
  },
  {
   "cell_type": "code",
   "execution_count": 3,
   "id": "dynamic-saver",
   "metadata": {
    "execution": {
     "iopub.execute_input": "2022-10-26T00:50:02.083380Z",
     "iopub.status.busy": "2022-10-26T00:50:02.082587Z",
     "iopub.status.idle": "2022-10-26T00:50:02.087516Z",
     "shell.execute_reply": "2022-10-26T00:50:02.086824Z"
    },
    "papermill": {
     "duration": 0.056971,
     "end_time": "2022-10-26T00:50:02.087669",
     "exception": false,
     "start_time": "2022-10-26T00:50:02.030698",
     "status": "completed"
    },
    "tags": []
   },
   "outputs": [
    {
     "data": {
      "text/plain": [
       "'https://raw.githubusercontent.com/pratapvardhan/notebooks/master/covid19/mapping_countries.csv'"
      ]
     },
     "execution_count": 3,
     "metadata": {},
     "output_type": "execute_result"
    }
   ],
   "source": [
    "#hide\n",
    "paths['mapping']"
   ]
  },
  {
   "cell_type": "code",
   "execution_count": 4,
   "id": "urban-software",
   "metadata": {
    "execution": {
     "iopub.execute_input": "2022-10-26T00:50:02.172586Z",
     "iopub.status.busy": "2022-10-26T00:50:02.171648Z",
     "iopub.status.idle": "2022-10-26T00:50:02.174381Z",
     "shell.execute_reply": "2022-10-26T00:50:02.175344Z"
    },
    "papermill": {
     "duration": 0.048981,
     "end_time": "2022-10-26T00:50:02.175719",
     "exception": false,
     "start_time": "2022-10-26T00:50:02.126738",
     "status": "completed"
    },
    "tags": []
   },
   "outputs": [],
   "source": [
    "#hide\n",
    "def get_mappings(url):\n",
    "    df = pd.read_csv(url)\n",
    "    return {\n",
    "        'df': df,\n",
    "        'replace.country': dict(df.dropna(subset=['Name']).set_index('Country')['Name']),\n",
    "        'map.continent': dict(df.set_index('Name')['Continent'])\n",
    "    }"
   ]
  },
  {
   "cell_type": "code",
   "execution_count": 5,
   "id": "intimate-machinery",
   "metadata": {
    "execution": {
     "iopub.execute_input": "2022-10-26T00:50:02.263599Z",
     "iopub.status.busy": "2022-10-26T00:50:02.262707Z",
     "iopub.status.idle": "2022-10-26T00:50:02.299252Z",
     "shell.execute_reply": "2022-10-26T00:50:02.299834Z"
    },
    "papermill": {
     "duration": 0.082266,
     "end_time": "2022-10-26T00:50:02.300009",
     "exception": false,
     "start_time": "2022-10-26T00:50:02.217743",
     "status": "completed"
    },
    "tags": []
   },
   "outputs": [],
   "source": [
    "#hide\n",
    "mapping = get_mappings(paths['mapping'])"
   ]
  },
  {
   "cell_type": "code",
   "execution_count": 6,
   "id": "certified-tactics",
   "metadata": {
    "execution": {
     "iopub.execute_input": "2022-10-26T00:50:02.383118Z",
     "iopub.status.busy": "2022-10-26T00:50:02.382353Z",
     "iopub.status.idle": "2022-10-26T00:50:02.384968Z",
     "shell.execute_reply": "2022-10-26T00:50:02.385525Z"
    },
    "papermill": {
     "duration": 0.046337,
     "end_time": "2022-10-26T00:50:02.385684",
     "exception": false,
     "start_time": "2022-10-26T00:50:02.339347",
     "status": "completed"
    },
    "tags": []
   },
   "outputs": [],
   "source": [
    "#hide\n",
    "def get_template(path):\n",
    "    from urllib.parse import urlparse\n",
    "    if bool(urlparse(path).netloc):\n",
    "        from urllib.request import urlopen\n",
    "        return urlopen(path).read().decode('utf8')\n",
    "    return open(path).read()"
   ]
  },
  {
   "cell_type": "code",
   "execution_count": 7,
   "id": "realistic-blast",
   "metadata": {
    "execution": {
     "iopub.execute_input": "2022-10-26T00:50:02.469683Z",
     "iopub.status.busy": "2022-10-26T00:50:02.468922Z",
     "iopub.status.idle": "2022-10-26T00:50:02.472098Z",
     "shell.execute_reply": "2022-10-26T00:50:02.471489Z"
    },
    "papermill": {
     "duration": 0.048155,
     "end_time": "2022-10-26T00:50:02.472236",
     "exception": false,
     "start_time": "2022-10-26T00:50:02.424081",
     "status": "completed"
    },
    "tags": []
   },
   "outputs": [],
   "source": [
    "#hide\n",
    "def get_frame(name):\n",
    "    url = (\n",
    "        'https://raw.githubusercontent.com/CSSEGISandData/COVID-19/master/csse_covid_19_data/'\n",
    "        f'csse_covid_19_time_series/time_series_covid19_{name}_global.csv')\n",
    "    df = pd.read_csv(url)\n",
    "    # rename countries\n",
    "    df['Country/Region'] = df['Country/Region'].replace(mapping['replace.country'])\n",
    "    return df"
   ]
  },
  {
   "cell_type": "code",
   "execution_count": 8,
   "id": "affiliated-characterization",
   "metadata": {
    "execution": {
     "iopub.execute_input": "2022-10-26T00:50:02.555422Z",
     "iopub.status.busy": "2022-10-26T00:50:02.554577Z",
     "iopub.status.idle": "2022-10-26T00:50:02.557823Z",
     "shell.execute_reply": "2022-10-26T00:50:02.557217Z"
    },
    "papermill": {
     "duration": 0.046937,
     "end_time": "2022-10-26T00:50:02.557956",
     "exception": false,
     "start_time": "2022-10-26T00:50:02.511019",
     "status": "completed"
    },
    "tags": []
   },
   "outputs": [],
   "source": [
    "#hide\n",
    "def get_dates(df):\n",
    "    dt_cols = df.columns[~df.columns.isin(['Province/State', 'Country/Region', 'Lat', 'Long'])]\n",
    "    LAST_DATE_I = -1\n",
    "    # sometimes last column may be empty, then go backwards\n",
    "    for i in range(-1, -len(dt_cols), -1):\n",
    "        if not df[dt_cols[i]].fillna(0).eq(0).all():\n",
    "            LAST_DATE_I = i\n",
    "            break\n",
    "    return LAST_DATE_I, dt_cols"
   ]
  },
  {
   "cell_type": "code",
   "execution_count": 9,
   "id": "recent-optimization",
   "metadata": {
    "execution": {
     "iopub.execute_input": "2022-10-26T00:50:02.642089Z",
     "iopub.status.busy": "2022-10-26T00:50:02.641334Z",
     "iopub.status.idle": "2022-10-26T00:50:03.141919Z",
     "shell.execute_reply": "2022-10-26T00:50:03.141229Z"
    },
    "papermill": {
     "duration": 0.546161,
     "end_time": "2022-10-26T00:50:03.142069",
     "exception": false,
     "start_time": "2022-10-26T00:50:02.595908",
     "status": "completed"
    },
    "tags": []
   },
   "outputs": [],
   "source": [
    "#hide\n",
    "COL_REGION = 'Country/Region'\n",
    "# Confirmed, Recovered, Deaths\n",
    "df = get_frame('confirmed')\n",
    "# dft_: timeseries, dfc_: today country agg\n",
    "dft_cases = df\n",
    "dft_deaths = get_frame('deaths')\n",
    "dft_recovered = get_frame('recovered')\n",
    "LAST_DATE_I, dt_cols = get_dates(df)"
   ]
  },
  {
   "cell_type": "code",
   "execution_count": 10,
   "id": "absolute-copper",
   "metadata": {
    "execution": {
     "iopub.execute_input": "2022-10-26T00:50:03.231493Z",
     "iopub.status.busy": "2022-10-26T00:50:03.230123Z",
     "iopub.status.idle": "2022-10-26T00:50:03.232461Z",
     "shell.execute_reply": "2022-10-26T00:50:03.233303Z"
    },
    "papermill": {
     "duration": 0.050101,
     "end_time": "2022-10-26T00:50:03.233468",
     "exception": false,
     "start_time": "2022-10-26T00:50:03.183367",
     "status": "completed"
    },
    "tags": []
   },
   "outputs": [],
   "source": [
    "#hide\n",
    "LAST_DATE_I, dt_cols = get_dates(df)\n",
    "dt_today =dt_cols[LAST_DATE_I]\n",
    "# dt_5day = dt_cols[LAST_DATE_I - 5]\n",
    "dt_yday = dt_cols[LAST_DATE_I - 1]"
   ]
  },
  {
   "cell_type": "code",
   "execution_count": 11,
   "id": "restricted-sheriff",
   "metadata": {
    "execution": {
     "iopub.execute_input": "2022-10-26T00:50:03.321473Z",
     "iopub.status.busy": "2022-10-26T00:50:03.320695Z",
     "iopub.status.idle": "2022-10-26T00:50:03.329934Z",
     "shell.execute_reply": "2022-10-26T00:50:03.329193Z"
    },
    "papermill": {
     "duration": 0.056344,
     "end_time": "2022-10-26T00:50:03.330195",
     "exception": false,
     "start_time": "2022-10-26T00:50:03.273851",
     "status": "completed"
    },
    "tags": []
   },
   "outputs": [],
   "source": [
    "#hide\n",
    "dfc_cases = dft_cases.groupby(COL_REGION)[dt_today].sum()\n",
    "dfc_deaths = dft_deaths.groupby(COL_REGION)[dt_today].sum()\n",
    "# dfp_cases = dft_cases.groupby(COL_REGION)[dt_5day].sum()\n",
    "# dfp_deaths = dft_deaths.groupby(COL_REGION)[dt_5day].sum()\n",
    "dfp_cases = dft_cases.groupby(COL_REGION)[dt_yday].sum()\n",
    "dfp_deaths = dft_deaths.groupby(COL_REGION)[dt_yday].sum()"
   ]
  },
  {
   "cell_type": "code",
   "execution_count": 12,
   "id": "deluxe-hepatitis",
   "metadata": {
    "execution": {
     "iopub.execute_input": "2022-10-26T00:50:03.416231Z",
     "iopub.status.busy": "2022-10-26T00:50:03.415468Z",
     "iopub.status.idle": "2022-10-26T00:50:03.420928Z",
     "shell.execute_reply": "2022-10-26T00:50:03.421661Z"
    },
    "papermill": {
     "duration": 0.052701,
     "end_time": "2022-10-26T00:50:03.421832",
     "exception": false,
     "start_time": "2022-10-26T00:50:03.369131",
     "status": "completed"
    },
    "tags": []
   },
   "outputs": [],
   "source": [
    "#hide\n",
    "df_table = (pd.DataFrame(dict(Cases = dfc_cases, Deaths = dfc_deaths, PCases = dfp_cases, PDeaths = dfp_deaths))\n",
    "            .sort_values(by = ['Cases','Deaths'], ascending = [False, False])\n",
    "            .reset_index())"
   ]
  },
  {
   "cell_type": "code",
   "execution_count": 13,
   "id": "educational-chancellor",
   "metadata": {
    "execution": {
     "iopub.execute_input": "2022-10-26T00:50:03.519500Z",
     "iopub.status.busy": "2022-10-26T00:50:03.518663Z",
     "iopub.status.idle": "2022-10-26T00:50:03.529289Z",
     "shell.execute_reply": "2022-10-26T00:50:03.528657Z"
    },
    "papermill": {
     "duration": 0.069382,
     "end_time": "2022-10-26T00:50:03.529437",
     "exception": false,
     "start_time": "2022-10-26T00:50:03.460055",
     "status": "completed"
    },
    "tags": []
   },
   "outputs": [
    {
     "data": {
      "text/html": [
       "<div>\n",
       "<style scoped>\n",
       "    .dataframe tbody tr th:only-of-type {\n",
       "        vertical-align: middle;\n",
       "    }\n",
       "\n",
       "    .dataframe tbody tr th {\n",
       "        vertical-align: top;\n",
       "    }\n",
       "\n",
       "    .dataframe thead th {\n",
       "        text-align: right;\n",
       "    }\n",
       "</style>\n",
       "<table border=\"1\" class=\"dataframe\">\n",
       "  <thead>\n",
       "    <tr style=\"text-align: right;\">\n",
       "      <th></th>\n",
       "      <th>Country/Region</th>\n",
       "      <th>Cases</th>\n",
       "      <th>Deaths</th>\n",
       "      <th>PCases</th>\n",
       "      <th>PDeaths</th>\n",
       "      <th>Cases (+)</th>\n",
       "      <th>Deaths (+)</th>\n",
       "      <th>Fatality Rate</th>\n",
       "      <th>Continent</th>\n",
       "    </tr>\n",
       "  </thead>\n",
       "  <tbody>\n",
       "    <tr>\n",
       "      <th>0</th>\n",
       "      <td>US</td>\n",
       "      <td>97239469</td>\n",
       "      <td>1067882</td>\n",
       "      <td>97198630</td>\n",
       "      <td>1067686</td>\n",
       "      <td>40839</td>\n",
       "      <td>196</td>\n",
       "      <td>1.10</td>\n",
       "      <td>North America</td>\n",
       "    </tr>\n",
       "    <tr>\n",
       "      <th>1</th>\n",
       "      <td>India</td>\n",
       "      <td>44644938</td>\n",
       "      <td>528980</td>\n",
       "      <td>44644076</td>\n",
       "      <td>528977</td>\n",
       "      <td>862</td>\n",
       "      <td>3</td>\n",
       "      <td>1.18</td>\n",
       "      <td>Asia</td>\n",
       "    </tr>\n",
       "    <tr>\n",
       "      <th>2</th>\n",
       "      <td>France</td>\n",
       "      <td>36824097</td>\n",
       "      <td>157549</td>\n",
       "      <td>36741974</td>\n",
       "      <td>157377</td>\n",
       "      <td>82123</td>\n",
       "      <td>172</td>\n",
       "      <td>0.43</td>\n",
       "      <td>Europe</td>\n",
       "    </tr>\n",
       "    <tr>\n",
       "      <th>3</th>\n",
       "      <td>Germany</td>\n",
       "      <td>35288228</td>\n",
       "      <td>152755</td>\n",
       "      <td>35172694</td>\n",
       "      <td>152482</td>\n",
       "      <td>115534</td>\n",
       "      <td>273</td>\n",
       "      <td>0.43</td>\n",
       "      <td>Europe</td>\n",
       "    </tr>\n",
       "    <tr>\n",
       "      <th>4</th>\n",
       "      <td>Brazil</td>\n",
       "      <td>34783786</td>\n",
       "      <td>687574</td>\n",
       "      <td>34780462</td>\n",
       "      <td>687527</td>\n",
       "      <td>3324</td>\n",
       "      <td>47</td>\n",
       "      <td>1.98</td>\n",
       "      <td>South America</td>\n",
       "    </tr>\n",
       "  </tbody>\n",
       "</table>\n",
       "</div>"
      ],
      "text/plain": [
       "  Country/Region     Cases   Deaths    PCases  PDeaths  Cases (+)  Deaths (+)  \\\n",
       "0             US  97239469  1067882  97198630  1067686      40839         196   \n",
       "1          India  44644938   528980  44644076   528977        862           3   \n",
       "2         France  36824097   157549  36741974   157377      82123         172   \n",
       "3        Germany  35288228   152755  35172694   152482     115534         273   \n",
       "4         Brazil  34783786   687574  34780462   687527       3324          47   \n",
       "\n",
       "   Fatality Rate      Continent  \n",
       "0           1.10  North America  \n",
       "1           1.18           Asia  \n",
       "2           0.43         Europe  \n",
       "3           0.43         Europe  \n",
       "4           1.98  South America  "
      ]
     },
     "execution_count": 13,
     "metadata": {},
     "output_type": "execute_result"
    }
   ],
   "source": [
    "#hide\n",
    "for c in 'Cases, Deaths'.split(', '):\n",
    "    df_table[f'{c} (+)'] = (df_table[c] - df_table[f'P{c}']).clip(0)\n",
    "    #Clip ça veut dire, les chiffres negatif sont interdit\n",
    "df_table['Fatality Rate'] = (100* df_table['Deaths']/ df_table['Cases']).round(2)\n",
    "df_table['Continent'] = df_table['Country/Region'].map(mapping['map.continent'])\n",
    "df_table.head(5)"
   ]
  },
  {
   "cell_type": "code",
   "execution_count": 14,
   "id": "aboriginal-bulgaria",
   "metadata": {
    "execution": {
     "iopub.execute_input": "2022-10-26T00:50:03.615311Z",
     "iopub.status.busy": "2022-10-26T00:50:03.614512Z",
     "iopub.status.idle": "2022-10-26T00:50:03.617415Z",
     "shell.execute_reply": "2022-10-26T00:50:03.618141Z"
    },
    "papermill": {
     "duration": 0.050418,
     "end_time": "2022-10-26T00:50:03.618297",
     "exception": false,
     "start_time": "2022-10-26T00:50:03.567879",
     "status": "completed"
    },
    "tags": []
   },
   "outputs": [],
   "source": [
    "#hide\n",
    "#delete problematic countries from table\n",
    "df_table = df_table[~df_table['Country/Region'].isin(['Cape Verde', 'Cruise Ship', 'Kosovo'])]"
   ]
  },
  {
   "cell_type": "code",
   "execution_count": 15,
   "id": "fantastic-effect",
   "metadata": {
    "execution": {
     "iopub.execute_input": "2022-10-26T00:50:03.701385Z",
     "iopub.status.busy": "2022-10-26T00:50:03.700606Z",
     "iopub.status.idle": "2022-10-26T00:50:03.730089Z",
     "shell.execute_reply": "2022-10-26T00:50:03.730840Z"
    },
    "papermill": {
     "duration": 0.073908,
     "end_time": "2022-10-26T00:50:03.731037",
     "exception": false,
     "start_time": "2022-10-26T00:50:03.657129",
     "status": "completed"
    },
    "tags": []
   },
   "outputs": [
    {
     "data": {
      "text/html": [
       "<div>\n",
       "<style scoped>\n",
       "    .dataframe tbody tr th:only-of-type {\n",
       "        vertical-align: middle;\n",
       "    }\n",
       "\n",
       "    .dataframe tbody tr th {\n",
       "        vertical-align: top;\n",
       "    }\n",
       "\n",
       "    .dataframe thead th {\n",
       "        text-align: right;\n",
       "    }\n",
       "</style>\n",
       "<table border=\"1\" class=\"dataframe\">\n",
       "  <thead>\n",
       "    <tr style=\"text-align: right;\">\n",
       "      <th></th>\n",
       "      <th>Country/Region</th>\n",
       "      <th>Cases</th>\n",
       "      <th>Deaths</th>\n",
       "      <th>PCases</th>\n",
       "      <th>PDeaths</th>\n",
       "      <th>Cases (+)</th>\n",
       "      <th>Deaths (+)</th>\n",
       "      <th>Fatality Rate</th>\n",
       "      <th>Continent</th>\n",
       "    </tr>\n",
       "  </thead>\n",
       "  <tbody>\n",
       "    <tr>\n",
       "      <th>0</th>\n",
       "      <td>US</td>\n",
       "      <td>97239469</td>\n",
       "      <td>1067882</td>\n",
       "      <td>97198630</td>\n",
       "      <td>1067686</td>\n",
       "      <td>40839</td>\n",
       "      <td>196</td>\n",
       "      <td>1.1</td>\n",
       "      <td>North America</td>\n",
       "    </tr>\n",
       "    <tr>\n",
       "      <th>1</th>\n",
       "      <td>India</td>\n",
       "      <td>44644938</td>\n",
       "      <td>528980</td>\n",
       "      <td>44644076</td>\n",
       "      <td>528977</td>\n",
       "      <td>862</td>\n",
       "      <td>3</td>\n",
       "      <td>1.2</td>\n",
       "      <td>Asia</td>\n",
       "    </tr>\n",
       "    <tr>\n",
       "      <th>2</th>\n",
       "      <td>France</td>\n",
       "      <td>36824097</td>\n",
       "      <td>157549</td>\n",
       "      <td>36741974</td>\n",
       "      <td>157377</td>\n",
       "      <td>82123</td>\n",
       "      <td>172</td>\n",
       "      <td>0.4</td>\n",
       "      <td>Europe</td>\n",
       "    </tr>\n",
       "    <tr>\n",
       "      <th>3</th>\n",
       "      <td>Germany</td>\n",
       "      <td>35288228</td>\n",
       "      <td>152755</td>\n",
       "      <td>35172694</td>\n",
       "      <td>152482</td>\n",
       "      <td>115534</td>\n",
       "      <td>273</td>\n",
       "      <td>0.4</td>\n",
       "      <td>Europe</td>\n",
       "    </tr>\n",
       "    <tr>\n",
       "      <th>4</th>\n",
       "      <td>Brazil</td>\n",
       "      <td>34783786</td>\n",
       "      <td>687574</td>\n",
       "      <td>34780462</td>\n",
       "      <td>687527</td>\n",
       "      <td>3324</td>\n",
       "      <td>47</td>\n",
       "      <td>2.0</td>\n",
       "      <td>South America</td>\n",
       "    </tr>\n",
       "  </tbody>\n",
       "</table>\n",
       "</div>"
      ],
      "text/plain": [
       "  Country/Region     Cases   Deaths    PCases  PDeaths  Cases (+)  Deaths (+)  \\\n",
       "0             US  97239469  1067882  97198630  1067686      40839         196   \n",
       "1          India  44644938   528980  44644076   528977        862           3   \n",
       "2         France  36824097   157549  36741974   157377      82123         172   \n",
       "3        Germany  35288228   152755  35172694   152482     115534         273   \n",
       "4         Brazil  34783786   687574  34780462   687527       3324          47   \n",
       "\n",
       "   Fatality Rate      Continent  \n",
       "0            1.1  North America  \n",
       "1            1.2           Asia  \n",
       "2            0.4         Europe  \n",
       "3            0.4         Europe  \n",
       "4            2.0  South America  "
      ]
     },
     "execution_count": 15,
     "metadata": {},
     "output_type": "execute_result"
    }
   ],
   "source": [
    "#hide\n",
    "df_table = (pd.DataFrame(dict(Cases=dfc_cases, Deaths=dfc_deaths, PCases=dfp_cases, PDeaths=dfp_deaths))\n",
    "             .sort_values(by=['Cases', 'Deaths'], ascending=[False, False])\n",
    "             .reset_index())\n",
    "df_table.rename(columns={'index': 'Country/Region'}, inplace=True)\n",
    "for c in 'Cases, Deaths'.split(', '):\n",
    "    df_table[f'{c} (+)'] = (df_table[c] - df_table[f'P{c}']).clip(0)  # DATA BUG\n",
    "df_table['Fatality Rate'] = (100 * df_table['Deaths'] / df_table['Cases']).round(1)\n",
    "df_table['Continent'] = df_table['Country/Region'].map(mapping['map.continent'])\n",
    "df_table.head(5)"
   ]
  },
  {
   "cell_type": "code",
   "execution_count": 16,
   "id": "fewer-occasion",
   "metadata": {
    "execution": {
     "iopub.execute_input": "2022-10-26T00:50:03.821480Z",
     "iopub.status.busy": "2022-10-26T00:50:03.820707Z",
     "iopub.status.idle": "2022-10-26T00:50:03.823211Z",
     "shell.execute_reply": "2022-10-26T00:50:03.823956Z"
    },
    "papermill": {
     "duration": 0.052447,
     "end_time": "2022-10-26T00:50:03.824122",
     "exception": false,
     "start_time": "2022-10-26T00:50:03.771675",
     "status": "completed"
    },
    "tags": []
   },
   "outputs": [],
   "source": [
    "#hide\n",
    "#delete problematic countries from table\n",
    "df_table = df_table[~df_table['Country/Region'].isin(['Cape Verde', 'Cruise Ship', 'Kosovo'])]"
   ]
  },
  {
   "cell_type": "code",
   "execution_count": 17,
   "id": "related-center",
   "metadata": {
    "execution": {
     "iopub.execute_input": "2022-10-26T00:50:03.936035Z",
     "iopub.status.busy": "2022-10-26T00:50:03.935240Z",
     "iopub.status.idle": "2022-10-26T00:50:03.938655Z",
     "shell.execute_reply": "2022-10-26T00:50:03.939290Z"
    },
    "papermill": {
     "duration": 0.073414,
     "end_time": "2022-10-26T00:50:03.939458",
     "exception": false,
     "start_time": "2022-10-26T00:50:03.866044",
     "status": "completed"
    },
    "tags": []
   },
   "outputs": [],
   "source": [
    "#hide\n",
    "metrics = [df_table.columns[index] for index in [1,2,5,6]]\n",
    "# s_china = df_table[df_table['Country/Region'].eq('China')][metrics].sum().add_prefix('China ')\n",
    "s_us = df_table[df_table['Country/Region'].eq('US')][metrics].sum().add_prefix('US ')\n",
    "s_eu = df_table[df_table['Continent'].eq('Europe')][metrics].sum().add_prefix('EU ')\n",
    "s_ind = df_table[df_table['Country/Region'].eq('India')][metrics].sum().add_prefix('India ')\n",
    "summary = {'updated': pd.to_datetime(dt_today), 'since': pd.to_datetime(dt_yday)}\n",
    "summary = {'updated': pd.to_datetime(dt_today), 'since': pd.to_datetime(dt_yday)}\n",
    "summary = {**summary, **df_table[metrics].sum(), **s_ind, **s_us, **s_eu}"
   ]
  },
  {
   "cell_type": "code",
   "execution_count": 18,
   "id": "engaging-syndrome",
   "metadata": {
    "execution": {
     "iopub.execute_input": "2022-10-26T00:50:04.024808Z",
     "iopub.status.busy": "2022-10-26T00:50:04.024047Z",
     "iopub.status.idle": "2022-10-26T00:50:04.048182Z",
     "shell.execute_reply": "2022-10-26T00:50:04.047245Z"
    },
    "papermill": {
     "duration": 0.068619,
     "end_time": "2022-10-26T00:50:04.048336",
     "exception": false,
     "start_time": "2022-10-26T00:50:03.979717",
     "status": "completed"
    },
    "tags": []
   },
   "outputs": [],
   "source": [
    "#hide\n",
    "dft_ct_new_cases = dft_cases.groupby(COL_REGION)[dt_cols].sum().diff(axis=1).fillna(0).astype(int)"
   ]
  },
  {
   "cell_type": "code",
   "execution_count": 19,
   "id": "neutral-assignment",
   "metadata": {
    "execution": {
     "iopub.execute_input": "2022-10-26T00:50:04.142055Z",
     "iopub.status.busy": "2022-10-26T00:50:04.141165Z",
     "iopub.status.idle": "2022-10-26T00:50:04.144292Z",
     "shell.execute_reply": "2022-10-26T00:50:04.144993Z"
    },
    "papermill": {
     "duration": 0.052415,
     "end_time": "2022-10-26T00:50:04.145161",
     "exception": false,
     "start_time": "2022-10-26T00:50:04.092746",
     "status": "completed"
    },
    "tags": []
   },
   "outputs": [],
   "source": [
    "#hide\n",
    "everydaycases = dft_ct_new_cases.cumsum(axis=1)"
   ]
  },
  {
   "cell_type": "code",
   "execution_count": 20,
   "id": "parliamentary-calgary",
   "metadata": {
    "execution": {
     "iopub.execute_input": "2022-10-26T00:50:04.234427Z",
     "iopub.status.busy": "2022-10-26T00:50:04.233532Z",
     "iopub.status.idle": "2022-10-26T00:50:04.901189Z",
     "shell.execute_reply": "2022-10-26T00:50:04.900567Z"
    },
    "papermill": {
     "duration": 0.712165,
     "end_time": "2022-10-26T00:50:04.901338",
     "exception": false,
     "start_time": "2022-10-26T00:50:04.189173",
     "status": "completed"
    },
    "tags": []
   },
   "outputs": [],
   "source": [
    "#hide\n",
    "import pandas as pd\n",
    "import matplotlib.pyplot as plt\n",
    "import matplotlib.ticker as ticker\n",
    "import matplotlib.animation as animation\n",
    "from IPython.display import HTML"
   ]
  },
  {
   "cell_type": "code",
   "execution_count": 21,
   "id": "lasting-extraction",
   "metadata": {
    "execution": {
     "iopub.execute_input": "2022-10-26T00:50:04.990070Z",
     "iopub.status.busy": "2022-10-26T00:50:04.989318Z",
     "iopub.status.idle": "2022-10-26T00:50:04.998735Z",
     "shell.execute_reply": "2022-10-26T00:50:04.999385Z"
    },
    "papermill": {
     "duration": 0.056932,
     "end_time": "2022-10-26T00:50:04.999548",
     "exception": false,
     "start_time": "2022-10-26T00:50:04.942616",
     "status": "completed"
    },
    "tags": []
   },
   "outputs": [],
   "source": [
    "#hide\n",
    "t = everydaycases.stack()"
   ]
  },
  {
   "cell_type": "code",
   "execution_count": 22,
   "id": "premier-sleeve",
   "metadata": {
    "execution": {
     "iopub.execute_input": "2022-10-26T00:50:05.091283Z",
     "iopub.status.busy": "2022-10-26T00:50:05.090503Z",
     "iopub.status.idle": "2022-10-26T00:50:05.106001Z",
     "shell.execute_reply": "2022-10-26T00:50:05.105378Z"
    },
    "papermill": {
     "duration": 0.060463,
     "end_time": "2022-10-26T00:50:05.106150",
     "exception": false,
     "start_time": "2022-10-26T00:50:05.045687",
     "status": "completed"
    },
    "tags": []
   },
   "outputs": [],
   "source": [
    "#hide\n",
    "g = t.reset_index(['Country/Region'])"
   ]
  },
  {
   "cell_type": "code",
   "execution_count": 23,
   "id": "distributed-pittsburgh",
   "metadata": {
    "execution": {
     "iopub.execute_input": "2022-10-26T00:50:05.190628Z",
     "iopub.status.busy": "2022-10-26T00:50:05.189475Z",
     "iopub.status.idle": "2022-10-26T00:50:05.199793Z",
     "shell.execute_reply": "2022-10-26T00:50:05.200382Z"
    },
    "papermill": {
     "duration": 0.054519,
     "end_time": "2022-10-26T00:50:05.200547",
     "exception": false,
     "start_time": "2022-10-26T00:50:05.146028",
     "status": "completed"
    },
    "tags": []
   },
   "outputs": [],
   "source": [
    "#hide\n",
    "g.index.name = 'date'"
   ]
  },
  {
   "cell_type": "code",
   "execution_count": 24,
   "id": "naked-donor",
   "metadata": {
    "execution": {
     "iopub.execute_input": "2022-10-26T00:50:05.284435Z",
     "iopub.status.busy": "2022-10-26T00:50:05.283675Z",
     "iopub.status.idle": "2022-10-26T00:50:05.286833Z",
     "shell.execute_reply": "2022-10-26T00:50:05.287429Z"
    },
    "papermill": {
     "duration": 0.047712,
     "end_time": "2022-10-26T00:50:05.287581",
     "exception": false,
     "start_time": "2022-10-26T00:50:05.239869",
     "status": "completed"
    },
    "tags": []
   },
   "outputs": [],
   "source": [
    "# #hide\n",
    "# g = g.reset_index(['date'])"
   ]
  },
  {
   "cell_type": "code",
   "execution_count": 25,
   "id": "incomplete-mustang",
   "metadata": {
    "execution": {
     "iopub.execute_input": "2022-10-26T00:50:05.374959Z",
     "iopub.status.busy": "2022-10-26T00:50:05.374197Z",
     "iopub.status.idle": "2022-10-26T00:50:05.376607Z",
     "shell.execute_reply": "2022-10-26T00:50:05.377199Z"
    },
    "papermill": {
     "duration": 0.047795,
     "end_time": "2022-10-26T00:50:05.377352",
     "exception": false,
     "start_time": "2022-10-26T00:50:05.329557",
     "status": "completed"
    },
    "tags": []
   },
   "outputs": [],
   "source": [
    "#hide\n",
    "# g.head()"
   ]
  },
  {
   "cell_type": "code",
   "execution_count": 26,
   "id": "specific-kruger",
   "metadata": {
    "execution": {
     "iopub.execute_input": "2022-10-26T00:50:05.459533Z",
     "iopub.status.busy": "2022-10-26T00:50:05.458735Z",
     "iopub.status.idle": "2022-10-26T00:50:05.461969Z",
     "shell.execute_reply": "2022-10-26T00:50:05.461349Z"
    },
    "papermill": {
     "duration": 0.04619,
     "end_time": "2022-10-26T00:50:05.462102",
     "exception": false,
     "start_time": "2022-10-26T00:50:05.415912",
     "status": "completed"
    },
    "tags": []
   },
   "outputs": [],
   "source": [
    "#hide\n",
    "# g.columns = ['date','country','cases']"
   ]
  },
  {
   "cell_type": "code",
   "execution_count": 27,
   "id": "tender-conversion",
   "metadata": {
    "execution": {
     "iopub.execute_input": "2022-10-26T00:50:05.546135Z",
     "iopub.status.busy": "2022-10-26T00:50:05.545299Z",
     "iopub.status.idle": "2022-10-26T00:50:05.550977Z",
     "shell.execute_reply": "2022-10-26T00:50:05.550221Z"
    },
    "papermill": {
     "duration": 0.049663,
     "end_time": "2022-10-26T00:50:05.551116",
     "exception": false,
     "start_time": "2022-10-26T00:50:05.501453",
     "status": "completed"
    },
    "tags": []
   },
   "outputs": [],
   "source": [
    "#hide\n",
    "# g['continent'] = g.country"
   ]
  },
  {
   "cell_type": "code",
   "execution_count": 28,
   "id": "substantial-wilderness",
   "metadata": {
    "execution": {
     "iopub.execute_input": "2022-10-26T00:50:05.634071Z",
     "iopub.status.busy": "2022-10-26T00:50:05.633302Z",
     "iopub.status.idle": "2022-10-26T00:50:05.636662Z",
     "shell.execute_reply": "2022-10-26T00:50:05.636042Z"
    },
    "papermill": {
     "duration": 0.046428,
     "end_time": "2022-10-26T00:50:05.636800",
     "exception": false,
     "start_time": "2022-10-26T00:50:05.590372",
     "status": "completed"
    },
    "tags": []
   },
   "outputs": [],
   "source": [
    "#hide\n",
    "# cols = list(g.columns.values)"
   ]
  },
  {
   "cell_type": "code",
   "execution_count": 29,
   "id": "solved-farming",
   "metadata": {
    "execution": {
     "iopub.execute_input": "2022-10-26T00:50:05.719667Z",
     "iopub.status.busy": "2022-10-26T00:50:05.718751Z",
     "iopub.status.idle": "2022-10-26T00:50:05.721367Z",
     "shell.execute_reply": "2022-10-26T00:50:05.722099Z"
    },
    "papermill": {
     "duration": 0.046299,
     "end_time": "2022-10-26T00:50:05.722254",
     "exception": false,
     "start_time": "2022-10-26T00:50:05.675955",
     "status": "completed"
    },
    "tags": []
   },
   "outputs": [],
   "source": [
    "#hide\n",
    "# cols.insert(0, cols.pop())"
   ]
  },
  {
   "cell_type": "code",
   "execution_count": 30,
   "id": "executed-adoption",
   "metadata": {
    "execution": {
     "iopub.execute_input": "2022-10-26T00:50:05.806781Z",
     "iopub.status.busy": "2022-10-26T00:50:05.806001Z",
     "iopub.status.idle": "2022-10-26T00:50:05.808659Z",
     "shell.execute_reply": "2022-10-26T00:50:05.809222Z"
    },
    "papermill": {
     "duration": 0.047402,
     "end_time": "2022-10-26T00:50:05.809375",
     "exception": false,
     "start_time": "2022-10-26T00:50:05.761973",
     "status": "completed"
    },
    "tags": []
   },
   "outputs": [],
   "source": [
    "#hide\n",
    "# g = g[cols]"
   ]
  },
  {
   "cell_type": "code",
   "execution_count": 31,
   "id": "subject-dublin",
   "metadata": {
    "execution": {
     "iopub.execute_input": "2022-10-26T00:50:05.892803Z",
     "iopub.status.busy": "2022-10-26T00:50:05.891991Z",
     "iopub.status.idle": "2022-10-26T00:50:05.895285Z",
     "shell.execute_reply": "2022-10-26T00:50:05.894649Z"
    },
    "papermill": {
     "duration": 0.045799,
     "end_time": "2022-10-26T00:50:05.895419",
     "exception": false,
     "start_time": "2022-10-26T00:50:05.849620",
     "status": "completed"
    },
    "tags": []
   },
   "outputs": [],
   "source": [
    "#hide\n",
    "# g['continent'] = g['continent'].map(mapping['map.continent'])"
   ]
  },
  {
   "cell_type": "code",
   "execution_count": 32,
   "id": "freelance-scout",
   "metadata": {
    "execution": {
     "iopub.execute_input": "2022-10-26T00:50:05.979202Z",
     "iopub.status.busy": "2022-10-26T00:50:05.978402Z",
     "iopub.status.idle": "2022-10-26T00:50:05.981601Z",
     "shell.execute_reply": "2022-10-26T00:50:05.980977Z"
    },
    "papermill": {
     "duration": 0.04657,
     "end_time": "2022-10-26T00:50:05.981756",
     "exception": false,
     "start_time": "2022-10-26T00:50:05.935186",
     "status": "completed"
    },
    "tags": []
   },
   "outputs": [],
   "source": [
    "#hide\n",
    "# g.head()"
   ]
  },
  {
   "cell_type": "code",
   "execution_count": 33,
   "id": "limited-engine",
   "metadata": {
    "execution": {
     "iopub.execute_input": "2022-10-26T00:50:06.065932Z",
     "iopub.status.busy": "2022-10-26T00:50:06.065174Z",
     "iopub.status.idle": "2022-10-26T00:50:06.068468Z",
     "shell.execute_reply": "2022-10-26T00:50:06.067848Z"
    },
    "papermill": {
     "duration": 0.047824,
     "end_time": "2022-10-26T00:50:06.068602",
     "exception": false,
     "start_time": "2022-10-26T00:50:06.020778",
     "status": "completed"
    },
    "tags": []
   },
   "outputs": [],
   "source": [
    "# hide\n",
    "# g['date'] = g['date'].astype('datetime64[ns]')"
   ]
  },
  {
   "cell_type": "code",
   "execution_count": 34,
   "id": "sophisticated-supervisor",
   "metadata": {
    "execution": {
     "iopub.execute_input": "2022-10-26T00:50:06.151756Z",
     "iopub.status.busy": "2022-10-26T00:50:06.150892Z",
     "iopub.status.idle": "2022-10-26T00:50:06.153809Z",
     "shell.execute_reply": "2022-10-26T00:50:06.154371Z"
    },
    "papermill": {
     "duration": 0.046789,
     "end_time": "2022-10-26T00:50:06.154577",
     "exception": false,
     "start_time": "2022-10-26T00:50:06.107788",
     "status": "completed"
    },
    "tags": []
   },
   "outputs": [],
   "source": [
    "#hide\n",
    "# g['date'] = g.date.dt.dayofyear"
   ]
  },
  {
   "cell_type": "code",
   "execution_count": 35,
   "id": "inside-dubai",
   "metadata": {
    "execution": {
     "iopub.execute_input": "2022-10-26T00:50:06.239428Z",
     "iopub.status.busy": "2022-10-26T00:50:06.238579Z",
     "iopub.status.idle": "2022-10-26T00:50:06.243280Z",
     "shell.execute_reply": "2022-10-26T00:50:06.242603Z"
    },
    "papermill": {
     "duration": 0.04914,
     "end_time": "2022-10-26T00:50:06.243418",
     "exception": false,
     "start_time": "2022-10-26T00:50:06.194278",
     "status": "completed"
    },
    "tags": []
   },
   "outputs": [],
   "source": [
    "#hide\n",
    "# g = g.rename(columns= {'continent':'group','country':'name','cases':'value'})"
   ]
  },
  {
   "cell_type": "code",
   "execution_count": 36,
   "id": "fleet-motorcycle",
   "metadata": {
    "execution": {
     "iopub.execute_input": "2022-10-26T00:50:06.330369Z",
     "iopub.status.busy": "2022-10-26T00:50:06.329604Z",
     "iopub.status.idle": "2022-10-26T00:50:06.332284Z",
     "shell.execute_reply": "2022-10-26T00:50:06.332878Z"
    },
    "papermill": {
     "duration": 0.045814,
     "end_time": "2022-10-26T00:50:06.333040",
     "exception": false,
     "start_time": "2022-10-26T00:50:06.287226",
     "status": "completed"
    },
    "tags": []
   },
   "outputs": [],
   "source": [
    "#hide\n",
    "# cols = ['name','group','day','value']"
   ]
  },
  {
   "cell_type": "code",
   "execution_count": 37,
   "id": "continued-sleeping",
   "metadata": {
    "execution": {
     "iopub.execute_input": "2022-10-26T00:50:06.416476Z",
     "iopub.status.busy": "2022-10-26T00:50:06.415715Z",
     "iopub.status.idle": "2022-10-26T00:50:06.421457Z",
     "shell.execute_reply": "2022-10-26T00:50:06.422031Z"
    },
    "papermill": {
     "duration": 0.05024,
     "end_time": "2022-10-26T00:50:06.422199",
     "exception": false,
     "start_time": "2022-10-26T00:50:06.371959",
     "status": "completed"
    },
    "tags": []
   },
   "outputs": [],
   "source": [
    "#hide\n",
    "# g.rename(columns= {'date':'day'},inplace = True)"
   ]
  },
  {
   "cell_type": "code",
   "execution_count": 38,
   "id": "major-fight",
   "metadata": {
    "execution": {
     "iopub.execute_input": "2022-10-26T00:50:06.504664Z",
     "iopub.status.busy": "2022-10-26T00:50:06.503889Z",
     "iopub.status.idle": "2022-10-26T00:50:06.507223Z",
     "shell.execute_reply": "2022-10-26T00:50:06.506600Z"
    },
    "papermill": {
     "duration": 0.045859,
     "end_time": "2022-10-26T00:50:06.507364",
     "exception": false,
     "start_time": "2022-10-26T00:50:06.461505",
     "status": "completed"
    },
    "tags": []
   },
   "outputs": [],
   "source": [
    "#hide\n",
    "# g = g[cols]"
   ]
  },
  {
   "cell_type": "code",
   "execution_count": 39,
   "id": "structured-mobile",
   "metadata": {
    "execution": {
     "iopub.execute_input": "2022-10-26T00:50:06.590764Z",
     "iopub.status.busy": "2022-10-26T00:50:06.590005Z",
     "iopub.status.idle": "2022-10-26T00:50:06.593255Z",
     "shell.execute_reply": "2022-10-26T00:50:06.592529Z"
    },
    "papermill": {
     "duration": 0.046608,
     "end_time": "2022-10-26T00:50:06.593402",
     "exception": false,
     "start_time": "2022-10-26T00:50:06.546794",
     "status": "completed"
    },
    "tags": []
   },
   "outputs": [],
   "source": [
    "# #hide\n",
    "# g = g[g.group.notna()]"
   ]
  },
  {
   "cell_type": "code",
   "execution_count": 40,
   "id": "determined-closing",
   "metadata": {
    "execution": {
     "iopub.execute_input": "2022-10-26T00:50:06.683216Z",
     "iopub.status.busy": "2022-10-26T00:50:06.682433Z",
     "iopub.status.idle": "2022-10-26T00:50:06.685732Z",
     "shell.execute_reply": "2022-10-26T00:50:06.685004Z"
    },
    "papermill": {
     "duration": 0.049887,
     "end_time": "2022-10-26T00:50:06.685866",
     "exception": false,
     "start_time": "2022-10-26T00:50:06.635979",
     "status": "completed"
    },
    "tags": []
   },
   "outputs": [],
   "source": [
    "# #hide\n",
    "# colors = dict(zip(\n",
    "#     [\"Oceania\", \"Europe\", \"Asia\", \"South America\", \"Middle East\", \"North America\", \"Africa\"],\n",
    "#     [\"#adb0ff\", \"#ffb3ff\", \"#90d595\", \"#e48381\", \"#aafbff\", \"#f7bb5f\", \"#eafb50\"]\n",
    "# ))\n",
    "# group_lk = g.set_index('name')['group'].to_dict()"
   ]
  },
  {
   "cell_type": "code",
   "execution_count": null,
   "id": "gross-drinking",
   "metadata": {
    "papermill": {
     "duration": 0.041061,
     "end_time": "2022-10-26T00:50:06.774716",
     "exception": false,
     "start_time": "2022-10-26T00:50:06.733655",
     "status": "completed"
    },
    "tags": []
   },
   "outputs": [],
   "source": []
  },
  {
   "cell_type": "code",
   "execution_count": 41,
   "id": "subject-macintosh",
   "metadata": {
    "execution": {
     "iopub.execute_input": "2022-10-26T00:50:06.857193Z",
     "iopub.status.busy": "2022-10-26T00:50:06.856396Z",
     "iopub.status.idle": "2022-10-26T00:50:06.859626Z",
     "shell.execute_reply": "2022-10-26T00:50:06.858970Z"
    },
    "papermill": {
     "duration": 0.046903,
     "end_time": "2022-10-26T00:50:06.859766",
     "exception": false,
     "start_time": "2022-10-26T00:50:06.812863",
     "status": "completed"
    },
    "tags": []
   },
   "outputs": [],
   "source": [
    "# #hide\n",
    "# fig, ax = plt.subplots(figsize=(15, 8))\n",
    "\n",
    "# def draw_barchart(current_day):\n",
    "#     dff = g[g['day'].eq(current_day)].sort_values(by='value', ascending=True).tail(10)\n",
    "#     ax.clear()\n",
    "#     ax.barh(dff['name'], dff['value'], color=[colors[group_lk[x]] for x in dff['name']])\n",
    "#     dx = dff['value'].max() / 200\n",
    "    \n",
    "#     for i, (value, name) in enumerate(zip(dff['value'], dff['name'])):\n",
    "#         ax.text(value-dx, i,     name,           size=14, weight=600, ha='right', va='bottom')\n",
    "#         ax.text(value-dx, i-.25, group_lk[name], size=10, color='#444444', ha='right', va='baseline')\n",
    "#         ax.text(value+dx, i,     f'{value:,.0f}',  size=14, ha='left',  va='center')\n",
    "#     ax.text(1, 0.4, current_day, transform=ax.transAxes, color='#777777', size=46, ha='right', weight=800)\n",
    "#     ax.text(0, 1.06, 'Population (thousands)', transform=ax.transAxes, size=12, color='#777777')\n",
    "#     ax.xaxis.set_major_formatter(ticker.StrMethodFormatter('{x:,.0f}'))\n",
    "#     ax.xaxis.set_ticks_position('top')\n",
    "#     ax.tick_params(axis='x', colors='#777777', labelsize=12)\n",
    "#     ax.set_yticks([])\n",
    "#     ax.margins(0, 0.01)\n",
    "#     ax.grid(which='major', axis='x', linestyle='-')\n",
    "#     ax.set_axisbelow(True)\n",
    "    \n",
    "#     ax.text(0, 1.15, 'Coronavirus',\n",
    "#             transform=ax.transAxes, size=24, weight=600, ha='left', va='top')\n",
    "# #     ax.text(1, 0, 'by @pratapvardhan; credit @jburnmurdoch', transform=ax.transAxes, color='#777777', ha='right',\n",
    "# #             bbox=dict(facecolor='white', alpha=0.8, edgecolor='white'))\n",
    "#     plt.box(False)"
   ]
  },
  {
   "cell_type": "code",
   "execution_count": 42,
   "id": "sexual-wages",
   "metadata": {
    "execution": {
     "iopub.execute_input": "2022-10-26T00:50:06.944329Z",
     "iopub.status.busy": "2022-10-26T00:50:06.943580Z",
     "iopub.status.idle": "2022-10-26T00:50:06.946811Z",
     "shell.execute_reply": "2022-10-26T00:50:06.946084Z"
    },
    "papermill": {
     "duration": 0.048331,
     "end_time": "2022-10-26T00:50:06.946946",
     "exception": false,
     "start_time": "2022-10-26T00:50:06.898615",
     "status": "completed"
    },
    "tags": []
   },
   "outputs": [],
   "source": [
    "# #hide_input\n",
    "# fig, ax = plt.subplots(figsize=(15, 8))\n",
    "# animator = animation.FuncAnimation(fig, draw_barchart, frames=range(g.day.values.min(), g.day.values.max()))\n",
    "# HTML(animator.to_jshtml())\n",
    "# # or use animator.to_html5_video() or animator.save() "
   ]
  },
  {
   "cell_type": "code",
   "execution_count": null,
   "id": "australian-container",
   "metadata": {
    "papermill": {
     "duration": 0.040583,
     "end_time": "2022-10-26T00:50:07.028293",
     "exception": false,
     "start_time": "2022-10-26T00:50:06.987710",
     "status": "completed"
    },
    "tags": []
   },
   "outputs": [],
   "source": []
  },
  {
   "cell_type": "code",
   "execution_count": null,
   "id": "mediterranean-pontiac",
   "metadata": {
    "papermill": {
     "duration": 0.041321,
     "end_time": "2022-10-26T00:50:07.109254",
     "exception": false,
     "start_time": "2022-10-26T00:50:07.067933",
     "status": "completed"
    },
    "tags": []
   },
   "outputs": [],
   "source": []
  },
  {
   "cell_type": "code",
   "execution_count": null,
   "id": "aging-legislature",
   "metadata": {
    "papermill": {
     "duration": 0.038158,
     "end_time": "2022-10-26T00:50:07.186173",
     "exception": false,
     "start_time": "2022-10-26T00:50:07.148015",
     "status": "completed"
    },
    "tags": []
   },
   "outputs": [],
   "source": []
  }
 ],
 "metadata": {
  "kernelspec": {
   "display_name": "Python 3",
   "language": "python",
   "name": "python3"
  },
  "language_info": {
   "codemirror_mode": {
    "name": "ipython",
    "version": 3
   },
   "file_extension": ".py",
   "mimetype": "text/x-python",
   "name": "python",
   "nbconvert_exporter": "python",
   "pygments_lexer": "ipython3",
   "version": "3.6.15"
  },
  "papermill": {
   "duration": 7.586394,
   "end_time": "2022-10-26T00:50:07.646741",
   "environment_variables": {},
   "exception": null,
   "input_path": "2020-03-21-covid19exp.ipynb",
   "output_path": "2020-03-21-covid19exp.ipynb",
   "parameters": {},
   "start_time": "2022-10-26T00:50:00.060347",
   "version": "2.0.0"
  }
 },
 "nbformat": 4,
 "nbformat_minor": 5
}