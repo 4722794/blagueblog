{
 "cells": [
  {
   "cell_type": "markdown",
   "id": "muslim-click",
   "metadata": {
    "papermill": {
     "duration": 0.0373,
     "end_time": "2021-01-30T00:13:35.951703",
     "exception": false,
     "start_time": "2021-01-30T00:13:35.914403",
     "status": "completed"
    },
    "tags": []
   },
   "source": [
    "# COVID-19 Case Race\n",
    "> A race chart to see rising cases around the world\n",
    "\n",
    "- author: Hargun Oberoi\n",
    "- image: images/covid-overview.png\n",
    "- hide: false\n",
    "- badges: false"
   ]
  },
  {
   "cell_type": "code",
   "execution_count": 1,
   "id": "proof-material",
   "metadata": {
    "execution": {
     "iopub.execute_input": "2021-01-30T00:13:36.026823Z",
     "iopub.status.busy": "2021-01-30T00:13:36.026202Z",
     "iopub.status.idle": "2021-01-30T00:13:36.337220Z",
     "shell.execute_reply": "2021-01-30T00:13:36.336719Z"
    },
    "papermill": {
     "duration": 0.354484,
     "end_time": "2021-01-30T00:13:36.337366",
     "exception": false,
     "start_time": "2021-01-30T00:13:35.982882",
     "status": "completed"
    },
    "tags": []
   },
   "outputs": [],
   "source": [
    "#hide\n",
    "import numpy as np\n",
    "import pandas as pd\n",
    "from jinja2 import Template\n",
    "from IPython.display import HTML"
   ]
  },
  {
   "cell_type": "code",
   "execution_count": 2,
   "id": "developed-terminology",
   "metadata": {
    "execution": {
     "iopub.execute_input": "2021-01-30T00:13:36.398068Z",
     "iopub.status.busy": "2021-01-30T00:13:36.397651Z",
     "iopub.status.idle": "2021-01-30T00:13:36.399929Z",
     "shell.execute_reply": "2021-01-30T00:13:36.400457Z"
    },
    "papermill": {
     "duration": 0.035144,
     "end_time": "2021-01-30T00:13:36.400601",
     "exception": false,
     "start_time": "2021-01-30T00:13:36.365457",
     "status": "completed"
    },
    "tags": []
   },
   "outputs": [],
   "source": [
    "#hide\n",
    "\n",
    "# FETCH\n",
    "base_url = 'https://raw.githubusercontent.com/pratapvardhan/notebooks/master/covid19/'\n",
    "paths = {\n",
    "    'mapping': base_url + 'mapping_countries.csv',\n",
    "    'overview': base_url + 'overview.tpl'\n",
    "}"
   ]
  },
  {
   "cell_type": "code",
   "execution_count": 3,
   "id": "dynamic-saver",
   "metadata": {
    "execution": {
     "iopub.execute_input": "2021-01-30T00:13:36.466021Z",
     "iopub.status.busy": "2021-01-30T00:13:36.465443Z",
     "iopub.status.idle": "2021-01-30T00:13:36.467787Z",
     "shell.execute_reply": "2021-01-30T00:13:36.468203Z"
    },
    "papermill": {
     "duration": 0.039245,
     "end_time": "2021-01-30T00:13:36.468306",
     "exception": false,
     "start_time": "2021-01-30T00:13:36.429061",
     "status": "completed"
    },
    "tags": []
   },
   "outputs": [
    {
     "data": {
      "text/plain": [
       "'https://raw.githubusercontent.com/pratapvardhan/notebooks/master/covid19/mapping_countries.csv'"
      ]
     },
     "execution_count": 3,
     "metadata": {},
     "output_type": "execute_result"
    }
   ],
   "source": [
    "#hide\n",
    "paths['mapping']"
   ]
  },
  {
   "cell_type": "code",
   "execution_count": 4,
   "id": "urban-software",
   "metadata": {
    "execution": {
     "iopub.execute_input": "2021-01-30T00:13:36.535279Z",
     "iopub.status.busy": "2021-01-30T00:13:36.534719Z",
     "iopub.status.idle": "2021-01-30T00:13:36.537165Z",
     "shell.execute_reply": "2021-01-30T00:13:36.536673Z"
    },
    "papermill": {
     "duration": 0.037116,
     "end_time": "2021-01-30T00:13:36.537278",
     "exception": false,
     "start_time": "2021-01-30T00:13:36.500162",
     "status": "completed"
    },
    "tags": []
   },
   "outputs": [],
   "source": [
    "#hide\n",
    "def get_mappings(url):\n",
    "    df = pd.read_csv(url)\n",
    "    return {\n",
    "        'df': df,\n",
    "        'replace.country': dict(df.dropna(subset=['Name']).set_index('Country')['Name']),\n",
    "        'map.continent': dict(df.set_index('Name')['Continent'])\n",
    "    }"
   ]
  },
  {
   "cell_type": "code",
   "execution_count": 5,
   "id": "intimate-machinery",
   "metadata": {
    "execution": {
     "iopub.execute_input": "2021-01-30T00:13:36.600343Z",
     "iopub.status.busy": "2021-01-30T00:13:36.599800Z",
     "iopub.status.idle": "2021-01-30T00:13:36.668518Z",
     "shell.execute_reply": "2021-01-30T00:13:36.667675Z"
    },
    "papermill": {
     "duration": 0.103091,
     "end_time": "2021-01-30T00:13:36.668692",
     "exception": false,
     "start_time": "2021-01-30T00:13:36.565601",
     "status": "completed"
    },
    "tags": []
   },
   "outputs": [],
   "source": [
    "#hide\n",
    "mapping = get_mappings(paths['mapping'])"
   ]
  },
  {
   "cell_type": "code",
   "execution_count": 6,
   "id": "certified-tactics",
   "metadata": {
    "execution": {
     "iopub.execute_input": "2021-01-30T00:13:36.736430Z",
     "iopub.status.busy": "2021-01-30T00:13:36.735840Z",
     "iopub.status.idle": "2021-01-30T00:13:36.737810Z",
     "shell.execute_reply": "2021-01-30T00:13:36.738123Z"
    },
    "papermill": {
     "duration": 0.038605,
     "end_time": "2021-01-30T00:13:36.738221",
     "exception": false,
     "start_time": "2021-01-30T00:13:36.699616",
     "status": "completed"
    },
    "tags": []
   },
   "outputs": [],
   "source": [
    "#hide\n",
    "def get_template(path):\n",
    "    from urllib.parse import urlparse\n",
    "    if bool(urlparse(path).netloc):\n",
    "        from urllib.request import urlopen\n",
    "        return urlopen(path).read().decode('utf8')\n",
    "    return open(path).read()"
   ]
  },
  {
   "cell_type": "code",
   "execution_count": 7,
   "id": "realistic-blast",
   "metadata": {
    "execution": {
     "iopub.execute_input": "2021-01-30T00:13:36.795686Z",
     "iopub.status.busy": "2021-01-30T00:13:36.795147Z",
     "iopub.status.idle": "2021-01-30T00:13:36.797237Z",
     "shell.execute_reply": "2021-01-30T00:13:36.796891Z"
    },
    "papermill": {
     "duration": 0.032076,
     "end_time": "2021-01-30T00:13:36.797318",
     "exception": false,
     "start_time": "2021-01-30T00:13:36.765242",
     "status": "completed"
    },
    "tags": []
   },
   "outputs": [],
   "source": [
    "#hide\n",
    "def get_frame(name):\n",
    "    url = (\n",
    "        'https://raw.githubusercontent.com/CSSEGISandData/COVID-19/master/csse_covid_19_data/'\n",
    "        f'csse_covid_19_time_series/time_series_covid19_{name}_global.csv')\n",
    "    df = pd.read_csv(url)\n",
    "    # rename countries\n",
    "    df['Country/Region'] = df['Country/Region'].replace(mapping['replace.country'])\n",
    "    return df"
   ]
  },
  {
   "cell_type": "code",
   "execution_count": 8,
   "id": "affiliated-characterization",
   "metadata": {
    "execution": {
     "iopub.execute_input": "2021-01-30T00:13:36.858892Z",
     "iopub.status.busy": "2021-01-30T00:13:36.858416Z",
     "iopub.status.idle": "2021-01-30T00:13:36.860452Z",
     "shell.execute_reply": "2021-01-30T00:13:36.860052Z"
    },
    "papermill": {
     "duration": 0.037771,
     "end_time": "2021-01-30T00:13:36.860544",
     "exception": false,
     "start_time": "2021-01-30T00:13:36.822773",
     "status": "completed"
    },
    "tags": []
   },
   "outputs": [],
   "source": [
    "#hide\n",
    "def get_dates(df):\n",
    "    dt_cols = df.columns[~df.columns.isin(['Province/State', 'Country/Region', 'Lat', 'Long'])]\n",
    "    LAST_DATE_I = -1\n",
    "    # sometimes last column may be empty, then go backwards\n",
    "    for i in range(-1, -len(dt_cols), -1):\n",
    "        if not df[dt_cols[i]].fillna(0).eq(0).all():\n",
    "            LAST_DATE_I = i\n",
    "            break\n",
    "    return LAST_DATE_I, dt_cols"
   ]
  },
  {
   "cell_type": "code",
   "execution_count": 9,
   "id": "recent-optimization",
   "metadata": {
    "execution": {
     "iopub.execute_input": "2021-01-30T00:13:36.915320Z",
     "iopub.status.busy": "2021-01-30T00:13:36.914656Z",
     "iopub.status.idle": "2021-01-30T00:13:37.316596Z",
     "shell.execute_reply": "2021-01-30T00:13:37.315946Z"
    },
    "papermill": {
     "duration": 0.430945,
     "end_time": "2021-01-30T00:13:37.316764",
     "exception": false,
     "start_time": "2021-01-30T00:13:36.885819",
     "status": "completed"
    },
    "tags": []
   },
   "outputs": [],
   "source": [
    "#hide\n",
    "COL_REGION = 'Country/Region'\n",
    "# Confirmed, Recovered, Deaths\n",
    "df = get_frame('confirmed')\n",
    "# dft_: timeseries, dfc_: today country agg\n",
    "dft_cases = df\n",
    "dft_deaths = get_frame('deaths')\n",
    "dft_recovered = get_frame('recovered')\n",
    "LAST_DATE_I, dt_cols = get_dates(df)"
   ]
  },
  {
   "cell_type": "code",
   "execution_count": 10,
   "id": "absolute-copper",
   "metadata": {
    "execution": {
     "iopub.execute_input": "2021-01-30T00:13:37.384588Z",
     "iopub.status.busy": "2021-01-30T00:13:37.383610Z",
     "iopub.status.idle": "2021-01-30T00:13:37.385284Z",
     "shell.execute_reply": "2021-01-30T00:13:37.385652Z"
    },
    "papermill": {
     "duration": 0.036727,
     "end_time": "2021-01-30T00:13:37.385770",
     "exception": false,
     "start_time": "2021-01-30T00:13:37.349043",
     "status": "completed"
    },
    "tags": []
   },
   "outputs": [],
   "source": [
    "#hide\n",
    "LAST_DATE_I, dt_cols = get_dates(df)\n",
    "dt_today =dt_cols[LAST_DATE_I]\n",
    "# dt_5day = dt_cols[LAST_DATE_I - 5]\n",
    "dt_yday = dt_cols[LAST_DATE_I - 1]"
   ]
  },
  {
   "cell_type": "code",
   "execution_count": 11,
   "id": "restricted-sheriff",
   "metadata": {
    "execution": {
     "iopub.execute_input": "2021-01-30T00:13:37.458668Z",
     "iopub.status.busy": "2021-01-30T00:13:37.458125Z",
     "iopub.status.idle": "2021-01-30T00:13:37.463847Z",
     "shell.execute_reply": "2021-01-30T00:13:37.463388Z"
    },
    "papermill": {
     "duration": 0.048461,
     "end_time": "2021-01-30T00:13:37.463965",
     "exception": false,
     "start_time": "2021-01-30T00:13:37.415504",
     "status": "completed"
    },
    "tags": []
   },
   "outputs": [],
   "source": [
    "#hide\n",
    "dfc_cases = dft_cases.groupby(COL_REGION)[dt_today].sum()\n",
    "dfc_deaths = dft_deaths.groupby(COL_REGION)[dt_today].sum()\n",
    "# dfp_cases = dft_cases.groupby(COL_REGION)[dt_5day].sum()\n",
    "# dfp_deaths = dft_deaths.groupby(COL_REGION)[dt_5day].sum()\n",
    "dfp_cases = dft_cases.groupby(COL_REGION)[dt_yday].sum()\n",
    "dfp_deaths = dft_deaths.groupby(COL_REGION)[dt_yday].sum()"
   ]
  },
  {
   "cell_type": "code",
   "execution_count": 12,
   "id": "deluxe-hepatitis",
   "metadata": {
    "execution": {
     "iopub.execute_input": "2021-01-30T00:13:37.531911Z",
     "iopub.status.busy": "2021-01-30T00:13:37.531309Z",
     "iopub.status.idle": "2021-01-30T00:13:37.536429Z",
     "shell.execute_reply": "2021-01-30T00:13:37.536985Z"
    },
    "papermill": {
     "duration": 0.04407,
     "end_time": "2021-01-30T00:13:37.537118",
     "exception": false,
     "start_time": "2021-01-30T00:13:37.493048",
     "status": "completed"
    },
    "tags": []
   },
   "outputs": [],
   "source": [
    "#hide\n",
    "df_table = (pd.DataFrame(dict(Cases = dfc_cases, Deaths = dfc_deaths, PCases = dfp_cases, PDeaths = dfp_deaths))\n",
    "            .sort_values(by = ['Cases','Deaths'], ascending = [False, False])\n",
    "            .reset_index())"
   ]
  },
  {
   "cell_type": "code",
   "execution_count": 13,
   "id": "educational-chancellor",
   "metadata": {
    "execution": {
     "iopub.execute_input": "2021-01-30T00:13:37.619374Z",
     "iopub.status.busy": "2021-01-30T00:13:37.614783Z",
     "iopub.status.idle": "2021-01-30T00:13:37.626834Z",
     "shell.execute_reply": "2021-01-30T00:13:37.626336Z"
    },
    "papermill": {
     "duration": 0.058766,
     "end_time": "2021-01-30T00:13:37.626951",
     "exception": false,
     "start_time": "2021-01-30T00:13:37.568185",
     "status": "completed"
    },
    "tags": []
   },
   "outputs": [
    {
     "data": {
      "text/html": [
       "<div>\n",
       "<style scoped>\n",
       "    .dataframe tbody tr th:only-of-type {\n",
       "        vertical-align: middle;\n",
       "    }\n",
       "\n",
       "    .dataframe tbody tr th {\n",
       "        vertical-align: top;\n",
       "    }\n",
       "\n",
       "    .dataframe thead th {\n",
       "        text-align: right;\n",
       "    }\n",
       "</style>\n",
       "<table border=\"1\" class=\"dataframe\">\n",
       "  <thead>\n",
       "    <tr style=\"text-align: right;\">\n",
       "      <th></th>\n",
       "      <th>Country/Region</th>\n",
       "      <th>Cases</th>\n",
       "      <th>Deaths</th>\n",
       "      <th>PCases</th>\n",
       "      <th>PDeaths</th>\n",
       "      <th>Cases (+)</th>\n",
       "      <th>Deaths (+)</th>\n",
       "      <th>Fatality Rate</th>\n",
       "      <th>Continent</th>\n",
       "    </tr>\n",
       "  </thead>\n",
       "  <tbody>\n",
       "    <tr>\n",
       "      <th>0</th>\n",
       "      <td>US</td>\n",
       "      <td>25766681</td>\n",
       "      <td>433195</td>\n",
       "      <td>25598061</td>\n",
       "      <td>429195</td>\n",
       "      <td>168620</td>\n",
       "      <td>4000</td>\n",
       "      <td>1.68</td>\n",
       "      <td>North America</td>\n",
       "    </tr>\n",
       "    <tr>\n",
       "      <th>1</th>\n",
       "      <td>India</td>\n",
       "      <td>10720048</td>\n",
       "      <td>154010</td>\n",
       "      <td>10701193</td>\n",
       "      <td>153847</td>\n",
       "      <td>18855</td>\n",
       "      <td>163</td>\n",
       "      <td>1.44</td>\n",
       "      <td>Asia</td>\n",
       "    </tr>\n",
       "    <tr>\n",
       "      <th>2</th>\n",
       "      <td>Brazil</td>\n",
       "      <td>9058687</td>\n",
       "      <td>221547</td>\n",
       "      <td>8996876</td>\n",
       "      <td>220161</td>\n",
       "      <td>61811</td>\n",
       "      <td>1386</td>\n",
       "      <td>2.45</td>\n",
       "      <td>South America</td>\n",
       "    </tr>\n",
       "    <tr>\n",
       "      <th>3</th>\n",
       "      <td>United Kingdom</td>\n",
       "      <td>3754448</td>\n",
       "      <td>103324</td>\n",
       "      <td>3725637</td>\n",
       "      <td>102085</td>\n",
       "      <td>28811</td>\n",
       "      <td>1239</td>\n",
       "      <td>2.75</td>\n",
       "      <td>Europe</td>\n",
       "    </tr>\n",
       "    <tr>\n",
       "      <th>4</th>\n",
       "      <td>Russia</td>\n",
       "      <td>3752548</td>\n",
       "      <td>70533</td>\n",
       "      <td>3733692</td>\n",
       "      <td>69971</td>\n",
       "      <td>18856</td>\n",
       "      <td>562</td>\n",
       "      <td>1.88</td>\n",
       "      <td>Europe</td>\n",
       "    </tr>\n",
       "  </tbody>\n",
       "</table>\n",
       "</div>"
      ],
      "text/plain": [
       "   Country/Region     Cases  Deaths    PCases  PDeaths  Cases (+)  Deaths (+)  \\\n",
       "0              US  25766681  433195  25598061   429195     168620        4000   \n",
       "1           India  10720048  154010  10701193   153847      18855         163   \n",
       "2          Brazil   9058687  221547   8996876   220161      61811        1386   \n",
       "3  United Kingdom   3754448  103324   3725637   102085      28811        1239   \n",
       "4          Russia   3752548   70533   3733692    69971      18856         562   \n",
       "\n",
       "   Fatality Rate      Continent  \n",
       "0           1.68  North America  \n",
       "1           1.44           Asia  \n",
       "2           2.45  South America  \n",
       "3           2.75         Europe  \n",
       "4           1.88         Europe  "
      ]
     },
     "execution_count": 13,
     "metadata": {},
     "output_type": "execute_result"
    }
   ],
   "source": [
    "#hide\n",
    "for c in 'Cases, Deaths'.split(', '):\n",
    "    df_table[f'{c} (+)'] = (df_table[c] - df_table[f'P{c}']).clip(0)\n",
    "    #Clip ça veut dire, les chiffres negatif sont interdit\n",
    "df_table['Fatality Rate'] = (100* df_table['Deaths']/ df_table['Cases']).round(2)\n",
    "df_table['Continent'] = df_table['Country/Region'].map(mapping['map.continent'])\n",
    "df_table.head(5)"
   ]
  },
  {
   "cell_type": "code",
   "execution_count": 14,
   "id": "aboriginal-bulgaria",
   "metadata": {
    "execution": {
     "iopub.execute_input": "2021-01-30T00:13:37.690787Z",
     "iopub.status.busy": "2021-01-30T00:13:37.690298Z",
     "iopub.status.idle": "2021-01-30T00:13:37.692111Z",
     "shell.execute_reply": "2021-01-30T00:13:37.692492Z"
    },
    "papermill": {
     "duration": 0.037803,
     "end_time": "2021-01-30T00:13:37.692597",
     "exception": false,
     "start_time": "2021-01-30T00:13:37.654794",
     "status": "completed"
    },
    "tags": []
   },
   "outputs": [],
   "source": [
    "#hide\n",
    "#delete problematic countries from table\n",
    "df_table = df_table[~df_table['Country/Region'].isin(['Cape Verde', 'Cruise Ship', 'Kosovo'])]"
   ]
  },
  {
   "cell_type": "code",
   "execution_count": 15,
   "id": "fantastic-effect",
   "metadata": {
    "execution": {
     "iopub.execute_input": "2021-01-30T00:13:37.761790Z",
     "iopub.status.busy": "2021-01-30T00:13:37.761223Z",
     "iopub.status.idle": "2021-01-30T00:13:37.778712Z",
     "shell.execute_reply": "2021-01-30T00:13:37.778257Z"
    },
    "papermill": {
     "duration": 0.055729,
     "end_time": "2021-01-30T00:13:37.778819",
     "exception": false,
     "start_time": "2021-01-30T00:13:37.723090",
     "status": "completed"
    },
    "tags": []
   },
   "outputs": [
    {
     "data": {
      "text/html": [
       "<div>\n",
       "<style scoped>\n",
       "    .dataframe tbody tr th:only-of-type {\n",
       "        vertical-align: middle;\n",
       "    }\n",
       "\n",
       "    .dataframe tbody tr th {\n",
       "        vertical-align: top;\n",
       "    }\n",
       "\n",
       "    .dataframe thead th {\n",
       "        text-align: right;\n",
       "    }\n",
       "</style>\n",
       "<table border=\"1\" class=\"dataframe\">\n",
       "  <thead>\n",
       "    <tr style=\"text-align: right;\">\n",
       "      <th></th>\n",
       "      <th>Country/Region</th>\n",
       "      <th>Cases</th>\n",
       "      <th>Deaths</th>\n",
       "      <th>PCases</th>\n",
       "      <th>PDeaths</th>\n",
       "      <th>Cases (+)</th>\n",
       "      <th>Deaths (+)</th>\n",
       "      <th>Fatality Rate</th>\n",
       "      <th>Continent</th>\n",
       "    </tr>\n",
       "  </thead>\n",
       "  <tbody>\n",
       "    <tr>\n",
       "      <th>0</th>\n",
       "      <td>US</td>\n",
       "      <td>25766681</td>\n",
       "      <td>433195</td>\n",
       "      <td>25598061</td>\n",
       "      <td>429195</td>\n",
       "      <td>168620</td>\n",
       "      <td>4000</td>\n",
       "      <td>1.7</td>\n",
       "      <td>North America</td>\n",
       "    </tr>\n",
       "    <tr>\n",
       "      <th>1</th>\n",
       "      <td>India</td>\n",
       "      <td>10720048</td>\n",
       "      <td>154010</td>\n",
       "      <td>10701193</td>\n",
       "      <td>153847</td>\n",
       "      <td>18855</td>\n",
       "      <td>163</td>\n",
       "      <td>1.4</td>\n",
       "      <td>Asia</td>\n",
       "    </tr>\n",
       "    <tr>\n",
       "      <th>2</th>\n",
       "      <td>Brazil</td>\n",
       "      <td>9058687</td>\n",
       "      <td>221547</td>\n",
       "      <td>8996876</td>\n",
       "      <td>220161</td>\n",
       "      <td>61811</td>\n",
       "      <td>1386</td>\n",
       "      <td>2.4</td>\n",
       "      <td>South America</td>\n",
       "    </tr>\n",
       "    <tr>\n",
       "      <th>3</th>\n",
       "      <td>United Kingdom</td>\n",
       "      <td>3754448</td>\n",
       "      <td>103324</td>\n",
       "      <td>3725637</td>\n",
       "      <td>102085</td>\n",
       "      <td>28811</td>\n",
       "      <td>1239</td>\n",
       "      <td>2.8</td>\n",
       "      <td>Europe</td>\n",
       "    </tr>\n",
       "    <tr>\n",
       "      <th>4</th>\n",
       "      <td>Russia</td>\n",
       "      <td>3752548</td>\n",
       "      <td>70533</td>\n",
       "      <td>3733692</td>\n",
       "      <td>69971</td>\n",
       "      <td>18856</td>\n",
       "      <td>562</td>\n",
       "      <td>1.9</td>\n",
       "      <td>Europe</td>\n",
       "    </tr>\n",
       "  </tbody>\n",
       "</table>\n",
       "</div>"
      ],
      "text/plain": [
       "   Country/Region     Cases  Deaths    PCases  PDeaths  Cases (+)  Deaths (+)  \\\n",
       "0              US  25766681  433195  25598061   429195     168620        4000   \n",
       "1           India  10720048  154010  10701193   153847      18855         163   \n",
       "2          Brazil   9058687  221547   8996876   220161      61811        1386   \n",
       "3  United Kingdom   3754448  103324   3725637   102085      28811        1239   \n",
       "4          Russia   3752548   70533   3733692    69971      18856         562   \n",
       "\n",
       "   Fatality Rate      Continent  \n",
       "0            1.7  North America  \n",
       "1            1.4           Asia  \n",
       "2            2.4  South America  \n",
       "3            2.8         Europe  \n",
       "4            1.9         Europe  "
      ]
     },
     "execution_count": 15,
     "metadata": {},
     "output_type": "execute_result"
    }
   ],
   "source": [
    "#hide\n",
    "df_table = (pd.DataFrame(dict(Cases=dfc_cases, Deaths=dfc_deaths, PCases=dfp_cases, PDeaths=dfp_deaths))\n",
    "             .sort_values(by=['Cases', 'Deaths'], ascending=[False, False])\n",
    "             .reset_index())\n",
    "df_table.rename(columns={'index': 'Country/Region'}, inplace=True)\n",
    "for c in 'Cases, Deaths'.split(', '):\n",
    "    df_table[f'{c} (+)'] = (df_table[c] - df_table[f'P{c}']).clip(0)  # DATA BUG\n",
    "df_table['Fatality Rate'] = (100 * df_table['Deaths'] / df_table['Cases']).round(1)\n",
    "df_table['Continent'] = df_table['Country/Region'].map(mapping['map.continent'])\n",
    "df_table.head(5)"
   ]
  },
  {
   "cell_type": "code",
   "execution_count": 16,
   "id": "fewer-occasion",
   "metadata": {
    "execution": {
     "iopub.execute_input": "2021-01-30T00:13:37.848682Z",
     "iopub.status.busy": "2021-01-30T00:13:37.848132Z",
     "iopub.status.idle": "2021-01-30T00:13:37.850200Z",
     "shell.execute_reply": "2021-01-30T00:13:37.850635Z"
    },
    "papermill": {
     "duration": 0.040026,
     "end_time": "2021-01-30T00:13:37.850765",
     "exception": false,
     "start_time": "2021-01-30T00:13:37.810739",
     "status": "completed"
    },
    "tags": []
   },
   "outputs": [],
   "source": [
    "#hide\n",
    "#delete problematic countries from table\n",
    "df_table = df_table[~df_table['Country/Region'].isin(['Cape Verde', 'Cruise Ship', 'Kosovo'])]"
   ]
  },
  {
   "cell_type": "code",
   "execution_count": 17,
   "id": "related-center",
   "metadata": {
    "execution": {
     "iopub.execute_input": "2021-01-30T00:13:37.916714Z",
     "iopub.status.busy": "2021-01-30T00:13:37.916180Z",
     "iopub.status.idle": "2021-01-30T00:13:37.927279Z",
     "shell.execute_reply": "2021-01-30T00:13:37.927761Z"
    },
    "papermill": {
     "duration": 0.047443,
     "end_time": "2021-01-30T00:13:37.927896",
     "exception": false,
     "start_time": "2021-01-30T00:13:37.880453",
     "status": "completed"
    },
    "tags": []
   },
   "outputs": [],
   "source": [
    "#hide\n",
    "metrics = [df_table.columns[index] for index in [1,2,5,6]]\n",
    "# s_china = df_table[df_table['Country/Region'].eq('China')][metrics].sum().add_prefix('China ')\n",
    "s_us = df_table[df_table['Country/Region'].eq('US')][metrics].sum().add_prefix('US ')\n",
    "s_eu = df_table[df_table['Continent'].eq('Europe')][metrics].sum().add_prefix('EU ')\n",
    "s_ind = df_table[df_table['Country/Region'].eq('India')][metrics].sum().add_prefix('India ')\n",
    "summary = {'updated': pd.to_datetime(dt_today), 'since': pd.to_datetime(dt_yday)}\n",
    "summary = {'updated': pd.to_datetime(dt_today), 'since': pd.to_datetime(dt_yday)}\n",
    "summary = {**summary, **df_table[metrics].sum(), **s_ind, **s_us, **s_eu}"
   ]
  },
  {
   "cell_type": "code",
   "execution_count": 18,
   "id": "engaging-syndrome",
   "metadata": {
    "execution": {
     "iopub.execute_input": "2021-01-30T00:13:37.989766Z",
     "iopub.status.busy": "2021-01-30T00:13:37.989297Z",
     "iopub.status.idle": "2021-01-30T00:13:37.999055Z",
     "shell.execute_reply": "2021-01-30T00:13:37.999523Z"
    },
    "papermill": {
     "duration": 0.046211,
     "end_time": "2021-01-30T00:13:37.999651",
     "exception": false,
     "start_time": "2021-01-30T00:13:37.953440",
     "status": "completed"
    },
    "tags": []
   },
   "outputs": [],
   "source": [
    "#hide\n",
    "dft_ct_new_cases = dft_cases.groupby(COL_REGION)[dt_cols].sum().diff(axis=1).fillna(0).astype(int)"
   ]
  },
  {
   "cell_type": "code",
   "execution_count": 19,
   "id": "neutral-assignment",
   "metadata": {
    "execution": {
     "iopub.execute_input": "2021-01-30T00:13:38.064553Z",
     "iopub.status.busy": "2021-01-30T00:13:38.063980Z",
     "iopub.status.idle": "2021-01-30T00:13:38.066126Z",
     "shell.execute_reply": "2021-01-30T00:13:38.065564Z"
    },
    "papermill": {
     "duration": 0.037396,
     "end_time": "2021-01-30T00:13:38.066239",
     "exception": false,
     "start_time": "2021-01-30T00:13:38.028843",
     "status": "completed"
    },
    "tags": []
   },
   "outputs": [],
   "source": [
    "#hide\n",
    "everydaycases = dft_ct_new_cases.cumsum(axis=1)"
   ]
  },
  {
   "cell_type": "code",
   "execution_count": 20,
   "id": "parliamentary-calgary",
   "metadata": {
    "execution": {
     "iopub.execute_input": "2021-01-30T00:13:38.133758Z",
     "iopub.status.busy": "2021-01-30T00:13:38.133282Z",
     "iopub.status.idle": "2021-01-30T00:13:38.739956Z",
     "shell.execute_reply": "2021-01-30T00:13:38.739365Z"
    },
    "papermill": {
     "duration": 0.64181,
     "end_time": "2021-01-30T00:13:38.740093",
     "exception": false,
     "start_time": "2021-01-30T00:13:38.098283",
     "status": "completed"
    },
    "tags": []
   },
   "outputs": [],
   "source": [
    "#hide\n",
    "import pandas as pd\n",
    "import matplotlib.pyplot as plt\n",
    "import matplotlib.ticker as ticker\n",
    "import matplotlib.animation as animation\n",
    "from IPython.display import HTML"
   ]
  },
  {
   "cell_type": "code",
   "execution_count": 21,
   "id": "lasting-extraction",
   "metadata": {
    "execution": {
     "iopub.execute_input": "2021-01-30T00:13:38.802928Z",
     "iopub.status.busy": "2021-01-30T00:13:38.801422Z",
     "iopub.status.idle": "2021-01-30T00:13:38.808294Z",
     "shell.execute_reply": "2021-01-30T00:13:38.807470Z"
    },
    "papermill": {
     "duration": 0.03859,
     "end_time": "2021-01-30T00:13:38.808397",
     "exception": false,
     "start_time": "2021-01-30T00:13:38.769807",
     "status": "completed"
    },
    "tags": []
   },
   "outputs": [],
   "source": [
    "#hide\n",
    "t = everydaycases.stack()"
   ]
  },
  {
   "cell_type": "code",
   "execution_count": 22,
   "id": "premier-sleeve",
   "metadata": {
    "execution": {
     "iopub.execute_input": "2021-01-30T00:13:38.870322Z",
     "iopub.status.busy": "2021-01-30T00:13:38.866140Z",
     "iopub.status.idle": "2021-01-30T00:13:38.872636Z",
     "shell.execute_reply": "2021-01-30T00:13:38.871614Z"
    },
    "papermill": {
     "duration": 0.037863,
     "end_time": "2021-01-30T00:13:38.872828",
     "exception": false,
     "start_time": "2021-01-30T00:13:38.834965",
     "status": "completed"
    },
    "tags": []
   },
   "outputs": [],
   "source": [
    "#hide\n",
    "g = t.reset_index(['Country/Region'])"
   ]
  },
  {
   "cell_type": "code",
   "execution_count": 23,
   "id": "distributed-pittsburgh",
   "metadata": {
    "execution": {
     "iopub.execute_input": "2021-01-30T00:13:38.929305Z",
     "iopub.status.busy": "2021-01-30T00:13:38.928851Z",
     "iopub.status.idle": "2021-01-30T00:13:38.931300Z",
     "shell.execute_reply": "2021-01-30T00:13:38.931814Z"
    },
    "papermill": {
     "duration": 0.032732,
     "end_time": "2021-01-30T00:13:38.931917",
     "exception": false,
     "start_time": "2021-01-30T00:13:38.899185",
     "status": "completed"
    },
    "tags": []
   },
   "outputs": [],
   "source": [
    "#hide\n",
    "g.index.name = 'date'"
   ]
  },
  {
   "cell_type": "code",
   "execution_count": 24,
   "id": "naked-donor",
   "metadata": {
    "execution": {
     "iopub.execute_input": "2021-01-30T00:13:38.986102Z",
     "iopub.status.busy": "2021-01-30T00:13:38.985534Z",
     "iopub.status.idle": "2021-01-30T00:13:38.987842Z",
     "shell.execute_reply": "2021-01-30T00:13:38.987427Z"
    },
    "papermill": {
     "duration": 0.031193,
     "end_time": "2021-01-30T00:13:38.987935",
     "exception": false,
     "start_time": "2021-01-30T00:13:38.956742",
     "status": "completed"
    },
    "tags": []
   },
   "outputs": [],
   "source": [
    "# #hide\n",
    "# g = g.reset_index(['date'])"
   ]
  },
  {
   "cell_type": "code",
   "execution_count": 25,
   "id": "incomplete-mustang",
   "metadata": {
    "execution": {
     "iopub.execute_input": "2021-01-30T00:13:39.044321Z",
     "iopub.status.busy": "2021-01-30T00:13:39.043802Z",
     "iopub.status.idle": "2021-01-30T00:13:39.045828Z",
     "shell.execute_reply": "2021-01-30T00:13:39.046161Z"
    },
    "papermill": {
     "duration": 0.031001,
     "end_time": "2021-01-30T00:13:39.046249",
     "exception": false,
     "start_time": "2021-01-30T00:13:39.015248",
     "status": "completed"
    },
    "tags": []
   },
   "outputs": [],
   "source": [
    "#hide\n",
    "# g.head()"
   ]
  },
  {
   "cell_type": "code",
   "execution_count": 26,
   "id": "specific-kruger",
   "metadata": {
    "execution": {
     "iopub.execute_input": "2021-01-30T00:13:39.106982Z",
     "iopub.status.busy": "2021-01-30T00:13:39.106509Z",
     "iopub.status.idle": "2021-01-30T00:13:39.108343Z",
     "shell.execute_reply": "2021-01-30T00:13:39.108779Z"
    },
    "papermill": {
     "duration": 0.035289,
     "end_time": "2021-01-30T00:13:39.108895",
     "exception": false,
     "start_time": "2021-01-30T00:13:39.073606",
     "status": "completed"
    },
    "tags": []
   },
   "outputs": [],
   "source": [
    "#hide\n",
    "# g.columns = ['date','country','cases']"
   ]
  },
  {
   "cell_type": "code",
   "execution_count": 27,
   "id": "tender-conversion",
   "metadata": {
    "execution": {
     "iopub.execute_input": "2021-01-30T00:13:39.166134Z",
     "iopub.status.busy": "2021-01-30T00:13:39.165727Z",
     "iopub.status.idle": "2021-01-30T00:13:39.167515Z",
     "shell.execute_reply": "2021-01-30T00:13:39.167951Z"
    },
    "papermill": {
     "duration": 0.032105,
     "end_time": "2021-01-30T00:13:39.168076",
     "exception": false,
     "start_time": "2021-01-30T00:13:39.135971",
     "status": "completed"
    },
    "tags": []
   },
   "outputs": [],
   "source": [
    "#hide\n",
    "# g['continent'] = g.country"
   ]
  },
  {
   "cell_type": "code",
   "execution_count": 28,
   "id": "substantial-wilderness",
   "metadata": {
    "execution": {
     "iopub.execute_input": "2021-01-30T00:13:39.225318Z",
     "iopub.status.busy": "2021-01-30T00:13:39.224840Z",
     "iopub.status.idle": "2021-01-30T00:13:39.227079Z",
     "shell.execute_reply": "2021-01-30T00:13:39.227528Z"
    },
    "papermill": {
     "duration": 0.032957,
     "end_time": "2021-01-30T00:13:39.227642",
     "exception": false,
     "start_time": "2021-01-30T00:13:39.194685",
     "status": "completed"
    },
    "tags": []
   },
   "outputs": [],
   "source": [
    "#hide\n",
    "# cols = list(g.columns.values)"
   ]
  },
  {
   "cell_type": "code",
   "execution_count": 29,
   "id": "solved-farming",
   "metadata": {
    "execution": {
     "iopub.execute_input": "2021-01-30T00:13:39.284243Z",
     "iopub.status.busy": "2021-01-30T00:13:39.283770Z",
     "iopub.status.idle": "2021-01-30T00:13:39.285794Z",
     "shell.execute_reply": "2021-01-30T00:13:39.286125Z"
    },
    "papermill": {
     "duration": 0.032202,
     "end_time": "2021-01-30T00:13:39.286214",
     "exception": false,
     "start_time": "2021-01-30T00:13:39.254012",
     "status": "completed"
    },
    "tags": []
   },
   "outputs": [],
   "source": [
    "#hide\n",
    "# cols.insert(0, cols.pop())"
   ]
  },
  {
   "cell_type": "code",
   "execution_count": 30,
   "id": "executed-adoption",
   "metadata": {
    "execution": {
     "iopub.execute_input": "2021-01-30T00:13:39.345616Z",
     "iopub.status.busy": "2021-01-30T00:13:39.345037Z",
     "iopub.status.idle": "2021-01-30T00:13:39.347780Z",
     "shell.execute_reply": "2021-01-30T00:13:39.348279Z"
    },
    "papermill": {
     "duration": 0.036374,
     "end_time": "2021-01-30T00:13:39.348380",
     "exception": false,
     "start_time": "2021-01-30T00:13:39.312006",
     "status": "completed"
    },
    "tags": []
   },
   "outputs": [],
   "source": [
    "#hide\n",
    "# g = g[cols]"
   ]
  },
  {
   "cell_type": "code",
   "execution_count": 31,
   "id": "subject-dublin",
   "metadata": {
    "execution": {
     "iopub.execute_input": "2021-01-30T00:13:39.405967Z",
     "iopub.status.busy": "2021-01-30T00:13:39.405495Z",
     "iopub.status.idle": "2021-01-30T00:13:39.409053Z",
     "shell.execute_reply": "2021-01-30T00:13:39.409526Z"
    },
    "papermill": {
     "duration": 0.034141,
     "end_time": "2021-01-30T00:13:39.409627",
     "exception": false,
     "start_time": "2021-01-30T00:13:39.375486",
     "status": "completed"
    },
    "tags": []
   },
   "outputs": [],
   "source": [
    "#hide\n",
    "# g['continent'] = g['continent'].map(mapping['map.continent'])"
   ]
  },
  {
   "cell_type": "code",
   "execution_count": 32,
   "id": "freelance-scout",
   "metadata": {
    "execution": {
     "iopub.execute_input": "2021-01-30T00:13:39.465493Z",
     "iopub.status.busy": "2021-01-30T00:13:39.465088Z",
     "iopub.status.idle": "2021-01-30T00:13:39.467955Z",
     "shell.execute_reply": "2021-01-30T00:13:39.468460Z"
    },
    "papermill": {
     "duration": 0.031753,
     "end_time": "2021-01-30T00:13:39.468582",
     "exception": false,
     "start_time": "2021-01-30T00:13:39.436829",
     "status": "completed"
    },
    "tags": []
   },
   "outputs": [],
   "source": [
    "#hide\n",
    "# g.head()"
   ]
  },
  {
   "cell_type": "code",
   "execution_count": 33,
   "id": "limited-engine",
   "metadata": {
    "execution": {
     "iopub.execute_input": "2021-01-30T00:13:39.529355Z",
     "iopub.status.busy": "2021-01-30T00:13:39.528772Z",
     "iopub.status.idle": "2021-01-30T00:13:39.531164Z",
     "shell.execute_reply": "2021-01-30T00:13:39.531715Z"
    },
    "papermill": {
     "duration": 0.035277,
     "end_time": "2021-01-30T00:13:39.531871",
     "exception": false,
     "start_time": "2021-01-30T00:13:39.496594",
     "status": "completed"
    },
    "tags": []
   },
   "outputs": [],
   "source": [
    "# hide\n",
    "# g['date'] = g['date'].astype('datetime64[ns]')"
   ]
  },
  {
   "cell_type": "code",
   "execution_count": 34,
   "id": "sophisticated-supervisor",
   "metadata": {
    "execution": {
     "iopub.execute_input": "2021-01-30T00:13:39.605035Z",
     "iopub.status.busy": "2021-01-30T00:13:39.604441Z",
     "iopub.status.idle": "2021-01-30T00:13:39.606821Z",
     "shell.execute_reply": "2021-01-30T00:13:39.607276Z"
    },
    "papermill": {
     "duration": 0.040335,
     "end_time": "2021-01-30T00:13:39.607396",
     "exception": false,
     "start_time": "2021-01-30T00:13:39.567061",
     "status": "completed"
    },
    "tags": []
   },
   "outputs": [],
   "source": [
    "#hide\n",
    "# g['date'] = g.date.dt.dayofyear"
   ]
  },
  {
   "cell_type": "code",
   "execution_count": 35,
   "id": "inside-dubai",
   "metadata": {
    "execution": {
     "iopub.execute_input": "2021-01-30T00:13:39.671629Z",
     "iopub.status.busy": "2021-01-30T00:13:39.671074Z",
     "iopub.status.idle": "2021-01-30T00:13:39.674005Z",
     "shell.execute_reply": "2021-01-30T00:13:39.673499Z"
    },
    "papermill": {
     "duration": 0.03562,
     "end_time": "2021-01-30T00:13:39.674123",
     "exception": false,
     "start_time": "2021-01-30T00:13:39.638503",
     "status": "completed"
    },
    "tags": []
   },
   "outputs": [],
   "source": [
    "#hide\n",
    "# g = g.rename(columns= {'continent':'group','country':'name','cases':'value'})"
   ]
  },
  {
   "cell_type": "code",
   "execution_count": 36,
   "id": "fleet-motorcycle",
   "metadata": {
    "execution": {
     "iopub.execute_input": "2021-01-30T00:13:39.735140Z",
     "iopub.status.busy": "2021-01-30T00:13:39.734656Z",
     "iopub.status.idle": "2021-01-30T00:13:39.737116Z",
     "shell.execute_reply": "2021-01-30T00:13:39.736639Z"
    },
    "papermill": {
     "duration": 0.034092,
     "end_time": "2021-01-30T00:13:39.737209",
     "exception": false,
     "start_time": "2021-01-30T00:13:39.703117",
     "status": "completed"
    },
    "tags": []
   },
   "outputs": [],
   "source": [
    "#hide\n",
    "# cols = ['name','group','day','value']"
   ]
  },
  {
   "cell_type": "code",
   "execution_count": 37,
   "id": "continued-sleeping",
   "metadata": {
    "execution": {
     "iopub.execute_input": "2021-01-30T00:13:39.796050Z",
     "iopub.status.busy": "2021-01-30T00:13:39.795456Z",
     "iopub.status.idle": "2021-01-30T00:13:39.797819Z",
     "shell.execute_reply": "2021-01-30T00:13:39.797246Z"
    },
    "papermill": {
     "duration": 0.034094,
     "end_time": "2021-01-30T00:13:39.797944",
     "exception": false,
     "start_time": "2021-01-30T00:13:39.763850",
     "status": "completed"
    },
    "tags": []
   },
   "outputs": [],
   "source": [
    "#hide\n",
    "# g.rename(columns= {'date':'day'},inplace = True)"
   ]
  },
  {
   "cell_type": "code",
   "execution_count": 38,
   "id": "major-fight",
   "metadata": {
    "execution": {
     "iopub.execute_input": "2021-01-30T00:13:39.855954Z",
     "iopub.status.busy": "2021-01-30T00:13:39.855514Z",
     "iopub.status.idle": "2021-01-30T00:13:39.857663Z",
     "shell.execute_reply": "2021-01-30T00:13:39.857318Z"
    },
    "papermill": {
     "duration": 0.033108,
     "end_time": "2021-01-30T00:13:39.857743",
     "exception": false,
     "start_time": "2021-01-30T00:13:39.824635",
     "status": "completed"
    },
    "tags": []
   },
   "outputs": [],
   "source": [
    "#hide\n",
    "# g = g[cols]"
   ]
  },
  {
   "cell_type": "code",
   "execution_count": 39,
   "id": "structured-mobile",
   "metadata": {
    "execution": {
     "iopub.execute_input": "2021-01-30T00:13:39.913152Z",
     "iopub.status.busy": "2021-01-30T00:13:39.912680Z",
     "iopub.status.idle": "2021-01-30T00:13:39.915043Z",
     "shell.execute_reply": "2021-01-30T00:13:39.915490Z"
    },
    "papermill": {
     "duration": 0.031909,
     "end_time": "2021-01-30T00:13:39.915593",
     "exception": false,
     "start_time": "2021-01-30T00:13:39.883684",
     "status": "completed"
    },
    "tags": []
   },
   "outputs": [],
   "source": [
    "# #hide\n",
    "# g = g[g.group.notna()]"
   ]
  },
  {
   "cell_type": "code",
   "execution_count": 40,
   "id": "determined-closing",
   "metadata": {
    "execution": {
     "iopub.execute_input": "2021-01-30T00:13:39.973281Z",
     "iopub.status.busy": "2021-01-30T00:13:39.972744Z",
     "iopub.status.idle": "2021-01-30T00:13:39.974457Z",
     "shell.execute_reply": "2021-01-30T00:13:39.974949Z"
    },
    "papermill": {
     "duration": 0.032261,
     "end_time": "2021-01-30T00:13:39.975073",
     "exception": false,
     "start_time": "2021-01-30T00:13:39.942812",
     "status": "completed"
    },
    "tags": []
   },
   "outputs": [],
   "source": [
    "# #hide\n",
    "# colors = dict(zip(\n",
    "#     [\"Oceania\", \"Europe\", \"Asia\", \"South America\", \"Middle East\", \"North America\", \"Africa\"],\n",
    "#     [\"#adb0ff\", \"#ffb3ff\", \"#90d595\", \"#e48381\", \"#aafbff\", \"#f7bb5f\", \"#eafb50\"]\n",
    "# ))\n",
    "# group_lk = g.set_index('name')['group'].to_dict()"
   ]
  },
  {
   "cell_type": "code",
   "execution_count": null,
   "id": "gross-drinking",
   "metadata": {
    "papermill": {
     "duration": 0.027215,
     "end_time": "2021-01-30T00:13:40.032896",
     "exception": false,
     "start_time": "2021-01-30T00:13:40.005681",
     "status": "completed"
    },
    "tags": []
   },
   "outputs": [],
   "source": []
  },
  {
   "cell_type": "code",
   "execution_count": 41,
   "id": "subject-macintosh",
   "metadata": {
    "execution": {
     "iopub.execute_input": "2021-01-30T00:13:40.096607Z",
     "iopub.status.busy": "2021-01-30T00:13:40.095961Z",
     "iopub.status.idle": "2021-01-30T00:13:40.097271Z",
     "shell.execute_reply": "2021-01-30T00:13:40.097733Z"
    },
    "papermill": {
     "duration": 0.035777,
     "end_time": "2021-01-30T00:13:40.097871",
     "exception": false,
     "start_time": "2021-01-30T00:13:40.062094",
     "status": "completed"
    },
    "tags": []
   },
   "outputs": [],
   "source": [
    "# #hide\n",
    "# fig, ax = plt.subplots(figsize=(15, 8))\n",
    "\n",
    "# def draw_barchart(current_day):\n",
    "#     dff = g[g['day'].eq(current_day)].sort_values(by='value', ascending=True).tail(10)\n",
    "#     ax.clear()\n",
    "#     ax.barh(dff['name'], dff['value'], color=[colors[group_lk[x]] for x in dff['name']])\n",
    "#     dx = dff['value'].max() / 200\n",
    "    \n",
    "#     for i, (value, name) in enumerate(zip(dff['value'], dff['name'])):\n",
    "#         ax.text(value-dx, i,     name,           size=14, weight=600, ha='right', va='bottom')\n",
    "#         ax.text(value-dx, i-.25, group_lk[name], size=10, color='#444444', ha='right', va='baseline')\n",
    "#         ax.text(value+dx, i,     f'{value:,.0f}',  size=14, ha='left',  va='center')\n",
    "#     ax.text(1, 0.4, current_day, transform=ax.transAxes, color='#777777', size=46, ha='right', weight=800)\n",
    "#     ax.text(0, 1.06, 'Population (thousands)', transform=ax.transAxes, size=12, color='#777777')\n",
    "#     ax.xaxis.set_major_formatter(ticker.StrMethodFormatter('{x:,.0f}'))\n",
    "#     ax.xaxis.set_ticks_position('top')\n",
    "#     ax.tick_params(axis='x', colors='#777777', labelsize=12)\n",
    "#     ax.set_yticks([])\n",
    "#     ax.margins(0, 0.01)\n",
    "#     ax.grid(which='major', axis='x', linestyle='-')\n",
    "#     ax.set_axisbelow(True)\n",
    "    \n",
    "#     ax.text(0, 1.15, 'Coronavirus',\n",
    "#             transform=ax.transAxes, size=24, weight=600, ha='left', va='top')\n",
    "# #     ax.text(1, 0, 'by @pratapvardhan; credit @jburnmurdoch', transform=ax.transAxes, color='#777777', ha='right',\n",
    "# #             bbox=dict(facecolor='white', alpha=0.8, edgecolor='white'))\n",
    "#     plt.box(False)"
   ]
  },
  {
   "cell_type": "code",
   "execution_count": 42,
   "id": "sexual-wages",
   "metadata": {
    "execution": {
     "iopub.execute_input": "2021-01-30T00:13:40.163282Z",
     "iopub.status.busy": "2021-01-30T00:13:40.162763Z",
     "iopub.status.idle": "2021-01-30T00:13:40.164944Z",
     "shell.execute_reply": "2021-01-30T00:13:40.165399Z"
    },
    "papermill": {
     "duration": 0.035449,
     "end_time": "2021-01-30T00:13:40.165510",
     "exception": false,
     "start_time": "2021-01-30T00:13:40.130061",
     "status": "completed"
    },
    "tags": []
   },
   "outputs": [],
   "source": [
    "# #hide_input\n",
    "# fig, ax = plt.subplots(figsize=(15, 8))\n",
    "# animator = animation.FuncAnimation(fig, draw_barchart, frames=range(g.day.values.min(), g.day.values.max()))\n",
    "# HTML(animator.to_jshtml())\n",
    "# # or use animator.to_html5_video() or animator.save() "
   ]
  },
  {
   "cell_type": "code",
   "execution_count": null,
   "id": "australian-container",
   "metadata": {
    "papermill": {
     "duration": 0.027484,
     "end_time": "2021-01-30T00:13:40.219896",
     "exception": false,
     "start_time": "2021-01-30T00:13:40.192412",
     "status": "completed"
    },
    "tags": []
   },
   "outputs": [],
   "source": []
  },
  {
   "cell_type": "code",
   "execution_count": null,
   "id": "mediterranean-pontiac",
   "metadata": {
    "papermill": {
     "duration": 0.025546,
     "end_time": "2021-01-30T00:13:40.274153",
     "exception": false,
     "start_time": "2021-01-30T00:13:40.248607",
     "status": "completed"
    },
    "tags": []
   },
   "outputs": [],
   "source": []
  },
  {
   "cell_type": "code",
   "execution_count": null,
   "id": "aging-legislature",
   "metadata": {
    "papermill": {
     "duration": 0.030315,
     "end_time": "2021-01-30T00:13:40.332168",
     "exception": false,
     "start_time": "2021-01-30T00:13:40.301853",
     "status": "completed"
    },
    "tags": []
   },
   "outputs": [],
   "source": []
  }
 ],
 "metadata": {
  "kernelspec": {
   "display_name": "Python 3",
   "language": "python",
   "name": "python3"
  },
  "language_info": {
   "codemirror_mode": {
    "name": "ipython",
    "version": 3
   },
   "file_extension": ".py",
   "mimetype": "text/x-python",
   "name": "python",
   "nbconvert_exporter": "python",
   "pygments_lexer": "ipython3",
   "version": "3.6.12"
  },
  "papermill": {
   "duration": 6.011994,
   "end_time": "2021-01-30T00:13:40.666414",
   "environment_variables": {},
   "exception": null,
   "input_path": "2020-03-21-covid19exp.ipynb",
   "output_path": "2020-03-21-covid19exp.ipynb",
   "parameters": {},
   "start_time": "2021-01-30T00:13:34.654420",
   "version": "2.0.0"
  }
 },
 "nbformat": 4,
 "nbformat_minor": 5
}