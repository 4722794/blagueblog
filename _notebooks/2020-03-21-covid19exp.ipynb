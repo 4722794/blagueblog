{
 "cells": [
  {
   "cell_type": "markdown",
   "id": "muslim-click",
   "metadata": {
    "papermill": {
     "duration": 0.039716,
     "end_time": "2022-07-08T12:16:36.818039",
     "exception": false,
     "start_time": "2022-07-08T12:16:36.778323",
     "status": "completed"
    },
    "tags": []
   },
   "source": [
    "# COVID-19 Case Race\n",
    "> A race chart to see rising cases around the world\n",
    "\n",
    "- author: Hargun Oberoi\n",
    "- image: images/covid-overview.png\n",
    "- hide: false\n",
    "- badges: false"
   ]
  },
  {
   "cell_type": "code",
   "execution_count": 1,
   "id": "proof-material",
   "metadata": {
    "execution": {
     "iopub.execute_input": "2022-07-08T12:16:36.900994Z",
     "iopub.status.busy": "2022-07-08T12:16:36.897126Z",
     "iopub.status.idle": "2022-07-08T12:16:37.288061Z",
     "shell.execute_reply": "2022-07-08T12:16:37.288620Z"
    },
    "papermill": {
     "duration": 0.434399,
     "end_time": "2022-07-08T12:16:37.288839",
     "exception": false,
     "start_time": "2022-07-08T12:16:36.854440",
     "status": "completed"
    },
    "tags": []
   },
   "outputs": [],
   "source": [
    "#hide\n",
    "import numpy as np\n",
    "import pandas as pd\n",
    "from jinja2 import Template\n",
    "from IPython.display import HTML"
   ]
  },
  {
   "cell_type": "code",
   "execution_count": 2,
   "id": "developed-terminology",
   "metadata": {
    "execution": {
     "iopub.execute_input": "2022-07-08T12:16:37.367343Z",
     "iopub.status.busy": "2022-07-08T12:16:37.365986Z",
     "iopub.status.idle": "2022-07-08T12:16:37.368453Z",
     "shell.execute_reply": "2022-07-08T12:16:37.368981Z"
    },
    "papermill": {
     "duration": 0.044868,
     "end_time": "2022-07-08T12:16:37.369125",
     "exception": false,
     "start_time": "2022-07-08T12:16:37.324257",
     "status": "completed"
    },
    "tags": []
   },
   "outputs": [],
   "source": [
    "#hide\n",
    "\n",
    "# FETCH\n",
    "base_url = 'https://raw.githubusercontent.com/pratapvardhan/notebooks/master/covid19/'\n",
    "paths = {\n",
    "    'mapping': base_url + 'mapping_countries.csv',\n",
    "    'overview': base_url + 'overview.tpl'\n",
    "}"
   ]
  },
  {
   "cell_type": "code",
   "execution_count": 3,
   "id": "dynamic-saver",
   "metadata": {
    "execution": {
     "iopub.execute_input": "2022-07-08T12:16:37.449710Z",
     "iopub.status.busy": "2022-07-08T12:16:37.445932Z",
     "iopub.status.idle": "2022-07-08T12:16:37.453550Z",
     "shell.execute_reply": "2022-07-08T12:16:37.452869Z"
    },
    "papermill": {
     "duration": 0.050327,
     "end_time": "2022-07-08T12:16:37.453675",
     "exception": false,
     "start_time": "2022-07-08T12:16:37.403348",
     "status": "completed"
    },
    "tags": []
   },
   "outputs": [
    {
     "data": {
      "text/plain": [
       "'https://raw.githubusercontent.com/pratapvardhan/notebooks/master/covid19/mapping_countries.csv'"
      ]
     },
     "execution_count": 3,
     "metadata": {},
     "output_type": "execute_result"
    }
   ],
   "source": [
    "#hide\n",
    "paths['mapping']"
   ]
  },
  {
   "cell_type": "code",
   "execution_count": 4,
   "id": "urban-software",
   "metadata": {
    "execution": {
     "iopub.execute_input": "2022-07-08T12:16:37.529163Z",
     "iopub.status.busy": "2022-07-08T12:16:37.528473Z",
     "iopub.status.idle": "2022-07-08T12:16:37.531601Z",
     "shell.execute_reply": "2022-07-08T12:16:37.532150Z"
    },
    "papermill": {
     "duration": 0.043979,
     "end_time": "2022-07-08T12:16:37.532288",
     "exception": false,
     "start_time": "2022-07-08T12:16:37.488309",
     "status": "completed"
    },
    "tags": []
   },
   "outputs": [],
   "source": [
    "#hide\n",
    "def get_mappings(url):\n",
    "    df = pd.read_csv(url)\n",
    "    return {\n",
    "        'df': df,\n",
    "        'replace.country': dict(df.dropna(subset=['Name']).set_index('Country')['Name']),\n",
    "        'map.continent': dict(df.set_index('Name')['Continent'])\n",
    "    }"
   ]
  },
  {
   "cell_type": "code",
   "execution_count": 5,
   "id": "intimate-machinery",
   "metadata": {
    "execution": {
     "iopub.execute_input": "2022-07-08T12:16:37.609706Z",
     "iopub.status.busy": "2022-07-08T12:16:37.608984Z",
     "iopub.status.idle": "2022-07-08T12:16:37.660487Z",
     "shell.execute_reply": "2022-07-08T12:16:37.659926Z"
    },
    "papermill": {
     "duration": 0.093932,
     "end_time": "2022-07-08T12:16:37.660618",
     "exception": false,
     "start_time": "2022-07-08T12:16:37.566686",
     "status": "completed"
    },
    "tags": []
   },
   "outputs": [],
   "source": [
    "#hide\n",
    "mapping = get_mappings(paths['mapping'])"
   ]
  },
  {
   "cell_type": "code",
   "execution_count": 6,
   "id": "certified-tactics",
   "metadata": {
    "execution": {
     "iopub.execute_input": "2022-07-08T12:16:37.737730Z",
     "iopub.status.busy": "2022-07-08T12:16:37.737012Z",
     "iopub.status.idle": "2022-07-08T12:16:37.740230Z",
     "shell.execute_reply": "2022-07-08T12:16:37.739635Z"
    },
    "papermill": {
     "duration": 0.04478,
     "end_time": "2022-07-08T12:16:37.740355",
     "exception": false,
     "start_time": "2022-07-08T12:16:37.695575",
     "status": "completed"
    },
    "tags": []
   },
   "outputs": [],
   "source": [
    "#hide\n",
    "def get_template(path):\n",
    "    from urllib.parse import urlparse\n",
    "    if bool(urlparse(path).netloc):\n",
    "        from urllib.request import urlopen\n",
    "        return urlopen(path).read().decode('utf8')\n",
    "    return open(path).read()"
   ]
  },
  {
   "cell_type": "code",
   "execution_count": 7,
   "id": "realistic-blast",
   "metadata": {
    "execution": {
     "iopub.execute_input": "2022-07-08T12:16:37.817350Z",
     "iopub.status.busy": "2022-07-08T12:16:37.816610Z",
     "iopub.status.idle": "2022-07-08T12:16:37.819001Z",
     "shell.execute_reply": "2022-07-08T12:16:37.819576Z"
    },
    "papermill": {
     "duration": 0.044832,
     "end_time": "2022-07-08T12:16:37.819722",
     "exception": false,
     "start_time": "2022-07-08T12:16:37.774890",
     "status": "completed"
    },
    "tags": []
   },
   "outputs": [],
   "source": [
    "#hide\n",
    "def get_frame(name):\n",
    "    url = (\n",
    "        'https://raw.githubusercontent.com/CSSEGISandData/COVID-19/master/csse_covid_19_data/'\n",
    "        f'csse_covid_19_time_series/time_series_covid19_{name}_global.csv')\n",
    "    df = pd.read_csv(url)\n",
    "    # rename countries\n",
    "    df['Country/Region'] = df['Country/Region'].replace(mapping['replace.country'])\n",
    "    return df"
   ]
  },
  {
   "cell_type": "code",
   "execution_count": 8,
   "id": "affiliated-characterization",
   "metadata": {
    "execution": {
     "iopub.execute_input": "2022-07-08T12:16:37.894969Z",
     "iopub.status.busy": "2022-07-08T12:16:37.894268Z",
     "iopub.status.idle": "2022-07-08T12:16:37.896814Z",
     "shell.execute_reply": "2022-07-08T12:16:37.897385Z"
    },
    "papermill": {
     "duration": 0.04334,
     "end_time": "2022-07-08T12:16:37.897523",
     "exception": false,
     "start_time": "2022-07-08T12:16:37.854183",
     "status": "completed"
    },
    "tags": []
   },
   "outputs": [],
   "source": [
    "#hide\n",
    "def get_dates(df):\n",
    "    dt_cols = df.columns[~df.columns.isin(['Province/State', 'Country/Region', 'Lat', 'Long'])]\n",
    "    LAST_DATE_I = -1\n",
    "    # sometimes last column may be empty, then go backwards\n",
    "    for i in range(-1, -len(dt_cols), -1):\n",
    "        if not df[dt_cols[i]].fillna(0).eq(0).all():\n",
    "            LAST_DATE_I = i\n",
    "            break\n",
    "    return LAST_DATE_I, dt_cols"
   ]
  },
  {
   "cell_type": "code",
   "execution_count": 9,
   "id": "recent-optimization",
   "metadata": {
    "execution": {
     "iopub.execute_input": "2022-07-08T12:16:37.972919Z",
     "iopub.status.busy": "2022-07-08T12:16:37.972219Z",
     "iopub.status.idle": "2022-07-08T12:16:38.553841Z",
     "shell.execute_reply": "2022-07-08T12:16:38.552832Z"
    },
    "papermill": {
     "duration": 0.622151,
     "end_time": "2022-07-08T12:16:38.554040",
     "exception": false,
     "start_time": "2022-07-08T12:16:37.931889",
     "status": "completed"
    },
    "tags": []
   },
   "outputs": [],
   "source": [
    "#hide\n",
    "COL_REGION = 'Country/Region'\n",
    "# Confirmed, Recovered, Deaths\n",
    "df = get_frame('confirmed')\n",
    "# dft_: timeseries, dfc_: today country agg\n",
    "dft_cases = df\n",
    "dft_deaths = get_frame('deaths')\n",
    "dft_recovered = get_frame('recovered')\n",
    "LAST_DATE_I, dt_cols = get_dates(df)"
   ]
  },
  {
   "cell_type": "code",
   "execution_count": 10,
   "id": "absolute-copper",
   "metadata": {
    "execution": {
     "iopub.execute_input": "2022-07-08T12:16:38.632038Z",
     "iopub.status.busy": "2022-07-08T12:16:38.631251Z",
     "iopub.status.idle": "2022-07-08T12:16:38.634116Z",
     "shell.execute_reply": "2022-07-08T12:16:38.633442Z"
    },
    "papermill": {
     "duration": 0.044086,
     "end_time": "2022-07-08T12:16:38.634242",
     "exception": false,
     "start_time": "2022-07-08T12:16:38.590156",
     "status": "completed"
    },
    "tags": []
   },
   "outputs": [],
   "source": [
    "#hide\n",
    "LAST_DATE_I, dt_cols = get_dates(df)\n",
    "dt_today =dt_cols[LAST_DATE_I]\n",
    "# dt_5day = dt_cols[LAST_DATE_I - 5]\n",
    "dt_yday = dt_cols[LAST_DATE_I - 1]"
   ]
  },
  {
   "cell_type": "code",
   "execution_count": 11,
   "id": "restricted-sheriff",
   "metadata": {
    "execution": {
     "iopub.execute_input": "2022-07-08T12:16:38.712739Z",
     "iopub.status.busy": "2022-07-08T12:16:38.712037Z",
     "iopub.status.idle": "2022-07-08T12:16:38.719346Z",
     "shell.execute_reply": "2022-07-08T12:16:38.718631Z"
    },
    "papermill": {
     "duration": 0.050838,
     "end_time": "2022-07-08T12:16:38.719477",
     "exception": false,
     "start_time": "2022-07-08T12:16:38.668639",
     "status": "completed"
    },
    "tags": []
   },
   "outputs": [],
   "source": [
    "#hide\n",
    "dfc_cases = dft_cases.groupby(COL_REGION)[dt_today].sum()\n",
    "dfc_deaths = dft_deaths.groupby(COL_REGION)[dt_today].sum()\n",
    "# dfp_cases = dft_cases.groupby(COL_REGION)[dt_5day].sum()\n",
    "# dfp_deaths = dft_deaths.groupby(COL_REGION)[dt_5day].sum()\n",
    "dfp_cases = dft_cases.groupby(COL_REGION)[dt_yday].sum()\n",
    "dfp_deaths = dft_deaths.groupby(COL_REGION)[dt_yday].sum()"
   ]
  },
  {
   "cell_type": "code",
   "execution_count": 12,
   "id": "deluxe-hepatitis",
   "metadata": {
    "execution": {
     "iopub.execute_input": "2022-07-08T12:16:38.797284Z",
     "iopub.status.busy": "2022-07-08T12:16:38.796587Z",
     "iopub.status.idle": "2022-07-08T12:16:38.803247Z",
     "shell.execute_reply": "2022-07-08T12:16:38.802681Z"
    },
    "papermill": {
     "duration": 0.049356,
     "end_time": "2022-07-08T12:16:38.803395",
     "exception": false,
     "start_time": "2022-07-08T12:16:38.754039",
     "status": "completed"
    },
    "tags": []
   },
   "outputs": [],
   "source": [
    "#hide\n",
    "df_table = (pd.DataFrame(dict(Cases = dfc_cases, Deaths = dfc_deaths, PCases = dfp_cases, PDeaths = dfp_deaths))\n",
    "            .sort_values(by = ['Cases','Deaths'], ascending = [False, False])\n",
    "            .reset_index())"
   ]
  },
  {
   "cell_type": "code",
   "execution_count": 13,
   "id": "educational-chancellor",
   "metadata": {
    "execution": {
     "iopub.execute_input": "2022-07-08T12:16:38.894641Z",
     "iopub.status.busy": "2022-07-08T12:16:38.893936Z",
     "iopub.status.idle": "2022-07-08T12:16:38.904571Z",
     "shell.execute_reply": "2022-07-08T12:16:38.904001Z"
    },
    "papermill": {
     "duration": 0.066469,
     "end_time": "2022-07-08T12:16:38.904691",
     "exception": false,
     "start_time": "2022-07-08T12:16:38.838222",
     "status": "completed"
    },
    "tags": []
   },
   "outputs": [
    {
     "data": {
      "text/html": [
       "<div>\n",
       "<style scoped>\n",
       "    .dataframe tbody tr th:only-of-type {\n",
       "        vertical-align: middle;\n",
       "    }\n",
       "\n",
       "    .dataframe tbody tr th {\n",
       "        vertical-align: top;\n",
       "    }\n",
       "\n",
       "    .dataframe thead th {\n",
       "        text-align: right;\n",
       "    }\n",
       "</style>\n",
       "<table border=\"1\" class=\"dataframe\">\n",
       "  <thead>\n",
       "    <tr style=\"text-align: right;\">\n",
       "      <th></th>\n",
       "      <th>Country/Region</th>\n",
       "      <th>Cases</th>\n",
       "      <th>Deaths</th>\n",
       "      <th>PCases</th>\n",
       "      <th>PDeaths</th>\n",
       "      <th>Cases (+)</th>\n",
       "      <th>Deaths (+)</th>\n",
       "      <th>Fatality Rate</th>\n",
       "      <th>Continent</th>\n",
       "    </tr>\n",
       "  </thead>\n",
       "  <tbody>\n",
       "    <tr>\n",
       "      <th>0</th>\n",
       "      <td>US</td>\n",
       "      <td>88381589</td>\n",
       "      <td>1020262</td>\n",
       "      <td>88262908</td>\n",
       "      <td>1019083</td>\n",
       "      <td>118681</td>\n",
       "      <td>1179</td>\n",
       "      <td>1.15</td>\n",
       "      <td>North America</td>\n",
       "    </tr>\n",
       "    <tr>\n",
       "      <th>1</th>\n",
       "      <td>India</td>\n",
       "      <td>43585554</td>\n",
       "      <td>525343</td>\n",
       "      <td>43566739</td>\n",
       "      <td>525305</td>\n",
       "      <td>18815</td>\n",
       "      <td>38</td>\n",
       "      <td>1.21</td>\n",
       "      <td>Asia</td>\n",
       "    </tr>\n",
       "    <tr>\n",
       "      <th>2</th>\n",
       "      <td>Brazil</td>\n",
       "      <td>32759730</td>\n",
       "      <td>673073</td>\n",
       "      <td>32687680</td>\n",
       "      <td>672790</td>\n",
       "      <td>72050</td>\n",
       "      <td>283</td>\n",
       "      <td>2.05</td>\n",
       "      <td>South America</td>\n",
       "    </tr>\n",
       "    <tr>\n",
       "      <th>3</th>\n",
       "      <td>France</td>\n",
       "      <td>32177472</td>\n",
       "      <td>150982</td>\n",
       "      <td>32016207</td>\n",
       "      <td>150893</td>\n",
       "      <td>161265</td>\n",
       "      <td>89</td>\n",
       "      <td>0.47</td>\n",
       "      <td>Europe</td>\n",
       "    </tr>\n",
       "    <tr>\n",
       "      <th>4</th>\n",
       "      <td>Germany</td>\n",
       "      <td>28926346</td>\n",
       "      <td>141758</td>\n",
       "      <td>28808614</td>\n",
       "      <td>141627</td>\n",
       "      <td>117732</td>\n",
       "      <td>131</td>\n",
       "      <td>0.49</td>\n",
       "      <td>Europe</td>\n",
       "    </tr>\n",
       "  </tbody>\n",
       "</table>\n",
       "</div>"
      ],
      "text/plain": [
       "  Country/Region     Cases   Deaths    PCases  PDeaths  Cases (+)  Deaths (+)  \\\n",
       "0             US  88381589  1020262  88262908  1019083     118681        1179   \n",
       "1          India  43585554   525343  43566739   525305      18815          38   \n",
       "2         Brazil  32759730   673073  32687680   672790      72050         283   \n",
       "3         France  32177472   150982  32016207   150893     161265          89   \n",
       "4        Germany  28926346   141758  28808614   141627     117732         131   \n",
       "\n",
       "   Fatality Rate      Continent  \n",
       "0           1.15  North America  \n",
       "1           1.21           Asia  \n",
       "2           2.05  South America  \n",
       "3           0.47         Europe  \n",
       "4           0.49         Europe  "
      ]
     },
     "execution_count": 13,
     "metadata": {},
     "output_type": "execute_result"
    }
   ],
   "source": [
    "#hide\n",
    "for c in 'Cases, Deaths'.split(', '):\n",
    "    df_table[f'{c} (+)'] = (df_table[c] - df_table[f'P{c}']).clip(0)\n",
    "    #Clip ça veut dire, les chiffres negatif sont interdit\n",
    "df_table['Fatality Rate'] = (100* df_table['Deaths']/ df_table['Cases']).round(2)\n",
    "df_table['Continent'] = df_table['Country/Region'].map(mapping['map.continent'])\n",
    "df_table.head(5)"
   ]
  },
  {
   "cell_type": "code",
   "execution_count": 14,
   "id": "aboriginal-bulgaria",
   "metadata": {
    "execution": {
     "iopub.execute_input": "2022-07-08T12:16:38.983703Z",
     "iopub.status.busy": "2022-07-08T12:16:38.982941Z",
     "iopub.status.idle": "2022-07-08T12:16:38.985233Z",
     "shell.execute_reply": "2022-07-08T12:16:38.985747Z"
    },
    "papermill": {
     "duration": 0.046132,
     "end_time": "2022-07-08T12:16:38.985887",
     "exception": false,
     "start_time": "2022-07-08T12:16:38.939755",
     "status": "completed"
    },
    "tags": []
   },
   "outputs": [],
   "source": [
    "#hide\n",
    "#delete problematic countries from table\n",
    "df_table = df_table[~df_table['Country/Region'].isin(['Cape Verde', 'Cruise Ship', 'Kosovo'])]"
   ]
  },
  {
   "cell_type": "code",
   "execution_count": 15,
   "id": "fantastic-effect",
   "metadata": {
    "execution": {
     "iopub.execute_input": "2022-07-08T12:16:39.067898Z",
     "iopub.status.busy": "2022-07-08T12:16:39.067136Z",
     "iopub.status.idle": "2022-07-08T12:16:39.087342Z",
     "shell.execute_reply": "2022-07-08T12:16:39.087903Z"
    },
    "papermill": {
     "duration": 0.067257,
     "end_time": "2022-07-08T12:16:39.088044",
     "exception": false,
     "start_time": "2022-07-08T12:16:39.020787",
     "status": "completed"
    },
    "tags": []
   },
   "outputs": [
    {
     "data": {
      "text/html": [
       "<div>\n",
       "<style scoped>\n",
       "    .dataframe tbody tr th:only-of-type {\n",
       "        vertical-align: middle;\n",
       "    }\n",
       "\n",
       "    .dataframe tbody tr th {\n",
       "        vertical-align: top;\n",
       "    }\n",
       "\n",
       "    .dataframe thead th {\n",
       "        text-align: right;\n",
       "    }\n",
       "</style>\n",
       "<table border=\"1\" class=\"dataframe\">\n",
       "  <thead>\n",
       "    <tr style=\"text-align: right;\">\n",
       "      <th></th>\n",
       "      <th>Country/Region</th>\n",
       "      <th>Cases</th>\n",
       "      <th>Deaths</th>\n",
       "      <th>PCases</th>\n",
       "      <th>PDeaths</th>\n",
       "      <th>Cases (+)</th>\n",
       "      <th>Deaths (+)</th>\n",
       "      <th>Fatality Rate</th>\n",
       "      <th>Continent</th>\n",
       "    </tr>\n",
       "  </thead>\n",
       "  <tbody>\n",
       "    <tr>\n",
       "      <th>0</th>\n",
       "      <td>US</td>\n",
       "      <td>88381589</td>\n",
       "      <td>1020262</td>\n",
       "      <td>88262908</td>\n",
       "      <td>1019083</td>\n",
       "      <td>118681</td>\n",
       "      <td>1179</td>\n",
       "      <td>1.2</td>\n",
       "      <td>North America</td>\n",
       "    </tr>\n",
       "    <tr>\n",
       "      <th>1</th>\n",
       "      <td>India</td>\n",
       "      <td>43585554</td>\n",
       "      <td>525343</td>\n",
       "      <td>43566739</td>\n",
       "      <td>525305</td>\n",
       "      <td>18815</td>\n",
       "      <td>38</td>\n",
       "      <td>1.2</td>\n",
       "      <td>Asia</td>\n",
       "    </tr>\n",
       "    <tr>\n",
       "      <th>2</th>\n",
       "      <td>Brazil</td>\n",
       "      <td>32759730</td>\n",
       "      <td>673073</td>\n",
       "      <td>32687680</td>\n",
       "      <td>672790</td>\n",
       "      <td>72050</td>\n",
       "      <td>283</td>\n",
       "      <td>2.1</td>\n",
       "      <td>South America</td>\n",
       "    </tr>\n",
       "    <tr>\n",
       "      <th>3</th>\n",
       "      <td>France</td>\n",
       "      <td>32177472</td>\n",
       "      <td>150982</td>\n",
       "      <td>32016207</td>\n",
       "      <td>150893</td>\n",
       "      <td>161265</td>\n",
       "      <td>89</td>\n",
       "      <td>0.5</td>\n",
       "      <td>Europe</td>\n",
       "    </tr>\n",
       "    <tr>\n",
       "      <th>4</th>\n",
       "      <td>Germany</td>\n",
       "      <td>28926346</td>\n",
       "      <td>141758</td>\n",
       "      <td>28808614</td>\n",
       "      <td>141627</td>\n",
       "      <td>117732</td>\n",
       "      <td>131</td>\n",
       "      <td>0.5</td>\n",
       "      <td>Europe</td>\n",
       "    </tr>\n",
       "  </tbody>\n",
       "</table>\n",
       "</div>"
      ],
      "text/plain": [
       "  Country/Region     Cases   Deaths    PCases  PDeaths  Cases (+)  Deaths (+)  \\\n",
       "0             US  88381589  1020262  88262908  1019083     118681        1179   \n",
       "1          India  43585554   525343  43566739   525305      18815          38   \n",
       "2         Brazil  32759730   673073  32687680   672790      72050         283   \n",
       "3         France  32177472   150982  32016207   150893     161265          89   \n",
       "4        Germany  28926346   141758  28808614   141627     117732         131   \n",
       "\n",
       "   Fatality Rate      Continent  \n",
       "0            1.2  North America  \n",
       "1            1.2           Asia  \n",
       "2            2.1  South America  \n",
       "3            0.5         Europe  \n",
       "4            0.5         Europe  "
      ]
     },
     "execution_count": 15,
     "metadata": {},
     "output_type": "execute_result"
    }
   ],
   "source": [
    "#hide\n",
    "df_table = (pd.DataFrame(dict(Cases=dfc_cases, Deaths=dfc_deaths, PCases=dfp_cases, PDeaths=dfp_deaths))\n",
    "             .sort_values(by=['Cases', 'Deaths'], ascending=[False, False])\n",
    "             .reset_index())\n",
    "df_table.rename(columns={'index': 'Country/Region'}, inplace=True)\n",
    "for c in 'Cases, Deaths'.split(', '):\n",
    "    df_table[f'{c} (+)'] = (df_table[c] - df_table[f'P{c}']).clip(0)  # DATA BUG\n",
    "df_table['Fatality Rate'] = (100 * df_table['Deaths'] / df_table['Cases']).round(1)\n",
    "df_table['Continent'] = df_table['Country/Region'].map(mapping['map.continent'])\n",
    "df_table.head(5)"
   ]
  },
  {
   "cell_type": "code",
   "execution_count": 16,
   "id": "fewer-occasion",
   "metadata": {
    "execution": {
     "iopub.execute_input": "2022-07-08T12:16:39.168060Z",
     "iopub.status.busy": "2022-07-08T12:16:39.167304Z",
     "iopub.status.idle": "2022-07-08T12:16:39.170056Z",
     "shell.execute_reply": "2022-07-08T12:16:39.170600Z"
    },
    "papermill": {
     "duration": 0.046904,
     "end_time": "2022-07-08T12:16:39.170745",
     "exception": false,
     "start_time": "2022-07-08T12:16:39.123841",
     "status": "completed"
    },
    "tags": []
   },
   "outputs": [],
   "source": [
    "#hide\n",
    "#delete problematic countries from table\n",
    "df_table = df_table[~df_table['Country/Region'].isin(['Cape Verde', 'Cruise Ship', 'Kosovo'])]"
   ]
  },
  {
   "cell_type": "code",
   "execution_count": 17,
   "id": "related-center",
   "metadata": {
    "execution": {
     "iopub.execute_input": "2022-07-08T12:16:39.250744Z",
     "iopub.status.busy": "2022-07-08T12:16:39.250043Z",
     "iopub.status.idle": "2022-07-08T12:16:39.266452Z",
     "shell.execute_reply": "2022-07-08T12:16:39.265886Z"
    },
    "papermill": {
     "duration": 0.060454,
     "end_time": "2022-07-08T12:16:39.266575",
     "exception": false,
     "start_time": "2022-07-08T12:16:39.206121",
     "status": "completed"
    },
    "tags": []
   },
   "outputs": [],
   "source": [
    "#hide\n",
    "metrics = [df_table.columns[index] for index in [1,2,5,6]]\n",
    "# s_china = df_table[df_table['Country/Region'].eq('China')][metrics].sum().add_prefix('China ')\n",
    "s_us = df_table[df_table['Country/Region'].eq('US')][metrics].sum().add_prefix('US ')\n",
    "s_eu = df_table[df_table['Continent'].eq('Europe')][metrics].sum().add_prefix('EU ')\n",
    "s_ind = df_table[df_table['Country/Region'].eq('India')][metrics].sum().add_prefix('India ')\n",
    "summary = {'updated': pd.to_datetime(dt_today), 'since': pd.to_datetime(dt_yday)}\n",
    "summary = {'updated': pd.to_datetime(dt_today), 'since': pd.to_datetime(dt_yday)}\n",
    "summary = {**summary, **df_table[metrics].sum(), **s_ind, **s_us, **s_eu}"
   ]
  },
  {
   "cell_type": "code",
   "execution_count": 18,
   "id": "engaging-syndrome",
   "metadata": {
    "execution": {
     "iopub.execute_input": "2022-07-08T12:16:39.345222Z",
     "iopub.status.busy": "2022-07-08T12:16:39.344526Z",
     "iopub.status.idle": "2022-07-08T12:16:39.368754Z",
     "shell.execute_reply": "2022-07-08T12:16:39.368036Z"
    },
    "papermill": {
     "duration": 0.06665,
     "end_time": "2022-07-08T12:16:39.368904",
     "exception": false,
     "start_time": "2022-07-08T12:16:39.302254",
     "status": "completed"
    },
    "tags": []
   },
   "outputs": [],
   "source": [
    "#hide\n",
    "dft_ct_new_cases = dft_cases.groupby(COL_REGION)[dt_cols].sum().diff(axis=1).fillna(0).astype(int)"
   ]
  },
  {
   "cell_type": "code",
   "execution_count": 19,
   "id": "neutral-assignment",
   "metadata": {
    "execution": {
     "iopub.execute_input": "2022-07-08T12:16:39.445546Z",
     "iopub.status.busy": "2022-07-08T12:16:39.444847Z",
     "iopub.status.idle": "2022-07-08T12:16:39.451782Z",
     "shell.execute_reply": "2022-07-08T12:16:39.451169Z"
    },
    "papermill": {
     "duration": 0.047456,
     "end_time": "2022-07-08T12:16:39.451906",
     "exception": false,
     "start_time": "2022-07-08T12:16:39.404450",
     "status": "completed"
    },
    "tags": []
   },
   "outputs": [],
   "source": [
    "#hide\n",
    "everydaycases = dft_ct_new_cases.cumsum(axis=1)"
   ]
  },
  {
   "cell_type": "code",
   "execution_count": 20,
   "id": "parliamentary-calgary",
   "metadata": {
    "execution": {
     "iopub.execute_input": "2022-07-08T12:16:39.529179Z",
     "iopub.status.busy": "2022-07-08T12:16:39.528475Z",
     "iopub.status.idle": "2022-07-08T12:16:40.172903Z",
     "shell.execute_reply": "2022-07-08T12:16:40.172262Z"
    },
    "papermill": {
     "duration": 0.685538,
     "end_time": "2022-07-08T12:16:40.173041",
     "exception": false,
     "start_time": "2022-07-08T12:16:39.487503",
     "status": "completed"
    },
    "tags": []
   },
   "outputs": [],
   "source": [
    "#hide\n",
    "import pandas as pd\n",
    "import matplotlib.pyplot as plt\n",
    "import matplotlib.ticker as ticker\n",
    "import matplotlib.animation as animation\n",
    "from IPython.display import HTML"
   ]
  },
  {
   "cell_type": "code",
   "execution_count": 21,
   "id": "lasting-extraction",
   "metadata": {
    "execution": {
     "iopub.execute_input": "2022-07-08T12:16:40.255449Z",
     "iopub.status.busy": "2022-07-08T12:16:40.254712Z",
     "iopub.status.idle": "2022-07-08T12:16:40.262167Z",
     "shell.execute_reply": "2022-07-08T12:16:40.262705Z"
    },
    "papermill": {
     "duration": 0.052257,
     "end_time": "2022-07-08T12:16:40.262848",
     "exception": false,
     "start_time": "2022-07-08T12:16:40.210591",
     "status": "completed"
    },
    "tags": []
   },
   "outputs": [],
   "source": [
    "#hide\n",
    "t = everydaycases.stack()"
   ]
  },
  {
   "cell_type": "code",
   "execution_count": 22,
   "id": "premier-sleeve",
   "metadata": {
    "execution": {
     "iopub.execute_input": "2022-07-08T12:16:40.343401Z",
     "iopub.status.busy": "2022-07-08T12:16:40.342577Z",
     "iopub.status.idle": "2022-07-08T12:16:40.355902Z",
     "shell.execute_reply": "2022-07-08T12:16:40.356484Z"
    },
    "papermill": {
     "duration": 0.056909,
     "end_time": "2022-07-08T12:16:40.356631",
     "exception": false,
     "start_time": "2022-07-08T12:16:40.299722",
     "status": "completed"
    },
    "tags": []
   },
   "outputs": [],
   "source": [
    "#hide\n",
    "g = t.reset_index(['Country/Region'])"
   ]
  },
  {
   "cell_type": "code",
   "execution_count": 23,
   "id": "distributed-pittsburgh",
   "metadata": {
    "execution": {
     "iopub.execute_input": "2022-07-08T12:16:40.434990Z",
     "iopub.status.busy": "2022-07-08T12:16:40.434275Z",
     "iopub.status.idle": "2022-07-08T12:16:40.436871Z",
     "shell.execute_reply": "2022-07-08T12:16:40.436191Z"
    },
    "papermill": {
     "duration": 0.044142,
     "end_time": "2022-07-08T12:16:40.436993",
     "exception": false,
     "start_time": "2022-07-08T12:16:40.392851",
     "status": "completed"
    },
    "tags": []
   },
   "outputs": [],
   "source": [
    "#hide\n",
    "g.index.name = 'date'"
   ]
  },
  {
   "cell_type": "code",
   "execution_count": 24,
   "id": "naked-donor",
   "metadata": {
    "execution": {
     "iopub.execute_input": "2022-07-08T12:16:40.514712Z",
     "iopub.status.busy": "2022-07-08T12:16:40.513787Z",
     "iopub.status.idle": "2022-07-08T12:16:40.515510Z",
     "shell.execute_reply": "2022-07-08T12:16:40.516047Z"
    },
    "papermill": {
     "duration": 0.04347,
     "end_time": "2022-07-08T12:16:40.516190",
     "exception": false,
     "start_time": "2022-07-08T12:16:40.472720",
     "status": "completed"
    },
    "tags": []
   },
   "outputs": [],
   "source": [
    "# #hide\n",
    "# g = g.reset_index(['date'])"
   ]
  },
  {
   "cell_type": "code",
   "execution_count": 25,
   "id": "incomplete-mustang",
   "metadata": {
    "execution": {
     "iopub.execute_input": "2022-07-08T12:16:40.594683Z",
     "iopub.status.busy": "2022-07-08T12:16:40.593513Z",
     "iopub.status.idle": "2022-07-08T12:16:40.595937Z",
     "shell.execute_reply": "2022-07-08T12:16:40.596475Z"
    },
    "papermill": {
     "duration": 0.044154,
     "end_time": "2022-07-08T12:16:40.596617",
     "exception": false,
     "start_time": "2022-07-08T12:16:40.552463",
     "status": "completed"
    },
    "tags": []
   },
   "outputs": [],
   "source": [
    "#hide\n",
    "# g.head()"
   ]
  },
  {
   "cell_type": "code",
   "execution_count": 26,
   "id": "specific-kruger",
   "metadata": {
    "execution": {
     "iopub.execute_input": "2022-07-08T12:16:40.674154Z",
     "iopub.status.busy": "2022-07-08T12:16:40.672941Z",
     "iopub.status.idle": "2022-07-08T12:16:40.675476Z",
     "shell.execute_reply": "2022-07-08T12:16:40.676380Z"
    },
    "papermill": {
     "duration": 0.044292,
     "end_time": "2022-07-08T12:16:40.676604",
     "exception": false,
     "start_time": "2022-07-08T12:16:40.632312",
     "status": "completed"
    },
    "tags": []
   },
   "outputs": [],
   "source": [
    "#hide\n",
    "# g.columns = ['date','country','cases']"
   ]
  },
  {
   "cell_type": "code",
   "execution_count": 27,
   "id": "tender-conversion",
   "metadata": {
    "execution": {
     "iopub.execute_input": "2022-07-08T12:16:40.758645Z",
     "iopub.status.busy": "2022-07-08T12:16:40.757878Z",
     "iopub.status.idle": "2022-07-08T12:16:40.759664Z",
     "shell.execute_reply": "2022-07-08T12:16:40.760331Z"
    },
    "papermill": {
     "duration": 0.045604,
     "end_time": "2022-07-08T12:16:40.760477",
     "exception": false,
     "start_time": "2022-07-08T12:16:40.714873",
     "status": "completed"
    },
    "tags": []
   },
   "outputs": [],
   "source": [
    "#hide\n",
    "# g['continent'] = g.country"
   ]
  },
  {
   "cell_type": "code",
   "execution_count": 28,
   "id": "substantial-wilderness",
   "metadata": {
    "execution": {
     "iopub.execute_input": "2022-07-08T12:16:40.837098Z",
     "iopub.status.busy": "2022-07-08T12:16:40.836392Z",
     "iopub.status.idle": "2022-07-08T12:16:40.839877Z",
     "shell.execute_reply": "2022-07-08T12:16:40.840554Z"
    },
    "papermill": {
     "duration": 0.044567,
     "end_time": "2022-07-08T12:16:40.840698",
     "exception": false,
     "start_time": "2022-07-08T12:16:40.796131",
     "status": "completed"
    },
    "tags": []
   },
   "outputs": [],
   "source": [
    "#hide\n",
    "# cols = list(g.columns.values)"
   ]
  },
  {
   "cell_type": "code",
   "execution_count": 29,
   "id": "solved-farming",
   "metadata": {
    "execution": {
     "iopub.execute_input": "2022-07-08T12:16:40.917623Z",
     "iopub.status.busy": "2022-07-08T12:16:40.916456Z",
     "iopub.status.idle": "2022-07-08T12:16:40.918928Z",
     "shell.execute_reply": "2022-07-08T12:16:40.919860Z"
    },
    "papermill": {
     "duration": 0.043997,
     "end_time": "2022-07-08T12:16:40.920084",
     "exception": false,
     "start_time": "2022-07-08T12:16:40.876087",
     "status": "completed"
    },
    "tags": []
   },
   "outputs": [],
   "source": [
    "#hide\n",
    "# cols.insert(0, cols.pop())"
   ]
  },
  {
   "cell_type": "code",
   "execution_count": 30,
   "id": "executed-adoption",
   "metadata": {
    "execution": {
     "iopub.execute_input": "2022-07-08T12:16:40.996123Z",
     "iopub.status.busy": "2022-07-08T12:16:40.995395Z",
     "iopub.status.idle": "2022-07-08T12:16:40.998136Z",
     "shell.execute_reply": "2022-07-08T12:16:40.998804Z"
    },
    "papermill": {
     "duration": 0.043006,
     "end_time": "2022-07-08T12:16:40.998943",
     "exception": false,
     "start_time": "2022-07-08T12:16:40.955937",
     "status": "completed"
    },
    "tags": []
   },
   "outputs": [],
   "source": [
    "#hide\n",
    "# g = g[cols]"
   ]
  },
  {
   "cell_type": "code",
   "execution_count": 31,
   "id": "subject-dublin",
   "metadata": {
    "execution": {
     "iopub.execute_input": "2022-07-08T12:16:41.074833Z",
     "iopub.status.busy": "2022-07-08T12:16:41.074027Z",
     "iopub.status.idle": "2022-07-08T12:16:41.078764Z",
     "shell.execute_reply": "2022-07-08T12:16:41.078191Z"
    },
    "papermill": {
     "duration": 0.044555,
     "end_time": "2022-07-08T12:16:41.078884",
     "exception": false,
     "start_time": "2022-07-08T12:16:41.034329",
     "status": "completed"
    },
    "tags": []
   },
   "outputs": [],
   "source": [
    "#hide\n",
    "# g['continent'] = g['continent'].map(mapping['map.continent'])"
   ]
  },
  {
   "cell_type": "code",
   "execution_count": 32,
   "id": "freelance-scout",
   "metadata": {
    "execution": {
     "iopub.execute_input": "2022-07-08T12:16:41.154415Z",
     "iopub.status.busy": "2022-07-08T12:16:41.153704Z",
     "iopub.status.idle": "2022-07-08T12:16:41.157915Z",
     "shell.execute_reply": "2022-07-08T12:16:41.158429Z"
    },
    "papermill": {
     "duration": 0.04393,
     "end_time": "2022-07-08T12:16:41.158569",
     "exception": false,
     "start_time": "2022-07-08T12:16:41.114639",
     "status": "completed"
    },
    "tags": []
   },
   "outputs": [],
   "source": [
    "#hide\n",
    "# g.head()"
   ]
  },
  {
   "cell_type": "code",
   "execution_count": 33,
   "id": "limited-engine",
   "metadata": {
    "execution": {
     "iopub.execute_input": "2022-07-08T12:16:41.234904Z",
     "iopub.status.busy": "2022-07-08T12:16:41.234205Z",
     "iopub.status.idle": "2022-07-08T12:16:41.236367Z",
     "shell.execute_reply": "2022-07-08T12:16:41.235693Z"
    },
    "papermill": {
     "duration": 0.042518,
     "end_time": "2022-07-08T12:16:41.236486",
     "exception": false,
     "start_time": "2022-07-08T12:16:41.193968",
     "status": "completed"
    },
    "tags": []
   },
   "outputs": [],
   "source": [
    "# hide\n",
    "# g['date'] = g['date'].astype('datetime64[ns]')"
   ]
  },
  {
   "cell_type": "code",
   "execution_count": 34,
   "id": "sophisticated-supervisor",
   "metadata": {
    "execution": {
     "iopub.execute_input": "2022-07-08T12:16:41.313681Z",
     "iopub.status.busy": "2022-07-08T12:16:41.312510Z",
     "iopub.status.idle": "2022-07-08T12:16:41.314958Z",
     "shell.execute_reply": "2022-07-08T12:16:41.315916Z"
    },
    "papermill": {
     "duration": 0.043872,
     "end_time": "2022-07-08T12:16:41.316055",
     "exception": false,
     "start_time": "2022-07-08T12:16:41.272183",
     "status": "completed"
    },
    "tags": []
   },
   "outputs": [],
   "source": [
    "#hide\n",
    "# g['date'] = g.date.dt.dayofyear"
   ]
  },
  {
   "cell_type": "code",
   "execution_count": 35,
   "id": "inside-dubai",
   "metadata": {
    "execution": {
     "iopub.execute_input": "2022-07-08T12:16:41.393460Z",
     "iopub.status.busy": "2022-07-08T12:16:41.392764Z",
     "iopub.status.idle": "2022-07-08T12:16:41.395402Z",
     "shell.execute_reply": "2022-07-08T12:16:41.395925Z"
    },
    "papermill": {
     "duration": 0.044584,
     "end_time": "2022-07-08T12:16:41.396062",
     "exception": false,
     "start_time": "2022-07-08T12:16:41.351478",
     "status": "completed"
    },
    "tags": []
   },
   "outputs": [],
   "source": [
    "#hide\n",
    "# g = g.rename(columns= {'continent':'group','country':'name','cases':'value'})"
   ]
  },
  {
   "cell_type": "code",
   "execution_count": 36,
   "id": "fleet-motorcycle",
   "metadata": {
    "execution": {
     "iopub.execute_input": "2022-07-08T12:16:41.472879Z",
     "iopub.status.busy": "2022-07-08T12:16:41.471694Z",
     "iopub.status.idle": "2022-07-08T12:16:41.474159Z",
     "shell.execute_reply": "2022-07-08T12:16:41.475047Z"
    },
    "papermill": {
     "duration": 0.043701,
     "end_time": "2022-07-08T12:16:41.475262",
     "exception": false,
     "start_time": "2022-07-08T12:16:41.431561",
     "status": "completed"
    },
    "tags": []
   },
   "outputs": [],
   "source": [
    "#hide\n",
    "# cols = ['name','group','day','value']"
   ]
  },
  {
   "cell_type": "code",
   "execution_count": 37,
   "id": "continued-sleeping",
   "metadata": {
    "execution": {
     "iopub.execute_input": "2022-07-08T12:16:41.551626Z",
     "iopub.status.busy": "2022-07-08T12:16:41.550878Z",
     "iopub.status.idle": "2022-07-08T12:16:41.553335Z",
     "shell.execute_reply": "2022-07-08T12:16:41.553849Z"
    },
    "papermill": {
     "duration": 0.042363,
     "end_time": "2022-07-08T12:16:41.553991",
     "exception": false,
     "start_time": "2022-07-08T12:16:41.511628",
     "status": "completed"
    },
    "tags": []
   },
   "outputs": [],
   "source": [
    "#hide\n",
    "# g.rename(columns= {'date':'day'},inplace = True)"
   ]
  },
  {
   "cell_type": "code",
   "execution_count": 38,
   "id": "major-fight",
   "metadata": {
    "execution": {
     "iopub.execute_input": "2022-07-08T12:16:41.631061Z",
     "iopub.status.busy": "2022-07-08T12:16:41.630358Z",
     "iopub.status.idle": "2022-07-08T12:16:41.633017Z",
     "shell.execute_reply": "2022-07-08T12:16:41.633530Z"
    },
    "papermill": {
     "duration": 0.044112,
     "end_time": "2022-07-08T12:16:41.633673",
     "exception": false,
     "start_time": "2022-07-08T12:16:41.589561",
     "status": "completed"
    },
    "tags": []
   },
   "outputs": [],
   "source": [
    "#hide\n",
    "# g = g[cols]"
   ]
  },
  {
   "cell_type": "code",
   "execution_count": 39,
   "id": "structured-mobile",
   "metadata": {
    "execution": {
     "iopub.execute_input": "2022-07-08T12:16:41.710353Z",
     "iopub.status.busy": "2022-07-08T12:16:41.709189Z",
     "iopub.status.idle": "2022-07-08T12:16:41.711177Z",
     "shell.execute_reply": "2022-07-08T12:16:41.711745Z"
    },
    "papermill": {
     "duration": 0.042872,
     "end_time": "2022-07-08T12:16:41.711883",
     "exception": false,
     "start_time": "2022-07-08T12:16:41.669011",
     "status": "completed"
    },
    "tags": []
   },
   "outputs": [],
   "source": [
    "# #hide\n",
    "# g = g[g.group.notna()]"
   ]
  },
  {
   "cell_type": "code",
   "execution_count": 40,
   "id": "determined-closing",
   "metadata": {
    "execution": {
     "iopub.execute_input": "2022-07-08T12:16:41.788138Z",
     "iopub.status.busy": "2022-07-08T12:16:41.787421Z",
     "iopub.status.idle": "2022-07-08T12:16:41.790852Z",
     "shell.execute_reply": "2022-07-08T12:16:41.791557Z"
    },
    "papermill": {
     "duration": 0.044134,
     "end_time": "2022-07-08T12:16:41.791698",
     "exception": false,
     "start_time": "2022-07-08T12:16:41.747564",
     "status": "completed"
    },
    "tags": []
   },
   "outputs": [],
   "source": [
    "# #hide\n",
    "# colors = dict(zip(\n",
    "#     [\"Oceania\", \"Europe\", \"Asia\", \"South America\", \"Middle East\", \"North America\", \"Africa\"],\n",
    "#     [\"#adb0ff\", \"#ffb3ff\", \"#90d595\", \"#e48381\", \"#aafbff\", \"#f7bb5f\", \"#eafb50\"]\n",
    "# ))\n",
    "# group_lk = g.set_index('name')['group'].to_dict()"
   ]
  },
  {
   "cell_type": "code",
   "execution_count": null,
   "id": "gross-drinking",
   "metadata": {
    "papermill": {
     "duration": 0.036138,
     "end_time": "2022-07-08T12:16:41.863154",
     "exception": false,
     "start_time": "2022-07-08T12:16:41.827016",
     "status": "completed"
    },
    "tags": []
   },
   "outputs": [],
   "source": []
  },
  {
   "cell_type": "code",
   "execution_count": 41,
   "id": "subject-macintosh",
   "metadata": {
    "execution": {
     "iopub.execute_input": "2022-07-08T12:16:41.940546Z",
     "iopub.status.busy": "2022-07-08T12:16:41.939830Z",
     "iopub.status.idle": "2022-07-08T12:16:41.944163Z",
     "shell.execute_reply": "2022-07-08T12:16:41.943603Z"
    },
    "papermill": {
     "duration": 0.045527,
     "end_time": "2022-07-08T12:16:41.944288",
     "exception": false,
     "start_time": "2022-07-08T12:16:41.898761",
     "status": "completed"
    },
    "tags": []
   },
   "outputs": [],
   "source": [
    "# #hide\n",
    "# fig, ax = plt.subplots(figsize=(15, 8))\n",
    "\n",
    "# def draw_barchart(current_day):\n",
    "#     dff = g[g['day'].eq(current_day)].sort_values(by='value', ascending=True).tail(10)\n",
    "#     ax.clear()\n",
    "#     ax.barh(dff['name'], dff['value'], color=[colors[group_lk[x]] for x in dff['name']])\n",
    "#     dx = dff['value'].max() / 200\n",
    "    \n",
    "#     for i, (value, name) in enumerate(zip(dff['value'], dff['name'])):\n",
    "#         ax.text(value-dx, i,     name,           size=14, weight=600, ha='right', va='bottom')\n",
    "#         ax.text(value-dx, i-.25, group_lk[name], size=10, color='#444444', ha='right', va='baseline')\n",
    "#         ax.text(value+dx, i,     f'{value:,.0f}',  size=14, ha='left',  va='center')\n",
    "#     ax.text(1, 0.4, current_day, transform=ax.transAxes, color='#777777', size=46, ha='right', weight=800)\n",
    "#     ax.text(0, 1.06, 'Population (thousands)', transform=ax.transAxes, size=12, color='#777777')\n",
    "#     ax.xaxis.set_major_formatter(ticker.StrMethodFormatter('{x:,.0f}'))\n",
    "#     ax.xaxis.set_ticks_position('top')\n",
    "#     ax.tick_params(axis='x', colors='#777777', labelsize=12)\n",
    "#     ax.set_yticks([])\n",
    "#     ax.margins(0, 0.01)\n",
    "#     ax.grid(which='major', axis='x', linestyle='-')\n",
    "#     ax.set_axisbelow(True)\n",
    "    \n",
    "#     ax.text(0, 1.15, 'Coronavirus',\n",
    "#             transform=ax.transAxes, size=24, weight=600, ha='left', va='top')\n",
    "# #     ax.text(1, 0, 'by @pratapvardhan; credit @jburnmurdoch', transform=ax.transAxes, color='#777777', ha='right',\n",
    "# #             bbox=dict(facecolor='white', alpha=0.8, edgecolor='white'))\n",
    "#     plt.box(False)"
   ]
  },
  {
   "cell_type": "code",
   "execution_count": 42,
   "id": "sexual-wages",
   "metadata": {
    "execution": {
     "iopub.execute_input": "2022-07-08T12:16:42.020718Z",
     "iopub.status.busy": "2022-07-08T12:16:42.019839Z",
     "iopub.status.idle": "2022-07-08T12:16:42.024182Z",
     "shell.execute_reply": "2022-07-08T12:16:42.024829Z"
    },
    "papermill": {
     "duration": 0.045076,
     "end_time": "2022-07-08T12:16:42.024992",
     "exception": false,
     "start_time": "2022-07-08T12:16:41.979916",
     "status": "completed"
    },
    "tags": []
   },
   "outputs": [],
   "source": [
    "# #hide_input\n",
    "# fig, ax = plt.subplots(figsize=(15, 8))\n",
    "# animator = animation.FuncAnimation(fig, draw_barchart, frames=range(g.day.values.min(), g.day.values.max()))\n",
    "# HTML(animator.to_jshtml())\n",
    "# # or use animator.to_html5_video() or animator.save() "
   ]
  },
  {
   "cell_type": "code",
   "execution_count": null,
   "id": "australian-container",
   "metadata": {
    "papermill": {
     "duration": 0.035339,
     "end_time": "2022-07-08T12:16:42.096295",
     "exception": false,
     "start_time": "2022-07-08T12:16:42.060956",
     "status": "completed"
    },
    "tags": []
   },
   "outputs": [],
   "source": []
  },
  {
   "cell_type": "code",
   "execution_count": null,
   "id": "mediterranean-pontiac",
   "metadata": {
    "papermill": {
     "duration": 0.035272,
     "end_time": "2022-07-08T12:16:42.167039",
     "exception": false,
     "start_time": "2022-07-08T12:16:42.131767",
     "status": "completed"
    },
    "tags": []
   },
   "outputs": [],
   "source": []
  },
  {
   "cell_type": "code",
   "execution_count": null,
   "id": "aging-legislature",
   "metadata": {
    "papermill": {
     "duration": 0.035392,
     "end_time": "2022-07-08T12:16:42.238193",
     "exception": false,
     "start_time": "2022-07-08T12:16:42.202801",
     "status": "completed"
    },
    "tags": []
   },
   "outputs": [],
   "source": []
  }
 ],
 "metadata": {
  "kernelspec": {
   "display_name": "Python 3",
   "language": "python",
   "name": "python3"
  },
  "language_info": {
   "codemirror_mode": {
    "name": "ipython",
    "version": 3
   },
   "file_extension": ".py",
   "mimetype": "text/x-python",
   "name": "python",
   "nbconvert_exporter": "python",
   "pygments_lexer": "ipython3",
   "version": "3.6.15"
  },
  "papermill": {
   "duration": 7.132983,
   "end_time": "2022-07-08T12:16:42.596202",
   "environment_variables": {},
   "exception": null,
   "input_path": "2020-03-21-covid19exp.ipynb",
   "output_path": "2020-03-21-covid19exp.ipynb",
   "parameters": {},
   "start_time": "2022-07-08T12:16:35.463219",
   "version": "2.0.0"
  }
 },
 "nbformat": 4,
 "nbformat_minor": 5
}