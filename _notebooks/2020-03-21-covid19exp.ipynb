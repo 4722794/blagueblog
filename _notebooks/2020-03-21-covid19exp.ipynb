{
 "cells": [
  {
   "cell_type": "markdown",
   "metadata": {
    "papermill": {
     "duration": 0.035873,
     "end_time": "2020-12-31T00:23:01.304634",
     "exception": false,
     "start_time": "2020-12-31T00:23:01.268761",
     "status": "completed"
    },
    "tags": []
   },
   "source": [
    "# COVID-19 Case Race\n",
    "> A race chart to see rising cases around the world\n",
    "\n",
    "- author: Hargun Oberoi\n",
    "- image: images/covid-overview.png\n",
    "- hide: false\n",
    "- badges: false"
   ]
  },
  {
   "cell_type": "code",
   "execution_count": 1,
   "metadata": {
    "execution": {
     "iopub.execute_input": "2020-12-31T00:23:01.378673Z",
     "iopub.status.busy": "2020-12-31T00:23:01.376915Z",
     "iopub.status.idle": "2020-12-31T00:23:01.716653Z",
     "shell.execute_reply": "2020-12-31T00:23:01.717142Z"
    },
    "papermill": {
     "duration": 0.380709,
     "end_time": "2020-12-31T00:23:01.717336",
     "exception": false,
     "start_time": "2020-12-31T00:23:01.336627",
     "status": "completed"
    },
    "tags": []
   },
   "outputs": [],
   "source": [
    "#hide\n",
    "import numpy as np\n",
    "import pandas as pd\n",
    "from jinja2 import Template\n",
    "from IPython.display import HTML"
   ]
  },
  {
   "cell_type": "code",
   "execution_count": 2,
   "metadata": {
    "execution": {
     "iopub.execute_input": "2020-12-31T00:23:01.790272Z",
     "iopub.status.busy": "2020-12-31T00:23:01.789601Z",
     "iopub.status.idle": "2020-12-31T00:23:01.791678Z",
     "shell.execute_reply": "2020-12-31T00:23:01.792238Z"
    },
    "papermill": {
     "duration": 0.0419,
     "end_time": "2020-12-31T00:23:01.792392",
     "exception": false,
     "start_time": "2020-12-31T00:23:01.750492",
     "status": "completed"
    },
    "tags": []
   },
   "outputs": [],
   "source": [
    "#hide\n",
    "\n",
    "# FETCH\n",
    "base_url = 'https://raw.githubusercontent.com/pratapvardhan/notebooks/master/covid19/'\n",
    "paths = {\n",
    "    'mapping': base_url + 'mapping_countries.csv',\n",
    "    'overview': base_url + 'overview.tpl'\n",
    "}"
   ]
  },
  {
   "cell_type": "code",
   "execution_count": 3,
   "metadata": {
    "execution": {
     "iopub.execute_input": "2020-12-31T00:23:01.865287Z",
     "iopub.status.busy": "2020-12-31T00:23:01.864449Z",
     "iopub.status.idle": "2020-12-31T00:23:01.867035Z",
     "shell.execute_reply": "2020-12-31T00:23:01.867583Z"
    },
    "papermill": {
     "duration": 0.043182,
     "end_time": "2020-12-31T00:23:01.867750",
     "exception": false,
     "start_time": "2020-12-31T00:23:01.824568",
     "status": "completed"
    },
    "tags": []
   },
   "outputs": [
    {
     "data": {
      "text/plain": [
       "'https://raw.githubusercontent.com/pratapvardhan/notebooks/master/covid19/mapping_countries.csv'"
      ]
     },
     "execution_count": 3,
     "metadata": {},
     "output_type": "execute_result"
    }
   ],
   "source": [
    "#hide\n",
    "paths['mapping']"
   ]
  },
  {
   "cell_type": "code",
   "execution_count": 4,
   "metadata": {
    "execution": {
     "iopub.execute_input": "2020-12-31T00:23:01.942179Z",
     "iopub.status.busy": "2020-12-31T00:23:01.941537Z",
     "iopub.status.idle": "2020-12-31T00:23:01.944021Z",
     "shell.execute_reply": "2020-12-31T00:23:01.943444Z"
    },
    "papermill": {
     "duration": 0.043369,
     "end_time": "2020-12-31T00:23:01.944180",
     "exception": false,
     "start_time": "2020-12-31T00:23:01.900811",
     "status": "completed"
    },
    "tags": []
   },
   "outputs": [],
   "source": [
    "#hide\n",
    "def get_mappings(url):\n",
    "    df = pd.read_csv(url)\n",
    "    return {\n",
    "        'df': df,\n",
    "        'replace.country': dict(df.dropna(subset=['Name']).set_index('Country')['Name']),\n",
    "        'map.continent': dict(df.set_index('Name')['Continent'])\n",
    "    }"
   ]
  },
  {
   "cell_type": "code",
   "execution_count": 5,
   "metadata": {
    "execution": {
     "iopub.execute_input": "2020-12-31T00:23:02.014027Z",
     "iopub.status.busy": "2020-12-31T00:23:02.013459Z",
     "iopub.status.idle": "2020-12-31T00:23:02.042879Z",
     "shell.execute_reply": "2020-12-31T00:23:02.043403Z"
    },
    "papermill": {
     "duration": 0.067442,
     "end_time": "2020-12-31T00:23:02.043541",
     "exception": false,
     "start_time": "2020-12-31T00:23:01.976099",
     "status": "completed"
    },
    "tags": []
   },
   "outputs": [],
   "source": [
    "#hide\n",
    "mapping = get_mappings(paths['mapping'])"
   ]
  },
  {
   "cell_type": "code",
   "execution_count": 6,
   "metadata": {
    "execution": {
     "iopub.execute_input": "2020-12-31T00:23:02.112622Z",
     "iopub.status.busy": "2020-12-31T00:23:02.111885Z",
     "iopub.status.idle": "2020-12-31T00:23:02.114285Z",
     "shell.execute_reply": "2020-12-31T00:23:02.114868Z"
    },
    "papermill": {
     "duration": 0.038479,
     "end_time": "2020-12-31T00:23:02.115027",
     "exception": false,
     "start_time": "2020-12-31T00:23:02.076548",
     "status": "completed"
    },
    "tags": []
   },
   "outputs": [],
   "source": [
    "#hide\n",
    "def get_template(path):\n",
    "    from urllib.parse import urlparse\n",
    "    if bool(urlparse(path).netloc):\n",
    "        from urllib.request import urlopen\n",
    "        return urlopen(path).read().decode('utf8')\n",
    "    return open(path).read()"
   ]
  },
  {
   "cell_type": "code",
   "execution_count": 7,
   "metadata": {
    "execution": {
     "iopub.execute_input": "2020-12-31T00:23:02.185849Z",
     "iopub.status.busy": "2020-12-31T00:23:02.185189Z",
     "iopub.status.idle": "2020-12-31T00:23:02.187305Z",
     "shell.execute_reply": "2020-12-31T00:23:02.187798Z"
    },
    "papermill": {
     "duration": 0.039398,
     "end_time": "2020-12-31T00:23:02.187972",
     "exception": false,
     "start_time": "2020-12-31T00:23:02.148574",
     "status": "completed"
    },
    "tags": []
   },
   "outputs": [],
   "source": [
    "#hide\n",
    "def get_frame(name):\n",
    "    url = (\n",
    "        'https://raw.githubusercontent.com/CSSEGISandData/COVID-19/master/csse_covid_19_data/'\n",
    "        f'csse_covid_19_time_series/time_series_covid19_{name}_global.csv')\n",
    "    df = pd.read_csv(url)\n",
    "    # rename countries\n",
    "    df['Country/Region'] = df['Country/Region'].replace(mapping['replace.country'])\n",
    "    return df"
   ]
  },
  {
   "cell_type": "code",
   "execution_count": 8,
   "metadata": {
    "execution": {
     "iopub.execute_input": "2020-12-31T00:23:02.255967Z",
     "iopub.status.busy": "2020-12-31T00:23:02.255234Z",
     "iopub.status.idle": "2020-12-31T00:23:02.257582Z",
     "shell.execute_reply": "2020-12-31T00:23:02.257039Z"
    },
    "papermill": {
     "duration": 0.037569,
     "end_time": "2020-12-31T00:23:02.257689",
     "exception": false,
     "start_time": "2020-12-31T00:23:02.220120",
     "status": "completed"
    },
    "tags": []
   },
   "outputs": [],
   "source": [
    "#hide\n",
    "def get_dates(df):\n",
    "    dt_cols = df.columns[~df.columns.isin(['Province/State', 'Country/Region', 'Lat', 'Long'])]\n",
    "    LAST_DATE_I = -1\n",
    "    # sometimes last column may be empty, then go backwards\n",
    "    for i in range(-1, -len(dt_cols), -1):\n",
    "        if not df[dt_cols[i]].fillna(0).eq(0).all():\n",
    "            LAST_DATE_I = i\n",
    "            break\n",
    "    return LAST_DATE_I, dt_cols"
   ]
  },
  {
   "cell_type": "code",
   "execution_count": 9,
   "metadata": {
    "execution": {
     "iopub.execute_input": "2020-12-31T00:23:02.327412Z",
     "iopub.status.busy": "2020-12-31T00:23:02.326656Z",
     "iopub.status.idle": "2020-12-31T00:23:02.566592Z",
     "shell.execute_reply": "2020-12-31T00:23:02.566058Z"
    },
    "papermill": {
     "duration": 0.277006,
     "end_time": "2020-12-31T00:23:02.566735",
     "exception": false,
     "start_time": "2020-12-31T00:23:02.289729",
     "status": "completed"
    },
    "tags": []
   },
   "outputs": [],
   "source": [
    "#hide\n",
    "COL_REGION = 'Country/Region'\n",
    "# Confirmed, Recovered, Deaths\n",
    "df = get_frame('confirmed')\n",
    "# dft_: timeseries, dfc_: today country agg\n",
    "dft_cases = df\n",
    "dft_deaths = get_frame('deaths')\n",
    "dft_recovered = get_frame('recovered')\n",
    "LAST_DATE_I, dt_cols = get_dates(df)"
   ]
  },
  {
   "cell_type": "code",
   "execution_count": 10,
   "metadata": {
    "execution": {
     "iopub.execute_input": "2020-12-31T00:23:02.639024Z",
     "iopub.status.busy": "2020-12-31T00:23:02.638406Z",
     "iopub.status.idle": "2020-12-31T00:23:02.641259Z",
     "shell.execute_reply": "2020-12-31T00:23:02.640714Z"
    },
    "papermill": {
     "duration": 0.041589,
     "end_time": "2020-12-31T00:23:02.641399",
     "exception": false,
     "start_time": "2020-12-31T00:23:02.599810",
     "status": "completed"
    },
    "tags": []
   },
   "outputs": [],
   "source": [
    "#hide\n",
    "LAST_DATE_I, dt_cols = get_dates(df)\n",
    "dt_today =dt_cols[LAST_DATE_I]\n",
    "# dt_5day = dt_cols[LAST_DATE_I - 5]\n",
    "dt_yday = dt_cols[LAST_DATE_I - 1]"
   ]
  },
  {
   "cell_type": "code",
   "execution_count": 11,
   "metadata": {
    "execution": {
     "iopub.execute_input": "2020-12-31T00:23:02.712394Z",
     "iopub.status.busy": "2020-12-31T00:23:02.711629Z",
     "iopub.status.idle": "2020-12-31T00:23:02.721100Z",
     "shell.execute_reply": "2020-12-31T00:23:02.721545Z"
    },
    "papermill": {
     "duration": 0.04804,
     "end_time": "2020-12-31T00:23:02.721687",
     "exception": false,
     "start_time": "2020-12-31T00:23:02.673647",
     "status": "completed"
    },
    "tags": []
   },
   "outputs": [],
   "source": [
    "#hide\n",
    "dfc_cases = dft_cases.groupby(COL_REGION)[dt_today].sum()\n",
    "dfc_deaths = dft_deaths.groupby(COL_REGION)[dt_today].sum()\n",
    "# dfp_cases = dft_cases.groupby(COL_REGION)[dt_5day].sum()\n",
    "# dfp_deaths = dft_deaths.groupby(COL_REGION)[dt_5day].sum()\n",
    "dfp_cases = dft_cases.groupby(COL_REGION)[dt_yday].sum()\n",
    "dfp_deaths = dft_deaths.groupby(COL_REGION)[dt_yday].sum()"
   ]
  },
  {
   "cell_type": "code",
   "execution_count": 12,
   "metadata": {
    "execution": {
     "iopub.execute_input": "2020-12-31T00:23:02.794893Z",
     "iopub.status.busy": "2020-12-31T00:23:02.794325Z",
     "iopub.status.idle": "2020-12-31T00:23:02.798633Z",
     "shell.execute_reply": "2020-12-31T00:23:02.799389Z"
    },
    "papermill": {
     "duration": 0.044643,
     "end_time": "2020-12-31T00:23:02.799532",
     "exception": false,
     "start_time": "2020-12-31T00:23:02.754889",
     "status": "completed"
    },
    "tags": []
   },
   "outputs": [],
   "source": [
    "#hide\n",
    "df_table = (pd.DataFrame(dict(Cases = dfc_cases, Deaths = dfc_deaths, PCases = dfp_cases, PDeaths = dfp_deaths))\n",
    "            .sort_values(by = ['Cases','Deaths'], ascending = [False, False])\n",
    "            .reset_index())"
   ]
  },
  {
   "cell_type": "code",
   "execution_count": 13,
   "metadata": {
    "execution": {
     "iopub.execute_input": "2020-12-31T00:23:02.878441Z",
     "iopub.status.busy": "2020-12-31T00:23:02.877852Z",
     "iopub.status.idle": "2020-12-31T00:23:02.890173Z",
     "shell.execute_reply": "2020-12-31T00:23:02.890714Z"
    },
    "papermill": {
     "duration": 0.060246,
     "end_time": "2020-12-31T00:23:02.890847",
     "exception": false,
     "start_time": "2020-12-31T00:23:02.830601",
     "status": "completed"
    },
    "tags": []
   },
   "outputs": [
    {
     "data": {
      "text/html": [
       "<div>\n",
       "<style scoped>\n",
       "    .dataframe tbody tr th:only-of-type {\n",
       "        vertical-align: middle;\n",
       "    }\n",
       "\n",
       "    .dataframe tbody tr th {\n",
       "        vertical-align: top;\n",
       "    }\n",
       "\n",
       "    .dataframe thead th {\n",
       "        text-align: right;\n",
       "    }\n",
       "</style>\n",
       "<table border=\"1\" class=\"dataframe\">\n",
       "  <thead>\n",
       "    <tr style=\"text-align: right;\">\n",
       "      <th></th>\n",
       "      <th>Country/Region</th>\n",
       "      <th>Cases</th>\n",
       "      <th>Deaths</th>\n",
       "      <th>PCases</th>\n",
       "      <th>PDeaths</th>\n",
       "      <th>Cases (+)</th>\n",
       "      <th>Deaths (+)</th>\n",
       "      <th>Fatality Rate</th>\n",
       "      <th>Continent</th>\n",
       "    </tr>\n",
       "  </thead>\n",
       "  <tbody>\n",
       "    <tr>\n",
       "      <th>0</th>\n",
       "      <td>US</td>\n",
       "      <td>19510836</td>\n",
       "      <td>338561</td>\n",
       "      <td>19309281</td>\n",
       "      <td>334836</td>\n",
       "      <td>201555</td>\n",
       "      <td>3725</td>\n",
       "      <td>1.74</td>\n",
       "      <td>North America</td>\n",
       "    </tr>\n",
       "    <tr>\n",
       "      <th>1</th>\n",
       "      <td>India</td>\n",
       "      <td>10244852</td>\n",
       "      <td>148439</td>\n",
       "      <td>10224303</td>\n",
       "      <td>148153</td>\n",
       "      <td>20549</td>\n",
       "      <td>286</td>\n",
       "      <td>1.45</td>\n",
       "      <td>Asia</td>\n",
       "    </tr>\n",
       "    <tr>\n",
       "      <th>2</th>\n",
       "      <td>Brazil</td>\n",
       "      <td>7563551</td>\n",
       "      <td>192681</td>\n",
       "      <td>7504833</td>\n",
       "      <td>191570</td>\n",
       "      <td>58718</td>\n",
       "      <td>1111</td>\n",
       "      <td>2.55</td>\n",
       "      <td>South America</td>\n",
       "    </tr>\n",
       "    <tr>\n",
       "      <th>3</th>\n",
       "      <td>Russia</td>\n",
       "      <td>3073923</td>\n",
       "      <td>55107</td>\n",
       "      <td>3047335</td>\n",
       "      <td>54559</td>\n",
       "      <td>26588</td>\n",
       "      <td>548</td>\n",
       "      <td>1.79</td>\n",
       "      <td>Europe</td>\n",
       "    </tr>\n",
       "    <tr>\n",
       "      <th>4</th>\n",
       "      <td>France</td>\n",
       "      <td>2631110</td>\n",
       "      <td>64204</td>\n",
       "      <td>2619616</td>\n",
       "      <td>63235</td>\n",
       "      <td>11494</td>\n",
       "      <td>969</td>\n",
       "      <td>2.44</td>\n",
       "      <td>Europe</td>\n",
       "    </tr>\n",
       "  </tbody>\n",
       "</table>\n",
       "</div>"
      ],
      "text/plain": [
       "  Country/Region     Cases  Deaths    PCases  PDeaths  Cases (+)  Deaths (+)  \\\n",
       "0             US  19510836  338561  19309281   334836     201555        3725   \n",
       "1          India  10244852  148439  10224303   148153      20549         286   \n",
       "2         Brazil   7563551  192681   7504833   191570      58718        1111   \n",
       "3         Russia   3073923   55107   3047335    54559      26588         548   \n",
       "4         France   2631110   64204   2619616    63235      11494         969   \n",
       "\n",
       "   Fatality Rate      Continent  \n",
       "0           1.74  North America  \n",
       "1           1.45           Asia  \n",
       "2           2.55  South America  \n",
       "3           1.79         Europe  \n",
       "4           2.44         Europe  "
      ]
     },
     "execution_count": 13,
     "metadata": {},
     "output_type": "execute_result"
    }
   ],
   "source": [
    "#hide\n",
    "for c in 'Cases, Deaths'.split(', '):\n",
    "    df_table[f'{c} (+)'] = (df_table[c] - df_table[f'P{c}']).clip(0)\n",
    "    #Clip ça veut dire, les chiffres negatif sont interdit\n",
    "df_table['Fatality Rate'] = (100* df_table['Deaths']/ df_table['Cases']).round(2)\n",
    "df_table['Continent'] = df_table['Country/Region'].map(mapping['map.continent'])\n",
    "df_table.head(5)"
   ]
  },
  {
   "cell_type": "code",
   "execution_count": 14,
   "metadata": {
    "execution": {
     "iopub.execute_input": "2020-12-31T00:23:02.967230Z",
     "iopub.status.busy": "2020-12-31T00:23:02.966585Z",
     "iopub.status.idle": "2020-12-31T00:23:02.969215Z",
     "shell.execute_reply": "2020-12-31T00:23:02.968586Z"
    },
    "papermill": {
     "duration": 0.043031,
     "end_time": "2020-12-31T00:23:02.969393",
     "exception": false,
     "start_time": "2020-12-31T00:23:02.926362",
     "status": "completed"
    },
    "tags": []
   },
   "outputs": [],
   "source": [
    "#hide\n",
    "#delete problematic countries from table\n",
    "df_table = df_table[~df_table['Country/Region'].isin(['Cape Verde', 'Cruise Ship', 'Kosovo'])]"
   ]
  },
  {
   "cell_type": "code",
   "execution_count": 15,
   "metadata": {
    "execution": {
     "iopub.execute_input": "2020-12-31T00:23:03.046081Z",
     "iopub.status.busy": "2020-12-31T00:23:03.045493Z",
     "iopub.status.idle": "2020-12-31T00:23:03.068538Z",
     "shell.execute_reply": "2020-12-31T00:23:03.069061Z"
    },
    "papermill": {
     "duration": 0.066209,
     "end_time": "2020-12-31T00:23:03.069229",
     "exception": false,
     "start_time": "2020-12-31T00:23:03.003020",
     "status": "completed"
    },
    "tags": []
   },
   "outputs": [
    {
     "data": {
      "text/html": [
       "<div>\n",
       "<style scoped>\n",
       "    .dataframe tbody tr th:only-of-type {\n",
       "        vertical-align: middle;\n",
       "    }\n",
       "\n",
       "    .dataframe tbody tr th {\n",
       "        vertical-align: top;\n",
       "    }\n",
       "\n",
       "    .dataframe thead th {\n",
       "        text-align: right;\n",
       "    }\n",
       "</style>\n",
       "<table border=\"1\" class=\"dataframe\">\n",
       "  <thead>\n",
       "    <tr style=\"text-align: right;\">\n",
       "      <th></th>\n",
       "      <th>Country/Region</th>\n",
       "      <th>Cases</th>\n",
       "      <th>Deaths</th>\n",
       "      <th>PCases</th>\n",
       "      <th>PDeaths</th>\n",
       "      <th>Cases (+)</th>\n",
       "      <th>Deaths (+)</th>\n",
       "      <th>Fatality Rate</th>\n",
       "      <th>Continent</th>\n",
       "    </tr>\n",
       "  </thead>\n",
       "  <tbody>\n",
       "    <tr>\n",
       "      <th>0</th>\n",
       "      <td>US</td>\n",
       "      <td>19510836</td>\n",
       "      <td>338561</td>\n",
       "      <td>19309281</td>\n",
       "      <td>334836</td>\n",
       "      <td>201555</td>\n",
       "      <td>3725</td>\n",
       "      <td>1.7</td>\n",
       "      <td>North America</td>\n",
       "    </tr>\n",
       "    <tr>\n",
       "      <th>1</th>\n",
       "      <td>India</td>\n",
       "      <td>10244852</td>\n",
       "      <td>148439</td>\n",
       "      <td>10224303</td>\n",
       "      <td>148153</td>\n",
       "      <td>20549</td>\n",
       "      <td>286</td>\n",
       "      <td>1.4</td>\n",
       "      <td>Asia</td>\n",
       "    </tr>\n",
       "    <tr>\n",
       "      <th>2</th>\n",
       "      <td>Brazil</td>\n",
       "      <td>7563551</td>\n",
       "      <td>192681</td>\n",
       "      <td>7504833</td>\n",
       "      <td>191570</td>\n",
       "      <td>58718</td>\n",
       "      <td>1111</td>\n",
       "      <td>2.5</td>\n",
       "      <td>South America</td>\n",
       "    </tr>\n",
       "    <tr>\n",
       "      <th>3</th>\n",
       "      <td>Russia</td>\n",
       "      <td>3073923</td>\n",
       "      <td>55107</td>\n",
       "      <td>3047335</td>\n",
       "      <td>54559</td>\n",
       "      <td>26588</td>\n",
       "      <td>548</td>\n",
       "      <td>1.8</td>\n",
       "      <td>Europe</td>\n",
       "    </tr>\n",
       "    <tr>\n",
       "      <th>4</th>\n",
       "      <td>France</td>\n",
       "      <td>2631110</td>\n",
       "      <td>64204</td>\n",
       "      <td>2619616</td>\n",
       "      <td>63235</td>\n",
       "      <td>11494</td>\n",
       "      <td>969</td>\n",
       "      <td>2.4</td>\n",
       "      <td>Europe</td>\n",
       "    </tr>\n",
       "  </tbody>\n",
       "</table>\n",
       "</div>"
      ],
      "text/plain": [
       "  Country/Region     Cases  Deaths    PCases  PDeaths  Cases (+)  Deaths (+)  \\\n",
       "0             US  19510836  338561  19309281   334836     201555        3725   \n",
       "1          India  10244852  148439  10224303   148153      20549         286   \n",
       "2         Brazil   7563551  192681   7504833   191570      58718        1111   \n",
       "3         Russia   3073923   55107   3047335    54559      26588         548   \n",
       "4         France   2631110   64204   2619616    63235      11494         969   \n",
       "\n",
       "   Fatality Rate      Continent  \n",
       "0            1.7  North America  \n",
       "1            1.4           Asia  \n",
       "2            2.5  South America  \n",
       "3            1.8         Europe  \n",
       "4            2.4         Europe  "
      ]
     },
     "execution_count": 15,
     "metadata": {},
     "output_type": "execute_result"
    }
   ],
   "source": [
    "#hide\n",
    "df_table = (pd.DataFrame(dict(Cases=dfc_cases, Deaths=dfc_deaths, PCases=dfp_cases, PDeaths=dfp_deaths))\n",
    "             .sort_values(by=['Cases', 'Deaths'], ascending=[False, False])\n",
    "             .reset_index())\n",
    "df_table.rename(columns={'index': 'Country/Region'}, inplace=True)\n",
    "for c in 'Cases, Deaths'.split(', '):\n",
    "    df_table[f'{c} (+)'] = (df_table[c] - df_table[f'P{c}']).clip(0)  # DATA BUG\n",
    "df_table['Fatality Rate'] = (100 * df_table['Deaths'] / df_table['Cases']).round(1)\n",
    "df_table['Continent'] = df_table['Country/Region'].map(mapping['map.continent'])\n",
    "df_table.head(5)"
   ]
  },
  {
   "cell_type": "code",
   "execution_count": 16,
   "metadata": {
    "execution": {
     "iopub.execute_input": "2020-12-31T00:23:03.152016Z",
     "iopub.status.busy": "2020-12-31T00:23:03.151378Z",
     "iopub.status.idle": "2020-12-31T00:23:03.153255Z",
     "shell.execute_reply": "2020-12-31T00:23:03.153957Z"
    },
    "papermill": {
     "duration": 0.051724,
     "end_time": "2020-12-31T00:23:03.154113",
     "exception": false,
     "start_time": "2020-12-31T00:23:03.102389",
     "status": "completed"
    },
    "tags": []
   },
   "outputs": [],
   "source": [
    "#hide\n",
    "#delete problematic countries from table\n",
    "df_table = df_table[~df_table['Country/Region'].isin(['Cape Verde', 'Cruise Ship', 'Kosovo'])]"
   ]
  },
  {
   "cell_type": "code",
   "execution_count": 17,
   "metadata": {
    "execution": {
     "iopub.execute_input": "2020-12-31T00:23:03.234069Z",
     "iopub.status.busy": "2020-12-31T00:23:03.233274Z",
     "iopub.status.idle": "2020-12-31T00:23:03.246469Z",
     "shell.execute_reply": "2020-12-31T00:23:03.247053Z"
    },
    "papermill": {
     "duration": 0.057591,
     "end_time": "2020-12-31T00:23:03.247187",
     "exception": false,
     "start_time": "2020-12-31T00:23:03.189596",
     "status": "completed"
    },
    "tags": []
   },
   "outputs": [],
   "source": [
    "#hide\n",
    "metrics = [df_table.columns[index] for index in [1,2,5,6]]\n",
    "# s_china = df_table[df_table['Country/Region'].eq('China')][metrics].sum().add_prefix('China ')\n",
    "s_us = df_table[df_table['Country/Region'].eq('US')][metrics].sum().add_prefix('US ')\n",
    "s_eu = df_table[df_table['Continent'].eq('Europe')][metrics].sum().add_prefix('EU ')\n",
    "s_ind = df_table[df_table['Country/Region'].eq('India')][metrics].sum().add_prefix('India ')\n",
    "summary = {'updated': pd.to_datetime(dt_today), 'since': pd.to_datetime(dt_yday)}\n",
    "summary = {'updated': pd.to_datetime(dt_today), 'since': pd.to_datetime(dt_yday)}\n",
    "summary = {**summary, **df_table[metrics].sum(), **s_ind, **s_us, **s_eu}"
   ]
  },
  {
   "cell_type": "code",
   "execution_count": 18,
   "metadata": {
    "execution": {
     "iopub.execute_input": "2020-12-31T00:23:03.316117Z",
     "iopub.status.busy": "2020-12-31T00:23:03.315479Z",
     "iopub.status.idle": "2020-12-31T00:23:03.325858Z",
     "shell.execute_reply": "2020-12-31T00:23:03.326369Z"
    },
    "papermill": {
     "duration": 0.046286,
     "end_time": "2020-12-31T00:23:03.326494",
     "exception": false,
     "start_time": "2020-12-31T00:23:03.280208",
     "status": "completed"
    },
    "tags": []
   },
   "outputs": [],
   "source": [
    "#hide\n",
    "dft_ct_new_cases = dft_cases.groupby(COL_REGION)[dt_cols].sum().diff(axis=1).fillna(0).astype(int)"
   ]
  },
  {
   "cell_type": "code",
   "execution_count": 19,
   "metadata": {
    "execution": {
     "iopub.execute_input": "2020-12-31T00:23:03.398304Z",
     "iopub.status.busy": "2020-12-31T00:23:03.397526Z",
     "iopub.status.idle": "2020-12-31T00:23:03.400064Z",
     "shell.execute_reply": "2020-12-31T00:23:03.399456Z"
    },
    "papermill": {
     "duration": 0.039983,
     "end_time": "2020-12-31T00:23:03.400204",
     "exception": false,
     "start_time": "2020-12-31T00:23:03.360221",
     "status": "completed"
    },
    "tags": []
   },
   "outputs": [],
   "source": [
    "#hide\n",
    "everydaycases = dft_ct_new_cases.cumsum(axis=1)"
   ]
  },
  {
   "cell_type": "code",
   "execution_count": 20,
   "metadata": {
    "execution": {
     "iopub.execute_input": "2020-12-31T00:23:03.475447Z",
     "iopub.status.busy": "2020-12-31T00:23:03.474794Z",
     "iopub.status.idle": "2020-12-31T00:23:04.433079Z",
     "shell.execute_reply": "2020-12-31T00:23:04.431914Z"
    },
    "papermill": {
     "duration": 0.997955,
     "end_time": "2020-12-31T00:23:04.433217",
     "exception": false,
     "start_time": "2020-12-31T00:23:03.435262",
     "status": "completed"
    },
    "tags": []
   },
   "outputs": [],
   "source": [
    "#hide\n",
    "import pandas as pd\n",
    "import matplotlib.pyplot as plt\n",
    "import matplotlib.ticker as ticker\n",
    "import matplotlib.animation as animation\n",
    "from IPython.display import HTML"
   ]
  },
  {
   "cell_type": "code",
   "execution_count": 21,
   "metadata": {
    "execution": {
     "iopub.execute_input": "2020-12-31T00:23:04.503067Z",
     "iopub.status.busy": "2020-12-31T00:23:04.502462Z",
     "iopub.status.idle": "2020-12-31T00:23:04.509106Z",
     "shell.execute_reply": "2020-12-31T00:23:04.508421Z"
    },
    "papermill": {
     "duration": 0.043988,
     "end_time": "2020-12-31T00:23:04.509336",
     "exception": false,
     "start_time": "2020-12-31T00:23:04.465348",
     "status": "completed"
    },
    "tags": []
   },
   "outputs": [],
   "source": [
    "#hide\n",
    "t = everydaycases.stack()"
   ]
  },
  {
   "cell_type": "code",
   "execution_count": 22,
   "metadata": {
    "execution": {
     "iopub.execute_input": "2020-12-31T00:23:04.582319Z",
     "iopub.status.busy": "2020-12-31T00:23:04.581655Z",
     "iopub.status.idle": "2020-12-31T00:23:04.591377Z",
     "shell.execute_reply": "2020-12-31T00:23:04.590788Z"
    },
    "papermill": {
     "duration": 0.048454,
     "end_time": "2020-12-31T00:23:04.591503",
     "exception": false,
     "start_time": "2020-12-31T00:23:04.543049",
     "status": "completed"
    },
    "tags": []
   },
   "outputs": [],
   "source": [
    "#hide\n",
    "g = t.reset_index(['Country/Region'])"
   ]
  },
  {
   "cell_type": "code",
   "execution_count": 23,
   "metadata": {
    "execution": {
     "iopub.execute_input": "2020-12-31T00:23:04.660130Z",
     "iopub.status.busy": "2020-12-31T00:23:04.659459Z",
     "iopub.status.idle": "2020-12-31T00:23:04.662315Z",
     "shell.execute_reply": "2020-12-31T00:23:04.661667Z"
    },
    "papermill": {
     "duration": 0.039111,
     "end_time": "2020-12-31T00:23:04.662478",
     "exception": false,
     "start_time": "2020-12-31T00:23:04.623367",
     "status": "completed"
    },
    "tags": []
   },
   "outputs": [],
   "source": [
    "#hide\n",
    "g.index.name = 'date'"
   ]
  },
  {
   "cell_type": "code",
   "execution_count": 24,
   "metadata": {
    "execution": {
     "iopub.execute_input": "2020-12-31T00:23:04.729757Z",
     "iopub.status.busy": "2020-12-31T00:23:04.729104Z",
     "iopub.status.idle": "2020-12-31T00:23:04.731564Z",
     "shell.execute_reply": "2020-12-31T00:23:04.731096Z"
    },
    "papermill": {
     "duration": 0.038209,
     "end_time": "2020-12-31T00:23:04.731686",
     "exception": false,
     "start_time": "2020-12-31T00:23:04.693477",
     "status": "completed"
    },
    "tags": []
   },
   "outputs": [],
   "source": [
    "# #hide\n",
    "# g = g.reset_index(['date'])"
   ]
  },
  {
   "cell_type": "code",
   "execution_count": 25,
   "metadata": {
    "execution": {
     "iopub.execute_input": "2020-12-31T00:23:04.805666Z",
     "iopub.status.busy": "2020-12-31T00:23:04.805040Z",
     "iopub.status.idle": "2020-12-31T00:23:04.807440Z",
     "shell.execute_reply": "2020-12-31T00:23:04.806913Z"
    },
    "papermill": {
     "duration": 0.042774,
     "end_time": "2020-12-31T00:23:04.807566",
     "exception": false,
     "start_time": "2020-12-31T00:23:04.764792",
     "status": "completed"
    },
    "tags": []
   },
   "outputs": [],
   "source": [
    "#hide\n",
    "# g.head()"
   ]
  },
  {
   "cell_type": "code",
   "execution_count": 26,
   "metadata": {
    "execution": {
     "iopub.execute_input": "2020-12-31T00:23:04.877605Z",
     "iopub.status.busy": "2020-12-31T00:23:04.876773Z",
     "iopub.status.idle": "2020-12-31T00:23:04.879430Z",
     "shell.execute_reply": "2020-12-31T00:23:04.878806Z"
    },
    "papermill": {
     "duration": 0.038906,
     "end_time": "2020-12-31T00:23:04.879551",
     "exception": false,
     "start_time": "2020-12-31T00:23:04.840645",
     "status": "completed"
    },
    "tags": []
   },
   "outputs": [],
   "source": [
    "#hide\n",
    "# g.columns = ['date','country','cases']"
   ]
  },
  {
   "cell_type": "code",
   "execution_count": 27,
   "metadata": {
    "execution": {
     "iopub.execute_input": "2020-12-31T00:23:04.953533Z",
     "iopub.status.busy": "2020-12-31T00:23:04.952898Z",
     "iopub.status.idle": "2020-12-31T00:23:04.955662Z",
     "shell.execute_reply": "2020-12-31T00:23:04.954831Z"
    },
    "papermill": {
     "duration": 0.042897,
     "end_time": "2020-12-31T00:23:04.955827",
     "exception": false,
     "start_time": "2020-12-31T00:23:04.912930",
     "status": "completed"
    },
    "tags": []
   },
   "outputs": [],
   "source": [
    "#hide\n",
    "# g['continent'] = g.country"
   ]
  },
  {
   "cell_type": "code",
   "execution_count": 28,
   "metadata": {
    "execution": {
     "iopub.execute_input": "2020-12-31T00:23:05.024379Z",
     "iopub.status.busy": "2020-12-31T00:23:05.023656Z",
     "iopub.status.idle": "2020-12-31T00:23:05.026368Z",
     "shell.execute_reply": "2020-12-31T00:23:05.025632Z"
    },
    "papermill": {
     "duration": 0.036851,
     "end_time": "2020-12-31T00:23:05.026501",
     "exception": false,
     "start_time": "2020-12-31T00:23:04.989650",
     "status": "completed"
    },
    "tags": []
   },
   "outputs": [],
   "source": [
    "#hide\n",
    "# cols = list(g.columns.values)"
   ]
  },
  {
   "cell_type": "code",
   "execution_count": 29,
   "metadata": {
    "execution": {
     "iopub.execute_input": "2020-12-31T00:23:05.100376Z",
     "iopub.status.busy": "2020-12-31T00:23:05.099619Z",
     "iopub.status.idle": "2020-12-31T00:23:05.102172Z",
     "shell.execute_reply": "2020-12-31T00:23:05.101552Z"
    },
    "papermill": {
     "duration": 0.038345,
     "end_time": "2020-12-31T00:23:05.102365",
     "exception": false,
     "start_time": "2020-12-31T00:23:05.064020",
     "status": "completed"
    },
    "tags": []
   },
   "outputs": [],
   "source": [
    "#hide\n",
    "# cols.insert(0, cols.pop())"
   ]
  },
  {
   "cell_type": "code",
   "execution_count": 30,
   "metadata": {
    "execution": {
     "iopub.execute_input": "2020-12-31T00:23:05.180097Z",
     "iopub.status.busy": "2020-12-31T00:23:05.179482Z",
     "iopub.status.idle": "2020-12-31T00:23:05.182057Z",
     "shell.execute_reply": "2020-12-31T00:23:05.181332Z"
    },
    "papermill": {
     "duration": 0.038274,
     "end_time": "2020-12-31T00:23:05.182198",
     "exception": false,
     "start_time": "2020-12-31T00:23:05.143924",
     "status": "completed"
    },
    "tags": []
   },
   "outputs": [],
   "source": [
    "#hide\n",
    "# g = g[cols]"
   ]
  },
  {
   "cell_type": "code",
   "execution_count": 31,
   "metadata": {
    "execution": {
     "iopub.execute_input": "2020-12-31T00:23:05.253017Z",
     "iopub.status.busy": "2020-12-31T00:23:05.252383Z",
     "iopub.status.idle": "2020-12-31T00:23:05.254813Z",
     "shell.execute_reply": "2020-12-31T00:23:05.254056Z"
    },
    "papermill": {
     "duration": 0.03958,
     "end_time": "2020-12-31T00:23:05.254987",
     "exception": false,
     "start_time": "2020-12-31T00:23:05.215407",
     "status": "completed"
    },
    "tags": []
   },
   "outputs": [],
   "source": [
    "#hide\n",
    "# g['continent'] = g['continent'].map(mapping['map.continent'])"
   ]
  },
  {
   "cell_type": "code",
   "execution_count": 32,
   "metadata": {
    "execution": {
     "iopub.execute_input": "2020-12-31T00:23:05.326727Z",
     "iopub.status.busy": "2020-12-31T00:23:05.326006Z",
     "iopub.status.idle": "2020-12-31T00:23:05.328500Z",
     "shell.execute_reply": "2020-12-31T00:23:05.327911Z"
    },
    "papermill": {
     "duration": 0.040255,
     "end_time": "2020-12-31T00:23:05.328626",
     "exception": false,
     "start_time": "2020-12-31T00:23:05.288371",
     "status": "completed"
    },
    "tags": []
   },
   "outputs": [],
   "source": [
    "#hide\n",
    "# g.head()"
   ]
  },
  {
   "cell_type": "code",
   "execution_count": 33,
   "metadata": {
    "execution": {
     "iopub.execute_input": "2020-12-31T00:23:05.401128Z",
     "iopub.status.busy": "2020-12-31T00:23:05.400478Z",
     "iopub.status.idle": "2020-12-31T00:23:05.403192Z",
     "shell.execute_reply": "2020-12-31T00:23:05.402467Z"
    },
    "papermill": {
     "duration": 0.040495,
     "end_time": "2020-12-31T00:23:05.403354",
     "exception": false,
     "start_time": "2020-12-31T00:23:05.362859",
     "status": "completed"
    },
    "tags": []
   },
   "outputs": [],
   "source": [
    "# hide\n",
    "# g['date'] = g['date'].astype('datetime64[ns]')"
   ]
  },
  {
   "cell_type": "code",
   "execution_count": 34,
   "metadata": {
    "execution": {
     "iopub.execute_input": "2020-12-31T00:23:05.481923Z",
     "iopub.status.busy": "2020-12-31T00:23:05.481325Z",
     "iopub.status.idle": "2020-12-31T00:23:05.484144Z",
     "shell.execute_reply": "2020-12-31T00:23:05.484714Z"
    },
    "papermill": {
     "duration": 0.047326,
     "end_time": "2020-12-31T00:23:05.484937",
     "exception": false,
     "start_time": "2020-12-31T00:23:05.437611",
     "status": "completed"
    },
    "tags": []
   },
   "outputs": [],
   "source": [
    "#hide\n",
    "# g['date'] = g.date.dt.dayofyear"
   ]
  },
  {
   "cell_type": "code",
   "execution_count": 35,
   "metadata": {
    "execution": {
     "iopub.execute_input": "2020-12-31T00:23:06.121019Z",
     "iopub.status.busy": "2020-12-31T00:23:06.120390Z",
     "iopub.status.idle": "2020-12-31T00:23:06.122828Z",
     "shell.execute_reply": "2020-12-31T00:23:06.122293Z"
    },
    "papermill": {
     "duration": 0.037916,
     "end_time": "2020-12-31T00:23:06.122937",
     "exception": false,
     "start_time": "2020-12-31T00:23:06.085021",
     "status": "completed"
    },
    "tags": []
   },
   "outputs": [],
   "source": [
    "#hide\n",
    "# g = g.rename(columns= {'continent':'group','country':'name','cases':'value'})"
   ]
  },
  {
   "cell_type": "code",
   "execution_count": 36,
   "metadata": {
    "execution": {
     "iopub.execute_input": "2020-12-31T00:23:06.185129Z",
     "iopub.status.busy": "2020-12-31T00:23:06.184597Z",
     "iopub.status.idle": "2020-12-31T00:23:06.187260Z",
     "shell.execute_reply": "2020-12-31T00:23:06.186692Z"
    },
    "papermill": {
     "duration": 0.034034,
     "end_time": "2020-12-31T00:23:06.187370",
     "exception": false,
     "start_time": "2020-12-31T00:23:06.153336",
     "status": "completed"
    },
    "tags": []
   },
   "outputs": [],
   "source": [
    "#hide\n",
    "# cols = ['name','group','day','value']"
   ]
  },
  {
   "cell_type": "code",
   "execution_count": 37,
   "metadata": {
    "execution": {
     "iopub.execute_input": "2020-12-31T00:23:06.254376Z",
     "iopub.status.busy": "2020-12-31T00:23:06.253828Z",
     "iopub.status.idle": "2020-12-31T00:23:06.256039Z",
     "shell.execute_reply": "2020-12-31T00:23:06.255578Z"
    },
    "papermill": {
     "duration": 0.037423,
     "end_time": "2020-12-31T00:23:06.256148",
     "exception": false,
     "start_time": "2020-12-31T00:23:06.218725",
     "status": "completed"
    },
    "tags": []
   },
   "outputs": [],
   "source": [
    "#hide\n",
    "# g.rename(columns= {'date':'day'},inplace = True)"
   ]
  },
  {
   "cell_type": "code",
   "execution_count": 38,
   "metadata": {
    "execution": {
     "iopub.execute_input": "2020-12-31T00:23:06.321424Z",
     "iopub.status.busy": "2020-12-31T00:23:06.320784Z",
     "iopub.status.idle": "2020-12-31T00:23:06.323741Z",
     "shell.execute_reply": "2020-12-31T00:23:06.323117Z"
    },
    "papermill": {
     "duration": 0.035443,
     "end_time": "2020-12-31T00:23:06.323885",
     "exception": false,
     "start_time": "2020-12-31T00:23:06.288442",
     "status": "completed"
    },
    "tags": []
   },
   "outputs": [],
   "source": [
    "#hide\n",
    "# g = g[cols]"
   ]
  },
  {
   "cell_type": "code",
   "execution_count": 39,
   "metadata": {
    "execution": {
     "iopub.execute_input": "2020-12-31T00:23:06.391482Z",
     "iopub.status.busy": "2020-12-31T00:23:06.390889Z",
     "iopub.status.idle": "2020-12-31T00:23:06.392966Z",
     "shell.execute_reply": "2020-12-31T00:23:06.393494Z"
    },
    "papermill": {
     "duration": 0.038193,
     "end_time": "2020-12-31T00:23:06.393705",
     "exception": false,
     "start_time": "2020-12-31T00:23:06.355512",
     "status": "completed"
    },
    "tags": []
   },
   "outputs": [],
   "source": [
    "# #hide\n",
    "# g = g[g.group.notna()]"
   ]
  },
  {
   "cell_type": "code",
   "execution_count": 40,
   "metadata": {
    "execution": {
     "iopub.execute_input": "2020-12-31T00:23:06.465971Z",
     "iopub.status.busy": "2020-12-31T00:23:06.465175Z",
     "iopub.status.idle": "2020-12-31T00:23:06.467215Z",
     "shell.execute_reply": "2020-12-31T00:23:06.467735Z"
    },
    "papermill": {
     "duration": 0.040975,
     "end_time": "2020-12-31T00:23:06.467884",
     "exception": false,
     "start_time": "2020-12-31T00:23:06.426909",
     "status": "completed"
    },
    "tags": []
   },
   "outputs": [],
   "source": [
    "# #hide\n",
    "# colors = dict(zip(\n",
    "#     [\"Oceania\", \"Europe\", \"Asia\", \"South America\", \"Middle East\", \"North America\", \"Africa\"],\n",
    "#     [\"#adb0ff\", \"#ffb3ff\", \"#90d595\", \"#e48381\", \"#aafbff\", \"#f7bb5f\", \"#eafb50\"]\n",
    "# ))\n",
    "# group_lk = g.set_index('name')['group'].to_dict()"
   ]
  },
  {
   "cell_type": "code",
   "execution_count": null,
   "metadata": {
    "papermill": {
     "duration": 0.033258,
     "end_time": "2020-12-31T00:23:06.534307",
     "exception": false,
     "start_time": "2020-12-31T00:23:06.501049",
     "status": "completed"
    },
    "tags": []
   },
   "outputs": [],
   "source": []
  },
  {
   "cell_type": "code",
   "execution_count": 41,
   "metadata": {
    "execution": {
     "iopub.execute_input": "2020-12-31T00:23:06.603463Z",
     "iopub.status.busy": "2020-12-31T00:23:06.602749Z",
     "iopub.status.idle": "2020-12-31T00:23:06.605098Z",
     "shell.execute_reply": "2020-12-31T00:23:06.605894Z"
    },
    "papermill": {
     "duration": 0.040207,
     "end_time": "2020-12-31T00:23:06.606118",
     "exception": false,
     "start_time": "2020-12-31T00:23:06.565911",
     "status": "completed"
    },
    "tags": []
   },
   "outputs": [],
   "source": [
    "# #hide\n",
    "# fig, ax = plt.subplots(figsize=(15, 8))\n",
    "\n",
    "# def draw_barchart(current_day):\n",
    "#     dff = g[g['day'].eq(current_day)].sort_values(by='value', ascending=True).tail(10)\n",
    "#     ax.clear()\n",
    "#     ax.barh(dff['name'], dff['value'], color=[colors[group_lk[x]] for x in dff['name']])\n",
    "#     dx = dff['value'].max() / 200\n",
    "    \n",
    "#     for i, (value, name) in enumerate(zip(dff['value'], dff['name'])):\n",
    "#         ax.text(value-dx, i,     name,           size=14, weight=600, ha='right', va='bottom')\n",
    "#         ax.text(value-dx, i-.25, group_lk[name], size=10, color='#444444', ha='right', va='baseline')\n",
    "#         ax.text(value+dx, i,     f'{value:,.0f}',  size=14, ha='left',  va='center')\n",
    "#     ax.text(1, 0.4, current_day, transform=ax.transAxes, color='#777777', size=46, ha='right', weight=800)\n",
    "#     ax.text(0, 1.06, 'Population (thousands)', transform=ax.transAxes, size=12, color='#777777')\n",
    "#     ax.xaxis.set_major_formatter(ticker.StrMethodFormatter('{x:,.0f}'))\n",
    "#     ax.xaxis.set_ticks_position('top')\n",
    "#     ax.tick_params(axis='x', colors='#777777', labelsize=12)\n",
    "#     ax.set_yticks([])\n",
    "#     ax.margins(0, 0.01)\n",
    "#     ax.grid(which='major', axis='x', linestyle='-')\n",
    "#     ax.set_axisbelow(True)\n",
    "    \n",
    "#     ax.text(0, 1.15, 'Coronavirus',\n",
    "#             transform=ax.transAxes, size=24, weight=600, ha='left', va='top')\n",
    "# #     ax.text(1, 0, 'by @pratapvardhan; credit @jburnmurdoch', transform=ax.transAxes, color='#777777', ha='right',\n",
    "# #             bbox=dict(facecolor='white', alpha=0.8, edgecolor='white'))\n",
    "#     plt.box(False)"
   ]
  },
  {
   "cell_type": "code",
   "execution_count": 42,
   "metadata": {
    "execution": {
     "iopub.execute_input": "2020-12-31T00:23:06.676148Z",
     "iopub.status.busy": "2020-12-31T00:23:06.675488Z",
     "iopub.status.idle": "2020-12-31T00:23:06.677175Z",
     "shell.execute_reply": "2020-12-31T00:23:06.677699Z"
    },
    "papermill": {
     "duration": 0.038081,
     "end_time": "2020-12-31T00:23:06.677830",
     "exception": false,
     "start_time": "2020-12-31T00:23:06.639749",
     "status": "completed"
    },
    "tags": []
   },
   "outputs": [],
   "source": [
    "# #hide_input\n",
    "# fig, ax = plt.subplots(figsize=(15, 8))\n",
    "# animator = animation.FuncAnimation(fig, draw_barchart, frames=range(g.day.values.min(), g.day.values.max()))\n",
    "# HTML(animator.to_jshtml())\n",
    "# # or use animator.to_html5_video() or animator.save() "
   ]
  },
  {
   "cell_type": "code",
   "execution_count": null,
   "metadata": {
    "papermill": {
     "duration": 0.032562,
     "end_time": "2020-12-31T00:23:06.740510",
     "exception": false,
     "start_time": "2020-12-31T00:23:06.707948",
     "status": "completed"
    },
    "tags": []
   },
   "outputs": [],
   "source": []
  },
  {
   "cell_type": "code",
   "execution_count": null,
   "metadata": {
    "papermill": {
     "duration": 0.035329,
     "end_time": "2020-12-31T00:23:06.808652",
     "exception": false,
     "start_time": "2020-12-31T00:23:06.773323",
     "status": "completed"
    },
    "tags": []
   },
   "outputs": [],
   "source": []
  },
  {
   "cell_type": "code",
   "execution_count": null,
   "metadata": {
    "papermill": {
     "duration": 0.030789,
     "end_time": "2020-12-31T00:23:06.870129",
     "exception": false,
     "start_time": "2020-12-31T00:23:06.839340",
     "status": "completed"
    },
    "tags": []
   },
   "outputs": [],
   "source": []
  }
 ],
 "metadata": {
  "kernelspec": {
   "display_name": "Python 3",
   "language": "python",
   "name": "python3"
  },
  "language_info": {
   "codemirror_mode": {
    "name": "ipython",
    "version": 3
   },
   "file_extension": ".py",
   "mimetype": "text/x-python",
   "name": "python",
   "nbconvert_exporter": "python",
   "pygments_lexer": "ipython3",
   "version": "3.6.12"
  },
  "papermill": {
   "duration": 7.039452,
   "end_time": "2020-12-31T00:23:07.207161",
   "environment_variables": {},
   "exception": null,
   "input_path": "2020-03-21-covid19exp.ipynb",
   "output_path": "2020-03-21-covid19exp.ipynb",
   "parameters": {},
   "start_time": "2020-12-31T00:23:00.167709",
   "version": "2.0.0"
  }
 },
 "nbformat": 4,
 "nbformat_minor": 4
}