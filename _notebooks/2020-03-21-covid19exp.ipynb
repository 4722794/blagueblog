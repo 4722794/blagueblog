{
 "cells": [
  {
   "cell_type": "markdown",
   "id": "muslim-click",
   "metadata": {
    "papermill": {
     "duration": 0.041407,
     "end_time": "2022-03-16T12:14:20.465833",
     "exception": false,
     "start_time": "2022-03-16T12:14:20.424426",
     "status": "completed"
    },
    "tags": []
   },
   "source": [
    "# COVID-19 Case Race\n",
    "> A race chart to see rising cases around the world\n",
    "\n",
    "- author: Hargun Oberoi\n",
    "- image: images/covid-overview.png\n",
    "- hide: false\n",
    "- badges: false"
   ]
  },
  {
   "cell_type": "code",
   "execution_count": 1,
   "id": "proof-material",
   "metadata": {
    "execution": {
     "iopub.execute_input": "2022-03-16T12:14:20.544492Z",
     "iopub.status.busy": "2022-03-16T12:14:20.543891Z",
     "iopub.status.idle": "2022-03-16T12:14:20.909027Z",
     "shell.execute_reply": "2022-03-16T12:14:20.910122Z"
    },
    "papermill": {
     "duration": 0.409003,
     "end_time": "2022-03-16T12:14:20.910436",
     "exception": false,
     "start_time": "2022-03-16T12:14:20.501433",
     "status": "completed"
    },
    "tags": []
   },
   "outputs": [],
   "source": [
    "#hide\n",
    "import numpy as np\n",
    "import pandas as pd\n",
    "from jinja2 import Template\n",
    "from IPython.display import HTML"
   ]
  },
  {
   "cell_type": "code",
   "execution_count": 2,
   "id": "developed-terminology",
   "metadata": {
    "execution": {
     "iopub.execute_input": "2022-03-16T12:14:20.983650Z",
     "iopub.status.busy": "2022-03-16T12:14:20.982333Z",
     "iopub.status.idle": "2022-03-16T12:14:20.984306Z",
     "shell.execute_reply": "2022-03-16T12:14:20.984834Z"
    },
    "papermill": {
     "duration": 0.041507,
     "end_time": "2022-03-16T12:14:20.984963",
     "exception": false,
     "start_time": "2022-03-16T12:14:20.943456",
     "status": "completed"
    },
    "tags": []
   },
   "outputs": [],
   "source": [
    "#hide\n",
    "\n",
    "# FETCH\n",
    "base_url = 'https://raw.githubusercontent.com/pratapvardhan/notebooks/master/covid19/'\n",
    "paths = {\n",
    "    'mapping': base_url + 'mapping_countries.csv',\n",
    "    'overview': base_url + 'overview.tpl'\n",
    "}"
   ]
  },
  {
   "cell_type": "code",
   "execution_count": 3,
   "id": "dynamic-saver",
   "metadata": {
    "execution": {
     "iopub.execute_input": "2022-03-16T12:14:21.068121Z",
     "iopub.status.busy": "2022-03-16T12:14:21.067538Z",
     "iopub.status.idle": "2022-03-16T12:14:21.070843Z",
     "shell.execute_reply": "2022-03-16T12:14:21.070348Z"
    },
    "papermill": {
     "duration": 0.04619,
     "end_time": "2022-03-16T12:14:21.070953",
     "exception": false,
     "start_time": "2022-03-16T12:14:21.024763",
     "status": "completed"
    },
    "tags": []
   },
   "outputs": [
    {
     "data": {
      "text/plain": [
       "'https://raw.githubusercontent.com/pratapvardhan/notebooks/master/covid19/mapping_countries.csv'"
      ]
     },
     "execution_count": 3,
     "metadata": {},
     "output_type": "execute_result"
    }
   ],
   "source": [
    "#hide\n",
    "paths['mapping']"
   ]
  },
  {
   "cell_type": "code",
   "execution_count": 4,
   "id": "urban-software",
   "metadata": {
    "execution": {
     "iopub.execute_input": "2022-03-16T12:14:21.149275Z",
     "iopub.status.busy": "2022-03-16T12:14:21.148678Z",
     "iopub.status.idle": "2022-03-16T12:14:21.150991Z",
     "shell.execute_reply": "2022-03-16T12:14:21.150487Z"
    },
    "papermill": {
     "duration": 0.041734,
     "end_time": "2022-03-16T12:14:21.151111",
     "exception": false,
     "start_time": "2022-03-16T12:14:21.109377",
     "status": "completed"
    },
    "tags": []
   },
   "outputs": [],
   "source": [
    "#hide\n",
    "def get_mappings(url):\n",
    "    df = pd.read_csv(url)\n",
    "    return {\n",
    "        'df': df,\n",
    "        'replace.country': dict(df.dropna(subset=['Name']).set_index('Country')['Name']),\n",
    "        'map.continent': dict(df.set_index('Name')['Continent'])\n",
    "    }"
   ]
  },
  {
   "cell_type": "code",
   "execution_count": 5,
   "id": "intimate-machinery",
   "metadata": {
    "execution": {
     "iopub.execute_input": "2022-03-16T12:14:21.223956Z",
     "iopub.status.busy": "2022-03-16T12:14:21.223374Z",
     "iopub.status.idle": "2022-03-16T12:14:21.250453Z",
     "shell.execute_reply": "2022-03-16T12:14:21.249989Z"
    },
    "papermill": {
     "duration": 0.064716,
     "end_time": "2022-03-16T12:14:21.250568",
     "exception": false,
     "start_time": "2022-03-16T12:14:21.185852",
     "status": "completed"
    },
    "tags": []
   },
   "outputs": [],
   "source": [
    "#hide\n",
    "mapping = get_mappings(paths['mapping'])"
   ]
  },
  {
   "cell_type": "code",
   "execution_count": 6,
   "id": "certified-tactics",
   "metadata": {
    "execution": {
     "iopub.execute_input": "2022-03-16T12:14:21.323330Z",
     "iopub.status.busy": "2022-03-16T12:14:21.322561Z",
     "iopub.status.idle": "2022-03-16T12:14:21.326310Z",
     "shell.execute_reply": "2022-03-16T12:14:21.326786Z"
    },
    "papermill": {
     "duration": 0.042285,
     "end_time": "2022-03-16T12:14:21.326925",
     "exception": false,
     "start_time": "2022-03-16T12:14:21.284640",
     "status": "completed"
    },
    "tags": []
   },
   "outputs": [],
   "source": [
    "#hide\n",
    "def get_template(path):\n",
    "    from urllib.parse import urlparse\n",
    "    if bool(urlparse(path).netloc):\n",
    "        from urllib.request import urlopen\n",
    "        return urlopen(path).read().decode('utf8')\n",
    "    return open(path).read()"
   ]
  },
  {
   "cell_type": "code",
   "execution_count": 7,
   "id": "realistic-blast",
   "metadata": {
    "execution": {
     "iopub.execute_input": "2022-03-16T12:14:21.403350Z",
     "iopub.status.busy": "2022-03-16T12:14:21.402729Z",
     "iopub.status.idle": "2022-03-16T12:14:21.405324Z",
     "shell.execute_reply": "2022-03-16T12:14:21.406017Z"
    },
    "papermill": {
     "duration": 0.04378,
     "end_time": "2022-03-16T12:14:21.406169",
     "exception": false,
     "start_time": "2022-03-16T12:14:21.362389",
     "status": "completed"
    },
    "tags": []
   },
   "outputs": [],
   "source": [
    "#hide\n",
    "def get_frame(name):\n",
    "    url = (\n",
    "        'https://raw.githubusercontent.com/CSSEGISandData/COVID-19/master/csse_covid_19_data/'\n",
    "        f'csse_covid_19_time_series/time_series_covid19_{name}_global.csv')\n",
    "    df = pd.read_csv(url)\n",
    "    # rename countries\n",
    "    df['Country/Region'] = df['Country/Region'].replace(mapping['replace.country'])\n",
    "    return df"
   ]
  },
  {
   "cell_type": "code",
   "execution_count": 8,
   "id": "affiliated-characterization",
   "metadata": {
    "execution": {
     "iopub.execute_input": "2022-03-16T12:14:21.480616Z",
     "iopub.status.busy": "2022-03-16T12:14:21.480018Z",
     "iopub.status.idle": "2022-03-16T12:14:21.482058Z",
     "shell.execute_reply": "2022-03-16T12:14:21.482627Z"
    },
    "papermill": {
     "duration": 0.041451,
     "end_time": "2022-03-16T12:14:21.482751",
     "exception": false,
     "start_time": "2022-03-16T12:14:21.441300",
     "status": "completed"
    },
    "tags": []
   },
   "outputs": [],
   "source": [
    "#hide\n",
    "def get_dates(df):\n",
    "    dt_cols = df.columns[~df.columns.isin(['Province/State', 'Country/Region', 'Lat', 'Long'])]\n",
    "    LAST_DATE_I = -1\n",
    "    # sometimes last column may be empty, then go backwards\n",
    "    for i in range(-1, -len(dt_cols), -1):\n",
    "        if not df[dt_cols[i]].fillna(0).eq(0).all():\n",
    "            LAST_DATE_I = i\n",
    "            break\n",
    "    return LAST_DATE_I, dt_cols"
   ]
  },
  {
   "cell_type": "code",
   "execution_count": 9,
   "id": "recent-optimization",
   "metadata": {
    "execution": {
     "iopub.execute_input": "2022-03-16T12:14:21.557893Z",
     "iopub.status.busy": "2022-03-16T12:14:21.557177Z",
     "iopub.status.idle": "2022-03-16T12:14:21.940886Z",
     "shell.execute_reply": "2022-03-16T12:14:21.940370Z"
    },
    "papermill": {
     "duration": 0.422055,
     "end_time": "2022-03-16T12:14:21.941024",
     "exception": false,
     "start_time": "2022-03-16T12:14:21.518969",
     "status": "completed"
    },
    "tags": []
   },
   "outputs": [],
   "source": [
    "#hide\n",
    "COL_REGION = 'Country/Region'\n",
    "# Confirmed, Recovered, Deaths\n",
    "df = get_frame('confirmed')\n",
    "# dft_: timeseries, dfc_: today country agg\n",
    "dft_cases = df\n",
    "dft_deaths = get_frame('deaths')\n",
    "dft_recovered = get_frame('recovered')\n",
    "LAST_DATE_I, dt_cols = get_dates(df)"
   ]
  },
  {
   "cell_type": "code",
   "execution_count": 10,
   "id": "absolute-copper",
   "metadata": {
    "execution": {
     "iopub.execute_input": "2022-03-16T12:14:22.013999Z",
     "iopub.status.busy": "2022-03-16T12:14:22.013380Z",
     "iopub.status.idle": "2022-03-16T12:14:22.017030Z",
     "shell.execute_reply": "2022-03-16T12:14:22.016446Z"
    },
    "papermill": {
     "duration": 0.042058,
     "end_time": "2022-03-16T12:14:22.017144",
     "exception": false,
     "start_time": "2022-03-16T12:14:21.975086",
     "status": "completed"
    },
    "tags": []
   },
   "outputs": [],
   "source": [
    "#hide\n",
    "LAST_DATE_I, dt_cols = get_dates(df)\n",
    "dt_today =dt_cols[LAST_DATE_I]\n",
    "# dt_5day = dt_cols[LAST_DATE_I - 5]\n",
    "dt_yday = dt_cols[LAST_DATE_I - 1]"
   ]
  },
  {
   "cell_type": "code",
   "execution_count": 11,
   "id": "restricted-sheriff",
   "metadata": {
    "execution": {
     "iopub.execute_input": "2022-03-16T12:14:22.094299Z",
     "iopub.status.busy": "2022-03-16T12:14:22.093583Z",
     "iopub.status.idle": "2022-03-16T12:14:22.099240Z",
     "shell.execute_reply": "2022-03-16T12:14:22.098531Z"
    },
    "papermill": {
     "duration": 0.049048,
     "end_time": "2022-03-16T12:14:22.099458",
     "exception": false,
     "start_time": "2022-03-16T12:14:22.050410",
     "status": "completed"
    },
    "tags": []
   },
   "outputs": [],
   "source": [
    "#hide\n",
    "dfc_cases = dft_cases.groupby(COL_REGION)[dt_today].sum()\n",
    "dfc_deaths = dft_deaths.groupby(COL_REGION)[dt_today].sum()\n",
    "# dfp_cases = dft_cases.groupby(COL_REGION)[dt_5day].sum()\n",
    "# dfp_deaths = dft_deaths.groupby(COL_REGION)[dt_5day].sum()\n",
    "dfp_cases = dft_cases.groupby(COL_REGION)[dt_yday].sum()\n",
    "dfp_deaths = dft_deaths.groupby(COL_REGION)[dt_yday].sum()"
   ]
  },
  {
   "cell_type": "code",
   "execution_count": 12,
   "id": "deluxe-hepatitis",
   "metadata": {
    "execution": {
     "iopub.execute_input": "2022-03-16T12:14:22.176289Z",
     "iopub.status.busy": "2022-03-16T12:14:22.175680Z",
     "iopub.status.idle": "2022-03-16T12:14:22.180067Z",
     "shell.execute_reply": "2022-03-16T12:14:22.180663Z"
    },
    "papermill": {
     "duration": 0.044869,
     "end_time": "2022-03-16T12:14:22.180791",
     "exception": false,
     "start_time": "2022-03-16T12:14:22.135922",
     "status": "completed"
    },
    "tags": []
   },
   "outputs": [],
   "source": [
    "#hide\n",
    "df_table = (pd.DataFrame(dict(Cases = dfc_cases, Deaths = dfc_deaths, PCases = dfp_cases, PDeaths = dfp_deaths))\n",
    "            .sort_values(by = ['Cases','Deaths'], ascending = [False, False])\n",
    "            .reset_index())"
   ]
  },
  {
   "cell_type": "code",
   "execution_count": 13,
   "id": "educational-chancellor",
   "metadata": {
    "execution": {
     "iopub.execute_input": "2022-03-16T12:14:22.267388Z",
     "iopub.status.busy": "2022-03-16T12:14:22.266787Z",
     "iopub.status.idle": "2022-03-16T12:14:22.274585Z",
     "shell.execute_reply": "2022-03-16T12:14:22.275141Z"
    },
    "papermill": {
     "duration": 0.060101,
     "end_time": "2022-03-16T12:14:22.275271",
     "exception": false,
     "start_time": "2022-03-16T12:14:22.215170",
     "status": "completed"
    },
    "tags": []
   },
   "outputs": [
    {
     "data": {
      "text/html": [
       "<div>\n",
       "<style scoped>\n",
       "    .dataframe tbody tr th:only-of-type {\n",
       "        vertical-align: middle;\n",
       "    }\n",
       "\n",
       "    .dataframe tbody tr th {\n",
       "        vertical-align: top;\n",
       "    }\n",
       "\n",
       "    .dataframe thead th {\n",
       "        text-align: right;\n",
       "    }\n",
       "</style>\n",
       "<table border=\"1\" class=\"dataframe\">\n",
       "  <thead>\n",
       "    <tr style=\"text-align: right;\">\n",
       "      <th></th>\n",
       "      <th>Country/Region</th>\n",
       "      <th>Cases</th>\n",
       "      <th>Deaths</th>\n",
       "      <th>PCases</th>\n",
       "      <th>PDeaths</th>\n",
       "      <th>Cases (+)</th>\n",
       "      <th>Deaths (+)</th>\n",
       "      <th>Fatality Rate</th>\n",
       "      <th>Continent</th>\n",
       "    </tr>\n",
       "  </thead>\n",
       "  <tbody>\n",
       "    <tr>\n",
       "      <th>0</th>\n",
       "      <td>US</td>\n",
       "      <td>79586694</td>\n",
       "      <td>966386</td>\n",
       "      <td>79562252</td>\n",
       "      <td>965105</td>\n",
       "      <td>24442</td>\n",
       "      <td>1281</td>\n",
       "      <td>1.21</td>\n",
       "      <td>North America</td>\n",
       "    </tr>\n",
       "    <tr>\n",
       "      <th>1</th>\n",
       "      <td>India</td>\n",
       "      <td>42998938</td>\n",
       "      <td>516072</td>\n",
       "      <td>42996062</td>\n",
       "      <td>515974</td>\n",
       "      <td>2876</td>\n",
       "      <td>98</td>\n",
       "      <td>1.20</td>\n",
       "      <td>Asia</td>\n",
       "    </tr>\n",
       "    <tr>\n",
       "      <th>2</th>\n",
       "      <td>Brazil</td>\n",
       "      <td>29441039</td>\n",
       "      <td>655878</td>\n",
       "      <td>29391345</td>\n",
       "      <td>655557</td>\n",
       "      <td>49694</td>\n",
       "      <td>321</td>\n",
       "      <td>2.23</td>\n",
       "      <td>South America</td>\n",
       "    </tr>\n",
       "    <tr>\n",
       "      <th>3</th>\n",
       "      <td>France</td>\n",
       "      <td>23834842</td>\n",
       "      <td>141467</td>\n",
       "      <td>23717460</td>\n",
       "      <td>141321</td>\n",
       "      <td>117382</td>\n",
       "      <td>146</td>\n",
       "      <td>0.59</td>\n",
       "      <td>Europe</td>\n",
       "    </tr>\n",
       "    <tr>\n",
       "      <th>4</th>\n",
       "      <td>United Kingdom</td>\n",
       "      <td>19965698</td>\n",
       "      <td>163680</td>\n",
       "      <td>19845016</td>\n",
       "      <td>163454</td>\n",
       "      <td>120682</td>\n",
       "      <td>226</td>\n",
       "      <td>0.82</td>\n",
       "      <td>Europe</td>\n",
       "    </tr>\n",
       "  </tbody>\n",
       "</table>\n",
       "</div>"
      ],
      "text/plain": [
       "   Country/Region     Cases  Deaths    PCases  PDeaths  Cases (+)  Deaths (+)  \\\n",
       "0              US  79586694  966386  79562252   965105      24442        1281   \n",
       "1           India  42998938  516072  42996062   515974       2876          98   \n",
       "2          Brazil  29441039  655878  29391345   655557      49694         321   \n",
       "3          France  23834842  141467  23717460   141321     117382         146   \n",
       "4  United Kingdom  19965698  163680  19845016   163454     120682         226   \n",
       "\n",
       "   Fatality Rate      Continent  \n",
       "0           1.21  North America  \n",
       "1           1.20           Asia  \n",
       "2           2.23  South America  \n",
       "3           0.59         Europe  \n",
       "4           0.82         Europe  "
      ]
     },
     "execution_count": 13,
     "metadata": {},
     "output_type": "execute_result"
    }
   ],
   "source": [
    "#hide\n",
    "for c in 'Cases, Deaths'.split(', '):\n",
    "    df_table[f'{c} (+)'] = (df_table[c] - df_table[f'P{c}']).clip(0)\n",
    "    #Clip ça veut dire, les chiffres negatif sont interdit\n",
    "df_table['Fatality Rate'] = (100* df_table['Deaths']/ df_table['Cases']).round(2)\n",
    "df_table['Continent'] = df_table['Country/Region'].map(mapping['map.continent'])\n",
    "df_table.head(5)"
   ]
  },
  {
   "cell_type": "code",
   "execution_count": 14,
   "id": "aboriginal-bulgaria",
   "metadata": {
    "execution": {
     "iopub.execute_input": "2022-03-16T12:14:22.349489Z",
     "iopub.status.busy": "2022-03-16T12:14:22.348896Z",
     "iopub.status.idle": "2022-03-16T12:14:22.351731Z",
     "shell.execute_reply": "2022-03-16T12:14:22.351027Z"
    },
    "papermill": {
     "duration": 0.042334,
     "end_time": "2022-03-16T12:14:22.352126",
     "exception": false,
     "start_time": "2022-03-16T12:14:22.309792",
     "status": "completed"
    },
    "tags": []
   },
   "outputs": [],
   "source": [
    "#hide\n",
    "#delete problematic countries from table\n",
    "df_table = df_table[~df_table['Country/Region'].isin(['Cape Verde', 'Cruise Ship', 'Kosovo'])]"
   ]
  },
  {
   "cell_type": "code",
   "execution_count": 15,
   "id": "fantastic-effect",
   "metadata": {
    "execution": {
     "iopub.execute_input": "2022-03-16T12:14:22.430296Z",
     "iopub.status.busy": "2022-03-16T12:14:22.429605Z",
     "iopub.status.idle": "2022-03-16T12:14:22.449304Z",
     "shell.execute_reply": "2022-03-16T12:14:22.449788Z"
    },
    "papermill": {
     "duration": 0.06376,
     "end_time": "2022-03-16T12:14:22.449928",
     "exception": false,
     "start_time": "2022-03-16T12:14:22.386168",
     "status": "completed"
    },
    "tags": []
   },
   "outputs": [
    {
     "data": {
      "text/html": [
       "<div>\n",
       "<style scoped>\n",
       "    .dataframe tbody tr th:only-of-type {\n",
       "        vertical-align: middle;\n",
       "    }\n",
       "\n",
       "    .dataframe tbody tr th {\n",
       "        vertical-align: top;\n",
       "    }\n",
       "\n",
       "    .dataframe thead th {\n",
       "        text-align: right;\n",
       "    }\n",
       "</style>\n",
       "<table border=\"1\" class=\"dataframe\">\n",
       "  <thead>\n",
       "    <tr style=\"text-align: right;\">\n",
       "      <th></th>\n",
       "      <th>Country/Region</th>\n",
       "      <th>Cases</th>\n",
       "      <th>Deaths</th>\n",
       "      <th>PCases</th>\n",
       "      <th>PDeaths</th>\n",
       "      <th>Cases (+)</th>\n",
       "      <th>Deaths (+)</th>\n",
       "      <th>Fatality Rate</th>\n",
       "      <th>Continent</th>\n",
       "    </tr>\n",
       "  </thead>\n",
       "  <tbody>\n",
       "    <tr>\n",
       "      <th>0</th>\n",
       "      <td>US</td>\n",
       "      <td>79586694</td>\n",
       "      <td>966386</td>\n",
       "      <td>79562252</td>\n",
       "      <td>965105</td>\n",
       "      <td>24442</td>\n",
       "      <td>1281</td>\n",
       "      <td>1.2</td>\n",
       "      <td>North America</td>\n",
       "    </tr>\n",
       "    <tr>\n",
       "      <th>1</th>\n",
       "      <td>India</td>\n",
       "      <td>42998938</td>\n",
       "      <td>516072</td>\n",
       "      <td>42996062</td>\n",
       "      <td>515974</td>\n",
       "      <td>2876</td>\n",
       "      <td>98</td>\n",
       "      <td>1.2</td>\n",
       "      <td>Asia</td>\n",
       "    </tr>\n",
       "    <tr>\n",
       "      <th>2</th>\n",
       "      <td>Brazil</td>\n",
       "      <td>29441039</td>\n",
       "      <td>655878</td>\n",
       "      <td>29391345</td>\n",
       "      <td>655557</td>\n",
       "      <td>49694</td>\n",
       "      <td>321</td>\n",
       "      <td>2.2</td>\n",
       "      <td>South America</td>\n",
       "    </tr>\n",
       "    <tr>\n",
       "      <th>3</th>\n",
       "      <td>France</td>\n",
       "      <td>23834842</td>\n",
       "      <td>141467</td>\n",
       "      <td>23717460</td>\n",
       "      <td>141321</td>\n",
       "      <td>117382</td>\n",
       "      <td>146</td>\n",
       "      <td>0.6</td>\n",
       "      <td>Europe</td>\n",
       "    </tr>\n",
       "    <tr>\n",
       "      <th>4</th>\n",
       "      <td>United Kingdom</td>\n",
       "      <td>19965698</td>\n",
       "      <td>163680</td>\n",
       "      <td>19845016</td>\n",
       "      <td>163454</td>\n",
       "      <td>120682</td>\n",
       "      <td>226</td>\n",
       "      <td>0.8</td>\n",
       "      <td>Europe</td>\n",
       "    </tr>\n",
       "  </tbody>\n",
       "</table>\n",
       "</div>"
      ],
      "text/plain": [
       "   Country/Region     Cases  Deaths    PCases  PDeaths  Cases (+)  Deaths (+)  \\\n",
       "0              US  79586694  966386  79562252   965105      24442        1281   \n",
       "1           India  42998938  516072  42996062   515974       2876          98   \n",
       "2          Brazil  29441039  655878  29391345   655557      49694         321   \n",
       "3          France  23834842  141467  23717460   141321     117382         146   \n",
       "4  United Kingdom  19965698  163680  19845016   163454     120682         226   \n",
       "\n",
       "   Fatality Rate      Continent  \n",
       "0            1.2  North America  \n",
       "1            1.2           Asia  \n",
       "2            2.2  South America  \n",
       "3            0.6         Europe  \n",
       "4            0.8         Europe  "
      ]
     },
     "execution_count": 15,
     "metadata": {},
     "output_type": "execute_result"
    }
   ],
   "source": [
    "#hide\n",
    "df_table = (pd.DataFrame(dict(Cases=dfc_cases, Deaths=dfc_deaths, PCases=dfp_cases, PDeaths=dfp_deaths))\n",
    "             .sort_values(by=['Cases', 'Deaths'], ascending=[False, False])\n",
    "             .reset_index())\n",
    "df_table.rename(columns={'index': 'Country/Region'}, inplace=True)\n",
    "for c in 'Cases, Deaths'.split(', '):\n",
    "    df_table[f'{c} (+)'] = (df_table[c] - df_table[f'P{c}']).clip(0)  # DATA BUG\n",
    "df_table['Fatality Rate'] = (100 * df_table['Deaths'] / df_table['Cases']).round(1)\n",
    "df_table['Continent'] = df_table['Country/Region'].map(mapping['map.continent'])\n",
    "df_table.head(5)"
   ]
  },
  {
   "cell_type": "code",
   "execution_count": 16,
   "id": "fewer-occasion",
   "metadata": {
    "execution": {
     "iopub.execute_input": "2022-03-16T12:14:22.527084Z",
     "iopub.status.busy": "2022-03-16T12:14:22.526421Z",
     "iopub.status.idle": "2022-03-16T12:14:22.530155Z",
     "shell.execute_reply": "2022-03-16T12:14:22.529593Z"
    },
    "papermill": {
     "duration": 0.045012,
     "end_time": "2022-03-16T12:14:22.530288",
     "exception": false,
     "start_time": "2022-03-16T12:14:22.485276",
     "status": "completed"
    },
    "tags": []
   },
   "outputs": [],
   "source": [
    "#hide\n",
    "#delete problematic countries from table\n",
    "df_table = df_table[~df_table['Country/Region'].isin(['Cape Verde', 'Cruise Ship', 'Kosovo'])]"
   ]
  },
  {
   "cell_type": "code",
   "execution_count": 17,
   "id": "related-center",
   "metadata": {
    "execution": {
     "iopub.execute_input": "2022-03-16T12:14:22.621160Z",
     "iopub.status.busy": "2022-03-16T12:14:22.620570Z",
     "iopub.status.idle": "2022-03-16T12:14:22.623282Z",
     "shell.execute_reply": "2022-03-16T12:14:22.622787Z"
    },
    "papermill": {
     "duration": 0.057352,
     "end_time": "2022-03-16T12:14:22.623456",
     "exception": false,
     "start_time": "2022-03-16T12:14:22.566104",
     "status": "completed"
    },
    "tags": []
   },
   "outputs": [],
   "source": [
    "#hide\n",
    "metrics = [df_table.columns[index] for index in [1,2,5,6]]\n",
    "# s_china = df_table[df_table['Country/Region'].eq('China')][metrics].sum().add_prefix('China ')\n",
    "s_us = df_table[df_table['Country/Region'].eq('US')][metrics].sum().add_prefix('US ')\n",
    "s_eu = df_table[df_table['Continent'].eq('Europe')][metrics].sum().add_prefix('EU ')\n",
    "s_ind = df_table[df_table['Country/Region'].eq('India')][metrics].sum().add_prefix('India ')\n",
    "summary = {'updated': pd.to_datetime(dt_today), 'since': pd.to_datetime(dt_yday)}\n",
    "summary = {'updated': pd.to_datetime(dt_today), 'since': pd.to_datetime(dt_yday)}\n",
    "summary = {**summary, **df_table[metrics].sum(), **s_ind, **s_us, **s_eu}"
   ]
  },
  {
   "cell_type": "code",
   "execution_count": 18,
   "id": "engaging-syndrome",
   "metadata": {
    "execution": {
     "iopub.execute_input": "2022-03-16T12:14:22.700838Z",
     "iopub.status.busy": "2022-03-16T12:14:22.700225Z",
     "iopub.status.idle": "2022-03-16T12:14:22.716343Z",
     "shell.execute_reply": "2022-03-16T12:14:22.715843Z"
    },
    "papermill": {
     "duration": 0.055217,
     "end_time": "2022-03-16T12:14:22.716464",
     "exception": false,
     "start_time": "2022-03-16T12:14:22.661247",
     "status": "completed"
    },
    "tags": []
   },
   "outputs": [],
   "source": [
    "#hide\n",
    "dft_ct_new_cases = dft_cases.groupby(COL_REGION)[dt_cols].sum().diff(axis=1).fillna(0).astype(int)"
   ]
  },
  {
   "cell_type": "code",
   "execution_count": 19,
   "id": "neutral-assignment",
   "metadata": {
    "execution": {
     "iopub.execute_input": "2022-03-16T12:14:22.795199Z",
     "iopub.status.busy": "2022-03-16T12:14:22.794396Z",
     "iopub.status.idle": "2022-03-16T12:14:22.797297Z",
     "shell.execute_reply": "2022-03-16T12:14:22.796821Z"
    },
    "papermill": {
     "duration": 0.04617,
     "end_time": "2022-03-16T12:14:22.797421",
     "exception": false,
     "start_time": "2022-03-16T12:14:22.751251",
     "status": "completed"
    },
    "tags": []
   },
   "outputs": [],
   "source": [
    "#hide\n",
    "everydaycases = dft_ct_new_cases.cumsum(axis=1)"
   ]
  },
  {
   "cell_type": "code",
   "execution_count": 20,
   "id": "parliamentary-calgary",
   "metadata": {
    "execution": {
     "iopub.execute_input": "2022-03-16T12:14:22.871784Z",
     "iopub.status.busy": "2022-03-16T12:14:22.871188Z",
     "iopub.status.idle": "2022-03-16T12:14:23.571714Z",
     "shell.execute_reply": "2022-03-16T12:14:23.571035Z"
    },
    "papermill": {
     "duration": 0.73975,
     "end_time": "2022-03-16T12:14:23.571883",
     "exception": false,
     "start_time": "2022-03-16T12:14:22.832133",
     "status": "completed"
    },
    "tags": []
   },
   "outputs": [],
   "source": [
    "#hide\n",
    "import pandas as pd\n",
    "import matplotlib.pyplot as plt\n",
    "import matplotlib.ticker as ticker\n",
    "import matplotlib.animation as animation\n",
    "from IPython.display import HTML"
   ]
  },
  {
   "cell_type": "code",
   "execution_count": 21,
   "id": "lasting-extraction",
   "metadata": {
    "execution": {
     "iopub.execute_input": "2022-03-16T12:14:23.649018Z",
     "iopub.status.busy": "2022-03-16T12:14:23.648398Z",
     "iopub.status.idle": "2022-03-16T12:14:23.655589Z",
     "shell.execute_reply": "2022-03-16T12:14:23.655097Z"
    },
    "papermill": {
     "duration": 0.048318,
     "end_time": "2022-03-16T12:14:23.655719",
     "exception": false,
     "start_time": "2022-03-16T12:14:23.607401",
     "status": "completed"
    },
    "tags": []
   },
   "outputs": [],
   "source": [
    "#hide\n",
    "t = everydaycases.stack()"
   ]
  },
  {
   "cell_type": "code",
   "execution_count": 22,
   "id": "premier-sleeve",
   "metadata": {
    "execution": {
     "iopub.execute_input": "2022-03-16T12:14:23.737054Z",
     "iopub.status.busy": "2022-03-16T12:14:23.736460Z",
     "iopub.status.idle": "2022-03-16T12:14:23.746821Z",
     "shell.execute_reply": "2022-03-16T12:14:23.747275Z"
    },
    "papermill": {
     "duration": 0.049468,
     "end_time": "2022-03-16T12:14:23.747412",
     "exception": false,
     "start_time": "2022-03-16T12:14:23.697944",
     "status": "completed"
    },
    "tags": []
   },
   "outputs": [],
   "source": [
    "#hide\n",
    "g = t.reset_index(['Country/Region'])"
   ]
  },
  {
   "cell_type": "code",
   "execution_count": 23,
   "id": "distributed-pittsburgh",
   "metadata": {
    "execution": {
     "iopub.execute_input": "2022-03-16T12:14:23.824050Z",
     "iopub.status.busy": "2022-03-16T12:14:23.823235Z",
     "iopub.status.idle": "2022-03-16T12:14:23.825770Z",
     "shell.execute_reply": "2022-03-16T12:14:23.825249Z"
    },
    "papermill": {
     "duration": 0.042,
     "end_time": "2022-03-16T12:14:23.825887",
     "exception": false,
     "start_time": "2022-03-16T12:14:23.783887",
     "status": "completed"
    },
    "tags": []
   },
   "outputs": [],
   "source": [
    "#hide\n",
    "g.index.name = 'date'"
   ]
  },
  {
   "cell_type": "code",
   "execution_count": 24,
   "id": "naked-donor",
   "metadata": {
    "execution": {
     "iopub.execute_input": "2022-03-16T12:14:23.900447Z",
     "iopub.status.busy": "2022-03-16T12:14:23.899859Z",
     "iopub.status.idle": "2022-03-16T12:14:23.902298Z",
     "shell.execute_reply": "2022-03-16T12:14:23.901827Z"
    },
    "papermill": {
     "duration": 0.040209,
     "end_time": "2022-03-16T12:14:23.902413",
     "exception": false,
     "start_time": "2022-03-16T12:14:23.862204",
     "status": "completed"
    },
    "tags": []
   },
   "outputs": [],
   "source": [
    "# #hide\n",
    "# g = g.reset_index(['date'])"
   ]
  },
  {
   "cell_type": "code",
   "execution_count": 25,
   "id": "incomplete-mustang",
   "metadata": {
    "execution": {
     "iopub.execute_input": "2022-03-16T12:14:23.975455Z",
     "iopub.status.busy": "2022-03-16T12:14:23.974836Z",
     "iopub.status.idle": "2022-03-16T12:14:23.977396Z",
     "shell.execute_reply": "2022-03-16T12:14:23.976589Z"
    },
    "papermill": {
     "duration": 0.04046,
     "end_time": "2022-03-16T12:14:23.977508",
     "exception": false,
     "start_time": "2022-03-16T12:14:23.937048",
     "status": "completed"
    },
    "tags": []
   },
   "outputs": [],
   "source": [
    "#hide\n",
    "# g.head()"
   ]
  },
  {
   "cell_type": "code",
   "execution_count": 26,
   "id": "specific-kruger",
   "metadata": {
    "execution": {
     "iopub.execute_input": "2022-03-16T12:14:24.050977Z",
     "iopub.status.busy": "2022-03-16T12:14:24.050399Z",
     "iopub.status.idle": "2022-03-16T12:14:24.052796Z",
     "shell.execute_reply": "2022-03-16T12:14:24.052338Z"
    },
    "papermill": {
     "duration": 0.039455,
     "end_time": "2022-03-16T12:14:24.052907",
     "exception": false,
     "start_time": "2022-03-16T12:14:24.013452",
     "status": "completed"
    },
    "tags": []
   },
   "outputs": [],
   "source": [
    "#hide\n",
    "# g.columns = ['date','country','cases']"
   ]
  },
  {
   "cell_type": "code",
   "execution_count": 27,
   "id": "tender-conversion",
   "metadata": {
    "execution": {
     "iopub.execute_input": "2022-03-16T12:14:24.133669Z",
     "iopub.status.busy": "2022-03-16T12:14:24.133031Z",
     "iopub.status.idle": "2022-03-16T12:14:24.137250Z",
     "shell.execute_reply": "2022-03-16T12:14:24.136715Z"
    },
    "papermill": {
     "duration": 0.043163,
     "end_time": "2022-03-16T12:14:24.137368",
     "exception": false,
     "start_time": "2022-03-16T12:14:24.094205",
     "status": "completed"
    },
    "tags": []
   },
   "outputs": [],
   "source": [
    "#hide\n",
    "# g['continent'] = g.country"
   ]
  },
  {
   "cell_type": "code",
   "execution_count": 28,
   "id": "substantial-wilderness",
   "metadata": {
    "execution": {
     "iopub.execute_input": "2022-03-16T12:14:24.212603Z",
     "iopub.status.busy": "2022-03-16T12:14:24.212012Z",
     "iopub.status.idle": "2022-03-16T12:14:24.215740Z",
     "shell.execute_reply": "2022-03-16T12:14:24.216203Z"
    },
    "papermill": {
     "duration": 0.04311,
     "end_time": "2022-03-16T12:14:24.216338",
     "exception": false,
     "start_time": "2022-03-16T12:14:24.173228",
     "status": "completed"
    },
    "tags": []
   },
   "outputs": [],
   "source": [
    "#hide\n",
    "# cols = list(g.columns.values)"
   ]
  },
  {
   "cell_type": "code",
   "execution_count": 29,
   "id": "solved-farming",
   "metadata": {
    "execution": {
     "iopub.execute_input": "2022-03-16T12:14:24.288981Z",
     "iopub.status.busy": "2022-03-16T12:14:24.288387Z",
     "iopub.status.idle": "2022-03-16T12:14:24.292695Z",
     "shell.execute_reply": "2022-03-16T12:14:24.292223Z"
    },
    "papermill": {
     "duration": 0.041691,
     "end_time": "2022-03-16T12:14:24.292807",
     "exception": false,
     "start_time": "2022-03-16T12:14:24.251116",
     "status": "completed"
    },
    "tags": []
   },
   "outputs": [],
   "source": [
    "#hide\n",
    "# cols.insert(0, cols.pop())"
   ]
  },
  {
   "cell_type": "code",
   "execution_count": 30,
   "id": "executed-adoption",
   "metadata": {
    "execution": {
     "iopub.execute_input": "2022-03-16T12:14:24.367404Z",
     "iopub.status.busy": "2022-03-16T12:14:24.366814Z",
     "iopub.status.idle": "2022-03-16T12:14:24.369564Z",
     "shell.execute_reply": "2022-03-16T12:14:24.369069Z"
    },
    "papermill": {
     "duration": 0.041436,
     "end_time": "2022-03-16T12:14:24.369702",
     "exception": false,
     "start_time": "2022-03-16T12:14:24.328266",
     "status": "completed"
    },
    "tags": []
   },
   "outputs": [],
   "source": [
    "#hide\n",
    "# g = g[cols]"
   ]
  },
  {
   "cell_type": "code",
   "execution_count": 31,
   "id": "subject-dublin",
   "metadata": {
    "execution": {
     "iopub.execute_input": "2022-03-16T12:14:24.446506Z",
     "iopub.status.busy": "2022-03-16T12:14:24.445916Z",
     "iopub.status.idle": "2022-03-16T12:14:24.448676Z",
     "shell.execute_reply": "2022-03-16T12:14:24.447946Z"
    },
    "papermill": {
     "duration": 0.04449,
     "end_time": "2022-03-16T12:14:24.448795",
     "exception": false,
     "start_time": "2022-03-16T12:14:24.404305",
     "status": "completed"
    },
    "tags": []
   },
   "outputs": [],
   "source": [
    "#hide\n",
    "# g['continent'] = g['continent'].map(mapping['map.continent'])"
   ]
  },
  {
   "cell_type": "code",
   "execution_count": 32,
   "id": "freelance-scout",
   "metadata": {
    "execution": {
     "iopub.execute_input": "2022-03-16T12:14:24.524719Z",
     "iopub.status.busy": "2022-03-16T12:14:24.524123Z",
     "iopub.status.idle": "2022-03-16T12:14:24.526501Z",
     "shell.execute_reply": "2022-03-16T12:14:24.525997Z"
    },
    "papermill": {
     "duration": 0.04269,
     "end_time": "2022-03-16T12:14:24.526618",
     "exception": false,
     "start_time": "2022-03-16T12:14:24.483928",
     "status": "completed"
    },
    "tags": []
   },
   "outputs": [],
   "source": [
    "#hide\n",
    "# g.head()"
   ]
  },
  {
   "cell_type": "code",
   "execution_count": 33,
   "id": "limited-engine",
   "metadata": {
    "execution": {
     "iopub.execute_input": "2022-03-16T12:14:24.599825Z",
     "iopub.status.busy": "2022-03-16T12:14:24.599142Z",
     "iopub.status.idle": "2022-03-16T12:14:24.603775Z",
     "shell.execute_reply": "2022-03-16T12:14:24.604290Z"
    },
    "papermill": {
     "duration": 0.043019,
     "end_time": "2022-03-16T12:14:24.604436",
     "exception": false,
     "start_time": "2022-03-16T12:14:24.561417",
     "status": "completed"
    },
    "tags": []
   },
   "outputs": [],
   "source": [
    "# hide\n",
    "# g['date'] = g['date'].astype('datetime64[ns]')"
   ]
  },
  {
   "cell_type": "code",
   "execution_count": 34,
   "id": "sophisticated-supervisor",
   "metadata": {
    "execution": {
     "iopub.execute_input": "2022-03-16T12:14:24.678377Z",
     "iopub.status.busy": "2022-03-16T12:14:24.677789Z",
     "iopub.status.idle": "2022-03-16T12:14:24.679584Z",
     "shell.execute_reply": "2022-03-16T12:14:24.680188Z"
    },
    "papermill": {
     "duration": 0.039694,
     "end_time": "2022-03-16T12:14:24.680346",
     "exception": false,
     "start_time": "2022-03-16T12:14:24.640652",
     "status": "completed"
    },
    "tags": []
   },
   "outputs": [],
   "source": [
    "#hide\n",
    "# g['date'] = g.date.dt.dayofyear"
   ]
  },
  {
   "cell_type": "code",
   "execution_count": 35,
   "id": "inside-dubai",
   "metadata": {
    "execution": {
     "iopub.execute_input": "2022-03-16T12:14:24.757236Z",
     "iopub.status.busy": "2022-03-16T12:14:24.756548Z",
     "iopub.status.idle": "2022-03-16T12:14:24.759406Z",
     "shell.execute_reply": "2022-03-16T12:14:24.758666Z"
    },
    "papermill": {
     "duration": 0.043884,
     "end_time": "2022-03-16T12:14:24.759537",
     "exception": false,
     "start_time": "2022-03-16T12:14:24.715653",
     "status": "completed"
    },
    "tags": []
   },
   "outputs": [],
   "source": [
    "#hide\n",
    "# g = g.rename(columns= {'continent':'group','country':'name','cases':'value'})"
   ]
  },
  {
   "cell_type": "code",
   "execution_count": 36,
   "id": "fleet-motorcycle",
   "metadata": {
    "execution": {
     "iopub.execute_input": "2022-03-16T12:14:24.834717Z",
     "iopub.status.busy": "2022-03-16T12:14:24.834120Z",
     "iopub.status.idle": "2022-03-16T12:14:24.836144Z",
     "shell.execute_reply": "2022-03-16T12:14:24.836599Z"
    },
    "papermill": {
     "duration": 0.040179,
     "end_time": "2022-03-16T12:14:24.836730",
     "exception": false,
     "start_time": "2022-03-16T12:14:24.796551",
     "status": "completed"
    },
    "tags": []
   },
   "outputs": [],
   "source": [
    "#hide\n",
    "# cols = ['name','group','day','value']"
   ]
  },
  {
   "cell_type": "code",
   "execution_count": 37,
   "id": "continued-sleeping",
   "metadata": {
    "execution": {
     "iopub.execute_input": "2022-03-16T12:14:24.908800Z",
     "iopub.status.busy": "2022-03-16T12:14:24.908201Z",
     "iopub.status.idle": "2022-03-16T12:14:24.910246Z",
     "shell.execute_reply": "2022-03-16T12:14:24.910700Z"
    },
    "papermill": {
     "duration": 0.039331,
     "end_time": "2022-03-16T12:14:24.910825",
     "exception": false,
     "start_time": "2022-03-16T12:14:24.871494",
     "status": "completed"
    },
    "tags": []
   },
   "outputs": [],
   "source": [
    "#hide\n",
    "# g.rename(columns= {'date':'day'},inplace = True)"
   ]
  },
  {
   "cell_type": "code",
   "execution_count": 38,
   "id": "major-fight",
   "metadata": {
    "execution": {
     "iopub.execute_input": "2022-03-16T12:14:24.986564Z",
     "iopub.status.busy": "2022-03-16T12:14:24.985962Z",
     "iopub.status.idle": "2022-03-16T12:14:24.988368Z",
     "shell.execute_reply": "2022-03-16T12:14:24.987870Z"
    },
    "papermill": {
     "duration": 0.04216,
     "end_time": "2022-03-16T12:14:24.988482",
     "exception": false,
     "start_time": "2022-03-16T12:14:24.946322",
     "status": "completed"
    },
    "tags": []
   },
   "outputs": [],
   "source": [
    "#hide\n",
    "# g = g[cols]"
   ]
  },
  {
   "cell_type": "code",
   "execution_count": 39,
   "id": "structured-mobile",
   "metadata": {
    "execution": {
     "iopub.execute_input": "2022-03-16T12:14:25.067767Z",
     "iopub.status.busy": "2022-03-16T12:14:25.066941Z",
     "iopub.status.idle": "2022-03-16T12:14:25.071322Z",
     "shell.execute_reply": "2022-03-16T12:14:25.071835Z"
    },
    "papermill": {
     "duration": 0.04591,
     "end_time": "2022-03-16T12:14:25.071961",
     "exception": false,
     "start_time": "2022-03-16T12:14:25.026051",
     "status": "completed"
    },
    "tags": []
   },
   "outputs": [],
   "source": [
    "# #hide\n",
    "# g = g[g.group.notna()]"
   ]
  },
  {
   "cell_type": "code",
   "execution_count": 40,
   "id": "determined-closing",
   "metadata": {
    "execution": {
     "iopub.execute_input": "2022-03-16T12:14:25.150247Z",
     "iopub.status.busy": "2022-03-16T12:14:25.149653Z",
     "iopub.status.idle": "2022-03-16T12:14:25.152009Z",
     "shell.execute_reply": "2022-03-16T12:14:25.151521Z"
    },
    "papermill": {
     "duration": 0.04118,
     "end_time": "2022-03-16T12:14:25.152123",
     "exception": false,
     "start_time": "2022-03-16T12:14:25.110943",
     "status": "completed"
    },
    "tags": []
   },
   "outputs": [],
   "source": [
    "# #hide\n",
    "# colors = dict(zip(\n",
    "#     [\"Oceania\", \"Europe\", \"Asia\", \"South America\", \"Middle East\", \"North America\", \"Africa\"],\n",
    "#     [\"#adb0ff\", \"#ffb3ff\", \"#90d595\", \"#e48381\", \"#aafbff\", \"#f7bb5f\", \"#eafb50\"]\n",
    "# ))\n",
    "# group_lk = g.set_index('name')['group'].to_dict()"
   ]
  },
  {
   "cell_type": "code",
   "execution_count": null,
   "id": "gross-drinking",
   "metadata": {
    "papermill": {
     "duration": 0.03556,
     "end_time": "2022-03-16T12:14:25.222043",
     "exception": false,
     "start_time": "2022-03-16T12:14:25.186483",
     "status": "completed"
    },
    "tags": []
   },
   "outputs": [],
   "source": []
  },
  {
   "cell_type": "code",
   "execution_count": 41,
   "id": "subject-macintosh",
   "metadata": {
    "execution": {
     "iopub.execute_input": "2022-03-16T12:14:25.293824Z",
     "iopub.status.busy": "2022-03-16T12:14:25.293182Z",
     "iopub.status.idle": "2022-03-16T12:14:25.297114Z",
     "shell.execute_reply": "2022-03-16T12:14:25.296640Z"
    },
    "papermill": {
     "duration": 0.040875,
     "end_time": "2022-03-16T12:14:25.297233",
     "exception": false,
     "start_time": "2022-03-16T12:14:25.256358",
     "status": "completed"
    },
    "tags": []
   },
   "outputs": [],
   "source": [
    "# #hide\n",
    "# fig, ax = plt.subplots(figsize=(15, 8))\n",
    "\n",
    "# def draw_barchart(current_day):\n",
    "#     dff = g[g['day'].eq(current_day)].sort_values(by='value', ascending=True).tail(10)\n",
    "#     ax.clear()\n",
    "#     ax.barh(dff['name'], dff['value'], color=[colors[group_lk[x]] for x in dff['name']])\n",
    "#     dx = dff['value'].max() / 200\n",
    "    \n",
    "#     for i, (value, name) in enumerate(zip(dff['value'], dff['name'])):\n",
    "#         ax.text(value-dx, i,     name,           size=14, weight=600, ha='right', va='bottom')\n",
    "#         ax.text(value-dx, i-.25, group_lk[name], size=10, color='#444444', ha='right', va='baseline')\n",
    "#         ax.text(value+dx, i,     f'{value:,.0f}',  size=14, ha='left',  va='center')\n",
    "#     ax.text(1, 0.4, current_day, transform=ax.transAxes, color='#777777', size=46, ha='right', weight=800)\n",
    "#     ax.text(0, 1.06, 'Population (thousands)', transform=ax.transAxes, size=12, color='#777777')\n",
    "#     ax.xaxis.set_major_formatter(ticker.StrMethodFormatter('{x:,.0f}'))\n",
    "#     ax.xaxis.set_ticks_position('top')\n",
    "#     ax.tick_params(axis='x', colors='#777777', labelsize=12)\n",
    "#     ax.set_yticks([])\n",
    "#     ax.margins(0, 0.01)\n",
    "#     ax.grid(which='major', axis='x', linestyle='-')\n",
    "#     ax.set_axisbelow(True)\n",
    "    \n",
    "#     ax.text(0, 1.15, 'Coronavirus',\n",
    "#             transform=ax.transAxes, size=24, weight=600, ha='left', va='top')\n",
    "# #     ax.text(1, 0, 'by @pratapvardhan; credit @jburnmurdoch', transform=ax.transAxes, color='#777777', ha='right',\n",
    "# #             bbox=dict(facecolor='white', alpha=0.8, edgecolor='white'))\n",
    "#     plt.box(False)"
   ]
  },
  {
   "cell_type": "code",
   "execution_count": 42,
   "id": "sexual-wages",
   "metadata": {
    "execution": {
     "iopub.execute_input": "2022-03-16T12:14:25.377780Z",
     "iopub.status.busy": "2022-03-16T12:14:25.377003Z",
     "iopub.status.idle": "2022-03-16T12:14:25.380417Z",
     "shell.execute_reply": "2022-03-16T12:14:25.380895Z"
    },
    "papermill": {
     "duration": 0.045315,
     "end_time": "2022-03-16T12:14:25.381041",
     "exception": false,
     "start_time": "2022-03-16T12:14:25.335726",
     "status": "completed"
    },
    "tags": []
   },
   "outputs": [],
   "source": [
    "# #hide_input\n",
    "# fig, ax = plt.subplots(figsize=(15, 8))\n",
    "# animator = animation.FuncAnimation(fig, draw_barchart, frames=range(g.day.values.min(), g.day.values.max()))\n",
    "# HTML(animator.to_jshtml())\n",
    "# # or use animator.to_html5_video() or animator.save() "
   ]
  },
  {
   "cell_type": "code",
   "execution_count": null,
   "id": "australian-container",
   "metadata": {
    "papermill": {
     "duration": 0.038135,
     "end_time": "2022-03-16T12:14:25.457048",
     "exception": false,
     "start_time": "2022-03-16T12:14:25.418913",
     "status": "completed"
    },
    "tags": []
   },
   "outputs": [],
   "source": []
  },
  {
   "cell_type": "code",
   "execution_count": null,
   "id": "mediterranean-pontiac",
   "metadata": {
    "papermill": {
     "duration": 0.038947,
     "end_time": "2022-03-16T12:14:25.531472",
     "exception": false,
     "start_time": "2022-03-16T12:14:25.492525",
     "status": "completed"
    },
    "tags": []
   },
   "outputs": [],
   "source": []
  },
  {
   "cell_type": "code",
   "execution_count": null,
   "id": "aging-legislature",
   "metadata": {
    "papermill": {
     "duration": 0.034266,
     "end_time": "2022-03-16T12:14:25.604826",
     "exception": false,
     "start_time": "2022-03-16T12:14:25.570560",
     "status": "completed"
    },
    "tags": []
   },
   "outputs": [],
   "source": []
  }
 ],
 "metadata": {
  "kernelspec": {
   "display_name": "Python 3",
   "language": "python",
   "name": "python3"
  },
  "language_info": {
   "codemirror_mode": {
    "name": "ipython",
    "version": 3
   },
   "file_extension": ".py",
   "mimetype": "text/x-python",
   "name": "python",
   "nbconvert_exporter": "python",
   "pygments_lexer": "ipython3",
   "version": "3.6.15"
  },
  "papermill": {
   "duration": 6.819991,
   "end_time": "2022-03-16T12:14:25.958595",
   "environment_variables": {},
   "exception": null,
   "input_path": "2020-03-21-covid19exp.ipynb",
   "output_path": "2020-03-21-covid19exp.ipynb",
   "parameters": {},
   "start_time": "2022-03-16T12:14:19.138604",
   "version": "2.0.0"
  }
 },
 "nbformat": 4,
 "nbformat_minor": 5
}