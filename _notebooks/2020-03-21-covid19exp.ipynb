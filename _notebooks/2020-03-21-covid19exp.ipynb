{
 "cells": [
  {
   "cell_type": "markdown",
   "id": "muslim-click",
   "metadata": {
    "papermill": {
     "duration": 0.034682,
     "end_time": "2022-11-28T12:16:59.839273",
     "exception": false,
     "start_time": "2022-11-28T12:16:59.804591",
     "status": "completed"
    },
    "tags": []
   },
   "source": [
    "# COVID-19 Case Race\n",
    "> A race chart to see rising cases around the world\n",
    "\n",
    "- author: Hargun Oberoi\n",
    "- image: images/covid-overview.png\n",
    "- hide: false\n",
    "- badges: false"
   ]
  },
  {
   "cell_type": "code",
   "execution_count": 1,
   "id": "proof-material",
   "metadata": {
    "execution": {
     "iopub.execute_input": "2022-11-28T12:16:59.908399Z",
     "iopub.status.busy": "2022-11-28T12:16:59.907844Z",
     "iopub.status.idle": "2022-11-28T12:17:00.217248Z",
     "shell.execute_reply": "2022-11-28T12:17:00.216757Z"
    },
    "papermill": {
     "duration": 0.347897,
     "end_time": "2022-11-28T12:17:00.217377",
     "exception": false,
     "start_time": "2022-11-28T12:16:59.869480",
     "status": "completed"
    },
    "tags": []
   },
   "outputs": [],
   "source": [
    "#hide\n",
    "import numpy as np\n",
    "import pandas as pd\n",
    "from jinja2 import Template\n",
    "from IPython.display import HTML"
   ]
  },
  {
   "cell_type": "code",
   "execution_count": 2,
   "id": "developed-terminology",
   "metadata": {
    "execution": {
     "iopub.execute_input": "2022-11-28T12:17:00.281426Z",
     "iopub.status.busy": "2022-11-28T12:17:00.280870Z",
     "iopub.status.idle": "2022-11-28T12:17:00.285280Z",
     "shell.execute_reply": "2022-11-28T12:17:00.284796Z"
    },
    "papermill": {
     "duration": 0.03796,
     "end_time": "2022-11-28T12:17:00.285381",
     "exception": false,
     "start_time": "2022-11-28T12:17:00.247421",
     "status": "completed"
    },
    "tags": []
   },
   "outputs": [],
   "source": [
    "#hide\n",
    "\n",
    "# FETCH\n",
    "base_url = 'https://raw.githubusercontent.com/pratapvardhan/notebooks/master/covid19/'\n",
    "paths = {\n",
    "    'mapping': base_url + 'mapping_countries.csv',\n",
    "    'overview': base_url + 'overview.tpl'\n",
    "}"
   ]
  },
  {
   "cell_type": "code",
   "execution_count": 3,
   "id": "dynamic-saver",
   "metadata": {
    "execution": {
     "iopub.execute_input": "2022-11-28T12:17:00.352969Z",
     "iopub.status.busy": "2022-11-28T12:17:00.352412Z",
     "iopub.status.idle": "2022-11-28T12:17:00.354680Z",
     "shell.execute_reply": "2022-11-28T12:17:00.355195Z"
    },
    "papermill": {
     "duration": 0.040504,
     "end_time": "2022-11-28T12:17:00.355306",
     "exception": false,
     "start_time": "2022-11-28T12:17:00.314802",
     "status": "completed"
    },
    "tags": []
   },
   "outputs": [
    {
     "data": {
      "text/plain": [
       "'https://raw.githubusercontent.com/pratapvardhan/notebooks/master/covid19/mapping_countries.csv'"
      ]
     },
     "execution_count": 3,
     "metadata": {},
     "output_type": "execute_result"
    }
   ],
   "source": [
    "#hide\n",
    "paths['mapping']"
   ]
  },
  {
   "cell_type": "code",
   "execution_count": 4,
   "id": "urban-software",
   "metadata": {
    "execution": {
     "iopub.execute_input": "2022-11-28T12:17:00.420439Z",
     "iopub.status.busy": "2022-11-28T12:17:00.419873Z",
     "iopub.status.idle": "2022-11-28T12:17:00.421549Z",
     "shell.execute_reply": "2022-11-28T12:17:00.422082Z"
    },
    "papermill": {
     "duration": 0.036738,
     "end_time": "2022-11-28T12:17:00.422198",
     "exception": false,
     "start_time": "2022-11-28T12:17:00.385460",
     "status": "completed"
    },
    "tags": []
   },
   "outputs": [],
   "source": [
    "#hide\n",
    "def get_mappings(url):\n",
    "    df = pd.read_csv(url)\n",
    "    return {\n",
    "        'df': df,\n",
    "        'replace.country': dict(df.dropna(subset=['Name']).set_index('Country')['Name']),\n",
    "        'map.continent': dict(df.set_index('Name')['Continent'])\n",
    "    }"
   ]
  },
  {
   "cell_type": "code",
   "execution_count": 5,
   "id": "intimate-machinery",
   "metadata": {
    "execution": {
     "iopub.execute_input": "2022-11-28T12:17:00.486851Z",
     "iopub.status.busy": "2022-11-28T12:17:00.486303Z",
     "iopub.status.idle": "2022-11-28T12:17:00.531606Z",
     "shell.execute_reply": "2022-11-28T12:17:00.531141Z"
    },
    "papermill": {
     "duration": 0.079712,
     "end_time": "2022-11-28T12:17:00.531710",
     "exception": false,
     "start_time": "2022-11-28T12:17:00.451998",
     "status": "completed"
    },
    "tags": []
   },
   "outputs": [],
   "source": [
    "#hide\n",
    "mapping = get_mappings(paths['mapping'])"
   ]
  },
  {
   "cell_type": "code",
   "execution_count": 6,
   "id": "certified-tactics",
   "metadata": {
    "execution": {
     "iopub.execute_input": "2022-11-28T12:17:00.596528Z",
     "iopub.status.busy": "2022-11-28T12:17:00.595950Z",
     "iopub.status.idle": "2022-11-28T12:17:00.598443Z",
     "shell.execute_reply": "2022-11-28T12:17:00.598008Z"
    },
    "papermill": {
     "duration": 0.036837,
     "end_time": "2022-11-28T12:17:00.598549",
     "exception": false,
     "start_time": "2022-11-28T12:17:00.561712",
     "status": "completed"
    },
    "tags": []
   },
   "outputs": [],
   "source": [
    "#hide\n",
    "def get_template(path):\n",
    "    from urllib.parse import urlparse\n",
    "    if bool(urlparse(path).netloc):\n",
    "        from urllib.request import urlopen\n",
    "        return urlopen(path).read().decode('utf8')\n",
    "    return open(path).read()"
   ]
  },
  {
   "cell_type": "code",
   "execution_count": 7,
   "id": "realistic-blast",
   "metadata": {
    "execution": {
     "iopub.execute_input": "2022-11-28T12:17:00.663576Z",
     "iopub.status.busy": "2022-11-28T12:17:00.663007Z",
     "iopub.status.idle": "2022-11-28T12:17:00.665441Z",
     "shell.execute_reply": "2022-11-28T12:17:00.664985Z"
    },
    "papermill": {
     "duration": 0.036894,
     "end_time": "2022-11-28T12:17:00.665542",
     "exception": false,
     "start_time": "2022-11-28T12:17:00.628648",
     "status": "completed"
    },
    "tags": []
   },
   "outputs": [],
   "source": [
    "#hide\n",
    "def get_frame(name):\n",
    "    url = (\n",
    "        'https://raw.githubusercontent.com/CSSEGISandData/COVID-19/master/csse_covid_19_data/'\n",
    "        f'csse_covid_19_time_series/time_series_covid19_{name}_global.csv')\n",
    "    df = pd.read_csv(url)\n",
    "    # rename countries\n",
    "    df['Country/Region'] = df['Country/Region'].replace(mapping['replace.country'])\n",
    "    return df"
   ]
  },
  {
   "cell_type": "code",
   "execution_count": 8,
   "id": "affiliated-characterization",
   "metadata": {
    "execution": {
     "iopub.execute_input": "2022-11-28T12:17:00.730695Z",
     "iopub.status.busy": "2022-11-28T12:17:00.730119Z",
     "iopub.status.idle": "2022-11-28T12:17:00.732539Z",
     "shell.execute_reply": "2022-11-28T12:17:00.732092Z"
    },
    "papermill": {
     "duration": 0.03707,
     "end_time": "2022-11-28T12:17:00.732636",
     "exception": false,
     "start_time": "2022-11-28T12:17:00.695566",
     "status": "completed"
    },
    "tags": []
   },
   "outputs": [],
   "source": [
    "#hide\n",
    "def get_dates(df):\n",
    "    dt_cols = df.columns[~df.columns.isin(['Province/State', 'Country/Region', 'Lat', 'Long'])]\n",
    "    LAST_DATE_I = -1\n",
    "    # sometimes last column may be empty, then go backwards\n",
    "    for i in range(-1, -len(dt_cols), -1):\n",
    "        if not df[dt_cols[i]].fillna(0).eq(0).all():\n",
    "            LAST_DATE_I = i\n",
    "            break\n",
    "    return LAST_DATE_I, dt_cols"
   ]
  },
  {
   "cell_type": "code",
   "execution_count": 9,
   "id": "recent-optimization",
   "metadata": {
    "execution": {
     "iopub.execute_input": "2022-11-28T12:17:00.796125Z",
     "iopub.status.busy": "2022-11-28T12:17:00.795575Z",
     "iopub.status.idle": "2022-11-28T12:17:01.375535Z",
     "shell.execute_reply": "2022-11-28T12:17:01.375058Z"
    },
    "papermill": {
     "duration": 0.613211,
     "end_time": "2022-11-28T12:17:01.375652",
     "exception": false,
     "start_time": "2022-11-28T12:17:00.762441",
     "status": "completed"
    },
    "tags": []
   },
   "outputs": [],
   "source": [
    "#hide\n",
    "COL_REGION = 'Country/Region'\n",
    "# Confirmed, Recovered, Deaths\n",
    "df = get_frame('confirmed')\n",
    "# dft_: timeseries, dfc_: today country agg\n",
    "dft_cases = df\n",
    "dft_deaths = get_frame('deaths')\n",
    "dft_recovered = get_frame('recovered')\n",
    "LAST_DATE_I, dt_cols = get_dates(df)"
   ]
  },
  {
   "cell_type": "code",
   "execution_count": 10,
   "id": "absolute-copper",
   "metadata": {
    "execution": {
     "iopub.execute_input": "2022-11-28T12:17:01.440693Z",
     "iopub.status.busy": "2022-11-28T12:17:01.440140Z",
     "iopub.status.idle": "2022-11-28T12:17:01.442000Z",
     "shell.execute_reply": "2022-11-28T12:17:01.442500Z"
    },
    "papermill": {
     "duration": 0.036738,
     "end_time": "2022-11-28T12:17:01.442612",
     "exception": false,
     "start_time": "2022-11-28T12:17:01.405874",
     "status": "completed"
    },
    "tags": []
   },
   "outputs": [],
   "source": [
    "#hide\n",
    "LAST_DATE_I, dt_cols = get_dates(df)\n",
    "dt_today =dt_cols[LAST_DATE_I]\n",
    "# dt_5day = dt_cols[LAST_DATE_I - 5]\n",
    "dt_yday = dt_cols[LAST_DATE_I - 1]"
   ]
  },
  {
   "cell_type": "code",
   "execution_count": 11,
   "id": "restricted-sheriff",
   "metadata": {
    "execution": {
     "iopub.execute_input": "2022-11-28T12:17:01.507727Z",
     "iopub.status.busy": "2022-11-28T12:17:01.507152Z",
     "iopub.status.idle": "2022-11-28T12:17:01.513830Z",
     "shell.execute_reply": "2022-11-28T12:17:01.514340Z"
    },
    "papermill": {
     "duration": 0.041953,
     "end_time": "2022-11-28T12:17:01.514459",
     "exception": false,
     "start_time": "2022-11-28T12:17:01.472506",
     "status": "completed"
    },
    "tags": []
   },
   "outputs": [],
   "source": [
    "#hide\n",
    "dfc_cases = dft_cases.groupby(COL_REGION)[dt_today].sum()\n",
    "dfc_deaths = dft_deaths.groupby(COL_REGION)[dt_today].sum()\n",
    "# dfp_cases = dft_cases.groupby(COL_REGION)[dt_5day].sum()\n",
    "# dfp_deaths = dft_deaths.groupby(COL_REGION)[dt_5day].sum()\n",
    "dfp_cases = dft_cases.groupby(COL_REGION)[dt_yday].sum()\n",
    "dfp_deaths = dft_deaths.groupby(COL_REGION)[dt_yday].sum()"
   ]
  },
  {
   "cell_type": "code",
   "execution_count": 12,
   "id": "deluxe-hepatitis",
   "metadata": {
    "execution": {
     "iopub.execute_input": "2022-11-28T12:17:01.580001Z",
     "iopub.status.busy": "2022-11-28T12:17:01.579458Z",
     "iopub.status.idle": "2022-11-28T12:17:01.583589Z",
     "shell.execute_reply": "2022-11-28T12:17:01.584031Z"
    },
    "papermill": {
     "duration": 0.039619,
     "end_time": "2022-11-28T12:17:01.584145",
     "exception": false,
     "start_time": "2022-11-28T12:17:01.544526",
     "status": "completed"
    },
    "tags": []
   },
   "outputs": [],
   "source": [
    "#hide\n",
    "df_table = (pd.DataFrame(dict(Cases = dfc_cases, Deaths = dfc_deaths, PCases = dfp_cases, PDeaths = dfp_deaths))\n",
    "            .sort_values(by = ['Cases','Deaths'], ascending = [False, False])\n",
    "            .reset_index())"
   ]
  },
  {
   "cell_type": "code",
   "execution_count": 13,
   "id": "educational-chancellor",
   "metadata": {
    "execution": {
     "iopub.execute_input": "2022-11-28T12:17:01.655923Z",
     "iopub.status.busy": "2022-11-28T12:17:01.655365Z",
     "iopub.status.idle": "2022-11-28T12:17:01.667097Z",
     "shell.execute_reply": "2022-11-28T12:17:01.666651Z"
    },
    "papermill": {
     "duration": 0.053268,
     "end_time": "2022-11-28T12:17:01.667198",
     "exception": false,
     "start_time": "2022-11-28T12:17:01.613930",
     "status": "completed"
    },
    "tags": []
   },
   "outputs": [
    {
     "data": {
      "text/html": [
       "<div>\n",
       "<style scoped>\n",
       "    .dataframe tbody tr th:only-of-type {\n",
       "        vertical-align: middle;\n",
       "    }\n",
       "\n",
       "    .dataframe tbody tr th {\n",
       "        vertical-align: top;\n",
       "    }\n",
       "\n",
       "    .dataframe thead th {\n",
       "        text-align: right;\n",
       "    }\n",
       "</style>\n",
       "<table border=\"1\" class=\"dataframe\">\n",
       "  <thead>\n",
       "    <tr style=\"text-align: right;\">\n",
       "      <th></th>\n",
       "      <th>Country/Region</th>\n",
       "      <th>Cases</th>\n",
       "      <th>Deaths</th>\n",
       "      <th>PCases</th>\n",
       "      <th>PDeaths</th>\n",
       "      <th>Cases (+)</th>\n",
       "      <th>Deaths (+)</th>\n",
       "      <th>Fatality Rate</th>\n",
       "      <th>Continent</th>\n",
       "    </tr>\n",
       "  </thead>\n",
       "  <tbody>\n",
       "    <tr>\n",
       "      <th>0</th>\n",
       "      <td>US</td>\n",
       "      <td>98568849</td>\n",
       "      <td>1079197</td>\n",
       "      <td>98564494</td>\n",
       "      <td>1079197</td>\n",
       "      <td>4355</td>\n",
       "      <td>0</td>\n",
       "      <td>1.09</td>\n",
       "      <td>North America</td>\n",
       "    </tr>\n",
       "    <tr>\n",
       "      <th>1</th>\n",
       "      <td>India</td>\n",
       "      <td>44673078</td>\n",
       "      <td>530614</td>\n",
       "      <td>44672787</td>\n",
       "      <td>530612</td>\n",
       "      <td>291</td>\n",
       "      <td>2</td>\n",
       "      <td>1.19</td>\n",
       "      <td>Asia</td>\n",
       "    </tr>\n",
       "    <tr>\n",
       "      <th>2</th>\n",
       "      <td>France</td>\n",
       "      <td>37789817</td>\n",
       "      <td>159679</td>\n",
       "      <td>37789817</td>\n",
       "      <td>159679</td>\n",
       "      <td>0</td>\n",
       "      <td>0</td>\n",
       "      <td>0.42</td>\n",
       "      <td>Europe</td>\n",
       "    </tr>\n",
       "    <tr>\n",
       "      <th>3</th>\n",
       "      <td>Germany</td>\n",
       "      <td>36373165</td>\n",
       "      <td>157495</td>\n",
       "      <td>36373164</td>\n",
       "      <td>157495</td>\n",
       "      <td>1</td>\n",
       "      <td>0</td>\n",
       "      <td>0.43</td>\n",
       "      <td>Europe</td>\n",
       "    </tr>\n",
       "    <tr>\n",
       "      <th>4</th>\n",
       "      <td>Brazil</td>\n",
       "      <td>35149503</td>\n",
       "      <td>689442</td>\n",
       "      <td>35149503</td>\n",
       "      <td>689442</td>\n",
       "      <td>0</td>\n",
       "      <td>0</td>\n",
       "      <td>1.96</td>\n",
       "      <td>South America</td>\n",
       "    </tr>\n",
       "  </tbody>\n",
       "</table>\n",
       "</div>"
      ],
      "text/plain": [
       "  Country/Region     Cases   Deaths    PCases  PDeaths  Cases (+)  Deaths (+)  \\\n",
       "0             US  98568849  1079197  98564494  1079197       4355           0   \n",
       "1          India  44673078   530614  44672787   530612        291           2   \n",
       "2         France  37789817   159679  37789817   159679          0           0   \n",
       "3        Germany  36373165   157495  36373164   157495          1           0   \n",
       "4         Brazil  35149503   689442  35149503   689442          0           0   \n",
       "\n",
       "   Fatality Rate      Continent  \n",
       "0           1.09  North America  \n",
       "1           1.19           Asia  \n",
       "2           0.42         Europe  \n",
       "3           0.43         Europe  \n",
       "4           1.96  South America  "
      ]
     },
     "execution_count": 13,
     "metadata": {},
     "output_type": "execute_result"
    }
   ],
   "source": [
    "#hide\n",
    "for c in 'Cases, Deaths'.split(', '):\n",
    "    df_table[f'{c} (+)'] = (df_table[c] - df_table[f'P{c}']).clip(0)\n",
    "    #Clip ça veut dire, les chiffres negatif sont interdit\n",
    "df_table['Fatality Rate'] = (100* df_table['Deaths']/ df_table['Cases']).round(2)\n",
    "df_table['Continent'] = df_table['Country/Region'].map(mapping['map.continent'])\n",
    "df_table.head(5)"
   ]
  },
  {
   "cell_type": "code",
   "execution_count": 14,
   "id": "aboriginal-bulgaria",
   "metadata": {
    "execution": {
     "iopub.execute_input": "2022-11-28T12:17:01.733961Z",
     "iopub.status.busy": "2022-11-28T12:17:01.733391Z",
     "iopub.status.idle": "2022-11-28T12:17:01.734947Z",
     "shell.execute_reply": "2022-11-28T12:17:01.735458Z"
    },
    "papermill": {
     "duration": 0.037733,
     "end_time": "2022-11-28T12:17:01.735574",
     "exception": false,
     "start_time": "2022-11-28T12:17:01.697841",
     "status": "completed"
    },
    "tags": []
   },
   "outputs": [],
   "source": [
    "#hide\n",
    "#delete problematic countries from table\n",
    "df_table = df_table[~df_table['Country/Region'].isin(['Cape Verde', 'Cruise Ship', 'Kosovo'])]"
   ]
  },
  {
   "cell_type": "code",
   "execution_count": 15,
   "id": "fantastic-effect",
   "metadata": {
    "execution": {
     "iopub.execute_input": "2022-11-28T12:17:01.804797Z",
     "iopub.status.busy": "2022-11-28T12:17:01.804245Z",
     "iopub.status.idle": "2022-11-28T12:17:01.821259Z",
     "shell.execute_reply": "2022-11-28T12:17:01.820810Z"
    },
    "papermill": {
     "duration": 0.054331,
     "end_time": "2022-11-28T12:17:01.821358",
     "exception": false,
     "start_time": "2022-11-28T12:17:01.767027",
     "status": "completed"
    },
    "tags": []
   },
   "outputs": [
    {
     "data": {
      "text/html": [
       "<div>\n",
       "<style scoped>\n",
       "    .dataframe tbody tr th:only-of-type {\n",
       "        vertical-align: middle;\n",
       "    }\n",
       "\n",
       "    .dataframe tbody tr th {\n",
       "        vertical-align: top;\n",
       "    }\n",
       "\n",
       "    .dataframe thead th {\n",
       "        text-align: right;\n",
       "    }\n",
       "</style>\n",
       "<table border=\"1\" class=\"dataframe\">\n",
       "  <thead>\n",
       "    <tr style=\"text-align: right;\">\n",
       "      <th></th>\n",
       "      <th>Country/Region</th>\n",
       "      <th>Cases</th>\n",
       "      <th>Deaths</th>\n",
       "      <th>PCases</th>\n",
       "      <th>PDeaths</th>\n",
       "      <th>Cases (+)</th>\n",
       "      <th>Deaths (+)</th>\n",
       "      <th>Fatality Rate</th>\n",
       "      <th>Continent</th>\n",
       "    </tr>\n",
       "  </thead>\n",
       "  <tbody>\n",
       "    <tr>\n",
       "      <th>0</th>\n",
       "      <td>US</td>\n",
       "      <td>98568849</td>\n",
       "      <td>1079197</td>\n",
       "      <td>98564494</td>\n",
       "      <td>1079197</td>\n",
       "      <td>4355</td>\n",
       "      <td>0</td>\n",
       "      <td>1.1</td>\n",
       "      <td>North America</td>\n",
       "    </tr>\n",
       "    <tr>\n",
       "      <th>1</th>\n",
       "      <td>India</td>\n",
       "      <td>44673078</td>\n",
       "      <td>530614</td>\n",
       "      <td>44672787</td>\n",
       "      <td>530612</td>\n",
       "      <td>291</td>\n",
       "      <td>2</td>\n",
       "      <td>1.2</td>\n",
       "      <td>Asia</td>\n",
       "    </tr>\n",
       "    <tr>\n",
       "      <th>2</th>\n",
       "      <td>France</td>\n",
       "      <td>37789817</td>\n",
       "      <td>159679</td>\n",
       "      <td>37789817</td>\n",
       "      <td>159679</td>\n",
       "      <td>0</td>\n",
       "      <td>0</td>\n",
       "      <td>0.4</td>\n",
       "      <td>Europe</td>\n",
       "    </tr>\n",
       "    <tr>\n",
       "      <th>3</th>\n",
       "      <td>Germany</td>\n",
       "      <td>36373165</td>\n",
       "      <td>157495</td>\n",
       "      <td>36373164</td>\n",
       "      <td>157495</td>\n",
       "      <td>1</td>\n",
       "      <td>0</td>\n",
       "      <td>0.4</td>\n",
       "      <td>Europe</td>\n",
       "    </tr>\n",
       "    <tr>\n",
       "      <th>4</th>\n",
       "      <td>Brazil</td>\n",
       "      <td>35149503</td>\n",
       "      <td>689442</td>\n",
       "      <td>35149503</td>\n",
       "      <td>689442</td>\n",
       "      <td>0</td>\n",
       "      <td>0</td>\n",
       "      <td>2.0</td>\n",
       "      <td>South America</td>\n",
       "    </tr>\n",
       "  </tbody>\n",
       "</table>\n",
       "</div>"
      ],
      "text/plain": [
       "  Country/Region     Cases   Deaths    PCases  PDeaths  Cases (+)  Deaths (+)  \\\n",
       "0             US  98568849  1079197  98564494  1079197       4355           0   \n",
       "1          India  44673078   530614  44672787   530612        291           2   \n",
       "2         France  37789817   159679  37789817   159679          0           0   \n",
       "3        Germany  36373165   157495  36373164   157495          1           0   \n",
       "4         Brazil  35149503   689442  35149503   689442          0           0   \n",
       "\n",
       "   Fatality Rate      Continent  \n",
       "0            1.1  North America  \n",
       "1            1.2           Asia  \n",
       "2            0.4         Europe  \n",
       "3            0.4         Europe  \n",
       "4            2.0  South America  "
      ]
     },
     "execution_count": 15,
     "metadata": {},
     "output_type": "execute_result"
    }
   ],
   "source": [
    "#hide\n",
    "df_table = (pd.DataFrame(dict(Cases=dfc_cases, Deaths=dfc_deaths, PCases=dfp_cases, PDeaths=dfp_deaths))\n",
    "             .sort_values(by=['Cases', 'Deaths'], ascending=[False, False])\n",
    "             .reset_index())\n",
    "df_table.rename(columns={'index': 'Country/Region'}, inplace=True)\n",
    "for c in 'Cases, Deaths'.split(', '):\n",
    "    df_table[f'{c} (+)'] = (df_table[c] - df_table[f'P{c}']).clip(0)  # DATA BUG\n",
    "df_table['Fatality Rate'] = (100 * df_table['Deaths'] / df_table['Cases']).round(1)\n",
    "df_table['Continent'] = df_table['Country/Region'].map(mapping['map.continent'])\n",
    "df_table.head(5)"
   ]
  },
  {
   "cell_type": "code",
   "execution_count": 16,
   "id": "fewer-occasion",
   "metadata": {
    "execution": {
     "iopub.execute_input": "2022-11-28T12:17:01.887894Z",
     "iopub.status.busy": "2022-11-28T12:17:01.887350Z",
     "iopub.status.idle": "2022-11-28T12:17:01.889550Z",
     "shell.execute_reply": "2022-11-28T12:17:01.890025Z"
    },
    "papermill": {
     "duration": 0.037827,
     "end_time": "2022-11-28T12:17:01.890139",
     "exception": false,
     "start_time": "2022-11-28T12:17:01.852312",
     "status": "completed"
    },
    "tags": []
   },
   "outputs": [],
   "source": [
    "#hide\n",
    "#delete problematic countries from table\n",
    "df_table = df_table[~df_table['Country/Region'].isin(['Cape Verde', 'Cruise Ship', 'Kosovo'])]"
   ]
  },
  {
   "cell_type": "code",
   "execution_count": 17,
   "id": "related-center",
   "metadata": {
    "execution": {
     "iopub.execute_input": "2022-11-28T12:17:01.968970Z",
     "iopub.status.busy": "2022-11-28T12:17:01.968392Z",
     "iopub.status.idle": "2022-11-28T12:17:01.970741Z",
     "shell.execute_reply": "2022-11-28T12:17:01.970302Z"
    },
    "papermill": {
     "duration": 0.04999,
     "end_time": "2022-11-28T12:17:01.970843",
     "exception": false,
     "start_time": "2022-11-28T12:17:01.920853",
     "status": "completed"
    },
    "tags": []
   },
   "outputs": [],
   "source": [
    "#hide\n",
    "metrics = [df_table.columns[index] for index in [1,2,5,6]]\n",
    "# s_china = df_table[df_table['Country/Region'].eq('China')][metrics].sum().add_prefix('China ')\n",
    "s_us = df_table[df_table['Country/Region'].eq('US')][metrics].sum().add_prefix('US ')\n",
    "s_eu = df_table[df_table['Continent'].eq('Europe')][metrics].sum().add_prefix('EU ')\n",
    "s_ind = df_table[df_table['Country/Region'].eq('India')][metrics].sum().add_prefix('India ')\n",
    "summary = {'updated': pd.to_datetime(dt_today), 'since': pd.to_datetime(dt_yday)}\n",
    "summary = {'updated': pd.to_datetime(dt_today), 'since': pd.to_datetime(dt_yday)}\n",
    "summary = {**summary, **df_table[metrics].sum(), **s_ind, **s_us, **s_eu}"
   ]
  },
  {
   "cell_type": "code",
   "execution_count": 18,
   "id": "engaging-syndrome",
   "metadata": {
    "execution": {
     "iopub.execute_input": "2022-11-28T12:17:02.035418Z",
     "iopub.status.busy": "2022-11-28T12:17:02.034853Z",
     "iopub.status.idle": "2022-11-28T12:17:02.055672Z",
     "shell.execute_reply": "2022-11-28T12:17:02.055223Z"
    },
    "papermill": {
     "duration": 0.053837,
     "end_time": "2022-11-28T12:17:02.055772",
     "exception": false,
     "start_time": "2022-11-28T12:17:02.001935",
     "status": "completed"
    },
    "tags": []
   },
   "outputs": [],
   "source": [
    "#hide\n",
    "dft_ct_new_cases = dft_cases.groupby(COL_REGION)[dt_cols].sum().diff(axis=1).fillna(0).astype(int)"
   ]
  },
  {
   "cell_type": "code",
   "execution_count": 19,
   "id": "neutral-assignment",
   "metadata": {
    "execution": {
     "iopub.execute_input": "2022-11-28T12:17:02.123040Z",
     "iopub.status.busy": "2022-11-28T12:17:02.122492Z",
     "iopub.status.idle": "2022-11-28T12:17:02.124683Z",
     "shell.execute_reply": "2022-11-28T12:17:02.125095Z"
    },
    "papermill": {
     "duration": 0.038698,
     "end_time": "2022-11-28T12:17:02.125210",
     "exception": false,
     "start_time": "2022-11-28T12:17:02.086512",
     "status": "completed"
    },
    "tags": []
   },
   "outputs": [],
   "source": [
    "#hide\n",
    "everydaycases = dft_ct_new_cases.cumsum(axis=1)"
   ]
  },
  {
   "cell_type": "code",
   "execution_count": 20,
   "id": "parliamentary-calgary",
   "metadata": {
    "execution": {
     "iopub.execute_input": "2022-11-28T12:17:02.191593Z",
     "iopub.status.busy": "2022-11-28T12:17:02.191032Z",
     "iopub.status.idle": "2022-11-28T12:17:02.772485Z",
     "shell.execute_reply": "2022-11-28T12:17:02.771999Z"
    },
    "papermill": {
     "duration": 0.616131,
     "end_time": "2022-11-28T12:17:02.772602",
     "exception": false,
     "start_time": "2022-11-28T12:17:02.156471",
     "status": "completed"
    },
    "tags": []
   },
   "outputs": [],
   "source": [
    "#hide\n",
    "import pandas as pd\n",
    "import matplotlib.pyplot as plt\n",
    "import matplotlib.ticker as ticker\n",
    "import matplotlib.animation as animation\n",
    "from IPython.display import HTML"
   ]
  },
  {
   "cell_type": "code",
   "execution_count": 21,
   "id": "lasting-extraction",
   "metadata": {
    "execution": {
     "iopub.execute_input": "2022-11-28T12:17:02.841108Z",
     "iopub.status.busy": "2022-11-28T12:17:02.840556Z",
     "iopub.status.idle": "2022-11-28T12:17:02.847448Z",
     "shell.execute_reply": "2022-11-28T12:17:02.847872Z"
    },
    "papermill": {
     "duration": 0.044272,
     "end_time": "2022-11-28T12:17:02.847993",
     "exception": false,
     "start_time": "2022-11-28T12:17:02.803721",
     "status": "completed"
    },
    "tags": []
   },
   "outputs": [],
   "source": [
    "#hide\n",
    "t = everydaycases.stack()"
   ]
  },
  {
   "cell_type": "code",
   "execution_count": 22,
   "id": "premier-sleeve",
   "metadata": {
    "execution": {
     "iopub.execute_input": "2022-11-28T12:17:02.914321Z",
     "iopub.status.busy": "2022-11-28T12:17:02.913734Z",
     "iopub.status.idle": "2022-11-28T12:17:02.925768Z",
     "shell.execute_reply": "2022-11-28T12:17:02.925325Z"
    },
    "papermill": {
     "duration": 0.046444,
     "end_time": "2022-11-28T12:17:02.925886",
     "exception": false,
     "start_time": "2022-11-28T12:17:02.879442",
     "status": "completed"
    },
    "tags": []
   },
   "outputs": [],
   "source": [
    "#hide\n",
    "g = t.reset_index(['Country/Region'])"
   ]
  },
  {
   "cell_type": "code",
   "execution_count": 23,
   "id": "distributed-pittsburgh",
   "metadata": {
    "execution": {
     "iopub.execute_input": "2022-11-28T12:17:02.990824Z",
     "iopub.status.busy": "2022-11-28T12:17:02.990272Z",
     "iopub.status.idle": "2022-11-28T12:17:02.992703Z",
     "shell.execute_reply": "2022-11-28T12:17:02.992189Z"
    },
    "papermill": {
     "duration": 0.036195,
     "end_time": "2022-11-28T12:17:02.992800",
     "exception": false,
     "start_time": "2022-11-28T12:17:02.956605",
     "status": "completed"
    },
    "tags": []
   },
   "outputs": [],
   "source": [
    "#hide\n",
    "g.index.name = 'date'"
   ]
  },
  {
   "cell_type": "code",
   "execution_count": 24,
   "id": "naked-donor",
   "metadata": {
    "execution": {
     "iopub.execute_input": "2022-11-28T12:17:03.058370Z",
     "iopub.status.busy": "2022-11-28T12:17:03.057768Z",
     "iopub.status.idle": "2022-11-28T12:17:03.060201Z",
     "shell.execute_reply": "2022-11-28T12:17:03.059679Z"
    },
    "papermill": {
     "duration": 0.036461,
     "end_time": "2022-11-28T12:17:03.060303",
     "exception": false,
     "start_time": "2022-11-28T12:17:03.023842",
     "status": "completed"
    },
    "tags": []
   },
   "outputs": [],
   "source": [
    "# #hide\n",
    "# g = g.reset_index(['date'])"
   ]
  },
  {
   "cell_type": "code",
   "execution_count": 25,
   "id": "incomplete-mustang",
   "metadata": {
    "execution": {
     "iopub.execute_input": "2022-11-28T12:17:03.125611Z",
     "iopub.status.busy": "2022-11-28T12:17:03.125055Z",
     "iopub.status.idle": "2022-11-28T12:17:03.127523Z",
     "shell.execute_reply": "2022-11-28T12:17:03.127104Z"
    },
    "papermill": {
     "duration": 0.036481,
     "end_time": "2022-11-28T12:17:03.127625",
     "exception": false,
     "start_time": "2022-11-28T12:17:03.091144",
     "status": "completed"
    },
    "tags": []
   },
   "outputs": [],
   "source": [
    "#hide\n",
    "# g.head()"
   ]
  },
  {
   "cell_type": "code",
   "execution_count": 26,
   "id": "specific-kruger",
   "metadata": {
    "execution": {
     "iopub.execute_input": "2022-11-28T12:17:03.192850Z",
     "iopub.status.busy": "2022-11-28T12:17:03.192288Z",
     "iopub.status.idle": "2022-11-28T12:17:03.194337Z",
     "shell.execute_reply": "2022-11-28T12:17:03.194747Z"
    },
    "papermill": {
     "duration": 0.035913,
     "end_time": "2022-11-28T12:17:03.194858",
     "exception": false,
     "start_time": "2022-11-28T12:17:03.158945",
     "status": "completed"
    },
    "tags": []
   },
   "outputs": [],
   "source": [
    "#hide\n",
    "# g.columns = ['date','country','cases']"
   ]
  },
  {
   "cell_type": "code",
   "execution_count": 27,
   "id": "tender-conversion",
   "metadata": {
    "execution": {
     "iopub.execute_input": "2022-11-28T12:17:03.260077Z",
     "iopub.status.busy": "2022-11-28T12:17:03.259517Z",
     "iopub.status.idle": "2022-11-28T12:17:03.261777Z",
     "shell.execute_reply": "2022-11-28T12:17:03.261258Z"
    },
    "papermill": {
     "duration": 0.036376,
     "end_time": "2022-11-28T12:17:03.261896",
     "exception": false,
     "start_time": "2022-11-28T12:17:03.225520",
     "status": "completed"
    },
    "tags": []
   },
   "outputs": [],
   "source": [
    "#hide\n",
    "# g['continent'] = g.country"
   ]
  },
  {
   "cell_type": "code",
   "execution_count": 28,
   "id": "substantial-wilderness",
   "metadata": {
    "execution": {
     "iopub.execute_input": "2022-11-28T12:17:03.327338Z",
     "iopub.status.busy": "2022-11-28T12:17:03.326780Z",
     "iopub.status.idle": "2022-11-28T12:17:03.329116Z",
     "shell.execute_reply": "2022-11-28T12:17:03.328594Z"
    },
    "papermill": {
     "duration": 0.036249,
     "end_time": "2022-11-28T12:17:03.329216",
     "exception": false,
     "start_time": "2022-11-28T12:17:03.292967",
     "status": "completed"
    },
    "tags": []
   },
   "outputs": [],
   "source": [
    "#hide\n",
    "# cols = list(g.columns.values)"
   ]
  },
  {
   "cell_type": "code",
   "execution_count": 29,
   "id": "solved-farming",
   "metadata": {
    "execution": {
     "iopub.execute_input": "2022-11-28T12:17:03.394033Z",
     "iopub.status.busy": "2022-11-28T12:17:03.393452Z",
     "iopub.status.idle": "2022-11-28T12:17:03.395782Z",
     "shell.execute_reply": "2022-11-28T12:17:03.395267Z"
    },
    "papermill": {
     "duration": 0.035837,
     "end_time": "2022-11-28T12:17:03.395879",
     "exception": false,
     "start_time": "2022-11-28T12:17:03.360042",
     "status": "completed"
    },
    "tags": []
   },
   "outputs": [],
   "source": [
    "#hide\n",
    "# cols.insert(0, cols.pop())"
   ]
  },
  {
   "cell_type": "code",
   "execution_count": 30,
   "id": "executed-adoption",
   "metadata": {
    "execution": {
     "iopub.execute_input": "2022-11-28T12:17:03.461420Z",
     "iopub.status.busy": "2022-11-28T12:17:03.460853Z",
     "iopub.status.idle": "2022-11-28T12:17:03.463329Z",
     "shell.execute_reply": "2022-11-28T12:17:03.462887Z"
    },
    "papermill": {
     "duration": 0.036814,
     "end_time": "2022-11-28T12:17:03.463431",
     "exception": false,
     "start_time": "2022-11-28T12:17:03.426617",
     "status": "completed"
    },
    "tags": []
   },
   "outputs": [],
   "source": [
    "#hide\n",
    "# g = g[cols]"
   ]
  },
  {
   "cell_type": "code",
   "execution_count": 31,
   "id": "subject-dublin",
   "metadata": {
    "execution": {
     "iopub.execute_input": "2022-11-28T12:17:03.529104Z",
     "iopub.status.busy": "2022-11-28T12:17:03.528542Z",
     "iopub.status.idle": "2022-11-28T12:17:03.530924Z",
     "shell.execute_reply": "2022-11-28T12:17:03.530490Z"
    },
    "papermill": {
     "duration": 0.03667,
     "end_time": "2022-11-28T12:17:03.531022",
     "exception": false,
     "start_time": "2022-11-28T12:17:03.494352",
     "status": "completed"
    },
    "tags": []
   },
   "outputs": [],
   "source": [
    "#hide\n",
    "# g['continent'] = g['continent'].map(mapping['map.continent'])"
   ]
  },
  {
   "cell_type": "code",
   "execution_count": 32,
   "id": "freelance-scout",
   "metadata": {
    "execution": {
     "iopub.execute_input": "2022-11-28T12:17:03.595895Z",
     "iopub.status.busy": "2022-11-28T12:17:03.595348Z",
     "iopub.status.idle": "2022-11-28T12:17:03.597204Z",
     "shell.execute_reply": "2022-11-28T12:17:03.597614Z"
    },
    "papermill": {
     "duration": 0.03587,
     "end_time": "2022-11-28T12:17:03.597726",
     "exception": false,
     "start_time": "2022-11-28T12:17:03.561856",
     "status": "completed"
    },
    "tags": []
   },
   "outputs": [],
   "source": [
    "#hide\n",
    "# g.head()"
   ]
  },
  {
   "cell_type": "code",
   "execution_count": 33,
   "id": "limited-engine",
   "metadata": {
    "execution": {
     "iopub.execute_input": "2022-11-28T12:17:03.662999Z",
     "iopub.status.busy": "2022-11-28T12:17:03.662438Z",
     "iopub.status.idle": "2022-11-28T12:17:03.664819Z",
     "shell.execute_reply": "2022-11-28T12:17:03.664295Z"
    },
    "papermill": {
     "duration": 0.036429,
     "end_time": "2022-11-28T12:17:03.664921",
     "exception": false,
     "start_time": "2022-11-28T12:17:03.628492",
     "status": "completed"
    },
    "tags": []
   },
   "outputs": [],
   "source": [
    "# hide\n",
    "# g['date'] = g['date'].astype('datetime64[ns]')"
   ]
  },
  {
   "cell_type": "code",
   "execution_count": 34,
   "id": "sophisticated-supervisor",
   "metadata": {
    "execution": {
     "iopub.execute_input": "2022-11-28T12:17:03.730852Z",
     "iopub.status.busy": "2022-11-28T12:17:03.730286Z",
     "iopub.status.idle": "2022-11-28T12:17:03.732579Z",
     "shell.execute_reply": "2022-11-28T12:17:03.732058Z"
    },
    "papermill": {
     "duration": 0.036518,
     "end_time": "2022-11-28T12:17:03.732680",
     "exception": false,
     "start_time": "2022-11-28T12:17:03.696162",
     "status": "completed"
    },
    "tags": []
   },
   "outputs": [],
   "source": [
    "#hide\n",
    "# g['date'] = g.date.dt.dayofyear"
   ]
  },
  {
   "cell_type": "code",
   "execution_count": 35,
   "id": "inside-dubai",
   "metadata": {
    "execution": {
     "iopub.execute_input": "2022-11-28T12:17:03.797641Z",
     "iopub.status.busy": "2022-11-28T12:17:03.797089Z",
     "iopub.status.idle": "2022-11-28T12:17:03.800586Z",
     "shell.execute_reply": "2022-11-28T12:17:03.801001Z"
    },
    "papermill": {
     "duration": 0.037688,
     "end_time": "2022-11-28T12:17:03.801120",
     "exception": false,
     "start_time": "2022-11-28T12:17:03.763432",
     "status": "completed"
    },
    "tags": []
   },
   "outputs": [],
   "source": [
    "#hide\n",
    "# g = g.rename(columns= {'continent':'group','country':'name','cases':'value'})"
   ]
  },
  {
   "cell_type": "code",
   "execution_count": 36,
   "id": "fleet-motorcycle",
   "metadata": {
    "execution": {
     "iopub.execute_input": "2022-11-28T12:17:03.867029Z",
     "iopub.status.busy": "2022-11-28T12:17:03.865780Z",
     "iopub.status.idle": "2022-11-28T12:17:03.868132Z",
     "shell.execute_reply": "2022-11-28T12:17:03.867623Z"
    },
    "papermill": {
     "duration": 0.036174,
     "end_time": "2022-11-28T12:17:03.868230",
     "exception": false,
     "start_time": "2022-11-28T12:17:03.832056",
     "status": "completed"
    },
    "tags": []
   },
   "outputs": [],
   "source": [
    "#hide\n",
    "# cols = ['name','group','day','value']"
   ]
  },
  {
   "cell_type": "code",
   "execution_count": 37,
   "id": "continued-sleeping",
   "metadata": {
    "execution": {
     "iopub.execute_input": "2022-11-28T12:17:03.933704Z",
     "iopub.status.busy": "2022-11-28T12:17:03.933142Z",
     "iopub.status.idle": "2022-11-28T12:17:03.935348Z",
     "shell.execute_reply": "2022-11-28T12:17:03.935753Z"
    },
    "papermill": {
     "duration": 0.036732,
     "end_time": "2022-11-28T12:17:03.935877",
     "exception": false,
     "start_time": "2022-11-28T12:17:03.899145",
     "status": "completed"
    },
    "tags": []
   },
   "outputs": [],
   "source": [
    "#hide\n",
    "# g.rename(columns= {'date':'day'},inplace = True)"
   ]
  },
  {
   "cell_type": "code",
   "execution_count": 38,
   "id": "major-fight",
   "metadata": {
    "execution": {
     "iopub.execute_input": "2022-11-28T12:17:04.001420Z",
     "iopub.status.busy": "2022-11-28T12:17:04.000861Z",
     "iopub.status.idle": "2022-11-28T12:17:04.002764Z",
     "shell.execute_reply": "2022-11-28T12:17:04.002249Z"
    },
    "papermill": {
     "duration": 0.035947,
     "end_time": "2022-11-28T12:17:04.002863",
     "exception": false,
     "start_time": "2022-11-28T12:17:03.966916",
     "status": "completed"
    },
    "tags": []
   },
   "outputs": [],
   "source": [
    "#hide\n",
    "# g = g[cols]"
   ]
  },
  {
   "cell_type": "code",
   "execution_count": 39,
   "id": "structured-mobile",
   "metadata": {
    "execution": {
     "iopub.execute_input": "2022-11-28T12:17:04.067628Z",
     "iopub.status.busy": "2022-11-28T12:17:04.067065Z",
     "iopub.status.idle": "2022-11-28T12:17:04.069332Z",
     "shell.execute_reply": "2022-11-28T12:17:04.068896Z"
    },
    "papermill": {
     "duration": 0.035858,
     "end_time": "2022-11-28T12:17:04.069429",
     "exception": false,
     "start_time": "2022-11-28T12:17:04.033571",
     "status": "completed"
    },
    "tags": []
   },
   "outputs": [],
   "source": [
    "# #hide\n",
    "# g = g[g.group.notna()]"
   ]
  },
  {
   "cell_type": "code",
   "execution_count": 40,
   "id": "determined-closing",
   "metadata": {
    "execution": {
     "iopub.execute_input": "2022-11-28T12:17:04.135304Z",
     "iopub.status.busy": "2022-11-28T12:17:04.134730Z",
     "iopub.status.idle": "2022-11-28T12:17:04.136888Z",
     "shell.execute_reply": "2022-11-28T12:17:04.137291Z"
    },
    "papermill": {
     "duration": 0.037087,
     "end_time": "2022-11-28T12:17:04.137409",
     "exception": false,
     "start_time": "2022-11-28T12:17:04.100322",
     "status": "completed"
    },
    "tags": []
   },
   "outputs": [],
   "source": [
    "# #hide\n",
    "# colors = dict(zip(\n",
    "#     [\"Oceania\", \"Europe\", \"Asia\", \"South America\", \"Middle East\", \"North America\", \"Africa\"],\n",
    "#     [\"#adb0ff\", \"#ffb3ff\", \"#90d595\", \"#e48381\", \"#aafbff\", \"#f7bb5f\", \"#eafb50\"]\n",
    "# ))\n",
    "# group_lk = g.set_index('name')['group'].to_dict()"
   ]
  },
  {
   "cell_type": "code",
   "execution_count": null,
   "id": "gross-drinking",
   "metadata": {
    "papermill": {
     "duration": 0.030807,
     "end_time": "2022-11-28T12:17:04.199599",
     "exception": false,
     "start_time": "2022-11-28T12:17:04.168792",
     "status": "completed"
    },
    "tags": []
   },
   "outputs": [],
   "source": []
  },
  {
   "cell_type": "code",
   "execution_count": 41,
   "id": "subject-macintosh",
   "metadata": {
    "execution": {
     "iopub.execute_input": "2022-11-28T12:17:04.265520Z",
     "iopub.status.busy": "2022-11-28T12:17:04.264943Z",
     "iopub.status.idle": "2022-11-28T12:17:04.266837Z",
     "shell.execute_reply": "2022-11-28T12:17:04.266314Z"
    },
    "papermill": {
     "duration": 0.03641,
     "end_time": "2022-11-28T12:17:04.266939",
     "exception": false,
     "start_time": "2022-11-28T12:17:04.230529",
     "status": "completed"
    },
    "tags": []
   },
   "outputs": [],
   "source": [
    "# #hide\n",
    "# fig, ax = plt.subplots(figsize=(15, 8))\n",
    "\n",
    "# def draw_barchart(current_day):\n",
    "#     dff = g[g['day'].eq(current_day)].sort_values(by='value', ascending=True).tail(10)\n",
    "#     ax.clear()\n",
    "#     ax.barh(dff['name'], dff['value'], color=[colors[group_lk[x]] for x in dff['name']])\n",
    "#     dx = dff['value'].max() / 200\n",
    "    \n",
    "#     for i, (value, name) in enumerate(zip(dff['value'], dff['name'])):\n",
    "#         ax.text(value-dx, i,     name,           size=14, weight=600, ha='right', va='bottom')\n",
    "#         ax.text(value-dx, i-.25, group_lk[name], size=10, color='#444444', ha='right', va='baseline')\n",
    "#         ax.text(value+dx, i,     f'{value:,.0f}',  size=14, ha='left',  va='center')\n",
    "#     ax.text(1, 0.4, current_day, transform=ax.transAxes, color='#777777', size=46, ha='right', weight=800)\n",
    "#     ax.text(0, 1.06, 'Population (thousands)', transform=ax.transAxes, size=12, color='#777777')\n",
    "#     ax.xaxis.set_major_formatter(ticker.StrMethodFormatter('{x:,.0f}'))\n",
    "#     ax.xaxis.set_ticks_position('top')\n",
    "#     ax.tick_params(axis='x', colors='#777777', labelsize=12)\n",
    "#     ax.set_yticks([])\n",
    "#     ax.margins(0, 0.01)\n",
    "#     ax.grid(which='major', axis='x', linestyle='-')\n",
    "#     ax.set_axisbelow(True)\n",
    "    \n",
    "#     ax.text(0, 1.15, 'Coronavirus',\n",
    "#             transform=ax.transAxes, size=24, weight=600, ha='left', va='top')\n",
    "# #     ax.text(1, 0, 'by @pratapvardhan; credit @jburnmurdoch', transform=ax.transAxes, color='#777777', ha='right',\n",
    "# #             bbox=dict(facecolor='white', alpha=0.8, edgecolor='white'))\n",
    "#     plt.box(False)"
   ]
  },
  {
   "cell_type": "code",
   "execution_count": 42,
   "id": "sexual-wages",
   "metadata": {
    "execution": {
     "iopub.execute_input": "2022-11-28T12:17:04.332662Z",
     "iopub.status.busy": "2022-11-28T12:17:04.332102Z",
     "iopub.status.idle": "2022-11-28T12:17:04.334128Z",
     "shell.execute_reply": "2022-11-28T12:17:04.334525Z"
    },
    "papermill": {
     "duration": 0.036763,
     "end_time": "2022-11-28T12:17:04.334645",
     "exception": false,
     "start_time": "2022-11-28T12:17:04.297882",
     "status": "completed"
    },
    "tags": []
   },
   "outputs": [],
   "source": [
    "# #hide_input\n",
    "# fig, ax = plt.subplots(figsize=(15, 8))\n",
    "# animator = animation.FuncAnimation(fig, draw_barchart, frames=range(g.day.values.min(), g.day.values.max()))\n",
    "# HTML(animator.to_jshtml())\n",
    "# # or use animator.to_html5_video() or animator.save() "
   ]
  },
  {
   "cell_type": "code",
   "execution_count": null,
   "id": "australian-container",
   "metadata": {
    "papermill": {
     "duration": 0.030765,
     "end_time": "2022-11-28T12:17:04.396430",
     "exception": false,
     "start_time": "2022-11-28T12:17:04.365665",
     "status": "completed"
    },
    "tags": []
   },
   "outputs": [],
   "source": []
  },
  {
   "cell_type": "code",
   "execution_count": null,
   "id": "mediterranean-pontiac",
   "metadata": {
    "papermill": {
     "duration": 0.03063,
     "end_time": "2022-11-28T12:17:04.457741",
     "exception": false,
     "start_time": "2022-11-28T12:17:04.427111",
     "status": "completed"
    },
    "tags": []
   },
   "outputs": [],
   "source": []
  },
  {
   "cell_type": "code",
   "execution_count": null,
   "id": "aging-legislature",
   "metadata": {
    "papermill": {
     "duration": 0.030579,
     "end_time": "2022-11-28T12:17:04.519218",
     "exception": false,
     "start_time": "2022-11-28T12:17:04.488639",
     "status": "completed"
    },
    "tags": []
   },
   "outputs": [],
   "source": []
  }
 ],
 "metadata": {
  "kernelspec": {
   "display_name": "Python 3",
   "language": "python",
   "name": "python3"
  },
  "language_info": {
   "codemirror_mode": {
    "name": "ipython",
    "version": 3
   },
   "file_extension": ".py",
   "mimetype": "text/x-python",
   "name": "python",
   "nbconvert_exporter": "python",
   "pygments_lexer": "ipython3",
   "version": "3.6.15"
  },
  "papermill": {
   "duration": 5.994136,
   "end_time": "2022-11-28T12:17:04.868268",
   "environment_variables": {},
   "exception": null,
   "input_path": "2020-03-21-covid19exp.ipynb",
   "output_path": "2020-03-21-covid19exp.ipynb",
   "parameters": {},
   "start_time": "2022-11-28T12:16:58.874132",
   "version": "2.0.0"
  }
 },
 "nbformat": 4,
 "nbformat_minor": 5
}