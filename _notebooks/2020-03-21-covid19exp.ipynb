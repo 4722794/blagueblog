{
 "cells": [
  {
   "cell_type": "markdown",
   "metadata": {
    "papermill": {
     "duration": 0.036467,
     "end_time": "2020-11-23T12:06:44.657823",
     "exception": false,
     "start_time": "2020-11-23T12:06:44.621356",
     "status": "completed"
    },
    "tags": []
   },
   "source": [
    "# COVID-19 Case Race\n",
    "> A race chart to see rising cases around the world\n",
    "\n",
    "- author: Hargun Oberoi\n",
    "- image: images/covid-overview.png\n",
    "- hide: false\n",
    "- badges: false"
   ]
  },
  {
   "cell_type": "code",
   "execution_count": 1,
   "metadata": {
    "execution": {
     "iopub.execute_input": "2020-11-23T12:06:44.728130Z",
     "iopub.status.busy": "2020-11-23T12:06:44.727484Z",
     "iopub.status.idle": "2020-11-23T12:06:45.083705Z",
     "shell.execute_reply": "2020-11-23T12:06:45.083115Z"
    },
    "papermill": {
     "duration": 0.392885,
     "end_time": "2020-11-23T12:06:45.083881",
     "exception": false,
     "start_time": "2020-11-23T12:06:44.690996",
     "status": "completed"
    },
    "tags": []
   },
   "outputs": [],
   "source": [
    "#hide\n",
    "import numpy as np\n",
    "import pandas as pd\n",
    "from jinja2 import Template\n",
    "from IPython.display import HTML"
   ]
  },
  {
   "cell_type": "code",
   "execution_count": 2,
   "metadata": {
    "execution": {
     "iopub.execute_input": "2020-11-23T12:06:45.157470Z",
     "iopub.status.busy": "2020-11-23T12:06:45.156816Z",
     "iopub.status.idle": "2020-11-23T12:06:45.159813Z",
     "shell.execute_reply": "2020-11-23T12:06:45.159034Z"
    },
    "papermill": {
     "duration": 0.042022,
     "end_time": "2020-11-23T12:06:45.159956",
     "exception": false,
     "start_time": "2020-11-23T12:06:45.117934",
     "status": "completed"
    },
    "tags": []
   },
   "outputs": [],
   "source": [
    "#hide\n",
    "\n",
    "# FETCH\n",
    "base_url = 'https://raw.githubusercontent.com/pratapvardhan/notebooks/master/covid19/'\n",
    "paths = {\n",
    "    'mapping': base_url + 'mapping_countries.csv',\n",
    "    'overview': base_url + 'overview.tpl'\n",
    "}"
   ]
  },
  {
   "cell_type": "code",
   "execution_count": 3,
   "metadata": {
    "execution": {
     "iopub.execute_input": "2020-11-23T12:06:45.236025Z",
     "iopub.status.busy": "2020-11-23T12:06:45.235420Z",
     "iopub.status.idle": "2020-11-23T12:06:45.239046Z",
     "shell.execute_reply": "2020-11-23T12:06:45.238462Z"
    },
    "papermill": {
     "duration": 0.046031,
     "end_time": "2020-11-23T12:06:45.239176",
     "exception": false,
     "start_time": "2020-11-23T12:06:45.193145",
     "status": "completed"
    },
    "tags": []
   },
   "outputs": [
    {
     "data": {
      "text/plain": [
       "'https://raw.githubusercontent.com/pratapvardhan/notebooks/master/covid19/mapping_countries.csv'"
      ]
     },
     "execution_count": 3,
     "metadata": {},
     "output_type": "execute_result"
    }
   ],
   "source": [
    "#hide\n",
    "paths['mapping']"
   ]
  },
  {
   "cell_type": "code",
   "execution_count": 4,
   "metadata": {
    "execution": {
     "iopub.execute_input": "2020-11-23T12:06:45.311442Z",
     "iopub.status.busy": "2020-11-23T12:06:45.310810Z",
     "iopub.status.idle": "2020-11-23T12:06:45.313216Z",
     "shell.execute_reply": "2020-11-23T12:06:45.312689Z"
    },
    "papermill": {
     "duration": 0.040781,
     "end_time": "2020-11-23T12:06:45.313341",
     "exception": false,
     "start_time": "2020-11-23T12:06:45.272560",
     "status": "completed"
    },
    "tags": []
   },
   "outputs": [],
   "source": [
    "#hide\n",
    "def get_mappings(url):\n",
    "    df = pd.read_csv(url)\n",
    "    return {\n",
    "        'df': df,\n",
    "        'replace.country': dict(df.dropna(subset=['Name']).set_index('Country')['Name']),\n",
    "        'map.continent': dict(df.set_index('Name')['Continent'])\n",
    "    }"
   ]
  },
  {
   "cell_type": "code",
   "execution_count": 5,
   "metadata": {
    "execution": {
     "iopub.execute_input": "2020-11-23T12:06:45.384886Z",
     "iopub.status.busy": "2020-11-23T12:06:45.384261Z",
     "iopub.status.idle": "2020-11-23T12:06:45.430315Z",
     "shell.execute_reply": "2020-11-23T12:06:45.429709Z"
    },
    "papermill": {
     "duration": 0.084482,
     "end_time": "2020-11-23T12:06:45.430461",
     "exception": false,
     "start_time": "2020-11-23T12:06:45.345979",
     "status": "completed"
    },
    "tags": []
   },
   "outputs": [],
   "source": [
    "#hide\n",
    "mapping = get_mappings(paths['mapping'])"
   ]
  },
  {
   "cell_type": "code",
   "execution_count": 6,
   "metadata": {
    "execution": {
     "iopub.execute_input": "2020-11-23T12:06:45.503309Z",
     "iopub.status.busy": "2020-11-23T12:06:45.502432Z",
     "iopub.status.idle": "2020-11-23T12:06:45.505167Z",
     "shell.execute_reply": "2020-11-23T12:06:45.504626Z"
    },
    "papermill": {
     "duration": 0.04036,
     "end_time": "2020-11-23T12:06:45.505300",
     "exception": false,
     "start_time": "2020-11-23T12:06:45.464940",
     "status": "completed"
    },
    "tags": []
   },
   "outputs": [],
   "source": [
    "#hide\n",
    "def get_template(path):\n",
    "    from urllib.parse import urlparse\n",
    "    if bool(urlparse(path).netloc):\n",
    "        from urllib.request import urlopen\n",
    "        return urlopen(path).read().decode('utf8')\n",
    "    return open(path).read()"
   ]
  },
  {
   "cell_type": "code",
   "execution_count": 7,
   "metadata": {
    "execution": {
     "iopub.execute_input": "2020-11-23T12:06:45.575258Z",
     "iopub.status.busy": "2020-11-23T12:06:45.574668Z",
     "iopub.status.idle": "2020-11-23T12:06:45.576945Z",
     "shell.execute_reply": "2020-11-23T12:06:45.576316Z"
    },
    "papermill": {
     "duration": 0.039758,
     "end_time": "2020-11-23T12:06:45.577063",
     "exception": false,
     "start_time": "2020-11-23T12:06:45.537305",
     "status": "completed"
    },
    "tags": []
   },
   "outputs": [],
   "source": [
    "#hide\n",
    "def get_frame(name):\n",
    "    url = (\n",
    "        'https://raw.githubusercontent.com/CSSEGISandData/COVID-19/master/csse_covid_19_data/'\n",
    "        f'csse_covid_19_time_series/time_series_covid19_{name}_global.csv')\n",
    "    df = pd.read_csv(url)\n",
    "    # rename countries\n",
    "    df['Country/Region'] = df['Country/Region'].replace(mapping['replace.country'])\n",
    "    return df"
   ]
  },
  {
   "cell_type": "code",
   "execution_count": 8,
   "metadata": {
    "execution": {
     "iopub.execute_input": "2020-11-23T12:06:45.648284Z",
     "iopub.status.busy": "2020-11-23T12:06:45.647688Z",
     "iopub.status.idle": "2020-11-23T12:06:45.649677Z",
     "shell.execute_reply": "2020-11-23T12:06:45.650264Z"
    },
    "papermill": {
     "duration": 0.040053,
     "end_time": "2020-11-23T12:06:45.650468",
     "exception": false,
     "start_time": "2020-11-23T12:06:45.610415",
     "status": "completed"
    },
    "tags": []
   },
   "outputs": [],
   "source": [
    "#hide\n",
    "def get_dates(df):\n",
    "    dt_cols = df.columns[~df.columns.isin(['Province/State', 'Country/Region', 'Lat', 'Long'])]\n",
    "    LAST_DATE_I = -1\n",
    "    # sometimes last column may be empty, then go backwards\n",
    "    for i in range(-1, -len(dt_cols), -1):\n",
    "        if not df[dt_cols[i]].fillna(0).eq(0).all():\n",
    "            LAST_DATE_I = i\n",
    "            break\n",
    "    return LAST_DATE_I, dt_cols"
   ]
  },
  {
   "cell_type": "code",
   "execution_count": 9,
   "metadata": {
    "execution": {
     "iopub.execute_input": "2020-11-23T12:06:45.719958Z",
     "iopub.status.busy": "2020-11-23T12:06:45.719381Z",
     "iopub.status.idle": "2020-11-23T12:06:46.019681Z",
     "shell.execute_reply": "2020-11-23T12:06:46.020164Z"
    },
    "papermill": {
     "duration": 0.33792,
     "end_time": "2020-11-23T12:06:46.020331",
     "exception": false,
     "start_time": "2020-11-23T12:06:45.682411",
     "status": "completed"
    },
    "tags": []
   },
   "outputs": [],
   "source": [
    "#hide\n",
    "COL_REGION = 'Country/Region'\n",
    "# Confirmed, Recovered, Deaths\n",
    "df = get_frame('confirmed')\n",
    "# dft_: timeseries, dfc_: today country agg\n",
    "dft_cases = df\n",
    "dft_deaths = get_frame('deaths')\n",
    "dft_recovered = get_frame('recovered')\n",
    "LAST_DATE_I, dt_cols = get_dates(df)"
   ]
  },
  {
   "cell_type": "code",
   "execution_count": 10,
   "metadata": {
    "execution": {
     "iopub.execute_input": "2020-11-23T12:06:46.096492Z",
     "iopub.status.busy": "2020-11-23T12:06:46.095828Z",
     "iopub.status.idle": "2020-11-23T12:06:46.098853Z",
     "shell.execute_reply": "2020-11-23T12:06:46.098306Z"
    },
    "papermill": {
     "duration": 0.044916,
     "end_time": "2020-11-23T12:06:46.098988",
     "exception": false,
     "start_time": "2020-11-23T12:06:46.054072",
     "status": "completed"
    },
    "tags": []
   },
   "outputs": [],
   "source": [
    "#hide\n",
    "LAST_DATE_I, dt_cols = get_dates(df)\n",
    "dt_today =dt_cols[LAST_DATE_I]\n",
    "# dt_5day = dt_cols[LAST_DATE_I - 5]\n",
    "dt_yday = dt_cols[LAST_DATE_I - 1]"
   ]
  },
  {
   "cell_type": "code",
   "execution_count": 11,
   "metadata": {
    "execution": {
     "iopub.execute_input": "2020-11-23T12:06:46.171435Z",
     "iopub.status.busy": "2020-11-23T12:06:46.170844Z",
     "iopub.status.idle": "2020-11-23T12:06:46.178196Z",
     "shell.execute_reply": "2020-11-23T12:06:46.178876Z"
    },
    "papermill": {
     "duration": 0.047366,
     "end_time": "2020-11-23T12:06:46.179044",
     "exception": false,
     "start_time": "2020-11-23T12:06:46.131678",
     "status": "completed"
    },
    "tags": []
   },
   "outputs": [],
   "source": [
    "#hide\n",
    "dfc_cases = dft_cases.groupby(COL_REGION)[dt_today].sum()\n",
    "dfc_deaths = dft_deaths.groupby(COL_REGION)[dt_today].sum()\n",
    "# dfp_cases = dft_cases.groupby(COL_REGION)[dt_5day].sum()\n",
    "# dfp_deaths = dft_deaths.groupby(COL_REGION)[dt_5day].sum()\n",
    "dfp_cases = dft_cases.groupby(COL_REGION)[dt_yday].sum()\n",
    "dfp_deaths = dft_deaths.groupby(COL_REGION)[dt_yday].sum()"
   ]
  },
  {
   "cell_type": "code",
   "execution_count": 12,
   "metadata": {
    "execution": {
     "iopub.execute_input": "2020-11-23T12:06:46.248222Z",
     "iopub.status.busy": "2020-11-23T12:06:46.247466Z",
     "iopub.status.idle": "2020-11-23T12:06:46.252725Z",
     "shell.execute_reply": "2020-11-23T12:06:46.252220Z"
    },
    "papermill": {
     "duration": 0.042156,
     "end_time": "2020-11-23T12:06:46.252846",
     "exception": false,
     "start_time": "2020-11-23T12:06:46.210690",
     "status": "completed"
    },
    "tags": []
   },
   "outputs": [],
   "source": [
    "#hide\n",
    "df_table = (pd.DataFrame(dict(Cases = dfc_cases, Deaths = dfc_deaths, PCases = dfp_cases, PDeaths = dfp_deaths))\n",
    "            .sort_values(by = ['Cases','Deaths'], ascending = [False, False])\n",
    "            .reset_index())"
   ]
  },
  {
   "cell_type": "code",
   "execution_count": 13,
   "metadata": {
    "execution": {
     "iopub.execute_input": "2020-11-23T12:06:46.338966Z",
     "iopub.status.busy": "2020-11-23T12:06:46.338122Z",
     "iopub.status.idle": "2020-11-23T12:06:46.348543Z",
     "shell.execute_reply": "2020-11-23T12:06:46.347915Z"
    },
    "papermill": {
     "duration": 0.063278,
     "end_time": "2020-11-23T12:06:46.348679",
     "exception": false,
     "start_time": "2020-11-23T12:06:46.285401",
     "status": "completed"
    },
    "tags": []
   },
   "outputs": [
    {
     "data": {
      "text/html": [
       "<div>\n",
       "<style scoped>\n",
       "    .dataframe tbody tr th:only-of-type {\n",
       "        vertical-align: middle;\n",
       "    }\n",
       "\n",
       "    .dataframe tbody tr th {\n",
       "        vertical-align: top;\n",
       "    }\n",
       "\n",
       "    .dataframe thead th {\n",
       "        text-align: right;\n",
       "    }\n",
       "</style>\n",
       "<table border=\"1\" class=\"dataframe\">\n",
       "  <thead>\n",
       "    <tr style=\"text-align: right;\">\n",
       "      <th></th>\n",
       "      <th>Country/Region</th>\n",
       "      <th>Cases</th>\n",
       "      <th>Deaths</th>\n",
       "      <th>PCases</th>\n",
       "      <th>PDeaths</th>\n",
       "      <th>Cases (+)</th>\n",
       "      <th>Deaths (+)</th>\n",
       "      <th>Fatality Rate</th>\n",
       "      <th>Continent</th>\n",
       "    </tr>\n",
       "  </thead>\n",
       "  <tbody>\n",
       "    <tr>\n",
       "      <th>0</th>\n",
       "      <td>US</td>\n",
       "      <td>12246849</td>\n",
       "      <td>256782</td>\n",
       "      <td>12104117</td>\n",
       "      <td>255861</td>\n",
       "      <td>142732</td>\n",
       "      <td>921</td>\n",
       "      <td>2.10</td>\n",
       "      <td>North America</td>\n",
       "    </tr>\n",
       "    <tr>\n",
       "      <th>1</th>\n",
       "      <td>India</td>\n",
       "      <td>9139865</td>\n",
       "      <td>133738</td>\n",
       "      <td>9095806</td>\n",
       "      <td>133227</td>\n",
       "      <td>44059</td>\n",
       "      <td>511</td>\n",
       "      <td>1.46</td>\n",
       "      <td>Asia</td>\n",
       "    </tr>\n",
       "    <tr>\n",
       "      <th>2</th>\n",
       "      <td>Brazil</td>\n",
       "      <td>6071401</td>\n",
       "      <td>169183</td>\n",
       "      <td>6052786</td>\n",
       "      <td>168989</td>\n",
       "      <td>18615</td>\n",
       "      <td>194</td>\n",
       "      <td>2.79</td>\n",
       "      <td>South America</td>\n",
       "    </tr>\n",
       "    <tr>\n",
       "      <th>3</th>\n",
       "      <td>France</td>\n",
       "      <td>2191180</td>\n",
       "      <td>48807</td>\n",
       "      <td>2178023</td>\n",
       "      <td>48593</td>\n",
       "      <td>13157</td>\n",
       "      <td>214</td>\n",
       "      <td>2.23</td>\n",
       "      <td>Europe</td>\n",
       "    </tr>\n",
       "    <tr>\n",
       "      <th>4</th>\n",
       "      <td>Russia</td>\n",
       "      <td>2071858</td>\n",
       "      <td>35838</td>\n",
       "      <td>2047563</td>\n",
       "      <td>35442</td>\n",
       "      <td>24295</td>\n",
       "      <td>396</td>\n",
       "      <td>1.73</td>\n",
       "      <td>Europe</td>\n",
       "    </tr>\n",
       "  </tbody>\n",
       "</table>\n",
       "</div>"
      ],
      "text/plain": [
       "  Country/Region     Cases  Deaths    PCases  PDeaths  Cases (+)  Deaths (+)  \\\n",
       "0             US  12246849  256782  12104117   255861     142732         921   \n",
       "1          India   9139865  133738   9095806   133227      44059         511   \n",
       "2         Brazil   6071401  169183   6052786   168989      18615         194   \n",
       "3         France   2191180   48807   2178023    48593      13157         214   \n",
       "4         Russia   2071858   35838   2047563    35442      24295         396   \n",
       "\n",
       "   Fatality Rate      Continent  \n",
       "0           2.10  North America  \n",
       "1           1.46           Asia  \n",
       "2           2.79  South America  \n",
       "3           2.23         Europe  \n",
       "4           1.73         Europe  "
      ]
     },
     "execution_count": 13,
     "metadata": {},
     "output_type": "execute_result"
    }
   ],
   "source": [
    "#hide\n",
    "for c in 'Cases, Deaths'.split(', '):\n",
    "    df_table[f'{c} (+)'] = (df_table[c] - df_table[f'P{c}']).clip(0)\n",
    "    #Clip ça veut dire, les chiffres negatif sont interdit\n",
    "df_table['Fatality Rate'] = (100* df_table['Deaths']/ df_table['Cases']).round(2)\n",
    "df_table['Continent'] = df_table['Country/Region'].map(mapping['map.continent'])\n",
    "df_table.head(5)"
   ]
  },
  {
   "cell_type": "code",
   "execution_count": 14,
   "metadata": {
    "execution": {
     "iopub.execute_input": "2020-11-23T12:06:46.421266Z",
     "iopub.status.busy": "2020-11-23T12:06:46.420635Z",
     "iopub.status.idle": "2020-11-23T12:06:46.423188Z",
     "shell.execute_reply": "2020-11-23T12:06:46.423761Z"
    },
    "papermill": {
     "duration": 0.04155,
     "end_time": "2020-11-23T12:06:46.423902",
     "exception": false,
     "start_time": "2020-11-23T12:06:46.382352",
     "status": "completed"
    },
    "tags": []
   },
   "outputs": [],
   "source": [
    "#hide\n",
    "#delete problematic countries from table\n",
    "df_table = df_table[~df_table['Country/Region'].isin(['Cape Verde', 'Cruise Ship', 'Kosovo'])]"
   ]
  },
  {
   "cell_type": "code",
   "execution_count": 15,
   "metadata": {
    "execution": {
     "iopub.execute_input": "2020-11-23T12:06:46.500206Z",
     "iopub.status.busy": "2020-11-23T12:06:46.499562Z",
     "iopub.status.idle": "2020-11-23T12:06:46.521108Z",
     "shell.execute_reply": "2020-11-23T12:06:46.520632Z"
    },
    "papermill": {
     "duration": 0.064357,
     "end_time": "2020-11-23T12:06:46.521238",
     "exception": false,
     "start_time": "2020-11-23T12:06:46.456881",
     "status": "completed"
    },
    "tags": []
   },
   "outputs": [
    {
     "data": {
      "text/html": [
       "<div>\n",
       "<style scoped>\n",
       "    .dataframe tbody tr th:only-of-type {\n",
       "        vertical-align: middle;\n",
       "    }\n",
       "\n",
       "    .dataframe tbody tr th {\n",
       "        vertical-align: top;\n",
       "    }\n",
       "\n",
       "    .dataframe thead th {\n",
       "        text-align: right;\n",
       "    }\n",
       "</style>\n",
       "<table border=\"1\" class=\"dataframe\">\n",
       "  <thead>\n",
       "    <tr style=\"text-align: right;\">\n",
       "      <th></th>\n",
       "      <th>Country/Region</th>\n",
       "      <th>Cases</th>\n",
       "      <th>Deaths</th>\n",
       "      <th>PCases</th>\n",
       "      <th>PDeaths</th>\n",
       "      <th>Cases (+)</th>\n",
       "      <th>Deaths (+)</th>\n",
       "      <th>Fatality Rate</th>\n",
       "      <th>Continent</th>\n",
       "    </tr>\n",
       "  </thead>\n",
       "  <tbody>\n",
       "    <tr>\n",
       "      <th>0</th>\n",
       "      <td>US</td>\n",
       "      <td>12246849</td>\n",
       "      <td>256782</td>\n",
       "      <td>12104117</td>\n",
       "      <td>255861</td>\n",
       "      <td>142732</td>\n",
       "      <td>921</td>\n",
       "      <td>2.1</td>\n",
       "      <td>North America</td>\n",
       "    </tr>\n",
       "    <tr>\n",
       "      <th>1</th>\n",
       "      <td>India</td>\n",
       "      <td>9139865</td>\n",
       "      <td>133738</td>\n",
       "      <td>9095806</td>\n",
       "      <td>133227</td>\n",
       "      <td>44059</td>\n",
       "      <td>511</td>\n",
       "      <td>1.5</td>\n",
       "      <td>Asia</td>\n",
       "    </tr>\n",
       "    <tr>\n",
       "      <th>2</th>\n",
       "      <td>Brazil</td>\n",
       "      <td>6071401</td>\n",
       "      <td>169183</td>\n",
       "      <td>6052786</td>\n",
       "      <td>168989</td>\n",
       "      <td>18615</td>\n",
       "      <td>194</td>\n",
       "      <td>2.8</td>\n",
       "      <td>South America</td>\n",
       "    </tr>\n",
       "    <tr>\n",
       "      <th>3</th>\n",
       "      <td>France</td>\n",
       "      <td>2191180</td>\n",
       "      <td>48807</td>\n",
       "      <td>2178023</td>\n",
       "      <td>48593</td>\n",
       "      <td>13157</td>\n",
       "      <td>214</td>\n",
       "      <td>2.2</td>\n",
       "      <td>Europe</td>\n",
       "    </tr>\n",
       "    <tr>\n",
       "      <th>4</th>\n",
       "      <td>Russia</td>\n",
       "      <td>2071858</td>\n",
       "      <td>35838</td>\n",
       "      <td>2047563</td>\n",
       "      <td>35442</td>\n",
       "      <td>24295</td>\n",
       "      <td>396</td>\n",
       "      <td>1.7</td>\n",
       "      <td>Europe</td>\n",
       "    </tr>\n",
       "  </tbody>\n",
       "</table>\n",
       "</div>"
      ],
      "text/plain": [
       "  Country/Region     Cases  Deaths    PCases  PDeaths  Cases (+)  Deaths (+)  \\\n",
       "0             US  12246849  256782  12104117   255861     142732         921   \n",
       "1          India   9139865  133738   9095806   133227      44059         511   \n",
       "2         Brazil   6071401  169183   6052786   168989      18615         194   \n",
       "3         France   2191180   48807   2178023    48593      13157         214   \n",
       "4         Russia   2071858   35838   2047563    35442      24295         396   \n",
       "\n",
       "   Fatality Rate      Continent  \n",
       "0            2.1  North America  \n",
       "1            1.5           Asia  \n",
       "2            2.8  South America  \n",
       "3            2.2         Europe  \n",
       "4            1.7         Europe  "
      ]
     },
     "execution_count": 15,
     "metadata": {},
     "output_type": "execute_result"
    }
   ],
   "source": [
    "#hide\n",
    "df_table = (pd.DataFrame(dict(Cases=dfc_cases, Deaths=dfc_deaths, PCases=dfp_cases, PDeaths=dfp_deaths))\n",
    "             .sort_values(by=['Cases', 'Deaths'], ascending=[False, False])\n",
    "             .reset_index())\n",
    "df_table.rename(columns={'index': 'Country/Region'}, inplace=True)\n",
    "for c in 'Cases, Deaths'.split(', '):\n",
    "    df_table[f'{c} (+)'] = (df_table[c] - df_table[f'P{c}']).clip(0)  # DATA BUG\n",
    "df_table['Fatality Rate'] = (100 * df_table['Deaths'] / df_table['Cases']).round(1)\n",
    "df_table['Continent'] = df_table['Country/Region'].map(mapping['map.continent'])\n",
    "df_table.head(5)"
   ]
  },
  {
   "cell_type": "code",
   "execution_count": 16,
   "metadata": {
    "execution": {
     "iopub.execute_input": "2020-11-23T12:06:46.594815Z",
     "iopub.status.busy": "2020-11-23T12:06:46.594069Z",
     "iopub.status.idle": "2020-11-23T12:06:46.599635Z",
     "shell.execute_reply": "2020-11-23T12:06:46.600162Z"
    },
    "papermill": {
     "duration": 0.045363,
     "end_time": "2020-11-23T12:06:46.600307",
     "exception": false,
     "start_time": "2020-11-23T12:06:46.554944",
     "status": "completed"
    },
    "tags": []
   },
   "outputs": [],
   "source": [
    "#hide\n",
    "#delete problematic countries from table\n",
    "df_table = df_table[~df_table['Country/Region'].isin(['Cape Verde', 'Cruise Ship', 'Kosovo'])]"
   ]
  },
  {
   "cell_type": "code",
   "execution_count": 17,
   "metadata": {
    "execution": {
     "iopub.execute_input": "2020-11-23T12:06:46.682976Z",
     "iopub.status.busy": "2020-11-23T12:06:46.682304Z",
     "iopub.status.idle": "2020-11-23T12:06:46.691761Z",
     "shell.execute_reply": "2020-11-23T12:06:46.691168Z"
    },
    "papermill": {
     "duration": 0.057497,
     "end_time": "2020-11-23T12:06:46.691964",
     "exception": false,
     "start_time": "2020-11-23T12:06:46.634467",
     "status": "completed"
    },
    "tags": []
   },
   "outputs": [],
   "source": [
    "#hide\n",
    "metrics = [df_table.columns[index] for index in [1,2,5,6]]\n",
    "# s_china = df_table[df_table['Country/Region'].eq('China')][metrics].sum().add_prefix('China ')\n",
    "s_us = df_table[df_table['Country/Region'].eq('US')][metrics].sum().add_prefix('US ')\n",
    "s_eu = df_table[df_table['Continent'].eq('Europe')][metrics].sum().add_prefix('EU ')\n",
    "s_ind = df_table[df_table['Country/Region'].eq('India')][metrics].sum().add_prefix('India ')\n",
    "summary = {'updated': pd.to_datetime(dt_today), 'since': pd.to_datetime(dt_yday)}\n",
    "summary = {'updated': pd.to_datetime(dt_today), 'since': pd.to_datetime(dt_yday)}\n",
    "summary = {**summary, **df_table[metrics].sum(), **s_ind, **s_us, **s_eu}"
   ]
  },
  {
   "cell_type": "code",
   "execution_count": 18,
   "metadata": {
    "execution": {
     "iopub.execute_input": "2020-11-23T12:06:46.768936Z",
     "iopub.status.busy": "2020-11-23T12:06:46.768191Z",
     "iopub.status.idle": "2020-11-23T12:06:46.777212Z",
     "shell.execute_reply": "2020-11-23T12:06:46.777895Z"
    },
    "papermill": {
     "duration": 0.051302,
     "end_time": "2020-11-23T12:06:46.778055",
     "exception": false,
     "start_time": "2020-11-23T12:06:46.726753",
     "status": "completed"
    },
    "tags": []
   },
   "outputs": [],
   "source": [
    "#hide\n",
    "dft_ct_new_cases = dft_cases.groupby(COL_REGION)[dt_cols].sum().diff(axis=1).fillna(0).astype(int)"
   ]
  },
  {
   "cell_type": "code",
   "execution_count": 19,
   "metadata": {
    "execution": {
     "iopub.execute_input": "2020-11-23T12:06:46.853847Z",
     "iopub.status.busy": "2020-11-23T12:06:46.853156Z",
     "iopub.status.idle": "2020-11-23T12:06:46.855210Z",
     "shell.execute_reply": "2020-11-23T12:06:46.855761Z"
    },
    "papermill": {
     "duration": 0.042978,
     "end_time": "2020-11-23T12:06:46.855909",
     "exception": false,
     "start_time": "2020-11-23T12:06:46.812931",
     "status": "completed"
    },
    "tags": []
   },
   "outputs": [],
   "source": [
    "#hide\n",
    "everydaycases = dft_ct_new_cases.cumsum(axis=1)"
   ]
  },
  {
   "cell_type": "code",
   "execution_count": 20,
   "metadata": {
    "execution": {
     "iopub.execute_input": "2020-11-23T12:06:46.927712Z",
     "iopub.status.busy": "2020-11-23T12:06:46.927095Z",
     "iopub.status.idle": "2020-11-23T12:06:49.445341Z",
     "shell.execute_reply": "2020-11-23T12:06:49.444796Z"
    },
    "papermill": {
     "duration": 2.555318,
     "end_time": "2020-11-23T12:06:49.445517",
     "exception": false,
     "start_time": "2020-11-23T12:06:46.890199",
     "status": "completed"
    },
    "tags": []
   },
   "outputs": [],
   "source": [
    "#hide\n",
    "import pandas as pd\n",
    "import matplotlib.pyplot as plt\n",
    "import matplotlib.ticker as ticker\n",
    "import matplotlib.animation as animation\n",
    "from IPython.display import HTML"
   ]
  },
  {
   "cell_type": "code",
   "execution_count": 21,
   "metadata": {
    "execution": {
     "iopub.execute_input": "2020-11-23T12:06:49.522678Z",
     "iopub.status.busy": "2020-11-23T12:06:49.521936Z",
     "iopub.status.idle": "2020-11-23T12:06:49.527256Z",
     "shell.execute_reply": "2020-11-23T12:06:49.526726Z"
    },
    "papermill": {
     "duration": 0.045516,
     "end_time": "2020-11-23T12:06:49.527394",
     "exception": false,
     "start_time": "2020-11-23T12:06:49.481878",
     "status": "completed"
    },
    "tags": []
   },
   "outputs": [],
   "source": [
    "#hide\n",
    "t = everydaycases.stack()"
   ]
  },
  {
   "cell_type": "code",
   "execution_count": 22,
   "metadata": {
    "execution": {
     "iopub.execute_input": "2020-11-23T12:06:49.600788Z",
     "iopub.status.busy": "2020-11-23T12:06:49.600184Z",
     "iopub.status.idle": "2020-11-23T12:06:49.607141Z",
     "shell.execute_reply": "2020-11-23T12:06:49.607914Z"
    },
    "papermill": {
     "duration": 0.04594,
     "end_time": "2020-11-23T12:06:49.608047",
     "exception": false,
     "start_time": "2020-11-23T12:06:49.562107",
     "status": "completed"
    },
    "tags": []
   },
   "outputs": [],
   "source": [
    "#hide\n",
    "g = t.reset_index(['Country/Region'])"
   ]
  },
  {
   "cell_type": "code",
   "execution_count": 23,
   "metadata": {
    "execution": {
     "iopub.execute_input": "2020-11-23T12:06:49.679168Z",
     "iopub.status.busy": "2020-11-23T12:06:49.678585Z",
     "iopub.status.idle": "2020-11-23T12:06:49.680822Z",
     "shell.execute_reply": "2020-11-23T12:06:49.680308Z"
    },
    "papermill": {
     "duration": 0.039486,
     "end_time": "2020-11-23T12:06:49.680939",
     "exception": false,
     "start_time": "2020-11-23T12:06:49.641453",
     "status": "completed"
    },
    "tags": []
   },
   "outputs": [],
   "source": [
    "#hide\n",
    "g.index.name = 'date'"
   ]
  },
  {
   "cell_type": "code",
   "execution_count": 24,
   "metadata": {
    "execution": {
     "iopub.execute_input": "2020-11-23T12:06:49.752600Z",
     "iopub.status.busy": "2020-11-23T12:06:49.751808Z",
     "iopub.status.idle": "2020-11-23T12:06:49.755021Z",
     "shell.execute_reply": "2020-11-23T12:06:49.754448Z"
    },
    "papermill": {
     "duration": 0.040375,
     "end_time": "2020-11-23T12:06:49.755163",
     "exception": false,
     "start_time": "2020-11-23T12:06:49.714788",
     "status": "completed"
    },
    "tags": []
   },
   "outputs": [],
   "source": [
    "# #hide\n",
    "# g = g.reset_index(['date'])"
   ]
  },
  {
   "cell_type": "code",
   "execution_count": 25,
   "metadata": {
    "execution": {
     "iopub.execute_input": "2020-11-23T12:06:49.832293Z",
     "iopub.status.busy": "2020-11-23T12:06:49.831655Z",
     "iopub.status.idle": "2020-11-23T12:06:49.833780Z",
     "shell.execute_reply": "2020-11-23T12:06:49.834377Z"
    },
    "papermill": {
     "duration": 0.040666,
     "end_time": "2020-11-23T12:06:49.834573",
     "exception": false,
     "start_time": "2020-11-23T12:06:49.793907",
     "status": "completed"
    },
    "tags": []
   },
   "outputs": [],
   "source": [
    "#hide\n",
    "# g.head()"
   ]
  },
  {
   "cell_type": "code",
   "execution_count": 26,
   "metadata": {
    "execution": {
     "iopub.execute_input": "2020-11-23T12:06:49.908331Z",
     "iopub.status.busy": "2020-11-23T12:06:49.907715Z",
     "iopub.status.idle": "2020-11-23T12:06:49.909944Z",
     "shell.execute_reply": "2020-11-23T12:06:49.910509Z"
    },
    "papermill": {
     "duration": 0.040958,
     "end_time": "2020-11-23T12:06:49.910705",
     "exception": false,
     "start_time": "2020-11-23T12:06:49.869747",
     "status": "completed"
    },
    "tags": []
   },
   "outputs": [],
   "source": [
    "#hide\n",
    "# g.columns = ['date','country','cases']"
   ]
  },
  {
   "cell_type": "code",
   "execution_count": 27,
   "metadata": {
    "execution": {
     "iopub.execute_input": "2020-11-23T12:06:49.984046Z",
     "iopub.status.busy": "2020-11-23T12:06:49.983391Z",
     "iopub.status.idle": "2020-11-23T12:06:49.985280Z",
     "shell.execute_reply": "2020-11-23T12:06:49.985836Z"
    },
    "papermill": {
     "duration": 0.041626,
     "end_time": "2020-11-23T12:06:49.985986",
     "exception": false,
     "start_time": "2020-11-23T12:06:49.944360",
     "status": "completed"
    },
    "tags": []
   },
   "outputs": [],
   "source": [
    "#hide\n",
    "# g['continent'] = g.country"
   ]
  },
  {
   "cell_type": "code",
   "execution_count": 28,
   "metadata": {
    "execution": {
     "iopub.execute_input": "2020-11-23T12:06:50.059341Z",
     "iopub.status.busy": "2020-11-23T12:06:50.058747Z",
     "iopub.status.idle": "2020-11-23T12:06:50.060425Z",
     "shell.execute_reply": "2020-11-23T12:06:50.060953Z"
    },
    "papermill": {
     "duration": 0.039754,
     "end_time": "2020-11-23T12:06:50.061092",
     "exception": false,
     "start_time": "2020-11-23T12:06:50.021338",
     "status": "completed"
    },
    "tags": []
   },
   "outputs": [],
   "source": [
    "#hide\n",
    "# cols = list(g.columns.values)"
   ]
  },
  {
   "cell_type": "code",
   "execution_count": 29,
   "metadata": {
    "execution": {
     "iopub.execute_input": "2020-11-23T12:06:50.134969Z",
     "iopub.status.busy": "2020-11-23T12:06:50.134106Z",
     "iopub.status.idle": "2020-11-23T12:06:50.136861Z",
     "shell.execute_reply": "2020-11-23T12:06:50.136227Z"
    },
    "papermill": {
     "duration": 0.041699,
     "end_time": "2020-11-23T12:06:50.137013",
     "exception": false,
     "start_time": "2020-11-23T12:06:50.095314",
     "status": "completed"
    },
    "tags": []
   },
   "outputs": [],
   "source": [
    "#hide\n",
    "# cols.insert(0, cols.pop())"
   ]
  },
  {
   "cell_type": "code",
   "execution_count": 30,
   "metadata": {
    "execution": {
     "iopub.execute_input": "2020-11-23T12:06:50.210410Z",
     "iopub.status.busy": "2020-11-23T12:06:50.209613Z",
     "iopub.status.idle": "2020-11-23T12:06:50.211630Z",
     "shell.execute_reply": "2020-11-23T12:06:50.212125Z"
    },
    "papermill": {
     "duration": 0.040646,
     "end_time": "2020-11-23T12:06:50.212314",
     "exception": false,
     "start_time": "2020-11-23T12:06:50.171668",
     "status": "completed"
    },
    "tags": []
   },
   "outputs": [],
   "source": [
    "#hide\n",
    "# g = g[cols]"
   ]
  },
  {
   "cell_type": "code",
   "execution_count": 31,
   "metadata": {
    "execution": {
     "iopub.execute_input": "2020-11-23T12:06:50.288548Z",
     "iopub.status.busy": "2020-11-23T12:06:50.287894Z",
     "iopub.status.idle": "2020-11-23T12:06:50.290577Z",
     "shell.execute_reply": "2020-11-23T12:06:50.289867Z"
    },
    "papermill": {
     "duration": 0.042077,
     "end_time": "2020-11-23T12:06:50.290729",
     "exception": false,
     "start_time": "2020-11-23T12:06:50.248652",
     "status": "completed"
    },
    "tags": []
   },
   "outputs": [],
   "source": [
    "#hide\n",
    "# g['continent'] = g['continent'].map(mapping['map.continent'])"
   ]
  },
  {
   "cell_type": "code",
   "execution_count": 32,
   "metadata": {
    "execution": {
     "iopub.execute_input": "2020-11-23T12:06:50.365333Z",
     "iopub.status.busy": "2020-11-23T12:06:50.364610Z",
     "iopub.status.idle": "2020-11-23T12:06:50.366920Z",
     "shell.execute_reply": "2020-11-23T12:06:50.367441Z"
    },
    "papermill": {
     "duration": 0.041198,
     "end_time": "2020-11-23T12:06:50.367586",
     "exception": false,
     "start_time": "2020-11-23T12:06:50.326388",
     "status": "completed"
    },
    "tags": []
   },
   "outputs": [],
   "source": [
    "#hide\n",
    "# g.head()"
   ]
  },
  {
   "cell_type": "code",
   "execution_count": 33,
   "metadata": {
    "execution": {
     "iopub.execute_input": "2020-11-23T12:06:50.441999Z",
     "iopub.status.busy": "2020-11-23T12:06:50.441224Z",
     "iopub.status.idle": "2020-11-23T12:06:50.443832Z",
     "shell.execute_reply": "2020-11-23T12:06:50.443291Z"
    },
    "papermill": {
     "duration": 0.041831,
     "end_time": "2020-11-23T12:06:50.443959",
     "exception": false,
     "start_time": "2020-11-23T12:06:50.402128",
     "status": "completed"
    },
    "tags": []
   },
   "outputs": [],
   "source": [
    "# hide\n",
    "# g['date'] = g['date'].astype('datetime64[ns]')"
   ]
  },
  {
   "cell_type": "code",
   "execution_count": 34,
   "metadata": {
    "execution": {
     "iopub.execute_input": "2020-11-23T12:06:50.519868Z",
     "iopub.status.busy": "2020-11-23T12:06:50.519210Z",
     "iopub.status.idle": "2020-11-23T12:06:50.522375Z",
     "shell.execute_reply": "2020-11-23T12:06:50.521619Z"
    },
    "papermill": {
     "duration": 0.044016,
     "end_time": "2020-11-23T12:06:50.522517",
     "exception": false,
     "start_time": "2020-11-23T12:06:50.478501",
     "status": "completed"
    },
    "tags": []
   },
   "outputs": [],
   "source": [
    "#hide\n",
    "# g['date'] = g.date.dt.dayofyear"
   ]
  },
  {
   "cell_type": "code",
   "execution_count": 35,
   "metadata": {
    "execution": {
     "iopub.execute_input": "2020-11-23T12:06:50.600551Z",
     "iopub.status.busy": "2020-11-23T12:06:50.599931Z",
     "iopub.status.idle": "2020-11-23T12:06:50.602754Z",
     "shell.execute_reply": "2020-11-23T12:06:50.601994Z"
    },
    "papermill": {
     "duration": 0.040407,
     "end_time": "2020-11-23T12:06:50.602882",
     "exception": false,
     "start_time": "2020-11-23T12:06:50.562475",
     "status": "completed"
    },
    "tags": []
   },
   "outputs": [],
   "source": [
    "#hide\n",
    "# g = g.rename(columns= {'continent':'group','country':'name','cases':'value'})"
   ]
  },
  {
   "cell_type": "code",
   "execution_count": 36,
   "metadata": {
    "execution": {
     "iopub.execute_input": "2020-11-23T12:06:50.674366Z",
     "iopub.status.busy": "2020-11-23T12:06:50.673492Z",
     "iopub.status.idle": "2020-11-23T12:06:50.676083Z",
     "shell.execute_reply": "2020-11-23T12:06:50.676624Z"
    },
    "papermill": {
     "duration": 0.040539,
     "end_time": "2020-11-23T12:06:50.676764",
     "exception": false,
     "start_time": "2020-11-23T12:06:50.636225",
     "status": "completed"
    },
    "tags": []
   },
   "outputs": [],
   "source": [
    "#hide\n",
    "# cols = ['name','group','day','value']"
   ]
  },
  {
   "cell_type": "code",
   "execution_count": 37,
   "metadata": {
    "execution": {
     "iopub.execute_input": "2020-11-23T12:06:50.747645Z",
     "iopub.status.busy": "2020-11-23T12:06:50.747018Z",
     "iopub.status.idle": "2020-11-23T12:06:50.749087Z",
     "shell.execute_reply": "2020-11-23T12:06:50.749640Z"
    },
    "papermill": {
     "duration": 0.039674,
     "end_time": "2020-11-23T12:06:50.749803",
     "exception": false,
     "start_time": "2020-11-23T12:06:50.710129",
     "status": "completed"
    },
    "tags": []
   },
   "outputs": [],
   "source": [
    "#hide\n",
    "# g.rename(columns= {'date':'day'},inplace = True)"
   ]
  },
  {
   "cell_type": "code",
   "execution_count": 38,
   "metadata": {
    "execution": {
     "iopub.execute_input": "2020-11-23T12:06:50.820444Z",
     "iopub.status.busy": "2020-11-23T12:06:50.819837Z",
     "iopub.status.idle": "2020-11-23T12:06:50.822027Z",
     "shell.execute_reply": "2020-11-23T12:06:50.822732Z"
    },
    "papermill": {
     "duration": 0.039181,
     "end_time": "2020-11-23T12:06:50.822864",
     "exception": false,
     "start_time": "2020-11-23T12:06:50.783683",
     "status": "completed"
    },
    "tags": []
   },
   "outputs": [],
   "source": [
    "#hide\n",
    "# g = g[cols]"
   ]
  },
  {
   "cell_type": "code",
   "execution_count": 39,
   "metadata": {
    "execution": {
     "iopub.execute_input": "2020-11-23T12:06:50.894593Z",
     "iopub.status.busy": "2020-11-23T12:06:50.893822Z",
     "iopub.status.idle": "2020-11-23T12:06:50.896111Z",
     "shell.execute_reply": "2020-11-23T12:06:50.895615Z"
    },
    "papermill": {
     "duration": 0.03969,
     "end_time": "2020-11-23T12:06:50.896234",
     "exception": false,
     "start_time": "2020-11-23T12:06:50.856544",
     "status": "completed"
    },
    "tags": []
   },
   "outputs": [],
   "source": [
    "# #hide\n",
    "# g = g[g.group.notna()]"
   ]
  },
  {
   "cell_type": "code",
   "execution_count": 40,
   "metadata": {
    "execution": {
     "iopub.execute_input": "2020-11-23T12:06:50.965227Z",
     "iopub.status.busy": "2020-11-23T12:06:50.964635Z",
     "iopub.status.idle": "2020-11-23T12:06:50.967512Z",
     "shell.execute_reply": "2020-11-23T12:06:50.967006Z"
    },
    "papermill": {
     "duration": 0.038659,
     "end_time": "2020-11-23T12:06:50.967625",
     "exception": false,
     "start_time": "2020-11-23T12:06:50.928966",
     "status": "completed"
    },
    "tags": []
   },
   "outputs": [],
   "source": [
    "# #hide\n",
    "# colors = dict(zip(\n",
    "#     [\"Oceania\", \"Europe\", \"Asia\", \"South America\", \"Middle East\", \"North America\", \"Africa\"],\n",
    "#     [\"#adb0ff\", \"#ffb3ff\", \"#90d595\", \"#e48381\", \"#aafbff\", \"#f7bb5f\", \"#eafb50\"]\n",
    "# ))\n",
    "# group_lk = g.set_index('name')['group'].to_dict()"
   ]
  },
  {
   "cell_type": "code",
   "execution_count": null,
   "metadata": {
    "papermill": {
     "duration": 0.038024,
     "end_time": "2020-11-23T12:06:51.039503",
     "exception": false,
     "start_time": "2020-11-23T12:06:51.001479",
     "status": "completed"
    },
    "tags": []
   },
   "outputs": [],
   "source": []
  },
  {
   "cell_type": "code",
   "execution_count": 41,
   "metadata": {
    "execution": {
     "iopub.execute_input": "2020-11-23T12:06:51.111039Z",
     "iopub.status.busy": "2020-11-23T12:06:51.110253Z",
     "iopub.status.idle": "2020-11-23T12:06:51.113085Z",
     "shell.execute_reply": "2020-11-23T12:06:51.112330Z"
    },
    "papermill": {
     "duration": 0.039152,
     "end_time": "2020-11-23T12:06:51.113240",
     "exception": false,
     "start_time": "2020-11-23T12:06:51.074088",
     "status": "completed"
    },
    "tags": []
   },
   "outputs": [],
   "source": [
    "# #hide\n",
    "# fig, ax = plt.subplots(figsize=(15, 8))\n",
    "\n",
    "# def draw_barchart(current_day):\n",
    "#     dff = g[g['day'].eq(current_day)].sort_values(by='value', ascending=True).tail(10)\n",
    "#     ax.clear()\n",
    "#     ax.barh(dff['name'], dff['value'], color=[colors[group_lk[x]] for x in dff['name']])\n",
    "#     dx = dff['value'].max() / 200\n",
    "    \n",
    "#     for i, (value, name) in enumerate(zip(dff['value'], dff['name'])):\n",
    "#         ax.text(value-dx, i,     name,           size=14, weight=600, ha='right', va='bottom')\n",
    "#         ax.text(value-dx, i-.25, group_lk[name], size=10, color='#444444', ha='right', va='baseline')\n",
    "#         ax.text(value+dx, i,     f'{value:,.0f}',  size=14, ha='left',  va='center')\n",
    "#     ax.text(1, 0.4, current_day, transform=ax.transAxes, color='#777777', size=46, ha='right', weight=800)\n",
    "#     ax.text(0, 1.06, 'Population (thousands)', transform=ax.transAxes, size=12, color='#777777')\n",
    "#     ax.xaxis.set_major_formatter(ticker.StrMethodFormatter('{x:,.0f}'))\n",
    "#     ax.xaxis.set_ticks_position('top')\n",
    "#     ax.tick_params(axis='x', colors='#777777', labelsize=12)\n",
    "#     ax.set_yticks([])\n",
    "#     ax.margins(0, 0.01)\n",
    "#     ax.grid(which='major', axis='x', linestyle='-')\n",
    "#     ax.set_axisbelow(True)\n",
    "    \n",
    "#     ax.text(0, 1.15, 'Coronavirus',\n",
    "#             transform=ax.transAxes, size=24, weight=600, ha='left', va='top')\n",
    "# #     ax.text(1, 0, 'by @pratapvardhan; credit @jburnmurdoch', transform=ax.transAxes, color='#777777', ha='right',\n",
    "# #             bbox=dict(facecolor='white', alpha=0.8, edgecolor='white'))\n",
    "#     plt.box(False)"
   ]
  },
  {
   "cell_type": "code",
   "execution_count": 42,
   "metadata": {
    "execution": {
     "iopub.execute_input": "2020-11-23T12:06:51.181907Z",
     "iopub.status.busy": "2020-11-23T12:06:51.181218Z",
     "iopub.status.idle": "2020-11-23T12:06:51.183397Z",
     "shell.execute_reply": "2020-11-23T12:06:51.183904Z"
    },
    "papermill": {
     "duration": 0.038712,
     "end_time": "2020-11-23T12:06:51.184035",
     "exception": false,
     "start_time": "2020-11-23T12:06:51.145323",
     "status": "completed"
    },
    "tags": []
   },
   "outputs": [],
   "source": [
    "# #hide_input\n",
    "# fig, ax = plt.subplots(figsize=(15, 8))\n",
    "# animator = animation.FuncAnimation(fig, draw_barchart, frames=range(g.day.values.min(), g.day.values.max()))\n",
    "# HTML(animator.to_jshtml())\n",
    "# # or use animator.to_html5_video() or animator.save() "
   ]
  },
  {
   "cell_type": "code",
   "execution_count": null,
   "metadata": {
    "papermill": {
     "duration": 0.032809,
     "end_time": "2020-11-23T12:06:51.251731",
     "exception": false,
     "start_time": "2020-11-23T12:06:51.218922",
     "status": "completed"
    },
    "tags": []
   },
   "outputs": [],
   "source": []
  },
  {
   "cell_type": "code",
   "execution_count": null,
   "metadata": {
    "papermill": {
     "duration": 0.037155,
     "end_time": "2020-11-23T12:06:51.323198",
     "exception": false,
     "start_time": "2020-11-23T12:06:51.286043",
     "status": "completed"
    },
    "tags": []
   },
   "outputs": [],
   "source": []
  },
  {
   "cell_type": "code",
   "execution_count": null,
   "metadata": {
    "papermill": {
     "duration": 0.034405,
     "end_time": "2020-11-23T12:06:51.392920",
     "exception": false,
     "start_time": "2020-11-23T12:06:51.358515",
     "status": "completed"
    },
    "tags": []
   },
   "outputs": [],
   "source": []
  }
 ],
 "metadata": {
  "kernelspec": {
   "display_name": "Python 3",
   "language": "python",
   "name": "python3"
  },
  "language_info": {
   "codemirror_mode": {
    "name": "ipython",
    "version": 3
   },
   "file_extension": ".py",
   "mimetype": "text/x-python",
   "name": "python",
   "nbconvert_exporter": "python",
   "pygments_lexer": "ipython3",
   "version": "3.6.12"
  },
  "papermill": {
   "duration": 8.22728,
   "end_time": "2020-11-23T12:06:51.734642",
   "environment_variables": {},
   "exception": null,
   "input_path": "2020-03-21-covid19exp.ipynb",
   "output_path": "2020-03-21-covid19exp.ipynb",
   "parameters": {},
   "start_time": "2020-11-23T12:06:43.507362",
   "version": "2.0.0"
  }
 },
 "nbformat": 4,
 "nbformat_minor": 4
}