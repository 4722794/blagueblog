{
 "cells": [
  {
   "cell_type": "markdown",
   "id": "muslim-click",
   "metadata": {
    "papermill": {
     "duration": 0.041821,
     "end_time": "2021-02-01T12:08:02.605851",
     "exception": false,
     "start_time": "2021-02-01T12:08:02.564030",
     "status": "completed"
    },
    "tags": []
   },
   "source": [
    "# COVID-19 Case Race\n",
    "> A race chart to see rising cases around the world\n",
    "\n",
    "- author: Hargun Oberoi\n",
    "- image: images/covid-overview.png\n",
    "- hide: false\n",
    "- badges: false"
   ]
  },
  {
   "cell_type": "code",
   "execution_count": 1,
   "id": "proof-material",
   "metadata": {
    "execution": {
     "iopub.execute_input": "2021-02-01T12:08:02.697721Z",
     "iopub.status.busy": "2021-02-01T12:08:02.697090Z",
     "iopub.status.idle": "2021-02-01T12:08:03.048072Z",
     "shell.execute_reply": "2021-02-01T12:08:03.047380Z"
    },
    "papermill": {
     "duration": 0.406304,
     "end_time": "2021-02-01T12:08:03.048228",
     "exception": false,
     "start_time": "2021-02-01T12:08:02.641924",
     "status": "completed"
    },
    "tags": []
   },
   "outputs": [],
   "source": [
    "#hide\n",
    "import numpy as np\n",
    "import pandas as pd\n",
    "from jinja2 import Template\n",
    "from IPython.display import HTML"
   ]
  },
  {
   "cell_type": "code",
   "execution_count": 2,
   "id": "developed-terminology",
   "metadata": {
    "execution": {
     "iopub.execute_input": "2021-02-01T12:08:03.137577Z",
     "iopub.status.busy": "2021-02-01T12:08:03.136845Z",
     "iopub.status.idle": "2021-02-01T12:08:03.140321Z",
     "shell.execute_reply": "2021-02-01T12:08:03.139745Z"
    },
    "papermill": {
     "duration": 0.044431,
     "end_time": "2021-02-01T12:08:03.140462",
     "exception": false,
     "start_time": "2021-02-01T12:08:03.096031",
     "status": "completed"
    },
    "tags": []
   },
   "outputs": [],
   "source": [
    "#hide\n",
    "\n",
    "# FETCH\n",
    "base_url = 'https://raw.githubusercontent.com/pratapvardhan/notebooks/master/covid19/'\n",
    "paths = {\n",
    "    'mapping': base_url + 'mapping_countries.csv',\n",
    "    'overview': base_url + 'overview.tpl'\n",
    "}"
   ]
  },
  {
   "cell_type": "code",
   "execution_count": 3,
   "id": "dynamic-saver",
   "metadata": {
    "execution": {
     "iopub.execute_input": "2021-02-01T12:08:03.226427Z",
     "iopub.status.busy": "2021-02-01T12:08:03.225677Z",
     "iopub.status.idle": "2021-02-01T12:08:03.228348Z",
     "shell.execute_reply": "2021-02-01T12:08:03.229003Z"
    },
    "papermill": {
     "duration": 0.052412,
     "end_time": "2021-02-01T12:08:03.229145",
     "exception": false,
     "start_time": "2021-02-01T12:08:03.176733",
     "status": "completed"
    },
    "tags": []
   },
   "outputs": [
    {
     "data": {
      "text/plain": [
       "'https://raw.githubusercontent.com/pratapvardhan/notebooks/master/covid19/mapping_countries.csv'"
      ]
     },
     "execution_count": 3,
     "metadata": {},
     "output_type": "execute_result"
    }
   ],
   "source": [
    "#hide\n",
    "paths['mapping']"
   ]
  },
  {
   "cell_type": "code",
   "execution_count": 4,
   "id": "urban-software",
   "metadata": {
    "execution": {
     "iopub.execute_input": "2021-02-01T12:08:03.314696Z",
     "iopub.status.busy": "2021-02-01T12:08:03.313908Z",
     "iopub.status.idle": "2021-02-01T12:08:03.316479Z",
     "shell.execute_reply": "2021-02-01T12:08:03.315914Z"
    },
    "papermill": {
     "duration": 0.049051,
     "end_time": "2021-02-01T12:08:03.316605",
     "exception": false,
     "start_time": "2021-02-01T12:08:03.267554",
     "status": "completed"
    },
    "tags": []
   },
   "outputs": [],
   "source": [
    "#hide\n",
    "def get_mappings(url):\n",
    "    df = pd.read_csv(url)\n",
    "    return {\n",
    "        'df': df,\n",
    "        'replace.country': dict(df.dropna(subset=['Name']).set_index('Country')['Name']),\n",
    "        'map.continent': dict(df.set_index('Name')['Continent'])\n",
    "    }"
   ]
  },
  {
   "cell_type": "code",
   "execution_count": 5,
   "id": "intimate-machinery",
   "metadata": {
    "execution": {
     "iopub.execute_input": "2021-02-01T12:08:03.397277Z",
     "iopub.status.busy": "2021-02-01T12:08:03.396530Z",
     "iopub.status.idle": "2021-02-01T12:08:03.444373Z",
     "shell.execute_reply": "2021-02-01T12:08:03.443231Z"
    },
    "papermill": {
     "duration": 0.090367,
     "end_time": "2021-02-01T12:08:03.444522",
     "exception": false,
     "start_time": "2021-02-01T12:08:03.354155",
     "status": "completed"
    },
    "tags": []
   },
   "outputs": [],
   "source": [
    "#hide\n",
    "mapping = get_mappings(paths['mapping'])"
   ]
  },
  {
   "cell_type": "code",
   "execution_count": 6,
   "id": "certified-tactics",
   "metadata": {
    "execution": {
     "iopub.execute_input": "2021-02-01T12:08:03.525320Z",
     "iopub.status.busy": "2021-02-01T12:08:03.524512Z",
     "iopub.status.idle": "2021-02-01T12:08:03.526941Z",
     "shell.execute_reply": "2021-02-01T12:08:03.526331Z"
    },
    "papermill": {
     "duration": 0.04516,
     "end_time": "2021-02-01T12:08:03.527071",
     "exception": false,
     "start_time": "2021-02-01T12:08:03.481911",
     "status": "completed"
    },
    "tags": []
   },
   "outputs": [],
   "source": [
    "#hide\n",
    "def get_template(path):\n",
    "    from urllib.parse import urlparse\n",
    "    if bool(urlparse(path).netloc):\n",
    "        from urllib.request import urlopen\n",
    "        return urlopen(path).read().decode('utf8')\n",
    "    return open(path).read()"
   ]
  },
  {
   "cell_type": "code",
   "execution_count": 7,
   "id": "realistic-blast",
   "metadata": {
    "execution": {
     "iopub.execute_input": "2021-02-01T12:08:03.605032Z",
     "iopub.status.busy": "2021-02-01T12:08:03.604313Z",
     "iopub.status.idle": "2021-02-01T12:08:03.606898Z",
     "shell.execute_reply": "2021-02-01T12:08:03.606338Z"
    },
    "papermill": {
     "duration": 0.044456,
     "end_time": "2021-02-01T12:08:03.607046",
     "exception": false,
     "start_time": "2021-02-01T12:08:03.562590",
     "status": "completed"
    },
    "tags": []
   },
   "outputs": [],
   "source": [
    "#hide\n",
    "def get_frame(name):\n",
    "    url = (\n",
    "        'https://raw.githubusercontent.com/CSSEGISandData/COVID-19/master/csse_covid_19_data/'\n",
    "        f'csse_covid_19_time_series/time_series_covid19_{name}_global.csv')\n",
    "    df = pd.read_csv(url)\n",
    "    # rename countries\n",
    "    df['Country/Region'] = df['Country/Region'].replace(mapping['replace.country'])\n",
    "    return df"
   ]
  },
  {
   "cell_type": "code",
   "execution_count": 8,
   "id": "affiliated-characterization",
   "metadata": {
    "execution": {
     "iopub.execute_input": "2021-02-01T12:08:03.687605Z",
     "iopub.status.busy": "2021-02-01T12:08:03.686959Z",
     "iopub.status.idle": "2021-02-01T12:08:03.689689Z",
     "shell.execute_reply": "2021-02-01T12:08:03.689117Z"
    },
    "papermill": {
     "duration": 0.045312,
     "end_time": "2021-02-01T12:08:03.689825",
     "exception": false,
     "start_time": "2021-02-01T12:08:03.644513",
     "status": "completed"
    },
    "tags": []
   },
   "outputs": [],
   "source": [
    "#hide\n",
    "def get_dates(df):\n",
    "    dt_cols = df.columns[~df.columns.isin(['Province/State', 'Country/Region', 'Lat', 'Long'])]\n",
    "    LAST_DATE_I = -1\n",
    "    # sometimes last column may be empty, then go backwards\n",
    "    for i in range(-1, -len(dt_cols), -1):\n",
    "        if not df[dt_cols[i]].fillna(0).eq(0).all():\n",
    "            LAST_DATE_I = i\n",
    "            break\n",
    "    return LAST_DATE_I, dt_cols"
   ]
  },
  {
   "cell_type": "code",
   "execution_count": 9,
   "id": "recent-optimization",
   "metadata": {
    "execution": {
     "iopub.execute_input": "2021-02-01T12:08:03.769611Z",
     "iopub.status.busy": "2021-02-01T12:08:03.768885Z",
     "iopub.status.idle": "2021-02-01T12:08:04.117557Z",
     "shell.execute_reply": "2021-02-01T12:08:04.118074Z"
    },
    "papermill": {
     "duration": 0.39312,
     "end_time": "2021-02-01T12:08:04.118222",
     "exception": false,
     "start_time": "2021-02-01T12:08:03.725102",
     "status": "completed"
    },
    "tags": []
   },
   "outputs": [],
   "source": [
    "#hide\n",
    "COL_REGION = 'Country/Region'\n",
    "# Confirmed, Recovered, Deaths\n",
    "df = get_frame('confirmed')\n",
    "# dft_: timeseries, dfc_: today country agg\n",
    "dft_cases = df\n",
    "dft_deaths = get_frame('deaths')\n",
    "dft_recovered = get_frame('recovered')\n",
    "LAST_DATE_I, dt_cols = get_dates(df)"
   ]
  },
  {
   "cell_type": "code",
   "execution_count": 10,
   "id": "absolute-copper",
   "metadata": {
    "execution": {
     "iopub.execute_input": "2021-02-01T12:08:04.198197Z",
     "iopub.status.busy": "2021-02-01T12:08:04.197404Z",
     "iopub.status.idle": "2021-02-01T12:08:04.200209Z",
     "shell.execute_reply": "2021-02-01T12:08:04.199716Z"
    },
    "papermill": {
     "duration": 0.046317,
     "end_time": "2021-02-01T12:08:04.200376",
     "exception": false,
     "start_time": "2021-02-01T12:08:04.154059",
     "status": "completed"
    },
    "tags": []
   },
   "outputs": [],
   "source": [
    "#hide\n",
    "LAST_DATE_I, dt_cols = get_dates(df)\n",
    "dt_today =dt_cols[LAST_DATE_I]\n",
    "# dt_5day = dt_cols[LAST_DATE_I - 5]\n",
    "dt_yday = dt_cols[LAST_DATE_I - 1]"
   ]
  },
  {
   "cell_type": "code",
   "execution_count": 11,
   "id": "restricted-sheriff",
   "metadata": {
    "execution": {
     "iopub.execute_input": "2021-02-01T12:08:04.303185Z",
     "iopub.status.busy": "2021-02-01T12:08:04.301467Z",
     "iopub.status.idle": "2021-02-01T12:08:04.311387Z",
     "shell.execute_reply": "2021-02-01T12:08:04.312027Z"
    },
    "papermill": {
     "duration": 0.06687,
     "end_time": "2021-02-01T12:08:04.312248",
     "exception": false,
     "start_time": "2021-02-01T12:08:04.245378",
     "status": "completed"
    },
    "tags": []
   },
   "outputs": [],
   "source": [
    "#hide\n",
    "dfc_cases = dft_cases.groupby(COL_REGION)[dt_today].sum()\n",
    "dfc_deaths = dft_deaths.groupby(COL_REGION)[dt_today].sum()\n",
    "# dfp_cases = dft_cases.groupby(COL_REGION)[dt_5day].sum()\n",
    "# dfp_deaths = dft_deaths.groupby(COL_REGION)[dt_5day].sum()\n",
    "dfp_cases = dft_cases.groupby(COL_REGION)[dt_yday].sum()\n",
    "dfp_deaths = dft_deaths.groupby(COL_REGION)[dt_yday].sum()"
   ]
  },
  {
   "cell_type": "code",
   "execution_count": 12,
   "id": "deluxe-hepatitis",
   "metadata": {
    "execution": {
     "iopub.execute_input": "2021-02-01T12:08:04.401430Z",
     "iopub.status.busy": "2021-02-01T12:08:04.400088Z",
     "iopub.status.idle": "2021-02-01T12:08:04.405126Z",
     "shell.execute_reply": "2021-02-01T12:08:04.404392Z"
    },
    "papermill": {
     "duration": 0.051694,
     "end_time": "2021-02-01T12:08:04.405287",
     "exception": false,
     "start_time": "2021-02-01T12:08:04.353593",
     "status": "completed"
    },
    "tags": []
   },
   "outputs": [],
   "source": [
    "#hide\n",
    "df_table = (pd.DataFrame(dict(Cases = dfc_cases, Deaths = dfc_deaths, PCases = dfp_cases, PDeaths = dfp_deaths))\n",
    "            .sort_values(by = ['Cases','Deaths'], ascending = [False, False])\n",
    "            .reset_index())"
   ]
  },
  {
   "cell_type": "code",
   "execution_count": 13,
   "id": "educational-chancellor",
   "metadata": {
    "execution": {
     "iopub.execute_input": "2021-02-01T12:08:04.506711Z",
     "iopub.status.busy": "2021-02-01T12:08:04.504761Z",
     "iopub.status.idle": "2021-02-01T12:08:04.514509Z",
     "shell.execute_reply": "2021-02-01T12:08:04.513917Z"
    },
    "papermill": {
     "duration": 0.067682,
     "end_time": "2021-02-01T12:08:04.514651",
     "exception": false,
     "start_time": "2021-02-01T12:08:04.446969",
     "status": "completed"
    },
    "tags": []
   },
   "outputs": [
    {
     "data": {
      "text/html": [
       "<div>\n",
       "<style scoped>\n",
       "    .dataframe tbody tr th:only-of-type {\n",
       "        vertical-align: middle;\n",
       "    }\n",
       "\n",
       "    .dataframe tbody tr th {\n",
       "        vertical-align: top;\n",
       "    }\n",
       "\n",
       "    .dataframe thead th {\n",
       "        text-align: right;\n",
       "    }\n",
       "</style>\n",
       "<table border=\"1\" class=\"dataframe\">\n",
       "  <thead>\n",
       "    <tr style=\"text-align: right;\">\n",
       "      <th></th>\n",
       "      <th>Country/Region</th>\n",
       "      <th>Cases</th>\n",
       "      <th>Deaths</th>\n",
       "      <th>PCases</th>\n",
       "      <th>PDeaths</th>\n",
       "      <th>Cases (+)</th>\n",
       "      <th>Deaths (+)</th>\n",
       "      <th>Fatality Rate</th>\n",
       "      <th>Continent</th>\n",
       "    </tr>\n",
       "  </thead>\n",
       "  <tbody>\n",
       "    <tr>\n",
       "      <th>0</th>\n",
       "      <td>US</td>\n",
       "      <td>26186781</td>\n",
       "      <td>441324</td>\n",
       "      <td>26074885</td>\n",
       "      <td>439530</td>\n",
       "      <td>111896</td>\n",
       "      <td>1794</td>\n",
       "      <td>1.69</td>\n",
       "      <td>North America</td>\n",
       "    </tr>\n",
       "    <tr>\n",
       "      <th>1</th>\n",
       "      <td>India</td>\n",
       "      <td>10757610</td>\n",
       "      <td>154392</td>\n",
       "      <td>10746174</td>\n",
       "      <td>154274</td>\n",
       "      <td>11436</td>\n",
       "      <td>118</td>\n",
       "      <td>1.44</td>\n",
       "      <td>Asia</td>\n",
       "    </tr>\n",
       "    <tr>\n",
       "      <th>2</th>\n",
       "      <td>Brazil</td>\n",
       "      <td>9204731</td>\n",
       "      <td>224504</td>\n",
       "      <td>9176975</td>\n",
       "      <td>223945</td>\n",
       "      <td>27756</td>\n",
       "      <td>559</td>\n",
       "      <td>2.44</td>\n",
       "      <td>South America</td>\n",
       "    </tr>\n",
       "    <tr>\n",
       "      <th>3</th>\n",
       "      <td>United Kingdom</td>\n",
       "      <td>3828183</td>\n",
       "      <td>106367</td>\n",
       "      <td>3806993</td>\n",
       "      <td>105777</td>\n",
       "      <td>21190</td>\n",
       "      <td>590</td>\n",
       "      <td>2.78</td>\n",
       "      <td>Europe</td>\n",
       "    </tr>\n",
       "    <tr>\n",
       "      <th>4</th>\n",
       "      <td>Russia</td>\n",
       "      <td>3808348</td>\n",
       "      <td>72029</td>\n",
       "      <td>3790265</td>\n",
       "      <td>71556</td>\n",
       "      <td>18083</td>\n",
       "      <td>473</td>\n",
       "      <td>1.89</td>\n",
       "      <td>Europe</td>\n",
       "    </tr>\n",
       "  </tbody>\n",
       "</table>\n",
       "</div>"
      ],
      "text/plain": [
       "   Country/Region     Cases  Deaths    PCases  PDeaths  Cases (+)  Deaths (+)  \\\n",
       "0              US  26186781  441324  26074885   439530     111896        1794   \n",
       "1           India  10757610  154392  10746174   154274      11436         118   \n",
       "2          Brazil   9204731  224504   9176975   223945      27756         559   \n",
       "3  United Kingdom   3828183  106367   3806993   105777      21190         590   \n",
       "4          Russia   3808348   72029   3790265    71556      18083         473   \n",
       "\n",
       "   Fatality Rate      Continent  \n",
       "0           1.69  North America  \n",
       "1           1.44           Asia  \n",
       "2           2.44  South America  \n",
       "3           2.78         Europe  \n",
       "4           1.89         Europe  "
      ]
     },
     "execution_count": 13,
     "metadata": {},
     "output_type": "execute_result"
    }
   ],
   "source": [
    "#hide\n",
    "for c in 'Cases, Deaths'.split(', '):\n",
    "    df_table[f'{c} (+)'] = (df_table[c] - df_table[f'P{c}']).clip(0)\n",
    "    #Clip ça veut dire, les chiffres negatif sont interdit\n",
    "df_table['Fatality Rate'] = (100* df_table['Deaths']/ df_table['Cases']).round(2)\n",
    "df_table['Continent'] = df_table['Country/Region'].map(mapping['map.continent'])\n",
    "df_table.head(5)"
   ]
  },
  {
   "cell_type": "code",
   "execution_count": 14,
   "id": "aboriginal-bulgaria",
   "metadata": {
    "execution": {
     "iopub.execute_input": "2021-02-01T12:08:04.594915Z",
     "iopub.status.busy": "2021-02-01T12:08:04.594319Z",
     "iopub.status.idle": "2021-02-01T12:08:04.596976Z",
     "shell.execute_reply": "2021-02-01T12:08:04.597614Z"
    },
    "papermill": {
     "duration": 0.045289,
     "end_time": "2021-02-01T12:08:04.597859",
     "exception": false,
     "start_time": "2021-02-01T12:08:04.552570",
     "status": "completed"
    },
    "tags": []
   },
   "outputs": [],
   "source": [
    "#hide\n",
    "#delete problematic countries from table\n",
    "df_table = df_table[~df_table['Country/Region'].isin(['Cape Verde', 'Cruise Ship', 'Kosovo'])]"
   ]
  },
  {
   "cell_type": "code",
   "execution_count": 15,
   "id": "fantastic-effect",
   "metadata": {
    "execution": {
     "iopub.execute_input": "2021-02-01T12:08:04.681306Z",
     "iopub.status.busy": "2021-02-01T12:08:04.680685Z",
     "iopub.status.idle": "2021-02-01T12:08:04.701224Z",
     "shell.execute_reply": "2021-02-01T12:08:04.701729Z"
    },
    "papermill": {
     "duration": 0.06686,
     "end_time": "2021-02-01T12:08:04.701956",
     "exception": false,
     "start_time": "2021-02-01T12:08:04.635096",
     "status": "completed"
    },
    "tags": []
   },
   "outputs": [
    {
     "data": {
      "text/html": [
       "<div>\n",
       "<style scoped>\n",
       "    .dataframe tbody tr th:only-of-type {\n",
       "        vertical-align: middle;\n",
       "    }\n",
       "\n",
       "    .dataframe tbody tr th {\n",
       "        vertical-align: top;\n",
       "    }\n",
       "\n",
       "    .dataframe thead th {\n",
       "        text-align: right;\n",
       "    }\n",
       "</style>\n",
       "<table border=\"1\" class=\"dataframe\">\n",
       "  <thead>\n",
       "    <tr style=\"text-align: right;\">\n",
       "      <th></th>\n",
       "      <th>Country/Region</th>\n",
       "      <th>Cases</th>\n",
       "      <th>Deaths</th>\n",
       "      <th>PCases</th>\n",
       "      <th>PDeaths</th>\n",
       "      <th>Cases (+)</th>\n",
       "      <th>Deaths (+)</th>\n",
       "      <th>Fatality Rate</th>\n",
       "      <th>Continent</th>\n",
       "    </tr>\n",
       "  </thead>\n",
       "  <tbody>\n",
       "    <tr>\n",
       "      <th>0</th>\n",
       "      <td>US</td>\n",
       "      <td>26186781</td>\n",
       "      <td>441324</td>\n",
       "      <td>26074885</td>\n",
       "      <td>439530</td>\n",
       "      <td>111896</td>\n",
       "      <td>1794</td>\n",
       "      <td>1.7</td>\n",
       "      <td>North America</td>\n",
       "    </tr>\n",
       "    <tr>\n",
       "      <th>1</th>\n",
       "      <td>India</td>\n",
       "      <td>10757610</td>\n",
       "      <td>154392</td>\n",
       "      <td>10746174</td>\n",
       "      <td>154274</td>\n",
       "      <td>11436</td>\n",
       "      <td>118</td>\n",
       "      <td>1.4</td>\n",
       "      <td>Asia</td>\n",
       "    </tr>\n",
       "    <tr>\n",
       "      <th>2</th>\n",
       "      <td>Brazil</td>\n",
       "      <td>9204731</td>\n",
       "      <td>224504</td>\n",
       "      <td>9176975</td>\n",
       "      <td>223945</td>\n",
       "      <td>27756</td>\n",
       "      <td>559</td>\n",
       "      <td>2.4</td>\n",
       "      <td>South America</td>\n",
       "    </tr>\n",
       "    <tr>\n",
       "      <th>3</th>\n",
       "      <td>United Kingdom</td>\n",
       "      <td>3828183</td>\n",
       "      <td>106367</td>\n",
       "      <td>3806993</td>\n",
       "      <td>105777</td>\n",
       "      <td>21190</td>\n",
       "      <td>590</td>\n",
       "      <td>2.8</td>\n",
       "      <td>Europe</td>\n",
       "    </tr>\n",
       "    <tr>\n",
       "      <th>4</th>\n",
       "      <td>Russia</td>\n",
       "      <td>3808348</td>\n",
       "      <td>72029</td>\n",
       "      <td>3790265</td>\n",
       "      <td>71556</td>\n",
       "      <td>18083</td>\n",
       "      <td>473</td>\n",
       "      <td>1.9</td>\n",
       "      <td>Europe</td>\n",
       "    </tr>\n",
       "  </tbody>\n",
       "</table>\n",
       "</div>"
      ],
      "text/plain": [
       "   Country/Region     Cases  Deaths    PCases  PDeaths  Cases (+)  Deaths (+)  \\\n",
       "0              US  26186781  441324  26074885   439530     111896        1794   \n",
       "1           India  10757610  154392  10746174   154274      11436         118   \n",
       "2          Brazil   9204731  224504   9176975   223945      27756         559   \n",
       "3  United Kingdom   3828183  106367   3806993   105777      21190         590   \n",
       "4          Russia   3808348   72029   3790265    71556      18083         473   \n",
       "\n",
       "   Fatality Rate      Continent  \n",
       "0            1.7  North America  \n",
       "1            1.4           Asia  \n",
       "2            2.4  South America  \n",
       "3            2.8         Europe  \n",
       "4            1.9         Europe  "
      ]
     },
     "execution_count": 15,
     "metadata": {},
     "output_type": "execute_result"
    }
   ],
   "source": [
    "#hide\n",
    "df_table = (pd.DataFrame(dict(Cases=dfc_cases, Deaths=dfc_deaths, PCases=dfp_cases, PDeaths=dfp_deaths))\n",
    "             .sort_values(by=['Cases', 'Deaths'], ascending=[False, False])\n",
    "             .reset_index())\n",
    "df_table.rename(columns={'index': 'Country/Region'}, inplace=True)\n",
    "for c in 'Cases, Deaths'.split(', '):\n",
    "    df_table[f'{c} (+)'] = (df_table[c] - df_table[f'P{c}']).clip(0)  # DATA BUG\n",
    "df_table['Fatality Rate'] = (100 * df_table['Deaths'] / df_table['Cases']).round(1)\n",
    "df_table['Continent'] = df_table['Country/Region'].map(mapping['map.continent'])\n",
    "df_table.head(5)"
   ]
  },
  {
   "cell_type": "code",
   "execution_count": 16,
   "id": "fewer-occasion",
   "metadata": {
    "execution": {
     "iopub.execute_input": "2021-02-01T12:08:04.786179Z",
     "iopub.status.busy": "2021-02-01T12:08:04.785430Z",
     "iopub.status.idle": "2021-02-01T12:08:04.789264Z",
     "shell.execute_reply": "2021-02-01T12:08:04.789837Z"
    },
    "papermill": {
     "duration": 0.051894,
     "end_time": "2021-02-01T12:08:04.789985",
     "exception": false,
     "start_time": "2021-02-01T12:08:04.738091",
     "status": "completed"
    },
    "tags": []
   },
   "outputs": [],
   "source": [
    "#hide\n",
    "#delete problematic countries from table\n",
    "df_table = df_table[~df_table['Country/Region'].isin(['Cape Verde', 'Cruise Ship', 'Kosovo'])]"
   ]
  },
  {
   "cell_type": "code",
   "execution_count": 17,
   "id": "related-center",
   "metadata": {
    "execution": {
     "iopub.execute_input": "2021-02-01T12:08:04.873513Z",
     "iopub.status.busy": "2021-02-01T12:08:04.872824Z",
     "iopub.status.idle": "2021-02-01T12:08:04.893152Z",
     "shell.execute_reply": "2021-02-01T12:08:04.893746Z"
    },
    "papermill": {
     "duration": 0.064521,
     "end_time": "2021-02-01T12:08:04.893896",
     "exception": false,
     "start_time": "2021-02-01T12:08:04.829375",
     "status": "completed"
    },
    "tags": []
   },
   "outputs": [],
   "source": [
    "#hide\n",
    "metrics = [df_table.columns[index] for index in [1,2,5,6]]\n",
    "# s_china = df_table[df_table['Country/Region'].eq('China')][metrics].sum().add_prefix('China ')\n",
    "s_us = df_table[df_table['Country/Region'].eq('US')][metrics].sum().add_prefix('US ')\n",
    "s_eu = df_table[df_table['Continent'].eq('Europe')][metrics].sum().add_prefix('EU ')\n",
    "s_ind = df_table[df_table['Country/Region'].eq('India')][metrics].sum().add_prefix('India ')\n",
    "summary = {'updated': pd.to_datetime(dt_today), 'since': pd.to_datetime(dt_yday)}\n",
    "summary = {'updated': pd.to_datetime(dt_today), 'since': pd.to_datetime(dt_yday)}\n",
    "summary = {**summary, **df_table[metrics].sum(), **s_ind, **s_us, **s_eu}"
   ]
  },
  {
   "cell_type": "code",
   "execution_count": 18,
   "id": "engaging-syndrome",
   "metadata": {
    "execution": {
     "iopub.execute_input": "2021-02-01T12:08:04.984573Z",
     "iopub.status.busy": "2021-02-01T12:08:04.983826Z",
     "iopub.status.idle": "2021-02-01T12:08:04.997404Z",
     "shell.execute_reply": "2021-02-01T12:08:04.996651Z"
    },
    "papermill": {
     "duration": 0.062877,
     "end_time": "2021-02-01T12:08:04.997549",
     "exception": false,
     "start_time": "2021-02-01T12:08:04.934672",
     "status": "completed"
    },
    "tags": []
   },
   "outputs": [],
   "source": [
    "#hide\n",
    "dft_ct_new_cases = dft_cases.groupby(COL_REGION)[dt_cols].sum().diff(axis=1).fillna(0).astype(int)"
   ]
  },
  {
   "cell_type": "code",
   "execution_count": 19,
   "id": "neutral-assignment",
   "metadata": {
    "execution": {
     "iopub.execute_input": "2021-02-01T12:08:05.087689Z",
     "iopub.status.busy": "2021-02-01T12:08:05.086943Z",
     "iopub.status.idle": "2021-02-01T12:08:05.089167Z",
     "shell.execute_reply": "2021-02-01T12:08:05.089749Z"
    },
    "papermill": {
     "duration": 0.051633,
     "end_time": "2021-02-01T12:08:05.089915",
     "exception": false,
     "start_time": "2021-02-01T12:08:05.038282",
     "status": "completed"
    },
    "tags": []
   },
   "outputs": [],
   "source": [
    "#hide\n",
    "everydaycases = dft_ct_new_cases.cumsum(axis=1)"
   ]
  },
  {
   "cell_type": "code",
   "execution_count": 20,
   "id": "parliamentary-calgary",
   "metadata": {
    "execution": {
     "iopub.execute_input": "2021-02-01T12:08:05.179433Z",
     "iopub.status.busy": "2021-02-01T12:08:05.178766Z",
     "iopub.status.idle": "2021-02-01T12:08:06.853616Z",
     "shell.execute_reply": "2021-02-01T12:08:06.854324Z"
    },
    "papermill": {
     "duration": 1.721845,
     "end_time": "2021-02-01T12:08:06.854492",
     "exception": false,
     "start_time": "2021-02-01T12:08:05.132647",
     "status": "completed"
    },
    "tags": []
   },
   "outputs": [],
   "source": [
    "#hide\n",
    "import pandas as pd\n",
    "import matplotlib.pyplot as plt\n",
    "import matplotlib.ticker as ticker\n",
    "import matplotlib.animation as animation\n",
    "from IPython.display import HTML"
   ]
  },
  {
   "cell_type": "code",
   "execution_count": 21,
   "id": "lasting-extraction",
   "metadata": {
    "execution": {
     "iopub.execute_input": "2021-02-01T12:08:06.935744Z",
     "iopub.status.busy": "2021-02-01T12:08:06.935127Z",
     "iopub.status.idle": "2021-02-01T12:08:06.940206Z",
     "shell.execute_reply": "2021-02-01T12:08:06.940816Z"
    },
    "papermill": {
     "duration": 0.047648,
     "end_time": "2021-02-01T12:08:06.940993",
     "exception": false,
     "start_time": "2021-02-01T12:08:06.893345",
     "status": "completed"
    },
    "tags": []
   },
   "outputs": [],
   "source": [
    "#hide\n",
    "t = everydaycases.stack()"
   ]
  },
  {
   "cell_type": "code",
   "execution_count": 22,
   "id": "premier-sleeve",
   "metadata": {
    "execution": {
     "iopub.execute_input": "2021-02-01T12:08:07.018683Z",
     "iopub.status.busy": "2021-02-01T12:08:07.018007Z",
     "iopub.status.idle": "2021-02-01T12:08:07.025079Z",
     "shell.execute_reply": "2021-02-01T12:08:07.025827Z"
    },
    "papermill": {
     "duration": 0.049583,
     "end_time": "2021-02-01T12:08:07.025968",
     "exception": false,
     "start_time": "2021-02-01T12:08:06.976385",
     "status": "completed"
    },
    "tags": []
   },
   "outputs": [],
   "source": [
    "#hide\n",
    "g = t.reset_index(['Country/Region'])"
   ]
  },
  {
   "cell_type": "code",
   "execution_count": 23,
   "id": "distributed-pittsburgh",
   "metadata": {
    "execution": {
     "iopub.execute_input": "2021-02-01T12:08:07.108902Z",
     "iopub.status.busy": "2021-02-01T12:08:07.108168Z",
     "iopub.status.idle": "2021-02-01T12:08:07.109880Z",
     "shell.execute_reply": "2021-02-01T12:08:07.110383Z"
    },
    "papermill": {
     "duration": 0.044593,
     "end_time": "2021-02-01T12:08:07.110528",
     "exception": false,
     "start_time": "2021-02-01T12:08:07.065935",
     "status": "completed"
    },
    "tags": []
   },
   "outputs": [],
   "source": [
    "#hide\n",
    "g.index.name = 'date'"
   ]
  },
  {
   "cell_type": "code",
   "execution_count": 24,
   "id": "naked-donor",
   "metadata": {
    "execution": {
     "iopub.execute_input": "2021-02-01T12:08:07.185597Z",
     "iopub.status.busy": "2021-02-01T12:08:07.185015Z",
     "iopub.status.idle": "2021-02-01T12:08:07.186910Z",
     "shell.execute_reply": "2021-02-01T12:08:07.187574Z"
    },
    "papermill": {
     "duration": 0.041782,
     "end_time": "2021-02-01T12:08:07.187696",
     "exception": false,
     "start_time": "2021-02-01T12:08:07.145914",
     "status": "completed"
    },
    "tags": []
   },
   "outputs": [],
   "source": [
    "# #hide\n",
    "# g = g.reset_index(['date'])"
   ]
  },
  {
   "cell_type": "code",
   "execution_count": 25,
   "id": "incomplete-mustang",
   "metadata": {
    "execution": {
     "iopub.execute_input": "2021-02-01T12:08:07.279021Z",
     "iopub.status.busy": "2021-02-01T12:08:07.278371Z",
     "iopub.status.idle": "2021-02-01T12:08:07.280354Z",
     "shell.execute_reply": "2021-02-01T12:08:07.280919Z"
    },
    "papermill": {
     "duration": 0.049418,
     "end_time": "2021-02-01T12:08:07.281095",
     "exception": false,
     "start_time": "2021-02-01T12:08:07.231677",
     "status": "completed"
    },
    "tags": []
   },
   "outputs": [],
   "source": [
    "#hide\n",
    "# g.head()"
   ]
  },
  {
   "cell_type": "code",
   "execution_count": 26,
   "id": "specific-kruger",
   "metadata": {
    "execution": {
     "iopub.execute_input": "2021-02-01T12:08:07.367978Z",
     "iopub.status.busy": "2021-02-01T12:08:07.367306Z",
     "iopub.status.idle": "2021-02-01T12:08:07.369115Z",
     "shell.execute_reply": "2021-02-01T12:08:07.369893Z"
    },
    "papermill": {
     "duration": 0.0459,
     "end_time": "2021-02-01T12:08:07.370122",
     "exception": false,
     "start_time": "2021-02-01T12:08:07.324222",
     "status": "completed"
    },
    "tags": []
   },
   "outputs": [],
   "source": [
    "#hide\n",
    "# g.columns = ['date','country','cases']"
   ]
  },
  {
   "cell_type": "code",
   "execution_count": 27,
   "id": "tender-conversion",
   "metadata": {
    "execution": {
     "iopub.execute_input": "2021-02-01T12:08:07.453907Z",
     "iopub.status.busy": "2021-02-01T12:08:07.453239Z",
     "iopub.status.idle": "2021-02-01T12:08:07.455171Z",
     "shell.execute_reply": "2021-02-01T12:08:07.455727Z"
    },
    "papermill": {
     "duration": 0.044714,
     "end_time": "2021-02-01T12:08:07.455882",
     "exception": false,
     "start_time": "2021-02-01T12:08:07.411168",
     "status": "completed"
    },
    "tags": []
   },
   "outputs": [],
   "source": [
    "#hide\n",
    "# g['continent'] = g.country"
   ]
  },
  {
   "cell_type": "code",
   "execution_count": 28,
   "id": "substantial-wilderness",
   "metadata": {
    "execution": {
     "iopub.execute_input": "2021-02-01T12:08:07.542057Z",
     "iopub.status.busy": "2021-02-01T12:08:07.541223Z",
     "iopub.status.idle": "2021-02-01T12:08:07.543023Z",
     "shell.execute_reply": "2021-02-01T12:08:07.543608Z"
    },
    "papermill": {
     "duration": 0.04503,
     "end_time": "2021-02-01T12:08:07.543750",
     "exception": false,
     "start_time": "2021-02-01T12:08:07.498720",
     "status": "completed"
    },
    "tags": []
   },
   "outputs": [],
   "source": [
    "#hide\n",
    "# cols = list(g.columns.values)"
   ]
  },
  {
   "cell_type": "code",
   "execution_count": 29,
   "id": "solved-farming",
   "metadata": {
    "execution": {
     "iopub.execute_input": "2021-02-01T12:08:07.624256Z",
     "iopub.status.busy": "2021-02-01T12:08:07.623644Z",
     "iopub.status.idle": "2021-02-01T12:08:07.625739Z",
     "shell.execute_reply": "2021-02-01T12:08:07.626213Z"
    },
    "papermill": {
     "duration": 0.045154,
     "end_time": "2021-02-01T12:08:07.626357",
     "exception": false,
     "start_time": "2021-02-01T12:08:07.581203",
     "status": "completed"
    },
    "tags": []
   },
   "outputs": [],
   "source": [
    "#hide\n",
    "# cols.insert(0, cols.pop())"
   ]
  },
  {
   "cell_type": "code",
   "execution_count": 30,
   "id": "executed-adoption",
   "metadata": {
    "execution": {
     "iopub.execute_input": "2021-02-01T12:08:07.719184Z",
     "iopub.status.busy": "2021-02-01T12:08:07.718436Z",
     "iopub.status.idle": "2021-02-01T12:08:07.720349Z",
     "shell.execute_reply": "2021-02-01T12:08:07.720916Z"
    },
    "papermill": {
     "duration": 0.045454,
     "end_time": "2021-02-01T12:08:07.721091",
     "exception": false,
     "start_time": "2021-02-01T12:08:07.675637",
     "status": "completed"
    },
    "tags": []
   },
   "outputs": [],
   "source": [
    "#hide\n",
    "# g = g[cols]"
   ]
  },
  {
   "cell_type": "code",
   "execution_count": 31,
   "id": "subject-dublin",
   "metadata": {
    "execution": {
     "iopub.execute_input": "2021-02-01T12:08:07.800744Z",
     "iopub.status.busy": "2021-02-01T12:08:07.800099Z",
     "iopub.status.idle": "2021-02-01T12:08:07.802135Z",
     "shell.execute_reply": "2021-02-01T12:08:07.803568Z"
    },
    "papermill": {
     "duration": 0.044745,
     "end_time": "2021-02-01T12:08:07.803812",
     "exception": false,
     "start_time": "2021-02-01T12:08:07.759067",
     "status": "completed"
    },
    "tags": []
   },
   "outputs": [],
   "source": [
    "#hide\n",
    "# g['continent'] = g['continent'].map(mapping['map.continent'])"
   ]
  },
  {
   "cell_type": "code",
   "execution_count": 32,
   "id": "freelance-scout",
   "metadata": {
    "execution": {
     "iopub.execute_input": "2021-02-01T12:08:07.881934Z",
     "iopub.status.busy": "2021-02-01T12:08:07.881235Z",
     "iopub.status.idle": "2021-02-01T12:08:07.883186Z",
     "shell.execute_reply": "2021-02-01T12:08:07.883763Z"
    },
    "papermill": {
     "duration": 0.044026,
     "end_time": "2021-02-01T12:08:07.883911",
     "exception": false,
     "start_time": "2021-02-01T12:08:07.839885",
     "status": "completed"
    },
    "tags": []
   },
   "outputs": [],
   "source": [
    "#hide\n",
    "# g.head()"
   ]
  },
  {
   "cell_type": "code",
   "execution_count": 33,
   "id": "limited-engine",
   "metadata": {
    "execution": {
     "iopub.execute_input": "2021-02-01T12:08:07.963971Z",
     "iopub.status.busy": "2021-02-01T12:08:07.963321Z",
     "iopub.status.idle": "2021-02-01T12:08:07.965357Z",
     "shell.execute_reply": "2021-02-01T12:08:07.965846Z"
    },
    "papermill": {
     "duration": 0.044203,
     "end_time": "2021-02-01T12:08:07.965979",
     "exception": false,
     "start_time": "2021-02-01T12:08:07.921776",
     "status": "completed"
    },
    "tags": []
   },
   "outputs": [],
   "source": [
    "# hide\n",
    "# g['date'] = g['date'].astype('datetime64[ns]')"
   ]
  },
  {
   "cell_type": "code",
   "execution_count": 34,
   "id": "sophisticated-supervisor",
   "metadata": {
    "execution": {
     "iopub.execute_input": "2021-02-01T12:08:08.051063Z",
     "iopub.status.busy": "2021-02-01T12:08:08.050359Z",
     "iopub.status.idle": "2021-02-01T12:08:08.052746Z",
     "shell.execute_reply": "2021-02-01T12:08:08.052092Z"
    },
    "papermill": {
     "duration": 0.04064,
     "end_time": "2021-02-01T12:08:08.052860",
     "exception": false,
     "start_time": "2021-02-01T12:08:08.012220",
     "status": "completed"
    },
    "tags": []
   },
   "outputs": [],
   "source": [
    "#hide\n",
    "# g['date'] = g.date.dt.dayofyear"
   ]
  },
  {
   "cell_type": "code",
   "execution_count": 35,
   "id": "inside-dubai",
   "metadata": {
    "execution": {
     "iopub.execute_input": "2021-02-01T12:08:08.128142Z",
     "iopub.status.busy": "2021-02-01T12:08:08.127331Z",
     "iopub.status.idle": "2021-02-01T12:08:08.129754Z",
     "shell.execute_reply": "2021-02-01T12:08:08.129284Z"
    },
    "papermill": {
     "duration": 0.040624,
     "end_time": "2021-02-01T12:08:08.129901",
     "exception": false,
     "start_time": "2021-02-01T12:08:08.089277",
     "status": "completed"
    },
    "tags": []
   },
   "outputs": [],
   "source": [
    "#hide\n",
    "# g = g.rename(columns= {'continent':'group','country':'name','cases':'value'})"
   ]
  },
  {
   "cell_type": "code",
   "execution_count": 36,
   "id": "fleet-motorcycle",
   "metadata": {
    "execution": {
     "iopub.execute_input": "2021-02-01T12:08:08.207051Z",
     "iopub.status.busy": "2021-02-01T12:08:08.206488Z",
     "iopub.status.idle": "2021-02-01T12:08:08.208875Z",
     "shell.execute_reply": "2021-02-01T12:08:08.209356Z"
    },
    "papermill": {
     "duration": 0.041792,
     "end_time": "2021-02-01T12:08:08.209482",
     "exception": false,
     "start_time": "2021-02-01T12:08:08.167690",
     "status": "completed"
    },
    "tags": []
   },
   "outputs": [],
   "source": [
    "#hide\n",
    "# cols = ['name','group','day','value']"
   ]
  },
  {
   "cell_type": "code",
   "execution_count": 37,
   "id": "continued-sleeping",
   "metadata": {
    "execution": {
     "iopub.execute_input": "2021-02-01T12:08:08.284544Z",
     "iopub.status.busy": "2021-02-01T12:08:08.283955Z",
     "iopub.status.idle": "2021-02-01T12:08:08.286072Z",
     "shell.execute_reply": "2021-02-01T12:08:08.285479Z"
    },
    "papermill": {
     "duration": 0.040882,
     "end_time": "2021-02-01T12:08:08.286337",
     "exception": false,
     "start_time": "2021-02-01T12:08:08.245455",
     "status": "completed"
    },
    "tags": []
   },
   "outputs": [],
   "source": [
    "#hide\n",
    "# g.rename(columns= {'date':'day'},inplace = True)"
   ]
  },
  {
   "cell_type": "code",
   "execution_count": 38,
   "id": "major-fight",
   "metadata": {
    "execution": {
     "iopub.execute_input": "2021-02-01T12:08:08.367986Z",
     "iopub.status.busy": "2021-02-01T12:08:08.367022Z",
     "iopub.status.idle": "2021-02-01T12:08:08.369296Z",
     "shell.execute_reply": "2021-02-01T12:08:08.369818Z"
    },
    "papermill": {
     "duration": 0.044925,
     "end_time": "2021-02-01T12:08:08.369947",
     "exception": false,
     "start_time": "2021-02-01T12:08:08.325022",
     "status": "completed"
    },
    "tags": []
   },
   "outputs": [],
   "source": [
    "#hide\n",
    "# g = g[cols]"
   ]
  },
  {
   "cell_type": "code",
   "execution_count": 39,
   "id": "structured-mobile",
   "metadata": {
    "execution": {
     "iopub.execute_input": "2021-02-01T12:08:08.446104Z",
     "iopub.status.busy": "2021-02-01T12:08:08.445445Z",
     "iopub.status.idle": "2021-02-01T12:08:08.448160Z",
     "shell.execute_reply": "2021-02-01T12:08:08.447674Z"
    },
    "papermill": {
     "duration": 0.041817,
     "end_time": "2021-02-01T12:08:08.448331",
     "exception": false,
     "start_time": "2021-02-01T12:08:08.406514",
     "status": "completed"
    },
    "tags": []
   },
   "outputs": [],
   "source": [
    "# #hide\n",
    "# g = g[g.group.notna()]"
   ]
  },
  {
   "cell_type": "code",
   "execution_count": 40,
   "id": "determined-closing",
   "metadata": {
    "execution": {
     "iopub.execute_input": "2021-02-01T12:08:08.520114Z",
     "iopub.status.busy": "2021-02-01T12:08:08.519590Z",
     "iopub.status.idle": "2021-02-01T12:08:08.522199Z",
     "shell.execute_reply": "2021-02-01T12:08:08.521740Z"
    },
    "papermill": {
     "duration": 0.039232,
     "end_time": "2021-02-01T12:08:08.522371",
     "exception": false,
     "start_time": "2021-02-01T12:08:08.483139",
     "status": "completed"
    },
    "tags": []
   },
   "outputs": [],
   "source": [
    "# #hide\n",
    "# colors = dict(zip(\n",
    "#     [\"Oceania\", \"Europe\", \"Asia\", \"South America\", \"Middle East\", \"North America\", \"Africa\"],\n",
    "#     [\"#adb0ff\", \"#ffb3ff\", \"#90d595\", \"#e48381\", \"#aafbff\", \"#f7bb5f\", \"#eafb50\"]\n",
    "# ))\n",
    "# group_lk = g.set_index('name')['group'].to_dict()"
   ]
  },
  {
   "cell_type": "code",
   "execution_count": null,
   "id": "gross-drinking",
   "metadata": {
    "papermill": {
     "duration": 0.035568,
     "end_time": "2021-02-01T12:08:08.591011",
     "exception": false,
     "start_time": "2021-02-01T12:08:08.555443",
     "status": "completed"
    },
    "tags": []
   },
   "outputs": [],
   "source": []
  },
  {
   "cell_type": "code",
   "execution_count": 41,
   "id": "subject-macintosh",
   "metadata": {
    "execution": {
     "iopub.execute_input": "2021-02-01T12:08:08.672503Z",
     "iopub.status.busy": "2021-02-01T12:08:08.671871Z",
     "iopub.status.idle": "2021-02-01T12:08:08.673755Z",
     "shell.execute_reply": "2021-02-01T12:08:08.674359Z"
    },
    "papermill": {
     "duration": 0.045858,
     "end_time": "2021-02-01T12:08:08.674496",
     "exception": false,
     "start_time": "2021-02-01T12:08:08.628638",
     "status": "completed"
    },
    "tags": []
   },
   "outputs": [],
   "source": [
    "# #hide\n",
    "# fig, ax = plt.subplots(figsize=(15, 8))\n",
    "\n",
    "# def draw_barchart(current_day):\n",
    "#     dff = g[g['day'].eq(current_day)].sort_values(by='value', ascending=True).tail(10)\n",
    "#     ax.clear()\n",
    "#     ax.barh(dff['name'], dff['value'], color=[colors[group_lk[x]] for x in dff['name']])\n",
    "#     dx = dff['value'].max() / 200\n",
    "    \n",
    "#     for i, (value, name) in enumerate(zip(dff['value'], dff['name'])):\n",
    "#         ax.text(value-dx, i,     name,           size=14, weight=600, ha='right', va='bottom')\n",
    "#         ax.text(value-dx, i-.25, group_lk[name], size=10, color='#444444', ha='right', va='baseline')\n",
    "#         ax.text(value+dx, i,     f'{value:,.0f}',  size=14, ha='left',  va='center')\n",
    "#     ax.text(1, 0.4, current_day, transform=ax.transAxes, color='#777777', size=46, ha='right', weight=800)\n",
    "#     ax.text(0, 1.06, 'Population (thousands)', transform=ax.transAxes, size=12, color='#777777')\n",
    "#     ax.xaxis.set_major_formatter(ticker.StrMethodFormatter('{x:,.0f}'))\n",
    "#     ax.xaxis.set_ticks_position('top')\n",
    "#     ax.tick_params(axis='x', colors='#777777', labelsize=12)\n",
    "#     ax.set_yticks([])\n",
    "#     ax.margins(0, 0.01)\n",
    "#     ax.grid(which='major', axis='x', linestyle='-')\n",
    "#     ax.set_axisbelow(True)\n",
    "    \n",
    "#     ax.text(0, 1.15, 'Coronavirus',\n",
    "#             transform=ax.transAxes, size=24, weight=600, ha='left', va='top')\n",
    "# #     ax.text(1, 0, 'by @pratapvardhan; credit @jburnmurdoch', transform=ax.transAxes, color='#777777', ha='right',\n",
    "# #             bbox=dict(facecolor='white', alpha=0.8, edgecolor='white'))\n",
    "#     plt.box(False)"
   ]
  },
  {
   "cell_type": "code",
   "execution_count": 42,
   "id": "sexual-wages",
   "metadata": {
    "execution": {
     "iopub.execute_input": "2021-02-01T12:08:08.755389Z",
     "iopub.status.busy": "2021-02-01T12:08:08.754687Z",
     "iopub.status.idle": "2021-02-01T12:08:08.757584Z",
     "shell.execute_reply": "2021-02-01T12:08:08.756925Z"
    },
    "papermill": {
     "duration": 0.044468,
     "end_time": "2021-02-01T12:08:08.757697",
     "exception": false,
     "start_time": "2021-02-01T12:08:08.713229",
     "status": "completed"
    },
    "tags": []
   },
   "outputs": [],
   "source": [
    "# #hide_input\n",
    "# fig, ax = plt.subplots(figsize=(15, 8))\n",
    "# animator = animation.FuncAnimation(fig, draw_barchart, frames=range(g.day.values.min(), g.day.values.max()))\n",
    "# HTML(animator.to_jshtml())\n",
    "# # or use animator.to_html5_video() or animator.save() "
   ]
  },
  {
   "cell_type": "code",
   "execution_count": null,
   "id": "australian-container",
   "metadata": {
    "papermill": {
     "duration": 0.034508,
     "end_time": "2021-02-01T12:08:08.827645",
     "exception": false,
     "start_time": "2021-02-01T12:08:08.793137",
     "status": "completed"
    },
    "tags": []
   },
   "outputs": [],
   "source": []
  },
  {
   "cell_type": "code",
   "execution_count": null,
   "id": "mediterranean-pontiac",
   "metadata": {
    "papermill": {
     "duration": 0.033105,
     "end_time": "2021-02-01T12:08:08.895302",
     "exception": false,
     "start_time": "2021-02-01T12:08:08.862197",
     "status": "completed"
    },
    "tags": []
   },
   "outputs": [],
   "source": []
  },
  {
   "cell_type": "code",
   "execution_count": null,
   "id": "aging-legislature",
   "metadata": {
    "papermill": {
     "duration": 0.036336,
     "end_time": "2021-02-01T12:08:08.965016",
     "exception": false,
     "start_time": "2021-02-01T12:08:08.928680",
     "status": "completed"
    },
    "tags": []
   },
   "outputs": [],
   "source": []
  }
 ],
 "metadata": {
  "kernelspec": {
   "display_name": "Python 3",
   "language": "python",
   "name": "python3"
  },
  "language_info": {
   "codemirror_mode": {
    "name": "ipython",
    "version": 3
   },
   "file_extension": ".py",
   "mimetype": "text/x-python",
   "name": "python",
   "nbconvert_exporter": "python",
   "pygments_lexer": "ipython3",
   "version": "3.6.12"
  },
  "papermill": {
   "duration": 8.060942,
   "end_time": "2021-02-01T12:08:09.312215",
   "environment_variables": {},
   "exception": null,
   "input_path": "2020-03-21-covid19exp.ipynb",
   "output_path": "2020-03-21-covid19exp.ipynb",
   "parameters": {},
   "start_time": "2021-02-01T12:08:01.251273",
   "version": "2.0.0"
  }
 },
 "nbformat": 4,
 "nbformat_minor": 5
}