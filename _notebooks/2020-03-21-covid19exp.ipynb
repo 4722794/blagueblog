{
 "cells": [
  {
   "cell_type": "markdown",
   "id": "muslim-click",
   "metadata": {
    "papermill": {
     "duration": 0.042173,
     "end_time": "2022-04-12T12:15:08.400510",
     "exception": false,
     "start_time": "2022-04-12T12:15:08.358337",
     "status": "completed"
    },
    "tags": []
   },
   "source": [
    "# COVID-19 Case Race\n",
    "> A race chart to see rising cases around the world\n",
    "\n",
    "- author: Hargun Oberoi\n",
    "- image: images/covid-overview.png\n",
    "- hide: false\n",
    "- badges: false"
   ]
  },
  {
   "cell_type": "code",
   "execution_count": 1,
   "id": "proof-material",
   "metadata": {
    "execution": {
     "iopub.execute_input": "2022-04-12T12:15:08.487398Z",
     "iopub.status.busy": "2022-04-12T12:15:08.486789Z",
     "iopub.status.idle": "2022-04-12T12:15:08.868259Z",
     "shell.execute_reply": "2022-04-12T12:15:08.867655Z"
    },
    "papermill": {
     "duration": 0.429933,
     "end_time": "2022-04-12T12:15:08.868433",
     "exception": false,
     "start_time": "2022-04-12T12:15:08.438500",
     "status": "completed"
    },
    "tags": []
   },
   "outputs": [],
   "source": [
    "#hide\n",
    "import numpy as np\n",
    "import pandas as pd\n",
    "from jinja2 import Template\n",
    "from IPython.display import HTML"
   ]
  },
  {
   "cell_type": "code",
   "execution_count": 2,
   "id": "developed-terminology",
   "metadata": {
    "execution": {
     "iopub.execute_input": "2022-04-12T12:15:08.950174Z",
     "iopub.status.busy": "2022-04-12T12:15:08.949492Z",
     "iopub.status.idle": "2022-04-12T12:15:08.952375Z",
     "shell.execute_reply": "2022-04-12T12:15:08.951380Z"
    },
    "papermill": {
     "duration": 0.045901,
     "end_time": "2022-04-12T12:15:08.952517",
     "exception": false,
     "start_time": "2022-04-12T12:15:08.906616",
     "status": "completed"
    },
    "tags": []
   },
   "outputs": [],
   "source": [
    "#hide\n",
    "\n",
    "# FETCH\n",
    "base_url = 'https://raw.githubusercontent.com/pratapvardhan/notebooks/master/covid19/'\n",
    "paths = {\n",
    "    'mapping': base_url + 'mapping_countries.csv',\n",
    "    'overview': base_url + 'overview.tpl'\n",
    "}"
   ]
  },
  {
   "cell_type": "code",
   "execution_count": 3,
   "id": "dynamic-saver",
   "metadata": {
    "execution": {
     "iopub.execute_input": "2022-04-12T12:15:09.036090Z",
     "iopub.status.busy": "2022-04-12T12:15:09.035415Z",
     "iopub.status.idle": "2022-04-12T12:15:09.039041Z",
     "shell.execute_reply": "2022-04-12T12:15:09.038514Z"
    },
    "papermill": {
     "duration": 0.049005,
     "end_time": "2022-04-12T12:15:09.039166",
     "exception": false,
     "start_time": "2022-04-12T12:15:08.990161",
     "status": "completed"
    },
    "tags": []
   },
   "outputs": [
    {
     "data": {
      "text/plain": [
       "'https://raw.githubusercontent.com/pratapvardhan/notebooks/master/covid19/mapping_countries.csv'"
      ]
     },
     "execution_count": 3,
     "metadata": {},
     "output_type": "execute_result"
    }
   ],
   "source": [
    "#hide\n",
    "paths['mapping']"
   ]
  },
  {
   "cell_type": "code",
   "execution_count": 4,
   "id": "urban-software",
   "metadata": {
    "execution": {
     "iopub.execute_input": "2022-04-12T12:15:09.118805Z",
     "iopub.status.busy": "2022-04-12T12:15:09.118175Z",
     "iopub.status.idle": "2022-04-12T12:15:09.120182Z",
     "shell.execute_reply": "2022-04-12T12:15:09.120737Z"
    },
    "papermill": {
     "duration": 0.043398,
     "end_time": "2022-04-12T12:15:09.120899",
     "exception": false,
     "start_time": "2022-04-12T12:15:09.077501",
     "status": "completed"
    },
    "tags": []
   },
   "outputs": [],
   "source": [
    "#hide\n",
    "def get_mappings(url):\n",
    "    df = pd.read_csv(url)\n",
    "    return {\n",
    "        'df': df,\n",
    "        'replace.country': dict(df.dropna(subset=['Name']).set_index('Country')['Name']),\n",
    "        'map.continent': dict(df.set_index('Name')['Continent'])\n",
    "    }"
   ]
  },
  {
   "cell_type": "code",
   "execution_count": 5,
   "id": "intimate-machinery",
   "metadata": {
    "execution": {
     "iopub.execute_input": "2022-04-12T12:15:09.196798Z",
     "iopub.status.busy": "2022-04-12T12:15:09.196116Z",
     "iopub.status.idle": "2022-04-12T12:15:09.229183Z",
     "shell.execute_reply": "2022-04-12T12:15:09.229669Z"
    },
    "papermill": {
     "duration": 0.073258,
     "end_time": "2022-04-12T12:15:09.229816",
     "exception": false,
     "start_time": "2022-04-12T12:15:09.156558",
     "status": "completed"
    },
    "tags": []
   },
   "outputs": [],
   "source": [
    "#hide\n",
    "mapping = get_mappings(paths['mapping'])"
   ]
  },
  {
   "cell_type": "code",
   "execution_count": 6,
   "id": "certified-tactics",
   "metadata": {
    "execution": {
     "iopub.execute_input": "2022-04-12T12:15:09.307408Z",
     "iopub.status.busy": "2022-04-12T12:15:09.306775Z",
     "iopub.status.idle": "2022-04-12T12:15:09.310751Z",
     "shell.execute_reply": "2022-04-12T12:15:09.310250Z"
    },
    "papermill": {
     "duration": 0.046503,
     "end_time": "2022-04-12T12:15:09.310879",
     "exception": false,
     "start_time": "2022-04-12T12:15:09.264376",
     "status": "completed"
    },
    "tags": []
   },
   "outputs": [],
   "source": [
    "#hide\n",
    "def get_template(path):\n",
    "    from urllib.parse import urlparse\n",
    "    if bool(urlparse(path).netloc):\n",
    "        from urllib.request import urlopen\n",
    "        return urlopen(path).read().decode('utf8')\n",
    "    return open(path).read()"
   ]
  },
  {
   "cell_type": "code",
   "execution_count": 7,
   "id": "realistic-blast",
   "metadata": {
    "execution": {
     "iopub.execute_input": "2022-04-12T12:15:09.388105Z",
     "iopub.status.busy": "2022-04-12T12:15:09.387353Z",
     "iopub.status.idle": "2022-04-12T12:15:09.390926Z",
     "shell.execute_reply": "2022-04-12T12:15:09.390395Z"
    },
    "papermill": {
     "duration": 0.044102,
     "end_time": "2022-04-12T12:15:09.391069",
     "exception": false,
     "start_time": "2022-04-12T12:15:09.346967",
     "status": "completed"
    },
    "tags": []
   },
   "outputs": [],
   "source": [
    "#hide\n",
    "def get_frame(name):\n",
    "    url = (\n",
    "        'https://raw.githubusercontent.com/CSSEGISandData/COVID-19/master/csse_covid_19_data/'\n",
    "        f'csse_covid_19_time_series/time_series_covid19_{name}_global.csv')\n",
    "    df = pd.read_csv(url)\n",
    "    # rename countries\n",
    "    df['Country/Region'] = df['Country/Region'].replace(mapping['replace.country'])\n",
    "    return df"
   ]
  },
  {
   "cell_type": "code",
   "execution_count": 8,
   "id": "affiliated-characterization",
   "metadata": {
    "execution": {
     "iopub.execute_input": "2022-04-12T12:15:09.473502Z",
     "iopub.status.busy": "2022-04-12T12:15:09.472849Z",
     "iopub.status.idle": "2022-04-12T12:15:09.475647Z",
     "shell.execute_reply": "2022-04-12T12:15:09.475078Z"
    },
    "papermill": {
     "duration": 0.046988,
     "end_time": "2022-04-12T12:15:09.475778",
     "exception": false,
     "start_time": "2022-04-12T12:15:09.428790",
     "status": "completed"
    },
    "tags": []
   },
   "outputs": [],
   "source": [
    "#hide\n",
    "def get_dates(df):\n",
    "    dt_cols = df.columns[~df.columns.isin(['Province/State', 'Country/Region', 'Lat', 'Long'])]\n",
    "    LAST_DATE_I = -1\n",
    "    # sometimes last column may be empty, then go backwards\n",
    "    for i in range(-1, -len(dt_cols), -1):\n",
    "        if not df[dt_cols[i]].fillna(0).eq(0).all():\n",
    "            LAST_DATE_I = i\n",
    "            break\n",
    "    return LAST_DATE_I, dt_cols"
   ]
  },
  {
   "cell_type": "code",
   "execution_count": 9,
   "id": "recent-optimization",
   "metadata": {
    "execution": {
     "iopub.execute_input": "2022-04-12T12:15:09.556339Z",
     "iopub.status.busy": "2022-04-12T12:15:09.555686Z",
     "iopub.status.idle": "2022-04-12T12:15:09.938378Z",
     "shell.execute_reply": "2022-04-12T12:15:09.937828Z"
    },
    "papermill": {
     "duration": 0.425429,
     "end_time": "2022-04-12T12:15:09.938528",
     "exception": false,
     "start_time": "2022-04-12T12:15:09.513099",
     "status": "completed"
    },
    "tags": []
   },
   "outputs": [],
   "source": [
    "#hide\n",
    "COL_REGION = 'Country/Region'\n",
    "# Confirmed, Recovered, Deaths\n",
    "df = get_frame('confirmed')\n",
    "# dft_: timeseries, dfc_: today country agg\n",
    "dft_cases = df\n",
    "dft_deaths = get_frame('deaths')\n",
    "dft_recovered = get_frame('recovered')\n",
    "LAST_DATE_I, dt_cols = get_dates(df)"
   ]
  },
  {
   "cell_type": "code",
   "execution_count": 10,
   "id": "absolute-copper",
   "metadata": {
    "execution": {
     "iopub.execute_input": "2022-04-12T12:15:10.020521Z",
     "iopub.status.busy": "2022-04-12T12:15:10.019771Z",
     "iopub.status.idle": "2022-04-12T12:15:10.022690Z",
     "shell.execute_reply": "2022-04-12T12:15:10.021854Z"
    },
    "papermill": {
     "duration": 0.046485,
     "end_time": "2022-04-12T12:15:10.022830",
     "exception": false,
     "start_time": "2022-04-12T12:15:09.976345",
     "status": "completed"
    },
    "tags": []
   },
   "outputs": [],
   "source": [
    "#hide\n",
    "LAST_DATE_I, dt_cols = get_dates(df)\n",
    "dt_today =dt_cols[LAST_DATE_I]\n",
    "# dt_5day = dt_cols[LAST_DATE_I - 5]\n",
    "dt_yday = dt_cols[LAST_DATE_I - 1]"
   ]
  },
  {
   "cell_type": "code",
   "execution_count": 11,
   "id": "restricted-sheriff",
   "metadata": {
    "execution": {
     "iopub.execute_input": "2022-04-12T12:15:10.102489Z",
     "iopub.status.busy": "2022-04-12T12:15:10.101812Z",
     "iopub.status.idle": "2022-04-12T12:15:10.112408Z",
     "shell.execute_reply": "2022-04-12T12:15:10.111626Z"
    },
    "papermill": {
     "duration": 0.052796,
     "end_time": "2022-04-12T12:15:10.112550",
     "exception": false,
     "start_time": "2022-04-12T12:15:10.059754",
     "status": "completed"
    },
    "tags": []
   },
   "outputs": [],
   "source": [
    "#hide\n",
    "dfc_cases = dft_cases.groupby(COL_REGION)[dt_today].sum()\n",
    "dfc_deaths = dft_deaths.groupby(COL_REGION)[dt_today].sum()\n",
    "# dfp_cases = dft_cases.groupby(COL_REGION)[dt_5day].sum()\n",
    "# dfp_deaths = dft_deaths.groupby(COL_REGION)[dt_5day].sum()\n",
    "dfp_cases = dft_cases.groupby(COL_REGION)[dt_yday].sum()\n",
    "dfp_deaths = dft_deaths.groupby(COL_REGION)[dt_yday].sum()"
   ]
  },
  {
   "cell_type": "code",
   "execution_count": 12,
   "id": "deluxe-hepatitis",
   "metadata": {
    "execution": {
     "iopub.execute_input": "2022-04-12T12:15:10.189508Z",
     "iopub.status.busy": "2022-04-12T12:15:10.188863Z",
     "iopub.status.idle": "2022-04-12T12:15:10.193837Z",
     "shell.execute_reply": "2022-04-12T12:15:10.194490Z"
    },
    "papermill": {
     "duration": 0.04753,
     "end_time": "2022-04-12T12:15:10.194636",
     "exception": false,
     "start_time": "2022-04-12T12:15:10.147106",
     "status": "completed"
    },
    "tags": []
   },
   "outputs": [],
   "source": [
    "#hide\n",
    "df_table = (pd.DataFrame(dict(Cases = dfc_cases, Deaths = dfc_deaths, PCases = dfp_cases, PDeaths = dfp_deaths))\n",
    "            .sort_values(by = ['Cases','Deaths'], ascending = [False, False])\n",
    "            .reset_index())"
   ]
  },
  {
   "cell_type": "code",
   "execution_count": 13,
   "id": "educational-chancellor",
   "metadata": {
    "execution": {
     "iopub.execute_input": "2022-04-12T12:15:10.285702Z",
     "iopub.status.busy": "2022-04-12T12:15:10.285020Z",
     "iopub.status.idle": "2022-04-12T12:15:10.295001Z",
     "shell.execute_reply": "2022-04-12T12:15:10.294406Z"
    },
    "papermill": {
     "duration": 0.065697,
     "end_time": "2022-04-12T12:15:10.295137",
     "exception": false,
     "start_time": "2022-04-12T12:15:10.229440",
     "status": "completed"
    },
    "tags": []
   },
   "outputs": [
    {
     "data": {
      "text/html": [
       "<div>\n",
       "<style scoped>\n",
       "    .dataframe tbody tr th:only-of-type {\n",
       "        vertical-align: middle;\n",
       "    }\n",
       "\n",
       "    .dataframe tbody tr th {\n",
       "        vertical-align: top;\n",
       "    }\n",
       "\n",
       "    .dataframe thead th {\n",
       "        text-align: right;\n",
       "    }\n",
       "</style>\n",
       "<table border=\"1\" class=\"dataframe\">\n",
       "  <thead>\n",
       "    <tr style=\"text-align: right;\">\n",
       "      <th></th>\n",
       "      <th>Country/Region</th>\n",
       "      <th>Cases</th>\n",
       "      <th>Deaths</th>\n",
       "      <th>PCases</th>\n",
       "      <th>PDeaths</th>\n",
       "      <th>Cases (+)</th>\n",
       "      <th>Deaths (+)</th>\n",
       "      <th>Fatality Rate</th>\n",
       "      <th>Continent</th>\n",
       "    </tr>\n",
       "  </thead>\n",
       "  <tbody>\n",
       "    <tr>\n",
       "      <th>0</th>\n",
       "      <td>US</td>\n",
       "      <td>80449944</td>\n",
       "      <td>985826</td>\n",
       "      <td>80406370</td>\n",
       "      <td>985504</td>\n",
       "      <td>43574</td>\n",
       "      <td>322</td>\n",
       "      <td>1.23</td>\n",
       "      <td>North America</td>\n",
       "    </tr>\n",
       "    <tr>\n",
       "      <th>1</th>\n",
       "      <td>India</td>\n",
       "      <td>43036928</td>\n",
       "      <td>521710</td>\n",
       "      <td>43036132</td>\n",
       "      <td>521691</td>\n",
       "      <td>796</td>\n",
       "      <td>19</td>\n",
       "      <td>1.21</td>\n",
       "      <td>Asia</td>\n",
       "    </tr>\n",
       "    <tr>\n",
       "      <th>2</th>\n",
       "      <td>Brazil</td>\n",
       "      <td>30161909</td>\n",
       "      <td>661576</td>\n",
       "      <td>30153979</td>\n",
       "      <td>661513</td>\n",
       "      <td>7930</td>\n",
       "      <td>63</td>\n",
       "      <td>2.19</td>\n",
       "      <td>South America</td>\n",
       "    </tr>\n",
       "    <tr>\n",
       "      <th>3</th>\n",
       "      <td>France</td>\n",
       "      <td>27162463</td>\n",
       "      <td>144503</td>\n",
       "      <td>27136925</td>\n",
       "      <td>144325</td>\n",
       "      <td>25538</td>\n",
       "      <td>178</td>\n",
       "      <td>0.53</td>\n",
       "      <td>Europe</td>\n",
       "    </tr>\n",
       "    <tr>\n",
       "      <th>4</th>\n",
       "      <td>Germany</td>\n",
       "      <td>22878428</td>\n",
       "      <td>132017</td>\n",
       "      <td>22677986</td>\n",
       "      <td>131728</td>\n",
       "      <td>200442</td>\n",
       "      <td>289</td>\n",
       "      <td>0.58</td>\n",
       "      <td>Europe</td>\n",
       "    </tr>\n",
       "  </tbody>\n",
       "</table>\n",
       "</div>"
      ],
      "text/plain": [
       "  Country/Region     Cases  Deaths    PCases  PDeaths  Cases (+)  Deaths (+)  \\\n",
       "0             US  80449944  985826  80406370   985504      43574         322   \n",
       "1          India  43036928  521710  43036132   521691        796          19   \n",
       "2         Brazil  30161909  661576  30153979   661513       7930          63   \n",
       "3         France  27162463  144503  27136925   144325      25538         178   \n",
       "4        Germany  22878428  132017  22677986   131728     200442         289   \n",
       "\n",
       "   Fatality Rate      Continent  \n",
       "0           1.23  North America  \n",
       "1           1.21           Asia  \n",
       "2           2.19  South America  \n",
       "3           0.53         Europe  \n",
       "4           0.58         Europe  "
      ]
     },
     "execution_count": 13,
     "metadata": {},
     "output_type": "execute_result"
    }
   ],
   "source": [
    "#hide\n",
    "for c in 'Cases, Deaths'.split(', '):\n",
    "    df_table[f'{c} (+)'] = (df_table[c] - df_table[f'P{c}']).clip(0)\n",
    "    #Clip ça veut dire, les chiffres negatif sont interdit\n",
    "df_table['Fatality Rate'] = (100* df_table['Deaths']/ df_table['Cases']).round(2)\n",
    "df_table['Continent'] = df_table['Country/Region'].map(mapping['map.continent'])\n",
    "df_table.head(5)"
   ]
  },
  {
   "cell_type": "code",
   "execution_count": 14,
   "id": "aboriginal-bulgaria",
   "metadata": {
    "execution": {
     "iopub.execute_input": "2022-04-12T12:15:10.378251Z",
     "iopub.status.busy": "2022-04-12T12:15:10.377630Z",
     "iopub.status.idle": "2022-04-12T12:15:10.380880Z",
     "shell.execute_reply": "2022-04-12T12:15:10.381582Z"
    },
    "papermill": {
     "duration": 0.047458,
     "end_time": "2022-04-12T12:15:10.381810",
     "exception": false,
     "start_time": "2022-04-12T12:15:10.334352",
     "status": "completed"
    },
    "tags": []
   },
   "outputs": [],
   "source": [
    "#hide\n",
    "#delete problematic countries from table\n",
    "df_table = df_table[~df_table['Country/Region'].isin(['Cape Verde', 'Cruise Ship', 'Kosovo'])]"
   ]
  },
  {
   "cell_type": "code",
   "execution_count": 15,
   "id": "fantastic-effect",
   "metadata": {
    "execution": {
     "iopub.execute_input": "2022-04-12T12:15:10.475486Z",
     "iopub.status.busy": "2022-04-12T12:15:10.474623Z",
     "iopub.status.idle": "2022-04-12T12:15:10.495933Z",
     "shell.execute_reply": "2022-04-12T12:15:10.496501Z"
    },
    "papermill": {
     "duration": 0.070405,
     "end_time": "2022-04-12T12:15:10.496666",
     "exception": false,
     "start_time": "2022-04-12T12:15:10.426261",
     "status": "completed"
    },
    "tags": []
   },
   "outputs": [
    {
     "data": {
      "text/html": [
       "<div>\n",
       "<style scoped>\n",
       "    .dataframe tbody tr th:only-of-type {\n",
       "        vertical-align: middle;\n",
       "    }\n",
       "\n",
       "    .dataframe tbody tr th {\n",
       "        vertical-align: top;\n",
       "    }\n",
       "\n",
       "    .dataframe thead th {\n",
       "        text-align: right;\n",
       "    }\n",
       "</style>\n",
       "<table border=\"1\" class=\"dataframe\">\n",
       "  <thead>\n",
       "    <tr style=\"text-align: right;\">\n",
       "      <th></th>\n",
       "      <th>Country/Region</th>\n",
       "      <th>Cases</th>\n",
       "      <th>Deaths</th>\n",
       "      <th>PCases</th>\n",
       "      <th>PDeaths</th>\n",
       "      <th>Cases (+)</th>\n",
       "      <th>Deaths (+)</th>\n",
       "      <th>Fatality Rate</th>\n",
       "      <th>Continent</th>\n",
       "    </tr>\n",
       "  </thead>\n",
       "  <tbody>\n",
       "    <tr>\n",
       "      <th>0</th>\n",
       "      <td>US</td>\n",
       "      <td>80449944</td>\n",
       "      <td>985826</td>\n",
       "      <td>80406370</td>\n",
       "      <td>985504</td>\n",
       "      <td>43574</td>\n",
       "      <td>322</td>\n",
       "      <td>1.2</td>\n",
       "      <td>North America</td>\n",
       "    </tr>\n",
       "    <tr>\n",
       "      <th>1</th>\n",
       "      <td>India</td>\n",
       "      <td>43036928</td>\n",
       "      <td>521710</td>\n",
       "      <td>43036132</td>\n",
       "      <td>521691</td>\n",
       "      <td>796</td>\n",
       "      <td>19</td>\n",
       "      <td>1.2</td>\n",
       "      <td>Asia</td>\n",
       "    </tr>\n",
       "    <tr>\n",
       "      <th>2</th>\n",
       "      <td>Brazil</td>\n",
       "      <td>30161909</td>\n",
       "      <td>661576</td>\n",
       "      <td>30153979</td>\n",
       "      <td>661513</td>\n",
       "      <td>7930</td>\n",
       "      <td>63</td>\n",
       "      <td>2.2</td>\n",
       "      <td>South America</td>\n",
       "    </tr>\n",
       "    <tr>\n",
       "      <th>3</th>\n",
       "      <td>France</td>\n",
       "      <td>27162463</td>\n",
       "      <td>144503</td>\n",
       "      <td>27136925</td>\n",
       "      <td>144325</td>\n",
       "      <td>25538</td>\n",
       "      <td>178</td>\n",
       "      <td>0.5</td>\n",
       "      <td>Europe</td>\n",
       "    </tr>\n",
       "    <tr>\n",
       "      <th>4</th>\n",
       "      <td>Germany</td>\n",
       "      <td>22878428</td>\n",
       "      <td>132017</td>\n",
       "      <td>22677986</td>\n",
       "      <td>131728</td>\n",
       "      <td>200442</td>\n",
       "      <td>289</td>\n",
       "      <td>0.6</td>\n",
       "      <td>Europe</td>\n",
       "    </tr>\n",
       "  </tbody>\n",
       "</table>\n",
       "</div>"
      ],
      "text/plain": [
       "  Country/Region     Cases  Deaths    PCases  PDeaths  Cases (+)  Deaths (+)  \\\n",
       "0             US  80449944  985826  80406370   985504      43574         322   \n",
       "1          India  43036928  521710  43036132   521691        796          19   \n",
       "2         Brazil  30161909  661576  30153979   661513       7930          63   \n",
       "3         France  27162463  144503  27136925   144325      25538         178   \n",
       "4        Germany  22878428  132017  22677986   131728     200442         289   \n",
       "\n",
       "   Fatality Rate      Continent  \n",
       "0            1.2  North America  \n",
       "1            1.2           Asia  \n",
       "2            2.2  South America  \n",
       "3            0.5         Europe  \n",
       "4            0.6         Europe  "
      ]
     },
     "execution_count": 15,
     "metadata": {},
     "output_type": "execute_result"
    }
   ],
   "source": [
    "#hide\n",
    "df_table = (pd.DataFrame(dict(Cases=dfc_cases, Deaths=dfc_deaths, PCases=dfp_cases, PDeaths=dfp_deaths))\n",
    "             .sort_values(by=['Cases', 'Deaths'], ascending=[False, False])\n",
    "             .reset_index())\n",
    "df_table.rename(columns={'index': 'Country/Region'}, inplace=True)\n",
    "for c in 'Cases, Deaths'.split(', '):\n",
    "    df_table[f'{c} (+)'] = (df_table[c] - df_table[f'P{c}']).clip(0)  # DATA BUG\n",
    "df_table['Fatality Rate'] = (100 * df_table['Deaths'] / df_table['Cases']).round(1)\n",
    "df_table['Continent'] = df_table['Country/Region'].map(mapping['map.continent'])\n",
    "df_table.head(5)"
   ]
  },
  {
   "cell_type": "code",
   "execution_count": 16,
   "id": "fewer-occasion",
   "metadata": {
    "execution": {
     "iopub.execute_input": "2022-04-12T12:15:10.579065Z",
     "iopub.status.busy": "2022-04-12T12:15:10.578409Z",
     "iopub.status.idle": "2022-04-12T12:15:10.581042Z",
     "shell.execute_reply": "2022-04-12T12:15:10.580516Z"
    },
    "papermill": {
     "duration": 0.045325,
     "end_time": "2022-04-12T12:15:10.581168",
     "exception": false,
     "start_time": "2022-04-12T12:15:10.535843",
     "status": "completed"
    },
    "tags": []
   },
   "outputs": [],
   "source": [
    "#hide\n",
    "#delete problematic countries from table\n",
    "df_table = df_table[~df_table['Country/Region'].isin(['Cape Verde', 'Cruise Ship', 'Kosovo'])]"
   ]
  },
  {
   "cell_type": "code",
   "execution_count": 17,
   "id": "related-center",
   "metadata": {
    "execution": {
     "iopub.execute_input": "2022-04-12T12:15:10.674693Z",
     "iopub.status.busy": "2022-04-12T12:15:10.674002Z",
     "iopub.status.idle": "2022-04-12T12:15:10.683092Z",
     "shell.execute_reply": "2022-04-12T12:15:10.683703Z"
    },
    "papermill": {
     "duration": 0.062423,
     "end_time": "2022-04-12T12:15:10.683841",
     "exception": false,
     "start_time": "2022-04-12T12:15:10.621418",
     "status": "completed"
    },
    "tags": []
   },
   "outputs": [],
   "source": [
    "#hide\n",
    "metrics = [df_table.columns[index] for index in [1,2,5,6]]\n",
    "# s_china = df_table[df_table['Country/Region'].eq('China')][metrics].sum().add_prefix('China ')\n",
    "s_us = df_table[df_table['Country/Region'].eq('US')][metrics].sum().add_prefix('US ')\n",
    "s_eu = df_table[df_table['Continent'].eq('Europe')][metrics].sum().add_prefix('EU ')\n",
    "s_ind = df_table[df_table['Country/Region'].eq('India')][metrics].sum().add_prefix('India ')\n",
    "summary = {'updated': pd.to_datetime(dt_today), 'since': pd.to_datetime(dt_yday)}\n",
    "summary = {'updated': pd.to_datetime(dt_today), 'since': pd.to_datetime(dt_yday)}\n",
    "summary = {**summary, **df_table[metrics].sum(), **s_ind, **s_us, **s_eu}"
   ]
  },
  {
   "cell_type": "code",
   "execution_count": 18,
   "id": "engaging-syndrome",
   "metadata": {
    "execution": {
     "iopub.execute_input": "2022-04-12T12:15:10.759819Z",
     "iopub.status.busy": "2022-04-12T12:15:10.759150Z",
     "iopub.status.idle": "2022-04-12T12:15:10.778078Z",
     "shell.execute_reply": "2022-04-12T12:15:10.777550Z"
    },
    "papermill": {
     "duration": 0.058612,
     "end_time": "2022-04-12T12:15:10.778231",
     "exception": false,
     "start_time": "2022-04-12T12:15:10.719619",
     "status": "completed"
    },
    "tags": []
   },
   "outputs": [],
   "source": [
    "#hide\n",
    "dft_ct_new_cases = dft_cases.groupby(COL_REGION)[dt_cols].sum().diff(axis=1).fillna(0).astype(int)"
   ]
  },
  {
   "cell_type": "code",
   "execution_count": 19,
   "id": "neutral-assignment",
   "metadata": {
    "execution": {
     "iopub.execute_input": "2022-04-12T12:15:10.856675Z",
     "iopub.status.busy": "2022-04-12T12:15:10.855996Z",
     "iopub.status.idle": "2022-04-12T12:15:10.858766Z",
     "shell.execute_reply": "2022-04-12T12:15:10.858236Z"
    },
    "papermill": {
     "duration": 0.044403,
     "end_time": "2022-04-12T12:15:10.858894",
     "exception": false,
     "start_time": "2022-04-12T12:15:10.814491",
     "status": "completed"
    },
    "tags": []
   },
   "outputs": [],
   "source": [
    "#hide\n",
    "everydaycases = dft_ct_new_cases.cumsum(axis=1)"
   ]
  },
  {
   "cell_type": "code",
   "execution_count": 20,
   "id": "parliamentary-calgary",
   "metadata": {
    "execution": {
     "iopub.execute_input": "2022-04-12T12:15:10.946565Z",
     "iopub.status.busy": "2022-04-12T12:15:10.945945Z",
     "iopub.status.idle": "2022-04-12T12:15:11.795997Z",
     "shell.execute_reply": "2022-04-12T12:15:11.795374Z"
    },
    "papermill": {
     "duration": 0.896133,
     "end_time": "2022-04-12T12:15:11.796170",
     "exception": false,
     "start_time": "2022-04-12T12:15:10.900037",
     "status": "completed"
    },
    "tags": []
   },
   "outputs": [],
   "source": [
    "#hide\n",
    "import pandas as pd\n",
    "import matplotlib.pyplot as plt\n",
    "import matplotlib.ticker as ticker\n",
    "import matplotlib.animation as animation\n",
    "from IPython.display import HTML"
   ]
  },
  {
   "cell_type": "code",
   "execution_count": 21,
   "id": "lasting-extraction",
   "metadata": {
    "execution": {
     "iopub.execute_input": "2022-04-12T12:15:11.880792Z",
     "iopub.status.busy": "2022-04-12T12:15:11.880103Z",
     "iopub.status.idle": "2022-04-12T12:15:11.886604Z",
     "shell.execute_reply": "2022-04-12T12:15:11.887139Z"
    },
    "papermill": {
     "duration": 0.050815,
     "end_time": "2022-04-12T12:15:11.887292",
     "exception": false,
     "start_time": "2022-04-12T12:15:11.836477",
     "status": "completed"
    },
    "tags": []
   },
   "outputs": [],
   "source": [
    "#hide\n",
    "t = everydaycases.stack()"
   ]
  },
  {
   "cell_type": "code",
   "execution_count": 22,
   "id": "premier-sleeve",
   "metadata": {
    "execution": {
     "iopub.execute_input": "2022-04-12T12:15:11.969819Z",
     "iopub.status.busy": "2022-04-12T12:15:11.969152Z",
     "iopub.status.idle": "2022-04-12T12:15:11.981618Z",
     "shell.execute_reply": "2022-04-12T12:15:11.981128Z"
    },
    "papermill": {
     "duration": 0.054752,
     "end_time": "2022-04-12T12:15:11.981756",
     "exception": false,
     "start_time": "2022-04-12T12:15:11.927004",
     "status": "completed"
    },
    "tags": []
   },
   "outputs": [],
   "source": [
    "#hide\n",
    "g = t.reset_index(['Country/Region'])"
   ]
  },
  {
   "cell_type": "code",
   "execution_count": 23,
   "id": "distributed-pittsburgh",
   "metadata": {
    "execution": {
     "iopub.execute_input": "2022-04-12T12:15:12.064693Z",
     "iopub.status.busy": "2022-04-12T12:15:12.064050Z",
     "iopub.status.idle": "2022-04-12T12:15:12.068268Z",
     "shell.execute_reply": "2022-04-12T12:15:12.068718Z"
    },
    "papermill": {
     "duration": 0.046388,
     "end_time": "2022-04-12T12:15:12.068857",
     "exception": false,
     "start_time": "2022-04-12T12:15:12.022469",
     "status": "completed"
    },
    "tags": []
   },
   "outputs": [],
   "source": [
    "#hide\n",
    "g.index.name = 'date'"
   ]
  },
  {
   "cell_type": "code",
   "execution_count": 24,
   "id": "naked-donor",
   "metadata": {
    "execution": {
     "iopub.execute_input": "2022-04-12T12:15:12.148490Z",
     "iopub.status.busy": "2022-04-12T12:15:12.147829Z",
     "iopub.status.idle": "2022-04-12T12:15:12.150387Z",
     "shell.execute_reply": "2022-04-12T12:15:12.150864Z"
    },
    "papermill": {
     "duration": 0.047474,
     "end_time": "2022-04-12T12:15:12.151015",
     "exception": false,
     "start_time": "2022-04-12T12:15:12.103541",
     "status": "completed"
    },
    "tags": []
   },
   "outputs": [],
   "source": [
    "# #hide\n",
    "# g = g.reset_index(['date'])"
   ]
  },
  {
   "cell_type": "code",
   "execution_count": 25,
   "id": "incomplete-mustang",
   "metadata": {
    "execution": {
     "iopub.execute_input": "2022-04-12T12:15:12.226216Z",
     "iopub.status.busy": "2022-04-12T12:15:12.225572Z",
     "iopub.status.idle": "2022-04-12T12:15:12.228440Z",
     "shell.execute_reply": "2022-04-12T12:15:12.227893Z"
    },
    "papermill": {
     "duration": 0.042757,
     "end_time": "2022-04-12T12:15:12.228570",
     "exception": false,
     "start_time": "2022-04-12T12:15:12.185813",
     "status": "completed"
    },
    "tags": []
   },
   "outputs": [],
   "source": [
    "#hide\n",
    "# g.head()"
   ]
  },
  {
   "cell_type": "code",
   "execution_count": 26,
   "id": "specific-kruger",
   "metadata": {
    "execution": {
     "iopub.execute_input": "2022-04-12T12:15:12.305554Z",
     "iopub.status.busy": "2022-04-12T12:15:12.304931Z",
     "iopub.status.idle": "2022-04-12T12:15:12.308861Z",
     "shell.execute_reply": "2022-04-12T12:15:12.309383Z"
    },
    "papermill": {
     "duration": 0.044108,
     "end_time": "2022-04-12T12:15:12.309538",
     "exception": false,
     "start_time": "2022-04-12T12:15:12.265430",
     "status": "completed"
    },
    "tags": []
   },
   "outputs": [],
   "source": [
    "#hide\n",
    "# g.columns = ['date','country','cases']"
   ]
  },
  {
   "cell_type": "code",
   "execution_count": 27,
   "id": "tender-conversion",
   "metadata": {
    "execution": {
     "iopub.execute_input": "2022-04-12T12:15:12.386142Z",
     "iopub.status.busy": "2022-04-12T12:15:12.385509Z",
     "iopub.status.idle": "2022-04-12T12:15:12.388002Z",
     "shell.execute_reply": "2022-04-12T12:15:12.387336Z"
    },
    "papermill": {
     "duration": 0.041727,
     "end_time": "2022-04-12T12:15:12.388123",
     "exception": false,
     "start_time": "2022-04-12T12:15:12.346396",
     "status": "completed"
    },
    "tags": []
   },
   "outputs": [],
   "source": [
    "#hide\n",
    "# g['continent'] = g.country"
   ]
  },
  {
   "cell_type": "code",
   "execution_count": 28,
   "id": "substantial-wilderness",
   "metadata": {
    "execution": {
     "iopub.execute_input": "2022-04-12T12:15:12.472247Z",
     "iopub.status.busy": "2022-04-12T12:15:12.471573Z",
     "iopub.status.idle": "2022-04-12T12:15:12.474143Z",
     "shell.execute_reply": "2022-04-12T12:15:12.473608Z"
    },
    "papermill": {
     "duration": 0.045907,
     "end_time": "2022-04-12T12:15:12.474284",
     "exception": false,
     "start_time": "2022-04-12T12:15:12.428377",
     "status": "completed"
    },
    "tags": []
   },
   "outputs": [],
   "source": [
    "#hide\n",
    "# cols = list(g.columns.values)"
   ]
  },
  {
   "cell_type": "code",
   "execution_count": 29,
   "id": "solved-farming",
   "metadata": {
    "execution": {
     "iopub.execute_input": "2022-04-12T12:15:12.556828Z",
     "iopub.status.busy": "2022-04-12T12:15:12.556148Z",
     "iopub.status.idle": "2022-04-12T12:15:12.559988Z",
     "shell.execute_reply": "2022-04-12T12:15:12.560516Z"
    },
    "papermill": {
     "duration": 0.0457,
     "end_time": "2022-04-12T12:15:12.560679",
     "exception": false,
     "start_time": "2022-04-12T12:15:12.514979",
     "status": "completed"
    },
    "tags": []
   },
   "outputs": [],
   "source": [
    "#hide\n",
    "# cols.insert(0, cols.pop())"
   ]
  },
  {
   "cell_type": "code",
   "execution_count": 30,
   "id": "executed-adoption",
   "metadata": {
    "execution": {
     "iopub.execute_input": "2022-04-12T12:15:12.640177Z",
     "iopub.status.busy": "2022-04-12T12:15:12.639476Z",
     "iopub.status.idle": "2022-04-12T12:15:12.641441Z",
     "shell.execute_reply": "2022-04-12T12:15:12.641960Z"
    },
    "papermill": {
     "duration": 0.044318,
     "end_time": "2022-04-12T12:15:12.642112",
     "exception": false,
     "start_time": "2022-04-12T12:15:12.597794",
     "status": "completed"
    },
    "tags": []
   },
   "outputs": [],
   "source": [
    "#hide\n",
    "# g = g[cols]"
   ]
  },
  {
   "cell_type": "code",
   "execution_count": 31,
   "id": "subject-dublin",
   "metadata": {
    "execution": {
     "iopub.execute_input": "2022-04-12T12:15:12.720433Z",
     "iopub.status.busy": "2022-04-12T12:15:12.719802Z",
     "iopub.status.idle": "2022-04-12T12:15:12.722775Z",
     "shell.execute_reply": "2022-04-12T12:15:12.722161Z"
    },
    "papermill": {
     "duration": 0.042819,
     "end_time": "2022-04-12T12:15:12.722903",
     "exception": false,
     "start_time": "2022-04-12T12:15:12.680084",
     "status": "completed"
    },
    "tags": []
   },
   "outputs": [],
   "source": [
    "#hide\n",
    "# g['continent'] = g['continent'].map(mapping['map.continent'])"
   ]
  },
  {
   "cell_type": "code",
   "execution_count": 32,
   "id": "freelance-scout",
   "metadata": {
    "execution": {
     "iopub.execute_input": "2022-04-12T12:15:12.801399Z",
     "iopub.status.busy": "2022-04-12T12:15:12.800808Z",
     "iopub.status.idle": "2022-04-12T12:15:12.815921Z",
     "shell.execute_reply": "2022-04-12T12:15:12.815346Z"
    },
    "papermill": {
     "duration": 0.056116,
     "end_time": "2022-04-12T12:15:12.816058",
     "exception": false,
     "start_time": "2022-04-12T12:15:12.759942",
     "status": "completed"
    },
    "tags": []
   },
   "outputs": [],
   "source": [
    "#hide\n",
    "# g.head()"
   ]
  },
  {
   "cell_type": "code",
   "execution_count": 33,
   "id": "limited-engine",
   "metadata": {
    "execution": {
     "iopub.execute_input": "2022-04-12T12:15:12.899432Z",
     "iopub.status.busy": "2022-04-12T12:15:12.898806Z",
     "iopub.status.idle": "2022-04-12T12:15:12.900914Z",
     "shell.execute_reply": "2022-04-12T12:15:12.901364Z"
    },
    "papermill": {
     "duration": 0.048242,
     "end_time": "2022-04-12T12:15:12.901502",
     "exception": false,
     "start_time": "2022-04-12T12:15:12.853260",
     "status": "completed"
    },
    "tags": []
   },
   "outputs": [],
   "source": [
    "# hide\n",
    "# g['date'] = g['date'].astype('datetime64[ns]')"
   ]
  },
  {
   "cell_type": "code",
   "execution_count": 34,
   "id": "sophisticated-supervisor",
   "metadata": {
    "execution": {
     "iopub.execute_input": "2022-04-12T12:15:12.981723Z",
     "iopub.status.busy": "2022-04-12T12:15:12.981055Z",
     "iopub.status.idle": "2022-04-12T12:15:12.985550Z",
     "shell.execute_reply": "2022-04-12T12:15:12.985015Z"
    },
    "papermill": {
     "duration": 0.047357,
     "end_time": "2022-04-12T12:15:12.985690",
     "exception": false,
     "start_time": "2022-04-12T12:15:12.938333",
     "status": "completed"
    },
    "tags": []
   },
   "outputs": [],
   "source": [
    "#hide\n",
    "# g['date'] = g.date.dt.dayofyear"
   ]
  },
  {
   "cell_type": "code",
   "execution_count": 35,
   "id": "inside-dubai",
   "metadata": {
    "execution": {
     "iopub.execute_input": "2022-04-12T12:15:13.063285Z",
     "iopub.status.busy": "2022-04-12T12:15:13.062700Z",
     "iopub.status.idle": "2022-04-12T12:15:13.064983Z",
     "shell.execute_reply": "2022-04-12T12:15:13.064370Z"
    },
    "papermill": {
     "duration": 0.042628,
     "end_time": "2022-04-12T12:15:13.065102",
     "exception": false,
     "start_time": "2022-04-12T12:15:13.022474",
     "status": "completed"
    },
    "tags": []
   },
   "outputs": [],
   "source": [
    "#hide\n",
    "# g = g.rename(columns= {'continent':'group','country':'name','cases':'value'})"
   ]
  },
  {
   "cell_type": "code",
   "execution_count": 36,
   "id": "fleet-motorcycle",
   "metadata": {
    "execution": {
     "iopub.execute_input": "2022-04-12T12:15:13.140044Z",
     "iopub.status.busy": "2022-04-12T12:15:13.139352Z",
     "iopub.status.idle": "2022-04-12T12:15:13.142709Z",
     "shell.execute_reply": "2022-04-12T12:15:13.142206Z"
    },
    "papermill": {
     "duration": 0.041871,
     "end_time": "2022-04-12T12:15:13.142829",
     "exception": false,
     "start_time": "2022-04-12T12:15:13.100958",
     "status": "completed"
    },
    "tags": []
   },
   "outputs": [],
   "source": [
    "#hide\n",
    "# cols = ['name','group','day','value']"
   ]
  },
  {
   "cell_type": "code",
   "execution_count": 37,
   "id": "continued-sleeping",
   "metadata": {
    "execution": {
     "iopub.execute_input": "2022-04-12T12:15:13.215918Z",
     "iopub.status.busy": "2022-04-12T12:15:13.215201Z",
     "iopub.status.idle": "2022-04-12T12:15:13.219850Z",
     "shell.execute_reply": "2022-04-12T12:15:13.219286Z"
    },
    "papermill": {
     "duration": 0.042101,
     "end_time": "2022-04-12T12:15:13.219982",
     "exception": false,
     "start_time": "2022-04-12T12:15:13.177881",
     "status": "completed"
    },
    "tags": []
   },
   "outputs": [],
   "source": [
    "#hide\n",
    "# g.rename(columns= {'date':'day'},inplace = True)"
   ]
  },
  {
   "cell_type": "code",
   "execution_count": 38,
   "id": "major-fight",
   "metadata": {
    "execution": {
     "iopub.execute_input": "2022-04-12T12:15:13.298574Z",
     "iopub.status.busy": "2022-04-12T12:15:13.297913Z",
     "iopub.status.idle": "2022-04-12T12:15:13.300539Z",
     "shell.execute_reply": "2022-04-12T12:15:13.299958Z"
    },
    "papermill": {
     "duration": 0.04459,
     "end_time": "2022-04-12T12:15:13.300657",
     "exception": false,
     "start_time": "2022-04-12T12:15:13.256067",
     "status": "completed"
    },
    "tags": []
   },
   "outputs": [],
   "source": [
    "#hide\n",
    "# g = g[cols]"
   ]
  },
  {
   "cell_type": "code",
   "execution_count": 39,
   "id": "structured-mobile",
   "metadata": {
    "execution": {
     "iopub.execute_input": "2022-04-12T12:15:13.374651Z",
     "iopub.status.busy": "2022-04-12T12:15:13.374059Z",
     "iopub.status.idle": "2022-04-12T12:15:13.377744Z",
     "shell.execute_reply": "2022-04-12T12:15:13.378290Z"
    },
    "papermill": {
     "duration": 0.042456,
     "end_time": "2022-04-12T12:15:13.378447",
     "exception": false,
     "start_time": "2022-04-12T12:15:13.335991",
     "status": "completed"
    },
    "tags": []
   },
   "outputs": [],
   "source": [
    "# #hide\n",
    "# g = g[g.group.notna()]"
   ]
  },
  {
   "cell_type": "code",
   "execution_count": 40,
   "id": "determined-closing",
   "metadata": {
    "execution": {
     "iopub.execute_input": "2022-04-12T12:15:13.462465Z",
     "iopub.status.busy": "2022-04-12T12:15:13.461779Z",
     "iopub.status.idle": "2022-04-12T12:15:13.466641Z",
     "shell.execute_reply": "2022-04-12T12:15:13.466111Z"
    },
    "papermill": {
     "duration": 0.051927,
     "end_time": "2022-04-12T12:15:13.466768",
     "exception": false,
     "start_time": "2022-04-12T12:15:13.414841",
     "status": "completed"
    },
    "tags": []
   },
   "outputs": [],
   "source": [
    "# #hide\n",
    "# colors = dict(zip(\n",
    "#     [\"Oceania\", \"Europe\", \"Asia\", \"South America\", \"Middle East\", \"North America\", \"Africa\"],\n",
    "#     [\"#adb0ff\", \"#ffb3ff\", \"#90d595\", \"#e48381\", \"#aafbff\", \"#f7bb5f\", \"#eafb50\"]\n",
    "# ))\n",
    "# group_lk = g.set_index('name')['group'].to_dict()"
   ]
  },
  {
   "cell_type": "code",
   "execution_count": null,
   "id": "gross-drinking",
   "metadata": {
    "papermill": {
     "duration": 0.036324,
     "end_time": "2022-04-12T12:15:13.540040",
     "exception": false,
     "start_time": "2022-04-12T12:15:13.503716",
     "status": "completed"
    },
    "tags": []
   },
   "outputs": [],
   "source": []
  },
  {
   "cell_type": "code",
   "execution_count": 41,
   "id": "subject-macintosh",
   "metadata": {
    "execution": {
     "iopub.execute_input": "2022-04-12T12:15:13.620365Z",
     "iopub.status.busy": "2022-04-12T12:15:13.619703Z",
     "iopub.status.idle": "2022-04-12T12:15:13.622202Z",
     "shell.execute_reply": "2022-04-12T12:15:13.621682Z"
    },
    "papermill": {
     "duration": 0.044684,
     "end_time": "2022-04-12T12:15:13.622333",
     "exception": false,
     "start_time": "2022-04-12T12:15:13.577649",
     "status": "completed"
    },
    "tags": []
   },
   "outputs": [],
   "source": [
    "# #hide\n",
    "# fig, ax = plt.subplots(figsize=(15, 8))\n",
    "\n",
    "# def draw_barchart(current_day):\n",
    "#     dff = g[g['day'].eq(current_day)].sort_values(by='value', ascending=True).tail(10)\n",
    "#     ax.clear()\n",
    "#     ax.barh(dff['name'], dff['value'], color=[colors[group_lk[x]] for x in dff['name']])\n",
    "#     dx = dff['value'].max() / 200\n",
    "    \n",
    "#     for i, (value, name) in enumerate(zip(dff['value'], dff['name'])):\n",
    "#         ax.text(value-dx, i,     name,           size=14, weight=600, ha='right', va='bottom')\n",
    "#         ax.text(value-dx, i-.25, group_lk[name], size=10, color='#444444', ha='right', va='baseline')\n",
    "#         ax.text(value+dx, i,     f'{value:,.0f}',  size=14, ha='left',  va='center')\n",
    "#     ax.text(1, 0.4, current_day, transform=ax.transAxes, color='#777777', size=46, ha='right', weight=800)\n",
    "#     ax.text(0, 1.06, 'Population (thousands)', transform=ax.transAxes, size=12, color='#777777')\n",
    "#     ax.xaxis.set_major_formatter(ticker.StrMethodFormatter('{x:,.0f}'))\n",
    "#     ax.xaxis.set_ticks_position('top')\n",
    "#     ax.tick_params(axis='x', colors='#777777', labelsize=12)\n",
    "#     ax.set_yticks([])\n",
    "#     ax.margins(0, 0.01)\n",
    "#     ax.grid(which='major', axis='x', linestyle='-')\n",
    "#     ax.set_axisbelow(True)\n",
    "    \n",
    "#     ax.text(0, 1.15, 'Coronavirus',\n",
    "#             transform=ax.transAxes, size=24, weight=600, ha='left', va='top')\n",
    "# #     ax.text(1, 0, 'by @pratapvardhan; credit @jburnmurdoch', transform=ax.transAxes, color='#777777', ha='right',\n",
    "# #             bbox=dict(facecolor='white', alpha=0.8, edgecolor='white'))\n",
    "#     plt.box(False)"
   ]
  },
  {
   "cell_type": "code",
   "execution_count": 42,
   "id": "sexual-wages",
   "metadata": {
    "execution": {
     "iopub.execute_input": "2022-04-12T12:15:13.701042Z",
     "iopub.status.busy": "2022-04-12T12:15:13.700395Z",
     "iopub.status.idle": "2022-04-12T12:15:13.702782Z",
     "shell.execute_reply": "2022-04-12T12:15:13.702258Z"
    },
    "papermill": {
     "duration": 0.042977,
     "end_time": "2022-04-12T12:15:13.702905",
     "exception": false,
     "start_time": "2022-04-12T12:15:13.659928",
     "status": "completed"
    },
    "tags": []
   },
   "outputs": [],
   "source": [
    "# #hide_input\n",
    "# fig, ax = plt.subplots(figsize=(15, 8))\n",
    "# animator = animation.FuncAnimation(fig, draw_barchart, frames=range(g.day.values.min(), g.day.values.max()))\n",
    "# HTML(animator.to_jshtml())\n",
    "# # or use animator.to_html5_video() or animator.save() "
   ]
  },
  {
   "cell_type": "code",
   "execution_count": null,
   "id": "australian-container",
   "metadata": {
    "papermill": {
     "duration": 0.035452,
     "end_time": "2022-04-12T12:15:13.773731",
     "exception": false,
     "start_time": "2022-04-12T12:15:13.738279",
     "status": "completed"
    },
    "tags": []
   },
   "outputs": [],
   "source": []
  },
  {
   "cell_type": "code",
   "execution_count": null,
   "id": "mediterranean-pontiac",
   "metadata": {
    "papermill": {
     "duration": 0.034638,
     "end_time": "2022-04-12T12:15:13.845907",
     "exception": false,
     "start_time": "2022-04-12T12:15:13.811269",
     "status": "completed"
    },
    "tags": []
   },
   "outputs": [],
   "source": []
  },
  {
   "cell_type": "code",
   "execution_count": null,
   "id": "aging-legislature",
   "metadata": {
    "papermill": {
     "duration": 0.034715,
     "end_time": "2022-04-12T12:15:13.916095",
     "exception": false,
     "start_time": "2022-04-12T12:15:13.881380",
     "status": "completed"
    },
    "tags": []
   },
   "outputs": [],
   "source": []
  }
 ],
 "metadata": {
  "kernelspec": {
   "display_name": "Python 3",
   "language": "python",
   "name": "python3"
  },
  "language_info": {
   "codemirror_mode": {
    "name": "ipython",
    "version": 3
   },
   "file_extension": ".py",
   "mimetype": "text/x-python",
   "name": "python",
   "nbconvert_exporter": "python",
   "pygments_lexer": "ipython3",
   "version": "3.6.15"
  },
  "papermill": {
   "duration": 7.319129,
   "end_time": "2022-04-12T12:15:14.371467",
   "environment_variables": {},
   "exception": null,
   "input_path": "2020-03-21-covid19exp.ipynb",
   "output_path": "2020-03-21-covid19exp.ipynb",
   "parameters": {},
   "start_time": "2022-04-12T12:15:07.052338",
   "version": "2.0.0"
  }
 },
 "nbformat": 4,
 "nbformat_minor": 5
}