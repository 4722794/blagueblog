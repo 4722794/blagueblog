{
 "cells": [
  {
   "cell_type": "markdown",
   "id": "muslim-click",
   "metadata": {
    "papermill": {
     "duration": 0.040326,
     "end_time": "2021-03-22T12:07:21.793151",
     "exception": false,
     "start_time": "2021-03-22T12:07:21.752825",
     "status": "completed"
    },
    "tags": []
   },
   "source": [
    "# COVID-19 Case Race\n",
    "> A race chart to see rising cases around the world\n",
    "\n",
    "- author: Hargun Oberoi\n",
    "- image: images/covid-overview.png\n",
    "- hide: false\n",
    "- badges: false"
   ]
  },
  {
   "cell_type": "code",
   "execution_count": 1,
   "id": "proof-material",
   "metadata": {
    "execution": {
     "iopub.execute_input": "2021-03-22T12:07:21.872876Z",
     "iopub.status.busy": "2021-03-22T12:07:21.872297Z",
     "iopub.status.idle": "2021-03-22T12:07:22.214171Z",
     "shell.execute_reply": "2021-03-22T12:07:22.213474Z"
    },
    "papermill": {
     "duration": 0.385482,
     "end_time": "2021-03-22T12:07:22.214364",
     "exception": false,
     "start_time": "2021-03-22T12:07:21.828882",
     "status": "completed"
    },
    "tags": []
   },
   "outputs": [],
   "source": [
    "#hide\n",
    "import numpy as np\n",
    "import pandas as pd\n",
    "from jinja2 import Template\n",
    "from IPython.display import HTML"
   ]
  },
  {
   "cell_type": "code",
   "execution_count": 2,
   "id": "developed-terminology",
   "metadata": {
    "execution": {
     "iopub.execute_input": "2021-03-22T12:07:22.297090Z",
     "iopub.status.busy": "2021-03-22T12:07:22.296459Z",
     "iopub.status.idle": "2021-03-22T12:07:22.298715Z",
     "shell.execute_reply": "2021-03-22T12:07:22.299217Z"
    },
    "papermill": {
     "duration": 0.04517,
     "end_time": "2021-03-22T12:07:22.299390",
     "exception": false,
     "start_time": "2021-03-22T12:07:22.254220",
     "status": "completed"
    },
    "tags": []
   },
   "outputs": [],
   "source": [
    "#hide\n",
    "\n",
    "# FETCH\n",
    "base_url = 'https://raw.githubusercontent.com/pratapvardhan/notebooks/master/covid19/'\n",
    "paths = {\n",
    "    'mapping': base_url + 'mapping_countries.csv',\n",
    "    'overview': base_url + 'overview.tpl'\n",
    "}"
   ]
  },
  {
   "cell_type": "code",
   "execution_count": 3,
   "id": "dynamic-saver",
   "metadata": {
    "execution": {
     "iopub.execute_input": "2021-03-22T12:07:22.385184Z",
     "iopub.status.busy": "2021-03-22T12:07:22.382346Z",
     "iopub.status.idle": "2021-03-22T12:07:22.389476Z",
     "shell.execute_reply": "2021-03-22T12:07:22.388774Z"
    },
    "papermill": {
     "duration": 0.053497,
     "end_time": "2021-03-22T12:07:22.389611",
     "exception": false,
     "start_time": "2021-03-22T12:07:22.336114",
     "status": "completed"
    },
    "tags": []
   },
   "outputs": [
    {
     "data": {
      "text/plain": [
       "'https://raw.githubusercontent.com/pratapvardhan/notebooks/master/covid19/mapping_countries.csv'"
      ]
     },
     "execution_count": 3,
     "metadata": {},
     "output_type": "execute_result"
    }
   ],
   "source": [
    "#hide\n",
    "paths['mapping']"
   ]
  },
  {
   "cell_type": "code",
   "execution_count": 4,
   "id": "urban-software",
   "metadata": {
    "execution": {
     "iopub.execute_input": "2021-03-22T12:07:22.467988Z",
     "iopub.status.busy": "2021-03-22T12:07:22.467202Z",
     "iopub.status.idle": "2021-03-22T12:07:22.469225Z",
     "shell.execute_reply": "2021-03-22T12:07:22.470176Z"
    },
    "papermill": {
     "duration": 0.045197,
     "end_time": "2021-03-22T12:07:22.470350",
     "exception": false,
     "start_time": "2021-03-22T12:07:22.425153",
     "status": "completed"
    },
    "tags": []
   },
   "outputs": [],
   "source": [
    "#hide\n",
    "def get_mappings(url):\n",
    "    df = pd.read_csv(url)\n",
    "    return {\n",
    "        'df': df,\n",
    "        'replace.country': dict(df.dropna(subset=['Name']).set_index('Country')['Name']),\n",
    "        'map.continent': dict(df.set_index('Name')['Continent'])\n",
    "    }"
   ]
  },
  {
   "cell_type": "code",
   "execution_count": 5,
   "id": "intimate-machinery",
   "metadata": {
    "execution": {
     "iopub.execute_input": "2021-03-22T12:07:22.542873Z",
     "iopub.status.busy": "2021-03-22T12:07:22.542377Z",
     "iopub.status.idle": "2021-03-22T12:07:22.583146Z",
     "shell.execute_reply": "2021-03-22T12:07:22.582610Z"
    },
    "papermill": {
     "duration": 0.078744,
     "end_time": "2021-03-22T12:07:22.583271",
     "exception": false,
     "start_time": "2021-03-22T12:07:22.504527",
     "status": "completed"
    },
    "tags": []
   },
   "outputs": [],
   "source": [
    "#hide\n",
    "mapping = get_mappings(paths['mapping'])"
   ]
  },
  {
   "cell_type": "code",
   "execution_count": 6,
   "id": "certified-tactics",
   "metadata": {
    "execution": {
     "iopub.execute_input": "2021-03-22T12:07:22.658546Z",
     "iopub.status.busy": "2021-03-22T12:07:22.657913Z",
     "iopub.status.idle": "2021-03-22T12:07:22.660346Z",
     "shell.execute_reply": "2021-03-22T12:07:22.659807Z"
    },
    "papermill": {
     "duration": 0.041584,
     "end_time": "2021-03-22T12:07:22.660471",
     "exception": false,
     "start_time": "2021-03-22T12:07:22.618887",
     "status": "completed"
    },
    "tags": []
   },
   "outputs": [],
   "source": [
    "#hide\n",
    "def get_template(path):\n",
    "    from urllib.parse import urlparse\n",
    "    if bool(urlparse(path).netloc):\n",
    "        from urllib.request import urlopen\n",
    "        return urlopen(path).read().decode('utf8')\n",
    "    return open(path).read()"
   ]
  },
  {
   "cell_type": "code",
   "execution_count": 7,
   "id": "realistic-blast",
   "metadata": {
    "execution": {
     "iopub.execute_input": "2021-03-22T12:07:22.741011Z",
     "iopub.status.busy": "2021-03-22T12:07:22.740461Z",
     "iopub.status.idle": "2021-03-22T12:07:22.743232Z",
     "shell.execute_reply": "2021-03-22T12:07:22.742573Z"
    },
    "papermill": {
     "duration": 0.044222,
     "end_time": "2021-03-22T12:07:22.743351",
     "exception": false,
     "start_time": "2021-03-22T12:07:22.699129",
     "status": "completed"
    },
    "tags": []
   },
   "outputs": [],
   "source": [
    "#hide\n",
    "def get_frame(name):\n",
    "    url = (\n",
    "        'https://raw.githubusercontent.com/CSSEGISandData/COVID-19/master/csse_covid_19_data/'\n",
    "        f'csse_covid_19_time_series/time_series_covid19_{name}_global.csv')\n",
    "    df = pd.read_csv(url)\n",
    "    # rename countries\n",
    "    df['Country/Region'] = df['Country/Region'].replace(mapping['replace.country'])\n",
    "    return df"
   ]
  },
  {
   "cell_type": "code",
   "execution_count": 8,
   "id": "affiliated-characterization",
   "metadata": {
    "execution": {
     "iopub.execute_input": "2021-03-22T12:07:22.824113Z",
     "iopub.status.busy": "2021-03-22T12:07:22.823573Z",
     "iopub.status.idle": "2021-03-22T12:07:22.825892Z",
     "shell.execute_reply": "2021-03-22T12:07:22.825438Z"
    },
    "papermill": {
     "duration": 0.045042,
     "end_time": "2021-03-22T12:07:22.826004",
     "exception": false,
     "start_time": "2021-03-22T12:07:22.780962",
     "status": "completed"
    },
    "tags": []
   },
   "outputs": [],
   "source": [
    "#hide\n",
    "def get_dates(df):\n",
    "    dt_cols = df.columns[~df.columns.isin(['Province/State', 'Country/Region', 'Lat', 'Long'])]\n",
    "    LAST_DATE_I = -1\n",
    "    # sometimes last column may be empty, then go backwards\n",
    "    for i in range(-1, -len(dt_cols), -1):\n",
    "        if not df[dt_cols[i]].fillna(0).eq(0).all():\n",
    "            LAST_DATE_I = i\n",
    "            break\n",
    "    return LAST_DATE_I, dt_cols"
   ]
  },
  {
   "cell_type": "code",
   "execution_count": 9,
   "id": "recent-optimization",
   "metadata": {
    "execution": {
     "iopub.execute_input": "2021-03-22T12:07:22.900474Z",
     "iopub.status.busy": "2021-03-22T12:07:22.899785Z",
     "iopub.status.idle": "2021-03-22T12:07:23.244768Z",
     "shell.execute_reply": "2021-03-22T12:07:23.244109Z"
    },
    "papermill": {
     "duration": 0.386974,
     "end_time": "2021-03-22T12:07:23.244972",
     "exception": false,
     "start_time": "2021-03-22T12:07:22.857998",
     "status": "completed"
    },
    "tags": []
   },
   "outputs": [],
   "source": [
    "#hide\n",
    "COL_REGION = 'Country/Region'\n",
    "# Confirmed, Recovered, Deaths\n",
    "df = get_frame('confirmed')\n",
    "# dft_: timeseries, dfc_: today country agg\n",
    "dft_cases = df\n",
    "dft_deaths = get_frame('deaths')\n",
    "dft_recovered = get_frame('recovered')\n",
    "LAST_DATE_I, dt_cols = get_dates(df)"
   ]
  },
  {
   "cell_type": "code",
   "execution_count": 10,
   "id": "absolute-copper",
   "metadata": {
    "execution": {
     "iopub.execute_input": "2021-03-22T12:07:23.334890Z",
     "iopub.status.busy": "2021-03-22T12:07:23.334300Z",
     "iopub.status.idle": "2021-03-22T12:07:23.336737Z",
     "shell.execute_reply": "2021-03-22T12:07:23.336269Z"
    },
    "papermill": {
     "duration": 0.046845,
     "end_time": "2021-03-22T12:07:23.336858",
     "exception": false,
     "start_time": "2021-03-22T12:07:23.290013",
     "status": "completed"
    },
    "tags": []
   },
   "outputs": [],
   "source": [
    "#hide\n",
    "LAST_DATE_I, dt_cols = get_dates(df)\n",
    "dt_today =dt_cols[LAST_DATE_I]\n",
    "# dt_5day = dt_cols[LAST_DATE_I - 5]\n",
    "dt_yday = dt_cols[LAST_DATE_I - 1]"
   ]
  },
  {
   "cell_type": "code",
   "execution_count": 11,
   "id": "restricted-sheriff",
   "metadata": {
    "execution": {
     "iopub.execute_input": "2021-03-22T12:07:23.416172Z",
     "iopub.status.busy": "2021-03-22T12:07:23.415600Z",
     "iopub.status.idle": "2021-03-22T12:07:23.425586Z",
     "shell.execute_reply": "2021-03-22T12:07:23.425002Z"
    },
    "papermill": {
     "duration": 0.052236,
     "end_time": "2021-03-22T12:07:23.425721",
     "exception": false,
     "start_time": "2021-03-22T12:07:23.373485",
     "status": "completed"
    },
    "tags": []
   },
   "outputs": [],
   "source": [
    "#hide\n",
    "dfc_cases = dft_cases.groupby(COL_REGION)[dt_today].sum()\n",
    "dfc_deaths = dft_deaths.groupby(COL_REGION)[dt_today].sum()\n",
    "# dfp_cases = dft_cases.groupby(COL_REGION)[dt_5day].sum()\n",
    "# dfp_deaths = dft_deaths.groupby(COL_REGION)[dt_5day].sum()\n",
    "dfp_cases = dft_cases.groupby(COL_REGION)[dt_yday].sum()\n",
    "dfp_deaths = dft_deaths.groupby(COL_REGION)[dt_yday].sum()"
   ]
  },
  {
   "cell_type": "code",
   "execution_count": 12,
   "id": "deluxe-hepatitis",
   "metadata": {
    "execution": {
     "iopub.execute_input": "2021-03-22T12:07:23.506494Z",
     "iopub.status.busy": "2021-03-22T12:07:23.505903Z",
     "iopub.status.idle": "2021-03-22T12:07:23.510742Z",
     "shell.execute_reply": "2021-03-22T12:07:23.511251Z"
    },
    "papermill": {
     "duration": 0.049707,
     "end_time": "2021-03-22T12:07:23.511374",
     "exception": false,
     "start_time": "2021-03-22T12:07:23.461667",
     "status": "completed"
    },
    "tags": []
   },
   "outputs": [],
   "source": [
    "#hide\n",
    "df_table = (pd.DataFrame(dict(Cases = dfc_cases, Deaths = dfc_deaths, PCases = dfp_cases, PDeaths = dfp_deaths))\n",
    "            .sort_values(by = ['Cases','Deaths'], ascending = [False, False])\n",
    "            .reset_index())"
   ]
  },
  {
   "cell_type": "code",
   "execution_count": 13,
   "id": "educational-chancellor",
   "metadata": {
    "execution": {
     "iopub.execute_input": "2021-03-22T12:07:23.609668Z",
     "iopub.status.busy": "2021-03-22T12:07:23.604977Z",
     "iopub.status.idle": "2021-03-22T12:07:23.618833Z",
     "shell.execute_reply": "2021-03-22T12:07:23.619371Z"
    },
    "papermill": {
     "duration": 0.067774,
     "end_time": "2021-03-22T12:07:23.619511",
     "exception": false,
     "start_time": "2021-03-22T12:07:23.551737",
     "status": "completed"
    },
    "tags": []
   },
   "outputs": [
    {
     "data": {
      "text/html": [
       "<div>\n",
       "<style scoped>\n",
       "    .dataframe tbody tr th:only-of-type {\n",
       "        vertical-align: middle;\n",
       "    }\n",
       "\n",
       "    .dataframe tbody tr th {\n",
       "        vertical-align: top;\n",
       "    }\n",
       "\n",
       "    .dataframe thead th {\n",
       "        text-align: right;\n",
       "    }\n",
       "</style>\n",
       "<table border=\"1\" class=\"dataframe\">\n",
       "  <thead>\n",
       "    <tr style=\"text-align: right;\">\n",
       "      <th></th>\n",
       "      <th>Country/Region</th>\n",
       "      <th>Cases</th>\n",
       "      <th>Deaths</th>\n",
       "      <th>PCases</th>\n",
       "      <th>PDeaths</th>\n",
       "      <th>Cases (+)</th>\n",
       "      <th>Deaths (+)</th>\n",
       "      <th>Fatality Rate</th>\n",
       "      <th>Continent</th>\n",
       "    </tr>\n",
       "  </thead>\n",
       "  <tbody>\n",
       "    <tr>\n",
       "      <th>0</th>\n",
       "      <td>US</td>\n",
       "      <td>29818930</td>\n",
       "      <td>542359</td>\n",
       "      <td>29785285</td>\n",
       "      <td>541927</td>\n",
       "      <td>33645</td>\n",
       "      <td>432</td>\n",
       "      <td>1.82</td>\n",
       "      <td>North America</td>\n",
       "    </tr>\n",
       "    <tr>\n",
       "      <th>1</th>\n",
       "      <td>Brazil</td>\n",
       "      <td>11998233</td>\n",
       "      <td>294042</td>\n",
       "      <td>11950459</td>\n",
       "      <td>292752</td>\n",
       "      <td>47774</td>\n",
       "      <td>1290</td>\n",
       "      <td>2.45</td>\n",
       "      <td>South America</td>\n",
       "    </tr>\n",
       "    <tr>\n",
       "      <th>2</th>\n",
       "      <td>India</td>\n",
       "      <td>11646081</td>\n",
       "      <td>159967</td>\n",
       "      <td>11599130</td>\n",
       "      <td>159755</td>\n",
       "      <td>46951</td>\n",
       "      <td>212</td>\n",
       "      <td>1.37</td>\n",
       "      <td>Asia</td>\n",
       "    </tr>\n",
       "    <tr>\n",
       "      <th>3</th>\n",
       "      <td>Russia</td>\n",
       "      <td>4407031</td>\n",
       "      <td>93457</td>\n",
       "      <td>4397816</td>\n",
       "      <td>93090</td>\n",
       "      <td>9215</td>\n",
       "      <td>367</td>\n",
       "      <td>2.12</td>\n",
       "      <td>Europe</td>\n",
       "    </tr>\n",
       "    <tr>\n",
       "      <th>4</th>\n",
       "      <td>United Kingdom</td>\n",
       "      <td>4310195</td>\n",
       "      <td>126393</td>\n",
       "      <td>4304839</td>\n",
       "      <td>126359</td>\n",
       "      <td>5356</td>\n",
       "      <td>34</td>\n",
       "      <td>2.93</td>\n",
       "      <td>Europe</td>\n",
       "    </tr>\n",
       "  </tbody>\n",
       "</table>\n",
       "</div>"
      ],
      "text/plain": [
       "   Country/Region     Cases  Deaths    PCases  PDeaths  Cases (+)  Deaths (+)  \\\n",
       "0              US  29818930  542359  29785285   541927      33645         432   \n",
       "1          Brazil  11998233  294042  11950459   292752      47774        1290   \n",
       "2           India  11646081  159967  11599130   159755      46951         212   \n",
       "3          Russia   4407031   93457   4397816    93090       9215         367   \n",
       "4  United Kingdom   4310195  126393   4304839   126359       5356          34   \n",
       "\n",
       "   Fatality Rate      Continent  \n",
       "0           1.82  North America  \n",
       "1           2.45  South America  \n",
       "2           1.37           Asia  \n",
       "3           2.12         Europe  \n",
       "4           2.93         Europe  "
      ]
     },
     "execution_count": 13,
     "metadata": {},
     "output_type": "execute_result"
    }
   ],
   "source": [
    "#hide\n",
    "for c in 'Cases, Deaths'.split(', '):\n",
    "    df_table[f'{c} (+)'] = (df_table[c] - df_table[f'P{c}']).clip(0)\n",
    "    #Clip ça veut dire, les chiffres negatif sont interdit\n",
    "df_table['Fatality Rate'] = (100* df_table['Deaths']/ df_table['Cases']).round(2)\n",
    "df_table['Continent'] = df_table['Country/Region'].map(mapping['map.continent'])\n",
    "df_table.head(5)"
   ]
  },
  {
   "cell_type": "code",
   "execution_count": 14,
   "id": "aboriginal-bulgaria",
   "metadata": {
    "execution": {
     "iopub.execute_input": "2021-03-22T12:07:23.706429Z",
     "iopub.status.busy": "2021-03-22T12:07:23.705783Z",
     "iopub.status.idle": "2021-03-22T12:07:23.708241Z",
     "shell.execute_reply": "2021-03-22T12:07:23.707698Z"
    },
    "papermill": {
     "duration": 0.050854,
     "end_time": "2021-03-22T12:07:23.708402",
     "exception": false,
     "start_time": "2021-03-22T12:07:23.657548",
     "status": "completed"
    },
    "tags": []
   },
   "outputs": [],
   "source": [
    "#hide\n",
    "#delete problematic countries from table\n",
    "df_table = df_table[~df_table['Country/Region'].isin(['Cape Verde', 'Cruise Ship', 'Kosovo'])]"
   ]
  },
  {
   "cell_type": "code",
   "execution_count": 15,
   "id": "fantastic-effect",
   "metadata": {
    "execution": {
     "iopub.execute_input": "2021-03-22T12:07:23.796217Z",
     "iopub.status.busy": "2021-03-22T12:07:23.795523Z",
     "iopub.status.idle": "2021-03-22T12:07:23.818351Z",
     "shell.execute_reply": "2021-03-22T12:07:23.818923Z"
    },
    "papermill": {
     "duration": 0.072112,
     "end_time": "2021-03-22T12:07:23.819080",
     "exception": false,
     "start_time": "2021-03-22T12:07:23.746968",
     "status": "completed"
    },
    "tags": []
   },
   "outputs": [
    {
     "data": {
      "text/html": [
       "<div>\n",
       "<style scoped>\n",
       "    .dataframe tbody tr th:only-of-type {\n",
       "        vertical-align: middle;\n",
       "    }\n",
       "\n",
       "    .dataframe tbody tr th {\n",
       "        vertical-align: top;\n",
       "    }\n",
       "\n",
       "    .dataframe thead th {\n",
       "        text-align: right;\n",
       "    }\n",
       "</style>\n",
       "<table border=\"1\" class=\"dataframe\">\n",
       "  <thead>\n",
       "    <tr style=\"text-align: right;\">\n",
       "      <th></th>\n",
       "      <th>Country/Region</th>\n",
       "      <th>Cases</th>\n",
       "      <th>Deaths</th>\n",
       "      <th>PCases</th>\n",
       "      <th>PDeaths</th>\n",
       "      <th>Cases (+)</th>\n",
       "      <th>Deaths (+)</th>\n",
       "      <th>Fatality Rate</th>\n",
       "      <th>Continent</th>\n",
       "    </tr>\n",
       "  </thead>\n",
       "  <tbody>\n",
       "    <tr>\n",
       "      <th>0</th>\n",
       "      <td>US</td>\n",
       "      <td>29818930</td>\n",
       "      <td>542359</td>\n",
       "      <td>29785285</td>\n",
       "      <td>541927</td>\n",
       "      <td>33645</td>\n",
       "      <td>432</td>\n",
       "      <td>1.8</td>\n",
       "      <td>North America</td>\n",
       "    </tr>\n",
       "    <tr>\n",
       "      <th>1</th>\n",
       "      <td>Brazil</td>\n",
       "      <td>11998233</td>\n",
       "      <td>294042</td>\n",
       "      <td>11950459</td>\n",
       "      <td>292752</td>\n",
       "      <td>47774</td>\n",
       "      <td>1290</td>\n",
       "      <td>2.5</td>\n",
       "      <td>South America</td>\n",
       "    </tr>\n",
       "    <tr>\n",
       "      <th>2</th>\n",
       "      <td>India</td>\n",
       "      <td>11646081</td>\n",
       "      <td>159967</td>\n",
       "      <td>11599130</td>\n",
       "      <td>159755</td>\n",
       "      <td>46951</td>\n",
       "      <td>212</td>\n",
       "      <td>1.4</td>\n",
       "      <td>Asia</td>\n",
       "    </tr>\n",
       "    <tr>\n",
       "      <th>3</th>\n",
       "      <td>Russia</td>\n",
       "      <td>4407031</td>\n",
       "      <td>93457</td>\n",
       "      <td>4397816</td>\n",
       "      <td>93090</td>\n",
       "      <td>9215</td>\n",
       "      <td>367</td>\n",
       "      <td>2.1</td>\n",
       "      <td>Europe</td>\n",
       "    </tr>\n",
       "    <tr>\n",
       "      <th>4</th>\n",
       "      <td>United Kingdom</td>\n",
       "      <td>4310195</td>\n",
       "      <td>126393</td>\n",
       "      <td>4304839</td>\n",
       "      <td>126359</td>\n",
       "      <td>5356</td>\n",
       "      <td>34</td>\n",
       "      <td>2.9</td>\n",
       "      <td>Europe</td>\n",
       "    </tr>\n",
       "  </tbody>\n",
       "</table>\n",
       "</div>"
      ],
      "text/plain": [
       "   Country/Region     Cases  Deaths    PCases  PDeaths  Cases (+)  Deaths (+)  \\\n",
       "0              US  29818930  542359  29785285   541927      33645         432   \n",
       "1          Brazil  11998233  294042  11950459   292752      47774        1290   \n",
       "2           India  11646081  159967  11599130   159755      46951         212   \n",
       "3          Russia   4407031   93457   4397816    93090       9215         367   \n",
       "4  United Kingdom   4310195  126393   4304839   126359       5356          34   \n",
       "\n",
       "   Fatality Rate      Continent  \n",
       "0            1.8  North America  \n",
       "1            2.5  South America  \n",
       "2            1.4           Asia  \n",
       "3            2.1         Europe  \n",
       "4            2.9         Europe  "
      ]
     },
     "execution_count": 15,
     "metadata": {},
     "output_type": "execute_result"
    }
   ],
   "source": [
    "#hide\n",
    "df_table = (pd.DataFrame(dict(Cases=dfc_cases, Deaths=dfc_deaths, PCases=dfp_cases, PDeaths=dfp_deaths))\n",
    "             .sort_values(by=['Cases', 'Deaths'], ascending=[False, False])\n",
    "             .reset_index())\n",
    "df_table.rename(columns={'index': 'Country/Region'}, inplace=True)\n",
    "for c in 'Cases, Deaths'.split(', '):\n",
    "    df_table[f'{c} (+)'] = (df_table[c] - df_table[f'P{c}']).clip(0)  # DATA BUG\n",
    "df_table['Fatality Rate'] = (100 * df_table['Deaths'] / df_table['Cases']).round(1)\n",
    "df_table['Continent'] = df_table['Country/Region'].map(mapping['map.continent'])\n",
    "df_table.head(5)"
   ]
  },
  {
   "cell_type": "code",
   "execution_count": 16,
   "id": "fewer-occasion",
   "metadata": {
    "execution": {
     "iopub.execute_input": "2021-03-22T12:07:23.899774Z",
     "iopub.status.busy": "2021-03-22T12:07:23.898857Z",
     "iopub.status.idle": "2021-03-22T12:07:23.900748Z",
     "shell.execute_reply": "2021-03-22T12:07:23.901389Z"
    },
    "papermill": {
     "duration": 0.046743,
     "end_time": "2021-03-22T12:07:23.901537",
     "exception": false,
     "start_time": "2021-03-22T12:07:23.854794",
     "status": "completed"
    },
    "tags": []
   },
   "outputs": [],
   "source": [
    "#hide\n",
    "#delete problematic countries from table\n",
    "df_table = df_table[~df_table['Country/Region'].isin(['Cape Verde', 'Cruise Ship', 'Kosovo'])]"
   ]
  },
  {
   "cell_type": "code",
   "execution_count": 17,
   "id": "related-center",
   "metadata": {
    "execution": {
     "iopub.execute_input": "2021-03-22T12:07:24.023023Z",
     "iopub.status.busy": "2021-03-22T12:07:24.022370Z",
     "iopub.status.idle": "2021-03-22T12:07:24.024953Z",
     "shell.execute_reply": "2021-03-22T12:07:24.024333Z"
    },
    "papermill": {
     "duration": 0.075939,
     "end_time": "2021-03-22T12:07:24.025086",
     "exception": false,
     "start_time": "2021-03-22T12:07:23.949147",
     "status": "completed"
    },
    "tags": []
   },
   "outputs": [],
   "source": [
    "#hide\n",
    "metrics = [df_table.columns[index] for index in [1,2,5,6]]\n",
    "# s_china = df_table[df_table['Country/Region'].eq('China')][metrics].sum().add_prefix('China ')\n",
    "s_us = df_table[df_table['Country/Region'].eq('US')][metrics].sum().add_prefix('US ')\n",
    "s_eu = df_table[df_table['Continent'].eq('Europe')][metrics].sum().add_prefix('EU ')\n",
    "s_ind = df_table[df_table['Country/Region'].eq('India')][metrics].sum().add_prefix('India ')\n",
    "summary = {'updated': pd.to_datetime(dt_today), 'since': pd.to_datetime(dt_yday)}\n",
    "summary = {'updated': pd.to_datetime(dt_today), 'since': pd.to_datetime(dt_yday)}\n",
    "summary = {**summary, **df_table[metrics].sum(), **s_ind, **s_us, **s_eu}"
   ]
  },
  {
   "cell_type": "code",
   "execution_count": 18,
   "id": "engaging-syndrome",
   "metadata": {
    "execution": {
     "iopub.execute_input": "2021-03-22T12:07:24.110433Z",
     "iopub.status.busy": "2021-03-22T12:07:24.109636Z",
     "iopub.status.idle": "2021-03-22T12:07:24.122151Z",
     "shell.execute_reply": "2021-03-22T12:07:24.122733Z"
    },
    "papermill": {
     "duration": 0.057228,
     "end_time": "2021-03-22T12:07:24.122906",
     "exception": false,
     "start_time": "2021-03-22T12:07:24.065678",
     "status": "completed"
    },
    "tags": []
   },
   "outputs": [],
   "source": [
    "#hide\n",
    "dft_ct_new_cases = dft_cases.groupby(COL_REGION)[dt_cols].sum().diff(axis=1).fillna(0).astype(int)"
   ]
  },
  {
   "cell_type": "code",
   "execution_count": 19,
   "id": "neutral-assignment",
   "metadata": {
    "execution": {
     "iopub.execute_input": "2021-03-22T12:07:24.224034Z",
     "iopub.status.busy": "2021-03-22T12:07:24.223419Z",
     "iopub.status.idle": "2021-03-22T12:07:24.225954Z",
     "shell.execute_reply": "2021-03-22T12:07:24.225358Z"
    },
    "papermill": {
     "duration": 0.062127,
     "end_time": "2021-03-22T12:07:24.226072",
     "exception": false,
     "start_time": "2021-03-22T12:07:24.163945",
     "status": "completed"
    },
    "tags": []
   },
   "outputs": [],
   "source": [
    "#hide\n",
    "everydaycases = dft_ct_new_cases.cumsum(axis=1)"
   ]
  },
  {
   "cell_type": "code",
   "execution_count": 20,
   "id": "parliamentary-calgary",
   "metadata": {
    "execution": {
     "iopub.execute_input": "2021-03-22T12:07:24.316295Z",
     "iopub.status.busy": "2021-03-22T12:07:24.315706Z",
     "iopub.status.idle": "2021-03-22T12:07:26.229244Z",
     "shell.execute_reply": "2021-03-22T12:07:26.228384Z"
    },
    "papermill": {
     "duration": 1.959674,
     "end_time": "2021-03-22T12:07:26.229401",
     "exception": false,
     "start_time": "2021-03-22T12:07:24.269727",
     "status": "completed"
    },
    "tags": []
   },
   "outputs": [],
   "source": [
    "#hide\n",
    "import pandas as pd\n",
    "import matplotlib.pyplot as plt\n",
    "import matplotlib.ticker as ticker\n",
    "import matplotlib.animation as animation\n",
    "from IPython.display import HTML"
   ]
  },
  {
   "cell_type": "code",
   "execution_count": 21,
   "id": "lasting-extraction",
   "metadata": {
    "execution": {
     "iopub.execute_input": "2021-03-22T12:07:26.319616Z",
     "iopub.status.busy": "2021-03-22T12:07:26.319040Z",
     "iopub.status.idle": "2021-03-22T12:07:26.324039Z",
     "shell.execute_reply": "2021-03-22T12:07:26.323555Z"
    },
    "papermill": {
     "duration": 0.053322,
     "end_time": "2021-03-22T12:07:26.324180",
     "exception": false,
     "start_time": "2021-03-22T12:07:26.270858",
     "status": "completed"
    },
    "tags": []
   },
   "outputs": [],
   "source": [
    "#hide\n",
    "t = everydaycases.stack()"
   ]
  },
  {
   "cell_type": "code",
   "execution_count": 22,
   "id": "premier-sleeve",
   "metadata": {
    "execution": {
     "iopub.execute_input": "2021-03-22T12:07:26.416154Z",
     "iopub.status.busy": "2021-03-22T12:07:26.415485Z",
     "iopub.status.idle": "2021-03-22T12:07:26.424661Z",
     "shell.execute_reply": "2021-03-22T12:07:26.425321Z"
    },
    "papermill": {
     "duration": 0.059926,
     "end_time": "2021-03-22T12:07:26.425477",
     "exception": false,
     "start_time": "2021-03-22T12:07:26.365551",
     "status": "completed"
    },
    "tags": []
   },
   "outputs": [],
   "source": [
    "#hide\n",
    "g = t.reset_index(['Country/Region'])"
   ]
  },
  {
   "cell_type": "code",
   "execution_count": 23,
   "id": "distributed-pittsburgh",
   "metadata": {
    "execution": {
     "iopub.execute_input": "2021-03-22T12:07:26.510091Z",
     "iopub.status.busy": "2021-03-22T12:07:26.508962Z",
     "iopub.status.idle": "2021-03-22T12:07:26.510962Z",
     "shell.execute_reply": "2021-03-22T12:07:26.511549Z"
    },
    "papermill": {
     "duration": 0.045678,
     "end_time": "2021-03-22T12:07:26.511688",
     "exception": false,
     "start_time": "2021-03-22T12:07:26.466010",
     "status": "completed"
    },
    "tags": []
   },
   "outputs": [],
   "source": [
    "#hide\n",
    "g.index.name = 'date'"
   ]
  },
  {
   "cell_type": "code",
   "execution_count": 24,
   "id": "naked-donor",
   "metadata": {
    "execution": {
     "iopub.execute_input": "2021-03-22T12:07:26.597918Z",
     "iopub.status.busy": "2021-03-22T12:07:26.597252Z",
     "iopub.status.idle": "2021-03-22T12:07:26.599721Z",
     "shell.execute_reply": "2021-03-22T12:07:26.599161Z"
    },
    "papermill": {
     "duration": 0.048197,
     "end_time": "2021-03-22T12:07:26.599946",
     "exception": false,
     "start_time": "2021-03-22T12:07:26.551749",
     "status": "completed"
    },
    "tags": []
   },
   "outputs": [],
   "source": [
    "# #hide\n",
    "# g = g.reset_index(['date'])"
   ]
  },
  {
   "cell_type": "code",
   "execution_count": 25,
   "id": "incomplete-mustang",
   "metadata": {
    "execution": {
     "iopub.execute_input": "2021-03-22T12:07:26.684390Z",
     "iopub.status.busy": "2021-03-22T12:07:26.683655Z",
     "iopub.status.idle": "2021-03-22T12:07:26.686371Z",
     "shell.execute_reply": "2021-03-22T12:07:26.685810Z"
    },
    "papermill": {
     "duration": 0.046411,
     "end_time": "2021-03-22T12:07:26.686512",
     "exception": false,
     "start_time": "2021-03-22T12:07:26.640101",
     "status": "completed"
    },
    "tags": []
   },
   "outputs": [],
   "source": [
    "#hide\n",
    "# g.head()"
   ]
  },
  {
   "cell_type": "code",
   "execution_count": 26,
   "id": "specific-kruger",
   "metadata": {
    "execution": {
     "iopub.execute_input": "2021-03-22T12:07:26.780707Z",
     "iopub.status.busy": "2021-03-22T12:07:26.780056Z",
     "iopub.status.idle": "2021-03-22T12:07:26.782088Z",
     "shell.execute_reply": "2021-03-22T12:07:26.782717Z"
    },
    "papermill": {
     "duration": 0.047245,
     "end_time": "2021-03-22T12:07:26.782860",
     "exception": false,
     "start_time": "2021-03-22T12:07:26.735615",
     "status": "completed"
    },
    "tags": []
   },
   "outputs": [],
   "source": [
    "#hide\n",
    "# g.columns = ['date','country','cases']"
   ]
  },
  {
   "cell_type": "code",
   "execution_count": 27,
   "id": "tender-conversion",
   "metadata": {
    "execution": {
     "iopub.execute_input": "2021-03-22T12:07:26.866770Z",
     "iopub.status.busy": "2021-03-22T12:07:26.866214Z",
     "iopub.status.idle": "2021-03-22T12:07:26.868602Z",
     "shell.execute_reply": "2021-03-22T12:07:26.868134Z"
    },
    "papermill": {
     "duration": 0.046111,
     "end_time": "2021-03-22T12:07:26.868713",
     "exception": false,
     "start_time": "2021-03-22T12:07:26.822602",
     "status": "completed"
    },
    "tags": []
   },
   "outputs": [],
   "source": [
    "#hide\n",
    "# g['continent'] = g.country"
   ]
  },
  {
   "cell_type": "code",
   "execution_count": 28,
   "id": "substantial-wilderness",
   "metadata": {
    "execution": {
     "iopub.execute_input": "2021-03-22T12:07:26.949173Z",
     "iopub.status.busy": "2021-03-22T12:07:26.948387Z",
     "iopub.status.idle": "2021-03-22T12:07:26.950731Z",
     "shell.execute_reply": "2021-03-22T12:07:26.951345Z"
    },
    "papermill": {
     "duration": 0.043831,
     "end_time": "2021-03-22T12:07:26.951474",
     "exception": false,
     "start_time": "2021-03-22T12:07:26.907643",
     "status": "completed"
    },
    "tags": []
   },
   "outputs": [],
   "source": [
    "#hide\n",
    "# cols = list(g.columns.values)"
   ]
  },
  {
   "cell_type": "code",
   "execution_count": 29,
   "id": "solved-farming",
   "metadata": {
    "execution": {
     "iopub.execute_input": "2021-03-22T12:07:27.040322Z",
     "iopub.status.busy": "2021-03-22T12:07:27.039443Z",
     "iopub.status.idle": "2021-03-22T12:07:27.043016Z",
     "shell.execute_reply": "2021-03-22T12:07:27.042473Z"
    },
    "papermill": {
     "duration": 0.050361,
     "end_time": "2021-03-22T12:07:27.043142",
     "exception": false,
     "start_time": "2021-03-22T12:07:26.992781",
     "status": "completed"
    },
    "tags": []
   },
   "outputs": [],
   "source": [
    "#hide\n",
    "# cols.insert(0, cols.pop())"
   ]
  },
  {
   "cell_type": "code",
   "execution_count": 30,
   "id": "executed-adoption",
   "metadata": {
    "execution": {
     "iopub.execute_input": "2021-03-22T12:07:27.147224Z",
     "iopub.status.busy": "2021-03-22T12:07:27.146509Z",
     "iopub.status.idle": "2021-03-22T12:07:27.149368Z",
     "shell.execute_reply": "2021-03-22T12:07:27.148761Z"
    },
    "papermill": {
     "duration": 0.056287,
     "end_time": "2021-03-22T12:07:27.149503",
     "exception": false,
     "start_time": "2021-03-22T12:07:27.093216",
     "status": "completed"
    },
    "tags": []
   },
   "outputs": [],
   "source": [
    "#hide\n",
    "# g = g[cols]"
   ]
  },
  {
   "cell_type": "code",
   "execution_count": 31,
   "id": "subject-dublin",
   "metadata": {
    "execution": {
     "iopub.execute_input": "2021-03-22T12:07:27.234833Z",
     "iopub.status.busy": "2021-03-22T12:07:27.234129Z",
     "iopub.status.idle": "2021-03-22T12:07:27.236735Z",
     "shell.execute_reply": "2021-03-22T12:07:27.236173Z"
    },
    "papermill": {
     "duration": 0.046223,
     "end_time": "2021-03-22T12:07:27.236866",
     "exception": false,
     "start_time": "2021-03-22T12:07:27.190643",
     "status": "completed"
    },
    "tags": []
   },
   "outputs": [],
   "source": [
    "#hide\n",
    "# g['continent'] = g['continent'].map(mapping['map.continent'])"
   ]
  },
  {
   "cell_type": "code",
   "execution_count": 32,
   "id": "freelance-scout",
   "metadata": {
    "execution": {
     "iopub.execute_input": "2021-03-22T12:07:27.328459Z",
     "iopub.status.busy": "2021-03-22T12:07:27.327765Z",
     "iopub.status.idle": "2021-03-22T12:07:27.330615Z",
     "shell.execute_reply": "2021-03-22T12:07:27.329910Z"
    },
    "papermill": {
     "duration": 0.049238,
     "end_time": "2021-03-22T12:07:27.330786",
     "exception": false,
     "start_time": "2021-03-22T12:07:27.281548",
     "status": "completed"
    },
    "tags": []
   },
   "outputs": [],
   "source": [
    "#hide\n",
    "# g.head()"
   ]
  },
  {
   "cell_type": "code",
   "execution_count": 33,
   "id": "limited-engine",
   "metadata": {
    "execution": {
     "iopub.execute_input": "2021-03-22T12:07:27.421377Z",
     "iopub.status.busy": "2021-03-22T12:07:27.420687Z",
     "iopub.status.idle": "2021-03-22T12:07:27.423121Z",
     "shell.execute_reply": "2021-03-22T12:07:27.423726Z"
    },
    "papermill": {
     "duration": 0.05078,
     "end_time": "2021-03-22T12:07:27.423885",
     "exception": false,
     "start_time": "2021-03-22T12:07:27.373105",
     "status": "completed"
    },
    "tags": []
   },
   "outputs": [],
   "source": [
    "# hide\n",
    "# g['date'] = g['date'].astype('datetime64[ns]')"
   ]
  },
  {
   "cell_type": "code",
   "execution_count": 34,
   "id": "sophisticated-supervisor",
   "metadata": {
    "execution": {
     "iopub.execute_input": "2021-03-22T12:07:27.510785Z",
     "iopub.status.busy": "2021-03-22T12:07:27.510115Z",
     "iopub.status.idle": "2021-03-22T12:07:27.513098Z",
     "shell.execute_reply": "2021-03-22T12:07:27.512271Z"
    },
    "papermill": {
     "duration": 0.049499,
     "end_time": "2021-03-22T12:07:27.513238",
     "exception": false,
     "start_time": "2021-03-22T12:07:27.463739",
     "status": "completed"
    },
    "tags": []
   },
   "outputs": [],
   "source": [
    "#hide\n",
    "# g['date'] = g.date.dt.dayofyear"
   ]
  },
  {
   "cell_type": "code",
   "execution_count": 35,
   "id": "inside-dubai",
   "metadata": {
    "execution": {
     "iopub.execute_input": "2021-03-22T12:07:27.598761Z",
     "iopub.status.busy": "2021-03-22T12:07:27.598149Z",
     "iopub.status.idle": "2021-03-22T12:07:27.600339Z",
     "shell.execute_reply": "2021-03-22T12:07:27.599785Z"
    },
    "papermill": {
     "duration": 0.045513,
     "end_time": "2021-03-22T12:07:27.600456",
     "exception": false,
     "start_time": "2021-03-22T12:07:27.554943",
     "status": "completed"
    },
    "tags": []
   },
   "outputs": [],
   "source": [
    "#hide\n",
    "# g = g.rename(columns= {'continent':'group','country':'name','cases':'value'})"
   ]
  },
  {
   "cell_type": "code",
   "execution_count": 36,
   "id": "fleet-motorcycle",
   "metadata": {
    "execution": {
     "iopub.execute_input": "2021-03-22T12:07:27.679630Z",
     "iopub.status.busy": "2021-03-22T12:07:27.679036Z",
     "iopub.status.idle": "2021-03-22T12:07:27.681301Z",
     "shell.execute_reply": "2021-03-22T12:07:27.681815Z"
    },
    "papermill": {
     "duration": 0.043494,
     "end_time": "2021-03-22T12:07:27.681953",
     "exception": false,
     "start_time": "2021-03-22T12:07:27.638459",
     "status": "completed"
    },
    "tags": []
   },
   "outputs": [],
   "source": [
    "#hide\n",
    "# cols = ['name','group','day','value']"
   ]
  },
  {
   "cell_type": "code",
   "execution_count": 37,
   "id": "continued-sleeping",
   "metadata": {
    "execution": {
     "iopub.execute_input": "2021-03-22T12:07:27.768514Z",
     "iopub.status.busy": "2021-03-22T12:07:27.767777Z",
     "iopub.status.idle": "2021-03-22T12:07:27.770430Z",
     "shell.execute_reply": "2021-03-22T12:07:27.769729Z"
    },
    "papermill": {
     "duration": 0.050433,
     "end_time": "2021-03-22T12:07:27.770567",
     "exception": false,
     "start_time": "2021-03-22T12:07:27.720134",
     "status": "completed"
    },
    "tags": []
   },
   "outputs": [],
   "source": [
    "#hide\n",
    "# g.rename(columns= {'date':'day'},inplace = True)"
   ]
  },
  {
   "cell_type": "code",
   "execution_count": 38,
   "id": "major-fight",
   "metadata": {
    "execution": {
     "iopub.execute_input": "2021-03-22T12:07:27.856269Z",
     "iopub.status.busy": "2021-03-22T12:07:27.855571Z",
     "iopub.status.idle": "2021-03-22T12:07:27.858322Z",
     "shell.execute_reply": "2021-03-22T12:07:27.857727Z"
    },
    "papermill": {
     "duration": 0.047448,
     "end_time": "2021-03-22T12:07:27.858453",
     "exception": false,
     "start_time": "2021-03-22T12:07:27.811005",
     "status": "completed"
    },
    "tags": []
   },
   "outputs": [],
   "source": [
    "#hide\n",
    "# g = g[cols]"
   ]
  },
  {
   "cell_type": "code",
   "execution_count": 39,
   "id": "structured-mobile",
   "metadata": {
    "execution": {
     "iopub.execute_input": "2021-03-22T12:07:27.942634Z",
     "iopub.status.busy": "2021-03-22T12:07:27.941882Z",
     "iopub.status.idle": "2021-03-22T12:07:27.944440Z",
     "shell.execute_reply": "2021-03-22T12:07:27.943900Z"
    },
    "papermill": {
     "duration": 0.047355,
     "end_time": "2021-03-22T12:07:27.944572",
     "exception": false,
     "start_time": "2021-03-22T12:07:27.897217",
     "status": "completed"
    },
    "tags": []
   },
   "outputs": [],
   "source": [
    "# #hide\n",
    "# g = g[g.group.notna()]"
   ]
  },
  {
   "cell_type": "code",
   "execution_count": 40,
   "id": "determined-closing",
   "metadata": {
    "execution": {
     "iopub.execute_input": "2021-03-22T12:07:28.041405Z",
     "iopub.status.busy": "2021-03-22T12:07:28.040706Z",
     "iopub.status.idle": "2021-03-22T12:07:28.043280Z",
     "shell.execute_reply": "2021-03-22T12:07:28.042739Z"
    },
    "papermill": {
     "duration": 0.052885,
     "end_time": "2021-03-22T12:07:28.043408",
     "exception": false,
     "start_time": "2021-03-22T12:07:27.990523",
     "status": "completed"
    },
    "tags": []
   },
   "outputs": [],
   "source": [
    "# #hide\n",
    "# colors = dict(zip(\n",
    "#     [\"Oceania\", \"Europe\", \"Asia\", \"South America\", \"Middle East\", \"North America\", \"Africa\"],\n",
    "#     [\"#adb0ff\", \"#ffb3ff\", \"#90d595\", \"#e48381\", \"#aafbff\", \"#f7bb5f\", \"#eafb50\"]\n",
    "# ))\n",
    "# group_lk = g.set_index('name')['group'].to_dict()"
   ]
  },
  {
   "cell_type": "code",
   "execution_count": null,
   "id": "gross-drinking",
   "metadata": {
    "papermill": {
     "duration": 0.041934,
     "end_time": "2021-03-22T12:07:28.138254",
     "exception": false,
     "start_time": "2021-03-22T12:07:28.096320",
     "status": "completed"
    },
    "tags": []
   },
   "outputs": [],
   "source": []
  },
  {
   "cell_type": "code",
   "execution_count": 41,
   "id": "subject-macintosh",
   "metadata": {
    "execution": {
     "iopub.execute_input": "2021-03-22T12:07:28.221300Z",
     "iopub.status.busy": "2021-03-22T12:07:28.220558Z",
     "iopub.status.idle": "2021-03-22T12:07:28.222072Z",
     "shell.execute_reply": "2021-03-22T12:07:28.222698Z"
    },
    "papermill": {
     "duration": 0.044901,
     "end_time": "2021-03-22T12:07:28.222844",
     "exception": false,
     "start_time": "2021-03-22T12:07:28.177943",
     "status": "completed"
    },
    "tags": []
   },
   "outputs": [],
   "source": [
    "# #hide\n",
    "# fig, ax = plt.subplots(figsize=(15, 8))\n",
    "\n",
    "# def draw_barchart(current_day):\n",
    "#     dff = g[g['day'].eq(current_day)].sort_values(by='value', ascending=True).tail(10)\n",
    "#     ax.clear()\n",
    "#     ax.barh(dff['name'], dff['value'], color=[colors[group_lk[x]] for x in dff['name']])\n",
    "#     dx = dff['value'].max() / 200\n",
    "    \n",
    "#     for i, (value, name) in enumerate(zip(dff['value'], dff['name'])):\n",
    "#         ax.text(value-dx, i,     name,           size=14, weight=600, ha='right', va='bottom')\n",
    "#         ax.text(value-dx, i-.25, group_lk[name], size=10, color='#444444', ha='right', va='baseline')\n",
    "#         ax.text(value+dx, i,     f'{value:,.0f}',  size=14, ha='left',  va='center')\n",
    "#     ax.text(1, 0.4, current_day, transform=ax.transAxes, color='#777777', size=46, ha='right', weight=800)\n",
    "#     ax.text(0, 1.06, 'Population (thousands)', transform=ax.transAxes, size=12, color='#777777')\n",
    "#     ax.xaxis.set_major_formatter(ticker.StrMethodFormatter('{x:,.0f}'))\n",
    "#     ax.xaxis.set_ticks_position('top')\n",
    "#     ax.tick_params(axis='x', colors='#777777', labelsize=12)\n",
    "#     ax.set_yticks([])\n",
    "#     ax.margins(0, 0.01)\n",
    "#     ax.grid(which='major', axis='x', linestyle='-')\n",
    "#     ax.set_axisbelow(True)\n",
    "    \n",
    "#     ax.text(0, 1.15, 'Coronavirus',\n",
    "#             transform=ax.transAxes, size=24, weight=600, ha='left', va='top')\n",
    "# #     ax.text(1, 0, 'by @pratapvardhan; credit @jburnmurdoch', transform=ax.transAxes, color='#777777', ha='right',\n",
    "# #             bbox=dict(facecolor='white', alpha=0.8, edgecolor='white'))\n",
    "#     plt.box(False)"
   ]
  },
  {
   "cell_type": "code",
   "execution_count": 42,
   "id": "sexual-wages",
   "metadata": {
    "execution": {
     "iopub.execute_input": "2021-03-22T12:07:28.317317Z",
     "iopub.status.busy": "2021-03-22T12:07:28.316589Z",
     "iopub.status.idle": "2021-03-22T12:07:28.319345Z",
     "shell.execute_reply": "2021-03-22T12:07:28.318781Z"
    },
    "papermill": {
     "duration": 0.051629,
     "end_time": "2021-03-22T12:07:28.319490",
     "exception": false,
     "start_time": "2021-03-22T12:07:28.267861",
     "status": "completed"
    },
    "tags": []
   },
   "outputs": [],
   "source": [
    "# #hide_input\n",
    "# fig, ax = plt.subplots(figsize=(15, 8))\n",
    "# animator = animation.FuncAnimation(fig, draw_barchart, frames=range(g.day.values.min(), g.day.values.max()))\n",
    "# HTML(animator.to_jshtml())\n",
    "# # or use animator.to_html5_video() or animator.save() "
   ]
  },
  {
   "cell_type": "code",
   "execution_count": null,
   "id": "australian-container",
   "metadata": {
    "papermill": {
     "duration": 0.038064,
     "end_time": "2021-03-22T12:07:28.397915",
     "exception": false,
     "start_time": "2021-03-22T12:07:28.359851",
     "status": "completed"
    },
    "tags": []
   },
   "outputs": [],
   "source": []
  },
  {
   "cell_type": "code",
   "execution_count": null,
   "id": "mediterranean-pontiac",
   "metadata": {
    "papermill": {
     "duration": 0.036824,
     "end_time": "2021-03-22T12:07:28.475233",
     "exception": false,
     "start_time": "2021-03-22T12:07:28.438409",
     "status": "completed"
    },
    "tags": []
   },
   "outputs": [],
   "source": []
  },
  {
   "cell_type": "code",
   "execution_count": null,
   "id": "aging-legislature",
   "metadata": {
    "papermill": {
     "duration": 0.037378,
     "end_time": "2021-03-22T12:07:28.553111",
     "exception": false,
     "start_time": "2021-03-22T12:07:28.515733",
     "status": "completed"
    },
    "tags": []
   },
   "outputs": [],
   "source": []
  }
 ],
 "metadata": {
  "kernelspec": {
   "display_name": "Python 3",
   "language": "python",
   "name": "python3"
  },
  "language_info": {
   "codemirror_mode": {
    "name": "ipython",
    "version": 3
   },
   "file_extension": ".py",
   "mimetype": "text/x-python",
   "name": "python",
   "nbconvert_exporter": "python",
   "pygments_lexer": "ipython3",
   "version": "3.6.13"
  },
  "papermill": {
   "duration": 9.408324,
   "end_time": "2021-03-22T12:07:29.832775",
   "environment_variables": {},
   "exception": null,
   "input_path": "2020-03-21-covid19exp.ipynb",
   "output_path": "2020-03-21-covid19exp.ipynb",
   "parameters": {},
   "start_time": "2021-03-22T12:07:20.424451",
   "version": "2.0.0"
  }
 },
 "nbformat": 4,
 "nbformat_minor": 5
}