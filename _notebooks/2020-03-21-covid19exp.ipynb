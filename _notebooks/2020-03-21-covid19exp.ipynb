{
 "cells": [
  {
   "cell_type": "markdown",
   "id": "muslim-click",
   "metadata": {
    "papermill": {
     "duration": 0.040647,
     "end_time": "2021-05-05T00:12:59.931610",
     "exception": false,
     "start_time": "2021-05-05T00:12:59.890963",
     "status": "completed"
    },
    "tags": []
   },
   "source": [
    "# COVID-19 Case Race\n",
    "> A race chart to see rising cases around the world\n",
    "\n",
    "- author: Hargun Oberoi\n",
    "- image: images/covid-overview.png\n",
    "- hide: false\n",
    "- badges: false"
   ]
  },
  {
   "cell_type": "code",
   "execution_count": 1,
   "id": "proof-material",
   "metadata": {
    "execution": {
     "iopub.execute_input": "2021-05-05T00:13:00.018881Z",
     "iopub.status.busy": "2021-05-05T00:13:00.018158Z",
     "iopub.status.idle": "2021-05-05T00:13:00.388060Z",
     "shell.execute_reply": "2021-05-05T00:13:00.387368Z"
    },
    "papermill": {
     "duration": 0.41872,
     "end_time": "2021-05-05T00:13:00.388214",
     "exception": false,
     "start_time": "2021-05-05T00:12:59.969494",
     "status": "completed"
    },
    "tags": []
   },
   "outputs": [],
   "source": [
    "#hide\n",
    "import numpy as np\n",
    "import pandas as pd\n",
    "from jinja2 import Template\n",
    "from IPython.display import HTML"
   ]
  },
  {
   "cell_type": "code",
   "execution_count": 2,
   "id": "developed-terminology",
   "metadata": {
    "execution": {
     "iopub.execute_input": "2021-05-05T00:13:00.468726Z",
     "iopub.status.busy": "2021-05-05T00:13:00.468073Z",
     "iopub.status.idle": "2021-05-05T00:13:00.470544Z",
     "shell.execute_reply": "2021-05-05T00:13:00.469989Z"
    },
    "papermill": {
     "duration": 0.043516,
     "end_time": "2021-05-05T00:13:00.470690",
     "exception": false,
     "start_time": "2021-05-05T00:13:00.427174",
     "status": "completed"
    },
    "tags": []
   },
   "outputs": [],
   "source": [
    "#hide\n",
    "\n",
    "# FETCH\n",
    "base_url = 'https://raw.githubusercontent.com/pratapvardhan/notebooks/master/covid19/'\n",
    "paths = {\n",
    "    'mapping': base_url + 'mapping_countries.csv',\n",
    "    'overview': base_url + 'overview.tpl'\n",
    "}"
   ]
  },
  {
   "cell_type": "code",
   "execution_count": 3,
   "id": "dynamic-saver",
   "metadata": {
    "execution": {
     "iopub.execute_input": "2021-05-05T00:13:00.558571Z",
     "iopub.status.busy": "2021-05-05T00:13:00.557972Z",
     "iopub.status.idle": "2021-05-05T00:13:00.560987Z",
     "shell.execute_reply": "2021-05-05T00:13:00.560412Z"
    },
    "papermill": {
     "duration": 0.051065,
     "end_time": "2021-05-05T00:13:00.561105",
     "exception": false,
     "start_time": "2021-05-05T00:13:00.510040",
     "status": "completed"
    },
    "tags": []
   },
   "outputs": [
    {
     "data": {
      "text/plain": [
       "'https://raw.githubusercontent.com/pratapvardhan/notebooks/master/covid19/mapping_countries.csv'"
      ]
     },
     "execution_count": 3,
     "metadata": {},
     "output_type": "execute_result"
    }
   ],
   "source": [
    "#hide\n",
    "paths['mapping']"
   ]
  },
  {
   "cell_type": "code",
   "execution_count": 4,
   "id": "urban-software",
   "metadata": {
    "execution": {
     "iopub.execute_input": "2021-05-05T00:13:00.643721Z",
     "iopub.status.busy": "2021-05-05T00:13:00.642597Z",
     "iopub.status.idle": "2021-05-05T00:13:00.646670Z",
     "shell.execute_reply": "2021-05-05T00:13:00.645630Z"
    },
    "papermill": {
     "duration": 0.049887,
     "end_time": "2021-05-05T00:13:00.646817",
     "exception": false,
     "start_time": "2021-05-05T00:13:00.596930",
     "status": "completed"
    },
    "tags": []
   },
   "outputs": [],
   "source": [
    "#hide\n",
    "def get_mappings(url):\n",
    "    df = pd.read_csv(url)\n",
    "    return {\n",
    "        'df': df,\n",
    "        'replace.country': dict(df.dropna(subset=['Name']).set_index('Country')['Name']),\n",
    "        'map.continent': dict(df.set_index('Name')['Continent'])\n",
    "    }"
   ]
  },
  {
   "cell_type": "code",
   "execution_count": 5,
   "id": "intimate-machinery",
   "metadata": {
    "execution": {
     "iopub.execute_input": "2021-05-05T00:13:00.747602Z",
     "iopub.status.busy": "2021-05-05T00:13:00.746997Z",
     "iopub.status.idle": "2021-05-05T00:13:00.808136Z",
     "shell.execute_reply": "2021-05-05T00:13:00.807640Z"
    },
    "papermill": {
     "duration": 0.113898,
     "end_time": "2021-05-05T00:13:00.808269",
     "exception": false,
     "start_time": "2021-05-05T00:13:00.694371",
     "status": "completed"
    },
    "tags": []
   },
   "outputs": [],
   "source": [
    "#hide\n",
    "mapping = get_mappings(paths['mapping'])"
   ]
  },
  {
   "cell_type": "code",
   "execution_count": 6,
   "id": "certified-tactics",
   "metadata": {
    "execution": {
     "iopub.execute_input": "2021-05-05T00:13:00.910764Z",
     "iopub.status.busy": "2021-05-05T00:13:00.910038Z",
     "iopub.status.idle": "2021-05-05T00:13:00.912495Z",
     "shell.execute_reply": "2021-05-05T00:13:00.911867Z"
    },
    "papermill": {
     "duration": 0.060506,
     "end_time": "2021-05-05T00:13:00.912624",
     "exception": false,
     "start_time": "2021-05-05T00:13:00.852118",
     "status": "completed"
    },
    "tags": []
   },
   "outputs": [],
   "source": [
    "#hide\n",
    "def get_template(path):\n",
    "    from urllib.parse import urlparse\n",
    "    if bool(urlparse(path).netloc):\n",
    "        from urllib.request import urlopen\n",
    "        return urlopen(path).read().decode('utf8')\n",
    "    return open(path).read()"
   ]
  },
  {
   "cell_type": "code",
   "execution_count": 7,
   "id": "realistic-blast",
   "metadata": {
    "execution": {
     "iopub.execute_input": "2021-05-05T00:13:00.993556Z",
     "iopub.status.busy": "2021-05-05T00:13:00.992955Z",
     "iopub.status.idle": "2021-05-05T00:13:00.995086Z",
     "shell.execute_reply": "2021-05-05T00:13:00.994603Z"
    },
    "papermill": {
     "duration": 0.044699,
     "end_time": "2021-05-05T00:13:00.995228",
     "exception": false,
     "start_time": "2021-05-05T00:13:00.950529",
     "status": "completed"
    },
    "tags": []
   },
   "outputs": [],
   "source": [
    "#hide\n",
    "def get_frame(name):\n",
    "    url = (\n",
    "        'https://raw.githubusercontent.com/CSSEGISandData/COVID-19/master/csse_covid_19_data/'\n",
    "        f'csse_covid_19_time_series/time_series_covid19_{name}_global.csv')\n",
    "    df = pd.read_csv(url)\n",
    "    # rename countries\n",
    "    df['Country/Region'] = df['Country/Region'].replace(mapping['replace.country'])\n",
    "    return df"
   ]
  },
  {
   "cell_type": "code",
   "execution_count": 8,
   "id": "affiliated-characterization",
   "metadata": {
    "execution": {
     "iopub.execute_input": "2021-05-05T00:13:01.077605Z",
     "iopub.status.busy": "2021-05-05T00:13:01.076951Z",
     "iopub.status.idle": "2021-05-05T00:13:01.079323Z",
     "shell.execute_reply": "2021-05-05T00:13:01.078739Z"
    },
    "papermill": {
     "duration": 0.046111,
     "end_time": "2021-05-05T00:13:01.079447",
     "exception": false,
     "start_time": "2021-05-05T00:13:01.033336",
     "status": "completed"
    },
    "tags": []
   },
   "outputs": [],
   "source": [
    "#hide\n",
    "def get_dates(df):\n",
    "    dt_cols = df.columns[~df.columns.isin(['Province/State', 'Country/Region', 'Lat', 'Long'])]\n",
    "    LAST_DATE_I = -1\n",
    "    # sometimes last column may be empty, then go backwards\n",
    "    for i in range(-1, -len(dt_cols), -1):\n",
    "        if not df[dt_cols[i]].fillna(0).eq(0).all():\n",
    "            LAST_DATE_I = i\n",
    "            break\n",
    "    return LAST_DATE_I, dt_cols"
   ]
  },
  {
   "cell_type": "code",
   "execution_count": 9,
   "id": "recent-optimization",
   "metadata": {
    "execution": {
     "iopub.execute_input": "2021-05-05T00:13:01.159849Z",
     "iopub.status.busy": "2021-05-05T00:13:01.159124Z",
     "iopub.status.idle": "2021-05-05T00:13:01.530773Z",
     "shell.execute_reply": "2021-05-05T00:13:01.529931Z"
    },
    "papermill": {
     "duration": 0.414931,
     "end_time": "2021-05-05T00:13:01.530924",
     "exception": false,
     "start_time": "2021-05-05T00:13:01.115993",
     "status": "completed"
    },
    "tags": []
   },
   "outputs": [],
   "source": [
    "#hide\n",
    "COL_REGION = 'Country/Region'\n",
    "# Confirmed, Recovered, Deaths\n",
    "df = get_frame('confirmed')\n",
    "# dft_: timeseries, dfc_: today country agg\n",
    "dft_cases = df\n",
    "dft_deaths = get_frame('deaths')\n",
    "dft_recovered = get_frame('recovered')\n",
    "LAST_DATE_I, dt_cols = get_dates(df)"
   ]
  },
  {
   "cell_type": "code",
   "execution_count": 10,
   "id": "absolute-copper",
   "metadata": {
    "execution": {
     "iopub.execute_input": "2021-05-05T00:13:01.609968Z",
     "iopub.status.busy": "2021-05-05T00:13:01.609328Z",
     "iopub.status.idle": "2021-05-05T00:13:01.611296Z",
     "shell.execute_reply": "2021-05-05T00:13:01.611918Z"
    },
    "papermill": {
     "duration": 0.045007,
     "end_time": "2021-05-05T00:13:01.612041",
     "exception": false,
     "start_time": "2021-05-05T00:13:01.567034",
     "status": "completed"
    },
    "tags": []
   },
   "outputs": [],
   "source": [
    "#hide\n",
    "LAST_DATE_I, dt_cols = get_dates(df)\n",
    "dt_today =dt_cols[LAST_DATE_I]\n",
    "# dt_5day = dt_cols[LAST_DATE_I - 5]\n",
    "dt_yday = dt_cols[LAST_DATE_I - 1]"
   ]
  },
  {
   "cell_type": "code",
   "execution_count": 11,
   "id": "restricted-sheriff",
   "metadata": {
    "execution": {
     "iopub.execute_input": "2021-05-05T00:13:01.695129Z",
     "iopub.status.busy": "2021-05-05T00:13:01.693455Z",
     "iopub.status.idle": "2021-05-05T00:13:01.699749Z",
     "shell.execute_reply": "2021-05-05T00:13:01.700211Z"
    },
    "papermill": {
     "duration": 0.05362,
     "end_time": "2021-05-05T00:13:01.700402",
     "exception": false,
     "start_time": "2021-05-05T00:13:01.646782",
     "status": "completed"
    },
    "tags": []
   },
   "outputs": [],
   "source": [
    "#hide\n",
    "dfc_cases = dft_cases.groupby(COL_REGION)[dt_today].sum()\n",
    "dfc_deaths = dft_deaths.groupby(COL_REGION)[dt_today].sum()\n",
    "# dfp_cases = dft_cases.groupby(COL_REGION)[dt_5day].sum()\n",
    "# dfp_deaths = dft_deaths.groupby(COL_REGION)[dt_5day].sum()\n",
    "dfp_cases = dft_cases.groupby(COL_REGION)[dt_yday].sum()\n",
    "dfp_deaths = dft_deaths.groupby(COL_REGION)[dt_yday].sum()"
   ]
  },
  {
   "cell_type": "code",
   "execution_count": 12,
   "id": "deluxe-hepatitis",
   "metadata": {
    "execution": {
     "iopub.execute_input": "2021-05-05T00:13:01.778590Z",
     "iopub.status.busy": "2021-05-05T00:13:01.777853Z",
     "iopub.status.idle": "2021-05-05T00:13:01.783498Z",
     "shell.execute_reply": "2021-05-05T00:13:01.782943Z"
    },
    "papermill": {
     "duration": 0.047242,
     "end_time": "2021-05-05T00:13:01.783628",
     "exception": false,
     "start_time": "2021-05-05T00:13:01.736386",
     "status": "completed"
    },
    "tags": []
   },
   "outputs": [],
   "source": [
    "#hide\n",
    "df_table = (pd.DataFrame(dict(Cases = dfc_cases, Deaths = dfc_deaths, PCases = dfp_cases, PDeaths = dfp_deaths))\n",
    "            .sort_values(by = ['Cases','Deaths'], ascending = [False, False])\n",
    "            .reset_index())"
   ]
  },
  {
   "cell_type": "code",
   "execution_count": 13,
   "id": "educational-chancellor",
   "metadata": {
    "execution": {
     "iopub.execute_input": "2021-05-05T00:13:01.876698Z",
     "iopub.status.busy": "2021-05-05T00:13:01.875901Z",
     "iopub.status.idle": "2021-05-05T00:13:01.884445Z",
     "shell.execute_reply": "2021-05-05T00:13:01.884932Z"
    },
    "papermill": {
     "duration": 0.065068,
     "end_time": "2021-05-05T00:13:01.885058",
     "exception": false,
     "start_time": "2021-05-05T00:13:01.819990",
     "status": "completed"
    },
    "tags": []
   },
   "outputs": [
    {
     "data": {
      "text/html": [
       "<div>\n",
       "<style scoped>\n",
       "    .dataframe tbody tr th:only-of-type {\n",
       "        vertical-align: middle;\n",
       "    }\n",
       "\n",
       "    .dataframe tbody tr th {\n",
       "        vertical-align: top;\n",
       "    }\n",
       "\n",
       "    .dataframe thead th {\n",
       "        text-align: right;\n",
       "    }\n",
       "</style>\n",
       "<table border=\"1\" class=\"dataframe\">\n",
       "  <thead>\n",
       "    <tr style=\"text-align: right;\">\n",
       "      <th></th>\n",
       "      <th>Country/Region</th>\n",
       "      <th>Cases</th>\n",
       "      <th>Deaths</th>\n",
       "      <th>PCases</th>\n",
       "      <th>PDeaths</th>\n",
       "      <th>Cases (+)</th>\n",
       "      <th>Deaths (+)</th>\n",
       "      <th>Fatality Rate</th>\n",
       "      <th>Continent</th>\n",
       "    </tr>\n",
       "  </thead>\n",
       "  <tbody>\n",
       "    <tr>\n",
       "      <th>0</th>\n",
       "      <td>US</td>\n",
       "      <td>32472201</td>\n",
       "      <td>577566</td>\n",
       "      <td>32421641</td>\n",
       "      <td>577083</td>\n",
       "      <td>50560</td>\n",
       "      <td>483</td>\n",
       "      <td>1.78</td>\n",
       "      <td>North America</td>\n",
       "    </tr>\n",
       "    <tr>\n",
       "      <th>1</th>\n",
       "      <td>India</td>\n",
       "      <td>20282833</td>\n",
       "      <td>222408</td>\n",
       "      <td>19925517</td>\n",
       "      <td>218959</td>\n",
       "      <td>357316</td>\n",
       "      <td>3449</td>\n",
       "      <td>1.10</td>\n",
       "      <td>Asia</td>\n",
       "    </tr>\n",
       "    <tr>\n",
       "      <th>2</th>\n",
       "      <td>Brazil</td>\n",
       "      <td>14779529</td>\n",
       "      <td>408622</td>\n",
       "      <td>14754910</td>\n",
       "      <td>407639</td>\n",
       "      <td>24619</td>\n",
       "      <td>983</td>\n",
       "      <td>2.76</td>\n",
       "      <td>South America</td>\n",
       "    </tr>\n",
       "    <tr>\n",
       "      <th>3</th>\n",
       "      <td>France</td>\n",
       "      <td>5717160</td>\n",
       "      <td>105291</td>\n",
       "      <td>5713393</td>\n",
       "      <td>104980</td>\n",
       "      <td>3767</td>\n",
       "      <td>311</td>\n",
       "      <td>1.84</td>\n",
       "      <td>Europe</td>\n",
       "    </tr>\n",
       "    <tr>\n",
       "      <th>4</th>\n",
       "      <td>Turkey</td>\n",
       "      <td>4900121</td>\n",
       "      <td>41191</td>\n",
       "      <td>4875388</td>\n",
       "      <td>40844</td>\n",
       "      <td>24733</td>\n",
       "      <td>347</td>\n",
       "      <td>0.84</td>\n",
       "      <td>Asia</td>\n",
       "    </tr>\n",
       "  </tbody>\n",
       "</table>\n",
       "</div>"
      ],
      "text/plain": [
       "  Country/Region     Cases  Deaths    PCases  PDeaths  Cases (+)  Deaths (+)  \\\n",
       "0             US  32472201  577566  32421641   577083      50560         483   \n",
       "1          India  20282833  222408  19925517   218959     357316        3449   \n",
       "2         Brazil  14779529  408622  14754910   407639      24619         983   \n",
       "3         France   5717160  105291   5713393   104980       3767         311   \n",
       "4         Turkey   4900121   41191   4875388    40844      24733         347   \n",
       "\n",
       "   Fatality Rate      Continent  \n",
       "0           1.78  North America  \n",
       "1           1.10           Asia  \n",
       "2           2.76  South America  \n",
       "3           1.84         Europe  \n",
       "4           0.84           Asia  "
      ]
     },
     "execution_count": 13,
     "metadata": {},
     "output_type": "execute_result"
    }
   ],
   "source": [
    "#hide\n",
    "for c in 'Cases, Deaths'.split(', '):\n",
    "    df_table[f'{c} (+)'] = (df_table[c] - df_table[f'P{c}']).clip(0)\n",
    "    #Clip ça veut dire, les chiffres negatif sont interdit\n",
    "df_table['Fatality Rate'] = (100* df_table['Deaths']/ df_table['Cases']).round(2)\n",
    "df_table['Continent'] = df_table['Country/Region'].map(mapping['map.continent'])\n",
    "df_table.head(5)"
   ]
  },
  {
   "cell_type": "code",
   "execution_count": 14,
   "id": "aboriginal-bulgaria",
   "metadata": {
    "execution": {
     "iopub.execute_input": "2021-05-05T00:13:01.962040Z",
     "iopub.status.busy": "2021-05-05T00:13:01.961373Z",
     "iopub.status.idle": "2021-05-05T00:13:01.964396Z",
     "shell.execute_reply": "2021-05-05T00:13:01.964902Z"
    },
    "papermill": {
     "duration": 0.043312,
     "end_time": "2021-05-05T00:13:01.965071",
     "exception": false,
     "start_time": "2021-05-05T00:13:01.921759",
     "status": "completed"
    },
    "tags": []
   },
   "outputs": [],
   "source": [
    "#hide\n",
    "#delete problematic countries from table\n",
    "df_table = df_table[~df_table['Country/Region'].isin(['Cape Verde', 'Cruise Ship', 'Kosovo'])]"
   ]
  },
  {
   "cell_type": "code",
   "execution_count": 15,
   "id": "fantastic-effect",
   "metadata": {
    "execution": {
     "iopub.execute_input": "2021-05-05T00:13:02.044557Z",
     "iopub.status.busy": "2021-05-05T00:13:02.043940Z",
     "iopub.status.idle": "2021-05-05T00:13:02.066159Z",
     "shell.execute_reply": "2021-05-05T00:13:02.065551Z"
    },
    "papermill": {
     "duration": 0.065314,
     "end_time": "2021-05-05T00:13:02.066306",
     "exception": false,
     "start_time": "2021-05-05T00:13:02.000992",
     "status": "completed"
    },
    "tags": []
   },
   "outputs": [
    {
     "data": {
      "text/html": [
       "<div>\n",
       "<style scoped>\n",
       "    .dataframe tbody tr th:only-of-type {\n",
       "        vertical-align: middle;\n",
       "    }\n",
       "\n",
       "    .dataframe tbody tr th {\n",
       "        vertical-align: top;\n",
       "    }\n",
       "\n",
       "    .dataframe thead th {\n",
       "        text-align: right;\n",
       "    }\n",
       "</style>\n",
       "<table border=\"1\" class=\"dataframe\">\n",
       "  <thead>\n",
       "    <tr style=\"text-align: right;\">\n",
       "      <th></th>\n",
       "      <th>Country/Region</th>\n",
       "      <th>Cases</th>\n",
       "      <th>Deaths</th>\n",
       "      <th>PCases</th>\n",
       "      <th>PDeaths</th>\n",
       "      <th>Cases (+)</th>\n",
       "      <th>Deaths (+)</th>\n",
       "      <th>Fatality Rate</th>\n",
       "      <th>Continent</th>\n",
       "    </tr>\n",
       "  </thead>\n",
       "  <tbody>\n",
       "    <tr>\n",
       "      <th>0</th>\n",
       "      <td>US</td>\n",
       "      <td>32472201</td>\n",
       "      <td>577566</td>\n",
       "      <td>32421641</td>\n",
       "      <td>577083</td>\n",
       "      <td>50560</td>\n",
       "      <td>483</td>\n",
       "      <td>1.8</td>\n",
       "      <td>North America</td>\n",
       "    </tr>\n",
       "    <tr>\n",
       "      <th>1</th>\n",
       "      <td>India</td>\n",
       "      <td>20282833</td>\n",
       "      <td>222408</td>\n",
       "      <td>19925517</td>\n",
       "      <td>218959</td>\n",
       "      <td>357316</td>\n",
       "      <td>3449</td>\n",
       "      <td>1.1</td>\n",
       "      <td>Asia</td>\n",
       "    </tr>\n",
       "    <tr>\n",
       "      <th>2</th>\n",
       "      <td>Brazil</td>\n",
       "      <td>14779529</td>\n",
       "      <td>408622</td>\n",
       "      <td>14754910</td>\n",
       "      <td>407639</td>\n",
       "      <td>24619</td>\n",
       "      <td>983</td>\n",
       "      <td>2.8</td>\n",
       "      <td>South America</td>\n",
       "    </tr>\n",
       "    <tr>\n",
       "      <th>3</th>\n",
       "      <td>France</td>\n",
       "      <td>5717160</td>\n",
       "      <td>105291</td>\n",
       "      <td>5713393</td>\n",
       "      <td>104980</td>\n",
       "      <td>3767</td>\n",
       "      <td>311</td>\n",
       "      <td>1.8</td>\n",
       "      <td>Europe</td>\n",
       "    </tr>\n",
       "    <tr>\n",
       "      <th>4</th>\n",
       "      <td>Turkey</td>\n",
       "      <td>4900121</td>\n",
       "      <td>41191</td>\n",
       "      <td>4875388</td>\n",
       "      <td>40844</td>\n",
       "      <td>24733</td>\n",
       "      <td>347</td>\n",
       "      <td>0.8</td>\n",
       "      <td>Asia</td>\n",
       "    </tr>\n",
       "  </tbody>\n",
       "</table>\n",
       "</div>"
      ],
      "text/plain": [
       "  Country/Region     Cases  Deaths    PCases  PDeaths  Cases (+)  Deaths (+)  \\\n",
       "0             US  32472201  577566  32421641   577083      50560         483   \n",
       "1          India  20282833  222408  19925517   218959     357316        3449   \n",
       "2         Brazil  14779529  408622  14754910   407639      24619         983   \n",
       "3         France   5717160  105291   5713393   104980       3767         311   \n",
       "4         Turkey   4900121   41191   4875388    40844      24733         347   \n",
       "\n",
       "   Fatality Rate      Continent  \n",
       "0            1.8  North America  \n",
       "1            1.1           Asia  \n",
       "2            2.8  South America  \n",
       "3            1.8         Europe  \n",
       "4            0.8           Asia  "
      ]
     },
     "execution_count": 15,
     "metadata": {},
     "output_type": "execute_result"
    }
   ],
   "source": [
    "#hide\n",
    "df_table = (pd.DataFrame(dict(Cases=dfc_cases, Deaths=dfc_deaths, PCases=dfp_cases, PDeaths=dfp_deaths))\n",
    "             .sort_values(by=['Cases', 'Deaths'], ascending=[False, False])\n",
    "             .reset_index())\n",
    "df_table.rename(columns={'index': 'Country/Region'}, inplace=True)\n",
    "for c in 'Cases, Deaths'.split(', '):\n",
    "    df_table[f'{c} (+)'] = (df_table[c] - df_table[f'P{c}']).clip(0)  # DATA BUG\n",
    "df_table['Fatality Rate'] = (100 * df_table['Deaths'] / df_table['Cases']).round(1)\n",
    "df_table['Continent'] = df_table['Country/Region'].map(mapping['map.continent'])\n",
    "df_table.head(5)"
   ]
  },
  {
   "cell_type": "code",
   "execution_count": 16,
   "id": "fewer-occasion",
   "metadata": {
    "execution": {
     "iopub.execute_input": "2021-05-05T00:13:02.149835Z",
     "iopub.status.busy": "2021-05-05T00:13:02.149285Z",
     "iopub.status.idle": "2021-05-05T00:13:02.157486Z",
     "shell.execute_reply": "2021-05-05T00:13:02.157979Z"
    },
    "papermill": {
     "duration": 0.052739,
     "end_time": "2021-05-05T00:13:02.158109",
     "exception": false,
     "start_time": "2021-05-05T00:13:02.105370",
     "status": "completed"
    },
    "tags": []
   },
   "outputs": [],
   "source": [
    "#hide\n",
    "#delete problematic countries from table\n",
    "df_table = df_table[~df_table['Country/Region'].isin(['Cape Verde', 'Cruise Ship', 'Kosovo'])]"
   ]
  },
  {
   "cell_type": "code",
   "execution_count": 17,
   "id": "related-center",
   "metadata": {
    "execution": {
     "iopub.execute_input": "2021-05-05T00:13:02.268052Z",
     "iopub.status.busy": "2021-05-05T00:13:02.267367Z",
     "iopub.status.idle": "2021-05-05T00:13:02.269842Z",
     "shell.execute_reply": "2021-05-05T00:13:02.269143Z"
    },
    "papermill": {
     "duration": 0.07045,
     "end_time": "2021-05-05T00:13:02.269958",
     "exception": false,
     "start_time": "2021-05-05T00:13:02.199508",
     "status": "completed"
    },
    "tags": []
   },
   "outputs": [],
   "source": [
    "#hide\n",
    "metrics = [df_table.columns[index] for index in [1,2,5,6]]\n",
    "# s_china = df_table[df_table['Country/Region'].eq('China')][metrics].sum().add_prefix('China ')\n",
    "s_us = df_table[df_table['Country/Region'].eq('US')][metrics].sum().add_prefix('US ')\n",
    "s_eu = df_table[df_table['Continent'].eq('Europe')][metrics].sum().add_prefix('EU ')\n",
    "s_ind = df_table[df_table['Country/Region'].eq('India')][metrics].sum().add_prefix('India ')\n",
    "summary = {'updated': pd.to_datetime(dt_today), 'since': pd.to_datetime(dt_yday)}\n",
    "summary = {'updated': pd.to_datetime(dt_today), 'since': pd.to_datetime(dt_yday)}\n",
    "summary = {**summary, **df_table[metrics].sum(), **s_ind, **s_us, **s_eu}"
   ]
  },
  {
   "cell_type": "code",
   "execution_count": 18,
   "id": "engaging-syndrome",
   "metadata": {
    "execution": {
     "iopub.execute_input": "2021-05-05T00:13:02.356491Z",
     "iopub.status.busy": "2021-05-05T00:13:02.355913Z",
     "iopub.status.idle": "2021-05-05T00:13:02.367707Z",
     "shell.execute_reply": "2021-05-05T00:13:02.368306Z"
    },
    "papermill": {
     "duration": 0.056712,
     "end_time": "2021-05-05T00:13:02.368435",
     "exception": false,
     "start_time": "2021-05-05T00:13:02.311723",
     "status": "completed"
    },
    "tags": []
   },
   "outputs": [],
   "source": [
    "#hide\n",
    "dft_ct_new_cases = dft_cases.groupby(COL_REGION)[dt_cols].sum().diff(axis=1).fillna(0).astype(int)"
   ]
  },
  {
   "cell_type": "code",
   "execution_count": 19,
   "id": "neutral-assignment",
   "metadata": {
    "execution": {
     "iopub.execute_input": "2021-05-05T00:13:02.448754Z",
     "iopub.status.busy": "2021-05-05T00:13:02.448191Z",
     "iopub.status.idle": "2021-05-05T00:13:02.450348Z",
     "shell.execute_reply": "2021-05-05T00:13:02.449865Z"
    },
    "papermill": {
     "duration": 0.044909,
     "end_time": "2021-05-05T00:13:02.450463",
     "exception": false,
     "start_time": "2021-05-05T00:13:02.405554",
     "status": "completed"
    },
    "tags": []
   },
   "outputs": [],
   "source": [
    "#hide\n",
    "everydaycases = dft_ct_new_cases.cumsum(axis=1)"
   ]
  },
  {
   "cell_type": "code",
   "execution_count": 20,
   "id": "parliamentary-calgary",
   "metadata": {
    "execution": {
     "iopub.execute_input": "2021-05-05T00:13:02.527741Z",
     "iopub.status.busy": "2021-05-05T00:13:02.527150Z",
     "iopub.status.idle": "2021-05-05T00:13:03.083101Z",
     "shell.execute_reply": "2021-05-05T00:13:03.082603Z"
    },
    "papermill": {
     "duration": 0.596098,
     "end_time": "2021-05-05T00:13:03.083232",
     "exception": false,
     "start_time": "2021-05-05T00:13:02.487134",
     "status": "completed"
    },
    "tags": []
   },
   "outputs": [],
   "source": [
    "#hide\n",
    "import pandas as pd\n",
    "import matplotlib.pyplot as plt\n",
    "import matplotlib.ticker as ticker\n",
    "import matplotlib.animation as animation\n",
    "from IPython.display import HTML"
   ]
  },
  {
   "cell_type": "code",
   "execution_count": 21,
   "id": "lasting-extraction",
   "metadata": {
    "execution": {
     "iopub.execute_input": "2021-05-05T00:13:03.169749Z",
     "iopub.status.busy": "2021-05-05T00:13:03.169173Z",
     "iopub.status.idle": "2021-05-05T00:13:03.174577Z",
     "shell.execute_reply": "2021-05-05T00:13:03.175052Z"
    },
    "papermill": {
     "duration": 0.050447,
     "end_time": "2021-05-05T00:13:03.175185",
     "exception": false,
     "start_time": "2021-05-05T00:13:03.124738",
     "status": "completed"
    },
    "tags": []
   },
   "outputs": [],
   "source": [
    "#hide\n",
    "t = everydaycases.stack()"
   ]
  },
  {
   "cell_type": "code",
   "execution_count": 22,
   "id": "premier-sleeve",
   "metadata": {
    "execution": {
     "iopub.execute_input": "2021-05-05T00:13:03.262088Z",
     "iopub.status.busy": "2021-05-05T00:13:03.261509Z",
     "iopub.status.idle": "2021-05-05T00:13:03.268334Z",
     "shell.execute_reply": "2021-05-05T00:13:03.269132Z"
    },
    "papermill": {
     "duration": 0.04791,
     "end_time": "2021-05-05T00:13:03.269341",
     "exception": false,
     "start_time": "2021-05-05T00:13:03.221431",
     "status": "completed"
    },
    "tags": []
   },
   "outputs": [],
   "source": [
    "#hide\n",
    "g = t.reset_index(['Country/Region'])"
   ]
  },
  {
   "cell_type": "code",
   "execution_count": 23,
   "id": "distributed-pittsburgh",
   "metadata": {
    "execution": {
     "iopub.execute_input": "2021-05-05T00:13:03.347676Z",
     "iopub.status.busy": "2021-05-05T00:13:03.347034Z",
     "iopub.status.idle": "2021-05-05T00:13:03.349188Z",
     "shell.execute_reply": "2021-05-05T00:13:03.348671Z"
    },
    "papermill": {
     "duration": 0.041309,
     "end_time": "2021-05-05T00:13:03.349360",
     "exception": false,
     "start_time": "2021-05-05T00:13:03.308051",
     "status": "completed"
    },
    "tags": []
   },
   "outputs": [],
   "source": [
    "#hide\n",
    "g.index.name = 'date'"
   ]
  },
  {
   "cell_type": "code",
   "execution_count": 24,
   "id": "naked-donor",
   "metadata": {
    "execution": {
     "iopub.execute_input": "2021-05-05T00:13:03.422684Z",
     "iopub.status.busy": "2021-05-05T00:13:03.422091Z",
     "iopub.status.idle": "2021-05-05T00:13:03.424538Z",
     "shell.execute_reply": "2021-05-05T00:13:03.425065Z"
    },
    "papermill": {
     "duration": 0.040969,
     "end_time": "2021-05-05T00:13:03.425175",
     "exception": false,
     "start_time": "2021-05-05T00:13:03.384206",
     "status": "completed"
    },
    "tags": []
   },
   "outputs": [],
   "source": [
    "# #hide\n",
    "# g = g.reset_index(['date'])"
   ]
  },
  {
   "cell_type": "code",
   "execution_count": 25,
   "id": "incomplete-mustang",
   "metadata": {
    "execution": {
     "iopub.execute_input": "2021-05-05T00:13:03.494302Z",
     "iopub.status.busy": "2021-05-05T00:13:03.493705Z",
     "iopub.status.idle": "2021-05-05T00:13:03.496397Z",
     "shell.execute_reply": "2021-05-05T00:13:03.496890Z"
    },
    "papermill": {
     "duration": 0.039138,
     "end_time": "2021-05-05T00:13:03.497001",
     "exception": false,
     "start_time": "2021-05-05T00:13:03.457863",
     "status": "completed"
    },
    "tags": []
   },
   "outputs": [],
   "source": [
    "#hide\n",
    "# g.head()"
   ]
  },
  {
   "cell_type": "code",
   "execution_count": 26,
   "id": "specific-kruger",
   "metadata": {
    "execution": {
     "iopub.execute_input": "2021-05-05T00:13:03.567793Z",
     "iopub.status.busy": "2021-05-05T00:13:03.567200Z",
     "iopub.status.idle": "2021-05-05T00:13:03.569741Z",
     "shell.execute_reply": "2021-05-05T00:13:03.569249Z"
    },
    "papermill": {
     "duration": 0.039084,
     "end_time": "2021-05-05T00:13:03.569901",
     "exception": false,
     "start_time": "2021-05-05T00:13:03.530817",
     "status": "completed"
    },
    "tags": []
   },
   "outputs": [],
   "source": [
    "#hide\n",
    "# g.columns = ['date','country','cases']"
   ]
  },
  {
   "cell_type": "code",
   "execution_count": 27,
   "id": "tender-conversion",
   "metadata": {
    "execution": {
     "iopub.execute_input": "2021-05-05T00:13:03.649819Z",
     "iopub.status.busy": "2021-05-05T00:13:03.649197Z",
     "iopub.status.idle": "2021-05-05T00:13:03.651223Z",
     "shell.execute_reply": "2021-05-05T00:13:03.651839Z"
    },
    "papermill": {
     "duration": 0.04616,
     "end_time": "2021-05-05T00:13:03.651968",
     "exception": false,
     "start_time": "2021-05-05T00:13:03.605808",
     "status": "completed"
    },
    "tags": []
   },
   "outputs": [],
   "source": [
    "#hide\n",
    "# g['continent'] = g.country"
   ]
  },
  {
   "cell_type": "code",
   "execution_count": 28,
   "id": "substantial-wilderness",
   "metadata": {
    "execution": {
     "iopub.execute_input": "2021-05-05T00:13:03.726560Z",
     "iopub.status.busy": "2021-05-05T00:13:03.725969Z",
     "iopub.status.idle": "2021-05-05T00:13:03.728155Z",
     "shell.execute_reply": "2021-05-05T00:13:03.728591Z"
    },
    "papermill": {
     "duration": 0.040835,
     "end_time": "2021-05-05T00:13:03.728738",
     "exception": false,
     "start_time": "2021-05-05T00:13:03.687903",
     "status": "completed"
    },
    "tags": []
   },
   "outputs": [],
   "source": [
    "#hide\n",
    "# cols = list(g.columns.values)"
   ]
  },
  {
   "cell_type": "code",
   "execution_count": 29,
   "id": "solved-farming",
   "metadata": {
    "execution": {
     "iopub.execute_input": "2021-05-05T00:13:03.807276Z",
     "iopub.status.busy": "2021-05-05T00:13:03.806692Z",
     "iopub.status.idle": "2021-05-05T00:13:03.809344Z",
     "shell.execute_reply": "2021-05-05T00:13:03.808823Z"
    },
    "papermill": {
     "duration": 0.04393,
     "end_time": "2021-05-05T00:13:03.809471",
     "exception": false,
     "start_time": "2021-05-05T00:13:03.765541",
     "status": "completed"
    },
    "tags": []
   },
   "outputs": [],
   "source": [
    "#hide\n",
    "# cols.insert(0, cols.pop())"
   ]
  },
  {
   "cell_type": "code",
   "execution_count": 30,
   "id": "executed-adoption",
   "metadata": {
    "execution": {
     "iopub.execute_input": "2021-05-05T00:13:03.884874Z",
     "iopub.status.busy": "2021-05-05T00:13:03.884253Z",
     "iopub.status.idle": "2021-05-05T00:13:03.886626Z",
     "shell.execute_reply": "2021-05-05T00:13:03.885975Z"
    },
    "papermill": {
     "duration": 0.040982,
     "end_time": "2021-05-05T00:13:03.886730",
     "exception": false,
     "start_time": "2021-05-05T00:13:03.845748",
     "status": "completed"
    },
    "tags": []
   },
   "outputs": [],
   "source": [
    "#hide\n",
    "# g = g[cols]"
   ]
  },
  {
   "cell_type": "code",
   "execution_count": 31,
   "id": "subject-dublin",
   "metadata": {
    "execution": {
     "iopub.execute_input": "2021-05-05T00:13:03.958308Z",
     "iopub.status.busy": "2021-05-05T00:13:03.957721Z",
     "iopub.status.idle": "2021-05-05T00:13:03.960848Z",
     "shell.execute_reply": "2021-05-05T00:13:03.960275Z"
    },
    "papermill": {
     "duration": 0.039533,
     "end_time": "2021-05-05T00:13:03.960952",
     "exception": false,
     "start_time": "2021-05-05T00:13:03.921419",
     "status": "completed"
    },
    "tags": []
   },
   "outputs": [],
   "source": [
    "#hide\n",
    "# g['continent'] = g['continent'].map(mapping['map.continent'])"
   ]
  },
  {
   "cell_type": "code",
   "execution_count": 32,
   "id": "freelance-scout",
   "metadata": {
    "execution": {
     "iopub.execute_input": "2021-05-05T00:13:04.034535Z",
     "iopub.status.busy": "2021-05-05T00:13:04.033909Z",
     "iopub.status.idle": "2021-05-05T00:13:04.036382Z",
     "shell.execute_reply": "2021-05-05T00:13:04.035891Z"
    },
    "papermill": {
     "duration": 0.041053,
     "end_time": "2021-05-05T00:13:04.036483",
     "exception": false,
     "start_time": "2021-05-05T00:13:03.995430",
     "status": "completed"
    },
    "tags": []
   },
   "outputs": [],
   "source": [
    "#hide\n",
    "# g.head()"
   ]
  },
  {
   "cell_type": "code",
   "execution_count": 33,
   "id": "limited-engine",
   "metadata": {
    "execution": {
     "iopub.execute_input": "2021-05-05T00:13:04.113146Z",
     "iopub.status.busy": "2021-05-05T00:13:04.112426Z",
     "iopub.status.idle": "2021-05-05T00:13:04.115999Z",
     "shell.execute_reply": "2021-05-05T00:13:04.115515Z"
    },
    "papermill": {
     "duration": 0.042282,
     "end_time": "2021-05-05T00:13:04.116120",
     "exception": false,
     "start_time": "2021-05-05T00:13:04.073838",
     "status": "completed"
    },
    "tags": []
   },
   "outputs": [],
   "source": [
    "# hide\n",
    "# g['date'] = g['date'].astype('datetime64[ns]')"
   ]
  },
  {
   "cell_type": "code",
   "execution_count": 34,
   "id": "sophisticated-supervisor",
   "metadata": {
    "execution": {
     "iopub.execute_input": "2021-05-05T00:13:04.192676Z",
     "iopub.status.busy": "2021-05-05T00:13:04.192029Z",
     "iopub.status.idle": "2021-05-05T00:13:04.194541Z",
     "shell.execute_reply": "2021-05-05T00:13:04.195087Z"
    },
    "papermill": {
     "duration": 0.03948,
     "end_time": "2021-05-05T00:13:04.195219",
     "exception": false,
     "start_time": "2021-05-05T00:13:04.155739",
     "status": "completed"
    },
    "tags": []
   },
   "outputs": [],
   "source": [
    "#hide\n",
    "# g['date'] = g.date.dt.dayofyear"
   ]
  },
  {
   "cell_type": "code",
   "execution_count": 35,
   "id": "inside-dubai",
   "metadata": {
    "execution": {
     "iopub.execute_input": "2021-05-05T00:13:04.271828Z",
     "iopub.status.busy": "2021-05-05T00:13:04.270941Z",
     "iopub.status.idle": "2021-05-05T00:13:04.273834Z",
     "shell.execute_reply": "2021-05-05T00:13:04.273210Z"
    },
    "papermill": {
     "duration": 0.041969,
     "end_time": "2021-05-05T00:13:04.273988",
     "exception": false,
     "start_time": "2021-05-05T00:13:04.232019",
     "status": "completed"
    },
    "tags": []
   },
   "outputs": [],
   "source": [
    "#hide\n",
    "# g = g.rename(columns= {'continent':'group','country':'name','cases':'value'})"
   ]
  },
  {
   "cell_type": "code",
   "execution_count": 36,
   "id": "fleet-motorcycle",
   "metadata": {
    "execution": {
     "iopub.execute_input": "2021-05-05T00:13:04.354520Z",
     "iopub.status.busy": "2021-05-05T00:13:04.353883Z",
     "iopub.status.idle": "2021-05-05T00:13:04.356507Z",
     "shell.execute_reply": "2021-05-05T00:13:04.357004Z"
    },
    "papermill": {
     "duration": 0.047279,
     "end_time": "2021-05-05T00:13:04.357133",
     "exception": false,
     "start_time": "2021-05-05T00:13:04.309854",
     "status": "completed"
    },
    "tags": []
   },
   "outputs": [],
   "source": [
    "#hide\n",
    "# cols = ['name','group','day','value']"
   ]
  },
  {
   "cell_type": "code",
   "execution_count": 37,
   "id": "continued-sleeping",
   "metadata": {
    "execution": {
     "iopub.execute_input": "2021-05-05T00:13:04.439360Z",
     "iopub.status.busy": "2021-05-05T00:13:04.438596Z",
     "iopub.status.idle": "2021-05-05T00:13:04.441107Z",
     "shell.execute_reply": "2021-05-05T00:13:04.440473Z"
    },
    "papermill": {
     "duration": 0.0464,
     "end_time": "2021-05-05T00:13:04.441242",
     "exception": false,
     "start_time": "2021-05-05T00:13:04.394842",
     "status": "completed"
    },
    "tags": []
   },
   "outputs": [],
   "source": [
    "#hide\n",
    "# g.rename(columns= {'date':'day'},inplace = True)"
   ]
  },
  {
   "cell_type": "code",
   "execution_count": 38,
   "id": "major-fight",
   "metadata": {
    "execution": {
     "iopub.execute_input": "2021-05-05T00:13:04.522770Z",
     "iopub.status.busy": "2021-05-05T00:13:04.521301Z",
     "iopub.status.idle": "2021-05-05T00:13:04.524122Z",
     "shell.execute_reply": "2021-05-05T00:13:04.524757Z"
    },
    "papermill": {
     "duration": 0.046434,
     "end_time": "2021-05-05T00:13:04.524890",
     "exception": false,
     "start_time": "2021-05-05T00:13:04.478456",
     "status": "completed"
    },
    "tags": []
   },
   "outputs": [],
   "source": [
    "#hide\n",
    "# g = g[cols]"
   ]
  },
  {
   "cell_type": "code",
   "execution_count": 39,
   "id": "structured-mobile",
   "metadata": {
    "execution": {
     "iopub.execute_input": "2021-05-05T00:13:04.607007Z",
     "iopub.status.busy": "2021-05-05T00:13:04.606385Z",
     "iopub.status.idle": "2021-05-05T00:13:04.609464Z",
     "shell.execute_reply": "2021-05-05T00:13:04.608811Z"
    },
    "papermill": {
     "duration": 0.044354,
     "end_time": "2021-05-05T00:13:04.609686",
     "exception": false,
     "start_time": "2021-05-05T00:13:04.565332",
     "status": "completed"
    },
    "tags": []
   },
   "outputs": [],
   "source": [
    "# #hide\n",
    "# g = g[g.group.notna()]"
   ]
  },
  {
   "cell_type": "code",
   "execution_count": 40,
   "id": "determined-closing",
   "metadata": {
    "execution": {
     "iopub.execute_input": "2021-05-05T00:13:04.687384Z",
     "iopub.status.busy": "2021-05-05T00:13:04.686782Z",
     "iopub.status.idle": "2021-05-05T00:13:04.689231Z",
     "shell.execute_reply": "2021-05-05T00:13:04.688518Z"
    },
    "papermill": {
     "duration": 0.042843,
     "end_time": "2021-05-05T00:13:04.689373",
     "exception": false,
     "start_time": "2021-05-05T00:13:04.646530",
     "status": "completed"
    },
    "tags": []
   },
   "outputs": [],
   "source": [
    "# #hide\n",
    "# colors = dict(zip(\n",
    "#     [\"Oceania\", \"Europe\", \"Asia\", \"South America\", \"Middle East\", \"North America\", \"Africa\"],\n",
    "#     [\"#adb0ff\", \"#ffb3ff\", \"#90d595\", \"#e48381\", \"#aafbff\", \"#f7bb5f\", \"#eafb50\"]\n",
    "# ))\n",
    "# group_lk = g.set_index('name')['group'].to_dict()"
   ]
  },
  {
   "cell_type": "code",
   "execution_count": null,
   "id": "gross-drinking",
   "metadata": {
    "papermill": {
     "duration": 0.036524,
     "end_time": "2021-05-05T00:13:04.763884",
     "exception": false,
     "start_time": "2021-05-05T00:13:04.727360",
     "status": "completed"
    },
    "tags": []
   },
   "outputs": [],
   "source": []
  },
  {
   "cell_type": "code",
   "execution_count": 41,
   "id": "subject-macintosh",
   "metadata": {
    "execution": {
     "iopub.execute_input": "2021-05-05T00:13:04.845321Z",
     "iopub.status.busy": "2021-05-05T00:13:04.844705Z",
     "iopub.status.idle": "2021-05-05T00:13:04.847474Z",
     "shell.execute_reply": "2021-05-05T00:13:04.846922Z"
    },
    "papermill": {
     "duration": 0.047653,
     "end_time": "2021-05-05T00:13:04.847605",
     "exception": false,
     "start_time": "2021-05-05T00:13:04.799952",
     "status": "completed"
    },
    "tags": []
   },
   "outputs": [],
   "source": [
    "# #hide\n",
    "# fig, ax = plt.subplots(figsize=(15, 8))\n",
    "\n",
    "# def draw_barchart(current_day):\n",
    "#     dff = g[g['day'].eq(current_day)].sort_values(by='value', ascending=True).tail(10)\n",
    "#     ax.clear()\n",
    "#     ax.barh(dff['name'], dff['value'], color=[colors[group_lk[x]] for x in dff['name']])\n",
    "#     dx = dff['value'].max() / 200\n",
    "    \n",
    "#     for i, (value, name) in enumerate(zip(dff['value'], dff['name'])):\n",
    "#         ax.text(value-dx, i,     name,           size=14, weight=600, ha='right', va='bottom')\n",
    "#         ax.text(value-dx, i-.25, group_lk[name], size=10, color='#444444', ha='right', va='baseline')\n",
    "#         ax.text(value+dx, i,     f'{value:,.0f}',  size=14, ha='left',  va='center')\n",
    "#     ax.text(1, 0.4, current_day, transform=ax.transAxes, color='#777777', size=46, ha='right', weight=800)\n",
    "#     ax.text(0, 1.06, 'Population (thousands)', transform=ax.transAxes, size=12, color='#777777')\n",
    "#     ax.xaxis.set_major_formatter(ticker.StrMethodFormatter('{x:,.0f}'))\n",
    "#     ax.xaxis.set_ticks_position('top')\n",
    "#     ax.tick_params(axis='x', colors='#777777', labelsize=12)\n",
    "#     ax.set_yticks([])\n",
    "#     ax.margins(0, 0.01)\n",
    "#     ax.grid(which='major', axis='x', linestyle='-')\n",
    "#     ax.set_axisbelow(True)\n",
    "    \n",
    "#     ax.text(0, 1.15, 'Coronavirus',\n",
    "#             transform=ax.transAxes, size=24, weight=600, ha='left', va='top')\n",
    "# #     ax.text(1, 0, 'by @pratapvardhan; credit @jburnmurdoch', transform=ax.transAxes, color='#777777', ha='right',\n",
    "# #             bbox=dict(facecolor='white', alpha=0.8, edgecolor='white'))\n",
    "#     plt.box(False)"
   ]
  },
  {
   "cell_type": "code",
   "execution_count": 42,
   "id": "sexual-wages",
   "metadata": {
    "execution": {
     "iopub.execute_input": "2021-05-05T00:13:04.926487Z",
     "iopub.status.busy": "2021-05-05T00:13:04.925890Z",
     "iopub.status.idle": "2021-05-05T00:13:04.928196Z",
     "shell.execute_reply": "2021-05-05T00:13:04.928670Z"
    },
    "papermill": {
     "duration": 0.042542,
     "end_time": "2021-05-05T00:13:04.928801",
     "exception": false,
     "start_time": "2021-05-05T00:13:04.886259",
     "status": "completed"
    },
    "tags": []
   },
   "outputs": [],
   "source": [
    "# #hide_input\n",
    "# fig, ax = plt.subplots(figsize=(15, 8))\n",
    "# animator = animation.FuncAnimation(fig, draw_barchart, frames=range(g.day.values.min(), g.day.values.max()))\n",
    "# HTML(animator.to_jshtml())\n",
    "# # or use animator.to_html5_video() or animator.save() "
   ]
  },
  {
   "cell_type": "code",
   "execution_count": null,
   "id": "australian-container",
   "metadata": {
    "papermill": {
     "duration": 0.037889,
     "end_time": "2021-05-05T00:13:05.004799",
     "exception": false,
     "start_time": "2021-05-05T00:13:04.966910",
     "status": "completed"
    },
    "tags": []
   },
   "outputs": [],
   "source": []
  },
  {
   "cell_type": "code",
   "execution_count": null,
   "id": "mediterranean-pontiac",
   "metadata": {
    "papermill": {
     "duration": 0.036261,
     "end_time": "2021-05-05T00:13:05.078881",
     "exception": false,
     "start_time": "2021-05-05T00:13:05.042620",
     "status": "completed"
    },
    "tags": []
   },
   "outputs": [],
   "source": []
  },
  {
   "cell_type": "code",
   "execution_count": null,
   "id": "aging-legislature",
   "metadata": {
    "papermill": {
     "duration": 0.045207,
     "end_time": "2021-05-05T00:13:05.162462",
     "exception": false,
     "start_time": "2021-05-05T00:13:05.117255",
     "status": "completed"
    },
    "tags": []
   },
   "outputs": [],
   "source": []
  }
 ],
 "metadata": {
  "kernelspec": {
   "display_name": "Python 3",
   "language": "python",
   "name": "python3"
  },
  "language_info": {
   "codemirror_mode": {
    "name": "ipython",
    "version": 3
   },
   "file_extension": ".py",
   "mimetype": "text/x-python",
   "name": "python",
   "nbconvert_exporter": "python",
   "pygments_lexer": "ipython3",
   "version": "3.6.13"
  },
  "papermill": {
   "duration": 6.712933,
   "end_time": "2021-05-05T00:13:05.510864",
   "environment_variables": {},
   "exception": null,
   "input_path": "2020-03-21-covid19exp.ipynb",
   "output_path": "2020-03-21-covid19exp.ipynb",
   "parameters": {},
   "start_time": "2021-05-05T00:12:58.797931",
   "version": "2.0.0"
  }
 },
 "nbformat": 4,
 "nbformat_minor": 5
}