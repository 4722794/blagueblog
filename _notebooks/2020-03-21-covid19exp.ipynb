{
 "cells": [
  {
   "cell_type": "markdown",
   "id": "muslim-click",
   "metadata": {
    "papermill": {
     "duration": 0.034195,
     "end_time": "2021-08-02T00:21:28.715967",
     "exception": false,
     "start_time": "2021-08-02T00:21:28.681772",
     "status": "completed"
    },
    "tags": []
   },
   "source": [
    "# COVID-19 Case Race\n",
    "> A race chart to see rising cases around the world\n",
    "\n",
    "- author: Hargun Oberoi\n",
    "- image: images/covid-overview.png\n",
    "- hide: false\n",
    "- badges: false"
   ]
  },
  {
   "cell_type": "code",
   "execution_count": 1,
   "id": "proof-material",
   "metadata": {
    "execution": {
     "iopub.execute_input": "2021-08-02T00:21:28.783848Z",
     "iopub.status.busy": "2021-08-02T00:21:28.781952Z",
     "iopub.status.idle": "2021-08-02T00:21:29.099920Z",
     "shell.execute_reply": "2021-08-02T00:21:29.099367Z"
    },
    "papermill": {
     "duration": 0.354549,
     "end_time": "2021-08-02T00:21:29.100070",
     "exception": false,
     "start_time": "2021-08-02T00:21:28.745521",
     "status": "completed"
    },
    "tags": []
   },
   "outputs": [],
   "source": [
    "#hide\n",
    "import numpy as np\n",
    "import pandas as pd\n",
    "from jinja2 import Template\n",
    "from IPython.display import HTML"
   ]
  },
  {
   "cell_type": "code",
   "execution_count": 2,
   "id": "developed-terminology",
   "metadata": {
    "execution": {
     "iopub.execute_input": "2021-08-02T00:21:29.163734Z",
     "iopub.status.busy": "2021-08-02T00:21:29.163217Z",
     "iopub.status.idle": "2021-08-02T00:21:29.165610Z",
     "shell.execute_reply": "2021-08-02T00:21:29.165207Z"
    },
    "papermill": {
     "duration": 0.035521,
     "end_time": "2021-08-02T00:21:29.165717",
     "exception": false,
     "start_time": "2021-08-02T00:21:29.130196",
     "status": "completed"
    },
    "tags": []
   },
   "outputs": [],
   "source": [
    "#hide\n",
    "\n",
    "# FETCH\n",
    "base_url = 'https://raw.githubusercontent.com/pratapvardhan/notebooks/master/covid19/'\n",
    "paths = {\n",
    "    'mapping': base_url + 'mapping_countries.csv',\n",
    "    'overview': base_url + 'overview.tpl'\n",
    "}"
   ]
  },
  {
   "cell_type": "code",
   "execution_count": 3,
   "id": "dynamic-saver",
   "metadata": {
    "execution": {
     "iopub.execute_input": "2021-08-02T00:21:29.232565Z",
     "iopub.status.busy": "2021-08-02T00:21:29.230879Z",
     "iopub.status.idle": "2021-08-02T00:21:29.235351Z",
     "shell.execute_reply": "2021-08-02T00:21:29.234905Z"
    },
    "papermill": {
     "duration": 0.040927,
     "end_time": "2021-08-02T00:21:29.235457",
     "exception": false,
     "start_time": "2021-08-02T00:21:29.194530",
     "status": "completed"
    },
    "tags": []
   },
   "outputs": [
    {
     "data": {
      "text/plain": [
       "'https://raw.githubusercontent.com/pratapvardhan/notebooks/master/covid19/mapping_countries.csv'"
      ]
     },
     "execution_count": 3,
     "metadata": {},
     "output_type": "execute_result"
    }
   ],
   "source": [
    "#hide\n",
    "paths['mapping']"
   ]
  },
  {
   "cell_type": "code",
   "execution_count": 4,
   "id": "urban-software",
   "metadata": {
    "execution": {
     "iopub.execute_input": "2021-08-02T00:21:29.299288Z",
     "iopub.status.busy": "2021-08-02T00:21:29.298767Z",
     "iopub.status.idle": "2021-08-02T00:21:29.301164Z",
     "shell.execute_reply": "2021-08-02T00:21:29.300748Z"
    },
    "papermill": {
     "duration": 0.036614,
     "end_time": "2021-08-02T00:21:29.301270",
     "exception": false,
     "start_time": "2021-08-02T00:21:29.264656",
     "status": "completed"
    },
    "tags": []
   },
   "outputs": [],
   "source": [
    "#hide\n",
    "def get_mappings(url):\n",
    "    df = pd.read_csv(url)\n",
    "    return {\n",
    "        'df': df,\n",
    "        'replace.country': dict(df.dropna(subset=['Name']).set_index('Country')['Name']),\n",
    "        'map.continent': dict(df.set_index('Name')['Continent'])\n",
    "    }"
   ]
  },
  {
   "cell_type": "code",
   "execution_count": 5,
   "id": "intimate-machinery",
   "metadata": {
    "execution": {
     "iopub.execute_input": "2021-08-02T00:21:29.364723Z",
     "iopub.status.busy": "2021-08-02T00:21:29.364230Z",
     "iopub.status.idle": "2021-08-02T00:21:29.428466Z",
     "shell.execute_reply": "2021-08-02T00:21:29.427959Z"
    },
    "papermill": {
     "duration": 0.098167,
     "end_time": "2021-08-02T00:21:29.428605",
     "exception": false,
     "start_time": "2021-08-02T00:21:29.330438",
     "status": "completed"
    },
    "tags": []
   },
   "outputs": [],
   "source": [
    "#hide\n",
    "mapping = get_mappings(paths['mapping'])"
   ]
  },
  {
   "cell_type": "code",
   "execution_count": 6,
   "id": "certified-tactics",
   "metadata": {
    "execution": {
     "iopub.execute_input": "2021-08-02T00:21:29.493145Z",
     "iopub.status.busy": "2021-08-02T00:21:29.492637Z",
     "iopub.status.idle": "2021-08-02T00:21:29.494719Z",
     "shell.execute_reply": "2021-08-02T00:21:29.494297Z"
    },
    "papermill": {
     "duration": 0.036392,
     "end_time": "2021-08-02T00:21:29.494829",
     "exception": false,
     "start_time": "2021-08-02T00:21:29.458437",
     "status": "completed"
    },
    "tags": []
   },
   "outputs": [],
   "source": [
    "#hide\n",
    "def get_template(path):\n",
    "    from urllib.parse import urlparse\n",
    "    if bool(urlparse(path).netloc):\n",
    "        from urllib.request import urlopen\n",
    "        return urlopen(path).read().decode('utf8')\n",
    "    return open(path).read()"
   ]
  },
  {
   "cell_type": "code",
   "execution_count": 7,
   "id": "realistic-blast",
   "metadata": {
    "execution": {
     "iopub.execute_input": "2021-08-02T00:21:29.557608Z",
     "iopub.status.busy": "2021-08-02T00:21:29.557118Z",
     "iopub.status.idle": "2021-08-02T00:21:29.559207Z",
     "shell.execute_reply": "2021-08-02T00:21:29.559612Z"
    },
    "papermill": {
     "duration": 0.035641,
     "end_time": "2021-08-02T00:21:29.559731",
     "exception": false,
     "start_time": "2021-08-02T00:21:29.524090",
     "status": "completed"
    },
    "tags": []
   },
   "outputs": [],
   "source": [
    "#hide\n",
    "def get_frame(name):\n",
    "    url = (\n",
    "        'https://raw.githubusercontent.com/CSSEGISandData/COVID-19/master/csse_covid_19_data/'\n",
    "        f'csse_covid_19_time_series/time_series_covid19_{name}_global.csv')\n",
    "    df = pd.read_csv(url)\n",
    "    # rename countries\n",
    "    df['Country/Region'] = df['Country/Region'].replace(mapping['replace.country'])\n",
    "    return df"
   ]
  },
  {
   "cell_type": "code",
   "execution_count": 8,
   "id": "affiliated-characterization",
   "metadata": {
    "execution": {
     "iopub.execute_input": "2021-08-02T00:21:29.623328Z",
     "iopub.status.busy": "2021-08-02T00:21:29.622816Z",
     "iopub.status.idle": "2021-08-02T00:21:29.624819Z",
     "shell.execute_reply": "2021-08-02T00:21:29.625219Z"
    },
    "papermill": {
     "duration": 0.036479,
     "end_time": "2021-08-02T00:21:29.625339",
     "exception": false,
     "start_time": "2021-08-02T00:21:29.588860",
     "status": "completed"
    },
    "tags": []
   },
   "outputs": [],
   "source": [
    "#hide\n",
    "def get_dates(df):\n",
    "    dt_cols = df.columns[~df.columns.isin(['Province/State', 'Country/Region', 'Lat', 'Long'])]\n",
    "    LAST_DATE_I = -1\n",
    "    # sometimes last column may be empty, then go backwards\n",
    "    for i in range(-1, -len(dt_cols), -1):\n",
    "        if not df[dt_cols[i]].fillna(0).eq(0).all():\n",
    "            LAST_DATE_I = i\n",
    "            break\n",
    "    return LAST_DATE_I, dt_cols"
   ]
  },
  {
   "cell_type": "code",
   "execution_count": 9,
   "id": "recent-optimization",
   "metadata": {
    "execution": {
     "iopub.execute_input": "2021-08-02T00:21:29.687922Z",
     "iopub.status.busy": "2021-08-02T00:21:29.687407Z",
     "iopub.status.idle": "2021-08-02T00:21:30.146009Z",
     "shell.execute_reply": "2021-08-02T00:21:30.145509Z"
    },
    "papermill": {
     "duration": 0.491726,
     "end_time": "2021-08-02T00:21:30.146133",
     "exception": false,
     "start_time": "2021-08-02T00:21:29.654407",
     "status": "completed"
    },
    "tags": []
   },
   "outputs": [],
   "source": [
    "#hide\n",
    "COL_REGION = 'Country/Region'\n",
    "# Confirmed, Recovered, Deaths\n",
    "df = get_frame('confirmed')\n",
    "# dft_: timeseries, dfc_: today country agg\n",
    "dft_cases = df\n",
    "dft_deaths = get_frame('deaths')\n",
    "dft_recovered = get_frame('recovered')\n",
    "LAST_DATE_I, dt_cols = get_dates(df)"
   ]
  },
  {
   "cell_type": "code",
   "execution_count": 10,
   "id": "absolute-copper",
   "metadata": {
    "execution": {
     "iopub.execute_input": "2021-08-02T00:21:30.210510Z",
     "iopub.status.busy": "2021-08-02T00:21:30.210008Z",
     "iopub.status.idle": "2021-08-02T00:21:30.211715Z",
     "shell.execute_reply": "2021-08-02T00:21:30.212177Z"
    },
    "papermill": {
     "duration": 0.036437,
     "end_time": "2021-08-02T00:21:30.212306",
     "exception": false,
     "start_time": "2021-08-02T00:21:30.175869",
     "status": "completed"
    },
    "tags": []
   },
   "outputs": [],
   "source": [
    "#hide\n",
    "LAST_DATE_I, dt_cols = get_dates(df)\n",
    "dt_today =dt_cols[LAST_DATE_I]\n",
    "# dt_5day = dt_cols[LAST_DATE_I - 5]\n",
    "dt_yday = dt_cols[LAST_DATE_I - 1]"
   ]
  },
  {
   "cell_type": "code",
   "execution_count": 11,
   "id": "restricted-sheriff",
   "metadata": {
    "execution": {
     "iopub.execute_input": "2021-08-02T00:21:30.275741Z",
     "iopub.status.busy": "2021-08-02T00:21:30.275244Z",
     "iopub.status.idle": "2021-08-02T00:21:30.281787Z",
     "shell.execute_reply": "2021-08-02T00:21:30.281369Z"
    },
    "papermill": {
     "duration": 0.040437,
     "end_time": "2021-08-02T00:21:30.281883",
     "exception": false,
     "start_time": "2021-08-02T00:21:30.241446",
     "status": "completed"
    },
    "tags": []
   },
   "outputs": [],
   "source": [
    "#hide\n",
    "dfc_cases = dft_cases.groupby(COL_REGION)[dt_today].sum()\n",
    "dfc_deaths = dft_deaths.groupby(COL_REGION)[dt_today].sum()\n",
    "# dfp_cases = dft_cases.groupby(COL_REGION)[dt_5day].sum()\n",
    "# dfp_deaths = dft_deaths.groupby(COL_REGION)[dt_5day].sum()\n",
    "dfp_cases = dft_cases.groupby(COL_REGION)[dt_yday].sum()\n",
    "dfp_deaths = dft_deaths.groupby(COL_REGION)[dt_yday].sum()"
   ]
  },
  {
   "cell_type": "code",
   "execution_count": 12,
   "id": "deluxe-hepatitis",
   "metadata": {
    "execution": {
     "iopub.execute_input": "2021-08-02T00:21:30.345515Z",
     "iopub.status.busy": "2021-08-02T00:21:30.345026Z",
     "iopub.status.idle": "2021-08-02T00:21:30.348985Z",
     "shell.execute_reply": "2021-08-02T00:21:30.348593Z"
    },
    "papermill": {
     "duration": 0.037931,
     "end_time": "2021-08-02T00:21:30.349086",
     "exception": false,
     "start_time": "2021-08-02T00:21:30.311155",
     "status": "completed"
    },
    "tags": []
   },
   "outputs": [],
   "source": [
    "#hide\n",
    "df_table = (pd.DataFrame(dict(Cases = dfc_cases, Deaths = dfc_deaths, PCases = dfp_cases, PDeaths = dfp_deaths))\n",
    "            .sort_values(by = ['Cases','Deaths'], ascending = [False, False])\n",
    "            .reset_index())"
   ]
  },
  {
   "cell_type": "code",
   "execution_count": 13,
   "id": "educational-chancellor",
   "metadata": {
    "execution": {
     "iopub.execute_input": "2021-08-02T00:21:30.424390Z",
     "iopub.status.busy": "2021-08-02T00:21:30.423894Z",
     "iopub.status.idle": "2021-08-02T00:21:30.431076Z",
     "shell.execute_reply": "2021-08-02T00:21:30.430681Z"
    },
    "papermill": {
     "duration": 0.053057,
     "end_time": "2021-08-02T00:21:30.431204",
     "exception": false,
     "start_time": "2021-08-02T00:21:30.378147",
     "status": "completed"
    },
    "tags": []
   },
   "outputs": [
    {
     "data": {
      "text/html": [
       "<div>\n",
       "<style scoped>\n",
       "    .dataframe tbody tr th:only-of-type {\n",
       "        vertical-align: middle;\n",
       "    }\n",
       "\n",
       "    .dataframe tbody tr th {\n",
       "        vertical-align: top;\n",
       "    }\n",
       "\n",
       "    .dataframe thead th {\n",
       "        text-align: right;\n",
       "    }\n",
       "</style>\n",
       "<table border=\"1\" class=\"dataframe\">\n",
       "  <thead>\n",
       "    <tr style=\"text-align: right;\">\n",
       "      <th></th>\n",
       "      <th>Country/Region</th>\n",
       "      <th>Cases</th>\n",
       "      <th>Deaths</th>\n",
       "      <th>PCases</th>\n",
       "      <th>PDeaths</th>\n",
       "      <th>Cases (+)</th>\n",
       "      <th>Deaths (+)</th>\n",
       "      <th>Fatality Rate</th>\n",
       "      <th>Continent</th>\n",
       "    </tr>\n",
       "  </thead>\n",
       "  <tbody>\n",
       "    <tr>\n",
       "      <th>0</th>\n",
       "      <td>US</td>\n",
       "      <td>34978276</td>\n",
       "      <td>613157</td>\n",
       "      <td>34945468</td>\n",
       "      <td>613013</td>\n",
       "      <td>32808</td>\n",
       "      <td>144</td>\n",
       "      <td>1.75</td>\n",
       "      <td>North America</td>\n",
       "    </tr>\n",
       "    <tr>\n",
       "      <th>1</th>\n",
       "      <td>India</td>\n",
       "      <td>31655824</td>\n",
       "      <td>424351</td>\n",
       "      <td>31613993</td>\n",
       "      <td>423810</td>\n",
       "      <td>41831</td>\n",
       "      <td>541</td>\n",
       "      <td>1.34</td>\n",
       "      <td>Asia</td>\n",
       "    </tr>\n",
       "    <tr>\n",
       "      <th>2</th>\n",
       "      <td>Brazil</td>\n",
       "      <td>19917855</td>\n",
       "      <td>556370</td>\n",
       "      <td>19880273</td>\n",
       "      <td>555460</td>\n",
       "      <td>37582</td>\n",
       "      <td>910</td>\n",
       "      <td>2.79</td>\n",
       "      <td>South America</td>\n",
       "    </tr>\n",
       "    <tr>\n",
       "      <th>3</th>\n",
       "      <td>France</td>\n",
       "      <td>6190334</td>\n",
       "      <td>112055</td>\n",
       "      <td>6166690</td>\n",
       "      <td>112011</td>\n",
       "      <td>23644</td>\n",
       "      <td>44</td>\n",
       "      <td>1.81</td>\n",
       "      <td>Europe</td>\n",
       "    </tr>\n",
       "    <tr>\n",
       "      <th>4</th>\n",
       "      <td>Russia</td>\n",
       "      <td>6185249</td>\n",
       "      <td>155952</td>\n",
       "      <td>6161985</td>\n",
       "      <td>155180</td>\n",
       "      <td>23264</td>\n",
       "      <td>772</td>\n",
       "      <td>2.52</td>\n",
       "      <td>Europe</td>\n",
       "    </tr>\n",
       "  </tbody>\n",
       "</table>\n",
       "</div>"
      ],
      "text/plain": [
       "  Country/Region     Cases  Deaths    PCases  PDeaths  Cases (+)  Deaths (+)  \\\n",
       "0             US  34978276  613157  34945468   613013      32808         144   \n",
       "1          India  31655824  424351  31613993   423810      41831         541   \n",
       "2         Brazil  19917855  556370  19880273   555460      37582         910   \n",
       "3         France   6190334  112055   6166690   112011      23644          44   \n",
       "4         Russia   6185249  155952   6161985   155180      23264         772   \n",
       "\n",
       "   Fatality Rate      Continent  \n",
       "0           1.75  North America  \n",
       "1           1.34           Asia  \n",
       "2           2.79  South America  \n",
       "3           1.81         Europe  \n",
       "4           2.52         Europe  "
      ]
     },
     "execution_count": 13,
     "metadata": {},
     "output_type": "execute_result"
    }
   ],
   "source": [
    "#hide\n",
    "for c in 'Cases, Deaths'.split(', '):\n",
    "    df_table[f'{c} (+)'] = (df_table[c] - df_table[f'P{c}']).clip(0)\n",
    "    #Clip ça veut dire, les chiffres negatif sont interdit\n",
    "df_table['Fatality Rate'] = (100* df_table['Deaths']/ df_table['Cases']).round(2)\n",
    "df_table['Continent'] = df_table['Country/Region'].map(mapping['map.continent'])\n",
    "df_table.head(5)"
   ]
  },
  {
   "cell_type": "code",
   "execution_count": 14,
   "id": "aboriginal-bulgaria",
   "metadata": {
    "execution": {
     "iopub.execute_input": "2021-08-02T00:21:30.495249Z",
     "iopub.status.busy": "2021-08-02T00:21:30.494738Z",
     "iopub.status.idle": "2021-08-02T00:21:30.496838Z",
     "shell.execute_reply": "2021-08-02T00:21:30.496422Z"
    },
    "papermill": {
     "duration": 0.036014,
     "end_time": "2021-08-02T00:21:30.496936",
     "exception": false,
     "start_time": "2021-08-02T00:21:30.460922",
     "status": "completed"
    },
    "tags": []
   },
   "outputs": [],
   "source": [
    "#hide\n",
    "#delete problematic countries from table\n",
    "df_table = df_table[~df_table['Country/Region'].isin(['Cape Verde', 'Cruise Ship', 'Kosovo'])]"
   ]
  },
  {
   "cell_type": "code",
   "execution_count": 15,
   "id": "fantastic-effect",
   "metadata": {
    "execution": {
     "iopub.execute_input": "2021-08-02T00:21:30.564091Z",
     "iopub.status.busy": "2021-08-02T00:21:30.563594Z",
     "iopub.status.idle": "2021-08-02T00:21:30.580806Z",
     "shell.execute_reply": "2021-08-02T00:21:30.580325Z"
    },
    "papermill": {
     "duration": 0.054479,
     "end_time": "2021-08-02T00:21:30.580928",
     "exception": false,
     "start_time": "2021-08-02T00:21:30.526449",
     "status": "completed"
    },
    "tags": []
   },
   "outputs": [
    {
     "data": {
      "text/html": [
       "<div>\n",
       "<style scoped>\n",
       "    .dataframe tbody tr th:only-of-type {\n",
       "        vertical-align: middle;\n",
       "    }\n",
       "\n",
       "    .dataframe tbody tr th {\n",
       "        vertical-align: top;\n",
       "    }\n",
       "\n",
       "    .dataframe thead th {\n",
       "        text-align: right;\n",
       "    }\n",
       "</style>\n",
       "<table border=\"1\" class=\"dataframe\">\n",
       "  <thead>\n",
       "    <tr style=\"text-align: right;\">\n",
       "      <th></th>\n",
       "      <th>Country/Region</th>\n",
       "      <th>Cases</th>\n",
       "      <th>Deaths</th>\n",
       "      <th>PCases</th>\n",
       "      <th>PDeaths</th>\n",
       "      <th>Cases (+)</th>\n",
       "      <th>Deaths (+)</th>\n",
       "      <th>Fatality Rate</th>\n",
       "      <th>Continent</th>\n",
       "    </tr>\n",
       "  </thead>\n",
       "  <tbody>\n",
       "    <tr>\n",
       "      <th>0</th>\n",
       "      <td>US</td>\n",
       "      <td>34978276</td>\n",
       "      <td>613157</td>\n",
       "      <td>34945468</td>\n",
       "      <td>613013</td>\n",
       "      <td>32808</td>\n",
       "      <td>144</td>\n",
       "      <td>1.8</td>\n",
       "      <td>North America</td>\n",
       "    </tr>\n",
       "    <tr>\n",
       "      <th>1</th>\n",
       "      <td>India</td>\n",
       "      <td>31655824</td>\n",
       "      <td>424351</td>\n",
       "      <td>31613993</td>\n",
       "      <td>423810</td>\n",
       "      <td>41831</td>\n",
       "      <td>541</td>\n",
       "      <td>1.3</td>\n",
       "      <td>Asia</td>\n",
       "    </tr>\n",
       "    <tr>\n",
       "      <th>2</th>\n",
       "      <td>Brazil</td>\n",
       "      <td>19917855</td>\n",
       "      <td>556370</td>\n",
       "      <td>19880273</td>\n",
       "      <td>555460</td>\n",
       "      <td>37582</td>\n",
       "      <td>910</td>\n",
       "      <td>2.8</td>\n",
       "      <td>South America</td>\n",
       "    </tr>\n",
       "    <tr>\n",
       "      <th>3</th>\n",
       "      <td>France</td>\n",
       "      <td>6190334</td>\n",
       "      <td>112055</td>\n",
       "      <td>6166690</td>\n",
       "      <td>112011</td>\n",
       "      <td>23644</td>\n",
       "      <td>44</td>\n",
       "      <td>1.8</td>\n",
       "      <td>Europe</td>\n",
       "    </tr>\n",
       "    <tr>\n",
       "      <th>4</th>\n",
       "      <td>Russia</td>\n",
       "      <td>6185249</td>\n",
       "      <td>155952</td>\n",
       "      <td>6161985</td>\n",
       "      <td>155180</td>\n",
       "      <td>23264</td>\n",
       "      <td>772</td>\n",
       "      <td>2.5</td>\n",
       "      <td>Europe</td>\n",
       "    </tr>\n",
       "  </tbody>\n",
       "</table>\n",
       "</div>"
      ],
      "text/plain": [
       "  Country/Region     Cases  Deaths    PCases  PDeaths  Cases (+)  Deaths (+)  \\\n",
       "0             US  34978276  613157  34945468   613013      32808         144   \n",
       "1          India  31655824  424351  31613993   423810      41831         541   \n",
       "2         Brazil  19917855  556370  19880273   555460      37582         910   \n",
       "3         France   6190334  112055   6166690   112011      23644          44   \n",
       "4         Russia   6185249  155952   6161985   155180      23264         772   \n",
       "\n",
       "   Fatality Rate      Continent  \n",
       "0            1.8  North America  \n",
       "1            1.3           Asia  \n",
       "2            2.8  South America  \n",
       "3            1.8         Europe  \n",
       "4            2.5         Europe  "
      ]
     },
     "execution_count": 15,
     "metadata": {},
     "output_type": "execute_result"
    }
   ],
   "source": [
    "#hide\n",
    "df_table = (pd.DataFrame(dict(Cases=dfc_cases, Deaths=dfc_deaths, PCases=dfp_cases, PDeaths=dfp_deaths))\n",
    "             .sort_values(by=['Cases', 'Deaths'], ascending=[False, False])\n",
    "             .reset_index())\n",
    "df_table.rename(columns={'index': 'Country/Region'}, inplace=True)\n",
    "for c in 'Cases, Deaths'.split(', '):\n",
    "    df_table[f'{c} (+)'] = (df_table[c] - df_table[f'P{c}']).clip(0)  # DATA BUG\n",
    "df_table['Fatality Rate'] = (100 * df_table['Deaths'] / df_table['Cases']).round(1)\n",
    "df_table['Continent'] = df_table['Country/Region'].map(mapping['map.continent'])\n",
    "df_table.head(5)"
   ]
  },
  {
   "cell_type": "code",
   "execution_count": 16,
   "id": "fewer-occasion",
   "metadata": {
    "execution": {
     "iopub.execute_input": "2021-08-02T00:21:30.647100Z",
     "iopub.status.busy": "2021-08-02T00:21:30.646604Z",
     "iopub.status.idle": "2021-08-02T00:21:30.648783Z",
     "shell.execute_reply": "2021-08-02T00:21:30.648363Z"
    },
    "papermill": {
     "duration": 0.036914,
     "end_time": "2021-08-02T00:21:30.648885",
     "exception": false,
     "start_time": "2021-08-02T00:21:30.611971",
     "status": "completed"
    },
    "tags": []
   },
   "outputs": [],
   "source": [
    "#hide\n",
    "#delete problematic countries from table\n",
    "df_table = df_table[~df_table['Country/Region'].isin(['Cape Verde', 'Cruise Ship', 'Kosovo'])]"
   ]
  },
  {
   "cell_type": "code",
   "execution_count": 17,
   "id": "related-center",
   "metadata": {
    "execution": {
     "iopub.execute_input": "2021-08-02T00:21:30.715476Z",
     "iopub.status.busy": "2021-08-02T00:21:30.714824Z",
     "iopub.status.idle": "2021-08-02T00:21:30.727649Z",
     "shell.execute_reply": "2021-08-02T00:21:30.728122Z"
    },
    "papermill": {
     "duration": 0.049347,
     "end_time": "2021-08-02T00:21:30.728241",
     "exception": false,
     "start_time": "2021-08-02T00:21:30.678894",
     "status": "completed"
    },
    "tags": []
   },
   "outputs": [],
   "source": [
    "#hide\n",
    "metrics = [df_table.columns[index] for index in [1,2,5,6]]\n",
    "# s_china = df_table[df_table['Country/Region'].eq('China')][metrics].sum().add_prefix('China ')\n",
    "s_us = df_table[df_table['Country/Region'].eq('US')][metrics].sum().add_prefix('US ')\n",
    "s_eu = df_table[df_table['Continent'].eq('Europe')][metrics].sum().add_prefix('EU ')\n",
    "s_ind = df_table[df_table['Country/Region'].eq('India')][metrics].sum().add_prefix('India ')\n",
    "summary = {'updated': pd.to_datetime(dt_today), 'since': pd.to_datetime(dt_yday)}\n",
    "summary = {'updated': pd.to_datetime(dt_today), 'since': pd.to_datetime(dt_yday)}\n",
    "summary = {**summary, **df_table[metrics].sum(), **s_ind, **s_us, **s_eu}"
   ]
  },
  {
   "cell_type": "code",
   "execution_count": 18,
   "id": "engaging-syndrome",
   "metadata": {
    "execution": {
     "iopub.execute_input": "2021-08-02T00:21:30.793074Z",
     "iopub.status.busy": "2021-08-02T00:21:30.792574Z",
     "iopub.status.idle": "2021-08-02T00:21:30.805030Z",
     "shell.execute_reply": "2021-08-02T00:21:30.805409Z"
    },
    "papermill": {
     "duration": 0.047173,
     "end_time": "2021-08-02T00:21:30.805535",
     "exception": false,
     "start_time": "2021-08-02T00:21:30.758362",
     "status": "completed"
    },
    "tags": []
   },
   "outputs": [],
   "source": [
    "#hide\n",
    "dft_ct_new_cases = dft_cases.groupby(COL_REGION)[dt_cols].sum().diff(axis=1).fillna(0).astype(int)"
   ]
  },
  {
   "cell_type": "code",
   "execution_count": 19,
   "id": "neutral-assignment",
   "metadata": {
    "execution": {
     "iopub.execute_input": "2021-08-02T00:21:30.872240Z",
     "iopub.status.busy": "2021-08-02T00:21:30.871727Z",
     "iopub.status.idle": "2021-08-02T00:21:30.873463Z",
     "shell.execute_reply": "2021-08-02T00:21:30.873885Z"
    },
    "papermill": {
     "duration": 0.03819,
     "end_time": "2021-08-02T00:21:30.874011",
     "exception": false,
     "start_time": "2021-08-02T00:21:30.835821",
     "status": "completed"
    },
    "tags": []
   },
   "outputs": [],
   "source": [
    "#hide\n",
    "everydaycases = dft_ct_new_cases.cumsum(axis=1)"
   ]
  },
  {
   "cell_type": "code",
   "execution_count": 20,
   "id": "parliamentary-calgary",
   "metadata": {
    "execution": {
     "iopub.execute_input": "2021-08-02T00:21:30.939303Z",
     "iopub.status.busy": "2021-08-02T00:21:30.938770Z",
     "iopub.status.idle": "2021-08-02T00:21:31.542921Z",
     "shell.execute_reply": "2021-08-02T00:21:31.542388Z"
    },
    "papermill": {
     "duration": 0.638835,
     "end_time": "2021-08-02T00:21:31.543060",
     "exception": false,
     "start_time": "2021-08-02T00:21:30.904225",
     "status": "completed"
    },
    "tags": []
   },
   "outputs": [],
   "source": [
    "#hide\n",
    "import pandas as pd\n",
    "import matplotlib.pyplot as plt\n",
    "import matplotlib.ticker as ticker\n",
    "import matplotlib.animation as animation\n",
    "from IPython.display import HTML"
   ]
  },
  {
   "cell_type": "code",
   "execution_count": 21,
   "id": "lasting-extraction",
   "metadata": {
    "execution": {
     "iopub.execute_input": "2021-08-02T00:21:31.610637Z",
     "iopub.status.busy": "2021-08-02T00:21:31.610125Z",
     "iopub.status.idle": "2021-08-02T00:21:31.615301Z",
     "shell.execute_reply": "2021-08-02T00:21:31.615731Z"
    },
    "papermill": {
     "duration": 0.041232,
     "end_time": "2021-08-02T00:21:31.615861",
     "exception": false,
     "start_time": "2021-08-02T00:21:31.574629",
     "status": "completed"
    },
    "tags": []
   },
   "outputs": [],
   "source": [
    "#hide\n",
    "t = everydaycases.stack()"
   ]
  },
  {
   "cell_type": "code",
   "execution_count": 22,
   "id": "premier-sleeve",
   "metadata": {
    "execution": {
     "iopub.execute_input": "2021-08-02T00:21:31.680280Z",
     "iopub.status.busy": "2021-08-02T00:21:31.679791Z",
     "iopub.status.idle": "2021-08-02T00:21:31.687557Z",
     "shell.execute_reply": "2021-08-02T00:21:31.687932Z"
    },
    "papermill": {
     "duration": 0.041804,
     "end_time": "2021-08-02T00:21:31.688054",
     "exception": false,
     "start_time": "2021-08-02T00:21:31.646250",
     "status": "completed"
    },
    "tags": []
   },
   "outputs": [],
   "source": [
    "#hide\n",
    "g = t.reset_index(['Country/Region'])"
   ]
  },
  {
   "cell_type": "code",
   "execution_count": 23,
   "id": "distributed-pittsburgh",
   "metadata": {
    "execution": {
     "iopub.execute_input": "2021-08-02T00:21:31.751854Z",
     "iopub.status.busy": "2021-08-02T00:21:31.751351Z",
     "iopub.status.idle": "2021-08-02T00:21:31.753063Z",
     "shell.execute_reply": "2021-08-02T00:21:31.753531Z"
    },
    "papermill": {
     "duration": 0.03572,
     "end_time": "2021-08-02T00:21:31.753650",
     "exception": false,
     "start_time": "2021-08-02T00:21:31.717930",
     "status": "completed"
    },
    "tags": []
   },
   "outputs": [],
   "source": [
    "#hide\n",
    "g.index.name = 'date'"
   ]
  },
  {
   "cell_type": "code",
   "execution_count": 24,
   "id": "naked-donor",
   "metadata": {
    "execution": {
     "iopub.execute_input": "2021-08-02T00:21:31.816998Z",
     "iopub.status.busy": "2021-08-02T00:21:31.816507Z",
     "iopub.status.idle": "2021-08-02T00:21:31.818709Z",
     "shell.execute_reply": "2021-08-02T00:21:31.818314Z"
    },
    "papermill": {
     "duration": 0.035041,
     "end_time": "2021-08-02T00:21:31.818812",
     "exception": false,
     "start_time": "2021-08-02T00:21:31.783771",
     "status": "completed"
    },
    "tags": []
   },
   "outputs": [],
   "source": [
    "# #hide\n",
    "# g = g.reset_index(['date'])"
   ]
  },
  {
   "cell_type": "code",
   "execution_count": 25,
   "id": "incomplete-mustang",
   "metadata": {
    "execution": {
     "iopub.execute_input": "2021-08-02T00:21:31.882242Z",
     "iopub.status.busy": "2021-08-02T00:21:31.881753Z",
     "iopub.status.idle": "2021-08-02T00:21:31.883990Z",
     "shell.execute_reply": "2021-08-02T00:21:31.883598Z"
    },
    "papermill": {
     "duration": 0.03516,
     "end_time": "2021-08-02T00:21:31.884090",
     "exception": false,
     "start_time": "2021-08-02T00:21:31.848930",
     "status": "completed"
    },
    "tags": []
   },
   "outputs": [],
   "source": [
    "#hide\n",
    "# g.head()"
   ]
  },
  {
   "cell_type": "code",
   "execution_count": 26,
   "id": "specific-kruger",
   "metadata": {
    "execution": {
     "iopub.execute_input": "2021-08-02T00:21:31.947900Z",
     "iopub.status.busy": "2021-08-02T00:21:31.947405Z",
     "iopub.status.idle": "2021-08-02T00:21:31.949464Z",
     "shell.execute_reply": "2021-08-02T00:21:31.949049Z"
    },
    "papermill": {
     "duration": 0.035367,
     "end_time": "2021-08-02T00:21:31.949563",
     "exception": false,
     "start_time": "2021-08-02T00:21:31.914196",
     "status": "completed"
    },
    "tags": []
   },
   "outputs": [],
   "source": [
    "#hide\n",
    "# g.columns = ['date','country','cases']"
   ]
  },
  {
   "cell_type": "code",
   "execution_count": 27,
   "id": "tender-conversion",
   "metadata": {
    "execution": {
     "iopub.execute_input": "2021-08-02T00:21:32.012822Z",
     "iopub.status.busy": "2021-08-02T00:21:32.012321Z",
     "iopub.status.idle": "2021-08-02T00:21:32.014061Z",
     "shell.execute_reply": "2021-08-02T00:21:32.014528Z"
    },
    "papermill": {
     "duration": 0.035091,
     "end_time": "2021-08-02T00:21:32.014644",
     "exception": false,
     "start_time": "2021-08-02T00:21:31.979553",
     "status": "completed"
    },
    "tags": []
   },
   "outputs": [],
   "source": [
    "#hide\n",
    "# g['continent'] = g.country"
   ]
  },
  {
   "cell_type": "code",
   "execution_count": 28,
   "id": "substantial-wilderness",
   "metadata": {
    "execution": {
     "iopub.execute_input": "2021-08-02T00:21:32.079371Z",
     "iopub.status.busy": "2021-08-02T00:21:32.078855Z",
     "iopub.status.idle": "2021-08-02T00:21:32.080531Z",
     "shell.execute_reply": "2021-08-02T00:21:32.080902Z"
    },
    "papermill": {
     "duration": 0.036085,
     "end_time": "2021-08-02T00:21:32.081022",
     "exception": false,
     "start_time": "2021-08-02T00:21:32.044937",
     "status": "completed"
    },
    "tags": []
   },
   "outputs": [],
   "source": [
    "#hide\n",
    "# cols = list(g.columns.values)"
   ]
  },
  {
   "cell_type": "code",
   "execution_count": 29,
   "id": "solved-farming",
   "metadata": {
    "execution": {
     "iopub.execute_input": "2021-08-02T00:21:32.144582Z",
     "iopub.status.busy": "2021-08-02T00:21:32.144092Z",
     "iopub.status.idle": "2021-08-02T00:21:32.145881Z",
     "shell.execute_reply": "2021-08-02T00:21:32.146302Z"
    },
    "papermill": {
     "duration": 0.035466,
     "end_time": "2021-08-02T00:21:32.146423",
     "exception": false,
     "start_time": "2021-08-02T00:21:32.110957",
     "status": "completed"
    },
    "tags": []
   },
   "outputs": [],
   "source": [
    "#hide\n",
    "# cols.insert(0, cols.pop())"
   ]
  },
  {
   "cell_type": "code",
   "execution_count": 30,
   "id": "executed-adoption",
   "metadata": {
    "execution": {
     "iopub.execute_input": "2021-08-02T00:21:32.211660Z",
     "iopub.status.busy": "2021-08-02T00:21:32.211132Z",
     "iopub.status.idle": "2021-08-02T00:21:32.213215Z",
     "shell.execute_reply": "2021-08-02T00:21:32.212803Z"
    },
    "papermill": {
     "duration": 0.03678,
     "end_time": "2021-08-02T00:21:32.213313",
     "exception": false,
     "start_time": "2021-08-02T00:21:32.176533",
     "status": "completed"
    },
    "tags": []
   },
   "outputs": [],
   "source": [
    "#hide\n",
    "# g = g[cols]"
   ]
  },
  {
   "cell_type": "code",
   "execution_count": 31,
   "id": "subject-dublin",
   "metadata": {
    "execution": {
     "iopub.execute_input": "2021-08-02T00:21:32.276744Z",
     "iopub.status.busy": "2021-08-02T00:21:32.276251Z",
     "iopub.status.idle": "2021-08-02T00:21:32.277971Z",
     "shell.execute_reply": "2021-08-02T00:21:32.278436Z"
    },
    "papermill": {
     "duration": 0.03503,
     "end_time": "2021-08-02T00:21:32.278552",
     "exception": false,
     "start_time": "2021-08-02T00:21:32.243522",
     "status": "completed"
    },
    "tags": []
   },
   "outputs": [],
   "source": [
    "#hide\n",
    "# g['continent'] = g['continent'].map(mapping['map.continent'])"
   ]
  },
  {
   "cell_type": "code",
   "execution_count": 32,
   "id": "freelance-scout",
   "metadata": {
    "execution": {
     "iopub.execute_input": "2021-08-02T00:21:32.342363Z",
     "iopub.status.busy": "2021-08-02T00:21:32.341871Z",
     "iopub.status.idle": "2021-08-02T00:21:32.343571Z",
     "shell.execute_reply": "2021-08-02T00:21:32.343997Z"
    },
    "papermill": {
     "duration": 0.035435,
     "end_time": "2021-08-02T00:21:32.344115",
     "exception": false,
     "start_time": "2021-08-02T00:21:32.308680",
     "status": "completed"
    },
    "tags": []
   },
   "outputs": [],
   "source": [
    "#hide\n",
    "# g.head()"
   ]
  },
  {
   "cell_type": "code",
   "execution_count": 33,
   "id": "limited-engine",
   "metadata": {
    "execution": {
     "iopub.execute_input": "2021-08-02T00:21:32.406970Z",
     "iopub.status.busy": "2021-08-02T00:21:32.406485Z",
     "iopub.status.idle": "2021-08-02T00:21:32.408291Z",
     "shell.execute_reply": "2021-08-02T00:21:32.408711Z"
    },
    "papermill": {
     "duration": 0.034783,
     "end_time": "2021-08-02T00:21:32.408818",
     "exception": false,
     "start_time": "2021-08-02T00:21:32.374035",
     "status": "completed"
    },
    "tags": []
   },
   "outputs": [],
   "source": [
    "# hide\n",
    "# g['date'] = g['date'].astype('datetime64[ns]')"
   ]
  },
  {
   "cell_type": "code",
   "execution_count": 34,
   "id": "sophisticated-supervisor",
   "metadata": {
    "execution": {
     "iopub.execute_input": "2021-08-02T00:21:32.472517Z",
     "iopub.status.busy": "2021-08-02T00:21:32.472027Z",
     "iopub.status.idle": "2021-08-02T00:21:32.473829Z",
     "shell.execute_reply": "2021-08-02T00:21:32.474223Z"
    },
    "papermill": {
     "duration": 0.035332,
     "end_time": "2021-08-02T00:21:32.474336",
     "exception": false,
     "start_time": "2021-08-02T00:21:32.439004",
     "status": "completed"
    },
    "tags": []
   },
   "outputs": [],
   "source": [
    "#hide\n",
    "# g['date'] = g.date.dt.dayofyear"
   ]
  },
  {
   "cell_type": "code",
   "execution_count": 35,
   "id": "inside-dubai",
   "metadata": {
    "execution": {
     "iopub.execute_input": "2021-08-02T00:21:32.537436Z",
     "iopub.status.busy": "2021-08-02T00:21:32.536950Z",
     "iopub.status.idle": "2021-08-02T00:21:32.539104Z",
     "shell.execute_reply": "2021-08-02T00:21:32.538688Z"
    },
    "papermill": {
     "duration": 0.034987,
     "end_time": "2021-08-02T00:21:32.539218",
     "exception": false,
     "start_time": "2021-08-02T00:21:32.504231",
     "status": "completed"
    },
    "tags": []
   },
   "outputs": [],
   "source": [
    "#hide\n",
    "# g = g.rename(columns= {'continent':'group','country':'name','cases':'value'})"
   ]
  },
  {
   "cell_type": "code",
   "execution_count": 36,
   "id": "fleet-motorcycle",
   "metadata": {
    "execution": {
     "iopub.execute_input": "2021-08-02T00:21:32.602867Z",
     "iopub.status.busy": "2021-08-02T00:21:32.602368Z",
     "iopub.status.idle": "2021-08-02T00:21:32.604203Z",
     "shell.execute_reply": "2021-08-02T00:21:32.604625Z"
    },
    "papermill": {
     "duration": 0.035336,
     "end_time": "2021-08-02T00:21:32.604738",
     "exception": false,
     "start_time": "2021-08-02T00:21:32.569402",
     "status": "completed"
    },
    "tags": []
   },
   "outputs": [],
   "source": [
    "#hide\n",
    "# cols = ['name','group','day','value']"
   ]
  },
  {
   "cell_type": "code",
   "execution_count": 37,
   "id": "continued-sleeping",
   "metadata": {
    "execution": {
     "iopub.execute_input": "2021-08-02T00:21:32.668644Z",
     "iopub.status.busy": "2021-08-02T00:21:32.668151Z",
     "iopub.status.idle": "2021-08-02T00:21:32.670024Z",
     "shell.execute_reply": "2021-08-02T00:21:32.670419Z"
    },
    "papermill": {
     "duration": 0.035498,
     "end_time": "2021-08-02T00:21:32.670538",
     "exception": false,
     "start_time": "2021-08-02T00:21:32.635040",
     "status": "completed"
    },
    "tags": []
   },
   "outputs": [],
   "source": [
    "#hide\n",
    "# g.rename(columns= {'date':'day'},inplace = True)"
   ]
  },
  {
   "cell_type": "code",
   "execution_count": 38,
   "id": "major-fight",
   "metadata": {
    "execution": {
     "iopub.execute_input": "2021-08-02T00:21:32.734477Z",
     "iopub.status.busy": "2021-08-02T00:21:32.733968Z",
     "iopub.status.idle": "2021-08-02T00:21:32.735883Z",
     "shell.execute_reply": "2021-08-02T00:21:32.736260Z"
    },
    "papermill": {
     "duration": 0.035711,
     "end_time": "2021-08-02T00:21:32.736386",
     "exception": false,
     "start_time": "2021-08-02T00:21:32.700675",
     "status": "completed"
    },
    "tags": []
   },
   "outputs": [],
   "source": [
    "#hide\n",
    "# g = g[cols]"
   ]
  },
  {
   "cell_type": "code",
   "execution_count": 39,
   "id": "structured-mobile",
   "metadata": {
    "execution": {
     "iopub.execute_input": "2021-08-02T00:21:32.800124Z",
     "iopub.status.busy": "2021-08-02T00:21:32.799631Z",
     "iopub.status.idle": "2021-08-02T00:21:32.801507Z",
     "shell.execute_reply": "2021-08-02T00:21:32.801904Z"
    },
    "papermill": {
     "duration": 0.035532,
     "end_time": "2021-08-02T00:21:32.802023",
     "exception": false,
     "start_time": "2021-08-02T00:21:32.766491",
     "status": "completed"
    },
    "tags": []
   },
   "outputs": [],
   "source": [
    "# #hide\n",
    "# g = g[g.group.notna()]"
   ]
  },
  {
   "cell_type": "code",
   "execution_count": 40,
   "id": "determined-closing",
   "metadata": {
    "execution": {
     "iopub.execute_input": "2021-08-02T00:21:32.866343Z",
     "iopub.status.busy": "2021-08-02T00:21:32.865841Z",
     "iopub.status.idle": "2021-08-02T00:21:32.867552Z",
     "shell.execute_reply": "2021-08-02T00:21:32.868024Z"
    },
    "papermill": {
     "duration": 0.035795,
     "end_time": "2021-08-02T00:21:32.868149",
     "exception": false,
     "start_time": "2021-08-02T00:21:32.832354",
     "status": "completed"
    },
    "tags": []
   },
   "outputs": [],
   "source": [
    "# #hide\n",
    "# colors = dict(zip(\n",
    "#     [\"Oceania\", \"Europe\", \"Asia\", \"South America\", \"Middle East\", \"North America\", \"Africa\"],\n",
    "#     [\"#adb0ff\", \"#ffb3ff\", \"#90d595\", \"#e48381\", \"#aafbff\", \"#f7bb5f\", \"#eafb50\"]\n",
    "# ))\n",
    "# group_lk = g.set_index('name')['group'].to_dict()"
   ]
  },
  {
   "cell_type": "code",
   "execution_count": null,
   "id": "gross-drinking",
   "metadata": {
    "papermill": {
     "duration": 0.029891,
     "end_time": "2021-08-02T00:21:32.927959",
     "exception": false,
     "start_time": "2021-08-02T00:21:32.898068",
     "status": "completed"
    },
    "tags": []
   },
   "outputs": [],
   "source": []
  },
  {
   "cell_type": "code",
   "execution_count": 41,
   "id": "subject-macintosh",
   "metadata": {
    "execution": {
     "iopub.execute_input": "2021-08-02T00:21:32.993024Z",
     "iopub.status.busy": "2021-08-02T00:21:32.992506Z",
     "iopub.status.idle": "2021-08-02T00:21:32.994334Z",
     "shell.execute_reply": "2021-08-02T00:21:32.994734Z"
    },
    "papermill": {
     "duration": 0.0364,
     "end_time": "2021-08-02T00:21:32.994859",
     "exception": false,
     "start_time": "2021-08-02T00:21:32.958459",
     "status": "completed"
    },
    "tags": []
   },
   "outputs": [],
   "source": [
    "# #hide\n",
    "# fig, ax = plt.subplots(figsize=(15, 8))\n",
    "\n",
    "# def draw_barchart(current_day):\n",
    "#     dff = g[g['day'].eq(current_day)].sort_values(by='value', ascending=True).tail(10)\n",
    "#     ax.clear()\n",
    "#     ax.barh(dff['name'], dff['value'], color=[colors[group_lk[x]] for x in dff['name']])\n",
    "#     dx = dff['value'].max() / 200\n",
    "    \n",
    "#     for i, (value, name) in enumerate(zip(dff['value'], dff['name'])):\n",
    "#         ax.text(value-dx, i,     name,           size=14, weight=600, ha='right', va='bottom')\n",
    "#         ax.text(value-dx, i-.25, group_lk[name], size=10, color='#444444', ha='right', va='baseline')\n",
    "#         ax.text(value+dx, i,     f'{value:,.0f}',  size=14, ha='left',  va='center')\n",
    "#     ax.text(1, 0.4, current_day, transform=ax.transAxes, color='#777777', size=46, ha='right', weight=800)\n",
    "#     ax.text(0, 1.06, 'Population (thousands)', transform=ax.transAxes, size=12, color='#777777')\n",
    "#     ax.xaxis.set_major_formatter(ticker.StrMethodFormatter('{x:,.0f}'))\n",
    "#     ax.xaxis.set_ticks_position('top')\n",
    "#     ax.tick_params(axis='x', colors='#777777', labelsize=12)\n",
    "#     ax.set_yticks([])\n",
    "#     ax.margins(0, 0.01)\n",
    "#     ax.grid(which='major', axis='x', linestyle='-')\n",
    "#     ax.set_axisbelow(True)\n",
    "    \n",
    "#     ax.text(0, 1.15, 'Coronavirus',\n",
    "#             transform=ax.transAxes, size=24, weight=600, ha='left', va='top')\n",
    "# #     ax.text(1, 0, 'by @pratapvardhan; credit @jburnmurdoch', transform=ax.transAxes, color='#777777', ha='right',\n",
    "# #             bbox=dict(facecolor='white', alpha=0.8, edgecolor='white'))\n",
    "#     plt.box(False)"
   ]
  },
  {
   "cell_type": "code",
   "execution_count": 42,
   "id": "sexual-wages",
   "metadata": {
    "execution": {
     "iopub.execute_input": "2021-08-02T00:21:33.059099Z",
     "iopub.status.busy": "2021-08-02T00:21:33.058600Z",
     "iopub.status.idle": "2021-08-02T00:21:33.060795Z",
     "shell.execute_reply": "2021-08-02T00:21:33.060394Z"
    },
    "papermill": {
     "duration": 0.035772,
     "end_time": "2021-08-02T00:21:33.060903",
     "exception": false,
     "start_time": "2021-08-02T00:21:33.025131",
     "status": "completed"
    },
    "tags": []
   },
   "outputs": [],
   "source": [
    "# #hide_input\n",
    "# fig, ax = plt.subplots(figsize=(15, 8))\n",
    "# animator = animation.FuncAnimation(fig, draw_barchart, frames=range(g.day.values.min(), g.day.values.max()))\n",
    "# HTML(animator.to_jshtml())\n",
    "# # or use animator.to_html5_video() or animator.save() "
   ]
  },
  {
   "cell_type": "code",
   "execution_count": null,
   "id": "australian-container",
   "metadata": {
    "papermill": {
     "duration": 0.03011,
     "end_time": "2021-08-02T00:21:33.121869",
     "exception": false,
     "start_time": "2021-08-02T00:21:33.091759",
     "status": "completed"
    },
    "tags": []
   },
   "outputs": [],
   "source": []
  },
  {
   "cell_type": "code",
   "execution_count": null,
   "id": "mediterranean-pontiac",
   "metadata": {
    "papermill": {
     "duration": 0.030151,
     "end_time": "2021-08-02T00:21:33.182173",
     "exception": false,
     "start_time": "2021-08-02T00:21:33.152022",
     "status": "completed"
    },
    "tags": []
   },
   "outputs": [],
   "source": []
  },
  {
   "cell_type": "code",
   "execution_count": null,
   "id": "aging-legislature",
   "metadata": {
    "papermill": {
     "duration": 0.03006,
     "end_time": "2021-08-02T00:21:33.242536",
     "exception": false,
     "start_time": "2021-08-02T00:21:33.212476",
     "status": "completed"
    },
    "tags": []
   },
   "outputs": [],
   "source": []
  }
 ],
 "metadata": {
  "kernelspec": {
   "display_name": "Python 3",
   "language": "python",
   "name": "python3"
  },
  "language_info": {
   "codemirror_mode": {
    "name": "ipython",
    "version": 3
   },
   "file_extension": ".py",
   "mimetype": "text/x-python",
   "name": "python",
   "nbconvert_exporter": "python",
   "pygments_lexer": "ipython3",
   "version": "3.6.14"
  },
  "papermill": {
   "duration": 5.942065,
   "end_time": "2021-08-02T00:21:33.579695",
   "environment_variables": {},
   "exception": null,
   "input_path": "2020-03-21-covid19exp.ipynb",
   "output_path": "2020-03-21-covid19exp.ipynb",
   "parameters": {},
   "start_time": "2021-08-02T00:21:27.637630",
   "version": "2.0.0"
  }
 },
 "nbformat": 4,
 "nbformat_minor": 5
}