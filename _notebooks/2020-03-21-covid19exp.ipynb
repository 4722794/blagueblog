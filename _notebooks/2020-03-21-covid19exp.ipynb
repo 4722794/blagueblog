{
 "cells": [
  {
   "cell_type": "markdown",
   "id": "muslim-click",
   "metadata": {
    "papermill": {
     "duration": 0.041891,
     "end_time": "2021-05-20T00:24:58.263149",
     "exception": false,
     "start_time": "2021-05-20T00:24:58.221258",
     "status": "completed"
    },
    "tags": []
   },
   "source": [
    "# COVID-19 Case Race\n",
    "> A race chart to see rising cases around the world\n",
    "\n",
    "- author: Hargun Oberoi\n",
    "- image: images/covid-overview.png\n",
    "- hide: false\n",
    "- badges: false"
   ]
  },
  {
   "cell_type": "code",
   "execution_count": 1,
   "id": "proof-material",
   "metadata": {
    "execution": {
     "iopub.execute_input": "2021-05-20T00:24:58.351990Z",
     "iopub.status.busy": "2021-05-20T00:24:58.351186Z",
     "iopub.status.idle": "2021-05-20T00:24:58.752102Z",
     "shell.execute_reply": "2021-05-20T00:24:58.752660Z"
    },
    "papermill": {
     "duration": 0.450454,
     "end_time": "2021-05-20T00:24:58.752853",
     "exception": false,
     "start_time": "2021-05-20T00:24:58.302399",
     "status": "completed"
    },
    "tags": []
   },
   "outputs": [],
   "source": [
    "#hide\n",
    "import numpy as np\n",
    "import pandas as pd\n",
    "from jinja2 import Template\n",
    "from IPython.display import HTML"
   ]
  },
  {
   "cell_type": "code",
   "execution_count": 2,
   "id": "developed-terminology",
   "metadata": {
    "execution": {
     "iopub.execute_input": "2021-05-20T00:24:58.839436Z",
     "iopub.status.busy": "2021-05-20T00:24:58.838766Z",
     "iopub.status.idle": "2021-05-20T00:24:58.841467Z",
     "shell.execute_reply": "2021-05-20T00:24:58.840877Z"
    },
    "papermill": {
     "duration": 0.046772,
     "end_time": "2021-05-20T00:24:58.841693",
     "exception": false,
     "start_time": "2021-05-20T00:24:58.794921",
     "status": "completed"
    },
    "tags": []
   },
   "outputs": [],
   "source": [
    "#hide\n",
    "\n",
    "# FETCH\n",
    "base_url = 'https://raw.githubusercontent.com/pratapvardhan/notebooks/master/covid19/'\n",
    "paths = {\n",
    "    'mapping': base_url + 'mapping_countries.csv',\n",
    "    'overview': base_url + 'overview.tpl'\n",
    "}"
   ]
  },
  {
   "cell_type": "code",
   "execution_count": 3,
   "id": "dynamic-saver",
   "metadata": {
    "execution": {
     "iopub.execute_input": "2021-05-20T00:24:58.931951Z",
     "iopub.status.busy": "2021-05-20T00:24:58.931103Z",
     "iopub.status.idle": "2021-05-20T00:24:58.933548Z",
     "shell.execute_reply": "2021-05-20T00:24:58.934157Z"
    },
    "papermill": {
     "duration": 0.052914,
     "end_time": "2021-05-20T00:24:58.934318",
     "exception": false,
     "start_time": "2021-05-20T00:24:58.881404",
     "status": "completed"
    },
    "tags": []
   },
   "outputs": [
    {
     "data": {
      "text/plain": [
       "'https://raw.githubusercontent.com/pratapvardhan/notebooks/master/covid19/mapping_countries.csv'"
      ]
     },
     "execution_count": 3,
     "metadata": {},
     "output_type": "execute_result"
    }
   ],
   "source": [
    "#hide\n",
    "paths['mapping']"
   ]
  },
  {
   "cell_type": "code",
   "execution_count": 4,
   "id": "urban-software",
   "metadata": {
    "execution": {
     "iopub.execute_input": "2021-05-20T00:24:59.024070Z",
     "iopub.status.busy": "2021-05-20T00:24:59.023286Z",
     "iopub.status.idle": "2021-05-20T00:24:59.025204Z",
     "shell.execute_reply": "2021-05-20T00:24:59.025719Z"
    },
    "papermill": {
     "duration": 0.050531,
     "end_time": "2021-05-20T00:24:59.025864",
     "exception": false,
     "start_time": "2021-05-20T00:24:58.975333",
     "status": "completed"
    },
    "tags": []
   },
   "outputs": [],
   "source": [
    "#hide\n",
    "def get_mappings(url):\n",
    "    df = pd.read_csv(url)\n",
    "    return {\n",
    "        'df': df,\n",
    "        'replace.country': dict(df.dropna(subset=['Name']).set_index('Country')['Name']),\n",
    "        'map.continent': dict(df.set_index('Name')['Continent'])\n",
    "    }"
   ]
  },
  {
   "cell_type": "code",
   "execution_count": 5,
   "id": "intimate-machinery",
   "metadata": {
    "execution": {
     "iopub.execute_input": "2021-05-20T00:24:59.119372Z",
     "iopub.status.busy": "2021-05-20T00:24:59.118730Z",
     "iopub.status.idle": "2021-05-20T00:24:59.153184Z",
     "shell.execute_reply": "2021-05-20T00:24:59.152589Z"
    },
    "papermill": {
     "duration": 0.089361,
     "end_time": "2021-05-20T00:24:59.153332",
     "exception": false,
     "start_time": "2021-05-20T00:24:59.063971",
     "status": "completed"
    },
    "tags": []
   },
   "outputs": [],
   "source": [
    "#hide\n",
    "mapping = get_mappings(paths['mapping'])"
   ]
  },
  {
   "cell_type": "code",
   "execution_count": 6,
   "id": "certified-tactics",
   "metadata": {
    "execution": {
     "iopub.execute_input": "2021-05-20T00:24:59.235828Z",
     "iopub.status.busy": "2021-05-20T00:24:59.235177Z",
     "iopub.status.idle": "2021-05-20T00:24:59.237845Z",
     "shell.execute_reply": "2021-05-20T00:24:59.237228Z"
    },
    "papermill": {
     "duration": 0.046231,
     "end_time": "2021-05-20T00:24:59.237978",
     "exception": false,
     "start_time": "2021-05-20T00:24:59.191747",
     "status": "completed"
    },
    "tags": []
   },
   "outputs": [],
   "source": [
    "#hide\n",
    "def get_template(path):\n",
    "    from urllib.parse import urlparse\n",
    "    if bool(urlparse(path).netloc):\n",
    "        from urllib.request import urlopen\n",
    "        return urlopen(path).read().decode('utf8')\n",
    "    return open(path).read()"
   ]
  },
  {
   "cell_type": "code",
   "execution_count": 7,
   "id": "realistic-blast",
   "metadata": {
    "execution": {
     "iopub.execute_input": "2021-05-20T00:24:59.331434Z",
     "iopub.status.busy": "2021-05-20T00:24:59.330799Z",
     "iopub.status.idle": "2021-05-20T00:24:59.333066Z",
     "shell.execute_reply": "2021-05-20T00:24:59.332467Z"
    },
    "papermill": {
     "duration": 0.046435,
     "end_time": "2021-05-20T00:24:59.333196",
     "exception": false,
     "start_time": "2021-05-20T00:24:59.286761",
     "status": "completed"
    },
    "tags": []
   },
   "outputs": [],
   "source": [
    "#hide\n",
    "def get_frame(name):\n",
    "    url = (\n",
    "        'https://raw.githubusercontent.com/CSSEGISandData/COVID-19/master/csse_covid_19_data/'\n",
    "        f'csse_covid_19_time_series/time_series_covid19_{name}_global.csv')\n",
    "    df = pd.read_csv(url)\n",
    "    # rename countries\n",
    "    df['Country/Region'] = df['Country/Region'].replace(mapping['replace.country'])\n",
    "    return df"
   ]
  },
  {
   "cell_type": "code",
   "execution_count": 8,
   "id": "affiliated-characterization",
   "metadata": {
    "execution": {
     "iopub.execute_input": "2021-05-20T00:24:59.416486Z",
     "iopub.status.busy": "2021-05-20T00:24:59.415851Z",
     "iopub.status.idle": "2021-05-20T00:24:59.418838Z",
     "shell.execute_reply": "2021-05-20T00:24:59.418274Z"
    },
    "papermill": {
     "duration": 0.046871,
     "end_time": "2021-05-20T00:24:59.418972",
     "exception": false,
     "start_time": "2021-05-20T00:24:59.372101",
     "status": "completed"
    },
    "tags": []
   },
   "outputs": [],
   "source": [
    "#hide\n",
    "def get_dates(df):\n",
    "    dt_cols = df.columns[~df.columns.isin(['Province/State', 'Country/Region', 'Lat', 'Long'])]\n",
    "    LAST_DATE_I = -1\n",
    "    # sometimes last column may be empty, then go backwards\n",
    "    for i in range(-1, -len(dt_cols), -1):\n",
    "        if not df[dt_cols[i]].fillna(0).eq(0).all():\n",
    "            LAST_DATE_I = i\n",
    "            break\n",
    "    return LAST_DATE_I, dt_cols"
   ]
  },
  {
   "cell_type": "code",
   "execution_count": 9,
   "id": "recent-optimization",
   "metadata": {
    "execution": {
     "iopub.execute_input": "2021-05-20T00:24:59.501622Z",
     "iopub.status.busy": "2021-05-20T00:24:59.500985Z",
     "iopub.status.idle": "2021-05-20T00:24:59.792929Z",
     "shell.execute_reply": "2021-05-20T00:24:59.792351Z"
    },
    "papermill": {
     "duration": 0.334836,
     "end_time": "2021-05-20T00:24:59.793069",
     "exception": false,
     "start_time": "2021-05-20T00:24:59.458233",
     "status": "completed"
    },
    "tags": []
   },
   "outputs": [],
   "source": [
    "#hide\n",
    "COL_REGION = 'Country/Region'\n",
    "# Confirmed, Recovered, Deaths\n",
    "df = get_frame('confirmed')\n",
    "# dft_: timeseries, dfc_: today country agg\n",
    "dft_cases = df\n",
    "dft_deaths = get_frame('deaths')\n",
    "dft_recovered = get_frame('recovered')\n",
    "LAST_DATE_I, dt_cols = get_dates(df)"
   ]
  },
  {
   "cell_type": "code",
   "execution_count": 10,
   "id": "absolute-copper",
   "metadata": {
    "execution": {
     "iopub.execute_input": "2021-05-20T00:24:59.878831Z",
     "iopub.status.busy": "2021-05-20T00:24:59.877431Z",
     "iopub.status.idle": "2021-05-20T00:24:59.879489Z",
     "shell.execute_reply": "2021-05-20T00:24:59.880083Z"
    },
    "papermill": {
     "duration": 0.047986,
     "end_time": "2021-05-20T00:24:59.880237",
     "exception": false,
     "start_time": "2021-05-20T00:24:59.832251",
     "status": "completed"
    },
    "tags": []
   },
   "outputs": [],
   "source": [
    "#hide\n",
    "LAST_DATE_I, dt_cols = get_dates(df)\n",
    "dt_today =dt_cols[LAST_DATE_I]\n",
    "# dt_5day = dt_cols[LAST_DATE_I - 5]\n",
    "dt_yday = dt_cols[LAST_DATE_I - 1]"
   ]
  },
  {
   "cell_type": "code",
   "execution_count": 11,
   "id": "restricted-sheriff",
   "metadata": {
    "execution": {
     "iopub.execute_input": "2021-05-20T00:24:59.968795Z",
     "iopub.status.busy": "2021-05-20T00:24:59.966805Z",
     "iopub.status.idle": "2021-05-20T00:24:59.972239Z",
     "shell.execute_reply": "2021-05-20T00:24:59.972781Z"
    },
    "papermill": {
     "duration": 0.054034,
     "end_time": "2021-05-20T00:24:59.972963",
     "exception": false,
     "start_time": "2021-05-20T00:24:59.918929",
     "status": "completed"
    },
    "tags": []
   },
   "outputs": [],
   "source": [
    "#hide\n",
    "dfc_cases = dft_cases.groupby(COL_REGION)[dt_today].sum()\n",
    "dfc_deaths = dft_deaths.groupby(COL_REGION)[dt_today].sum()\n",
    "# dfp_cases = dft_cases.groupby(COL_REGION)[dt_5day].sum()\n",
    "# dfp_deaths = dft_deaths.groupby(COL_REGION)[dt_5day].sum()\n",
    "dfp_cases = dft_cases.groupby(COL_REGION)[dt_yday].sum()\n",
    "dfp_deaths = dft_deaths.groupby(COL_REGION)[dt_yday].sum()"
   ]
  },
  {
   "cell_type": "code",
   "execution_count": 12,
   "id": "deluxe-hepatitis",
   "metadata": {
    "execution": {
     "iopub.execute_input": "2021-05-20T00:25:00.059958Z",
     "iopub.status.busy": "2021-05-20T00:25:00.058330Z",
     "iopub.status.idle": "2021-05-20T00:25:00.065687Z",
     "shell.execute_reply": "2021-05-20T00:25:00.065030Z"
    },
    "papermill": {
     "duration": 0.053907,
     "end_time": "2021-05-20T00:25:00.065822",
     "exception": false,
     "start_time": "2021-05-20T00:25:00.011915",
     "status": "completed"
    },
    "tags": []
   },
   "outputs": [],
   "source": [
    "#hide\n",
    "df_table = (pd.DataFrame(dict(Cases = dfc_cases, Deaths = dfc_deaths, PCases = dfp_cases, PDeaths = dfp_deaths))\n",
    "            .sort_values(by = ['Cases','Deaths'], ascending = [False, False])\n",
    "            .reset_index())"
   ]
  },
  {
   "cell_type": "code",
   "execution_count": 13,
   "id": "educational-chancellor",
   "metadata": {
    "execution": {
     "iopub.execute_input": "2021-05-20T00:25:00.173587Z",
     "iopub.status.busy": "2021-05-20T00:25:00.172894Z",
     "iopub.status.idle": "2021-05-20T00:25:00.181200Z",
     "shell.execute_reply": "2021-05-20T00:25:00.181843Z"
    },
    "papermill": {
     "duration": 0.068774,
     "end_time": "2021-05-20T00:25:00.182015",
     "exception": false,
     "start_time": "2021-05-20T00:25:00.113241",
     "status": "completed"
    },
    "tags": []
   },
   "outputs": [
    {
     "data": {
      "text/html": [
       "<div>\n",
       "<style scoped>\n",
       "    .dataframe tbody tr th:only-of-type {\n",
       "        vertical-align: middle;\n",
       "    }\n",
       "\n",
       "    .dataframe tbody tr th {\n",
       "        vertical-align: top;\n",
       "    }\n",
       "\n",
       "    .dataframe thead th {\n",
       "        text-align: right;\n",
       "    }\n",
       "</style>\n",
       "<table border=\"1\" class=\"dataframe\">\n",
       "  <thead>\n",
       "    <tr style=\"text-align: right;\">\n",
       "      <th></th>\n",
       "      <th>Country/Region</th>\n",
       "      <th>Cases</th>\n",
       "      <th>Deaths</th>\n",
       "      <th>PCases</th>\n",
       "      <th>PDeaths</th>\n",
       "      <th>Cases (+)</th>\n",
       "      <th>Deaths (+)</th>\n",
       "      <th>Fatality Rate</th>\n",
       "      <th>Continent</th>\n",
       "    </tr>\n",
       "  </thead>\n",
       "  <tbody>\n",
       "    <tr>\n",
       "      <th>0</th>\n",
       "      <td>US</td>\n",
       "      <td>32997331</td>\n",
       "      <td>587219</td>\n",
       "      <td>32969512</td>\n",
       "      <td>586459</td>\n",
       "      <td>27819</td>\n",
       "      <td>760</td>\n",
       "      <td>1.78</td>\n",
       "      <td>North America</td>\n",
       "    </tr>\n",
       "    <tr>\n",
       "      <th>1</th>\n",
       "      <td>India</td>\n",
       "      <td>25496330</td>\n",
       "      <td>283248</td>\n",
       "      <td>25228996</td>\n",
       "      <td>278719</td>\n",
       "      <td>267334</td>\n",
       "      <td>4529</td>\n",
       "      <td>1.11</td>\n",
       "      <td>Asia</td>\n",
       "    </tr>\n",
       "    <tr>\n",
       "      <th>2</th>\n",
       "      <td>Brazil</td>\n",
       "      <td>15732836</td>\n",
       "      <td>439050</td>\n",
       "      <td>15657391</td>\n",
       "      <td>436537</td>\n",
       "      <td>75445</td>\n",
       "      <td>2513</td>\n",
       "      <td>2.79</td>\n",
       "      <td>South America</td>\n",
       "    </tr>\n",
       "    <tr>\n",
       "      <th>3</th>\n",
       "      <td>France</td>\n",
       "      <td>5959593</td>\n",
       "      <td>108201</td>\n",
       "      <td>5942370</td>\n",
       "      <td>107973</td>\n",
       "      <td>17223</td>\n",
       "      <td>228</td>\n",
       "      <td>1.82</td>\n",
       "      <td>Europe</td>\n",
       "    </tr>\n",
       "    <tr>\n",
       "      <th>4</th>\n",
       "      <td>Turkey</td>\n",
       "      <td>5139485</td>\n",
       "      <td>45186</td>\n",
       "      <td>5127548</td>\n",
       "      <td>44983</td>\n",
       "      <td>11937</td>\n",
       "      <td>203</td>\n",
       "      <td>0.88</td>\n",
       "      <td>Asia</td>\n",
       "    </tr>\n",
       "  </tbody>\n",
       "</table>\n",
       "</div>"
      ],
      "text/plain": [
       "  Country/Region     Cases  Deaths    PCases  PDeaths  Cases (+)  Deaths (+)  \\\n",
       "0             US  32997331  587219  32969512   586459      27819         760   \n",
       "1          India  25496330  283248  25228996   278719     267334        4529   \n",
       "2         Brazil  15732836  439050  15657391   436537      75445        2513   \n",
       "3         France   5959593  108201   5942370   107973      17223         228   \n",
       "4         Turkey   5139485   45186   5127548    44983      11937         203   \n",
       "\n",
       "   Fatality Rate      Continent  \n",
       "0           1.78  North America  \n",
       "1           1.11           Asia  \n",
       "2           2.79  South America  \n",
       "3           1.82         Europe  \n",
       "4           0.88           Asia  "
      ]
     },
     "execution_count": 13,
     "metadata": {},
     "output_type": "execute_result"
    }
   ],
   "source": [
    "#hide\n",
    "for c in 'Cases, Deaths'.split(', '):\n",
    "    df_table[f'{c} (+)'] = (df_table[c] - df_table[f'P{c}']).clip(0)\n",
    "    #Clip ça veut dire, les chiffres negatif sont interdit\n",
    "df_table['Fatality Rate'] = (100* df_table['Deaths']/ df_table['Cases']).round(2)\n",
    "df_table['Continent'] = df_table['Country/Region'].map(mapping['map.continent'])\n",
    "df_table.head(5)"
   ]
  },
  {
   "cell_type": "code",
   "execution_count": 14,
   "id": "aboriginal-bulgaria",
   "metadata": {
    "execution": {
     "iopub.execute_input": "2021-05-20T00:25:00.267274Z",
     "iopub.status.busy": "2021-05-20T00:25:00.266635Z",
     "iopub.status.idle": "2021-05-20T00:25:00.268750Z",
     "shell.execute_reply": "2021-05-20T00:25:00.269239Z"
    },
    "papermill": {
     "duration": 0.048146,
     "end_time": "2021-05-20T00:25:00.269391",
     "exception": false,
     "start_time": "2021-05-20T00:25:00.221245",
     "status": "completed"
    },
    "tags": []
   },
   "outputs": [],
   "source": [
    "#hide\n",
    "#delete problematic countries from table\n",
    "df_table = df_table[~df_table['Country/Region'].isin(['Cape Verde', 'Cruise Ship', 'Kosovo'])]"
   ]
  },
  {
   "cell_type": "code",
   "execution_count": 15,
   "id": "fantastic-effect",
   "metadata": {
    "execution": {
     "iopub.execute_input": "2021-05-20T00:25:00.360264Z",
     "iopub.status.busy": "2021-05-20T00:25:00.359612Z",
     "iopub.status.idle": "2021-05-20T00:25:00.382028Z",
     "shell.execute_reply": "2021-05-20T00:25:00.382690Z"
    },
    "papermill": {
     "duration": 0.070977,
     "end_time": "2021-05-20T00:25:00.382908",
     "exception": false,
     "start_time": "2021-05-20T00:25:00.311931",
     "status": "completed"
    },
    "tags": []
   },
   "outputs": [
    {
     "data": {
      "text/html": [
       "<div>\n",
       "<style scoped>\n",
       "    .dataframe tbody tr th:only-of-type {\n",
       "        vertical-align: middle;\n",
       "    }\n",
       "\n",
       "    .dataframe tbody tr th {\n",
       "        vertical-align: top;\n",
       "    }\n",
       "\n",
       "    .dataframe thead th {\n",
       "        text-align: right;\n",
       "    }\n",
       "</style>\n",
       "<table border=\"1\" class=\"dataframe\">\n",
       "  <thead>\n",
       "    <tr style=\"text-align: right;\">\n",
       "      <th></th>\n",
       "      <th>Country/Region</th>\n",
       "      <th>Cases</th>\n",
       "      <th>Deaths</th>\n",
       "      <th>PCases</th>\n",
       "      <th>PDeaths</th>\n",
       "      <th>Cases (+)</th>\n",
       "      <th>Deaths (+)</th>\n",
       "      <th>Fatality Rate</th>\n",
       "      <th>Continent</th>\n",
       "    </tr>\n",
       "  </thead>\n",
       "  <tbody>\n",
       "    <tr>\n",
       "      <th>0</th>\n",
       "      <td>US</td>\n",
       "      <td>32997331</td>\n",
       "      <td>587219</td>\n",
       "      <td>32969512</td>\n",
       "      <td>586459</td>\n",
       "      <td>27819</td>\n",
       "      <td>760</td>\n",
       "      <td>1.8</td>\n",
       "      <td>North America</td>\n",
       "    </tr>\n",
       "    <tr>\n",
       "      <th>1</th>\n",
       "      <td>India</td>\n",
       "      <td>25496330</td>\n",
       "      <td>283248</td>\n",
       "      <td>25228996</td>\n",
       "      <td>278719</td>\n",
       "      <td>267334</td>\n",
       "      <td>4529</td>\n",
       "      <td>1.1</td>\n",
       "      <td>Asia</td>\n",
       "    </tr>\n",
       "    <tr>\n",
       "      <th>2</th>\n",
       "      <td>Brazil</td>\n",
       "      <td>15732836</td>\n",
       "      <td>439050</td>\n",
       "      <td>15657391</td>\n",
       "      <td>436537</td>\n",
       "      <td>75445</td>\n",
       "      <td>2513</td>\n",
       "      <td>2.8</td>\n",
       "      <td>South America</td>\n",
       "    </tr>\n",
       "    <tr>\n",
       "      <th>3</th>\n",
       "      <td>France</td>\n",
       "      <td>5959593</td>\n",
       "      <td>108201</td>\n",
       "      <td>5942370</td>\n",
       "      <td>107973</td>\n",
       "      <td>17223</td>\n",
       "      <td>228</td>\n",
       "      <td>1.8</td>\n",
       "      <td>Europe</td>\n",
       "    </tr>\n",
       "    <tr>\n",
       "      <th>4</th>\n",
       "      <td>Turkey</td>\n",
       "      <td>5139485</td>\n",
       "      <td>45186</td>\n",
       "      <td>5127548</td>\n",
       "      <td>44983</td>\n",
       "      <td>11937</td>\n",
       "      <td>203</td>\n",
       "      <td>0.9</td>\n",
       "      <td>Asia</td>\n",
       "    </tr>\n",
       "  </tbody>\n",
       "</table>\n",
       "</div>"
      ],
      "text/plain": [
       "  Country/Region     Cases  Deaths    PCases  PDeaths  Cases (+)  Deaths (+)  \\\n",
       "0             US  32997331  587219  32969512   586459      27819         760   \n",
       "1          India  25496330  283248  25228996   278719     267334        4529   \n",
       "2         Brazil  15732836  439050  15657391   436537      75445        2513   \n",
       "3         France   5959593  108201   5942370   107973      17223         228   \n",
       "4         Turkey   5139485   45186   5127548    44983      11937         203   \n",
       "\n",
       "   Fatality Rate      Continent  \n",
       "0            1.8  North America  \n",
       "1            1.1           Asia  \n",
       "2            2.8  South America  \n",
       "3            1.8         Europe  \n",
       "4            0.9           Asia  "
      ]
     },
     "execution_count": 15,
     "metadata": {},
     "output_type": "execute_result"
    }
   ],
   "source": [
    "#hide\n",
    "df_table = (pd.DataFrame(dict(Cases=dfc_cases, Deaths=dfc_deaths, PCases=dfp_cases, PDeaths=dfp_deaths))\n",
    "             .sort_values(by=['Cases', 'Deaths'], ascending=[False, False])\n",
    "             .reset_index())\n",
    "df_table.rename(columns={'index': 'Country/Region'}, inplace=True)\n",
    "for c in 'Cases, Deaths'.split(', '):\n",
    "    df_table[f'{c} (+)'] = (df_table[c] - df_table[f'P{c}']).clip(0)  # DATA BUG\n",
    "df_table['Fatality Rate'] = (100 * df_table['Deaths'] / df_table['Cases']).round(1)\n",
    "df_table['Continent'] = df_table['Country/Region'].map(mapping['map.continent'])\n",
    "df_table.head(5)"
   ]
  },
  {
   "cell_type": "code",
   "execution_count": 16,
   "id": "fewer-occasion",
   "metadata": {
    "execution": {
     "iopub.execute_input": "2021-05-20T00:25:00.475421Z",
     "iopub.status.busy": "2021-05-20T00:25:00.474501Z",
     "iopub.status.idle": "2021-05-20T00:25:00.476500Z",
     "shell.execute_reply": "2021-05-20T00:25:00.477060Z"
    },
    "papermill": {
     "duration": 0.051773,
     "end_time": "2021-05-20T00:25:00.477326",
     "exception": false,
     "start_time": "2021-05-20T00:25:00.425553",
     "status": "completed"
    },
    "tags": []
   },
   "outputs": [],
   "source": [
    "#hide\n",
    "#delete problematic countries from table\n",
    "df_table = df_table[~df_table['Country/Region'].isin(['Cape Verde', 'Cruise Ship', 'Kosovo'])]"
   ]
  },
  {
   "cell_type": "code",
   "execution_count": 17,
   "id": "related-center",
   "metadata": {
    "execution": {
     "iopub.execute_input": "2021-05-20T00:25:00.581882Z",
     "iopub.status.busy": "2021-05-20T00:25:00.580234Z",
     "iopub.status.idle": "2021-05-20T00:25:00.582638Z",
     "shell.execute_reply": "2021-05-20T00:25:00.583213Z"
    },
    "papermill": {
     "duration": 0.063582,
     "end_time": "2021-05-20T00:25:00.583383",
     "exception": false,
     "start_time": "2021-05-20T00:25:00.519801",
     "status": "completed"
    },
    "tags": []
   },
   "outputs": [],
   "source": [
    "#hide\n",
    "metrics = [df_table.columns[index] for index in [1,2,5,6]]\n",
    "# s_china = df_table[df_table['Country/Region'].eq('China')][metrics].sum().add_prefix('China ')\n",
    "s_us = df_table[df_table['Country/Region'].eq('US')][metrics].sum().add_prefix('US ')\n",
    "s_eu = df_table[df_table['Continent'].eq('Europe')][metrics].sum().add_prefix('EU ')\n",
    "s_ind = df_table[df_table['Country/Region'].eq('India')][metrics].sum().add_prefix('India ')\n",
    "summary = {'updated': pd.to_datetime(dt_today), 'since': pd.to_datetime(dt_yday)}\n",
    "summary = {'updated': pd.to_datetime(dt_today), 'since': pd.to_datetime(dt_yday)}\n",
    "summary = {**summary, **df_table[metrics].sum(), **s_ind, **s_us, **s_eu}"
   ]
  },
  {
   "cell_type": "code",
   "execution_count": 18,
   "id": "engaging-syndrome",
   "metadata": {
    "execution": {
     "iopub.execute_input": "2021-05-20T00:25:00.675938Z",
     "iopub.status.busy": "2021-05-20T00:25:00.675300Z",
     "iopub.status.idle": "2021-05-20T00:25:00.687199Z",
     "shell.execute_reply": "2021-05-20T00:25:00.686563Z"
    },
    "papermill": {
     "duration": 0.057473,
     "end_time": "2021-05-20T00:25:00.687346",
     "exception": false,
     "start_time": "2021-05-20T00:25:00.629873",
     "status": "completed"
    },
    "tags": []
   },
   "outputs": [],
   "source": [
    "#hide\n",
    "dft_ct_new_cases = dft_cases.groupby(COL_REGION)[dt_cols].sum().diff(axis=1).fillna(0).astype(int)"
   ]
  },
  {
   "cell_type": "code",
   "execution_count": 19,
   "id": "neutral-assignment",
   "metadata": {
    "execution": {
     "iopub.execute_input": "2021-05-20T00:25:00.772907Z",
     "iopub.status.busy": "2021-05-20T00:25:00.772249Z",
     "iopub.status.idle": "2021-05-20T00:25:00.774153Z",
     "shell.execute_reply": "2021-05-20T00:25:00.774740Z"
    },
    "papermill": {
     "duration": 0.048002,
     "end_time": "2021-05-20T00:25:00.774923",
     "exception": false,
     "start_time": "2021-05-20T00:25:00.726921",
     "status": "completed"
    },
    "tags": []
   },
   "outputs": [],
   "source": [
    "#hide\n",
    "everydaycases = dft_ct_new_cases.cumsum(axis=1)"
   ]
  },
  {
   "cell_type": "code",
   "execution_count": 20,
   "id": "parliamentary-calgary",
   "metadata": {
    "execution": {
     "iopub.execute_input": "2021-05-20T00:25:00.863156Z",
     "iopub.status.busy": "2021-05-20T00:25:00.862510Z",
     "iopub.status.idle": "2021-05-20T00:25:01.503367Z",
     "shell.execute_reply": "2021-05-20T00:25:01.503911Z"
    },
    "papermill": {
     "duration": 0.686101,
     "end_time": "2021-05-20T00:25:01.504074",
     "exception": false,
     "start_time": "2021-05-20T00:25:00.817973",
     "status": "completed"
    },
    "tags": []
   },
   "outputs": [],
   "source": [
    "#hide\n",
    "import pandas as pd\n",
    "import matplotlib.pyplot as plt\n",
    "import matplotlib.ticker as ticker\n",
    "import matplotlib.animation as animation\n",
    "from IPython.display import HTML"
   ]
  },
  {
   "cell_type": "code",
   "execution_count": 21,
   "id": "lasting-extraction",
   "metadata": {
    "execution": {
     "iopub.execute_input": "2021-05-20T00:25:01.588784Z",
     "iopub.status.busy": "2021-05-20T00:25:01.588151Z",
     "iopub.status.idle": "2021-05-20T00:25:01.594103Z",
     "shell.execute_reply": "2021-05-20T00:25:01.594758Z"
    },
    "papermill": {
     "duration": 0.051051,
     "end_time": "2021-05-20T00:25:01.594914",
     "exception": false,
     "start_time": "2021-05-20T00:25:01.543863",
     "status": "completed"
    },
    "tags": []
   },
   "outputs": [],
   "source": [
    "#hide\n",
    "t = everydaycases.stack()"
   ]
  },
  {
   "cell_type": "code",
   "execution_count": 22,
   "id": "premier-sleeve",
   "metadata": {
    "execution": {
     "iopub.execute_input": "2021-05-20T00:25:01.678194Z",
     "iopub.status.busy": "2021-05-20T00:25:01.677520Z",
     "iopub.status.idle": "2021-05-20T00:25:01.686576Z",
     "shell.execute_reply": "2021-05-20T00:25:01.687146Z"
    },
    "papermill": {
     "duration": 0.053799,
     "end_time": "2021-05-20T00:25:01.687323",
     "exception": false,
     "start_time": "2021-05-20T00:25:01.633524",
     "status": "completed"
    },
    "tags": []
   },
   "outputs": [],
   "source": [
    "#hide\n",
    "g = t.reset_index(['Country/Region'])"
   ]
  },
  {
   "cell_type": "code",
   "execution_count": 23,
   "id": "distributed-pittsburgh",
   "metadata": {
    "execution": {
     "iopub.execute_input": "2021-05-20T00:25:01.770109Z",
     "iopub.status.busy": "2021-05-20T00:25:01.769340Z",
     "iopub.status.idle": "2021-05-20T00:25:01.770902Z",
     "shell.execute_reply": "2021-05-20T00:25:01.771513Z"
    },
    "papermill": {
     "duration": 0.045469,
     "end_time": "2021-05-20T00:25:01.771673",
     "exception": false,
     "start_time": "2021-05-20T00:25:01.726204",
     "status": "completed"
    },
    "tags": []
   },
   "outputs": [],
   "source": [
    "#hide\n",
    "g.index.name = 'date'"
   ]
  },
  {
   "cell_type": "code",
   "execution_count": 24,
   "id": "naked-donor",
   "metadata": {
    "execution": {
     "iopub.execute_input": "2021-05-20T00:25:01.857116Z",
     "iopub.status.busy": "2021-05-20T00:25:01.856483Z",
     "iopub.status.idle": "2021-05-20T00:25:01.858489Z",
     "shell.execute_reply": "2021-05-20T00:25:01.858978Z"
    },
    "papermill": {
     "duration": 0.046123,
     "end_time": "2021-05-20T00:25:01.859128",
     "exception": false,
     "start_time": "2021-05-20T00:25:01.813005",
     "status": "completed"
    },
    "tags": []
   },
   "outputs": [],
   "source": [
    "# #hide\n",
    "# g = g.reset_index(['date'])"
   ]
  },
  {
   "cell_type": "code",
   "execution_count": 25,
   "id": "incomplete-mustang",
   "metadata": {
    "execution": {
     "iopub.execute_input": "2021-05-20T00:25:01.942803Z",
     "iopub.status.busy": "2021-05-20T00:25:01.941422Z",
     "iopub.status.idle": "2021-05-20T00:25:01.943493Z",
     "shell.execute_reply": "2021-05-20T00:25:01.944005Z"
    },
    "papermill": {
     "duration": 0.044728,
     "end_time": "2021-05-20T00:25:01.944160",
     "exception": false,
     "start_time": "2021-05-20T00:25:01.899432",
     "status": "completed"
    },
    "tags": []
   },
   "outputs": [],
   "source": [
    "#hide\n",
    "# g.head()"
   ]
  },
  {
   "cell_type": "code",
   "execution_count": 26,
   "id": "specific-kruger",
   "metadata": {
    "execution": {
     "iopub.execute_input": "2021-05-20T00:25:02.031522Z",
     "iopub.status.busy": "2021-05-20T00:25:02.030072Z",
     "iopub.status.idle": "2021-05-20T00:25:02.032228Z",
     "shell.execute_reply": "2021-05-20T00:25:02.032715Z"
    },
    "papermill": {
     "duration": 0.046581,
     "end_time": "2021-05-20T00:25:02.032842",
     "exception": false,
     "start_time": "2021-05-20T00:25:01.986261",
     "status": "completed"
    },
    "tags": []
   },
   "outputs": [],
   "source": [
    "#hide\n",
    "# g.columns = ['date','country','cases']"
   ]
  },
  {
   "cell_type": "code",
   "execution_count": 27,
   "id": "tender-conversion",
   "metadata": {
    "execution": {
     "iopub.execute_input": "2021-05-20T00:25:02.116057Z",
     "iopub.status.busy": "2021-05-20T00:25:02.115387Z",
     "iopub.status.idle": "2021-05-20T00:25:02.119111Z",
     "shell.execute_reply": "2021-05-20T00:25:02.119570Z"
    },
    "papermill": {
     "duration": 0.046506,
     "end_time": "2021-05-20T00:25:02.119707",
     "exception": false,
     "start_time": "2021-05-20T00:25:02.073201",
     "status": "completed"
    },
    "tags": []
   },
   "outputs": [],
   "source": [
    "#hide\n",
    "# g['continent'] = g.country"
   ]
  },
  {
   "cell_type": "code",
   "execution_count": 28,
   "id": "substantial-wilderness",
   "metadata": {
    "execution": {
     "iopub.execute_input": "2021-05-20T00:25:02.203508Z",
     "iopub.status.busy": "2021-05-20T00:25:02.202863Z",
     "iopub.status.idle": "2021-05-20T00:25:02.204860Z",
     "shell.execute_reply": "2021-05-20T00:25:02.205355Z"
    },
    "papermill": {
     "duration": 0.046152,
     "end_time": "2021-05-20T00:25:02.205549",
     "exception": false,
     "start_time": "2021-05-20T00:25:02.159397",
     "status": "completed"
    },
    "tags": []
   },
   "outputs": [],
   "source": [
    "#hide\n",
    "# cols = list(g.columns.values)"
   ]
  },
  {
   "cell_type": "code",
   "execution_count": 29,
   "id": "solved-farming",
   "metadata": {
    "execution": {
     "iopub.execute_input": "2021-05-20T00:25:02.293073Z",
     "iopub.status.busy": "2021-05-20T00:25:02.292229Z",
     "iopub.status.idle": "2021-05-20T00:25:02.294769Z",
     "shell.execute_reply": "2021-05-20T00:25:02.294111Z"
    },
    "papermill": {
     "duration": 0.047688,
     "end_time": "2021-05-20T00:25:02.294906",
     "exception": false,
     "start_time": "2021-05-20T00:25:02.247218",
     "status": "completed"
    },
    "tags": []
   },
   "outputs": [],
   "source": [
    "#hide\n",
    "# cols.insert(0, cols.pop())"
   ]
  },
  {
   "cell_type": "code",
   "execution_count": 30,
   "id": "executed-adoption",
   "metadata": {
    "execution": {
     "iopub.execute_input": "2021-05-20T00:25:02.381201Z",
     "iopub.status.busy": "2021-05-20T00:25:02.380567Z",
     "iopub.status.idle": "2021-05-20T00:25:02.382635Z",
     "shell.execute_reply": "2021-05-20T00:25:02.383163Z"
    },
    "papermill": {
     "duration": 0.047488,
     "end_time": "2021-05-20T00:25:02.383316",
     "exception": false,
     "start_time": "2021-05-20T00:25:02.335828",
     "status": "completed"
    },
    "tags": []
   },
   "outputs": [],
   "source": [
    "#hide\n",
    "# g = g[cols]"
   ]
  },
  {
   "cell_type": "code",
   "execution_count": 31,
   "id": "subject-dublin",
   "metadata": {
    "execution": {
     "iopub.execute_input": "2021-05-20T00:25:02.471700Z",
     "iopub.status.busy": "2021-05-20T00:25:02.471038Z",
     "iopub.status.idle": "2021-05-20T00:25:02.473381Z",
     "shell.execute_reply": "2021-05-20T00:25:02.472745Z"
    },
    "papermill": {
     "duration": 0.046564,
     "end_time": "2021-05-20T00:25:02.473520",
     "exception": false,
     "start_time": "2021-05-20T00:25:02.426956",
     "status": "completed"
    },
    "tags": []
   },
   "outputs": [],
   "source": [
    "#hide\n",
    "# g['continent'] = g['continent'].map(mapping['map.continent'])"
   ]
  },
  {
   "cell_type": "code",
   "execution_count": 32,
   "id": "freelance-scout",
   "metadata": {
    "execution": {
     "iopub.execute_input": "2021-05-20T00:25:02.557609Z",
     "iopub.status.busy": "2021-05-20T00:25:02.554831Z",
     "iopub.status.idle": "2021-05-20T00:25:02.560118Z",
     "shell.execute_reply": "2021-05-20T00:25:02.561184Z"
    },
    "papermill": {
     "duration": 0.048446,
     "end_time": "2021-05-20T00:25:02.561355",
     "exception": false,
     "start_time": "2021-05-20T00:25:02.512909",
     "status": "completed"
    },
    "tags": []
   },
   "outputs": [],
   "source": [
    "#hide\n",
    "# g.head()"
   ]
  },
  {
   "cell_type": "code",
   "execution_count": 33,
   "id": "limited-engine",
   "metadata": {
    "execution": {
     "iopub.execute_input": "2021-05-20T00:25:02.647490Z",
     "iopub.status.busy": "2021-05-20T00:25:02.646847Z",
     "iopub.status.idle": "2021-05-20T00:25:02.649265Z",
     "shell.execute_reply": "2021-05-20T00:25:02.648722Z"
    },
    "papermill": {
     "duration": 0.045756,
     "end_time": "2021-05-20T00:25:02.649397",
     "exception": false,
     "start_time": "2021-05-20T00:25:02.603641",
     "status": "completed"
    },
    "tags": []
   },
   "outputs": [],
   "source": [
    "# hide\n",
    "# g['date'] = g['date'].astype('datetime64[ns]')"
   ]
  },
  {
   "cell_type": "code",
   "execution_count": 34,
   "id": "sophisticated-supervisor",
   "metadata": {
    "execution": {
     "iopub.execute_input": "2021-05-20T00:25:02.742134Z",
     "iopub.status.busy": "2021-05-20T00:25:02.741437Z",
     "iopub.status.idle": "2021-05-20T00:25:02.744263Z",
     "shell.execute_reply": "2021-05-20T00:25:02.743513Z"
    },
    "papermill": {
     "duration": 0.054525,
     "end_time": "2021-05-20T00:25:02.744401",
     "exception": false,
     "start_time": "2021-05-20T00:25:02.689876",
     "status": "completed"
    },
    "tags": []
   },
   "outputs": [],
   "source": [
    "#hide\n",
    "# g['date'] = g.date.dt.dayofyear"
   ]
  },
  {
   "cell_type": "code",
   "execution_count": 35,
   "id": "inside-dubai",
   "metadata": {
    "execution": {
     "iopub.execute_input": "2021-05-20T00:25:02.834317Z",
     "iopub.status.busy": "2021-05-20T00:25:02.833680Z",
     "iopub.status.idle": "2021-05-20T00:25:02.836044Z",
     "shell.execute_reply": "2021-05-20T00:25:02.835406Z"
    },
    "papermill": {
     "duration": 0.047343,
     "end_time": "2021-05-20T00:25:02.836176",
     "exception": false,
     "start_time": "2021-05-20T00:25:02.788833",
     "status": "completed"
    },
    "tags": []
   },
   "outputs": [],
   "source": [
    "#hide\n",
    "# g = g.rename(columns= {'continent':'group','country':'name','cases':'value'})"
   ]
  },
  {
   "cell_type": "code",
   "execution_count": 36,
   "id": "fleet-motorcycle",
   "metadata": {
    "execution": {
     "iopub.execute_input": "2021-05-20T00:25:02.921464Z",
     "iopub.status.busy": "2021-05-20T00:25:02.920824Z",
     "iopub.status.idle": "2021-05-20T00:25:02.923742Z",
     "shell.execute_reply": "2021-05-20T00:25:02.923144Z"
    },
    "papermill": {
     "duration": 0.046946,
     "end_time": "2021-05-20T00:25:02.923870",
     "exception": false,
     "start_time": "2021-05-20T00:25:02.876924",
     "status": "completed"
    },
    "tags": []
   },
   "outputs": [],
   "source": [
    "#hide\n",
    "# cols = ['name','group','day','value']"
   ]
  },
  {
   "cell_type": "code",
   "execution_count": 37,
   "id": "continued-sleeping",
   "metadata": {
    "execution": {
     "iopub.execute_input": "2021-05-20T00:25:03.008496Z",
     "iopub.status.busy": "2021-05-20T00:25:03.007861Z",
     "iopub.status.idle": "2021-05-20T00:25:03.009903Z",
     "shell.execute_reply": "2021-05-20T00:25:03.010390Z"
    },
    "papermill": {
     "duration": 0.046887,
     "end_time": "2021-05-20T00:25:03.010579",
     "exception": false,
     "start_time": "2021-05-20T00:25:02.963692",
     "status": "completed"
    },
    "tags": []
   },
   "outputs": [],
   "source": [
    "#hide\n",
    "# g.rename(columns= {'date':'day'},inplace = True)"
   ]
  },
  {
   "cell_type": "code",
   "execution_count": 38,
   "id": "major-fight",
   "metadata": {
    "execution": {
     "iopub.execute_input": "2021-05-20T00:25:03.093870Z",
     "iopub.status.busy": "2021-05-20T00:25:03.093234Z",
     "iopub.status.idle": "2021-05-20T00:25:03.095662Z",
     "shell.execute_reply": "2021-05-20T00:25:03.094988Z"
    },
    "papermill": {
     "duration": 0.045584,
     "end_time": "2021-05-20T00:25:03.095791",
     "exception": false,
     "start_time": "2021-05-20T00:25:03.050207",
     "status": "completed"
    },
    "tags": []
   },
   "outputs": [],
   "source": [
    "#hide\n",
    "# g = g[cols]"
   ]
  },
  {
   "cell_type": "code",
   "execution_count": 39,
   "id": "structured-mobile",
   "metadata": {
    "execution": {
     "iopub.execute_input": "2021-05-20T00:25:03.179374Z",
     "iopub.status.busy": "2021-05-20T00:25:03.178690Z",
     "iopub.status.idle": "2021-05-20T00:25:03.180662Z",
     "shell.execute_reply": "2021-05-20T00:25:03.181184Z"
    },
    "papermill": {
     "duration": 0.046547,
     "end_time": "2021-05-20T00:25:03.181331",
     "exception": false,
     "start_time": "2021-05-20T00:25:03.134784",
     "status": "completed"
    },
    "tags": []
   },
   "outputs": [],
   "source": [
    "# #hide\n",
    "# g = g[g.group.notna()]"
   ]
  },
  {
   "cell_type": "code",
   "execution_count": 40,
   "id": "determined-closing",
   "metadata": {
    "execution": {
     "iopub.execute_input": "2021-05-20T00:25:03.263963Z",
     "iopub.status.busy": "2021-05-20T00:25:03.263232Z",
     "iopub.status.idle": "2021-05-20T00:25:03.265756Z",
     "shell.execute_reply": "2021-05-20T00:25:03.266260Z"
    },
    "papermill": {
     "duration": 0.046104,
     "end_time": "2021-05-20T00:25:03.266446",
     "exception": false,
     "start_time": "2021-05-20T00:25:03.220342",
     "status": "completed"
    },
    "tags": []
   },
   "outputs": [],
   "source": [
    "# #hide\n",
    "# colors = dict(zip(\n",
    "#     [\"Oceania\", \"Europe\", \"Asia\", \"South America\", \"Middle East\", \"North America\", \"Africa\"],\n",
    "#     [\"#adb0ff\", \"#ffb3ff\", \"#90d595\", \"#e48381\", \"#aafbff\", \"#f7bb5f\", \"#eafb50\"]\n",
    "# ))\n",
    "# group_lk = g.set_index('name')['group'].to_dict()"
   ]
  },
  {
   "cell_type": "code",
   "execution_count": null,
   "id": "gross-drinking",
   "metadata": {
    "papermill": {
     "duration": 0.039189,
     "end_time": "2021-05-20T00:25:03.345743",
     "exception": false,
     "start_time": "2021-05-20T00:25:03.306554",
     "status": "completed"
    },
    "tags": []
   },
   "outputs": [],
   "source": []
  },
  {
   "cell_type": "code",
   "execution_count": 41,
   "id": "subject-macintosh",
   "metadata": {
    "execution": {
     "iopub.execute_input": "2021-05-20T00:25:03.432403Z",
     "iopub.status.busy": "2021-05-20T00:25:03.431734Z",
     "iopub.status.idle": "2021-05-20T00:25:03.433668Z",
     "shell.execute_reply": "2021-05-20T00:25:03.434190Z"
    },
    "papermill": {
     "duration": 0.049021,
     "end_time": "2021-05-20T00:25:03.434437",
     "exception": false,
     "start_time": "2021-05-20T00:25:03.385416",
     "status": "completed"
    },
    "tags": []
   },
   "outputs": [],
   "source": [
    "# #hide\n",
    "# fig, ax = plt.subplots(figsize=(15, 8))\n",
    "\n",
    "# def draw_barchart(current_day):\n",
    "#     dff = g[g['day'].eq(current_day)].sort_values(by='value', ascending=True).tail(10)\n",
    "#     ax.clear()\n",
    "#     ax.barh(dff['name'], dff['value'], color=[colors[group_lk[x]] for x in dff['name']])\n",
    "#     dx = dff['value'].max() / 200\n",
    "    \n",
    "#     for i, (value, name) in enumerate(zip(dff['value'], dff['name'])):\n",
    "#         ax.text(value-dx, i,     name,           size=14, weight=600, ha='right', va='bottom')\n",
    "#         ax.text(value-dx, i-.25, group_lk[name], size=10, color='#444444', ha='right', va='baseline')\n",
    "#         ax.text(value+dx, i,     f'{value:,.0f}',  size=14, ha='left',  va='center')\n",
    "#     ax.text(1, 0.4, current_day, transform=ax.transAxes, color='#777777', size=46, ha='right', weight=800)\n",
    "#     ax.text(0, 1.06, 'Population (thousands)', transform=ax.transAxes, size=12, color='#777777')\n",
    "#     ax.xaxis.set_major_formatter(ticker.StrMethodFormatter('{x:,.0f}'))\n",
    "#     ax.xaxis.set_ticks_position('top')\n",
    "#     ax.tick_params(axis='x', colors='#777777', labelsize=12)\n",
    "#     ax.set_yticks([])\n",
    "#     ax.margins(0, 0.01)\n",
    "#     ax.grid(which='major', axis='x', linestyle='-')\n",
    "#     ax.set_axisbelow(True)\n",
    "    \n",
    "#     ax.text(0, 1.15, 'Coronavirus',\n",
    "#             transform=ax.transAxes, size=24, weight=600, ha='left', va='top')\n",
    "# #     ax.text(1, 0, 'by @pratapvardhan; credit @jburnmurdoch', transform=ax.transAxes, color='#777777', ha='right',\n",
    "# #             bbox=dict(facecolor='white', alpha=0.8, edgecolor='white'))\n",
    "#     plt.box(False)"
   ]
  },
  {
   "cell_type": "code",
   "execution_count": 42,
   "id": "sexual-wages",
   "metadata": {
    "execution": {
     "iopub.execute_input": "2021-05-20T00:25:03.518749Z",
     "iopub.status.busy": "2021-05-20T00:25:03.518081Z",
     "iopub.status.idle": "2021-05-20T00:25:03.520143Z",
     "shell.execute_reply": "2021-05-20T00:25:03.520751Z"
    },
    "papermill": {
     "duration": 0.045883,
     "end_time": "2021-05-20T00:25:03.520899",
     "exception": false,
     "start_time": "2021-05-20T00:25:03.475016",
     "status": "completed"
    },
    "tags": []
   },
   "outputs": [],
   "source": [
    "# #hide_input\n",
    "# fig, ax = plt.subplots(figsize=(15, 8))\n",
    "# animator = animation.FuncAnimation(fig, draw_barchart, frames=range(g.day.values.min(), g.day.values.max()))\n",
    "# HTML(animator.to_jshtml())\n",
    "# # or use animator.to_html5_video() or animator.save() "
   ]
  },
  {
   "cell_type": "code",
   "execution_count": null,
   "id": "australian-container",
   "metadata": {
    "papermill": {
     "duration": 0.041129,
     "end_time": "2021-05-20T00:25:03.601101",
     "exception": false,
     "start_time": "2021-05-20T00:25:03.559972",
     "status": "completed"
    },
    "tags": []
   },
   "outputs": [],
   "source": []
  },
  {
   "cell_type": "code",
   "execution_count": null,
   "id": "mediterranean-pontiac",
   "metadata": {
    "papermill": {
     "duration": 0.039718,
     "end_time": "2021-05-20T00:25:03.679935",
     "exception": false,
     "start_time": "2021-05-20T00:25:03.640217",
     "status": "completed"
    },
    "tags": []
   },
   "outputs": [],
   "source": []
  },
  {
   "cell_type": "code",
   "execution_count": null,
   "id": "aging-legislature",
   "metadata": {
    "papermill": {
     "duration": 0.03914,
     "end_time": "2021-05-20T00:25:03.759268",
     "exception": false,
     "start_time": "2021-05-20T00:25:03.720128",
     "status": "completed"
    },
    "tags": []
   },
   "outputs": [],
   "source": []
  }
 ],
 "metadata": {
  "kernelspec": {
   "display_name": "Python 3",
   "language": "python",
   "name": "python3"
  },
  "language_info": {
   "codemirror_mode": {
    "name": "ipython",
    "version": 3
   },
   "file_extension": ".py",
   "mimetype": "text/x-python",
   "name": "python",
   "nbconvert_exporter": "python",
   "pygments_lexer": "ipython3",
   "version": "3.6.13"
  },
  "papermill": {
   "duration": 7.309633,
   "end_time": "2021-05-20T00:25:04.208496",
   "environment_variables": {},
   "exception": null,
   "input_path": "2020-03-21-covid19exp.ipynb",
   "output_path": "2020-03-21-covid19exp.ipynb",
   "parameters": {},
   "start_time": "2021-05-20T00:24:56.898863",
   "version": "2.0.0"
  }
 },
 "nbformat": 4,
 "nbformat_minor": 5
}