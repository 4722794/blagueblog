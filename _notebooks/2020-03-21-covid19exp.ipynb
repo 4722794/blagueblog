{
 "cells": [
  {
   "cell_type": "markdown",
   "id": "muslim-click",
   "metadata": {
    "papermill": {
     "duration": 0.044703,
     "end_time": "2022-09-13T00:49:59.584620",
     "exception": false,
     "start_time": "2022-09-13T00:49:59.539917",
     "status": "completed"
    },
    "tags": []
   },
   "source": [
    "# COVID-19 Case Race\n",
    "> A race chart to see rising cases around the world\n",
    "\n",
    "- author: Hargun Oberoi\n",
    "- image: images/covid-overview.png\n",
    "- hide: false\n",
    "- badges: false"
   ]
  },
  {
   "cell_type": "code",
   "execution_count": 1,
   "id": "proof-material",
   "metadata": {
    "execution": {
     "iopub.execute_input": "2022-09-13T00:49:59.665549Z",
     "iopub.status.busy": "2022-09-13T00:49:59.664804Z",
     "iopub.status.idle": "2022-09-13T00:50:00.042143Z",
     "shell.execute_reply": "2022-09-13T00:50:00.041484Z"
    },
    "papermill": {
     "duration": 0.422422,
     "end_time": "2022-09-13T00:50:00.042310",
     "exception": false,
     "start_time": "2022-09-13T00:49:59.619888",
     "status": "completed"
    },
    "tags": []
   },
   "outputs": [],
   "source": [
    "#hide\n",
    "import numpy as np\n",
    "import pandas as pd\n",
    "from jinja2 import Template\n",
    "from IPython.display import HTML"
   ]
  },
  {
   "cell_type": "code",
   "execution_count": 2,
   "id": "developed-terminology",
   "metadata": {
    "execution": {
     "iopub.execute_input": "2022-09-13T00:50:00.121396Z",
     "iopub.status.busy": "2022-09-13T00:50:00.120090Z",
     "iopub.status.idle": "2022-09-13T00:50:00.125460Z",
     "shell.execute_reply": "2022-09-13T00:50:00.124880Z"
    },
    "papermill": {
     "duration": 0.047828,
     "end_time": "2022-09-13T00:50:00.125594",
     "exception": false,
     "start_time": "2022-09-13T00:50:00.077766",
     "status": "completed"
    },
    "tags": []
   },
   "outputs": [],
   "source": [
    "#hide\n",
    "\n",
    "# FETCH\n",
    "base_url = 'https://raw.githubusercontent.com/pratapvardhan/notebooks/master/covid19/'\n",
    "paths = {\n",
    "    'mapping': base_url + 'mapping_countries.csv',\n",
    "    'overview': base_url + 'overview.tpl'\n",
    "}"
   ]
  },
  {
   "cell_type": "code",
   "execution_count": 3,
   "id": "dynamic-saver",
   "metadata": {
    "execution": {
     "iopub.execute_input": "2022-09-13T00:50:00.204737Z",
     "iopub.status.busy": "2022-09-13T00:50:00.204054Z",
     "iopub.status.idle": "2022-09-13T00:50:00.208359Z",
     "shell.execute_reply": "2022-09-13T00:50:00.207809Z"
    },
    "papermill": {
     "duration": 0.048982,
     "end_time": "2022-09-13T00:50:00.208484",
     "exception": false,
     "start_time": "2022-09-13T00:50:00.159502",
     "status": "completed"
    },
    "tags": []
   },
   "outputs": [
    {
     "data": {
      "text/plain": [
       "'https://raw.githubusercontent.com/pratapvardhan/notebooks/master/covid19/mapping_countries.csv'"
      ]
     },
     "execution_count": 3,
     "metadata": {},
     "output_type": "execute_result"
    }
   ],
   "source": [
    "#hide\n",
    "paths['mapping']"
   ]
  },
  {
   "cell_type": "code",
   "execution_count": 4,
   "id": "urban-software",
   "metadata": {
    "execution": {
     "iopub.execute_input": "2022-09-13T00:50:00.282649Z",
     "iopub.status.busy": "2022-09-13T00:50:00.281976Z",
     "iopub.status.idle": "2022-09-13T00:50:00.285274Z",
     "shell.execute_reply": "2022-09-13T00:50:00.284678Z"
    },
    "papermill": {
     "duration": 0.042873,
     "end_time": "2022-09-13T00:50:00.285403",
     "exception": false,
     "start_time": "2022-09-13T00:50:00.242530",
     "status": "completed"
    },
    "tags": []
   },
   "outputs": [],
   "source": [
    "#hide\n",
    "def get_mappings(url):\n",
    "    df = pd.read_csv(url)\n",
    "    return {\n",
    "        'df': df,\n",
    "        'replace.country': dict(df.dropna(subset=['Name']).set_index('Country')['Name']),\n",
    "        'map.continent': dict(df.set_index('Name')['Continent'])\n",
    "    }"
   ]
  },
  {
   "cell_type": "code",
   "execution_count": 5,
   "id": "intimate-machinery",
   "metadata": {
    "execution": {
     "iopub.execute_input": "2022-09-13T00:50:00.360807Z",
     "iopub.status.busy": "2022-09-13T00:50:00.360121Z",
     "iopub.status.idle": "2022-09-13T00:50:00.410713Z",
     "shell.execute_reply": "2022-09-13T00:50:00.410107Z"
    },
    "papermill": {
     "duration": 0.09171,
     "end_time": "2022-09-13T00:50:00.410854",
     "exception": false,
     "start_time": "2022-09-13T00:50:00.319144",
     "status": "completed"
    },
    "tags": []
   },
   "outputs": [],
   "source": [
    "#hide\n",
    "mapping = get_mappings(paths['mapping'])"
   ]
  },
  {
   "cell_type": "code",
   "execution_count": 6,
   "id": "certified-tactics",
   "metadata": {
    "execution": {
     "iopub.execute_input": "2022-09-13T00:50:00.488420Z",
     "iopub.status.busy": "2022-09-13T00:50:00.487202Z",
     "iopub.status.idle": "2022-09-13T00:50:00.489618Z",
     "shell.execute_reply": "2022-09-13T00:50:00.490137Z"
    },
    "papermill": {
     "duration": 0.04549,
     "end_time": "2022-09-13T00:50:00.490276",
     "exception": false,
     "start_time": "2022-09-13T00:50:00.444786",
     "status": "completed"
    },
    "tags": []
   },
   "outputs": [],
   "source": [
    "#hide\n",
    "def get_template(path):\n",
    "    from urllib.parse import urlparse\n",
    "    if bool(urlparse(path).netloc):\n",
    "        from urllib.request import urlopen\n",
    "        return urlopen(path).read().decode('utf8')\n",
    "    return open(path).read()"
   ]
  },
  {
   "cell_type": "code",
   "execution_count": 7,
   "id": "realistic-blast",
   "metadata": {
    "execution": {
     "iopub.execute_input": "2022-09-13T00:50:00.567855Z",
     "iopub.status.busy": "2022-09-13T00:50:00.567075Z",
     "iopub.status.idle": "2022-09-13T00:50:00.571359Z",
     "shell.execute_reply": "2022-09-13T00:50:00.570807Z"
    },
    "papermill": {
     "duration": 0.046,
     "end_time": "2022-09-13T00:50:00.571480",
     "exception": false,
     "start_time": "2022-09-13T00:50:00.525480",
     "status": "completed"
    },
    "tags": []
   },
   "outputs": [],
   "source": [
    "#hide\n",
    "def get_frame(name):\n",
    "    url = (\n",
    "        'https://raw.githubusercontent.com/CSSEGISandData/COVID-19/master/csse_covid_19_data/'\n",
    "        f'csse_covid_19_time_series/time_series_covid19_{name}_global.csv')\n",
    "    df = pd.read_csv(url)\n",
    "    # rename countries\n",
    "    df['Country/Region'] = df['Country/Region'].replace(mapping['replace.country'])\n",
    "    return df"
   ]
  },
  {
   "cell_type": "code",
   "execution_count": 8,
   "id": "affiliated-characterization",
   "metadata": {
    "execution": {
     "iopub.execute_input": "2022-09-13T00:50:00.652299Z",
     "iopub.status.busy": "2022-09-13T00:50:00.651106Z",
     "iopub.status.idle": "2022-09-13T00:50:00.653224Z",
     "shell.execute_reply": "2022-09-13T00:50:00.653753Z"
    },
    "papermill": {
     "duration": 0.046712,
     "end_time": "2022-09-13T00:50:00.653894",
     "exception": false,
     "start_time": "2022-09-13T00:50:00.607182",
     "status": "completed"
    },
    "tags": []
   },
   "outputs": [],
   "source": [
    "#hide\n",
    "def get_dates(df):\n",
    "    dt_cols = df.columns[~df.columns.isin(['Province/State', 'Country/Region', 'Lat', 'Long'])]\n",
    "    LAST_DATE_I = -1\n",
    "    # sometimes last column may be empty, then go backwards\n",
    "    for i in range(-1, -len(dt_cols), -1):\n",
    "        if not df[dt_cols[i]].fillna(0).eq(0).all():\n",
    "            LAST_DATE_I = i\n",
    "            break\n",
    "    return LAST_DATE_I, dt_cols"
   ]
  },
  {
   "cell_type": "code",
   "execution_count": 9,
   "id": "recent-optimization",
   "metadata": {
    "execution": {
     "iopub.execute_input": "2022-09-13T00:50:00.728643Z",
     "iopub.status.busy": "2022-09-13T00:50:00.727948Z",
     "iopub.status.idle": "2022-09-13T00:50:01.470347Z",
     "shell.execute_reply": "2022-09-13T00:50:01.469585Z"
    },
    "papermill": {
     "duration": 0.782199,
     "end_time": "2022-09-13T00:50:01.470488",
     "exception": false,
     "start_time": "2022-09-13T00:50:00.688289",
     "status": "completed"
    },
    "tags": []
   },
   "outputs": [],
   "source": [
    "#hide\n",
    "COL_REGION = 'Country/Region'\n",
    "# Confirmed, Recovered, Deaths\n",
    "df = get_frame('confirmed')\n",
    "# dft_: timeseries, dfc_: today country agg\n",
    "dft_cases = df\n",
    "dft_deaths = get_frame('deaths')\n",
    "dft_recovered = get_frame('recovered')\n",
    "LAST_DATE_I, dt_cols = get_dates(df)"
   ]
  },
  {
   "cell_type": "code",
   "execution_count": 10,
   "id": "absolute-copper",
   "metadata": {
    "execution": {
     "iopub.execute_input": "2022-09-13T00:50:01.547630Z",
     "iopub.status.busy": "2022-09-13T00:50:01.546941Z",
     "iopub.status.idle": "2022-09-13T00:50:01.549651Z",
     "shell.execute_reply": "2022-09-13T00:50:01.550196Z"
    },
    "papermill": {
     "duration": 0.045407,
     "end_time": "2022-09-13T00:50:01.550346",
     "exception": false,
     "start_time": "2022-09-13T00:50:01.504939",
     "status": "completed"
    },
    "tags": []
   },
   "outputs": [],
   "source": [
    "#hide\n",
    "LAST_DATE_I, dt_cols = get_dates(df)\n",
    "dt_today =dt_cols[LAST_DATE_I]\n",
    "# dt_5day = dt_cols[LAST_DATE_I - 5]\n",
    "dt_yday = dt_cols[LAST_DATE_I - 1]"
   ]
  },
  {
   "cell_type": "code",
   "execution_count": 11,
   "id": "restricted-sheriff",
   "metadata": {
    "execution": {
     "iopub.execute_input": "2022-09-13T00:50:01.626098Z",
     "iopub.status.busy": "2022-09-13T00:50:01.625412Z",
     "iopub.status.idle": "2022-09-13T00:50:01.635125Z",
     "shell.execute_reply": "2022-09-13T00:50:01.634465Z"
    },
    "papermill": {
     "duration": 0.050774,
     "end_time": "2022-09-13T00:50:01.635250",
     "exception": false,
     "start_time": "2022-09-13T00:50:01.584476",
     "status": "completed"
    },
    "tags": []
   },
   "outputs": [],
   "source": [
    "#hide\n",
    "dfc_cases = dft_cases.groupby(COL_REGION)[dt_today].sum()\n",
    "dfc_deaths = dft_deaths.groupby(COL_REGION)[dt_today].sum()\n",
    "# dfp_cases = dft_cases.groupby(COL_REGION)[dt_5day].sum()\n",
    "# dfp_deaths = dft_deaths.groupby(COL_REGION)[dt_5day].sum()\n",
    "dfp_cases = dft_cases.groupby(COL_REGION)[dt_yday].sum()\n",
    "dfp_deaths = dft_deaths.groupby(COL_REGION)[dt_yday].sum()"
   ]
  },
  {
   "cell_type": "code",
   "execution_count": 12,
   "id": "deluxe-hepatitis",
   "metadata": {
    "execution": {
     "iopub.execute_input": "2022-09-13T00:50:01.713154Z",
     "iopub.status.busy": "2022-09-13T00:50:01.710228Z",
     "iopub.status.idle": "2022-09-13T00:50:01.716677Z",
     "shell.execute_reply": "2022-09-13T00:50:01.716151Z"
    },
    "papermill": {
     "duration": 0.047573,
     "end_time": "2022-09-13T00:50:01.716806",
     "exception": false,
     "start_time": "2022-09-13T00:50:01.669233",
     "status": "completed"
    },
    "tags": []
   },
   "outputs": [],
   "source": [
    "#hide\n",
    "df_table = (pd.DataFrame(dict(Cases = dfc_cases, Deaths = dfc_deaths, PCases = dfp_cases, PDeaths = dfp_deaths))\n",
    "            .sort_values(by = ['Cases','Deaths'], ascending = [False, False])\n",
    "            .reset_index())"
   ]
  },
  {
   "cell_type": "code",
   "execution_count": 13,
   "id": "educational-chancellor",
   "metadata": {
    "execution": {
     "iopub.execute_input": "2022-09-13T00:50:01.805052Z",
     "iopub.status.busy": "2022-09-13T00:50:01.804337Z",
     "iopub.status.idle": "2022-09-13T00:50:01.815100Z",
     "shell.execute_reply": "2022-09-13T00:50:01.814543Z"
    },
    "papermill": {
     "duration": 0.064319,
     "end_time": "2022-09-13T00:50:01.815227",
     "exception": false,
     "start_time": "2022-09-13T00:50:01.750908",
     "status": "completed"
    },
    "tags": []
   },
   "outputs": [
    {
     "data": {
      "text/html": [
       "<div>\n",
       "<style scoped>\n",
       "    .dataframe tbody tr th:only-of-type {\n",
       "        vertical-align: middle;\n",
       "    }\n",
       "\n",
       "    .dataframe tbody tr th {\n",
       "        vertical-align: top;\n",
       "    }\n",
       "\n",
       "    .dataframe thead th {\n",
       "        text-align: right;\n",
       "    }\n",
       "</style>\n",
       "<table border=\"1\" class=\"dataframe\">\n",
       "  <thead>\n",
       "    <tr style=\"text-align: right;\">\n",
       "      <th></th>\n",
       "      <th>Country/Region</th>\n",
       "      <th>Cases</th>\n",
       "      <th>Deaths</th>\n",
       "      <th>PCases</th>\n",
       "      <th>PDeaths</th>\n",
       "      <th>Cases (+)</th>\n",
       "      <th>Deaths (+)</th>\n",
       "      <th>Fatality Rate</th>\n",
       "      <th>Continent</th>\n",
       "    </tr>\n",
       "  </thead>\n",
       "  <tbody>\n",
       "    <tr>\n",
       "      <th>0</th>\n",
       "      <td>US</td>\n",
       "      <td>95250705</td>\n",
       "      <td>1050323</td>\n",
       "      <td>95242750</td>\n",
       "      <td>1050318</td>\n",
       "      <td>7955</td>\n",
       "      <td>5</td>\n",
       "      <td>1.10</td>\n",
       "      <td>North America</td>\n",
       "    </tr>\n",
       "    <tr>\n",
       "      <th>1</th>\n",
       "      <td>India</td>\n",
       "      <td>44500580</td>\n",
       "      <td>528165</td>\n",
       "      <td>44495359</td>\n",
       "      <td>528150</td>\n",
       "      <td>5221</td>\n",
       "      <td>15</td>\n",
       "      <td>1.19</td>\n",
       "      <td>Asia</td>\n",
       "    </tr>\n",
       "    <tr>\n",
       "      <th>2</th>\n",
       "      <td>France</td>\n",
       "      <td>34898909</td>\n",
       "      <td>155508</td>\n",
       "      <td>34898909</td>\n",
       "      <td>155508</td>\n",
       "      <td>0</td>\n",
       "      <td>0</td>\n",
       "      <td>0.45</td>\n",
       "      <td>Europe</td>\n",
       "    </tr>\n",
       "    <tr>\n",
       "      <th>3</th>\n",
       "      <td>Brazil</td>\n",
       "      <td>34516739</td>\n",
       "      <td>684813</td>\n",
       "      <td>34516739</td>\n",
       "      <td>684813</td>\n",
       "      <td>0</td>\n",
       "      <td>0</td>\n",
       "      <td>1.98</td>\n",
       "      <td>South America</td>\n",
       "    </tr>\n",
       "    <tr>\n",
       "      <th>4</th>\n",
       "      <td>Germany</td>\n",
       "      <td>32452250</td>\n",
       "      <td>148299</td>\n",
       "      <td>32452250</td>\n",
       "      <td>148299</td>\n",
       "      <td>0</td>\n",
       "      <td>0</td>\n",
       "      <td>0.46</td>\n",
       "      <td>Europe</td>\n",
       "    </tr>\n",
       "  </tbody>\n",
       "</table>\n",
       "</div>"
      ],
      "text/plain": [
       "  Country/Region     Cases   Deaths    PCases  PDeaths  Cases (+)  Deaths (+)  \\\n",
       "0             US  95250705  1050323  95242750  1050318       7955           5   \n",
       "1          India  44500580   528165  44495359   528150       5221          15   \n",
       "2         France  34898909   155508  34898909   155508          0           0   \n",
       "3         Brazil  34516739   684813  34516739   684813          0           0   \n",
       "4        Germany  32452250   148299  32452250   148299          0           0   \n",
       "\n",
       "   Fatality Rate      Continent  \n",
       "0           1.10  North America  \n",
       "1           1.19           Asia  \n",
       "2           0.45         Europe  \n",
       "3           1.98  South America  \n",
       "4           0.46         Europe  "
      ]
     },
     "execution_count": 13,
     "metadata": {},
     "output_type": "execute_result"
    }
   ],
   "source": [
    "#hide\n",
    "for c in 'Cases, Deaths'.split(', '):\n",
    "    df_table[f'{c} (+)'] = (df_table[c] - df_table[f'P{c}']).clip(0)\n",
    "    #Clip ça veut dire, les chiffres negatif sont interdit\n",
    "df_table['Fatality Rate'] = (100* df_table['Deaths']/ df_table['Cases']).round(2)\n",
    "df_table['Continent'] = df_table['Country/Region'].map(mapping['map.continent'])\n",
    "df_table.head(5)"
   ]
  },
  {
   "cell_type": "code",
   "execution_count": 14,
   "id": "aboriginal-bulgaria",
   "metadata": {
    "execution": {
     "iopub.execute_input": "2022-09-13T00:50:01.890946Z",
     "iopub.status.busy": "2022-09-13T00:50:01.890261Z",
     "iopub.status.idle": "2022-09-13T00:50:01.894657Z",
     "shell.execute_reply": "2022-09-13T00:50:01.895182Z"
    },
    "papermill": {
     "duration": 0.045439,
     "end_time": "2022-09-13T00:50:01.895333",
     "exception": false,
     "start_time": "2022-09-13T00:50:01.849894",
     "status": "completed"
    },
    "tags": []
   },
   "outputs": [],
   "source": [
    "#hide\n",
    "#delete problematic countries from table\n",
    "df_table = df_table[~df_table['Country/Region'].isin(['Cape Verde', 'Cruise Ship', 'Kosovo'])]"
   ]
  },
  {
   "cell_type": "code",
   "execution_count": 15,
   "id": "fantastic-effect",
   "metadata": {
    "execution": {
     "iopub.execute_input": "2022-09-13T00:50:01.993177Z",
     "iopub.status.busy": "2022-09-13T00:50:01.973587Z",
     "iopub.status.idle": "2022-09-13T00:50:01.996759Z",
     "shell.execute_reply": "2022-09-13T00:50:01.997323Z"
    },
    "papermill": {
     "duration": 0.067555,
     "end_time": "2022-09-13T00:50:01.997481",
     "exception": false,
     "start_time": "2022-09-13T00:50:01.929926",
     "status": "completed"
    },
    "tags": []
   },
   "outputs": [
    {
     "data": {
      "text/html": [
       "<div>\n",
       "<style scoped>\n",
       "    .dataframe tbody tr th:only-of-type {\n",
       "        vertical-align: middle;\n",
       "    }\n",
       "\n",
       "    .dataframe tbody tr th {\n",
       "        vertical-align: top;\n",
       "    }\n",
       "\n",
       "    .dataframe thead th {\n",
       "        text-align: right;\n",
       "    }\n",
       "</style>\n",
       "<table border=\"1\" class=\"dataframe\">\n",
       "  <thead>\n",
       "    <tr style=\"text-align: right;\">\n",
       "      <th></th>\n",
       "      <th>Country/Region</th>\n",
       "      <th>Cases</th>\n",
       "      <th>Deaths</th>\n",
       "      <th>PCases</th>\n",
       "      <th>PDeaths</th>\n",
       "      <th>Cases (+)</th>\n",
       "      <th>Deaths (+)</th>\n",
       "      <th>Fatality Rate</th>\n",
       "      <th>Continent</th>\n",
       "    </tr>\n",
       "  </thead>\n",
       "  <tbody>\n",
       "    <tr>\n",
       "      <th>0</th>\n",
       "      <td>US</td>\n",
       "      <td>95250705</td>\n",
       "      <td>1050323</td>\n",
       "      <td>95242750</td>\n",
       "      <td>1050318</td>\n",
       "      <td>7955</td>\n",
       "      <td>5</td>\n",
       "      <td>1.1</td>\n",
       "      <td>North America</td>\n",
       "    </tr>\n",
       "    <tr>\n",
       "      <th>1</th>\n",
       "      <td>India</td>\n",
       "      <td>44500580</td>\n",
       "      <td>528165</td>\n",
       "      <td>44495359</td>\n",
       "      <td>528150</td>\n",
       "      <td>5221</td>\n",
       "      <td>15</td>\n",
       "      <td>1.2</td>\n",
       "      <td>Asia</td>\n",
       "    </tr>\n",
       "    <tr>\n",
       "      <th>2</th>\n",
       "      <td>France</td>\n",
       "      <td>34898909</td>\n",
       "      <td>155508</td>\n",
       "      <td>34898909</td>\n",
       "      <td>155508</td>\n",
       "      <td>0</td>\n",
       "      <td>0</td>\n",
       "      <td>0.4</td>\n",
       "      <td>Europe</td>\n",
       "    </tr>\n",
       "    <tr>\n",
       "      <th>3</th>\n",
       "      <td>Brazil</td>\n",
       "      <td>34516739</td>\n",
       "      <td>684813</td>\n",
       "      <td>34516739</td>\n",
       "      <td>684813</td>\n",
       "      <td>0</td>\n",
       "      <td>0</td>\n",
       "      <td>2.0</td>\n",
       "      <td>South America</td>\n",
       "    </tr>\n",
       "    <tr>\n",
       "      <th>4</th>\n",
       "      <td>Germany</td>\n",
       "      <td>32452250</td>\n",
       "      <td>148299</td>\n",
       "      <td>32452250</td>\n",
       "      <td>148299</td>\n",
       "      <td>0</td>\n",
       "      <td>0</td>\n",
       "      <td>0.5</td>\n",
       "      <td>Europe</td>\n",
       "    </tr>\n",
       "  </tbody>\n",
       "</table>\n",
       "</div>"
      ],
      "text/plain": [
       "  Country/Region     Cases   Deaths    PCases  PDeaths  Cases (+)  Deaths (+)  \\\n",
       "0             US  95250705  1050323  95242750  1050318       7955           5   \n",
       "1          India  44500580   528165  44495359   528150       5221          15   \n",
       "2         France  34898909   155508  34898909   155508          0           0   \n",
       "3         Brazil  34516739   684813  34516739   684813          0           0   \n",
       "4        Germany  32452250   148299  32452250   148299          0           0   \n",
       "\n",
       "   Fatality Rate      Continent  \n",
       "0            1.1  North America  \n",
       "1            1.2           Asia  \n",
       "2            0.4         Europe  \n",
       "3            2.0  South America  \n",
       "4            0.5         Europe  "
      ]
     },
     "execution_count": 15,
     "metadata": {},
     "output_type": "execute_result"
    }
   ],
   "source": [
    "#hide\n",
    "df_table = (pd.DataFrame(dict(Cases=dfc_cases, Deaths=dfc_deaths, PCases=dfp_cases, PDeaths=dfp_deaths))\n",
    "             .sort_values(by=['Cases', 'Deaths'], ascending=[False, False])\n",
    "             .reset_index())\n",
    "df_table.rename(columns={'index': 'Country/Region'}, inplace=True)\n",
    "for c in 'Cases, Deaths'.split(', '):\n",
    "    df_table[f'{c} (+)'] = (df_table[c] - df_table[f'P{c}']).clip(0)  # DATA BUG\n",
    "df_table['Fatality Rate'] = (100 * df_table['Deaths'] / df_table['Cases']).round(1)\n",
    "df_table['Continent'] = df_table['Country/Region'].map(mapping['map.continent'])\n",
    "df_table.head(5)"
   ]
  },
  {
   "cell_type": "code",
   "execution_count": 16,
   "id": "fewer-occasion",
   "metadata": {
    "execution": {
     "iopub.execute_input": "2022-09-13T00:50:02.077120Z",
     "iopub.status.busy": "2022-09-13T00:50:02.076433Z",
     "iopub.status.idle": "2022-09-13T00:50:02.079544Z",
     "shell.execute_reply": "2022-09-13T00:50:02.078960Z"
    },
    "papermill": {
     "duration": 0.046164,
     "end_time": "2022-09-13T00:50:02.079672",
     "exception": false,
     "start_time": "2022-09-13T00:50:02.033508",
     "status": "completed"
    },
    "tags": []
   },
   "outputs": [],
   "source": [
    "#hide\n",
    "#delete problematic countries from table\n",
    "df_table = df_table[~df_table['Country/Region'].isin(['Cape Verde', 'Cruise Ship', 'Kosovo'])]"
   ]
  },
  {
   "cell_type": "code",
   "execution_count": 17,
   "id": "related-center",
   "metadata": {
    "execution": {
     "iopub.execute_input": "2022-09-13T00:50:02.158608Z",
     "iopub.status.busy": "2022-09-13T00:50:02.157928Z",
     "iopub.status.idle": "2022-09-13T00:50:02.173402Z",
     "shell.execute_reply": "2022-09-13T00:50:02.172710Z"
    },
    "papermill": {
     "duration": 0.058844,
     "end_time": "2022-09-13T00:50:02.173543",
     "exception": false,
     "start_time": "2022-09-13T00:50:02.114699",
     "status": "completed"
    },
    "tags": []
   },
   "outputs": [],
   "source": [
    "#hide\n",
    "metrics = [df_table.columns[index] for index in [1,2,5,6]]\n",
    "# s_china = df_table[df_table['Country/Region'].eq('China')][metrics].sum().add_prefix('China ')\n",
    "s_us = df_table[df_table['Country/Region'].eq('US')][metrics].sum().add_prefix('US ')\n",
    "s_eu = df_table[df_table['Continent'].eq('Europe')][metrics].sum().add_prefix('EU ')\n",
    "s_ind = df_table[df_table['Country/Region'].eq('India')][metrics].sum().add_prefix('India ')\n",
    "summary = {'updated': pd.to_datetime(dt_today), 'since': pd.to_datetime(dt_yday)}\n",
    "summary = {'updated': pd.to_datetime(dt_today), 'since': pd.to_datetime(dt_yday)}\n",
    "summary = {**summary, **df_table[metrics].sum(), **s_ind, **s_us, **s_eu}"
   ]
  },
  {
   "cell_type": "code",
   "execution_count": 18,
   "id": "engaging-syndrome",
   "metadata": {
    "execution": {
     "iopub.execute_input": "2022-09-13T00:50:02.248796Z",
     "iopub.status.busy": "2022-09-13T00:50:02.248115Z",
     "iopub.status.idle": "2022-09-13T00:50:02.270960Z",
     "shell.execute_reply": "2022-09-13T00:50:02.270207Z"
    },
    "papermill": {
     "duration": 0.062925,
     "end_time": "2022-09-13T00:50:02.271126",
     "exception": false,
     "start_time": "2022-09-13T00:50:02.208201",
     "status": "completed"
    },
    "tags": []
   },
   "outputs": [],
   "source": [
    "#hide\n",
    "dft_ct_new_cases = dft_cases.groupby(COL_REGION)[dt_cols].sum().diff(axis=1).fillna(0).astype(int)"
   ]
  },
  {
   "cell_type": "code",
   "execution_count": 19,
   "id": "neutral-assignment",
   "metadata": {
    "execution": {
     "iopub.execute_input": "2022-09-13T00:50:02.349223Z",
     "iopub.status.busy": "2022-09-13T00:50:02.346826Z",
     "iopub.status.idle": "2022-09-13T00:50:02.351880Z",
     "shell.execute_reply": "2022-09-13T00:50:02.352387Z"
    },
    "papermill": {
     "duration": 0.044537,
     "end_time": "2022-09-13T00:50:02.352538",
     "exception": false,
     "start_time": "2022-09-13T00:50:02.308001",
     "status": "completed"
    },
    "tags": []
   },
   "outputs": [],
   "source": [
    "#hide\n",
    "everydaycases = dft_ct_new_cases.cumsum(axis=1)"
   ]
  },
  {
   "cell_type": "code",
   "execution_count": 20,
   "id": "parliamentary-calgary",
   "metadata": {
    "execution": {
     "iopub.execute_input": "2022-09-13T00:50:02.430478Z",
     "iopub.status.busy": "2022-09-13T00:50:02.427116Z",
     "iopub.status.idle": "2022-09-13T00:50:03.098901Z",
     "shell.execute_reply": "2022-09-13T00:50:03.098245Z"
    },
    "papermill": {
     "duration": 0.711345,
     "end_time": "2022-09-13T00:50:03.099047",
     "exception": false,
     "start_time": "2022-09-13T00:50:02.387702",
     "status": "completed"
    },
    "tags": []
   },
   "outputs": [],
   "source": [
    "#hide\n",
    "import pandas as pd\n",
    "import matplotlib.pyplot as plt\n",
    "import matplotlib.ticker as ticker\n",
    "import matplotlib.animation as animation\n",
    "from IPython.display import HTML"
   ]
  },
  {
   "cell_type": "code",
   "execution_count": 21,
   "id": "lasting-extraction",
   "metadata": {
    "execution": {
     "iopub.execute_input": "2022-09-13T00:50:03.178958Z",
     "iopub.status.busy": "2022-09-13T00:50:03.178265Z",
     "iopub.status.idle": "2022-09-13T00:50:03.186590Z",
     "shell.execute_reply": "2022-09-13T00:50:03.187150Z"
    },
    "papermill": {
     "duration": 0.052764,
     "end_time": "2022-09-13T00:50:03.187301",
     "exception": false,
     "start_time": "2022-09-13T00:50:03.134537",
     "status": "completed"
    },
    "tags": []
   },
   "outputs": [],
   "source": [
    "#hide\n",
    "t = everydaycases.stack()"
   ]
  },
  {
   "cell_type": "code",
   "execution_count": 22,
   "id": "premier-sleeve",
   "metadata": {
    "execution": {
     "iopub.execute_input": "2022-09-13T00:50:03.263624Z",
     "iopub.status.busy": "2022-09-13T00:50:03.262944Z",
     "iopub.status.idle": "2022-09-13T00:50:03.279225Z",
     "shell.execute_reply": "2022-09-13T00:50:03.278232Z"
    },
    "papermill": {
     "duration": 0.056865,
     "end_time": "2022-09-13T00:50:03.279468",
     "exception": false,
     "start_time": "2022-09-13T00:50:03.222603",
     "status": "completed"
    },
    "tags": []
   },
   "outputs": [],
   "source": [
    "#hide\n",
    "g = t.reset_index(['Country/Region'])"
   ]
  },
  {
   "cell_type": "code",
   "execution_count": 23,
   "id": "distributed-pittsburgh",
   "metadata": {
    "execution": {
     "iopub.execute_input": "2022-09-13T00:50:03.363211Z",
     "iopub.status.busy": "2022-09-13T00:50:03.362520Z",
     "iopub.status.idle": "2022-09-13T00:50:03.365936Z",
     "shell.execute_reply": "2022-09-13T00:50:03.366584Z"
    },
    "papermill": {
     "duration": 0.044482,
     "end_time": "2022-09-13T00:50:03.366731",
     "exception": false,
     "start_time": "2022-09-13T00:50:03.322249",
     "status": "completed"
    },
    "tags": []
   },
   "outputs": [],
   "source": [
    "#hide\n",
    "g.index.name = 'date'"
   ]
  },
  {
   "cell_type": "code",
   "execution_count": 24,
   "id": "naked-donor",
   "metadata": {
    "execution": {
     "iopub.execute_input": "2022-09-13T00:50:03.442360Z",
     "iopub.status.busy": "2022-09-13T00:50:03.441677Z",
     "iopub.status.idle": "2022-09-13T00:50:03.445055Z",
     "shell.execute_reply": "2022-09-13T00:50:03.445614Z"
    },
    "papermill": {
     "duration": 0.043994,
     "end_time": "2022-09-13T00:50:03.445764",
     "exception": false,
     "start_time": "2022-09-13T00:50:03.401770",
     "status": "completed"
    },
    "tags": []
   },
   "outputs": [],
   "source": [
    "# #hide\n",
    "# g = g.reset_index(['date'])"
   ]
  },
  {
   "cell_type": "code",
   "execution_count": 25,
   "id": "incomplete-mustang",
   "metadata": {
    "execution": {
     "iopub.execute_input": "2022-09-13T00:50:03.520652Z",
     "iopub.status.busy": "2022-09-13T00:50:03.519977Z",
     "iopub.status.idle": "2022-09-13T00:50:03.522542Z",
     "shell.execute_reply": "2022-09-13T00:50:03.523168Z"
    },
    "papermill": {
     "duration": 0.042536,
     "end_time": "2022-09-13T00:50:03.523312",
     "exception": false,
     "start_time": "2022-09-13T00:50:03.480776",
     "status": "completed"
    },
    "tags": []
   },
   "outputs": [],
   "source": [
    "#hide\n",
    "# g.head()"
   ]
  },
  {
   "cell_type": "code",
   "execution_count": 26,
   "id": "specific-kruger",
   "metadata": {
    "execution": {
     "iopub.execute_input": "2022-09-13T00:50:03.597989Z",
     "iopub.status.busy": "2022-09-13T00:50:03.597152Z",
     "iopub.status.idle": "2022-09-13T00:50:03.599505Z",
     "shell.execute_reply": "2022-09-13T00:50:03.600006Z"
    },
    "papermill": {
     "duration": 0.041772,
     "end_time": "2022-09-13T00:50:03.600221",
     "exception": false,
     "start_time": "2022-09-13T00:50:03.558449",
     "status": "completed"
    },
    "tags": []
   },
   "outputs": [],
   "source": [
    "#hide\n",
    "# g.columns = ['date','country','cases']"
   ]
  },
  {
   "cell_type": "code",
   "execution_count": 27,
   "id": "tender-conversion",
   "metadata": {
    "execution": {
     "iopub.execute_input": "2022-09-13T00:50:03.679606Z",
     "iopub.status.busy": "2022-09-13T00:50:03.678934Z",
     "iopub.status.idle": "2022-09-13T00:50:03.683191Z",
     "shell.execute_reply": "2022-09-13T00:50:03.682641Z"
    },
    "papermill": {
     "duration": 0.044112,
     "end_time": "2022-09-13T00:50:03.683313",
     "exception": false,
     "start_time": "2022-09-13T00:50:03.639201",
     "status": "completed"
    },
    "tags": []
   },
   "outputs": [],
   "source": [
    "#hide\n",
    "# g['continent'] = g.country"
   ]
  },
  {
   "cell_type": "code",
   "execution_count": 28,
   "id": "substantial-wilderness",
   "metadata": {
    "execution": {
     "iopub.execute_input": "2022-09-13T00:50:03.757342Z",
     "iopub.status.busy": "2022-09-13T00:50:03.756609Z",
     "iopub.status.idle": "2022-09-13T00:50:03.760886Z",
     "shell.execute_reply": "2022-09-13T00:50:03.760324Z"
    },
    "papermill": {
     "duration": 0.042986,
     "end_time": "2022-09-13T00:50:03.761013",
     "exception": false,
     "start_time": "2022-09-13T00:50:03.718027",
     "status": "completed"
    },
    "tags": []
   },
   "outputs": [],
   "source": [
    "#hide\n",
    "# cols = list(g.columns.values)"
   ]
  },
  {
   "cell_type": "code",
   "execution_count": 29,
   "id": "solved-farming",
   "metadata": {
    "execution": {
     "iopub.execute_input": "2022-09-13T00:50:03.850646Z",
     "iopub.status.busy": "2022-09-13T00:50:03.849857Z",
     "iopub.status.idle": "2022-09-13T00:50:03.853223Z",
     "shell.execute_reply": "2022-09-13T00:50:03.852648Z"
    },
    "papermill": {
     "duration": 0.051088,
     "end_time": "2022-09-13T00:50:03.853355",
     "exception": false,
     "start_time": "2022-09-13T00:50:03.802267",
     "status": "completed"
    },
    "tags": []
   },
   "outputs": [],
   "source": [
    "#hide\n",
    "# cols.insert(0, cols.pop())"
   ]
  },
  {
   "cell_type": "code",
   "execution_count": 30,
   "id": "executed-adoption",
   "metadata": {
    "execution": {
     "iopub.execute_input": "2022-09-13T00:50:03.928357Z",
     "iopub.status.busy": "2022-09-13T00:50:03.927652Z",
     "iopub.status.idle": "2022-09-13T00:50:03.932214Z",
     "shell.execute_reply": "2022-09-13T00:50:03.932723Z"
    },
    "papermill": {
     "duration": 0.044268,
     "end_time": "2022-09-13T00:50:03.932887",
     "exception": false,
     "start_time": "2022-09-13T00:50:03.888619",
     "status": "completed"
    },
    "tags": []
   },
   "outputs": [],
   "source": [
    "#hide\n",
    "# g = g[cols]"
   ]
  },
  {
   "cell_type": "code",
   "execution_count": 31,
   "id": "subject-dublin",
   "metadata": {
    "execution": {
     "iopub.execute_input": "2022-09-13T00:50:04.014161Z",
     "iopub.status.busy": "2022-09-13T00:50:04.013433Z",
     "iopub.status.idle": "2022-09-13T00:50:04.015739Z",
     "shell.execute_reply": "2022-09-13T00:50:04.015082Z"
    },
    "papermill": {
     "duration": 0.04641,
     "end_time": "2022-09-13T00:50:04.015862",
     "exception": false,
     "start_time": "2022-09-13T00:50:03.969452",
     "status": "completed"
    },
    "tags": []
   },
   "outputs": [],
   "source": [
    "#hide\n",
    "# g['continent'] = g['continent'].map(mapping['map.continent'])"
   ]
  },
  {
   "cell_type": "code",
   "execution_count": 32,
   "id": "freelance-scout",
   "metadata": {
    "execution": {
     "iopub.execute_input": "2022-09-13T00:50:04.090360Z",
     "iopub.status.busy": "2022-09-13T00:50:04.089670Z",
     "iopub.status.idle": "2022-09-13T00:50:04.092314Z",
     "shell.execute_reply": "2022-09-13T00:50:04.092836Z"
    },
    "papermill": {
     "duration": 0.041859,
     "end_time": "2022-09-13T00:50:04.092978",
     "exception": false,
     "start_time": "2022-09-13T00:50:04.051119",
     "status": "completed"
    },
    "tags": []
   },
   "outputs": [],
   "source": [
    "#hide\n",
    "# g.head()"
   ]
  },
  {
   "cell_type": "code",
   "execution_count": 33,
   "id": "limited-engine",
   "metadata": {
    "execution": {
     "iopub.execute_input": "2022-09-13T00:50:04.167448Z",
     "iopub.status.busy": "2022-09-13T00:50:04.166771Z",
     "iopub.status.idle": "2022-09-13T00:50:04.170590Z",
     "shell.execute_reply": "2022-09-13T00:50:04.171142Z"
    },
    "papermill": {
     "duration": 0.043453,
     "end_time": "2022-09-13T00:50:04.171284",
     "exception": false,
     "start_time": "2022-09-13T00:50:04.127831",
     "status": "completed"
    },
    "tags": []
   },
   "outputs": [],
   "source": [
    "# hide\n",
    "# g['date'] = g['date'].astype('datetime64[ns]')"
   ]
  },
  {
   "cell_type": "code",
   "execution_count": 34,
   "id": "sophisticated-supervisor",
   "metadata": {
    "execution": {
     "iopub.execute_input": "2022-09-13T00:50:04.246624Z",
     "iopub.status.busy": "2022-09-13T00:50:04.245954Z",
     "iopub.status.idle": "2022-09-13T00:50:04.249095Z",
     "shell.execute_reply": "2022-09-13T00:50:04.249656Z"
    },
    "papermill": {
     "duration": 0.043286,
     "end_time": "2022-09-13T00:50:04.249802",
     "exception": false,
     "start_time": "2022-09-13T00:50:04.206516",
     "status": "completed"
    },
    "tags": []
   },
   "outputs": [],
   "source": [
    "#hide\n",
    "# g['date'] = g.date.dt.dayofyear"
   ]
  },
  {
   "cell_type": "code",
   "execution_count": 35,
   "id": "inside-dubai",
   "metadata": {
    "execution": {
     "iopub.execute_input": "2022-09-13T00:50:04.325987Z",
     "iopub.status.busy": "2022-09-13T00:50:04.324627Z",
     "iopub.status.idle": "2022-09-13T00:50:04.327284Z",
     "shell.execute_reply": "2022-09-13T00:50:04.328155Z"
    },
    "papermill": {
     "duration": 0.043534,
     "end_time": "2022-09-13T00:50:04.328290",
     "exception": false,
     "start_time": "2022-09-13T00:50:04.284756",
     "status": "completed"
    },
    "tags": []
   },
   "outputs": [],
   "source": [
    "#hide\n",
    "# g = g.rename(columns= {'continent':'group','country':'name','cases':'value'})"
   ]
  },
  {
   "cell_type": "code",
   "execution_count": 36,
   "id": "fleet-motorcycle",
   "metadata": {
    "execution": {
     "iopub.execute_input": "2022-09-13T00:50:04.407862Z",
     "iopub.status.busy": "2022-09-13T00:50:04.406700Z",
     "iopub.status.idle": "2022-09-13T00:50:04.409848Z",
     "shell.execute_reply": "2022-09-13T00:50:04.409143Z"
    },
    "papermill": {
     "duration": 0.044902,
     "end_time": "2022-09-13T00:50:04.409973",
     "exception": false,
     "start_time": "2022-09-13T00:50:04.365071",
     "status": "completed"
    },
    "tags": []
   },
   "outputs": [],
   "source": [
    "#hide\n",
    "# cols = ['name','group','day','value']"
   ]
  },
  {
   "cell_type": "code",
   "execution_count": 37,
   "id": "continued-sleeping",
   "metadata": {
    "execution": {
     "iopub.execute_input": "2022-09-13T00:50:04.485064Z",
     "iopub.status.busy": "2022-09-13T00:50:04.484359Z",
     "iopub.status.idle": "2022-09-13T00:50:04.487540Z",
     "shell.execute_reply": "2022-09-13T00:50:04.488191Z"
    },
    "papermill": {
     "duration": 0.043463,
     "end_time": "2022-09-13T00:50:04.488343",
     "exception": false,
     "start_time": "2022-09-13T00:50:04.444880",
     "status": "completed"
    },
    "tags": []
   },
   "outputs": [],
   "source": [
    "#hide\n",
    "# g.rename(columns= {'date':'day'},inplace = True)"
   ]
  },
  {
   "cell_type": "code",
   "execution_count": 38,
   "id": "major-fight",
   "metadata": {
    "execution": {
     "iopub.execute_input": "2022-09-13T00:50:04.563705Z",
     "iopub.status.busy": "2022-09-13T00:50:04.562972Z",
     "iopub.status.idle": "2022-09-13T00:50:04.567454Z",
     "shell.execute_reply": "2022-09-13T00:50:04.565847Z"
    },
    "papermill": {
     "duration": 0.04376,
     "end_time": "2022-09-13T00:50:04.567604",
     "exception": false,
     "start_time": "2022-09-13T00:50:04.523844",
     "status": "completed"
    },
    "tags": []
   },
   "outputs": [],
   "source": [
    "#hide\n",
    "# g = g[cols]"
   ]
  },
  {
   "cell_type": "code",
   "execution_count": 39,
   "id": "structured-mobile",
   "metadata": {
    "execution": {
     "iopub.execute_input": "2022-09-13T00:50:04.651283Z",
     "iopub.status.busy": "2022-09-13T00:50:04.650092Z",
     "iopub.status.idle": "2022-09-13T00:50:04.652560Z",
     "shell.execute_reply": "2022-09-13T00:50:04.653150Z"
    },
    "papermill": {
     "duration": 0.048016,
     "end_time": "2022-09-13T00:50:04.653310",
     "exception": false,
     "start_time": "2022-09-13T00:50:04.605294",
     "status": "completed"
    },
    "tags": []
   },
   "outputs": [],
   "source": [
    "# #hide\n",
    "# g = g[g.group.notna()]"
   ]
  },
  {
   "cell_type": "code",
   "execution_count": 40,
   "id": "determined-closing",
   "metadata": {
    "execution": {
     "iopub.execute_input": "2022-09-13T00:50:04.730837Z",
     "iopub.status.busy": "2022-09-13T00:50:04.728898Z",
     "iopub.status.idle": "2022-09-13T00:50:04.732067Z",
     "shell.execute_reply": "2022-09-13T00:50:04.731509Z"
    },
    "papermill": {
     "duration": 0.043931,
     "end_time": "2022-09-13T00:50:04.732191",
     "exception": false,
     "start_time": "2022-09-13T00:50:04.688260",
     "status": "completed"
    },
    "tags": []
   },
   "outputs": [],
   "source": [
    "# #hide\n",
    "# colors = dict(zip(\n",
    "#     [\"Oceania\", \"Europe\", \"Asia\", \"South America\", \"Middle East\", \"North America\", \"Africa\"],\n",
    "#     [\"#adb0ff\", \"#ffb3ff\", \"#90d595\", \"#e48381\", \"#aafbff\", \"#f7bb5f\", \"#eafb50\"]\n",
    "# ))\n",
    "# group_lk = g.set_index('name')['group'].to_dict()"
   ]
  },
  {
   "cell_type": "code",
   "execution_count": null,
   "id": "gross-drinking",
   "metadata": {
    "papermill": {
     "duration": 0.037496,
     "end_time": "2022-09-13T00:50:04.805279",
     "exception": false,
     "start_time": "2022-09-13T00:50:04.767783",
     "status": "completed"
    },
    "tags": []
   },
   "outputs": [],
   "source": []
  },
  {
   "cell_type": "code",
   "execution_count": 41,
   "id": "subject-macintosh",
   "metadata": {
    "execution": {
     "iopub.execute_input": "2022-09-13T00:50:04.883671Z",
     "iopub.status.busy": "2022-09-13T00:50:04.882953Z",
     "iopub.status.idle": "2022-09-13T00:50:04.886012Z",
     "shell.execute_reply": "2022-09-13T00:50:04.886680Z"
    },
    "papermill": {
     "duration": 0.045733,
     "end_time": "2022-09-13T00:50:04.886824",
     "exception": false,
     "start_time": "2022-09-13T00:50:04.841091",
     "status": "completed"
    },
    "tags": []
   },
   "outputs": [],
   "source": [
    "# #hide\n",
    "# fig, ax = plt.subplots(figsize=(15, 8))\n",
    "\n",
    "# def draw_barchart(current_day):\n",
    "#     dff = g[g['day'].eq(current_day)].sort_values(by='value', ascending=True).tail(10)\n",
    "#     ax.clear()\n",
    "#     ax.barh(dff['name'], dff['value'], color=[colors[group_lk[x]] for x in dff['name']])\n",
    "#     dx = dff['value'].max() / 200\n",
    "    \n",
    "#     for i, (value, name) in enumerate(zip(dff['value'], dff['name'])):\n",
    "#         ax.text(value-dx, i,     name,           size=14, weight=600, ha='right', va='bottom')\n",
    "#         ax.text(value-dx, i-.25, group_lk[name], size=10, color='#444444', ha='right', va='baseline')\n",
    "#         ax.text(value+dx, i,     f'{value:,.0f}',  size=14, ha='left',  va='center')\n",
    "#     ax.text(1, 0.4, current_day, transform=ax.transAxes, color='#777777', size=46, ha='right', weight=800)\n",
    "#     ax.text(0, 1.06, 'Population (thousands)', transform=ax.transAxes, size=12, color='#777777')\n",
    "#     ax.xaxis.set_major_formatter(ticker.StrMethodFormatter('{x:,.0f}'))\n",
    "#     ax.xaxis.set_ticks_position('top')\n",
    "#     ax.tick_params(axis='x', colors='#777777', labelsize=12)\n",
    "#     ax.set_yticks([])\n",
    "#     ax.margins(0, 0.01)\n",
    "#     ax.grid(which='major', axis='x', linestyle='-')\n",
    "#     ax.set_axisbelow(True)\n",
    "    \n",
    "#     ax.text(0, 1.15, 'Coronavirus',\n",
    "#             transform=ax.transAxes, size=24, weight=600, ha='left', va='top')\n",
    "# #     ax.text(1, 0, 'by @pratapvardhan; credit @jburnmurdoch', transform=ax.transAxes, color='#777777', ha='right',\n",
    "# #             bbox=dict(facecolor='white', alpha=0.8, edgecolor='white'))\n",
    "#     plt.box(False)"
   ]
  },
  {
   "cell_type": "code",
   "execution_count": 42,
   "id": "sexual-wages",
   "metadata": {
    "execution": {
     "iopub.execute_input": "2022-09-13T00:50:04.965785Z",
     "iopub.status.busy": "2022-09-13T00:50:04.964534Z",
     "iopub.status.idle": "2022-09-13T00:50:04.968449Z",
     "shell.execute_reply": "2022-09-13T00:50:04.967786Z"
    },
    "papermill": {
     "duration": 0.045705,
     "end_time": "2022-09-13T00:50:04.968575",
     "exception": false,
     "start_time": "2022-09-13T00:50:04.922870",
     "status": "completed"
    },
    "tags": []
   },
   "outputs": [],
   "source": [
    "# #hide_input\n",
    "# fig, ax = plt.subplots(figsize=(15, 8))\n",
    "# animator = animation.FuncAnimation(fig, draw_barchart, frames=range(g.day.values.min(), g.day.values.max()))\n",
    "# HTML(animator.to_jshtml())\n",
    "# # or use animator.to_html5_video() or animator.save() "
   ]
  },
  {
   "cell_type": "code",
   "execution_count": null,
   "id": "australian-container",
   "metadata": {
    "papermill": {
     "duration": 0.03496,
     "end_time": "2022-09-13T00:50:05.038671",
     "exception": false,
     "start_time": "2022-09-13T00:50:05.003711",
     "status": "completed"
    },
    "tags": []
   },
   "outputs": [],
   "source": []
  },
  {
   "cell_type": "code",
   "execution_count": null,
   "id": "mediterranean-pontiac",
   "metadata": {
    "papermill": {
     "duration": 0.035042,
     "end_time": "2022-09-13T00:50:05.108934",
     "exception": false,
     "start_time": "2022-09-13T00:50:05.073892",
     "status": "completed"
    },
    "tags": []
   },
   "outputs": [],
   "source": []
  },
  {
   "cell_type": "code",
   "execution_count": null,
   "id": "aging-legislature",
   "metadata": {
    "papermill": {
     "duration": 0.034744,
     "end_time": "2022-09-13T00:50:05.178852",
     "exception": false,
     "start_time": "2022-09-13T00:50:05.144108",
     "status": "completed"
    },
    "tags": []
   },
   "outputs": [],
   "source": []
  }
 ],
 "metadata": {
  "kernelspec": {
   "display_name": "Python 3",
   "language": "python",
   "name": "python3"
  },
  "language_info": {
   "codemirror_mode": {
    "name": "ipython",
    "version": 3
   },
   "file_extension": ".py",
   "mimetype": "text/x-python",
   "name": "python",
   "nbconvert_exporter": "python",
   "pygments_lexer": "ipython3",
   "version": "3.6.15"
  },
  "papermill": {
   "duration": 7.313659,
   "end_time": "2022-09-13T00:50:05.534335",
   "environment_variables": {},
   "exception": null,
   "input_path": "2020-03-21-covid19exp.ipynb",
   "output_path": "2020-03-21-covid19exp.ipynb",
   "parameters": {},
   "start_time": "2022-09-13T00:49:58.220676",
   "version": "2.0.0"
  }
 },
 "nbformat": 4,
 "nbformat_minor": 5
}