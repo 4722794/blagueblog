{
 "cells": [
  {
   "cell_type": "markdown",
   "id": "muslim-click",
   "metadata": {
    "papermill": {
     "duration": 0.041776,
     "end_time": "2021-07-20T00:21:08.478872",
     "exception": false,
     "start_time": "2021-07-20T00:21:08.437096",
     "status": "completed"
    },
    "tags": []
   },
   "source": [
    "# COVID-19 Case Race\n",
    "> A race chart to see rising cases around the world\n",
    "\n",
    "- author: Hargun Oberoi\n",
    "- image: images/covid-overview.png\n",
    "- hide: false\n",
    "- badges: false"
   ]
  },
  {
   "cell_type": "code",
   "execution_count": 1,
   "id": "proof-material",
   "metadata": {
    "execution": {
     "iopub.execute_input": "2021-07-20T00:21:08.564833Z",
     "iopub.status.busy": "2021-07-20T00:21:08.564077Z",
     "iopub.status.idle": "2021-07-20T00:21:08.954183Z",
     "shell.execute_reply": "2021-07-20T00:21:08.953162Z"
    },
    "papermill": {
     "duration": 0.437953,
     "end_time": "2021-07-20T00:21:08.954340",
     "exception": false,
     "start_time": "2021-07-20T00:21:08.516387",
     "status": "completed"
    },
    "tags": []
   },
   "outputs": [],
   "source": [
    "#hide\n",
    "import numpy as np\n",
    "import pandas as pd\n",
    "from jinja2 import Template\n",
    "from IPython.display import HTML"
   ]
  },
  {
   "cell_type": "code",
   "execution_count": 2,
   "id": "developed-terminology",
   "metadata": {
    "execution": {
     "iopub.execute_input": "2021-07-20T00:21:09.037378Z",
     "iopub.status.busy": "2021-07-20T00:21:09.036719Z",
     "iopub.status.idle": "2021-07-20T00:21:09.038631Z",
     "shell.execute_reply": "2021-07-20T00:21:09.039152Z"
    },
    "papermill": {
     "duration": 0.044619,
     "end_time": "2021-07-20T00:21:09.039299",
     "exception": false,
     "start_time": "2021-07-20T00:21:08.994680",
     "status": "completed"
    },
    "tags": []
   },
   "outputs": [],
   "source": [
    "#hide\n",
    "\n",
    "# FETCH\n",
    "base_url = 'https://raw.githubusercontent.com/pratapvardhan/notebooks/master/covid19/'\n",
    "paths = {\n",
    "    'mapping': base_url + 'mapping_countries.csv',\n",
    "    'overview': base_url + 'overview.tpl'\n",
    "}"
   ]
  },
  {
   "cell_type": "code",
   "execution_count": 3,
   "id": "dynamic-saver",
   "metadata": {
    "execution": {
     "iopub.execute_input": "2021-07-20T00:21:09.126841Z",
     "iopub.status.busy": "2021-07-20T00:21:09.126184Z",
     "iopub.status.idle": "2021-07-20T00:21:09.128896Z",
     "shell.execute_reply": "2021-07-20T00:21:09.129506Z"
    },
    "papermill": {
     "duration": 0.051287,
     "end_time": "2021-07-20T00:21:09.129659",
     "exception": false,
     "start_time": "2021-07-20T00:21:09.078372",
     "status": "completed"
    },
    "tags": []
   },
   "outputs": [
    {
     "data": {
      "text/plain": [
       "'https://raw.githubusercontent.com/pratapvardhan/notebooks/master/covid19/mapping_countries.csv'"
      ]
     },
     "execution_count": 3,
     "metadata": {},
     "output_type": "execute_result"
    }
   ],
   "source": [
    "#hide\n",
    "paths['mapping']"
   ]
  },
  {
   "cell_type": "code",
   "execution_count": 4,
   "id": "urban-software",
   "metadata": {
    "execution": {
     "iopub.execute_input": "2021-07-20T00:21:09.210644Z",
     "iopub.status.busy": "2021-07-20T00:21:09.210001Z",
     "iopub.status.idle": "2021-07-20T00:21:09.211883Z",
     "shell.execute_reply": "2021-07-20T00:21:09.212620Z"
    },
    "papermill": {
     "duration": 0.045363,
     "end_time": "2021-07-20T00:21:09.212781",
     "exception": false,
     "start_time": "2021-07-20T00:21:09.167418",
     "status": "completed"
    },
    "tags": []
   },
   "outputs": [],
   "source": [
    "#hide\n",
    "def get_mappings(url):\n",
    "    df = pd.read_csv(url)\n",
    "    return {\n",
    "        'df': df,\n",
    "        'replace.country': dict(df.dropna(subset=['Name']).set_index('Country')['Name']),\n",
    "        'map.continent': dict(df.set_index('Name')['Continent'])\n",
    "    }"
   ]
  },
  {
   "cell_type": "code",
   "execution_count": 5,
   "id": "intimate-machinery",
   "metadata": {
    "execution": {
     "iopub.execute_input": "2021-07-20T00:21:09.293705Z",
     "iopub.status.busy": "2021-07-20T00:21:09.292973Z",
     "iopub.status.idle": "2021-07-20T00:21:09.336394Z",
     "shell.execute_reply": "2021-07-20T00:21:09.336935Z"
    },
    "papermill": {
     "duration": 0.087326,
     "end_time": "2021-07-20T00:21:09.337107",
     "exception": false,
     "start_time": "2021-07-20T00:21:09.249781",
     "status": "completed"
    },
    "tags": []
   },
   "outputs": [],
   "source": [
    "#hide\n",
    "mapping = get_mappings(paths['mapping'])"
   ]
  },
  {
   "cell_type": "code",
   "execution_count": 6,
   "id": "certified-tactics",
   "metadata": {
    "execution": {
     "iopub.execute_input": "2021-07-20T00:21:09.418655Z",
     "iopub.status.busy": "2021-07-20T00:21:09.418010Z",
     "iopub.status.idle": "2021-07-20T00:21:09.419838Z",
     "shell.execute_reply": "2021-07-20T00:21:09.420505Z"
    },
    "papermill": {
     "duration": 0.045451,
     "end_time": "2021-07-20T00:21:09.420658",
     "exception": false,
     "start_time": "2021-07-20T00:21:09.375207",
     "status": "completed"
    },
    "tags": []
   },
   "outputs": [],
   "source": [
    "#hide\n",
    "def get_template(path):\n",
    "    from urllib.parse import urlparse\n",
    "    if bool(urlparse(path).netloc):\n",
    "        from urllib.request import urlopen\n",
    "        return urlopen(path).read().decode('utf8')\n",
    "    return open(path).read()"
   ]
  },
  {
   "cell_type": "code",
   "execution_count": 7,
   "id": "realistic-blast",
   "metadata": {
    "execution": {
     "iopub.execute_input": "2021-07-20T00:21:09.501028Z",
     "iopub.status.busy": "2021-07-20T00:21:09.500335Z",
     "iopub.status.idle": "2021-07-20T00:21:09.502315Z",
     "shell.execute_reply": "2021-07-20T00:21:09.502803Z"
    },
    "papermill": {
     "duration": 0.045306,
     "end_time": "2021-07-20T00:21:09.502963",
     "exception": false,
     "start_time": "2021-07-20T00:21:09.457657",
     "status": "completed"
    },
    "tags": []
   },
   "outputs": [],
   "source": [
    "#hide\n",
    "def get_frame(name):\n",
    "    url = (\n",
    "        'https://raw.githubusercontent.com/CSSEGISandData/COVID-19/master/csse_covid_19_data/'\n",
    "        f'csse_covid_19_time_series/time_series_covid19_{name}_global.csv')\n",
    "    df = pd.read_csv(url)\n",
    "    # rename countries\n",
    "    df['Country/Region'] = df['Country/Region'].replace(mapping['replace.country'])\n",
    "    return df"
   ]
  },
  {
   "cell_type": "code",
   "execution_count": 8,
   "id": "affiliated-characterization",
   "metadata": {
    "execution": {
     "iopub.execute_input": "2021-07-20T00:21:09.583827Z",
     "iopub.status.busy": "2021-07-20T00:21:09.583188Z",
     "iopub.status.idle": "2021-07-20T00:21:09.585220Z",
     "shell.execute_reply": "2021-07-20T00:21:09.586015Z"
    },
    "papermill": {
     "duration": 0.045518,
     "end_time": "2021-07-20T00:21:09.586166",
     "exception": false,
     "start_time": "2021-07-20T00:21:09.540648",
     "status": "completed"
    },
    "tags": []
   },
   "outputs": [],
   "source": [
    "#hide\n",
    "def get_dates(df):\n",
    "    dt_cols = df.columns[~df.columns.isin(['Province/State', 'Country/Region', 'Lat', 'Long'])]\n",
    "    LAST_DATE_I = -1\n",
    "    # sometimes last column may be empty, then go backwards\n",
    "    for i in range(-1, -len(dt_cols), -1):\n",
    "        if not df[dt_cols[i]].fillna(0).eq(0).all():\n",
    "            LAST_DATE_I = i\n",
    "            break\n",
    "    return LAST_DATE_I, dt_cols"
   ]
  },
  {
   "cell_type": "code",
   "execution_count": 9,
   "id": "recent-optimization",
   "metadata": {
    "execution": {
     "iopub.execute_input": "2021-07-20T00:21:09.666171Z",
     "iopub.status.busy": "2021-07-20T00:21:09.665515Z",
     "iopub.status.idle": "2021-07-20T00:21:10.056576Z",
     "shell.execute_reply": "2021-07-20T00:21:10.055452Z"
    },
    "papermill": {
     "duration": 0.434391,
     "end_time": "2021-07-20T00:21:10.056738",
     "exception": false,
     "start_time": "2021-07-20T00:21:09.622347",
     "status": "completed"
    },
    "tags": []
   },
   "outputs": [],
   "source": [
    "#hide\n",
    "COL_REGION = 'Country/Region'\n",
    "# Confirmed, Recovered, Deaths\n",
    "df = get_frame('confirmed')\n",
    "# dft_: timeseries, dfc_: today country agg\n",
    "dft_cases = df\n",
    "dft_deaths = get_frame('deaths')\n",
    "dft_recovered = get_frame('recovered')\n",
    "LAST_DATE_I, dt_cols = get_dates(df)"
   ]
  },
  {
   "cell_type": "code",
   "execution_count": 10,
   "id": "absolute-copper",
   "metadata": {
    "execution": {
     "iopub.execute_input": "2021-07-20T00:21:10.137076Z",
     "iopub.status.busy": "2021-07-20T00:21:10.136394Z",
     "iopub.status.idle": "2021-07-20T00:21:10.138500Z",
     "shell.execute_reply": "2021-07-20T00:21:10.139117Z"
    },
    "papermill": {
     "duration": 0.044884,
     "end_time": "2021-07-20T00:21:10.139255",
     "exception": false,
     "start_time": "2021-07-20T00:21:10.094371",
     "status": "completed"
    },
    "tags": []
   },
   "outputs": [],
   "source": [
    "#hide\n",
    "LAST_DATE_I, dt_cols = get_dates(df)\n",
    "dt_today =dt_cols[LAST_DATE_I]\n",
    "# dt_5day = dt_cols[LAST_DATE_I - 5]\n",
    "dt_yday = dt_cols[LAST_DATE_I - 1]"
   ]
  },
  {
   "cell_type": "code",
   "execution_count": 11,
   "id": "restricted-sheriff",
   "metadata": {
    "execution": {
     "iopub.execute_input": "2021-07-20T00:21:10.228267Z",
     "iopub.status.busy": "2021-07-20T00:21:10.227507Z",
     "iopub.status.idle": "2021-07-20T00:21:10.242049Z",
     "shell.execute_reply": "2021-07-20T00:21:10.241214Z"
    },
    "papermill": {
     "duration": 0.064994,
     "end_time": "2021-07-20T00:21:10.242191",
     "exception": false,
     "start_time": "2021-07-20T00:21:10.177197",
     "status": "completed"
    },
    "tags": []
   },
   "outputs": [],
   "source": [
    "#hide\n",
    "dfc_cases = dft_cases.groupby(COL_REGION)[dt_today].sum()\n",
    "dfc_deaths = dft_deaths.groupby(COL_REGION)[dt_today].sum()\n",
    "# dfp_cases = dft_cases.groupby(COL_REGION)[dt_5day].sum()\n",
    "# dfp_deaths = dft_deaths.groupby(COL_REGION)[dt_5day].sum()\n",
    "dfp_cases = dft_cases.groupby(COL_REGION)[dt_yday].sum()\n",
    "dfp_deaths = dft_deaths.groupby(COL_REGION)[dt_yday].sum()"
   ]
  },
  {
   "cell_type": "code",
   "execution_count": 12,
   "id": "deluxe-hepatitis",
   "metadata": {
    "execution": {
     "iopub.execute_input": "2021-07-20T00:21:10.333751Z",
     "iopub.status.busy": "2021-07-20T00:21:10.332905Z",
     "iopub.status.idle": "2021-07-20T00:21:10.342310Z",
     "shell.execute_reply": "2021-07-20T00:21:10.342899Z"
    },
    "papermill": {
     "duration": 0.061842,
     "end_time": "2021-07-20T00:21:10.343072",
     "exception": false,
     "start_time": "2021-07-20T00:21:10.281230",
     "status": "completed"
    },
    "tags": []
   },
   "outputs": [],
   "source": [
    "#hide\n",
    "df_table = (pd.DataFrame(dict(Cases = dfc_cases, Deaths = dfc_deaths, PCases = dfp_cases, PDeaths = dfp_deaths))\n",
    "            .sort_values(by = ['Cases','Deaths'], ascending = [False, False])\n",
    "            .reset_index())"
   ]
  },
  {
   "cell_type": "code",
   "execution_count": 13,
   "id": "educational-chancellor",
   "metadata": {
    "execution": {
     "iopub.execute_input": "2021-07-20T00:21:10.451596Z",
     "iopub.status.busy": "2021-07-20T00:21:10.450911Z",
     "iopub.status.idle": "2021-07-20T00:21:10.460187Z",
     "shell.execute_reply": "2021-07-20T00:21:10.459620Z"
    },
    "papermill": {
     "duration": 0.070068,
     "end_time": "2021-07-20T00:21:10.460325",
     "exception": false,
     "start_time": "2021-07-20T00:21:10.390257",
     "status": "completed"
    },
    "tags": []
   },
   "outputs": [
    {
     "data": {
      "text/html": [
       "<div>\n",
       "<style scoped>\n",
       "    .dataframe tbody tr th:only-of-type {\n",
       "        vertical-align: middle;\n",
       "    }\n",
       "\n",
       "    .dataframe tbody tr th {\n",
       "        vertical-align: top;\n",
       "    }\n",
       "\n",
       "    .dataframe thead th {\n",
       "        text-align: right;\n",
       "    }\n",
       "</style>\n",
       "<table border=\"1\" class=\"dataframe\">\n",
       "  <thead>\n",
       "    <tr style=\"text-align: right;\">\n",
       "      <th></th>\n",
       "      <th>Country/Region</th>\n",
       "      <th>Cases</th>\n",
       "      <th>Deaths</th>\n",
       "      <th>PCases</th>\n",
       "      <th>PDeaths</th>\n",
       "      <th>Cases (+)</th>\n",
       "      <th>Deaths (+)</th>\n",
       "      <th>Fatality Rate</th>\n",
       "      <th>Continent</th>\n",
       "    </tr>\n",
       "  </thead>\n",
       "  <tbody>\n",
       "    <tr>\n",
       "      <th>0</th>\n",
       "      <td>US</td>\n",
       "      <td>34079960</td>\n",
       "      <td>609019</td>\n",
       "      <td>34067912</td>\n",
       "      <td>608884</td>\n",
       "      <td>12048</td>\n",
       "      <td>135</td>\n",
       "      <td>1.79</td>\n",
       "      <td>North America</td>\n",
       "    </tr>\n",
       "    <tr>\n",
       "      <th>1</th>\n",
       "      <td>India</td>\n",
       "      <td>31144229</td>\n",
       "      <td>414108</td>\n",
       "      <td>31106065</td>\n",
       "      <td>413609</td>\n",
       "      <td>38164</td>\n",
       "      <td>499</td>\n",
       "      <td>1.33</td>\n",
       "      <td>Asia</td>\n",
       "    </tr>\n",
       "    <tr>\n",
       "      <th>2</th>\n",
       "      <td>Brazil</td>\n",
       "      <td>19376574</td>\n",
       "      <td>542214</td>\n",
       "      <td>19342448</td>\n",
       "      <td>541266</td>\n",
       "      <td>34126</td>\n",
       "      <td>948</td>\n",
       "      <td>2.80</td>\n",
       "      <td>South America</td>\n",
       "    </tr>\n",
       "    <tr>\n",
       "      <th>3</th>\n",
       "      <td>France</td>\n",
       "      <td>5929929</td>\n",
       "      <td>111662</td>\n",
       "      <td>5917397</td>\n",
       "      <td>111657</td>\n",
       "      <td>12532</td>\n",
       "      <td>5</td>\n",
       "      <td>1.88</td>\n",
       "      <td>Europe</td>\n",
       "    </tr>\n",
       "    <tr>\n",
       "      <th>4</th>\n",
       "      <td>Russia</td>\n",
       "      <td>5884593</td>\n",
       "      <td>145975</td>\n",
       "      <td>5860113</td>\n",
       "      <td>145222</td>\n",
       "      <td>24480</td>\n",
       "      <td>753</td>\n",
       "      <td>2.48</td>\n",
       "      <td>Europe</td>\n",
       "    </tr>\n",
       "  </tbody>\n",
       "</table>\n",
       "</div>"
      ],
      "text/plain": [
       "  Country/Region     Cases  Deaths    PCases  PDeaths  Cases (+)  Deaths (+)  \\\n",
       "0             US  34079960  609019  34067912   608884      12048         135   \n",
       "1          India  31144229  414108  31106065   413609      38164         499   \n",
       "2         Brazil  19376574  542214  19342448   541266      34126         948   \n",
       "3         France   5929929  111662   5917397   111657      12532           5   \n",
       "4         Russia   5884593  145975   5860113   145222      24480         753   \n",
       "\n",
       "   Fatality Rate      Continent  \n",
       "0           1.79  North America  \n",
       "1           1.33           Asia  \n",
       "2           2.80  South America  \n",
       "3           1.88         Europe  \n",
       "4           2.48         Europe  "
      ]
     },
     "execution_count": 13,
     "metadata": {},
     "output_type": "execute_result"
    }
   ],
   "source": [
    "#hide\n",
    "for c in 'Cases, Deaths'.split(', '):\n",
    "    df_table[f'{c} (+)'] = (df_table[c] - df_table[f'P{c}']).clip(0)\n",
    "    #Clip ça veut dire, les chiffres negatif sont interdit\n",
    "df_table['Fatality Rate'] = (100* df_table['Deaths']/ df_table['Cases']).round(2)\n",
    "df_table['Continent'] = df_table['Country/Region'].map(mapping['map.continent'])\n",
    "df_table.head(5)"
   ]
  },
  {
   "cell_type": "code",
   "execution_count": 14,
   "id": "aboriginal-bulgaria",
   "metadata": {
    "execution": {
     "iopub.execute_input": "2021-07-20T00:21:10.542851Z",
     "iopub.status.busy": "2021-07-20T00:21:10.542195Z",
     "iopub.status.idle": "2021-07-20T00:21:10.544407Z",
     "shell.execute_reply": "2021-07-20T00:21:10.545431Z"
    },
    "papermill": {
     "duration": 0.047898,
     "end_time": "2021-07-20T00:21:10.545581",
     "exception": false,
     "start_time": "2021-07-20T00:21:10.497683",
     "status": "completed"
    },
    "tags": []
   },
   "outputs": [],
   "source": [
    "#hide\n",
    "#delete problematic countries from table\n",
    "df_table = df_table[~df_table['Country/Region'].isin(['Cape Verde', 'Cruise Ship', 'Kosovo'])]"
   ]
  },
  {
   "cell_type": "code",
   "execution_count": 15,
   "id": "fantastic-effect",
   "metadata": {
    "execution": {
     "iopub.execute_input": "2021-07-20T00:21:10.628250Z",
     "iopub.status.busy": "2021-07-20T00:21:10.627597Z",
     "iopub.status.idle": "2021-07-20T00:21:10.650903Z",
     "shell.execute_reply": "2021-07-20T00:21:10.650281Z"
    },
    "papermill": {
     "duration": 0.068518,
     "end_time": "2021-07-20T00:21:10.651037",
     "exception": false,
     "start_time": "2021-07-20T00:21:10.582519",
     "status": "completed"
    },
    "tags": []
   },
   "outputs": [
    {
     "data": {
      "text/html": [
       "<div>\n",
       "<style scoped>\n",
       "    .dataframe tbody tr th:only-of-type {\n",
       "        vertical-align: middle;\n",
       "    }\n",
       "\n",
       "    .dataframe tbody tr th {\n",
       "        vertical-align: top;\n",
       "    }\n",
       "\n",
       "    .dataframe thead th {\n",
       "        text-align: right;\n",
       "    }\n",
       "</style>\n",
       "<table border=\"1\" class=\"dataframe\">\n",
       "  <thead>\n",
       "    <tr style=\"text-align: right;\">\n",
       "      <th></th>\n",
       "      <th>Country/Region</th>\n",
       "      <th>Cases</th>\n",
       "      <th>Deaths</th>\n",
       "      <th>PCases</th>\n",
       "      <th>PDeaths</th>\n",
       "      <th>Cases (+)</th>\n",
       "      <th>Deaths (+)</th>\n",
       "      <th>Fatality Rate</th>\n",
       "      <th>Continent</th>\n",
       "    </tr>\n",
       "  </thead>\n",
       "  <tbody>\n",
       "    <tr>\n",
       "      <th>0</th>\n",
       "      <td>US</td>\n",
       "      <td>34079960</td>\n",
       "      <td>609019</td>\n",
       "      <td>34067912</td>\n",
       "      <td>608884</td>\n",
       "      <td>12048</td>\n",
       "      <td>135</td>\n",
       "      <td>1.8</td>\n",
       "      <td>North America</td>\n",
       "    </tr>\n",
       "    <tr>\n",
       "      <th>1</th>\n",
       "      <td>India</td>\n",
       "      <td>31144229</td>\n",
       "      <td>414108</td>\n",
       "      <td>31106065</td>\n",
       "      <td>413609</td>\n",
       "      <td>38164</td>\n",
       "      <td>499</td>\n",
       "      <td>1.3</td>\n",
       "      <td>Asia</td>\n",
       "    </tr>\n",
       "    <tr>\n",
       "      <th>2</th>\n",
       "      <td>Brazil</td>\n",
       "      <td>19376574</td>\n",
       "      <td>542214</td>\n",
       "      <td>19342448</td>\n",
       "      <td>541266</td>\n",
       "      <td>34126</td>\n",
       "      <td>948</td>\n",
       "      <td>2.8</td>\n",
       "      <td>South America</td>\n",
       "    </tr>\n",
       "    <tr>\n",
       "      <th>3</th>\n",
       "      <td>France</td>\n",
       "      <td>5929929</td>\n",
       "      <td>111662</td>\n",
       "      <td>5917397</td>\n",
       "      <td>111657</td>\n",
       "      <td>12532</td>\n",
       "      <td>5</td>\n",
       "      <td>1.9</td>\n",
       "      <td>Europe</td>\n",
       "    </tr>\n",
       "    <tr>\n",
       "      <th>4</th>\n",
       "      <td>Russia</td>\n",
       "      <td>5884593</td>\n",
       "      <td>145975</td>\n",
       "      <td>5860113</td>\n",
       "      <td>145222</td>\n",
       "      <td>24480</td>\n",
       "      <td>753</td>\n",
       "      <td>2.5</td>\n",
       "      <td>Europe</td>\n",
       "    </tr>\n",
       "  </tbody>\n",
       "</table>\n",
       "</div>"
      ],
      "text/plain": [
       "  Country/Region     Cases  Deaths    PCases  PDeaths  Cases (+)  Deaths (+)  \\\n",
       "0             US  34079960  609019  34067912   608884      12048         135   \n",
       "1          India  31144229  414108  31106065   413609      38164         499   \n",
       "2         Brazil  19376574  542214  19342448   541266      34126         948   \n",
       "3         France   5929929  111662   5917397   111657      12532           5   \n",
       "4         Russia   5884593  145975   5860113   145222      24480         753   \n",
       "\n",
       "   Fatality Rate      Continent  \n",
       "0            1.8  North America  \n",
       "1            1.3           Asia  \n",
       "2            2.8  South America  \n",
       "3            1.9         Europe  \n",
       "4            2.5         Europe  "
      ]
     },
     "execution_count": 15,
     "metadata": {},
     "output_type": "execute_result"
    }
   ],
   "source": [
    "#hide\n",
    "df_table = (pd.DataFrame(dict(Cases=dfc_cases, Deaths=dfc_deaths, PCases=dfp_cases, PDeaths=dfp_deaths))\n",
    "             .sort_values(by=['Cases', 'Deaths'], ascending=[False, False])\n",
    "             .reset_index())\n",
    "df_table.rename(columns={'index': 'Country/Region'}, inplace=True)\n",
    "for c in 'Cases, Deaths'.split(', '):\n",
    "    df_table[f'{c} (+)'] = (df_table[c] - df_table[f'P{c}']).clip(0)  # DATA BUG\n",
    "df_table['Fatality Rate'] = (100 * df_table['Deaths'] / df_table['Cases']).round(1)\n",
    "df_table['Continent'] = df_table['Country/Region'].map(mapping['map.continent'])\n",
    "df_table.head(5)"
   ]
  },
  {
   "cell_type": "code",
   "execution_count": 16,
   "id": "fewer-occasion",
   "metadata": {
    "execution": {
     "iopub.execute_input": "2021-07-20T00:21:10.735917Z",
     "iopub.status.busy": "2021-07-20T00:21:10.734887Z",
     "iopub.status.idle": "2021-07-20T00:21:10.738025Z",
     "shell.execute_reply": "2021-07-20T00:21:10.738545Z"
    },
    "papermill": {
     "duration": 0.047581,
     "end_time": "2021-07-20T00:21:10.738681",
     "exception": false,
     "start_time": "2021-07-20T00:21:10.691100",
     "status": "completed"
    },
    "tags": []
   },
   "outputs": [],
   "source": [
    "#hide\n",
    "#delete problematic countries from table\n",
    "df_table = df_table[~df_table['Country/Region'].isin(['Cape Verde', 'Cruise Ship', 'Kosovo'])]"
   ]
  },
  {
   "cell_type": "code",
   "execution_count": 17,
   "id": "related-center",
   "metadata": {
    "execution": {
     "iopub.execute_input": "2021-07-20T00:21:10.836114Z",
     "iopub.status.busy": "2021-07-20T00:21:10.835298Z",
     "iopub.status.idle": "2021-07-20T00:21:10.838387Z",
     "shell.execute_reply": "2021-07-20T00:21:10.837815Z"
    },
    "papermill": {
     "duration": 0.060928,
     "end_time": "2021-07-20T00:21:10.838511",
     "exception": false,
     "start_time": "2021-07-20T00:21:10.777583",
     "status": "completed"
    },
    "tags": []
   },
   "outputs": [],
   "source": [
    "#hide\n",
    "metrics = [df_table.columns[index] for index in [1,2,5,6]]\n",
    "# s_china = df_table[df_table['Country/Region'].eq('China')][metrics].sum().add_prefix('China ')\n",
    "s_us = df_table[df_table['Country/Region'].eq('US')][metrics].sum().add_prefix('US ')\n",
    "s_eu = df_table[df_table['Continent'].eq('Europe')][metrics].sum().add_prefix('EU ')\n",
    "s_ind = df_table[df_table['Country/Region'].eq('India')][metrics].sum().add_prefix('India ')\n",
    "summary = {'updated': pd.to_datetime(dt_today), 'since': pd.to_datetime(dt_yday)}\n",
    "summary = {'updated': pd.to_datetime(dt_today), 'since': pd.to_datetime(dt_yday)}\n",
    "summary = {**summary, **df_table[metrics].sum(), **s_ind, **s_us, **s_eu}"
   ]
  },
  {
   "cell_type": "code",
   "execution_count": 18,
   "id": "engaging-syndrome",
   "metadata": {
    "execution": {
     "iopub.execute_input": "2021-07-20T00:21:10.921310Z",
     "iopub.status.busy": "2021-07-20T00:21:10.920580Z",
     "iopub.status.idle": "2021-07-20T00:21:10.934674Z",
     "shell.execute_reply": "2021-07-20T00:21:10.935228Z"
    },
    "papermill": {
     "duration": 0.057422,
     "end_time": "2021-07-20T00:21:10.935372",
     "exception": false,
     "start_time": "2021-07-20T00:21:10.877950",
     "status": "completed"
    },
    "tags": []
   },
   "outputs": [],
   "source": [
    "#hide\n",
    "dft_ct_new_cases = dft_cases.groupby(COL_REGION)[dt_cols].sum().diff(axis=1).fillna(0).astype(int)"
   ]
  },
  {
   "cell_type": "code",
   "execution_count": 19,
   "id": "neutral-assignment",
   "metadata": {
    "execution": {
     "iopub.execute_input": "2021-07-20T00:21:11.018127Z",
     "iopub.status.busy": "2021-07-20T00:21:11.017431Z",
     "iopub.status.idle": "2021-07-20T00:21:11.019704Z",
     "shell.execute_reply": "2021-07-20T00:21:11.020347Z"
    },
    "papermill": {
     "duration": 0.046676,
     "end_time": "2021-07-20T00:21:11.020523",
     "exception": false,
     "start_time": "2021-07-20T00:21:10.973847",
     "status": "completed"
    },
    "tags": []
   },
   "outputs": [],
   "source": [
    "#hide\n",
    "everydaycases = dft_ct_new_cases.cumsum(axis=1)"
   ]
  },
  {
   "cell_type": "code",
   "execution_count": 20,
   "id": "parliamentary-calgary",
   "metadata": {
    "execution": {
     "iopub.execute_input": "2021-07-20T00:21:11.099215Z",
     "iopub.status.busy": "2021-07-20T00:21:11.098566Z",
     "iopub.status.idle": "2021-07-20T00:21:11.720200Z",
     "shell.execute_reply": "2021-07-20T00:21:11.719626Z"
    },
    "papermill": {
     "duration": 0.662466,
     "end_time": "2021-07-20T00:21:11.720338",
     "exception": false,
     "start_time": "2021-07-20T00:21:11.057872",
     "status": "completed"
    },
    "tags": []
   },
   "outputs": [],
   "source": [
    "#hide\n",
    "import pandas as pd\n",
    "import matplotlib.pyplot as plt\n",
    "import matplotlib.ticker as ticker\n",
    "import matplotlib.animation as animation\n",
    "from IPython.display import HTML"
   ]
  },
  {
   "cell_type": "code",
   "execution_count": 21,
   "id": "lasting-extraction",
   "metadata": {
    "execution": {
     "iopub.execute_input": "2021-07-20T00:21:11.804001Z",
     "iopub.status.busy": "2021-07-20T00:21:11.801374Z",
     "iopub.status.idle": "2021-07-20T00:21:11.807750Z",
     "shell.execute_reply": "2021-07-20T00:21:11.808371Z"
    },
    "papermill": {
     "duration": 0.05045,
     "end_time": "2021-07-20T00:21:11.808549",
     "exception": false,
     "start_time": "2021-07-20T00:21:11.758099",
     "status": "completed"
    },
    "tags": []
   },
   "outputs": [],
   "source": [
    "#hide\n",
    "t = everydaycases.stack()"
   ]
  },
  {
   "cell_type": "code",
   "execution_count": 22,
   "id": "premier-sleeve",
   "metadata": {
    "execution": {
     "iopub.execute_input": "2021-07-20T00:21:11.895207Z",
     "iopub.status.busy": "2021-07-20T00:21:11.894562Z",
     "iopub.status.idle": "2021-07-20T00:21:11.902577Z",
     "shell.execute_reply": "2021-07-20T00:21:11.903218Z"
    },
    "papermill": {
     "duration": 0.056386,
     "end_time": "2021-07-20T00:21:11.903357",
     "exception": false,
     "start_time": "2021-07-20T00:21:11.846971",
     "status": "completed"
    },
    "tags": []
   },
   "outputs": [],
   "source": [
    "#hide\n",
    "g = t.reset_index(['Country/Region'])"
   ]
  },
  {
   "cell_type": "code",
   "execution_count": 23,
   "id": "distributed-pittsburgh",
   "metadata": {
    "execution": {
     "iopub.execute_input": "2021-07-20T00:21:11.992168Z",
     "iopub.status.busy": "2021-07-20T00:21:11.991523Z",
     "iopub.status.idle": "2021-07-20T00:21:11.994169Z",
     "shell.execute_reply": "2021-07-20T00:21:11.993621Z"
    },
    "papermill": {
     "duration": 0.051367,
     "end_time": "2021-07-20T00:21:11.994295",
     "exception": false,
     "start_time": "2021-07-20T00:21:11.942928",
     "status": "completed"
    },
    "tags": []
   },
   "outputs": [],
   "source": [
    "#hide\n",
    "g.index.name = 'date'"
   ]
  },
  {
   "cell_type": "code",
   "execution_count": 24,
   "id": "naked-donor",
   "metadata": {
    "execution": {
     "iopub.execute_input": "2021-07-20T00:21:12.074364Z",
     "iopub.status.busy": "2021-07-20T00:21:12.073679Z",
     "iopub.status.idle": "2021-07-20T00:21:12.075712Z",
     "shell.execute_reply": "2021-07-20T00:21:12.076307Z"
    },
    "papermill": {
     "duration": 0.043702,
     "end_time": "2021-07-20T00:21:12.076431",
     "exception": false,
     "start_time": "2021-07-20T00:21:12.032729",
     "status": "completed"
    },
    "tags": []
   },
   "outputs": [],
   "source": [
    "# #hide\n",
    "# g = g.reset_index(['date'])"
   ]
  },
  {
   "cell_type": "code",
   "execution_count": 25,
   "id": "incomplete-mustang",
   "metadata": {
    "execution": {
     "iopub.execute_input": "2021-07-20T00:21:12.160950Z",
     "iopub.status.busy": "2021-07-20T00:21:12.160282Z",
     "iopub.status.idle": "2021-07-20T00:21:12.162331Z",
     "shell.execute_reply": "2021-07-20T00:21:12.162841Z"
    },
    "papermill": {
     "duration": 0.047125,
     "end_time": "2021-07-20T00:21:12.162978",
     "exception": false,
     "start_time": "2021-07-20T00:21:12.115853",
     "status": "completed"
    },
    "tags": []
   },
   "outputs": [],
   "source": [
    "#hide\n",
    "# g.head()"
   ]
  },
  {
   "cell_type": "code",
   "execution_count": 26,
   "id": "specific-kruger",
   "metadata": {
    "execution": {
     "iopub.execute_input": "2021-07-20T00:21:12.249046Z",
     "iopub.status.busy": "2021-07-20T00:21:12.248347Z",
     "iopub.status.idle": "2021-07-20T00:21:12.250280Z",
     "shell.execute_reply": "2021-07-20T00:21:12.250823Z"
    },
    "papermill": {
     "duration": 0.046642,
     "end_time": "2021-07-20T00:21:12.251288",
     "exception": false,
     "start_time": "2021-07-20T00:21:12.204646",
     "status": "completed"
    },
    "tags": []
   },
   "outputs": [],
   "source": [
    "#hide\n",
    "# g.columns = ['date','country','cases']"
   ]
  },
  {
   "cell_type": "code",
   "execution_count": 27,
   "id": "tender-conversion",
   "metadata": {
    "execution": {
     "iopub.execute_input": "2021-07-20T00:21:12.332907Z",
     "iopub.status.busy": "2021-07-20T00:21:12.332234Z",
     "iopub.status.idle": "2021-07-20T00:21:12.334463Z",
     "shell.execute_reply": "2021-07-20T00:21:12.335100Z"
    },
    "papermill": {
     "duration": 0.044963,
     "end_time": "2021-07-20T00:21:12.335242",
     "exception": false,
     "start_time": "2021-07-20T00:21:12.290279",
     "status": "completed"
    },
    "tags": []
   },
   "outputs": [],
   "source": [
    "#hide\n",
    "# g['continent'] = g.country"
   ]
  },
  {
   "cell_type": "code",
   "execution_count": 28,
   "id": "substantial-wilderness",
   "metadata": {
    "execution": {
     "iopub.execute_input": "2021-07-20T00:21:12.420151Z",
     "iopub.status.busy": "2021-07-20T00:21:12.419494Z",
     "iopub.status.idle": "2021-07-20T00:21:12.421439Z",
     "shell.execute_reply": "2021-07-20T00:21:12.422059Z"
    },
    "papermill": {
     "duration": 0.043864,
     "end_time": "2021-07-20T00:21:12.422222",
     "exception": false,
     "start_time": "2021-07-20T00:21:12.378358",
     "status": "completed"
    },
    "tags": []
   },
   "outputs": [],
   "source": [
    "#hide\n",
    "# cols = list(g.columns.values)"
   ]
  },
  {
   "cell_type": "code",
   "execution_count": 29,
   "id": "solved-farming",
   "metadata": {
    "execution": {
     "iopub.execute_input": "2021-07-20T00:21:12.507077Z",
     "iopub.status.busy": "2021-07-20T00:21:12.506439Z",
     "iopub.status.idle": "2021-07-20T00:21:12.513508Z",
     "shell.execute_reply": "2021-07-20T00:21:12.514063Z"
    },
    "papermill": {
     "duration": 0.055413,
     "end_time": "2021-07-20T00:21:12.514211",
     "exception": false,
     "start_time": "2021-07-20T00:21:12.458798",
     "status": "completed"
    },
    "tags": []
   },
   "outputs": [],
   "source": [
    "#hide\n",
    "# cols.insert(0, cols.pop())"
   ]
  },
  {
   "cell_type": "code",
   "execution_count": 30,
   "id": "executed-adoption",
   "metadata": {
    "execution": {
     "iopub.execute_input": "2021-07-20T00:21:12.596926Z",
     "iopub.status.busy": "2021-07-20T00:21:12.596251Z",
     "iopub.status.idle": "2021-07-20T00:21:12.598307Z",
     "shell.execute_reply": "2021-07-20T00:21:12.598845Z"
    },
    "papermill": {
     "duration": 0.044421,
     "end_time": "2021-07-20T00:21:12.598983",
     "exception": false,
     "start_time": "2021-07-20T00:21:12.554562",
     "status": "completed"
    },
    "tags": []
   },
   "outputs": [],
   "source": [
    "#hide\n",
    "# g = g[cols]"
   ]
  },
  {
   "cell_type": "code",
   "execution_count": 31,
   "id": "subject-dublin",
   "metadata": {
    "execution": {
     "iopub.execute_input": "2021-07-20T00:21:12.682425Z",
     "iopub.status.busy": "2021-07-20T00:21:12.681787Z",
     "iopub.status.idle": "2021-07-20T00:21:12.683629Z",
     "shell.execute_reply": "2021-07-20T00:21:12.684335Z"
    },
    "papermill": {
     "duration": 0.045142,
     "end_time": "2021-07-20T00:21:12.684525",
     "exception": false,
     "start_time": "2021-07-20T00:21:12.639383",
     "status": "completed"
    },
    "tags": []
   },
   "outputs": [],
   "source": [
    "#hide\n",
    "# g['continent'] = g['continent'].map(mapping['map.continent'])"
   ]
  },
  {
   "cell_type": "code",
   "execution_count": 32,
   "id": "freelance-scout",
   "metadata": {
    "execution": {
     "iopub.execute_input": "2021-07-20T00:21:12.762694Z",
     "iopub.status.busy": "2021-07-20T00:21:12.762041Z",
     "iopub.status.idle": "2021-07-20T00:21:12.764120Z",
     "shell.execute_reply": "2021-07-20T00:21:12.764627Z"
    },
    "papermill": {
     "duration": 0.0426,
     "end_time": "2021-07-20T00:21:12.764801",
     "exception": false,
     "start_time": "2021-07-20T00:21:12.722201",
     "status": "completed"
    },
    "tags": []
   },
   "outputs": [],
   "source": [
    "#hide\n",
    "# g.head()"
   ]
  },
  {
   "cell_type": "code",
   "execution_count": 33,
   "id": "limited-engine",
   "metadata": {
    "execution": {
     "iopub.execute_input": "2021-07-20T00:21:12.846826Z",
     "iopub.status.busy": "2021-07-20T00:21:12.846181Z",
     "iopub.status.idle": "2021-07-20T00:21:12.848068Z",
     "shell.execute_reply": "2021-07-20T00:21:12.848629Z"
    },
    "papermill": {
     "duration": 0.046352,
     "end_time": "2021-07-20T00:21:12.848793",
     "exception": false,
     "start_time": "2021-07-20T00:21:12.802441",
     "status": "completed"
    },
    "tags": []
   },
   "outputs": [],
   "source": [
    "# hide\n",
    "# g['date'] = g['date'].astype('datetime64[ns]')"
   ]
  },
  {
   "cell_type": "code",
   "execution_count": 34,
   "id": "sophisticated-supervisor",
   "metadata": {
    "execution": {
     "iopub.execute_input": "2021-07-20T00:21:12.928940Z",
     "iopub.status.busy": "2021-07-20T00:21:12.928262Z",
     "iopub.status.idle": "2021-07-20T00:21:12.930261Z",
     "shell.execute_reply": "2021-07-20T00:21:12.930868Z"
    },
    "papermill": {
     "duration": 0.044211,
     "end_time": "2021-07-20T00:21:12.931013",
     "exception": false,
     "start_time": "2021-07-20T00:21:12.886802",
     "status": "completed"
    },
    "tags": []
   },
   "outputs": [],
   "source": [
    "#hide\n",
    "# g['date'] = g.date.dt.dayofyear"
   ]
  },
  {
   "cell_type": "code",
   "execution_count": 35,
   "id": "inside-dubai",
   "metadata": {
    "execution": {
     "iopub.execute_input": "2021-07-20T00:21:13.012169Z",
     "iopub.status.busy": "2021-07-20T00:21:13.011523Z",
     "iopub.status.idle": "2021-07-20T00:21:13.013444Z",
     "shell.execute_reply": "2021-07-20T00:21:13.014092Z"
    },
    "papermill": {
     "duration": 0.044563,
     "end_time": "2021-07-20T00:21:13.014245",
     "exception": false,
     "start_time": "2021-07-20T00:21:12.969682",
     "status": "completed"
    },
    "tags": []
   },
   "outputs": [],
   "source": [
    "#hide\n",
    "# g = g.rename(columns= {'continent':'group','country':'name','cases':'value'})"
   ]
  },
  {
   "cell_type": "code",
   "execution_count": 36,
   "id": "fleet-motorcycle",
   "metadata": {
    "execution": {
     "iopub.execute_input": "2021-07-20T00:21:13.096626Z",
     "iopub.status.busy": "2021-07-20T00:21:13.095942Z",
     "iopub.status.idle": "2021-07-20T00:21:13.097983Z",
     "shell.execute_reply": "2021-07-20T00:21:13.098594Z"
    },
    "papermill": {
     "duration": 0.046234,
     "end_time": "2021-07-20T00:21:13.098774",
     "exception": false,
     "start_time": "2021-07-20T00:21:13.052540",
     "status": "completed"
    },
    "tags": []
   },
   "outputs": [],
   "source": [
    "#hide\n",
    "# cols = ['name','group','day','value']"
   ]
  },
  {
   "cell_type": "code",
   "execution_count": 37,
   "id": "continued-sleeping",
   "metadata": {
    "execution": {
     "iopub.execute_input": "2021-07-20T00:21:13.178771Z",
     "iopub.status.busy": "2021-07-20T00:21:13.178129Z",
     "iopub.status.idle": "2021-07-20T00:21:13.180623Z",
     "shell.execute_reply": "2021-07-20T00:21:13.180055Z"
    },
    "papermill": {
     "duration": 0.044093,
     "end_time": "2021-07-20T00:21:13.180754",
     "exception": false,
     "start_time": "2021-07-20T00:21:13.136661",
     "status": "completed"
    },
    "tags": []
   },
   "outputs": [],
   "source": [
    "#hide\n",
    "# g.rename(columns= {'date':'day'},inplace = True)"
   ]
  },
  {
   "cell_type": "code",
   "execution_count": 38,
   "id": "major-fight",
   "metadata": {
    "execution": {
     "iopub.execute_input": "2021-07-20T00:21:13.260586Z",
     "iopub.status.busy": "2021-07-20T00:21:13.259914Z",
     "iopub.status.idle": "2021-07-20T00:21:13.262423Z",
     "shell.execute_reply": "2021-07-20T00:21:13.261887Z"
    },
    "papermill": {
     "duration": 0.044218,
     "end_time": "2021-07-20T00:21:13.262546",
     "exception": false,
     "start_time": "2021-07-20T00:21:13.218328",
     "status": "completed"
    },
    "tags": []
   },
   "outputs": [],
   "source": [
    "#hide\n",
    "# g = g[cols]"
   ]
  },
  {
   "cell_type": "code",
   "execution_count": 39,
   "id": "structured-mobile",
   "metadata": {
    "execution": {
     "iopub.execute_input": "2021-07-20T00:21:13.350005Z",
     "iopub.status.busy": "2021-07-20T00:21:13.349368Z",
     "iopub.status.idle": "2021-07-20T00:21:13.351828Z",
     "shell.execute_reply": "2021-07-20T00:21:13.351293Z"
    },
    "papermill": {
     "duration": 0.049626,
     "end_time": "2021-07-20T00:21:13.351956",
     "exception": false,
     "start_time": "2021-07-20T00:21:13.302330",
     "status": "completed"
    },
    "tags": []
   },
   "outputs": [],
   "source": [
    "# #hide\n",
    "# g = g[g.group.notna()]"
   ]
  },
  {
   "cell_type": "code",
   "execution_count": 40,
   "id": "determined-closing",
   "metadata": {
    "execution": {
     "iopub.execute_input": "2021-07-20T00:21:13.433618Z",
     "iopub.status.busy": "2021-07-20T00:21:13.432968Z",
     "iopub.status.idle": "2021-07-20T00:21:13.436988Z",
     "shell.execute_reply": "2021-07-20T00:21:13.437871Z"
    },
    "papermill": {
     "duration": 0.047482,
     "end_time": "2021-07-20T00:21:13.438032",
     "exception": false,
     "start_time": "2021-07-20T00:21:13.390550",
     "status": "completed"
    },
    "tags": []
   },
   "outputs": [],
   "source": [
    "# #hide\n",
    "# colors = dict(zip(\n",
    "#     [\"Oceania\", \"Europe\", \"Asia\", \"South America\", \"Middle East\", \"North America\", \"Africa\"],\n",
    "#     [\"#adb0ff\", \"#ffb3ff\", \"#90d595\", \"#e48381\", \"#aafbff\", \"#f7bb5f\", \"#eafb50\"]\n",
    "# ))\n",
    "# group_lk = g.set_index('name')['group'].to_dict()"
   ]
  },
  {
   "cell_type": "code",
   "execution_count": null,
   "id": "gross-drinking",
   "metadata": {
    "papermill": {
     "duration": 0.038239,
     "end_time": "2021-07-20T00:21:13.515481",
     "exception": false,
     "start_time": "2021-07-20T00:21:13.477242",
     "status": "completed"
    },
    "tags": []
   },
   "outputs": [],
   "source": []
  },
  {
   "cell_type": "code",
   "execution_count": 41,
   "id": "subject-macintosh",
   "metadata": {
    "execution": {
     "iopub.execute_input": "2021-07-20T00:21:13.596610Z",
     "iopub.status.busy": "2021-07-20T00:21:13.595918Z",
     "iopub.status.idle": "2021-07-20T00:21:13.597876Z",
     "shell.execute_reply": "2021-07-20T00:21:13.598391Z"
    },
    "papermill": {
     "duration": 0.044827,
     "end_time": "2021-07-20T00:21:13.598543",
     "exception": false,
     "start_time": "2021-07-20T00:21:13.553716",
     "status": "completed"
    },
    "tags": []
   },
   "outputs": [],
   "source": [
    "# #hide\n",
    "# fig, ax = plt.subplots(figsize=(15, 8))\n",
    "\n",
    "# def draw_barchart(current_day):\n",
    "#     dff = g[g['day'].eq(current_day)].sort_values(by='value', ascending=True).tail(10)\n",
    "#     ax.clear()\n",
    "#     ax.barh(dff['name'], dff['value'], color=[colors[group_lk[x]] for x in dff['name']])\n",
    "#     dx = dff['value'].max() / 200\n",
    "    \n",
    "#     for i, (value, name) in enumerate(zip(dff['value'], dff['name'])):\n",
    "#         ax.text(value-dx, i,     name,           size=14, weight=600, ha='right', va='bottom')\n",
    "#         ax.text(value-dx, i-.25, group_lk[name], size=10, color='#444444', ha='right', va='baseline')\n",
    "#         ax.text(value+dx, i,     f'{value:,.0f}',  size=14, ha='left',  va='center')\n",
    "#     ax.text(1, 0.4, current_day, transform=ax.transAxes, color='#777777', size=46, ha='right', weight=800)\n",
    "#     ax.text(0, 1.06, 'Population (thousands)', transform=ax.transAxes, size=12, color='#777777')\n",
    "#     ax.xaxis.set_major_formatter(ticker.StrMethodFormatter('{x:,.0f}'))\n",
    "#     ax.xaxis.set_ticks_position('top')\n",
    "#     ax.tick_params(axis='x', colors='#777777', labelsize=12)\n",
    "#     ax.set_yticks([])\n",
    "#     ax.margins(0, 0.01)\n",
    "#     ax.grid(which='major', axis='x', linestyle='-')\n",
    "#     ax.set_axisbelow(True)\n",
    "    \n",
    "#     ax.text(0, 1.15, 'Coronavirus',\n",
    "#             transform=ax.transAxes, size=24, weight=600, ha='left', va='top')\n",
    "# #     ax.text(1, 0, 'by @pratapvardhan; credit @jburnmurdoch', transform=ax.transAxes, color='#777777', ha='right',\n",
    "# #             bbox=dict(facecolor='white', alpha=0.8, edgecolor='white'))\n",
    "#     plt.box(False)"
   ]
  },
  {
   "cell_type": "code",
   "execution_count": 42,
   "id": "sexual-wages",
   "metadata": {
    "execution": {
     "iopub.execute_input": "2021-07-20T00:21:13.678785Z",
     "iopub.status.busy": "2021-07-20T00:21:13.678122Z",
     "iopub.status.idle": "2021-07-20T00:21:13.680350Z",
     "shell.execute_reply": "2021-07-20T00:21:13.680947Z"
    },
    "papermill": {
     "duration": 0.044438,
     "end_time": "2021-07-20T00:21:13.681097",
     "exception": false,
     "start_time": "2021-07-20T00:21:13.636659",
     "status": "completed"
    },
    "tags": []
   },
   "outputs": [],
   "source": [
    "# #hide_input\n",
    "# fig, ax = plt.subplots(figsize=(15, 8))\n",
    "# animator = animation.FuncAnimation(fig, draw_barchart, frames=range(g.day.values.min(), g.day.values.max()))\n",
    "# HTML(animator.to_jshtml())\n",
    "# # or use animator.to_html5_video() or animator.save() "
   ]
  },
  {
   "cell_type": "code",
   "execution_count": null,
   "id": "australian-container",
   "metadata": {
    "papermill": {
     "duration": 0.038334,
     "end_time": "2021-07-20T00:21:13.758169",
     "exception": false,
     "start_time": "2021-07-20T00:21:13.719835",
     "status": "completed"
    },
    "tags": []
   },
   "outputs": [],
   "source": []
  },
  {
   "cell_type": "code",
   "execution_count": null,
   "id": "mediterranean-pontiac",
   "metadata": {
    "papermill": {
     "duration": 0.037819,
     "end_time": "2021-07-20T00:21:13.834121",
     "exception": false,
     "start_time": "2021-07-20T00:21:13.796302",
     "status": "completed"
    },
    "tags": []
   },
   "outputs": [],
   "source": []
  },
  {
   "cell_type": "code",
   "execution_count": null,
   "id": "aging-legislature",
   "metadata": {
    "papermill": {
     "duration": 0.038642,
     "end_time": "2021-07-20T00:21:13.910945",
     "exception": false,
     "start_time": "2021-07-20T00:21:13.872303",
     "status": "completed"
    },
    "tags": []
   },
   "outputs": [],
   "source": []
  }
 ],
 "metadata": {
  "kernelspec": {
   "display_name": "Python 3",
   "language": "python",
   "name": "python3"
  },
  "language_info": {
   "codemirror_mode": {
    "name": "ipython",
    "version": 3
   },
   "file_extension": ".py",
   "mimetype": "text/x-python",
   "name": "python",
   "nbconvert_exporter": "python",
   "pygments_lexer": "ipython3",
   "version": "3.6.14"
  },
  "papermill": {
   "duration": 7.029074,
   "end_time": "2021-07-20T00:21:14.356703",
   "environment_variables": {},
   "exception": null,
   "input_path": "2020-03-21-covid19exp.ipynb",
   "output_path": "2020-03-21-covid19exp.ipynb",
   "parameters": {},
   "start_time": "2021-07-20T00:21:07.327629",
   "version": "2.0.0"
  }
 },
 "nbformat": 4,
 "nbformat_minor": 5
}