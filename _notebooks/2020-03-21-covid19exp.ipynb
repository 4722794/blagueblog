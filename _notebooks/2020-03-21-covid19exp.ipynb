{
 "cells": [
  {
   "cell_type": "markdown",
   "id": "muslim-click",
   "metadata": {
    "papermill": {
     "duration": 0.045425,
     "end_time": "2022-12-01T00:46:28.739988",
     "exception": false,
     "start_time": "2022-12-01T00:46:28.694563",
     "status": "completed"
    },
    "tags": []
   },
   "source": [
    "# COVID-19 Case Race\n",
    "> A race chart to see rising cases around the world\n",
    "\n",
    "- author: Hargun Oberoi\n",
    "- image: images/covid-overview.png\n",
    "- hide: false\n",
    "- badges: false"
   ]
  },
  {
   "cell_type": "code",
   "execution_count": 1,
   "id": "proof-material",
   "metadata": {
    "execution": {
     "iopub.execute_input": "2022-12-01T00:46:28.835649Z",
     "iopub.status.busy": "2022-12-01T00:46:28.833059Z",
     "iopub.status.idle": "2022-12-01T00:46:29.255705Z",
     "shell.execute_reply": "2022-12-01T00:46:29.254925Z"
    },
    "papermill": {
     "duration": 0.474293,
     "end_time": "2022-12-01T00:46:29.255914",
     "exception": false,
     "start_time": "2022-12-01T00:46:28.781621",
     "status": "completed"
    },
    "tags": []
   },
   "outputs": [],
   "source": [
    "#hide\n",
    "import numpy as np\n",
    "import pandas as pd\n",
    "from jinja2 import Template\n",
    "from IPython.display import HTML"
   ]
  },
  {
   "cell_type": "code",
   "execution_count": 2,
   "id": "developed-terminology",
   "metadata": {
    "execution": {
     "iopub.execute_input": "2022-12-01T00:46:29.340423Z",
     "iopub.status.busy": "2022-12-01T00:46:29.339369Z",
     "iopub.status.idle": "2022-12-01T00:46:29.341241Z",
     "shell.execute_reply": "2022-12-01T00:46:29.342055Z"
    },
    "papermill": {
     "duration": 0.04735,
     "end_time": "2022-12-01T00:46:29.342382",
     "exception": false,
     "start_time": "2022-12-01T00:46:29.295032",
     "status": "completed"
    },
    "tags": []
   },
   "outputs": [],
   "source": [
    "#hide\n",
    "\n",
    "# FETCH\n",
    "base_url = 'https://raw.githubusercontent.com/pratapvardhan/notebooks/master/covid19/'\n",
    "paths = {\n",
    "    'mapping': base_url + 'mapping_countries.csv',\n",
    "    'overview': base_url + 'overview.tpl'\n",
    "}"
   ]
  },
  {
   "cell_type": "code",
   "execution_count": 3,
   "id": "dynamic-saver",
   "metadata": {
    "execution": {
     "iopub.execute_input": "2022-12-01T00:46:29.424031Z",
     "iopub.status.busy": "2022-12-01T00:46:29.423066Z",
     "iopub.status.idle": "2022-12-01T00:46:29.436988Z",
     "shell.execute_reply": "2022-12-01T00:46:29.437966Z"
    },
    "papermill": {
     "duration": 0.058262,
     "end_time": "2022-12-01T00:46:29.438125",
     "exception": false,
     "start_time": "2022-12-01T00:46:29.379863",
     "status": "completed"
    },
    "tags": []
   },
   "outputs": [
    {
     "data": {
      "text/plain": [
       "'https://raw.githubusercontent.com/pratapvardhan/notebooks/master/covid19/mapping_countries.csv'"
      ]
     },
     "execution_count": 3,
     "metadata": {},
     "output_type": "execute_result"
    }
   ],
   "source": [
    "#hide\n",
    "paths['mapping']"
   ]
  },
  {
   "cell_type": "code",
   "execution_count": 4,
   "id": "urban-software",
   "metadata": {
    "execution": {
     "iopub.execute_input": "2022-12-01T00:46:29.521740Z",
     "iopub.status.busy": "2022-12-01T00:46:29.520962Z",
     "iopub.status.idle": "2022-12-01T00:46:29.526350Z",
     "shell.execute_reply": "2022-12-01T00:46:29.527119Z"
    },
    "papermill": {
     "duration": 0.047308,
     "end_time": "2022-12-01T00:46:29.527321",
     "exception": false,
     "start_time": "2022-12-01T00:46:29.480013",
     "status": "completed"
    },
    "tags": []
   },
   "outputs": [],
   "source": [
    "#hide\n",
    "def get_mappings(url):\n",
    "    df = pd.read_csv(url)\n",
    "    return {\n",
    "        'df': df,\n",
    "        'replace.country': dict(df.dropna(subset=['Name']).set_index('Country')['Name']),\n",
    "        'map.continent': dict(df.set_index('Name')['Continent'])\n",
    "    }"
   ]
  },
  {
   "cell_type": "code",
   "execution_count": 5,
   "id": "intimate-machinery",
   "metadata": {
    "execution": {
     "iopub.execute_input": "2022-12-01T00:46:29.619351Z",
     "iopub.status.busy": "2022-12-01T00:46:29.618587Z",
     "iopub.status.idle": "2022-12-01T00:46:29.671225Z",
     "shell.execute_reply": "2022-12-01T00:46:29.671825Z"
    },
    "papermill": {
     "duration": 0.102286,
     "end_time": "2022-12-01T00:46:29.671991",
     "exception": false,
     "start_time": "2022-12-01T00:46:29.569705",
     "status": "completed"
    },
    "tags": []
   },
   "outputs": [],
   "source": [
    "#hide\n",
    "mapping = get_mappings(paths['mapping'])"
   ]
  },
  {
   "cell_type": "code",
   "execution_count": 6,
   "id": "certified-tactics",
   "metadata": {
    "execution": {
     "iopub.execute_input": "2022-12-01T00:46:29.757140Z",
     "iopub.status.busy": "2022-12-01T00:46:29.756328Z",
     "iopub.status.idle": "2022-12-01T00:46:29.759609Z",
     "shell.execute_reply": "2022-12-01T00:46:29.760286Z"
    },
    "papermill": {
     "duration": 0.047702,
     "end_time": "2022-12-01T00:46:29.760455",
     "exception": false,
     "start_time": "2022-12-01T00:46:29.712753",
     "status": "completed"
    },
    "tags": []
   },
   "outputs": [],
   "source": [
    "#hide\n",
    "def get_template(path):\n",
    "    from urllib.parse import urlparse\n",
    "    if bool(urlparse(path).netloc):\n",
    "        from urllib.request import urlopen\n",
    "        return urlopen(path).read().decode('utf8')\n",
    "    return open(path).read()"
   ]
  },
  {
   "cell_type": "code",
   "execution_count": 7,
   "id": "realistic-blast",
   "metadata": {
    "execution": {
     "iopub.execute_input": "2022-12-01T00:46:29.845604Z",
     "iopub.status.busy": "2022-12-01T00:46:29.844803Z",
     "iopub.status.idle": "2022-12-01T00:46:29.847392Z",
     "shell.execute_reply": "2022-12-01T00:46:29.848143Z"
    },
    "papermill": {
     "duration": 0.046585,
     "end_time": "2022-12-01T00:46:29.848318",
     "exception": false,
     "start_time": "2022-12-01T00:46:29.801733",
     "status": "completed"
    },
    "tags": []
   },
   "outputs": [],
   "source": [
    "#hide\n",
    "def get_frame(name):\n",
    "    url = (\n",
    "        'https://raw.githubusercontent.com/CSSEGISandData/COVID-19/master/csse_covid_19_data/'\n",
    "        f'csse_covid_19_time_series/time_series_covid19_{name}_global.csv')\n",
    "    df = pd.read_csv(url)\n",
    "    # rename countries\n",
    "    df['Country/Region'] = df['Country/Region'].replace(mapping['replace.country'])\n",
    "    return df"
   ]
  },
  {
   "cell_type": "code",
   "execution_count": 8,
   "id": "affiliated-characterization",
   "metadata": {
    "execution": {
     "iopub.execute_input": "2022-12-01T00:46:29.933987Z",
     "iopub.status.busy": "2022-12-01T00:46:29.933194Z",
     "iopub.status.idle": "2022-12-01T00:46:29.936623Z",
     "shell.execute_reply": "2022-12-01T00:46:29.935976Z"
    },
    "papermill": {
     "duration": 0.051919,
     "end_time": "2022-12-01T00:46:29.936750",
     "exception": false,
     "start_time": "2022-12-01T00:46:29.884831",
     "status": "completed"
    },
    "tags": []
   },
   "outputs": [],
   "source": [
    "#hide\n",
    "def get_dates(df):\n",
    "    dt_cols = df.columns[~df.columns.isin(['Province/State', 'Country/Region', 'Lat', 'Long'])]\n",
    "    LAST_DATE_I = -1\n",
    "    # sometimes last column may be empty, then go backwards\n",
    "    for i in range(-1, -len(dt_cols), -1):\n",
    "        if not df[dt_cols[i]].fillna(0).eq(0).all():\n",
    "            LAST_DATE_I = i\n",
    "            break\n",
    "    return LAST_DATE_I, dt_cols"
   ]
  },
  {
   "cell_type": "code",
   "execution_count": 9,
   "id": "recent-optimization",
   "metadata": {
    "execution": {
     "iopub.execute_input": "2022-12-01T00:46:30.020026Z",
     "iopub.status.busy": "2022-12-01T00:46:30.019271Z",
     "iopub.status.idle": "2022-12-01T00:46:30.745866Z",
     "shell.execute_reply": "2022-12-01T00:46:30.746453Z"
    },
    "papermill": {
     "duration": 0.774061,
     "end_time": "2022-12-01T00:46:30.746664",
     "exception": false,
     "start_time": "2022-12-01T00:46:29.972603",
     "status": "completed"
    },
    "tags": []
   },
   "outputs": [],
   "source": [
    "#hide\n",
    "COL_REGION = 'Country/Region'\n",
    "# Confirmed, Recovered, Deaths\n",
    "df = get_frame('confirmed')\n",
    "# dft_: timeseries, dfc_: today country agg\n",
    "dft_cases = df\n",
    "dft_deaths = get_frame('deaths')\n",
    "dft_recovered = get_frame('recovered')\n",
    "LAST_DATE_I, dt_cols = get_dates(df)"
   ]
  },
  {
   "cell_type": "code",
   "execution_count": 10,
   "id": "absolute-copper",
   "metadata": {
    "execution": {
     "iopub.execute_input": "2022-12-01T00:46:30.832604Z",
     "iopub.status.busy": "2022-12-01T00:46:30.831712Z",
     "iopub.status.idle": "2022-12-01T00:46:30.835208Z",
     "shell.execute_reply": "2022-12-01T00:46:30.836163Z"
    },
    "papermill": {
     "duration": 0.050365,
     "end_time": "2022-12-01T00:46:30.836444",
     "exception": false,
     "start_time": "2022-12-01T00:46:30.786079",
     "status": "completed"
    },
    "tags": []
   },
   "outputs": [],
   "source": [
    "#hide\n",
    "LAST_DATE_I, dt_cols = get_dates(df)\n",
    "dt_today =dt_cols[LAST_DATE_I]\n",
    "# dt_5day = dt_cols[LAST_DATE_I - 5]\n",
    "dt_yday = dt_cols[LAST_DATE_I - 1]"
   ]
  },
  {
   "cell_type": "code",
   "execution_count": 11,
   "id": "restricted-sheriff",
   "metadata": {
    "execution": {
     "iopub.execute_input": "2022-12-01T00:46:30.927203Z",
     "iopub.status.busy": "2022-12-01T00:46:30.926228Z",
     "iopub.status.idle": "2022-12-01T00:46:30.932789Z",
     "shell.execute_reply": "2022-12-01T00:46:30.932089Z"
    },
    "papermill": {
     "duration": 0.05811,
     "end_time": "2022-12-01T00:46:30.932937",
     "exception": false,
     "start_time": "2022-12-01T00:46:30.874827",
     "status": "completed"
    },
    "tags": []
   },
   "outputs": [],
   "source": [
    "#hide\n",
    "dfc_cases = dft_cases.groupby(COL_REGION)[dt_today].sum()\n",
    "dfc_deaths = dft_deaths.groupby(COL_REGION)[dt_today].sum()\n",
    "# dfp_cases = dft_cases.groupby(COL_REGION)[dt_5day].sum()\n",
    "# dfp_deaths = dft_deaths.groupby(COL_REGION)[dt_5day].sum()\n",
    "dfp_cases = dft_cases.groupby(COL_REGION)[dt_yday].sum()\n",
    "dfp_deaths = dft_deaths.groupby(COL_REGION)[dt_yday].sum()"
   ]
  },
  {
   "cell_type": "code",
   "execution_count": 12,
   "id": "deluxe-hepatitis",
   "metadata": {
    "execution": {
     "iopub.execute_input": "2022-12-01T00:46:31.015930Z",
     "iopub.status.busy": "2022-12-01T00:46:31.015206Z",
     "iopub.status.idle": "2022-12-01T00:46:31.020597Z",
     "shell.execute_reply": "2022-12-01T00:46:31.021281Z"
    },
    "papermill": {
     "duration": 0.051016,
     "end_time": "2022-12-01T00:46:31.021454",
     "exception": false,
     "start_time": "2022-12-01T00:46:30.970438",
     "status": "completed"
    },
    "tags": []
   },
   "outputs": [],
   "source": [
    "#hide\n",
    "df_table = (pd.DataFrame(dict(Cases = dfc_cases, Deaths = dfc_deaths, PCases = dfp_cases, PDeaths = dfp_deaths))\n",
    "            .sort_values(by = ['Cases','Deaths'], ascending = [False, False])\n",
    "            .reset_index())"
   ]
  },
  {
   "cell_type": "code",
   "execution_count": 13,
   "id": "educational-chancellor",
   "metadata": {
    "execution": {
     "iopub.execute_input": "2022-12-01T00:46:31.125761Z",
     "iopub.status.busy": "2022-12-01T00:46:31.125047Z",
     "iopub.status.idle": "2022-12-01T00:46:31.135655Z",
     "shell.execute_reply": "2022-12-01T00:46:31.136492Z"
    },
    "papermill": {
     "duration": 0.073404,
     "end_time": "2022-12-01T00:46:31.136662",
     "exception": false,
     "start_time": "2022-12-01T00:46:31.063258",
     "status": "completed"
    },
    "tags": []
   },
   "outputs": [
    {
     "data": {
      "text/html": [
       "<div>\n",
       "<style scoped>\n",
       "    .dataframe tbody tr th:only-of-type {\n",
       "        vertical-align: middle;\n",
       "    }\n",
       "\n",
       "    .dataframe tbody tr th {\n",
       "        vertical-align: top;\n",
       "    }\n",
       "\n",
       "    .dataframe thead th {\n",
       "        text-align: right;\n",
       "    }\n",
       "</style>\n",
       "<table border=\"1\" class=\"dataframe\">\n",
       "  <thead>\n",
       "    <tr style=\"text-align: right;\">\n",
       "      <th></th>\n",
       "      <th>Country/Region</th>\n",
       "      <th>Cases</th>\n",
       "      <th>Deaths</th>\n",
       "      <th>PCases</th>\n",
       "      <th>PDeaths</th>\n",
       "      <th>Cases (+)</th>\n",
       "      <th>Deaths (+)</th>\n",
       "      <th>Fatality Rate</th>\n",
       "      <th>Continent</th>\n",
       "    </tr>\n",
       "  </thead>\n",
       "  <tbody>\n",
       "    <tr>\n",
       "      <th>0</th>\n",
       "      <td>US</td>\n",
       "      <td>98673988</td>\n",
       "      <td>1079870</td>\n",
       "      <td>98628566</td>\n",
       "      <td>1079477</td>\n",
       "      <td>45422</td>\n",
       "      <td>393</td>\n",
       "      <td>1.09</td>\n",
       "      <td>North America</td>\n",
       "    </tr>\n",
       "    <tr>\n",
       "      <th>1</th>\n",
       "      <td>India</td>\n",
       "      <td>44673567</td>\n",
       "      <td>530620</td>\n",
       "      <td>44673293</td>\n",
       "      <td>530615</td>\n",
       "      <td>274</td>\n",
       "      <td>5</td>\n",
       "      <td>1.19</td>\n",
       "      <td>Asia</td>\n",
       "    </tr>\n",
       "    <tr>\n",
       "      <th>2</th>\n",
       "      <td>France</td>\n",
       "      <td>37979248</td>\n",
       "      <td>159915</td>\n",
       "      <td>37885199</td>\n",
       "      <td>159811</td>\n",
       "      <td>94049</td>\n",
       "      <td>104</td>\n",
       "      <td>0.42</td>\n",
       "      <td>Europe</td>\n",
       "    </tr>\n",
       "    <tr>\n",
       "      <th>3</th>\n",
       "      <td>Germany</td>\n",
       "      <td>36463485</td>\n",
       "      <td>157791</td>\n",
       "      <td>36419717</td>\n",
       "      <td>157657</td>\n",
       "      <td>43768</td>\n",
       "      <td>134</td>\n",
       "      <td>0.43</td>\n",
       "      <td>Europe</td>\n",
       "    </tr>\n",
       "    <tr>\n",
       "      <th>4</th>\n",
       "      <td>Brazil</td>\n",
       "      <td>35227599</td>\n",
       "      <td>689665</td>\n",
       "      <td>35149503</td>\n",
       "      <td>689442</td>\n",
       "      <td>78096</td>\n",
       "      <td>223</td>\n",
       "      <td>1.96</td>\n",
       "      <td>South America</td>\n",
       "    </tr>\n",
       "  </tbody>\n",
       "</table>\n",
       "</div>"
      ],
      "text/plain": [
       "  Country/Region     Cases   Deaths    PCases  PDeaths  Cases (+)  Deaths (+)  \\\n",
       "0             US  98673988  1079870  98628566  1079477      45422         393   \n",
       "1          India  44673567   530620  44673293   530615        274           5   \n",
       "2         France  37979248   159915  37885199   159811      94049         104   \n",
       "3        Germany  36463485   157791  36419717   157657      43768         134   \n",
       "4         Brazil  35227599   689665  35149503   689442      78096         223   \n",
       "\n",
       "   Fatality Rate      Continent  \n",
       "0           1.09  North America  \n",
       "1           1.19           Asia  \n",
       "2           0.42         Europe  \n",
       "3           0.43         Europe  \n",
       "4           1.96  South America  "
      ]
     },
     "execution_count": 13,
     "metadata": {},
     "output_type": "execute_result"
    }
   ],
   "source": [
    "#hide\n",
    "for c in 'Cases, Deaths'.split(', '):\n",
    "    df_table[f'{c} (+)'] = (df_table[c] - df_table[f'P{c}']).clip(0)\n",
    "    #Clip ça veut dire, les chiffres negatif sont interdit\n",
    "df_table['Fatality Rate'] = (100* df_table['Deaths']/ df_table['Cases']).round(2)\n",
    "df_table['Continent'] = df_table['Country/Region'].map(mapping['map.continent'])\n",
    "df_table.head(5)"
   ]
  },
  {
   "cell_type": "code",
   "execution_count": 14,
   "id": "aboriginal-bulgaria",
   "metadata": {
    "execution": {
     "iopub.execute_input": "2022-12-01T00:46:31.221886Z",
     "iopub.status.busy": "2022-12-01T00:46:31.221186Z",
     "iopub.status.idle": "2022-12-01T00:46:31.224100Z",
     "shell.execute_reply": "2022-12-01T00:46:31.223537Z"
    },
    "papermill": {
     "duration": 0.047282,
     "end_time": "2022-12-01T00:46:31.224221",
     "exception": false,
     "start_time": "2022-12-01T00:46:31.176939",
     "status": "completed"
    },
    "tags": []
   },
   "outputs": [],
   "source": [
    "#hide\n",
    "#delete problematic countries from table\n",
    "df_table = df_table[~df_table['Country/Region'].isin(['Cape Verde', 'Cruise Ship', 'Kosovo'])]"
   ]
  },
  {
   "cell_type": "code",
   "execution_count": 15,
   "id": "fantastic-effect",
   "metadata": {
    "execution": {
     "iopub.execute_input": "2022-12-01T00:46:31.316634Z",
     "iopub.status.busy": "2022-12-01T00:46:31.315948Z",
     "iopub.status.idle": "2022-12-01T00:46:31.338567Z",
     "shell.execute_reply": "2022-12-01T00:46:31.339306Z"
    },
    "papermill": {
     "duration": 0.071281,
     "end_time": "2022-12-01T00:46:31.339490",
     "exception": false,
     "start_time": "2022-12-01T00:46:31.268209",
     "status": "completed"
    },
    "tags": []
   },
   "outputs": [
    {
     "data": {
      "text/html": [
       "<div>\n",
       "<style scoped>\n",
       "    .dataframe tbody tr th:only-of-type {\n",
       "        vertical-align: middle;\n",
       "    }\n",
       "\n",
       "    .dataframe tbody tr th {\n",
       "        vertical-align: top;\n",
       "    }\n",
       "\n",
       "    .dataframe thead th {\n",
       "        text-align: right;\n",
       "    }\n",
       "</style>\n",
       "<table border=\"1\" class=\"dataframe\">\n",
       "  <thead>\n",
       "    <tr style=\"text-align: right;\">\n",
       "      <th></th>\n",
       "      <th>Country/Region</th>\n",
       "      <th>Cases</th>\n",
       "      <th>Deaths</th>\n",
       "      <th>PCases</th>\n",
       "      <th>PDeaths</th>\n",
       "      <th>Cases (+)</th>\n",
       "      <th>Deaths (+)</th>\n",
       "      <th>Fatality Rate</th>\n",
       "      <th>Continent</th>\n",
       "    </tr>\n",
       "  </thead>\n",
       "  <tbody>\n",
       "    <tr>\n",
       "      <th>0</th>\n",
       "      <td>US</td>\n",
       "      <td>98673988</td>\n",
       "      <td>1079870</td>\n",
       "      <td>98628566</td>\n",
       "      <td>1079477</td>\n",
       "      <td>45422</td>\n",
       "      <td>393</td>\n",
       "      <td>1.1</td>\n",
       "      <td>North America</td>\n",
       "    </tr>\n",
       "    <tr>\n",
       "      <th>1</th>\n",
       "      <td>India</td>\n",
       "      <td>44673567</td>\n",
       "      <td>530620</td>\n",
       "      <td>44673293</td>\n",
       "      <td>530615</td>\n",
       "      <td>274</td>\n",
       "      <td>5</td>\n",
       "      <td>1.2</td>\n",
       "      <td>Asia</td>\n",
       "    </tr>\n",
       "    <tr>\n",
       "      <th>2</th>\n",
       "      <td>France</td>\n",
       "      <td>37979248</td>\n",
       "      <td>159915</td>\n",
       "      <td>37885199</td>\n",
       "      <td>159811</td>\n",
       "      <td>94049</td>\n",
       "      <td>104</td>\n",
       "      <td>0.4</td>\n",
       "      <td>Europe</td>\n",
       "    </tr>\n",
       "    <tr>\n",
       "      <th>3</th>\n",
       "      <td>Germany</td>\n",
       "      <td>36463485</td>\n",
       "      <td>157791</td>\n",
       "      <td>36419717</td>\n",
       "      <td>157657</td>\n",
       "      <td>43768</td>\n",
       "      <td>134</td>\n",
       "      <td>0.4</td>\n",
       "      <td>Europe</td>\n",
       "    </tr>\n",
       "    <tr>\n",
       "      <th>4</th>\n",
       "      <td>Brazil</td>\n",
       "      <td>35227599</td>\n",
       "      <td>689665</td>\n",
       "      <td>35149503</td>\n",
       "      <td>689442</td>\n",
       "      <td>78096</td>\n",
       "      <td>223</td>\n",
       "      <td>2.0</td>\n",
       "      <td>South America</td>\n",
       "    </tr>\n",
       "  </tbody>\n",
       "</table>\n",
       "</div>"
      ],
      "text/plain": [
       "  Country/Region     Cases   Deaths    PCases  PDeaths  Cases (+)  Deaths (+)  \\\n",
       "0             US  98673988  1079870  98628566  1079477      45422         393   \n",
       "1          India  44673567   530620  44673293   530615        274           5   \n",
       "2         France  37979248   159915  37885199   159811      94049         104   \n",
       "3        Germany  36463485   157791  36419717   157657      43768         134   \n",
       "4         Brazil  35227599   689665  35149503   689442      78096         223   \n",
       "\n",
       "   Fatality Rate      Continent  \n",
       "0            1.1  North America  \n",
       "1            1.2           Asia  \n",
       "2            0.4         Europe  \n",
       "3            0.4         Europe  \n",
       "4            2.0  South America  "
      ]
     },
     "execution_count": 15,
     "metadata": {},
     "output_type": "execute_result"
    }
   ],
   "source": [
    "#hide\n",
    "df_table = (pd.DataFrame(dict(Cases=dfc_cases, Deaths=dfc_deaths, PCases=dfp_cases, PDeaths=dfp_deaths))\n",
    "             .sort_values(by=['Cases', 'Deaths'], ascending=[False, False])\n",
    "             .reset_index())\n",
    "df_table.rename(columns={'index': 'Country/Region'}, inplace=True)\n",
    "for c in 'Cases, Deaths'.split(', '):\n",
    "    df_table[f'{c} (+)'] = (df_table[c] - df_table[f'P{c}']).clip(0)  # DATA BUG\n",
    "df_table['Fatality Rate'] = (100 * df_table['Deaths'] / df_table['Cases']).round(1)\n",
    "df_table['Continent'] = df_table['Country/Region'].map(mapping['map.continent'])\n",
    "df_table.head(5)"
   ]
  },
  {
   "cell_type": "code",
   "execution_count": 16,
   "id": "fewer-occasion",
   "metadata": {
    "execution": {
     "iopub.execute_input": "2022-12-01T00:46:31.434415Z",
     "iopub.status.busy": "2022-12-01T00:46:31.433573Z",
     "iopub.status.idle": "2022-12-01T00:46:31.436235Z",
     "shell.execute_reply": "2022-12-01T00:46:31.436958Z"
    },
    "papermill": {
     "duration": 0.05268,
     "end_time": "2022-12-01T00:46:31.437133",
     "exception": false,
     "start_time": "2022-12-01T00:46:31.384453",
     "status": "completed"
    },
    "tags": []
   },
   "outputs": [],
   "source": [
    "#hide\n",
    "#delete problematic countries from table\n",
    "df_table = df_table[~df_table['Country/Region'].isin(['Cape Verde', 'Cruise Ship', 'Kosovo'])]"
   ]
  },
  {
   "cell_type": "code",
   "execution_count": 17,
   "id": "related-center",
   "metadata": {
    "execution": {
     "iopub.execute_input": "2022-12-01T00:46:31.543829Z",
     "iopub.status.busy": "2022-12-01T00:46:31.543066Z",
     "iopub.status.idle": "2022-12-01T00:46:31.545989Z",
     "shell.execute_reply": "2022-12-01T00:46:31.545360Z"
    },
    "papermill": {
     "duration": 0.067357,
     "end_time": "2022-12-01T00:46:31.546121",
     "exception": false,
     "start_time": "2022-12-01T00:46:31.478764",
     "status": "completed"
    },
    "tags": []
   },
   "outputs": [],
   "source": [
    "#hide\n",
    "metrics = [df_table.columns[index] for index in [1,2,5,6]]\n",
    "# s_china = df_table[df_table['Country/Region'].eq('China')][metrics].sum().add_prefix('China ')\n",
    "s_us = df_table[df_table['Country/Region'].eq('US')][metrics].sum().add_prefix('US ')\n",
    "s_eu = df_table[df_table['Continent'].eq('Europe')][metrics].sum().add_prefix('EU ')\n",
    "s_ind = df_table[df_table['Country/Region'].eq('India')][metrics].sum().add_prefix('India ')\n",
    "summary = {'updated': pd.to_datetime(dt_today), 'since': pd.to_datetime(dt_yday)}\n",
    "summary = {'updated': pd.to_datetime(dt_today), 'since': pd.to_datetime(dt_yday)}\n",
    "summary = {**summary, **df_table[metrics].sum(), **s_ind, **s_us, **s_eu}"
   ]
  },
  {
   "cell_type": "code",
   "execution_count": 18,
   "id": "engaging-syndrome",
   "metadata": {
    "execution": {
     "iopub.execute_input": "2022-12-01T00:46:31.637538Z",
     "iopub.status.busy": "2022-12-01T00:46:31.636831Z",
     "iopub.status.idle": "2022-12-01T00:46:31.661683Z",
     "shell.execute_reply": "2022-12-01T00:46:31.662258Z"
    },
    "papermill": {
     "duration": 0.072554,
     "end_time": "2022-12-01T00:46:31.662548",
     "exception": false,
     "start_time": "2022-12-01T00:46:31.589994",
     "status": "completed"
    },
    "tags": []
   },
   "outputs": [],
   "source": [
    "#hide\n",
    "dft_ct_new_cases = dft_cases.groupby(COL_REGION)[dt_cols].sum().diff(axis=1).fillna(0).astype(int)"
   ]
  },
  {
   "cell_type": "code",
   "execution_count": 19,
   "id": "neutral-assignment",
   "metadata": {
    "execution": {
     "iopub.execute_input": "2022-12-01T00:46:31.754430Z",
     "iopub.status.busy": "2022-12-01T00:46:31.753698Z",
     "iopub.status.idle": "2022-12-01T00:46:31.756079Z",
     "shell.execute_reply": "2022-12-01T00:46:31.756683Z"
    },
    "papermill": {
     "duration": 0.050218,
     "end_time": "2022-12-01T00:46:31.756842",
     "exception": false,
     "start_time": "2022-12-01T00:46:31.706624",
     "status": "completed"
    },
    "tags": []
   },
   "outputs": [],
   "source": [
    "#hide\n",
    "everydaycases = dft_ct_new_cases.cumsum(axis=1)"
   ]
  },
  {
   "cell_type": "code",
   "execution_count": 20,
   "id": "parliamentary-calgary",
   "metadata": {
    "execution": {
     "iopub.execute_input": "2022-12-01T00:46:31.845900Z",
     "iopub.status.busy": "2022-12-01T00:46:31.845171Z",
     "iopub.status.idle": "2022-12-01T00:46:32.533392Z",
     "shell.execute_reply": "2022-12-01T00:46:32.532647Z"
    },
    "papermill": {
     "duration": 0.73675,
     "end_time": "2022-12-01T00:46:32.533531",
     "exception": false,
     "start_time": "2022-12-01T00:46:31.796781",
     "status": "completed"
    },
    "tags": []
   },
   "outputs": [],
   "source": [
    "#hide\n",
    "import pandas as pd\n",
    "import matplotlib.pyplot as plt\n",
    "import matplotlib.ticker as ticker\n",
    "import matplotlib.animation as animation\n",
    "from IPython.display import HTML"
   ]
  },
  {
   "cell_type": "code",
   "execution_count": 21,
   "id": "lasting-extraction",
   "metadata": {
    "execution": {
     "iopub.execute_input": "2022-12-01T00:46:32.626109Z",
     "iopub.status.busy": "2022-12-01T00:46:32.625369Z",
     "iopub.status.idle": "2022-12-01T00:46:32.633631Z",
     "shell.execute_reply": "2022-12-01T00:46:32.634370Z"
    },
    "papermill": {
     "duration": 0.059962,
     "end_time": "2022-12-01T00:46:32.634528",
     "exception": false,
     "start_time": "2022-12-01T00:46:32.574566",
     "status": "completed"
    },
    "tags": []
   },
   "outputs": [],
   "source": [
    "#hide\n",
    "t = everydaycases.stack()"
   ]
  },
  {
   "cell_type": "code",
   "execution_count": 22,
   "id": "premier-sleeve",
   "metadata": {
    "execution": {
     "iopub.execute_input": "2022-12-01T00:46:32.718628Z",
     "iopub.status.busy": "2022-12-01T00:46:32.717836Z",
     "iopub.status.idle": "2022-12-01T00:46:32.734950Z",
     "shell.execute_reply": "2022-12-01T00:46:32.735651Z"
    },
    "papermill": {
     "duration": 0.062067,
     "end_time": "2022-12-01T00:46:32.735801",
     "exception": false,
     "start_time": "2022-12-01T00:46:32.673734",
     "status": "completed"
    },
    "tags": []
   },
   "outputs": [],
   "source": [
    "#hide\n",
    "g = t.reset_index(['Country/Region'])"
   ]
  },
  {
   "cell_type": "code",
   "execution_count": 23,
   "id": "distributed-pittsburgh",
   "metadata": {
    "execution": {
     "iopub.execute_input": "2022-12-01T00:46:32.826605Z",
     "iopub.status.busy": "2022-12-01T00:46:32.825854Z",
     "iopub.status.idle": "2022-12-01T00:46:32.829963Z",
     "shell.execute_reply": "2022-12-01T00:46:32.830655Z"
    },
    "papermill": {
     "duration": 0.055727,
     "end_time": "2022-12-01T00:46:32.830863",
     "exception": false,
     "start_time": "2022-12-01T00:46:32.775136",
     "status": "completed"
    },
    "tags": []
   },
   "outputs": [],
   "source": [
    "#hide\n",
    "g.index.name = 'date'"
   ]
  },
  {
   "cell_type": "code",
   "execution_count": 24,
   "id": "naked-donor",
   "metadata": {
    "execution": {
     "iopub.execute_input": "2022-12-01T00:46:32.917388Z",
     "iopub.status.busy": "2022-12-01T00:46:32.916620Z",
     "iopub.status.idle": "2022-12-01T00:46:32.919518Z",
     "shell.execute_reply": "2022-12-01T00:46:32.920220Z"
    },
    "papermill": {
     "duration": 0.049796,
     "end_time": "2022-12-01T00:46:32.920425",
     "exception": false,
     "start_time": "2022-12-01T00:46:32.870629",
     "status": "completed"
    },
    "tags": []
   },
   "outputs": [],
   "source": [
    "# #hide\n",
    "# g = g.reset_index(['date'])"
   ]
  },
  {
   "cell_type": "code",
   "execution_count": 25,
   "id": "incomplete-mustang",
   "metadata": {
    "execution": {
     "iopub.execute_input": "2022-12-01T00:46:33.006024Z",
     "iopub.status.busy": "2022-12-01T00:46:33.005239Z",
     "iopub.status.idle": "2022-12-01T00:46:33.008618Z",
     "shell.execute_reply": "2022-12-01T00:46:33.007991Z"
    },
    "papermill": {
     "duration": 0.045928,
     "end_time": "2022-12-01T00:46:33.008763",
     "exception": false,
     "start_time": "2022-12-01T00:46:32.962835",
     "status": "completed"
    },
    "tags": []
   },
   "outputs": [],
   "source": [
    "#hide\n",
    "# g.head()"
   ]
  },
  {
   "cell_type": "code",
   "execution_count": 26,
   "id": "specific-kruger",
   "metadata": {
    "execution": {
     "iopub.execute_input": "2022-12-01T00:46:33.099136Z",
     "iopub.status.busy": "2022-12-01T00:46:33.098411Z",
     "iopub.status.idle": "2022-12-01T00:46:33.101517Z",
     "shell.execute_reply": "2022-12-01T00:46:33.100921Z"
    },
    "papermill": {
     "duration": 0.051518,
     "end_time": "2022-12-01T00:46:33.101642",
     "exception": false,
     "start_time": "2022-12-01T00:46:33.050124",
     "status": "completed"
    },
    "tags": []
   },
   "outputs": [],
   "source": [
    "#hide\n",
    "# g.columns = ['date','country','cases']"
   ]
  },
  {
   "cell_type": "code",
   "execution_count": 27,
   "id": "tender-conversion",
   "metadata": {
    "execution": {
     "iopub.execute_input": "2022-12-01T00:46:33.187135Z",
     "iopub.status.busy": "2022-12-01T00:46:33.186344Z",
     "iopub.status.idle": "2022-12-01T00:46:33.190409Z",
     "shell.execute_reply": "2022-12-01T00:46:33.191034Z"
    },
    "papermill": {
     "duration": 0.04979,
     "end_time": "2022-12-01T00:46:33.191175",
     "exception": false,
     "start_time": "2022-12-01T00:46:33.141385",
     "status": "completed"
    },
    "tags": []
   },
   "outputs": [],
   "source": [
    "#hide\n",
    "# g['continent'] = g.country"
   ]
  },
  {
   "cell_type": "code",
   "execution_count": 28,
   "id": "substantial-wilderness",
   "metadata": {
    "execution": {
     "iopub.execute_input": "2022-12-01T00:46:33.278003Z",
     "iopub.status.busy": "2022-12-01T00:46:33.277104Z",
     "iopub.status.idle": "2022-12-01T00:46:33.280326Z",
     "shell.execute_reply": "2022-12-01T00:46:33.279763Z"
    },
    "papermill": {
     "duration": 0.048895,
     "end_time": "2022-12-01T00:46:33.280451",
     "exception": false,
     "start_time": "2022-12-01T00:46:33.231556",
     "status": "completed"
    },
    "tags": []
   },
   "outputs": [],
   "source": [
    "#hide\n",
    "# cols = list(g.columns.values)"
   ]
  },
  {
   "cell_type": "code",
   "execution_count": 29,
   "id": "solved-farming",
   "metadata": {
    "execution": {
     "iopub.execute_input": "2022-12-01T00:46:33.362208Z",
     "iopub.status.busy": "2022-12-01T00:46:33.361528Z",
     "iopub.status.idle": "2022-12-01T00:46:33.364612Z",
     "shell.execute_reply": "2022-12-01T00:46:33.364057Z"
    },
    "papermill": {
     "duration": 0.044508,
     "end_time": "2022-12-01T00:46:33.364725",
     "exception": false,
     "start_time": "2022-12-01T00:46:33.320217",
     "status": "completed"
    },
    "tags": []
   },
   "outputs": [],
   "source": [
    "#hide\n",
    "# cols.insert(0, cols.pop())"
   ]
  },
  {
   "cell_type": "code",
   "execution_count": 30,
   "id": "executed-adoption",
   "metadata": {
    "execution": {
     "iopub.execute_input": "2022-12-01T00:46:33.451875Z",
     "iopub.status.busy": "2022-12-01T00:46:33.450945Z",
     "iopub.status.idle": "2022-12-01T00:46:33.454432Z",
     "shell.execute_reply": "2022-12-01T00:46:33.453810Z"
    },
    "papermill": {
     "duration": 0.049325,
     "end_time": "2022-12-01T00:46:33.454576",
     "exception": false,
     "start_time": "2022-12-01T00:46:33.405251",
     "status": "completed"
    },
    "tags": []
   },
   "outputs": [],
   "source": [
    "#hide\n",
    "# g = g[cols]"
   ]
  },
  {
   "cell_type": "code",
   "execution_count": 31,
   "id": "subject-dublin",
   "metadata": {
    "execution": {
     "iopub.execute_input": "2022-12-01T00:46:33.547819Z",
     "iopub.status.busy": "2022-12-01T00:46:33.546994Z",
     "iopub.status.idle": "2022-12-01T00:46:33.550319Z",
     "shell.execute_reply": "2022-12-01T00:46:33.549731Z"
    },
    "papermill": {
     "duration": 0.053602,
     "end_time": "2022-12-01T00:46:33.550475",
     "exception": false,
     "start_time": "2022-12-01T00:46:33.496873",
     "status": "completed"
    },
    "tags": []
   },
   "outputs": [],
   "source": [
    "#hide\n",
    "# g['continent'] = g['continent'].map(mapping['map.continent'])"
   ]
  },
  {
   "cell_type": "code",
   "execution_count": 32,
   "id": "freelance-scout",
   "metadata": {
    "execution": {
     "iopub.execute_input": "2022-12-01T00:46:33.640042Z",
     "iopub.status.busy": "2022-12-01T00:46:33.639323Z",
     "iopub.status.idle": "2022-12-01T00:46:33.642255Z",
     "shell.execute_reply": "2022-12-01T00:46:33.641506Z"
    },
    "papermill": {
     "duration": 0.048955,
     "end_time": "2022-12-01T00:46:33.642403",
     "exception": false,
     "start_time": "2022-12-01T00:46:33.593448",
     "status": "completed"
    },
    "tags": []
   },
   "outputs": [],
   "source": [
    "#hide\n",
    "# g.head()"
   ]
  },
  {
   "cell_type": "code",
   "execution_count": 33,
   "id": "limited-engine",
   "metadata": {
    "execution": {
     "iopub.execute_input": "2022-12-01T00:46:33.723910Z",
     "iopub.status.busy": "2022-12-01T00:46:33.722780Z",
     "iopub.status.idle": "2022-12-01T00:46:33.726295Z",
     "shell.execute_reply": "2022-12-01T00:46:33.725547Z"
    },
    "papermill": {
     "duration": 0.046881,
     "end_time": "2022-12-01T00:46:33.726457",
     "exception": false,
     "start_time": "2022-12-01T00:46:33.679576",
     "status": "completed"
    },
    "tags": []
   },
   "outputs": [],
   "source": [
    "# hide\n",
    "# g['date'] = g['date'].astype('datetime64[ns]')"
   ]
  },
  {
   "cell_type": "code",
   "execution_count": 34,
   "id": "sophisticated-supervisor",
   "metadata": {
    "execution": {
     "iopub.execute_input": "2022-12-01T00:46:33.809137Z",
     "iopub.status.busy": "2022-12-01T00:46:33.808412Z",
     "iopub.status.idle": "2022-12-01T00:46:33.811997Z",
     "shell.execute_reply": "2022-12-01T00:46:33.811291Z"
    },
    "papermill": {
     "duration": 0.048276,
     "end_time": "2022-12-01T00:46:33.812136",
     "exception": false,
     "start_time": "2022-12-01T00:46:33.763860",
     "status": "completed"
    },
    "tags": []
   },
   "outputs": [],
   "source": [
    "#hide\n",
    "# g['date'] = g.date.dt.dayofyear"
   ]
  },
  {
   "cell_type": "code",
   "execution_count": 35,
   "id": "inside-dubai",
   "metadata": {
    "execution": {
     "iopub.execute_input": "2022-12-01T00:46:33.904021Z",
     "iopub.status.busy": "2022-12-01T00:46:33.903327Z",
     "iopub.status.idle": "2022-12-01T00:46:33.906294Z",
     "shell.execute_reply": "2022-12-01T00:46:33.905587Z"
    },
    "papermill": {
     "duration": 0.04646,
     "end_time": "2022-12-01T00:46:33.906415",
     "exception": false,
     "start_time": "2022-12-01T00:46:33.859955",
     "status": "completed"
    },
    "tags": []
   },
   "outputs": [],
   "source": [
    "#hide\n",
    "# g = g.rename(columns= {'continent':'group','country':'name','cases':'value'})"
   ]
  },
  {
   "cell_type": "code",
   "execution_count": 36,
   "id": "fleet-motorcycle",
   "metadata": {
    "execution": {
     "iopub.execute_input": "2022-12-01T00:46:33.990310Z",
     "iopub.status.busy": "2022-12-01T00:46:33.989590Z",
     "iopub.status.idle": "2022-12-01T00:46:33.992823Z",
     "shell.execute_reply": "2022-12-01T00:46:33.992153Z"
    },
    "papermill": {
     "duration": 0.046799,
     "end_time": "2022-12-01T00:46:33.992954",
     "exception": false,
     "start_time": "2022-12-01T00:46:33.946155",
     "status": "completed"
    },
    "tags": []
   },
   "outputs": [],
   "source": [
    "#hide\n",
    "# cols = ['name','group','day','value']"
   ]
  },
  {
   "cell_type": "code",
   "execution_count": 37,
   "id": "continued-sleeping",
   "metadata": {
    "execution": {
     "iopub.execute_input": "2022-12-01T00:46:34.078921Z",
     "iopub.status.busy": "2022-12-01T00:46:34.078181Z",
     "iopub.status.idle": "2022-12-01T00:46:34.080996Z",
     "shell.execute_reply": "2022-12-01T00:46:34.080417Z"
    },
    "papermill": {
     "duration": 0.049234,
     "end_time": "2022-12-01T00:46:34.081125",
     "exception": false,
     "start_time": "2022-12-01T00:46:34.031891",
     "status": "completed"
    },
    "tags": []
   },
   "outputs": [],
   "source": [
    "#hide\n",
    "# g.rename(columns= {'date':'day'},inplace = True)"
   ]
  },
  {
   "cell_type": "code",
   "execution_count": 38,
   "id": "major-fight",
   "metadata": {
    "execution": {
     "iopub.execute_input": "2022-12-01T00:46:34.169389Z",
     "iopub.status.busy": "2022-12-01T00:46:34.168376Z",
     "iopub.status.idle": "2022-12-01T00:46:34.171923Z",
     "shell.execute_reply": "2022-12-01T00:46:34.171131Z"
    },
    "papermill": {
     "duration": 0.050565,
     "end_time": "2022-12-01T00:46:34.172053",
     "exception": false,
     "start_time": "2022-12-01T00:46:34.121488",
     "status": "completed"
    },
    "tags": []
   },
   "outputs": [],
   "source": [
    "#hide\n",
    "# g = g[cols]"
   ]
  },
  {
   "cell_type": "code",
   "execution_count": 39,
   "id": "structured-mobile",
   "metadata": {
    "execution": {
     "iopub.execute_input": "2022-12-01T00:46:34.255039Z",
     "iopub.status.busy": "2022-12-01T00:46:34.254362Z",
     "iopub.status.idle": "2022-12-01T00:46:34.257580Z",
     "shell.execute_reply": "2022-12-01T00:46:34.256843Z"
    },
    "papermill": {
     "duration": 0.047526,
     "end_time": "2022-12-01T00:46:34.257721",
     "exception": false,
     "start_time": "2022-12-01T00:46:34.210195",
     "status": "completed"
    },
    "tags": []
   },
   "outputs": [],
   "source": [
    "# #hide\n",
    "# g = g[g.group.notna()]"
   ]
  },
  {
   "cell_type": "code",
   "execution_count": 40,
   "id": "determined-closing",
   "metadata": {
    "execution": {
     "iopub.execute_input": "2022-12-01T00:46:34.339659Z",
     "iopub.status.busy": "2022-12-01T00:46:34.338716Z",
     "iopub.status.idle": "2022-12-01T00:46:34.342056Z",
     "shell.execute_reply": "2022-12-01T00:46:34.341379Z"
    },
    "papermill": {
     "duration": 0.04467,
     "end_time": "2022-12-01T00:46:34.342231",
     "exception": false,
     "start_time": "2022-12-01T00:46:34.297561",
     "status": "completed"
    },
    "tags": []
   },
   "outputs": [],
   "source": [
    "# #hide\n",
    "# colors = dict(zip(\n",
    "#     [\"Oceania\", \"Europe\", \"Asia\", \"South America\", \"Middle East\", \"North America\", \"Africa\"],\n",
    "#     [\"#adb0ff\", \"#ffb3ff\", \"#90d595\", \"#e48381\", \"#aafbff\", \"#f7bb5f\", \"#eafb50\"]\n",
    "# ))\n",
    "# group_lk = g.set_index('name')['group'].to_dict()"
   ]
  },
  {
   "cell_type": "code",
   "execution_count": null,
   "id": "gross-drinking",
   "metadata": {
    "papermill": {
     "duration": 0.043707,
     "end_time": "2022-12-01T00:46:34.425836",
     "exception": false,
     "start_time": "2022-12-01T00:46:34.382129",
     "status": "completed"
    },
    "tags": []
   },
   "outputs": [],
   "source": []
  },
  {
   "cell_type": "code",
   "execution_count": 41,
   "id": "subject-macintosh",
   "metadata": {
    "execution": {
     "iopub.execute_input": "2022-12-01T00:46:34.515587Z",
     "iopub.status.busy": "2022-12-01T00:46:34.514729Z",
     "iopub.status.idle": "2022-12-01T00:46:34.518222Z",
     "shell.execute_reply": "2022-12-01T00:46:34.517593Z"
    },
    "papermill": {
     "duration": 0.050412,
     "end_time": "2022-12-01T00:46:34.518358",
     "exception": false,
     "start_time": "2022-12-01T00:46:34.467946",
     "status": "completed"
    },
    "tags": []
   },
   "outputs": [],
   "source": [
    "# #hide\n",
    "# fig, ax = plt.subplots(figsize=(15, 8))\n",
    "\n",
    "# def draw_barchart(current_day):\n",
    "#     dff = g[g['day'].eq(current_day)].sort_values(by='value', ascending=True).tail(10)\n",
    "#     ax.clear()\n",
    "#     ax.barh(dff['name'], dff['value'], color=[colors[group_lk[x]] for x in dff['name']])\n",
    "#     dx = dff['value'].max() / 200\n",
    "    \n",
    "#     for i, (value, name) in enumerate(zip(dff['value'], dff['name'])):\n",
    "#         ax.text(value-dx, i,     name,           size=14, weight=600, ha='right', va='bottom')\n",
    "#         ax.text(value-dx, i-.25, group_lk[name], size=10, color='#444444', ha='right', va='baseline')\n",
    "#         ax.text(value+dx, i,     f'{value:,.0f}',  size=14, ha='left',  va='center')\n",
    "#     ax.text(1, 0.4, current_day, transform=ax.transAxes, color='#777777', size=46, ha='right', weight=800)\n",
    "#     ax.text(0, 1.06, 'Population (thousands)', transform=ax.transAxes, size=12, color='#777777')\n",
    "#     ax.xaxis.set_major_formatter(ticker.StrMethodFormatter('{x:,.0f}'))\n",
    "#     ax.xaxis.set_ticks_position('top')\n",
    "#     ax.tick_params(axis='x', colors='#777777', labelsize=12)\n",
    "#     ax.set_yticks([])\n",
    "#     ax.margins(0, 0.01)\n",
    "#     ax.grid(which='major', axis='x', linestyle='-')\n",
    "#     ax.set_axisbelow(True)\n",
    "    \n",
    "#     ax.text(0, 1.15, 'Coronavirus',\n",
    "#             transform=ax.transAxes, size=24, weight=600, ha='left', va='top')\n",
    "# #     ax.text(1, 0, 'by @pratapvardhan; credit @jburnmurdoch', transform=ax.transAxes, color='#777777', ha='right',\n",
    "# #             bbox=dict(facecolor='white', alpha=0.8, edgecolor='white'))\n",
    "#     plt.box(False)"
   ]
  },
  {
   "cell_type": "code",
   "execution_count": 42,
   "id": "sexual-wages",
   "metadata": {
    "execution": {
     "iopub.execute_input": "2022-12-01T00:46:34.602675Z",
     "iopub.status.busy": "2022-12-01T00:46:34.601620Z",
     "iopub.status.idle": "2022-12-01T00:46:34.605188Z",
     "shell.execute_reply": "2022-12-01T00:46:34.604456Z"
    },
    "papermill": {
     "duration": 0.047054,
     "end_time": "2022-12-01T00:46:34.605336",
     "exception": false,
     "start_time": "2022-12-01T00:46:34.558282",
     "status": "completed"
    },
    "tags": []
   },
   "outputs": [],
   "source": [
    "# #hide_input\n",
    "# fig, ax = plt.subplots(figsize=(15, 8))\n",
    "# animator = animation.FuncAnimation(fig, draw_barchart, frames=range(g.day.values.min(), g.day.values.max()))\n",
    "# HTML(animator.to_jshtml())\n",
    "# # or use animator.to_html5_video() or animator.save() "
   ]
  },
  {
   "cell_type": "code",
   "execution_count": null,
   "id": "australian-container",
   "metadata": {
    "papermill": {
     "duration": 0.038504,
     "end_time": "2022-12-01T00:46:34.682298",
     "exception": false,
     "start_time": "2022-12-01T00:46:34.643794",
     "status": "completed"
    },
    "tags": []
   },
   "outputs": [],
   "source": []
  },
  {
   "cell_type": "code",
   "execution_count": null,
   "id": "mediterranean-pontiac",
   "metadata": {
    "papermill": {
     "duration": 0.038293,
     "end_time": "2022-12-01T00:46:34.760601",
     "exception": false,
     "start_time": "2022-12-01T00:46:34.722308",
     "status": "completed"
    },
    "tags": []
   },
   "outputs": [],
   "source": []
  },
  {
   "cell_type": "code",
   "execution_count": null,
   "id": "aging-legislature",
   "metadata": {
    "papermill": {
     "duration": 0.037557,
     "end_time": "2022-12-01T00:46:34.835405",
     "exception": false,
     "start_time": "2022-12-01T00:46:34.797848",
     "status": "completed"
    },
    "tags": []
   },
   "outputs": [],
   "source": []
  }
 ],
 "metadata": {
  "kernelspec": {
   "display_name": "Python 3",
   "language": "python",
   "name": "python3"
  },
  "language_info": {
   "codemirror_mode": {
    "name": "ipython",
    "version": 3
   },
   "file_extension": ".py",
   "mimetype": "text/x-python",
   "name": "python",
   "nbconvert_exporter": "python",
   "pygments_lexer": "ipython3",
   "version": "3.6.15"
  },
  "papermill": {
   "duration": 7.977941,
   "end_time": "2022-12-01T00:46:35.293836",
   "environment_variables": {},
   "exception": null,
   "input_path": "2020-03-21-covid19exp.ipynb",
   "output_path": "2020-03-21-covid19exp.ipynb",
   "parameters": {},
   "start_time": "2022-12-01T00:46:27.315895",
   "version": "2.0.0"
  }
 },
 "nbformat": 4,
 "nbformat_minor": 5
}