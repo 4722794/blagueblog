{
 "cells": [
  {
   "cell_type": "markdown",
   "id": "muslim-click",
   "metadata": {
    "papermill": {
     "duration": 0.037558,
     "end_time": "2022-05-12T00:44:09.477934",
     "exception": false,
     "start_time": "2022-05-12T00:44:09.440376",
     "status": "completed"
    },
    "tags": []
   },
   "source": [
    "# COVID-19 Case Race\n",
    "> A race chart to see rising cases around the world\n",
    "\n",
    "- author: Hargun Oberoi\n",
    "- image: images/covid-overview.png\n",
    "- hide: false\n",
    "- badges: false"
   ]
  },
  {
   "cell_type": "code",
   "execution_count": 1,
   "id": "proof-material",
   "metadata": {
    "execution": {
     "iopub.execute_input": "2022-05-12T00:44:09.561788Z",
     "iopub.status.busy": "2022-05-12T00:44:09.561169Z",
     "iopub.status.idle": "2022-05-12T00:44:09.941773Z",
     "shell.execute_reply": "2022-05-12T00:44:09.941246Z"
    },
    "papermill": {
     "duration": 0.428654,
     "end_time": "2022-05-12T00:44:09.941925",
     "exception": false,
     "start_time": "2022-05-12T00:44:09.513271",
     "status": "completed"
    },
    "tags": []
   },
   "outputs": [],
   "source": [
    "#hide\n",
    "import numpy as np\n",
    "import pandas as pd\n",
    "from jinja2 import Template\n",
    "from IPython.display import HTML"
   ]
  },
  {
   "cell_type": "code",
   "execution_count": 2,
   "id": "developed-terminology",
   "metadata": {
    "execution": {
     "iopub.execute_input": "2022-05-12T00:44:10.015027Z",
     "iopub.status.busy": "2022-05-12T00:44:10.014417Z",
     "iopub.status.idle": "2022-05-12T00:44:10.017170Z",
     "shell.execute_reply": "2022-05-12T00:44:10.016653Z"
    },
    "papermill": {
     "duration": 0.041623,
     "end_time": "2022-05-12T00:44:10.017301",
     "exception": false,
     "start_time": "2022-05-12T00:44:09.975678",
     "status": "completed"
    },
    "tags": []
   },
   "outputs": [],
   "source": [
    "#hide\n",
    "\n",
    "# FETCH\n",
    "base_url = 'https://raw.githubusercontent.com/pratapvardhan/notebooks/master/covid19/'\n",
    "paths = {\n",
    "    'mapping': base_url + 'mapping_countries.csv',\n",
    "    'overview': base_url + 'overview.tpl'\n",
    "}"
   ]
  },
  {
   "cell_type": "code",
   "execution_count": 3,
   "id": "dynamic-saver",
   "metadata": {
    "execution": {
     "iopub.execute_input": "2022-05-12T00:44:10.100337Z",
     "iopub.status.busy": "2022-05-12T00:44:10.099690Z",
     "iopub.status.idle": "2022-05-12T00:44:10.102894Z",
     "shell.execute_reply": "2022-05-12T00:44:10.102301Z"
    },
    "papermill": {
     "duration": 0.051373,
     "end_time": "2022-05-12T00:44:10.103018",
     "exception": false,
     "start_time": "2022-05-12T00:44:10.051645",
     "status": "completed"
    },
    "tags": []
   },
   "outputs": [
    {
     "data": {
      "text/plain": [
       "'https://raw.githubusercontent.com/pratapvardhan/notebooks/master/covid19/mapping_countries.csv'"
      ]
     },
     "execution_count": 3,
     "metadata": {},
     "output_type": "execute_result"
    }
   ],
   "source": [
    "#hide\n",
    "paths['mapping']"
   ]
  },
  {
   "cell_type": "code",
   "execution_count": 4,
   "id": "urban-software",
   "metadata": {
    "execution": {
     "iopub.execute_input": "2022-05-12T00:44:10.179021Z",
     "iopub.status.busy": "2022-05-12T00:44:10.178386Z",
     "iopub.status.idle": "2022-05-12T00:44:10.180779Z",
     "shell.execute_reply": "2022-05-12T00:44:10.180286Z"
    },
    "papermill": {
     "duration": 0.044107,
     "end_time": "2022-05-12T00:44:10.180909",
     "exception": false,
     "start_time": "2022-05-12T00:44:10.136802",
     "status": "completed"
    },
    "tags": []
   },
   "outputs": [],
   "source": [
    "#hide\n",
    "def get_mappings(url):\n",
    "    df = pd.read_csv(url)\n",
    "    return {\n",
    "        'df': df,\n",
    "        'replace.country': dict(df.dropna(subset=['Name']).set_index('Country')['Name']),\n",
    "        'map.continent': dict(df.set_index('Name')['Continent'])\n",
    "    }"
   ]
  },
  {
   "cell_type": "code",
   "execution_count": 5,
   "id": "intimate-machinery",
   "metadata": {
    "execution": {
     "iopub.execute_input": "2022-05-12T00:44:10.256825Z",
     "iopub.status.busy": "2022-05-12T00:44:10.256204Z",
     "iopub.status.idle": "2022-05-12T00:44:10.286863Z",
     "shell.execute_reply": "2022-05-12T00:44:10.286323Z"
    },
    "papermill": {
     "duration": 0.072209,
     "end_time": "2022-05-12T00:44:10.286995",
     "exception": false,
     "start_time": "2022-05-12T00:44:10.214786",
     "status": "completed"
    },
    "tags": []
   },
   "outputs": [],
   "source": [
    "#hide\n",
    "mapping = get_mappings(paths['mapping'])"
   ]
  },
  {
   "cell_type": "code",
   "execution_count": 6,
   "id": "certified-tactics",
   "metadata": {
    "execution": {
     "iopub.execute_input": "2022-05-12T00:44:10.360735Z",
     "iopub.status.busy": "2022-05-12T00:44:10.360108Z",
     "iopub.status.idle": "2022-05-12T00:44:10.362014Z",
     "shell.execute_reply": "2022-05-12T00:44:10.362473Z"
    },
    "papermill": {
     "duration": 0.041718,
     "end_time": "2022-05-12T00:44:10.362628",
     "exception": false,
     "start_time": "2022-05-12T00:44:10.320910",
     "status": "completed"
    },
    "tags": []
   },
   "outputs": [],
   "source": [
    "#hide\n",
    "def get_template(path):\n",
    "    from urllib.parse import urlparse\n",
    "    if bool(urlparse(path).netloc):\n",
    "        from urllib.request import urlopen\n",
    "        return urlopen(path).read().decode('utf8')\n",
    "    return open(path).read()"
   ]
  },
  {
   "cell_type": "code",
   "execution_count": 7,
   "id": "realistic-blast",
   "metadata": {
    "execution": {
     "iopub.execute_input": "2022-05-12T00:44:10.441792Z",
     "iopub.status.busy": "2022-05-12T00:44:10.441178Z",
     "iopub.status.idle": "2022-05-12T00:44:10.443049Z",
     "shell.execute_reply": "2022-05-12T00:44:10.443557Z"
    },
    "papermill": {
     "duration": 0.047328,
     "end_time": "2022-05-12T00:44:10.443704",
     "exception": false,
     "start_time": "2022-05-12T00:44:10.396376",
     "status": "completed"
    },
    "tags": []
   },
   "outputs": [],
   "source": [
    "#hide\n",
    "def get_frame(name):\n",
    "    url = (\n",
    "        'https://raw.githubusercontent.com/CSSEGISandData/COVID-19/master/csse_covid_19_data/'\n",
    "        f'csse_covid_19_time_series/time_series_covid19_{name}_global.csv')\n",
    "    df = pd.read_csv(url)\n",
    "    # rename countries\n",
    "    df['Country/Region'] = df['Country/Region'].replace(mapping['replace.country'])\n",
    "    return df"
   ]
  },
  {
   "cell_type": "code",
   "execution_count": 8,
   "id": "affiliated-characterization",
   "metadata": {
    "execution": {
     "iopub.execute_input": "2022-05-12T00:44:10.519354Z",
     "iopub.status.busy": "2022-05-12T00:44:10.518693Z",
     "iopub.status.idle": "2022-05-12T00:44:10.521118Z",
     "shell.execute_reply": "2022-05-12T00:44:10.520635Z"
    },
    "papermill": {
     "duration": 0.043572,
     "end_time": "2022-05-12T00:44:10.521249",
     "exception": false,
     "start_time": "2022-05-12T00:44:10.477677",
     "status": "completed"
    },
    "tags": []
   },
   "outputs": [],
   "source": [
    "#hide\n",
    "def get_dates(df):\n",
    "    dt_cols = df.columns[~df.columns.isin(['Province/State', 'Country/Region', 'Lat', 'Long'])]\n",
    "    LAST_DATE_I = -1\n",
    "    # sometimes last column may be empty, then go backwards\n",
    "    for i in range(-1, -len(dt_cols), -1):\n",
    "        if not df[dt_cols[i]].fillna(0).eq(0).all():\n",
    "            LAST_DATE_I = i\n",
    "            break\n",
    "    return LAST_DATE_I, dt_cols"
   ]
  },
  {
   "cell_type": "code",
   "execution_count": 9,
   "id": "recent-optimization",
   "metadata": {
    "execution": {
     "iopub.execute_input": "2022-05-12T00:44:10.594342Z",
     "iopub.status.busy": "2022-05-12T00:44:10.593720Z",
     "iopub.status.idle": "2022-05-12T00:44:11.011788Z",
     "shell.execute_reply": "2022-05-12T00:44:11.011172Z"
    },
    "papermill": {
     "duration": 0.456854,
     "end_time": "2022-05-12T00:44:11.011929",
     "exception": false,
     "start_time": "2022-05-12T00:44:10.555075",
     "status": "completed"
    },
    "tags": []
   },
   "outputs": [],
   "source": [
    "#hide\n",
    "COL_REGION = 'Country/Region'\n",
    "# Confirmed, Recovered, Deaths\n",
    "df = get_frame('confirmed')\n",
    "# dft_: timeseries, dfc_: today country agg\n",
    "dft_cases = df\n",
    "dft_deaths = get_frame('deaths')\n",
    "dft_recovered = get_frame('recovered')\n",
    "LAST_DATE_I, dt_cols = get_dates(df)"
   ]
  },
  {
   "cell_type": "code",
   "execution_count": 10,
   "id": "absolute-copper",
   "metadata": {
    "execution": {
     "iopub.execute_input": "2022-05-12T00:44:11.086292Z",
     "iopub.status.busy": "2022-05-12T00:44:11.085568Z",
     "iopub.status.idle": "2022-05-12T00:44:11.089889Z",
     "shell.execute_reply": "2022-05-12T00:44:11.089394Z"
    },
    "papermill": {
     "duration": 0.044042,
     "end_time": "2022-05-12T00:44:11.090022",
     "exception": false,
     "start_time": "2022-05-12T00:44:11.045980",
     "status": "completed"
    },
    "tags": []
   },
   "outputs": [],
   "source": [
    "#hide\n",
    "LAST_DATE_I, dt_cols = get_dates(df)\n",
    "dt_today =dt_cols[LAST_DATE_I]\n",
    "# dt_5day = dt_cols[LAST_DATE_I - 5]\n",
    "dt_yday = dt_cols[LAST_DATE_I - 1]"
   ]
  },
  {
   "cell_type": "code",
   "execution_count": 11,
   "id": "restricted-sheriff",
   "metadata": {
    "execution": {
     "iopub.execute_input": "2022-05-12T00:44:11.169652Z",
     "iopub.status.busy": "2022-05-12T00:44:11.168588Z",
     "iopub.status.idle": "2022-05-12T00:44:11.175503Z",
     "shell.execute_reply": "2022-05-12T00:44:11.174954Z"
    },
    "papermill": {
     "duration": 0.051831,
     "end_time": "2022-05-12T00:44:11.175637",
     "exception": false,
     "start_time": "2022-05-12T00:44:11.123806",
     "status": "completed"
    },
    "tags": []
   },
   "outputs": [],
   "source": [
    "#hide\n",
    "dfc_cases = dft_cases.groupby(COL_REGION)[dt_today].sum()\n",
    "dfc_deaths = dft_deaths.groupby(COL_REGION)[dt_today].sum()\n",
    "# dfp_cases = dft_cases.groupby(COL_REGION)[dt_5day].sum()\n",
    "# dfp_deaths = dft_deaths.groupby(COL_REGION)[dt_5day].sum()\n",
    "dfp_cases = dft_cases.groupby(COL_REGION)[dt_yday].sum()\n",
    "dfp_deaths = dft_deaths.groupby(COL_REGION)[dt_yday].sum()"
   ]
  },
  {
   "cell_type": "code",
   "execution_count": 12,
   "id": "deluxe-hepatitis",
   "metadata": {
    "execution": {
     "iopub.execute_input": "2022-05-12T00:44:11.254268Z",
     "iopub.status.busy": "2022-05-12T00:44:11.252555Z",
     "iopub.status.idle": "2022-05-12T00:44:11.256869Z",
     "shell.execute_reply": "2022-05-12T00:44:11.256266Z"
    },
    "papermill": {
     "duration": 0.046963,
     "end_time": "2022-05-12T00:44:11.256995",
     "exception": false,
     "start_time": "2022-05-12T00:44:11.210032",
     "status": "completed"
    },
    "tags": []
   },
   "outputs": [],
   "source": [
    "#hide\n",
    "df_table = (pd.DataFrame(dict(Cases = dfc_cases, Deaths = dfc_deaths, PCases = dfp_cases, PDeaths = dfp_deaths))\n",
    "            .sort_values(by = ['Cases','Deaths'], ascending = [False, False])\n",
    "            .reset_index())"
   ]
  },
  {
   "cell_type": "code",
   "execution_count": 13,
   "id": "educational-chancellor",
   "metadata": {
    "execution": {
     "iopub.execute_input": "2022-05-12T00:44:11.346349Z",
     "iopub.status.busy": "2022-05-12T00:44:11.341525Z",
     "iopub.status.idle": "2022-05-12T00:44:11.354925Z",
     "shell.execute_reply": "2022-05-12T00:44:11.354413Z"
    },
    "papermill": {
     "duration": 0.064347,
     "end_time": "2022-05-12T00:44:11.355054",
     "exception": false,
     "start_time": "2022-05-12T00:44:11.290707",
     "status": "completed"
    },
    "tags": []
   },
   "outputs": [
    {
     "data": {
      "text/html": [
       "<div>\n",
       "<style scoped>\n",
       "    .dataframe tbody tr th:only-of-type {\n",
       "        vertical-align: middle;\n",
       "    }\n",
       "\n",
       "    .dataframe tbody tr th {\n",
       "        vertical-align: top;\n",
       "    }\n",
       "\n",
       "    .dataframe thead th {\n",
       "        text-align: right;\n",
       "    }\n",
       "</style>\n",
       "<table border=\"1\" class=\"dataframe\">\n",
       "  <thead>\n",
       "    <tr style=\"text-align: right;\">\n",
       "      <th></th>\n",
       "      <th>Country/Region</th>\n",
       "      <th>Cases</th>\n",
       "      <th>Deaths</th>\n",
       "      <th>PCases</th>\n",
       "      <th>PDeaths</th>\n",
       "      <th>Cases (+)</th>\n",
       "      <th>Deaths (+)</th>\n",
       "      <th>Fatality Rate</th>\n",
       "      <th>Continent</th>\n",
       "    </tr>\n",
       "  </thead>\n",
       "  <tbody>\n",
       "    <tr>\n",
       "      <th>0</th>\n",
       "      <td>US</td>\n",
       "      <td>82059839</td>\n",
       "      <td>998048</td>\n",
       "      <td>81973661</td>\n",
       "      <td>997740</td>\n",
       "      <td>86178</td>\n",
       "      <td>308</td>\n",
       "      <td>1.22</td>\n",
       "      <td>North America</td>\n",
       "    </tr>\n",
       "    <tr>\n",
       "      <th>1</th>\n",
       "      <td>India</td>\n",
       "      <td>43110586</td>\n",
       "      <td>524157</td>\n",
       "      <td>43107689</td>\n",
       "      <td>524103</td>\n",
       "      <td>2897</td>\n",
       "      <td>54</td>\n",
       "      <td>1.22</td>\n",
       "      <td>Asia</td>\n",
       "    </tr>\n",
       "    <tr>\n",
       "      <th>2</th>\n",
       "      <td>Brazil</td>\n",
       "      <td>30594388</td>\n",
       "      <td>664624</td>\n",
       "      <td>30574245</td>\n",
       "      <td>664426</td>\n",
       "      <td>20143</td>\n",
       "      <td>198</td>\n",
       "      <td>2.17</td>\n",
       "      <td>South America</td>\n",
       "    </tr>\n",
       "    <tr>\n",
       "      <th>3</th>\n",
       "      <td>France</td>\n",
       "      <td>29212276</td>\n",
       "      <td>148016</td>\n",
       "      <td>29155815</td>\n",
       "      <td>147893</td>\n",
       "      <td>56461</td>\n",
       "      <td>123</td>\n",
       "      <td>0.51</td>\n",
       "      <td>Europe</td>\n",
       "    </tr>\n",
       "    <tr>\n",
       "      <th>4</th>\n",
       "      <td>Germany</td>\n",
       "      <td>25503878</td>\n",
       "      <td>136987</td>\n",
       "      <td>25406868</td>\n",
       "      <td>136756</td>\n",
       "      <td>97010</td>\n",
       "      <td>231</td>\n",
       "      <td>0.54</td>\n",
       "      <td>Europe</td>\n",
       "    </tr>\n",
       "  </tbody>\n",
       "</table>\n",
       "</div>"
      ],
      "text/plain": [
       "  Country/Region     Cases  Deaths    PCases  PDeaths  Cases (+)  Deaths (+)  \\\n",
       "0             US  82059839  998048  81973661   997740      86178         308   \n",
       "1          India  43110586  524157  43107689   524103       2897          54   \n",
       "2         Brazil  30594388  664624  30574245   664426      20143         198   \n",
       "3         France  29212276  148016  29155815   147893      56461         123   \n",
       "4        Germany  25503878  136987  25406868   136756      97010         231   \n",
       "\n",
       "   Fatality Rate      Continent  \n",
       "0           1.22  North America  \n",
       "1           1.22           Asia  \n",
       "2           2.17  South America  \n",
       "3           0.51         Europe  \n",
       "4           0.54         Europe  "
      ]
     },
     "execution_count": 13,
     "metadata": {},
     "output_type": "execute_result"
    }
   ],
   "source": [
    "#hide\n",
    "for c in 'Cases, Deaths'.split(', '):\n",
    "    df_table[f'{c} (+)'] = (df_table[c] - df_table[f'P{c}']).clip(0)\n",
    "    #Clip ça veut dire, les chiffres negatif sont interdit\n",
    "df_table['Fatality Rate'] = (100* df_table['Deaths']/ df_table['Cases']).round(2)\n",
    "df_table['Continent'] = df_table['Country/Region'].map(mapping['map.continent'])\n",
    "df_table.head(5)"
   ]
  },
  {
   "cell_type": "code",
   "execution_count": 14,
   "id": "aboriginal-bulgaria",
   "metadata": {
    "execution": {
     "iopub.execute_input": "2022-05-12T00:44:11.432724Z",
     "iopub.status.busy": "2022-05-12T00:44:11.431510Z",
     "iopub.status.idle": "2022-05-12T00:44:11.435490Z",
     "shell.execute_reply": "2022-05-12T00:44:11.434839Z"
    },
    "papermill": {
     "duration": 0.046167,
     "end_time": "2022-05-12T00:44:11.435621",
     "exception": false,
     "start_time": "2022-05-12T00:44:11.389454",
     "status": "completed"
    },
    "tags": []
   },
   "outputs": [],
   "source": [
    "#hide\n",
    "#delete problematic countries from table\n",
    "df_table = df_table[~df_table['Country/Region'].isin(['Cape Verde', 'Cruise Ship', 'Kosovo'])]"
   ]
  },
  {
   "cell_type": "code",
   "execution_count": 15,
   "id": "fantastic-effect",
   "metadata": {
    "execution": {
     "iopub.execute_input": "2022-05-12T00:44:11.525964Z",
     "iopub.status.busy": "2022-05-12T00:44:11.515876Z",
     "iopub.status.idle": "2022-05-12T00:44:11.537436Z",
     "shell.execute_reply": "2022-05-12T00:44:11.536914Z"
    },
    "papermill": {
     "duration": 0.067923,
     "end_time": "2022-05-12T00:44:11.537568",
     "exception": false,
     "start_time": "2022-05-12T00:44:11.469645",
     "status": "completed"
    },
    "tags": []
   },
   "outputs": [
    {
     "data": {
      "text/html": [
       "<div>\n",
       "<style scoped>\n",
       "    .dataframe tbody tr th:only-of-type {\n",
       "        vertical-align: middle;\n",
       "    }\n",
       "\n",
       "    .dataframe tbody tr th {\n",
       "        vertical-align: top;\n",
       "    }\n",
       "\n",
       "    .dataframe thead th {\n",
       "        text-align: right;\n",
       "    }\n",
       "</style>\n",
       "<table border=\"1\" class=\"dataframe\">\n",
       "  <thead>\n",
       "    <tr style=\"text-align: right;\">\n",
       "      <th></th>\n",
       "      <th>Country/Region</th>\n",
       "      <th>Cases</th>\n",
       "      <th>Deaths</th>\n",
       "      <th>PCases</th>\n",
       "      <th>PDeaths</th>\n",
       "      <th>Cases (+)</th>\n",
       "      <th>Deaths (+)</th>\n",
       "      <th>Fatality Rate</th>\n",
       "      <th>Continent</th>\n",
       "    </tr>\n",
       "  </thead>\n",
       "  <tbody>\n",
       "    <tr>\n",
       "      <th>0</th>\n",
       "      <td>US</td>\n",
       "      <td>82059839</td>\n",
       "      <td>998048</td>\n",
       "      <td>81973661</td>\n",
       "      <td>997740</td>\n",
       "      <td>86178</td>\n",
       "      <td>308</td>\n",
       "      <td>1.2</td>\n",
       "      <td>North America</td>\n",
       "    </tr>\n",
       "    <tr>\n",
       "      <th>1</th>\n",
       "      <td>India</td>\n",
       "      <td>43110586</td>\n",
       "      <td>524157</td>\n",
       "      <td>43107689</td>\n",
       "      <td>524103</td>\n",
       "      <td>2897</td>\n",
       "      <td>54</td>\n",
       "      <td>1.2</td>\n",
       "      <td>Asia</td>\n",
       "    </tr>\n",
       "    <tr>\n",
       "      <th>2</th>\n",
       "      <td>Brazil</td>\n",
       "      <td>30594388</td>\n",
       "      <td>664624</td>\n",
       "      <td>30574245</td>\n",
       "      <td>664426</td>\n",
       "      <td>20143</td>\n",
       "      <td>198</td>\n",
       "      <td>2.2</td>\n",
       "      <td>South America</td>\n",
       "    </tr>\n",
       "    <tr>\n",
       "      <th>3</th>\n",
       "      <td>France</td>\n",
       "      <td>29212276</td>\n",
       "      <td>148016</td>\n",
       "      <td>29155815</td>\n",
       "      <td>147893</td>\n",
       "      <td>56461</td>\n",
       "      <td>123</td>\n",
       "      <td>0.5</td>\n",
       "      <td>Europe</td>\n",
       "    </tr>\n",
       "    <tr>\n",
       "      <th>4</th>\n",
       "      <td>Germany</td>\n",
       "      <td>25503878</td>\n",
       "      <td>136987</td>\n",
       "      <td>25406868</td>\n",
       "      <td>136756</td>\n",
       "      <td>97010</td>\n",
       "      <td>231</td>\n",
       "      <td>0.5</td>\n",
       "      <td>Europe</td>\n",
       "    </tr>\n",
       "  </tbody>\n",
       "</table>\n",
       "</div>"
      ],
      "text/plain": [
       "  Country/Region     Cases  Deaths    PCases  PDeaths  Cases (+)  Deaths (+)  \\\n",
       "0             US  82059839  998048  81973661   997740      86178         308   \n",
       "1          India  43110586  524157  43107689   524103       2897          54   \n",
       "2         Brazil  30594388  664624  30574245   664426      20143         198   \n",
       "3         France  29212276  148016  29155815   147893      56461         123   \n",
       "4        Germany  25503878  136987  25406868   136756      97010         231   \n",
       "\n",
       "   Fatality Rate      Continent  \n",
       "0            1.2  North America  \n",
       "1            1.2           Asia  \n",
       "2            2.2  South America  \n",
       "3            0.5         Europe  \n",
       "4            0.5         Europe  "
      ]
     },
     "execution_count": 15,
     "metadata": {},
     "output_type": "execute_result"
    }
   ],
   "source": [
    "#hide\n",
    "df_table = (pd.DataFrame(dict(Cases=dfc_cases, Deaths=dfc_deaths, PCases=dfp_cases, PDeaths=dfp_deaths))\n",
    "             .sort_values(by=['Cases', 'Deaths'], ascending=[False, False])\n",
    "             .reset_index())\n",
    "df_table.rename(columns={'index': 'Country/Region'}, inplace=True)\n",
    "for c in 'Cases, Deaths'.split(', '):\n",
    "    df_table[f'{c} (+)'] = (df_table[c] - df_table[f'P{c}']).clip(0)  # DATA BUG\n",
    "df_table['Fatality Rate'] = (100 * df_table['Deaths'] / df_table['Cases']).round(1)\n",
    "df_table['Continent'] = df_table['Country/Region'].map(mapping['map.continent'])\n",
    "df_table.head(5)"
   ]
  },
  {
   "cell_type": "code",
   "execution_count": 16,
   "id": "fewer-occasion",
   "metadata": {
    "execution": {
     "iopub.execute_input": "2022-05-12T00:44:11.616761Z",
     "iopub.status.busy": "2022-05-12T00:44:11.616056Z",
     "iopub.status.idle": "2022-05-12T00:44:11.617731Z",
     "shell.execute_reply": "2022-05-12T00:44:11.618183Z"
    },
    "papermill": {
     "duration": 0.045731,
     "end_time": "2022-05-12T00:44:11.618333",
     "exception": false,
     "start_time": "2022-05-12T00:44:11.572602",
     "status": "completed"
    },
    "tags": []
   },
   "outputs": [],
   "source": [
    "#hide\n",
    "#delete problematic countries from table\n",
    "df_table = df_table[~df_table['Country/Region'].isin(['Cape Verde', 'Cruise Ship', 'Kosovo'])]"
   ]
  },
  {
   "cell_type": "code",
   "execution_count": 17,
   "id": "related-center",
   "metadata": {
    "execution": {
     "iopub.execute_input": "2022-05-12T00:44:11.704295Z",
     "iopub.status.busy": "2022-05-12T00:44:11.703640Z",
     "iopub.status.idle": "2022-05-12T00:44:11.712866Z",
     "shell.execute_reply": "2022-05-12T00:44:11.712346Z"
    },
    "papermill": {
     "duration": 0.059985,
     "end_time": "2022-05-12T00:44:11.712996",
     "exception": false,
     "start_time": "2022-05-12T00:44:11.653011",
     "status": "completed"
    },
    "tags": []
   },
   "outputs": [],
   "source": [
    "#hide\n",
    "metrics = [df_table.columns[index] for index in [1,2,5,6]]\n",
    "# s_china = df_table[df_table['Country/Region'].eq('China')][metrics].sum().add_prefix('China ')\n",
    "s_us = df_table[df_table['Country/Region'].eq('US')][metrics].sum().add_prefix('US ')\n",
    "s_eu = df_table[df_table['Continent'].eq('Europe')][metrics].sum().add_prefix('EU ')\n",
    "s_ind = df_table[df_table['Country/Region'].eq('India')][metrics].sum().add_prefix('India ')\n",
    "summary = {'updated': pd.to_datetime(dt_today), 'since': pd.to_datetime(dt_yday)}\n",
    "summary = {'updated': pd.to_datetime(dt_today), 'since': pd.to_datetime(dt_yday)}\n",
    "summary = {**summary, **df_table[metrics].sum(), **s_ind, **s_us, **s_eu}"
   ]
  },
  {
   "cell_type": "code",
   "execution_count": 18,
   "id": "engaging-syndrome",
   "metadata": {
    "execution": {
     "iopub.execute_input": "2022-05-12T00:44:11.788811Z",
     "iopub.status.busy": "2022-05-12T00:44:11.788202Z",
     "iopub.status.idle": "2022-05-12T00:44:11.809237Z",
     "shell.execute_reply": "2022-05-12T00:44:11.809712Z"
    },
    "papermill": {
     "duration": 0.061823,
     "end_time": "2022-05-12T00:44:11.809873",
     "exception": false,
     "start_time": "2022-05-12T00:44:11.748050",
     "status": "completed"
    },
    "tags": []
   },
   "outputs": [],
   "source": [
    "#hide\n",
    "dft_ct_new_cases = dft_cases.groupby(COL_REGION)[dt_cols].sum().diff(axis=1).fillna(0).astype(int)"
   ]
  },
  {
   "cell_type": "code",
   "execution_count": 19,
   "id": "neutral-assignment",
   "metadata": {
    "execution": {
     "iopub.execute_input": "2022-05-12T00:44:11.887657Z",
     "iopub.status.busy": "2022-05-12T00:44:11.886978Z",
     "iopub.status.idle": "2022-05-12T00:44:11.888877Z",
     "shell.execute_reply": "2022-05-12T00:44:11.889322Z"
    },
    "papermill": {
     "duration": 0.044944,
     "end_time": "2022-05-12T00:44:11.889473",
     "exception": false,
     "start_time": "2022-05-12T00:44:11.844529",
     "status": "completed"
    },
    "tags": []
   },
   "outputs": [],
   "source": [
    "#hide\n",
    "everydaycases = dft_ct_new_cases.cumsum(axis=1)"
   ]
  },
  {
   "cell_type": "code",
   "execution_count": 20,
   "id": "parliamentary-calgary",
   "metadata": {
    "execution": {
     "iopub.execute_input": "2022-05-12T00:44:11.964071Z",
     "iopub.status.busy": "2022-05-12T00:44:11.963443Z",
     "iopub.status.idle": "2022-05-12T00:44:12.604592Z",
     "shell.execute_reply": "2022-05-12T00:44:12.604013Z"
    },
    "papermill": {
     "duration": 0.680434,
     "end_time": "2022-05-12T00:44:12.604736",
     "exception": false,
     "start_time": "2022-05-12T00:44:11.924302",
     "status": "completed"
    },
    "tags": []
   },
   "outputs": [],
   "source": [
    "#hide\n",
    "import pandas as pd\n",
    "import matplotlib.pyplot as plt\n",
    "import matplotlib.ticker as ticker\n",
    "import matplotlib.animation as animation\n",
    "from IPython.display import HTML"
   ]
  },
  {
   "cell_type": "code",
   "execution_count": 21,
   "id": "lasting-extraction",
   "metadata": {
    "execution": {
     "iopub.execute_input": "2022-05-12T00:44:12.689152Z",
     "iopub.status.busy": "2022-05-12T00:44:12.688525Z",
     "iopub.status.idle": "2022-05-12T00:44:12.695427Z",
     "shell.execute_reply": "2022-05-12T00:44:12.695931Z"
    },
    "papermill": {
     "duration": 0.054353,
     "end_time": "2022-05-12T00:44:12.696088",
     "exception": false,
     "start_time": "2022-05-12T00:44:12.641735",
     "status": "completed"
    },
    "tags": []
   },
   "outputs": [],
   "source": [
    "#hide\n",
    "t = everydaycases.stack()"
   ]
  },
  {
   "cell_type": "code",
   "execution_count": 22,
   "id": "premier-sleeve",
   "metadata": {
    "execution": {
     "iopub.execute_input": "2022-05-12T00:44:12.771726Z",
     "iopub.status.busy": "2022-05-12T00:44:12.771054Z",
     "iopub.status.idle": "2022-05-12T00:44:12.786051Z",
     "shell.execute_reply": "2022-05-12T00:44:12.786572Z"
    },
    "papermill": {
     "duration": 0.055764,
     "end_time": "2022-05-12T00:44:12.786725",
     "exception": false,
     "start_time": "2022-05-12T00:44:12.730961",
     "status": "completed"
    },
    "tags": []
   },
   "outputs": [],
   "source": [
    "#hide\n",
    "g = t.reset_index(['Country/Region'])"
   ]
  },
  {
   "cell_type": "code",
   "execution_count": 23,
   "id": "distributed-pittsburgh",
   "metadata": {
    "execution": {
     "iopub.execute_input": "2022-05-12T00:44:12.861670Z",
     "iopub.status.busy": "2022-05-12T00:44:12.861033Z",
     "iopub.status.idle": "2022-05-12T00:44:12.865735Z",
     "shell.execute_reply": "2022-05-12T00:44:12.865223Z"
    },
    "papermill": {
     "duration": 0.044486,
     "end_time": "2022-05-12T00:44:12.865862",
     "exception": false,
     "start_time": "2022-05-12T00:44:12.821376",
     "status": "completed"
    },
    "tags": []
   },
   "outputs": [],
   "source": [
    "#hide\n",
    "g.index.name = 'date'"
   ]
  },
  {
   "cell_type": "code",
   "execution_count": 24,
   "id": "naked-donor",
   "metadata": {
    "execution": {
     "iopub.execute_input": "2022-05-12T00:44:12.939988Z",
     "iopub.status.busy": "2022-05-12T00:44:12.939294Z",
     "iopub.status.idle": "2022-05-12T00:44:12.942072Z",
     "shell.execute_reply": "2022-05-12T00:44:12.942531Z"
    },
    "papermill": {
     "duration": 0.041925,
     "end_time": "2022-05-12T00:44:12.942688",
     "exception": false,
     "start_time": "2022-05-12T00:44:12.900763",
     "status": "completed"
    },
    "tags": []
   },
   "outputs": [],
   "source": [
    "# #hide\n",
    "# g = g.reset_index(['date'])"
   ]
  },
  {
   "cell_type": "code",
   "execution_count": 25,
   "id": "incomplete-mustang",
   "metadata": {
    "execution": {
     "iopub.execute_input": "2022-05-12T00:44:13.020230Z",
     "iopub.status.busy": "2022-05-12T00:44:13.019116Z",
     "iopub.status.idle": "2022-05-12T00:44:13.021340Z",
     "shell.execute_reply": "2022-05-12T00:44:13.022099Z"
    },
    "papermill": {
     "duration": 0.044634,
     "end_time": "2022-05-12T00:44:13.022246",
     "exception": false,
     "start_time": "2022-05-12T00:44:12.977612",
     "status": "completed"
    },
    "tags": []
   },
   "outputs": [],
   "source": [
    "#hide\n",
    "# g.head()"
   ]
  },
  {
   "cell_type": "code",
   "execution_count": 26,
   "id": "specific-kruger",
   "metadata": {
    "execution": {
     "iopub.execute_input": "2022-05-12T00:44:13.096544Z",
     "iopub.status.busy": "2022-05-12T00:44:13.095717Z",
     "iopub.status.idle": "2022-05-12T00:44:13.098170Z",
     "shell.execute_reply": "2022-05-12T00:44:13.098625Z"
    },
    "papermill": {
     "duration": 0.04171,
     "end_time": "2022-05-12T00:44:13.098781",
     "exception": false,
     "start_time": "2022-05-12T00:44:13.057071",
     "status": "completed"
    },
    "tags": []
   },
   "outputs": [],
   "source": [
    "#hide\n",
    "# g.columns = ['date','country','cases']"
   ]
  },
  {
   "cell_type": "code",
   "execution_count": 27,
   "id": "tender-conversion",
   "metadata": {
    "execution": {
     "iopub.execute_input": "2022-05-12T00:44:13.174577Z",
     "iopub.status.busy": "2022-05-12T00:44:13.173533Z",
     "iopub.status.idle": "2022-05-12T00:44:13.177818Z",
     "shell.execute_reply": "2022-05-12T00:44:13.178270Z"
    },
    "papermill": {
     "duration": 0.044804,
     "end_time": "2022-05-12T00:44:13.178427",
     "exception": false,
     "start_time": "2022-05-12T00:44:13.133623",
     "status": "completed"
    },
    "tags": []
   },
   "outputs": [],
   "source": [
    "#hide\n",
    "# g['continent'] = g.country"
   ]
  },
  {
   "cell_type": "code",
   "execution_count": 28,
   "id": "substantial-wilderness",
   "metadata": {
    "execution": {
     "iopub.execute_input": "2022-05-12T00:44:13.252685Z",
     "iopub.status.busy": "2022-05-12T00:44:13.252053Z",
     "iopub.status.idle": "2022-05-12T00:44:13.253824Z",
     "shell.execute_reply": "2022-05-12T00:44:13.254271Z"
    },
    "papermill": {
     "duration": 0.041045,
     "end_time": "2022-05-12T00:44:13.254421",
     "exception": false,
     "start_time": "2022-05-12T00:44:13.213376",
     "status": "completed"
    },
    "tags": []
   },
   "outputs": [],
   "source": [
    "#hide\n",
    "# cols = list(g.columns.values)"
   ]
  },
  {
   "cell_type": "code",
   "execution_count": 29,
   "id": "solved-farming",
   "metadata": {
    "execution": {
     "iopub.execute_input": "2022-05-12T00:44:13.329239Z",
     "iopub.status.busy": "2022-05-12T00:44:13.328620Z",
     "iopub.status.idle": "2022-05-12T00:44:13.332796Z",
     "shell.execute_reply": "2022-05-12T00:44:13.332302Z"
    },
    "papermill": {
     "duration": 0.043685,
     "end_time": "2022-05-12T00:44:13.332927",
     "exception": false,
     "start_time": "2022-05-12T00:44:13.289242",
     "status": "completed"
    },
    "tags": []
   },
   "outputs": [],
   "source": [
    "#hide\n",
    "# cols.insert(0, cols.pop())"
   ]
  },
  {
   "cell_type": "code",
   "execution_count": 30,
   "id": "executed-adoption",
   "metadata": {
    "execution": {
     "iopub.execute_input": "2022-05-12T00:44:13.407072Z",
     "iopub.status.busy": "2022-05-12T00:44:13.406456Z",
     "iopub.status.idle": "2022-05-12T00:44:13.408416Z",
     "shell.execute_reply": "2022-05-12T00:44:13.407810Z"
    },
    "papermill": {
     "duration": 0.040739,
     "end_time": "2022-05-12T00:44:13.408540",
     "exception": false,
     "start_time": "2022-05-12T00:44:13.367801",
     "status": "completed"
    },
    "tags": []
   },
   "outputs": [],
   "source": [
    "#hide\n",
    "# g = g[cols]"
   ]
  },
  {
   "cell_type": "code",
   "execution_count": 31,
   "id": "subject-dublin",
   "metadata": {
    "execution": {
     "iopub.execute_input": "2022-05-12T00:44:13.483539Z",
     "iopub.status.busy": "2022-05-12T00:44:13.482813Z",
     "iopub.status.idle": "2022-05-12T00:44:13.484983Z",
     "shell.execute_reply": "2022-05-12T00:44:13.484347Z"
    },
    "papermill": {
     "duration": 0.041431,
     "end_time": "2022-05-12T00:44:13.485121",
     "exception": false,
     "start_time": "2022-05-12T00:44:13.443690",
     "status": "completed"
    },
    "tags": []
   },
   "outputs": [],
   "source": [
    "#hide\n",
    "# g['continent'] = g['continent'].map(mapping['map.continent'])"
   ]
  },
  {
   "cell_type": "code",
   "execution_count": 32,
   "id": "freelance-scout",
   "metadata": {
    "execution": {
     "iopub.execute_input": "2022-05-12T00:44:13.559801Z",
     "iopub.status.busy": "2022-05-12T00:44:13.559150Z",
     "iopub.status.idle": "2022-05-12T00:44:13.563643Z",
     "shell.execute_reply": "2022-05-12T00:44:13.563137Z"
    },
    "papermill": {
     "duration": 0.042963,
     "end_time": "2022-05-12T00:44:13.563774",
     "exception": false,
     "start_time": "2022-05-12T00:44:13.520811",
     "status": "completed"
    },
    "tags": []
   },
   "outputs": [],
   "source": [
    "#hide\n",
    "# g.head()"
   ]
  },
  {
   "cell_type": "code",
   "execution_count": 33,
   "id": "limited-engine",
   "metadata": {
    "execution": {
     "iopub.execute_input": "2022-05-12T00:44:13.639942Z",
     "iopub.status.busy": "2022-05-12T00:44:13.638832Z",
     "iopub.status.idle": "2022-05-12T00:44:13.643271Z",
     "shell.execute_reply": "2022-05-12T00:44:13.642567Z"
    },
    "papermill": {
     "duration": 0.044966,
     "end_time": "2022-05-12T00:44:13.643429",
     "exception": false,
     "start_time": "2022-05-12T00:44:13.598463",
     "status": "completed"
    },
    "tags": []
   },
   "outputs": [],
   "source": [
    "# hide\n",
    "# g['date'] = g['date'].astype('datetime64[ns]')"
   ]
  },
  {
   "cell_type": "code",
   "execution_count": 34,
   "id": "sophisticated-supervisor",
   "metadata": {
    "execution": {
     "iopub.execute_input": "2022-05-12T00:44:13.719934Z",
     "iopub.status.busy": "2022-05-12T00:44:13.718814Z",
     "iopub.status.idle": "2022-05-12T00:44:13.723714Z",
     "shell.execute_reply": "2022-05-12T00:44:13.722620Z"
    },
    "papermill": {
     "duration": 0.045471,
     "end_time": "2022-05-12T00:44:13.723852",
     "exception": false,
     "start_time": "2022-05-12T00:44:13.678381",
     "status": "completed"
    },
    "tags": []
   },
   "outputs": [],
   "source": [
    "#hide\n",
    "# g['date'] = g.date.dt.dayofyear"
   ]
  },
  {
   "cell_type": "code",
   "execution_count": 35,
   "id": "inside-dubai",
   "metadata": {
    "execution": {
     "iopub.execute_input": "2022-05-12T00:44:13.798908Z",
     "iopub.status.busy": "2022-05-12T00:44:13.798278Z",
     "iopub.status.idle": "2022-05-12T00:44:13.801830Z",
     "shell.execute_reply": "2022-05-12T00:44:13.802282Z"
    },
    "papermill": {
     "duration": 0.043706,
     "end_time": "2022-05-12T00:44:13.802436",
     "exception": false,
     "start_time": "2022-05-12T00:44:13.758730",
     "status": "completed"
    },
    "tags": []
   },
   "outputs": [],
   "source": [
    "#hide\n",
    "# g = g.rename(columns= {'continent':'group','country':'name','cases':'value'})"
   ]
  },
  {
   "cell_type": "code",
   "execution_count": 36,
   "id": "fleet-motorcycle",
   "metadata": {
    "execution": {
     "iopub.execute_input": "2022-05-12T00:44:13.877735Z",
     "iopub.status.busy": "2022-05-12T00:44:13.877096Z",
     "iopub.status.idle": "2022-05-12T00:44:13.880153Z",
     "shell.execute_reply": "2022-05-12T00:44:13.879658Z"
    },
    "papermill": {
     "duration": 0.042986,
     "end_time": "2022-05-12T00:44:13.880285",
     "exception": false,
     "start_time": "2022-05-12T00:44:13.837299",
     "status": "completed"
    },
    "tags": []
   },
   "outputs": [],
   "source": [
    "#hide\n",
    "# cols = ['name','group','day','value']"
   ]
  },
  {
   "cell_type": "code",
   "execution_count": 37,
   "id": "continued-sleeping",
   "metadata": {
    "execution": {
     "iopub.execute_input": "2022-05-12T00:44:13.956473Z",
     "iopub.status.busy": "2022-05-12T00:44:13.955206Z",
     "iopub.status.idle": "2022-05-12T00:44:13.959007Z",
     "shell.execute_reply": "2022-05-12T00:44:13.958467Z"
    },
    "papermill": {
     "duration": 0.044092,
     "end_time": "2022-05-12T00:44:13.959135",
     "exception": false,
     "start_time": "2022-05-12T00:44:13.915043",
     "status": "completed"
    },
    "tags": []
   },
   "outputs": [],
   "source": [
    "#hide\n",
    "# g.rename(columns= {'date':'day'},inplace = True)"
   ]
  },
  {
   "cell_type": "code",
   "execution_count": 38,
   "id": "major-fight",
   "metadata": {
    "execution": {
     "iopub.execute_input": "2022-05-12T00:44:14.033443Z",
     "iopub.status.busy": "2022-05-12T00:44:14.032810Z",
     "iopub.status.idle": "2022-05-12T00:44:14.034703Z",
     "shell.execute_reply": "2022-05-12T00:44:14.035163Z"
    },
    "papermill": {
     "duration": 0.041165,
     "end_time": "2022-05-12T00:44:14.035338",
     "exception": false,
     "start_time": "2022-05-12T00:44:13.994173",
     "status": "completed"
    },
    "tags": []
   },
   "outputs": [],
   "source": [
    "#hide\n",
    "# g = g[cols]"
   ]
  },
  {
   "cell_type": "code",
   "execution_count": 39,
   "id": "structured-mobile",
   "metadata": {
    "execution": {
     "iopub.execute_input": "2022-05-12T00:44:14.111581Z",
     "iopub.status.busy": "2022-05-12T00:44:14.110916Z",
     "iopub.status.idle": "2022-05-12T00:44:14.114499Z",
     "shell.execute_reply": "2022-05-12T00:44:14.113982Z"
    },
    "papermill": {
     "duration": 0.044233,
     "end_time": "2022-05-12T00:44:14.114627",
     "exception": false,
     "start_time": "2022-05-12T00:44:14.070394",
     "status": "completed"
    },
    "tags": []
   },
   "outputs": [],
   "source": [
    "# #hide\n",
    "# g = g[g.group.notna()]"
   ]
  },
  {
   "cell_type": "code",
   "execution_count": 40,
   "id": "determined-closing",
   "metadata": {
    "execution": {
     "iopub.execute_input": "2022-05-12T00:44:14.188885Z",
     "iopub.status.busy": "2022-05-12T00:44:14.188246Z",
     "iopub.status.idle": "2022-05-12T00:44:14.192146Z",
     "shell.execute_reply": "2022-05-12T00:44:14.191592Z"
    },
    "papermill": {
     "duration": 0.042858,
     "end_time": "2022-05-12T00:44:14.192273",
     "exception": false,
     "start_time": "2022-05-12T00:44:14.149415",
     "status": "completed"
    },
    "tags": []
   },
   "outputs": [],
   "source": [
    "# #hide\n",
    "# colors = dict(zip(\n",
    "#     [\"Oceania\", \"Europe\", \"Asia\", \"South America\", \"Middle East\", \"North America\", \"Africa\"],\n",
    "#     [\"#adb0ff\", \"#ffb3ff\", \"#90d595\", \"#e48381\", \"#aafbff\", \"#f7bb5f\", \"#eafb50\"]\n",
    "# ))\n",
    "# group_lk = g.set_index('name')['group'].to_dict()"
   ]
  },
  {
   "cell_type": "code",
   "execution_count": null,
   "id": "gross-drinking",
   "metadata": {
    "papermill": {
     "duration": 0.034635,
     "end_time": "2022-05-12T00:44:14.261417",
     "exception": false,
     "start_time": "2022-05-12T00:44:14.226782",
     "status": "completed"
    },
    "tags": []
   },
   "outputs": [],
   "source": []
  },
  {
   "cell_type": "code",
   "execution_count": 41,
   "id": "subject-macintosh",
   "metadata": {
    "execution": {
     "iopub.execute_input": "2022-05-12T00:44:14.336704Z",
     "iopub.status.busy": "2022-05-12T00:44:14.336069Z",
     "iopub.status.idle": "2022-05-12T00:44:14.338435Z",
     "shell.execute_reply": "2022-05-12T00:44:14.337941Z"
    },
    "papermill": {
     "duration": 0.042457,
     "end_time": "2022-05-12T00:44:14.338564",
     "exception": false,
     "start_time": "2022-05-12T00:44:14.296107",
     "status": "completed"
    },
    "tags": []
   },
   "outputs": [],
   "source": [
    "# #hide\n",
    "# fig, ax = plt.subplots(figsize=(15, 8))\n",
    "\n",
    "# def draw_barchart(current_day):\n",
    "#     dff = g[g['day'].eq(current_day)].sort_values(by='value', ascending=True).tail(10)\n",
    "#     ax.clear()\n",
    "#     ax.barh(dff['name'], dff['value'], color=[colors[group_lk[x]] for x in dff['name']])\n",
    "#     dx = dff['value'].max() / 200\n",
    "    \n",
    "#     for i, (value, name) in enumerate(zip(dff['value'], dff['name'])):\n",
    "#         ax.text(value-dx, i,     name,           size=14, weight=600, ha='right', va='bottom')\n",
    "#         ax.text(value-dx, i-.25, group_lk[name], size=10, color='#444444', ha='right', va='baseline')\n",
    "#         ax.text(value+dx, i,     f'{value:,.0f}',  size=14, ha='left',  va='center')\n",
    "#     ax.text(1, 0.4, current_day, transform=ax.transAxes, color='#777777', size=46, ha='right', weight=800)\n",
    "#     ax.text(0, 1.06, 'Population (thousands)', transform=ax.transAxes, size=12, color='#777777')\n",
    "#     ax.xaxis.set_major_formatter(ticker.StrMethodFormatter('{x:,.0f}'))\n",
    "#     ax.xaxis.set_ticks_position('top')\n",
    "#     ax.tick_params(axis='x', colors='#777777', labelsize=12)\n",
    "#     ax.set_yticks([])\n",
    "#     ax.margins(0, 0.01)\n",
    "#     ax.grid(which='major', axis='x', linestyle='-')\n",
    "#     ax.set_axisbelow(True)\n",
    "    \n",
    "#     ax.text(0, 1.15, 'Coronavirus',\n",
    "#             transform=ax.transAxes, size=24, weight=600, ha='left', va='top')\n",
    "# #     ax.text(1, 0, 'by @pratapvardhan; credit @jburnmurdoch', transform=ax.transAxes, color='#777777', ha='right',\n",
    "# #             bbox=dict(facecolor='white', alpha=0.8, edgecolor='white'))\n",
    "#     plt.box(False)"
   ]
  },
  {
   "cell_type": "code",
   "execution_count": 42,
   "id": "sexual-wages",
   "metadata": {
    "execution": {
     "iopub.execute_input": "2022-05-12T00:44:14.414094Z",
     "iopub.status.busy": "2022-05-12T00:44:14.413030Z",
     "iopub.status.idle": "2022-05-12T00:44:14.417702Z",
     "shell.execute_reply": "2022-05-12T00:44:14.418163Z"
    },
    "papermill": {
     "duration": 0.045172,
     "end_time": "2022-05-12T00:44:14.418314",
     "exception": false,
     "start_time": "2022-05-12T00:44:14.373142",
     "status": "completed"
    },
    "tags": []
   },
   "outputs": [],
   "source": [
    "# #hide_input\n",
    "# fig, ax = plt.subplots(figsize=(15, 8))\n",
    "# animator = animation.FuncAnimation(fig, draw_barchart, frames=range(g.day.values.min(), g.day.values.max()))\n",
    "# HTML(animator.to_jshtml())\n",
    "# # or use animator.to_html5_video() or animator.save() "
   ]
  },
  {
   "cell_type": "code",
   "execution_count": null,
   "id": "australian-container",
   "metadata": {
    "papermill": {
     "duration": 0.03453,
     "end_time": "2022-05-12T00:44:14.487499",
     "exception": false,
     "start_time": "2022-05-12T00:44:14.452969",
     "status": "completed"
    },
    "tags": []
   },
   "outputs": [],
   "source": []
  },
  {
   "cell_type": "code",
   "execution_count": null,
   "id": "mediterranean-pontiac",
   "metadata": {
    "papermill": {
     "duration": 0.034348,
     "end_time": "2022-05-12T00:44:14.556387",
     "exception": false,
     "start_time": "2022-05-12T00:44:14.522039",
     "status": "completed"
    },
    "tags": []
   },
   "outputs": [],
   "source": []
  },
  {
   "cell_type": "code",
   "execution_count": null,
   "id": "aging-legislature",
   "metadata": {
    "papermill": {
     "duration": 0.034534,
     "end_time": "2022-05-12T00:44:14.625687",
     "exception": false,
     "start_time": "2022-05-12T00:44:14.591153",
     "status": "completed"
    },
    "tags": []
   },
   "outputs": [],
   "source": []
  }
 ],
 "metadata": {
  "kernelspec": {
   "display_name": "Python 3",
   "language": "python",
   "name": "python3"
  },
  "language_info": {
   "codemirror_mode": {
    "name": "ipython",
    "version": 3
   },
   "file_extension": ".py",
   "mimetype": "text/x-python",
   "name": "python",
   "nbconvert_exporter": "python",
   "pygments_lexer": "ipython3",
   "version": "3.6.15"
  },
  "papermill": {
   "duration": 6.811179,
   "end_time": "2022-05-12T00:44:15.080708",
   "environment_variables": {},
   "exception": null,
   "input_path": "2020-03-21-covid19exp.ipynb",
   "output_path": "2020-03-21-covid19exp.ipynb",
   "parameters": {},
   "start_time": "2022-05-12T00:44:08.269529",
   "version": "2.0.0"
  }
 },
 "nbformat": 4,
 "nbformat_minor": 5
}