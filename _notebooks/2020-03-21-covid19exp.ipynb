{
 "cells": [
  {
   "cell_type": "markdown",
   "id": "muslim-click",
   "metadata": {
    "papermill": {
     "duration": 0.036135,
     "end_time": "2022-02-24T12:14:25.375809",
     "exception": false,
     "start_time": "2022-02-24T12:14:25.339674",
     "status": "completed"
    },
    "tags": []
   },
   "source": [
    "# COVID-19 Case Race\n",
    "> A race chart to see rising cases around the world\n",
    "\n",
    "- author: Hargun Oberoi\n",
    "- image: images/covid-overview.png\n",
    "- hide: false\n",
    "- badges: false"
   ]
  },
  {
   "cell_type": "code",
   "execution_count": 1,
   "id": "proof-material",
   "metadata": {
    "execution": {
     "iopub.execute_input": "2022-02-24T12:14:25.455976Z",
     "iopub.status.busy": "2022-02-24T12:14:25.455376Z",
     "iopub.status.idle": "2022-02-24T12:14:25.813085Z",
     "shell.execute_reply": "2022-02-24T12:14:25.813988Z"
    },
    "papermill": {
     "duration": 0.404033,
     "end_time": "2022-02-24T12:14:25.814288",
     "exception": false,
     "start_time": "2022-02-24T12:14:25.410255",
     "status": "completed"
    },
    "tags": []
   },
   "outputs": [],
   "source": [
    "#hide\n",
    "import numpy as np\n",
    "import pandas as pd\n",
    "from jinja2 import Template\n",
    "from IPython.display import HTML"
   ]
  },
  {
   "cell_type": "code",
   "execution_count": 2,
   "id": "developed-terminology",
   "metadata": {
    "execution": {
     "iopub.execute_input": "2022-02-24T12:14:25.886875Z",
     "iopub.status.busy": "2022-02-24T12:14:25.886302Z",
     "iopub.status.idle": "2022-02-24T12:14:25.889756Z",
     "shell.execute_reply": "2022-02-24T12:14:25.890245Z"
    },
    "papermill": {
     "duration": 0.04162,
     "end_time": "2022-02-24T12:14:25.890382",
     "exception": false,
     "start_time": "2022-02-24T12:14:25.848762",
     "status": "completed"
    },
    "tags": []
   },
   "outputs": [],
   "source": [
    "#hide\n",
    "\n",
    "# FETCH\n",
    "base_url = 'https://raw.githubusercontent.com/pratapvardhan/notebooks/master/covid19/'\n",
    "paths = {\n",
    "    'mapping': base_url + 'mapping_countries.csv',\n",
    "    'overview': base_url + 'overview.tpl'\n",
    "}"
   ]
  },
  {
   "cell_type": "code",
   "execution_count": 3,
   "id": "dynamic-saver",
   "metadata": {
    "execution": {
     "iopub.execute_input": "2022-02-24T12:14:25.965569Z",
     "iopub.status.busy": "2022-02-24T12:14:25.964998Z",
     "iopub.status.idle": "2022-02-24T12:14:25.967510Z",
     "shell.execute_reply": "2022-02-24T12:14:25.968046Z"
    },
    "papermill": {
     "duration": 0.047036,
     "end_time": "2022-02-24T12:14:25.968173",
     "exception": false,
     "start_time": "2022-02-24T12:14:25.921137",
     "status": "completed"
    },
    "tags": []
   },
   "outputs": [
    {
     "data": {
      "text/plain": [
       "'https://raw.githubusercontent.com/pratapvardhan/notebooks/master/covid19/mapping_countries.csv'"
      ]
     },
     "execution_count": 3,
     "metadata": {},
     "output_type": "execute_result"
    }
   ],
   "source": [
    "#hide\n",
    "paths['mapping']"
   ]
  },
  {
   "cell_type": "code",
   "execution_count": 4,
   "id": "urban-software",
   "metadata": {
    "execution": {
     "iopub.execute_input": "2022-02-24T12:14:26.039727Z",
     "iopub.status.busy": "2022-02-24T12:14:26.038688Z",
     "iopub.status.idle": "2022-02-24T12:14:26.043096Z",
     "shell.execute_reply": "2022-02-24T12:14:26.042620Z"
    },
    "papermill": {
     "duration": 0.043326,
     "end_time": "2022-02-24T12:14:26.043215",
     "exception": false,
     "start_time": "2022-02-24T12:14:25.999889",
     "status": "completed"
    },
    "tags": []
   },
   "outputs": [],
   "source": [
    "#hide\n",
    "def get_mappings(url):\n",
    "    df = pd.read_csv(url)\n",
    "    return {\n",
    "        'df': df,\n",
    "        'replace.country': dict(df.dropna(subset=['Name']).set_index('Country')['Name']),\n",
    "        'map.continent': dict(df.set_index('Name')['Continent'])\n",
    "    }"
   ]
  },
  {
   "cell_type": "code",
   "execution_count": 5,
   "id": "intimate-machinery",
   "metadata": {
    "execution": {
     "iopub.execute_input": "2022-02-24T12:14:26.114507Z",
     "iopub.status.busy": "2022-02-24T12:14:26.113402Z",
     "iopub.status.idle": "2022-02-24T12:14:26.183150Z",
     "shell.execute_reply": "2022-02-24T12:14:26.183602Z"
    },
    "papermill": {
     "duration": 0.107966,
     "end_time": "2022-02-24T12:14:26.183757",
     "exception": false,
     "start_time": "2022-02-24T12:14:26.075791",
     "status": "completed"
    },
    "tags": []
   },
   "outputs": [],
   "source": [
    "#hide\n",
    "mapping = get_mappings(paths['mapping'])"
   ]
  },
  {
   "cell_type": "code",
   "execution_count": 6,
   "id": "certified-tactics",
   "metadata": {
    "execution": {
     "iopub.execute_input": "2022-02-24T12:14:26.257054Z",
     "iopub.status.busy": "2022-02-24T12:14:26.256413Z",
     "iopub.status.idle": "2022-02-24T12:14:26.258767Z",
     "shell.execute_reply": "2022-02-24T12:14:26.258180Z"
    },
    "papermill": {
     "duration": 0.041694,
     "end_time": "2022-02-24T12:14:26.258895",
     "exception": false,
     "start_time": "2022-02-24T12:14:26.217201",
     "status": "completed"
    },
    "tags": []
   },
   "outputs": [],
   "source": [
    "#hide\n",
    "def get_template(path):\n",
    "    from urllib.parse import urlparse\n",
    "    if bool(urlparse(path).netloc):\n",
    "        from urllib.request import urlopen\n",
    "        return urlopen(path).read().decode('utf8')\n",
    "    return open(path).read()"
   ]
  },
  {
   "cell_type": "code",
   "execution_count": 7,
   "id": "realistic-blast",
   "metadata": {
    "execution": {
     "iopub.execute_input": "2022-02-24T12:14:26.330409Z",
     "iopub.status.busy": "2022-02-24T12:14:26.329776Z",
     "iopub.status.idle": "2022-02-24T12:14:26.332322Z",
     "shell.execute_reply": "2022-02-24T12:14:26.332799Z"
    },
    "papermill": {
     "duration": 0.040646,
     "end_time": "2022-02-24T12:14:26.332940",
     "exception": false,
     "start_time": "2022-02-24T12:14:26.292294",
     "status": "completed"
    },
    "tags": []
   },
   "outputs": [],
   "source": [
    "#hide\n",
    "def get_frame(name):\n",
    "    url = (\n",
    "        'https://raw.githubusercontent.com/CSSEGISandData/COVID-19/master/csse_covid_19_data/'\n",
    "        f'csse_covid_19_time_series/time_series_covid19_{name}_global.csv')\n",
    "    df = pd.read_csv(url)\n",
    "    # rename countries\n",
    "    df['Country/Region'] = df['Country/Region'].replace(mapping['replace.country'])\n",
    "    return df"
   ]
  },
  {
   "cell_type": "code",
   "execution_count": 8,
   "id": "affiliated-characterization",
   "metadata": {
    "execution": {
     "iopub.execute_input": "2022-02-24T12:14:26.406815Z",
     "iopub.status.busy": "2022-02-24T12:14:26.406085Z",
     "iopub.status.idle": "2022-02-24T12:14:26.407371Z",
     "shell.execute_reply": "2022-02-24T12:14:26.407893Z"
    },
    "papermill": {
     "duration": 0.041977,
     "end_time": "2022-02-24T12:14:26.408024",
     "exception": false,
     "start_time": "2022-02-24T12:14:26.366047",
     "status": "completed"
    },
    "tags": []
   },
   "outputs": [],
   "source": [
    "#hide\n",
    "def get_dates(df):\n",
    "    dt_cols = df.columns[~df.columns.isin(['Province/State', 'Country/Region', 'Lat', 'Long'])]\n",
    "    LAST_DATE_I = -1\n",
    "    # sometimes last column may be empty, then go backwards\n",
    "    for i in range(-1, -len(dt_cols), -1):\n",
    "        if not df[dt_cols[i]].fillna(0).eq(0).all():\n",
    "            LAST_DATE_I = i\n",
    "            break\n",
    "    return LAST_DATE_I, dt_cols"
   ]
  },
  {
   "cell_type": "code",
   "execution_count": 9,
   "id": "recent-optimization",
   "metadata": {
    "execution": {
     "iopub.execute_input": "2022-02-24T12:14:26.479567Z",
     "iopub.status.busy": "2022-02-24T12:14:26.478954Z",
     "iopub.status.idle": "2022-02-24T12:14:27.121161Z",
     "shell.execute_reply": "2022-02-24T12:14:27.120283Z"
    },
    "papermill": {
     "duration": 0.681433,
     "end_time": "2022-02-24T12:14:27.121382",
     "exception": false,
     "start_time": "2022-02-24T12:14:26.439949",
     "status": "completed"
    },
    "tags": []
   },
   "outputs": [],
   "source": [
    "#hide\n",
    "COL_REGION = 'Country/Region'\n",
    "# Confirmed, Recovered, Deaths\n",
    "df = get_frame('confirmed')\n",
    "# dft_: timeseries, dfc_: today country agg\n",
    "dft_cases = df\n",
    "dft_deaths = get_frame('deaths')\n",
    "dft_recovered = get_frame('recovered')\n",
    "LAST_DATE_I, dt_cols = get_dates(df)"
   ]
  },
  {
   "cell_type": "code",
   "execution_count": 10,
   "id": "absolute-copper",
   "metadata": {
    "execution": {
     "iopub.execute_input": "2022-02-24T12:14:27.196703Z",
     "iopub.status.busy": "2022-02-24T12:14:27.196095Z",
     "iopub.status.idle": "2022-02-24T12:14:27.198513Z",
     "shell.execute_reply": "2022-02-24T12:14:27.197975Z"
    },
    "papermill": {
     "duration": 0.042714,
     "end_time": "2022-02-24T12:14:27.198634",
     "exception": false,
     "start_time": "2022-02-24T12:14:27.155920",
     "status": "completed"
    },
    "tags": []
   },
   "outputs": [],
   "source": [
    "#hide\n",
    "LAST_DATE_I, dt_cols = get_dates(df)\n",
    "dt_today =dt_cols[LAST_DATE_I]\n",
    "# dt_5day = dt_cols[LAST_DATE_I - 5]\n",
    "dt_yday = dt_cols[LAST_DATE_I - 1]"
   ]
  },
  {
   "cell_type": "code",
   "execution_count": 11,
   "id": "restricted-sheriff",
   "metadata": {
    "execution": {
     "iopub.execute_input": "2022-02-24T12:14:27.268919Z",
     "iopub.status.busy": "2022-02-24T12:14:27.268325Z",
     "iopub.status.idle": "2022-02-24T12:14:27.276607Z",
     "shell.execute_reply": "2022-02-24T12:14:27.276135Z"
    },
    "papermill": {
     "duration": 0.046465,
     "end_time": "2022-02-24T12:14:27.276730",
     "exception": false,
     "start_time": "2022-02-24T12:14:27.230265",
     "status": "completed"
    },
    "tags": []
   },
   "outputs": [],
   "source": [
    "#hide\n",
    "dfc_cases = dft_cases.groupby(COL_REGION)[dt_today].sum()\n",
    "dfc_deaths = dft_deaths.groupby(COL_REGION)[dt_today].sum()\n",
    "# dfp_cases = dft_cases.groupby(COL_REGION)[dt_5day].sum()\n",
    "# dfp_deaths = dft_deaths.groupby(COL_REGION)[dt_5day].sum()\n",
    "dfp_cases = dft_cases.groupby(COL_REGION)[dt_yday].sum()\n",
    "dfp_deaths = dft_deaths.groupby(COL_REGION)[dt_yday].sum()"
   ]
  },
  {
   "cell_type": "code",
   "execution_count": 12,
   "id": "deluxe-hepatitis",
   "metadata": {
    "execution": {
     "iopub.execute_input": "2022-02-24T12:14:27.349696Z",
     "iopub.status.busy": "2022-02-24T12:14:27.349103Z",
     "iopub.status.idle": "2022-02-24T12:14:27.353716Z",
     "shell.execute_reply": "2022-02-24T12:14:27.354258Z"
    },
    "papermill": {
     "duration": 0.04498,
     "end_time": "2022-02-24T12:14:27.354400",
     "exception": false,
     "start_time": "2022-02-24T12:14:27.309420",
     "status": "completed"
    },
    "tags": []
   },
   "outputs": [],
   "source": [
    "#hide\n",
    "df_table = (pd.DataFrame(dict(Cases = dfc_cases, Deaths = dfc_deaths, PCases = dfp_cases, PDeaths = dfp_deaths))\n",
    "            .sort_values(by = ['Cases','Deaths'], ascending = [False, False])\n",
    "            .reset_index())"
   ]
  },
  {
   "cell_type": "code",
   "execution_count": 13,
   "id": "educational-chancellor",
   "metadata": {
    "execution": {
     "iopub.execute_input": "2022-02-24T12:14:27.442529Z",
     "iopub.status.busy": "2022-02-24T12:14:27.437610Z",
     "iopub.status.idle": "2022-02-24T12:14:27.451057Z",
     "shell.execute_reply": "2022-02-24T12:14:27.450560Z"
    },
    "papermill": {
     "duration": 0.063858,
     "end_time": "2022-02-24T12:14:27.451177",
     "exception": false,
     "start_time": "2022-02-24T12:14:27.387319",
     "status": "completed"
    },
    "tags": []
   },
   "outputs": [
    {
     "data": {
      "text/html": [
       "<div>\n",
       "<style scoped>\n",
       "    .dataframe tbody tr th:only-of-type {\n",
       "        vertical-align: middle;\n",
       "    }\n",
       "\n",
       "    .dataframe tbody tr th {\n",
       "        vertical-align: top;\n",
       "    }\n",
       "\n",
       "    .dataframe thead th {\n",
       "        text-align: right;\n",
       "    }\n",
       "</style>\n",
       "<table border=\"1\" class=\"dataframe\">\n",
       "  <thead>\n",
       "    <tr style=\"text-align: right;\">\n",
       "      <th></th>\n",
       "      <th>Country/Region</th>\n",
       "      <th>Cases</th>\n",
       "      <th>Deaths</th>\n",
       "      <th>PCases</th>\n",
       "      <th>PDeaths</th>\n",
       "      <th>Cases (+)</th>\n",
       "      <th>Deaths (+)</th>\n",
       "      <th>Fatality Rate</th>\n",
       "      <th>Continent</th>\n",
       "    </tr>\n",
       "  </thead>\n",
       "  <tbody>\n",
       "    <tr>\n",
       "      <th>0</th>\n",
       "      <td>US</td>\n",
       "      <td>78733444</td>\n",
       "      <td>941889</td>\n",
       "      <td>78648651</td>\n",
       "      <td>939064</td>\n",
       "      <td>84793</td>\n",
       "      <td>2825</td>\n",
       "      <td>1.20</td>\n",
       "      <td>North America</td>\n",
       "    </tr>\n",
       "    <tr>\n",
       "      <th>1</th>\n",
       "      <td>India</td>\n",
       "      <td>42881179</td>\n",
       "      <td>512924</td>\n",
       "      <td>42867031</td>\n",
       "      <td>512622</td>\n",
       "      <td>14148</td>\n",
       "      <td>302</td>\n",
       "      <td>1.20</td>\n",
       "      <td>Asia</td>\n",
       "    </tr>\n",
       "    <tr>\n",
       "      <th>2</th>\n",
       "      <td>Brazil</td>\n",
       "      <td>28493336</td>\n",
       "      <td>646714</td>\n",
       "      <td>28361951</td>\n",
       "      <td>645735</td>\n",
       "      <td>131385</td>\n",
       "      <td>979</td>\n",
       "      <td>2.27</td>\n",
       "      <td>South America</td>\n",
       "    </tr>\n",
       "    <tr>\n",
       "      <th>3</th>\n",
       "      <td>France</td>\n",
       "      <td>22638153</td>\n",
       "      <td>138502</td>\n",
       "      <td>22563594</td>\n",
       "      <td>138277</td>\n",
       "      <td>74559</td>\n",
       "      <td>225</td>\n",
       "      <td>0.61</td>\n",
       "      <td>Europe</td>\n",
       "    </tr>\n",
       "    <tr>\n",
       "      <th>4</th>\n",
       "      <td>United Kingdom</td>\n",
       "      <td>18867585</td>\n",
       "      <td>161549</td>\n",
       "      <td>18826968</td>\n",
       "      <td>161384</td>\n",
       "      <td>40617</td>\n",
       "      <td>165</td>\n",
       "      <td>0.86</td>\n",
       "      <td>Europe</td>\n",
       "    </tr>\n",
       "  </tbody>\n",
       "</table>\n",
       "</div>"
      ],
      "text/plain": [
       "   Country/Region     Cases  Deaths    PCases  PDeaths  Cases (+)  Deaths (+)  \\\n",
       "0              US  78733444  941889  78648651   939064      84793        2825   \n",
       "1           India  42881179  512924  42867031   512622      14148         302   \n",
       "2          Brazil  28493336  646714  28361951   645735     131385         979   \n",
       "3          France  22638153  138502  22563594   138277      74559         225   \n",
       "4  United Kingdom  18867585  161549  18826968   161384      40617         165   \n",
       "\n",
       "   Fatality Rate      Continent  \n",
       "0           1.20  North America  \n",
       "1           1.20           Asia  \n",
       "2           2.27  South America  \n",
       "3           0.61         Europe  \n",
       "4           0.86         Europe  "
      ]
     },
     "execution_count": 13,
     "metadata": {},
     "output_type": "execute_result"
    }
   ],
   "source": [
    "#hide\n",
    "for c in 'Cases, Deaths'.split(', '):\n",
    "    df_table[f'{c} (+)'] = (df_table[c] - df_table[f'P{c}']).clip(0)\n",
    "    #Clip ça veut dire, les chiffres negatif sont interdit\n",
    "df_table['Fatality Rate'] = (100* df_table['Deaths']/ df_table['Cases']).round(2)\n",
    "df_table['Continent'] = df_table['Country/Region'].map(mapping['map.continent'])\n",
    "df_table.head(5)"
   ]
  },
  {
   "cell_type": "code",
   "execution_count": 14,
   "id": "aboriginal-bulgaria",
   "metadata": {
    "execution": {
     "iopub.execute_input": "2022-02-24T12:14:27.523971Z",
     "iopub.status.busy": "2022-02-24T12:14:27.523352Z",
     "iopub.status.idle": "2022-02-24T12:14:27.525827Z",
     "shell.execute_reply": "2022-02-24T12:14:27.526376Z"
    },
    "papermill": {
     "duration": 0.04336,
     "end_time": "2022-02-24T12:14:27.526519",
     "exception": false,
     "start_time": "2022-02-24T12:14:27.483159",
     "status": "completed"
    },
    "tags": []
   },
   "outputs": [],
   "source": [
    "#hide\n",
    "#delete problematic countries from table\n",
    "df_table = df_table[~df_table['Country/Region'].isin(['Cape Verde', 'Cruise Ship', 'Kosovo'])]"
   ]
  },
  {
   "cell_type": "code",
   "execution_count": 15,
   "id": "fantastic-effect",
   "metadata": {
    "execution": {
     "iopub.execute_input": "2022-02-24T12:14:27.603286Z",
     "iopub.status.busy": "2022-02-24T12:14:27.602682Z",
     "iopub.status.idle": "2022-02-24T12:14:27.621546Z",
     "shell.execute_reply": "2022-02-24T12:14:27.621053Z"
    },
    "papermill": {
     "duration": 0.062874,
     "end_time": "2022-02-24T12:14:27.621670",
     "exception": false,
     "start_time": "2022-02-24T12:14:27.558796",
     "status": "completed"
    },
    "tags": []
   },
   "outputs": [
    {
     "data": {
      "text/html": [
       "<div>\n",
       "<style scoped>\n",
       "    .dataframe tbody tr th:only-of-type {\n",
       "        vertical-align: middle;\n",
       "    }\n",
       "\n",
       "    .dataframe tbody tr th {\n",
       "        vertical-align: top;\n",
       "    }\n",
       "\n",
       "    .dataframe thead th {\n",
       "        text-align: right;\n",
       "    }\n",
       "</style>\n",
       "<table border=\"1\" class=\"dataframe\">\n",
       "  <thead>\n",
       "    <tr style=\"text-align: right;\">\n",
       "      <th></th>\n",
       "      <th>Country/Region</th>\n",
       "      <th>Cases</th>\n",
       "      <th>Deaths</th>\n",
       "      <th>PCases</th>\n",
       "      <th>PDeaths</th>\n",
       "      <th>Cases (+)</th>\n",
       "      <th>Deaths (+)</th>\n",
       "      <th>Fatality Rate</th>\n",
       "      <th>Continent</th>\n",
       "    </tr>\n",
       "  </thead>\n",
       "  <tbody>\n",
       "    <tr>\n",
       "      <th>0</th>\n",
       "      <td>US</td>\n",
       "      <td>78733444</td>\n",
       "      <td>941889</td>\n",
       "      <td>78648651</td>\n",
       "      <td>939064</td>\n",
       "      <td>84793</td>\n",
       "      <td>2825</td>\n",
       "      <td>1.2</td>\n",
       "      <td>North America</td>\n",
       "    </tr>\n",
       "    <tr>\n",
       "      <th>1</th>\n",
       "      <td>India</td>\n",
       "      <td>42881179</td>\n",
       "      <td>512924</td>\n",
       "      <td>42867031</td>\n",
       "      <td>512622</td>\n",
       "      <td>14148</td>\n",
       "      <td>302</td>\n",
       "      <td>1.2</td>\n",
       "      <td>Asia</td>\n",
       "    </tr>\n",
       "    <tr>\n",
       "      <th>2</th>\n",
       "      <td>Brazil</td>\n",
       "      <td>28493336</td>\n",
       "      <td>646714</td>\n",
       "      <td>28361951</td>\n",
       "      <td>645735</td>\n",
       "      <td>131385</td>\n",
       "      <td>979</td>\n",
       "      <td>2.3</td>\n",
       "      <td>South America</td>\n",
       "    </tr>\n",
       "    <tr>\n",
       "      <th>3</th>\n",
       "      <td>France</td>\n",
       "      <td>22638153</td>\n",
       "      <td>138502</td>\n",
       "      <td>22563594</td>\n",
       "      <td>138277</td>\n",
       "      <td>74559</td>\n",
       "      <td>225</td>\n",
       "      <td>0.6</td>\n",
       "      <td>Europe</td>\n",
       "    </tr>\n",
       "    <tr>\n",
       "      <th>4</th>\n",
       "      <td>United Kingdom</td>\n",
       "      <td>18867585</td>\n",
       "      <td>161549</td>\n",
       "      <td>18826968</td>\n",
       "      <td>161384</td>\n",
       "      <td>40617</td>\n",
       "      <td>165</td>\n",
       "      <td>0.9</td>\n",
       "      <td>Europe</td>\n",
       "    </tr>\n",
       "  </tbody>\n",
       "</table>\n",
       "</div>"
      ],
      "text/plain": [
       "   Country/Region     Cases  Deaths    PCases  PDeaths  Cases (+)  Deaths (+)  \\\n",
       "0              US  78733444  941889  78648651   939064      84793        2825   \n",
       "1           India  42881179  512924  42867031   512622      14148         302   \n",
       "2          Brazil  28493336  646714  28361951   645735     131385         979   \n",
       "3          France  22638153  138502  22563594   138277      74559         225   \n",
       "4  United Kingdom  18867585  161549  18826968   161384      40617         165   \n",
       "\n",
       "   Fatality Rate      Continent  \n",
       "0            1.2  North America  \n",
       "1            1.2           Asia  \n",
       "2            2.3  South America  \n",
       "3            0.6         Europe  \n",
       "4            0.9         Europe  "
      ]
     },
     "execution_count": 15,
     "metadata": {},
     "output_type": "execute_result"
    }
   ],
   "source": [
    "#hide\n",
    "df_table = (pd.DataFrame(dict(Cases=dfc_cases, Deaths=dfc_deaths, PCases=dfp_cases, PDeaths=dfp_deaths))\n",
    "             .sort_values(by=['Cases', 'Deaths'], ascending=[False, False])\n",
    "             .reset_index())\n",
    "df_table.rename(columns={'index': 'Country/Region'}, inplace=True)\n",
    "for c in 'Cases, Deaths'.split(', '):\n",
    "    df_table[f'{c} (+)'] = (df_table[c] - df_table[f'P{c}']).clip(0)  # DATA BUG\n",
    "df_table['Fatality Rate'] = (100 * df_table['Deaths'] / df_table['Cases']).round(1)\n",
    "df_table['Continent'] = df_table['Country/Region'].map(mapping['map.continent'])\n",
    "df_table.head(5)"
   ]
  },
  {
   "cell_type": "code",
   "execution_count": 16,
   "id": "fewer-occasion",
   "metadata": {
    "execution": {
     "iopub.execute_input": "2022-02-24T12:14:27.696298Z",
     "iopub.status.busy": "2022-02-24T12:14:27.695684Z",
     "iopub.status.idle": "2022-02-24T12:14:27.698436Z",
     "shell.execute_reply": "2022-02-24T12:14:27.697953Z"
    },
    "papermill": {
     "duration": 0.042929,
     "end_time": "2022-02-24T12:14:27.698562",
     "exception": false,
     "start_time": "2022-02-24T12:14:27.655633",
     "status": "completed"
    },
    "tags": []
   },
   "outputs": [],
   "source": [
    "#hide\n",
    "#delete problematic countries from table\n",
    "df_table = df_table[~df_table['Country/Region'].isin(['Cape Verde', 'Cruise Ship', 'Kosovo'])]"
   ]
  },
  {
   "cell_type": "code",
   "execution_count": 17,
   "id": "related-center",
   "metadata": {
    "execution": {
     "iopub.execute_input": "2022-02-24T12:14:27.783742Z",
     "iopub.status.busy": "2022-02-24T12:14:27.783119Z",
     "iopub.status.idle": "2022-02-24T12:14:27.785545Z",
     "shell.execute_reply": "2022-02-24T12:14:27.785104Z"
    },
    "papermill": {
     "duration": 0.053983,
     "end_time": "2022-02-24T12:14:27.785658",
     "exception": false,
     "start_time": "2022-02-24T12:14:27.731675",
     "status": "completed"
    },
    "tags": []
   },
   "outputs": [],
   "source": [
    "#hide\n",
    "metrics = [df_table.columns[index] for index in [1,2,5,6]]\n",
    "# s_china = df_table[df_table['Country/Region'].eq('China')][metrics].sum().add_prefix('China ')\n",
    "s_us = df_table[df_table['Country/Region'].eq('US')][metrics].sum().add_prefix('US ')\n",
    "s_eu = df_table[df_table['Continent'].eq('Europe')][metrics].sum().add_prefix('EU ')\n",
    "s_ind = df_table[df_table['Country/Region'].eq('India')][metrics].sum().add_prefix('India ')\n",
    "summary = {'updated': pd.to_datetime(dt_today), 'since': pd.to_datetime(dt_yday)}\n",
    "summary = {'updated': pd.to_datetime(dt_today), 'since': pd.to_datetime(dt_yday)}\n",
    "summary = {**summary, **df_table[metrics].sum(), **s_ind, **s_us, **s_eu}"
   ]
  },
  {
   "cell_type": "code",
   "execution_count": 18,
   "id": "engaging-syndrome",
   "metadata": {
    "execution": {
     "iopub.execute_input": "2022-02-24T12:14:27.858844Z",
     "iopub.status.busy": "2022-02-24T12:14:27.858291Z",
     "iopub.status.idle": "2022-02-24T12:14:27.875784Z",
     "shell.execute_reply": "2022-02-24T12:14:27.876239Z"
    },
    "papermill": {
     "duration": 0.057209,
     "end_time": "2022-02-24T12:14:27.876387",
     "exception": false,
     "start_time": "2022-02-24T12:14:27.819178",
     "status": "completed"
    },
    "tags": []
   },
   "outputs": [],
   "source": [
    "#hide\n",
    "dft_ct_new_cases = dft_cases.groupby(COL_REGION)[dt_cols].sum().diff(axis=1).fillna(0).astype(int)"
   ]
  },
  {
   "cell_type": "code",
   "execution_count": 19,
   "id": "neutral-assignment",
   "metadata": {
    "execution": {
     "iopub.execute_input": "2022-02-24T12:14:27.948074Z",
     "iopub.status.busy": "2022-02-24T12:14:27.947501Z",
     "iopub.status.idle": "2022-02-24T12:14:27.952260Z",
     "shell.execute_reply": "2022-02-24T12:14:27.951814Z"
    },
    "papermill": {
     "duration": 0.041754,
     "end_time": "2022-02-24T12:14:27.952375",
     "exception": false,
     "start_time": "2022-02-24T12:14:27.910621",
     "status": "completed"
    },
    "tags": []
   },
   "outputs": [],
   "source": [
    "#hide\n",
    "everydaycases = dft_ct_new_cases.cumsum(axis=1)"
   ]
  },
  {
   "cell_type": "code",
   "execution_count": 20,
   "id": "parliamentary-calgary",
   "metadata": {
    "execution": {
     "iopub.execute_input": "2022-02-24T12:14:28.024765Z",
     "iopub.status.busy": "2022-02-24T12:14:28.024190Z",
     "iopub.status.idle": "2022-02-24T12:14:28.673978Z",
     "shell.execute_reply": "2022-02-24T12:14:28.672615Z"
    },
    "papermill": {
     "duration": 0.68876,
     "end_time": "2022-02-24T12:14:28.674194",
     "exception": false,
     "start_time": "2022-02-24T12:14:27.985434",
     "status": "completed"
    },
    "tags": []
   },
   "outputs": [],
   "source": [
    "#hide\n",
    "import pandas as pd\n",
    "import matplotlib.pyplot as plt\n",
    "import matplotlib.ticker as ticker\n",
    "import matplotlib.animation as animation\n",
    "from IPython.display import HTML"
   ]
  },
  {
   "cell_type": "code",
   "execution_count": 21,
   "id": "lasting-extraction",
   "metadata": {
    "execution": {
     "iopub.execute_input": "2022-02-24T12:14:28.749997Z",
     "iopub.status.busy": "2022-02-24T12:14:28.749378Z",
     "iopub.status.idle": "2022-02-24T12:14:28.756098Z",
     "shell.execute_reply": "2022-02-24T12:14:28.755597Z"
    },
    "papermill": {
     "duration": 0.047384,
     "end_time": "2022-02-24T12:14:28.756214",
     "exception": false,
     "start_time": "2022-02-24T12:14:28.708830",
     "status": "completed"
    },
    "tags": []
   },
   "outputs": [],
   "source": [
    "#hide\n",
    "t = everydaycases.stack()"
   ]
  },
  {
   "cell_type": "code",
   "execution_count": 22,
   "id": "premier-sleeve",
   "metadata": {
    "execution": {
     "iopub.execute_input": "2022-02-24T12:14:28.827505Z",
     "iopub.status.busy": "2022-02-24T12:14:28.826949Z",
     "iopub.status.idle": "2022-02-24T12:14:28.838737Z",
     "shell.execute_reply": "2022-02-24T12:14:28.838263Z"
    },
    "papermill": {
     "duration": 0.050033,
     "end_time": "2022-02-24T12:14:28.838854",
     "exception": false,
     "start_time": "2022-02-24T12:14:28.788821",
     "status": "completed"
    },
    "tags": []
   },
   "outputs": [],
   "source": [
    "#hide\n",
    "g = t.reset_index(['Country/Region'])"
   ]
  },
  {
   "cell_type": "code",
   "execution_count": 23,
   "id": "distributed-pittsburgh",
   "metadata": {
    "execution": {
     "iopub.execute_input": "2022-02-24T12:14:28.909308Z",
     "iopub.status.busy": "2022-02-24T12:14:28.908722Z",
     "iopub.status.idle": "2022-02-24T12:14:28.910860Z",
     "shell.execute_reply": "2022-02-24T12:14:28.911426Z"
    },
    "papermill": {
     "duration": 0.040193,
     "end_time": "2022-02-24T12:14:28.911562",
     "exception": false,
     "start_time": "2022-02-24T12:14:28.871369",
     "status": "completed"
    },
    "tags": []
   },
   "outputs": [],
   "source": [
    "#hide\n",
    "g.index.name = 'date'"
   ]
  },
  {
   "cell_type": "code",
   "execution_count": 24,
   "id": "naked-donor",
   "metadata": {
    "execution": {
     "iopub.execute_input": "2022-02-24T12:14:28.982237Z",
     "iopub.status.busy": "2022-02-24T12:14:28.981331Z",
     "iopub.status.idle": "2022-02-24T12:14:28.985539Z",
     "shell.execute_reply": "2022-02-24T12:14:28.984839Z"
    },
    "papermill": {
     "duration": 0.041172,
     "end_time": "2022-02-24T12:14:28.985708",
     "exception": false,
     "start_time": "2022-02-24T12:14:28.944536",
     "status": "completed"
    },
    "tags": []
   },
   "outputs": [],
   "source": [
    "# #hide\n",
    "# g = g.reset_index(['date'])"
   ]
  },
  {
   "cell_type": "code",
   "execution_count": 25,
   "id": "incomplete-mustang",
   "metadata": {
    "execution": {
     "iopub.execute_input": "2022-02-24T12:14:29.057214Z",
     "iopub.status.busy": "2022-02-24T12:14:29.056662Z",
     "iopub.status.idle": "2022-02-24T12:14:29.059192Z",
     "shell.execute_reply": "2022-02-24T12:14:29.059677Z"
    },
    "papermill": {
     "duration": 0.039677,
     "end_time": "2022-02-24T12:14:29.059805",
     "exception": false,
     "start_time": "2022-02-24T12:14:29.020128",
     "status": "completed"
    },
    "tags": []
   },
   "outputs": [],
   "source": [
    "#hide\n",
    "# g.head()"
   ]
  },
  {
   "cell_type": "code",
   "execution_count": 26,
   "id": "specific-kruger",
   "metadata": {
    "execution": {
     "iopub.execute_input": "2022-02-24T12:14:29.130905Z",
     "iopub.status.busy": "2022-02-24T12:14:29.130128Z",
     "iopub.status.idle": "2022-02-24T12:14:29.132907Z",
     "shell.execute_reply": "2022-02-24T12:14:29.132416Z"
    },
    "papermill": {
     "duration": 0.040396,
     "end_time": "2022-02-24T12:14:29.133018",
     "exception": false,
     "start_time": "2022-02-24T12:14:29.092622",
     "status": "completed"
    },
    "tags": []
   },
   "outputs": [],
   "source": [
    "#hide\n",
    "# g.columns = ['date','country','cases']"
   ]
  },
  {
   "cell_type": "code",
   "execution_count": 27,
   "id": "tender-conversion",
   "metadata": {
    "execution": {
     "iopub.execute_input": "2022-02-24T12:14:29.203160Z",
     "iopub.status.busy": "2022-02-24T12:14:29.202616Z",
     "iopub.status.idle": "2022-02-24T12:14:29.205162Z",
     "shell.execute_reply": "2022-02-24T12:14:29.204691Z"
    },
    "papermill": {
     "duration": 0.039209,
     "end_time": "2022-02-24T12:14:29.205281",
     "exception": false,
     "start_time": "2022-02-24T12:14:29.166072",
     "status": "completed"
    },
    "tags": []
   },
   "outputs": [],
   "source": [
    "#hide\n",
    "# g['continent'] = g.country"
   ]
  },
  {
   "cell_type": "code",
   "execution_count": 28,
   "id": "substantial-wilderness",
   "metadata": {
    "execution": {
     "iopub.execute_input": "2022-02-24T12:14:29.275092Z",
     "iopub.status.busy": "2022-02-24T12:14:29.274531Z",
     "iopub.status.idle": "2022-02-24T12:14:29.276933Z",
     "shell.execute_reply": "2022-02-24T12:14:29.276464Z"
    },
    "papermill": {
     "duration": 0.038749,
     "end_time": "2022-02-24T12:14:29.277055",
     "exception": false,
     "start_time": "2022-02-24T12:14:29.238306",
     "status": "completed"
    },
    "tags": []
   },
   "outputs": [],
   "source": [
    "#hide\n",
    "# cols = list(g.columns.values)"
   ]
  },
  {
   "cell_type": "code",
   "execution_count": 29,
   "id": "solved-farming",
   "metadata": {
    "execution": {
     "iopub.execute_input": "2022-02-24T12:14:29.348996Z",
     "iopub.status.busy": "2022-02-24T12:14:29.347959Z",
     "iopub.status.idle": "2022-02-24T12:14:29.352854Z",
     "shell.execute_reply": "2022-02-24T12:14:29.353656Z"
    },
    "papermill": {
     "duration": 0.044252,
     "end_time": "2022-02-24T12:14:29.353925",
     "exception": false,
     "start_time": "2022-02-24T12:14:29.309673",
     "status": "completed"
    },
    "tags": []
   },
   "outputs": [],
   "source": [
    "#hide\n",
    "# cols.insert(0, cols.pop())"
   ]
  },
  {
   "cell_type": "code",
   "execution_count": 30,
   "id": "executed-adoption",
   "metadata": {
    "execution": {
     "iopub.execute_input": "2022-02-24T12:14:29.425849Z",
     "iopub.status.busy": "2022-02-24T12:14:29.425288Z",
     "iopub.status.idle": "2022-02-24T12:14:29.428931Z",
     "shell.execute_reply": "2022-02-24T12:14:29.428457Z"
    },
    "papermill": {
     "duration": 0.041761,
     "end_time": "2022-02-24T12:14:29.429064",
     "exception": false,
     "start_time": "2022-02-24T12:14:29.387303",
     "status": "completed"
    },
    "tags": []
   },
   "outputs": [],
   "source": [
    "#hide\n",
    "# g = g[cols]"
   ]
  },
  {
   "cell_type": "code",
   "execution_count": 31,
   "id": "subject-dublin",
   "metadata": {
    "execution": {
     "iopub.execute_input": "2022-02-24T12:14:29.498357Z",
     "iopub.status.busy": "2022-02-24T12:14:29.497765Z",
     "iopub.status.idle": "2022-02-24T12:14:29.499589Z",
     "shell.execute_reply": "2022-02-24T12:14:29.500065Z"
    },
    "papermill": {
     "duration": 0.037537,
     "end_time": "2022-02-24T12:14:29.500197",
     "exception": false,
     "start_time": "2022-02-24T12:14:29.462660",
     "status": "completed"
    },
    "tags": []
   },
   "outputs": [],
   "source": [
    "#hide\n",
    "# g['continent'] = g['continent'].map(mapping['map.continent'])"
   ]
  },
  {
   "cell_type": "code",
   "execution_count": 32,
   "id": "freelance-scout",
   "metadata": {
    "execution": {
     "iopub.execute_input": "2022-02-24T12:14:29.571373Z",
     "iopub.status.busy": "2022-02-24T12:14:29.570448Z",
     "iopub.status.idle": "2022-02-24T12:14:29.574575Z",
     "shell.execute_reply": "2022-02-24T12:14:29.575028Z"
    },
    "papermill": {
     "duration": 0.041626,
     "end_time": "2022-02-24T12:14:29.575165",
     "exception": false,
     "start_time": "2022-02-24T12:14:29.533539",
     "status": "completed"
    },
    "tags": []
   },
   "outputs": [],
   "source": [
    "#hide\n",
    "# g.head()"
   ]
  },
  {
   "cell_type": "code",
   "execution_count": 33,
   "id": "limited-engine",
   "metadata": {
    "execution": {
     "iopub.execute_input": "2022-02-24T12:14:29.647606Z",
     "iopub.status.busy": "2022-02-24T12:14:29.646545Z",
     "iopub.status.idle": "2022-02-24T12:14:29.648680Z",
     "shell.execute_reply": "2022-02-24T12:14:29.649150Z"
    },
    "papermill": {
     "duration": 0.040617,
     "end_time": "2022-02-24T12:14:29.649284",
     "exception": false,
     "start_time": "2022-02-24T12:14:29.608667",
     "status": "completed"
    },
    "tags": []
   },
   "outputs": [],
   "source": [
    "# hide\n",
    "# g['date'] = g['date'].astype('datetime64[ns]')"
   ]
  },
  {
   "cell_type": "code",
   "execution_count": 34,
   "id": "sophisticated-supervisor",
   "metadata": {
    "execution": {
     "iopub.execute_input": "2022-02-24T12:14:29.719135Z",
     "iopub.status.busy": "2022-02-24T12:14:29.718585Z",
     "iopub.status.idle": "2022-02-24T12:14:29.721562Z",
     "shell.execute_reply": "2022-02-24T12:14:29.721123Z"
    },
    "papermill": {
     "duration": 0.038737,
     "end_time": "2022-02-24T12:14:29.721676",
     "exception": false,
     "start_time": "2022-02-24T12:14:29.682939",
     "status": "completed"
    },
    "tags": []
   },
   "outputs": [],
   "source": [
    "#hide\n",
    "# g['date'] = g.date.dt.dayofyear"
   ]
  },
  {
   "cell_type": "code",
   "execution_count": 35,
   "id": "inside-dubai",
   "metadata": {
    "execution": {
     "iopub.execute_input": "2022-02-24T12:14:29.792323Z",
     "iopub.status.busy": "2022-02-24T12:14:29.791716Z",
     "iopub.status.idle": "2022-02-24T12:14:29.795154Z",
     "shell.execute_reply": "2022-02-24T12:14:29.795541Z"
    },
    "papermill": {
     "duration": 0.040717,
     "end_time": "2022-02-24T12:14:29.795684",
     "exception": false,
     "start_time": "2022-02-24T12:14:29.754967",
     "status": "completed"
    },
    "tags": []
   },
   "outputs": [],
   "source": [
    "#hide\n",
    "# g = g.rename(columns= {'continent':'group','country':'name','cases':'value'})"
   ]
  },
  {
   "cell_type": "code",
   "execution_count": 36,
   "id": "fleet-motorcycle",
   "metadata": {
    "execution": {
     "iopub.execute_input": "2022-02-24T12:14:29.867875Z",
     "iopub.status.busy": "2022-02-24T12:14:29.866828Z",
     "iopub.status.idle": "2022-02-24T12:14:29.868980Z",
     "shell.execute_reply": "2022-02-24T12:14:29.869792Z"
    },
    "papermill": {
     "duration": 0.040722,
     "end_time": "2022-02-24T12:14:29.870046",
     "exception": false,
     "start_time": "2022-02-24T12:14:29.829324",
     "status": "completed"
    },
    "tags": []
   },
   "outputs": [],
   "source": [
    "#hide\n",
    "# cols = ['name','group','day','value']"
   ]
  },
  {
   "cell_type": "code",
   "execution_count": 37,
   "id": "continued-sleeping",
   "metadata": {
    "execution": {
     "iopub.execute_input": "2022-02-24T12:14:29.943153Z",
     "iopub.status.busy": "2022-02-24T12:14:29.942590Z",
     "iopub.status.idle": "2022-02-24T12:14:29.946414Z",
     "shell.execute_reply": "2022-02-24T12:14:29.945932Z"
    },
    "papermill": {
     "duration": 0.042274,
     "end_time": "2022-02-24T12:14:29.946533",
     "exception": false,
     "start_time": "2022-02-24T12:14:29.904259",
     "status": "completed"
    },
    "tags": []
   },
   "outputs": [],
   "source": [
    "#hide\n",
    "# g.rename(columns= {'date':'day'},inplace = True)"
   ]
  },
  {
   "cell_type": "code",
   "execution_count": 38,
   "id": "major-fight",
   "metadata": {
    "execution": {
     "iopub.execute_input": "2022-02-24T12:14:30.019065Z",
     "iopub.status.busy": "2022-02-24T12:14:30.018017Z",
     "iopub.status.idle": "2022-02-24T12:14:30.020169Z",
     "shell.execute_reply": "2022-02-24T12:14:30.020997Z"
    },
    "papermill": {
     "duration": 0.041184,
     "end_time": "2022-02-24T12:14:30.021220",
     "exception": false,
     "start_time": "2022-02-24T12:14:29.980036",
     "status": "completed"
    },
    "tags": []
   },
   "outputs": [],
   "source": [
    "#hide\n",
    "# g = g[cols]"
   ]
  },
  {
   "cell_type": "code",
   "execution_count": 39,
   "id": "structured-mobile",
   "metadata": {
    "execution": {
     "iopub.execute_input": "2022-02-24T12:14:30.094229Z",
     "iopub.status.busy": "2022-02-24T12:14:30.093445Z",
     "iopub.status.idle": "2022-02-24T12:14:30.096907Z",
     "shell.execute_reply": "2022-02-24T12:14:30.096429Z"
    },
    "papermill": {
     "duration": 0.041523,
     "end_time": "2022-02-24T12:14:30.097019",
     "exception": false,
     "start_time": "2022-02-24T12:14:30.055496",
     "status": "completed"
    },
    "tags": []
   },
   "outputs": [],
   "source": [
    "# #hide\n",
    "# g = g[g.group.notna()]"
   ]
  },
  {
   "cell_type": "code",
   "execution_count": 40,
   "id": "determined-closing",
   "metadata": {
    "execution": {
     "iopub.execute_input": "2022-02-24T12:14:30.167817Z",
     "iopub.status.busy": "2022-02-24T12:14:30.167203Z",
     "iopub.status.idle": "2022-02-24T12:14:30.170583Z",
     "shell.execute_reply": "2022-02-24T12:14:30.171035Z"
    },
    "papermill": {
     "duration": 0.040699,
     "end_time": "2022-02-24T12:14:30.171172",
     "exception": false,
     "start_time": "2022-02-24T12:14:30.130473",
     "status": "completed"
    },
    "tags": []
   },
   "outputs": [],
   "source": [
    "# #hide\n",
    "# colors = dict(zip(\n",
    "#     [\"Oceania\", \"Europe\", \"Asia\", \"South America\", \"Middle East\", \"North America\", \"Africa\"],\n",
    "#     [\"#adb0ff\", \"#ffb3ff\", \"#90d595\", \"#e48381\", \"#aafbff\", \"#f7bb5f\", \"#eafb50\"]\n",
    "# ))\n",
    "# group_lk = g.set_index('name')['group'].to_dict()"
   ]
  },
  {
   "cell_type": "code",
   "execution_count": null,
   "id": "gross-drinking",
   "metadata": {
    "papermill": {
     "duration": 0.033382,
     "end_time": "2022-02-24T12:14:30.238242",
     "exception": false,
     "start_time": "2022-02-24T12:14:30.204860",
     "status": "completed"
    },
    "tags": []
   },
   "outputs": [],
   "source": []
  },
  {
   "cell_type": "code",
   "execution_count": 41,
   "id": "subject-macintosh",
   "metadata": {
    "execution": {
     "iopub.execute_input": "2022-02-24T12:14:30.308736Z",
     "iopub.status.busy": "2022-02-24T12:14:30.308179Z",
     "iopub.status.idle": "2022-02-24T12:14:30.310592Z",
     "shell.execute_reply": "2022-02-24T12:14:30.311180Z"
    },
    "papermill": {
     "duration": 0.039876,
     "end_time": "2022-02-24T12:14:30.311315",
     "exception": false,
     "start_time": "2022-02-24T12:14:30.271439",
     "status": "completed"
    },
    "tags": []
   },
   "outputs": [],
   "source": [
    "# #hide\n",
    "# fig, ax = plt.subplots(figsize=(15, 8))\n",
    "\n",
    "# def draw_barchart(current_day):\n",
    "#     dff = g[g['day'].eq(current_day)].sort_values(by='value', ascending=True).tail(10)\n",
    "#     ax.clear()\n",
    "#     ax.barh(dff['name'], dff['value'], color=[colors[group_lk[x]] for x in dff['name']])\n",
    "#     dx = dff['value'].max() / 200\n",
    "    \n",
    "#     for i, (value, name) in enumerate(zip(dff['value'], dff['name'])):\n",
    "#         ax.text(value-dx, i,     name,           size=14, weight=600, ha='right', va='bottom')\n",
    "#         ax.text(value-dx, i-.25, group_lk[name], size=10, color='#444444', ha='right', va='baseline')\n",
    "#         ax.text(value+dx, i,     f'{value:,.0f}',  size=14, ha='left',  va='center')\n",
    "#     ax.text(1, 0.4, current_day, transform=ax.transAxes, color='#777777', size=46, ha='right', weight=800)\n",
    "#     ax.text(0, 1.06, 'Population (thousands)', transform=ax.transAxes, size=12, color='#777777')\n",
    "#     ax.xaxis.set_major_formatter(ticker.StrMethodFormatter('{x:,.0f}'))\n",
    "#     ax.xaxis.set_ticks_position('top')\n",
    "#     ax.tick_params(axis='x', colors='#777777', labelsize=12)\n",
    "#     ax.set_yticks([])\n",
    "#     ax.margins(0, 0.01)\n",
    "#     ax.grid(which='major', axis='x', linestyle='-')\n",
    "#     ax.set_axisbelow(True)\n",
    "    \n",
    "#     ax.text(0, 1.15, 'Coronavirus',\n",
    "#             transform=ax.transAxes, size=24, weight=600, ha='left', va='top')\n",
    "# #     ax.text(1, 0, 'by @pratapvardhan; credit @jburnmurdoch', transform=ax.transAxes, color='#777777', ha='right',\n",
    "# #             bbox=dict(facecolor='white', alpha=0.8, edgecolor='white'))\n",
    "#     plt.box(False)"
   ]
  },
  {
   "cell_type": "code",
   "execution_count": 42,
   "id": "sexual-wages",
   "metadata": {
    "execution": {
     "iopub.execute_input": "2022-02-24T12:14:30.383394Z",
     "iopub.status.busy": "2022-02-24T12:14:30.382330Z",
     "iopub.status.idle": "2022-02-24T12:14:30.384462Z",
     "shell.execute_reply": "2022-02-24T12:14:30.385323Z"
    },
    "papermill": {
     "duration": 0.040895,
     "end_time": "2022-02-24T12:14:30.385543",
     "exception": false,
     "start_time": "2022-02-24T12:14:30.344648",
     "status": "completed"
    },
    "tags": []
   },
   "outputs": [],
   "source": [
    "# #hide_input\n",
    "# fig, ax = plt.subplots(figsize=(15, 8))\n",
    "# animator = animation.FuncAnimation(fig, draw_barchart, frames=range(g.day.values.min(), g.day.values.max()))\n",
    "# HTML(animator.to_jshtml())\n",
    "# # or use animator.to_html5_video() or animator.save() "
   ]
  },
  {
   "cell_type": "code",
   "execution_count": null,
   "id": "australian-container",
   "metadata": {
    "papermill": {
     "duration": 0.034135,
     "end_time": "2022-02-24T12:14:30.454319",
     "exception": false,
     "start_time": "2022-02-24T12:14:30.420184",
     "status": "completed"
    },
    "tags": []
   },
   "outputs": [],
   "source": []
  },
  {
   "cell_type": "code",
   "execution_count": null,
   "id": "mediterranean-pontiac",
   "metadata": {
    "papermill": {
     "duration": 0.032917,
     "end_time": "2022-02-24T12:14:30.520767",
     "exception": false,
     "start_time": "2022-02-24T12:14:30.487850",
     "status": "completed"
    },
    "tags": []
   },
   "outputs": [],
   "source": []
  },
  {
   "cell_type": "code",
   "execution_count": null,
   "id": "aging-legislature",
   "metadata": {
    "papermill": {
     "duration": 0.032391,
     "end_time": "2022-02-24T12:14:30.586196",
     "exception": false,
     "start_time": "2022-02-24T12:14:30.553805",
     "status": "completed"
    },
    "tags": []
   },
   "outputs": [],
   "source": []
  }
 ],
 "metadata": {
  "kernelspec": {
   "display_name": "Python 3",
   "language": "python",
   "name": "python3"
  },
  "language_info": {
   "codemirror_mode": {
    "name": "ipython",
    "version": 3
   },
   "file_extension": ".py",
   "mimetype": "text/x-python",
   "name": "python",
   "nbconvert_exporter": "python",
   "pygments_lexer": "ipython3",
   "version": "3.6.15"
  },
  "papermill": {
   "duration": 6.890548,
   "end_time": "2022-02-24T12:14:30.938805",
   "environment_variables": {},
   "exception": null,
   "input_path": "2020-03-21-covid19exp.ipynb",
   "output_path": "2020-03-21-covid19exp.ipynb",
   "parameters": {},
   "start_time": "2022-02-24T12:14:24.048257",
   "version": "2.0.0"
  }
 },
 "nbformat": 4,
 "nbformat_minor": 5
}