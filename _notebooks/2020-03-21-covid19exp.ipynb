{
 "cells": [
  {
   "cell_type": "markdown",
   "id": "muslim-click",
   "metadata": {
    "papermill": {
     "duration": 0.039479,
     "end_time": "2021-10-29T12:11:39.153750",
     "exception": false,
     "start_time": "2021-10-29T12:11:39.114271",
     "status": "completed"
    },
    "tags": []
   },
   "source": [
    "# COVID-19 Case Race\n",
    "> A race chart to see rising cases around the world\n",
    "\n",
    "- author: Hargun Oberoi\n",
    "- image: images/covid-overview.png\n",
    "- hide: false\n",
    "- badges: false"
   ]
  },
  {
   "cell_type": "code",
   "execution_count": 1,
   "id": "proof-material",
   "metadata": {
    "execution": {
     "iopub.execute_input": "2021-10-29T12:11:39.235932Z",
     "iopub.status.busy": "2021-10-29T12:11:39.235325Z",
     "iopub.status.idle": "2021-10-29T12:11:39.646856Z",
     "shell.execute_reply": "2021-10-29T12:11:39.645133Z"
    },
    "papermill": {
     "duration": 0.451945,
     "end_time": "2021-10-29T12:11:39.647093",
     "exception": false,
     "start_time": "2021-10-29T12:11:39.195148",
     "status": "completed"
    },
    "tags": []
   },
   "outputs": [],
   "source": [
    "#hide\n",
    "import numpy as np\n",
    "import pandas as pd\n",
    "from jinja2 import Template\n",
    "from IPython.display import HTML"
   ]
  },
  {
   "cell_type": "code",
   "execution_count": 2,
   "id": "developed-terminology",
   "metadata": {
    "execution": {
     "iopub.execute_input": "2021-10-29T12:11:39.728086Z",
     "iopub.status.busy": "2021-10-29T12:11:39.727455Z",
     "iopub.status.idle": "2021-10-29T12:11:39.730321Z",
     "shell.execute_reply": "2021-10-29T12:11:39.729815Z"
    },
    "papermill": {
     "duration": 0.043324,
     "end_time": "2021-10-29T12:11:39.730494",
     "exception": false,
     "start_time": "2021-10-29T12:11:39.687170",
     "status": "completed"
    },
    "tags": []
   },
   "outputs": [],
   "source": [
    "#hide\n",
    "\n",
    "# FETCH\n",
    "base_url = 'https://raw.githubusercontent.com/pratapvardhan/notebooks/master/covid19/'\n",
    "paths = {\n",
    "    'mapping': base_url + 'mapping_countries.csv',\n",
    "    'overview': base_url + 'overview.tpl'\n",
    "}"
   ]
  },
  {
   "cell_type": "code",
   "execution_count": 3,
   "id": "dynamic-saver",
   "metadata": {
    "execution": {
     "iopub.execute_input": "2021-10-29T12:11:39.803733Z",
     "iopub.status.busy": "2021-10-29T12:11:39.803142Z",
     "iopub.status.idle": "2021-10-29T12:11:39.809588Z",
     "shell.execute_reply": "2021-10-29T12:11:39.810149Z"
    },
    "papermill": {
     "duration": 0.048186,
     "end_time": "2021-10-29T12:11:39.810298",
     "exception": false,
     "start_time": "2021-10-29T12:11:39.762112",
     "status": "completed"
    },
    "tags": []
   },
   "outputs": [
    {
     "data": {
      "text/plain": [
       "'https://raw.githubusercontent.com/pratapvardhan/notebooks/master/covid19/mapping_countries.csv'"
      ]
     },
     "execution_count": 3,
     "metadata": {},
     "output_type": "execute_result"
    }
   ],
   "source": [
    "#hide\n",
    "paths['mapping']"
   ]
  },
  {
   "cell_type": "code",
   "execution_count": 4,
   "id": "urban-software",
   "metadata": {
    "execution": {
     "iopub.execute_input": "2021-10-29T12:11:39.880789Z",
     "iopub.status.busy": "2021-10-29T12:11:39.880196Z",
     "iopub.status.idle": "2021-10-29T12:11:39.885644Z",
     "shell.execute_reply": "2021-10-29T12:11:39.885161Z"
    },
    "papermill": {
     "duration": 0.041844,
     "end_time": "2021-10-29T12:11:39.885769",
     "exception": false,
     "start_time": "2021-10-29T12:11:39.843925",
     "status": "completed"
    },
    "tags": []
   },
   "outputs": [],
   "source": [
    "#hide\n",
    "def get_mappings(url):\n",
    "    df = pd.read_csv(url)\n",
    "    return {\n",
    "        'df': df,\n",
    "        'replace.country': dict(df.dropna(subset=['Name']).set_index('Country')['Name']),\n",
    "        'map.continent': dict(df.set_index('Name')['Continent'])\n",
    "    }"
   ]
  },
  {
   "cell_type": "code",
   "execution_count": 5,
   "id": "intimate-machinery",
   "metadata": {
    "execution": {
     "iopub.execute_input": "2021-10-29T12:11:39.961410Z",
     "iopub.status.busy": "2021-10-29T12:11:39.960812Z",
     "iopub.status.idle": "2021-10-29T12:11:39.992505Z",
     "shell.execute_reply": "2021-10-29T12:11:39.991646Z"
    },
    "papermill": {
     "duration": 0.073512,
     "end_time": "2021-10-29T12:11:39.992675",
     "exception": false,
     "start_time": "2021-10-29T12:11:39.919163",
     "status": "completed"
    },
    "tags": []
   },
   "outputs": [],
   "source": [
    "#hide\n",
    "mapping = get_mappings(paths['mapping'])"
   ]
  },
  {
   "cell_type": "code",
   "execution_count": 6,
   "id": "certified-tactics",
   "metadata": {
    "execution": {
     "iopub.execute_input": "2021-10-29T12:11:40.068372Z",
     "iopub.status.busy": "2021-10-29T12:11:40.067767Z",
     "iopub.status.idle": "2021-10-29T12:11:40.070429Z",
     "shell.execute_reply": "2021-10-29T12:11:40.070942Z"
    },
    "papermill": {
     "duration": 0.043257,
     "end_time": "2021-10-29T12:11:40.071097",
     "exception": false,
     "start_time": "2021-10-29T12:11:40.027840",
     "status": "completed"
    },
    "tags": []
   },
   "outputs": [],
   "source": [
    "#hide\n",
    "def get_template(path):\n",
    "    from urllib.parse import urlparse\n",
    "    if bool(urlparse(path).netloc):\n",
    "        from urllib.request import urlopen\n",
    "        return urlopen(path).read().decode('utf8')\n",
    "    return open(path).read()"
   ]
  },
  {
   "cell_type": "code",
   "execution_count": 7,
   "id": "realistic-blast",
   "metadata": {
    "execution": {
     "iopub.execute_input": "2021-10-29T12:11:40.144005Z",
     "iopub.status.busy": "2021-10-29T12:11:40.143409Z",
     "iopub.status.idle": "2021-10-29T12:11:40.146178Z",
     "shell.execute_reply": "2021-10-29T12:11:40.145671Z"
    },
    "papermill": {
     "duration": 0.041788,
     "end_time": "2021-10-29T12:11:40.146300",
     "exception": false,
     "start_time": "2021-10-29T12:11:40.104512",
     "status": "completed"
    },
    "tags": []
   },
   "outputs": [],
   "source": [
    "#hide\n",
    "def get_frame(name):\n",
    "    url = (\n",
    "        'https://raw.githubusercontent.com/CSSEGISandData/COVID-19/master/csse_covid_19_data/'\n",
    "        f'csse_covid_19_time_series/time_series_covid19_{name}_global.csv')\n",
    "    df = pd.read_csv(url)\n",
    "    # rename countries\n",
    "    df['Country/Region'] = df['Country/Region'].replace(mapping['replace.country'])\n",
    "    return df"
   ]
  },
  {
   "cell_type": "code",
   "execution_count": 8,
   "id": "affiliated-characterization",
   "metadata": {
    "execution": {
     "iopub.execute_input": "2021-10-29T12:11:40.219894Z",
     "iopub.status.busy": "2021-10-29T12:11:40.219290Z",
     "iopub.status.idle": "2021-10-29T12:11:40.221876Z",
     "shell.execute_reply": "2021-10-29T12:11:40.222473Z"
    },
    "papermill": {
     "duration": 0.04319,
     "end_time": "2021-10-29T12:11:40.222626",
     "exception": false,
     "start_time": "2021-10-29T12:11:40.179436",
     "status": "completed"
    },
    "tags": []
   },
   "outputs": [],
   "source": [
    "#hide\n",
    "def get_dates(df):\n",
    "    dt_cols = df.columns[~df.columns.isin(['Province/State', 'Country/Region', 'Lat', 'Long'])]\n",
    "    LAST_DATE_I = -1\n",
    "    # sometimes last column may be empty, then go backwards\n",
    "    for i in range(-1, -len(dt_cols), -1):\n",
    "        if not df[dt_cols[i]].fillna(0).eq(0).all():\n",
    "            LAST_DATE_I = i\n",
    "            break\n",
    "    return LAST_DATE_I, dt_cols"
   ]
  },
  {
   "cell_type": "code",
   "execution_count": 9,
   "id": "recent-optimization",
   "metadata": {
    "execution": {
     "iopub.execute_input": "2021-10-29T12:11:40.294281Z",
     "iopub.status.busy": "2021-10-29T12:11:40.293663Z",
     "iopub.status.idle": "2021-10-29T12:11:40.617297Z",
     "shell.execute_reply": "2021-10-29T12:11:40.616722Z"
    },
    "papermill": {
     "duration": 0.361918,
     "end_time": "2021-10-29T12:11:40.617423",
     "exception": false,
     "start_time": "2021-10-29T12:11:40.255505",
     "status": "completed"
    },
    "tags": []
   },
   "outputs": [],
   "source": [
    "#hide\n",
    "COL_REGION = 'Country/Region'\n",
    "# Confirmed, Recovered, Deaths\n",
    "df = get_frame('confirmed')\n",
    "# dft_: timeseries, dfc_: today country agg\n",
    "dft_cases = df\n",
    "dft_deaths = get_frame('deaths')\n",
    "dft_recovered = get_frame('recovered')\n",
    "LAST_DATE_I, dt_cols = get_dates(df)"
   ]
  },
  {
   "cell_type": "code",
   "execution_count": 10,
   "id": "absolute-copper",
   "metadata": {
    "execution": {
     "iopub.execute_input": "2021-10-29T12:11:40.689959Z",
     "iopub.status.busy": "2021-10-29T12:11:40.689367Z",
     "iopub.status.idle": "2021-10-29T12:11:40.691303Z",
     "shell.execute_reply": "2021-10-29T12:11:40.691798Z"
    },
    "papermill": {
     "duration": 0.040886,
     "end_time": "2021-10-29T12:11:40.691935",
     "exception": false,
     "start_time": "2021-10-29T12:11:40.651049",
     "status": "completed"
    },
    "tags": []
   },
   "outputs": [],
   "source": [
    "#hide\n",
    "LAST_DATE_I, dt_cols = get_dates(df)\n",
    "dt_today =dt_cols[LAST_DATE_I]\n",
    "# dt_5day = dt_cols[LAST_DATE_I - 5]\n",
    "dt_yday = dt_cols[LAST_DATE_I - 1]"
   ]
  },
  {
   "cell_type": "code",
   "execution_count": 11,
   "id": "restricted-sheriff",
   "metadata": {
    "execution": {
     "iopub.execute_input": "2021-10-29T12:11:40.763786Z",
     "iopub.status.busy": "2021-10-29T12:11:40.763193Z",
     "iopub.status.idle": "2021-10-29T12:11:40.771870Z",
     "shell.execute_reply": "2021-10-29T12:11:40.771389Z"
    },
    "papermill": {
     "duration": 0.047581,
     "end_time": "2021-10-29T12:11:40.771995",
     "exception": false,
     "start_time": "2021-10-29T12:11:40.724414",
     "status": "completed"
    },
    "tags": []
   },
   "outputs": [],
   "source": [
    "#hide\n",
    "dfc_cases = dft_cases.groupby(COL_REGION)[dt_today].sum()\n",
    "dfc_deaths = dft_deaths.groupby(COL_REGION)[dt_today].sum()\n",
    "# dfp_cases = dft_cases.groupby(COL_REGION)[dt_5day].sum()\n",
    "# dfp_deaths = dft_deaths.groupby(COL_REGION)[dt_5day].sum()\n",
    "dfp_cases = dft_cases.groupby(COL_REGION)[dt_yday].sum()\n",
    "dfp_deaths = dft_deaths.groupby(COL_REGION)[dt_yday].sum()"
   ]
  },
  {
   "cell_type": "code",
   "execution_count": 12,
   "id": "deluxe-hepatitis",
   "metadata": {
    "execution": {
     "iopub.execute_input": "2021-10-29T12:11:40.844600Z",
     "iopub.status.busy": "2021-10-29T12:11:40.844008Z",
     "iopub.status.idle": "2021-10-29T12:11:40.848906Z",
     "shell.execute_reply": "2021-10-29T12:11:40.848394Z"
    },
    "papermill": {
     "duration": 0.044353,
     "end_time": "2021-10-29T12:11:40.849029",
     "exception": false,
     "start_time": "2021-10-29T12:11:40.804676",
     "status": "completed"
    },
    "tags": []
   },
   "outputs": [],
   "source": [
    "#hide\n",
    "df_table = (pd.DataFrame(dict(Cases = dfc_cases, Deaths = dfc_deaths, PCases = dfp_cases, PDeaths = dfp_deaths))\n",
    "            .sort_values(by = ['Cases','Deaths'], ascending = [False, False])\n",
    "            .reset_index())"
   ]
  },
  {
   "cell_type": "code",
   "execution_count": 13,
   "id": "educational-chancellor",
   "metadata": {
    "execution": {
     "iopub.execute_input": "2021-10-29T12:11:40.932246Z",
     "iopub.status.busy": "2021-10-29T12:11:40.931625Z",
     "iopub.status.idle": "2021-10-29T12:11:40.939905Z",
     "shell.execute_reply": "2021-10-29T12:11:40.939425Z"
    },
    "papermill": {
     "duration": 0.059338,
     "end_time": "2021-10-29T12:11:40.940022",
     "exception": false,
     "start_time": "2021-10-29T12:11:40.880684",
     "status": "completed"
    },
    "tags": []
   },
   "outputs": [
    {
     "data": {
      "text/html": [
       "<div>\n",
       "<style scoped>\n",
       "    .dataframe tbody tr th:only-of-type {\n",
       "        vertical-align: middle;\n",
       "    }\n",
       "\n",
       "    .dataframe tbody tr th {\n",
       "        vertical-align: top;\n",
       "    }\n",
       "\n",
       "    .dataframe thead th {\n",
       "        text-align: right;\n",
       "    }\n",
       "</style>\n",
       "<table border=\"1\" class=\"dataframe\">\n",
       "  <thead>\n",
       "    <tr style=\"text-align: right;\">\n",
       "      <th></th>\n",
       "      <th>Country/Region</th>\n",
       "      <th>Cases</th>\n",
       "      <th>Deaths</th>\n",
       "      <th>PCases</th>\n",
       "      <th>PDeaths</th>\n",
       "      <th>Cases (+)</th>\n",
       "      <th>Deaths (+)</th>\n",
       "      <th>Fatality Rate</th>\n",
       "      <th>Continent</th>\n",
       "    </tr>\n",
       "  </thead>\n",
       "  <tbody>\n",
       "    <tr>\n",
       "      <th>0</th>\n",
       "      <td>US</td>\n",
       "      <td>45826098</td>\n",
       "      <td>743358</td>\n",
       "      <td>45726714</td>\n",
       "      <td>741582</td>\n",
       "      <td>99384</td>\n",
       "      <td>1776</td>\n",
       "      <td>1.62</td>\n",
       "      <td>North America</td>\n",
       "    </tr>\n",
       "    <tr>\n",
       "      <th>1</th>\n",
       "      <td>India</td>\n",
       "      <td>34246157</td>\n",
       "      <td>457191</td>\n",
       "      <td>34231809</td>\n",
       "      <td>456386</td>\n",
       "      <td>14348</td>\n",
       "      <td>805</td>\n",
       "      <td>1.34</td>\n",
       "      <td>Asia</td>\n",
       "    </tr>\n",
       "    <tr>\n",
       "      <th>2</th>\n",
       "      <td>Brazil</td>\n",
       "      <td>21781436</td>\n",
       "      <td>607068</td>\n",
       "      <td>21766168</td>\n",
       "      <td>606679</td>\n",
       "      <td>15268</td>\n",
       "      <td>389</td>\n",
       "      <td>2.79</td>\n",
       "      <td>South America</td>\n",
       "    </tr>\n",
       "    <tr>\n",
       "      <th>3</th>\n",
       "      <td>United Kingdom</td>\n",
       "      <td>8978443</td>\n",
       "      <td>140628</td>\n",
       "      <td>8938965</td>\n",
       "      <td>140462</td>\n",
       "      <td>39478</td>\n",
       "      <td>166</td>\n",
       "      <td>1.57</td>\n",
       "      <td>Europe</td>\n",
       "    </tr>\n",
       "    <tr>\n",
       "      <th>4</th>\n",
       "      <td>Russia</td>\n",
       "      <td>8260045</td>\n",
       "      <td>230786</td>\n",
       "      <td>8220975</td>\n",
       "      <td>229672</td>\n",
       "      <td>39070</td>\n",
       "      <td>1114</td>\n",
       "      <td>2.79</td>\n",
       "      <td>Europe</td>\n",
       "    </tr>\n",
       "  </tbody>\n",
       "</table>\n",
       "</div>"
      ],
      "text/plain": [
       "   Country/Region     Cases  Deaths    PCases  PDeaths  Cases (+)  Deaths (+)  \\\n",
       "0              US  45826098  743358  45726714   741582      99384        1776   \n",
       "1           India  34246157  457191  34231809   456386      14348         805   \n",
       "2          Brazil  21781436  607068  21766168   606679      15268         389   \n",
       "3  United Kingdom   8978443  140628   8938965   140462      39478         166   \n",
       "4          Russia   8260045  230786   8220975   229672      39070        1114   \n",
       "\n",
       "   Fatality Rate      Continent  \n",
       "0           1.62  North America  \n",
       "1           1.34           Asia  \n",
       "2           2.79  South America  \n",
       "3           1.57         Europe  \n",
       "4           2.79         Europe  "
      ]
     },
     "execution_count": 13,
     "metadata": {},
     "output_type": "execute_result"
    }
   ],
   "source": [
    "#hide\n",
    "for c in 'Cases, Deaths'.split(', '):\n",
    "    df_table[f'{c} (+)'] = (df_table[c] - df_table[f'P{c}']).clip(0)\n",
    "    #Clip ça veut dire, les chiffres negatif sont interdit\n",
    "df_table['Fatality Rate'] = (100* df_table['Deaths']/ df_table['Cases']).round(2)\n",
    "df_table['Continent'] = df_table['Country/Region'].map(mapping['map.continent'])\n",
    "df_table.head(5)"
   ]
  },
  {
   "cell_type": "code",
   "execution_count": 14,
   "id": "aboriginal-bulgaria",
   "metadata": {
    "execution": {
     "iopub.execute_input": "2021-10-29T12:11:41.015494Z",
     "iopub.status.busy": "2021-10-29T12:11:41.014902Z",
     "iopub.status.idle": "2021-10-29T12:11:41.017612Z",
     "shell.execute_reply": "2021-10-29T12:11:41.017170Z"
    },
    "papermill": {
     "duration": 0.044296,
     "end_time": "2021-10-29T12:11:41.017727",
     "exception": false,
     "start_time": "2021-10-29T12:11:40.973431",
     "status": "completed"
    },
    "tags": []
   },
   "outputs": [],
   "source": [
    "#hide\n",
    "#delete problematic countries from table\n",
    "df_table = df_table[~df_table['Country/Region'].isin(['Cape Verde', 'Cruise Ship', 'Kosovo'])]"
   ]
  },
  {
   "cell_type": "code",
   "execution_count": 15,
   "id": "fantastic-effect",
   "metadata": {
    "execution": {
     "iopub.execute_input": "2021-10-29T12:11:41.093705Z",
     "iopub.status.busy": "2021-10-29T12:11:41.093117Z",
     "iopub.status.idle": "2021-10-29T12:11:41.117470Z",
     "shell.execute_reply": "2021-10-29T12:11:41.117976Z"
    },
    "papermill": {
     "duration": 0.066716,
     "end_time": "2021-10-29T12:11:41.118126",
     "exception": false,
     "start_time": "2021-10-29T12:11:41.051410",
     "status": "completed"
    },
    "tags": []
   },
   "outputs": [
    {
     "data": {
      "text/html": [
       "<div>\n",
       "<style scoped>\n",
       "    .dataframe tbody tr th:only-of-type {\n",
       "        vertical-align: middle;\n",
       "    }\n",
       "\n",
       "    .dataframe tbody tr th {\n",
       "        vertical-align: top;\n",
       "    }\n",
       "\n",
       "    .dataframe thead th {\n",
       "        text-align: right;\n",
       "    }\n",
       "</style>\n",
       "<table border=\"1\" class=\"dataframe\">\n",
       "  <thead>\n",
       "    <tr style=\"text-align: right;\">\n",
       "      <th></th>\n",
       "      <th>Country/Region</th>\n",
       "      <th>Cases</th>\n",
       "      <th>Deaths</th>\n",
       "      <th>PCases</th>\n",
       "      <th>PDeaths</th>\n",
       "      <th>Cases (+)</th>\n",
       "      <th>Deaths (+)</th>\n",
       "      <th>Fatality Rate</th>\n",
       "      <th>Continent</th>\n",
       "    </tr>\n",
       "  </thead>\n",
       "  <tbody>\n",
       "    <tr>\n",
       "      <th>0</th>\n",
       "      <td>US</td>\n",
       "      <td>45826098</td>\n",
       "      <td>743358</td>\n",
       "      <td>45726714</td>\n",
       "      <td>741582</td>\n",
       "      <td>99384</td>\n",
       "      <td>1776</td>\n",
       "      <td>1.6</td>\n",
       "      <td>North America</td>\n",
       "    </tr>\n",
       "    <tr>\n",
       "      <th>1</th>\n",
       "      <td>India</td>\n",
       "      <td>34246157</td>\n",
       "      <td>457191</td>\n",
       "      <td>34231809</td>\n",
       "      <td>456386</td>\n",
       "      <td>14348</td>\n",
       "      <td>805</td>\n",
       "      <td>1.3</td>\n",
       "      <td>Asia</td>\n",
       "    </tr>\n",
       "    <tr>\n",
       "      <th>2</th>\n",
       "      <td>Brazil</td>\n",
       "      <td>21781436</td>\n",
       "      <td>607068</td>\n",
       "      <td>21766168</td>\n",
       "      <td>606679</td>\n",
       "      <td>15268</td>\n",
       "      <td>389</td>\n",
       "      <td>2.8</td>\n",
       "      <td>South America</td>\n",
       "    </tr>\n",
       "    <tr>\n",
       "      <th>3</th>\n",
       "      <td>United Kingdom</td>\n",
       "      <td>8978443</td>\n",
       "      <td>140628</td>\n",
       "      <td>8938965</td>\n",
       "      <td>140462</td>\n",
       "      <td>39478</td>\n",
       "      <td>166</td>\n",
       "      <td>1.6</td>\n",
       "      <td>Europe</td>\n",
       "    </tr>\n",
       "    <tr>\n",
       "      <th>4</th>\n",
       "      <td>Russia</td>\n",
       "      <td>8260045</td>\n",
       "      <td>230786</td>\n",
       "      <td>8220975</td>\n",
       "      <td>229672</td>\n",
       "      <td>39070</td>\n",
       "      <td>1114</td>\n",
       "      <td>2.8</td>\n",
       "      <td>Europe</td>\n",
       "    </tr>\n",
       "  </tbody>\n",
       "</table>\n",
       "</div>"
      ],
      "text/plain": [
       "   Country/Region     Cases  Deaths    PCases  PDeaths  Cases (+)  Deaths (+)  \\\n",
       "0              US  45826098  743358  45726714   741582      99384        1776   \n",
       "1           India  34246157  457191  34231809   456386      14348         805   \n",
       "2          Brazil  21781436  607068  21766168   606679      15268         389   \n",
       "3  United Kingdom   8978443  140628   8938965   140462      39478         166   \n",
       "4          Russia   8260045  230786   8220975   229672      39070        1114   \n",
       "\n",
       "   Fatality Rate      Continent  \n",
       "0            1.6  North America  \n",
       "1            1.3           Asia  \n",
       "2            2.8  South America  \n",
       "3            1.6         Europe  \n",
       "4            2.8         Europe  "
      ]
     },
     "execution_count": 15,
     "metadata": {},
     "output_type": "execute_result"
    }
   ],
   "source": [
    "#hide\n",
    "df_table = (pd.DataFrame(dict(Cases=dfc_cases, Deaths=dfc_deaths, PCases=dfp_cases, PDeaths=dfp_deaths))\n",
    "             .sort_values(by=['Cases', 'Deaths'], ascending=[False, False])\n",
    "             .reset_index())\n",
    "df_table.rename(columns={'index': 'Country/Region'}, inplace=True)\n",
    "for c in 'Cases, Deaths'.split(', '):\n",
    "    df_table[f'{c} (+)'] = (df_table[c] - df_table[f'P{c}']).clip(0)  # DATA BUG\n",
    "df_table['Fatality Rate'] = (100 * df_table['Deaths'] / df_table['Cases']).round(1)\n",
    "df_table['Continent'] = df_table['Country/Region'].map(mapping['map.continent'])\n",
    "df_table.head(5)"
   ]
  },
  {
   "cell_type": "code",
   "execution_count": 16,
   "id": "fewer-occasion",
   "metadata": {
    "execution": {
     "iopub.execute_input": "2021-10-29T12:11:41.192971Z",
     "iopub.status.busy": "2021-10-29T12:11:41.192337Z",
     "iopub.status.idle": "2021-10-29T12:11:41.195151Z",
     "shell.execute_reply": "2021-10-29T12:11:41.194639Z"
    },
    "papermill": {
     "duration": 0.042672,
     "end_time": "2021-10-29T12:11:41.195275",
     "exception": false,
     "start_time": "2021-10-29T12:11:41.152603",
     "status": "completed"
    },
    "tags": []
   },
   "outputs": [],
   "source": [
    "#hide\n",
    "#delete problematic countries from table\n",
    "df_table = df_table[~df_table['Country/Region'].isin(['Cape Verde', 'Cruise Ship', 'Kosovo'])]"
   ]
  },
  {
   "cell_type": "code",
   "execution_count": 17,
   "id": "related-center",
   "metadata": {
    "execution": {
     "iopub.execute_input": "2021-10-29T12:11:41.271832Z",
     "iopub.status.busy": "2021-10-29T12:11:41.271233Z",
     "iopub.status.idle": "2021-10-29T12:11:41.287365Z",
     "shell.execute_reply": "2021-10-29T12:11:41.286875Z"
    },
    "papermill": {
     "duration": 0.058938,
     "end_time": "2021-10-29T12:11:41.287493",
     "exception": false,
     "start_time": "2021-10-29T12:11:41.228555",
     "status": "completed"
    },
    "tags": []
   },
   "outputs": [],
   "source": [
    "#hide\n",
    "metrics = [df_table.columns[index] for index in [1,2,5,6]]\n",
    "# s_china = df_table[df_table['Country/Region'].eq('China')][metrics].sum().add_prefix('China ')\n",
    "s_us = df_table[df_table['Country/Region'].eq('US')][metrics].sum().add_prefix('US ')\n",
    "s_eu = df_table[df_table['Continent'].eq('Europe')][metrics].sum().add_prefix('EU ')\n",
    "s_ind = df_table[df_table['Country/Region'].eq('India')][metrics].sum().add_prefix('India ')\n",
    "summary = {'updated': pd.to_datetime(dt_today), 'since': pd.to_datetime(dt_yday)}\n",
    "summary = {'updated': pd.to_datetime(dt_today), 'since': pd.to_datetime(dt_yday)}\n",
    "summary = {**summary, **df_table[metrics].sum(), **s_ind, **s_us, **s_eu}"
   ]
  },
  {
   "cell_type": "code",
   "execution_count": 18,
   "id": "engaging-syndrome",
   "metadata": {
    "execution": {
     "iopub.execute_input": "2021-10-29T12:11:41.362155Z",
     "iopub.status.busy": "2021-10-29T12:11:41.361603Z",
     "iopub.status.idle": "2021-10-29T12:11:41.377136Z",
     "shell.execute_reply": "2021-10-29T12:11:41.376631Z"
    },
    "papermill": {
     "duration": 0.05546,
     "end_time": "2021-10-29T12:11:41.377267",
     "exception": false,
     "start_time": "2021-10-29T12:11:41.321807",
     "status": "completed"
    },
    "tags": []
   },
   "outputs": [],
   "source": [
    "#hide\n",
    "dft_ct_new_cases = dft_cases.groupby(COL_REGION)[dt_cols].sum().diff(axis=1).fillna(0).astype(int)"
   ]
  },
  {
   "cell_type": "code",
   "execution_count": 19,
   "id": "neutral-assignment",
   "metadata": {
    "execution": {
     "iopub.execute_input": "2021-10-29T12:11:41.453844Z",
     "iopub.status.busy": "2021-10-29T12:11:41.453242Z",
     "iopub.status.idle": "2021-10-29T12:11:41.456286Z",
     "shell.execute_reply": "2021-10-29T12:11:41.455798Z"
    },
    "papermill": {
     "duration": 0.046064,
     "end_time": "2021-10-29T12:11:41.456414",
     "exception": false,
     "start_time": "2021-10-29T12:11:41.410350",
     "status": "completed"
    },
    "tags": []
   },
   "outputs": [],
   "source": [
    "#hide\n",
    "everydaycases = dft_ct_new_cases.cumsum(axis=1)"
   ]
  },
  {
   "cell_type": "code",
   "execution_count": 20,
   "id": "parliamentary-calgary",
   "metadata": {
    "execution": {
     "iopub.execute_input": "2021-10-29T12:11:41.530085Z",
     "iopub.status.busy": "2021-10-29T12:11:41.529522Z",
     "iopub.status.idle": "2021-10-29T12:11:42.229512Z",
     "shell.execute_reply": "2021-10-29T12:11:42.228998Z"
    },
    "papermill": {
     "duration": 0.7392,
     "end_time": "2021-10-29T12:11:42.229664",
     "exception": false,
     "start_time": "2021-10-29T12:11:41.490464",
     "status": "completed"
    },
    "tags": []
   },
   "outputs": [],
   "source": [
    "#hide\n",
    "import pandas as pd\n",
    "import matplotlib.pyplot as plt\n",
    "import matplotlib.ticker as ticker\n",
    "import matplotlib.animation as animation\n",
    "from IPython.display import HTML"
   ]
  },
  {
   "cell_type": "code",
   "execution_count": 21,
   "id": "lasting-extraction",
   "metadata": {
    "execution": {
     "iopub.execute_input": "2021-10-29T12:11:42.311541Z",
     "iopub.status.busy": "2021-10-29T12:11:42.310934Z",
     "iopub.status.idle": "2021-10-29T12:11:42.317688Z",
     "shell.execute_reply": "2021-10-29T12:11:42.317178Z"
    },
    "papermill": {
     "duration": 0.05131,
     "end_time": "2021-10-29T12:11:42.317812",
     "exception": false,
     "start_time": "2021-10-29T12:11:42.266502",
     "status": "completed"
    },
    "tags": []
   },
   "outputs": [],
   "source": [
    "#hide\n",
    "t = everydaycases.stack()"
   ]
  },
  {
   "cell_type": "code",
   "execution_count": 22,
   "id": "premier-sleeve",
   "metadata": {
    "execution": {
     "iopub.execute_input": "2021-10-29T12:11:42.404019Z",
     "iopub.status.busy": "2021-10-29T12:11:42.403403Z",
     "iopub.status.idle": "2021-10-29T12:11:42.415157Z",
     "shell.execute_reply": "2021-10-29T12:11:42.414430Z"
    },
    "papermill": {
     "duration": 0.052489,
     "end_time": "2021-10-29T12:11:42.415295",
     "exception": false,
     "start_time": "2021-10-29T12:11:42.362806",
     "status": "completed"
    },
    "tags": []
   },
   "outputs": [],
   "source": [
    "#hide\n",
    "g = t.reset_index(['Country/Region'])"
   ]
  },
  {
   "cell_type": "code",
   "execution_count": 23,
   "id": "distributed-pittsburgh",
   "metadata": {
    "execution": {
     "iopub.execute_input": "2021-10-29T12:11:42.494789Z",
     "iopub.status.busy": "2021-10-29T12:11:42.494203Z",
     "iopub.status.idle": "2021-10-29T12:11:42.496408Z",
     "shell.execute_reply": "2021-10-29T12:11:42.495909Z"
    },
    "papermill": {
     "duration": 0.044849,
     "end_time": "2021-10-29T12:11:42.496528",
     "exception": false,
     "start_time": "2021-10-29T12:11:42.451679",
     "status": "completed"
    },
    "tags": []
   },
   "outputs": [],
   "source": [
    "#hide\n",
    "g.index.name = 'date'"
   ]
  },
  {
   "cell_type": "code",
   "execution_count": 24,
   "id": "naked-donor",
   "metadata": {
    "execution": {
     "iopub.execute_input": "2021-10-29T12:11:42.575721Z",
     "iopub.status.busy": "2021-10-29T12:11:42.575104Z",
     "iopub.status.idle": "2021-10-29T12:11:42.577717Z",
     "shell.execute_reply": "2021-10-29T12:11:42.577204Z"
    },
    "papermill": {
     "duration": 0.043188,
     "end_time": "2021-10-29T12:11:42.577840",
     "exception": false,
     "start_time": "2021-10-29T12:11:42.534652",
     "status": "completed"
    },
    "tags": []
   },
   "outputs": [],
   "source": [
    "# #hide\n",
    "# g = g.reset_index(['date'])"
   ]
  },
  {
   "cell_type": "code",
   "execution_count": 25,
   "id": "incomplete-mustang",
   "metadata": {
    "execution": {
     "iopub.execute_input": "2021-10-29T12:11:42.659322Z",
     "iopub.status.busy": "2021-10-29T12:11:42.658622Z",
     "iopub.status.idle": "2021-10-29T12:11:42.660754Z",
     "shell.execute_reply": "2021-10-29T12:11:42.661316Z"
    },
    "papermill": {
     "duration": 0.044717,
     "end_time": "2021-10-29T12:11:42.661459",
     "exception": false,
     "start_time": "2021-10-29T12:11:42.616742",
     "status": "completed"
    },
    "tags": []
   },
   "outputs": [],
   "source": [
    "#hide\n",
    "# g.head()"
   ]
  },
  {
   "cell_type": "code",
   "execution_count": 26,
   "id": "specific-kruger",
   "metadata": {
    "execution": {
     "iopub.execute_input": "2021-10-29T12:11:42.742743Z",
     "iopub.status.busy": "2021-10-29T12:11:42.741486Z",
     "iopub.status.idle": "2021-10-29T12:11:42.743903Z",
     "shell.execute_reply": "2021-10-29T12:11:42.744465Z"
    },
    "papermill": {
     "duration": 0.047267,
     "end_time": "2021-10-29T12:11:42.744611",
     "exception": false,
     "start_time": "2021-10-29T12:11:42.697344",
     "status": "completed"
    },
    "tags": []
   },
   "outputs": [],
   "source": [
    "#hide\n",
    "# g.columns = ['date','country','cases']"
   ]
  },
  {
   "cell_type": "code",
   "execution_count": 27,
   "id": "tender-conversion",
   "metadata": {
    "execution": {
     "iopub.execute_input": "2021-10-29T12:11:42.820190Z",
     "iopub.status.busy": "2021-10-29T12:11:42.819603Z",
     "iopub.status.idle": "2021-10-29T12:11:42.824799Z",
     "shell.execute_reply": "2021-10-29T12:11:42.825313Z"
    },
    "papermill": {
     "duration": 0.045005,
     "end_time": "2021-10-29T12:11:42.825463",
     "exception": false,
     "start_time": "2021-10-29T12:11:42.780458",
     "status": "completed"
    },
    "tags": []
   },
   "outputs": [],
   "source": [
    "#hide\n",
    "# g['continent'] = g.country"
   ]
  },
  {
   "cell_type": "code",
   "execution_count": 28,
   "id": "substantial-wilderness",
   "metadata": {
    "execution": {
     "iopub.execute_input": "2021-10-29T12:11:42.901042Z",
     "iopub.status.busy": "2021-10-29T12:11:42.900071Z",
     "iopub.status.idle": "2021-10-29T12:11:42.901718Z",
     "shell.execute_reply": "2021-10-29T12:11:42.902180Z"
    },
    "papermill": {
     "duration": 0.042896,
     "end_time": "2021-10-29T12:11:42.902325",
     "exception": false,
     "start_time": "2021-10-29T12:11:42.859429",
     "status": "completed"
    },
    "tags": []
   },
   "outputs": [],
   "source": [
    "#hide\n",
    "# cols = list(g.columns.values)"
   ]
  },
  {
   "cell_type": "code",
   "execution_count": 29,
   "id": "solved-farming",
   "metadata": {
    "execution": {
     "iopub.execute_input": "2021-10-29T12:11:42.982848Z",
     "iopub.status.busy": "2021-10-29T12:11:42.982212Z",
     "iopub.status.idle": "2021-10-29T12:11:42.984120Z",
     "shell.execute_reply": "2021-10-29T12:11:42.984569Z"
    },
    "papermill": {
     "duration": 0.042464,
     "end_time": "2021-10-29T12:11:42.984722",
     "exception": false,
     "start_time": "2021-10-29T12:11:42.942258",
     "status": "completed"
    },
    "tags": []
   },
   "outputs": [],
   "source": [
    "#hide\n",
    "# cols.insert(0, cols.pop())"
   ]
  },
  {
   "cell_type": "code",
   "execution_count": 30,
   "id": "executed-adoption",
   "metadata": {
    "execution": {
     "iopub.execute_input": "2021-10-29T12:11:43.066159Z",
     "iopub.status.busy": "2021-10-29T12:11:43.065077Z",
     "iopub.status.idle": "2021-10-29T12:11:43.067318Z",
     "shell.execute_reply": "2021-10-29T12:11:43.068136Z"
    },
    "papermill": {
     "duration": 0.046962,
     "end_time": "2021-10-29T12:11:43.068371",
     "exception": false,
     "start_time": "2021-10-29T12:11:43.021409",
     "status": "completed"
    },
    "tags": []
   },
   "outputs": [],
   "source": [
    "#hide\n",
    "# g = g[cols]"
   ]
  },
  {
   "cell_type": "code",
   "execution_count": 31,
   "id": "subject-dublin",
   "metadata": {
    "execution": {
     "iopub.execute_input": "2021-10-29T12:11:43.142440Z",
     "iopub.status.busy": "2021-10-29T12:11:43.141841Z",
     "iopub.status.idle": "2021-10-29T12:11:43.144066Z",
     "shell.execute_reply": "2021-10-29T12:11:43.143482Z"
    },
    "papermill": {
     "duration": 0.040327,
     "end_time": "2021-10-29T12:11:43.144189",
     "exception": false,
     "start_time": "2021-10-29T12:11:43.103862",
     "status": "completed"
    },
    "tags": []
   },
   "outputs": [],
   "source": [
    "#hide\n",
    "# g['continent'] = g['continent'].map(mapping['map.continent'])"
   ]
  },
  {
   "cell_type": "code",
   "execution_count": 32,
   "id": "freelance-scout",
   "metadata": {
    "execution": {
     "iopub.execute_input": "2021-10-29T12:11:43.218318Z",
     "iopub.status.busy": "2021-10-29T12:11:43.217714Z",
     "iopub.status.idle": "2021-10-29T12:11:43.220149Z",
     "shell.execute_reply": "2021-10-29T12:11:43.220717Z"
    },
    "papermill": {
     "duration": 0.042021,
     "end_time": "2021-10-29T12:11:43.220869",
     "exception": false,
     "start_time": "2021-10-29T12:11:43.178848",
     "status": "completed"
    },
    "tags": []
   },
   "outputs": [],
   "source": [
    "#hide\n",
    "# g.head()"
   ]
  },
  {
   "cell_type": "code",
   "execution_count": 33,
   "id": "limited-engine",
   "metadata": {
    "execution": {
     "iopub.execute_input": "2021-10-29T12:11:43.293732Z",
     "iopub.status.busy": "2021-10-29T12:11:43.293137Z",
     "iopub.status.idle": "2021-10-29T12:11:43.295473Z",
     "shell.execute_reply": "2021-10-29T12:11:43.296044Z"
    },
    "papermill": {
     "duration": 0.04136,
     "end_time": "2021-10-29T12:11:43.296187",
     "exception": false,
     "start_time": "2021-10-29T12:11:43.254827",
     "status": "completed"
    },
    "tags": []
   },
   "outputs": [],
   "source": [
    "# hide\n",
    "# g['date'] = g['date'].astype('datetime64[ns]')"
   ]
  },
  {
   "cell_type": "code",
   "execution_count": 34,
   "id": "sophisticated-supervisor",
   "metadata": {
    "execution": {
     "iopub.execute_input": "2021-10-29T12:11:43.369177Z",
     "iopub.status.busy": "2021-10-29T12:11:43.368577Z",
     "iopub.status.idle": "2021-10-29T12:11:43.370715Z",
     "shell.execute_reply": "2021-10-29T12:11:43.371197Z"
    },
    "papermill": {
     "duration": 0.040589,
     "end_time": "2021-10-29T12:11:43.371343",
     "exception": false,
     "start_time": "2021-10-29T12:11:43.330754",
     "status": "completed"
    },
    "tags": []
   },
   "outputs": [],
   "source": [
    "#hide\n",
    "# g['date'] = g.date.dt.dayofyear"
   ]
  },
  {
   "cell_type": "code",
   "execution_count": 35,
   "id": "inside-dubai",
   "metadata": {
    "execution": {
     "iopub.execute_input": "2021-10-29T12:11:43.444810Z",
     "iopub.status.busy": "2021-10-29T12:11:43.444194Z",
     "iopub.status.idle": "2021-10-29T12:11:43.446473Z",
     "shell.execute_reply": "2021-10-29T12:11:43.445937Z"
    },
    "papermill": {
     "duration": 0.041127,
     "end_time": "2021-10-29T12:11:43.446607",
     "exception": false,
     "start_time": "2021-10-29T12:11:43.405480",
     "status": "completed"
    },
    "tags": []
   },
   "outputs": [],
   "source": [
    "#hide\n",
    "# g = g.rename(columns= {'continent':'group','country':'name','cases':'value'})"
   ]
  },
  {
   "cell_type": "code",
   "execution_count": 36,
   "id": "fleet-motorcycle",
   "metadata": {
    "execution": {
     "iopub.execute_input": "2021-10-29T12:11:43.519533Z",
     "iopub.status.busy": "2021-10-29T12:11:43.518890Z",
     "iopub.status.idle": "2021-10-29T12:11:43.520819Z",
     "shell.execute_reply": "2021-10-29T12:11:43.521291Z"
    },
    "papermill": {
     "duration": 0.040576,
     "end_time": "2021-10-29T12:11:43.521433",
     "exception": false,
     "start_time": "2021-10-29T12:11:43.480857",
     "status": "completed"
    },
    "tags": []
   },
   "outputs": [],
   "source": [
    "#hide\n",
    "# cols = ['name','group','day','value']"
   ]
  },
  {
   "cell_type": "code",
   "execution_count": 37,
   "id": "continued-sleeping",
   "metadata": {
    "execution": {
     "iopub.execute_input": "2021-10-29T12:11:43.594907Z",
     "iopub.status.busy": "2021-10-29T12:11:43.594275Z",
     "iopub.status.idle": "2021-10-29T12:11:43.596731Z",
     "shell.execute_reply": "2021-10-29T12:11:43.597284Z"
    },
    "papermill": {
     "duration": 0.041803,
     "end_time": "2021-10-29T12:11:43.597419",
     "exception": false,
     "start_time": "2021-10-29T12:11:43.555616",
     "status": "completed"
    },
    "tags": []
   },
   "outputs": [],
   "source": [
    "#hide\n",
    "# g.rename(columns= {'date':'day'},inplace = True)"
   ]
  },
  {
   "cell_type": "code",
   "execution_count": 38,
   "id": "major-fight",
   "metadata": {
    "execution": {
     "iopub.execute_input": "2021-10-29T12:11:43.669937Z",
     "iopub.status.busy": "2021-10-29T12:11:43.669346Z",
     "iopub.status.idle": "2021-10-29T12:11:43.671964Z",
     "shell.execute_reply": "2021-10-29T12:11:43.671473Z"
    },
    "papermill": {
     "duration": 0.04065,
     "end_time": "2021-10-29T12:11:43.672088",
     "exception": false,
     "start_time": "2021-10-29T12:11:43.631438",
     "status": "completed"
    },
    "tags": []
   },
   "outputs": [],
   "source": [
    "#hide\n",
    "# g = g[cols]"
   ]
  },
  {
   "cell_type": "code",
   "execution_count": 39,
   "id": "structured-mobile",
   "metadata": {
    "execution": {
     "iopub.execute_input": "2021-10-29T12:11:43.744427Z",
     "iopub.status.busy": "2021-10-29T12:11:43.743840Z",
     "iopub.status.idle": "2021-10-29T12:11:43.747648Z",
     "shell.execute_reply": "2021-10-29T12:11:43.747135Z"
    },
    "papermill": {
     "duration": 0.041637,
     "end_time": "2021-10-29T12:11:43.747771",
     "exception": false,
     "start_time": "2021-10-29T12:11:43.706134",
     "status": "completed"
    },
    "tags": []
   },
   "outputs": [],
   "source": [
    "# #hide\n",
    "# g = g[g.group.notna()]"
   ]
  },
  {
   "cell_type": "code",
   "execution_count": 40,
   "id": "determined-closing",
   "metadata": {
    "execution": {
     "iopub.execute_input": "2021-10-29T12:11:43.821357Z",
     "iopub.status.busy": "2021-10-29T12:11:43.820761Z",
     "iopub.status.idle": "2021-10-29T12:11:43.823122Z",
     "shell.execute_reply": "2021-10-29T12:11:43.823685Z"
    },
    "papermill": {
     "duration": 0.041904,
     "end_time": "2021-10-29T12:11:43.823827",
     "exception": false,
     "start_time": "2021-10-29T12:11:43.781923",
     "status": "completed"
    },
    "tags": []
   },
   "outputs": [],
   "source": [
    "# #hide\n",
    "# colors = dict(zip(\n",
    "#     [\"Oceania\", \"Europe\", \"Asia\", \"South America\", \"Middle East\", \"North America\", \"Africa\"],\n",
    "#     [\"#adb0ff\", \"#ffb3ff\", \"#90d595\", \"#e48381\", \"#aafbff\", \"#f7bb5f\", \"#eafb50\"]\n",
    "# ))\n",
    "# group_lk = g.set_index('name')['group'].to_dict()"
   ]
  },
  {
   "cell_type": "code",
   "execution_count": null,
   "id": "gross-drinking",
   "metadata": {
    "papermill": {
     "duration": 0.034017,
     "end_time": "2021-10-29T12:11:43.892060",
     "exception": false,
     "start_time": "2021-10-29T12:11:43.858043",
     "status": "completed"
    },
    "tags": []
   },
   "outputs": [],
   "source": []
  },
  {
   "cell_type": "code",
   "execution_count": 41,
   "id": "subject-macintosh",
   "metadata": {
    "execution": {
     "iopub.execute_input": "2021-10-29T12:11:43.965521Z",
     "iopub.status.busy": "2021-10-29T12:11:43.964913Z",
     "iopub.status.idle": "2021-10-29T12:11:43.966748Z",
     "shell.execute_reply": "2021-10-29T12:11:43.967198Z"
    },
    "papermill": {
     "duration": 0.040978,
     "end_time": "2021-10-29T12:11:43.967345",
     "exception": false,
     "start_time": "2021-10-29T12:11:43.926367",
     "status": "completed"
    },
    "tags": []
   },
   "outputs": [],
   "source": [
    "# #hide\n",
    "# fig, ax = plt.subplots(figsize=(15, 8))\n",
    "\n",
    "# def draw_barchart(current_day):\n",
    "#     dff = g[g['day'].eq(current_day)].sort_values(by='value', ascending=True).tail(10)\n",
    "#     ax.clear()\n",
    "#     ax.barh(dff['name'], dff['value'], color=[colors[group_lk[x]] for x in dff['name']])\n",
    "#     dx = dff['value'].max() / 200\n",
    "    \n",
    "#     for i, (value, name) in enumerate(zip(dff['value'], dff['name'])):\n",
    "#         ax.text(value-dx, i,     name,           size=14, weight=600, ha='right', va='bottom')\n",
    "#         ax.text(value-dx, i-.25, group_lk[name], size=10, color='#444444', ha='right', va='baseline')\n",
    "#         ax.text(value+dx, i,     f'{value:,.0f}',  size=14, ha='left',  va='center')\n",
    "#     ax.text(1, 0.4, current_day, transform=ax.transAxes, color='#777777', size=46, ha='right', weight=800)\n",
    "#     ax.text(0, 1.06, 'Population (thousands)', transform=ax.transAxes, size=12, color='#777777')\n",
    "#     ax.xaxis.set_major_formatter(ticker.StrMethodFormatter('{x:,.0f}'))\n",
    "#     ax.xaxis.set_ticks_position('top')\n",
    "#     ax.tick_params(axis='x', colors='#777777', labelsize=12)\n",
    "#     ax.set_yticks([])\n",
    "#     ax.margins(0, 0.01)\n",
    "#     ax.grid(which='major', axis='x', linestyle='-')\n",
    "#     ax.set_axisbelow(True)\n",
    "    \n",
    "#     ax.text(0, 1.15, 'Coronavirus',\n",
    "#             transform=ax.transAxes, size=24, weight=600, ha='left', va='top')\n",
    "# #     ax.text(1, 0, 'by @pratapvardhan; credit @jburnmurdoch', transform=ax.transAxes, color='#777777', ha='right',\n",
    "# #             bbox=dict(facecolor='white', alpha=0.8, edgecolor='white'))\n",
    "#     plt.box(False)"
   ]
  },
  {
   "cell_type": "code",
   "execution_count": 42,
   "id": "sexual-wages",
   "metadata": {
    "execution": {
     "iopub.execute_input": "2021-10-29T12:11:44.039827Z",
     "iopub.status.busy": "2021-10-29T12:11:44.039214Z",
     "iopub.status.idle": "2021-10-29T12:11:44.041280Z",
     "shell.execute_reply": "2021-10-29T12:11:44.041779Z"
    },
    "papermill": {
     "duration": 0.040505,
     "end_time": "2021-10-29T12:11:44.041914",
     "exception": false,
     "start_time": "2021-10-29T12:11:44.001409",
     "status": "completed"
    },
    "tags": []
   },
   "outputs": [],
   "source": [
    "# #hide_input\n",
    "# fig, ax = plt.subplots(figsize=(15, 8))\n",
    "# animator = animation.FuncAnimation(fig, draw_barchart, frames=range(g.day.values.min(), g.day.values.max()))\n",
    "# HTML(animator.to_jshtml())\n",
    "# # or use animator.to_html5_video() or animator.save() "
   ]
  },
  {
   "cell_type": "code",
   "execution_count": null,
   "id": "australian-container",
   "metadata": {
    "papermill": {
     "duration": 0.034528,
     "end_time": "2021-10-29T12:11:44.110897",
     "exception": false,
     "start_time": "2021-10-29T12:11:44.076369",
     "status": "completed"
    },
    "tags": []
   },
   "outputs": [],
   "source": []
  },
  {
   "cell_type": "code",
   "execution_count": null,
   "id": "mediterranean-pontiac",
   "metadata": {
    "papermill": {
     "duration": 0.034267,
     "end_time": "2021-10-29T12:11:44.179396",
     "exception": false,
     "start_time": "2021-10-29T12:11:44.145129",
     "status": "completed"
    },
    "tags": []
   },
   "outputs": [],
   "source": []
  },
  {
   "cell_type": "code",
   "execution_count": null,
   "id": "aging-legislature",
   "metadata": {
    "papermill": {
     "duration": 0.034061,
     "end_time": "2021-10-29T12:11:44.247946",
     "exception": false,
     "start_time": "2021-10-29T12:11:44.213885",
     "status": "completed"
    },
    "tags": []
   },
   "outputs": [],
   "source": []
  }
 ],
 "metadata": {
  "kernelspec": {
   "display_name": "Python 3",
   "language": "python",
   "name": "python3"
  },
  "language_info": {
   "codemirror_mode": {
    "name": "ipython",
    "version": 3
   },
   "file_extension": ".py",
   "mimetype": "text/x-python",
   "name": "python",
   "nbconvert_exporter": "python",
   "pygments_lexer": "ipython3",
   "version": "3.6.15"
  },
  "papermill": {
   "duration": 6.657255,
   "end_time": "2021-10-29T12:11:44.693024",
   "environment_variables": {},
   "exception": null,
   "input_path": "2020-03-21-covid19exp.ipynb",
   "output_path": "2020-03-21-covid19exp.ipynb",
   "parameters": {},
   "start_time": "2021-10-29T12:11:38.035769",
   "version": "2.0.0"
  }
 },
 "nbformat": 4,
 "nbformat_minor": 5
}