{
 "cells": [
  {
   "cell_type": "markdown",
   "id": "muslim-click",
   "metadata": {
    "papermill": {
     "duration": 0.043983,
     "end_time": "2022-01-24T00:25:17.355605",
     "exception": false,
     "start_time": "2022-01-24T00:25:17.311622",
     "status": "completed"
    },
    "tags": []
   },
   "source": [
    "# COVID-19 Case Race\n",
    "> A race chart to see rising cases around the world\n",
    "\n",
    "- author: Hargun Oberoi\n",
    "- image: images/covid-overview.png\n",
    "- hide: false\n",
    "- badges: false"
   ]
  },
  {
   "cell_type": "code",
   "execution_count": 1,
   "id": "proof-material",
   "metadata": {
    "execution": {
     "iopub.execute_input": "2022-01-24T00:25:17.450831Z",
     "iopub.status.busy": "2022-01-24T00:25:17.450003Z",
     "iopub.status.idle": "2022-01-24T00:25:17.869908Z",
     "shell.execute_reply": "2022-01-24T00:25:17.870496Z"
    },
    "papermill": {
     "duration": 0.473542,
     "end_time": "2022-01-24T00:25:17.870731",
     "exception": false,
     "start_time": "2022-01-24T00:25:17.397189",
     "status": "completed"
    },
    "tags": []
   },
   "outputs": [],
   "source": [
    "#hide\n",
    "import numpy as np\n",
    "import pandas as pd\n",
    "from jinja2 import Template\n",
    "from IPython.display import HTML"
   ]
  },
  {
   "cell_type": "code",
   "execution_count": 2,
   "id": "developed-terminology",
   "metadata": {
    "execution": {
     "iopub.execute_input": "2022-01-24T00:25:17.967497Z",
     "iopub.status.busy": "2022-01-24T00:25:17.966728Z",
     "iopub.status.idle": "2022-01-24T00:25:17.969745Z",
     "shell.execute_reply": "2022-01-24T00:25:17.969105Z"
    },
    "papermill": {
     "duration": 0.050551,
     "end_time": "2022-01-24T00:25:17.969884",
     "exception": false,
     "start_time": "2022-01-24T00:25:17.919333",
     "status": "completed"
    },
    "tags": []
   },
   "outputs": [],
   "source": [
    "#hide\n",
    "\n",
    "# FETCH\n",
    "base_url = 'https://raw.githubusercontent.com/pratapvardhan/notebooks/master/covid19/'\n",
    "paths = {\n",
    "    'mapping': base_url + 'mapping_countries.csv',\n",
    "    'overview': base_url + 'overview.tpl'\n",
    "}"
   ]
  },
  {
   "cell_type": "code",
   "execution_count": 3,
   "id": "dynamic-saver",
   "metadata": {
    "execution": {
     "iopub.execute_input": "2022-01-24T00:25:18.069244Z",
     "iopub.status.busy": "2022-01-24T00:25:18.067298Z",
     "iopub.status.idle": "2022-01-24T00:25:18.071243Z",
     "shell.execute_reply": "2022-01-24T00:25:18.071867Z"
    },
    "papermill": {
     "duration": 0.063136,
     "end_time": "2022-01-24T00:25:18.072040",
     "exception": false,
     "start_time": "2022-01-24T00:25:18.008904",
     "status": "completed"
    },
    "tags": []
   },
   "outputs": [
    {
     "data": {
      "text/plain": [
       "'https://raw.githubusercontent.com/pratapvardhan/notebooks/master/covid19/mapping_countries.csv'"
      ]
     },
     "execution_count": 3,
     "metadata": {},
     "output_type": "execute_result"
    }
   ],
   "source": [
    "#hide\n",
    "paths['mapping']"
   ]
  },
  {
   "cell_type": "code",
   "execution_count": 4,
   "id": "urban-software",
   "metadata": {
    "execution": {
     "iopub.execute_input": "2022-01-24T00:25:18.171159Z",
     "iopub.status.busy": "2022-01-24T00:25:18.159940Z",
     "iopub.status.idle": "2022-01-24T00:25:18.174765Z",
     "shell.execute_reply": "2022-01-24T00:25:18.174141Z"
    },
    "papermill": {
     "duration": 0.062641,
     "end_time": "2022-01-24T00:25:18.174937",
     "exception": false,
     "start_time": "2022-01-24T00:25:18.112296",
     "status": "completed"
    },
    "tags": []
   },
   "outputs": [],
   "source": [
    "#hide\n",
    "def get_mappings(url):\n",
    "    df = pd.read_csv(url)\n",
    "    return {\n",
    "        'df': df,\n",
    "        'replace.country': dict(df.dropna(subset=['Name']).set_index('Country')['Name']),\n",
    "        'map.continent': dict(df.set_index('Name')['Continent'])\n",
    "    }"
   ]
  },
  {
   "cell_type": "code",
   "execution_count": 5,
   "id": "intimate-machinery",
   "metadata": {
    "execution": {
     "iopub.execute_input": "2022-01-24T00:25:18.265467Z",
     "iopub.status.busy": "2022-01-24T00:25:18.264763Z",
     "iopub.status.idle": "2022-01-24T00:25:18.294030Z",
     "shell.execute_reply": "2022-01-24T00:25:18.293469Z"
    },
    "papermill": {
     "duration": 0.078218,
     "end_time": "2022-01-24T00:25:18.294202",
     "exception": false,
     "start_time": "2022-01-24T00:25:18.215984",
     "status": "completed"
    },
    "tags": []
   },
   "outputs": [],
   "source": [
    "#hide\n",
    "mapping = get_mappings(paths['mapping'])"
   ]
  },
  {
   "cell_type": "code",
   "execution_count": 6,
   "id": "certified-tactics",
   "metadata": {
    "execution": {
     "iopub.execute_input": "2022-01-24T00:25:18.380035Z",
     "iopub.status.busy": "2022-01-24T00:25:18.379292Z",
     "iopub.status.idle": "2022-01-24T00:25:18.383432Z",
     "shell.execute_reply": "2022-01-24T00:25:18.383997Z"
    },
    "papermill": {
     "duration": 0.050608,
     "end_time": "2022-01-24T00:25:18.384161",
     "exception": false,
     "start_time": "2022-01-24T00:25:18.333553",
     "status": "completed"
    },
    "tags": []
   },
   "outputs": [],
   "source": [
    "#hide\n",
    "def get_template(path):\n",
    "    from urllib.parse import urlparse\n",
    "    if bool(urlparse(path).netloc):\n",
    "        from urllib.request import urlopen\n",
    "        return urlopen(path).read().decode('utf8')\n",
    "    return open(path).read()"
   ]
  },
  {
   "cell_type": "code",
   "execution_count": 7,
   "id": "realistic-blast",
   "metadata": {
    "execution": {
     "iopub.execute_input": "2022-01-24T00:25:18.470775Z",
     "iopub.status.busy": "2022-01-24T00:25:18.470018Z",
     "iopub.status.idle": "2022-01-24T00:25:18.473362Z",
     "shell.execute_reply": "2022-01-24T00:25:18.473908Z"
    },
    "papermill": {
     "duration": 0.050329,
     "end_time": "2022-01-24T00:25:18.474038",
     "exception": false,
     "start_time": "2022-01-24T00:25:18.423709",
     "status": "completed"
    },
    "tags": []
   },
   "outputs": [],
   "source": [
    "#hide\n",
    "def get_frame(name):\n",
    "    url = (\n",
    "        'https://raw.githubusercontent.com/CSSEGISandData/COVID-19/master/csse_covid_19_data/'\n",
    "        f'csse_covid_19_time_series/time_series_covid19_{name}_global.csv')\n",
    "    df = pd.read_csv(url)\n",
    "    # rename countries\n",
    "    df['Country/Region'] = df['Country/Region'].replace(mapping['replace.country'])\n",
    "    return df"
   ]
  },
  {
   "cell_type": "code",
   "execution_count": 8,
   "id": "affiliated-characterization",
   "metadata": {
    "execution": {
     "iopub.execute_input": "2022-01-24T00:25:18.559235Z",
     "iopub.status.busy": "2022-01-24T00:25:18.558464Z",
     "iopub.status.idle": "2022-01-24T00:25:18.561492Z",
     "shell.execute_reply": "2022-01-24T00:25:18.560483Z"
    },
    "papermill": {
     "duration": 0.048358,
     "end_time": "2022-01-24T00:25:18.561672",
     "exception": false,
     "start_time": "2022-01-24T00:25:18.513314",
     "status": "completed"
    },
    "tags": []
   },
   "outputs": [],
   "source": [
    "#hide\n",
    "def get_dates(df):\n",
    "    dt_cols = df.columns[~df.columns.isin(['Province/State', 'Country/Region', 'Lat', 'Long'])]\n",
    "    LAST_DATE_I = -1\n",
    "    # sometimes last column may be empty, then go backwards\n",
    "    for i in range(-1, -len(dt_cols), -1):\n",
    "        if not df[dt_cols[i]].fillna(0).eq(0).all():\n",
    "            LAST_DATE_I = i\n",
    "            break\n",
    "    return LAST_DATE_I, dt_cols"
   ]
  },
  {
   "cell_type": "code",
   "execution_count": 9,
   "id": "recent-optimization",
   "metadata": {
    "execution": {
     "iopub.execute_input": "2022-01-24T00:25:18.654660Z",
     "iopub.status.busy": "2022-01-24T00:25:18.653917Z",
     "iopub.status.idle": "2022-01-24T00:25:19.076068Z",
     "shell.execute_reply": "2022-01-24T00:25:19.075406Z"
    },
    "papermill": {
     "duration": 0.468619,
     "end_time": "2022-01-24T00:25:19.076217",
     "exception": false,
     "start_time": "2022-01-24T00:25:18.607598",
     "status": "completed"
    },
    "tags": []
   },
   "outputs": [],
   "source": [
    "#hide\n",
    "COL_REGION = 'Country/Region'\n",
    "# Confirmed, Recovered, Deaths\n",
    "df = get_frame('confirmed')\n",
    "# dft_: timeseries, dfc_: today country agg\n",
    "dft_cases = df\n",
    "dft_deaths = get_frame('deaths')\n",
    "dft_recovered = get_frame('recovered')\n",
    "LAST_DATE_I, dt_cols = get_dates(df)"
   ]
  },
  {
   "cell_type": "code",
   "execution_count": 10,
   "id": "absolute-copper",
   "metadata": {
    "execution": {
     "iopub.execute_input": "2022-01-24T00:25:19.168394Z",
     "iopub.status.busy": "2022-01-24T00:25:19.167687Z",
     "iopub.status.idle": "2022-01-24T00:25:19.171006Z",
     "shell.execute_reply": "2022-01-24T00:25:19.170488Z"
    },
    "papermill": {
     "duration": 0.051384,
     "end_time": "2022-01-24T00:25:19.171132",
     "exception": false,
     "start_time": "2022-01-24T00:25:19.119748",
     "status": "completed"
    },
    "tags": []
   },
   "outputs": [],
   "source": [
    "#hide\n",
    "LAST_DATE_I, dt_cols = get_dates(df)\n",
    "dt_today =dt_cols[LAST_DATE_I]\n",
    "# dt_5day = dt_cols[LAST_DATE_I - 5]\n",
    "dt_yday = dt_cols[LAST_DATE_I - 1]"
   ]
  },
  {
   "cell_type": "code",
   "execution_count": 11,
   "id": "restricted-sheriff",
   "metadata": {
    "execution": {
     "iopub.execute_input": "2022-01-24T00:25:19.265561Z",
     "iopub.status.busy": "2022-01-24T00:25:19.264448Z",
     "iopub.status.idle": "2022-01-24T00:25:19.274125Z",
     "shell.execute_reply": "2022-01-24T00:25:19.273482Z"
    },
    "papermill": {
     "duration": 0.059721,
     "end_time": "2022-01-24T00:25:19.274272",
     "exception": false,
     "start_time": "2022-01-24T00:25:19.214551",
     "status": "completed"
    },
    "tags": []
   },
   "outputs": [],
   "source": [
    "#hide\n",
    "dfc_cases = dft_cases.groupby(COL_REGION)[dt_today].sum()\n",
    "dfc_deaths = dft_deaths.groupby(COL_REGION)[dt_today].sum()\n",
    "# dfp_cases = dft_cases.groupby(COL_REGION)[dt_5day].sum()\n",
    "# dfp_deaths = dft_deaths.groupby(COL_REGION)[dt_5day].sum()\n",
    "dfp_cases = dft_cases.groupby(COL_REGION)[dt_yday].sum()\n",
    "dfp_deaths = dft_deaths.groupby(COL_REGION)[dt_yday].sum()"
   ]
  },
  {
   "cell_type": "code",
   "execution_count": 12,
   "id": "deluxe-hepatitis",
   "metadata": {
    "execution": {
     "iopub.execute_input": "2022-01-24T00:25:19.367587Z",
     "iopub.status.busy": "2022-01-24T00:25:19.366898Z",
     "iopub.status.idle": "2022-01-24T00:25:19.373280Z",
     "shell.execute_reply": "2022-01-24T00:25:19.372704Z"
    },
    "papermill": {
     "duration": 0.055638,
     "end_time": "2022-01-24T00:25:19.373425",
     "exception": false,
     "start_time": "2022-01-24T00:25:19.317787",
     "status": "completed"
    },
    "tags": []
   },
   "outputs": [],
   "source": [
    "#hide\n",
    "df_table = (pd.DataFrame(dict(Cases = dfc_cases, Deaths = dfc_deaths, PCases = dfp_cases, PDeaths = dfp_deaths))\n",
    "            .sort_values(by = ['Cases','Deaths'], ascending = [False, False])\n",
    "            .reset_index())"
   ]
  },
  {
   "cell_type": "code",
   "execution_count": 13,
   "id": "educational-chancellor",
   "metadata": {
    "execution": {
     "iopub.execute_input": "2022-01-24T00:25:19.470700Z",
     "iopub.status.busy": "2022-01-24T00:25:19.470021Z",
     "iopub.status.idle": "2022-01-24T00:25:19.486474Z",
     "shell.execute_reply": "2022-01-24T00:25:19.487087Z"
    },
    "papermill": {
     "duration": 0.072923,
     "end_time": "2022-01-24T00:25:19.487246",
     "exception": false,
     "start_time": "2022-01-24T00:25:19.414323",
     "status": "completed"
    },
    "tags": []
   },
   "outputs": [
    {
     "data": {
      "text/html": [
       "<div>\n",
       "<style scoped>\n",
       "    .dataframe tbody tr th:only-of-type {\n",
       "        vertical-align: middle;\n",
       "    }\n",
       "\n",
       "    .dataframe tbody tr th {\n",
       "        vertical-align: top;\n",
       "    }\n",
       "\n",
       "    .dataframe thead th {\n",
       "        text-align: right;\n",
       "    }\n",
       "</style>\n",
       "<table border=\"1\" class=\"dataframe\">\n",
       "  <thead>\n",
       "    <tr style=\"text-align: right;\">\n",
       "      <th></th>\n",
       "      <th>Country/Region</th>\n",
       "      <th>Cases</th>\n",
       "      <th>Deaths</th>\n",
       "      <th>PCases</th>\n",
       "      <th>PDeaths</th>\n",
       "      <th>Cases (+)</th>\n",
       "      <th>Deaths (+)</th>\n",
       "      <th>Fatality Rate</th>\n",
       "      <th>Continent</th>\n",
       "    </tr>\n",
       "  </thead>\n",
       "  <tbody>\n",
       "    <tr>\n",
       "      <th>0</th>\n",
       "      <td>US</td>\n",
       "      <td>70495874</td>\n",
       "      <td>865968</td>\n",
       "      <td>70209840</td>\n",
       "      <td>865155</td>\n",
       "      <td>286034</td>\n",
       "      <td>813</td>\n",
       "      <td>1.23</td>\n",
       "      <td>North America</td>\n",
       "    </tr>\n",
       "    <tr>\n",
       "      <th>1</th>\n",
       "      <td>India</td>\n",
       "      <td>39237264</td>\n",
       "      <td>489409</td>\n",
       "      <td>38903731</td>\n",
       "      <td>488884</td>\n",
       "      <td>333533</td>\n",
       "      <td>525</td>\n",
       "      <td>1.25</td>\n",
       "      <td>Asia</td>\n",
       "    </tr>\n",
       "    <tr>\n",
       "      <th>2</th>\n",
       "      <td>Brazil</td>\n",
       "      <td>23931609</td>\n",
       "      <td>623191</td>\n",
       "      <td>23766499</td>\n",
       "      <td>622875</td>\n",
       "      <td>165110</td>\n",
       "      <td>316</td>\n",
       "      <td>2.60</td>\n",
       "      <td>South America</td>\n",
       "    </tr>\n",
       "    <tr>\n",
       "      <th>3</th>\n",
       "      <td>France</td>\n",
       "      <td>16506090</td>\n",
       "      <td>129505</td>\n",
       "      <td>16116748</td>\n",
       "      <td>129338</td>\n",
       "      <td>389342</td>\n",
       "      <td>167</td>\n",
       "      <td>0.78</td>\n",
       "      <td>Europe</td>\n",
       "    </tr>\n",
       "    <tr>\n",
       "      <th>4</th>\n",
       "      <td>United Kingdom</td>\n",
       "      <td>15891905</td>\n",
       "      <td>154298</td>\n",
       "      <td>15814617</td>\n",
       "      <td>154001</td>\n",
       "      <td>77288</td>\n",
       "      <td>297</td>\n",
       "      <td>0.97</td>\n",
       "      <td>Europe</td>\n",
       "    </tr>\n",
       "  </tbody>\n",
       "</table>\n",
       "</div>"
      ],
      "text/plain": [
       "   Country/Region     Cases  Deaths    PCases  PDeaths  Cases (+)  Deaths (+)  \\\n",
       "0              US  70495874  865968  70209840   865155     286034         813   \n",
       "1           India  39237264  489409  38903731   488884     333533         525   \n",
       "2          Brazil  23931609  623191  23766499   622875     165110         316   \n",
       "3          France  16506090  129505  16116748   129338     389342         167   \n",
       "4  United Kingdom  15891905  154298  15814617   154001      77288         297   \n",
       "\n",
       "   Fatality Rate      Continent  \n",
       "0           1.23  North America  \n",
       "1           1.25           Asia  \n",
       "2           2.60  South America  \n",
       "3           0.78         Europe  \n",
       "4           0.97         Europe  "
      ]
     },
     "execution_count": 13,
     "metadata": {},
     "output_type": "execute_result"
    }
   ],
   "source": [
    "#hide\n",
    "for c in 'Cases, Deaths'.split(', '):\n",
    "    df_table[f'{c} (+)'] = (df_table[c] - df_table[f'P{c}']).clip(0)\n",
    "    #Clip ça veut dire, les chiffres negatif sont interdit\n",
    "df_table['Fatality Rate'] = (100* df_table['Deaths']/ df_table['Cases']).round(2)\n",
    "df_table['Continent'] = df_table['Country/Region'].map(mapping['map.continent'])\n",
    "df_table.head(5)"
   ]
  },
  {
   "cell_type": "code",
   "execution_count": 14,
   "id": "aboriginal-bulgaria",
   "metadata": {
    "execution": {
     "iopub.execute_input": "2022-01-24T00:25:19.582562Z",
     "iopub.status.busy": "2022-01-24T00:25:19.581619Z",
     "iopub.status.idle": "2022-01-24T00:25:19.584657Z",
     "shell.execute_reply": "2022-01-24T00:25:19.585286Z"
    },
    "papermill": {
     "duration": 0.050899,
     "end_time": "2022-01-24T00:25:19.585445",
     "exception": false,
     "start_time": "2022-01-24T00:25:19.534546",
     "status": "completed"
    },
    "tags": []
   },
   "outputs": [],
   "source": [
    "#hide\n",
    "#delete problematic countries from table\n",
    "df_table = df_table[~df_table['Country/Region'].isin(['Cape Verde', 'Cruise Ship', 'Kosovo'])]"
   ]
  },
  {
   "cell_type": "code",
   "execution_count": 15,
   "id": "fantastic-effect",
   "metadata": {
    "execution": {
     "iopub.execute_input": "2022-01-24T00:25:19.685371Z",
     "iopub.status.busy": "2022-01-24T00:25:19.684646Z",
     "iopub.status.idle": "2022-01-24T00:25:19.708895Z",
     "shell.execute_reply": "2022-01-24T00:25:19.709448Z"
    },
    "papermill": {
     "duration": 0.07643,
     "end_time": "2022-01-24T00:25:19.709661",
     "exception": false,
     "start_time": "2022-01-24T00:25:19.633231",
     "status": "completed"
    },
    "tags": []
   },
   "outputs": [
    {
     "data": {
      "text/html": [
       "<div>\n",
       "<style scoped>\n",
       "    .dataframe tbody tr th:only-of-type {\n",
       "        vertical-align: middle;\n",
       "    }\n",
       "\n",
       "    .dataframe tbody tr th {\n",
       "        vertical-align: top;\n",
       "    }\n",
       "\n",
       "    .dataframe thead th {\n",
       "        text-align: right;\n",
       "    }\n",
       "</style>\n",
       "<table border=\"1\" class=\"dataframe\">\n",
       "  <thead>\n",
       "    <tr style=\"text-align: right;\">\n",
       "      <th></th>\n",
       "      <th>Country/Region</th>\n",
       "      <th>Cases</th>\n",
       "      <th>Deaths</th>\n",
       "      <th>PCases</th>\n",
       "      <th>PDeaths</th>\n",
       "      <th>Cases (+)</th>\n",
       "      <th>Deaths (+)</th>\n",
       "      <th>Fatality Rate</th>\n",
       "      <th>Continent</th>\n",
       "    </tr>\n",
       "  </thead>\n",
       "  <tbody>\n",
       "    <tr>\n",
       "      <th>0</th>\n",
       "      <td>US</td>\n",
       "      <td>70495874</td>\n",
       "      <td>865968</td>\n",
       "      <td>70209840</td>\n",
       "      <td>865155</td>\n",
       "      <td>286034</td>\n",
       "      <td>813</td>\n",
       "      <td>1.2</td>\n",
       "      <td>North America</td>\n",
       "    </tr>\n",
       "    <tr>\n",
       "      <th>1</th>\n",
       "      <td>India</td>\n",
       "      <td>39237264</td>\n",
       "      <td>489409</td>\n",
       "      <td>38903731</td>\n",
       "      <td>488884</td>\n",
       "      <td>333533</td>\n",
       "      <td>525</td>\n",
       "      <td>1.2</td>\n",
       "      <td>Asia</td>\n",
       "    </tr>\n",
       "    <tr>\n",
       "      <th>2</th>\n",
       "      <td>Brazil</td>\n",
       "      <td>23931609</td>\n",
       "      <td>623191</td>\n",
       "      <td>23766499</td>\n",
       "      <td>622875</td>\n",
       "      <td>165110</td>\n",
       "      <td>316</td>\n",
       "      <td>2.6</td>\n",
       "      <td>South America</td>\n",
       "    </tr>\n",
       "    <tr>\n",
       "      <th>3</th>\n",
       "      <td>France</td>\n",
       "      <td>16506090</td>\n",
       "      <td>129505</td>\n",
       "      <td>16116748</td>\n",
       "      <td>129338</td>\n",
       "      <td>389342</td>\n",
       "      <td>167</td>\n",
       "      <td>0.8</td>\n",
       "      <td>Europe</td>\n",
       "    </tr>\n",
       "    <tr>\n",
       "      <th>4</th>\n",
       "      <td>United Kingdom</td>\n",
       "      <td>15891905</td>\n",
       "      <td>154298</td>\n",
       "      <td>15814617</td>\n",
       "      <td>154001</td>\n",
       "      <td>77288</td>\n",
       "      <td>297</td>\n",
       "      <td>1.0</td>\n",
       "      <td>Europe</td>\n",
       "    </tr>\n",
       "  </tbody>\n",
       "</table>\n",
       "</div>"
      ],
      "text/plain": [
       "   Country/Region     Cases  Deaths    PCases  PDeaths  Cases (+)  Deaths (+)  \\\n",
       "0              US  70495874  865968  70209840   865155     286034         813   \n",
       "1           India  39237264  489409  38903731   488884     333533         525   \n",
       "2          Brazil  23931609  623191  23766499   622875     165110         316   \n",
       "3          France  16506090  129505  16116748   129338     389342         167   \n",
       "4  United Kingdom  15891905  154298  15814617   154001      77288         297   \n",
       "\n",
       "   Fatality Rate      Continent  \n",
       "0            1.2  North America  \n",
       "1            1.2           Asia  \n",
       "2            2.6  South America  \n",
       "3            0.8         Europe  \n",
       "4            1.0         Europe  "
      ]
     },
     "execution_count": 15,
     "metadata": {},
     "output_type": "execute_result"
    }
   ],
   "source": [
    "#hide\n",
    "df_table = (pd.DataFrame(dict(Cases=dfc_cases, Deaths=dfc_deaths, PCases=dfp_cases, PDeaths=dfp_deaths))\n",
    "             .sort_values(by=['Cases', 'Deaths'], ascending=[False, False])\n",
    "             .reset_index())\n",
    "df_table.rename(columns={'index': 'Country/Region'}, inplace=True)\n",
    "for c in 'Cases, Deaths'.split(', '):\n",
    "    df_table[f'{c} (+)'] = (df_table[c] - df_table[f'P{c}']).clip(0)  # DATA BUG\n",
    "df_table['Fatality Rate'] = (100 * df_table['Deaths'] / df_table['Cases']).round(1)\n",
    "df_table['Continent'] = df_table['Country/Region'].map(mapping['map.continent'])\n",
    "df_table.head(5)"
   ]
  },
  {
   "cell_type": "code",
   "execution_count": 16,
   "id": "fewer-occasion",
   "metadata": {
    "execution": {
     "iopub.execute_input": "2022-01-24T00:25:19.802445Z",
     "iopub.status.busy": "2022-01-24T00:25:19.801554Z",
     "iopub.status.idle": "2022-01-24T00:25:19.807370Z",
     "shell.execute_reply": "2022-01-24T00:25:19.806117Z"
    },
    "papermill": {
     "duration": 0.054206,
     "end_time": "2022-01-24T00:25:19.807738",
     "exception": false,
     "start_time": "2022-01-24T00:25:19.753532",
     "status": "completed"
    },
    "tags": []
   },
   "outputs": [],
   "source": [
    "#hide\n",
    "#delete problematic countries from table\n",
    "df_table = df_table[~df_table['Country/Region'].isin(['Cape Verde', 'Cruise Ship', 'Kosovo'])]"
   ]
  },
  {
   "cell_type": "code",
   "execution_count": 17,
   "id": "related-center",
   "metadata": {
    "execution": {
     "iopub.execute_input": "2022-01-24T00:25:19.912271Z",
     "iopub.status.busy": "2022-01-24T00:25:19.911485Z",
     "iopub.status.idle": "2022-01-24T00:25:19.913313Z",
     "shell.execute_reply": "2022-01-24T00:25:19.914260Z"
    },
    "papermill": {
     "duration": 0.0662,
     "end_time": "2022-01-24T00:25:19.914493",
     "exception": false,
     "start_time": "2022-01-24T00:25:19.848293",
     "status": "completed"
    },
    "tags": []
   },
   "outputs": [],
   "source": [
    "#hide\n",
    "metrics = [df_table.columns[index] for index in [1,2,5,6]]\n",
    "# s_china = df_table[df_table['Country/Region'].eq('China')][metrics].sum().add_prefix('China ')\n",
    "s_us = df_table[df_table['Country/Region'].eq('US')][metrics].sum().add_prefix('US ')\n",
    "s_eu = df_table[df_table['Continent'].eq('Europe')][metrics].sum().add_prefix('EU ')\n",
    "s_ind = df_table[df_table['Country/Region'].eq('India')][metrics].sum().add_prefix('India ')\n",
    "summary = {'updated': pd.to_datetime(dt_today), 'since': pd.to_datetime(dt_yday)}\n",
    "summary = {'updated': pd.to_datetime(dt_today), 'since': pd.to_datetime(dt_yday)}\n",
    "summary = {**summary, **df_table[metrics].sum(), **s_ind, **s_us, **s_eu}"
   ]
  },
  {
   "cell_type": "code",
   "execution_count": 18,
   "id": "engaging-syndrome",
   "metadata": {
    "execution": {
     "iopub.execute_input": "2022-01-24T00:25:20.001786Z",
     "iopub.status.busy": "2022-01-24T00:25:20.001006Z",
     "iopub.status.idle": "2022-01-24T00:25:20.017476Z",
     "shell.execute_reply": "2022-01-24T00:25:20.018018Z"
    },
    "papermill": {
     "duration": 0.062525,
     "end_time": "2022-01-24T00:25:20.018198",
     "exception": false,
     "start_time": "2022-01-24T00:25:19.955673",
     "status": "completed"
    },
    "tags": []
   },
   "outputs": [],
   "source": [
    "#hide\n",
    "dft_ct_new_cases = dft_cases.groupby(COL_REGION)[dt_cols].sum().diff(axis=1).fillna(0).astype(int)"
   ]
  },
  {
   "cell_type": "code",
   "execution_count": 19,
   "id": "neutral-assignment",
   "metadata": {
    "execution": {
     "iopub.execute_input": "2022-01-24T00:25:20.109601Z",
     "iopub.status.busy": "2022-01-24T00:25:20.108905Z",
     "iopub.status.idle": "2022-01-24T00:25:20.112799Z",
     "shell.execute_reply": "2022-01-24T00:25:20.113305Z"
    },
    "papermill": {
     "duration": 0.052503,
     "end_time": "2022-01-24T00:25:20.113478",
     "exception": false,
     "start_time": "2022-01-24T00:25:20.060975",
     "status": "completed"
    },
    "tags": []
   },
   "outputs": [],
   "source": [
    "#hide\n",
    "everydaycases = dft_ct_new_cases.cumsum(axis=1)"
   ]
  },
  {
   "cell_type": "code",
   "execution_count": 20,
   "id": "parliamentary-calgary",
   "metadata": {
    "execution": {
     "iopub.execute_input": "2022-01-24T00:25:20.203581Z",
     "iopub.status.busy": "2022-01-24T00:25:20.201694Z",
     "iopub.status.idle": "2022-01-24T00:25:20.928248Z",
     "shell.execute_reply": "2022-01-24T00:25:20.928778Z"
    },
    "papermill": {
     "duration": 0.773428,
     "end_time": "2022-01-24T00:25:20.928954",
     "exception": false,
     "start_time": "2022-01-24T00:25:20.155526",
     "status": "completed"
    },
    "tags": []
   },
   "outputs": [],
   "source": [
    "#hide\n",
    "import pandas as pd\n",
    "import matplotlib.pyplot as plt\n",
    "import matplotlib.ticker as ticker\n",
    "import matplotlib.animation as animation\n",
    "from IPython.display import HTML"
   ]
  },
  {
   "cell_type": "code",
   "execution_count": 21,
   "id": "lasting-extraction",
   "metadata": {
    "execution": {
     "iopub.execute_input": "2022-01-24T00:25:21.013621Z",
     "iopub.status.busy": "2022-01-24T00:25:21.012984Z",
     "iopub.status.idle": "2022-01-24T00:25:21.020769Z",
     "shell.execute_reply": "2022-01-24T00:25:21.020088Z"
    },
    "papermill": {
     "duration": 0.052612,
     "end_time": "2022-01-24T00:25:21.020935",
     "exception": false,
     "start_time": "2022-01-24T00:25:20.968323",
     "status": "completed"
    },
    "tags": []
   },
   "outputs": [],
   "source": [
    "#hide\n",
    "t = everydaycases.stack()"
   ]
  },
  {
   "cell_type": "code",
   "execution_count": 22,
   "id": "premier-sleeve",
   "metadata": {
    "execution": {
     "iopub.execute_input": "2022-01-24T00:25:21.112563Z",
     "iopub.status.busy": "2022-01-24T00:25:21.111851Z",
     "iopub.status.idle": "2022-01-24T00:25:21.124847Z",
     "shell.execute_reply": "2022-01-24T00:25:21.124234Z"
    },
    "papermill": {
     "duration": 0.05839,
     "end_time": "2022-01-24T00:25:21.125018",
     "exception": false,
     "start_time": "2022-01-24T00:25:21.066628",
     "status": "completed"
    },
    "tags": []
   },
   "outputs": [],
   "source": [
    "#hide\n",
    "g = t.reset_index(['Country/Region'])"
   ]
  },
  {
   "cell_type": "code",
   "execution_count": 23,
   "id": "distributed-pittsburgh",
   "metadata": {
    "execution": {
     "iopub.execute_input": "2022-01-24T00:25:21.212124Z",
     "iopub.status.busy": "2022-01-24T00:25:21.211430Z",
     "iopub.status.idle": "2022-01-24T00:25:21.214393Z",
     "shell.execute_reply": "2022-01-24T00:25:21.213704Z"
    },
    "papermill": {
     "duration": 0.048727,
     "end_time": "2022-01-24T00:25:21.214559",
     "exception": false,
     "start_time": "2022-01-24T00:25:21.165832",
     "status": "completed"
    },
    "tags": []
   },
   "outputs": [],
   "source": [
    "#hide\n",
    "g.index.name = 'date'"
   ]
  },
  {
   "cell_type": "code",
   "execution_count": 24,
   "id": "naked-donor",
   "metadata": {
    "execution": {
     "iopub.execute_input": "2022-01-24T00:25:21.307977Z",
     "iopub.status.busy": "2022-01-24T00:25:21.307189Z",
     "iopub.status.idle": "2022-01-24T00:25:21.310040Z",
     "shell.execute_reply": "2022-01-24T00:25:21.309311Z"
    },
    "papermill": {
     "duration": 0.051792,
     "end_time": "2022-01-24T00:25:21.310268",
     "exception": false,
     "start_time": "2022-01-24T00:25:21.258476",
     "status": "completed"
    },
    "tags": []
   },
   "outputs": [],
   "source": [
    "# #hide\n",
    "# g = g.reset_index(['date'])"
   ]
  },
  {
   "cell_type": "code",
   "execution_count": 25,
   "id": "incomplete-mustang",
   "metadata": {
    "execution": {
     "iopub.execute_input": "2022-01-24T00:25:21.401490Z",
     "iopub.status.busy": "2022-01-24T00:25:21.400663Z",
     "iopub.status.idle": "2022-01-24T00:25:21.405000Z",
     "shell.execute_reply": "2022-01-24T00:25:21.405520Z"
    },
    "papermill": {
     "duration": 0.05247,
     "end_time": "2022-01-24T00:25:21.405676",
     "exception": false,
     "start_time": "2022-01-24T00:25:21.353206",
     "status": "completed"
    },
    "tags": []
   },
   "outputs": [],
   "source": [
    "#hide\n",
    "# g.head()"
   ]
  },
  {
   "cell_type": "code",
   "execution_count": 26,
   "id": "specific-kruger",
   "metadata": {
    "execution": {
     "iopub.execute_input": "2022-01-24T00:25:21.494913Z",
     "iopub.status.busy": "2022-01-24T00:25:21.494157Z",
     "iopub.status.idle": "2022-01-24T00:25:21.497029Z",
     "shell.execute_reply": "2022-01-24T00:25:21.496346Z"
    },
    "papermill": {
     "duration": 0.046919,
     "end_time": "2022-01-24T00:25:21.497159",
     "exception": false,
     "start_time": "2022-01-24T00:25:21.450240",
     "status": "completed"
    },
    "tags": []
   },
   "outputs": [],
   "source": [
    "#hide\n",
    "# g.columns = ['date','country','cases']"
   ]
  },
  {
   "cell_type": "code",
   "execution_count": 27,
   "id": "tender-conversion",
   "metadata": {
    "execution": {
     "iopub.execute_input": "2022-01-24T00:25:21.582932Z",
     "iopub.status.busy": "2022-01-24T00:25:21.582157Z",
     "iopub.status.idle": "2022-01-24T00:25:21.584421Z",
     "shell.execute_reply": "2022-01-24T00:25:21.584971Z"
    },
    "papermill": {
     "duration": 0.046269,
     "end_time": "2022-01-24T00:25:21.585131",
     "exception": false,
     "start_time": "2022-01-24T00:25:21.538862",
     "status": "completed"
    },
    "tags": []
   },
   "outputs": [],
   "source": [
    "#hide\n",
    "# g['continent'] = g.country"
   ]
  },
  {
   "cell_type": "code",
   "execution_count": 28,
   "id": "substantial-wilderness",
   "metadata": {
    "execution": {
     "iopub.execute_input": "2022-01-24T00:25:21.672338Z",
     "iopub.status.busy": "2022-01-24T00:25:21.671678Z",
     "iopub.status.idle": "2022-01-24T00:25:21.679508Z",
     "shell.execute_reply": "2022-01-24T00:25:21.678907Z"
    },
    "papermill": {
     "duration": 0.052278,
     "end_time": "2022-01-24T00:25:21.679640",
     "exception": false,
     "start_time": "2022-01-24T00:25:21.627362",
     "status": "completed"
    },
    "tags": []
   },
   "outputs": [],
   "source": [
    "#hide\n",
    "# cols = list(g.columns.values)"
   ]
  },
  {
   "cell_type": "code",
   "execution_count": 29,
   "id": "solved-farming",
   "metadata": {
    "execution": {
     "iopub.execute_input": "2022-01-24T00:25:21.775643Z",
     "iopub.status.busy": "2022-01-24T00:25:21.774894Z",
     "iopub.status.idle": "2022-01-24T00:25:21.777498Z",
     "shell.execute_reply": "2022-01-24T00:25:21.776941Z"
    },
    "papermill": {
     "duration": 0.053901,
     "end_time": "2022-01-24T00:25:21.777627",
     "exception": false,
     "start_time": "2022-01-24T00:25:21.723726",
     "status": "completed"
    },
    "tags": []
   },
   "outputs": [],
   "source": [
    "#hide\n",
    "# cols.insert(0, cols.pop())"
   ]
  },
  {
   "cell_type": "code",
   "execution_count": 30,
   "id": "executed-adoption",
   "metadata": {
    "execution": {
     "iopub.execute_input": "2022-01-24T00:25:21.877166Z",
     "iopub.status.busy": "2022-01-24T00:25:21.876518Z",
     "iopub.status.idle": "2022-01-24T00:25:21.880434Z",
     "shell.execute_reply": "2022-01-24T00:25:21.880922Z"
    },
    "papermill": {
     "duration": 0.058537,
     "end_time": "2022-01-24T00:25:21.881086",
     "exception": false,
     "start_time": "2022-01-24T00:25:21.822549",
     "status": "completed"
    },
    "tags": []
   },
   "outputs": [],
   "source": [
    "#hide\n",
    "# g = g[cols]"
   ]
  },
  {
   "cell_type": "code",
   "execution_count": 31,
   "id": "subject-dublin",
   "metadata": {
    "execution": {
     "iopub.execute_input": "2022-01-24T00:25:21.965308Z",
     "iopub.status.busy": "2022-01-24T00:25:21.964629Z",
     "iopub.status.idle": "2022-01-24T00:25:21.966531Z",
     "shell.execute_reply": "2022-01-24T00:25:21.967185Z"
    },
    "papermill": {
     "duration": 0.046002,
     "end_time": "2022-01-24T00:25:21.967382",
     "exception": false,
     "start_time": "2022-01-24T00:25:21.921380",
     "status": "completed"
    },
    "tags": []
   },
   "outputs": [],
   "source": [
    "#hide\n",
    "# g['continent'] = g['continent'].map(mapping['map.continent'])"
   ]
  },
  {
   "cell_type": "code",
   "execution_count": 32,
   "id": "freelance-scout",
   "metadata": {
    "execution": {
     "iopub.execute_input": "2022-01-24T00:25:22.059373Z",
     "iopub.status.busy": "2022-01-24T00:25:22.058566Z",
     "iopub.status.idle": "2022-01-24T00:25:22.060938Z",
     "shell.execute_reply": "2022-01-24T00:25:22.061608Z"
    },
    "papermill": {
     "duration": 0.052759,
     "end_time": "2022-01-24T00:25:22.061815",
     "exception": false,
     "start_time": "2022-01-24T00:25:22.009056",
     "status": "completed"
    },
    "tags": []
   },
   "outputs": [],
   "source": [
    "#hide\n",
    "# g.head()"
   ]
  },
  {
   "cell_type": "code",
   "execution_count": 33,
   "id": "limited-engine",
   "metadata": {
    "execution": {
     "iopub.execute_input": "2022-01-24T00:25:22.144724Z",
     "iopub.status.busy": "2022-01-24T00:25:22.144020Z",
     "iopub.status.idle": "2022-01-24T00:25:22.148553Z",
     "shell.execute_reply": "2022-01-24T00:25:22.148019Z"
    },
    "papermill": {
     "duration": 0.046907,
     "end_time": "2022-01-24T00:25:22.148684",
     "exception": false,
     "start_time": "2022-01-24T00:25:22.101777",
     "status": "completed"
    },
    "tags": []
   },
   "outputs": [],
   "source": [
    "# hide\n",
    "# g['date'] = g['date'].astype('datetime64[ns]')"
   ]
  },
  {
   "cell_type": "code",
   "execution_count": 34,
   "id": "sophisticated-supervisor",
   "metadata": {
    "execution": {
     "iopub.execute_input": "2022-01-24T00:25:22.238757Z",
     "iopub.status.busy": "2022-01-24T00:25:22.238087Z",
     "iopub.status.idle": "2022-01-24T00:25:22.241007Z",
     "shell.execute_reply": "2022-01-24T00:25:22.240297Z"
    },
    "papermill": {
     "duration": 0.050241,
     "end_time": "2022-01-24T00:25:22.241138",
     "exception": false,
     "start_time": "2022-01-24T00:25:22.190897",
     "status": "completed"
    },
    "tags": []
   },
   "outputs": [],
   "source": [
    "#hide\n",
    "# g['date'] = g.date.dt.dayofyear"
   ]
  },
  {
   "cell_type": "code",
   "execution_count": 35,
   "id": "inside-dubai",
   "metadata": {
    "execution": {
     "iopub.execute_input": "2022-01-24T00:25:22.330174Z",
     "iopub.status.busy": "2022-01-24T00:25:22.329514Z",
     "iopub.status.idle": "2022-01-24T00:25:22.334300Z",
     "shell.execute_reply": "2022-01-24T00:25:22.333393Z"
    },
    "papermill": {
     "duration": 0.050823,
     "end_time": "2022-01-24T00:25:22.334502",
     "exception": false,
     "start_time": "2022-01-24T00:25:22.283679",
     "status": "completed"
    },
    "tags": []
   },
   "outputs": [],
   "source": [
    "#hide\n",
    "# g = g.rename(columns= {'continent':'group','country':'name','cases':'value'})"
   ]
  },
  {
   "cell_type": "code",
   "execution_count": 36,
   "id": "fleet-motorcycle",
   "metadata": {
    "execution": {
     "iopub.execute_input": "2022-01-24T00:25:22.416476Z",
     "iopub.status.busy": "2022-01-24T00:25:22.415794Z",
     "iopub.status.idle": "2022-01-24T00:25:22.420289Z",
     "shell.execute_reply": "2022-01-24T00:25:22.419776Z"
    },
    "papermill": {
     "duration": 0.046383,
     "end_time": "2022-01-24T00:25:22.420432",
     "exception": false,
     "start_time": "2022-01-24T00:25:22.374049",
     "status": "completed"
    },
    "tags": []
   },
   "outputs": [],
   "source": [
    "#hide\n",
    "# cols = ['name','group','day','value']"
   ]
  },
  {
   "cell_type": "code",
   "execution_count": 37,
   "id": "continued-sleeping",
   "metadata": {
    "execution": {
     "iopub.execute_input": "2022-01-24T00:25:22.506025Z",
     "iopub.status.busy": "2022-01-24T00:25:22.505418Z",
     "iopub.status.idle": "2022-01-24T00:25:22.508038Z",
     "shell.execute_reply": "2022-01-24T00:25:22.507522Z"
    },
    "papermill": {
     "duration": 0.046352,
     "end_time": "2022-01-24T00:25:22.508157",
     "exception": false,
     "start_time": "2022-01-24T00:25:22.461805",
     "status": "completed"
    },
    "tags": []
   },
   "outputs": [],
   "source": [
    "#hide\n",
    "# g.rename(columns= {'date':'day'},inplace = True)"
   ]
  },
  {
   "cell_type": "code",
   "execution_count": 38,
   "id": "major-fight",
   "metadata": {
    "execution": {
     "iopub.execute_input": "2022-01-24T00:25:22.591977Z",
     "iopub.status.busy": "2022-01-24T00:25:22.591321Z",
     "iopub.status.idle": "2022-01-24T00:25:22.595448Z",
     "shell.execute_reply": "2022-01-24T00:25:22.595954Z"
    },
    "papermill": {
     "duration": 0.049102,
     "end_time": "2022-01-24T00:25:22.596104",
     "exception": false,
     "start_time": "2022-01-24T00:25:22.547002",
     "status": "completed"
    },
    "tags": []
   },
   "outputs": [],
   "source": [
    "#hide\n",
    "# g = g[cols]"
   ]
  },
  {
   "cell_type": "code",
   "execution_count": 39,
   "id": "structured-mobile",
   "metadata": {
    "execution": {
     "iopub.execute_input": "2022-01-24T00:25:22.699270Z",
     "iopub.status.busy": "2022-01-24T00:25:22.698561Z",
     "iopub.status.idle": "2022-01-24T00:25:22.701769Z",
     "shell.execute_reply": "2022-01-24T00:25:22.701268Z"
    },
    "papermill": {
     "duration": 0.05183,
     "end_time": "2022-01-24T00:25:22.701912",
     "exception": false,
     "start_time": "2022-01-24T00:25:22.650082",
     "status": "completed"
    },
    "tags": []
   },
   "outputs": [],
   "source": [
    "# #hide\n",
    "# g = g[g.group.notna()]"
   ]
  },
  {
   "cell_type": "code",
   "execution_count": 40,
   "id": "determined-closing",
   "metadata": {
    "execution": {
     "iopub.execute_input": "2022-01-24T00:25:22.790881Z",
     "iopub.status.busy": "2022-01-24T00:25:22.789356Z",
     "iopub.status.idle": "2022-01-24T00:25:22.792283Z",
     "shell.execute_reply": "2022-01-24T00:25:22.793203Z"
    },
    "papermill": {
     "duration": 0.051928,
     "end_time": "2022-01-24T00:25:22.793533",
     "exception": false,
     "start_time": "2022-01-24T00:25:22.741605",
     "status": "completed"
    },
    "tags": []
   },
   "outputs": [],
   "source": [
    "# #hide\n",
    "# colors = dict(zip(\n",
    "#     [\"Oceania\", \"Europe\", \"Asia\", \"South America\", \"Middle East\", \"North America\", \"Africa\"],\n",
    "#     [\"#adb0ff\", \"#ffb3ff\", \"#90d595\", \"#e48381\", \"#aafbff\", \"#f7bb5f\", \"#eafb50\"]\n",
    "# ))\n",
    "# group_lk = g.set_index('name')['group'].to_dict()"
   ]
  },
  {
   "cell_type": "code",
   "execution_count": null,
   "id": "gross-drinking",
   "metadata": {
    "papermill": {
     "duration": 0.053873,
     "end_time": "2022-01-24T00:25:22.926709",
     "exception": false,
     "start_time": "2022-01-24T00:25:22.872836",
     "status": "completed"
    },
    "tags": []
   },
   "outputs": [],
   "source": []
  },
  {
   "cell_type": "code",
   "execution_count": 41,
   "id": "subject-macintosh",
   "metadata": {
    "execution": {
     "iopub.execute_input": "2022-01-24T00:25:23.019058Z",
     "iopub.status.busy": "2022-01-24T00:25:23.018065Z",
     "iopub.status.idle": "2022-01-24T00:25:23.023156Z",
     "shell.execute_reply": "2022-01-24T00:25:23.025410Z"
    },
    "papermill": {
     "duration": 0.053619,
     "end_time": "2022-01-24T00:25:23.025637",
     "exception": false,
     "start_time": "2022-01-24T00:25:22.972018",
     "status": "completed"
    },
    "tags": []
   },
   "outputs": [],
   "source": [
    "# #hide\n",
    "# fig, ax = plt.subplots(figsize=(15, 8))\n",
    "\n",
    "# def draw_barchart(current_day):\n",
    "#     dff = g[g['day'].eq(current_day)].sort_values(by='value', ascending=True).tail(10)\n",
    "#     ax.clear()\n",
    "#     ax.barh(dff['name'], dff['value'], color=[colors[group_lk[x]] for x in dff['name']])\n",
    "#     dx = dff['value'].max() / 200\n",
    "    \n",
    "#     for i, (value, name) in enumerate(zip(dff['value'], dff['name'])):\n",
    "#         ax.text(value-dx, i,     name,           size=14, weight=600, ha='right', va='bottom')\n",
    "#         ax.text(value-dx, i-.25, group_lk[name], size=10, color='#444444', ha='right', va='baseline')\n",
    "#         ax.text(value+dx, i,     f'{value:,.0f}',  size=14, ha='left',  va='center')\n",
    "#     ax.text(1, 0.4, current_day, transform=ax.transAxes, color='#777777', size=46, ha='right', weight=800)\n",
    "#     ax.text(0, 1.06, 'Population (thousands)', transform=ax.transAxes, size=12, color='#777777')\n",
    "#     ax.xaxis.set_major_formatter(ticker.StrMethodFormatter('{x:,.0f}'))\n",
    "#     ax.xaxis.set_ticks_position('top')\n",
    "#     ax.tick_params(axis='x', colors='#777777', labelsize=12)\n",
    "#     ax.set_yticks([])\n",
    "#     ax.margins(0, 0.01)\n",
    "#     ax.grid(which='major', axis='x', linestyle='-')\n",
    "#     ax.set_axisbelow(True)\n",
    "    \n",
    "#     ax.text(0, 1.15, 'Coronavirus',\n",
    "#             transform=ax.transAxes, size=24, weight=600, ha='left', va='top')\n",
    "# #     ax.text(1, 0, 'by @pratapvardhan; credit @jburnmurdoch', transform=ax.transAxes, color='#777777', ha='right',\n",
    "# #             bbox=dict(facecolor='white', alpha=0.8, edgecolor='white'))\n",
    "#     plt.box(False)"
   ]
  },
  {
   "cell_type": "code",
   "execution_count": 42,
   "id": "sexual-wages",
   "metadata": {
    "execution": {
     "iopub.execute_input": "2022-01-24T00:25:23.116836Z",
     "iopub.status.busy": "2022-01-24T00:25:23.116152Z",
     "iopub.status.idle": "2022-01-24T00:25:23.120882Z",
     "shell.execute_reply": "2022-01-24T00:25:23.120310Z"
    },
    "papermill": {
     "duration": 0.05179,
     "end_time": "2022-01-24T00:25:23.121041",
     "exception": false,
     "start_time": "2022-01-24T00:25:23.069251",
     "status": "completed"
    },
    "tags": []
   },
   "outputs": [],
   "source": [
    "# #hide_input\n",
    "# fig, ax = plt.subplots(figsize=(15, 8))\n",
    "# animator = animation.FuncAnimation(fig, draw_barchart, frames=range(g.day.values.min(), g.day.values.max()))\n",
    "# HTML(animator.to_jshtml())\n",
    "# # or use animator.to_html5_video() or animator.save() "
   ]
  },
  {
   "cell_type": "code",
   "execution_count": null,
   "id": "australian-container",
   "metadata": {
    "papermill": {
     "duration": 0.043374,
     "end_time": "2022-01-24T00:25:23.207798",
     "exception": false,
     "start_time": "2022-01-24T00:25:23.164424",
     "status": "completed"
    },
    "tags": []
   },
   "outputs": [],
   "source": []
  },
  {
   "cell_type": "code",
   "execution_count": null,
   "id": "mediterranean-pontiac",
   "metadata": {
    "papermill": {
     "duration": 0.041019,
     "end_time": "2022-01-24T00:25:23.291861",
     "exception": false,
     "start_time": "2022-01-24T00:25:23.250842",
     "status": "completed"
    },
    "tags": []
   },
   "outputs": [],
   "source": []
  },
  {
   "cell_type": "code",
   "execution_count": null,
   "id": "aging-legislature",
   "metadata": {
    "papermill": {
     "duration": 0.043673,
     "end_time": "2022-01-24T00:25:23.377105",
     "exception": false,
     "start_time": "2022-01-24T00:25:23.333432",
     "status": "completed"
    },
    "tags": []
   },
   "outputs": [],
   "source": []
  }
 ],
 "metadata": {
  "kernelspec": {
   "display_name": "Python 3",
   "language": "python",
   "name": "python3"
  },
  "language_info": {
   "codemirror_mode": {
    "name": "ipython",
    "version": 3
   },
   "file_extension": ".py",
   "mimetype": "text/x-python",
   "name": "python",
   "nbconvert_exporter": "python",
   "pygments_lexer": "ipython3",
   "version": "3.6.15"
  },
  "papermill": {
   "duration": 7.90572,
   "end_time": "2022-01-24T00:25:23.843877",
   "environment_variables": {},
   "exception": null,
   "input_path": "2020-03-21-covid19exp.ipynb",
   "output_path": "2020-03-21-covid19exp.ipynb",
   "parameters": {},
   "start_time": "2022-01-24T00:25:15.938157",
   "version": "2.0.0"
  }
 },
 "nbformat": 4,
 "nbformat_minor": 5
}