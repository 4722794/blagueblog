{
 "cells": [
  {
   "cell_type": "markdown",
   "id": "muslim-click",
   "metadata": {
    "papermill": {
     "duration": 0.033935,
     "end_time": "2021-09-17T12:11:43.797079",
     "exception": false,
     "start_time": "2021-09-17T12:11:43.763144",
     "status": "completed"
    },
    "tags": []
   },
   "source": [
    "# COVID-19 Case Race\n",
    "> A race chart to see rising cases around the world\n",
    "\n",
    "- author: Hargun Oberoi\n",
    "- image: images/covid-overview.png\n",
    "- hide: false\n",
    "- badges: false"
   ]
  },
  {
   "cell_type": "code",
   "execution_count": 1,
   "id": "proof-material",
   "metadata": {
    "execution": {
     "iopub.execute_input": "2021-09-17T12:11:43.865381Z",
     "iopub.status.busy": "2021-09-17T12:11:43.864859Z",
     "iopub.status.idle": "2021-09-17T12:11:44.188172Z",
     "shell.execute_reply": "2021-09-17T12:11:44.187642Z"
    },
    "papermill": {
     "duration": 0.361566,
     "end_time": "2021-09-17T12:11:44.188329",
     "exception": false,
     "start_time": "2021-09-17T12:11:43.826763",
     "status": "completed"
    },
    "tags": []
   },
   "outputs": [],
   "source": [
    "#hide\n",
    "import numpy as np\n",
    "import pandas as pd\n",
    "from jinja2 import Template\n",
    "from IPython.display import HTML"
   ]
  },
  {
   "cell_type": "code",
   "execution_count": 2,
   "id": "developed-terminology",
   "metadata": {
    "execution": {
     "iopub.execute_input": "2021-09-17T12:11:44.254512Z",
     "iopub.status.busy": "2021-09-17T12:11:44.253900Z",
     "iopub.status.idle": "2021-09-17T12:11:44.257231Z",
     "shell.execute_reply": "2021-09-17T12:11:44.257639Z"
    },
    "papermill": {
     "duration": 0.039039,
     "end_time": "2021-09-17T12:11:44.257769",
     "exception": false,
     "start_time": "2021-09-17T12:11:44.218730",
     "status": "completed"
    },
    "tags": []
   },
   "outputs": [],
   "source": [
    "#hide\n",
    "\n",
    "# FETCH\n",
    "base_url = 'https://raw.githubusercontent.com/pratapvardhan/notebooks/master/covid19/'\n",
    "paths = {\n",
    "    'mapping': base_url + 'mapping_countries.csv',\n",
    "    'overview': base_url + 'overview.tpl'\n",
    "}"
   ]
  },
  {
   "cell_type": "code",
   "execution_count": 3,
   "id": "dynamic-saver",
   "metadata": {
    "execution": {
     "iopub.execute_input": "2021-09-17T12:11:44.326464Z",
     "iopub.status.busy": "2021-09-17T12:11:44.325948Z",
     "iopub.status.idle": "2021-09-17T12:11:44.328410Z",
     "shell.execute_reply": "2021-09-17T12:11:44.328790Z"
    },
    "papermill": {
     "duration": 0.041976,
     "end_time": "2021-09-17T12:11:44.328919",
     "exception": false,
     "start_time": "2021-09-17T12:11:44.286943",
     "status": "completed"
    },
    "tags": []
   },
   "outputs": [
    {
     "data": {
      "text/plain": [
       "'https://raw.githubusercontent.com/pratapvardhan/notebooks/master/covid19/mapping_countries.csv'"
      ]
     },
     "execution_count": 3,
     "metadata": {},
     "output_type": "execute_result"
    }
   ],
   "source": [
    "#hide\n",
    "paths['mapping']"
   ]
  },
  {
   "cell_type": "code",
   "execution_count": 4,
   "id": "urban-software",
   "metadata": {
    "execution": {
     "iopub.execute_input": "2021-09-17T12:11:44.393151Z",
     "iopub.status.busy": "2021-09-17T12:11:44.392644Z",
     "iopub.status.idle": "2021-09-17T12:11:44.395116Z",
     "shell.execute_reply": "2021-09-17T12:11:44.394709Z"
    },
    "papermill": {
     "duration": 0.036618,
     "end_time": "2021-09-17T12:11:44.395224",
     "exception": false,
     "start_time": "2021-09-17T12:11:44.358606",
     "status": "completed"
    },
    "tags": []
   },
   "outputs": [],
   "source": [
    "#hide\n",
    "def get_mappings(url):\n",
    "    df = pd.read_csv(url)\n",
    "    return {\n",
    "        'df': df,\n",
    "        'replace.country': dict(df.dropna(subset=['Name']).set_index('Country')['Name']),\n",
    "        'map.continent': dict(df.set_index('Name')['Continent'])\n",
    "    }"
   ]
  },
  {
   "cell_type": "code",
   "execution_count": 5,
   "id": "intimate-machinery",
   "metadata": {
    "execution": {
     "iopub.execute_input": "2021-09-17T12:11:44.458588Z",
     "iopub.status.busy": "2021-09-17T12:11:44.458087Z",
     "iopub.status.idle": "2021-09-17T12:11:44.487311Z",
     "shell.execute_reply": "2021-09-17T12:11:44.486837Z"
    },
    "papermill": {
     "duration": 0.062963,
     "end_time": "2021-09-17T12:11:44.487437",
     "exception": false,
     "start_time": "2021-09-17T12:11:44.424474",
     "status": "completed"
    },
    "tags": []
   },
   "outputs": [],
   "source": [
    "#hide\n",
    "mapping = get_mappings(paths['mapping'])"
   ]
  },
  {
   "cell_type": "code",
   "execution_count": 6,
   "id": "certified-tactics",
   "metadata": {
    "execution": {
     "iopub.execute_input": "2021-09-17T12:11:44.551686Z",
     "iopub.status.busy": "2021-09-17T12:11:44.551182Z",
     "iopub.status.idle": "2021-09-17T12:11:44.552840Z",
     "shell.execute_reply": "2021-09-17T12:11:44.553243Z"
    },
    "papermill": {
     "duration": 0.03604,
     "end_time": "2021-09-17T12:11:44.553361",
     "exception": false,
     "start_time": "2021-09-17T12:11:44.517321",
     "status": "completed"
    },
    "tags": []
   },
   "outputs": [],
   "source": [
    "#hide\n",
    "def get_template(path):\n",
    "    from urllib.parse import urlparse\n",
    "    if bool(urlparse(path).netloc):\n",
    "        from urllib.request import urlopen\n",
    "        return urlopen(path).read().decode('utf8')\n",
    "    return open(path).read()"
   ]
  },
  {
   "cell_type": "code",
   "execution_count": 7,
   "id": "realistic-blast",
   "metadata": {
    "execution": {
     "iopub.execute_input": "2021-09-17T12:11:44.617070Z",
     "iopub.status.busy": "2021-09-17T12:11:44.616558Z",
     "iopub.status.idle": "2021-09-17T12:11:44.618562Z",
     "shell.execute_reply": "2021-09-17T12:11:44.618134Z"
    },
    "papermill": {
     "duration": 0.035961,
     "end_time": "2021-09-17T12:11:44.618673",
     "exception": false,
     "start_time": "2021-09-17T12:11:44.582712",
     "status": "completed"
    },
    "tags": []
   },
   "outputs": [],
   "source": [
    "#hide\n",
    "def get_frame(name):\n",
    "    url = (\n",
    "        'https://raw.githubusercontent.com/CSSEGISandData/COVID-19/master/csse_covid_19_data/'\n",
    "        f'csse_covid_19_time_series/time_series_covid19_{name}_global.csv')\n",
    "    df = pd.read_csv(url)\n",
    "    # rename countries\n",
    "    df['Country/Region'] = df['Country/Region'].replace(mapping['replace.country'])\n",
    "    return df"
   ]
  },
  {
   "cell_type": "code",
   "execution_count": 8,
   "id": "affiliated-characterization",
   "metadata": {
    "execution": {
     "iopub.execute_input": "2021-09-17T12:11:44.683635Z",
     "iopub.status.busy": "2021-09-17T12:11:44.683118Z",
     "iopub.status.idle": "2021-09-17T12:11:44.685296Z",
     "shell.execute_reply": "2021-09-17T12:11:44.684888Z"
    },
    "papermill": {
     "duration": 0.037071,
     "end_time": "2021-09-17T12:11:44.685406",
     "exception": false,
     "start_time": "2021-09-17T12:11:44.648335",
     "status": "completed"
    },
    "tags": []
   },
   "outputs": [],
   "source": [
    "#hide\n",
    "def get_dates(df):\n",
    "    dt_cols = df.columns[~df.columns.isin(['Province/State', 'Country/Region', 'Lat', 'Long'])]\n",
    "    LAST_DATE_I = -1\n",
    "    # sometimes last column may be empty, then go backwards\n",
    "    for i in range(-1, -len(dt_cols), -1):\n",
    "        if not df[dt_cols[i]].fillna(0).eq(0).all():\n",
    "            LAST_DATE_I = i\n",
    "            break\n",
    "    return LAST_DATE_I, dt_cols"
   ]
  },
  {
   "cell_type": "code",
   "execution_count": 9,
   "id": "recent-optimization",
   "metadata": {
    "execution": {
     "iopub.execute_input": "2021-09-17T12:11:44.749454Z",
     "iopub.status.busy": "2021-09-17T12:11:44.748921Z",
     "iopub.status.idle": "2021-09-17T12:11:45.065838Z",
     "shell.execute_reply": "2021-09-17T12:11:45.065264Z"
    },
    "papermill": {
     "duration": 0.351325,
     "end_time": "2021-09-17T12:11:45.065987",
     "exception": false,
     "start_time": "2021-09-17T12:11:44.714662",
     "status": "completed"
    },
    "tags": []
   },
   "outputs": [],
   "source": [
    "#hide\n",
    "COL_REGION = 'Country/Region'\n",
    "# Confirmed, Recovered, Deaths\n",
    "df = get_frame('confirmed')\n",
    "# dft_: timeseries, dfc_: today country agg\n",
    "dft_cases = df\n",
    "dft_deaths = get_frame('deaths')\n",
    "dft_recovered = get_frame('recovered')\n",
    "LAST_DATE_I, dt_cols = get_dates(df)"
   ]
  },
  {
   "cell_type": "code",
   "execution_count": 10,
   "id": "absolute-copper",
   "metadata": {
    "execution": {
     "iopub.execute_input": "2021-09-17T12:11:45.132471Z",
     "iopub.status.busy": "2021-09-17T12:11:45.131958Z",
     "iopub.status.idle": "2021-09-17T12:11:45.134262Z",
     "shell.execute_reply": "2021-09-17T12:11:45.133849Z"
    },
    "papermill": {
     "duration": 0.037327,
     "end_time": "2021-09-17T12:11:45.134376",
     "exception": false,
     "start_time": "2021-09-17T12:11:45.097049",
     "status": "completed"
    },
    "tags": []
   },
   "outputs": [],
   "source": [
    "#hide\n",
    "LAST_DATE_I, dt_cols = get_dates(df)\n",
    "dt_today =dt_cols[LAST_DATE_I]\n",
    "# dt_5day = dt_cols[LAST_DATE_I - 5]\n",
    "dt_yday = dt_cols[LAST_DATE_I - 1]"
   ]
  },
  {
   "cell_type": "code",
   "execution_count": 11,
   "id": "restricted-sheriff",
   "metadata": {
    "execution": {
     "iopub.execute_input": "2021-09-17T12:11:45.199427Z",
     "iopub.status.busy": "2021-09-17T12:11:45.198907Z",
     "iopub.status.idle": "2021-09-17T12:11:45.205347Z",
     "shell.execute_reply": "2021-09-17T12:11:45.205779Z"
    },
    "papermill": {
     "duration": 0.042091,
     "end_time": "2021-09-17T12:11:45.205917",
     "exception": false,
     "start_time": "2021-09-17T12:11:45.163826",
     "status": "completed"
    },
    "tags": []
   },
   "outputs": [],
   "source": [
    "#hide\n",
    "dfc_cases = dft_cases.groupby(COL_REGION)[dt_today].sum()\n",
    "dfc_deaths = dft_deaths.groupby(COL_REGION)[dt_today].sum()\n",
    "# dfp_cases = dft_cases.groupby(COL_REGION)[dt_5day].sum()\n",
    "# dfp_deaths = dft_deaths.groupby(COL_REGION)[dt_5day].sum()\n",
    "dfp_cases = dft_cases.groupby(COL_REGION)[dt_yday].sum()\n",
    "dfp_deaths = dft_deaths.groupby(COL_REGION)[dt_yday].sum()"
   ]
  },
  {
   "cell_type": "code",
   "execution_count": 12,
   "id": "deluxe-hepatitis",
   "metadata": {
    "execution": {
     "iopub.execute_input": "2021-09-17T12:11:45.271535Z",
     "iopub.status.busy": "2021-09-17T12:11:45.271014Z",
     "iopub.status.idle": "2021-09-17T12:11:45.274989Z",
     "shell.execute_reply": "2021-09-17T12:11:45.274560Z"
    },
    "papermill": {
     "duration": 0.039616,
     "end_time": "2021-09-17T12:11:45.275101",
     "exception": false,
     "start_time": "2021-09-17T12:11:45.235485",
     "status": "completed"
    },
    "tags": []
   },
   "outputs": [],
   "source": [
    "#hide\n",
    "df_table = (pd.DataFrame(dict(Cases = dfc_cases, Deaths = dfc_deaths, PCases = dfp_cases, PDeaths = dfp_deaths))\n",
    "            .sort_values(by = ['Cases','Deaths'], ascending = [False, False])\n",
    "            .reset_index())"
   ]
  },
  {
   "cell_type": "code",
   "execution_count": 13,
   "id": "educational-chancellor",
   "metadata": {
    "execution": {
     "iopub.execute_input": "2021-09-17T12:11:45.351766Z",
     "iopub.status.busy": "2021-09-17T12:11:45.351241Z",
     "iopub.status.idle": "2021-09-17T12:11:45.358637Z",
     "shell.execute_reply": "2021-09-17T12:11:45.358202Z"
    },
    "papermill": {
     "duration": 0.054331,
     "end_time": "2021-09-17T12:11:45.358748",
     "exception": false,
     "start_time": "2021-09-17T12:11:45.304417",
     "status": "completed"
    },
    "tags": []
   },
   "outputs": [
    {
     "data": {
      "text/html": [
       "<div>\n",
       "<style scoped>\n",
       "    .dataframe tbody tr th:only-of-type {\n",
       "        vertical-align: middle;\n",
       "    }\n",
       "\n",
       "    .dataframe tbody tr th {\n",
       "        vertical-align: top;\n",
       "    }\n",
       "\n",
       "    .dataframe thead th {\n",
       "        text-align: right;\n",
       "    }\n",
       "</style>\n",
       "<table border=\"1\" class=\"dataframe\">\n",
       "  <thead>\n",
       "    <tr style=\"text-align: right;\">\n",
       "      <th></th>\n",
       "      <th>Country/Region</th>\n",
       "      <th>Cases</th>\n",
       "      <th>Deaths</th>\n",
       "      <th>PCases</th>\n",
       "      <th>PDeaths</th>\n",
       "      <th>Cases (+)</th>\n",
       "      <th>Deaths (+)</th>\n",
       "      <th>Fatality Rate</th>\n",
       "      <th>Continent</th>\n",
       "    </tr>\n",
       "  </thead>\n",
       "  <tbody>\n",
       "    <tr>\n",
       "      <th>0</th>\n",
       "      <td>US</td>\n",
       "      <td>41785903</td>\n",
       "      <td>670000</td>\n",
       "      <td>41627946</td>\n",
       "      <td>666607</td>\n",
       "      <td>157957</td>\n",
       "      <td>3393</td>\n",
       "      <td>1.60</td>\n",
       "      <td>North America</td>\n",
       "    </tr>\n",
       "    <tr>\n",
       "      <th>1</th>\n",
       "      <td>India</td>\n",
       "      <td>33381728</td>\n",
       "      <td>444248</td>\n",
       "      <td>33347325</td>\n",
       "      <td>443928</td>\n",
       "      <td>34403</td>\n",
       "      <td>320</td>\n",
       "      <td>1.33</td>\n",
       "      <td>Asia</td>\n",
       "    </tr>\n",
       "    <tr>\n",
       "      <th>2</th>\n",
       "      <td>Brazil</td>\n",
       "      <td>21069017</td>\n",
       "      <td>589246</td>\n",
       "      <td>21034610</td>\n",
       "      <td>588597</td>\n",
       "      <td>34407</td>\n",
       "      <td>649</td>\n",
       "      <td>2.80</td>\n",
       "      <td>South America</td>\n",
       "    </tr>\n",
       "    <tr>\n",
       "      <th>3</th>\n",
       "      <td>United Kingdom</td>\n",
       "      <td>7373451</td>\n",
       "      <td>135134</td>\n",
       "      <td>7346832</td>\n",
       "      <td>134975</td>\n",
       "      <td>26619</td>\n",
       "      <td>159</td>\n",
       "      <td>1.83</td>\n",
       "      <td>Europe</td>\n",
       "    </tr>\n",
       "    <tr>\n",
       "      <th>4</th>\n",
       "      <td>Russia</td>\n",
       "      <td>7110656</td>\n",
       "      <td>192340</td>\n",
       "      <td>7091368</td>\n",
       "      <td>191566</td>\n",
       "      <td>19288</td>\n",
       "      <td>774</td>\n",
       "      <td>2.70</td>\n",
       "      <td>Europe</td>\n",
       "    </tr>\n",
       "  </tbody>\n",
       "</table>\n",
       "</div>"
      ],
      "text/plain": [
       "   Country/Region     Cases  Deaths    PCases  PDeaths  Cases (+)  Deaths (+)  \\\n",
       "0              US  41785903  670000  41627946   666607     157957        3393   \n",
       "1           India  33381728  444248  33347325   443928      34403         320   \n",
       "2          Brazil  21069017  589246  21034610   588597      34407         649   \n",
       "3  United Kingdom   7373451  135134   7346832   134975      26619         159   \n",
       "4          Russia   7110656  192340   7091368   191566      19288         774   \n",
       "\n",
       "   Fatality Rate      Continent  \n",
       "0           1.60  North America  \n",
       "1           1.33           Asia  \n",
       "2           2.80  South America  \n",
       "3           1.83         Europe  \n",
       "4           2.70         Europe  "
      ]
     },
     "execution_count": 13,
     "metadata": {},
     "output_type": "execute_result"
    }
   ],
   "source": [
    "#hide\n",
    "for c in 'Cases, Deaths'.split(', '):\n",
    "    df_table[f'{c} (+)'] = (df_table[c] - df_table[f'P{c}']).clip(0)\n",
    "    #Clip ça veut dire, les chiffres negatif sont interdit\n",
    "df_table['Fatality Rate'] = (100* df_table['Deaths']/ df_table['Cases']).round(2)\n",
    "df_table['Continent'] = df_table['Country/Region'].map(mapping['map.continent'])\n",
    "df_table.head(5)"
   ]
  },
  {
   "cell_type": "code",
   "execution_count": 14,
   "id": "aboriginal-bulgaria",
   "metadata": {
    "execution": {
     "iopub.execute_input": "2021-09-17T12:11:45.423652Z",
     "iopub.status.busy": "2021-09-17T12:11:45.423147Z",
     "iopub.status.idle": "2021-09-17T12:11:45.425608Z",
     "shell.execute_reply": "2021-09-17T12:11:45.426090Z"
    },
    "papermill": {
     "duration": 0.037465,
     "end_time": "2021-09-17T12:11:45.426223",
     "exception": false,
     "start_time": "2021-09-17T12:11:45.388758",
     "status": "completed"
    },
    "tags": []
   },
   "outputs": [],
   "source": [
    "#hide\n",
    "#delete problematic countries from table\n",
    "df_table = df_table[~df_table['Country/Region'].isin(['Cape Verde', 'Cruise Ship', 'Kosovo'])]"
   ]
  },
  {
   "cell_type": "code",
   "execution_count": 15,
   "id": "fantastic-effect",
   "metadata": {
    "execution": {
     "iopub.execute_input": "2021-09-17T12:11:45.494678Z",
     "iopub.status.busy": "2021-09-17T12:11:45.494157Z",
     "iopub.status.idle": "2021-09-17T12:11:45.510385Z",
     "shell.execute_reply": "2021-09-17T12:11:45.510810Z"
    },
    "papermill": {
     "duration": 0.054935,
     "end_time": "2021-09-17T12:11:45.510945",
     "exception": false,
     "start_time": "2021-09-17T12:11:45.456010",
     "status": "completed"
    },
    "tags": []
   },
   "outputs": [
    {
     "data": {
      "text/html": [
       "<div>\n",
       "<style scoped>\n",
       "    .dataframe tbody tr th:only-of-type {\n",
       "        vertical-align: middle;\n",
       "    }\n",
       "\n",
       "    .dataframe tbody tr th {\n",
       "        vertical-align: top;\n",
       "    }\n",
       "\n",
       "    .dataframe thead th {\n",
       "        text-align: right;\n",
       "    }\n",
       "</style>\n",
       "<table border=\"1\" class=\"dataframe\">\n",
       "  <thead>\n",
       "    <tr style=\"text-align: right;\">\n",
       "      <th></th>\n",
       "      <th>Country/Region</th>\n",
       "      <th>Cases</th>\n",
       "      <th>Deaths</th>\n",
       "      <th>PCases</th>\n",
       "      <th>PDeaths</th>\n",
       "      <th>Cases (+)</th>\n",
       "      <th>Deaths (+)</th>\n",
       "      <th>Fatality Rate</th>\n",
       "      <th>Continent</th>\n",
       "    </tr>\n",
       "  </thead>\n",
       "  <tbody>\n",
       "    <tr>\n",
       "      <th>0</th>\n",
       "      <td>US</td>\n",
       "      <td>41785903</td>\n",
       "      <td>670000</td>\n",
       "      <td>41627946</td>\n",
       "      <td>666607</td>\n",
       "      <td>157957</td>\n",
       "      <td>3393</td>\n",
       "      <td>1.6</td>\n",
       "      <td>North America</td>\n",
       "    </tr>\n",
       "    <tr>\n",
       "      <th>1</th>\n",
       "      <td>India</td>\n",
       "      <td>33381728</td>\n",
       "      <td>444248</td>\n",
       "      <td>33347325</td>\n",
       "      <td>443928</td>\n",
       "      <td>34403</td>\n",
       "      <td>320</td>\n",
       "      <td>1.3</td>\n",
       "      <td>Asia</td>\n",
       "    </tr>\n",
       "    <tr>\n",
       "      <th>2</th>\n",
       "      <td>Brazil</td>\n",
       "      <td>21069017</td>\n",
       "      <td>589246</td>\n",
       "      <td>21034610</td>\n",
       "      <td>588597</td>\n",
       "      <td>34407</td>\n",
       "      <td>649</td>\n",
       "      <td>2.8</td>\n",
       "      <td>South America</td>\n",
       "    </tr>\n",
       "    <tr>\n",
       "      <th>3</th>\n",
       "      <td>United Kingdom</td>\n",
       "      <td>7373451</td>\n",
       "      <td>135134</td>\n",
       "      <td>7346832</td>\n",
       "      <td>134975</td>\n",
       "      <td>26619</td>\n",
       "      <td>159</td>\n",
       "      <td>1.8</td>\n",
       "      <td>Europe</td>\n",
       "    </tr>\n",
       "    <tr>\n",
       "      <th>4</th>\n",
       "      <td>Russia</td>\n",
       "      <td>7110656</td>\n",
       "      <td>192340</td>\n",
       "      <td>7091368</td>\n",
       "      <td>191566</td>\n",
       "      <td>19288</td>\n",
       "      <td>774</td>\n",
       "      <td>2.7</td>\n",
       "      <td>Europe</td>\n",
       "    </tr>\n",
       "  </tbody>\n",
       "</table>\n",
       "</div>"
      ],
      "text/plain": [
       "   Country/Region     Cases  Deaths    PCases  PDeaths  Cases (+)  Deaths (+)  \\\n",
       "0              US  41785903  670000  41627946   666607     157957        3393   \n",
       "1           India  33381728  444248  33347325   443928      34403         320   \n",
       "2          Brazil  21069017  589246  21034610   588597      34407         649   \n",
       "3  United Kingdom   7373451  135134   7346832   134975      26619         159   \n",
       "4          Russia   7110656  192340   7091368   191566      19288         774   \n",
       "\n",
       "   Fatality Rate      Continent  \n",
       "0            1.6  North America  \n",
       "1            1.3           Asia  \n",
       "2            2.8  South America  \n",
       "3            1.8         Europe  \n",
       "4            2.7         Europe  "
      ]
     },
     "execution_count": 15,
     "metadata": {},
     "output_type": "execute_result"
    }
   ],
   "source": [
    "#hide\n",
    "df_table = (pd.DataFrame(dict(Cases=dfc_cases, Deaths=dfc_deaths, PCases=dfp_cases, PDeaths=dfp_deaths))\n",
    "             .sort_values(by=['Cases', 'Deaths'], ascending=[False, False])\n",
    "             .reset_index())\n",
    "df_table.rename(columns={'index': 'Country/Region'}, inplace=True)\n",
    "for c in 'Cases, Deaths'.split(', '):\n",
    "    df_table[f'{c} (+)'] = (df_table[c] - df_table[f'P{c}']).clip(0)  # DATA BUG\n",
    "df_table['Fatality Rate'] = (100 * df_table['Deaths'] / df_table['Cases']).round(1)\n",
    "df_table['Continent'] = df_table['Country/Region'].map(mapping['map.continent'])\n",
    "df_table.head(5)"
   ]
  },
  {
   "cell_type": "code",
   "execution_count": 16,
   "id": "fewer-occasion",
   "metadata": {
    "execution": {
     "iopub.execute_input": "2021-09-17T12:11:45.574907Z",
     "iopub.status.busy": "2021-09-17T12:11:45.574399Z",
     "iopub.status.idle": "2021-09-17T12:11:45.579420Z",
     "shell.execute_reply": "2021-09-17T12:11:45.579008Z"
    },
    "papermill": {
     "duration": 0.038073,
     "end_time": "2021-09-17T12:11:45.579532",
     "exception": false,
     "start_time": "2021-09-17T12:11:45.541459",
     "status": "completed"
    },
    "tags": []
   },
   "outputs": [],
   "source": [
    "#hide\n",
    "#delete problematic countries from table\n",
    "df_table = df_table[~df_table['Country/Region'].isin(['Cape Verde', 'Cruise Ship', 'Kosovo'])]"
   ]
  },
  {
   "cell_type": "code",
   "execution_count": 17,
   "id": "related-center",
   "metadata": {
    "execution": {
     "iopub.execute_input": "2021-09-17T12:11:45.646894Z",
     "iopub.status.busy": "2021-09-17T12:11:45.646385Z",
     "iopub.status.idle": "2021-09-17T12:11:45.660393Z",
     "shell.execute_reply": "2021-09-17T12:11:45.660797Z"
    },
    "papermill": {
     "duration": 0.051134,
     "end_time": "2021-09-17T12:11:45.660922",
     "exception": false,
     "start_time": "2021-09-17T12:11:45.609788",
     "status": "completed"
    },
    "tags": []
   },
   "outputs": [],
   "source": [
    "#hide\n",
    "metrics = [df_table.columns[index] for index in [1,2,5,6]]\n",
    "# s_china = df_table[df_table['Country/Region'].eq('China')][metrics].sum().add_prefix('China ')\n",
    "s_us = df_table[df_table['Country/Region'].eq('US')][metrics].sum().add_prefix('US ')\n",
    "s_eu = df_table[df_table['Continent'].eq('Europe')][metrics].sum().add_prefix('EU ')\n",
    "s_ind = df_table[df_table['Country/Region'].eq('India')][metrics].sum().add_prefix('India ')\n",
    "summary = {'updated': pd.to_datetime(dt_today), 'since': pd.to_datetime(dt_yday)}\n",
    "summary = {'updated': pd.to_datetime(dt_today), 'since': pd.to_datetime(dt_yday)}\n",
    "summary = {**summary, **df_table[metrics].sum(), **s_ind, **s_us, **s_eu}"
   ]
  },
  {
   "cell_type": "code",
   "execution_count": 18,
   "id": "engaging-syndrome",
   "metadata": {
    "execution": {
     "iopub.execute_input": "2021-09-17T12:11:45.726485Z",
     "iopub.status.busy": "2021-09-17T12:11:45.725972Z",
     "iopub.status.idle": "2021-09-17T12:11:45.739922Z",
     "shell.execute_reply": "2021-09-17T12:11:45.740306Z"
    },
    "papermill": {
     "duration": 0.049222,
     "end_time": "2021-09-17T12:11:45.740437",
     "exception": false,
     "start_time": "2021-09-17T12:11:45.691215",
     "status": "completed"
    },
    "tags": []
   },
   "outputs": [],
   "source": [
    "#hide\n",
    "dft_ct_new_cases = dft_cases.groupby(COL_REGION)[dt_cols].sum().diff(axis=1).fillna(0).astype(int)"
   ]
  },
  {
   "cell_type": "code",
   "execution_count": 19,
   "id": "neutral-assignment",
   "metadata": {
    "execution": {
     "iopub.execute_input": "2021-09-17T12:11:45.807378Z",
     "iopub.status.busy": "2021-09-17T12:11:45.806871Z",
     "iopub.status.idle": "2021-09-17T12:11:45.808957Z",
     "shell.execute_reply": "2021-09-17T12:11:45.808530Z"
    },
    "papermill": {
     "duration": 0.038372,
     "end_time": "2021-09-17T12:11:45.809066",
     "exception": false,
     "start_time": "2021-09-17T12:11:45.770694",
     "status": "completed"
    },
    "tags": []
   },
   "outputs": [],
   "source": [
    "#hide\n",
    "everydaycases = dft_ct_new_cases.cumsum(axis=1)"
   ]
  },
  {
   "cell_type": "code",
   "execution_count": 20,
   "id": "parliamentary-calgary",
   "metadata": {
    "execution": {
     "iopub.execute_input": "2021-09-17T12:11:45.874239Z",
     "iopub.status.busy": "2021-09-17T12:11:45.873714Z",
     "iopub.status.idle": "2021-09-17T12:11:46.600807Z",
     "shell.execute_reply": "2021-09-17T12:11:46.600279Z"
    },
    "papermill": {
     "duration": 0.76154,
     "end_time": "2021-09-17T12:11:46.600946",
     "exception": false,
     "start_time": "2021-09-17T12:11:45.839406",
     "status": "completed"
    },
    "tags": []
   },
   "outputs": [],
   "source": [
    "#hide\n",
    "import pandas as pd\n",
    "import matplotlib.pyplot as plt\n",
    "import matplotlib.ticker as ticker\n",
    "import matplotlib.animation as animation\n",
    "from IPython.display import HTML"
   ]
  },
  {
   "cell_type": "code",
   "execution_count": 21,
   "id": "lasting-extraction",
   "metadata": {
    "execution": {
     "iopub.execute_input": "2021-09-17T12:11:46.667923Z",
     "iopub.status.busy": "2021-09-17T12:11:46.667401Z",
     "iopub.status.idle": "2021-09-17T12:11:46.673132Z",
     "shell.execute_reply": "2021-09-17T12:11:46.672700Z"
    },
    "papermill": {
     "duration": 0.041524,
     "end_time": "2021-09-17T12:11:46.673244",
     "exception": false,
     "start_time": "2021-09-17T12:11:46.631720",
     "status": "completed"
    },
    "tags": []
   },
   "outputs": [],
   "source": [
    "#hide\n",
    "t = everydaycases.stack()"
   ]
  },
  {
   "cell_type": "code",
   "execution_count": 22,
   "id": "premier-sleeve",
   "metadata": {
    "execution": {
     "iopub.execute_input": "2021-09-17T12:11:46.738824Z",
     "iopub.status.busy": "2021-09-17T12:11:46.738296Z",
     "iopub.status.idle": "2021-09-17T12:11:46.746627Z",
     "shell.execute_reply": "2021-09-17T12:11:46.746190Z"
    },
    "papermill": {
     "duration": 0.042802,
     "end_time": "2021-09-17T12:11:46.746740",
     "exception": false,
     "start_time": "2021-09-17T12:11:46.703938",
     "status": "completed"
    },
    "tags": []
   },
   "outputs": [],
   "source": [
    "#hide\n",
    "g = t.reset_index(['Country/Region'])"
   ]
  },
  {
   "cell_type": "code",
   "execution_count": 23,
   "id": "distributed-pittsburgh",
   "metadata": {
    "execution": {
     "iopub.execute_input": "2021-09-17T12:11:46.811688Z",
     "iopub.status.busy": "2021-09-17T12:11:46.811177Z",
     "iopub.status.idle": "2021-09-17T12:11:46.813156Z",
     "shell.execute_reply": "2021-09-17T12:11:46.812731Z"
    },
    "papermill": {
     "duration": 0.036156,
     "end_time": "2021-09-17T12:11:46.813266",
     "exception": false,
     "start_time": "2021-09-17T12:11:46.777110",
     "status": "completed"
    },
    "tags": []
   },
   "outputs": [],
   "source": [
    "#hide\n",
    "g.index.name = 'date'"
   ]
  },
  {
   "cell_type": "code",
   "execution_count": 24,
   "id": "naked-donor",
   "metadata": {
    "execution": {
     "iopub.execute_input": "2021-09-17T12:11:46.877594Z",
     "iopub.status.busy": "2021-09-17T12:11:46.877062Z",
     "iopub.status.idle": "2021-09-17T12:11:46.879303Z",
     "shell.execute_reply": "2021-09-17T12:11:46.878894Z"
    },
    "papermill": {
     "duration": 0.03573,
     "end_time": "2021-09-17T12:11:46.879412",
     "exception": false,
     "start_time": "2021-09-17T12:11:46.843682",
     "status": "completed"
    },
    "tags": []
   },
   "outputs": [],
   "source": [
    "# #hide\n",
    "# g = g.reset_index(['date'])"
   ]
  },
  {
   "cell_type": "code",
   "execution_count": 25,
   "id": "incomplete-mustang",
   "metadata": {
    "execution": {
     "iopub.execute_input": "2021-09-17T12:11:46.943470Z",
     "iopub.status.busy": "2021-09-17T12:11:46.942968Z",
     "iopub.status.idle": "2021-09-17T12:11:46.945054Z",
     "shell.execute_reply": "2021-09-17T12:11:46.944628Z"
    },
    "papermill": {
     "duration": 0.035405,
     "end_time": "2021-09-17T12:11:46.945156",
     "exception": false,
     "start_time": "2021-09-17T12:11:46.909751",
     "status": "completed"
    },
    "tags": []
   },
   "outputs": [],
   "source": [
    "#hide\n",
    "# g.head()"
   ]
  },
  {
   "cell_type": "code",
   "execution_count": 26,
   "id": "specific-kruger",
   "metadata": {
    "execution": {
     "iopub.execute_input": "2021-09-17T12:11:47.009573Z",
     "iopub.status.busy": "2021-09-17T12:11:47.009037Z",
     "iopub.status.idle": "2021-09-17T12:11:47.011367Z",
     "shell.execute_reply": "2021-09-17T12:11:47.010963Z"
    },
    "papermill": {
     "duration": 0.036105,
     "end_time": "2021-09-17T12:11:47.011476",
     "exception": false,
     "start_time": "2021-09-17T12:11:46.975371",
     "status": "completed"
    },
    "tags": []
   },
   "outputs": [],
   "source": [
    "#hide\n",
    "# g.columns = ['date','country','cases']"
   ]
  },
  {
   "cell_type": "code",
   "execution_count": 27,
   "id": "tender-conversion",
   "metadata": {
    "execution": {
     "iopub.execute_input": "2021-09-17T12:11:47.075280Z",
     "iopub.status.busy": "2021-09-17T12:11:47.074772Z",
     "iopub.status.idle": "2021-09-17T12:11:47.076889Z",
     "shell.execute_reply": "2021-09-17T12:11:47.076463Z"
    },
    "papermill": {
     "duration": 0.035395,
     "end_time": "2021-09-17T12:11:47.076991",
     "exception": false,
     "start_time": "2021-09-17T12:11:47.041596",
     "status": "completed"
    },
    "tags": []
   },
   "outputs": [],
   "source": [
    "#hide\n",
    "# g['continent'] = g.country"
   ]
  },
  {
   "cell_type": "code",
   "execution_count": 28,
   "id": "substantial-wilderness",
   "metadata": {
    "execution": {
     "iopub.execute_input": "2021-09-17T12:11:47.141087Z",
     "iopub.status.busy": "2021-09-17T12:11:47.140575Z",
     "iopub.status.idle": "2021-09-17T12:11:47.142390Z",
     "shell.execute_reply": "2021-09-17T12:11:47.142815Z"
    },
    "papermill": {
     "duration": 0.035671,
     "end_time": "2021-09-17T12:11:47.142939",
     "exception": false,
     "start_time": "2021-09-17T12:11:47.107268",
     "status": "completed"
    },
    "tags": []
   },
   "outputs": [],
   "source": [
    "#hide\n",
    "# cols = list(g.columns.values)"
   ]
  },
  {
   "cell_type": "code",
   "execution_count": 29,
   "id": "solved-farming",
   "metadata": {
    "execution": {
     "iopub.execute_input": "2021-09-17T12:11:47.206514Z",
     "iopub.status.busy": "2021-09-17T12:11:47.206018Z",
     "iopub.status.idle": "2021-09-17T12:11:47.207761Z",
     "shell.execute_reply": "2021-09-17T12:11:47.208238Z"
    },
    "papermill": {
     "duration": 0.035448,
     "end_time": "2021-09-17T12:11:47.208361",
     "exception": false,
     "start_time": "2021-09-17T12:11:47.172913",
     "status": "completed"
    },
    "tags": []
   },
   "outputs": [],
   "source": [
    "#hide\n",
    "# cols.insert(0, cols.pop())"
   ]
  },
  {
   "cell_type": "code",
   "execution_count": 30,
   "id": "executed-adoption",
   "metadata": {
    "execution": {
     "iopub.execute_input": "2021-09-17T12:11:47.271924Z",
     "iopub.status.busy": "2021-09-17T12:11:47.271419Z",
     "iopub.status.idle": "2021-09-17T12:11:47.273217Z",
     "shell.execute_reply": "2021-09-17T12:11:47.273719Z"
    },
    "papermill": {
     "duration": 0.035388,
     "end_time": "2021-09-17T12:11:47.273846",
     "exception": false,
     "start_time": "2021-09-17T12:11:47.238458",
     "status": "completed"
    },
    "tags": []
   },
   "outputs": [],
   "source": [
    "#hide\n",
    "# g = g[cols]"
   ]
  },
  {
   "cell_type": "code",
   "execution_count": 31,
   "id": "subject-dublin",
   "metadata": {
    "execution": {
     "iopub.execute_input": "2021-09-17T12:11:47.338187Z",
     "iopub.status.busy": "2021-09-17T12:11:47.337673Z",
     "iopub.status.idle": "2021-09-17T12:11:47.339323Z",
     "shell.execute_reply": "2021-09-17T12:11:47.339803Z"
    },
    "papermill": {
     "duration": 0.035782,
     "end_time": "2021-09-17T12:11:47.339926",
     "exception": false,
     "start_time": "2021-09-17T12:11:47.304144",
     "status": "completed"
    },
    "tags": []
   },
   "outputs": [],
   "source": [
    "#hide\n",
    "# g['continent'] = g['continent'].map(mapping['map.continent'])"
   ]
  },
  {
   "cell_type": "code",
   "execution_count": 32,
   "id": "freelance-scout",
   "metadata": {
    "execution": {
     "iopub.execute_input": "2021-09-17T12:11:47.404144Z",
     "iopub.status.busy": "2021-09-17T12:11:47.403640Z",
     "iopub.status.idle": "2021-09-17T12:11:47.405825Z",
     "shell.execute_reply": "2021-09-17T12:11:47.405394Z"
    },
    "papermill": {
     "duration": 0.035675,
     "end_time": "2021-09-17T12:11:47.405941",
     "exception": false,
     "start_time": "2021-09-17T12:11:47.370266",
     "status": "completed"
    },
    "tags": []
   },
   "outputs": [],
   "source": [
    "#hide\n",
    "# g.head()"
   ]
  },
  {
   "cell_type": "code",
   "execution_count": 33,
   "id": "limited-engine",
   "metadata": {
    "execution": {
     "iopub.execute_input": "2021-09-17T12:11:47.469785Z",
     "iopub.status.busy": "2021-09-17T12:11:47.469254Z",
     "iopub.status.idle": "2021-09-17T12:11:47.471041Z",
     "shell.execute_reply": "2021-09-17T12:11:47.471445Z"
    },
    "papermill": {
     "duration": 0.035596,
     "end_time": "2021-09-17T12:11:47.471570",
     "exception": false,
     "start_time": "2021-09-17T12:11:47.435974",
     "status": "completed"
    },
    "tags": []
   },
   "outputs": [],
   "source": [
    "# hide\n",
    "# g['date'] = g['date'].astype('datetime64[ns]')"
   ]
  },
  {
   "cell_type": "code",
   "execution_count": 34,
   "id": "sophisticated-supervisor",
   "metadata": {
    "execution": {
     "iopub.execute_input": "2021-09-17T12:11:47.535130Z",
     "iopub.status.busy": "2021-09-17T12:11:47.534628Z",
     "iopub.status.idle": "2021-09-17T12:11:47.536501Z",
     "shell.execute_reply": "2021-09-17T12:11:47.536922Z"
    },
    "papermill": {
     "duration": 0.035292,
     "end_time": "2021-09-17T12:11:47.537043",
     "exception": false,
     "start_time": "2021-09-17T12:11:47.501751",
     "status": "completed"
    },
    "tags": []
   },
   "outputs": [],
   "source": [
    "#hide\n",
    "# g['date'] = g.date.dt.dayofyear"
   ]
  },
  {
   "cell_type": "code",
   "execution_count": 35,
   "id": "inside-dubai",
   "metadata": {
    "execution": {
     "iopub.execute_input": "2021-09-17T12:11:47.600573Z",
     "iopub.status.busy": "2021-09-17T12:11:47.600071Z",
     "iopub.status.idle": "2021-09-17T12:11:47.601856Z",
     "shell.execute_reply": "2021-09-17T12:11:47.602261Z"
    },
    "papermill": {
     "duration": 0.035434,
     "end_time": "2021-09-17T12:11:47.602384",
     "exception": false,
     "start_time": "2021-09-17T12:11:47.566950",
     "status": "completed"
    },
    "tags": []
   },
   "outputs": [],
   "source": [
    "#hide\n",
    "# g = g.rename(columns= {'continent':'group','country':'name','cases':'value'})"
   ]
  },
  {
   "cell_type": "code",
   "execution_count": 36,
   "id": "fleet-motorcycle",
   "metadata": {
    "execution": {
     "iopub.execute_input": "2021-09-17T12:11:47.665645Z",
     "iopub.status.busy": "2021-09-17T12:11:47.665121Z",
     "iopub.status.idle": "2021-09-17T12:11:47.667346Z",
     "shell.execute_reply": "2021-09-17T12:11:47.666922Z"
    },
    "papermill": {
     "duration": 0.03503,
     "end_time": "2021-09-17T12:11:47.667449",
     "exception": false,
     "start_time": "2021-09-17T12:11:47.632419",
     "status": "completed"
    },
    "tags": []
   },
   "outputs": [],
   "source": [
    "#hide\n",
    "# cols = ['name','group','day','value']"
   ]
  },
  {
   "cell_type": "code",
   "execution_count": 37,
   "id": "continued-sleeping",
   "metadata": {
    "execution": {
     "iopub.execute_input": "2021-09-17T12:11:47.731255Z",
     "iopub.status.busy": "2021-09-17T12:11:47.730750Z",
     "iopub.status.idle": "2021-09-17T12:11:47.732864Z",
     "shell.execute_reply": "2021-09-17T12:11:47.732440Z"
    },
    "papermill": {
     "duration": 0.035541,
     "end_time": "2021-09-17T12:11:47.732968",
     "exception": false,
     "start_time": "2021-09-17T12:11:47.697427",
     "status": "completed"
    },
    "tags": []
   },
   "outputs": [],
   "source": [
    "#hide\n",
    "# g.rename(columns= {'date':'day'},inplace = True)"
   ]
  },
  {
   "cell_type": "code",
   "execution_count": 38,
   "id": "major-fight",
   "metadata": {
    "execution": {
     "iopub.execute_input": "2021-09-17T12:11:47.796808Z",
     "iopub.status.busy": "2021-09-17T12:11:47.796304Z",
     "iopub.status.idle": "2021-09-17T12:11:47.798029Z",
     "shell.execute_reply": "2021-09-17T12:11:47.798505Z"
    },
    "papermill": {
     "duration": 0.035413,
     "end_time": "2021-09-17T12:11:47.798626",
     "exception": false,
     "start_time": "2021-09-17T12:11:47.763213",
     "status": "completed"
    },
    "tags": []
   },
   "outputs": [],
   "source": [
    "#hide\n",
    "# g = g[cols]"
   ]
  },
  {
   "cell_type": "code",
   "execution_count": 39,
   "id": "structured-mobile",
   "metadata": {
    "execution": {
     "iopub.execute_input": "2021-09-17T12:11:47.871238Z",
     "iopub.status.busy": "2021-09-17T12:11:47.870324Z",
     "iopub.status.idle": "2021-09-17T12:11:47.871711Z",
     "shell.execute_reply": "2021-09-17T12:11:47.870781Z"
    },
    "papermill": {
     "duration": 0.042256,
     "end_time": "2021-09-17T12:11:47.871823",
     "exception": false,
     "start_time": "2021-09-17T12:11:47.829567",
     "status": "completed"
    },
    "tags": []
   },
   "outputs": [],
   "source": [
    "# #hide\n",
    "# g = g[g.group.notna()]"
   ]
  },
  {
   "cell_type": "code",
   "execution_count": 40,
   "id": "determined-closing",
   "metadata": {
    "execution": {
     "iopub.execute_input": "2021-09-17T12:11:47.936347Z",
     "iopub.status.busy": "2021-09-17T12:11:47.935830Z",
     "iopub.status.idle": "2021-09-17T12:11:47.937817Z",
     "shell.execute_reply": "2021-09-17T12:11:47.938201Z"
    },
    "papermill": {
     "duration": 0.03609,
     "end_time": "2021-09-17T12:11:47.938335",
     "exception": false,
     "start_time": "2021-09-17T12:11:47.902245",
     "status": "completed"
    },
    "tags": []
   },
   "outputs": [],
   "source": [
    "# #hide\n",
    "# colors = dict(zip(\n",
    "#     [\"Oceania\", \"Europe\", \"Asia\", \"South America\", \"Middle East\", \"North America\", \"Africa\"],\n",
    "#     [\"#adb0ff\", \"#ffb3ff\", \"#90d595\", \"#e48381\", \"#aafbff\", \"#f7bb5f\", \"#eafb50\"]\n",
    "# ))\n",
    "# group_lk = g.set_index('name')['group'].to_dict()"
   ]
  },
  {
   "cell_type": "code",
   "execution_count": null,
   "id": "gross-drinking",
   "metadata": {
    "papermill": {
     "duration": 0.030073,
     "end_time": "2021-09-17T12:11:47.998461",
     "exception": false,
     "start_time": "2021-09-17T12:11:47.968388",
     "status": "completed"
    },
    "tags": []
   },
   "outputs": [],
   "source": []
  },
  {
   "cell_type": "code",
   "execution_count": 41,
   "id": "subject-macintosh",
   "metadata": {
    "execution": {
     "iopub.execute_input": "2021-09-17T12:11:48.063720Z",
     "iopub.status.busy": "2021-09-17T12:11:48.063193Z",
     "iopub.status.idle": "2021-09-17T12:11:48.064755Z",
     "shell.execute_reply": "2021-09-17T12:11:48.065154Z"
    },
    "papermill": {
     "duration": 0.036191,
     "end_time": "2021-09-17T12:11:48.065280",
     "exception": false,
     "start_time": "2021-09-17T12:11:48.029089",
     "status": "completed"
    },
    "tags": []
   },
   "outputs": [],
   "source": [
    "# #hide\n",
    "# fig, ax = plt.subplots(figsize=(15, 8))\n",
    "\n",
    "# def draw_barchart(current_day):\n",
    "#     dff = g[g['day'].eq(current_day)].sort_values(by='value', ascending=True).tail(10)\n",
    "#     ax.clear()\n",
    "#     ax.barh(dff['name'], dff['value'], color=[colors[group_lk[x]] for x in dff['name']])\n",
    "#     dx = dff['value'].max() / 200\n",
    "    \n",
    "#     for i, (value, name) in enumerate(zip(dff['value'], dff['name'])):\n",
    "#         ax.text(value-dx, i,     name,           size=14, weight=600, ha='right', va='bottom')\n",
    "#         ax.text(value-dx, i-.25, group_lk[name], size=10, color='#444444', ha='right', va='baseline')\n",
    "#         ax.text(value+dx, i,     f'{value:,.0f}',  size=14, ha='left',  va='center')\n",
    "#     ax.text(1, 0.4, current_day, transform=ax.transAxes, color='#777777', size=46, ha='right', weight=800)\n",
    "#     ax.text(0, 1.06, 'Population (thousands)', transform=ax.transAxes, size=12, color='#777777')\n",
    "#     ax.xaxis.set_major_formatter(ticker.StrMethodFormatter('{x:,.0f}'))\n",
    "#     ax.xaxis.set_ticks_position('top')\n",
    "#     ax.tick_params(axis='x', colors='#777777', labelsize=12)\n",
    "#     ax.set_yticks([])\n",
    "#     ax.margins(0, 0.01)\n",
    "#     ax.grid(which='major', axis='x', linestyle='-')\n",
    "#     ax.set_axisbelow(True)\n",
    "    \n",
    "#     ax.text(0, 1.15, 'Coronavirus',\n",
    "#             transform=ax.transAxes, size=24, weight=600, ha='left', va='top')\n",
    "# #     ax.text(1, 0, 'by @pratapvardhan; credit @jburnmurdoch', transform=ax.transAxes, color='#777777', ha='right',\n",
    "# #             bbox=dict(facecolor='white', alpha=0.8, edgecolor='white'))\n",
    "#     plt.box(False)"
   ]
  },
  {
   "cell_type": "code",
   "execution_count": 42,
   "id": "sexual-wages",
   "metadata": {
    "execution": {
     "iopub.execute_input": "2021-09-17T12:11:48.128773Z",
     "iopub.status.busy": "2021-09-17T12:11:48.128269Z",
     "iopub.status.idle": "2021-09-17T12:11:48.130171Z",
     "shell.execute_reply": "2021-09-17T12:11:48.130599Z"
    },
    "papermill": {
     "duration": 0.035362,
     "end_time": "2021-09-17T12:11:48.130722",
     "exception": false,
     "start_time": "2021-09-17T12:11:48.095360",
     "status": "completed"
    },
    "tags": []
   },
   "outputs": [],
   "source": [
    "# #hide_input\n",
    "# fig, ax = plt.subplots(figsize=(15, 8))\n",
    "# animator = animation.FuncAnimation(fig, draw_barchart, frames=range(g.day.values.min(), g.day.values.max()))\n",
    "# HTML(animator.to_jshtml())\n",
    "# # or use animator.to_html5_video() or animator.save() "
   ]
  },
  {
   "cell_type": "code",
   "execution_count": null,
   "id": "australian-container",
   "metadata": {
    "papermill": {
     "duration": 0.030178,
     "end_time": "2021-09-17T12:11:48.191119",
     "exception": false,
     "start_time": "2021-09-17T12:11:48.160941",
     "status": "completed"
    },
    "tags": []
   },
   "outputs": [],
   "source": []
  },
  {
   "cell_type": "code",
   "execution_count": null,
   "id": "mediterranean-pontiac",
   "metadata": {
    "papermill": {
     "duration": 0.030032,
     "end_time": "2021-09-17T12:11:48.251343",
     "exception": false,
     "start_time": "2021-09-17T12:11:48.221311",
     "status": "completed"
    },
    "tags": []
   },
   "outputs": [],
   "source": []
  },
  {
   "cell_type": "code",
   "execution_count": null,
   "id": "aging-legislature",
   "metadata": {
    "papermill": {
     "duration": 0.029974,
     "end_time": "2021-09-17T12:11:48.311639",
     "exception": false,
     "start_time": "2021-09-17T12:11:48.281665",
     "status": "completed"
    },
    "tags": []
   },
   "outputs": [],
   "source": []
  }
 ],
 "metadata": {
  "kernelspec": {
   "display_name": "Python 3",
   "language": "python",
   "name": "python3"
  },
  "language_info": {
   "codemirror_mode": {
    "name": "ipython",
    "version": 3
   },
   "file_extension": ".py",
   "mimetype": "text/x-python",
   "name": "python",
   "nbconvert_exporter": "python",
   "pygments_lexer": "ipython3",
   "version": "3.6.15"
  },
  "papermill": {
   "duration": 5.927079,
   "end_time": "2021-09-17T12:11:48.650695",
   "environment_variables": {},
   "exception": null,
   "input_path": "2020-03-21-covid19exp.ipynb",
   "output_path": "2020-03-21-covid19exp.ipynb",
   "parameters": {},
   "start_time": "2021-09-17T12:11:42.723616",
   "version": "2.0.0"
  }
 },
 "nbformat": 4,
 "nbformat_minor": 5
}