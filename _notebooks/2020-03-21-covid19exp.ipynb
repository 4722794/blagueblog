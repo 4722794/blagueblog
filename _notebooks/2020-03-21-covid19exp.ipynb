{
 "cells": [
  {
   "cell_type": "markdown",
   "metadata": {
    "papermill": {
     "duration": 0.035338,
     "end_time": "2021-01-04T12:09:55.280965",
     "exception": false,
     "start_time": "2021-01-04T12:09:55.245627",
     "status": "completed"
    },
    "tags": []
   },
   "source": [
    "# COVID-19 Case Race\n",
    "> A race chart to see rising cases around the world\n",
    "\n",
    "- author: Hargun Oberoi\n",
    "- image: images/covid-overview.png\n",
    "- hide: false\n",
    "- badges: false"
   ]
  },
  {
   "cell_type": "code",
   "execution_count": 1,
   "metadata": {
    "execution": {
     "iopub.execute_input": "2021-01-04T12:09:55.344349Z",
     "iopub.status.busy": "2021-01-04T12:09:55.343723Z",
     "iopub.status.idle": "2021-01-04T12:09:55.664176Z",
     "shell.execute_reply": "2021-01-04T12:09:55.663490Z"
    },
    "papermill": {
     "duration": 0.357409,
     "end_time": "2021-01-04T12:09:55.664374",
     "exception": false,
     "start_time": "2021-01-04T12:09:55.306965",
     "status": "completed"
    },
    "tags": []
   },
   "outputs": [],
   "source": [
    "#hide\n",
    "import numpy as np\n",
    "import pandas as pd\n",
    "from jinja2 import Template\n",
    "from IPython.display import HTML"
   ]
  },
  {
   "cell_type": "code",
   "execution_count": 2,
   "metadata": {
    "execution": {
     "iopub.execute_input": "2021-01-04T12:09:55.726727Z",
     "iopub.status.busy": "2021-01-04T12:09:55.726128Z",
     "iopub.status.idle": "2021-01-04T12:09:55.728458Z",
     "shell.execute_reply": "2021-01-04T12:09:55.728923Z"
    },
    "papermill": {
     "duration": 0.03589,
     "end_time": "2021-01-04T12:09:55.729048",
     "exception": false,
     "start_time": "2021-01-04T12:09:55.693158",
     "status": "completed"
    },
    "tags": []
   },
   "outputs": [],
   "source": [
    "#hide\n",
    "\n",
    "# FETCH\n",
    "base_url = 'https://raw.githubusercontent.com/pratapvardhan/notebooks/master/covid19/'\n",
    "paths = {\n",
    "    'mapping': base_url + 'mapping_countries.csv',\n",
    "    'overview': base_url + 'overview.tpl'\n",
    "}"
   ]
  },
  {
   "cell_type": "code",
   "execution_count": 3,
   "metadata": {
    "execution": {
     "iopub.execute_input": "2021-01-04T12:09:55.790017Z",
     "iopub.status.busy": "2021-01-04T12:09:55.789523Z",
     "iopub.status.idle": "2021-01-04T12:09:55.792313Z",
     "shell.execute_reply": "2021-01-04T12:09:55.791898Z"
    },
    "papermill": {
     "duration": 0.037925,
     "end_time": "2021-01-04T12:09:55.792420",
     "exception": false,
     "start_time": "2021-01-04T12:09:55.754495",
     "status": "completed"
    },
    "tags": []
   },
   "outputs": [
    {
     "data": {
      "text/plain": [
       "'https://raw.githubusercontent.com/pratapvardhan/notebooks/master/covid19/mapping_countries.csv'"
      ]
     },
     "execution_count": 3,
     "metadata": {},
     "output_type": "execute_result"
    }
   ],
   "source": [
    "#hide\n",
    "paths['mapping']"
   ]
  },
  {
   "cell_type": "code",
   "execution_count": 4,
   "metadata": {
    "execution": {
     "iopub.execute_input": "2021-01-04T12:09:55.851817Z",
     "iopub.status.busy": "2021-01-04T12:09:55.851260Z",
     "iopub.status.idle": "2021-01-04T12:09:55.853257Z",
     "shell.execute_reply": "2021-01-04T12:09:55.853776Z"
    },
    "papermill": {
     "duration": 0.034715,
     "end_time": "2021-01-04T12:09:55.853910",
     "exception": false,
     "start_time": "2021-01-04T12:09:55.819195",
     "status": "completed"
    },
    "tags": []
   },
   "outputs": [],
   "source": [
    "#hide\n",
    "def get_mappings(url):\n",
    "    df = pd.read_csv(url)\n",
    "    return {\n",
    "        'df': df,\n",
    "        'replace.country': dict(df.dropna(subset=['Name']).set_index('Country')['Name']),\n",
    "        'map.continent': dict(df.set_index('Name')['Continent'])\n",
    "    }"
   ]
  },
  {
   "cell_type": "code",
   "execution_count": 5,
   "metadata": {
    "execution": {
     "iopub.execute_input": "2021-01-04T12:09:55.914045Z",
     "iopub.status.busy": "2021-01-04T12:09:55.913559Z",
     "iopub.status.idle": "2021-01-04T12:09:55.944043Z",
     "shell.execute_reply": "2021-01-04T12:09:55.943525Z"
    },
    "papermill": {
     "duration": 0.064019,
     "end_time": "2021-01-04T12:09:55.944183",
     "exception": false,
     "start_time": "2021-01-04T12:09:55.880164",
     "status": "completed"
    },
    "tags": []
   },
   "outputs": [],
   "source": [
    "#hide\n",
    "mapping = get_mappings(paths['mapping'])"
   ]
  },
  {
   "cell_type": "code",
   "execution_count": 6,
   "metadata": {
    "execution": {
     "iopub.execute_input": "2021-01-04T12:09:56.001603Z",
     "iopub.status.busy": "2021-01-04T12:09:56.001045Z",
     "iopub.status.idle": "2021-01-04T12:09:56.003428Z",
     "shell.execute_reply": "2021-01-04T12:09:56.004011Z"
    },
    "papermill": {
     "duration": 0.03335,
     "end_time": "2021-01-04T12:09:56.004155",
     "exception": false,
     "start_time": "2021-01-04T12:09:55.970805",
     "status": "completed"
    },
    "tags": []
   },
   "outputs": [],
   "source": [
    "#hide\n",
    "def get_template(path):\n",
    "    from urllib.parse import urlparse\n",
    "    if bool(urlparse(path).netloc):\n",
    "        from urllib.request import urlopen\n",
    "        return urlopen(path).read().decode('utf8')\n",
    "    return open(path).read()"
   ]
  },
  {
   "cell_type": "code",
   "execution_count": 7,
   "metadata": {
    "execution": {
     "iopub.execute_input": "2021-01-04T12:09:56.063915Z",
     "iopub.status.busy": "2021-01-04T12:09:56.063306Z",
     "iopub.status.idle": "2021-01-04T12:09:56.066767Z",
     "shell.execute_reply": "2021-01-04T12:09:56.066214Z"
    },
    "papermill": {
     "duration": 0.03748,
     "end_time": "2021-01-04T12:09:56.066888",
     "exception": false,
     "start_time": "2021-01-04T12:09:56.029408",
     "status": "completed"
    },
    "tags": []
   },
   "outputs": [],
   "source": [
    "#hide\n",
    "def get_frame(name):\n",
    "    url = (\n",
    "        'https://raw.githubusercontent.com/CSSEGISandData/COVID-19/master/csse_covid_19_data/'\n",
    "        f'csse_covid_19_time_series/time_series_covid19_{name}_global.csv')\n",
    "    df = pd.read_csv(url)\n",
    "    # rename countries\n",
    "    df['Country/Region'] = df['Country/Region'].replace(mapping['replace.country'])\n",
    "    return df"
   ]
  },
  {
   "cell_type": "code",
   "execution_count": 8,
   "metadata": {
    "execution": {
     "iopub.execute_input": "2021-01-04T12:09:56.129120Z",
     "iopub.status.busy": "2021-01-04T12:09:56.128528Z",
     "iopub.status.idle": "2021-01-04T12:09:56.130978Z",
     "shell.execute_reply": "2021-01-04T12:09:56.131553Z"
    },
    "papermill": {
     "duration": 0.038413,
     "end_time": "2021-01-04T12:09:56.131692",
     "exception": false,
     "start_time": "2021-01-04T12:09:56.093279",
     "status": "completed"
    },
    "tags": []
   },
   "outputs": [],
   "source": [
    "#hide\n",
    "def get_dates(df):\n",
    "    dt_cols = df.columns[~df.columns.isin(['Province/State', 'Country/Region', 'Lat', 'Long'])]\n",
    "    LAST_DATE_I = -1\n",
    "    # sometimes last column may be empty, then go backwards\n",
    "    for i in range(-1, -len(dt_cols), -1):\n",
    "        if not df[dt_cols[i]].fillna(0).eq(0).all():\n",
    "            LAST_DATE_I = i\n",
    "            break\n",
    "    return LAST_DATE_I, dt_cols"
   ]
  },
  {
   "cell_type": "code",
   "execution_count": 9,
   "metadata": {
    "execution": {
     "iopub.execute_input": "2021-01-04T12:09:56.195129Z",
     "iopub.status.busy": "2021-01-04T12:09:56.194016Z",
     "iopub.status.idle": "2021-01-04T12:09:56.425552Z",
     "shell.execute_reply": "2021-01-04T12:09:56.424996Z"
    },
    "papermill": {
     "duration": 0.264788,
     "end_time": "2021-01-04T12:09:56.425708",
     "exception": false,
     "start_time": "2021-01-04T12:09:56.160920",
     "status": "completed"
    },
    "tags": []
   },
   "outputs": [],
   "source": [
    "#hide\n",
    "COL_REGION = 'Country/Region'\n",
    "# Confirmed, Recovered, Deaths\n",
    "df = get_frame('confirmed')\n",
    "# dft_: timeseries, dfc_: today country agg\n",
    "dft_cases = df\n",
    "dft_deaths = get_frame('deaths')\n",
    "dft_recovered = get_frame('recovered')\n",
    "LAST_DATE_I, dt_cols = get_dates(df)"
   ]
  },
  {
   "cell_type": "code",
   "execution_count": 10,
   "metadata": {
    "execution": {
     "iopub.execute_input": "2021-01-04T12:09:56.491269Z",
     "iopub.status.busy": "2021-01-04T12:09:56.490698Z",
     "iopub.status.idle": "2021-01-04T12:09:56.493185Z",
     "shell.execute_reply": "2021-01-04T12:09:56.493630Z"
    },
    "papermill": {
     "duration": 0.039153,
     "end_time": "2021-01-04T12:09:56.493765",
     "exception": false,
     "start_time": "2021-01-04T12:09:56.454612",
     "status": "completed"
    },
    "tags": []
   },
   "outputs": [],
   "source": [
    "#hide\n",
    "LAST_DATE_I, dt_cols = get_dates(df)\n",
    "dt_today =dt_cols[LAST_DATE_I]\n",
    "# dt_5day = dt_cols[LAST_DATE_I - 5]\n",
    "dt_yday = dt_cols[LAST_DATE_I - 1]"
   ]
  },
  {
   "cell_type": "code",
   "execution_count": 11,
   "metadata": {
    "execution": {
     "iopub.execute_input": "2021-01-04T12:09:56.569944Z",
     "iopub.status.busy": "2021-01-04T12:09:56.568896Z",
     "iopub.status.idle": "2021-01-04T12:09:56.574672Z",
     "shell.execute_reply": "2021-01-04T12:09:56.574177Z"
    },
    "papermill": {
     "duration": 0.047217,
     "end_time": "2021-01-04T12:09:56.574800",
     "exception": false,
     "start_time": "2021-01-04T12:09:56.527583",
     "status": "completed"
    },
    "tags": []
   },
   "outputs": [],
   "source": [
    "#hide\n",
    "dfc_cases = dft_cases.groupby(COL_REGION)[dt_today].sum()\n",
    "dfc_deaths = dft_deaths.groupby(COL_REGION)[dt_today].sum()\n",
    "# dfp_cases = dft_cases.groupby(COL_REGION)[dt_5day].sum()\n",
    "# dfp_deaths = dft_deaths.groupby(COL_REGION)[dt_5day].sum()\n",
    "dfp_cases = dft_cases.groupby(COL_REGION)[dt_yday].sum()\n",
    "dfp_deaths = dft_deaths.groupby(COL_REGION)[dt_yday].sum()"
   ]
  },
  {
   "cell_type": "code",
   "execution_count": 12,
   "metadata": {
    "execution": {
     "iopub.execute_input": "2021-01-04T12:09:56.636990Z",
     "iopub.status.busy": "2021-01-04T12:09:56.636435Z",
     "iopub.status.idle": "2021-01-04T12:09:56.642010Z",
     "shell.execute_reply": "2021-01-04T12:09:56.641534Z"
    },
    "papermill": {
     "duration": 0.040052,
     "end_time": "2021-01-04T12:09:56.642140",
     "exception": false,
     "start_time": "2021-01-04T12:09:56.602088",
     "status": "completed"
    },
    "tags": []
   },
   "outputs": [],
   "source": [
    "#hide\n",
    "df_table = (pd.DataFrame(dict(Cases = dfc_cases, Deaths = dfc_deaths, PCases = dfp_cases, PDeaths = dfp_deaths))\n",
    "            .sort_values(by = ['Cases','Deaths'], ascending = [False, False])\n",
    "            .reset_index())"
   ]
  },
  {
   "cell_type": "code",
   "execution_count": 13,
   "metadata": {
    "execution": {
     "iopub.execute_input": "2021-01-04T12:09:56.714235Z",
     "iopub.status.busy": "2021-01-04T12:09:56.713737Z",
     "iopub.status.idle": "2021-01-04T12:09:56.722041Z",
     "shell.execute_reply": "2021-01-04T12:09:56.721623Z"
    },
    "papermill": {
     "duration": 0.052839,
     "end_time": "2021-01-04T12:09:56.722152",
     "exception": false,
     "start_time": "2021-01-04T12:09:56.669313",
     "status": "completed"
    },
    "tags": []
   },
   "outputs": [
    {
     "data": {
      "text/html": [
       "<div>\n",
       "<style scoped>\n",
       "    .dataframe tbody tr th:only-of-type {\n",
       "        vertical-align: middle;\n",
       "    }\n",
       "\n",
       "    .dataframe tbody tr th {\n",
       "        vertical-align: top;\n",
       "    }\n",
       "\n",
       "    .dataframe thead th {\n",
       "        text-align: right;\n",
       "    }\n",
       "</style>\n",
       "<table border=\"1\" class=\"dataframe\">\n",
       "  <thead>\n",
       "    <tr style=\"text-align: right;\">\n",
       "      <th></th>\n",
       "      <th>Country/Region</th>\n",
       "      <th>Cases</th>\n",
       "      <th>Deaths</th>\n",
       "      <th>PCases</th>\n",
       "      <th>PDeaths</th>\n",
       "      <th>Cases (+)</th>\n",
       "      <th>Deaths (+)</th>\n",
       "      <th>Fatality Rate</th>\n",
       "      <th>Continent</th>\n",
       "    </tr>\n",
       "  </thead>\n",
       "  <tbody>\n",
       "    <tr>\n",
       "      <th>0</th>\n",
       "      <td>US</td>\n",
       "      <td>20636663</td>\n",
       "      <td>351580</td>\n",
       "      <td>20426184</td>\n",
       "      <td>350186</td>\n",
       "      <td>210479</td>\n",
       "      <td>1394</td>\n",
       "      <td>1.70</td>\n",
       "      <td>North America</td>\n",
       "    </tr>\n",
       "    <tr>\n",
       "      <th>1</th>\n",
       "      <td>India</td>\n",
       "      <td>10340469</td>\n",
       "      <td>149649</td>\n",
       "      <td>10323965</td>\n",
       "      <td>149435</td>\n",
       "      <td>16504</td>\n",
       "      <td>214</td>\n",
       "      <td>1.45</td>\n",
       "      <td>Asia</td>\n",
       "    </tr>\n",
       "    <tr>\n",
       "      <th>2</th>\n",
       "      <td>Brazil</td>\n",
       "      <td>7733746</td>\n",
       "      <td>196018</td>\n",
       "      <td>7716405</td>\n",
       "      <td>195725</td>\n",
       "      <td>17341</td>\n",
       "      <td>293</td>\n",
       "      <td>2.53</td>\n",
       "      <td>South America</td>\n",
       "    </tr>\n",
       "    <tr>\n",
       "      <th>3</th>\n",
       "      <td>Russia</td>\n",
       "      <td>3203743</td>\n",
       "      <td>57730</td>\n",
       "      <td>3179898</td>\n",
       "      <td>57235</td>\n",
       "      <td>23845</td>\n",
       "      <td>495</td>\n",
       "      <td>1.80</td>\n",
       "      <td>Europe</td>\n",
       "    </tr>\n",
       "    <tr>\n",
       "      <th>4</th>\n",
       "      <td>France</td>\n",
       "      <td>2712975</td>\n",
       "      <td>65164</td>\n",
       "      <td>2700480</td>\n",
       "      <td>65048</td>\n",
       "      <td>12495</td>\n",
       "      <td>116</td>\n",
       "      <td>2.40</td>\n",
       "      <td>Europe</td>\n",
       "    </tr>\n",
       "  </tbody>\n",
       "</table>\n",
       "</div>"
      ],
      "text/plain": [
       "  Country/Region     Cases  Deaths    PCases  PDeaths  Cases (+)  Deaths (+)  \\\n",
       "0             US  20636663  351580  20426184   350186     210479        1394   \n",
       "1          India  10340469  149649  10323965   149435      16504         214   \n",
       "2         Brazil   7733746  196018   7716405   195725      17341         293   \n",
       "3         Russia   3203743   57730   3179898    57235      23845         495   \n",
       "4         France   2712975   65164   2700480    65048      12495         116   \n",
       "\n",
       "   Fatality Rate      Continent  \n",
       "0           1.70  North America  \n",
       "1           1.45           Asia  \n",
       "2           2.53  South America  \n",
       "3           1.80         Europe  \n",
       "4           2.40         Europe  "
      ]
     },
     "execution_count": 13,
     "metadata": {},
     "output_type": "execute_result"
    }
   ],
   "source": [
    "#hide\n",
    "for c in 'Cases, Deaths'.split(', '):\n",
    "    df_table[f'{c} (+)'] = (df_table[c] - df_table[f'P{c}']).clip(0)\n",
    "    #Clip ça veut dire, les chiffres negatif sont interdit\n",
    "df_table['Fatality Rate'] = (100* df_table['Deaths']/ df_table['Cases']).round(2)\n",
    "df_table['Continent'] = df_table['Country/Region'].map(mapping['map.continent'])\n",
    "df_table.head(5)"
   ]
  },
  {
   "cell_type": "code",
   "execution_count": 14,
   "metadata": {
    "execution": {
     "iopub.execute_input": "2021-01-04T12:09:56.782276Z",
     "iopub.status.busy": "2021-01-04T12:09:56.781692Z",
     "iopub.status.idle": "2021-01-04T12:09:56.784452Z",
     "shell.execute_reply": "2021-01-04T12:09:56.784916Z"
    },
    "papermill": {
     "duration": 0.03737,
     "end_time": "2021-01-04T12:09:56.785034",
     "exception": false,
     "start_time": "2021-01-04T12:09:56.747664",
     "status": "completed"
    },
    "tags": []
   },
   "outputs": [],
   "source": [
    "#hide\n",
    "#delete problematic countries from table\n",
    "df_table = df_table[~df_table['Country/Region'].isin(['Cape Verde', 'Cruise Ship', 'Kosovo'])]"
   ]
  },
  {
   "cell_type": "code",
   "execution_count": 15,
   "metadata": {
    "execution": {
     "iopub.execute_input": "2021-01-04T12:09:56.848339Z",
     "iopub.status.busy": "2021-01-04T12:09:56.847788Z",
     "iopub.status.idle": "2021-01-04T12:09:56.865328Z",
     "shell.execute_reply": "2021-01-04T12:09:56.865778Z"
    },
    "papermill": {
     "duration": 0.054856,
     "end_time": "2021-01-04T12:09:56.865922",
     "exception": false,
     "start_time": "2021-01-04T12:09:56.811066",
     "status": "completed"
    },
    "tags": []
   },
   "outputs": [
    {
     "data": {
      "text/html": [
       "<div>\n",
       "<style scoped>\n",
       "    .dataframe tbody tr th:only-of-type {\n",
       "        vertical-align: middle;\n",
       "    }\n",
       "\n",
       "    .dataframe tbody tr th {\n",
       "        vertical-align: top;\n",
       "    }\n",
       "\n",
       "    .dataframe thead th {\n",
       "        text-align: right;\n",
       "    }\n",
       "</style>\n",
       "<table border=\"1\" class=\"dataframe\">\n",
       "  <thead>\n",
       "    <tr style=\"text-align: right;\">\n",
       "      <th></th>\n",
       "      <th>Country/Region</th>\n",
       "      <th>Cases</th>\n",
       "      <th>Deaths</th>\n",
       "      <th>PCases</th>\n",
       "      <th>PDeaths</th>\n",
       "      <th>Cases (+)</th>\n",
       "      <th>Deaths (+)</th>\n",
       "      <th>Fatality Rate</th>\n",
       "      <th>Continent</th>\n",
       "    </tr>\n",
       "  </thead>\n",
       "  <tbody>\n",
       "    <tr>\n",
       "      <th>0</th>\n",
       "      <td>US</td>\n",
       "      <td>20636663</td>\n",
       "      <td>351580</td>\n",
       "      <td>20426184</td>\n",
       "      <td>350186</td>\n",
       "      <td>210479</td>\n",
       "      <td>1394</td>\n",
       "      <td>1.7</td>\n",
       "      <td>North America</td>\n",
       "    </tr>\n",
       "    <tr>\n",
       "      <th>1</th>\n",
       "      <td>India</td>\n",
       "      <td>10340469</td>\n",
       "      <td>149649</td>\n",
       "      <td>10323965</td>\n",
       "      <td>149435</td>\n",
       "      <td>16504</td>\n",
       "      <td>214</td>\n",
       "      <td>1.4</td>\n",
       "      <td>Asia</td>\n",
       "    </tr>\n",
       "    <tr>\n",
       "      <th>2</th>\n",
       "      <td>Brazil</td>\n",
       "      <td>7733746</td>\n",
       "      <td>196018</td>\n",
       "      <td>7716405</td>\n",
       "      <td>195725</td>\n",
       "      <td>17341</td>\n",
       "      <td>293</td>\n",
       "      <td>2.5</td>\n",
       "      <td>South America</td>\n",
       "    </tr>\n",
       "    <tr>\n",
       "      <th>3</th>\n",
       "      <td>Russia</td>\n",
       "      <td>3203743</td>\n",
       "      <td>57730</td>\n",
       "      <td>3179898</td>\n",
       "      <td>57235</td>\n",
       "      <td>23845</td>\n",
       "      <td>495</td>\n",
       "      <td>1.8</td>\n",
       "      <td>Europe</td>\n",
       "    </tr>\n",
       "    <tr>\n",
       "      <th>4</th>\n",
       "      <td>France</td>\n",
       "      <td>2712975</td>\n",
       "      <td>65164</td>\n",
       "      <td>2700480</td>\n",
       "      <td>65048</td>\n",
       "      <td>12495</td>\n",
       "      <td>116</td>\n",
       "      <td>2.4</td>\n",
       "      <td>Europe</td>\n",
       "    </tr>\n",
       "  </tbody>\n",
       "</table>\n",
       "</div>"
      ],
      "text/plain": [
       "  Country/Region     Cases  Deaths    PCases  PDeaths  Cases (+)  Deaths (+)  \\\n",
       "0             US  20636663  351580  20426184   350186     210479        1394   \n",
       "1          India  10340469  149649  10323965   149435      16504         214   \n",
       "2         Brazil   7733746  196018   7716405   195725      17341         293   \n",
       "3         Russia   3203743   57730   3179898    57235      23845         495   \n",
       "4         France   2712975   65164   2700480    65048      12495         116   \n",
       "\n",
       "   Fatality Rate      Continent  \n",
       "0            1.7  North America  \n",
       "1            1.4           Asia  \n",
       "2            2.5  South America  \n",
       "3            1.8         Europe  \n",
       "4            2.4         Europe  "
      ]
     },
     "execution_count": 15,
     "metadata": {},
     "output_type": "execute_result"
    }
   ],
   "source": [
    "#hide\n",
    "df_table = (pd.DataFrame(dict(Cases=dfc_cases, Deaths=dfc_deaths, PCases=dfp_cases, PDeaths=dfp_deaths))\n",
    "             .sort_values(by=['Cases', 'Deaths'], ascending=[False, False])\n",
    "             .reset_index())\n",
    "df_table.rename(columns={'index': 'Country/Region'}, inplace=True)\n",
    "for c in 'Cases, Deaths'.split(', '):\n",
    "    df_table[f'{c} (+)'] = (df_table[c] - df_table[f'P{c}']).clip(0)  # DATA BUG\n",
    "df_table['Fatality Rate'] = (100 * df_table['Deaths'] / df_table['Cases']).round(1)\n",
    "df_table['Continent'] = df_table['Country/Region'].map(mapping['map.continent'])\n",
    "df_table.head(5)"
   ]
  },
  {
   "cell_type": "code",
   "execution_count": 16,
   "metadata": {
    "execution": {
     "iopub.execute_input": "2021-01-04T12:09:56.931045Z",
     "iopub.status.busy": "2021-01-04T12:09:56.930441Z",
     "iopub.status.idle": "2021-01-04T12:09:56.932922Z",
     "shell.execute_reply": "2021-01-04T12:09:56.933373Z"
    },
    "papermill": {
     "duration": 0.038422,
     "end_time": "2021-01-04T12:09:56.933511",
     "exception": false,
     "start_time": "2021-01-04T12:09:56.895089",
     "status": "completed"
    },
    "tags": []
   },
   "outputs": [],
   "source": [
    "#hide\n",
    "#delete problematic countries from table\n",
    "df_table = df_table[~df_table['Country/Region'].isin(['Cape Verde', 'Cruise Ship', 'Kosovo'])]"
   ]
  },
  {
   "cell_type": "code",
   "execution_count": 17,
   "metadata": {
    "execution": {
     "iopub.execute_input": "2021-01-04T12:09:57.011677Z",
     "iopub.status.busy": "2021-01-04T12:09:57.011109Z",
     "iopub.status.idle": "2021-01-04T12:09:57.013661Z",
     "shell.execute_reply": "2021-01-04T12:09:57.013215Z"
    },
    "papermill": {
     "duration": 0.051873,
     "end_time": "2021-01-04T12:09:57.013804",
     "exception": false,
     "start_time": "2021-01-04T12:09:56.961931",
     "status": "completed"
    },
    "tags": []
   },
   "outputs": [],
   "source": [
    "#hide\n",
    "metrics = [df_table.columns[index] for index in [1,2,5,6]]\n",
    "# s_china = df_table[df_table['Country/Region'].eq('China')][metrics].sum().add_prefix('China ')\n",
    "s_us = df_table[df_table['Country/Region'].eq('US')][metrics].sum().add_prefix('US ')\n",
    "s_eu = df_table[df_table['Continent'].eq('Europe')][metrics].sum().add_prefix('EU ')\n",
    "s_ind = df_table[df_table['Country/Region'].eq('India')][metrics].sum().add_prefix('India ')\n",
    "summary = {'updated': pd.to_datetime(dt_today), 'since': pd.to_datetime(dt_yday)}\n",
    "summary = {'updated': pd.to_datetime(dt_today), 'since': pd.to_datetime(dt_yday)}\n",
    "summary = {**summary, **df_table[metrics].sum(), **s_ind, **s_us, **s_eu}"
   ]
  },
  {
   "cell_type": "code",
   "execution_count": 18,
   "metadata": {
    "execution": {
     "iopub.execute_input": "2021-01-04T12:09:57.079477Z",
     "iopub.status.busy": "2021-01-04T12:09:57.078866Z",
     "iopub.status.idle": "2021-01-04T12:09:57.089368Z",
     "shell.execute_reply": "2021-01-04T12:09:57.088890Z"
    },
    "papermill": {
     "duration": 0.046766,
     "end_time": "2021-01-04T12:09:57.089493",
     "exception": false,
     "start_time": "2021-01-04T12:09:57.042727",
     "status": "completed"
    },
    "tags": []
   },
   "outputs": [],
   "source": [
    "#hide\n",
    "dft_ct_new_cases = dft_cases.groupby(COL_REGION)[dt_cols].sum().diff(axis=1).fillna(0).astype(int)"
   ]
  },
  {
   "cell_type": "code",
   "execution_count": 19,
   "metadata": {
    "execution": {
     "iopub.execute_input": "2021-01-04T12:09:57.152224Z",
     "iopub.status.busy": "2021-01-04T12:09:57.151739Z",
     "iopub.status.idle": "2021-01-04T12:09:57.154100Z",
     "shell.execute_reply": "2021-01-04T12:09:57.153632Z"
    },
    "papermill": {
     "duration": 0.03611,
     "end_time": "2021-01-04T12:09:57.154218",
     "exception": false,
     "start_time": "2021-01-04T12:09:57.118108",
     "status": "completed"
    },
    "tags": []
   },
   "outputs": [],
   "source": [
    "#hide\n",
    "everydaycases = dft_ct_new_cases.cumsum(axis=1)"
   ]
  },
  {
   "cell_type": "code",
   "execution_count": 20,
   "metadata": {
    "execution": {
     "iopub.execute_input": "2021-01-04T12:09:57.217337Z",
     "iopub.status.busy": "2021-01-04T12:09:57.216748Z",
     "iopub.status.idle": "2021-01-04T12:09:58.943218Z",
     "shell.execute_reply": "2021-01-04T12:09:58.942622Z"
    },
    "papermill": {
     "duration": 1.760128,
     "end_time": "2021-01-04T12:09:58.943370",
     "exception": false,
     "start_time": "2021-01-04T12:09:57.183242",
     "status": "completed"
    },
    "tags": []
   },
   "outputs": [],
   "source": [
    "#hide\n",
    "import pandas as pd\n",
    "import matplotlib.pyplot as plt\n",
    "import matplotlib.ticker as ticker\n",
    "import matplotlib.animation as animation\n",
    "from IPython.display import HTML"
   ]
  },
  {
   "cell_type": "code",
   "execution_count": 21,
   "metadata": {
    "execution": {
     "iopub.execute_input": "2021-01-04T12:09:59.007269Z",
     "iopub.status.busy": "2021-01-04T12:09:59.006714Z",
     "iopub.status.idle": "2021-01-04T12:09:59.013271Z",
     "shell.execute_reply": "2021-01-04T12:09:59.013803Z"
    },
    "papermill": {
     "duration": 0.041445,
     "end_time": "2021-01-04T12:09:59.013943",
     "exception": false,
     "start_time": "2021-01-04T12:09:58.972498",
     "status": "completed"
    },
    "tags": []
   },
   "outputs": [],
   "source": [
    "#hide\n",
    "t = everydaycases.stack()"
   ]
  },
  {
   "cell_type": "code",
   "execution_count": 22,
   "metadata": {
    "execution": {
     "iopub.execute_input": "2021-01-04T12:09:59.077632Z",
     "iopub.status.busy": "2021-01-04T12:09:59.077043Z",
     "iopub.status.idle": "2021-01-04T12:09:59.084533Z",
     "shell.execute_reply": "2021-01-04T12:09:59.084052Z"
    },
    "papermill": {
     "duration": 0.041611,
     "end_time": "2021-01-04T12:09:59.084664",
     "exception": false,
     "start_time": "2021-01-04T12:09:59.043053",
     "status": "completed"
    },
    "tags": []
   },
   "outputs": [],
   "source": [
    "#hide\n",
    "g = t.reset_index(['Country/Region'])"
   ]
  },
  {
   "cell_type": "code",
   "execution_count": 23,
   "metadata": {
    "execution": {
     "iopub.execute_input": "2021-01-04T12:09:59.148542Z",
     "iopub.status.busy": "2021-01-04T12:09:59.147979Z",
     "iopub.status.idle": "2021-01-04T12:09:59.150174Z",
     "shell.execute_reply": "2021-01-04T12:09:59.149707Z"
    },
    "papermill": {
     "duration": 0.036197,
     "end_time": "2021-01-04T12:09:59.150293",
     "exception": false,
     "start_time": "2021-01-04T12:09:59.114096",
     "status": "completed"
    },
    "tags": []
   },
   "outputs": [],
   "source": [
    "#hide\n",
    "g.index.name = 'date'"
   ]
  },
  {
   "cell_type": "code",
   "execution_count": 24,
   "metadata": {
    "execution": {
     "iopub.execute_input": "2021-01-04T12:09:59.213700Z",
     "iopub.status.busy": "2021-01-04T12:09:59.213106Z",
     "iopub.status.idle": "2021-01-04T12:09:59.214943Z",
     "shell.execute_reply": "2021-01-04T12:09:59.215429Z"
    },
    "papermill": {
     "duration": 0.036558,
     "end_time": "2021-01-04T12:09:59.215572",
     "exception": false,
     "start_time": "2021-01-04T12:09:59.179014",
     "status": "completed"
    },
    "tags": []
   },
   "outputs": [],
   "source": [
    "# #hide\n",
    "# g = g.reset_index(['date'])"
   ]
  },
  {
   "cell_type": "code",
   "execution_count": 25,
   "metadata": {
    "execution": {
     "iopub.execute_input": "2021-01-04T12:09:59.277677Z",
     "iopub.status.busy": "2021-01-04T12:09:59.277186Z",
     "iopub.status.idle": "2021-01-04T12:09:59.280181Z",
     "shell.execute_reply": "2021-01-04T12:09:59.279674Z"
    },
    "papermill": {
     "duration": 0.035793,
     "end_time": "2021-01-04T12:09:59.280313",
     "exception": false,
     "start_time": "2021-01-04T12:09:59.244520",
     "status": "completed"
    },
    "tags": []
   },
   "outputs": [],
   "source": [
    "#hide\n",
    "# g.head()"
   ]
  },
  {
   "cell_type": "code",
   "execution_count": 26,
   "metadata": {
    "execution": {
     "iopub.execute_input": "2021-01-04T12:09:59.341351Z",
     "iopub.status.busy": "2021-01-04T12:09:59.340801Z",
     "iopub.status.idle": "2021-01-04T12:09:59.343135Z",
     "shell.execute_reply": "2021-01-04T12:09:59.342601Z"
    },
    "papermill": {
     "duration": 0.034624,
     "end_time": "2021-01-04T12:09:59.343263",
     "exception": false,
     "start_time": "2021-01-04T12:09:59.308639",
     "status": "completed"
    },
    "tags": []
   },
   "outputs": [],
   "source": [
    "#hide\n",
    "# g.columns = ['date','country','cases']"
   ]
  },
  {
   "cell_type": "code",
   "execution_count": 27,
   "metadata": {
    "execution": {
     "iopub.execute_input": "2021-01-04T12:09:59.402443Z",
     "iopub.status.busy": "2021-01-04T12:09:59.401862Z",
     "iopub.status.idle": "2021-01-04T12:09:59.404316Z",
     "shell.execute_reply": "2021-01-04T12:09:59.403852Z"
    },
    "papermill": {
     "duration": 0.033944,
     "end_time": "2021-01-04T12:09:59.404435",
     "exception": false,
     "start_time": "2021-01-04T12:09:59.370491",
     "status": "completed"
    },
    "tags": []
   },
   "outputs": [],
   "source": [
    "#hide\n",
    "# g['continent'] = g.country"
   ]
  },
  {
   "cell_type": "code",
   "execution_count": 28,
   "metadata": {
    "execution": {
     "iopub.execute_input": "2021-01-04T12:09:59.469769Z",
     "iopub.status.busy": "2021-01-04T12:09:59.469217Z",
     "iopub.status.idle": "2021-01-04T12:09:59.471624Z",
     "shell.execute_reply": "2021-01-04T12:09:59.472152Z"
    },
    "papermill": {
     "duration": 0.037507,
     "end_time": "2021-01-04T12:09:59.472289",
     "exception": false,
     "start_time": "2021-01-04T12:09:59.434782",
     "status": "completed"
    },
    "tags": []
   },
   "outputs": [],
   "source": [
    "#hide\n",
    "# cols = list(g.columns.values)"
   ]
  },
  {
   "cell_type": "code",
   "execution_count": 29,
   "metadata": {
    "execution": {
     "iopub.execute_input": "2021-01-04T12:09:59.534597Z",
     "iopub.status.busy": "2021-01-04T12:09:59.534009Z",
     "iopub.status.idle": "2021-01-04T12:09:59.536378Z",
     "shell.execute_reply": "2021-01-04T12:09:59.536937Z"
    },
    "papermill": {
     "duration": 0.035096,
     "end_time": "2021-01-04T12:09:59.537080",
     "exception": false,
     "start_time": "2021-01-04T12:09:59.501984",
     "status": "completed"
    },
    "tags": []
   },
   "outputs": [],
   "source": [
    "#hide\n",
    "# cols.insert(0, cols.pop())"
   ]
  },
  {
   "cell_type": "code",
   "execution_count": 30,
   "metadata": {
    "execution": {
     "iopub.execute_input": "2021-01-04T12:09:59.603005Z",
     "iopub.status.busy": "2021-01-04T12:09:59.602206Z",
     "iopub.status.idle": "2021-01-04T12:09:59.603594Z",
     "shell.execute_reply": "2021-01-04T12:09:59.604025Z"
    },
    "papermill": {
     "duration": 0.036569,
     "end_time": "2021-01-04T12:09:59.604160",
     "exception": false,
     "start_time": "2021-01-04T12:09:59.567591",
     "status": "completed"
    },
    "tags": []
   },
   "outputs": [],
   "source": [
    "#hide\n",
    "# g = g[cols]"
   ]
  },
  {
   "cell_type": "code",
   "execution_count": 31,
   "metadata": {
    "execution": {
     "iopub.execute_input": "2021-01-04T12:09:59.665966Z",
     "iopub.status.busy": "2021-01-04T12:09:59.665367Z",
     "iopub.status.idle": "2021-01-04T12:09:59.667665Z",
     "shell.execute_reply": "2021-01-04T12:09:59.667225Z"
    },
    "papermill": {
     "duration": 0.035108,
     "end_time": "2021-01-04T12:09:59.667786",
     "exception": false,
     "start_time": "2021-01-04T12:09:59.632678",
     "status": "completed"
    },
    "tags": []
   },
   "outputs": [],
   "source": [
    "#hide\n",
    "# g['continent'] = g['continent'].map(mapping['map.continent'])"
   ]
  },
  {
   "cell_type": "code",
   "execution_count": 32,
   "metadata": {
    "execution": {
     "iopub.execute_input": "2021-01-04T12:09:59.735012Z",
     "iopub.status.busy": "2021-01-04T12:09:59.734366Z",
     "iopub.status.idle": "2021-01-04T12:09:59.735648Z",
     "shell.execute_reply": "2021-01-04T12:09:59.736113Z"
    },
    "papermill": {
     "duration": 0.0372,
     "end_time": "2021-01-04T12:09:59.736259",
     "exception": false,
     "start_time": "2021-01-04T12:09:59.699059",
     "status": "completed"
    },
    "tags": []
   },
   "outputs": [],
   "source": [
    "#hide\n",
    "# g.head()"
   ]
  },
  {
   "cell_type": "code",
   "execution_count": 33,
   "metadata": {
    "execution": {
     "iopub.execute_input": "2021-01-04T12:09:59.799600Z",
     "iopub.status.busy": "2021-01-04T12:09:59.798633Z",
     "iopub.status.idle": "2021-01-04T12:09:59.800553Z",
     "shell.execute_reply": "2021-01-04T12:09:59.801276Z"
    },
    "papermill": {
     "duration": 0.036144,
     "end_time": "2021-01-04T12:09:59.801490",
     "exception": false,
     "start_time": "2021-01-04T12:09:59.765346",
     "status": "completed"
    },
    "tags": []
   },
   "outputs": [],
   "source": [
    "# hide\n",
    "# g['date'] = g['date'].astype('datetime64[ns]')"
   ]
  },
  {
   "cell_type": "code",
   "execution_count": 34,
   "metadata": {
    "execution": {
     "iopub.execute_input": "2021-01-04T12:09:59.872009Z",
     "iopub.status.busy": "2021-01-04T12:09:59.871403Z",
     "iopub.status.idle": "2021-01-04T12:09:59.874204Z",
     "shell.execute_reply": "2021-01-04T12:09:59.874735Z"
    },
    "papermill": {
     "duration": 0.038718,
     "end_time": "2021-01-04T12:09:59.874886",
     "exception": false,
     "start_time": "2021-01-04T12:09:59.836168",
     "status": "completed"
    },
    "tags": []
   },
   "outputs": [],
   "source": [
    "#hide\n",
    "# g['date'] = g.date.dt.dayofyear"
   ]
  },
  {
   "cell_type": "code",
   "execution_count": 35,
   "metadata": {
    "execution": {
     "iopub.execute_input": "2021-01-04T12:09:59.940021Z",
     "iopub.status.busy": "2021-01-04T12:09:59.939407Z",
     "iopub.status.idle": "2021-01-04T12:09:59.940622Z",
     "shell.execute_reply": "2021-01-04T12:09:59.941171Z"
    },
    "papermill": {
     "duration": 0.036061,
     "end_time": "2021-01-04T12:09:59.941320",
     "exception": false,
     "start_time": "2021-01-04T12:09:59.905259",
     "status": "completed"
    },
    "tags": []
   },
   "outputs": [],
   "source": [
    "#hide\n",
    "# g = g.rename(columns= {'continent':'group','country':'name','cases':'value'})"
   ]
  },
  {
   "cell_type": "code",
   "execution_count": 36,
   "metadata": {
    "execution": {
     "iopub.execute_input": "2021-01-04T12:10:00.003480Z",
     "iopub.status.busy": "2021-01-04T12:10:00.002872Z",
     "iopub.status.idle": "2021-01-04T12:10:00.010861Z",
     "shell.execute_reply": "2021-01-04T12:10:00.010335Z"
    },
    "papermill": {
     "duration": 0.040709,
     "end_time": "2021-01-04T12:10:00.011005",
     "exception": false,
     "start_time": "2021-01-04T12:09:59.970296",
     "status": "completed"
    },
    "tags": []
   },
   "outputs": [],
   "source": [
    "#hide\n",
    "# cols = ['name','group','day','value']"
   ]
  },
  {
   "cell_type": "code",
   "execution_count": 37,
   "metadata": {
    "execution": {
     "iopub.execute_input": "2021-01-04T12:10:00.077788Z",
     "iopub.status.busy": "2021-01-04T12:10:00.077137Z",
     "iopub.status.idle": "2021-01-04T12:10:00.079365Z",
     "shell.execute_reply": "2021-01-04T12:10:00.079867Z"
    },
    "papermill": {
     "duration": 0.037833,
     "end_time": "2021-01-04T12:10:00.080019",
     "exception": false,
     "start_time": "2021-01-04T12:10:00.042186",
     "status": "completed"
    },
    "tags": []
   },
   "outputs": [],
   "source": [
    "#hide\n",
    "# g.rename(columns= {'date':'day'},inplace = True)"
   ]
  },
  {
   "cell_type": "code",
   "execution_count": 38,
   "metadata": {
    "execution": {
     "iopub.execute_input": "2021-01-04T12:10:00.145343Z",
     "iopub.status.busy": "2021-01-04T12:10:00.144742Z",
     "iopub.status.idle": "2021-01-04T12:10:00.147685Z",
     "shell.execute_reply": "2021-01-04T12:10:00.148213Z"
    },
    "papermill": {
     "duration": 0.038658,
     "end_time": "2021-01-04T12:10:00.148353",
     "exception": false,
     "start_time": "2021-01-04T12:10:00.109695",
     "status": "completed"
    },
    "tags": []
   },
   "outputs": [],
   "source": [
    "#hide\n",
    "# g = g[cols]"
   ]
  },
  {
   "cell_type": "code",
   "execution_count": 39,
   "metadata": {
    "execution": {
     "iopub.execute_input": "2021-01-04T12:10:00.215265Z",
     "iopub.status.busy": "2021-01-04T12:10:00.214694Z",
     "iopub.status.idle": "2021-01-04T12:10:00.216839Z",
     "shell.execute_reply": "2021-01-04T12:10:00.216370Z"
    },
    "papermill": {
     "duration": 0.038418,
     "end_time": "2021-01-04T12:10:00.216961",
     "exception": false,
     "start_time": "2021-01-04T12:10:00.178543",
     "status": "completed"
    },
    "tags": []
   },
   "outputs": [],
   "source": [
    "# #hide\n",
    "# g = g[g.group.notna()]"
   ]
  },
  {
   "cell_type": "code",
   "execution_count": 40,
   "metadata": {
    "execution": {
     "iopub.execute_input": "2021-01-04T12:10:00.281974Z",
     "iopub.status.busy": "2021-01-04T12:10:00.281316Z",
     "iopub.status.idle": "2021-01-04T12:10:00.284050Z",
     "shell.execute_reply": "2021-01-04T12:10:00.283540Z"
    },
    "papermill": {
     "duration": 0.037112,
     "end_time": "2021-01-04T12:10:00.284177",
     "exception": false,
     "start_time": "2021-01-04T12:10:00.247065",
     "status": "completed"
    },
    "tags": []
   },
   "outputs": [],
   "source": [
    "# #hide\n",
    "# colors = dict(zip(\n",
    "#     [\"Oceania\", \"Europe\", \"Asia\", \"South America\", \"Middle East\", \"North America\", \"Africa\"],\n",
    "#     [\"#adb0ff\", \"#ffb3ff\", \"#90d595\", \"#e48381\", \"#aafbff\", \"#f7bb5f\", \"#eafb50\"]\n",
    "# ))\n",
    "# group_lk = g.set_index('name')['group'].to_dict()"
   ]
  },
  {
   "cell_type": "code",
   "execution_count": null,
   "metadata": {
    "papermill": {
     "duration": 0.029711,
     "end_time": "2021-01-04T12:10:00.343884",
     "exception": false,
     "start_time": "2021-01-04T12:10:00.314173",
     "status": "completed"
    },
    "tags": []
   },
   "outputs": [],
   "source": []
  },
  {
   "cell_type": "code",
   "execution_count": 41,
   "metadata": {
    "execution": {
     "iopub.execute_input": "2021-01-04T12:10:00.406027Z",
     "iopub.status.busy": "2021-01-04T12:10:00.405401Z",
     "iopub.status.idle": "2021-01-04T12:10:00.407979Z",
     "shell.execute_reply": "2021-01-04T12:10:00.408398Z"
    },
    "papermill": {
     "duration": 0.035429,
     "end_time": "2021-01-04T12:10:00.408535",
     "exception": false,
     "start_time": "2021-01-04T12:10:00.373106",
     "status": "completed"
    },
    "tags": []
   },
   "outputs": [],
   "source": [
    "# #hide\n",
    "# fig, ax = plt.subplots(figsize=(15, 8))\n",
    "\n",
    "# def draw_barchart(current_day):\n",
    "#     dff = g[g['day'].eq(current_day)].sort_values(by='value', ascending=True).tail(10)\n",
    "#     ax.clear()\n",
    "#     ax.barh(dff['name'], dff['value'], color=[colors[group_lk[x]] for x in dff['name']])\n",
    "#     dx = dff['value'].max() / 200\n",
    "    \n",
    "#     for i, (value, name) in enumerate(zip(dff['value'], dff['name'])):\n",
    "#         ax.text(value-dx, i,     name,           size=14, weight=600, ha='right', va='bottom')\n",
    "#         ax.text(value-dx, i-.25, group_lk[name], size=10, color='#444444', ha='right', va='baseline')\n",
    "#         ax.text(value+dx, i,     f'{value:,.0f}',  size=14, ha='left',  va='center')\n",
    "#     ax.text(1, 0.4, current_day, transform=ax.transAxes, color='#777777', size=46, ha='right', weight=800)\n",
    "#     ax.text(0, 1.06, 'Population (thousands)', transform=ax.transAxes, size=12, color='#777777')\n",
    "#     ax.xaxis.set_major_formatter(ticker.StrMethodFormatter('{x:,.0f}'))\n",
    "#     ax.xaxis.set_ticks_position('top')\n",
    "#     ax.tick_params(axis='x', colors='#777777', labelsize=12)\n",
    "#     ax.set_yticks([])\n",
    "#     ax.margins(0, 0.01)\n",
    "#     ax.grid(which='major', axis='x', linestyle='-')\n",
    "#     ax.set_axisbelow(True)\n",
    "    \n",
    "#     ax.text(0, 1.15, 'Coronavirus',\n",
    "#             transform=ax.transAxes, size=24, weight=600, ha='left', va='top')\n",
    "# #     ax.text(1, 0, 'by @pratapvardhan; credit @jburnmurdoch', transform=ax.transAxes, color='#777777', ha='right',\n",
    "# #             bbox=dict(facecolor='white', alpha=0.8, edgecolor='white'))\n",
    "#     plt.box(False)"
   ]
  },
  {
   "cell_type": "code",
   "execution_count": 42,
   "metadata": {
    "execution": {
     "iopub.execute_input": "2021-01-04T12:10:00.472547Z",
     "iopub.status.busy": "2021-01-04T12:10:00.471987Z",
     "iopub.status.idle": "2021-01-04T12:10:00.474543Z",
     "shell.execute_reply": "2021-01-04T12:10:00.475056Z"
    },
    "papermill": {
     "duration": 0.036077,
     "end_time": "2021-01-04T12:10:00.475191",
     "exception": false,
     "start_time": "2021-01-04T12:10:00.439114",
     "status": "completed"
    },
    "tags": []
   },
   "outputs": [],
   "source": [
    "# #hide_input\n",
    "# fig, ax = plt.subplots(figsize=(15, 8))\n",
    "# animator = animation.FuncAnimation(fig, draw_barchart, frames=range(g.day.values.min(), g.day.values.max()))\n",
    "# HTML(animator.to_jshtml())\n",
    "# # or use animator.to_html5_video() or animator.save() "
   ]
  },
  {
   "cell_type": "code",
   "execution_count": null,
   "metadata": {
    "papermill": {
     "duration": 0.028238,
     "end_time": "2021-01-04T12:10:00.531687",
     "exception": false,
     "start_time": "2021-01-04T12:10:00.503449",
     "status": "completed"
    },
    "tags": []
   },
   "outputs": [],
   "source": []
  },
  {
   "cell_type": "code",
   "execution_count": null,
   "metadata": {
    "papermill": {
     "duration": 0.029493,
     "end_time": "2021-01-04T12:10:00.591682",
     "exception": false,
     "start_time": "2021-01-04T12:10:00.562189",
     "status": "completed"
    },
    "tags": []
   },
   "outputs": [],
   "source": []
  },
  {
   "cell_type": "code",
   "execution_count": null,
   "metadata": {
    "papermill": {
     "duration": 0.029792,
     "end_time": "2021-01-04T12:10:00.651320",
     "exception": false,
     "start_time": "2021-01-04T12:10:00.621528",
     "status": "completed"
    },
    "tags": []
   },
   "outputs": [],
   "source": []
  }
 ],
 "metadata": {
  "kernelspec": {
   "display_name": "Python 3",
   "language": "python",
   "name": "python3"
  },
  "language_info": {
   "codemirror_mode": {
    "name": "ipython",
    "version": 3
   },
   "file_extension": ".py",
   "mimetype": "text/x-python",
   "name": "python",
   "nbconvert_exporter": "python",
   "pygments_lexer": "ipython3",
   "version": "3.6.12"
  },
  "papermill": {
   "duration": 6.825982,
   "end_time": "2021-01-04T12:10:00.989706",
   "environment_variables": {},
   "exception": null,
   "input_path": "2020-03-21-covid19exp.ipynb",
   "output_path": "2020-03-21-covid19exp.ipynb",
   "parameters": {},
   "start_time": "2021-01-04T12:09:54.163724",
   "version": "2.0.0"
  }
 },
 "nbformat": 4,
 "nbformat_minor": 4
}