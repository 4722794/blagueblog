{
 "cells": [
  {
   "cell_type": "markdown",
   "id": "muslim-click",
   "metadata": {
    "papermill": {
     "duration": 0.040629,
     "end_time": "2021-04-17T12:04:30.610004",
     "exception": false,
     "start_time": "2021-04-17T12:04:30.569375",
     "status": "completed"
    },
    "tags": []
   },
   "source": [
    "# COVID-19 Case Race\n",
    "> A race chart to see rising cases around the world\n",
    "\n",
    "- author: Hargun Oberoi\n",
    "- image: images/covid-overview.png\n",
    "- hide: false\n",
    "- badges: false"
   ]
  },
  {
   "cell_type": "code",
   "execution_count": 1,
   "id": "proof-material",
   "metadata": {
    "execution": {
     "iopub.execute_input": "2021-04-17T12:04:30.692270Z",
     "iopub.status.busy": "2021-04-17T12:04:30.691627Z",
     "iopub.status.idle": "2021-04-17T12:04:31.033559Z",
     "shell.execute_reply": "2021-04-17T12:04:31.032847Z"
    },
    "papermill": {
     "duration": 0.385798,
     "end_time": "2021-04-17T12:04:31.033750",
     "exception": false,
     "start_time": "2021-04-17T12:04:30.647952",
     "status": "completed"
    },
    "tags": []
   },
   "outputs": [],
   "source": [
    "#hide\n",
    "import numpy as np\n",
    "import pandas as pd\n",
    "from jinja2 import Template\n",
    "from IPython.display import HTML"
   ]
  },
  {
   "cell_type": "code",
   "execution_count": 2,
   "id": "developed-terminology",
   "metadata": {
    "execution": {
     "iopub.execute_input": "2021-04-17T12:04:31.114436Z",
     "iopub.status.busy": "2021-04-17T12:04:31.113659Z",
     "iopub.status.idle": "2021-04-17T12:04:31.115579Z",
     "shell.execute_reply": "2021-04-17T12:04:31.116131Z"
    },
    "papermill": {
     "duration": 0.044746,
     "end_time": "2021-04-17T12:04:31.116253",
     "exception": false,
     "start_time": "2021-04-17T12:04:31.071507",
     "status": "completed"
    },
    "tags": []
   },
   "outputs": [],
   "source": [
    "#hide\n",
    "\n",
    "# FETCH\n",
    "base_url = 'https://raw.githubusercontent.com/pratapvardhan/notebooks/master/covid19/'\n",
    "paths = {\n",
    "    'mapping': base_url + 'mapping_countries.csv',\n",
    "    'overview': base_url + 'overview.tpl'\n",
    "}"
   ]
  },
  {
   "cell_type": "code",
   "execution_count": 3,
   "id": "dynamic-saver",
   "metadata": {
    "execution": {
     "iopub.execute_input": "2021-04-17T12:04:31.199489Z",
     "iopub.status.busy": "2021-04-17T12:04:31.198931Z",
     "iopub.status.idle": "2021-04-17T12:04:31.201663Z",
     "shell.execute_reply": "2021-04-17T12:04:31.202266Z"
    },
    "papermill": {
     "duration": 0.051126,
     "end_time": "2021-04-17T12:04:31.202400",
     "exception": false,
     "start_time": "2021-04-17T12:04:31.151274",
     "status": "completed"
    },
    "tags": []
   },
   "outputs": [
    {
     "data": {
      "text/plain": [
       "'https://raw.githubusercontent.com/pratapvardhan/notebooks/master/covid19/mapping_countries.csv'"
      ]
     },
     "execution_count": 3,
     "metadata": {},
     "output_type": "execute_result"
    }
   ],
   "source": [
    "#hide\n",
    "paths['mapping']"
   ]
  },
  {
   "cell_type": "code",
   "execution_count": 4,
   "id": "urban-software",
   "metadata": {
    "execution": {
     "iopub.execute_input": "2021-04-17T12:04:31.279891Z",
     "iopub.status.busy": "2021-04-17T12:04:31.279173Z",
     "iopub.status.idle": "2021-04-17T12:04:31.281301Z",
     "shell.execute_reply": "2021-04-17T12:04:31.281849Z"
    },
    "papermill": {
     "duration": 0.045734,
     "end_time": "2021-04-17T12:04:31.282016",
     "exception": false,
     "start_time": "2021-04-17T12:04:31.236282",
     "status": "completed"
    },
    "tags": []
   },
   "outputs": [],
   "source": [
    "#hide\n",
    "def get_mappings(url):\n",
    "    df = pd.read_csv(url)\n",
    "    return {\n",
    "        'df': df,\n",
    "        'replace.country': dict(df.dropna(subset=['Name']).set_index('Country')['Name']),\n",
    "        'map.continent': dict(df.set_index('Name')['Continent'])\n",
    "    }"
   ]
  },
  {
   "cell_type": "code",
   "execution_count": 5,
   "id": "intimate-machinery",
   "metadata": {
    "execution": {
     "iopub.execute_input": "2021-04-17T12:04:31.365900Z",
     "iopub.status.busy": "2021-04-17T12:04:31.365263Z",
     "iopub.status.idle": "2021-04-17T12:04:31.403971Z",
     "shell.execute_reply": "2021-04-17T12:04:31.404542Z"
    },
    "papermill": {
     "duration": 0.082674,
     "end_time": "2021-04-17T12:04:31.404718",
     "exception": false,
     "start_time": "2021-04-17T12:04:31.322044",
     "status": "completed"
    },
    "tags": []
   },
   "outputs": [],
   "source": [
    "#hide\n",
    "mapping = get_mappings(paths['mapping'])"
   ]
  },
  {
   "cell_type": "code",
   "execution_count": 6,
   "id": "certified-tactics",
   "metadata": {
    "execution": {
     "iopub.execute_input": "2021-04-17T12:04:31.484644Z",
     "iopub.status.busy": "2021-04-17T12:04:31.483899Z",
     "iopub.status.idle": "2021-04-17T12:04:31.486716Z",
     "shell.execute_reply": "2021-04-17T12:04:31.486147Z"
    },
    "papermill": {
     "duration": 0.044238,
     "end_time": "2021-04-17T12:04:31.486829",
     "exception": false,
     "start_time": "2021-04-17T12:04:31.442591",
     "status": "completed"
    },
    "tags": []
   },
   "outputs": [],
   "source": [
    "#hide\n",
    "def get_template(path):\n",
    "    from urllib.parse import urlparse\n",
    "    if bool(urlparse(path).netloc):\n",
    "        from urllib.request import urlopen\n",
    "        return urlopen(path).read().decode('utf8')\n",
    "    return open(path).read()"
   ]
  },
  {
   "cell_type": "code",
   "execution_count": 7,
   "id": "realistic-blast",
   "metadata": {
    "execution": {
     "iopub.execute_input": "2021-04-17T12:04:31.561581Z",
     "iopub.status.busy": "2021-04-17T12:04:31.561044Z",
     "iopub.status.idle": "2021-04-17T12:04:31.563571Z",
     "shell.execute_reply": "2021-04-17T12:04:31.563076Z"
    },
    "papermill": {
     "duration": 0.040879,
     "end_time": "2021-04-17T12:04:31.563798",
     "exception": false,
     "start_time": "2021-04-17T12:04:31.522919",
     "status": "completed"
    },
    "tags": []
   },
   "outputs": [],
   "source": [
    "#hide\n",
    "def get_frame(name):\n",
    "    url = (\n",
    "        'https://raw.githubusercontent.com/CSSEGISandData/COVID-19/master/csse_covid_19_data/'\n",
    "        f'csse_covid_19_time_series/time_series_covid19_{name}_global.csv')\n",
    "    df = pd.read_csv(url)\n",
    "    # rename countries\n",
    "    df['Country/Region'] = df['Country/Region'].replace(mapping['replace.country'])\n",
    "    return df"
   ]
  },
  {
   "cell_type": "code",
   "execution_count": 8,
   "id": "affiliated-characterization",
   "metadata": {
    "execution": {
     "iopub.execute_input": "2021-04-17T12:04:31.643804Z",
     "iopub.status.busy": "2021-04-17T12:04:31.643162Z",
     "iopub.status.idle": "2021-04-17T12:04:31.644995Z",
     "shell.execute_reply": "2021-04-17T12:04:31.645503Z"
    },
    "papermill": {
     "duration": 0.044587,
     "end_time": "2021-04-17T12:04:31.645632",
     "exception": false,
     "start_time": "2021-04-17T12:04:31.601045",
     "status": "completed"
    },
    "tags": []
   },
   "outputs": [],
   "source": [
    "#hide\n",
    "def get_dates(df):\n",
    "    dt_cols = df.columns[~df.columns.isin(['Province/State', 'Country/Region', 'Lat', 'Long'])]\n",
    "    LAST_DATE_I = -1\n",
    "    # sometimes last column may be empty, then go backwards\n",
    "    for i in range(-1, -len(dt_cols), -1):\n",
    "        if not df[dt_cols[i]].fillna(0).eq(0).all():\n",
    "            LAST_DATE_I = i\n",
    "            break\n",
    "    return LAST_DATE_I, dt_cols"
   ]
  },
  {
   "cell_type": "code",
   "execution_count": 9,
   "id": "recent-optimization",
   "metadata": {
    "execution": {
     "iopub.execute_input": "2021-04-17T12:04:31.723701Z",
     "iopub.status.busy": "2021-04-17T12:04:31.723133Z",
     "iopub.status.idle": "2021-04-17T12:04:32.075256Z",
     "shell.execute_reply": "2021-04-17T12:04:32.074753Z"
    },
    "papermill": {
     "duration": 0.394478,
     "end_time": "2021-04-17T12:04:32.075402",
     "exception": false,
     "start_time": "2021-04-17T12:04:31.680924",
     "status": "completed"
    },
    "tags": []
   },
   "outputs": [],
   "source": [
    "#hide\n",
    "COL_REGION = 'Country/Region'\n",
    "# Confirmed, Recovered, Deaths\n",
    "df = get_frame('confirmed')\n",
    "# dft_: timeseries, dfc_: today country agg\n",
    "dft_cases = df\n",
    "dft_deaths = get_frame('deaths')\n",
    "dft_recovered = get_frame('recovered')\n",
    "LAST_DATE_I, dt_cols = get_dates(df)"
   ]
  },
  {
   "cell_type": "code",
   "execution_count": 10,
   "id": "absolute-copper",
   "metadata": {
    "execution": {
     "iopub.execute_input": "2021-04-17T12:04:32.153864Z",
     "iopub.status.busy": "2021-04-17T12:04:32.153317Z",
     "iopub.status.idle": "2021-04-17T12:04:32.156463Z",
     "shell.execute_reply": "2021-04-17T12:04:32.155799Z"
    },
    "papermill": {
     "duration": 0.044549,
     "end_time": "2021-04-17T12:04:32.156571",
     "exception": false,
     "start_time": "2021-04-17T12:04:32.112022",
     "status": "completed"
    },
    "tags": []
   },
   "outputs": [],
   "source": [
    "#hide\n",
    "LAST_DATE_I, dt_cols = get_dates(df)\n",
    "dt_today =dt_cols[LAST_DATE_I]\n",
    "# dt_5day = dt_cols[LAST_DATE_I - 5]\n",
    "dt_yday = dt_cols[LAST_DATE_I - 1]"
   ]
  },
  {
   "cell_type": "code",
   "execution_count": 11,
   "id": "restricted-sheriff",
   "metadata": {
    "execution": {
     "iopub.execute_input": "2021-04-17T12:04:32.235254Z",
     "iopub.status.busy": "2021-04-17T12:04:32.234682Z",
     "iopub.status.idle": "2021-04-17T12:04:32.243542Z",
     "shell.execute_reply": "2021-04-17T12:04:32.244051Z"
    },
    "papermill": {
     "duration": 0.051851,
     "end_time": "2021-04-17T12:04:32.244193",
     "exception": false,
     "start_time": "2021-04-17T12:04:32.192342",
     "status": "completed"
    },
    "tags": []
   },
   "outputs": [],
   "source": [
    "#hide\n",
    "dfc_cases = dft_cases.groupby(COL_REGION)[dt_today].sum()\n",
    "dfc_deaths = dft_deaths.groupby(COL_REGION)[dt_today].sum()\n",
    "# dfp_cases = dft_cases.groupby(COL_REGION)[dt_5day].sum()\n",
    "# dfp_deaths = dft_deaths.groupby(COL_REGION)[dt_5day].sum()\n",
    "dfp_cases = dft_cases.groupby(COL_REGION)[dt_yday].sum()\n",
    "dfp_deaths = dft_deaths.groupby(COL_REGION)[dt_yday].sum()"
   ]
  },
  {
   "cell_type": "code",
   "execution_count": 12,
   "id": "deluxe-hepatitis",
   "metadata": {
    "execution": {
     "iopub.execute_input": "2021-04-17T12:04:32.326122Z",
     "iopub.status.busy": "2021-04-17T12:04:32.325503Z",
     "iopub.status.idle": "2021-04-17T12:04:32.331487Z",
     "shell.execute_reply": "2021-04-17T12:04:32.330897Z"
    },
    "papermill": {
     "duration": 0.053233,
     "end_time": "2021-04-17T12:04:32.331606",
     "exception": false,
     "start_time": "2021-04-17T12:04:32.278373",
     "status": "completed"
    },
    "tags": []
   },
   "outputs": [],
   "source": [
    "#hide\n",
    "df_table = (pd.DataFrame(dict(Cases = dfc_cases, Deaths = dfc_deaths, PCases = dfp_cases, PDeaths = dfp_deaths))\n",
    "            .sort_values(by = ['Cases','Deaths'], ascending = [False, False])\n",
    "            .reset_index())"
   ]
  },
  {
   "cell_type": "code",
   "execution_count": 13,
   "id": "educational-chancellor",
   "metadata": {
    "execution": {
     "iopub.execute_input": "2021-04-17T12:04:32.425459Z",
     "iopub.status.busy": "2021-04-17T12:04:32.424815Z",
     "iopub.status.idle": "2021-04-17T12:04:32.433310Z",
     "shell.execute_reply": "2021-04-17T12:04:32.433847Z"
    },
    "papermill": {
     "duration": 0.065107,
     "end_time": "2021-04-17T12:04:32.433973",
     "exception": false,
     "start_time": "2021-04-17T12:04:32.368866",
     "status": "completed"
    },
    "tags": []
   },
   "outputs": [
    {
     "data": {
      "text/html": [
       "<div>\n",
       "<style scoped>\n",
       "    .dataframe tbody tr th:only-of-type {\n",
       "        vertical-align: middle;\n",
       "    }\n",
       "\n",
       "    .dataframe tbody tr th {\n",
       "        vertical-align: top;\n",
       "    }\n",
       "\n",
       "    .dataframe thead th {\n",
       "        text-align: right;\n",
       "    }\n",
       "</style>\n",
       "<table border=\"1\" class=\"dataframe\">\n",
       "  <thead>\n",
       "    <tr style=\"text-align: right;\">\n",
       "      <th></th>\n",
       "      <th>Country/Region</th>\n",
       "      <th>Cases</th>\n",
       "      <th>Deaths</th>\n",
       "      <th>PCases</th>\n",
       "      <th>PDeaths</th>\n",
       "      <th>Cases (+)</th>\n",
       "      <th>Deaths (+)</th>\n",
       "      <th>Fatality Rate</th>\n",
       "      <th>Continent</th>\n",
       "    </tr>\n",
       "  </thead>\n",
       "  <tbody>\n",
       "    <tr>\n",
       "      <th>0</th>\n",
       "      <td>US</td>\n",
       "      <td>31575640</td>\n",
       "      <td>566224</td>\n",
       "      <td>31495649</td>\n",
       "      <td>565289</td>\n",
       "      <td>79991</td>\n",
       "      <td>935</td>\n",
       "      <td>1.79</td>\n",
       "      <td>North America</td>\n",
       "    </tr>\n",
       "    <tr>\n",
       "      <th>1</th>\n",
       "      <td>India</td>\n",
       "      <td>14526609</td>\n",
       "      <td>175649</td>\n",
       "      <td>14291917</td>\n",
       "      <td>174308</td>\n",
       "      <td>234692</td>\n",
       "      <td>1341</td>\n",
       "      <td>1.21</td>\n",
       "      <td>Asia</td>\n",
       "    </tr>\n",
       "    <tr>\n",
       "      <th>2</th>\n",
       "      <td>Brazil</td>\n",
       "      <td>13832455</td>\n",
       "      <td>368749</td>\n",
       "      <td>13746681</td>\n",
       "      <td>365444</td>\n",
       "      <td>85774</td>\n",
       "      <td>3305</td>\n",
       "      <td>2.67</td>\n",
       "      <td>South America</td>\n",
       "    </tr>\n",
       "    <tr>\n",
       "      <th>3</th>\n",
       "      <td>France</td>\n",
       "      <td>5285304</td>\n",
       "      <td>100563</td>\n",
       "      <td>5248853</td>\n",
       "      <td>100232</td>\n",
       "      <td>36451</td>\n",
       "      <td>331</td>\n",
       "      <td>1.90</td>\n",
       "      <td>Europe</td>\n",
       "    </tr>\n",
       "    <tr>\n",
       "      <th>4</th>\n",
       "      <td>Russia</td>\n",
       "      <td>4631336</td>\n",
       "      <td>103059</td>\n",
       "      <td>4622464</td>\n",
       "      <td>102667</td>\n",
       "      <td>8872</td>\n",
       "      <td>392</td>\n",
       "      <td>2.23</td>\n",
       "      <td>Europe</td>\n",
       "    </tr>\n",
       "  </tbody>\n",
       "</table>\n",
       "</div>"
      ],
      "text/plain": [
       "  Country/Region     Cases  Deaths    PCases  PDeaths  Cases (+)  Deaths (+)  \\\n",
       "0             US  31575640  566224  31495649   565289      79991         935   \n",
       "1          India  14526609  175649  14291917   174308     234692        1341   \n",
       "2         Brazil  13832455  368749  13746681   365444      85774        3305   \n",
       "3         France   5285304  100563   5248853   100232      36451         331   \n",
       "4         Russia   4631336  103059   4622464   102667       8872         392   \n",
       "\n",
       "   Fatality Rate      Continent  \n",
       "0           1.79  North America  \n",
       "1           1.21           Asia  \n",
       "2           2.67  South America  \n",
       "3           1.90         Europe  \n",
       "4           2.23         Europe  "
      ]
     },
     "execution_count": 13,
     "metadata": {},
     "output_type": "execute_result"
    }
   ],
   "source": [
    "#hide\n",
    "for c in 'Cases, Deaths'.split(', '):\n",
    "    df_table[f'{c} (+)'] = (df_table[c] - df_table[f'P{c}']).clip(0)\n",
    "    #Clip ça veut dire, les chiffres negatif sont interdit\n",
    "df_table['Fatality Rate'] = (100* df_table['Deaths']/ df_table['Cases']).round(2)\n",
    "df_table['Continent'] = df_table['Country/Region'].map(mapping['map.continent'])\n",
    "df_table.head(5)"
   ]
  },
  {
   "cell_type": "code",
   "execution_count": 14,
   "id": "aboriginal-bulgaria",
   "metadata": {
    "execution": {
     "iopub.execute_input": "2021-04-17T12:04:32.515672Z",
     "iopub.status.busy": "2021-04-17T12:04:32.515079Z",
     "iopub.status.idle": "2021-04-17T12:04:32.517640Z",
     "shell.execute_reply": "2021-04-17T12:04:32.516989Z"
    },
    "papermill": {
     "duration": 0.045814,
     "end_time": "2021-04-17T12:04:32.517751",
     "exception": false,
     "start_time": "2021-04-17T12:04:32.471937",
     "status": "completed"
    },
    "tags": []
   },
   "outputs": [],
   "source": [
    "#hide\n",
    "#delete problematic countries from table\n",
    "df_table = df_table[~df_table['Country/Region'].isin(['Cape Verde', 'Cruise Ship', 'Kosovo'])]"
   ]
  },
  {
   "cell_type": "code",
   "execution_count": 15,
   "id": "fantastic-effect",
   "metadata": {
    "execution": {
     "iopub.execute_input": "2021-04-17T12:04:32.598805Z",
     "iopub.status.busy": "2021-04-17T12:04:32.598158Z",
     "iopub.status.idle": "2021-04-17T12:04:32.621705Z",
     "shell.execute_reply": "2021-04-17T12:04:32.620706Z"
    },
    "papermill": {
     "duration": 0.067403,
     "end_time": "2021-04-17T12:04:32.622086",
     "exception": false,
     "start_time": "2021-04-17T12:04:32.554683",
     "status": "completed"
    },
    "tags": []
   },
   "outputs": [
    {
     "data": {
      "text/html": [
       "<div>\n",
       "<style scoped>\n",
       "    .dataframe tbody tr th:only-of-type {\n",
       "        vertical-align: middle;\n",
       "    }\n",
       "\n",
       "    .dataframe tbody tr th {\n",
       "        vertical-align: top;\n",
       "    }\n",
       "\n",
       "    .dataframe thead th {\n",
       "        text-align: right;\n",
       "    }\n",
       "</style>\n",
       "<table border=\"1\" class=\"dataframe\">\n",
       "  <thead>\n",
       "    <tr style=\"text-align: right;\">\n",
       "      <th></th>\n",
       "      <th>Country/Region</th>\n",
       "      <th>Cases</th>\n",
       "      <th>Deaths</th>\n",
       "      <th>PCases</th>\n",
       "      <th>PDeaths</th>\n",
       "      <th>Cases (+)</th>\n",
       "      <th>Deaths (+)</th>\n",
       "      <th>Fatality Rate</th>\n",
       "      <th>Continent</th>\n",
       "    </tr>\n",
       "  </thead>\n",
       "  <tbody>\n",
       "    <tr>\n",
       "      <th>0</th>\n",
       "      <td>US</td>\n",
       "      <td>31575640</td>\n",
       "      <td>566224</td>\n",
       "      <td>31495649</td>\n",
       "      <td>565289</td>\n",
       "      <td>79991</td>\n",
       "      <td>935</td>\n",
       "      <td>1.8</td>\n",
       "      <td>North America</td>\n",
       "    </tr>\n",
       "    <tr>\n",
       "      <th>1</th>\n",
       "      <td>India</td>\n",
       "      <td>14526609</td>\n",
       "      <td>175649</td>\n",
       "      <td>14291917</td>\n",
       "      <td>174308</td>\n",
       "      <td>234692</td>\n",
       "      <td>1341</td>\n",
       "      <td>1.2</td>\n",
       "      <td>Asia</td>\n",
       "    </tr>\n",
       "    <tr>\n",
       "      <th>2</th>\n",
       "      <td>Brazil</td>\n",
       "      <td>13832455</td>\n",
       "      <td>368749</td>\n",
       "      <td>13746681</td>\n",
       "      <td>365444</td>\n",
       "      <td>85774</td>\n",
       "      <td>3305</td>\n",
       "      <td>2.7</td>\n",
       "      <td>South America</td>\n",
       "    </tr>\n",
       "    <tr>\n",
       "      <th>3</th>\n",
       "      <td>France</td>\n",
       "      <td>5285304</td>\n",
       "      <td>100563</td>\n",
       "      <td>5248853</td>\n",
       "      <td>100232</td>\n",
       "      <td>36451</td>\n",
       "      <td>331</td>\n",
       "      <td>1.9</td>\n",
       "      <td>Europe</td>\n",
       "    </tr>\n",
       "    <tr>\n",
       "      <th>4</th>\n",
       "      <td>Russia</td>\n",
       "      <td>4631336</td>\n",
       "      <td>103059</td>\n",
       "      <td>4622464</td>\n",
       "      <td>102667</td>\n",
       "      <td>8872</td>\n",
       "      <td>392</td>\n",
       "      <td>2.2</td>\n",
       "      <td>Europe</td>\n",
       "    </tr>\n",
       "  </tbody>\n",
       "</table>\n",
       "</div>"
      ],
      "text/plain": [
       "  Country/Region     Cases  Deaths    PCases  PDeaths  Cases (+)  Deaths (+)  \\\n",
       "0             US  31575640  566224  31495649   565289      79991         935   \n",
       "1          India  14526609  175649  14291917   174308     234692        1341   \n",
       "2         Brazil  13832455  368749  13746681   365444      85774        3305   \n",
       "3         France   5285304  100563   5248853   100232      36451         331   \n",
       "4         Russia   4631336  103059   4622464   102667       8872         392   \n",
       "\n",
       "   Fatality Rate      Continent  \n",
       "0            1.8  North America  \n",
       "1            1.2           Asia  \n",
       "2            2.7  South America  \n",
       "3            1.9         Europe  \n",
       "4            2.2         Europe  "
      ]
     },
     "execution_count": 15,
     "metadata": {},
     "output_type": "execute_result"
    }
   ],
   "source": [
    "#hide\n",
    "df_table = (pd.DataFrame(dict(Cases=dfc_cases, Deaths=dfc_deaths, PCases=dfp_cases, PDeaths=dfp_deaths))\n",
    "             .sort_values(by=['Cases', 'Deaths'], ascending=[False, False])\n",
    "             .reset_index())\n",
    "df_table.rename(columns={'index': 'Country/Region'}, inplace=True)\n",
    "for c in 'Cases, Deaths'.split(', '):\n",
    "    df_table[f'{c} (+)'] = (df_table[c] - df_table[f'P{c}']).clip(0)  # DATA BUG\n",
    "df_table['Fatality Rate'] = (100 * df_table['Deaths'] / df_table['Cases']).round(1)\n",
    "df_table['Continent'] = df_table['Country/Region'].map(mapping['map.continent'])\n",
    "df_table.head(5)"
   ]
  },
  {
   "cell_type": "code",
   "execution_count": 16,
   "id": "fewer-occasion",
   "metadata": {
    "execution": {
     "iopub.execute_input": "2021-04-17T12:04:32.700376Z",
     "iopub.status.busy": "2021-04-17T12:04:32.699652Z",
     "iopub.status.idle": "2021-04-17T12:04:32.702782Z",
     "shell.execute_reply": "2021-04-17T12:04:32.703318Z"
    },
    "papermill": {
     "duration": 0.043576,
     "end_time": "2021-04-17T12:04:32.703438",
     "exception": false,
     "start_time": "2021-04-17T12:04:32.659862",
     "status": "completed"
    },
    "tags": []
   },
   "outputs": [],
   "source": [
    "#hide\n",
    "#delete problematic countries from table\n",
    "df_table = df_table[~df_table['Country/Region'].isin(['Cape Verde', 'Cruise Ship', 'Kosovo'])]"
   ]
  },
  {
   "cell_type": "code",
   "execution_count": 17,
   "id": "related-center",
   "metadata": {
    "execution": {
     "iopub.execute_input": "2021-04-17T12:04:32.793543Z",
     "iopub.status.busy": "2021-04-17T12:04:32.793009Z",
     "iopub.status.idle": "2021-04-17T12:04:32.795635Z",
     "shell.execute_reply": "2021-04-17T12:04:32.795197Z"
    },
    "papermill": {
     "duration": 0.055916,
     "end_time": "2021-04-17T12:04:32.795736",
     "exception": false,
     "start_time": "2021-04-17T12:04:32.739820",
     "status": "completed"
    },
    "tags": []
   },
   "outputs": [],
   "source": [
    "#hide\n",
    "metrics = [df_table.columns[index] for index in [1,2,5,6]]\n",
    "# s_china = df_table[df_table['Country/Region'].eq('China')][metrics].sum().add_prefix('China ')\n",
    "s_us = df_table[df_table['Country/Region'].eq('US')][metrics].sum().add_prefix('US ')\n",
    "s_eu = df_table[df_table['Continent'].eq('Europe')][metrics].sum().add_prefix('EU ')\n",
    "s_ind = df_table[df_table['Country/Region'].eq('India')][metrics].sum().add_prefix('India ')\n",
    "summary = {'updated': pd.to_datetime(dt_today), 'since': pd.to_datetime(dt_yday)}\n",
    "summary = {'updated': pd.to_datetime(dt_today), 'since': pd.to_datetime(dt_yday)}\n",
    "summary = {**summary, **df_table[metrics].sum(), **s_ind, **s_us, **s_eu}"
   ]
  },
  {
   "cell_type": "code",
   "execution_count": 18,
   "id": "engaging-syndrome",
   "metadata": {
    "execution": {
     "iopub.execute_input": "2021-04-17T12:04:32.877415Z",
     "iopub.status.busy": "2021-04-17T12:04:32.876796Z",
     "iopub.status.idle": "2021-04-17T12:04:32.888709Z",
     "shell.execute_reply": "2021-04-17T12:04:32.888230Z"
    },
    "papermill": {
     "duration": 0.056515,
     "end_time": "2021-04-17T12:04:32.888822",
     "exception": false,
     "start_time": "2021-04-17T12:04:32.832307",
     "status": "completed"
    },
    "tags": []
   },
   "outputs": [],
   "source": [
    "#hide\n",
    "dft_ct_new_cases = dft_cases.groupby(COL_REGION)[dt_cols].sum().diff(axis=1).fillna(0).astype(int)"
   ]
  },
  {
   "cell_type": "code",
   "execution_count": 19,
   "id": "neutral-assignment",
   "metadata": {
    "execution": {
     "iopub.execute_input": "2021-04-17T12:04:32.974767Z",
     "iopub.status.busy": "2021-04-17T12:04:32.974148Z",
     "iopub.status.idle": "2021-04-17T12:04:32.976439Z",
     "shell.execute_reply": "2021-04-17T12:04:32.975716Z"
    },
    "papermill": {
     "duration": 0.049525,
     "end_time": "2021-04-17T12:04:32.976574",
     "exception": false,
     "start_time": "2021-04-17T12:04:32.927049",
     "status": "completed"
    },
    "tags": []
   },
   "outputs": [],
   "source": [
    "#hide\n",
    "everydaycases = dft_ct_new_cases.cumsum(axis=1)"
   ]
  },
  {
   "cell_type": "code",
   "execution_count": 20,
   "id": "parliamentary-calgary",
   "metadata": {
    "execution": {
     "iopub.execute_input": "2021-04-17T12:04:33.058580Z",
     "iopub.status.busy": "2021-04-17T12:04:33.057842Z",
     "iopub.status.idle": "2021-04-17T12:04:33.595982Z",
     "shell.execute_reply": "2021-04-17T12:04:33.595268Z"
    },
    "papermill": {
     "duration": 0.582505,
     "end_time": "2021-04-17T12:04:33.596214",
     "exception": false,
     "start_time": "2021-04-17T12:04:33.013709",
     "status": "completed"
    },
    "tags": []
   },
   "outputs": [],
   "source": [
    "#hide\n",
    "import pandas as pd\n",
    "import matplotlib.pyplot as plt\n",
    "import matplotlib.ticker as ticker\n",
    "import matplotlib.animation as animation\n",
    "from IPython.display import HTML"
   ]
  },
  {
   "cell_type": "code",
   "execution_count": 21,
   "id": "lasting-extraction",
   "metadata": {
    "execution": {
     "iopub.execute_input": "2021-04-17T12:04:33.679426Z",
     "iopub.status.busy": "2021-04-17T12:04:33.678708Z",
     "iopub.status.idle": "2021-04-17T12:04:33.684249Z",
     "shell.execute_reply": "2021-04-17T12:04:33.683762Z"
    },
    "papermill": {
     "duration": 0.044837,
     "end_time": "2021-04-17T12:04:33.684403",
     "exception": false,
     "start_time": "2021-04-17T12:04:33.639566",
     "status": "completed"
    },
    "tags": []
   },
   "outputs": [],
   "source": [
    "#hide\n",
    "t = everydaycases.stack()"
   ]
  },
  {
   "cell_type": "code",
   "execution_count": 22,
   "id": "premier-sleeve",
   "metadata": {
    "execution": {
     "iopub.execute_input": "2021-04-17T12:04:33.763931Z",
     "iopub.status.busy": "2021-04-17T12:04:33.763290Z",
     "iopub.status.idle": "2021-04-17T12:04:33.771347Z",
     "shell.execute_reply": "2021-04-17T12:04:33.770858Z"
    },
    "papermill": {
     "duration": 0.052406,
     "end_time": "2021-04-17T12:04:33.771450",
     "exception": false,
     "start_time": "2021-04-17T12:04:33.719044",
     "status": "completed"
    },
    "tags": []
   },
   "outputs": [],
   "source": [
    "#hide\n",
    "g = t.reset_index(['Country/Region'])"
   ]
  },
  {
   "cell_type": "code",
   "execution_count": 23,
   "id": "distributed-pittsburgh",
   "metadata": {
    "execution": {
     "iopub.execute_input": "2021-04-17T12:04:33.849677Z",
     "iopub.status.busy": "2021-04-17T12:04:33.849046Z",
     "iopub.status.idle": "2021-04-17T12:04:33.851681Z",
     "shell.execute_reply": "2021-04-17T12:04:33.851018Z"
    },
    "papermill": {
     "duration": 0.043879,
     "end_time": "2021-04-17T12:04:33.851796",
     "exception": false,
     "start_time": "2021-04-17T12:04:33.807917",
     "status": "completed"
    },
    "tags": []
   },
   "outputs": [],
   "source": [
    "#hide\n",
    "g.index.name = 'date'"
   ]
  },
  {
   "cell_type": "code",
   "execution_count": 24,
   "id": "naked-donor",
   "metadata": {
    "execution": {
     "iopub.execute_input": "2021-04-17T12:04:33.923658Z",
     "iopub.status.busy": "2021-04-17T12:04:33.922938Z",
     "iopub.status.idle": "2021-04-17T12:04:33.925479Z",
     "shell.execute_reply": "2021-04-17T12:04:33.924978Z"
    },
    "papermill": {
     "duration": 0.040036,
     "end_time": "2021-04-17T12:04:33.925577",
     "exception": false,
     "start_time": "2021-04-17T12:04:33.885541",
     "status": "completed"
    },
    "tags": []
   },
   "outputs": [],
   "source": [
    "# #hide\n",
    "# g = g.reset_index(['date'])"
   ]
  },
  {
   "cell_type": "code",
   "execution_count": 25,
   "id": "incomplete-mustang",
   "metadata": {
    "execution": {
     "iopub.execute_input": "2021-04-17T12:04:34.003233Z",
     "iopub.status.busy": "2021-04-17T12:04:34.002603Z",
     "iopub.status.idle": "2021-04-17T12:04:34.004276Z",
     "shell.execute_reply": "2021-04-17T12:04:34.004755Z"
    },
    "papermill": {
     "duration": 0.041579,
     "end_time": "2021-04-17T12:04:34.004891",
     "exception": false,
     "start_time": "2021-04-17T12:04:33.963312",
     "status": "completed"
    },
    "tags": []
   },
   "outputs": [],
   "source": [
    "#hide\n",
    "# g.head()"
   ]
  },
  {
   "cell_type": "code",
   "execution_count": 26,
   "id": "specific-kruger",
   "metadata": {
    "execution": {
     "iopub.execute_input": "2021-04-17T12:04:34.080746Z",
     "iopub.status.busy": "2021-04-17T12:04:34.080092Z",
     "iopub.status.idle": "2021-04-17T12:04:34.082393Z",
     "shell.execute_reply": "2021-04-17T12:04:34.081822Z"
    },
    "papermill": {
     "duration": 0.042439,
     "end_time": "2021-04-17T12:04:34.082504",
     "exception": false,
     "start_time": "2021-04-17T12:04:34.040065",
     "status": "completed"
    },
    "tags": []
   },
   "outputs": [],
   "source": [
    "#hide\n",
    "# g.columns = ['date','country','cases']"
   ]
  },
  {
   "cell_type": "code",
   "execution_count": 27,
   "id": "tender-conversion",
   "metadata": {
    "execution": {
     "iopub.execute_input": "2021-04-17T12:04:34.165602Z",
     "iopub.status.busy": "2021-04-17T12:04:34.165022Z",
     "iopub.status.idle": "2021-04-17T12:04:34.167783Z",
     "shell.execute_reply": "2021-04-17T12:04:34.167302Z"
    },
    "papermill": {
     "duration": 0.046967,
     "end_time": "2021-04-17T12:04:34.167891",
     "exception": false,
     "start_time": "2021-04-17T12:04:34.120924",
     "status": "completed"
    },
    "tags": []
   },
   "outputs": [],
   "source": [
    "#hide\n",
    "# g['continent'] = g.country"
   ]
  },
  {
   "cell_type": "code",
   "execution_count": 28,
   "id": "substantial-wilderness",
   "metadata": {
    "execution": {
     "iopub.execute_input": "2021-04-17T12:04:34.245443Z",
     "iopub.status.busy": "2021-04-17T12:04:34.244690Z",
     "iopub.status.idle": "2021-04-17T12:04:34.247150Z",
     "shell.execute_reply": "2021-04-17T12:04:34.247642Z"
    },
    "papermill": {
     "duration": 0.042602,
     "end_time": "2021-04-17T12:04:34.247769",
     "exception": false,
     "start_time": "2021-04-17T12:04:34.205167",
     "status": "completed"
    },
    "tags": []
   },
   "outputs": [],
   "source": [
    "#hide\n",
    "# cols = list(g.columns.values)"
   ]
  },
  {
   "cell_type": "code",
   "execution_count": 29,
   "id": "solved-farming",
   "metadata": {
    "execution": {
     "iopub.execute_input": "2021-04-17T12:04:34.321362Z",
     "iopub.status.busy": "2021-04-17T12:04:34.320789Z",
     "iopub.status.idle": "2021-04-17T12:04:34.322777Z",
     "shell.execute_reply": "2021-04-17T12:04:34.323281Z"
    },
    "papermill": {
     "duration": 0.040106,
     "end_time": "2021-04-17T12:04:34.323390",
     "exception": false,
     "start_time": "2021-04-17T12:04:34.283284",
     "status": "completed"
    },
    "tags": []
   },
   "outputs": [],
   "source": [
    "#hide\n",
    "# cols.insert(0, cols.pop())"
   ]
  },
  {
   "cell_type": "code",
   "execution_count": 30,
   "id": "executed-adoption",
   "metadata": {
    "execution": {
     "iopub.execute_input": "2021-04-17T12:04:34.403399Z",
     "iopub.status.busy": "2021-04-17T12:04:34.402853Z",
     "iopub.status.idle": "2021-04-17T12:04:34.404897Z",
     "shell.execute_reply": "2021-04-17T12:04:34.405401Z"
    },
    "papermill": {
     "duration": 0.043232,
     "end_time": "2021-04-17T12:04:34.405537",
     "exception": false,
     "start_time": "2021-04-17T12:04:34.362305",
     "status": "completed"
    },
    "tags": []
   },
   "outputs": [],
   "source": [
    "#hide\n",
    "# g = g[cols]"
   ]
  },
  {
   "cell_type": "code",
   "execution_count": 31,
   "id": "subject-dublin",
   "metadata": {
    "execution": {
     "iopub.execute_input": "2021-04-17T12:04:34.497016Z",
     "iopub.status.busy": "2021-04-17T12:04:34.496218Z",
     "iopub.status.idle": "2021-04-17T12:04:34.499020Z",
     "shell.execute_reply": "2021-04-17T12:04:34.499862Z"
    },
    "papermill": {
     "duration": 0.053001,
     "end_time": "2021-04-17T12:04:34.500012",
     "exception": false,
     "start_time": "2021-04-17T12:04:34.447011",
     "status": "completed"
    },
    "tags": []
   },
   "outputs": [],
   "source": [
    "#hide\n",
    "# g['continent'] = g['continent'].map(mapping['map.continent'])"
   ]
  },
  {
   "cell_type": "code",
   "execution_count": 32,
   "id": "freelance-scout",
   "metadata": {
    "execution": {
     "iopub.execute_input": "2021-04-17T12:04:34.578088Z",
     "iopub.status.busy": "2021-04-17T12:04:34.577260Z",
     "iopub.status.idle": "2021-04-17T12:04:34.579678Z",
     "shell.execute_reply": "2021-04-17T12:04:34.580468Z"
    },
    "papermill": {
     "duration": 0.043806,
     "end_time": "2021-04-17T12:04:34.580615",
     "exception": false,
     "start_time": "2021-04-17T12:04:34.536809",
     "status": "completed"
    },
    "tags": []
   },
   "outputs": [],
   "source": [
    "#hide\n",
    "# g.head()"
   ]
  },
  {
   "cell_type": "code",
   "execution_count": 33,
   "id": "limited-engine",
   "metadata": {
    "execution": {
     "iopub.execute_input": "2021-04-17T12:04:34.657649Z",
     "iopub.status.busy": "2021-04-17T12:04:34.656976Z",
     "iopub.status.idle": "2021-04-17T12:04:34.660500Z",
     "shell.execute_reply": "2021-04-17T12:04:34.659353Z"
    },
    "papermill": {
     "duration": 0.044288,
     "end_time": "2021-04-17T12:04:34.660615",
     "exception": false,
     "start_time": "2021-04-17T12:04:34.616327",
     "status": "completed"
    },
    "tags": []
   },
   "outputs": [],
   "source": [
    "# hide\n",
    "# g['date'] = g['date'].astype('datetime64[ns]')"
   ]
  },
  {
   "cell_type": "code",
   "execution_count": 34,
   "id": "sophisticated-supervisor",
   "metadata": {
    "execution": {
     "iopub.execute_input": "2021-04-17T12:04:34.740458Z",
     "iopub.status.busy": "2021-04-17T12:04:34.738792Z",
     "iopub.status.idle": "2021-04-17T12:04:34.741256Z",
     "shell.execute_reply": "2021-04-17T12:04:34.741896Z"
    },
    "papermill": {
     "duration": 0.044876,
     "end_time": "2021-04-17T12:04:34.742054",
     "exception": false,
     "start_time": "2021-04-17T12:04:34.697178",
     "status": "completed"
    },
    "tags": []
   },
   "outputs": [],
   "source": [
    "#hide\n",
    "# g['date'] = g.date.dt.dayofyear"
   ]
  },
  {
   "cell_type": "code",
   "execution_count": 35,
   "id": "inside-dubai",
   "metadata": {
    "execution": {
     "iopub.execute_input": "2021-04-17T12:04:34.818691Z",
     "iopub.status.busy": "2021-04-17T12:04:34.818095Z",
     "iopub.status.idle": "2021-04-17T12:04:34.820774Z",
     "shell.execute_reply": "2021-04-17T12:04:34.820070Z"
    },
    "papermill": {
     "duration": 0.043418,
     "end_time": "2021-04-17T12:04:34.820950",
     "exception": false,
     "start_time": "2021-04-17T12:04:34.777532",
     "status": "completed"
    },
    "tags": []
   },
   "outputs": [],
   "source": [
    "#hide\n",
    "# g = g.rename(columns= {'continent':'group','country':'name','cases':'value'})"
   ]
  },
  {
   "cell_type": "code",
   "execution_count": 36,
   "id": "fleet-motorcycle",
   "metadata": {
    "execution": {
     "iopub.execute_input": "2021-04-17T12:04:34.899780Z",
     "iopub.status.busy": "2021-04-17T12:04:34.899161Z",
     "iopub.status.idle": "2021-04-17T12:04:34.901894Z",
     "shell.execute_reply": "2021-04-17T12:04:34.901338Z"
    },
    "papermill": {
     "duration": 0.042877,
     "end_time": "2021-04-17T12:04:34.902046",
     "exception": false,
     "start_time": "2021-04-17T12:04:34.859169",
     "status": "completed"
    },
    "tags": []
   },
   "outputs": [],
   "source": [
    "#hide\n",
    "# cols = ['name','group','day','value']"
   ]
  },
  {
   "cell_type": "code",
   "execution_count": 37,
   "id": "continued-sleeping",
   "metadata": {
    "execution": {
     "iopub.execute_input": "2021-04-17T12:04:34.978617Z",
     "iopub.status.busy": "2021-04-17T12:04:34.978021Z",
     "iopub.status.idle": "2021-04-17T12:04:34.979571Z",
     "shell.execute_reply": "2021-04-17T12:04:34.980060Z"
    },
    "papermill": {
     "duration": 0.043041,
     "end_time": "2021-04-17T12:04:34.980178",
     "exception": false,
     "start_time": "2021-04-17T12:04:34.937137",
     "status": "completed"
    },
    "tags": []
   },
   "outputs": [],
   "source": [
    "#hide\n",
    "# g.rename(columns= {'date':'day'},inplace = True)"
   ]
  },
  {
   "cell_type": "code",
   "execution_count": 38,
   "id": "major-fight",
   "metadata": {
    "execution": {
     "iopub.execute_input": "2021-04-17T12:04:35.060710Z",
     "iopub.status.busy": "2021-04-17T12:04:35.060016Z",
     "iopub.status.idle": "2021-04-17T12:04:35.062250Z",
     "shell.execute_reply": "2021-04-17T12:04:35.062907Z"
    },
    "papermill": {
     "duration": 0.044661,
     "end_time": "2021-04-17T12:04:35.063061",
     "exception": false,
     "start_time": "2021-04-17T12:04:35.018400",
     "status": "completed"
    },
    "tags": []
   },
   "outputs": [],
   "source": [
    "#hide\n",
    "# g = g[cols]"
   ]
  },
  {
   "cell_type": "code",
   "execution_count": 39,
   "id": "structured-mobile",
   "metadata": {
    "execution": {
     "iopub.execute_input": "2021-04-17T12:04:35.143482Z",
     "iopub.status.busy": "2021-04-17T12:04:35.142402Z",
     "iopub.status.idle": "2021-04-17T12:04:35.145802Z",
     "shell.execute_reply": "2021-04-17T12:04:35.145216Z"
    },
    "papermill": {
     "duration": 0.04469,
     "end_time": "2021-04-17T12:04:35.145971",
     "exception": false,
     "start_time": "2021-04-17T12:04:35.101281",
     "status": "completed"
    },
    "tags": []
   },
   "outputs": [],
   "source": [
    "# #hide\n",
    "# g = g[g.group.notna()]"
   ]
  },
  {
   "cell_type": "code",
   "execution_count": 40,
   "id": "determined-closing",
   "metadata": {
    "execution": {
     "iopub.execute_input": "2021-04-17T12:04:35.224382Z",
     "iopub.status.busy": "2021-04-17T12:04:35.223602Z",
     "iopub.status.idle": "2021-04-17T12:04:35.232072Z",
     "shell.execute_reply": "2021-04-17T12:04:35.231537Z"
    },
    "papermill": {
     "duration": 0.04898,
     "end_time": "2021-04-17T12:04:35.232190",
     "exception": false,
     "start_time": "2021-04-17T12:04:35.183210",
     "status": "completed"
    },
    "tags": []
   },
   "outputs": [],
   "source": [
    "# #hide\n",
    "# colors = dict(zip(\n",
    "#     [\"Oceania\", \"Europe\", \"Asia\", \"South America\", \"Middle East\", \"North America\", \"Africa\"],\n",
    "#     [\"#adb0ff\", \"#ffb3ff\", \"#90d595\", \"#e48381\", \"#aafbff\", \"#f7bb5f\", \"#eafb50\"]\n",
    "# ))\n",
    "# group_lk = g.set_index('name')['group'].to_dict()"
   ]
  },
  {
   "cell_type": "code",
   "execution_count": null,
   "id": "gross-drinking",
   "metadata": {
    "papermill": {
     "duration": 0.036863,
     "end_time": "2021-04-17T12:04:35.312607",
     "exception": false,
     "start_time": "2021-04-17T12:04:35.275744",
     "status": "completed"
    },
    "tags": []
   },
   "outputs": [],
   "source": []
  },
  {
   "cell_type": "code",
   "execution_count": 41,
   "id": "subject-macintosh",
   "metadata": {
    "execution": {
     "iopub.execute_input": "2021-04-17T12:04:35.393956Z",
     "iopub.status.busy": "2021-04-17T12:04:35.393370Z",
     "iopub.status.idle": "2021-04-17T12:04:35.395968Z",
     "shell.execute_reply": "2021-04-17T12:04:35.395521Z"
    },
    "papermill": {
     "duration": 0.044323,
     "end_time": "2021-04-17T12:04:35.396081",
     "exception": false,
     "start_time": "2021-04-17T12:04:35.351758",
     "status": "completed"
    },
    "tags": []
   },
   "outputs": [],
   "source": [
    "# #hide\n",
    "# fig, ax = plt.subplots(figsize=(15, 8))\n",
    "\n",
    "# def draw_barchart(current_day):\n",
    "#     dff = g[g['day'].eq(current_day)].sort_values(by='value', ascending=True).tail(10)\n",
    "#     ax.clear()\n",
    "#     ax.barh(dff['name'], dff['value'], color=[colors[group_lk[x]] for x in dff['name']])\n",
    "#     dx = dff['value'].max() / 200\n",
    "    \n",
    "#     for i, (value, name) in enumerate(zip(dff['value'], dff['name'])):\n",
    "#         ax.text(value-dx, i,     name,           size=14, weight=600, ha='right', va='bottom')\n",
    "#         ax.text(value-dx, i-.25, group_lk[name], size=10, color='#444444', ha='right', va='baseline')\n",
    "#         ax.text(value+dx, i,     f'{value:,.0f}',  size=14, ha='left',  va='center')\n",
    "#     ax.text(1, 0.4, current_day, transform=ax.transAxes, color='#777777', size=46, ha='right', weight=800)\n",
    "#     ax.text(0, 1.06, 'Population (thousands)', transform=ax.transAxes, size=12, color='#777777')\n",
    "#     ax.xaxis.set_major_formatter(ticker.StrMethodFormatter('{x:,.0f}'))\n",
    "#     ax.xaxis.set_ticks_position('top')\n",
    "#     ax.tick_params(axis='x', colors='#777777', labelsize=12)\n",
    "#     ax.set_yticks([])\n",
    "#     ax.margins(0, 0.01)\n",
    "#     ax.grid(which='major', axis='x', linestyle='-')\n",
    "#     ax.set_axisbelow(True)\n",
    "    \n",
    "#     ax.text(0, 1.15, 'Coronavirus',\n",
    "#             transform=ax.transAxes, size=24, weight=600, ha='left', va='top')\n",
    "# #     ax.text(1, 0, 'by @pratapvardhan; credit @jburnmurdoch', transform=ax.transAxes, color='#777777', ha='right',\n",
    "# #             bbox=dict(facecolor='white', alpha=0.8, edgecolor='white'))\n",
    "#     plt.box(False)"
   ]
  },
  {
   "cell_type": "code",
   "execution_count": 42,
   "id": "sexual-wages",
   "metadata": {
    "execution": {
     "iopub.execute_input": "2021-04-17T12:04:35.476972Z",
     "iopub.status.busy": "2021-04-17T12:04:35.476360Z",
     "iopub.status.idle": "2021-04-17T12:04:35.478246Z",
     "shell.execute_reply": "2021-04-17T12:04:35.478750Z"
    },
    "papermill": {
     "duration": 0.046206,
     "end_time": "2021-04-17T12:04:35.478871",
     "exception": false,
     "start_time": "2021-04-17T12:04:35.432665",
     "status": "completed"
    },
    "tags": []
   },
   "outputs": [],
   "source": [
    "# #hide_input\n",
    "# fig, ax = plt.subplots(figsize=(15, 8))\n",
    "# animator = animation.FuncAnimation(fig, draw_barchart, frames=range(g.day.values.min(), g.day.values.max()))\n",
    "# HTML(animator.to_jshtml())\n",
    "# # or use animator.to_html5_video() or animator.save() "
   ]
  },
  {
   "cell_type": "code",
   "execution_count": null,
   "id": "australian-container",
   "metadata": {
    "papermill": {
     "duration": 0.033362,
     "end_time": "2021-04-17T12:04:35.550057",
     "exception": false,
     "start_time": "2021-04-17T12:04:35.516695",
     "status": "completed"
    },
    "tags": []
   },
   "outputs": [],
   "source": []
  },
  {
   "cell_type": "code",
   "execution_count": null,
   "id": "mediterranean-pontiac",
   "metadata": {
    "papermill": {
     "duration": 0.037647,
     "end_time": "2021-04-17T12:04:35.624810",
     "exception": false,
     "start_time": "2021-04-17T12:04:35.587163",
     "status": "completed"
    },
    "tags": []
   },
   "outputs": [],
   "source": []
  },
  {
   "cell_type": "code",
   "execution_count": null,
   "id": "aging-legislature",
   "metadata": {
    "papermill": {
     "duration": 0.038291,
     "end_time": "2021-04-17T12:04:35.702749",
     "exception": false,
     "start_time": "2021-04-17T12:04:35.664458",
     "status": "completed"
    },
    "tags": []
   },
   "outputs": [],
   "source": []
  }
 ],
 "metadata": {
  "kernelspec": {
   "display_name": "Python 3",
   "language": "python",
   "name": "python3"
  },
  "language_info": {
   "codemirror_mode": {
    "name": "ipython",
    "version": 3
   },
   "file_extension": ".py",
   "mimetype": "text/x-python",
   "name": "python",
   "nbconvert_exporter": "python",
   "pygments_lexer": "ipython3",
   "version": "3.6.13"
  },
  "papermill": {
   "duration": 6.570655,
   "end_time": "2021-04-17T12:04:36.047303",
   "environment_variables": {},
   "exception": null,
   "input_path": "2020-03-21-covid19exp.ipynb",
   "output_path": "2020-03-21-covid19exp.ipynb",
   "parameters": {},
   "start_time": "2021-04-17T12:04:29.476648",
   "version": "2.0.0"
  }
 },
 "nbformat": 4,
 "nbformat_minor": 5
}