{
 "cells": [
  {
   "cell_type": "markdown",
   "id": "muslim-click",
   "metadata": {
    "papermill": {
     "duration": 0.045691,
     "end_time": "2021-07-19T00:19:57.764721",
     "exception": false,
     "start_time": "2021-07-19T00:19:57.719030",
     "status": "completed"
    },
    "tags": []
   },
   "source": [
    "# COVID-19 Case Race\n",
    "> A race chart to see rising cases around the world\n",
    "\n",
    "- author: Hargun Oberoi\n",
    "- image: images/covid-overview.png\n",
    "- hide: false\n",
    "- badges: false"
   ]
  },
  {
   "cell_type": "code",
   "execution_count": 1,
   "id": "proof-material",
   "metadata": {
    "execution": {
     "iopub.execute_input": "2021-07-19T00:19:57.851925Z",
     "iopub.status.busy": "2021-07-19T00:19:57.851168Z",
     "iopub.status.idle": "2021-07-19T00:19:58.224191Z",
     "shell.execute_reply": "2021-07-19T00:19:58.224809Z"
    },
    "papermill": {
     "duration": 0.423203,
     "end_time": "2021-07-19T00:19:58.224999",
     "exception": false,
     "start_time": "2021-07-19T00:19:57.801796",
     "status": "completed"
    },
    "tags": []
   },
   "outputs": [],
   "source": [
    "#hide\n",
    "import numpy as np\n",
    "import pandas as pd\n",
    "from jinja2 import Template\n",
    "from IPython.display import HTML"
   ]
  },
  {
   "cell_type": "code",
   "execution_count": 2,
   "id": "developed-terminology",
   "metadata": {
    "execution": {
     "iopub.execute_input": "2021-07-19T00:19:58.302965Z",
     "iopub.status.busy": "2021-07-19T00:19:58.302264Z",
     "iopub.status.idle": "2021-07-19T00:19:58.304786Z",
     "shell.execute_reply": "2021-07-19T00:19:58.304220Z"
    },
    "papermill": {
     "duration": 0.042398,
     "end_time": "2021-07-19T00:19:58.304937",
     "exception": false,
     "start_time": "2021-07-19T00:19:58.262539",
     "status": "completed"
    },
    "tags": []
   },
   "outputs": [],
   "source": [
    "#hide\n",
    "\n",
    "# FETCH\n",
    "base_url = 'https://raw.githubusercontent.com/pratapvardhan/notebooks/master/covid19/'\n",
    "paths = {\n",
    "    'mapping': base_url + 'mapping_countries.csv',\n",
    "    'overview': base_url + 'overview.tpl'\n",
    "}"
   ]
  },
  {
   "cell_type": "code",
   "execution_count": 3,
   "id": "dynamic-saver",
   "metadata": {
    "execution": {
     "iopub.execute_input": "2021-07-19T00:19:58.389126Z",
     "iopub.status.busy": "2021-07-19T00:19:58.388268Z",
     "iopub.status.idle": "2021-07-19T00:19:58.391587Z",
     "shell.execute_reply": "2021-07-19T00:19:58.392236Z"
    },
    "papermill": {
     "duration": 0.052426,
     "end_time": "2021-07-19T00:19:58.392427",
     "exception": false,
     "start_time": "2021-07-19T00:19:58.340001",
     "status": "completed"
    },
    "tags": []
   },
   "outputs": [
    {
     "data": {
      "text/plain": [
       "'https://raw.githubusercontent.com/pratapvardhan/notebooks/master/covid19/mapping_countries.csv'"
      ]
     },
     "execution_count": 3,
     "metadata": {},
     "output_type": "execute_result"
    }
   ],
   "source": [
    "#hide\n",
    "paths['mapping']"
   ]
  },
  {
   "cell_type": "code",
   "execution_count": 4,
   "id": "urban-software",
   "metadata": {
    "execution": {
     "iopub.execute_input": "2021-07-19T00:19:58.471954Z",
     "iopub.status.busy": "2021-07-19T00:19:58.471124Z",
     "iopub.status.idle": "2021-07-19T00:19:58.473558Z",
     "shell.execute_reply": "2021-07-19T00:19:58.472894Z"
    },
    "papermill": {
     "duration": 0.045959,
     "end_time": "2021-07-19T00:19:58.473690",
     "exception": false,
     "start_time": "2021-07-19T00:19:58.427731",
     "status": "completed"
    },
    "tags": []
   },
   "outputs": [],
   "source": [
    "#hide\n",
    "def get_mappings(url):\n",
    "    df = pd.read_csv(url)\n",
    "    return {\n",
    "        'df': df,\n",
    "        'replace.country': dict(df.dropna(subset=['Name']).set_index('Country')['Name']),\n",
    "        'map.continent': dict(df.set_index('Name')['Continent'])\n",
    "    }"
   ]
  },
  {
   "cell_type": "code",
   "execution_count": 5,
   "id": "intimate-machinery",
   "metadata": {
    "execution": {
     "iopub.execute_input": "2021-07-19T00:19:58.552716Z",
     "iopub.status.busy": "2021-07-19T00:19:58.552054Z",
     "iopub.status.idle": "2021-07-19T00:19:58.592489Z",
     "shell.execute_reply": "2021-07-19T00:19:58.592013Z"
    },
    "papermill": {
     "duration": 0.082082,
     "end_time": "2021-07-19T00:19:58.592650",
     "exception": false,
     "start_time": "2021-07-19T00:19:58.510568",
     "status": "completed"
    },
    "tags": []
   },
   "outputs": [],
   "source": [
    "#hide\n",
    "mapping = get_mappings(paths['mapping'])"
   ]
  },
  {
   "cell_type": "code",
   "execution_count": 6,
   "id": "certified-tactics",
   "metadata": {
    "execution": {
     "iopub.execute_input": "2021-07-19T00:19:58.672212Z",
     "iopub.status.busy": "2021-07-19T00:19:58.671636Z",
     "iopub.status.idle": "2021-07-19T00:19:58.674083Z",
     "shell.execute_reply": "2021-07-19T00:19:58.673611Z"
    },
    "papermill": {
     "duration": 0.045209,
     "end_time": "2021-07-19T00:19:58.674197",
     "exception": false,
     "start_time": "2021-07-19T00:19:58.628988",
     "status": "completed"
    },
    "tags": []
   },
   "outputs": [],
   "source": [
    "#hide\n",
    "def get_template(path):\n",
    "    from urllib.parse import urlparse\n",
    "    if bool(urlparse(path).netloc):\n",
    "        from urllib.request import urlopen\n",
    "        return urlopen(path).read().decode('utf8')\n",
    "    return open(path).read()"
   ]
  },
  {
   "cell_type": "code",
   "execution_count": 7,
   "id": "realistic-blast",
   "metadata": {
    "execution": {
     "iopub.execute_input": "2021-07-19T00:19:58.752184Z",
     "iopub.status.busy": "2021-07-19T00:19:58.751564Z",
     "iopub.status.idle": "2021-07-19T00:19:58.753466Z",
     "shell.execute_reply": "2021-07-19T00:19:58.754081Z"
    },
    "papermill": {
     "duration": 0.043969,
     "end_time": "2021-07-19T00:19:58.754259",
     "exception": false,
     "start_time": "2021-07-19T00:19:58.710290",
     "status": "completed"
    },
    "tags": []
   },
   "outputs": [],
   "source": [
    "#hide\n",
    "def get_frame(name):\n",
    "    url = (\n",
    "        'https://raw.githubusercontent.com/CSSEGISandData/COVID-19/master/csse_covid_19_data/'\n",
    "        f'csse_covid_19_time_series/time_series_covid19_{name}_global.csv')\n",
    "    df = pd.read_csv(url)\n",
    "    # rename countries\n",
    "    df['Country/Region'] = df['Country/Region'].replace(mapping['replace.country'])\n",
    "    return df"
   ]
  },
  {
   "cell_type": "code",
   "execution_count": 8,
   "id": "affiliated-characterization",
   "metadata": {
    "execution": {
     "iopub.execute_input": "2021-07-19T00:19:58.839253Z",
     "iopub.status.busy": "2021-07-19T00:19:58.838631Z",
     "iopub.status.idle": "2021-07-19T00:19:58.841174Z",
     "shell.execute_reply": "2021-07-19T00:19:58.840574Z"
    },
    "papermill": {
     "duration": 0.047908,
     "end_time": "2021-07-19T00:19:58.841316",
     "exception": false,
     "start_time": "2021-07-19T00:19:58.793408",
     "status": "completed"
    },
    "tags": []
   },
   "outputs": [],
   "source": [
    "#hide\n",
    "def get_dates(df):\n",
    "    dt_cols = df.columns[~df.columns.isin(['Province/State', 'Country/Region', 'Lat', 'Long'])]\n",
    "    LAST_DATE_I = -1\n",
    "    # sometimes last column may be empty, then go backwards\n",
    "    for i in range(-1, -len(dt_cols), -1):\n",
    "        if not df[dt_cols[i]].fillna(0).eq(0).all():\n",
    "            LAST_DATE_I = i\n",
    "            break\n",
    "    return LAST_DATE_I, dt_cols"
   ]
  },
  {
   "cell_type": "code",
   "execution_count": 9,
   "id": "recent-optimization",
   "metadata": {
    "execution": {
     "iopub.execute_input": "2021-07-19T00:19:58.925867Z",
     "iopub.status.busy": "2021-07-19T00:19:58.925027Z",
     "iopub.status.idle": "2021-07-19T00:19:59.282152Z",
     "shell.execute_reply": "2021-07-19T00:19:59.282647Z"
    },
    "papermill": {
     "duration": 0.400308,
     "end_time": "2021-07-19T00:19:59.282814",
     "exception": false,
     "start_time": "2021-07-19T00:19:58.882506",
     "status": "completed"
    },
    "tags": []
   },
   "outputs": [],
   "source": [
    "#hide\n",
    "COL_REGION = 'Country/Region'\n",
    "# Confirmed, Recovered, Deaths\n",
    "df = get_frame('confirmed')\n",
    "# dft_: timeseries, dfc_: today country agg\n",
    "dft_cases = df\n",
    "dft_deaths = get_frame('deaths')\n",
    "dft_recovered = get_frame('recovered')\n",
    "LAST_DATE_I, dt_cols = get_dates(df)"
   ]
  },
  {
   "cell_type": "code",
   "execution_count": 10,
   "id": "absolute-copper",
   "metadata": {
    "execution": {
     "iopub.execute_input": "2021-07-19T00:19:59.361443Z",
     "iopub.status.busy": "2021-07-19T00:19:59.360886Z",
     "iopub.status.idle": "2021-07-19T00:19:59.362725Z",
     "shell.execute_reply": "2021-07-19T00:19:59.363369Z"
    },
    "papermill": {
     "duration": 0.045264,
     "end_time": "2021-07-19T00:19:59.363503",
     "exception": false,
     "start_time": "2021-07-19T00:19:59.318239",
     "status": "completed"
    },
    "tags": []
   },
   "outputs": [],
   "source": [
    "#hide\n",
    "LAST_DATE_I, dt_cols = get_dates(df)\n",
    "dt_today =dt_cols[LAST_DATE_I]\n",
    "# dt_5day = dt_cols[LAST_DATE_I - 5]\n",
    "dt_yday = dt_cols[LAST_DATE_I - 1]"
   ]
  },
  {
   "cell_type": "code",
   "execution_count": 11,
   "id": "restricted-sheriff",
   "metadata": {
    "execution": {
     "iopub.execute_input": "2021-07-19T00:19:59.452900Z",
     "iopub.status.busy": "2021-07-19T00:19:59.452180Z",
     "iopub.status.idle": "2021-07-19T00:19:59.459485Z",
     "shell.execute_reply": "2021-07-19T00:19:59.458934Z"
    },
    "papermill": {
     "duration": 0.058208,
     "end_time": "2021-07-19T00:19:59.459616",
     "exception": false,
     "start_time": "2021-07-19T00:19:59.401408",
     "status": "completed"
    },
    "tags": []
   },
   "outputs": [],
   "source": [
    "#hide\n",
    "dfc_cases = dft_cases.groupby(COL_REGION)[dt_today].sum()\n",
    "dfc_deaths = dft_deaths.groupby(COL_REGION)[dt_today].sum()\n",
    "# dfp_cases = dft_cases.groupby(COL_REGION)[dt_5day].sum()\n",
    "# dfp_deaths = dft_deaths.groupby(COL_REGION)[dt_5day].sum()\n",
    "dfp_cases = dft_cases.groupby(COL_REGION)[dt_yday].sum()\n",
    "dfp_deaths = dft_deaths.groupby(COL_REGION)[dt_yday].sum()"
   ]
  },
  {
   "cell_type": "code",
   "execution_count": 12,
   "id": "deluxe-hepatitis",
   "metadata": {
    "execution": {
     "iopub.execute_input": "2021-07-19T00:19:59.538590Z",
     "iopub.status.busy": "2021-07-19T00:19:59.538010Z",
     "iopub.status.idle": "2021-07-19T00:19:59.542890Z",
     "shell.execute_reply": "2021-07-19T00:19:59.543463Z"
    },
    "papermill": {
     "duration": 0.048907,
     "end_time": "2021-07-19T00:19:59.543625",
     "exception": false,
     "start_time": "2021-07-19T00:19:59.494718",
     "status": "completed"
    },
    "tags": []
   },
   "outputs": [],
   "source": [
    "#hide\n",
    "df_table = (pd.DataFrame(dict(Cases = dfc_cases, Deaths = dfc_deaths, PCases = dfp_cases, PDeaths = dfp_deaths))\n",
    "            .sort_values(by = ['Cases','Deaths'], ascending = [False, False])\n",
    "            .reset_index())"
   ]
  },
  {
   "cell_type": "code",
   "execution_count": 13,
   "id": "educational-chancellor",
   "metadata": {
    "execution": {
     "iopub.execute_input": "2021-07-19T00:19:59.638100Z",
     "iopub.status.busy": "2021-07-19T00:19:59.637514Z",
     "iopub.status.idle": "2021-07-19T00:19:59.646990Z",
     "shell.execute_reply": "2021-07-19T00:19:59.646512Z"
    },
    "papermill": {
     "duration": 0.066336,
     "end_time": "2021-07-19T00:19:59.647136",
     "exception": false,
     "start_time": "2021-07-19T00:19:59.580800",
     "status": "completed"
    },
    "tags": []
   },
   "outputs": [
    {
     "data": {
      "text/html": [
       "<div>\n",
       "<style scoped>\n",
       "    .dataframe tbody tr th:only-of-type {\n",
       "        vertical-align: middle;\n",
       "    }\n",
       "\n",
       "    .dataframe tbody tr th {\n",
       "        vertical-align: top;\n",
       "    }\n",
       "\n",
       "    .dataframe thead th {\n",
       "        text-align: right;\n",
       "    }\n",
       "</style>\n",
       "<table border=\"1\" class=\"dataframe\">\n",
       "  <thead>\n",
       "    <tr style=\"text-align: right;\">\n",
       "      <th></th>\n",
       "      <th>Country/Region</th>\n",
       "      <th>Cases</th>\n",
       "      <th>Deaths</th>\n",
       "      <th>PCases</th>\n",
       "      <th>PDeaths</th>\n",
       "      <th>Cases (+)</th>\n",
       "      <th>Deaths (+)</th>\n",
       "      <th>Fatality Rate</th>\n",
       "      <th>Continent</th>\n",
       "    </tr>\n",
       "  </thead>\n",
       "  <tbody>\n",
       "    <tr>\n",
       "      <th>0</th>\n",
       "      <td>US</td>\n",
       "      <td>34067912</td>\n",
       "      <td>608884</td>\n",
       "      <td>34054952</td>\n",
       "      <td>608815</td>\n",
       "      <td>12960</td>\n",
       "      <td>69</td>\n",
       "      <td>1.79</td>\n",
       "      <td>North America</td>\n",
       "    </tr>\n",
       "    <tr>\n",
       "      <th>1</th>\n",
       "      <td>India</td>\n",
       "      <td>31106065</td>\n",
       "      <td>413609</td>\n",
       "      <td>31064908</td>\n",
       "      <td>413091</td>\n",
       "      <td>41157</td>\n",
       "      <td>518</td>\n",
       "      <td>1.33</td>\n",
       "      <td>Asia</td>\n",
       "    </tr>\n",
       "    <tr>\n",
       "      <th>2</th>\n",
       "      <td>Brazil</td>\n",
       "      <td>19342448</td>\n",
       "      <td>541266</td>\n",
       "      <td>19308109</td>\n",
       "      <td>540398</td>\n",
       "      <td>34339</td>\n",
       "      <td>868</td>\n",
       "      <td>2.80</td>\n",
       "      <td>South America</td>\n",
       "    </tr>\n",
       "    <tr>\n",
       "      <th>3</th>\n",
       "      <td>France</td>\n",
       "      <td>5917397</td>\n",
       "      <td>111657</td>\n",
       "      <td>5906448</td>\n",
       "      <td>111641</td>\n",
       "      <td>10949</td>\n",
       "      <td>16</td>\n",
       "      <td>1.89</td>\n",
       "      <td>Europe</td>\n",
       "    </tr>\n",
       "    <tr>\n",
       "      <th>4</th>\n",
       "      <td>Russia</td>\n",
       "      <td>5860113</td>\n",
       "      <td>145222</td>\n",
       "      <td>5835523</td>\n",
       "      <td>144446</td>\n",
       "      <td>24590</td>\n",
       "      <td>776</td>\n",
       "      <td>2.48</td>\n",
       "      <td>Europe</td>\n",
       "    </tr>\n",
       "  </tbody>\n",
       "</table>\n",
       "</div>"
      ],
      "text/plain": [
       "  Country/Region     Cases  Deaths    PCases  PDeaths  Cases (+)  Deaths (+)  \\\n",
       "0             US  34067912  608884  34054952   608815      12960          69   \n",
       "1          India  31106065  413609  31064908   413091      41157         518   \n",
       "2         Brazil  19342448  541266  19308109   540398      34339         868   \n",
       "3         France   5917397  111657   5906448   111641      10949          16   \n",
       "4         Russia   5860113  145222   5835523   144446      24590         776   \n",
       "\n",
       "   Fatality Rate      Continent  \n",
       "0           1.79  North America  \n",
       "1           1.33           Asia  \n",
       "2           2.80  South America  \n",
       "3           1.89         Europe  \n",
       "4           2.48         Europe  "
      ]
     },
     "execution_count": 13,
     "metadata": {},
     "output_type": "execute_result"
    }
   ],
   "source": [
    "#hide\n",
    "for c in 'Cases, Deaths'.split(', '):\n",
    "    df_table[f'{c} (+)'] = (df_table[c] - df_table[f'P{c}']).clip(0)\n",
    "    #Clip ça veut dire, les chiffres negatif sont interdit\n",
    "df_table['Fatality Rate'] = (100* df_table['Deaths']/ df_table['Cases']).round(2)\n",
    "df_table['Continent'] = df_table['Country/Region'].map(mapping['map.continent'])\n",
    "df_table.head(5)"
   ]
  },
  {
   "cell_type": "code",
   "execution_count": 14,
   "id": "aboriginal-bulgaria",
   "metadata": {
    "execution": {
     "iopub.execute_input": "2021-07-19T00:19:59.728074Z",
     "iopub.status.busy": "2021-07-19T00:19:59.727427Z",
     "iopub.status.idle": "2021-07-19T00:19:59.731462Z",
     "shell.execute_reply": "2021-07-19T00:19:59.732052Z"
    },
    "papermill": {
     "duration": 0.046991,
     "end_time": "2021-07-19T00:19:59.732188",
     "exception": false,
     "start_time": "2021-07-19T00:19:59.685197",
     "status": "completed"
    },
    "tags": []
   },
   "outputs": [],
   "source": [
    "#hide\n",
    "#delete problematic countries from table\n",
    "df_table = df_table[~df_table['Country/Region'].isin(['Cape Verde', 'Cruise Ship', 'Kosovo'])]"
   ]
  },
  {
   "cell_type": "code",
   "execution_count": 15,
   "id": "fantastic-effect",
   "metadata": {
    "execution": {
     "iopub.execute_input": "2021-07-19T00:19:59.811472Z",
     "iopub.status.busy": "2021-07-19T00:19:59.810753Z",
     "iopub.status.idle": "2021-07-19T00:19:59.838907Z",
     "shell.execute_reply": "2021-07-19T00:19:59.838283Z"
    },
    "papermill": {
     "duration": 0.068317,
     "end_time": "2021-07-19T00:19:59.839045",
     "exception": false,
     "start_time": "2021-07-19T00:19:59.770728",
     "status": "completed"
    },
    "tags": []
   },
   "outputs": [
    {
     "data": {
      "text/html": [
       "<div>\n",
       "<style scoped>\n",
       "    .dataframe tbody tr th:only-of-type {\n",
       "        vertical-align: middle;\n",
       "    }\n",
       "\n",
       "    .dataframe tbody tr th {\n",
       "        vertical-align: top;\n",
       "    }\n",
       "\n",
       "    .dataframe thead th {\n",
       "        text-align: right;\n",
       "    }\n",
       "</style>\n",
       "<table border=\"1\" class=\"dataframe\">\n",
       "  <thead>\n",
       "    <tr style=\"text-align: right;\">\n",
       "      <th></th>\n",
       "      <th>Country/Region</th>\n",
       "      <th>Cases</th>\n",
       "      <th>Deaths</th>\n",
       "      <th>PCases</th>\n",
       "      <th>PDeaths</th>\n",
       "      <th>Cases (+)</th>\n",
       "      <th>Deaths (+)</th>\n",
       "      <th>Fatality Rate</th>\n",
       "      <th>Continent</th>\n",
       "    </tr>\n",
       "  </thead>\n",
       "  <tbody>\n",
       "    <tr>\n",
       "      <th>0</th>\n",
       "      <td>US</td>\n",
       "      <td>34067912</td>\n",
       "      <td>608884</td>\n",
       "      <td>34054952</td>\n",
       "      <td>608815</td>\n",
       "      <td>12960</td>\n",
       "      <td>69</td>\n",
       "      <td>1.8</td>\n",
       "      <td>North America</td>\n",
       "    </tr>\n",
       "    <tr>\n",
       "      <th>1</th>\n",
       "      <td>India</td>\n",
       "      <td>31106065</td>\n",
       "      <td>413609</td>\n",
       "      <td>31064908</td>\n",
       "      <td>413091</td>\n",
       "      <td>41157</td>\n",
       "      <td>518</td>\n",
       "      <td>1.3</td>\n",
       "      <td>Asia</td>\n",
       "    </tr>\n",
       "    <tr>\n",
       "      <th>2</th>\n",
       "      <td>Brazil</td>\n",
       "      <td>19342448</td>\n",
       "      <td>541266</td>\n",
       "      <td>19308109</td>\n",
       "      <td>540398</td>\n",
       "      <td>34339</td>\n",
       "      <td>868</td>\n",
       "      <td>2.8</td>\n",
       "      <td>South America</td>\n",
       "    </tr>\n",
       "    <tr>\n",
       "      <th>3</th>\n",
       "      <td>France</td>\n",
       "      <td>5917397</td>\n",
       "      <td>111657</td>\n",
       "      <td>5906448</td>\n",
       "      <td>111641</td>\n",
       "      <td>10949</td>\n",
       "      <td>16</td>\n",
       "      <td>1.9</td>\n",
       "      <td>Europe</td>\n",
       "    </tr>\n",
       "    <tr>\n",
       "      <th>4</th>\n",
       "      <td>Russia</td>\n",
       "      <td>5860113</td>\n",
       "      <td>145222</td>\n",
       "      <td>5835523</td>\n",
       "      <td>144446</td>\n",
       "      <td>24590</td>\n",
       "      <td>776</td>\n",
       "      <td>2.5</td>\n",
       "      <td>Europe</td>\n",
       "    </tr>\n",
       "  </tbody>\n",
       "</table>\n",
       "</div>"
      ],
      "text/plain": [
       "  Country/Region     Cases  Deaths    PCases  PDeaths  Cases (+)  Deaths (+)  \\\n",
       "0             US  34067912  608884  34054952   608815      12960          69   \n",
       "1          India  31106065  413609  31064908   413091      41157         518   \n",
       "2         Brazil  19342448  541266  19308109   540398      34339         868   \n",
       "3         France   5917397  111657   5906448   111641      10949          16   \n",
       "4         Russia   5860113  145222   5835523   144446      24590         776   \n",
       "\n",
       "   Fatality Rate      Continent  \n",
       "0            1.8  North America  \n",
       "1            1.3           Asia  \n",
       "2            2.8  South America  \n",
       "3            1.9         Europe  \n",
       "4            2.5         Europe  "
      ]
     },
     "execution_count": 15,
     "metadata": {},
     "output_type": "execute_result"
    }
   ],
   "source": [
    "#hide\n",
    "df_table = (pd.DataFrame(dict(Cases=dfc_cases, Deaths=dfc_deaths, PCases=dfp_cases, PDeaths=dfp_deaths))\n",
    "             .sort_values(by=['Cases', 'Deaths'], ascending=[False, False])\n",
    "             .reset_index())\n",
    "df_table.rename(columns={'index': 'Country/Region'}, inplace=True)\n",
    "for c in 'Cases, Deaths'.split(', '):\n",
    "    df_table[f'{c} (+)'] = (df_table[c] - df_table[f'P{c}']).clip(0)  # DATA BUG\n",
    "df_table['Fatality Rate'] = (100 * df_table['Deaths'] / df_table['Cases']).round(1)\n",
    "df_table['Continent'] = df_table['Country/Region'].map(mapping['map.continent'])\n",
    "df_table.head(5)"
   ]
  },
  {
   "cell_type": "code",
   "execution_count": 16,
   "id": "fewer-occasion",
   "metadata": {
    "execution": {
     "iopub.execute_input": "2021-07-19T00:19:59.921971Z",
     "iopub.status.busy": "2021-07-19T00:19:59.921282Z",
     "iopub.status.idle": "2021-07-19T00:19:59.924942Z",
     "shell.execute_reply": "2021-07-19T00:19:59.924272Z"
    },
    "papermill": {
     "duration": 0.04787,
     "end_time": "2021-07-19T00:19:59.925171",
     "exception": false,
     "start_time": "2021-07-19T00:19:59.877301",
     "status": "completed"
    },
    "tags": []
   },
   "outputs": [],
   "source": [
    "#hide\n",
    "#delete problematic countries from table\n",
    "df_table = df_table[~df_table['Country/Region'].isin(['Cape Verde', 'Cruise Ship', 'Kosovo'])]"
   ]
  },
  {
   "cell_type": "code",
   "execution_count": 17,
   "id": "related-center",
   "metadata": {
    "execution": {
     "iopub.execute_input": "2021-07-19T00:20:00.022393Z",
     "iopub.status.busy": "2021-07-19T00:20:00.021709Z",
     "iopub.status.idle": "2021-07-19T00:20:00.023560Z",
     "shell.execute_reply": "2021-07-19T00:20:00.024224Z"
    },
    "papermill": {
     "duration": 0.061213,
     "end_time": "2021-07-19T00:20:00.024380",
     "exception": false,
     "start_time": "2021-07-19T00:19:59.963167",
     "status": "completed"
    },
    "tags": []
   },
   "outputs": [],
   "source": [
    "#hide\n",
    "metrics = [df_table.columns[index] for index in [1,2,5,6]]\n",
    "# s_china = df_table[df_table['Country/Region'].eq('China')][metrics].sum().add_prefix('China ')\n",
    "s_us = df_table[df_table['Country/Region'].eq('US')][metrics].sum().add_prefix('US ')\n",
    "s_eu = df_table[df_table['Continent'].eq('Europe')][metrics].sum().add_prefix('EU ')\n",
    "s_ind = df_table[df_table['Country/Region'].eq('India')][metrics].sum().add_prefix('India ')\n",
    "summary = {'updated': pd.to_datetime(dt_today), 'since': pd.to_datetime(dt_yday)}\n",
    "summary = {'updated': pd.to_datetime(dt_today), 'since': pd.to_datetime(dt_yday)}\n",
    "summary = {**summary, **df_table[metrics].sum(), **s_ind, **s_us, **s_eu}"
   ]
  },
  {
   "cell_type": "code",
   "execution_count": 18,
   "id": "engaging-syndrome",
   "metadata": {
    "execution": {
     "iopub.execute_input": "2021-07-19T00:20:00.112789Z",
     "iopub.status.busy": "2021-07-19T00:20:00.111464Z",
     "iopub.status.idle": "2021-07-19T00:20:00.122952Z",
     "shell.execute_reply": "2021-07-19T00:20:00.123486Z"
    },
    "papermill": {
     "duration": 0.059293,
     "end_time": "2021-07-19T00:20:00.123656",
     "exception": false,
     "start_time": "2021-07-19T00:20:00.064363",
     "status": "completed"
    },
    "tags": []
   },
   "outputs": [],
   "source": [
    "#hide\n",
    "dft_ct_new_cases = dft_cases.groupby(COL_REGION)[dt_cols].sum().diff(axis=1).fillna(0).astype(int)"
   ]
  },
  {
   "cell_type": "code",
   "execution_count": 19,
   "id": "neutral-assignment",
   "metadata": {
    "execution": {
     "iopub.execute_input": "2021-07-19T00:20:00.208415Z",
     "iopub.status.busy": "2021-07-19T00:20:00.207792Z",
     "iopub.status.idle": "2021-07-19T00:20:00.210476Z",
     "shell.execute_reply": "2021-07-19T00:20:00.209902Z"
    },
    "papermill": {
     "duration": 0.048085,
     "end_time": "2021-07-19T00:20:00.210589",
     "exception": false,
     "start_time": "2021-07-19T00:20:00.162504",
     "status": "completed"
    },
    "tags": []
   },
   "outputs": [],
   "source": [
    "#hide\n",
    "everydaycases = dft_ct_new_cases.cumsum(axis=1)"
   ]
  },
  {
   "cell_type": "code",
   "execution_count": 20,
   "id": "parliamentary-calgary",
   "metadata": {
    "execution": {
     "iopub.execute_input": "2021-07-19T00:20:00.293893Z",
     "iopub.status.busy": "2021-07-19T00:20:00.293292Z",
     "iopub.status.idle": "2021-07-19T00:20:00.987444Z",
     "shell.execute_reply": "2021-07-19T00:20:00.986903Z"
    },
    "papermill": {
     "duration": 0.738642,
     "end_time": "2021-07-19T00:20:00.987633",
     "exception": false,
     "start_time": "2021-07-19T00:20:00.248991",
     "status": "completed"
    },
    "tags": []
   },
   "outputs": [],
   "source": [
    "#hide\n",
    "import pandas as pd\n",
    "import matplotlib.pyplot as plt\n",
    "import matplotlib.ticker as ticker\n",
    "import matplotlib.animation as animation\n",
    "from IPython.display import HTML"
   ]
  },
  {
   "cell_type": "code",
   "execution_count": 21,
   "id": "lasting-extraction",
   "metadata": {
    "execution": {
     "iopub.execute_input": "2021-07-19T00:20:01.071394Z",
     "iopub.status.busy": "2021-07-19T00:20:01.070784Z",
     "iopub.status.idle": "2021-07-19T00:20:01.076921Z",
     "shell.execute_reply": "2021-07-19T00:20:01.076364Z"
    },
    "papermill": {
     "duration": 0.050533,
     "end_time": "2021-07-19T00:20:01.077044",
     "exception": false,
     "start_time": "2021-07-19T00:20:01.026511",
     "status": "completed"
    },
    "tags": []
   },
   "outputs": [],
   "source": [
    "#hide\n",
    "t = everydaycases.stack()"
   ]
  },
  {
   "cell_type": "code",
   "execution_count": 22,
   "id": "premier-sleeve",
   "metadata": {
    "execution": {
     "iopub.execute_input": "2021-07-19T00:20:01.159857Z",
     "iopub.status.busy": "2021-07-19T00:20:01.159158Z",
     "iopub.status.idle": "2021-07-19T00:20:01.167233Z",
     "shell.execute_reply": "2021-07-19T00:20:01.167922Z"
    },
    "papermill": {
     "duration": 0.051625,
     "end_time": "2021-07-19T00:20:01.168076",
     "exception": false,
     "start_time": "2021-07-19T00:20:01.116451",
     "status": "completed"
    },
    "tags": []
   },
   "outputs": [],
   "source": [
    "#hide\n",
    "g = t.reset_index(['Country/Region'])"
   ]
  },
  {
   "cell_type": "code",
   "execution_count": 23,
   "id": "distributed-pittsburgh",
   "metadata": {
    "execution": {
     "iopub.execute_input": "2021-07-19T00:20:01.248418Z",
     "iopub.status.busy": "2021-07-19T00:20:01.247845Z",
     "iopub.status.idle": "2021-07-19T00:20:01.250193Z",
     "shell.execute_reply": "2021-07-19T00:20:01.249715Z"
    },
    "papermill": {
     "duration": 0.043858,
     "end_time": "2021-07-19T00:20:01.250308",
     "exception": false,
     "start_time": "2021-07-19T00:20:01.206450",
     "status": "completed"
    },
    "tags": []
   },
   "outputs": [],
   "source": [
    "#hide\n",
    "g.index.name = 'date'"
   ]
  },
  {
   "cell_type": "code",
   "execution_count": 24,
   "id": "naked-donor",
   "metadata": {
    "execution": {
     "iopub.execute_input": "2021-07-19T00:20:01.329529Z",
     "iopub.status.busy": "2021-07-19T00:20:01.328861Z",
     "iopub.status.idle": "2021-07-19T00:20:01.331047Z",
     "shell.execute_reply": "2021-07-19T00:20:01.331658Z"
    },
    "papermill": {
     "duration": 0.043178,
     "end_time": "2021-07-19T00:20:01.331794",
     "exception": false,
     "start_time": "2021-07-19T00:20:01.288616",
     "status": "completed"
    },
    "tags": []
   },
   "outputs": [],
   "source": [
    "# #hide\n",
    "# g = g.reset_index(['date'])"
   ]
  },
  {
   "cell_type": "code",
   "execution_count": 25,
   "id": "incomplete-mustang",
   "metadata": {
    "execution": {
     "iopub.execute_input": "2021-07-19T00:20:01.411478Z",
     "iopub.status.busy": "2021-07-19T00:20:01.410902Z",
     "iopub.status.idle": "2021-07-19T00:20:01.413063Z",
     "shell.execute_reply": "2021-07-19T00:20:01.413596Z"
    },
    "papermill": {
     "duration": 0.043981,
     "end_time": "2021-07-19T00:20:01.413749",
     "exception": false,
     "start_time": "2021-07-19T00:20:01.369768",
     "status": "completed"
    },
    "tags": []
   },
   "outputs": [],
   "source": [
    "#hide\n",
    "# g.head()"
   ]
  },
  {
   "cell_type": "code",
   "execution_count": 26,
   "id": "specific-kruger",
   "metadata": {
    "execution": {
     "iopub.execute_input": "2021-07-19T00:20:01.506189Z",
     "iopub.status.busy": "2021-07-19T00:20:01.505409Z",
     "iopub.status.idle": "2021-07-19T00:20:01.507526Z",
     "shell.execute_reply": "2021-07-19T00:20:01.508195Z"
    },
    "papermill": {
     "duration": 0.050097,
     "end_time": "2021-07-19T00:20:01.508338",
     "exception": false,
     "start_time": "2021-07-19T00:20:01.458241",
     "status": "completed"
    },
    "tags": []
   },
   "outputs": [],
   "source": [
    "#hide\n",
    "# g.columns = ['date','country','cases']"
   ]
  },
  {
   "cell_type": "code",
   "execution_count": 27,
   "id": "tender-conversion",
   "metadata": {
    "execution": {
     "iopub.execute_input": "2021-07-19T00:20:01.587840Z",
     "iopub.status.busy": "2021-07-19T00:20:01.587258Z",
     "iopub.status.idle": "2021-07-19T00:20:01.592532Z",
     "shell.execute_reply": "2021-07-19T00:20:01.590833Z"
    },
    "papermill": {
     "duration": 0.047269,
     "end_time": "2021-07-19T00:20:01.592931",
     "exception": false,
     "start_time": "2021-07-19T00:20:01.545662",
     "status": "completed"
    },
    "tags": []
   },
   "outputs": [],
   "source": [
    "#hide\n",
    "# g['continent'] = g.country"
   ]
  },
  {
   "cell_type": "code",
   "execution_count": 28,
   "id": "substantial-wilderness",
   "metadata": {
    "execution": {
     "iopub.execute_input": "2021-07-19T00:20:01.682323Z",
     "iopub.status.busy": "2021-07-19T00:20:01.681641Z",
     "iopub.status.idle": "2021-07-19T00:20:01.684219Z",
     "shell.execute_reply": "2021-07-19T00:20:01.683683Z"
    },
    "papermill": {
     "duration": 0.047164,
     "end_time": "2021-07-19T00:20:01.684348",
     "exception": false,
     "start_time": "2021-07-19T00:20:01.637184",
     "status": "completed"
    },
    "tags": []
   },
   "outputs": [],
   "source": [
    "#hide\n",
    "# cols = list(g.columns.values)"
   ]
  },
  {
   "cell_type": "code",
   "execution_count": 29,
   "id": "solved-farming",
   "metadata": {
    "execution": {
     "iopub.execute_input": "2021-07-19T00:20:01.766297Z",
     "iopub.status.busy": "2021-07-19T00:20:01.765716Z",
     "iopub.status.idle": "2021-07-19T00:20:01.768367Z",
     "shell.execute_reply": "2021-07-19T00:20:01.767830Z"
    },
    "papermill": {
     "duration": 0.04503,
     "end_time": "2021-07-19T00:20:01.768481",
     "exception": false,
     "start_time": "2021-07-19T00:20:01.723451",
     "status": "completed"
    },
    "tags": []
   },
   "outputs": [],
   "source": [
    "#hide\n",
    "# cols.insert(0, cols.pop())"
   ]
  },
  {
   "cell_type": "code",
   "execution_count": 30,
   "id": "executed-adoption",
   "metadata": {
    "execution": {
     "iopub.execute_input": "2021-07-19T00:20:01.851971Z",
     "iopub.status.busy": "2021-07-19T00:20:01.850982Z",
     "iopub.status.idle": "2021-07-19T00:20:01.854112Z",
     "shell.execute_reply": "2021-07-19T00:20:01.853259Z"
    },
    "papermill": {
     "duration": 0.045822,
     "end_time": "2021-07-19T00:20:01.854261",
     "exception": false,
     "start_time": "2021-07-19T00:20:01.808439",
     "status": "completed"
    },
    "tags": []
   },
   "outputs": [],
   "source": [
    "#hide\n",
    "# g = g[cols]"
   ]
  },
  {
   "cell_type": "code",
   "execution_count": 31,
   "id": "subject-dublin",
   "metadata": {
    "execution": {
     "iopub.execute_input": "2021-07-19T00:20:01.942661Z",
     "iopub.status.busy": "2021-07-19T00:20:01.941807Z",
     "iopub.status.idle": "2021-07-19T00:20:01.944386Z",
     "shell.execute_reply": "2021-07-19T00:20:01.943842Z"
    },
    "papermill": {
     "duration": 0.049521,
     "end_time": "2021-07-19T00:20:01.944517",
     "exception": false,
     "start_time": "2021-07-19T00:20:01.894996",
     "status": "completed"
    },
    "tags": []
   },
   "outputs": [],
   "source": [
    "#hide\n",
    "# g['continent'] = g['continent'].map(mapping['map.continent'])"
   ]
  },
  {
   "cell_type": "code",
   "execution_count": 32,
   "id": "freelance-scout",
   "metadata": {
    "execution": {
     "iopub.execute_input": "2021-07-19T00:20:02.028052Z",
     "iopub.status.busy": "2021-07-19T00:20:02.027303Z",
     "iopub.status.idle": "2021-07-19T00:20:02.029373Z",
     "shell.execute_reply": "2021-07-19T00:20:02.029877Z"
    },
    "papermill": {
     "duration": 0.044702,
     "end_time": "2021-07-19T00:20:02.030027",
     "exception": false,
     "start_time": "2021-07-19T00:20:01.985325",
     "status": "completed"
    },
    "tags": []
   },
   "outputs": [],
   "source": [
    "#hide\n",
    "# g.head()"
   ]
  },
  {
   "cell_type": "code",
   "execution_count": 33,
   "id": "limited-engine",
   "metadata": {
    "execution": {
     "iopub.execute_input": "2021-07-19T00:20:02.112913Z",
     "iopub.status.busy": "2021-07-19T00:20:02.112216Z",
     "iopub.status.idle": "2021-07-19T00:20:02.114399Z",
     "shell.execute_reply": "2021-07-19T00:20:02.114968Z"
    },
    "papermill": {
     "duration": 0.045954,
     "end_time": "2021-07-19T00:20:02.115105",
     "exception": false,
     "start_time": "2021-07-19T00:20:02.069151",
     "status": "completed"
    },
    "tags": []
   },
   "outputs": [],
   "source": [
    "# hide\n",
    "# g['date'] = g['date'].astype('datetime64[ns]')"
   ]
  },
  {
   "cell_type": "code",
   "execution_count": 34,
   "id": "sophisticated-supervisor",
   "metadata": {
    "execution": {
     "iopub.execute_input": "2021-07-19T00:20:02.198605Z",
     "iopub.status.busy": "2021-07-19T00:20:02.197948Z",
     "iopub.status.idle": "2021-07-19T00:20:02.199904Z",
     "shell.execute_reply": "2021-07-19T00:20:02.200393Z"
    },
    "papermill": {
     "duration": 0.045973,
     "end_time": "2021-07-19T00:20:02.200533",
     "exception": false,
     "start_time": "2021-07-19T00:20:02.154560",
     "status": "completed"
    },
    "tags": []
   },
   "outputs": [],
   "source": [
    "#hide\n",
    "# g['date'] = g.date.dt.dayofyear"
   ]
  },
  {
   "cell_type": "code",
   "execution_count": 35,
   "id": "inside-dubai",
   "metadata": {
    "execution": {
     "iopub.execute_input": "2021-07-19T00:20:02.283234Z",
     "iopub.status.busy": "2021-07-19T00:20:02.282563Z",
     "iopub.status.idle": "2021-07-19T00:20:02.284861Z",
     "shell.execute_reply": "2021-07-19T00:20:02.284323Z"
    },
    "papermill": {
     "duration": 0.043814,
     "end_time": "2021-07-19T00:20:02.285000",
     "exception": false,
     "start_time": "2021-07-19T00:20:02.241186",
     "status": "completed"
    },
    "tags": []
   },
   "outputs": [],
   "source": [
    "#hide\n",
    "# g = g.rename(columns= {'continent':'group','country':'name','cases':'value'})"
   ]
  },
  {
   "cell_type": "code",
   "execution_count": 36,
   "id": "fleet-motorcycle",
   "metadata": {
    "execution": {
     "iopub.execute_input": "2021-07-19T00:20:02.367909Z",
     "iopub.status.busy": "2021-07-19T00:20:02.367294Z",
     "iopub.status.idle": "2021-07-19T00:20:02.369895Z",
     "shell.execute_reply": "2021-07-19T00:20:02.369275Z"
    },
    "papermill": {
     "duration": 0.045761,
     "end_time": "2021-07-19T00:20:02.370031",
     "exception": false,
     "start_time": "2021-07-19T00:20:02.324270",
     "status": "completed"
    },
    "tags": []
   },
   "outputs": [],
   "source": [
    "#hide\n",
    "# cols = ['name','group','day','value']"
   ]
  },
  {
   "cell_type": "code",
   "execution_count": 37,
   "id": "continued-sleeping",
   "metadata": {
    "execution": {
     "iopub.execute_input": "2021-07-19T00:20:02.454122Z",
     "iopub.status.busy": "2021-07-19T00:20:02.453379Z",
     "iopub.status.idle": "2021-07-19T00:20:02.455501Z",
     "shell.execute_reply": "2021-07-19T00:20:02.456029Z"
    },
    "papermill": {
     "duration": 0.048997,
     "end_time": "2021-07-19T00:20:02.456178",
     "exception": false,
     "start_time": "2021-07-19T00:20:02.407181",
     "status": "completed"
    },
    "tags": []
   },
   "outputs": [],
   "source": [
    "#hide\n",
    "# g.rename(columns= {'date':'day'},inplace = True)"
   ]
  },
  {
   "cell_type": "code",
   "execution_count": 38,
   "id": "major-fight",
   "metadata": {
    "execution": {
     "iopub.execute_input": "2021-07-19T00:20:02.541332Z",
     "iopub.status.busy": "2021-07-19T00:20:02.540499Z",
     "iopub.status.idle": "2021-07-19T00:20:02.543387Z",
     "shell.execute_reply": "2021-07-19T00:20:02.542823Z"
    },
    "papermill": {
     "duration": 0.046666,
     "end_time": "2021-07-19T00:20:02.543516",
     "exception": false,
     "start_time": "2021-07-19T00:20:02.496850",
     "status": "completed"
    },
    "tags": []
   },
   "outputs": [],
   "source": [
    "#hide\n",
    "# g = g[cols]"
   ]
  },
  {
   "cell_type": "code",
   "execution_count": 39,
   "id": "structured-mobile",
   "metadata": {
    "execution": {
     "iopub.execute_input": "2021-07-19T00:20:02.633844Z",
     "iopub.status.busy": "2021-07-19T00:20:02.633178Z",
     "iopub.status.idle": "2021-07-19T00:20:02.635659Z",
     "shell.execute_reply": "2021-07-19T00:20:02.634980Z"
    },
    "papermill": {
     "duration": 0.047819,
     "end_time": "2021-07-19T00:20:02.635790",
     "exception": false,
     "start_time": "2021-07-19T00:20:02.587971",
     "status": "completed"
    },
    "tags": []
   },
   "outputs": [],
   "source": [
    "# #hide\n",
    "# g = g[g.group.notna()]"
   ]
  },
  {
   "cell_type": "code",
   "execution_count": 40,
   "id": "determined-closing",
   "metadata": {
    "execution": {
     "iopub.execute_input": "2021-07-19T00:20:02.722002Z",
     "iopub.status.busy": "2021-07-19T00:20:02.721348Z",
     "iopub.status.idle": "2021-07-19T00:20:02.723691Z",
     "shell.execute_reply": "2021-07-19T00:20:02.723069Z"
    },
    "papermill": {
     "duration": 0.047247,
     "end_time": "2021-07-19T00:20:02.723814",
     "exception": false,
     "start_time": "2021-07-19T00:20:02.676567",
     "status": "completed"
    },
    "tags": []
   },
   "outputs": [],
   "source": [
    "# #hide\n",
    "# colors = dict(zip(\n",
    "#     [\"Oceania\", \"Europe\", \"Asia\", \"South America\", \"Middle East\", \"North America\", \"Africa\"],\n",
    "#     [\"#adb0ff\", \"#ffb3ff\", \"#90d595\", \"#e48381\", \"#aafbff\", \"#f7bb5f\", \"#eafb50\"]\n",
    "# ))\n",
    "# group_lk = g.set_index('name')['group'].to_dict()"
   ]
  },
  {
   "cell_type": "code",
   "execution_count": null,
   "id": "gross-drinking",
   "metadata": {
    "papermill": {
     "duration": 0.039883,
     "end_time": "2021-07-19T00:20:02.803853",
     "exception": false,
     "start_time": "2021-07-19T00:20:02.763970",
     "status": "completed"
    },
    "tags": []
   },
   "outputs": [],
   "source": []
  },
  {
   "cell_type": "code",
   "execution_count": 41,
   "id": "subject-macintosh",
   "metadata": {
    "execution": {
     "iopub.execute_input": "2021-07-19T00:20:02.890724Z",
     "iopub.status.busy": "2021-07-19T00:20:02.889466Z",
     "iopub.status.idle": "2021-07-19T00:20:02.892007Z",
     "shell.execute_reply": "2021-07-19T00:20:02.892719Z"
    },
    "papermill": {
     "duration": 0.048613,
     "end_time": "2021-07-19T00:20:02.892866",
     "exception": false,
     "start_time": "2021-07-19T00:20:02.844253",
     "status": "completed"
    },
    "tags": []
   },
   "outputs": [],
   "source": [
    "# #hide\n",
    "# fig, ax = plt.subplots(figsize=(15, 8))\n",
    "\n",
    "# def draw_barchart(current_day):\n",
    "#     dff = g[g['day'].eq(current_day)].sort_values(by='value', ascending=True).tail(10)\n",
    "#     ax.clear()\n",
    "#     ax.barh(dff['name'], dff['value'], color=[colors[group_lk[x]] for x in dff['name']])\n",
    "#     dx = dff['value'].max() / 200\n",
    "    \n",
    "#     for i, (value, name) in enumerate(zip(dff['value'], dff['name'])):\n",
    "#         ax.text(value-dx, i,     name,           size=14, weight=600, ha='right', va='bottom')\n",
    "#         ax.text(value-dx, i-.25, group_lk[name], size=10, color='#444444', ha='right', va='baseline')\n",
    "#         ax.text(value+dx, i,     f'{value:,.0f}',  size=14, ha='left',  va='center')\n",
    "#     ax.text(1, 0.4, current_day, transform=ax.transAxes, color='#777777', size=46, ha='right', weight=800)\n",
    "#     ax.text(0, 1.06, 'Population (thousands)', transform=ax.transAxes, size=12, color='#777777')\n",
    "#     ax.xaxis.set_major_formatter(ticker.StrMethodFormatter('{x:,.0f}'))\n",
    "#     ax.xaxis.set_ticks_position('top')\n",
    "#     ax.tick_params(axis='x', colors='#777777', labelsize=12)\n",
    "#     ax.set_yticks([])\n",
    "#     ax.margins(0, 0.01)\n",
    "#     ax.grid(which='major', axis='x', linestyle='-')\n",
    "#     ax.set_axisbelow(True)\n",
    "    \n",
    "#     ax.text(0, 1.15, 'Coronavirus',\n",
    "#             transform=ax.transAxes, size=24, weight=600, ha='left', va='top')\n",
    "# #     ax.text(1, 0, 'by @pratapvardhan; credit @jburnmurdoch', transform=ax.transAxes, color='#777777', ha='right',\n",
    "# #             bbox=dict(facecolor='white', alpha=0.8, edgecolor='white'))\n",
    "#     plt.box(False)"
   ]
  },
  {
   "cell_type": "code",
   "execution_count": 42,
   "id": "sexual-wages",
   "metadata": {
    "execution": {
     "iopub.execute_input": "2021-07-19T00:20:02.980397Z",
     "iopub.status.busy": "2021-07-19T00:20:02.979803Z",
     "iopub.status.idle": "2021-07-19T00:20:02.981705Z",
     "shell.execute_reply": "2021-07-19T00:20:02.982316Z"
    },
    "papermill": {
     "duration": 0.049047,
     "end_time": "2021-07-19T00:20:02.982475",
     "exception": false,
     "start_time": "2021-07-19T00:20:02.933428",
     "status": "completed"
    },
    "tags": []
   },
   "outputs": [],
   "source": [
    "# #hide_input\n",
    "# fig, ax = plt.subplots(figsize=(15, 8))\n",
    "# animator = animation.FuncAnimation(fig, draw_barchart, frames=range(g.day.values.min(), g.day.values.max()))\n",
    "# HTML(animator.to_jshtml())\n",
    "# # or use animator.to_html5_video() or animator.save() "
   ]
  },
  {
   "cell_type": "code",
   "execution_count": null,
   "id": "australian-container",
   "metadata": {
    "papermill": {
     "duration": 0.045532,
     "end_time": "2021-07-19T00:20:03.066314",
     "exception": false,
     "start_time": "2021-07-19T00:20:03.020782",
     "status": "completed"
    },
    "tags": []
   },
   "outputs": [],
   "source": []
  },
  {
   "cell_type": "code",
   "execution_count": null,
   "id": "mediterranean-pontiac",
   "metadata": {
    "papermill": {
     "duration": 0.037632,
     "end_time": "2021-07-19T00:20:03.142312",
     "exception": false,
     "start_time": "2021-07-19T00:20:03.104680",
     "status": "completed"
    },
    "tags": []
   },
   "outputs": [],
   "source": []
  },
  {
   "cell_type": "code",
   "execution_count": null,
   "id": "aging-legislature",
   "metadata": {
    "papermill": {
     "duration": 0.036948,
     "end_time": "2021-07-19T00:20:03.215365",
     "exception": false,
     "start_time": "2021-07-19T00:20:03.178417",
     "status": "completed"
    },
    "tags": []
   },
   "outputs": [],
   "source": []
  }
 ],
 "metadata": {
  "kernelspec": {
   "display_name": "Python 3",
   "language": "python",
   "name": "python3"
  },
  "language_info": {
   "codemirror_mode": {
    "name": "ipython",
    "version": 3
   },
   "file_extension": ".py",
   "mimetype": "text/x-python",
   "name": "python",
   "nbconvert_exporter": "python",
   "pygments_lexer": "ipython3",
   "version": "3.6.14"
  },
  "papermill": {
   "duration": 6.973152,
   "end_time": "2021-07-19T00:20:03.559956",
   "environment_variables": {},
   "exception": null,
   "input_path": "2020-03-21-covid19exp.ipynb",
   "output_path": "2020-03-21-covid19exp.ipynb",
   "parameters": {},
   "start_time": "2021-07-19T00:19:56.586804",
   "version": "2.0.0"
  }
 },
 "nbformat": 4,
 "nbformat_minor": 5
}