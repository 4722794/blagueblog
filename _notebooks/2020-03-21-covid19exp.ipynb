{
 "cells": [
  {
   "cell_type": "markdown",
   "id": "muslim-click",
   "metadata": {
    "papermill": {
     "duration": 0.041211,
     "end_time": "2021-05-21T00:25:15.026716",
     "exception": false,
     "start_time": "2021-05-21T00:25:14.985505",
     "status": "completed"
    },
    "tags": []
   },
   "source": [
    "# COVID-19 Case Race\n",
    "> A race chart to see rising cases around the world\n",
    "\n",
    "- author: Hargun Oberoi\n",
    "- image: images/covid-overview.png\n",
    "- hide: false\n",
    "- badges: false"
   ]
  },
  {
   "cell_type": "code",
   "execution_count": 1,
   "id": "proof-material",
   "metadata": {
    "execution": {
     "iopub.execute_input": "2021-05-21T00:25:15.116859Z",
     "iopub.status.busy": "2021-05-21T00:25:15.116219Z",
     "iopub.status.idle": "2021-05-21T00:25:15.523594Z",
     "shell.execute_reply": "2021-05-21T00:25:15.522929Z"
    },
    "papermill": {
     "duration": 0.456929,
     "end_time": "2021-05-21T00:25:15.523804",
     "exception": false,
     "start_time": "2021-05-21T00:25:15.066875",
     "status": "completed"
    },
    "tags": []
   },
   "outputs": [],
   "source": [
    "#hide\n",
    "import numpy as np\n",
    "import pandas as pd\n",
    "from jinja2 import Template\n",
    "from IPython.display import HTML"
   ]
  },
  {
   "cell_type": "code",
   "execution_count": 2,
   "id": "developed-terminology",
   "metadata": {
    "execution": {
     "iopub.execute_input": "2021-05-21T00:25:15.608658Z",
     "iopub.status.busy": "2021-05-21T00:25:15.607991Z",
     "iopub.status.idle": "2021-05-21T00:25:15.610069Z",
     "shell.execute_reply": "2021-05-21T00:25:15.610593Z"
    },
    "papermill": {
     "duration": 0.046885,
     "end_time": "2021-05-21T00:25:15.610777",
     "exception": false,
     "start_time": "2021-05-21T00:25:15.563892",
     "status": "completed"
    },
    "tags": []
   },
   "outputs": [],
   "source": [
    "#hide\n",
    "\n",
    "# FETCH\n",
    "base_url = 'https://raw.githubusercontent.com/pratapvardhan/notebooks/master/covid19/'\n",
    "paths = {\n",
    "    'mapping': base_url + 'mapping_countries.csv',\n",
    "    'overview': base_url + 'overview.tpl'\n",
    "}"
   ]
  },
  {
   "cell_type": "code",
   "execution_count": 3,
   "id": "dynamic-saver",
   "metadata": {
    "execution": {
     "iopub.execute_input": "2021-05-21T00:25:15.699988Z",
     "iopub.status.busy": "2021-05-21T00:25:15.699345Z",
     "iopub.status.idle": "2021-05-21T00:25:15.703593Z",
     "shell.execute_reply": "2021-05-21T00:25:15.703036Z"
    },
    "papermill": {
     "duration": 0.054683,
     "end_time": "2021-05-21T00:25:15.703724",
     "exception": false,
     "start_time": "2021-05-21T00:25:15.649041",
     "status": "completed"
    },
    "tags": []
   },
   "outputs": [
    {
     "data": {
      "text/plain": [
       "'https://raw.githubusercontent.com/pratapvardhan/notebooks/master/covid19/mapping_countries.csv'"
      ]
     },
     "execution_count": 3,
     "metadata": {},
     "output_type": "execute_result"
    }
   ],
   "source": [
    "#hide\n",
    "paths['mapping']"
   ]
  },
  {
   "cell_type": "code",
   "execution_count": 4,
   "id": "urban-software",
   "metadata": {
    "execution": {
     "iopub.execute_input": "2021-05-21T00:25:15.790889Z",
     "iopub.status.busy": "2021-05-21T00:25:15.790087Z",
     "iopub.status.idle": "2021-05-21T00:25:15.793215Z",
     "shell.execute_reply": "2021-05-21T00:25:15.792676Z"
    },
    "papermill": {
     "duration": 0.050493,
     "end_time": "2021-05-21T00:25:15.793342",
     "exception": false,
     "start_time": "2021-05-21T00:25:15.742849",
     "status": "completed"
    },
    "tags": []
   },
   "outputs": [],
   "source": [
    "#hide\n",
    "def get_mappings(url):\n",
    "    df = pd.read_csv(url)\n",
    "    return {\n",
    "        'df': df,\n",
    "        'replace.country': dict(df.dropna(subset=['Name']).set_index('Country')['Name']),\n",
    "        'map.continent': dict(df.set_index('Name')['Continent'])\n",
    "    }"
   ]
  },
  {
   "cell_type": "code",
   "execution_count": 5,
   "id": "intimate-machinery",
   "metadata": {
    "execution": {
     "iopub.execute_input": "2021-05-21T00:25:15.871668Z",
     "iopub.status.busy": "2021-05-21T00:25:15.870859Z",
     "iopub.status.idle": "2021-05-21T00:25:15.912566Z",
     "shell.execute_reply": "2021-05-21T00:25:15.911933Z"
    },
    "papermill": {
     "duration": 0.082574,
     "end_time": "2021-05-21T00:25:15.912739",
     "exception": false,
     "start_time": "2021-05-21T00:25:15.830165",
     "status": "completed"
    },
    "tags": []
   },
   "outputs": [],
   "source": [
    "#hide\n",
    "mapping = get_mappings(paths['mapping'])"
   ]
  },
  {
   "cell_type": "code",
   "execution_count": 6,
   "id": "certified-tactics",
   "metadata": {
    "execution": {
     "iopub.execute_input": "2021-05-21T00:25:15.997372Z",
     "iopub.status.busy": "2021-05-21T00:25:15.996735Z",
     "iopub.status.idle": "2021-05-21T00:25:15.999484Z",
     "shell.execute_reply": "2021-05-21T00:25:15.998974Z"
    },
    "papermill": {
     "duration": 0.047959,
     "end_time": "2021-05-21T00:25:15.999606",
     "exception": false,
     "start_time": "2021-05-21T00:25:15.951647",
     "status": "completed"
    },
    "tags": []
   },
   "outputs": [],
   "source": [
    "#hide\n",
    "def get_template(path):\n",
    "    from urllib.parse import urlparse\n",
    "    if bool(urlparse(path).netloc):\n",
    "        from urllib.request import urlopen\n",
    "        return urlopen(path).read().decode('utf8')\n",
    "    return open(path).read()"
   ]
  },
  {
   "cell_type": "code",
   "execution_count": 7,
   "id": "realistic-blast",
   "metadata": {
    "execution": {
     "iopub.execute_input": "2021-05-21T00:25:16.079570Z",
     "iopub.status.busy": "2021-05-21T00:25:16.078932Z",
     "iopub.status.idle": "2021-05-21T00:25:16.081182Z",
     "shell.execute_reply": "2021-05-21T00:25:16.081736Z"
    },
    "papermill": {
     "duration": 0.044685,
     "end_time": "2021-05-21T00:25:16.081868",
     "exception": false,
     "start_time": "2021-05-21T00:25:16.037183",
     "status": "completed"
    },
    "tags": []
   },
   "outputs": [],
   "source": [
    "#hide\n",
    "def get_frame(name):\n",
    "    url = (\n",
    "        'https://raw.githubusercontent.com/CSSEGISandData/COVID-19/master/csse_covid_19_data/'\n",
    "        f'csse_covid_19_time_series/time_series_covid19_{name}_global.csv')\n",
    "    df = pd.read_csv(url)\n",
    "    # rename countries\n",
    "    df['Country/Region'] = df['Country/Region'].replace(mapping['replace.country'])\n",
    "    return df"
   ]
  },
  {
   "cell_type": "code",
   "execution_count": 8,
   "id": "affiliated-characterization",
   "metadata": {
    "execution": {
     "iopub.execute_input": "2021-05-21T00:25:16.165409Z",
     "iopub.status.busy": "2021-05-21T00:25:16.164462Z",
     "iopub.status.idle": "2021-05-21T00:25:16.169305Z",
     "shell.execute_reply": "2021-05-21T00:25:16.169837Z"
    },
    "papermill": {
     "duration": 0.050687,
     "end_time": "2021-05-21T00:25:16.169995",
     "exception": false,
     "start_time": "2021-05-21T00:25:16.119308",
     "status": "completed"
    },
    "tags": []
   },
   "outputs": [],
   "source": [
    "#hide\n",
    "def get_dates(df):\n",
    "    dt_cols = df.columns[~df.columns.isin(['Province/State', 'Country/Region', 'Lat', 'Long'])]\n",
    "    LAST_DATE_I = -1\n",
    "    # sometimes last column may be empty, then go backwards\n",
    "    for i in range(-1, -len(dt_cols), -1):\n",
    "        if not df[dt_cols[i]].fillna(0).eq(0).all():\n",
    "            LAST_DATE_I = i\n",
    "            break\n",
    "    return LAST_DATE_I, dt_cols"
   ]
  },
  {
   "cell_type": "code",
   "execution_count": 9,
   "id": "recent-optimization",
   "metadata": {
    "execution": {
     "iopub.execute_input": "2021-05-21T00:25:16.253708Z",
     "iopub.status.busy": "2021-05-21T00:25:16.253022Z",
     "iopub.status.idle": "2021-05-21T00:25:16.636796Z",
     "shell.execute_reply": "2021-05-21T00:25:16.636237Z"
    },
    "papermill": {
     "duration": 0.42812,
     "end_time": "2021-05-21T00:25:16.636944",
     "exception": false,
     "start_time": "2021-05-21T00:25:16.208824",
     "status": "completed"
    },
    "tags": []
   },
   "outputs": [],
   "source": [
    "#hide\n",
    "COL_REGION = 'Country/Region'\n",
    "# Confirmed, Recovered, Deaths\n",
    "df = get_frame('confirmed')\n",
    "# dft_: timeseries, dfc_: today country agg\n",
    "dft_cases = df\n",
    "dft_deaths = get_frame('deaths')\n",
    "dft_recovered = get_frame('recovered')\n",
    "LAST_DATE_I, dt_cols = get_dates(df)"
   ]
  },
  {
   "cell_type": "code",
   "execution_count": 10,
   "id": "absolute-copper",
   "metadata": {
    "execution": {
     "iopub.execute_input": "2021-05-21T00:25:16.726032Z",
     "iopub.status.busy": "2021-05-21T00:25:16.725352Z",
     "iopub.status.idle": "2021-05-21T00:25:16.728767Z",
     "shell.execute_reply": "2021-05-21T00:25:16.728238Z"
    },
    "papermill": {
     "duration": 0.052666,
     "end_time": "2021-05-21T00:25:16.728892",
     "exception": false,
     "start_time": "2021-05-21T00:25:16.676226",
     "status": "completed"
    },
    "tags": []
   },
   "outputs": [],
   "source": [
    "#hide\n",
    "LAST_DATE_I, dt_cols = get_dates(df)\n",
    "dt_today =dt_cols[LAST_DATE_I]\n",
    "# dt_5day = dt_cols[LAST_DATE_I - 5]\n",
    "dt_yday = dt_cols[LAST_DATE_I - 1]"
   ]
  },
  {
   "cell_type": "code",
   "execution_count": 11,
   "id": "restricted-sheriff",
   "metadata": {
    "execution": {
     "iopub.execute_input": "2021-05-21T00:25:16.815372Z",
     "iopub.status.busy": "2021-05-21T00:25:16.814653Z",
     "iopub.status.idle": "2021-05-21T00:25:16.823230Z",
     "shell.execute_reply": "2021-05-21T00:25:16.824101Z"
    },
    "papermill": {
     "duration": 0.055759,
     "end_time": "2021-05-21T00:25:16.824257",
     "exception": false,
     "start_time": "2021-05-21T00:25:16.768498",
     "status": "completed"
    },
    "tags": []
   },
   "outputs": [],
   "source": [
    "#hide\n",
    "dfc_cases = dft_cases.groupby(COL_REGION)[dt_today].sum()\n",
    "dfc_deaths = dft_deaths.groupby(COL_REGION)[dt_today].sum()\n",
    "# dfp_cases = dft_cases.groupby(COL_REGION)[dt_5day].sum()\n",
    "# dfp_deaths = dft_deaths.groupby(COL_REGION)[dt_5day].sum()\n",
    "dfp_cases = dft_cases.groupby(COL_REGION)[dt_yday].sum()\n",
    "dfp_deaths = dft_deaths.groupby(COL_REGION)[dt_yday].sum()"
   ]
  },
  {
   "cell_type": "code",
   "execution_count": 12,
   "id": "deluxe-hepatitis",
   "metadata": {
    "execution": {
     "iopub.execute_input": "2021-05-21T00:25:16.909323Z",
     "iopub.status.busy": "2021-05-21T00:25:16.908449Z",
     "iopub.status.idle": "2021-05-21T00:25:16.913974Z",
     "shell.execute_reply": "2021-05-21T00:25:16.913159Z"
    },
    "papermill": {
     "duration": 0.050824,
     "end_time": "2021-05-21T00:25:16.914129",
     "exception": false,
     "start_time": "2021-05-21T00:25:16.863305",
     "status": "completed"
    },
    "tags": []
   },
   "outputs": [],
   "source": [
    "#hide\n",
    "df_table = (pd.DataFrame(dict(Cases = dfc_cases, Deaths = dfc_deaths, PCases = dfp_cases, PDeaths = dfp_deaths))\n",
    "            .sort_values(by = ['Cases','Deaths'], ascending = [False, False])\n",
    "            .reset_index())"
   ]
  },
  {
   "cell_type": "code",
   "execution_count": 13,
   "id": "educational-chancellor",
   "metadata": {
    "execution": {
     "iopub.execute_input": "2021-05-21T00:25:17.014919Z",
     "iopub.status.busy": "2021-05-21T00:25:17.014088Z",
     "iopub.status.idle": "2021-05-21T00:25:17.023448Z",
     "shell.execute_reply": "2021-05-21T00:25:17.024092Z"
    },
    "papermill": {
     "duration": 0.072864,
     "end_time": "2021-05-21T00:25:17.024248",
     "exception": false,
     "start_time": "2021-05-21T00:25:16.951384",
     "status": "completed"
    },
    "tags": []
   },
   "outputs": [
    {
     "data": {
      "text/html": [
       "<div>\n",
       "<style scoped>\n",
       "    .dataframe tbody tr th:only-of-type {\n",
       "        vertical-align: middle;\n",
       "    }\n",
       "\n",
       "    .dataframe tbody tr th {\n",
       "        vertical-align: top;\n",
       "    }\n",
       "\n",
       "    .dataframe thead th {\n",
       "        text-align: right;\n",
       "    }\n",
       "</style>\n",
       "<table border=\"1\" class=\"dataframe\">\n",
       "  <thead>\n",
       "    <tr style=\"text-align: right;\">\n",
       "      <th></th>\n",
       "      <th>Country/Region</th>\n",
       "      <th>Cases</th>\n",
       "      <th>Deaths</th>\n",
       "      <th>PCases</th>\n",
       "      <th>PDeaths</th>\n",
       "      <th>Cases (+)</th>\n",
       "      <th>Deaths (+)</th>\n",
       "      <th>Fatality Rate</th>\n",
       "      <th>Continent</th>\n",
       "    </tr>\n",
       "  </thead>\n",
       "  <tbody>\n",
       "    <tr>\n",
       "      <th>0</th>\n",
       "      <td>US</td>\n",
       "      <td>33026624</td>\n",
       "      <td>587874</td>\n",
       "      <td>32997331</td>\n",
       "      <td>587219</td>\n",
       "      <td>29293</td>\n",
       "      <td>655</td>\n",
       "      <td>1.78</td>\n",
       "      <td>North America</td>\n",
       "    </tr>\n",
       "    <tr>\n",
       "      <th>1</th>\n",
       "      <td>India</td>\n",
       "      <td>25772440</td>\n",
       "      <td>287122</td>\n",
       "      <td>25496330</td>\n",
       "      <td>283248</td>\n",
       "      <td>276110</td>\n",
       "      <td>3874</td>\n",
       "      <td>1.11</td>\n",
       "      <td>Asia</td>\n",
       "    </tr>\n",
       "    <tr>\n",
       "      <th>2</th>\n",
       "      <td>Brazil</td>\n",
       "      <td>15812055</td>\n",
       "      <td>441691</td>\n",
       "      <td>15732836</td>\n",
       "      <td>439050</td>\n",
       "      <td>79219</td>\n",
       "      <td>2641</td>\n",
       "      <td>2.79</td>\n",
       "      <td>South America</td>\n",
       "    </tr>\n",
       "    <tr>\n",
       "      <th>3</th>\n",
       "      <td>France</td>\n",
       "      <td>5978650</td>\n",
       "      <td>108342</td>\n",
       "      <td>5959593</td>\n",
       "      <td>108201</td>\n",
       "      <td>19057</td>\n",
       "      <td>141</td>\n",
       "      <td>1.81</td>\n",
       "      <td>Europe</td>\n",
       "    </tr>\n",
       "    <tr>\n",
       "      <th>4</th>\n",
       "      <td>Turkey</td>\n",
       "      <td>5151038</td>\n",
       "      <td>45419</td>\n",
       "      <td>5139485</td>\n",
       "      <td>45186</td>\n",
       "      <td>11553</td>\n",
       "      <td>233</td>\n",
       "      <td>0.88</td>\n",
       "      <td>Asia</td>\n",
       "    </tr>\n",
       "  </tbody>\n",
       "</table>\n",
       "</div>"
      ],
      "text/plain": [
       "  Country/Region     Cases  Deaths    PCases  PDeaths  Cases (+)  Deaths (+)  \\\n",
       "0             US  33026624  587874  32997331   587219      29293         655   \n",
       "1          India  25772440  287122  25496330   283248     276110        3874   \n",
       "2         Brazil  15812055  441691  15732836   439050      79219        2641   \n",
       "3         France   5978650  108342   5959593   108201      19057         141   \n",
       "4         Turkey   5151038   45419   5139485    45186      11553         233   \n",
       "\n",
       "   Fatality Rate      Continent  \n",
       "0           1.78  North America  \n",
       "1           1.11           Asia  \n",
       "2           2.79  South America  \n",
       "3           1.81         Europe  \n",
       "4           0.88           Asia  "
      ]
     },
     "execution_count": 13,
     "metadata": {},
     "output_type": "execute_result"
    }
   ],
   "source": [
    "#hide\n",
    "for c in 'Cases, Deaths'.split(', '):\n",
    "    df_table[f'{c} (+)'] = (df_table[c] - df_table[f'P{c}']).clip(0)\n",
    "    #Clip ça veut dire, les chiffres negatif sont interdit\n",
    "df_table['Fatality Rate'] = (100* df_table['Deaths']/ df_table['Cases']).round(2)\n",
    "df_table['Continent'] = df_table['Country/Region'].map(mapping['map.continent'])\n",
    "df_table.head(5)"
   ]
  },
  {
   "cell_type": "code",
   "execution_count": 14,
   "id": "aboriginal-bulgaria",
   "metadata": {
    "execution": {
     "iopub.execute_input": "2021-05-21T00:25:17.108223Z",
     "iopub.status.busy": "2021-05-21T00:25:17.107499Z",
     "iopub.status.idle": "2021-05-21T00:25:17.110071Z",
     "shell.execute_reply": "2021-05-21T00:25:17.110561Z"
    },
    "papermill": {
     "duration": 0.047478,
     "end_time": "2021-05-21T00:25:17.110708",
     "exception": false,
     "start_time": "2021-05-21T00:25:17.063230",
     "status": "completed"
    },
    "tags": []
   },
   "outputs": [],
   "source": [
    "#hide\n",
    "#delete problematic countries from table\n",
    "df_table = df_table[~df_table['Country/Region'].isin(['Cape Verde', 'Cruise Ship', 'Kosovo'])]"
   ]
  },
  {
   "cell_type": "code",
   "execution_count": 15,
   "id": "fantastic-effect",
   "metadata": {
    "execution": {
     "iopub.execute_input": "2021-05-21T00:25:17.199659Z",
     "iopub.status.busy": "2021-05-21T00:25:17.198861Z",
     "iopub.status.idle": "2021-05-21T00:25:17.221390Z",
     "shell.execute_reply": "2021-05-21T00:25:17.221929Z"
    },
    "papermill": {
     "duration": 0.071337,
     "end_time": "2021-05-21T00:25:17.222096",
     "exception": false,
     "start_time": "2021-05-21T00:25:17.150759",
     "status": "completed"
    },
    "tags": []
   },
   "outputs": [
    {
     "data": {
      "text/html": [
       "<div>\n",
       "<style scoped>\n",
       "    .dataframe tbody tr th:only-of-type {\n",
       "        vertical-align: middle;\n",
       "    }\n",
       "\n",
       "    .dataframe tbody tr th {\n",
       "        vertical-align: top;\n",
       "    }\n",
       "\n",
       "    .dataframe thead th {\n",
       "        text-align: right;\n",
       "    }\n",
       "</style>\n",
       "<table border=\"1\" class=\"dataframe\">\n",
       "  <thead>\n",
       "    <tr style=\"text-align: right;\">\n",
       "      <th></th>\n",
       "      <th>Country/Region</th>\n",
       "      <th>Cases</th>\n",
       "      <th>Deaths</th>\n",
       "      <th>PCases</th>\n",
       "      <th>PDeaths</th>\n",
       "      <th>Cases (+)</th>\n",
       "      <th>Deaths (+)</th>\n",
       "      <th>Fatality Rate</th>\n",
       "      <th>Continent</th>\n",
       "    </tr>\n",
       "  </thead>\n",
       "  <tbody>\n",
       "    <tr>\n",
       "      <th>0</th>\n",
       "      <td>US</td>\n",
       "      <td>33026624</td>\n",
       "      <td>587874</td>\n",
       "      <td>32997331</td>\n",
       "      <td>587219</td>\n",
       "      <td>29293</td>\n",
       "      <td>655</td>\n",
       "      <td>1.8</td>\n",
       "      <td>North America</td>\n",
       "    </tr>\n",
       "    <tr>\n",
       "      <th>1</th>\n",
       "      <td>India</td>\n",
       "      <td>25772440</td>\n",
       "      <td>287122</td>\n",
       "      <td>25496330</td>\n",
       "      <td>283248</td>\n",
       "      <td>276110</td>\n",
       "      <td>3874</td>\n",
       "      <td>1.1</td>\n",
       "      <td>Asia</td>\n",
       "    </tr>\n",
       "    <tr>\n",
       "      <th>2</th>\n",
       "      <td>Brazil</td>\n",
       "      <td>15812055</td>\n",
       "      <td>441691</td>\n",
       "      <td>15732836</td>\n",
       "      <td>439050</td>\n",
       "      <td>79219</td>\n",
       "      <td>2641</td>\n",
       "      <td>2.8</td>\n",
       "      <td>South America</td>\n",
       "    </tr>\n",
       "    <tr>\n",
       "      <th>3</th>\n",
       "      <td>France</td>\n",
       "      <td>5978650</td>\n",
       "      <td>108342</td>\n",
       "      <td>5959593</td>\n",
       "      <td>108201</td>\n",
       "      <td>19057</td>\n",
       "      <td>141</td>\n",
       "      <td>1.8</td>\n",
       "      <td>Europe</td>\n",
       "    </tr>\n",
       "    <tr>\n",
       "      <th>4</th>\n",
       "      <td>Turkey</td>\n",
       "      <td>5151038</td>\n",
       "      <td>45419</td>\n",
       "      <td>5139485</td>\n",
       "      <td>45186</td>\n",
       "      <td>11553</td>\n",
       "      <td>233</td>\n",
       "      <td>0.9</td>\n",
       "      <td>Asia</td>\n",
       "    </tr>\n",
       "  </tbody>\n",
       "</table>\n",
       "</div>"
      ],
      "text/plain": [
       "  Country/Region     Cases  Deaths    PCases  PDeaths  Cases (+)  Deaths (+)  \\\n",
       "0             US  33026624  587874  32997331   587219      29293         655   \n",
       "1          India  25772440  287122  25496330   283248     276110        3874   \n",
       "2         Brazil  15812055  441691  15732836   439050      79219        2641   \n",
       "3         France   5978650  108342   5959593   108201      19057         141   \n",
       "4         Turkey   5151038   45419   5139485    45186      11553         233   \n",
       "\n",
       "   Fatality Rate      Continent  \n",
       "0            1.8  North America  \n",
       "1            1.1           Asia  \n",
       "2            2.8  South America  \n",
       "3            1.8         Europe  \n",
       "4            0.9           Asia  "
      ]
     },
     "execution_count": 15,
     "metadata": {},
     "output_type": "execute_result"
    }
   ],
   "source": [
    "#hide\n",
    "df_table = (pd.DataFrame(dict(Cases=dfc_cases, Deaths=dfc_deaths, PCases=dfp_cases, PDeaths=dfp_deaths))\n",
    "             .sort_values(by=['Cases', 'Deaths'], ascending=[False, False])\n",
    "             .reset_index())\n",
    "df_table.rename(columns={'index': 'Country/Region'}, inplace=True)\n",
    "for c in 'Cases, Deaths'.split(', '):\n",
    "    df_table[f'{c} (+)'] = (df_table[c] - df_table[f'P{c}']).clip(0)  # DATA BUG\n",
    "df_table['Fatality Rate'] = (100 * df_table['Deaths'] / df_table['Cases']).round(1)\n",
    "df_table['Continent'] = df_table['Country/Region'].map(mapping['map.continent'])\n",
    "df_table.head(5)"
   ]
  },
  {
   "cell_type": "code",
   "execution_count": 16,
   "id": "fewer-occasion",
   "metadata": {
    "execution": {
     "iopub.execute_input": "2021-05-21T00:25:17.305955Z",
     "iopub.status.busy": "2021-05-21T00:25:17.305220Z",
     "iopub.status.idle": "2021-05-21T00:25:17.308265Z",
     "shell.execute_reply": "2021-05-21T00:25:17.307598Z"
    },
    "papermill": {
     "duration": 0.047217,
     "end_time": "2021-05-21T00:25:17.308489",
     "exception": false,
     "start_time": "2021-05-21T00:25:17.261272",
     "status": "completed"
    },
    "tags": []
   },
   "outputs": [],
   "source": [
    "#hide\n",
    "#delete problematic countries from table\n",
    "df_table = df_table[~df_table['Country/Region'].isin(['Cape Verde', 'Cruise Ship', 'Kosovo'])]"
   ]
  },
  {
   "cell_type": "code",
   "execution_count": 17,
   "id": "related-center",
   "metadata": {
    "execution": {
     "iopub.execute_input": "2021-05-21T00:25:17.405374Z",
     "iopub.status.busy": "2021-05-21T00:25:17.404660Z",
     "iopub.status.idle": "2021-05-21T00:25:17.415681Z",
     "shell.execute_reply": "2021-05-21T00:25:17.415127Z"
    },
    "papermill": {
     "duration": 0.068938,
     "end_time": "2021-05-21T00:25:17.415895",
     "exception": false,
     "start_time": "2021-05-21T00:25:17.346957",
     "status": "completed"
    },
    "tags": []
   },
   "outputs": [],
   "source": [
    "#hide\n",
    "metrics = [df_table.columns[index] for index in [1,2,5,6]]\n",
    "# s_china = df_table[df_table['Country/Region'].eq('China')][metrics].sum().add_prefix('China ')\n",
    "s_us = df_table[df_table['Country/Region'].eq('US')][metrics].sum().add_prefix('US ')\n",
    "s_eu = df_table[df_table['Continent'].eq('Europe')][metrics].sum().add_prefix('EU ')\n",
    "s_ind = df_table[df_table['Country/Region'].eq('India')][metrics].sum().add_prefix('India ')\n",
    "summary = {'updated': pd.to_datetime(dt_today), 'since': pd.to_datetime(dt_yday)}\n",
    "summary = {'updated': pd.to_datetime(dt_today), 'since': pd.to_datetime(dt_yday)}\n",
    "summary = {**summary, **df_table[metrics].sum(), **s_ind, **s_us, **s_eu}"
   ]
  },
  {
   "cell_type": "code",
   "execution_count": 18,
   "id": "engaging-syndrome",
   "metadata": {
    "execution": {
     "iopub.execute_input": "2021-05-21T00:25:17.501300Z",
     "iopub.status.busy": "2021-05-21T00:25:17.500633Z",
     "iopub.status.idle": "2021-05-21T00:25:17.513592Z",
     "shell.execute_reply": "2021-05-21T00:25:17.513075Z"
    },
    "papermill": {
     "duration": 0.057729,
     "end_time": "2021-05-21T00:25:17.513740",
     "exception": false,
     "start_time": "2021-05-21T00:25:17.456011",
     "status": "completed"
    },
    "tags": []
   },
   "outputs": [],
   "source": [
    "#hide\n",
    "dft_ct_new_cases = dft_cases.groupby(COL_REGION)[dt_cols].sum().diff(axis=1).fillna(0).astype(int)"
   ]
  },
  {
   "cell_type": "code",
   "execution_count": 19,
   "id": "neutral-assignment",
   "metadata": {
    "execution": {
     "iopub.execute_input": "2021-05-21T00:25:17.598246Z",
     "iopub.status.busy": "2021-05-21T00:25:17.597634Z",
     "iopub.status.idle": "2021-05-21T00:25:17.599581Z",
     "shell.execute_reply": "2021-05-21T00:25:17.600300Z"
    },
    "papermill": {
     "duration": 0.047952,
     "end_time": "2021-05-21T00:25:17.600444",
     "exception": false,
     "start_time": "2021-05-21T00:25:17.552492",
     "status": "completed"
    },
    "tags": []
   },
   "outputs": [],
   "source": [
    "#hide\n",
    "everydaycases = dft_ct_new_cases.cumsum(axis=1)"
   ]
  },
  {
   "cell_type": "code",
   "execution_count": 20,
   "id": "parliamentary-calgary",
   "metadata": {
    "execution": {
     "iopub.execute_input": "2021-05-21T00:25:17.683611Z",
     "iopub.status.busy": "2021-05-21T00:25:17.682509Z",
     "iopub.status.idle": "2021-05-21T00:25:18.283572Z",
     "shell.execute_reply": "2021-05-21T00:25:18.283065Z"
    },
    "papermill": {
     "duration": 0.644498,
     "end_time": "2021-05-21T00:25:18.283738",
     "exception": false,
     "start_time": "2021-05-21T00:25:17.639240",
     "status": "completed"
    },
    "tags": []
   },
   "outputs": [],
   "source": [
    "#hide\n",
    "import pandas as pd\n",
    "import matplotlib.pyplot as plt\n",
    "import matplotlib.ticker as ticker\n",
    "import matplotlib.animation as animation\n",
    "from IPython.display import HTML"
   ]
  },
  {
   "cell_type": "code",
   "execution_count": 21,
   "id": "lasting-extraction",
   "metadata": {
    "execution": {
     "iopub.execute_input": "2021-05-21T00:25:18.370909Z",
     "iopub.status.busy": "2021-05-21T00:25:18.370054Z",
     "iopub.status.idle": "2021-05-21T00:25:18.375810Z",
     "shell.execute_reply": "2021-05-21T00:25:18.376383Z"
    },
    "papermill": {
     "duration": 0.053049,
     "end_time": "2021-05-21T00:25:18.376563",
     "exception": false,
     "start_time": "2021-05-21T00:25:18.323514",
     "status": "completed"
    },
    "tags": []
   },
   "outputs": [],
   "source": [
    "#hide\n",
    "t = everydaycases.stack()"
   ]
  },
  {
   "cell_type": "code",
   "execution_count": 22,
   "id": "premier-sleeve",
   "metadata": {
    "execution": {
     "iopub.execute_input": "2021-05-21T00:25:18.464175Z",
     "iopub.status.busy": "2021-05-21T00:25:18.463387Z",
     "iopub.status.idle": "2021-05-21T00:25:18.474504Z",
     "shell.execute_reply": "2021-05-21T00:25:18.473915Z"
    },
    "papermill": {
     "duration": 0.057329,
     "end_time": "2021-05-21T00:25:18.474663",
     "exception": false,
     "start_time": "2021-05-21T00:25:18.417334",
     "status": "completed"
    },
    "tags": []
   },
   "outputs": [],
   "source": [
    "#hide\n",
    "g = t.reset_index(['Country/Region'])"
   ]
  },
  {
   "cell_type": "code",
   "execution_count": 23,
   "id": "distributed-pittsburgh",
   "metadata": {
    "execution": {
     "iopub.execute_input": "2021-05-21T00:25:18.561320Z",
     "iopub.status.busy": "2021-05-21T00:25:18.560630Z",
     "iopub.status.idle": "2021-05-21T00:25:18.562565Z",
     "shell.execute_reply": "2021-05-21T00:25:18.563222Z"
    },
    "papermill": {
     "duration": 0.047974,
     "end_time": "2021-05-21T00:25:18.563397",
     "exception": false,
     "start_time": "2021-05-21T00:25:18.515423",
     "status": "completed"
    },
    "tags": []
   },
   "outputs": [],
   "source": [
    "#hide\n",
    "g.index.name = 'date'"
   ]
  },
  {
   "cell_type": "code",
   "execution_count": 24,
   "id": "naked-donor",
   "metadata": {
    "execution": {
     "iopub.execute_input": "2021-05-21T00:25:18.653873Z",
     "iopub.status.busy": "2021-05-21T00:25:18.652830Z",
     "iopub.status.idle": "2021-05-21T00:25:18.655479Z",
     "shell.execute_reply": "2021-05-21T00:25:18.656278Z"
    },
    "papermill": {
     "duration": 0.052118,
     "end_time": "2021-05-21T00:25:18.656540",
     "exception": false,
     "start_time": "2021-05-21T00:25:18.604422",
     "status": "completed"
    },
    "tags": []
   },
   "outputs": [],
   "source": [
    "# #hide\n",
    "# g = g.reset_index(['date'])"
   ]
  },
  {
   "cell_type": "code",
   "execution_count": 25,
   "id": "incomplete-mustang",
   "metadata": {
    "execution": {
     "iopub.execute_input": "2021-05-21T00:25:18.748187Z",
     "iopub.status.busy": "2021-05-21T00:25:18.747315Z",
     "iopub.status.idle": "2021-05-21T00:25:18.749851Z",
     "shell.execute_reply": "2021-05-21T00:25:18.750424Z"
    },
    "papermill": {
     "duration": 0.051192,
     "end_time": "2021-05-21T00:25:18.750677",
     "exception": false,
     "start_time": "2021-05-21T00:25:18.699485",
     "status": "completed"
    },
    "tags": []
   },
   "outputs": [],
   "source": [
    "#hide\n",
    "# g.head()"
   ]
  },
  {
   "cell_type": "code",
   "execution_count": 26,
   "id": "specific-kruger",
   "metadata": {
    "execution": {
     "iopub.execute_input": "2021-05-21T00:25:18.853684Z",
     "iopub.status.busy": "2021-05-21T00:25:18.851318Z",
     "iopub.status.idle": "2021-05-21T00:25:18.855185Z",
     "shell.execute_reply": "2021-05-21T00:25:18.855738Z"
    },
    "papermill": {
     "duration": 0.061975,
     "end_time": "2021-05-21T00:25:18.856076",
     "exception": false,
     "start_time": "2021-05-21T00:25:18.794101",
     "status": "completed"
    },
    "tags": []
   },
   "outputs": [],
   "source": [
    "#hide\n",
    "# g.columns = ['date','country','cases']"
   ]
  },
  {
   "cell_type": "code",
   "execution_count": 27,
   "id": "tender-conversion",
   "metadata": {
    "execution": {
     "iopub.execute_input": "2021-05-21T00:25:18.961148Z",
     "iopub.status.busy": "2021-05-21T00:25:18.960294Z",
     "iopub.status.idle": "2021-05-21T00:25:18.962368Z",
     "shell.execute_reply": "2021-05-21T00:25:18.963056Z"
    },
    "papermill": {
     "duration": 0.0565,
     "end_time": "2021-05-21T00:25:18.963333",
     "exception": false,
     "start_time": "2021-05-21T00:25:18.906833",
     "status": "completed"
    },
    "tags": []
   },
   "outputs": [],
   "source": [
    "#hide\n",
    "# g['continent'] = g.country"
   ]
  },
  {
   "cell_type": "code",
   "execution_count": 28,
   "id": "substantial-wilderness",
   "metadata": {
    "execution": {
     "iopub.execute_input": "2021-05-21T00:25:19.057644Z",
     "iopub.status.busy": "2021-05-21T00:25:19.056755Z",
     "iopub.status.idle": "2021-05-21T00:25:19.058558Z",
     "shell.execute_reply": "2021-05-21T00:25:19.059278Z"
    },
    "papermill": {
     "duration": 0.053441,
     "end_time": "2021-05-21T00:25:19.059529",
     "exception": false,
     "start_time": "2021-05-21T00:25:19.006088",
     "status": "completed"
    },
    "tags": []
   },
   "outputs": [],
   "source": [
    "#hide\n",
    "# cols = list(g.columns.values)"
   ]
  },
  {
   "cell_type": "code",
   "execution_count": 29,
   "id": "solved-farming",
   "metadata": {
    "execution": {
     "iopub.execute_input": "2021-05-21T00:25:19.157675Z",
     "iopub.status.busy": "2021-05-21T00:25:19.156694Z",
     "iopub.status.idle": "2021-05-21T00:25:19.158559Z",
     "shell.execute_reply": "2021-05-21T00:25:19.159288Z"
    },
    "papermill": {
     "duration": 0.053949,
     "end_time": "2021-05-21T00:25:19.159557",
     "exception": false,
     "start_time": "2021-05-21T00:25:19.105608",
     "status": "completed"
    },
    "tags": []
   },
   "outputs": [],
   "source": [
    "#hide\n",
    "# cols.insert(0, cols.pop())"
   ]
  },
  {
   "cell_type": "code",
   "execution_count": 30,
   "id": "executed-adoption",
   "metadata": {
    "execution": {
     "iopub.execute_input": "2021-05-21T00:25:19.256337Z",
     "iopub.status.busy": "2021-05-21T00:25:19.255286Z",
     "iopub.status.idle": "2021-05-21T00:25:19.257389Z",
     "shell.execute_reply": "2021-05-21T00:25:19.258100Z"
    },
    "papermill": {
     "duration": 0.053384,
     "end_time": "2021-05-21T00:25:19.258372",
     "exception": false,
     "start_time": "2021-05-21T00:25:19.204988",
     "status": "completed"
    },
    "tags": []
   },
   "outputs": [],
   "source": [
    "#hide\n",
    "# g = g[cols]"
   ]
  },
  {
   "cell_type": "code",
   "execution_count": 31,
   "id": "subject-dublin",
   "metadata": {
    "execution": {
     "iopub.execute_input": "2021-05-21T00:25:19.355090Z",
     "iopub.status.busy": "2021-05-21T00:25:19.354092Z",
     "iopub.status.idle": "2021-05-21T00:25:19.356115Z",
     "shell.execute_reply": "2021-05-21T00:25:19.356826Z"
    },
    "papermill": {
     "duration": 0.054272,
     "end_time": "2021-05-21T00:25:19.357193",
     "exception": false,
     "start_time": "2021-05-21T00:25:19.302921",
     "status": "completed"
    },
    "tags": []
   },
   "outputs": [],
   "source": [
    "#hide\n",
    "# g['continent'] = g['continent'].map(mapping['map.continent'])"
   ]
  },
  {
   "cell_type": "code",
   "execution_count": 32,
   "id": "freelance-scout",
   "metadata": {
    "execution": {
     "iopub.execute_input": "2021-05-21T00:25:19.450432Z",
     "iopub.status.busy": "2021-05-21T00:25:19.449521Z",
     "iopub.status.idle": "2021-05-21T00:25:19.451450Z",
     "shell.execute_reply": "2021-05-21T00:25:19.452197Z"
    },
    "papermill": {
     "duration": 0.051934,
     "end_time": "2021-05-21T00:25:19.452455",
     "exception": false,
     "start_time": "2021-05-21T00:25:19.400521",
     "status": "completed"
    },
    "tags": []
   },
   "outputs": [],
   "source": [
    "#hide\n",
    "# g.head()"
   ]
  },
  {
   "cell_type": "code",
   "execution_count": 33,
   "id": "limited-engine",
   "metadata": {
    "execution": {
     "iopub.execute_input": "2021-05-21T00:25:19.546084Z",
     "iopub.status.busy": "2021-05-21T00:25:19.545170Z",
     "iopub.status.idle": "2021-05-21T00:25:19.546945Z",
     "shell.execute_reply": "2021-05-21T00:25:19.547628Z"
    },
    "papermill": {
     "duration": 0.052752,
     "end_time": "2021-05-21T00:25:19.547934",
     "exception": false,
     "start_time": "2021-05-21T00:25:19.495182",
     "status": "completed"
    },
    "tags": []
   },
   "outputs": [],
   "source": [
    "# hide\n",
    "# g['date'] = g['date'].astype('datetime64[ns]')"
   ]
  },
  {
   "cell_type": "code",
   "execution_count": 34,
   "id": "sophisticated-supervisor",
   "metadata": {
    "execution": {
     "iopub.execute_input": "2021-05-21T00:25:19.642832Z",
     "iopub.status.busy": "2021-05-21T00:25:19.641909Z",
     "iopub.status.idle": "2021-05-21T00:25:19.643649Z",
     "shell.execute_reply": "2021-05-21T00:25:19.644417Z"
    },
    "papermill": {
     "duration": 0.053432,
     "end_time": "2021-05-21T00:25:19.644660",
     "exception": false,
     "start_time": "2021-05-21T00:25:19.591228",
     "status": "completed"
    },
    "tags": []
   },
   "outputs": [],
   "source": [
    "#hide\n",
    "# g['date'] = g.date.dt.dayofyear"
   ]
  },
  {
   "cell_type": "code",
   "execution_count": 35,
   "id": "inside-dubai",
   "metadata": {
    "execution": {
     "iopub.execute_input": "2021-05-21T00:25:19.740965Z",
     "iopub.status.busy": "2021-05-21T00:25:19.739647Z",
     "iopub.status.idle": "2021-05-21T00:25:19.741851Z",
     "shell.execute_reply": "2021-05-21T00:25:19.742595Z"
    },
    "papermill": {
     "duration": 0.054282,
     "end_time": "2021-05-21T00:25:19.742848",
     "exception": false,
     "start_time": "2021-05-21T00:25:19.688566",
     "status": "completed"
    },
    "tags": []
   },
   "outputs": [],
   "source": [
    "#hide\n",
    "# g = g.rename(columns= {'continent':'group','country':'name','cases':'value'})"
   ]
  },
  {
   "cell_type": "code",
   "execution_count": 36,
   "id": "fleet-motorcycle",
   "metadata": {
    "execution": {
     "iopub.execute_input": "2021-05-21T00:25:19.836403Z",
     "iopub.status.busy": "2021-05-21T00:25:19.835534Z",
     "iopub.status.idle": "2021-05-21T00:25:19.837700Z",
     "shell.execute_reply": "2021-05-21T00:25:19.838314Z"
    },
    "papermill": {
     "duration": 0.05246,
     "end_time": "2021-05-21T00:25:19.838551",
     "exception": false,
     "start_time": "2021-05-21T00:25:19.786091",
     "status": "completed"
    },
    "tags": []
   },
   "outputs": [],
   "source": [
    "#hide\n",
    "# cols = ['name','group','day','value']"
   ]
  },
  {
   "cell_type": "code",
   "execution_count": 37,
   "id": "continued-sleeping",
   "metadata": {
    "execution": {
     "iopub.execute_input": "2021-05-21T00:25:19.943723Z",
     "iopub.status.busy": "2021-05-21T00:25:19.941144Z",
     "iopub.status.idle": "2021-05-21T00:25:19.944871Z",
     "shell.execute_reply": "2021-05-21T00:25:19.945480Z"
    },
    "papermill": {
     "duration": 0.061398,
     "end_time": "2021-05-21T00:25:19.945740",
     "exception": false,
     "start_time": "2021-05-21T00:25:19.884342",
     "status": "completed"
    },
    "tags": []
   },
   "outputs": [],
   "source": [
    "#hide\n",
    "# g.rename(columns= {'date':'day'},inplace = True)"
   ]
  },
  {
   "cell_type": "code",
   "execution_count": 38,
   "id": "major-fight",
   "metadata": {
    "execution": {
     "iopub.execute_input": "2021-05-21T00:25:20.038983Z",
     "iopub.status.busy": "2021-05-21T00:25:20.038082Z",
     "iopub.status.idle": "2021-05-21T00:25:20.040101Z",
     "shell.execute_reply": "2021-05-21T00:25:20.040726Z"
    },
    "papermill": {
     "duration": 0.052581,
     "end_time": "2021-05-21T00:25:20.040957",
     "exception": false,
     "start_time": "2021-05-21T00:25:19.988376",
     "status": "completed"
    },
    "tags": []
   },
   "outputs": [],
   "source": [
    "#hide\n",
    "# g = g[cols]"
   ]
  },
  {
   "cell_type": "code",
   "execution_count": 39,
   "id": "structured-mobile",
   "metadata": {
    "execution": {
     "iopub.execute_input": "2021-05-21T00:25:20.138669Z",
     "iopub.status.busy": "2021-05-21T00:25:20.137845Z",
     "iopub.status.idle": "2021-05-21T00:25:20.139688Z",
     "shell.execute_reply": "2021-05-21T00:25:20.140408Z"
    },
    "papermill": {
     "duration": 0.05097,
     "end_time": "2021-05-21T00:25:20.140627",
     "exception": false,
     "start_time": "2021-05-21T00:25:20.089657",
     "status": "completed"
    },
    "tags": []
   },
   "outputs": [],
   "source": [
    "# #hide\n",
    "# g = g[g.group.notna()]"
   ]
  },
  {
   "cell_type": "code",
   "execution_count": 40,
   "id": "determined-closing",
   "metadata": {
    "execution": {
     "iopub.execute_input": "2021-05-21T00:25:20.233148Z",
     "iopub.status.busy": "2021-05-21T00:25:20.232374Z",
     "iopub.status.idle": "2021-05-21T00:25:20.234457Z",
     "shell.execute_reply": "2021-05-21T00:25:20.235036Z"
    },
    "papermill": {
     "duration": 0.051725,
     "end_time": "2021-05-21T00:25:20.235250",
     "exception": false,
     "start_time": "2021-05-21T00:25:20.183525",
     "status": "completed"
    },
    "tags": []
   },
   "outputs": [],
   "source": [
    "# #hide\n",
    "# colors = dict(zip(\n",
    "#     [\"Oceania\", \"Europe\", \"Asia\", \"South America\", \"Middle East\", \"North America\", \"Africa\"],\n",
    "#     [\"#adb0ff\", \"#ffb3ff\", \"#90d595\", \"#e48381\", \"#aafbff\", \"#f7bb5f\", \"#eafb50\"]\n",
    "# ))\n",
    "# group_lk = g.set_index('name')['group'].to_dict()"
   ]
  },
  {
   "cell_type": "code",
   "execution_count": null,
   "id": "gross-drinking",
   "metadata": {
    "papermill": {
     "duration": 0.042282,
     "end_time": "2021-05-21T00:25:20.320542",
     "exception": false,
     "start_time": "2021-05-21T00:25:20.278260",
     "status": "completed"
    },
    "tags": []
   },
   "outputs": [],
   "source": []
  },
  {
   "cell_type": "code",
   "execution_count": 41,
   "id": "subject-macintosh",
   "metadata": {
    "execution": {
     "iopub.execute_input": "2021-05-21T00:25:20.406953Z",
     "iopub.status.busy": "2021-05-21T00:25:20.406059Z",
     "iopub.status.idle": "2021-05-21T00:25:20.407933Z",
     "shell.execute_reply": "2021-05-21T00:25:20.408652Z"
    },
    "papermill": {
     "duration": 0.047661,
     "end_time": "2021-05-21T00:25:20.408814",
     "exception": false,
     "start_time": "2021-05-21T00:25:20.361153",
     "status": "completed"
    },
    "tags": []
   },
   "outputs": [],
   "source": [
    "# #hide\n",
    "# fig, ax = plt.subplots(figsize=(15, 8))\n",
    "\n",
    "# def draw_barchart(current_day):\n",
    "#     dff = g[g['day'].eq(current_day)].sort_values(by='value', ascending=True).tail(10)\n",
    "#     ax.clear()\n",
    "#     ax.barh(dff['name'], dff['value'], color=[colors[group_lk[x]] for x in dff['name']])\n",
    "#     dx = dff['value'].max() / 200\n",
    "    \n",
    "#     for i, (value, name) in enumerate(zip(dff['value'], dff['name'])):\n",
    "#         ax.text(value-dx, i,     name,           size=14, weight=600, ha='right', va='bottom')\n",
    "#         ax.text(value-dx, i-.25, group_lk[name], size=10, color='#444444', ha='right', va='baseline')\n",
    "#         ax.text(value+dx, i,     f'{value:,.0f}',  size=14, ha='left',  va='center')\n",
    "#     ax.text(1, 0.4, current_day, transform=ax.transAxes, color='#777777', size=46, ha='right', weight=800)\n",
    "#     ax.text(0, 1.06, 'Population (thousands)', transform=ax.transAxes, size=12, color='#777777')\n",
    "#     ax.xaxis.set_major_formatter(ticker.StrMethodFormatter('{x:,.0f}'))\n",
    "#     ax.xaxis.set_ticks_position('top')\n",
    "#     ax.tick_params(axis='x', colors='#777777', labelsize=12)\n",
    "#     ax.set_yticks([])\n",
    "#     ax.margins(0, 0.01)\n",
    "#     ax.grid(which='major', axis='x', linestyle='-')\n",
    "#     ax.set_axisbelow(True)\n",
    "    \n",
    "#     ax.text(0, 1.15, 'Coronavirus',\n",
    "#             transform=ax.transAxes, size=24, weight=600, ha='left', va='top')\n",
    "# #     ax.text(1, 0, 'by @pratapvardhan; credit @jburnmurdoch', transform=ax.transAxes, color='#777777', ha='right',\n",
    "# #             bbox=dict(facecolor='white', alpha=0.8, edgecolor='white'))\n",
    "#     plt.box(False)"
   ]
  },
  {
   "cell_type": "code",
   "execution_count": 42,
   "id": "sexual-wages",
   "metadata": {
    "execution": {
     "iopub.execute_input": "2021-05-21T00:25:20.492758Z",
     "iopub.status.busy": "2021-05-21T00:25:20.492078Z",
     "iopub.status.idle": "2021-05-21T00:25:20.494640Z",
     "shell.execute_reply": "2021-05-21T00:25:20.494063Z"
    },
    "papermill": {
     "duration": 0.046731,
     "end_time": "2021-05-21T00:25:20.494781",
     "exception": false,
     "start_time": "2021-05-21T00:25:20.448050",
     "status": "completed"
    },
    "tags": []
   },
   "outputs": [],
   "source": [
    "# #hide_input\n",
    "# fig, ax = plt.subplots(figsize=(15, 8))\n",
    "# animator = animation.FuncAnimation(fig, draw_barchart, frames=range(g.day.values.min(), g.day.values.max()))\n",
    "# HTML(animator.to_jshtml())\n",
    "# # or use animator.to_html5_video() or animator.save() "
   ]
  },
  {
   "cell_type": "code",
   "execution_count": null,
   "id": "australian-container",
   "metadata": {
    "papermill": {
     "duration": 0.039137,
     "end_time": "2021-05-21T00:25:20.574405",
     "exception": false,
     "start_time": "2021-05-21T00:25:20.535268",
     "status": "completed"
    },
    "tags": []
   },
   "outputs": [],
   "source": []
  },
  {
   "cell_type": "code",
   "execution_count": null,
   "id": "mediterranean-pontiac",
   "metadata": {
    "papermill": {
     "duration": 0.037132,
     "end_time": "2021-05-21T00:25:20.648576",
     "exception": false,
     "start_time": "2021-05-21T00:25:20.611444",
     "status": "completed"
    },
    "tags": []
   },
   "outputs": [],
   "source": []
  },
  {
   "cell_type": "code",
   "execution_count": null,
   "id": "aging-legislature",
   "metadata": {
    "papermill": {
     "duration": 0.039214,
     "end_time": "2021-05-21T00:25:20.725976",
     "exception": false,
     "start_time": "2021-05-21T00:25:20.686762",
     "status": "completed"
    },
    "tags": []
   },
   "outputs": [],
   "source": []
  }
 ],
 "metadata": {
  "kernelspec": {
   "display_name": "Python 3",
   "language": "python",
   "name": "python3"
  },
  "language_info": {
   "codemirror_mode": {
    "name": "ipython",
    "version": 3
   },
   "file_extension": ".py",
   "mimetype": "text/x-python",
   "name": "python",
   "nbconvert_exporter": "python",
   "pygments_lexer": "ipython3",
   "version": "3.6.13"
  },
  "papermill": {
   "duration": 7.219404,
   "end_time": "2021-05-21T00:25:21.072005",
   "environment_variables": {},
   "exception": null,
   "input_path": "2020-03-21-covid19exp.ipynb",
   "output_path": "2020-03-21-covid19exp.ipynb",
   "parameters": {},
   "start_time": "2021-05-21T00:25:13.852601",
   "version": "2.0.0"
  }
 },
 "nbformat": 4,
 "nbformat_minor": 5
}