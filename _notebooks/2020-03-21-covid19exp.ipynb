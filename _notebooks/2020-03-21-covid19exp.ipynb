{
 "cells": [
  {
   "cell_type": "markdown",
   "id": "muslim-click",
   "metadata": {
    "papermill": {
     "duration": 0.04232,
     "end_time": "2021-04-06T00:06:17.580250",
     "exception": false,
     "start_time": "2021-04-06T00:06:17.537930",
     "status": "completed"
    },
    "tags": []
   },
   "source": [
    "# COVID-19 Case Race\n",
    "> A race chart to see rising cases around the world\n",
    "\n",
    "- author: Hargun Oberoi\n",
    "- image: images/covid-overview.png\n",
    "- hide: false\n",
    "- badges: false"
   ]
  },
  {
   "cell_type": "code",
   "execution_count": 1,
   "id": "proof-material",
   "metadata": {
    "execution": {
     "iopub.execute_input": "2021-04-06T00:06:17.656576Z",
     "iopub.status.busy": "2021-04-06T00:06:17.655926Z",
     "iopub.status.idle": "2021-04-06T00:06:17.946795Z",
     "shell.execute_reply": "2021-04-06T00:06:17.946288Z"
    },
    "papermill": {
     "duration": 0.329942,
     "end_time": "2021-04-06T00:06:17.946935",
     "exception": false,
     "start_time": "2021-04-06T00:06:17.616993",
     "status": "completed"
    },
    "tags": []
   },
   "outputs": [],
   "source": [
    "#hide\n",
    "import numpy as np\n",
    "import pandas as pd\n",
    "from jinja2 import Template\n",
    "from IPython.display import HTML"
   ]
  },
  {
   "cell_type": "code",
   "execution_count": 2,
   "id": "developed-terminology",
   "metadata": {
    "execution": {
     "iopub.execute_input": "2021-04-06T00:06:18.015309Z",
     "iopub.status.busy": "2021-04-06T00:06:18.014766Z",
     "iopub.status.idle": "2021-04-06T00:06:18.016953Z",
     "shell.execute_reply": "2021-04-06T00:06:18.016340Z"
    },
    "papermill": {
     "duration": 0.038066,
     "end_time": "2021-04-06T00:06:18.017051",
     "exception": false,
     "start_time": "2021-04-06T00:06:17.978985",
     "status": "completed"
    },
    "tags": []
   },
   "outputs": [],
   "source": [
    "#hide\n",
    "\n",
    "# FETCH\n",
    "base_url = 'https://raw.githubusercontent.com/pratapvardhan/notebooks/master/covid19/'\n",
    "paths = {\n",
    "    'mapping': base_url + 'mapping_countries.csv',\n",
    "    'overview': base_url + 'overview.tpl'\n",
    "}"
   ]
  },
  {
   "cell_type": "code",
   "execution_count": 3,
   "id": "dynamic-saver",
   "metadata": {
    "execution": {
     "iopub.execute_input": "2021-04-06T00:06:18.091713Z",
     "iopub.status.busy": "2021-04-06T00:06:18.089606Z",
     "iopub.status.idle": "2021-04-06T00:06:18.095258Z",
     "shell.execute_reply": "2021-04-06T00:06:18.094816Z"
    },
    "papermill": {
     "duration": 0.045112,
     "end_time": "2021-04-06T00:06:18.095359",
     "exception": false,
     "start_time": "2021-04-06T00:06:18.050247",
     "status": "completed"
    },
    "tags": []
   },
   "outputs": [
    {
     "data": {
      "text/plain": [
       "'https://raw.githubusercontent.com/pratapvardhan/notebooks/master/covid19/mapping_countries.csv'"
      ]
     },
     "execution_count": 3,
     "metadata": {},
     "output_type": "execute_result"
    }
   ],
   "source": [
    "#hide\n",
    "paths['mapping']"
   ]
  },
  {
   "cell_type": "code",
   "execution_count": 4,
   "id": "urban-software",
   "metadata": {
    "execution": {
     "iopub.execute_input": "2021-04-06T00:06:18.168130Z",
     "iopub.status.busy": "2021-04-06T00:06:18.167550Z",
     "iopub.status.idle": "2021-04-06T00:06:18.169859Z",
     "shell.execute_reply": "2021-04-06T00:06:18.169369Z"
    },
    "papermill": {
     "duration": 0.043242,
     "end_time": "2021-04-06T00:06:18.169965",
     "exception": false,
     "start_time": "2021-04-06T00:06:18.126723",
     "status": "completed"
    },
    "tags": []
   },
   "outputs": [],
   "source": [
    "#hide\n",
    "def get_mappings(url):\n",
    "    df = pd.read_csv(url)\n",
    "    return {\n",
    "        'df': df,\n",
    "        'replace.country': dict(df.dropna(subset=['Name']).set_index('Country')['Name']),\n",
    "        'map.continent': dict(df.set_index('Name')['Continent'])\n",
    "    }"
   ]
  },
  {
   "cell_type": "code",
   "execution_count": 5,
   "id": "intimate-machinery",
   "metadata": {
    "execution": {
     "iopub.execute_input": "2021-04-06T00:06:18.241612Z",
     "iopub.status.busy": "2021-04-06T00:06:18.240987Z",
     "iopub.status.idle": "2021-04-06T00:06:18.271060Z",
     "shell.execute_reply": "2021-04-06T00:06:18.271525Z"
    },
    "papermill": {
     "duration": 0.069406,
     "end_time": "2021-04-06T00:06:18.271647",
     "exception": false,
     "start_time": "2021-04-06T00:06:18.202241",
     "status": "completed"
    },
    "tags": []
   },
   "outputs": [],
   "source": [
    "#hide\n",
    "mapping = get_mappings(paths['mapping'])"
   ]
  },
  {
   "cell_type": "code",
   "execution_count": 6,
   "id": "certified-tactics",
   "metadata": {
    "execution": {
     "iopub.execute_input": "2021-04-06T00:06:18.346882Z",
     "iopub.status.busy": "2021-04-06T00:06:18.346276Z",
     "iopub.status.idle": "2021-04-06T00:06:18.348510Z",
     "shell.execute_reply": "2021-04-06T00:06:18.348069Z"
    },
    "papermill": {
     "duration": 0.041866,
     "end_time": "2021-04-06T00:06:18.348610",
     "exception": false,
     "start_time": "2021-04-06T00:06:18.306744",
     "status": "completed"
    },
    "tags": []
   },
   "outputs": [],
   "source": [
    "#hide\n",
    "def get_template(path):\n",
    "    from urllib.parse import urlparse\n",
    "    if bool(urlparse(path).netloc):\n",
    "        from urllib.request import urlopen\n",
    "        return urlopen(path).read().decode('utf8')\n",
    "    return open(path).read()"
   ]
  },
  {
   "cell_type": "code",
   "execution_count": 7,
   "id": "realistic-blast",
   "metadata": {
    "execution": {
     "iopub.execute_input": "2021-04-06T00:06:18.422742Z",
     "iopub.status.busy": "2021-04-06T00:06:18.422187Z",
     "iopub.status.idle": "2021-04-06T00:06:18.424688Z",
     "shell.execute_reply": "2021-04-06T00:06:18.424246Z"
    },
    "papermill": {
     "duration": 0.039781,
     "end_time": "2021-04-06T00:06:18.424787",
     "exception": false,
     "start_time": "2021-04-06T00:06:18.385006",
     "status": "completed"
    },
    "tags": []
   },
   "outputs": [],
   "source": [
    "#hide\n",
    "def get_frame(name):\n",
    "    url = (\n",
    "        'https://raw.githubusercontent.com/CSSEGISandData/COVID-19/master/csse_covid_19_data/'\n",
    "        f'csse_covid_19_time_series/time_series_covid19_{name}_global.csv')\n",
    "    df = pd.read_csv(url)\n",
    "    # rename countries\n",
    "    df['Country/Region'] = df['Country/Region'].replace(mapping['replace.country'])\n",
    "    return df"
   ]
  },
  {
   "cell_type": "code",
   "execution_count": 8,
   "id": "affiliated-characterization",
   "metadata": {
    "execution": {
     "iopub.execute_input": "2021-04-06T00:06:18.492832Z",
     "iopub.status.busy": "2021-04-06T00:06:18.492035Z",
     "iopub.status.idle": "2021-04-06T00:06:18.494228Z",
     "shell.execute_reply": "2021-04-06T00:06:18.493722Z"
    },
    "papermill": {
     "duration": 0.038189,
     "end_time": "2021-04-06T00:06:18.494327",
     "exception": false,
     "start_time": "2021-04-06T00:06:18.456138",
     "status": "completed"
    },
    "tags": []
   },
   "outputs": [],
   "source": [
    "#hide\n",
    "def get_dates(df):\n",
    "    dt_cols = df.columns[~df.columns.isin(['Province/State', 'Country/Region', 'Lat', 'Long'])]\n",
    "    LAST_DATE_I = -1\n",
    "    # sometimes last column may be empty, then go backwards\n",
    "    for i in range(-1, -len(dt_cols), -1):\n",
    "        if not df[dt_cols[i]].fillna(0).eq(0).all():\n",
    "            LAST_DATE_I = i\n",
    "            break\n",
    "    return LAST_DATE_I, dt_cols"
   ]
  },
  {
   "cell_type": "code",
   "execution_count": 9,
   "id": "recent-optimization",
   "metadata": {
    "execution": {
     "iopub.execute_input": "2021-04-06T00:06:18.562162Z",
     "iopub.status.busy": "2021-04-06T00:06:18.561478Z",
     "iopub.status.idle": "2021-04-06T00:06:18.823451Z",
     "shell.execute_reply": "2021-04-06T00:06:18.823903Z"
    },
    "papermill": {
     "duration": 0.29955,
     "end_time": "2021-04-06T00:06:18.824037",
     "exception": false,
     "start_time": "2021-04-06T00:06:18.524487",
     "status": "completed"
    },
    "tags": []
   },
   "outputs": [],
   "source": [
    "#hide\n",
    "COL_REGION = 'Country/Region'\n",
    "# Confirmed, Recovered, Deaths\n",
    "df = get_frame('confirmed')\n",
    "# dft_: timeseries, dfc_: today country agg\n",
    "dft_cases = df\n",
    "dft_deaths = get_frame('deaths')\n",
    "dft_recovered = get_frame('recovered')\n",
    "LAST_DATE_I, dt_cols = get_dates(df)"
   ]
  },
  {
   "cell_type": "code",
   "execution_count": 10,
   "id": "absolute-copper",
   "metadata": {
    "execution": {
     "iopub.execute_input": "2021-04-06T00:06:18.896129Z",
     "iopub.status.busy": "2021-04-06T00:06:18.895574Z",
     "iopub.status.idle": "2021-04-06T00:06:18.897757Z",
     "shell.execute_reply": "2021-04-06T00:06:18.897348Z"
    },
    "papermill": {
     "duration": 0.038782,
     "end_time": "2021-04-06T00:06:18.897860",
     "exception": false,
     "start_time": "2021-04-06T00:06:18.859078",
     "status": "completed"
    },
    "tags": []
   },
   "outputs": [],
   "source": [
    "#hide\n",
    "LAST_DATE_I, dt_cols = get_dates(df)\n",
    "dt_today =dt_cols[LAST_DATE_I]\n",
    "# dt_5day = dt_cols[LAST_DATE_I - 5]\n",
    "dt_yday = dt_cols[LAST_DATE_I - 1]"
   ]
  },
  {
   "cell_type": "code",
   "execution_count": 11,
   "id": "restricted-sheriff",
   "metadata": {
    "execution": {
     "iopub.execute_input": "2021-04-06T00:06:18.968635Z",
     "iopub.status.busy": "2021-04-06T00:06:18.968118Z",
     "iopub.status.idle": "2021-04-06T00:06:18.976467Z",
     "shell.execute_reply": "2021-04-06T00:06:18.977091Z"
    },
    "papermill": {
     "duration": 0.047026,
     "end_time": "2021-04-06T00:06:18.977205",
     "exception": false,
     "start_time": "2021-04-06T00:06:18.930179",
     "status": "completed"
    },
    "tags": []
   },
   "outputs": [],
   "source": [
    "#hide\n",
    "dfc_cases = dft_cases.groupby(COL_REGION)[dt_today].sum()\n",
    "dfc_deaths = dft_deaths.groupby(COL_REGION)[dt_today].sum()\n",
    "# dfp_cases = dft_cases.groupby(COL_REGION)[dt_5day].sum()\n",
    "# dfp_deaths = dft_deaths.groupby(COL_REGION)[dt_5day].sum()\n",
    "dfp_cases = dft_cases.groupby(COL_REGION)[dt_yday].sum()\n",
    "dfp_deaths = dft_deaths.groupby(COL_REGION)[dt_yday].sum()"
   ]
  },
  {
   "cell_type": "code",
   "execution_count": 12,
   "id": "deluxe-hepatitis",
   "metadata": {
    "execution": {
     "iopub.execute_input": "2021-04-06T00:06:19.044268Z",
     "iopub.status.busy": "2021-04-06T00:06:19.043628Z",
     "iopub.status.idle": "2021-04-06T00:06:19.048646Z",
     "shell.execute_reply": "2021-04-06T00:06:19.049180Z"
    },
    "papermill": {
     "duration": 0.041014,
     "end_time": "2021-04-06T00:06:19.049292",
     "exception": false,
     "start_time": "2021-04-06T00:06:19.008278",
     "status": "completed"
    },
    "tags": []
   },
   "outputs": [],
   "source": [
    "#hide\n",
    "df_table = (pd.DataFrame(dict(Cases = dfc_cases, Deaths = dfc_deaths, PCases = dfp_cases, PDeaths = dfp_deaths))\n",
    "            .sort_values(by = ['Cases','Deaths'], ascending = [False, False])\n",
    "            .reset_index())"
   ]
  },
  {
   "cell_type": "code",
   "execution_count": 13,
   "id": "educational-chancellor",
   "metadata": {
    "execution": {
     "iopub.execute_input": "2021-04-06T00:06:19.133010Z",
     "iopub.status.busy": "2021-04-06T00:06:19.132318Z",
     "iopub.status.idle": "2021-04-06T00:06:19.141081Z",
     "shell.execute_reply": "2021-04-06T00:06:19.141598Z"
    },
    "papermill": {
     "duration": 0.060471,
     "end_time": "2021-04-06T00:06:19.141712",
     "exception": false,
     "start_time": "2021-04-06T00:06:19.081241",
     "status": "completed"
    },
    "tags": []
   },
   "outputs": [
    {
     "data": {
      "text/html": [
       "<div>\n",
       "<style scoped>\n",
       "    .dataframe tbody tr th:only-of-type {\n",
       "        vertical-align: middle;\n",
       "    }\n",
       "\n",
       "    .dataframe tbody tr th {\n",
       "        vertical-align: top;\n",
       "    }\n",
       "\n",
       "    .dataframe thead th {\n",
       "        text-align: right;\n",
       "    }\n",
       "</style>\n",
       "<table border=\"1\" class=\"dataframe\">\n",
       "  <thead>\n",
       "    <tr style=\"text-align: right;\">\n",
       "      <th></th>\n",
       "      <th>Country/Region</th>\n",
       "      <th>Cases</th>\n",
       "      <th>Deaths</th>\n",
       "      <th>PCases</th>\n",
       "      <th>PDeaths</th>\n",
       "      <th>Cases (+)</th>\n",
       "      <th>Deaths (+)</th>\n",
       "      <th>Fatality Rate</th>\n",
       "      <th>Continent</th>\n",
       "    </tr>\n",
       "  </thead>\n",
       "  <tbody>\n",
       "    <tr>\n",
       "      <th>0</th>\n",
       "      <td>US</td>\n",
       "      <td>30706126</td>\n",
       "      <td>555001</td>\n",
       "      <td>30671844</td>\n",
       "      <td>554779</td>\n",
       "      <td>34282</td>\n",
       "      <td>222</td>\n",
       "      <td>1.81</td>\n",
       "      <td>North America</td>\n",
       "    </tr>\n",
       "    <tr>\n",
       "      <th>1</th>\n",
       "      <td>Brazil</td>\n",
       "      <td>12984956</td>\n",
       "      <td>331433</td>\n",
       "      <td>12953597</td>\n",
       "      <td>330193</td>\n",
       "      <td>31359</td>\n",
       "      <td>1240</td>\n",
       "      <td>2.55</td>\n",
       "      <td>South America</td>\n",
       "    </tr>\n",
       "    <tr>\n",
       "      <th>2</th>\n",
       "      <td>India</td>\n",
       "      <td>12589067</td>\n",
       "      <td>165101</td>\n",
       "      <td>12485509</td>\n",
       "      <td>164623</td>\n",
       "      <td>103558</td>\n",
       "      <td>478</td>\n",
       "      <td>1.31</td>\n",
       "      <td>Asia</td>\n",
       "    </tr>\n",
       "    <tr>\n",
       "      <th>3</th>\n",
       "      <td>France</td>\n",
       "      <td>4883174</td>\n",
       "      <td>96808</td>\n",
       "      <td>4802545</td>\n",
       "      <td>96439</td>\n",
       "      <td>80629</td>\n",
       "      <td>369</td>\n",
       "      <td>1.98</td>\n",
       "      <td>Europe</td>\n",
       "    </tr>\n",
       "    <tr>\n",
       "      <th>4</th>\n",
       "      <td>Russia</td>\n",
       "      <td>4529576</td>\n",
       "      <td>98713</td>\n",
       "      <td>4520879</td>\n",
       "      <td>98363</td>\n",
       "      <td>8697</td>\n",
       "      <td>350</td>\n",
       "      <td>2.18</td>\n",
       "      <td>Europe</td>\n",
       "    </tr>\n",
       "  </tbody>\n",
       "</table>\n",
       "</div>"
      ],
      "text/plain": [
       "  Country/Region     Cases  Deaths    PCases  PDeaths  Cases (+)  Deaths (+)  \\\n",
       "0             US  30706126  555001  30671844   554779      34282         222   \n",
       "1         Brazil  12984956  331433  12953597   330193      31359        1240   \n",
       "2          India  12589067  165101  12485509   164623     103558         478   \n",
       "3         France   4883174   96808   4802545    96439      80629         369   \n",
       "4         Russia   4529576   98713   4520879    98363       8697         350   \n",
       "\n",
       "   Fatality Rate      Continent  \n",
       "0           1.81  North America  \n",
       "1           2.55  South America  \n",
       "2           1.31           Asia  \n",
       "3           1.98         Europe  \n",
       "4           2.18         Europe  "
      ]
     },
     "execution_count": 13,
     "metadata": {},
     "output_type": "execute_result"
    }
   ],
   "source": [
    "#hide\n",
    "for c in 'Cases, Deaths'.split(', '):\n",
    "    df_table[f'{c} (+)'] = (df_table[c] - df_table[f'P{c}']).clip(0)\n",
    "    #Clip ça veut dire, les chiffres negatif sont interdit\n",
    "df_table['Fatality Rate'] = (100* df_table['Deaths']/ df_table['Cases']).round(2)\n",
    "df_table['Continent'] = df_table['Country/Region'].map(mapping['map.continent'])\n",
    "df_table.head(5)"
   ]
  },
  {
   "cell_type": "code",
   "execution_count": 14,
   "id": "aboriginal-bulgaria",
   "metadata": {
    "execution": {
     "iopub.execute_input": "2021-04-06T00:06:19.213234Z",
     "iopub.status.busy": "2021-04-06T00:06:19.212710Z",
     "iopub.status.idle": "2021-04-06T00:06:19.214419Z",
     "shell.execute_reply": "2021-04-06T00:06:19.214924Z"
    },
    "papermill": {
     "duration": 0.038025,
     "end_time": "2021-04-06T00:06:19.215035",
     "exception": false,
     "start_time": "2021-04-06T00:06:19.177010",
     "status": "completed"
    },
    "tags": []
   },
   "outputs": [],
   "source": [
    "#hide\n",
    "#delete problematic countries from table\n",
    "df_table = df_table[~df_table['Country/Region'].isin(['Cape Verde', 'Cruise Ship', 'Kosovo'])]"
   ]
  },
  {
   "cell_type": "code",
   "execution_count": 15,
   "id": "fantastic-effect",
   "metadata": {
    "execution": {
     "iopub.execute_input": "2021-04-06T00:06:19.286971Z",
     "iopub.status.busy": "2021-04-06T00:06:19.286292Z",
     "iopub.status.idle": "2021-04-06T00:06:19.307507Z",
     "shell.execute_reply": "2021-04-06T00:06:19.307099Z"
    },
    "papermill": {
     "duration": 0.061632,
     "end_time": "2021-04-06T00:06:19.307603",
     "exception": false,
     "start_time": "2021-04-06T00:06:19.245971",
     "status": "completed"
    },
    "tags": []
   },
   "outputs": [
    {
     "data": {
      "text/html": [
       "<div>\n",
       "<style scoped>\n",
       "    .dataframe tbody tr th:only-of-type {\n",
       "        vertical-align: middle;\n",
       "    }\n",
       "\n",
       "    .dataframe tbody tr th {\n",
       "        vertical-align: top;\n",
       "    }\n",
       "\n",
       "    .dataframe thead th {\n",
       "        text-align: right;\n",
       "    }\n",
       "</style>\n",
       "<table border=\"1\" class=\"dataframe\">\n",
       "  <thead>\n",
       "    <tr style=\"text-align: right;\">\n",
       "      <th></th>\n",
       "      <th>Country/Region</th>\n",
       "      <th>Cases</th>\n",
       "      <th>Deaths</th>\n",
       "      <th>PCases</th>\n",
       "      <th>PDeaths</th>\n",
       "      <th>Cases (+)</th>\n",
       "      <th>Deaths (+)</th>\n",
       "      <th>Fatality Rate</th>\n",
       "      <th>Continent</th>\n",
       "    </tr>\n",
       "  </thead>\n",
       "  <tbody>\n",
       "    <tr>\n",
       "      <th>0</th>\n",
       "      <td>US</td>\n",
       "      <td>30706126</td>\n",
       "      <td>555001</td>\n",
       "      <td>30671844</td>\n",
       "      <td>554779</td>\n",
       "      <td>34282</td>\n",
       "      <td>222</td>\n",
       "      <td>1.8</td>\n",
       "      <td>North America</td>\n",
       "    </tr>\n",
       "    <tr>\n",
       "      <th>1</th>\n",
       "      <td>Brazil</td>\n",
       "      <td>12984956</td>\n",
       "      <td>331433</td>\n",
       "      <td>12953597</td>\n",
       "      <td>330193</td>\n",
       "      <td>31359</td>\n",
       "      <td>1240</td>\n",
       "      <td>2.6</td>\n",
       "      <td>South America</td>\n",
       "    </tr>\n",
       "    <tr>\n",
       "      <th>2</th>\n",
       "      <td>India</td>\n",
       "      <td>12589067</td>\n",
       "      <td>165101</td>\n",
       "      <td>12485509</td>\n",
       "      <td>164623</td>\n",
       "      <td>103558</td>\n",
       "      <td>478</td>\n",
       "      <td>1.3</td>\n",
       "      <td>Asia</td>\n",
       "    </tr>\n",
       "    <tr>\n",
       "      <th>3</th>\n",
       "      <td>France</td>\n",
       "      <td>4883174</td>\n",
       "      <td>96808</td>\n",
       "      <td>4802545</td>\n",
       "      <td>96439</td>\n",
       "      <td>80629</td>\n",
       "      <td>369</td>\n",
       "      <td>2.0</td>\n",
       "      <td>Europe</td>\n",
       "    </tr>\n",
       "    <tr>\n",
       "      <th>4</th>\n",
       "      <td>Russia</td>\n",
       "      <td>4529576</td>\n",
       "      <td>98713</td>\n",
       "      <td>4520879</td>\n",
       "      <td>98363</td>\n",
       "      <td>8697</td>\n",
       "      <td>350</td>\n",
       "      <td>2.2</td>\n",
       "      <td>Europe</td>\n",
       "    </tr>\n",
       "  </tbody>\n",
       "</table>\n",
       "</div>"
      ],
      "text/plain": [
       "  Country/Region     Cases  Deaths    PCases  PDeaths  Cases (+)  Deaths (+)  \\\n",
       "0             US  30706126  555001  30671844   554779      34282         222   \n",
       "1         Brazil  12984956  331433  12953597   330193      31359        1240   \n",
       "2          India  12589067  165101  12485509   164623     103558         478   \n",
       "3         France   4883174   96808   4802545    96439      80629         369   \n",
       "4         Russia   4529576   98713   4520879    98363       8697         350   \n",
       "\n",
       "   Fatality Rate      Continent  \n",
       "0            1.8  North America  \n",
       "1            2.6  South America  \n",
       "2            1.3           Asia  \n",
       "3            2.0         Europe  \n",
       "4            2.2         Europe  "
      ]
     },
     "execution_count": 15,
     "metadata": {},
     "output_type": "execute_result"
    }
   ],
   "source": [
    "#hide\n",
    "df_table = (pd.DataFrame(dict(Cases=dfc_cases, Deaths=dfc_deaths, PCases=dfp_cases, PDeaths=dfp_deaths))\n",
    "             .sort_values(by=['Cases', 'Deaths'], ascending=[False, False])\n",
    "             .reset_index())\n",
    "df_table.rename(columns={'index': 'Country/Region'}, inplace=True)\n",
    "for c in 'Cases, Deaths'.split(', '):\n",
    "    df_table[f'{c} (+)'] = (df_table[c] - df_table[f'P{c}']).clip(0)  # DATA BUG\n",
    "df_table['Fatality Rate'] = (100 * df_table['Deaths'] / df_table['Cases']).round(1)\n",
    "df_table['Continent'] = df_table['Country/Region'].map(mapping['map.continent'])\n",
    "df_table.head(5)"
   ]
  },
  {
   "cell_type": "code",
   "execution_count": 16,
   "id": "fewer-occasion",
   "metadata": {
    "execution": {
     "iopub.execute_input": "2021-04-06T00:06:19.390925Z",
     "iopub.status.busy": "2021-04-06T00:06:19.390317Z",
     "iopub.status.idle": "2021-04-06T00:06:19.392906Z",
     "shell.execute_reply": "2021-04-06T00:06:19.392438Z"
    },
    "papermill": {
     "duration": 0.045847,
     "end_time": "2021-04-06T00:06:19.393012",
     "exception": false,
     "start_time": "2021-04-06T00:06:19.347165",
     "status": "completed"
    },
    "tags": []
   },
   "outputs": [],
   "source": [
    "#hide\n",
    "#delete problematic countries from table\n",
    "df_table = df_table[~df_table['Country/Region'].isin(['Cape Verde', 'Cruise Ship', 'Kosovo'])]"
   ]
  },
  {
   "cell_type": "code",
   "execution_count": 17,
   "id": "related-center",
   "metadata": {
    "execution": {
     "iopub.execute_input": "2021-04-06T00:06:19.464655Z",
     "iopub.status.busy": "2021-04-06T00:06:19.464058Z",
     "iopub.status.idle": "2021-04-06T00:06:19.477661Z",
     "shell.execute_reply": "2021-04-06T00:06:19.478103Z"
    },
    "papermill": {
     "duration": 0.053055,
     "end_time": "2021-04-06T00:06:19.478210",
     "exception": false,
     "start_time": "2021-04-06T00:06:19.425155",
     "status": "completed"
    },
    "tags": []
   },
   "outputs": [],
   "source": [
    "#hide\n",
    "metrics = [df_table.columns[index] for index in [1,2,5,6]]\n",
    "# s_china = df_table[df_table['Country/Region'].eq('China')][metrics].sum().add_prefix('China ')\n",
    "s_us = df_table[df_table['Country/Region'].eq('US')][metrics].sum().add_prefix('US ')\n",
    "s_eu = df_table[df_table['Continent'].eq('Europe')][metrics].sum().add_prefix('EU ')\n",
    "s_ind = df_table[df_table['Country/Region'].eq('India')][metrics].sum().add_prefix('India ')\n",
    "summary = {'updated': pd.to_datetime(dt_today), 'since': pd.to_datetime(dt_yday)}\n",
    "summary = {'updated': pd.to_datetime(dt_today), 'since': pd.to_datetime(dt_yday)}\n",
    "summary = {**summary, **df_table[metrics].sum(), **s_ind, **s_us, **s_eu}"
   ]
  },
  {
   "cell_type": "code",
   "execution_count": 18,
   "id": "engaging-syndrome",
   "metadata": {
    "execution": {
     "iopub.execute_input": "2021-04-06T00:06:19.547448Z",
     "iopub.status.busy": "2021-04-06T00:06:19.546931Z",
     "iopub.status.idle": "2021-04-06T00:06:19.558725Z",
     "shell.execute_reply": "2021-04-06T00:06:19.558144Z"
    },
    "papermill": {
     "duration": 0.04891,
     "end_time": "2021-04-06T00:06:19.558845",
     "exception": false,
     "start_time": "2021-04-06T00:06:19.509935",
     "status": "completed"
    },
    "tags": []
   },
   "outputs": [],
   "source": [
    "#hide\n",
    "dft_ct_new_cases = dft_cases.groupby(COL_REGION)[dt_cols].sum().diff(axis=1).fillna(0).astype(int)"
   ]
  },
  {
   "cell_type": "code",
   "execution_count": 19,
   "id": "neutral-assignment",
   "metadata": {
    "execution": {
     "iopub.execute_input": "2021-04-06T00:06:19.627740Z",
     "iopub.status.busy": "2021-04-06T00:06:19.627214Z",
     "iopub.status.idle": "2021-04-06T00:06:19.628868Z",
     "shell.execute_reply": "2021-04-06T00:06:19.629301Z"
    },
    "papermill": {
     "duration": 0.037861,
     "end_time": "2021-04-06T00:06:19.629410",
     "exception": false,
     "start_time": "2021-04-06T00:06:19.591549",
     "status": "completed"
    },
    "tags": []
   },
   "outputs": [],
   "source": [
    "#hide\n",
    "everydaycases = dft_ct_new_cases.cumsum(axis=1)"
   ]
  },
  {
   "cell_type": "code",
   "execution_count": 20,
   "id": "parliamentary-calgary",
   "metadata": {
    "execution": {
     "iopub.execute_input": "2021-04-06T00:06:19.696190Z",
     "iopub.status.busy": "2021-04-06T00:06:19.695610Z",
     "iopub.status.idle": "2021-04-06T00:06:20.274744Z",
     "shell.execute_reply": "2021-04-06T00:06:20.274053Z"
    },
    "papermill": {
     "duration": 0.614231,
     "end_time": "2021-04-06T00:06:20.274864",
     "exception": false,
     "start_time": "2021-04-06T00:06:19.660633",
     "status": "completed"
    },
    "tags": []
   },
   "outputs": [],
   "source": [
    "#hide\n",
    "import pandas as pd\n",
    "import matplotlib.pyplot as plt\n",
    "import matplotlib.ticker as ticker\n",
    "import matplotlib.animation as animation\n",
    "from IPython.display import HTML"
   ]
  },
  {
   "cell_type": "code",
   "execution_count": 21,
   "id": "lasting-extraction",
   "metadata": {
    "execution": {
     "iopub.execute_input": "2021-04-06T00:06:20.345188Z",
     "iopub.status.busy": "2021-04-06T00:06:20.344621Z",
     "iopub.status.idle": "2021-04-06T00:06:20.349991Z",
     "shell.execute_reply": "2021-04-06T00:06:20.350565Z"
    },
    "papermill": {
     "duration": 0.042632,
     "end_time": "2021-04-06T00:06:20.350673",
     "exception": false,
     "start_time": "2021-04-06T00:06:20.308041",
     "status": "completed"
    },
    "tags": []
   },
   "outputs": [],
   "source": [
    "#hide\n",
    "t = everydaycases.stack()"
   ]
  },
  {
   "cell_type": "code",
   "execution_count": 22,
   "id": "premier-sleeve",
   "metadata": {
    "execution": {
     "iopub.execute_input": "2021-04-06T00:06:20.418262Z",
     "iopub.status.busy": "2021-04-06T00:06:20.417760Z",
     "iopub.status.idle": "2021-04-06T00:06:20.424277Z",
     "shell.execute_reply": "2021-04-06T00:06:20.423870Z"
    },
    "papermill": {
     "duration": 0.04093,
     "end_time": "2021-04-06T00:06:20.424372",
     "exception": false,
     "start_time": "2021-04-06T00:06:20.383442",
     "status": "completed"
    },
    "tags": []
   },
   "outputs": [],
   "source": [
    "#hide\n",
    "g = t.reset_index(['Country/Region'])"
   ]
  },
  {
   "cell_type": "code",
   "execution_count": 23,
   "id": "distributed-pittsburgh",
   "metadata": {
    "execution": {
     "iopub.execute_input": "2021-04-06T00:06:20.491035Z",
     "iopub.status.busy": "2021-04-06T00:06:20.490505Z",
     "iopub.status.idle": "2021-04-06T00:06:20.492815Z",
     "shell.execute_reply": "2021-04-06T00:06:20.492242Z"
    },
    "papermill": {
     "duration": 0.036907,
     "end_time": "2021-04-06T00:06:20.492909",
     "exception": false,
     "start_time": "2021-04-06T00:06:20.456002",
     "status": "completed"
    },
    "tags": []
   },
   "outputs": [],
   "source": [
    "#hide\n",
    "g.index.name = 'date'"
   ]
  },
  {
   "cell_type": "code",
   "execution_count": 24,
   "id": "naked-donor",
   "metadata": {
    "execution": {
     "iopub.execute_input": "2021-04-06T00:06:20.558124Z",
     "iopub.status.busy": "2021-04-06T00:06:20.557630Z",
     "iopub.status.idle": "2021-04-06T00:06:20.559403Z",
     "shell.execute_reply": "2021-04-06T00:06:20.559810Z"
    },
    "papermill": {
     "duration": 0.036776,
     "end_time": "2021-04-06T00:06:20.559915",
     "exception": false,
     "start_time": "2021-04-06T00:06:20.523139",
     "status": "completed"
    },
    "tags": []
   },
   "outputs": [],
   "source": [
    "# #hide\n",
    "# g = g.reset_index(['date'])"
   ]
  },
  {
   "cell_type": "code",
   "execution_count": 25,
   "id": "incomplete-mustang",
   "metadata": {
    "execution": {
     "iopub.execute_input": "2021-04-06T00:06:20.634615Z",
     "iopub.status.busy": "2021-04-06T00:06:20.634028Z",
     "iopub.status.idle": "2021-04-06T00:06:20.636033Z",
     "shell.execute_reply": "2021-04-06T00:06:20.635532Z"
    },
    "papermill": {
     "duration": 0.038582,
     "end_time": "2021-04-06T00:06:20.636131",
     "exception": false,
     "start_time": "2021-04-06T00:06:20.597549",
     "status": "completed"
    },
    "tags": []
   },
   "outputs": [],
   "source": [
    "#hide\n",
    "# g.head()"
   ]
  },
  {
   "cell_type": "code",
   "execution_count": 26,
   "id": "specific-kruger",
   "metadata": {
    "execution": {
     "iopub.execute_input": "2021-04-06T00:06:20.703825Z",
     "iopub.status.busy": "2021-04-06T00:06:20.703291Z",
     "iopub.status.idle": "2021-04-06T00:06:20.705549Z",
     "shell.execute_reply": "2021-04-06T00:06:20.705112Z"
    },
    "papermill": {
     "duration": 0.037398,
     "end_time": "2021-04-06T00:06:20.705667",
     "exception": false,
     "start_time": "2021-04-06T00:06:20.668269",
     "status": "completed"
    },
    "tags": []
   },
   "outputs": [],
   "source": [
    "#hide\n",
    "# g.columns = ['date','country','cases']"
   ]
  },
  {
   "cell_type": "code",
   "execution_count": 27,
   "id": "tender-conversion",
   "metadata": {
    "execution": {
     "iopub.execute_input": "2021-04-06T00:06:20.776642Z",
     "iopub.status.busy": "2021-04-06T00:06:20.776044Z",
     "iopub.status.idle": "2021-04-06T00:06:20.779480Z",
     "shell.execute_reply": "2021-04-06T00:06:20.778682Z"
    },
    "papermill": {
     "duration": 0.041542,
     "end_time": "2021-04-06T00:06:20.779583",
     "exception": false,
     "start_time": "2021-04-06T00:06:20.738041",
     "status": "completed"
    },
    "tags": []
   },
   "outputs": [],
   "source": [
    "#hide\n",
    "# g['continent'] = g.country"
   ]
  },
  {
   "cell_type": "code",
   "execution_count": 28,
   "id": "substantial-wilderness",
   "metadata": {
    "execution": {
     "iopub.execute_input": "2021-04-06T00:06:20.857961Z",
     "iopub.status.busy": "2021-04-06T00:06:20.857442Z",
     "iopub.status.idle": "2021-04-06T00:06:20.859791Z",
     "shell.execute_reply": "2021-04-06T00:06:20.859339Z"
    },
    "papermill": {
     "duration": 0.044198,
     "end_time": "2021-04-06T00:06:20.859892",
     "exception": false,
     "start_time": "2021-04-06T00:06:20.815694",
     "status": "completed"
    },
    "tags": []
   },
   "outputs": [],
   "source": [
    "#hide\n",
    "# cols = list(g.columns.values)"
   ]
  },
  {
   "cell_type": "code",
   "execution_count": 29,
   "id": "solved-farming",
   "metadata": {
    "execution": {
     "iopub.execute_input": "2021-04-06T00:06:20.936533Z",
     "iopub.status.busy": "2021-04-06T00:06:20.936006Z",
     "iopub.status.idle": "2021-04-06T00:06:20.937921Z",
     "shell.execute_reply": "2021-04-06T00:06:20.938694Z"
    },
    "papermill": {
     "duration": 0.045207,
     "end_time": "2021-04-06T00:06:20.938874",
     "exception": false,
     "start_time": "2021-04-06T00:06:20.893667",
     "status": "completed"
    },
    "tags": []
   },
   "outputs": [],
   "source": [
    "#hide\n",
    "# cols.insert(0, cols.pop())"
   ]
  },
  {
   "cell_type": "code",
   "execution_count": 30,
   "id": "executed-adoption",
   "metadata": {
    "execution": {
     "iopub.execute_input": "2021-04-06T00:06:21.011718Z",
     "iopub.status.busy": "2021-04-06T00:06:21.011078Z",
     "iopub.status.idle": "2021-04-06T00:06:21.013248Z",
     "shell.execute_reply": "2021-04-06T00:06:21.012695Z"
    },
    "papermill": {
     "duration": 0.039732,
     "end_time": "2021-04-06T00:06:21.013386",
     "exception": false,
     "start_time": "2021-04-06T00:06:20.973654",
     "status": "completed"
    },
    "tags": []
   },
   "outputs": [],
   "source": [
    "#hide\n",
    "# g = g[cols]"
   ]
  },
  {
   "cell_type": "code",
   "execution_count": 31,
   "id": "subject-dublin",
   "metadata": {
    "execution": {
     "iopub.execute_input": "2021-04-06T00:06:21.084304Z",
     "iopub.status.busy": "2021-04-06T00:06:21.083750Z",
     "iopub.status.idle": "2021-04-06T00:06:21.085917Z",
     "shell.execute_reply": "2021-04-06T00:06:21.085478Z"
    },
    "papermill": {
     "duration": 0.040013,
     "end_time": "2021-04-06T00:06:21.086185",
     "exception": false,
     "start_time": "2021-04-06T00:06:21.046172",
     "status": "completed"
    },
    "tags": []
   },
   "outputs": [],
   "source": [
    "#hide\n",
    "# g['continent'] = g['continent'].map(mapping['map.continent'])"
   ]
  },
  {
   "cell_type": "code",
   "execution_count": 32,
   "id": "freelance-scout",
   "metadata": {
    "execution": {
     "iopub.execute_input": "2021-04-06T00:06:21.157964Z",
     "iopub.status.busy": "2021-04-06T00:06:21.157287Z",
     "iopub.status.idle": "2021-04-06T00:06:21.159573Z",
     "shell.execute_reply": "2021-04-06T00:06:21.159042Z"
    },
    "papermill": {
     "duration": 0.039937,
     "end_time": "2021-04-06T00:06:21.159671",
     "exception": false,
     "start_time": "2021-04-06T00:06:21.119734",
     "status": "completed"
    },
    "tags": []
   },
   "outputs": [],
   "source": [
    "#hide\n",
    "# g.head()"
   ]
  },
  {
   "cell_type": "code",
   "execution_count": 33,
   "id": "limited-engine",
   "metadata": {
    "execution": {
     "iopub.execute_input": "2021-04-06T00:06:21.228857Z",
     "iopub.status.busy": "2021-04-06T00:06:21.228347Z",
     "iopub.status.idle": "2021-04-06T00:06:21.230583Z",
     "shell.execute_reply": "2021-04-06T00:06:21.230147Z"
    },
    "papermill": {
     "duration": 0.037271,
     "end_time": "2021-04-06T00:06:21.230685",
     "exception": false,
     "start_time": "2021-04-06T00:06:21.193414",
     "status": "completed"
    },
    "tags": []
   },
   "outputs": [],
   "source": [
    "# hide\n",
    "# g['date'] = g['date'].astype('datetime64[ns]')"
   ]
  },
  {
   "cell_type": "code",
   "execution_count": 34,
   "id": "sophisticated-supervisor",
   "metadata": {
    "execution": {
     "iopub.execute_input": "2021-04-06T00:06:21.298841Z",
     "iopub.status.busy": "2021-04-06T00:06:21.298240Z",
     "iopub.status.idle": "2021-04-06T00:06:21.300225Z",
     "shell.execute_reply": "2021-04-06T00:06:21.300706Z"
    },
    "papermill": {
     "duration": 0.038253,
     "end_time": "2021-04-06T00:06:21.300816",
     "exception": false,
     "start_time": "2021-04-06T00:06:21.262563",
     "status": "completed"
    },
    "tags": []
   },
   "outputs": [],
   "source": [
    "#hide\n",
    "# g['date'] = g.date.dt.dayofyear"
   ]
  },
  {
   "cell_type": "code",
   "execution_count": 35,
   "id": "inside-dubai",
   "metadata": {
    "execution": {
     "iopub.execute_input": "2021-04-06T00:06:21.369648Z",
     "iopub.status.busy": "2021-04-06T00:06:21.369006Z",
     "iopub.status.idle": "2021-04-06T00:06:21.371405Z",
     "shell.execute_reply": "2021-04-06T00:06:21.370923Z"
    },
    "papermill": {
     "duration": 0.038558,
     "end_time": "2021-04-06T00:06:21.371528",
     "exception": false,
     "start_time": "2021-04-06T00:06:21.332970",
     "status": "completed"
    },
    "tags": []
   },
   "outputs": [],
   "source": [
    "#hide\n",
    "# g = g.rename(columns= {'continent':'group','country':'name','cases':'value'})"
   ]
  },
  {
   "cell_type": "code",
   "execution_count": 36,
   "id": "fleet-motorcycle",
   "metadata": {
    "execution": {
     "iopub.execute_input": "2021-04-06T00:06:21.440703Z",
     "iopub.status.busy": "2021-04-06T00:06:21.440149Z",
     "iopub.status.idle": "2021-04-06T00:06:21.442036Z",
     "shell.execute_reply": "2021-04-06T00:06:21.442482Z"
    },
    "papermill": {
     "duration": 0.03828,
     "end_time": "2021-04-06T00:06:21.442615",
     "exception": false,
     "start_time": "2021-04-06T00:06:21.404335",
     "status": "completed"
    },
    "tags": []
   },
   "outputs": [],
   "source": [
    "#hide\n",
    "# cols = ['name','group','day','value']"
   ]
  },
  {
   "cell_type": "code",
   "execution_count": 37,
   "id": "continued-sleeping",
   "metadata": {
    "execution": {
     "iopub.execute_input": "2021-04-06T00:06:21.510663Z",
     "iopub.status.busy": "2021-04-06T00:06:21.510112Z",
     "iopub.status.idle": "2021-04-06T00:06:21.512266Z",
     "shell.execute_reply": "2021-04-06T00:06:21.511825Z"
    },
    "papermill": {
     "duration": 0.037774,
     "end_time": "2021-04-06T00:06:21.512366",
     "exception": false,
     "start_time": "2021-04-06T00:06:21.474592",
     "status": "completed"
    },
    "tags": []
   },
   "outputs": [],
   "source": [
    "#hide\n",
    "# g.rename(columns= {'date':'day'},inplace = True)"
   ]
  },
  {
   "cell_type": "code",
   "execution_count": 38,
   "id": "major-fight",
   "metadata": {
    "execution": {
     "iopub.execute_input": "2021-04-06T00:06:21.581273Z",
     "iopub.status.busy": "2021-04-06T00:06:21.580735Z",
     "iopub.status.idle": "2021-04-06T00:06:21.583058Z",
     "shell.execute_reply": "2021-04-06T00:06:21.582620Z"
    },
    "papermill": {
     "duration": 0.038133,
     "end_time": "2021-04-06T00:06:21.583155",
     "exception": false,
     "start_time": "2021-04-06T00:06:21.545022",
     "status": "completed"
    },
    "tags": []
   },
   "outputs": [],
   "source": [
    "#hide\n",
    "# g = g[cols]"
   ]
  },
  {
   "cell_type": "code",
   "execution_count": 39,
   "id": "structured-mobile",
   "metadata": {
    "execution": {
     "iopub.execute_input": "2021-04-06T00:06:21.652860Z",
     "iopub.status.busy": "2021-04-06T00:06:21.652267Z",
     "iopub.status.idle": "2021-04-06T00:06:21.654078Z",
     "shell.execute_reply": "2021-04-06T00:06:21.654522Z"
    },
    "papermill": {
     "duration": 0.039849,
     "end_time": "2021-04-06T00:06:21.654653",
     "exception": false,
     "start_time": "2021-04-06T00:06:21.614804",
     "status": "completed"
    },
    "tags": []
   },
   "outputs": [],
   "source": [
    "# #hide\n",
    "# g = g[g.group.notna()]"
   ]
  },
  {
   "cell_type": "code",
   "execution_count": 40,
   "id": "determined-closing",
   "metadata": {
    "execution": {
     "iopub.execute_input": "2021-04-06T00:06:21.724843Z",
     "iopub.status.busy": "2021-04-06T00:06:21.724170Z",
     "iopub.status.idle": "2021-04-06T00:06:21.727533Z",
     "shell.execute_reply": "2021-04-06T00:06:21.728217Z"
    },
    "papermill": {
     "duration": 0.041749,
     "end_time": "2021-04-06T00:06:21.728387",
     "exception": false,
     "start_time": "2021-04-06T00:06:21.686638",
     "status": "completed"
    },
    "tags": []
   },
   "outputs": [],
   "source": [
    "# #hide\n",
    "# colors = dict(zip(\n",
    "#     [\"Oceania\", \"Europe\", \"Asia\", \"South America\", \"Middle East\", \"North America\", \"Africa\"],\n",
    "#     [\"#adb0ff\", \"#ffb3ff\", \"#90d595\", \"#e48381\", \"#aafbff\", \"#f7bb5f\", \"#eafb50\"]\n",
    "# ))\n",
    "# group_lk = g.set_index('name')['group'].to_dict()"
   ]
  },
  {
   "cell_type": "code",
   "execution_count": null,
   "id": "gross-drinking",
   "metadata": {
    "papermill": {
     "duration": 0.033441,
     "end_time": "2021-04-06T00:06:21.796325",
     "exception": false,
     "start_time": "2021-04-06T00:06:21.762884",
     "status": "completed"
    },
    "tags": []
   },
   "outputs": [],
   "source": []
  },
  {
   "cell_type": "code",
   "execution_count": 41,
   "id": "subject-macintosh",
   "metadata": {
    "execution": {
     "iopub.execute_input": "2021-04-06T00:06:21.869244Z",
     "iopub.status.busy": "2021-04-06T00:06:21.868704Z",
     "iopub.status.idle": "2021-04-06T00:06:21.870393Z",
     "shell.execute_reply": "2021-04-06T00:06:21.870902Z"
    },
    "papermill": {
     "duration": 0.042269,
     "end_time": "2021-04-06T00:06:21.871160",
     "exception": false,
     "start_time": "2021-04-06T00:06:21.828891",
     "status": "completed"
    },
    "tags": []
   },
   "outputs": [],
   "source": [
    "# #hide\n",
    "# fig, ax = plt.subplots(figsize=(15, 8))\n",
    "\n",
    "# def draw_barchart(current_day):\n",
    "#     dff = g[g['day'].eq(current_day)].sort_values(by='value', ascending=True).tail(10)\n",
    "#     ax.clear()\n",
    "#     ax.barh(dff['name'], dff['value'], color=[colors[group_lk[x]] for x in dff['name']])\n",
    "#     dx = dff['value'].max() / 200\n",
    "    \n",
    "#     for i, (value, name) in enumerate(zip(dff['value'], dff['name'])):\n",
    "#         ax.text(value-dx, i,     name,           size=14, weight=600, ha='right', va='bottom')\n",
    "#         ax.text(value-dx, i-.25, group_lk[name], size=10, color='#444444', ha='right', va='baseline')\n",
    "#         ax.text(value+dx, i,     f'{value:,.0f}',  size=14, ha='left',  va='center')\n",
    "#     ax.text(1, 0.4, current_day, transform=ax.transAxes, color='#777777', size=46, ha='right', weight=800)\n",
    "#     ax.text(0, 1.06, 'Population (thousands)', transform=ax.transAxes, size=12, color='#777777')\n",
    "#     ax.xaxis.set_major_formatter(ticker.StrMethodFormatter('{x:,.0f}'))\n",
    "#     ax.xaxis.set_ticks_position('top')\n",
    "#     ax.tick_params(axis='x', colors='#777777', labelsize=12)\n",
    "#     ax.set_yticks([])\n",
    "#     ax.margins(0, 0.01)\n",
    "#     ax.grid(which='major', axis='x', linestyle='-')\n",
    "#     ax.set_axisbelow(True)\n",
    "    \n",
    "#     ax.text(0, 1.15, 'Coronavirus',\n",
    "#             transform=ax.transAxes, size=24, weight=600, ha='left', va='top')\n",
    "# #     ax.text(1, 0, 'by @pratapvardhan; credit @jburnmurdoch', transform=ax.transAxes, color='#777777', ha='right',\n",
    "# #             bbox=dict(facecolor='white', alpha=0.8, edgecolor='white'))\n",
    "#     plt.box(False)"
   ]
  },
  {
   "cell_type": "code",
   "execution_count": 42,
   "id": "sexual-wages",
   "metadata": {
    "execution": {
     "iopub.execute_input": "2021-04-06T00:06:21.939684Z",
     "iopub.status.busy": "2021-04-06T00:06:21.939118Z",
     "iopub.status.idle": "2021-04-06T00:06:21.941044Z",
     "shell.execute_reply": "2021-04-06T00:06:21.941470Z"
    },
    "papermill": {
     "duration": 0.037169,
     "end_time": "2021-04-06T00:06:21.941584",
     "exception": false,
     "start_time": "2021-04-06T00:06:21.904415",
     "status": "completed"
    },
    "tags": []
   },
   "outputs": [],
   "source": [
    "# #hide_input\n",
    "# fig, ax = plt.subplots(figsize=(15, 8))\n",
    "# animator = animation.FuncAnimation(fig, draw_barchart, frames=range(g.day.values.min(), g.day.values.max()))\n",
    "# HTML(animator.to_jshtml())\n",
    "# # or use animator.to_html5_video() or animator.save() "
   ]
  },
  {
   "cell_type": "code",
   "execution_count": null,
   "id": "australian-container",
   "metadata": {
    "papermill": {
     "duration": 0.036845,
     "end_time": "2021-04-06T00:06:22.013602",
     "exception": false,
     "start_time": "2021-04-06T00:06:21.976757",
     "status": "completed"
    },
    "tags": []
   },
   "outputs": [],
   "source": []
  },
  {
   "cell_type": "code",
   "execution_count": null,
   "id": "mediterranean-pontiac",
   "metadata": {
    "papermill": {
     "duration": 0.033982,
     "end_time": "2021-04-06T00:06:22.084556",
     "exception": false,
     "start_time": "2021-04-06T00:06:22.050574",
     "status": "completed"
    },
    "tags": []
   },
   "outputs": [],
   "source": []
  },
  {
   "cell_type": "code",
   "execution_count": null,
   "id": "aging-legislature",
   "metadata": {
    "papermill": {
     "duration": 0.032106,
     "end_time": "2021-04-06T00:06:22.149190",
     "exception": false,
     "start_time": "2021-04-06T00:06:22.117084",
     "status": "completed"
    },
    "tags": []
   },
   "outputs": [],
   "source": []
  }
 ],
 "metadata": {
  "kernelspec": {
   "display_name": "Python 3",
   "language": "python",
   "name": "python3"
  },
  "language_info": {
   "codemirror_mode": {
    "name": "ipython",
    "version": 3
   },
   "file_extension": ".py",
   "mimetype": "text/x-python",
   "name": "python",
   "nbconvert_exporter": "python",
   "pygments_lexer": "ipython3",
   "version": "3.6.13"
  },
  "papermill": {
   "duration": 5.94862,
   "end_time": "2021-04-06T00:06:22.487894",
   "environment_variables": {},
   "exception": null,
   "input_path": "2020-03-21-covid19exp.ipynb",
   "output_path": "2020-03-21-covid19exp.ipynb",
   "parameters": {},
   "start_time": "2021-04-06T00:06:16.539274",
   "version": "2.0.0"
  }
 },
 "nbformat": 4,
 "nbformat_minor": 5
}