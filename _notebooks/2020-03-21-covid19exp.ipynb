{
 "cells": [
  {
   "cell_type": "markdown",
   "id": "muslim-click",
   "metadata": {
    "papermill": {
     "duration": 0.045969,
     "end_time": "2022-09-27T12:22:19.898329",
     "exception": false,
     "start_time": "2022-09-27T12:22:19.852360",
     "status": "completed"
    },
    "tags": []
   },
   "source": [
    "# COVID-19 Case Race\n",
    "> A race chart to see rising cases around the world\n",
    "\n",
    "- author: Hargun Oberoi\n",
    "- image: images/covid-overview.png\n",
    "- hide: false\n",
    "- badges: false"
   ]
  },
  {
   "cell_type": "code",
   "execution_count": 1,
   "id": "proof-material",
   "metadata": {
    "execution": {
     "iopub.execute_input": "2022-09-27T12:22:19.987545Z",
     "iopub.status.busy": "2022-09-27T12:22:19.986647Z",
     "iopub.status.idle": "2022-09-27T12:22:20.422602Z",
     "shell.execute_reply": "2022-09-27T12:22:20.421981Z"
    },
    "papermill": {
     "duration": 0.484786,
     "end_time": "2022-09-27T12:22:20.422769",
     "exception": false,
     "start_time": "2022-09-27T12:22:19.937983",
     "status": "completed"
    },
    "tags": []
   },
   "outputs": [],
   "source": [
    "#hide\n",
    "import numpy as np\n",
    "import pandas as pd\n",
    "from jinja2 import Template\n",
    "from IPython.display import HTML"
   ]
  },
  {
   "cell_type": "code",
   "execution_count": 2,
   "id": "developed-terminology",
   "metadata": {
    "execution": {
     "iopub.execute_input": "2022-09-27T12:22:20.506604Z",
     "iopub.status.busy": "2022-09-27T12:22:20.505818Z",
     "iopub.status.idle": "2022-09-27T12:22:20.509126Z",
     "shell.execute_reply": "2022-09-27T12:22:20.508214Z"
    },
    "papermill": {
     "duration": 0.047291,
     "end_time": "2022-09-27T12:22:20.509297",
     "exception": false,
     "start_time": "2022-09-27T12:22:20.462006",
     "status": "completed"
    },
    "tags": []
   },
   "outputs": [],
   "source": [
    "#hide\n",
    "\n",
    "# FETCH\n",
    "base_url = 'https://raw.githubusercontent.com/pratapvardhan/notebooks/master/covid19/'\n",
    "paths = {\n",
    "    'mapping': base_url + 'mapping_countries.csv',\n",
    "    'overview': base_url + 'overview.tpl'\n",
    "}"
   ]
  },
  {
   "cell_type": "code",
   "execution_count": 3,
   "id": "dynamic-saver",
   "metadata": {
    "execution": {
     "iopub.execute_input": "2022-09-27T12:22:20.601838Z",
     "iopub.status.busy": "2022-09-27T12:22:20.601078Z",
     "iopub.status.idle": "2022-09-27T12:22:20.607321Z",
     "shell.execute_reply": "2022-09-27T12:22:20.606334Z"
    },
    "papermill": {
     "duration": 0.056693,
     "end_time": "2022-09-27T12:22:20.607467",
     "exception": false,
     "start_time": "2022-09-27T12:22:20.550774",
     "status": "completed"
    },
    "tags": []
   },
   "outputs": [
    {
     "data": {
      "text/plain": [
       "'https://raw.githubusercontent.com/pratapvardhan/notebooks/master/covid19/mapping_countries.csv'"
      ]
     },
     "execution_count": 3,
     "metadata": {},
     "output_type": "execute_result"
    }
   ],
   "source": [
    "#hide\n",
    "paths['mapping']"
   ]
  },
  {
   "cell_type": "code",
   "execution_count": 4,
   "id": "urban-software",
   "metadata": {
    "execution": {
     "iopub.execute_input": "2022-09-27T12:22:20.693134Z",
     "iopub.status.busy": "2022-09-27T12:22:20.692366Z",
     "iopub.status.idle": "2022-09-27T12:22:20.695616Z",
     "shell.execute_reply": "2022-09-27T12:22:20.694870Z"
    },
    "papermill": {
     "duration": 0.048298,
     "end_time": "2022-09-27T12:22:20.695750",
     "exception": false,
     "start_time": "2022-09-27T12:22:20.647452",
     "status": "completed"
    },
    "tags": []
   },
   "outputs": [],
   "source": [
    "#hide\n",
    "def get_mappings(url):\n",
    "    df = pd.read_csv(url)\n",
    "    return {\n",
    "        'df': df,\n",
    "        'replace.country': dict(df.dropna(subset=['Name']).set_index('Country')['Name']),\n",
    "        'map.continent': dict(df.set_index('Name')['Continent'])\n",
    "    }"
   ]
  },
  {
   "cell_type": "code",
   "execution_count": 5,
   "id": "intimate-machinery",
   "metadata": {
    "execution": {
     "iopub.execute_input": "2022-09-27T12:22:20.778522Z",
     "iopub.status.busy": "2022-09-27T12:22:20.777851Z",
     "iopub.status.idle": "2022-09-27T12:22:20.807728Z",
     "shell.execute_reply": "2022-09-27T12:22:20.807127Z"
    },
    "papermill": {
     "duration": 0.07305,
     "end_time": "2022-09-27T12:22:20.807860",
     "exception": false,
     "start_time": "2022-09-27T12:22:20.734810",
     "status": "completed"
    },
    "tags": []
   },
   "outputs": [],
   "source": [
    "#hide\n",
    "mapping = get_mappings(paths['mapping'])"
   ]
  },
  {
   "cell_type": "code",
   "execution_count": 6,
   "id": "certified-tactics",
   "metadata": {
    "execution": {
     "iopub.execute_input": "2022-09-27T12:22:20.894359Z",
     "iopub.status.busy": "2022-09-27T12:22:20.893554Z",
     "iopub.status.idle": "2022-09-27T12:22:20.896918Z",
     "shell.execute_reply": "2022-09-27T12:22:20.896194Z"
    },
    "papermill": {
     "duration": 0.04952,
     "end_time": "2022-09-27T12:22:20.897055",
     "exception": false,
     "start_time": "2022-09-27T12:22:20.847535",
     "status": "completed"
    },
    "tags": []
   },
   "outputs": [],
   "source": [
    "#hide\n",
    "def get_template(path):\n",
    "    from urllib.parse import urlparse\n",
    "    if bool(urlparse(path).netloc):\n",
    "        from urllib.request import urlopen\n",
    "        return urlopen(path).read().decode('utf8')\n",
    "    return open(path).read()"
   ]
  },
  {
   "cell_type": "code",
   "execution_count": 7,
   "id": "realistic-blast",
   "metadata": {
    "execution": {
     "iopub.execute_input": "2022-09-27T12:22:20.985471Z",
     "iopub.status.busy": "2022-09-27T12:22:20.984538Z",
     "iopub.status.idle": "2022-09-27T12:22:20.988130Z",
     "shell.execute_reply": "2022-09-27T12:22:20.987257Z"
    },
    "papermill": {
     "duration": 0.046904,
     "end_time": "2022-09-27T12:22:20.988267",
     "exception": false,
     "start_time": "2022-09-27T12:22:20.941363",
     "status": "completed"
    },
    "tags": []
   },
   "outputs": [],
   "source": [
    "#hide\n",
    "def get_frame(name):\n",
    "    url = (\n",
    "        'https://raw.githubusercontent.com/CSSEGISandData/COVID-19/master/csse_covid_19_data/'\n",
    "        f'csse_covid_19_time_series/time_series_covid19_{name}_global.csv')\n",
    "    df = pd.read_csv(url)\n",
    "    # rename countries\n",
    "    df['Country/Region'] = df['Country/Region'].replace(mapping['replace.country'])\n",
    "    return df"
   ]
  },
  {
   "cell_type": "code",
   "execution_count": 8,
   "id": "affiliated-characterization",
   "metadata": {
    "execution": {
     "iopub.execute_input": "2022-09-27T12:22:21.076923Z",
     "iopub.status.busy": "2022-09-27T12:22:21.076106Z",
     "iopub.status.idle": "2022-09-27T12:22:21.078931Z",
     "shell.execute_reply": "2022-09-27T12:22:21.079571Z"
    },
    "papermill": {
     "duration": 0.050641,
     "end_time": "2022-09-27T12:22:21.079744",
     "exception": false,
     "start_time": "2022-09-27T12:22:21.029103",
     "status": "completed"
    },
    "tags": []
   },
   "outputs": [],
   "source": [
    "#hide\n",
    "def get_dates(df):\n",
    "    dt_cols = df.columns[~df.columns.isin(['Province/State', 'Country/Region', 'Lat', 'Long'])]\n",
    "    LAST_DATE_I = -1\n",
    "    # sometimes last column may be empty, then go backwards\n",
    "    for i in range(-1, -len(dt_cols), -1):\n",
    "        if not df[dt_cols[i]].fillna(0).eq(0).all():\n",
    "            LAST_DATE_I = i\n",
    "            break\n",
    "    return LAST_DATE_I, dt_cols"
   ]
  },
  {
   "cell_type": "code",
   "execution_count": 9,
   "id": "recent-optimization",
   "metadata": {
    "execution": {
     "iopub.execute_input": "2022-09-27T12:22:21.167380Z",
     "iopub.status.busy": "2022-09-27T12:22:21.166459Z",
     "iopub.status.idle": "2022-09-27T12:22:21.680917Z",
     "shell.execute_reply": "2022-09-27T12:22:21.680256Z"
    },
    "papermill": {
     "duration": 0.56122,
     "end_time": "2022-09-27T12:22:21.681072",
     "exception": false,
     "start_time": "2022-09-27T12:22:21.119852",
     "status": "completed"
    },
    "tags": []
   },
   "outputs": [],
   "source": [
    "#hide\n",
    "COL_REGION = 'Country/Region'\n",
    "# Confirmed, Recovered, Deaths\n",
    "df = get_frame('confirmed')\n",
    "# dft_: timeseries, dfc_: today country agg\n",
    "dft_cases = df\n",
    "dft_deaths = get_frame('deaths')\n",
    "dft_recovered = get_frame('recovered')\n",
    "LAST_DATE_I, dt_cols = get_dates(df)"
   ]
  },
  {
   "cell_type": "code",
   "execution_count": 10,
   "id": "absolute-copper",
   "metadata": {
    "execution": {
     "iopub.execute_input": "2022-09-27T12:22:21.768572Z",
     "iopub.status.busy": "2022-09-27T12:22:21.767813Z",
     "iopub.status.idle": "2022-09-27T12:22:21.772599Z",
     "shell.execute_reply": "2022-09-27T12:22:21.773190Z"
    },
    "papermill": {
     "duration": 0.051412,
     "end_time": "2022-09-27T12:22:21.773368",
     "exception": false,
     "start_time": "2022-09-27T12:22:21.721956",
     "status": "completed"
    },
    "tags": []
   },
   "outputs": [],
   "source": [
    "#hide\n",
    "LAST_DATE_I, dt_cols = get_dates(df)\n",
    "dt_today =dt_cols[LAST_DATE_I]\n",
    "# dt_5day = dt_cols[LAST_DATE_I - 5]\n",
    "dt_yday = dt_cols[LAST_DATE_I - 1]"
   ]
  },
  {
   "cell_type": "code",
   "execution_count": 11,
   "id": "restricted-sheriff",
   "metadata": {
    "execution": {
     "iopub.execute_input": "2022-09-27T12:22:21.863959Z",
     "iopub.status.busy": "2022-09-27T12:22:21.862001Z",
     "iopub.status.idle": "2022-09-27T12:22:21.874783Z",
     "shell.execute_reply": "2022-09-27T12:22:21.876220Z"
    },
    "papermill": {
     "duration": 0.062782,
     "end_time": "2022-09-27T12:22:21.876405",
     "exception": false,
     "start_time": "2022-09-27T12:22:21.813623",
     "status": "completed"
    },
    "tags": []
   },
   "outputs": [],
   "source": [
    "#hide\n",
    "dfc_cases = dft_cases.groupby(COL_REGION)[dt_today].sum()\n",
    "dfc_deaths = dft_deaths.groupby(COL_REGION)[dt_today].sum()\n",
    "# dfp_cases = dft_cases.groupby(COL_REGION)[dt_5day].sum()\n",
    "# dfp_deaths = dft_deaths.groupby(COL_REGION)[dt_5day].sum()\n",
    "dfp_cases = dft_cases.groupby(COL_REGION)[dt_yday].sum()\n",
    "dfp_deaths = dft_deaths.groupby(COL_REGION)[dt_yday].sum()"
   ]
  },
  {
   "cell_type": "code",
   "execution_count": 12,
   "id": "deluxe-hepatitis",
   "metadata": {
    "execution": {
     "iopub.execute_input": "2022-09-27T12:22:21.964099Z",
     "iopub.status.busy": "2022-09-27T12:22:21.963369Z",
     "iopub.status.idle": "2022-09-27T12:22:21.969340Z",
     "shell.execute_reply": "2022-09-27T12:22:21.968588Z"
    },
    "papermill": {
     "duration": 0.053424,
     "end_time": "2022-09-27T12:22:21.969471",
     "exception": false,
     "start_time": "2022-09-27T12:22:21.916047",
     "status": "completed"
    },
    "tags": []
   },
   "outputs": [],
   "source": [
    "#hide\n",
    "df_table = (pd.DataFrame(dict(Cases = dfc_cases, Deaths = dfc_deaths, PCases = dfp_cases, PDeaths = dfp_deaths))\n",
    "            .sort_values(by = ['Cases','Deaths'], ascending = [False, False])\n",
    "            .reset_index())"
   ]
  },
  {
   "cell_type": "code",
   "execution_count": 13,
   "id": "educational-chancellor",
   "metadata": {
    "execution": {
     "iopub.execute_input": "2022-09-27T12:22:22.076679Z",
     "iopub.status.busy": "2022-09-27T12:22:22.075810Z",
     "iopub.status.idle": "2022-09-27T12:22:22.087071Z",
     "shell.execute_reply": "2022-09-27T12:22:22.086431Z"
    },
    "papermill": {
     "duration": 0.075203,
     "end_time": "2022-09-27T12:22:22.087224",
     "exception": false,
     "start_time": "2022-09-27T12:22:22.012021",
     "status": "completed"
    },
    "tags": []
   },
   "outputs": [
    {
     "data": {
      "text/html": [
       "<div>\n",
       "<style scoped>\n",
       "    .dataframe tbody tr th:only-of-type {\n",
       "        vertical-align: middle;\n",
       "    }\n",
       "\n",
       "    .dataframe tbody tr th {\n",
       "        vertical-align: top;\n",
       "    }\n",
       "\n",
       "    .dataframe thead th {\n",
       "        text-align: right;\n",
       "    }\n",
       "</style>\n",
       "<table border=\"1\" class=\"dataframe\">\n",
       "  <thead>\n",
       "    <tr style=\"text-align: right;\">\n",
       "      <th></th>\n",
       "      <th>Country/Region</th>\n",
       "      <th>Cases</th>\n",
       "      <th>Deaths</th>\n",
       "      <th>PCases</th>\n",
       "      <th>PDeaths</th>\n",
       "      <th>Cases (+)</th>\n",
       "      <th>Deaths (+)</th>\n",
       "      <th>Fatality Rate</th>\n",
       "      <th>Continent</th>\n",
       "    </tr>\n",
       "  </thead>\n",
       "  <tbody>\n",
       "    <tr>\n",
       "      <th>0</th>\n",
       "      <td>US</td>\n",
       "      <td>96116204</td>\n",
       "      <td>1056789</td>\n",
       "      <td>96070980</td>\n",
       "      <td>1056416</td>\n",
       "      <td>45224</td>\n",
       "      <td>373</td>\n",
       "      <td>1.10</td>\n",
       "      <td>North America</td>\n",
       "    </tr>\n",
       "    <tr>\n",
       "      <th>1</th>\n",
       "      <td>India</td>\n",
       "      <td>44575473</td>\n",
       "      <td>528562</td>\n",
       "      <td>44572243</td>\n",
       "      <td>528530</td>\n",
       "      <td>3230</td>\n",
       "      <td>32</td>\n",
       "      <td>1.19</td>\n",
       "      <td>Asia</td>\n",
       "    </tr>\n",
       "    <tr>\n",
       "      <th>2</th>\n",
       "      <td>France</td>\n",
       "      <td>35381526</td>\n",
       "      <td>156000</td>\n",
       "      <td>35304648</td>\n",
       "      <td>155927</td>\n",
       "      <td>76878</td>\n",
       "      <td>73</td>\n",
       "      <td>0.44</td>\n",
       "      <td>Europe</td>\n",
       "    </tr>\n",
       "    <tr>\n",
       "      <th>3</th>\n",
       "      <td>Brazil</td>\n",
       "      <td>34638288</td>\n",
       "      <td>685835</td>\n",
       "      <td>34624427</td>\n",
       "      <td>685750</td>\n",
       "      <td>13861</td>\n",
       "      <td>85</td>\n",
       "      <td>1.98</td>\n",
       "      <td>South America</td>\n",
       "    </tr>\n",
       "    <tr>\n",
       "      <th>4</th>\n",
       "      <td>Germany</td>\n",
       "      <td>33041332</td>\n",
       "      <td>149576</td>\n",
       "      <td>32952050</td>\n",
       "      <td>149458</td>\n",
       "      <td>89282</td>\n",
       "      <td>118</td>\n",
       "      <td>0.45</td>\n",
       "      <td>Europe</td>\n",
       "    </tr>\n",
       "  </tbody>\n",
       "</table>\n",
       "</div>"
      ],
      "text/plain": [
       "  Country/Region     Cases   Deaths    PCases  PDeaths  Cases (+)  Deaths (+)  \\\n",
       "0             US  96116204  1056789  96070980  1056416      45224         373   \n",
       "1          India  44575473   528562  44572243   528530       3230          32   \n",
       "2         France  35381526   156000  35304648   155927      76878          73   \n",
       "3         Brazil  34638288   685835  34624427   685750      13861          85   \n",
       "4        Germany  33041332   149576  32952050   149458      89282         118   \n",
       "\n",
       "   Fatality Rate      Continent  \n",
       "0           1.10  North America  \n",
       "1           1.19           Asia  \n",
       "2           0.44         Europe  \n",
       "3           1.98  South America  \n",
       "4           0.45         Europe  "
      ]
     },
     "execution_count": 13,
     "metadata": {},
     "output_type": "execute_result"
    }
   ],
   "source": [
    "#hide\n",
    "for c in 'Cases, Deaths'.split(', '):\n",
    "    df_table[f'{c} (+)'] = (df_table[c] - df_table[f'P{c}']).clip(0)\n",
    "    #Clip ça veut dire, les chiffres negatif sont interdit\n",
    "df_table['Fatality Rate'] = (100* df_table['Deaths']/ df_table['Cases']).round(2)\n",
    "df_table['Continent'] = df_table['Country/Region'].map(mapping['map.continent'])\n",
    "df_table.head(5)"
   ]
  },
  {
   "cell_type": "code",
   "execution_count": 14,
   "id": "aboriginal-bulgaria",
   "metadata": {
    "execution": {
     "iopub.execute_input": "2022-09-27T12:22:22.178850Z",
     "iopub.status.busy": "2022-09-27T12:22:22.178084Z",
     "iopub.status.idle": "2022-09-27T12:22:22.181117Z",
     "shell.execute_reply": "2022-09-27T12:22:22.180304Z"
    },
    "papermill": {
     "duration": 0.051444,
     "end_time": "2022-09-27T12:22:22.181268",
     "exception": false,
     "start_time": "2022-09-27T12:22:22.129824",
     "status": "completed"
    },
    "tags": []
   },
   "outputs": [],
   "source": [
    "#hide\n",
    "#delete problematic countries from table\n",
    "df_table = df_table[~df_table['Country/Region'].isin(['Cape Verde', 'Cruise Ship', 'Kosovo'])]"
   ]
  },
  {
   "cell_type": "code",
   "execution_count": 15,
   "id": "fantastic-effect",
   "metadata": {
    "execution": {
     "iopub.execute_input": "2022-09-27T12:22:22.275168Z",
     "iopub.status.busy": "2022-09-27T12:22:22.274383Z",
     "iopub.status.idle": "2022-09-27T12:22:22.298425Z",
     "shell.execute_reply": "2022-09-27T12:22:22.299242Z"
    },
    "papermill": {
     "duration": 0.076766,
     "end_time": "2022-09-27T12:22:22.299407",
     "exception": false,
     "start_time": "2022-09-27T12:22:22.222641",
     "status": "completed"
    },
    "tags": []
   },
   "outputs": [
    {
     "data": {
      "text/html": [
       "<div>\n",
       "<style scoped>\n",
       "    .dataframe tbody tr th:only-of-type {\n",
       "        vertical-align: middle;\n",
       "    }\n",
       "\n",
       "    .dataframe tbody tr th {\n",
       "        vertical-align: top;\n",
       "    }\n",
       "\n",
       "    .dataframe thead th {\n",
       "        text-align: right;\n",
       "    }\n",
       "</style>\n",
       "<table border=\"1\" class=\"dataframe\">\n",
       "  <thead>\n",
       "    <tr style=\"text-align: right;\">\n",
       "      <th></th>\n",
       "      <th>Country/Region</th>\n",
       "      <th>Cases</th>\n",
       "      <th>Deaths</th>\n",
       "      <th>PCases</th>\n",
       "      <th>PDeaths</th>\n",
       "      <th>Cases (+)</th>\n",
       "      <th>Deaths (+)</th>\n",
       "      <th>Fatality Rate</th>\n",
       "      <th>Continent</th>\n",
       "    </tr>\n",
       "  </thead>\n",
       "  <tbody>\n",
       "    <tr>\n",
       "      <th>0</th>\n",
       "      <td>US</td>\n",
       "      <td>96116204</td>\n",
       "      <td>1056789</td>\n",
       "      <td>96070980</td>\n",
       "      <td>1056416</td>\n",
       "      <td>45224</td>\n",
       "      <td>373</td>\n",
       "      <td>1.1</td>\n",
       "      <td>North America</td>\n",
       "    </tr>\n",
       "    <tr>\n",
       "      <th>1</th>\n",
       "      <td>India</td>\n",
       "      <td>44575473</td>\n",
       "      <td>528562</td>\n",
       "      <td>44572243</td>\n",
       "      <td>528530</td>\n",
       "      <td>3230</td>\n",
       "      <td>32</td>\n",
       "      <td>1.2</td>\n",
       "      <td>Asia</td>\n",
       "    </tr>\n",
       "    <tr>\n",
       "      <th>2</th>\n",
       "      <td>France</td>\n",
       "      <td>35381526</td>\n",
       "      <td>156000</td>\n",
       "      <td>35304648</td>\n",
       "      <td>155927</td>\n",
       "      <td>76878</td>\n",
       "      <td>73</td>\n",
       "      <td>0.4</td>\n",
       "      <td>Europe</td>\n",
       "    </tr>\n",
       "    <tr>\n",
       "      <th>3</th>\n",
       "      <td>Brazil</td>\n",
       "      <td>34638288</td>\n",
       "      <td>685835</td>\n",
       "      <td>34624427</td>\n",
       "      <td>685750</td>\n",
       "      <td>13861</td>\n",
       "      <td>85</td>\n",
       "      <td>2.0</td>\n",
       "      <td>South America</td>\n",
       "    </tr>\n",
       "    <tr>\n",
       "      <th>4</th>\n",
       "      <td>Germany</td>\n",
       "      <td>33041332</td>\n",
       "      <td>149576</td>\n",
       "      <td>32952050</td>\n",
       "      <td>149458</td>\n",
       "      <td>89282</td>\n",
       "      <td>118</td>\n",
       "      <td>0.5</td>\n",
       "      <td>Europe</td>\n",
       "    </tr>\n",
       "  </tbody>\n",
       "</table>\n",
       "</div>"
      ],
      "text/plain": [
       "  Country/Region     Cases   Deaths    PCases  PDeaths  Cases (+)  Deaths (+)  \\\n",
       "0             US  96116204  1056789  96070980  1056416      45224         373   \n",
       "1          India  44575473   528562  44572243   528530       3230          32   \n",
       "2         France  35381526   156000  35304648   155927      76878          73   \n",
       "3         Brazil  34638288   685835  34624427   685750      13861          85   \n",
       "4        Germany  33041332   149576  32952050   149458      89282         118   \n",
       "\n",
       "   Fatality Rate      Continent  \n",
       "0            1.1  North America  \n",
       "1            1.2           Asia  \n",
       "2            0.4         Europe  \n",
       "3            2.0  South America  \n",
       "4            0.5         Europe  "
      ]
     },
     "execution_count": 15,
     "metadata": {},
     "output_type": "execute_result"
    }
   ],
   "source": [
    "#hide\n",
    "df_table = (pd.DataFrame(dict(Cases=dfc_cases, Deaths=dfc_deaths, PCases=dfp_cases, PDeaths=dfp_deaths))\n",
    "             .sort_values(by=['Cases', 'Deaths'], ascending=[False, False])\n",
    "             .reset_index())\n",
    "df_table.rename(columns={'index': 'Country/Region'}, inplace=True)\n",
    "for c in 'Cases, Deaths'.split(', '):\n",
    "    df_table[f'{c} (+)'] = (df_table[c] - df_table[f'P{c}']).clip(0)  # DATA BUG\n",
    "df_table['Fatality Rate'] = (100 * df_table['Deaths'] / df_table['Cases']).round(1)\n",
    "df_table['Continent'] = df_table['Country/Region'].map(mapping['map.continent'])\n",
    "df_table.head(5)"
   ]
  },
  {
   "cell_type": "code",
   "execution_count": 16,
   "id": "fewer-occasion",
   "metadata": {
    "execution": {
     "iopub.execute_input": "2022-09-27T12:22:22.390524Z",
     "iopub.status.busy": "2022-09-27T12:22:22.389728Z",
     "iopub.status.idle": "2022-09-27T12:22:22.392787Z",
     "shell.execute_reply": "2022-09-27T12:22:22.393513Z"
    },
    "papermill": {
     "duration": 0.053286,
     "end_time": "2022-09-27T12:22:22.393713",
     "exception": false,
     "start_time": "2022-09-27T12:22:22.340427",
     "status": "completed"
    },
    "tags": []
   },
   "outputs": [],
   "source": [
    "#hide\n",
    "#delete problematic countries from table\n",
    "df_table = df_table[~df_table['Country/Region'].isin(['Cape Verde', 'Cruise Ship', 'Kosovo'])]"
   ]
  },
  {
   "cell_type": "code",
   "execution_count": 17,
   "id": "related-center",
   "metadata": {
    "execution": {
     "iopub.execute_input": "2022-09-27T12:22:22.500190Z",
     "iopub.status.busy": "2022-09-27T12:22:22.499361Z",
     "iopub.status.idle": "2022-09-27T12:22:22.502962Z",
     "shell.execute_reply": "2022-09-27T12:22:22.502278Z"
    },
    "papermill": {
     "duration": 0.069297,
     "end_time": "2022-09-27T12:22:22.503152",
     "exception": false,
     "start_time": "2022-09-27T12:22:22.433855",
     "status": "completed"
    },
    "tags": []
   },
   "outputs": [],
   "source": [
    "#hide\n",
    "metrics = [df_table.columns[index] for index in [1,2,5,6]]\n",
    "# s_china = df_table[df_table['Country/Region'].eq('China')][metrics].sum().add_prefix('China ')\n",
    "s_us = df_table[df_table['Country/Region'].eq('US')][metrics].sum().add_prefix('US ')\n",
    "s_eu = df_table[df_table['Continent'].eq('Europe')][metrics].sum().add_prefix('EU ')\n",
    "s_ind = df_table[df_table['Country/Region'].eq('India')][metrics].sum().add_prefix('India ')\n",
    "summary = {'updated': pd.to_datetime(dt_today), 'since': pd.to_datetime(dt_yday)}\n",
    "summary = {'updated': pd.to_datetime(dt_today), 'since': pd.to_datetime(dt_yday)}\n",
    "summary = {**summary, **df_table[metrics].sum(), **s_ind, **s_us, **s_eu}"
   ]
  },
  {
   "cell_type": "code",
   "execution_count": 18,
   "id": "engaging-syndrome",
   "metadata": {
    "execution": {
     "iopub.execute_input": "2022-09-27T12:22:22.593836Z",
     "iopub.status.busy": "2022-09-27T12:22:22.593093Z",
     "iopub.status.idle": "2022-09-27T12:22:22.625413Z",
     "shell.execute_reply": "2022-09-27T12:22:22.624620Z"
    },
    "papermill": {
     "duration": 0.079663,
     "end_time": "2022-09-27T12:22:22.625563",
     "exception": false,
     "start_time": "2022-09-27T12:22:22.545900",
     "status": "completed"
    },
    "tags": []
   },
   "outputs": [],
   "source": [
    "#hide\n",
    "dft_ct_new_cases = dft_cases.groupby(COL_REGION)[dt_cols].sum().diff(axis=1).fillna(0).astype(int)"
   ]
  },
  {
   "cell_type": "code",
   "execution_count": 19,
   "id": "neutral-assignment",
   "metadata": {
    "execution": {
     "iopub.execute_input": "2022-09-27T12:22:22.714802Z",
     "iopub.status.busy": "2022-09-27T12:22:22.713988Z",
     "iopub.status.idle": "2022-09-27T12:22:22.717742Z",
     "shell.execute_reply": "2022-09-27T12:22:22.716981Z"
    },
    "papermill": {
     "duration": 0.051934,
     "end_time": "2022-09-27T12:22:22.717875",
     "exception": false,
     "start_time": "2022-09-27T12:22:22.665941",
     "status": "completed"
    },
    "tags": []
   },
   "outputs": [],
   "source": [
    "#hide\n",
    "everydaycases = dft_ct_new_cases.cumsum(axis=1)"
   ]
  },
  {
   "cell_type": "code",
   "execution_count": 20,
   "id": "parliamentary-calgary",
   "metadata": {
    "execution": {
     "iopub.execute_input": "2022-09-27T12:22:22.804041Z",
     "iopub.status.busy": "2022-09-27T12:22:22.803297Z",
     "iopub.status.idle": "2022-09-27T12:22:23.482397Z",
     "shell.execute_reply": "2022-09-27T12:22:23.481482Z"
    },
    "papermill": {
     "duration": 0.723598,
     "end_time": "2022-09-27T12:22:23.482611",
     "exception": false,
     "start_time": "2022-09-27T12:22:22.759013",
     "status": "completed"
    },
    "tags": []
   },
   "outputs": [],
   "source": [
    "#hide\n",
    "import pandas as pd\n",
    "import matplotlib.pyplot as plt\n",
    "import matplotlib.ticker as ticker\n",
    "import matplotlib.animation as animation\n",
    "from IPython.display import HTML"
   ]
  },
  {
   "cell_type": "code",
   "execution_count": 21,
   "id": "lasting-extraction",
   "metadata": {
    "execution": {
     "iopub.execute_input": "2022-09-27T12:22:23.573701Z",
     "iopub.status.busy": "2022-09-27T12:22:23.572873Z",
     "iopub.status.idle": "2022-09-27T12:22:23.581462Z",
     "shell.execute_reply": "2022-09-27T12:22:23.580607Z"
    },
    "papermill": {
     "duration": 0.057336,
     "end_time": "2022-09-27T12:22:23.581705",
     "exception": false,
     "start_time": "2022-09-27T12:22:23.524369",
     "status": "completed"
    },
    "tags": []
   },
   "outputs": [],
   "source": [
    "#hide\n",
    "t = everydaycases.stack()"
   ]
  },
  {
   "cell_type": "code",
   "execution_count": 22,
   "id": "premier-sleeve",
   "metadata": {
    "execution": {
     "iopub.execute_input": "2022-09-27T12:22:23.677642Z",
     "iopub.status.busy": "2022-09-27T12:22:23.676917Z",
     "iopub.status.idle": "2022-09-27T12:22:23.693588Z",
     "shell.execute_reply": "2022-09-27T12:22:23.692759Z"
    },
    "papermill": {
     "duration": 0.066543,
     "end_time": "2022-09-27T12:22:23.693753",
     "exception": false,
     "start_time": "2022-09-27T12:22:23.627210",
     "status": "completed"
    },
    "tags": []
   },
   "outputs": [],
   "source": [
    "#hide\n",
    "g = t.reset_index(['Country/Region'])"
   ]
  },
  {
   "cell_type": "code",
   "execution_count": 23,
   "id": "distributed-pittsburgh",
   "metadata": {
    "execution": {
     "iopub.execute_input": "2022-09-27T12:22:23.785964Z",
     "iopub.status.busy": "2022-09-27T12:22:23.785098Z",
     "iopub.status.idle": "2022-09-27T12:22:23.788347Z",
     "shell.execute_reply": "2022-09-27T12:22:23.787582Z"
    },
    "papermill": {
     "duration": 0.050111,
     "end_time": "2022-09-27T12:22:23.788500",
     "exception": false,
     "start_time": "2022-09-27T12:22:23.738389",
     "status": "completed"
    },
    "tags": []
   },
   "outputs": [],
   "source": [
    "#hide\n",
    "g.index.name = 'date'"
   ]
  },
  {
   "cell_type": "code",
   "execution_count": 24,
   "id": "naked-donor",
   "metadata": {
    "execution": {
     "iopub.execute_input": "2022-09-27T12:22:23.880387Z",
     "iopub.status.busy": "2022-09-27T12:22:23.879608Z",
     "iopub.status.idle": "2022-09-27T12:22:23.884881Z",
     "shell.execute_reply": "2022-09-27T12:22:23.884214Z"
    },
    "papermill": {
     "duration": 0.052639,
     "end_time": "2022-09-27T12:22:23.885023",
     "exception": false,
     "start_time": "2022-09-27T12:22:23.832384",
     "status": "completed"
    },
    "tags": []
   },
   "outputs": [],
   "source": [
    "# #hide\n",
    "# g = g.reset_index(['date'])"
   ]
  },
  {
   "cell_type": "code",
   "execution_count": 25,
   "id": "incomplete-mustang",
   "metadata": {
    "execution": {
     "iopub.execute_input": "2022-09-27T12:22:23.976132Z",
     "iopub.status.busy": "2022-09-27T12:22:23.975304Z",
     "iopub.status.idle": "2022-09-27T12:22:23.978612Z",
     "shell.execute_reply": "2022-09-27T12:22:23.977830Z"
    },
    "papermill": {
     "duration": 0.050956,
     "end_time": "2022-09-27T12:22:23.978769",
     "exception": false,
     "start_time": "2022-09-27T12:22:23.927813",
     "status": "completed"
    },
    "tags": []
   },
   "outputs": [],
   "source": [
    "#hide\n",
    "# g.head()"
   ]
  },
  {
   "cell_type": "code",
   "execution_count": 26,
   "id": "specific-kruger",
   "metadata": {
    "execution": {
     "iopub.execute_input": "2022-09-27T12:22:24.068189Z",
     "iopub.status.busy": "2022-09-27T12:22:24.067349Z",
     "iopub.status.idle": "2022-09-27T12:22:24.069917Z",
     "shell.execute_reply": "2022-09-27T12:22:24.070513Z"
    },
    "papermill": {
     "duration": 0.04808,
     "end_time": "2022-09-27T12:22:24.070661",
     "exception": false,
     "start_time": "2022-09-27T12:22:24.022581",
     "status": "completed"
    },
    "tags": []
   },
   "outputs": [],
   "source": [
    "#hide\n",
    "# g.columns = ['date','country','cases']"
   ]
  },
  {
   "cell_type": "code",
   "execution_count": 27,
   "id": "tender-conversion",
   "metadata": {
    "execution": {
     "iopub.execute_input": "2022-09-27T12:22:24.157875Z",
     "iopub.status.busy": "2022-09-27T12:22:24.156725Z",
     "iopub.status.idle": "2022-09-27T12:22:24.160998Z",
     "shell.execute_reply": "2022-09-27T12:22:24.160192Z"
    },
    "papermill": {
     "duration": 0.04932,
     "end_time": "2022-09-27T12:22:24.161159",
     "exception": false,
     "start_time": "2022-09-27T12:22:24.111839",
     "status": "completed"
    },
    "tags": []
   },
   "outputs": [],
   "source": [
    "#hide\n",
    "# g['continent'] = g.country"
   ]
  },
  {
   "cell_type": "code",
   "execution_count": 28,
   "id": "substantial-wilderness",
   "metadata": {
    "execution": {
     "iopub.execute_input": "2022-09-27T12:22:24.249846Z",
     "iopub.status.busy": "2022-09-27T12:22:24.249046Z",
     "iopub.status.idle": "2022-09-27T12:22:24.252278Z",
     "shell.execute_reply": "2022-09-27T12:22:24.251688Z"
    },
    "papermill": {
     "duration": 0.049812,
     "end_time": "2022-09-27T12:22:24.252407",
     "exception": false,
     "start_time": "2022-09-27T12:22:24.202595",
     "status": "completed"
    },
    "tags": []
   },
   "outputs": [],
   "source": [
    "#hide\n",
    "# cols = list(g.columns.values)"
   ]
  },
  {
   "cell_type": "code",
   "execution_count": 29,
   "id": "solved-farming",
   "metadata": {
    "execution": {
     "iopub.execute_input": "2022-09-27T12:22:24.340084Z",
     "iopub.status.busy": "2022-09-27T12:22:24.339328Z",
     "iopub.status.idle": "2022-09-27T12:22:24.343165Z",
     "shell.execute_reply": "2022-09-27T12:22:24.342330Z"
    },
    "papermill": {
     "duration": 0.050682,
     "end_time": "2022-09-27T12:22:24.343318",
     "exception": false,
     "start_time": "2022-09-27T12:22:24.292636",
     "status": "completed"
    },
    "tags": []
   },
   "outputs": [],
   "source": [
    "#hide\n",
    "# cols.insert(0, cols.pop())"
   ]
  },
  {
   "cell_type": "code",
   "execution_count": 30,
   "id": "executed-adoption",
   "metadata": {
    "execution": {
     "iopub.execute_input": "2022-09-27T12:22:24.432791Z",
     "iopub.status.busy": "2022-09-27T12:22:24.432029Z",
     "iopub.status.idle": "2022-09-27T12:22:24.436955Z",
     "shell.execute_reply": "2022-09-27T12:22:24.436260Z"
    },
    "papermill": {
     "duration": 0.051585,
     "end_time": "2022-09-27T12:22:24.437094",
     "exception": false,
     "start_time": "2022-09-27T12:22:24.385509",
     "status": "completed"
    },
    "tags": []
   },
   "outputs": [],
   "source": [
    "#hide\n",
    "# g = g[cols]"
   ]
  },
  {
   "cell_type": "code",
   "execution_count": 31,
   "id": "subject-dublin",
   "metadata": {
    "execution": {
     "iopub.execute_input": "2022-09-27T12:22:24.527514Z",
     "iopub.status.busy": "2022-09-27T12:22:24.526627Z",
     "iopub.status.idle": "2022-09-27T12:22:24.530092Z",
     "shell.execute_reply": "2022-09-27T12:22:24.529185Z"
    },
    "papermill": {
     "duration": 0.050051,
     "end_time": "2022-09-27T12:22:24.530222",
     "exception": false,
     "start_time": "2022-09-27T12:22:24.480171",
     "status": "completed"
    },
    "tags": []
   },
   "outputs": [],
   "source": [
    "#hide\n",
    "# g['continent'] = g['continent'].map(mapping['map.continent'])"
   ]
  },
  {
   "cell_type": "code",
   "execution_count": 32,
   "id": "freelance-scout",
   "metadata": {
    "execution": {
     "iopub.execute_input": "2022-09-27T12:22:24.622656Z",
     "iopub.status.busy": "2022-09-27T12:22:24.621731Z",
     "iopub.status.idle": "2022-09-27T12:22:24.624028Z",
     "shell.execute_reply": "2022-09-27T12:22:24.623403Z"
    },
    "papermill": {
     "duration": 0.051838,
     "end_time": "2022-09-27T12:22:24.624235",
     "exception": false,
     "start_time": "2022-09-27T12:22:24.572397",
     "status": "completed"
    },
    "tags": []
   },
   "outputs": [],
   "source": [
    "#hide\n",
    "# g.head()"
   ]
  },
  {
   "cell_type": "code",
   "execution_count": 33,
   "id": "limited-engine",
   "metadata": {
    "execution": {
     "iopub.execute_input": "2022-09-27T12:22:24.713588Z",
     "iopub.status.busy": "2022-09-27T12:22:24.712794Z",
     "iopub.status.idle": "2022-09-27T12:22:24.715627Z",
     "shell.execute_reply": "2022-09-27T12:22:24.716198Z"
    },
    "papermill": {
     "duration": 0.049493,
     "end_time": "2022-09-27T12:22:24.716397",
     "exception": false,
     "start_time": "2022-09-27T12:22:24.666904",
     "status": "completed"
    },
    "tags": []
   },
   "outputs": [],
   "source": [
    "# hide\n",
    "# g['date'] = g['date'].astype('datetime64[ns]')"
   ]
  },
  {
   "cell_type": "code",
   "execution_count": 34,
   "id": "sophisticated-supervisor",
   "metadata": {
    "execution": {
     "iopub.execute_input": "2022-09-27T12:22:24.807575Z",
     "iopub.status.busy": "2022-09-27T12:22:24.806708Z",
     "iopub.status.idle": "2022-09-27T12:22:24.809836Z",
     "shell.execute_reply": "2022-09-27T12:22:24.809031Z"
    },
    "papermill": {
     "duration": 0.051092,
     "end_time": "2022-09-27T12:22:24.809968",
     "exception": false,
     "start_time": "2022-09-27T12:22:24.758876",
     "status": "completed"
    },
    "tags": []
   },
   "outputs": [],
   "source": [
    "#hide\n",
    "# g['date'] = g.date.dt.dayofyear"
   ]
  },
  {
   "cell_type": "code",
   "execution_count": 35,
   "id": "inside-dubai",
   "metadata": {
    "execution": {
     "iopub.execute_input": "2022-09-27T12:22:24.899745Z",
     "iopub.status.busy": "2022-09-27T12:22:24.899023Z",
     "iopub.status.idle": "2022-09-27T12:22:24.900540Z",
     "shell.execute_reply": "2022-09-27T12:22:24.901246Z"
    },
    "papermill": {
     "duration": 0.050251,
     "end_time": "2022-09-27T12:22:24.901407",
     "exception": false,
     "start_time": "2022-09-27T12:22:24.851156",
     "status": "completed"
    },
    "tags": []
   },
   "outputs": [],
   "source": [
    "#hide\n",
    "# g = g.rename(columns= {'continent':'group','country':'name','cases':'value'})"
   ]
  },
  {
   "cell_type": "code",
   "execution_count": 36,
   "id": "fleet-motorcycle",
   "metadata": {
    "execution": {
     "iopub.execute_input": "2022-09-27T12:22:24.985201Z",
     "iopub.status.busy": "2022-09-27T12:22:24.984357Z",
     "iopub.status.idle": "2022-09-27T12:22:24.988822Z",
     "shell.execute_reply": "2022-09-27T12:22:24.988171Z"
    },
    "papermill": {
     "duration": 0.047452,
     "end_time": "2022-09-27T12:22:24.988986",
     "exception": false,
     "start_time": "2022-09-27T12:22:24.941534",
     "status": "completed"
    },
    "tags": []
   },
   "outputs": [],
   "source": [
    "#hide\n",
    "# cols = ['name','group','day','value']"
   ]
  },
  {
   "cell_type": "code",
   "execution_count": 37,
   "id": "continued-sleeping",
   "metadata": {
    "execution": {
     "iopub.execute_input": "2022-09-27T12:22:25.079057Z",
     "iopub.status.busy": "2022-09-27T12:22:25.078305Z",
     "iopub.status.idle": "2022-09-27T12:22:25.080949Z",
     "shell.execute_reply": "2022-09-27T12:22:25.081638Z"
    },
    "papermill": {
     "duration": 0.052278,
     "end_time": "2022-09-27T12:22:25.081787",
     "exception": false,
     "start_time": "2022-09-27T12:22:25.029509",
     "status": "completed"
    },
    "tags": []
   },
   "outputs": [],
   "source": [
    "#hide\n",
    "# g.rename(columns= {'date':'day'},inplace = True)"
   ]
  },
  {
   "cell_type": "code",
   "execution_count": 38,
   "id": "major-fight",
   "metadata": {
    "execution": {
     "iopub.execute_input": "2022-09-27T12:22:25.167732Z",
     "iopub.status.busy": "2022-09-27T12:22:25.166994Z",
     "iopub.status.idle": "2022-09-27T12:22:25.170121Z",
     "shell.execute_reply": "2022-09-27T12:22:25.169526Z"
    },
    "papermill": {
     "duration": 0.048207,
     "end_time": "2022-09-27T12:22:25.170254",
     "exception": false,
     "start_time": "2022-09-27T12:22:25.122047",
     "status": "completed"
    },
    "tags": []
   },
   "outputs": [],
   "source": [
    "#hide\n",
    "# g = g[cols]"
   ]
  },
  {
   "cell_type": "code",
   "execution_count": 39,
   "id": "structured-mobile",
   "metadata": {
    "execution": {
     "iopub.execute_input": "2022-09-27T12:22:25.263532Z",
     "iopub.status.busy": "2022-09-27T12:22:25.262690Z",
     "iopub.status.idle": "2022-09-27T12:22:25.266080Z",
     "shell.execute_reply": "2022-09-27T12:22:25.265332Z"
    },
    "papermill": {
     "duration": 0.055469,
     "end_time": "2022-09-27T12:22:25.266234",
     "exception": false,
     "start_time": "2022-09-27T12:22:25.210765",
     "status": "completed"
    },
    "tags": []
   },
   "outputs": [],
   "source": [
    "# #hide\n",
    "# g = g[g.group.notna()]"
   ]
  },
  {
   "cell_type": "code",
   "execution_count": 40,
   "id": "determined-closing",
   "metadata": {
    "execution": {
     "iopub.execute_input": "2022-09-27T12:22:25.352950Z",
     "iopub.status.busy": "2022-09-27T12:22:25.352140Z",
     "iopub.status.idle": "2022-09-27T12:22:25.355213Z",
     "shell.execute_reply": "2022-09-27T12:22:25.354465Z"
    },
    "papermill": {
     "duration": 0.049056,
     "end_time": "2022-09-27T12:22:25.355352",
     "exception": false,
     "start_time": "2022-09-27T12:22:25.306296",
     "status": "completed"
    },
    "tags": []
   },
   "outputs": [],
   "source": [
    "# #hide\n",
    "# colors = dict(zip(\n",
    "#     [\"Oceania\", \"Europe\", \"Asia\", \"South America\", \"Middle East\", \"North America\", \"Africa\"],\n",
    "#     [\"#adb0ff\", \"#ffb3ff\", \"#90d595\", \"#e48381\", \"#aafbff\", \"#f7bb5f\", \"#eafb50\"]\n",
    "# ))\n",
    "# group_lk = g.set_index('name')['group'].to_dict()"
   ]
  },
  {
   "cell_type": "code",
   "execution_count": null,
   "id": "gross-drinking",
   "metadata": {
    "papermill": {
     "duration": 0.043753,
     "end_time": "2022-09-27T12:22:25.442860",
     "exception": false,
     "start_time": "2022-09-27T12:22:25.399107",
     "status": "completed"
    },
    "tags": []
   },
   "outputs": [],
   "source": []
  },
  {
   "cell_type": "code",
   "execution_count": 41,
   "id": "subject-macintosh",
   "metadata": {
    "execution": {
     "iopub.execute_input": "2022-09-27T12:22:25.532379Z",
     "iopub.status.busy": "2022-09-27T12:22:25.531512Z",
     "iopub.status.idle": "2022-09-27T12:22:25.534307Z",
     "shell.execute_reply": "2022-09-27T12:22:25.535226Z"
    },
    "papermill": {
     "duration": 0.049728,
     "end_time": "2022-09-27T12:22:25.535378",
     "exception": false,
     "start_time": "2022-09-27T12:22:25.485650",
     "status": "completed"
    },
    "tags": []
   },
   "outputs": [],
   "source": [
    "# #hide\n",
    "# fig, ax = plt.subplots(figsize=(15, 8))\n",
    "\n",
    "# def draw_barchart(current_day):\n",
    "#     dff = g[g['day'].eq(current_day)].sort_values(by='value', ascending=True).tail(10)\n",
    "#     ax.clear()\n",
    "#     ax.barh(dff['name'], dff['value'], color=[colors[group_lk[x]] for x in dff['name']])\n",
    "#     dx = dff['value'].max() / 200\n",
    "    \n",
    "#     for i, (value, name) in enumerate(zip(dff['value'], dff['name'])):\n",
    "#         ax.text(value-dx, i,     name,           size=14, weight=600, ha='right', va='bottom')\n",
    "#         ax.text(value-dx, i-.25, group_lk[name], size=10, color='#444444', ha='right', va='baseline')\n",
    "#         ax.text(value+dx, i,     f'{value:,.0f}',  size=14, ha='left',  va='center')\n",
    "#     ax.text(1, 0.4, current_day, transform=ax.transAxes, color='#777777', size=46, ha='right', weight=800)\n",
    "#     ax.text(0, 1.06, 'Population (thousands)', transform=ax.transAxes, size=12, color='#777777')\n",
    "#     ax.xaxis.set_major_formatter(ticker.StrMethodFormatter('{x:,.0f}'))\n",
    "#     ax.xaxis.set_ticks_position('top')\n",
    "#     ax.tick_params(axis='x', colors='#777777', labelsize=12)\n",
    "#     ax.set_yticks([])\n",
    "#     ax.margins(0, 0.01)\n",
    "#     ax.grid(which='major', axis='x', linestyle='-')\n",
    "#     ax.set_axisbelow(True)\n",
    "    \n",
    "#     ax.text(0, 1.15, 'Coronavirus',\n",
    "#             transform=ax.transAxes, size=24, weight=600, ha='left', va='top')\n",
    "# #     ax.text(1, 0, 'by @pratapvardhan; credit @jburnmurdoch', transform=ax.transAxes, color='#777777', ha='right',\n",
    "# #             bbox=dict(facecolor='white', alpha=0.8, edgecolor='white'))\n",
    "#     plt.box(False)"
   ]
  },
  {
   "cell_type": "code",
   "execution_count": 42,
   "id": "sexual-wages",
   "metadata": {
    "execution": {
     "iopub.execute_input": "2022-09-27T12:22:25.626077Z",
     "iopub.status.busy": "2022-09-27T12:22:25.625211Z",
     "iopub.status.idle": "2022-09-27T12:22:25.628377Z",
     "shell.execute_reply": "2022-09-27T12:22:25.627766Z"
    },
    "papermill": {
     "duration": 0.050454,
     "end_time": "2022-09-27T12:22:25.628514",
     "exception": false,
     "start_time": "2022-09-27T12:22:25.578060",
     "status": "completed"
    },
    "tags": []
   },
   "outputs": [],
   "source": [
    "# #hide_input\n",
    "# fig, ax = plt.subplots(figsize=(15, 8))\n",
    "# animator = animation.FuncAnimation(fig, draw_barchart, frames=range(g.day.values.min(), g.day.values.max()))\n",
    "# HTML(animator.to_jshtml())\n",
    "# # or use animator.to_html5_video() or animator.save() "
   ]
  },
  {
   "cell_type": "code",
   "execution_count": null,
   "id": "australian-container",
   "metadata": {
    "papermill": {
     "duration": 0.041643,
     "end_time": "2022-09-27T12:22:25.710541",
     "exception": false,
     "start_time": "2022-09-27T12:22:25.668898",
     "status": "completed"
    },
    "tags": []
   },
   "outputs": [],
   "source": []
  },
  {
   "cell_type": "code",
   "execution_count": null,
   "id": "mediterranean-pontiac",
   "metadata": {
    "papermill": {
     "duration": 0.040879,
     "end_time": "2022-09-27T12:22:25.793046",
     "exception": false,
     "start_time": "2022-09-27T12:22:25.752167",
     "status": "completed"
    },
    "tags": []
   },
   "outputs": [],
   "source": []
  },
  {
   "cell_type": "code",
   "execution_count": null,
   "id": "aging-legislature",
   "metadata": {
    "papermill": {
     "duration": 0.04738,
     "end_time": "2022-09-27T12:22:25.881978",
     "exception": false,
     "start_time": "2022-09-27T12:22:25.834598",
     "status": "completed"
    },
    "tags": []
   },
   "outputs": [],
   "source": []
  }
 ],
 "metadata": {
  "kernelspec": {
   "display_name": "Python 3",
   "language": "python",
   "name": "python3"
  },
  "language_info": {
   "codemirror_mode": {
    "name": "ipython",
    "version": 3
   },
   "file_extension": ".py",
   "mimetype": "text/x-python",
   "name": "python",
   "nbconvert_exporter": "python",
   "pygments_lexer": "ipython3",
   "version": "3.6.15"
  },
  "papermill": {
   "duration": 7.880923,
   "end_time": "2022-09-27T12:22:26.348268",
   "environment_variables": {},
   "exception": null,
   "input_path": "2020-03-21-covid19exp.ipynb",
   "output_path": "2020-03-21-covid19exp.ipynb",
   "parameters": {},
   "start_time": "2022-09-27T12:22:18.467345",
   "version": "2.0.0"
  }
 },
 "nbformat": 4,
 "nbformat_minor": 5
}