{
 "cells": [
  {
   "cell_type": "markdown",
   "metadata": {
    "papermill": {
     "duration": 0.038618,
     "end_time": "2020-11-22T12:06:42.521067",
     "exception": false,
     "start_time": "2020-11-22T12:06:42.482449",
     "status": "completed"
    },
    "tags": []
   },
   "source": [
    "# COVID-19 Case Race\n",
    "> A race chart to see rising cases around the world\n",
    "\n",
    "- author: Hargun Oberoi\n",
    "- image: images/covid-overview.png\n",
    "- hide: false\n",
    "- badges: false"
   ]
  },
  {
   "cell_type": "code",
   "execution_count": 1,
   "metadata": {
    "execution": {
     "iopub.execute_input": "2020-11-22T12:06:42.594952Z",
     "iopub.status.busy": "2020-11-22T12:06:42.594235Z",
     "iopub.status.idle": "2020-11-22T12:06:42.974184Z",
     "shell.execute_reply": "2020-11-22T12:06:42.973505Z"
    },
    "papermill": {
     "duration": 0.417983,
     "end_time": "2020-11-22T12:06:42.974382",
     "exception": false,
     "start_time": "2020-11-22T12:06:42.556399",
     "status": "completed"
    },
    "tags": []
   },
   "outputs": [],
   "source": [
    "#hide\n",
    "import numpy as np\n",
    "import pandas as pd\n",
    "from jinja2 import Template\n",
    "from IPython.display import HTML"
   ]
  },
  {
   "cell_type": "code",
   "execution_count": 2,
   "metadata": {
    "execution": {
     "iopub.execute_input": "2020-11-22T12:06:43.052793Z",
     "iopub.status.busy": "2020-11-22T12:06:43.052066Z",
     "iopub.status.idle": "2020-11-22T12:06:43.053905Z",
     "shell.execute_reply": "2020-11-22T12:06:43.054589Z"
    },
    "papermill": {
     "duration": 0.042843,
     "end_time": "2020-11-22T12:06:43.054771",
     "exception": false,
     "start_time": "2020-11-22T12:06:43.011928",
     "status": "completed"
    },
    "tags": []
   },
   "outputs": [],
   "source": [
    "#hide\n",
    "\n",
    "# FETCH\n",
    "base_url = 'https://raw.githubusercontent.com/pratapvardhan/notebooks/master/covid19/'\n",
    "paths = {\n",
    "    'mapping': base_url + 'mapping_countries.csv',\n",
    "    'overview': base_url + 'overview.tpl'\n",
    "}"
   ]
  },
  {
   "cell_type": "code",
   "execution_count": 3,
   "metadata": {
    "execution": {
     "iopub.execute_input": "2020-11-22T12:06:43.135668Z",
     "iopub.status.busy": "2020-11-22T12:06:43.134954Z",
     "iopub.status.idle": "2020-11-22T12:06:43.137636Z",
     "shell.execute_reply": "2020-11-22T12:06:43.138349Z"
    },
    "papermill": {
     "duration": 0.048568,
     "end_time": "2020-11-22T12:06:43.138536",
     "exception": false,
     "start_time": "2020-11-22T12:06:43.089968",
     "status": "completed"
    },
    "tags": []
   },
   "outputs": [
    {
     "data": {
      "text/plain": [
       "'https://raw.githubusercontent.com/pratapvardhan/notebooks/master/covid19/mapping_countries.csv'"
      ]
     },
     "execution_count": 3,
     "metadata": {},
     "output_type": "execute_result"
    }
   ],
   "source": [
    "#hide\n",
    "paths['mapping']"
   ]
  },
  {
   "cell_type": "code",
   "execution_count": 4,
   "metadata": {
    "execution": {
     "iopub.execute_input": "2020-11-22T12:06:43.212730Z",
     "iopub.status.busy": "2020-11-22T12:06:43.212030Z",
     "iopub.status.idle": "2020-11-22T12:06:43.214091Z",
     "shell.execute_reply": "2020-11-22T12:06:43.214624Z"
    },
    "papermill": {
     "duration": 0.042807,
     "end_time": "2020-11-22T12:06:43.214809",
     "exception": false,
     "start_time": "2020-11-22T12:06:43.172002",
     "status": "completed"
    },
    "tags": []
   },
   "outputs": [],
   "source": [
    "#hide\n",
    "def get_mappings(url):\n",
    "    df = pd.read_csv(url)\n",
    "    return {\n",
    "        'df': df,\n",
    "        'replace.country': dict(df.dropna(subset=['Name']).set_index('Country')['Name']),\n",
    "        'map.continent': dict(df.set_index('Name')['Continent'])\n",
    "    }"
   ]
  },
  {
   "cell_type": "code",
   "execution_count": 5,
   "metadata": {
    "execution": {
     "iopub.execute_input": "2020-11-22T12:06:43.288367Z",
     "iopub.status.busy": "2020-11-22T12:06:43.287656Z",
     "iopub.status.idle": "2020-11-22T12:06:43.332706Z",
     "shell.execute_reply": "2020-11-22T12:06:43.332079Z"
    },
    "papermill": {
     "duration": 0.084462,
     "end_time": "2020-11-22T12:06:43.332874",
     "exception": false,
     "start_time": "2020-11-22T12:06:43.248412",
     "status": "completed"
    },
    "tags": []
   },
   "outputs": [],
   "source": [
    "#hide\n",
    "mapping = get_mappings(paths['mapping'])"
   ]
  },
  {
   "cell_type": "code",
   "execution_count": 6,
   "metadata": {
    "execution": {
     "iopub.execute_input": "2020-11-22T12:06:43.407410Z",
     "iopub.status.busy": "2020-11-22T12:06:43.406707Z",
     "iopub.status.idle": "2020-11-22T12:06:43.408606Z",
     "shell.execute_reply": "2020-11-22T12:06:43.409256Z"
    },
    "papermill": {
     "duration": 0.043088,
     "end_time": "2020-11-22T12:06:43.409439",
     "exception": false,
     "start_time": "2020-11-22T12:06:43.366351",
     "status": "completed"
    },
    "tags": []
   },
   "outputs": [],
   "source": [
    "#hide\n",
    "def get_template(path):\n",
    "    from urllib.parse import urlparse\n",
    "    if bool(urlparse(path).netloc):\n",
    "        from urllib.request import urlopen\n",
    "        return urlopen(path).read().decode('utf8')\n",
    "    return open(path).read()"
   ]
  },
  {
   "cell_type": "code",
   "execution_count": 7,
   "metadata": {
    "execution": {
     "iopub.execute_input": "2020-11-22T12:06:43.482634Z",
     "iopub.status.busy": "2020-11-22T12:06:43.481941Z",
     "iopub.status.idle": "2020-11-22T12:06:43.483943Z",
     "shell.execute_reply": "2020-11-22T12:06:43.484464Z"
    },
    "papermill": {
     "duration": 0.042053,
     "end_time": "2020-11-22T12:06:43.484647",
     "exception": false,
     "start_time": "2020-11-22T12:06:43.442594",
     "status": "completed"
    },
    "tags": []
   },
   "outputs": [],
   "source": [
    "#hide\n",
    "def get_frame(name):\n",
    "    url = (\n",
    "        'https://raw.githubusercontent.com/CSSEGISandData/COVID-19/master/csse_covid_19_data/'\n",
    "        f'csse_covid_19_time_series/time_series_covid19_{name}_global.csv')\n",
    "    df = pd.read_csv(url)\n",
    "    # rename countries\n",
    "    df['Country/Region'] = df['Country/Region'].replace(mapping['replace.country'])\n",
    "    return df"
   ]
  },
  {
   "cell_type": "code",
   "execution_count": 8,
   "metadata": {
    "execution": {
     "iopub.execute_input": "2020-11-22T12:06:43.561175Z",
     "iopub.status.busy": "2020-11-22T12:06:43.560482Z",
     "iopub.status.idle": "2020-11-22T12:06:43.562515Z",
     "shell.execute_reply": "2020-11-22T12:06:43.563037Z"
    },
    "papermill": {
     "duration": 0.044823,
     "end_time": "2020-11-22T12:06:43.563217",
     "exception": false,
     "start_time": "2020-11-22T12:06:43.518394",
     "status": "completed"
    },
    "tags": []
   },
   "outputs": [],
   "source": [
    "#hide\n",
    "def get_dates(df):\n",
    "    dt_cols = df.columns[~df.columns.isin(['Province/State', 'Country/Region', 'Lat', 'Long'])]\n",
    "    LAST_DATE_I = -1\n",
    "    # sometimes last column may be empty, then go backwards\n",
    "    for i in range(-1, -len(dt_cols), -1):\n",
    "        if not df[dt_cols[i]].fillna(0).eq(0).all():\n",
    "            LAST_DATE_I = i\n",
    "            break\n",
    "    return LAST_DATE_I, dt_cols"
   ]
  },
  {
   "cell_type": "code",
   "execution_count": 9,
   "metadata": {
    "execution": {
     "iopub.execute_input": "2020-11-22T12:06:43.639871Z",
     "iopub.status.busy": "2020-11-22T12:06:43.639160Z",
     "iopub.status.idle": "2020-11-22T12:06:43.948136Z",
     "shell.execute_reply": "2020-11-22T12:06:43.947541Z"
    },
    "papermill": {
     "duration": 0.350479,
     "end_time": "2020-11-22T12:06:43.948308",
     "exception": false,
     "start_time": "2020-11-22T12:06:43.597829",
     "status": "completed"
    },
    "tags": []
   },
   "outputs": [],
   "source": [
    "#hide\n",
    "COL_REGION = 'Country/Region'\n",
    "# Confirmed, Recovered, Deaths\n",
    "df = get_frame('confirmed')\n",
    "# dft_: timeseries, dfc_: today country agg\n",
    "dft_cases = df\n",
    "dft_deaths = get_frame('deaths')\n",
    "dft_recovered = get_frame('recovered')\n",
    "LAST_DATE_I, dt_cols = get_dates(df)"
   ]
  },
  {
   "cell_type": "code",
   "execution_count": 10,
   "metadata": {
    "execution": {
     "iopub.execute_input": "2020-11-22T12:06:44.027938Z",
     "iopub.status.busy": "2020-11-22T12:06:44.027205Z",
     "iopub.status.idle": "2020-11-22T12:06:44.028907Z",
     "shell.execute_reply": "2020-11-22T12:06:44.029623Z"
    },
    "papermill": {
     "duration": 0.047442,
     "end_time": "2020-11-22T12:06:44.029822",
     "exception": false,
     "start_time": "2020-11-22T12:06:43.982380",
     "status": "completed"
    },
    "tags": []
   },
   "outputs": [],
   "source": [
    "#hide\n",
    "LAST_DATE_I, dt_cols = get_dates(df)\n",
    "dt_today =dt_cols[LAST_DATE_I]\n",
    "# dt_5day = dt_cols[LAST_DATE_I - 5]\n",
    "dt_yday = dt_cols[LAST_DATE_I - 1]"
   ]
  },
  {
   "cell_type": "code",
   "execution_count": 11,
   "metadata": {
    "execution": {
     "iopub.execute_input": "2020-11-22T12:06:44.108862Z",
     "iopub.status.busy": "2020-11-22T12:06:44.108131Z",
     "iopub.status.idle": "2020-11-22T12:06:44.117840Z",
     "shell.execute_reply": "2020-11-22T12:06:44.117228Z"
    },
    "papermill": {
     "duration": 0.054706,
     "end_time": "2020-11-22T12:06:44.118051",
     "exception": false,
     "start_time": "2020-11-22T12:06:44.063345",
     "status": "completed"
    },
    "tags": []
   },
   "outputs": [],
   "source": [
    "#hide\n",
    "dfc_cases = dft_cases.groupby(COL_REGION)[dt_today].sum()\n",
    "dfc_deaths = dft_deaths.groupby(COL_REGION)[dt_today].sum()\n",
    "# dfp_cases = dft_cases.groupby(COL_REGION)[dt_5day].sum()\n",
    "# dfp_deaths = dft_deaths.groupby(COL_REGION)[dt_5day].sum()\n",
    "dfp_cases = dft_cases.groupby(COL_REGION)[dt_yday].sum()\n",
    "dfp_deaths = dft_deaths.groupby(COL_REGION)[dt_yday].sum()"
   ]
  },
  {
   "cell_type": "code",
   "execution_count": 12,
   "metadata": {
    "execution": {
     "iopub.execute_input": "2020-11-22T12:06:44.195644Z",
     "iopub.status.busy": "2020-11-22T12:06:44.194947Z",
     "iopub.status.idle": "2020-11-22T12:06:44.199895Z",
     "shell.execute_reply": "2020-11-22T12:06:44.200429Z"
    },
    "papermill": {
     "duration": 0.046543,
     "end_time": "2020-11-22T12:06:44.200610",
     "exception": false,
     "start_time": "2020-11-22T12:06:44.154067",
     "status": "completed"
    },
    "tags": []
   },
   "outputs": [],
   "source": [
    "#hide\n",
    "df_table = (pd.DataFrame(dict(Cases = dfc_cases, Deaths = dfc_deaths, PCases = dfp_cases, PDeaths = dfp_deaths))\n",
    "            .sort_values(by = ['Cases','Deaths'], ascending = [False, False])\n",
    "            .reset_index())"
   ]
  },
  {
   "cell_type": "code",
   "execution_count": 13,
   "metadata": {
    "execution": {
     "iopub.execute_input": "2020-11-22T12:06:44.297935Z",
     "iopub.status.busy": "2020-11-22T12:06:44.292860Z",
     "iopub.status.idle": "2020-11-22T12:06:44.301334Z",
     "shell.execute_reply": "2020-11-22T12:06:44.301900Z"
    },
    "papermill": {
     "duration": 0.067983,
     "end_time": "2020-11-22T12:06:44.302094",
     "exception": false,
     "start_time": "2020-11-22T12:06:44.234111",
     "status": "completed"
    },
    "tags": []
   },
   "outputs": [
    {
     "data": {
      "text/html": [
       "<div>\n",
       "<style scoped>\n",
       "    .dataframe tbody tr th:only-of-type {\n",
       "        vertical-align: middle;\n",
       "    }\n",
       "\n",
       "    .dataframe tbody tr th {\n",
       "        vertical-align: top;\n",
       "    }\n",
       "\n",
       "    .dataframe thead th {\n",
       "        text-align: right;\n",
       "    }\n",
       "</style>\n",
       "<table border=\"1\" class=\"dataframe\">\n",
       "  <thead>\n",
       "    <tr style=\"text-align: right;\">\n",
       "      <th></th>\n",
       "      <th>Country/Region</th>\n",
       "      <th>Cases</th>\n",
       "      <th>Deaths</th>\n",
       "      <th>PCases</th>\n",
       "      <th>PDeaths</th>\n",
       "      <th>Cases (+)</th>\n",
       "      <th>Deaths (+)</th>\n",
       "      <th>Fatality Rate</th>\n",
       "      <th>Continent</th>\n",
       "    </tr>\n",
       "  </thead>\n",
       "  <tbody>\n",
       "    <tr>\n",
       "      <th>0</th>\n",
       "      <td>US</td>\n",
       "      <td>12088410</td>\n",
       "      <td>255861</td>\n",
       "      <td>11910858</td>\n",
       "      <td>254413</td>\n",
       "      <td>177552</td>\n",
       "      <td>1448</td>\n",
       "      <td>2.12</td>\n",
       "      <td>North America</td>\n",
       "    </tr>\n",
       "    <tr>\n",
       "      <th>1</th>\n",
       "      <td>India</td>\n",
       "      <td>9095806</td>\n",
       "      <td>133227</td>\n",
       "      <td>9050597</td>\n",
       "      <td>132726</td>\n",
       "      <td>45209</td>\n",
       "      <td>501</td>\n",
       "      <td>1.46</td>\n",
       "      <td>Asia</td>\n",
       "    </tr>\n",
       "    <tr>\n",
       "      <th>2</th>\n",
       "      <td>Brazil</td>\n",
       "      <td>6052786</td>\n",
       "      <td>168989</td>\n",
       "      <td>6020164</td>\n",
       "      <td>168613</td>\n",
       "      <td>32622</td>\n",
       "      <td>376</td>\n",
       "      <td>2.79</td>\n",
       "      <td>South America</td>\n",
       "    </tr>\n",
       "    <tr>\n",
       "      <th>3</th>\n",
       "      <td>France</td>\n",
       "      <td>2178023</td>\n",
       "      <td>48593</td>\n",
       "      <td>2160343</td>\n",
       "      <td>48341</td>\n",
       "      <td>17680</td>\n",
       "      <td>252</td>\n",
       "      <td>2.23</td>\n",
       "      <td>Europe</td>\n",
       "    </tr>\n",
       "    <tr>\n",
       "      <th>4</th>\n",
       "      <td>Russia</td>\n",
       "      <td>2047563</td>\n",
       "      <td>35442</td>\n",
       "      <td>2023025</td>\n",
       "      <td>34980</td>\n",
       "      <td>24538</td>\n",
       "      <td>462</td>\n",
       "      <td>1.73</td>\n",
       "      <td>Europe</td>\n",
       "    </tr>\n",
       "  </tbody>\n",
       "</table>\n",
       "</div>"
      ],
      "text/plain": [
       "  Country/Region     Cases  Deaths    PCases  PDeaths  Cases (+)  Deaths (+)  \\\n",
       "0             US  12088410  255861  11910858   254413     177552        1448   \n",
       "1          India   9095806  133227   9050597   132726      45209         501   \n",
       "2         Brazil   6052786  168989   6020164   168613      32622         376   \n",
       "3         France   2178023   48593   2160343    48341      17680         252   \n",
       "4         Russia   2047563   35442   2023025    34980      24538         462   \n",
       "\n",
       "   Fatality Rate      Continent  \n",
       "0           2.12  North America  \n",
       "1           1.46           Asia  \n",
       "2           2.79  South America  \n",
       "3           2.23         Europe  \n",
       "4           1.73         Europe  "
      ]
     },
     "execution_count": 13,
     "metadata": {},
     "output_type": "execute_result"
    }
   ],
   "source": [
    "#hide\n",
    "for c in 'Cases, Deaths'.split(', '):\n",
    "    df_table[f'{c} (+)'] = (df_table[c] - df_table[f'P{c}']).clip(0)\n",
    "    #Clip ça veut dire, les chiffres negatif sont interdit\n",
    "df_table['Fatality Rate'] = (100* df_table['Deaths']/ df_table['Cases']).round(2)\n",
    "df_table['Continent'] = df_table['Country/Region'].map(mapping['map.continent'])\n",
    "df_table.head(5)"
   ]
  },
  {
   "cell_type": "code",
   "execution_count": 14,
   "metadata": {
    "execution": {
     "iopub.execute_input": "2020-11-22T12:06:44.382878Z",
     "iopub.status.busy": "2020-11-22T12:06:44.382176Z",
     "iopub.status.idle": "2020-11-22T12:06:44.384652Z",
     "shell.execute_reply": "2020-11-22T12:06:44.385248Z"
    },
    "papermill": {
     "duration": 0.046669,
     "end_time": "2020-11-22T12:06:44.385434",
     "exception": false,
     "start_time": "2020-11-22T12:06:44.338765",
     "status": "completed"
    },
    "tags": []
   },
   "outputs": [],
   "source": [
    "#hide\n",
    "#delete problematic countries from table\n",
    "df_table = df_table[~df_table['Country/Region'].isin(['Cape Verde', 'Cruise Ship', 'Kosovo'])]"
   ]
  },
  {
   "cell_type": "code",
   "execution_count": 15,
   "metadata": {
    "execution": {
     "iopub.execute_input": "2020-11-22T12:06:44.462889Z",
     "iopub.status.busy": "2020-11-22T12:06:44.462156Z",
     "iopub.status.idle": "2020-11-22T12:06:44.484795Z",
     "shell.execute_reply": "2020-11-22T12:06:44.484059Z"
    },
    "papermill": {
     "duration": 0.066142,
     "end_time": "2020-11-22T12:06:44.485133",
     "exception": false,
     "start_time": "2020-11-22T12:06:44.418991",
     "status": "completed"
    },
    "tags": []
   },
   "outputs": [
    {
     "data": {
      "text/html": [
       "<div>\n",
       "<style scoped>\n",
       "    .dataframe tbody tr th:only-of-type {\n",
       "        vertical-align: middle;\n",
       "    }\n",
       "\n",
       "    .dataframe tbody tr th {\n",
       "        vertical-align: top;\n",
       "    }\n",
       "\n",
       "    .dataframe thead th {\n",
       "        text-align: right;\n",
       "    }\n",
       "</style>\n",
       "<table border=\"1\" class=\"dataframe\">\n",
       "  <thead>\n",
       "    <tr style=\"text-align: right;\">\n",
       "      <th></th>\n",
       "      <th>Country/Region</th>\n",
       "      <th>Cases</th>\n",
       "      <th>Deaths</th>\n",
       "      <th>PCases</th>\n",
       "      <th>PDeaths</th>\n",
       "      <th>Cases (+)</th>\n",
       "      <th>Deaths (+)</th>\n",
       "      <th>Fatality Rate</th>\n",
       "      <th>Continent</th>\n",
       "    </tr>\n",
       "  </thead>\n",
       "  <tbody>\n",
       "    <tr>\n",
       "      <th>0</th>\n",
       "      <td>US</td>\n",
       "      <td>12088410</td>\n",
       "      <td>255861</td>\n",
       "      <td>11910858</td>\n",
       "      <td>254413</td>\n",
       "      <td>177552</td>\n",
       "      <td>1448</td>\n",
       "      <td>2.1</td>\n",
       "      <td>North America</td>\n",
       "    </tr>\n",
       "    <tr>\n",
       "      <th>1</th>\n",
       "      <td>India</td>\n",
       "      <td>9095806</td>\n",
       "      <td>133227</td>\n",
       "      <td>9050597</td>\n",
       "      <td>132726</td>\n",
       "      <td>45209</td>\n",
       "      <td>501</td>\n",
       "      <td>1.5</td>\n",
       "      <td>Asia</td>\n",
       "    </tr>\n",
       "    <tr>\n",
       "      <th>2</th>\n",
       "      <td>Brazil</td>\n",
       "      <td>6052786</td>\n",
       "      <td>168989</td>\n",
       "      <td>6020164</td>\n",
       "      <td>168613</td>\n",
       "      <td>32622</td>\n",
       "      <td>376</td>\n",
       "      <td>2.8</td>\n",
       "      <td>South America</td>\n",
       "    </tr>\n",
       "    <tr>\n",
       "      <th>3</th>\n",
       "      <td>France</td>\n",
       "      <td>2178023</td>\n",
       "      <td>48593</td>\n",
       "      <td>2160343</td>\n",
       "      <td>48341</td>\n",
       "      <td>17680</td>\n",
       "      <td>252</td>\n",
       "      <td>2.2</td>\n",
       "      <td>Europe</td>\n",
       "    </tr>\n",
       "    <tr>\n",
       "      <th>4</th>\n",
       "      <td>Russia</td>\n",
       "      <td>2047563</td>\n",
       "      <td>35442</td>\n",
       "      <td>2023025</td>\n",
       "      <td>34980</td>\n",
       "      <td>24538</td>\n",
       "      <td>462</td>\n",
       "      <td>1.7</td>\n",
       "      <td>Europe</td>\n",
       "    </tr>\n",
       "  </tbody>\n",
       "</table>\n",
       "</div>"
      ],
      "text/plain": [
       "  Country/Region     Cases  Deaths    PCases  PDeaths  Cases (+)  Deaths (+)  \\\n",
       "0             US  12088410  255861  11910858   254413     177552        1448   \n",
       "1          India   9095806  133227   9050597   132726      45209         501   \n",
       "2         Brazil   6052786  168989   6020164   168613      32622         376   \n",
       "3         France   2178023   48593   2160343    48341      17680         252   \n",
       "4         Russia   2047563   35442   2023025    34980      24538         462   \n",
       "\n",
       "   Fatality Rate      Continent  \n",
       "0            2.1  North America  \n",
       "1            1.5           Asia  \n",
       "2            2.8  South America  \n",
       "3            2.2         Europe  \n",
       "4            1.7         Europe  "
      ]
     },
     "execution_count": 15,
     "metadata": {},
     "output_type": "execute_result"
    }
   ],
   "source": [
    "#hide\n",
    "df_table = (pd.DataFrame(dict(Cases=dfc_cases, Deaths=dfc_deaths, PCases=dfp_cases, PDeaths=dfp_deaths))\n",
    "             .sort_values(by=['Cases', 'Deaths'], ascending=[False, False])\n",
    "             .reset_index())\n",
    "df_table.rename(columns={'index': 'Country/Region'}, inplace=True)\n",
    "for c in 'Cases, Deaths'.split(', '):\n",
    "    df_table[f'{c} (+)'] = (df_table[c] - df_table[f'P{c}']).clip(0)  # DATA BUG\n",
    "df_table['Fatality Rate'] = (100 * df_table['Deaths'] / df_table['Cases']).round(1)\n",
    "df_table['Continent'] = df_table['Country/Region'].map(mapping['map.continent'])\n",
    "df_table.head(5)"
   ]
  },
  {
   "cell_type": "code",
   "execution_count": 16,
   "metadata": {
    "execution": {
     "iopub.execute_input": "2020-11-22T12:06:44.564745Z",
     "iopub.status.busy": "2020-11-22T12:06:44.564041Z",
     "iopub.status.idle": "2020-11-22T12:06:44.566729Z",
     "shell.execute_reply": "2020-11-22T12:06:44.566136Z"
    },
    "papermill": {
     "duration": 0.04551,
     "end_time": "2020-11-22T12:06:44.566886",
     "exception": false,
     "start_time": "2020-11-22T12:06:44.521376",
     "status": "completed"
    },
    "tags": []
   },
   "outputs": [],
   "source": [
    "#hide\n",
    "#delete problematic countries from table\n",
    "df_table = df_table[~df_table['Country/Region'].isin(['Cape Verde', 'Cruise Ship', 'Kosovo'])]"
   ]
  },
  {
   "cell_type": "code",
   "execution_count": 17,
   "metadata": {
    "execution": {
     "iopub.execute_input": "2020-11-22T12:06:44.650974Z",
     "iopub.status.busy": "2020-11-22T12:06:44.650257Z",
     "iopub.status.idle": "2020-11-22T12:06:44.662155Z",
     "shell.execute_reply": "2020-11-22T12:06:44.661530Z"
    },
    "papermill": {
     "duration": 0.059996,
     "end_time": "2020-11-22T12:06:44.662323",
     "exception": false,
     "start_time": "2020-11-22T12:06:44.602327",
     "status": "completed"
    },
    "tags": []
   },
   "outputs": [],
   "source": [
    "#hide\n",
    "metrics = [df_table.columns[index] for index in [1,2,5,6]]\n",
    "# s_china = df_table[df_table['Country/Region'].eq('China')][metrics].sum().add_prefix('China ')\n",
    "s_us = df_table[df_table['Country/Region'].eq('US')][metrics].sum().add_prefix('US ')\n",
    "s_eu = df_table[df_table['Continent'].eq('Europe')][metrics].sum().add_prefix('EU ')\n",
    "s_ind = df_table[df_table['Country/Region'].eq('India')][metrics].sum().add_prefix('India ')\n",
    "summary = {'updated': pd.to_datetime(dt_today), 'since': pd.to_datetime(dt_yday)}\n",
    "summary = {'updated': pd.to_datetime(dt_today), 'since': pd.to_datetime(dt_yday)}\n",
    "summary = {**summary, **df_table[metrics].sum(), **s_ind, **s_us, **s_eu}"
   ]
  },
  {
   "cell_type": "code",
   "execution_count": 18,
   "metadata": {
    "execution": {
     "iopub.execute_input": "2020-11-22T12:06:44.741908Z",
     "iopub.status.busy": "2020-11-22T12:06:44.741182Z",
     "iopub.status.idle": "2020-11-22T12:06:44.750722Z",
     "shell.execute_reply": "2020-11-22T12:06:44.750136Z"
    },
    "papermill": {
     "duration": 0.052157,
     "end_time": "2020-11-22T12:06:44.750891",
     "exception": false,
     "start_time": "2020-11-22T12:06:44.698734",
     "status": "completed"
    },
    "tags": []
   },
   "outputs": [],
   "source": [
    "#hide\n",
    "dft_ct_new_cases = dft_cases.groupby(COL_REGION)[dt_cols].sum().diff(axis=1).fillna(0).astype(int)"
   ]
  },
  {
   "cell_type": "code",
   "execution_count": 19,
   "metadata": {
    "execution": {
     "iopub.execute_input": "2020-11-22T12:06:44.829234Z",
     "iopub.status.busy": "2020-11-22T12:06:44.828547Z",
     "iopub.status.idle": "2020-11-22T12:06:44.831738Z",
     "shell.execute_reply": "2020-11-22T12:06:44.831150Z"
    },
    "papermill": {
     "duration": 0.046772,
     "end_time": "2020-11-22T12:06:44.831900",
     "exception": false,
     "start_time": "2020-11-22T12:06:44.785128",
     "status": "completed"
    },
    "tags": []
   },
   "outputs": [],
   "source": [
    "#hide\n",
    "everydaycases = dft_ct_new_cases.cumsum(axis=1)"
   ]
  },
  {
   "cell_type": "code",
   "execution_count": 20,
   "metadata": {
    "execution": {
     "iopub.execute_input": "2020-11-22T12:06:44.906049Z",
     "iopub.status.busy": "2020-11-22T12:06:44.905325Z",
     "iopub.status.idle": "2020-11-22T12:06:48.419671Z",
     "shell.execute_reply": "2020-11-22T12:06:48.419048Z"
    },
    "papermill": {
     "duration": 3.553269,
     "end_time": "2020-11-22T12:06:48.419836",
     "exception": false,
     "start_time": "2020-11-22T12:06:44.866567",
     "status": "completed"
    },
    "tags": []
   },
   "outputs": [],
   "source": [
    "#hide\n",
    "import pandas as pd\n",
    "import matplotlib.pyplot as plt\n",
    "import matplotlib.ticker as ticker\n",
    "import matplotlib.animation as animation\n",
    "from IPython.display import HTML"
   ]
  },
  {
   "cell_type": "code",
   "execution_count": 21,
   "metadata": {
    "execution": {
     "iopub.execute_input": "2020-11-22T12:06:48.496261Z",
     "iopub.status.busy": "2020-11-22T12:06:48.495572Z",
     "iopub.status.idle": "2020-11-22T12:06:48.500828Z",
     "shell.execute_reply": "2020-11-22T12:06:48.501592Z"
    },
    "papermill": {
     "duration": 0.045887,
     "end_time": "2020-11-22T12:06:48.501782",
     "exception": false,
     "start_time": "2020-11-22T12:06:48.455895",
     "status": "completed"
    },
    "tags": []
   },
   "outputs": [],
   "source": [
    "#hide\n",
    "t = everydaycases.stack()"
   ]
  },
  {
   "cell_type": "code",
   "execution_count": 22,
   "metadata": {
    "execution": {
     "iopub.execute_input": "2020-11-22T12:06:48.578526Z",
     "iopub.status.busy": "2020-11-22T12:06:48.577791Z",
     "iopub.status.idle": "2020-11-22T12:06:48.585658Z",
     "shell.execute_reply": "2020-11-22T12:06:48.585046Z"
    },
    "papermill": {
     "duration": 0.048908,
     "end_time": "2020-11-22T12:06:48.585831",
     "exception": false,
     "start_time": "2020-11-22T12:06:48.536923",
     "status": "completed"
    },
    "tags": []
   },
   "outputs": [],
   "source": [
    "#hide\n",
    "g = t.reset_index(['Country/Region'])"
   ]
  },
  {
   "cell_type": "code",
   "execution_count": 23,
   "metadata": {
    "execution": {
     "iopub.execute_input": "2020-11-22T12:06:48.660936Z",
     "iopub.status.busy": "2020-11-22T12:06:48.660222Z",
     "iopub.status.idle": "2020-11-22T12:06:48.662878Z",
     "shell.execute_reply": "2020-11-22T12:06:48.662287Z"
    },
    "papermill": {
     "duration": 0.042784,
     "end_time": "2020-11-22T12:06:48.663038",
     "exception": false,
     "start_time": "2020-11-22T12:06:48.620254",
     "status": "completed"
    },
    "tags": []
   },
   "outputs": [],
   "source": [
    "#hide\n",
    "g.index.name = 'date'"
   ]
  },
  {
   "cell_type": "code",
   "execution_count": 24,
   "metadata": {
    "execution": {
     "iopub.execute_input": "2020-11-22T12:06:48.740197Z",
     "iopub.status.busy": "2020-11-22T12:06:48.739502Z",
     "iopub.status.idle": "2020-11-22T12:06:48.742248Z",
     "shell.execute_reply": "2020-11-22T12:06:48.741587Z"
    },
    "papermill": {
     "duration": 0.042106,
     "end_time": "2020-11-22T12:06:48.742409",
     "exception": false,
     "start_time": "2020-11-22T12:06:48.700303",
     "status": "completed"
    },
    "tags": []
   },
   "outputs": [],
   "source": [
    "# #hide\n",
    "# g = g.reset_index(['date'])"
   ]
  },
  {
   "cell_type": "code",
   "execution_count": 25,
   "metadata": {
    "execution": {
     "iopub.execute_input": "2020-11-22T12:06:48.817789Z",
     "iopub.status.busy": "2020-11-22T12:06:48.817101Z",
     "iopub.status.idle": "2020-11-22T12:06:48.819717Z",
     "shell.execute_reply": "2020-11-22T12:06:48.819133Z"
    },
    "papermill": {
     "duration": 0.042632,
     "end_time": "2020-11-22T12:06:48.819877",
     "exception": false,
     "start_time": "2020-11-22T12:06:48.777245",
     "status": "completed"
    },
    "tags": []
   },
   "outputs": [],
   "source": [
    "#hide\n",
    "# g.head()"
   ]
  },
  {
   "cell_type": "code",
   "execution_count": 26,
   "metadata": {
    "execution": {
     "iopub.execute_input": "2020-11-22T12:06:48.895073Z",
     "iopub.status.busy": "2020-11-22T12:06:48.894378Z",
     "iopub.status.idle": "2020-11-22T12:06:48.896919Z",
     "shell.execute_reply": "2020-11-22T12:06:48.896324Z"
    },
    "papermill": {
     "duration": 0.042252,
     "end_time": "2020-11-22T12:06:48.897076",
     "exception": false,
     "start_time": "2020-11-22T12:06:48.854824",
     "status": "completed"
    },
    "tags": []
   },
   "outputs": [],
   "source": [
    "#hide\n",
    "# g.columns = ['date','country','cases']"
   ]
  },
  {
   "cell_type": "code",
   "execution_count": 27,
   "metadata": {
    "execution": {
     "iopub.execute_input": "2020-11-22T12:06:48.973907Z",
     "iopub.status.busy": "2020-11-22T12:06:48.973188Z",
     "iopub.status.idle": "2020-11-22T12:06:48.975182Z",
     "shell.execute_reply": "2020-11-22T12:06:48.975771Z"
    },
    "papermill": {
     "duration": 0.041171,
     "end_time": "2020-11-22T12:06:48.975950",
     "exception": false,
     "start_time": "2020-11-22T12:06:48.934779",
     "status": "completed"
    },
    "tags": []
   },
   "outputs": [],
   "source": [
    "#hide\n",
    "# g['continent'] = g.country"
   ]
  },
  {
   "cell_type": "code",
   "execution_count": 28,
   "metadata": {
    "execution": {
     "iopub.execute_input": "2020-11-22T12:06:49.051189Z",
     "iopub.status.busy": "2020-11-22T12:06:49.050498Z",
     "iopub.status.idle": "2020-11-22T12:06:49.054327Z",
     "shell.execute_reply": "2020-11-22T12:06:49.054852Z"
    },
    "papermill": {
     "duration": 0.043499,
     "end_time": "2020-11-22T12:06:49.055038",
     "exception": false,
     "start_time": "2020-11-22T12:06:49.011539",
     "status": "completed"
    },
    "tags": []
   },
   "outputs": [],
   "source": [
    "#hide\n",
    "# cols = list(g.columns.values)"
   ]
  },
  {
   "cell_type": "code",
   "execution_count": 29,
   "metadata": {
    "execution": {
     "iopub.execute_input": "2020-11-22T12:06:49.131242Z",
     "iopub.status.busy": "2020-11-22T12:06:49.129648Z",
     "iopub.status.idle": "2020-11-22T12:06:49.131973Z",
     "shell.execute_reply": "2020-11-22T12:06:49.132520Z"
    },
    "papermill": {
     "duration": 0.042327,
     "end_time": "2020-11-22T12:06:49.132693",
     "exception": false,
     "start_time": "2020-11-22T12:06:49.090366",
     "status": "completed"
    },
    "tags": []
   },
   "outputs": [],
   "source": [
    "#hide\n",
    "# cols.insert(0, cols.pop())"
   ]
  },
  {
   "cell_type": "code",
   "execution_count": 30,
   "metadata": {
    "execution": {
     "iopub.execute_input": "2020-11-22T12:06:49.206136Z",
     "iopub.status.busy": "2020-11-22T12:06:49.205208Z",
     "iopub.status.idle": "2020-11-22T12:06:49.210763Z",
     "shell.execute_reply": "2020-11-22T12:06:49.209965Z"
    },
    "papermill": {
     "duration": 0.044403,
     "end_time": "2020-11-22T12:06:49.211008",
     "exception": false,
     "start_time": "2020-11-22T12:06:49.166605",
     "status": "completed"
    },
    "tags": []
   },
   "outputs": [],
   "source": [
    "#hide\n",
    "# g = g[cols]"
   ]
  },
  {
   "cell_type": "code",
   "execution_count": 31,
   "metadata": {
    "execution": {
     "iopub.execute_input": "2020-11-22T12:06:49.292547Z",
     "iopub.status.busy": "2020-11-22T12:06:49.291871Z",
     "iopub.status.idle": "2020-11-22T12:06:49.295763Z",
     "shell.execute_reply": "2020-11-22T12:06:49.296283Z"
    },
    "papermill": {
     "duration": 0.047907,
     "end_time": "2020-11-22T12:06:49.296466",
     "exception": false,
     "start_time": "2020-11-22T12:06:49.248559",
     "status": "completed"
    },
    "tags": []
   },
   "outputs": [],
   "source": [
    "#hide\n",
    "# g['continent'] = g['continent'].map(mapping['map.continent'])"
   ]
  },
  {
   "cell_type": "code",
   "execution_count": 32,
   "metadata": {
    "execution": {
     "iopub.execute_input": "2020-11-22T12:06:49.372150Z",
     "iopub.status.busy": "2020-11-22T12:06:49.371411Z",
     "iopub.status.idle": "2020-11-22T12:06:49.374741Z",
     "shell.execute_reply": "2020-11-22T12:06:49.374145Z"
    },
    "papermill": {
     "duration": 0.041749,
     "end_time": "2020-11-22T12:06:49.374902",
     "exception": false,
     "start_time": "2020-11-22T12:06:49.333153",
     "status": "completed"
    },
    "tags": []
   },
   "outputs": [],
   "source": [
    "#hide\n",
    "# g.head()"
   ]
  },
  {
   "cell_type": "code",
   "execution_count": 33,
   "metadata": {
    "execution": {
     "iopub.execute_input": "2020-11-22T12:06:49.453052Z",
     "iopub.status.busy": "2020-11-22T12:06:49.452363Z",
     "iopub.status.idle": "2020-11-22T12:06:49.455350Z",
     "shell.execute_reply": "2020-11-22T12:06:49.454666Z"
    },
    "papermill": {
     "duration": 0.045581,
     "end_time": "2020-11-22T12:06:49.455507",
     "exception": false,
     "start_time": "2020-11-22T12:06:49.409926",
     "status": "completed"
    },
    "tags": []
   },
   "outputs": [],
   "source": [
    "# hide\n",
    "# g['date'] = g['date'].astype('datetime64[ns]')"
   ]
  },
  {
   "cell_type": "code",
   "execution_count": 34,
   "metadata": {
    "execution": {
     "iopub.execute_input": "2020-11-22T12:06:49.529778Z",
     "iopub.status.busy": "2020-11-22T12:06:49.529107Z",
     "iopub.status.idle": "2020-11-22T12:06:49.531736Z",
     "shell.execute_reply": "2020-11-22T12:06:49.531162Z"
    },
    "papermill": {
     "duration": 0.041346,
     "end_time": "2020-11-22T12:06:49.531883",
     "exception": false,
     "start_time": "2020-11-22T12:06:49.490537",
     "status": "completed"
    },
    "tags": []
   },
   "outputs": [],
   "source": [
    "#hide\n",
    "# g['date'] = g.date.dt.dayofyear"
   ]
  },
  {
   "cell_type": "code",
   "execution_count": 35,
   "metadata": {
    "execution": {
     "iopub.execute_input": "2020-11-22T12:06:49.607147Z",
     "iopub.status.busy": "2020-11-22T12:06:49.606475Z",
     "iopub.status.idle": "2020-11-22T12:06:49.608376Z",
     "shell.execute_reply": "2020-11-22T12:06:49.609020Z"
    },
    "papermill": {
     "duration": 0.042206,
     "end_time": "2020-11-22T12:06:49.609190",
     "exception": false,
     "start_time": "2020-11-22T12:06:49.566984",
     "status": "completed"
    },
    "tags": []
   },
   "outputs": [],
   "source": [
    "#hide\n",
    "# g = g.rename(columns= {'continent':'group','country':'name','cases':'value'})"
   ]
  },
  {
   "cell_type": "code",
   "execution_count": 36,
   "metadata": {
    "execution": {
     "iopub.execute_input": "2020-11-22T12:06:49.686047Z",
     "iopub.status.busy": "2020-11-22T12:06:49.685342Z",
     "iopub.status.idle": "2020-11-22T12:06:49.688020Z",
     "shell.execute_reply": "2020-11-22T12:06:49.687392Z"
    },
    "papermill": {
     "duration": 0.04189,
     "end_time": "2020-11-22T12:06:49.688173",
     "exception": false,
     "start_time": "2020-11-22T12:06:49.646283",
     "status": "completed"
    },
    "tags": []
   },
   "outputs": [],
   "source": [
    "#hide\n",
    "# cols = ['name','group','day','value']"
   ]
  },
  {
   "cell_type": "code",
   "execution_count": 37,
   "metadata": {
    "execution": {
     "iopub.execute_input": "2020-11-22T12:06:49.764195Z",
     "iopub.status.busy": "2020-11-22T12:06:49.763523Z",
     "iopub.status.idle": "2020-11-22T12:06:49.765413Z",
     "shell.execute_reply": "2020-11-22T12:06:49.766089Z"
    },
    "papermill": {
     "duration": 0.041952,
     "end_time": "2020-11-22T12:06:49.766261",
     "exception": false,
     "start_time": "2020-11-22T12:06:49.724309",
     "status": "completed"
    },
    "tags": []
   },
   "outputs": [],
   "source": [
    "#hide\n",
    "# g.rename(columns= {'date':'day'},inplace = True)"
   ]
  },
  {
   "cell_type": "code",
   "execution_count": 38,
   "metadata": {
    "execution": {
     "iopub.execute_input": "2020-11-22T12:06:49.840173Z",
     "iopub.status.busy": "2020-11-22T12:06:49.839496Z",
     "iopub.status.idle": "2020-11-22T12:06:49.841375Z",
     "shell.execute_reply": "2020-11-22T12:06:49.842059Z"
    },
    "papermill": {
     "duration": 0.041596,
     "end_time": "2020-11-22T12:06:49.842240",
     "exception": false,
     "start_time": "2020-11-22T12:06:49.800644",
     "status": "completed"
    },
    "tags": []
   },
   "outputs": [],
   "source": [
    "#hide\n",
    "# g = g[cols]"
   ]
  },
  {
   "cell_type": "code",
   "execution_count": 39,
   "metadata": {
    "execution": {
     "iopub.execute_input": "2020-11-22T12:06:49.915255Z",
     "iopub.status.busy": "2020-11-22T12:06:49.914554Z",
     "iopub.status.idle": "2020-11-22T12:06:49.917237Z",
     "shell.execute_reply": "2020-11-22T12:06:49.916642Z"
    },
    "papermill": {
     "duration": 0.041299,
     "end_time": "2020-11-22T12:06:49.917398",
     "exception": false,
     "start_time": "2020-11-22T12:06:49.876099",
     "status": "completed"
    },
    "tags": []
   },
   "outputs": [],
   "source": [
    "# #hide\n",
    "# g = g[g.group.notna()]"
   ]
  },
  {
   "cell_type": "code",
   "execution_count": 40,
   "metadata": {
    "execution": {
     "iopub.execute_input": "2020-11-22T12:06:49.992092Z",
     "iopub.status.busy": "2020-11-22T12:06:49.991370Z",
     "iopub.status.idle": "2020-11-22T12:06:49.994041Z",
     "shell.execute_reply": "2020-11-22T12:06:49.993427Z"
    },
    "papermill": {
     "duration": 0.041636,
     "end_time": "2020-11-22T12:06:49.994203",
     "exception": false,
     "start_time": "2020-11-22T12:06:49.952567",
     "status": "completed"
    },
    "tags": []
   },
   "outputs": [],
   "source": [
    "# #hide\n",
    "# colors = dict(zip(\n",
    "#     [\"Oceania\", \"Europe\", \"Asia\", \"South America\", \"Middle East\", \"North America\", \"Africa\"],\n",
    "#     [\"#adb0ff\", \"#ffb3ff\", \"#90d595\", \"#e48381\", \"#aafbff\", \"#f7bb5f\", \"#eafb50\"]\n",
    "# ))\n",
    "# group_lk = g.set_index('name')['group'].to_dict()"
   ]
  },
  {
   "cell_type": "code",
   "execution_count": null,
   "metadata": {
    "papermill": {
     "duration": 0.038828,
     "end_time": "2020-11-22T12:06:50.067563",
     "exception": false,
     "start_time": "2020-11-22T12:06:50.028735",
     "status": "completed"
    },
    "tags": []
   },
   "outputs": [],
   "source": []
  },
  {
   "cell_type": "code",
   "execution_count": 41,
   "metadata": {
    "execution": {
     "iopub.execute_input": "2020-11-22T12:06:50.147537Z",
     "iopub.status.busy": "2020-11-22T12:06:50.146808Z",
     "iopub.status.idle": "2020-11-22T12:06:50.150749Z",
     "shell.execute_reply": "2020-11-22T12:06:50.151277Z"
    },
    "papermill": {
     "duration": 0.046565,
     "end_time": "2020-11-22T12:06:50.151468",
     "exception": false,
     "start_time": "2020-11-22T12:06:50.104903",
     "status": "completed"
    },
    "tags": []
   },
   "outputs": [],
   "source": [
    "# #hide\n",
    "# fig, ax = plt.subplots(figsize=(15, 8))\n",
    "\n",
    "# def draw_barchart(current_day):\n",
    "#     dff = g[g['day'].eq(current_day)].sort_values(by='value', ascending=True).tail(10)\n",
    "#     ax.clear()\n",
    "#     ax.barh(dff['name'], dff['value'], color=[colors[group_lk[x]] for x in dff['name']])\n",
    "#     dx = dff['value'].max() / 200\n",
    "    \n",
    "#     for i, (value, name) in enumerate(zip(dff['value'], dff['name'])):\n",
    "#         ax.text(value-dx, i,     name,           size=14, weight=600, ha='right', va='bottom')\n",
    "#         ax.text(value-dx, i-.25, group_lk[name], size=10, color='#444444', ha='right', va='baseline')\n",
    "#         ax.text(value+dx, i,     f'{value:,.0f}',  size=14, ha='left',  va='center')\n",
    "#     ax.text(1, 0.4, current_day, transform=ax.transAxes, color='#777777', size=46, ha='right', weight=800)\n",
    "#     ax.text(0, 1.06, 'Population (thousands)', transform=ax.transAxes, size=12, color='#777777')\n",
    "#     ax.xaxis.set_major_formatter(ticker.StrMethodFormatter('{x:,.0f}'))\n",
    "#     ax.xaxis.set_ticks_position('top')\n",
    "#     ax.tick_params(axis='x', colors='#777777', labelsize=12)\n",
    "#     ax.set_yticks([])\n",
    "#     ax.margins(0, 0.01)\n",
    "#     ax.grid(which='major', axis='x', linestyle='-')\n",
    "#     ax.set_axisbelow(True)\n",
    "    \n",
    "#     ax.text(0, 1.15, 'Coronavirus',\n",
    "#             transform=ax.transAxes, size=24, weight=600, ha='left', va='top')\n",
    "# #     ax.text(1, 0, 'by @pratapvardhan; credit @jburnmurdoch', transform=ax.transAxes, color='#777777', ha='right',\n",
    "# #             bbox=dict(facecolor='white', alpha=0.8, edgecolor='white'))\n",
    "#     plt.box(False)"
   ]
  },
  {
   "cell_type": "code",
   "execution_count": 42,
   "metadata": {
    "execution": {
     "iopub.execute_input": "2020-11-22T12:06:50.226851Z",
     "iopub.status.busy": "2020-11-22T12:06:50.226155Z",
     "iopub.status.idle": "2020-11-22T12:06:50.228917Z",
     "shell.execute_reply": "2020-11-22T12:06:50.229444Z"
    },
    "papermill": {
     "duration": 0.04368,
     "end_time": "2020-11-22T12:06:50.229632",
     "exception": false,
     "start_time": "2020-11-22T12:06:50.185952",
     "status": "completed"
    },
    "tags": []
   },
   "outputs": [],
   "source": [
    "# #hide_input\n",
    "# fig, ax = plt.subplots(figsize=(15, 8))\n",
    "# animator = animation.FuncAnimation(fig, draw_barchart, frames=range(g.day.values.min(), g.day.values.max()))\n",
    "# HTML(animator.to_jshtml())\n",
    "# # or use animator.to_html5_video() or animator.save() "
   ]
  },
  {
   "cell_type": "code",
   "execution_count": null,
   "metadata": {
    "papermill": {
     "duration": 0.035446,
     "end_time": "2020-11-22T12:06:50.308659",
     "exception": false,
     "start_time": "2020-11-22T12:06:50.273213",
     "status": "completed"
    },
    "tags": []
   },
   "outputs": [],
   "source": []
  },
  {
   "cell_type": "code",
   "execution_count": null,
   "metadata": {
    "papermill": {
     "duration": 0.035729,
     "end_time": "2020-11-22T12:06:50.379991",
     "exception": false,
     "start_time": "2020-11-22T12:06:50.344262",
     "status": "completed"
    },
    "tags": []
   },
   "outputs": [],
   "source": []
  },
  {
   "cell_type": "code",
   "execution_count": null,
   "metadata": {
    "papermill": {
     "duration": 0.03575,
     "end_time": "2020-11-22T12:06:50.450885",
     "exception": false,
     "start_time": "2020-11-22T12:06:50.415135",
     "status": "completed"
    },
    "tags": []
   },
   "outputs": [],
   "source": []
  }
 ],
 "metadata": {
  "kernelspec": {
   "display_name": "Python 3",
   "language": "python",
   "name": "python3"
  },
  "language_info": {
   "codemirror_mode": {
    "name": "ipython",
    "version": 3
   },
   "file_extension": ".py",
   "mimetype": "text/x-python",
   "name": "python",
   "nbconvert_exporter": "python",
   "pygments_lexer": "ipython3",
   "version": "3.6.12"
  },
  "papermill": {
   "duration": 10.396233,
   "end_time": "2020-11-22T12:06:51.711964",
   "environment_variables": {},
   "exception": null,
   "input_path": "2020-03-21-covid19exp.ipynb",
   "output_path": "2020-03-21-covid19exp.ipynb",
   "parameters": {},
   "start_time": "2020-11-22T12:06:41.315731",
   "version": "2.0.0"
  }
 },
 "nbformat": 4,
 "nbformat_minor": 4
}