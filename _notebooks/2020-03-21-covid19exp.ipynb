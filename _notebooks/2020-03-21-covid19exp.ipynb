{
 "cells": [
  {
   "cell_type": "markdown",
   "id": "muslim-click",
   "metadata": {
    "papermill": {
     "duration": 0.040037,
     "end_time": "2021-03-20T12:07:25.087233",
     "exception": false,
     "start_time": "2021-03-20T12:07:25.047196",
     "status": "completed"
    },
    "tags": []
   },
   "source": [
    "# COVID-19 Case Race\n",
    "> A race chart to see rising cases around the world\n",
    "\n",
    "- author: Hargun Oberoi\n",
    "- image: images/covid-overview.png\n",
    "- hide: false\n",
    "- badges: false"
   ]
  },
  {
   "cell_type": "code",
   "execution_count": 1,
   "id": "proof-material",
   "metadata": {
    "execution": {
     "iopub.execute_input": "2021-03-20T12:07:25.168980Z",
     "iopub.status.busy": "2021-03-20T12:07:25.168373Z",
     "iopub.status.idle": "2021-03-20T12:07:25.550674Z",
     "shell.execute_reply": "2021-03-20T12:07:25.549642Z"
    },
    "papermill": {
     "duration": 0.429028,
     "end_time": "2021-03-20T12:07:25.550835",
     "exception": false,
     "start_time": "2021-03-20T12:07:25.121807",
     "status": "completed"
    },
    "tags": []
   },
   "outputs": [],
   "source": [
    "#hide\n",
    "import numpy as np\n",
    "import pandas as pd\n",
    "from jinja2 import Template\n",
    "from IPython.display import HTML"
   ]
  },
  {
   "cell_type": "code",
   "execution_count": 2,
   "id": "developed-terminology",
   "metadata": {
    "execution": {
     "iopub.execute_input": "2021-03-20T12:07:25.629853Z",
     "iopub.status.busy": "2021-03-20T12:07:25.629269Z",
     "iopub.status.idle": "2021-03-20T12:07:25.631865Z",
     "shell.execute_reply": "2021-03-20T12:07:25.632362Z"
    },
    "papermill": {
     "duration": 0.04517,
     "end_time": "2021-03-20T12:07:25.632503",
     "exception": false,
     "start_time": "2021-03-20T12:07:25.587333",
     "status": "completed"
    },
    "tags": []
   },
   "outputs": [],
   "source": [
    "#hide\n",
    "\n",
    "# FETCH\n",
    "base_url = 'https://raw.githubusercontent.com/pratapvardhan/notebooks/master/covid19/'\n",
    "paths = {\n",
    "    'mapping': base_url + 'mapping_countries.csv',\n",
    "    'overview': base_url + 'overview.tpl'\n",
    "}"
   ]
  },
  {
   "cell_type": "code",
   "execution_count": 3,
   "id": "dynamic-saver",
   "metadata": {
    "execution": {
     "iopub.execute_input": "2021-03-20T12:07:25.714468Z",
     "iopub.status.busy": "2021-03-20T12:07:25.713541Z",
     "iopub.status.idle": "2021-03-20T12:07:25.721839Z",
     "shell.execute_reply": "2021-03-20T12:07:25.721337Z"
    },
    "papermill": {
     "duration": 0.05391,
     "end_time": "2021-03-20T12:07:25.721964",
     "exception": false,
     "start_time": "2021-03-20T12:07:25.668054",
     "status": "completed"
    },
    "tags": []
   },
   "outputs": [
    {
     "data": {
      "text/plain": [
       "'https://raw.githubusercontent.com/pratapvardhan/notebooks/master/covid19/mapping_countries.csv'"
      ]
     },
     "execution_count": 3,
     "metadata": {},
     "output_type": "execute_result"
    }
   ],
   "source": [
    "#hide\n",
    "paths['mapping']"
   ]
  },
  {
   "cell_type": "code",
   "execution_count": 4,
   "id": "urban-software",
   "metadata": {
    "execution": {
     "iopub.execute_input": "2021-03-20T12:07:25.797009Z",
     "iopub.status.busy": "2021-03-20T12:07:25.796407Z",
     "iopub.status.idle": "2021-03-20T12:07:25.798853Z",
     "shell.execute_reply": "2021-03-20T12:07:25.798306Z"
    },
    "papermill": {
     "duration": 0.041945,
     "end_time": "2021-03-20T12:07:25.798981",
     "exception": false,
     "start_time": "2021-03-20T12:07:25.757036",
     "status": "completed"
    },
    "tags": []
   },
   "outputs": [],
   "source": [
    "#hide\n",
    "def get_mappings(url):\n",
    "    df = pd.read_csv(url)\n",
    "    return {\n",
    "        'df': df,\n",
    "        'replace.country': dict(df.dropna(subset=['Name']).set_index('Country')['Name']),\n",
    "        'map.continent': dict(df.set_index('Name')['Continent'])\n",
    "    }"
   ]
  },
  {
   "cell_type": "code",
   "execution_count": 5,
   "id": "intimate-machinery",
   "metadata": {
    "execution": {
     "iopub.execute_input": "2021-03-20T12:07:25.873696Z",
     "iopub.status.busy": "2021-03-20T12:07:25.873092Z",
     "iopub.status.idle": "2021-03-20T12:07:25.916675Z",
     "shell.execute_reply": "2021-03-20T12:07:25.915781Z"
    },
    "papermill": {
     "duration": 0.083427,
     "end_time": "2021-03-20T12:07:25.916830",
     "exception": false,
     "start_time": "2021-03-20T12:07:25.833403",
     "status": "completed"
    },
    "tags": []
   },
   "outputs": [],
   "source": [
    "#hide\n",
    "mapping = get_mappings(paths['mapping'])"
   ]
  },
  {
   "cell_type": "code",
   "execution_count": 6,
   "id": "certified-tactics",
   "metadata": {
    "execution": {
     "iopub.execute_input": "2021-03-20T12:07:26.001807Z",
     "iopub.status.busy": "2021-03-20T12:07:26.001032Z",
     "iopub.status.idle": "2021-03-20T12:07:26.002810Z",
     "shell.execute_reply": "2021-03-20T12:07:26.003329Z"
    },
    "papermill": {
     "duration": 0.049741,
     "end_time": "2021-03-20T12:07:26.003469",
     "exception": false,
     "start_time": "2021-03-20T12:07:25.953728",
     "status": "completed"
    },
    "tags": []
   },
   "outputs": [],
   "source": [
    "#hide\n",
    "def get_template(path):\n",
    "    from urllib.parse import urlparse\n",
    "    if bool(urlparse(path).netloc):\n",
    "        from urllib.request import urlopen\n",
    "        return urlopen(path).read().decode('utf8')\n",
    "    return open(path).read()"
   ]
  },
  {
   "cell_type": "code",
   "execution_count": 7,
   "id": "realistic-blast",
   "metadata": {
    "execution": {
     "iopub.execute_input": "2021-03-20T12:07:26.078232Z",
     "iopub.status.busy": "2021-03-20T12:07:26.077588Z",
     "iopub.status.idle": "2021-03-20T12:07:26.080458Z",
     "shell.execute_reply": "2021-03-20T12:07:26.079968Z"
    },
    "papermill": {
     "duration": 0.042845,
     "end_time": "2021-03-20T12:07:26.080584",
     "exception": false,
     "start_time": "2021-03-20T12:07:26.037739",
     "status": "completed"
    },
    "tags": []
   },
   "outputs": [],
   "source": [
    "#hide\n",
    "def get_frame(name):\n",
    "    url = (\n",
    "        'https://raw.githubusercontent.com/CSSEGISandData/COVID-19/master/csse_covid_19_data/'\n",
    "        f'csse_covid_19_time_series/time_series_covid19_{name}_global.csv')\n",
    "    df = pd.read_csv(url)\n",
    "    # rename countries\n",
    "    df['Country/Region'] = df['Country/Region'].replace(mapping['replace.country'])\n",
    "    return df"
   ]
  },
  {
   "cell_type": "code",
   "execution_count": 8,
   "id": "affiliated-characterization",
   "metadata": {
    "execution": {
     "iopub.execute_input": "2021-03-20T12:07:26.155651Z",
     "iopub.status.busy": "2021-03-20T12:07:26.155061Z",
     "iopub.status.idle": "2021-03-20T12:07:26.157214Z",
     "shell.execute_reply": "2021-03-20T12:07:26.156642Z"
    },
    "papermill": {
     "duration": 0.042215,
     "end_time": "2021-03-20T12:07:26.157340",
     "exception": false,
     "start_time": "2021-03-20T12:07:26.115125",
     "status": "completed"
    },
    "tags": []
   },
   "outputs": [],
   "source": [
    "#hide\n",
    "def get_dates(df):\n",
    "    dt_cols = df.columns[~df.columns.isin(['Province/State', 'Country/Region', 'Lat', 'Long'])]\n",
    "    LAST_DATE_I = -1\n",
    "    # sometimes last column may be empty, then go backwards\n",
    "    for i in range(-1, -len(dt_cols), -1):\n",
    "        if not df[dt_cols[i]].fillna(0).eq(0).all():\n",
    "            LAST_DATE_I = i\n",
    "            break\n",
    "    return LAST_DATE_I, dt_cols"
   ]
  },
  {
   "cell_type": "code",
   "execution_count": 9,
   "id": "recent-optimization",
   "metadata": {
    "execution": {
     "iopub.execute_input": "2021-03-20T12:07:26.230789Z",
     "iopub.status.busy": "2021-03-20T12:07:26.230116Z",
     "iopub.status.idle": "2021-03-20T12:07:26.556652Z",
     "shell.execute_reply": "2021-03-20T12:07:26.556126Z"
    },
    "papermill": {
     "duration": 0.365523,
     "end_time": "2021-03-20T12:07:26.556800",
     "exception": false,
     "start_time": "2021-03-20T12:07:26.191277",
     "status": "completed"
    },
    "tags": []
   },
   "outputs": [],
   "source": [
    "#hide\n",
    "COL_REGION = 'Country/Region'\n",
    "# Confirmed, Recovered, Deaths\n",
    "df = get_frame('confirmed')\n",
    "# dft_: timeseries, dfc_: today country agg\n",
    "dft_cases = df\n",
    "dft_deaths = get_frame('deaths')\n",
    "dft_recovered = get_frame('recovered')\n",
    "LAST_DATE_I, dt_cols = get_dates(df)"
   ]
  },
  {
   "cell_type": "code",
   "execution_count": 10,
   "id": "absolute-copper",
   "metadata": {
    "execution": {
     "iopub.execute_input": "2021-03-20T12:07:26.633002Z",
     "iopub.status.busy": "2021-03-20T12:07:26.632344Z",
     "iopub.status.idle": "2021-03-20T12:07:26.633544Z",
     "shell.execute_reply": "2021-03-20T12:07:26.634116Z"
    },
    "papermill": {
     "duration": 0.041878,
     "end_time": "2021-03-20T12:07:26.634248",
     "exception": false,
     "start_time": "2021-03-20T12:07:26.592370",
     "status": "completed"
    },
    "tags": []
   },
   "outputs": [],
   "source": [
    "#hide\n",
    "LAST_DATE_I, dt_cols = get_dates(df)\n",
    "dt_today =dt_cols[LAST_DATE_I]\n",
    "# dt_5day = dt_cols[LAST_DATE_I - 5]\n",
    "dt_yday = dt_cols[LAST_DATE_I - 1]"
   ]
  },
  {
   "cell_type": "code",
   "execution_count": 11,
   "id": "restricted-sheriff",
   "metadata": {
    "execution": {
     "iopub.execute_input": "2021-03-20T12:07:26.707505Z",
     "iopub.status.busy": "2021-03-20T12:07:26.706895Z",
     "iopub.status.idle": "2021-03-20T12:07:26.715629Z",
     "shell.execute_reply": "2021-03-20T12:07:26.715143Z"
    },
    "papermill": {
     "duration": 0.04775,
     "end_time": "2021-03-20T12:07:26.715760",
     "exception": false,
     "start_time": "2021-03-20T12:07:26.668010",
     "status": "completed"
    },
    "tags": []
   },
   "outputs": [],
   "source": [
    "#hide\n",
    "dfc_cases = dft_cases.groupby(COL_REGION)[dt_today].sum()\n",
    "dfc_deaths = dft_deaths.groupby(COL_REGION)[dt_today].sum()\n",
    "# dfp_cases = dft_cases.groupby(COL_REGION)[dt_5day].sum()\n",
    "# dfp_deaths = dft_deaths.groupby(COL_REGION)[dt_5day].sum()\n",
    "dfp_cases = dft_cases.groupby(COL_REGION)[dt_yday].sum()\n",
    "dfp_deaths = dft_deaths.groupby(COL_REGION)[dt_yday].sum()"
   ]
  },
  {
   "cell_type": "code",
   "execution_count": 12,
   "id": "deluxe-hepatitis",
   "metadata": {
    "execution": {
     "iopub.execute_input": "2021-03-20T12:07:26.791144Z",
     "iopub.status.busy": "2021-03-20T12:07:26.790508Z",
     "iopub.status.idle": "2021-03-20T12:07:26.795326Z",
     "shell.execute_reply": "2021-03-20T12:07:26.795788Z"
    },
    "papermill": {
     "duration": 0.045963,
     "end_time": "2021-03-20T12:07:26.795944",
     "exception": false,
     "start_time": "2021-03-20T12:07:26.749981",
     "status": "completed"
    },
    "tags": []
   },
   "outputs": [],
   "source": [
    "#hide\n",
    "df_table = (pd.DataFrame(dict(Cases = dfc_cases, Deaths = dfc_deaths, PCases = dfp_cases, PDeaths = dfp_deaths))\n",
    "            .sort_values(by = ['Cases','Deaths'], ascending = [False, False])\n",
    "            .reset_index())"
   ]
  },
  {
   "cell_type": "code",
   "execution_count": 13,
   "id": "educational-chancellor",
   "metadata": {
    "execution": {
     "iopub.execute_input": "2021-03-20T12:07:26.879755Z",
     "iopub.status.busy": "2021-03-20T12:07:26.879160Z",
     "iopub.status.idle": "2021-03-20T12:07:26.898372Z",
     "shell.execute_reply": "2021-03-20T12:07:26.897898Z"
    },
    "papermill": {
     "duration": 0.061604,
     "end_time": "2021-03-20T12:07:26.898530",
     "exception": false,
     "start_time": "2021-03-20T12:07:26.836926",
     "status": "completed"
    },
    "tags": []
   },
   "outputs": [
    {
     "data": {
      "text/html": [
       "<div>\n",
       "<style scoped>\n",
       "    .dataframe tbody tr th:only-of-type {\n",
       "        vertical-align: middle;\n",
       "    }\n",
       "\n",
       "    .dataframe tbody tr th {\n",
       "        vertical-align: top;\n",
       "    }\n",
       "\n",
       "    .dataframe thead th {\n",
       "        text-align: right;\n",
       "    }\n",
       "</style>\n",
       "<table border=\"1\" class=\"dataframe\">\n",
       "  <thead>\n",
       "    <tr style=\"text-align: right;\">\n",
       "      <th></th>\n",
       "      <th>Country/Region</th>\n",
       "      <th>Cases</th>\n",
       "      <th>Deaths</th>\n",
       "      <th>PCases</th>\n",
       "      <th>PDeaths</th>\n",
       "      <th>Cases (+)</th>\n",
       "      <th>Deaths (+)</th>\n",
       "      <th>Fatality Rate</th>\n",
       "      <th>Continent</th>\n",
       "    </tr>\n",
       "  </thead>\n",
       "  <tbody>\n",
       "    <tr>\n",
       "      <th>0</th>\n",
       "      <td>US</td>\n",
       "      <td>29730000</td>\n",
       "      <td>541143</td>\n",
       "      <td>29668587</td>\n",
       "      <td>539698</td>\n",
       "      <td>61413</td>\n",
       "      <td>1445</td>\n",
       "      <td>1.82</td>\n",
       "      <td>North America</td>\n",
       "    </tr>\n",
       "    <tr>\n",
       "      <th>1</th>\n",
       "      <td>Brazil</td>\n",
       "      <td>11871390</td>\n",
       "      <td>290314</td>\n",
       "      <td>11780820</td>\n",
       "      <td>287499</td>\n",
       "      <td>90570</td>\n",
       "      <td>2815</td>\n",
       "      <td>2.45</td>\n",
       "      <td>South America</td>\n",
       "    </tr>\n",
       "    <tr>\n",
       "      <th>2</th>\n",
       "      <td>India</td>\n",
       "      <td>11555284</td>\n",
       "      <td>159558</td>\n",
       "      <td>11514331</td>\n",
       "      <td>159370</td>\n",
       "      <td>40953</td>\n",
       "      <td>188</td>\n",
       "      <td>1.38</td>\n",
       "      <td>Asia</td>\n",
       "    </tr>\n",
       "    <tr>\n",
       "      <th>3</th>\n",
       "      <td>Russia</td>\n",
       "      <td>4388268</td>\n",
       "      <td>92704</td>\n",
       "      <td>4378656</td>\n",
       "      <td>92266</td>\n",
       "      <td>9612</td>\n",
       "      <td>438</td>\n",
       "      <td>2.11</td>\n",
       "      <td>Europe</td>\n",
       "    </tr>\n",
       "    <tr>\n",
       "      <th>4</th>\n",
       "      <td>United Kingdom</td>\n",
       "      <td>4299200</td>\n",
       "      <td>126263</td>\n",
       "      <td>4294328</td>\n",
       "      <td>126163</td>\n",
       "      <td>4872</td>\n",
       "      <td>100</td>\n",
       "      <td>2.94</td>\n",
       "      <td>Europe</td>\n",
       "    </tr>\n",
       "  </tbody>\n",
       "</table>\n",
       "</div>"
      ],
      "text/plain": [
       "   Country/Region     Cases  Deaths    PCases  PDeaths  Cases (+)  Deaths (+)  \\\n",
       "0              US  29730000  541143  29668587   539698      61413        1445   \n",
       "1          Brazil  11871390  290314  11780820   287499      90570        2815   \n",
       "2           India  11555284  159558  11514331   159370      40953         188   \n",
       "3          Russia   4388268   92704   4378656    92266       9612         438   \n",
       "4  United Kingdom   4299200  126263   4294328   126163       4872         100   \n",
       "\n",
       "   Fatality Rate      Continent  \n",
       "0           1.82  North America  \n",
       "1           2.45  South America  \n",
       "2           1.38           Asia  \n",
       "3           2.11         Europe  \n",
       "4           2.94         Europe  "
      ]
     },
     "execution_count": 13,
     "metadata": {},
     "output_type": "execute_result"
    }
   ],
   "source": [
    "#hide\n",
    "for c in 'Cases, Deaths'.split(', '):\n",
    "    df_table[f'{c} (+)'] = (df_table[c] - df_table[f'P{c}']).clip(0)\n",
    "    #Clip ça veut dire, les chiffres negatif sont interdit\n",
    "df_table['Fatality Rate'] = (100* df_table['Deaths']/ df_table['Cases']).round(2)\n",
    "df_table['Continent'] = df_table['Country/Region'].map(mapping['map.continent'])\n",
    "df_table.head(5)"
   ]
  },
  {
   "cell_type": "code",
   "execution_count": 14,
   "id": "aboriginal-bulgaria",
   "metadata": {
    "execution": {
     "iopub.execute_input": "2021-03-20T12:07:26.974411Z",
     "iopub.status.busy": "2021-03-20T12:07:26.973524Z",
     "iopub.status.idle": "2021-03-20T12:07:26.975890Z",
     "shell.execute_reply": "2021-03-20T12:07:26.976721Z"
    },
    "papermill": {
     "duration": 0.043765,
     "end_time": "2021-03-20T12:07:26.976941",
     "exception": false,
     "start_time": "2021-03-20T12:07:26.933176",
     "status": "completed"
    },
    "tags": []
   },
   "outputs": [],
   "source": [
    "#hide\n",
    "#delete problematic countries from table\n",
    "df_table = df_table[~df_table['Country/Region'].isin(['Cape Verde', 'Cruise Ship', 'Kosovo'])]"
   ]
  },
  {
   "cell_type": "code",
   "execution_count": 15,
   "id": "fantastic-effect",
   "metadata": {
    "execution": {
     "iopub.execute_input": "2021-03-20T12:07:27.062829Z",
     "iopub.status.busy": "2021-03-20T12:07:27.062206Z",
     "iopub.status.idle": "2021-03-20T12:07:27.082020Z",
     "shell.execute_reply": "2021-03-20T12:07:27.081415Z"
    },
    "papermill": {
     "duration": 0.065083,
     "end_time": "2021-03-20T12:07:27.082162",
     "exception": false,
     "start_time": "2021-03-20T12:07:27.017079",
     "status": "completed"
    },
    "tags": []
   },
   "outputs": [
    {
     "data": {
      "text/html": [
       "<div>\n",
       "<style scoped>\n",
       "    .dataframe tbody tr th:only-of-type {\n",
       "        vertical-align: middle;\n",
       "    }\n",
       "\n",
       "    .dataframe tbody tr th {\n",
       "        vertical-align: top;\n",
       "    }\n",
       "\n",
       "    .dataframe thead th {\n",
       "        text-align: right;\n",
       "    }\n",
       "</style>\n",
       "<table border=\"1\" class=\"dataframe\">\n",
       "  <thead>\n",
       "    <tr style=\"text-align: right;\">\n",
       "      <th></th>\n",
       "      <th>Country/Region</th>\n",
       "      <th>Cases</th>\n",
       "      <th>Deaths</th>\n",
       "      <th>PCases</th>\n",
       "      <th>PDeaths</th>\n",
       "      <th>Cases (+)</th>\n",
       "      <th>Deaths (+)</th>\n",
       "      <th>Fatality Rate</th>\n",
       "      <th>Continent</th>\n",
       "    </tr>\n",
       "  </thead>\n",
       "  <tbody>\n",
       "    <tr>\n",
       "      <th>0</th>\n",
       "      <td>US</td>\n",
       "      <td>29730000</td>\n",
       "      <td>541143</td>\n",
       "      <td>29668587</td>\n",
       "      <td>539698</td>\n",
       "      <td>61413</td>\n",
       "      <td>1445</td>\n",
       "      <td>1.8</td>\n",
       "      <td>North America</td>\n",
       "    </tr>\n",
       "    <tr>\n",
       "      <th>1</th>\n",
       "      <td>Brazil</td>\n",
       "      <td>11871390</td>\n",
       "      <td>290314</td>\n",
       "      <td>11780820</td>\n",
       "      <td>287499</td>\n",
       "      <td>90570</td>\n",
       "      <td>2815</td>\n",
       "      <td>2.4</td>\n",
       "      <td>South America</td>\n",
       "    </tr>\n",
       "    <tr>\n",
       "      <th>2</th>\n",
       "      <td>India</td>\n",
       "      <td>11555284</td>\n",
       "      <td>159558</td>\n",
       "      <td>11514331</td>\n",
       "      <td>159370</td>\n",
       "      <td>40953</td>\n",
       "      <td>188</td>\n",
       "      <td>1.4</td>\n",
       "      <td>Asia</td>\n",
       "    </tr>\n",
       "    <tr>\n",
       "      <th>3</th>\n",
       "      <td>Russia</td>\n",
       "      <td>4388268</td>\n",
       "      <td>92704</td>\n",
       "      <td>4378656</td>\n",
       "      <td>92266</td>\n",
       "      <td>9612</td>\n",
       "      <td>438</td>\n",
       "      <td>2.1</td>\n",
       "      <td>Europe</td>\n",
       "    </tr>\n",
       "    <tr>\n",
       "      <th>4</th>\n",
       "      <td>United Kingdom</td>\n",
       "      <td>4299200</td>\n",
       "      <td>126263</td>\n",
       "      <td>4294328</td>\n",
       "      <td>126163</td>\n",
       "      <td>4872</td>\n",
       "      <td>100</td>\n",
       "      <td>2.9</td>\n",
       "      <td>Europe</td>\n",
       "    </tr>\n",
       "  </tbody>\n",
       "</table>\n",
       "</div>"
      ],
      "text/plain": [
       "   Country/Region     Cases  Deaths    PCases  PDeaths  Cases (+)  Deaths (+)  \\\n",
       "0              US  29730000  541143  29668587   539698      61413        1445   \n",
       "1          Brazil  11871390  290314  11780820   287499      90570        2815   \n",
       "2           India  11555284  159558  11514331   159370      40953         188   \n",
       "3          Russia   4388268   92704   4378656    92266       9612         438   \n",
       "4  United Kingdom   4299200  126263   4294328   126163       4872         100   \n",
       "\n",
       "   Fatality Rate      Continent  \n",
       "0            1.8  North America  \n",
       "1            2.4  South America  \n",
       "2            1.4           Asia  \n",
       "3            2.1         Europe  \n",
       "4            2.9         Europe  "
      ]
     },
     "execution_count": 15,
     "metadata": {},
     "output_type": "execute_result"
    }
   ],
   "source": [
    "#hide\n",
    "df_table = (pd.DataFrame(dict(Cases=dfc_cases, Deaths=dfc_deaths, PCases=dfp_cases, PDeaths=dfp_deaths))\n",
    "             .sort_values(by=['Cases', 'Deaths'], ascending=[False, False])\n",
    "             .reset_index())\n",
    "df_table.rename(columns={'index': 'Country/Region'}, inplace=True)\n",
    "for c in 'Cases, Deaths'.split(', '):\n",
    "    df_table[f'{c} (+)'] = (df_table[c] - df_table[f'P{c}']).clip(0)  # DATA BUG\n",
    "df_table['Fatality Rate'] = (100 * df_table['Deaths'] / df_table['Cases']).round(1)\n",
    "df_table['Continent'] = df_table['Country/Region'].map(mapping['map.continent'])\n",
    "df_table.head(5)"
   ]
  },
  {
   "cell_type": "code",
   "execution_count": 16,
   "id": "fewer-occasion",
   "metadata": {
    "execution": {
     "iopub.execute_input": "2021-03-20T12:07:27.161728Z",
     "iopub.status.busy": "2021-03-20T12:07:27.161142Z",
     "iopub.status.idle": "2021-03-20T12:07:27.164993Z",
     "shell.execute_reply": "2021-03-20T12:07:27.164426Z"
    },
    "papermill": {
     "duration": 0.044398,
     "end_time": "2021-03-20T12:07:27.165128",
     "exception": false,
     "start_time": "2021-03-20T12:07:27.120730",
     "status": "completed"
    },
    "tags": []
   },
   "outputs": [],
   "source": [
    "#hide\n",
    "#delete problematic countries from table\n",
    "df_table = df_table[~df_table['Country/Region'].isin(['Cape Verde', 'Cruise Ship', 'Kosovo'])]"
   ]
  },
  {
   "cell_type": "code",
   "execution_count": 17,
   "id": "related-center",
   "metadata": {
    "execution": {
     "iopub.execute_input": "2021-03-20T12:07:27.264482Z",
     "iopub.status.busy": "2021-03-20T12:07:27.263729Z",
     "iopub.status.idle": "2021-03-20T12:07:27.265133Z",
     "shell.execute_reply": "2021-03-20T12:07:27.265875Z"
    },
    "papermill": {
     "duration": 0.058895,
     "end_time": "2021-03-20T12:07:27.266026",
     "exception": false,
     "start_time": "2021-03-20T12:07:27.207131",
     "status": "completed"
    },
    "tags": []
   },
   "outputs": [],
   "source": [
    "#hide\n",
    "metrics = [df_table.columns[index] for index in [1,2,5,6]]\n",
    "# s_china = df_table[df_table['Country/Region'].eq('China')][metrics].sum().add_prefix('China ')\n",
    "s_us = df_table[df_table['Country/Region'].eq('US')][metrics].sum().add_prefix('US ')\n",
    "s_eu = df_table[df_table['Continent'].eq('Europe')][metrics].sum().add_prefix('EU ')\n",
    "s_ind = df_table[df_table['Country/Region'].eq('India')][metrics].sum().add_prefix('India ')\n",
    "summary = {'updated': pd.to_datetime(dt_today), 'since': pd.to_datetime(dt_yday)}\n",
    "summary = {'updated': pd.to_datetime(dt_today), 'since': pd.to_datetime(dt_yday)}\n",
    "summary = {**summary, **df_table[metrics].sum(), **s_ind, **s_us, **s_eu}"
   ]
  },
  {
   "cell_type": "code",
   "execution_count": 18,
   "id": "engaging-syndrome",
   "metadata": {
    "execution": {
     "iopub.execute_input": "2021-03-20T12:07:27.347861Z",
     "iopub.status.busy": "2021-03-20T12:07:27.347256Z",
     "iopub.status.idle": "2021-03-20T12:07:27.358374Z",
     "shell.execute_reply": "2021-03-20T12:07:27.357747Z"
    },
    "papermill": {
     "duration": 0.055985,
     "end_time": "2021-03-20T12:07:27.358532",
     "exception": false,
     "start_time": "2021-03-20T12:07:27.302547",
     "status": "completed"
    },
    "tags": []
   },
   "outputs": [],
   "source": [
    "#hide\n",
    "dft_ct_new_cases = dft_cases.groupby(COL_REGION)[dt_cols].sum().diff(axis=1).fillna(0).astype(int)"
   ]
  },
  {
   "cell_type": "code",
   "execution_count": 19,
   "id": "neutral-assignment",
   "metadata": {
    "execution": {
     "iopub.execute_input": "2021-03-20T12:07:27.437100Z",
     "iopub.status.busy": "2021-03-20T12:07:27.436496Z",
     "iopub.status.idle": "2021-03-20T12:07:27.438342Z",
     "shell.execute_reply": "2021-03-20T12:07:27.438882Z"
    },
    "papermill": {
     "duration": 0.04366,
     "end_time": "2021-03-20T12:07:27.439019",
     "exception": false,
     "start_time": "2021-03-20T12:07:27.395359",
     "status": "completed"
    },
    "tags": []
   },
   "outputs": [],
   "source": [
    "#hide\n",
    "everydaycases = dft_ct_new_cases.cumsum(axis=1)"
   ]
  },
  {
   "cell_type": "code",
   "execution_count": 20,
   "id": "parliamentary-calgary",
   "metadata": {
    "execution": {
     "iopub.execute_input": "2021-03-20T12:07:27.513566Z",
     "iopub.status.busy": "2021-03-20T12:07:27.512957Z",
     "iopub.status.idle": "2021-03-20T12:07:29.247462Z",
     "shell.execute_reply": "2021-03-20T12:07:29.246954Z"
    },
    "papermill": {
     "duration": 1.773606,
     "end_time": "2021-03-20T12:07:29.247586",
     "exception": false,
     "start_time": "2021-03-20T12:07:27.473980",
     "status": "completed"
    },
    "tags": []
   },
   "outputs": [],
   "source": [
    "#hide\n",
    "import pandas as pd\n",
    "import matplotlib.pyplot as plt\n",
    "import matplotlib.ticker as ticker\n",
    "import matplotlib.animation as animation\n",
    "from IPython.display import HTML"
   ]
  },
  {
   "cell_type": "code",
   "execution_count": 21,
   "id": "lasting-extraction",
   "metadata": {
    "execution": {
     "iopub.execute_input": "2021-03-20T12:07:29.335117Z",
     "iopub.status.busy": "2021-03-20T12:07:29.334455Z",
     "iopub.status.idle": "2021-03-20T12:07:29.340695Z",
     "shell.execute_reply": "2021-03-20T12:07:29.340219Z"
    },
    "papermill": {
     "duration": 0.047266,
     "end_time": "2021-03-20T12:07:29.340828",
     "exception": false,
     "start_time": "2021-03-20T12:07:29.293562",
     "status": "completed"
    },
    "tags": []
   },
   "outputs": [],
   "source": [
    "#hide\n",
    "t = everydaycases.stack()"
   ]
  },
  {
   "cell_type": "code",
   "execution_count": 22,
   "id": "premier-sleeve",
   "metadata": {
    "execution": {
     "iopub.execute_input": "2021-03-20T12:07:29.416251Z",
     "iopub.status.busy": "2021-03-20T12:07:29.415655Z",
     "iopub.status.idle": "2021-03-20T12:07:29.424401Z",
     "shell.execute_reply": "2021-03-20T12:07:29.424919Z"
    },
    "papermill": {
     "duration": 0.049228,
     "end_time": "2021-03-20T12:07:29.425078",
     "exception": false,
     "start_time": "2021-03-20T12:07:29.375850",
     "status": "completed"
    },
    "tags": []
   },
   "outputs": [],
   "source": [
    "#hide\n",
    "g = t.reset_index(['Country/Region'])"
   ]
  },
  {
   "cell_type": "code",
   "execution_count": 23,
   "id": "distributed-pittsburgh",
   "metadata": {
    "execution": {
     "iopub.execute_input": "2021-03-20T12:07:29.499581Z",
     "iopub.status.busy": "2021-03-20T12:07:29.498963Z",
     "iopub.status.idle": "2021-03-20T12:07:29.501315Z",
     "shell.execute_reply": "2021-03-20T12:07:29.500816Z"
    },
    "papermill": {
     "duration": 0.04109,
     "end_time": "2021-03-20T12:07:29.501435",
     "exception": false,
     "start_time": "2021-03-20T12:07:29.460345",
     "status": "completed"
    },
    "tags": []
   },
   "outputs": [],
   "source": [
    "#hide\n",
    "g.index.name = 'date'"
   ]
  },
  {
   "cell_type": "code",
   "execution_count": 24,
   "id": "naked-donor",
   "metadata": {
    "execution": {
     "iopub.execute_input": "2021-03-20T12:07:29.576738Z",
     "iopub.status.busy": "2021-03-20T12:07:29.576110Z",
     "iopub.status.idle": "2021-03-20T12:07:29.578880Z",
     "shell.execute_reply": "2021-03-20T12:07:29.579329Z"
    },
    "papermill": {
     "duration": 0.043103,
     "end_time": "2021-03-20T12:07:29.579475",
     "exception": false,
     "start_time": "2021-03-20T12:07:29.536372",
     "status": "completed"
    },
    "tags": []
   },
   "outputs": [],
   "source": [
    "# #hide\n",
    "# g = g.reset_index(['date'])"
   ]
  },
  {
   "cell_type": "code",
   "execution_count": 25,
   "id": "incomplete-mustang",
   "metadata": {
    "execution": {
     "iopub.execute_input": "2021-03-20T12:07:29.653774Z",
     "iopub.status.busy": "2021-03-20T12:07:29.653175Z",
     "iopub.status.idle": "2021-03-20T12:07:29.655452Z",
     "shell.execute_reply": "2021-03-20T12:07:29.654951Z"
    },
    "papermill": {
     "duration": 0.040853,
     "end_time": "2021-03-20T12:07:29.655579",
     "exception": false,
     "start_time": "2021-03-20T12:07:29.614726",
     "status": "completed"
    },
    "tags": []
   },
   "outputs": [],
   "source": [
    "#hide\n",
    "# g.head()"
   ]
  },
  {
   "cell_type": "code",
   "execution_count": 26,
   "id": "specific-kruger",
   "metadata": {
    "execution": {
     "iopub.execute_input": "2021-03-20T12:07:29.729913Z",
     "iopub.status.busy": "2021-03-20T12:07:29.729245Z",
     "iopub.status.idle": "2021-03-20T12:07:29.731761Z",
     "shell.execute_reply": "2021-03-20T12:07:29.731167Z"
    },
    "papermill": {
     "duration": 0.041128,
     "end_time": "2021-03-20T12:07:29.731888",
     "exception": false,
     "start_time": "2021-03-20T12:07:29.690760",
     "status": "completed"
    },
    "tags": []
   },
   "outputs": [],
   "source": [
    "#hide\n",
    "# g.columns = ['date','country','cases']"
   ]
  },
  {
   "cell_type": "code",
   "execution_count": 27,
   "id": "tender-conversion",
   "metadata": {
    "execution": {
     "iopub.execute_input": "2021-03-20T12:07:29.811422Z",
     "iopub.status.busy": "2021-03-20T12:07:29.810814Z",
     "iopub.status.idle": "2021-03-20T12:07:29.812746Z",
     "shell.execute_reply": "2021-03-20T12:07:29.813319Z"
    },
    "papermill": {
     "duration": 0.041599,
     "end_time": "2021-03-20T12:07:29.813465",
     "exception": false,
     "start_time": "2021-03-20T12:07:29.771866",
     "status": "completed"
    },
    "tags": []
   },
   "outputs": [],
   "source": [
    "#hide\n",
    "# g['continent'] = g.country"
   ]
  },
  {
   "cell_type": "code",
   "execution_count": 28,
   "id": "substantial-wilderness",
   "metadata": {
    "execution": {
     "iopub.execute_input": "2021-03-20T12:07:29.888019Z",
     "iopub.status.busy": "2021-03-20T12:07:29.887218Z",
     "iopub.status.idle": "2021-03-20T12:07:29.891756Z",
     "shell.execute_reply": "2021-03-20T12:07:29.890692Z"
    },
    "papermill": {
     "duration": 0.043461,
     "end_time": "2021-03-20T12:07:29.891900",
     "exception": false,
     "start_time": "2021-03-20T12:07:29.848439",
     "status": "completed"
    },
    "tags": []
   },
   "outputs": [],
   "source": [
    "#hide\n",
    "# cols = list(g.columns.values)"
   ]
  },
  {
   "cell_type": "code",
   "execution_count": 29,
   "id": "solved-farming",
   "metadata": {
    "execution": {
     "iopub.execute_input": "2021-03-20T12:07:29.966187Z",
     "iopub.status.busy": "2021-03-20T12:07:29.965583Z",
     "iopub.status.idle": "2021-03-20T12:07:29.967890Z",
     "shell.execute_reply": "2021-03-20T12:07:29.967395Z"
    },
    "papermill": {
     "duration": 0.040989,
     "end_time": "2021-03-20T12:07:29.968013",
     "exception": false,
     "start_time": "2021-03-20T12:07:29.927024",
     "status": "completed"
    },
    "tags": []
   },
   "outputs": [],
   "source": [
    "#hide\n",
    "# cols.insert(0, cols.pop())"
   ]
  },
  {
   "cell_type": "code",
   "execution_count": 30,
   "id": "executed-adoption",
   "metadata": {
    "execution": {
     "iopub.execute_input": "2021-03-20T12:07:30.044634Z",
     "iopub.status.busy": "2021-03-20T12:07:30.044049Z",
     "iopub.status.idle": "2021-03-20T12:07:30.045990Z",
     "shell.execute_reply": "2021-03-20T12:07:30.046522Z"
    },
    "papermill": {
     "duration": 0.043319,
     "end_time": "2021-03-20T12:07:30.046675",
     "exception": false,
     "start_time": "2021-03-20T12:07:30.003356",
     "status": "completed"
    },
    "tags": []
   },
   "outputs": [],
   "source": [
    "#hide\n",
    "# g = g[cols]"
   ]
  },
  {
   "cell_type": "code",
   "execution_count": 31,
   "id": "subject-dublin",
   "metadata": {
    "execution": {
     "iopub.execute_input": "2021-03-20T12:07:30.121117Z",
     "iopub.status.busy": "2021-03-20T12:07:30.120516Z",
     "iopub.status.idle": "2021-03-20T12:07:30.122936Z",
     "shell.execute_reply": "2021-03-20T12:07:30.122364Z"
    },
    "papermill": {
     "duration": 0.041063,
     "end_time": "2021-03-20T12:07:30.123058",
     "exception": false,
     "start_time": "2021-03-20T12:07:30.081995",
     "status": "completed"
    },
    "tags": []
   },
   "outputs": [],
   "source": [
    "#hide\n",
    "# g['continent'] = g['continent'].map(mapping['map.continent'])"
   ]
  },
  {
   "cell_type": "code",
   "execution_count": 32,
   "id": "freelance-scout",
   "metadata": {
    "execution": {
     "iopub.execute_input": "2021-03-20T12:07:30.197360Z",
     "iopub.status.busy": "2021-03-20T12:07:30.196776Z",
     "iopub.status.idle": "2021-03-20T12:07:30.198756Z",
     "shell.execute_reply": "2021-03-20T12:07:30.199255Z"
    },
    "papermill": {
     "duration": 0.041312,
     "end_time": "2021-03-20T12:07:30.199399",
     "exception": false,
     "start_time": "2021-03-20T12:07:30.158087",
     "status": "completed"
    },
    "tags": []
   },
   "outputs": [],
   "source": [
    "#hide\n",
    "# g.head()"
   ]
  },
  {
   "cell_type": "code",
   "execution_count": 33,
   "id": "limited-engine",
   "metadata": {
    "execution": {
     "iopub.execute_input": "2021-03-20T12:07:30.275097Z",
     "iopub.status.busy": "2021-03-20T12:07:30.274502Z",
     "iopub.status.idle": "2021-03-20T12:07:30.276532Z",
     "shell.execute_reply": "2021-03-20T12:07:30.277122Z"
    },
    "papermill": {
     "duration": 0.042967,
     "end_time": "2021-03-20T12:07:30.277263",
     "exception": false,
     "start_time": "2021-03-20T12:07:30.234296",
     "status": "completed"
    },
    "tags": []
   },
   "outputs": [],
   "source": [
    "# hide\n",
    "# g['date'] = g['date'].astype('datetime64[ns]')"
   ]
  },
  {
   "cell_type": "code",
   "execution_count": 34,
   "id": "sophisticated-supervisor",
   "metadata": {
    "execution": {
     "iopub.execute_input": "2021-03-20T12:07:30.351305Z",
     "iopub.status.busy": "2021-03-20T12:07:30.350712Z",
     "iopub.status.idle": "2021-03-20T12:07:30.353227Z",
     "shell.execute_reply": "2021-03-20T12:07:30.352729Z"
    },
    "papermill": {
     "duration": 0.041226,
     "end_time": "2021-03-20T12:07:30.353348",
     "exception": false,
     "start_time": "2021-03-20T12:07:30.312122",
     "status": "completed"
    },
    "tags": []
   },
   "outputs": [],
   "source": [
    "#hide\n",
    "# g['date'] = g.date.dt.dayofyear"
   ]
  },
  {
   "cell_type": "code",
   "execution_count": 35,
   "id": "inside-dubai",
   "metadata": {
    "execution": {
     "iopub.execute_input": "2021-03-20T12:07:30.427920Z",
     "iopub.status.busy": "2021-03-20T12:07:30.427269Z",
     "iopub.status.idle": "2021-03-20T12:07:30.429578Z",
     "shell.execute_reply": "2021-03-20T12:07:30.428948Z"
    },
    "papermill": {
     "duration": 0.041204,
     "end_time": "2021-03-20T12:07:30.429699",
     "exception": false,
     "start_time": "2021-03-20T12:07:30.388495",
     "status": "completed"
    },
    "tags": []
   },
   "outputs": [],
   "source": [
    "#hide\n",
    "# g = g.rename(columns= {'continent':'group','country':'name','cases':'value'})"
   ]
  },
  {
   "cell_type": "code",
   "execution_count": 36,
   "id": "fleet-motorcycle",
   "metadata": {
    "execution": {
     "iopub.execute_input": "2021-03-20T12:07:30.513123Z",
     "iopub.status.busy": "2021-03-20T12:07:30.512500Z",
     "iopub.status.idle": "2021-03-20T12:07:30.515486Z",
     "shell.execute_reply": "2021-03-20T12:07:30.515007Z"
    },
    "papermill": {
     "duration": 0.045681,
     "end_time": "2021-03-20T12:07:30.515630",
     "exception": false,
     "start_time": "2021-03-20T12:07:30.469949",
     "status": "completed"
    },
    "tags": []
   },
   "outputs": [],
   "source": [
    "#hide\n",
    "# cols = ['name','group','day','value']"
   ]
  },
  {
   "cell_type": "code",
   "execution_count": 37,
   "id": "continued-sleeping",
   "metadata": {
    "execution": {
     "iopub.execute_input": "2021-03-20T12:07:30.590178Z",
     "iopub.status.busy": "2021-03-20T12:07:30.589557Z",
     "iopub.status.idle": "2021-03-20T12:07:30.591787Z",
     "shell.execute_reply": "2021-03-20T12:07:30.592294Z"
    },
    "papermill": {
     "duration": 0.041639,
     "end_time": "2021-03-20T12:07:30.592431",
     "exception": false,
     "start_time": "2021-03-20T12:07:30.550792",
     "status": "completed"
    },
    "tags": []
   },
   "outputs": [],
   "source": [
    "#hide\n",
    "# g.rename(columns= {'date':'day'},inplace = True)"
   ]
  },
  {
   "cell_type": "code",
   "execution_count": 38,
   "id": "major-fight",
   "metadata": {
    "execution": {
     "iopub.execute_input": "2021-03-20T12:07:30.667361Z",
     "iopub.status.busy": "2021-03-20T12:07:30.666767Z",
     "iopub.status.idle": "2021-03-20T12:07:30.668523Z",
     "shell.execute_reply": "2021-03-20T12:07:30.669048Z"
    },
    "papermill": {
     "duration": 0.041175,
     "end_time": "2021-03-20T12:07:30.669195",
     "exception": false,
     "start_time": "2021-03-20T12:07:30.628020",
     "status": "completed"
    },
    "tags": []
   },
   "outputs": [],
   "source": [
    "#hide\n",
    "# g = g[cols]"
   ]
  },
  {
   "cell_type": "code",
   "execution_count": 39,
   "id": "structured-mobile",
   "metadata": {
    "execution": {
     "iopub.execute_input": "2021-03-20T12:07:30.744313Z",
     "iopub.status.busy": "2021-03-20T12:07:30.743623Z",
     "iopub.status.idle": "2021-03-20T12:07:30.747552Z",
     "shell.execute_reply": "2021-03-20T12:07:30.747028Z"
    },
    "papermill": {
     "duration": 0.043489,
     "end_time": "2021-03-20T12:07:30.747674",
     "exception": false,
     "start_time": "2021-03-20T12:07:30.704185",
     "status": "completed"
    },
    "tags": []
   },
   "outputs": [],
   "source": [
    "# #hide\n",
    "# g = g[g.group.notna()]"
   ]
  },
  {
   "cell_type": "code",
   "execution_count": 40,
   "id": "determined-closing",
   "metadata": {
    "execution": {
     "iopub.execute_input": "2021-03-20T12:07:30.828117Z",
     "iopub.status.busy": "2021-03-20T12:07:30.827494Z",
     "iopub.status.idle": "2021-03-20T12:07:30.831469Z",
     "shell.execute_reply": "2021-03-20T12:07:30.830021Z"
    },
    "papermill": {
     "duration": 0.043076,
     "end_time": "2021-03-20T12:07:30.831635",
     "exception": false,
     "start_time": "2021-03-20T12:07:30.788559",
     "status": "completed"
    },
    "tags": []
   },
   "outputs": [],
   "source": [
    "# #hide\n",
    "# colors = dict(zip(\n",
    "#     [\"Oceania\", \"Europe\", \"Asia\", \"South America\", \"Middle East\", \"North America\", \"Africa\"],\n",
    "#     [\"#adb0ff\", \"#ffb3ff\", \"#90d595\", \"#e48381\", \"#aafbff\", \"#f7bb5f\", \"#eafb50\"]\n",
    "# ))\n",
    "# group_lk = g.set_index('name')['group'].to_dict()"
   ]
  },
  {
   "cell_type": "code",
   "execution_count": null,
   "id": "gross-drinking",
   "metadata": {
    "papermill": {
     "duration": 0.034899,
     "end_time": "2021-03-20T12:07:30.902035",
     "exception": false,
     "start_time": "2021-03-20T12:07:30.867136",
     "status": "completed"
    },
    "tags": []
   },
   "outputs": [],
   "source": []
  },
  {
   "cell_type": "code",
   "execution_count": 41,
   "id": "subject-macintosh",
   "metadata": {
    "execution": {
     "iopub.execute_input": "2021-03-20T12:07:30.977181Z",
     "iopub.status.busy": "2021-03-20T12:07:30.976573Z",
     "iopub.status.idle": "2021-03-20T12:07:30.978759Z",
     "shell.execute_reply": "2021-03-20T12:07:30.979238Z"
    },
    "papermill": {
     "duration": 0.042017,
     "end_time": "2021-03-20T12:07:30.979381",
     "exception": false,
     "start_time": "2021-03-20T12:07:30.937364",
     "status": "completed"
    },
    "tags": []
   },
   "outputs": [],
   "source": [
    "# #hide\n",
    "# fig, ax = plt.subplots(figsize=(15, 8))\n",
    "\n",
    "# def draw_barchart(current_day):\n",
    "#     dff = g[g['day'].eq(current_day)].sort_values(by='value', ascending=True).tail(10)\n",
    "#     ax.clear()\n",
    "#     ax.barh(dff['name'], dff['value'], color=[colors[group_lk[x]] for x in dff['name']])\n",
    "#     dx = dff['value'].max() / 200\n",
    "    \n",
    "#     for i, (value, name) in enumerate(zip(dff['value'], dff['name'])):\n",
    "#         ax.text(value-dx, i,     name,           size=14, weight=600, ha='right', va='bottom')\n",
    "#         ax.text(value-dx, i-.25, group_lk[name], size=10, color='#444444', ha='right', va='baseline')\n",
    "#         ax.text(value+dx, i,     f'{value:,.0f}',  size=14, ha='left',  va='center')\n",
    "#     ax.text(1, 0.4, current_day, transform=ax.transAxes, color='#777777', size=46, ha='right', weight=800)\n",
    "#     ax.text(0, 1.06, 'Population (thousands)', transform=ax.transAxes, size=12, color='#777777')\n",
    "#     ax.xaxis.set_major_formatter(ticker.StrMethodFormatter('{x:,.0f}'))\n",
    "#     ax.xaxis.set_ticks_position('top')\n",
    "#     ax.tick_params(axis='x', colors='#777777', labelsize=12)\n",
    "#     ax.set_yticks([])\n",
    "#     ax.margins(0, 0.01)\n",
    "#     ax.grid(which='major', axis='x', linestyle='-')\n",
    "#     ax.set_axisbelow(True)\n",
    "    \n",
    "#     ax.text(0, 1.15, 'Coronavirus',\n",
    "#             transform=ax.transAxes, size=24, weight=600, ha='left', va='top')\n",
    "# #     ax.text(1, 0, 'by @pratapvardhan; credit @jburnmurdoch', transform=ax.transAxes, color='#777777', ha='right',\n",
    "# #             bbox=dict(facecolor='white', alpha=0.8, edgecolor='white'))\n",
    "#     plt.box(False)"
   ]
  },
  {
   "cell_type": "code",
   "execution_count": 42,
   "id": "sexual-wages",
   "metadata": {
    "execution": {
     "iopub.execute_input": "2021-03-20T12:07:31.056847Z",
     "iopub.status.busy": "2021-03-20T12:07:31.056195Z",
     "iopub.status.idle": "2021-03-20T12:07:31.058861Z",
     "shell.execute_reply": "2021-03-20T12:07:31.058304Z"
    },
    "papermill": {
     "duration": 0.0448,
     "end_time": "2021-03-20T12:07:31.058988",
     "exception": false,
     "start_time": "2021-03-20T12:07:31.014188",
     "status": "completed"
    },
    "tags": []
   },
   "outputs": [],
   "source": [
    "# #hide_input\n",
    "# fig, ax = plt.subplots(figsize=(15, 8))\n",
    "# animator = animation.FuncAnimation(fig, draw_barchart, frames=range(g.day.values.min(), g.day.values.max()))\n",
    "# HTML(animator.to_jshtml())\n",
    "# # or use animator.to_html5_video() or animator.save() "
   ]
  },
  {
   "cell_type": "code",
   "execution_count": null,
   "id": "australian-container",
   "metadata": {
    "papermill": {
     "duration": 0.035122,
     "end_time": "2021-03-20T12:07:31.129217",
     "exception": false,
     "start_time": "2021-03-20T12:07:31.094095",
     "status": "completed"
    },
    "tags": []
   },
   "outputs": [],
   "source": []
  },
  {
   "cell_type": "code",
   "execution_count": null,
   "id": "mediterranean-pontiac",
   "metadata": {
    "papermill": {
     "duration": 0.03486,
     "end_time": "2021-03-20T12:07:31.199023",
     "exception": false,
     "start_time": "2021-03-20T12:07:31.164163",
     "status": "completed"
    },
    "tags": []
   },
   "outputs": [],
   "source": []
  },
  {
   "cell_type": "code",
   "execution_count": null,
   "id": "aging-legislature",
   "metadata": {
    "papermill": {
     "duration": 0.035427,
     "end_time": "2021-03-20T12:07:31.269506",
     "exception": false,
     "start_time": "2021-03-20T12:07:31.234079",
     "status": "completed"
    },
    "tags": []
   },
   "outputs": [],
   "source": []
  }
 ],
 "metadata": {
  "kernelspec": {
   "display_name": "Python 3",
   "language": "python",
   "name": "python3"
  },
  "language_info": {
   "codemirror_mode": {
    "name": "ipython",
    "version": 3
   },
   "file_extension": ".py",
   "mimetype": "text/x-python",
   "name": "python",
   "nbconvert_exporter": "python",
   "pygments_lexer": "ipython3",
   "version": "3.6.13"
  },
  "papermill": {
   "duration": 7.847897,
   "end_time": "2021-03-20T12:07:31.712110",
   "environment_variables": {},
   "exception": null,
   "input_path": "2020-03-21-covid19exp.ipynb",
   "output_path": "2020-03-21-covid19exp.ipynb",
   "parameters": {},
   "start_time": "2021-03-20T12:07:23.864213",
   "version": "2.0.0"
  }
 },
 "nbformat": 4,
 "nbformat_minor": 5
}