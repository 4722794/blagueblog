{
 "cells": [
  {
   "cell_type": "markdown",
   "id": "muslim-click",
   "metadata": {
    "papermill": {
     "duration": 0.040147,
     "end_time": "2021-08-08T00:21:54.388193",
     "exception": false,
     "start_time": "2021-08-08T00:21:54.348046",
     "status": "completed"
    },
    "tags": []
   },
   "source": [
    "# COVID-19 Case Race\n",
    "> A race chart to see rising cases around the world\n",
    "\n",
    "- author: Hargun Oberoi\n",
    "- image: images/covid-overview.png\n",
    "- hide: false\n",
    "- badges: false"
   ]
  },
  {
   "cell_type": "code",
   "execution_count": 1,
   "id": "proof-material",
   "metadata": {
    "execution": {
     "iopub.execute_input": "2021-08-08T00:21:54.473649Z",
     "iopub.status.busy": "2021-08-08T00:21:54.473021Z",
     "iopub.status.idle": "2021-08-08T00:21:54.844116Z",
     "shell.execute_reply": "2021-08-08T00:21:54.843320Z"
    },
    "papermill": {
     "duration": 0.420266,
     "end_time": "2021-08-08T00:21:54.844269",
     "exception": false,
     "start_time": "2021-08-08T00:21:54.424003",
     "status": "completed"
    },
    "tags": []
   },
   "outputs": [],
   "source": [
    "#hide\n",
    "import numpy as np\n",
    "import pandas as pd\n",
    "from jinja2 import Template\n",
    "from IPython.display import HTML"
   ]
  },
  {
   "cell_type": "code",
   "execution_count": 2,
   "id": "developed-terminology",
   "metadata": {
    "execution": {
     "iopub.execute_input": "2021-08-08T00:21:54.930120Z",
     "iopub.status.busy": "2021-08-08T00:21:54.929299Z",
     "iopub.status.idle": "2021-08-08T00:21:54.931688Z",
     "shell.execute_reply": "2021-08-08T00:21:54.931079Z"
    },
    "papermill": {
     "duration": 0.05025,
     "end_time": "2021-08-08T00:21:54.931846",
     "exception": false,
     "start_time": "2021-08-08T00:21:54.881596",
     "status": "completed"
    },
    "tags": []
   },
   "outputs": [],
   "source": [
    "#hide\n",
    "\n",
    "# FETCH\n",
    "base_url = 'https://raw.githubusercontent.com/pratapvardhan/notebooks/master/covid19/'\n",
    "paths = {\n",
    "    'mapping': base_url + 'mapping_countries.csv',\n",
    "    'overview': base_url + 'overview.tpl'\n",
    "}"
   ]
  },
  {
   "cell_type": "code",
   "execution_count": 3,
   "id": "dynamic-saver",
   "metadata": {
    "execution": {
     "iopub.execute_input": "2021-08-08T00:21:55.016004Z",
     "iopub.status.busy": "2021-08-08T00:21:55.014991Z",
     "iopub.status.idle": "2021-08-08T00:21:55.018838Z",
     "shell.execute_reply": "2021-08-08T00:21:55.018354Z"
    },
    "papermill": {
     "duration": 0.04997,
     "end_time": "2021-08-08T00:21:55.018985",
     "exception": false,
     "start_time": "2021-08-08T00:21:54.969015",
     "status": "completed"
    },
    "tags": []
   },
   "outputs": [
    {
     "data": {
      "text/plain": [
       "'https://raw.githubusercontent.com/pratapvardhan/notebooks/master/covid19/mapping_countries.csv'"
      ]
     },
     "execution_count": 3,
     "metadata": {},
     "output_type": "execute_result"
    }
   ],
   "source": [
    "#hide\n",
    "paths['mapping']"
   ]
  },
  {
   "cell_type": "code",
   "execution_count": 4,
   "id": "urban-software",
   "metadata": {
    "execution": {
     "iopub.execute_input": "2021-08-08T00:21:55.090822Z",
     "iopub.status.busy": "2021-08-08T00:21:55.090202Z",
     "iopub.status.idle": "2021-08-08T00:21:55.093013Z",
     "shell.execute_reply": "2021-08-08T00:21:55.092466Z"
    },
    "papermill": {
     "duration": 0.040219,
     "end_time": "2021-08-08T00:21:55.093119",
     "exception": false,
     "start_time": "2021-08-08T00:21:55.052900",
     "status": "completed"
    },
    "tags": []
   },
   "outputs": [],
   "source": [
    "#hide\n",
    "def get_mappings(url):\n",
    "    df = pd.read_csv(url)\n",
    "    return {\n",
    "        'df': df,\n",
    "        'replace.country': dict(df.dropna(subset=['Name']).set_index('Country')['Name']),\n",
    "        'map.continent': dict(df.set_index('Name')['Continent'])\n",
    "    }"
   ]
  },
  {
   "cell_type": "code",
   "execution_count": 5,
   "id": "intimate-machinery",
   "metadata": {
    "execution": {
     "iopub.execute_input": "2021-08-08T00:21:55.171276Z",
     "iopub.status.busy": "2021-08-08T00:21:55.170632Z",
     "iopub.status.idle": "2021-08-08T00:21:55.212753Z",
     "shell.execute_reply": "2021-08-08T00:21:55.213405Z"
    },
    "papermill": {
     "duration": 0.0839,
     "end_time": "2021-08-08T00:21:55.213542",
     "exception": false,
     "start_time": "2021-08-08T00:21:55.129642",
     "status": "completed"
    },
    "tags": []
   },
   "outputs": [],
   "source": [
    "#hide\n",
    "mapping = get_mappings(paths['mapping'])"
   ]
  },
  {
   "cell_type": "code",
   "execution_count": 6,
   "id": "certified-tactics",
   "metadata": {
    "execution": {
     "iopub.execute_input": "2021-08-08T00:21:55.290023Z",
     "iopub.status.busy": "2021-08-08T00:21:55.289466Z",
     "iopub.status.idle": "2021-08-08T00:21:55.291192Z",
     "shell.execute_reply": "2021-08-08T00:21:55.291698Z"
    },
    "papermill": {
     "duration": 0.042814,
     "end_time": "2021-08-08T00:21:55.291815",
     "exception": false,
     "start_time": "2021-08-08T00:21:55.249001",
     "status": "completed"
    },
    "tags": []
   },
   "outputs": [],
   "source": [
    "#hide\n",
    "def get_template(path):\n",
    "    from urllib.parse import urlparse\n",
    "    if bool(urlparse(path).netloc):\n",
    "        from urllib.request import urlopen\n",
    "        return urlopen(path).read().decode('utf8')\n",
    "    return open(path).read()"
   ]
  },
  {
   "cell_type": "code",
   "execution_count": 7,
   "id": "realistic-blast",
   "metadata": {
    "execution": {
     "iopub.execute_input": "2021-08-08T00:21:55.366670Z",
     "iopub.status.busy": "2021-08-08T00:21:55.366024Z",
     "iopub.status.idle": "2021-08-08T00:21:55.368778Z",
     "shell.execute_reply": "2021-08-08T00:21:55.368271Z"
    },
    "papermill": {
     "duration": 0.042331,
     "end_time": "2021-08-08T00:21:55.368907",
     "exception": false,
     "start_time": "2021-08-08T00:21:55.326576",
     "status": "completed"
    },
    "tags": []
   },
   "outputs": [],
   "source": [
    "#hide\n",
    "def get_frame(name):\n",
    "    url = (\n",
    "        'https://raw.githubusercontent.com/CSSEGISandData/COVID-19/master/csse_covid_19_data/'\n",
    "        f'csse_covid_19_time_series/time_series_covid19_{name}_global.csv')\n",
    "    df = pd.read_csv(url)\n",
    "    # rename countries\n",
    "    df['Country/Region'] = df['Country/Region'].replace(mapping['replace.country'])\n",
    "    return df"
   ]
  },
  {
   "cell_type": "code",
   "execution_count": 8,
   "id": "affiliated-characterization",
   "metadata": {
    "execution": {
     "iopub.execute_input": "2021-08-08T00:21:55.440154Z",
     "iopub.status.busy": "2021-08-08T00:21:55.439244Z",
     "iopub.status.idle": "2021-08-08T00:21:55.441530Z",
     "shell.execute_reply": "2021-08-08T00:21:55.442134Z"
    },
    "papermill": {
     "duration": 0.040097,
     "end_time": "2021-08-08T00:21:55.442291",
     "exception": false,
     "start_time": "2021-08-08T00:21:55.402194",
     "status": "completed"
    },
    "tags": []
   },
   "outputs": [],
   "source": [
    "#hide\n",
    "def get_dates(df):\n",
    "    dt_cols = df.columns[~df.columns.isin(['Province/State', 'Country/Region', 'Lat', 'Long'])]\n",
    "    LAST_DATE_I = -1\n",
    "    # sometimes last column may be empty, then go backwards\n",
    "    for i in range(-1, -len(dt_cols), -1):\n",
    "        if not df[dt_cols[i]].fillna(0).eq(0).all():\n",
    "            LAST_DATE_I = i\n",
    "            break\n",
    "    return LAST_DATE_I, dt_cols"
   ]
  },
  {
   "cell_type": "code",
   "execution_count": 9,
   "id": "recent-optimization",
   "metadata": {
    "execution": {
     "iopub.execute_input": "2021-08-08T00:21:55.512879Z",
     "iopub.status.busy": "2021-08-08T00:21:55.512087Z",
     "iopub.status.idle": "2021-08-08T00:21:55.891995Z",
     "shell.execute_reply": "2021-08-08T00:21:55.891394Z"
    },
    "papermill": {
     "duration": 0.41758,
     "end_time": "2021-08-08T00:21:55.892120",
     "exception": false,
     "start_time": "2021-08-08T00:21:55.474540",
     "status": "completed"
    },
    "tags": []
   },
   "outputs": [],
   "source": [
    "#hide\n",
    "COL_REGION = 'Country/Region'\n",
    "# Confirmed, Recovered, Deaths\n",
    "df = get_frame('confirmed')\n",
    "# dft_: timeseries, dfc_: today country agg\n",
    "dft_cases = df\n",
    "dft_deaths = get_frame('deaths')\n",
    "dft_recovered = get_frame('recovered')\n",
    "LAST_DATE_I, dt_cols = get_dates(df)"
   ]
  },
  {
   "cell_type": "code",
   "execution_count": 10,
   "id": "absolute-copper",
   "metadata": {
    "execution": {
     "iopub.execute_input": "2021-08-08T00:21:55.967899Z",
     "iopub.status.busy": "2021-08-08T00:21:55.967153Z",
     "iopub.status.idle": "2021-08-08T00:21:55.969802Z",
     "shell.execute_reply": "2021-08-08T00:21:55.969061Z"
    },
    "papermill": {
     "duration": 0.042657,
     "end_time": "2021-08-08T00:21:55.969951",
     "exception": false,
     "start_time": "2021-08-08T00:21:55.927294",
     "status": "completed"
    },
    "tags": []
   },
   "outputs": [],
   "source": [
    "#hide\n",
    "LAST_DATE_I, dt_cols = get_dates(df)\n",
    "dt_today =dt_cols[LAST_DATE_I]\n",
    "# dt_5day = dt_cols[LAST_DATE_I - 5]\n",
    "dt_yday = dt_cols[LAST_DATE_I - 1]"
   ]
  },
  {
   "cell_type": "code",
   "execution_count": 11,
   "id": "restricted-sheriff",
   "metadata": {
    "execution": {
     "iopub.execute_input": "2021-08-08T00:21:56.047819Z",
     "iopub.status.busy": "2021-08-08T00:21:56.047199Z",
     "iopub.status.idle": "2021-08-08T00:21:56.055514Z",
     "shell.execute_reply": "2021-08-08T00:21:56.056239Z"
    },
    "papermill": {
     "duration": 0.050285,
     "end_time": "2021-08-08T00:21:56.056408",
     "exception": false,
     "start_time": "2021-08-08T00:21:56.006123",
     "status": "completed"
    },
    "tags": []
   },
   "outputs": [],
   "source": [
    "#hide\n",
    "dfc_cases = dft_cases.groupby(COL_REGION)[dt_today].sum()\n",
    "dfc_deaths = dft_deaths.groupby(COL_REGION)[dt_today].sum()\n",
    "# dfp_cases = dft_cases.groupby(COL_REGION)[dt_5day].sum()\n",
    "# dfp_deaths = dft_deaths.groupby(COL_REGION)[dt_5day].sum()\n",
    "dfp_cases = dft_cases.groupby(COL_REGION)[dt_yday].sum()\n",
    "dfp_deaths = dft_deaths.groupby(COL_REGION)[dt_yday].sum()"
   ]
  },
  {
   "cell_type": "code",
   "execution_count": 12,
   "id": "deluxe-hepatitis",
   "metadata": {
    "execution": {
     "iopub.execute_input": "2021-08-08T00:21:56.135271Z",
     "iopub.status.busy": "2021-08-08T00:21:56.134609Z",
     "iopub.status.idle": "2021-08-08T00:21:56.140134Z",
     "shell.execute_reply": "2021-08-08T00:21:56.139572Z"
    },
    "papermill": {
     "duration": 0.046247,
     "end_time": "2021-08-08T00:21:56.140244",
     "exception": false,
     "start_time": "2021-08-08T00:21:56.093997",
     "status": "completed"
    },
    "tags": []
   },
   "outputs": [],
   "source": [
    "#hide\n",
    "df_table = (pd.DataFrame(dict(Cases = dfc_cases, Deaths = dfc_deaths, PCases = dfp_cases, PDeaths = dfp_deaths))\n",
    "            .sort_values(by = ['Cases','Deaths'], ascending = [False, False])\n",
    "            .reset_index())"
   ]
  },
  {
   "cell_type": "code",
   "execution_count": 13,
   "id": "educational-chancellor",
   "metadata": {
    "execution": {
     "iopub.execute_input": "2021-08-08T00:21:56.233416Z",
     "iopub.status.busy": "2021-08-08T00:21:56.232794Z",
     "iopub.status.idle": "2021-08-08T00:21:56.242107Z",
     "shell.execute_reply": "2021-08-08T00:21:56.241626Z"
    },
    "papermill": {
     "duration": 0.066357,
     "end_time": "2021-08-08T00:21:56.242235",
     "exception": false,
     "start_time": "2021-08-08T00:21:56.175878",
     "status": "completed"
    },
    "tags": []
   },
   "outputs": [
    {
     "data": {
      "text/html": [
       "<div>\n",
       "<style scoped>\n",
       "    .dataframe tbody tr th:only-of-type {\n",
       "        vertical-align: middle;\n",
       "    }\n",
       "\n",
       "    .dataframe tbody tr th {\n",
       "        vertical-align: top;\n",
       "    }\n",
       "\n",
       "    .dataframe thead th {\n",
       "        text-align: right;\n",
       "    }\n",
       "</style>\n",
       "<table border=\"1\" class=\"dataframe\">\n",
       "  <thead>\n",
       "    <tr style=\"text-align: right;\">\n",
       "      <th></th>\n",
       "      <th>Country/Region</th>\n",
       "      <th>Cases</th>\n",
       "      <th>Deaths</th>\n",
       "      <th>PCases</th>\n",
       "      <th>PDeaths</th>\n",
       "      <th>Cases (+)</th>\n",
       "      <th>Deaths (+)</th>\n",
       "      <th>Fatality Rate</th>\n",
       "      <th>Continent</th>\n",
       "    </tr>\n",
       "  </thead>\n",
       "  <tbody>\n",
       "    <tr>\n",
       "      <th>0</th>\n",
       "      <td>US</td>\n",
       "      <td>35695469</td>\n",
       "      <td>616493</td>\n",
       "      <td>35440488</td>\n",
       "      <td>615320</td>\n",
       "      <td>254981</td>\n",
       "      <td>1173</td>\n",
       "      <td>1.73</td>\n",
       "      <td>North America</td>\n",
       "    </tr>\n",
       "    <tr>\n",
       "      <th>1</th>\n",
       "      <td>India</td>\n",
       "      <td>31895385</td>\n",
       "      <td>427371</td>\n",
       "      <td>31856757</td>\n",
       "      <td>426754</td>\n",
       "      <td>38628</td>\n",
       "      <td>617</td>\n",
       "      <td>1.34</td>\n",
       "      <td>Asia</td>\n",
       "    </tr>\n",
       "    <tr>\n",
       "      <th>2</th>\n",
       "      <td>Brazil</td>\n",
       "      <td>20108746</td>\n",
       "      <td>561762</td>\n",
       "      <td>20066587</td>\n",
       "      <td>560706</td>\n",
       "      <td>42159</td>\n",
       "      <td>1056</td>\n",
       "      <td>2.79</td>\n",
       "      <td>South America</td>\n",
       "    </tr>\n",
       "    <tr>\n",
       "      <th>3</th>\n",
       "      <td>France</td>\n",
       "      <td>6325144</td>\n",
       "      <td>112347</td>\n",
       "      <td>6299138</td>\n",
       "      <td>112283</td>\n",
       "      <td>26006</td>\n",
       "      <td>64</td>\n",
       "      <td>1.78</td>\n",
       "      <td>Europe</td>\n",
       "    </tr>\n",
       "    <tr>\n",
       "      <th>4</th>\n",
       "      <td>Russia</td>\n",
       "      <td>6318643</td>\n",
       "      <td>160574</td>\n",
       "      <td>6296570</td>\n",
       "      <td>159803</td>\n",
       "      <td>22073</td>\n",
       "      <td>771</td>\n",
       "      <td>2.54</td>\n",
       "      <td>Europe</td>\n",
       "    </tr>\n",
       "  </tbody>\n",
       "</table>\n",
       "</div>"
      ],
      "text/plain": [
       "  Country/Region     Cases  Deaths    PCases  PDeaths  Cases (+)  Deaths (+)  \\\n",
       "0             US  35695469  616493  35440488   615320     254981        1173   \n",
       "1          India  31895385  427371  31856757   426754      38628         617   \n",
       "2         Brazil  20108746  561762  20066587   560706      42159        1056   \n",
       "3         France   6325144  112347   6299138   112283      26006          64   \n",
       "4         Russia   6318643  160574   6296570   159803      22073         771   \n",
       "\n",
       "   Fatality Rate      Continent  \n",
       "0           1.73  North America  \n",
       "1           1.34           Asia  \n",
       "2           2.79  South America  \n",
       "3           1.78         Europe  \n",
       "4           2.54         Europe  "
      ]
     },
     "execution_count": 13,
     "metadata": {},
     "output_type": "execute_result"
    }
   ],
   "source": [
    "#hide\n",
    "for c in 'Cases, Deaths'.split(', '):\n",
    "    df_table[f'{c} (+)'] = (df_table[c] - df_table[f'P{c}']).clip(0)\n",
    "    #Clip ça veut dire, les chiffres negatif sont interdit\n",
    "df_table['Fatality Rate'] = (100* df_table['Deaths']/ df_table['Cases']).round(2)\n",
    "df_table['Continent'] = df_table['Country/Region'].map(mapping['map.continent'])\n",
    "df_table.head(5)"
   ]
  },
  {
   "cell_type": "code",
   "execution_count": 14,
   "id": "aboriginal-bulgaria",
   "metadata": {
    "execution": {
     "iopub.execute_input": "2021-08-08T00:21:56.317723Z",
     "iopub.status.busy": "2021-08-08T00:21:56.317018Z",
     "iopub.status.idle": "2021-08-08T00:21:56.319915Z",
     "shell.execute_reply": "2021-08-08T00:21:56.319305Z"
    },
    "papermill": {
     "duration": 0.042096,
     "end_time": "2021-08-08T00:21:56.320038",
     "exception": false,
     "start_time": "2021-08-08T00:21:56.277942",
     "status": "completed"
    },
    "tags": []
   },
   "outputs": [],
   "source": [
    "#hide\n",
    "#delete problematic countries from table\n",
    "df_table = df_table[~df_table['Country/Region'].isin(['Cape Verde', 'Cruise Ship', 'Kosovo'])]"
   ]
  },
  {
   "cell_type": "code",
   "execution_count": 15,
   "id": "fantastic-effect",
   "metadata": {
    "execution": {
     "iopub.execute_input": "2021-08-08T00:21:56.400369Z",
     "iopub.status.busy": "2021-08-08T00:21:56.399651Z",
     "iopub.status.idle": "2021-08-08T00:21:56.420633Z",
     "shell.execute_reply": "2021-08-08T00:21:56.421186Z"
    },
    "papermill": {
     "duration": 0.065582,
     "end_time": "2021-08-08T00:21:56.421313",
     "exception": false,
     "start_time": "2021-08-08T00:21:56.355731",
     "status": "completed"
    },
    "tags": []
   },
   "outputs": [
    {
     "data": {
      "text/html": [
       "<div>\n",
       "<style scoped>\n",
       "    .dataframe tbody tr th:only-of-type {\n",
       "        vertical-align: middle;\n",
       "    }\n",
       "\n",
       "    .dataframe tbody tr th {\n",
       "        vertical-align: top;\n",
       "    }\n",
       "\n",
       "    .dataframe thead th {\n",
       "        text-align: right;\n",
       "    }\n",
       "</style>\n",
       "<table border=\"1\" class=\"dataframe\">\n",
       "  <thead>\n",
       "    <tr style=\"text-align: right;\">\n",
       "      <th></th>\n",
       "      <th>Country/Region</th>\n",
       "      <th>Cases</th>\n",
       "      <th>Deaths</th>\n",
       "      <th>PCases</th>\n",
       "      <th>PDeaths</th>\n",
       "      <th>Cases (+)</th>\n",
       "      <th>Deaths (+)</th>\n",
       "      <th>Fatality Rate</th>\n",
       "      <th>Continent</th>\n",
       "    </tr>\n",
       "  </thead>\n",
       "  <tbody>\n",
       "    <tr>\n",
       "      <th>0</th>\n",
       "      <td>US</td>\n",
       "      <td>35695469</td>\n",
       "      <td>616493</td>\n",
       "      <td>35440488</td>\n",
       "      <td>615320</td>\n",
       "      <td>254981</td>\n",
       "      <td>1173</td>\n",
       "      <td>1.7</td>\n",
       "      <td>North America</td>\n",
       "    </tr>\n",
       "    <tr>\n",
       "      <th>1</th>\n",
       "      <td>India</td>\n",
       "      <td>31895385</td>\n",
       "      <td>427371</td>\n",
       "      <td>31856757</td>\n",
       "      <td>426754</td>\n",
       "      <td>38628</td>\n",
       "      <td>617</td>\n",
       "      <td>1.3</td>\n",
       "      <td>Asia</td>\n",
       "    </tr>\n",
       "    <tr>\n",
       "      <th>2</th>\n",
       "      <td>Brazil</td>\n",
       "      <td>20108746</td>\n",
       "      <td>561762</td>\n",
       "      <td>20066587</td>\n",
       "      <td>560706</td>\n",
       "      <td>42159</td>\n",
       "      <td>1056</td>\n",
       "      <td>2.8</td>\n",
       "      <td>South America</td>\n",
       "    </tr>\n",
       "    <tr>\n",
       "      <th>3</th>\n",
       "      <td>France</td>\n",
       "      <td>6325144</td>\n",
       "      <td>112347</td>\n",
       "      <td>6299138</td>\n",
       "      <td>112283</td>\n",
       "      <td>26006</td>\n",
       "      <td>64</td>\n",
       "      <td>1.8</td>\n",
       "      <td>Europe</td>\n",
       "    </tr>\n",
       "    <tr>\n",
       "      <th>4</th>\n",
       "      <td>Russia</td>\n",
       "      <td>6318643</td>\n",
       "      <td>160574</td>\n",
       "      <td>6296570</td>\n",
       "      <td>159803</td>\n",
       "      <td>22073</td>\n",
       "      <td>771</td>\n",
       "      <td>2.5</td>\n",
       "      <td>Europe</td>\n",
       "    </tr>\n",
       "  </tbody>\n",
       "</table>\n",
       "</div>"
      ],
      "text/plain": [
       "  Country/Region     Cases  Deaths    PCases  PDeaths  Cases (+)  Deaths (+)  \\\n",
       "0             US  35695469  616493  35440488   615320     254981        1173   \n",
       "1          India  31895385  427371  31856757   426754      38628         617   \n",
       "2         Brazil  20108746  561762  20066587   560706      42159        1056   \n",
       "3         France   6325144  112347   6299138   112283      26006          64   \n",
       "4         Russia   6318643  160574   6296570   159803      22073         771   \n",
       "\n",
       "   Fatality Rate      Continent  \n",
       "0            1.7  North America  \n",
       "1            1.3           Asia  \n",
       "2            2.8  South America  \n",
       "3            1.8         Europe  \n",
       "4            2.5         Europe  "
      ]
     },
     "execution_count": 15,
     "metadata": {},
     "output_type": "execute_result"
    }
   ],
   "source": [
    "#hide\n",
    "df_table = (pd.DataFrame(dict(Cases=dfc_cases, Deaths=dfc_deaths, PCases=dfp_cases, PDeaths=dfp_deaths))\n",
    "             .sort_values(by=['Cases', 'Deaths'], ascending=[False, False])\n",
    "             .reset_index())\n",
    "df_table.rename(columns={'index': 'Country/Region'}, inplace=True)\n",
    "for c in 'Cases, Deaths'.split(', '):\n",
    "    df_table[f'{c} (+)'] = (df_table[c] - df_table[f'P{c}']).clip(0)  # DATA BUG\n",
    "df_table['Fatality Rate'] = (100 * df_table['Deaths'] / df_table['Cases']).round(1)\n",
    "df_table['Continent'] = df_table['Country/Region'].map(mapping['map.continent'])\n",
    "df_table.head(5)"
   ]
  },
  {
   "cell_type": "code",
   "execution_count": 16,
   "id": "fewer-occasion",
   "metadata": {
    "execution": {
     "iopub.execute_input": "2021-08-08T00:21:56.501409Z",
     "iopub.status.busy": "2021-08-08T00:21:56.500665Z",
     "iopub.status.idle": "2021-08-08T00:21:56.504419Z",
     "shell.execute_reply": "2021-08-08T00:21:56.503942Z"
    },
    "papermill": {
     "duration": 0.0452,
     "end_time": "2021-08-08T00:21:56.504528",
     "exception": false,
     "start_time": "2021-08-08T00:21:56.459328",
     "status": "completed"
    },
    "tags": []
   },
   "outputs": [],
   "source": [
    "#hide\n",
    "#delete problematic countries from table\n",
    "df_table = df_table[~df_table['Country/Region'].isin(['Cape Verde', 'Cruise Ship', 'Kosovo'])]"
   ]
  },
  {
   "cell_type": "code",
   "execution_count": 17,
   "id": "related-center",
   "metadata": {
    "execution": {
     "iopub.execute_input": "2021-08-08T00:21:56.586782Z",
     "iopub.status.busy": "2021-08-08T00:21:56.586096Z",
     "iopub.status.idle": "2021-08-08T00:21:56.594103Z",
     "shell.execute_reply": "2021-08-08T00:21:56.594667Z"
    },
    "papermill": {
     "duration": 0.055531,
     "end_time": "2021-08-08T00:21:56.594783",
     "exception": false,
     "start_time": "2021-08-08T00:21:56.539252",
     "status": "completed"
    },
    "tags": []
   },
   "outputs": [],
   "source": [
    "#hide\n",
    "metrics = [df_table.columns[index] for index in [1,2,5,6]]\n",
    "# s_china = df_table[df_table['Country/Region'].eq('China')][metrics].sum().add_prefix('China ')\n",
    "s_us = df_table[df_table['Country/Region'].eq('US')][metrics].sum().add_prefix('US ')\n",
    "s_eu = df_table[df_table['Continent'].eq('Europe')][metrics].sum().add_prefix('EU ')\n",
    "s_ind = df_table[df_table['Country/Region'].eq('India')][metrics].sum().add_prefix('India ')\n",
    "summary = {'updated': pd.to_datetime(dt_today), 'since': pd.to_datetime(dt_yday)}\n",
    "summary = {'updated': pd.to_datetime(dt_today), 'since': pd.to_datetime(dt_yday)}\n",
    "summary = {**summary, **df_table[metrics].sum(), **s_ind, **s_us, **s_eu}"
   ]
  },
  {
   "cell_type": "code",
   "execution_count": 18,
   "id": "engaging-syndrome",
   "metadata": {
    "execution": {
     "iopub.execute_input": "2021-08-08T00:21:56.674011Z",
     "iopub.status.busy": "2021-08-08T00:21:56.673257Z",
     "iopub.status.idle": "2021-08-08T00:21:56.685748Z",
     "shell.execute_reply": "2021-08-08T00:21:56.685216Z"
    },
    "papermill": {
     "duration": 0.054762,
     "end_time": "2021-08-08T00:21:56.685905",
     "exception": false,
     "start_time": "2021-08-08T00:21:56.631143",
     "status": "completed"
    },
    "tags": []
   },
   "outputs": [],
   "source": [
    "#hide\n",
    "dft_ct_new_cases = dft_cases.groupby(COL_REGION)[dt_cols].sum().diff(axis=1).fillna(0).astype(int)"
   ]
  },
  {
   "cell_type": "code",
   "execution_count": 19,
   "id": "neutral-assignment",
   "metadata": {
    "execution": {
     "iopub.execute_input": "2021-08-08T00:21:56.760185Z",
     "iopub.status.busy": "2021-08-08T00:21:56.759406Z",
     "iopub.status.idle": "2021-08-08T00:21:56.761902Z",
     "shell.execute_reply": "2021-08-08T00:21:56.762427Z"
    },
    "papermill": {
     "duration": 0.041967,
     "end_time": "2021-08-08T00:21:56.762545",
     "exception": false,
     "start_time": "2021-08-08T00:21:56.720578",
     "status": "completed"
    },
    "tags": []
   },
   "outputs": [],
   "source": [
    "#hide\n",
    "everydaycases = dft_ct_new_cases.cumsum(axis=1)"
   ]
  },
  {
   "cell_type": "code",
   "execution_count": 20,
   "id": "parliamentary-calgary",
   "metadata": {
    "execution": {
     "iopub.execute_input": "2021-08-08T00:21:56.841911Z",
     "iopub.status.busy": "2021-08-08T00:21:56.841229Z",
     "iopub.status.idle": "2021-08-08T00:21:57.452467Z",
     "shell.execute_reply": "2021-08-08T00:21:57.451965Z"
    },
    "papermill": {
     "duration": 0.652518,
     "end_time": "2021-08-08T00:21:57.452622",
     "exception": false,
     "start_time": "2021-08-08T00:21:56.800104",
     "status": "completed"
    },
    "tags": []
   },
   "outputs": [],
   "source": [
    "#hide\n",
    "import pandas as pd\n",
    "import matplotlib.pyplot as plt\n",
    "import matplotlib.ticker as ticker\n",
    "import matplotlib.animation as animation\n",
    "from IPython.display import HTML"
   ]
  },
  {
   "cell_type": "code",
   "execution_count": 21,
   "id": "lasting-extraction",
   "metadata": {
    "execution": {
     "iopub.execute_input": "2021-08-08T00:21:57.528876Z",
     "iopub.status.busy": "2021-08-08T00:21:57.528286Z",
     "iopub.status.idle": "2021-08-08T00:21:57.534119Z",
     "shell.execute_reply": "2021-08-08T00:21:57.534675Z"
    },
    "papermill": {
     "duration": 0.046276,
     "end_time": "2021-08-08T00:21:57.534797",
     "exception": false,
     "start_time": "2021-08-08T00:21:57.488521",
     "status": "completed"
    },
    "tags": []
   },
   "outputs": [],
   "source": [
    "#hide\n",
    "t = everydaycases.stack()"
   ]
  },
  {
   "cell_type": "code",
   "execution_count": 22,
   "id": "premier-sleeve",
   "metadata": {
    "execution": {
     "iopub.execute_input": "2021-08-08T00:21:57.606654Z",
     "iopub.status.busy": "2021-08-08T00:21:57.606022Z",
     "iopub.status.idle": "2021-08-08T00:21:57.614431Z",
     "shell.execute_reply": "2021-08-08T00:21:57.613869Z"
    },
    "papermill": {
     "duration": 0.046485,
     "end_time": "2021-08-08T00:21:57.614566",
     "exception": false,
     "start_time": "2021-08-08T00:21:57.568081",
     "status": "completed"
    },
    "tags": []
   },
   "outputs": [],
   "source": [
    "#hide\n",
    "g = t.reset_index(['Country/Region'])"
   ]
  },
  {
   "cell_type": "code",
   "execution_count": 23,
   "id": "distributed-pittsburgh",
   "metadata": {
    "execution": {
     "iopub.execute_input": "2021-08-08T00:21:57.685826Z",
     "iopub.status.busy": "2021-08-08T00:21:57.685216Z",
     "iopub.status.idle": "2021-08-08T00:21:57.687789Z",
     "shell.execute_reply": "2021-08-08T00:21:57.687313Z"
    },
    "papermill": {
     "duration": 0.03957,
     "end_time": "2021-08-08T00:21:57.687973",
     "exception": false,
     "start_time": "2021-08-08T00:21:57.648403",
     "status": "completed"
    },
    "tags": []
   },
   "outputs": [],
   "source": [
    "#hide\n",
    "g.index.name = 'date'"
   ]
  },
  {
   "cell_type": "code",
   "execution_count": 24,
   "id": "naked-donor",
   "metadata": {
    "execution": {
     "iopub.execute_input": "2021-08-08T00:21:57.759991Z",
     "iopub.status.busy": "2021-08-08T00:21:57.759298Z",
     "iopub.status.idle": "2021-08-08T00:21:57.761847Z",
     "shell.execute_reply": "2021-08-08T00:21:57.761265Z"
    },
    "papermill": {
     "duration": 0.040565,
     "end_time": "2021-08-08T00:21:57.761994",
     "exception": false,
     "start_time": "2021-08-08T00:21:57.721429",
     "status": "completed"
    },
    "tags": []
   },
   "outputs": [],
   "source": [
    "# #hide\n",
    "# g = g.reset_index(['date'])"
   ]
  },
  {
   "cell_type": "code",
   "execution_count": 25,
   "id": "incomplete-mustang",
   "metadata": {
    "execution": {
     "iopub.execute_input": "2021-08-08T00:21:57.842804Z",
     "iopub.status.busy": "2021-08-08T00:21:57.842122Z",
     "iopub.status.idle": "2021-08-08T00:21:57.844837Z",
     "shell.execute_reply": "2021-08-08T00:21:57.844028Z"
    },
    "papermill": {
     "duration": 0.043278,
     "end_time": "2021-08-08T00:21:57.844974",
     "exception": false,
     "start_time": "2021-08-08T00:21:57.801696",
     "status": "completed"
    },
    "tags": []
   },
   "outputs": [],
   "source": [
    "#hide\n",
    "# g.head()"
   ]
  },
  {
   "cell_type": "code",
   "execution_count": 26,
   "id": "specific-kruger",
   "metadata": {
    "execution": {
     "iopub.execute_input": "2021-08-08T00:21:57.923572Z",
     "iopub.status.busy": "2021-08-08T00:21:57.922935Z",
     "iopub.status.idle": "2021-08-08T00:21:57.924913Z",
     "shell.execute_reply": "2021-08-08T00:21:57.925608Z"
    },
    "papermill": {
     "duration": 0.043791,
     "end_time": "2021-08-08T00:21:57.925766",
     "exception": false,
     "start_time": "2021-08-08T00:21:57.881975",
     "status": "completed"
    },
    "tags": []
   },
   "outputs": [],
   "source": [
    "#hide\n",
    "# g.columns = ['date','country','cases']"
   ]
  },
  {
   "cell_type": "code",
   "execution_count": 27,
   "id": "tender-conversion",
   "metadata": {
    "execution": {
     "iopub.execute_input": "2021-08-08T00:21:57.998953Z",
     "iopub.status.busy": "2021-08-08T00:21:57.998432Z",
     "iopub.status.idle": "2021-08-08T00:21:58.000979Z",
     "shell.execute_reply": "2021-08-08T00:21:58.000369Z"
    },
    "papermill": {
     "duration": 0.039897,
     "end_time": "2021-08-08T00:21:58.001135",
     "exception": false,
     "start_time": "2021-08-08T00:21:57.961238",
     "status": "completed"
    },
    "tags": []
   },
   "outputs": [],
   "source": [
    "#hide\n",
    "# g['continent'] = g.country"
   ]
  },
  {
   "cell_type": "code",
   "execution_count": 28,
   "id": "substantial-wilderness",
   "metadata": {
    "execution": {
     "iopub.execute_input": "2021-08-08T00:21:58.073827Z",
     "iopub.status.busy": "2021-08-08T00:21:58.073230Z",
     "iopub.status.idle": "2021-08-08T00:21:58.075637Z",
     "shell.execute_reply": "2021-08-08T00:21:58.075156Z"
    },
    "papermill": {
     "duration": 0.040295,
     "end_time": "2021-08-08T00:21:58.075748",
     "exception": false,
     "start_time": "2021-08-08T00:21:58.035453",
     "status": "completed"
    },
    "tags": []
   },
   "outputs": [],
   "source": [
    "#hide\n",
    "# cols = list(g.columns.values)"
   ]
  },
  {
   "cell_type": "code",
   "execution_count": 29,
   "id": "solved-farming",
   "metadata": {
    "execution": {
     "iopub.execute_input": "2021-08-08T00:21:58.148851Z",
     "iopub.status.busy": "2021-08-08T00:21:58.148236Z",
     "iopub.status.idle": "2021-08-08T00:21:58.150983Z",
     "shell.execute_reply": "2021-08-08T00:21:58.150412Z"
    },
    "papermill": {
     "duration": 0.039013,
     "end_time": "2021-08-08T00:21:58.151099",
     "exception": false,
     "start_time": "2021-08-08T00:21:58.112086",
     "status": "completed"
    },
    "tags": []
   },
   "outputs": [],
   "source": [
    "#hide\n",
    "# cols.insert(0, cols.pop())"
   ]
  },
  {
   "cell_type": "code",
   "execution_count": 30,
   "id": "executed-adoption",
   "metadata": {
    "execution": {
     "iopub.execute_input": "2021-08-08T00:21:58.228074Z",
     "iopub.status.busy": "2021-08-08T00:21:58.227175Z",
     "iopub.status.idle": "2021-08-08T00:21:58.230580Z",
     "shell.execute_reply": "2021-08-08T00:21:58.230091Z"
    },
    "papermill": {
     "duration": 0.044057,
     "end_time": "2021-08-08T00:21:58.230689",
     "exception": false,
     "start_time": "2021-08-08T00:21:58.186632",
     "status": "completed"
    },
    "tags": []
   },
   "outputs": [],
   "source": [
    "#hide\n",
    "# g = g[cols]"
   ]
  },
  {
   "cell_type": "code",
   "execution_count": 31,
   "id": "subject-dublin",
   "metadata": {
    "execution": {
     "iopub.execute_input": "2021-08-08T00:21:58.307029Z",
     "iopub.status.busy": "2021-08-08T00:21:58.306399Z",
     "iopub.status.idle": "2021-08-08T00:21:58.309259Z",
     "shell.execute_reply": "2021-08-08T00:21:58.308504Z"
    },
    "papermill": {
     "duration": 0.041974,
     "end_time": "2021-08-08T00:21:58.309357",
     "exception": false,
     "start_time": "2021-08-08T00:21:58.267383",
     "status": "completed"
    },
    "tags": []
   },
   "outputs": [],
   "source": [
    "#hide\n",
    "# g['continent'] = g['continent'].map(mapping['map.continent'])"
   ]
  },
  {
   "cell_type": "code",
   "execution_count": 32,
   "id": "freelance-scout",
   "metadata": {
    "execution": {
     "iopub.execute_input": "2021-08-08T00:21:58.383583Z",
     "iopub.status.busy": "2021-08-08T00:21:58.382880Z",
     "iopub.status.idle": "2021-08-08T00:21:58.384793Z",
     "shell.execute_reply": "2021-08-08T00:21:58.385277Z"
    },
    "papermill": {
     "duration": 0.040124,
     "end_time": "2021-08-08T00:21:58.385386",
     "exception": false,
     "start_time": "2021-08-08T00:21:58.345262",
     "status": "completed"
    },
    "tags": []
   },
   "outputs": [],
   "source": [
    "#hide\n",
    "# g.head()"
   ]
  },
  {
   "cell_type": "code",
   "execution_count": 33,
   "id": "limited-engine",
   "metadata": {
    "execution": {
     "iopub.execute_input": "2021-08-08T00:21:58.459193Z",
     "iopub.status.busy": "2021-08-08T00:21:58.457868Z",
     "iopub.status.idle": "2021-08-08T00:21:58.459866Z",
     "shell.execute_reply": "2021-08-08T00:21:58.460591Z"
    },
    "papermill": {
     "duration": 0.040285,
     "end_time": "2021-08-08T00:21:58.460718",
     "exception": false,
     "start_time": "2021-08-08T00:21:58.420433",
     "status": "completed"
    },
    "tags": []
   },
   "outputs": [],
   "source": [
    "# hide\n",
    "# g['date'] = g['date'].astype('datetime64[ns]')"
   ]
  },
  {
   "cell_type": "code",
   "execution_count": 34,
   "id": "sophisticated-supervisor",
   "metadata": {
    "execution": {
     "iopub.execute_input": "2021-08-08T00:21:58.537731Z",
     "iopub.status.busy": "2021-08-08T00:21:58.536521Z",
     "iopub.status.idle": "2021-08-08T00:21:58.538436Z",
     "shell.execute_reply": "2021-08-08T00:21:58.538993Z"
    },
    "papermill": {
     "duration": 0.042756,
     "end_time": "2021-08-08T00:21:58.539122",
     "exception": false,
     "start_time": "2021-08-08T00:21:58.496366",
     "status": "completed"
    },
    "tags": []
   },
   "outputs": [],
   "source": [
    "#hide\n",
    "# g['date'] = g.date.dt.dayofyear"
   ]
  },
  {
   "cell_type": "code",
   "execution_count": 35,
   "id": "inside-dubai",
   "metadata": {
    "execution": {
     "iopub.execute_input": "2021-08-08T00:21:58.613186Z",
     "iopub.status.busy": "2021-08-08T00:21:58.611161Z",
     "iopub.status.idle": "2021-08-08T00:21:58.613847Z",
     "shell.execute_reply": "2021-08-08T00:21:58.614354Z"
    },
    "papermill": {
     "duration": 0.040626,
     "end_time": "2021-08-08T00:21:58.614490",
     "exception": false,
     "start_time": "2021-08-08T00:21:58.573864",
     "status": "completed"
    },
    "tags": []
   },
   "outputs": [],
   "source": [
    "#hide\n",
    "# g = g.rename(columns= {'continent':'group','country':'name','cases':'value'})"
   ]
  },
  {
   "cell_type": "code",
   "execution_count": 36,
   "id": "fleet-motorcycle",
   "metadata": {
    "execution": {
     "iopub.execute_input": "2021-08-08T00:21:58.688553Z",
     "iopub.status.busy": "2021-08-08T00:21:58.687077Z",
     "iopub.status.idle": "2021-08-08T00:21:58.689290Z",
     "shell.execute_reply": "2021-08-08T00:21:58.689947Z"
    },
    "papermill": {
     "duration": 0.042205,
     "end_time": "2021-08-08T00:21:58.690082",
     "exception": false,
     "start_time": "2021-08-08T00:21:58.647877",
     "status": "completed"
    },
    "tags": []
   },
   "outputs": [],
   "source": [
    "#hide\n",
    "# cols = ['name','group','day','value']"
   ]
  },
  {
   "cell_type": "code",
   "execution_count": 37,
   "id": "continued-sleeping",
   "metadata": {
    "execution": {
     "iopub.execute_input": "2021-08-08T00:21:58.769477Z",
     "iopub.status.busy": "2021-08-08T00:21:58.768882Z",
     "iopub.status.idle": "2021-08-08T00:21:58.771478Z",
     "shell.execute_reply": "2021-08-08T00:21:58.770985Z"
    },
    "papermill": {
     "duration": 0.044392,
     "end_time": "2021-08-08T00:21:58.771652",
     "exception": false,
     "start_time": "2021-08-08T00:21:58.727260",
     "status": "completed"
    },
    "tags": []
   },
   "outputs": [],
   "source": [
    "#hide\n",
    "# g.rename(columns= {'date':'day'},inplace = True)"
   ]
  },
  {
   "cell_type": "code",
   "execution_count": 38,
   "id": "major-fight",
   "metadata": {
    "execution": {
     "iopub.execute_input": "2021-08-08T00:21:58.850918Z",
     "iopub.status.busy": "2021-08-08T00:21:58.850262Z",
     "iopub.status.idle": "2021-08-08T00:21:58.852918Z",
     "shell.execute_reply": "2021-08-08T00:21:58.852428Z"
    },
    "papermill": {
     "duration": 0.0436,
     "end_time": "2021-08-08T00:21:58.853032",
     "exception": false,
     "start_time": "2021-08-08T00:21:58.809432",
     "status": "completed"
    },
    "tags": []
   },
   "outputs": [],
   "source": [
    "#hide\n",
    "# g = g[cols]"
   ]
  },
  {
   "cell_type": "code",
   "execution_count": 39,
   "id": "structured-mobile",
   "metadata": {
    "execution": {
     "iopub.execute_input": "2021-08-08T00:21:58.929754Z",
     "iopub.status.busy": "2021-08-08T00:21:58.928916Z",
     "iopub.status.idle": "2021-08-08T00:21:58.932444Z",
     "shell.execute_reply": "2021-08-08T00:21:58.931909Z"
    },
    "papermill": {
     "duration": 0.044281,
     "end_time": "2021-08-08T00:21:58.932554",
     "exception": false,
     "start_time": "2021-08-08T00:21:58.888273",
     "status": "completed"
    },
    "tags": []
   },
   "outputs": [],
   "source": [
    "# #hide\n",
    "# g = g[g.group.notna()]"
   ]
  },
  {
   "cell_type": "code",
   "execution_count": 40,
   "id": "determined-closing",
   "metadata": {
    "execution": {
     "iopub.execute_input": "2021-08-08T00:21:59.009486Z",
     "iopub.status.busy": "2021-08-08T00:21:59.008735Z",
     "iopub.status.idle": "2021-08-08T00:21:59.011037Z",
     "shell.execute_reply": "2021-08-08T00:21:59.010556Z"
    },
    "papermill": {
     "duration": 0.041754,
     "end_time": "2021-08-08T00:21:59.011141",
     "exception": false,
     "start_time": "2021-08-08T00:21:58.969387",
     "status": "completed"
    },
    "tags": []
   },
   "outputs": [],
   "source": [
    "# #hide\n",
    "# colors = dict(zip(\n",
    "#     [\"Oceania\", \"Europe\", \"Asia\", \"South America\", \"Middle East\", \"North America\", \"Africa\"],\n",
    "#     [\"#adb0ff\", \"#ffb3ff\", \"#90d595\", \"#e48381\", \"#aafbff\", \"#f7bb5f\", \"#eafb50\"]\n",
    "# ))\n",
    "# group_lk = g.set_index('name')['group'].to_dict()"
   ]
  },
  {
   "cell_type": "code",
   "execution_count": null,
   "id": "gross-drinking",
   "metadata": {
    "papermill": {
     "duration": 0.034331,
     "end_time": "2021-08-08T00:21:59.083027",
     "exception": false,
     "start_time": "2021-08-08T00:21:59.048696",
     "status": "completed"
    },
    "tags": []
   },
   "outputs": [],
   "source": []
  },
  {
   "cell_type": "code",
   "execution_count": 41,
   "id": "subject-macintosh",
   "metadata": {
    "execution": {
     "iopub.execute_input": "2021-08-08T00:21:59.154937Z",
     "iopub.status.busy": "2021-08-08T00:21:59.154239Z",
     "iopub.status.idle": "2021-08-08T00:21:59.156141Z",
     "shell.execute_reply": "2021-08-08T00:21:59.156707Z"
    },
    "papermill": {
     "duration": 0.039987,
     "end_time": "2021-08-08T00:21:59.156972",
     "exception": false,
     "start_time": "2021-08-08T00:21:59.116985",
     "status": "completed"
    },
    "tags": []
   },
   "outputs": [],
   "source": [
    "# #hide\n",
    "# fig, ax = plt.subplots(figsize=(15, 8))\n",
    "\n",
    "# def draw_barchart(current_day):\n",
    "#     dff = g[g['day'].eq(current_day)].sort_values(by='value', ascending=True).tail(10)\n",
    "#     ax.clear()\n",
    "#     ax.barh(dff['name'], dff['value'], color=[colors[group_lk[x]] for x in dff['name']])\n",
    "#     dx = dff['value'].max() / 200\n",
    "    \n",
    "#     for i, (value, name) in enumerate(zip(dff['value'], dff['name'])):\n",
    "#         ax.text(value-dx, i,     name,           size=14, weight=600, ha='right', va='bottom')\n",
    "#         ax.text(value-dx, i-.25, group_lk[name], size=10, color='#444444', ha='right', va='baseline')\n",
    "#         ax.text(value+dx, i,     f'{value:,.0f}',  size=14, ha='left',  va='center')\n",
    "#     ax.text(1, 0.4, current_day, transform=ax.transAxes, color='#777777', size=46, ha='right', weight=800)\n",
    "#     ax.text(0, 1.06, 'Population (thousands)', transform=ax.transAxes, size=12, color='#777777')\n",
    "#     ax.xaxis.set_major_formatter(ticker.StrMethodFormatter('{x:,.0f}'))\n",
    "#     ax.xaxis.set_ticks_position('top')\n",
    "#     ax.tick_params(axis='x', colors='#777777', labelsize=12)\n",
    "#     ax.set_yticks([])\n",
    "#     ax.margins(0, 0.01)\n",
    "#     ax.grid(which='major', axis='x', linestyle='-')\n",
    "#     ax.set_axisbelow(True)\n",
    "    \n",
    "#     ax.text(0, 1.15, 'Coronavirus',\n",
    "#             transform=ax.transAxes, size=24, weight=600, ha='left', va='top')\n",
    "# #     ax.text(1, 0, 'by @pratapvardhan; credit @jburnmurdoch', transform=ax.transAxes, color='#777777', ha='right',\n",
    "# #             bbox=dict(facecolor='white', alpha=0.8, edgecolor='white'))\n",
    "#     plt.box(False)"
   ]
  },
  {
   "cell_type": "code",
   "execution_count": 42,
   "id": "sexual-wages",
   "metadata": {
    "execution": {
     "iopub.execute_input": "2021-08-08T00:21:59.231902Z",
     "iopub.status.busy": "2021-08-08T00:21:59.231293Z",
     "iopub.status.idle": "2021-08-08T00:21:59.233300Z",
     "shell.execute_reply": "2021-08-08T00:21:59.233760Z"
    },
    "papermill": {
     "duration": 0.041268,
     "end_time": "2021-08-08T00:21:59.233902",
     "exception": false,
     "start_time": "2021-08-08T00:21:59.192634",
     "status": "completed"
    },
    "tags": []
   },
   "outputs": [],
   "source": [
    "# #hide_input\n",
    "# fig, ax = plt.subplots(figsize=(15, 8))\n",
    "# animator = animation.FuncAnimation(fig, draw_barchart, frames=range(g.day.values.min(), g.day.values.max()))\n",
    "# HTML(animator.to_jshtml())\n",
    "# # or use animator.to_html5_video() or animator.save() "
   ]
  },
  {
   "cell_type": "code",
   "execution_count": null,
   "id": "australian-container",
   "metadata": {
    "papermill": {
     "duration": 0.037038,
     "end_time": "2021-08-08T00:21:59.304881",
     "exception": false,
     "start_time": "2021-08-08T00:21:59.267843",
     "status": "completed"
    },
    "tags": []
   },
   "outputs": [],
   "source": []
  },
  {
   "cell_type": "code",
   "execution_count": null,
   "id": "mediterranean-pontiac",
   "metadata": {
    "papermill": {
     "duration": 0.037317,
     "end_time": "2021-08-08T00:21:59.378094",
     "exception": false,
     "start_time": "2021-08-08T00:21:59.340777",
     "status": "completed"
    },
    "tags": []
   },
   "outputs": [],
   "source": []
  },
  {
   "cell_type": "code",
   "execution_count": null,
   "id": "aging-legislature",
   "metadata": {
    "papermill": {
     "duration": 0.035343,
     "end_time": "2021-08-08T00:21:59.450560",
     "exception": false,
     "start_time": "2021-08-08T00:21:59.415217",
     "status": "completed"
    },
    "tags": []
   },
   "outputs": [],
   "source": []
  }
 ],
 "metadata": {
  "kernelspec": {
   "display_name": "Python 3",
   "language": "python",
   "name": "python3"
  },
  "language_info": {
   "codemirror_mode": {
    "name": "ipython",
    "version": 3
   },
   "file_extension": ".py",
   "mimetype": "text/x-python",
   "name": "python",
   "nbconvert_exporter": "python",
   "pygments_lexer": "ipython3",
   "version": "3.6.14"
  },
  "papermill": {
   "duration": 6.527578,
   "end_time": "2021-08-08T00:21:59.795035",
   "environment_variables": {},
   "exception": null,
   "input_path": "2020-03-21-covid19exp.ipynb",
   "output_path": "2020-03-21-covid19exp.ipynb",
   "parameters": {},
   "start_time": "2021-08-08T00:21:53.267457",
   "version": "2.0.0"
  }
 },
 "nbformat": 4,
 "nbformat_minor": 5
}