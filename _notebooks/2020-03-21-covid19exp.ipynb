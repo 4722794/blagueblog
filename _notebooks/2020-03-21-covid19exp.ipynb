{
 "cells": [
  {
   "cell_type": "markdown",
   "id": "muslim-click",
   "metadata": {
    "papermill": {
     "duration": 0.03854,
     "end_time": "2022-04-23T12:14:48.199628",
     "exception": false,
     "start_time": "2022-04-23T12:14:48.161088",
     "status": "completed"
    },
    "tags": []
   },
   "source": [
    "# COVID-19 Case Race\n",
    "> A race chart to see rising cases around the world\n",
    "\n",
    "- author: Hargun Oberoi\n",
    "- image: images/covid-overview.png\n",
    "- hide: false\n",
    "- badges: false"
   ]
  },
  {
   "cell_type": "code",
   "execution_count": 1,
   "id": "proof-material",
   "metadata": {
    "execution": {
     "iopub.execute_input": "2022-04-23T12:14:48.280982Z",
     "iopub.status.busy": "2022-04-23T12:14:48.280332Z",
     "iopub.status.idle": "2022-04-23T12:14:48.642767Z",
     "shell.execute_reply": "2022-04-23T12:14:48.642225Z"
    },
    "papermill": {
     "duration": 0.408083,
     "end_time": "2022-04-23T12:14:48.642924",
     "exception": false,
     "start_time": "2022-04-23T12:14:48.234841",
     "status": "completed"
    },
    "tags": []
   },
   "outputs": [],
   "source": [
    "#hide\n",
    "import numpy as np\n",
    "import pandas as pd\n",
    "from jinja2 import Template\n",
    "from IPython.display import HTML"
   ]
  },
  {
   "cell_type": "code",
   "execution_count": 2,
   "id": "developed-terminology",
   "metadata": {
    "execution": {
     "iopub.execute_input": "2022-04-23T12:14:48.715446Z",
     "iopub.status.busy": "2022-04-23T12:14:48.714724Z",
     "iopub.status.idle": "2022-04-23T12:14:48.717074Z",
     "shell.execute_reply": "2022-04-23T12:14:48.716490Z"
    },
    "papermill": {
     "duration": 0.040741,
     "end_time": "2022-04-23T12:14:48.717189",
     "exception": false,
     "start_time": "2022-04-23T12:14:48.676448",
     "status": "completed"
    },
    "tags": []
   },
   "outputs": [],
   "source": [
    "#hide\n",
    "\n",
    "# FETCH\n",
    "base_url = 'https://raw.githubusercontent.com/pratapvardhan/notebooks/master/covid19/'\n",
    "paths = {\n",
    "    'mapping': base_url + 'mapping_countries.csv',\n",
    "    'overview': base_url + 'overview.tpl'\n",
    "}"
   ]
  },
  {
   "cell_type": "code",
   "execution_count": 3,
   "id": "dynamic-saver",
   "metadata": {
    "execution": {
     "iopub.execute_input": "2022-04-23T12:14:48.795657Z",
     "iopub.status.busy": "2022-04-23T12:14:48.795033Z",
     "iopub.status.idle": "2022-04-23T12:14:48.798636Z",
     "shell.execute_reply": "2022-04-23T12:14:48.798134Z"
    },
    "papermill": {
     "duration": 0.046771,
     "end_time": "2022-04-23T12:14:48.798756",
     "exception": false,
     "start_time": "2022-04-23T12:14:48.751985",
     "status": "completed"
    },
    "tags": []
   },
   "outputs": [
    {
     "data": {
      "text/plain": [
       "'https://raw.githubusercontent.com/pratapvardhan/notebooks/master/covid19/mapping_countries.csv'"
      ]
     },
     "execution_count": 3,
     "metadata": {},
     "output_type": "execute_result"
    }
   ],
   "source": [
    "#hide\n",
    "paths['mapping']"
   ]
  },
  {
   "cell_type": "code",
   "execution_count": 4,
   "id": "urban-software",
   "metadata": {
    "execution": {
     "iopub.execute_input": "2022-04-23T12:14:48.872687Z",
     "iopub.status.busy": "2022-04-23T12:14:48.872091Z",
     "iopub.status.idle": "2022-04-23T12:14:48.875817Z",
     "shell.execute_reply": "2022-04-23T12:14:48.876300Z"
    },
    "papermill": {
     "duration": 0.043883,
     "end_time": "2022-04-23T12:14:48.876436",
     "exception": false,
     "start_time": "2022-04-23T12:14:48.832553",
     "status": "completed"
    },
    "tags": []
   },
   "outputs": [],
   "source": [
    "#hide\n",
    "def get_mappings(url):\n",
    "    df = pd.read_csv(url)\n",
    "    return {\n",
    "        'df': df,\n",
    "        'replace.country': dict(df.dropna(subset=['Name']).set_index('Country')['Name']),\n",
    "        'map.continent': dict(df.set_index('Name')['Continent'])\n",
    "    }"
   ]
  },
  {
   "cell_type": "code",
   "execution_count": 5,
   "id": "intimate-machinery",
   "metadata": {
    "execution": {
     "iopub.execute_input": "2022-04-23T12:14:48.951620Z",
     "iopub.status.busy": "2022-04-23T12:14:48.951015Z",
     "iopub.status.idle": "2022-04-23T12:14:48.980020Z",
     "shell.execute_reply": "2022-04-23T12:14:48.979042Z"
    },
    "papermill": {
     "duration": 0.069532,
     "end_time": "2022-04-23T12:14:48.980158",
     "exception": false,
     "start_time": "2022-04-23T12:14:48.910626",
     "status": "completed"
    },
    "tags": []
   },
   "outputs": [],
   "source": [
    "#hide\n",
    "mapping = get_mappings(paths['mapping'])"
   ]
  },
  {
   "cell_type": "code",
   "execution_count": 6,
   "id": "certified-tactics",
   "metadata": {
    "execution": {
     "iopub.execute_input": "2022-04-23T12:14:49.053150Z",
     "iopub.status.busy": "2022-04-23T12:14:49.052431Z",
     "iopub.status.idle": "2022-04-23T12:14:49.054847Z",
     "shell.execute_reply": "2022-04-23T12:14:49.055300Z"
    },
    "papermill": {
     "duration": 0.04155,
     "end_time": "2022-04-23T12:14:49.055440",
     "exception": false,
     "start_time": "2022-04-23T12:14:49.013890",
     "status": "completed"
    },
    "tags": []
   },
   "outputs": [],
   "source": [
    "#hide\n",
    "def get_template(path):\n",
    "    from urllib.parse import urlparse\n",
    "    if bool(urlparse(path).netloc):\n",
    "        from urllib.request import urlopen\n",
    "        return urlopen(path).read().decode('utf8')\n",
    "    return open(path).read()"
   ]
  },
  {
   "cell_type": "code",
   "execution_count": 7,
   "id": "realistic-blast",
   "metadata": {
    "execution": {
     "iopub.execute_input": "2022-04-23T12:14:49.128956Z",
     "iopub.status.busy": "2022-04-23T12:14:49.128366Z",
     "iopub.status.idle": "2022-04-23T12:14:49.130390Z",
     "shell.execute_reply": "2022-04-23T12:14:49.130838Z"
    },
    "papermill": {
     "duration": 0.041075,
     "end_time": "2022-04-23T12:14:49.130969",
     "exception": false,
     "start_time": "2022-04-23T12:14:49.089894",
     "status": "completed"
    },
    "tags": []
   },
   "outputs": [],
   "source": [
    "#hide\n",
    "def get_frame(name):\n",
    "    url = (\n",
    "        'https://raw.githubusercontent.com/CSSEGISandData/COVID-19/master/csse_covid_19_data/'\n",
    "        f'csse_covid_19_time_series/time_series_covid19_{name}_global.csv')\n",
    "    df = pd.read_csv(url)\n",
    "    # rename countries\n",
    "    df['Country/Region'] = df['Country/Region'].replace(mapping['replace.country'])\n",
    "    return df"
   ]
  },
  {
   "cell_type": "code",
   "execution_count": 8,
   "id": "affiliated-characterization",
   "metadata": {
    "execution": {
     "iopub.execute_input": "2022-04-23T12:14:49.207557Z",
     "iopub.status.busy": "2022-04-23T12:14:49.206956Z",
     "iopub.status.idle": "2022-04-23T12:14:49.209439Z",
     "shell.execute_reply": "2022-04-23T12:14:49.208936Z"
    },
    "papermill": {
     "duration": 0.042644,
     "end_time": "2022-04-23T12:14:49.209559",
     "exception": false,
     "start_time": "2022-04-23T12:14:49.166915",
     "status": "completed"
    },
    "tags": []
   },
   "outputs": [],
   "source": [
    "#hide\n",
    "def get_dates(df):\n",
    "    dt_cols = df.columns[~df.columns.isin(['Province/State', 'Country/Region', 'Lat', 'Long'])]\n",
    "    LAST_DATE_I = -1\n",
    "    # sometimes last column may be empty, then go backwards\n",
    "    for i in range(-1, -len(dt_cols), -1):\n",
    "        if not df[dt_cols[i]].fillna(0).eq(0).all():\n",
    "            LAST_DATE_I = i\n",
    "            break\n",
    "    return LAST_DATE_I, dt_cols"
   ]
  },
  {
   "cell_type": "code",
   "execution_count": 9,
   "id": "recent-optimization",
   "metadata": {
    "execution": {
     "iopub.execute_input": "2022-04-23T12:14:49.283896Z",
     "iopub.status.busy": "2022-04-23T12:14:49.283058Z",
     "iopub.status.idle": "2022-04-23T12:14:49.653137Z",
     "shell.execute_reply": "2022-04-23T12:14:49.653647Z"
    },
    "papermill": {
     "duration": 0.410749,
     "end_time": "2022-04-23T12:14:49.653809",
     "exception": false,
     "start_time": "2022-04-23T12:14:49.243060",
     "status": "completed"
    },
    "tags": []
   },
   "outputs": [],
   "source": [
    "#hide\n",
    "COL_REGION = 'Country/Region'\n",
    "# Confirmed, Recovered, Deaths\n",
    "df = get_frame('confirmed')\n",
    "# dft_: timeseries, dfc_: today country agg\n",
    "dft_cases = df\n",
    "dft_deaths = get_frame('deaths')\n",
    "dft_recovered = get_frame('recovered')\n",
    "LAST_DATE_I, dt_cols = get_dates(df)"
   ]
  },
  {
   "cell_type": "code",
   "execution_count": 10,
   "id": "absolute-copper",
   "metadata": {
    "execution": {
     "iopub.execute_input": "2022-04-23T12:14:49.727894Z",
     "iopub.status.busy": "2022-04-23T12:14:49.727295Z",
     "iopub.status.idle": "2022-04-23T12:14:49.729927Z",
     "shell.execute_reply": "2022-04-23T12:14:49.729373Z"
    },
    "papermill": {
     "duration": 0.041885,
     "end_time": "2022-04-23T12:14:49.730076",
     "exception": false,
     "start_time": "2022-04-23T12:14:49.688191",
     "status": "completed"
    },
    "tags": []
   },
   "outputs": [],
   "source": [
    "#hide\n",
    "LAST_DATE_I, dt_cols = get_dates(df)\n",
    "dt_today =dt_cols[LAST_DATE_I]\n",
    "# dt_5day = dt_cols[LAST_DATE_I - 5]\n",
    "dt_yday = dt_cols[LAST_DATE_I - 1]"
   ]
  },
  {
   "cell_type": "code",
   "execution_count": 11,
   "id": "restricted-sheriff",
   "metadata": {
    "execution": {
     "iopub.execute_input": "2022-04-23T12:14:49.802118Z",
     "iopub.status.busy": "2022-04-23T12:14:49.801478Z",
     "iopub.status.idle": "2022-04-23T12:14:49.809595Z",
     "shell.execute_reply": "2022-04-23T12:14:49.810209Z"
    },
    "papermill": {
     "duration": 0.046576,
     "end_time": "2022-04-23T12:14:49.810335",
     "exception": false,
     "start_time": "2022-04-23T12:14:49.763759",
     "status": "completed"
    },
    "tags": []
   },
   "outputs": [],
   "source": [
    "#hide\n",
    "dfc_cases = dft_cases.groupby(COL_REGION)[dt_today].sum()\n",
    "dfc_deaths = dft_deaths.groupby(COL_REGION)[dt_today].sum()\n",
    "# dfp_cases = dft_cases.groupby(COL_REGION)[dt_5day].sum()\n",
    "# dfp_deaths = dft_deaths.groupby(COL_REGION)[dt_5day].sum()\n",
    "dfp_cases = dft_cases.groupby(COL_REGION)[dt_yday].sum()\n",
    "dfp_deaths = dft_deaths.groupby(COL_REGION)[dt_yday].sum()"
   ]
  },
  {
   "cell_type": "code",
   "execution_count": 12,
   "id": "deluxe-hepatitis",
   "metadata": {
    "execution": {
     "iopub.execute_input": "2022-04-23T12:14:49.882898Z",
     "iopub.status.busy": "2022-04-23T12:14:49.882308Z",
     "iopub.status.idle": "2022-04-23T12:14:49.888036Z",
     "shell.execute_reply": "2022-04-23T12:14:49.887524Z"
    },
    "papermill": {
     "duration": 0.044116,
     "end_time": "2022-04-23T12:14:49.888152",
     "exception": false,
     "start_time": "2022-04-23T12:14:49.844036",
     "status": "completed"
    },
    "tags": []
   },
   "outputs": [],
   "source": [
    "#hide\n",
    "df_table = (pd.DataFrame(dict(Cases = dfc_cases, Deaths = dfc_deaths, PCases = dfp_cases, PDeaths = dfp_deaths))\n",
    "            .sort_values(by = ['Cases','Deaths'], ascending = [False, False])\n",
    "            .reset_index())"
   ]
  },
  {
   "cell_type": "code",
   "execution_count": 13,
   "id": "educational-chancellor",
   "metadata": {
    "execution": {
     "iopub.execute_input": "2022-04-23T12:14:49.976294Z",
     "iopub.status.busy": "2022-04-23T12:14:49.975687Z",
     "iopub.status.idle": "2022-04-23T12:14:49.984144Z",
     "shell.execute_reply": "2022-04-23T12:14:49.983640Z"
    },
    "papermill": {
     "duration": 0.062122,
     "end_time": "2022-04-23T12:14:49.984267",
     "exception": false,
     "start_time": "2022-04-23T12:14:49.922145",
     "status": "completed"
    },
    "tags": []
   },
   "outputs": [
    {
     "data": {
      "text/html": [
       "<div>\n",
       "<style scoped>\n",
       "    .dataframe tbody tr th:only-of-type {\n",
       "        vertical-align: middle;\n",
       "    }\n",
       "\n",
       "    .dataframe tbody tr th {\n",
       "        vertical-align: top;\n",
       "    }\n",
       "\n",
       "    .dataframe thead th {\n",
       "        text-align: right;\n",
       "    }\n",
       "</style>\n",
       "<table border=\"1\" class=\"dataframe\">\n",
       "  <thead>\n",
       "    <tr style=\"text-align: right;\">\n",
       "      <th></th>\n",
       "      <th>Country/Region</th>\n",
       "      <th>Cases</th>\n",
       "      <th>Deaths</th>\n",
       "      <th>PCases</th>\n",
       "      <th>PDeaths</th>\n",
       "      <th>Cases (+)</th>\n",
       "      <th>Deaths (+)</th>\n",
       "      <th>Fatality Rate</th>\n",
       "      <th>Continent</th>\n",
       "    </tr>\n",
       "  </thead>\n",
       "  <tbody>\n",
       "    <tr>\n",
       "      <th>0</th>\n",
       "      <td>US</td>\n",
       "      <td>80952268</td>\n",
       "      <td>991169</td>\n",
       "      <td>80850913</td>\n",
       "      <td>990679</td>\n",
       "      <td>101355</td>\n",
       "      <td>490</td>\n",
       "      <td>1.22</td>\n",
       "      <td>North America</td>\n",
       "    </tr>\n",
       "    <tr>\n",
       "      <th>1</th>\n",
       "      <td>India</td>\n",
       "      <td>43054952</td>\n",
       "      <td>522149</td>\n",
       "      <td>43052425</td>\n",
       "      <td>522116</td>\n",
       "      <td>2527</td>\n",
       "      <td>33</td>\n",
       "      <td>1.21</td>\n",
       "      <td>Asia</td>\n",
       "    </tr>\n",
       "    <tr>\n",
       "      <th>2</th>\n",
       "      <td>Brazil</td>\n",
       "      <td>30338697</td>\n",
       "      <td>662802</td>\n",
       "      <td>30330629</td>\n",
       "      <td>662751</td>\n",
       "      <td>8068</td>\n",
       "      <td>51</td>\n",
       "      <td>2.18</td>\n",
       "      <td>South America</td>\n",
       "    </tr>\n",
       "    <tr>\n",
       "      <th>3</th>\n",
       "      <td>France</td>\n",
       "      <td>28354529</td>\n",
       "      <td>145982</td>\n",
       "      <td>28266009</td>\n",
       "      <td>145836</td>\n",
       "      <td>88520</td>\n",
       "      <td>146</td>\n",
       "      <td>0.51</td>\n",
       "      <td>Europe</td>\n",
       "    </tr>\n",
       "    <tr>\n",
       "      <th>4</th>\n",
       "      <td>Germany</td>\n",
       "      <td>24141333</td>\n",
       "      <td>134155</td>\n",
       "      <td>24006254</td>\n",
       "      <td>133921</td>\n",
       "      <td>135079</td>\n",
       "      <td>234</td>\n",
       "      <td>0.56</td>\n",
       "      <td>Europe</td>\n",
       "    </tr>\n",
       "  </tbody>\n",
       "</table>\n",
       "</div>"
      ],
      "text/plain": [
       "  Country/Region     Cases  Deaths    PCases  PDeaths  Cases (+)  Deaths (+)  \\\n",
       "0             US  80952268  991169  80850913   990679     101355         490   \n",
       "1          India  43054952  522149  43052425   522116       2527          33   \n",
       "2         Brazil  30338697  662802  30330629   662751       8068          51   \n",
       "3         France  28354529  145982  28266009   145836      88520         146   \n",
       "4        Germany  24141333  134155  24006254   133921     135079         234   \n",
       "\n",
       "   Fatality Rate      Continent  \n",
       "0           1.22  North America  \n",
       "1           1.21           Asia  \n",
       "2           2.18  South America  \n",
       "3           0.51         Europe  \n",
       "4           0.56         Europe  "
      ]
     },
     "execution_count": 13,
     "metadata": {},
     "output_type": "execute_result"
    }
   ],
   "source": [
    "#hide\n",
    "for c in 'Cases, Deaths'.split(', '):\n",
    "    df_table[f'{c} (+)'] = (df_table[c] - df_table[f'P{c}']).clip(0)\n",
    "    #Clip ça veut dire, les chiffres negatif sont interdit\n",
    "df_table['Fatality Rate'] = (100* df_table['Deaths']/ df_table['Cases']).round(2)\n",
    "df_table['Continent'] = df_table['Country/Region'].map(mapping['map.continent'])\n",
    "df_table.head(5)"
   ]
  },
  {
   "cell_type": "code",
   "execution_count": 14,
   "id": "aboriginal-bulgaria",
   "metadata": {
    "execution": {
     "iopub.execute_input": "2022-04-23T12:14:50.067340Z",
     "iopub.status.busy": "2022-04-23T12:14:50.066745Z",
     "iopub.status.idle": "2022-04-23T12:14:50.068969Z",
     "shell.execute_reply": "2022-04-23T12:14:50.069522Z"
    },
    "papermill": {
     "duration": 0.049394,
     "end_time": "2022-04-23T12:14:50.069799",
     "exception": false,
     "start_time": "2022-04-23T12:14:50.020405",
     "status": "completed"
    },
    "tags": []
   },
   "outputs": [],
   "source": [
    "#hide\n",
    "#delete problematic countries from table\n",
    "df_table = df_table[~df_table['Country/Region'].isin(['Cape Verde', 'Cruise Ship', 'Kosovo'])]"
   ]
  },
  {
   "cell_type": "code",
   "execution_count": 15,
   "id": "fantastic-effect",
   "metadata": {
    "execution": {
     "iopub.execute_input": "2022-04-23T12:14:50.149130Z",
     "iopub.status.busy": "2022-04-23T12:14:50.148523Z",
     "iopub.status.idle": "2022-04-23T12:14:50.169472Z",
     "shell.execute_reply": "2022-04-23T12:14:50.170093Z"
    },
    "papermill": {
     "duration": 0.064717,
     "end_time": "2022-04-23T12:14:50.170247",
     "exception": false,
     "start_time": "2022-04-23T12:14:50.105530",
     "status": "completed"
    },
    "tags": []
   },
   "outputs": [
    {
     "data": {
      "text/html": [
       "<div>\n",
       "<style scoped>\n",
       "    .dataframe tbody tr th:only-of-type {\n",
       "        vertical-align: middle;\n",
       "    }\n",
       "\n",
       "    .dataframe tbody tr th {\n",
       "        vertical-align: top;\n",
       "    }\n",
       "\n",
       "    .dataframe thead th {\n",
       "        text-align: right;\n",
       "    }\n",
       "</style>\n",
       "<table border=\"1\" class=\"dataframe\">\n",
       "  <thead>\n",
       "    <tr style=\"text-align: right;\">\n",
       "      <th></th>\n",
       "      <th>Country/Region</th>\n",
       "      <th>Cases</th>\n",
       "      <th>Deaths</th>\n",
       "      <th>PCases</th>\n",
       "      <th>PDeaths</th>\n",
       "      <th>Cases (+)</th>\n",
       "      <th>Deaths (+)</th>\n",
       "      <th>Fatality Rate</th>\n",
       "      <th>Continent</th>\n",
       "    </tr>\n",
       "  </thead>\n",
       "  <tbody>\n",
       "    <tr>\n",
       "      <th>0</th>\n",
       "      <td>US</td>\n",
       "      <td>80952268</td>\n",
       "      <td>991169</td>\n",
       "      <td>80850913</td>\n",
       "      <td>990679</td>\n",
       "      <td>101355</td>\n",
       "      <td>490</td>\n",
       "      <td>1.2</td>\n",
       "      <td>North America</td>\n",
       "    </tr>\n",
       "    <tr>\n",
       "      <th>1</th>\n",
       "      <td>India</td>\n",
       "      <td>43054952</td>\n",
       "      <td>522149</td>\n",
       "      <td>43052425</td>\n",
       "      <td>522116</td>\n",
       "      <td>2527</td>\n",
       "      <td>33</td>\n",
       "      <td>1.2</td>\n",
       "      <td>Asia</td>\n",
       "    </tr>\n",
       "    <tr>\n",
       "      <th>2</th>\n",
       "      <td>Brazil</td>\n",
       "      <td>30338697</td>\n",
       "      <td>662802</td>\n",
       "      <td>30330629</td>\n",
       "      <td>662751</td>\n",
       "      <td>8068</td>\n",
       "      <td>51</td>\n",
       "      <td>2.2</td>\n",
       "      <td>South America</td>\n",
       "    </tr>\n",
       "    <tr>\n",
       "      <th>3</th>\n",
       "      <td>France</td>\n",
       "      <td>28354529</td>\n",
       "      <td>145982</td>\n",
       "      <td>28266009</td>\n",
       "      <td>145836</td>\n",
       "      <td>88520</td>\n",
       "      <td>146</td>\n",
       "      <td>0.5</td>\n",
       "      <td>Europe</td>\n",
       "    </tr>\n",
       "    <tr>\n",
       "      <th>4</th>\n",
       "      <td>Germany</td>\n",
       "      <td>24141333</td>\n",
       "      <td>134155</td>\n",
       "      <td>24006254</td>\n",
       "      <td>133921</td>\n",
       "      <td>135079</td>\n",
       "      <td>234</td>\n",
       "      <td>0.6</td>\n",
       "      <td>Europe</td>\n",
       "    </tr>\n",
       "  </tbody>\n",
       "</table>\n",
       "</div>"
      ],
      "text/plain": [
       "  Country/Region     Cases  Deaths    PCases  PDeaths  Cases (+)  Deaths (+)  \\\n",
       "0             US  80952268  991169  80850913   990679     101355         490   \n",
       "1          India  43054952  522149  43052425   522116       2527          33   \n",
       "2         Brazil  30338697  662802  30330629   662751       8068          51   \n",
       "3         France  28354529  145982  28266009   145836      88520         146   \n",
       "4        Germany  24141333  134155  24006254   133921     135079         234   \n",
       "\n",
       "   Fatality Rate      Continent  \n",
       "0            1.2  North America  \n",
       "1            1.2           Asia  \n",
       "2            2.2  South America  \n",
       "3            0.5         Europe  \n",
       "4            0.6         Europe  "
      ]
     },
     "execution_count": 15,
     "metadata": {},
     "output_type": "execute_result"
    }
   ],
   "source": [
    "#hide\n",
    "df_table = (pd.DataFrame(dict(Cases=dfc_cases, Deaths=dfc_deaths, PCases=dfp_cases, PDeaths=dfp_deaths))\n",
    "             .sort_values(by=['Cases', 'Deaths'], ascending=[False, False])\n",
    "             .reset_index())\n",
    "df_table.rename(columns={'index': 'Country/Region'}, inplace=True)\n",
    "for c in 'Cases, Deaths'.split(', '):\n",
    "    df_table[f'{c} (+)'] = (df_table[c] - df_table[f'P{c}']).clip(0)  # DATA BUG\n",
    "df_table['Fatality Rate'] = (100 * df_table['Deaths'] / df_table['Cases']).round(1)\n",
    "df_table['Continent'] = df_table['Country/Region'].map(mapping['map.continent'])\n",
    "df_table.head(5)"
   ]
  },
  {
   "cell_type": "code",
   "execution_count": 16,
   "id": "fewer-occasion",
   "metadata": {
    "execution": {
     "iopub.execute_input": "2022-04-23T12:14:50.245025Z",
     "iopub.status.busy": "2022-04-23T12:14:50.244439Z",
     "iopub.status.idle": "2022-04-23T12:14:50.246750Z",
     "shell.execute_reply": "2022-04-23T12:14:50.247250Z"
    },
    "papermill": {
     "duration": 0.041721,
     "end_time": "2022-04-23T12:14:50.247381",
     "exception": false,
     "start_time": "2022-04-23T12:14:50.205660",
     "status": "completed"
    },
    "tags": []
   },
   "outputs": [],
   "source": [
    "#hide\n",
    "#delete problematic countries from table\n",
    "df_table = df_table[~df_table['Country/Region'].isin(['Cape Verde', 'Cruise Ship', 'Kosovo'])]"
   ]
  },
  {
   "cell_type": "code",
   "execution_count": 17,
   "id": "related-center",
   "metadata": {
    "execution": {
     "iopub.execute_input": "2022-04-23T12:14:50.340923Z",
     "iopub.status.busy": "2022-04-23T12:14:50.340322Z",
     "iopub.status.idle": "2022-04-23T12:14:50.342927Z",
     "shell.execute_reply": "2022-04-23T12:14:50.343487Z"
    },
    "papermill": {
     "duration": 0.061845,
     "end_time": "2022-04-23T12:14:50.343769",
     "exception": false,
     "start_time": "2022-04-23T12:14:50.281924",
     "status": "completed"
    },
    "tags": []
   },
   "outputs": [],
   "source": [
    "#hide\n",
    "metrics = [df_table.columns[index] for index in [1,2,5,6]]\n",
    "# s_china = df_table[df_table['Country/Region'].eq('China')][metrics].sum().add_prefix('China ')\n",
    "s_us = df_table[df_table['Country/Region'].eq('US')][metrics].sum().add_prefix('US ')\n",
    "s_eu = df_table[df_table['Continent'].eq('Europe')][metrics].sum().add_prefix('EU ')\n",
    "s_ind = df_table[df_table['Country/Region'].eq('India')][metrics].sum().add_prefix('India ')\n",
    "summary = {'updated': pd.to_datetime(dt_today), 'since': pd.to_datetime(dt_yday)}\n",
    "summary = {'updated': pd.to_datetime(dt_today), 'since': pd.to_datetime(dt_yday)}\n",
    "summary = {**summary, **df_table[metrics].sum(), **s_ind, **s_us, **s_eu}"
   ]
  },
  {
   "cell_type": "code",
   "execution_count": 18,
   "id": "engaging-syndrome",
   "metadata": {
    "execution": {
     "iopub.execute_input": "2022-04-23T12:14:50.423595Z",
     "iopub.status.busy": "2022-04-23T12:14:50.422965Z",
     "iopub.status.idle": "2022-04-23T12:14:50.440914Z",
     "shell.execute_reply": "2022-04-23T12:14:50.440364Z"
    },
    "papermill": {
     "duration": 0.06001,
     "end_time": "2022-04-23T12:14:50.441045",
     "exception": false,
     "start_time": "2022-04-23T12:14:50.381035",
     "status": "completed"
    },
    "tags": []
   },
   "outputs": [],
   "source": [
    "#hide\n",
    "dft_ct_new_cases = dft_cases.groupby(COL_REGION)[dt_cols].sum().diff(axis=1).fillna(0).astype(int)"
   ]
  },
  {
   "cell_type": "code",
   "execution_count": 19,
   "id": "neutral-assignment",
   "metadata": {
    "execution": {
     "iopub.execute_input": "2022-04-23T12:14:50.520285Z",
     "iopub.status.busy": "2022-04-23T12:14:50.519694Z",
     "iopub.status.idle": "2022-04-23T12:14:50.522550Z",
     "shell.execute_reply": "2022-04-23T12:14:50.522043Z"
    },
    "papermill": {
     "duration": 0.044406,
     "end_time": "2022-04-23T12:14:50.522669",
     "exception": false,
     "start_time": "2022-04-23T12:14:50.478263",
     "status": "completed"
    },
    "tags": []
   },
   "outputs": [],
   "source": [
    "#hide\n",
    "everydaycases = dft_ct_new_cases.cumsum(axis=1)"
   ]
  },
  {
   "cell_type": "code",
   "execution_count": 20,
   "id": "parliamentary-calgary",
   "metadata": {
    "execution": {
     "iopub.execute_input": "2022-04-23T12:14:50.599823Z",
     "iopub.status.busy": "2022-04-23T12:14:50.599138Z",
     "iopub.status.idle": "2022-04-23T12:14:51.212470Z",
     "shell.execute_reply": "2022-04-23T12:14:51.212991Z"
    },
    "papermill": {
     "duration": 0.654926,
     "end_time": "2022-04-23T12:14:51.213167",
     "exception": false,
     "start_time": "2022-04-23T12:14:50.558241",
     "status": "completed"
    },
    "tags": []
   },
   "outputs": [],
   "source": [
    "#hide\n",
    "import pandas as pd\n",
    "import matplotlib.pyplot as plt\n",
    "import matplotlib.ticker as ticker\n",
    "import matplotlib.animation as animation\n",
    "from IPython.display import HTML"
   ]
  },
  {
   "cell_type": "code",
   "execution_count": 21,
   "id": "lasting-extraction",
   "metadata": {
    "execution": {
     "iopub.execute_input": "2022-04-23T12:14:51.294714Z",
     "iopub.status.busy": "2022-04-23T12:14:51.294063Z",
     "iopub.status.idle": "2022-04-23T12:14:51.301068Z",
     "shell.execute_reply": "2022-04-23T12:14:51.300516Z"
    },
    "papermill": {
     "duration": 0.050414,
     "end_time": "2022-04-23T12:14:51.301205",
     "exception": false,
     "start_time": "2022-04-23T12:14:51.250791",
     "status": "completed"
    },
    "tags": []
   },
   "outputs": [],
   "source": [
    "#hide\n",
    "t = everydaycases.stack()"
   ]
  },
  {
   "cell_type": "code",
   "execution_count": 22,
   "id": "premier-sleeve",
   "metadata": {
    "execution": {
     "iopub.execute_input": "2022-04-23T12:14:51.374807Z",
     "iopub.status.busy": "2022-04-23T12:14:51.374207Z",
     "iopub.status.idle": "2022-04-23T12:14:51.385115Z",
     "shell.execute_reply": "2022-04-23T12:14:51.384608Z"
    },
    "papermill": {
     "duration": 0.049259,
     "end_time": "2022-04-23T12:14:51.385235",
     "exception": false,
     "start_time": "2022-04-23T12:14:51.335976",
     "status": "completed"
    },
    "tags": []
   },
   "outputs": [],
   "source": [
    "#hide\n",
    "g = t.reset_index(['Country/Region'])"
   ]
  },
  {
   "cell_type": "code",
   "execution_count": 23,
   "id": "distributed-pittsburgh",
   "metadata": {
    "execution": {
     "iopub.execute_input": "2022-04-23T12:14:51.460567Z",
     "iopub.status.busy": "2022-04-23T12:14:51.459944Z",
     "iopub.status.idle": "2022-04-23T12:14:51.462268Z",
     "shell.execute_reply": "2022-04-23T12:14:51.462866Z"
    },
    "papermill": {
     "duration": 0.042531,
     "end_time": "2022-04-23T12:14:51.463008",
     "exception": false,
     "start_time": "2022-04-23T12:14:51.420477",
     "status": "completed"
    },
    "tags": []
   },
   "outputs": [],
   "source": [
    "#hide\n",
    "g.index.name = 'date'"
   ]
  },
  {
   "cell_type": "code",
   "execution_count": 24,
   "id": "naked-donor",
   "metadata": {
    "execution": {
     "iopub.execute_input": "2022-04-23T12:14:51.543904Z",
     "iopub.status.busy": "2022-04-23T12:14:51.543298Z",
     "iopub.status.idle": "2022-04-23T12:14:51.545922Z",
     "shell.execute_reply": "2022-04-23T12:14:51.545367Z"
    },
    "papermill": {
     "duration": 0.044657,
     "end_time": "2022-04-23T12:14:51.546069",
     "exception": false,
     "start_time": "2022-04-23T12:14:51.501412",
     "status": "completed"
    },
    "tags": []
   },
   "outputs": [],
   "source": [
    "# #hide\n",
    "# g = g.reset_index(['date'])"
   ]
  },
  {
   "cell_type": "code",
   "execution_count": 25,
   "id": "incomplete-mustang",
   "metadata": {
    "execution": {
     "iopub.execute_input": "2022-04-23T12:14:51.620155Z",
     "iopub.status.busy": "2022-04-23T12:14:51.619558Z",
     "iopub.status.idle": "2022-04-23T12:14:51.621858Z",
     "shell.execute_reply": "2022-04-23T12:14:51.621361Z"
    },
    "papermill": {
     "duration": 0.040831,
     "end_time": "2022-04-23T12:14:51.621973",
     "exception": false,
     "start_time": "2022-04-23T12:14:51.581142",
     "status": "completed"
    },
    "tags": []
   },
   "outputs": [],
   "source": [
    "#hide\n",
    "# g.head()"
   ]
  },
  {
   "cell_type": "code",
   "execution_count": 26,
   "id": "specific-kruger",
   "metadata": {
    "execution": {
     "iopub.execute_input": "2022-04-23T12:14:51.697044Z",
     "iopub.status.busy": "2022-04-23T12:14:51.696411Z",
     "iopub.status.idle": "2022-04-23T12:14:51.699115Z",
     "shell.execute_reply": "2022-04-23T12:14:51.698588Z"
    },
    "papermill": {
     "duration": 0.04127,
     "end_time": "2022-04-23T12:14:51.699253",
     "exception": false,
     "start_time": "2022-04-23T12:14:51.657983",
     "status": "completed"
    },
    "tags": []
   },
   "outputs": [],
   "source": [
    "#hide\n",
    "# g.columns = ['date','country','cases']"
   ]
  },
  {
   "cell_type": "code",
   "execution_count": 27,
   "id": "tender-conversion",
   "metadata": {
    "execution": {
     "iopub.execute_input": "2022-04-23T12:14:51.776958Z",
     "iopub.status.busy": "2022-04-23T12:14:51.776295Z",
     "iopub.status.idle": "2022-04-23T12:14:51.778922Z",
     "shell.execute_reply": "2022-04-23T12:14:51.778355Z"
    },
    "papermill": {
     "duration": 0.04333,
     "end_time": "2022-04-23T12:14:51.779056",
     "exception": false,
     "start_time": "2022-04-23T12:14:51.735726",
     "status": "completed"
    },
    "tags": []
   },
   "outputs": [],
   "source": [
    "#hide\n",
    "# g['continent'] = g.country"
   ]
  },
  {
   "cell_type": "code",
   "execution_count": 28,
   "id": "substantial-wilderness",
   "metadata": {
    "execution": {
     "iopub.execute_input": "2022-04-23T12:14:51.854757Z",
     "iopub.status.busy": "2022-04-23T12:14:51.853925Z",
     "iopub.status.idle": "2022-04-23T12:14:51.856536Z",
     "shell.execute_reply": "2022-04-23T12:14:51.855989Z"
    },
    "papermill": {
     "duration": 0.040781,
     "end_time": "2022-04-23T12:14:51.856682",
     "exception": false,
     "start_time": "2022-04-23T12:14:51.815901",
     "status": "completed"
    },
    "tags": []
   },
   "outputs": [],
   "source": [
    "#hide\n",
    "# cols = list(g.columns.values)"
   ]
  },
  {
   "cell_type": "code",
   "execution_count": 29,
   "id": "solved-farming",
   "metadata": {
    "execution": {
     "iopub.execute_input": "2022-04-23T12:14:51.936185Z",
     "iopub.status.busy": "2022-04-23T12:14:51.935484Z",
     "iopub.status.idle": "2022-04-23T12:14:51.937944Z",
     "shell.execute_reply": "2022-04-23T12:14:51.937440Z"
    },
    "papermill": {
     "duration": 0.043026,
     "end_time": "2022-04-23T12:14:51.938109",
     "exception": false,
     "start_time": "2022-04-23T12:14:51.895083",
     "status": "completed"
    },
    "tags": []
   },
   "outputs": [],
   "source": [
    "#hide\n",
    "# cols.insert(0, cols.pop())"
   ]
  },
  {
   "cell_type": "code",
   "execution_count": 30,
   "id": "executed-adoption",
   "metadata": {
    "execution": {
     "iopub.execute_input": "2022-04-23T12:14:52.016175Z",
     "iopub.status.busy": "2022-04-23T12:14:52.015540Z",
     "iopub.status.idle": "2022-04-23T12:14:52.017367Z",
     "shell.execute_reply": "2022-04-23T12:14:52.017847Z"
    },
    "papermill": {
     "duration": 0.044438,
     "end_time": "2022-04-23T12:14:52.017993",
     "exception": false,
     "start_time": "2022-04-23T12:14:51.973555",
     "status": "completed"
    },
    "tags": []
   },
   "outputs": [],
   "source": [
    "#hide\n",
    "# g = g[cols]"
   ]
  },
  {
   "cell_type": "code",
   "execution_count": 31,
   "id": "subject-dublin",
   "metadata": {
    "execution": {
     "iopub.execute_input": "2022-04-23T12:14:52.099281Z",
     "iopub.status.busy": "2022-04-23T12:14:52.098639Z",
     "iopub.status.idle": "2022-04-23T12:14:52.102617Z",
     "shell.execute_reply": "2022-04-23T12:14:52.103113Z"
    },
    "papermill": {
     "duration": 0.046699,
     "end_time": "2022-04-23T12:14:52.103263",
     "exception": false,
     "start_time": "2022-04-23T12:14:52.056564",
     "status": "completed"
    },
    "tags": []
   },
   "outputs": [],
   "source": [
    "#hide\n",
    "# g['continent'] = g['continent'].map(mapping['map.continent'])"
   ]
  },
  {
   "cell_type": "code",
   "execution_count": 32,
   "id": "freelance-scout",
   "metadata": {
    "execution": {
     "iopub.execute_input": "2022-04-23T12:14:52.182806Z",
     "iopub.status.busy": "2022-04-23T12:14:52.182124Z",
     "iopub.status.idle": "2022-04-23T12:14:52.185105Z",
     "shell.execute_reply": "2022-04-23T12:14:52.185604Z"
    },
    "papermill": {
     "duration": 0.045379,
     "end_time": "2022-04-23T12:14:52.185769",
     "exception": false,
     "start_time": "2022-04-23T12:14:52.140390",
     "status": "completed"
    },
    "tags": []
   },
   "outputs": [],
   "source": [
    "#hide\n",
    "# g.head()"
   ]
  },
  {
   "cell_type": "code",
   "execution_count": 33,
   "id": "limited-engine",
   "metadata": {
    "execution": {
     "iopub.execute_input": "2022-04-23T12:14:52.272299Z",
     "iopub.status.busy": "2022-04-23T12:14:52.271657Z",
     "iopub.status.idle": "2022-04-23T12:14:52.275284Z",
     "shell.execute_reply": "2022-04-23T12:14:52.275765Z"
    },
    "papermill": {
     "duration": 0.042623,
     "end_time": "2022-04-23T12:14:52.275914",
     "exception": false,
     "start_time": "2022-04-23T12:14:52.233291",
     "status": "completed"
    },
    "tags": []
   },
   "outputs": [],
   "source": [
    "# hide\n",
    "# g['date'] = g['date'].astype('datetime64[ns]')"
   ]
  },
  {
   "cell_type": "code",
   "execution_count": 34,
   "id": "sophisticated-supervisor",
   "metadata": {
    "execution": {
     "iopub.execute_input": "2022-04-23T12:14:52.353507Z",
     "iopub.status.busy": "2022-04-23T12:14:52.352872Z",
     "iopub.status.idle": "2022-04-23T12:14:52.355537Z",
     "shell.execute_reply": "2022-04-23T12:14:52.354987Z"
    },
    "papermill": {
     "duration": 0.041865,
     "end_time": "2022-04-23T12:14:52.355657",
     "exception": false,
     "start_time": "2022-04-23T12:14:52.313792",
     "status": "completed"
    },
    "tags": []
   },
   "outputs": [],
   "source": [
    "#hide\n",
    "# g['date'] = g.date.dt.dayofyear"
   ]
  },
  {
   "cell_type": "code",
   "execution_count": 35,
   "id": "inside-dubai",
   "metadata": {
    "execution": {
     "iopub.execute_input": "2022-04-23T12:14:52.437082Z",
     "iopub.status.busy": "2022-04-23T12:14:52.436424Z",
     "iopub.status.idle": "2022-04-23T12:14:52.439330Z",
     "shell.execute_reply": "2022-04-23T12:14:52.438725Z"
    },
    "papermill": {
     "duration": 0.045598,
     "end_time": "2022-04-23T12:14:52.439457",
     "exception": false,
     "start_time": "2022-04-23T12:14:52.393859",
     "status": "completed"
    },
    "tags": []
   },
   "outputs": [],
   "source": [
    "#hide\n",
    "# g = g.rename(columns= {'continent':'group','country':'name','cases':'value'})"
   ]
  },
  {
   "cell_type": "code",
   "execution_count": 36,
   "id": "fleet-motorcycle",
   "metadata": {
    "execution": {
     "iopub.execute_input": "2022-04-23T12:14:52.515172Z",
     "iopub.status.busy": "2022-04-23T12:14:52.514573Z",
     "iopub.status.idle": "2022-04-23T12:14:52.517046Z",
     "shell.execute_reply": "2022-04-23T12:14:52.516540Z"
    },
    "papermill": {
     "duration": 0.041564,
     "end_time": "2022-04-23T12:14:52.517168",
     "exception": false,
     "start_time": "2022-04-23T12:14:52.475604",
     "status": "completed"
    },
    "tags": []
   },
   "outputs": [],
   "source": [
    "#hide\n",
    "# cols = ['name','group','day','value']"
   ]
  },
  {
   "cell_type": "code",
   "execution_count": 37,
   "id": "continued-sleeping",
   "metadata": {
    "execution": {
     "iopub.execute_input": "2022-04-23T12:14:52.590346Z",
     "iopub.status.busy": "2022-04-23T12:14:52.589644Z",
     "iopub.status.idle": "2022-04-23T12:14:52.590993Z",
     "shell.execute_reply": "2022-04-23T12:14:52.591471Z"
    },
    "papermill": {
     "duration": 0.039762,
     "end_time": "2022-04-23T12:14:52.591610",
     "exception": false,
     "start_time": "2022-04-23T12:14:52.551848",
     "status": "completed"
    },
    "tags": []
   },
   "outputs": [],
   "source": [
    "#hide\n",
    "# g.rename(columns= {'date':'day'},inplace = True)"
   ]
  },
  {
   "cell_type": "code",
   "execution_count": 38,
   "id": "major-fight",
   "metadata": {
    "execution": {
     "iopub.execute_input": "2022-04-23T12:14:52.667218Z",
     "iopub.status.busy": "2022-04-23T12:14:52.666568Z",
     "iopub.status.idle": "2022-04-23T12:14:52.669282Z",
     "shell.execute_reply": "2022-04-23T12:14:52.668786Z"
    },
    "papermill": {
     "duration": 0.042743,
     "end_time": "2022-04-23T12:14:52.669401",
     "exception": false,
     "start_time": "2022-04-23T12:14:52.626658",
     "status": "completed"
    },
    "tags": []
   },
   "outputs": [],
   "source": [
    "#hide\n",
    "# g = g[cols]"
   ]
  },
  {
   "cell_type": "code",
   "execution_count": 39,
   "id": "structured-mobile",
   "metadata": {
    "execution": {
     "iopub.execute_input": "2022-04-23T12:14:52.749401Z",
     "iopub.status.busy": "2022-04-23T12:14:52.748720Z",
     "iopub.status.idle": "2022-04-23T12:14:52.751301Z",
     "shell.execute_reply": "2022-04-23T12:14:52.750746Z"
    },
    "papermill": {
     "duration": 0.044723,
     "end_time": "2022-04-23T12:14:52.751441",
     "exception": false,
     "start_time": "2022-04-23T12:14:52.706718",
     "status": "completed"
    },
    "tags": []
   },
   "outputs": [],
   "source": [
    "# #hide\n",
    "# g = g[g.group.notna()]"
   ]
  },
  {
   "cell_type": "code",
   "execution_count": 40,
   "id": "determined-closing",
   "metadata": {
    "execution": {
     "iopub.execute_input": "2022-04-23T12:14:52.856688Z",
     "iopub.status.busy": "2022-04-23T12:14:52.853267Z",
     "iopub.status.idle": "2022-04-23T12:14:52.857673Z",
     "shell.execute_reply": "2022-04-23T12:14:52.858771Z"
    },
    "papermill": {
     "duration": 0.068137,
     "end_time": "2022-04-23T12:14:52.859022",
     "exception": false,
     "start_time": "2022-04-23T12:14:52.790885",
     "status": "completed"
    },
    "tags": []
   },
   "outputs": [],
   "source": [
    "# #hide\n",
    "# colors = dict(zip(\n",
    "#     [\"Oceania\", \"Europe\", \"Asia\", \"South America\", \"Middle East\", \"North America\", \"Africa\"],\n",
    "#     [\"#adb0ff\", \"#ffb3ff\", \"#90d595\", \"#e48381\", \"#aafbff\", \"#f7bb5f\", \"#eafb50\"]\n",
    "# ))\n",
    "# group_lk = g.set_index('name')['group'].to_dict()"
   ]
  },
  {
   "cell_type": "code",
   "execution_count": null,
   "id": "gross-drinking",
   "metadata": {
    "papermill": {
     "duration": 0.052418,
     "end_time": "2022-04-23T12:14:52.963688",
     "exception": false,
     "start_time": "2022-04-23T12:14:52.911270",
     "status": "completed"
    },
    "tags": []
   },
   "outputs": [],
   "source": []
  },
  {
   "cell_type": "code",
   "execution_count": 41,
   "id": "subject-macintosh",
   "metadata": {
    "execution": {
     "iopub.execute_input": "2022-04-23T12:14:53.043177Z",
     "iopub.status.busy": "2022-04-23T12:14:53.042521Z",
     "iopub.status.idle": "2022-04-23T12:14:53.044767Z",
     "shell.execute_reply": "2022-04-23T12:14:53.045222Z"
    },
    "papermill": {
     "duration": 0.042553,
     "end_time": "2022-04-23T12:14:53.045361",
     "exception": false,
     "start_time": "2022-04-23T12:14:53.002808",
     "status": "completed"
    },
    "tags": []
   },
   "outputs": [],
   "source": [
    "# #hide\n",
    "# fig, ax = plt.subplots(figsize=(15, 8))\n",
    "\n",
    "# def draw_barchart(current_day):\n",
    "#     dff = g[g['day'].eq(current_day)].sort_values(by='value', ascending=True).tail(10)\n",
    "#     ax.clear()\n",
    "#     ax.barh(dff['name'], dff['value'], color=[colors[group_lk[x]] for x in dff['name']])\n",
    "#     dx = dff['value'].max() / 200\n",
    "    \n",
    "#     for i, (value, name) in enumerate(zip(dff['value'], dff['name'])):\n",
    "#         ax.text(value-dx, i,     name,           size=14, weight=600, ha='right', va='bottom')\n",
    "#         ax.text(value-dx, i-.25, group_lk[name], size=10, color='#444444', ha='right', va='baseline')\n",
    "#         ax.text(value+dx, i,     f'{value:,.0f}',  size=14, ha='left',  va='center')\n",
    "#     ax.text(1, 0.4, current_day, transform=ax.transAxes, color='#777777', size=46, ha='right', weight=800)\n",
    "#     ax.text(0, 1.06, 'Population (thousands)', transform=ax.transAxes, size=12, color='#777777')\n",
    "#     ax.xaxis.set_major_formatter(ticker.StrMethodFormatter('{x:,.0f}'))\n",
    "#     ax.xaxis.set_ticks_position('top')\n",
    "#     ax.tick_params(axis='x', colors='#777777', labelsize=12)\n",
    "#     ax.set_yticks([])\n",
    "#     ax.margins(0, 0.01)\n",
    "#     ax.grid(which='major', axis='x', linestyle='-')\n",
    "#     ax.set_axisbelow(True)\n",
    "    \n",
    "#     ax.text(0, 1.15, 'Coronavirus',\n",
    "#             transform=ax.transAxes, size=24, weight=600, ha='left', va='top')\n",
    "# #     ax.text(1, 0, 'by @pratapvardhan; credit @jburnmurdoch', transform=ax.transAxes, color='#777777', ha='right',\n",
    "# #             bbox=dict(facecolor='white', alpha=0.8, edgecolor='white'))\n",
    "#     plt.box(False)"
   ]
  },
  {
   "cell_type": "code",
   "execution_count": 42,
   "id": "sexual-wages",
   "metadata": {
    "execution": {
     "iopub.execute_input": "2022-04-23T12:14:53.124522Z",
     "iopub.status.busy": "2022-04-23T12:14:53.123825Z",
     "iopub.status.idle": "2022-04-23T12:14:53.126722Z",
     "shell.execute_reply": "2022-04-23T12:14:53.126200Z"
    },
    "papermill": {
     "duration": 0.044316,
     "end_time": "2022-04-23T12:14:53.126842",
     "exception": false,
     "start_time": "2022-04-23T12:14:53.082526",
     "status": "completed"
    },
    "tags": []
   },
   "outputs": [],
   "source": [
    "# #hide_input\n",
    "# fig, ax = plt.subplots(figsize=(15, 8))\n",
    "# animator = animation.FuncAnimation(fig, draw_barchart, frames=range(g.day.values.min(), g.day.values.max()))\n",
    "# HTML(animator.to_jshtml())\n",
    "# # or use animator.to_html5_video() or animator.save() "
   ]
  },
  {
   "cell_type": "code",
   "execution_count": null,
   "id": "australian-container",
   "metadata": {
    "papermill": {
     "duration": 0.036766,
     "end_time": "2022-04-23T12:14:53.204604",
     "exception": false,
     "start_time": "2022-04-23T12:14:53.167838",
     "status": "completed"
    },
    "tags": []
   },
   "outputs": [],
   "source": []
  },
  {
   "cell_type": "code",
   "execution_count": null,
   "id": "mediterranean-pontiac",
   "metadata": {
    "papermill": {
     "duration": 0.036938,
     "end_time": "2022-04-23T12:14:53.279470",
     "exception": false,
     "start_time": "2022-04-23T12:14:53.242532",
     "status": "completed"
    },
    "tags": []
   },
   "outputs": [],
   "source": []
  },
  {
   "cell_type": "code",
   "execution_count": null,
   "id": "aging-legislature",
   "metadata": {
    "papermill": {
     "duration": 0.038163,
     "end_time": "2022-04-23T12:14:53.353377",
     "exception": false,
     "start_time": "2022-04-23T12:14:53.315214",
     "status": "completed"
    },
    "tags": []
   },
   "outputs": [],
   "source": []
  }
 ],
 "metadata": {
  "kernelspec": {
   "display_name": "Python 3",
   "language": "python",
   "name": "python3"
  },
  "language_info": {
   "codemirror_mode": {
    "name": "ipython",
    "version": 3
   },
   "file_extension": ".py",
   "mimetype": "text/x-python",
   "name": "python",
   "nbconvert_exporter": "python",
   "pygments_lexer": "ipython3",
   "version": "3.6.15"
  },
  "papermill": {
   "duration": 6.949064,
   "end_time": "2022-04-23T12:14:53.810240",
   "environment_variables": {},
   "exception": null,
   "input_path": "2020-03-21-covid19exp.ipynb",
   "output_path": "2020-03-21-covid19exp.ipynb",
   "parameters": {},
   "start_time": "2022-04-23T12:14:46.861176",
   "version": "2.0.0"
  }
 },
 "nbformat": 4,
 "nbformat_minor": 5
}