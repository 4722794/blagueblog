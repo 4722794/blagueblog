{
 "cells": [
  {
   "cell_type": "markdown",
   "id": "muslim-click",
   "metadata": {
    "papermill": {
     "duration": 0.033895,
     "end_time": "2022-06-22T00:45:45.431750",
     "exception": false,
     "start_time": "2022-06-22T00:45:45.397855",
     "status": "completed"
    },
    "tags": []
   },
   "source": [
    "# COVID-19 Case Race\n",
    "> A race chart to see rising cases around the world\n",
    "\n",
    "- author: Hargun Oberoi\n",
    "- image: images/covid-overview.png\n",
    "- hide: false\n",
    "- badges: false"
   ]
  },
  {
   "cell_type": "code",
   "execution_count": 1,
   "id": "proof-material",
   "metadata": {
    "execution": {
     "iopub.execute_input": "2022-06-22T00:45:45.504141Z",
     "iopub.status.busy": "2022-06-22T00:45:45.503571Z",
     "iopub.status.idle": "2022-06-22T00:45:45.811053Z",
     "shell.execute_reply": "2022-06-22T00:45:45.810517Z"
    },
    "papermill": {
     "duration": 0.348111,
     "end_time": "2022-06-22T00:45:45.811175",
     "exception": false,
     "start_time": "2022-06-22T00:45:45.463064",
     "status": "completed"
    },
    "tags": []
   },
   "outputs": [],
   "source": [
    "#hide\n",
    "import numpy as np\n",
    "import pandas as pd\n",
    "from jinja2 import Template\n",
    "from IPython.display import HTML"
   ]
  },
  {
   "cell_type": "code",
   "execution_count": 2,
   "id": "developed-terminology",
   "metadata": {
    "execution": {
     "iopub.execute_input": "2022-06-22T00:45:45.874651Z",
     "iopub.status.busy": "2022-06-22T00:45:45.874075Z",
     "iopub.status.idle": "2022-06-22T00:45:45.876641Z",
     "shell.execute_reply": "2022-06-22T00:45:45.876187Z"
    },
    "papermill": {
     "duration": 0.03586,
     "end_time": "2022-06-22T00:45:45.876741",
     "exception": false,
     "start_time": "2022-06-22T00:45:45.840881",
     "status": "completed"
    },
    "tags": []
   },
   "outputs": [],
   "source": [
    "#hide\n",
    "\n",
    "# FETCH\n",
    "base_url = 'https://raw.githubusercontent.com/pratapvardhan/notebooks/master/covid19/'\n",
    "paths = {\n",
    "    'mapping': base_url + 'mapping_countries.csv',\n",
    "    'overview': base_url + 'overview.tpl'\n",
    "}"
   ]
  },
  {
   "cell_type": "code",
   "execution_count": 3,
   "id": "dynamic-saver",
   "metadata": {
    "execution": {
     "iopub.execute_input": "2022-06-22T00:45:45.943157Z",
     "iopub.status.busy": "2022-06-22T00:45:45.942600Z",
     "iopub.status.idle": "2022-06-22T00:45:45.946191Z",
     "shell.execute_reply": "2022-06-22T00:45:45.946696Z"
    },
    "papermill": {
     "duration": 0.040827,
     "end_time": "2022-06-22T00:45:45.946806",
     "exception": false,
     "start_time": "2022-06-22T00:45:45.905979",
     "status": "completed"
    },
    "tags": []
   },
   "outputs": [
    {
     "data": {
      "text/plain": [
       "'https://raw.githubusercontent.com/pratapvardhan/notebooks/master/covid19/mapping_countries.csv'"
      ]
     },
     "execution_count": 3,
     "metadata": {},
     "output_type": "execute_result"
    }
   ],
   "source": [
    "#hide\n",
    "paths['mapping']"
   ]
  },
  {
   "cell_type": "code",
   "execution_count": 4,
   "id": "urban-software",
   "metadata": {
    "execution": {
     "iopub.execute_input": "2022-06-22T00:45:46.010684Z",
     "iopub.status.busy": "2022-06-22T00:45:46.010066Z",
     "iopub.status.idle": "2022-06-22T00:45:46.012637Z",
     "shell.execute_reply": "2022-06-22T00:45:46.012120Z"
    },
    "papermill": {
     "duration": 0.036144,
     "end_time": "2022-06-22T00:45:46.012732",
     "exception": false,
     "start_time": "2022-06-22T00:45:45.976588",
     "status": "completed"
    },
    "tags": []
   },
   "outputs": [],
   "source": [
    "#hide\n",
    "def get_mappings(url):\n",
    "    df = pd.read_csv(url)\n",
    "    return {\n",
    "        'df': df,\n",
    "        'replace.country': dict(df.dropna(subset=['Name']).set_index('Country')['Name']),\n",
    "        'map.continent': dict(df.set_index('Name')['Continent'])\n",
    "    }"
   ]
  },
  {
   "cell_type": "code",
   "execution_count": 5,
   "id": "intimate-machinery",
   "metadata": {
    "execution": {
     "iopub.execute_input": "2022-06-22T00:45:46.077181Z",
     "iopub.status.busy": "2022-06-22T00:45:46.076615Z",
     "iopub.status.idle": "2022-06-22T00:45:46.114885Z",
     "shell.execute_reply": "2022-06-22T00:45:46.114398Z"
    },
    "papermill": {
     "duration": 0.072596,
     "end_time": "2022-06-22T00:45:46.114994",
     "exception": false,
     "start_time": "2022-06-22T00:45:46.042398",
     "status": "completed"
    },
    "tags": []
   },
   "outputs": [],
   "source": [
    "#hide\n",
    "mapping = get_mappings(paths['mapping'])"
   ]
  },
  {
   "cell_type": "code",
   "execution_count": 6,
   "id": "certified-tactics",
   "metadata": {
    "execution": {
     "iopub.execute_input": "2022-06-22T00:45:46.179204Z",
     "iopub.status.busy": "2022-06-22T00:45:46.178650Z",
     "iopub.status.idle": "2022-06-22T00:45:46.180909Z",
     "shell.execute_reply": "2022-06-22T00:45:46.181340Z"
    },
    "papermill": {
     "duration": 0.036621,
     "end_time": "2022-06-22T00:45:46.181455",
     "exception": false,
     "start_time": "2022-06-22T00:45:46.144834",
     "status": "completed"
    },
    "tags": []
   },
   "outputs": [],
   "source": [
    "#hide\n",
    "def get_template(path):\n",
    "    from urllib.parse import urlparse\n",
    "    if bool(urlparse(path).netloc):\n",
    "        from urllib.request import urlopen\n",
    "        return urlopen(path).read().decode('utf8')\n",
    "    return open(path).read()"
   ]
  },
  {
   "cell_type": "code",
   "execution_count": 7,
   "id": "realistic-blast",
   "metadata": {
    "execution": {
     "iopub.execute_input": "2022-06-22T00:45:46.245049Z",
     "iopub.status.busy": "2022-06-22T00:45:46.244474Z",
     "iopub.status.idle": "2022-06-22T00:45:46.246887Z",
     "shell.execute_reply": "2022-06-22T00:45:46.246397Z"
    },
    "papermill": {
     "duration": 0.035943,
     "end_time": "2022-06-22T00:45:46.246986",
     "exception": false,
     "start_time": "2022-06-22T00:45:46.211043",
     "status": "completed"
    },
    "tags": []
   },
   "outputs": [],
   "source": [
    "#hide\n",
    "def get_frame(name):\n",
    "    url = (\n",
    "        'https://raw.githubusercontent.com/CSSEGISandData/COVID-19/master/csse_covid_19_data/'\n",
    "        f'csse_covid_19_time_series/time_series_covid19_{name}_global.csv')\n",
    "    df = pd.read_csv(url)\n",
    "    # rename countries\n",
    "    df['Country/Region'] = df['Country/Region'].replace(mapping['replace.country'])\n",
    "    return df"
   ]
  },
  {
   "cell_type": "code",
   "execution_count": 8,
   "id": "affiliated-characterization",
   "metadata": {
    "execution": {
     "iopub.execute_input": "2022-06-22T00:45:46.311316Z",
     "iopub.status.busy": "2022-06-22T00:45:46.310744Z",
     "iopub.status.idle": "2022-06-22T00:45:46.313257Z",
     "shell.execute_reply": "2022-06-22T00:45:46.312772Z"
    },
    "papermill": {
     "duration": 0.036751,
     "end_time": "2022-06-22T00:45:46.313354",
     "exception": false,
     "start_time": "2022-06-22T00:45:46.276603",
     "status": "completed"
    },
    "tags": []
   },
   "outputs": [],
   "source": [
    "#hide\n",
    "def get_dates(df):\n",
    "    dt_cols = df.columns[~df.columns.isin(['Province/State', 'Country/Region', 'Lat', 'Long'])]\n",
    "    LAST_DATE_I = -1\n",
    "    # sometimes last column may be empty, then go backwards\n",
    "    for i in range(-1, -len(dt_cols), -1):\n",
    "        if not df[dt_cols[i]].fillna(0).eq(0).all():\n",
    "            LAST_DATE_I = i\n",
    "            break\n",
    "    return LAST_DATE_I, dt_cols"
   ]
  },
  {
   "cell_type": "code",
   "execution_count": 9,
   "id": "recent-optimization",
   "metadata": {
    "execution": {
     "iopub.execute_input": "2022-06-22T00:45:46.376805Z",
     "iopub.status.busy": "2022-06-22T00:45:46.376240Z",
     "iopub.status.idle": "2022-06-22T00:45:46.826291Z",
     "shell.execute_reply": "2022-06-22T00:45:46.825813Z"
    },
    "papermill": {
     "duration": 0.48359,
     "end_time": "2022-06-22T00:45:46.826409",
     "exception": false,
     "start_time": "2022-06-22T00:45:46.342819",
     "status": "completed"
    },
    "tags": []
   },
   "outputs": [],
   "source": [
    "#hide\n",
    "COL_REGION = 'Country/Region'\n",
    "# Confirmed, Recovered, Deaths\n",
    "df = get_frame('confirmed')\n",
    "# dft_: timeseries, dfc_: today country agg\n",
    "dft_cases = df\n",
    "dft_deaths = get_frame('deaths')\n",
    "dft_recovered = get_frame('recovered')\n",
    "LAST_DATE_I, dt_cols = get_dates(df)"
   ]
  },
  {
   "cell_type": "code",
   "execution_count": 10,
   "id": "absolute-copper",
   "metadata": {
    "execution": {
     "iopub.execute_input": "2022-06-22T00:45:46.890809Z",
     "iopub.status.busy": "2022-06-22T00:45:46.890231Z",
     "iopub.status.idle": "2022-06-22T00:45:46.892748Z",
     "shell.execute_reply": "2022-06-22T00:45:46.892204Z"
    },
    "papermill": {
     "duration": 0.036646,
     "end_time": "2022-06-22T00:45:46.892847",
     "exception": false,
     "start_time": "2022-06-22T00:45:46.856201",
     "status": "completed"
    },
    "tags": []
   },
   "outputs": [],
   "source": [
    "#hide\n",
    "LAST_DATE_I, dt_cols = get_dates(df)\n",
    "dt_today =dt_cols[LAST_DATE_I]\n",
    "# dt_5day = dt_cols[LAST_DATE_I - 5]\n",
    "dt_yday = dt_cols[LAST_DATE_I - 1]"
   ]
  },
  {
   "cell_type": "code",
   "execution_count": 11,
   "id": "restricted-sheriff",
   "metadata": {
    "execution": {
     "iopub.execute_input": "2022-06-22T00:45:46.956594Z",
     "iopub.status.busy": "2022-06-22T00:45:46.956033Z",
     "iopub.status.idle": "2022-06-22T00:45:46.963406Z",
     "shell.execute_reply": "2022-06-22T00:45:46.962954Z"
    },
    "papermill": {
     "duration": 0.041052,
     "end_time": "2022-06-22T00:45:46.963504",
     "exception": false,
     "start_time": "2022-06-22T00:45:46.922452",
     "status": "completed"
    },
    "tags": []
   },
   "outputs": [],
   "source": [
    "#hide\n",
    "dfc_cases = dft_cases.groupby(COL_REGION)[dt_today].sum()\n",
    "dfc_deaths = dft_deaths.groupby(COL_REGION)[dt_today].sum()\n",
    "# dfp_cases = dft_cases.groupby(COL_REGION)[dt_5day].sum()\n",
    "# dfp_deaths = dft_deaths.groupby(COL_REGION)[dt_5day].sum()\n",
    "dfp_cases = dft_cases.groupby(COL_REGION)[dt_yday].sum()\n",
    "dfp_deaths = dft_deaths.groupby(COL_REGION)[dt_yday].sum()"
   ]
  },
  {
   "cell_type": "code",
   "execution_count": 12,
   "id": "deluxe-hepatitis",
   "metadata": {
    "execution": {
     "iopub.execute_input": "2022-06-22T00:45:47.027976Z",
     "iopub.status.busy": "2022-06-22T00:45:47.027409Z",
     "iopub.status.idle": "2022-06-22T00:45:47.032003Z",
     "shell.execute_reply": "2022-06-22T00:45:47.031477Z"
    },
    "papermill": {
     "duration": 0.039025,
     "end_time": "2022-06-22T00:45:47.032099",
     "exception": false,
     "start_time": "2022-06-22T00:45:46.993074",
     "status": "completed"
    },
    "tags": []
   },
   "outputs": [],
   "source": [
    "#hide\n",
    "df_table = (pd.DataFrame(dict(Cases = dfc_cases, Deaths = dfc_deaths, PCases = dfp_cases, PDeaths = dfp_deaths))\n",
    "            .sort_values(by = ['Cases','Deaths'], ascending = [False, False])\n",
    "            .reset_index())"
   ]
  },
  {
   "cell_type": "code",
   "execution_count": 13,
   "id": "educational-chancellor",
   "metadata": {
    "execution": {
     "iopub.execute_input": "2022-06-22T00:45:47.100688Z",
     "iopub.status.busy": "2022-06-22T00:45:47.100130Z",
     "iopub.status.idle": "2022-06-22T00:45:47.116804Z",
     "shell.execute_reply": "2022-06-22T00:45:47.117323Z"
    },
    "papermill": {
     "duration": 0.054821,
     "end_time": "2022-06-22T00:45:47.117436",
     "exception": false,
     "start_time": "2022-06-22T00:45:47.062615",
     "status": "completed"
    },
    "tags": []
   },
   "outputs": [
    {
     "data": {
      "text/html": [
       "<div>\n",
       "<style scoped>\n",
       "    .dataframe tbody tr th:only-of-type {\n",
       "        vertical-align: middle;\n",
       "    }\n",
       "\n",
       "    .dataframe tbody tr th {\n",
       "        vertical-align: top;\n",
       "    }\n",
       "\n",
       "    .dataframe thead th {\n",
       "        text-align: right;\n",
       "    }\n",
       "</style>\n",
       "<table border=\"1\" class=\"dataframe\">\n",
       "  <thead>\n",
       "    <tr style=\"text-align: right;\">\n",
       "      <th></th>\n",
       "      <th>Country/Region</th>\n",
       "      <th>Cases</th>\n",
       "      <th>Deaths</th>\n",
       "      <th>PCases</th>\n",
       "      <th>PDeaths</th>\n",
       "      <th>Cases (+)</th>\n",
       "      <th>Deaths (+)</th>\n",
       "      <th>Fatality Rate</th>\n",
       "      <th>Continent</th>\n",
       "    </tr>\n",
       "  </thead>\n",
       "  <tbody>\n",
       "    <tr>\n",
       "      <th>0</th>\n",
       "      <td>US</td>\n",
       "      <td>86297081</td>\n",
       "      <td>1013493</td>\n",
       "      <td>86246101</td>\n",
       "      <td>1013413</td>\n",
       "      <td>50980</td>\n",
       "      <td>80</td>\n",
       "      <td>1.17</td>\n",
       "      <td>North America</td>\n",
       "    </tr>\n",
       "    <tr>\n",
       "      <th>1</th>\n",
       "      <td>India</td>\n",
       "      <td>43319396</td>\n",
       "      <td>524890</td>\n",
       "      <td>43309473</td>\n",
       "      <td>524873</td>\n",
       "      <td>9923</td>\n",
       "      <td>17</td>\n",
       "      <td>1.21</td>\n",
       "      <td>Asia</td>\n",
       "    </tr>\n",
       "    <tr>\n",
       "      <th>2</th>\n",
       "      <td>Brazil</td>\n",
       "      <td>31754465</td>\n",
       "      <td>669161</td>\n",
       "      <td>31611769</td>\n",
       "      <td>668693</td>\n",
       "      <td>142696</td>\n",
       "      <td>468</td>\n",
       "      <td>2.11</td>\n",
       "      <td>South America</td>\n",
       "    </tr>\n",
       "    <tr>\n",
       "      <th>3</th>\n",
       "      <td>France</td>\n",
       "      <td>30381221</td>\n",
       "      <td>150145</td>\n",
       "      <td>30279240</td>\n",
       "      <td>150078</td>\n",
       "      <td>101981</td>\n",
       "      <td>67</td>\n",
       "      <td>0.49</td>\n",
       "      <td>Europe</td>\n",
       "    </tr>\n",
       "    <tr>\n",
       "      <th>4</th>\n",
       "      <td>Germany</td>\n",
       "      <td>27334993</td>\n",
       "      <td>140358</td>\n",
       "      <td>27211896</td>\n",
       "      <td>140176</td>\n",
       "      <td>123097</td>\n",
       "      <td>182</td>\n",
       "      <td>0.51</td>\n",
       "      <td>Europe</td>\n",
       "    </tr>\n",
       "  </tbody>\n",
       "</table>\n",
       "</div>"
      ],
      "text/plain": [
       "  Country/Region     Cases   Deaths    PCases  PDeaths  Cases (+)  Deaths (+)  \\\n",
       "0             US  86297081  1013493  86246101  1013413      50980          80   \n",
       "1          India  43319396   524890  43309473   524873       9923          17   \n",
       "2         Brazil  31754465   669161  31611769   668693     142696         468   \n",
       "3         France  30381221   150145  30279240   150078     101981          67   \n",
       "4        Germany  27334993   140358  27211896   140176     123097         182   \n",
       "\n",
       "   Fatality Rate      Continent  \n",
       "0           1.17  North America  \n",
       "1           1.21           Asia  \n",
       "2           2.11  South America  \n",
       "3           0.49         Europe  \n",
       "4           0.51         Europe  "
      ]
     },
     "execution_count": 13,
     "metadata": {},
     "output_type": "execute_result"
    }
   ],
   "source": [
    "#hide\n",
    "for c in 'Cases, Deaths'.split(', '):\n",
    "    df_table[f'{c} (+)'] = (df_table[c] - df_table[f'P{c}']).clip(0)\n",
    "    #Clip ça veut dire, les chiffres negatif sont interdit\n",
    "df_table['Fatality Rate'] = (100* df_table['Deaths']/ df_table['Cases']).round(2)\n",
    "df_table['Continent'] = df_table['Country/Region'].map(mapping['map.continent'])\n",
    "df_table.head(5)"
   ]
  },
  {
   "cell_type": "code",
   "execution_count": 14,
   "id": "aboriginal-bulgaria",
   "metadata": {
    "execution": {
     "iopub.execute_input": "2022-06-22T00:45:47.182465Z",
     "iopub.status.busy": "2022-06-22T00:45:47.181876Z",
     "iopub.status.idle": "2022-06-22T00:45:47.184273Z",
     "shell.execute_reply": "2022-06-22T00:45:47.183741Z"
    },
    "papermill": {
     "duration": 0.036857,
     "end_time": "2022-06-22T00:45:47.184370",
     "exception": false,
     "start_time": "2022-06-22T00:45:47.147513",
     "status": "completed"
    },
    "tags": []
   },
   "outputs": [],
   "source": [
    "#hide\n",
    "#delete problematic countries from table\n",
    "df_table = df_table[~df_table['Country/Region'].isin(['Cape Verde', 'Cruise Ship', 'Kosovo'])]"
   ]
  },
  {
   "cell_type": "code",
   "execution_count": 15,
   "id": "fantastic-effect",
   "metadata": {
    "execution": {
     "iopub.execute_input": "2022-06-22T00:45:47.251552Z",
     "iopub.status.busy": "2022-06-22T00:45:47.250978Z",
     "iopub.status.idle": "2022-06-22T00:45:47.267464Z",
     "shell.execute_reply": "2022-06-22T00:45:47.267927Z"
    },
    "papermill": {
     "duration": 0.05352,
     "end_time": "2022-06-22T00:45:47.268040",
     "exception": false,
     "start_time": "2022-06-22T00:45:47.214520",
     "status": "completed"
    },
    "tags": []
   },
   "outputs": [
    {
     "data": {
      "text/html": [
       "<div>\n",
       "<style scoped>\n",
       "    .dataframe tbody tr th:only-of-type {\n",
       "        vertical-align: middle;\n",
       "    }\n",
       "\n",
       "    .dataframe tbody tr th {\n",
       "        vertical-align: top;\n",
       "    }\n",
       "\n",
       "    .dataframe thead th {\n",
       "        text-align: right;\n",
       "    }\n",
       "</style>\n",
       "<table border=\"1\" class=\"dataframe\">\n",
       "  <thead>\n",
       "    <tr style=\"text-align: right;\">\n",
       "      <th></th>\n",
       "      <th>Country/Region</th>\n",
       "      <th>Cases</th>\n",
       "      <th>Deaths</th>\n",
       "      <th>PCases</th>\n",
       "      <th>PDeaths</th>\n",
       "      <th>Cases (+)</th>\n",
       "      <th>Deaths (+)</th>\n",
       "      <th>Fatality Rate</th>\n",
       "      <th>Continent</th>\n",
       "    </tr>\n",
       "  </thead>\n",
       "  <tbody>\n",
       "    <tr>\n",
       "      <th>0</th>\n",
       "      <td>US</td>\n",
       "      <td>86297081</td>\n",
       "      <td>1013493</td>\n",
       "      <td>86246101</td>\n",
       "      <td>1013413</td>\n",
       "      <td>50980</td>\n",
       "      <td>80</td>\n",
       "      <td>1.2</td>\n",
       "      <td>North America</td>\n",
       "    </tr>\n",
       "    <tr>\n",
       "      <th>1</th>\n",
       "      <td>India</td>\n",
       "      <td>43319396</td>\n",
       "      <td>524890</td>\n",
       "      <td>43309473</td>\n",
       "      <td>524873</td>\n",
       "      <td>9923</td>\n",
       "      <td>17</td>\n",
       "      <td>1.2</td>\n",
       "      <td>Asia</td>\n",
       "    </tr>\n",
       "    <tr>\n",
       "      <th>2</th>\n",
       "      <td>Brazil</td>\n",
       "      <td>31754465</td>\n",
       "      <td>669161</td>\n",
       "      <td>31611769</td>\n",
       "      <td>668693</td>\n",
       "      <td>142696</td>\n",
       "      <td>468</td>\n",
       "      <td>2.1</td>\n",
       "      <td>South America</td>\n",
       "    </tr>\n",
       "    <tr>\n",
       "      <th>3</th>\n",
       "      <td>France</td>\n",
       "      <td>30381221</td>\n",
       "      <td>150145</td>\n",
       "      <td>30279240</td>\n",
       "      <td>150078</td>\n",
       "      <td>101981</td>\n",
       "      <td>67</td>\n",
       "      <td>0.5</td>\n",
       "      <td>Europe</td>\n",
       "    </tr>\n",
       "    <tr>\n",
       "      <th>4</th>\n",
       "      <td>Germany</td>\n",
       "      <td>27334993</td>\n",
       "      <td>140358</td>\n",
       "      <td>27211896</td>\n",
       "      <td>140176</td>\n",
       "      <td>123097</td>\n",
       "      <td>182</td>\n",
       "      <td>0.5</td>\n",
       "      <td>Europe</td>\n",
       "    </tr>\n",
       "  </tbody>\n",
       "</table>\n",
       "</div>"
      ],
      "text/plain": [
       "  Country/Region     Cases   Deaths    PCases  PDeaths  Cases (+)  Deaths (+)  \\\n",
       "0             US  86297081  1013493  86246101  1013413      50980          80   \n",
       "1          India  43319396   524890  43309473   524873       9923          17   \n",
       "2         Brazil  31754465   669161  31611769   668693     142696         468   \n",
       "3         France  30381221   150145  30279240   150078     101981          67   \n",
       "4        Germany  27334993   140358  27211896   140176     123097         182   \n",
       "\n",
       "   Fatality Rate      Continent  \n",
       "0            1.2  North America  \n",
       "1            1.2           Asia  \n",
       "2            2.1  South America  \n",
       "3            0.5         Europe  \n",
       "4            0.5         Europe  "
      ]
     },
     "execution_count": 15,
     "metadata": {},
     "output_type": "execute_result"
    }
   ],
   "source": [
    "#hide\n",
    "df_table = (pd.DataFrame(dict(Cases=dfc_cases, Deaths=dfc_deaths, PCases=dfp_cases, PDeaths=dfp_deaths))\n",
    "             .sort_values(by=['Cases', 'Deaths'], ascending=[False, False])\n",
    "             .reset_index())\n",
    "df_table.rename(columns={'index': 'Country/Region'}, inplace=True)\n",
    "for c in 'Cases, Deaths'.split(', '):\n",
    "    df_table[f'{c} (+)'] = (df_table[c] - df_table[f'P{c}']).clip(0)  # DATA BUG\n",
    "df_table['Fatality Rate'] = (100 * df_table['Deaths'] / df_table['Cases']).round(1)\n",
    "df_table['Continent'] = df_table['Country/Region'].map(mapping['map.continent'])\n",
    "df_table.head(5)"
   ]
  },
  {
   "cell_type": "code",
   "execution_count": 16,
   "id": "fewer-occasion",
   "metadata": {
    "execution": {
     "iopub.execute_input": "2022-06-22T00:45:47.334020Z",
     "iopub.status.busy": "2022-06-22T00:45:47.333473Z",
     "iopub.status.idle": "2022-06-22T00:45:47.336186Z",
     "shell.execute_reply": "2022-06-22T00:45:47.335642Z"
    },
    "papermill": {
     "duration": 0.037557,
     "end_time": "2022-06-22T00:45:47.336284",
     "exception": false,
     "start_time": "2022-06-22T00:45:47.298727",
     "status": "completed"
    },
    "tags": []
   },
   "outputs": [],
   "source": [
    "#hide\n",
    "#delete problematic countries from table\n",
    "df_table = df_table[~df_table['Country/Region'].isin(['Cape Verde', 'Cruise Ship', 'Kosovo'])]"
   ]
  },
  {
   "cell_type": "code",
   "execution_count": 17,
   "id": "related-center",
   "metadata": {
    "execution": {
     "iopub.execute_input": "2022-06-22T00:45:47.413681Z",
     "iopub.status.busy": "2022-06-22T00:45:47.413112Z",
     "iopub.status.idle": "2022-06-22T00:45:47.415754Z",
     "shell.execute_reply": "2022-06-22T00:45:47.415286Z"
    },
    "papermill": {
     "duration": 0.049046,
     "end_time": "2022-06-22T00:45:47.415852",
     "exception": false,
     "start_time": "2022-06-22T00:45:47.366806",
     "status": "completed"
    },
    "tags": []
   },
   "outputs": [],
   "source": [
    "#hide\n",
    "metrics = [df_table.columns[index] for index in [1,2,5,6]]\n",
    "# s_china = df_table[df_table['Country/Region'].eq('China')][metrics].sum().add_prefix('China ')\n",
    "s_us = df_table[df_table['Country/Region'].eq('US')][metrics].sum().add_prefix('US ')\n",
    "s_eu = df_table[df_table['Continent'].eq('Europe')][metrics].sum().add_prefix('EU ')\n",
    "s_ind = df_table[df_table['Country/Region'].eq('India')][metrics].sum().add_prefix('India ')\n",
    "summary = {'updated': pd.to_datetime(dt_today), 'since': pd.to_datetime(dt_yday)}\n",
    "summary = {'updated': pd.to_datetime(dt_today), 'since': pd.to_datetime(dt_yday)}\n",
    "summary = {**summary, **df_table[metrics].sum(), **s_ind, **s_us, **s_eu}"
   ]
  },
  {
   "cell_type": "code",
   "execution_count": 18,
   "id": "engaging-syndrome",
   "metadata": {
    "execution": {
     "iopub.execute_input": "2022-06-22T00:45:47.481471Z",
     "iopub.status.busy": "2022-06-22T00:45:47.480921Z",
     "iopub.status.idle": "2022-06-22T00:45:47.499733Z",
     "shell.execute_reply": "2022-06-22T00:45:47.499208Z"
    },
    "papermill": {
     "duration": 0.053286,
     "end_time": "2022-06-22T00:45:47.499834",
     "exception": false,
     "start_time": "2022-06-22T00:45:47.446548",
     "status": "completed"
    },
    "tags": []
   },
   "outputs": [],
   "source": [
    "#hide\n",
    "dft_ct_new_cases = dft_cases.groupby(COL_REGION)[dt_cols].sum().diff(axis=1).fillna(0).astype(int)"
   ]
  },
  {
   "cell_type": "code",
   "execution_count": 19,
   "id": "neutral-assignment",
   "metadata": {
    "execution": {
     "iopub.execute_input": "2022-06-22T00:45:47.565987Z",
     "iopub.status.busy": "2022-06-22T00:45:47.565443Z",
     "iopub.status.idle": "2022-06-22T00:45:47.568086Z",
     "shell.execute_reply": "2022-06-22T00:45:47.567640Z"
    },
    "papermill": {
     "duration": 0.037694,
     "end_time": "2022-06-22T00:45:47.568180",
     "exception": false,
     "start_time": "2022-06-22T00:45:47.530486",
     "status": "completed"
    },
    "tags": []
   },
   "outputs": [],
   "source": [
    "#hide\n",
    "everydaycases = dft_ct_new_cases.cumsum(axis=1)"
   ]
  },
  {
   "cell_type": "code",
   "execution_count": 20,
   "id": "parliamentary-calgary",
   "metadata": {
    "execution": {
     "iopub.execute_input": "2022-06-22T00:45:47.633597Z",
     "iopub.status.busy": "2022-06-22T00:45:47.633038Z",
     "iopub.status.idle": "2022-06-22T00:45:48.166189Z",
     "shell.execute_reply": "2022-06-22T00:45:48.165704Z"
    },
    "papermill": {
     "duration": 0.567433,
     "end_time": "2022-06-22T00:45:48.166304",
     "exception": false,
     "start_time": "2022-06-22T00:45:47.598871",
     "status": "completed"
    },
    "tags": []
   },
   "outputs": [],
   "source": [
    "#hide\n",
    "import pandas as pd\n",
    "import matplotlib.pyplot as plt\n",
    "import matplotlib.ticker as ticker\n",
    "import matplotlib.animation as animation\n",
    "from IPython.display import HTML"
   ]
  },
  {
   "cell_type": "code",
   "execution_count": 21,
   "id": "lasting-extraction",
   "metadata": {
    "execution": {
     "iopub.execute_input": "2022-06-22T00:45:48.233617Z",
     "iopub.status.busy": "2022-06-22T00:45:48.233056Z",
     "iopub.status.idle": "2022-06-22T00:45:48.239113Z",
     "shell.execute_reply": "2022-06-22T00:45:48.239549Z"
    },
    "papermill": {
     "duration": 0.042438,
     "end_time": "2022-06-22T00:45:48.239671",
     "exception": false,
     "start_time": "2022-06-22T00:45:48.197233",
     "status": "completed"
    },
    "tags": []
   },
   "outputs": [],
   "source": [
    "#hide\n",
    "t = everydaycases.stack()"
   ]
  },
  {
   "cell_type": "code",
   "execution_count": 22,
   "id": "premier-sleeve",
   "metadata": {
    "execution": {
     "iopub.execute_input": "2022-06-22T00:45:48.304945Z",
     "iopub.status.busy": "2022-06-22T00:45:48.304385Z",
     "iopub.status.idle": "2022-06-22T00:45:48.315160Z",
     "shell.execute_reply": "2022-06-22T00:45:48.314721Z"
    },
    "papermill": {
     "duration": 0.044844,
     "end_time": "2022-06-22T00:45:48.315258",
     "exception": false,
     "start_time": "2022-06-22T00:45:48.270414",
     "status": "completed"
    },
    "tags": []
   },
   "outputs": [],
   "source": [
    "#hide\n",
    "g = t.reset_index(['Country/Region'])"
   ]
  },
  {
   "cell_type": "code",
   "execution_count": 23,
   "id": "distributed-pittsburgh",
   "metadata": {
    "execution": {
     "iopub.execute_input": "2022-06-22T00:45:48.380109Z",
     "iopub.status.busy": "2022-06-22T00:45:48.379541Z",
     "iopub.status.idle": "2022-06-22T00:45:48.381896Z",
     "shell.execute_reply": "2022-06-22T00:45:48.381374Z"
    },
    "papermill": {
     "duration": 0.036091,
     "end_time": "2022-06-22T00:45:48.381995",
     "exception": false,
     "start_time": "2022-06-22T00:45:48.345904",
     "status": "completed"
    },
    "tags": []
   },
   "outputs": [],
   "source": [
    "#hide\n",
    "g.index.name = 'date'"
   ]
  },
  {
   "cell_type": "code",
   "execution_count": 24,
   "id": "naked-donor",
   "metadata": {
    "execution": {
     "iopub.execute_input": "2022-06-22T00:45:48.446487Z",
     "iopub.status.busy": "2022-06-22T00:45:48.445918Z",
     "iopub.status.idle": "2022-06-22T00:45:48.448414Z",
     "shell.execute_reply": "2022-06-22T00:45:48.447954Z"
    },
    "papermill": {
     "duration": 0.035898,
     "end_time": "2022-06-22T00:45:48.448510",
     "exception": false,
     "start_time": "2022-06-22T00:45:48.412612",
     "status": "completed"
    },
    "tags": []
   },
   "outputs": [],
   "source": [
    "# #hide\n",
    "# g = g.reset_index(['date'])"
   ]
  },
  {
   "cell_type": "code",
   "execution_count": 25,
   "id": "incomplete-mustang",
   "metadata": {
    "execution": {
     "iopub.execute_input": "2022-06-22T00:45:48.512670Z",
     "iopub.status.busy": "2022-06-22T00:45:48.512100Z",
     "iopub.status.idle": "2022-06-22T00:45:48.514425Z",
     "shell.execute_reply": "2022-06-22T00:45:48.513908Z"
    },
    "papermill": {
     "duration": 0.035441,
     "end_time": "2022-06-22T00:45:48.514519",
     "exception": false,
     "start_time": "2022-06-22T00:45:48.479078",
     "status": "completed"
    },
    "tags": []
   },
   "outputs": [],
   "source": [
    "#hide\n",
    "# g.head()"
   ]
  },
  {
   "cell_type": "code",
   "execution_count": 26,
   "id": "specific-kruger",
   "metadata": {
    "execution": {
     "iopub.execute_input": "2022-06-22T00:45:48.578777Z",
     "iopub.status.busy": "2022-06-22T00:45:48.578222Z",
     "iopub.status.idle": "2022-06-22T00:45:48.580788Z",
     "shell.execute_reply": "2022-06-22T00:45:48.580337Z"
    },
    "papermill": {
     "duration": 0.0357,
     "end_time": "2022-06-22T00:45:48.580890",
     "exception": false,
     "start_time": "2022-06-22T00:45:48.545190",
     "status": "completed"
    },
    "tags": []
   },
   "outputs": [],
   "source": [
    "#hide\n",
    "# g.columns = ['date','country','cases']"
   ]
  },
  {
   "cell_type": "code",
   "execution_count": 27,
   "id": "tender-conversion",
   "metadata": {
    "execution": {
     "iopub.execute_input": "2022-06-22T00:45:48.645421Z",
     "iopub.status.busy": "2022-06-22T00:45:48.644867Z",
     "iopub.status.idle": "2022-06-22T00:45:48.646796Z",
     "shell.execute_reply": "2022-06-22T00:45:48.646280Z"
    },
    "papermill": {
     "duration": 0.035369,
     "end_time": "2022-06-22T00:45:48.646891",
     "exception": false,
     "start_time": "2022-06-22T00:45:48.611522",
     "status": "completed"
    },
    "tags": []
   },
   "outputs": [],
   "source": [
    "#hide\n",
    "# g['continent'] = g.country"
   ]
  },
  {
   "cell_type": "code",
   "execution_count": 28,
   "id": "substantial-wilderness",
   "metadata": {
    "execution": {
     "iopub.execute_input": "2022-06-22T00:45:48.711467Z",
     "iopub.status.busy": "2022-06-22T00:45:48.710897Z",
     "iopub.status.idle": "2022-06-22T00:45:48.713029Z",
     "shell.execute_reply": "2022-06-22T00:45:48.713439Z"
    },
    "papermill": {
     "duration": 0.035863,
     "end_time": "2022-06-22T00:45:48.713552",
     "exception": false,
     "start_time": "2022-06-22T00:45:48.677689",
     "status": "completed"
    },
    "tags": []
   },
   "outputs": [],
   "source": [
    "#hide\n",
    "# cols = list(g.columns.values)"
   ]
  },
  {
   "cell_type": "code",
   "execution_count": 29,
   "id": "solved-farming",
   "metadata": {
    "execution": {
     "iopub.execute_input": "2022-06-22T00:45:48.778442Z",
     "iopub.status.busy": "2022-06-22T00:45:48.777893Z",
     "iopub.status.idle": "2022-06-22T00:45:48.779862Z",
     "shell.execute_reply": "2022-06-22T00:45:48.779328Z"
    },
    "papermill": {
     "duration": 0.035908,
     "end_time": "2022-06-22T00:45:48.779958",
     "exception": false,
     "start_time": "2022-06-22T00:45:48.744050",
     "status": "completed"
    },
    "tags": []
   },
   "outputs": [],
   "source": [
    "#hide\n",
    "# cols.insert(0, cols.pop())"
   ]
  },
  {
   "cell_type": "code",
   "execution_count": 30,
   "id": "executed-adoption",
   "metadata": {
    "execution": {
     "iopub.execute_input": "2022-06-22T00:45:48.844297Z",
     "iopub.status.busy": "2022-06-22T00:45:48.843734Z",
     "iopub.status.idle": "2022-06-22T00:45:48.845678Z",
     "shell.execute_reply": "2022-06-22T00:45:48.845168Z"
    },
    "papermill": {
     "duration": 0.03507,
     "end_time": "2022-06-22T00:45:48.845771",
     "exception": false,
     "start_time": "2022-06-22T00:45:48.810701",
     "status": "completed"
    },
    "tags": []
   },
   "outputs": [],
   "source": [
    "#hide\n",
    "# g = g[cols]"
   ]
  },
  {
   "cell_type": "code",
   "execution_count": 31,
   "id": "subject-dublin",
   "metadata": {
    "execution": {
     "iopub.execute_input": "2022-06-22T00:45:48.909949Z",
     "iopub.status.busy": "2022-06-22T00:45:48.909385Z",
     "iopub.status.idle": "2022-06-22T00:45:48.911805Z",
     "shell.execute_reply": "2022-06-22T00:45:48.911340Z"
    },
    "papermill": {
     "duration": 0.035602,
     "end_time": "2022-06-22T00:45:48.911900",
     "exception": false,
     "start_time": "2022-06-22T00:45:48.876298",
     "status": "completed"
    },
    "tags": []
   },
   "outputs": [],
   "source": [
    "#hide\n",
    "# g['continent'] = g['continent'].map(mapping['map.continent'])"
   ]
  },
  {
   "cell_type": "code",
   "execution_count": 32,
   "id": "freelance-scout",
   "metadata": {
    "execution": {
     "iopub.execute_input": "2022-06-22T00:45:48.975784Z",
     "iopub.status.busy": "2022-06-22T00:45:48.975199Z",
     "iopub.status.idle": "2022-06-22T00:45:48.977179Z",
     "shell.execute_reply": "2022-06-22T00:45:48.977573Z"
    },
    "papermill": {
     "duration": 0.035265,
     "end_time": "2022-06-22T00:45:48.977683",
     "exception": false,
     "start_time": "2022-06-22T00:45:48.942418",
     "status": "completed"
    },
    "tags": []
   },
   "outputs": [],
   "source": [
    "#hide\n",
    "# g.head()"
   ]
  },
  {
   "cell_type": "code",
   "execution_count": 33,
   "id": "limited-engine",
   "metadata": {
    "execution": {
     "iopub.execute_input": "2022-06-22T00:45:49.042664Z",
     "iopub.status.busy": "2022-06-22T00:45:49.042087Z",
     "iopub.status.idle": "2022-06-22T00:45:49.044470Z",
     "shell.execute_reply": "2022-06-22T00:45:49.043946Z"
    },
    "papermill": {
     "duration": 0.036312,
     "end_time": "2022-06-22T00:45:49.044565",
     "exception": false,
     "start_time": "2022-06-22T00:45:49.008253",
     "status": "completed"
    },
    "tags": []
   },
   "outputs": [],
   "source": [
    "# hide\n",
    "# g['date'] = g['date'].astype('datetime64[ns]')"
   ]
  },
  {
   "cell_type": "code",
   "execution_count": 34,
   "id": "sophisticated-supervisor",
   "metadata": {
    "execution": {
     "iopub.execute_input": "2022-06-22T00:45:49.109558Z",
     "iopub.status.busy": "2022-06-22T00:45:49.108928Z",
     "iopub.status.idle": "2022-06-22T00:45:49.111354Z",
     "shell.execute_reply": "2022-06-22T00:45:49.110915Z"
    },
    "papermill": {
     "duration": 0.036157,
     "end_time": "2022-06-22T00:45:49.111466",
     "exception": false,
     "start_time": "2022-06-22T00:45:49.075309",
     "status": "completed"
    },
    "tags": []
   },
   "outputs": [],
   "source": [
    "#hide\n",
    "# g['date'] = g.date.dt.dayofyear"
   ]
  },
  {
   "cell_type": "code",
   "execution_count": 35,
   "id": "inside-dubai",
   "metadata": {
    "execution": {
     "iopub.execute_input": "2022-06-22T00:45:49.176363Z",
     "iopub.status.busy": "2022-06-22T00:45:49.175783Z",
     "iopub.status.idle": "2022-06-22T00:45:49.178208Z",
     "shell.execute_reply": "2022-06-22T00:45:49.177681Z"
    },
    "papermill": {
     "duration": 0.036198,
     "end_time": "2022-06-22T00:45:49.178307",
     "exception": false,
     "start_time": "2022-06-22T00:45:49.142109",
     "status": "completed"
    },
    "tags": []
   },
   "outputs": [],
   "source": [
    "#hide\n",
    "# g = g.rename(columns= {'continent':'group','country':'name','cases':'value'})"
   ]
  },
  {
   "cell_type": "code",
   "execution_count": 36,
   "id": "fleet-motorcycle",
   "metadata": {
    "execution": {
     "iopub.execute_input": "2022-06-22T00:45:49.242835Z",
     "iopub.status.busy": "2022-06-22T00:45:49.242259Z",
     "iopub.status.idle": "2022-06-22T00:45:49.244645Z",
     "shell.execute_reply": "2022-06-22T00:45:49.244119Z"
    },
    "papermill": {
     "duration": 0.035746,
     "end_time": "2022-06-22T00:45:49.244741",
     "exception": false,
     "start_time": "2022-06-22T00:45:49.208995",
     "status": "completed"
    },
    "tags": []
   },
   "outputs": [],
   "source": [
    "#hide\n",
    "# cols = ['name','group','day','value']"
   ]
  },
  {
   "cell_type": "code",
   "execution_count": 37,
   "id": "continued-sleeping",
   "metadata": {
    "execution": {
     "iopub.execute_input": "2022-06-22T00:45:49.309309Z",
     "iopub.status.busy": "2022-06-22T00:45:49.308737Z",
     "iopub.status.idle": "2022-06-22T00:45:49.311144Z",
     "shell.execute_reply": "2022-06-22T00:45:49.310704Z"
    },
    "papermill": {
     "duration": 0.036019,
     "end_time": "2022-06-22T00:45:49.311242",
     "exception": false,
     "start_time": "2022-06-22T00:45:49.275223",
     "status": "completed"
    },
    "tags": []
   },
   "outputs": [],
   "source": [
    "#hide\n",
    "# g.rename(columns= {'date':'day'},inplace = True)"
   ]
  },
  {
   "cell_type": "code",
   "execution_count": 38,
   "id": "major-fight",
   "metadata": {
    "execution": {
     "iopub.execute_input": "2022-06-22T00:45:49.375850Z",
     "iopub.status.busy": "2022-06-22T00:45:49.375258Z",
     "iopub.status.idle": "2022-06-22T00:45:49.377665Z",
     "shell.execute_reply": "2022-06-22T00:45:49.377222Z"
    },
    "papermill": {
     "duration": 0.035775,
     "end_time": "2022-06-22T00:45:49.377761",
     "exception": false,
     "start_time": "2022-06-22T00:45:49.341986",
     "status": "completed"
    },
    "tags": []
   },
   "outputs": [],
   "source": [
    "#hide\n",
    "# g = g[cols]"
   ]
  },
  {
   "cell_type": "code",
   "execution_count": 39,
   "id": "structured-mobile",
   "metadata": {
    "execution": {
     "iopub.execute_input": "2022-06-22T00:45:49.442592Z",
     "iopub.status.busy": "2022-06-22T00:45:49.442022Z",
     "iopub.status.idle": "2022-06-22T00:45:49.443755Z",
     "shell.execute_reply": "2022-06-22T00:45:49.444176Z"
    },
    "papermill": {
     "duration": 0.035966,
     "end_time": "2022-06-22T00:45:49.444285",
     "exception": false,
     "start_time": "2022-06-22T00:45:49.408319",
     "status": "completed"
    },
    "tags": []
   },
   "outputs": [],
   "source": [
    "# #hide\n",
    "# g = g[g.group.notna()]"
   ]
  },
  {
   "cell_type": "code",
   "execution_count": 40,
   "id": "determined-closing",
   "metadata": {
    "execution": {
     "iopub.execute_input": "2022-06-22T00:45:49.508672Z",
     "iopub.status.busy": "2022-06-22T00:45:49.508102Z",
     "iopub.status.idle": "2022-06-22T00:45:49.510835Z",
     "shell.execute_reply": "2022-06-22T00:45:49.510392Z"
    },
    "papermill": {
     "duration": 0.036004,
     "end_time": "2022-06-22T00:45:49.510927",
     "exception": false,
     "start_time": "2022-06-22T00:45:49.474923",
     "status": "completed"
    },
    "tags": []
   },
   "outputs": [],
   "source": [
    "# #hide\n",
    "# colors = dict(zip(\n",
    "#     [\"Oceania\", \"Europe\", \"Asia\", \"South America\", \"Middle East\", \"North America\", \"Africa\"],\n",
    "#     [\"#adb0ff\", \"#ffb3ff\", \"#90d595\", \"#e48381\", \"#aafbff\", \"#f7bb5f\", \"#eafb50\"]\n",
    "# ))\n",
    "# group_lk = g.set_index('name')['group'].to_dict()"
   ]
  },
  {
   "cell_type": "code",
   "execution_count": null,
   "id": "gross-drinking",
   "metadata": {
    "papermill": {
     "duration": 0.030463,
     "end_time": "2022-06-22T00:45:49.571852",
     "exception": false,
     "start_time": "2022-06-22T00:45:49.541389",
     "status": "completed"
    },
    "tags": []
   },
   "outputs": [],
   "source": []
  },
  {
   "cell_type": "code",
   "execution_count": 41,
   "id": "subject-macintosh",
   "metadata": {
    "execution": {
     "iopub.execute_input": "2022-06-22T00:45:49.636857Z",
     "iopub.status.busy": "2022-06-22T00:45:49.636281Z",
     "iopub.status.idle": "2022-06-22T00:45:49.638737Z",
     "shell.execute_reply": "2022-06-22T00:45:49.638291Z"
    },
    "papermill": {
     "duration": 0.03641,
     "end_time": "2022-06-22T00:45:49.638829",
     "exception": false,
     "start_time": "2022-06-22T00:45:49.602419",
     "status": "completed"
    },
    "tags": []
   },
   "outputs": [],
   "source": [
    "# #hide\n",
    "# fig, ax = plt.subplots(figsize=(15, 8))\n",
    "\n",
    "# def draw_barchart(current_day):\n",
    "#     dff = g[g['day'].eq(current_day)].sort_values(by='value', ascending=True).tail(10)\n",
    "#     ax.clear()\n",
    "#     ax.barh(dff['name'], dff['value'], color=[colors[group_lk[x]] for x in dff['name']])\n",
    "#     dx = dff['value'].max() / 200\n",
    "    \n",
    "#     for i, (value, name) in enumerate(zip(dff['value'], dff['name'])):\n",
    "#         ax.text(value-dx, i,     name,           size=14, weight=600, ha='right', va='bottom')\n",
    "#         ax.text(value-dx, i-.25, group_lk[name], size=10, color='#444444', ha='right', va='baseline')\n",
    "#         ax.text(value+dx, i,     f'{value:,.0f}',  size=14, ha='left',  va='center')\n",
    "#     ax.text(1, 0.4, current_day, transform=ax.transAxes, color='#777777', size=46, ha='right', weight=800)\n",
    "#     ax.text(0, 1.06, 'Population (thousands)', transform=ax.transAxes, size=12, color='#777777')\n",
    "#     ax.xaxis.set_major_formatter(ticker.StrMethodFormatter('{x:,.0f}'))\n",
    "#     ax.xaxis.set_ticks_position('top')\n",
    "#     ax.tick_params(axis='x', colors='#777777', labelsize=12)\n",
    "#     ax.set_yticks([])\n",
    "#     ax.margins(0, 0.01)\n",
    "#     ax.grid(which='major', axis='x', linestyle='-')\n",
    "#     ax.set_axisbelow(True)\n",
    "    \n",
    "#     ax.text(0, 1.15, 'Coronavirus',\n",
    "#             transform=ax.transAxes, size=24, weight=600, ha='left', va='top')\n",
    "# #     ax.text(1, 0, 'by @pratapvardhan; credit @jburnmurdoch', transform=ax.transAxes, color='#777777', ha='right',\n",
    "# #             bbox=dict(facecolor='white', alpha=0.8, edgecolor='white'))\n",
    "#     plt.box(False)"
   ]
  },
  {
   "cell_type": "code",
   "execution_count": 42,
   "id": "sexual-wages",
   "metadata": {
    "execution": {
     "iopub.execute_input": "2022-06-22T00:45:49.703146Z",
     "iopub.status.busy": "2022-06-22T00:45:49.702586Z",
     "iopub.status.idle": "2022-06-22T00:45:49.704909Z",
     "shell.execute_reply": "2022-06-22T00:45:49.704479Z"
    },
    "papermill": {
     "duration": 0.035593,
     "end_time": "2022-06-22T00:45:49.705001",
     "exception": false,
     "start_time": "2022-06-22T00:45:49.669408",
     "status": "completed"
    },
    "tags": []
   },
   "outputs": [],
   "source": [
    "# #hide_input\n",
    "# fig, ax = plt.subplots(figsize=(15, 8))\n",
    "# animator = animation.FuncAnimation(fig, draw_barchart, frames=range(g.day.values.min(), g.day.values.max()))\n",
    "# HTML(animator.to_jshtml())\n",
    "# # or use animator.to_html5_video() or animator.save() "
   ]
  },
  {
   "cell_type": "code",
   "execution_count": null,
   "id": "australian-container",
   "metadata": {
    "papermill": {
     "duration": 0.030707,
     "end_time": "2022-06-22T00:45:49.766409",
     "exception": false,
     "start_time": "2022-06-22T00:45:49.735702",
     "status": "completed"
    },
    "tags": []
   },
   "outputs": [],
   "source": []
  },
  {
   "cell_type": "code",
   "execution_count": null,
   "id": "mediterranean-pontiac",
   "metadata": {
    "papermill": {
     "duration": 0.030316,
     "end_time": "2022-06-22T00:45:49.827221",
     "exception": false,
     "start_time": "2022-06-22T00:45:49.796905",
     "status": "completed"
    },
    "tags": []
   },
   "outputs": [],
   "source": []
  },
  {
   "cell_type": "code",
   "execution_count": null,
   "id": "aging-legislature",
   "metadata": {
    "papermill": {
     "duration": 0.030477,
     "end_time": "2022-06-22T00:45:49.888297",
     "exception": false,
     "start_time": "2022-06-22T00:45:49.857820",
     "status": "completed"
    },
    "tags": []
   },
   "outputs": [],
   "source": []
  }
 ],
 "metadata": {
  "kernelspec": {
   "display_name": "Python 3",
   "language": "python",
   "name": "python3"
  },
  "language_info": {
   "codemirror_mode": {
    "name": "ipython",
    "version": 3
   },
   "file_extension": ".py",
   "mimetype": "text/x-python",
   "name": "python",
   "nbconvert_exporter": "python",
   "pygments_lexer": "ipython3",
   "version": "3.6.15"
  },
  "papermill": {
   "duration": 5.76056,
   "end_time": "2022-06-22T00:45:50.236318",
   "environment_variables": {},
   "exception": null,
   "input_path": "2020-03-21-covid19exp.ipynb",
   "output_path": "2020-03-21-covid19exp.ipynb",
   "parameters": {},
   "start_time": "2022-06-22T00:45:44.475758",
   "version": "2.0.0"
  }
 },
 "nbformat": 4,
 "nbformat_minor": 5
}