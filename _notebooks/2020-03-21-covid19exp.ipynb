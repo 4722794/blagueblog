{
 "cells": [
  {
   "cell_type": "markdown",
   "id": "muslim-click",
   "metadata": {
    "papermill": {
     "duration": 0.038423,
     "end_time": "2022-01-04T00:27:36.333500",
     "exception": false,
     "start_time": "2022-01-04T00:27:36.295077",
     "status": "completed"
    },
    "tags": []
   },
   "source": [
    "# COVID-19 Case Race\n",
    "> A race chart to see rising cases around the world\n",
    "\n",
    "- author: Hargun Oberoi\n",
    "- image: images/covid-overview.png\n",
    "- hide: false\n",
    "- badges: false"
   ]
  },
  {
   "cell_type": "code",
   "execution_count": 1,
   "id": "proof-material",
   "metadata": {
    "execution": {
     "iopub.execute_input": "2022-01-04T00:27:36.414224Z",
     "iopub.status.busy": "2022-01-04T00:27:36.413589Z",
     "iopub.status.idle": "2022-01-04T00:27:36.783729Z",
     "shell.execute_reply": "2022-01-04T00:27:36.783147Z"
    },
    "papermill": {
     "duration": 0.41574,
     "end_time": "2022-01-04T00:27:36.783875",
     "exception": false,
     "start_time": "2022-01-04T00:27:36.368135",
     "status": "completed"
    },
    "tags": []
   },
   "outputs": [],
   "source": [
    "#hide\n",
    "import numpy as np\n",
    "import pandas as pd\n",
    "from jinja2 import Template\n",
    "from IPython.display import HTML"
   ]
  },
  {
   "cell_type": "code",
   "execution_count": 2,
   "id": "developed-terminology",
   "metadata": {
    "execution": {
     "iopub.execute_input": "2022-01-04T00:27:36.859282Z",
     "iopub.status.busy": "2022-01-04T00:27:36.858576Z",
     "iopub.status.idle": "2022-01-04T00:27:36.862240Z",
     "shell.execute_reply": "2022-01-04T00:27:36.862736Z"
    },
    "papermill": {
     "duration": 0.043698,
     "end_time": "2022-01-04T00:27:36.862888",
     "exception": false,
     "start_time": "2022-01-04T00:27:36.819190",
     "status": "completed"
    },
    "tags": []
   },
   "outputs": [],
   "source": [
    "#hide\n",
    "\n",
    "# FETCH\n",
    "base_url = 'https://raw.githubusercontent.com/pratapvardhan/notebooks/master/covid19/'\n",
    "paths = {\n",
    "    'mapping': base_url + 'mapping_countries.csv',\n",
    "    'overview': base_url + 'overview.tpl'\n",
    "}"
   ]
  },
  {
   "cell_type": "code",
   "execution_count": 3,
   "id": "dynamic-saver",
   "metadata": {
    "execution": {
     "iopub.execute_input": "2022-01-04T00:27:36.944764Z",
     "iopub.status.busy": "2022-01-04T00:27:36.944110Z",
     "iopub.status.idle": "2022-01-04T00:27:36.947735Z",
     "shell.execute_reply": "2022-01-04T00:27:36.946799Z"
    },
    "papermill": {
     "duration": 0.050115,
     "end_time": "2022-01-04T00:27:36.948039",
     "exception": false,
     "start_time": "2022-01-04T00:27:36.897924",
     "status": "completed"
    },
    "tags": []
   },
   "outputs": [
    {
     "data": {
      "text/plain": [
       "'https://raw.githubusercontent.com/pratapvardhan/notebooks/master/covid19/mapping_countries.csv'"
      ]
     },
     "execution_count": 3,
     "metadata": {},
     "output_type": "execute_result"
    }
   ],
   "source": [
    "#hide\n",
    "paths['mapping']"
   ]
  },
  {
   "cell_type": "code",
   "execution_count": 4,
   "id": "urban-software",
   "metadata": {
    "execution": {
     "iopub.execute_input": "2022-01-04T00:27:37.026435Z",
     "iopub.status.busy": "2022-01-04T00:27:37.025757Z",
     "iopub.status.idle": "2022-01-04T00:27:37.028697Z",
     "shell.execute_reply": "2022-01-04T00:27:37.027934Z"
    },
    "papermill": {
     "duration": 0.045197,
     "end_time": "2022-01-04T00:27:37.028925",
     "exception": false,
     "start_time": "2022-01-04T00:27:36.983728",
     "status": "completed"
    },
    "tags": []
   },
   "outputs": [],
   "source": [
    "#hide\n",
    "def get_mappings(url):\n",
    "    df = pd.read_csv(url)\n",
    "    return {\n",
    "        'df': df,\n",
    "        'replace.country': dict(df.dropna(subset=['Name']).set_index('Country')['Name']),\n",
    "        'map.continent': dict(df.set_index('Name')['Continent'])\n",
    "    }"
   ]
  },
  {
   "cell_type": "code",
   "execution_count": 5,
   "id": "intimate-machinery",
   "metadata": {
    "execution": {
     "iopub.execute_input": "2022-01-04T00:27:37.105391Z",
     "iopub.status.busy": "2022-01-04T00:27:37.104680Z",
     "iopub.status.idle": "2022-01-04T00:27:37.147857Z",
     "shell.execute_reply": "2022-01-04T00:27:37.148301Z"
    },
    "papermill": {
     "duration": 0.082948,
     "end_time": "2022-01-04T00:27:37.148511",
     "exception": false,
     "start_time": "2022-01-04T00:27:37.065563",
     "status": "completed"
    },
    "tags": []
   },
   "outputs": [],
   "source": [
    "#hide\n",
    "mapping = get_mappings(paths['mapping'])"
   ]
  },
  {
   "cell_type": "code",
   "execution_count": 6,
   "id": "certified-tactics",
   "metadata": {
    "execution": {
     "iopub.execute_input": "2022-01-04T00:27:37.222993Z",
     "iopub.status.busy": "2022-01-04T00:27:37.222384Z",
     "iopub.status.idle": "2022-01-04T00:27:37.224270Z",
     "shell.execute_reply": "2022-01-04T00:27:37.224909Z"
    },
    "papermill": {
     "duration": 0.040812,
     "end_time": "2022-01-04T00:27:37.225036",
     "exception": false,
     "start_time": "2022-01-04T00:27:37.184224",
     "status": "completed"
    },
    "tags": []
   },
   "outputs": [],
   "source": [
    "#hide\n",
    "def get_template(path):\n",
    "    from urllib.parse import urlparse\n",
    "    if bool(urlparse(path).netloc):\n",
    "        from urllib.request import urlopen\n",
    "        return urlopen(path).read().decode('utf8')\n",
    "    return open(path).read()"
   ]
  },
  {
   "cell_type": "code",
   "execution_count": 7,
   "id": "realistic-blast",
   "metadata": {
    "execution": {
     "iopub.execute_input": "2022-01-04T00:27:37.300047Z",
     "iopub.status.busy": "2022-01-04T00:27:37.299423Z",
     "iopub.status.idle": "2022-01-04T00:27:37.301510Z",
     "shell.execute_reply": "2022-01-04T00:27:37.301996Z"
    },
    "papermill": {
     "duration": 0.043486,
     "end_time": "2022-01-04T00:27:37.302126",
     "exception": false,
     "start_time": "2022-01-04T00:27:37.258640",
     "status": "completed"
    },
    "tags": []
   },
   "outputs": [],
   "source": [
    "#hide\n",
    "def get_frame(name):\n",
    "    url = (\n",
    "        'https://raw.githubusercontent.com/CSSEGISandData/COVID-19/master/csse_covid_19_data/'\n",
    "        f'csse_covid_19_time_series/time_series_covid19_{name}_global.csv')\n",
    "    df = pd.read_csv(url)\n",
    "    # rename countries\n",
    "    df['Country/Region'] = df['Country/Region'].replace(mapping['replace.country'])\n",
    "    return df"
   ]
  },
  {
   "cell_type": "code",
   "execution_count": 8,
   "id": "affiliated-characterization",
   "metadata": {
    "execution": {
     "iopub.execute_input": "2022-01-04T00:27:37.378776Z",
     "iopub.status.busy": "2022-01-04T00:27:37.378161Z",
     "iopub.status.idle": "2022-01-04T00:27:37.381964Z",
     "shell.execute_reply": "2022-01-04T00:27:37.382504Z"
    },
    "papermill": {
     "duration": 0.045519,
     "end_time": "2022-01-04T00:27:37.382647",
     "exception": false,
     "start_time": "2022-01-04T00:27:37.337128",
     "status": "completed"
    },
    "tags": []
   },
   "outputs": [],
   "source": [
    "#hide\n",
    "def get_dates(df):\n",
    "    dt_cols = df.columns[~df.columns.isin(['Province/State', 'Country/Region', 'Lat', 'Long'])]\n",
    "    LAST_DATE_I = -1\n",
    "    # sometimes last column may be empty, then go backwards\n",
    "    for i in range(-1, -len(dt_cols), -1):\n",
    "        if not df[dt_cols[i]].fillna(0).eq(0).all():\n",
    "            LAST_DATE_I = i\n",
    "            break\n",
    "    return LAST_DATE_I, dt_cols"
   ]
  },
  {
   "cell_type": "code",
   "execution_count": 9,
   "id": "recent-optimization",
   "metadata": {
    "execution": {
     "iopub.execute_input": "2022-01-04T00:27:37.458422Z",
     "iopub.status.busy": "2022-01-04T00:27:37.457687Z",
     "iopub.status.idle": "2022-01-04T00:27:37.913299Z",
     "shell.execute_reply": "2022-01-04T00:27:37.912723Z"
    },
    "papermill": {
     "duration": 0.495671,
     "end_time": "2022-01-04T00:27:37.913444",
     "exception": false,
     "start_time": "2022-01-04T00:27:37.417773",
     "status": "completed"
    },
    "tags": []
   },
   "outputs": [],
   "source": [
    "#hide\n",
    "COL_REGION = 'Country/Region'\n",
    "# Confirmed, Recovered, Deaths\n",
    "df = get_frame('confirmed')\n",
    "# dft_: timeseries, dfc_: today country agg\n",
    "dft_cases = df\n",
    "dft_deaths = get_frame('deaths')\n",
    "dft_recovered = get_frame('recovered')\n",
    "LAST_DATE_I, dt_cols = get_dates(df)"
   ]
  },
  {
   "cell_type": "code",
   "execution_count": 10,
   "id": "absolute-copper",
   "metadata": {
    "execution": {
     "iopub.execute_input": "2022-01-04T00:27:37.989448Z",
     "iopub.status.busy": "2022-01-04T00:27:37.988706Z",
     "iopub.status.idle": "2022-01-04T00:27:37.991881Z",
     "shell.execute_reply": "2022-01-04T00:27:37.991348Z"
    },
    "papermill": {
     "duration": 0.042758,
     "end_time": "2022-01-04T00:27:37.992010",
     "exception": false,
     "start_time": "2022-01-04T00:27:37.949252",
     "status": "completed"
    },
    "tags": []
   },
   "outputs": [],
   "source": [
    "#hide\n",
    "LAST_DATE_I, dt_cols = get_dates(df)\n",
    "dt_today =dt_cols[LAST_DATE_I]\n",
    "# dt_5day = dt_cols[LAST_DATE_I - 5]\n",
    "dt_yday = dt_cols[LAST_DATE_I - 1]"
   ]
  },
  {
   "cell_type": "code",
   "execution_count": 11,
   "id": "restricted-sheriff",
   "metadata": {
    "execution": {
     "iopub.execute_input": "2022-01-04T00:27:38.075495Z",
     "iopub.status.busy": "2022-01-04T00:27:38.072794Z",
     "iopub.status.idle": "2022-01-04T00:27:38.083385Z",
     "shell.execute_reply": "2022-01-04T00:27:38.082863Z"
    },
    "papermill": {
     "duration": 0.05503,
     "end_time": "2022-01-04T00:27:38.083504",
     "exception": false,
     "start_time": "2022-01-04T00:27:38.028474",
     "status": "completed"
    },
    "tags": []
   },
   "outputs": [],
   "source": [
    "#hide\n",
    "dfc_cases = dft_cases.groupby(COL_REGION)[dt_today].sum()\n",
    "dfc_deaths = dft_deaths.groupby(COL_REGION)[dt_today].sum()\n",
    "# dfp_cases = dft_cases.groupby(COL_REGION)[dt_5day].sum()\n",
    "# dfp_deaths = dft_deaths.groupby(COL_REGION)[dt_5day].sum()\n",
    "dfp_cases = dft_cases.groupby(COL_REGION)[dt_yday].sum()\n",
    "dfp_deaths = dft_deaths.groupby(COL_REGION)[dt_yday].sum()"
   ]
  },
  {
   "cell_type": "code",
   "execution_count": 12,
   "id": "deluxe-hepatitis",
   "metadata": {
    "execution": {
     "iopub.execute_input": "2022-01-04T00:27:38.162763Z",
     "iopub.status.busy": "2022-01-04T00:27:38.161972Z",
     "iopub.status.idle": "2022-01-04T00:27:38.167416Z",
     "shell.execute_reply": "2022-01-04T00:27:38.168000Z"
    },
    "papermill": {
     "duration": 0.04908,
     "end_time": "2022-01-04T00:27:38.168139",
     "exception": false,
     "start_time": "2022-01-04T00:27:38.119059",
     "status": "completed"
    },
    "tags": []
   },
   "outputs": [],
   "source": [
    "#hide\n",
    "df_table = (pd.DataFrame(dict(Cases = dfc_cases, Deaths = dfc_deaths, PCases = dfp_cases, PDeaths = dfp_deaths))\n",
    "            .sort_values(by = ['Cases','Deaths'], ascending = [False, False])\n",
    "            .reset_index())"
   ]
  },
  {
   "cell_type": "code",
   "execution_count": 13,
   "id": "educational-chancellor",
   "metadata": {
    "execution": {
     "iopub.execute_input": "2022-01-04T00:27:38.246040Z",
     "iopub.status.busy": "2022-01-04T00:27:38.245430Z",
     "iopub.status.idle": "2022-01-04T00:27:38.266071Z",
     "shell.execute_reply": "2022-01-04T00:27:38.266638Z"
    },
    "papermill": {
     "duration": 0.063172,
     "end_time": "2022-01-04T00:27:38.266801",
     "exception": false,
     "start_time": "2022-01-04T00:27:38.203629",
     "status": "completed"
    },
    "tags": []
   },
   "outputs": [
    {
     "data": {
      "text/html": [
       "<div>\n",
       "<style scoped>\n",
       "    .dataframe tbody tr th:only-of-type {\n",
       "        vertical-align: middle;\n",
       "    }\n",
       "\n",
       "    .dataframe tbody tr th {\n",
       "        vertical-align: top;\n",
       "    }\n",
       "\n",
       "    .dataframe thead th {\n",
       "        text-align: right;\n",
       "    }\n",
       "</style>\n",
       "<table border=\"1\" class=\"dataframe\">\n",
       "  <thead>\n",
       "    <tr style=\"text-align: right;\">\n",
       "      <th></th>\n",
       "      <th>Country/Region</th>\n",
       "      <th>Cases</th>\n",
       "      <th>Deaths</th>\n",
       "      <th>PCases</th>\n",
       "      <th>PDeaths</th>\n",
       "      <th>Cases (+)</th>\n",
       "      <th>Deaths (+)</th>\n",
       "      <th>Fatality Rate</th>\n",
       "      <th>Continent</th>\n",
       "    </tr>\n",
       "  </thead>\n",
       "  <tbody>\n",
       "    <tr>\n",
       "      <th>0</th>\n",
       "      <td>US</td>\n",
       "      <td>55106998</td>\n",
       "      <td>826060</td>\n",
       "      <td>54858366</td>\n",
       "      <td>825816</td>\n",
       "      <td>248632</td>\n",
       "      <td>244</td>\n",
       "      <td>1.50</td>\n",
       "      <td>North America</td>\n",
       "    </tr>\n",
       "    <tr>\n",
       "      <th>1</th>\n",
       "      <td>India</td>\n",
       "      <td>34922882</td>\n",
       "      <td>481893</td>\n",
       "      <td>34889132</td>\n",
       "      <td>481770</td>\n",
       "      <td>33750</td>\n",
       "      <td>123</td>\n",
       "      <td>1.38</td>\n",
       "      <td>Asia</td>\n",
       "    </tr>\n",
       "    <tr>\n",
       "      <th>2</th>\n",
       "      <td>Brazil</td>\n",
       "      <td>22297427</td>\n",
       "      <td>619401</td>\n",
       "      <td>22295621</td>\n",
       "      <td>619367</td>\n",
       "      <td>1806</td>\n",
       "      <td>34</td>\n",
       "      <td>2.78</td>\n",
       "      <td>South America</td>\n",
       "    </tr>\n",
       "    <tr>\n",
       "      <th>3</th>\n",
       "      <td>United Kingdom</td>\n",
       "      <td>13309651</td>\n",
       "      <td>149324</td>\n",
       "      <td>13174528</td>\n",
       "      <td>149251</td>\n",
       "      <td>135123</td>\n",
       "      <td>73</td>\n",
       "      <td>1.12</td>\n",
       "      <td>Europe</td>\n",
       "    </tr>\n",
       "    <tr>\n",
       "      <th>4</th>\n",
       "      <td>Russia</td>\n",
       "      <td>10358099</td>\n",
       "      <td>304284</td>\n",
       "      <td>10340011</td>\n",
       "      <td>303496</td>\n",
       "      <td>18088</td>\n",
       "      <td>788</td>\n",
       "      <td>2.94</td>\n",
       "      <td>Europe</td>\n",
       "    </tr>\n",
       "  </tbody>\n",
       "</table>\n",
       "</div>"
      ],
      "text/plain": [
       "   Country/Region     Cases  Deaths    PCases  PDeaths  Cases (+)  Deaths (+)  \\\n",
       "0              US  55106998  826060  54858366   825816     248632         244   \n",
       "1           India  34922882  481893  34889132   481770      33750         123   \n",
       "2          Brazil  22297427  619401  22295621   619367       1806          34   \n",
       "3  United Kingdom  13309651  149324  13174528   149251     135123          73   \n",
       "4          Russia  10358099  304284  10340011   303496      18088         788   \n",
       "\n",
       "   Fatality Rate      Continent  \n",
       "0           1.50  North America  \n",
       "1           1.38           Asia  \n",
       "2           2.78  South America  \n",
       "3           1.12         Europe  \n",
       "4           2.94         Europe  "
      ]
     },
     "execution_count": 13,
     "metadata": {},
     "output_type": "execute_result"
    }
   ],
   "source": [
    "#hide\n",
    "for c in 'Cases, Deaths'.split(', '):\n",
    "    df_table[f'{c} (+)'] = (df_table[c] - df_table[f'P{c}']).clip(0)\n",
    "    #Clip ça veut dire, les chiffres negatif sont interdit\n",
    "df_table['Fatality Rate'] = (100* df_table['Deaths']/ df_table['Cases']).round(2)\n",
    "df_table['Continent'] = df_table['Country/Region'].map(mapping['map.continent'])\n",
    "df_table.head(5)"
   ]
  },
  {
   "cell_type": "code",
   "execution_count": 14,
   "id": "aboriginal-bulgaria",
   "metadata": {
    "execution": {
     "iopub.execute_input": "2022-01-04T00:27:38.343617Z",
     "iopub.status.busy": "2022-01-04T00:27:38.342952Z",
     "iopub.status.idle": "2022-01-04T00:27:38.345304Z",
     "shell.execute_reply": "2022-01-04T00:27:38.345771Z"
    },
    "papermill": {
     "duration": 0.044586,
     "end_time": "2022-01-04T00:27:38.345898",
     "exception": false,
     "start_time": "2022-01-04T00:27:38.301312",
     "status": "completed"
    },
    "tags": []
   },
   "outputs": [],
   "source": [
    "#hide\n",
    "#delete problematic countries from table\n",
    "df_table = df_table[~df_table['Country/Region'].isin(['Cape Verde', 'Cruise Ship', 'Kosovo'])]"
   ]
  },
  {
   "cell_type": "code",
   "execution_count": 15,
   "id": "fantastic-effect",
   "metadata": {
    "execution": {
     "iopub.execute_input": "2022-01-04T00:27:38.429034Z",
     "iopub.status.busy": "2022-01-04T00:27:38.428219Z",
     "iopub.status.idle": "2022-01-04T00:27:38.449876Z",
     "shell.execute_reply": "2022-01-04T00:27:38.450383Z"
    },
    "papermill": {
     "duration": 0.070262,
     "end_time": "2022-01-04T00:27:38.450540",
     "exception": false,
     "start_time": "2022-01-04T00:27:38.380278",
     "status": "completed"
    },
    "tags": []
   },
   "outputs": [
    {
     "data": {
      "text/html": [
       "<div>\n",
       "<style scoped>\n",
       "    .dataframe tbody tr th:only-of-type {\n",
       "        vertical-align: middle;\n",
       "    }\n",
       "\n",
       "    .dataframe tbody tr th {\n",
       "        vertical-align: top;\n",
       "    }\n",
       "\n",
       "    .dataframe thead th {\n",
       "        text-align: right;\n",
       "    }\n",
       "</style>\n",
       "<table border=\"1\" class=\"dataframe\">\n",
       "  <thead>\n",
       "    <tr style=\"text-align: right;\">\n",
       "      <th></th>\n",
       "      <th>Country/Region</th>\n",
       "      <th>Cases</th>\n",
       "      <th>Deaths</th>\n",
       "      <th>PCases</th>\n",
       "      <th>PDeaths</th>\n",
       "      <th>Cases (+)</th>\n",
       "      <th>Deaths (+)</th>\n",
       "      <th>Fatality Rate</th>\n",
       "      <th>Continent</th>\n",
       "    </tr>\n",
       "  </thead>\n",
       "  <tbody>\n",
       "    <tr>\n",
       "      <th>0</th>\n",
       "      <td>US</td>\n",
       "      <td>55106998</td>\n",
       "      <td>826060</td>\n",
       "      <td>54858366</td>\n",
       "      <td>825816</td>\n",
       "      <td>248632</td>\n",
       "      <td>244</td>\n",
       "      <td>1.5</td>\n",
       "      <td>North America</td>\n",
       "    </tr>\n",
       "    <tr>\n",
       "      <th>1</th>\n",
       "      <td>India</td>\n",
       "      <td>34922882</td>\n",
       "      <td>481893</td>\n",
       "      <td>34889132</td>\n",
       "      <td>481770</td>\n",
       "      <td>33750</td>\n",
       "      <td>123</td>\n",
       "      <td>1.4</td>\n",
       "      <td>Asia</td>\n",
       "    </tr>\n",
       "    <tr>\n",
       "      <th>2</th>\n",
       "      <td>Brazil</td>\n",
       "      <td>22297427</td>\n",
       "      <td>619401</td>\n",
       "      <td>22295621</td>\n",
       "      <td>619367</td>\n",
       "      <td>1806</td>\n",
       "      <td>34</td>\n",
       "      <td>2.8</td>\n",
       "      <td>South America</td>\n",
       "    </tr>\n",
       "    <tr>\n",
       "      <th>3</th>\n",
       "      <td>United Kingdom</td>\n",
       "      <td>13309651</td>\n",
       "      <td>149324</td>\n",
       "      <td>13174528</td>\n",
       "      <td>149251</td>\n",
       "      <td>135123</td>\n",
       "      <td>73</td>\n",
       "      <td>1.1</td>\n",
       "      <td>Europe</td>\n",
       "    </tr>\n",
       "    <tr>\n",
       "      <th>4</th>\n",
       "      <td>Russia</td>\n",
       "      <td>10358099</td>\n",
       "      <td>304284</td>\n",
       "      <td>10340011</td>\n",
       "      <td>303496</td>\n",
       "      <td>18088</td>\n",
       "      <td>788</td>\n",
       "      <td>2.9</td>\n",
       "      <td>Europe</td>\n",
       "    </tr>\n",
       "  </tbody>\n",
       "</table>\n",
       "</div>"
      ],
      "text/plain": [
       "   Country/Region     Cases  Deaths    PCases  PDeaths  Cases (+)  Deaths (+)  \\\n",
       "0              US  55106998  826060  54858366   825816     248632         244   \n",
       "1           India  34922882  481893  34889132   481770      33750         123   \n",
       "2          Brazil  22297427  619401  22295621   619367       1806          34   \n",
       "3  United Kingdom  13309651  149324  13174528   149251     135123          73   \n",
       "4          Russia  10358099  304284  10340011   303496      18088         788   \n",
       "\n",
       "   Fatality Rate      Continent  \n",
       "0            1.5  North America  \n",
       "1            1.4           Asia  \n",
       "2            2.8  South America  \n",
       "3            1.1         Europe  \n",
       "4            2.9         Europe  "
      ]
     },
     "execution_count": 15,
     "metadata": {},
     "output_type": "execute_result"
    }
   ],
   "source": [
    "#hide\n",
    "df_table = (pd.DataFrame(dict(Cases=dfc_cases, Deaths=dfc_deaths, PCases=dfp_cases, PDeaths=dfp_deaths))\n",
    "             .sort_values(by=['Cases', 'Deaths'], ascending=[False, False])\n",
    "             .reset_index())\n",
    "df_table.rename(columns={'index': 'Country/Region'}, inplace=True)\n",
    "for c in 'Cases, Deaths'.split(', '):\n",
    "    df_table[f'{c} (+)'] = (df_table[c] - df_table[f'P{c}']).clip(0)  # DATA BUG\n",
    "df_table['Fatality Rate'] = (100 * df_table['Deaths'] / df_table['Cases']).round(1)\n",
    "df_table['Continent'] = df_table['Country/Region'].map(mapping['map.continent'])\n",
    "df_table.head(5)"
   ]
  },
  {
   "cell_type": "code",
   "execution_count": 16,
   "id": "fewer-occasion",
   "metadata": {
    "execution": {
     "iopub.execute_input": "2022-01-04T00:27:38.533626Z",
     "iopub.status.busy": "2022-01-04T00:27:38.533032Z",
     "iopub.status.idle": "2022-01-04T00:27:38.535471Z",
     "shell.execute_reply": "2022-01-04T00:27:38.534892Z"
    },
    "papermill": {
     "duration": 0.045735,
     "end_time": "2022-01-04T00:27:38.535609",
     "exception": false,
     "start_time": "2022-01-04T00:27:38.489874",
     "status": "completed"
    },
    "tags": []
   },
   "outputs": [],
   "source": [
    "#hide\n",
    "#delete problematic countries from table\n",
    "df_table = df_table[~df_table['Country/Region'].isin(['Cape Verde', 'Cruise Ship', 'Kosovo'])]"
   ]
  },
  {
   "cell_type": "code",
   "execution_count": 17,
   "id": "related-center",
   "metadata": {
    "execution": {
     "iopub.execute_input": "2022-01-04T00:27:38.631256Z",
     "iopub.status.busy": "2022-01-04T00:27:38.630600Z",
     "iopub.status.idle": "2022-01-04T00:27:38.633140Z",
     "shell.execute_reply": "2022-01-04T00:27:38.632422Z"
    },
    "papermill": {
     "duration": 0.060134,
     "end_time": "2022-01-04T00:27:38.633269",
     "exception": false,
     "start_time": "2022-01-04T00:27:38.573135",
     "status": "completed"
    },
    "tags": []
   },
   "outputs": [],
   "source": [
    "#hide\n",
    "metrics = [df_table.columns[index] for index in [1,2,5,6]]\n",
    "# s_china = df_table[df_table['Country/Region'].eq('China')][metrics].sum().add_prefix('China ')\n",
    "s_us = df_table[df_table['Country/Region'].eq('US')][metrics].sum().add_prefix('US ')\n",
    "s_eu = df_table[df_table['Continent'].eq('Europe')][metrics].sum().add_prefix('EU ')\n",
    "s_ind = df_table[df_table['Country/Region'].eq('India')][metrics].sum().add_prefix('India ')\n",
    "summary = {'updated': pd.to_datetime(dt_today), 'since': pd.to_datetime(dt_yday)}\n",
    "summary = {'updated': pd.to_datetime(dt_today), 'since': pd.to_datetime(dt_yday)}\n",
    "summary = {**summary, **df_table[metrics].sum(), **s_ind, **s_us, **s_eu}"
   ]
  },
  {
   "cell_type": "code",
   "execution_count": 18,
   "id": "engaging-syndrome",
   "metadata": {
    "execution": {
     "iopub.execute_input": "2022-01-04T00:27:38.714073Z",
     "iopub.status.busy": "2022-01-04T00:27:38.713411Z",
     "iopub.status.idle": "2022-01-04T00:27:38.728439Z",
     "shell.execute_reply": "2022-01-04T00:27:38.727900Z"
    },
    "papermill": {
     "duration": 0.057259,
     "end_time": "2022-01-04T00:27:38.728586",
     "exception": false,
     "start_time": "2022-01-04T00:27:38.671327",
     "status": "completed"
    },
    "tags": []
   },
   "outputs": [],
   "source": [
    "#hide\n",
    "dft_ct_new_cases = dft_cases.groupby(COL_REGION)[dt_cols].sum().diff(axis=1).fillna(0).astype(int)"
   ]
  },
  {
   "cell_type": "code",
   "execution_count": 19,
   "id": "neutral-assignment",
   "metadata": {
    "execution": {
     "iopub.execute_input": "2022-01-04T00:27:38.805790Z",
     "iopub.status.busy": "2022-01-04T00:27:38.805196Z",
     "iopub.status.idle": "2022-01-04T00:27:38.807656Z",
     "shell.execute_reply": "2022-01-04T00:27:38.807045Z"
    },
    "papermill": {
     "duration": 0.043727,
     "end_time": "2022-01-04T00:27:38.807858",
     "exception": false,
     "start_time": "2022-01-04T00:27:38.764131",
     "status": "completed"
    },
    "tags": []
   },
   "outputs": [],
   "source": [
    "#hide\n",
    "everydaycases = dft_ct_new_cases.cumsum(axis=1)"
   ]
  },
  {
   "cell_type": "code",
   "execution_count": 20,
   "id": "parliamentary-calgary",
   "metadata": {
    "execution": {
     "iopub.execute_input": "2022-01-04T00:27:38.884854Z",
     "iopub.status.busy": "2022-01-04T00:27:38.884202Z",
     "iopub.status.idle": "2022-01-04T00:27:39.543520Z",
     "shell.execute_reply": "2022-01-04T00:27:39.544035Z"
    },
    "papermill": {
     "duration": 0.700384,
     "end_time": "2022-01-04T00:27:39.544204",
     "exception": false,
     "start_time": "2022-01-04T00:27:38.843820",
     "status": "completed"
    },
    "tags": []
   },
   "outputs": [],
   "source": [
    "#hide\n",
    "import pandas as pd\n",
    "import matplotlib.pyplot as plt\n",
    "import matplotlib.ticker as ticker\n",
    "import matplotlib.animation as animation\n",
    "from IPython.display import HTML"
   ]
  },
  {
   "cell_type": "code",
   "execution_count": 21,
   "id": "lasting-extraction",
   "metadata": {
    "execution": {
     "iopub.execute_input": "2022-01-04T00:27:39.626066Z",
     "iopub.status.busy": "2022-01-04T00:27:39.625415Z",
     "iopub.status.idle": "2022-01-04T00:27:39.631820Z",
     "shell.execute_reply": "2022-01-04T00:27:39.632248Z"
    },
    "papermill": {
     "duration": 0.050968,
     "end_time": "2022-01-04T00:27:39.632450",
     "exception": false,
     "start_time": "2022-01-04T00:27:39.581482",
     "status": "completed"
    },
    "tags": []
   },
   "outputs": [],
   "source": [
    "#hide\n",
    "t = everydaycases.stack()"
   ]
  },
  {
   "cell_type": "code",
   "execution_count": 22,
   "id": "premier-sleeve",
   "metadata": {
    "execution": {
     "iopub.execute_input": "2022-01-04T00:27:39.714847Z",
     "iopub.status.busy": "2022-01-04T00:27:39.714195Z",
     "iopub.status.idle": "2022-01-04T00:27:39.724825Z",
     "shell.execute_reply": "2022-01-04T00:27:39.724262Z"
    },
    "papermill": {
     "duration": 0.052772,
     "end_time": "2022-01-04T00:27:39.724968",
     "exception": false,
     "start_time": "2022-01-04T00:27:39.672196",
     "status": "completed"
    },
    "tags": []
   },
   "outputs": [],
   "source": [
    "#hide\n",
    "g = t.reset_index(['Country/Region'])"
   ]
  },
  {
   "cell_type": "code",
   "execution_count": 23,
   "id": "distributed-pittsburgh",
   "metadata": {
    "execution": {
     "iopub.execute_input": "2022-01-04T00:27:39.803505Z",
     "iopub.status.busy": "2022-01-04T00:27:39.802880Z",
     "iopub.status.idle": "2022-01-04T00:27:39.805207Z",
     "shell.execute_reply": "2022-01-04T00:27:39.804708Z"
    },
    "papermill": {
     "duration": 0.042036,
     "end_time": "2022-01-04T00:27:39.805326",
     "exception": false,
     "start_time": "2022-01-04T00:27:39.763290",
     "status": "completed"
    },
    "tags": []
   },
   "outputs": [],
   "source": [
    "#hide\n",
    "g.index.name = 'date'"
   ]
  },
  {
   "cell_type": "code",
   "execution_count": 24,
   "id": "naked-donor",
   "metadata": {
    "execution": {
     "iopub.execute_input": "2022-01-04T00:27:39.880509Z",
     "iopub.status.busy": "2022-01-04T00:27:39.879788Z",
     "iopub.status.idle": "2022-01-04T00:27:39.883414Z",
     "shell.execute_reply": "2022-01-04T00:27:39.882900Z"
    },
    "papermill": {
     "duration": 0.042616,
     "end_time": "2022-01-04T00:27:39.883534",
     "exception": false,
     "start_time": "2022-01-04T00:27:39.840918",
     "status": "completed"
    },
    "tags": []
   },
   "outputs": [],
   "source": [
    "# #hide\n",
    "# g = g.reset_index(['date'])"
   ]
  },
  {
   "cell_type": "code",
   "execution_count": 25,
   "id": "incomplete-mustang",
   "metadata": {
    "execution": {
     "iopub.execute_input": "2022-01-04T00:27:39.967087Z",
     "iopub.status.busy": "2022-01-04T00:27:39.966492Z",
     "iopub.status.idle": "2022-01-04T00:27:39.968978Z",
     "shell.execute_reply": "2022-01-04T00:27:39.968473Z"
    },
    "papermill": {
     "duration": 0.045967,
     "end_time": "2022-01-04T00:27:39.969093",
     "exception": false,
     "start_time": "2022-01-04T00:27:39.923126",
     "status": "completed"
    },
    "tags": []
   },
   "outputs": [],
   "source": [
    "#hide\n",
    "# g.head()"
   ]
  },
  {
   "cell_type": "code",
   "execution_count": 26,
   "id": "specific-kruger",
   "metadata": {
    "execution": {
     "iopub.execute_input": "2022-01-04T00:27:40.043335Z",
     "iopub.status.busy": "2022-01-04T00:27:40.042516Z",
     "iopub.status.idle": "2022-01-04T00:27:40.045330Z",
     "shell.execute_reply": "2022-01-04T00:27:40.044813Z"
    },
    "papermill": {
     "duration": 0.04182,
     "end_time": "2022-01-04T00:27:40.045449",
     "exception": false,
     "start_time": "2022-01-04T00:27:40.003629",
     "status": "completed"
    },
    "tags": []
   },
   "outputs": [],
   "source": [
    "#hide\n",
    "# g.columns = ['date','country','cases']"
   ]
  },
  {
   "cell_type": "code",
   "execution_count": 27,
   "id": "tender-conversion",
   "metadata": {
    "execution": {
     "iopub.execute_input": "2022-01-04T00:27:40.124688Z",
     "iopub.status.busy": "2022-01-04T00:27:40.124025Z",
     "iopub.status.idle": "2022-01-04T00:27:40.126210Z",
     "shell.execute_reply": "2022-01-04T00:27:40.126656Z"
    },
    "papermill": {
     "duration": 0.043418,
     "end_time": "2022-01-04T00:27:40.126830",
     "exception": false,
     "start_time": "2022-01-04T00:27:40.083412",
     "status": "completed"
    },
    "tags": []
   },
   "outputs": [],
   "source": [
    "#hide\n",
    "# g['continent'] = g.country"
   ]
  },
  {
   "cell_type": "code",
   "execution_count": 28,
   "id": "substantial-wilderness",
   "metadata": {
    "execution": {
     "iopub.execute_input": "2022-01-04T00:27:40.207577Z",
     "iopub.status.busy": "2022-01-04T00:27:40.206492Z",
     "iopub.status.idle": "2022-01-04T00:27:40.208174Z",
     "shell.execute_reply": "2022-01-04T00:27:40.207095Z"
    },
    "papermill": {
     "duration": 0.044667,
     "end_time": "2022-01-04T00:27:40.208288",
     "exception": false,
     "start_time": "2022-01-04T00:27:40.163621",
     "status": "completed"
    },
    "tags": []
   },
   "outputs": [],
   "source": [
    "#hide\n",
    "# cols = list(g.columns.values)"
   ]
  },
  {
   "cell_type": "code",
   "execution_count": 29,
   "id": "solved-farming",
   "metadata": {
    "execution": {
     "iopub.execute_input": "2022-01-04T00:27:40.286488Z",
     "iopub.status.busy": "2022-01-04T00:27:40.285906Z",
     "iopub.status.idle": "2022-01-04T00:27:40.288244Z",
     "shell.execute_reply": "2022-01-04T00:27:40.287739Z"
    },
    "papermill": {
     "duration": 0.044024,
     "end_time": "2022-01-04T00:27:40.288402",
     "exception": false,
     "start_time": "2022-01-04T00:27:40.244378",
     "status": "completed"
    },
    "tags": []
   },
   "outputs": [],
   "source": [
    "#hide\n",
    "# cols.insert(0, cols.pop())"
   ]
  },
  {
   "cell_type": "code",
   "execution_count": 30,
   "id": "executed-adoption",
   "metadata": {
    "execution": {
     "iopub.execute_input": "2022-01-04T00:27:40.364425Z",
     "iopub.status.busy": "2022-01-04T00:27:40.363792Z",
     "iopub.status.idle": "2022-01-04T00:27:40.367628Z",
     "shell.execute_reply": "2022-01-04T00:27:40.367141Z"
    },
    "papermill": {
     "duration": 0.042811,
     "end_time": "2022-01-04T00:27:40.367792",
     "exception": false,
     "start_time": "2022-01-04T00:27:40.324981",
     "status": "completed"
    },
    "tags": []
   },
   "outputs": [],
   "source": [
    "#hide\n",
    "# g = g[cols]"
   ]
  },
  {
   "cell_type": "code",
   "execution_count": 31,
   "id": "subject-dublin",
   "metadata": {
    "execution": {
     "iopub.execute_input": "2022-01-04T00:27:40.445677Z",
     "iopub.status.busy": "2022-01-04T00:27:40.445066Z",
     "iopub.status.idle": "2022-01-04T00:27:40.447604Z",
     "shell.execute_reply": "2022-01-04T00:27:40.448108Z"
    },
    "papermill": {
     "duration": 0.044415,
     "end_time": "2022-01-04T00:27:40.448239",
     "exception": false,
     "start_time": "2022-01-04T00:27:40.403824",
     "status": "completed"
    },
    "tags": []
   },
   "outputs": [],
   "source": [
    "#hide\n",
    "# g['continent'] = g['continent'].map(mapping['map.continent'])"
   ]
  },
  {
   "cell_type": "code",
   "execution_count": 32,
   "id": "freelance-scout",
   "metadata": {
    "execution": {
     "iopub.execute_input": "2022-01-04T00:27:40.523883Z",
     "iopub.status.busy": "2022-01-04T00:27:40.523287Z",
     "iopub.status.idle": "2022-01-04T00:27:40.527106Z",
     "shell.execute_reply": "2022-01-04T00:27:40.527615Z"
    },
    "papermill": {
     "duration": 0.043144,
     "end_time": "2022-01-04T00:27:40.527866",
     "exception": false,
     "start_time": "2022-01-04T00:27:40.484722",
     "status": "completed"
    },
    "tags": []
   },
   "outputs": [],
   "source": [
    "#hide\n",
    "# g.head()"
   ]
  },
  {
   "cell_type": "code",
   "execution_count": 33,
   "id": "limited-engine",
   "metadata": {
    "execution": {
     "iopub.execute_input": "2022-01-04T00:27:40.605411Z",
     "iopub.status.busy": "2022-01-04T00:27:40.604815Z",
     "iopub.status.idle": "2022-01-04T00:27:40.607116Z",
     "shell.execute_reply": "2022-01-04T00:27:40.606491Z"
    },
    "papermill": {
     "duration": 0.042868,
     "end_time": "2022-01-04T00:27:40.607234",
     "exception": false,
     "start_time": "2022-01-04T00:27:40.564366",
     "status": "completed"
    },
    "tags": []
   },
   "outputs": [],
   "source": [
    "# hide\n",
    "# g['date'] = g['date'].astype('datetime64[ns]')"
   ]
  },
  {
   "cell_type": "code",
   "execution_count": 34,
   "id": "sophisticated-supervisor",
   "metadata": {
    "execution": {
     "iopub.execute_input": "2022-01-04T00:27:40.685710Z",
     "iopub.status.busy": "2022-01-04T00:27:40.684963Z",
     "iopub.status.idle": "2022-01-04T00:27:40.687416Z",
     "shell.execute_reply": "2022-01-04T00:27:40.686885Z"
    },
    "papermill": {
     "duration": 0.042406,
     "end_time": "2022-01-04T00:27:40.687535",
     "exception": false,
     "start_time": "2022-01-04T00:27:40.645129",
     "status": "completed"
    },
    "tags": []
   },
   "outputs": [],
   "source": [
    "#hide\n",
    "# g['date'] = g.date.dt.dayofyear"
   ]
  },
  {
   "cell_type": "code",
   "execution_count": 35,
   "id": "inside-dubai",
   "metadata": {
    "execution": {
     "iopub.execute_input": "2022-01-04T00:27:40.765577Z",
     "iopub.status.busy": "2022-01-04T00:27:40.764964Z",
     "iopub.status.idle": "2022-01-04T00:27:40.767405Z",
     "shell.execute_reply": "2022-01-04T00:27:40.766908Z"
    },
    "papermill": {
     "duration": 0.043448,
     "end_time": "2022-01-04T00:27:40.767521",
     "exception": false,
     "start_time": "2022-01-04T00:27:40.724073",
     "status": "completed"
    },
    "tags": []
   },
   "outputs": [],
   "source": [
    "#hide\n",
    "# g = g.rename(columns= {'continent':'group','country':'name','cases':'value'})"
   ]
  },
  {
   "cell_type": "code",
   "execution_count": 36,
   "id": "fleet-motorcycle",
   "metadata": {
    "execution": {
     "iopub.execute_input": "2022-01-04T00:27:40.843047Z",
     "iopub.status.busy": "2022-01-04T00:27:40.842437Z",
     "iopub.status.idle": "2022-01-04T00:27:40.844498Z",
     "shell.execute_reply": "2022-01-04T00:27:40.844970Z"
    },
    "papermill": {
     "duration": 0.041133,
     "end_time": "2022-01-04T00:27:40.845135",
     "exception": false,
     "start_time": "2022-01-04T00:27:40.804002",
     "status": "completed"
    },
    "tags": []
   },
   "outputs": [],
   "source": [
    "#hide\n",
    "# cols = ['name','group','day','value']"
   ]
  },
  {
   "cell_type": "code",
   "execution_count": 37,
   "id": "continued-sleeping",
   "metadata": {
    "execution": {
     "iopub.execute_input": "2022-01-04T00:27:40.921801Z",
     "iopub.status.busy": "2022-01-04T00:27:40.920980Z",
     "iopub.status.idle": "2022-01-04T00:27:40.924859Z",
     "shell.execute_reply": "2022-01-04T00:27:40.925397Z"
    },
    "papermill": {
     "duration": 0.044547,
     "end_time": "2022-01-04T00:27:40.925558",
     "exception": false,
     "start_time": "2022-01-04T00:27:40.881011",
     "status": "completed"
    },
    "tags": []
   },
   "outputs": [],
   "source": [
    "#hide\n",
    "# g.rename(columns= {'date':'day'},inplace = True)"
   ]
  },
  {
   "cell_type": "code",
   "execution_count": 38,
   "id": "major-fight",
   "metadata": {
    "execution": {
     "iopub.execute_input": "2022-01-04T00:27:41.002113Z",
     "iopub.status.busy": "2022-01-04T00:27:41.001465Z",
     "iopub.status.idle": "2022-01-04T00:27:41.004116Z",
     "shell.execute_reply": "2022-01-04T00:27:41.003577Z"
    },
    "papermill": {
     "duration": 0.041741,
     "end_time": "2022-01-04T00:27:41.004232",
     "exception": false,
     "start_time": "2022-01-04T00:27:40.962491",
     "status": "completed"
    },
    "tags": []
   },
   "outputs": [],
   "source": [
    "#hide\n",
    "# g = g[cols]"
   ]
  },
  {
   "cell_type": "code",
   "execution_count": 39,
   "id": "structured-mobile",
   "metadata": {
    "execution": {
     "iopub.execute_input": "2022-01-04T00:27:41.083504Z",
     "iopub.status.busy": "2022-01-04T00:27:41.082746Z",
     "iopub.status.idle": "2022-01-04T00:27:41.086664Z",
     "shell.execute_reply": "2022-01-04T00:27:41.087160Z"
    },
    "papermill": {
     "duration": 0.04752,
     "end_time": "2022-01-04T00:27:41.087303",
     "exception": false,
     "start_time": "2022-01-04T00:27:41.039783",
     "status": "completed"
    },
    "tags": []
   },
   "outputs": [],
   "source": [
    "# #hide\n",
    "# g = g[g.group.notna()]"
   ]
  },
  {
   "cell_type": "code",
   "execution_count": 40,
   "id": "determined-closing",
   "metadata": {
    "execution": {
     "iopub.execute_input": "2022-01-04T00:27:41.165914Z",
     "iopub.status.busy": "2022-01-04T00:27:41.165265Z",
     "iopub.status.idle": "2022-01-04T00:27:41.167550Z",
     "shell.execute_reply": "2022-01-04T00:27:41.166973Z"
    },
    "papermill": {
     "duration": 0.042985,
     "end_time": "2022-01-04T00:27:41.167665",
     "exception": false,
     "start_time": "2022-01-04T00:27:41.124680",
     "status": "completed"
    },
    "tags": []
   },
   "outputs": [],
   "source": [
    "# #hide\n",
    "# colors = dict(zip(\n",
    "#     [\"Oceania\", \"Europe\", \"Asia\", \"South America\", \"Middle East\", \"North America\", \"Africa\"],\n",
    "#     [\"#adb0ff\", \"#ffb3ff\", \"#90d595\", \"#e48381\", \"#aafbff\", \"#f7bb5f\", \"#eafb50\"]\n",
    "# ))\n",
    "# group_lk = g.set_index('name')['group'].to_dict()"
   ]
  },
  {
   "cell_type": "code",
   "execution_count": null,
   "id": "gross-drinking",
   "metadata": {
    "papermill": {
     "duration": 0.036428,
     "end_time": "2022-01-04T00:27:41.243251",
     "exception": false,
     "start_time": "2022-01-04T00:27:41.206823",
     "status": "completed"
    },
    "tags": []
   },
   "outputs": [],
   "source": []
  },
  {
   "cell_type": "code",
   "execution_count": 41,
   "id": "subject-macintosh",
   "metadata": {
    "execution": {
     "iopub.execute_input": "2022-01-04T00:27:41.319352Z",
     "iopub.status.busy": "2022-01-04T00:27:41.318628Z",
     "iopub.status.idle": "2022-01-04T00:27:41.321191Z",
     "shell.execute_reply": "2022-01-04T00:27:41.320644Z"
    },
    "papermill": {
     "duration": 0.042453,
     "end_time": "2022-01-04T00:27:41.321303",
     "exception": false,
     "start_time": "2022-01-04T00:27:41.278850",
     "status": "completed"
    },
    "tags": []
   },
   "outputs": [],
   "source": [
    "# #hide\n",
    "# fig, ax = plt.subplots(figsize=(15, 8))\n",
    "\n",
    "# def draw_barchart(current_day):\n",
    "#     dff = g[g['day'].eq(current_day)].sort_values(by='value', ascending=True).tail(10)\n",
    "#     ax.clear()\n",
    "#     ax.barh(dff['name'], dff['value'], color=[colors[group_lk[x]] for x in dff['name']])\n",
    "#     dx = dff['value'].max() / 200\n",
    "    \n",
    "#     for i, (value, name) in enumerate(zip(dff['value'], dff['name'])):\n",
    "#         ax.text(value-dx, i,     name,           size=14, weight=600, ha='right', va='bottom')\n",
    "#         ax.text(value-dx, i-.25, group_lk[name], size=10, color='#444444', ha='right', va='baseline')\n",
    "#         ax.text(value+dx, i,     f'{value:,.0f}',  size=14, ha='left',  va='center')\n",
    "#     ax.text(1, 0.4, current_day, transform=ax.transAxes, color='#777777', size=46, ha='right', weight=800)\n",
    "#     ax.text(0, 1.06, 'Population (thousands)', transform=ax.transAxes, size=12, color='#777777')\n",
    "#     ax.xaxis.set_major_formatter(ticker.StrMethodFormatter('{x:,.0f}'))\n",
    "#     ax.xaxis.set_ticks_position('top')\n",
    "#     ax.tick_params(axis='x', colors='#777777', labelsize=12)\n",
    "#     ax.set_yticks([])\n",
    "#     ax.margins(0, 0.01)\n",
    "#     ax.grid(which='major', axis='x', linestyle='-')\n",
    "#     ax.set_axisbelow(True)\n",
    "    \n",
    "#     ax.text(0, 1.15, 'Coronavirus',\n",
    "#             transform=ax.transAxes, size=24, weight=600, ha='left', va='top')\n",
    "# #     ax.text(1, 0, 'by @pratapvardhan; credit @jburnmurdoch', transform=ax.transAxes, color='#777777', ha='right',\n",
    "# #             bbox=dict(facecolor='white', alpha=0.8, edgecolor='white'))\n",
    "#     plt.box(False)"
   ]
  },
  {
   "cell_type": "code",
   "execution_count": 42,
   "id": "sexual-wages",
   "metadata": {
    "execution": {
     "iopub.execute_input": "2022-01-04T00:27:41.395713Z",
     "iopub.status.busy": "2022-01-04T00:27:41.395069Z",
     "iopub.status.idle": "2022-01-04T00:27:41.398805Z",
     "shell.execute_reply": "2022-01-04T00:27:41.399284Z"
    },
    "papermill": {
     "duration": 0.042185,
     "end_time": "2022-01-04T00:27:41.399425",
     "exception": false,
     "start_time": "2022-01-04T00:27:41.357240",
     "status": "completed"
    },
    "tags": []
   },
   "outputs": [],
   "source": [
    "# #hide_input\n",
    "# fig, ax = plt.subplots(figsize=(15, 8))\n",
    "# animator = animation.FuncAnimation(fig, draw_barchart, frames=range(g.day.values.min(), g.day.values.max()))\n",
    "# HTML(animator.to_jshtml())\n",
    "# # or use animator.to_html5_video() or animator.save() "
   ]
  },
  {
   "cell_type": "code",
   "execution_count": null,
   "id": "australian-container",
   "metadata": {
    "papermill": {
     "duration": 0.034865,
     "end_time": "2022-01-04T00:27:41.469651",
     "exception": false,
     "start_time": "2022-01-04T00:27:41.434786",
     "status": "completed"
    },
    "tags": []
   },
   "outputs": [],
   "source": []
  },
  {
   "cell_type": "code",
   "execution_count": null,
   "id": "mediterranean-pontiac",
   "metadata": {
    "papermill": {
     "duration": 0.038658,
     "end_time": "2022-01-04T00:27:41.557039",
     "exception": false,
     "start_time": "2022-01-04T00:27:41.518381",
     "status": "completed"
    },
    "tags": []
   },
   "outputs": [],
   "source": []
  },
  {
   "cell_type": "code",
   "execution_count": null,
   "id": "aging-legislature",
   "metadata": {
    "papermill": {
     "duration": 0.037758,
     "end_time": "2022-01-04T00:27:41.633649",
     "exception": false,
     "start_time": "2022-01-04T00:27:41.595891",
     "status": "completed"
    },
    "tags": []
   },
   "outputs": [],
   "source": []
  }
 ],
 "metadata": {
  "kernelspec": {
   "display_name": "Python 3",
   "language": "python",
   "name": "python3"
  },
  "language_info": {
   "codemirror_mode": {
    "name": "ipython",
    "version": 3
   },
   "file_extension": ".py",
   "mimetype": "text/x-python",
   "name": "python",
   "nbconvert_exporter": "python",
   "pygments_lexer": "ipython3",
   "version": "3.6.15"
  },
  "papermill": {
   "duration": 6.993648,
   "end_time": "2022-01-04T00:27:41.979458",
   "environment_variables": {},
   "exception": null,
   "input_path": "2020-03-21-covid19exp.ipynb",
   "output_path": "2020-03-21-covid19exp.ipynb",
   "parameters": {},
   "start_time": "2022-01-04T00:27:34.985810",
   "version": "2.0.0"
  }
 },
 "nbformat": 4,
 "nbformat_minor": 5
}