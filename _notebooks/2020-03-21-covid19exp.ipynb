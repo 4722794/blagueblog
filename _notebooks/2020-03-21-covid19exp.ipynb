{
 "cells": [
  {
   "cell_type": "markdown",
   "metadata": {
    "papermill": {
     "duration": 0.032361,
     "end_time": "2020-12-04T00:11:04.743925",
     "exception": false,
     "start_time": "2020-12-04T00:11:04.711564",
     "status": "completed"
    },
    "tags": []
   },
   "source": [
    "# COVID-19 Case Race\n",
    "> A race chart to see rising cases around the world\n",
    "\n",
    "- author: Hargun Oberoi\n",
    "- image: images/covid-overview.png\n",
    "- hide: false\n",
    "- badges: false"
   ]
  },
  {
   "cell_type": "code",
   "execution_count": 1,
   "metadata": {
    "execution": {
     "iopub.execute_input": "2020-12-04T00:11:04.803824Z",
     "iopub.status.busy": "2020-12-04T00:11:04.803271Z",
     "iopub.status.idle": "2020-12-04T00:11:05.116840Z",
     "shell.execute_reply": "2020-12-04T00:11:05.116281Z"
    },
    "papermill": {
     "duration": 0.346468,
     "end_time": "2020-12-04T00:11:05.116993",
     "exception": false,
     "start_time": "2020-12-04T00:11:04.770525",
     "status": "completed"
    },
    "tags": []
   },
   "outputs": [],
   "source": [
    "#hide\n",
    "import numpy as np\n",
    "import pandas as pd\n",
    "from jinja2 import Template\n",
    "from IPython.display import HTML"
   ]
  },
  {
   "cell_type": "code",
   "execution_count": 2,
   "metadata": {
    "execution": {
     "iopub.execute_input": "2020-12-04T00:11:05.178744Z",
     "iopub.status.busy": "2020-12-04T00:11:05.178190Z",
     "iopub.status.idle": "2020-12-04T00:11:05.180692Z",
     "shell.execute_reply": "2020-12-04T00:11:05.181233Z"
    },
    "papermill": {
     "duration": 0.035708,
     "end_time": "2020-12-04T00:11:05.181370",
     "exception": false,
     "start_time": "2020-12-04T00:11:05.145662",
     "status": "completed"
    },
    "tags": []
   },
   "outputs": [],
   "source": [
    "#hide\n",
    "\n",
    "# FETCH\n",
    "base_url = 'https://raw.githubusercontent.com/pratapvardhan/notebooks/master/covid19/'\n",
    "paths = {\n",
    "    'mapping': base_url + 'mapping_countries.csv',\n",
    "    'overview': base_url + 'overview.tpl'\n",
    "}"
   ]
  },
  {
   "cell_type": "code",
   "execution_count": 3,
   "metadata": {
    "execution": {
     "iopub.execute_input": "2020-12-04T00:11:05.244306Z",
     "iopub.status.busy": "2020-12-04T00:11:05.243767Z",
     "iopub.status.idle": "2020-12-04T00:11:05.248174Z",
     "shell.execute_reply": "2020-12-04T00:11:05.248614Z"
    },
    "papermill": {
     "duration": 0.040471,
     "end_time": "2020-12-04T00:11:05.248739",
     "exception": false,
     "start_time": "2020-12-04T00:11:05.208268",
     "status": "completed"
    },
    "tags": []
   },
   "outputs": [
    {
     "data": {
      "text/plain": [
       "'https://raw.githubusercontent.com/pratapvardhan/notebooks/master/covid19/mapping_countries.csv'"
      ]
     },
     "execution_count": 3,
     "metadata": {},
     "output_type": "execute_result"
    }
   ],
   "source": [
    "#hide\n",
    "paths['mapping']"
   ]
  },
  {
   "cell_type": "code",
   "execution_count": 4,
   "metadata": {
    "execution": {
     "iopub.execute_input": "2020-12-04T00:11:05.311132Z",
     "iopub.status.busy": "2020-12-04T00:11:05.310557Z",
     "iopub.status.idle": "2020-12-04T00:11:05.313742Z",
     "shell.execute_reply": "2020-12-04T00:11:05.313278Z"
    },
    "papermill": {
     "duration": 0.03797,
     "end_time": "2020-12-04T00:11:05.313853",
     "exception": false,
     "start_time": "2020-12-04T00:11:05.275883",
     "status": "completed"
    },
    "tags": []
   },
   "outputs": [],
   "source": [
    "#hide\n",
    "def get_mappings(url):\n",
    "    df = pd.read_csv(url)\n",
    "    return {\n",
    "        'df': df,\n",
    "        'replace.country': dict(df.dropna(subset=['Name']).set_index('Country')['Name']),\n",
    "        'map.continent': dict(df.set_index('Name')['Continent'])\n",
    "    }"
   ]
  },
  {
   "cell_type": "code",
   "execution_count": 5,
   "metadata": {
    "execution": {
     "iopub.execute_input": "2020-12-04T00:11:05.373630Z",
     "iopub.status.busy": "2020-12-04T00:11:05.373043Z",
     "iopub.status.idle": "2020-12-04T00:11:05.427445Z",
     "shell.execute_reply": "2020-12-04T00:11:05.426622Z"
    },
    "papermill": {
     "duration": 0.086917,
     "end_time": "2020-12-04T00:11:05.427655",
     "exception": false,
     "start_time": "2020-12-04T00:11:05.340738",
     "status": "completed"
    },
    "tags": []
   },
   "outputs": [],
   "source": [
    "#hide\n",
    "mapping = get_mappings(paths['mapping'])"
   ]
  },
  {
   "cell_type": "code",
   "execution_count": 6,
   "metadata": {
    "execution": {
     "iopub.execute_input": "2020-12-04T00:11:05.489414Z",
     "iopub.status.busy": "2020-12-04T00:11:05.488793Z",
     "iopub.status.idle": "2020-12-04T00:11:05.491114Z",
     "shell.execute_reply": "2020-12-04T00:11:05.491627Z"
    },
    "papermill": {
     "duration": 0.034003,
     "end_time": "2020-12-04T00:11:05.491763",
     "exception": false,
     "start_time": "2020-12-04T00:11:05.457760",
     "status": "completed"
    },
    "tags": []
   },
   "outputs": [],
   "source": [
    "#hide\n",
    "def get_template(path):\n",
    "    from urllib.parse import urlparse\n",
    "    if bool(urlparse(path).netloc):\n",
    "        from urllib.request import urlopen\n",
    "        return urlopen(path).read().decode('utf8')\n",
    "    return open(path).read()"
   ]
  },
  {
   "cell_type": "code",
   "execution_count": 7,
   "metadata": {
    "execution": {
     "iopub.execute_input": "2020-12-04T00:11:05.552055Z",
     "iopub.status.busy": "2020-12-04T00:11:05.551475Z",
     "iopub.status.idle": "2020-12-04T00:11:05.553985Z",
     "shell.execute_reply": "2020-12-04T00:11:05.554447Z"
    },
    "papermill": {
     "duration": 0.036804,
     "end_time": "2020-12-04T00:11:05.554573",
     "exception": false,
     "start_time": "2020-12-04T00:11:05.517769",
     "status": "completed"
    },
    "tags": []
   },
   "outputs": [],
   "source": [
    "#hide\n",
    "def get_frame(name):\n",
    "    url = (\n",
    "        'https://raw.githubusercontent.com/CSSEGISandData/COVID-19/master/csse_covid_19_data/'\n",
    "        f'csse_covid_19_time_series/time_series_covid19_{name}_global.csv')\n",
    "    df = pd.read_csv(url)\n",
    "    # rename countries\n",
    "    df['Country/Region'] = df['Country/Region'].replace(mapping['replace.country'])\n",
    "    return df"
   ]
  },
  {
   "cell_type": "code",
   "execution_count": 8,
   "metadata": {
    "execution": {
     "iopub.execute_input": "2020-12-04T00:11:05.614857Z",
     "iopub.status.busy": "2020-12-04T00:11:05.614266Z",
     "iopub.status.idle": "2020-12-04T00:11:05.616415Z",
     "shell.execute_reply": "2020-12-04T00:11:05.616878Z"
    },
    "papermill": {
     "duration": 0.034498,
     "end_time": "2020-12-04T00:11:05.617002",
     "exception": false,
     "start_time": "2020-12-04T00:11:05.582504",
     "status": "completed"
    },
    "tags": []
   },
   "outputs": [],
   "source": [
    "#hide\n",
    "def get_dates(df):\n",
    "    dt_cols = df.columns[~df.columns.isin(['Province/State', 'Country/Region', 'Lat', 'Long'])]\n",
    "    LAST_DATE_I = -1\n",
    "    # sometimes last column may be empty, then go backwards\n",
    "    for i in range(-1, -len(dt_cols), -1):\n",
    "        if not df[dt_cols[i]].fillna(0).eq(0).all():\n",
    "            LAST_DATE_I = i\n",
    "            break\n",
    "    return LAST_DATE_I, dt_cols"
   ]
  },
  {
   "cell_type": "code",
   "execution_count": 9,
   "metadata": {
    "execution": {
     "iopub.execute_input": "2020-12-04T00:11:05.676559Z",
     "iopub.status.busy": "2020-12-04T00:11:05.675945Z",
     "iopub.status.idle": "2020-12-04T00:11:06.036830Z",
     "shell.execute_reply": "2020-12-04T00:11:06.035969Z"
    },
    "papermill": {
     "duration": 0.393474,
     "end_time": "2020-12-04T00:11:06.037051",
     "exception": false,
     "start_time": "2020-12-04T00:11:05.643577",
     "status": "completed"
    },
    "tags": []
   },
   "outputs": [],
   "source": [
    "#hide\n",
    "COL_REGION = 'Country/Region'\n",
    "# Confirmed, Recovered, Deaths\n",
    "df = get_frame('confirmed')\n",
    "# dft_: timeseries, dfc_: today country agg\n",
    "dft_cases = df\n",
    "dft_deaths = get_frame('deaths')\n",
    "dft_recovered = get_frame('recovered')\n",
    "LAST_DATE_I, dt_cols = get_dates(df)"
   ]
  },
  {
   "cell_type": "code",
   "execution_count": 10,
   "metadata": {
    "execution": {
     "iopub.execute_input": "2020-12-04T00:11:06.103086Z",
     "iopub.status.busy": "2020-12-04T00:11:06.102544Z",
     "iopub.status.idle": "2020-12-04T00:11:06.104521Z",
     "shell.execute_reply": "2020-12-04T00:11:06.104981Z"
    },
    "papermill": {
     "duration": 0.037462,
     "end_time": "2020-12-04T00:11:06.105140",
     "exception": false,
     "start_time": "2020-12-04T00:11:06.067678",
     "status": "completed"
    },
    "tags": []
   },
   "outputs": [],
   "source": [
    "#hide\n",
    "LAST_DATE_I, dt_cols = get_dates(df)\n",
    "dt_today =dt_cols[LAST_DATE_I]\n",
    "# dt_5day = dt_cols[LAST_DATE_I - 5]\n",
    "dt_yday = dt_cols[LAST_DATE_I - 1]"
   ]
  },
  {
   "cell_type": "code",
   "execution_count": 11,
   "metadata": {
    "execution": {
     "iopub.execute_input": "2020-12-04T00:11:06.166957Z",
     "iopub.status.busy": "2020-12-04T00:11:06.166482Z",
     "iopub.status.idle": "2020-12-04T00:11:06.173658Z",
     "shell.execute_reply": "2020-12-04T00:11:06.174175Z"
    },
    "papermill": {
     "duration": 0.040047,
     "end_time": "2020-12-04T00:11:06.174306",
     "exception": false,
     "start_time": "2020-12-04T00:11:06.134259",
     "status": "completed"
    },
    "tags": []
   },
   "outputs": [],
   "source": [
    "#hide\n",
    "dfc_cases = dft_cases.groupby(COL_REGION)[dt_today].sum()\n",
    "dfc_deaths = dft_deaths.groupby(COL_REGION)[dt_today].sum()\n",
    "# dfp_cases = dft_cases.groupby(COL_REGION)[dt_5day].sum()\n",
    "# dfp_deaths = dft_deaths.groupby(COL_REGION)[dt_5day].sum()\n",
    "dfp_cases = dft_cases.groupby(COL_REGION)[dt_yday].sum()\n",
    "dfp_deaths = dft_deaths.groupby(COL_REGION)[dt_yday].sum()"
   ]
  },
  {
   "cell_type": "code",
   "execution_count": 12,
   "metadata": {
    "execution": {
     "iopub.execute_input": "2020-12-04T00:11:06.236924Z",
     "iopub.status.busy": "2020-12-04T00:11:06.236334Z",
     "iopub.status.idle": "2020-12-04T00:11:06.239783Z",
     "shell.execute_reply": "2020-12-04T00:11:06.240245Z"
    },
    "papermill": {
     "duration": 0.038254,
     "end_time": "2020-12-04T00:11:06.240372",
     "exception": false,
     "start_time": "2020-12-04T00:11:06.202118",
     "status": "completed"
    },
    "tags": []
   },
   "outputs": [],
   "source": [
    "#hide\n",
    "df_table = (pd.DataFrame(dict(Cases = dfc_cases, Deaths = dfc_deaths, PCases = dfp_cases, PDeaths = dfp_deaths))\n",
    "            .sort_values(by = ['Cases','Deaths'], ascending = [False, False])\n",
    "            .reset_index())"
   ]
  },
  {
   "cell_type": "code",
   "execution_count": 13,
   "metadata": {
    "execution": {
     "iopub.execute_input": "2020-12-04T00:11:06.312020Z",
     "iopub.status.busy": "2020-12-04T00:11:06.311436Z",
     "iopub.status.idle": "2020-12-04T00:11:06.320375Z",
     "shell.execute_reply": "2020-12-04T00:11:06.319907Z"
    },
    "papermill": {
     "duration": 0.053585,
     "end_time": "2020-12-04T00:11:06.320501",
     "exception": false,
     "start_time": "2020-12-04T00:11:06.266916",
     "status": "completed"
    },
    "tags": []
   },
   "outputs": [
    {
     "data": {
      "text/html": [
       "<div>\n",
       "<style scoped>\n",
       "    .dataframe tbody tr th:only-of-type {\n",
       "        vertical-align: middle;\n",
       "    }\n",
       "\n",
       "    .dataframe tbody tr th {\n",
       "        vertical-align: top;\n",
       "    }\n",
       "\n",
       "    .dataframe thead th {\n",
       "        text-align: right;\n",
       "    }\n",
       "</style>\n",
       "<table border=\"1\" class=\"dataframe\">\n",
       "  <thead>\n",
       "    <tr style=\"text-align: right;\">\n",
       "      <th></th>\n",
       "      <th>Country/Region</th>\n",
       "      <th>Cases</th>\n",
       "      <th>Deaths</th>\n",
       "      <th>PCases</th>\n",
       "      <th>PDeaths</th>\n",
       "      <th>Cases (+)</th>\n",
       "      <th>Deaths (+)</th>\n",
       "      <th>Fatality Rate</th>\n",
       "      <th>Continent</th>\n",
       "    </tr>\n",
       "  </thead>\n",
       "  <tbody>\n",
       "    <tr>\n",
       "      <th>0</th>\n",
       "      <td>US</td>\n",
       "      <td>13921374</td>\n",
       "      <td>273446</td>\n",
       "      <td>13721304</td>\n",
       "      <td>270642</td>\n",
       "      <td>200070</td>\n",
       "      <td>2804</td>\n",
       "      <td>1.96</td>\n",
       "      <td>North America</td>\n",
       "    </tr>\n",
       "    <tr>\n",
       "      <th>1</th>\n",
       "      <td>India</td>\n",
       "      <td>9534964</td>\n",
       "      <td>138648</td>\n",
       "      <td>9499413</td>\n",
       "      <td>138122</td>\n",
       "      <td>35551</td>\n",
       "      <td>526</td>\n",
       "      <td>1.45</td>\n",
       "      <td>Asia</td>\n",
       "    </tr>\n",
       "    <tr>\n",
       "      <th>2</th>\n",
       "      <td>Brazil</td>\n",
       "      <td>6436650</td>\n",
       "      <td>174515</td>\n",
       "      <td>6386787</td>\n",
       "      <td>173817</td>\n",
       "      <td>49863</td>\n",
       "      <td>698</td>\n",
       "      <td>2.71</td>\n",
       "      <td>South America</td>\n",
       "    </tr>\n",
       "    <tr>\n",
       "      <th>3</th>\n",
       "      <td>Russia</td>\n",
       "      <td>2327105</td>\n",
       "      <td>40630</td>\n",
       "      <td>2302062</td>\n",
       "      <td>40050</td>\n",
       "      <td>25043</td>\n",
       "      <td>580</td>\n",
       "      <td>1.75</td>\n",
       "      <td>Europe</td>\n",
       "    </tr>\n",
       "    <tr>\n",
       "      <th>4</th>\n",
       "      <td>France</td>\n",
       "      <td>2297393</td>\n",
       "      <td>53906</td>\n",
       "      <td>2283172</td>\n",
       "      <td>53595</td>\n",
       "      <td>14221</td>\n",
       "      <td>311</td>\n",
       "      <td>2.35</td>\n",
       "      <td>Europe</td>\n",
       "    </tr>\n",
       "  </tbody>\n",
       "</table>\n",
       "</div>"
      ],
      "text/plain": [
       "  Country/Region     Cases  Deaths    PCases  PDeaths  Cases (+)  Deaths (+)  \\\n",
       "0             US  13921374  273446  13721304   270642     200070        2804   \n",
       "1          India   9534964  138648   9499413   138122      35551         526   \n",
       "2         Brazil   6436650  174515   6386787   173817      49863         698   \n",
       "3         Russia   2327105   40630   2302062    40050      25043         580   \n",
       "4         France   2297393   53906   2283172    53595      14221         311   \n",
       "\n",
       "   Fatality Rate      Continent  \n",
       "0           1.96  North America  \n",
       "1           1.45           Asia  \n",
       "2           2.71  South America  \n",
       "3           1.75         Europe  \n",
       "4           2.35         Europe  "
      ]
     },
     "execution_count": 13,
     "metadata": {},
     "output_type": "execute_result"
    }
   ],
   "source": [
    "#hide\n",
    "for c in 'Cases, Deaths'.split(', '):\n",
    "    df_table[f'{c} (+)'] = (df_table[c] - df_table[f'P{c}']).clip(0)\n",
    "    #Clip ça veut dire, les chiffres negatif sont interdit\n",
    "df_table['Fatality Rate'] = (100* df_table['Deaths']/ df_table['Cases']).round(2)\n",
    "df_table['Continent'] = df_table['Country/Region'].map(mapping['map.continent'])\n",
    "df_table.head(5)"
   ]
  },
  {
   "cell_type": "code",
   "execution_count": 14,
   "metadata": {
    "execution": {
     "iopub.execute_input": "2020-12-04T00:11:06.386811Z",
     "iopub.status.busy": "2020-12-04T00:11:06.386274Z",
     "iopub.status.idle": "2020-12-04T00:11:06.388458Z",
     "shell.execute_reply": "2020-12-04T00:11:06.388920Z"
    },
    "papermill": {
     "duration": 0.038996,
     "end_time": "2020-12-04T00:11:06.389048",
     "exception": false,
     "start_time": "2020-12-04T00:11:06.350052",
     "status": "completed"
    },
    "tags": []
   },
   "outputs": [],
   "source": [
    "#hide\n",
    "#delete problematic countries from table\n",
    "df_table = df_table[~df_table['Country/Region'].isin(['Cape Verde', 'Cruise Ship', 'Kosovo'])]"
   ]
  },
  {
   "cell_type": "code",
   "execution_count": 15,
   "metadata": {
    "execution": {
     "iopub.execute_input": "2020-12-04T00:11:06.456250Z",
     "iopub.status.busy": "2020-12-04T00:11:06.455710Z",
     "iopub.status.idle": "2020-12-04T00:11:06.474361Z",
     "shell.execute_reply": "2020-12-04T00:11:06.473870Z"
    },
    "papermill": {
     "duration": 0.058582,
     "end_time": "2020-12-04T00:11:06.474482",
     "exception": false,
     "start_time": "2020-12-04T00:11:06.415900",
     "status": "completed"
    },
    "tags": []
   },
   "outputs": [
    {
     "data": {
      "text/html": [
       "<div>\n",
       "<style scoped>\n",
       "    .dataframe tbody tr th:only-of-type {\n",
       "        vertical-align: middle;\n",
       "    }\n",
       "\n",
       "    .dataframe tbody tr th {\n",
       "        vertical-align: top;\n",
       "    }\n",
       "\n",
       "    .dataframe thead th {\n",
       "        text-align: right;\n",
       "    }\n",
       "</style>\n",
       "<table border=\"1\" class=\"dataframe\">\n",
       "  <thead>\n",
       "    <tr style=\"text-align: right;\">\n",
       "      <th></th>\n",
       "      <th>Country/Region</th>\n",
       "      <th>Cases</th>\n",
       "      <th>Deaths</th>\n",
       "      <th>PCases</th>\n",
       "      <th>PDeaths</th>\n",
       "      <th>Cases (+)</th>\n",
       "      <th>Deaths (+)</th>\n",
       "      <th>Fatality Rate</th>\n",
       "      <th>Continent</th>\n",
       "    </tr>\n",
       "  </thead>\n",
       "  <tbody>\n",
       "    <tr>\n",
       "      <th>0</th>\n",
       "      <td>US</td>\n",
       "      <td>13921374</td>\n",
       "      <td>273446</td>\n",
       "      <td>13721304</td>\n",
       "      <td>270642</td>\n",
       "      <td>200070</td>\n",
       "      <td>2804</td>\n",
       "      <td>2.0</td>\n",
       "      <td>North America</td>\n",
       "    </tr>\n",
       "    <tr>\n",
       "      <th>1</th>\n",
       "      <td>India</td>\n",
       "      <td>9534964</td>\n",
       "      <td>138648</td>\n",
       "      <td>9499413</td>\n",
       "      <td>138122</td>\n",
       "      <td>35551</td>\n",
       "      <td>526</td>\n",
       "      <td>1.5</td>\n",
       "      <td>Asia</td>\n",
       "    </tr>\n",
       "    <tr>\n",
       "      <th>2</th>\n",
       "      <td>Brazil</td>\n",
       "      <td>6436650</td>\n",
       "      <td>174515</td>\n",
       "      <td>6386787</td>\n",
       "      <td>173817</td>\n",
       "      <td>49863</td>\n",
       "      <td>698</td>\n",
       "      <td>2.7</td>\n",
       "      <td>South America</td>\n",
       "    </tr>\n",
       "    <tr>\n",
       "      <th>3</th>\n",
       "      <td>Russia</td>\n",
       "      <td>2327105</td>\n",
       "      <td>40630</td>\n",
       "      <td>2302062</td>\n",
       "      <td>40050</td>\n",
       "      <td>25043</td>\n",
       "      <td>580</td>\n",
       "      <td>1.7</td>\n",
       "      <td>Europe</td>\n",
       "    </tr>\n",
       "    <tr>\n",
       "      <th>4</th>\n",
       "      <td>France</td>\n",
       "      <td>2297393</td>\n",
       "      <td>53906</td>\n",
       "      <td>2283172</td>\n",
       "      <td>53595</td>\n",
       "      <td>14221</td>\n",
       "      <td>311</td>\n",
       "      <td>2.3</td>\n",
       "      <td>Europe</td>\n",
       "    </tr>\n",
       "  </tbody>\n",
       "</table>\n",
       "</div>"
      ],
      "text/plain": [
       "  Country/Region     Cases  Deaths    PCases  PDeaths  Cases (+)  Deaths (+)  \\\n",
       "0             US  13921374  273446  13721304   270642     200070        2804   \n",
       "1          India   9534964  138648   9499413   138122      35551         526   \n",
       "2         Brazil   6436650  174515   6386787   173817      49863         698   \n",
       "3         Russia   2327105   40630   2302062    40050      25043         580   \n",
       "4         France   2297393   53906   2283172    53595      14221         311   \n",
       "\n",
       "   Fatality Rate      Continent  \n",
       "0            2.0  North America  \n",
       "1            1.5           Asia  \n",
       "2            2.7  South America  \n",
       "3            1.7         Europe  \n",
       "4            2.3         Europe  "
      ]
     },
     "execution_count": 15,
     "metadata": {},
     "output_type": "execute_result"
    }
   ],
   "source": [
    "#hide\n",
    "df_table = (pd.DataFrame(dict(Cases=dfc_cases, Deaths=dfc_deaths, PCases=dfp_cases, PDeaths=dfp_deaths))\n",
    "             .sort_values(by=['Cases', 'Deaths'], ascending=[False, False])\n",
    "             .reset_index())\n",
    "df_table.rename(columns={'index': 'Country/Region'}, inplace=True)\n",
    "for c in 'Cases, Deaths'.split(', '):\n",
    "    df_table[f'{c} (+)'] = (df_table[c] - df_table[f'P{c}']).clip(0)  # DATA BUG\n",
    "df_table['Fatality Rate'] = (100 * df_table['Deaths'] / df_table['Cases']).round(1)\n",
    "df_table['Continent'] = df_table['Country/Region'].map(mapping['map.continent'])\n",
    "df_table.head(5)"
   ]
  },
  {
   "cell_type": "code",
   "execution_count": 16,
   "metadata": {
    "execution": {
     "iopub.execute_input": "2020-12-04T00:11:06.537424Z",
     "iopub.status.busy": "2020-12-04T00:11:06.536864Z",
     "iopub.status.idle": "2020-12-04T00:11:06.538807Z",
     "shell.execute_reply": "2020-12-04T00:11:06.539225Z"
    },
    "papermill": {
     "duration": 0.036682,
     "end_time": "2020-12-04T00:11:06.539334",
     "exception": false,
     "start_time": "2020-12-04T00:11:06.502652",
     "status": "completed"
    },
    "tags": []
   },
   "outputs": [],
   "source": [
    "#hide\n",
    "#delete problematic countries from table\n",
    "df_table = df_table[~df_table['Country/Region'].isin(['Cape Verde', 'Cruise Ship', 'Kosovo'])]"
   ]
  },
  {
   "cell_type": "code",
   "execution_count": 17,
   "metadata": {
    "execution": {
     "iopub.execute_input": "2020-12-04T00:11:06.614706Z",
     "iopub.status.busy": "2020-12-04T00:11:06.614117Z",
     "iopub.status.idle": "2020-12-04T00:11:06.616529Z",
     "shell.execute_reply": "2020-12-04T00:11:06.617056Z"
    },
    "papermill": {
     "duration": 0.047829,
     "end_time": "2020-12-04T00:11:06.617223",
     "exception": false,
     "start_time": "2020-12-04T00:11:06.569394",
     "status": "completed"
    },
    "tags": []
   },
   "outputs": [],
   "source": [
    "#hide\n",
    "metrics = [df_table.columns[index] for index in [1,2,5,6]]\n",
    "# s_china = df_table[df_table['Country/Region'].eq('China')][metrics].sum().add_prefix('China ')\n",
    "s_us = df_table[df_table['Country/Region'].eq('US')][metrics].sum().add_prefix('US ')\n",
    "s_eu = df_table[df_table['Continent'].eq('Europe')][metrics].sum().add_prefix('EU ')\n",
    "s_ind = df_table[df_table['Country/Region'].eq('India')][metrics].sum().add_prefix('India ')\n",
    "summary = {'updated': pd.to_datetime(dt_today), 'since': pd.to_datetime(dt_yday)}\n",
    "summary = {'updated': pd.to_datetime(dt_today), 'since': pd.to_datetime(dt_yday)}\n",
    "summary = {**summary, **df_table[metrics].sum(), **s_ind, **s_us, **s_eu}"
   ]
  },
  {
   "cell_type": "code",
   "execution_count": 18,
   "metadata": {
    "execution": {
     "iopub.execute_input": "2020-12-04T00:11:06.684205Z",
     "iopub.status.busy": "2020-12-04T00:11:06.683127Z",
     "iopub.status.idle": "2020-12-04T00:11:06.694052Z",
     "shell.execute_reply": "2020-12-04T00:11:06.693562Z"
    },
    "papermill": {
     "duration": 0.04763,
     "end_time": "2020-12-04T00:11:06.694180",
     "exception": false,
     "start_time": "2020-12-04T00:11:06.646550",
     "status": "completed"
    },
    "tags": []
   },
   "outputs": [],
   "source": [
    "#hide\n",
    "dft_ct_new_cases = dft_cases.groupby(COL_REGION)[dt_cols].sum().diff(axis=1).fillna(0).astype(int)"
   ]
  },
  {
   "cell_type": "code",
   "execution_count": 19,
   "metadata": {
    "execution": {
     "iopub.execute_input": "2020-12-04T00:11:06.760567Z",
     "iopub.status.busy": "2020-12-04T00:11:06.759987Z",
     "iopub.status.idle": "2020-12-04T00:11:06.762436Z",
     "shell.execute_reply": "2020-12-04T00:11:06.761970Z"
    },
    "papermill": {
     "duration": 0.03844,
     "end_time": "2020-12-04T00:11:06.762562",
     "exception": false,
     "start_time": "2020-12-04T00:11:06.724122",
     "status": "completed"
    },
    "tags": []
   },
   "outputs": [],
   "source": [
    "#hide\n",
    "everydaycases = dft_ct_new_cases.cumsum(axis=1)"
   ]
  },
  {
   "cell_type": "code",
   "execution_count": 20,
   "metadata": {
    "execution": {
     "iopub.execute_input": "2020-12-04T00:11:06.827327Z",
     "iopub.status.busy": "2020-12-04T00:11:06.826784Z",
     "iopub.status.idle": "2020-12-04T00:11:09.487218Z",
     "shell.execute_reply": "2020-12-04T00:11:09.486351Z"
    },
    "papermill": {
     "duration": 2.694875,
     "end_time": "2020-12-04T00:11:09.487444",
     "exception": false,
     "start_time": "2020-12-04T00:11:06.792569",
     "status": "completed"
    },
    "tags": []
   },
   "outputs": [],
   "source": [
    "#hide\n",
    "import pandas as pd\n",
    "import matplotlib.pyplot as plt\n",
    "import matplotlib.ticker as ticker\n",
    "import matplotlib.animation as animation\n",
    "from IPython.display import HTML"
   ]
  },
  {
   "cell_type": "code",
   "execution_count": 21,
   "metadata": {
    "execution": {
     "iopub.execute_input": "2020-12-04T00:11:09.552585Z",
     "iopub.status.busy": "2020-12-04T00:11:09.552046Z",
     "iopub.status.idle": "2020-12-04T00:11:09.557234Z",
     "shell.execute_reply": "2020-12-04T00:11:09.556726Z"
    },
    "papermill": {
     "duration": 0.03926,
     "end_time": "2020-12-04T00:11:09.557363",
     "exception": false,
     "start_time": "2020-12-04T00:11:09.518103",
     "status": "completed"
    },
    "tags": []
   },
   "outputs": [],
   "source": [
    "#hide\n",
    "t = everydaycases.stack()"
   ]
  },
  {
   "cell_type": "code",
   "execution_count": 22,
   "metadata": {
    "execution": {
     "iopub.execute_input": "2020-12-04T00:11:09.618935Z",
     "iopub.status.busy": "2020-12-04T00:11:09.618357Z",
     "iopub.status.idle": "2020-12-04T00:11:09.626163Z",
     "shell.execute_reply": "2020-12-04T00:11:09.625705Z"
    },
    "papermill": {
     "duration": 0.040974,
     "end_time": "2020-12-04T00:11:09.626276",
     "exception": false,
     "start_time": "2020-12-04T00:11:09.585302",
     "status": "completed"
    },
    "tags": []
   },
   "outputs": [],
   "source": [
    "#hide\n",
    "g = t.reset_index(['Country/Region'])"
   ]
  },
  {
   "cell_type": "code",
   "execution_count": 23,
   "metadata": {
    "execution": {
     "iopub.execute_input": "2020-12-04T00:11:09.687031Z",
     "iopub.status.busy": "2020-12-04T00:11:09.686455Z",
     "iopub.status.idle": "2020-12-04T00:11:09.688798Z",
     "shell.execute_reply": "2020-12-04T00:11:09.689394Z"
    },
    "papermill": {
     "duration": 0.035053,
     "end_time": "2020-12-04T00:11:09.689533",
     "exception": false,
     "start_time": "2020-12-04T00:11:09.654480",
     "status": "completed"
    },
    "tags": []
   },
   "outputs": [],
   "source": [
    "#hide\n",
    "g.index.name = 'date'"
   ]
  },
  {
   "cell_type": "code",
   "execution_count": 24,
   "metadata": {
    "execution": {
     "iopub.execute_input": "2020-12-04T00:11:09.751371Z",
     "iopub.status.busy": "2020-12-04T00:11:09.750836Z",
     "iopub.status.idle": "2020-12-04T00:11:09.753162Z",
     "shell.execute_reply": "2020-12-04T00:11:09.753682Z"
    },
    "papermill": {
     "duration": 0.035444,
     "end_time": "2020-12-04T00:11:09.753809",
     "exception": false,
     "start_time": "2020-12-04T00:11:09.718365",
     "status": "completed"
    },
    "tags": []
   },
   "outputs": [],
   "source": [
    "# #hide\n",
    "# g = g.reset_index(['date'])"
   ]
  },
  {
   "cell_type": "code",
   "execution_count": 25,
   "metadata": {
    "execution": {
     "iopub.execute_input": "2020-12-04T00:11:09.815826Z",
     "iopub.status.busy": "2020-12-04T00:11:09.814812Z",
     "iopub.status.idle": "2020-12-04T00:11:09.816733Z",
     "shell.execute_reply": "2020-12-04T00:11:09.817214Z"
    },
    "papermill": {
     "duration": 0.035494,
     "end_time": "2020-12-04T00:11:09.817342",
     "exception": false,
     "start_time": "2020-12-04T00:11:09.781848",
     "status": "completed"
    },
    "tags": []
   },
   "outputs": [],
   "source": [
    "#hide\n",
    "# g.head()"
   ]
  },
  {
   "cell_type": "code",
   "execution_count": 26,
   "metadata": {
    "execution": {
     "iopub.execute_input": "2020-12-04T00:11:09.877344Z",
     "iopub.status.busy": "2020-12-04T00:11:09.876846Z",
     "iopub.status.idle": "2020-12-04T00:11:09.879024Z",
     "shell.execute_reply": "2020-12-04T00:11:09.878624Z"
    },
    "papermill": {
     "duration": 0.032869,
     "end_time": "2020-12-04T00:11:09.879121",
     "exception": false,
     "start_time": "2020-12-04T00:11:09.846252",
     "status": "completed"
    },
    "tags": []
   },
   "outputs": [],
   "source": [
    "#hide\n",
    "# g.columns = ['date','country','cases']"
   ]
  },
  {
   "cell_type": "code",
   "execution_count": 27,
   "metadata": {
    "execution": {
     "iopub.execute_input": "2020-12-04T00:11:09.936163Z",
     "iopub.status.busy": "2020-12-04T00:11:09.935602Z",
     "iopub.status.idle": "2020-12-04T00:11:09.937870Z",
     "shell.execute_reply": "2020-12-04T00:11:09.938385Z"
    },
    "papermill": {
     "duration": 0.034378,
     "end_time": "2020-12-04T00:11:09.938508",
     "exception": false,
     "start_time": "2020-12-04T00:11:09.904130",
     "status": "completed"
    },
    "tags": []
   },
   "outputs": [],
   "source": [
    "#hide\n",
    "# g['continent'] = g.country"
   ]
  },
  {
   "cell_type": "code",
   "execution_count": 28,
   "metadata": {
    "execution": {
     "iopub.execute_input": "2020-12-04T00:11:09.995627Z",
     "iopub.status.busy": "2020-12-04T00:11:09.995155Z",
     "iopub.status.idle": "2020-12-04T00:11:09.997543Z",
     "shell.execute_reply": "2020-12-04T00:11:09.998096Z"
    },
    "papermill": {
     "duration": 0.032901,
     "end_time": "2020-12-04T00:11:09.998224",
     "exception": false,
     "start_time": "2020-12-04T00:11:09.965323",
     "status": "completed"
    },
    "tags": []
   },
   "outputs": [],
   "source": [
    "#hide\n",
    "# cols = list(g.columns.values)"
   ]
  },
  {
   "cell_type": "code",
   "execution_count": 29,
   "metadata": {
    "execution": {
     "iopub.execute_input": "2020-12-04T00:11:10.059517Z",
     "iopub.status.busy": "2020-12-04T00:11:10.058960Z",
     "iopub.status.idle": "2020-12-04T00:11:10.061478Z",
     "shell.execute_reply": "2020-12-04T00:11:10.060993Z"
    },
    "papermill": {
     "duration": 0.034939,
     "end_time": "2020-12-04T00:11:10.061589",
     "exception": false,
     "start_time": "2020-12-04T00:11:10.026650",
     "status": "completed"
    },
    "tags": []
   },
   "outputs": [],
   "source": [
    "#hide\n",
    "# cols.insert(0, cols.pop())"
   ]
  },
  {
   "cell_type": "code",
   "execution_count": 30,
   "metadata": {
    "execution": {
     "iopub.execute_input": "2020-12-04T00:11:10.120147Z",
     "iopub.status.busy": "2020-12-04T00:11:10.119673Z",
     "iopub.status.idle": "2020-12-04T00:11:10.121361Z",
     "shell.execute_reply": "2020-12-04T00:11:10.121774Z"
    },
    "papermill": {
     "duration": 0.03251,
     "end_time": "2020-12-04T00:11:10.121905",
     "exception": false,
     "start_time": "2020-12-04T00:11:10.089395",
     "status": "completed"
    },
    "tags": []
   },
   "outputs": [],
   "source": [
    "#hide\n",
    "# g = g[cols]"
   ]
  },
  {
   "cell_type": "code",
   "execution_count": 31,
   "metadata": {
    "execution": {
     "iopub.execute_input": "2020-12-04T00:11:10.181950Z",
     "iopub.status.busy": "2020-12-04T00:11:10.181408Z",
     "iopub.status.idle": "2020-12-04T00:11:10.183521Z",
     "shell.execute_reply": "2020-12-04T00:11:10.183068Z"
    },
    "papermill": {
     "duration": 0.034304,
     "end_time": "2020-12-04T00:11:10.183631",
     "exception": false,
     "start_time": "2020-12-04T00:11:10.149327",
     "status": "completed"
    },
    "tags": []
   },
   "outputs": [],
   "source": [
    "#hide\n",
    "# g['continent'] = g['continent'].map(mapping['map.continent'])"
   ]
  },
  {
   "cell_type": "code",
   "execution_count": 32,
   "metadata": {
    "execution": {
     "iopub.execute_input": "2020-12-04T00:11:10.244896Z",
     "iopub.status.busy": "2020-12-04T00:11:10.244360Z",
     "iopub.status.idle": "2020-12-04T00:11:10.246512Z",
     "shell.execute_reply": "2020-12-04T00:11:10.246109Z"
    },
    "papermill": {
     "duration": 0.03419,
     "end_time": "2020-12-04T00:11:10.246610",
     "exception": false,
     "start_time": "2020-12-04T00:11:10.212420",
     "status": "completed"
    },
    "tags": []
   },
   "outputs": [],
   "source": [
    "#hide\n",
    "# g.head()"
   ]
  },
  {
   "cell_type": "code",
   "execution_count": 33,
   "metadata": {
    "execution": {
     "iopub.execute_input": "2020-12-04T00:11:10.305523Z",
     "iopub.status.busy": "2020-12-04T00:11:10.304963Z",
     "iopub.status.idle": "2020-12-04T00:11:10.307419Z",
     "shell.execute_reply": "2020-12-04T00:11:10.307880Z"
    },
    "papermill": {
     "duration": 0.034009,
     "end_time": "2020-12-04T00:11:10.308004",
     "exception": false,
     "start_time": "2020-12-04T00:11:10.273995",
     "status": "completed"
    },
    "tags": []
   },
   "outputs": [],
   "source": [
    "# hide\n",
    "# g['date'] = g['date'].astype('datetime64[ns]')"
   ]
  },
  {
   "cell_type": "code",
   "execution_count": 34,
   "metadata": {
    "execution": {
     "iopub.execute_input": "2020-12-04T00:11:10.365038Z",
     "iopub.status.busy": "2020-12-04T00:11:10.364510Z",
     "iopub.status.idle": "2020-12-04T00:11:10.366952Z",
     "shell.execute_reply": "2020-12-04T00:11:10.367402Z"
    },
    "papermill": {
     "duration": 0.033841,
     "end_time": "2020-12-04T00:11:10.367509",
     "exception": false,
     "start_time": "2020-12-04T00:11:10.333668",
     "status": "completed"
    },
    "tags": []
   },
   "outputs": [],
   "source": [
    "#hide\n",
    "# g['date'] = g.date.dt.dayofyear"
   ]
  },
  {
   "cell_type": "code",
   "execution_count": 35,
   "metadata": {
    "execution": {
     "iopub.execute_input": "2020-12-04T00:11:10.427195Z",
     "iopub.status.busy": "2020-12-04T00:11:10.426658Z",
     "iopub.status.idle": "2020-12-04T00:11:10.429142Z",
     "shell.execute_reply": "2020-12-04T00:11:10.429669Z"
    },
    "papermill": {
     "duration": 0.035593,
     "end_time": "2020-12-04T00:11:10.429795",
     "exception": false,
     "start_time": "2020-12-04T00:11:10.394202",
     "status": "completed"
    },
    "tags": []
   },
   "outputs": [],
   "source": [
    "#hide\n",
    "# g = g.rename(columns= {'continent':'group','country':'name','cases':'value'})"
   ]
  },
  {
   "cell_type": "code",
   "execution_count": 36,
   "metadata": {
    "execution": {
     "iopub.execute_input": "2020-12-04T00:11:10.486525Z",
     "iopub.status.busy": "2020-12-04T00:11:10.486049Z",
     "iopub.status.idle": "2020-12-04T00:11:10.488358Z",
     "shell.execute_reply": "2020-12-04T00:11:10.488815Z"
    },
    "papermill": {
     "duration": 0.032852,
     "end_time": "2020-12-04T00:11:10.488922",
     "exception": false,
     "start_time": "2020-12-04T00:11:10.456070",
     "status": "completed"
    },
    "tags": []
   },
   "outputs": [],
   "source": [
    "#hide\n",
    "# cols = ['name','group','day','value']"
   ]
  },
  {
   "cell_type": "code",
   "execution_count": 37,
   "metadata": {
    "execution": {
     "iopub.execute_input": "2020-12-04T00:11:10.547390Z",
     "iopub.status.busy": "2020-12-04T00:11:10.546821Z",
     "iopub.status.idle": "2020-12-04T00:11:10.549150Z",
     "shell.execute_reply": "2020-12-04T00:11:10.549692Z"
    },
    "papermill": {
     "duration": 0.034118,
     "end_time": "2020-12-04T00:11:10.549812",
     "exception": false,
     "start_time": "2020-12-04T00:11:10.515694",
     "status": "completed"
    },
    "tags": []
   },
   "outputs": [],
   "source": [
    "#hide\n",
    "# g.rename(columns= {'date':'day'},inplace = True)"
   ]
  },
  {
   "cell_type": "code",
   "execution_count": 38,
   "metadata": {
    "execution": {
     "iopub.execute_input": "2020-12-04T00:11:10.612858Z",
     "iopub.status.busy": "2020-12-04T00:11:10.612322Z",
     "iopub.status.idle": "2020-12-04T00:11:10.614699Z",
     "shell.execute_reply": "2020-12-04T00:11:10.615246Z"
    },
    "papermill": {
     "duration": 0.036645,
     "end_time": "2020-12-04T00:11:10.615378",
     "exception": false,
     "start_time": "2020-12-04T00:11:10.578733",
     "status": "completed"
    },
    "tags": []
   },
   "outputs": [],
   "source": [
    "#hide\n",
    "# g = g[cols]"
   ]
  },
  {
   "cell_type": "code",
   "execution_count": 39,
   "metadata": {
    "execution": {
     "iopub.execute_input": "2020-12-04T00:11:10.677189Z",
     "iopub.status.busy": "2020-12-04T00:11:10.676635Z",
     "iopub.status.idle": "2020-12-04T00:11:10.678538Z",
     "shell.execute_reply": "2020-12-04T00:11:10.678947Z"
    },
    "papermill": {
     "duration": 0.035118,
     "end_time": "2020-12-04T00:11:10.679078",
     "exception": false,
     "start_time": "2020-12-04T00:11:10.643960",
     "status": "completed"
    },
    "tags": []
   },
   "outputs": [],
   "source": [
    "# #hide\n",
    "# g = g[g.group.notna()]"
   ]
  },
  {
   "cell_type": "code",
   "execution_count": 40,
   "metadata": {
    "execution": {
     "iopub.execute_input": "2020-12-04T00:11:10.740529Z",
     "iopub.status.busy": "2020-12-04T00:11:10.739945Z",
     "iopub.status.idle": "2020-12-04T00:11:10.742826Z",
     "shell.execute_reply": "2020-12-04T00:11:10.743251Z"
    },
    "papermill": {
     "duration": 0.035936,
     "end_time": "2020-12-04T00:11:10.743376",
     "exception": false,
     "start_time": "2020-12-04T00:11:10.707440",
     "status": "completed"
    },
    "tags": []
   },
   "outputs": [],
   "source": [
    "# #hide\n",
    "# colors = dict(zip(\n",
    "#     [\"Oceania\", \"Europe\", \"Asia\", \"South America\", \"Middle East\", \"North America\", \"Africa\"],\n",
    "#     [\"#adb0ff\", \"#ffb3ff\", \"#90d595\", \"#e48381\", \"#aafbff\", \"#f7bb5f\", \"#eafb50\"]\n",
    "# ))\n",
    "# group_lk = g.set_index('name')['group'].to_dict()"
   ]
  },
  {
   "cell_type": "code",
   "execution_count": null,
   "metadata": {
    "papermill": {
     "duration": 0.027497,
     "end_time": "2020-12-04T00:11:10.798868",
     "exception": false,
     "start_time": "2020-12-04T00:11:10.771371",
     "status": "completed"
    },
    "tags": []
   },
   "outputs": [],
   "source": []
  },
  {
   "cell_type": "code",
   "execution_count": 41,
   "metadata": {
    "execution": {
     "iopub.execute_input": "2020-12-04T00:11:10.859349Z",
     "iopub.status.busy": "2020-12-04T00:11:10.858828Z",
     "iopub.status.idle": "2020-12-04T00:11:10.860975Z",
     "shell.execute_reply": "2020-12-04T00:11:10.860521Z"
    },
    "papermill": {
     "duration": 0.034206,
     "end_time": "2020-12-04T00:11:10.861084",
     "exception": false,
     "start_time": "2020-12-04T00:11:10.826878",
     "status": "completed"
    },
    "tags": []
   },
   "outputs": [],
   "source": [
    "# #hide\n",
    "# fig, ax = plt.subplots(figsize=(15, 8))\n",
    "\n",
    "# def draw_barchart(current_day):\n",
    "#     dff = g[g['day'].eq(current_day)].sort_values(by='value', ascending=True).tail(10)\n",
    "#     ax.clear()\n",
    "#     ax.barh(dff['name'], dff['value'], color=[colors[group_lk[x]] for x in dff['name']])\n",
    "#     dx = dff['value'].max() / 200\n",
    "    \n",
    "#     for i, (value, name) in enumerate(zip(dff['value'], dff['name'])):\n",
    "#         ax.text(value-dx, i,     name,           size=14, weight=600, ha='right', va='bottom')\n",
    "#         ax.text(value-dx, i-.25, group_lk[name], size=10, color='#444444', ha='right', va='baseline')\n",
    "#         ax.text(value+dx, i,     f'{value:,.0f}',  size=14, ha='left',  va='center')\n",
    "#     ax.text(1, 0.4, current_day, transform=ax.transAxes, color='#777777', size=46, ha='right', weight=800)\n",
    "#     ax.text(0, 1.06, 'Population (thousands)', transform=ax.transAxes, size=12, color='#777777')\n",
    "#     ax.xaxis.set_major_formatter(ticker.StrMethodFormatter('{x:,.0f}'))\n",
    "#     ax.xaxis.set_ticks_position('top')\n",
    "#     ax.tick_params(axis='x', colors='#777777', labelsize=12)\n",
    "#     ax.set_yticks([])\n",
    "#     ax.margins(0, 0.01)\n",
    "#     ax.grid(which='major', axis='x', linestyle='-')\n",
    "#     ax.set_axisbelow(True)\n",
    "    \n",
    "#     ax.text(0, 1.15, 'Coronavirus',\n",
    "#             transform=ax.transAxes, size=24, weight=600, ha='left', va='top')\n",
    "# #     ax.text(1, 0, 'by @pratapvardhan; credit @jburnmurdoch', transform=ax.transAxes, color='#777777', ha='right',\n",
    "# #             bbox=dict(facecolor='white', alpha=0.8, edgecolor='white'))\n",
    "#     plt.box(False)"
   ]
  },
  {
   "cell_type": "code",
   "execution_count": 42,
   "metadata": {
    "execution": {
     "iopub.execute_input": "2020-12-04T00:11:10.920326Z",
     "iopub.status.busy": "2020-12-04T00:11:10.919750Z",
     "iopub.status.idle": "2020-12-04T00:11:10.922060Z",
     "shell.execute_reply": "2020-12-04T00:11:10.922599Z"
    },
    "papermill": {
     "duration": 0.033295,
     "end_time": "2020-12-04T00:11:10.922720",
     "exception": false,
     "start_time": "2020-12-04T00:11:10.889425",
     "status": "completed"
    },
    "tags": []
   },
   "outputs": [],
   "source": [
    "# #hide_input\n",
    "# fig, ax = plt.subplots(figsize=(15, 8))\n",
    "# animator = animation.FuncAnimation(fig, draw_barchart, frames=range(g.day.values.min(), g.day.values.max()))\n",
    "# HTML(animator.to_jshtml())\n",
    "# # or use animator.to_html5_video() or animator.save() "
   ]
  },
  {
   "cell_type": "code",
   "execution_count": null,
   "metadata": {
    "papermill": {
     "duration": 0.027376,
     "end_time": "2020-12-04T00:11:10.979500",
     "exception": false,
     "start_time": "2020-12-04T00:11:10.952124",
     "status": "completed"
    },
    "tags": []
   },
   "outputs": [],
   "source": []
  },
  {
   "cell_type": "code",
   "execution_count": null,
   "metadata": {
    "papermill": {
     "duration": 0.027121,
     "end_time": "2020-12-04T00:11:11.033426",
     "exception": false,
     "start_time": "2020-12-04T00:11:11.006305",
     "status": "completed"
    },
    "tags": []
   },
   "outputs": [],
   "source": []
  },
  {
   "cell_type": "code",
   "execution_count": null,
   "metadata": {
    "papermill": {
     "duration": 0.027857,
     "end_time": "2020-12-04T00:11:11.088614",
     "exception": false,
     "start_time": "2020-12-04T00:11:11.060757",
     "status": "completed"
    },
    "tags": []
   },
   "outputs": [],
   "source": []
  }
 ],
 "metadata": {
  "kernelspec": {
   "display_name": "Python 3",
   "language": "python",
   "name": "python3"
  },
  "language_info": {
   "codemirror_mode": {
    "name": "ipython",
    "version": 3
   },
   "file_extension": ".py",
   "mimetype": "text/x-python",
   "name": "python",
   "nbconvert_exporter": "python",
   "pygments_lexer": "ipython3",
   "version": "3.6.12"
  },
  "papermill": {
   "duration": 7.787021,
   "end_time": "2020-12-04T00:11:11.427792",
   "environment_variables": {},
   "exception": null,
   "input_path": "2020-03-21-covid19exp.ipynb",
   "output_path": "2020-03-21-covid19exp.ipynb",
   "parameters": {},
   "start_time": "2020-12-04T00:11:03.640771",
   "version": "2.0.0"
  }
 },
 "nbformat": 4,
 "nbformat_minor": 4
}