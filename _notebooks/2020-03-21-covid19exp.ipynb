{
 "cells": [
  {
   "cell_type": "markdown",
   "id": "muslim-click",
   "metadata": {
    "papermill": {
     "duration": 0.040803,
     "end_time": "2021-06-01T01:13:17.746110",
     "exception": false,
     "start_time": "2021-06-01T01:13:17.705307",
     "status": "completed"
    },
    "tags": []
   },
   "source": [
    "# COVID-19 Case Race\n",
    "> A race chart to see rising cases around the world\n",
    "\n",
    "- author: Hargun Oberoi\n",
    "- image: images/covid-overview.png\n",
    "- hide: false\n",
    "- badges: false"
   ]
  },
  {
   "cell_type": "code",
   "execution_count": 1,
   "id": "proof-material",
   "metadata": {
    "execution": {
     "iopub.execute_input": "2021-06-01T01:13:17.823151Z",
     "iopub.status.busy": "2021-06-01T01:13:17.822585Z",
     "iopub.status.idle": "2021-06-01T01:13:18.157226Z",
     "shell.execute_reply": "2021-06-01T01:13:18.156747Z"
    },
    "papermill": {
     "duration": 0.37767,
     "end_time": "2021-06-01T01:13:18.157384",
     "exception": false,
     "start_time": "2021-06-01T01:13:17.779714",
     "status": "completed"
    },
    "tags": []
   },
   "outputs": [],
   "source": [
    "#hide\n",
    "import numpy as np\n",
    "import pandas as pd\n",
    "from jinja2 import Template\n",
    "from IPython.display import HTML"
   ]
  },
  {
   "cell_type": "code",
   "execution_count": 2,
   "id": "developed-terminology",
   "metadata": {
    "execution": {
     "iopub.execute_input": "2021-06-01T01:13:18.225645Z",
     "iopub.status.busy": "2021-06-01T01:13:18.225118Z",
     "iopub.status.idle": "2021-06-01T01:13:18.226957Z",
     "shell.execute_reply": "2021-06-01T01:13:18.227416Z"
    },
    "papermill": {
     "duration": 0.038834,
     "end_time": "2021-06-01T01:13:18.227534",
     "exception": false,
     "start_time": "2021-06-01T01:13:18.188700",
     "status": "completed"
    },
    "tags": []
   },
   "outputs": [],
   "source": [
    "#hide\n",
    "\n",
    "# FETCH\n",
    "base_url = 'https://raw.githubusercontent.com/pratapvardhan/notebooks/master/covid19/'\n",
    "paths = {\n",
    "    'mapping': base_url + 'mapping_countries.csv',\n",
    "    'overview': base_url + 'overview.tpl'\n",
    "}"
   ]
  },
  {
   "cell_type": "code",
   "execution_count": 3,
   "id": "dynamic-saver",
   "metadata": {
    "execution": {
     "iopub.execute_input": "2021-06-01T01:13:18.298228Z",
     "iopub.status.busy": "2021-06-01T01:13:18.297720Z",
     "iopub.status.idle": "2021-06-01T01:13:18.300695Z",
     "shell.execute_reply": "2021-06-01T01:13:18.300260Z"
    },
    "papermill": {
     "duration": 0.042392,
     "end_time": "2021-06-01T01:13:18.300793",
     "exception": false,
     "start_time": "2021-06-01T01:13:18.258401",
     "status": "completed"
    },
    "tags": []
   },
   "outputs": [
    {
     "data": {
      "text/plain": [
       "'https://raw.githubusercontent.com/pratapvardhan/notebooks/master/covid19/mapping_countries.csv'"
      ]
     },
     "execution_count": 3,
     "metadata": {},
     "output_type": "execute_result"
    }
   ],
   "source": [
    "#hide\n",
    "paths['mapping']"
   ]
  },
  {
   "cell_type": "code",
   "execution_count": 4,
   "id": "urban-software",
   "metadata": {
    "execution": {
     "iopub.execute_input": "2021-06-01T01:13:18.368233Z",
     "iopub.status.busy": "2021-06-01T01:13:18.367671Z",
     "iopub.status.idle": "2021-06-01T01:13:18.370140Z",
     "shell.execute_reply": "2021-06-01T01:13:18.369692Z"
    },
    "papermill": {
     "duration": 0.038253,
     "end_time": "2021-06-01T01:13:18.370262",
     "exception": false,
     "start_time": "2021-06-01T01:13:18.332009",
     "status": "completed"
    },
    "tags": []
   },
   "outputs": [],
   "source": [
    "#hide\n",
    "def get_mappings(url):\n",
    "    df = pd.read_csv(url)\n",
    "    return {\n",
    "        'df': df,\n",
    "        'replace.country': dict(df.dropna(subset=['Name']).set_index('Country')['Name']),\n",
    "        'map.continent': dict(df.set_index('Name')['Continent'])\n",
    "    }"
   ]
  },
  {
   "cell_type": "code",
   "execution_count": 5,
   "id": "intimate-machinery",
   "metadata": {
    "execution": {
     "iopub.execute_input": "2021-06-01T01:13:18.438539Z",
     "iopub.status.busy": "2021-06-01T01:13:18.437655Z",
     "iopub.status.idle": "2021-06-01T01:13:18.477414Z",
     "shell.execute_reply": "2021-06-01T01:13:18.477895Z"
    },
    "papermill": {
     "duration": 0.077213,
     "end_time": "2021-06-01T01:13:18.478014",
     "exception": false,
     "start_time": "2021-06-01T01:13:18.400801",
     "status": "completed"
    },
    "tags": []
   },
   "outputs": [],
   "source": [
    "#hide\n",
    "mapping = get_mappings(paths['mapping'])"
   ]
  },
  {
   "cell_type": "code",
   "execution_count": 6,
   "id": "certified-tactics",
   "metadata": {
    "execution": {
     "iopub.execute_input": "2021-06-01T01:13:18.547652Z",
     "iopub.status.busy": "2021-06-01T01:13:18.547100Z",
     "iopub.status.idle": "2021-06-01T01:13:18.549355Z",
     "shell.execute_reply": "2021-06-01T01:13:18.548826Z"
    },
    "papermill": {
     "duration": 0.038766,
     "end_time": "2021-06-01T01:13:18.549523",
     "exception": false,
     "start_time": "2021-06-01T01:13:18.510757",
     "status": "completed"
    },
    "tags": []
   },
   "outputs": [],
   "source": [
    "#hide\n",
    "def get_template(path):\n",
    "    from urllib.parse import urlparse\n",
    "    if bool(urlparse(path).netloc):\n",
    "        from urllib.request import urlopen\n",
    "        return urlopen(path).read().decode('utf8')\n",
    "    return open(path).read()"
   ]
  },
  {
   "cell_type": "code",
   "execution_count": 7,
   "id": "realistic-blast",
   "metadata": {
    "execution": {
     "iopub.execute_input": "2021-06-01T01:13:18.624332Z",
     "iopub.status.busy": "2021-06-01T01:13:18.623754Z",
     "iopub.status.idle": "2021-06-01T01:13:18.626105Z",
     "shell.execute_reply": "2021-06-01T01:13:18.625515Z"
    },
    "papermill": {
     "duration": 0.0422,
     "end_time": "2021-06-01T01:13:18.626240",
     "exception": false,
     "start_time": "2021-06-01T01:13:18.584040",
     "status": "completed"
    },
    "tags": []
   },
   "outputs": [],
   "source": [
    "#hide\n",
    "def get_frame(name):\n",
    "    url = (\n",
    "        'https://raw.githubusercontent.com/CSSEGISandData/COVID-19/master/csse_covid_19_data/'\n",
    "        f'csse_covid_19_time_series/time_series_covid19_{name}_global.csv')\n",
    "    df = pd.read_csv(url)\n",
    "    # rename countries\n",
    "    df['Country/Region'] = df['Country/Region'].replace(mapping['replace.country'])\n",
    "    return df"
   ]
  },
  {
   "cell_type": "code",
   "execution_count": 8,
   "id": "affiliated-characterization",
   "metadata": {
    "execution": {
     "iopub.execute_input": "2021-06-01T01:13:18.702223Z",
     "iopub.status.busy": "2021-06-01T01:13:18.701622Z",
     "iopub.status.idle": "2021-06-01T01:13:18.703884Z",
     "shell.execute_reply": "2021-06-01T01:13:18.703380Z"
    },
    "papermill": {
     "duration": 0.044024,
     "end_time": "2021-06-01T01:13:18.704021",
     "exception": false,
     "start_time": "2021-06-01T01:13:18.659997",
     "status": "completed"
    },
    "tags": []
   },
   "outputs": [],
   "source": [
    "#hide\n",
    "def get_dates(df):\n",
    "    dt_cols = df.columns[~df.columns.isin(['Province/State', 'Country/Region', 'Lat', 'Long'])]\n",
    "    LAST_DATE_I = -1\n",
    "    # sometimes last column may be empty, then go backwards\n",
    "    for i in range(-1, -len(dt_cols), -1):\n",
    "        if not df[dt_cols[i]].fillna(0).eq(0).all():\n",
    "            LAST_DATE_I = i\n",
    "            break\n",
    "    return LAST_DATE_I, dt_cols"
   ]
  },
  {
   "cell_type": "code",
   "execution_count": 9,
   "id": "recent-optimization",
   "metadata": {
    "execution": {
     "iopub.execute_input": "2021-06-01T01:13:18.779923Z",
     "iopub.status.busy": "2021-06-01T01:13:18.779191Z",
     "iopub.status.idle": "2021-06-01T01:13:19.147201Z",
     "shell.execute_reply": "2021-06-01T01:13:19.146201Z"
    },
    "papermill": {
     "duration": 0.408834,
     "end_time": "2021-06-01T01:13:19.147326",
     "exception": false,
     "start_time": "2021-06-01T01:13:18.738492",
     "status": "completed"
    },
    "tags": []
   },
   "outputs": [],
   "source": [
    "#hide\n",
    "COL_REGION = 'Country/Region'\n",
    "# Confirmed, Recovered, Deaths\n",
    "df = get_frame('confirmed')\n",
    "# dft_: timeseries, dfc_: today country agg\n",
    "dft_cases = df\n",
    "dft_deaths = get_frame('deaths')\n",
    "dft_recovered = get_frame('recovered')\n",
    "LAST_DATE_I, dt_cols = get_dates(df)"
   ]
  },
  {
   "cell_type": "code",
   "execution_count": 10,
   "id": "absolute-copper",
   "metadata": {
    "execution": {
     "iopub.execute_input": "2021-06-01T01:13:19.223858Z",
     "iopub.status.busy": "2021-06-01T01:13:19.223174Z",
     "iopub.status.idle": "2021-06-01T01:13:19.225213Z",
     "shell.execute_reply": "2021-06-01T01:13:19.225637Z"
    },
    "papermill": {
     "duration": 0.044737,
     "end_time": "2021-06-01T01:13:19.225764",
     "exception": false,
     "start_time": "2021-06-01T01:13:19.181027",
     "status": "completed"
    },
    "tags": []
   },
   "outputs": [],
   "source": [
    "#hide\n",
    "LAST_DATE_I, dt_cols = get_dates(df)\n",
    "dt_today =dt_cols[LAST_DATE_I]\n",
    "# dt_5day = dt_cols[LAST_DATE_I - 5]\n",
    "dt_yday = dt_cols[LAST_DATE_I - 1]"
   ]
  },
  {
   "cell_type": "code",
   "execution_count": 11,
   "id": "restricted-sheriff",
   "metadata": {
    "execution": {
     "iopub.execute_input": "2021-06-01T01:13:19.299199Z",
     "iopub.status.busy": "2021-06-01T01:13:19.298650Z",
     "iopub.status.idle": "2021-06-01T01:13:19.305179Z",
     "shell.execute_reply": "2021-06-01T01:13:19.305714Z"
    },
    "papermill": {
     "duration": 0.04605,
     "end_time": "2021-06-01T01:13:19.305842",
     "exception": false,
     "start_time": "2021-06-01T01:13:19.259792",
     "status": "completed"
    },
    "tags": []
   },
   "outputs": [],
   "source": [
    "#hide\n",
    "dfc_cases = dft_cases.groupby(COL_REGION)[dt_today].sum()\n",
    "dfc_deaths = dft_deaths.groupby(COL_REGION)[dt_today].sum()\n",
    "# dfp_cases = dft_cases.groupby(COL_REGION)[dt_5day].sum()\n",
    "# dfp_deaths = dft_deaths.groupby(COL_REGION)[dt_5day].sum()\n",
    "dfp_cases = dft_cases.groupby(COL_REGION)[dt_yday].sum()\n",
    "dfp_deaths = dft_deaths.groupby(COL_REGION)[dt_yday].sum()"
   ]
  },
  {
   "cell_type": "code",
   "execution_count": 12,
   "id": "deluxe-hepatitis",
   "metadata": {
    "execution": {
     "iopub.execute_input": "2021-06-01T01:13:19.375555Z",
     "iopub.status.busy": "2021-06-01T01:13:19.374991Z",
     "iopub.status.idle": "2021-06-01T01:13:19.379555Z",
     "shell.execute_reply": "2021-06-01T01:13:19.380107Z"
    },
    "papermill": {
     "duration": 0.042995,
     "end_time": "2021-06-01T01:13:19.380241",
     "exception": false,
     "start_time": "2021-06-01T01:13:19.337246",
     "status": "completed"
    },
    "tags": []
   },
   "outputs": [],
   "source": [
    "#hide\n",
    "df_table = (pd.DataFrame(dict(Cases = dfc_cases, Deaths = dfc_deaths, PCases = dfp_cases, PDeaths = dfp_deaths))\n",
    "            .sort_values(by = ['Cases','Deaths'], ascending = [False, False])\n",
    "            .reset_index())"
   ]
  },
  {
   "cell_type": "code",
   "execution_count": 13,
   "id": "educational-chancellor",
   "metadata": {
    "execution": {
     "iopub.execute_input": "2021-06-01T01:13:19.462386Z",
     "iopub.status.busy": "2021-06-01T01:13:19.461830Z",
     "iopub.status.idle": "2021-06-01T01:13:19.469342Z",
     "shell.execute_reply": "2021-06-01T01:13:19.469854Z"
    },
    "papermill": {
     "duration": 0.058047,
     "end_time": "2021-06-01T01:13:19.469973",
     "exception": false,
     "start_time": "2021-06-01T01:13:19.411926",
     "status": "completed"
    },
    "tags": []
   },
   "outputs": [
    {
     "data": {
      "text/html": [
       "<div>\n",
       "<style scoped>\n",
       "    .dataframe tbody tr th:only-of-type {\n",
       "        vertical-align: middle;\n",
       "    }\n",
       "\n",
       "    .dataframe tbody tr th {\n",
       "        vertical-align: top;\n",
       "    }\n",
       "\n",
       "    .dataframe thead th {\n",
       "        text-align: right;\n",
       "    }\n",
       "</style>\n",
       "<table border=\"1\" class=\"dataframe\">\n",
       "  <thead>\n",
       "    <tr style=\"text-align: right;\">\n",
       "      <th></th>\n",
       "      <th>Country/Region</th>\n",
       "      <th>Cases</th>\n",
       "      <th>Deaths</th>\n",
       "      <th>PCases</th>\n",
       "      <th>PDeaths</th>\n",
       "      <th>Cases (+)</th>\n",
       "      <th>Deaths (+)</th>\n",
       "      <th>Fatality Rate</th>\n",
       "      <th>Continent</th>\n",
       "    </tr>\n",
       "  </thead>\n",
       "  <tbody>\n",
       "    <tr>\n",
       "      <th>0</th>\n",
       "      <td>US</td>\n",
       "      <td>33258664</td>\n",
       "      <td>594430</td>\n",
       "      <td>33251939</td>\n",
       "      <td>594306</td>\n",
       "      <td>6725</td>\n",
       "      <td>124</td>\n",
       "      <td>1.79</td>\n",
       "      <td>North America</td>\n",
       "    </tr>\n",
       "    <tr>\n",
       "      <th>1</th>\n",
       "      <td>India</td>\n",
       "      <td>28047534</td>\n",
       "      <td>329100</td>\n",
       "      <td>27894800</td>\n",
       "      <td>325972</td>\n",
       "      <td>152734</td>\n",
       "      <td>3128</td>\n",
       "      <td>1.17</td>\n",
       "      <td>Asia</td>\n",
       "    </tr>\n",
       "    <tr>\n",
       "      <th>2</th>\n",
       "      <td>Brazil</td>\n",
       "      <td>16515120</td>\n",
       "      <td>461931</td>\n",
       "      <td>16471600</td>\n",
       "      <td>461057</td>\n",
       "      <td>43520</td>\n",
       "      <td>874</td>\n",
       "      <td>2.80</td>\n",
       "      <td>South America</td>\n",
       "    </tr>\n",
       "    <tr>\n",
       "      <th>3</th>\n",
       "      <td>France</td>\n",
       "      <td>5728418</td>\n",
       "      <td>109562</td>\n",
       "      <td>5719877</td>\n",
       "      <td>109518</td>\n",
       "      <td>8541</td>\n",
       "      <td>44</td>\n",
       "      <td>1.91</td>\n",
       "      <td>Europe</td>\n",
       "    </tr>\n",
       "    <tr>\n",
       "      <th>4</th>\n",
       "      <td>Turkey</td>\n",
       "      <td>5242911</td>\n",
       "      <td>47405</td>\n",
       "      <td>5235978</td>\n",
       "      <td>47271</td>\n",
       "      <td>6933</td>\n",
       "      <td>134</td>\n",
       "      <td>0.90</td>\n",
       "      <td>Asia</td>\n",
       "    </tr>\n",
       "  </tbody>\n",
       "</table>\n",
       "</div>"
      ],
      "text/plain": [
       "  Country/Region     Cases  Deaths    PCases  PDeaths  Cases (+)  Deaths (+)  \\\n",
       "0             US  33258664  594430  33251939   594306       6725         124   \n",
       "1          India  28047534  329100  27894800   325972     152734        3128   \n",
       "2         Brazil  16515120  461931  16471600   461057      43520         874   \n",
       "3         France   5728418  109562   5719877   109518       8541          44   \n",
       "4         Turkey   5242911   47405   5235978    47271       6933         134   \n",
       "\n",
       "   Fatality Rate      Continent  \n",
       "0           1.79  North America  \n",
       "1           1.17           Asia  \n",
       "2           2.80  South America  \n",
       "3           1.91         Europe  \n",
       "4           0.90           Asia  "
      ]
     },
     "execution_count": 13,
     "metadata": {},
     "output_type": "execute_result"
    }
   ],
   "source": [
    "#hide\n",
    "for c in 'Cases, Deaths'.split(', '):\n",
    "    df_table[f'{c} (+)'] = (df_table[c] - df_table[f'P{c}']).clip(0)\n",
    "    #Clip ça veut dire, les chiffres negatif sont interdit\n",
    "df_table['Fatality Rate'] = (100* df_table['Deaths']/ df_table['Cases']).round(2)\n",
    "df_table['Continent'] = df_table['Country/Region'].map(mapping['map.continent'])\n",
    "df_table.head(5)"
   ]
  },
  {
   "cell_type": "code",
   "execution_count": 14,
   "id": "aboriginal-bulgaria",
   "metadata": {
    "execution": {
     "iopub.execute_input": "2021-06-01T01:13:19.539245Z",
     "iopub.status.busy": "2021-06-01T01:13:19.538664Z",
     "iopub.status.idle": "2021-06-01T01:13:19.541596Z",
     "shell.execute_reply": "2021-06-01T01:13:19.541086Z"
    },
    "papermill": {
     "duration": 0.039906,
     "end_time": "2021-06-01T01:13:19.541737",
     "exception": false,
     "start_time": "2021-06-01T01:13:19.501831",
     "status": "completed"
    },
    "tags": []
   },
   "outputs": [],
   "source": [
    "#hide\n",
    "#delete problematic countries from table\n",
    "df_table = df_table[~df_table['Country/Region'].isin(['Cape Verde', 'Cruise Ship', 'Kosovo'])]"
   ]
  },
  {
   "cell_type": "code",
   "execution_count": 15,
   "id": "fantastic-effect",
   "metadata": {
    "execution": {
     "iopub.execute_input": "2021-06-01T01:13:19.612668Z",
     "iopub.status.busy": "2021-06-01T01:13:19.612116Z",
     "iopub.status.idle": "2021-06-01T01:13:19.632916Z",
     "shell.execute_reply": "2021-06-01T01:13:19.632469Z"
    },
    "papermill": {
     "duration": 0.060133,
     "end_time": "2021-06-01T01:13:19.633025",
     "exception": false,
     "start_time": "2021-06-01T01:13:19.572892",
     "status": "completed"
    },
    "tags": []
   },
   "outputs": [
    {
     "data": {
      "text/html": [
       "<div>\n",
       "<style scoped>\n",
       "    .dataframe tbody tr th:only-of-type {\n",
       "        vertical-align: middle;\n",
       "    }\n",
       "\n",
       "    .dataframe tbody tr th {\n",
       "        vertical-align: top;\n",
       "    }\n",
       "\n",
       "    .dataframe thead th {\n",
       "        text-align: right;\n",
       "    }\n",
       "</style>\n",
       "<table border=\"1\" class=\"dataframe\">\n",
       "  <thead>\n",
       "    <tr style=\"text-align: right;\">\n",
       "      <th></th>\n",
       "      <th>Country/Region</th>\n",
       "      <th>Cases</th>\n",
       "      <th>Deaths</th>\n",
       "      <th>PCases</th>\n",
       "      <th>PDeaths</th>\n",
       "      <th>Cases (+)</th>\n",
       "      <th>Deaths (+)</th>\n",
       "      <th>Fatality Rate</th>\n",
       "      <th>Continent</th>\n",
       "    </tr>\n",
       "  </thead>\n",
       "  <tbody>\n",
       "    <tr>\n",
       "      <th>0</th>\n",
       "      <td>US</td>\n",
       "      <td>33258664</td>\n",
       "      <td>594430</td>\n",
       "      <td>33251939</td>\n",
       "      <td>594306</td>\n",
       "      <td>6725</td>\n",
       "      <td>124</td>\n",
       "      <td>1.8</td>\n",
       "      <td>North America</td>\n",
       "    </tr>\n",
       "    <tr>\n",
       "      <th>1</th>\n",
       "      <td>India</td>\n",
       "      <td>28047534</td>\n",
       "      <td>329100</td>\n",
       "      <td>27894800</td>\n",
       "      <td>325972</td>\n",
       "      <td>152734</td>\n",
       "      <td>3128</td>\n",
       "      <td>1.2</td>\n",
       "      <td>Asia</td>\n",
       "    </tr>\n",
       "    <tr>\n",
       "      <th>2</th>\n",
       "      <td>Brazil</td>\n",
       "      <td>16515120</td>\n",
       "      <td>461931</td>\n",
       "      <td>16471600</td>\n",
       "      <td>461057</td>\n",
       "      <td>43520</td>\n",
       "      <td>874</td>\n",
       "      <td>2.8</td>\n",
       "      <td>South America</td>\n",
       "    </tr>\n",
       "    <tr>\n",
       "      <th>3</th>\n",
       "      <td>France</td>\n",
       "      <td>5728418</td>\n",
       "      <td>109562</td>\n",
       "      <td>5719877</td>\n",
       "      <td>109518</td>\n",
       "      <td>8541</td>\n",
       "      <td>44</td>\n",
       "      <td>1.9</td>\n",
       "      <td>Europe</td>\n",
       "    </tr>\n",
       "    <tr>\n",
       "      <th>4</th>\n",
       "      <td>Turkey</td>\n",
       "      <td>5242911</td>\n",
       "      <td>47405</td>\n",
       "      <td>5235978</td>\n",
       "      <td>47271</td>\n",
       "      <td>6933</td>\n",
       "      <td>134</td>\n",
       "      <td>0.9</td>\n",
       "      <td>Asia</td>\n",
       "    </tr>\n",
       "  </tbody>\n",
       "</table>\n",
       "</div>"
      ],
      "text/plain": [
       "  Country/Region     Cases  Deaths    PCases  PDeaths  Cases (+)  Deaths (+)  \\\n",
       "0             US  33258664  594430  33251939   594306       6725         124   \n",
       "1          India  28047534  329100  27894800   325972     152734        3128   \n",
       "2         Brazil  16515120  461931  16471600   461057      43520         874   \n",
       "3         France   5728418  109562   5719877   109518       8541          44   \n",
       "4         Turkey   5242911   47405   5235978    47271       6933         134   \n",
       "\n",
       "   Fatality Rate      Continent  \n",
       "0            1.8  North America  \n",
       "1            1.2           Asia  \n",
       "2            2.8  South America  \n",
       "3            1.9         Europe  \n",
       "4            0.9           Asia  "
      ]
     },
     "execution_count": 15,
     "metadata": {},
     "output_type": "execute_result"
    }
   ],
   "source": [
    "#hide\n",
    "df_table = (pd.DataFrame(dict(Cases=dfc_cases, Deaths=dfc_deaths, PCases=dfp_cases, PDeaths=dfp_deaths))\n",
    "             .sort_values(by=['Cases', 'Deaths'], ascending=[False, False])\n",
    "             .reset_index())\n",
    "df_table.rename(columns={'index': 'Country/Region'}, inplace=True)\n",
    "for c in 'Cases, Deaths'.split(', '):\n",
    "    df_table[f'{c} (+)'] = (df_table[c] - df_table[f'P{c}']).clip(0)  # DATA BUG\n",
    "df_table['Fatality Rate'] = (100 * df_table['Deaths'] / df_table['Cases']).round(1)\n",
    "df_table['Continent'] = df_table['Country/Region'].map(mapping['map.continent'])\n",
    "df_table.head(5)"
   ]
  },
  {
   "cell_type": "code",
   "execution_count": 16,
   "id": "fewer-occasion",
   "metadata": {
    "execution": {
     "iopub.execute_input": "2021-06-01T01:13:19.705328Z",
     "iopub.status.busy": "2021-06-01T01:13:19.704810Z",
     "iopub.status.idle": "2021-06-01T01:13:19.707131Z",
     "shell.execute_reply": "2021-06-01T01:13:19.707786Z"
    },
    "papermill": {
     "duration": 0.039491,
     "end_time": "2021-06-01T01:13:19.707964",
     "exception": false,
     "start_time": "2021-06-01T01:13:19.668473",
     "status": "completed"
    },
    "tags": []
   },
   "outputs": [],
   "source": [
    "#hide\n",
    "#delete problematic countries from table\n",
    "df_table = df_table[~df_table['Country/Region'].isin(['Cape Verde', 'Cruise Ship', 'Kosovo'])]"
   ]
  },
  {
   "cell_type": "code",
   "execution_count": 17,
   "id": "related-center",
   "metadata": {
    "execution": {
     "iopub.execute_input": "2021-06-01T01:13:19.776843Z",
     "iopub.status.busy": "2021-06-01T01:13:19.776229Z",
     "iopub.status.idle": "2021-06-01T01:13:19.789978Z",
     "shell.execute_reply": "2021-06-01T01:13:19.789451Z"
    },
    "papermill": {
     "duration": 0.050556,
     "end_time": "2021-06-01T01:13:19.790080",
     "exception": false,
     "start_time": "2021-06-01T01:13:19.739524",
     "status": "completed"
    },
    "tags": []
   },
   "outputs": [],
   "source": [
    "#hide\n",
    "metrics = [df_table.columns[index] for index in [1,2,5,6]]\n",
    "# s_china = df_table[df_table['Country/Region'].eq('China')][metrics].sum().add_prefix('China ')\n",
    "s_us = df_table[df_table['Country/Region'].eq('US')][metrics].sum().add_prefix('US ')\n",
    "s_eu = df_table[df_table['Continent'].eq('Europe')][metrics].sum().add_prefix('EU ')\n",
    "s_ind = df_table[df_table['Country/Region'].eq('India')][metrics].sum().add_prefix('India ')\n",
    "summary = {'updated': pd.to_datetime(dt_today), 'since': pd.to_datetime(dt_yday)}\n",
    "summary = {'updated': pd.to_datetime(dt_today), 'since': pd.to_datetime(dt_yday)}\n",
    "summary = {**summary, **df_table[metrics].sum(), **s_ind, **s_us, **s_eu}"
   ]
  },
  {
   "cell_type": "code",
   "execution_count": 18,
   "id": "engaging-syndrome",
   "metadata": {
    "execution": {
     "iopub.execute_input": "2021-06-01T01:13:19.857008Z",
     "iopub.status.busy": "2021-06-01T01:13:19.856485Z",
     "iopub.status.idle": "2021-06-01T01:13:19.867792Z",
     "shell.execute_reply": "2021-06-01T01:13:19.867351Z"
    },
    "papermill": {
     "duration": 0.045925,
     "end_time": "2021-06-01T01:13:19.867891",
     "exception": false,
     "start_time": "2021-06-01T01:13:19.821966",
     "status": "completed"
    },
    "tags": []
   },
   "outputs": [],
   "source": [
    "#hide\n",
    "dft_ct_new_cases = dft_cases.groupby(COL_REGION)[dt_cols].sum().diff(axis=1).fillna(0).astype(int)"
   ]
  },
  {
   "cell_type": "code",
   "execution_count": 19,
   "id": "neutral-assignment",
   "metadata": {
    "execution": {
     "iopub.execute_input": "2021-06-01T01:13:19.935315Z",
     "iopub.status.busy": "2021-06-01T01:13:19.934771Z",
     "iopub.status.idle": "2021-06-01T01:13:19.936547Z",
     "shell.execute_reply": "2021-06-01T01:13:19.937033Z"
    },
    "papermill": {
     "duration": 0.038158,
     "end_time": "2021-06-01T01:13:19.937146",
     "exception": false,
     "start_time": "2021-06-01T01:13:19.898988",
     "status": "completed"
    },
    "tags": []
   },
   "outputs": [],
   "source": [
    "#hide\n",
    "everydaycases = dft_ct_new_cases.cumsum(axis=1)"
   ]
  },
  {
   "cell_type": "code",
   "execution_count": 20,
   "id": "parliamentary-calgary",
   "metadata": {
    "execution": {
     "iopub.execute_input": "2021-06-01T01:13:20.007841Z",
     "iopub.status.busy": "2021-06-01T01:13:20.007282Z",
     "iopub.status.idle": "2021-06-01T01:13:20.540612Z",
     "shell.execute_reply": "2021-06-01T01:13:20.540130Z"
    },
    "papermill": {
     "duration": 0.571488,
     "end_time": "2021-06-01T01:13:20.540749",
     "exception": false,
     "start_time": "2021-06-01T01:13:19.969261",
     "status": "completed"
    },
    "tags": []
   },
   "outputs": [],
   "source": [
    "#hide\n",
    "import pandas as pd\n",
    "import matplotlib.pyplot as plt\n",
    "import matplotlib.ticker as ticker\n",
    "import matplotlib.animation as animation\n",
    "from IPython.display import HTML"
   ]
  },
  {
   "cell_type": "code",
   "execution_count": 21,
   "id": "lasting-extraction",
   "metadata": {
    "execution": {
     "iopub.execute_input": "2021-06-01T01:13:20.608760Z",
     "iopub.status.busy": "2021-06-01T01:13:20.608238Z",
     "iopub.status.idle": "2021-06-01T01:13:20.615426Z",
     "shell.execute_reply": "2021-06-01T01:13:20.614898Z"
    },
    "papermill": {
     "duration": 0.041402,
     "end_time": "2021-06-01T01:13:20.615529",
     "exception": false,
     "start_time": "2021-06-01T01:13:20.574127",
     "status": "completed"
    },
    "tags": []
   },
   "outputs": [],
   "source": [
    "#hide\n",
    "t = everydaycases.stack()"
   ]
  },
  {
   "cell_type": "code",
   "execution_count": 22,
   "id": "premier-sleeve",
   "metadata": {
    "execution": {
     "iopub.execute_input": "2021-06-01T01:13:20.681348Z",
     "iopub.status.busy": "2021-06-01T01:13:20.680848Z",
     "iopub.status.idle": "2021-06-01T01:13:20.687160Z",
     "shell.execute_reply": "2021-06-01T01:13:20.687913Z"
    },
    "papermill": {
     "duration": 0.041367,
     "end_time": "2021-06-01T01:13:20.688027",
     "exception": false,
     "start_time": "2021-06-01T01:13:20.646660",
     "status": "completed"
    },
    "tags": []
   },
   "outputs": [],
   "source": [
    "#hide\n",
    "g = t.reset_index(['Country/Region'])"
   ]
  },
  {
   "cell_type": "code",
   "execution_count": 23,
   "id": "distributed-pittsburgh",
   "metadata": {
    "execution": {
     "iopub.execute_input": "2021-06-01T01:13:20.754597Z",
     "iopub.status.busy": "2021-06-01T01:13:20.754054Z",
     "iopub.status.idle": "2021-06-01T01:13:20.756167Z",
     "shell.execute_reply": "2021-06-01T01:13:20.755740Z"
    },
    "papermill": {
     "duration": 0.036929,
     "end_time": "2021-06-01T01:13:20.756270",
     "exception": false,
     "start_time": "2021-06-01T01:13:20.719341",
     "status": "completed"
    },
    "tags": []
   },
   "outputs": [],
   "source": [
    "#hide\n",
    "g.index.name = 'date'"
   ]
  },
  {
   "cell_type": "code",
   "execution_count": 24,
   "id": "naked-donor",
   "metadata": {
    "execution": {
     "iopub.execute_input": "2021-06-01T01:13:20.826173Z",
     "iopub.status.busy": "2021-06-01T01:13:20.825585Z",
     "iopub.status.idle": "2021-06-01T01:13:20.827759Z",
     "shell.execute_reply": "2021-06-01T01:13:20.827320Z"
    },
    "papermill": {
     "duration": 0.037532,
     "end_time": "2021-06-01T01:13:20.827861",
     "exception": false,
     "start_time": "2021-06-01T01:13:20.790329",
     "status": "completed"
    },
    "tags": []
   },
   "outputs": [],
   "source": [
    "# #hide\n",
    "# g = g.reset_index(['date'])"
   ]
  },
  {
   "cell_type": "code",
   "execution_count": 25,
   "id": "incomplete-mustang",
   "metadata": {
    "execution": {
     "iopub.execute_input": "2021-06-01T01:13:20.892479Z",
     "iopub.status.busy": "2021-06-01T01:13:20.891976Z",
     "iopub.status.idle": "2021-06-01T01:13:20.893843Z",
     "shell.execute_reply": "2021-06-01T01:13:20.894333Z"
    },
    "papermill": {
     "duration": 0.035455,
     "end_time": "2021-06-01T01:13:20.894453",
     "exception": false,
     "start_time": "2021-06-01T01:13:20.858998",
     "status": "completed"
    },
    "tags": []
   },
   "outputs": [],
   "source": [
    "#hide\n",
    "# g.head()"
   ]
  },
  {
   "cell_type": "code",
   "execution_count": 26,
   "id": "specific-kruger",
   "metadata": {
    "execution": {
     "iopub.execute_input": "2021-06-01T01:13:20.960654Z",
     "iopub.status.busy": "2021-06-01T01:13:20.959977Z",
     "iopub.status.idle": "2021-06-01T01:13:20.962470Z",
     "shell.execute_reply": "2021-06-01T01:13:20.962026Z"
    },
    "papermill": {
     "duration": 0.036676,
     "end_time": "2021-06-01T01:13:20.962575",
     "exception": false,
     "start_time": "2021-06-01T01:13:20.925899",
     "status": "completed"
    },
    "tags": []
   },
   "outputs": [],
   "source": [
    "#hide\n",
    "# g.columns = ['date','country','cases']"
   ]
  },
  {
   "cell_type": "code",
   "execution_count": 27,
   "id": "tender-conversion",
   "metadata": {
    "execution": {
     "iopub.execute_input": "2021-06-01T01:13:21.031137Z",
     "iopub.status.busy": "2021-06-01T01:13:21.030424Z",
     "iopub.status.idle": "2021-06-01T01:13:21.032665Z",
     "shell.execute_reply": "2021-06-01T01:13:21.033073Z"
    },
    "papermill": {
     "duration": 0.037723,
     "end_time": "2021-06-01T01:13:21.033188",
     "exception": false,
     "start_time": "2021-06-01T01:13:20.995465",
     "status": "completed"
    },
    "tags": []
   },
   "outputs": [],
   "source": [
    "#hide\n",
    "# g['continent'] = g.country"
   ]
  },
  {
   "cell_type": "code",
   "execution_count": 28,
   "id": "substantial-wilderness",
   "metadata": {
    "execution": {
     "iopub.execute_input": "2021-06-01T01:13:21.101433Z",
     "iopub.status.busy": "2021-06-01T01:13:21.100937Z",
     "iopub.status.idle": "2021-06-01T01:13:21.103363Z",
     "shell.execute_reply": "2021-06-01T01:13:21.103960Z"
    },
    "papermill": {
     "duration": 0.038273,
     "end_time": "2021-06-01T01:13:21.104095",
     "exception": false,
     "start_time": "2021-06-01T01:13:21.065822",
     "status": "completed"
    },
    "tags": []
   },
   "outputs": [],
   "source": [
    "#hide\n",
    "# cols = list(g.columns.values)"
   ]
  },
  {
   "cell_type": "code",
   "execution_count": 29,
   "id": "solved-farming",
   "metadata": {
    "execution": {
     "iopub.execute_input": "2021-06-01T01:13:21.169725Z",
     "iopub.status.busy": "2021-06-01T01:13:21.169219Z",
     "iopub.status.idle": "2021-06-01T01:13:21.171098Z",
     "shell.execute_reply": "2021-06-01T01:13:21.171574Z"
    },
    "papermill": {
     "duration": 0.035734,
     "end_time": "2021-06-01T01:13:21.171688",
     "exception": false,
     "start_time": "2021-06-01T01:13:21.135954",
     "status": "completed"
    },
    "tags": []
   },
   "outputs": [],
   "source": [
    "#hide\n",
    "# cols.insert(0, cols.pop())"
   ]
  },
  {
   "cell_type": "code",
   "execution_count": 30,
   "id": "executed-adoption",
   "metadata": {
    "execution": {
     "iopub.execute_input": "2021-06-01T01:13:21.242795Z",
     "iopub.status.busy": "2021-06-01T01:13:21.242212Z",
     "iopub.status.idle": "2021-06-01T01:13:21.245152Z",
     "shell.execute_reply": "2021-06-01T01:13:21.244438Z"
    },
    "papermill": {
     "duration": 0.037862,
     "end_time": "2021-06-01T01:13:21.245293",
     "exception": false,
     "start_time": "2021-06-01T01:13:21.207431",
     "status": "completed"
    },
    "tags": []
   },
   "outputs": [],
   "source": [
    "#hide\n",
    "# g = g[cols]"
   ]
  },
  {
   "cell_type": "code",
   "execution_count": 31,
   "id": "subject-dublin",
   "metadata": {
    "execution": {
     "iopub.execute_input": "2021-06-01T01:13:21.317693Z",
     "iopub.status.busy": "2021-06-01T01:13:21.316987Z",
     "iopub.status.idle": "2021-06-01T01:13:21.319084Z",
     "shell.execute_reply": "2021-06-01T01:13:21.319573Z"
    },
    "papermill": {
     "duration": 0.039205,
     "end_time": "2021-06-01T01:13:21.319736",
     "exception": false,
     "start_time": "2021-06-01T01:13:21.280531",
     "status": "completed"
    },
    "tags": []
   },
   "outputs": [],
   "source": [
    "#hide\n",
    "# g['continent'] = g['continent'].map(mapping['map.continent'])"
   ]
  },
  {
   "cell_type": "code",
   "execution_count": 32,
   "id": "freelance-scout",
   "metadata": {
    "execution": {
     "iopub.execute_input": "2021-06-01T01:13:21.386809Z",
     "iopub.status.busy": "2021-06-01T01:13:21.384378Z",
     "iopub.status.idle": "2021-06-01T01:13:21.387709Z",
     "shell.execute_reply": "2021-06-01T01:13:21.387300Z"
    },
    "papermill": {
     "duration": 0.035859,
     "end_time": "2021-06-01T01:13:21.387805",
     "exception": false,
     "start_time": "2021-06-01T01:13:21.351946",
     "status": "completed"
    },
    "tags": []
   },
   "outputs": [],
   "source": [
    "#hide\n",
    "# g.head()"
   ]
  },
  {
   "cell_type": "code",
   "execution_count": 33,
   "id": "limited-engine",
   "metadata": {
    "execution": {
     "iopub.execute_input": "2021-06-01T01:13:21.452776Z",
     "iopub.status.busy": "2021-06-01T01:13:21.452280Z",
     "iopub.status.idle": "2021-06-01T01:13:21.454085Z",
     "shell.execute_reply": "2021-06-01T01:13:21.454495Z"
    },
    "papermill": {
     "duration": 0.035077,
     "end_time": "2021-06-01T01:13:21.454610",
     "exception": false,
     "start_time": "2021-06-01T01:13:21.419533",
     "status": "completed"
    },
    "tags": []
   },
   "outputs": [],
   "source": [
    "# hide\n",
    "# g['date'] = g['date'].astype('datetime64[ns]')"
   ]
  },
  {
   "cell_type": "code",
   "execution_count": 34,
   "id": "sophisticated-supervisor",
   "metadata": {
    "execution": {
     "iopub.execute_input": "2021-06-01T01:13:21.520515Z",
     "iopub.status.busy": "2021-06-01T01:13:21.520021Z",
     "iopub.status.idle": "2021-06-01T01:13:21.522392Z",
     "shell.execute_reply": "2021-06-01T01:13:21.521945Z"
    },
    "papermill": {
     "duration": 0.03741,
     "end_time": "2021-06-01T01:13:21.522493",
     "exception": false,
     "start_time": "2021-06-01T01:13:21.485083",
     "status": "completed"
    },
    "tags": []
   },
   "outputs": [],
   "source": [
    "#hide\n",
    "# g['date'] = g.date.dt.dayofyear"
   ]
  },
  {
   "cell_type": "code",
   "execution_count": 35,
   "id": "inside-dubai",
   "metadata": {
    "execution": {
     "iopub.execute_input": "2021-06-01T01:13:21.593110Z",
     "iopub.status.busy": "2021-06-01T01:13:21.592535Z",
     "iopub.status.idle": "2021-06-01T01:13:21.594864Z",
     "shell.execute_reply": "2021-06-01T01:13:21.594369Z"
    },
    "papermill": {
     "duration": 0.040173,
     "end_time": "2021-06-01T01:13:21.595010",
     "exception": false,
     "start_time": "2021-06-01T01:13:21.554837",
     "status": "completed"
    },
    "tags": []
   },
   "outputs": [],
   "source": [
    "#hide\n",
    "# g = g.rename(columns= {'continent':'group','country':'name','cases':'value'})"
   ]
  },
  {
   "cell_type": "code",
   "execution_count": 36,
   "id": "fleet-motorcycle",
   "metadata": {
    "execution": {
     "iopub.execute_input": "2021-06-01T01:13:21.661826Z",
     "iopub.status.busy": "2021-06-01T01:13:21.661314Z",
     "iopub.status.idle": "2021-06-01T01:13:21.663452Z",
     "shell.execute_reply": "2021-06-01T01:13:21.663012Z"
    },
    "papermill": {
     "duration": 0.036583,
     "end_time": "2021-06-01T01:13:21.663552",
     "exception": false,
     "start_time": "2021-06-01T01:13:21.626969",
     "status": "completed"
    },
    "tags": []
   },
   "outputs": [],
   "source": [
    "#hide\n",
    "# cols = ['name','group','day','value']"
   ]
  },
  {
   "cell_type": "code",
   "execution_count": 37,
   "id": "continued-sleeping",
   "metadata": {
    "execution": {
     "iopub.execute_input": "2021-06-01T01:13:21.731424Z",
     "iopub.status.busy": "2021-06-01T01:13:21.730819Z",
     "iopub.status.idle": "2021-06-01T01:13:21.733277Z",
     "shell.execute_reply": "2021-06-01T01:13:21.732728Z"
    },
    "papermill": {
     "duration": 0.039162,
     "end_time": "2021-06-01T01:13:21.733398",
     "exception": false,
     "start_time": "2021-06-01T01:13:21.694236",
     "status": "completed"
    },
    "tags": []
   },
   "outputs": [],
   "source": [
    "#hide\n",
    "# g.rename(columns= {'date':'day'},inplace = True)"
   ]
  },
  {
   "cell_type": "code",
   "execution_count": 38,
   "id": "major-fight",
   "metadata": {
    "execution": {
     "iopub.execute_input": "2021-06-01T01:13:21.801740Z",
     "iopub.status.busy": "2021-06-01T01:13:21.801157Z",
     "iopub.status.idle": "2021-06-01T01:13:21.802928Z",
     "shell.execute_reply": "2021-06-01T01:13:21.803346Z"
    },
    "papermill": {
     "duration": 0.037397,
     "end_time": "2021-06-01T01:13:21.803458",
     "exception": false,
     "start_time": "2021-06-01T01:13:21.766061",
     "status": "completed"
    },
    "tags": []
   },
   "outputs": [],
   "source": [
    "#hide\n",
    "# g = g[cols]"
   ]
  },
  {
   "cell_type": "code",
   "execution_count": 39,
   "id": "structured-mobile",
   "metadata": {
    "execution": {
     "iopub.execute_input": "2021-06-01T01:13:21.868180Z",
     "iopub.status.busy": "2021-06-01T01:13:21.867645Z",
     "iopub.status.idle": "2021-06-01T01:13:21.869983Z",
     "shell.execute_reply": "2021-06-01T01:13:21.869533Z"
    },
    "papermill": {
     "duration": 0.035883,
     "end_time": "2021-06-01T01:13:21.870084",
     "exception": false,
     "start_time": "2021-06-01T01:13:21.834201",
     "status": "completed"
    },
    "tags": []
   },
   "outputs": [],
   "source": [
    "# #hide\n",
    "# g = g[g.group.notna()]"
   ]
  },
  {
   "cell_type": "code",
   "execution_count": 40,
   "id": "determined-closing",
   "metadata": {
    "execution": {
     "iopub.execute_input": "2021-06-01T01:13:21.939312Z",
     "iopub.status.busy": "2021-06-01T01:13:21.938741Z",
     "iopub.status.idle": "2021-06-01T01:13:21.941442Z",
     "shell.execute_reply": "2021-06-01T01:13:21.940597Z"
    },
    "papermill": {
     "duration": 0.038565,
     "end_time": "2021-06-01T01:13:21.941584",
     "exception": false,
     "start_time": "2021-06-01T01:13:21.903019",
     "status": "completed"
    },
    "tags": []
   },
   "outputs": [],
   "source": [
    "# #hide\n",
    "# colors = dict(zip(\n",
    "#     [\"Oceania\", \"Europe\", \"Asia\", \"South America\", \"Middle East\", \"North America\", \"Africa\"],\n",
    "#     [\"#adb0ff\", \"#ffb3ff\", \"#90d595\", \"#e48381\", \"#aafbff\", \"#f7bb5f\", \"#eafb50\"]\n",
    "# ))\n",
    "# group_lk = g.set_index('name')['group'].to_dict()"
   ]
  },
  {
   "cell_type": "code",
   "execution_count": null,
   "id": "gross-drinking",
   "metadata": {
    "papermill": {
     "duration": 0.033558,
     "end_time": "2021-06-01T01:13:22.007470",
     "exception": false,
     "start_time": "2021-06-01T01:13:21.973912",
     "status": "completed"
    },
    "tags": []
   },
   "outputs": [],
   "source": []
  },
  {
   "cell_type": "code",
   "execution_count": 41,
   "id": "subject-macintosh",
   "metadata": {
    "execution": {
     "iopub.execute_input": "2021-06-01T01:13:22.077568Z",
     "iopub.status.busy": "2021-06-01T01:13:22.076979Z",
     "iopub.status.idle": "2021-06-01T01:13:22.078740Z",
     "shell.execute_reply": "2021-06-01T01:13:22.079184Z"
    },
    "papermill": {
     "duration": 0.039405,
     "end_time": "2021-06-01T01:13:22.079326",
     "exception": false,
     "start_time": "2021-06-01T01:13:22.039921",
     "status": "completed"
    },
    "tags": []
   },
   "outputs": [],
   "source": [
    "# #hide\n",
    "# fig, ax = plt.subplots(figsize=(15, 8))\n",
    "\n",
    "# def draw_barchart(current_day):\n",
    "#     dff = g[g['day'].eq(current_day)].sort_values(by='value', ascending=True).tail(10)\n",
    "#     ax.clear()\n",
    "#     ax.barh(dff['name'], dff['value'], color=[colors[group_lk[x]] for x in dff['name']])\n",
    "#     dx = dff['value'].max() / 200\n",
    "    \n",
    "#     for i, (value, name) in enumerate(zip(dff['value'], dff['name'])):\n",
    "#         ax.text(value-dx, i,     name,           size=14, weight=600, ha='right', va='bottom')\n",
    "#         ax.text(value-dx, i-.25, group_lk[name], size=10, color='#444444', ha='right', va='baseline')\n",
    "#         ax.text(value+dx, i,     f'{value:,.0f}',  size=14, ha='left',  va='center')\n",
    "#     ax.text(1, 0.4, current_day, transform=ax.transAxes, color='#777777', size=46, ha='right', weight=800)\n",
    "#     ax.text(0, 1.06, 'Population (thousands)', transform=ax.transAxes, size=12, color='#777777')\n",
    "#     ax.xaxis.set_major_formatter(ticker.StrMethodFormatter('{x:,.0f}'))\n",
    "#     ax.xaxis.set_ticks_position('top')\n",
    "#     ax.tick_params(axis='x', colors='#777777', labelsize=12)\n",
    "#     ax.set_yticks([])\n",
    "#     ax.margins(0, 0.01)\n",
    "#     ax.grid(which='major', axis='x', linestyle='-')\n",
    "#     ax.set_axisbelow(True)\n",
    "    \n",
    "#     ax.text(0, 1.15, 'Coronavirus',\n",
    "#             transform=ax.transAxes, size=24, weight=600, ha='left', va='top')\n",
    "# #     ax.text(1, 0, 'by @pratapvardhan; credit @jburnmurdoch', transform=ax.transAxes, color='#777777', ha='right',\n",
    "# #             bbox=dict(facecolor='white', alpha=0.8, edgecolor='white'))\n",
    "#     plt.box(False)"
   ]
  },
  {
   "cell_type": "code",
   "execution_count": 42,
   "id": "sexual-wages",
   "metadata": {
    "execution": {
     "iopub.execute_input": "2021-06-01T01:13:22.148706Z",
     "iopub.status.busy": "2021-06-01T01:13:22.148153Z",
     "iopub.status.idle": "2021-06-01T01:13:22.150458Z",
     "shell.execute_reply": "2021-06-01T01:13:22.149972Z"
    },
    "papermill": {
     "duration": 0.03915,
     "end_time": "2021-06-01T01:13:22.150567",
     "exception": false,
     "start_time": "2021-06-01T01:13:22.111417",
     "status": "completed"
    },
    "tags": []
   },
   "outputs": [],
   "source": [
    "# #hide_input\n",
    "# fig, ax = plt.subplots(figsize=(15, 8))\n",
    "# animator = animation.FuncAnimation(fig, draw_barchart, frames=range(g.day.values.min(), g.day.values.max()))\n",
    "# HTML(animator.to_jshtml())\n",
    "# # or use animator.to_html5_video() or animator.save() "
   ]
  },
  {
   "cell_type": "code",
   "execution_count": null,
   "id": "australian-container",
   "metadata": {
    "papermill": {
     "duration": 0.031582,
     "end_time": "2021-06-01T01:13:22.215762",
     "exception": false,
     "start_time": "2021-06-01T01:13:22.184180",
     "status": "completed"
    },
    "tags": []
   },
   "outputs": [],
   "source": []
  },
  {
   "cell_type": "code",
   "execution_count": null,
   "id": "mediterranean-pontiac",
   "metadata": {
    "papermill": {
     "duration": 0.031287,
     "end_time": "2021-06-01T01:13:22.277988",
     "exception": false,
     "start_time": "2021-06-01T01:13:22.246701",
     "status": "completed"
    },
    "tags": []
   },
   "outputs": [],
   "source": []
  },
  {
   "cell_type": "code",
   "execution_count": null,
   "id": "aging-legislature",
   "metadata": {
    "papermill": {
     "duration": 0.031371,
     "end_time": "2021-06-01T01:13:22.341980",
     "exception": false,
     "start_time": "2021-06-01T01:13:22.310609",
     "status": "completed"
    },
    "tags": []
   },
   "outputs": [],
   "source": []
  }
 ],
 "metadata": {
  "kernelspec": {
   "display_name": "Python 3",
   "language": "python",
   "name": "python3"
  },
  "language_info": {
   "codemirror_mode": {
    "name": "ipython",
    "version": 3
   },
   "file_extension": ".py",
   "mimetype": "text/x-python",
   "name": "python",
   "nbconvert_exporter": "python",
   "pygments_lexer": "ipython3",
   "version": "3.6.13"
  },
  "papermill": {
   "duration": 6.251493,
   "end_time": "2021-06-01T01:13:22.679831",
   "environment_variables": {},
   "exception": null,
   "input_path": "2020-03-21-covid19exp.ipynb",
   "output_path": "2020-03-21-covid19exp.ipynb",
   "parameters": {},
   "start_time": "2021-06-01T01:13:16.428338",
   "version": "2.0.0"
  }
 },
 "nbformat": 4,
 "nbformat_minor": 5
}