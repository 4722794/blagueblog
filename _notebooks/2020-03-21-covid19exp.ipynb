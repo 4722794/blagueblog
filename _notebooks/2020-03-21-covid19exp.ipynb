{
 "cells": [
  {
   "cell_type": "markdown",
   "id": "muslim-click",
   "metadata": {
    "papermill": {
     "duration": 0.039515,
     "end_time": "2022-10-07T12:22:18.373369",
     "exception": false,
     "start_time": "2022-10-07T12:22:18.333854",
     "status": "completed"
    },
    "tags": []
   },
   "source": [
    "# COVID-19 Case Race\n",
    "> A race chart to see rising cases around the world\n",
    "\n",
    "- author: Hargun Oberoi\n",
    "- image: images/covid-overview.png\n",
    "- hide: false\n",
    "- badges: false"
   ]
  },
  {
   "cell_type": "code",
   "execution_count": 1,
   "id": "proof-material",
   "metadata": {
    "execution": {
     "iopub.execute_input": "2022-10-07T12:22:18.440865Z",
     "iopub.status.busy": "2022-10-07T12:22:18.440302Z",
     "iopub.status.idle": "2022-10-07T12:22:18.778410Z",
     "shell.execute_reply": "2022-10-07T12:22:18.777504Z"
    },
    "papermill": {
     "duration": 0.376728,
     "end_time": "2022-10-07T12:22:18.778681",
     "exception": false,
     "start_time": "2022-10-07T12:22:18.401953",
     "status": "completed"
    },
    "tags": []
   },
   "outputs": [],
   "source": [
    "#hide\n",
    "import numpy as np\n",
    "import pandas as pd\n",
    "from jinja2 import Template\n",
    "from IPython.display import HTML"
   ]
  },
  {
   "cell_type": "code",
   "execution_count": 2,
   "id": "developed-terminology",
   "metadata": {
    "execution": {
     "iopub.execute_input": "2022-10-07T12:22:18.848692Z",
     "iopub.status.busy": "2022-10-07T12:22:18.847423Z",
     "iopub.status.idle": "2022-10-07T12:22:18.850670Z",
     "shell.execute_reply": "2022-10-07T12:22:18.849757Z"
    },
    "papermill": {
     "duration": 0.040169,
     "end_time": "2022-10-07T12:22:18.850769",
     "exception": false,
     "start_time": "2022-10-07T12:22:18.810600",
     "status": "completed"
    },
    "tags": []
   },
   "outputs": [],
   "source": [
    "#hide\n",
    "\n",
    "# FETCH\n",
    "base_url = 'https://raw.githubusercontent.com/pratapvardhan/notebooks/master/covid19/'\n",
    "paths = {\n",
    "    'mapping': base_url + 'mapping_countries.csv',\n",
    "    'overview': base_url + 'overview.tpl'\n",
    "}"
   ]
  },
  {
   "cell_type": "code",
   "execution_count": 3,
   "id": "dynamic-saver",
   "metadata": {
    "execution": {
     "iopub.execute_input": "2022-10-07T12:22:18.920514Z",
     "iopub.status.busy": "2022-10-07T12:22:18.917911Z",
     "iopub.status.idle": "2022-10-07T12:22:18.923380Z",
     "shell.execute_reply": "2022-10-07T12:22:18.923830Z"
    },
    "papermill": {
     "duration": 0.043697,
     "end_time": "2022-10-07T12:22:18.923947",
     "exception": false,
     "start_time": "2022-10-07T12:22:18.880250",
     "status": "completed"
    },
    "tags": []
   },
   "outputs": [
    {
     "data": {
      "text/plain": [
       "'https://raw.githubusercontent.com/pratapvardhan/notebooks/master/covid19/mapping_countries.csv'"
      ]
     },
     "execution_count": 3,
     "metadata": {},
     "output_type": "execute_result"
    }
   ],
   "source": [
    "#hide\n",
    "paths['mapping']"
   ]
  },
  {
   "cell_type": "code",
   "execution_count": 4,
   "id": "urban-software",
   "metadata": {
    "execution": {
     "iopub.execute_input": "2022-10-07T12:22:18.990086Z",
     "iopub.status.busy": "2022-10-07T12:22:18.989466Z",
     "iopub.status.idle": "2022-10-07T12:22:18.992831Z",
     "shell.execute_reply": "2022-10-07T12:22:18.993484Z"
    },
    "papermill": {
     "duration": 0.040747,
     "end_time": "2022-10-07T12:22:18.993623",
     "exception": false,
     "start_time": "2022-10-07T12:22:18.952876",
     "status": "completed"
    },
    "tags": []
   },
   "outputs": [],
   "source": [
    "#hide\n",
    "def get_mappings(url):\n",
    "    df = pd.read_csv(url)\n",
    "    return {\n",
    "        'df': df,\n",
    "        'replace.country': dict(df.dropna(subset=['Name']).set_index('Country')['Name']),\n",
    "        'map.continent': dict(df.set_index('Name')['Continent'])\n",
    "    }"
   ]
  },
  {
   "cell_type": "code",
   "execution_count": 5,
   "id": "intimate-machinery",
   "metadata": {
    "execution": {
     "iopub.execute_input": "2022-10-07T12:22:19.054718Z",
     "iopub.status.busy": "2022-10-07T12:22:19.054016Z",
     "iopub.status.idle": "2022-10-07T12:22:19.081423Z",
     "shell.execute_reply": "2022-10-07T12:22:19.080231Z"
    },
    "papermill": {
     "duration": 0.06029,
     "end_time": "2022-10-07T12:22:19.081542",
     "exception": false,
     "start_time": "2022-10-07T12:22:19.021252",
     "status": "completed"
    },
    "tags": []
   },
   "outputs": [],
   "source": [
    "#hide\n",
    "mapping = get_mappings(paths['mapping'])"
   ]
  },
  {
   "cell_type": "code",
   "execution_count": 6,
   "id": "certified-tactics",
   "metadata": {
    "execution": {
     "iopub.execute_input": "2022-10-07T12:22:19.147586Z",
     "iopub.status.busy": "2022-10-07T12:22:19.146952Z",
     "iopub.status.idle": "2022-10-07T12:22:19.149661Z",
     "shell.execute_reply": "2022-10-07T12:22:19.149154Z"
    },
    "papermill": {
     "duration": 0.038586,
     "end_time": "2022-10-07T12:22:19.149764",
     "exception": false,
     "start_time": "2022-10-07T12:22:19.111178",
     "status": "completed"
    },
    "tags": []
   },
   "outputs": [],
   "source": [
    "#hide\n",
    "def get_template(path):\n",
    "    from urllib.parse import urlparse\n",
    "    if bool(urlparse(path).netloc):\n",
    "        from urllib.request import urlopen\n",
    "        return urlopen(path).read().decode('utf8')\n",
    "    return open(path).read()"
   ]
  },
  {
   "cell_type": "code",
   "execution_count": 7,
   "id": "realistic-blast",
   "metadata": {
    "execution": {
     "iopub.execute_input": "2022-10-07T12:22:19.216812Z",
     "iopub.status.busy": "2022-10-07T12:22:19.216247Z",
     "iopub.status.idle": "2022-10-07T12:22:19.219094Z",
     "shell.execute_reply": "2022-10-07T12:22:19.218552Z"
    },
    "papermill": {
     "duration": 0.038809,
     "end_time": "2022-10-07T12:22:19.219194",
     "exception": false,
     "start_time": "2022-10-07T12:22:19.180385",
     "status": "completed"
    },
    "tags": []
   },
   "outputs": [],
   "source": [
    "#hide\n",
    "def get_frame(name):\n",
    "    url = (\n",
    "        'https://raw.githubusercontent.com/CSSEGISandData/COVID-19/master/csse_covid_19_data/'\n",
    "        f'csse_covid_19_time_series/time_series_covid19_{name}_global.csv')\n",
    "    df = pd.read_csv(url)\n",
    "    # rename countries\n",
    "    df['Country/Region'] = df['Country/Region'].replace(mapping['replace.country'])\n",
    "    return df"
   ]
  },
  {
   "cell_type": "code",
   "execution_count": 8,
   "id": "affiliated-characterization",
   "metadata": {
    "execution": {
     "iopub.execute_input": "2022-10-07T12:22:19.292971Z",
     "iopub.status.busy": "2022-10-07T12:22:19.292280Z",
     "iopub.status.idle": "2022-10-07T12:22:19.296929Z",
     "shell.execute_reply": "2022-10-07T12:22:19.296402Z"
    },
    "papermill": {
     "duration": 0.041875,
     "end_time": "2022-10-07T12:22:19.297054",
     "exception": false,
     "start_time": "2022-10-07T12:22:19.255179",
     "status": "completed"
    },
    "tags": []
   },
   "outputs": [],
   "source": [
    "#hide\n",
    "def get_dates(df):\n",
    "    dt_cols = df.columns[~df.columns.isin(['Province/State', 'Country/Region', 'Lat', 'Long'])]\n",
    "    LAST_DATE_I = -1\n",
    "    # sometimes last column may be empty, then go backwards\n",
    "    for i in range(-1, -len(dt_cols), -1):\n",
    "        if not df[dt_cols[i]].fillna(0).eq(0).all():\n",
    "            LAST_DATE_I = i\n",
    "            break\n",
    "    return LAST_DATE_I, dt_cols"
   ]
  },
  {
   "cell_type": "code",
   "execution_count": 9,
   "id": "recent-optimization",
   "metadata": {
    "execution": {
     "iopub.execute_input": "2022-10-07T12:22:19.361996Z",
     "iopub.status.busy": "2022-10-07T12:22:19.361452Z",
     "iopub.status.idle": "2022-10-07T12:22:19.760815Z",
     "shell.execute_reply": "2022-10-07T12:22:19.760049Z"
    },
    "papermill": {
     "duration": 0.436885,
     "end_time": "2022-10-07T12:22:19.760997",
     "exception": false,
     "start_time": "2022-10-07T12:22:19.324112",
     "status": "completed"
    },
    "tags": []
   },
   "outputs": [],
   "source": [
    "#hide\n",
    "COL_REGION = 'Country/Region'\n",
    "# Confirmed, Recovered, Deaths\n",
    "df = get_frame('confirmed')\n",
    "# dft_: timeseries, dfc_: today country agg\n",
    "dft_cases = df\n",
    "dft_deaths = get_frame('deaths')\n",
    "dft_recovered = get_frame('recovered')\n",
    "LAST_DATE_I, dt_cols = get_dates(df)"
   ]
  },
  {
   "cell_type": "code",
   "execution_count": 10,
   "id": "absolute-copper",
   "metadata": {
    "execution": {
     "iopub.execute_input": "2022-10-07T12:22:19.836213Z",
     "iopub.status.busy": "2022-10-07T12:22:19.835423Z",
     "iopub.status.idle": "2022-10-07T12:22:19.839665Z",
     "shell.execute_reply": "2022-10-07T12:22:19.840160Z"
    },
    "papermill": {
     "duration": 0.046107,
     "end_time": "2022-10-07T12:22:19.840315",
     "exception": false,
     "start_time": "2022-10-07T12:22:19.794208",
     "status": "completed"
    },
    "tags": []
   },
   "outputs": [],
   "source": [
    "#hide\n",
    "LAST_DATE_I, dt_cols = get_dates(df)\n",
    "dt_today =dt_cols[LAST_DATE_I]\n",
    "# dt_5day = dt_cols[LAST_DATE_I - 5]\n",
    "dt_yday = dt_cols[LAST_DATE_I - 1]"
   ]
  },
  {
   "cell_type": "code",
   "execution_count": 11,
   "id": "restricted-sheriff",
   "metadata": {
    "execution": {
     "iopub.execute_input": "2022-10-07T12:22:19.914879Z",
     "iopub.status.busy": "2022-10-07T12:22:19.913649Z",
     "iopub.status.idle": "2022-10-07T12:22:19.918804Z",
     "shell.execute_reply": "2022-10-07T12:22:19.918229Z"
    },
    "papermill": {
     "duration": 0.046618,
     "end_time": "2022-10-07T12:22:19.918933",
     "exception": false,
     "start_time": "2022-10-07T12:22:19.872315",
     "status": "completed"
    },
    "tags": []
   },
   "outputs": [],
   "source": [
    "#hide\n",
    "dfc_cases = dft_cases.groupby(COL_REGION)[dt_today].sum()\n",
    "dfc_deaths = dft_deaths.groupby(COL_REGION)[dt_today].sum()\n",
    "# dfp_cases = dft_cases.groupby(COL_REGION)[dt_5day].sum()\n",
    "# dfp_deaths = dft_deaths.groupby(COL_REGION)[dt_5day].sum()\n",
    "dfp_cases = dft_cases.groupby(COL_REGION)[dt_yday].sum()\n",
    "dfp_deaths = dft_deaths.groupby(COL_REGION)[dt_yday].sum()"
   ]
  },
  {
   "cell_type": "code",
   "execution_count": 12,
   "id": "deluxe-hepatitis",
   "metadata": {
    "execution": {
     "iopub.execute_input": "2022-10-07T12:22:20.001851Z",
     "iopub.status.busy": "2022-10-07T12:22:20.001067Z",
     "iopub.status.idle": "2022-10-07T12:22:20.006623Z",
     "shell.execute_reply": "2022-10-07T12:22:20.005973Z"
    },
    "papermill": {
     "duration": 0.045482,
     "end_time": "2022-10-07T12:22:20.006771",
     "exception": false,
     "start_time": "2022-10-07T12:22:19.961289",
     "status": "completed"
    },
    "tags": []
   },
   "outputs": [],
   "source": [
    "#hide\n",
    "df_table = (pd.DataFrame(dict(Cases = dfc_cases, Deaths = dfc_deaths, PCases = dfp_cases, PDeaths = dfp_deaths))\n",
    "            .sort_values(by = ['Cases','Deaths'], ascending = [False, False])\n",
    "            .reset_index())"
   ]
  },
  {
   "cell_type": "code",
   "execution_count": 13,
   "id": "educational-chancellor",
   "metadata": {
    "execution": {
     "iopub.execute_input": "2022-10-07T12:22:20.098439Z",
     "iopub.status.busy": "2022-10-07T12:22:20.092293Z",
     "iopub.status.idle": "2022-10-07T12:22:20.101271Z",
     "shell.execute_reply": "2022-10-07T12:22:20.101757Z"
    },
    "papermill": {
     "duration": 0.061814,
     "end_time": "2022-10-07T12:22:20.101902",
     "exception": false,
     "start_time": "2022-10-07T12:22:20.040088",
     "status": "completed"
    },
    "tags": []
   },
   "outputs": [
    {
     "data": {
      "text/html": [
       "<div>\n",
       "<style scoped>\n",
       "    .dataframe tbody tr th:only-of-type {\n",
       "        vertical-align: middle;\n",
       "    }\n",
       "\n",
       "    .dataframe tbody tr th {\n",
       "        vertical-align: top;\n",
       "    }\n",
       "\n",
       "    .dataframe thead th {\n",
       "        text-align: right;\n",
       "    }\n",
       "</style>\n",
       "<table border=\"1\" class=\"dataframe\">\n",
       "  <thead>\n",
       "    <tr style=\"text-align: right;\">\n",
       "      <th></th>\n",
       "      <th>Country/Region</th>\n",
       "      <th>Cases</th>\n",
       "      <th>Deaths</th>\n",
       "      <th>PCases</th>\n",
       "      <th>PDeaths</th>\n",
       "      <th>Cases (+)</th>\n",
       "      <th>Deaths (+)</th>\n",
       "      <th>Fatality Rate</th>\n",
       "      <th>Continent</th>\n",
       "    </tr>\n",
       "  </thead>\n",
       "  <tbody>\n",
       "    <tr>\n",
       "      <th>0</th>\n",
       "      <td>US</td>\n",
       "      <td>96612478</td>\n",
       "      <td>1062130</td>\n",
       "      <td>96565276</td>\n",
       "      <td>1061584</td>\n",
       "      <td>47202</td>\n",
       "      <td>546</td>\n",
       "      <td>1.10</td>\n",
       "      <td>North America</td>\n",
       "    </tr>\n",
       "    <tr>\n",
       "      <th>1</th>\n",
       "      <td>India</td>\n",
       "      <td>44606460</td>\n",
       "      <td>528754</td>\n",
       "      <td>44604463</td>\n",
       "      <td>528745</td>\n",
       "      <td>1997</td>\n",
       "      <td>9</td>\n",
       "      <td>1.19</td>\n",
       "      <td>Asia</td>\n",
       "    </tr>\n",
       "    <tr>\n",
       "      <th>2</th>\n",
       "      <td>France</td>\n",
       "      <td>35922441</td>\n",
       "      <td>156409</td>\n",
       "      <td>35856904</td>\n",
       "      <td>156359</td>\n",
       "      <td>65537</td>\n",
       "      <td>50</td>\n",
       "      <td>0.44</td>\n",
       "      <td>Europe</td>\n",
       "    </tr>\n",
       "    <tr>\n",
       "      <th>3</th>\n",
       "      <td>Brazil</td>\n",
       "      <td>34707233</td>\n",
       "      <td>686706</td>\n",
       "      <td>34699017</td>\n",
       "      <td>686573</td>\n",
       "      <td>8216</td>\n",
       "      <td>133</td>\n",
       "      <td>1.98</td>\n",
       "      <td>South America</td>\n",
       "    </tr>\n",
       "    <tr>\n",
       "      <th>4</th>\n",
       "      <td>Germany</td>\n",
       "      <td>33826367</td>\n",
       "      <td>150406</td>\n",
       "      <td>33652255</td>\n",
       "      <td>150289</td>\n",
       "      <td>174112</td>\n",
       "      <td>117</td>\n",
       "      <td>0.44</td>\n",
       "      <td>Europe</td>\n",
       "    </tr>\n",
       "  </tbody>\n",
       "</table>\n",
       "</div>"
      ],
      "text/plain": [
       "  Country/Region     Cases   Deaths    PCases  PDeaths  Cases (+)  Deaths (+)  \\\n",
       "0             US  96612478  1062130  96565276  1061584      47202         546   \n",
       "1          India  44606460   528754  44604463   528745       1997           9   \n",
       "2         France  35922441   156409  35856904   156359      65537          50   \n",
       "3         Brazil  34707233   686706  34699017   686573       8216         133   \n",
       "4        Germany  33826367   150406  33652255   150289     174112         117   \n",
       "\n",
       "   Fatality Rate      Continent  \n",
       "0           1.10  North America  \n",
       "1           1.19           Asia  \n",
       "2           0.44         Europe  \n",
       "3           1.98  South America  \n",
       "4           0.44         Europe  "
      ]
     },
     "execution_count": 13,
     "metadata": {},
     "output_type": "execute_result"
    }
   ],
   "source": [
    "#hide\n",
    "for c in 'Cases, Deaths'.split(', '):\n",
    "    df_table[f'{c} (+)'] = (df_table[c] - df_table[f'P{c}']).clip(0)\n",
    "    #Clip ça veut dire, les chiffres negatif sont interdit\n",
    "df_table['Fatality Rate'] = (100* df_table['Deaths']/ df_table['Cases']).round(2)\n",
    "df_table['Continent'] = df_table['Country/Region'].map(mapping['map.continent'])\n",
    "df_table.head(5)"
   ]
  },
  {
   "cell_type": "code",
   "execution_count": 14,
   "id": "aboriginal-bulgaria",
   "metadata": {
    "execution": {
     "iopub.execute_input": "2022-10-07T12:22:20.175150Z",
     "iopub.status.busy": "2022-10-07T12:22:20.174525Z",
     "iopub.status.idle": "2022-10-07T12:22:20.176464Z",
     "shell.execute_reply": "2022-10-07T12:22:20.176921Z"
    },
    "papermill": {
     "duration": 0.042319,
     "end_time": "2022-10-07T12:22:20.177065",
     "exception": false,
     "start_time": "2022-10-07T12:22:20.134746",
     "status": "completed"
    },
    "tags": []
   },
   "outputs": [],
   "source": [
    "#hide\n",
    "#delete problematic countries from table\n",
    "df_table = df_table[~df_table['Country/Region'].isin(['Cape Verde', 'Cruise Ship', 'Kosovo'])]"
   ]
  },
  {
   "cell_type": "code",
   "execution_count": 15,
   "id": "fantastic-effect",
   "metadata": {
    "execution": {
     "iopub.execute_input": "2022-10-07T12:22:20.259266Z",
     "iopub.status.busy": "2022-10-07T12:22:20.258541Z",
     "iopub.status.idle": "2022-10-07T12:22:20.278608Z",
     "shell.execute_reply": "2022-10-07T12:22:20.277896Z"
    },
    "papermill": {
     "duration": 0.067945,
     "end_time": "2022-10-07T12:22:20.278772",
     "exception": false,
     "start_time": "2022-10-07T12:22:20.210827",
     "status": "completed"
    },
    "tags": []
   },
   "outputs": [
    {
     "data": {
      "text/html": [
       "<div>\n",
       "<style scoped>\n",
       "    .dataframe tbody tr th:only-of-type {\n",
       "        vertical-align: middle;\n",
       "    }\n",
       "\n",
       "    .dataframe tbody tr th {\n",
       "        vertical-align: top;\n",
       "    }\n",
       "\n",
       "    .dataframe thead th {\n",
       "        text-align: right;\n",
       "    }\n",
       "</style>\n",
       "<table border=\"1\" class=\"dataframe\">\n",
       "  <thead>\n",
       "    <tr style=\"text-align: right;\">\n",
       "      <th></th>\n",
       "      <th>Country/Region</th>\n",
       "      <th>Cases</th>\n",
       "      <th>Deaths</th>\n",
       "      <th>PCases</th>\n",
       "      <th>PDeaths</th>\n",
       "      <th>Cases (+)</th>\n",
       "      <th>Deaths (+)</th>\n",
       "      <th>Fatality Rate</th>\n",
       "      <th>Continent</th>\n",
       "    </tr>\n",
       "  </thead>\n",
       "  <tbody>\n",
       "    <tr>\n",
       "      <th>0</th>\n",
       "      <td>US</td>\n",
       "      <td>96612478</td>\n",
       "      <td>1062130</td>\n",
       "      <td>96565276</td>\n",
       "      <td>1061584</td>\n",
       "      <td>47202</td>\n",
       "      <td>546</td>\n",
       "      <td>1.1</td>\n",
       "      <td>North America</td>\n",
       "    </tr>\n",
       "    <tr>\n",
       "      <th>1</th>\n",
       "      <td>India</td>\n",
       "      <td>44606460</td>\n",
       "      <td>528754</td>\n",
       "      <td>44604463</td>\n",
       "      <td>528745</td>\n",
       "      <td>1997</td>\n",
       "      <td>9</td>\n",
       "      <td>1.2</td>\n",
       "      <td>Asia</td>\n",
       "    </tr>\n",
       "    <tr>\n",
       "      <th>2</th>\n",
       "      <td>France</td>\n",
       "      <td>35922441</td>\n",
       "      <td>156409</td>\n",
       "      <td>35856904</td>\n",
       "      <td>156359</td>\n",
       "      <td>65537</td>\n",
       "      <td>50</td>\n",
       "      <td>0.4</td>\n",
       "      <td>Europe</td>\n",
       "    </tr>\n",
       "    <tr>\n",
       "      <th>3</th>\n",
       "      <td>Brazil</td>\n",
       "      <td>34707233</td>\n",
       "      <td>686706</td>\n",
       "      <td>34699017</td>\n",
       "      <td>686573</td>\n",
       "      <td>8216</td>\n",
       "      <td>133</td>\n",
       "      <td>2.0</td>\n",
       "      <td>South America</td>\n",
       "    </tr>\n",
       "    <tr>\n",
       "      <th>4</th>\n",
       "      <td>Germany</td>\n",
       "      <td>33826367</td>\n",
       "      <td>150406</td>\n",
       "      <td>33652255</td>\n",
       "      <td>150289</td>\n",
       "      <td>174112</td>\n",
       "      <td>117</td>\n",
       "      <td>0.4</td>\n",
       "      <td>Europe</td>\n",
       "    </tr>\n",
       "  </tbody>\n",
       "</table>\n",
       "</div>"
      ],
      "text/plain": [
       "  Country/Region     Cases   Deaths    PCases  PDeaths  Cases (+)  Deaths (+)  \\\n",
       "0             US  96612478  1062130  96565276  1061584      47202         546   \n",
       "1          India  44606460   528754  44604463   528745       1997           9   \n",
       "2         France  35922441   156409  35856904   156359      65537          50   \n",
       "3         Brazil  34707233   686706  34699017   686573       8216         133   \n",
       "4        Germany  33826367   150406  33652255   150289     174112         117   \n",
       "\n",
       "   Fatality Rate      Continent  \n",
       "0            1.1  North America  \n",
       "1            1.2           Asia  \n",
       "2            0.4         Europe  \n",
       "3            2.0  South America  \n",
       "4            0.4         Europe  "
      ]
     },
     "execution_count": 15,
     "metadata": {},
     "output_type": "execute_result"
    }
   ],
   "source": [
    "#hide\n",
    "df_table = (pd.DataFrame(dict(Cases=dfc_cases, Deaths=dfc_deaths, PCases=dfp_cases, PDeaths=dfp_deaths))\n",
    "             .sort_values(by=['Cases', 'Deaths'], ascending=[False, False])\n",
    "             .reset_index())\n",
    "df_table.rename(columns={'index': 'Country/Region'}, inplace=True)\n",
    "for c in 'Cases, Deaths'.split(', '):\n",
    "    df_table[f'{c} (+)'] = (df_table[c] - df_table[f'P{c}']).clip(0)  # DATA BUG\n",
    "df_table['Fatality Rate'] = (100 * df_table['Deaths'] / df_table['Cases']).round(1)\n",
    "df_table['Continent'] = df_table['Country/Region'].map(mapping['map.continent'])\n",
    "df_table.head(5)"
   ]
  },
  {
   "cell_type": "code",
   "execution_count": 16,
   "id": "fewer-occasion",
   "metadata": {
    "execution": {
     "iopub.execute_input": "2022-10-07T12:22:20.362167Z",
     "iopub.status.busy": "2022-10-07T12:22:20.361465Z",
     "iopub.status.idle": "2022-10-07T12:22:20.363632Z",
     "shell.execute_reply": "2022-10-07T12:22:20.364191Z"
    },
    "papermill": {
     "duration": 0.051108,
     "end_time": "2022-10-07T12:22:20.364341",
     "exception": false,
     "start_time": "2022-10-07T12:22:20.313233",
     "status": "completed"
    },
    "tags": []
   },
   "outputs": [],
   "source": [
    "#hide\n",
    "#delete problematic countries from table\n",
    "df_table = df_table[~df_table['Country/Region'].isin(['Cape Verde', 'Cruise Ship', 'Kosovo'])]"
   ]
  },
  {
   "cell_type": "code",
   "execution_count": 17,
   "id": "related-center",
   "metadata": {
    "execution": {
     "iopub.execute_input": "2022-10-07T12:22:20.444005Z",
     "iopub.status.busy": "2022-10-07T12:22:20.443356Z",
     "iopub.status.idle": "2022-10-07T12:22:20.455085Z",
     "shell.execute_reply": "2022-10-07T12:22:20.454440Z"
    },
    "papermill": {
     "duration": 0.056591,
     "end_time": "2022-10-07T12:22:20.455217",
     "exception": false,
     "start_time": "2022-10-07T12:22:20.398626",
     "status": "completed"
    },
    "tags": []
   },
   "outputs": [],
   "source": [
    "#hide\n",
    "metrics = [df_table.columns[index] for index in [1,2,5,6]]\n",
    "# s_china = df_table[df_table['Country/Region'].eq('China')][metrics].sum().add_prefix('China ')\n",
    "s_us = df_table[df_table['Country/Region'].eq('US')][metrics].sum().add_prefix('US ')\n",
    "s_eu = df_table[df_table['Continent'].eq('Europe')][metrics].sum().add_prefix('EU ')\n",
    "s_ind = df_table[df_table['Country/Region'].eq('India')][metrics].sum().add_prefix('India ')\n",
    "summary = {'updated': pd.to_datetime(dt_today), 'since': pd.to_datetime(dt_yday)}\n",
    "summary = {'updated': pd.to_datetime(dt_today), 'since': pd.to_datetime(dt_yday)}\n",
    "summary = {**summary, **df_table[metrics].sum(), **s_ind, **s_us, **s_eu}"
   ]
  },
  {
   "cell_type": "code",
   "execution_count": 18,
   "id": "engaging-syndrome",
   "metadata": {
    "execution": {
     "iopub.execute_input": "2022-10-07T12:22:20.529764Z",
     "iopub.status.busy": "2022-10-07T12:22:20.529106Z",
     "iopub.status.idle": "2022-10-07T12:22:20.552924Z",
     "shell.execute_reply": "2022-10-07T12:22:20.552359Z"
    },
    "papermill": {
     "duration": 0.064378,
     "end_time": "2022-10-07T12:22:20.553069",
     "exception": false,
     "start_time": "2022-10-07T12:22:20.488691",
     "status": "completed"
    },
    "tags": []
   },
   "outputs": [],
   "source": [
    "#hide\n",
    "dft_ct_new_cases = dft_cases.groupby(COL_REGION)[dt_cols].sum().diff(axis=1).fillna(0).astype(int)"
   ]
  },
  {
   "cell_type": "code",
   "execution_count": 19,
   "id": "neutral-assignment",
   "metadata": {
    "execution": {
     "iopub.execute_input": "2022-10-07T12:22:20.628766Z",
     "iopub.status.busy": "2022-10-07T12:22:20.628120Z",
     "iopub.status.idle": "2022-10-07T12:22:20.633578Z",
     "shell.execute_reply": "2022-10-07T12:22:20.634094Z"
    },
    "papermill": {
     "duration": 0.0461,
     "end_time": "2022-10-07T12:22:20.634244",
     "exception": false,
     "start_time": "2022-10-07T12:22:20.588144",
     "status": "completed"
    },
    "tags": []
   },
   "outputs": [],
   "source": [
    "#hide\n",
    "everydaycases = dft_ct_new_cases.cumsum(axis=1)"
   ]
  },
  {
   "cell_type": "code",
   "execution_count": 20,
   "id": "parliamentary-calgary",
   "metadata": {
    "execution": {
     "iopub.execute_input": "2022-10-07T12:22:20.712522Z",
     "iopub.status.busy": "2022-10-07T12:22:20.711846Z",
     "iopub.status.idle": "2022-10-07T12:22:21.515536Z",
     "shell.execute_reply": "2022-10-07T12:22:21.514877Z"
    },
    "papermill": {
     "duration": 0.843104,
     "end_time": "2022-10-07T12:22:21.515673",
     "exception": false,
     "start_time": "2022-10-07T12:22:20.672569",
     "status": "completed"
    },
    "tags": []
   },
   "outputs": [],
   "source": [
    "#hide\n",
    "import pandas as pd\n",
    "import matplotlib.pyplot as plt\n",
    "import matplotlib.ticker as ticker\n",
    "import matplotlib.animation as animation\n",
    "from IPython.display import HTML"
   ]
  },
  {
   "cell_type": "code",
   "execution_count": 21,
   "id": "lasting-extraction",
   "metadata": {
    "execution": {
     "iopub.execute_input": "2022-10-07T12:22:21.590697Z",
     "iopub.status.busy": "2022-10-07T12:22:21.589996Z",
     "iopub.status.idle": "2022-10-07T12:22:21.598148Z",
     "shell.execute_reply": "2022-10-07T12:22:21.598662Z"
    },
    "papermill": {
     "duration": 0.049409,
     "end_time": "2022-10-07T12:22:21.598807",
     "exception": false,
     "start_time": "2022-10-07T12:22:21.549398",
     "status": "completed"
    },
    "tags": []
   },
   "outputs": [],
   "source": [
    "#hide\n",
    "t = everydaycases.stack()"
   ]
  },
  {
   "cell_type": "code",
   "execution_count": 22,
   "id": "premier-sleeve",
   "metadata": {
    "execution": {
     "iopub.execute_input": "2022-10-07T12:22:21.670403Z",
     "iopub.status.busy": "2022-10-07T12:22:21.669710Z",
     "iopub.status.idle": "2022-10-07T12:22:21.684624Z",
     "shell.execute_reply": "2022-10-07T12:22:21.685033Z"
    },
    "papermill": {
     "duration": 0.054132,
     "end_time": "2022-10-07T12:22:21.685170",
     "exception": false,
     "start_time": "2022-10-07T12:22:21.631038",
     "status": "completed"
    },
    "tags": []
   },
   "outputs": [],
   "source": [
    "#hide\n",
    "g = t.reset_index(['Country/Region'])"
   ]
  },
  {
   "cell_type": "code",
   "execution_count": 23,
   "id": "distributed-pittsburgh",
   "metadata": {
    "execution": {
     "iopub.execute_input": "2022-10-07T12:22:21.753778Z",
     "iopub.status.busy": "2022-10-07T12:22:21.753097Z",
     "iopub.status.idle": "2022-10-07T12:22:21.755777Z",
     "shell.execute_reply": "2022-10-07T12:22:21.755105Z"
    },
    "papermill": {
     "duration": 0.039487,
     "end_time": "2022-10-07T12:22:21.755905",
     "exception": false,
     "start_time": "2022-10-07T12:22:21.716418",
     "status": "completed"
    },
    "tags": []
   },
   "outputs": [],
   "source": [
    "#hide\n",
    "g.index.name = 'date'"
   ]
  },
  {
   "cell_type": "code",
   "execution_count": 24,
   "id": "naked-donor",
   "metadata": {
    "execution": {
     "iopub.execute_input": "2022-10-07T12:22:21.829354Z",
     "iopub.status.busy": "2022-10-07T12:22:21.828146Z",
     "iopub.status.idle": "2022-10-07T12:22:21.834643Z",
     "shell.execute_reply": "2022-10-07T12:22:21.833722Z"
    },
    "papermill": {
     "duration": 0.045347,
     "end_time": "2022-10-07T12:22:21.834772",
     "exception": false,
     "start_time": "2022-10-07T12:22:21.789425",
     "status": "completed"
    },
    "tags": []
   },
   "outputs": [],
   "source": [
    "# #hide\n",
    "# g = g.reset_index(['date'])"
   ]
  },
  {
   "cell_type": "code",
   "execution_count": 25,
   "id": "incomplete-mustang",
   "metadata": {
    "execution": {
     "iopub.execute_input": "2022-10-07T12:22:21.906888Z",
     "iopub.status.busy": "2022-10-07T12:22:21.906238Z",
     "iopub.status.idle": "2022-10-07T12:22:21.910035Z",
     "shell.execute_reply": "2022-10-07T12:22:21.910526Z"
    },
    "papermill": {
     "duration": 0.042818,
     "end_time": "2022-10-07T12:22:21.910673",
     "exception": false,
     "start_time": "2022-10-07T12:22:21.867855",
     "status": "completed"
    },
    "tags": []
   },
   "outputs": [],
   "source": [
    "#hide\n",
    "# g.head()"
   ]
  },
  {
   "cell_type": "code",
   "execution_count": 26,
   "id": "specific-kruger",
   "metadata": {
    "execution": {
     "iopub.execute_input": "2022-10-07T12:22:21.983744Z",
     "iopub.status.busy": "2022-10-07T12:22:21.982783Z",
     "iopub.status.idle": "2022-10-07T12:22:21.985550Z",
     "shell.execute_reply": "2022-10-07T12:22:21.984813Z"
    },
    "papermill": {
     "duration": 0.041056,
     "end_time": "2022-10-07T12:22:21.985745",
     "exception": false,
     "start_time": "2022-10-07T12:22:21.944689",
     "status": "completed"
    },
    "tags": []
   },
   "outputs": [],
   "source": [
    "#hide\n",
    "# g.columns = ['date','country','cases']"
   ]
  },
  {
   "cell_type": "code",
   "execution_count": 27,
   "id": "tender-conversion",
   "metadata": {
    "execution": {
     "iopub.execute_input": "2022-10-07T12:22:22.058923Z",
     "iopub.status.busy": "2022-10-07T12:22:22.058224Z",
     "iopub.status.idle": "2022-10-07T12:22:22.061239Z",
     "shell.execute_reply": "2022-10-07T12:22:22.060704Z"
    },
    "papermill": {
     "duration": 0.041719,
     "end_time": "2022-10-07T12:22:22.061360",
     "exception": false,
     "start_time": "2022-10-07T12:22:22.019641",
     "status": "completed"
    },
    "tags": []
   },
   "outputs": [],
   "source": [
    "#hide\n",
    "# g['continent'] = g.country"
   ]
  },
  {
   "cell_type": "code",
   "execution_count": 28,
   "id": "substantial-wilderness",
   "metadata": {
    "execution": {
     "iopub.execute_input": "2022-10-07T12:22:22.130409Z",
     "iopub.status.busy": "2022-10-07T12:22:22.129758Z",
     "iopub.status.idle": "2022-10-07T12:22:22.132511Z",
     "shell.execute_reply": "2022-10-07T12:22:22.131968Z"
    },
    "papermill": {
     "duration": 0.038984,
     "end_time": "2022-10-07T12:22:22.132645",
     "exception": false,
     "start_time": "2022-10-07T12:22:22.093661",
     "status": "completed"
    },
    "tags": []
   },
   "outputs": [],
   "source": [
    "#hide\n",
    "# cols = list(g.columns.values)"
   ]
  },
  {
   "cell_type": "code",
   "execution_count": 29,
   "id": "solved-farming",
   "metadata": {
    "execution": {
     "iopub.execute_input": "2022-10-07T12:22:22.200783Z",
     "iopub.status.busy": "2022-10-07T12:22:22.200141Z",
     "iopub.status.idle": "2022-10-07T12:22:22.204179Z",
     "shell.execute_reply": "2022-10-07T12:22:22.204642Z"
    },
    "papermill": {
     "duration": 0.038892,
     "end_time": "2022-10-07T12:22:22.204803",
     "exception": false,
     "start_time": "2022-10-07T12:22:22.165911",
     "status": "completed"
    },
    "tags": []
   },
   "outputs": [],
   "source": [
    "#hide\n",
    "# cols.insert(0, cols.pop())"
   ]
  },
  {
   "cell_type": "code",
   "execution_count": 30,
   "id": "executed-adoption",
   "metadata": {
    "execution": {
     "iopub.execute_input": "2022-10-07T12:22:22.276050Z",
     "iopub.status.busy": "2022-10-07T12:22:22.275374Z",
     "iopub.status.idle": "2022-10-07T12:22:22.278320Z",
     "shell.execute_reply": "2022-10-07T12:22:22.277784Z"
    },
    "papermill": {
     "duration": 0.039785,
     "end_time": "2022-10-07T12:22:22.278428",
     "exception": false,
     "start_time": "2022-10-07T12:22:22.238643",
     "status": "completed"
    },
    "tags": []
   },
   "outputs": [],
   "source": [
    "#hide\n",
    "# g = g[cols]"
   ]
  },
  {
   "cell_type": "code",
   "execution_count": 31,
   "id": "subject-dublin",
   "metadata": {
    "execution": {
     "iopub.execute_input": "2022-10-07T12:22:22.346363Z",
     "iopub.status.busy": "2022-10-07T12:22:22.345690Z",
     "iopub.status.idle": "2022-10-07T12:22:22.348116Z",
     "shell.execute_reply": "2022-10-07T12:22:22.348603Z"
    },
    "papermill": {
     "duration": 0.040244,
     "end_time": "2022-10-07T12:22:22.348751",
     "exception": false,
     "start_time": "2022-10-07T12:22:22.308507",
     "status": "completed"
    },
    "tags": []
   },
   "outputs": [],
   "source": [
    "#hide\n",
    "# g['continent'] = g['continent'].map(mapping['map.continent'])"
   ]
  },
  {
   "cell_type": "code",
   "execution_count": 32,
   "id": "freelance-scout",
   "metadata": {
    "execution": {
     "iopub.execute_input": "2022-10-07T12:22:22.422093Z",
     "iopub.status.busy": "2022-10-07T12:22:22.420925Z",
     "iopub.status.idle": "2022-10-07T12:22:22.426047Z",
     "shell.execute_reply": "2022-10-07T12:22:22.425537Z"
    },
    "papermill": {
     "duration": 0.042409,
     "end_time": "2022-10-07T12:22:22.426183",
     "exception": false,
     "start_time": "2022-10-07T12:22:22.383774",
     "status": "completed"
    },
    "tags": []
   },
   "outputs": [],
   "source": [
    "#hide\n",
    "# g.head()"
   ]
  },
  {
   "cell_type": "code",
   "execution_count": 33,
   "id": "limited-engine",
   "metadata": {
    "execution": {
     "iopub.execute_input": "2022-10-07T12:22:22.504149Z",
     "iopub.status.busy": "2022-10-07T12:22:22.503244Z",
     "iopub.status.idle": "2022-10-07T12:22:22.504909Z",
     "shell.execute_reply": "2022-10-07T12:22:22.505419Z"
    },
    "papermill": {
     "duration": 0.042169,
     "end_time": "2022-10-07T12:22:22.505563",
     "exception": false,
     "start_time": "2022-10-07T12:22:22.463394",
     "status": "completed"
    },
    "tags": []
   },
   "outputs": [],
   "source": [
    "# hide\n",
    "# g['date'] = g['date'].astype('datetime64[ns]')"
   ]
  },
  {
   "cell_type": "code",
   "execution_count": 34,
   "id": "sophisticated-supervisor",
   "metadata": {
    "execution": {
     "iopub.execute_input": "2022-10-07T12:22:22.576962Z",
     "iopub.status.busy": "2022-10-07T12:22:22.576389Z",
     "iopub.status.idle": "2022-10-07T12:22:22.580437Z",
     "shell.execute_reply": "2022-10-07T12:22:22.579913Z"
    },
    "papermill": {
     "duration": 0.040315,
     "end_time": "2022-10-07T12:22:22.580562",
     "exception": false,
     "start_time": "2022-10-07T12:22:22.540247",
     "status": "completed"
    },
    "tags": []
   },
   "outputs": [],
   "source": [
    "#hide\n",
    "# g['date'] = g.date.dt.dayofyear"
   ]
  },
  {
   "cell_type": "code",
   "execution_count": 35,
   "id": "inside-dubai",
   "metadata": {
    "execution": {
     "iopub.execute_input": "2022-10-07T12:22:22.647979Z",
     "iopub.status.busy": "2022-10-07T12:22:22.647357Z",
     "iopub.status.idle": "2022-10-07T12:22:22.651255Z",
     "shell.execute_reply": "2022-10-07T12:22:22.651746Z"
    },
    "papermill": {
     "duration": 0.040612,
     "end_time": "2022-10-07T12:22:22.651887",
     "exception": false,
     "start_time": "2022-10-07T12:22:22.611275",
     "status": "completed"
    },
    "tags": []
   },
   "outputs": [],
   "source": [
    "#hide\n",
    "# g = g.rename(columns= {'continent':'group','country':'name','cases':'value'})"
   ]
  },
  {
   "cell_type": "code",
   "execution_count": 36,
   "id": "fleet-motorcycle",
   "metadata": {
    "execution": {
     "iopub.execute_input": "2022-10-07T12:22:22.721843Z",
     "iopub.status.busy": "2022-10-07T12:22:22.720670Z",
     "iopub.status.idle": "2022-10-07T12:22:22.723173Z",
     "shell.execute_reply": "2022-10-07T12:22:22.724076Z"
    },
    "papermill": {
     "duration": 0.039544,
     "end_time": "2022-10-07T12:22:22.724306",
     "exception": false,
     "start_time": "2022-10-07T12:22:22.684762",
     "status": "completed"
    },
    "tags": []
   },
   "outputs": [],
   "source": [
    "#hide\n",
    "# cols = ['name','group','day','value']"
   ]
  },
  {
   "cell_type": "code",
   "execution_count": 37,
   "id": "continued-sleeping",
   "metadata": {
    "execution": {
     "iopub.execute_input": "2022-10-07T12:22:22.795501Z",
     "iopub.status.busy": "2022-10-07T12:22:22.794334Z",
     "iopub.status.idle": "2022-10-07T12:22:22.798166Z",
     "shell.execute_reply": "2022-10-07T12:22:22.797642Z"
    },
    "papermill": {
     "duration": 0.040334,
     "end_time": "2022-10-07T12:22:22.798273",
     "exception": false,
     "start_time": "2022-10-07T12:22:22.757939",
     "status": "completed"
    },
    "tags": []
   },
   "outputs": [],
   "source": [
    "#hide\n",
    "# g.rename(columns= {'date':'day'},inplace = True)"
   ]
  },
  {
   "cell_type": "code",
   "execution_count": 38,
   "id": "major-fight",
   "metadata": {
    "execution": {
     "iopub.execute_input": "2022-10-07T12:22:22.870904Z",
     "iopub.status.busy": "2022-10-07T12:22:22.870268Z",
     "iopub.status.idle": "2022-10-07T12:22:22.873010Z",
     "shell.execute_reply": "2022-10-07T12:22:22.872372Z"
    },
    "papermill": {
     "duration": 0.042115,
     "end_time": "2022-10-07T12:22:22.873152",
     "exception": false,
     "start_time": "2022-10-07T12:22:22.831037",
     "status": "completed"
    },
    "tags": []
   },
   "outputs": [],
   "source": [
    "#hide\n",
    "# g = g[cols]"
   ]
  },
  {
   "cell_type": "code",
   "execution_count": 39,
   "id": "structured-mobile",
   "metadata": {
    "execution": {
     "iopub.execute_input": "2022-10-07T12:22:22.940534Z",
     "iopub.status.busy": "2022-10-07T12:22:22.939899Z",
     "iopub.status.idle": "2022-10-07T12:22:22.942676Z",
     "shell.execute_reply": "2022-10-07T12:22:22.942142Z"
    },
    "papermill": {
     "duration": 0.036918,
     "end_time": "2022-10-07T12:22:22.942796",
     "exception": false,
     "start_time": "2022-10-07T12:22:22.905878",
     "status": "completed"
    },
    "tags": []
   },
   "outputs": [],
   "source": [
    "# #hide\n",
    "# g = g[g.group.notna()]"
   ]
  },
  {
   "cell_type": "code",
   "execution_count": 40,
   "id": "determined-closing",
   "metadata": {
    "execution": {
     "iopub.execute_input": "2022-10-07T12:22:23.010672Z",
     "iopub.status.busy": "2022-10-07T12:22:23.010091Z",
     "iopub.status.idle": "2022-10-07T12:22:23.013274Z",
     "shell.execute_reply": "2022-10-07T12:22:23.012746Z"
    },
    "papermill": {
     "duration": 0.039338,
     "end_time": "2022-10-07T12:22:23.013390",
     "exception": false,
     "start_time": "2022-10-07T12:22:22.974052",
     "status": "completed"
    },
    "tags": []
   },
   "outputs": [],
   "source": [
    "# #hide\n",
    "# colors = dict(zip(\n",
    "#     [\"Oceania\", \"Europe\", \"Asia\", \"South America\", \"Middle East\", \"North America\", \"Africa\"],\n",
    "#     [\"#adb0ff\", \"#ffb3ff\", \"#90d595\", \"#e48381\", \"#aafbff\", \"#f7bb5f\", \"#eafb50\"]\n",
    "# ))\n",
    "# group_lk = g.set_index('name')['group'].to_dict()"
   ]
  },
  {
   "cell_type": "code",
   "execution_count": null,
   "id": "gross-drinking",
   "metadata": {
    "papermill": {
     "duration": 0.032243,
     "end_time": "2022-10-07T12:22:23.076773",
     "exception": false,
     "start_time": "2022-10-07T12:22:23.044530",
     "status": "completed"
    },
    "tags": []
   },
   "outputs": [],
   "source": []
  },
  {
   "cell_type": "code",
   "execution_count": 41,
   "id": "subject-macintosh",
   "metadata": {
    "execution": {
     "iopub.execute_input": "2022-10-07T12:22:23.142770Z",
     "iopub.status.busy": "2022-10-07T12:22:23.142007Z",
     "iopub.status.idle": "2022-10-07T12:22:23.145661Z",
     "shell.execute_reply": "2022-10-07T12:22:23.145118Z"
    },
    "papermill": {
     "duration": 0.038467,
     "end_time": "2022-10-07T12:22:23.145769",
     "exception": false,
     "start_time": "2022-10-07T12:22:23.107302",
     "status": "completed"
    },
    "tags": []
   },
   "outputs": [],
   "source": [
    "# #hide\n",
    "# fig, ax = plt.subplots(figsize=(15, 8))\n",
    "\n",
    "# def draw_barchart(current_day):\n",
    "#     dff = g[g['day'].eq(current_day)].sort_values(by='value', ascending=True).tail(10)\n",
    "#     ax.clear()\n",
    "#     ax.barh(dff['name'], dff['value'], color=[colors[group_lk[x]] for x in dff['name']])\n",
    "#     dx = dff['value'].max() / 200\n",
    "    \n",
    "#     for i, (value, name) in enumerate(zip(dff['value'], dff['name'])):\n",
    "#         ax.text(value-dx, i,     name,           size=14, weight=600, ha='right', va='bottom')\n",
    "#         ax.text(value-dx, i-.25, group_lk[name], size=10, color='#444444', ha='right', va='baseline')\n",
    "#         ax.text(value+dx, i,     f'{value:,.0f}',  size=14, ha='left',  va='center')\n",
    "#     ax.text(1, 0.4, current_day, transform=ax.transAxes, color='#777777', size=46, ha='right', weight=800)\n",
    "#     ax.text(0, 1.06, 'Population (thousands)', transform=ax.transAxes, size=12, color='#777777')\n",
    "#     ax.xaxis.set_major_formatter(ticker.StrMethodFormatter('{x:,.0f}'))\n",
    "#     ax.xaxis.set_ticks_position('top')\n",
    "#     ax.tick_params(axis='x', colors='#777777', labelsize=12)\n",
    "#     ax.set_yticks([])\n",
    "#     ax.margins(0, 0.01)\n",
    "#     ax.grid(which='major', axis='x', linestyle='-')\n",
    "#     ax.set_axisbelow(True)\n",
    "    \n",
    "#     ax.text(0, 1.15, 'Coronavirus',\n",
    "#             transform=ax.transAxes, size=24, weight=600, ha='left', va='top')\n",
    "# #     ax.text(1, 0, 'by @pratapvardhan; credit @jburnmurdoch', transform=ax.transAxes, color='#777777', ha='right',\n",
    "# #             bbox=dict(facecolor='white', alpha=0.8, edgecolor='white'))\n",
    "#     plt.box(False)"
   ]
  },
  {
   "cell_type": "code",
   "execution_count": 42,
   "id": "sexual-wages",
   "metadata": {
    "execution": {
     "iopub.execute_input": "2022-10-07T12:22:23.213396Z",
     "iopub.status.busy": "2022-10-07T12:22:23.212765Z",
     "iopub.status.idle": "2022-10-07T12:22:23.214046Z",
     "shell.execute_reply": "2022-10-07T12:22:23.214664Z"
    },
    "papermill": {
     "duration": 0.037993,
     "end_time": "2022-10-07T12:22:23.214797",
     "exception": false,
     "start_time": "2022-10-07T12:22:23.176804",
     "status": "completed"
    },
    "tags": []
   },
   "outputs": [],
   "source": [
    "# #hide_input\n",
    "# fig, ax = plt.subplots(figsize=(15, 8))\n",
    "# animator = animation.FuncAnimation(fig, draw_barchart, frames=range(g.day.values.min(), g.day.values.max()))\n",
    "# HTML(animator.to_jshtml())\n",
    "# # or use animator.to_html5_video() or animator.save() "
   ]
  },
  {
   "cell_type": "code",
   "execution_count": null,
   "id": "australian-container",
   "metadata": {
    "papermill": {
     "duration": 0.030255,
     "end_time": "2022-10-07T12:22:23.274779",
     "exception": false,
     "start_time": "2022-10-07T12:22:23.244524",
     "status": "completed"
    },
    "tags": []
   },
   "outputs": [],
   "source": []
  },
  {
   "cell_type": "code",
   "execution_count": null,
   "id": "mediterranean-pontiac",
   "metadata": {
    "papermill": {
     "duration": 0.032737,
     "end_time": "2022-10-07T12:22:23.337579",
     "exception": false,
     "start_time": "2022-10-07T12:22:23.304842",
     "status": "completed"
    },
    "tags": []
   },
   "outputs": [],
   "source": []
  },
  {
   "cell_type": "code",
   "execution_count": null,
   "id": "aging-legislature",
   "metadata": {
    "papermill": {
     "duration": 0.031279,
     "end_time": "2022-10-07T12:22:23.399772",
     "exception": false,
     "start_time": "2022-10-07T12:22:23.368493",
     "status": "completed"
    },
    "tags": []
   },
   "outputs": [],
   "source": []
  }
 ],
 "metadata": {
  "kernelspec": {
   "display_name": "Python 3",
   "language": "python",
   "name": "python3"
  },
  "language_info": {
   "codemirror_mode": {
    "name": "ipython",
    "version": 3
   },
   "file_extension": ".py",
   "mimetype": "text/x-python",
   "name": "python",
   "nbconvert_exporter": "python",
   "pygments_lexer": "ipython3",
   "version": "3.6.15"
  },
  "papermill": {
   "duration": 6.527502,
   "end_time": "2022-10-07T12:22:23.751633",
   "environment_variables": {},
   "exception": null,
   "input_path": "2020-03-21-covid19exp.ipynb",
   "output_path": "2020-03-21-covid19exp.ipynb",
   "parameters": {},
   "start_time": "2022-10-07T12:22:17.224131",
   "version": "2.0.0"
  }
 },
 "nbformat": 4,
 "nbformat_minor": 5
}