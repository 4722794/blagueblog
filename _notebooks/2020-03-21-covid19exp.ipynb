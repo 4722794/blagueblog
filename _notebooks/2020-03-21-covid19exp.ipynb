{
 "cells": [
  {
   "cell_type": "markdown",
   "id": "muslim-click",
   "metadata": {
    "papermill": {
     "duration": 0.034463,
     "end_time": "2021-06-15T12:11:33.891898",
     "exception": false,
     "start_time": "2021-06-15T12:11:33.857435",
     "status": "completed"
    },
    "tags": []
   },
   "source": [
    "# COVID-19 Case Race\n",
    "> A race chart to see rising cases around the world\n",
    "\n",
    "- author: Hargun Oberoi\n",
    "- image: images/covid-overview.png\n",
    "- hide: false\n",
    "- badges: false"
   ]
  },
  {
   "cell_type": "code",
   "execution_count": 1,
   "id": "proof-material",
   "metadata": {
    "execution": {
     "iopub.execute_input": "2021-06-15T12:11:33.961791Z",
     "iopub.status.busy": "2021-06-15T12:11:33.961271Z",
     "iopub.status.idle": "2021-06-15T12:11:34.284813Z",
     "shell.execute_reply": "2021-06-15T12:11:34.283930Z"
    },
    "papermill": {
     "duration": 0.362769,
     "end_time": "2021-06-15T12:11:34.284960",
     "exception": false,
     "start_time": "2021-06-15T12:11:33.922191",
     "status": "completed"
    },
    "tags": []
   },
   "outputs": [],
   "source": [
    "#hide\n",
    "import numpy as np\n",
    "import pandas as pd\n",
    "from jinja2 import Template\n",
    "from IPython.display import HTML"
   ]
  },
  {
   "cell_type": "code",
   "execution_count": 2,
   "id": "developed-terminology",
   "metadata": {
    "execution": {
     "iopub.execute_input": "2021-06-15T12:11:34.349436Z",
     "iopub.status.busy": "2021-06-15T12:11:34.348919Z",
     "iopub.status.idle": "2021-06-15T12:11:34.350865Z",
     "shell.execute_reply": "2021-06-15T12:11:34.350375Z"
    },
    "papermill": {
     "duration": 0.035845,
     "end_time": "2021-06-15T12:11:34.350970",
     "exception": false,
     "start_time": "2021-06-15T12:11:34.315125",
     "status": "completed"
    },
    "tags": []
   },
   "outputs": [],
   "source": [
    "#hide\n",
    "\n",
    "# FETCH\n",
    "base_url = 'https://raw.githubusercontent.com/pratapvardhan/notebooks/master/covid19/'\n",
    "paths = {\n",
    "    'mapping': base_url + 'mapping_countries.csv',\n",
    "    'overview': base_url + 'overview.tpl'\n",
    "}"
   ]
  },
  {
   "cell_type": "code",
   "execution_count": 3,
   "id": "dynamic-saver",
   "metadata": {
    "execution": {
     "iopub.execute_input": "2021-06-15T12:11:34.420443Z",
     "iopub.status.busy": "2021-06-15T12:11:34.419929Z",
     "iopub.status.idle": "2021-06-15T12:11:34.422207Z",
     "shell.execute_reply": "2021-06-15T12:11:34.422644Z"
    },
    "papermill": {
     "duration": 0.041968,
     "end_time": "2021-06-15T12:11:34.422771",
     "exception": false,
     "start_time": "2021-06-15T12:11:34.380803",
     "status": "completed"
    },
    "tags": []
   },
   "outputs": [
    {
     "data": {
      "text/plain": [
       "'https://raw.githubusercontent.com/pratapvardhan/notebooks/master/covid19/mapping_countries.csv'"
      ]
     },
     "execution_count": 3,
     "metadata": {},
     "output_type": "execute_result"
    }
   ],
   "source": [
    "#hide\n",
    "paths['mapping']"
   ]
  },
  {
   "cell_type": "code",
   "execution_count": 4,
   "id": "urban-software",
   "metadata": {
    "execution": {
     "iopub.execute_input": "2021-06-15T12:11:34.488784Z",
     "iopub.status.busy": "2021-06-15T12:11:34.488273Z",
     "iopub.status.idle": "2021-06-15T12:11:34.490369Z",
     "shell.execute_reply": "2021-06-15T12:11:34.489941Z"
    },
    "papermill": {
     "duration": 0.037441,
     "end_time": "2021-06-15T12:11:34.490478",
     "exception": false,
     "start_time": "2021-06-15T12:11:34.453037",
     "status": "completed"
    },
    "tags": []
   },
   "outputs": [],
   "source": [
    "#hide\n",
    "def get_mappings(url):\n",
    "    df = pd.read_csv(url)\n",
    "    return {\n",
    "        'df': df,\n",
    "        'replace.country': dict(df.dropna(subset=['Name']).set_index('Country')['Name']),\n",
    "        'map.continent': dict(df.set_index('Name')['Continent'])\n",
    "    }"
   ]
  },
  {
   "cell_type": "code",
   "execution_count": 5,
   "id": "intimate-machinery",
   "metadata": {
    "execution": {
     "iopub.execute_input": "2021-06-15T12:11:34.556057Z",
     "iopub.status.busy": "2021-06-15T12:11:34.555546Z",
     "iopub.status.idle": "2021-06-15T12:11:34.581613Z",
     "shell.execute_reply": "2021-06-15T12:11:34.581120Z"
    },
    "papermill": {
     "duration": 0.061161,
     "end_time": "2021-06-15T12:11:34.581741",
     "exception": false,
     "start_time": "2021-06-15T12:11:34.520580",
     "status": "completed"
    },
    "tags": []
   },
   "outputs": [],
   "source": [
    "#hide\n",
    "mapping = get_mappings(paths['mapping'])"
   ]
  },
  {
   "cell_type": "code",
   "execution_count": 6,
   "id": "certified-tactics",
   "metadata": {
    "execution": {
     "iopub.execute_input": "2021-06-15T12:11:34.647982Z",
     "iopub.status.busy": "2021-06-15T12:11:34.647454Z",
     "iopub.status.idle": "2021-06-15T12:11:34.649201Z",
     "shell.execute_reply": "2021-06-15T12:11:34.649671Z"
    },
    "papermill": {
     "duration": 0.037164,
     "end_time": "2021-06-15T12:11:34.649797",
     "exception": false,
     "start_time": "2021-06-15T12:11:34.612633",
     "status": "completed"
    },
    "tags": []
   },
   "outputs": [],
   "source": [
    "#hide\n",
    "def get_template(path):\n",
    "    from urllib.parse import urlparse\n",
    "    if bool(urlparse(path).netloc):\n",
    "        from urllib.request import urlopen\n",
    "        return urlopen(path).read().decode('utf8')\n",
    "    return open(path).read()"
   ]
  },
  {
   "cell_type": "code",
   "execution_count": 7,
   "id": "realistic-blast",
   "metadata": {
    "execution": {
     "iopub.execute_input": "2021-06-15T12:11:34.714593Z",
     "iopub.status.busy": "2021-06-15T12:11:34.714044Z",
     "iopub.status.idle": "2021-06-15T12:11:34.715715Z",
     "shell.execute_reply": "2021-06-15T12:11:34.716114Z"
    },
    "papermill": {
     "duration": 0.036386,
     "end_time": "2021-06-15T12:11:34.716236",
     "exception": false,
     "start_time": "2021-06-15T12:11:34.679850",
     "status": "completed"
    },
    "tags": []
   },
   "outputs": [],
   "source": [
    "#hide\n",
    "def get_frame(name):\n",
    "    url = (\n",
    "        'https://raw.githubusercontent.com/CSSEGISandData/COVID-19/master/csse_covid_19_data/'\n",
    "        f'csse_covid_19_time_series/time_series_covid19_{name}_global.csv')\n",
    "    df = pd.read_csv(url)\n",
    "    # rename countries\n",
    "    df['Country/Region'] = df['Country/Region'].replace(mapping['replace.country'])\n",
    "    return df"
   ]
  },
  {
   "cell_type": "code",
   "execution_count": 8,
   "id": "affiliated-characterization",
   "metadata": {
    "execution": {
     "iopub.execute_input": "2021-06-15T12:11:34.781923Z",
     "iopub.status.busy": "2021-06-15T12:11:34.781408Z",
     "iopub.status.idle": "2021-06-15T12:11:34.783373Z",
     "shell.execute_reply": "2021-06-15T12:11:34.783797Z"
    },
    "papermill": {
     "duration": 0.037667,
     "end_time": "2021-06-15T12:11:34.783918",
     "exception": false,
     "start_time": "2021-06-15T12:11:34.746251",
     "status": "completed"
    },
    "tags": []
   },
   "outputs": [],
   "source": [
    "#hide\n",
    "def get_dates(df):\n",
    "    dt_cols = df.columns[~df.columns.isin(['Province/State', 'Country/Region', 'Lat', 'Long'])]\n",
    "    LAST_DATE_I = -1\n",
    "    # sometimes last column may be empty, then go backwards\n",
    "    for i in range(-1, -len(dt_cols), -1):\n",
    "        if not df[dt_cols[i]].fillna(0).eq(0).all():\n",
    "            LAST_DATE_I = i\n",
    "            break\n",
    "    return LAST_DATE_I, dt_cols"
   ]
  },
  {
   "cell_type": "code",
   "execution_count": 9,
   "id": "recent-optimization",
   "metadata": {
    "execution": {
     "iopub.execute_input": "2021-06-15T12:11:34.850039Z",
     "iopub.status.busy": "2021-06-15T12:11:34.849515Z",
     "iopub.status.idle": "2021-06-15T12:11:35.126822Z",
     "shell.execute_reply": "2021-06-15T12:11:35.126289Z"
    },
    "papermill": {
     "duration": 0.31326,
     "end_time": "2021-06-15T12:11:35.126957",
     "exception": false,
     "start_time": "2021-06-15T12:11:34.813697",
     "status": "completed"
    },
    "tags": []
   },
   "outputs": [],
   "source": [
    "#hide\n",
    "COL_REGION = 'Country/Region'\n",
    "# Confirmed, Recovered, Deaths\n",
    "df = get_frame('confirmed')\n",
    "# dft_: timeseries, dfc_: today country agg\n",
    "dft_cases = df\n",
    "dft_deaths = get_frame('deaths')\n",
    "dft_recovered = get_frame('recovered')\n",
    "LAST_DATE_I, dt_cols = get_dates(df)"
   ]
  },
  {
   "cell_type": "code",
   "execution_count": 10,
   "id": "absolute-copper",
   "metadata": {
    "execution": {
     "iopub.execute_input": "2021-06-15T12:11:35.194621Z",
     "iopub.status.busy": "2021-06-15T12:11:35.193991Z",
     "iopub.status.idle": "2021-06-15T12:11:35.195466Z",
     "shell.execute_reply": "2021-06-15T12:11:35.195896Z"
    },
    "papermill": {
     "duration": 0.037875,
     "end_time": "2021-06-15T12:11:35.196035",
     "exception": false,
     "start_time": "2021-06-15T12:11:35.158160",
     "status": "completed"
    },
    "tags": []
   },
   "outputs": [],
   "source": [
    "#hide\n",
    "LAST_DATE_I, dt_cols = get_dates(df)\n",
    "dt_today =dt_cols[LAST_DATE_I]\n",
    "# dt_5day = dt_cols[LAST_DATE_I - 5]\n",
    "dt_yday = dt_cols[LAST_DATE_I - 1]"
   ]
  },
  {
   "cell_type": "code",
   "execution_count": 11,
   "id": "restricted-sheriff",
   "metadata": {
    "execution": {
     "iopub.execute_input": "2021-06-15T12:11:35.261300Z",
     "iopub.status.busy": "2021-06-15T12:11:35.260791Z",
     "iopub.status.idle": "2021-06-15T12:11:35.267462Z",
     "shell.execute_reply": "2021-06-15T12:11:35.267033Z"
    },
    "papermill": {
     "duration": 0.041723,
     "end_time": "2021-06-15T12:11:35.267566",
     "exception": false,
     "start_time": "2021-06-15T12:11:35.225843",
     "status": "completed"
    },
    "tags": []
   },
   "outputs": [],
   "source": [
    "#hide\n",
    "dfc_cases = dft_cases.groupby(COL_REGION)[dt_today].sum()\n",
    "dfc_deaths = dft_deaths.groupby(COL_REGION)[dt_today].sum()\n",
    "# dfp_cases = dft_cases.groupby(COL_REGION)[dt_5day].sum()\n",
    "# dfp_deaths = dft_deaths.groupby(COL_REGION)[dt_5day].sum()\n",
    "dfp_cases = dft_cases.groupby(COL_REGION)[dt_yday].sum()\n",
    "dfp_deaths = dft_deaths.groupby(COL_REGION)[dt_yday].sum()"
   ]
  },
  {
   "cell_type": "code",
   "execution_count": 12,
   "id": "deluxe-hepatitis",
   "metadata": {
    "execution": {
     "iopub.execute_input": "2021-06-15T12:11:35.333600Z",
     "iopub.status.busy": "2021-06-15T12:11:35.333105Z",
     "iopub.status.idle": "2021-06-15T12:11:35.336640Z",
     "shell.execute_reply": "2021-06-15T12:11:35.337018Z"
    },
    "papermill": {
     "duration": 0.039666,
     "end_time": "2021-06-15T12:11:35.337145",
     "exception": false,
     "start_time": "2021-06-15T12:11:35.297479",
     "status": "completed"
    },
    "tags": []
   },
   "outputs": [],
   "source": [
    "#hide\n",
    "df_table = (pd.DataFrame(dict(Cases = dfc_cases, Deaths = dfc_deaths, PCases = dfp_cases, PDeaths = dfp_deaths))\n",
    "            .sort_values(by = ['Cases','Deaths'], ascending = [False, False])\n",
    "            .reset_index())"
   ]
  },
  {
   "cell_type": "code",
   "execution_count": 13,
   "id": "educational-chancellor",
   "metadata": {
    "execution": {
     "iopub.execute_input": "2021-06-15T12:11:35.414314Z",
     "iopub.status.busy": "2021-06-15T12:11:35.413747Z",
     "iopub.status.idle": "2021-06-15T12:11:35.420445Z",
     "shell.execute_reply": "2021-06-15T12:11:35.420847Z"
    },
    "papermill": {
     "duration": 0.05388,
     "end_time": "2021-06-15T12:11:35.420972",
     "exception": false,
     "start_time": "2021-06-15T12:11:35.367092",
     "status": "completed"
    },
    "tags": []
   },
   "outputs": [
    {
     "data": {
      "text/html": [
       "<div>\n",
       "<style scoped>\n",
       "    .dataframe tbody tr th:only-of-type {\n",
       "        vertical-align: middle;\n",
       "    }\n",
       "\n",
       "    .dataframe tbody tr th {\n",
       "        vertical-align: top;\n",
       "    }\n",
       "\n",
       "    .dataframe thead th {\n",
       "        text-align: right;\n",
       "    }\n",
       "</style>\n",
       "<table border=\"1\" class=\"dataframe\">\n",
       "  <thead>\n",
       "    <tr style=\"text-align: right;\">\n",
       "      <th></th>\n",
       "      <th>Country/Region</th>\n",
       "      <th>Cases</th>\n",
       "      <th>Deaths</th>\n",
       "      <th>PCases</th>\n",
       "      <th>PDeaths</th>\n",
       "      <th>Cases (+)</th>\n",
       "      <th>Deaths (+)</th>\n",
       "      <th>Fatality Rate</th>\n",
       "      <th>Continent</th>\n",
       "    </tr>\n",
       "  </thead>\n",
       "  <tbody>\n",
       "    <tr>\n",
       "      <th>0</th>\n",
       "      <td>US</td>\n",
       "      <td>33474692</td>\n",
       "      <td>599945</td>\n",
       "      <td>33461982</td>\n",
       "      <td>599775</td>\n",
       "      <td>12710</td>\n",
       "      <td>170</td>\n",
       "      <td>1.79</td>\n",
       "      <td>North America</td>\n",
       "    </tr>\n",
       "    <tr>\n",
       "      <th>1</th>\n",
       "      <td>India</td>\n",
       "      <td>29570881</td>\n",
       "      <td>377031</td>\n",
       "      <td>29510410</td>\n",
       "      <td>374305</td>\n",
       "      <td>60471</td>\n",
       "      <td>2726</td>\n",
       "      <td>1.28</td>\n",
       "      <td>Asia</td>\n",
       "    </tr>\n",
       "    <tr>\n",
       "      <th>2</th>\n",
       "      <td>Brazil</td>\n",
       "      <td>17452612</td>\n",
       "      <td>488228</td>\n",
       "      <td>17412766</td>\n",
       "      <td>487401</td>\n",
       "      <td>39846</td>\n",
       "      <td>827</td>\n",
       "      <td>2.80</td>\n",
       "      <td>South America</td>\n",
       "    </tr>\n",
       "    <tr>\n",
       "      <th>3</th>\n",
       "      <td>France</td>\n",
       "      <td>5803012</td>\n",
       "      <td>110616</td>\n",
       "      <td>5802314</td>\n",
       "      <td>110553</td>\n",
       "      <td>698</td>\n",
       "      <td>63</td>\n",
       "      <td>1.91</td>\n",
       "      <td>Europe</td>\n",
       "    </tr>\n",
       "    <tr>\n",
       "      <th>4</th>\n",
       "      <td>Turkey</td>\n",
       "      <td>5336073</td>\n",
       "      <td>48795</td>\n",
       "      <td>5330447</td>\n",
       "      <td>48721</td>\n",
       "      <td>5626</td>\n",
       "      <td>74</td>\n",
       "      <td>0.91</td>\n",
       "      <td>Asia</td>\n",
       "    </tr>\n",
       "  </tbody>\n",
       "</table>\n",
       "</div>"
      ],
      "text/plain": [
       "  Country/Region     Cases  Deaths    PCases  PDeaths  Cases (+)  Deaths (+)  \\\n",
       "0             US  33474692  599945  33461982   599775      12710         170   \n",
       "1          India  29570881  377031  29510410   374305      60471        2726   \n",
       "2         Brazil  17452612  488228  17412766   487401      39846         827   \n",
       "3         France   5803012  110616   5802314   110553        698          63   \n",
       "4         Turkey   5336073   48795   5330447    48721       5626          74   \n",
       "\n",
       "   Fatality Rate      Continent  \n",
       "0           1.79  North America  \n",
       "1           1.28           Asia  \n",
       "2           2.80  South America  \n",
       "3           1.91         Europe  \n",
       "4           0.91           Asia  "
      ]
     },
     "execution_count": 13,
     "metadata": {},
     "output_type": "execute_result"
    }
   ],
   "source": [
    "#hide\n",
    "for c in 'Cases, Deaths'.split(', '):\n",
    "    df_table[f'{c} (+)'] = (df_table[c] - df_table[f'P{c}']).clip(0)\n",
    "    #Clip ça veut dire, les chiffres negatif sont interdit\n",
    "df_table['Fatality Rate'] = (100* df_table['Deaths']/ df_table['Cases']).round(2)\n",
    "df_table['Continent'] = df_table['Country/Region'].map(mapping['map.continent'])\n",
    "df_table.head(5)"
   ]
  },
  {
   "cell_type": "code",
   "execution_count": 14,
   "id": "aboriginal-bulgaria",
   "metadata": {
    "execution": {
     "iopub.execute_input": "2021-06-15T12:11:35.486853Z",
     "iopub.status.busy": "2021-06-15T12:11:35.486340Z",
     "iopub.status.idle": "2021-06-15T12:11:35.488939Z",
     "shell.execute_reply": "2021-06-15T12:11:35.489416Z"
    },
    "papermill": {
     "duration": 0.038174,
     "end_time": "2021-06-15T12:11:35.489539",
     "exception": false,
     "start_time": "2021-06-15T12:11:35.451365",
     "status": "completed"
    },
    "tags": []
   },
   "outputs": [],
   "source": [
    "#hide\n",
    "#delete problematic countries from table\n",
    "df_table = df_table[~df_table['Country/Region'].isin(['Cape Verde', 'Cruise Ship', 'Kosovo'])]"
   ]
  },
  {
   "cell_type": "code",
   "execution_count": 15,
   "id": "fantastic-effect",
   "metadata": {
    "execution": {
     "iopub.execute_input": "2021-06-15T12:11:35.558425Z",
     "iopub.status.busy": "2021-06-15T12:11:35.557876Z",
     "iopub.status.idle": "2021-06-15T12:11:35.573994Z",
     "shell.execute_reply": "2021-06-15T12:11:35.574406Z"
    },
    "papermill": {
     "duration": 0.0547,
     "end_time": "2021-06-15T12:11:35.574539",
     "exception": false,
     "start_time": "2021-06-15T12:11:35.519839",
     "status": "completed"
    },
    "tags": []
   },
   "outputs": [
    {
     "data": {
      "text/html": [
       "<div>\n",
       "<style scoped>\n",
       "    .dataframe tbody tr th:only-of-type {\n",
       "        vertical-align: middle;\n",
       "    }\n",
       "\n",
       "    .dataframe tbody tr th {\n",
       "        vertical-align: top;\n",
       "    }\n",
       "\n",
       "    .dataframe thead th {\n",
       "        text-align: right;\n",
       "    }\n",
       "</style>\n",
       "<table border=\"1\" class=\"dataframe\">\n",
       "  <thead>\n",
       "    <tr style=\"text-align: right;\">\n",
       "      <th></th>\n",
       "      <th>Country/Region</th>\n",
       "      <th>Cases</th>\n",
       "      <th>Deaths</th>\n",
       "      <th>PCases</th>\n",
       "      <th>PDeaths</th>\n",
       "      <th>Cases (+)</th>\n",
       "      <th>Deaths (+)</th>\n",
       "      <th>Fatality Rate</th>\n",
       "      <th>Continent</th>\n",
       "    </tr>\n",
       "  </thead>\n",
       "  <tbody>\n",
       "    <tr>\n",
       "      <th>0</th>\n",
       "      <td>US</td>\n",
       "      <td>33474692</td>\n",
       "      <td>599945</td>\n",
       "      <td>33461982</td>\n",
       "      <td>599775</td>\n",
       "      <td>12710</td>\n",
       "      <td>170</td>\n",
       "      <td>1.8</td>\n",
       "      <td>North America</td>\n",
       "    </tr>\n",
       "    <tr>\n",
       "      <th>1</th>\n",
       "      <td>India</td>\n",
       "      <td>29570881</td>\n",
       "      <td>377031</td>\n",
       "      <td>29510410</td>\n",
       "      <td>374305</td>\n",
       "      <td>60471</td>\n",
       "      <td>2726</td>\n",
       "      <td>1.3</td>\n",
       "      <td>Asia</td>\n",
       "    </tr>\n",
       "    <tr>\n",
       "      <th>2</th>\n",
       "      <td>Brazil</td>\n",
       "      <td>17452612</td>\n",
       "      <td>488228</td>\n",
       "      <td>17412766</td>\n",
       "      <td>487401</td>\n",
       "      <td>39846</td>\n",
       "      <td>827</td>\n",
       "      <td>2.8</td>\n",
       "      <td>South America</td>\n",
       "    </tr>\n",
       "    <tr>\n",
       "      <th>3</th>\n",
       "      <td>France</td>\n",
       "      <td>5803012</td>\n",
       "      <td>110616</td>\n",
       "      <td>5802314</td>\n",
       "      <td>110553</td>\n",
       "      <td>698</td>\n",
       "      <td>63</td>\n",
       "      <td>1.9</td>\n",
       "      <td>Europe</td>\n",
       "    </tr>\n",
       "    <tr>\n",
       "      <th>4</th>\n",
       "      <td>Turkey</td>\n",
       "      <td>5336073</td>\n",
       "      <td>48795</td>\n",
       "      <td>5330447</td>\n",
       "      <td>48721</td>\n",
       "      <td>5626</td>\n",
       "      <td>74</td>\n",
       "      <td>0.9</td>\n",
       "      <td>Asia</td>\n",
       "    </tr>\n",
       "  </tbody>\n",
       "</table>\n",
       "</div>"
      ],
      "text/plain": [
       "  Country/Region     Cases  Deaths    PCases  PDeaths  Cases (+)  Deaths (+)  \\\n",
       "0             US  33474692  599945  33461982   599775      12710         170   \n",
       "1          India  29570881  377031  29510410   374305      60471        2726   \n",
       "2         Brazil  17452612  488228  17412766   487401      39846         827   \n",
       "3         France   5803012  110616   5802314   110553        698          63   \n",
       "4         Turkey   5336073   48795   5330447    48721       5626          74   \n",
       "\n",
       "   Fatality Rate      Continent  \n",
       "0            1.8  North America  \n",
       "1            1.3           Asia  \n",
       "2            2.8  South America  \n",
       "3            1.9         Europe  \n",
       "4            0.9           Asia  "
      ]
     },
     "execution_count": 15,
     "metadata": {},
     "output_type": "execute_result"
    }
   ],
   "source": [
    "#hide\n",
    "df_table = (pd.DataFrame(dict(Cases=dfc_cases, Deaths=dfc_deaths, PCases=dfp_cases, PDeaths=dfp_deaths))\n",
    "             .sort_values(by=['Cases', 'Deaths'], ascending=[False, False])\n",
    "             .reset_index())\n",
    "df_table.rename(columns={'index': 'Country/Region'}, inplace=True)\n",
    "for c in 'Cases, Deaths'.split(', '):\n",
    "    df_table[f'{c} (+)'] = (df_table[c] - df_table[f'P{c}']).clip(0)  # DATA BUG\n",
    "df_table['Fatality Rate'] = (100 * df_table['Deaths'] / df_table['Cases']).round(1)\n",
    "df_table['Continent'] = df_table['Country/Region'].map(mapping['map.continent'])\n",
    "df_table.head(5)"
   ]
  },
  {
   "cell_type": "code",
   "execution_count": 16,
   "id": "fewer-occasion",
   "metadata": {
    "execution": {
     "iopub.execute_input": "2021-06-15T12:11:35.641118Z",
     "iopub.status.busy": "2021-06-15T12:11:35.640625Z",
     "iopub.status.idle": "2021-06-15T12:11:35.643707Z",
     "shell.execute_reply": "2021-06-15T12:11:35.643300Z"
    },
    "papermill": {
     "duration": 0.038372,
     "end_time": "2021-06-15T12:11:35.643812",
     "exception": false,
     "start_time": "2021-06-15T12:11:35.605440",
     "status": "completed"
    },
    "tags": []
   },
   "outputs": [],
   "source": [
    "#hide\n",
    "#delete problematic countries from table\n",
    "df_table = df_table[~df_table['Country/Region'].isin(['Cape Verde', 'Cruise Ship', 'Kosovo'])]"
   ]
  },
  {
   "cell_type": "code",
   "execution_count": 17,
   "id": "related-center",
   "metadata": {
    "execution": {
     "iopub.execute_input": "2021-06-15T12:11:35.723671Z",
     "iopub.status.busy": "2021-06-15T12:11:35.723140Z",
     "iopub.status.idle": "2021-06-15T12:11:35.724766Z",
     "shell.execute_reply": "2021-06-15T12:11:35.725167Z"
    },
    "papermill": {
     "duration": 0.050793,
     "end_time": "2021-06-15T12:11:35.725294",
     "exception": false,
     "start_time": "2021-06-15T12:11:35.674501",
     "status": "completed"
    },
    "tags": []
   },
   "outputs": [],
   "source": [
    "#hide\n",
    "metrics = [df_table.columns[index] for index in [1,2,5,6]]\n",
    "# s_china = df_table[df_table['Country/Region'].eq('China')][metrics].sum().add_prefix('China ')\n",
    "s_us = df_table[df_table['Country/Region'].eq('US')][metrics].sum().add_prefix('US ')\n",
    "s_eu = df_table[df_table['Continent'].eq('Europe')][metrics].sum().add_prefix('EU ')\n",
    "s_ind = df_table[df_table['Country/Region'].eq('India')][metrics].sum().add_prefix('India ')\n",
    "summary = {'updated': pd.to_datetime(dt_today), 'since': pd.to_datetime(dt_yday)}\n",
    "summary = {'updated': pd.to_datetime(dt_today), 'since': pd.to_datetime(dt_yday)}\n",
    "summary = {**summary, **df_table[metrics].sum(), **s_ind, **s_us, **s_eu}"
   ]
  },
  {
   "cell_type": "code",
   "execution_count": 18,
   "id": "engaging-syndrome",
   "metadata": {
    "execution": {
     "iopub.execute_input": "2021-06-15T12:11:35.791643Z",
     "iopub.status.busy": "2021-06-15T12:11:35.791135Z",
     "iopub.status.idle": "2021-06-15T12:11:35.804722Z",
     "shell.execute_reply": "2021-06-15T12:11:35.804306Z"
    },
    "papermill": {
     "duration": 0.048696,
     "end_time": "2021-06-15T12:11:35.804834",
     "exception": false,
     "start_time": "2021-06-15T12:11:35.756138",
     "status": "completed"
    },
    "tags": []
   },
   "outputs": [],
   "source": [
    "#hide\n",
    "dft_ct_new_cases = dft_cases.groupby(COL_REGION)[dt_cols].sum().diff(axis=1).fillna(0).astype(int)"
   ]
  },
  {
   "cell_type": "code",
   "execution_count": 19,
   "id": "neutral-assignment",
   "metadata": {
    "execution": {
     "iopub.execute_input": "2021-06-15T12:11:35.868771Z",
     "iopub.status.busy": "2021-06-15T12:11:35.868258Z",
     "iopub.status.idle": "2021-06-15T12:11:35.873339Z",
     "shell.execute_reply": "2021-06-15T12:11:35.872925Z"
    },
    "papermill": {
     "duration": 0.037952,
     "end_time": "2021-06-15T12:11:35.873450",
     "exception": false,
     "start_time": "2021-06-15T12:11:35.835498",
     "status": "completed"
    },
    "tags": []
   },
   "outputs": [],
   "source": [
    "#hide\n",
    "everydaycases = dft_ct_new_cases.cumsum(axis=1)"
   ]
  },
  {
   "cell_type": "code",
   "execution_count": 20,
   "id": "parliamentary-calgary",
   "metadata": {
    "execution": {
     "iopub.execute_input": "2021-06-15T12:11:35.939805Z",
     "iopub.status.busy": "2021-06-15T12:11:35.939292Z",
     "iopub.status.idle": "2021-06-15T12:11:36.406023Z",
     "shell.execute_reply": "2021-06-15T12:11:36.405572Z"
    },
    "papermill": {
     "duration": 0.50181,
     "end_time": "2021-06-15T12:11:36.406168",
     "exception": false,
     "start_time": "2021-06-15T12:11:35.904358",
     "status": "completed"
    },
    "tags": []
   },
   "outputs": [],
   "source": [
    "#hide\n",
    "import pandas as pd\n",
    "import matplotlib.pyplot as plt\n",
    "import matplotlib.ticker as ticker\n",
    "import matplotlib.animation as animation\n",
    "from IPython.display import HTML"
   ]
  },
  {
   "cell_type": "code",
   "execution_count": 21,
   "id": "lasting-extraction",
   "metadata": {
    "execution": {
     "iopub.execute_input": "2021-06-15T12:11:36.473337Z",
     "iopub.status.busy": "2021-06-15T12:11:36.472832Z",
     "iopub.status.idle": "2021-06-15T12:11:36.478130Z",
     "shell.execute_reply": "2021-06-15T12:11:36.478602Z"
    },
    "papermill": {
     "duration": 0.041759,
     "end_time": "2021-06-15T12:11:36.478729",
     "exception": false,
     "start_time": "2021-06-15T12:11:36.436970",
     "status": "completed"
    },
    "tags": []
   },
   "outputs": [],
   "source": [
    "#hide\n",
    "t = everydaycases.stack()"
   ]
  },
  {
   "cell_type": "code",
   "execution_count": 22,
   "id": "premier-sleeve",
   "metadata": {
    "execution": {
     "iopub.execute_input": "2021-06-15T12:11:36.544617Z",
     "iopub.status.busy": "2021-06-15T12:11:36.544110Z",
     "iopub.status.idle": "2021-06-15T12:11:36.551870Z",
     "shell.execute_reply": "2021-06-15T12:11:36.552292Z"
    },
    "papermill": {
     "duration": 0.042765,
     "end_time": "2021-06-15T12:11:36.552420",
     "exception": false,
     "start_time": "2021-06-15T12:11:36.509655",
     "status": "completed"
    },
    "tags": []
   },
   "outputs": [],
   "source": [
    "#hide\n",
    "g = t.reset_index(['Country/Region'])"
   ]
  },
  {
   "cell_type": "code",
   "execution_count": 23,
   "id": "distributed-pittsburgh",
   "metadata": {
    "execution": {
     "iopub.execute_input": "2021-06-15T12:11:36.617663Z",
     "iopub.status.busy": "2021-06-15T12:11:36.617155Z",
     "iopub.status.idle": "2021-06-15T12:11:36.619604Z",
     "shell.execute_reply": "2021-06-15T12:11:36.619109Z"
    },
    "papermill": {
     "duration": 0.036669,
     "end_time": "2021-06-15T12:11:36.619709",
     "exception": false,
     "start_time": "2021-06-15T12:11:36.583040",
     "status": "completed"
    },
    "tags": []
   },
   "outputs": [],
   "source": [
    "#hide\n",
    "g.index.name = 'date'"
   ]
  },
  {
   "cell_type": "code",
   "execution_count": 24,
   "id": "naked-donor",
   "metadata": {
    "execution": {
     "iopub.execute_input": "2021-06-15T12:11:36.684852Z",
     "iopub.status.busy": "2021-06-15T12:11:36.684349Z",
     "iopub.status.idle": "2021-06-15T12:11:36.686063Z",
     "shell.execute_reply": "2021-06-15T12:11:36.686563Z"
    },
    "papermill": {
     "duration": 0.036189,
     "end_time": "2021-06-15T12:11:36.686685",
     "exception": false,
     "start_time": "2021-06-15T12:11:36.650496",
     "status": "completed"
    },
    "tags": []
   },
   "outputs": [],
   "source": [
    "# #hide\n",
    "# g = g.reset_index(['date'])"
   ]
  },
  {
   "cell_type": "code",
   "execution_count": 25,
   "id": "incomplete-mustang",
   "metadata": {
    "execution": {
     "iopub.execute_input": "2021-06-15T12:11:36.751822Z",
     "iopub.status.busy": "2021-06-15T12:11:36.751321Z",
     "iopub.status.idle": "2021-06-15T12:11:36.753504Z",
     "shell.execute_reply": "2021-06-15T12:11:36.753099Z"
    },
    "papermill": {
     "duration": 0.03628,
     "end_time": "2021-06-15T12:11:36.753610",
     "exception": false,
     "start_time": "2021-06-15T12:11:36.717330",
     "status": "completed"
    },
    "tags": []
   },
   "outputs": [],
   "source": [
    "#hide\n",
    "# g.head()"
   ]
  },
  {
   "cell_type": "code",
   "execution_count": 26,
   "id": "specific-kruger",
   "metadata": {
    "execution": {
     "iopub.execute_input": "2021-06-15T12:11:36.818878Z",
     "iopub.status.busy": "2021-06-15T12:11:36.818370Z",
     "iopub.status.idle": "2021-06-15T12:11:36.820109Z",
     "shell.execute_reply": "2021-06-15T12:11:36.820508Z"
    },
    "papermill": {
     "duration": 0.0362,
     "end_time": "2021-06-15T12:11:36.820628",
     "exception": false,
     "start_time": "2021-06-15T12:11:36.784428",
     "status": "completed"
    },
    "tags": []
   },
   "outputs": [],
   "source": [
    "#hide\n",
    "# g.columns = ['date','country','cases']"
   ]
  },
  {
   "cell_type": "code",
   "execution_count": 27,
   "id": "tender-conversion",
   "metadata": {
    "execution": {
     "iopub.execute_input": "2021-06-15T12:11:36.885464Z",
     "iopub.status.busy": "2021-06-15T12:11:36.884961Z",
     "iopub.status.idle": "2021-06-15T12:11:36.886663Z",
     "shell.execute_reply": "2021-06-15T12:11:36.887136Z"
    },
    "papermill": {
     "duration": 0.035997,
     "end_time": "2021-06-15T12:11:36.887258",
     "exception": false,
     "start_time": "2021-06-15T12:11:36.851261",
     "status": "completed"
    },
    "tags": []
   },
   "outputs": [],
   "source": [
    "#hide\n",
    "# g['continent'] = g.country"
   ]
  },
  {
   "cell_type": "code",
   "execution_count": 28,
   "id": "substantial-wilderness",
   "metadata": {
    "execution": {
     "iopub.execute_input": "2021-06-15T12:11:36.952565Z",
     "iopub.status.busy": "2021-06-15T12:11:36.952062Z",
     "iopub.status.idle": "2021-06-15T12:11:36.953874Z",
     "shell.execute_reply": "2021-06-15T12:11:36.954335Z"
    },
    "papermill": {
     "duration": 0.036392,
     "end_time": "2021-06-15T12:11:36.954465",
     "exception": false,
     "start_time": "2021-06-15T12:11:36.918073",
     "status": "completed"
    },
    "tags": []
   },
   "outputs": [],
   "source": [
    "#hide\n",
    "# cols = list(g.columns.values)"
   ]
  },
  {
   "cell_type": "code",
   "execution_count": 29,
   "id": "solved-farming",
   "metadata": {
    "execution": {
     "iopub.execute_input": "2021-06-15T12:11:37.019313Z",
     "iopub.status.busy": "2021-06-15T12:11:37.018811Z",
     "iopub.status.idle": "2021-06-15T12:11:37.020993Z",
     "shell.execute_reply": "2021-06-15T12:11:37.020569Z"
    },
    "papermill": {
     "duration": 0.036036,
     "end_time": "2021-06-15T12:11:37.021096",
     "exception": false,
     "start_time": "2021-06-15T12:11:36.985060",
     "status": "completed"
    },
    "tags": []
   },
   "outputs": [],
   "source": [
    "#hide\n",
    "# cols.insert(0, cols.pop())"
   ]
  },
  {
   "cell_type": "code",
   "execution_count": 30,
   "id": "executed-adoption",
   "metadata": {
    "execution": {
     "iopub.execute_input": "2021-06-15T12:11:37.086074Z",
     "iopub.status.busy": "2021-06-15T12:11:37.085556Z",
     "iopub.status.idle": "2021-06-15T12:11:37.087401Z",
     "shell.execute_reply": "2021-06-15T12:11:37.087830Z"
    },
    "papermill": {
     "duration": 0.036291,
     "end_time": "2021-06-15T12:11:37.087956",
     "exception": false,
     "start_time": "2021-06-15T12:11:37.051665",
     "status": "completed"
    },
    "tags": []
   },
   "outputs": [],
   "source": [
    "#hide\n",
    "# g = g[cols]"
   ]
  },
  {
   "cell_type": "code",
   "execution_count": 31,
   "id": "subject-dublin",
   "metadata": {
    "execution": {
     "iopub.execute_input": "2021-06-15T12:11:37.153197Z",
     "iopub.status.busy": "2021-06-15T12:11:37.152696Z",
     "iopub.status.idle": "2021-06-15T12:11:37.154530Z",
     "shell.execute_reply": "2021-06-15T12:11:37.154932Z"
    },
    "papermill": {
     "duration": 0.036316,
     "end_time": "2021-06-15T12:11:37.155055",
     "exception": false,
     "start_time": "2021-06-15T12:11:37.118739",
     "status": "completed"
    },
    "tags": []
   },
   "outputs": [],
   "source": [
    "#hide\n",
    "# g['continent'] = g['continent'].map(mapping['map.continent'])"
   ]
  },
  {
   "cell_type": "code",
   "execution_count": 32,
   "id": "freelance-scout",
   "metadata": {
    "execution": {
     "iopub.execute_input": "2021-06-15T12:11:37.220767Z",
     "iopub.status.busy": "2021-06-15T12:11:37.220259Z",
     "iopub.status.idle": "2021-06-15T12:11:37.222103Z",
     "shell.execute_reply": "2021-06-15T12:11:37.222515Z"
    },
    "papermill": {
     "duration": 0.036324,
     "end_time": "2021-06-15T12:11:37.222638",
     "exception": false,
     "start_time": "2021-06-15T12:11:37.186314",
     "status": "completed"
    },
    "tags": []
   },
   "outputs": [],
   "source": [
    "#hide\n",
    "# g.head()"
   ]
  },
  {
   "cell_type": "code",
   "execution_count": 33,
   "id": "limited-engine",
   "metadata": {
    "execution": {
     "iopub.execute_input": "2021-06-15T12:11:37.287834Z",
     "iopub.status.busy": "2021-06-15T12:11:37.287333Z",
     "iopub.status.idle": "2021-06-15T12:11:37.289024Z",
     "shell.execute_reply": "2021-06-15T12:11:37.289502Z"
    },
    "papermill": {
     "duration": 0.036284,
     "end_time": "2021-06-15T12:11:37.289624",
     "exception": false,
     "start_time": "2021-06-15T12:11:37.253340",
     "status": "completed"
    },
    "tags": []
   },
   "outputs": [],
   "source": [
    "# hide\n",
    "# g['date'] = g['date'].astype('datetime64[ns]')"
   ]
  },
  {
   "cell_type": "code",
   "execution_count": 34,
   "id": "sophisticated-supervisor",
   "metadata": {
    "execution": {
     "iopub.execute_input": "2021-06-15T12:11:37.354983Z",
     "iopub.status.busy": "2021-06-15T12:11:37.354469Z",
     "iopub.status.idle": "2021-06-15T12:11:37.356079Z",
     "shell.execute_reply": "2021-06-15T12:11:37.356456Z"
    },
    "papermill": {
     "duration": 0.035963,
     "end_time": "2021-06-15T12:11:37.356583",
     "exception": false,
     "start_time": "2021-06-15T12:11:37.320620",
     "status": "completed"
    },
    "tags": []
   },
   "outputs": [],
   "source": [
    "#hide\n",
    "# g['date'] = g.date.dt.dayofyear"
   ]
  },
  {
   "cell_type": "code",
   "execution_count": 35,
   "id": "inside-dubai",
   "metadata": {
    "execution": {
     "iopub.execute_input": "2021-06-15T12:11:37.421428Z",
     "iopub.status.busy": "2021-06-15T12:11:37.420927Z",
     "iopub.status.idle": "2021-06-15T12:11:37.423115Z",
     "shell.execute_reply": "2021-06-15T12:11:37.422693Z"
    },
    "papermill": {
     "duration": 0.036112,
     "end_time": "2021-06-15T12:11:37.423218",
     "exception": false,
     "start_time": "2021-06-15T12:11:37.387106",
     "status": "completed"
    },
    "tags": []
   },
   "outputs": [],
   "source": [
    "#hide\n",
    "# g = g.rename(columns= {'continent':'group','country':'name','cases':'value'})"
   ]
  },
  {
   "cell_type": "code",
   "execution_count": 36,
   "id": "fleet-motorcycle",
   "metadata": {
    "execution": {
     "iopub.execute_input": "2021-06-15T12:11:37.488069Z",
     "iopub.status.busy": "2021-06-15T12:11:37.487565Z",
     "iopub.status.idle": "2021-06-15T12:11:37.489353Z",
     "shell.execute_reply": "2021-06-15T12:11:37.489731Z"
    },
    "papermill": {
     "duration": 0.036028,
     "end_time": "2021-06-15T12:11:37.489856",
     "exception": false,
     "start_time": "2021-06-15T12:11:37.453828",
     "status": "completed"
    },
    "tags": []
   },
   "outputs": [],
   "source": [
    "#hide\n",
    "# cols = ['name','group','day','value']"
   ]
  },
  {
   "cell_type": "code",
   "execution_count": 37,
   "id": "continued-sleeping",
   "metadata": {
    "execution": {
     "iopub.execute_input": "2021-06-15T12:11:37.554832Z",
     "iopub.status.busy": "2021-06-15T12:11:37.554320Z",
     "iopub.status.idle": "2021-06-15T12:11:37.556465Z",
     "shell.execute_reply": "2021-06-15T12:11:37.556066Z"
    },
    "papermill": {
     "duration": 0.036097,
     "end_time": "2021-06-15T12:11:37.556570",
     "exception": false,
     "start_time": "2021-06-15T12:11:37.520473",
     "status": "completed"
    },
    "tags": []
   },
   "outputs": [],
   "source": [
    "#hide\n",
    "# g.rename(columns= {'date':'day'},inplace = True)"
   ]
  },
  {
   "cell_type": "code",
   "execution_count": 38,
   "id": "major-fight",
   "metadata": {
    "execution": {
     "iopub.execute_input": "2021-06-15T12:11:37.621700Z",
     "iopub.status.busy": "2021-06-15T12:11:37.621186Z",
     "iopub.status.idle": "2021-06-15T12:11:37.623047Z",
     "shell.execute_reply": "2021-06-15T12:11:37.623453Z"
    },
    "papermill": {
     "duration": 0.03631,
     "end_time": "2021-06-15T12:11:37.623580",
     "exception": false,
     "start_time": "2021-06-15T12:11:37.587270",
     "status": "completed"
    },
    "tags": []
   },
   "outputs": [],
   "source": [
    "#hide\n",
    "# g = g[cols]"
   ]
  },
  {
   "cell_type": "code",
   "execution_count": 39,
   "id": "structured-mobile",
   "metadata": {
    "execution": {
     "iopub.execute_input": "2021-06-15T12:11:37.688881Z",
     "iopub.status.busy": "2021-06-15T12:11:37.688366Z",
     "iopub.status.idle": "2021-06-15T12:11:37.690087Z",
     "shell.execute_reply": "2021-06-15T12:11:37.690539Z"
    },
    "papermill": {
     "duration": 0.036297,
     "end_time": "2021-06-15T12:11:37.690667",
     "exception": false,
     "start_time": "2021-06-15T12:11:37.654370",
     "status": "completed"
    },
    "tags": []
   },
   "outputs": [],
   "source": [
    "# #hide\n",
    "# g = g[g.group.notna()]"
   ]
  },
  {
   "cell_type": "code",
   "execution_count": 40,
   "id": "determined-closing",
   "metadata": {
    "execution": {
     "iopub.execute_input": "2021-06-15T12:11:37.755914Z",
     "iopub.status.busy": "2021-06-15T12:11:37.755409Z",
     "iopub.status.idle": "2021-06-15T12:11:37.757597Z",
     "shell.execute_reply": "2021-06-15T12:11:37.757189Z"
    },
    "papermill": {
     "duration": 0.036205,
     "end_time": "2021-06-15T12:11:37.757706",
     "exception": false,
     "start_time": "2021-06-15T12:11:37.721501",
     "status": "completed"
    },
    "tags": []
   },
   "outputs": [],
   "source": [
    "# #hide\n",
    "# colors = dict(zip(\n",
    "#     [\"Oceania\", \"Europe\", \"Asia\", \"South America\", \"Middle East\", \"North America\", \"Africa\"],\n",
    "#     [\"#adb0ff\", \"#ffb3ff\", \"#90d595\", \"#e48381\", \"#aafbff\", \"#f7bb5f\", \"#eafb50\"]\n",
    "# ))\n",
    "# group_lk = g.set_index('name')['group'].to_dict()"
   ]
  },
  {
   "cell_type": "code",
   "execution_count": null,
   "id": "gross-drinking",
   "metadata": {
    "papermill": {
     "duration": 0.030557,
     "end_time": "2021-06-15T12:11:37.818908",
     "exception": false,
     "start_time": "2021-06-15T12:11:37.788351",
     "status": "completed"
    },
    "tags": []
   },
   "outputs": [],
   "source": []
  },
  {
   "cell_type": "code",
   "execution_count": 41,
   "id": "subject-macintosh",
   "metadata": {
    "execution": {
     "iopub.execute_input": "2021-06-15T12:11:37.884846Z",
     "iopub.status.busy": "2021-06-15T12:11:37.884324Z",
     "iopub.status.idle": "2021-06-15T12:11:37.886374Z",
     "shell.execute_reply": "2021-06-15T12:11:37.885947Z"
    },
    "papermill": {
     "duration": 0.036692,
     "end_time": "2021-06-15T12:11:37.886486",
     "exception": false,
     "start_time": "2021-06-15T12:11:37.849794",
     "status": "completed"
    },
    "tags": []
   },
   "outputs": [],
   "source": [
    "# #hide\n",
    "# fig, ax = plt.subplots(figsize=(15, 8))\n",
    "\n",
    "# def draw_barchart(current_day):\n",
    "#     dff = g[g['day'].eq(current_day)].sort_values(by='value', ascending=True).tail(10)\n",
    "#     ax.clear()\n",
    "#     ax.barh(dff['name'], dff['value'], color=[colors[group_lk[x]] for x in dff['name']])\n",
    "#     dx = dff['value'].max() / 200\n",
    "    \n",
    "#     for i, (value, name) in enumerate(zip(dff['value'], dff['name'])):\n",
    "#         ax.text(value-dx, i,     name,           size=14, weight=600, ha='right', va='bottom')\n",
    "#         ax.text(value-dx, i-.25, group_lk[name], size=10, color='#444444', ha='right', va='baseline')\n",
    "#         ax.text(value+dx, i,     f'{value:,.0f}',  size=14, ha='left',  va='center')\n",
    "#     ax.text(1, 0.4, current_day, transform=ax.transAxes, color='#777777', size=46, ha='right', weight=800)\n",
    "#     ax.text(0, 1.06, 'Population (thousands)', transform=ax.transAxes, size=12, color='#777777')\n",
    "#     ax.xaxis.set_major_formatter(ticker.StrMethodFormatter('{x:,.0f}'))\n",
    "#     ax.xaxis.set_ticks_position('top')\n",
    "#     ax.tick_params(axis='x', colors='#777777', labelsize=12)\n",
    "#     ax.set_yticks([])\n",
    "#     ax.margins(0, 0.01)\n",
    "#     ax.grid(which='major', axis='x', linestyle='-')\n",
    "#     ax.set_axisbelow(True)\n",
    "    \n",
    "#     ax.text(0, 1.15, 'Coronavirus',\n",
    "#             transform=ax.transAxes, size=24, weight=600, ha='left', va='top')\n",
    "# #     ax.text(1, 0, 'by @pratapvardhan; credit @jburnmurdoch', transform=ax.transAxes, color='#777777', ha='right',\n",
    "# #             bbox=dict(facecolor='white', alpha=0.8, edgecolor='white'))\n",
    "#     plt.box(False)"
   ]
  },
  {
   "cell_type": "code",
   "execution_count": 42,
   "id": "sexual-wages",
   "metadata": {
    "execution": {
     "iopub.execute_input": "2021-06-15T12:11:37.951997Z",
     "iopub.status.busy": "2021-06-15T12:11:37.951494Z",
     "iopub.status.idle": "2021-06-15T12:11:37.953247Z",
     "shell.execute_reply": "2021-06-15T12:11:37.953649Z"
    },
    "papermill": {
     "duration": 0.036495,
     "end_time": "2021-06-15T12:11:37.953768",
     "exception": false,
     "start_time": "2021-06-15T12:11:37.917273",
     "status": "completed"
    },
    "tags": []
   },
   "outputs": [],
   "source": [
    "# #hide_input\n",
    "# fig, ax = plt.subplots(figsize=(15, 8))\n",
    "# animator = animation.FuncAnimation(fig, draw_barchart, frames=range(g.day.values.min(), g.day.values.max()))\n",
    "# HTML(animator.to_jshtml())\n",
    "# # or use animator.to_html5_video() or animator.save() "
   ]
  },
  {
   "cell_type": "code",
   "execution_count": null,
   "id": "australian-container",
   "metadata": {
    "papermill": {
     "duration": 0.030638,
     "end_time": "2021-06-15T12:11:38.015127",
     "exception": false,
     "start_time": "2021-06-15T12:11:37.984489",
     "status": "completed"
    },
    "tags": []
   },
   "outputs": [],
   "source": []
  },
  {
   "cell_type": "code",
   "execution_count": null,
   "id": "mediterranean-pontiac",
   "metadata": {
    "papermill": {
     "duration": 0.03063,
     "end_time": "2021-06-15T12:11:38.076410",
     "exception": false,
     "start_time": "2021-06-15T12:11:38.045780",
     "status": "completed"
    },
    "tags": []
   },
   "outputs": [],
   "source": []
  },
  {
   "cell_type": "code",
   "execution_count": null,
   "id": "aging-legislature",
   "metadata": {
    "papermill": {
     "duration": 0.030581,
     "end_time": "2021-06-15T12:11:38.137796",
     "exception": false,
     "start_time": "2021-06-15T12:11:38.107215",
     "status": "completed"
    },
    "tags": []
   },
   "outputs": [],
   "source": []
  }
 ],
 "metadata": {
  "kernelspec": {
   "display_name": "Python 3",
   "language": "python",
   "name": "python3"
  },
  "language_info": {
   "codemirror_mode": {
    "name": "ipython",
    "version": 3
   },
   "file_extension": ".py",
   "mimetype": "text/x-python",
   "name": "python",
   "nbconvert_exporter": "python",
   "pygments_lexer": "ipython3",
   "version": "3.6.13"
  },
  "papermill": {
   "duration": 5.600456,
   "end_time": "2021-06-15T12:11:38.475172",
   "environment_variables": {},
   "exception": null,
   "input_path": "2020-03-21-covid19exp.ipynb",
   "output_path": "2020-03-21-covid19exp.ipynb",
   "parameters": {},
   "start_time": "2021-06-15T12:11:32.874716",
   "version": "2.0.0"
  }
 },
 "nbformat": 4,
 "nbformat_minor": 5
}