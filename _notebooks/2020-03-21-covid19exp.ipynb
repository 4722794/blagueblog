{
 "cells": [
  {
   "cell_type": "markdown",
   "id": "muslim-click",
   "metadata": {
    "papermill": {
     "duration": 0.035973,
     "end_time": "2022-11-12T12:15:59.893834",
     "exception": false,
     "start_time": "2022-11-12T12:15:59.857861",
     "status": "completed"
    },
    "tags": []
   },
   "source": [
    "# COVID-19 Case Race\n",
    "> A race chart to see rising cases around the world\n",
    "\n",
    "- author: Hargun Oberoi\n",
    "- image: images/covid-overview.png\n",
    "- hide: false\n",
    "- badges: false"
   ]
  },
  {
   "cell_type": "code",
   "execution_count": 1,
   "id": "proof-material",
   "metadata": {
    "execution": {
     "iopub.execute_input": "2022-11-12T12:15:59.962966Z",
     "iopub.status.busy": "2022-11-12T12:15:59.962373Z",
     "iopub.status.idle": "2022-11-12T12:16:00.287967Z",
     "shell.execute_reply": "2022-11-12T12:16:00.287374Z"
    },
    "papermill": {
     "duration": 0.364607,
     "end_time": "2022-11-12T12:16:00.288121",
     "exception": false,
     "start_time": "2022-11-12T12:15:59.923514",
     "status": "completed"
    },
    "tags": []
   },
   "outputs": [],
   "source": [
    "#hide\n",
    "import numpy as np\n",
    "import pandas as pd\n",
    "from jinja2 import Template\n",
    "from IPython.display import HTML"
   ]
  },
  {
   "cell_type": "code",
   "execution_count": 2,
   "id": "developed-terminology",
   "metadata": {
    "execution": {
     "iopub.execute_input": "2022-11-12T12:16:00.352746Z",
     "iopub.status.busy": "2022-11-12T12:16:00.352027Z",
     "iopub.status.idle": "2022-11-12T12:16:00.353781Z",
     "shell.execute_reply": "2022-11-12T12:16:00.354314Z"
    },
    "papermill": {
     "duration": 0.036557,
     "end_time": "2022-11-12T12:16:00.354462",
     "exception": false,
     "start_time": "2022-11-12T12:16:00.317905",
     "status": "completed"
    },
    "tags": []
   },
   "outputs": [],
   "source": [
    "#hide\n",
    "\n",
    "# FETCH\n",
    "base_url = 'https://raw.githubusercontent.com/pratapvardhan/notebooks/master/covid19/'\n",
    "paths = {\n",
    "    'mapping': base_url + 'mapping_countries.csv',\n",
    "    'overview': base_url + 'overview.tpl'\n",
    "}"
   ]
  },
  {
   "cell_type": "code",
   "execution_count": 3,
   "id": "dynamic-saver",
   "metadata": {
    "execution": {
     "iopub.execute_input": "2022-11-12T12:16:00.422500Z",
     "iopub.status.busy": "2022-11-12T12:16:00.421916Z",
     "iopub.status.idle": "2022-11-12T12:16:00.425521Z",
     "shell.execute_reply": "2022-11-12T12:16:00.425072Z"
    },
    "papermill": {
     "duration": 0.04218,
     "end_time": "2022-11-12T12:16:00.425638",
     "exception": false,
     "start_time": "2022-11-12T12:16:00.383458",
     "status": "completed"
    },
    "tags": []
   },
   "outputs": [
    {
     "data": {
      "text/plain": [
       "'https://raw.githubusercontent.com/pratapvardhan/notebooks/master/covid19/mapping_countries.csv'"
      ]
     },
     "execution_count": 3,
     "metadata": {},
     "output_type": "execute_result"
    }
   ],
   "source": [
    "#hide\n",
    "paths['mapping']"
   ]
  },
  {
   "cell_type": "code",
   "execution_count": 4,
   "id": "urban-software",
   "metadata": {
    "execution": {
     "iopub.execute_input": "2022-11-12T12:16:00.489559Z",
     "iopub.status.busy": "2022-11-12T12:16:00.488980Z",
     "iopub.status.idle": "2022-11-12T12:16:00.491274Z",
     "shell.execute_reply": "2022-11-12T12:16:00.491849Z"
    },
    "papermill": {
     "duration": 0.037012,
     "end_time": "2022-11-12T12:16:00.491977",
     "exception": false,
     "start_time": "2022-11-12T12:16:00.454965",
     "status": "completed"
    },
    "tags": []
   },
   "outputs": [],
   "source": [
    "#hide\n",
    "def get_mappings(url):\n",
    "    df = pd.read_csv(url)\n",
    "    return {\n",
    "        'df': df,\n",
    "        'replace.country': dict(df.dropna(subset=['Name']).set_index('Country')['Name']),\n",
    "        'map.continent': dict(df.set_index('Name')['Continent'])\n",
    "    }"
   ]
  },
  {
   "cell_type": "code",
   "execution_count": 5,
   "id": "intimate-machinery",
   "metadata": {
    "execution": {
     "iopub.execute_input": "2022-11-12T12:16:00.556097Z",
     "iopub.status.busy": "2022-11-12T12:16:00.555508Z",
     "iopub.status.idle": "2022-11-12T12:16:00.582703Z",
     "shell.execute_reply": "2022-11-12T12:16:00.582176Z"
    },
    "papermill": {
     "duration": 0.061762,
     "end_time": "2022-11-12T12:16:00.582837",
     "exception": false,
     "start_time": "2022-11-12T12:16:00.521075",
     "status": "completed"
    },
    "tags": []
   },
   "outputs": [],
   "source": [
    "#hide\n",
    "mapping = get_mappings(paths['mapping'])"
   ]
  },
  {
   "cell_type": "code",
   "execution_count": 6,
   "id": "certified-tactics",
   "metadata": {
    "execution": {
     "iopub.execute_input": "2022-11-12T12:16:00.648312Z",
     "iopub.status.busy": "2022-11-12T12:16:00.647715Z",
     "iopub.status.idle": "2022-11-12T12:16:00.650117Z",
     "shell.execute_reply": "2022-11-12T12:16:00.650697Z"
    },
    "papermill": {
     "duration": 0.037484,
     "end_time": "2022-11-12T12:16:00.650830",
     "exception": false,
     "start_time": "2022-11-12T12:16:00.613346",
     "status": "completed"
    },
    "tags": []
   },
   "outputs": [],
   "source": [
    "#hide\n",
    "def get_template(path):\n",
    "    from urllib.parse import urlparse\n",
    "    if bool(urlparse(path).netloc):\n",
    "        from urllib.request import urlopen\n",
    "        return urlopen(path).read().decode('utf8')\n",
    "    return open(path).read()"
   ]
  },
  {
   "cell_type": "code",
   "execution_count": 7,
   "id": "realistic-blast",
   "metadata": {
    "execution": {
     "iopub.execute_input": "2022-11-12T12:16:00.714839Z",
     "iopub.status.busy": "2022-11-12T12:16:00.714222Z",
     "iopub.status.idle": "2022-11-12T12:16:00.716852Z",
     "shell.execute_reply": "2022-11-12T12:16:00.716400Z"
    },
    "papermill": {
     "duration": 0.036933,
     "end_time": "2022-11-12T12:16:00.716973",
     "exception": false,
     "start_time": "2022-11-12T12:16:00.680040",
     "status": "completed"
    },
    "tags": []
   },
   "outputs": [],
   "source": [
    "#hide\n",
    "def get_frame(name):\n",
    "    url = (\n",
    "        'https://raw.githubusercontent.com/CSSEGISandData/COVID-19/master/csse_covid_19_data/'\n",
    "        f'csse_covid_19_time_series/time_series_covid19_{name}_global.csv')\n",
    "    df = pd.read_csv(url)\n",
    "    # rename countries\n",
    "    df['Country/Region'] = df['Country/Region'].replace(mapping['replace.country'])\n",
    "    return df"
   ]
  },
  {
   "cell_type": "code",
   "execution_count": 8,
   "id": "affiliated-characterization",
   "metadata": {
    "execution": {
     "iopub.execute_input": "2022-11-12T12:16:00.783299Z",
     "iopub.status.busy": "2022-11-12T12:16:00.782581Z",
     "iopub.status.idle": "2022-11-12T12:16:00.784202Z",
     "shell.execute_reply": "2022-11-12T12:16:00.784735Z"
    },
    "papermill": {
     "duration": 0.038005,
     "end_time": "2022-11-12T12:16:00.784871",
     "exception": false,
     "start_time": "2022-11-12T12:16:00.746866",
     "status": "completed"
    },
    "tags": []
   },
   "outputs": [],
   "source": [
    "#hide\n",
    "def get_dates(df):\n",
    "    dt_cols = df.columns[~df.columns.isin(['Province/State', 'Country/Region', 'Lat', 'Long'])]\n",
    "    LAST_DATE_I = -1\n",
    "    # sometimes last column may be empty, then go backwards\n",
    "    for i in range(-1, -len(dt_cols), -1):\n",
    "        if not df[dt_cols[i]].fillna(0).eq(0).all():\n",
    "            LAST_DATE_I = i\n",
    "            break\n",
    "    return LAST_DATE_I, dt_cols"
   ]
  },
  {
   "cell_type": "code",
   "execution_count": 9,
   "id": "recent-optimization",
   "metadata": {
    "execution": {
     "iopub.execute_input": "2022-11-12T12:16:00.848947Z",
     "iopub.status.busy": "2022-11-12T12:16:00.848354Z",
     "iopub.status.idle": "2022-11-12T12:16:01.250086Z",
     "shell.execute_reply": "2022-11-12T12:16:01.249100Z"
    },
    "papermill": {
     "duration": 0.436153,
     "end_time": "2022-11-12T12:16:01.250240",
     "exception": false,
     "start_time": "2022-11-12T12:16:00.814087",
     "status": "completed"
    },
    "tags": []
   },
   "outputs": [],
   "source": [
    "#hide\n",
    "COL_REGION = 'Country/Region'\n",
    "# Confirmed, Recovered, Deaths\n",
    "df = get_frame('confirmed')\n",
    "# dft_: timeseries, dfc_: today country agg\n",
    "dft_cases = df\n",
    "dft_deaths = get_frame('deaths')\n",
    "dft_recovered = get_frame('recovered')\n",
    "LAST_DATE_I, dt_cols = get_dates(df)"
   ]
  },
  {
   "cell_type": "code",
   "execution_count": 10,
   "id": "absolute-copper",
   "metadata": {
    "execution": {
     "iopub.execute_input": "2022-11-12T12:16:01.315362Z",
     "iopub.status.busy": "2022-11-12T12:16:01.314743Z",
     "iopub.status.idle": "2022-11-12T12:16:01.317971Z",
     "shell.execute_reply": "2022-11-12T12:16:01.317498Z"
    },
    "papermill": {
     "duration": 0.037975,
     "end_time": "2022-11-12T12:16:01.318087",
     "exception": false,
     "start_time": "2022-11-12T12:16:01.280112",
     "status": "completed"
    },
    "tags": []
   },
   "outputs": [],
   "source": [
    "#hide\n",
    "LAST_DATE_I, dt_cols = get_dates(df)\n",
    "dt_today =dt_cols[LAST_DATE_I]\n",
    "# dt_5day = dt_cols[LAST_DATE_I - 5]\n",
    "dt_yday = dt_cols[LAST_DATE_I - 1]"
   ]
  },
  {
   "cell_type": "code",
   "execution_count": 11,
   "id": "restricted-sheriff",
   "metadata": {
    "execution": {
     "iopub.execute_input": "2022-11-12T12:16:01.384624Z",
     "iopub.status.busy": "2022-11-12T12:16:01.384032Z",
     "iopub.status.idle": "2022-11-12T12:16:01.389994Z",
     "shell.execute_reply": "2022-11-12T12:16:01.390533Z"
    },
    "papermill": {
     "duration": 0.043397,
     "end_time": "2022-11-12T12:16:01.390668",
     "exception": false,
     "start_time": "2022-11-12T12:16:01.347271",
     "status": "completed"
    },
    "tags": []
   },
   "outputs": [],
   "source": [
    "#hide\n",
    "dfc_cases = dft_cases.groupby(COL_REGION)[dt_today].sum()\n",
    "dfc_deaths = dft_deaths.groupby(COL_REGION)[dt_today].sum()\n",
    "# dfp_cases = dft_cases.groupby(COL_REGION)[dt_5day].sum()\n",
    "# dfp_deaths = dft_deaths.groupby(COL_REGION)[dt_5day].sum()\n",
    "dfp_cases = dft_cases.groupby(COL_REGION)[dt_yday].sum()\n",
    "dfp_deaths = dft_deaths.groupby(COL_REGION)[dt_yday].sum()"
   ]
  },
  {
   "cell_type": "code",
   "execution_count": 12,
   "id": "deluxe-hepatitis",
   "metadata": {
    "execution": {
     "iopub.execute_input": "2022-11-12T12:16:01.455743Z",
     "iopub.status.busy": "2022-11-12T12:16:01.455122Z",
     "iopub.status.idle": "2022-11-12T12:16:01.459697Z",
     "shell.execute_reply": "2022-11-12T12:16:01.460172Z"
    },
    "papermill": {
     "duration": 0.040348,
     "end_time": "2022-11-12T12:16:01.460306",
     "exception": false,
     "start_time": "2022-11-12T12:16:01.419958",
     "status": "completed"
    },
    "tags": []
   },
   "outputs": [],
   "source": [
    "#hide\n",
    "df_table = (pd.DataFrame(dict(Cases = dfc_cases, Deaths = dfc_deaths, PCases = dfp_cases, PDeaths = dfp_deaths))\n",
    "            .sort_values(by = ['Cases','Deaths'], ascending = [False, False])\n",
    "            .reset_index())"
   ]
  },
  {
   "cell_type": "code",
   "execution_count": 13,
   "id": "educational-chancellor",
   "metadata": {
    "execution": {
     "iopub.execute_input": "2022-11-12T12:16:01.537831Z",
     "iopub.status.busy": "2022-11-12T12:16:01.537194Z",
     "iopub.status.idle": "2022-11-12T12:16:01.544725Z",
     "shell.execute_reply": "2022-11-12T12:16:01.545200Z"
    },
    "papermill": {
     "duration": 0.055719,
     "end_time": "2022-11-12T12:16:01.545338",
     "exception": false,
     "start_time": "2022-11-12T12:16:01.489619",
     "status": "completed"
    },
    "tags": []
   },
   "outputs": [
    {
     "data": {
      "text/html": [
       "<div>\n",
       "<style scoped>\n",
       "    .dataframe tbody tr th:only-of-type {\n",
       "        vertical-align: middle;\n",
       "    }\n",
       "\n",
       "    .dataframe tbody tr th {\n",
       "        vertical-align: top;\n",
       "    }\n",
       "\n",
       "    .dataframe thead th {\n",
       "        text-align: right;\n",
       "    }\n",
       "</style>\n",
       "<table border=\"1\" class=\"dataframe\">\n",
       "  <thead>\n",
       "    <tr style=\"text-align: right;\">\n",
       "      <th></th>\n",
       "      <th>Country/Region</th>\n",
       "      <th>Cases</th>\n",
       "      <th>Deaths</th>\n",
       "      <th>PCases</th>\n",
       "      <th>PDeaths</th>\n",
       "      <th>Cases (+)</th>\n",
       "      <th>Deaths (+)</th>\n",
       "      <th>Fatality Rate</th>\n",
       "      <th>Continent</th>\n",
       "    </tr>\n",
       "  </thead>\n",
       "  <tbody>\n",
       "    <tr>\n",
       "      <th>0</th>\n",
       "      <td>US</td>\n",
       "      <td>97990681</td>\n",
       "      <td>1074524</td>\n",
       "      <td>97978279</td>\n",
       "      <td>1074485</td>\n",
       "      <td>12402</td>\n",
       "      <td>39</td>\n",
       "      <td>1.10</td>\n",
       "      <td>North America</td>\n",
       "    </tr>\n",
       "    <tr>\n",
       "      <th>1</th>\n",
       "      <td>India</td>\n",
       "      <td>44665643</td>\n",
       "      <td>530528</td>\n",
       "      <td>44664810</td>\n",
       "      <td>530520</td>\n",
       "      <td>833</td>\n",
       "      <td>8</td>\n",
       "      <td>1.19</td>\n",
       "      <td>Asia</td>\n",
       "    </tr>\n",
       "    <tr>\n",
       "      <th>2</th>\n",
       "      <td>France</td>\n",
       "      <td>37288432</td>\n",
       "      <td>158711</td>\n",
       "      <td>37288432</td>\n",
       "      <td>158711</td>\n",
       "      <td>0</td>\n",
       "      <td>0</td>\n",
       "      <td>0.43</td>\n",
       "      <td>Europe</td>\n",
       "    </tr>\n",
       "    <tr>\n",
       "      <th>3</th>\n",
       "      <td>Germany</td>\n",
       "      <td>36033394</td>\n",
       "      <td>155588</td>\n",
       "      <td>36005025</td>\n",
       "      <td>155403</td>\n",
       "      <td>28369</td>\n",
       "      <td>185</td>\n",
       "      <td>0.43</td>\n",
       "      <td>Europe</td>\n",
       "    </tr>\n",
       "    <tr>\n",
       "      <th>4</th>\n",
       "      <td>Brazil</td>\n",
       "      <td>34908198</td>\n",
       "      <td>688656</td>\n",
       "      <td>34889576</td>\n",
       "      <td>688607</td>\n",
       "      <td>18622</td>\n",
       "      <td>49</td>\n",
       "      <td>1.97</td>\n",
       "      <td>South America</td>\n",
       "    </tr>\n",
       "  </tbody>\n",
       "</table>\n",
       "</div>"
      ],
      "text/plain": [
       "  Country/Region     Cases   Deaths    PCases  PDeaths  Cases (+)  Deaths (+)  \\\n",
       "0             US  97990681  1074524  97978279  1074485      12402          39   \n",
       "1          India  44665643   530528  44664810   530520        833           8   \n",
       "2         France  37288432   158711  37288432   158711          0           0   \n",
       "3        Germany  36033394   155588  36005025   155403      28369         185   \n",
       "4         Brazil  34908198   688656  34889576   688607      18622          49   \n",
       "\n",
       "   Fatality Rate      Continent  \n",
       "0           1.10  North America  \n",
       "1           1.19           Asia  \n",
       "2           0.43         Europe  \n",
       "3           0.43         Europe  \n",
       "4           1.97  South America  "
      ]
     },
     "execution_count": 13,
     "metadata": {},
     "output_type": "execute_result"
    }
   ],
   "source": [
    "#hide\n",
    "for c in 'Cases, Deaths'.split(', '):\n",
    "    df_table[f'{c} (+)'] = (df_table[c] - df_table[f'P{c}']).clip(0)\n",
    "    #Clip ça veut dire, les chiffres negatif sont interdit\n",
    "df_table['Fatality Rate'] = (100* df_table['Deaths']/ df_table['Cases']).round(2)\n",
    "df_table['Continent'] = df_table['Country/Region'].map(mapping['map.continent'])\n",
    "df_table.head(5)"
   ]
  },
  {
   "cell_type": "code",
   "execution_count": 14,
   "id": "aboriginal-bulgaria",
   "metadata": {
    "execution": {
     "iopub.execute_input": "2022-11-12T12:16:01.611054Z",
     "iopub.status.busy": "2022-11-12T12:16:01.610474Z",
     "iopub.status.idle": "2022-11-12T12:16:01.612688Z",
     "shell.execute_reply": "2022-11-12T12:16:01.613236Z"
    },
    "papermill": {
     "duration": 0.038088,
     "end_time": "2022-11-12T12:16:01.613366",
     "exception": false,
     "start_time": "2022-11-12T12:16:01.575278",
     "status": "completed"
    },
    "tags": []
   },
   "outputs": [],
   "source": [
    "#hide\n",
    "#delete problematic countries from table\n",
    "df_table = df_table[~df_table['Country/Region'].isin(['Cape Verde', 'Cruise Ship', 'Kosovo'])]"
   ]
  },
  {
   "cell_type": "code",
   "execution_count": 15,
   "id": "fantastic-effect",
   "metadata": {
    "execution": {
     "iopub.execute_input": "2022-11-12T12:16:01.681885Z",
     "iopub.status.busy": "2022-11-12T12:16:01.681292Z",
     "iopub.status.idle": "2022-11-12T12:16:01.698696Z",
     "shell.execute_reply": "2022-11-12T12:16:01.699173Z"
    },
    "papermill": {
     "duration": 0.056189,
     "end_time": "2022-11-12T12:16:01.699317",
     "exception": false,
     "start_time": "2022-11-12T12:16:01.643128",
     "status": "completed"
    },
    "tags": []
   },
   "outputs": [
    {
     "data": {
      "text/html": [
       "<div>\n",
       "<style scoped>\n",
       "    .dataframe tbody tr th:only-of-type {\n",
       "        vertical-align: middle;\n",
       "    }\n",
       "\n",
       "    .dataframe tbody tr th {\n",
       "        vertical-align: top;\n",
       "    }\n",
       "\n",
       "    .dataframe thead th {\n",
       "        text-align: right;\n",
       "    }\n",
       "</style>\n",
       "<table border=\"1\" class=\"dataframe\">\n",
       "  <thead>\n",
       "    <tr style=\"text-align: right;\">\n",
       "      <th></th>\n",
       "      <th>Country/Region</th>\n",
       "      <th>Cases</th>\n",
       "      <th>Deaths</th>\n",
       "      <th>PCases</th>\n",
       "      <th>PDeaths</th>\n",
       "      <th>Cases (+)</th>\n",
       "      <th>Deaths (+)</th>\n",
       "      <th>Fatality Rate</th>\n",
       "      <th>Continent</th>\n",
       "    </tr>\n",
       "  </thead>\n",
       "  <tbody>\n",
       "    <tr>\n",
       "      <th>0</th>\n",
       "      <td>US</td>\n",
       "      <td>97990681</td>\n",
       "      <td>1074524</td>\n",
       "      <td>97978279</td>\n",
       "      <td>1074485</td>\n",
       "      <td>12402</td>\n",
       "      <td>39</td>\n",
       "      <td>1.1</td>\n",
       "      <td>North America</td>\n",
       "    </tr>\n",
       "    <tr>\n",
       "      <th>1</th>\n",
       "      <td>India</td>\n",
       "      <td>44665643</td>\n",
       "      <td>530528</td>\n",
       "      <td>44664810</td>\n",
       "      <td>530520</td>\n",
       "      <td>833</td>\n",
       "      <td>8</td>\n",
       "      <td>1.2</td>\n",
       "      <td>Asia</td>\n",
       "    </tr>\n",
       "    <tr>\n",
       "      <th>2</th>\n",
       "      <td>France</td>\n",
       "      <td>37288432</td>\n",
       "      <td>158711</td>\n",
       "      <td>37288432</td>\n",
       "      <td>158711</td>\n",
       "      <td>0</td>\n",
       "      <td>0</td>\n",
       "      <td>0.4</td>\n",
       "      <td>Europe</td>\n",
       "    </tr>\n",
       "    <tr>\n",
       "      <th>3</th>\n",
       "      <td>Germany</td>\n",
       "      <td>36033394</td>\n",
       "      <td>155588</td>\n",
       "      <td>36005025</td>\n",
       "      <td>155403</td>\n",
       "      <td>28369</td>\n",
       "      <td>185</td>\n",
       "      <td>0.4</td>\n",
       "      <td>Europe</td>\n",
       "    </tr>\n",
       "    <tr>\n",
       "      <th>4</th>\n",
       "      <td>Brazil</td>\n",
       "      <td>34908198</td>\n",
       "      <td>688656</td>\n",
       "      <td>34889576</td>\n",
       "      <td>688607</td>\n",
       "      <td>18622</td>\n",
       "      <td>49</td>\n",
       "      <td>2.0</td>\n",
       "      <td>South America</td>\n",
       "    </tr>\n",
       "  </tbody>\n",
       "</table>\n",
       "</div>"
      ],
      "text/plain": [
       "  Country/Region     Cases   Deaths    PCases  PDeaths  Cases (+)  Deaths (+)  \\\n",
       "0             US  97990681  1074524  97978279  1074485      12402          39   \n",
       "1          India  44665643   530528  44664810   530520        833           8   \n",
       "2         France  37288432   158711  37288432   158711          0           0   \n",
       "3        Germany  36033394   155588  36005025   155403      28369         185   \n",
       "4         Brazil  34908198   688656  34889576   688607      18622          49   \n",
       "\n",
       "   Fatality Rate      Continent  \n",
       "0            1.1  North America  \n",
       "1            1.2           Asia  \n",
       "2            0.4         Europe  \n",
       "3            0.4         Europe  \n",
       "4            2.0  South America  "
      ]
     },
     "execution_count": 15,
     "metadata": {},
     "output_type": "execute_result"
    }
   ],
   "source": [
    "#hide\n",
    "df_table = (pd.DataFrame(dict(Cases=dfc_cases, Deaths=dfc_deaths, PCases=dfp_cases, PDeaths=dfp_deaths))\n",
    "             .sort_values(by=['Cases', 'Deaths'], ascending=[False, False])\n",
    "             .reset_index())\n",
    "df_table.rename(columns={'index': 'Country/Region'}, inplace=True)\n",
    "for c in 'Cases, Deaths'.split(', '):\n",
    "    df_table[f'{c} (+)'] = (df_table[c] - df_table[f'P{c}']).clip(0)  # DATA BUG\n",
    "df_table['Fatality Rate'] = (100 * df_table['Deaths'] / df_table['Cases']).round(1)\n",
    "df_table['Continent'] = df_table['Country/Region'].map(mapping['map.continent'])\n",
    "df_table.head(5)"
   ]
  },
  {
   "cell_type": "code",
   "execution_count": 16,
   "id": "fewer-occasion",
   "metadata": {
    "execution": {
     "iopub.execute_input": "2022-11-12T12:16:01.766206Z",
     "iopub.status.busy": "2022-11-12T12:16:01.765615Z",
     "iopub.status.idle": "2022-11-12T12:16:01.768625Z",
     "shell.execute_reply": "2022-11-12T12:16:01.769177Z"
    },
    "papermill": {
     "duration": 0.039408,
     "end_time": "2022-11-12T12:16:01.769313",
     "exception": false,
     "start_time": "2022-11-12T12:16:01.729905",
     "status": "completed"
    },
    "tags": []
   },
   "outputs": [],
   "source": [
    "#hide\n",
    "#delete problematic countries from table\n",
    "df_table = df_table[~df_table['Country/Region'].isin(['Cape Verde', 'Cruise Ship', 'Kosovo'])]"
   ]
  },
  {
   "cell_type": "code",
   "execution_count": 17,
   "id": "related-center",
   "metadata": {
    "execution": {
     "iopub.execute_input": "2022-11-12T12:16:01.848192Z",
     "iopub.status.busy": "2022-11-12T12:16:01.847547Z",
     "iopub.status.idle": "2022-11-12T12:16:01.850484Z",
     "shell.execute_reply": "2022-11-12T12:16:01.850002Z"
    },
    "papermill": {
     "duration": 0.05106,
     "end_time": "2022-11-12T12:16:01.850602",
     "exception": false,
     "start_time": "2022-11-12T12:16:01.799542",
     "status": "completed"
    },
    "tags": []
   },
   "outputs": [],
   "source": [
    "#hide\n",
    "metrics = [df_table.columns[index] for index in [1,2,5,6]]\n",
    "# s_china = df_table[df_table['Country/Region'].eq('China')][metrics].sum().add_prefix('China ')\n",
    "s_us = df_table[df_table['Country/Region'].eq('US')][metrics].sum().add_prefix('US ')\n",
    "s_eu = df_table[df_table['Continent'].eq('Europe')][metrics].sum().add_prefix('EU ')\n",
    "s_ind = df_table[df_table['Country/Region'].eq('India')][metrics].sum().add_prefix('India ')\n",
    "summary = {'updated': pd.to_datetime(dt_today), 'since': pd.to_datetime(dt_yday)}\n",
    "summary = {'updated': pd.to_datetime(dt_today), 'since': pd.to_datetime(dt_yday)}\n",
    "summary = {**summary, **df_table[metrics].sum(), **s_ind, **s_us, **s_eu}"
   ]
  },
  {
   "cell_type": "code",
   "execution_count": 18,
   "id": "engaging-syndrome",
   "metadata": {
    "execution": {
     "iopub.execute_input": "2022-11-12T12:16:01.917587Z",
     "iopub.status.busy": "2022-11-12T12:16:01.916988Z",
     "iopub.status.idle": "2022-11-12T12:16:01.939692Z",
     "shell.execute_reply": "2022-11-12T12:16:01.939138Z"
    },
    "papermill": {
     "duration": 0.058618,
     "end_time": "2022-11-12T12:16:01.939828",
     "exception": false,
     "start_time": "2022-11-12T12:16:01.881210",
     "status": "completed"
    },
    "tags": []
   },
   "outputs": [],
   "source": [
    "#hide\n",
    "dft_ct_new_cases = dft_cases.groupby(COL_REGION)[dt_cols].sum().diff(axis=1).fillna(0).astype(int)"
   ]
  },
  {
   "cell_type": "code",
   "execution_count": 19,
   "id": "neutral-assignment",
   "metadata": {
    "execution": {
     "iopub.execute_input": "2022-11-12T12:16:02.008436Z",
     "iopub.status.busy": "2022-11-12T12:16:02.007839Z",
     "iopub.status.idle": "2022-11-12T12:16:02.009742Z",
     "shell.execute_reply": "2022-11-12T12:16:02.010186Z"
    },
    "papermill": {
     "duration": 0.040017,
     "end_time": "2022-11-12T12:16:02.010325",
     "exception": false,
     "start_time": "2022-11-12T12:16:01.970308",
     "status": "completed"
    },
    "tags": []
   },
   "outputs": [],
   "source": [
    "#hide\n",
    "everydaycases = dft_ct_new_cases.cumsum(axis=1)"
   ]
  },
  {
   "cell_type": "code",
   "execution_count": 20,
   "id": "parliamentary-calgary",
   "metadata": {
    "execution": {
     "iopub.execute_input": "2022-11-12T12:16:02.076292Z",
     "iopub.status.busy": "2022-11-12T12:16:02.075668Z",
     "iopub.status.idle": "2022-11-12T12:16:02.688795Z",
     "shell.execute_reply": "2022-11-12T12:16:02.687716Z"
    },
    "papermill": {
     "duration": 0.648227,
     "end_time": "2022-11-12T12:16:02.688932",
     "exception": false,
     "start_time": "2022-11-12T12:16:02.040705",
     "status": "completed"
    },
    "tags": []
   },
   "outputs": [],
   "source": [
    "#hide\n",
    "import pandas as pd\n",
    "import matplotlib.pyplot as plt\n",
    "import matplotlib.ticker as ticker\n",
    "import matplotlib.animation as animation\n",
    "from IPython.display import HTML"
   ]
  },
  {
   "cell_type": "code",
   "execution_count": 21,
   "id": "lasting-extraction",
   "metadata": {
    "execution": {
     "iopub.execute_input": "2022-11-12T12:16:02.757901Z",
     "iopub.status.busy": "2022-11-12T12:16:02.757299Z",
     "iopub.status.idle": "2022-11-12T12:16:02.765551Z",
     "shell.execute_reply": "2022-11-12T12:16:02.765065Z"
    },
    "papermill": {
     "duration": 0.046056,
     "end_time": "2022-11-12T12:16:02.765675",
     "exception": false,
     "start_time": "2022-11-12T12:16:02.719619",
     "status": "completed"
    },
    "tags": []
   },
   "outputs": [],
   "source": [
    "#hide\n",
    "t = everydaycases.stack()"
   ]
  },
  {
   "cell_type": "code",
   "execution_count": 22,
   "id": "premier-sleeve",
   "metadata": {
    "execution": {
     "iopub.execute_input": "2022-11-12T12:16:02.831874Z",
     "iopub.status.busy": "2022-11-12T12:16:02.831235Z",
     "iopub.status.idle": "2022-11-12T12:16:02.844409Z",
     "shell.execute_reply": "2022-11-12T12:16:02.843936Z"
    },
    "papermill": {
     "duration": 0.04819,
     "end_time": "2022-11-12T12:16:02.844522",
     "exception": false,
     "start_time": "2022-11-12T12:16:02.796332",
     "status": "completed"
    },
    "tags": []
   },
   "outputs": [],
   "source": [
    "#hide\n",
    "g = t.reset_index(['Country/Region'])"
   ]
  },
  {
   "cell_type": "code",
   "execution_count": 23,
   "id": "distributed-pittsburgh",
   "metadata": {
    "execution": {
     "iopub.execute_input": "2022-11-12T12:16:02.909548Z",
     "iopub.status.busy": "2022-11-12T12:16:02.908856Z",
     "iopub.status.idle": "2022-11-12T12:16:02.911563Z",
     "shell.execute_reply": "2022-11-12T12:16:02.911022Z"
    },
    "papermill": {
     "duration": 0.037058,
     "end_time": "2022-11-12T12:16:02.911695",
     "exception": false,
     "start_time": "2022-11-12T12:16:02.874637",
     "status": "completed"
    },
    "tags": []
   },
   "outputs": [],
   "source": [
    "#hide\n",
    "g.index.name = 'date'"
   ]
  },
  {
   "cell_type": "code",
   "execution_count": 24,
   "id": "naked-donor",
   "metadata": {
    "execution": {
     "iopub.execute_input": "2022-11-12T12:16:02.976952Z",
     "iopub.status.busy": "2022-11-12T12:16:02.976247Z",
     "iopub.status.idle": "2022-11-12T12:16:02.980457Z",
     "shell.execute_reply": "2022-11-12T12:16:02.980003Z"
    },
    "papermill": {
     "duration": 0.038375,
     "end_time": "2022-11-12T12:16:02.980576",
     "exception": false,
     "start_time": "2022-11-12T12:16:02.942201",
     "status": "completed"
    },
    "tags": []
   },
   "outputs": [],
   "source": [
    "# #hide\n",
    "# g = g.reset_index(['date'])"
   ]
  },
  {
   "cell_type": "code",
   "execution_count": 25,
   "id": "incomplete-mustang",
   "metadata": {
    "execution": {
     "iopub.execute_input": "2022-11-12T12:16:03.045296Z",
     "iopub.status.busy": "2022-11-12T12:16:03.044619Z",
     "iopub.status.idle": "2022-11-12T12:16:03.048373Z",
     "shell.execute_reply": "2022-11-12T12:16:03.048792Z"
    },
    "papermill": {
     "duration": 0.038224,
     "end_time": "2022-11-12T12:16:03.048930",
     "exception": false,
     "start_time": "2022-11-12T12:16:03.010706",
     "status": "completed"
    },
    "tags": []
   },
   "outputs": [],
   "source": [
    "#hide\n",
    "# g.head()"
   ]
  },
  {
   "cell_type": "code",
   "execution_count": 26,
   "id": "specific-kruger",
   "metadata": {
    "execution": {
     "iopub.execute_input": "2022-11-12T12:16:03.113933Z",
     "iopub.status.busy": "2022-11-12T12:16:03.113239Z",
     "iopub.status.idle": "2022-11-12T12:16:03.115845Z",
     "shell.execute_reply": "2022-11-12T12:16:03.115270Z"
    },
    "papermill": {
     "duration": 0.036607,
     "end_time": "2022-11-12T12:16:03.115972",
     "exception": false,
     "start_time": "2022-11-12T12:16:03.079365",
     "status": "completed"
    },
    "tags": []
   },
   "outputs": [],
   "source": [
    "#hide\n",
    "# g.columns = ['date','country','cases']"
   ]
  },
  {
   "cell_type": "code",
   "execution_count": 27,
   "id": "tender-conversion",
   "metadata": {
    "execution": {
     "iopub.execute_input": "2022-11-12T12:16:03.180508Z",
     "iopub.status.busy": "2022-11-12T12:16:03.179892Z",
     "iopub.status.idle": "2022-11-12T12:16:03.183401Z",
     "shell.execute_reply": "2022-11-12T12:16:03.183827Z"
    },
    "papermill": {
     "duration": 0.037751,
     "end_time": "2022-11-12T12:16:03.183963",
     "exception": false,
     "start_time": "2022-11-12T12:16:03.146212",
     "status": "completed"
    },
    "tags": []
   },
   "outputs": [],
   "source": [
    "#hide\n",
    "# g['continent'] = g.country"
   ]
  },
  {
   "cell_type": "code",
   "execution_count": 28,
   "id": "substantial-wilderness",
   "metadata": {
    "execution": {
     "iopub.execute_input": "2022-11-12T12:16:03.249264Z",
     "iopub.status.busy": "2022-11-12T12:16:03.248582Z",
     "iopub.status.idle": "2022-11-12T12:16:03.252294Z",
     "shell.execute_reply": "2022-11-12T12:16:03.252711Z"
    },
    "papermill": {
     "duration": 0.038173,
     "end_time": "2022-11-12T12:16:03.252847",
     "exception": false,
     "start_time": "2022-11-12T12:16:03.214674",
     "status": "completed"
    },
    "tags": []
   },
   "outputs": [],
   "source": [
    "#hide\n",
    "# cols = list(g.columns.values)"
   ]
  },
  {
   "cell_type": "code",
   "execution_count": 29,
   "id": "solved-farming",
   "metadata": {
    "execution": {
     "iopub.execute_input": "2022-11-12T12:16:03.317451Z",
     "iopub.status.busy": "2022-11-12T12:16:03.316773Z",
     "iopub.status.idle": "2022-11-12T12:16:03.319285Z",
     "shell.execute_reply": "2022-11-12T12:16:03.318750Z"
    },
    "papermill": {
     "duration": 0.036535,
     "end_time": "2022-11-12T12:16:03.319431",
     "exception": false,
     "start_time": "2022-11-12T12:16:03.282896",
     "status": "completed"
    },
    "tags": []
   },
   "outputs": [],
   "source": [
    "#hide\n",
    "# cols.insert(0, cols.pop())"
   ]
  },
  {
   "cell_type": "code",
   "execution_count": 30,
   "id": "executed-adoption",
   "metadata": {
    "execution": {
     "iopub.execute_input": "2022-11-12T12:16:03.384721Z",
     "iopub.status.busy": "2022-11-12T12:16:03.384008Z",
     "iopub.status.idle": "2022-11-12T12:16:03.386395Z",
     "shell.execute_reply": "2022-11-12T12:16:03.385743Z"
    },
    "papermill": {
     "duration": 0.036555,
     "end_time": "2022-11-12T12:16:03.386524",
     "exception": false,
     "start_time": "2022-11-12T12:16:03.349969",
     "status": "completed"
    },
    "tags": []
   },
   "outputs": [],
   "source": [
    "#hide\n",
    "# g = g[cols]"
   ]
  },
  {
   "cell_type": "code",
   "execution_count": 31,
   "id": "subject-dublin",
   "metadata": {
    "execution": {
     "iopub.execute_input": "2022-11-12T12:16:03.451946Z",
     "iopub.status.busy": "2022-11-12T12:16:03.451213Z",
     "iopub.status.idle": "2022-11-12T12:16:03.454157Z",
     "shell.execute_reply": "2022-11-12T12:16:03.454575Z"
    },
    "papermill": {
     "duration": 0.037425,
     "end_time": "2022-11-12T12:16:03.454713",
     "exception": false,
     "start_time": "2022-11-12T12:16:03.417288",
     "status": "completed"
    },
    "tags": []
   },
   "outputs": [],
   "source": [
    "#hide\n",
    "# g['continent'] = g['continent'].map(mapping['map.continent'])"
   ]
  },
  {
   "cell_type": "code",
   "execution_count": 32,
   "id": "freelance-scout",
   "metadata": {
    "execution": {
     "iopub.execute_input": "2022-11-12T12:16:03.519786Z",
     "iopub.status.busy": "2022-11-12T12:16:03.519048Z",
     "iopub.status.idle": "2022-11-12T12:16:03.521568Z",
     "shell.execute_reply": "2022-11-12T12:16:03.520926Z"
    },
    "papermill": {
     "duration": 0.036422,
     "end_time": "2022-11-12T12:16:03.521697",
     "exception": false,
     "start_time": "2022-11-12T12:16:03.485275",
     "status": "completed"
    },
    "tags": []
   },
   "outputs": [],
   "source": [
    "#hide\n",
    "# g.head()"
   ]
  },
  {
   "cell_type": "code",
   "execution_count": 33,
   "id": "limited-engine",
   "metadata": {
    "execution": {
     "iopub.execute_input": "2022-11-12T12:16:03.586250Z",
     "iopub.status.busy": "2022-11-12T12:16:03.585636Z",
     "iopub.status.idle": "2022-11-12T12:16:03.589488Z",
     "shell.execute_reply": "2022-11-12T12:16:03.589012Z"
    },
    "papermill": {
     "duration": 0.037571,
     "end_time": "2022-11-12T12:16:03.589602",
     "exception": false,
     "start_time": "2022-11-12T12:16:03.552031",
     "status": "completed"
    },
    "tags": []
   },
   "outputs": [],
   "source": [
    "# hide\n",
    "# g['date'] = g['date'].astype('datetime64[ns]')"
   ]
  },
  {
   "cell_type": "code",
   "execution_count": 34,
   "id": "sophisticated-supervisor",
   "metadata": {
    "execution": {
     "iopub.execute_input": "2022-11-12T12:16:03.655243Z",
     "iopub.status.busy": "2022-11-12T12:16:03.654550Z",
     "iopub.status.idle": "2022-11-12T12:16:03.656922Z",
     "shell.execute_reply": "2022-11-12T12:16:03.656350Z"
    },
    "papermill": {
     "duration": 0.037113,
     "end_time": "2022-11-12T12:16:03.657036",
     "exception": false,
     "start_time": "2022-11-12T12:16:03.619923",
     "status": "completed"
    },
    "tags": []
   },
   "outputs": [],
   "source": [
    "#hide\n",
    "# g['date'] = g.date.dt.dayofyear"
   ]
  },
  {
   "cell_type": "code",
   "execution_count": 35,
   "id": "inside-dubai",
   "metadata": {
    "execution": {
     "iopub.execute_input": "2022-11-12T12:16:03.721367Z",
     "iopub.status.busy": "2022-11-12T12:16:03.720793Z",
     "iopub.status.idle": "2022-11-12T12:16:03.723012Z",
     "shell.execute_reply": "2022-11-12T12:16:03.723596Z"
    },
    "papermill": {
     "duration": 0.036437,
     "end_time": "2022-11-12T12:16:03.723733",
     "exception": false,
     "start_time": "2022-11-12T12:16:03.687296",
     "status": "completed"
    },
    "tags": []
   },
   "outputs": [],
   "source": [
    "#hide\n",
    "# g = g.rename(columns= {'continent':'group','country':'name','cases':'value'})"
   ]
  },
  {
   "cell_type": "code",
   "execution_count": 36,
   "id": "fleet-motorcycle",
   "metadata": {
    "execution": {
     "iopub.execute_input": "2022-11-12T12:16:03.788238Z",
     "iopub.status.busy": "2022-11-12T12:16:03.787608Z",
     "iopub.status.idle": "2022-11-12T12:16:03.790160Z",
     "shell.execute_reply": "2022-11-12T12:16:03.789691Z"
    },
    "papermill": {
     "duration": 0.036377,
     "end_time": "2022-11-12T12:16:03.790273",
     "exception": false,
     "start_time": "2022-11-12T12:16:03.753896",
     "status": "completed"
    },
    "tags": []
   },
   "outputs": [],
   "source": [
    "#hide\n",
    "# cols = ['name','group','day','value']"
   ]
  },
  {
   "cell_type": "code",
   "execution_count": 37,
   "id": "continued-sleeping",
   "metadata": {
    "execution": {
     "iopub.execute_input": "2022-11-12T12:16:03.854646Z",
     "iopub.status.busy": "2022-11-12T12:16:03.854075Z",
     "iopub.status.idle": "2022-11-12T12:16:03.856428Z",
     "shell.execute_reply": "2022-11-12T12:16:03.856897Z"
    },
    "papermill": {
     "duration": 0.03671,
     "end_time": "2022-11-12T12:16:03.857028",
     "exception": false,
     "start_time": "2022-11-12T12:16:03.820318",
     "status": "completed"
    },
    "tags": []
   },
   "outputs": [],
   "source": [
    "#hide\n",
    "# g.rename(columns= {'date':'day'},inplace = True)"
   ]
  },
  {
   "cell_type": "code",
   "execution_count": 38,
   "id": "major-fight",
   "metadata": {
    "execution": {
     "iopub.execute_input": "2022-11-12T12:16:03.921807Z",
     "iopub.status.busy": "2022-11-12T12:16:03.921205Z",
     "iopub.status.idle": "2022-11-12T12:16:03.924672Z",
     "shell.execute_reply": "2022-11-12T12:16:03.925090Z"
    },
    "papermill": {
     "duration": 0.037464,
     "end_time": "2022-11-12T12:16:03.925225",
     "exception": false,
     "start_time": "2022-11-12T12:16:03.887761",
     "status": "completed"
    },
    "tags": []
   },
   "outputs": [],
   "source": [
    "#hide\n",
    "# g = g[cols]"
   ]
  },
  {
   "cell_type": "code",
   "execution_count": 39,
   "id": "structured-mobile",
   "metadata": {
    "execution": {
     "iopub.execute_input": "2022-11-12T12:16:03.989727Z",
     "iopub.status.busy": "2022-11-12T12:16:03.989137Z",
     "iopub.status.idle": "2022-11-12T12:16:03.991325Z",
     "shell.execute_reply": "2022-11-12T12:16:03.991912Z"
    },
    "papermill": {
     "duration": 0.036818,
     "end_time": "2022-11-12T12:16:03.992048",
     "exception": false,
     "start_time": "2022-11-12T12:16:03.955230",
     "status": "completed"
    },
    "tags": []
   },
   "outputs": [],
   "source": [
    "# #hide\n",
    "# g = g[g.group.notna()]"
   ]
  },
  {
   "cell_type": "code",
   "execution_count": 40,
   "id": "determined-closing",
   "metadata": {
    "execution": {
     "iopub.execute_input": "2022-11-12T12:16:04.057103Z",
     "iopub.status.busy": "2022-11-12T12:16:04.056410Z",
     "iopub.status.idle": "2022-11-12T12:16:04.058915Z",
     "shell.execute_reply": "2022-11-12T12:16:04.058266Z"
    },
    "papermill": {
     "duration": 0.03664,
     "end_time": "2022-11-12T12:16:04.059041",
     "exception": false,
     "start_time": "2022-11-12T12:16:04.022401",
     "status": "completed"
    },
    "tags": []
   },
   "outputs": [],
   "source": [
    "# #hide\n",
    "# colors = dict(zip(\n",
    "#     [\"Oceania\", \"Europe\", \"Asia\", \"South America\", \"Middle East\", \"North America\", \"Africa\"],\n",
    "#     [\"#adb0ff\", \"#ffb3ff\", \"#90d595\", \"#e48381\", \"#aafbff\", \"#f7bb5f\", \"#eafb50\"]\n",
    "# ))\n",
    "# group_lk = g.set_index('name')['group'].to_dict()"
   ]
  },
  {
   "cell_type": "code",
   "execution_count": null,
   "id": "gross-drinking",
   "metadata": {
    "papermill": {
     "duration": 0.030065,
     "end_time": "2022-11-12T12:16:04.119591",
     "exception": false,
     "start_time": "2022-11-12T12:16:04.089526",
     "status": "completed"
    },
    "tags": []
   },
   "outputs": [],
   "source": []
  },
  {
   "cell_type": "code",
   "execution_count": 41,
   "id": "subject-macintosh",
   "metadata": {
    "execution": {
     "iopub.execute_input": "2022-11-12T12:16:04.184693Z",
     "iopub.status.busy": "2022-11-12T12:16:04.184088Z",
     "iopub.status.idle": "2022-11-12T12:16:04.186523Z",
     "shell.execute_reply": "2022-11-12T12:16:04.186966Z"
    },
    "papermill": {
     "duration": 0.037222,
     "end_time": "2022-11-12T12:16:04.187097",
     "exception": false,
     "start_time": "2022-11-12T12:16:04.149875",
     "status": "completed"
    },
    "tags": []
   },
   "outputs": [],
   "source": [
    "# #hide\n",
    "# fig, ax = plt.subplots(figsize=(15, 8))\n",
    "\n",
    "# def draw_barchart(current_day):\n",
    "#     dff = g[g['day'].eq(current_day)].sort_values(by='value', ascending=True).tail(10)\n",
    "#     ax.clear()\n",
    "#     ax.barh(dff['name'], dff['value'], color=[colors[group_lk[x]] for x in dff['name']])\n",
    "#     dx = dff['value'].max() / 200\n",
    "    \n",
    "#     for i, (value, name) in enumerate(zip(dff['value'], dff['name'])):\n",
    "#         ax.text(value-dx, i,     name,           size=14, weight=600, ha='right', va='bottom')\n",
    "#         ax.text(value-dx, i-.25, group_lk[name], size=10, color='#444444', ha='right', va='baseline')\n",
    "#         ax.text(value+dx, i,     f'{value:,.0f}',  size=14, ha='left',  va='center')\n",
    "#     ax.text(1, 0.4, current_day, transform=ax.transAxes, color='#777777', size=46, ha='right', weight=800)\n",
    "#     ax.text(0, 1.06, 'Population (thousands)', transform=ax.transAxes, size=12, color='#777777')\n",
    "#     ax.xaxis.set_major_formatter(ticker.StrMethodFormatter('{x:,.0f}'))\n",
    "#     ax.xaxis.set_ticks_position('top')\n",
    "#     ax.tick_params(axis='x', colors='#777777', labelsize=12)\n",
    "#     ax.set_yticks([])\n",
    "#     ax.margins(0, 0.01)\n",
    "#     ax.grid(which='major', axis='x', linestyle='-')\n",
    "#     ax.set_axisbelow(True)\n",
    "    \n",
    "#     ax.text(0, 1.15, 'Coronavirus',\n",
    "#             transform=ax.transAxes, size=24, weight=600, ha='left', va='top')\n",
    "# #     ax.text(1, 0, 'by @pratapvardhan; credit @jburnmurdoch', transform=ax.transAxes, color='#777777', ha='right',\n",
    "# #             bbox=dict(facecolor='white', alpha=0.8, edgecolor='white'))\n",
    "#     plt.box(False)"
   ]
  },
  {
   "cell_type": "code",
   "execution_count": 42,
   "id": "sexual-wages",
   "metadata": {
    "execution": {
     "iopub.execute_input": "2022-11-12T12:16:04.251985Z",
     "iopub.status.busy": "2022-11-12T12:16:04.251242Z",
     "iopub.status.idle": "2022-11-12T12:16:04.254731Z",
     "shell.execute_reply": "2022-11-12T12:16:04.254195Z"
    },
    "papermill": {
     "duration": 0.037416,
     "end_time": "2022-11-12T12:16:04.254854",
     "exception": false,
     "start_time": "2022-11-12T12:16:04.217438",
     "status": "completed"
    },
    "tags": []
   },
   "outputs": [],
   "source": [
    "# #hide_input\n",
    "# fig, ax = plt.subplots(figsize=(15, 8))\n",
    "# animator = animation.FuncAnimation(fig, draw_barchart, frames=range(g.day.values.min(), g.day.values.max()))\n",
    "# HTML(animator.to_jshtml())\n",
    "# # or use animator.to_html5_video() or animator.save() "
   ]
  },
  {
   "cell_type": "code",
   "execution_count": null,
   "id": "australian-container",
   "metadata": {
    "papermill": {
     "duration": 0.030202,
     "end_time": "2022-11-12T12:16:04.315491",
     "exception": false,
     "start_time": "2022-11-12T12:16:04.285289",
     "status": "completed"
    },
    "tags": []
   },
   "outputs": [],
   "source": []
  },
  {
   "cell_type": "code",
   "execution_count": null,
   "id": "mediterranean-pontiac",
   "metadata": {
    "papermill": {
     "duration": 0.030064,
     "end_time": "2022-11-12T12:16:04.375574",
     "exception": false,
     "start_time": "2022-11-12T12:16:04.345510",
     "status": "completed"
    },
    "tags": []
   },
   "outputs": [],
   "source": []
  },
  {
   "cell_type": "code",
   "execution_count": null,
   "id": "aging-legislature",
   "metadata": {
    "papermill": {
     "duration": 0.030096,
     "end_time": "2022-11-12T12:16:04.436052",
     "exception": false,
     "start_time": "2022-11-12T12:16:04.405956",
     "status": "completed"
    },
    "tags": []
   },
   "outputs": [],
   "source": []
  }
 ],
 "metadata": {
  "kernelspec": {
   "display_name": "Python 3",
   "language": "python",
   "name": "python3"
  },
  "language_info": {
   "codemirror_mode": {
    "name": "ipython",
    "version": 3
   },
   "file_extension": ".py",
   "mimetype": "text/x-python",
   "name": "python",
   "nbconvert_exporter": "python",
   "pygments_lexer": "ipython3",
   "version": "3.6.15"
  },
  "papermill": {
   "duration": 5.97519,
   "end_time": "2022-11-12T12:16:04.886128",
   "environment_variables": {},
   "exception": null,
   "input_path": "2020-03-21-covid19exp.ipynb",
   "output_path": "2020-03-21-covid19exp.ipynb",
   "parameters": {},
   "start_time": "2022-11-12T12:15:58.910938",
   "version": "2.0.0"
  }
 },
 "nbformat": 4,
 "nbformat_minor": 5
}