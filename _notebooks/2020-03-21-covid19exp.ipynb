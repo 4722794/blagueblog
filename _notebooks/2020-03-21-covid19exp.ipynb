{
 "cells": [
  {
   "cell_type": "markdown",
   "id": "muslim-click",
   "metadata": {
    "papermill": {
     "duration": 0.034742,
     "end_time": "2021-06-09T00:22:52.046064",
     "exception": false,
     "start_time": "2021-06-09T00:22:52.011322",
     "status": "completed"
    },
    "tags": []
   },
   "source": [
    "# COVID-19 Case Race\n",
    "> A race chart to see rising cases around the world\n",
    "\n",
    "- author: Hargun Oberoi\n",
    "- image: images/covid-overview.png\n",
    "- hide: false\n",
    "- badges: false"
   ]
  },
  {
   "cell_type": "code",
   "execution_count": 1,
   "id": "proof-material",
   "metadata": {
    "execution": {
     "iopub.execute_input": "2021-06-09T00:22:52.115495Z",
     "iopub.status.busy": "2021-06-09T00:22:52.114987Z",
     "iopub.status.idle": "2021-06-09T00:22:52.422446Z",
     "shell.execute_reply": "2021-06-09T00:22:52.421905Z"
    },
    "papermill": {
     "duration": 0.34594,
     "end_time": "2021-06-09T00:22:52.422593",
     "exception": false,
     "start_time": "2021-06-09T00:22:52.076653",
     "status": "completed"
    },
    "tags": []
   },
   "outputs": [],
   "source": [
    "#hide\n",
    "import numpy as np\n",
    "import pandas as pd\n",
    "from jinja2 import Template\n",
    "from IPython.display import HTML"
   ]
  },
  {
   "cell_type": "code",
   "execution_count": 2,
   "id": "developed-terminology",
   "metadata": {
    "execution": {
     "iopub.execute_input": "2021-06-09T00:22:52.487271Z",
     "iopub.status.busy": "2021-06-09T00:22:52.486672Z",
     "iopub.status.idle": "2021-06-09T00:22:52.488084Z",
     "shell.execute_reply": "2021-06-09T00:22:52.488563Z"
    },
    "papermill": {
     "duration": 0.035706,
     "end_time": "2021-06-09T00:22:52.488686",
     "exception": false,
     "start_time": "2021-06-09T00:22:52.452980",
     "status": "completed"
    },
    "tags": []
   },
   "outputs": [],
   "source": [
    "#hide\n",
    "\n",
    "# FETCH\n",
    "base_url = 'https://raw.githubusercontent.com/pratapvardhan/notebooks/master/covid19/'\n",
    "paths = {\n",
    "    'mapping': base_url + 'mapping_countries.csv',\n",
    "    'overview': base_url + 'overview.tpl'\n",
    "}"
   ]
  },
  {
   "cell_type": "code",
   "execution_count": 3,
   "id": "dynamic-saver",
   "metadata": {
    "execution": {
     "iopub.execute_input": "2021-06-09T00:22:52.558396Z",
     "iopub.status.busy": "2021-06-09T00:22:52.557905Z",
     "iopub.status.idle": "2021-06-09T00:22:52.560074Z",
     "shell.execute_reply": "2021-06-09T00:22:52.560469Z"
    },
    "papermill": {
     "duration": 0.041275,
     "end_time": "2021-06-09T00:22:52.560578",
     "exception": false,
     "start_time": "2021-06-09T00:22:52.519303",
     "status": "completed"
    },
    "tags": []
   },
   "outputs": [
    {
     "data": {
      "text/plain": [
       "'https://raw.githubusercontent.com/pratapvardhan/notebooks/master/covid19/mapping_countries.csv'"
      ]
     },
     "execution_count": 3,
     "metadata": {},
     "output_type": "execute_result"
    }
   ],
   "source": [
    "#hide\n",
    "paths['mapping']"
   ]
  },
  {
   "cell_type": "code",
   "execution_count": 4,
   "id": "urban-software",
   "metadata": {
    "execution": {
     "iopub.execute_input": "2021-06-09T00:22:52.626539Z",
     "iopub.status.busy": "2021-06-09T00:22:52.626050Z",
     "iopub.status.idle": "2021-06-09T00:22:52.628157Z",
     "shell.execute_reply": "2021-06-09T00:22:52.627744Z"
    },
    "papermill": {
     "duration": 0.037503,
     "end_time": "2021-06-09T00:22:52.628251",
     "exception": false,
     "start_time": "2021-06-09T00:22:52.590748",
     "status": "completed"
    },
    "tags": []
   },
   "outputs": [],
   "source": [
    "#hide\n",
    "def get_mappings(url):\n",
    "    df = pd.read_csv(url)\n",
    "    return {\n",
    "        'df': df,\n",
    "        'replace.country': dict(df.dropna(subset=['Name']).set_index('Country')['Name']),\n",
    "        'map.continent': dict(df.set_index('Name')['Continent'])\n",
    "    }"
   ]
  },
  {
   "cell_type": "code",
   "execution_count": 5,
   "id": "intimate-machinery",
   "metadata": {
    "execution": {
     "iopub.execute_input": "2021-06-09T00:22:52.692397Z",
     "iopub.status.busy": "2021-06-09T00:22:52.691913Z",
     "iopub.status.idle": "2021-06-09T00:22:52.717380Z",
     "shell.execute_reply": "2021-06-09T00:22:52.717800Z"
    },
    "papermill": {
     "duration": 0.059664,
     "end_time": "2021-06-09T00:22:52.717903",
     "exception": false,
     "start_time": "2021-06-09T00:22:52.658239",
     "status": "completed"
    },
    "tags": []
   },
   "outputs": [],
   "source": [
    "#hide\n",
    "mapping = get_mappings(paths['mapping'])"
   ]
  },
  {
   "cell_type": "code",
   "execution_count": 6,
   "id": "certified-tactics",
   "metadata": {
    "execution": {
     "iopub.execute_input": "2021-06-09T00:22:52.782093Z",
     "iopub.status.busy": "2021-06-09T00:22:52.781597Z",
     "iopub.status.idle": "2021-06-09T00:22:52.783793Z",
     "shell.execute_reply": "2021-06-09T00:22:52.783403Z"
    },
    "papermill": {
     "duration": 0.03607,
     "end_time": "2021-06-09T00:22:52.783888",
     "exception": false,
     "start_time": "2021-06-09T00:22:52.747818",
     "status": "completed"
    },
    "tags": []
   },
   "outputs": [],
   "source": [
    "#hide\n",
    "def get_template(path):\n",
    "    from urllib.parse import urlparse\n",
    "    if bool(urlparse(path).netloc):\n",
    "        from urllib.request import urlopen\n",
    "        return urlopen(path).read().decode('utf8')\n",
    "    return open(path).read()"
   ]
  },
  {
   "cell_type": "code",
   "execution_count": 7,
   "id": "realistic-blast",
   "metadata": {
    "execution": {
     "iopub.execute_input": "2021-06-09T00:22:52.847608Z",
     "iopub.status.busy": "2021-06-09T00:22:52.847122Z",
     "iopub.status.idle": "2021-06-09T00:22:52.849154Z",
     "shell.execute_reply": "2021-06-09T00:22:52.849547Z"
    },
    "papermill": {
     "duration": 0.035963,
     "end_time": "2021-06-09T00:22:52.849648",
     "exception": false,
     "start_time": "2021-06-09T00:22:52.813685",
     "status": "completed"
    },
    "tags": []
   },
   "outputs": [],
   "source": [
    "#hide\n",
    "def get_frame(name):\n",
    "    url = (\n",
    "        'https://raw.githubusercontent.com/CSSEGISandData/COVID-19/master/csse_covid_19_data/'\n",
    "        f'csse_covid_19_time_series/time_series_covid19_{name}_global.csv')\n",
    "    df = pd.read_csv(url)\n",
    "    # rename countries\n",
    "    df['Country/Region'] = df['Country/Region'].replace(mapping['replace.country'])\n",
    "    return df"
   ]
  },
  {
   "cell_type": "code",
   "execution_count": 8,
   "id": "affiliated-characterization",
   "metadata": {
    "execution": {
     "iopub.execute_input": "2021-06-09T00:22:52.914475Z",
     "iopub.status.busy": "2021-06-09T00:22:52.913987Z",
     "iopub.status.idle": "2021-06-09T00:22:52.915796Z",
     "shell.execute_reply": "2021-06-09T00:22:52.916214Z"
    },
    "papermill": {
     "duration": 0.036809,
     "end_time": "2021-06-09T00:22:52.916317",
     "exception": false,
     "start_time": "2021-06-09T00:22:52.879508",
     "status": "completed"
    },
    "tags": []
   },
   "outputs": [],
   "source": [
    "#hide\n",
    "def get_dates(df):\n",
    "    dt_cols = df.columns[~df.columns.isin(['Province/State', 'Country/Region', 'Lat', 'Long'])]\n",
    "    LAST_DATE_I = -1\n",
    "    # sometimes last column may be empty, then go backwards\n",
    "    for i in range(-1, -len(dt_cols), -1):\n",
    "        if not df[dt_cols[i]].fillna(0).eq(0).all():\n",
    "            LAST_DATE_I = i\n",
    "            break\n",
    "    return LAST_DATE_I, dt_cols"
   ]
  },
  {
   "cell_type": "code",
   "execution_count": 9,
   "id": "recent-optimization",
   "metadata": {
    "execution": {
     "iopub.execute_input": "2021-06-09T00:22:52.980042Z",
     "iopub.status.busy": "2021-06-09T00:22:52.979246Z",
     "iopub.status.idle": "2021-06-09T00:22:53.230250Z",
     "shell.execute_reply": "2021-06-09T00:22:53.229728Z"
    },
    "papermill": {
     "duration": 0.284263,
     "end_time": "2021-06-09T00:22:53.230385",
     "exception": false,
     "start_time": "2021-06-09T00:22:52.946122",
     "status": "completed"
    },
    "tags": []
   },
   "outputs": [],
   "source": [
    "#hide\n",
    "COL_REGION = 'Country/Region'\n",
    "# Confirmed, Recovered, Deaths\n",
    "df = get_frame('confirmed')\n",
    "# dft_: timeseries, dfc_: today country agg\n",
    "dft_cases = df\n",
    "dft_deaths = get_frame('deaths')\n",
    "dft_recovered = get_frame('recovered')\n",
    "LAST_DATE_I, dt_cols = get_dates(df)"
   ]
  },
  {
   "cell_type": "code",
   "execution_count": 10,
   "id": "absolute-copper",
   "metadata": {
    "execution": {
     "iopub.execute_input": "2021-06-09T00:22:53.295986Z",
     "iopub.status.busy": "2021-06-09T00:22:53.295494Z",
     "iopub.status.idle": "2021-06-09T00:22:53.297760Z",
     "shell.execute_reply": "2021-06-09T00:22:53.297345Z"
    },
    "papermill": {
     "duration": 0.036389,
     "end_time": "2021-06-09T00:22:53.297855",
     "exception": false,
     "start_time": "2021-06-09T00:22:53.261466",
     "status": "completed"
    },
    "tags": []
   },
   "outputs": [],
   "source": [
    "#hide\n",
    "LAST_DATE_I, dt_cols = get_dates(df)\n",
    "dt_today =dt_cols[LAST_DATE_I]\n",
    "# dt_5day = dt_cols[LAST_DATE_I - 5]\n",
    "dt_yday = dt_cols[LAST_DATE_I - 1]"
   ]
  },
  {
   "cell_type": "code",
   "execution_count": 11,
   "id": "restricted-sheriff",
   "metadata": {
    "execution": {
     "iopub.execute_input": "2021-06-09T00:22:53.363529Z",
     "iopub.status.busy": "2021-06-09T00:22:53.363041Z",
     "iopub.status.idle": "2021-06-09T00:22:53.369312Z",
     "shell.execute_reply": "2021-06-09T00:22:53.368922Z"
    },
    "papermill": {
     "duration": 0.041814,
     "end_time": "2021-06-09T00:22:53.369407",
     "exception": false,
     "start_time": "2021-06-09T00:22:53.327593",
     "status": "completed"
    },
    "tags": []
   },
   "outputs": [],
   "source": [
    "#hide\n",
    "dfc_cases = dft_cases.groupby(COL_REGION)[dt_today].sum()\n",
    "dfc_deaths = dft_deaths.groupby(COL_REGION)[dt_today].sum()\n",
    "# dfp_cases = dft_cases.groupby(COL_REGION)[dt_5day].sum()\n",
    "# dfp_deaths = dft_deaths.groupby(COL_REGION)[dt_5day].sum()\n",
    "dfp_cases = dft_cases.groupby(COL_REGION)[dt_yday].sum()\n",
    "dfp_deaths = dft_deaths.groupby(COL_REGION)[dt_yday].sum()"
   ]
  },
  {
   "cell_type": "code",
   "execution_count": 12,
   "id": "deluxe-hepatitis",
   "metadata": {
    "execution": {
     "iopub.execute_input": "2021-06-09T00:22:53.434359Z",
     "iopub.status.busy": "2021-06-09T00:22:53.433876Z",
     "iopub.status.idle": "2021-06-09T00:22:53.438226Z",
     "shell.execute_reply": "2021-06-09T00:22:53.438595Z"
    },
    "papermill": {
     "duration": 0.039433,
     "end_time": "2021-06-09T00:22:53.438728",
     "exception": false,
     "start_time": "2021-06-09T00:22:53.399295",
     "status": "completed"
    },
    "tags": []
   },
   "outputs": [],
   "source": [
    "#hide\n",
    "df_table = (pd.DataFrame(dict(Cases = dfc_cases, Deaths = dfc_deaths, PCases = dfp_cases, PDeaths = dfp_deaths))\n",
    "            .sort_values(by = ['Cases','Deaths'], ascending = [False, False])\n",
    "            .reset_index())"
   ]
  },
  {
   "cell_type": "code",
   "execution_count": 13,
   "id": "educational-chancellor",
   "metadata": {
    "execution": {
     "iopub.execute_input": "2021-06-09T00:22:53.514813Z",
     "iopub.status.busy": "2021-06-09T00:22:53.514294Z",
     "iopub.status.idle": "2021-06-09T00:22:53.521611Z",
     "shell.execute_reply": "2021-06-09T00:22:53.521197Z"
    },
    "papermill": {
     "duration": 0.053206,
     "end_time": "2021-06-09T00:22:53.521703",
     "exception": false,
     "start_time": "2021-06-09T00:22:53.468497",
     "status": "completed"
    },
    "tags": []
   },
   "outputs": [
    {
     "data": {
      "text/html": [
       "<div>\n",
       "<style scoped>\n",
       "    .dataframe tbody tr th:only-of-type {\n",
       "        vertical-align: middle;\n",
       "    }\n",
       "\n",
       "    .dataframe tbody tr th {\n",
       "        vertical-align: top;\n",
       "    }\n",
       "\n",
       "    .dataframe thead th {\n",
       "        text-align: right;\n",
       "    }\n",
       "</style>\n",
       "<table border=\"1\" class=\"dataframe\">\n",
       "  <thead>\n",
       "    <tr style=\"text-align: right;\">\n",
       "      <th></th>\n",
       "      <th>Country/Region</th>\n",
       "      <th>Cases</th>\n",
       "      <th>Deaths</th>\n",
       "      <th>PCases</th>\n",
       "      <th>PDeaths</th>\n",
       "      <th>Cases (+)</th>\n",
       "      <th>Deaths (+)</th>\n",
       "      <th>Fatality Rate</th>\n",
       "      <th>Continent</th>\n",
       "    </tr>\n",
       "  </thead>\n",
       "  <tbody>\n",
       "    <tr>\n",
       "      <th>0</th>\n",
       "      <td>US</td>\n",
       "      <td>33378096</td>\n",
       "      <td>597952</td>\n",
       "      <td>33362600</td>\n",
       "      <td>597628</td>\n",
       "      <td>15496</td>\n",
       "      <td>324</td>\n",
       "      <td>1.79</td>\n",
       "      <td>North America</td>\n",
       "    </tr>\n",
       "    <tr>\n",
       "      <th>1</th>\n",
       "      <td>India</td>\n",
       "      <td>28996473</td>\n",
       "      <td>351309</td>\n",
       "      <td>28909975</td>\n",
       "      <td>349186</td>\n",
       "      <td>86498</td>\n",
       "      <td>2123</td>\n",
       "      <td>1.21</td>\n",
       "      <td>Asia</td>\n",
       "    </tr>\n",
       "    <tr>\n",
       "      <th>2</th>\n",
       "      <td>Brazil</td>\n",
       "      <td>16984218</td>\n",
       "      <td>474414</td>\n",
       "      <td>16947062</td>\n",
       "      <td>473404</td>\n",
       "      <td>37156</td>\n",
       "      <td>1010</td>\n",
       "      <td>2.79</td>\n",
       "      <td>South America</td>\n",
       "    </tr>\n",
       "    <tr>\n",
       "      <th>3</th>\n",
       "      <td>France</td>\n",
       "      <td>5775535</td>\n",
       "      <td>110224</td>\n",
       "      <td>5774361</td>\n",
       "      <td>110160</td>\n",
       "      <td>1174</td>\n",
       "      <td>64</td>\n",
       "      <td>1.91</td>\n",
       "      <td>Europe</td>\n",
       "    </tr>\n",
       "    <tr>\n",
       "      <th>4</th>\n",
       "      <td>Turkey</td>\n",
       "      <td>5293627</td>\n",
       "      <td>48255</td>\n",
       "      <td>5287980</td>\n",
       "      <td>48164</td>\n",
       "      <td>5647</td>\n",
       "      <td>91</td>\n",
       "      <td>0.91</td>\n",
       "      <td>Asia</td>\n",
       "    </tr>\n",
       "  </tbody>\n",
       "</table>\n",
       "</div>"
      ],
      "text/plain": [
       "  Country/Region     Cases  Deaths    PCases  PDeaths  Cases (+)  Deaths (+)  \\\n",
       "0             US  33378096  597952  33362600   597628      15496         324   \n",
       "1          India  28996473  351309  28909975   349186      86498        2123   \n",
       "2         Brazil  16984218  474414  16947062   473404      37156        1010   \n",
       "3         France   5775535  110224   5774361   110160       1174          64   \n",
       "4         Turkey   5293627   48255   5287980    48164       5647          91   \n",
       "\n",
       "   Fatality Rate      Continent  \n",
       "0           1.79  North America  \n",
       "1           1.21           Asia  \n",
       "2           2.79  South America  \n",
       "3           1.91         Europe  \n",
       "4           0.91           Asia  "
      ]
     },
     "execution_count": 13,
     "metadata": {},
     "output_type": "execute_result"
    }
   ],
   "source": [
    "#hide\n",
    "for c in 'Cases, Deaths'.split(', '):\n",
    "    df_table[f'{c} (+)'] = (df_table[c] - df_table[f'P{c}']).clip(0)\n",
    "    #Clip ça veut dire, les chiffres negatif sont interdit\n",
    "df_table['Fatality Rate'] = (100* df_table['Deaths']/ df_table['Cases']).round(2)\n",
    "df_table['Continent'] = df_table['Country/Region'].map(mapping['map.continent'])\n",
    "df_table.head(5)"
   ]
  },
  {
   "cell_type": "code",
   "execution_count": 14,
   "id": "aboriginal-bulgaria",
   "metadata": {
    "execution": {
     "iopub.execute_input": "2021-06-09T00:22:53.586862Z",
     "iopub.status.busy": "2021-06-09T00:22:53.586358Z",
     "iopub.status.idle": "2021-06-09T00:22:53.588316Z",
     "shell.execute_reply": "2021-06-09T00:22:53.588771Z"
    },
    "papermill": {
     "duration": 0.036851,
     "end_time": "2021-06-09T00:22:53.588878",
     "exception": false,
     "start_time": "2021-06-09T00:22:53.552027",
     "status": "completed"
    },
    "tags": []
   },
   "outputs": [],
   "source": [
    "#hide\n",
    "#delete problematic countries from table\n",
    "df_table = df_table[~df_table['Country/Region'].isin(['Cape Verde', 'Cruise Ship', 'Kosovo'])]"
   ]
  },
  {
   "cell_type": "code",
   "execution_count": 15,
   "id": "fantastic-effect",
   "metadata": {
    "execution": {
     "iopub.execute_input": "2021-06-09T00:22:53.656151Z",
     "iopub.status.busy": "2021-06-09T00:22:53.655663Z",
     "iopub.status.idle": "2021-06-09T00:22:53.672236Z",
     "shell.execute_reply": "2021-06-09T00:22:53.671778Z"
    },
    "papermill": {
     "duration": 0.053208,
     "end_time": "2021-06-09T00:22:53.672336",
     "exception": false,
     "start_time": "2021-06-09T00:22:53.619128",
     "status": "completed"
    },
    "tags": []
   },
   "outputs": [
    {
     "data": {
      "text/html": [
       "<div>\n",
       "<style scoped>\n",
       "    .dataframe tbody tr th:only-of-type {\n",
       "        vertical-align: middle;\n",
       "    }\n",
       "\n",
       "    .dataframe tbody tr th {\n",
       "        vertical-align: top;\n",
       "    }\n",
       "\n",
       "    .dataframe thead th {\n",
       "        text-align: right;\n",
       "    }\n",
       "</style>\n",
       "<table border=\"1\" class=\"dataframe\">\n",
       "  <thead>\n",
       "    <tr style=\"text-align: right;\">\n",
       "      <th></th>\n",
       "      <th>Country/Region</th>\n",
       "      <th>Cases</th>\n",
       "      <th>Deaths</th>\n",
       "      <th>PCases</th>\n",
       "      <th>PDeaths</th>\n",
       "      <th>Cases (+)</th>\n",
       "      <th>Deaths (+)</th>\n",
       "      <th>Fatality Rate</th>\n",
       "      <th>Continent</th>\n",
       "    </tr>\n",
       "  </thead>\n",
       "  <tbody>\n",
       "    <tr>\n",
       "      <th>0</th>\n",
       "      <td>US</td>\n",
       "      <td>33378096</td>\n",
       "      <td>597952</td>\n",
       "      <td>33362600</td>\n",
       "      <td>597628</td>\n",
       "      <td>15496</td>\n",
       "      <td>324</td>\n",
       "      <td>1.8</td>\n",
       "      <td>North America</td>\n",
       "    </tr>\n",
       "    <tr>\n",
       "      <th>1</th>\n",
       "      <td>India</td>\n",
       "      <td>28996473</td>\n",
       "      <td>351309</td>\n",
       "      <td>28909975</td>\n",
       "      <td>349186</td>\n",
       "      <td>86498</td>\n",
       "      <td>2123</td>\n",
       "      <td>1.2</td>\n",
       "      <td>Asia</td>\n",
       "    </tr>\n",
       "    <tr>\n",
       "      <th>2</th>\n",
       "      <td>Brazil</td>\n",
       "      <td>16984218</td>\n",
       "      <td>474414</td>\n",
       "      <td>16947062</td>\n",
       "      <td>473404</td>\n",
       "      <td>37156</td>\n",
       "      <td>1010</td>\n",
       "      <td>2.8</td>\n",
       "      <td>South America</td>\n",
       "    </tr>\n",
       "    <tr>\n",
       "      <th>3</th>\n",
       "      <td>France</td>\n",
       "      <td>5775535</td>\n",
       "      <td>110224</td>\n",
       "      <td>5774361</td>\n",
       "      <td>110160</td>\n",
       "      <td>1174</td>\n",
       "      <td>64</td>\n",
       "      <td>1.9</td>\n",
       "      <td>Europe</td>\n",
       "    </tr>\n",
       "    <tr>\n",
       "      <th>4</th>\n",
       "      <td>Turkey</td>\n",
       "      <td>5293627</td>\n",
       "      <td>48255</td>\n",
       "      <td>5287980</td>\n",
       "      <td>48164</td>\n",
       "      <td>5647</td>\n",
       "      <td>91</td>\n",
       "      <td>0.9</td>\n",
       "      <td>Asia</td>\n",
       "    </tr>\n",
       "  </tbody>\n",
       "</table>\n",
       "</div>"
      ],
      "text/plain": [
       "  Country/Region     Cases  Deaths    PCases  PDeaths  Cases (+)  Deaths (+)  \\\n",
       "0             US  33378096  597952  33362600   597628      15496         324   \n",
       "1          India  28996473  351309  28909975   349186      86498        2123   \n",
       "2         Brazil  16984218  474414  16947062   473404      37156        1010   \n",
       "3         France   5775535  110224   5774361   110160       1174          64   \n",
       "4         Turkey   5293627   48255   5287980    48164       5647          91   \n",
       "\n",
       "   Fatality Rate      Continent  \n",
       "0            1.8  North America  \n",
       "1            1.2           Asia  \n",
       "2            2.8  South America  \n",
       "3            1.9         Europe  \n",
       "4            0.9           Asia  "
      ]
     },
     "execution_count": 15,
     "metadata": {},
     "output_type": "execute_result"
    }
   ],
   "source": [
    "#hide\n",
    "df_table = (pd.DataFrame(dict(Cases=dfc_cases, Deaths=dfc_deaths, PCases=dfp_cases, PDeaths=dfp_deaths))\n",
    "             .sort_values(by=['Cases', 'Deaths'], ascending=[False, False])\n",
    "             .reset_index())\n",
    "df_table.rename(columns={'index': 'Country/Region'}, inplace=True)\n",
    "for c in 'Cases, Deaths'.split(', '):\n",
    "    df_table[f'{c} (+)'] = (df_table[c] - df_table[f'P{c}']).clip(0)  # DATA BUG\n",
    "df_table['Fatality Rate'] = (100 * df_table['Deaths'] / df_table['Cases']).round(1)\n",
    "df_table['Continent'] = df_table['Country/Region'].map(mapping['map.continent'])\n",
    "df_table.head(5)"
   ]
  },
  {
   "cell_type": "code",
   "execution_count": 16,
   "id": "fewer-occasion",
   "metadata": {
    "execution": {
     "iopub.execute_input": "2021-06-09T00:22:53.738588Z",
     "iopub.status.busy": "2021-06-09T00:22:53.738105Z",
     "iopub.status.idle": "2021-06-09T00:22:53.741380Z",
     "shell.execute_reply": "2021-06-09T00:22:53.740992Z"
    },
    "papermill": {
     "duration": 0.037748,
     "end_time": "2021-06-09T00:22:53.741473",
     "exception": false,
     "start_time": "2021-06-09T00:22:53.703725",
     "status": "completed"
    },
    "tags": []
   },
   "outputs": [],
   "source": [
    "#hide\n",
    "#delete problematic countries from table\n",
    "df_table = df_table[~df_table['Country/Region'].isin(['Cape Verde', 'Cruise Ship', 'Kosovo'])]"
   ]
  },
  {
   "cell_type": "code",
   "execution_count": 17,
   "id": "related-center",
   "metadata": {
    "execution": {
     "iopub.execute_input": "2021-06-09T00:22:53.814126Z",
     "iopub.status.busy": "2021-06-09T00:22:53.813635Z",
     "iopub.status.idle": "2021-06-09T00:22:53.821238Z",
     "shell.execute_reply": "2021-06-09T00:22:53.821621Z"
    },
    "papermill": {
     "duration": 0.049498,
     "end_time": "2021-06-09T00:22:53.821730",
     "exception": false,
     "start_time": "2021-06-09T00:22:53.772232",
     "status": "completed"
    },
    "tags": []
   },
   "outputs": [],
   "source": [
    "#hide\n",
    "metrics = [df_table.columns[index] for index in [1,2,5,6]]\n",
    "# s_china = df_table[df_table['Country/Region'].eq('China')][metrics].sum().add_prefix('China ')\n",
    "s_us = df_table[df_table['Country/Region'].eq('US')][metrics].sum().add_prefix('US ')\n",
    "s_eu = df_table[df_table['Continent'].eq('Europe')][metrics].sum().add_prefix('EU ')\n",
    "s_ind = df_table[df_table['Country/Region'].eq('India')][metrics].sum().add_prefix('India ')\n",
    "summary = {'updated': pd.to_datetime(dt_today), 'since': pd.to_datetime(dt_yday)}\n",
    "summary = {'updated': pd.to_datetime(dt_today), 'since': pd.to_datetime(dt_yday)}\n",
    "summary = {**summary, **df_table[metrics].sum(), **s_ind, **s_us, **s_eu}"
   ]
  },
  {
   "cell_type": "code",
   "execution_count": 18,
   "id": "engaging-syndrome",
   "metadata": {
    "execution": {
     "iopub.execute_input": "2021-06-09T00:22:53.887575Z",
     "iopub.status.busy": "2021-06-09T00:22:53.887090Z",
     "iopub.status.idle": "2021-06-09T00:22:53.898730Z",
     "shell.execute_reply": "2021-06-09T00:22:53.899105Z"
    },
    "papermill": {
     "duration": 0.046452,
     "end_time": "2021-06-09T00:22:53.899212",
     "exception": false,
     "start_time": "2021-06-09T00:22:53.852760",
     "status": "completed"
    },
    "tags": []
   },
   "outputs": [],
   "source": [
    "#hide\n",
    "dft_ct_new_cases = dft_cases.groupby(COL_REGION)[dt_cols].sum().diff(axis=1).fillna(0).astype(int)"
   ]
  },
  {
   "cell_type": "code",
   "execution_count": 19,
   "id": "neutral-assignment",
   "metadata": {
    "execution": {
     "iopub.execute_input": "2021-06-09T00:22:53.965140Z",
     "iopub.status.busy": "2021-06-09T00:22:53.964657Z",
     "iopub.status.idle": "2021-06-09T00:22:53.966382Z",
     "shell.execute_reply": "2021-06-09T00:22:53.966868Z"
    },
    "papermill": {
     "duration": 0.037094,
     "end_time": "2021-06-09T00:22:53.966974",
     "exception": false,
     "start_time": "2021-06-09T00:22:53.929880",
     "status": "completed"
    },
    "tags": []
   },
   "outputs": [],
   "source": [
    "#hide\n",
    "everydaycases = dft_ct_new_cases.cumsum(axis=1)"
   ]
  },
  {
   "cell_type": "code",
   "execution_count": 20,
   "id": "parliamentary-calgary",
   "metadata": {
    "execution": {
     "iopub.execute_input": "2021-06-09T00:22:54.032084Z",
     "iopub.status.busy": "2021-06-09T00:22:54.031594Z",
     "iopub.status.idle": "2021-06-09T00:22:54.538119Z",
     "shell.execute_reply": "2021-06-09T00:22:54.537664Z"
    },
    "papermill": {
     "duration": 0.540526,
     "end_time": "2021-06-09T00:22:54.538241",
     "exception": false,
     "start_time": "2021-06-09T00:22:53.997715",
     "status": "completed"
    },
    "tags": []
   },
   "outputs": [],
   "source": [
    "#hide\n",
    "import pandas as pd\n",
    "import matplotlib.pyplot as plt\n",
    "import matplotlib.ticker as ticker\n",
    "import matplotlib.animation as animation\n",
    "from IPython.display import HTML"
   ]
  },
  {
   "cell_type": "code",
   "execution_count": 21,
   "id": "lasting-extraction",
   "metadata": {
    "execution": {
     "iopub.execute_input": "2021-06-09T00:22:54.881476Z",
     "iopub.status.busy": "2021-06-09T00:22:54.880964Z",
     "iopub.status.idle": "2021-06-09T00:22:54.889226Z",
     "shell.execute_reply": "2021-06-09T00:22:54.889632Z"
    },
    "papermill": {
     "duration": 0.271457,
     "end_time": "2021-06-09T00:22:54.889765",
     "exception": false,
     "start_time": "2021-06-09T00:22:54.618308",
     "status": "completed"
    },
    "tags": []
   },
   "outputs": [],
   "source": [
    "#hide\n",
    "t = everydaycases.stack()"
   ]
  },
  {
   "cell_type": "code",
   "execution_count": 22,
   "id": "premier-sleeve",
   "metadata": {
    "execution": {
     "iopub.execute_input": "2021-06-09T00:22:55.247688Z",
     "iopub.status.busy": "2021-06-09T00:22:55.247169Z",
     "iopub.status.idle": "2021-06-09T00:22:55.251119Z",
     "shell.execute_reply": "2021-06-09T00:22:55.250678Z"
    },
    "papermill": {
     "duration": 0.278586,
     "end_time": "2021-06-09T00:22:55.251228",
     "exception": false,
     "start_time": "2021-06-09T00:22:54.972642",
     "status": "completed"
    },
    "tags": []
   },
   "outputs": [],
   "source": [
    "#hide\n",
    "g = t.reset_index(['Country/Region'])"
   ]
  },
  {
   "cell_type": "code",
   "execution_count": 23,
   "id": "distributed-pittsburgh",
   "metadata": {
    "execution": {
     "iopub.execute_input": "2021-06-09T00:22:55.424300Z",
     "iopub.status.busy": "2021-06-09T00:22:55.423735Z",
     "iopub.status.idle": "2021-06-09T00:22:55.425682Z",
     "shell.execute_reply": "2021-06-09T00:22:55.426117Z"
    },
    "papermill": {
     "duration": 0.109737,
     "end_time": "2021-06-09T00:22:55.426258",
     "exception": false,
     "start_time": "2021-06-09T00:22:55.316521",
     "status": "completed"
    },
    "tags": []
   },
   "outputs": [],
   "source": [
    "#hide\n",
    "g.index.name = 'date'"
   ]
  },
  {
   "cell_type": "code",
   "execution_count": 24,
   "id": "naked-donor",
   "metadata": {
    "execution": {
     "iopub.execute_input": "2021-06-09T00:22:55.514962Z",
     "iopub.status.busy": "2021-06-09T00:22:55.514356Z",
     "iopub.status.idle": "2021-06-09T00:22:55.516030Z",
     "shell.execute_reply": "2021-06-09T00:22:55.516455Z"
    },
    "papermill": {
     "duration": 0.036653,
     "end_time": "2021-06-09T00:22:55.516578",
     "exception": false,
     "start_time": "2021-06-09T00:22:55.479925",
     "status": "completed"
    },
    "tags": []
   },
   "outputs": [],
   "source": [
    "# #hide\n",
    "# g = g.reset_index(['date'])"
   ]
  },
  {
   "cell_type": "code",
   "execution_count": 25,
   "id": "incomplete-mustang",
   "metadata": {
    "execution": {
     "iopub.execute_input": "2021-06-09T00:22:55.581244Z",
     "iopub.status.busy": "2021-06-09T00:22:55.580686Z",
     "iopub.status.idle": "2021-06-09T00:22:55.582821Z",
     "shell.execute_reply": "2021-06-09T00:22:55.582353Z"
    },
    "papermill": {
     "duration": 0.035451,
     "end_time": "2021-06-09T00:22:55.582932",
     "exception": false,
     "start_time": "2021-06-09T00:22:55.547481",
     "status": "completed"
    },
    "tags": []
   },
   "outputs": [],
   "source": [
    "#hide\n",
    "# g.head()"
   ]
  },
  {
   "cell_type": "code",
   "execution_count": 26,
   "id": "specific-kruger",
   "metadata": {
    "execution": {
     "iopub.execute_input": "2021-06-09T00:22:55.648506Z",
     "iopub.status.busy": "2021-06-09T00:22:55.647945Z",
     "iopub.status.idle": "2021-06-09T00:22:55.649565Z",
     "shell.execute_reply": "2021-06-09T00:22:55.650004Z"
    },
    "papermill": {
     "duration": 0.035509,
     "end_time": "2021-06-09T00:22:55.650113",
     "exception": false,
     "start_time": "2021-06-09T00:22:55.614604",
     "status": "completed"
    },
    "tags": []
   },
   "outputs": [],
   "source": [
    "#hide\n",
    "# g.columns = ['date','country','cases']"
   ]
  },
  {
   "cell_type": "code",
   "execution_count": 27,
   "id": "tender-conversion",
   "metadata": {
    "execution": {
     "iopub.execute_input": "2021-06-09T00:22:55.714092Z",
     "iopub.status.busy": "2021-06-09T00:22:55.713603Z",
     "iopub.status.idle": "2021-06-09T00:22:55.715325Z",
     "shell.execute_reply": "2021-06-09T00:22:55.715695Z"
    },
    "papermill": {
     "duration": 0.034997,
     "end_time": "2021-06-09T00:22:55.715801",
     "exception": false,
     "start_time": "2021-06-09T00:22:55.680804",
     "status": "completed"
    },
    "tags": []
   },
   "outputs": [],
   "source": [
    "#hide\n",
    "# g['continent'] = g.country"
   ]
  },
  {
   "cell_type": "code",
   "execution_count": 28,
   "id": "substantial-wilderness",
   "metadata": {
    "execution": {
     "iopub.execute_input": "2021-06-09T00:22:55.780237Z",
     "iopub.status.busy": "2021-06-09T00:22:55.779678Z",
     "iopub.status.idle": "2021-06-09T00:22:55.781398Z",
     "shell.execute_reply": "2021-06-09T00:22:55.781767Z"
    },
    "papermill": {
     "duration": 0.035287,
     "end_time": "2021-06-09T00:22:55.781874",
     "exception": false,
     "start_time": "2021-06-09T00:22:55.746587",
     "status": "completed"
    },
    "tags": []
   },
   "outputs": [],
   "source": [
    "#hide\n",
    "# cols = list(g.columns.values)"
   ]
  },
  {
   "cell_type": "code",
   "execution_count": 29,
   "id": "solved-farming",
   "metadata": {
    "execution": {
     "iopub.execute_input": "2021-06-09T00:22:55.846031Z",
     "iopub.status.busy": "2021-06-09T00:22:55.845544Z",
     "iopub.status.idle": "2021-06-09T00:22:55.847279Z",
     "shell.execute_reply": "2021-06-09T00:22:55.847746Z"
    },
    "papermill": {
     "duration": 0.035367,
     "end_time": "2021-06-09T00:22:55.847850",
     "exception": false,
     "start_time": "2021-06-09T00:22:55.812483",
     "status": "completed"
    },
    "tags": []
   },
   "outputs": [],
   "source": [
    "#hide\n",
    "# cols.insert(0, cols.pop())"
   ]
  },
  {
   "cell_type": "code",
   "execution_count": 30,
   "id": "executed-adoption",
   "metadata": {
    "execution": {
     "iopub.execute_input": "2021-06-09T00:22:55.912067Z",
     "iopub.status.busy": "2021-06-09T00:22:55.911581Z",
     "iopub.status.idle": "2021-06-09T00:22:55.913769Z",
     "shell.execute_reply": "2021-06-09T00:22:55.913378Z"
    },
    "papermill": {
     "duration": 0.035336,
     "end_time": "2021-06-09T00:22:55.913863",
     "exception": false,
     "start_time": "2021-06-09T00:22:55.878527",
     "status": "completed"
    },
    "tags": []
   },
   "outputs": [],
   "source": [
    "#hide\n",
    "# g = g[cols]"
   ]
  },
  {
   "cell_type": "code",
   "execution_count": 31,
   "id": "subject-dublin",
   "metadata": {
    "execution": {
     "iopub.execute_input": "2021-06-09T00:22:55.978107Z",
     "iopub.status.busy": "2021-06-09T00:22:55.977622Z",
     "iopub.status.idle": "2021-06-09T00:22:55.979347Z",
     "shell.execute_reply": "2021-06-09T00:22:55.979809Z"
    },
    "papermill": {
     "duration": 0.035324,
     "end_time": "2021-06-09T00:22:55.979912",
     "exception": false,
     "start_time": "2021-06-09T00:22:55.944588",
     "status": "completed"
    },
    "tags": []
   },
   "outputs": [],
   "source": [
    "#hide\n",
    "# g['continent'] = g['continent'].map(mapping['map.continent'])"
   ]
  },
  {
   "cell_type": "code",
   "execution_count": 32,
   "id": "freelance-scout",
   "metadata": {
    "execution": {
     "iopub.execute_input": "2021-06-09T00:22:56.044201Z",
     "iopub.status.busy": "2021-06-09T00:22:56.043710Z",
     "iopub.status.idle": "2021-06-09T00:22:56.045875Z",
     "shell.execute_reply": "2021-06-09T00:22:56.045466Z"
    },
    "papermill": {
     "duration": 0.035239,
     "end_time": "2021-06-09T00:22:56.045965",
     "exception": false,
     "start_time": "2021-06-09T00:22:56.010726",
     "status": "completed"
    },
    "tags": []
   },
   "outputs": [],
   "source": [
    "#hide\n",
    "# g.head()"
   ]
  },
  {
   "cell_type": "code",
   "execution_count": 33,
   "id": "limited-engine",
   "metadata": {
    "execution": {
     "iopub.execute_input": "2021-06-09T00:22:56.110081Z",
     "iopub.status.busy": "2021-06-09T00:22:56.109599Z",
     "iopub.status.idle": "2021-06-09T00:22:56.111809Z",
     "shell.execute_reply": "2021-06-09T00:22:56.111417Z"
    },
    "papermill": {
     "duration": 0.035329,
     "end_time": "2021-06-09T00:22:56.111902",
     "exception": false,
     "start_time": "2021-06-09T00:22:56.076573",
     "status": "completed"
    },
    "tags": []
   },
   "outputs": [],
   "source": [
    "# hide\n",
    "# g['date'] = g['date'].astype('datetime64[ns]')"
   ]
  },
  {
   "cell_type": "code",
   "execution_count": 34,
   "id": "sophisticated-supervisor",
   "metadata": {
    "execution": {
     "iopub.execute_input": "2021-06-09T00:22:56.176457Z",
     "iopub.status.busy": "2021-06-09T00:22:56.175969Z",
     "iopub.status.idle": "2021-06-09T00:22:56.177645Z",
     "shell.execute_reply": "2021-06-09T00:22:56.178016Z"
    },
    "papermill": {
     "duration": 0.035169,
     "end_time": "2021-06-09T00:22:56.178122",
     "exception": false,
     "start_time": "2021-06-09T00:22:56.142953",
     "status": "completed"
    },
    "tags": []
   },
   "outputs": [],
   "source": [
    "#hide\n",
    "# g['date'] = g.date.dt.dayofyear"
   ]
  },
  {
   "cell_type": "code",
   "execution_count": 35,
   "id": "inside-dubai",
   "metadata": {
    "execution": {
     "iopub.execute_input": "2021-06-09T00:22:56.242143Z",
     "iopub.status.busy": "2021-06-09T00:22:56.241659Z",
     "iopub.status.idle": "2021-06-09T00:22:56.244084Z",
     "shell.execute_reply": "2021-06-09T00:22:56.244553Z"
    },
    "papermill": {
     "duration": 0.036006,
     "end_time": "2021-06-09T00:22:56.244656",
     "exception": false,
     "start_time": "2021-06-09T00:22:56.208650",
     "status": "completed"
    },
    "tags": []
   },
   "outputs": [],
   "source": [
    "#hide\n",
    "# g = g.rename(columns= {'continent':'group','country':'name','cases':'value'})"
   ]
  },
  {
   "cell_type": "code",
   "execution_count": 36,
   "id": "fleet-motorcycle",
   "metadata": {
    "execution": {
     "iopub.execute_input": "2021-06-09T00:22:56.309218Z",
     "iopub.status.busy": "2021-06-09T00:22:56.308725Z",
     "iopub.status.idle": "2021-06-09T00:22:56.310938Z",
     "shell.execute_reply": "2021-06-09T00:22:56.310530Z"
    },
    "papermill": {
     "duration": 0.03542,
     "end_time": "2021-06-09T00:22:56.311035",
     "exception": false,
     "start_time": "2021-06-09T00:22:56.275615",
     "status": "completed"
    },
    "tags": []
   },
   "outputs": [],
   "source": [
    "#hide\n",
    "# cols = ['name','group','day','value']"
   ]
  },
  {
   "cell_type": "code",
   "execution_count": 37,
   "id": "continued-sleeping",
   "metadata": {
    "execution": {
     "iopub.execute_input": "2021-06-09T00:22:56.375416Z",
     "iopub.status.busy": "2021-06-09T00:22:56.374926Z",
     "iopub.status.idle": "2021-06-09T00:22:56.376741Z",
     "shell.execute_reply": "2021-06-09T00:22:56.377110Z"
    },
    "papermill": {
     "duration": 0.035506,
     "end_time": "2021-06-09T00:22:56.377216",
     "exception": false,
     "start_time": "2021-06-09T00:22:56.341710",
     "status": "completed"
    },
    "tags": []
   },
   "outputs": [],
   "source": [
    "#hide\n",
    "# g.rename(columns= {'date':'day'},inplace = True)"
   ]
  },
  {
   "cell_type": "code",
   "execution_count": 38,
   "id": "major-fight",
   "metadata": {
    "execution": {
     "iopub.execute_input": "2021-06-09T00:22:56.441382Z",
     "iopub.status.busy": "2021-06-09T00:22:56.440898Z",
     "iopub.status.idle": "2021-06-09T00:22:56.442728Z",
     "shell.execute_reply": "2021-06-09T00:22:56.443102Z"
    },
    "papermill": {
     "duration": 0.035293,
     "end_time": "2021-06-09T00:22:56.443208",
     "exception": false,
     "start_time": "2021-06-09T00:22:56.407915",
     "status": "completed"
    },
    "tags": []
   },
   "outputs": [],
   "source": [
    "#hide\n",
    "# g = g[cols]"
   ]
  },
  {
   "cell_type": "code",
   "execution_count": 39,
   "id": "structured-mobile",
   "metadata": {
    "execution": {
     "iopub.execute_input": "2021-06-09T00:22:56.507322Z",
     "iopub.status.busy": "2021-06-09T00:22:56.506824Z",
     "iopub.status.idle": "2021-06-09T00:22:56.508584Z",
     "shell.execute_reply": "2021-06-09T00:22:56.509000Z"
    },
    "papermill": {
     "duration": 0.035305,
     "end_time": "2021-06-09T00:22:56.509103",
     "exception": false,
     "start_time": "2021-06-09T00:22:56.473798",
     "status": "completed"
    },
    "tags": []
   },
   "outputs": [],
   "source": [
    "# #hide\n",
    "# g = g[g.group.notna()]"
   ]
  },
  {
   "cell_type": "code",
   "execution_count": 40,
   "id": "determined-closing",
   "metadata": {
    "execution": {
     "iopub.execute_input": "2021-06-09T00:22:56.573531Z",
     "iopub.status.busy": "2021-06-09T00:22:56.573043Z",
     "iopub.status.idle": "2021-06-09T00:22:56.574889Z",
     "shell.execute_reply": "2021-06-09T00:22:56.575260Z"
    },
    "papermill": {
     "duration": 0.035466,
     "end_time": "2021-06-09T00:22:56.575367",
     "exception": false,
     "start_time": "2021-06-09T00:22:56.539901",
     "status": "completed"
    },
    "tags": []
   },
   "outputs": [],
   "source": [
    "# #hide\n",
    "# colors = dict(zip(\n",
    "#     [\"Oceania\", \"Europe\", \"Asia\", \"South America\", \"Middle East\", \"North America\", \"Africa\"],\n",
    "#     [\"#adb0ff\", \"#ffb3ff\", \"#90d595\", \"#e48381\", \"#aafbff\", \"#f7bb5f\", \"#eafb50\"]\n",
    "# ))\n",
    "# group_lk = g.set_index('name')['group'].to_dict()"
   ]
  },
  {
   "cell_type": "code",
   "execution_count": null,
   "id": "gross-drinking",
   "metadata": {
    "papermill": {
     "duration": 0.030663,
     "end_time": "2021-06-09T00:22:56.636588",
     "exception": false,
     "start_time": "2021-06-09T00:22:56.605925",
     "status": "completed"
    },
    "tags": []
   },
   "outputs": [],
   "source": []
  },
  {
   "cell_type": "code",
   "execution_count": 41,
   "id": "subject-macintosh",
   "metadata": {
    "execution": {
     "iopub.execute_input": "2021-06-09T00:22:56.701842Z",
     "iopub.status.busy": "2021-06-09T00:22:56.701339Z",
     "iopub.status.idle": "2021-06-09T00:22:56.703996Z",
     "shell.execute_reply": "2021-06-09T00:22:56.703583Z"
    },
    "papermill": {
     "duration": 0.036775,
     "end_time": "2021-06-09T00:22:56.704087",
     "exception": false,
     "start_time": "2021-06-09T00:22:56.667312",
     "status": "completed"
    },
    "tags": []
   },
   "outputs": [],
   "source": [
    "# #hide\n",
    "# fig, ax = plt.subplots(figsize=(15, 8))\n",
    "\n",
    "# def draw_barchart(current_day):\n",
    "#     dff = g[g['day'].eq(current_day)].sort_values(by='value', ascending=True).tail(10)\n",
    "#     ax.clear()\n",
    "#     ax.barh(dff['name'], dff['value'], color=[colors[group_lk[x]] for x in dff['name']])\n",
    "#     dx = dff['value'].max() / 200\n",
    "    \n",
    "#     for i, (value, name) in enumerate(zip(dff['value'], dff['name'])):\n",
    "#         ax.text(value-dx, i,     name,           size=14, weight=600, ha='right', va='bottom')\n",
    "#         ax.text(value-dx, i-.25, group_lk[name], size=10, color='#444444', ha='right', va='baseline')\n",
    "#         ax.text(value+dx, i,     f'{value:,.0f}',  size=14, ha='left',  va='center')\n",
    "#     ax.text(1, 0.4, current_day, transform=ax.transAxes, color='#777777', size=46, ha='right', weight=800)\n",
    "#     ax.text(0, 1.06, 'Population (thousands)', transform=ax.transAxes, size=12, color='#777777')\n",
    "#     ax.xaxis.set_major_formatter(ticker.StrMethodFormatter('{x:,.0f}'))\n",
    "#     ax.xaxis.set_ticks_position('top')\n",
    "#     ax.tick_params(axis='x', colors='#777777', labelsize=12)\n",
    "#     ax.set_yticks([])\n",
    "#     ax.margins(0, 0.01)\n",
    "#     ax.grid(which='major', axis='x', linestyle='-')\n",
    "#     ax.set_axisbelow(True)\n",
    "    \n",
    "#     ax.text(0, 1.15, 'Coronavirus',\n",
    "#             transform=ax.transAxes, size=24, weight=600, ha='left', va='top')\n",
    "# #     ax.text(1, 0, 'by @pratapvardhan; credit @jburnmurdoch', transform=ax.transAxes, color='#777777', ha='right',\n",
    "# #             bbox=dict(facecolor='white', alpha=0.8, edgecolor='white'))\n",
    "#     plt.box(False)"
   ]
  },
  {
   "cell_type": "code",
   "execution_count": 42,
   "id": "sexual-wages",
   "metadata": {
    "execution": {
     "iopub.execute_input": "2021-06-09T00:22:56.769332Z",
     "iopub.status.busy": "2021-06-09T00:22:56.768846Z",
     "iopub.status.idle": "2021-06-09T00:22:56.771146Z",
     "shell.execute_reply": "2021-06-09T00:22:56.771613Z"
    },
    "papermill": {
     "duration": 0.036858,
     "end_time": "2021-06-09T00:22:56.771716",
     "exception": false,
     "start_time": "2021-06-09T00:22:56.734858",
     "status": "completed"
    },
    "tags": []
   },
   "outputs": [],
   "source": [
    "# #hide_input\n",
    "# fig, ax = plt.subplots(figsize=(15, 8))\n",
    "# animator = animation.FuncAnimation(fig, draw_barchart, frames=range(g.day.values.min(), g.day.values.max()))\n",
    "# HTML(animator.to_jshtml())\n",
    "# # or use animator.to_html5_video() or animator.save() "
   ]
  },
  {
   "cell_type": "code",
   "execution_count": null,
   "id": "australian-container",
   "metadata": {
    "papermill": {
     "duration": 0.030655,
     "end_time": "2021-06-09T00:22:56.833215",
     "exception": false,
     "start_time": "2021-06-09T00:22:56.802560",
     "status": "completed"
    },
    "tags": []
   },
   "outputs": [],
   "source": []
  },
  {
   "cell_type": "code",
   "execution_count": null,
   "id": "mediterranean-pontiac",
   "metadata": {
    "papermill": {
     "duration": 0.030561,
     "end_time": "2021-06-09T00:22:56.898759",
     "exception": false,
     "start_time": "2021-06-09T00:22:56.868198",
     "status": "completed"
    },
    "tags": []
   },
   "outputs": [],
   "source": []
  },
  {
   "cell_type": "code",
   "execution_count": null,
   "id": "aging-legislature",
   "metadata": {
    "papermill": {
     "duration": 0.030693,
     "end_time": "2021-06-09T00:22:56.960271",
     "exception": false,
     "start_time": "2021-06-09T00:22:56.929578",
     "status": "completed"
    },
    "tags": []
   },
   "outputs": [],
   "source": []
  }
 ],
 "metadata": {
  "kernelspec": {
   "display_name": "Python 3",
   "language": "python",
   "name": "python3"
  },
  "language_info": {
   "codemirror_mode": {
    "name": "ipython",
    "version": 3
   },
   "file_extension": ".py",
   "mimetype": "text/x-python",
   "name": "python",
   "nbconvert_exporter": "python",
   "pygments_lexer": "ipython3",
   "version": "3.6.13"
  },
  "papermill": {
   "duration": 7.303723,
   "end_time": "2021-06-09T00:22:58.277452",
   "environment_variables": {},
   "exception": null,
   "input_path": "2020-03-21-covid19exp.ipynb",
   "output_path": "2020-03-21-covid19exp.ipynb",
   "parameters": {},
   "start_time": "2021-06-09T00:22:50.973729",
   "version": "2.0.0"
  }
 },
 "nbformat": 4,
 "nbformat_minor": 5
}