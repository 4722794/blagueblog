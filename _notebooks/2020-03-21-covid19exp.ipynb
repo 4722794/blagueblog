{
 "cells": [
  {
   "cell_type": "markdown",
   "id": "muslim-click",
   "metadata": {
    "papermill": {
     "duration": 0.035327,
     "end_time": "2021-12-05T12:11:57.541054",
     "exception": false,
     "start_time": "2021-12-05T12:11:57.505727",
     "status": "completed"
    },
    "tags": []
   },
   "source": [
    "# COVID-19 Case Race\n",
    "> A race chart to see rising cases around the world\n",
    "\n",
    "- author: Hargun Oberoi\n",
    "- image: images/covid-overview.png\n",
    "- hide: false\n",
    "- badges: false"
   ]
  },
  {
   "cell_type": "code",
   "execution_count": 1,
   "id": "proof-material",
   "metadata": {
    "execution": {
     "iopub.execute_input": "2021-12-05T12:11:57.614510Z",
     "iopub.status.busy": "2021-12-05T12:11:57.613915Z",
     "iopub.status.idle": "2021-12-05T12:11:57.970156Z",
     "shell.execute_reply": "2021-12-05T12:11:57.969602Z"
    },
    "papermill": {
     "duration": 0.399537,
     "end_time": "2021-12-05T12:11:57.970355",
     "exception": false,
     "start_time": "2021-12-05T12:11:57.570818",
     "status": "completed"
    },
    "tags": []
   },
   "outputs": [],
   "source": [
    "#hide\n",
    "import numpy as np\n",
    "import pandas as pd\n",
    "from jinja2 import Template\n",
    "from IPython.display import HTML"
   ]
  },
  {
   "cell_type": "code",
   "execution_count": 2,
   "id": "developed-terminology",
   "metadata": {
    "execution": {
     "iopub.execute_input": "2021-12-05T12:11:58.045975Z",
     "iopub.status.busy": "2021-12-05T12:11:58.044925Z",
     "iopub.status.idle": "2021-12-05T12:11:58.049267Z",
     "shell.execute_reply": "2021-12-05T12:11:58.049678Z"
    },
    "papermill": {
     "duration": 0.046239,
     "end_time": "2021-12-05T12:11:58.049815",
     "exception": false,
     "start_time": "2021-12-05T12:11:58.003576",
     "status": "completed"
    },
    "tags": []
   },
   "outputs": [],
   "source": [
    "#hide\n",
    "\n",
    "# FETCH\n",
    "base_url = 'https://raw.githubusercontent.com/pratapvardhan/notebooks/master/covid19/'\n",
    "paths = {\n",
    "    'mapping': base_url + 'mapping_countries.csv',\n",
    "    'overview': base_url + 'overview.tpl'\n",
    "}"
   ]
  },
  {
   "cell_type": "code",
   "execution_count": 3,
   "id": "dynamic-saver",
   "metadata": {
    "execution": {
     "iopub.execute_input": "2021-12-05T12:11:58.124645Z",
     "iopub.status.busy": "2021-12-05T12:11:58.124044Z",
     "iopub.status.idle": "2021-12-05T12:11:58.128214Z",
     "shell.execute_reply": "2021-12-05T12:11:58.128605Z"
    },
    "papermill": {
     "duration": 0.046549,
     "end_time": "2021-12-05T12:11:58.128750",
     "exception": false,
     "start_time": "2021-12-05T12:11:58.082201",
     "status": "completed"
    },
    "tags": []
   },
   "outputs": [
    {
     "data": {
      "text/plain": [
       "'https://raw.githubusercontent.com/pratapvardhan/notebooks/master/covid19/mapping_countries.csv'"
      ]
     },
     "execution_count": 3,
     "metadata": {},
     "output_type": "execute_result"
    }
   ],
   "source": [
    "#hide\n",
    "paths['mapping']"
   ]
  },
  {
   "cell_type": "code",
   "execution_count": 4,
   "id": "urban-software",
   "metadata": {
    "execution": {
     "iopub.execute_input": "2021-12-05T12:11:58.201156Z",
     "iopub.status.busy": "2021-12-05T12:11:58.200568Z",
     "iopub.status.idle": "2021-12-05T12:11:58.203300Z",
     "shell.execute_reply": "2021-12-05T12:11:58.202772Z"
    },
    "papermill": {
     "duration": 0.044003,
     "end_time": "2021-12-05T12:11:58.203415",
     "exception": false,
     "start_time": "2021-12-05T12:11:58.159412",
     "status": "completed"
    },
    "tags": []
   },
   "outputs": [],
   "source": [
    "#hide\n",
    "def get_mappings(url):\n",
    "    df = pd.read_csv(url)\n",
    "    return {\n",
    "        'df': df,\n",
    "        'replace.country': dict(df.dropna(subset=['Name']).set_index('Country')['Name']),\n",
    "        'map.continent': dict(df.set_index('Name')['Continent'])\n",
    "    }"
   ]
  },
  {
   "cell_type": "code",
   "execution_count": 5,
   "id": "intimate-machinery",
   "metadata": {
    "execution": {
     "iopub.execute_input": "2021-12-05T12:11:58.277719Z",
     "iopub.status.busy": "2021-12-05T12:11:58.277131Z",
     "iopub.status.idle": "2021-12-05T12:11:58.376379Z",
     "shell.execute_reply": "2021-12-05T12:11:58.375652Z"
    },
    "papermill": {
     "duration": 0.139845,
     "end_time": "2021-12-05T12:11:58.376549",
     "exception": false,
     "start_time": "2021-12-05T12:11:58.236704",
     "status": "completed"
    },
    "tags": []
   },
   "outputs": [],
   "source": [
    "#hide\n",
    "mapping = get_mappings(paths['mapping'])"
   ]
  },
  {
   "cell_type": "code",
   "execution_count": 6,
   "id": "certified-tactics",
   "metadata": {
    "execution": {
     "iopub.execute_input": "2021-12-05T12:11:58.450819Z",
     "iopub.status.busy": "2021-12-05T12:11:58.449713Z",
     "iopub.status.idle": "2021-12-05T12:11:58.453381Z",
     "shell.execute_reply": "2021-12-05T12:11:58.452907Z"
    },
    "papermill": {
     "duration": 0.043089,
     "end_time": "2021-12-05T12:11:58.453506",
     "exception": false,
     "start_time": "2021-12-05T12:11:58.410417",
     "status": "completed"
    },
    "tags": []
   },
   "outputs": [],
   "source": [
    "#hide\n",
    "def get_template(path):\n",
    "    from urllib.parse import urlparse\n",
    "    if bool(urlparse(path).netloc):\n",
    "        from urllib.request import urlopen\n",
    "        return urlopen(path).read().decode('utf8')\n",
    "    return open(path).read()"
   ]
  },
  {
   "cell_type": "code",
   "execution_count": 7,
   "id": "realistic-blast",
   "metadata": {
    "execution": {
     "iopub.execute_input": "2021-12-05T12:11:58.524861Z",
     "iopub.status.busy": "2021-12-05T12:11:58.524274Z",
     "iopub.status.idle": "2021-12-05T12:11:58.526778Z",
     "shell.execute_reply": "2021-12-05T12:11:58.526298Z"
    },
    "papermill": {
     "duration": 0.040879,
     "end_time": "2021-12-05T12:11:58.526892",
     "exception": false,
     "start_time": "2021-12-05T12:11:58.486013",
     "status": "completed"
    },
    "tags": []
   },
   "outputs": [],
   "source": [
    "#hide\n",
    "def get_frame(name):\n",
    "    url = (\n",
    "        'https://raw.githubusercontent.com/CSSEGISandData/COVID-19/master/csse_covid_19_data/'\n",
    "        f'csse_covid_19_time_series/time_series_covid19_{name}_global.csv')\n",
    "    df = pd.read_csv(url)\n",
    "    # rename countries\n",
    "    df['Country/Region'] = df['Country/Region'].replace(mapping['replace.country'])\n",
    "    return df"
   ]
  },
  {
   "cell_type": "code",
   "execution_count": 8,
   "id": "affiliated-characterization",
   "metadata": {
    "execution": {
     "iopub.execute_input": "2021-12-05T12:11:58.596316Z",
     "iopub.status.busy": "2021-12-05T12:11:58.595818Z",
     "iopub.status.idle": "2021-12-05T12:11:58.598073Z",
     "shell.execute_reply": "2021-12-05T12:11:58.597634Z"
    },
    "papermill": {
     "duration": 0.040334,
     "end_time": "2021-12-05T12:11:58.598186",
     "exception": false,
     "start_time": "2021-12-05T12:11:58.557852",
     "status": "completed"
    },
    "tags": []
   },
   "outputs": [],
   "source": [
    "#hide\n",
    "def get_dates(df):\n",
    "    dt_cols = df.columns[~df.columns.isin(['Province/State', 'Country/Region', 'Lat', 'Long'])]\n",
    "    LAST_DATE_I = -1\n",
    "    # sometimes last column may be empty, then go backwards\n",
    "    for i in range(-1, -len(dt_cols), -1):\n",
    "        if not df[dt_cols[i]].fillna(0).eq(0).all():\n",
    "            LAST_DATE_I = i\n",
    "            break\n",
    "    return LAST_DATE_I, dt_cols"
   ]
  },
  {
   "cell_type": "code",
   "execution_count": 9,
   "id": "recent-optimization",
   "metadata": {
    "execution": {
     "iopub.execute_input": "2021-12-05T12:11:58.665183Z",
     "iopub.status.busy": "2021-12-05T12:11:58.664587Z",
     "iopub.status.idle": "2021-12-05T12:11:58.999923Z",
     "shell.execute_reply": "2021-12-05T12:11:58.998435Z"
    },
    "papermill": {
     "duration": 0.370968,
     "end_time": "2021-12-05T12:11:59.000149",
     "exception": false,
     "start_time": "2021-12-05T12:11:58.629181",
     "status": "completed"
    },
    "tags": []
   },
   "outputs": [],
   "source": [
    "#hide\n",
    "COL_REGION = 'Country/Region'\n",
    "# Confirmed, Recovered, Deaths\n",
    "df = get_frame('confirmed')\n",
    "# dft_: timeseries, dfc_: today country agg\n",
    "dft_cases = df\n",
    "dft_deaths = get_frame('deaths')\n",
    "dft_recovered = get_frame('recovered')\n",
    "LAST_DATE_I, dt_cols = get_dates(df)"
   ]
  },
  {
   "cell_type": "code",
   "execution_count": 10,
   "id": "absolute-copper",
   "metadata": {
    "execution": {
     "iopub.execute_input": "2021-12-05T12:11:59.075940Z",
     "iopub.status.busy": "2021-12-05T12:11:59.075319Z",
     "iopub.status.idle": "2021-12-05T12:11:59.079703Z",
     "shell.execute_reply": "2021-12-05T12:11:59.079218Z"
    },
    "papermill": {
     "duration": 0.045467,
     "end_time": "2021-12-05T12:11:59.079835",
     "exception": false,
     "start_time": "2021-12-05T12:11:59.034368",
     "status": "completed"
    },
    "tags": []
   },
   "outputs": [],
   "source": [
    "#hide\n",
    "LAST_DATE_I, dt_cols = get_dates(df)\n",
    "dt_today =dt_cols[LAST_DATE_I]\n",
    "# dt_5day = dt_cols[LAST_DATE_I - 5]\n",
    "dt_yday = dt_cols[LAST_DATE_I - 1]"
   ]
  },
  {
   "cell_type": "code",
   "execution_count": 11,
   "id": "restricted-sheriff",
   "metadata": {
    "execution": {
     "iopub.execute_input": "2021-12-05T12:11:59.162444Z",
     "iopub.status.busy": "2021-12-05T12:11:59.161329Z",
     "iopub.status.idle": "2021-12-05T12:11:59.164087Z",
     "shell.execute_reply": "2021-12-05T12:11:59.163603Z"
    },
    "papermill": {
     "duration": 0.050689,
     "end_time": "2021-12-05T12:11:59.164219",
     "exception": false,
     "start_time": "2021-12-05T12:11:59.113530",
     "status": "completed"
    },
    "tags": []
   },
   "outputs": [],
   "source": [
    "#hide\n",
    "dfc_cases = dft_cases.groupby(COL_REGION)[dt_today].sum()\n",
    "dfc_deaths = dft_deaths.groupby(COL_REGION)[dt_today].sum()\n",
    "# dfp_cases = dft_cases.groupby(COL_REGION)[dt_5day].sum()\n",
    "# dfp_deaths = dft_deaths.groupby(COL_REGION)[dt_5day].sum()\n",
    "dfp_cases = dft_cases.groupby(COL_REGION)[dt_yday].sum()\n",
    "dfp_deaths = dft_deaths.groupby(COL_REGION)[dt_yday].sum()"
   ]
  },
  {
   "cell_type": "code",
   "execution_count": 12,
   "id": "deluxe-hepatitis",
   "metadata": {
    "execution": {
     "iopub.execute_input": "2021-12-05T12:11:59.239032Z",
     "iopub.status.busy": "2021-12-05T12:11:59.238409Z",
     "iopub.status.idle": "2021-12-05T12:11:59.244040Z",
     "shell.execute_reply": "2021-12-05T12:11:59.243536Z"
    },
    "papermill": {
     "duration": 0.046148,
     "end_time": "2021-12-05T12:11:59.244163",
     "exception": false,
     "start_time": "2021-12-05T12:11:59.198015",
     "status": "completed"
    },
    "tags": []
   },
   "outputs": [],
   "source": [
    "#hide\n",
    "df_table = (pd.DataFrame(dict(Cases = dfc_cases, Deaths = dfc_deaths, PCases = dfp_cases, PDeaths = dfp_deaths))\n",
    "            .sort_values(by = ['Cases','Deaths'], ascending = [False, False])\n",
    "            .reset_index())"
   ]
  },
  {
   "cell_type": "code",
   "execution_count": 13,
   "id": "educational-chancellor",
   "metadata": {
    "execution": {
     "iopub.execute_input": "2021-12-05T12:11:59.334658Z",
     "iopub.status.busy": "2021-12-05T12:11:59.329635Z",
     "iopub.status.idle": "2021-12-05T12:11:59.337840Z",
     "shell.execute_reply": "2021-12-05T12:11:59.337369Z"
    },
    "papermill": {
     "duration": 0.060846,
     "end_time": "2021-12-05T12:11:59.337957",
     "exception": false,
     "start_time": "2021-12-05T12:11:59.277111",
     "status": "completed"
    },
    "tags": []
   },
   "outputs": [
    {
     "data": {
      "text/html": [
       "<div>\n",
       "<style scoped>\n",
       "    .dataframe tbody tr th:only-of-type {\n",
       "        vertical-align: middle;\n",
       "    }\n",
       "\n",
       "    .dataframe tbody tr th {\n",
       "        vertical-align: top;\n",
       "    }\n",
       "\n",
       "    .dataframe thead th {\n",
       "        text-align: right;\n",
       "    }\n",
       "</style>\n",
       "<table border=\"1\" class=\"dataframe\">\n",
       "  <thead>\n",
       "    <tr style=\"text-align: right;\">\n",
       "      <th></th>\n",
       "      <th>Country/Region</th>\n",
       "      <th>Cases</th>\n",
       "      <th>Deaths</th>\n",
       "      <th>PCases</th>\n",
       "      <th>PDeaths</th>\n",
       "      <th>Cases (+)</th>\n",
       "      <th>Deaths (+)</th>\n",
       "      <th>Fatality Rate</th>\n",
       "      <th>Continent</th>\n",
       "    </tr>\n",
       "  </thead>\n",
       "  <tbody>\n",
       "    <tr>\n",
       "      <th>0</th>\n",
       "      <td>US</td>\n",
       "      <td>49051140</td>\n",
       "      <td>788202</td>\n",
       "      <td>48990127</td>\n",
       "      <td>787695</td>\n",
       "      <td>61013</td>\n",
       "      <td>507</td>\n",
       "      <td>1.61</td>\n",
       "      <td>North America</td>\n",
       "    </tr>\n",
       "    <tr>\n",
       "      <th>1</th>\n",
       "      <td>India</td>\n",
       "      <td>34624360</td>\n",
       "      <td>470530</td>\n",
       "      <td>34624360</td>\n",
       "      <td>470530</td>\n",
       "      <td>0</td>\n",
       "      <td>0</td>\n",
       "      <td>1.36</td>\n",
       "      <td>Asia</td>\n",
       "    </tr>\n",
       "    <tr>\n",
       "      <th>2</th>\n",
       "      <td>Brazil</td>\n",
       "      <td>22138247</td>\n",
       "      <td>615570</td>\n",
       "      <td>22129409</td>\n",
       "      <td>615400</td>\n",
       "      <td>8838</td>\n",
       "      <td>170</td>\n",
       "      <td>2.78</td>\n",
       "      <td>South America</td>\n",
       "    </tr>\n",
       "    <tr>\n",
       "      <th>3</th>\n",
       "      <td>United Kingdom</td>\n",
       "      <td>10479955</td>\n",
       "      <td>146001</td>\n",
       "      <td>10438381</td>\n",
       "      <td>145874</td>\n",
       "      <td>41574</td>\n",
       "      <td>127</td>\n",
       "      <td>1.39</td>\n",
       "      <td>Europe</td>\n",
       "    </tr>\n",
       "    <tr>\n",
       "      <th>4</th>\n",
       "      <td>Russia</td>\n",
       "      <td>9598283</td>\n",
       "      <td>274648</td>\n",
       "      <td>9565909</td>\n",
       "      <td>273463</td>\n",
       "      <td>32374</td>\n",
       "      <td>1185</td>\n",
       "      <td>2.86</td>\n",
       "      <td>Europe</td>\n",
       "    </tr>\n",
       "  </tbody>\n",
       "</table>\n",
       "</div>"
      ],
      "text/plain": [
       "   Country/Region     Cases  Deaths    PCases  PDeaths  Cases (+)  Deaths (+)  \\\n",
       "0              US  49051140  788202  48990127   787695      61013         507   \n",
       "1           India  34624360  470530  34624360   470530          0           0   \n",
       "2          Brazil  22138247  615570  22129409   615400       8838         170   \n",
       "3  United Kingdom  10479955  146001  10438381   145874      41574         127   \n",
       "4          Russia   9598283  274648   9565909   273463      32374        1185   \n",
       "\n",
       "   Fatality Rate      Continent  \n",
       "0           1.61  North America  \n",
       "1           1.36           Asia  \n",
       "2           2.78  South America  \n",
       "3           1.39         Europe  \n",
       "4           2.86         Europe  "
      ]
     },
     "execution_count": 13,
     "metadata": {},
     "output_type": "execute_result"
    }
   ],
   "source": [
    "#hide\n",
    "for c in 'Cases, Deaths'.split(', '):\n",
    "    df_table[f'{c} (+)'] = (df_table[c] - df_table[f'P{c}']).clip(0)\n",
    "    #Clip ça veut dire, les chiffres negatif sont interdit\n",
    "df_table['Fatality Rate'] = (100* df_table['Deaths']/ df_table['Cases']).round(2)\n",
    "df_table['Continent'] = df_table['Country/Region'].map(mapping['map.continent'])\n",
    "df_table.head(5)"
   ]
  },
  {
   "cell_type": "code",
   "execution_count": 14,
   "id": "aboriginal-bulgaria",
   "metadata": {
    "execution": {
     "iopub.execute_input": "2021-12-05T12:11:59.409694Z",
     "iopub.status.busy": "2021-12-05T12:11:59.409111Z",
     "iopub.status.idle": "2021-12-05T12:11:59.411200Z",
     "shell.execute_reply": "2021-12-05T12:11:59.411669Z"
    },
    "papermill": {
     "duration": 0.04059,
     "end_time": "2021-12-05T12:11:59.411798",
     "exception": false,
     "start_time": "2021-12-05T12:11:59.371208",
     "status": "completed"
    },
    "tags": []
   },
   "outputs": [],
   "source": [
    "#hide\n",
    "#delete problematic countries from table\n",
    "df_table = df_table[~df_table['Country/Region'].isin(['Cape Verde', 'Cruise Ship', 'Kosovo'])]"
   ]
  },
  {
   "cell_type": "code",
   "execution_count": 15,
   "id": "fantastic-effect",
   "metadata": {
    "execution": {
     "iopub.execute_input": "2021-12-05T12:11:59.487724Z",
     "iopub.status.busy": "2021-12-05T12:11:59.487135Z",
     "iopub.status.idle": "2021-12-05T12:11:59.506702Z",
     "shell.execute_reply": "2021-12-05T12:11:59.505937Z"
    },
    "papermill": {
     "duration": 0.062183,
     "end_time": "2021-12-05T12:11:59.506852",
     "exception": false,
     "start_time": "2021-12-05T12:11:59.444669",
     "status": "completed"
    },
    "tags": []
   },
   "outputs": [
    {
     "data": {
      "text/html": [
       "<div>\n",
       "<style scoped>\n",
       "    .dataframe tbody tr th:only-of-type {\n",
       "        vertical-align: middle;\n",
       "    }\n",
       "\n",
       "    .dataframe tbody tr th {\n",
       "        vertical-align: top;\n",
       "    }\n",
       "\n",
       "    .dataframe thead th {\n",
       "        text-align: right;\n",
       "    }\n",
       "</style>\n",
       "<table border=\"1\" class=\"dataframe\">\n",
       "  <thead>\n",
       "    <tr style=\"text-align: right;\">\n",
       "      <th></th>\n",
       "      <th>Country/Region</th>\n",
       "      <th>Cases</th>\n",
       "      <th>Deaths</th>\n",
       "      <th>PCases</th>\n",
       "      <th>PDeaths</th>\n",
       "      <th>Cases (+)</th>\n",
       "      <th>Deaths (+)</th>\n",
       "      <th>Fatality Rate</th>\n",
       "      <th>Continent</th>\n",
       "    </tr>\n",
       "  </thead>\n",
       "  <tbody>\n",
       "    <tr>\n",
       "      <th>0</th>\n",
       "      <td>US</td>\n",
       "      <td>49051140</td>\n",
       "      <td>788202</td>\n",
       "      <td>48990127</td>\n",
       "      <td>787695</td>\n",
       "      <td>61013</td>\n",
       "      <td>507</td>\n",
       "      <td>1.6</td>\n",
       "      <td>North America</td>\n",
       "    </tr>\n",
       "    <tr>\n",
       "      <th>1</th>\n",
       "      <td>India</td>\n",
       "      <td>34624360</td>\n",
       "      <td>470530</td>\n",
       "      <td>34624360</td>\n",
       "      <td>470530</td>\n",
       "      <td>0</td>\n",
       "      <td>0</td>\n",
       "      <td>1.4</td>\n",
       "      <td>Asia</td>\n",
       "    </tr>\n",
       "    <tr>\n",
       "      <th>2</th>\n",
       "      <td>Brazil</td>\n",
       "      <td>22138247</td>\n",
       "      <td>615570</td>\n",
       "      <td>22129409</td>\n",
       "      <td>615400</td>\n",
       "      <td>8838</td>\n",
       "      <td>170</td>\n",
       "      <td>2.8</td>\n",
       "      <td>South America</td>\n",
       "    </tr>\n",
       "    <tr>\n",
       "      <th>3</th>\n",
       "      <td>United Kingdom</td>\n",
       "      <td>10479955</td>\n",
       "      <td>146001</td>\n",
       "      <td>10438381</td>\n",
       "      <td>145874</td>\n",
       "      <td>41574</td>\n",
       "      <td>127</td>\n",
       "      <td>1.4</td>\n",
       "      <td>Europe</td>\n",
       "    </tr>\n",
       "    <tr>\n",
       "      <th>4</th>\n",
       "      <td>Russia</td>\n",
       "      <td>9598283</td>\n",
       "      <td>274648</td>\n",
       "      <td>9565909</td>\n",
       "      <td>273463</td>\n",
       "      <td>32374</td>\n",
       "      <td>1185</td>\n",
       "      <td>2.9</td>\n",
       "      <td>Europe</td>\n",
       "    </tr>\n",
       "  </tbody>\n",
       "</table>\n",
       "</div>"
      ],
      "text/plain": [
       "   Country/Region     Cases  Deaths    PCases  PDeaths  Cases (+)  Deaths (+)  \\\n",
       "0              US  49051140  788202  48990127   787695      61013         507   \n",
       "1           India  34624360  470530  34624360   470530          0           0   \n",
       "2          Brazil  22138247  615570  22129409   615400       8838         170   \n",
       "3  United Kingdom  10479955  146001  10438381   145874      41574         127   \n",
       "4          Russia   9598283  274648   9565909   273463      32374        1185   \n",
       "\n",
       "   Fatality Rate      Continent  \n",
       "0            1.6  North America  \n",
       "1            1.4           Asia  \n",
       "2            2.8  South America  \n",
       "3            1.4         Europe  \n",
       "4            2.9         Europe  "
      ]
     },
     "execution_count": 15,
     "metadata": {},
     "output_type": "execute_result"
    }
   ],
   "source": [
    "#hide\n",
    "df_table = (pd.DataFrame(dict(Cases=dfc_cases, Deaths=dfc_deaths, PCases=dfp_cases, PDeaths=dfp_deaths))\n",
    "             .sort_values(by=['Cases', 'Deaths'], ascending=[False, False])\n",
    "             .reset_index())\n",
    "df_table.rename(columns={'index': 'Country/Region'}, inplace=True)\n",
    "for c in 'Cases, Deaths'.split(', '):\n",
    "    df_table[f'{c} (+)'] = (df_table[c] - df_table[f'P{c}']).clip(0)  # DATA BUG\n",
    "df_table['Fatality Rate'] = (100 * df_table['Deaths'] / df_table['Cases']).round(1)\n",
    "df_table['Continent'] = df_table['Country/Region'].map(mapping['map.continent'])\n",
    "df_table.head(5)"
   ]
  },
  {
   "cell_type": "code",
   "execution_count": 16,
   "id": "fewer-occasion",
   "metadata": {
    "execution": {
     "iopub.execute_input": "2021-12-05T12:11:59.579286Z",
     "iopub.status.busy": "2021-12-05T12:11:59.578478Z",
     "iopub.status.idle": "2021-12-05T12:11:59.581123Z",
     "shell.execute_reply": "2021-12-05T12:11:59.580724Z"
    },
    "papermill": {
     "duration": 0.04094,
     "end_time": "2021-12-05T12:11:59.581238",
     "exception": false,
     "start_time": "2021-12-05T12:11:59.540298",
     "status": "completed"
    },
    "tags": []
   },
   "outputs": [],
   "source": [
    "#hide\n",
    "#delete problematic countries from table\n",
    "df_table = df_table[~df_table['Country/Region'].isin(['Cape Verde', 'Cruise Ship', 'Kosovo'])]"
   ]
  },
  {
   "cell_type": "code",
   "execution_count": 17,
   "id": "related-center",
   "metadata": {
    "execution": {
     "iopub.execute_input": "2021-12-05T12:11:59.664276Z",
     "iopub.status.busy": "2021-12-05T12:11:59.663728Z",
     "iopub.status.idle": "2021-12-05T12:11:59.666422Z",
     "shell.execute_reply": "2021-12-05T12:11:59.665857Z"
    },
    "papermill": {
     "duration": 0.052632,
     "end_time": "2021-12-05T12:11:59.666536",
     "exception": false,
     "start_time": "2021-12-05T12:11:59.613904",
     "status": "completed"
    },
    "tags": []
   },
   "outputs": [],
   "source": [
    "#hide\n",
    "metrics = [df_table.columns[index] for index in [1,2,5,6]]\n",
    "# s_china = df_table[df_table['Country/Region'].eq('China')][metrics].sum().add_prefix('China ')\n",
    "s_us = df_table[df_table['Country/Region'].eq('US')][metrics].sum().add_prefix('US ')\n",
    "s_eu = df_table[df_table['Continent'].eq('Europe')][metrics].sum().add_prefix('EU ')\n",
    "s_ind = df_table[df_table['Country/Region'].eq('India')][metrics].sum().add_prefix('India ')\n",
    "summary = {'updated': pd.to_datetime(dt_today), 'since': pd.to_datetime(dt_yday)}\n",
    "summary = {'updated': pd.to_datetime(dt_today), 'since': pd.to_datetime(dt_yday)}\n",
    "summary = {**summary, **df_table[metrics].sum(), **s_ind, **s_us, **s_eu}"
   ]
  },
  {
   "cell_type": "code",
   "execution_count": 18,
   "id": "engaging-syndrome",
   "metadata": {
    "execution": {
     "iopub.execute_input": "2021-12-05T12:11:59.738889Z",
     "iopub.status.busy": "2021-12-05T12:11:59.738362Z",
     "iopub.status.idle": "2021-12-05T12:11:59.755667Z",
     "shell.execute_reply": "2021-12-05T12:11:59.755055Z"
    },
    "papermill": {
     "duration": 0.057003,
     "end_time": "2021-12-05T12:11:59.755810",
     "exception": false,
     "start_time": "2021-12-05T12:11:59.698807",
     "status": "completed"
    },
    "tags": []
   },
   "outputs": [],
   "source": [
    "#hide\n",
    "dft_ct_new_cases = dft_cases.groupby(COL_REGION)[dt_cols].sum().diff(axis=1).fillna(0).astype(int)"
   ]
  },
  {
   "cell_type": "code",
   "execution_count": 19,
   "id": "neutral-assignment",
   "metadata": {
    "execution": {
     "iopub.execute_input": "2021-12-05T12:11:59.826035Z",
     "iopub.status.busy": "2021-12-05T12:11:59.825495Z",
     "iopub.status.idle": "2021-12-05T12:11:59.828060Z",
     "shell.execute_reply": "2021-12-05T12:11:59.827616Z"
    },
    "papermill": {
     "duration": 0.03912,
     "end_time": "2021-12-05T12:11:59.828162",
     "exception": false,
     "start_time": "2021-12-05T12:11:59.789042",
     "status": "completed"
    },
    "tags": []
   },
   "outputs": [],
   "source": [
    "#hide\n",
    "everydaycases = dft_ct_new_cases.cumsum(axis=1)"
   ]
  },
  {
   "cell_type": "code",
   "execution_count": 20,
   "id": "parliamentary-calgary",
   "metadata": {
    "execution": {
     "iopub.execute_input": "2021-12-05T12:11:59.893789Z",
     "iopub.status.busy": "2021-12-05T12:11:59.893207Z",
     "iopub.status.idle": "2021-12-05T12:12:00.630722Z",
     "shell.execute_reply": "2021-12-05T12:12:00.629968Z"
    },
    "papermill": {
     "duration": 0.772008,
     "end_time": "2021-12-05T12:12:00.630914",
     "exception": false,
     "start_time": "2021-12-05T12:11:59.858906",
     "status": "completed"
    },
    "tags": []
   },
   "outputs": [],
   "source": [
    "#hide\n",
    "import pandas as pd\n",
    "import matplotlib.pyplot as plt\n",
    "import matplotlib.ticker as ticker\n",
    "import matplotlib.animation as animation\n",
    "from IPython.display import HTML"
   ]
  },
  {
   "cell_type": "code",
   "execution_count": 21,
   "id": "lasting-extraction",
   "metadata": {
    "execution": {
     "iopub.execute_input": "2021-12-05T12:12:00.703856Z",
     "iopub.status.busy": "2021-12-05T12:12:00.703226Z",
     "iopub.status.idle": "2021-12-05T12:12:00.710026Z",
     "shell.execute_reply": "2021-12-05T12:12:00.710618Z"
    },
    "papermill": {
     "duration": 0.045431,
     "end_time": "2021-12-05T12:12:00.710764",
     "exception": false,
     "start_time": "2021-12-05T12:12:00.665333",
     "status": "completed"
    },
    "tags": []
   },
   "outputs": [],
   "source": [
    "#hide\n",
    "t = everydaycases.stack()"
   ]
  },
  {
   "cell_type": "code",
   "execution_count": 22,
   "id": "premier-sleeve",
   "metadata": {
    "execution": {
     "iopub.execute_input": "2021-12-05T12:12:00.780163Z",
     "iopub.status.busy": "2021-12-05T12:12:00.779617Z",
     "iopub.status.idle": "2021-12-05T12:12:00.789551Z",
     "shell.execute_reply": "2021-12-05T12:12:00.789116Z"
    },
    "papermill": {
     "duration": 0.045894,
     "end_time": "2021-12-05T12:12:00.789667",
     "exception": false,
     "start_time": "2021-12-05T12:12:00.743773",
     "status": "completed"
    },
    "tags": []
   },
   "outputs": [],
   "source": [
    "#hide\n",
    "g = t.reset_index(['Country/Region'])"
   ]
  },
  {
   "cell_type": "code",
   "execution_count": 23,
   "id": "distributed-pittsburgh",
   "metadata": {
    "execution": {
     "iopub.execute_input": "2021-12-05T12:12:00.855404Z",
     "iopub.status.busy": "2021-12-05T12:12:00.854859Z",
     "iopub.status.idle": "2021-12-05T12:12:00.857128Z",
     "shell.execute_reply": "2021-12-05T12:12:00.856695Z"
    },
    "papermill": {
     "duration": 0.03633,
     "end_time": "2021-12-05T12:12:00.857242",
     "exception": false,
     "start_time": "2021-12-05T12:12:00.820912",
     "status": "completed"
    },
    "tags": []
   },
   "outputs": [],
   "source": [
    "#hide\n",
    "g.index.name = 'date'"
   ]
  },
  {
   "cell_type": "code",
   "execution_count": 24,
   "id": "naked-donor",
   "metadata": {
    "execution": {
     "iopub.execute_input": "2021-12-05T12:12:00.924458Z",
     "iopub.status.busy": "2021-12-05T12:12:00.923909Z",
     "iopub.status.idle": "2021-12-05T12:12:00.927640Z",
     "shell.execute_reply": "2021-12-05T12:12:00.927151Z"
    },
    "papermill": {
     "duration": 0.038644,
     "end_time": "2021-12-05T12:12:00.927748",
     "exception": false,
     "start_time": "2021-12-05T12:12:00.889104",
     "status": "completed"
    },
    "tags": []
   },
   "outputs": [],
   "source": [
    "# #hide\n",
    "# g = g.reset_index(['date'])"
   ]
  },
  {
   "cell_type": "code",
   "execution_count": 25,
   "id": "incomplete-mustang",
   "metadata": {
    "execution": {
     "iopub.execute_input": "2021-12-05T12:12:00.996445Z",
     "iopub.status.busy": "2021-12-05T12:12:00.995857Z",
     "iopub.status.idle": "2021-12-05T12:12:00.997996Z",
     "shell.execute_reply": "2021-12-05T12:12:00.997565Z"
    },
    "papermill": {
     "duration": 0.037308,
     "end_time": "2021-12-05T12:12:00.998110",
     "exception": false,
     "start_time": "2021-12-05T12:12:00.960802",
     "status": "completed"
    },
    "tags": []
   },
   "outputs": [],
   "source": [
    "#hide\n",
    "# g.head()"
   ]
  },
  {
   "cell_type": "code",
   "execution_count": 26,
   "id": "specific-kruger",
   "metadata": {
    "execution": {
     "iopub.execute_input": "2021-12-05T12:12:01.065958Z",
     "iopub.status.busy": "2021-12-05T12:12:01.065370Z",
     "iopub.status.idle": "2021-12-05T12:12:01.068072Z",
     "shell.execute_reply": "2021-12-05T12:12:01.067573Z"
    },
    "papermill": {
     "duration": 0.03862,
     "end_time": "2021-12-05T12:12:01.068181",
     "exception": false,
     "start_time": "2021-12-05T12:12:01.029561",
     "status": "completed"
    },
    "tags": []
   },
   "outputs": [],
   "source": [
    "#hide\n",
    "# g.columns = ['date','country','cases']"
   ]
  },
  {
   "cell_type": "code",
   "execution_count": 27,
   "id": "tender-conversion",
   "metadata": {
    "execution": {
     "iopub.execute_input": "2021-12-05T12:12:01.130978Z",
     "iopub.status.busy": "2021-12-05T12:12:01.130413Z",
     "iopub.status.idle": "2021-12-05T12:12:01.132106Z",
     "shell.execute_reply": "2021-12-05T12:12:01.131636Z"
    },
    "papermill": {
     "duration": 0.034811,
     "end_time": "2021-12-05T12:12:01.132553",
     "exception": false,
     "start_time": "2021-12-05T12:12:01.097742",
     "status": "completed"
    },
    "tags": []
   },
   "outputs": [],
   "source": [
    "#hide\n",
    "# g['continent'] = g.country"
   ]
  },
  {
   "cell_type": "code",
   "execution_count": 28,
   "id": "substantial-wilderness",
   "metadata": {
    "execution": {
     "iopub.execute_input": "2021-12-05T12:12:01.202637Z",
     "iopub.status.busy": "2021-12-05T12:12:01.202010Z",
     "iopub.status.idle": "2021-12-05T12:12:01.205288Z",
     "shell.execute_reply": "2021-12-05T12:12:01.204857Z"
    },
    "papermill": {
     "duration": 0.039688,
     "end_time": "2021-12-05T12:12:01.205400",
     "exception": false,
     "start_time": "2021-12-05T12:12:01.165712",
     "status": "completed"
    },
    "tags": []
   },
   "outputs": [],
   "source": [
    "#hide\n",
    "# cols = list(g.columns.values)"
   ]
  },
  {
   "cell_type": "code",
   "execution_count": 29,
   "id": "solved-farming",
   "metadata": {
    "execution": {
     "iopub.execute_input": "2021-12-05T12:12:01.276422Z",
     "iopub.status.busy": "2021-12-05T12:12:01.275591Z",
     "iopub.status.idle": "2021-12-05T12:12:01.277125Z",
     "shell.execute_reply": "2021-12-05T12:12:01.277583Z"
    },
    "papermill": {
     "duration": 0.040028,
     "end_time": "2021-12-05T12:12:01.277725",
     "exception": false,
     "start_time": "2021-12-05T12:12:01.237697",
     "status": "completed"
    },
    "tags": []
   },
   "outputs": [],
   "source": [
    "#hide\n",
    "# cols.insert(0, cols.pop())"
   ]
  },
  {
   "cell_type": "code",
   "execution_count": 30,
   "id": "executed-adoption",
   "metadata": {
    "execution": {
     "iopub.execute_input": "2021-12-05T12:12:01.348296Z",
     "iopub.status.busy": "2021-12-05T12:12:01.347694Z",
     "iopub.status.idle": "2021-12-05T12:12:01.349911Z",
     "shell.execute_reply": "2021-12-05T12:12:01.350376Z"
    },
    "papermill": {
     "duration": 0.03917,
     "end_time": "2021-12-05T12:12:01.350514",
     "exception": false,
     "start_time": "2021-12-05T12:12:01.311344",
     "status": "completed"
    },
    "tags": []
   },
   "outputs": [],
   "source": [
    "#hide\n",
    "# g = g[cols]"
   ]
  },
  {
   "cell_type": "code",
   "execution_count": 31,
   "id": "subject-dublin",
   "metadata": {
    "execution": {
     "iopub.execute_input": "2021-12-05T12:12:01.419990Z",
     "iopub.status.busy": "2021-12-05T12:12:01.419501Z",
     "iopub.status.idle": "2021-12-05T12:12:01.421604Z",
     "shell.execute_reply": "2021-12-05T12:12:01.421146Z"
    },
    "papermill": {
     "duration": 0.038592,
     "end_time": "2021-12-05T12:12:01.421713",
     "exception": false,
     "start_time": "2021-12-05T12:12:01.383121",
     "status": "completed"
    },
    "tags": []
   },
   "outputs": [],
   "source": [
    "#hide\n",
    "# g['continent'] = g['continent'].map(mapping['map.continent'])"
   ]
  },
  {
   "cell_type": "code",
   "execution_count": 32,
   "id": "freelance-scout",
   "metadata": {
    "execution": {
     "iopub.execute_input": "2021-12-05T12:12:01.488560Z",
     "iopub.status.busy": "2021-12-05T12:12:01.487978Z",
     "iopub.status.idle": "2021-12-05T12:12:01.490488Z",
     "shell.execute_reply": "2021-12-05T12:12:01.490876Z"
    },
    "papermill": {
     "duration": 0.038325,
     "end_time": "2021-12-05T12:12:01.490990",
     "exception": false,
     "start_time": "2021-12-05T12:12:01.452665",
     "status": "completed"
    },
    "tags": []
   },
   "outputs": [],
   "source": [
    "#hide\n",
    "# g.head()"
   ]
  },
  {
   "cell_type": "code",
   "execution_count": 33,
   "id": "limited-engine",
   "metadata": {
    "execution": {
     "iopub.execute_input": "2021-12-05T12:12:01.555282Z",
     "iopub.status.busy": "2021-12-05T12:12:01.554747Z",
     "iopub.status.idle": "2021-12-05T12:12:01.557008Z",
     "shell.execute_reply": "2021-12-05T12:12:01.557463Z"
    },
    "papermill": {
     "duration": 0.035491,
     "end_time": "2021-12-05T12:12:01.557574",
     "exception": false,
     "start_time": "2021-12-05T12:12:01.522083",
     "status": "completed"
    },
    "tags": []
   },
   "outputs": [],
   "source": [
    "# hide\n",
    "# g['date'] = g['date'].astype('datetime64[ns]')"
   ]
  },
  {
   "cell_type": "code",
   "execution_count": 34,
   "id": "sophisticated-supervisor",
   "metadata": {
    "execution": {
     "iopub.execute_input": "2021-12-05T12:12:01.623647Z",
     "iopub.status.busy": "2021-12-05T12:12:01.623062Z",
     "iopub.status.idle": "2021-12-05T12:12:01.625646Z",
     "shell.execute_reply": "2021-12-05T12:12:01.626163Z"
    },
    "papermill": {
     "duration": 0.038418,
     "end_time": "2021-12-05T12:12:01.626313",
     "exception": false,
     "start_time": "2021-12-05T12:12:01.587895",
     "status": "completed"
    },
    "tags": []
   },
   "outputs": [],
   "source": [
    "#hide\n",
    "# g['date'] = g.date.dt.dayofyear"
   ]
  },
  {
   "cell_type": "code",
   "execution_count": 35,
   "id": "inside-dubai",
   "metadata": {
    "execution": {
     "iopub.execute_input": "2021-12-05T12:12:01.692288Z",
     "iopub.status.busy": "2021-12-05T12:12:01.691746Z",
     "iopub.status.idle": "2021-12-05T12:12:01.694761Z",
     "shell.execute_reply": "2021-12-05T12:12:01.694302Z"
    },
    "papermill": {
     "duration": 0.038179,
     "end_time": "2021-12-05T12:12:01.694860",
     "exception": false,
     "start_time": "2021-12-05T12:12:01.656681",
     "status": "completed"
    },
    "tags": []
   },
   "outputs": [],
   "source": [
    "#hide\n",
    "# g = g.rename(columns= {'continent':'group','country':'name','cases':'value'})"
   ]
  },
  {
   "cell_type": "code",
   "execution_count": 36,
   "id": "fleet-motorcycle",
   "metadata": {
    "execution": {
     "iopub.execute_input": "2021-12-05T12:12:01.760364Z",
     "iopub.status.busy": "2021-12-05T12:12:01.759573Z",
     "iopub.status.idle": "2021-12-05T12:12:01.761212Z",
     "shell.execute_reply": "2021-12-05T12:12:01.761837Z"
    },
    "papermill": {
     "duration": 0.036947,
     "end_time": "2021-12-05T12:12:01.762008",
     "exception": false,
     "start_time": "2021-12-05T12:12:01.725061",
     "status": "completed"
    },
    "tags": []
   },
   "outputs": [],
   "source": [
    "#hide\n",
    "# cols = ['name','group','day','value']"
   ]
  },
  {
   "cell_type": "code",
   "execution_count": 37,
   "id": "continued-sleeping",
   "metadata": {
    "execution": {
     "iopub.execute_input": "2021-12-05T12:12:01.829932Z",
     "iopub.status.busy": "2021-12-05T12:12:01.829382Z",
     "iopub.status.idle": "2021-12-05T12:12:01.831671Z",
     "shell.execute_reply": "2021-12-05T12:12:01.832219Z"
    },
    "papermill": {
     "duration": 0.038194,
     "end_time": "2021-12-05T12:12:01.832352",
     "exception": false,
     "start_time": "2021-12-05T12:12:01.794158",
     "status": "completed"
    },
    "tags": []
   },
   "outputs": [],
   "source": [
    "#hide\n",
    "# g.rename(columns= {'date':'day'},inplace = True)"
   ]
  },
  {
   "cell_type": "code",
   "execution_count": 38,
   "id": "major-fight",
   "metadata": {
    "execution": {
     "iopub.execute_input": "2021-12-05T12:12:01.900590Z",
     "iopub.status.busy": "2021-12-05T12:12:01.899580Z",
     "iopub.status.idle": "2021-12-05T12:12:01.904340Z",
     "shell.execute_reply": "2021-12-05T12:12:01.905104Z"
    },
    "papermill": {
     "duration": 0.040994,
     "end_time": "2021-12-05T12:12:01.905329",
     "exception": false,
     "start_time": "2021-12-05T12:12:01.864335",
     "status": "completed"
    },
    "tags": []
   },
   "outputs": [],
   "source": [
    "#hide\n",
    "# g = g[cols]"
   ]
  },
  {
   "cell_type": "code",
   "execution_count": 39,
   "id": "structured-mobile",
   "metadata": {
    "execution": {
     "iopub.execute_input": "2021-12-05T12:12:01.980558Z",
     "iopub.status.busy": "2021-12-05T12:12:01.980079Z",
     "iopub.status.idle": "2021-12-05T12:12:01.982182Z",
     "shell.execute_reply": "2021-12-05T12:12:01.981794Z"
    },
    "papermill": {
     "duration": 0.043843,
     "end_time": "2021-12-05T12:12:01.982302",
     "exception": false,
     "start_time": "2021-12-05T12:12:01.938459",
     "status": "completed"
    },
    "tags": []
   },
   "outputs": [],
   "source": [
    "# #hide\n",
    "# g = g[g.group.notna()]"
   ]
  },
  {
   "cell_type": "code",
   "execution_count": 40,
   "id": "determined-closing",
   "metadata": {
    "execution": {
     "iopub.execute_input": "2021-12-05T12:12:02.048874Z",
     "iopub.status.busy": "2021-12-05T12:12:02.048356Z",
     "iopub.status.idle": "2021-12-05T12:12:02.050612Z",
     "shell.execute_reply": "2021-12-05T12:12:02.051072Z"
    },
    "papermill": {
     "duration": 0.037871,
     "end_time": "2021-12-05T12:12:02.051182",
     "exception": false,
     "start_time": "2021-12-05T12:12:02.013311",
     "status": "completed"
    },
    "tags": []
   },
   "outputs": [],
   "source": [
    "# #hide\n",
    "# colors = dict(zip(\n",
    "#     [\"Oceania\", \"Europe\", \"Asia\", \"South America\", \"Middle East\", \"North America\", \"Africa\"],\n",
    "#     [\"#adb0ff\", \"#ffb3ff\", \"#90d595\", \"#e48381\", \"#aafbff\", \"#f7bb5f\", \"#eafb50\"]\n",
    "# ))\n",
    "# group_lk = g.set_index('name')['group'].to_dict()"
   ]
  },
  {
   "cell_type": "code",
   "execution_count": null,
   "id": "gross-drinking",
   "metadata": {
    "papermill": {
     "duration": 0.031887,
     "end_time": "2021-12-05T12:12:02.115596",
     "exception": false,
     "start_time": "2021-12-05T12:12:02.083709",
     "status": "completed"
    },
    "tags": []
   },
   "outputs": [],
   "source": []
  },
  {
   "cell_type": "code",
   "execution_count": 41,
   "id": "subject-macintosh",
   "metadata": {
    "execution": {
     "iopub.execute_input": "2021-12-05T12:12:02.184315Z",
     "iopub.status.busy": "2021-12-05T12:12:02.183663Z",
     "iopub.status.idle": "2021-12-05T12:12:02.186038Z",
     "shell.execute_reply": "2021-12-05T12:12:02.186615Z"
    },
    "papermill": {
     "duration": 0.039804,
     "end_time": "2021-12-05T12:12:02.186757",
     "exception": false,
     "start_time": "2021-12-05T12:12:02.146953",
     "status": "completed"
    },
    "tags": []
   },
   "outputs": [],
   "source": [
    "# #hide\n",
    "# fig, ax = plt.subplots(figsize=(15, 8))\n",
    "\n",
    "# def draw_barchart(current_day):\n",
    "#     dff = g[g['day'].eq(current_day)].sort_values(by='value', ascending=True).tail(10)\n",
    "#     ax.clear()\n",
    "#     ax.barh(dff['name'], dff['value'], color=[colors[group_lk[x]] for x in dff['name']])\n",
    "#     dx = dff['value'].max() / 200\n",
    "    \n",
    "#     for i, (value, name) in enumerate(zip(dff['value'], dff['name'])):\n",
    "#         ax.text(value-dx, i,     name,           size=14, weight=600, ha='right', va='bottom')\n",
    "#         ax.text(value-dx, i-.25, group_lk[name], size=10, color='#444444', ha='right', va='baseline')\n",
    "#         ax.text(value+dx, i,     f'{value:,.0f}',  size=14, ha='left',  va='center')\n",
    "#     ax.text(1, 0.4, current_day, transform=ax.transAxes, color='#777777', size=46, ha='right', weight=800)\n",
    "#     ax.text(0, 1.06, 'Population (thousands)', transform=ax.transAxes, size=12, color='#777777')\n",
    "#     ax.xaxis.set_major_formatter(ticker.StrMethodFormatter('{x:,.0f}'))\n",
    "#     ax.xaxis.set_ticks_position('top')\n",
    "#     ax.tick_params(axis='x', colors='#777777', labelsize=12)\n",
    "#     ax.set_yticks([])\n",
    "#     ax.margins(0, 0.01)\n",
    "#     ax.grid(which='major', axis='x', linestyle='-')\n",
    "#     ax.set_axisbelow(True)\n",
    "    \n",
    "#     ax.text(0, 1.15, 'Coronavirus',\n",
    "#             transform=ax.transAxes, size=24, weight=600, ha='left', va='top')\n",
    "# #     ax.text(1, 0, 'by @pratapvardhan; credit @jburnmurdoch', transform=ax.transAxes, color='#777777', ha='right',\n",
    "# #             bbox=dict(facecolor='white', alpha=0.8, edgecolor='white'))\n",
    "#     plt.box(False)"
   ]
  },
  {
   "cell_type": "code",
   "execution_count": 42,
   "id": "sexual-wages",
   "metadata": {
    "execution": {
     "iopub.execute_input": "2021-12-05T12:12:02.256089Z",
     "iopub.status.busy": "2021-12-05T12:12:02.255411Z",
     "iopub.status.idle": "2021-12-05T12:12:02.259415Z",
     "shell.execute_reply": "2021-12-05T12:12:02.258943Z"
    },
    "papermill": {
     "duration": 0.039748,
     "end_time": "2021-12-05T12:12:02.259532",
     "exception": false,
     "start_time": "2021-12-05T12:12:02.219784",
     "status": "completed"
    },
    "tags": []
   },
   "outputs": [],
   "source": [
    "# #hide_input\n",
    "# fig, ax = plt.subplots(figsize=(15, 8))\n",
    "# animator = animation.FuncAnimation(fig, draw_barchart, frames=range(g.day.values.min(), g.day.values.max()))\n",
    "# HTML(animator.to_jshtml())\n",
    "# # or use animator.to_html5_video() or animator.save() "
   ]
  },
  {
   "cell_type": "code",
   "execution_count": null,
   "id": "australian-container",
   "metadata": {
    "papermill": {
     "duration": 0.033182,
     "end_time": "2021-12-05T12:12:02.325021",
     "exception": false,
     "start_time": "2021-12-05T12:12:02.291839",
     "status": "completed"
    },
    "tags": []
   },
   "outputs": [],
   "source": []
  },
  {
   "cell_type": "code",
   "execution_count": null,
   "id": "mediterranean-pontiac",
   "metadata": {
    "papermill": {
     "duration": 0.032876,
     "end_time": "2021-12-05T12:12:02.391310",
     "exception": false,
     "start_time": "2021-12-05T12:12:02.358434",
     "status": "completed"
    },
    "tags": []
   },
   "outputs": [],
   "source": []
  },
  {
   "cell_type": "code",
   "execution_count": null,
   "id": "aging-legislature",
   "metadata": {
    "papermill": {
     "duration": 0.031288,
     "end_time": "2021-12-05T12:12:02.454315",
     "exception": false,
     "start_time": "2021-12-05T12:12:02.423027",
     "status": "completed"
    },
    "tags": []
   },
   "outputs": [],
   "source": []
  }
 ],
 "metadata": {
  "kernelspec": {
   "display_name": "Python 3",
   "language": "python",
   "name": "python3"
  },
  "language_info": {
   "codemirror_mode": {
    "name": "ipython",
    "version": 3
   },
   "file_extension": ".py",
   "mimetype": "text/x-python",
   "name": "python",
   "nbconvert_exporter": "python",
   "pygments_lexer": "ipython3",
   "version": "3.6.15"
  },
  "papermill": {
   "duration": 6.579733,
   "end_time": "2021-12-05T12:12:02.797671",
   "environment_variables": {},
   "exception": null,
   "input_path": "2020-03-21-covid19exp.ipynb",
   "output_path": "2020-03-21-covid19exp.ipynb",
   "parameters": {},
   "start_time": "2021-12-05T12:11:56.217938",
   "version": "2.0.0"
  }
 },
 "nbformat": 4,
 "nbformat_minor": 5
}