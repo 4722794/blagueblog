{
 "cells": [
  {
   "cell_type": "markdown",
   "id": "muslim-click",
   "metadata": {
    "papermill": {
     "duration": 0.049609,
     "end_time": "2021-10-04T12:11:29.554657",
     "exception": false,
     "start_time": "2021-10-04T12:11:29.505048",
     "status": "completed"
    },
    "tags": []
   },
   "source": [
    "# COVID-19 Case Race\n",
    "> A race chart to see rising cases around the world\n",
    "\n",
    "- author: Hargun Oberoi\n",
    "- image: images/covid-overview.png\n",
    "- hide: false\n",
    "- badges: false"
   ]
  },
  {
   "cell_type": "code",
   "execution_count": 1,
   "id": "proof-material",
   "metadata": {
    "execution": {
     "iopub.execute_input": "2021-10-04T12:11:29.648769Z",
     "iopub.status.busy": "2021-10-04T12:11:29.648136Z",
     "iopub.status.idle": "2021-10-04T12:11:30.026375Z",
     "shell.execute_reply": "2021-10-04T12:11:30.025730Z"
    },
    "papermill": {
     "duration": 0.426564,
     "end_time": "2021-10-04T12:11:30.026585",
     "exception": false,
     "start_time": "2021-10-04T12:11:29.600021",
     "status": "completed"
    },
    "tags": []
   },
   "outputs": [],
   "source": [
    "#hide\n",
    "import numpy as np\n",
    "import pandas as pd\n",
    "from jinja2 import Template\n",
    "from IPython.display import HTML"
   ]
  },
  {
   "cell_type": "code",
   "execution_count": 2,
   "id": "developed-terminology",
   "metadata": {
    "execution": {
     "iopub.execute_input": "2021-10-04T12:11:30.115402Z",
     "iopub.status.busy": "2021-10-04T12:11:30.113989Z",
     "iopub.status.idle": "2021-10-04T12:11:30.116138Z",
     "shell.execute_reply": "2021-10-04T12:11:30.116652Z"
    },
    "papermill": {
     "duration": 0.04769,
     "end_time": "2021-10-04T12:11:30.116796",
     "exception": false,
     "start_time": "2021-10-04T12:11:30.069106",
     "status": "completed"
    },
    "tags": []
   },
   "outputs": [],
   "source": [
    "#hide\n",
    "\n",
    "# FETCH\n",
    "base_url = 'https://raw.githubusercontent.com/pratapvardhan/notebooks/master/covid19/'\n",
    "paths = {\n",
    "    'mapping': base_url + 'mapping_countries.csv',\n",
    "    'overview': base_url + 'overview.tpl'\n",
    "}"
   ]
  },
  {
   "cell_type": "code",
   "execution_count": 3,
   "id": "dynamic-saver",
   "metadata": {
    "execution": {
     "iopub.execute_input": "2021-10-04T12:11:30.200564Z",
     "iopub.status.busy": "2021-10-04T12:11:30.197586Z",
     "iopub.status.idle": "2021-10-04T12:11:30.204324Z",
     "shell.execute_reply": "2021-10-04T12:11:30.204941Z"
    },
    "papermill": {
     "duration": 0.050627,
     "end_time": "2021-10-04T12:11:30.205081",
     "exception": false,
     "start_time": "2021-10-04T12:11:30.154454",
     "status": "completed"
    },
    "tags": []
   },
   "outputs": [
    {
     "data": {
      "text/plain": [
       "'https://raw.githubusercontent.com/pratapvardhan/notebooks/master/covid19/mapping_countries.csv'"
      ]
     },
     "execution_count": 3,
     "metadata": {},
     "output_type": "execute_result"
    }
   ],
   "source": [
    "#hide\n",
    "paths['mapping']"
   ]
  },
  {
   "cell_type": "code",
   "execution_count": 4,
   "id": "urban-software",
   "metadata": {
    "execution": {
     "iopub.execute_input": "2021-10-04T12:11:30.284805Z",
     "iopub.status.busy": "2021-10-04T12:11:30.284271Z",
     "iopub.status.idle": "2021-10-04T12:11:30.286832Z",
     "shell.execute_reply": "2021-10-04T12:11:30.286232Z"
    },
    "papermill": {
     "duration": 0.04414,
     "end_time": "2021-10-04T12:11:30.286957",
     "exception": false,
     "start_time": "2021-10-04T12:11:30.242817",
     "status": "completed"
    },
    "tags": []
   },
   "outputs": [],
   "source": [
    "#hide\n",
    "def get_mappings(url):\n",
    "    df = pd.read_csv(url)\n",
    "    return {\n",
    "        'df': df,\n",
    "        'replace.country': dict(df.dropna(subset=['Name']).set_index('Country')['Name']),\n",
    "        'map.continent': dict(df.set_index('Name')['Continent'])\n",
    "    }"
   ]
  },
  {
   "cell_type": "code",
   "execution_count": 5,
   "id": "intimate-machinery",
   "metadata": {
    "execution": {
     "iopub.execute_input": "2021-10-04T12:11:30.365578Z",
     "iopub.status.busy": "2021-10-04T12:11:30.364997Z",
     "iopub.status.idle": "2021-10-04T12:11:30.412498Z",
     "shell.execute_reply": "2021-10-04T12:11:30.411855Z"
    },
    "papermill": {
     "duration": 0.088954,
     "end_time": "2021-10-04T12:11:30.412626",
     "exception": false,
     "start_time": "2021-10-04T12:11:30.323672",
     "status": "completed"
    },
    "tags": []
   },
   "outputs": [],
   "source": [
    "#hide\n",
    "mapping = get_mappings(paths['mapping'])"
   ]
  },
  {
   "cell_type": "code",
   "execution_count": 6,
   "id": "certified-tactics",
   "metadata": {
    "execution": {
     "iopub.execute_input": "2021-10-04T12:11:30.488859Z",
     "iopub.status.busy": "2021-10-04T12:11:30.488253Z",
     "iopub.status.idle": "2021-10-04T12:11:30.490084Z",
     "shell.execute_reply": "2021-10-04T12:11:30.490627Z"
    },
    "papermill": {
     "duration": 0.042907,
     "end_time": "2021-10-04T12:11:30.490759",
     "exception": false,
     "start_time": "2021-10-04T12:11:30.447852",
     "status": "completed"
    },
    "tags": []
   },
   "outputs": [],
   "source": [
    "#hide\n",
    "def get_template(path):\n",
    "    from urllib.parse import urlparse\n",
    "    if bool(urlparse(path).netloc):\n",
    "        from urllib.request import urlopen\n",
    "        return urlopen(path).read().decode('utf8')\n",
    "    return open(path).read()"
   ]
  },
  {
   "cell_type": "code",
   "execution_count": 7,
   "id": "realistic-blast",
   "metadata": {
    "execution": {
     "iopub.execute_input": "2021-10-04T12:11:30.565413Z",
     "iopub.status.busy": "2021-10-04T12:11:30.564824Z",
     "iopub.status.idle": "2021-10-04T12:11:30.567397Z",
     "shell.execute_reply": "2021-10-04T12:11:30.566960Z"
    },
    "papermill": {
     "duration": 0.042749,
     "end_time": "2021-10-04T12:11:30.567508",
     "exception": false,
     "start_time": "2021-10-04T12:11:30.524759",
     "status": "completed"
    },
    "tags": []
   },
   "outputs": [],
   "source": [
    "#hide\n",
    "def get_frame(name):\n",
    "    url = (\n",
    "        'https://raw.githubusercontent.com/CSSEGISandData/COVID-19/master/csse_covid_19_data/'\n",
    "        f'csse_covid_19_time_series/time_series_covid19_{name}_global.csv')\n",
    "    df = pd.read_csv(url)\n",
    "    # rename countries\n",
    "    df['Country/Region'] = df['Country/Region'].replace(mapping['replace.country'])\n",
    "    return df"
   ]
  },
  {
   "cell_type": "code",
   "execution_count": 8,
   "id": "affiliated-characterization",
   "metadata": {
    "execution": {
     "iopub.execute_input": "2021-10-04T12:11:30.650587Z",
     "iopub.status.busy": "2021-10-04T12:11:30.649923Z",
     "iopub.status.idle": "2021-10-04T12:11:30.652659Z",
     "shell.execute_reply": "2021-10-04T12:11:30.652031Z"
    },
    "papermill": {
     "duration": 0.047304,
     "end_time": "2021-10-04T12:11:30.652785",
     "exception": false,
     "start_time": "2021-10-04T12:11:30.605481",
     "status": "completed"
    },
    "tags": []
   },
   "outputs": [],
   "source": [
    "#hide\n",
    "def get_dates(df):\n",
    "    dt_cols = df.columns[~df.columns.isin(['Province/State', 'Country/Region', 'Lat', 'Long'])]\n",
    "    LAST_DATE_I = -1\n",
    "    # sometimes last column may be empty, then go backwards\n",
    "    for i in range(-1, -len(dt_cols), -1):\n",
    "        if not df[dt_cols[i]].fillna(0).eq(0).all():\n",
    "            LAST_DATE_I = i\n",
    "            break\n",
    "    return LAST_DATE_I, dt_cols"
   ]
  },
  {
   "cell_type": "code",
   "execution_count": 9,
   "id": "recent-optimization",
   "metadata": {
    "execution": {
     "iopub.execute_input": "2021-10-04T12:11:30.741190Z",
     "iopub.status.busy": "2021-10-04T12:11:30.740383Z",
     "iopub.status.idle": "2021-10-04T12:11:31.104342Z",
     "shell.execute_reply": "2021-10-04T12:11:31.103700Z"
    },
    "papermill": {
     "duration": 0.41156,
     "end_time": "2021-10-04T12:11:31.104470",
     "exception": false,
     "start_time": "2021-10-04T12:11:30.692910",
     "status": "completed"
    },
    "tags": []
   },
   "outputs": [],
   "source": [
    "#hide\n",
    "COL_REGION = 'Country/Region'\n",
    "# Confirmed, Recovered, Deaths\n",
    "df = get_frame('confirmed')\n",
    "# dft_: timeseries, dfc_: today country agg\n",
    "dft_cases = df\n",
    "dft_deaths = get_frame('deaths')\n",
    "dft_recovered = get_frame('recovered')\n",
    "LAST_DATE_I, dt_cols = get_dates(df)"
   ]
  },
  {
   "cell_type": "code",
   "execution_count": 10,
   "id": "absolute-copper",
   "metadata": {
    "execution": {
     "iopub.execute_input": "2021-10-04T12:11:31.183908Z",
     "iopub.status.busy": "2021-10-04T12:11:31.183167Z",
     "iopub.status.idle": "2021-10-04T12:11:31.185625Z",
     "shell.execute_reply": "2021-10-04T12:11:31.185077Z"
    },
    "papermill": {
     "duration": 0.046658,
     "end_time": "2021-10-04T12:11:31.185748",
     "exception": false,
     "start_time": "2021-10-04T12:11:31.139090",
     "status": "completed"
    },
    "tags": []
   },
   "outputs": [],
   "source": [
    "#hide\n",
    "LAST_DATE_I, dt_cols = get_dates(df)\n",
    "dt_today =dt_cols[LAST_DATE_I]\n",
    "# dt_5day = dt_cols[LAST_DATE_I - 5]\n",
    "dt_yday = dt_cols[LAST_DATE_I - 1]"
   ]
  },
  {
   "cell_type": "code",
   "execution_count": 11,
   "id": "restricted-sheriff",
   "metadata": {
    "execution": {
     "iopub.execute_input": "2021-10-04T12:11:31.264709Z",
     "iopub.status.busy": "2021-10-04T12:11:31.264073Z",
     "iopub.status.idle": "2021-10-04T12:11:31.273572Z",
     "shell.execute_reply": "2021-10-04T12:11:31.274128Z"
    },
    "papermill": {
     "duration": 0.053677,
     "end_time": "2021-10-04T12:11:31.274262",
     "exception": false,
     "start_time": "2021-10-04T12:11:31.220585",
     "status": "completed"
    },
    "tags": []
   },
   "outputs": [],
   "source": [
    "#hide\n",
    "dfc_cases = dft_cases.groupby(COL_REGION)[dt_today].sum()\n",
    "dfc_deaths = dft_deaths.groupby(COL_REGION)[dt_today].sum()\n",
    "# dfp_cases = dft_cases.groupby(COL_REGION)[dt_5day].sum()\n",
    "# dfp_deaths = dft_deaths.groupby(COL_REGION)[dt_5day].sum()\n",
    "dfp_cases = dft_cases.groupby(COL_REGION)[dt_yday].sum()\n",
    "dfp_deaths = dft_deaths.groupby(COL_REGION)[dt_yday].sum()"
   ]
  },
  {
   "cell_type": "code",
   "execution_count": 12,
   "id": "deluxe-hepatitis",
   "metadata": {
    "execution": {
     "iopub.execute_input": "2021-10-04T12:11:31.351948Z",
     "iopub.status.busy": "2021-10-04T12:11:31.351264Z",
     "iopub.status.idle": "2021-10-04T12:11:31.356988Z",
     "shell.execute_reply": "2021-10-04T12:11:31.357519Z"
    },
    "papermill": {
     "duration": 0.048284,
     "end_time": "2021-10-04T12:11:31.357745",
     "exception": false,
     "start_time": "2021-10-04T12:11:31.309461",
     "status": "completed"
    },
    "tags": []
   },
   "outputs": [],
   "source": [
    "#hide\n",
    "df_table = (pd.DataFrame(dict(Cases = dfc_cases, Deaths = dfc_deaths, PCases = dfp_cases, PDeaths = dfp_deaths))\n",
    "            .sort_values(by = ['Cases','Deaths'], ascending = [False, False])\n",
    "            .reset_index())"
   ]
  },
  {
   "cell_type": "code",
   "execution_count": 13,
   "id": "educational-chancellor",
   "metadata": {
    "execution": {
     "iopub.execute_input": "2021-10-04T12:11:31.451455Z",
     "iopub.status.busy": "2021-10-04T12:11:31.450765Z",
     "iopub.status.idle": "2021-10-04T12:11:31.460302Z",
     "shell.execute_reply": "2021-10-04T12:11:31.460839Z"
    },
    "papermill": {
     "duration": 0.067876,
     "end_time": "2021-10-04T12:11:31.460968",
     "exception": false,
     "start_time": "2021-10-04T12:11:31.393092",
     "status": "completed"
    },
    "tags": []
   },
   "outputs": [
    {
     "data": {
      "text/html": [
       "<div>\n",
       "<style scoped>\n",
       "    .dataframe tbody tr th:only-of-type {\n",
       "        vertical-align: middle;\n",
       "    }\n",
       "\n",
       "    .dataframe tbody tr th {\n",
       "        vertical-align: top;\n",
       "    }\n",
       "\n",
       "    .dataframe thead th {\n",
       "        text-align: right;\n",
       "    }\n",
       "</style>\n",
       "<table border=\"1\" class=\"dataframe\">\n",
       "  <thead>\n",
       "    <tr style=\"text-align: right;\">\n",
       "      <th></th>\n",
       "      <th>Country/Region</th>\n",
       "      <th>Cases</th>\n",
       "      <th>Deaths</th>\n",
       "      <th>PCases</th>\n",
       "      <th>PDeaths</th>\n",
       "      <th>Cases (+)</th>\n",
       "      <th>Deaths (+)</th>\n",
       "      <th>Fatality Rate</th>\n",
       "      <th>Continent</th>\n",
       "    </tr>\n",
       "  </thead>\n",
       "  <tbody>\n",
       "    <tr>\n",
       "      <th>0</th>\n",
       "      <td>US</td>\n",
       "      <td>43683048</td>\n",
       "      <td>701169</td>\n",
       "      <td>43657833</td>\n",
       "      <td>700932</td>\n",
       "      <td>25215</td>\n",
       "      <td>237</td>\n",
       "      <td>1.61</td>\n",
       "      <td>North America</td>\n",
       "    </tr>\n",
       "    <tr>\n",
       "      <th>1</th>\n",
       "      <td>India</td>\n",
       "      <td>33834702</td>\n",
       "      <td>448997</td>\n",
       "      <td>33813903</td>\n",
       "      <td>448817</td>\n",
       "      <td>20799</td>\n",
       "      <td>180</td>\n",
       "      <td>1.33</td>\n",
       "      <td>Asia</td>\n",
       "    </tr>\n",
       "    <tr>\n",
       "      <th>2</th>\n",
       "      <td>Brazil</td>\n",
       "      <td>21468121</td>\n",
       "      <td>597948</td>\n",
       "      <td>21459117</td>\n",
       "      <td>597723</td>\n",
       "      <td>9004</td>\n",
       "      <td>225</td>\n",
       "      <td>2.79</td>\n",
       "      <td>South America</td>\n",
       "    </tr>\n",
       "    <tr>\n",
       "      <th>3</th>\n",
       "      <td>United Kingdom</td>\n",
       "      <td>7937810</td>\n",
       "      <td>137338</td>\n",
       "      <td>7908091</td>\n",
       "      <td>137295</td>\n",
       "      <td>29719</td>\n",
       "      <td>43</td>\n",
       "      <td>1.73</td>\n",
       "      <td>Europe</td>\n",
       "    </tr>\n",
       "    <tr>\n",
       "      <th>4</th>\n",
       "      <td>Russia</td>\n",
       "      <td>7474850</td>\n",
       "      <td>206179</td>\n",
       "      <td>7449689</td>\n",
       "      <td>205297</td>\n",
       "      <td>25161</td>\n",
       "      <td>882</td>\n",
       "      <td>2.76</td>\n",
       "      <td>Europe</td>\n",
       "    </tr>\n",
       "  </tbody>\n",
       "</table>\n",
       "</div>"
      ],
      "text/plain": [
       "   Country/Region     Cases  Deaths    PCases  PDeaths  Cases (+)  Deaths (+)  \\\n",
       "0              US  43683048  701169  43657833   700932      25215         237   \n",
       "1           India  33834702  448997  33813903   448817      20799         180   \n",
       "2          Brazil  21468121  597948  21459117   597723       9004         225   \n",
       "3  United Kingdom   7937810  137338   7908091   137295      29719          43   \n",
       "4          Russia   7474850  206179   7449689   205297      25161         882   \n",
       "\n",
       "   Fatality Rate      Continent  \n",
       "0           1.61  North America  \n",
       "1           1.33           Asia  \n",
       "2           2.79  South America  \n",
       "3           1.73         Europe  \n",
       "4           2.76         Europe  "
      ]
     },
     "execution_count": 13,
     "metadata": {},
     "output_type": "execute_result"
    }
   ],
   "source": [
    "#hide\n",
    "for c in 'Cases, Deaths'.split(', '):\n",
    "    df_table[f'{c} (+)'] = (df_table[c] - df_table[f'P{c}']).clip(0)\n",
    "    #Clip ça veut dire, les chiffres negatif sont interdit\n",
    "df_table['Fatality Rate'] = (100* df_table['Deaths']/ df_table['Cases']).round(2)\n",
    "df_table['Continent'] = df_table['Country/Region'].map(mapping['map.continent'])\n",
    "df_table.head(5)"
   ]
  },
  {
   "cell_type": "code",
   "execution_count": 14,
   "id": "aboriginal-bulgaria",
   "metadata": {
    "execution": {
     "iopub.execute_input": "2021-10-04T12:11:31.540191Z",
     "iopub.status.busy": "2021-10-04T12:11:31.539523Z",
     "iopub.status.idle": "2021-10-04T12:11:31.542422Z",
     "shell.execute_reply": "2021-10-04T12:11:31.541769Z"
    },
    "papermill": {
     "duration": 0.044738,
     "end_time": "2021-10-04T12:11:31.542531",
     "exception": false,
     "start_time": "2021-10-04T12:11:31.497793",
     "status": "completed"
    },
    "tags": []
   },
   "outputs": [],
   "source": [
    "#hide\n",
    "#delete problematic countries from table\n",
    "df_table = df_table[~df_table['Country/Region'].isin(['Cape Verde', 'Cruise Ship', 'Kosovo'])]"
   ]
  },
  {
   "cell_type": "code",
   "execution_count": 15,
   "id": "fantastic-effect",
   "metadata": {
    "execution": {
     "iopub.execute_input": "2021-10-04T12:11:31.624303Z",
     "iopub.status.busy": "2021-10-04T12:11:31.623722Z",
     "iopub.status.idle": "2021-10-04T12:11:31.645634Z",
     "shell.execute_reply": "2021-10-04T12:11:31.645073Z"
    },
    "papermill": {
     "duration": 0.065587,
     "end_time": "2021-10-04T12:11:31.645804",
     "exception": false,
     "start_time": "2021-10-04T12:11:31.580217",
     "status": "completed"
    },
    "tags": []
   },
   "outputs": [
    {
     "data": {
      "text/html": [
       "<div>\n",
       "<style scoped>\n",
       "    .dataframe tbody tr th:only-of-type {\n",
       "        vertical-align: middle;\n",
       "    }\n",
       "\n",
       "    .dataframe tbody tr th {\n",
       "        vertical-align: top;\n",
       "    }\n",
       "\n",
       "    .dataframe thead th {\n",
       "        text-align: right;\n",
       "    }\n",
       "</style>\n",
       "<table border=\"1\" class=\"dataframe\">\n",
       "  <thead>\n",
       "    <tr style=\"text-align: right;\">\n",
       "      <th></th>\n",
       "      <th>Country/Region</th>\n",
       "      <th>Cases</th>\n",
       "      <th>Deaths</th>\n",
       "      <th>PCases</th>\n",
       "      <th>PDeaths</th>\n",
       "      <th>Cases (+)</th>\n",
       "      <th>Deaths (+)</th>\n",
       "      <th>Fatality Rate</th>\n",
       "      <th>Continent</th>\n",
       "    </tr>\n",
       "  </thead>\n",
       "  <tbody>\n",
       "    <tr>\n",
       "      <th>0</th>\n",
       "      <td>US</td>\n",
       "      <td>43683048</td>\n",
       "      <td>701169</td>\n",
       "      <td>43657833</td>\n",
       "      <td>700932</td>\n",
       "      <td>25215</td>\n",
       "      <td>237</td>\n",
       "      <td>1.6</td>\n",
       "      <td>North America</td>\n",
       "    </tr>\n",
       "    <tr>\n",
       "      <th>1</th>\n",
       "      <td>India</td>\n",
       "      <td>33834702</td>\n",
       "      <td>448997</td>\n",
       "      <td>33813903</td>\n",
       "      <td>448817</td>\n",
       "      <td>20799</td>\n",
       "      <td>180</td>\n",
       "      <td>1.3</td>\n",
       "      <td>Asia</td>\n",
       "    </tr>\n",
       "    <tr>\n",
       "      <th>2</th>\n",
       "      <td>Brazil</td>\n",
       "      <td>21468121</td>\n",
       "      <td>597948</td>\n",
       "      <td>21459117</td>\n",
       "      <td>597723</td>\n",
       "      <td>9004</td>\n",
       "      <td>225</td>\n",
       "      <td>2.8</td>\n",
       "      <td>South America</td>\n",
       "    </tr>\n",
       "    <tr>\n",
       "      <th>3</th>\n",
       "      <td>United Kingdom</td>\n",
       "      <td>7937810</td>\n",
       "      <td>137338</td>\n",
       "      <td>7908091</td>\n",
       "      <td>137295</td>\n",
       "      <td>29719</td>\n",
       "      <td>43</td>\n",
       "      <td>1.7</td>\n",
       "      <td>Europe</td>\n",
       "    </tr>\n",
       "    <tr>\n",
       "      <th>4</th>\n",
       "      <td>Russia</td>\n",
       "      <td>7474850</td>\n",
       "      <td>206179</td>\n",
       "      <td>7449689</td>\n",
       "      <td>205297</td>\n",
       "      <td>25161</td>\n",
       "      <td>882</td>\n",
       "      <td>2.8</td>\n",
       "      <td>Europe</td>\n",
       "    </tr>\n",
       "  </tbody>\n",
       "</table>\n",
       "</div>"
      ],
      "text/plain": [
       "   Country/Region     Cases  Deaths    PCases  PDeaths  Cases (+)  Deaths (+)  \\\n",
       "0              US  43683048  701169  43657833   700932      25215         237   \n",
       "1           India  33834702  448997  33813903   448817      20799         180   \n",
       "2          Brazil  21468121  597948  21459117   597723       9004         225   \n",
       "3  United Kingdom   7937810  137338   7908091   137295      29719          43   \n",
       "4          Russia   7474850  206179   7449689   205297      25161         882   \n",
       "\n",
       "   Fatality Rate      Continent  \n",
       "0            1.6  North America  \n",
       "1            1.3           Asia  \n",
       "2            2.8  South America  \n",
       "3            1.7         Europe  \n",
       "4            2.8         Europe  "
      ]
     },
     "execution_count": 15,
     "metadata": {},
     "output_type": "execute_result"
    }
   ],
   "source": [
    "#hide\n",
    "df_table = (pd.DataFrame(dict(Cases=dfc_cases, Deaths=dfc_deaths, PCases=dfp_cases, PDeaths=dfp_deaths))\n",
    "             .sort_values(by=['Cases', 'Deaths'], ascending=[False, False])\n",
    "             .reset_index())\n",
    "df_table.rename(columns={'index': 'Country/Region'}, inplace=True)\n",
    "for c in 'Cases, Deaths'.split(', '):\n",
    "    df_table[f'{c} (+)'] = (df_table[c] - df_table[f'P{c}']).clip(0)  # DATA BUG\n",
    "df_table['Fatality Rate'] = (100 * df_table['Deaths'] / df_table['Cases']).round(1)\n",
    "df_table['Continent'] = df_table['Country/Region'].map(mapping['map.continent'])\n",
    "df_table.head(5)"
   ]
  },
  {
   "cell_type": "code",
   "execution_count": 16,
   "id": "fewer-occasion",
   "metadata": {
    "execution": {
     "iopub.execute_input": "2021-10-04T12:11:31.728601Z",
     "iopub.status.busy": "2021-10-04T12:11:31.727725Z",
     "iopub.status.idle": "2021-10-04T12:11:31.730528Z",
     "shell.execute_reply": "2021-10-04T12:11:31.729940Z"
    },
    "papermill": {
     "duration": 0.047965,
     "end_time": "2021-10-04T12:11:31.730740",
     "exception": false,
     "start_time": "2021-10-04T12:11:31.682775",
     "status": "completed"
    },
    "tags": []
   },
   "outputs": [],
   "source": [
    "#hide\n",
    "#delete problematic countries from table\n",
    "df_table = df_table[~df_table['Country/Region'].isin(['Cape Verde', 'Cruise Ship', 'Kosovo'])]"
   ]
  },
  {
   "cell_type": "code",
   "execution_count": 17,
   "id": "related-center",
   "metadata": {
    "execution": {
     "iopub.execute_input": "2021-10-04T12:11:31.833437Z",
     "iopub.status.busy": "2021-10-04T12:11:31.832445Z",
     "iopub.status.idle": "2021-10-04T12:11:31.836418Z",
     "shell.execute_reply": "2021-10-04T12:11:31.834578Z"
    },
    "papermill": {
     "duration": 0.064408,
     "end_time": "2021-10-04T12:11:31.836571",
     "exception": false,
     "start_time": "2021-10-04T12:11:31.772163",
     "status": "completed"
    },
    "tags": []
   },
   "outputs": [],
   "source": [
    "#hide\n",
    "metrics = [df_table.columns[index] for index in [1,2,5,6]]\n",
    "# s_china = df_table[df_table['Country/Region'].eq('China')][metrics].sum().add_prefix('China ')\n",
    "s_us = df_table[df_table['Country/Region'].eq('US')][metrics].sum().add_prefix('US ')\n",
    "s_eu = df_table[df_table['Continent'].eq('Europe')][metrics].sum().add_prefix('EU ')\n",
    "s_ind = df_table[df_table['Country/Region'].eq('India')][metrics].sum().add_prefix('India ')\n",
    "summary = {'updated': pd.to_datetime(dt_today), 'since': pd.to_datetime(dt_yday)}\n",
    "summary = {'updated': pd.to_datetime(dt_today), 'since': pd.to_datetime(dt_yday)}\n",
    "summary = {**summary, **df_table[metrics].sum(), **s_ind, **s_us, **s_eu}"
   ]
  },
  {
   "cell_type": "code",
   "execution_count": 18,
   "id": "engaging-syndrome",
   "metadata": {
    "execution": {
     "iopub.execute_input": "2021-10-04T12:11:31.916708Z",
     "iopub.status.busy": "2021-10-04T12:11:31.916136Z",
     "iopub.status.idle": "2021-10-04T12:11:31.932176Z",
     "shell.execute_reply": "2021-10-04T12:11:31.932897Z"
    },
    "papermill": {
     "duration": 0.059756,
     "end_time": "2021-10-04T12:11:31.933142",
     "exception": false,
     "start_time": "2021-10-04T12:11:31.873386",
     "status": "completed"
    },
    "tags": []
   },
   "outputs": [],
   "source": [
    "#hide\n",
    "dft_ct_new_cases = dft_cases.groupby(COL_REGION)[dt_cols].sum().diff(axis=1).fillna(0).astype(int)"
   ]
  },
  {
   "cell_type": "code",
   "execution_count": 19,
   "id": "neutral-assignment",
   "metadata": {
    "execution": {
     "iopub.execute_input": "2021-10-04T12:11:32.018478Z",
     "iopub.status.busy": "2021-10-04T12:11:32.017765Z",
     "iopub.status.idle": "2021-10-04T12:11:32.019408Z",
     "shell.execute_reply": "2021-10-04T12:11:32.020229Z"
    },
    "papermill": {
     "duration": 0.047992,
     "end_time": "2021-10-04T12:11:32.020377",
     "exception": false,
     "start_time": "2021-10-04T12:11:31.972385",
     "status": "completed"
    },
    "tags": []
   },
   "outputs": [],
   "source": [
    "#hide\n",
    "everydaycases = dft_ct_new_cases.cumsum(axis=1)"
   ]
  },
  {
   "cell_type": "code",
   "execution_count": 20,
   "id": "parliamentary-calgary",
   "metadata": {
    "execution": {
     "iopub.execute_input": "2021-10-04T12:11:32.114604Z",
     "iopub.status.busy": "2021-10-04T12:11:32.113778Z",
     "iopub.status.idle": "2021-10-04T12:11:32.710491Z",
     "shell.execute_reply": "2021-10-04T12:11:32.710974Z"
    },
    "papermill": {
     "duration": 0.638925,
     "end_time": "2021-10-04T12:11:32.711240",
     "exception": false,
     "start_time": "2021-10-04T12:11:32.072315",
     "status": "completed"
    },
    "tags": []
   },
   "outputs": [],
   "source": [
    "#hide\n",
    "import pandas as pd\n",
    "import matplotlib.pyplot as plt\n",
    "import matplotlib.ticker as ticker\n",
    "import matplotlib.animation as animation\n",
    "from IPython.display import HTML"
   ]
  },
  {
   "cell_type": "code",
   "execution_count": 21,
   "id": "lasting-extraction",
   "metadata": {
    "execution": {
     "iopub.execute_input": "2021-10-04T12:11:32.804432Z",
     "iopub.status.busy": "2021-10-04T12:11:32.803663Z",
     "iopub.status.idle": "2021-10-04T12:11:32.811052Z",
     "shell.execute_reply": "2021-10-04T12:11:32.811736Z"
    },
    "papermill": {
     "duration": 0.055447,
     "end_time": "2021-10-04T12:11:32.811904",
     "exception": false,
     "start_time": "2021-10-04T12:11:32.756457",
     "status": "completed"
    },
    "tags": []
   },
   "outputs": [],
   "source": [
    "#hide\n",
    "t = everydaycases.stack()"
   ]
  },
  {
   "cell_type": "code",
   "execution_count": 22,
   "id": "premier-sleeve",
   "metadata": {
    "execution": {
     "iopub.execute_input": "2021-10-04T12:11:32.896659Z",
     "iopub.status.busy": "2021-10-04T12:11:32.896009Z",
     "iopub.status.idle": "2021-10-04T12:11:32.906719Z",
     "shell.execute_reply": "2021-10-04T12:11:32.906173Z"
    },
    "papermill": {
     "duration": 0.05646,
     "end_time": "2021-10-04T12:11:32.906864",
     "exception": false,
     "start_time": "2021-10-04T12:11:32.850404",
     "status": "completed"
    },
    "tags": []
   },
   "outputs": [],
   "source": [
    "#hide\n",
    "g = t.reset_index(['Country/Region'])"
   ]
  },
  {
   "cell_type": "code",
   "execution_count": 23,
   "id": "distributed-pittsburgh",
   "metadata": {
    "execution": {
     "iopub.execute_input": "2021-10-04T12:11:32.990042Z",
     "iopub.status.busy": "2021-10-04T12:11:32.989418Z",
     "iopub.status.idle": "2021-10-04T12:11:32.991927Z",
     "shell.execute_reply": "2021-10-04T12:11:32.991084Z"
    },
    "papermill": {
     "duration": 0.044832,
     "end_time": "2021-10-04T12:11:32.992065",
     "exception": false,
     "start_time": "2021-10-04T12:11:32.947233",
     "status": "completed"
    },
    "tags": []
   },
   "outputs": [],
   "source": [
    "#hide\n",
    "g.index.name = 'date'"
   ]
  },
  {
   "cell_type": "code",
   "execution_count": 24,
   "id": "naked-donor",
   "metadata": {
    "execution": {
     "iopub.execute_input": "2021-10-04T12:11:33.074310Z",
     "iopub.status.busy": "2021-10-04T12:11:33.073663Z",
     "iopub.status.idle": "2021-10-04T12:11:33.075568Z",
     "shell.execute_reply": "2021-10-04T12:11:33.076113Z"
    },
    "papermill": {
     "duration": 0.046414,
     "end_time": "2021-10-04T12:11:33.076303",
     "exception": false,
     "start_time": "2021-10-04T12:11:33.029889",
     "status": "completed"
    },
    "tags": []
   },
   "outputs": [],
   "source": [
    "# #hide\n",
    "# g = g.reset_index(['date'])"
   ]
  },
  {
   "cell_type": "code",
   "execution_count": 25,
   "id": "incomplete-mustang",
   "metadata": {
    "execution": {
     "iopub.execute_input": "2021-10-04T12:11:33.164841Z",
     "iopub.status.busy": "2021-10-04T12:11:33.163989Z",
     "iopub.status.idle": "2021-10-04T12:11:33.165768Z",
     "shell.execute_reply": "2021-10-04T12:11:33.166778Z"
    },
    "papermill": {
     "duration": 0.048684,
     "end_time": "2021-10-04T12:11:33.166940",
     "exception": false,
     "start_time": "2021-10-04T12:11:33.118256",
     "status": "completed"
    },
    "tags": []
   },
   "outputs": [],
   "source": [
    "#hide\n",
    "# g.head()"
   ]
  },
  {
   "cell_type": "code",
   "execution_count": 26,
   "id": "specific-kruger",
   "metadata": {
    "execution": {
     "iopub.execute_input": "2021-10-04T12:11:33.246960Z",
     "iopub.status.busy": "2021-10-04T12:11:33.246312Z",
     "iopub.status.idle": "2021-10-04T12:11:33.249133Z",
     "shell.execute_reply": "2021-10-04T12:11:33.248566Z"
    },
    "papermill": {
     "duration": 0.044574,
     "end_time": "2021-10-04T12:11:33.249253",
     "exception": false,
     "start_time": "2021-10-04T12:11:33.204679",
     "status": "completed"
    },
    "tags": []
   },
   "outputs": [],
   "source": [
    "#hide\n",
    "# g.columns = ['date','country','cases']"
   ]
  },
  {
   "cell_type": "code",
   "execution_count": 27,
   "id": "tender-conversion",
   "metadata": {
    "execution": {
     "iopub.execute_input": "2021-10-04T12:11:33.331029Z",
     "iopub.status.busy": "2021-10-04T12:11:33.330355Z",
     "iopub.status.idle": "2021-10-04T12:11:33.332245Z",
     "shell.execute_reply": "2021-10-04T12:11:33.332799Z"
    },
    "papermill": {
     "duration": 0.045604,
     "end_time": "2021-10-04T12:11:33.332946",
     "exception": false,
     "start_time": "2021-10-04T12:11:33.287342",
     "status": "completed"
    },
    "tags": []
   },
   "outputs": [],
   "source": [
    "#hide\n",
    "# g['continent'] = g.country"
   ]
  },
  {
   "cell_type": "code",
   "execution_count": 28,
   "id": "substantial-wilderness",
   "metadata": {
    "execution": {
     "iopub.execute_input": "2021-10-04T12:11:33.416791Z",
     "iopub.status.busy": "2021-10-04T12:11:33.416033Z",
     "iopub.status.idle": "2021-10-04T12:11:33.417910Z",
     "shell.execute_reply": "2021-10-04T12:11:33.418404Z"
    },
    "papermill": {
     "duration": 0.046266,
     "end_time": "2021-10-04T12:11:33.418543",
     "exception": false,
     "start_time": "2021-10-04T12:11:33.372277",
     "status": "completed"
    },
    "tags": []
   },
   "outputs": [],
   "source": [
    "#hide\n",
    "# cols = list(g.columns.values)"
   ]
  },
  {
   "cell_type": "code",
   "execution_count": 29,
   "id": "solved-farming",
   "metadata": {
    "execution": {
     "iopub.execute_input": "2021-10-04T12:11:33.502303Z",
     "iopub.status.busy": "2021-10-04T12:11:33.501698Z",
     "iopub.status.idle": "2021-10-04T12:11:33.503586Z",
     "shell.execute_reply": "2021-10-04T12:11:33.504181Z"
    },
    "papermill": {
     "duration": 0.043584,
     "end_time": "2021-10-04T12:11:33.504321",
     "exception": false,
     "start_time": "2021-10-04T12:11:33.460737",
     "status": "completed"
    },
    "tags": []
   },
   "outputs": [],
   "source": [
    "#hide\n",
    "# cols.insert(0, cols.pop())"
   ]
  },
  {
   "cell_type": "code",
   "execution_count": 30,
   "id": "executed-adoption",
   "metadata": {
    "execution": {
     "iopub.execute_input": "2021-10-04T12:11:33.584367Z",
     "iopub.status.busy": "2021-10-04T12:11:33.583758Z",
     "iopub.status.idle": "2021-10-04T12:11:33.585766Z",
     "shell.execute_reply": "2021-10-04T12:11:33.586249Z"
    },
    "papermill": {
     "duration": 0.044981,
     "end_time": "2021-10-04T12:11:33.586484",
     "exception": false,
     "start_time": "2021-10-04T12:11:33.541503",
     "status": "completed"
    },
    "tags": []
   },
   "outputs": [],
   "source": [
    "#hide\n",
    "# g = g[cols]"
   ]
  },
  {
   "cell_type": "code",
   "execution_count": 31,
   "id": "subject-dublin",
   "metadata": {
    "execution": {
     "iopub.execute_input": "2021-10-04T12:11:33.672068Z",
     "iopub.status.busy": "2021-10-04T12:11:33.671406Z",
     "iopub.status.idle": "2021-10-04T12:11:33.673986Z",
     "shell.execute_reply": "2021-10-04T12:11:33.673433Z"
    },
    "papermill": {
     "duration": 0.046328,
     "end_time": "2021-10-04T12:11:33.674180",
     "exception": false,
     "start_time": "2021-10-04T12:11:33.627852",
     "status": "completed"
    },
    "tags": []
   },
   "outputs": [],
   "source": [
    "#hide\n",
    "# g['continent'] = g['continent'].map(mapping['map.continent'])"
   ]
  },
  {
   "cell_type": "code",
   "execution_count": 32,
   "id": "freelance-scout",
   "metadata": {
    "execution": {
     "iopub.execute_input": "2021-10-04T12:11:33.752088Z",
     "iopub.status.busy": "2021-10-04T12:11:33.751309Z",
     "iopub.status.idle": "2021-10-04T12:11:33.753300Z",
     "shell.execute_reply": "2021-10-04T12:11:33.753761Z"
    },
    "papermill": {
     "duration": 0.042171,
     "end_time": "2021-10-04T12:11:33.753879",
     "exception": false,
     "start_time": "2021-10-04T12:11:33.711708",
     "status": "completed"
    },
    "tags": []
   },
   "outputs": [],
   "source": [
    "#hide\n",
    "# g.head()"
   ]
  },
  {
   "cell_type": "code",
   "execution_count": 33,
   "id": "limited-engine",
   "metadata": {
    "execution": {
     "iopub.execute_input": "2021-10-04T12:11:33.831003Z",
     "iopub.status.busy": "2021-10-04T12:11:33.830382Z",
     "iopub.status.idle": "2021-10-04T12:11:33.833191Z",
     "shell.execute_reply": "2021-10-04T12:11:33.832720Z"
    },
    "papermill": {
     "duration": 0.043496,
     "end_time": "2021-10-04T12:11:33.833304",
     "exception": false,
     "start_time": "2021-10-04T12:11:33.789808",
     "status": "completed"
    },
    "tags": []
   },
   "outputs": [],
   "source": [
    "# hide\n",
    "# g['date'] = g['date'].astype('datetime64[ns]')"
   ]
  },
  {
   "cell_type": "code",
   "execution_count": 34,
   "id": "sophisticated-supervisor",
   "metadata": {
    "execution": {
     "iopub.execute_input": "2021-10-04T12:11:33.911820Z",
     "iopub.status.busy": "2021-10-04T12:11:33.911240Z",
     "iopub.status.idle": "2021-10-04T12:11:33.913384Z",
     "shell.execute_reply": "2021-10-04T12:11:33.913830Z"
    },
    "papermill": {
     "duration": 0.043457,
     "end_time": "2021-10-04T12:11:33.913957",
     "exception": false,
     "start_time": "2021-10-04T12:11:33.870500",
     "status": "completed"
    },
    "tags": []
   },
   "outputs": [],
   "source": [
    "#hide\n",
    "# g['date'] = g.date.dt.dayofyear"
   ]
  },
  {
   "cell_type": "code",
   "execution_count": 35,
   "id": "inside-dubai",
   "metadata": {
    "execution": {
     "iopub.execute_input": "2021-10-04T12:11:33.993248Z",
     "iopub.status.busy": "2021-10-04T12:11:33.992445Z",
     "iopub.status.idle": "2021-10-04T12:11:33.994834Z",
     "shell.execute_reply": "2021-10-04T12:11:33.995378Z"
    },
    "papermill": {
     "duration": 0.043278,
     "end_time": "2021-10-04T12:11:33.995525",
     "exception": false,
     "start_time": "2021-10-04T12:11:33.952247",
     "status": "completed"
    },
    "tags": []
   },
   "outputs": [],
   "source": [
    "#hide\n",
    "# g = g.rename(columns= {'continent':'group','country':'name','cases':'value'})"
   ]
  },
  {
   "cell_type": "code",
   "execution_count": 36,
   "id": "fleet-motorcycle",
   "metadata": {
    "execution": {
     "iopub.execute_input": "2021-10-04T12:11:34.074928Z",
     "iopub.status.busy": "2021-10-04T12:11:34.074307Z",
     "iopub.status.idle": "2021-10-04T12:11:34.076781Z",
     "shell.execute_reply": "2021-10-04T12:11:34.076231Z"
    },
    "papermill": {
     "duration": 0.045174,
     "end_time": "2021-10-04T12:11:34.076892",
     "exception": false,
     "start_time": "2021-10-04T12:11:34.031718",
     "status": "completed"
    },
    "tags": []
   },
   "outputs": [],
   "source": [
    "#hide\n",
    "# cols = ['name','group','day','value']"
   ]
  },
  {
   "cell_type": "code",
   "execution_count": 37,
   "id": "continued-sleeping",
   "metadata": {
    "execution": {
     "iopub.execute_input": "2021-10-04T12:11:34.159325Z",
     "iopub.status.busy": "2021-10-04T12:11:34.158551Z",
     "iopub.status.idle": "2021-10-04T12:11:34.159974Z",
     "shell.execute_reply": "2021-10-04T12:11:34.160646Z"
    },
    "papermill": {
     "duration": 0.045295,
     "end_time": "2021-10-04T12:11:34.160789",
     "exception": false,
     "start_time": "2021-10-04T12:11:34.115494",
     "status": "completed"
    },
    "tags": []
   },
   "outputs": [],
   "source": [
    "#hide\n",
    "# g.rename(columns= {'date':'day'},inplace = True)"
   ]
  },
  {
   "cell_type": "code",
   "execution_count": 38,
   "id": "major-fight",
   "metadata": {
    "execution": {
     "iopub.execute_input": "2021-10-04T12:11:34.245071Z",
     "iopub.status.busy": "2021-10-04T12:11:34.244483Z",
     "iopub.status.idle": "2021-10-04T12:11:34.246770Z",
     "shell.execute_reply": "2021-10-04T12:11:34.246267Z"
    },
    "papermill": {
     "duration": 0.043304,
     "end_time": "2021-10-04T12:11:34.246886",
     "exception": false,
     "start_time": "2021-10-04T12:11:34.203582",
     "status": "completed"
    },
    "tags": []
   },
   "outputs": [],
   "source": [
    "#hide\n",
    "# g = g[cols]"
   ]
  },
  {
   "cell_type": "code",
   "execution_count": 39,
   "id": "structured-mobile",
   "metadata": {
    "execution": {
     "iopub.execute_input": "2021-10-04T12:11:34.322467Z",
     "iopub.status.busy": "2021-10-04T12:11:34.321791Z",
     "iopub.status.idle": "2021-10-04T12:11:34.324258Z",
     "shell.execute_reply": "2021-10-04T12:11:34.323740Z"
    },
    "papermill": {
     "duration": 0.042236,
     "end_time": "2021-10-04T12:11:34.324379",
     "exception": false,
     "start_time": "2021-10-04T12:11:34.282143",
     "status": "completed"
    },
    "tags": []
   },
   "outputs": [],
   "source": [
    "# #hide\n",
    "# g = g[g.group.notna()]"
   ]
  },
  {
   "cell_type": "code",
   "execution_count": 40,
   "id": "determined-closing",
   "metadata": {
    "execution": {
     "iopub.execute_input": "2021-10-04T12:11:34.403824Z",
     "iopub.status.busy": "2021-10-04T12:11:34.403162Z",
     "iopub.status.idle": "2021-10-04T12:11:34.405978Z",
     "shell.execute_reply": "2021-10-04T12:11:34.405254Z"
    },
    "papermill": {
     "duration": 0.043864,
     "end_time": "2021-10-04T12:11:34.406114",
     "exception": false,
     "start_time": "2021-10-04T12:11:34.362250",
     "status": "completed"
    },
    "tags": []
   },
   "outputs": [],
   "source": [
    "# #hide\n",
    "# colors = dict(zip(\n",
    "#     [\"Oceania\", \"Europe\", \"Asia\", \"South America\", \"Middle East\", \"North America\", \"Africa\"],\n",
    "#     [\"#adb0ff\", \"#ffb3ff\", \"#90d595\", \"#e48381\", \"#aafbff\", \"#f7bb5f\", \"#eafb50\"]\n",
    "# ))\n",
    "# group_lk = g.set_index('name')['group'].to_dict()"
   ]
  },
  {
   "cell_type": "code",
   "execution_count": null,
   "id": "gross-drinking",
   "metadata": {
    "papermill": {
     "duration": 0.037427,
     "end_time": "2021-10-04T12:11:34.480042",
     "exception": false,
     "start_time": "2021-10-04T12:11:34.442615",
     "status": "completed"
    },
    "tags": []
   },
   "outputs": [],
   "source": []
  },
  {
   "cell_type": "code",
   "execution_count": 41,
   "id": "subject-macintosh",
   "metadata": {
    "execution": {
     "iopub.execute_input": "2021-10-04T12:11:34.561967Z",
     "iopub.status.busy": "2021-10-04T12:11:34.561321Z",
     "iopub.status.idle": "2021-10-04T12:11:34.563349Z",
     "shell.execute_reply": "2021-10-04T12:11:34.564026Z"
    },
    "papermill": {
     "duration": 0.043081,
     "end_time": "2021-10-04T12:11:34.564184",
     "exception": false,
     "start_time": "2021-10-04T12:11:34.521103",
     "status": "completed"
    },
    "tags": []
   },
   "outputs": [],
   "source": [
    "# #hide\n",
    "# fig, ax = plt.subplots(figsize=(15, 8))\n",
    "\n",
    "# def draw_barchart(current_day):\n",
    "#     dff = g[g['day'].eq(current_day)].sort_values(by='value', ascending=True).tail(10)\n",
    "#     ax.clear()\n",
    "#     ax.barh(dff['name'], dff['value'], color=[colors[group_lk[x]] for x in dff['name']])\n",
    "#     dx = dff['value'].max() / 200\n",
    "    \n",
    "#     for i, (value, name) in enumerate(zip(dff['value'], dff['name'])):\n",
    "#         ax.text(value-dx, i,     name,           size=14, weight=600, ha='right', va='bottom')\n",
    "#         ax.text(value-dx, i-.25, group_lk[name], size=10, color='#444444', ha='right', va='baseline')\n",
    "#         ax.text(value+dx, i,     f'{value:,.0f}',  size=14, ha='left',  va='center')\n",
    "#     ax.text(1, 0.4, current_day, transform=ax.transAxes, color='#777777', size=46, ha='right', weight=800)\n",
    "#     ax.text(0, 1.06, 'Population (thousands)', transform=ax.transAxes, size=12, color='#777777')\n",
    "#     ax.xaxis.set_major_formatter(ticker.StrMethodFormatter('{x:,.0f}'))\n",
    "#     ax.xaxis.set_ticks_position('top')\n",
    "#     ax.tick_params(axis='x', colors='#777777', labelsize=12)\n",
    "#     ax.set_yticks([])\n",
    "#     ax.margins(0, 0.01)\n",
    "#     ax.grid(which='major', axis='x', linestyle='-')\n",
    "#     ax.set_axisbelow(True)\n",
    "    \n",
    "#     ax.text(0, 1.15, 'Coronavirus',\n",
    "#             transform=ax.transAxes, size=24, weight=600, ha='left', va='top')\n",
    "# #     ax.text(1, 0, 'by @pratapvardhan; credit @jburnmurdoch', transform=ax.transAxes, color='#777777', ha='right',\n",
    "# #             bbox=dict(facecolor='white', alpha=0.8, edgecolor='white'))\n",
    "#     plt.box(False)"
   ]
  },
  {
   "cell_type": "code",
   "execution_count": 42,
   "id": "sexual-wages",
   "metadata": {
    "execution": {
     "iopub.execute_input": "2021-10-04T12:11:34.640185Z",
     "iopub.status.busy": "2021-10-04T12:11:34.639276Z",
     "iopub.status.idle": "2021-10-04T12:11:34.641257Z",
     "shell.execute_reply": "2021-10-04T12:11:34.641850Z"
    },
    "papermill": {
     "duration": 0.041266,
     "end_time": "2021-10-04T12:11:34.642062",
     "exception": false,
     "start_time": "2021-10-04T12:11:34.600796",
     "status": "completed"
    },
    "tags": []
   },
   "outputs": [],
   "source": [
    "# #hide_input\n",
    "# fig, ax = plt.subplots(figsize=(15, 8))\n",
    "# animator = animation.FuncAnimation(fig, draw_barchart, frames=range(g.day.values.min(), g.day.values.max()))\n",
    "# HTML(animator.to_jshtml())\n",
    "# # or use animator.to_html5_video() or animator.save() "
   ]
  },
  {
   "cell_type": "code",
   "execution_count": null,
   "id": "australian-container",
   "metadata": {
    "papermill": {
     "duration": 0.038965,
     "end_time": "2021-10-04T12:11:34.720586",
     "exception": false,
     "start_time": "2021-10-04T12:11:34.681621",
     "status": "completed"
    },
    "tags": []
   },
   "outputs": [],
   "source": []
  },
  {
   "cell_type": "code",
   "execution_count": null,
   "id": "mediterranean-pontiac",
   "metadata": {
    "papermill": {
     "duration": 0.037518,
     "end_time": "2021-10-04T12:11:34.795011",
     "exception": false,
     "start_time": "2021-10-04T12:11:34.757493",
     "status": "completed"
    },
    "tags": []
   },
   "outputs": [],
   "source": []
  },
  {
   "cell_type": "code",
   "execution_count": null,
   "id": "aging-legislature",
   "metadata": {
    "papermill": {
     "duration": 0.04037,
     "end_time": "2021-10-04T12:11:34.872770",
     "exception": false,
     "start_time": "2021-10-04T12:11:34.832400",
     "status": "completed"
    },
    "tags": []
   },
   "outputs": [],
   "source": []
  }
 ],
 "metadata": {
  "kernelspec": {
   "display_name": "Python 3",
   "language": "python",
   "name": "python3"
  },
  "language_info": {
   "codemirror_mode": {
    "name": "ipython",
    "version": 3
   },
   "file_extension": ".py",
   "mimetype": "text/x-python",
   "name": "python",
   "nbconvert_exporter": "python",
   "pygments_lexer": "ipython3",
   "version": "3.6.15"
  },
  "papermill": {
   "duration": 6.819664,
   "end_time": "2021-10-04T12:11:35.216053",
   "environment_variables": {},
   "exception": null,
   "input_path": "2020-03-21-covid19exp.ipynb",
   "output_path": "2020-03-21-covid19exp.ipynb",
   "parameters": {},
   "start_time": "2021-10-04T12:11:28.396389",
   "version": "2.0.0"
  }
 },
 "nbformat": 4,
 "nbformat_minor": 5
}