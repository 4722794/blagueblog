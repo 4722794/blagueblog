{
 "cells": [
  {
   "cell_type": "markdown",
   "id": "muslim-click",
   "metadata": {
    "papermill": {
     "duration": 0.039708,
     "end_time": "2022-05-21T00:38:59.976279",
     "exception": false,
     "start_time": "2022-05-21T00:38:59.936571",
     "status": "completed"
    },
    "tags": []
   },
   "source": [
    "# COVID-19 Case Race\n",
    "> A race chart to see rising cases around the world\n",
    "\n",
    "- author: Hargun Oberoi\n",
    "- image: images/covid-overview.png\n",
    "- hide: false\n",
    "- badges: false"
   ]
  },
  {
   "cell_type": "code",
   "execution_count": 1,
   "id": "proof-material",
   "metadata": {
    "execution": {
     "iopub.execute_input": "2022-05-21T00:39:00.059273Z",
     "iopub.status.busy": "2022-05-21T00:39:00.058486Z",
     "iopub.status.idle": "2022-05-21T00:39:00.432930Z",
     "shell.execute_reply": "2022-05-21T00:39:00.432318Z"
    },
    "papermill": {
     "duration": 0.419318,
     "end_time": "2022-05-21T00:39:00.433081",
     "exception": false,
     "start_time": "2022-05-21T00:39:00.013763",
     "status": "completed"
    },
    "tags": []
   },
   "outputs": [],
   "source": [
    "#hide\n",
    "import numpy as np\n",
    "import pandas as pd\n",
    "from jinja2 import Template\n",
    "from IPython.display import HTML"
   ]
  },
  {
   "cell_type": "code",
   "execution_count": 2,
   "id": "developed-terminology",
   "metadata": {
    "execution": {
     "iopub.execute_input": "2022-05-21T00:39:00.511122Z",
     "iopub.status.busy": "2022-05-21T00:39:00.510397Z",
     "iopub.status.idle": "2022-05-21T00:39:00.514333Z",
     "shell.execute_reply": "2022-05-21T00:39:00.513575Z"
    },
    "papermill": {
     "duration": 0.045857,
     "end_time": "2022-05-21T00:39:00.514472",
     "exception": false,
     "start_time": "2022-05-21T00:39:00.468615",
     "status": "completed"
    },
    "tags": []
   },
   "outputs": [],
   "source": [
    "#hide\n",
    "\n",
    "# FETCH\n",
    "base_url = 'https://raw.githubusercontent.com/pratapvardhan/notebooks/master/covid19/'\n",
    "paths = {\n",
    "    'mapping': base_url + 'mapping_countries.csv',\n",
    "    'overview': base_url + 'overview.tpl'\n",
    "}"
   ]
  },
  {
   "cell_type": "code",
   "execution_count": 3,
   "id": "dynamic-saver",
   "metadata": {
    "execution": {
     "iopub.execute_input": "2022-05-21T00:39:00.595103Z",
     "iopub.status.busy": "2022-05-21T00:39:00.594278Z",
     "iopub.status.idle": "2022-05-21T00:39:00.598473Z",
     "shell.execute_reply": "2022-05-21T00:39:00.599060Z"
    },
    "papermill": {
     "duration": 0.050492,
     "end_time": "2022-05-21T00:39:00.599190",
     "exception": false,
     "start_time": "2022-05-21T00:39:00.548698",
     "status": "completed"
    },
    "tags": []
   },
   "outputs": [
    {
     "data": {
      "text/plain": [
       "'https://raw.githubusercontent.com/pratapvardhan/notebooks/master/covid19/mapping_countries.csv'"
      ]
     },
     "execution_count": 3,
     "metadata": {},
     "output_type": "execute_result"
    }
   ],
   "source": [
    "#hide\n",
    "paths['mapping']"
   ]
  },
  {
   "cell_type": "code",
   "execution_count": 4,
   "id": "urban-software",
   "metadata": {
    "execution": {
     "iopub.execute_input": "2022-05-21T00:39:00.682803Z",
     "iopub.status.busy": "2022-05-21T00:39:00.682046Z",
     "iopub.status.idle": "2022-05-21T00:39:00.684465Z",
     "shell.execute_reply": "2022-05-21T00:39:00.685205Z"
    },
    "papermill": {
     "duration": 0.049004,
     "end_time": "2022-05-21T00:39:00.685366",
     "exception": false,
     "start_time": "2022-05-21T00:39:00.636362",
     "status": "completed"
    },
    "tags": []
   },
   "outputs": [],
   "source": [
    "#hide\n",
    "def get_mappings(url):\n",
    "    df = pd.read_csv(url)\n",
    "    return {\n",
    "        'df': df,\n",
    "        'replace.country': dict(df.dropna(subset=['Name']).set_index('Country')['Name']),\n",
    "        'map.continent': dict(df.set_index('Name')['Continent'])\n",
    "    }"
   ]
  },
  {
   "cell_type": "code",
   "execution_count": 5,
   "id": "intimate-machinery",
   "metadata": {
    "execution": {
     "iopub.execute_input": "2022-05-21T00:39:00.764181Z",
     "iopub.status.busy": "2022-05-21T00:39:00.763518Z",
     "iopub.status.idle": "2022-05-21T00:39:00.794290Z",
     "shell.execute_reply": "2022-05-21T00:39:00.793695Z"
    },
    "papermill": {
     "duration": 0.072163,
     "end_time": "2022-05-21T00:39:00.794411",
     "exception": false,
     "start_time": "2022-05-21T00:39:00.722248",
     "status": "completed"
    },
    "tags": []
   },
   "outputs": [],
   "source": [
    "#hide\n",
    "mapping = get_mappings(paths['mapping'])"
   ]
  },
  {
   "cell_type": "code",
   "execution_count": 6,
   "id": "certified-tactics",
   "metadata": {
    "execution": {
     "iopub.execute_input": "2022-05-21T00:39:00.874659Z",
     "iopub.status.busy": "2022-05-21T00:39:00.873911Z",
     "iopub.status.idle": "2022-05-21T00:39:00.876977Z",
     "shell.execute_reply": "2022-05-21T00:39:00.876468Z"
    },
    "papermill": {
     "duration": 0.046214,
     "end_time": "2022-05-21T00:39:00.877097",
     "exception": false,
     "start_time": "2022-05-21T00:39:00.830883",
     "status": "completed"
    },
    "tags": []
   },
   "outputs": [],
   "source": [
    "#hide\n",
    "def get_template(path):\n",
    "    from urllib.parse import urlparse\n",
    "    if bool(urlparse(path).netloc):\n",
    "        from urllib.request import urlopen\n",
    "        return urlopen(path).read().decode('utf8')\n",
    "    return open(path).read()"
   ]
  },
  {
   "cell_type": "code",
   "execution_count": 7,
   "id": "realistic-blast",
   "metadata": {
    "execution": {
     "iopub.execute_input": "2022-05-21T00:39:00.950989Z",
     "iopub.status.busy": "2022-05-21T00:39:00.950282Z",
     "iopub.status.idle": "2022-05-21T00:39:00.954151Z",
     "shell.execute_reply": "2022-05-21T00:39:00.953531Z"
    },
    "papermill": {
     "duration": 0.042914,
     "end_time": "2022-05-21T00:39:00.954263",
     "exception": false,
     "start_time": "2022-05-21T00:39:00.911349",
     "status": "completed"
    },
    "tags": []
   },
   "outputs": [],
   "source": [
    "#hide\n",
    "def get_frame(name):\n",
    "    url = (\n",
    "        'https://raw.githubusercontent.com/CSSEGISandData/COVID-19/master/csse_covid_19_data/'\n",
    "        f'csse_covid_19_time_series/time_series_covid19_{name}_global.csv')\n",
    "    df = pd.read_csv(url)\n",
    "    # rename countries\n",
    "    df['Country/Region'] = df['Country/Region'].replace(mapping['replace.country'])\n",
    "    return df"
   ]
  },
  {
   "cell_type": "code",
   "execution_count": 8,
   "id": "affiliated-characterization",
   "metadata": {
    "execution": {
     "iopub.execute_input": "2022-05-21T00:39:01.028230Z",
     "iopub.status.busy": "2022-05-21T00:39:01.027566Z",
     "iopub.status.idle": "2022-05-21T00:39:01.030061Z",
     "shell.execute_reply": "2022-05-21T00:39:01.030593Z"
    },
    "papermill": {
     "duration": 0.042292,
     "end_time": "2022-05-21T00:39:01.030727",
     "exception": false,
     "start_time": "2022-05-21T00:39:00.988435",
     "status": "completed"
    },
    "tags": []
   },
   "outputs": [],
   "source": [
    "#hide\n",
    "def get_dates(df):\n",
    "    dt_cols = df.columns[~df.columns.isin(['Province/State', 'Country/Region', 'Lat', 'Long'])]\n",
    "    LAST_DATE_I = -1\n",
    "    # sometimes last column may be empty, then go backwards\n",
    "    for i in range(-1, -len(dt_cols), -1):\n",
    "        if not df[dt_cols[i]].fillna(0).eq(0).all():\n",
    "            LAST_DATE_I = i\n",
    "            break\n",
    "    return LAST_DATE_I, dt_cols"
   ]
  },
  {
   "cell_type": "code",
   "execution_count": 9,
   "id": "recent-optimization",
   "metadata": {
    "execution": {
     "iopub.execute_input": "2022-05-21T00:39:01.108751Z",
     "iopub.status.busy": "2022-05-21T00:39:01.107957Z",
     "iopub.status.idle": "2022-05-21T00:39:01.541272Z",
     "shell.execute_reply": "2022-05-21T00:39:01.541873Z"
    },
    "papermill": {
     "duration": 0.474066,
     "end_time": "2022-05-21T00:39:01.542060",
     "exception": false,
     "start_time": "2022-05-21T00:39:01.067994",
     "status": "completed"
    },
    "tags": []
   },
   "outputs": [],
   "source": [
    "#hide\n",
    "COL_REGION = 'Country/Region'\n",
    "# Confirmed, Recovered, Deaths\n",
    "df = get_frame('confirmed')\n",
    "# dft_: timeseries, dfc_: today country agg\n",
    "dft_cases = df\n",
    "dft_deaths = get_frame('deaths')\n",
    "dft_recovered = get_frame('recovered')\n",
    "LAST_DATE_I, dt_cols = get_dates(df)"
   ]
  },
  {
   "cell_type": "code",
   "execution_count": 10,
   "id": "absolute-copper",
   "metadata": {
    "execution": {
     "iopub.execute_input": "2022-05-21T00:39:01.621925Z",
     "iopub.status.busy": "2022-05-21T00:39:01.621138Z",
     "iopub.status.idle": "2022-05-21T00:39:01.624588Z",
     "shell.execute_reply": "2022-05-21T00:39:01.625080Z"
    },
    "papermill": {
     "duration": 0.047958,
     "end_time": "2022-05-21T00:39:01.625221",
     "exception": false,
     "start_time": "2022-05-21T00:39:01.577263",
     "status": "completed"
    },
    "tags": []
   },
   "outputs": [],
   "source": [
    "#hide\n",
    "LAST_DATE_I, dt_cols = get_dates(df)\n",
    "dt_today =dt_cols[LAST_DATE_I]\n",
    "# dt_5day = dt_cols[LAST_DATE_I - 5]\n",
    "dt_yday = dt_cols[LAST_DATE_I - 1]"
   ]
  },
  {
   "cell_type": "code",
   "execution_count": 11,
   "id": "restricted-sheriff",
   "metadata": {
    "execution": {
     "iopub.execute_input": "2022-05-21T00:39:01.704384Z",
     "iopub.status.busy": "2022-05-21T00:39:01.702876Z",
     "iopub.status.idle": "2022-05-21T00:39:01.711415Z",
     "shell.execute_reply": "2022-05-21T00:39:01.712246Z"
    },
    "papermill": {
     "duration": 0.051075,
     "end_time": "2022-05-21T00:39:01.712398",
     "exception": false,
     "start_time": "2022-05-21T00:39:01.661323",
     "status": "completed"
    },
    "tags": []
   },
   "outputs": [],
   "source": [
    "#hide\n",
    "dfc_cases = dft_cases.groupby(COL_REGION)[dt_today].sum()\n",
    "dfc_deaths = dft_deaths.groupby(COL_REGION)[dt_today].sum()\n",
    "# dfp_cases = dft_cases.groupby(COL_REGION)[dt_5day].sum()\n",
    "# dfp_deaths = dft_deaths.groupby(COL_REGION)[dt_5day].sum()\n",
    "dfp_cases = dft_cases.groupby(COL_REGION)[dt_yday].sum()\n",
    "dfp_deaths = dft_deaths.groupby(COL_REGION)[dt_yday].sum()"
   ]
  },
  {
   "cell_type": "code",
   "execution_count": 12,
   "id": "deluxe-hepatitis",
   "metadata": {
    "execution": {
     "iopub.execute_input": "2022-05-21T00:39:01.791700Z",
     "iopub.status.busy": "2022-05-21T00:39:01.790922Z",
     "iopub.status.idle": "2022-05-21T00:39:01.796215Z",
     "shell.execute_reply": "2022-05-21T00:39:01.795564Z"
    },
    "papermill": {
     "duration": 0.047493,
     "end_time": "2022-05-21T00:39:01.796333",
     "exception": false,
     "start_time": "2022-05-21T00:39:01.748840",
     "status": "completed"
    },
    "tags": []
   },
   "outputs": [],
   "source": [
    "#hide\n",
    "df_table = (pd.DataFrame(dict(Cases = dfc_cases, Deaths = dfc_deaths, PCases = dfp_cases, PDeaths = dfp_deaths))\n",
    "            .sort_values(by = ['Cases','Deaths'], ascending = [False, False])\n",
    "            .reset_index())"
   ]
  },
  {
   "cell_type": "code",
   "execution_count": 13,
   "id": "educational-chancellor",
   "metadata": {
    "execution": {
     "iopub.execute_input": "2022-05-21T00:39:01.874495Z",
     "iopub.status.busy": "2022-05-21T00:39:01.873720Z",
     "iopub.status.idle": "2022-05-21T00:39:01.893570Z",
     "shell.execute_reply": "2022-05-21T00:39:01.893035Z"
    },
    "papermill": {
     "duration": 0.062503,
     "end_time": "2022-05-21T00:39:01.893698",
     "exception": false,
     "start_time": "2022-05-21T00:39:01.831195",
     "status": "completed"
    },
    "tags": []
   },
   "outputs": [
    {
     "data": {
      "text/html": [
       "<div>\n",
       "<style scoped>\n",
       "    .dataframe tbody tr th:only-of-type {\n",
       "        vertical-align: middle;\n",
       "    }\n",
       "\n",
       "    .dataframe tbody tr th {\n",
       "        vertical-align: top;\n",
       "    }\n",
       "\n",
       "    .dataframe thead th {\n",
       "        text-align: right;\n",
       "    }\n",
       "</style>\n",
       "<table border=\"1\" class=\"dataframe\">\n",
       "  <thead>\n",
       "    <tr style=\"text-align: right;\">\n",
       "      <th></th>\n",
       "      <th>Country/Region</th>\n",
       "      <th>Cases</th>\n",
       "      <th>Deaths</th>\n",
       "      <th>PCases</th>\n",
       "      <th>PDeaths</th>\n",
       "      <th>Cases (+)</th>\n",
       "      <th>Deaths (+)</th>\n",
       "      <th>Fatality Rate</th>\n",
       "      <th>Continent</th>\n",
       "    </tr>\n",
       "  </thead>\n",
       "  <tbody>\n",
       "    <tr>\n",
       "      <th>0</th>\n",
       "      <td>US</td>\n",
       "      <td>83060959</td>\n",
       "      <td>1001606</td>\n",
       "      <td>82951379</td>\n",
       "      <td>1001269</td>\n",
       "      <td>109580</td>\n",
       "      <td>337</td>\n",
       "      <td>1.21</td>\n",
       "      <td>North America</td>\n",
       "    </tr>\n",
       "    <tr>\n",
       "      <th>1</th>\n",
       "      <td>India</td>\n",
       "      <td>43131822</td>\n",
       "      <td>524323</td>\n",
       "      <td>43129563</td>\n",
       "      <td>524303</td>\n",
       "      <td>2259</td>\n",
       "      <td>20</td>\n",
       "      <td>1.22</td>\n",
       "      <td>Asia</td>\n",
       "    </tr>\n",
       "    <tr>\n",
       "      <th>2</th>\n",
       "      <td>Brazil</td>\n",
       "      <td>30701900</td>\n",
       "      <td>665216</td>\n",
       "      <td>30701900</td>\n",
       "      <td>665216</td>\n",
       "      <td>0</td>\n",
       "      <td>0</td>\n",
       "      <td>2.17</td>\n",
       "      <td>South America</td>\n",
       "    </tr>\n",
       "    <tr>\n",
       "      <th>3</th>\n",
       "      <td>France</td>\n",
       "      <td>29517146</td>\n",
       "      <td>148753</td>\n",
       "      <td>29489304</td>\n",
       "      <td>148686</td>\n",
       "      <td>27842</td>\n",
       "      <td>67</td>\n",
       "      <td>0.50</td>\n",
       "      <td>Europe</td>\n",
       "    </tr>\n",
       "    <tr>\n",
       "      <th>4</th>\n",
       "      <td>Germany</td>\n",
       "      <td>25998085</td>\n",
       "      <td>138204</td>\n",
       "      <td>25949175</td>\n",
       "      <td>138053</td>\n",
       "      <td>48910</td>\n",
       "      <td>151</td>\n",
       "      <td>0.53</td>\n",
       "      <td>Europe</td>\n",
       "    </tr>\n",
       "  </tbody>\n",
       "</table>\n",
       "</div>"
      ],
      "text/plain": [
       "  Country/Region     Cases   Deaths    PCases  PDeaths  Cases (+)  Deaths (+)  \\\n",
       "0             US  83060959  1001606  82951379  1001269     109580         337   \n",
       "1          India  43131822   524323  43129563   524303       2259          20   \n",
       "2         Brazil  30701900   665216  30701900   665216          0           0   \n",
       "3         France  29517146   148753  29489304   148686      27842          67   \n",
       "4        Germany  25998085   138204  25949175   138053      48910         151   \n",
       "\n",
       "   Fatality Rate      Continent  \n",
       "0           1.21  North America  \n",
       "1           1.22           Asia  \n",
       "2           2.17  South America  \n",
       "3           0.50         Europe  \n",
       "4           0.53         Europe  "
      ]
     },
     "execution_count": 13,
     "metadata": {},
     "output_type": "execute_result"
    }
   ],
   "source": [
    "#hide\n",
    "for c in 'Cases, Deaths'.split(', '):\n",
    "    df_table[f'{c} (+)'] = (df_table[c] - df_table[f'P{c}']).clip(0)\n",
    "    #Clip ça veut dire, les chiffres negatif sont interdit\n",
    "df_table['Fatality Rate'] = (100* df_table['Deaths']/ df_table['Cases']).round(2)\n",
    "df_table['Continent'] = df_table['Country/Region'].map(mapping['map.continent'])\n",
    "df_table.head(5)"
   ]
  },
  {
   "cell_type": "code",
   "execution_count": 14,
   "id": "aboriginal-bulgaria",
   "metadata": {
    "execution": {
     "iopub.execute_input": "2022-05-21T00:39:01.972130Z",
     "iopub.status.busy": "2022-05-21T00:39:01.971318Z",
     "iopub.status.idle": "2022-05-21T00:39:01.974842Z",
     "shell.execute_reply": "2022-05-21T00:39:01.974225Z"
    },
    "papermill": {
     "duration": 0.045625,
     "end_time": "2022-05-21T00:39:01.974983",
     "exception": false,
     "start_time": "2022-05-21T00:39:01.929358",
     "status": "completed"
    },
    "tags": []
   },
   "outputs": [],
   "source": [
    "#hide\n",
    "#delete problematic countries from table\n",
    "df_table = df_table[~df_table['Country/Region'].isin(['Cape Verde', 'Cruise Ship', 'Kosovo'])]"
   ]
  },
  {
   "cell_type": "code",
   "execution_count": 15,
   "id": "fantastic-effect",
   "metadata": {
    "execution": {
     "iopub.execute_input": "2022-05-21T00:39:02.057127Z",
     "iopub.status.busy": "2022-05-21T00:39:02.056388Z",
     "iopub.status.idle": "2022-05-21T00:39:02.078021Z",
     "shell.execute_reply": "2022-05-21T00:39:02.077270Z"
    },
    "papermill": {
     "duration": 0.06516,
     "end_time": "2022-05-21T00:39:02.078152",
     "exception": false,
     "start_time": "2022-05-21T00:39:02.012992",
     "status": "completed"
    },
    "tags": []
   },
   "outputs": [
    {
     "data": {
      "text/html": [
       "<div>\n",
       "<style scoped>\n",
       "    .dataframe tbody tr th:only-of-type {\n",
       "        vertical-align: middle;\n",
       "    }\n",
       "\n",
       "    .dataframe tbody tr th {\n",
       "        vertical-align: top;\n",
       "    }\n",
       "\n",
       "    .dataframe thead th {\n",
       "        text-align: right;\n",
       "    }\n",
       "</style>\n",
       "<table border=\"1\" class=\"dataframe\">\n",
       "  <thead>\n",
       "    <tr style=\"text-align: right;\">\n",
       "      <th></th>\n",
       "      <th>Country/Region</th>\n",
       "      <th>Cases</th>\n",
       "      <th>Deaths</th>\n",
       "      <th>PCases</th>\n",
       "      <th>PDeaths</th>\n",
       "      <th>Cases (+)</th>\n",
       "      <th>Deaths (+)</th>\n",
       "      <th>Fatality Rate</th>\n",
       "      <th>Continent</th>\n",
       "    </tr>\n",
       "  </thead>\n",
       "  <tbody>\n",
       "    <tr>\n",
       "      <th>0</th>\n",
       "      <td>US</td>\n",
       "      <td>83060959</td>\n",
       "      <td>1001606</td>\n",
       "      <td>82951379</td>\n",
       "      <td>1001269</td>\n",
       "      <td>109580</td>\n",
       "      <td>337</td>\n",
       "      <td>1.2</td>\n",
       "      <td>North America</td>\n",
       "    </tr>\n",
       "    <tr>\n",
       "      <th>1</th>\n",
       "      <td>India</td>\n",
       "      <td>43131822</td>\n",
       "      <td>524323</td>\n",
       "      <td>43129563</td>\n",
       "      <td>524303</td>\n",
       "      <td>2259</td>\n",
       "      <td>20</td>\n",
       "      <td>1.2</td>\n",
       "      <td>Asia</td>\n",
       "    </tr>\n",
       "    <tr>\n",
       "      <th>2</th>\n",
       "      <td>Brazil</td>\n",
       "      <td>30701900</td>\n",
       "      <td>665216</td>\n",
       "      <td>30701900</td>\n",
       "      <td>665216</td>\n",
       "      <td>0</td>\n",
       "      <td>0</td>\n",
       "      <td>2.2</td>\n",
       "      <td>South America</td>\n",
       "    </tr>\n",
       "    <tr>\n",
       "      <th>3</th>\n",
       "      <td>France</td>\n",
       "      <td>29517146</td>\n",
       "      <td>148753</td>\n",
       "      <td>29489304</td>\n",
       "      <td>148686</td>\n",
       "      <td>27842</td>\n",
       "      <td>67</td>\n",
       "      <td>0.5</td>\n",
       "      <td>Europe</td>\n",
       "    </tr>\n",
       "    <tr>\n",
       "      <th>4</th>\n",
       "      <td>Germany</td>\n",
       "      <td>25998085</td>\n",
       "      <td>138204</td>\n",
       "      <td>25949175</td>\n",
       "      <td>138053</td>\n",
       "      <td>48910</td>\n",
       "      <td>151</td>\n",
       "      <td>0.5</td>\n",
       "      <td>Europe</td>\n",
       "    </tr>\n",
       "  </tbody>\n",
       "</table>\n",
       "</div>"
      ],
      "text/plain": [
       "  Country/Region     Cases   Deaths    PCases  PDeaths  Cases (+)  Deaths (+)  \\\n",
       "0             US  83060959  1001606  82951379  1001269     109580         337   \n",
       "1          India  43131822   524323  43129563   524303       2259          20   \n",
       "2         Brazil  30701900   665216  30701900   665216          0           0   \n",
       "3         France  29517146   148753  29489304   148686      27842          67   \n",
       "4        Germany  25998085   138204  25949175   138053      48910         151   \n",
       "\n",
       "   Fatality Rate      Continent  \n",
       "0            1.2  North America  \n",
       "1            1.2           Asia  \n",
       "2            2.2  South America  \n",
       "3            0.5         Europe  \n",
       "4            0.5         Europe  "
      ]
     },
     "execution_count": 15,
     "metadata": {},
     "output_type": "execute_result"
    }
   ],
   "source": [
    "#hide\n",
    "df_table = (pd.DataFrame(dict(Cases=dfc_cases, Deaths=dfc_deaths, PCases=dfp_cases, PDeaths=dfp_deaths))\n",
    "             .sort_values(by=['Cases', 'Deaths'], ascending=[False, False])\n",
    "             .reset_index())\n",
    "df_table.rename(columns={'index': 'Country/Region'}, inplace=True)\n",
    "for c in 'Cases, Deaths'.split(', '):\n",
    "    df_table[f'{c} (+)'] = (df_table[c] - df_table[f'P{c}']).clip(0)  # DATA BUG\n",
    "df_table['Fatality Rate'] = (100 * df_table['Deaths'] / df_table['Cases']).round(1)\n",
    "df_table['Continent'] = df_table['Country/Region'].map(mapping['map.continent'])\n",
    "df_table.head(5)"
   ]
  },
  {
   "cell_type": "code",
   "execution_count": 16,
   "id": "fewer-occasion",
   "metadata": {
    "execution": {
     "iopub.execute_input": "2022-05-21T00:39:02.157070Z",
     "iopub.status.busy": "2022-05-21T00:39:02.156421Z",
     "iopub.status.idle": "2022-05-21T00:39:02.159644Z",
     "shell.execute_reply": "2022-05-21T00:39:02.159031Z"
    },
    "papermill": {
     "duration": 0.044471,
     "end_time": "2022-05-21T00:39:02.159786",
     "exception": false,
     "start_time": "2022-05-21T00:39:02.115315",
     "status": "completed"
    },
    "tags": []
   },
   "outputs": [],
   "source": [
    "#hide\n",
    "#delete problematic countries from table\n",
    "df_table = df_table[~df_table['Country/Region'].isin(['Cape Verde', 'Cruise Ship', 'Kosovo'])]"
   ]
  },
  {
   "cell_type": "code",
   "execution_count": 17,
   "id": "related-center",
   "metadata": {
    "execution": {
     "iopub.execute_input": "2022-05-21T00:39:02.253565Z",
     "iopub.status.busy": "2022-05-21T00:39:02.252913Z",
     "iopub.status.idle": "2022-05-21T00:39:02.255058Z",
     "shell.execute_reply": "2022-05-21T00:39:02.255570Z"
    },
    "papermill": {
     "duration": 0.058548,
     "end_time": "2022-05-21T00:39:02.255781",
     "exception": false,
     "start_time": "2022-05-21T00:39:02.197233",
     "status": "completed"
    },
    "tags": []
   },
   "outputs": [],
   "source": [
    "#hide\n",
    "metrics = [df_table.columns[index] for index in [1,2,5,6]]\n",
    "# s_china = df_table[df_table['Country/Region'].eq('China')][metrics].sum().add_prefix('China ')\n",
    "s_us = df_table[df_table['Country/Region'].eq('US')][metrics].sum().add_prefix('US ')\n",
    "s_eu = df_table[df_table['Continent'].eq('Europe')][metrics].sum().add_prefix('EU ')\n",
    "s_ind = df_table[df_table['Country/Region'].eq('India')][metrics].sum().add_prefix('India ')\n",
    "summary = {'updated': pd.to_datetime(dt_today), 'since': pd.to_datetime(dt_yday)}\n",
    "summary = {'updated': pd.to_datetime(dt_today), 'since': pd.to_datetime(dt_yday)}\n",
    "summary = {**summary, **df_table[metrics].sum(), **s_ind, **s_us, **s_eu}"
   ]
  },
  {
   "cell_type": "code",
   "execution_count": 18,
   "id": "engaging-syndrome",
   "metadata": {
    "execution": {
     "iopub.execute_input": "2022-05-21T00:39:02.341510Z",
     "iopub.status.busy": "2022-05-21T00:39:02.340768Z",
     "iopub.status.idle": "2022-05-21T00:39:02.369420Z",
     "shell.execute_reply": "2022-05-21T00:39:02.368737Z"
    },
    "papermill": {
     "duration": 0.077241,
     "end_time": "2022-05-21T00:39:02.369564",
     "exception": false,
     "start_time": "2022-05-21T00:39:02.292323",
     "status": "completed"
    },
    "tags": []
   },
   "outputs": [],
   "source": [
    "#hide\n",
    "dft_ct_new_cases = dft_cases.groupby(COL_REGION)[dt_cols].sum().diff(axis=1).fillna(0).astype(int)"
   ]
  },
  {
   "cell_type": "code",
   "execution_count": 19,
   "id": "neutral-assignment",
   "metadata": {
    "execution": {
     "iopub.execute_input": "2022-05-21T00:39:02.450704Z",
     "iopub.status.busy": "2022-05-21T00:39:02.450035Z",
     "iopub.status.idle": "2022-05-21T00:39:02.453342Z",
     "shell.execute_reply": "2022-05-21T00:39:02.452811Z"
    },
    "papermill": {
     "duration": 0.045749,
     "end_time": "2022-05-21T00:39:02.453456",
     "exception": false,
     "start_time": "2022-05-21T00:39:02.407707",
     "status": "completed"
    },
    "tags": []
   },
   "outputs": [],
   "source": [
    "#hide\n",
    "everydaycases = dft_ct_new_cases.cumsum(axis=1)"
   ]
  },
  {
   "cell_type": "code",
   "execution_count": 20,
   "id": "parliamentary-calgary",
   "metadata": {
    "execution": {
     "iopub.execute_input": "2022-05-21T00:39:02.535736Z",
     "iopub.status.busy": "2022-05-21T00:39:02.535026Z",
     "iopub.status.idle": "2022-05-21T00:39:03.221223Z",
     "shell.execute_reply": "2022-05-21T00:39:03.221794Z"
    },
    "papermill": {
     "duration": 0.729588,
     "end_time": "2022-05-21T00:39:03.221988",
     "exception": false,
     "start_time": "2022-05-21T00:39:02.492400",
     "status": "completed"
    },
    "tags": []
   },
   "outputs": [],
   "source": [
    "#hide\n",
    "import pandas as pd\n",
    "import matplotlib.pyplot as plt\n",
    "import matplotlib.ticker as ticker\n",
    "import matplotlib.animation as animation\n",
    "from IPython.display import HTML"
   ]
  },
  {
   "cell_type": "code",
   "execution_count": 21,
   "id": "lasting-extraction",
   "metadata": {
    "execution": {
     "iopub.execute_input": "2022-05-21T00:39:03.303680Z",
     "iopub.status.busy": "2022-05-21T00:39:03.302942Z",
     "iopub.status.idle": "2022-05-21T00:39:03.310593Z",
     "shell.execute_reply": "2022-05-21T00:39:03.311098Z"
    },
    "papermill": {
     "duration": 0.051738,
     "end_time": "2022-05-21T00:39:03.311242",
     "exception": false,
     "start_time": "2022-05-21T00:39:03.259504",
     "status": "completed"
    },
    "tags": []
   },
   "outputs": [],
   "source": [
    "#hide\n",
    "t = everydaycases.stack()"
   ]
  },
  {
   "cell_type": "code",
   "execution_count": 22,
   "id": "premier-sleeve",
   "metadata": {
    "execution": {
     "iopub.execute_input": "2022-05-21T00:39:03.388795Z",
     "iopub.status.busy": "2022-05-21T00:39:03.388080Z",
     "iopub.status.idle": "2022-05-21T00:39:03.400020Z",
     "shell.execute_reply": "2022-05-21T00:39:03.400676Z"
    },
    "papermill": {
     "duration": 0.053898,
     "end_time": "2022-05-21T00:39:03.400811",
     "exception": false,
     "start_time": "2022-05-21T00:39:03.346913",
     "status": "completed"
    },
    "tags": []
   },
   "outputs": [],
   "source": [
    "#hide\n",
    "g = t.reset_index(['Country/Region'])"
   ]
  },
  {
   "cell_type": "code",
   "execution_count": 23,
   "id": "distributed-pittsburgh",
   "metadata": {
    "execution": {
     "iopub.execute_input": "2022-05-21T00:39:03.478055Z",
     "iopub.status.busy": "2022-05-21T00:39:03.477342Z",
     "iopub.status.idle": "2022-05-21T00:39:03.480499Z",
     "shell.execute_reply": "2022-05-21T00:39:03.479854Z"
    },
    "papermill": {
     "duration": 0.044549,
     "end_time": "2022-05-21T00:39:03.480616",
     "exception": false,
     "start_time": "2022-05-21T00:39:03.436067",
     "status": "completed"
    },
    "tags": []
   },
   "outputs": [],
   "source": [
    "#hide\n",
    "g.index.name = 'date'"
   ]
  },
  {
   "cell_type": "code",
   "execution_count": 24,
   "id": "naked-donor",
   "metadata": {
    "execution": {
     "iopub.execute_input": "2022-05-21T00:39:03.558051Z",
     "iopub.status.busy": "2022-05-21T00:39:03.557240Z",
     "iopub.status.idle": "2022-05-21T00:39:03.560494Z",
     "shell.execute_reply": "2022-05-21T00:39:03.559809Z"
    },
    "papermill": {
     "duration": 0.042975,
     "end_time": "2022-05-21T00:39:03.560642",
     "exception": false,
     "start_time": "2022-05-21T00:39:03.517667",
     "status": "completed"
    },
    "tags": []
   },
   "outputs": [],
   "source": [
    "# #hide\n",
    "# g = g.reset_index(['date'])"
   ]
  },
  {
   "cell_type": "code",
   "execution_count": 25,
   "id": "incomplete-mustang",
   "metadata": {
    "execution": {
     "iopub.execute_input": "2022-05-21T00:39:03.640161Z",
     "iopub.status.busy": "2022-05-21T00:39:03.639358Z",
     "iopub.status.idle": "2022-05-21T00:39:03.643020Z",
     "shell.execute_reply": "2022-05-21T00:39:03.642335Z"
    },
    "papermill": {
     "duration": 0.043152,
     "end_time": "2022-05-21T00:39:03.643139",
     "exception": false,
     "start_time": "2022-05-21T00:39:03.599987",
     "status": "completed"
    },
    "tags": []
   },
   "outputs": [],
   "source": [
    "#hide\n",
    "# g.head()"
   ]
  },
  {
   "cell_type": "code",
   "execution_count": 26,
   "id": "specific-kruger",
   "metadata": {
    "execution": {
     "iopub.execute_input": "2022-05-21T00:39:03.722249Z",
     "iopub.status.busy": "2022-05-21T00:39:03.721290Z",
     "iopub.status.idle": "2022-05-21T00:39:03.724651Z",
     "shell.execute_reply": "2022-05-21T00:39:03.724105Z"
    },
    "papermill": {
     "duration": 0.045052,
     "end_time": "2022-05-21T00:39:03.724768",
     "exception": false,
     "start_time": "2022-05-21T00:39:03.679716",
     "status": "completed"
    },
    "tags": []
   },
   "outputs": [],
   "source": [
    "#hide\n",
    "# g.columns = ['date','country','cases']"
   ]
  },
  {
   "cell_type": "code",
   "execution_count": 27,
   "id": "tender-conversion",
   "metadata": {
    "execution": {
     "iopub.execute_input": "2022-05-21T00:39:03.812805Z",
     "iopub.status.busy": "2022-05-21T00:39:03.811836Z",
     "iopub.status.idle": "2022-05-21T00:39:03.816605Z",
     "shell.execute_reply": "2022-05-21T00:39:03.817366Z"
    },
    "papermill": {
     "duration": 0.048565,
     "end_time": "2022-05-21T00:39:03.817514",
     "exception": false,
     "start_time": "2022-05-21T00:39:03.768949",
     "status": "completed"
    },
    "tags": []
   },
   "outputs": [],
   "source": [
    "#hide\n",
    "# g['continent'] = g.country"
   ]
  },
  {
   "cell_type": "code",
   "execution_count": 28,
   "id": "substantial-wilderness",
   "metadata": {
    "execution": {
     "iopub.execute_input": "2022-05-21T00:39:03.897809Z",
     "iopub.status.busy": "2022-05-21T00:39:03.896845Z",
     "iopub.status.idle": "2022-05-21T00:39:03.899062Z",
     "shell.execute_reply": "2022-05-21T00:39:03.899754Z"
    },
    "papermill": {
     "duration": 0.04416,
     "end_time": "2022-05-21T00:39:03.899900",
     "exception": false,
     "start_time": "2022-05-21T00:39:03.855740",
     "status": "completed"
    },
    "tags": []
   },
   "outputs": [],
   "source": [
    "#hide\n",
    "# cols = list(g.columns.values)"
   ]
  },
  {
   "cell_type": "code",
   "execution_count": 29,
   "id": "solved-farming",
   "metadata": {
    "execution": {
     "iopub.execute_input": "2022-05-21T00:39:03.977032Z",
     "iopub.status.busy": "2022-05-21T00:39:03.976279Z",
     "iopub.status.idle": "2022-05-21T00:39:03.979522Z",
     "shell.execute_reply": "2022-05-21T00:39:03.978992Z"
    },
    "papermill": {
     "duration": 0.042668,
     "end_time": "2022-05-21T00:39:03.979635",
     "exception": false,
     "start_time": "2022-05-21T00:39:03.936967",
     "status": "completed"
    },
    "tags": []
   },
   "outputs": [],
   "source": [
    "#hide\n",
    "# cols.insert(0, cols.pop())"
   ]
  },
  {
   "cell_type": "code",
   "execution_count": 30,
   "id": "executed-adoption",
   "metadata": {
    "execution": {
     "iopub.execute_input": "2022-05-21T00:39:04.057174Z",
     "iopub.status.busy": "2022-05-21T00:39:04.056523Z",
     "iopub.status.idle": "2022-05-21T00:39:04.059821Z",
     "shell.execute_reply": "2022-05-21T00:39:04.059288Z"
    },
    "papermill": {
     "duration": 0.043169,
     "end_time": "2022-05-21T00:39:04.059943",
     "exception": false,
     "start_time": "2022-05-21T00:39:04.016774",
     "status": "completed"
    },
    "tags": []
   },
   "outputs": [],
   "source": [
    "#hide\n",
    "# g = g[cols]"
   ]
  },
  {
   "cell_type": "code",
   "execution_count": 31,
   "id": "subject-dublin",
   "metadata": {
    "execution": {
     "iopub.execute_input": "2022-05-21T00:39:04.134164Z",
     "iopub.status.busy": "2022-05-21T00:39:04.133407Z",
     "iopub.status.idle": "2022-05-21T00:39:04.136528Z",
     "shell.execute_reply": "2022-05-21T00:39:04.135906Z"
    },
    "papermill": {
     "duration": 0.041172,
     "end_time": "2022-05-21T00:39:04.136663",
     "exception": false,
     "start_time": "2022-05-21T00:39:04.095491",
     "status": "completed"
    },
    "tags": []
   },
   "outputs": [],
   "source": [
    "#hide\n",
    "# g['continent'] = g['continent'].map(mapping['map.continent'])"
   ]
  },
  {
   "cell_type": "code",
   "execution_count": 32,
   "id": "freelance-scout",
   "metadata": {
    "execution": {
     "iopub.execute_input": "2022-05-21T00:39:04.213998Z",
     "iopub.status.busy": "2022-05-21T00:39:04.213195Z",
     "iopub.status.idle": "2022-05-21T00:39:04.216206Z",
     "shell.execute_reply": "2022-05-21T00:39:04.215676Z"
    },
    "papermill": {
     "duration": 0.041971,
     "end_time": "2022-05-21T00:39:04.216317",
     "exception": false,
     "start_time": "2022-05-21T00:39:04.174346",
     "status": "completed"
    },
    "tags": []
   },
   "outputs": [],
   "source": [
    "#hide\n",
    "# g.head()"
   ]
  },
  {
   "cell_type": "code",
   "execution_count": 33,
   "id": "limited-engine",
   "metadata": {
    "execution": {
     "iopub.execute_input": "2022-05-21T00:39:04.292409Z",
     "iopub.status.busy": "2022-05-21T00:39:04.291750Z",
     "iopub.status.idle": "2022-05-21T00:39:04.296434Z",
     "shell.execute_reply": "2022-05-21T00:39:04.296961Z"
    },
    "papermill": {
     "duration": 0.044521,
     "end_time": "2022-05-21T00:39:04.297098",
     "exception": false,
     "start_time": "2022-05-21T00:39:04.252577",
     "status": "completed"
    },
    "tags": []
   },
   "outputs": [],
   "source": [
    "# hide\n",
    "# g['date'] = g['date'].astype('datetime64[ns]')"
   ]
  },
  {
   "cell_type": "code",
   "execution_count": 34,
   "id": "sophisticated-supervisor",
   "metadata": {
    "execution": {
     "iopub.execute_input": "2022-05-21T00:39:04.381247Z",
     "iopub.status.busy": "2022-05-21T00:39:04.380603Z",
     "iopub.status.idle": "2022-05-21T00:39:04.383330Z",
     "shell.execute_reply": "2022-05-21T00:39:04.382733Z"
    },
    "papermill": {
     "duration": 0.04585,
     "end_time": "2022-05-21T00:39:04.383449",
     "exception": false,
     "start_time": "2022-05-21T00:39:04.337599",
     "status": "completed"
    },
    "tags": []
   },
   "outputs": [],
   "source": [
    "#hide\n",
    "# g['date'] = g.date.dt.dayofyear"
   ]
  },
  {
   "cell_type": "code",
   "execution_count": 35,
   "id": "inside-dubai",
   "metadata": {
    "execution": {
     "iopub.execute_input": "2022-05-21T00:39:04.461444Z",
     "iopub.status.busy": "2022-05-21T00:39:04.460686Z",
     "iopub.status.idle": "2022-05-21T00:39:04.463982Z",
     "shell.execute_reply": "2022-05-21T00:39:04.463279Z"
    },
    "papermill": {
     "duration": 0.042602,
     "end_time": "2022-05-21T00:39:04.464121",
     "exception": false,
     "start_time": "2022-05-21T00:39:04.421519",
     "status": "completed"
    },
    "tags": []
   },
   "outputs": [],
   "source": [
    "#hide\n",
    "# g = g.rename(columns= {'continent':'group','country':'name','cases':'value'})"
   ]
  },
  {
   "cell_type": "code",
   "execution_count": 36,
   "id": "fleet-motorcycle",
   "metadata": {
    "execution": {
     "iopub.execute_input": "2022-05-21T00:39:04.541668Z",
     "iopub.status.busy": "2022-05-21T00:39:04.540999Z",
     "iopub.status.idle": "2022-05-21T00:39:04.543999Z",
     "shell.execute_reply": "2022-05-21T00:39:04.543457Z"
    },
    "papermill": {
     "duration": 0.042394,
     "end_time": "2022-05-21T00:39:04.544114",
     "exception": false,
     "start_time": "2022-05-21T00:39:04.501720",
     "status": "completed"
    },
    "tags": []
   },
   "outputs": [],
   "source": [
    "#hide\n",
    "# cols = ['name','group','day','value']"
   ]
  },
  {
   "cell_type": "code",
   "execution_count": 37,
   "id": "continued-sleeping",
   "metadata": {
    "execution": {
     "iopub.execute_input": "2022-05-21T00:39:04.621342Z",
     "iopub.status.busy": "2022-05-21T00:39:04.620681Z",
     "iopub.status.idle": "2022-05-21T00:39:04.623730Z",
     "shell.execute_reply": "2022-05-21T00:39:04.623164Z"
    },
    "papermill": {
     "duration": 0.043506,
     "end_time": "2022-05-21T00:39:04.623872",
     "exception": false,
     "start_time": "2022-05-21T00:39:04.580366",
     "status": "completed"
    },
    "tags": []
   },
   "outputs": [],
   "source": [
    "#hide\n",
    "# g.rename(columns= {'date':'day'},inplace = True)"
   ]
  },
  {
   "cell_type": "code",
   "execution_count": 38,
   "id": "major-fight",
   "metadata": {
    "execution": {
     "iopub.execute_input": "2022-05-21T00:39:04.699787Z",
     "iopub.status.busy": "2022-05-21T00:39:04.699131Z",
     "iopub.status.idle": "2022-05-21T00:39:04.702065Z",
     "shell.execute_reply": "2022-05-21T00:39:04.701466Z"
    },
    "papermill": {
     "duration": 0.041773,
     "end_time": "2022-05-21T00:39:04.702193",
     "exception": false,
     "start_time": "2022-05-21T00:39:04.660420",
     "status": "completed"
    },
    "tags": []
   },
   "outputs": [],
   "source": [
    "#hide\n",
    "# g = g[cols]"
   ]
  },
  {
   "cell_type": "code",
   "execution_count": 39,
   "id": "structured-mobile",
   "metadata": {
    "execution": {
     "iopub.execute_input": "2022-05-21T00:39:04.792041Z",
     "iopub.status.busy": "2022-05-21T00:39:04.791244Z",
     "iopub.status.idle": "2022-05-21T00:39:04.794569Z",
     "shell.execute_reply": "2022-05-21T00:39:04.793942Z"
    },
    "papermill": {
     "duration": 0.045111,
     "end_time": "2022-05-21T00:39:04.794698",
     "exception": false,
     "start_time": "2022-05-21T00:39:04.749587",
     "status": "completed"
    },
    "tags": []
   },
   "outputs": [],
   "source": [
    "# #hide\n",
    "# g = g[g.group.notna()]"
   ]
  },
  {
   "cell_type": "code",
   "execution_count": 40,
   "id": "determined-closing",
   "metadata": {
    "execution": {
     "iopub.execute_input": "2022-05-21T00:39:04.872740Z",
     "iopub.status.busy": "2022-05-21T00:39:04.871997Z",
     "iopub.status.idle": "2022-05-21T00:39:04.875269Z",
     "shell.execute_reply": "2022-05-21T00:39:04.875949Z"
    },
    "papermill": {
     "duration": 0.044447,
     "end_time": "2022-05-21T00:39:04.876078",
     "exception": false,
     "start_time": "2022-05-21T00:39:04.831631",
     "status": "completed"
    },
    "tags": []
   },
   "outputs": [],
   "source": [
    "# #hide\n",
    "# colors = dict(zip(\n",
    "#     [\"Oceania\", \"Europe\", \"Asia\", \"South America\", \"Middle East\", \"North America\", \"Africa\"],\n",
    "#     [\"#adb0ff\", \"#ffb3ff\", \"#90d595\", \"#e48381\", \"#aafbff\", \"#f7bb5f\", \"#eafb50\"]\n",
    "# ))\n",
    "# group_lk = g.set_index('name')['group'].to_dict()"
   ]
  },
  {
   "cell_type": "code",
   "execution_count": null,
   "id": "gross-drinking",
   "metadata": {
    "papermill": {
     "duration": 0.03672,
     "end_time": "2022-05-21T00:39:04.949842",
     "exception": false,
     "start_time": "2022-05-21T00:39:04.913122",
     "status": "completed"
    },
    "tags": []
   },
   "outputs": [],
   "source": []
  },
  {
   "cell_type": "code",
   "execution_count": 41,
   "id": "subject-macintosh",
   "metadata": {
    "execution": {
     "iopub.execute_input": "2022-05-21T00:39:05.029681Z",
     "iopub.status.busy": "2022-05-21T00:39:05.028895Z",
     "iopub.status.idle": "2022-05-21T00:39:05.033263Z",
     "shell.execute_reply": "2022-05-21T00:39:05.032681Z"
    },
    "papermill": {
     "duration": 0.045802,
     "end_time": "2022-05-21T00:39:05.033391",
     "exception": false,
     "start_time": "2022-05-21T00:39:04.987589",
     "status": "completed"
    },
    "tags": []
   },
   "outputs": [],
   "source": [
    "# #hide\n",
    "# fig, ax = plt.subplots(figsize=(15, 8))\n",
    "\n",
    "# def draw_barchart(current_day):\n",
    "#     dff = g[g['day'].eq(current_day)].sort_values(by='value', ascending=True).tail(10)\n",
    "#     ax.clear()\n",
    "#     ax.barh(dff['name'], dff['value'], color=[colors[group_lk[x]] for x in dff['name']])\n",
    "#     dx = dff['value'].max() / 200\n",
    "    \n",
    "#     for i, (value, name) in enumerate(zip(dff['value'], dff['name'])):\n",
    "#         ax.text(value-dx, i,     name,           size=14, weight=600, ha='right', va='bottom')\n",
    "#         ax.text(value-dx, i-.25, group_lk[name], size=10, color='#444444', ha='right', va='baseline')\n",
    "#         ax.text(value+dx, i,     f'{value:,.0f}',  size=14, ha='left',  va='center')\n",
    "#     ax.text(1, 0.4, current_day, transform=ax.transAxes, color='#777777', size=46, ha='right', weight=800)\n",
    "#     ax.text(0, 1.06, 'Population (thousands)', transform=ax.transAxes, size=12, color='#777777')\n",
    "#     ax.xaxis.set_major_formatter(ticker.StrMethodFormatter('{x:,.0f}'))\n",
    "#     ax.xaxis.set_ticks_position('top')\n",
    "#     ax.tick_params(axis='x', colors='#777777', labelsize=12)\n",
    "#     ax.set_yticks([])\n",
    "#     ax.margins(0, 0.01)\n",
    "#     ax.grid(which='major', axis='x', linestyle='-')\n",
    "#     ax.set_axisbelow(True)\n",
    "    \n",
    "#     ax.text(0, 1.15, 'Coronavirus',\n",
    "#             transform=ax.transAxes, size=24, weight=600, ha='left', va='top')\n",
    "# #     ax.text(1, 0, 'by @pratapvardhan; credit @jburnmurdoch', transform=ax.transAxes, color='#777777', ha='right',\n",
    "# #             bbox=dict(facecolor='white', alpha=0.8, edgecolor='white'))\n",
    "#     plt.box(False)"
   ]
  },
  {
   "cell_type": "code",
   "execution_count": 42,
   "id": "sexual-wages",
   "metadata": {
    "execution": {
     "iopub.execute_input": "2022-05-21T00:39:05.110141Z",
     "iopub.status.busy": "2022-05-21T00:39:05.109390Z",
     "iopub.status.idle": "2022-05-21T00:39:05.112608Z",
     "shell.execute_reply": "2022-05-21T00:39:05.112061Z"
    },
    "papermill": {
     "duration": 0.04306,
     "end_time": "2022-05-21T00:39:05.112723",
     "exception": false,
     "start_time": "2022-05-21T00:39:05.069663",
     "status": "completed"
    },
    "tags": []
   },
   "outputs": [],
   "source": [
    "# #hide_input\n",
    "# fig, ax = plt.subplots(figsize=(15, 8))\n",
    "# animator = animation.FuncAnimation(fig, draw_barchart, frames=range(g.day.values.min(), g.day.values.max()))\n",
    "# HTML(animator.to_jshtml())\n",
    "# # or use animator.to_html5_video() or animator.save() "
   ]
  },
  {
   "cell_type": "code",
   "execution_count": null,
   "id": "australian-container",
   "metadata": {
    "papermill": {
     "duration": 0.037341,
     "end_time": "2022-05-21T00:39:05.186945",
     "exception": false,
     "start_time": "2022-05-21T00:39:05.149604",
     "status": "completed"
    },
    "tags": []
   },
   "outputs": [],
   "source": []
  },
  {
   "cell_type": "code",
   "execution_count": null,
   "id": "mediterranean-pontiac",
   "metadata": {
    "papermill": {
     "duration": 0.036222,
     "end_time": "2022-05-21T00:39:05.259113",
     "exception": false,
     "start_time": "2022-05-21T00:39:05.222891",
     "status": "completed"
    },
    "tags": []
   },
   "outputs": [],
   "source": []
  },
  {
   "cell_type": "code",
   "execution_count": null,
   "id": "aging-legislature",
   "metadata": {
    "papermill": {
     "duration": 0.03571,
     "end_time": "2022-05-21T00:39:05.331250",
     "exception": false,
     "start_time": "2022-05-21T00:39:05.295540",
     "status": "completed"
    },
    "tags": []
   },
   "outputs": [],
   "source": []
  }
 ],
 "metadata": {
  "kernelspec": {
   "display_name": "Python 3",
   "language": "python",
   "name": "python3"
  },
  "language_info": {
   "codemirror_mode": {
    "name": "ipython",
    "version": 3
   },
   "file_extension": ".py",
   "mimetype": "text/x-python",
   "name": "python",
   "nbconvert_exporter": "python",
   "pygments_lexer": "ipython3",
   "version": "3.6.15"
  },
  "papermill": {
   "duration": 7.05067,
   "end_time": "2022-05-21T00:39:05.686762",
   "environment_variables": {},
   "exception": null,
   "input_path": "2020-03-21-covid19exp.ipynb",
   "output_path": "2020-03-21-covid19exp.ipynb",
   "parameters": {},
   "start_time": "2022-05-21T00:38:58.636092",
   "version": "2.0.0"
  }
 },
 "nbformat": 4,
 "nbformat_minor": 5
}