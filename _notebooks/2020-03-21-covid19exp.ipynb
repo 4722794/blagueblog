{
 "cells": [
  {
   "cell_type": "markdown",
   "id": "muslim-click",
   "metadata": {
    "papermill": {
     "duration": 0.034221,
     "end_time": "2022-07-06T00:48:22.358176",
     "exception": false,
     "start_time": "2022-07-06T00:48:22.323955",
     "status": "completed"
    },
    "tags": []
   },
   "source": [
    "# COVID-19 Case Race\n",
    "> A race chart to see rising cases around the world\n",
    "\n",
    "- author: Hargun Oberoi\n",
    "- image: images/covid-overview.png\n",
    "- hide: false\n",
    "- badges: false"
   ]
  },
  {
   "cell_type": "code",
   "execution_count": 1,
   "id": "proof-material",
   "metadata": {
    "execution": {
     "iopub.execute_input": "2022-07-06T00:48:22.431148Z",
     "iopub.status.busy": "2022-07-06T00:48:22.430524Z",
     "iopub.status.idle": "2022-07-06T00:48:22.769477Z",
     "shell.execute_reply": "2022-07-06T00:48:22.768929Z"
    },
    "papermill": {
     "duration": 0.379538,
     "end_time": "2022-07-06T00:48:22.769622",
     "exception": false,
     "start_time": "2022-07-06T00:48:22.390084",
     "status": "completed"
    },
    "tags": []
   },
   "outputs": [],
   "source": [
    "#hide\n",
    "import numpy as np\n",
    "import pandas as pd\n",
    "from jinja2 import Template\n",
    "from IPython.display import HTML"
   ]
  },
  {
   "cell_type": "code",
   "execution_count": 2,
   "id": "developed-terminology",
   "metadata": {
    "execution": {
     "iopub.execute_input": "2022-07-06T00:48:22.835292Z",
     "iopub.status.busy": "2022-07-06T00:48:22.834661Z",
     "iopub.status.idle": "2022-07-06T00:48:22.836993Z",
     "shell.execute_reply": "2022-07-06T00:48:22.837549Z"
    },
    "papermill": {
     "duration": 0.038049,
     "end_time": "2022-07-06T00:48:22.837692",
     "exception": false,
     "start_time": "2022-07-06T00:48:22.799643",
     "status": "completed"
    },
    "tags": []
   },
   "outputs": [],
   "source": [
    "#hide\n",
    "\n",
    "# FETCH\n",
    "base_url = 'https://raw.githubusercontent.com/pratapvardhan/notebooks/master/covid19/'\n",
    "paths = {\n",
    "    'mapping': base_url + 'mapping_countries.csv',\n",
    "    'overview': base_url + 'overview.tpl'\n",
    "}"
   ]
  },
  {
   "cell_type": "code",
   "execution_count": 3,
   "id": "dynamic-saver",
   "metadata": {
    "execution": {
     "iopub.execute_input": "2022-07-06T00:48:22.907246Z",
     "iopub.status.busy": "2022-07-06T00:48:22.906627Z",
     "iopub.status.idle": "2022-07-06T00:48:22.909726Z",
     "shell.execute_reply": "2022-07-06T00:48:22.910302Z"
    },
    "papermill": {
     "duration": 0.043063,
     "end_time": "2022-07-06T00:48:22.910449",
     "exception": false,
     "start_time": "2022-07-06T00:48:22.867386",
     "status": "completed"
    },
    "tags": []
   },
   "outputs": [
    {
     "data": {
      "text/plain": [
       "'https://raw.githubusercontent.com/pratapvardhan/notebooks/master/covid19/mapping_countries.csv'"
      ]
     },
     "execution_count": 3,
     "metadata": {},
     "output_type": "execute_result"
    }
   ],
   "source": [
    "#hide\n",
    "paths['mapping']"
   ]
  },
  {
   "cell_type": "code",
   "execution_count": 4,
   "id": "urban-software",
   "metadata": {
    "execution": {
     "iopub.execute_input": "2022-07-06T00:48:22.976549Z",
     "iopub.status.busy": "2022-07-06T00:48:22.975858Z",
     "iopub.status.idle": "2022-07-06T00:48:22.978444Z",
     "shell.execute_reply": "2022-07-06T00:48:22.977872Z"
    },
    "papermill": {
     "duration": 0.037911,
     "end_time": "2022-07-06T00:48:22.978571",
     "exception": false,
     "start_time": "2022-07-06T00:48:22.940660",
     "status": "completed"
    },
    "tags": []
   },
   "outputs": [],
   "source": [
    "#hide\n",
    "def get_mappings(url):\n",
    "    df = pd.read_csv(url)\n",
    "    return {\n",
    "        'df': df,\n",
    "        'replace.country': dict(df.dropna(subset=['Name']).set_index('Country')['Name']),\n",
    "        'map.continent': dict(df.set_index('Name')['Continent'])\n",
    "    }"
   ]
  },
  {
   "cell_type": "code",
   "execution_count": 5,
   "id": "intimate-machinery",
   "metadata": {
    "execution": {
     "iopub.execute_input": "2022-07-06T00:48:23.044506Z",
     "iopub.status.busy": "2022-07-06T00:48:23.043920Z",
     "iopub.status.idle": "2022-07-06T00:48:23.112506Z",
     "shell.execute_reply": "2022-07-06T00:48:23.111900Z"
    },
    "papermill": {
     "duration": 0.103928,
     "end_time": "2022-07-06T00:48:23.112645",
     "exception": false,
     "start_time": "2022-07-06T00:48:23.008717",
     "status": "completed"
    },
    "tags": []
   },
   "outputs": [],
   "source": [
    "#hide\n",
    "mapping = get_mappings(paths['mapping'])"
   ]
  },
  {
   "cell_type": "code",
   "execution_count": 6,
   "id": "certified-tactics",
   "metadata": {
    "execution": {
     "iopub.execute_input": "2022-07-06T00:48:23.179133Z",
     "iopub.status.busy": "2022-07-06T00:48:23.178493Z",
     "iopub.status.idle": "2022-07-06T00:48:23.180859Z",
     "shell.execute_reply": "2022-07-06T00:48:23.180384Z"
    },
    "papermill": {
     "duration": 0.037696,
     "end_time": "2022-07-06T00:48:23.180975",
     "exception": false,
     "start_time": "2022-07-06T00:48:23.143279",
     "status": "completed"
    },
    "tags": []
   },
   "outputs": [],
   "source": [
    "#hide\n",
    "def get_template(path):\n",
    "    from urllib.parse import urlparse\n",
    "    if bool(urlparse(path).netloc):\n",
    "        from urllib.request import urlopen\n",
    "        return urlopen(path).read().decode('utf8')\n",
    "    return open(path).read()"
   ]
  },
  {
   "cell_type": "code",
   "execution_count": 7,
   "id": "realistic-blast",
   "metadata": {
    "execution": {
     "iopub.execute_input": "2022-07-06T00:48:23.246074Z",
     "iopub.status.busy": "2022-07-06T00:48:23.245479Z",
     "iopub.status.idle": "2022-07-06T00:48:23.247772Z",
     "shell.execute_reply": "2022-07-06T00:48:23.248201Z"
    },
    "papermill": {
     "duration": 0.037544,
     "end_time": "2022-07-06T00:48:23.248336",
     "exception": false,
     "start_time": "2022-07-06T00:48:23.210792",
     "status": "completed"
    },
    "tags": []
   },
   "outputs": [],
   "source": [
    "#hide\n",
    "def get_frame(name):\n",
    "    url = (\n",
    "        'https://raw.githubusercontent.com/CSSEGISandData/COVID-19/master/csse_covid_19_data/'\n",
    "        f'csse_covid_19_time_series/time_series_covid19_{name}_global.csv')\n",
    "    df = pd.read_csv(url)\n",
    "    # rename countries\n",
    "    df['Country/Region'] = df['Country/Region'].replace(mapping['replace.country'])\n",
    "    return df"
   ]
  },
  {
   "cell_type": "code",
   "execution_count": 8,
   "id": "affiliated-characterization",
   "metadata": {
    "execution": {
     "iopub.execute_input": "2022-07-06T00:48:23.315815Z",
     "iopub.status.busy": "2022-07-06T00:48:23.315096Z",
     "iopub.status.idle": "2022-07-06T00:48:23.316767Z",
     "shell.execute_reply": "2022-07-06T00:48:23.317304Z"
    },
    "papermill": {
     "duration": 0.039098,
     "end_time": "2022-07-06T00:48:23.317454",
     "exception": false,
     "start_time": "2022-07-06T00:48:23.278356",
     "status": "completed"
    },
    "tags": []
   },
   "outputs": [],
   "source": [
    "#hide\n",
    "def get_dates(df):\n",
    "    dt_cols = df.columns[~df.columns.isin(['Province/State', 'Country/Region', 'Lat', 'Long'])]\n",
    "    LAST_DATE_I = -1\n",
    "    # sometimes last column may be empty, then go backwards\n",
    "    for i in range(-1, -len(dt_cols), -1):\n",
    "        if not df[dt_cols[i]].fillna(0).eq(0).all():\n",
    "            LAST_DATE_I = i\n",
    "            break\n",
    "    return LAST_DATE_I, dt_cols"
   ]
  },
  {
   "cell_type": "code",
   "execution_count": 9,
   "id": "recent-optimization",
   "metadata": {
    "execution": {
     "iopub.execute_input": "2022-07-06T00:48:23.382861Z",
     "iopub.status.busy": "2022-07-06T00:48:23.382243Z",
     "iopub.status.idle": "2022-07-06T00:48:23.926510Z",
     "shell.execute_reply": "2022-07-06T00:48:23.925841Z"
    },
    "papermill": {
     "duration": 0.579175,
     "end_time": "2022-07-06T00:48:23.926659",
     "exception": false,
     "start_time": "2022-07-06T00:48:23.347484",
     "status": "completed"
    },
    "tags": []
   },
   "outputs": [],
   "source": [
    "#hide\n",
    "COL_REGION = 'Country/Region'\n",
    "# Confirmed, Recovered, Deaths\n",
    "df = get_frame('confirmed')\n",
    "# dft_: timeseries, dfc_: today country agg\n",
    "dft_cases = df\n",
    "dft_deaths = get_frame('deaths')\n",
    "dft_recovered = get_frame('recovered')\n",
    "LAST_DATE_I, dt_cols = get_dates(df)"
   ]
  },
  {
   "cell_type": "code",
   "execution_count": 10,
   "id": "absolute-copper",
   "metadata": {
    "execution": {
     "iopub.execute_input": "2022-07-06T00:48:23.994144Z",
     "iopub.status.busy": "2022-07-06T00:48:23.993498Z",
     "iopub.status.idle": "2022-07-06T00:48:23.996007Z",
     "shell.execute_reply": "2022-07-06T00:48:23.995521Z"
    },
    "papermill": {
     "duration": 0.038577,
     "end_time": "2022-07-06T00:48:23.996123",
     "exception": false,
     "start_time": "2022-07-06T00:48:23.957546",
     "status": "completed"
    },
    "tags": []
   },
   "outputs": [],
   "source": [
    "#hide\n",
    "LAST_DATE_I, dt_cols = get_dates(df)\n",
    "dt_today =dt_cols[LAST_DATE_I]\n",
    "# dt_5day = dt_cols[LAST_DATE_I - 5]\n",
    "dt_yday = dt_cols[LAST_DATE_I - 1]"
   ]
  },
  {
   "cell_type": "code",
   "execution_count": 11,
   "id": "restricted-sheriff",
   "metadata": {
    "execution": {
     "iopub.execute_input": "2022-07-06T00:48:24.064172Z",
     "iopub.status.busy": "2022-07-06T00:48:24.063544Z",
     "iopub.status.idle": "2022-07-06T00:48:24.070521Z",
     "shell.execute_reply": "2022-07-06T00:48:24.070000Z"
    },
    "papermill": {
     "duration": 0.04464,
     "end_time": "2022-07-06T00:48:24.070659",
     "exception": false,
     "start_time": "2022-07-06T00:48:24.026019",
     "status": "completed"
    },
    "tags": []
   },
   "outputs": [],
   "source": [
    "#hide\n",
    "dfc_cases = dft_cases.groupby(COL_REGION)[dt_today].sum()\n",
    "dfc_deaths = dft_deaths.groupby(COL_REGION)[dt_today].sum()\n",
    "# dfp_cases = dft_cases.groupby(COL_REGION)[dt_5day].sum()\n",
    "# dfp_deaths = dft_deaths.groupby(COL_REGION)[dt_5day].sum()\n",
    "dfp_cases = dft_cases.groupby(COL_REGION)[dt_yday].sum()\n",
    "dfp_deaths = dft_deaths.groupby(COL_REGION)[dt_yday].sum()"
   ]
  },
  {
   "cell_type": "code",
   "execution_count": 12,
   "id": "deluxe-hepatitis",
   "metadata": {
    "execution": {
     "iopub.execute_input": "2022-07-06T00:48:24.138263Z",
     "iopub.status.busy": "2022-07-06T00:48:24.137632Z",
     "iopub.status.idle": "2022-07-06T00:48:24.142105Z",
     "shell.execute_reply": "2022-07-06T00:48:24.142625Z"
    },
    "papermill": {
     "duration": 0.041998,
     "end_time": "2022-07-06T00:48:24.142770",
     "exception": false,
     "start_time": "2022-07-06T00:48:24.100772",
     "status": "completed"
    },
    "tags": []
   },
   "outputs": [],
   "source": [
    "#hide\n",
    "df_table = (pd.DataFrame(dict(Cases = dfc_cases, Deaths = dfc_deaths, PCases = dfp_cases, PDeaths = dfp_deaths))\n",
    "            .sort_values(by = ['Cases','Deaths'], ascending = [False, False])\n",
    "            .reset_index())"
   ]
  },
  {
   "cell_type": "code",
   "execution_count": 13,
   "id": "educational-chancellor",
   "metadata": {
    "execution": {
     "iopub.execute_input": "2022-07-06T00:48:24.220733Z",
     "iopub.status.busy": "2022-07-06T00:48:24.220121Z",
     "iopub.status.idle": "2022-07-06T00:48:24.227788Z",
     "shell.execute_reply": "2022-07-06T00:48:24.228266Z"
    },
    "papermill": {
     "duration": 0.055789,
     "end_time": "2022-07-06T00:48:24.228406",
     "exception": false,
     "start_time": "2022-07-06T00:48:24.172617",
     "status": "completed"
    },
    "tags": []
   },
   "outputs": [
    {
     "data": {
      "text/html": [
       "<div>\n",
       "<style scoped>\n",
       "    .dataframe tbody tr th:only-of-type {\n",
       "        vertical-align: middle;\n",
       "    }\n",
       "\n",
       "    .dataframe tbody tr th {\n",
       "        vertical-align: top;\n",
       "    }\n",
       "\n",
       "    .dataframe thead th {\n",
       "        text-align: right;\n",
       "    }\n",
       "</style>\n",
       "<table border=\"1\" class=\"dataframe\">\n",
       "  <thead>\n",
       "    <tr style=\"text-align: right;\">\n",
       "      <th></th>\n",
       "      <th>Country/Region</th>\n",
       "      <th>Cases</th>\n",
       "      <th>Deaths</th>\n",
       "      <th>PCases</th>\n",
       "      <th>PDeaths</th>\n",
       "      <th>Cases (+)</th>\n",
       "      <th>Deaths (+)</th>\n",
       "      <th>Fatality Rate</th>\n",
       "      <th>Continent</th>\n",
       "    </tr>\n",
       "  </thead>\n",
       "  <tbody>\n",
       "    <tr>\n",
       "      <th>0</th>\n",
       "      <td>US</td>\n",
       "      <td>87886589</td>\n",
       "      <td>1017915</td>\n",
       "      <td>87843561</td>\n",
       "      <td>1017848</td>\n",
       "      <td>43028</td>\n",
       "      <td>67</td>\n",
       "      <td>1.16</td>\n",
       "      <td>North America</td>\n",
       "    </tr>\n",
       "    <tr>\n",
       "      <th>1</th>\n",
       "      <td>India</td>\n",
       "      <td>43531650</td>\n",
       "      <td>525242</td>\n",
       "      <td>43518564</td>\n",
       "      <td>525223</td>\n",
       "      <td>13086</td>\n",
       "      <td>19</td>\n",
       "      <td>1.21</td>\n",
       "      <td>Asia</td>\n",
       "    </tr>\n",
       "    <tr>\n",
       "      <th>2</th>\n",
       "      <td>Brazil</td>\n",
       "      <td>32535923</td>\n",
       "      <td>672033</td>\n",
       "      <td>32490422</td>\n",
       "      <td>671911</td>\n",
       "      <td>45501</td>\n",
       "      <td>122</td>\n",
       "      <td>2.07</td>\n",
       "      <td>South America</td>\n",
       "    </tr>\n",
       "    <tr>\n",
       "      <th>3</th>\n",
       "      <td>France</td>\n",
       "      <td>31653749</td>\n",
       "      <td>150765</td>\n",
       "      <td>31410383</td>\n",
       "      <td>150624</td>\n",
       "      <td>243366</td>\n",
       "      <td>141</td>\n",
       "      <td>0.48</td>\n",
       "      <td>Europe</td>\n",
       "    </tr>\n",
       "    <tr>\n",
       "      <th>4</th>\n",
       "      <td>Germany</td>\n",
       "      <td>28542484</td>\n",
       "      <td>141397</td>\n",
       "      <td>28394995</td>\n",
       "      <td>141295</td>\n",
       "      <td>147489</td>\n",
       "      <td>102</td>\n",
       "      <td>0.50</td>\n",
       "      <td>Europe</td>\n",
       "    </tr>\n",
       "  </tbody>\n",
       "</table>\n",
       "</div>"
      ],
      "text/plain": [
       "  Country/Region     Cases   Deaths    PCases  PDeaths  Cases (+)  Deaths (+)  \\\n",
       "0             US  87886589  1017915  87843561  1017848      43028          67   \n",
       "1          India  43531650   525242  43518564   525223      13086          19   \n",
       "2         Brazil  32535923   672033  32490422   671911      45501         122   \n",
       "3         France  31653749   150765  31410383   150624     243366         141   \n",
       "4        Germany  28542484   141397  28394995   141295     147489         102   \n",
       "\n",
       "   Fatality Rate      Continent  \n",
       "0           1.16  North America  \n",
       "1           1.21           Asia  \n",
       "2           2.07  South America  \n",
       "3           0.48         Europe  \n",
       "4           0.50         Europe  "
      ]
     },
     "execution_count": 13,
     "metadata": {},
     "output_type": "execute_result"
    }
   ],
   "source": [
    "#hide\n",
    "for c in 'Cases, Deaths'.split(', '):\n",
    "    df_table[f'{c} (+)'] = (df_table[c] - df_table[f'P{c}']).clip(0)\n",
    "    #Clip ça veut dire, les chiffres negatif sont interdit\n",
    "df_table['Fatality Rate'] = (100* df_table['Deaths']/ df_table['Cases']).round(2)\n",
    "df_table['Continent'] = df_table['Country/Region'].map(mapping['map.continent'])\n",
    "df_table.head(5)"
   ]
  },
  {
   "cell_type": "code",
   "execution_count": 14,
   "id": "aboriginal-bulgaria",
   "metadata": {
    "execution": {
     "iopub.execute_input": "2022-07-06T00:48:24.295733Z",
     "iopub.status.busy": "2022-07-06T00:48:24.295018Z",
     "iopub.status.idle": "2022-07-06T00:48:24.298320Z",
     "shell.execute_reply": "2022-07-06T00:48:24.297726Z"
    },
    "papermill": {
     "duration": 0.039536,
     "end_time": "2022-07-06T00:48:24.298440",
     "exception": false,
     "start_time": "2022-07-06T00:48:24.258904",
     "status": "completed"
    },
    "tags": []
   },
   "outputs": [],
   "source": [
    "#hide\n",
    "#delete problematic countries from table\n",
    "df_table = df_table[~df_table['Country/Region'].isin(['Cape Verde', 'Cruise Ship', 'Kosovo'])]"
   ]
  },
  {
   "cell_type": "code",
   "execution_count": 15,
   "id": "fantastic-effect",
   "metadata": {
    "execution": {
     "iopub.execute_input": "2022-07-06T00:48:24.367731Z",
     "iopub.status.busy": "2022-07-06T00:48:24.367122Z",
     "iopub.status.idle": "2022-07-06T00:48:24.386451Z",
     "shell.execute_reply": "2022-07-06T00:48:24.385867Z"
    },
    "papermill": {
     "duration": 0.057733,
     "end_time": "2022-07-06T00:48:24.386588",
     "exception": false,
     "start_time": "2022-07-06T00:48:24.328855",
     "status": "completed"
    },
    "tags": []
   },
   "outputs": [
    {
     "data": {
      "text/html": [
       "<div>\n",
       "<style scoped>\n",
       "    .dataframe tbody tr th:only-of-type {\n",
       "        vertical-align: middle;\n",
       "    }\n",
       "\n",
       "    .dataframe tbody tr th {\n",
       "        vertical-align: top;\n",
       "    }\n",
       "\n",
       "    .dataframe thead th {\n",
       "        text-align: right;\n",
       "    }\n",
       "</style>\n",
       "<table border=\"1\" class=\"dataframe\">\n",
       "  <thead>\n",
       "    <tr style=\"text-align: right;\">\n",
       "      <th></th>\n",
       "      <th>Country/Region</th>\n",
       "      <th>Cases</th>\n",
       "      <th>Deaths</th>\n",
       "      <th>PCases</th>\n",
       "      <th>PDeaths</th>\n",
       "      <th>Cases (+)</th>\n",
       "      <th>Deaths (+)</th>\n",
       "      <th>Fatality Rate</th>\n",
       "      <th>Continent</th>\n",
       "    </tr>\n",
       "  </thead>\n",
       "  <tbody>\n",
       "    <tr>\n",
       "      <th>0</th>\n",
       "      <td>US</td>\n",
       "      <td>87886589</td>\n",
       "      <td>1017915</td>\n",
       "      <td>87843561</td>\n",
       "      <td>1017848</td>\n",
       "      <td>43028</td>\n",
       "      <td>67</td>\n",
       "      <td>1.2</td>\n",
       "      <td>North America</td>\n",
       "    </tr>\n",
       "    <tr>\n",
       "      <th>1</th>\n",
       "      <td>India</td>\n",
       "      <td>43531650</td>\n",
       "      <td>525242</td>\n",
       "      <td>43518564</td>\n",
       "      <td>525223</td>\n",
       "      <td>13086</td>\n",
       "      <td>19</td>\n",
       "      <td>1.2</td>\n",
       "      <td>Asia</td>\n",
       "    </tr>\n",
       "    <tr>\n",
       "      <th>2</th>\n",
       "      <td>Brazil</td>\n",
       "      <td>32535923</td>\n",
       "      <td>672033</td>\n",
       "      <td>32490422</td>\n",
       "      <td>671911</td>\n",
       "      <td>45501</td>\n",
       "      <td>122</td>\n",
       "      <td>2.1</td>\n",
       "      <td>South America</td>\n",
       "    </tr>\n",
       "    <tr>\n",
       "      <th>3</th>\n",
       "      <td>France</td>\n",
       "      <td>31653749</td>\n",
       "      <td>150765</td>\n",
       "      <td>31410383</td>\n",
       "      <td>150624</td>\n",
       "      <td>243366</td>\n",
       "      <td>141</td>\n",
       "      <td>0.5</td>\n",
       "      <td>Europe</td>\n",
       "    </tr>\n",
       "    <tr>\n",
       "      <th>4</th>\n",
       "      <td>Germany</td>\n",
       "      <td>28542484</td>\n",
       "      <td>141397</td>\n",
       "      <td>28394995</td>\n",
       "      <td>141295</td>\n",
       "      <td>147489</td>\n",
       "      <td>102</td>\n",
       "      <td>0.5</td>\n",
       "      <td>Europe</td>\n",
       "    </tr>\n",
       "  </tbody>\n",
       "</table>\n",
       "</div>"
      ],
      "text/plain": [
       "  Country/Region     Cases   Deaths    PCases  PDeaths  Cases (+)  Deaths (+)  \\\n",
       "0             US  87886589  1017915  87843561  1017848      43028          67   \n",
       "1          India  43531650   525242  43518564   525223      13086          19   \n",
       "2         Brazil  32535923   672033  32490422   671911      45501         122   \n",
       "3         France  31653749   150765  31410383   150624     243366         141   \n",
       "4        Germany  28542484   141397  28394995   141295     147489         102   \n",
       "\n",
       "   Fatality Rate      Continent  \n",
       "0            1.2  North America  \n",
       "1            1.2           Asia  \n",
       "2            2.1  South America  \n",
       "3            0.5         Europe  \n",
       "4            0.5         Europe  "
      ]
     },
     "execution_count": 15,
     "metadata": {},
     "output_type": "execute_result"
    }
   ],
   "source": [
    "#hide\n",
    "df_table = (pd.DataFrame(dict(Cases=dfc_cases, Deaths=dfc_deaths, PCases=dfp_cases, PDeaths=dfp_deaths))\n",
    "             .sort_values(by=['Cases', 'Deaths'], ascending=[False, False])\n",
    "             .reset_index())\n",
    "df_table.rename(columns={'index': 'Country/Region'}, inplace=True)\n",
    "for c in 'Cases, Deaths'.split(', '):\n",
    "    df_table[f'{c} (+)'] = (df_table[c] - df_table[f'P{c}']).clip(0)  # DATA BUG\n",
    "df_table['Fatality Rate'] = (100 * df_table['Deaths'] / df_table['Cases']).round(1)\n",
    "df_table['Continent'] = df_table['Country/Region'].map(mapping['map.continent'])\n",
    "df_table.head(5)"
   ]
  },
  {
   "cell_type": "code",
   "execution_count": 16,
   "id": "fewer-occasion",
   "metadata": {
    "execution": {
     "iopub.execute_input": "2022-07-06T00:48:24.455288Z",
     "iopub.status.busy": "2022-07-06T00:48:24.454674Z",
     "iopub.status.idle": "2022-07-06T00:48:24.457951Z",
     "shell.execute_reply": "2022-07-06T00:48:24.458463Z"
    },
    "papermill": {
     "duration": 0.040207,
     "end_time": "2022-07-06T00:48:24.458604",
     "exception": false,
     "start_time": "2022-07-06T00:48:24.418397",
     "status": "completed"
    },
    "tags": []
   },
   "outputs": [],
   "source": [
    "#hide\n",
    "#delete problematic countries from table\n",
    "df_table = df_table[~df_table['Country/Region'].isin(['Cape Verde', 'Cruise Ship', 'Kosovo'])]"
   ]
  },
  {
   "cell_type": "code",
   "execution_count": 17,
   "id": "related-center",
   "metadata": {
    "execution": {
     "iopub.execute_input": "2022-07-06T00:48:24.528381Z",
     "iopub.status.busy": "2022-07-06T00:48:24.527678Z",
     "iopub.status.idle": "2022-07-06T00:48:24.542453Z",
     "shell.execute_reply": "2022-07-06T00:48:24.541901Z"
    },
    "papermill": {
     "duration": 0.053227,
     "end_time": "2022-07-06T00:48:24.542578",
     "exception": false,
     "start_time": "2022-07-06T00:48:24.489351",
     "status": "completed"
    },
    "tags": []
   },
   "outputs": [],
   "source": [
    "#hide\n",
    "metrics = [df_table.columns[index] for index in [1,2,5,6]]\n",
    "# s_china = df_table[df_table['Country/Region'].eq('China')][metrics].sum().add_prefix('China ')\n",
    "s_us = df_table[df_table['Country/Region'].eq('US')][metrics].sum().add_prefix('US ')\n",
    "s_eu = df_table[df_table['Continent'].eq('Europe')][metrics].sum().add_prefix('EU ')\n",
    "s_ind = df_table[df_table['Country/Region'].eq('India')][metrics].sum().add_prefix('India ')\n",
    "summary = {'updated': pd.to_datetime(dt_today), 'since': pd.to_datetime(dt_yday)}\n",
    "summary = {'updated': pd.to_datetime(dt_today), 'since': pd.to_datetime(dt_yday)}\n",
    "summary = {**summary, **df_table[metrics].sum(), **s_ind, **s_us, **s_eu}"
   ]
  },
  {
   "cell_type": "code",
   "execution_count": 18,
   "id": "engaging-syndrome",
   "metadata": {
    "execution": {
     "iopub.execute_input": "2022-07-06T00:48:24.611682Z",
     "iopub.status.busy": "2022-07-06T00:48:24.611078Z",
     "iopub.status.idle": "2022-07-06T00:48:24.633966Z",
     "shell.execute_reply": "2022-07-06T00:48:24.633433Z"
    },
    "papermill": {
     "duration": 0.059569,
     "end_time": "2022-07-06T00:48:24.634095",
     "exception": false,
     "start_time": "2022-07-06T00:48:24.574526",
     "status": "completed"
    },
    "tags": []
   },
   "outputs": [],
   "source": [
    "#hide\n",
    "dft_ct_new_cases = dft_cases.groupby(COL_REGION)[dt_cols].sum().diff(axis=1).fillna(0).astype(int)"
   ]
  },
  {
   "cell_type": "code",
   "execution_count": 19,
   "id": "neutral-assignment",
   "metadata": {
    "execution": {
     "iopub.execute_input": "2022-07-06T00:48:24.701405Z",
     "iopub.status.busy": "2022-07-06T00:48:24.700602Z",
     "iopub.status.idle": "2022-07-06T00:48:24.705348Z",
     "shell.execute_reply": "2022-07-06T00:48:24.704869Z"
    },
    "papermill": {
     "duration": 0.040434,
     "end_time": "2022-07-06T00:48:24.705462",
     "exception": false,
     "start_time": "2022-07-06T00:48:24.665028",
     "status": "completed"
    },
    "tags": []
   },
   "outputs": [],
   "source": [
    "#hide\n",
    "everydaycases = dft_ct_new_cases.cumsum(axis=1)"
   ]
  },
  {
   "cell_type": "code",
   "execution_count": 20,
   "id": "parliamentary-calgary",
   "metadata": {
    "execution": {
     "iopub.execute_input": "2022-07-06T00:48:24.772513Z",
     "iopub.status.busy": "2022-07-06T00:48:24.771915Z",
     "iopub.status.idle": "2022-07-06T00:48:25.341527Z",
     "shell.execute_reply": "2022-07-06T00:48:25.342090Z"
    },
    "papermill": {
     "duration": 0.605667,
     "end_time": "2022-07-06T00:48:25.342292",
     "exception": false,
     "start_time": "2022-07-06T00:48:24.736625",
     "status": "completed"
    },
    "tags": []
   },
   "outputs": [],
   "source": [
    "#hide\n",
    "import pandas as pd\n",
    "import matplotlib.pyplot as plt\n",
    "import matplotlib.ticker as ticker\n",
    "import matplotlib.animation as animation\n",
    "from IPython.display import HTML"
   ]
  },
  {
   "cell_type": "code",
   "execution_count": 21,
   "id": "lasting-extraction",
   "metadata": {
    "execution": {
     "iopub.execute_input": "2022-07-06T00:48:25.412343Z",
     "iopub.status.busy": "2022-07-06T00:48:25.411734Z",
     "iopub.status.idle": "2022-07-06T00:48:25.418889Z",
     "shell.execute_reply": "2022-07-06T00:48:25.419440Z"
    },
    "papermill": {
     "duration": 0.045609,
     "end_time": "2022-07-06T00:48:25.419584",
     "exception": false,
     "start_time": "2022-07-06T00:48:25.373975",
     "status": "completed"
    },
    "tags": []
   },
   "outputs": [],
   "source": [
    "#hide\n",
    "t = everydaycases.stack()"
   ]
  },
  {
   "cell_type": "code",
   "execution_count": 22,
   "id": "premier-sleeve",
   "metadata": {
    "execution": {
     "iopub.execute_input": "2022-07-06T00:48:25.486722Z",
     "iopub.status.busy": "2022-07-06T00:48:25.486098Z",
     "iopub.status.idle": "2022-07-06T00:48:25.498226Z",
     "shell.execute_reply": "2022-07-06T00:48:25.497628Z"
    },
    "papermill": {
     "duration": 0.047597,
     "end_time": "2022-07-06T00:48:25.498349",
     "exception": false,
     "start_time": "2022-07-06T00:48:25.450752",
     "status": "completed"
    },
    "tags": []
   },
   "outputs": [],
   "source": [
    "#hide\n",
    "g = t.reset_index(['Country/Region'])"
   ]
  },
  {
   "cell_type": "code",
   "execution_count": 23,
   "id": "distributed-pittsburgh",
   "metadata": {
    "execution": {
     "iopub.execute_input": "2022-07-06T00:48:25.564785Z",
     "iopub.status.busy": "2022-07-06T00:48:25.564085Z",
     "iopub.status.idle": "2022-07-06T00:48:25.565917Z",
     "shell.execute_reply": "2022-07-06T00:48:25.566473Z"
    },
    "papermill": {
     "duration": 0.037653,
     "end_time": "2022-07-06T00:48:25.566631",
     "exception": false,
     "start_time": "2022-07-06T00:48:25.528978",
     "status": "completed"
    },
    "tags": []
   },
   "outputs": [],
   "source": [
    "#hide\n",
    "g.index.name = 'date'"
   ]
  },
  {
   "cell_type": "code",
   "execution_count": 24,
   "id": "naked-donor",
   "metadata": {
    "execution": {
     "iopub.execute_input": "2022-07-06T00:48:25.633709Z",
     "iopub.status.busy": "2022-07-06T00:48:25.633101Z",
     "iopub.status.idle": "2022-07-06T00:48:25.636733Z",
     "shell.execute_reply": "2022-07-06T00:48:25.636141Z"
    },
    "papermill": {
     "duration": 0.037805,
     "end_time": "2022-07-06T00:48:25.636854",
     "exception": false,
     "start_time": "2022-07-06T00:48:25.599049",
     "status": "completed"
    },
    "tags": []
   },
   "outputs": [],
   "source": [
    "# #hide\n",
    "# g = g.reset_index(['date'])"
   ]
  },
  {
   "cell_type": "code",
   "execution_count": 25,
   "id": "incomplete-mustang",
   "metadata": {
    "execution": {
     "iopub.execute_input": "2022-07-06T00:48:25.703658Z",
     "iopub.status.busy": "2022-07-06T00:48:25.703016Z",
     "iopub.status.idle": "2022-07-06T00:48:25.706767Z",
     "shell.execute_reply": "2022-07-06T00:48:25.707199Z"
    },
    "papermill": {
     "duration": 0.03934,
     "end_time": "2022-07-06T00:48:25.707347",
     "exception": false,
     "start_time": "2022-07-06T00:48:25.668007",
     "status": "completed"
    },
    "tags": []
   },
   "outputs": [],
   "source": [
    "#hide\n",
    "# g.head()"
   ]
  },
  {
   "cell_type": "code",
   "execution_count": 26,
   "id": "specific-kruger",
   "metadata": {
    "execution": {
     "iopub.execute_input": "2022-07-06T00:48:25.773786Z",
     "iopub.status.busy": "2022-07-06T00:48:25.773057Z",
     "iopub.status.idle": "2022-07-06T00:48:25.776936Z",
     "shell.execute_reply": "2022-07-06T00:48:25.777371Z"
    },
    "papermill": {
     "duration": 0.03908,
     "end_time": "2022-07-06T00:48:25.777518",
     "exception": false,
     "start_time": "2022-07-06T00:48:25.738438",
     "status": "completed"
    },
    "tags": []
   },
   "outputs": [],
   "source": [
    "#hide\n",
    "# g.columns = ['date','country','cases']"
   ]
  },
  {
   "cell_type": "code",
   "execution_count": 27,
   "id": "tender-conversion",
   "metadata": {
    "execution": {
     "iopub.execute_input": "2022-07-06T00:48:25.843908Z",
     "iopub.status.busy": "2022-07-06T00:48:25.843187Z",
     "iopub.status.idle": "2022-07-06T00:48:25.845400Z",
     "shell.execute_reply": "2022-07-06T00:48:25.844833Z"
    },
    "papermill": {
     "duration": 0.037135,
     "end_time": "2022-07-06T00:48:25.845517",
     "exception": false,
     "start_time": "2022-07-06T00:48:25.808382",
     "status": "completed"
    },
    "tags": []
   },
   "outputs": [],
   "source": [
    "#hide\n",
    "# g['continent'] = g.country"
   ]
  },
  {
   "cell_type": "code",
   "execution_count": 28,
   "id": "substantial-wilderness",
   "metadata": {
    "execution": {
     "iopub.execute_input": "2022-07-06T00:48:25.912267Z",
     "iopub.status.busy": "2022-07-06T00:48:25.911552Z",
     "iopub.status.idle": "2022-07-06T00:48:25.913901Z",
     "shell.execute_reply": "2022-07-06T00:48:25.913230Z"
    },
    "papermill": {
     "duration": 0.037309,
     "end_time": "2022-07-06T00:48:25.914031",
     "exception": false,
     "start_time": "2022-07-06T00:48:25.876722",
     "status": "completed"
    },
    "tags": []
   },
   "outputs": [],
   "source": [
    "#hide\n",
    "# cols = list(g.columns.values)"
   ]
  },
  {
   "cell_type": "code",
   "execution_count": 29,
   "id": "solved-farming",
   "metadata": {
    "execution": {
     "iopub.execute_input": "2022-07-06T00:48:25.980597Z",
     "iopub.status.busy": "2022-07-06T00:48:25.979886Z",
     "iopub.status.idle": "2022-07-06T00:48:25.982257Z",
     "shell.execute_reply": "2022-07-06T00:48:25.981579Z"
    },
    "papermill": {
     "duration": 0.037253,
     "end_time": "2022-07-06T00:48:25.982389",
     "exception": false,
     "start_time": "2022-07-06T00:48:25.945136",
     "status": "completed"
    },
    "tags": []
   },
   "outputs": [],
   "source": [
    "#hide\n",
    "# cols.insert(0, cols.pop())"
   ]
  },
  {
   "cell_type": "code",
   "execution_count": 30,
   "id": "executed-adoption",
   "metadata": {
    "execution": {
     "iopub.execute_input": "2022-07-06T00:48:26.049407Z",
     "iopub.status.busy": "2022-07-06T00:48:26.048750Z",
     "iopub.status.idle": "2022-07-06T00:48:26.052293Z",
     "shell.execute_reply": "2022-07-06T00:48:26.052728Z"
    },
    "papermill": {
     "duration": 0.038898,
     "end_time": "2022-07-06T00:48:26.052869",
     "exception": false,
     "start_time": "2022-07-06T00:48:26.013971",
     "status": "completed"
    },
    "tags": []
   },
   "outputs": [],
   "source": [
    "#hide\n",
    "# g = g[cols]"
   ]
  },
  {
   "cell_type": "code",
   "execution_count": 31,
   "id": "subject-dublin",
   "metadata": {
    "execution": {
     "iopub.execute_input": "2022-07-06T00:48:26.118870Z",
     "iopub.status.busy": "2022-07-06T00:48:26.118259Z",
     "iopub.status.idle": "2022-07-06T00:48:26.121051Z",
     "shell.execute_reply": "2022-07-06T00:48:26.120568Z"
    },
    "papermill": {
     "duration": 0.037367,
     "end_time": "2022-07-06T00:48:26.121169",
     "exception": false,
     "start_time": "2022-07-06T00:48:26.083802",
     "status": "completed"
    },
    "tags": []
   },
   "outputs": [],
   "source": [
    "#hide\n",
    "# g['continent'] = g['continent'].map(mapping['map.continent'])"
   ]
  },
  {
   "cell_type": "code",
   "execution_count": 32,
   "id": "freelance-scout",
   "metadata": {
    "execution": {
     "iopub.execute_input": "2022-07-06T00:48:26.187467Z",
     "iopub.status.busy": "2022-07-06T00:48:26.186734Z",
     "iopub.status.idle": "2022-07-06T00:48:26.190929Z",
     "shell.execute_reply": "2022-07-06T00:48:26.190439Z"
    },
    "papermill": {
     "duration": 0.038809,
     "end_time": "2022-07-06T00:48:26.191048",
     "exception": false,
     "start_time": "2022-07-06T00:48:26.152239",
     "status": "completed"
    },
    "tags": []
   },
   "outputs": [],
   "source": [
    "#hide\n",
    "# g.head()"
   ]
  },
  {
   "cell_type": "code",
   "execution_count": 33,
   "id": "limited-engine",
   "metadata": {
    "execution": {
     "iopub.execute_input": "2022-07-06T00:48:26.257028Z",
     "iopub.status.busy": "2022-07-06T00:48:26.256319Z",
     "iopub.status.idle": "2022-07-06T00:48:26.258858Z",
     "shell.execute_reply": "2022-07-06T00:48:26.258171Z"
    },
    "papermill": {
     "duration": 0.037286,
     "end_time": "2022-07-06T00:48:26.258986",
     "exception": false,
     "start_time": "2022-07-06T00:48:26.221700",
     "status": "completed"
    },
    "tags": []
   },
   "outputs": [],
   "source": [
    "# hide\n",
    "# g['date'] = g['date'].astype('datetime64[ns]')"
   ]
  },
  {
   "cell_type": "code",
   "execution_count": 34,
   "id": "sophisticated-supervisor",
   "metadata": {
    "execution": {
     "iopub.execute_input": "2022-07-06T00:48:26.325581Z",
     "iopub.status.busy": "2022-07-06T00:48:26.324866Z",
     "iopub.status.idle": "2022-07-06T00:48:26.326674Z",
     "shell.execute_reply": "2022-07-06T00:48:26.327222Z"
    },
    "papermill": {
     "duration": 0.037114,
     "end_time": "2022-07-06T00:48:26.327370",
     "exception": false,
     "start_time": "2022-07-06T00:48:26.290256",
     "status": "completed"
    },
    "tags": []
   },
   "outputs": [],
   "source": [
    "#hide\n",
    "# g['date'] = g.date.dt.dayofyear"
   ]
  },
  {
   "cell_type": "code",
   "execution_count": 35,
   "id": "inside-dubai",
   "metadata": {
    "execution": {
     "iopub.execute_input": "2022-07-06T00:48:26.393444Z",
     "iopub.status.busy": "2022-07-06T00:48:26.392858Z",
     "iopub.status.idle": "2022-07-06T00:48:26.395608Z",
     "shell.execute_reply": "2022-07-06T00:48:26.395028Z"
    },
    "papermill": {
     "duration": 0.037057,
     "end_time": "2022-07-06T00:48:26.395724",
     "exception": false,
     "start_time": "2022-07-06T00:48:26.358667",
     "status": "completed"
    },
    "tags": []
   },
   "outputs": [],
   "source": [
    "#hide\n",
    "# g = g.rename(columns= {'continent':'group','country':'name','cases':'value'})"
   ]
  },
  {
   "cell_type": "code",
   "execution_count": 36,
   "id": "fleet-motorcycle",
   "metadata": {
    "execution": {
     "iopub.execute_input": "2022-07-06T00:48:26.461872Z",
     "iopub.status.busy": "2022-07-06T00:48:26.461283Z",
     "iopub.status.idle": "2022-07-06T00:48:26.463479Z",
     "shell.execute_reply": "2022-07-06T00:48:26.464034Z"
    },
    "papermill": {
     "duration": 0.037369,
     "end_time": "2022-07-06T00:48:26.464168",
     "exception": false,
     "start_time": "2022-07-06T00:48:26.426799",
     "status": "completed"
    },
    "tags": []
   },
   "outputs": [],
   "source": [
    "#hide\n",
    "# cols = ['name','group','day','value']"
   ]
  },
  {
   "cell_type": "code",
   "execution_count": 37,
   "id": "continued-sleeping",
   "metadata": {
    "execution": {
     "iopub.execute_input": "2022-07-06T00:48:26.530243Z",
     "iopub.status.busy": "2022-07-06T00:48:26.529507Z",
     "iopub.status.idle": "2022-07-06T00:48:26.533703Z",
     "shell.execute_reply": "2022-07-06T00:48:26.533142Z"
    },
    "papermill": {
     "duration": 0.039014,
     "end_time": "2022-07-06T00:48:26.533835",
     "exception": false,
     "start_time": "2022-07-06T00:48:26.494821",
     "status": "completed"
    },
    "tags": []
   },
   "outputs": [],
   "source": [
    "#hide\n",
    "# g.rename(columns= {'date':'day'},inplace = True)"
   ]
  },
  {
   "cell_type": "code",
   "execution_count": 38,
   "id": "major-fight",
   "metadata": {
    "execution": {
     "iopub.execute_input": "2022-07-06T00:48:26.600402Z",
     "iopub.status.busy": "2022-07-06T00:48:26.599791Z",
     "iopub.status.idle": "2022-07-06T00:48:26.602375Z",
     "shell.execute_reply": "2022-07-06T00:48:26.601872Z"
    },
    "papermill": {
     "duration": 0.037252,
     "end_time": "2022-07-06T00:48:26.602494",
     "exception": false,
     "start_time": "2022-07-06T00:48:26.565242",
     "status": "completed"
    },
    "tags": []
   },
   "outputs": [],
   "source": [
    "#hide\n",
    "# g = g[cols]"
   ]
  },
  {
   "cell_type": "code",
   "execution_count": 39,
   "id": "structured-mobile",
   "metadata": {
    "execution": {
     "iopub.execute_input": "2022-07-06T00:48:26.668475Z",
     "iopub.status.busy": "2022-07-06T00:48:26.667773Z",
     "iopub.status.idle": "2022-07-06T00:48:26.671503Z",
     "shell.execute_reply": "2022-07-06T00:48:26.671931Z"
    },
    "papermill": {
     "duration": 0.038887,
     "end_time": "2022-07-06T00:48:26.672066",
     "exception": false,
     "start_time": "2022-07-06T00:48:26.633179",
     "status": "completed"
    },
    "tags": []
   },
   "outputs": [],
   "source": [
    "# #hide\n",
    "# g = g[g.group.notna()]"
   ]
  },
  {
   "cell_type": "code",
   "execution_count": 40,
   "id": "determined-closing",
   "metadata": {
    "execution": {
     "iopub.execute_input": "2022-07-06T00:48:26.738599Z",
     "iopub.status.busy": "2022-07-06T00:48:26.737818Z",
     "iopub.status.idle": "2022-07-06T00:48:26.740219Z",
     "shell.execute_reply": "2022-07-06T00:48:26.739572Z"
    },
    "papermill": {
     "duration": 0.037185,
     "end_time": "2022-07-06T00:48:26.740332",
     "exception": false,
     "start_time": "2022-07-06T00:48:26.703147",
     "status": "completed"
    },
    "tags": []
   },
   "outputs": [],
   "source": [
    "# #hide\n",
    "# colors = dict(zip(\n",
    "#     [\"Oceania\", \"Europe\", \"Asia\", \"South America\", \"Middle East\", \"North America\", \"Africa\"],\n",
    "#     [\"#adb0ff\", \"#ffb3ff\", \"#90d595\", \"#e48381\", \"#aafbff\", \"#f7bb5f\", \"#eafb50\"]\n",
    "# ))\n",
    "# group_lk = g.set_index('name')['group'].to_dict()"
   ]
  },
  {
   "cell_type": "code",
   "execution_count": null,
   "id": "gross-drinking",
   "metadata": {
    "papermill": {
     "duration": 0.03081,
     "end_time": "2022-07-06T00:48:26.802073",
     "exception": false,
     "start_time": "2022-07-06T00:48:26.771263",
     "status": "completed"
    },
    "tags": []
   },
   "outputs": [],
   "source": []
  },
  {
   "cell_type": "code",
   "execution_count": 41,
   "id": "subject-macintosh",
   "metadata": {
    "execution": {
     "iopub.execute_input": "2022-07-06T00:48:26.868458Z",
     "iopub.status.busy": "2022-07-06T00:48:26.867858Z",
     "iopub.status.idle": "2022-07-06T00:48:26.870230Z",
     "shell.execute_reply": "2022-07-06T00:48:26.870799Z"
    },
    "papermill": {
     "duration": 0.037928,
     "end_time": "2022-07-06T00:48:26.870937",
     "exception": false,
     "start_time": "2022-07-06T00:48:26.833009",
     "status": "completed"
    },
    "tags": []
   },
   "outputs": [],
   "source": [
    "# #hide\n",
    "# fig, ax = plt.subplots(figsize=(15, 8))\n",
    "\n",
    "# def draw_barchart(current_day):\n",
    "#     dff = g[g['day'].eq(current_day)].sort_values(by='value', ascending=True).tail(10)\n",
    "#     ax.clear()\n",
    "#     ax.barh(dff['name'], dff['value'], color=[colors[group_lk[x]] for x in dff['name']])\n",
    "#     dx = dff['value'].max() / 200\n",
    "    \n",
    "#     for i, (value, name) in enumerate(zip(dff['value'], dff['name'])):\n",
    "#         ax.text(value-dx, i,     name,           size=14, weight=600, ha='right', va='bottom')\n",
    "#         ax.text(value-dx, i-.25, group_lk[name], size=10, color='#444444', ha='right', va='baseline')\n",
    "#         ax.text(value+dx, i,     f'{value:,.0f}',  size=14, ha='left',  va='center')\n",
    "#     ax.text(1, 0.4, current_day, transform=ax.transAxes, color='#777777', size=46, ha='right', weight=800)\n",
    "#     ax.text(0, 1.06, 'Population (thousands)', transform=ax.transAxes, size=12, color='#777777')\n",
    "#     ax.xaxis.set_major_formatter(ticker.StrMethodFormatter('{x:,.0f}'))\n",
    "#     ax.xaxis.set_ticks_position('top')\n",
    "#     ax.tick_params(axis='x', colors='#777777', labelsize=12)\n",
    "#     ax.set_yticks([])\n",
    "#     ax.margins(0, 0.01)\n",
    "#     ax.grid(which='major', axis='x', linestyle='-')\n",
    "#     ax.set_axisbelow(True)\n",
    "    \n",
    "#     ax.text(0, 1.15, 'Coronavirus',\n",
    "#             transform=ax.transAxes, size=24, weight=600, ha='left', va='top')\n",
    "# #     ax.text(1, 0, 'by @pratapvardhan; credit @jburnmurdoch', transform=ax.transAxes, color='#777777', ha='right',\n",
    "# #             bbox=dict(facecolor='white', alpha=0.8, edgecolor='white'))\n",
    "#     plt.box(False)"
   ]
  },
  {
   "cell_type": "code",
   "execution_count": 42,
   "id": "sexual-wages",
   "metadata": {
    "execution": {
     "iopub.execute_input": "2022-07-06T00:48:26.937002Z",
     "iopub.status.busy": "2022-07-06T00:48:26.936275Z",
     "iopub.status.idle": "2022-07-06T00:48:26.938062Z",
     "shell.execute_reply": "2022-07-06T00:48:26.938642Z"
    },
    "papermill": {
     "duration": 0.037123,
     "end_time": "2022-07-06T00:48:26.938790",
     "exception": false,
     "start_time": "2022-07-06T00:48:26.901667",
     "status": "completed"
    },
    "tags": []
   },
   "outputs": [],
   "source": [
    "# #hide_input\n",
    "# fig, ax = plt.subplots(figsize=(15, 8))\n",
    "# animator = animation.FuncAnimation(fig, draw_barchart, frames=range(g.day.values.min(), g.day.values.max()))\n",
    "# HTML(animator.to_jshtml())\n",
    "# # or use animator.to_html5_video() or animator.save() "
   ]
  },
  {
   "cell_type": "code",
   "execution_count": null,
   "id": "australian-container",
   "metadata": {
    "papermill": {
     "duration": 0.030496,
     "end_time": "2022-07-06T00:48:27.000648",
     "exception": false,
     "start_time": "2022-07-06T00:48:26.970152",
     "status": "completed"
    },
    "tags": []
   },
   "outputs": [],
   "source": []
  },
  {
   "cell_type": "code",
   "execution_count": null,
   "id": "mediterranean-pontiac",
   "metadata": {
    "papermill": {
     "duration": 0.030544,
     "end_time": "2022-07-06T00:48:27.061757",
     "exception": false,
     "start_time": "2022-07-06T00:48:27.031213",
     "status": "completed"
    },
    "tags": []
   },
   "outputs": [],
   "source": []
  },
  {
   "cell_type": "code",
   "execution_count": null,
   "id": "aging-legislature",
   "metadata": {
    "papermill": {
     "duration": 0.030705,
     "end_time": "2022-07-06T00:48:27.123489",
     "exception": false,
     "start_time": "2022-07-06T00:48:27.092784",
     "status": "completed"
    },
    "tags": []
   },
   "outputs": [],
   "source": []
  }
 ],
 "metadata": {
  "kernelspec": {
   "display_name": "Python 3",
   "language": "python",
   "name": "python3"
  },
  "language_info": {
   "codemirror_mode": {
    "name": "ipython",
    "version": 3
   },
   "file_extension": ".py",
   "mimetype": "text/x-python",
   "name": "python",
   "nbconvert_exporter": "python",
   "pygments_lexer": "ipython3",
   "version": "3.6.15"
  },
  "papermill": {
   "duration": 6.308171,
   "end_time": "2022-07-06T00:48:27.573626",
   "environment_variables": {},
   "exception": null,
   "input_path": "2020-03-21-covid19exp.ipynb",
   "output_path": "2020-03-21-covid19exp.ipynb",
   "parameters": {},
   "start_time": "2022-07-06T00:48:21.265455",
   "version": "2.0.0"
  }
 },
 "nbformat": 4,
 "nbformat_minor": 5
}