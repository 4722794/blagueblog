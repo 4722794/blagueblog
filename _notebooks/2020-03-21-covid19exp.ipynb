{
 "cells": [
  {
   "cell_type": "markdown",
   "id": "muslim-click",
   "metadata": {
    "papermill": {
     "duration": 0.034915,
     "end_time": "2022-12-03T00:37:08.538917",
     "exception": false,
     "start_time": "2022-12-03T00:37:08.504002",
     "status": "completed"
    },
    "tags": []
   },
   "source": [
    "# COVID-19 Case Race\n",
    "> A race chart to see rising cases around the world\n",
    "\n",
    "- author: Hargun Oberoi\n",
    "- image: images/covid-overview.png\n",
    "- hide: false\n",
    "- badges: false"
   ]
  },
  {
   "cell_type": "code",
   "execution_count": 1,
   "id": "proof-material",
   "metadata": {
    "execution": {
     "iopub.execute_input": "2022-12-03T00:37:08.608010Z",
     "iopub.status.busy": "2022-12-03T00:37:08.607431Z",
     "iopub.status.idle": "2022-12-03T00:37:08.947967Z",
     "shell.execute_reply": "2022-12-03T00:37:08.947379Z"
    },
    "papermill": {
     "duration": 0.379845,
     "end_time": "2022-12-03T00:37:08.948122",
     "exception": false,
     "start_time": "2022-12-03T00:37:08.568277",
     "status": "completed"
    },
    "tags": []
   },
   "outputs": [],
   "source": [
    "#hide\n",
    "import numpy as np\n",
    "import pandas as pd\n",
    "from jinja2 import Template\n",
    "from IPython.display import HTML"
   ]
  },
  {
   "cell_type": "code",
   "execution_count": 2,
   "id": "developed-terminology",
   "metadata": {
    "execution": {
     "iopub.execute_input": "2022-12-03T00:37:09.012894Z",
     "iopub.status.busy": "2022-12-03T00:37:09.012298Z",
     "iopub.status.idle": "2022-12-03T00:37:09.014409Z",
     "shell.execute_reply": "2022-12-03T00:37:09.014944Z"
    },
    "papermill": {
     "duration": 0.037158,
     "end_time": "2022-12-03T00:37:09.015074",
     "exception": false,
     "start_time": "2022-12-03T00:37:08.977916",
     "status": "completed"
    },
    "tags": []
   },
   "outputs": [],
   "source": [
    "#hide\n",
    "\n",
    "# FETCH\n",
    "base_url = 'https://raw.githubusercontent.com/pratapvardhan/notebooks/master/covid19/'\n",
    "paths = {\n",
    "    'mapping': base_url + 'mapping_countries.csv',\n",
    "    'overview': base_url + 'overview.tpl'\n",
    "}"
   ]
  },
  {
   "cell_type": "code",
   "execution_count": 3,
   "id": "dynamic-saver",
   "metadata": {
    "execution": {
     "iopub.execute_input": "2022-12-03T00:37:09.075709Z",
     "iopub.status.busy": "2022-12-03T00:37:09.075126Z",
     "iopub.status.idle": "2022-12-03T00:37:09.084746Z",
     "shell.execute_reply": "2022-12-03T00:37:09.085288Z"
    },
    "papermill": {
     "duration": 0.041747,
     "end_time": "2022-12-03T00:37:09.085441",
     "exception": false,
     "start_time": "2022-12-03T00:37:09.043694",
     "status": "completed"
    },
    "tags": []
   },
   "outputs": [
    {
     "data": {
      "text/plain": [
       "'https://raw.githubusercontent.com/pratapvardhan/notebooks/master/covid19/mapping_countries.csv'"
      ]
     },
     "execution_count": 3,
     "metadata": {},
     "output_type": "execute_result"
    }
   ],
   "source": [
    "#hide\n",
    "paths['mapping']"
   ]
  },
  {
   "cell_type": "code",
   "execution_count": 4,
   "id": "urban-software",
   "metadata": {
    "execution": {
     "iopub.execute_input": "2022-12-03T00:37:09.147234Z",
     "iopub.status.busy": "2022-12-03T00:37:09.146660Z",
     "iopub.status.idle": "2022-12-03T00:37:09.151900Z",
     "shell.execute_reply": "2022-12-03T00:37:09.152320Z"
    },
    "papermill": {
     "duration": 0.037885,
     "end_time": "2022-12-03T00:37:09.152452",
     "exception": false,
     "start_time": "2022-12-03T00:37:09.114567",
     "status": "completed"
    },
    "tags": []
   },
   "outputs": [],
   "source": [
    "#hide\n",
    "def get_mappings(url):\n",
    "    df = pd.read_csv(url)\n",
    "    return {\n",
    "        'df': df,\n",
    "        'replace.country': dict(df.dropna(subset=['Name']).set_index('Country')['Name']),\n",
    "        'map.continent': dict(df.set_index('Name')['Continent'])\n",
    "    }"
   ]
  },
  {
   "cell_type": "code",
   "execution_count": 5,
   "id": "intimate-machinery",
   "metadata": {
    "execution": {
     "iopub.execute_input": "2022-12-03T00:37:09.216632Z",
     "iopub.status.busy": "2022-12-03T00:37:09.216030Z",
     "iopub.status.idle": "2022-12-03T00:37:09.261994Z",
     "shell.execute_reply": "2022-12-03T00:37:09.261484Z"
    },
    "papermill": {
     "duration": 0.080602,
     "end_time": "2022-12-03T00:37:09.262111",
     "exception": false,
     "start_time": "2022-12-03T00:37:09.181509",
     "status": "completed"
    },
    "tags": []
   },
   "outputs": [],
   "source": [
    "#hide\n",
    "mapping = get_mappings(paths['mapping'])"
   ]
  },
  {
   "cell_type": "code",
   "execution_count": 6,
   "id": "certified-tactics",
   "metadata": {
    "execution": {
     "iopub.execute_input": "2022-12-03T00:37:09.326561Z",
     "iopub.status.busy": "2022-12-03T00:37:09.325861Z",
     "iopub.status.idle": "2022-12-03T00:37:09.327874Z",
     "shell.execute_reply": "2022-12-03T00:37:09.328381Z"
    },
    "papermill": {
     "duration": 0.037156,
     "end_time": "2022-12-03T00:37:09.328518",
     "exception": false,
     "start_time": "2022-12-03T00:37:09.291362",
     "status": "completed"
    },
    "tags": []
   },
   "outputs": [],
   "source": [
    "#hide\n",
    "def get_template(path):\n",
    "    from urllib.parse import urlparse\n",
    "    if bool(urlparse(path).netloc):\n",
    "        from urllib.request import urlopen\n",
    "        return urlopen(path).read().decode('utf8')\n",
    "    return open(path).read()"
   ]
  },
  {
   "cell_type": "code",
   "execution_count": 7,
   "id": "realistic-blast",
   "metadata": {
    "execution": {
     "iopub.execute_input": "2022-12-03T00:37:09.392697Z",
     "iopub.status.busy": "2022-12-03T00:37:09.392100Z",
     "iopub.status.idle": "2022-12-03T00:37:09.394137Z",
     "shell.execute_reply": "2022-12-03T00:37:09.394605Z"
    },
    "papermill": {
     "duration": 0.036801,
     "end_time": "2022-12-03T00:37:09.394738",
     "exception": false,
     "start_time": "2022-12-03T00:37:09.357937",
     "status": "completed"
    },
    "tags": []
   },
   "outputs": [],
   "source": [
    "#hide\n",
    "def get_frame(name):\n",
    "    url = (\n",
    "        'https://raw.githubusercontent.com/CSSEGISandData/COVID-19/master/csse_covid_19_data/'\n",
    "        f'csse_covid_19_time_series/time_series_covid19_{name}_global.csv')\n",
    "    df = pd.read_csv(url)\n",
    "    # rename countries\n",
    "    df['Country/Region'] = df['Country/Region'].replace(mapping['replace.country'])\n",
    "    return df"
   ]
  },
  {
   "cell_type": "code",
   "execution_count": 8,
   "id": "affiliated-characterization",
   "metadata": {
    "execution": {
     "iopub.execute_input": "2022-12-03T00:37:09.459339Z",
     "iopub.status.busy": "2022-12-03T00:37:09.458724Z",
     "iopub.status.idle": "2022-12-03T00:37:09.462638Z",
     "shell.execute_reply": "2022-12-03T00:37:09.462162Z"
    },
    "papermill": {
     "duration": 0.03897,
     "end_time": "2022-12-03T00:37:09.462749",
     "exception": false,
     "start_time": "2022-12-03T00:37:09.423779",
     "status": "completed"
    },
    "tags": []
   },
   "outputs": [],
   "source": [
    "#hide\n",
    "def get_dates(df):\n",
    "    dt_cols = df.columns[~df.columns.isin(['Province/State', 'Country/Region', 'Lat', 'Long'])]\n",
    "    LAST_DATE_I = -1\n",
    "    # sometimes last column may be empty, then go backwards\n",
    "    for i in range(-1, -len(dt_cols), -1):\n",
    "        if not df[dt_cols[i]].fillna(0).eq(0).all():\n",
    "            LAST_DATE_I = i\n",
    "            break\n",
    "    return LAST_DATE_I, dt_cols"
   ]
  },
  {
   "cell_type": "code",
   "execution_count": 9,
   "id": "recent-optimization",
   "metadata": {
    "execution": {
     "iopub.execute_input": "2022-12-03T00:37:09.526367Z",
     "iopub.status.busy": "2022-12-03T00:37:09.525750Z",
     "iopub.status.idle": "2022-12-03T00:37:10.082355Z",
     "shell.execute_reply": "2022-12-03T00:37:10.081754Z"
    },
    "papermill": {
     "duration": 0.590698,
     "end_time": "2022-12-03T00:37:10.082496",
     "exception": false,
     "start_time": "2022-12-03T00:37:09.491798",
     "status": "completed"
    },
    "tags": []
   },
   "outputs": [],
   "source": [
    "#hide\n",
    "COL_REGION = 'Country/Region'\n",
    "# Confirmed, Recovered, Deaths\n",
    "df = get_frame('confirmed')\n",
    "# dft_: timeseries, dfc_: today country agg\n",
    "dft_cases = df\n",
    "dft_deaths = get_frame('deaths')\n",
    "dft_recovered = get_frame('recovered')\n",
    "LAST_DATE_I, dt_cols = get_dates(df)"
   ]
  },
  {
   "cell_type": "code",
   "execution_count": 10,
   "id": "absolute-copper",
   "metadata": {
    "execution": {
     "iopub.execute_input": "2022-12-03T00:37:10.150952Z",
     "iopub.status.busy": "2022-12-03T00:37:10.149501Z",
     "iopub.status.idle": "2022-12-03T00:37:10.151961Z",
     "shell.execute_reply": "2022-12-03T00:37:10.151495Z"
    },
    "papermill": {
     "duration": 0.038489,
     "end_time": "2022-12-03T00:37:10.152073",
     "exception": false,
     "start_time": "2022-12-03T00:37:10.113584",
     "status": "completed"
    },
    "tags": []
   },
   "outputs": [],
   "source": [
    "#hide\n",
    "LAST_DATE_I, dt_cols = get_dates(df)\n",
    "dt_today =dt_cols[LAST_DATE_I]\n",
    "# dt_5day = dt_cols[LAST_DATE_I - 5]\n",
    "dt_yday = dt_cols[LAST_DATE_I - 1]"
   ]
  },
  {
   "cell_type": "code",
   "execution_count": 11,
   "id": "restricted-sheriff",
   "metadata": {
    "execution": {
     "iopub.execute_input": "2022-12-03T00:37:10.220943Z",
     "iopub.status.busy": "2022-12-03T00:37:10.219816Z",
     "iopub.status.idle": "2022-12-03T00:37:10.224879Z",
     "shell.execute_reply": "2022-12-03T00:37:10.225452Z"
    },
    "papermill": {
     "duration": 0.043128,
     "end_time": "2022-12-03T00:37:10.225591",
     "exception": false,
     "start_time": "2022-12-03T00:37:10.182463",
     "status": "completed"
    },
    "tags": []
   },
   "outputs": [],
   "source": [
    "#hide\n",
    "dfc_cases = dft_cases.groupby(COL_REGION)[dt_today].sum()\n",
    "dfc_deaths = dft_deaths.groupby(COL_REGION)[dt_today].sum()\n",
    "# dfp_cases = dft_cases.groupby(COL_REGION)[dt_5day].sum()\n",
    "# dfp_deaths = dft_deaths.groupby(COL_REGION)[dt_5day].sum()\n",
    "dfp_cases = dft_cases.groupby(COL_REGION)[dt_yday].sum()\n",
    "dfp_deaths = dft_deaths.groupby(COL_REGION)[dt_yday].sum()"
   ]
  },
  {
   "cell_type": "code",
   "execution_count": 12,
   "id": "deluxe-hepatitis",
   "metadata": {
    "execution": {
     "iopub.execute_input": "2022-12-03T00:37:10.290641Z",
     "iopub.status.busy": "2022-12-03T00:37:10.290050Z",
     "iopub.status.idle": "2022-12-03T00:37:10.294742Z",
     "shell.execute_reply": "2022-12-03T00:37:10.295215Z"
    },
    "papermill": {
     "duration": 0.040568,
     "end_time": "2022-12-03T00:37:10.295347",
     "exception": false,
     "start_time": "2022-12-03T00:37:10.254779",
     "status": "completed"
    },
    "tags": []
   },
   "outputs": [],
   "source": [
    "#hide\n",
    "df_table = (pd.DataFrame(dict(Cases = dfc_cases, Deaths = dfc_deaths, PCases = dfp_cases, PDeaths = dfp_deaths))\n",
    "            .sort_values(by = ['Cases','Deaths'], ascending = [False, False])\n",
    "            .reset_index())"
   ]
  },
  {
   "cell_type": "code",
   "execution_count": 13,
   "id": "educational-chancellor",
   "metadata": {
    "execution": {
     "iopub.execute_input": "2022-12-03T00:37:10.379354Z",
     "iopub.status.busy": "2022-12-03T00:37:10.374205Z",
     "iopub.status.idle": "2022-12-03T00:37:10.381758Z",
     "shell.execute_reply": "2022-12-03T00:37:10.382203Z"
    },
    "papermill": {
     "duration": 0.057577,
     "end_time": "2022-12-03T00:37:10.382335",
     "exception": false,
     "start_time": "2022-12-03T00:37:10.324758",
     "status": "completed"
    },
    "tags": []
   },
   "outputs": [
    {
     "data": {
      "text/html": [
       "<div>\n",
       "<style scoped>\n",
       "    .dataframe tbody tr th:only-of-type {\n",
       "        vertical-align: middle;\n",
       "    }\n",
       "\n",
       "    .dataframe tbody tr th {\n",
       "        vertical-align: top;\n",
       "    }\n",
       "\n",
       "    .dataframe thead th {\n",
       "        text-align: right;\n",
       "    }\n",
       "</style>\n",
       "<table border=\"1\" class=\"dataframe\">\n",
       "  <thead>\n",
       "    <tr style=\"text-align: right;\">\n",
       "      <th></th>\n",
       "      <th>Country/Region</th>\n",
       "      <th>Cases</th>\n",
       "      <th>Deaths</th>\n",
       "      <th>PCases</th>\n",
       "      <th>PDeaths</th>\n",
       "      <th>Cases (+)</th>\n",
       "      <th>Deaths (+)</th>\n",
       "      <th>Fatality Rate</th>\n",
       "      <th>Continent</th>\n",
       "    </tr>\n",
       "  </thead>\n",
       "  <tbody>\n",
       "    <tr>\n",
       "      <th>0</th>\n",
       "      <td>US</td>\n",
       "      <td>98924207</td>\n",
       "      <td>1081147</td>\n",
       "      <td>98807782</td>\n",
       "      <td>1080536</td>\n",
       "      <td>116425</td>\n",
       "      <td>611</td>\n",
       "      <td>1.09</td>\n",
       "      <td>North America</td>\n",
       "    </tr>\n",
       "    <tr>\n",
       "      <th>1</th>\n",
       "      <td>India</td>\n",
       "      <td>44674138</td>\n",
       "      <td>530624</td>\n",
       "      <td>44673863</td>\n",
       "      <td>530622</td>\n",
       "      <td>275</td>\n",
       "      <td>2</td>\n",
       "      <td>1.19</td>\n",
       "      <td>Asia</td>\n",
       "    </tr>\n",
       "    <tr>\n",
       "      <th>2</th>\n",
       "      <td>France</td>\n",
       "      <td>38115885</td>\n",
       "      <td>160066</td>\n",
       "      <td>38046448</td>\n",
       "      <td>159990</td>\n",
       "      <td>69437</td>\n",
       "      <td>76</td>\n",
       "      <td>0.42</td>\n",
       "      <td>Europe</td>\n",
       "    </tr>\n",
       "    <tr>\n",
       "      <th>3</th>\n",
       "      <td>Germany</td>\n",
       "      <td>36530020</td>\n",
       "      <td>158109</td>\n",
       "      <td>36499600</td>\n",
       "      <td>157943</td>\n",
       "      <td>30420</td>\n",
       "      <td>166</td>\n",
       "      <td>0.43</td>\n",
       "      <td>Europe</td>\n",
       "    </tr>\n",
       "    <tr>\n",
       "      <th>4</th>\n",
       "      <td>Brazil</td>\n",
       "      <td>35302137</td>\n",
       "      <td>689945</td>\n",
       "      <td>35227599</td>\n",
       "      <td>689665</td>\n",
       "      <td>74538</td>\n",
       "      <td>280</td>\n",
       "      <td>1.95</td>\n",
       "      <td>South America</td>\n",
       "    </tr>\n",
       "  </tbody>\n",
       "</table>\n",
       "</div>"
      ],
      "text/plain": [
       "  Country/Region     Cases   Deaths    PCases  PDeaths  Cases (+)  Deaths (+)  \\\n",
       "0             US  98924207  1081147  98807782  1080536     116425         611   \n",
       "1          India  44674138   530624  44673863   530622        275           2   \n",
       "2         France  38115885   160066  38046448   159990      69437          76   \n",
       "3        Germany  36530020   158109  36499600   157943      30420         166   \n",
       "4         Brazil  35302137   689945  35227599   689665      74538         280   \n",
       "\n",
       "   Fatality Rate      Continent  \n",
       "0           1.09  North America  \n",
       "1           1.19           Asia  \n",
       "2           0.42         Europe  \n",
       "3           0.43         Europe  \n",
       "4           1.95  South America  "
      ]
     },
     "execution_count": 13,
     "metadata": {},
     "output_type": "execute_result"
    }
   ],
   "source": [
    "#hide\n",
    "for c in 'Cases, Deaths'.split(', '):\n",
    "    df_table[f'{c} (+)'] = (df_table[c] - df_table[f'P{c}']).clip(0)\n",
    "    #Clip ça veut dire, les chiffres negatif sont interdit\n",
    "df_table['Fatality Rate'] = (100* df_table['Deaths']/ df_table['Cases']).round(2)\n",
    "df_table['Continent'] = df_table['Country/Region'].map(mapping['map.continent'])\n",
    "df_table.head(5)"
   ]
  },
  {
   "cell_type": "code",
   "execution_count": 14,
   "id": "aboriginal-bulgaria",
   "metadata": {
    "execution": {
     "iopub.execute_input": "2022-12-03T00:37:10.447710Z",
     "iopub.status.busy": "2022-12-03T00:37:10.447123Z",
     "iopub.status.idle": "2022-12-03T00:37:10.449576Z",
     "shell.execute_reply": "2022-12-03T00:37:10.450034Z"
    },
    "papermill": {
     "duration": 0.038218,
     "end_time": "2022-12-03T00:37:10.450168",
     "exception": false,
     "start_time": "2022-12-03T00:37:10.411950",
     "status": "completed"
    },
    "tags": []
   },
   "outputs": [],
   "source": [
    "#hide\n",
    "#delete problematic countries from table\n",
    "df_table = df_table[~df_table['Country/Region'].isin(['Cape Verde', 'Cruise Ship', 'Kosovo'])]"
   ]
  },
  {
   "cell_type": "code",
   "execution_count": 15,
   "id": "fantastic-effect",
   "metadata": {
    "execution": {
     "iopub.execute_input": "2022-12-03T00:37:10.518033Z",
     "iopub.status.busy": "2022-12-03T00:37:10.517424Z",
     "iopub.status.idle": "2022-12-03T00:37:10.535233Z",
     "shell.execute_reply": "2022-12-03T00:37:10.534758Z"
    },
    "papermill": {
     "duration": 0.055464,
     "end_time": "2022-12-03T00:37:10.535349",
     "exception": false,
     "start_time": "2022-12-03T00:37:10.479885",
     "status": "completed"
    },
    "tags": []
   },
   "outputs": [
    {
     "data": {
      "text/html": [
       "<div>\n",
       "<style scoped>\n",
       "    .dataframe tbody tr th:only-of-type {\n",
       "        vertical-align: middle;\n",
       "    }\n",
       "\n",
       "    .dataframe tbody tr th {\n",
       "        vertical-align: top;\n",
       "    }\n",
       "\n",
       "    .dataframe thead th {\n",
       "        text-align: right;\n",
       "    }\n",
       "</style>\n",
       "<table border=\"1\" class=\"dataframe\">\n",
       "  <thead>\n",
       "    <tr style=\"text-align: right;\">\n",
       "      <th></th>\n",
       "      <th>Country/Region</th>\n",
       "      <th>Cases</th>\n",
       "      <th>Deaths</th>\n",
       "      <th>PCases</th>\n",
       "      <th>PDeaths</th>\n",
       "      <th>Cases (+)</th>\n",
       "      <th>Deaths (+)</th>\n",
       "      <th>Fatality Rate</th>\n",
       "      <th>Continent</th>\n",
       "    </tr>\n",
       "  </thead>\n",
       "  <tbody>\n",
       "    <tr>\n",
       "      <th>0</th>\n",
       "      <td>US</td>\n",
       "      <td>98924207</td>\n",
       "      <td>1081147</td>\n",
       "      <td>98807782</td>\n",
       "      <td>1080536</td>\n",
       "      <td>116425</td>\n",
       "      <td>611</td>\n",
       "      <td>1.1</td>\n",
       "      <td>North America</td>\n",
       "    </tr>\n",
       "    <tr>\n",
       "      <th>1</th>\n",
       "      <td>India</td>\n",
       "      <td>44674138</td>\n",
       "      <td>530624</td>\n",
       "      <td>44673863</td>\n",
       "      <td>530622</td>\n",
       "      <td>275</td>\n",
       "      <td>2</td>\n",
       "      <td>1.2</td>\n",
       "      <td>Asia</td>\n",
       "    </tr>\n",
       "    <tr>\n",
       "      <th>2</th>\n",
       "      <td>France</td>\n",
       "      <td>38115885</td>\n",
       "      <td>160066</td>\n",
       "      <td>38046448</td>\n",
       "      <td>159990</td>\n",
       "      <td>69437</td>\n",
       "      <td>76</td>\n",
       "      <td>0.4</td>\n",
       "      <td>Europe</td>\n",
       "    </tr>\n",
       "    <tr>\n",
       "      <th>3</th>\n",
       "      <td>Germany</td>\n",
       "      <td>36530020</td>\n",
       "      <td>158109</td>\n",
       "      <td>36499600</td>\n",
       "      <td>157943</td>\n",
       "      <td>30420</td>\n",
       "      <td>166</td>\n",
       "      <td>0.4</td>\n",
       "      <td>Europe</td>\n",
       "    </tr>\n",
       "    <tr>\n",
       "      <th>4</th>\n",
       "      <td>Brazil</td>\n",
       "      <td>35302137</td>\n",
       "      <td>689945</td>\n",
       "      <td>35227599</td>\n",
       "      <td>689665</td>\n",
       "      <td>74538</td>\n",
       "      <td>280</td>\n",
       "      <td>2.0</td>\n",
       "      <td>South America</td>\n",
       "    </tr>\n",
       "  </tbody>\n",
       "</table>\n",
       "</div>"
      ],
      "text/plain": [
       "  Country/Region     Cases   Deaths    PCases  PDeaths  Cases (+)  Deaths (+)  \\\n",
       "0             US  98924207  1081147  98807782  1080536     116425         611   \n",
       "1          India  44674138   530624  44673863   530622        275           2   \n",
       "2         France  38115885   160066  38046448   159990      69437          76   \n",
       "3        Germany  36530020   158109  36499600   157943      30420         166   \n",
       "4         Brazil  35302137   689945  35227599   689665      74538         280   \n",
       "\n",
       "   Fatality Rate      Continent  \n",
       "0            1.1  North America  \n",
       "1            1.2           Asia  \n",
       "2            0.4         Europe  \n",
       "3            0.4         Europe  \n",
       "4            2.0  South America  "
      ]
     },
     "execution_count": 15,
     "metadata": {},
     "output_type": "execute_result"
    }
   ],
   "source": [
    "#hide\n",
    "df_table = (pd.DataFrame(dict(Cases=dfc_cases, Deaths=dfc_deaths, PCases=dfp_cases, PDeaths=dfp_deaths))\n",
    "             .sort_values(by=['Cases', 'Deaths'], ascending=[False, False])\n",
    "             .reset_index())\n",
    "df_table.rename(columns={'index': 'Country/Region'}, inplace=True)\n",
    "for c in 'Cases, Deaths'.split(', '):\n",
    "    df_table[f'{c} (+)'] = (df_table[c] - df_table[f'P{c}']).clip(0)  # DATA BUG\n",
    "df_table['Fatality Rate'] = (100 * df_table['Deaths'] / df_table['Cases']).round(1)\n",
    "df_table['Continent'] = df_table['Country/Region'].map(mapping['map.continent'])\n",
    "df_table.head(5)"
   ]
  },
  {
   "cell_type": "code",
   "execution_count": 16,
   "id": "fewer-occasion",
   "metadata": {
    "execution": {
     "iopub.execute_input": "2022-12-03T00:37:10.599035Z",
     "iopub.status.busy": "2022-12-03T00:37:10.598433Z",
     "iopub.status.idle": "2022-12-03T00:37:10.603724Z",
     "shell.execute_reply": "2022-12-03T00:37:10.604198Z"
    },
    "papermill": {
     "duration": 0.038606,
     "end_time": "2022-12-03T00:37:10.604327",
     "exception": false,
     "start_time": "2022-12-03T00:37:10.565721",
     "status": "completed"
    },
    "tags": []
   },
   "outputs": [],
   "source": [
    "#hide\n",
    "#delete problematic countries from table\n",
    "df_table = df_table[~df_table['Country/Region'].isin(['Cape Verde', 'Cruise Ship', 'Kosovo'])]"
   ]
  },
  {
   "cell_type": "code",
   "execution_count": 17,
   "id": "related-center",
   "metadata": {
    "execution": {
     "iopub.execute_input": "2022-12-03T00:37:10.682568Z",
     "iopub.status.busy": "2022-12-03T00:37:10.681953Z",
     "iopub.status.idle": "2022-12-03T00:37:10.683838Z",
     "shell.execute_reply": "2022-12-03T00:37:10.684306Z"
    },
    "papermill": {
     "duration": 0.050332,
     "end_time": "2022-12-03T00:37:10.684435",
     "exception": false,
     "start_time": "2022-12-03T00:37:10.634103",
     "status": "completed"
    },
    "tags": []
   },
   "outputs": [],
   "source": [
    "#hide\n",
    "metrics = [df_table.columns[index] for index in [1,2,5,6]]\n",
    "# s_china = df_table[df_table['Country/Region'].eq('China')][metrics].sum().add_prefix('China ')\n",
    "s_us = df_table[df_table['Country/Region'].eq('US')][metrics].sum().add_prefix('US ')\n",
    "s_eu = df_table[df_table['Continent'].eq('Europe')][metrics].sum().add_prefix('EU ')\n",
    "s_ind = df_table[df_table['Country/Region'].eq('India')][metrics].sum().add_prefix('India ')\n",
    "summary = {'updated': pd.to_datetime(dt_today), 'since': pd.to_datetime(dt_yday)}\n",
    "summary = {'updated': pd.to_datetime(dt_today), 'since': pd.to_datetime(dt_yday)}\n",
    "summary = {**summary, **df_table[metrics].sum(), **s_ind, **s_us, **s_eu}"
   ]
  },
  {
   "cell_type": "code",
   "execution_count": 18,
   "id": "engaging-syndrome",
   "metadata": {
    "execution": {
     "iopub.execute_input": "2022-12-03T00:37:10.750731Z",
     "iopub.status.busy": "2022-12-03T00:37:10.750142Z",
     "iopub.status.idle": "2022-12-03T00:37:10.772023Z",
     "shell.execute_reply": "2022-12-03T00:37:10.771460Z"
    },
    "papermill": {
     "duration": 0.057613,
     "end_time": "2022-12-03T00:37:10.772161",
     "exception": false,
     "start_time": "2022-12-03T00:37:10.714548",
     "status": "completed"
    },
    "tags": []
   },
   "outputs": [],
   "source": [
    "#hide\n",
    "dft_ct_new_cases = dft_cases.groupby(COL_REGION)[dt_cols].sum().diff(axis=1).fillna(0).astype(int)"
   ]
  },
  {
   "cell_type": "code",
   "execution_count": 19,
   "id": "neutral-assignment",
   "metadata": {
    "execution": {
     "iopub.execute_input": "2022-12-03T00:37:10.835932Z",
     "iopub.status.busy": "2022-12-03T00:37:10.835348Z",
     "iopub.status.idle": "2022-12-03T00:37:10.841809Z",
     "shell.execute_reply": "2022-12-03T00:37:10.842367Z"
    },
    "papermill": {
     "duration": 0.040033,
     "end_time": "2022-12-03T00:37:10.842500",
     "exception": false,
     "start_time": "2022-12-03T00:37:10.802467",
     "status": "completed"
    },
    "tags": []
   },
   "outputs": [],
   "source": [
    "#hide\n",
    "everydaycases = dft_ct_new_cases.cumsum(axis=1)"
   ]
  },
  {
   "cell_type": "code",
   "execution_count": 20,
   "id": "parliamentary-calgary",
   "metadata": {
    "execution": {
     "iopub.execute_input": "2022-12-03T00:37:10.907931Z",
     "iopub.status.busy": "2022-12-03T00:37:10.907324Z",
     "iopub.status.idle": "2022-12-03T00:37:11.449821Z",
     "shell.execute_reply": "2022-12-03T00:37:11.450386Z"
    },
    "papermill": {
     "duration": 0.577805,
     "end_time": "2022-12-03T00:37:11.450557",
     "exception": false,
     "start_time": "2022-12-03T00:37:10.872752",
     "status": "completed"
    },
    "tags": []
   },
   "outputs": [],
   "source": [
    "#hide\n",
    "import pandas as pd\n",
    "import matplotlib.pyplot as plt\n",
    "import matplotlib.ticker as ticker\n",
    "import matplotlib.animation as animation\n",
    "from IPython.display import HTML"
   ]
  },
  {
   "cell_type": "code",
   "execution_count": 21,
   "id": "lasting-extraction",
   "metadata": {
    "execution": {
     "iopub.execute_input": "2022-12-03T00:37:11.519545Z",
     "iopub.status.busy": "2022-12-03T00:37:11.518934Z",
     "iopub.status.idle": "2022-12-03T00:37:11.527197Z",
     "shell.execute_reply": "2022-12-03T00:37:11.526700Z"
    },
    "papermill": {
     "duration": 0.046088,
     "end_time": "2022-12-03T00:37:11.527318",
     "exception": false,
     "start_time": "2022-12-03T00:37:11.481230",
     "status": "completed"
    },
    "tags": []
   },
   "outputs": [],
   "source": [
    "#hide\n",
    "t = everydaycases.stack()"
   ]
  },
  {
   "cell_type": "code",
   "execution_count": 22,
   "id": "premier-sleeve",
   "metadata": {
    "execution": {
     "iopub.execute_input": "2022-12-03T00:37:11.591395Z",
     "iopub.status.busy": "2022-12-03T00:37:11.590815Z",
     "iopub.status.idle": "2022-12-03T00:37:11.605699Z",
     "shell.execute_reply": "2022-12-03T00:37:11.606254Z"
    },
    "papermill": {
     "duration": 0.048633,
     "end_time": "2022-12-03T00:37:11.606391",
     "exception": false,
     "start_time": "2022-12-03T00:37:11.557758",
     "status": "completed"
    },
    "tags": []
   },
   "outputs": [],
   "source": [
    "#hide\n",
    "g = t.reset_index(['Country/Region'])"
   ]
  },
  {
   "cell_type": "code",
   "execution_count": 23,
   "id": "distributed-pittsburgh",
   "metadata": {
    "execution": {
     "iopub.execute_input": "2022-12-03T00:37:11.671143Z",
     "iopub.status.busy": "2022-12-03T00:37:11.670540Z",
     "iopub.status.idle": "2022-12-03T00:37:11.673169Z",
     "shell.execute_reply": "2022-12-03T00:37:11.672715Z"
    },
    "papermill": {
     "duration": 0.036989,
     "end_time": "2022-12-03T00:37:11.673281",
     "exception": false,
     "start_time": "2022-12-03T00:37:11.636292",
     "status": "completed"
    },
    "tags": []
   },
   "outputs": [],
   "source": [
    "#hide\n",
    "g.index.name = 'date'"
   ]
  },
  {
   "cell_type": "code",
   "execution_count": 24,
   "id": "naked-donor",
   "metadata": {
    "execution": {
     "iopub.execute_input": "2022-12-03T00:37:11.738081Z",
     "iopub.status.busy": "2022-12-03T00:37:11.737314Z",
     "iopub.status.idle": "2022-12-03T00:37:11.739204Z",
     "shell.execute_reply": "2022-12-03T00:37:11.739718Z"
    },
    "papermill": {
     "duration": 0.036599,
     "end_time": "2022-12-03T00:37:11.739864",
     "exception": false,
     "start_time": "2022-12-03T00:37:11.703265",
     "status": "completed"
    },
    "tags": []
   },
   "outputs": [],
   "source": [
    "# #hide\n",
    "# g = g.reset_index(['date'])"
   ]
  },
  {
   "cell_type": "code",
   "execution_count": 25,
   "id": "incomplete-mustang",
   "metadata": {
    "execution": {
     "iopub.execute_input": "2022-12-03T00:37:11.804223Z",
     "iopub.status.busy": "2022-12-03T00:37:11.803597Z",
     "iopub.status.idle": "2022-12-03T00:37:11.807575Z",
     "shell.execute_reply": "2022-12-03T00:37:11.807087Z"
    },
    "papermill": {
     "duration": 0.037548,
     "end_time": "2022-12-03T00:37:11.807689",
     "exception": false,
     "start_time": "2022-12-03T00:37:11.770141",
     "status": "completed"
    },
    "tags": []
   },
   "outputs": [],
   "source": [
    "#hide\n",
    "# g.head()"
   ]
  },
  {
   "cell_type": "code",
   "execution_count": 26,
   "id": "specific-kruger",
   "metadata": {
    "execution": {
     "iopub.execute_input": "2022-12-03T00:37:11.872843Z",
     "iopub.status.busy": "2022-12-03T00:37:11.872263Z",
     "iopub.status.idle": "2022-12-03T00:37:11.875071Z",
     "shell.execute_reply": "2022-12-03T00:37:11.874603Z"
    },
    "papermill": {
     "duration": 0.036611,
     "end_time": "2022-12-03T00:37:11.875183",
     "exception": false,
     "start_time": "2022-12-03T00:37:11.838572",
     "status": "completed"
    },
    "tags": []
   },
   "outputs": [],
   "source": [
    "#hide\n",
    "# g.columns = ['date','country','cases']"
   ]
  },
  {
   "cell_type": "code",
   "execution_count": 27,
   "id": "tender-conversion",
   "metadata": {
    "execution": {
     "iopub.execute_input": "2022-12-03T00:37:11.939182Z",
     "iopub.status.busy": "2022-12-03T00:37:11.938500Z",
     "iopub.status.idle": "2022-12-03T00:37:11.940578Z",
     "shell.execute_reply": "2022-12-03T00:37:11.941081Z"
    },
    "papermill": {
     "duration": 0.036301,
     "end_time": "2022-12-03T00:37:11.941224",
     "exception": false,
     "start_time": "2022-12-03T00:37:11.904923",
     "status": "completed"
    },
    "tags": []
   },
   "outputs": [],
   "source": [
    "#hide\n",
    "# g['continent'] = g.country"
   ]
  },
  {
   "cell_type": "code",
   "execution_count": 28,
   "id": "substantial-wilderness",
   "metadata": {
    "execution": {
     "iopub.execute_input": "2022-12-03T00:37:12.006297Z",
     "iopub.status.busy": "2022-12-03T00:37:12.005612Z",
     "iopub.status.idle": "2022-12-03T00:37:12.007958Z",
     "shell.execute_reply": "2022-12-03T00:37:12.007396Z"
    },
    "papermill": {
     "duration": 0.036406,
     "end_time": "2022-12-03T00:37:12.008068",
     "exception": false,
     "start_time": "2022-12-03T00:37:11.971662",
     "status": "completed"
    },
    "tags": []
   },
   "outputs": [],
   "source": [
    "#hide\n",
    "# cols = list(g.columns.values)"
   ]
  },
  {
   "cell_type": "code",
   "execution_count": 29,
   "id": "solved-farming",
   "metadata": {
    "execution": {
     "iopub.execute_input": "2022-12-03T00:37:12.071944Z",
     "iopub.status.busy": "2022-12-03T00:37:12.071263Z",
     "iopub.status.idle": "2022-12-03T00:37:12.073767Z",
     "shell.execute_reply": "2022-12-03T00:37:12.073099Z"
    },
    "papermill": {
     "duration": 0.036072,
     "end_time": "2022-12-03T00:37:12.073893",
     "exception": false,
     "start_time": "2022-12-03T00:37:12.037821",
     "status": "completed"
    },
    "tags": []
   },
   "outputs": [],
   "source": [
    "#hide\n",
    "# cols.insert(0, cols.pop())"
   ]
  },
  {
   "cell_type": "code",
   "execution_count": 30,
   "id": "executed-adoption",
   "metadata": {
    "execution": {
     "iopub.execute_input": "2022-12-03T00:37:12.139127Z",
     "iopub.status.busy": "2022-12-03T00:37:12.138478Z",
     "iopub.status.idle": "2022-12-03T00:37:12.140793Z",
     "shell.execute_reply": "2022-12-03T00:37:12.140193Z"
    },
    "papermill": {
     "duration": 0.036526,
     "end_time": "2022-12-03T00:37:12.140905",
     "exception": false,
     "start_time": "2022-12-03T00:37:12.104379",
     "status": "completed"
    },
    "tags": []
   },
   "outputs": [],
   "source": [
    "#hide\n",
    "# g = g[cols]"
   ]
  },
  {
   "cell_type": "code",
   "execution_count": 31,
   "id": "subject-dublin",
   "metadata": {
    "execution": {
     "iopub.execute_input": "2022-12-03T00:37:12.205457Z",
     "iopub.status.busy": "2022-12-03T00:37:12.204742Z",
     "iopub.status.idle": "2022-12-03T00:37:12.207287Z",
     "shell.execute_reply": "2022-12-03T00:37:12.206749Z"
    },
    "papermill": {
     "duration": 0.036556,
     "end_time": "2022-12-03T00:37:12.207410",
     "exception": false,
     "start_time": "2022-12-03T00:37:12.170854",
     "status": "completed"
    },
    "tags": []
   },
   "outputs": [],
   "source": [
    "#hide\n",
    "# g['continent'] = g['continent'].map(mapping['map.continent'])"
   ]
  },
  {
   "cell_type": "code",
   "execution_count": 32,
   "id": "freelance-scout",
   "metadata": {
    "execution": {
     "iopub.execute_input": "2022-12-03T00:37:12.272673Z",
     "iopub.status.busy": "2022-12-03T00:37:12.272056Z",
     "iopub.status.idle": "2022-12-03T00:37:12.274534Z",
     "shell.execute_reply": "2022-12-03T00:37:12.274064Z"
    },
    "papermill": {
     "duration": 0.036782,
     "end_time": "2022-12-03T00:37:12.274648",
     "exception": false,
     "start_time": "2022-12-03T00:37:12.237866",
     "status": "completed"
    },
    "tags": []
   },
   "outputs": [],
   "source": [
    "#hide\n",
    "# g.head()"
   ]
  },
  {
   "cell_type": "code",
   "execution_count": 33,
   "id": "limited-engine",
   "metadata": {
    "execution": {
     "iopub.execute_input": "2022-12-03T00:37:12.338428Z",
     "iopub.status.busy": "2022-12-03T00:37:12.337741Z",
     "iopub.status.idle": "2022-12-03T00:37:12.339816Z",
     "shell.execute_reply": "2022-12-03T00:37:12.340297Z"
    },
    "papermill": {
     "duration": 0.035991,
     "end_time": "2022-12-03T00:37:12.340441",
     "exception": false,
     "start_time": "2022-12-03T00:37:12.304450",
     "status": "completed"
    },
    "tags": []
   },
   "outputs": [],
   "source": [
    "# hide\n",
    "# g['date'] = g['date'].astype('datetime64[ns]')"
   ]
  },
  {
   "cell_type": "code",
   "execution_count": 34,
   "id": "sophisticated-supervisor",
   "metadata": {
    "execution": {
     "iopub.execute_input": "2022-12-03T00:37:12.404983Z",
     "iopub.status.busy": "2022-12-03T00:37:12.404383Z",
     "iopub.status.idle": "2022-12-03T00:37:12.406956Z",
     "shell.execute_reply": "2022-12-03T00:37:12.406485Z"
    },
    "papermill": {
     "duration": 0.036513,
     "end_time": "2022-12-03T00:37:12.407062",
     "exception": false,
     "start_time": "2022-12-03T00:37:12.370549",
     "status": "completed"
    },
    "tags": []
   },
   "outputs": [],
   "source": [
    "#hide\n",
    "# g['date'] = g.date.dt.dayofyear"
   ]
  },
  {
   "cell_type": "code",
   "execution_count": 35,
   "id": "inside-dubai",
   "metadata": {
    "execution": {
     "iopub.execute_input": "2022-12-03T00:37:12.470976Z",
     "iopub.status.busy": "2022-12-03T00:37:12.470299Z",
     "iopub.status.idle": "2022-12-03T00:37:12.472766Z",
     "shell.execute_reply": "2022-12-03T00:37:12.472128Z"
    },
    "papermill": {
     "duration": 0.035992,
     "end_time": "2022-12-03T00:37:12.472887",
     "exception": false,
     "start_time": "2022-12-03T00:37:12.436895",
     "status": "completed"
    },
    "tags": []
   },
   "outputs": [],
   "source": [
    "#hide\n",
    "# g = g.rename(columns= {'continent':'group','country':'name','cases':'value'})"
   ]
  },
  {
   "cell_type": "code",
   "execution_count": 36,
   "id": "fleet-motorcycle",
   "metadata": {
    "execution": {
     "iopub.execute_input": "2022-12-03T00:37:12.537972Z",
     "iopub.status.busy": "2022-12-03T00:37:12.537317Z",
     "iopub.status.idle": "2022-12-03T00:37:12.540574Z",
     "shell.execute_reply": "2022-12-03T00:37:12.540105Z"
    },
    "papermill": {
     "duration": 0.036898,
     "end_time": "2022-12-03T00:37:12.540680",
     "exception": false,
     "start_time": "2022-12-03T00:37:12.503782",
     "status": "completed"
    },
    "tags": []
   },
   "outputs": [],
   "source": [
    "#hide\n",
    "# cols = ['name','group','day','value']"
   ]
  },
  {
   "cell_type": "code",
   "execution_count": 37,
   "id": "continued-sleeping",
   "metadata": {
    "execution": {
     "iopub.execute_input": "2022-12-03T00:37:12.604845Z",
     "iopub.status.busy": "2022-12-03T00:37:12.604165Z",
     "iopub.status.idle": "2022-12-03T00:37:12.605908Z",
     "shell.execute_reply": "2022-12-03T00:37:12.606446Z"
    },
    "papermill": {
     "duration": 0.035929,
     "end_time": "2022-12-03T00:37:12.606588",
     "exception": false,
     "start_time": "2022-12-03T00:37:12.570659",
     "status": "completed"
    },
    "tags": []
   },
   "outputs": [],
   "source": [
    "#hide\n",
    "# g.rename(columns= {'date':'day'},inplace = True)"
   ]
  },
  {
   "cell_type": "code",
   "execution_count": 38,
   "id": "major-fight",
   "metadata": {
    "execution": {
     "iopub.execute_input": "2022-12-03T00:37:12.670602Z",
     "iopub.status.busy": "2022-12-03T00:37:12.669948Z",
     "iopub.status.idle": "2022-12-03T00:37:12.672358Z",
     "shell.execute_reply": "2022-12-03T00:37:12.671791Z"
    },
    "papermill": {
     "duration": 0.035841,
     "end_time": "2022-12-03T00:37:12.672472",
     "exception": false,
     "start_time": "2022-12-03T00:37:12.636631",
     "status": "completed"
    },
    "tags": []
   },
   "outputs": [],
   "source": [
    "#hide\n",
    "# g = g[cols]"
   ]
  },
  {
   "cell_type": "code",
   "execution_count": 39,
   "id": "structured-mobile",
   "metadata": {
    "execution": {
     "iopub.execute_input": "2022-12-03T00:37:12.736548Z",
     "iopub.status.busy": "2022-12-03T00:37:12.735864Z",
     "iopub.status.idle": "2022-12-03T00:37:12.739938Z",
     "shell.execute_reply": "2022-12-03T00:37:12.739466Z"
    },
    "papermill": {
     "duration": 0.037624,
     "end_time": "2022-12-03T00:37:12.740044",
     "exception": false,
     "start_time": "2022-12-03T00:37:12.702420",
     "status": "completed"
    },
    "tags": []
   },
   "outputs": [],
   "source": [
    "# #hide\n",
    "# g = g[g.group.notna()]"
   ]
  },
  {
   "cell_type": "code",
   "execution_count": 40,
   "id": "determined-closing",
   "metadata": {
    "execution": {
     "iopub.execute_input": "2022-12-03T00:37:12.805170Z",
     "iopub.status.busy": "2022-12-03T00:37:12.804475Z",
     "iopub.status.idle": "2022-12-03T00:37:12.806899Z",
     "shell.execute_reply": "2022-12-03T00:37:12.806247Z"
    },
    "papermill": {
     "duration": 0.036299,
     "end_time": "2022-12-03T00:37:12.807023",
     "exception": false,
     "start_time": "2022-12-03T00:37:12.770724",
     "status": "completed"
    },
    "tags": []
   },
   "outputs": [],
   "source": [
    "# #hide\n",
    "# colors = dict(zip(\n",
    "#     [\"Oceania\", \"Europe\", \"Asia\", \"South America\", \"Middle East\", \"North America\", \"Africa\"],\n",
    "#     [\"#adb0ff\", \"#ffb3ff\", \"#90d595\", \"#e48381\", \"#aafbff\", \"#f7bb5f\", \"#eafb50\"]\n",
    "# ))\n",
    "# group_lk = g.set_index('name')['group'].to_dict()"
   ]
  },
  {
   "cell_type": "code",
   "execution_count": null,
   "id": "gross-drinking",
   "metadata": {
    "papermill": {
     "duration": 0.0306,
     "end_time": "2022-12-03T00:37:12.867954",
     "exception": false,
     "start_time": "2022-12-03T00:37:12.837354",
     "status": "completed"
    },
    "tags": []
   },
   "outputs": [],
   "source": []
  },
  {
   "cell_type": "code",
   "execution_count": 41,
   "id": "subject-macintosh",
   "metadata": {
    "execution": {
     "iopub.execute_input": "2022-12-03T00:37:12.932443Z",
     "iopub.status.busy": "2022-12-03T00:37:12.931837Z",
     "iopub.status.idle": "2022-12-03T00:37:12.934243Z",
     "shell.execute_reply": "2022-12-03T00:37:12.934689Z"
    },
    "papermill": {
     "duration": 0.036894,
     "end_time": "2022-12-03T00:37:12.934819",
     "exception": false,
     "start_time": "2022-12-03T00:37:12.897925",
     "status": "completed"
    },
    "tags": []
   },
   "outputs": [],
   "source": [
    "# #hide\n",
    "# fig, ax = plt.subplots(figsize=(15, 8))\n",
    "\n",
    "# def draw_barchart(current_day):\n",
    "#     dff = g[g['day'].eq(current_day)].sort_values(by='value', ascending=True).tail(10)\n",
    "#     ax.clear()\n",
    "#     ax.barh(dff['name'], dff['value'], color=[colors[group_lk[x]] for x in dff['name']])\n",
    "#     dx = dff['value'].max() / 200\n",
    "    \n",
    "#     for i, (value, name) in enumerate(zip(dff['value'], dff['name'])):\n",
    "#         ax.text(value-dx, i,     name,           size=14, weight=600, ha='right', va='bottom')\n",
    "#         ax.text(value-dx, i-.25, group_lk[name], size=10, color='#444444', ha='right', va='baseline')\n",
    "#         ax.text(value+dx, i,     f'{value:,.0f}',  size=14, ha='left',  va='center')\n",
    "#     ax.text(1, 0.4, current_day, transform=ax.transAxes, color='#777777', size=46, ha='right', weight=800)\n",
    "#     ax.text(0, 1.06, 'Population (thousands)', transform=ax.transAxes, size=12, color='#777777')\n",
    "#     ax.xaxis.set_major_formatter(ticker.StrMethodFormatter('{x:,.0f}'))\n",
    "#     ax.xaxis.set_ticks_position('top')\n",
    "#     ax.tick_params(axis='x', colors='#777777', labelsize=12)\n",
    "#     ax.set_yticks([])\n",
    "#     ax.margins(0, 0.01)\n",
    "#     ax.grid(which='major', axis='x', linestyle='-')\n",
    "#     ax.set_axisbelow(True)\n",
    "    \n",
    "#     ax.text(0, 1.15, 'Coronavirus',\n",
    "#             transform=ax.transAxes, size=24, weight=600, ha='left', va='top')\n",
    "# #     ax.text(1, 0, 'by @pratapvardhan; credit @jburnmurdoch', transform=ax.transAxes, color='#777777', ha='right',\n",
    "# #             bbox=dict(facecolor='white', alpha=0.8, edgecolor='white'))\n",
    "#     plt.box(False)"
   ]
  },
  {
   "cell_type": "code",
   "execution_count": 42,
   "id": "sexual-wages",
   "metadata": {
    "execution": {
     "iopub.execute_input": "2022-12-03T00:37:12.998472Z",
     "iopub.status.busy": "2022-12-03T00:37:12.997894Z",
     "iopub.status.idle": "2022-12-03T00:37:13.000599Z",
     "shell.execute_reply": "2022-12-03T00:37:13.000036Z"
    },
    "papermill": {
     "duration": 0.036148,
     "end_time": "2022-12-03T00:37:13.000705",
     "exception": false,
     "start_time": "2022-12-03T00:37:12.964557",
     "status": "completed"
    },
    "tags": []
   },
   "outputs": [],
   "source": [
    "# #hide_input\n",
    "# fig, ax = plt.subplots(figsize=(15, 8))\n",
    "# animator = animation.FuncAnimation(fig, draw_barchart, frames=range(g.day.values.min(), g.day.values.max()))\n",
    "# HTML(animator.to_jshtml())\n",
    "# # or use animator.to_html5_video() or animator.save() "
   ]
  },
  {
   "cell_type": "code",
   "execution_count": null,
   "id": "australian-container",
   "metadata": {
    "papermill": {
     "duration": 0.029797,
     "end_time": "2022-12-03T00:37:13.060526",
     "exception": false,
     "start_time": "2022-12-03T00:37:13.030729",
     "status": "completed"
    },
    "tags": []
   },
   "outputs": [],
   "source": []
  },
  {
   "cell_type": "code",
   "execution_count": null,
   "id": "mediterranean-pontiac",
   "metadata": {
    "papermill": {
     "duration": 0.029816,
     "end_time": "2022-12-03T00:37:13.120236",
     "exception": false,
     "start_time": "2022-12-03T00:37:13.090420",
     "status": "completed"
    },
    "tags": []
   },
   "outputs": [],
   "source": []
  },
  {
   "cell_type": "code",
   "execution_count": null,
   "id": "aging-legislature",
   "metadata": {
    "papermill": {
     "duration": 0.029832,
     "end_time": "2022-12-03T00:37:13.180223",
     "exception": false,
     "start_time": "2022-12-03T00:37:13.150391",
     "status": "completed"
    },
    "tags": []
   },
   "outputs": [],
   "source": []
  }
 ],
 "metadata": {
  "kernelspec": {
   "display_name": "Python 3",
   "language": "python",
   "name": "python3"
  },
  "language_info": {
   "codemirror_mode": {
    "name": "ipython",
    "version": 3
   },
   "file_extension": ".py",
   "mimetype": "text/x-python",
   "name": "python",
   "nbconvert_exporter": "python",
   "pygments_lexer": "ipython3",
   "version": "3.6.15"
  },
  "papermill": {
   "duration": 6.079534,
   "end_time": "2022-12-03T00:37:13.629972",
   "environment_variables": {},
   "exception": null,
   "input_path": "2020-03-21-covid19exp.ipynb",
   "output_path": "2020-03-21-covid19exp.ipynb",
   "parameters": {},
   "start_time": "2022-12-03T00:37:07.550438",
   "version": "2.0.0"
  }
 },
 "nbformat": 4,
 "nbformat_minor": 5
}