{
 "cells": [
  {
   "cell_type": "markdown",
   "id": "muslim-click",
   "metadata": {
    "papermill": {
     "duration": 0.03991,
     "end_time": "2022-04-03T00:37:23.404697",
     "exception": false,
     "start_time": "2022-04-03T00:37:23.364787",
     "status": "completed"
    },
    "tags": []
   },
   "source": [
    "# COVID-19 Case Race\n",
    "> A race chart to see rising cases around the world\n",
    "\n",
    "- author: Hargun Oberoi\n",
    "- image: images/covid-overview.png\n",
    "- hide: false\n",
    "- badges: false"
   ]
  },
  {
   "cell_type": "code",
   "execution_count": 1,
   "id": "proof-material",
   "metadata": {
    "execution": {
     "iopub.execute_input": "2022-04-03T00:37:23.492047Z",
     "iopub.status.busy": "2022-04-03T00:37:23.491347Z",
     "iopub.status.idle": "2022-04-03T00:37:23.877859Z",
     "shell.execute_reply": "2022-04-03T00:37:23.878690Z"
    },
    "papermill": {
     "duration": 0.435553,
     "end_time": "2022-04-03T00:37:23.879021",
     "exception": false,
     "start_time": "2022-04-03T00:37:23.443468",
     "status": "completed"
    },
    "tags": []
   },
   "outputs": [],
   "source": [
    "#hide\n",
    "import numpy as np\n",
    "import pandas as pd\n",
    "from jinja2 import Template\n",
    "from IPython.display import HTML"
   ]
  },
  {
   "cell_type": "code",
   "execution_count": 2,
   "id": "developed-terminology",
   "metadata": {
    "execution": {
     "iopub.execute_input": "2022-04-03T00:37:23.958172Z",
     "iopub.status.busy": "2022-04-03T00:37:23.957100Z",
     "iopub.status.idle": "2022-04-03T00:37:23.962098Z",
     "shell.execute_reply": "2022-04-03T00:37:23.962576Z"
    },
    "papermill": {
     "duration": 0.047899,
     "end_time": "2022-04-03T00:37:23.962732",
     "exception": false,
     "start_time": "2022-04-03T00:37:23.914833",
     "status": "completed"
    },
    "tags": []
   },
   "outputs": [],
   "source": [
    "#hide\n",
    "\n",
    "# FETCH\n",
    "base_url = 'https://raw.githubusercontent.com/pratapvardhan/notebooks/master/covid19/'\n",
    "paths = {\n",
    "    'mapping': base_url + 'mapping_countries.csv',\n",
    "    'overview': base_url + 'overview.tpl'\n",
    "}"
   ]
  },
  {
   "cell_type": "code",
   "execution_count": 3,
   "id": "dynamic-saver",
   "metadata": {
    "execution": {
     "iopub.execute_input": "2022-04-03T00:37:24.043733Z",
     "iopub.status.busy": "2022-04-03T00:37:24.043078Z",
     "iopub.status.idle": "2022-04-03T00:37:24.045500Z",
     "shell.execute_reply": "2022-04-03T00:37:24.046081Z"
    },
    "papermill": {
     "duration": 0.049109,
     "end_time": "2022-04-03T00:37:24.046229",
     "exception": false,
     "start_time": "2022-04-03T00:37:23.997120",
     "status": "completed"
    },
    "tags": []
   },
   "outputs": [
    {
     "data": {
      "text/plain": [
       "'https://raw.githubusercontent.com/pratapvardhan/notebooks/master/covid19/mapping_countries.csv'"
      ]
     },
     "execution_count": 3,
     "metadata": {},
     "output_type": "execute_result"
    }
   ],
   "source": [
    "#hide\n",
    "paths['mapping']"
   ]
  },
  {
   "cell_type": "code",
   "execution_count": 4,
   "id": "urban-software",
   "metadata": {
    "execution": {
     "iopub.execute_input": "2022-04-03T00:37:24.125083Z",
     "iopub.status.busy": "2022-04-03T00:37:24.124440Z",
     "iopub.status.idle": "2022-04-03T00:37:24.128633Z",
     "shell.execute_reply": "2022-04-03T00:37:24.128131Z"
    },
    "papermill": {
     "duration": 0.047349,
     "end_time": "2022-04-03T00:37:24.128767",
     "exception": false,
     "start_time": "2022-04-03T00:37:24.081418",
     "status": "completed"
    },
    "tags": []
   },
   "outputs": [],
   "source": [
    "#hide\n",
    "def get_mappings(url):\n",
    "    df = pd.read_csv(url)\n",
    "    return {\n",
    "        'df': df,\n",
    "        'replace.country': dict(df.dropna(subset=['Name']).set_index('Country')['Name']),\n",
    "        'map.continent': dict(df.set_index('Name')['Continent'])\n",
    "    }"
   ]
  },
  {
   "cell_type": "code",
   "execution_count": 5,
   "id": "intimate-machinery",
   "metadata": {
    "execution": {
     "iopub.execute_input": "2022-04-03T00:37:24.207003Z",
     "iopub.status.busy": "2022-04-03T00:37:24.206362Z",
     "iopub.status.idle": "2022-04-03T00:37:24.237528Z",
     "shell.execute_reply": "2022-04-03T00:37:24.236928Z"
    },
    "papermill": {
     "duration": 0.074094,
     "end_time": "2022-04-03T00:37:24.237683",
     "exception": false,
     "start_time": "2022-04-03T00:37:24.163589",
     "status": "completed"
    },
    "tags": []
   },
   "outputs": [],
   "source": [
    "#hide\n",
    "mapping = get_mappings(paths['mapping'])"
   ]
  },
  {
   "cell_type": "code",
   "execution_count": 6,
   "id": "certified-tactics",
   "metadata": {
    "execution": {
     "iopub.execute_input": "2022-04-03T00:37:24.317629Z",
     "iopub.status.busy": "2022-04-03T00:37:24.316760Z",
     "iopub.status.idle": "2022-04-03T00:37:24.321161Z",
     "shell.execute_reply": "2022-04-03T00:37:24.320662Z"
    },
    "papermill": {
     "duration": 0.047196,
     "end_time": "2022-04-03T00:37:24.321292",
     "exception": false,
     "start_time": "2022-04-03T00:37:24.274096",
     "status": "completed"
    },
    "tags": []
   },
   "outputs": [],
   "source": [
    "#hide\n",
    "def get_template(path):\n",
    "    from urllib.parse import urlparse\n",
    "    if bool(urlparse(path).netloc):\n",
    "        from urllib.request import urlopen\n",
    "        return urlopen(path).read().decode('utf8')\n",
    "    return open(path).read()"
   ]
  },
  {
   "cell_type": "code",
   "execution_count": 7,
   "id": "realistic-blast",
   "metadata": {
    "execution": {
     "iopub.execute_input": "2022-04-03T00:37:24.396774Z",
     "iopub.status.busy": "2022-04-03T00:37:24.396153Z",
     "iopub.status.idle": "2022-04-03T00:37:24.399171Z",
     "shell.execute_reply": "2022-04-03T00:37:24.398651Z"
    },
    "papermill": {
     "duration": 0.043033,
     "end_time": "2022-04-03T00:37:24.399297",
     "exception": false,
     "start_time": "2022-04-03T00:37:24.356264",
     "status": "completed"
    },
    "tags": []
   },
   "outputs": [],
   "source": [
    "#hide\n",
    "def get_frame(name):\n",
    "    url = (\n",
    "        'https://raw.githubusercontent.com/CSSEGISandData/COVID-19/master/csse_covid_19_data/'\n",
    "        f'csse_covid_19_time_series/time_series_covid19_{name}_global.csv')\n",
    "    df = pd.read_csv(url)\n",
    "    # rename countries\n",
    "    df['Country/Region'] = df['Country/Region'].replace(mapping['replace.country'])\n",
    "    return df"
   ]
  },
  {
   "cell_type": "code",
   "execution_count": 8,
   "id": "affiliated-characterization",
   "metadata": {
    "execution": {
     "iopub.execute_input": "2022-04-03T00:37:24.479091Z",
     "iopub.status.busy": "2022-04-03T00:37:24.478078Z",
     "iopub.status.idle": "2022-04-03T00:37:24.479777Z",
     "shell.execute_reply": "2022-04-03T00:37:24.480267Z"
    },
    "papermill": {
     "duration": 0.045739,
     "end_time": "2022-04-03T00:37:24.480408",
     "exception": false,
     "start_time": "2022-04-03T00:37:24.434669",
     "status": "completed"
    },
    "tags": []
   },
   "outputs": [],
   "source": [
    "#hide\n",
    "def get_dates(df):\n",
    "    dt_cols = df.columns[~df.columns.isin(['Province/State', 'Country/Region', 'Lat', 'Long'])]\n",
    "    LAST_DATE_I = -1\n",
    "    # sometimes last column may be empty, then go backwards\n",
    "    for i in range(-1, -len(dt_cols), -1):\n",
    "        if not df[dt_cols[i]].fillna(0).eq(0).all():\n",
    "            LAST_DATE_I = i\n",
    "            break\n",
    "    return LAST_DATE_I, dt_cols"
   ]
  },
  {
   "cell_type": "code",
   "execution_count": 9,
   "id": "recent-optimization",
   "metadata": {
    "execution": {
     "iopub.execute_input": "2022-04-03T00:37:24.556807Z",
     "iopub.status.busy": "2022-04-03T00:37:24.556147Z",
     "iopub.status.idle": "2022-04-03T00:37:24.981458Z",
     "shell.execute_reply": "2022-04-03T00:37:24.982290Z"
    },
    "papermill": {
     "duration": 0.467302,
     "end_time": "2022-04-03T00:37:24.982551",
     "exception": false,
     "start_time": "2022-04-03T00:37:24.515249",
     "status": "completed"
    },
    "tags": []
   },
   "outputs": [],
   "source": [
    "#hide\n",
    "COL_REGION = 'Country/Region'\n",
    "# Confirmed, Recovered, Deaths\n",
    "df = get_frame('confirmed')\n",
    "# dft_: timeseries, dfc_: today country agg\n",
    "dft_cases = df\n",
    "dft_deaths = get_frame('deaths')\n",
    "dft_recovered = get_frame('recovered')\n",
    "LAST_DATE_I, dt_cols = get_dates(df)"
   ]
  },
  {
   "cell_type": "code",
   "execution_count": 10,
   "id": "absolute-copper",
   "metadata": {
    "execution": {
     "iopub.execute_input": "2022-04-03T00:37:25.061703Z",
     "iopub.status.busy": "2022-04-03T00:37:25.061049Z",
     "iopub.status.idle": "2022-04-03T00:37:25.063545Z",
     "shell.execute_reply": "2022-04-03T00:37:25.062907Z"
    },
    "papermill": {
     "duration": 0.044183,
     "end_time": "2022-04-03T00:37:25.063679",
     "exception": false,
     "start_time": "2022-04-03T00:37:25.019496",
     "status": "completed"
    },
    "tags": []
   },
   "outputs": [],
   "source": [
    "#hide\n",
    "LAST_DATE_I, dt_cols = get_dates(df)\n",
    "dt_today =dt_cols[LAST_DATE_I]\n",
    "# dt_5day = dt_cols[LAST_DATE_I - 5]\n",
    "dt_yday = dt_cols[LAST_DATE_I - 1]"
   ]
  },
  {
   "cell_type": "code",
   "execution_count": 11,
   "id": "restricted-sheriff",
   "metadata": {
    "execution": {
     "iopub.execute_input": "2022-04-03T00:37:25.141309Z",
     "iopub.status.busy": "2022-04-03T00:37:25.140687Z",
     "iopub.status.idle": "2022-04-03T00:37:25.149257Z",
     "shell.execute_reply": "2022-04-03T00:37:25.148759Z"
    },
    "papermill": {
     "duration": 0.050565,
     "end_time": "2022-04-03T00:37:25.149393",
     "exception": false,
     "start_time": "2022-04-03T00:37:25.098828",
     "status": "completed"
    },
    "tags": []
   },
   "outputs": [],
   "source": [
    "#hide\n",
    "dfc_cases = dft_cases.groupby(COL_REGION)[dt_today].sum()\n",
    "dfc_deaths = dft_deaths.groupby(COL_REGION)[dt_today].sum()\n",
    "# dfp_cases = dft_cases.groupby(COL_REGION)[dt_5day].sum()\n",
    "# dfp_deaths = dft_deaths.groupby(COL_REGION)[dt_5day].sum()\n",
    "dfp_cases = dft_cases.groupby(COL_REGION)[dt_yday].sum()\n",
    "dfp_deaths = dft_deaths.groupby(COL_REGION)[dt_yday].sum()"
   ]
  },
  {
   "cell_type": "code",
   "execution_count": 12,
   "id": "deluxe-hepatitis",
   "metadata": {
    "execution": {
     "iopub.execute_input": "2022-04-03T00:37:25.230111Z",
     "iopub.status.busy": "2022-04-03T00:37:25.229487Z",
     "iopub.status.idle": "2022-04-03T00:37:25.234839Z",
     "shell.execute_reply": "2022-04-03T00:37:25.235367Z"
    },
    "papermill": {
     "duration": 0.051117,
     "end_time": "2022-04-03T00:37:25.235553",
     "exception": false,
     "start_time": "2022-04-03T00:37:25.184436",
     "status": "completed"
    },
    "tags": []
   },
   "outputs": [],
   "source": [
    "#hide\n",
    "df_table = (pd.DataFrame(dict(Cases = dfc_cases, Deaths = dfc_deaths, PCases = dfp_cases, PDeaths = dfp_deaths))\n",
    "            .sort_values(by = ['Cases','Deaths'], ascending = [False, False])\n",
    "            .reset_index())"
   ]
  },
  {
   "cell_type": "code",
   "execution_count": 13,
   "id": "educational-chancellor",
   "metadata": {
    "execution": {
     "iopub.execute_input": "2022-04-03T00:37:25.327315Z",
     "iopub.status.busy": "2022-04-03T00:37:25.326682Z",
     "iopub.status.idle": "2022-04-03T00:37:25.335447Z",
     "shell.execute_reply": "2022-04-03T00:37:25.334924Z"
    },
    "papermill": {
     "duration": 0.065087,
     "end_time": "2022-04-03T00:37:25.335587",
     "exception": false,
     "start_time": "2022-04-03T00:37:25.270500",
     "status": "completed"
    },
    "tags": []
   },
   "outputs": [
    {
     "data": {
      "text/html": [
       "<div>\n",
       "<style scoped>\n",
       "    .dataframe tbody tr th:only-of-type {\n",
       "        vertical-align: middle;\n",
       "    }\n",
       "\n",
       "    .dataframe tbody tr th {\n",
       "        vertical-align: top;\n",
       "    }\n",
       "\n",
       "    .dataframe thead th {\n",
       "        text-align: right;\n",
       "    }\n",
       "</style>\n",
       "<table border=\"1\" class=\"dataframe\">\n",
       "  <thead>\n",
       "    <tr style=\"text-align: right;\">\n",
       "      <th></th>\n",
       "      <th>Country/Region</th>\n",
       "      <th>Cases</th>\n",
       "      <th>Deaths</th>\n",
       "      <th>PCases</th>\n",
       "      <th>PDeaths</th>\n",
       "      <th>Cases (+)</th>\n",
       "      <th>Deaths (+)</th>\n",
       "      <th>Fatality Rate</th>\n",
       "      <th>Continent</th>\n",
       "    </tr>\n",
       "  </thead>\n",
       "  <tbody>\n",
       "    <tr>\n",
       "      <th>0</th>\n",
       "      <td>US</td>\n",
       "      <td>80140309</td>\n",
       "      <td>982371</td>\n",
       "      <td>80102065</td>\n",
       "      <td>980638</td>\n",
       "      <td>38244</td>\n",
       "      <td>1733</td>\n",
       "      <td>1.23</td>\n",
       "      <td>North America</td>\n",
       "    </tr>\n",
       "    <tr>\n",
       "      <th>1</th>\n",
       "      <td>India</td>\n",
       "      <td>43027035</td>\n",
       "      <td>521264</td>\n",
       "      <td>43025775</td>\n",
       "      <td>521181</td>\n",
       "      <td>1260</td>\n",
       "      <td>83</td>\n",
       "      <td>1.21</td>\n",
       "      <td>Asia</td>\n",
       "    </tr>\n",
       "    <tr>\n",
       "      <th>2</th>\n",
       "      <td>Brazil</td>\n",
       "      <td>29978513</td>\n",
       "      <td>660265</td>\n",
       "      <td>29951670</td>\n",
       "      <td>660022</td>\n",
       "      <td>26843</td>\n",
       "      <td>243</td>\n",
       "      <td>2.20</td>\n",
       "      <td>South America</td>\n",
       "    </tr>\n",
       "    <tr>\n",
       "      <th>3</th>\n",
       "      <td>France</td>\n",
       "      <td>25952226</td>\n",
       "      <td>143441</td>\n",
       "      <td>25803173</td>\n",
       "      <td>143307</td>\n",
       "      <td>149053</td>\n",
       "      <td>134</td>\n",
       "      <td>0.55</td>\n",
       "      <td>Europe</td>\n",
       "    </tr>\n",
       "    <tr>\n",
       "      <th>4</th>\n",
       "      <td>Germany</td>\n",
       "      <td>21394691</td>\n",
       "      <td>129695</td>\n",
       "      <td>21394747</td>\n",
       "      <td>129708</td>\n",
       "      <td>0</td>\n",
       "      <td>0</td>\n",
       "      <td>0.61</td>\n",
       "      <td>Europe</td>\n",
       "    </tr>\n",
       "  </tbody>\n",
       "</table>\n",
       "</div>"
      ],
      "text/plain": [
       "  Country/Region     Cases  Deaths    PCases  PDeaths  Cases (+)  Deaths (+)  \\\n",
       "0             US  80140309  982371  80102065   980638      38244        1733   \n",
       "1          India  43027035  521264  43025775   521181       1260          83   \n",
       "2         Brazil  29978513  660265  29951670   660022      26843         243   \n",
       "3         France  25952226  143441  25803173   143307     149053         134   \n",
       "4        Germany  21394691  129695  21394747   129708          0           0   \n",
       "\n",
       "   Fatality Rate      Continent  \n",
       "0           1.23  North America  \n",
       "1           1.21           Asia  \n",
       "2           2.20  South America  \n",
       "3           0.55         Europe  \n",
       "4           0.61         Europe  "
      ]
     },
     "execution_count": 13,
     "metadata": {},
     "output_type": "execute_result"
    }
   ],
   "source": [
    "#hide\n",
    "for c in 'Cases, Deaths'.split(', '):\n",
    "    df_table[f'{c} (+)'] = (df_table[c] - df_table[f'P{c}']).clip(0)\n",
    "    #Clip ça veut dire, les chiffres negatif sont interdit\n",
    "df_table['Fatality Rate'] = (100* df_table['Deaths']/ df_table['Cases']).round(2)\n",
    "df_table['Continent'] = df_table['Country/Region'].map(mapping['map.continent'])\n",
    "df_table.head(5)"
   ]
  },
  {
   "cell_type": "code",
   "execution_count": 14,
   "id": "aboriginal-bulgaria",
   "metadata": {
    "execution": {
     "iopub.execute_input": "2022-04-03T00:37:25.413173Z",
     "iopub.status.busy": "2022-04-03T00:37:25.412553Z",
     "iopub.status.idle": "2022-04-03T00:37:25.415236Z",
     "shell.execute_reply": "2022-04-03T00:37:25.414715Z"
    },
    "papermill": {
     "duration": 0.044207,
     "end_time": "2022-04-03T00:37:25.415364",
     "exception": false,
     "start_time": "2022-04-03T00:37:25.371157",
     "status": "completed"
    },
    "tags": []
   },
   "outputs": [],
   "source": [
    "#hide\n",
    "#delete problematic countries from table\n",
    "df_table = df_table[~df_table['Country/Region'].isin(['Cape Verde', 'Cruise Ship', 'Kosovo'])]"
   ]
  },
  {
   "cell_type": "code",
   "execution_count": 15,
   "id": "fantastic-effect",
   "metadata": {
    "execution": {
     "iopub.execute_input": "2022-04-03T00:37:25.497320Z",
     "iopub.status.busy": "2022-04-03T00:37:25.496703Z",
     "iopub.status.idle": "2022-04-03T00:37:25.516292Z",
     "shell.execute_reply": "2022-04-03T00:37:25.516983Z"
    },
    "papermill": {
     "duration": 0.066044,
     "end_time": "2022-04-03T00:37:25.517170",
     "exception": false,
     "start_time": "2022-04-03T00:37:25.451126",
     "status": "completed"
    },
    "tags": []
   },
   "outputs": [
    {
     "data": {
      "text/html": [
       "<div>\n",
       "<style scoped>\n",
       "    .dataframe tbody tr th:only-of-type {\n",
       "        vertical-align: middle;\n",
       "    }\n",
       "\n",
       "    .dataframe tbody tr th {\n",
       "        vertical-align: top;\n",
       "    }\n",
       "\n",
       "    .dataframe thead th {\n",
       "        text-align: right;\n",
       "    }\n",
       "</style>\n",
       "<table border=\"1\" class=\"dataframe\">\n",
       "  <thead>\n",
       "    <tr style=\"text-align: right;\">\n",
       "      <th></th>\n",
       "      <th>Country/Region</th>\n",
       "      <th>Cases</th>\n",
       "      <th>Deaths</th>\n",
       "      <th>PCases</th>\n",
       "      <th>PDeaths</th>\n",
       "      <th>Cases (+)</th>\n",
       "      <th>Deaths (+)</th>\n",
       "      <th>Fatality Rate</th>\n",
       "      <th>Continent</th>\n",
       "    </tr>\n",
       "  </thead>\n",
       "  <tbody>\n",
       "    <tr>\n",
       "      <th>0</th>\n",
       "      <td>US</td>\n",
       "      <td>80140309</td>\n",
       "      <td>982371</td>\n",
       "      <td>80102065</td>\n",
       "      <td>980638</td>\n",
       "      <td>38244</td>\n",
       "      <td>1733</td>\n",
       "      <td>1.2</td>\n",
       "      <td>North America</td>\n",
       "    </tr>\n",
       "    <tr>\n",
       "      <th>1</th>\n",
       "      <td>India</td>\n",
       "      <td>43027035</td>\n",
       "      <td>521264</td>\n",
       "      <td>43025775</td>\n",
       "      <td>521181</td>\n",
       "      <td>1260</td>\n",
       "      <td>83</td>\n",
       "      <td>1.2</td>\n",
       "      <td>Asia</td>\n",
       "    </tr>\n",
       "    <tr>\n",
       "      <th>2</th>\n",
       "      <td>Brazil</td>\n",
       "      <td>29978513</td>\n",
       "      <td>660265</td>\n",
       "      <td>29951670</td>\n",
       "      <td>660022</td>\n",
       "      <td>26843</td>\n",
       "      <td>243</td>\n",
       "      <td>2.2</td>\n",
       "      <td>South America</td>\n",
       "    </tr>\n",
       "    <tr>\n",
       "      <th>3</th>\n",
       "      <td>France</td>\n",
       "      <td>25952226</td>\n",
       "      <td>143441</td>\n",
       "      <td>25803173</td>\n",
       "      <td>143307</td>\n",
       "      <td>149053</td>\n",
       "      <td>134</td>\n",
       "      <td>0.6</td>\n",
       "      <td>Europe</td>\n",
       "    </tr>\n",
       "    <tr>\n",
       "      <th>4</th>\n",
       "      <td>Germany</td>\n",
       "      <td>21394691</td>\n",
       "      <td>129695</td>\n",
       "      <td>21394747</td>\n",
       "      <td>129708</td>\n",
       "      <td>0</td>\n",
       "      <td>0</td>\n",
       "      <td>0.6</td>\n",
       "      <td>Europe</td>\n",
       "    </tr>\n",
       "  </tbody>\n",
       "</table>\n",
       "</div>"
      ],
      "text/plain": [
       "  Country/Region     Cases  Deaths    PCases  PDeaths  Cases (+)  Deaths (+)  \\\n",
       "0             US  80140309  982371  80102065   980638      38244        1733   \n",
       "1          India  43027035  521264  43025775   521181       1260          83   \n",
       "2         Brazil  29978513  660265  29951670   660022      26843         243   \n",
       "3         France  25952226  143441  25803173   143307     149053         134   \n",
       "4        Germany  21394691  129695  21394747   129708          0           0   \n",
       "\n",
       "   Fatality Rate      Continent  \n",
       "0            1.2  North America  \n",
       "1            1.2           Asia  \n",
       "2            2.2  South America  \n",
       "3            0.6         Europe  \n",
       "4            0.6         Europe  "
      ]
     },
     "execution_count": 15,
     "metadata": {},
     "output_type": "execute_result"
    }
   ],
   "source": [
    "#hide\n",
    "df_table = (pd.DataFrame(dict(Cases=dfc_cases, Deaths=dfc_deaths, PCases=dfp_cases, PDeaths=dfp_deaths))\n",
    "             .sort_values(by=['Cases', 'Deaths'], ascending=[False, False])\n",
    "             .reset_index())\n",
    "df_table.rename(columns={'index': 'Country/Region'}, inplace=True)\n",
    "for c in 'Cases, Deaths'.split(', '):\n",
    "    df_table[f'{c} (+)'] = (df_table[c] - df_table[f'P{c}']).clip(0)  # DATA BUG\n",
    "df_table['Fatality Rate'] = (100 * df_table['Deaths'] / df_table['Cases']).round(1)\n",
    "df_table['Continent'] = df_table['Country/Region'].map(mapping['map.continent'])\n",
    "df_table.head(5)"
   ]
  },
  {
   "cell_type": "code",
   "execution_count": 16,
   "id": "fewer-occasion",
   "metadata": {
    "execution": {
     "iopub.execute_input": "2022-04-03T00:37:25.597416Z",
     "iopub.status.busy": "2022-04-03T00:37:25.596767Z",
     "iopub.status.idle": "2022-04-03T00:37:25.598722Z",
     "shell.execute_reply": "2022-04-03T00:37:25.599185Z"
    },
    "papermill": {
     "duration": 0.044083,
     "end_time": "2022-04-03T00:37:25.599335",
     "exception": false,
     "start_time": "2022-04-03T00:37:25.555252",
     "status": "completed"
    },
    "tags": []
   },
   "outputs": [],
   "source": [
    "#hide\n",
    "#delete problematic countries from table\n",
    "df_table = df_table[~df_table['Country/Region'].isin(['Cape Verde', 'Cruise Ship', 'Kosovo'])]"
   ]
  },
  {
   "cell_type": "code",
   "execution_count": 17,
   "id": "related-center",
   "metadata": {
    "execution": {
     "iopub.execute_input": "2022-04-03T00:37:25.684767Z",
     "iopub.status.busy": "2022-04-03T00:37:25.684145Z",
     "iopub.status.idle": "2022-04-03T00:37:25.695337Z",
     "shell.execute_reply": "2022-04-03T00:37:25.694839Z"
    },
    "papermill": {
     "duration": 0.060196,
     "end_time": "2022-04-03T00:37:25.695493",
     "exception": false,
     "start_time": "2022-04-03T00:37:25.635297",
     "status": "completed"
    },
    "tags": []
   },
   "outputs": [],
   "source": [
    "#hide\n",
    "metrics = [df_table.columns[index] for index in [1,2,5,6]]\n",
    "# s_china = df_table[df_table['Country/Region'].eq('China')][metrics].sum().add_prefix('China ')\n",
    "s_us = df_table[df_table['Country/Region'].eq('US')][metrics].sum().add_prefix('US ')\n",
    "s_eu = df_table[df_table['Continent'].eq('Europe')][metrics].sum().add_prefix('EU ')\n",
    "s_ind = df_table[df_table['Country/Region'].eq('India')][metrics].sum().add_prefix('India ')\n",
    "summary = {'updated': pd.to_datetime(dt_today), 'since': pd.to_datetime(dt_yday)}\n",
    "summary = {'updated': pd.to_datetime(dt_today), 'since': pd.to_datetime(dt_yday)}\n",
    "summary = {**summary, **df_table[metrics].sum(), **s_ind, **s_us, **s_eu}"
   ]
  },
  {
   "cell_type": "code",
   "execution_count": 18,
   "id": "engaging-syndrome",
   "metadata": {
    "execution": {
     "iopub.execute_input": "2022-04-03T00:37:25.774777Z",
     "iopub.status.busy": "2022-04-03T00:37:25.774165Z",
     "iopub.status.idle": "2022-04-03T00:37:25.794176Z",
     "shell.execute_reply": "2022-04-03T00:37:25.793491Z"
    },
    "papermill": {
     "duration": 0.062482,
     "end_time": "2022-04-03T00:37:25.794340",
     "exception": false,
     "start_time": "2022-04-03T00:37:25.731858",
     "status": "completed"
    },
    "tags": []
   },
   "outputs": [],
   "source": [
    "#hide\n",
    "dft_ct_new_cases = dft_cases.groupby(COL_REGION)[dt_cols].sum().diff(axis=1).fillna(0).astype(int)"
   ]
  },
  {
   "cell_type": "code",
   "execution_count": 19,
   "id": "neutral-assignment",
   "metadata": {
    "execution": {
     "iopub.execute_input": "2022-04-03T00:37:25.874737Z",
     "iopub.status.busy": "2022-04-03T00:37:25.874023Z",
     "iopub.status.idle": "2022-04-03T00:37:25.875790Z",
     "shell.execute_reply": "2022-04-03T00:37:25.876354Z"
    },
    "papermill": {
     "duration": 0.045335,
     "end_time": "2022-04-03T00:37:25.876514",
     "exception": false,
     "start_time": "2022-04-03T00:37:25.831179",
     "status": "completed"
    },
    "tags": []
   },
   "outputs": [],
   "source": [
    "#hide\n",
    "everydaycases = dft_ct_new_cases.cumsum(axis=1)"
   ]
  },
  {
   "cell_type": "code",
   "execution_count": 20,
   "id": "parliamentary-calgary",
   "metadata": {
    "execution": {
     "iopub.execute_input": "2022-04-03T00:37:25.953323Z",
     "iopub.status.busy": "2022-04-03T00:37:25.952694Z",
     "iopub.status.idle": "2022-04-03T00:37:26.655845Z",
     "shell.execute_reply": "2022-04-03T00:37:26.654906Z"
    },
    "papermill": {
     "duration": 0.743284,
     "end_time": "2022-04-03T00:37:26.656078",
     "exception": false,
     "start_time": "2022-04-03T00:37:25.912794",
     "status": "completed"
    },
    "tags": []
   },
   "outputs": [],
   "source": [
    "#hide\n",
    "import pandas as pd\n",
    "import matplotlib.pyplot as plt\n",
    "import matplotlib.ticker as ticker\n",
    "import matplotlib.animation as animation\n",
    "from IPython.display import HTML"
   ]
  },
  {
   "cell_type": "code",
   "execution_count": 21,
   "id": "lasting-extraction",
   "metadata": {
    "execution": {
     "iopub.execute_input": "2022-04-03T00:37:26.737470Z",
     "iopub.status.busy": "2022-04-03T00:37:26.736844Z",
     "iopub.status.idle": "2022-04-03T00:37:26.746440Z",
     "shell.execute_reply": "2022-04-03T00:37:26.745368Z"
    },
    "papermill": {
     "duration": 0.05271,
     "end_time": "2022-04-03T00:37:26.746576",
     "exception": false,
     "start_time": "2022-04-03T00:37:26.693866",
     "status": "completed"
    },
    "tags": []
   },
   "outputs": [],
   "source": [
    "#hide\n",
    "t = everydaycases.stack()"
   ]
  },
  {
   "cell_type": "code",
   "execution_count": 22,
   "id": "premier-sleeve",
   "metadata": {
    "execution": {
     "iopub.execute_input": "2022-04-03T00:37:26.827647Z",
     "iopub.status.busy": "2022-04-03T00:37:26.822823Z",
     "iopub.status.idle": "2022-04-03T00:37:26.836113Z",
     "shell.execute_reply": "2022-04-03T00:37:26.835573Z"
    },
    "papermill": {
     "duration": 0.053439,
     "end_time": "2022-04-03T00:37:26.836244",
     "exception": false,
     "start_time": "2022-04-03T00:37:26.782805",
     "status": "completed"
    },
    "tags": []
   },
   "outputs": [],
   "source": [
    "#hide\n",
    "g = t.reset_index(['Country/Region'])"
   ]
  },
  {
   "cell_type": "code",
   "execution_count": 23,
   "id": "distributed-pittsburgh",
   "metadata": {
    "execution": {
     "iopub.execute_input": "2022-04-03T00:37:26.917731Z",
     "iopub.status.busy": "2022-04-03T00:37:26.916689Z",
     "iopub.status.idle": "2022-04-03T00:37:26.921790Z",
     "shell.execute_reply": "2022-04-03T00:37:26.922451Z"
    },
    "papermill": {
     "duration": 0.048761,
     "end_time": "2022-04-03T00:37:26.922599",
     "exception": false,
     "start_time": "2022-04-03T00:37:26.873838",
     "status": "completed"
    },
    "tags": []
   },
   "outputs": [],
   "source": [
    "#hide\n",
    "g.index.name = 'date'"
   ]
  },
  {
   "cell_type": "code",
   "execution_count": 24,
   "id": "naked-donor",
   "metadata": {
    "execution": {
     "iopub.execute_input": "2022-04-03T00:37:26.999055Z",
     "iopub.status.busy": "2022-04-03T00:37:26.998447Z",
     "iopub.status.idle": "2022-04-03T00:37:27.001129Z",
     "shell.execute_reply": "2022-04-03T00:37:27.001622Z"
    },
    "papermill": {
     "duration": 0.043001,
     "end_time": "2022-04-03T00:37:27.001771",
     "exception": false,
     "start_time": "2022-04-03T00:37:26.958770",
     "status": "completed"
    },
    "tags": []
   },
   "outputs": [],
   "source": [
    "# #hide\n",
    "# g = g.reset_index(['date'])"
   ]
  },
  {
   "cell_type": "code",
   "execution_count": 25,
   "id": "incomplete-mustang",
   "metadata": {
    "execution": {
     "iopub.execute_input": "2022-04-03T00:37:27.079945Z",
     "iopub.status.busy": "2022-04-03T00:37:27.078850Z",
     "iopub.status.idle": "2022-04-03T00:37:27.083703Z",
     "shell.execute_reply": "2022-04-03T00:37:27.082719Z"
    },
    "papermill": {
     "duration": 0.046134,
     "end_time": "2022-04-03T00:37:27.083914",
     "exception": false,
     "start_time": "2022-04-03T00:37:27.037780",
     "status": "completed"
    },
    "tags": []
   },
   "outputs": [],
   "source": [
    "#hide\n",
    "# g.head()"
   ]
  },
  {
   "cell_type": "code",
   "execution_count": 26,
   "id": "specific-kruger",
   "metadata": {
    "execution": {
     "iopub.execute_input": "2022-04-03T00:37:27.160316Z",
     "iopub.status.busy": "2022-04-03T00:37:27.159681Z",
     "iopub.status.idle": "2022-04-03T00:37:27.162561Z",
     "shell.execute_reply": "2022-04-03T00:37:27.162041Z"
    },
    "papermill": {
     "duration": 0.042294,
     "end_time": "2022-04-03T00:37:27.162686",
     "exception": false,
     "start_time": "2022-04-03T00:37:27.120392",
     "status": "completed"
    },
    "tags": []
   },
   "outputs": [],
   "source": [
    "#hide\n",
    "# g.columns = ['date','country','cases']"
   ]
  },
  {
   "cell_type": "code",
   "execution_count": 27,
   "id": "tender-conversion",
   "metadata": {
    "execution": {
     "iopub.execute_input": "2022-04-03T00:37:27.241344Z",
     "iopub.status.busy": "2022-04-03T00:37:27.240734Z",
     "iopub.status.idle": "2022-04-03T00:37:27.243324Z",
     "shell.execute_reply": "2022-04-03T00:37:27.243942Z"
    },
    "papermill": {
     "duration": 0.044524,
     "end_time": "2022-04-03T00:37:27.244086",
     "exception": false,
     "start_time": "2022-04-03T00:37:27.199562",
     "status": "completed"
    },
    "tags": []
   },
   "outputs": [],
   "source": [
    "#hide\n",
    "# g['continent'] = g.country"
   ]
  },
  {
   "cell_type": "code",
   "execution_count": 28,
   "id": "substantial-wilderness",
   "metadata": {
    "execution": {
     "iopub.execute_input": "2022-04-03T00:37:27.322846Z",
     "iopub.status.busy": "2022-04-03T00:37:27.322230Z",
     "iopub.status.idle": "2022-04-03T00:37:27.324639Z",
     "shell.execute_reply": "2022-04-03T00:37:27.325209Z"
    },
    "papermill": {
     "duration": 0.044295,
     "end_time": "2022-04-03T00:37:27.325358",
     "exception": false,
     "start_time": "2022-04-03T00:37:27.281063",
     "status": "completed"
    },
    "tags": []
   },
   "outputs": [],
   "source": [
    "#hide\n",
    "# cols = list(g.columns.values)"
   ]
  },
  {
   "cell_type": "code",
   "execution_count": 29,
   "id": "solved-farming",
   "metadata": {
    "execution": {
     "iopub.execute_input": "2022-04-03T00:37:27.403536Z",
     "iopub.status.busy": "2022-04-03T00:37:27.402793Z",
     "iopub.status.idle": "2022-04-03T00:37:27.405435Z",
     "shell.execute_reply": "2022-04-03T00:37:27.405921Z"
    },
    "papermill": {
     "duration": 0.044158,
     "end_time": "2022-04-03T00:37:27.406065",
     "exception": false,
     "start_time": "2022-04-03T00:37:27.361907",
     "status": "completed"
    },
    "tags": []
   },
   "outputs": [],
   "source": [
    "#hide\n",
    "# cols.insert(0, cols.pop())"
   ]
  },
  {
   "cell_type": "code",
   "execution_count": 30,
   "id": "executed-adoption",
   "metadata": {
    "execution": {
     "iopub.execute_input": "2022-04-03T00:37:27.495668Z",
     "iopub.status.busy": "2022-04-03T00:37:27.495003Z",
     "iopub.status.idle": "2022-04-03T00:37:27.497655Z",
     "shell.execute_reply": "2022-04-03T00:37:27.498244Z"
    },
    "papermill": {
     "duration": 0.043165,
     "end_time": "2022-04-03T00:37:27.498397",
     "exception": false,
     "start_time": "2022-04-03T00:37:27.455232",
     "status": "completed"
    },
    "tags": []
   },
   "outputs": [],
   "source": [
    "#hide\n",
    "# g = g[cols]"
   ]
  },
  {
   "cell_type": "code",
   "execution_count": 31,
   "id": "subject-dublin",
   "metadata": {
    "execution": {
     "iopub.execute_input": "2022-04-03T00:37:27.574484Z",
     "iopub.status.busy": "2022-04-03T00:37:27.573849Z",
     "iopub.status.idle": "2022-04-03T00:37:27.576507Z",
     "shell.execute_reply": "2022-04-03T00:37:27.575984Z"
    },
    "papermill": {
     "duration": 0.042494,
     "end_time": "2022-04-03T00:37:27.576636",
     "exception": false,
     "start_time": "2022-04-03T00:37:27.534142",
     "status": "completed"
    },
    "tags": []
   },
   "outputs": [],
   "source": [
    "#hide\n",
    "# g['continent'] = g['continent'].map(mapping['map.continent'])"
   ]
  },
  {
   "cell_type": "code",
   "execution_count": 32,
   "id": "freelance-scout",
   "metadata": {
    "execution": {
     "iopub.execute_input": "2022-04-03T00:37:27.662068Z",
     "iopub.status.busy": "2022-04-03T00:37:27.661243Z",
     "iopub.status.idle": "2022-04-03T00:37:27.665051Z",
     "shell.execute_reply": "2022-04-03T00:37:27.665523Z"
    },
    "papermill": {
     "duration": 0.045356,
     "end_time": "2022-04-03T00:37:27.665675",
     "exception": false,
     "start_time": "2022-04-03T00:37:27.620319",
     "status": "completed"
    },
    "tags": []
   },
   "outputs": [],
   "source": [
    "#hide\n",
    "# g.head()"
   ]
  },
  {
   "cell_type": "code",
   "execution_count": 33,
   "id": "limited-engine",
   "metadata": {
    "execution": {
     "iopub.execute_input": "2022-04-03T00:37:27.742272Z",
     "iopub.status.busy": "2022-04-03T00:37:27.741651Z",
     "iopub.status.idle": "2022-04-03T00:37:27.743845Z",
     "shell.execute_reply": "2022-04-03T00:37:27.744346Z"
    },
    "papermill": {
     "duration": 0.043093,
     "end_time": "2022-04-03T00:37:27.744495",
     "exception": false,
     "start_time": "2022-04-03T00:37:27.701402",
     "status": "completed"
    },
    "tags": []
   },
   "outputs": [],
   "source": [
    "# hide\n",
    "# g['date'] = g['date'].astype('datetime64[ns]')"
   ]
  },
  {
   "cell_type": "code",
   "execution_count": 34,
   "id": "sophisticated-supervisor",
   "metadata": {
    "execution": {
     "iopub.execute_input": "2022-04-03T00:37:27.821006Z",
     "iopub.status.busy": "2022-04-03T00:37:27.820388Z",
     "iopub.status.idle": "2022-04-03T00:37:27.822956Z",
     "shell.execute_reply": "2022-04-03T00:37:27.822469Z"
    },
    "papermill": {
     "duration": 0.042512,
     "end_time": "2022-04-03T00:37:27.823088",
     "exception": false,
     "start_time": "2022-04-03T00:37:27.780576",
     "status": "completed"
    },
    "tags": []
   },
   "outputs": [],
   "source": [
    "#hide\n",
    "# g['date'] = g.date.dt.dayofyear"
   ]
  },
  {
   "cell_type": "code",
   "execution_count": 35,
   "id": "inside-dubai",
   "metadata": {
    "execution": {
     "iopub.execute_input": "2022-04-03T00:37:27.901107Z",
     "iopub.status.busy": "2022-04-03T00:37:27.900055Z",
     "iopub.status.idle": "2022-04-03T00:37:27.902171Z",
     "shell.execute_reply": "2022-04-03T00:37:27.903030Z"
    },
    "papermill": {
     "duration": 0.044314,
     "end_time": "2022-04-03T00:37:27.903271",
     "exception": false,
     "start_time": "2022-04-03T00:37:27.858957",
     "status": "completed"
    },
    "tags": []
   },
   "outputs": [],
   "source": [
    "#hide\n",
    "# g = g.rename(columns= {'continent':'group','country':'name','cases':'value'})"
   ]
  },
  {
   "cell_type": "code",
   "execution_count": 36,
   "id": "fleet-motorcycle",
   "metadata": {
    "execution": {
     "iopub.execute_input": "2022-04-03T00:37:27.981004Z",
     "iopub.status.busy": "2022-04-03T00:37:27.980382Z",
     "iopub.status.idle": "2022-04-03T00:37:27.982915Z",
     "shell.execute_reply": "2022-04-03T00:37:27.983539Z"
    },
    "papermill": {
     "duration": 0.043792,
     "end_time": "2022-04-03T00:37:27.983692",
     "exception": false,
     "start_time": "2022-04-03T00:37:27.939900",
     "status": "completed"
    },
    "tags": []
   },
   "outputs": [],
   "source": [
    "#hide\n",
    "# cols = ['name','group','day','value']"
   ]
  },
  {
   "cell_type": "code",
   "execution_count": 37,
   "id": "continued-sleeping",
   "metadata": {
    "execution": {
     "iopub.execute_input": "2022-04-03T00:37:28.060830Z",
     "iopub.status.busy": "2022-04-03T00:37:28.060215Z",
     "iopub.status.idle": "2022-04-03T00:37:28.063194Z",
     "shell.execute_reply": "2022-04-03T00:37:28.063825Z"
    },
    "papermill": {
     "duration": 0.044201,
     "end_time": "2022-04-03T00:37:28.063982",
     "exception": false,
     "start_time": "2022-04-03T00:37:28.019781",
     "status": "completed"
    },
    "tags": []
   },
   "outputs": [],
   "source": [
    "#hide\n",
    "# g.rename(columns= {'date':'day'},inplace = True)"
   ]
  },
  {
   "cell_type": "code",
   "execution_count": 38,
   "id": "major-fight",
   "metadata": {
    "execution": {
     "iopub.execute_input": "2022-04-03T00:37:28.140412Z",
     "iopub.status.busy": "2022-04-03T00:37:28.139764Z",
     "iopub.status.idle": "2022-04-03T00:37:28.142042Z",
     "shell.execute_reply": "2022-04-03T00:37:28.141521Z"
    },
    "papermill": {
     "duration": 0.042044,
     "end_time": "2022-04-03T00:37:28.142169",
     "exception": false,
     "start_time": "2022-04-03T00:37:28.100125",
     "status": "completed"
    },
    "tags": []
   },
   "outputs": [],
   "source": [
    "#hide\n",
    "# g = g[cols]"
   ]
  },
  {
   "cell_type": "code",
   "execution_count": 39,
   "id": "structured-mobile",
   "metadata": {
    "execution": {
     "iopub.execute_input": "2022-04-03T00:37:28.219967Z",
     "iopub.status.busy": "2022-04-03T00:37:28.219264Z",
     "iopub.status.idle": "2022-04-03T00:37:28.222662Z",
     "shell.execute_reply": "2022-04-03T00:37:28.222139Z"
    },
    "papermill": {
     "duration": 0.044415,
     "end_time": "2022-04-03T00:37:28.222793",
     "exception": false,
     "start_time": "2022-04-03T00:37:28.178378",
     "status": "completed"
    },
    "tags": []
   },
   "outputs": [],
   "source": [
    "# #hide\n",
    "# g = g[g.group.notna()]"
   ]
  },
  {
   "cell_type": "code",
   "execution_count": 40,
   "id": "determined-closing",
   "metadata": {
    "execution": {
     "iopub.execute_input": "2022-04-03T00:37:28.300106Z",
     "iopub.status.busy": "2022-04-03T00:37:28.299423Z",
     "iopub.status.idle": "2022-04-03T00:37:28.302176Z",
     "shell.execute_reply": "2022-04-03T00:37:28.301650Z"
    },
    "papermill": {
     "duration": 0.043355,
     "end_time": "2022-04-03T00:37:28.302307",
     "exception": false,
     "start_time": "2022-04-03T00:37:28.258952",
     "status": "completed"
    },
    "tags": []
   },
   "outputs": [],
   "source": [
    "# #hide\n",
    "# colors = dict(zip(\n",
    "#     [\"Oceania\", \"Europe\", \"Asia\", \"South America\", \"Middle East\", \"North America\", \"Africa\"],\n",
    "#     [\"#adb0ff\", \"#ffb3ff\", \"#90d595\", \"#e48381\", \"#aafbff\", \"#f7bb5f\", \"#eafb50\"]\n",
    "# ))\n",
    "# group_lk = g.set_index('name')['group'].to_dict()"
   ]
  },
  {
   "cell_type": "code",
   "execution_count": null,
   "id": "gross-drinking",
   "metadata": {
    "papermill": {
     "duration": 0.035923,
     "end_time": "2022-04-03T00:37:28.374132",
     "exception": false,
     "start_time": "2022-04-03T00:37:28.338209",
     "status": "completed"
    },
    "tags": []
   },
   "outputs": [],
   "source": []
  },
  {
   "cell_type": "code",
   "execution_count": 41,
   "id": "subject-macintosh",
   "metadata": {
    "execution": {
     "iopub.execute_input": "2022-04-03T00:37:28.451535Z",
     "iopub.status.busy": "2022-04-03T00:37:28.450838Z",
     "iopub.status.idle": "2022-04-03T00:37:28.453046Z",
     "shell.execute_reply": "2022-04-03T00:37:28.453542Z"
    },
    "papermill": {
     "duration": 0.043465,
     "end_time": "2022-04-03T00:37:28.453692",
     "exception": false,
     "start_time": "2022-04-03T00:37:28.410227",
     "status": "completed"
    },
    "tags": []
   },
   "outputs": [],
   "source": [
    "# #hide\n",
    "# fig, ax = plt.subplots(figsize=(15, 8))\n",
    "\n",
    "# def draw_barchart(current_day):\n",
    "#     dff = g[g['day'].eq(current_day)].sort_values(by='value', ascending=True).tail(10)\n",
    "#     ax.clear()\n",
    "#     ax.barh(dff['name'], dff['value'], color=[colors[group_lk[x]] for x in dff['name']])\n",
    "#     dx = dff['value'].max() / 200\n",
    "    \n",
    "#     for i, (value, name) in enumerate(zip(dff['value'], dff['name'])):\n",
    "#         ax.text(value-dx, i,     name,           size=14, weight=600, ha='right', va='bottom')\n",
    "#         ax.text(value-dx, i-.25, group_lk[name], size=10, color='#444444', ha='right', va='baseline')\n",
    "#         ax.text(value+dx, i,     f'{value:,.0f}',  size=14, ha='left',  va='center')\n",
    "#     ax.text(1, 0.4, current_day, transform=ax.transAxes, color='#777777', size=46, ha='right', weight=800)\n",
    "#     ax.text(0, 1.06, 'Population (thousands)', transform=ax.transAxes, size=12, color='#777777')\n",
    "#     ax.xaxis.set_major_formatter(ticker.StrMethodFormatter('{x:,.0f}'))\n",
    "#     ax.xaxis.set_ticks_position('top')\n",
    "#     ax.tick_params(axis='x', colors='#777777', labelsize=12)\n",
    "#     ax.set_yticks([])\n",
    "#     ax.margins(0, 0.01)\n",
    "#     ax.grid(which='major', axis='x', linestyle='-')\n",
    "#     ax.set_axisbelow(True)\n",
    "    \n",
    "#     ax.text(0, 1.15, 'Coronavirus',\n",
    "#             transform=ax.transAxes, size=24, weight=600, ha='left', va='top')\n",
    "# #     ax.text(1, 0, 'by @pratapvardhan; credit @jburnmurdoch', transform=ax.transAxes, color='#777777', ha='right',\n",
    "# #             bbox=dict(facecolor='white', alpha=0.8, edgecolor='white'))\n",
    "#     plt.box(False)"
   ]
  },
  {
   "cell_type": "code",
   "execution_count": 42,
   "id": "sexual-wages",
   "metadata": {
    "execution": {
     "iopub.execute_input": "2022-04-03T00:37:28.531155Z",
     "iopub.status.busy": "2022-04-03T00:37:28.530529Z",
     "iopub.status.idle": "2022-04-03T00:37:28.533946Z",
     "shell.execute_reply": "2022-04-03T00:37:28.533454Z"
    },
    "papermill": {
     "duration": 0.043968,
     "end_time": "2022-04-03T00:37:28.534076",
     "exception": false,
     "start_time": "2022-04-03T00:37:28.490108",
     "status": "completed"
    },
    "tags": []
   },
   "outputs": [],
   "source": [
    "# #hide_input\n",
    "# fig, ax = plt.subplots(figsize=(15, 8))\n",
    "# animator = animation.FuncAnimation(fig, draw_barchart, frames=range(g.day.values.min(), g.day.values.max()))\n",
    "# HTML(animator.to_jshtml())\n",
    "# # or use animator.to_html5_video() or animator.save() "
   ]
  },
  {
   "cell_type": "code",
   "execution_count": null,
   "id": "australian-container",
   "metadata": {
    "papermill": {
     "duration": 0.035625,
     "end_time": "2022-04-03T00:37:28.605734",
     "exception": false,
     "start_time": "2022-04-03T00:37:28.570109",
     "status": "completed"
    },
    "tags": []
   },
   "outputs": [],
   "source": []
  },
  {
   "cell_type": "code",
   "execution_count": null,
   "id": "mediterranean-pontiac",
   "metadata": {
    "papermill": {
     "duration": 0.035835,
     "end_time": "2022-04-03T00:37:28.677269",
     "exception": false,
     "start_time": "2022-04-03T00:37:28.641434",
     "status": "completed"
    },
    "tags": []
   },
   "outputs": [],
   "source": []
  },
  {
   "cell_type": "code",
   "execution_count": null,
   "id": "aging-legislature",
   "metadata": {
    "papermill": {
     "duration": 0.03583,
     "end_time": "2022-04-03T00:37:28.749137",
     "exception": false,
     "start_time": "2022-04-03T00:37:28.713307",
     "status": "completed"
    },
    "tags": []
   },
   "outputs": [],
   "source": []
  }
 ],
 "metadata": {
  "kernelspec": {
   "display_name": "Python 3",
   "language": "python",
   "name": "python3"
  },
  "language_info": {
   "codemirror_mode": {
    "name": "ipython",
    "version": 3
   },
   "file_extension": ".py",
   "mimetype": "text/x-python",
   "name": "python",
   "nbconvert_exporter": "python",
   "pygments_lexer": "ipython3",
   "version": "3.6.15"
  },
  "papermill": {
   "duration": 7.047607,
   "end_time": "2022-04-03T00:37:29.105330",
   "environment_variables": {},
   "exception": null,
   "input_path": "2020-03-21-covid19exp.ipynb",
   "output_path": "2020-03-21-covid19exp.ipynb",
   "parameters": {},
   "start_time": "2022-04-03T00:37:22.057723",
   "version": "2.0.0"
  }
 },
 "nbformat": 4,
 "nbformat_minor": 5
}