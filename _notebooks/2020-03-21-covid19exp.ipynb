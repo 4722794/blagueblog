{
 "cells": [
  {
   "cell_type": "markdown",
   "id": "muslim-click",
   "metadata": {
    "papermill": {
     "duration": 0.065895,
     "end_time": "2021-07-09T00:19:01.760236",
     "exception": false,
     "start_time": "2021-07-09T00:19:01.694341",
     "status": "completed"
    },
    "tags": []
   },
   "source": [
    "# COVID-19 Case Race\n",
    "> A race chart to see rising cases around the world\n",
    "\n",
    "- author: Hargun Oberoi\n",
    "- image: images/covid-overview.png\n",
    "- hide: false\n",
    "- badges: false"
   ]
  },
  {
   "cell_type": "code",
   "execution_count": 1,
   "id": "proof-material",
   "metadata": {
    "execution": {
     "iopub.execute_input": "2021-07-09T00:19:01.871495Z",
     "iopub.status.busy": "2021-07-09T00:19:01.864567Z",
     "iopub.status.idle": "2021-07-09T00:19:02.203441Z",
     "shell.execute_reply": "2021-07-09T00:19:02.202895Z"
    },
    "papermill": {
     "duration": 0.403116,
     "end_time": "2021-07-09T00:19:02.203595",
     "exception": false,
     "start_time": "2021-07-09T00:19:01.800479",
     "status": "completed"
    },
    "tags": []
   },
   "outputs": [],
   "source": [
    "#hide\n",
    "import numpy as np\n",
    "import pandas as pd\n",
    "from jinja2 import Template\n",
    "from IPython.display import HTML"
   ]
  },
  {
   "cell_type": "code",
   "execution_count": 2,
   "id": "developed-terminology",
   "metadata": {
    "execution": {
     "iopub.execute_input": "2021-07-09T00:19:02.515183Z",
     "iopub.status.busy": "2021-07-09T00:19:02.514604Z",
     "iopub.status.idle": "2021-07-09T00:19:02.515944Z",
     "shell.execute_reply": "2021-07-09T00:19:02.516322Z"
    },
    "papermill": {
     "duration": 0.206092,
     "end_time": "2021-07-09T00:19:02.516456",
     "exception": false,
     "start_time": "2021-07-09T00:19:02.310364",
     "status": "completed"
    },
    "tags": []
   },
   "outputs": [],
   "source": [
    "#hide\n",
    "\n",
    "# FETCH\n",
    "base_url = 'https://raw.githubusercontent.com/pratapvardhan/notebooks/master/covid19/'\n",
    "paths = {\n",
    "    'mapping': base_url + 'mapping_countries.csv',\n",
    "    'overview': base_url + 'overview.tpl'\n",
    "}"
   ]
  },
  {
   "cell_type": "code",
   "execution_count": 3,
   "id": "dynamic-saver",
   "metadata": {
    "execution": {
     "iopub.execute_input": "2021-07-09T00:19:02.620256Z",
     "iopub.status.busy": "2021-07-09T00:19:02.619752Z",
     "iopub.status.idle": "2021-07-09T00:19:02.622538Z",
     "shell.execute_reply": "2021-07-09T00:19:02.622101Z"
    },
    "papermill": {
     "duration": 0.071078,
     "end_time": "2021-07-09T00:19:02.622646",
     "exception": false,
     "start_time": "2021-07-09T00:19:02.551568",
     "status": "completed"
    },
    "tags": []
   },
   "outputs": [
    {
     "data": {
      "text/plain": [
       "'https://raw.githubusercontent.com/pratapvardhan/notebooks/master/covid19/mapping_countries.csv'"
      ]
     },
     "execution_count": 3,
     "metadata": {},
     "output_type": "execute_result"
    }
   ],
   "source": [
    "#hide\n",
    "paths['mapping']"
   ]
  },
  {
   "cell_type": "code",
   "execution_count": 4,
   "id": "urban-software",
   "metadata": {
    "execution": {
     "iopub.execute_input": "2021-07-09T00:19:02.717277Z",
     "iopub.status.busy": "2021-07-09T00:19:02.716692Z",
     "iopub.status.idle": "2021-07-09T00:19:02.718496Z",
     "shell.execute_reply": "2021-07-09T00:19:02.718872Z"
    },
    "papermill": {
     "duration": 0.065115,
     "end_time": "2021-07-09T00:19:02.718991",
     "exception": false,
     "start_time": "2021-07-09T00:19:02.653876",
     "status": "completed"
    },
    "tags": []
   },
   "outputs": [],
   "source": [
    "#hide\n",
    "def get_mappings(url):\n",
    "    df = pd.read_csv(url)\n",
    "    return {\n",
    "        'df': df,\n",
    "        'replace.country': dict(df.dropna(subset=['Name']).set_index('Country')['Name']),\n",
    "        'map.continent': dict(df.set_index('Name')['Continent'])\n",
    "    }"
   ]
  },
  {
   "cell_type": "code",
   "execution_count": 5,
   "id": "intimate-machinery",
   "metadata": {
    "execution": {
     "iopub.execute_input": "2021-07-09T00:19:02.783821Z",
     "iopub.status.busy": "2021-07-09T00:19:02.783337Z",
     "iopub.status.idle": "2021-07-09T00:19:02.808307Z",
     "shell.execute_reply": "2021-07-09T00:19:02.807847Z"
    },
    "papermill": {
     "duration": 0.05955,
     "end_time": "2021-07-09T00:19:02.808427",
     "exception": false,
     "start_time": "2021-07-09T00:19:02.748877",
     "status": "completed"
    },
    "tags": []
   },
   "outputs": [],
   "source": [
    "#hide\n",
    "mapping = get_mappings(paths['mapping'])"
   ]
  },
  {
   "cell_type": "code",
   "execution_count": 6,
   "id": "certified-tactics",
   "metadata": {
    "execution": {
     "iopub.execute_input": "2021-07-09T00:19:02.873160Z",
     "iopub.status.busy": "2021-07-09T00:19:02.872647Z",
     "iopub.status.idle": "2021-07-09T00:19:02.874807Z",
     "shell.execute_reply": "2021-07-09T00:19:02.874412Z"
    },
    "papermill": {
     "duration": 0.036419,
     "end_time": "2021-07-09T00:19:02.874913",
     "exception": false,
     "start_time": "2021-07-09T00:19:02.838494",
     "status": "completed"
    },
    "tags": []
   },
   "outputs": [],
   "source": [
    "#hide\n",
    "def get_template(path):\n",
    "    from urllib.parse import urlparse\n",
    "    if bool(urlparse(path).netloc):\n",
    "        from urllib.request import urlopen\n",
    "        return urlopen(path).read().decode('utf8')\n",
    "    return open(path).read()"
   ]
  },
  {
   "cell_type": "code",
   "execution_count": 7,
   "id": "realistic-blast",
   "metadata": {
    "execution": {
     "iopub.execute_input": "2021-07-09T00:19:02.939251Z",
     "iopub.status.busy": "2021-07-09T00:19:02.938763Z",
     "iopub.status.idle": "2021-07-09T00:19:02.940515Z",
     "shell.execute_reply": "2021-07-09T00:19:02.940983Z"
    },
    "papermill": {
     "duration": 0.036294,
     "end_time": "2021-07-09T00:19:02.941093",
     "exception": false,
     "start_time": "2021-07-09T00:19:02.904799",
     "status": "completed"
    },
    "tags": []
   },
   "outputs": [],
   "source": [
    "#hide\n",
    "def get_frame(name):\n",
    "    url = (\n",
    "        'https://raw.githubusercontent.com/CSSEGISandData/COVID-19/master/csse_covid_19_data/'\n",
    "        f'csse_covid_19_time_series/time_series_covid19_{name}_global.csv')\n",
    "    df = pd.read_csv(url)\n",
    "    # rename countries\n",
    "    df['Country/Region'] = df['Country/Region'].replace(mapping['replace.country'])\n",
    "    return df"
   ]
  },
  {
   "cell_type": "code",
   "execution_count": 8,
   "id": "affiliated-characterization",
   "metadata": {
    "execution": {
     "iopub.execute_input": "2021-07-09T00:19:03.006445Z",
     "iopub.status.busy": "2021-07-09T00:19:03.005916Z",
     "iopub.status.idle": "2021-07-09T00:19:03.008099Z",
     "shell.execute_reply": "2021-07-09T00:19:03.007703Z"
    },
    "papermill": {
     "duration": 0.037286,
     "end_time": "2021-07-09T00:19:03.008208",
     "exception": false,
     "start_time": "2021-07-09T00:19:02.970922",
     "status": "completed"
    },
    "tags": []
   },
   "outputs": [],
   "source": [
    "#hide\n",
    "def get_dates(df):\n",
    "    dt_cols = df.columns[~df.columns.isin(['Province/State', 'Country/Region', 'Lat', 'Long'])]\n",
    "    LAST_DATE_I = -1\n",
    "    # sometimes last column may be empty, then go backwards\n",
    "    for i in range(-1, -len(dt_cols), -1):\n",
    "        if not df[dt_cols[i]].fillna(0).eq(0).all():\n",
    "            LAST_DATE_I = i\n",
    "            break\n",
    "    return LAST_DATE_I, dt_cols"
   ]
  },
  {
   "cell_type": "code",
   "execution_count": 9,
   "id": "recent-optimization",
   "metadata": {
    "execution": {
     "iopub.execute_input": "2021-07-09T00:19:03.072462Z",
     "iopub.status.busy": "2021-07-09T00:19:03.071623Z",
     "iopub.status.idle": "2021-07-09T00:19:03.331070Z",
     "shell.execute_reply": "2021-07-09T00:19:03.330564Z"
    },
    "papermill": {
     "duration": 0.293137,
     "end_time": "2021-07-09T00:19:03.331212",
     "exception": false,
     "start_time": "2021-07-09T00:19:03.038075",
     "status": "completed"
    },
    "tags": []
   },
   "outputs": [],
   "source": [
    "#hide\n",
    "COL_REGION = 'Country/Region'\n",
    "# Confirmed, Recovered, Deaths\n",
    "df = get_frame('confirmed')\n",
    "# dft_: timeseries, dfc_: today country agg\n",
    "dft_cases = df\n",
    "dft_deaths = get_frame('deaths')\n",
    "dft_recovered = get_frame('recovered')\n",
    "LAST_DATE_I, dt_cols = get_dates(df)"
   ]
  },
  {
   "cell_type": "code",
   "execution_count": 10,
   "id": "absolute-copper",
   "metadata": {
    "execution": {
     "iopub.execute_input": "2021-07-09T00:19:03.397419Z",
     "iopub.status.busy": "2021-07-09T00:19:03.396916Z",
     "iopub.status.idle": "2021-07-09T00:19:03.398607Z",
     "shell.execute_reply": "2021-07-09T00:19:03.398982Z"
    },
    "papermill": {
     "duration": 0.037074,
     "end_time": "2021-07-09T00:19:03.399104",
     "exception": false,
     "start_time": "2021-07-09T00:19:03.362030",
     "status": "completed"
    },
    "tags": []
   },
   "outputs": [],
   "source": [
    "#hide\n",
    "LAST_DATE_I, dt_cols = get_dates(df)\n",
    "dt_today =dt_cols[LAST_DATE_I]\n",
    "# dt_5day = dt_cols[LAST_DATE_I - 5]\n",
    "dt_yday = dt_cols[LAST_DATE_I - 1]"
   ]
  },
  {
   "cell_type": "code",
   "execution_count": 11,
   "id": "restricted-sheriff",
   "metadata": {
    "execution": {
     "iopub.execute_input": "2021-07-09T00:19:03.463443Z",
     "iopub.status.busy": "2021-07-09T00:19:03.462954Z",
     "iopub.status.idle": "2021-07-09T00:19:03.470653Z",
     "shell.execute_reply": "2021-07-09T00:19:03.470229Z"
    },
    "papermill": {
     "duration": 0.041903,
     "end_time": "2021-07-09T00:19:03.470751",
     "exception": false,
     "start_time": "2021-07-09T00:19:03.428848",
     "status": "completed"
    },
    "tags": []
   },
   "outputs": [],
   "source": [
    "#hide\n",
    "dfc_cases = dft_cases.groupby(COL_REGION)[dt_today].sum()\n",
    "dfc_deaths = dft_deaths.groupby(COL_REGION)[dt_today].sum()\n",
    "# dfp_cases = dft_cases.groupby(COL_REGION)[dt_5day].sum()\n",
    "# dfp_deaths = dft_deaths.groupby(COL_REGION)[dt_5day].sum()\n",
    "dfp_cases = dft_cases.groupby(COL_REGION)[dt_yday].sum()\n",
    "dfp_deaths = dft_deaths.groupby(COL_REGION)[dt_yday].sum()"
   ]
  },
  {
   "cell_type": "code",
   "execution_count": 12,
   "id": "deluxe-hepatitis",
   "metadata": {
    "execution": {
     "iopub.execute_input": "2021-07-09T00:19:03.535993Z",
     "iopub.status.busy": "2021-07-09T00:19:03.535504Z",
     "iopub.status.idle": "2021-07-09T00:19:03.540039Z",
     "shell.execute_reply": "2021-07-09T00:19:03.539646Z"
    },
    "papermill": {
     "duration": 0.039371,
     "end_time": "2021-07-09T00:19:03.540141",
     "exception": false,
     "start_time": "2021-07-09T00:19:03.500770",
     "status": "completed"
    },
    "tags": []
   },
   "outputs": [],
   "source": [
    "#hide\n",
    "df_table = (pd.DataFrame(dict(Cases = dfc_cases, Deaths = dfc_deaths, PCases = dfp_cases, PDeaths = dfp_deaths))\n",
    "            .sort_values(by = ['Cases','Deaths'], ascending = [False, False])\n",
    "            .reset_index())"
   ]
  },
  {
   "cell_type": "code",
   "execution_count": 13,
   "id": "educational-chancellor",
   "metadata": {
    "execution": {
     "iopub.execute_input": "2021-07-09T00:19:03.617298Z",
     "iopub.status.busy": "2021-07-09T00:19:03.616806Z",
     "iopub.status.idle": "2021-07-09T00:19:03.623480Z",
     "shell.execute_reply": "2021-07-09T00:19:03.623877Z"
    },
    "papermill": {
     "duration": 0.054099,
     "end_time": "2021-07-09T00:19:03.623992",
     "exception": false,
     "start_time": "2021-07-09T00:19:03.569893",
     "status": "completed"
    },
    "tags": []
   },
   "outputs": [
    {
     "data": {
      "text/html": [
       "<div>\n",
       "<style scoped>\n",
       "    .dataframe tbody tr th:only-of-type {\n",
       "        vertical-align: middle;\n",
       "    }\n",
       "\n",
       "    .dataframe tbody tr th {\n",
       "        vertical-align: top;\n",
       "    }\n",
       "\n",
       "    .dataframe thead th {\n",
       "        text-align: right;\n",
       "    }\n",
       "</style>\n",
       "<table border=\"1\" class=\"dataframe\">\n",
       "  <thead>\n",
       "    <tr style=\"text-align: right;\">\n",
       "      <th></th>\n",
       "      <th>Country/Region</th>\n",
       "      <th>Cases</th>\n",
       "      <th>Deaths</th>\n",
       "      <th>PCases</th>\n",
       "      <th>PDeaths</th>\n",
       "      <th>Cases (+)</th>\n",
       "      <th>Deaths (+)</th>\n",
       "      <th>Fatality Rate</th>\n",
       "      <th>Continent</th>\n",
       "    </tr>\n",
       "  </thead>\n",
       "  <tbody>\n",
       "    <tr>\n",
       "      <th>0</th>\n",
       "      <td>US</td>\n",
       "      <td>33770444</td>\n",
       "      <td>606218</td>\n",
       "      <td>33747513</td>\n",
       "      <td>605906</td>\n",
       "      <td>22931</td>\n",
       "      <td>312</td>\n",
       "      <td>1.80</td>\n",
       "      <td>North America</td>\n",
       "    </tr>\n",
       "    <tr>\n",
       "      <th>1</th>\n",
       "      <td>India</td>\n",
       "      <td>30709557</td>\n",
       "      <td>405028</td>\n",
       "      <td>30663665</td>\n",
       "      <td>404211</td>\n",
       "      <td>45892</td>\n",
       "      <td>817</td>\n",
       "      <td>1.32</td>\n",
       "      <td>Asia</td>\n",
       "    </tr>\n",
       "    <tr>\n",
       "      <th>2</th>\n",
       "      <td>Brazil</td>\n",
       "      <td>18909037</td>\n",
       "      <td>528540</td>\n",
       "      <td>18855015</td>\n",
       "      <td>526892</td>\n",
       "      <td>54022</td>\n",
       "      <td>1648</td>\n",
       "      <td>2.80</td>\n",
       "      <td>South America</td>\n",
       "    </tr>\n",
       "    <tr>\n",
       "      <th>3</th>\n",
       "      <td>France</td>\n",
       "      <td>5856682</td>\n",
       "      <td>111448</td>\n",
       "      <td>5852599</td>\n",
       "      <td>111420</td>\n",
       "      <td>4083</td>\n",
       "      <td>28</td>\n",
       "      <td>1.90</td>\n",
       "      <td>Europe</td>\n",
       "    </tr>\n",
       "    <tr>\n",
       "      <th>4</th>\n",
       "      <td>Russia</td>\n",
       "      <td>5614540</td>\n",
       "      <td>137718</td>\n",
       "      <td>5591030</td>\n",
       "      <td>137005</td>\n",
       "      <td>23510</td>\n",
       "      <td>713</td>\n",
       "      <td>2.45</td>\n",
       "      <td>Europe</td>\n",
       "    </tr>\n",
       "  </tbody>\n",
       "</table>\n",
       "</div>"
      ],
      "text/plain": [
       "  Country/Region     Cases  Deaths    PCases  PDeaths  Cases (+)  Deaths (+)  \\\n",
       "0             US  33770444  606218  33747513   605906      22931         312   \n",
       "1          India  30709557  405028  30663665   404211      45892         817   \n",
       "2         Brazil  18909037  528540  18855015   526892      54022        1648   \n",
       "3         France   5856682  111448   5852599   111420       4083          28   \n",
       "4         Russia   5614540  137718   5591030   137005      23510         713   \n",
       "\n",
       "   Fatality Rate      Continent  \n",
       "0           1.80  North America  \n",
       "1           1.32           Asia  \n",
       "2           2.80  South America  \n",
       "3           1.90         Europe  \n",
       "4           2.45         Europe  "
      ]
     },
     "execution_count": 13,
     "metadata": {},
     "output_type": "execute_result"
    }
   ],
   "source": [
    "#hide\n",
    "for c in 'Cases, Deaths'.split(', '):\n",
    "    df_table[f'{c} (+)'] = (df_table[c] - df_table[f'P{c}']).clip(0)\n",
    "    #Clip ça veut dire, les chiffres negatif sont interdit\n",
    "df_table['Fatality Rate'] = (100* df_table['Deaths']/ df_table['Cases']).round(2)\n",
    "df_table['Continent'] = df_table['Country/Region'].map(mapping['map.continent'])\n",
    "df_table.head(5)"
   ]
  },
  {
   "cell_type": "code",
   "execution_count": 14,
   "id": "aboriginal-bulgaria",
   "metadata": {
    "execution": {
     "iopub.execute_input": "2021-07-09T00:19:03.690443Z",
     "iopub.status.busy": "2021-07-09T00:19:03.689919Z",
     "iopub.status.idle": "2021-07-09T00:19:03.691833Z",
     "shell.execute_reply": "2021-07-09T00:19:03.692292Z"
    },
    "papermill": {
     "duration": 0.037855,
     "end_time": "2021-07-09T00:19:03.692410",
     "exception": false,
     "start_time": "2021-07-09T00:19:03.654555",
     "status": "completed"
    },
    "tags": []
   },
   "outputs": [],
   "source": [
    "#hide\n",
    "#delete problematic countries from table\n",
    "df_table = df_table[~df_table['Country/Region'].isin(['Cape Verde', 'Cruise Ship', 'Kosovo'])]"
   ]
  },
  {
   "cell_type": "code",
   "execution_count": 15,
   "id": "fantastic-effect",
   "metadata": {
    "execution": {
     "iopub.execute_input": "2021-07-09T00:19:03.760922Z",
     "iopub.status.busy": "2021-07-09T00:19:03.760428Z",
     "iopub.status.idle": "2021-07-09T00:19:03.777378Z",
     "shell.execute_reply": "2021-07-09T00:19:03.776980Z"
    },
    "papermill": {
     "duration": 0.054838,
     "end_time": "2021-07-09T00:19:03.777482",
     "exception": false,
     "start_time": "2021-07-09T00:19:03.722644",
     "status": "completed"
    },
    "tags": []
   },
   "outputs": [
    {
     "data": {
      "text/html": [
       "<div>\n",
       "<style scoped>\n",
       "    .dataframe tbody tr th:only-of-type {\n",
       "        vertical-align: middle;\n",
       "    }\n",
       "\n",
       "    .dataframe tbody tr th {\n",
       "        vertical-align: top;\n",
       "    }\n",
       "\n",
       "    .dataframe thead th {\n",
       "        text-align: right;\n",
       "    }\n",
       "</style>\n",
       "<table border=\"1\" class=\"dataframe\">\n",
       "  <thead>\n",
       "    <tr style=\"text-align: right;\">\n",
       "      <th></th>\n",
       "      <th>Country/Region</th>\n",
       "      <th>Cases</th>\n",
       "      <th>Deaths</th>\n",
       "      <th>PCases</th>\n",
       "      <th>PDeaths</th>\n",
       "      <th>Cases (+)</th>\n",
       "      <th>Deaths (+)</th>\n",
       "      <th>Fatality Rate</th>\n",
       "      <th>Continent</th>\n",
       "    </tr>\n",
       "  </thead>\n",
       "  <tbody>\n",
       "    <tr>\n",
       "      <th>0</th>\n",
       "      <td>US</td>\n",
       "      <td>33770444</td>\n",
       "      <td>606218</td>\n",
       "      <td>33747513</td>\n",
       "      <td>605906</td>\n",
       "      <td>22931</td>\n",
       "      <td>312</td>\n",
       "      <td>1.8</td>\n",
       "      <td>North America</td>\n",
       "    </tr>\n",
       "    <tr>\n",
       "      <th>1</th>\n",
       "      <td>India</td>\n",
       "      <td>30709557</td>\n",
       "      <td>405028</td>\n",
       "      <td>30663665</td>\n",
       "      <td>404211</td>\n",
       "      <td>45892</td>\n",
       "      <td>817</td>\n",
       "      <td>1.3</td>\n",
       "      <td>Asia</td>\n",
       "    </tr>\n",
       "    <tr>\n",
       "      <th>2</th>\n",
       "      <td>Brazil</td>\n",
       "      <td>18909037</td>\n",
       "      <td>528540</td>\n",
       "      <td>18855015</td>\n",
       "      <td>526892</td>\n",
       "      <td>54022</td>\n",
       "      <td>1648</td>\n",
       "      <td>2.8</td>\n",
       "      <td>South America</td>\n",
       "    </tr>\n",
       "    <tr>\n",
       "      <th>3</th>\n",
       "      <td>France</td>\n",
       "      <td>5856682</td>\n",
       "      <td>111448</td>\n",
       "      <td>5852599</td>\n",
       "      <td>111420</td>\n",
       "      <td>4083</td>\n",
       "      <td>28</td>\n",
       "      <td>1.9</td>\n",
       "      <td>Europe</td>\n",
       "    </tr>\n",
       "    <tr>\n",
       "      <th>4</th>\n",
       "      <td>Russia</td>\n",
       "      <td>5614540</td>\n",
       "      <td>137718</td>\n",
       "      <td>5591030</td>\n",
       "      <td>137005</td>\n",
       "      <td>23510</td>\n",
       "      <td>713</td>\n",
       "      <td>2.5</td>\n",
       "      <td>Europe</td>\n",
       "    </tr>\n",
       "  </tbody>\n",
       "</table>\n",
       "</div>"
      ],
      "text/plain": [
       "  Country/Region     Cases  Deaths    PCases  PDeaths  Cases (+)  Deaths (+)  \\\n",
       "0             US  33770444  606218  33747513   605906      22931         312   \n",
       "1          India  30709557  405028  30663665   404211      45892         817   \n",
       "2         Brazil  18909037  528540  18855015   526892      54022        1648   \n",
       "3         France   5856682  111448   5852599   111420       4083          28   \n",
       "4         Russia   5614540  137718   5591030   137005      23510         713   \n",
       "\n",
       "   Fatality Rate      Continent  \n",
       "0            1.8  North America  \n",
       "1            1.3           Asia  \n",
       "2            2.8  South America  \n",
       "3            1.9         Europe  \n",
       "4            2.5         Europe  "
      ]
     },
     "execution_count": 15,
     "metadata": {},
     "output_type": "execute_result"
    }
   ],
   "source": [
    "#hide\n",
    "df_table = (pd.DataFrame(dict(Cases=dfc_cases, Deaths=dfc_deaths, PCases=dfp_cases, PDeaths=dfp_deaths))\n",
    "             .sort_values(by=['Cases', 'Deaths'], ascending=[False, False])\n",
    "             .reset_index())\n",
    "df_table.rename(columns={'index': 'Country/Region'}, inplace=True)\n",
    "for c in 'Cases, Deaths'.split(', '):\n",
    "    df_table[f'{c} (+)'] = (df_table[c] - df_table[f'P{c}']).clip(0)  # DATA BUG\n",
    "df_table['Fatality Rate'] = (100 * df_table['Deaths'] / df_table['Cases']).round(1)\n",
    "df_table['Continent'] = df_table['Country/Region'].map(mapping['map.continent'])\n",
    "df_table.head(5)"
   ]
  },
  {
   "cell_type": "code",
   "execution_count": 16,
   "id": "fewer-occasion",
   "metadata": {
    "execution": {
     "iopub.execute_input": "2021-07-09T00:19:03.844679Z",
     "iopub.status.busy": "2021-07-09T00:19:03.844186Z",
     "iopub.status.idle": "2021-07-09T00:19:03.846341Z",
     "shell.execute_reply": "2021-07-09T00:19:03.845918Z"
    },
    "papermill": {
     "duration": 0.037911,
     "end_time": "2021-07-09T00:19:03.846447",
     "exception": false,
     "start_time": "2021-07-09T00:19:03.808536",
     "status": "completed"
    },
    "tags": []
   },
   "outputs": [],
   "source": [
    "#hide\n",
    "#delete problematic countries from table\n",
    "df_table = df_table[~df_table['Country/Region'].isin(['Cape Verde', 'Cruise Ship', 'Kosovo'])]"
   ]
  },
  {
   "cell_type": "code",
   "execution_count": 17,
   "id": "related-center",
   "metadata": {
    "execution": {
     "iopub.execute_input": "2021-07-09T00:19:03.925361Z",
     "iopub.status.busy": "2021-07-09T00:19:03.924858Z",
     "iopub.status.idle": "2021-07-09T00:19:03.926613Z",
     "shell.execute_reply": "2021-07-09T00:19:03.926991Z"
    },
    "papermill": {
     "duration": 0.049913,
     "end_time": "2021-07-09T00:19:03.927114",
     "exception": false,
     "start_time": "2021-07-09T00:19:03.877201",
     "status": "completed"
    },
    "tags": []
   },
   "outputs": [],
   "source": [
    "#hide\n",
    "metrics = [df_table.columns[index] for index in [1,2,5,6]]\n",
    "# s_china = df_table[df_table['Country/Region'].eq('China')][metrics].sum().add_prefix('China ')\n",
    "s_us = df_table[df_table['Country/Region'].eq('US')][metrics].sum().add_prefix('US ')\n",
    "s_eu = df_table[df_table['Continent'].eq('Europe')][metrics].sum().add_prefix('EU ')\n",
    "s_ind = df_table[df_table['Country/Region'].eq('India')][metrics].sum().add_prefix('India ')\n",
    "summary = {'updated': pd.to_datetime(dt_today), 'since': pd.to_datetime(dt_yday)}\n",
    "summary = {'updated': pd.to_datetime(dt_today), 'since': pd.to_datetime(dt_yday)}\n",
    "summary = {**summary, **df_table[metrics].sum(), **s_ind, **s_us, **s_eu}"
   ]
  },
  {
   "cell_type": "code",
   "execution_count": 18,
   "id": "engaging-syndrome",
   "metadata": {
    "execution": {
     "iopub.execute_input": "2021-07-09T00:19:03.994429Z",
     "iopub.status.busy": "2021-07-09T00:19:03.993903Z",
     "iopub.status.idle": "2021-07-09T00:19:04.005157Z",
     "shell.execute_reply": "2021-07-09T00:19:04.005582Z"
    },
    "papermill": {
     "duration": 0.047029,
     "end_time": "2021-07-09T00:19:04.005706",
     "exception": false,
     "start_time": "2021-07-09T00:19:03.958677",
     "status": "completed"
    },
    "tags": []
   },
   "outputs": [],
   "source": [
    "#hide\n",
    "dft_ct_new_cases = dft_cases.groupby(COL_REGION)[dt_cols].sum().diff(axis=1).fillna(0).astype(int)"
   ]
  },
  {
   "cell_type": "code",
   "execution_count": 19,
   "id": "neutral-assignment",
   "metadata": {
    "execution": {
     "iopub.execute_input": "2021-07-09T00:19:04.073373Z",
     "iopub.status.busy": "2021-07-09T00:19:04.072874Z",
     "iopub.status.idle": "2021-07-09T00:19:04.075141Z",
     "shell.execute_reply": "2021-07-09T00:19:04.074742Z"
    },
    "papermill": {
     "duration": 0.038644,
     "end_time": "2021-07-09T00:19:04.075247",
     "exception": false,
     "start_time": "2021-07-09T00:19:04.036603",
     "status": "completed"
    },
    "tags": []
   },
   "outputs": [],
   "source": [
    "#hide\n",
    "everydaycases = dft_ct_new_cases.cumsum(axis=1)"
   ]
  },
  {
   "cell_type": "code",
   "execution_count": 20,
   "id": "parliamentary-calgary",
   "metadata": {
    "execution": {
     "iopub.execute_input": "2021-07-09T00:19:04.140789Z",
     "iopub.status.busy": "2021-07-09T00:19:04.140301Z",
     "iopub.status.idle": "2021-07-09T00:19:04.653293Z",
     "shell.execute_reply": "2021-07-09T00:19:04.652778Z"
    },
    "papermill": {
     "duration": 0.547248,
     "end_time": "2021-07-09T00:19:04.653443",
     "exception": false,
     "start_time": "2021-07-09T00:19:04.106195",
     "status": "completed"
    },
    "tags": []
   },
   "outputs": [],
   "source": [
    "#hide\n",
    "import pandas as pd\n",
    "import matplotlib.pyplot as plt\n",
    "import matplotlib.ticker as ticker\n",
    "import matplotlib.animation as animation\n",
    "from IPython.display import HTML"
   ]
  },
  {
   "cell_type": "code",
   "execution_count": 21,
   "id": "lasting-extraction",
   "metadata": {
    "execution": {
     "iopub.execute_input": "2021-07-09T00:19:04.722210Z",
     "iopub.status.busy": "2021-07-09T00:19:04.721680Z",
     "iopub.status.idle": "2021-07-09T00:19:04.726934Z",
     "shell.execute_reply": "2021-07-09T00:19:04.727409Z"
    },
    "papermill": {
     "duration": 0.041616,
     "end_time": "2021-07-09T00:19:04.727536",
     "exception": false,
     "start_time": "2021-07-09T00:19:04.685920",
     "status": "completed"
    },
    "tags": []
   },
   "outputs": [],
   "source": [
    "#hide\n",
    "t = everydaycases.stack()"
   ]
  },
  {
   "cell_type": "code",
   "execution_count": 22,
   "id": "premier-sleeve",
   "metadata": {
    "execution": {
     "iopub.execute_input": "2021-07-09T00:19:04.793302Z",
     "iopub.status.busy": "2021-07-09T00:19:04.792792Z",
     "iopub.status.idle": "2021-07-09T00:19:04.801102Z",
     "shell.execute_reply": "2021-07-09T00:19:04.800676Z"
    },
    "papermill": {
     "duration": 0.042729,
     "end_time": "2021-07-09T00:19:04.801207",
     "exception": false,
     "start_time": "2021-07-09T00:19:04.758478",
     "status": "completed"
    },
    "tags": []
   },
   "outputs": [],
   "source": [
    "#hide\n",
    "g = t.reset_index(['Country/Region'])"
   ]
  },
  {
   "cell_type": "code",
   "execution_count": 23,
   "id": "distributed-pittsburgh",
   "metadata": {
    "execution": {
     "iopub.execute_input": "2021-07-09T00:19:04.866253Z",
     "iopub.status.busy": "2021-07-09T00:19:04.865732Z",
     "iopub.status.idle": "2021-07-09T00:19:04.867974Z",
     "shell.execute_reply": "2021-07-09T00:19:04.867579Z"
    },
    "papermill": {
     "duration": 0.036129,
     "end_time": "2021-07-09T00:19:04.868079",
     "exception": false,
     "start_time": "2021-07-09T00:19:04.831950",
     "status": "completed"
    },
    "tags": []
   },
   "outputs": [],
   "source": [
    "#hide\n",
    "g.index.name = 'date'"
   ]
  },
  {
   "cell_type": "code",
   "execution_count": 24,
   "id": "naked-donor",
   "metadata": {
    "execution": {
     "iopub.execute_input": "2021-07-09T00:19:04.932744Z",
     "iopub.status.busy": "2021-07-09T00:19:04.932250Z",
     "iopub.status.idle": "2021-07-09T00:19:04.934464Z",
     "shell.execute_reply": "2021-07-09T00:19:04.934041Z"
    },
    "papermill": {
     "duration": 0.035437,
     "end_time": "2021-07-09T00:19:04.934564",
     "exception": false,
     "start_time": "2021-07-09T00:19:04.899127",
     "status": "completed"
    },
    "tags": []
   },
   "outputs": [],
   "source": [
    "# #hide\n",
    "# g = g.reset_index(['date'])"
   ]
  },
  {
   "cell_type": "code",
   "execution_count": 25,
   "id": "incomplete-mustang",
   "metadata": {
    "execution": {
     "iopub.execute_input": "2021-07-09T00:19:04.999218Z",
     "iopub.status.busy": "2021-07-09T00:19:04.998729Z",
     "iopub.status.idle": "2021-07-09T00:19:05.000940Z",
     "shell.execute_reply": "2021-07-09T00:19:05.000545Z"
    },
    "papermill": {
     "duration": 0.035641,
     "end_time": "2021-07-09T00:19:05.001042",
     "exception": false,
     "start_time": "2021-07-09T00:19:04.965401",
     "status": "completed"
    },
    "tags": []
   },
   "outputs": [],
   "source": [
    "#hide\n",
    "# g.head()"
   ]
  },
  {
   "cell_type": "code",
   "execution_count": 26,
   "id": "specific-kruger",
   "metadata": {
    "execution": {
     "iopub.execute_input": "2021-07-09T00:19:05.065264Z",
     "iopub.status.busy": "2021-07-09T00:19:05.064778Z",
     "iopub.status.idle": "2021-07-09T00:19:05.066985Z",
     "shell.execute_reply": "2021-07-09T00:19:05.066562Z"
    },
    "papermill": {
     "duration": 0.035423,
     "end_time": "2021-07-09T00:19:05.067085",
     "exception": false,
     "start_time": "2021-07-09T00:19:05.031662",
     "status": "completed"
    },
    "tags": []
   },
   "outputs": [],
   "source": [
    "#hide\n",
    "# g.columns = ['date','country','cases']"
   ]
  },
  {
   "cell_type": "code",
   "execution_count": 27,
   "id": "tender-conversion",
   "metadata": {
    "execution": {
     "iopub.execute_input": "2021-07-09T00:19:05.132264Z",
     "iopub.status.busy": "2021-07-09T00:19:05.131762Z",
     "iopub.status.idle": "2021-07-09T00:19:05.133772Z",
     "shell.execute_reply": "2021-07-09T00:19:05.133352Z"
    },
    "papermill": {
     "duration": 0.036164,
     "end_time": "2021-07-09T00:19:05.133876",
     "exception": false,
     "start_time": "2021-07-09T00:19:05.097712",
     "status": "completed"
    },
    "tags": []
   },
   "outputs": [],
   "source": [
    "#hide\n",
    "# g['continent'] = g.country"
   ]
  },
  {
   "cell_type": "code",
   "execution_count": 28,
   "id": "substantial-wilderness",
   "metadata": {
    "execution": {
     "iopub.execute_input": "2021-07-09T00:19:05.199351Z",
     "iopub.status.busy": "2021-07-09T00:19:05.198850Z",
     "iopub.status.idle": "2021-07-09T00:19:05.200582Z",
     "shell.execute_reply": "2021-07-09T00:19:05.200959Z"
    },
    "papermill": {
     "duration": 0.036254,
     "end_time": "2021-07-09T00:19:05.201081",
     "exception": false,
     "start_time": "2021-07-09T00:19:05.164827",
     "status": "completed"
    },
    "tags": []
   },
   "outputs": [],
   "source": [
    "#hide\n",
    "# cols = list(g.columns.values)"
   ]
  },
  {
   "cell_type": "code",
   "execution_count": 29,
   "id": "solved-farming",
   "metadata": {
    "execution": {
     "iopub.execute_input": "2021-07-09T00:19:05.265691Z",
     "iopub.status.busy": "2021-07-09T00:19:05.265197Z",
     "iopub.status.idle": "2021-07-09T00:19:05.267504Z",
     "shell.execute_reply": "2021-07-09T00:19:05.267082Z"
    },
    "papermill": {
     "duration": 0.036037,
     "end_time": "2021-07-09T00:19:05.267607",
     "exception": false,
     "start_time": "2021-07-09T00:19:05.231570",
     "status": "completed"
    },
    "tags": []
   },
   "outputs": [],
   "source": [
    "#hide\n",
    "# cols.insert(0, cols.pop())"
   ]
  },
  {
   "cell_type": "code",
   "execution_count": 30,
   "id": "executed-adoption",
   "metadata": {
    "execution": {
     "iopub.execute_input": "2021-07-09T00:19:05.332908Z",
     "iopub.status.busy": "2021-07-09T00:19:05.332411Z",
     "iopub.status.idle": "2021-07-09T00:19:05.334255Z",
     "shell.execute_reply": "2021-07-09T00:19:05.334687Z"
    },
    "papermill": {
     "duration": 0.036178,
     "end_time": "2021-07-09T00:19:05.334806",
     "exception": false,
     "start_time": "2021-07-09T00:19:05.298628",
     "status": "completed"
    },
    "tags": []
   },
   "outputs": [],
   "source": [
    "#hide\n",
    "# g = g[cols]"
   ]
  },
  {
   "cell_type": "code",
   "execution_count": 31,
   "id": "subject-dublin",
   "metadata": {
    "execution": {
     "iopub.execute_input": "2021-07-09T00:19:05.400062Z",
     "iopub.status.busy": "2021-07-09T00:19:05.399555Z",
     "iopub.status.idle": "2021-07-09T00:19:05.401778Z",
     "shell.execute_reply": "2021-07-09T00:19:05.401374Z"
    },
    "papermill": {
     "duration": 0.036474,
     "end_time": "2021-07-09T00:19:05.401889",
     "exception": false,
     "start_time": "2021-07-09T00:19:05.365415",
     "status": "completed"
    },
    "tags": []
   },
   "outputs": [],
   "source": [
    "#hide\n",
    "# g['continent'] = g['continent'].map(mapping['map.continent'])"
   ]
  },
  {
   "cell_type": "code",
   "execution_count": 32,
   "id": "freelance-scout",
   "metadata": {
    "execution": {
     "iopub.execute_input": "2021-07-09T00:19:05.467044Z",
     "iopub.status.busy": "2021-07-09T00:19:05.466550Z",
     "iopub.status.idle": "2021-07-09T00:19:05.468240Z",
     "shell.execute_reply": "2021-07-09T00:19:05.468661Z"
    },
    "papermill": {
     "duration": 0.036011,
     "end_time": "2021-07-09T00:19:05.468781",
     "exception": false,
     "start_time": "2021-07-09T00:19:05.432770",
     "status": "completed"
    },
    "tags": []
   },
   "outputs": [],
   "source": [
    "#hide\n",
    "# g.head()"
   ]
  },
  {
   "cell_type": "code",
   "execution_count": 33,
   "id": "limited-engine",
   "metadata": {
    "execution": {
     "iopub.execute_input": "2021-07-09T00:19:05.533116Z",
     "iopub.status.busy": "2021-07-09T00:19:05.532631Z",
     "iopub.status.idle": "2021-07-09T00:19:05.534454Z",
     "shell.execute_reply": "2021-07-09T00:19:05.534877Z"
    },
    "papermill": {
     "duration": 0.035523,
     "end_time": "2021-07-09T00:19:05.534989",
     "exception": false,
     "start_time": "2021-07-09T00:19:05.499466",
     "status": "completed"
    },
    "tags": []
   },
   "outputs": [],
   "source": [
    "# hide\n",
    "# g['date'] = g['date'].astype('datetime64[ns]')"
   ]
  },
  {
   "cell_type": "code",
   "execution_count": 34,
   "id": "sophisticated-supervisor",
   "metadata": {
    "execution": {
     "iopub.execute_input": "2021-07-09T00:19:05.607494Z",
     "iopub.status.busy": "2021-07-09T00:19:05.606599Z",
     "iopub.status.idle": "2021-07-09T00:19:05.607958Z",
     "shell.execute_reply": "2021-07-09T00:19:05.607038Z"
    },
    "papermill": {
     "duration": 0.042439,
     "end_time": "2021-07-09T00:19:05.608055",
     "exception": false,
     "start_time": "2021-07-09T00:19:05.565616",
     "status": "completed"
    },
    "tags": []
   },
   "outputs": [],
   "source": [
    "#hide\n",
    "# g['date'] = g.date.dt.dayofyear"
   ]
  },
  {
   "cell_type": "code",
   "execution_count": 35,
   "id": "inside-dubai",
   "metadata": {
    "execution": {
     "iopub.execute_input": "2021-07-09T00:19:05.672429Z",
     "iopub.status.busy": "2021-07-09T00:19:05.671942Z",
     "iopub.status.idle": "2021-07-09T00:19:05.674346Z",
     "shell.execute_reply": "2021-07-09T00:19:05.673925Z"
    },
    "papermill": {
     "duration": 0.035788,
     "end_time": "2021-07-09T00:19:05.674447",
     "exception": false,
     "start_time": "2021-07-09T00:19:05.638659",
     "status": "completed"
    },
    "tags": []
   },
   "outputs": [],
   "source": [
    "#hide\n",
    "# g = g.rename(columns= {'continent':'group','country':'name','cases':'value'})"
   ]
  },
  {
   "cell_type": "code",
   "execution_count": 36,
   "id": "fleet-motorcycle",
   "metadata": {
    "execution": {
     "iopub.execute_input": "2021-07-09T00:19:05.739053Z",
     "iopub.status.busy": "2021-07-09T00:19:05.738556Z",
     "iopub.status.idle": "2021-07-09T00:19:05.740969Z",
     "shell.execute_reply": "2021-07-09T00:19:05.740524Z"
    },
    "papermill": {
     "duration": 0.035828,
     "end_time": "2021-07-09T00:19:05.741069",
     "exception": false,
     "start_time": "2021-07-09T00:19:05.705241",
     "status": "completed"
    },
    "tags": []
   },
   "outputs": [],
   "source": [
    "#hide\n",
    "# cols = ['name','group','day','value']"
   ]
  },
  {
   "cell_type": "code",
   "execution_count": 37,
   "id": "continued-sleeping",
   "metadata": {
    "execution": {
     "iopub.execute_input": "2021-07-09T00:19:05.805403Z",
     "iopub.status.busy": "2021-07-09T00:19:05.804914Z",
     "iopub.status.idle": "2021-07-09T00:19:05.806880Z",
     "shell.execute_reply": "2021-07-09T00:19:05.807263Z"
    },
    "papermill": {
     "duration": 0.035786,
     "end_time": "2021-07-09T00:19:05.807378",
     "exception": false,
     "start_time": "2021-07-09T00:19:05.771592",
     "status": "completed"
    },
    "tags": []
   },
   "outputs": [],
   "source": [
    "#hide\n",
    "# g.rename(columns= {'date':'day'},inplace = True)"
   ]
  },
  {
   "cell_type": "code",
   "execution_count": 38,
   "id": "major-fight",
   "metadata": {
    "execution": {
     "iopub.execute_input": "2021-07-09T00:19:05.871534Z",
     "iopub.status.busy": "2021-07-09T00:19:05.871041Z",
     "iopub.status.idle": "2021-07-09T00:19:05.873308Z",
     "shell.execute_reply": "2021-07-09T00:19:05.872912Z"
    },
    "papermill": {
     "duration": 0.035516,
     "end_time": "2021-07-09T00:19:05.873411",
     "exception": false,
     "start_time": "2021-07-09T00:19:05.837895",
     "status": "completed"
    },
    "tags": []
   },
   "outputs": [],
   "source": [
    "#hide\n",
    "# g = g[cols]"
   ]
  },
  {
   "cell_type": "code",
   "execution_count": 39,
   "id": "structured-mobile",
   "metadata": {
    "execution": {
     "iopub.execute_input": "2021-07-09T00:19:05.937536Z",
     "iopub.status.busy": "2021-07-09T00:19:05.937050Z",
     "iopub.status.idle": "2021-07-09T00:19:05.939498Z",
     "shell.execute_reply": "2021-07-09T00:19:05.939014Z"
    },
    "papermill": {
     "duration": 0.035635,
     "end_time": "2021-07-09T00:19:05.939594",
     "exception": false,
     "start_time": "2021-07-09T00:19:05.903959",
     "status": "completed"
    },
    "tags": []
   },
   "outputs": [],
   "source": [
    "# #hide\n",
    "# g = g[g.group.notna()]"
   ]
  },
  {
   "cell_type": "code",
   "execution_count": 40,
   "id": "determined-closing",
   "metadata": {
    "execution": {
     "iopub.execute_input": "2021-07-09T00:19:06.004151Z",
     "iopub.status.busy": "2021-07-09T00:19:06.003658Z",
     "iopub.status.idle": "2021-07-09T00:19:06.005830Z",
     "shell.execute_reply": "2021-07-09T00:19:06.005416Z"
    },
    "papermill": {
     "duration": 0.035445,
     "end_time": "2021-07-09T00:19:06.005927",
     "exception": false,
     "start_time": "2021-07-09T00:19:05.970482",
     "status": "completed"
    },
    "tags": []
   },
   "outputs": [],
   "source": [
    "# #hide\n",
    "# colors = dict(zip(\n",
    "#     [\"Oceania\", \"Europe\", \"Asia\", \"South America\", \"Middle East\", \"North America\", \"Africa\"],\n",
    "#     [\"#adb0ff\", \"#ffb3ff\", \"#90d595\", \"#e48381\", \"#aafbff\", \"#f7bb5f\", \"#eafb50\"]\n",
    "# ))\n",
    "# group_lk = g.set_index('name')['group'].to_dict()"
   ]
  },
  {
   "cell_type": "code",
   "execution_count": null,
   "id": "gross-drinking",
   "metadata": {
    "papermill": {
     "duration": 0.030489,
     "end_time": "2021-07-09T00:19:06.066857",
     "exception": false,
     "start_time": "2021-07-09T00:19:06.036368",
     "status": "completed"
    },
    "tags": []
   },
   "outputs": [],
   "source": []
  },
  {
   "cell_type": "code",
   "execution_count": 41,
   "id": "subject-macintosh",
   "metadata": {
    "execution": {
     "iopub.execute_input": "2021-07-09T00:19:06.131957Z",
     "iopub.status.busy": "2021-07-09T00:19:06.131442Z",
     "iopub.status.idle": "2021-07-09T00:19:06.133261Z",
     "shell.execute_reply": "2021-07-09T00:19:06.133687Z"
    },
    "papermill": {
     "duration": 0.036292,
     "end_time": "2021-07-09T00:19:06.133798",
     "exception": false,
     "start_time": "2021-07-09T00:19:06.097506",
     "status": "completed"
    },
    "tags": []
   },
   "outputs": [],
   "source": [
    "# #hide\n",
    "# fig, ax = plt.subplots(figsize=(15, 8))\n",
    "\n",
    "# def draw_barchart(current_day):\n",
    "#     dff = g[g['day'].eq(current_day)].sort_values(by='value', ascending=True).tail(10)\n",
    "#     ax.clear()\n",
    "#     ax.barh(dff['name'], dff['value'], color=[colors[group_lk[x]] for x in dff['name']])\n",
    "#     dx = dff['value'].max() / 200\n",
    "    \n",
    "#     for i, (value, name) in enumerate(zip(dff['value'], dff['name'])):\n",
    "#         ax.text(value-dx, i,     name,           size=14, weight=600, ha='right', va='bottom')\n",
    "#         ax.text(value-dx, i-.25, group_lk[name], size=10, color='#444444', ha='right', va='baseline')\n",
    "#         ax.text(value+dx, i,     f'{value:,.0f}',  size=14, ha='left',  va='center')\n",
    "#     ax.text(1, 0.4, current_day, transform=ax.transAxes, color='#777777', size=46, ha='right', weight=800)\n",
    "#     ax.text(0, 1.06, 'Population (thousands)', transform=ax.transAxes, size=12, color='#777777')\n",
    "#     ax.xaxis.set_major_formatter(ticker.StrMethodFormatter('{x:,.0f}'))\n",
    "#     ax.xaxis.set_ticks_position('top')\n",
    "#     ax.tick_params(axis='x', colors='#777777', labelsize=12)\n",
    "#     ax.set_yticks([])\n",
    "#     ax.margins(0, 0.01)\n",
    "#     ax.grid(which='major', axis='x', linestyle='-')\n",
    "#     ax.set_axisbelow(True)\n",
    "    \n",
    "#     ax.text(0, 1.15, 'Coronavirus',\n",
    "#             transform=ax.transAxes, size=24, weight=600, ha='left', va='top')\n",
    "# #     ax.text(1, 0, 'by @pratapvardhan; credit @jburnmurdoch', transform=ax.transAxes, color='#777777', ha='right',\n",
    "# #             bbox=dict(facecolor='white', alpha=0.8, edgecolor='white'))\n",
    "#     plt.box(False)"
   ]
  },
  {
   "cell_type": "code",
   "execution_count": 42,
   "id": "sexual-wages",
   "metadata": {
    "execution": {
     "iopub.execute_input": "2021-07-09T00:19:06.198150Z",
     "iopub.status.busy": "2021-07-09T00:19:06.197629Z",
     "iopub.status.idle": "2021-07-09T00:19:06.199873Z",
     "shell.execute_reply": "2021-07-09T00:19:06.199479Z"
    },
    "papermill": {
     "duration": 0.035618,
     "end_time": "2021-07-09T00:19:06.199972",
     "exception": false,
     "start_time": "2021-07-09T00:19:06.164354",
     "status": "completed"
    },
    "tags": []
   },
   "outputs": [],
   "source": [
    "# #hide_input\n",
    "# fig, ax = plt.subplots(figsize=(15, 8))\n",
    "# animator = animation.FuncAnimation(fig, draw_barchart, frames=range(g.day.values.min(), g.day.values.max()))\n",
    "# HTML(animator.to_jshtml())\n",
    "# # or use animator.to_html5_video() or animator.save() "
   ]
  },
  {
   "cell_type": "code",
   "execution_count": null,
   "id": "australian-container",
   "metadata": {
    "papermill": {
     "duration": 0.030506,
     "end_time": "2021-07-09T00:19:06.261355",
     "exception": false,
     "start_time": "2021-07-09T00:19:06.230849",
     "status": "completed"
    },
    "tags": []
   },
   "outputs": [],
   "source": []
  },
  {
   "cell_type": "code",
   "execution_count": null,
   "id": "mediterranean-pontiac",
   "metadata": {
    "papermill": {
     "duration": 0.030686,
     "end_time": "2021-07-09T00:19:06.322694",
     "exception": false,
     "start_time": "2021-07-09T00:19:06.292008",
     "status": "completed"
    },
    "tags": []
   },
   "outputs": [],
   "source": []
  },
  {
   "cell_type": "code",
   "execution_count": null,
   "id": "aging-legislature",
   "metadata": {
    "papermill": {
     "duration": 0.030886,
     "end_time": "2021-07-09T00:19:06.384560",
     "exception": false,
     "start_time": "2021-07-09T00:19:06.353674",
     "status": "completed"
    },
    "tags": []
   },
   "outputs": [],
   "source": []
  }
 ],
 "metadata": {
  "kernelspec": {
   "display_name": "Python 3",
   "language": "python",
   "name": "python3"
  },
  "language_info": {
   "codemirror_mode": {
    "name": "ipython",
    "version": 3
   },
   "file_extension": ".py",
   "mimetype": "text/x-python",
   "name": "python",
   "nbconvert_exporter": "python",
   "pygments_lexer": "ipython3",
   "version": "3.6.13"
  },
  "papermill": {
   "duration": 6.07707,
   "end_time": "2021-07-09T00:19:06.722930",
   "environment_variables": {},
   "exception": null,
   "input_path": "2020-03-21-covid19exp.ipynb",
   "output_path": "2020-03-21-covid19exp.ipynb",
   "parameters": {},
   "start_time": "2021-07-09T00:19:00.645860",
   "version": "2.0.0"
  }
 },
 "nbformat": 4,
 "nbformat_minor": 5
}