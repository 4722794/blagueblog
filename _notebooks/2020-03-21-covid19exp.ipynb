{
 "cells": [
  {
   "cell_type": "markdown",
   "id": "muslim-click",
   "metadata": {
    "papermill": {
     "duration": 0.045173,
     "end_time": "2021-07-23T00:20:50.335748",
     "exception": false,
     "start_time": "2021-07-23T00:20:50.290575",
     "status": "completed"
    },
    "tags": []
   },
   "source": [
    "# COVID-19 Case Race\n",
    "> A race chart to see rising cases around the world\n",
    "\n",
    "- author: Hargun Oberoi\n",
    "- image: images/covid-overview.png\n",
    "- hide: false\n",
    "- badges: false"
   ]
  },
  {
   "cell_type": "code",
   "execution_count": 1,
   "id": "proof-material",
   "metadata": {
    "execution": {
     "iopub.execute_input": "2021-07-23T00:20:50.418430Z",
     "iopub.status.busy": "2021-07-23T00:20:50.417703Z",
     "iopub.status.idle": "2021-07-23T00:20:50.800854Z",
     "shell.execute_reply": "2021-07-23T00:20:50.801539Z"
    },
    "papermill": {
     "duration": 0.431159,
     "end_time": "2021-07-23T00:20:50.801756",
     "exception": false,
     "start_time": "2021-07-23T00:20:50.370597",
     "status": "completed"
    },
    "tags": []
   },
   "outputs": [],
   "source": [
    "#hide\n",
    "import numpy as np\n",
    "import pandas as pd\n",
    "from jinja2 import Template\n",
    "from IPython.display import HTML"
   ]
  },
  {
   "cell_type": "code",
   "execution_count": 2,
   "id": "developed-terminology",
   "metadata": {
    "execution": {
     "iopub.execute_input": "2021-07-23T00:20:50.882398Z",
     "iopub.status.busy": "2021-07-23T00:20:50.881704Z",
     "iopub.status.idle": "2021-07-23T00:20:50.884314Z",
     "shell.execute_reply": "2021-07-23T00:20:50.883581Z"
    },
    "papermill": {
     "duration": 0.045465,
     "end_time": "2021-07-23T00:20:50.884452",
     "exception": false,
     "start_time": "2021-07-23T00:20:50.838987",
     "status": "completed"
    },
    "tags": []
   },
   "outputs": [],
   "source": [
    "#hide\n",
    "\n",
    "# FETCH\n",
    "base_url = 'https://raw.githubusercontent.com/pratapvardhan/notebooks/master/covid19/'\n",
    "paths = {\n",
    "    'mapping': base_url + 'mapping_countries.csv',\n",
    "    'overview': base_url + 'overview.tpl'\n",
    "}"
   ]
  },
  {
   "cell_type": "code",
   "execution_count": 3,
   "id": "dynamic-saver",
   "metadata": {
    "execution": {
     "iopub.execute_input": "2021-07-23T00:20:50.973267Z",
     "iopub.status.busy": "2021-07-23T00:20:50.972617Z",
     "iopub.status.idle": "2021-07-23T00:20:50.975353Z",
     "shell.execute_reply": "2021-07-23T00:20:50.975962Z"
    },
    "papermill": {
     "duration": 0.054224,
     "end_time": "2021-07-23T00:20:50.976116",
     "exception": false,
     "start_time": "2021-07-23T00:20:50.921892",
     "status": "completed"
    },
    "tags": []
   },
   "outputs": [
    {
     "data": {
      "text/plain": [
       "'https://raw.githubusercontent.com/pratapvardhan/notebooks/master/covid19/mapping_countries.csv'"
      ]
     },
     "execution_count": 3,
     "metadata": {},
     "output_type": "execute_result"
    }
   ],
   "source": [
    "#hide\n",
    "paths['mapping']"
   ]
  },
  {
   "cell_type": "code",
   "execution_count": 4,
   "id": "urban-software",
   "metadata": {
    "execution": {
     "iopub.execute_input": "2021-07-23T00:20:51.061093Z",
     "iopub.status.busy": "2021-07-23T00:20:51.060445Z",
     "iopub.status.idle": "2021-07-23T00:20:51.062261Z",
     "shell.execute_reply": "2021-07-23T00:20:51.062902Z"
    },
    "papermill": {
     "duration": 0.049148,
     "end_time": "2021-07-23T00:20:51.063059",
     "exception": false,
     "start_time": "2021-07-23T00:20:51.013911",
     "status": "completed"
    },
    "tags": []
   },
   "outputs": [],
   "source": [
    "#hide\n",
    "def get_mappings(url):\n",
    "    df = pd.read_csv(url)\n",
    "    return {\n",
    "        'df': df,\n",
    "        'replace.country': dict(df.dropna(subset=['Name']).set_index('Country')['Name']),\n",
    "        'map.continent': dict(df.set_index('Name')['Continent'])\n",
    "    }"
   ]
  },
  {
   "cell_type": "code",
   "execution_count": 5,
   "id": "intimate-machinery",
   "metadata": {
    "execution": {
     "iopub.execute_input": "2021-07-23T00:20:51.148480Z",
     "iopub.status.busy": "2021-07-23T00:20:51.147912Z",
     "iopub.status.idle": "2021-07-23T00:20:51.207941Z",
     "shell.execute_reply": "2021-07-23T00:20:51.208425Z"
    },
    "papermill": {
     "duration": 0.104418,
     "end_time": "2021-07-23T00:20:51.208603",
     "exception": false,
     "start_time": "2021-07-23T00:20:51.104185",
     "status": "completed"
    },
    "tags": []
   },
   "outputs": [],
   "source": [
    "#hide\n",
    "mapping = get_mappings(paths['mapping'])"
   ]
  },
  {
   "cell_type": "code",
   "execution_count": 6,
   "id": "certified-tactics",
   "metadata": {
    "execution": {
     "iopub.execute_input": "2021-07-23T00:20:51.313651Z",
     "iopub.status.busy": "2021-07-23T00:20:51.313013Z",
     "iopub.status.idle": "2021-07-23T00:20:51.314789Z",
     "shell.execute_reply": "2021-07-23T00:20:51.315427Z"
    },
    "papermill": {
     "duration": 0.064104,
     "end_time": "2021-07-23T00:20:51.315564",
     "exception": false,
     "start_time": "2021-07-23T00:20:51.251460",
     "status": "completed"
    },
    "tags": []
   },
   "outputs": [],
   "source": [
    "#hide\n",
    "def get_template(path):\n",
    "    from urllib.parse import urlparse\n",
    "    if bool(urlparse(path).netloc):\n",
    "        from urllib.request import urlopen\n",
    "        return urlopen(path).read().decode('utf8')\n",
    "    return open(path).read()"
   ]
  },
  {
   "cell_type": "code",
   "execution_count": 7,
   "id": "realistic-blast",
   "metadata": {
    "execution": {
     "iopub.execute_input": "2021-07-23T00:20:51.401090Z",
     "iopub.status.busy": "2021-07-23T00:20:51.400361Z",
     "iopub.status.idle": "2021-07-23T00:20:51.402425Z",
     "shell.execute_reply": "2021-07-23T00:20:51.403040Z"
    },
    "papermill": {
     "duration": 0.04866,
     "end_time": "2021-07-23T00:20:51.403179",
     "exception": false,
     "start_time": "2021-07-23T00:20:51.354519",
     "status": "completed"
    },
    "tags": []
   },
   "outputs": [],
   "source": [
    "#hide\n",
    "def get_frame(name):\n",
    "    url = (\n",
    "        'https://raw.githubusercontent.com/CSSEGISandData/COVID-19/master/csse_covid_19_data/'\n",
    "        f'csse_covid_19_time_series/time_series_covid19_{name}_global.csv')\n",
    "    df = pd.read_csv(url)\n",
    "    # rename countries\n",
    "    df['Country/Region'] = df['Country/Region'].replace(mapping['replace.country'])\n",
    "    return df"
   ]
  },
  {
   "cell_type": "code",
   "execution_count": 8,
   "id": "affiliated-characterization",
   "metadata": {
    "execution": {
     "iopub.execute_input": "2021-07-23T00:20:51.491960Z",
     "iopub.status.busy": "2021-07-23T00:20:51.491176Z",
     "iopub.status.idle": "2021-07-23T00:20:51.492857Z",
     "shell.execute_reply": "2021-07-23T00:20:51.493741Z"
    },
    "papermill": {
     "duration": 0.048844,
     "end_time": "2021-07-23T00:20:51.493878",
     "exception": false,
     "start_time": "2021-07-23T00:20:51.445034",
     "status": "completed"
    },
    "tags": []
   },
   "outputs": [],
   "source": [
    "#hide\n",
    "def get_dates(df):\n",
    "    dt_cols = df.columns[~df.columns.isin(['Province/State', 'Country/Region', 'Lat', 'Long'])]\n",
    "    LAST_DATE_I = -1\n",
    "    # sometimes last column may be empty, then go backwards\n",
    "    for i in range(-1, -len(dt_cols), -1):\n",
    "        if not df[dt_cols[i]].fillna(0).eq(0).all():\n",
    "            LAST_DATE_I = i\n",
    "            break\n",
    "    return LAST_DATE_I, dt_cols"
   ]
  },
  {
   "cell_type": "code",
   "execution_count": 9,
   "id": "recent-optimization",
   "metadata": {
    "execution": {
     "iopub.execute_input": "2021-07-23T00:20:51.572561Z",
     "iopub.status.busy": "2021-07-23T00:20:51.571919Z",
     "iopub.status.idle": "2021-07-23T00:20:51.963478Z",
     "shell.execute_reply": "2021-07-23T00:20:51.962874Z"
    },
    "papermill": {
     "duration": 0.432616,
     "end_time": "2021-07-23T00:20:51.963644",
     "exception": false,
     "start_time": "2021-07-23T00:20:51.531028",
     "status": "completed"
    },
    "tags": []
   },
   "outputs": [],
   "source": [
    "#hide\n",
    "COL_REGION = 'Country/Region'\n",
    "# Confirmed, Recovered, Deaths\n",
    "df = get_frame('confirmed')\n",
    "# dft_: timeseries, dfc_: today country agg\n",
    "dft_cases = df\n",
    "dft_deaths = get_frame('deaths')\n",
    "dft_recovered = get_frame('recovered')\n",
    "LAST_DATE_I, dt_cols = get_dates(df)"
   ]
  },
  {
   "cell_type": "code",
   "execution_count": 10,
   "id": "absolute-copper",
   "metadata": {
    "execution": {
     "iopub.execute_input": "2021-07-23T00:20:52.050534Z",
     "iopub.status.busy": "2021-07-23T00:20:52.049738Z",
     "iopub.status.idle": "2021-07-23T00:20:52.051628Z",
     "shell.execute_reply": "2021-07-23T00:20:52.052163Z"
    },
    "papermill": {
     "duration": 0.046909,
     "end_time": "2021-07-23T00:20:52.052327",
     "exception": false,
     "start_time": "2021-07-23T00:20:52.005418",
     "status": "completed"
    },
    "tags": []
   },
   "outputs": [],
   "source": [
    "#hide\n",
    "LAST_DATE_I, dt_cols = get_dates(df)\n",
    "dt_today =dt_cols[LAST_DATE_I]\n",
    "# dt_5day = dt_cols[LAST_DATE_I - 5]\n",
    "dt_yday = dt_cols[LAST_DATE_I - 1]"
   ]
  },
  {
   "cell_type": "code",
   "execution_count": 11,
   "id": "restricted-sheriff",
   "metadata": {
    "execution": {
     "iopub.execute_input": "2021-07-23T00:20:52.145423Z",
     "iopub.status.busy": "2021-07-23T00:20:52.144741Z",
     "iopub.status.idle": "2021-07-23T00:20:52.153178Z",
     "shell.execute_reply": "2021-07-23T00:20:52.153796Z"
    },
    "papermill": {
     "duration": 0.061507,
     "end_time": "2021-07-23T00:20:52.153965",
     "exception": false,
     "start_time": "2021-07-23T00:20:52.092458",
     "status": "completed"
    },
    "tags": []
   },
   "outputs": [],
   "source": [
    "#hide\n",
    "dfc_cases = dft_cases.groupby(COL_REGION)[dt_today].sum()\n",
    "dfc_deaths = dft_deaths.groupby(COL_REGION)[dt_today].sum()\n",
    "# dfp_cases = dft_cases.groupby(COL_REGION)[dt_5day].sum()\n",
    "# dfp_deaths = dft_deaths.groupby(COL_REGION)[dt_5day].sum()\n",
    "dfp_cases = dft_cases.groupby(COL_REGION)[dt_yday].sum()\n",
    "dfp_deaths = dft_deaths.groupby(COL_REGION)[dt_yday].sum()"
   ]
  },
  {
   "cell_type": "code",
   "execution_count": 12,
   "id": "deluxe-hepatitis",
   "metadata": {
    "execution": {
     "iopub.execute_input": "2021-07-23T00:20:52.243002Z",
     "iopub.status.busy": "2021-07-23T00:20:52.242369Z",
     "iopub.status.idle": "2021-07-23T00:20:52.248113Z",
     "shell.execute_reply": "2021-07-23T00:20:52.247624Z"
    },
    "papermill": {
     "duration": 0.052908,
     "end_time": "2021-07-23T00:20:52.248268",
     "exception": false,
     "start_time": "2021-07-23T00:20:52.195360",
     "status": "completed"
    },
    "tags": []
   },
   "outputs": [],
   "source": [
    "#hide\n",
    "df_table = (pd.DataFrame(dict(Cases = dfc_cases, Deaths = dfc_deaths, PCases = dfp_cases, PDeaths = dfp_deaths))\n",
    "            .sort_values(by = ['Cases','Deaths'], ascending = [False, False])\n",
    "            .reset_index())"
   ]
  },
  {
   "cell_type": "code",
   "execution_count": 13,
   "id": "educational-chancellor",
   "metadata": {
    "execution": {
     "iopub.execute_input": "2021-07-23T00:20:52.345443Z",
     "iopub.status.busy": "2021-07-23T00:20:52.344756Z",
     "iopub.status.idle": "2021-07-23T00:20:52.353045Z",
     "shell.execute_reply": "2021-07-23T00:20:52.353549Z"
    },
    "papermill": {
     "duration": 0.068591,
     "end_time": "2021-07-23T00:20:52.353714",
     "exception": false,
     "start_time": "2021-07-23T00:20:52.285123",
     "status": "completed"
    },
    "tags": []
   },
   "outputs": [
    {
     "data": {
      "text/html": [
       "<div>\n",
       "<style scoped>\n",
       "    .dataframe tbody tr th:only-of-type {\n",
       "        vertical-align: middle;\n",
       "    }\n",
       "\n",
       "    .dataframe tbody tr th {\n",
       "        vertical-align: top;\n",
       "    }\n",
       "\n",
       "    .dataframe thead th {\n",
       "        text-align: right;\n",
       "    }\n",
       "</style>\n",
       "<table border=\"1\" class=\"dataframe\">\n",
       "  <thead>\n",
       "    <tr style=\"text-align: right;\">\n",
       "      <th></th>\n",
       "      <th>Country/Region</th>\n",
       "      <th>Cases</th>\n",
       "      <th>Deaths</th>\n",
       "      <th>PCases</th>\n",
       "      <th>PDeaths</th>\n",
       "      <th>Cases (+)</th>\n",
       "      <th>Deaths (+)</th>\n",
       "      <th>Fatality Rate</th>\n",
       "      <th>Continent</th>\n",
       "    </tr>\n",
       "  </thead>\n",
       "  <tbody>\n",
       "    <tr>\n",
       "      <th>0</th>\n",
       "      <td>US</td>\n",
       "      <td>34226806</td>\n",
       "      <td>609862</td>\n",
       "      <td>34174774</td>\n",
       "      <td>609529</td>\n",
       "      <td>52032</td>\n",
       "      <td>333</td>\n",
       "      <td>1.78</td>\n",
       "      <td>North America</td>\n",
       "    </tr>\n",
       "    <tr>\n",
       "      <th>1</th>\n",
       "      <td>India</td>\n",
       "      <td>31257720</td>\n",
       "      <td>418987</td>\n",
       "      <td>31216337</td>\n",
       "      <td>418480</td>\n",
       "      <td>41383</td>\n",
       "      <td>507</td>\n",
       "      <td>1.34</td>\n",
       "      <td>Asia</td>\n",
       "    </tr>\n",
       "    <tr>\n",
       "      <th>2</th>\n",
       "      <td>Brazil</td>\n",
       "      <td>19473954</td>\n",
       "      <td>545604</td>\n",
       "      <td>19419437</td>\n",
       "      <td>544180</td>\n",
       "      <td>54517</td>\n",
       "      <td>1424</td>\n",
       "      <td>2.80</td>\n",
       "      <td>South America</td>\n",
       "    </tr>\n",
       "    <tr>\n",
       "      <th>3</th>\n",
       "      <td>France</td>\n",
       "      <td>5973912</td>\n",
       "      <td>111737</td>\n",
       "      <td>5952339</td>\n",
       "      <td>111715</td>\n",
       "      <td>21573</td>\n",
       "      <td>22</td>\n",
       "      <td>1.87</td>\n",
       "      <td>Europe</td>\n",
       "    </tr>\n",
       "    <tr>\n",
       "      <th>4</th>\n",
       "      <td>Russia</td>\n",
       "      <td>5955089</td>\n",
       "      <td>148229</td>\n",
       "      <td>5931925</td>\n",
       "      <td>147457</td>\n",
       "      <td>23164</td>\n",
       "      <td>772</td>\n",
       "      <td>2.49</td>\n",
       "      <td>Europe</td>\n",
       "    </tr>\n",
       "  </tbody>\n",
       "</table>\n",
       "</div>"
      ],
      "text/plain": [
       "  Country/Region     Cases  Deaths    PCases  PDeaths  Cases (+)  Deaths (+)  \\\n",
       "0             US  34226806  609862  34174774   609529      52032         333   \n",
       "1          India  31257720  418987  31216337   418480      41383         507   \n",
       "2         Brazil  19473954  545604  19419437   544180      54517        1424   \n",
       "3         France   5973912  111737   5952339   111715      21573          22   \n",
       "4         Russia   5955089  148229   5931925   147457      23164         772   \n",
       "\n",
       "   Fatality Rate      Continent  \n",
       "0           1.78  North America  \n",
       "1           1.34           Asia  \n",
       "2           2.80  South America  \n",
       "3           1.87         Europe  \n",
       "4           2.49         Europe  "
      ]
     },
     "execution_count": 13,
     "metadata": {},
     "output_type": "execute_result"
    }
   ],
   "source": [
    "#hide\n",
    "for c in 'Cases, Deaths'.split(', '):\n",
    "    df_table[f'{c} (+)'] = (df_table[c] - df_table[f'P{c}']).clip(0)\n",
    "    #Clip ça veut dire, les chiffres negatif sont interdit\n",
    "df_table['Fatality Rate'] = (100* df_table['Deaths']/ df_table['Cases']).round(2)\n",
    "df_table['Continent'] = df_table['Country/Region'].map(mapping['map.continent'])\n",
    "df_table.head(5)"
   ]
  },
  {
   "cell_type": "code",
   "execution_count": 14,
   "id": "aboriginal-bulgaria",
   "metadata": {
    "execution": {
     "iopub.execute_input": "2021-07-23T00:20:52.432685Z",
     "iopub.status.busy": "2021-07-23T00:20:52.432023Z",
     "iopub.status.idle": "2021-07-23T00:20:52.433705Z",
     "shell.execute_reply": "2021-07-23T00:20:52.434259Z"
    },
    "papermill": {
     "duration": 0.043458,
     "end_time": "2021-07-23T00:20:52.434384",
     "exception": false,
     "start_time": "2021-07-23T00:20:52.390926",
     "status": "completed"
    },
    "tags": []
   },
   "outputs": [],
   "source": [
    "#hide\n",
    "#delete problematic countries from table\n",
    "df_table = df_table[~df_table['Country/Region'].isin(['Cape Verde', 'Cruise Ship', 'Kosovo'])]"
   ]
  },
  {
   "cell_type": "code",
   "execution_count": 15,
   "id": "fantastic-effect",
   "metadata": {
    "execution": {
     "iopub.execute_input": "2021-07-23T00:20:52.514367Z",
     "iopub.status.busy": "2021-07-23T00:20:52.513681Z",
     "iopub.status.idle": "2021-07-23T00:20:52.534749Z",
     "shell.execute_reply": "2021-07-23T00:20:52.535284Z"
    },
    "papermill": {
     "duration": 0.06549,
     "end_time": "2021-07-23T00:20:52.535435",
     "exception": false,
     "start_time": "2021-07-23T00:20:52.469945",
     "status": "completed"
    },
    "tags": []
   },
   "outputs": [
    {
     "data": {
      "text/html": [
       "<div>\n",
       "<style scoped>\n",
       "    .dataframe tbody tr th:only-of-type {\n",
       "        vertical-align: middle;\n",
       "    }\n",
       "\n",
       "    .dataframe tbody tr th {\n",
       "        vertical-align: top;\n",
       "    }\n",
       "\n",
       "    .dataframe thead th {\n",
       "        text-align: right;\n",
       "    }\n",
       "</style>\n",
       "<table border=\"1\" class=\"dataframe\">\n",
       "  <thead>\n",
       "    <tr style=\"text-align: right;\">\n",
       "      <th></th>\n",
       "      <th>Country/Region</th>\n",
       "      <th>Cases</th>\n",
       "      <th>Deaths</th>\n",
       "      <th>PCases</th>\n",
       "      <th>PDeaths</th>\n",
       "      <th>Cases (+)</th>\n",
       "      <th>Deaths (+)</th>\n",
       "      <th>Fatality Rate</th>\n",
       "      <th>Continent</th>\n",
       "    </tr>\n",
       "  </thead>\n",
       "  <tbody>\n",
       "    <tr>\n",
       "      <th>0</th>\n",
       "      <td>US</td>\n",
       "      <td>34226806</td>\n",
       "      <td>609862</td>\n",
       "      <td>34174774</td>\n",
       "      <td>609529</td>\n",
       "      <td>52032</td>\n",
       "      <td>333</td>\n",
       "      <td>1.8</td>\n",
       "      <td>North America</td>\n",
       "    </tr>\n",
       "    <tr>\n",
       "      <th>1</th>\n",
       "      <td>India</td>\n",
       "      <td>31257720</td>\n",
       "      <td>418987</td>\n",
       "      <td>31216337</td>\n",
       "      <td>418480</td>\n",
       "      <td>41383</td>\n",
       "      <td>507</td>\n",
       "      <td>1.3</td>\n",
       "      <td>Asia</td>\n",
       "    </tr>\n",
       "    <tr>\n",
       "      <th>2</th>\n",
       "      <td>Brazil</td>\n",
       "      <td>19473954</td>\n",
       "      <td>545604</td>\n",
       "      <td>19419437</td>\n",
       "      <td>544180</td>\n",
       "      <td>54517</td>\n",
       "      <td>1424</td>\n",
       "      <td>2.8</td>\n",
       "      <td>South America</td>\n",
       "    </tr>\n",
       "    <tr>\n",
       "      <th>3</th>\n",
       "      <td>France</td>\n",
       "      <td>5973912</td>\n",
       "      <td>111737</td>\n",
       "      <td>5952339</td>\n",
       "      <td>111715</td>\n",
       "      <td>21573</td>\n",
       "      <td>22</td>\n",
       "      <td>1.9</td>\n",
       "      <td>Europe</td>\n",
       "    </tr>\n",
       "    <tr>\n",
       "      <th>4</th>\n",
       "      <td>Russia</td>\n",
       "      <td>5955089</td>\n",
       "      <td>148229</td>\n",
       "      <td>5931925</td>\n",
       "      <td>147457</td>\n",
       "      <td>23164</td>\n",
       "      <td>772</td>\n",
       "      <td>2.5</td>\n",
       "      <td>Europe</td>\n",
       "    </tr>\n",
       "  </tbody>\n",
       "</table>\n",
       "</div>"
      ],
      "text/plain": [
       "  Country/Region     Cases  Deaths    PCases  PDeaths  Cases (+)  Deaths (+)  \\\n",
       "0             US  34226806  609862  34174774   609529      52032         333   \n",
       "1          India  31257720  418987  31216337   418480      41383         507   \n",
       "2         Brazil  19473954  545604  19419437   544180      54517        1424   \n",
       "3         France   5973912  111737   5952339   111715      21573          22   \n",
       "4         Russia   5955089  148229   5931925   147457      23164         772   \n",
       "\n",
       "   Fatality Rate      Continent  \n",
       "0            1.8  North America  \n",
       "1            1.3           Asia  \n",
       "2            2.8  South America  \n",
       "3            1.9         Europe  \n",
       "4            2.5         Europe  "
      ]
     },
     "execution_count": 15,
     "metadata": {},
     "output_type": "execute_result"
    }
   ],
   "source": [
    "#hide\n",
    "df_table = (pd.DataFrame(dict(Cases=dfc_cases, Deaths=dfc_deaths, PCases=dfp_cases, PDeaths=dfp_deaths))\n",
    "             .sort_values(by=['Cases', 'Deaths'], ascending=[False, False])\n",
    "             .reset_index())\n",
    "df_table.rename(columns={'index': 'Country/Region'}, inplace=True)\n",
    "for c in 'Cases, Deaths'.split(', '):\n",
    "    df_table[f'{c} (+)'] = (df_table[c] - df_table[f'P{c}']).clip(0)  # DATA BUG\n",
    "df_table['Fatality Rate'] = (100 * df_table['Deaths'] / df_table['Cases']).round(1)\n",
    "df_table['Continent'] = df_table['Country/Region'].map(mapping['map.continent'])\n",
    "df_table.head(5)"
   ]
  },
  {
   "cell_type": "code",
   "execution_count": 16,
   "id": "fewer-occasion",
   "metadata": {
    "execution": {
     "iopub.execute_input": "2021-07-23T00:20:52.619481Z",
     "iopub.status.busy": "2021-07-23T00:20:52.618835Z",
     "iopub.status.idle": "2021-07-23T00:20:52.620800Z",
     "shell.execute_reply": "2021-07-23T00:20:52.621312Z"
    },
    "papermill": {
     "duration": 0.04731,
     "end_time": "2021-07-23T00:20:52.621477",
     "exception": false,
     "start_time": "2021-07-23T00:20:52.574167",
     "status": "completed"
    },
    "tags": []
   },
   "outputs": [],
   "source": [
    "#hide\n",
    "#delete problematic countries from table\n",
    "df_table = df_table[~df_table['Country/Region'].isin(['Cape Verde', 'Cruise Ship', 'Kosovo'])]"
   ]
  },
  {
   "cell_type": "code",
   "execution_count": 17,
   "id": "related-center",
   "metadata": {
    "execution": {
     "iopub.execute_input": "2021-07-23T00:20:52.720259Z",
     "iopub.status.busy": "2021-07-23T00:20:52.719439Z",
     "iopub.status.idle": "2021-07-23T00:20:52.721125Z",
     "shell.execute_reply": "2021-07-23T00:20:52.721709Z"
    },
    "papermill": {
     "duration": 0.06008,
     "end_time": "2021-07-23T00:20:52.721851",
     "exception": false,
     "start_time": "2021-07-23T00:20:52.661771",
     "status": "completed"
    },
    "tags": []
   },
   "outputs": [],
   "source": [
    "#hide\n",
    "metrics = [df_table.columns[index] for index in [1,2,5,6]]\n",
    "# s_china = df_table[df_table['Country/Region'].eq('China')][metrics].sum().add_prefix('China ')\n",
    "s_us = df_table[df_table['Country/Region'].eq('US')][metrics].sum().add_prefix('US ')\n",
    "s_eu = df_table[df_table['Continent'].eq('Europe')][metrics].sum().add_prefix('EU ')\n",
    "s_ind = df_table[df_table['Country/Region'].eq('India')][metrics].sum().add_prefix('India ')\n",
    "summary = {'updated': pd.to_datetime(dt_today), 'since': pd.to_datetime(dt_yday)}\n",
    "summary = {'updated': pd.to_datetime(dt_today), 'since': pd.to_datetime(dt_yday)}\n",
    "summary = {**summary, **df_table[metrics].sum(), **s_ind, **s_us, **s_eu}"
   ]
  },
  {
   "cell_type": "code",
   "execution_count": 18,
   "id": "engaging-syndrome",
   "metadata": {
    "execution": {
     "iopub.execute_input": "2021-07-23T00:20:52.809663Z",
     "iopub.status.busy": "2021-07-23T00:20:52.808990Z",
     "iopub.status.idle": "2021-07-23T00:20:52.824095Z",
     "shell.execute_reply": "2021-07-23T00:20:52.823497Z"
    },
    "papermill": {
     "duration": 0.06184,
     "end_time": "2021-07-23T00:20:52.824251",
     "exception": false,
     "start_time": "2021-07-23T00:20:52.762411",
     "status": "completed"
    },
    "tags": []
   },
   "outputs": [],
   "source": [
    "#hide\n",
    "dft_ct_new_cases = dft_cases.groupby(COL_REGION)[dt_cols].sum().diff(axis=1).fillna(0).astype(int)"
   ]
  },
  {
   "cell_type": "code",
   "execution_count": 19,
   "id": "neutral-assignment",
   "metadata": {
    "execution": {
     "iopub.execute_input": "2021-07-23T00:20:52.911751Z",
     "iopub.status.busy": "2021-07-23T00:20:52.911093Z",
     "iopub.status.idle": "2021-07-23T00:20:52.913472Z",
     "shell.execute_reply": "2021-07-23T00:20:52.912924Z"
    },
    "papermill": {
     "duration": 0.048808,
     "end_time": "2021-07-23T00:20:52.913611",
     "exception": false,
     "start_time": "2021-07-23T00:20:52.864803",
     "status": "completed"
    },
    "tags": []
   },
   "outputs": [],
   "source": [
    "#hide\n",
    "everydaycases = dft_ct_new_cases.cumsum(axis=1)"
   ]
  },
  {
   "cell_type": "code",
   "execution_count": 20,
   "id": "parliamentary-calgary",
   "metadata": {
    "execution": {
     "iopub.execute_input": "2021-07-23T00:20:52.999833Z",
     "iopub.status.busy": "2021-07-23T00:20:52.999190Z",
     "iopub.status.idle": "2021-07-23T00:20:53.706310Z",
     "shell.execute_reply": "2021-07-23T00:20:53.705174Z"
    },
    "papermill": {
     "duration": 0.751393,
     "end_time": "2021-07-23T00:20:53.706478",
     "exception": false,
     "start_time": "2021-07-23T00:20:52.955085",
     "status": "completed"
    },
    "tags": []
   },
   "outputs": [],
   "source": [
    "#hide\n",
    "import pandas as pd\n",
    "import matplotlib.pyplot as plt\n",
    "import matplotlib.ticker as ticker\n",
    "import matplotlib.animation as animation\n",
    "from IPython.display import HTML"
   ]
  },
  {
   "cell_type": "code",
   "execution_count": 21,
   "id": "lasting-extraction",
   "metadata": {
    "execution": {
     "iopub.execute_input": "2021-07-23T00:20:53.791918Z",
     "iopub.status.busy": "2021-07-23T00:20:53.791269Z",
     "iopub.status.idle": "2021-07-23T00:20:53.797308Z",
     "shell.execute_reply": "2021-07-23T00:20:53.797804Z"
    },
    "papermill": {
     "duration": 0.052916,
     "end_time": "2021-07-23T00:20:53.797952",
     "exception": false,
     "start_time": "2021-07-23T00:20:53.745036",
     "status": "completed"
    },
    "tags": []
   },
   "outputs": [],
   "source": [
    "#hide\n",
    "t = everydaycases.stack()"
   ]
  },
  {
   "cell_type": "code",
   "execution_count": 22,
   "id": "premier-sleeve",
   "metadata": {
    "execution": {
     "iopub.execute_input": "2021-07-23T00:20:53.881886Z",
     "iopub.status.busy": "2021-07-23T00:20:53.881241Z",
     "iopub.status.idle": "2021-07-23T00:20:53.889952Z",
     "shell.execute_reply": "2021-07-23T00:20:53.890638Z"
    },
    "papermill": {
     "duration": 0.053431,
     "end_time": "2021-07-23T00:20:53.890824",
     "exception": false,
     "start_time": "2021-07-23T00:20:53.837393",
     "status": "completed"
    },
    "tags": []
   },
   "outputs": [],
   "source": [
    "#hide\n",
    "g = t.reset_index(['Country/Region'])"
   ]
  },
  {
   "cell_type": "code",
   "execution_count": 23,
   "id": "distributed-pittsburgh",
   "metadata": {
    "execution": {
     "iopub.execute_input": "2021-07-23T00:20:53.969240Z",
     "iopub.status.busy": "2021-07-23T00:20:53.968549Z",
     "iopub.status.idle": "2021-07-23T00:20:53.971112Z",
     "shell.execute_reply": "2021-07-23T00:20:53.970633Z"
    },
    "papermill": {
     "duration": 0.04287,
     "end_time": "2021-07-23T00:20:53.971242",
     "exception": false,
     "start_time": "2021-07-23T00:20:53.928372",
     "status": "completed"
    },
    "tags": []
   },
   "outputs": [],
   "source": [
    "#hide\n",
    "g.index.name = 'date'"
   ]
  },
  {
   "cell_type": "code",
   "execution_count": 24,
   "id": "naked-donor",
   "metadata": {
    "execution": {
     "iopub.execute_input": "2021-07-23T00:20:54.052426Z",
     "iopub.status.busy": "2021-07-23T00:20:54.051758Z",
     "iopub.status.idle": "2021-07-23T00:20:54.054508Z",
     "shell.execute_reply": "2021-07-23T00:20:54.053895Z"
    },
    "papermill": {
     "duration": 0.045403,
     "end_time": "2021-07-23T00:20:54.054659",
     "exception": false,
     "start_time": "2021-07-23T00:20:54.009256",
     "status": "completed"
    },
    "tags": []
   },
   "outputs": [],
   "source": [
    "# #hide\n",
    "# g = g.reset_index(['date'])"
   ]
  },
  {
   "cell_type": "code",
   "execution_count": 25,
   "id": "incomplete-mustang",
   "metadata": {
    "execution": {
     "iopub.execute_input": "2021-07-23T00:20:54.143492Z",
     "iopub.status.busy": "2021-07-23T00:20:54.142824Z",
     "iopub.status.idle": "2021-07-23T00:20:54.144773Z",
     "shell.execute_reply": "2021-07-23T00:20:54.145346Z"
    },
    "papermill": {
     "duration": 0.049621,
     "end_time": "2021-07-23T00:20:54.145486",
     "exception": false,
     "start_time": "2021-07-23T00:20:54.095865",
     "status": "completed"
    },
    "tags": []
   },
   "outputs": [],
   "source": [
    "#hide\n",
    "# g.head()"
   ]
  },
  {
   "cell_type": "code",
   "execution_count": 26,
   "id": "specific-kruger",
   "metadata": {
    "execution": {
     "iopub.execute_input": "2021-07-23T00:20:54.230753Z",
     "iopub.status.busy": "2021-07-23T00:20:54.230049Z",
     "iopub.status.idle": "2021-07-23T00:20:54.231931Z",
     "shell.execute_reply": "2021-07-23T00:20:54.232519Z"
    },
    "papermill": {
     "duration": 0.047507,
     "end_time": "2021-07-23T00:20:54.232712",
     "exception": false,
     "start_time": "2021-07-23T00:20:54.185205",
     "status": "completed"
    },
    "tags": []
   },
   "outputs": [],
   "source": [
    "#hide\n",
    "# g.columns = ['date','country','cases']"
   ]
  },
  {
   "cell_type": "code",
   "execution_count": 27,
   "id": "tender-conversion",
   "metadata": {
    "execution": {
     "iopub.execute_input": "2021-07-23T00:20:54.322508Z",
     "iopub.status.busy": "2021-07-23T00:20:54.321744Z",
     "iopub.status.idle": "2021-07-23T00:20:54.323232Z",
     "shell.execute_reply": "2021-07-23T00:20:54.323903Z"
    },
    "papermill": {
     "duration": 0.046115,
     "end_time": "2021-07-23T00:20:54.324048",
     "exception": false,
     "start_time": "2021-07-23T00:20:54.277933",
     "status": "completed"
    },
    "tags": []
   },
   "outputs": [],
   "source": [
    "#hide\n",
    "# g['continent'] = g.country"
   ]
  },
  {
   "cell_type": "code",
   "execution_count": 28,
   "id": "substantial-wilderness",
   "metadata": {
    "execution": {
     "iopub.execute_input": "2021-07-23T00:20:54.402157Z",
     "iopub.status.busy": "2021-07-23T00:20:54.401459Z",
     "iopub.status.idle": "2021-07-23T00:20:54.403942Z",
     "shell.execute_reply": "2021-07-23T00:20:54.404446Z"
    },
    "papermill": {
     "duration": 0.043523,
     "end_time": "2021-07-23T00:20:54.404599",
     "exception": false,
     "start_time": "2021-07-23T00:20:54.361076",
     "status": "completed"
    },
    "tags": []
   },
   "outputs": [],
   "source": [
    "#hide\n",
    "# cols = list(g.columns.values)"
   ]
  },
  {
   "cell_type": "code",
   "execution_count": 29,
   "id": "solved-farming",
   "metadata": {
    "execution": {
     "iopub.execute_input": "2021-07-23T00:20:54.480674Z",
     "iopub.status.busy": "2021-07-23T00:20:54.480106Z",
     "iopub.status.idle": "2021-07-23T00:20:54.482568Z",
     "shell.execute_reply": "2021-07-23T00:20:54.482045Z"
    },
    "papermill": {
     "duration": 0.042754,
     "end_time": "2021-07-23T00:20:54.482688",
     "exception": false,
     "start_time": "2021-07-23T00:20:54.439934",
     "status": "completed"
    },
    "tags": []
   },
   "outputs": [],
   "source": [
    "#hide\n",
    "# cols.insert(0, cols.pop())"
   ]
  },
  {
   "cell_type": "code",
   "execution_count": 30,
   "id": "executed-adoption",
   "metadata": {
    "execution": {
     "iopub.execute_input": "2021-07-23T00:20:54.567487Z",
     "iopub.status.busy": "2021-07-23T00:20:54.566838Z",
     "iopub.status.idle": "2021-07-23T00:20:54.569576Z",
     "shell.execute_reply": "2021-07-23T00:20:54.570072Z"
    },
    "papermill": {
     "duration": 0.04929,
     "end_time": "2021-07-23T00:20:54.570282",
     "exception": false,
     "start_time": "2021-07-23T00:20:54.520992",
     "status": "completed"
    },
    "tags": []
   },
   "outputs": [],
   "source": [
    "#hide\n",
    "# g = g[cols]"
   ]
  },
  {
   "cell_type": "code",
   "execution_count": 31,
   "id": "subject-dublin",
   "metadata": {
    "execution": {
     "iopub.execute_input": "2021-07-23T00:20:54.652200Z",
     "iopub.status.busy": "2021-07-23T00:20:54.651551Z",
     "iopub.status.idle": "2021-07-23T00:20:54.654140Z",
     "shell.execute_reply": "2021-07-23T00:20:54.653605Z"
    },
    "papermill": {
     "duration": 0.044544,
     "end_time": "2021-07-23T00:20:54.654297",
     "exception": false,
     "start_time": "2021-07-23T00:20:54.609753",
     "status": "completed"
    },
    "tags": []
   },
   "outputs": [],
   "source": [
    "#hide\n",
    "# g['continent'] = g['continent'].map(mapping['map.continent'])"
   ]
  },
  {
   "cell_type": "code",
   "execution_count": 32,
   "id": "freelance-scout",
   "metadata": {
    "execution": {
     "iopub.execute_input": "2021-07-23T00:20:54.734986Z",
     "iopub.status.busy": "2021-07-23T00:20:54.734336Z",
     "iopub.status.idle": "2021-07-23T00:20:54.736772Z",
     "shell.execute_reply": "2021-07-23T00:20:54.736129Z"
    },
    "papermill": {
     "duration": 0.04468,
     "end_time": "2021-07-23T00:20:54.736948",
     "exception": false,
     "start_time": "2021-07-23T00:20:54.692268",
     "status": "completed"
    },
    "tags": []
   },
   "outputs": [],
   "source": [
    "#hide\n",
    "# g.head()"
   ]
  },
  {
   "cell_type": "code",
   "execution_count": 33,
   "id": "limited-engine",
   "metadata": {
    "execution": {
     "iopub.execute_input": "2021-07-23T00:20:54.819003Z",
     "iopub.status.busy": "2021-07-23T00:20:54.818314Z",
     "iopub.status.idle": "2021-07-23T00:20:54.820904Z",
     "shell.execute_reply": "2021-07-23T00:20:54.820340Z"
    },
    "papermill": {
     "duration": 0.045615,
     "end_time": "2021-07-23T00:20:54.821029",
     "exception": false,
     "start_time": "2021-07-23T00:20:54.775414",
     "status": "completed"
    },
    "tags": []
   },
   "outputs": [],
   "source": [
    "# hide\n",
    "# g['date'] = g['date'].astype('datetime64[ns]')"
   ]
  },
  {
   "cell_type": "code",
   "execution_count": 34,
   "id": "sophisticated-supervisor",
   "metadata": {
    "execution": {
     "iopub.execute_input": "2021-07-23T00:20:54.903432Z",
     "iopub.status.busy": "2021-07-23T00:20:54.902767Z",
     "iopub.status.idle": "2021-07-23T00:20:54.905501Z",
     "shell.execute_reply": "2021-07-23T00:20:54.904923Z"
    },
    "papermill": {
     "duration": 0.045715,
     "end_time": "2021-07-23T00:20:54.905638",
     "exception": false,
     "start_time": "2021-07-23T00:20:54.859923",
     "status": "completed"
    },
    "tags": []
   },
   "outputs": [],
   "source": [
    "#hide\n",
    "# g['date'] = g.date.dt.dayofyear"
   ]
  },
  {
   "cell_type": "code",
   "execution_count": 35,
   "id": "inside-dubai",
   "metadata": {
    "execution": {
     "iopub.execute_input": "2021-07-23T00:20:54.993632Z",
     "iopub.status.busy": "2021-07-23T00:20:54.992996Z",
     "iopub.status.idle": "2021-07-23T00:20:54.994795Z",
     "shell.execute_reply": "2021-07-23T00:20:54.995399Z"
    },
    "papermill": {
     "duration": 0.051094,
     "end_time": "2021-07-23T00:20:54.995563",
     "exception": false,
     "start_time": "2021-07-23T00:20:54.944469",
     "status": "completed"
    },
    "tags": []
   },
   "outputs": [],
   "source": [
    "#hide\n",
    "# g = g.rename(columns= {'continent':'group','country':'name','cases':'value'})"
   ]
  },
  {
   "cell_type": "code",
   "execution_count": 36,
   "id": "fleet-motorcycle",
   "metadata": {
    "execution": {
     "iopub.execute_input": "2021-07-23T00:20:55.078746Z",
     "iopub.status.busy": "2021-07-23T00:20:55.078086Z",
     "iopub.status.idle": "2021-07-23T00:20:55.080116Z",
     "shell.execute_reply": "2021-07-23T00:20:55.080702Z"
    },
    "papermill": {
     "duration": 0.045998,
     "end_time": "2021-07-23T00:20:55.080853",
     "exception": false,
     "start_time": "2021-07-23T00:20:55.034855",
     "status": "completed"
    },
    "tags": []
   },
   "outputs": [],
   "source": [
    "#hide\n",
    "# cols = ['name','group','day','value']"
   ]
  },
  {
   "cell_type": "code",
   "execution_count": 37,
   "id": "continued-sleeping",
   "metadata": {
    "execution": {
     "iopub.execute_input": "2021-07-23T00:20:55.162117Z",
     "iopub.status.busy": "2021-07-23T00:20:55.161506Z",
     "iopub.status.idle": "2021-07-23T00:20:55.163582Z",
     "shell.execute_reply": "2021-07-23T00:20:55.164079Z"
    },
    "papermill": {
     "duration": 0.044557,
     "end_time": "2021-07-23T00:20:55.164217",
     "exception": false,
     "start_time": "2021-07-23T00:20:55.119660",
     "status": "completed"
    },
    "tags": []
   },
   "outputs": [],
   "source": [
    "#hide\n",
    "# g.rename(columns= {'date':'day'},inplace = True)"
   ]
  },
  {
   "cell_type": "code",
   "execution_count": 38,
   "id": "major-fight",
   "metadata": {
    "execution": {
     "iopub.execute_input": "2021-07-23T00:20:55.242412Z",
     "iopub.status.busy": "2021-07-23T00:20:55.241728Z",
     "iopub.status.idle": "2021-07-23T00:20:55.244180Z",
     "shell.execute_reply": "2021-07-23T00:20:55.243624Z"
    },
    "papermill": {
     "duration": 0.043908,
     "end_time": "2021-07-23T00:20:55.244309",
     "exception": false,
     "start_time": "2021-07-23T00:20:55.200401",
     "status": "completed"
    },
    "tags": []
   },
   "outputs": [],
   "source": [
    "#hide\n",
    "# g = g[cols]"
   ]
  },
  {
   "cell_type": "code",
   "execution_count": 39,
   "id": "structured-mobile",
   "metadata": {
    "execution": {
     "iopub.execute_input": "2021-07-23T00:20:55.326046Z",
     "iopub.status.busy": "2021-07-23T00:20:55.325396Z",
     "iopub.status.idle": "2021-07-23T00:20:55.327909Z",
     "shell.execute_reply": "2021-07-23T00:20:55.327348Z"
    },
    "papermill": {
     "duration": 0.044532,
     "end_time": "2021-07-23T00:20:55.328047",
     "exception": false,
     "start_time": "2021-07-23T00:20:55.283515",
     "status": "completed"
    },
    "tags": []
   },
   "outputs": [],
   "source": [
    "# #hide\n",
    "# g = g[g.group.notna()]"
   ]
  },
  {
   "cell_type": "code",
   "execution_count": 40,
   "id": "determined-closing",
   "metadata": {
    "execution": {
     "iopub.execute_input": "2021-07-23T00:20:55.411560Z",
     "iopub.status.busy": "2021-07-23T00:20:55.410895Z",
     "iopub.status.idle": "2021-07-23T00:20:55.413735Z",
     "shell.execute_reply": "2021-07-23T00:20:55.413087Z"
    },
    "papermill": {
     "duration": 0.047848,
     "end_time": "2021-07-23T00:20:55.413870",
     "exception": false,
     "start_time": "2021-07-23T00:20:55.366022",
     "status": "completed"
    },
    "tags": []
   },
   "outputs": [],
   "source": [
    "# #hide\n",
    "# colors = dict(zip(\n",
    "#     [\"Oceania\", \"Europe\", \"Asia\", \"South America\", \"Middle East\", \"North America\", \"Africa\"],\n",
    "#     [\"#adb0ff\", \"#ffb3ff\", \"#90d595\", \"#e48381\", \"#aafbff\", \"#f7bb5f\", \"#eafb50\"]\n",
    "# ))\n",
    "# group_lk = g.set_index('name')['group'].to_dict()"
   ]
  },
  {
   "cell_type": "code",
   "execution_count": null,
   "id": "gross-drinking",
   "metadata": {
    "papermill": {
     "duration": 0.040241,
     "end_time": "2021-07-23T00:20:55.492528",
     "exception": false,
     "start_time": "2021-07-23T00:20:55.452287",
     "status": "completed"
    },
    "tags": []
   },
   "outputs": [],
   "source": []
  },
  {
   "cell_type": "code",
   "execution_count": 41,
   "id": "subject-macintosh",
   "metadata": {
    "execution": {
     "iopub.execute_input": "2021-07-23T00:20:55.577818Z",
     "iopub.status.busy": "2021-07-23T00:20:55.577146Z",
     "iopub.status.idle": "2021-07-23T00:20:55.579025Z",
     "shell.execute_reply": "2021-07-23T00:20:55.579708Z"
    },
    "papermill": {
     "duration": 0.048379,
     "end_time": "2021-07-23T00:20:55.579904",
     "exception": false,
     "start_time": "2021-07-23T00:20:55.531525",
     "status": "completed"
    },
    "tags": []
   },
   "outputs": [],
   "source": [
    "# #hide\n",
    "# fig, ax = plt.subplots(figsize=(15, 8))\n",
    "\n",
    "# def draw_barchart(current_day):\n",
    "#     dff = g[g['day'].eq(current_day)].sort_values(by='value', ascending=True).tail(10)\n",
    "#     ax.clear()\n",
    "#     ax.barh(dff['name'], dff['value'], color=[colors[group_lk[x]] for x in dff['name']])\n",
    "#     dx = dff['value'].max() / 200\n",
    "    \n",
    "#     for i, (value, name) in enumerate(zip(dff['value'], dff['name'])):\n",
    "#         ax.text(value-dx, i,     name,           size=14, weight=600, ha='right', va='bottom')\n",
    "#         ax.text(value-dx, i-.25, group_lk[name], size=10, color='#444444', ha='right', va='baseline')\n",
    "#         ax.text(value+dx, i,     f'{value:,.0f}',  size=14, ha='left',  va='center')\n",
    "#     ax.text(1, 0.4, current_day, transform=ax.transAxes, color='#777777', size=46, ha='right', weight=800)\n",
    "#     ax.text(0, 1.06, 'Population (thousands)', transform=ax.transAxes, size=12, color='#777777')\n",
    "#     ax.xaxis.set_major_formatter(ticker.StrMethodFormatter('{x:,.0f}'))\n",
    "#     ax.xaxis.set_ticks_position('top')\n",
    "#     ax.tick_params(axis='x', colors='#777777', labelsize=12)\n",
    "#     ax.set_yticks([])\n",
    "#     ax.margins(0, 0.01)\n",
    "#     ax.grid(which='major', axis='x', linestyle='-')\n",
    "#     ax.set_axisbelow(True)\n",
    "    \n",
    "#     ax.text(0, 1.15, 'Coronavirus',\n",
    "#             transform=ax.transAxes, size=24, weight=600, ha='left', va='top')\n",
    "# #     ax.text(1, 0, 'by @pratapvardhan; credit @jburnmurdoch', transform=ax.transAxes, color='#777777', ha='right',\n",
    "# #             bbox=dict(facecolor='white', alpha=0.8, edgecolor='white'))\n",
    "#     plt.box(False)"
   ]
  },
  {
   "cell_type": "code",
   "execution_count": 42,
   "id": "sexual-wages",
   "metadata": {
    "execution": {
     "iopub.execute_input": "2021-07-23T00:20:55.667435Z",
     "iopub.status.busy": "2021-07-23T00:20:55.666789Z",
     "iopub.status.idle": "2021-07-23T00:20:55.669177Z",
     "shell.execute_reply": "2021-07-23T00:20:55.668536Z"
    },
    "papermill": {
     "duration": 0.050504,
     "end_time": "2021-07-23T00:20:55.669317",
     "exception": false,
     "start_time": "2021-07-23T00:20:55.618813",
     "status": "completed"
    },
    "tags": []
   },
   "outputs": [],
   "source": [
    "# #hide_input\n",
    "# fig, ax = plt.subplots(figsize=(15, 8))\n",
    "# animator = animation.FuncAnimation(fig, draw_barchart, frames=range(g.day.values.min(), g.day.values.max()))\n",
    "# HTML(animator.to_jshtml())\n",
    "# # or use animator.to_html5_video() or animator.save() "
   ]
  },
  {
   "cell_type": "code",
   "execution_count": null,
   "id": "australian-container",
   "metadata": {
    "papermill": {
     "duration": 0.03896,
     "end_time": "2021-07-23T00:20:55.747192",
     "exception": false,
     "start_time": "2021-07-23T00:20:55.708232",
     "status": "completed"
    },
    "tags": []
   },
   "outputs": [],
   "source": []
  },
  {
   "cell_type": "code",
   "execution_count": null,
   "id": "mediterranean-pontiac",
   "metadata": {
    "papermill": {
     "duration": 0.038537,
     "end_time": "2021-07-23T00:20:55.823644",
     "exception": false,
     "start_time": "2021-07-23T00:20:55.785107",
     "status": "completed"
    },
    "tags": []
   },
   "outputs": [],
   "source": []
  },
  {
   "cell_type": "code",
   "execution_count": null,
   "id": "aging-legislature",
   "metadata": {
    "papermill": {
     "duration": 0.037355,
     "end_time": "2021-07-23T00:20:55.899953",
     "exception": false,
     "start_time": "2021-07-23T00:20:55.862598",
     "status": "completed"
    },
    "tags": []
   },
   "outputs": [],
   "source": []
  }
 ],
 "metadata": {
  "kernelspec": {
   "display_name": "Python 3",
   "language": "python",
   "name": "python3"
  },
  "language_info": {
   "codemirror_mode": {
    "name": "ipython",
    "version": 3
   },
   "file_extension": ".py",
   "mimetype": "text/x-python",
   "name": "python",
   "nbconvert_exporter": "python",
   "pygments_lexer": "ipython3",
   "version": "3.6.14"
  },
  "papermill": {
   "duration": 7.166625,
   "end_time": "2021-07-23T00:20:56.348018",
   "environment_variables": {},
   "exception": null,
   "input_path": "2020-03-21-covid19exp.ipynb",
   "output_path": "2020-03-21-covid19exp.ipynb",
   "parameters": {},
   "start_time": "2021-07-23T00:20:49.181393",
   "version": "2.0.0"
  }
 },
 "nbformat": 4,
 "nbformat_minor": 5
}