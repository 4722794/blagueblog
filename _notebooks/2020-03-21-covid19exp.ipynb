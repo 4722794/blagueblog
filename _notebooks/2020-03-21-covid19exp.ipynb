{
 "cells": [
  {
   "cell_type": "markdown",
   "id": "muslim-click",
   "metadata": {
    "papermill": {
     "duration": 0.052968,
     "end_time": "2022-01-08T12:12:51.857392",
     "exception": false,
     "start_time": "2022-01-08T12:12:51.804424",
     "status": "completed"
    },
    "tags": []
   },
   "source": [
    "# COVID-19 Case Race\n",
    "> A race chart to see rising cases around the world\n",
    "\n",
    "- author: Hargun Oberoi\n",
    "- image: images/covid-overview.png\n",
    "- hide: false\n",
    "- badges: false"
   ]
  },
  {
   "cell_type": "code",
   "execution_count": 1,
   "id": "proof-material",
   "metadata": {
    "execution": {
     "iopub.execute_input": "2022-01-08T12:12:51.947696Z",
     "iopub.status.busy": "2022-01-08T12:12:51.946977Z",
     "iopub.status.idle": "2022-01-08T12:12:52.393671Z",
     "shell.execute_reply": "2022-01-08T12:12:52.393104Z"
    },
    "papermill": {
     "duration": 0.496609,
     "end_time": "2022-01-08T12:12:52.393839",
     "exception": false,
     "start_time": "2022-01-08T12:12:51.897230",
     "status": "completed"
    },
    "tags": []
   },
   "outputs": [],
   "source": [
    "#hide\n",
    "import numpy as np\n",
    "import pandas as pd\n",
    "from jinja2 import Template\n",
    "from IPython.display import HTML"
   ]
  },
  {
   "cell_type": "code",
   "execution_count": 2,
   "id": "developed-terminology",
   "metadata": {
    "execution": {
     "iopub.execute_input": "2022-01-08T12:12:52.470629Z",
     "iopub.status.busy": "2022-01-08T12:12:52.469924Z",
     "iopub.status.idle": "2022-01-08T12:12:52.473950Z",
     "shell.execute_reply": "2022-01-08T12:12:52.474460Z"
    },
    "papermill": {
     "duration": 0.045309,
     "end_time": "2022-01-08T12:12:52.474640",
     "exception": false,
     "start_time": "2022-01-08T12:12:52.429331",
     "status": "completed"
    },
    "tags": []
   },
   "outputs": [],
   "source": [
    "#hide\n",
    "\n",
    "# FETCH\n",
    "base_url = 'https://raw.githubusercontent.com/pratapvardhan/notebooks/master/covid19/'\n",
    "paths = {\n",
    "    'mapping': base_url + 'mapping_countries.csv',\n",
    "    'overview': base_url + 'overview.tpl'\n",
    "}"
   ]
  },
  {
   "cell_type": "code",
   "execution_count": 3,
   "id": "dynamic-saver",
   "metadata": {
    "execution": {
     "iopub.execute_input": "2022-01-08T12:12:52.562642Z",
     "iopub.status.busy": "2022-01-08T12:12:52.559664Z",
     "iopub.status.idle": "2022-01-08T12:12:52.565535Z",
     "shell.execute_reply": "2022-01-08T12:12:52.566031Z"
    },
    "papermill": {
     "duration": 0.054445,
     "end_time": "2022-01-08T12:12:52.566194",
     "exception": false,
     "start_time": "2022-01-08T12:12:52.511749",
     "status": "completed"
    },
    "tags": []
   },
   "outputs": [
    {
     "data": {
      "text/plain": [
       "'https://raw.githubusercontent.com/pratapvardhan/notebooks/master/covid19/mapping_countries.csv'"
      ]
     },
     "execution_count": 3,
     "metadata": {},
     "output_type": "execute_result"
    }
   ],
   "source": [
    "#hide\n",
    "paths['mapping']"
   ]
  },
  {
   "cell_type": "code",
   "execution_count": 4,
   "id": "urban-software",
   "metadata": {
    "execution": {
     "iopub.execute_input": "2022-01-08T12:12:52.649851Z",
     "iopub.status.busy": "2022-01-08T12:12:52.649190Z",
     "iopub.status.idle": "2022-01-08T12:12:52.652075Z",
     "shell.execute_reply": "2022-01-08T12:12:52.651284Z"
    },
    "papermill": {
     "duration": 0.049505,
     "end_time": "2022-01-08T12:12:52.652237",
     "exception": false,
     "start_time": "2022-01-08T12:12:52.602732",
     "status": "completed"
    },
    "tags": []
   },
   "outputs": [],
   "source": [
    "#hide\n",
    "def get_mappings(url):\n",
    "    df = pd.read_csv(url)\n",
    "    return {\n",
    "        'df': df,\n",
    "        'replace.country': dict(df.dropna(subset=['Name']).set_index('Country')['Name']),\n",
    "        'map.continent': dict(df.set_index('Name')['Continent'])\n",
    "    }"
   ]
  },
  {
   "cell_type": "code",
   "execution_count": 5,
   "id": "intimate-machinery",
   "metadata": {
    "execution": {
     "iopub.execute_input": "2022-01-08T12:12:52.732086Z",
     "iopub.status.busy": "2022-01-08T12:12:52.731419Z",
     "iopub.status.idle": "2022-01-08T12:12:52.807285Z",
     "shell.execute_reply": "2022-01-08T12:12:52.806381Z"
    },
    "papermill": {
     "duration": 0.119676,
     "end_time": "2022-01-08T12:12:52.807504",
     "exception": false,
     "start_time": "2022-01-08T12:12:52.687828",
     "status": "completed"
    },
    "tags": []
   },
   "outputs": [],
   "source": [
    "#hide\n",
    "mapping = get_mappings(paths['mapping'])"
   ]
  },
  {
   "cell_type": "code",
   "execution_count": 6,
   "id": "certified-tactics",
   "metadata": {
    "execution": {
     "iopub.execute_input": "2022-01-08T12:12:52.900638Z",
     "iopub.status.busy": "2022-01-08T12:12:52.899802Z",
     "iopub.status.idle": "2022-01-08T12:12:52.902008Z",
     "shell.execute_reply": "2022-01-08T12:12:52.902594Z"
    },
    "papermill": {
     "duration": 0.047426,
     "end_time": "2022-01-08T12:12:52.902760",
     "exception": false,
     "start_time": "2022-01-08T12:12:52.855334",
     "status": "completed"
    },
    "tags": []
   },
   "outputs": [],
   "source": [
    "#hide\n",
    "def get_template(path):\n",
    "    from urllib.parse import urlparse\n",
    "    if bool(urlparse(path).netloc):\n",
    "        from urllib.request import urlopen\n",
    "        return urlopen(path).read().decode('utf8')\n",
    "    return open(path).read()"
   ]
  },
  {
   "cell_type": "code",
   "execution_count": 7,
   "id": "realistic-blast",
   "metadata": {
    "execution": {
     "iopub.execute_input": "2022-01-08T12:12:52.991908Z",
     "iopub.status.busy": "2022-01-08T12:12:52.991242Z",
     "iopub.status.idle": "2022-01-08T12:12:52.993895Z",
     "shell.execute_reply": "2022-01-08T12:12:52.993376Z"
    },
    "papermill": {
     "duration": 0.056765,
     "end_time": "2022-01-08T12:12:52.994047",
     "exception": false,
     "start_time": "2022-01-08T12:12:52.937282",
     "status": "completed"
    },
    "tags": []
   },
   "outputs": [],
   "source": [
    "#hide\n",
    "def get_frame(name):\n",
    "    url = (\n",
    "        'https://raw.githubusercontent.com/CSSEGISandData/COVID-19/master/csse_covid_19_data/'\n",
    "        f'csse_covid_19_time_series/time_series_covid19_{name}_global.csv')\n",
    "    df = pd.read_csv(url)\n",
    "    # rename countries\n",
    "    df['Country/Region'] = df['Country/Region'].replace(mapping['replace.country'])\n",
    "    return df"
   ]
  },
  {
   "cell_type": "code",
   "execution_count": 8,
   "id": "affiliated-characterization",
   "metadata": {
    "execution": {
     "iopub.execute_input": "2022-01-08T12:12:53.071714Z",
     "iopub.status.busy": "2022-01-08T12:12:53.070648Z",
     "iopub.status.idle": "2022-01-08T12:12:53.072928Z",
     "shell.execute_reply": "2022-01-08T12:12:53.072393Z"
    },
    "papermill": {
     "duration": 0.044428,
     "end_time": "2022-01-08T12:12:53.073058",
     "exception": false,
     "start_time": "2022-01-08T12:12:53.028630",
     "status": "completed"
    },
    "tags": []
   },
   "outputs": [],
   "source": [
    "#hide\n",
    "def get_dates(df):\n",
    "    dt_cols = df.columns[~df.columns.isin(['Province/State', 'Country/Region', 'Lat', 'Long'])]\n",
    "    LAST_DATE_I = -1\n",
    "    # sometimes last column may be empty, then go backwards\n",
    "    for i in range(-1, -len(dt_cols), -1):\n",
    "        if not df[dt_cols[i]].fillna(0).eq(0).all():\n",
    "            LAST_DATE_I = i\n",
    "            break\n",
    "    return LAST_DATE_I, dt_cols"
   ]
  },
  {
   "cell_type": "code",
   "execution_count": 9,
   "id": "recent-optimization",
   "metadata": {
    "execution": {
     "iopub.execute_input": "2022-01-08T12:12:53.147559Z",
     "iopub.status.busy": "2022-01-08T12:12:53.146888Z",
     "iopub.status.idle": "2022-01-08T12:12:53.808586Z",
     "shell.execute_reply": "2022-01-08T12:12:53.808033Z"
    },
    "papermill": {
     "duration": 0.700966,
     "end_time": "2022-01-08T12:12:53.808735",
     "exception": false,
     "start_time": "2022-01-08T12:12:53.107769",
     "status": "completed"
    },
    "tags": []
   },
   "outputs": [],
   "source": [
    "#hide\n",
    "COL_REGION = 'Country/Region'\n",
    "# Confirmed, Recovered, Deaths\n",
    "df = get_frame('confirmed')\n",
    "# dft_: timeseries, dfc_: today country agg\n",
    "dft_cases = df\n",
    "dft_deaths = get_frame('deaths')\n",
    "dft_recovered = get_frame('recovered')\n",
    "LAST_DATE_I, dt_cols = get_dates(df)"
   ]
  },
  {
   "cell_type": "code",
   "execution_count": 10,
   "id": "absolute-copper",
   "metadata": {
    "execution": {
     "iopub.execute_input": "2022-01-08T12:12:53.886803Z",
     "iopub.status.busy": "2022-01-08T12:12:53.885735Z",
     "iopub.status.idle": "2022-01-08T12:12:53.889168Z",
     "shell.execute_reply": "2022-01-08T12:12:53.889635Z"
    },
    "papermill": {
     "duration": 0.046168,
     "end_time": "2022-01-08T12:12:53.889801",
     "exception": false,
     "start_time": "2022-01-08T12:12:53.843633",
     "status": "completed"
    },
    "tags": []
   },
   "outputs": [],
   "source": [
    "#hide\n",
    "LAST_DATE_I, dt_cols = get_dates(df)\n",
    "dt_today =dt_cols[LAST_DATE_I]\n",
    "# dt_5day = dt_cols[LAST_DATE_I - 5]\n",
    "dt_yday = dt_cols[LAST_DATE_I - 1]"
   ]
  },
  {
   "cell_type": "code",
   "execution_count": 11,
   "id": "restricted-sheriff",
   "metadata": {
    "execution": {
     "iopub.execute_input": "2022-01-08T12:12:53.976961Z",
     "iopub.status.busy": "2022-01-08T12:12:53.976323Z",
     "iopub.status.idle": "2022-01-08T12:12:53.985651Z",
     "shell.execute_reply": "2022-01-08T12:12:53.984970Z"
    },
    "papermill": {
     "duration": 0.0536,
     "end_time": "2022-01-08T12:12:53.985834",
     "exception": false,
     "start_time": "2022-01-08T12:12:53.932234",
     "status": "completed"
    },
    "tags": []
   },
   "outputs": [],
   "source": [
    "#hide\n",
    "dfc_cases = dft_cases.groupby(COL_REGION)[dt_today].sum()\n",
    "dfc_deaths = dft_deaths.groupby(COL_REGION)[dt_today].sum()\n",
    "# dfp_cases = dft_cases.groupby(COL_REGION)[dt_5day].sum()\n",
    "# dfp_deaths = dft_deaths.groupby(COL_REGION)[dt_5day].sum()\n",
    "dfp_cases = dft_cases.groupby(COL_REGION)[dt_yday].sum()\n",
    "dfp_deaths = dft_deaths.groupby(COL_REGION)[dt_yday].sum()"
   ]
  },
  {
   "cell_type": "code",
   "execution_count": 12,
   "id": "deluxe-hepatitis",
   "metadata": {
    "execution": {
     "iopub.execute_input": "2022-01-08T12:12:54.065743Z",
     "iopub.status.busy": "2022-01-08T12:12:54.065082Z",
     "iopub.status.idle": "2022-01-08T12:12:54.070884Z",
     "shell.execute_reply": "2022-01-08T12:12:54.071352Z"
    },
    "papermill": {
     "duration": 0.04933,
     "end_time": "2022-01-08T12:12:54.071514",
     "exception": false,
     "start_time": "2022-01-08T12:12:54.022184",
     "status": "completed"
    },
    "tags": []
   },
   "outputs": [],
   "source": [
    "#hide\n",
    "df_table = (pd.DataFrame(dict(Cases = dfc_cases, Deaths = dfc_deaths, PCases = dfp_cases, PDeaths = dfp_deaths))\n",
    "            .sort_values(by = ['Cases','Deaths'], ascending = [False, False])\n",
    "            .reset_index())"
   ]
  },
  {
   "cell_type": "code",
   "execution_count": 13,
   "id": "educational-chancellor",
   "metadata": {
    "execution": {
     "iopub.execute_input": "2022-01-08T12:12:54.178329Z",
     "iopub.status.busy": "2022-01-08T12:12:54.177538Z",
     "iopub.status.idle": "2022-01-08T12:12:54.186418Z",
     "shell.execute_reply": "2022-01-08T12:12:54.186922Z"
    },
    "papermill": {
     "duration": 0.080857,
     "end_time": "2022-01-08T12:12:54.187090",
     "exception": false,
     "start_time": "2022-01-08T12:12:54.106233",
     "status": "completed"
    },
    "tags": []
   },
   "outputs": [
    {
     "data": {
      "text/html": [
       "<div>\n",
       "<style scoped>\n",
       "    .dataframe tbody tr th:only-of-type {\n",
       "        vertical-align: middle;\n",
       "    }\n",
       "\n",
       "    .dataframe tbody tr th {\n",
       "        vertical-align: top;\n",
       "    }\n",
       "\n",
       "    .dataframe thead th {\n",
       "        text-align: right;\n",
       "    }\n",
       "</style>\n",
       "<table border=\"1\" class=\"dataframe\">\n",
       "  <thead>\n",
       "    <tr style=\"text-align: right;\">\n",
       "      <th></th>\n",
       "      <th>Country/Region</th>\n",
       "      <th>Cases</th>\n",
       "      <th>Deaths</th>\n",
       "      <th>PCases</th>\n",
       "      <th>PDeaths</th>\n",
       "      <th>Cases (+)</th>\n",
       "      <th>Deaths (+)</th>\n",
       "      <th>Fatality Rate</th>\n",
       "      <th>Continent</th>\n",
       "    </tr>\n",
       "  </thead>\n",
       "  <tbody>\n",
       "    <tr>\n",
       "      <th>0</th>\n",
       "      <td>US</td>\n",
       "      <td>59388529</td>\n",
       "      <td>836603</td>\n",
       "      <td>58487697</td>\n",
       "      <td>833988</td>\n",
       "      <td>900832</td>\n",
       "      <td>2615</td>\n",
       "      <td>1.41</td>\n",
       "      <td>North America</td>\n",
       "    </tr>\n",
       "    <tr>\n",
       "      <th>1</th>\n",
       "      <td>India</td>\n",
       "      <td>35368372</td>\n",
       "      <td>483463</td>\n",
       "      <td>35226386</td>\n",
       "      <td>483178</td>\n",
       "      <td>141986</td>\n",
       "      <td>285</td>\n",
       "      <td>1.37</td>\n",
       "      <td>Asia</td>\n",
       "    </tr>\n",
       "    <tr>\n",
       "      <th>2</th>\n",
       "      <td>Brazil</td>\n",
       "      <td>22328252</td>\n",
       "      <td>619654</td>\n",
       "      <td>22328252</td>\n",
       "      <td>619654</td>\n",
       "      <td>0</td>\n",
       "      <td>0</td>\n",
       "      <td>2.78</td>\n",
       "      <td>South America</td>\n",
       "    </tr>\n",
       "    <tr>\n",
       "      <th>3</th>\n",
       "      <td>United Kingdom</td>\n",
       "      <td>14280816</td>\n",
       "      <td>150223</td>\n",
       "      <td>14100750</td>\n",
       "      <td>149993</td>\n",
       "      <td>180066</td>\n",
       "      <td>230</td>\n",
       "      <td>1.05</td>\n",
       "      <td>Europe</td>\n",
       "    </tr>\n",
       "    <tr>\n",
       "      <th>4</th>\n",
       "      <td>France</td>\n",
       "      <td>11623327</td>\n",
       "      <td>126202</td>\n",
       "      <td>11290010</td>\n",
       "      <td>126002</td>\n",
       "      <td>333317</td>\n",
       "      <td>200</td>\n",
       "      <td>1.09</td>\n",
       "      <td>Europe</td>\n",
       "    </tr>\n",
       "  </tbody>\n",
       "</table>\n",
       "</div>"
      ],
      "text/plain": [
       "   Country/Region     Cases  Deaths    PCases  PDeaths  Cases (+)  Deaths (+)  \\\n",
       "0              US  59388529  836603  58487697   833988     900832        2615   \n",
       "1           India  35368372  483463  35226386   483178     141986         285   \n",
       "2          Brazil  22328252  619654  22328252   619654          0           0   \n",
       "3  United Kingdom  14280816  150223  14100750   149993     180066         230   \n",
       "4          France  11623327  126202  11290010   126002     333317         200   \n",
       "\n",
       "   Fatality Rate      Continent  \n",
       "0           1.41  North America  \n",
       "1           1.37           Asia  \n",
       "2           2.78  South America  \n",
       "3           1.05         Europe  \n",
       "4           1.09         Europe  "
      ]
     },
     "execution_count": 13,
     "metadata": {},
     "output_type": "execute_result"
    }
   ],
   "source": [
    "#hide\n",
    "for c in 'Cases, Deaths'.split(', '):\n",
    "    df_table[f'{c} (+)'] = (df_table[c] - df_table[f'P{c}']).clip(0)\n",
    "    #Clip ça veut dire, les chiffres negatif sont interdit\n",
    "df_table['Fatality Rate'] = (100* df_table['Deaths']/ df_table['Cases']).round(2)\n",
    "df_table['Continent'] = df_table['Country/Region'].map(mapping['map.continent'])\n",
    "df_table.head(5)"
   ]
  },
  {
   "cell_type": "code",
   "execution_count": 14,
   "id": "aboriginal-bulgaria",
   "metadata": {
    "execution": {
     "iopub.execute_input": "2022-01-08T12:12:54.268008Z",
     "iopub.status.busy": "2022-01-08T12:12:54.267371Z",
     "iopub.status.idle": "2022-01-08T12:12:54.271368Z",
     "shell.execute_reply": "2022-01-08T12:12:54.271990Z"
    },
    "papermill": {
     "duration": 0.047934,
     "end_time": "2022-01-08T12:12:54.272154",
     "exception": false,
     "start_time": "2022-01-08T12:12:54.224220",
     "status": "completed"
    },
    "tags": []
   },
   "outputs": [],
   "source": [
    "#hide\n",
    "#delete problematic countries from table\n",
    "df_table = df_table[~df_table['Country/Region'].isin(['Cape Verde', 'Cruise Ship', 'Kosovo'])]"
   ]
  },
  {
   "cell_type": "code",
   "execution_count": 15,
   "id": "fantastic-effect",
   "metadata": {
    "execution": {
     "iopub.execute_input": "2022-01-08T12:12:54.357758Z",
     "iopub.status.busy": "2022-01-08T12:12:54.357076Z",
     "iopub.status.idle": "2022-01-08T12:12:54.377364Z",
     "shell.execute_reply": "2022-01-08T12:12:54.376737Z"
    },
    "papermill": {
     "duration": 0.070467,
     "end_time": "2022-01-08T12:12:54.377498",
     "exception": false,
     "start_time": "2022-01-08T12:12:54.307031",
     "status": "completed"
    },
    "tags": []
   },
   "outputs": [
    {
     "data": {
      "text/html": [
       "<div>\n",
       "<style scoped>\n",
       "    .dataframe tbody tr th:only-of-type {\n",
       "        vertical-align: middle;\n",
       "    }\n",
       "\n",
       "    .dataframe tbody tr th {\n",
       "        vertical-align: top;\n",
       "    }\n",
       "\n",
       "    .dataframe thead th {\n",
       "        text-align: right;\n",
       "    }\n",
       "</style>\n",
       "<table border=\"1\" class=\"dataframe\">\n",
       "  <thead>\n",
       "    <tr style=\"text-align: right;\">\n",
       "      <th></th>\n",
       "      <th>Country/Region</th>\n",
       "      <th>Cases</th>\n",
       "      <th>Deaths</th>\n",
       "      <th>PCases</th>\n",
       "      <th>PDeaths</th>\n",
       "      <th>Cases (+)</th>\n",
       "      <th>Deaths (+)</th>\n",
       "      <th>Fatality Rate</th>\n",
       "      <th>Continent</th>\n",
       "    </tr>\n",
       "  </thead>\n",
       "  <tbody>\n",
       "    <tr>\n",
       "      <th>0</th>\n",
       "      <td>US</td>\n",
       "      <td>59388529</td>\n",
       "      <td>836603</td>\n",
       "      <td>58487697</td>\n",
       "      <td>833988</td>\n",
       "      <td>900832</td>\n",
       "      <td>2615</td>\n",
       "      <td>1.4</td>\n",
       "      <td>North America</td>\n",
       "    </tr>\n",
       "    <tr>\n",
       "      <th>1</th>\n",
       "      <td>India</td>\n",
       "      <td>35368372</td>\n",
       "      <td>483463</td>\n",
       "      <td>35226386</td>\n",
       "      <td>483178</td>\n",
       "      <td>141986</td>\n",
       "      <td>285</td>\n",
       "      <td>1.4</td>\n",
       "      <td>Asia</td>\n",
       "    </tr>\n",
       "    <tr>\n",
       "      <th>2</th>\n",
       "      <td>Brazil</td>\n",
       "      <td>22328252</td>\n",
       "      <td>619654</td>\n",
       "      <td>22328252</td>\n",
       "      <td>619654</td>\n",
       "      <td>0</td>\n",
       "      <td>0</td>\n",
       "      <td>2.8</td>\n",
       "      <td>South America</td>\n",
       "    </tr>\n",
       "    <tr>\n",
       "      <th>3</th>\n",
       "      <td>United Kingdom</td>\n",
       "      <td>14280816</td>\n",
       "      <td>150223</td>\n",
       "      <td>14100750</td>\n",
       "      <td>149993</td>\n",
       "      <td>180066</td>\n",
       "      <td>230</td>\n",
       "      <td>1.1</td>\n",
       "      <td>Europe</td>\n",
       "    </tr>\n",
       "    <tr>\n",
       "      <th>4</th>\n",
       "      <td>France</td>\n",
       "      <td>11623327</td>\n",
       "      <td>126202</td>\n",
       "      <td>11290010</td>\n",
       "      <td>126002</td>\n",
       "      <td>333317</td>\n",
       "      <td>200</td>\n",
       "      <td>1.1</td>\n",
       "      <td>Europe</td>\n",
       "    </tr>\n",
       "  </tbody>\n",
       "</table>\n",
       "</div>"
      ],
      "text/plain": [
       "   Country/Region     Cases  Deaths    PCases  PDeaths  Cases (+)  Deaths (+)  \\\n",
       "0              US  59388529  836603  58487697   833988     900832        2615   \n",
       "1           India  35368372  483463  35226386   483178     141986         285   \n",
       "2          Brazil  22328252  619654  22328252   619654          0           0   \n",
       "3  United Kingdom  14280816  150223  14100750   149993     180066         230   \n",
       "4          France  11623327  126202  11290010   126002     333317         200   \n",
       "\n",
       "   Fatality Rate      Continent  \n",
       "0            1.4  North America  \n",
       "1            1.4           Asia  \n",
       "2            2.8  South America  \n",
       "3            1.1         Europe  \n",
       "4            1.1         Europe  "
      ]
     },
     "execution_count": 15,
     "metadata": {},
     "output_type": "execute_result"
    }
   ],
   "source": [
    "#hide\n",
    "df_table = (pd.DataFrame(dict(Cases=dfc_cases, Deaths=dfc_deaths, PCases=dfp_cases, PDeaths=dfp_deaths))\n",
    "             .sort_values(by=['Cases', 'Deaths'], ascending=[False, False])\n",
    "             .reset_index())\n",
    "df_table.rename(columns={'index': 'Country/Region'}, inplace=True)\n",
    "for c in 'Cases, Deaths'.split(', '):\n",
    "    df_table[f'{c} (+)'] = (df_table[c] - df_table[f'P{c}']).clip(0)  # DATA BUG\n",
    "df_table['Fatality Rate'] = (100 * df_table['Deaths'] / df_table['Cases']).round(1)\n",
    "df_table['Continent'] = df_table['Country/Region'].map(mapping['map.continent'])\n",
    "df_table.head(5)"
   ]
  },
  {
   "cell_type": "code",
   "execution_count": 16,
   "id": "fewer-occasion",
   "metadata": {
    "execution": {
     "iopub.execute_input": "2022-01-08T12:12:54.463663Z",
     "iopub.status.busy": "2022-01-08T12:12:54.463014Z",
     "iopub.status.idle": "2022-01-08T12:12:54.465363Z",
     "shell.execute_reply": "2022-01-08T12:12:54.465820Z"
    },
    "papermill": {
     "duration": 0.049888,
     "end_time": "2022-01-08T12:12:54.465979",
     "exception": false,
     "start_time": "2022-01-08T12:12:54.416091",
     "status": "completed"
    },
    "tags": []
   },
   "outputs": [],
   "source": [
    "#hide\n",
    "#delete problematic countries from table\n",
    "df_table = df_table[~df_table['Country/Region'].isin(['Cape Verde', 'Cruise Ship', 'Kosovo'])]"
   ]
  },
  {
   "cell_type": "code",
   "execution_count": 17,
   "id": "related-center",
   "metadata": {
    "execution": {
     "iopub.execute_input": "2022-01-08T12:12:54.552025Z",
     "iopub.status.busy": "2022-01-08T12:12:54.551375Z",
     "iopub.status.idle": "2022-01-08T12:12:54.565376Z",
     "shell.execute_reply": "2022-01-08T12:12:54.565898Z"
    },
    "papermill": {
     "duration": 0.061772,
     "end_time": "2022-01-08T12:12:54.566060",
     "exception": false,
     "start_time": "2022-01-08T12:12:54.504288",
     "status": "completed"
    },
    "tags": []
   },
   "outputs": [],
   "source": [
    "#hide\n",
    "metrics = [df_table.columns[index] for index in [1,2,5,6]]\n",
    "# s_china = df_table[df_table['Country/Region'].eq('China')][metrics].sum().add_prefix('China ')\n",
    "s_us = df_table[df_table['Country/Region'].eq('US')][metrics].sum().add_prefix('US ')\n",
    "s_eu = df_table[df_table['Continent'].eq('Europe')][metrics].sum().add_prefix('EU ')\n",
    "s_ind = df_table[df_table['Country/Region'].eq('India')][metrics].sum().add_prefix('India ')\n",
    "summary = {'updated': pd.to_datetime(dt_today), 'since': pd.to_datetime(dt_yday)}\n",
    "summary = {'updated': pd.to_datetime(dt_today), 'since': pd.to_datetime(dt_yday)}\n",
    "summary = {**summary, **df_table[metrics].sum(), **s_ind, **s_us, **s_eu}"
   ]
  },
  {
   "cell_type": "code",
   "execution_count": 18,
   "id": "engaging-syndrome",
   "metadata": {
    "execution": {
     "iopub.execute_input": "2022-01-08T12:12:54.648667Z",
     "iopub.status.busy": "2022-01-08T12:12:54.647957Z",
     "iopub.status.idle": "2022-01-08T12:12:54.669958Z",
     "shell.execute_reply": "2022-01-08T12:12:54.669152Z"
    },
    "papermill": {
     "duration": 0.064707,
     "end_time": "2022-01-08T12:12:54.670158",
     "exception": false,
     "start_time": "2022-01-08T12:12:54.605451",
     "status": "completed"
    },
    "tags": []
   },
   "outputs": [],
   "source": [
    "#hide\n",
    "dft_ct_new_cases = dft_cases.groupby(COL_REGION)[dt_cols].sum().diff(axis=1).fillna(0).astype(int)"
   ]
  },
  {
   "cell_type": "code",
   "execution_count": 19,
   "id": "neutral-assignment",
   "metadata": {
    "execution": {
     "iopub.execute_input": "2022-01-08T12:12:54.753462Z",
     "iopub.status.busy": "2022-01-08T12:12:54.752831Z",
     "iopub.status.idle": "2022-01-08T12:12:54.756830Z",
     "shell.execute_reply": "2022-01-08T12:12:54.756326Z"
    },
    "papermill": {
     "duration": 0.048382,
     "end_time": "2022-01-08T12:12:54.756966",
     "exception": false,
     "start_time": "2022-01-08T12:12:54.708584",
     "status": "completed"
    },
    "tags": []
   },
   "outputs": [],
   "source": [
    "#hide\n",
    "everydaycases = dft_ct_new_cases.cumsum(axis=1)"
   ]
  },
  {
   "cell_type": "code",
   "execution_count": 20,
   "id": "parliamentary-calgary",
   "metadata": {
    "execution": {
     "iopub.execute_input": "2022-01-08T12:12:54.834834Z",
     "iopub.status.busy": "2022-01-08T12:12:54.834135Z",
     "iopub.status.idle": "2022-01-08T12:12:55.658343Z",
     "shell.execute_reply": "2022-01-08T12:12:55.657789Z"
    },
    "papermill": {
     "duration": 0.866447,
     "end_time": "2022-01-08T12:12:55.658488",
     "exception": false,
     "start_time": "2022-01-08T12:12:54.792041",
     "status": "completed"
    },
    "tags": []
   },
   "outputs": [],
   "source": [
    "#hide\n",
    "import pandas as pd\n",
    "import matplotlib.pyplot as plt\n",
    "import matplotlib.ticker as ticker\n",
    "import matplotlib.animation as animation\n",
    "from IPython.display import HTML"
   ]
  },
  {
   "cell_type": "code",
   "execution_count": 21,
   "id": "lasting-extraction",
   "metadata": {
    "execution": {
     "iopub.execute_input": "2022-01-08T12:12:55.745017Z",
     "iopub.status.busy": "2022-01-08T12:12:55.743916Z",
     "iopub.status.idle": "2022-01-08T12:12:55.756364Z",
     "shell.execute_reply": "2022-01-08T12:12:55.755486Z"
    },
    "papermill": {
     "duration": 0.061194,
     "end_time": "2022-01-08T12:12:55.757189",
     "exception": false,
     "start_time": "2022-01-08T12:12:55.695995",
     "status": "completed"
    },
    "tags": []
   },
   "outputs": [],
   "source": [
    "#hide\n",
    "t = everydaycases.stack()"
   ]
  },
  {
   "cell_type": "code",
   "execution_count": 22,
   "id": "premier-sleeve",
   "metadata": {
    "execution": {
     "iopub.execute_input": "2022-01-08T12:12:55.836830Z",
     "iopub.status.busy": "2022-01-08T12:12:55.836192Z",
     "iopub.status.idle": "2022-01-08T12:12:55.848871Z",
     "shell.execute_reply": "2022-01-08T12:12:55.848328Z"
    },
    "papermill": {
     "duration": 0.052868,
     "end_time": "2022-01-08T12:12:55.849018",
     "exception": false,
     "start_time": "2022-01-08T12:12:55.796150",
     "status": "completed"
    },
    "tags": []
   },
   "outputs": [],
   "source": [
    "#hide\n",
    "g = t.reset_index(['Country/Region'])"
   ]
  },
  {
   "cell_type": "code",
   "execution_count": 23,
   "id": "distributed-pittsburgh",
   "metadata": {
    "execution": {
     "iopub.execute_input": "2022-01-08T12:12:55.933023Z",
     "iopub.status.busy": "2022-01-08T12:12:55.932388Z",
     "iopub.status.idle": "2022-01-08T12:12:55.936742Z",
     "shell.execute_reply": "2022-01-08T12:12:55.936246Z"
    },
    "papermill": {
     "duration": 0.047634,
     "end_time": "2022-01-08T12:12:55.936878",
     "exception": false,
     "start_time": "2022-01-08T12:12:55.889244",
     "status": "completed"
    },
    "tags": []
   },
   "outputs": [],
   "source": [
    "#hide\n",
    "g.index.name = 'date'"
   ]
  },
  {
   "cell_type": "code",
   "execution_count": 24,
   "id": "naked-donor",
   "metadata": {
    "execution": {
     "iopub.execute_input": "2022-01-08T12:12:56.015956Z",
     "iopub.status.busy": "2022-01-08T12:12:56.014306Z",
     "iopub.status.idle": "2022-01-08T12:12:56.017146Z",
     "shell.execute_reply": "2022-01-08T12:12:56.017710Z"
    },
    "papermill": {
     "duration": 0.045027,
     "end_time": "2022-01-08T12:12:56.017877",
     "exception": false,
     "start_time": "2022-01-08T12:12:55.972850",
     "status": "completed"
    },
    "tags": []
   },
   "outputs": [],
   "source": [
    "# #hide\n",
    "# g = g.reset_index(['date'])"
   ]
  },
  {
   "cell_type": "code",
   "execution_count": 25,
   "id": "incomplete-mustang",
   "metadata": {
    "execution": {
     "iopub.execute_input": "2022-01-08T12:12:56.096167Z",
     "iopub.status.busy": "2022-01-08T12:12:56.094765Z",
     "iopub.status.idle": "2022-01-08T12:12:56.096864Z",
     "shell.execute_reply": "2022-01-08T12:12:56.097341Z"
    },
    "papermill": {
     "duration": 0.042572,
     "end_time": "2022-01-08T12:12:56.097491",
     "exception": false,
     "start_time": "2022-01-08T12:12:56.054919",
     "status": "completed"
    },
    "tags": []
   },
   "outputs": [],
   "source": [
    "#hide\n",
    "# g.head()"
   ]
  },
  {
   "cell_type": "code",
   "execution_count": 26,
   "id": "specific-kruger",
   "metadata": {
    "execution": {
     "iopub.execute_input": "2022-01-08T12:12:56.175563Z",
     "iopub.status.busy": "2022-01-08T12:12:56.174853Z",
     "iopub.status.idle": "2022-01-08T12:12:56.177889Z",
     "shell.execute_reply": "2022-01-08T12:12:56.177398Z"
    },
    "papermill": {
     "duration": 0.042742,
     "end_time": "2022-01-08T12:12:56.178023",
     "exception": false,
     "start_time": "2022-01-08T12:12:56.135281",
     "status": "completed"
    },
    "tags": []
   },
   "outputs": [],
   "source": [
    "#hide\n",
    "# g.columns = ['date','country','cases']"
   ]
  },
  {
   "cell_type": "code",
   "execution_count": 27,
   "id": "tender-conversion",
   "metadata": {
    "execution": {
     "iopub.execute_input": "2022-01-08T12:12:56.256994Z",
     "iopub.status.busy": "2022-01-08T12:12:56.256363Z",
     "iopub.status.idle": "2022-01-08T12:12:56.258994Z",
     "shell.execute_reply": "2022-01-08T12:12:56.258465Z"
    },
    "papermill": {
     "duration": 0.044575,
     "end_time": "2022-01-08T12:12:56.259132",
     "exception": false,
     "start_time": "2022-01-08T12:12:56.214557",
     "status": "completed"
    },
    "tags": []
   },
   "outputs": [],
   "source": [
    "#hide\n",
    "# g['continent'] = g.country"
   ]
  },
  {
   "cell_type": "code",
   "execution_count": 28,
   "id": "substantial-wilderness",
   "metadata": {
    "execution": {
     "iopub.execute_input": "2022-01-08T12:12:56.337135Z",
     "iopub.status.busy": "2022-01-08T12:12:56.336404Z",
     "iopub.status.idle": "2022-01-08T12:12:56.337954Z",
     "shell.execute_reply": "2022-01-08T12:12:56.338579Z"
    },
    "papermill": {
     "duration": 0.042481,
     "end_time": "2022-01-08T12:12:56.338739",
     "exception": false,
     "start_time": "2022-01-08T12:12:56.296258",
     "status": "completed"
    },
    "tags": []
   },
   "outputs": [],
   "source": [
    "#hide\n",
    "# cols = list(g.columns.values)"
   ]
  },
  {
   "cell_type": "code",
   "execution_count": 29,
   "id": "solved-farming",
   "metadata": {
    "execution": {
     "iopub.execute_input": "2022-01-08T12:12:56.418427Z",
     "iopub.status.busy": "2022-01-08T12:12:56.416858Z",
     "iopub.status.idle": "2022-01-08T12:12:56.420696Z",
     "shell.execute_reply": "2022-01-08T12:12:56.421316Z"
    },
    "papermill": {
     "duration": 0.045263,
     "end_time": "2022-01-08T12:12:56.421493",
     "exception": false,
     "start_time": "2022-01-08T12:12:56.376230",
     "status": "completed"
    },
    "tags": []
   },
   "outputs": [],
   "source": [
    "#hide\n",
    "# cols.insert(0, cols.pop())"
   ]
  },
  {
   "cell_type": "code",
   "execution_count": 30,
   "id": "executed-adoption",
   "metadata": {
    "execution": {
     "iopub.execute_input": "2022-01-08T12:12:56.503117Z",
     "iopub.status.busy": "2022-01-08T12:12:56.502400Z",
     "iopub.status.idle": "2022-01-08T12:12:56.506772Z",
     "shell.execute_reply": "2022-01-08T12:12:56.507561Z"
    },
    "papermill": {
     "duration": 0.046789,
     "end_time": "2022-01-08T12:12:56.507744",
     "exception": false,
     "start_time": "2022-01-08T12:12:56.460955",
     "status": "completed"
    },
    "tags": []
   },
   "outputs": [],
   "source": [
    "#hide\n",
    "# g = g[cols]"
   ]
  },
  {
   "cell_type": "code",
   "execution_count": 31,
   "id": "subject-dublin",
   "metadata": {
    "execution": {
     "iopub.execute_input": "2022-01-08T12:12:56.593437Z",
     "iopub.status.busy": "2022-01-08T12:12:56.592362Z",
     "iopub.status.idle": "2022-01-08T12:12:56.595164Z",
     "shell.execute_reply": "2022-01-08T12:12:56.595639Z"
    },
    "papermill": {
     "duration": 0.048537,
     "end_time": "2022-01-08T12:12:56.595875",
     "exception": false,
     "start_time": "2022-01-08T12:12:56.547338",
     "status": "completed"
    },
    "tags": []
   },
   "outputs": [],
   "source": [
    "#hide\n",
    "# g['continent'] = g['continent'].map(mapping['map.continent'])"
   ]
  },
  {
   "cell_type": "code",
   "execution_count": 32,
   "id": "freelance-scout",
   "metadata": {
    "execution": {
     "iopub.execute_input": "2022-01-08T12:12:56.734504Z",
     "iopub.status.busy": "2022-01-08T12:12:56.733799Z",
     "iopub.status.idle": "2022-01-08T12:12:56.736726Z",
     "shell.execute_reply": "2022-01-08T12:12:56.736065Z"
    },
    "papermill": {
     "duration": 0.10222,
     "end_time": "2022-01-08T12:12:56.736866",
     "exception": false,
     "start_time": "2022-01-08T12:12:56.634646",
     "status": "completed"
    },
    "tags": []
   },
   "outputs": [],
   "source": [
    "#hide\n",
    "# g.head()"
   ]
  },
  {
   "cell_type": "code",
   "execution_count": 33,
   "id": "limited-engine",
   "metadata": {
    "execution": {
     "iopub.execute_input": "2022-01-08T12:12:56.815617Z",
     "iopub.status.busy": "2022-01-08T12:12:56.814942Z",
     "iopub.status.idle": "2022-01-08T12:12:56.817976Z",
     "shell.execute_reply": "2022-01-08T12:12:56.817153Z"
    },
    "papermill": {
     "duration": 0.045071,
     "end_time": "2022-01-08T12:12:56.818135",
     "exception": false,
     "start_time": "2022-01-08T12:12:56.773064",
     "status": "completed"
    },
    "tags": []
   },
   "outputs": [],
   "source": [
    "# hide\n",
    "# g['date'] = g['date'].astype('datetime64[ns]')"
   ]
  },
  {
   "cell_type": "code",
   "execution_count": 34,
   "id": "sophisticated-supervisor",
   "metadata": {
    "execution": {
     "iopub.execute_input": "2022-01-08T12:12:56.908545Z",
     "iopub.status.busy": "2022-01-08T12:12:56.907808Z",
     "iopub.status.idle": "2022-01-08T12:12:56.914300Z",
     "shell.execute_reply": "2022-01-08T12:12:56.913784Z"
    },
    "papermill": {
     "duration": 0.058249,
     "end_time": "2022-01-08T12:12:56.914441",
     "exception": false,
     "start_time": "2022-01-08T12:12:56.856192",
     "status": "completed"
    },
    "tags": []
   },
   "outputs": [],
   "source": [
    "#hide\n",
    "# g['date'] = g.date.dt.dayofyear"
   ]
  },
  {
   "cell_type": "code",
   "execution_count": 35,
   "id": "inside-dubai",
   "metadata": {
    "execution": {
     "iopub.execute_input": "2022-01-08T12:12:56.998094Z",
     "iopub.status.busy": "2022-01-08T12:12:56.997449Z",
     "iopub.status.idle": "2022-01-08T12:12:57.000456Z",
     "shell.execute_reply": "2022-01-08T12:12:56.999965Z"
    },
    "papermill": {
     "duration": 0.047157,
     "end_time": "2022-01-08T12:12:57.000590",
     "exception": false,
     "start_time": "2022-01-08T12:12:56.953433",
     "status": "completed"
    },
    "tags": []
   },
   "outputs": [],
   "source": [
    "#hide\n",
    "# g = g.rename(columns= {'continent':'group','country':'name','cases':'value'})"
   ]
  },
  {
   "cell_type": "code",
   "execution_count": 36,
   "id": "fleet-motorcycle",
   "metadata": {
    "execution": {
     "iopub.execute_input": "2022-01-08T12:12:57.091156Z",
     "iopub.status.busy": "2022-01-08T12:12:57.090348Z",
     "iopub.status.idle": "2022-01-08T12:12:57.092139Z",
     "shell.execute_reply": "2022-01-08T12:12:57.092585Z"
    },
    "papermill": {
     "duration": 0.053612,
     "end_time": "2022-01-08T12:12:57.092741",
     "exception": false,
     "start_time": "2022-01-08T12:12:57.039129",
     "status": "completed"
    },
    "tags": []
   },
   "outputs": [],
   "source": [
    "#hide\n",
    "# cols = ['name','group','day','value']"
   ]
  },
  {
   "cell_type": "code",
   "execution_count": 37,
   "id": "continued-sleeping",
   "metadata": {
    "execution": {
     "iopub.execute_input": "2022-01-08T12:12:57.169390Z",
     "iopub.status.busy": "2022-01-08T12:12:57.168548Z",
     "iopub.status.idle": "2022-01-08T12:12:57.173381Z",
     "shell.execute_reply": "2022-01-08T12:12:57.173874Z"
    },
    "papermill": {
     "duration": 0.045809,
     "end_time": "2022-01-08T12:12:57.174029",
     "exception": false,
     "start_time": "2022-01-08T12:12:57.128220",
     "status": "completed"
    },
    "tags": []
   },
   "outputs": [],
   "source": [
    "#hide\n",
    "# g.rename(columns= {'date':'day'},inplace = True)"
   ]
  },
  {
   "cell_type": "code",
   "execution_count": 38,
   "id": "major-fight",
   "metadata": {
    "execution": {
     "iopub.execute_input": "2022-01-08T12:12:57.251520Z",
     "iopub.status.busy": "2022-01-08T12:12:57.250847Z",
     "iopub.status.idle": "2022-01-08T12:12:57.252996Z",
     "shell.execute_reply": "2022-01-08T12:12:57.253488Z"
    },
    "papermill": {
     "duration": 0.042947,
     "end_time": "2022-01-08T12:12:57.253650",
     "exception": false,
     "start_time": "2022-01-08T12:12:57.210703",
     "status": "completed"
    },
    "tags": []
   },
   "outputs": [],
   "source": [
    "#hide\n",
    "# g = g[cols]"
   ]
  },
  {
   "cell_type": "code",
   "execution_count": 39,
   "id": "structured-mobile",
   "metadata": {
    "execution": {
     "iopub.execute_input": "2022-01-08T12:12:57.332464Z",
     "iopub.status.busy": "2022-01-08T12:12:57.331813Z",
     "iopub.status.idle": "2022-01-08T12:12:57.335928Z",
     "shell.execute_reply": "2022-01-08T12:12:57.336388Z"
    },
    "papermill": {
     "duration": 0.047588,
     "end_time": "2022-01-08T12:12:57.336549",
     "exception": false,
     "start_time": "2022-01-08T12:12:57.288961",
     "status": "completed"
    },
    "tags": []
   },
   "outputs": [],
   "source": [
    "# #hide\n",
    "# g = g[g.group.notna()]"
   ]
  },
  {
   "cell_type": "code",
   "execution_count": 40,
   "id": "determined-closing",
   "metadata": {
    "execution": {
     "iopub.execute_input": "2022-01-08T12:12:57.416570Z",
     "iopub.status.busy": "2022-01-08T12:12:57.415917Z",
     "iopub.status.idle": "2022-01-08T12:12:57.417876Z",
     "shell.execute_reply": "2022-01-08T12:12:57.418328Z"
    },
    "papermill": {
     "duration": 0.045188,
     "end_time": "2022-01-08T12:12:57.418494",
     "exception": false,
     "start_time": "2022-01-08T12:12:57.373306",
     "status": "completed"
    },
    "tags": []
   },
   "outputs": [],
   "source": [
    "# #hide\n",
    "# colors = dict(zip(\n",
    "#     [\"Oceania\", \"Europe\", \"Asia\", \"South America\", \"Middle East\", \"North America\", \"Africa\"],\n",
    "#     [\"#adb0ff\", \"#ffb3ff\", \"#90d595\", \"#e48381\", \"#aafbff\", \"#f7bb5f\", \"#eafb50\"]\n",
    "# ))\n",
    "# group_lk = g.set_index('name')['group'].to_dict()"
   ]
  },
  {
   "cell_type": "code",
   "execution_count": null,
   "id": "gross-drinking",
   "metadata": {
    "papermill": {
     "duration": 0.036129,
     "end_time": "2022-01-08T12:12:57.492066",
     "exception": false,
     "start_time": "2022-01-08T12:12:57.455937",
     "status": "completed"
    },
    "tags": []
   },
   "outputs": [],
   "source": []
  },
  {
   "cell_type": "code",
   "execution_count": 41,
   "id": "subject-macintosh",
   "metadata": {
    "execution": {
     "iopub.execute_input": "2022-01-08T12:12:57.578366Z",
     "iopub.status.busy": "2022-01-08T12:12:57.577702Z",
     "iopub.status.idle": "2022-01-08T12:12:57.580879Z",
     "shell.execute_reply": "2022-01-08T12:12:57.580326Z"
    },
    "papermill": {
     "duration": 0.046246,
     "end_time": "2022-01-08T12:12:57.581021",
     "exception": false,
     "start_time": "2022-01-08T12:12:57.534775",
     "status": "completed"
    },
    "tags": []
   },
   "outputs": [],
   "source": [
    "# #hide\n",
    "# fig, ax = plt.subplots(figsize=(15, 8))\n",
    "\n",
    "# def draw_barchart(current_day):\n",
    "#     dff = g[g['day'].eq(current_day)].sort_values(by='value', ascending=True).tail(10)\n",
    "#     ax.clear()\n",
    "#     ax.barh(dff['name'], dff['value'], color=[colors[group_lk[x]] for x in dff['name']])\n",
    "#     dx = dff['value'].max() / 200\n",
    "    \n",
    "#     for i, (value, name) in enumerate(zip(dff['value'], dff['name'])):\n",
    "#         ax.text(value-dx, i,     name,           size=14, weight=600, ha='right', va='bottom')\n",
    "#         ax.text(value-dx, i-.25, group_lk[name], size=10, color='#444444', ha='right', va='baseline')\n",
    "#         ax.text(value+dx, i,     f'{value:,.0f}',  size=14, ha='left',  va='center')\n",
    "#     ax.text(1, 0.4, current_day, transform=ax.transAxes, color='#777777', size=46, ha='right', weight=800)\n",
    "#     ax.text(0, 1.06, 'Population (thousands)', transform=ax.transAxes, size=12, color='#777777')\n",
    "#     ax.xaxis.set_major_formatter(ticker.StrMethodFormatter('{x:,.0f}'))\n",
    "#     ax.xaxis.set_ticks_position('top')\n",
    "#     ax.tick_params(axis='x', colors='#777777', labelsize=12)\n",
    "#     ax.set_yticks([])\n",
    "#     ax.margins(0, 0.01)\n",
    "#     ax.grid(which='major', axis='x', linestyle='-')\n",
    "#     ax.set_axisbelow(True)\n",
    "    \n",
    "#     ax.text(0, 1.15, 'Coronavirus',\n",
    "#             transform=ax.transAxes, size=24, weight=600, ha='left', va='top')\n",
    "# #     ax.text(1, 0, 'by @pratapvardhan; credit @jburnmurdoch', transform=ax.transAxes, color='#777777', ha='right',\n",
    "# #             bbox=dict(facecolor='white', alpha=0.8, edgecolor='white'))\n",
    "#     plt.box(False)"
   ]
  },
  {
   "cell_type": "code",
   "execution_count": 42,
   "id": "sexual-wages",
   "metadata": {
    "execution": {
     "iopub.execute_input": "2022-01-08T12:12:57.658306Z",
     "iopub.status.busy": "2022-01-08T12:12:57.657094Z",
     "iopub.status.idle": "2022-01-08T12:12:57.659062Z",
     "shell.execute_reply": "2022-01-08T12:12:57.659565Z"
    },
    "papermill": {
     "duration": 0.043218,
     "end_time": "2022-01-08T12:12:57.659724",
     "exception": false,
     "start_time": "2022-01-08T12:12:57.616506",
     "status": "completed"
    },
    "tags": []
   },
   "outputs": [],
   "source": [
    "# #hide_input\n",
    "# fig, ax = plt.subplots(figsize=(15, 8))\n",
    "# animator = animation.FuncAnimation(fig, draw_barchart, frames=range(g.day.values.min(), g.day.values.max()))\n",
    "# HTML(animator.to_jshtml())\n",
    "# # or use animator.to_html5_video() or animator.save() "
   ]
  },
  {
   "cell_type": "code",
   "execution_count": null,
   "id": "australian-container",
   "metadata": {
    "papermill": {
     "duration": 0.035443,
     "end_time": "2022-01-08T12:12:57.731428",
     "exception": false,
     "start_time": "2022-01-08T12:12:57.695985",
     "status": "completed"
    },
    "tags": []
   },
   "outputs": [],
   "source": []
  },
  {
   "cell_type": "code",
   "execution_count": null,
   "id": "mediterranean-pontiac",
   "metadata": {
    "papermill": {
     "duration": 0.039508,
     "end_time": "2022-01-08T12:12:57.808643",
     "exception": false,
     "start_time": "2022-01-08T12:12:57.769135",
     "status": "completed"
    },
    "tags": []
   },
   "outputs": [],
   "source": []
  },
  {
   "cell_type": "code",
   "execution_count": null,
   "id": "aging-legislature",
   "metadata": {
    "papermill": {
     "duration": 0.036196,
     "end_time": "2022-01-08T12:12:57.881907",
     "exception": false,
     "start_time": "2022-01-08T12:12:57.845711",
     "status": "completed"
    },
    "tags": []
   },
   "outputs": [],
   "source": []
  }
 ],
 "metadata": {
  "kernelspec": {
   "display_name": "Python 3",
   "language": "python",
   "name": "python3"
  },
  "language_info": {
   "codemirror_mode": {
    "name": "ipython",
    "version": 3
   },
   "file_extension": ".py",
   "mimetype": "text/x-python",
   "name": "python",
   "nbconvert_exporter": "python",
   "pygments_lexer": "ipython3",
   "version": "3.6.15"
  },
  "papermill": {
   "duration": 7.741601,
   "end_time": "2022-01-08T12:12:58.328818",
   "environment_variables": {},
   "exception": null,
   "input_path": "2020-03-21-covid19exp.ipynb",
   "output_path": "2020-03-21-covid19exp.ipynb",
   "parameters": {},
   "start_time": "2022-01-08T12:12:50.587217",
   "version": "2.0.0"
  }
 },
 "nbformat": 4,
 "nbformat_minor": 5
}