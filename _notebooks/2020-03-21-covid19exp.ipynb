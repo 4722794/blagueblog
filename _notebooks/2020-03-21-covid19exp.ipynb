{
 "cells": [
  {
   "cell_type": "markdown",
   "metadata": {
    "papermill": {
     "duration": 0.031182,
     "end_time": "2021-01-19T12:25:52.811999",
     "exception": false,
     "start_time": "2021-01-19T12:25:52.780817",
     "status": "completed"
    },
    "tags": []
   },
   "source": [
    "# COVID-19 Case Race\n",
    "> A race chart to see rising cases around the world\n",
    "\n",
    "- author: Hargun Oberoi\n",
    "- image: images/covid-overview.png\n",
    "- hide: false\n",
    "- badges: false"
   ]
  },
  {
   "cell_type": "code",
   "execution_count": 1,
   "metadata": {
    "execution": {
     "iopub.execute_input": "2021-01-19T12:25:52.877399Z",
     "iopub.status.busy": "2021-01-19T12:25:52.876881Z",
     "iopub.status.idle": "2021-01-19T12:25:53.185224Z",
     "shell.execute_reply": "2021-01-19T12:25:53.184681Z"
    },
    "papermill": {
     "duration": 0.346221,
     "end_time": "2021-01-19T12:25:53.185391",
     "exception": false,
     "start_time": "2021-01-19T12:25:52.839170",
     "status": "completed"
    },
    "tags": []
   },
   "outputs": [],
   "source": [
    "#hide\n",
    "import numpy as np\n",
    "import pandas as pd\n",
    "from jinja2 import Template\n",
    "from IPython.display import HTML"
   ]
  },
  {
   "cell_type": "code",
   "execution_count": 2,
   "metadata": {
    "execution": {
     "iopub.execute_input": "2021-01-19T12:25:53.244791Z",
     "iopub.status.busy": "2021-01-19T12:25:53.244244Z",
     "iopub.status.idle": "2021-01-19T12:25:53.245547Z",
     "shell.execute_reply": "2021-01-19T12:25:53.245972Z"
    },
    "papermill": {
     "duration": 0.032982,
     "end_time": "2021-01-19T12:25:53.246111",
     "exception": false,
     "start_time": "2021-01-19T12:25:53.213129",
     "status": "completed"
    },
    "tags": []
   },
   "outputs": [],
   "source": [
    "#hide\n",
    "\n",
    "# FETCH\n",
    "base_url = 'https://raw.githubusercontent.com/pratapvardhan/notebooks/master/covid19/'\n",
    "paths = {\n",
    "    'mapping': base_url + 'mapping_countries.csv',\n",
    "    'overview': base_url + 'overview.tpl'\n",
    "}"
   ]
  },
  {
   "cell_type": "code",
   "execution_count": 3,
   "metadata": {
    "execution": {
     "iopub.execute_input": "2021-01-19T12:25:53.308914Z",
     "iopub.status.busy": "2021-01-19T12:25:53.308381Z",
     "iopub.status.idle": "2021-01-19T12:25:53.312031Z",
     "shell.execute_reply": "2021-01-19T12:25:53.312439Z"
    },
    "papermill": {
     "duration": 0.039996,
     "end_time": "2021-01-19T12:25:53.312575",
     "exception": false,
     "start_time": "2021-01-19T12:25:53.272579",
     "status": "completed"
    },
    "tags": []
   },
   "outputs": [
    {
     "data": {
      "text/plain": [
       "'https://raw.githubusercontent.com/pratapvardhan/notebooks/master/covid19/mapping_countries.csv'"
      ]
     },
     "execution_count": 3,
     "metadata": {},
     "output_type": "execute_result"
    }
   ],
   "source": [
    "#hide\n",
    "paths['mapping']"
   ]
  },
  {
   "cell_type": "code",
   "execution_count": 4,
   "metadata": {
    "execution": {
     "iopub.execute_input": "2021-01-19T12:25:53.372012Z",
     "iopub.status.busy": "2021-01-19T12:25:53.371479Z",
     "iopub.status.idle": "2021-01-19T12:25:53.373606Z",
     "shell.execute_reply": "2021-01-19T12:25:53.373178Z"
    },
    "papermill": {
     "duration": 0.034234,
     "end_time": "2021-01-19T12:25:53.373723",
     "exception": false,
     "start_time": "2021-01-19T12:25:53.339489",
     "status": "completed"
    },
    "tags": []
   },
   "outputs": [],
   "source": [
    "#hide\n",
    "def get_mappings(url):\n",
    "    df = pd.read_csv(url)\n",
    "    return {\n",
    "        'df': df,\n",
    "        'replace.country': dict(df.dropna(subset=['Name']).set_index('Country')['Name']),\n",
    "        'map.continent': dict(df.set_index('Name')['Continent'])\n",
    "    }"
   ]
  },
  {
   "cell_type": "code",
   "execution_count": 5,
   "metadata": {
    "execution": {
     "iopub.execute_input": "2021-01-19T12:25:53.431820Z",
     "iopub.status.busy": "2021-01-19T12:25:53.431299Z",
     "iopub.status.idle": "2021-01-19T12:25:53.474696Z",
     "shell.execute_reply": "2021-01-19T12:25:53.474220Z"
    },
    "papermill": {
     "duration": 0.074619,
     "end_time": "2021-01-19T12:25:53.474841",
     "exception": false,
     "start_time": "2021-01-19T12:25:53.400222",
     "status": "completed"
    },
    "tags": []
   },
   "outputs": [],
   "source": [
    "#hide\n",
    "mapping = get_mappings(paths['mapping'])"
   ]
  },
  {
   "cell_type": "code",
   "execution_count": 6,
   "metadata": {
    "execution": {
     "iopub.execute_input": "2021-01-19T12:25:53.533415Z",
     "iopub.status.busy": "2021-01-19T12:25:53.532886Z",
     "iopub.status.idle": "2021-01-19T12:25:53.534504Z",
     "shell.execute_reply": "2021-01-19T12:25:53.534884Z"
    },
    "papermill": {
     "duration": 0.033453,
     "end_time": "2021-01-19T12:25:53.535040",
     "exception": false,
     "start_time": "2021-01-19T12:25:53.501587",
     "status": "completed"
    },
    "tags": []
   },
   "outputs": [],
   "source": [
    "#hide\n",
    "def get_template(path):\n",
    "    from urllib.parse import urlparse\n",
    "    if bool(urlparse(path).netloc):\n",
    "        from urllib.request import urlopen\n",
    "        return urlopen(path).read().decode('utf8')\n",
    "    return open(path).read()"
   ]
  },
  {
   "cell_type": "code",
   "execution_count": 7,
   "metadata": {
    "execution": {
     "iopub.execute_input": "2021-01-19T12:25:53.593193Z",
     "iopub.status.busy": "2021-01-19T12:25:53.592614Z",
     "iopub.status.idle": "2021-01-19T12:25:53.594895Z",
     "shell.execute_reply": "2021-01-19T12:25:53.594459Z"
    },
    "papermill": {
     "duration": 0.033526,
     "end_time": "2021-01-19T12:25:53.595045",
     "exception": false,
     "start_time": "2021-01-19T12:25:53.561519",
     "status": "completed"
    },
    "tags": []
   },
   "outputs": [],
   "source": [
    "#hide\n",
    "def get_frame(name):\n",
    "    url = (\n",
    "        'https://raw.githubusercontent.com/CSSEGISandData/COVID-19/master/csse_covid_19_data/'\n",
    "        f'csse_covid_19_time_series/time_series_covid19_{name}_global.csv')\n",
    "    df = pd.read_csv(url)\n",
    "    # rename countries\n",
    "    df['Country/Region'] = df['Country/Region'].replace(mapping['replace.country'])\n",
    "    return df"
   ]
  },
  {
   "cell_type": "code",
   "execution_count": 8,
   "metadata": {
    "execution": {
     "iopub.execute_input": "2021-01-19T12:25:53.654310Z",
     "iopub.status.busy": "2021-01-19T12:25:53.653800Z",
     "iopub.status.idle": "2021-01-19T12:25:53.655373Z",
     "shell.execute_reply": "2021-01-19T12:25:53.655810Z"
    },
    "papermill": {
     "duration": 0.034448,
     "end_time": "2021-01-19T12:25:53.655947",
     "exception": false,
     "start_time": "2021-01-19T12:25:53.621499",
     "status": "completed"
    },
    "tags": []
   },
   "outputs": [],
   "source": [
    "#hide\n",
    "def get_dates(df):\n",
    "    dt_cols = df.columns[~df.columns.isin(['Province/State', 'Country/Region', 'Lat', 'Long'])]\n",
    "    LAST_DATE_I = -1\n",
    "    # sometimes last column may be empty, then go backwards\n",
    "    for i in range(-1, -len(dt_cols), -1):\n",
    "        if not df[dt_cols[i]].fillna(0).eq(0).all():\n",
    "            LAST_DATE_I = i\n",
    "            break\n",
    "    return LAST_DATE_I, dt_cols"
   ]
  },
  {
   "cell_type": "code",
   "execution_count": 9,
   "metadata": {
    "execution": {
     "iopub.execute_input": "2021-01-19T12:25:53.714286Z",
     "iopub.status.busy": "2021-01-19T12:25:53.713717Z",
     "iopub.status.idle": "2021-01-19T12:25:54.021435Z",
     "shell.execute_reply": "2021-01-19T12:25:54.020979Z"
    },
    "papermill": {
     "duration": 0.339196,
     "end_time": "2021-01-19T12:25:54.021571",
     "exception": false,
     "start_time": "2021-01-19T12:25:53.682375",
     "status": "completed"
    },
    "tags": []
   },
   "outputs": [],
   "source": [
    "#hide\n",
    "COL_REGION = 'Country/Region'\n",
    "# Confirmed, Recovered, Deaths\n",
    "df = get_frame('confirmed')\n",
    "# dft_: timeseries, dfc_: today country agg\n",
    "dft_cases = df\n",
    "dft_deaths = get_frame('deaths')\n",
    "dft_recovered = get_frame('recovered')\n",
    "LAST_DATE_I, dt_cols = get_dates(df)"
   ]
  },
  {
   "cell_type": "code",
   "execution_count": 10,
   "metadata": {
    "execution": {
     "iopub.execute_input": "2021-01-19T12:25:54.081326Z",
     "iopub.status.busy": "2021-01-19T12:25:54.080783Z",
     "iopub.status.idle": "2021-01-19T12:25:54.082740Z",
     "shell.execute_reply": "2021-01-19T12:25:54.082241Z"
    },
    "papermill": {
     "duration": 0.034274,
     "end_time": "2021-01-19T12:25:54.082857",
     "exception": false,
     "start_time": "2021-01-19T12:25:54.048583",
     "status": "completed"
    },
    "tags": []
   },
   "outputs": [],
   "source": [
    "#hide\n",
    "LAST_DATE_I, dt_cols = get_dates(df)\n",
    "dt_today =dt_cols[LAST_DATE_I]\n",
    "# dt_5day = dt_cols[LAST_DATE_I - 5]\n",
    "dt_yday = dt_cols[LAST_DATE_I - 1]"
   ]
  },
  {
   "cell_type": "code",
   "execution_count": 11,
   "metadata": {
    "execution": {
     "iopub.execute_input": "2021-01-19T12:25:54.142315Z",
     "iopub.status.busy": "2021-01-19T12:25:54.141788Z",
     "iopub.status.idle": "2021-01-19T12:25:54.148825Z",
     "shell.execute_reply": "2021-01-19T12:25:54.148414Z"
    },
    "papermill": {
     "duration": 0.039416,
     "end_time": "2021-01-19T12:25:54.148948",
     "exception": false,
     "start_time": "2021-01-19T12:25:54.109532",
     "status": "completed"
    },
    "tags": []
   },
   "outputs": [],
   "source": [
    "#hide\n",
    "dfc_cases = dft_cases.groupby(COL_REGION)[dt_today].sum()\n",
    "dfc_deaths = dft_deaths.groupby(COL_REGION)[dt_today].sum()\n",
    "# dfp_cases = dft_cases.groupby(COL_REGION)[dt_5day].sum()\n",
    "# dfp_deaths = dft_deaths.groupby(COL_REGION)[dt_5day].sum()\n",
    "dfp_cases = dft_cases.groupby(COL_REGION)[dt_yday].sum()\n",
    "dfp_deaths = dft_deaths.groupby(COL_REGION)[dt_yday].sum()"
   ]
  },
  {
   "cell_type": "code",
   "execution_count": 12,
   "metadata": {
    "execution": {
     "iopub.execute_input": "2021-01-19T12:25:54.208782Z",
     "iopub.status.busy": "2021-01-19T12:25:54.208257Z",
     "iopub.status.idle": "2021-01-19T12:25:54.212560Z",
     "shell.execute_reply": "2021-01-19T12:25:54.212997Z"
    },
    "papermill": {
     "duration": 0.037306,
     "end_time": "2021-01-19T12:25:54.213133",
     "exception": false,
     "start_time": "2021-01-19T12:25:54.175827",
     "status": "completed"
    },
    "tags": []
   },
   "outputs": [],
   "source": [
    "#hide\n",
    "df_table = (pd.DataFrame(dict(Cases = dfc_cases, Deaths = dfc_deaths, PCases = dfp_cases, PDeaths = dfp_deaths))\n",
    "            .sort_values(by = ['Cases','Deaths'], ascending = [False, False])\n",
    "            .reset_index())"
   ]
  },
  {
   "cell_type": "code",
   "execution_count": 13,
   "metadata": {
    "execution": {
     "iopub.execute_input": "2021-01-19T12:25:54.284038Z",
     "iopub.status.busy": "2021-01-19T12:25:54.283515Z",
     "iopub.status.idle": "2021-01-19T12:25:54.290352Z",
     "shell.execute_reply": "2021-01-19T12:25:54.289948Z"
    },
    "papermill": {
     "duration": 0.050741,
     "end_time": "2021-01-19T12:25:54.290472",
     "exception": false,
     "start_time": "2021-01-19T12:25:54.239731",
     "status": "completed"
    },
    "tags": []
   },
   "outputs": [
    {
     "data": {
      "text/html": [
       "<div>\n",
       "<style scoped>\n",
       "    .dataframe tbody tr th:only-of-type {\n",
       "        vertical-align: middle;\n",
       "    }\n",
       "\n",
       "    .dataframe tbody tr th {\n",
       "        vertical-align: top;\n",
       "    }\n",
       "\n",
       "    .dataframe thead th {\n",
       "        text-align: right;\n",
       "    }\n",
       "</style>\n",
       "<table border=\"1\" class=\"dataframe\">\n",
       "  <thead>\n",
       "    <tr style=\"text-align: right;\">\n",
       "      <th></th>\n",
       "      <th>Country/Region</th>\n",
       "      <th>Cases</th>\n",
       "      <th>Deaths</th>\n",
       "      <th>PCases</th>\n",
       "      <th>PDeaths</th>\n",
       "      <th>Cases (+)</th>\n",
       "      <th>Deaths (+)</th>\n",
       "      <th>Fatality Rate</th>\n",
       "      <th>Continent</th>\n",
       "    </tr>\n",
       "  </thead>\n",
       "  <tbody>\n",
       "    <tr>\n",
       "      <th>0</th>\n",
       "      <td>US</td>\n",
       "      <td>24078772</td>\n",
       "      <td>399003</td>\n",
       "      <td>23936773</td>\n",
       "      <td>397600</td>\n",
       "      <td>141999</td>\n",
       "      <td>1403</td>\n",
       "      <td>1.66</td>\n",
       "      <td>North America</td>\n",
       "    </tr>\n",
       "    <tr>\n",
       "      <th>1</th>\n",
       "      <td>India</td>\n",
       "      <td>10581823</td>\n",
       "      <td>152556</td>\n",
       "      <td>10571773</td>\n",
       "      <td>152419</td>\n",
       "      <td>10050</td>\n",
       "      <td>137</td>\n",
       "      <td>1.44</td>\n",
       "      <td>Asia</td>\n",
       "    </tr>\n",
       "    <tr>\n",
       "      <th>2</th>\n",
       "      <td>Brazil</td>\n",
       "      <td>8511770</td>\n",
       "      <td>210299</td>\n",
       "      <td>8488099</td>\n",
       "      <td>209847</td>\n",
       "      <td>23671</td>\n",
       "      <td>452</td>\n",
       "      <td>2.47</td>\n",
       "      <td>South America</td>\n",
       "    </tr>\n",
       "    <tr>\n",
       "      <th>3</th>\n",
       "      <td>Russia</td>\n",
       "      <td>3552888</td>\n",
       "      <td>65059</td>\n",
       "      <td>3530379</td>\n",
       "      <td>64601</td>\n",
       "      <td>22509</td>\n",
       "      <td>458</td>\n",
       "      <td>1.83</td>\n",
       "      <td>Europe</td>\n",
       "    </tr>\n",
       "    <tr>\n",
       "      <th>4</th>\n",
       "      <td>United Kingdom</td>\n",
       "      <td>3443350</td>\n",
       "      <td>90031</td>\n",
       "      <td>3405740</td>\n",
       "      <td>89429</td>\n",
       "      <td>37610</td>\n",
       "      <td>602</td>\n",
       "      <td>2.61</td>\n",
       "      <td>Europe</td>\n",
       "    </tr>\n",
       "  </tbody>\n",
       "</table>\n",
       "</div>"
      ],
      "text/plain": [
       "   Country/Region     Cases  Deaths    PCases  PDeaths  Cases (+)  Deaths (+)  \\\n",
       "0              US  24078772  399003  23936773   397600     141999        1403   \n",
       "1           India  10581823  152556  10571773   152419      10050         137   \n",
       "2          Brazil   8511770  210299   8488099   209847      23671         452   \n",
       "3          Russia   3552888   65059   3530379    64601      22509         458   \n",
       "4  United Kingdom   3443350   90031   3405740    89429      37610         602   \n",
       "\n",
       "   Fatality Rate      Continent  \n",
       "0           1.66  North America  \n",
       "1           1.44           Asia  \n",
       "2           2.47  South America  \n",
       "3           1.83         Europe  \n",
       "4           2.61         Europe  "
      ]
     },
     "execution_count": 13,
     "metadata": {},
     "output_type": "execute_result"
    }
   ],
   "source": [
    "#hide\n",
    "for c in 'Cases, Deaths'.split(', '):\n",
    "    df_table[f'{c} (+)'] = (df_table[c] - df_table[f'P{c}']).clip(0)\n",
    "    #Clip ça veut dire, les chiffres negatif sont interdit\n",
    "df_table['Fatality Rate'] = (100* df_table['Deaths']/ df_table['Cases']).round(2)\n",
    "df_table['Continent'] = df_table['Country/Region'].map(mapping['map.continent'])\n",
    "df_table.head(5)"
   ]
  },
  {
   "cell_type": "code",
   "execution_count": 14,
   "metadata": {
    "execution": {
     "iopub.execute_input": "2021-01-19T12:25:54.349988Z",
     "iopub.status.busy": "2021-01-19T12:25:54.349486Z",
     "iopub.status.idle": "2021-01-19T12:25:54.351916Z",
     "shell.execute_reply": "2021-01-19T12:25:54.351511Z"
    },
    "papermill": {
     "duration": 0.034596,
     "end_time": "2021-01-19T12:25:54.352030",
     "exception": false,
     "start_time": "2021-01-19T12:25:54.317434",
     "status": "completed"
    },
    "tags": []
   },
   "outputs": [],
   "source": [
    "#hide\n",
    "#delete problematic countries from table\n",
    "df_table = df_table[~df_table['Country/Region'].isin(['Cape Verde', 'Cruise Ship', 'Kosovo'])]"
   ]
  },
  {
   "cell_type": "code",
   "execution_count": 15,
   "metadata": {
    "execution": {
     "iopub.execute_input": "2021-01-19T12:25:54.413971Z",
     "iopub.status.busy": "2021-01-19T12:25:54.413458Z",
     "iopub.status.idle": "2021-01-19T12:25:54.430087Z",
     "shell.execute_reply": "2021-01-19T12:25:54.430531Z"
    },
    "papermill": {
     "duration": 0.051817,
     "end_time": "2021-01-19T12:25:54.430692",
     "exception": false,
     "start_time": "2021-01-19T12:25:54.378875",
     "status": "completed"
    },
    "tags": []
   },
   "outputs": [
    {
     "data": {
      "text/html": [
       "<div>\n",
       "<style scoped>\n",
       "    .dataframe tbody tr th:only-of-type {\n",
       "        vertical-align: middle;\n",
       "    }\n",
       "\n",
       "    .dataframe tbody tr th {\n",
       "        vertical-align: top;\n",
       "    }\n",
       "\n",
       "    .dataframe thead th {\n",
       "        text-align: right;\n",
       "    }\n",
       "</style>\n",
       "<table border=\"1\" class=\"dataframe\">\n",
       "  <thead>\n",
       "    <tr style=\"text-align: right;\">\n",
       "      <th></th>\n",
       "      <th>Country/Region</th>\n",
       "      <th>Cases</th>\n",
       "      <th>Deaths</th>\n",
       "      <th>PCases</th>\n",
       "      <th>PDeaths</th>\n",
       "      <th>Cases (+)</th>\n",
       "      <th>Deaths (+)</th>\n",
       "      <th>Fatality Rate</th>\n",
       "      <th>Continent</th>\n",
       "    </tr>\n",
       "  </thead>\n",
       "  <tbody>\n",
       "    <tr>\n",
       "      <th>0</th>\n",
       "      <td>US</td>\n",
       "      <td>24078772</td>\n",
       "      <td>399003</td>\n",
       "      <td>23936773</td>\n",
       "      <td>397600</td>\n",
       "      <td>141999</td>\n",
       "      <td>1403</td>\n",
       "      <td>1.7</td>\n",
       "      <td>North America</td>\n",
       "    </tr>\n",
       "    <tr>\n",
       "      <th>1</th>\n",
       "      <td>India</td>\n",
       "      <td>10581823</td>\n",
       "      <td>152556</td>\n",
       "      <td>10571773</td>\n",
       "      <td>152419</td>\n",
       "      <td>10050</td>\n",
       "      <td>137</td>\n",
       "      <td>1.4</td>\n",
       "      <td>Asia</td>\n",
       "    </tr>\n",
       "    <tr>\n",
       "      <th>2</th>\n",
       "      <td>Brazil</td>\n",
       "      <td>8511770</td>\n",
       "      <td>210299</td>\n",
       "      <td>8488099</td>\n",
       "      <td>209847</td>\n",
       "      <td>23671</td>\n",
       "      <td>452</td>\n",
       "      <td>2.5</td>\n",
       "      <td>South America</td>\n",
       "    </tr>\n",
       "    <tr>\n",
       "      <th>3</th>\n",
       "      <td>Russia</td>\n",
       "      <td>3552888</td>\n",
       "      <td>65059</td>\n",
       "      <td>3530379</td>\n",
       "      <td>64601</td>\n",
       "      <td>22509</td>\n",
       "      <td>458</td>\n",
       "      <td>1.8</td>\n",
       "      <td>Europe</td>\n",
       "    </tr>\n",
       "    <tr>\n",
       "      <th>4</th>\n",
       "      <td>United Kingdom</td>\n",
       "      <td>3443350</td>\n",
       "      <td>90031</td>\n",
       "      <td>3405740</td>\n",
       "      <td>89429</td>\n",
       "      <td>37610</td>\n",
       "      <td>602</td>\n",
       "      <td>2.6</td>\n",
       "      <td>Europe</td>\n",
       "    </tr>\n",
       "  </tbody>\n",
       "</table>\n",
       "</div>"
      ],
      "text/plain": [
       "   Country/Region     Cases  Deaths    PCases  PDeaths  Cases (+)  Deaths (+)  \\\n",
       "0              US  24078772  399003  23936773   397600     141999        1403   \n",
       "1           India  10581823  152556  10571773   152419      10050         137   \n",
       "2          Brazil   8511770  210299   8488099   209847      23671         452   \n",
       "3          Russia   3552888   65059   3530379    64601      22509         458   \n",
       "4  United Kingdom   3443350   90031   3405740    89429      37610         602   \n",
       "\n",
       "   Fatality Rate      Continent  \n",
       "0            1.7  North America  \n",
       "1            1.4           Asia  \n",
       "2            2.5  South America  \n",
       "3            1.8         Europe  \n",
       "4            2.6         Europe  "
      ]
     },
     "execution_count": 15,
     "metadata": {},
     "output_type": "execute_result"
    }
   ],
   "source": [
    "#hide\n",
    "df_table = (pd.DataFrame(dict(Cases=dfc_cases, Deaths=dfc_deaths, PCases=dfp_cases, PDeaths=dfp_deaths))\n",
    "             .sort_values(by=['Cases', 'Deaths'], ascending=[False, False])\n",
    "             .reset_index())\n",
    "df_table.rename(columns={'index': 'Country/Region'}, inplace=True)\n",
    "for c in 'Cases, Deaths'.split(', '):\n",
    "    df_table[f'{c} (+)'] = (df_table[c] - df_table[f'P{c}']).clip(0)  # DATA BUG\n",
    "df_table['Fatality Rate'] = (100 * df_table['Deaths'] / df_table['Cases']).round(1)\n",
    "df_table['Continent'] = df_table['Country/Region'].map(mapping['map.continent'])\n",
    "df_table.head(5)"
   ]
  },
  {
   "cell_type": "code",
   "execution_count": 16,
   "metadata": {
    "execution": {
     "iopub.execute_input": "2021-01-19T12:25:54.492217Z",
     "iopub.status.busy": "2021-01-19T12:25:54.491702Z",
     "iopub.status.idle": "2021-01-19T12:25:54.494734Z",
     "shell.execute_reply": "2021-01-19T12:25:54.494299Z"
    },
    "papermill": {
     "duration": 0.035664,
     "end_time": "2021-01-19T12:25:54.494852",
     "exception": false,
     "start_time": "2021-01-19T12:25:54.459188",
     "status": "completed"
    },
    "tags": []
   },
   "outputs": [],
   "source": [
    "#hide\n",
    "#delete problematic countries from table\n",
    "df_table = df_table[~df_table['Country/Region'].isin(['Cape Verde', 'Cruise Ship', 'Kosovo'])]"
   ]
  },
  {
   "cell_type": "code",
   "execution_count": 17,
   "metadata": {
    "execution": {
     "iopub.execute_input": "2021-01-19T12:25:54.561099Z",
     "iopub.status.busy": "2021-01-19T12:25:54.560576Z",
     "iopub.status.idle": "2021-01-19T12:25:54.569784Z",
     "shell.execute_reply": "2021-01-19T12:25:54.569373Z"
    },
    "papermill": {
     "duration": 0.047655,
     "end_time": "2021-01-19T12:25:54.569905",
     "exception": false,
     "start_time": "2021-01-19T12:25:54.522250",
     "status": "completed"
    },
    "tags": []
   },
   "outputs": [],
   "source": [
    "#hide\n",
    "metrics = [df_table.columns[index] for index in [1,2,5,6]]\n",
    "# s_china = df_table[df_table['Country/Region'].eq('China')][metrics].sum().add_prefix('China ')\n",
    "s_us = df_table[df_table['Country/Region'].eq('US')][metrics].sum().add_prefix('US ')\n",
    "s_eu = df_table[df_table['Continent'].eq('Europe')][metrics].sum().add_prefix('EU ')\n",
    "s_ind = df_table[df_table['Country/Region'].eq('India')][metrics].sum().add_prefix('India ')\n",
    "summary = {'updated': pd.to_datetime(dt_today), 'since': pd.to_datetime(dt_yday)}\n",
    "summary = {'updated': pd.to_datetime(dt_today), 'since': pd.to_datetime(dt_yday)}\n",
    "summary = {**summary, **df_table[metrics].sum(), **s_ind, **s_us, **s_eu}"
   ]
  },
  {
   "cell_type": "code",
   "execution_count": 18,
   "metadata": {
    "execution": {
     "iopub.execute_input": "2021-01-19T12:25:54.632608Z",
     "iopub.status.busy": "2021-01-19T12:25:54.632081Z",
     "iopub.status.idle": "2021-01-19T12:25:54.641083Z",
     "shell.execute_reply": "2021-01-19T12:25:54.640634Z"
    },
    "papermill": {
     "duration": 0.043654,
     "end_time": "2021-01-19T12:25:54.641207",
     "exception": false,
     "start_time": "2021-01-19T12:25:54.597553",
     "status": "completed"
    },
    "tags": []
   },
   "outputs": [],
   "source": [
    "#hide\n",
    "dft_ct_new_cases = dft_cases.groupby(COL_REGION)[dt_cols].sum().diff(axis=1).fillna(0).astype(int)"
   ]
  },
  {
   "cell_type": "code",
   "execution_count": 19,
   "metadata": {
    "execution": {
     "iopub.execute_input": "2021-01-19T12:25:54.702389Z",
     "iopub.status.busy": "2021-01-19T12:25:54.701865Z",
     "iopub.status.idle": "2021-01-19T12:25:54.704059Z",
     "shell.execute_reply": "2021-01-19T12:25:54.703648Z"
    },
    "papermill": {
     "duration": 0.035249,
     "end_time": "2021-01-19T12:25:54.704179",
     "exception": false,
     "start_time": "2021-01-19T12:25:54.668930",
     "status": "completed"
    },
    "tags": []
   },
   "outputs": [],
   "source": [
    "#hide\n",
    "everydaycases = dft_ct_new_cases.cumsum(axis=1)"
   ]
  },
  {
   "cell_type": "code",
   "execution_count": 20,
   "metadata": {
    "execution": {
     "iopub.execute_input": "2021-01-19T12:25:54.763538Z",
     "iopub.status.busy": "2021-01-19T12:25:54.762999Z",
     "iopub.status.idle": "2021-01-19T12:25:55.661081Z",
     "shell.execute_reply": "2021-01-19T12:25:55.660592Z"
    },
    "papermill": {
     "duration": 0.929579,
     "end_time": "2021-01-19T12:25:55.661218",
     "exception": false,
     "start_time": "2021-01-19T12:25:54.731639",
     "status": "completed"
    },
    "tags": []
   },
   "outputs": [],
   "source": [
    "#hide\n",
    "import pandas as pd\n",
    "import matplotlib.pyplot as plt\n",
    "import matplotlib.ticker as ticker\n",
    "import matplotlib.animation as animation\n",
    "from IPython.display import HTML"
   ]
  },
  {
   "cell_type": "code",
   "execution_count": 21,
   "metadata": {
    "execution": {
     "iopub.execute_input": "2021-01-19T12:25:55.721206Z",
     "iopub.status.busy": "2021-01-19T12:25:55.720691Z",
     "iopub.status.idle": "2021-01-19T12:25:55.725459Z",
     "shell.execute_reply": "2021-01-19T12:25:55.725034Z"
    },
    "papermill": {
     "duration": 0.03686,
     "end_time": "2021-01-19T12:25:55.725573",
     "exception": false,
     "start_time": "2021-01-19T12:25:55.688713",
     "status": "completed"
    },
    "tags": []
   },
   "outputs": [],
   "source": [
    "#hide\n",
    "t = everydaycases.stack()"
   ]
  },
  {
   "cell_type": "code",
   "execution_count": 22,
   "metadata": {
    "execution": {
     "iopub.execute_input": "2021-01-19T12:25:55.785329Z",
     "iopub.status.busy": "2021-01-19T12:25:55.784816Z",
     "iopub.status.idle": "2021-01-19T12:25:55.792672Z",
     "shell.execute_reply": "2021-01-19T12:25:55.791711Z"
    },
    "papermill": {
     "duration": 0.039697,
     "end_time": "2021-01-19T12:25:55.792800",
     "exception": false,
     "start_time": "2021-01-19T12:25:55.753103",
     "status": "completed"
    },
    "tags": []
   },
   "outputs": [],
   "source": [
    "#hide\n",
    "g = t.reset_index(['Country/Region'])"
   ]
  },
  {
   "cell_type": "code",
   "execution_count": 23,
   "metadata": {
    "execution": {
     "iopub.execute_input": "2021-01-19T12:25:55.852158Z",
     "iopub.status.busy": "2021-01-19T12:25:55.851614Z",
     "iopub.status.idle": "2021-01-19T12:25:55.853805Z",
     "shell.execute_reply": "2021-01-19T12:25:55.853301Z"
    },
    "papermill": {
     "duration": 0.033232,
     "end_time": "2021-01-19T12:25:55.853922",
     "exception": false,
     "start_time": "2021-01-19T12:25:55.820690",
     "status": "completed"
    },
    "tags": []
   },
   "outputs": [],
   "source": [
    "#hide\n",
    "g.index.name = 'date'"
   ]
  },
  {
   "cell_type": "code",
   "execution_count": 24,
   "metadata": {
    "execution": {
     "iopub.execute_input": "2021-01-19T12:25:55.913062Z",
     "iopub.status.busy": "2021-01-19T12:25:55.912457Z",
     "iopub.status.idle": "2021-01-19T12:25:55.915948Z",
     "shell.execute_reply": "2021-01-19T12:25:55.915544Z"
    },
    "papermill": {
     "duration": 0.034721,
     "end_time": "2021-01-19T12:25:55.916075",
     "exception": false,
     "start_time": "2021-01-19T12:25:55.881354",
     "status": "completed"
    },
    "tags": []
   },
   "outputs": [],
   "source": [
    "# #hide\n",
    "# g = g.reset_index(['date'])"
   ]
  },
  {
   "cell_type": "code",
   "execution_count": 25,
   "metadata": {
    "execution": {
     "iopub.execute_input": "2021-01-19T12:25:55.974363Z",
     "iopub.status.busy": "2021-01-19T12:25:55.973768Z",
     "iopub.status.idle": "2021-01-19T12:25:55.977569Z",
     "shell.execute_reply": "2021-01-19T12:25:55.977128Z"
    },
    "papermill": {
     "duration": 0.034403,
     "end_time": "2021-01-19T12:25:55.977684",
     "exception": false,
     "start_time": "2021-01-19T12:25:55.943281",
     "status": "completed"
    },
    "tags": []
   },
   "outputs": [],
   "source": [
    "#hide\n",
    "# g.head()"
   ]
  },
  {
   "cell_type": "code",
   "execution_count": 26,
   "metadata": {
    "execution": {
     "iopub.execute_input": "2021-01-19T12:25:56.036546Z",
     "iopub.status.busy": "2021-01-19T12:25:56.035965Z",
     "iopub.status.idle": "2021-01-19T12:25:56.037945Z",
     "shell.execute_reply": "2021-01-19T12:25:56.037384Z"
    },
    "papermill": {
     "duration": 0.033027,
     "end_time": "2021-01-19T12:25:56.038068",
     "exception": false,
     "start_time": "2021-01-19T12:25:56.005041",
     "status": "completed"
    },
    "tags": []
   },
   "outputs": [],
   "source": [
    "#hide\n",
    "# g.columns = ['date','country','cases']"
   ]
  },
  {
   "cell_type": "code",
   "execution_count": 27,
   "metadata": {
    "execution": {
     "iopub.execute_input": "2021-01-19T12:25:56.097013Z",
     "iopub.status.busy": "2021-01-19T12:25:56.096402Z",
     "iopub.status.idle": "2021-01-19T12:25:56.097908Z",
     "shell.execute_reply": "2021-01-19T12:25:56.098364Z"
    },
    "papermill": {
     "duration": 0.032861,
     "end_time": "2021-01-19T12:25:56.098517",
     "exception": false,
     "start_time": "2021-01-19T12:25:56.065656",
     "status": "completed"
    },
    "tags": []
   },
   "outputs": [],
   "source": [
    "#hide\n",
    "# g['continent'] = g.country"
   ]
  },
  {
   "cell_type": "code",
   "execution_count": 28,
   "metadata": {
    "execution": {
     "iopub.execute_input": "2021-01-19T12:25:56.157571Z",
     "iopub.status.busy": "2021-01-19T12:25:56.156968Z",
     "iopub.status.idle": "2021-01-19T12:25:56.158444Z",
     "shell.execute_reply": "2021-01-19T12:25:56.158872Z"
    },
    "papermill": {
     "duration": 0.032672,
     "end_time": "2021-01-19T12:25:56.159043",
     "exception": false,
     "start_time": "2021-01-19T12:25:56.126371",
     "status": "completed"
    },
    "tags": []
   },
   "outputs": [],
   "source": [
    "#hide\n",
    "# cols = list(g.columns.values)"
   ]
  },
  {
   "cell_type": "code",
   "execution_count": 29,
   "metadata": {
    "execution": {
     "iopub.execute_input": "2021-01-19T12:25:56.217465Z",
     "iopub.status.busy": "2021-01-19T12:25:56.216876Z",
     "iopub.status.idle": "2021-01-19T12:25:56.218267Z",
     "shell.execute_reply": "2021-01-19T12:25:56.218691Z"
    },
    "papermill": {
     "duration": 0.032306,
     "end_time": "2021-01-19T12:25:56.218838",
     "exception": false,
     "start_time": "2021-01-19T12:25:56.186532",
     "status": "completed"
    },
    "tags": []
   },
   "outputs": [],
   "source": [
    "#hide\n",
    "# cols.insert(0, cols.pop())"
   ]
  },
  {
   "cell_type": "code",
   "execution_count": 30,
   "metadata": {
    "execution": {
     "iopub.execute_input": "2021-01-19T12:25:56.277410Z",
     "iopub.status.busy": "2021-01-19T12:25:56.276827Z",
     "iopub.status.idle": "2021-01-19T12:25:56.278265Z",
     "shell.execute_reply": "2021-01-19T12:25:56.278691Z"
    },
    "papermill": {
     "duration": 0.032267,
     "end_time": "2021-01-19T12:25:56.278837",
     "exception": false,
     "start_time": "2021-01-19T12:25:56.246570",
     "status": "completed"
    },
    "tags": []
   },
   "outputs": [],
   "source": [
    "#hide\n",
    "# g = g[cols]"
   ]
  },
  {
   "cell_type": "code",
   "execution_count": 31,
   "metadata": {
    "execution": {
     "iopub.execute_input": "2021-01-19T12:25:56.337784Z",
     "iopub.status.busy": "2021-01-19T12:25:56.337262Z",
     "iopub.status.idle": "2021-01-19T12:25:56.339571Z",
     "shell.execute_reply": "2021-01-19T12:25:56.339135Z"
    },
    "papermill": {
     "duration": 0.032851,
     "end_time": "2021-01-19T12:25:56.339688",
     "exception": false,
     "start_time": "2021-01-19T12:25:56.306837",
     "status": "completed"
    },
    "tags": []
   },
   "outputs": [],
   "source": [
    "#hide\n",
    "# g['continent'] = g['continent'].map(mapping['map.continent'])"
   ]
  },
  {
   "cell_type": "code",
   "execution_count": 32,
   "metadata": {
    "execution": {
     "iopub.execute_input": "2021-01-19T12:25:56.398182Z",
     "iopub.status.busy": "2021-01-19T12:25:56.397673Z",
     "iopub.status.idle": "2021-01-19T12:25:56.399463Z",
     "shell.execute_reply": "2021-01-19T12:25:56.399839Z"
    },
    "papermill": {
     "duration": 0.032706,
     "end_time": "2021-01-19T12:25:56.399971",
     "exception": false,
     "start_time": "2021-01-19T12:25:56.367265",
     "status": "completed"
    },
    "tags": []
   },
   "outputs": [],
   "source": [
    "#hide\n",
    "# g.head()"
   ]
  },
  {
   "cell_type": "code",
   "execution_count": 33,
   "metadata": {
    "execution": {
     "iopub.execute_input": "2021-01-19T12:25:56.458053Z",
     "iopub.status.busy": "2021-01-19T12:25:56.457533Z",
     "iopub.status.idle": "2021-01-19T12:25:56.459529Z",
     "shell.execute_reply": "2021-01-19T12:25:56.459105Z"
    },
    "papermill": {
     "duration": 0.032633,
     "end_time": "2021-01-19T12:25:56.459637",
     "exception": false,
     "start_time": "2021-01-19T12:25:56.427004",
     "status": "completed"
    },
    "tags": []
   },
   "outputs": [],
   "source": [
    "# hide\n",
    "# g['date'] = g['date'].astype('datetime64[ns]')"
   ]
  },
  {
   "cell_type": "code",
   "execution_count": 34,
   "metadata": {
    "execution": {
     "iopub.execute_input": "2021-01-19T12:25:56.518197Z",
     "iopub.status.busy": "2021-01-19T12:25:56.517696Z",
     "iopub.status.idle": "2021-01-19T12:25:56.519745Z",
     "shell.execute_reply": "2021-01-19T12:25:56.519324Z"
    },
    "papermill": {
     "duration": 0.032727,
     "end_time": "2021-01-19T12:25:56.519858",
     "exception": false,
     "start_time": "2021-01-19T12:25:56.487131",
     "status": "completed"
    },
    "tags": []
   },
   "outputs": [],
   "source": [
    "#hide\n",
    "# g['date'] = g.date.dt.dayofyear"
   ]
  },
  {
   "cell_type": "code",
   "execution_count": 35,
   "metadata": {
    "execution": {
     "iopub.execute_input": "2021-01-19T12:25:56.577542Z",
     "iopub.status.busy": "2021-01-19T12:25:56.577042Z",
     "iopub.status.idle": "2021-01-19T12:25:56.579113Z",
     "shell.execute_reply": "2021-01-19T12:25:56.578675Z"
    },
    "papermill": {
     "duration": 0.03227,
     "end_time": "2021-01-19T12:25:56.579225",
     "exception": false,
     "start_time": "2021-01-19T12:25:56.546955",
     "status": "completed"
    },
    "tags": []
   },
   "outputs": [],
   "source": [
    "#hide\n",
    "# g = g.rename(columns= {'continent':'group','country':'name','cases':'value'})"
   ]
  },
  {
   "cell_type": "code",
   "execution_count": 36,
   "metadata": {
    "execution": {
     "iopub.execute_input": "2021-01-19T12:25:56.637623Z",
     "iopub.status.busy": "2021-01-19T12:25:56.637119Z",
     "iopub.status.idle": "2021-01-19T12:25:56.639285Z",
     "shell.execute_reply": "2021-01-19T12:25:56.638863Z"
    },
    "papermill": {
     "duration": 0.0329,
     "end_time": "2021-01-19T12:25:56.639401",
     "exception": false,
     "start_time": "2021-01-19T12:25:56.606501",
     "status": "completed"
    },
    "tags": []
   },
   "outputs": [],
   "source": [
    "#hide\n",
    "# cols = ['name','group','day','value']"
   ]
  },
  {
   "cell_type": "code",
   "execution_count": 37,
   "metadata": {
    "execution": {
     "iopub.execute_input": "2021-01-19T12:25:56.697681Z",
     "iopub.status.busy": "2021-01-19T12:25:56.697166Z",
     "iopub.status.idle": "2021-01-19T12:25:56.699322Z",
     "shell.execute_reply": "2021-01-19T12:25:56.698897Z"
    },
    "papermill": {
     "duration": 0.032785,
     "end_time": "2021-01-19T12:25:56.699438",
     "exception": false,
     "start_time": "2021-01-19T12:25:56.666653",
     "status": "completed"
    },
    "tags": []
   },
   "outputs": [],
   "source": [
    "#hide\n",
    "# g.rename(columns= {'date':'day'},inplace = True)"
   ]
  },
  {
   "cell_type": "code",
   "execution_count": 38,
   "metadata": {
    "execution": {
     "iopub.execute_input": "2021-01-19T12:25:56.757960Z",
     "iopub.status.busy": "2021-01-19T12:25:56.757446Z",
     "iopub.status.idle": "2021-01-19T12:25:56.759451Z",
     "shell.execute_reply": "2021-01-19T12:25:56.759009Z"
    },
    "papermill": {
     "duration": 0.032822,
     "end_time": "2021-01-19T12:25:56.759573",
     "exception": false,
     "start_time": "2021-01-19T12:25:56.726751",
     "status": "completed"
    },
    "tags": []
   },
   "outputs": [],
   "source": [
    "#hide\n",
    "# g = g[cols]"
   ]
  },
  {
   "cell_type": "code",
   "execution_count": 39,
   "metadata": {
    "execution": {
     "iopub.execute_input": "2021-01-19T12:25:56.818091Z",
     "iopub.status.busy": "2021-01-19T12:25:56.817575Z",
     "iopub.status.idle": "2021-01-19T12:25:56.819745Z",
     "shell.execute_reply": "2021-01-19T12:25:56.819343Z"
    },
    "papermill": {
     "duration": 0.032934,
     "end_time": "2021-01-19T12:25:56.819860",
     "exception": false,
     "start_time": "2021-01-19T12:25:56.786926",
     "status": "completed"
    },
    "tags": []
   },
   "outputs": [],
   "source": [
    "# #hide\n",
    "# g = g[g.group.notna()]"
   ]
  },
  {
   "cell_type": "code",
   "execution_count": 40,
   "metadata": {
    "execution": {
     "iopub.execute_input": "2021-01-19T12:25:56.878399Z",
     "iopub.status.busy": "2021-01-19T12:25:56.877885Z",
     "iopub.status.idle": "2021-01-19T12:25:56.879973Z",
     "shell.execute_reply": "2021-01-19T12:25:56.879549Z"
    },
    "papermill": {
     "duration": 0.032883,
     "end_time": "2021-01-19T12:25:56.880085",
     "exception": false,
     "start_time": "2021-01-19T12:25:56.847202",
     "status": "completed"
    },
    "tags": []
   },
   "outputs": [],
   "source": [
    "# #hide\n",
    "# colors = dict(zip(\n",
    "#     [\"Oceania\", \"Europe\", \"Asia\", \"South America\", \"Middle East\", \"North America\", \"Africa\"],\n",
    "#     [\"#adb0ff\", \"#ffb3ff\", \"#90d595\", \"#e48381\", \"#aafbff\", \"#f7bb5f\", \"#eafb50\"]\n",
    "# ))\n",
    "# group_lk = g.set_index('name')['group'].to_dict()"
   ]
  },
  {
   "cell_type": "code",
   "execution_count": null,
   "metadata": {
    "papermill": {
     "duration": 0.027141,
     "end_time": "2021-01-19T12:25:56.934513",
     "exception": false,
     "start_time": "2021-01-19T12:25:56.907372",
     "status": "completed"
    },
    "tags": []
   },
   "outputs": [],
   "source": []
  },
  {
   "cell_type": "code",
   "execution_count": 41,
   "metadata": {
    "execution": {
     "iopub.execute_input": "2021-01-19T12:25:56.993174Z",
     "iopub.status.busy": "2021-01-19T12:25:56.992658Z",
     "iopub.status.idle": "2021-01-19T12:25:56.995088Z",
     "shell.execute_reply": "2021-01-19T12:25:56.994635Z"
    },
    "papermill": {
     "duration": 0.03345,
     "end_time": "2021-01-19T12:25:56.995210",
     "exception": false,
     "start_time": "2021-01-19T12:25:56.961760",
     "status": "completed"
    },
    "tags": []
   },
   "outputs": [],
   "source": [
    "# #hide\n",
    "# fig, ax = plt.subplots(figsize=(15, 8))\n",
    "\n",
    "# def draw_barchart(current_day):\n",
    "#     dff = g[g['day'].eq(current_day)].sort_values(by='value', ascending=True).tail(10)\n",
    "#     ax.clear()\n",
    "#     ax.barh(dff['name'], dff['value'], color=[colors[group_lk[x]] for x in dff['name']])\n",
    "#     dx = dff['value'].max() / 200\n",
    "    \n",
    "#     for i, (value, name) in enumerate(zip(dff['value'], dff['name'])):\n",
    "#         ax.text(value-dx, i,     name,           size=14, weight=600, ha='right', va='bottom')\n",
    "#         ax.text(value-dx, i-.25, group_lk[name], size=10, color='#444444', ha='right', va='baseline')\n",
    "#         ax.text(value+dx, i,     f'{value:,.0f}',  size=14, ha='left',  va='center')\n",
    "#     ax.text(1, 0.4, current_day, transform=ax.transAxes, color='#777777', size=46, ha='right', weight=800)\n",
    "#     ax.text(0, 1.06, 'Population (thousands)', transform=ax.transAxes, size=12, color='#777777')\n",
    "#     ax.xaxis.set_major_formatter(ticker.StrMethodFormatter('{x:,.0f}'))\n",
    "#     ax.xaxis.set_ticks_position('top')\n",
    "#     ax.tick_params(axis='x', colors='#777777', labelsize=12)\n",
    "#     ax.set_yticks([])\n",
    "#     ax.margins(0, 0.01)\n",
    "#     ax.grid(which='major', axis='x', linestyle='-')\n",
    "#     ax.set_axisbelow(True)\n",
    "    \n",
    "#     ax.text(0, 1.15, 'Coronavirus',\n",
    "#             transform=ax.transAxes, size=24, weight=600, ha='left', va='top')\n",
    "# #     ax.text(1, 0, 'by @pratapvardhan; credit @jburnmurdoch', transform=ax.transAxes, color='#777777', ha='right',\n",
    "# #             bbox=dict(facecolor='white', alpha=0.8, edgecolor='white'))\n",
    "#     plt.box(False)"
   ]
  },
  {
   "cell_type": "code",
   "execution_count": 42,
   "metadata": {
    "execution": {
     "iopub.execute_input": "2021-01-19T12:25:57.054544Z",
     "iopub.status.busy": "2021-01-19T12:25:57.054031Z",
     "iopub.status.idle": "2021-01-19T12:25:57.055776Z",
     "shell.execute_reply": "2021-01-19T12:25:57.056202Z"
    },
    "papermill": {
     "duration": 0.033744,
     "end_time": "2021-01-19T12:25:57.056336",
     "exception": false,
     "start_time": "2021-01-19T12:25:57.022592",
     "status": "completed"
    },
    "tags": []
   },
   "outputs": [],
   "source": [
    "# #hide_input\n",
    "# fig, ax = plt.subplots(figsize=(15, 8))\n",
    "# animator = animation.FuncAnimation(fig, draw_barchart, frames=range(g.day.values.min(), g.day.values.max()))\n",
    "# HTML(animator.to_jshtml())\n",
    "# # or use animator.to_html5_video() or animator.save() "
   ]
  },
  {
   "cell_type": "code",
   "execution_count": null,
   "metadata": {
    "papermill": {
     "duration": 0.027137,
     "end_time": "2021-01-19T12:25:57.110871",
     "exception": false,
     "start_time": "2021-01-19T12:25:57.083734",
     "status": "completed"
    },
    "tags": []
   },
   "outputs": [],
   "source": []
  },
  {
   "cell_type": "code",
   "execution_count": null,
   "metadata": {
    "papermill": {
     "duration": 0.027014,
     "end_time": "2021-01-19T12:25:57.164856",
     "exception": false,
     "start_time": "2021-01-19T12:25:57.137842",
     "status": "completed"
    },
    "tags": []
   },
   "outputs": [],
   "source": []
  },
  {
   "cell_type": "code",
   "execution_count": null,
   "metadata": {
    "papermill": {
     "duration": 0.027215,
     "end_time": "2021-01-19T12:25:57.219339",
     "exception": false,
     "start_time": "2021-01-19T12:25:57.192124",
     "status": "completed"
    },
    "tags": []
   },
   "outputs": [],
   "source": []
  }
 ],
 "metadata": {
  "kernelspec": {
   "display_name": "Python 3",
   "language": "python",
   "name": "python3"
  },
  "language_info": {
   "codemirror_mode": {
    "name": "ipython",
    "version": 3
   },
   "file_extension": ".py",
   "mimetype": "text/x-python",
   "name": "python",
   "nbconvert_exporter": "python",
   "pygments_lexer": "ipython3",
   "version": "3.6.12"
  },
  "papermill": {
   "duration": 5.93072,
   "end_time": "2021-01-19T12:25:57.654811",
   "environment_variables": {},
   "exception": null,
   "input_path": "2020-03-21-covid19exp.ipynb",
   "output_path": "2020-03-21-covid19exp.ipynb",
   "parameters": {},
   "start_time": "2021-01-19T12:25:51.724091",
   "version": "2.0.0"
  }
 },
 "nbformat": 4,
 "nbformat_minor": 4
}