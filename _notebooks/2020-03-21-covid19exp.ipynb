{
 "cells": [
  {
   "cell_type": "markdown",
   "id": "muslim-click",
   "metadata": {
    "papermill": {
     "duration": 0.033355,
     "end_time": "2022-05-22T12:15:24.600500",
     "exception": false,
     "start_time": "2022-05-22T12:15:24.567145",
     "status": "completed"
    },
    "tags": []
   },
   "source": [
    "# COVID-19 Case Race\n",
    "> A race chart to see rising cases around the world\n",
    "\n",
    "- author: Hargun Oberoi\n",
    "- image: images/covid-overview.png\n",
    "- hide: false\n",
    "- badges: false"
   ]
  },
  {
   "cell_type": "code",
   "execution_count": 1,
   "id": "proof-material",
   "metadata": {
    "execution": {
     "iopub.execute_input": "2022-05-22T12:15:24.670320Z",
     "iopub.status.busy": "2022-05-22T12:15:24.669730Z",
     "iopub.status.idle": "2022-05-22T12:15:24.992666Z",
     "shell.execute_reply": "2022-05-22T12:15:24.991604Z"
    },
    "papermill": {
     "duration": 0.361152,
     "end_time": "2022-05-22T12:15:24.992817",
     "exception": false,
     "start_time": "2022-05-22T12:15:24.631665",
     "status": "completed"
    },
    "tags": []
   },
   "outputs": [],
   "source": [
    "#hide\n",
    "import numpy as np\n",
    "import pandas as pd\n",
    "from jinja2 import Template\n",
    "from IPython.display import HTML"
   ]
  },
  {
   "cell_type": "code",
   "execution_count": 2,
   "id": "developed-terminology",
   "metadata": {
    "execution": {
     "iopub.execute_input": "2022-05-22T12:15:25.057241Z",
     "iopub.status.busy": "2022-05-22T12:15:25.056551Z",
     "iopub.status.idle": "2022-05-22T12:15:25.058846Z",
     "shell.execute_reply": "2022-05-22T12:15:25.058173Z"
    },
    "papermill": {
     "duration": 0.036632,
     "end_time": "2022-05-22T12:15:25.058973",
     "exception": false,
     "start_time": "2022-05-22T12:15:25.022341",
     "status": "completed"
    },
    "tags": []
   },
   "outputs": [],
   "source": [
    "#hide\n",
    "\n",
    "# FETCH\n",
    "base_url = 'https://raw.githubusercontent.com/pratapvardhan/notebooks/master/covid19/'\n",
    "paths = {\n",
    "    'mapping': base_url + 'mapping_countries.csv',\n",
    "    'overview': base_url + 'overview.tpl'\n",
    "}"
   ]
  },
  {
   "cell_type": "code",
   "execution_count": 3,
   "id": "dynamic-saver",
   "metadata": {
    "execution": {
     "iopub.execute_input": "2022-05-22T12:15:25.127462Z",
     "iopub.status.busy": "2022-05-22T12:15:25.126886Z",
     "iopub.status.idle": "2022-05-22T12:15:25.129973Z",
     "shell.execute_reply": "2022-05-22T12:15:25.130412Z"
    },
    "papermill": {
     "duration": 0.042065,
     "end_time": "2022-05-22T12:15:25.130563",
     "exception": false,
     "start_time": "2022-05-22T12:15:25.088498",
     "status": "completed"
    },
    "tags": []
   },
   "outputs": [
    {
     "data": {
      "text/plain": [
       "'https://raw.githubusercontent.com/pratapvardhan/notebooks/master/covid19/mapping_countries.csv'"
      ]
     },
     "execution_count": 3,
     "metadata": {},
     "output_type": "execute_result"
    }
   ],
   "source": [
    "#hide\n",
    "paths['mapping']"
   ]
  },
  {
   "cell_type": "code",
   "execution_count": 4,
   "id": "urban-software",
   "metadata": {
    "execution": {
     "iopub.execute_input": "2022-05-22T12:15:25.194449Z",
     "iopub.status.busy": "2022-05-22T12:15:25.193849Z",
     "iopub.status.idle": "2022-05-22T12:15:25.196474Z",
     "shell.execute_reply": "2022-05-22T12:15:25.196005Z"
    },
    "papermill": {
     "duration": 0.036739,
     "end_time": "2022-05-22T12:15:25.196581",
     "exception": false,
     "start_time": "2022-05-22T12:15:25.159842",
     "status": "completed"
    },
    "tags": []
   },
   "outputs": [],
   "source": [
    "#hide\n",
    "def get_mappings(url):\n",
    "    df = pd.read_csv(url)\n",
    "    return {\n",
    "        'df': df,\n",
    "        'replace.country': dict(df.dropna(subset=['Name']).set_index('Country')['Name']),\n",
    "        'map.continent': dict(df.set_index('Name')['Continent'])\n",
    "    }"
   ]
  },
  {
   "cell_type": "code",
   "execution_count": 5,
   "id": "intimate-machinery",
   "metadata": {
    "execution": {
     "iopub.execute_input": "2022-05-22T12:15:25.260821Z",
     "iopub.status.busy": "2022-05-22T12:15:25.260220Z",
     "iopub.status.idle": "2022-05-22T12:15:25.288344Z",
     "shell.execute_reply": "2022-05-22T12:15:25.287691Z"
    },
    "papermill": {
     "duration": 0.062739,
     "end_time": "2022-05-22T12:15:25.288470",
     "exception": false,
     "start_time": "2022-05-22T12:15:25.225731",
     "status": "completed"
    },
    "tags": []
   },
   "outputs": [],
   "source": [
    "#hide\n",
    "mapping = get_mappings(paths['mapping'])"
   ]
  },
  {
   "cell_type": "code",
   "execution_count": 6,
   "id": "certified-tactics",
   "metadata": {
    "execution": {
     "iopub.execute_input": "2022-05-22T12:15:25.354698Z",
     "iopub.status.busy": "2022-05-22T12:15:25.354095Z",
     "iopub.status.idle": "2022-05-22T12:15:25.356640Z",
     "shell.execute_reply": "2022-05-22T12:15:25.356174Z"
    },
    "papermill": {
     "duration": 0.038257,
     "end_time": "2022-05-22T12:15:25.356749",
     "exception": false,
     "start_time": "2022-05-22T12:15:25.318492",
     "status": "completed"
    },
    "tags": []
   },
   "outputs": [],
   "source": [
    "#hide\n",
    "def get_template(path):\n",
    "    from urllib.parse import urlparse\n",
    "    if bool(urlparse(path).netloc):\n",
    "        from urllib.request import urlopen\n",
    "        return urlopen(path).read().decode('utf8')\n",
    "    return open(path).read()"
   ]
  },
  {
   "cell_type": "code",
   "execution_count": 7,
   "id": "realistic-blast",
   "metadata": {
    "execution": {
     "iopub.execute_input": "2022-05-22T12:15:25.421511Z",
     "iopub.status.busy": "2022-05-22T12:15:25.420809Z",
     "iopub.status.idle": "2022-05-22T12:15:25.422593Z",
     "shell.execute_reply": "2022-05-22T12:15:25.423136Z"
    },
    "papermill": {
     "duration": 0.037018,
     "end_time": "2022-05-22T12:15:25.423281",
     "exception": false,
     "start_time": "2022-05-22T12:15:25.386263",
     "status": "completed"
    },
    "tags": []
   },
   "outputs": [],
   "source": [
    "#hide\n",
    "def get_frame(name):\n",
    "    url = (\n",
    "        'https://raw.githubusercontent.com/CSSEGISandData/COVID-19/master/csse_covid_19_data/'\n",
    "        f'csse_covid_19_time_series/time_series_covid19_{name}_global.csv')\n",
    "    df = pd.read_csv(url)\n",
    "    # rename countries\n",
    "    df['Country/Region'] = df['Country/Region'].replace(mapping['replace.country'])\n",
    "    return df"
   ]
  },
  {
   "cell_type": "code",
   "execution_count": 8,
   "id": "affiliated-characterization",
   "metadata": {
    "execution": {
     "iopub.execute_input": "2022-05-22T12:15:25.488793Z",
     "iopub.status.busy": "2022-05-22T12:15:25.488188Z",
     "iopub.status.idle": "2022-05-22T12:15:25.490786Z",
     "shell.execute_reply": "2022-05-22T12:15:25.490286Z"
    },
    "papermill": {
     "duration": 0.037832,
     "end_time": "2022-05-22T12:15:25.490900",
     "exception": false,
     "start_time": "2022-05-22T12:15:25.453068",
     "status": "completed"
    },
    "tags": []
   },
   "outputs": [],
   "source": [
    "#hide\n",
    "def get_dates(df):\n",
    "    dt_cols = df.columns[~df.columns.isin(['Province/State', 'Country/Region', 'Lat', 'Long'])]\n",
    "    LAST_DATE_I = -1\n",
    "    # sometimes last column may be empty, then go backwards\n",
    "    for i in range(-1, -len(dt_cols), -1):\n",
    "        if not df[dt_cols[i]].fillna(0).eq(0).all():\n",
    "            LAST_DATE_I = i\n",
    "            break\n",
    "    return LAST_DATE_I, dt_cols"
   ]
  },
  {
   "cell_type": "code",
   "execution_count": 9,
   "id": "recent-optimization",
   "metadata": {
    "execution": {
     "iopub.execute_input": "2022-05-22T12:15:25.554975Z",
     "iopub.status.busy": "2022-05-22T12:15:25.554343Z",
     "iopub.status.idle": "2022-05-22T12:15:25.910573Z",
     "shell.execute_reply": "2022-05-22T12:15:25.909929Z"
    },
    "papermill": {
     "duration": 0.390526,
     "end_time": "2022-05-22T12:15:25.910748",
     "exception": false,
     "start_time": "2022-05-22T12:15:25.520222",
     "status": "completed"
    },
    "tags": []
   },
   "outputs": [],
   "source": [
    "#hide\n",
    "COL_REGION = 'Country/Region'\n",
    "# Confirmed, Recovered, Deaths\n",
    "df = get_frame('confirmed')\n",
    "# dft_: timeseries, dfc_: today country agg\n",
    "dft_cases = df\n",
    "dft_deaths = get_frame('deaths')\n",
    "dft_recovered = get_frame('recovered')\n",
    "LAST_DATE_I, dt_cols = get_dates(df)"
   ]
  },
  {
   "cell_type": "code",
   "execution_count": 10,
   "id": "absolute-copper",
   "metadata": {
    "execution": {
     "iopub.execute_input": "2022-05-22T12:15:25.976319Z",
     "iopub.status.busy": "2022-05-22T12:15:25.975720Z",
     "iopub.status.idle": "2022-05-22T12:15:25.977056Z",
     "shell.execute_reply": "2022-05-22T12:15:25.977618Z"
    },
    "papermill": {
     "duration": 0.036677,
     "end_time": "2022-05-22T12:15:25.977747",
     "exception": false,
     "start_time": "2022-05-22T12:15:25.941070",
     "status": "completed"
    },
    "tags": []
   },
   "outputs": [],
   "source": [
    "#hide\n",
    "LAST_DATE_I, dt_cols = get_dates(df)\n",
    "dt_today =dt_cols[LAST_DATE_I]\n",
    "# dt_5day = dt_cols[LAST_DATE_I - 5]\n",
    "dt_yday = dt_cols[LAST_DATE_I - 1]"
   ]
  },
  {
   "cell_type": "code",
   "execution_count": 11,
   "id": "restricted-sheriff",
   "metadata": {
    "execution": {
     "iopub.execute_input": "2022-05-22T12:15:26.043178Z",
     "iopub.status.busy": "2022-05-22T12:15:26.042589Z",
     "iopub.status.idle": "2022-05-22T12:15:26.050217Z",
     "shell.execute_reply": "2022-05-22T12:15:26.049747Z"
    },
    "papermill": {
     "duration": 0.042957,
     "end_time": "2022-05-22T12:15:26.050327",
     "exception": false,
     "start_time": "2022-05-22T12:15:26.007370",
     "status": "completed"
    },
    "tags": []
   },
   "outputs": [],
   "source": [
    "#hide\n",
    "dfc_cases = dft_cases.groupby(COL_REGION)[dt_today].sum()\n",
    "dfc_deaths = dft_deaths.groupby(COL_REGION)[dt_today].sum()\n",
    "# dfp_cases = dft_cases.groupby(COL_REGION)[dt_5day].sum()\n",
    "# dfp_deaths = dft_deaths.groupby(COL_REGION)[dt_5day].sum()\n",
    "dfp_cases = dft_cases.groupby(COL_REGION)[dt_yday].sum()\n",
    "dfp_deaths = dft_deaths.groupby(COL_REGION)[dt_yday].sum()"
   ]
  },
  {
   "cell_type": "code",
   "execution_count": 12,
   "id": "deluxe-hepatitis",
   "metadata": {
    "execution": {
     "iopub.execute_input": "2022-05-22T12:15:26.114874Z",
     "iopub.status.busy": "2022-05-22T12:15:26.114182Z",
     "iopub.status.idle": "2022-05-22T12:15:26.120347Z",
     "shell.execute_reply": "2022-05-22T12:15:26.119903Z"
    },
    "papermill": {
     "duration": 0.040863,
     "end_time": "2022-05-22T12:15:26.120456",
     "exception": false,
     "start_time": "2022-05-22T12:15:26.079593",
     "status": "completed"
    },
    "tags": []
   },
   "outputs": [],
   "source": [
    "#hide\n",
    "df_table = (pd.DataFrame(dict(Cases = dfc_cases, Deaths = dfc_deaths, PCases = dfp_cases, PDeaths = dfp_deaths))\n",
    "            .sort_values(by = ['Cases','Deaths'], ascending = [False, False])\n",
    "            .reset_index())"
   ]
  },
  {
   "cell_type": "code",
   "execution_count": 13,
   "id": "educational-chancellor",
   "metadata": {
    "execution": {
     "iopub.execute_input": "2022-05-22T12:15:26.196501Z",
     "iopub.status.busy": "2022-05-22T12:15:26.195927Z",
     "iopub.status.idle": "2022-05-22T12:15:26.203935Z",
     "shell.execute_reply": "2022-05-22T12:15:26.203469Z"
    },
    "papermill": {
     "duration": 0.054497,
     "end_time": "2022-05-22T12:15:26.204041",
     "exception": false,
     "start_time": "2022-05-22T12:15:26.149544",
     "status": "completed"
    },
    "tags": []
   },
   "outputs": [
    {
     "data": {
      "text/html": [
       "<div>\n",
       "<style scoped>\n",
       "    .dataframe tbody tr th:only-of-type {\n",
       "        vertical-align: middle;\n",
       "    }\n",
       "\n",
       "    .dataframe tbody tr th {\n",
       "        vertical-align: top;\n",
       "    }\n",
       "\n",
       "    .dataframe thead th {\n",
       "        text-align: right;\n",
       "    }\n",
       "</style>\n",
       "<table border=\"1\" class=\"dataframe\">\n",
       "  <thead>\n",
       "    <tr style=\"text-align: right;\">\n",
       "      <th></th>\n",
       "      <th>Country/Region</th>\n",
       "      <th>Cases</th>\n",
       "      <th>Deaths</th>\n",
       "      <th>PCases</th>\n",
       "      <th>PDeaths</th>\n",
       "      <th>Cases (+)</th>\n",
       "      <th>Deaths (+)</th>\n",
       "      <th>Fatality Rate</th>\n",
       "      <th>Continent</th>\n",
       "    </tr>\n",
       "  </thead>\n",
       "  <tbody>\n",
       "    <tr>\n",
       "      <th>0</th>\n",
       "      <td>US</td>\n",
       "      <td>83263020</td>\n",
       "      <td>1002146</td>\n",
       "      <td>83237592</td>\n",
       "      <td>1002020</td>\n",
       "      <td>25428</td>\n",
       "      <td>126</td>\n",
       "      <td>1.20</td>\n",
       "      <td>North America</td>\n",
       "    </tr>\n",
       "    <tr>\n",
       "      <th>1</th>\n",
       "      <td>India</td>\n",
       "      <td>43136371</td>\n",
       "      <td>524413</td>\n",
       "      <td>43134145</td>\n",
       "      <td>524348</td>\n",
       "      <td>2226</td>\n",
       "      <td>65</td>\n",
       "      <td>1.22</td>\n",
       "      <td>Asia</td>\n",
       "    </tr>\n",
       "    <tr>\n",
       "      <th>2</th>\n",
       "      <td>Brazil</td>\n",
       "      <td>30762413</td>\n",
       "      <td>665720</td>\n",
       "      <td>30762413</td>\n",
       "      <td>665722</td>\n",
       "      <td>0</td>\n",
       "      <td>0</td>\n",
       "      <td>2.16</td>\n",
       "      <td>South America</td>\n",
       "    </tr>\n",
       "    <tr>\n",
       "      <th>3</th>\n",
       "      <td>France</td>\n",
       "      <td>29564005</td>\n",
       "      <td>148820</td>\n",
       "      <td>29541498</td>\n",
       "      <td>148818</td>\n",
       "      <td>22507</td>\n",
       "      <td>2</td>\n",
       "      <td>0.50</td>\n",
       "      <td>Europe</td>\n",
       "    </tr>\n",
       "    <tr>\n",
       "      <th>4</th>\n",
       "      <td>Germany</td>\n",
       "      <td>26044283</td>\n",
       "      <td>138325</td>\n",
       "      <td>26040460</td>\n",
       "      <td>138324</td>\n",
       "      <td>3823</td>\n",
       "      <td>1</td>\n",
       "      <td>0.53</td>\n",
       "      <td>Europe</td>\n",
       "    </tr>\n",
       "  </tbody>\n",
       "</table>\n",
       "</div>"
      ],
      "text/plain": [
       "  Country/Region     Cases   Deaths    PCases  PDeaths  Cases (+)  Deaths (+)  \\\n",
       "0             US  83263020  1002146  83237592  1002020      25428         126   \n",
       "1          India  43136371   524413  43134145   524348       2226          65   \n",
       "2         Brazil  30762413   665720  30762413   665722          0           0   \n",
       "3         France  29564005   148820  29541498   148818      22507           2   \n",
       "4        Germany  26044283   138325  26040460   138324       3823           1   \n",
       "\n",
       "   Fatality Rate      Continent  \n",
       "0           1.20  North America  \n",
       "1           1.22           Asia  \n",
       "2           2.16  South America  \n",
       "3           0.50         Europe  \n",
       "4           0.53         Europe  "
      ]
     },
     "execution_count": 13,
     "metadata": {},
     "output_type": "execute_result"
    }
   ],
   "source": [
    "#hide\n",
    "for c in 'Cases, Deaths'.split(', '):\n",
    "    df_table[f'{c} (+)'] = (df_table[c] - df_table[f'P{c}']).clip(0)\n",
    "    #Clip ça veut dire, les chiffres negatif sont interdit\n",
    "df_table['Fatality Rate'] = (100* df_table['Deaths']/ df_table['Cases']).round(2)\n",
    "df_table['Continent'] = df_table['Country/Region'].map(mapping['map.continent'])\n",
    "df_table.head(5)"
   ]
  },
  {
   "cell_type": "code",
   "execution_count": 14,
   "id": "aboriginal-bulgaria",
   "metadata": {
    "execution": {
     "iopub.execute_input": "2022-05-22T12:15:26.268217Z",
     "iopub.status.busy": "2022-05-22T12:15:26.267664Z",
     "iopub.status.idle": "2022-05-22T12:15:26.270713Z",
     "shell.execute_reply": "2022-05-22T12:15:26.271159Z"
    },
    "papermill": {
     "duration": 0.037572,
     "end_time": "2022-05-22T12:15:26.271276",
     "exception": false,
     "start_time": "2022-05-22T12:15:26.233704",
     "status": "completed"
    },
    "tags": []
   },
   "outputs": [],
   "source": [
    "#hide\n",
    "#delete problematic countries from table\n",
    "df_table = df_table[~df_table['Country/Region'].isin(['Cape Verde', 'Cruise Ship', 'Kosovo'])]"
   ]
  },
  {
   "cell_type": "code",
   "execution_count": 15,
   "id": "fantastic-effect",
   "metadata": {
    "execution": {
     "iopub.execute_input": "2022-05-22T12:15:26.338168Z",
     "iopub.status.busy": "2022-05-22T12:15:26.337605Z",
     "iopub.status.idle": "2022-05-22T12:15:26.355617Z",
     "shell.execute_reply": "2022-05-22T12:15:26.354986Z"
    },
    "papermill": {
     "duration": 0.055104,
     "end_time": "2022-05-22T12:15:26.355734",
     "exception": false,
     "start_time": "2022-05-22T12:15:26.300630",
     "status": "completed"
    },
    "tags": []
   },
   "outputs": [
    {
     "data": {
      "text/html": [
       "<div>\n",
       "<style scoped>\n",
       "    .dataframe tbody tr th:only-of-type {\n",
       "        vertical-align: middle;\n",
       "    }\n",
       "\n",
       "    .dataframe tbody tr th {\n",
       "        vertical-align: top;\n",
       "    }\n",
       "\n",
       "    .dataframe thead th {\n",
       "        text-align: right;\n",
       "    }\n",
       "</style>\n",
       "<table border=\"1\" class=\"dataframe\">\n",
       "  <thead>\n",
       "    <tr style=\"text-align: right;\">\n",
       "      <th></th>\n",
       "      <th>Country/Region</th>\n",
       "      <th>Cases</th>\n",
       "      <th>Deaths</th>\n",
       "      <th>PCases</th>\n",
       "      <th>PDeaths</th>\n",
       "      <th>Cases (+)</th>\n",
       "      <th>Deaths (+)</th>\n",
       "      <th>Fatality Rate</th>\n",
       "      <th>Continent</th>\n",
       "    </tr>\n",
       "  </thead>\n",
       "  <tbody>\n",
       "    <tr>\n",
       "      <th>0</th>\n",
       "      <td>US</td>\n",
       "      <td>83263020</td>\n",
       "      <td>1002146</td>\n",
       "      <td>83237592</td>\n",
       "      <td>1002020</td>\n",
       "      <td>25428</td>\n",
       "      <td>126</td>\n",
       "      <td>1.2</td>\n",
       "      <td>North America</td>\n",
       "    </tr>\n",
       "    <tr>\n",
       "      <th>1</th>\n",
       "      <td>India</td>\n",
       "      <td>43136371</td>\n",
       "      <td>524413</td>\n",
       "      <td>43134145</td>\n",
       "      <td>524348</td>\n",
       "      <td>2226</td>\n",
       "      <td>65</td>\n",
       "      <td>1.2</td>\n",
       "      <td>Asia</td>\n",
       "    </tr>\n",
       "    <tr>\n",
       "      <th>2</th>\n",
       "      <td>Brazil</td>\n",
       "      <td>30762413</td>\n",
       "      <td>665720</td>\n",
       "      <td>30762413</td>\n",
       "      <td>665722</td>\n",
       "      <td>0</td>\n",
       "      <td>0</td>\n",
       "      <td>2.2</td>\n",
       "      <td>South America</td>\n",
       "    </tr>\n",
       "    <tr>\n",
       "      <th>3</th>\n",
       "      <td>France</td>\n",
       "      <td>29564005</td>\n",
       "      <td>148820</td>\n",
       "      <td>29541498</td>\n",
       "      <td>148818</td>\n",
       "      <td>22507</td>\n",
       "      <td>2</td>\n",
       "      <td>0.5</td>\n",
       "      <td>Europe</td>\n",
       "    </tr>\n",
       "    <tr>\n",
       "      <th>4</th>\n",
       "      <td>Germany</td>\n",
       "      <td>26044283</td>\n",
       "      <td>138325</td>\n",
       "      <td>26040460</td>\n",
       "      <td>138324</td>\n",
       "      <td>3823</td>\n",
       "      <td>1</td>\n",
       "      <td>0.5</td>\n",
       "      <td>Europe</td>\n",
       "    </tr>\n",
       "  </tbody>\n",
       "</table>\n",
       "</div>"
      ],
      "text/plain": [
       "  Country/Region     Cases   Deaths    PCases  PDeaths  Cases (+)  Deaths (+)  \\\n",
       "0             US  83263020  1002146  83237592  1002020      25428         126   \n",
       "1          India  43136371   524413  43134145   524348       2226          65   \n",
       "2         Brazil  30762413   665720  30762413   665722          0           0   \n",
       "3         France  29564005   148820  29541498   148818      22507           2   \n",
       "4        Germany  26044283   138325  26040460   138324       3823           1   \n",
       "\n",
       "   Fatality Rate      Continent  \n",
       "0            1.2  North America  \n",
       "1            1.2           Asia  \n",
       "2            2.2  South America  \n",
       "3            0.5         Europe  \n",
       "4            0.5         Europe  "
      ]
     },
     "execution_count": 15,
     "metadata": {},
     "output_type": "execute_result"
    }
   ],
   "source": [
    "#hide\n",
    "df_table = (pd.DataFrame(dict(Cases=dfc_cases, Deaths=dfc_deaths, PCases=dfp_cases, PDeaths=dfp_deaths))\n",
    "             .sort_values(by=['Cases', 'Deaths'], ascending=[False, False])\n",
    "             .reset_index())\n",
    "df_table.rename(columns={'index': 'Country/Region'}, inplace=True)\n",
    "for c in 'Cases, Deaths'.split(', '):\n",
    "    df_table[f'{c} (+)'] = (df_table[c] - df_table[f'P{c}']).clip(0)  # DATA BUG\n",
    "df_table['Fatality Rate'] = (100 * df_table['Deaths'] / df_table['Cases']).round(1)\n",
    "df_table['Continent'] = df_table['Country/Region'].map(mapping['map.continent'])\n",
    "df_table.head(5)"
   ]
  },
  {
   "cell_type": "code",
   "execution_count": 16,
   "id": "fewer-occasion",
   "metadata": {
    "execution": {
     "iopub.execute_input": "2022-05-22T12:15:26.422913Z",
     "iopub.status.busy": "2022-05-22T12:15:26.422305Z",
     "iopub.status.idle": "2022-05-22T12:15:26.425079Z",
     "shell.execute_reply": "2022-05-22T12:15:26.425626Z"
    },
    "papermill": {
     "duration": 0.039037,
     "end_time": "2022-05-22T12:15:26.425755",
     "exception": false,
     "start_time": "2022-05-22T12:15:26.386718",
     "status": "completed"
    },
    "tags": []
   },
   "outputs": [],
   "source": [
    "#hide\n",
    "#delete problematic countries from table\n",
    "df_table = df_table[~df_table['Country/Region'].isin(['Cape Verde', 'Cruise Ship', 'Kosovo'])]"
   ]
  },
  {
   "cell_type": "code",
   "execution_count": 17,
   "id": "related-center",
   "metadata": {
    "execution": {
     "iopub.execute_input": "2022-05-22T12:15:26.493925Z",
     "iopub.status.busy": "2022-05-22T12:15:26.493353Z",
     "iopub.status.idle": "2022-05-22T12:15:26.505587Z",
     "shell.execute_reply": "2022-05-22T12:15:26.505120Z"
    },
    "papermill": {
     "duration": 0.049881,
     "end_time": "2022-05-22T12:15:26.505691",
     "exception": false,
     "start_time": "2022-05-22T12:15:26.455810",
     "status": "completed"
    },
    "tags": []
   },
   "outputs": [],
   "source": [
    "#hide\n",
    "metrics = [df_table.columns[index] for index in [1,2,5,6]]\n",
    "# s_china = df_table[df_table['Country/Region'].eq('China')][metrics].sum().add_prefix('China ')\n",
    "s_us = df_table[df_table['Country/Region'].eq('US')][metrics].sum().add_prefix('US ')\n",
    "s_eu = df_table[df_table['Continent'].eq('Europe')][metrics].sum().add_prefix('EU ')\n",
    "s_ind = df_table[df_table['Country/Region'].eq('India')][metrics].sum().add_prefix('India ')\n",
    "summary = {'updated': pd.to_datetime(dt_today), 'since': pd.to_datetime(dt_yday)}\n",
    "summary = {'updated': pd.to_datetime(dt_today), 'since': pd.to_datetime(dt_yday)}\n",
    "summary = {**summary, **df_table[metrics].sum(), **s_ind, **s_us, **s_eu}"
   ]
  },
  {
   "cell_type": "code",
   "execution_count": 18,
   "id": "engaging-syndrome",
   "metadata": {
    "execution": {
     "iopub.execute_input": "2022-05-22T12:15:26.570833Z",
     "iopub.status.busy": "2022-05-22T12:15:26.570245Z",
     "iopub.status.idle": "2022-05-22T12:15:26.591077Z",
     "shell.execute_reply": "2022-05-22T12:15:26.590573Z"
    },
    "papermill": {
     "duration": 0.055421,
     "end_time": "2022-05-22T12:15:26.591194",
     "exception": false,
     "start_time": "2022-05-22T12:15:26.535773",
     "status": "completed"
    },
    "tags": []
   },
   "outputs": [],
   "source": [
    "#hide\n",
    "dft_ct_new_cases = dft_cases.groupby(COL_REGION)[dt_cols].sum().diff(axis=1).fillna(0).astype(int)"
   ]
  },
  {
   "cell_type": "code",
   "execution_count": 19,
   "id": "neutral-assignment",
   "metadata": {
    "execution": {
     "iopub.execute_input": "2022-05-22T12:15:26.658848Z",
     "iopub.status.busy": "2022-05-22T12:15:26.658251Z",
     "iopub.status.idle": "2022-05-22T12:15:26.660562Z",
     "shell.execute_reply": "2022-05-22T12:15:26.661001Z"
    },
    "papermill": {
     "duration": 0.039542,
     "end_time": "2022-05-22T12:15:26.661130",
     "exception": false,
     "start_time": "2022-05-22T12:15:26.621588",
     "status": "completed"
    },
    "tags": []
   },
   "outputs": [],
   "source": [
    "#hide\n",
    "everydaycases = dft_ct_new_cases.cumsum(axis=1)"
   ]
  },
  {
   "cell_type": "code",
   "execution_count": 20,
   "id": "parliamentary-calgary",
   "metadata": {
    "execution": {
     "iopub.execute_input": "2022-05-22T12:15:26.725715Z",
     "iopub.status.busy": "2022-05-22T12:15:26.725146Z",
     "iopub.status.idle": "2022-05-22T12:15:27.302945Z",
     "shell.execute_reply": "2022-05-22T12:15:27.302311Z"
    },
    "papermill": {
     "duration": 0.611757,
     "end_time": "2022-05-22T12:15:27.303093",
     "exception": false,
     "start_time": "2022-05-22T12:15:26.691336",
     "status": "completed"
    },
    "tags": []
   },
   "outputs": [],
   "source": [
    "#hide\n",
    "import pandas as pd\n",
    "import matplotlib.pyplot as plt\n",
    "import matplotlib.ticker as ticker\n",
    "import matplotlib.animation as animation\n",
    "from IPython.display import HTML"
   ]
  },
  {
   "cell_type": "code",
   "execution_count": 21,
   "id": "lasting-extraction",
   "metadata": {
    "execution": {
     "iopub.execute_input": "2022-05-22T12:15:27.370854Z",
     "iopub.status.busy": "2022-05-22T12:15:27.370247Z",
     "iopub.status.idle": "2022-05-22T12:15:27.377178Z",
     "shell.execute_reply": "2022-05-22T12:15:27.376711Z"
    },
    "papermill": {
     "duration": 0.043393,
     "end_time": "2022-05-22T12:15:27.377289",
     "exception": false,
     "start_time": "2022-05-22T12:15:27.333896",
     "status": "completed"
    },
    "tags": []
   },
   "outputs": [],
   "source": [
    "#hide\n",
    "t = everydaycases.stack()"
   ]
  },
  {
   "cell_type": "code",
   "execution_count": 22,
   "id": "premier-sleeve",
   "metadata": {
    "execution": {
     "iopub.execute_input": "2022-05-22T12:15:27.443379Z",
     "iopub.status.busy": "2022-05-22T12:15:27.442796Z",
     "iopub.status.idle": "2022-05-22T12:15:27.454276Z",
     "shell.execute_reply": "2022-05-22T12:15:27.454777Z"
    },
    "papermill": {
     "duration": 0.047114,
     "end_time": "2022-05-22T12:15:27.454916",
     "exception": false,
     "start_time": "2022-05-22T12:15:27.407802",
     "status": "completed"
    },
    "tags": []
   },
   "outputs": [],
   "source": [
    "#hide\n",
    "g = t.reset_index(['Country/Region'])"
   ]
  },
  {
   "cell_type": "code",
   "execution_count": 23,
   "id": "distributed-pittsburgh",
   "metadata": {
    "execution": {
     "iopub.execute_input": "2022-05-22T12:15:27.519422Z",
     "iopub.status.busy": "2022-05-22T12:15:27.518852Z",
     "iopub.status.idle": "2022-05-22T12:15:27.521359Z",
     "shell.execute_reply": "2022-05-22T12:15:27.521823Z"
    },
    "papermill": {
     "duration": 0.036974,
     "end_time": "2022-05-22T12:15:27.521948",
     "exception": false,
     "start_time": "2022-05-22T12:15:27.484974",
     "status": "completed"
    },
    "tags": []
   },
   "outputs": [],
   "source": [
    "#hide\n",
    "g.index.name = 'date'"
   ]
  },
  {
   "cell_type": "code",
   "execution_count": 24,
   "id": "naked-donor",
   "metadata": {
    "execution": {
     "iopub.execute_input": "2022-05-22T12:15:27.586074Z",
     "iopub.status.busy": "2022-05-22T12:15:27.585410Z",
     "iopub.status.idle": "2022-05-22T12:15:27.587971Z",
     "shell.execute_reply": "2022-05-22T12:15:27.587338Z"
    },
    "papermill": {
     "duration": 0.036156,
     "end_time": "2022-05-22T12:15:27.588089",
     "exception": false,
     "start_time": "2022-05-22T12:15:27.551933",
     "status": "completed"
    },
    "tags": []
   },
   "outputs": [],
   "source": [
    "# #hide\n",
    "# g = g.reset_index(['date'])"
   ]
  },
  {
   "cell_type": "code",
   "execution_count": 25,
   "id": "incomplete-mustang",
   "metadata": {
    "execution": {
     "iopub.execute_input": "2022-05-22T12:15:27.652838Z",
     "iopub.status.busy": "2022-05-22T12:15:27.652165Z",
     "iopub.status.idle": "2022-05-22T12:15:27.654640Z",
     "shell.execute_reply": "2022-05-22T12:15:27.654113Z"
    },
    "papermill": {
     "duration": 0.036101,
     "end_time": "2022-05-22T12:15:27.654753",
     "exception": false,
     "start_time": "2022-05-22T12:15:27.618652",
     "status": "completed"
    },
    "tags": []
   },
   "outputs": [],
   "source": [
    "#hide\n",
    "# g.head()"
   ]
  },
  {
   "cell_type": "code",
   "execution_count": 26,
   "id": "specific-kruger",
   "metadata": {
    "execution": {
     "iopub.execute_input": "2022-05-22T12:15:27.719058Z",
     "iopub.status.busy": "2022-05-22T12:15:27.718467Z",
     "iopub.status.idle": "2022-05-22T12:15:27.721233Z",
     "shell.execute_reply": "2022-05-22T12:15:27.720760Z"
    },
    "papermill": {
     "duration": 0.036366,
     "end_time": "2022-05-22T12:15:27.721341",
     "exception": false,
     "start_time": "2022-05-22T12:15:27.684975",
     "status": "completed"
    },
    "tags": []
   },
   "outputs": [],
   "source": [
    "#hide\n",
    "# g.columns = ['date','country','cases']"
   ]
  },
  {
   "cell_type": "code",
   "execution_count": 27,
   "id": "tender-conversion",
   "metadata": {
    "execution": {
     "iopub.execute_input": "2022-05-22T12:15:27.785457Z",
     "iopub.status.busy": "2022-05-22T12:15:27.784842Z",
     "iopub.status.idle": "2022-05-22T12:15:27.787528Z",
     "shell.execute_reply": "2022-05-22T12:15:27.786955Z"
    },
    "papermill": {
     "duration": 0.036162,
     "end_time": "2022-05-22T12:15:27.787642",
     "exception": false,
     "start_time": "2022-05-22T12:15:27.751480",
     "status": "completed"
    },
    "tags": []
   },
   "outputs": [],
   "source": [
    "#hide\n",
    "# g['continent'] = g.country"
   ]
  },
  {
   "cell_type": "code",
   "execution_count": 28,
   "id": "substantial-wilderness",
   "metadata": {
    "execution": {
     "iopub.execute_input": "2022-05-22T12:15:27.852884Z",
     "iopub.status.busy": "2022-05-22T12:15:27.852202Z",
     "iopub.status.idle": "2022-05-22T12:15:27.853916Z",
     "shell.execute_reply": "2022-05-22T12:15:27.854471Z"
    },
    "papermill": {
     "duration": 0.036505,
     "end_time": "2022-05-22T12:15:27.854618",
     "exception": false,
     "start_time": "2022-05-22T12:15:27.818113",
     "status": "completed"
    },
    "tags": []
   },
   "outputs": [],
   "source": [
    "#hide\n",
    "# cols = list(g.columns.values)"
   ]
  },
  {
   "cell_type": "code",
   "execution_count": 29,
   "id": "solved-farming",
   "metadata": {
    "execution": {
     "iopub.execute_input": "2022-05-22T12:15:27.919037Z",
     "iopub.status.busy": "2022-05-22T12:15:27.918413Z",
     "iopub.status.idle": "2022-05-22T12:15:27.921490Z",
     "shell.execute_reply": "2022-05-22T12:15:27.921021Z"
    },
    "papermill": {
     "duration": 0.036549,
     "end_time": "2022-05-22T12:15:27.921600",
     "exception": false,
     "start_time": "2022-05-22T12:15:27.885051",
     "status": "completed"
    },
    "tags": []
   },
   "outputs": [],
   "source": [
    "#hide\n",
    "# cols.insert(0, cols.pop())"
   ]
  },
  {
   "cell_type": "code",
   "execution_count": 30,
   "id": "executed-adoption",
   "metadata": {
    "execution": {
     "iopub.execute_input": "2022-05-22T12:15:27.986483Z",
     "iopub.status.busy": "2022-05-22T12:15:27.985789Z",
     "iopub.status.idle": "2022-05-22T12:15:27.989198Z",
     "shell.execute_reply": "2022-05-22T12:15:27.989616Z"
    },
    "papermill": {
     "duration": 0.037309,
     "end_time": "2022-05-22T12:15:27.989747",
     "exception": false,
     "start_time": "2022-05-22T12:15:27.952438",
     "status": "completed"
    },
    "tags": []
   },
   "outputs": [],
   "source": [
    "#hide\n",
    "# g = g[cols]"
   ]
  },
  {
   "cell_type": "code",
   "execution_count": 31,
   "id": "subject-dublin",
   "metadata": {
    "execution": {
     "iopub.execute_input": "2022-05-22T12:15:28.054179Z",
     "iopub.status.busy": "2022-05-22T12:15:28.053514Z",
     "iopub.status.idle": "2022-05-22T12:15:28.056021Z",
     "shell.execute_reply": "2022-05-22T12:15:28.055490Z"
    },
    "papermill": {
     "duration": 0.036263,
     "end_time": "2022-05-22T12:15:28.056141",
     "exception": false,
     "start_time": "2022-05-22T12:15:28.019878",
     "status": "completed"
    },
    "tags": []
   },
   "outputs": [],
   "source": [
    "#hide\n",
    "# g['continent'] = g['continent'].map(mapping['map.continent'])"
   ]
  },
  {
   "cell_type": "code",
   "execution_count": 32,
   "id": "freelance-scout",
   "metadata": {
    "execution": {
     "iopub.execute_input": "2022-05-22T12:15:28.120976Z",
     "iopub.status.busy": "2022-05-22T12:15:28.120366Z",
     "iopub.status.idle": "2022-05-22T12:15:28.124284Z",
     "shell.execute_reply": "2022-05-22T12:15:28.123804Z"
    },
    "papermill": {
     "duration": 0.037455,
     "end_time": "2022-05-22T12:15:28.124390",
     "exception": false,
     "start_time": "2022-05-22T12:15:28.086935",
     "status": "completed"
    },
    "tags": []
   },
   "outputs": [],
   "source": [
    "#hide\n",
    "# g.head()"
   ]
  },
  {
   "cell_type": "code",
   "execution_count": 33,
   "id": "limited-engine",
   "metadata": {
    "execution": {
     "iopub.execute_input": "2022-05-22T12:15:28.188270Z",
     "iopub.status.busy": "2022-05-22T12:15:28.187627Z",
     "iopub.status.idle": "2022-05-22T12:15:28.191147Z",
     "shell.execute_reply": "2022-05-22T12:15:28.191601Z"
    },
    "papermill": {
     "duration": 0.037372,
     "end_time": "2022-05-22T12:15:28.191719",
     "exception": false,
     "start_time": "2022-05-22T12:15:28.154347",
     "status": "completed"
    },
    "tags": []
   },
   "outputs": [],
   "source": [
    "# hide\n",
    "# g['date'] = g['date'].astype('datetime64[ns]')"
   ]
  },
  {
   "cell_type": "code",
   "execution_count": 34,
   "id": "sophisticated-supervisor",
   "metadata": {
    "execution": {
     "iopub.execute_input": "2022-05-22T12:15:28.255467Z",
     "iopub.status.busy": "2022-05-22T12:15:28.254903Z",
     "iopub.status.idle": "2022-05-22T12:15:28.257103Z",
     "shell.execute_reply": "2022-05-22T12:15:28.257651Z"
    },
    "papermill": {
     "duration": 0.035954,
     "end_time": "2022-05-22T12:15:28.257774",
     "exception": false,
     "start_time": "2022-05-22T12:15:28.221820",
     "status": "completed"
    },
    "tags": []
   },
   "outputs": [],
   "source": [
    "#hide\n",
    "# g['date'] = g.date.dt.dayofyear"
   ]
  },
  {
   "cell_type": "code",
   "execution_count": 35,
   "id": "inside-dubai",
   "metadata": {
    "execution": {
     "iopub.execute_input": "2022-05-22T12:15:28.321010Z",
     "iopub.status.busy": "2022-05-22T12:15:28.320448Z",
     "iopub.status.idle": "2022-05-22T12:15:28.323195Z",
     "shell.execute_reply": "2022-05-22T12:15:28.322634Z"
    },
    "papermill": {
     "duration": 0.035669,
     "end_time": "2022-05-22T12:15:28.323298",
     "exception": false,
     "start_time": "2022-05-22T12:15:28.287629",
     "status": "completed"
    },
    "tags": []
   },
   "outputs": [],
   "source": [
    "#hide\n",
    "# g = g.rename(columns= {'continent':'group','country':'name','cases':'value'})"
   ]
  },
  {
   "cell_type": "code",
   "execution_count": 36,
   "id": "fleet-motorcycle",
   "metadata": {
    "execution": {
     "iopub.execute_input": "2022-05-22T12:15:28.387036Z",
     "iopub.status.busy": "2022-05-22T12:15:28.386459Z",
     "iopub.status.idle": "2022-05-22T12:15:28.388975Z",
     "shell.execute_reply": "2022-05-22T12:15:28.388514Z"
    },
    "papermill": {
     "duration": 0.03583,
     "end_time": "2022-05-22T12:15:28.389078",
     "exception": false,
     "start_time": "2022-05-22T12:15:28.353248",
     "status": "completed"
    },
    "tags": []
   },
   "outputs": [],
   "source": [
    "#hide\n",
    "# cols = ['name','group','day','value']"
   ]
  },
  {
   "cell_type": "code",
   "execution_count": 37,
   "id": "continued-sleeping",
   "metadata": {
    "execution": {
     "iopub.execute_input": "2022-05-22T12:15:28.452572Z",
     "iopub.status.busy": "2022-05-22T12:15:28.451930Z",
     "iopub.status.idle": "2022-05-22T12:15:28.455428Z",
     "shell.execute_reply": "2022-05-22T12:15:28.455934Z"
    },
    "papermill": {
     "duration": 0.037024,
     "end_time": "2022-05-22T12:15:28.456063",
     "exception": false,
     "start_time": "2022-05-22T12:15:28.419039",
     "status": "completed"
    },
    "tags": []
   },
   "outputs": [],
   "source": [
    "#hide\n",
    "# g.rename(columns= {'date':'day'},inplace = True)"
   ]
  },
  {
   "cell_type": "code",
   "execution_count": 38,
   "id": "major-fight",
   "metadata": {
    "execution": {
     "iopub.execute_input": "2022-05-22T12:15:28.520428Z",
     "iopub.status.busy": "2022-05-22T12:15:28.519769Z",
     "iopub.status.idle": "2022-05-22T12:15:28.522238Z",
     "shell.execute_reply": "2022-05-22T12:15:28.521600Z"
    },
    "papermill": {
     "duration": 0.035974,
     "end_time": "2022-05-22T12:15:28.522352",
     "exception": false,
     "start_time": "2022-05-22T12:15:28.486378",
     "status": "completed"
    },
    "tags": []
   },
   "outputs": [],
   "source": [
    "#hide\n",
    "# g = g[cols]"
   ]
  },
  {
   "cell_type": "code",
   "execution_count": 39,
   "id": "structured-mobile",
   "metadata": {
    "execution": {
     "iopub.execute_input": "2022-05-22T12:15:28.587219Z",
     "iopub.status.busy": "2022-05-22T12:15:28.586549Z",
     "iopub.status.idle": "2022-05-22T12:15:28.589685Z",
     "shell.execute_reply": "2022-05-22T12:15:28.589087Z"
    },
    "papermill": {
     "duration": 0.036748,
     "end_time": "2022-05-22T12:15:28.589793",
     "exception": false,
     "start_time": "2022-05-22T12:15:28.553045",
     "status": "completed"
    },
    "tags": []
   },
   "outputs": [],
   "source": [
    "# #hide\n",
    "# g = g[g.group.notna()]"
   ]
  },
  {
   "cell_type": "code",
   "execution_count": 40,
   "id": "determined-closing",
   "metadata": {
    "execution": {
     "iopub.execute_input": "2022-05-22T12:15:28.655522Z",
     "iopub.status.busy": "2022-05-22T12:15:28.654809Z",
     "iopub.status.idle": "2022-05-22T12:15:28.656590Z",
     "shell.execute_reply": "2022-05-22T12:15:28.657129Z"
    },
    "papermill": {
     "duration": 0.03707,
     "end_time": "2022-05-22T12:15:28.657285",
     "exception": false,
     "start_time": "2022-05-22T12:15:28.620215",
     "status": "completed"
    },
    "tags": []
   },
   "outputs": [],
   "source": [
    "# #hide\n",
    "# colors = dict(zip(\n",
    "#     [\"Oceania\", \"Europe\", \"Asia\", \"South America\", \"Middle East\", \"North America\", \"Africa\"],\n",
    "#     [\"#adb0ff\", \"#ffb3ff\", \"#90d595\", \"#e48381\", \"#aafbff\", \"#f7bb5f\", \"#eafb50\"]\n",
    "# ))\n",
    "# group_lk = g.set_index('name')['group'].to_dict()"
   ]
  },
  {
   "cell_type": "code",
   "execution_count": null,
   "id": "gross-drinking",
   "metadata": {
    "papermill": {
     "duration": 0.030223,
     "end_time": "2022-05-22T12:15:28.718240",
     "exception": false,
     "start_time": "2022-05-22T12:15:28.688017",
     "status": "completed"
    },
    "tags": []
   },
   "outputs": [],
   "source": []
  },
  {
   "cell_type": "code",
   "execution_count": 41,
   "id": "subject-macintosh",
   "metadata": {
    "execution": {
     "iopub.execute_input": "2022-05-22T12:15:28.783774Z",
     "iopub.status.busy": "2022-05-22T12:15:28.783149Z",
     "iopub.status.idle": "2022-05-22T12:15:28.785747Z",
     "shell.execute_reply": "2022-05-22T12:15:28.785275Z"
    },
    "papermill": {
     "duration": 0.037363,
     "end_time": "2022-05-22T12:15:28.785856",
     "exception": false,
     "start_time": "2022-05-22T12:15:28.748493",
     "status": "completed"
    },
    "tags": []
   },
   "outputs": [],
   "source": [
    "# #hide\n",
    "# fig, ax = plt.subplots(figsize=(15, 8))\n",
    "\n",
    "# def draw_barchart(current_day):\n",
    "#     dff = g[g['day'].eq(current_day)].sort_values(by='value', ascending=True).tail(10)\n",
    "#     ax.clear()\n",
    "#     ax.barh(dff['name'], dff['value'], color=[colors[group_lk[x]] for x in dff['name']])\n",
    "#     dx = dff['value'].max() / 200\n",
    "    \n",
    "#     for i, (value, name) in enumerate(zip(dff['value'], dff['name'])):\n",
    "#         ax.text(value-dx, i,     name,           size=14, weight=600, ha='right', va='bottom')\n",
    "#         ax.text(value-dx, i-.25, group_lk[name], size=10, color='#444444', ha='right', va='baseline')\n",
    "#         ax.text(value+dx, i,     f'{value:,.0f}',  size=14, ha='left',  va='center')\n",
    "#     ax.text(1, 0.4, current_day, transform=ax.transAxes, color='#777777', size=46, ha='right', weight=800)\n",
    "#     ax.text(0, 1.06, 'Population (thousands)', transform=ax.transAxes, size=12, color='#777777')\n",
    "#     ax.xaxis.set_major_formatter(ticker.StrMethodFormatter('{x:,.0f}'))\n",
    "#     ax.xaxis.set_ticks_position('top')\n",
    "#     ax.tick_params(axis='x', colors='#777777', labelsize=12)\n",
    "#     ax.set_yticks([])\n",
    "#     ax.margins(0, 0.01)\n",
    "#     ax.grid(which='major', axis='x', linestyle='-')\n",
    "#     ax.set_axisbelow(True)\n",
    "    \n",
    "#     ax.text(0, 1.15, 'Coronavirus',\n",
    "#             transform=ax.transAxes, size=24, weight=600, ha='left', va='top')\n",
    "# #     ax.text(1, 0, 'by @pratapvardhan; credit @jburnmurdoch', transform=ax.transAxes, color='#777777', ha='right',\n",
    "# #             bbox=dict(facecolor='white', alpha=0.8, edgecolor='white'))\n",
    "#     plt.box(False)"
   ]
  },
  {
   "cell_type": "code",
   "execution_count": 42,
   "id": "sexual-wages",
   "metadata": {
    "execution": {
     "iopub.execute_input": "2022-05-22T12:15:28.850190Z",
     "iopub.status.busy": "2022-05-22T12:15:28.849520Z",
     "iopub.status.idle": "2022-05-22T12:15:28.851627Z",
     "shell.execute_reply": "2022-05-22T12:15:28.852109Z"
    },
    "papermill": {
     "duration": 0.036224,
     "end_time": "2022-05-22T12:15:28.852251",
     "exception": false,
     "start_time": "2022-05-22T12:15:28.816027",
     "status": "completed"
    },
    "tags": []
   },
   "outputs": [],
   "source": [
    "# #hide_input\n",
    "# fig, ax = plt.subplots(figsize=(15, 8))\n",
    "# animator = animation.FuncAnimation(fig, draw_barchart, frames=range(g.day.values.min(), g.day.values.max()))\n",
    "# HTML(animator.to_jshtml())\n",
    "# # or use animator.to_html5_video() or animator.save() "
   ]
  },
  {
   "cell_type": "code",
   "execution_count": null,
   "id": "australian-container",
   "metadata": {
    "papermill": {
     "duration": 0.030396,
     "end_time": "2022-05-22T12:15:28.913034",
     "exception": false,
     "start_time": "2022-05-22T12:15:28.882638",
     "status": "completed"
    },
    "tags": []
   },
   "outputs": [],
   "source": []
  },
  {
   "cell_type": "code",
   "execution_count": null,
   "id": "mediterranean-pontiac",
   "metadata": {
    "papermill": {
     "duration": 0.030101,
     "end_time": "2022-05-22T12:15:28.973463",
     "exception": false,
     "start_time": "2022-05-22T12:15:28.943362",
     "status": "completed"
    },
    "tags": []
   },
   "outputs": [],
   "source": []
  },
  {
   "cell_type": "code",
   "execution_count": null,
   "id": "aging-legislature",
   "metadata": {
    "papermill": {
     "duration": 0.030155,
     "end_time": "2022-05-22T12:15:29.034008",
     "exception": false,
     "start_time": "2022-05-22T12:15:29.003853",
     "status": "completed"
    },
    "tags": []
   },
   "outputs": [],
   "source": []
  }
 ],
 "metadata": {
  "kernelspec": {
   "display_name": "Python 3",
   "language": "python",
   "name": "python3"
  },
  "language_info": {
   "codemirror_mode": {
    "name": "ipython",
    "version": 3
   },
   "file_extension": ".py",
   "mimetype": "text/x-python",
   "name": "python",
   "nbconvert_exporter": "python",
   "pygments_lexer": "ipython3",
   "version": "3.6.15"
  },
  "papermill": {
   "duration": 5.760945,
   "end_time": "2022-05-22T12:15:29.384765",
   "environment_variables": {},
   "exception": null,
   "input_path": "2020-03-21-covid19exp.ipynb",
   "output_path": "2020-03-21-covid19exp.ipynb",
   "parameters": {},
   "start_time": "2022-05-22T12:15:23.623820",
   "version": "2.0.0"
  }
 },
 "nbformat": 4,
 "nbformat_minor": 5
}