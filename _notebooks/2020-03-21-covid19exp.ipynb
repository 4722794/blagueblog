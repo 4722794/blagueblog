{
 "cells": [
  {
   "cell_type": "markdown",
   "id": "muslim-click",
   "metadata": {
    "papermill": {
     "duration": 0.034055,
     "end_time": "2022-06-22T12:18:09.947513",
     "exception": false,
     "start_time": "2022-06-22T12:18:09.913458",
     "status": "completed"
    },
    "tags": []
   },
   "source": [
    "# COVID-19 Case Race\n",
    "> A race chart to see rising cases around the world\n",
    "\n",
    "- author: Hargun Oberoi\n",
    "- image: images/covid-overview.png\n",
    "- hide: false\n",
    "- badges: false"
   ]
  },
  {
   "cell_type": "code",
   "execution_count": 1,
   "id": "proof-material",
   "metadata": {
    "execution": {
     "iopub.execute_input": "2022-06-22T12:18:10.017897Z",
     "iopub.status.busy": "2022-06-22T12:18:10.017289Z",
     "iopub.status.idle": "2022-06-22T12:18:10.348101Z",
     "shell.execute_reply": "2022-06-22T12:18:10.347057Z"
    },
    "papermill": {
     "duration": 0.369534,
     "end_time": "2022-06-22T12:18:10.348255",
     "exception": false,
     "start_time": "2022-06-22T12:18:09.978721",
     "status": "completed"
    },
    "tags": []
   },
   "outputs": [],
   "source": [
    "#hide\n",
    "import numpy as np\n",
    "import pandas as pd\n",
    "from jinja2 import Template\n",
    "from IPython.display import HTML"
   ]
  },
  {
   "cell_type": "code",
   "execution_count": 2,
   "id": "developed-terminology",
   "metadata": {
    "execution": {
     "iopub.execute_input": "2022-06-22T12:18:10.412033Z",
     "iopub.status.busy": "2022-06-22T12:18:10.411339Z",
     "iopub.status.idle": "2022-06-22T12:18:10.413622Z",
     "shell.execute_reply": "2022-06-22T12:18:10.412978Z"
    },
    "papermill": {
     "duration": 0.036082,
     "end_time": "2022-06-22T12:18:10.413751",
     "exception": false,
     "start_time": "2022-06-22T12:18:10.377669",
     "status": "completed"
    },
    "tags": []
   },
   "outputs": [],
   "source": [
    "#hide\n",
    "\n",
    "# FETCH\n",
    "base_url = 'https://raw.githubusercontent.com/pratapvardhan/notebooks/master/covid19/'\n",
    "paths = {\n",
    "    'mapping': base_url + 'mapping_countries.csv',\n",
    "    'overview': base_url + 'overview.tpl'\n",
    "}"
   ]
  },
  {
   "cell_type": "code",
   "execution_count": 3,
   "id": "dynamic-saver",
   "metadata": {
    "execution": {
     "iopub.execute_input": "2022-06-22T12:18:10.482544Z",
     "iopub.status.busy": "2022-06-22T12:18:10.481899Z",
     "iopub.status.idle": "2022-06-22T12:18:10.484856Z",
     "shell.execute_reply": "2022-06-22T12:18:10.485333Z"
    },
    "papermill": {
     "duration": 0.041749,
     "end_time": "2022-06-22T12:18:10.485465",
     "exception": false,
     "start_time": "2022-06-22T12:18:10.443716",
     "status": "completed"
    },
    "tags": []
   },
   "outputs": [
    {
     "data": {
      "text/plain": [
       "'https://raw.githubusercontent.com/pratapvardhan/notebooks/master/covid19/mapping_countries.csv'"
      ]
     },
     "execution_count": 3,
     "metadata": {},
     "output_type": "execute_result"
    }
   ],
   "source": [
    "#hide\n",
    "paths['mapping']"
   ]
  },
  {
   "cell_type": "code",
   "execution_count": 4,
   "id": "urban-software",
   "metadata": {
    "execution": {
     "iopub.execute_input": "2022-06-22T12:18:10.550084Z",
     "iopub.status.busy": "2022-06-22T12:18:10.549365Z",
     "iopub.status.idle": "2022-06-22T12:18:10.551866Z",
     "shell.execute_reply": "2022-06-22T12:18:10.551214Z"
    },
    "papermill": {
     "duration": 0.037027,
     "end_time": "2022-06-22T12:18:10.551992",
     "exception": false,
     "start_time": "2022-06-22T12:18:10.514965",
     "status": "completed"
    },
    "tags": []
   },
   "outputs": [],
   "source": [
    "#hide\n",
    "def get_mappings(url):\n",
    "    df = pd.read_csv(url)\n",
    "    return {\n",
    "        'df': df,\n",
    "        'replace.country': dict(df.dropna(subset=['Name']).set_index('Country')['Name']),\n",
    "        'map.continent': dict(df.set_index('Name')['Continent'])\n",
    "    }"
   ]
  },
  {
   "cell_type": "code",
   "execution_count": 5,
   "id": "intimate-machinery",
   "metadata": {
    "execution": {
     "iopub.execute_input": "2022-06-22T12:18:10.616181Z",
     "iopub.status.busy": "2022-06-22T12:18:10.615600Z",
     "iopub.status.idle": "2022-06-22T12:18:10.645089Z",
     "shell.execute_reply": "2022-06-22T12:18:10.644439Z"
    },
    "papermill": {
     "duration": 0.063679,
     "end_time": "2022-06-22T12:18:10.645214",
     "exception": false,
     "start_time": "2022-06-22T12:18:10.581535",
     "status": "completed"
    },
    "tags": []
   },
   "outputs": [],
   "source": [
    "#hide\n",
    "mapping = get_mappings(paths['mapping'])"
   ]
  },
  {
   "cell_type": "code",
   "execution_count": 6,
   "id": "certified-tactics",
   "metadata": {
    "execution": {
     "iopub.execute_input": "2022-06-22T12:18:10.707367Z",
     "iopub.status.busy": "2022-06-22T12:18:10.706785Z",
     "iopub.status.idle": "2022-06-22T12:18:10.711269Z",
     "shell.execute_reply": "2022-06-22T12:18:10.711713Z"
    },
    "papermill": {
     "duration": 0.03707,
     "end_time": "2022-06-22T12:18:10.711842",
     "exception": false,
     "start_time": "2022-06-22T12:18:10.674772",
     "status": "completed"
    },
    "tags": []
   },
   "outputs": [],
   "source": [
    "#hide\n",
    "def get_template(path):\n",
    "    from urllib.parse import urlparse\n",
    "    if bool(urlparse(path).netloc):\n",
    "        from urllib.request import urlopen\n",
    "        return urlopen(path).read().decode('utf8')\n",
    "    return open(path).read()"
   ]
  },
  {
   "cell_type": "code",
   "execution_count": 7,
   "id": "realistic-blast",
   "metadata": {
    "execution": {
     "iopub.execute_input": "2022-06-22T12:18:10.775629Z",
     "iopub.status.busy": "2022-06-22T12:18:10.774952Z",
     "iopub.status.idle": "2022-06-22T12:18:10.777494Z",
     "shell.execute_reply": "2022-06-22T12:18:10.776964Z"
    },
    "papermill": {
     "duration": 0.036529,
     "end_time": "2022-06-22T12:18:10.777616",
     "exception": false,
     "start_time": "2022-06-22T12:18:10.741087",
     "status": "completed"
    },
    "tags": []
   },
   "outputs": [],
   "source": [
    "#hide\n",
    "def get_frame(name):\n",
    "    url = (\n",
    "        'https://raw.githubusercontent.com/CSSEGISandData/COVID-19/master/csse_covid_19_data/'\n",
    "        f'csse_covid_19_time_series/time_series_covid19_{name}_global.csv')\n",
    "    df = pd.read_csv(url)\n",
    "    # rename countries\n",
    "    df['Country/Region'] = df['Country/Region'].replace(mapping['replace.country'])\n",
    "    return df"
   ]
  },
  {
   "cell_type": "code",
   "execution_count": 8,
   "id": "affiliated-characterization",
   "metadata": {
    "execution": {
     "iopub.execute_input": "2022-06-22T12:18:10.843372Z",
     "iopub.status.busy": "2022-06-22T12:18:10.842738Z",
     "iopub.status.idle": "2022-06-22T12:18:10.846456Z",
     "shell.execute_reply": "2022-06-22T12:18:10.846880Z"
    },
    "papermill": {
     "duration": 0.039943,
     "end_time": "2022-06-22T12:18:10.847019",
     "exception": false,
     "start_time": "2022-06-22T12:18:10.807076",
     "status": "completed"
    },
    "tags": []
   },
   "outputs": [],
   "source": [
    "#hide\n",
    "def get_dates(df):\n",
    "    dt_cols = df.columns[~df.columns.isin(['Province/State', 'Country/Region', 'Lat', 'Long'])]\n",
    "    LAST_DATE_I = -1\n",
    "    # sometimes last column may be empty, then go backwards\n",
    "    for i in range(-1, -len(dt_cols), -1):\n",
    "        if not df[dt_cols[i]].fillna(0).eq(0).all():\n",
    "            LAST_DATE_I = i\n",
    "            break\n",
    "    return LAST_DATE_I, dt_cols"
   ]
  },
  {
   "cell_type": "code",
   "execution_count": 9,
   "id": "recent-optimization",
   "metadata": {
    "execution": {
     "iopub.execute_input": "2022-06-22T12:18:10.911145Z",
     "iopub.status.busy": "2022-06-22T12:18:10.910550Z",
     "iopub.status.idle": "2022-06-22T12:18:11.273474Z",
     "shell.execute_reply": "2022-06-22T12:18:11.272570Z"
    },
    "papermill": {
     "duration": 0.397355,
     "end_time": "2022-06-22T12:18:11.273650",
     "exception": false,
     "start_time": "2022-06-22T12:18:10.876295",
     "status": "completed"
    },
    "tags": []
   },
   "outputs": [],
   "source": [
    "#hide\n",
    "COL_REGION = 'Country/Region'\n",
    "# Confirmed, Recovered, Deaths\n",
    "df = get_frame('confirmed')\n",
    "# dft_: timeseries, dfc_: today country agg\n",
    "dft_cases = df\n",
    "dft_deaths = get_frame('deaths')\n",
    "dft_recovered = get_frame('recovered')\n",
    "LAST_DATE_I, dt_cols = get_dates(df)"
   ]
  },
  {
   "cell_type": "code",
   "execution_count": 10,
   "id": "absolute-copper",
   "metadata": {
    "execution": {
     "iopub.execute_input": "2022-06-22T12:18:11.345863Z",
     "iopub.status.busy": "2022-06-22T12:18:11.345103Z",
     "iopub.status.idle": "2022-06-22T12:18:11.347033Z",
     "shell.execute_reply": "2022-06-22T12:18:11.347546Z"
    },
    "papermill": {
     "duration": 0.040644,
     "end_time": "2022-06-22T12:18:11.347709",
     "exception": false,
     "start_time": "2022-06-22T12:18:11.307065",
     "status": "completed"
    },
    "tags": []
   },
   "outputs": [],
   "source": [
    "#hide\n",
    "LAST_DATE_I, dt_cols = get_dates(df)\n",
    "dt_today =dt_cols[LAST_DATE_I]\n",
    "# dt_5day = dt_cols[LAST_DATE_I - 5]\n",
    "dt_yday = dt_cols[LAST_DATE_I - 1]"
   ]
  },
  {
   "cell_type": "code",
   "execution_count": 11,
   "id": "restricted-sheriff",
   "metadata": {
    "execution": {
     "iopub.execute_input": "2022-06-22T12:18:11.414689Z",
     "iopub.status.busy": "2022-06-22T12:18:11.414052Z",
     "iopub.status.idle": "2022-06-22T12:18:11.421620Z",
     "shell.execute_reply": "2022-06-22T12:18:11.422128Z"
    },
    "papermill": {
     "duration": 0.044412,
     "end_time": "2022-06-22T12:18:11.422283",
     "exception": false,
     "start_time": "2022-06-22T12:18:11.377871",
     "status": "completed"
    },
    "tags": []
   },
   "outputs": [],
   "source": [
    "#hide\n",
    "dfc_cases = dft_cases.groupby(COL_REGION)[dt_today].sum()\n",
    "dfc_deaths = dft_deaths.groupby(COL_REGION)[dt_today].sum()\n",
    "# dfp_cases = dft_cases.groupby(COL_REGION)[dt_5day].sum()\n",
    "# dfp_deaths = dft_deaths.groupby(COL_REGION)[dt_5day].sum()\n",
    "dfp_cases = dft_cases.groupby(COL_REGION)[dt_yday].sum()\n",
    "dfp_deaths = dft_deaths.groupby(COL_REGION)[dt_yday].sum()"
   ]
  },
  {
   "cell_type": "code",
   "execution_count": 12,
   "id": "deluxe-hepatitis",
   "metadata": {
    "execution": {
     "iopub.execute_input": "2022-06-22T12:18:11.487852Z",
     "iopub.status.busy": "2022-06-22T12:18:11.487262Z",
     "iopub.status.idle": "2022-06-22T12:18:11.492159Z",
     "shell.execute_reply": "2022-06-22T12:18:11.491679Z"
    },
    "papermill": {
     "duration": 0.040308,
     "end_time": "2022-06-22T12:18:11.492276",
     "exception": false,
     "start_time": "2022-06-22T12:18:11.451968",
     "status": "completed"
    },
    "tags": []
   },
   "outputs": [],
   "source": [
    "#hide\n",
    "df_table = (pd.DataFrame(dict(Cases = dfc_cases, Deaths = dfc_deaths, PCases = dfp_cases, PDeaths = dfp_deaths))\n",
    "            .sort_values(by = ['Cases','Deaths'], ascending = [False, False])\n",
    "            .reset_index())"
   ]
  },
  {
   "cell_type": "code",
   "execution_count": 13,
   "id": "educational-chancellor",
   "metadata": {
    "execution": {
     "iopub.execute_input": "2022-06-22T12:18:11.570013Z",
     "iopub.status.busy": "2022-06-22T12:18:11.569337Z",
     "iopub.status.idle": "2022-06-22T12:18:11.576552Z",
     "shell.execute_reply": "2022-06-22T12:18:11.577090Z"
    },
    "papermill": {
     "duration": 0.055421,
     "end_time": "2022-06-22T12:18:11.577227",
     "exception": false,
     "start_time": "2022-06-22T12:18:11.521806",
     "status": "completed"
    },
    "tags": []
   },
   "outputs": [
    {
     "data": {
      "text/html": [
       "<div>\n",
       "<style scoped>\n",
       "    .dataframe tbody tr th:only-of-type {\n",
       "        vertical-align: middle;\n",
       "    }\n",
       "\n",
       "    .dataframe tbody tr th {\n",
       "        vertical-align: top;\n",
       "    }\n",
       "\n",
       "    .dataframe thead th {\n",
       "        text-align: right;\n",
       "    }\n",
       "</style>\n",
       "<table border=\"1\" class=\"dataframe\">\n",
       "  <thead>\n",
       "    <tr style=\"text-align: right;\">\n",
       "      <th></th>\n",
       "      <th>Country/Region</th>\n",
       "      <th>Cases</th>\n",
       "      <th>Deaths</th>\n",
       "      <th>PCases</th>\n",
       "      <th>PDeaths</th>\n",
       "      <th>Cases (+)</th>\n",
       "      <th>Deaths (+)</th>\n",
       "      <th>Fatality Rate</th>\n",
       "      <th>Continent</th>\n",
       "    </tr>\n",
       "  </thead>\n",
       "  <tbody>\n",
       "    <tr>\n",
       "      <th>0</th>\n",
       "      <td>US</td>\n",
       "      <td>86452232</td>\n",
       "      <td>1013975</td>\n",
       "      <td>86297081</td>\n",
       "      <td>1013493</td>\n",
       "      <td>155151</td>\n",
       "      <td>482</td>\n",
       "      <td>1.17</td>\n",
       "      <td>North America</td>\n",
       "    </tr>\n",
       "    <tr>\n",
       "      <th>1</th>\n",
       "      <td>India</td>\n",
       "      <td>43331645</td>\n",
       "      <td>524903</td>\n",
       "      <td>43319396</td>\n",
       "      <td>524890</td>\n",
       "      <td>12249</td>\n",
       "      <td>13</td>\n",
       "      <td>1.21</td>\n",
       "      <td>Asia</td>\n",
       "    </tr>\n",
       "    <tr>\n",
       "      <th>2</th>\n",
       "      <td>Brazil</td>\n",
       "      <td>31818827</td>\n",
       "      <td>669390</td>\n",
       "      <td>31754465</td>\n",
       "      <td>669161</td>\n",
       "      <td>64362</td>\n",
       "      <td>229</td>\n",
       "      <td>2.10</td>\n",
       "      <td>South America</td>\n",
       "    </tr>\n",
       "    <tr>\n",
       "      <th>3</th>\n",
       "      <td>France</td>\n",
       "      <td>30476915</td>\n",
       "      <td>150201</td>\n",
       "      <td>30381221</td>\n",
       "      <td>150145</td>\n",
       "      <td>95694</td>\n",
       "      <td>56</td>\n",
       "      <td>0.49</td>\n",
       "      <td>Europe</td>\n",
       "    </tr>\n",
       "    <tr>\n",
       "      <th>4</th>\n",
       "      <td>Germany</td>\n",
       "      <td>27454225</td>\n",
       "      <td>140462</td>\n",
       "      <td>27334993</td>\n",
       "      <td>140358</td>\n",
       "      <td>119232</td>\n",
       "      <td>104</td>\n",
       "      <td>0.51</td>\n",
       "      <td>Europe</td>\n",
       "    </tr>\n",
       "  </tbody>\n",
       "</table>\n",
       "</div>"
      ],
      "text/plain": [
       "  Country/Region     Cases   Deaths    PCases  PDeaths  Cases (+)  Deaths (+)  \\\n",
       "0             US  86452232  1013975  86297081  1013493     155151         482   \n",
       "1          India  43331645   524903  43319396   524890      12249          13   \n",
       "2         Brazil  31818827   669390  31754465   669161      64362         229   \n",
       "3         France  30476915   150201  30381221   150145      95694          56   \n",
       "4        Germany  27454225   140462  27334993   140358     119232         104   \n",
       "\n",
       "   Fatality Rate      Continent  \n",
       "0           1.17  North America  \n",
       "1           1.21           Asia  \n",
       "2           2.10  South America  \n",
       "3           0.49         Europe  \n",
       "4           0.51         Europe  "
      ]
     },
     "execution_count": 13,
     "metadata": {},
     "output_type": "execute_result"
    }
   ],
   "source": [
    "#hide\n",
    "for c in 'Cases, Deaths'.split(', '):\n",
    "    df_table[f'{c} (+)'] = (df_table[c] - df_table[f'P{c}']).clip(0)\n",
    "    #Clip ça veut dire, les chiffres negatif sont interdit\n",
    "df_table['Fatality Rate'] = (100* df_table['Deaths']/ df_table['Cases']).round(2)\n",
    "df_table['Continent'] = df_table['Country/Region'].map(mapping['map.continent'])\n",
    "df_table.head(5)"
   ]
  },
  {
   "cell_type": "code",
   "execution_count": 14,
   "id": "aboriginal-bulgaria",
   "metadata": {
    "execution": {
     "iopub.execute_input": "2022-06-22T12:18:11.641501Z",
     "iopub.status.busy": "2022-06-22T12:18:11.640931Z",
     "iopub.status.idle": "2022-06-22T12:18:11.643870Z",
     "shell.execute_reply": "2022-06-22T12:18:11.644414Z"
    },
    "papermill": {
     "duration": 0.037428,
     "end_time": "2022-06-22T12:18:11.644534",
     "exception": false,
     "start_time": "2022-06-22T12:18:11.607106",
     "status": "completed"
    },
    "tags": []
   },
   "outputs": [],
   "source": [
    "#hide\n",
    "#delete problematic countries from table\n",
    "df_table = df_table[~df_table['Country/Region'].isin(['Cape Verde', 'Cruise Ship', 'Kosovo'])]"
   ]
  },
  {
   "cell_type": "code",
   "execution_count": 15,
   "id": "fantastic-effect",
   "metadata": {
    "execution": {
     "iopub.execute_input": "2022-06-22T12:18:11.711114Z",
     "iopub.status.busy": "2022-06-22T12:18:11.710540Z",
     "iopub.status.idle": "2022-06-22T12:18:11.727835Z",
     "shell.execute_reply": "2022-06-22T12:18:11.727371Z"
    },
    "papermill": {
     "duration": 0.053761,
     "end_time": "2022-06-22T12:18:11.727939",
     "exception": false,
     "start_time": "2022-06-22T12:18:11.674178",
     "status": "completed"
    },
    "tags": []
   },
   "outputs": [
    {
     "data": {
      "text/html": [
       "<div>\n",
       "<style scoped>\n",
       "    .dataframe tbody tr th:only-of-type {\n",
       "        vertical-align: middle;\n",
       "    }\n",
       "\n",
       "    .dataframe tbody tr th {\n",
       "        vertical-align: top;\n",
       "    }\n",
       "\n",
       "    .dataframe thead th {\n",
       "        text-align: right;\n",
       "    }\n",
       "</style>\n",
       "<table border=\"1\" class=\"dataframe\">\n",
       "  <thead>\n",
       "    <tr style=\"text-align: right;\">\n",
       "      <th></th>\n",
       "      <th>Country/Region</th>\n",
       "      <th>Cases</th>\n",
       "      <th>Deaths</th>\n",
       "      <th>PCases</th>\n",
       "      <th>PDeaths</th>\n",
       "      <th>Cases (+)</th>\n",
       "      <th>Deaths (+)</th>\n",
       "      <th>Fatality Rate</th>\n",
       "      <th>Continent</th>\n",
       "    </tr>\n",
       "  </thead>\n",
       "  <tbody>\n",
       "    <tr>\n",
       "      <th>0</th>\n",
       "      <td>US</td>\n",
       "      <td>86452232</td>\n",
       "      <td>1013975</td>\n",
       "      <td>86297081</td>\n",
       "      <td>1013493</td>\n",
       "      <td>155151</td>\n",
       "      <td>482</td>\n",
       "      <td>1.2</td>\n",
       "      <td>North America</td>\n",
       "    </tr>\n",
       "    <tr>\n",
       "      <th>1</th>\n",
       "      <td>India</td>\n",
       "      <td>43331645</td>\n",
       "      <td>524903</td>\n",
       "      <td>43319396</td>\n",
       "      <td>524890</td>\n",
       "      <td>12249</td>\n",
       "      <td>13</td>\n",
       "      <td>1.2</td>\n",
       "      <td>Asia</td>\n",
       "    </tr>\n",
       "    <tr>\n",
       "      <th>2</th>\n",
       "      <td>Brazil</td>\n",
       "      <td>31818827</td>\n",
       "      <td>669390</td>\n",
       "      <td>31754465</td>\n",
       "      <td>669161</td>\n",
       "      <td>64362</td>\n",
       "      <td>229</td>\n",
       "      <td>2.1</td>\n",
       "      <td>South America</td>\n",
       "    </tr>\n",
       "    <tr>\n",
       "      <th>3</th>\n",
       "      <td>France</td>\n",
       "      <td>30476915</td>\n",
       "      <td>150201</td>\n",
       "      <td>30381221</td>\n",
       "      <td>150145</td>\n",
       "      <td>95694</td>\n",
       "      <td>56</td>\n",
       "      <td>0.5</td>\n",
       "      <td>Europe</td>\n",
       "    </tr>\n",
       "    <tr>\n",
       "      <th>4</th>\n",
       "      <td>Germany</td>\n",
       "      <td>27454225</td>\n",
       "      <td>140462</td>\n",
       "      <td>27334993</td>\n",
       "      <td>140358</td>\n",
       "      <td>119232</td>\n",
       "      <td>104</td>\n",
       "      <td>0.5</td>\n",
       "      <td>Europe</td>\n",
       "    </tr>\n",
       "  </tbody>\n",
       "</table>\n",
       "</div>"
      ],
      "text/plain": [
       "  Country/Region     Cases   Deaths    PCases  PDeaths  Cases (+)  Deaths (+)  \\\n",
       "0             US  86452232  1013975  86297081  1013493     155151         482   \n",
       "1          India  43331645   524903  43319396   524890      12249          13   \n",
       "2         Brazil  31818827   669390  31754465   669161      64362         229   \n",
       "3         France  30476915   150201  30381221   150145      95694          56   \n",
       "4        Germany  27454225   140462  27334993   140358     119232         104   \n",
       "\n",
       "   Fatality Rate      Continent  \n",
       "0            1.2  North America  \n",
       "1            1.2           Asia  \n",
       "2            2.1  South America  \n",
       "3            0.5         Europe  \n",
       "4            0.5         Europe  "
      ]
     },
     "execution_count": 15,
     "metadata": {},
     "output_type": "execute_result"
    }
   ],
   "source": [
    "#hide\n",
    "df_table = (pd.DataFrame(dict(Cases=dfc_cases, Deaths=dfc_deaths, PCases=dfp_cases, PDeaths=dfp_deaths))\n",
    "             .sort_values(by=['Cases', 'Deaths'], ascending=[False, False])\n",
    "             .reset_index())\n",
    "df_table.rename(columns={'index': 'Country/Region'}, inplace=True)\n",
    "for c in 'Cases, Deaths'.split(', '):\n",
    "    df_table[f'{c} (+)'] = (df_table[c] - df_table[f'P{c}']).clip(0)  # DATA BUG\n",
    "df_table['Fatality Rate'] = (100 * df_table['Deaths'] / df_table['Cases']).round(1)\n",
    "df_table['Continent'] = df_table['Country/Region'].map(mapping['map.continent'])\n",
    "df_table.head(5)"
   ]
  },
  {
   "cell_type": "code",
   "execution_count": 16,
   "id": "fewer-occasion",
   "metadata": {
    "execution": {
     "iopub.execute_input": "2022-06-22T12:18:11.796573Z",
     "iopub.status.busy": "2022-06-22T12:18:11.795502Z",
     "iopub.status.idle": "2022-06-22T12:18:11.798661Z",
     "shell.execute_reply": "2022-06-22T12:18:11.798090Z"
    },
    "papermill": {
     "duration": 0.040426,
     "end_time": "2022-06-22T12:18:11.798775",
     "exception": false,
     "start_time": "2022-06-22T12:18:11.758349",
     "status": "completed"
    },
    "tags": []
   },
   "outputs": [],
   "source": [
    "#hide\n",
    "#delete problematic countries from table\n",
    "df_table = df_table[~df_table['Country/Region'].isin(['Cape Verde', 'Cruise Ship', 'Kosovo'])]"
   ]
  },
  {
   "cell_type": "code",
   "execution_count": 17,
   "id": "related-center",
   "metadata": {
    "execution": {
     "iopub.execute_input": "2022-06-22T12:18:11.881621Z",
     "iopub.status.busy": "2022-06-22T12:18:11.880995Z",
     "iopub.status.idle": "2022-06-22T12:18:11.883507Z",
     "shell.execute_reply": "2022-06-22T12:18:11.882938Z"
    },
    "papermill": {
     "duration": 0.051647,
     "end_time": "2022-06-22T12:18:11.883623",
     "exception": false,
     "start_time": "2022-06-22T12:18:11.831976",
     "status": "completed"
    },
    "tags": []
   },
   "outputs": [],
   "source": [
    "#hide\n",
    "metrics = [df_table.columns[index] for index in [1,2,5,6]]\n",
    "# s_china = df_table[df_table['Country/Region'].eq('China')][metrics].sum().add_prefix('China ')\n",
    "s_us = df_table[df_table['Country/Region'].eq('US')][metrics].sum().add_prefix('US ')\n",
    "s_eu = df_table[df_table['Continent'].eq('Europe')][metrics].sum().add_prefix('EU ')\n",
    "s_ind = df_table[df_table['Country/Region'].eq('India')][metrics].sum().add_prefix('India ')\n",
    "summary = {'updated': pd.to_datetime(dt_today), 'since': pd.to_datetime(dt_yday)}\n",
    "summary = {'updated': pd.to_datetime(dt_today), 'since': pd.to_datetime(dt_yday)}\n",
    "summary = {**summary, **df_table[metrics].sum(), **s_ind, **s_us, **s_eu}"
   ]
  },
  {
   "cell_type": "code",
   "execution_count": 18,
   "id": "engaging-syndrome",
   "metadata": {
    "execution": {
     "iopub.execute_input": "2022-06-22T12:18:11.950390Z",
     "iopub.status.busy": "2022-06-22T12:18:11.949785Z",
     "iopub.status.idle": "2022-06-22T12:18:11.971666Z",
     "shell.execute_reply": "2022-06-22T12:18:11.972200Z"
    },
    "papermill": {
     "duration": 0.058173,
     "end_time": "2022-06-22T12:18:11.972362",
     "exception": false,
     "start_time": "2022-06-22T12:18:11.914189",
     "status": "completed"
    },
    "tags": []
   },
   "outputs": [],
   "source": [
    "#hide\n",
    "dft_ct_new_cases = dft_cases.groupby(COL_REGION)[dt_cols].sum().diff(axis=1).fillna(0).astype(int)"
   ]
  },
  {
   "cell_type": "code",
   "execution_count": 19,
   "id": "neutral-assignment",
   "metadata": {
    "execution": {
     "iopub.execute_input": "2022-06-22T12:18:12.041180Z",
     "iopub.status.busy": "2022-06-22T12:18:12.040555Z",
     "iopub.status.idle": "2022-06-22T12:18:12.042646Z",
     "shell.execute_reply": "2022-06-22T12:18:12.043064Z"
    },
    "papermill": {
     "duration": 0.039725,
     "end_time": "2022-06-22T12:18:12.043202",
     "exception": false,
     "start_time": "2022-06-22T12:18:12.003477",
     "status": "completed"
    },
    "tags": []
   },
   "outputs": [],
   "source": [
    "#hide\n",
    "everydaycases = dft_ct_new_cases.cumsum(axis=1)"
   ]
  },
  {
   "cell_type": "code",
   "execution_count": 20,
   "id": "parliamentary-calgary",
   "metadata": {
    "execution": {
     "iopub.execute_input": "2022-06-22T12:18:12.109473Z",
     "iopub.status.busy": "2022-06-22T12:18:12.108866Z",
     "iopub.status.idle": "2022-06-22T12:18:12.705908Z",
     "shell.execute_reply": "2022-06-22T12:18:12.705384Z"
    },
    "papermill": {
     "duration": 0.63236,
     "end_time": "2022-06-22T12:18:12.706066",
     "exception": false,
     "start_time": "2022-06-22T12:18:12.073706",
     "status": "completed"
    },
    "tags": []
   },
   "outputs": [],
   "source": [
    "#hide\n",
    "import pandas as pd\n",
    "import matplotlib.pyplot as plt\n",
    "import matplotlib.ticker as ticker\n",
    "import matplotlib.animation as animation\n",
    "from IPython.display import HTML"
   ]
  },
  {
   "cell_type": "code",
   "execution_count": 21,
   "id": "lasting-extraction",
   "metadata": {
    "execution": {
     "iopub.execute_input": "2022-06-22T12:18:12.774444Z",
     "iopub.status.busy": "2022-06-22T12:18:12.773779Z",
     "iopub.status.idle": "2022-06-22T12:18:12.780792Z",
     "shell.execute_reply": "2022-06-22T12:18:12.781238Z"
    },
    "papermill": {
     "duration": 0.044732,
     "end_time": "2022-06-22T12:18:12.781378",
     "exception": false,
     "start_time": "2022-06-22T12:18:12.736646",
     "status": "completed"
    },
    "tags": []
   },
   "outputs": [],
   "source": [
    "#hide\n",
    "t = everydaycases.stack()"
   ]
  },
  {
   "cell_type": "code",
   "execution_count": 22,
   "id": "premier-sleeve",
   "metadata": {
    "execution": {
     "iopub.execute_input": "2022-06-22T12:18:12.847540Z",
     "iopub.status.busy": "2022-06-22T12:18:12.846937Z",
     "iopub.status.idle": "2022-06-22T12:18:12.858700Z",
     "shell.execute_reply": "2022-06-22T12:18:12.858205Z"
    },
    "papermill": {
     "duration": 0.046877,
     "end_time": "2022-06-22T12:18:12.858822",
     "exception": false,
     "start_time": "2022-06-22T12:18:12.811945",
     "status": "completed"
    },
    "tags": []
   },
   "outputs": [],
   "source": [
    "#hide\n",
    "g = t.reset_index(['Country/Region'])"
   ]
  },
  {
   "cell_type": "code",
   "execution_count": 23,
   "id": "distributed-pittsburgh",
   "metadata": {
    "execution": {
     "iopub.execute_input": "2022-06-22T12:18:12.924312Z",
     "iopub.status.busy": "2022-06-22T12:18:12.923624Z",
     "iopub.status.idle": "2022-06-22T12:18:12.926218Z",
     "shell.execute_reply": "2022-06-22T12:18:12.925562Z"
    },
    "papermill": {
     "duration": 0.037056,
     "end_time": "2022-06-22T12:18:12.926348",
     "exception": false,
     "start_time": "2022-06-22T12:18:12.889292",
     "status": "completed"
    },
    "tags": []
   },
   "outputs": [],
   "source": [
    "#hide\n",
    "g.index.name = 'date'"
   ]
  },
  {
   "cell_type": "code",
   "execution_count": 24,
   "id": "naked-donor",
   "metadata": {
    "execution": {
     "iopub.execute_input": "2022-06-22T12:18:12.992296Z",
     "iopub.status.busy": "2022-06-22T12:18:12.991667Z",
     "iopub.status.idle": "2022-06-22T12:18:12.995244Z",
     "shell.execute_reply": "2022-06-22T12:18:12.995670Z"
    },
    "papermill": {
     "duration": 0.038608,
     "end_time": "2022-06-22T12:18:12.995808",
     "exception": false,
     "start_time": "2022-06-22T12:18:12.957200",
     "status": "completed"
    },
    "tags": []
   },
   "outputs": [],
   "source": [
    "# #hide\n",
    "# g = g.reset_index(['date'])"
   ]
  },
  {
   "cell_type": "code",
   "execution_count": 25,
   "id": "incomplete-mustang",
   "metadata": {
    "execution": {
     "iopub.execute_input": "2022-06-22T12:18:13.061067Z",
     "iopub.status.busy": "2022-06-22T12:18:13.060368Z",
     "iopub.status.idle": "2022-06-22T12:18:13.062939Z",
     "shell.execute_reply": "2022-06-22T12:18:13.062365Z"
    },
    "papermill": {
     "duration": 0.036649,
     "end_time": "2022-06-22T12:18:13.063067",
     "exception": false,
     "start_time": "2022-06-22T12:18:13.026418",
     "status": "completed"
    },
    "tags": []
   },
   "outputs": [],
   "source": [
    "#hide\n",
    "# g.head()"
   ]
  },
  {
   "cell_type": "code",
   "execution_count": 26,
   "id": "specific-kruger",
   "metadata": {
    "execution": {
     "iopub.execute_input": "2022-06-22T12:18:13.129091Z",
     "iopub.status.busy": "2022-06-22T12:18:13.128363Z",
     "iopub.status.idle": "2022-06-22T12:18:13.132409Z",
     "shell.execute_reply": "2022-06-22T12:18:13.132895Z"
    },
    "papermill": {
     "duration": 0.039299,
     "end_time": "2022-06-22T12:18:13.133050",
     "exception": false,
     "start_time": "2022-06-22T12:18:13.093751",
     "status": "completed"
    },
    "tags": []
   },
   "outputs": [],
   "source": [
    "#hide\n",
    "# g.columns = ['date','country','cases']"
   ]
  },
  {
   "cell_type": "code",
   "execution_count": 27,
   "id": "tender-conversion",
   "metadata": {
    "execution": {
     "iopub.execute_input": "2022-06-22T12:18:13.198235Z",
     "iopub.status.busy": "2022-06-22T12:18:13.197596Z",
     "iopub.status.idle": "2022-06-22T12:18:13.200332Z",
     "shell.execute_reply": "2022-06-22T12:18:13.199855Z"
    },
    "papermill": {
     "duration": 0.036696,
     "end_time": "2022-06-22T12:18:13.200450",
     "exception": false,
     "start_time": "2022-06-22T12:18:13.163754",
     "status": "completed"
    },
    "tags": []
   },
   "outputs": [],
   "source": [
    "#hide\n",
    "# g['continent'] = g.country"
   ]
  },
  {
   "cell_type": "code",
   "execution_count": 28,
   "id": "substantial-wilderness",
   "metadata": {
    "execution": {
     "iopub.execute_input": "2022-06-22T12:18:13.266339Z",
     "iopub.status.busy": "2022-06-22T12:18:13.265700Z",
     "iopub.status.idle": "2022-06-22T12:18:13.267938Z",
     "shell.execute_reply": "2022-06-22T12:18:13.268486Z"
    },
    "papermill": {
     "duration": 0.037414,
     "end_time": "2022-06-22T12:18:13.268617",
     "exception": false,
     "start_time": "2022-06-22T12:18:13.231203",
     "status": "completed"
    },
    "tags": []
   },
   "outputs": [],
   "source": [
    "#hide\n",
    "# cols = list(g.columns.values)"
   ]
  },
  {
   "cell_type": "code",
   "execution_count": 29,
   "id": "solved-farming",
   "metadata": {
    "execution": {
     "iopub.execute_input": "2022-06-22T12:18:13.333139Z",
     "iopub.status.busy": "2022-06-22T12:18:13.332517Z",
     "iopub.status.idle": "2022-06-22T12:18:13.335144Z",
     "shell.execute_reply": "2022-06-22T12:18:13.334662Z"
    },
    "papermill": {
     "duration": 0.036431,
     "end_time": "2022-06-22T12:18:13.335259",
     "exception": false,
     "start_time": "2022-06-22T12:18:13.298828",
     "status": "completed"
    },
    "tags": []
   },
   "outputs": [],
   "source": [
    "#hide\n",
    "# cols.insert(0, cols.pop())"
   ]
  },
  {
   "cell_type": "code",
   "execution_count": 30,
   "id": "executed-adoption",
   "metadata": {
    "execution": {
     "iopub.execute_input": "2022-06-22T12:18:13.401000Z",
     "iopub.status.busy": "2022-06-22T12:18:13.400295Z",
     "iopub.status.idle": "2022-06-22T12:18:13.403977Z",
     "shell.execute_reply": "2022-06-22T12:18:13.404399Z"
    },
    "papermill": {
     "duration": 0.038506,
     "end_time": "2022-06-22T12:18:13.404536",
     "exception": false,
     "start_time": "2022-06-22T12:18:13.366030",
     "status": "completed"
    },
    "tags": []
   },
   "outputs": [],
   "source": [
    "#hide\n",
    "# g = g[cols]"
   ]
  },
  {
   "cell_type": "code",
   "execution_count": 31,
   "id": "subject-dublin",
   "metadata": {
    "execution": {
     "iopub.execute_input": "2022-06-22T12:18:13.469511Z",
     "iopub.status.busy": "2022-06-22T12:18:13.468800Z",
     "iopub.status.idle": "2022-06-22T12:18:13.472931Z",
     "shell.execute_reply": "2022-06-22T12:18:13.473405Z"
    },
    "papermill": {
     "duration": 0.038602,
     "end_time": "2022-06-22T12:18:13.473553",
     "exception": false,
     "start_time": "2022-06-22T12:18:13.434951",
     "status": "completed"
    },
    "tags": []
   },
   "outputs": [],
   "source": [
    "#hide\n",
    "# g['continent'] = g['continent'].map(mapping['map.continent'])"
   ]
  },
  {
   "cell_type": "code",
   "execution_count": 32,
   "id": "freelance-scout",
   "metadata": {
    "execution": {
     "iopub.execute_input": "2022-06-22T12:18:13.539876Z",
     "iopub.status.busy": "2022-06-22T12:18:13.539112Z",
     "iopub.status.idle": "2022-06-22T12:18:13.540931Z",
     "shell.execute_reply": "2022-06-22T12:18:13.541450Z"
    },
    "papermill": {
     "duration": 0.037194,
     "end_time": "2022-06-22T12:18:13.541607",
     "exception": false,
     "start_time": "2022-06-22T12:18:13.504413",
     "status": "completed"
    },
    "tags": []
   },
   "outputs": [],
   "source": [
    "#hide\n",
    "# g.head()"
   ]
  },
  {
   "cell_type": "code",
   "execution_count": 33,
   "id": "limited-engine",
   "metadata": {
    "execution": {
     "iopub.execute_input": "2022-06-22T12:18:13.607522Z",
     "iopub.status.busy": "2022-06-22T12:18:13.606874Z",
     "iopub.status.idle": "2022-06-22T12:18:13.610583Z",
     "shell.execute_reply": "2022-06-22T12:18:13.611006Z"
    },
    "papermill": {
     "duration": 0.03856,
     "end_time": "2022-06-22T12:18:13.611142",
     "exception": false,
     "start_time": "2022-06-22T12:18:13.572582",
     "status": "completed"
    },
    "tags": []
   },
   "outputs": [],
   "source": [
    "# hide\n",
    "# g['date'] = g['date'].astype('datetime64[ns]')"
   ]
  },
  {
   "cell_type": "code",
   "execution_count": 34,
   "id": "sophisticated-supervisor",
   "metadata": {
    "execution": {
     "iopub.execute_input": "2022-06-22T12:18:13.676252Z",
     "iopub.status.busy": "2022-06-22T12:18:13.675560Z",
     "iopub.status.idle": "2022-06-22T12:18:13.677585Z",
     "shell.execute_reply": "2022-06-22T12:18:13.676954Z"
    },
    "papermill": {
     "duration": 0.036083,
     "end_time": "2022-06-22T12:18:13.677713",
     "exception": false,
     "start_time": "2022-06-22T12:18:13.641630",
     "status": "completed"
    },
    "tags": []
   },
   "outputs": [],
   "source": [
    "#hide\n",
    "# g['date'] = g.date.dt.dayofyear"
   ]
  },
  {
   "cell_type": "code",
   "execution_count": 35,
   "id": "inside-dubai",
   "metadata": {
    "execution": {
     "iopub.execute_input": "2022-06-22T12:18:13.742033Z",
     "iopub.status.busy": "2022-06-22T12:18:13.741339Z",
     "iopub.status.idle": "2022-06-22T12:18:13.743901Z",
     "shell.execute_reply": "2022-06-22T12:18:13.743369Z"
    },
    "papermill": {
     "duration": 0.035906,
     "end_time": "2022-06-22T12:18:13.744026",
     "exception": false,
     "start_time": "2022-06-22T12:18:13.708120",
     "status": "completed"
    },
    "tags": []
   },
   "outputs": [],
   "source": [
    "#hide\n",
    "# g = g.rename(columns= {'continent':'group','country':'name','cases':'value'})"
   ]
  },
  {
   "cell_type": "code",
   "execution_count": 36,
   "id": "fleet-motorcycle",
   "metadata": {
    "execution": {
     "iopub.execute_input": "2022-06-22T12:18:13.809109Z",
     "iopub.status.busy": "2022-06-22T12:18:13.808451Z",
     "iopub.status.idle": "2022-06-22T12:18:13.810817Z",
     "shell.execute_reply": "2022-06-22T12:18:13.810257Z"
    },
    "papermill": {
     "duration": 0.035968,
     "end_time": "2022-06-22T12:18:13.810923",
     "exception": false,
     "start_time": "2022-06-22T12:18:13.774955",
     "status": "completed"
    },
    "tags": []
   },
   "outputs": [],
   "source": [
    "#hide\n",
    "# cols = ['name','group','day','value']"
   ]
  },
  {
   "cell_type": "code",
   "execution_count": 37,
   "id": "continued-sleeping",
   "metadata": {
    "execution": {
     "iopub.execute_input": "2022-06-22T12:18:13.875572Z",
     "iopub.status.busy": "2022-06-22T12:18:13.874874Z",
     "iopub.status.idle": "2022-06-22T12:18:13.877350Z",
     "shell.execute_reply": "2022-06-22T12:18:13.876706Z"
    },
    "papermill": {
     "duration": 0.036135,
     "end_time": "2022-06-22T12:18:13.877471",
     "exception": false,
     "start_time": "2022-06-22T12:18:13.841336",
     "status": "completed"
    },
    "tags": []
   },
   "outputs": [],
   "source": [
    "#hide\n",
    "# g.rename(columns= {'date':'day'},inplace = True)"
   ]
  },
  {
   "cell_type": "code",
   "execution_count": 38,
   "id": "major-fight",
   "metadata": {
    "execution": {
     "iopub.execute_input": "2022-06-22T12:18:13.941863Z",
     "iopub.status.busy": "2022-06-22T12:18:13.941288Z",
     "iopub.status.idle": "2022-06-22T12:18:13.943610Z",
     "shell.execute_reply": "2022-06-22T12:18:13.944078Z"
    },
    "papermill": {
     "duration": 0.035948,
     "end_time": "2022-06-22T12:18:13.944199",
     "exception": false,
     "start_time": "2022-06-22T12:18:13.908251",
     "status": "completed"
    },
    "tags": []
   },
   "outputs": [],
   "source": [
    "#hide\n",
    "# g = g[cols]"
   ]
  },
  {
   "cell_type": "code",
   "execution_count": 39,
   "id": "structured-mobile",
   "metadata": {
    "execution": {
     "iopub.execute_input": "2022-06-22T12:18:14.008040Z",
     "iopub.status.busy": "2022-06-22T12:18:14.007458Z",
     "iopub.status.idle": "2022-06-22T12:18:14.010501Z",
     "shell.execute_reply": "2022-06-22T12:18:14.010017Z"
    },
    "papermill": {
     "duration": 0.036456,
     "end_time": "2022-06-22T12:18:14.010613",
     "exception": false,
     "start_time": "2022-06-22T12:18:13.974157",
     "status": "completed"
    },
    "tags": []
   },
   "outputs": [],
   "source": [
    "# #hide\n",
    "# g = g[g.group.notna()]"
   ]
  },
  {
   "cell_type": "code",
   "execution_count": 40,
   "id": "determined-closing",
   "metadata": {
    "execution": {
     "iopub.execute_input": "2022-06-22T12:18:14.075910Z",
     "iopub.status.busy": "2022-06-22T12:18:14.075254Z",
     "iopub.status.idle": "2022-06-22T12:18:14.077618Z",
     "shell.execute_reply": "2022-06-22T12:18:14.077152Z"
    },
    "papermill": {
     "duration": 0.036802,
     "end_time": "2022-06-22T12:18:14.077727",
     "exception": false,
     "start_time": "2022-06-22T12:18:14.040925",
     "status": "completed"
    },
    "tags": []
   },
   "outputs": [],
   "source": [
    "# #hide\n",
    "# colors = dict(zip(\n",
    "#     [\"Oceania\", \"Europe\", \"Asia\", \"South America\", \"Middle East\", \"North America\", \"Africa\"],\n",
    "#     [\"#adb0ff\", \"#ffb3ff\", \"#90d595\", \"#e48381\", \"#aafbff\", \"#f7bb5f\", \"#eafb50\"]\n",
    "# ))\n",
    "# group_lk = g.set_index('name')['group'].to_dict()"
   ]
  },
  {
   "cell_type": "code",
   "execution_count": null,
   "id": "gross-drinking",
   "metadata": {
    "papermill": {
     "duration": 0.030086,
     "end_time": "2022-06-22T12:18:14.137926",
     "exception": false,
     "start_time": "2022-06-22T12:18:14.107840",
     "status": "completed"
    },
    "tags": []
   },
   "outputs": [],
   "source": []
  },
  {
   "cell_type": "code",
   "execution_count": 41,
   "id": "subject-macintosh",
   "metadata": {
    "execution": {
     "iopub.execute_input": "2022-06-22T12:18:14.203084Z",
     "iopub.status.busy": "2022-06-22T12:18:14.202454Z",
     "iopub.status.idle": "2022-06-22T12:18:14.204975Z",
     "shell.execute_reply": "2022-06-22T12:18:14.204403Z"
    },
    "papermill": {
     "duration": 0.036811,
     "end_time": "2022-06-22T12:18:14.205088",
     "exception": false,
     "start_time": "2022-06-22T12:18:14.168277",
     "status": "completed"
    },
    "tags": []
   },
   "outputs": [],
   "source": [
    "# #hide\n",
    "# fig, ax = plt.subplots(figsize=(15, 8))\n",
    "\n",
    "# def draw_barchart(current_day):\n",
    "#     dff = g[g['day'].eq(current_day)].sort_values(by='value', ascending=True).tail(10)\n",
    "#     ax.clear()\n",
    "#     ax.barh(dff['name'], dff['value'], color=[colors[group_lk[x]] for x in dff['name']])\n",
    "#     dx = dff['value'].max() / 200\n",
    "    \n",
    "#     for i, (value, name) in enumerate(zip(dff['value'], dff['name'])):\n",
    "#         ax.text(value-dx, i,     name,           size=14, weight=600, ha='right', va='bottom')\n",
    "#         ax.text(value-dx, i-.25, group_lk[name], size=10, color='#444444', ha='right', va='baseline')\n",
    "#         ax.text(value+dx, i,     f'{value:,.0f}',  size=14, ha='left',  va='center')\n",
    "#     ax.text(1, 0.4, current_day, transform=ax.transAxes, color='#777777', size=46, ha='right', weight=800)\n",
    "#     ax.text(0, 1.06, 'Population (thousands)', transform=ax.transAxes, size=12, color='#777777')\n",
    "#     ax.xaxis.set_major_formatter(ticker.StrMethodFormatter('{x:,.0f}'))\n",
    "#     ax.xaxis.set_ticks_position('top')\n",
    "#     ax.tick_params(axis='x', colors='#777777', labelsize=12)\n",
    "#     ax.set_yticks([])\n",
    "#     ax.margins(0, 0.01)\n",
    "#     ax.grid(which='major', axis='x', linestyle='-')\n",
    "#     ax.set_axisbelow(True)\n",
    "    \n",
    "#     ax.text(0, 1.15, 'Coronavirus',\n",
    "#             transform=ax.transAxes, size=24, weight=600, ha='left', va='top')\n",
    "# #     ax.text(1, 0, 'by @pratapvardhan; credit @jburnmurdoch', transform=ax.transAxes, color='#777777', ha='right',\n",
    "# #             bbox=dict(facecolor='white', alpha=0.8, edgecolor='white'))\n",
    "#     plt.box(False)"
   ]
  },
  {
   "cell_type": "code",
   "execution_count": 42,
   "id": "sexual-wages",
   "metadata": {
    "execution": {
     "iopub.execute_input": "2022-06-22T12:18:14.270169Z",
     "iopub.status.busy": "2022-06-22T12:18:14.269550Z",
     "iopub.status.idle": "2022-06-22T12:18:14.272066Z",
     "shell.execute_reply": "2022-06-22T12:18:14.271597Z"
    },
    "papermill": {
     "duration": 0.036914,
     "end_time": "2022-06-22T12:18:14.272179",
     "exception": false,
     "start_time": "2022-06-22T12:18:14.235265",
     "status": "completed"
    },
    "tags": []
   },
   "outputs": [],
   "source": [
    "# #hide_input\n",
    "# fig, ax = plt.subplots(figsize=(15, 8))\n",
    "# animator = animation.FuncAnimation(fig, draw_barchart, frames=range(g.day.values.min(), g.day.values.max()))\n",
    "# HTML(animator.to_jshtml())\n",
    "# # or use animator.to_html5_video() or animator.save() "
   ]
  },
  {
   "cell_type": "code",
   "execution_count": null,
   "id": "australian-container",
   "metadata": {
    "papermill": {
     "duration": 0.030723,
     "end_time": "2022-06-22T12:18:14.333198",
     "exception": false,
     "start_time": "2022-06-22T12:18:14.302475",
     "status": "completed"
    },
    "tags": []
   },
   "outputs": [],
   "source": []
  },
  {
   "cell_type": "code",
   "execution_count": null,
   "id": "mediterranean-pontiac",
   "metadata": {
    "papermill": {
     "duration": 0.030149,
     "end_time": "2022-06-22T12:18:14.393634",
     "exception": false,
     "start_time": "2022-06-22T12:18:14.363485",
     "status": "completed"
    },
    "tags": []
   },
   "outputs": [],
   "source": []
  },
  {
   "cell_type": "code",
   "execution_count": null,
   "id": "aging-legislature",
   "metadata": {
    "papermill": {
     "duration": 0.030503,
     "end_time": "2022-06-22T12:18:14.454697",
     "exception": false,
     "start_time": "2022-06-22T12:18:14.424194",
     "status": "completed"
    },
    "tags": []
   },
   "outputs": [],
   "source": []
  }
 ],
 "metadata": {
  "kernelspec": {
   "display_name": "Python 3",
   "language": "python",
   "name": "python3"
  },
  "language_info": {
   "codemirror_mode": {
    "name": "ipython",
    "version": 3
   },
   "file_extension": ".py",
   "mimetype": "text/x-python",
   "name": "python",
   "nbconvert_exporter": "python",
   "pygments_lexer": "ipython3",
   "version": "3.6.15"
  },
  "papermill": {
   "duration": 5.944733,
   "end_time": "2022-06-22T12:18:14.904361",
   "environment_variables": {},
   "exception": null,
   "input_path": "2020-03-21-covid19exp.ipynb",
   "output_path": "2020-03-21-covid19exp.ipynb",
   "parameters": {},
   "start_time": "2022-06-22T12:18:08.959628",
   "version": "2.0.0"
  }
 },
 "nbformat": 4,
 "nbformat_minor": 5
}