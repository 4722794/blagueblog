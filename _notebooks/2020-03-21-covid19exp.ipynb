{
 "cells": [
  {
   "cell_type": "markdown",
   "id": "muslim-click",
   "metadata": {
    "papermill": {
     "duration": 0.034206,
     "end_time": "2022-05-28T00:42:06.358654",
     "exception": false,
     "start_time": "2022-05-28T00:42:06.324448",
     "status": "completed"
    },
    "tags": []
   },
   "source": [
    "# COVID-19 Case Race\n",
    "> A race chart to see rising cases around the world\n",
    "\n",
    "- author: Hargun Oberoi\n",
    "- image: images/covid-overview.png\n",
    "- hide: false\n",
    "- badges: false"
   ]
  },
  {
   "cell_type": "code",
   "execution_count": 1,
   "id": "proof-material",
   "metadata": {
    "execution": {
     "iopub.execute_input": "2022-05-28T00:42:06.431045Z",
     "iopub.status.busy": "2022-05-28T00:42:06.430478Z",
     "iopub.status.idle": "2022-05-28T00:42:06.740006Z",
     "shell.execute_reply": "2022-05-28T00:42:06.739215Z"
    },
    "papermill": {
     "duration": 0.349227,
     "end_time": "2022-05-28T00:42:06.740130",
     "exception": false,
     "start_time": "2022-05-28T00:42:06.390903",
     "status": "completed"
    },
    "tags": []
   },
   "outputs": [],
   "source": [
    "#hide\n",
    "import numpy as np\n",
    "import pandas as pd\n",
    "from jinja2 import Template\n",
    "from IPython.display import HTML"
   ]
  },
  {
   "cell_type": "code",
   "execution_count": 2,
   "id": "developed-terminology",
   "metadata": {
    "execution": {
     "iopub.execute_input": "2022-05-28T00:42:06.805394Z",
     "iopub.status.busy": "2022-05-28T00:42:06.804795Z",
     "iopub.status.idle": "2022-05-28T00:42:06.807385Z",
     "shell.execute_reply": "2022-05-28T00:42:06.806842Z"
    },
    "papermill": {
     "duration": 0.036789,
     "end_time": "2022-05-28T00:42:06.807484",
     "exception": false,
     "start_time": "2022-05-28T00:42:06.770695",
     "status": "completed"
    },
    "tags": []
   },
   "outputs": [],
   "source": [
    "#hide\n",
    "\n",
    "# FETCH\n",
    "base_url = 'https://raw.githubusercontent.com/pratapvardhan/notebooks/master/covid19/'\n",
    "paths = {\n",
    "    'mapping': base_url + 'mapping_countries.csv',\n",
    "    'overview': base_url + 'overview.tpl'\n",
    "}"
   ]
  },
  {
   "cell_type": "code",
   "execution_count": 3,
   "id": "dynamic-saver",
   "metadata": {
    "execution": {
     "iopub.execute_input": "2022-05-28T00:42:06.876873Z",
     "iopub.status.busy": "2022-05-28T00:42:06.876325Z",
     "iopub.status.idle": "2022-05-28T00:42:06.878830Z",
     "shell.execute_reply": "2022-05-28T00:42:06.879272Z"
    },
    "papermill": {
     "duration": 0.041537,
     "end_time": "2022-05-28T00:42:06.879379",
     "exception": false,
     "start_time": "2022-05-28T00:42:06.837842",
     "status": "completed"
    },
    "tags": []
   },
   "outputs": [
    {
     "data": {
      "text/plain": [
       "'https://raw.githubusercontent.com/pratapvardhan/notebooks/master/covid19/mapping_countries.csv'"
      ]
     },
     "execution_count": 3,
     "metadata": {},
     "output_type": "execute_result"
    }
   ],
   "source": [
    "#hide\n",
    "paths['mapping']"
   ]
  },
  {
   "cell_type": "code",
   "execution_count": 4,
   "id": "urban-software",
   "metadata": {
    "execution": {
     "iopub.execute_input": "2022-05-28T00:42:06.944867Z",
     "iopub.status.busy": "2022-05-28T00:42:06.944297Z",
     "iopub.status.idle": "2022-05-28T00:42:06.946766Z",
     "shell.execute_reply": "2022-05-28T00:42:06.946240Z"
    },
    "papermill": {
     "duration": 0.036926,
     "end_time": "2022-05-28T00:42:06.946861",
     "exception": false,
     "start_time": "2022-05-28T00:42:06.909935",
     "status": "completed"
    },
    "tags": []
   },
   "outputs": [],
   "source": [
    "#hide\n",
    "def get_mappings(url):\n",
    "    df = pd.read_csv(url)\n",
    "    return {\n",
    "        'df': df,\n",
    "        'replace.country': dict(df.dropna(subset=['Name']).set_index('Country')['Name']),\n",
    "        'map.continent': dict(df.set_index('Name')['Continent'])\n",
    "    }"
   ]
  },
  {
   "cell_type": "code",
   "execution_count": 5,
   "id": "intimate-machinery",
   "metadata": {
    "execution": {
     "iopub.execute_input": "2022-05-28T00:42:07.012840Z",
     "iopub.status.busy": "2022-05-28T00:42:07.012284Z",
     "iopub.status.idle": "2022-05-28T00:42:07.076743Z",
     "shell.execute_reply": "2022-05-28T00:42:07.076267Z"
    },
    "papermill": {
     "duration": 0.099564,
     "end_time": "2022-05-28T00:42:07.076857",
     "exception": false,
     "start_time": "2022-05-28T00:42:06.977293",
     "status": "completed"
    },
    "tags": []
   },
   "outputs": [],
   "source": [
    "#hide\n",
    "mapping = get_mappings(paths['mapping'])"
   ]
  },
  {
   "cell_type": "code",
   "execution_count": 6,
   "id": "certified-tactics",
   "metadata": {
    "execution": {
     "iopub.execute_input": "2022-05-28T00:42:07.143475Z",
     "iopub.status.busy": "2022-05-28T00:42:07.142907Z",
     "iopub.status.idle": "2022-05-28T00:42:07.145131Z",
     "shell.execute_reply": "2022-05-28T00:42:07.145595Z"
    },
    "papermill": {
     "duration": 0.037993,
     "end_time": "2022-05-28T00:42:07.145713",
     "exception": false,
     "start_time": "2022-05-28T00:42:07.107720",
     "status": "completed"
    },
    "tags": []
   },
   "outputs": [],
   "source": [
    "#hide\n",
    "def get_template(path):\n",
    "    from urllib.parse import urlparse\n",
    "    if bool(urlparse(path).netloc):\n",
    "        from urllib.request import urlopen\n",
    "        return urlopen(path).read().decode('utf8')\n",
    "    return open(path).read()"
   ]
  },
  {
   "cell_type": "code",
   "execution_count": 7,
   "id": "realistic-blast",
   "metadata": {
    "execution": {
     "iopub.execute_input": "2022-05-28T00:42:07.212334Z",
     "iopub.status.busy": "2022-05-28T00:42:07.211744Z",
     "iopub.status.idle": "2022-05-28T00:42:07.214336Z",
     "shell.execute_reply": "2022-05-28T00:42:07.213883Z"
    },
    "papermill": {
     "duration": 0.037857,
     "end_time": "2022-05-28T00:42:07.214441",
     "exception": false,
     "start_time": "2022-05-28T00:42:07.176584",
     "status": "completed"
    },
    "tags": []
   },
   "outputs": [],
   "source": [
    "#hide\n",
    "def get_frame(name):\n",
    "    url = (\n",
    "        'https://raw.githubusercontent.com/CSSEGISandData/COVID-19/master/csse_covid_19_data/'\n",
    "        f'csse_covid_19_time_series/time_series_covid19_{name}_global.csv')\n",
    "    df = pd.read_csv(url)\n",
    "    # rename countries\n",
    "    df['Country/Region'] = df['Country/Region'].replace(mapping['replace.country'])\n",
    "    return df"
   ]
  },
  {
   "cell_type": "code",
   "execution_count": 8,
   "id": "affiliated-characterization",
   "metadata": {
    "execution": {
     "iopub.execute_input": "2022-05-28T00:42:07.282268Z",
     "iopub.status.busy": "2022-05-28T00:42:07.281688Z",
     "iopub.status.idle": "2022-05-28T00:42:07.283949Z",
     "shell.execute_reply": "2022-05-28T00:42:07.283495Z"
    },
    "papermill": {
     "duration": 0.038724,
     "end_time": "2022-05-28T00:42:07.284055",
     "exception": false,
     "start_time": "2022-05-28T00:42:07.245331",
     "status": "completed"
    },
    "tags": []
   },
   "outputs": [],
   "source": [
    "#hide\n",
    "def get_dates(df):\n",
    "    dt_cols = df.columns[~df.columns.isin(['Province/State', 'Country/Region', 'Lat', 'Long'])]\n",
    "    LAST_DATE_I = -1\n",
    "    # sometimes last column may be empty, then go backwards\n",
    "    for i in range(-1, -len(dt_cols), -1):\n",
    "        if not df[dt_cols[i]].fillna(0).eq(0).all():\n",
    "            LAST_DATE_I = i\n",
    "            break\n",
    "    return LAST_DATE_I, dt_cols"
   ]
  },
  {
   "cell_type": "code",
   "execution_count": 9,
   "id": "recent-optimization",
   "metadata": {
    "execution": {
     "iopub.execute_input": "2022-05-28T00:42:07.350232Z",
     "iopub.status.busy": "2022-05-28T00:42:07.349641Z",
     "iopub.status.idle": "2022-05-28T00:42:08.141540Z",
     "shell.execute_reply": "2022-05-28T00:42:08.140986Z"
    },
    "papermill": {
     "duration": 0.826603,
     "end_time": "2022-05-28T00:42:08.141655",
     "exception": false,
     "start_time": "2022-05-28T00:42:07.315052",
     "status": "completed"
    },
    "tags": []
   },
   "outputs": [],
   "source": [
    "#hide\n",
    "COL_REGION = 'Country/Region'\n",
    "# Confirmed, Recovered, Deaths\n",
    "df = get_frame('confirmed')\n",
    "# dft_: timeseries, dfc_: today country agg\n",
    "dft_cases = df\n",
    "dft_deaths = get_frame('deaths')\n",
    "dft_recovered = get_frame('recovered')\n",
    "LAST_DATE_I, dt_cols = get_dates(df)"
   ]
  },
  {
   "cell_type": "code",
   "execution_count": 10,
   "id": "absolute-copper",
   "metadata": {
    "execution": {
     "iopub.execute_input": "2022-05-28T00:42:08.210337Z",
     "iopub.status.busy": "2022-05-28T00:42:08.209067Z",
     "iopub.status.idle": "2022-05-28T00:42:08.211003Z",
     "shell.execute_reply": "2022-05-28T00:42:08.211430Z"
    },
    "papermill": {
     "duration": 0.038661,
     "end_time": "2022-05-28T00:42:08.211552",
     "exception": false,
     "start_time": "2022-05-28T00:42:08.172891",
     "status": "completed"
    },
    "tags": []
   },
   "outputs": [],
   "source": [
    "#hide\n",
    "LAST_DATE_I, dt_cols = get_dates(df)\n",
    "dt_today =dt_cols[LAST_DATE_I]\n",
    "# dt_5day = dt_cols[LAST_DATE_I - 5]\n",
    "dt_yday = dt_cols[LAST_DATE_I - 1]"
   ]
  },
  {
   "cell_type": "code",
   "execution_count": 11,
   "id": "restricted-sheriff",
   "metadata": {
    "execution": {
     "iopub.execute_input": "2022-05-28T00:42:08.278717Z",
     "iopub.status.busy": "2022-05-28T00:42:08.278148Z",
     "iopub.status.idle": "2022-05-28T00:42:08.284849Z",
     "shell.execute_reply": "2022-05-28T00:42:08.285322Z"
    },
    "papermill": {
     "duration": 0.043263,
     "end_time": "2022-05-28T00:42:08.285444",
     "exception": false,
     "start_time": "2022-05-28T00:42:08.242181",
     "status": "completed"
    },
    "tags": []
   },
   "outputs": [],
   "source": [
    "#hide\n",
    "dfc_cases = dft_cases.groupby(COL_REGION)[dt_today].sum()\n",
    "dfc_deaths = dft_deaths.groupby(COL_REGION)[dt_today].sum()\n",
    "# dfp_cases = dft_cases.groupby(COL_REGION)[dt_5day].sum()\n",
    "# dfp_deaths = dft_deaths.groupby(COL_REGION)[dt_5day].sum()\n",
    "dfp_cases = dft_cases.groupby(COL_REGION)[dt_yday].sum()\n",
    "dfp_deaths = dft_deaths.groupby(COL_REGION)[dt_yday].sum()"
   ]
  },
  {
   "cell_type": "code",
   "execution_count": 12,
   "id": "deluxe-hepatitis",
   "metadata": {
    "execution": {
     "iopub.execute_input": "2022-05-28T00:42:08.352990Z",
     "iopub.status.busy": "2022-05-28T00:42:08.352408Z",
     "iopub.status.idle": "2022-05-28T00:42:08.357221Z",
     "shell.execute_reply": "2022-05-28T00:42:08.356736Z"
    },
    "papermill": {
     "duration": 0.041007,
     "end_time": "2022-05-28T00:42:08.357330",
     "exception": false,
     "start_time": "2022-05-28T00:42:08.316323",
     "status": "completed"
    },
    "tags": []
   },
   "outputs": [],
   "source": [
    "#hide\n",
    "df_table = (pd.DataFrame(dict(Cases = dfc_cases, Deaths = dfc_deaths, PCases = dfp_cases, PDeaths = dfp_deaths))\n",
    "            .sort_values(by = ['Cases','Deaths'], ascending = [False, False])\n",
    "            .reset_index())"
   ]
  },
  {
   "cell_type": "code",
   "execution_count": 13,
   "id": "educational-chancellor",
   "metadata": {
    "execution": {
     "iopub.execute_input": "2022-05-28T00:42:08.431601Z",
     "iopub.status.busy": "2022-05-28T00:42:08.431024Z",
     "iopub.status.idle": "2022-05-28T00:42:08.442886Z",
     "shell.execute_reply": "2022-05-28T00:42:08.443311Z"
    },
    "papermill": {
     "duration": 0.055364,
     "end_time": "2022-05-28T00:42:08.443440",
     "exception": false,
     "start_time": "2022-05-28T00:42:08.388076",
     "status": "completed"
    },
    "tags": []
   },
   "outputs": [
    {
     "data": {
      "text/html": [
       "<div>\n",
       "<style scoped>\n",
       "    .dataframe tbody tr th:only-of-type {\n",
       "        vertical-align: middle;\n",
       "    }\n",
       "\n",
       "    .dataframe tbody tr th {\n",
       "        vertical-align: top;\n",
       "    }\n",
       "\n",
       "    .dataframe thead th {\n",
       "        text-align: right;\n",
       "    }\n",
       "</style>\n",
       "<table border=\"1\" class=\"dataframe\">\n",
       "  <thead>\n",
       "    <tr style=\"text-align: right;\">\n",
       "      <th></th>\n",
       "      <th>Country/Region</th>\n",
       "      <th>Cases</th>\n",
       "      <th>Deaths</th>\n",
       "      <th>PCases</th>\n",
       "      <th>PDeaths</th>\n",
       "      <th>Cases (+)</th>\n",
       "      <th>Deaths (+)</th>\n",
       "      <th>Fatality Rate</th>\n",
       "      <th>Continent</th>\n",
       "    </tr>\n",
       "  </thead>\n",
       "  <tbody>\n",
       "    <tr>\n",
       "      <th>0</th>\n",
       "      <td>US</td>\n",
       "      <td>83837114</td>\n",
       "      <td>1004121</td>\n",
       "      <td>83718160</td>\n",
       "      <td>1003783</td>\n",
       "      <td>118954</td>\n",
       "      <td>338</td>\n",
       "      <td>1.20</td>\n",
       "      <td>North America</td>\n",
       "    </tr>\n",
       "    <tr>\n",
       "      <th>1</th>\n",
       "      <td>India</td>\n",
       "      <td>43147530</td>\n",
       "      <td>524539</td>\n",
       "      <td>43144820</td>\n",
       "      <td>524525</td>\n",
       "      <td>2710</td>\n",
       "      <td>14</td>\n",
       "      <td>1.22</td>\n",
       "      <td>Asia</td>\n",
       "    </tr>\n",
       "    <tr>\n",
       "      <th>2</th>\n",
       "      <td>Brazil</td>\n",
       "      <td>30880512</td>\n",
       "      <td>666180</td>\n",
       "      <td>30851191</td>\n",
       "      <td>666261</td>\n",
       "      <td>29321</td>\n",
       "      <td>0</td>\n",
       "      <td>2.16</td>\n",
       "      <td>South America</td>\n",
       "    </tr>\n",
       "    <tr>\n",
       "      <th>3</th>\n",
       "      <td>France</td>\n",
       "      <td>29626992</td>\n",
       "      <td>149123</td>\n",
       "      <td>29605758</td>\n",
       "      <td>149095</td>\n",
       "      <td>21234</td>\n",
       "      <td>28</td>\n",
       "      <td>0.50</td>\n",
       "      <td>Europe</td>\n",
       "    </tr>\n",
       "    <tr>\n",
       "      <th>4</th>\n",
       "      <td>Germany</td>\n",
       "      <td>26200663</td>\n",
       "      <td>138781</td>\n",
       "      <td>26198811</td>\n",
       "      <td>138779</td>\n",
       "      <td>1852</td>\n",
       "      <td>2</td>\n",
       "      <td>0.53</td>\n",
       "      <td>Europe</td>\n",
       "    </tr>\n",
       "  </tbody>\n",
       "</table>\n",
       "</div>"
      ],
      "text/plain": [
       "  Country/Region     Cases   Deaths    PCases  PDeaths  Cases (+)  Deaths (+)  \\\n",
       "0             US  83837114  1004121  83718160  1003783     118954         338   \n",
       "1          India  43147530   524539  43144820   524525       2710          14   \n",
       "2         Brazil  30880512   666180  30851191   666261      29321           0   \n",
       "3         France  29626992   149123  29605758   149095      21234          28   \n",
       "4        Germany  26200663   138781  26198811   138779       1852           2   \n",
       "\n",
       "   Fatality Rate      Continent  \n",
       "0           1.20  North America  \n",
       "1           1.22           Asia  \n",
       "2           2.16  South America  \n",
       "3           0.50         Europe  \n",
       "4           0.53         Europe  "
      ]
     },
     "execution_count": 13,
     "metadata": {},
     "output_type": "execute_result"
    }
   ],
   "source": [
    "#hide\n",
    "for c in 'Cases, Deaths'.split(', '):\n",
    "    df_table[f'{c} (+)'] = (df_table[c] - df_table[f'P{c}']).clip(0)\n",
    "    #Clip ça veut dire, les chiffres negatif sont interdit\n",
    "df_table['Fatality Rate'] = (100* df_table['Deaths']/ df_table['Cases']).round(2)\n",
    "df_table['Continent'] = df_table['Country/Region'].map(mapping['map.continent'])\n",
    "df_table.head(5)"
   ]
  },
  {
   "cell_type": "code",
   "execution_count": 14,
   "id": "aboriginal-bulgaria",
   "metadata": {
    "execution": {
     "iopub.execute_input": "2022-05-28T00:42:08.512127Z",
     "iopub.status.busy": "2022-05-28T00:42:08.511572Z",
     "iopub.status.idle": "2022-05-28T00:42:08.513799Z",
     "shell.execute_reply": "2022-05-28T00:42:08.514251Z"
    },
    "papermill": {
     "duration": 0.038935,
     "end_time": "2022-05-28T00:42:08.514367",
     "exception": false,
     "start_time": "2022-05-28T00:42:08.475432",
     "status": "completed"
    },
    "tags": []
   },
   "outputs": [],
   "source": [
    "#hide\n",
    "#delete problematic countries from table\n",
    "df_table = df_table[~df_table['Country/Region'].isin(['Cape Verde', 'Cruise Ship', 'Kosovo'])]"
   ]
  },
  {
   "cell_type": "code",
   "execution_count": 15,
   "id": "fantastic-effect",
   "metadata": {
    "execution": {
     "iopub.execute_input": "2022-05-28T00:42:08.584053Z",
     "iopub.status.busy": "2022-05-28T00:42:08.583491Z",
     "iopub.status.idle": "2022-05-28T00:42:08.602421Z",
     "shell.execute_reply": "2022-05-28T00:42:08.601481Z"
    },
    "papermill": {
     "duration": 0.057075,
     "end_time": "2022-05-28T00:42:08.602534",
     "exception": false,
     "start_time": "2022-05-28T00:42:08.545459",
     "status": "completed"
    },
    "tags": []
   },
   "outputs": [
    {
     "data": {
      "text/html": [
       "<div>\n",
       "<style scoped>\n",
       "    .dataframe tbody tr th:only-of-type {\n",
       "        vertical-align: middle;\n",
       "    }\n",
       "\n",
       "    .dataframe tbody tr th {\n",
       "        vertical-align: top;\n",
       "    }\n",
       "\n",
       "    .dataframe thead th {\n",
       "        text-align: right;\n",
       "    }\n",
       "</style>\n",
       "<table border=\"1\" class=\"dataframe\">\n",
       "  <thead>\n",
       "    <tr style=\"text-align: right;\">\n",
       "      <th></th>\n",
       "      <th>Country/Region</th>\n",
       "      <th>Cases</th>\n",
       "      <th>Deaths</th>\n",
       "      <th>PCases</th>\n",
       "      <th>PDeaths</th>\n",
       "      <th>Cases (+)</th>\n",
       "      <th>Deaths (+)</th>\n",
       "      <th>Fatality Rate</th>\n",
       "      <th>Continent</th>\n",
       "    </tr>\n",
       "  </thead>\n",
       "  <tbody>\n",
       "    <tr>\n",
       "      <th>0</th>\n",
       "      <td>US</td>\n",
       "      <td>83837114</td>\n",
       "      <td>1004121</td>\n",
       "      <td>83718160</td>\n",
       "      <td>1003783</td>\n",
       "      <td>118954</td>\n",
       "      <td>338</td>\n",
       "      <td>1.2</td>\n",
       "      <td>North America</td>\n",
       "    </tr>\n",
       "    <tr>\n",
       "      <th>1</th>\n",
       "      <td>India</td>\n",
       "      <td>43147530</td>\n",
       "      <td>524539</td>\n",
       "      <td>43144820</td>\n",
       "      <td>524525</td>\n",
       "      <td>2710</td>\n",
       "      <td>14</td>\n",
       "      <td>1.2</td>\n",
       "      <td>Asia</td>\n",
       "    </tr>\n",
       "    <tr>\n",
       "      <th>2</th>\n",
       "      <td>Brazil</td>\n",
       "      <td>30880512</td>\n",
       "      <td>666180</td>\n",
       "      <td>30851191</td>\n",
       "      <td>666261</td>\n",
       "      <td>29321</td>\n",
       "      <td>0</td>\n",
       "      <td>2.2</td>\n",
       "      <td>South America</td>\n",
       "    </tr>\n",
       "    <tr>\n",
       "      <th>3</th>\n",
       "      <td>France</td>\n",
       "      <td>29626992</td>\n",
       "      <td>149123</td>\n",
       "      <td>29605758</td>\n",
       "      <td>149095</td>\n",
       "      <td>21234</td>\n",
       "      <td>28</td>\n",
       "      <td>0.5</td>\n",
       "      <td>Europe</td>\n",
       "    </tr>\n",
       "    <tr>\n",
       "      <th>4</th>\n",
       "      <td>Germany</td>\n",
       "      <td>26200663</td>\n",
       "      <td>138781</td>\n",
       "      <td>26198811</td>\n",
       "      <td>138779</td>\n",
       "      <td>1852</td>\n",
       "      <td>2</td>\n",
       "      <td>0.5</td>\n",
       "      <td>Europe</td>\n",
       "    </tr>\n",
       "  </tbody>\n",
       "</table>\n",
       "</div>"
      ],
      "text/plain": [
       "  Country/Region     Cases   Deaths    PCases  PDeaths  Cases (+)  Deaths (+)  \\\n",
       "0             US  83837114  1004121  83718160  1003783     118954         338   \n",
       "1          India  43147530   524539  43144820   524525       2710          14   \n",
       "2         Brazil  30880512   666180  30851191   666261      29321           0   \n",
       "3         France  29626992   149123  29605758   149095      21234          28   \n",
       "4        Germany  26200663   138781  26198811   138779       1852           2   \n",
       "\n",
       "   Fatality Rate      Continent  \n",
       "0            1.2  North America  \n",
       "1            1.2           Asia  \n",
       "2            2.2  South America  \n",
       "3            0.5         Europe  \n",
       "4            0.5         Europe  "
      ]
     },
     "execution_count": 15,
     "metadata": {},
     "output_type": "execute_result"
    }
   ],
   "source": [
    "#hide\n",
    "df_table = (pd.DataFrame(dict(Cases=dfc_cases, Deaths=dfc_deaths, PCases=dfp_cases, PDeaths=dfp_deaths))\n",
    "             .sort_values(by=['Cases', 'Deaths'], ascending=[False, False])\n",
    "             .reset_index())\n",
    "df_table.rename(columns={'index': 'Country/Region'}, inplace=True)\n",
    "for c in 'Cases, Deaths'.split(', '):\n",
    "    df_table[f'{c} (+)'] = (df_table[c] - df_table[f'P{c}']).clip(0)  # DATA BUG\n",
    "df_table['Fatality Rate'] = (100 * df_table['Deaths'] / df_table['Cases']).round(1)\n",
    "df_table['Continent'] = df_table['Country/Region'].map(mapping['map.continent'])\n",
    "df_table.head(5)"
   ]
  },
  {
   "cell_type": "code",
   "execution_count": 16,
   "id": "fewer-occasion",
   "metadata": {
    "execution": {
     "iopub.execute_input": "2022-05-28T00:42:08.671754Z",
     "iopub.status.busy": "2022-05-28T00:42:08.671202Z",
     "iopub.status.idle": "2022-05-28T00:42:08.673331Z",
     "shell.execute_reply": "2022-05-28T00:42:08.673747Z"
    },
    "papermill": {
     "duration": 0.039387,
     "end_time": "2022-05-28T00:42:08.673868",
     "exception": false,
     "start_time": "2022-05-28T00:42:08.634481",
     "status": "completed"
    },
    "tags": []
   },
   "outputs": [],
   "source": [
    "#hide\n",
    "#delete problematic countries from table\n",
    "df_table = df_table[~df_table['Country/Region'].isin(['Cape Verde', 'Cruise Ship', 'Kosovo'])]"
   ]
  },
  {
   "cell_type": "code",
   "execution_count": 17,
   "id": "related-center",
   "metadata": {
    "execution": {
     "iopub.execute_input": "2022-05-28T00:42:08.754482Z",
     "iopub.status.busy": "2022-05-28T00:42:08.753910Z",
     "iopub.status.idle": "2022-05-28T00:42:08.756097Z",
     "shell.execute_reply": "2022-05-28T00:42:08.755647Z"
    },
    "papermill": {
     "duration": 0.050692,
     "end_time": "2022-05-28T00:42:08.756200",
     "exception": false,
     "start_time": "2022-05-28T00:42:08.705508",
     "status": "completed"
    },
    "tags": []
   },
   "outputs": [],
   "source": [
    "#hide\n",
    "metrics = [df_table.columns[index] for index in [1,2,5,6]]\n",
    "# s_china = df_table[df_table['Country/Region'].eq('China')][metrics].sum().add_prefix('China ')\n",
    "s_us = df_table[df_table['Country/Region'].eq('US')][metrics].sum().add_prefix('US ')\n",
    "s_eu = df_table[df_table['Continent'].eq('Europe')][metrics].sum().add_prefix('EU ')\n",
    "s_ind = df_table[df_table['Country/Region'].eq('India')][metrics].sum().add_prefix('India ')\n",
    "summary = {'updated': pd.to_datetime(dt_today), 'since': pd.to_datetime(dt_yday)}\n",
    "summary = {'updated': pd.to_datetime(dt_today), 'since': pd.to_datetime(dt_yday)}\n",
    "summary = {**summary, **df_table[metrics].sum(), **s_ind, **s_us, **s_eu}"
   ]
  },
  {
   "cell_type": "code",
   "execution_count": 18,
   "id": "engaging-syndrome",
   "metadata": {
    "execution": {
     "iopub.execute_input": "2022-05-28T00:42:08.826337Z",
     "iopub.status.busy": "2022-05-28T00:42:08.823682Z",
     "iopub.status.idle": "2022-05-28T00:42:08.840560Z",
     "shell.execute_reply": "2022-05-28T00:42:08.840995Z"
    },
    "papermill": {
     "duration": 0.053261,
     "end_time": "2022-05-28T00:42:08.841130",
     "exception": false,
     "start_time": "2022-05-28T00:42:08.787869",
     "status": "completed"
    },
    "tags": []
   },
   "outputs": [],
   "source": [
    "#hide\n",
    "dft_ct_new_cases = dft_cases.groupby(COL_REGION)[dt_cols].sum().diff(axis=1).fillna(0).astype(int)"
   ]
  },
  {
   "cell_type": "code",
   "execution_count": 19,
   "id": "neutral-assignment",
   "metadata": {
    "execution": {
     "iopub.execute_input": "2022-05-28T00:42:08.908985Z",
     "iopub.status.busy": "2022-05-28T00:42:08.907217Z",
     "iopub.status.idle": "2022-05-28T00:42:08.911275Z",
     "shell.execute_reply": "2022-05-28T00:42:08.911685Z"
    },
    "papermill": {
     "duration": 0.039101,
     "end_time": "2022-05-28T00:42:08.911802",
     "exception": false,
     "start_time": "2022-05-28T00:42:08.872701",
     "status": "completed"
    },
    "tags": []
   },
   "outputs": [],
   "source": [
    "#hide\n",
    "everydaycases = dft_ct_new_cases.cumsum(axis=1)"
   ]
  },
  {
   "cell_type": "code",
   "execution_count": 20,
   "id": "parliamentary-calgary",
   "metadata": {
    "execution": {
     "iopub.execute_input": "2022-05-28T00:42:08.978783Z",
     "iopub.status.busy": "2022-05-28T00:42:08.978224Z",
     "iopub.status.idle": "2022-05-28T00:42:09.553127Z",
     "shell.execute_reply": "2022-05-28T00:42:09.552157Z"
    },
    "papermill": {
     "duration": 0.609841,
     "end_time": "2022-05-28T00:42:09.553257",
     "exception": false,
     "start_time": "2022-05-28T00:42:08.943416",
     "status": "completed"
    },
    "tags": []
   },
   "outputs": [],
   "source": [
    "#hide\n",
    "import pandas as pd\n",
    "import matplotlib.pyplot as plt\n",
    "import matplotlib.ticker as ticker\n",
    "import matplotlib.animation as animation\n",
    "from IPython.display import HTML"
   ]
  },
  {
   "cell_type": "code",
   "execution_count": 21,
   "id": "lasting-extraction",
   "metadata": {
    "execution": {
     "iopub.execute_input": "2022-05-28T00:42:09.622067Z",
     "iopub.status.busy": "2022-05-28T00:42:09.621500Z",
     "iopub.status.idle": "2022-05-28T00:42:09.627670Z",
     "shell.execute_reply": "2022-05-28T00:42:09.627119Z"
    },
    "papermill": {
     "duration": 0.042814,
     "end_time": "2022-05-28T00:42:09.627769",
     "exception": false,
     "start_time": "2022-05-28T00:42:09.584955",
     "status": "completed"
    },
    "tags": []
   },
   "outputs": [],
   "source": [
    "#hide\n",
    "t = everydaycases.stack()"
   ]
  },
  {
   "cell_type": "code",
   "execution_count": 22,
   "id": "premier-sleeve",
   "metadata": {
    "execution": {
     "iopub.execute_input": "2022-05-28T00:42:09.694795Z",
     "iopub.status.busy": "2022-05-28T00:42:09.694254Z",
     "iopub.status.idle": "2022-05-28T00:42:09.704106Z",
     "shell.execute_reply": "2022-05-28T00:42:09.704612Z"
    },
    "papermill": {
     "duration": 0.045154,
     "end_time": "2022-05-28T00:42:09.704725",
     "exception": false,
     "start_time": "2022-05-28T00:42:09.659571",
     "status": "completed"
    },
    "tags": []
   },
   "outputs": [],
   "source": [
    "#hide\n",
    "g = t.reset_index(['Country/Region'])"
   ]
  },
  {
   "cell_type": "code",
   "execution_count": 23,
   "id": "distributed-pittsburgh",
   "metadata": {
    "execution": {
     "iopub.execute_input": "2022-05-28T00:42:09.771665Z",
     "iopub.status.busy": "2022-05-28T00:42:09.771094Z",
     "iopub.status.idle": "2022-05-28T00:42:09.773159Z",
     "shell.execute_reply": "2022-05-28T00:42:09.773601Z"
    },
    "papermill": {
     "duration": 0.037596,
     "end_time": "2022-05-28T00:42:09.773716",
     "exception": false,
     "start_time": "2022-05-28T00:42:09.736120",
     "status": "completed"
    },
    "tags": []
   },
   "outputs": [],
   "source": [
    "#hide\n",
    "g.index.name = 'date'"
   ]
  },
  {
   "cell_type": "code",
   "execution_count": 24,
   "id": "naked-donor",
   "metadata": {
    "execution": {
     "iopub.execute_input": "2022-05-28T00:42:09.840218Z",
     "iopub.status.busy": "2022-05-28T00:42:09.839654Z",
     "iopub.status.idle": "2022-05-28T00:42:09.842429Z",
     "shell.execute_reply": "2022-05-28T00:42:09.841978Z"
    },
    "papermill": {
     "duration": 0.037065,
     "end_time": "2022-05-28T00:42:09.842528",
     "exception": false,
     "start_time": "2022-05-28T00:42:09.805463",
     "status": "completed"
    },
    "tags": []
   },
   "outputs": [],
   "source": [
    "# #hide\n",
    "# g = g.reset_index(['date'])"
   ]
  },
  {
   "cell_type": "code",
   "execution_count": 25,
   "id": "incomplete-mustang",
   "metadata": {
    "execution": {
     "iopub.execute_input": "2022-05-28T00:42:09.908696Z",
     "iopub.status.busy": "2022-05-28T00:42:09.908141Z",
     "iopub.status.idle": "2022-05-28T00:42:09.910498Z",
     "shell.execute_reply": "2022-05-28T00:42:09.910079Z"
    },
    "papermill": {
     "duration": 0.036581,
     "end_time": "2022-05-28T00:42:09.910598",
     "exception": false,
     "start_time": "2022-05-28T00:42:09.874017",
     "status": "completed"
    },
    "tags": []
   },
   "outputs": [],
   "source": [
    "#hide\n",
    "# g.head()"
   ]
  },
  {
   "cell_type": "code",
   "execution_count": 26,
   "id": "specific-kruger",
   "metadata": {
    "execution": {
     "iopub.execute_input": "2022-05-28T00:42:09.977693Z",
     "iopub.status.busy": "2022-05-28T00:42:09.977098Z",
     "iopub.status.idle": "2022-05-28T00:42:09.979437Z",
     "shell.execute_reply": "2022-05-28T00:42:09.978992Z"
    },
    "papermill": {
     "duration": 0.03731,
     "end_time": "2022-05-28T00:42:09.979541",
     "exception": false,
     "start_time": "2022-05-28T00:42:09.942231",
     "status": "completed"
    },
    "tags": []
   },
   "outputs": [],
   "source": [
    "#hide\n",
    "# g.columns = ['date','country','cases']"
   ]
  },
  {
   "cell_type": "code",
   "execution_count": 27,
   "id": "tender-conversion",
   "metadata": {
    "execution": {
     "iopub.execute_input": "2022-05-28T00:42:10.047389Z",
     "iopub.status.busy": "2022-05-28T00:42:10.046818Z",
     "iopub.status.idle": "2022-05-28T00:42:10.049338Z",
     "shell.execute_reply": "2022-05-28T00:42:10.048663Z"
    },
    "papermill": {
     "duration": 0.037992,
     "end_time": "2022-05-28T00:42:10.049451",
     "exception": false,
     "start_time": "2022-05-28T00:42:10.011459",
     "status": "completed"
    },
    "tags": []
   },
   "outputs": [],
   "source": [
    "#hide\n",
    "# g['continent'] = g.country"
   ]
  },
  {
   "cell_type": "code",
   "execution_count": 28,
   "id": "substantial-wilderness",
   "metadata": {
    "execution": {
     "iopub.execute_input": "2022-05-28T00:42:10.124639Z",
     "iopub.status.busy": "2022-05-28T00:42:10.124082Z",
     "iopub.status.idle": "2022-05-28T00:42:10.126393Z",
     "shell.execute_reply": "2022-05-28T00:42:10.125863Z"
    },
    "papermill": {
     "duration": 0.041214,
     "end_time": "2022-05-28T00:42:10.126496",
     "exception": false,
     "start_time": "2022-05-28T00:42:10.085282",
     "status": "completed"
    },
    "tags": []
   },
   "outputs": [],
   "source": [
    "#hide\n",
    "# cols = list(g.columns.values)"
   ]
  },
  {
   "cell_type": "code",
   "execution_count": 29,
   "id": "solved-farming",
   "metadata": {
    "execution": {
     "iopub.execute_input": "2022-05-28T00:42:10.193866Z",
     "iopub.status.busy": "2022-05-28T00:42:10.193293Z",
     "iopub.status.idle": "2022-05-28T00:42:10.196170Z",
     "shell.execute_reply": "2022-05-28T00:42:10.195711Z"
    },
    "papermill": {
     "duration": 0.037924,
     "end_time": "2022-05-28T00:42:10.196274",
     "exception": false,
     "start_time": "2022-05-28T00:42:10.158350",
     "status": "completed"
    },
    "tags": []
   },
   "outputs": [],
   "source": [
    "#hide\n",
    "# cols.insert(0, cols.pop())"
   ]
  },
  {
   "cell_type": "code",
   "execution_count": 30,
   "id": "executed-adoption",
   "metadata": {
    "execution": {
     "iopub.execute_input": "2022-05-28T00:42:10.269076Z",
     "iopub.status.busy": "2022-05-28T00:42:10.268503Z",
     "iopub.status.idle": "2022-05-28T00:42:10.270945Z",
     "shell.execute_reply": "2022-05-28T00:42:10.270377Z"
    },
    "papermill": {
     "duration": 0.041067,
     "end_time": "2022-05-28T00:42:10.271067",
     "exception": false,
     "start_time": "2022-05-28T00:42:10.230000",
     "status": "completed"
    },
    "tags": []
   },
   "outputs": [],
   "source": [
    "#hide\n",
    "# g = g[cols]"
   ]
  },
  {
   "cell_type": "code",
   "execution_count": 31,
   "id": "subject-dublin",
   "metadata": {
    "execution": {
     "iopub.execute_input": "2022-05-28T00:42:10.339058Z",
     "iopub.status.busy": "2022-05-28T00:42:10.338476Z",
     "iopub.status.idle": "2022-05-28T00:42:10.340890Z",
     "shell.execute_reply": "2022-05-28T00:42:10.340341Z"
    },
    "papermill": {
     "duration": 0.037821,
     "end_time": "2022-05-28T00:42:10.340998",
     "exception": false,
     "start_time": "2022-05-28T00:42:10.303177",
     "status": "completed"
    },
    "tags": []
   },
   "outputs": [],
   "source": [
    "#hide\n",
    "# g['continent'] = g['continent'].map(mapping['map.continent'])"
   ]
  },
  {
   "cell_type": "code",
   "execution_count": 32,
   "id": "freelance-scout",
   "metadata": {
    "execution": {
     "iopub.execute_input": "2022-05-28T00:42:10.409122Z",
     "iopub.status.busy": "2022-05-28T00:42:10.408520Z",
     "iopub.status.idle": "2022-05-28T00:42:10.410989Z",
     "shell.execute_reply": "2022-05-28T00:42:10.410541Z"
    },
    "papermill": {
     "duration": 0.037933,
     "end_time": "2022-05-28T00:42:10.411093",
     "exception": false,
     "start_time": "2022-05-28T00:42:10.373160",
     "status": "completed"
    },
    "tags": []
   },
   "outputs": [],
   "source": [
    "#hide\n",
    "# g.head()"
   ]
  },
  {
   "cell_type": "code",
   "execution_count": 33,
   "id": "limited-engine",
   "metadata": {
    "execution": {
     "iopub.execute_input": "2022-05-28T00:42:10.478779Z",
     "iopub.status.busy": "2022-05-28T00:42:10.478209Z",
     "iopub.status.idle": "2022-05-28T00:42:10.480692Z",
     "shell.execute_reply": "2022-05-28T00:42:10.480241Z"
    },
    "papermill": {
     "duration": 0.037773,
     "end_time": "2022-05-28T00:42:10.480797",
     "exception": false,
     "start_time": "2022-05-28T00:42:10.443024",
     "status": "completed"
    },
    "tags": []
   },
   "outputs": [],
   "source": [
    "# hide\n",
    "# g['date'] = g['date'].astype('datetime64[ns]')"
   ]
  },
  {
   "cell_type": "code",
   "execution_count": 34,
   "id": "sophisticated-supervisor",
   "metadata": {
    "execution": {
     "iopub.execute_input": "2022-05-28T00:42:10.548591Z",
     "iopub.status.busy": "2022-05-28T00:42:10.548014Z",
     "iopub.status.idle": "2022-05-28T00:42:10.550387Z",
     "shell.execute_reply": "2022-05-28T00:42:10.549842Z"
    },
    "papermill": {
     "duration": 0.037716,
     "end_time": "2022-05-28T00:42:10.550494",
     "exception": false,
     "start_time": "2022-05-28T00:42:10.512778",
     "status": "completed"
    },
    "tags": []
   },
   "outputs": [],
   "source": [
    "#hide\n",
    "# g['date'] = g.date.dt.dayofyear"
   ]
  },
  {
   "cell_type": "code",
   "execution_count": 35,
   "id": "inside-dubai",
   "metadata": {
    "execution": {
     "iopub.execute_input": "2022-05-28T00:42:10.618161Z",
     "iopub.status.busy": "2022-05-28T00:42:10.617583Z",
     "iopub.status.idle": "2022-05-28T00:42:10.620086Z",
     "shell.execute_reply": "2022-05-28T00:42:10.619538Z"
    },
    "papermill": {
     "duration": 0.037742,
     "end_time": "2022-05-28T00:42:10.620193",
     "exception": false,
     "start_time": "2022-05-28T00:42:10.582451",
     "status": "completed"
    },
    "tags": []
   },
   "outputs": [],
   "source": [
    "#hide\n",
    "# g = g.rename(columns= {'continent':'group','country':'name','cases':'value'})"
   ]
  },
  {
   "cell_type": "code",
   "execution_count": 36,
   "id": "fleet-motorcycle",
   "metadata": {
    "execution": {
     "iopub.execute_input": "2022-05-28T00:42:10.688370Z",
     "iopub.status.busy": "2022-05-28T00:42:10.687802Z",
     "iopub.status.idle": "2022-05-28T00:42:10.690265Z",
     "shell.execute_reply": "2022-05-28T00:42:10.689819Z"
    },
    "papermill": {
     "duration": 0.038048,
     "end_time": "2022-05-28T00:42:10.690366",
     "exception": false,
     "start_time": "2022-05-28T00:42:10.652318",
     "status": "completed"
    },
    "tags": []
   },
   "outputs": [],
   "source": [
    "#hide\n",
    "# cols = ['name','group','day','value']"
   ]
  },
  {
   "cell_type": "code",
   "execution_count": 37,
   "id": "continued-sleeping",
   "metadata": {
    "execution": {
     "iopub.execute_input": "2022-05-28T00:42:10.757936Z",
     "iopub.status.busy": "2022-05-28T00:42:10.757354Z",
     "iopub.status.idle": "2022-05-28T00:42:10.759620Z",
     "shell.execute_reply": "2022-05-28T00:42:10.759090Z"
    },
    "papermill": {
     "duration": 0.037438,
     "end_time": "2022-05-28T00:42:10.759720",
     "exception": false,
     "start_time": "2022-05-28T00:42:10.722282",
     "status": "completed"
    },
    "tags": []
   },
   "outputs": [],
   "source": [
    "#hide\n",
    "# g.rename(columns= {'date':'day'},inplace = True)"
   ]
  },
  {
   "cell_type": "code",
   "execution_count": 38,
   "id": "major-fight",
   "metadata": {
    "execution": {
     "iopub.execute_input": "2022-05-28T00:42:10.826204Z",
     "iopub.status.busy": "2022-05-28T00:42:10.825644Z",
     "iopub.status.idle": "2022-05-28T00:42:10.828293Z",
     "shell.execute_reply": "2022-05-28T00:42:10.827849Z"
    },
    "papermill": {
     "duration": 0.036968,
     "end_time": "2022-05-28T00:42:10.828389",
     "exception": false,
     "start_time": "2022-05-28T00:42:10.791421",
     "status": "completed"
    },
    "tags": []
   },
   "outputs": [],
   "source": [
    "#hide\n",
    "# g = g[cols]"
   ]
  },
  {
   "cell_type": "code",
   "execution_count": 39,
   "id": "structured-mobile",
   "metadata": {
    "execution": {
     "iopub.execute_input": "2022-05-28T00:42:10.894395Z",
     "iopub.status.busy": "2022-05-28T00:42:10.893846Z",
     "iopub.status.idle": "2022-05-28T00:42:10.897945Z",
     "shell.execute_reply": "2022-05-28T00:42:10.897509Z"
    },
    "papermill": {
     "duration": 0.038199,
     "end_time": "2022-05-28T00:42:10.898045",
     "exception": false,
     "start_time": "2022-05-28T00:42:10.859846",
     "status": "completed"
    },
    "tags": []
   },
   "outputs": [],
   "source": [
    "# #hide\n",
    "# g = g[g.group.notna()]"
   ]
  },
  {
   "cell_type": "code",
   "execution_count": 40,
   "id": "determined-closing",
   "metadata": {
    "execution": {
     "iopub.execute_input": "2022-05-28T00:42:10.964426Z",
     "iopub.status.busy": "2022-05-28T00:42:10.963856Z",
     "iopub.status.idle": "2022-05-28T00:42:10.965759Z",
     "shell.execute_reply": "2022-05-28T00:42:10.965232Z"
    },
    "papermill": {
     "duration": 0.036177,
     "end_time": "2022-05-28T00:42:10.965853",
     "exception": false,
     "start_time": "2022-05-28T00:42:10.929676",
     "status": "completed"
    },
    "tags": []
   },
   "outputs": [],
   "source": [
    "# #hide\n",
    "# colors = dict(zip(\n",
    "#     [\"Oceania\", \"Europe\", \"Asia\", \"South America\", \"Middle East\", \"North America\", \"Africa\"],\n",
    "#     [\"#adb0ff\", \"#ffb3ff\", \"#90d595\", \"#e48381\", \"#aafbff\", \"#f7bb5f\", \"#eafb50\"]\n",
    "# ))\n",
    "# group_lk = g.set_index('name')['group'].to_dict()"
   ]
  },
  {
   "cell_type": "code",
   "execution_count": null,
   "id": "gross-drinking",
   "metadata": {
    "papermill": {
     "duration": 0.031469,
     "end_time": "2022-05-28T00:42:11.028711",
     "exception": false,
     "start_time": "2022-05-28T00:42:10.997242",
     "status": "completed"
    },
    "tags": []
   },
   "outputs": [],
   "source": []
  },
  {
   "cell_type": "code",
   "execution_count": 41,
   "id": "subject-macintosh",
   "metadata": {
    "execution": {
     "iopub.execute_input": "2022-05-28T00:42:11.095903Z",
     "iopub.status.busy": "2022-05-28T00:42:11.095322Z",
     "iopub.status.idle": "2022-05-28T00:42:11.099072Z",
     "shell.execute_reply": "2022-05-28T00:42:11.098612Z"
    },
    "papermill": {
     "duration": 0.038829,
     "end_time": "2022-05-28T00:42:11.099169",
     "exception": false,
     "start_time": "2022-05-28T00:42:11.060340",
     "status": "completed"
    },
    "tags": []
   },
   "outputs": [],
   "source": [
    "# #hide\n",
    "# fig, ax = plt.subplots(figsize=(15, 8))\n",
    "\n",
    "# def draw_barchart(current_day):\n",
    "#     dff = g[g['day'].eq(current_day)].sort_values(by='value', ascending=True).tail(10)\n",
    "#     ax.clear()\n",
    "#     ax.barh(dff['name'], dff['value'], color=[colors[group_lk[x]] for x in dff['name']])\n",
    "#     dx = dff['value'].max() / 200\n",
    "    \n",
    "#     for i, (value, name) in enumerate(zip(dff['value'], dff['name'])):\n",
    "#         ax.text(value-dx, i,     name,           size=14, weight=600, ha='right', va='bottom')\n",
    "#         ax.text(value-dx, i-.25, group_lk[name], size=10, color='#444444', ha='right', va='baseline')\n",
    "#         ax.text(value+dx, i,     f'{value:,.0f}',  size=14, ha='left',  va='center')\n",
    "#     ax.text(1, 0.4, current_day, transform=ax.transAxes, color='#777777', size=46, ha='right', weight=800)\n",
    "#     ax.text(0, 1.06, 'Population (thousands)', transform=ax.transAxes, size=12, color='#777777')\n",
    "#     ax.xaxis.set_major_formatter(ticker.StrMethodFormatter('{x:,.0f}'))\n",
    "#     ax.xaxis.set_ticks_position('top')\n",
    "#     ax.tick_params(axis='x', colors='#777777', labelsize=12)\n",
    "#     ax.set_yticks([])\n",
    "#     ax.margins(0, 0.01)\n",
    "#     ax.grid(which='major', axis='x', linestyle='-')\n",
    "#     ax.set_axisbelow(True)\n",
    "    \n",
    "#     ax.text(0, 1.15, 'Coronavirus',\n",
    "#             transform=ax.transAxes, size=24, weight=600, ha='left', va='top')\n",
    "# #     ax.text(1, 0, 'by @pratapvardhan; credit @jburnmurdoch', transform=ax.transAxes, color='#777777', ha='right',\n",
    "# #             bbox=dict(facecolor='white', alpha=0.8, edgecolor='white'))\n",
    "#     plt.box(False)"
   ]
  },
  {
   "cell_type": "code",
   "execution_count": 42,
   "id": "sexual-wages",
   "metadata": {
    "execution": {
     "iopub.execute_input": "2022-05-28T00:42:11.165387Z",
     "iopub.status.busy": "2022-05-28T00:42:11.164787Z",
     "iopub.status.idle": "2022-05-28T00:42:11.167225Z",
     "shell.execute_reply": "2022-05-28T00:42:11.166788Z"
    },
    "papermill": {
     "duration": 0.036605,
     "end_time": "2022-05-28T00:42:11.167323",
     "exception": false,
     "start_time": "2022-05-28T00:42:11.130718",
     "status": "completed"
    },
    "tags": []
   },
   "outputs": [],
   "source": [
    "# #hide_input\n",
    "# fig, ax = plt.subplots(figsize=(15, 8))\n",
    "# animator = animation.FuncAnimation(fig, draw_barchart, frames=range(g.day.values.min(), g.day.values.max()))\n",
    "# HTML(animator.to_jshtml())\n",
    "# # or use animator.to_html5_video() or animator.save() "
   ]
  },
  {
   "cell_type": "code",
   "execution_count": null,
   "id": "australian-container",
   "metadata": {
    "papermill": {
     "duration": 0.031225,
     "end_time": "2022-05-28T00:42:11.230089",
     "exception": false,
     "start_time": "2022-05-28T00:42:11.198864",
     "status": "completed"
    },
    "tags": []
   },
   "outputs": [],
   "source": []
  },
  {
   "cell_type": "code",
   "execution_count": null,
   "id": "mediterranean-pontiac",
   "metadata": {
    "papermill": {
     "duration": 0.031272,
     "end_time": "2022-05-28T00:42:11.292859",
     "exception": false,
     "start_time": "2022-05-28T00:42:11.261587",
     "status": "completed"
    },
    "tags": []
   },
   "outputs": [],
   "source": []
  },
  {
   "cell_type": "code",
   "execution_count": null,
   "id": "aging-legislature",
   "metadata": {
    "papermill": {
     "duration": 0.031363,
     "end_time": "2022-05-28T00:42:11.355798",
     "exception": false,
     "start_time": "2022-05-28T00:42:11.324435",
     "status": "completed"
    },
    "tags": []
   },
   "outputs": [],
   "source": []
  }
 ],
 "metadata": {
  "kernelspec": {
   "display_name": "Python 3",
   "language": "python",
   "name": "python3"
  },
  "language_info": {
   "codemirror_mode": {
    "name": "ipython",
    "version": 3
   },
   "file_extension": ".py",
   "mimetype": "text/x-python",
   "name": "python",
   "nbconvert_exporter": "python",
   "pygments_lexer": "ipython3",
   "version": "3.6.15"
  },
  "papermill": {
   "duration": 6.525241,
   "end_time": "2022-05-28T00:42:11.703923",
   "environment_variables": {},
   "exception": null,
   "input_path": "2020-03-21-covid19exp.ipynb",
   "output_path": "2020-03-21-covid19exp.ipynb",
   "parameters": {},
   "start_time": "2022-05-28T00:42:05.178682",
   "version": "2.0.0"
  }
 },
 "nbformat": 4,
 "nbformat_minor": 5
}