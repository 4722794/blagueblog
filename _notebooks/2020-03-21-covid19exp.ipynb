{
 "cells": [
  {
   "cell_type": "markdown",
   "id": "muslim-click",
   "metadata": {
    "papermill": {
     "duration": 0.043869,
     "end_time": "2022-10-18T01:00:22.982910",
     "exception": false,
     "start_time": "2022-10-18T01:00:22.939041",
     "status": "completed"
    },
    "tags": []
   },
   "source": [
    "# COVID-19 Case Race\n",
    "> A race chart to see rising cases around the world\n",
    "\n",
    "- author: Hargun Oberoi\n",
    "- image: images/covid-overview.png\n",
    "- hide: false\n",
    "- badges: false"
   ]
  },
  {
   "cell_type": "code",
   "execution_count": 1,
   "id": "proof-material",
   "metadata": {
    "execution": {
     "iopub.execute_input": "2022-10-18T01:00:23.072680Z",
     "iopub.status.busy": "2022-10-18T01:00:23.071820Z",
     "iopub.status.idle": "2022-10-18T01:00:23.516412Z",
     "shell.execute_reply": "2022-10-18T01:00:23.517000Z"
    },
    "papermill": {
     "duration": 0.496164,
     "end_time": "2022-10-18T01:00:23.517207",
     "exception": false,
     "start_time": "2022-10-18T01:00:23.021043",
     "status": "completed"
    },
    "tags": []
   },
   "outputs": [],
   "source": [
    "#hide\n",
    "import numpy as np\n",
    "import pandas as pd\n",
    "from jinja2 import Template\n",
    "from IPython.display import HTML"
   ]
  },
  {
   "cell_type": "code",
   "execution_count": 2,
   "id": "developed-terminology",
   "metadata": {
    "execution": {
     "iopub.execute_input": "2022-10-18T01:00:23.601311Z",
     "iopub.status.busy": "2022-10-18T01:00:23.600473Z",
     "iopub.status.idle": "2022-10-18T01:00:23.603235Z",
     "shell.execute_reply": "2022-10-18T01:00:23.603796Z"
    },
    "papermill": {
     "duration": 0.047991,
     "end_time": "2022-10-18T01:00:23.603957",
     "exception": false,
     "start_time": "2022-10-18T01:00:23.555966",
     "status": "completed"
    },
    "tags": []
   },
   "outputs": [],
   "source": [
    "#hide\n",
    "\n",
    "# FETCH\n",
    "base_url = 'https://raw.githubusercontent.com/pratapvardhan/notebooks/master/covid19/'\n",
    "paths = {\n",
    "    'mapping': base_url + 'mapping_countries.csv',\n",
    "    'overview': base_url + 'overview.tpl'\n",
    "}"
   ]
  },
  {
   "cell_type": "code",
   "execution_count": 3,
   "id": "dynamic-saver",
   "metadata": {
    "execution": {
     "iopub.execute_input": "2022-10-18T01:00:23.697218Z",
     "iopub.status.busy": "2022-10-18T01:00:23.696284Z",
     "iopub.status.idle": "2022-10-18T01:00:23.701723Z",
     "shell.execute_reply": "2022-10-18T01:00:23.701091Z"
    },
    "papermill": {
     "duration": 0.056597,
     "end_time": "2022-10-18T01:00:23.701869",
     "exception": false,
     "start_time": "2022-10-18T01:00:23.645272",
     "status": "completed"
    },
    "tags": []
   },
   "outputs": [
    {
     "data": {
      "text/plain": [
       "'https://raw.githubusercontent.com/pratapvardhan/notebooks/master/covid19/mapping_countries.csv'"
      ]
     },
     "execution_count": 3,
     "metadata": {},
     "output_type": "execute_result"
    }
   ],
   "source": [
    "#hide\n",
    "paths['mapping']"
   ]
  },
  {
   "cell_type": "code",
   "execution_count": 4,
   "id": "urban-software",
   "metadata": {
    "execution": {
     "iopub.execute_input": "2022-10-18T01:00:23.786062Z",
     "iopub.status.busy": "2022-10-18T01:00:23.785297Z",
     "iopub.status.idle": "2022-10-18T01:00:23.788620Z",
     "shell.execute_reply": "2022-10-18T01:00:23.787995Z"
    },
    "papermill": {
     "duration": 0.048263,
     "end_time": "2022-10-18T01:00:23.788767",
     "exception": false,
     "start_time": "2022-10-18T01:00:23.740504",
     "status": "completed"
    },
    "tags": []
   },
   "outputs": [],
   "source": [
    "#hide\n",
    "def get_mappings(url):\n",
    "    df = pd.read_csv(url)\n",
    "    return {\n",
    "        'df': df,\n",
    "        'replace.country': dict(df.dropna(subset=['Name']).set_index('Country')['Name']),\n",
    "        'map.continent': dict(df.set_index('Name')['Continent'])\n",
    "    }"
   ]
  },
  {
   "cell_type": "code",
   "execution_count": 5,
   "id": "intimate-machinery",
   "metadata": {
    "execution": {
     "iopub.execute_input": "2022-10-18T01:00:23.873589Z",
     "iopub.status.busy": "2022-10-18T01:00:23.872813Z",
     "iopub.status.idle": "2022-10-18T01:00:23.903455Z",
     "shell.execute_reply": "2022-10-18T01:00:23.904060Z"
    },
    "papermill": {
     "duration": 0.077179,
     "end_time": "2022-10-18T01:00:23.904233",
     "exception": false,
     "start_time": "2022-10-18T01:00:23.827054",
     "status": "completed"
    },
    "tags": []
   },
   "outputs": [],
   "source": [
    "#hide\n",
    "mapping = get_mappings(paths['mapping'])"
   ]
  },
  {
   "cell_type": "code",
   "execution_count": 6,
   "id": "certified-tactics",
   "metadata": {
    "execution": {
     "iopub.execute_input": "2022-10-18T01:00:23.988518Z",
     "iopub.status.busy": "2022-10-18T01:00:23.987744Z",
     "iopub.status.idle": "2022-10-18T01:00:23.989693Z",
     "shell.execute_reply": "2022-10-18T01:00:23.990405Z"
    },
    "papermill": {
     "duration": 0.047652,
     "end_time": "2022-10-18T01:00:23.990606",
     "exception": false,
     "start_time": "2022-10-18T01:00:23.942954",
     "status": "completed"
    },
    "tags": []
   },
   "outputs": [],
   "source": [
    "#hide\n",
    "def get_template(path):\n",
    "    from urllib.parse import urlparse\n",
    "    if bool(urlparse(path).netloc):\n",
    "        from urllib.request import urlopen\n",
    "        return urlopen(path).read().decode('utf8')\n",
    "    return open(path).read()"
   ]
  },
  {
   "cell_type": "code",
   "execution_count": 7,
   "id": "realistic-blast",
   "metadata": {
    "execution": {
     "iopub.execute_input": "2022-10-18T01:00:24.076974Z",
     "iopub.status.busy": "2022-10-18T01:00:24.076202Z",
     "iopub.status.idle": "2022-10-18T01:00:24.079317Z",
     "shell.execute_reply": "2022-10-18T01:00:24.078585Z"
    },
    "papermill": {
     "duration": 0.049765,
     "end_time": "2022-10-18T01:00:24.079461",
     "exception": false,
     "start_time": "2022-10-18T01:00:24.029696",
     "status": "completed"
    },
    "tags": []
   },
   "outputs": [],
   "source": [
    "#hide\n",
    "def get_frame(name):\n",
    "    url = (\n",
    "        'https://raw.githubusercontent.com/CSSEGISandData/COVID-19/master/csse_covid_19_data/'\n",
    "        f'csse_covid_19_time_series/time_series_covid19_{name}_global.csv')\n",
    "    df = pd.read_csv(url)\n",
    "    # rename countries\n",
    "    df['Country/Region'] = df['Country/Region'].replace(mapping['replace.country'])\n",
    "    return df"
   ]
  },
  {
   "cell_type": "code",
   "execution_count": 8,
   "id": "affiliated-characterization",
   "metadata": {
    "execution": {
     "iopub.execute_input": "2022-10-18T01:00:24.165463Z",
     "iopub.status.busy": "2022-10-18T01:00:24.164705Z",
     "iopub.status.idle": "2022-10-18T01:00:24.167911Z",
     "shell.execute_reply": "2022-10-18T01:00:24.167299Z"
    },
    "papermill": {
     "duration": 0.049745,
     "end_time": "2022-10-18T01:00:24.168069",
     "exception": false,
     "start_time": "2022-10-18T01:00:24.118324",
     "status": "completed"
    },
    "tags": []
   },
   "outputs": [],
   "source": [
    "#hide\n",
    "def get_dates(df):\n",
    "    dt_cols = df.columns[~df.columns.isin(['Province/State', 'Country/Region', 'Lat', 'Long'])]\n",
    "    LAST_DATE_I = -1\n",
    "    # sometimes last column may be empty, then go backwards\n",
    "    for i in range(-1, -len(dt_cols), -1):\n",
    "        if not df[dt_cols[i]].fillna(0).eq(0).all():\n",
    "            LAST_DATE_I = i\n",
    "            break\n",
    "    return LAST_DATE_I, dt_cols"
   ]
  },
  {
   "cell_type": "code",
   "execution_count": 9,
   "id": "recent-optimization",
   "metadata": {
    "execution": {
     "iopub.execute_input": "2022-10-18T01:00:24.250672Z",
     "iopub.status.busy": "2022-10-18T01:00:24.249790Z",
     "iopub.status.idle": "2022-10-18T01:00:24.747143Z",
     "shell.execute_reply": "2022-10-18T01:00:24.746517Z"
    },
    "papermill": {
     "duration": 0.541865,
     "end_time": "2022-10-18T01:00:24.747292",
     "exception": false,
     "start_time": "2022-10-18T01:00:24.205427",
     "status": "completed"
    },
    "tags": []
   },
   "outputs": [],
   "source": [
    "#hide\n",
    "COL_REGION = 'Country/Region'\n",
    "# Confirmed, Recovered, Deaths\n",
    "df = get_frame('confirmed')\n",
    "# dft_: timeseries, dfc_: today country agg\n",
    "dft_cases = df\n",
    "dft_deaths = get_frame('deaths')\n",
    "dft_recovered = get_frame('recovered')\n",
    "LAST_DATE_I, dt_cols = get_dates(df)"
   ]
  },
  {
   "cell_type": "code",
   "execution_count": 10,
   "id": "absolute-copper",
   "metadata": {
    "execution": {
     "iopub.execute_input": "2022-10-18T01:00:24.831734Z",
     "iopub.status.busy": "2022-10-18T01:00:24.830925Z",
     "iopub.status.idle": "2022-10-18T01:00:24.833718Z",
     "shell.execute_reply": "2022-10-18T01:00:24.834352Z"
    },
    "papermill": {
     "duration": 0.048438,
     "end_time": "2022-10-18T01:00:24.834560",
     "exception": false,
     "start_time": "2022-10-18T01:00:24.786122",
     "status": "completed"
    },
    "tags": []
   },
   "outputs": [],
   "source": [
    "#hide\n",
    "LAST_DATE_I, dt_cols = get_dates(df)\n",
    "dt_today =dt_cols[LAST_DATE_I]\n",
    "# dt_5day = dt_cols[LAST_DATE_I - 5]\n",
    "dt_yday = dt_cols[LAST_DATE_I - 1]"
   ]
  },
  {
   "cell_type": "code",
   "execution_count": 11,
   "id": "restricted-sheriff",
   "metadata": {
    "execution": {
     "iopub.execute_input": "2022-10-18T01:00:24.923076Z",
     "iopub.status.busy": "2022-10-18T01:00:24.922229Z",
     "iopub.status.idle": "2022-10-18T01:00:24.931435Z",
     "shell.execute_reply": "2022-10-18T01:00:24.930759Z"
    },
    "papermill": {
     "duration": 0.057502,
     "end_time": "2022-10-18T01:00:24.931588",
     "exception": false,
     "start_time": "2022-10-18T01:00:24.874086",
     "status": "completed"
    },
    "tags": []
   },
   "outputs": [],
   "source": [
    "#hide\n",
    "dfc_cases = dft_cases.groupby(COL_REGION)[dt_today].sum()\n",
    "dfc_deaths = dft_deaths.groupby(COL_REGION)[dt_today].sum()\n",
    "# dfp_cases = dft_cases.groupby(COL_REGION)[dt_5day].sum()\n",
    "# dfp_deaths = dft_deaths.groupby(COL_REGION)[dt_5day].sum()\n",
    "dfp_cases = dft_cases.groupby(COL_REGION)[dt_yday].sum()\n",
    "dfp_deaths = dft_deaths.groupby(COL_REGION)[dt_yday].sum()"
   ]
  },
  {
   "cell_type": "code",
   "execution_count": 12,
   "id": "deluxe-hepatitis",
   "metadata": {
    "execution": {
     "iopub.execute_input": "2022-10-18T01:00:25.033487Z",
     "iopub.status.busy": "2022-10-18T01:00:25.032691Z",
     "iopub.status.idle": "2022-10-18T01:00:25.035297Z",
     "shell.execute_reply": "2022-10-18T01:00:25.035855Z"
    },
    "papermill": {
     "duration": 0.056651,
     "end_time": "2022-10-18T01:00:25.036033",
     "exception": false,
     "start_time": "2022-10-18T01:00:24.979382",
     "status": "completed"
    },
    "tags": []
   },
   "outputs": [],
   "source": [
    "#hide\n",
    "df_table = (pd.DataFrame(dict(Cases = dfc_cases, Deaths = dfc_deaths, PCases = dfp_cases, PDeaths = dfp_deaths))\n",
    "            .sort_values(by = ['Cases','Deaths'], ascending = [False, False])\n",
    "            .reset_index())"
   ]
  },
  {
   "cell_type": "code",
   "execution_count": 13,
   "id": "educational-chancellor",
   "metadata": {
    "execution": {
     "iopub.execute_input": "2022-10-18T01:00:25.144443Z",
     "iopub.status.busy": "2022-10-18T01:00:25.137920Z",
     "iopub.status.idle": "2022-10-18T01:00:25.149038Z",
     "shell.execute_reply": "2022-10-18T01:00:25.148433Z"
    },
    "papermill": {
     "duration": 0.07353,
     "end_time": "2022-10-18T01:00:25.149188",
     "exception": false,
     "start_time": "2022-10-18T01:00:25.075658",
     "status": "completed"
    },
    "tags": []
   },
   "outputs": [
    {
     "data": {
      "text/html": [
       "<div>\n",
       "<style scoped>\n",
       "    .dataframe tbody tr th:only-of-type {\n",
       "        vertical-align: middle;\n",
       "    }\n",
       "\n",
       "    .dataframe tbody tr th {\n",
       "        vertical-align: top;\n",
       "    }\n",
       "\n",
       "    .dataframe thead th {\n",
       "        text-align: right;\n",
       "    }\n",
       "</style>\n",
       "<table border=\"1\" class=\"dataframe\">\n",
       "  <thead>\n",
       "    <tr style=\"text-align: right;\">\n",
       "      <th></th>\n",
       "      <th>Country/Region</th>\n",
       "      <th>Cases</th>\n",
       "      <th>Deaths</th>\n",
       "      <th>PCases</th>\n",
       "      <th>PDeaths</th>\n",
       "      <th>Cases (+)</th>\n",
       "      <th>Deaths (+)</th>\n",
       "      <th>Fatality Rate</th>\n",
       "      <th>Continent</th>\n",
       "    </tr>\n",
       "  </thead>\n",
       "  <tbody>\n",
       "    <tr>\n",
       "      <th>0</th>\n",
       "      <td>US</td>\n",
       "      <td>96952191</td>\n",
       "      <td>1065109</td>\n",
       "      <td>96945785</td>\n",
       "      <td>1065108</td>\n",
       "      <td>6406</td>\n",
       "      <td>1</td>\n",
       "      <td>1.10</td>\n",
       "      <td>North America</td>\n",
       "    </tr>\n",
       "    <tr>\n",
       "      <th>1</th>\n",
       "      <td>India</td>\n",
       "      <td>44630888</td>\n",
       "      <td>528905</td>\n",
       "      <td>44628828</td>\n",
       "      <td>528895</td>\n",
       "      <td>2060</td>\n",
       "      <td>10</td>\n",
       "      <td>1.19</td>\n",
       "      <td>Asia</td>\n",
       "    </tr>\n",
       "    <tr>\n",
       "      <th>2</th>\n",
       "      <td>France</td>\n",
       "      <td>36378553</td>\n",
       "      <td>156856</td>\n",
       "      <td>36378553</td>\n",
       "      <td>156856</td>\n",
       "      <td>0</td>\n",
       "      <td>0</td>\n",
       "      <td>0.43</td>\n",
       "      <td>Europe</td>\n",
       "    </tr>\n",
       "    <tr>\n",
       "      <th>3</th>\n",
       "      <td>Brazil</td>\n",
       "      <td>34746462</td>\n",
       "      <td>687144</td>\n",
       "      <td>34746462</td>\n",
       "      <td>687144</td>\n",
       "      <td>0</td>\n",
       "      <td>0</td>\n",
       "      <td>1.98</td>\n",
       "      <td>South America</td>\n",
       "    </tr>\n",
       "    <tr>\n",
       "      <th>4</th>\n",
       "      <td>Germany</td>\n",
       "      <td>34608837</td>\n",
       "      <td>151420</td>\n",
       "      <td>34608837</td>\n",
       "      <td>151420</td>\n",
       "      <td>0</td>\n",
       "      <td>0</td>\n",
       "      <td>0.44</td>\n",
       "      <td>Europe</td>\n",
       "    </tr>\n",
       "  </tbody>\n",
       "</table>\n",
       "</div>"
      ],
      "text/plain": [
       "  Country/Region     Cases   Deaths    PCases  PDeaths  Cases (+)  Deaths (+)  \\\n",
       "0             US  96952191  1065109  96945785  1065108       6406           1   \n",
       "1          India  44630888   528905  44628828   528895       2060          10   \n",
       "2         France  36378553   156856  36378553   156856          0           0   \n",
       "3         Brazil  34746462   687144  34746462   687144          0           0   \n",
       "4        Germany  34608837   151420  34608837   151420          0           0   \n",
       "\n",
       "   Fatality Rate      Continent  \n",
       "0           1.10  North America  \n",
       "1           1.19           Asia  \n",
       "2           0.43         Europe  \n",
       "3           1.98  South America  \n",
       "4           0.44         Europe  "
      ]
     },
     "execution_count": 13,
     "metadata": {},
     "output_type": "execute_result"
    }
   ],
   "source": [
    "#hide\n",
    "for c in 'Cases, Deaths'.split(', '):\n",
    "    df_table[f'{c} (+)'] = (df_table[c] - df_table[f'P{c}']).clip(0)\n",
    "    #Clip ça veut dire, les chiffres negatif sont interdit\n",
    "df_table['Fatality Rate'] = (100* df_table['Deaths']/ df_table['Cases']).round(2)\n",
    "df_table['Continent'] = df_table['Country/Region'].map(mapping['map.continent'])\n",
    "df_table.head(5)"
   ]
  },
  {
   "cell_type": "code",
   "execution_count": 14,
   "id": "aboriginal-bulgaria",
   "metadata": {
    "execution": {
     "iopub.execute_input": "2022-10-18T01:00:25.234099Z",
     "iopub.status.busy": "2022-10-18T01:00:25.233341Z",
     "iopub.status.idle": "2022-10-18T01:00:25.237602Z",
     "shell.execute_reply": "2022-10-18T01:00:25.236977Z"
    },
    "papermill": {
     "duration": 0.048629,
     "end_time": "2022-10-18T01:00:25.237761",
     "exception": false,
     "start_time": "2022-10-18T01:00:25.189132",
     "status": "completed"
    },
    "tags": []
   },
   "outputs": [],
   "source": [
    "#hide\n",
    "#delete problematic countries from table\n",
    "df_table = df_table[~df_table['Country/Region'].isin(['Cape Verde', 'Cruise Ship', 'Kosovo'])]"
   ]
  },
  {
   "cell_type": "code",
   "execution_count": 15,
   "id": "fantastic-effect",
   "metadata": {
    "execution": {
     "iopub.execute_input": "2022-10-18T01:00:25.327755Z",
     "iopub.status.busy": "2022-10-18T01:00:25.326971Z",
     "iopub.status.idle": "2022-10-18T01:00:25.351145Z",
     "shell.execute_reply": "2022-10-18T01:00:25.351854Z"
    },
    "papermill": {
     "duration": 0.075016,
     "end_time": "2022-10-18T01:00:25.352027",
     "exception": false,
     "start_time": "2022-10-18T01:00:25.277011",
     "status": "completed"
    },
    "tags": []
   },
   "outputs": [
    {
     "data": {
      "text/html": [
       "<div>\n",
       "<style scoped>\n",
       "    .dataframe tbody tr th:only-of-type {\n",
       "        vertical-align: middle;\n",
       "    }\n",
       "\n",
       "    .dataframe tbody tr th {\n",
       "        vertical-align: top;\n",
       "    }\n",
       "\n",
       "    .dataframe thead th {\n",
       "        text-align: right;\n",
       "    }\n",
       "</style>\n",
       "<table border=\"1\" class=\"dataframe\">\n",
       "  <thead>\n",
       "    <tr style=\"text-align: right;\">\n",
       "      <th></th>\n",
       "      <th>Country/Region</th>\n",
       "      <th>Cases</th>\n",
       "      <th>Deaths</th>\n",
       "      <th>PCases</th>\n",
       "      <th>PDeaths</th>\n",
       "      <th>Cases (+)</th>\n",
       "      <th>Deaths (+)</th>\n",
       "      <th>Fatality Rate</th>\n",
       "      <th>Continent</th>\n",
       "    </tr>\n",
       "  </thead>\n",
       "  <tbody>\n",
       "    <tr>\n",
       "      <th>0</th>\n",
       "      <td>US</td>\n",
       "      <td>96952191</td>\n",
       "      <td>1065109</td>\n",
       "      <td>96945785</td>\n",
       "      <td>1065108</td>\n",
       "      <td>6406</td>\n",
       "      <td>1</td>\n",
       "      <td>1.1</td>\n",
       "      <td>North America</td>\n",
       "    </tr>\n",
       "    <tr>\n",
       "      <th>1</th>\n",
       "      <td>India</td>\n",
       "      <td>44630888</td>\n",
       "      <td>528905</td>\n",
       "      <td>44628828</td>\n",
       "      <td>528895</td>\n",
       "      <td>2060</td>\n",
       "      <td>10</td>\n",
       "      <td>1.2</td>\n",
       "      <td>Asia</td>\n",
       "    </tr>\n",
       "    <tr>\n",
       "      <th>2</th>\n",
       "      <td>France</td>\n",
       "      <td>36378553</td>\n",
       "      <td>156856</td>\n",
       "      <td>36378553</td>\n",
       "      <td>156856</td>\n",
       "      <td>0</td>\n",
       "      <td>0</td>\n",
       "      <td>0.4</td>\n",
       "      <td>Europe</td>\n",
       "    </tr>\n",
       "    <tr>\n",
       "      <th>3</th>\n",
       "      <td>Brazil</td>\n",
       "      <td>34746462</td>\n",
       "      <td>687144</td>\n",
       "      <td>34746462</td>\n",
       "      <td>687144</td>\n",
       "      <td>0</td>\n",
       "      <td>0</td>\n",
       "      <td>2.0</td>\n",
       "      <td>South America</td>\n",
       "    </tr>\n",
       "    <tr>\n",
       "      <th>4</th>\n",
       "      <td>Germany</td>\n",
       "      <td>34608837</td>\n",
       "      <td>151420</td>\n",
       "      <td>34608837</td>\n",
       "      <td>151420</td>\n",
       "      <td>0</td>\n",
       "      <td>0</td>\n",
       "      <td>0.4</td>\n",
       "      <td>Europe</td>\n",
       "    </tr>\n",
       "  </tbody>\n",
       "</table>\n",
       "</div>"
      ],
      "text/plain": [
       "  Country/Region     Cases   Deaths    PCases  PDeaths  Cases (+)  Deaths (+)  \\\n",
       "0             US  96952191  1065109  96945785  1065108       6406           1   \n",
       "1          India  44630888   528905  44628828   528895       2060          10   \n",
       "2         France  36378553   156856  36378553   156856          0           0   \n",
       "3         Brazil  34746462   687144  34746462   687144          0           0   \n",
       "4        Germany  34608837   151420  34608837   151420          0           0   \n",
       "\n",
       "   Fatality Rate      Continent  \n",
       "0            1.1  North America  \n",
       "1            1.2           Asia  \n",
       "2            0.4         Europe  \n",
       "3            2.0  South America  \n",
       "4            0.4         Europe  "
      ]
     },
     "execution_count": 15,
     "metadata": {},
     "output_type": "execute_result"
    }
   ],
   "source": [
    "#hide\n",
    "df_table = (pd.DataFrame(dict(Cases=dfc_cases, Deaths=dfc_deaths, PCases=dfp_cases, PDeaths=dfp_deaths))\n",
    "             .sort_values(by=['Cases', 'Deaths'], ascending=[False, False])\n",
    "             .reset_index())\n",
    "df_table.rename(columns={'index': 'Country/Region'}, inplace=True)\n",
    "for c in 'Cases, Deaths'.split(', '):\n",
    "    df_table[f'{c} (+)'] = (df_table[c] - df_table[f'P{c}']).clip(0)  # DATA BUG\n",
    "df_table['Fatality Rate'] = (100 * df_table['Deaths'] / df_table['Cases']).round(1)\n",
    "df_table['Continent'] = df_table['Country/Region'].map(mapping['map.continent'])\n",
    "df_table.head(5)"
   ]
  },
  {
   "cell_type": "code",
   "execution_count": 16,
   "id": "fewer-occasion",
   "metadata": {
    "execution": {
     "iopub.execute_input": "2022-10-18T01:00:25.440421Z",
     "iopub.status.busy": "2022-10-18T01:00:25.439649Z",
     "iopub.status.idle": "2022-10-18T01:00:25.444280Z",
     "shell.execute_reply": "2022-10-18T01:00:25.443627Z"
    },
    "papermill": {
     "duration": 0.052466,
     "end_time": "2022-10-18T01:00:25.444432",
     "exception": false,
     "start_time": "2022-10-18T01:00:25.391966",
     "status": "completed"
    },
    "tags": []
   },
   "outputs": [],
   "source": [
    "#hide\n",
    "#delete problematic countries from table\n",
    "df_table = df_table[~df_table['Country/Region'].isin(['Cape Verde', 'Cruise Ship', 'Kosovo'])]"
   ]
  },
  {
   "cell_type": "code",
   "execution_count": 17,
   "id": "related-center",
   "metadata": {
    "execution": {
     "iopub.execute_input": "2022-10-18T01:00:25.559253Z",
     "iopub.status.busy": "2022-10-18T01:00:25.558389Z",
     "iopub.status.idle": "2022-10-18T01:00:25.562031Z",
     "shell.execute_reply": "2022-10-18T01:00:25.561399Z"
    },
    "papermill": {
     "duration": 0.07644,
     "end_time": "2022-10-18T01:00:25.562180",
     "exception": false,
     "start_time": "2022-10-18T01:00:25.485740",
     "status": "completed"
    },
    "tags": []
   },
   "outputs": [],
   "source": [
    "#hide\n",
    "metrics = [df_table.columns[index] for index in [1,2,5,6]]\n",
    "# s_china = df_table[df_table['Country/Region'].eq('China')][metrics].sum().add_prefix('China ')\n",
    "s_us = df_table[df_table['Country/Region'].eq('US')][metrics].sum().add_prefix('US ')\n",
    "s_eu = df_table[df_table['Continent'].eq('Europe')][metrics].sum().add_prefix('EU ')\n",
    "s_ind = df_table[df_table['Country/Region'].eq('India')][metrics].sum().add_prefix('India ')\n",
    "summary = {'updated': pd.to_datetime(dt_today), 'since': pd.to_datetime(dt_yday)}\n",
    "summary = {'updated': pd.to_datetime(dt_today), 'since': pd.to_datetime(dt_yday)}\n",
    "summary = {**summary, **df_table[metrics].sum(), **s_ind, **s_us, **s_eu}"
   ]
  },
  {
   "cell_type": "code",
   "execution_count": 18,
   "id": "engaging-syndrome",
   "metadata": {
    "execution": {
     "iopub.execute_input": "2022-10-18T01:00:25.648208Z",
     "iopub.status.busy": "2022-10-18T01:00:25.647447Z",
     "iopub.status.idle": "2022-10-18T01:00:25.674905Z",
     "shell.execute_reply": "2022-10-18T01:00:25.675526Z"
    },
    "papermill": {
     "duration": 0.074027,
     "end_time": "2022-10-18T01:00:25.675876",
     "exception": false,
     "start_time": "2022-10-18T01:00:25.601849",
     "status": "completed"
    },
    "tags": []
   },
   "outputs": [],
   "source": [
    "#hide\n",
    "dft_ct_new_cases = dft_cases.groupby(COL_REGION)[dt_cols].sum().diff(axis=1).fillna(0).astype(int)"
   ]
  },
  {
   "cell_type": "code",
   "execution_count": 19,
   "id": "neutral-assignment",
   "metadata": {
    "execution": {
     "iopub.execute_input": "2022-10-18T01:00:25.765269Z",
     "iopub.status.busy": "2022-10-18T01:00:25.764473Z",
     "iopub.status.idle": "2022-10-18T01:00:25.767378Z",
     "shell.execute_reply": "2022-10-18T01:00:25.768009Z"
    },
    "papermill": {
     "duration": 0.052873,
     "end_time": "2022-10-18T01:00:25.768178",
     "exception": false,
     "start_time": "2022-10-18T01:00:25.715305",
     "status": "completed"
    },
    "tags": []
   },
   "outputs": [],
   "source": [
    "#hide\n",
    "everydaycases = dft_ct_new_cases.cumsum(axis=1)"
   ]
  },
  {
   "cell_type": "code",
   "execution_count": 20,
   "id": "parliamentary-calgary",
   "metadata": {
    "execution": {
     "iopub.execute_input": "2022-10-18T01:00:25.854847Z",
     "iopub.status.busy": "2022-10-18T01:00:25.854012Z",
     "iopub.status.idle": "2022-10-18T01:00:26.542278Z",
     "shell.execute_reply": "2022-10-18T01:00:26.542968Z"
    },
    "papermill": {
     "duration": 0.734211,
     "end_time": "2022-10-18T01:00:26.543151",
     "exception": false,
     "start_time": "2022-10-18T01:00:25.808940",
     "status": "completed"
    },
    "tags": []
   },
   "outputs": [],
   "source": [
    "#hide\n",
    "import pandas as pd\n",
    "import matplotlib.pyplot as plt\n",
    "import matplotlib.ticker as ticker\n",
    "import matplotlib.animation as animation\n",
    "from IPython.display import HTML"
   ]
  },
  {
   "cell_type": "code",
   "execution_count": 21,
   "id": "lasting-extraction",
   "metadata": {
    "execution": {
     "iopub.execute_input": "2022-10-18T01:00:26.630222Z",
     "iopub.status.busy": "2022-10-18T01:00:26.629468Z",
     "iopub.status.idle": "2022-10-18T01:00:26.637486Z",
     "shell.execute_reply": "2022-10-18T01:00:26.638059Z"
    },
    "papermill": {
     "duration": 0.055203,
     "end_time": "2022-10-18T01:00:26.638235",
     "exception": false,
     "start_time": "2022-10-18T01:00:26.583032",
     "status": "completed"
    },
    "tags": []
   },
   "outputs": [],
   "source": [
    "#hide\n",
    "t = everydaycases.stack()"
   ]
  },
  {
   "cell_type": "code",
   "execution_count": 22,
   "id": "premier-sleeve",
   "metadata": {
    "execution": {
     "iopub.execute_input": "2022-10-18T01:00:26.723791Z",
     "iopub.status.busy": "2022-10-18T01:00:26.723046Z",
     "iopub.status.idle": "2022-10-18T01:00:26.738482Z",
     "shell.execute_reply": "2022-10-18T01:00:26.737832Z"
    },
    "papermill": {
     "duration": 0.060666,
     "end_time": "2022-10-18T01:00:26.738667",
     "exception": false,
     "start_time": "2022-10-18T01:00:26.678001",
     "status": "completed"
    },
    "tags": []
   },
   "outputs": [],
   "source": [
    "#hide\n",
    "g = t.reset_index(['Country/Region'])"
   ]
  },
  {
   "cell_type": "code",
   "execution_count": 23,
   "id": "distributed-pittsburgh",
   "metadata": {
    "execution": {
     "iopub.execute_input": "2022-10-18T01:00:26.822905Z",
     "iopub.status.busy": "2022-10-18T01:00:26.822107Z",
     "iopub.status.idle": "2022-10-18T01:00:26.824830Z",
     "shell.execute_reply": "2022-10-18T01:00:26.825392Z"
    },
    "papermill": {
     "duration": 0.047648,
     "end_time": "2022-10-18T01:00:26.825554",
     "exception": false,
     "start_time": "2022-10-18T01:00:26.777906",
     "status": "completed"
    },
    "tags": []
   },
   "outputs": [],
   "source": [
    "#hide\n",
    "g.index.name = 'date'"
   ]
  },
  {
   "cell_type": "code",
   "execution_count": 24,
   "id": "naked-donor",
   "metadata": {
    "execution": {
     "iopub.execute_input": "2022-10-18T01:00:26.909523Z",
     "iopub.status.busy": "2022-10-18T01:00:26.908763Z",
     "iopub.status.idle": "2022-10-18T01:00:26.912139Z",
     "shell.execute_reply": "2022-10-18T01:00:26.911526Z"
    },
    "papermill": {
     "duration": 0.047758,
     "end_time": "2022-10-18T01:00:26.912274",
     "exception": false,
     "start_time": "2022-10-18T01:00:26.864516",
     "status": "completed"
    },
    "tags": []
   },
   "outputs": [],
   "source": [
    "# #hide\n",
    "# g = g.reset_index(['date'])"
   ]
  },
  {
   "cell_type": "code",
   "execution_count": 25,
   "id": "incomplete-mustang",
   "metadata": {
    "execution": {
     "iopub.execute_input": "2022-10-18T01:00:27.000033Z",
     "iopub.status.busy": "2022-10-18T01:00:26.999273Z",
     "iopub.status.idle": "2022-10-18T01:00:27.001983Z",
     "shell.execute_reply": "2022-10-18T01:00:27.002565Z"
    },
    "papermill": {
     "duration": 0.049697,
     "end_time": "2022-10-18T01:00:27.002731",
     "exception": false,
     "start_time": "2022-10-18T01:00:26.953034",
     "status": "completed"
    },
    "tags": []
   },
   "outputs": [],
   "source": [
    "#hide\n",
    "# g.head()"
   ]
  },
  {
   "cell_type": "code",
   "execution_count": 26,
   "id": "specific-kruger",
   "metadata": {
    "execution": {
     "iopub.execute_input": "2022-10-18T01:00:27.086890Z",
     "iopub.status.busy": "2022-10-18T01:00:27.086099Z",
     "iopub.status.idle": "2022-10-18T01:00:27.089258Z",
     "shell.execute_reply": "2022-10-18T01:00:27.089827Z"
    },
    "papermill": {
     "duration": 0.048954,
     "end_time": "2022-10-18T01:00:27.090247",
     "exception": false,
     "start_time": "2022-10-18T01:00:27.041293",
     "status": "completed"
    },
    "tags": []
   },
   "outputs": [],
   "source": [
    "#hide\n",
    "# g.columns = ['date','country','cases']"
   ]
  },
  {
   "cell_type": "code",
   "execution_count": 27,
   "id": "tender-conversion",
   "metadata": {
    "execution": {
     "iopub.execute_input": "2022-10-18T01:00:27.174273Z",
     "iopub.status.busy": "2022-10-18T01:00:27.173498Z",
     "iopub.status.idle": "2022-10-18T01:00:27.176819Z",
     "shell.execute_reply": "2022-10-18T01:00:27.176186Z"
    },
    "papermill": {
     "duration": 0.046814,
     "end_time": "2022-10-18T01:00:27.176967",
     "exception": false,
     "start_time": "2022-10-18T01:00:27.130153",
     "status": "completed"
    },
    "tags": []
   },
   "outputs": [],
   "source": [
    "#hide\n",
    "# g['continent'] = g.country"
   ]
  },
  {
   "cell_type": "code",
   "execution_count": 28,
   "id": "substantial-wilderness",
   "metadata": {
    "execution": {
     "iopub.execute_input": "2022-10-18T01:00:27.262217Z",
     "iopub.status.busy": "2022-10-18T01:00:27.261454Z",
     "iopub.status.idle": "2022-10-18T01:00:27.268004Z",
     "shell.execute_reply": "2022-10-18T01:00:27.268639Z"
    },
    "papermill": {
     "duration": 0.052456,
     "end_time": "2022-10-18T01:00:27.268793",
     "exception": false,
     "start_time": "2022-10-18T01:00:27.216337",
     "status": "completed"
    },
    "tags": []
   },
   "outputs": [],
   "source": [
    "#hide\n",
    "# cols = list(g.columns.values)"
   ]
  },
  {
   "cell_type": "code",
   "execution_count": 29,
   "id": "solved-farming",
   "metadata": {
    "execution": {
     "iopub.execute_input": "2022-10-18T01:00:27.354168Z",
     "iopub.status.busy": "2022-10-18T01:00:27.353376Z",
     "iopub.status.idle": "2022-10-18T01:00:27.356171Z",
     "shell.execute_reply": "2022-10-18T01:00:27.356921Z"
    },
    "papermill": {
     "duration": 0.048715,
     "end_time": "2022-10-18T01:00:27.357085",
     "exception": false,
     "start_time": "2022-10-18T01:00:27.308370",
     "status": "completed"
    },
    "tags": []
   },
   "outputs": [],
   "source": [
    "#hide\n",
    "# cols.insert(0, cols.pop())"
   ]
  },
  {
   "cell_type": "code",
   "execution_count": 30,
   "id": "executed-adoption",
   "metadata": {
    "execution": {
     "iopub.execute_input": "2022-10-18T01:00:27.447213Z",
     "iopub.status.busy": "2022-10-18T01:00:27.446430Z",
     "iopub.status.idle": "2022-10-18T01:00:27.449098Z",
     "shell.execute_reply": "2022-10-18T01:00:27.449710Z"
    },
    "papermill": {
     "duration": 0.048525,
     "end_time": "2022-10-18T01:00:27.449872",
     "exception": false,
     "start_time": "2022-10-18T01:00:27.401347",
     "status": "completed"
    },
    "tags": []
   },
   "outputs": [],
   "source": [
    "#hide\n",
    "# g = g[cols]"
   ]
  },
  {
   "cell_type": "code",
   "execution_count": 31,
   "id": "subject-dublin",
   "metadata": {
    "execution": {
     "iopub.execute_input": "2022-10-18T01:00:27.533592Z",
     "iopub.status.busy": "2022-10-18T01:00:27.532772Z",
     "iopub.status.idle": "2022-10-18T01:00:27.536124Z",
     "shell.execute_reply": "2022-10-18T01:00:27.535458Z"
    },
    "papermill": {
     "duration": 0.047347,
     "end_time": "2022-10-18T01:00:27.536264",
     "exception": false,
     "start_time": "2022-10-18T01:00:27.488917",
     "status": "completed"
    },
    "tags": []
   },
   "outputs": [],
   "source": [
    "#hide\n",
    "# g['continent'] = g['continent'].map(mapping['map.continent'])"
   ]
  },
  {
   "cell_type": "code",
   "execution_count": 32,
   "id": "freelance-scout",
   "metadata": {
    "execution": {
     "iopub.execute_input": "2022-10-18T01:00:27.619931Z",
     "iopub.status.busy": "2022-10-18T01:00:27.619177Z",
     "iopub.status.idle": "2022-10-18T01:00:27.623771Z",
     "shell.execute_reply": "2022-10-18T01:00:27.622920Z"
    },
    "papermill": {
     "duration": 0.048785,
     "end_time": "2022-10-18T01:00:27.623987",
     "exception": false,
     "start_time": "2022-10-18T01:00:27.575202",
     "status": "completed"
    },
    "tags": []
   },
   "outputs": [],
   "source": [
    "#hide\n",
    "# g.head()"
   ]
  },
  {
   "cell_type": "code",
   "execution_count": 33,
   "id": "limited-engine",
   "metadata": {
    "execution": {
     "iopub.execute_input": "2022-10-18T01:00:27.708209Z",
     "iopub.status.busy": "2022-10-18T01:00:27.707344Z",
     "iopub.status.idle": "2022-10-18T01:00:27.710184Z",
     "shell.execute_reply": "2022-10-18T01:00:27.710784Z"
    },
    "papermill": {
     "duration": 0.046427,
     "end_time": "2022-10-18T01:00:27.710950",
     "exception": false,
     "start_time": "2022-10-18T01:00:27.664523",
     "status": "completed"
    },
    "tags": []
   },
   "outputs": [],
   "source": [
    "# hide\n",
    "# g['date'] = g['date'].astype('datetime64[ns]')"
   ]
  },
  {
   "cell_type": "code",
   "execution_count": 34,
   "id": "sophisticated-supervisor",
   "metadata": {
    "execution": {
     "iopub.execute_input": "2022-10-18T01:00:27.794848Z",
     "iopub.status.busy": "2022-10-18T01:00:27.794049Z",
     "iopub.status.idle": "2022-10-18T01:00:27.798364Z",
     "shell.execute_reply": "2022-10-18T01:00:27.797669Z"
    },
    "papermill": {
     "duration": 0.047401,
     "end_time": "2022-10-18T01:00:27.798536",
     "exception": false,
     "start_time": "2022-10-18T01:00:27.751135",
     "status": "completed"
    },
    "tags": []
   },
   "outputs": [],
   "source": [
    "#hide\n",
    "# g['date'] = g.date.dt.dayofyear"
   ]
  },
  {
   "cell_type": "code",
   "execution_count": 35,
   "id": "inside-dubai",
   "metadata": {
    "execution": {
     "iopub.execute_input": "2022-10-18T01:00:27.883730Z",
     "iopub.status.busy": "2022-10-18T01:00:27.882724Z",
     "iopub.status.idle": "2022-10-18T01:00:27.885373Z",
     "shell.execute_reply": "2022-10-18T01:00:27.885957Z"
    },
    "papermill": {
     "duration": 0.048425,
     "end_time": "2022-10-18T01:00:27.886121",
     "exception": false,
     "start_time": "2022-10-18T01:00:27.837696",
     "status": "completed"
    },
    "tags": []
   },
   "outputs": [],
   "source": [
    "#hide\n",
    "# g = g.rename(columns= {'continent':'group','country':'name','cases':'value'})"
   ]
  },
  {
   "cell_type": "code",
   "execution_count": 36,
   "id": "fleet-motorcycle",
   "metadata": {
    "execution": {
     "iopub.execute_input": "2022-10-18T01:00:27.969051Z",
     "iopub.status.busy": "2022-10-18T01:00:27.968291Z",
     "iopub.status.idle": "2022-10-18T01:00:27.971877Z",
     "shell.execute_reply": "2022-10-18T01:00:27.971046Z"
    },
    "papermill": {
     "duration": 0.046879,
     "end_time": "2022-10-18T01:00:27.972022",
     "exception": false,
     "start_time": "2022-10-18T01:00:27.925143",
     "status": "completed"
    },
    "tags": []
   },
   "outputs": [],
   "source": [
    "#hide\n",
    "# cols = ['name','group','day','value']"
   ]
  },
  {
   "cell_type": "code",
   "execution_count": 37,
   "id": "continued-sleeping",
   "metadata": {
    "execution": {
     "iopub.execute_input": "2022-10-18T01:00:28.057253Z",
     "iopub.status.busy": "2022-10-18T01:00:28.056476Z",
     "iopub.status.idle": "2022-10-18T01:00:28.059616Z",
     "shell.execute_reply": "2022-10-18T01:00:28.058983Z"
    },
    "papermill": {
     "duration": 0.048008,
     "end_time": "2022-10-18T01:00:28.059763",
     "exception": false,
     "start_time": "2022-10-18T01:00:28.011755",
     "status": "completed"
    },
    "tags": []
   },
   "outputs": [],
   "source": [
    "#hide\n",
    "# g.rename(columns= {'date':'day'},inplace = True)"
   ]
  },
  {
   "cell_type": "code",
   "execution_count": 38,
   "id": "major-fight",
   "metadata": {
    "execution": {
     "iopub.execute_input": "2022-10-18T01:00:28.145151Z",
     "iopub.status.busy": "2022-10-18T01:00:28.144379Z",
     "iopub.status.idle": "2022-10-18T01:00:28.147137Z",
     "shell.execute_reply": "2022-10-18T01:00:28.147704Z"
    },
    "papermill": {
     "duration": 0.046702,
     "end_time": "2022-10-18T01:00:28.147869",
     "exception": false,
     "start_time": "2022-10-18T01:00:28.101167",
     "status": "completed"
    },
    "tags": []
   },
   "outputs": [],
   "source": [
    "#hide\n",
    "# g = g[cols]"
   ]
  },
  {
   "cell_type": "code",
   "execution_count": 39,
   "id": "structured-mobile",
   "metadata": {
    "execution": {
     "iopub.execute_input": "2022-10-18T01:00:28.233704Z",
     "iopub.status.busy": "2022-10-18T01:00:28.232837Z",
     "iopub.status.idle": "2022-10-18T01:00:28.235515Z",
     "shell.execute_reply": "2022-10-18T01:00:28.236197Z"
    },
    "papermill": {
     "duration": 0.048308,
     "end_time": "2022-10-18T01:00:28.236364",
     "exception": false,
     "start_time": "2022-10-18T01:00:28.188056",
     "status": "completed"
    },
    "tags": []
   },
   "outputs": [],
   "source": [
    "# #hide\n",
    "# g = g[g.group.notna()]"
   ]
  },
  {
   "cell_type": "code",
   "execution_count": 40,
   "id": "determined-closing",
   "metadata": {
    "execution": {
     "iopub.execute_input": "2022-10-18T01:00:28.322395Z",
     "iopub.status.busy": "2022-10-18T01:00:28.321618Z",
     "iopub.status.idle": "2022-10-18T01:00:28.324791Z",
     "shell.execute_reply": "2022-10-18T01:00:28.324147Z"
    },
    "papermill": {
     "duration": 0.048161,
     "end_time": "2022-10-18T01:00:28.324942",
     "exception": false,
     "start_time": "2022-10-18T01:00:28.276781",
     "status": "completed"
    },
    "tags": []
   },
   "outputs": [],
   "source": [
    "# #hide\n",
    "# colors = dict(zip(\n",
    "#     [\"Oceania\", \"Europe\", \"Asia\", \"South America\", \"Middle East\", \"North America\", \"Africa\"],\n",
    "#     [\"#adb0ff\", \"#ffb3ff\", \"#90d595\", \"#e48381\", \"#aafbff\", \"#f7bb5f\", \"#eafb50\"]\n",
    "# ))\n",
    "# group_lk = g.set_index('name')['group'].to_dict()"
   ]
  },
  {
   "cell_type": "code",
   "execution_count": null,
   "id": "gross-drinking",
   "metadata": {
    "papermill": {
     "duration": 0.04929,
     "end_time": "2022-10-18T01:00:28.416668",
     "exception": false,
     "start_time": "2022-10-18T01:00:28.367378",
     "status": "completed"
    },
    "tags": []
   },
   "outputs": [],
   "source": []
  },
  {
   "cell_type": "code",
   "execution_count": 41,
   "id": "subject-macintosh",
   "metadata": {
    "execution": {
     "iopub.execute_input": "2022-10-18T01:00:28.512032Z",
     "iopub.status.busy": "2022-10-18T01:00:28.511231Z",
     "iopub.status.idle": "2022-10-18T01:00:28.514439Z",
     "shell.execute_reply": "2022-10-18T01:00:28.513811Z"
    },
    "papermill": {
     "duration": 0.055275,
     "end_time": "2022-10-18T01:00:28.514608",
     "exception": false,
     "start_time": "2022-10-18T01:00:28.459333",
     "status": "completed"
    },
    "tags": []
   },
   "outputs": [],
   "source": [
    "# #hide\n",
    "# fig, ax = plt.subplots(figsize=(15, 8))\n",
    "\n",
    "# def draw_barchart(current_day):\n",
    "#     dff = g[g['day'].eq(current_day)].sort_values(by='value', ascending=True).tail(10)\n",
    "#     ax.clear()\n",
    "#     ax.barh(dff['name'], dff['value'], color=[colors[group_lk[x]] for x in dff['name']])\n",
    "#     dx = dff['value'].max() / 200\n",
    "    \n",
    "#     for i, (value, name) in enumerate(zip(dff['value'], dff['name'])):\n",
    "#         ax.text(value-dx, i,     name,           size=14, weight=600, ha='right', va='bottom')\n",
    "#         ax.text(value-dx, i-.25, group_lk[name], size=10, color='#444444', ha='right', va='baseline')\n",
    "#         ax.text(value+dx, i,     f'{value:,.0f}',  size=14, ha='left',  va='center')\n",
    "#     ax.text(1, 0.4, current_day, transform=ax.transAxes, color='#777777', size=46, ha='right', weight=800)\n",
    "#     ax.text(0, 1.06, 'Population (thousands)', transform=ax.transAxes, size=12, color='#777777')\n",
    "#     ax.xaxis.set_major_formatter(ticker.StrMethodFormatter('{x:,.0f}'))\n",
    "#     ax.xaxis.set_ticks_position('top')\n",
    "#     ax.tick_params(axis='x', colors='#777777', labelsize=12)\n",
    "#     ax.set_yticks([])\n",
    "#     ax.margins(0, 0.01)\n",
    "#     ax.grid(which='major', axis='x', linestyle='-')\n",
    "#     ax.set_axisbelow(True)\n",
    "    \n",
    "#     ax.text(0, 1.15, 'Coronavirus',\n",
    "#             transform=ax.transAxes, size=24, weight=600, ha='left', va='top')\n",
    "# #     ax.text(1, 0, 'by @pratapvardhan; credit @jburnmurdoch', transform=ax.transAxes, color='#777777', ha='right',\n",
    "# #             bbox=dict(facecolor='white', alpha=0.8, edgecolor='white'))\n",
    "#     plt.box(False)"
   ]
  },
  {
   "cell_type": "code",
   "execution_count": 42,
   "id": "sexual-wages",
   "metadata": {
    "execution": {
     "iopub.execute_input": "2022-10-18T01:00:28.599835Z",
     "iopub.status.busy": "2022-10-18T01:00:28.599036Z",
     "iopub.status.idle": "2022-10-18T01:00:28.602778Z",
     "shell.execute_reply": "2022-10-18T01:00:28.602105Z"
    },
    "papermill": {
     "duration": 0.048309,
     "end_time": "2022-10-18T01:00:28.602928",
     "exception": false,
     "start_time": "2022-10-18T01:00:28.554619",
     "status": "completed"
    },
    "tags": []
   },
   "outputs": [],
   "source": [
    "# #hide_input\n",
    "# fig, ax = plt.subplots(figsize=(15, 8))\n",
    "# animator = animation.FuncAnimation(fig, draw_barchart, frames=range(g.day.values.min(), g.day.values.max()))\n",
    "# HTML(animator.to_jshtml())\n",
    "# # or use animator.to_html5_video() or animator.save() "
   ]
  },
  {
   "cell_type": "code",
   "execution_count": null,
   "id": "australian-container",
   "metadata": {
    "papermill": {
     "duration": 0.038519,
     "end_time": "2022-10-18T01:00:28.693548",
     "exception": false,
     "start_time": "2022-10-18T01:00:28.655029",
     "status": "completed"
    },
    "tags": []
   },
   "outputs": [],
   "source": []
  },
  {
   "cell_type": "code",
   "execution_count": null,
   "id": "mediterranean-pontiac",
   "metadata": {
    "papermill": {
     "duration": 0.038843,
     "end_time": "2022-10-18T01:00:28.771465",
     "exception": false,
     "start_time": "2022-10-18T01:00:28.732622",
     "status": "completed"
    },
    "tags": []
   },
   "outputs": [],
   "source": []
  },
  {
   "cell_type": "code",
   "execution_count": null,
   "id": "aging-legislature",
   "metadata": {
    "papermill": {
     "duration": 0.039344,
     "end_time": "2022-10-18T01:00:28.851686",
     "exception": false,
     "start_time": "2022-10-18T01:00:28.812342",
     "status": "completed"
    },
    "tags": []
   },
   "outputs": [],
   "source": []
  }
 ],
 "metadata": {
  "kernelspec": {
   "display_name": "Python 3",
   "language": "python",
   "name": "python3"
  },
  "language_info": {
   "codemirror_mode": {
    "name": "ipython",
    "version": 3
   },
   "file_extension": ".py",
   "mimetype": "text/x-python",
   "name": "python",
   "nbconvert_exporter": "python",
   "pygments_lexer": "ipython3",
   "version": "3.6.15"
  },
  "papermill": {
   "duration": 7.746224,
   "end_time": "2022-10-18T01:00:29.311740",
   "environment_variables": {},
   "exception": null,
   "input_path": "2020-03-21-covid19exp.ipynb",
   "output_path": "2020-03-21-covid19exp.ipynb",
   "parameters": {},
   "start_time": "2022-10-18T01:00:21.565516",
   "version": "2.0.0"
  }
 },
 "nbformat": 4,
 "nbformat_minor": 5
}