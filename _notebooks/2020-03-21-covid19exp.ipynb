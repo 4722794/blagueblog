{
 "cells": [
  {
   "cell_type": "markdown",
   "id": "muslim-click",
   "metadata": {
    "papermill": {
     "duration": 0.045233,
     "end_time": "2022-02-17T00:26:20.859610",
     "exception": false,
     "start_time": "2022-02-17T00:26:20.814377",
     "status": "completed"
    },
    "tags": []
   },
   "source": [
    "# COVID-19 Case Race\n",
    "> A race chart to see rising cases around the world\n",
    "\n",
    "- author: Hargun Oberoi\n",
    "- image: images/covid-overview.png\n",
    "- hide: false\n",
    "- badges: false"
   ]
  },
  {
   "cell_type": "code",
   "execution_count": 1,
   "id": "proof-material",
   "metadata": {
    "execution": {
     "iopub.execute_input": "2022-02-17T00:26:20.954745Z",
     "iopub.status.busy": "2022-02-17T00:26:20.954049Z",
     "iopub.status.idle": "2022-02-17T00:26:21.392008Z",
     "shell.execute_reply": "2022-02-17T00:26:21.391381Z"
    },
    "papermill": {
     "duration": 0.49165,
     "end_time": "2022-02-17T00:26:21.392190",
     "exception": false,
     "start_time": "2022-02-17T00:26:20.900540",
     "status": "completed"
    },
    "tags": []
   },
   "outputs": [],
   "source": [
    "#hide\n",
    "import numpy as np\n",
    "import pandas as pd\n",
    "from jinja2 import Template\n",
    "from IPython.display import HTML"
   ]
  },
  {
   "cell_type": "code",
   "execution_count": 2,
   "id": "developed-terminology",
   "metadata": {
    "execution": {
     "iopub.execute_input": "2022-02-17T00:26:21.479953Z",
     "iopub.status.busy": "2022-02-17T00:26:21.479299Z",
     "iopub.status.idle": "2022-02-17T00:26:21.483244Z",
     "shell.execute_reply": "2022-02-17T00:26:21.483702Z"
    },
    "papermill": {
     "duration": 0.052796,
     "end_time": "2022-02-17T00:26:21.483877",
     "exception": false,
     "start_time": "2022-02-17T00:26:21.431081",
     "status": "completed"
    },
    "tags": []
   },
   "outputs": [],
   "source": [
    "#hide\n",
    "\n",
    "# FETCH\n",
    "base_url = 'https://raw.githubusercontent.com/pratapvardhan/notebooks/master/covid19/'\n",
    "paths = {\n",
    "    'mapping': base_url + 'mapping_countries.csv',\n",
    "    'overview': base_url + 'overview.tpl'\n",
    "}"
   ]
  },
  {
   "cell_type": "code",
   "execution_count": 3,
   "id": "dynamic-saver",
   "metadata": {
    "execution": {
     "iopub.execute_input": "2022-02-17T00:26:21.572136Z",
     "iopub.status.busy": "2022-02-17T00:26:21.571452Z",
     "iopub.status.idle": "2022-02-17T00:26:21.574859Z",
     "shell.execute_reply": "2022-02-17T00:26:21.575508Z"
    },
    "papermill": {
     "duration": 0.053427,
     "end_time": "2022-02-17T00:26:21.575662",
     "exception": false,
     "start_time": "2022-02-17T00:26:21.522235",
     "status": "completed"
    },
    "tags": []
   },
   "outputs": [
    {
     "data": {
      "text/plain": [
       "'https://raw.githubusercontent.com/pratapvardhan/notebooks/master/covid19/mapping_countries.csv'"
      ]
     },
     "execution_count": 3,
     "metadata": {},
     "output_type": "execute_result"
    }
   ],
   "source": [
    "#hide\n",
    "paths['mapping']"
   ]
  },
  {
   "cell_type": "code",
   "execution_count": 4,
   "id": "urban-software",
   "metadata": {
    "execution": {
     "iopub.execute_input": "2022-02-17T00:26:21.665295Z",
     "iopub.status.busy": "2022-02-17T00:26:21.664562Z",
     "iopub.status.idle": "2022-02-17T00:26:21.667141Z",
     "shell.execute_reply": "2022-02-17T00:26:21.666439Z"
    },
    "papermill": {
     "duration": 0.051621,
     "end_time": "2022-02-17T00:26:21.667303",
     "exception": false,
     "start_time": "2022-02-17T00:26:21.615682",
     "status": "completed"
    },
    "tags": []
   },
   "outputs": [],
   "source": [
    "#hide\n",
    "def get_mappings(url):\n",
    "    df = pd.read_csv(url)\n",
    "    return {\n",
    "        'df': df,\n",
    "        'replace.country': dict(df.dropna(subset=['Name']).set_index('Country')['Name']),\n",
    "        'map.continent': dict(df.set_index('Name')['Continent'])\n",
    "    }"
   ]
  },
  {
   "cell_type": "code",
   "execution_count": 5,
   "id": "intimate-machinery",
   "metadata": {
    "execution": {
     "iopub.execute_input": "2022-02-17T00:26:21.752472Z",
     "iopub.status.busy": "2022-02-17T00:26:21.751281Z",
     "iopub.status.idle": "2022-02-17T00:26:21.786372Z",
     "shell.execute_reply": "2022-02-17T00:26:21.785765Z"
    },
    "papermill": {
     "duration": 0.081081,
     "end_time": "2022-02-17T00:26:21.786515",
     "exception": false,
     "start_time": "2022-02-17T00:26:21.705434",
     "status": "completed"
    },
    "tags": []
   },
   "outputs": [],
   "source": [
    "#hide\n",
    "mapping = get_mappings(paths['mapping'])"
   ]
  },
  {
   "cell_type": "code",
   "execution_count": 6,
   "id": "certified-tactics",
   "metadata": {
    "execution": {
     "iopub.execute_input": "2022-02-17T00:26:21.875134Z",
     "iopub.status.busy": "2022-02-17T00:26:21.874301Z",
     "iopub.status.idle": "2022-02-17T00:26:21.876349Z",
     "shell.execute_reply": "2022-02-17T00:26:21.875767Z"
    },
    "papermill": {
     "duration": 0.049771,
     "end_time": "2022-02-17T00:26:21.876480",
     "exception": false,
     "start_time": "2022-02-17T00:26:21.826709",
     "status": "completed"
    },
    "tags": []
   },
   "outputs": [],
   "source": [
    "#hide\n",
    "def get_template(path):\n",
    "    from urllib.parse import urlparse\n",
    "    if bool(urlparse(path).netloc):\n",
    "        from urllib.request import urlopen\n",
    "        return urlopen(path).read().decode('utf8')\n",
    "    return open(path).read()"
   ]
  },
  {
   "cell_type": "code",
   "execution_count": 7,
   "id": "realistic-blast",
   "metadata": {
    "execution": {
     "iopub.execute_input": "2022-02-17T00:26:21.964912Z",
     "iopub.status.busy": "2022-02-17T00:26:21.964190Z",
     "iopub.status.idle": "2022-02-17T00:26:21.968862Z",
     "shell.execute_reply": "2022-02-17T00:26:21.968287Z"
    },
    "papermill": {
     "duration": 0.052604,
     "end_time": "2022-02-17T00:26:21.969015",
     "exception": false,
     "start_time": "2022-02-17T00:26:21.916411",
     "status": "completed"
    },
    "tags": []
   },
   "outputs": [],
   "source": [
    "#hide\n",
    "def get_frame(name):\n",
    "    url = (\n",
    "        'https://raw.githubusercontent.com/CSSEGISandData/COVID-19/master/csse_covid_19_data/'\n",
    "        f'csse_covid_19_time_series/time_series_covid19_{name}_global.csv')\n",
    "    df = pd.read_csv(url)\n",
    "    # rename countries\n",
    "    df['Country/Region'] = df['Country/Region'].replace(mapping['replace.country'])\n",
    "    return df"
   ]
  },
  {
   "cell_type": "code",
   "execution_count": 8,
   "id": "affiliated-characterization",
   "metadata": {
    "execution": {
     "iopub.execute_input": "2022-02-17T00:26:22.057842Z",
     "iopub.status.busy": "2022-02-17T00:26:22.057051Z",
     "iopub.status.idle": "2022-02-17T00:26:22.059694Z",
     "shell.execute_reply": "2022-02-17T00:26:22.058888Z"
    },
    "papermill": {
     "duration": 0.050464,
     "end_time": "2022-02-17T00:26:22.059841",
     "exception": false,
     "start_time": "2022-02-17T00:26:22.009377",
     "status": "completed"
    },
    "tags": []
   },
   "outputs": [],
   "source": [
    "#hide\n",
    "def get_dates(df):\n",
    "    dt_cols = df.columns[~df.columns.isin(['Province/State', 'Country/Region', 'Lat', 'Long'])]\n",
    "    LAST_DATE_I = -1\n",
    "    # sometimes last column may be empty, then go backwards\n",
    "    for i in range(-1, -len(dt_cols), -1):\n",
    "        if not df[dt_cols[i]].fillna(0).eq(0).all():\n",
    "            LAST_DATE_I = i\n",
    "            break\n",
    "    return LAST_DATE_I, dt_cols"
   ]
  },
  {
   "cell_type": "code",
   "execution_count": 9,
   "id": "recent-optimization",
   "metadata": {
    "execution": {
     "iopub.execute_input": "2022-02-17T00:26:22.147594Z",
     "iopub.status.busy": "2022-02-17T00:26:22.146858Z",
     "iopub.status.idle": "2022-02-17T00:26:22.594985Z",
     "shell.execute_reply": "2022-02-17T00:26:22.594392Z"
    },
    "papermill": {
     "duration": 0.494758,
     "end_time": "2022-02-17T00:26:22.595139",
     "exception": false,
     "start_time": "2022-02-17T00:26:22.100381",
     "status": "completed"
    },
    "tags": []
   },
   "outputs": [],
   "source": [
    "#hide\n",
    "COL_REGION = 'Country/Region'\n",
    "# Confirmed, Recovered, Deaths\n",
    "df = get_frame('confirmed')\n",
    "# dft_: timeseries, dfc_: today country agg\n",
    "dft_cases = df\n",
    "dft_deaths = get_frame('deaths')\n",
    "dft_recovered = get_frame('recovered')\n",
    "LAST_DATE_I, dt_cols = get_dates(df)"
   ]
  },
  {
   "cell_type": "code",
   "execution_count": 10,
   "id": "absolute-copper",
   "metadata": {
    "execution": {
     "iopub.execute_input": "2022-02-17T00:26:22.686360Z",
     "iopub.status.busy": "2022-02-17T00:26:22.685652Z",
     "iopub.status.idle": "2022-02-17T00:26:22.688635Z",
     "shell.execute_reply": "2022-02-17T00:26:22.687905Z"
    },
    "papermill": {
     "duration": 0.053698,
     "end_time": "2022-02-17T00:26:22.688780",
     "exception": false,
     "start_time": "2022-02-17T00:26:22.635082",
     "status": "completed"
    },
    "tags": []
   },
   "outputs": [],
   "source": [
    "#hide\n",
    "LAST_DATE_I, dt_cols = get_dates(df)\n",
    "dt_today =dt_cols[LAST_DATE_I]\n",
    "# dt_5day = dt_cols[LAST_DATE_I - 5]\n",
    "dt_yday = dt_cols[LAST_DATE_I - 1]"
   ]
  },
  {
   "cell_type": "code",
   "execution_count": 11,
   "id": "restricted-sheriff",
   "metadata": {
    "execution": {
     "iopub.execute_input": "2022-02-17T00:26:22.779963Z",
     "iopub.status.busy": "2022-02-17T00:26:22.779242Z",
     "iopub.status.idle": "2022-02-17T00:26:22.788223Z",
     "shell.execute_reply": "2022-02-17T00:26:22.788880Z"
    },
    "papermill": {
     "duration": 0.059782,
     "end_time": "2022-02-17T00:26:22.789058",
     "exception": false,
     "start_time": "2022-02-17T00:26:22.729276",
     "status": "completed"
    },
    "tags": []
   },
   "outputs": [],
   "source": [
    "#hide\n",
    "dfc_cases = dft_cases.groupby(COL_REGION)[dt_today].sum()\n",
    "dfc_deaths = dft_deaths.groupby(COL_REGION)[dt_today].sum()\n",
    "# dfp_cases = dft_cases.groupby(COL_REGION)[dt_5day].sum()\n",
    "# dfp_deaths = dft_deaths.groupby(COL_REGION)[dt_5day].sum()\n",
    "dfp_cases = dft_cases.groupby(COL_REGION)[dt_yday].sum()\n",
    "dfp_deaths = dft_deaths.groupby(COL_REGION)[dt_yday].sum()"
   ]
  },
  {
   "cell_type": "code",
   "execution_count": 12,
   "id": "deluxe-hepatitis",
   "metadata": {
    "execution": {
     "iopub.execute_input": "2022-02-17T00:26:22.881975Z",
     "iopub.status.busy": "2022-02-17T00:26:22.881283Z",
     "iopub.status.idle": "2022-02-17T00:26:22.888202Z",
     "shell.execute_reply": "2022-02-17T00:26:22.887463Z"
    },
    "papermill": {
     "duration": 0.058293,
     "end_time": "2022-02-17T00:26:22.888351",
     "exception": false,
     "start_time": "2022-02-17T00:26:22.830058",
     "status": "completed"
    },
    "tags": []
   },
   "outputs": [],
   "source": [
    "#hide\n",
    "df_table = (pd.DataFrame(dict(Cases = dfc_cases, Deaths = dfc_deaths, PCases = dfp_cases, PDeaths = dfp_deaths))\n",
    "            .sort_values(by = ['Cases','Deaths'], ascending = [False, False])\n",
    "            .reset_index())"
   ]
  },
  {
   "cell_type": "code",
   "execution_count": 13,
   "id": "educational-chancellor",
   "metadata": {
    "execution": {
     "iopub.execute_input": "2022-02-17T00:26:22.998586Z",
     "iopub.status.busy": "2022-02-17T00:26:22.992573Z",
     "iopub.status.idle": "2022-02-17T00:26:23.002621Z",
     "shell.execute_reply": "2022-02-17T00:26:23.001944Z"
    },
    "papermill": {
     "duration": 0.073345,
     "end_time": "2022-02-17T00:26:23.002780",
     "exception": false,
     "start_time": "2022-02-17T00:26:22.929435",
     "status": "completed"
    },
    "tags": []
   },
   "outputs": [
    {
     "data": {
      "text/html": [
       "<div>\n",
       "<style scoped>\n",
       "    .dataframe tbody tr th:only-of-type {\n",
       "        vertical-align: middle;\n",
       "    }\n",
       "\n",
       "    .dataframe tbody tr th {\n",
       "        vertical-align: top;\n",
       "    }\n",
       "\n",
       "    .dataframe thead th {\n",
       "        text-align: right;\n",
       "    }\n",
       "</style>\n",
       "<table border=\"1\" class=\"dataframe\">\n",
       "  <thead>\n",
       "    <tr style=\"text-align: right;\">\n",
       "      <th></th>\n",
       "      <th>Country/Region</th>\n",
       "      <th>Cases</th>\n",
       "      <th>Deaths</th>\n",
       "      <th>PCases</th>\n",
       "      <th>PDeaths</th>\n",
       "      <th>Cases (+)</th>\n",
       "      <th>Deaths (+)</th>\n",
       "      <th>Fatality Rate</th>\n",
       "      <th>Continent</th>\n",
       "    </tr>\n",
       "  </thead>\n",
       "  <tbody>\n",
       "    <tr>\n",
       "      <th>0</th>\n",
       "      <td>US</td>\n",
       "      <td>78036352</td>\n",
       "      <td>925435</td>\n",
       "      <td>77925899</td>\n",
       "      <td>922840</td>\n",
       "      <td>110453</td>\n",
       "      <td>2595</td>\n",
       "      <td>1.19</td>\n",
       "      <td>North America</td>\n",
       "    </tr>\n",
       "    <tr>\n",
       "      <th>1</th>\n",
       "      <td>India</td>\n",
       "      <td>42723558</td>\n",
       "      <td>509872</td>\n",
       "      <td>42692943</td>\n",
       "      <td>509358</td>\n",
       "      <td>30615</td>\n",
       "      <td>514</td>\n",
       "      <td>1.19</td>\n",
       "      <td>Asia</td>\n",
       "    </tr>\n",
       "    <tr>\n",
       "      <th>2</th>\n",
       "      <td>Brazil</td>\n",
       "      <td>27677468</td>\n",
       "      <td>640076</td>\n",
       "      <td>27552267</td>\n",
       "      <td>639151</td>\n",
       "      <td>125201</td>\n",
       "      <td>925</td>\n",
       "      <td>2.31</td>\n",
       "      <td>South America</td>\n",
       "    </tr>\n",
       "    <tr>\n",
       "      <th>3</th>\n",
       "      <td>France</td>\n",
       "      <td>21886335</td>\n",
       "      <td>136187</td>\n",
       "      <td>21884370</td>\n",
       "      <td>136187</td>\n",
       "      <td>1965</td>\n",
       "      <td>0</td>\n",
       "      <td>0.62</td>\n",
       "      <td>Europe</td>\n",
       "    </tr>\n",
       "    <tr>\n",
       "      <th>4</th>\n",
       "      <td>United Kingdom</td>\n",
       "      <td>18521452</td>\n",
       "      <td>160400</td>\n",
       "      <td>18475111</td>\n",
       "      <td>160164</td>\n",
       "      <td>46341</td>\n",
       "      <td>236</td>\n",
       "      <td>0.87</td>\n",
       "      <td>Europe</td>\n",
       "    </tr>\n",
       "  </tbody>\n",
       "</table>\n",
       "</div>"
      ],
      "text/plain": [
       "   Country/Region     Cases  Deaths    PCases  PDeaths  Cases (+)  Deaths (+)  \\\n",
       "0              US  78036352  925435  77925899   922840     110453        2595   \n",
       "1           India  42723558  509872  42692943   509358      30615         514   \n",
       "2          Brazil  27677468  640076  27552267   639151     125201         925   \n",
       "3          France  21886335  136187  21884370   136187       1965           0   \n",
       "4  United Kingdom  18521452  160400  18475111   160164      46341         236   \n",
       "\n",
       "   Fatality Rate      Continent  \n",
       "0           1.19  North America  \n",
       "1           1.19           Asia  \n",
       "2           2.31  South America  \n",
       "3           0.62         Europe  \n",
       "4           0.87         Europe  "
      ]
     },
     "execution_count": 13,
     "metadata": {},
     "output_type": "execute_result"
    }
   ],
   "source": [
    "#hide\n",
    "for c in 'Cases, Deaths'.split(', '):\n",
    "    df_table[f'{c} (+)'] = (df_table[c] - df_table[f'P{c}']).clip(0)\n",
    "    #Clip ça veut dire, les chiffres negatif sont interdit\n",
    "df_table['Fatality Rate'] = (100* df_table['Deaths']/ df_table['Cases']).round(2)\n",
    "df_table['Continent'] = df_table['Country/Region'].map(mapping['map.continent'])\n",
    "df_table.head(5)"
   ]
  },
  {
   "cell_type": "code",
   "execution_count": 14,
   "id": "aboriginal-bulgaria",
   "metadata": {
    "execution": {
     "iopub.execute_input": "2022-02-17T00:26:23.095091Z",
     "iopub.status.busy": "2022-02-17T00:26:23.094345Z",
     "iopub.status.idle": "2022-02-17T00:26:23.098951Z",
     "shell.execute_reply": "2022-02-17T00:26:23.098207Z"
    },
    "papermill": {
     "duration": 0.05536,
     "end_time": "2022-02-17T00:26:23.099135",
     "exception": false,
     "start_time": "2022-02-17T00:26:23.043775",
     "status": "completed"
    },
    "tags": []
   },
   "outputs": [],
   "source": [
    "#hide\n",
    "#delete problematic countries from table\n",
    "df_table = df_table[~df_table['Country/Region'].isin(['Cape Verde', 'Cruise Ship', 'Kosovo'])]"
   ]
  },
  {
   "cell_type": "code",
   "execution_count": 15,
   "id": "fantastic-effect",
   "metadata": {
    "execution": {
     "iopub.execute_input": "2022-02-17T00:26:23.196529Z",
     "iopub.status.busy": "2022-02-17T00:26:23.195792Z",
     "iopub.status.idle": "2022-02-17T00:26:23.219112Z",
     "shell.execute_reply": "2022-02-17T00:26:23.219601Z"
    },
    "papermill": {
     "duration": 0.079024,
     "end_time": "2022-02-17T00:26:23.219807",
     "exception": false,
     "start_time": "2022-02-17T00:26:23.140783",
     "status": "completed"
    },
    "tags": []
   },
   "outputs": [
    {
     "data": {
      "text/html": [
       "<div>\n",
       "<style scoped>\n",
       "    .dataframe tbody tr th:only-of-type {\n",
       "        vertical-align: middle;\n",
       "    }\n",
       "\n",
       "    .dataframe tbody tr th {\n",
       "        vertical-align: top;\n",
       "    }\n",
       "\n",
       "    .dataframe thead th {\n",
       "        text-align: right;\n",
       "    }\n",
       "</style>\n",
       "<table border=\"1\" class=\"dataframe\">\n",
       "  <thead>\n",
       "    <tr style=\"text-align: right;\">\n",
       "      <th></th>\n",
       "      <th>Country/Region</th>\n",
       "      <th>Cases</th>\n",
       "      <th>Deaths</th>\n",
       "      <th>PCases</th>\n",
       "      <th>PDeaths</th>\n",
       "      <th>Cases (+)</th>\n",
       "      <th>Deaths (+)</th>\n",
       "      <th>Fatality Rate</th>\n",
       "      <th>Continent</th>\n",
       "    </tr>\n",
       "  </thead>\n",
       "  <tbody>\n",
       "    <tr>\n",
       "      <th>0</th>\n",
       "      <td>US</td>\n",
       "      <td>78036352</td>\n",
       "      <td>925435</td>\n",
       "      <td>77925899</td>\n",
       "      <td>922840</td>\n",
       "      <td>110453</td>\n",
       "      <td>2595</td>\n",
       "      <td>1.2</td>\n",
       "      <td>North America</td>\n",
       "    </tr>\n",
       "    <tr>\n",
       "      <th>1</th>\n",
       "      <td>India</td>\n",
       "      <td>42723558</td>\n",
       "      <td>509872</td>\n",
       "      <td>42692943</td>\n",
       "      <td>509358</td>\n",
       "      <td>30615</td>\n",
       "      <td>514</td>\n",
       "      <td>1.2</td>\n",
       "      <td>Asia</td>\n",
       "    </tr>\n",
       "    <tr>\n",
       "      <th>2</th>\n",
       "      <td>Brazil</td>\n",
       "      <td>27677468</td>\n",
       "      <td>640076</td>\n",
       "      <td>27552267</td>\n",
       "      <td>639151</td>\n",
       "      <td>125201</td>\n",
       "      <td>925</td>\n",
       "      <td>2.3</td>\n",
       "      <td>South America</td>\n",
       "    </tr>\n",
       "    <tr>\n",
       "      <th>3</th>\n",
       "      <td>France</td>\n",
       "      <td>21886335</td>\n",
       "      <td>136187</td>\n",
       "      <td>21884370</td>\n",
       "      <td>136187</td>\n",
       "      <td>1965</td>\n",
       "      <td>0</td>\n",
       "      <td>0.6</td>\n",
       "      <td>Europe</td>\n",
       "    </tr>\n",
       "    <tr>\n",
       "      <th>4</th>\n",
       "      <td>United Kingdom</td>\n",
       "      <td>18521452</td>\n",
       "      <td>160400</td>\n",
       "      <td>18475111</td>\n",
       "      <td>160164</td>\n",
       "      <td>46341</td>\n",
       "      <td>236</td>\n",
       "      <td>0.9</td>\n",
       "      <td>Europe</td>\n",
       "    </tr>\n",
       "  </tbody>\n",
       "</table>\n",
       "</div>"
      ],
      "text/plain": [
       "   Country/Region     Cases  Deaths    PCases  PDeaths  Cases (+)  Deaths (+)  \\\n",
       "0              US  78036352  925435  77925899   922840     110453        2595   \n",
       "1           India  42723558  509872  42692943   509358      30615         514   \n",
       "2          Brazil  27677468  640076  27552267   639151     125201         925   \n",
       "3          France  21886335  136187  21884370   136187       1965           0   \n",
       "4  United Kingdom  18521452  160400  18475111   160164      46341         236   \n",
       "\n",
       "   Fatality Rate      Continent  \n",
       "0            1.2  North America  \n",
       "1            1.2           Asia  \n",
       "2            2.3  South America  \n",
       "3            0.6         Europe  \n",
       "4            0.9         Europe  "
      ]
     },
     "execution_count": 15,
     "metadata": {},
     "output_type": "execute_result"
    }
   ],
   "source": [
    "#hide\n",
    "df_table = (pd.DataFrame(dict(Cases=dfc_cases, Deaths=dfc_deaths, PCases=dfp_cases, PDeaths=dfp_deaths))\n",
    "             .sort_values(by=['Cases', 'Deaths'], ascending=[False, False])\n",
    "             .reset_index())\n",
    "df_table.rename(columns={'index': 'Country/Region'}, inplace=True)\n",
    "for c in 'Cases, Deaths'.split(', '):\n",
    "    df_table[f'{c} (+)'] = (df_table[c] - df_table[f'P{c}']).clip(0)  # DATA BUG\n",
    "df_table['Fatality Rate'] = (100 * df_table['Deaths'] / df_table['Cases']).round(1)\n",
    "df_table['Continent'] = df_table['Country/Region'].map(mapping['map.continent'])\n",
    "df_table.head(5)"
   ]
  },
  {
   "cell_type": "code",
   "execution_count": 16,
   "id": "fewer-occasion",
   "metadata": {
    "execution": {
     "iopub.execute_input": "2022-02-17T00:26:23.312069Z",
     "iopub.status.busy": "2022-02-17T00:26:23.311267Z",
     "iopub.status.idle": "2022-02-17T00:26:23.315779Z",
     "shell.execute_reply": "2022-02-17T00:26:23.315123Z"
    },
    "papermill": {
     "duration": 0.054813,
     "end_time": "2022-02-17T00:26:23.315926",
     "exception": false,
     "start_time": "2022-02-17T00:26:23.261113",
     "status": "completed"
    },
    "tags": []
   },
   "outputs": [],
   "source": [
    "#hide\n",
    "#delete problematic countries from table\n",
    "df_table = df_table[~df_table['Country/Region'].isin(['Cape Verde', 'Cruise Ship', 'Kosovo'])]"
   ]
  },
  {
   "cell_type": "code",
   "execution_count": 17,
   "id": "related-center",
   "metadata": {
    "execution": {
     "iopub.execute_input": "2022-02-17T00:26:23.417955Z",
     "iopub.status.busy": "2022-02-17T00:26:23.414057Z",
     "iopub.status.idle": "2022-02-17T00:26:23.421683Z",
     "shell.execute_reply": "2022-02-17T00:26:23.422233Z"
    },
    "papermill": {
     "duration": 0.066561,
     "end_time": "2022-02-17T00:26:23.422397",
     "exception": false,
     "start_time": "2022-02-17T00:26:23.355836",
     "status": "completed"
    },
    "tags": []
   },
   "outputs": [],
   "source": [
    "#hide\n",
    "metrics = [df_table.columns[index] for index in [1,2,5,6]]\n",
    "# s_china = df_table[df_table['Country/Region'].eq('China')][metrics].sum().add_prefix('China ')\n",
    "s_us = df_table[df_table['Country/Region'].eq('US')][metrics].sum().add_prefix('US ')\n",
    "s_eu = df_table[df_table['Continent'].eq('Europe')][metrics].sum().add_prefix('EU ')\n",
    "s_ind = df_table[df_table['Country/Region'].eq('India')][metrics].sum().add_prefix('India ')\n",
    "summary = {'updated': pd.to_datetime(dt_today), 'since': pd.to_datetime(dt_yday)}\n",
    "summary = {'updated': pd.to_datetime(dt_today), 'since': pd.to_datetime(dt_yday)}\n",
    "summary = {**summary, **df_table[metrics].sum(), **s_ind, **s_us, **s_eu}"
   ]
  },
  {
   "cell_type": "code",
   "execution_count": 18,
   "id": "engaging-syndrome",
   "metadata": {
    "execution": {
     "iopub.execute_input": "2022-02-17T00:26:23.512248Z",
     "iopub.status.busy": "2022-02-17T00:26:23.511455Z",
     "iopub.status.idle": "2022-02-17T00:26:23.532945Z",
     "shell.execute_reply": "2022-02-17T00:26:23.532326Z"
    },
    "papermill": {
     "duration": 0.069837,
     "end_time": "2022-02-17T00:26:23.533113",
     "exception": false,
     "start_time": "2022-02-17T00:26:23.463276",
     "status": "completed"
    },
    "tags": []
   },
   "outputs": [],
   "source": [
    "#hide\n",
    "dft_ct_new_cases = dft_cases.groupby(COL_REGION)[dt_cols].sum().diff(axis=1).fillna(0).astype(int)"
   ]
  },
  {
   "cell_type": "code",
   "execution_count": 19,
   "id": "neutral-assignment",
   "metadata": {
    "execution": {
     "iopub.execute_input": "2022-02-17T00:26:23.627747Z",
     "iopub.status.busy": "2022-02-17T00:26:23.627040Z",
     "iopub.status.idle": "2022-02-17T00:26:23.629922Z",
     "shell.execute_reply": "2022-02-17T00:26:23.630453Z"
    },
    "papermill": {
     "duration": 0.056336,
     "end_time": "2022-02-17T00:26:23.630632",
     "exception": false,
     "start_time": "2022-02-17T00:26:23.574296",
     "status": "completed"
    },
    "tags": []
   },
   "outputs": [],
   "source": [
    "#hide\n",
    "everydaycases = dft_ct_new_cases.cumsum(axis=1)"
   ]
  },
  {
   "cell_type": "code",
   "execution_count": 20,
   "id": "parliamentary-calgary",
   "metadata": {
    "execution": {
     "iopub.execute_input": "2022-02-17T00:26:23.718725Z",
     "iopub.status.busy": "2022-02-17T00:26:23.717927Z",
     "iopub.status.idle": "2022-02-17T00:26:24.494906Z",
     "shell.execute_reply": "2022-02-17T00:26:24.495454Z"
    },
    "papermill": {
     "duration": 0.823579,
     "end_time": "2022-02-17T00:26:24.495631",
     "exception": false,
     "start_time": "2022-02-17T00:26:23.672052",
     "status": "completed"
    },
    "tags": []
   },
   "outputs": [],
   "source": [
    "#hide\n",
    "import pandas as pd\n",
    "import matplotlib.pyplot as plt\n",
    "import matplotlib.ticker as ticker\n",
    "import matplotlib.animation as animation\n",
    "from IPython.display import HTML"
   ]
  },
  {
   "cell_type": "code",
   "execution_count": 21,
   "id": "lasting-extraction",
   "metadata": {
    "execution": {
     "iopub.execute_input": "2022-02-17T00:26:24.590721Z",
     "iopub.status.busy": "2022-02-17T00:26:24.590009Z",
     "iopub.status.idle": "2022-02-17T00:26:24.596779Z",
     "shell.execute_reply": "2022-02-17T00:26:24.597366Z"
    },
    "papermill": {
     "duration": 0.058391,
     "end_time": "2022-02-17T00:26:24.597541",
     "exception": false,
     "start_time": "2022-02-17T00:26:24.539150",
     "status": "completed"
    },
    "tags": []
   },
   "outputs": [],
   "source": [
    "#hide\n",
    "t = everydaycases.stack()"
   ]
  },
  {
   "cell_type": "code",
   "execution_count": 22,
   "id": "premier-sleeve",
   "metadata": {
    "execution": {
     "iopub.execute_input": "2022-02-17T00:26:24.690737Z",
     "iopub.status.busy": "2022-02-17T00:26:24.690015Z",
     "iopub.status.idle": "2022-02-17T00:26:24.702075Z",
     "shell.execute_reply": "2022-02-17T00:26:24.702621Z"
    },
    "papermill": {
     "duration": 0.061085,
     "end_time": "2022-02-17T00:26:24.702808",
     "exception": false,
     "start_time": "2022-02-17T00:26:24.641723",
     "status": "completed"
    },
    "tags": []
   },
   "outputs": [],
   "source": [
    "#hide\n",
    "g = t.reset_index(['Country/Region'])"
   ]
  },
  {
   "cell_type": "code",
   "execution_count": 23,
   "id": "distributed-pittsburgh",
   "metadata": {
    "execution": {
     "iopub.execute_input": "2022-02-17T00:26:24.791732Z",
     "iopub.status.busy": "2022-02-17T00:26:24.791054Z",
     "iopub.status.idle": "2022-02-17T00:26:24.795657Z",
     "shell.execute_reply": "2022-02-17T00:26:24.795107Z"
    },
    "papermill": {
     "duration": 0.050885,
     "end_time": "2022-02-17T00:26:24.795802",
     "exception": false,
     "start_time": "2022-02-17T00:26:24.744917",
     "status": "completed"
    },
    "tags": []
   },
   "outputs": [],
   "source": [
    "#hide\n",
    "g.index.name = 'date'"
   ]
  },
  {
   "cell_type": "code",
   "execution_count": 24,
   "id": "naked-donor",
   "metadata": {
    "execution": {
     "iopub.execute_input": "2022-02-17T00:26:24.884385Z",
     "iopub.status.busy": "2022-02-17T00:26:24.883681Z",
     "iopub.status.idle": "2022-02-17T00:26:24.886211Z",
     "shell.execute_reply": "2022-02-17T00:26:24.885498Z"
    },
    "papermill": {
     "duration": 0.048761,
     "end_time": "2022-02-17T00:26:24.886342",
     "exception": false,
     "start_time": "2022-02-17T00:26:24.837581",
     "status": "completed"
    },
    "tags": []
   },
   "outputs": [],
   "source": [
    "# #hide\n",
    "# g = g.reset_index(['date'])"
   ]
  },
  {
   "cell_type": "code",
   "execution_count": 25,
   "id": "incomplete-mustang",
   "metadata": {
    "execution": {
     "iopub.execute_input": "2022-02-17T00:26:24.981402Z",
     "iopub.status.busy": "2022-02-17T00:26:24.980614Z",
     "iopub.status.idle": "2022-02-17T00:26:24.984927Z",
     "shell.execute_reply": "2022-02-17T00:26:24.984294Z"
    },
    "papermill": {
     "duration": 0.056042,
     "end_time": "2022-02-17T00:26:24.985066",
     "exception": false,
     "start_time": "2022-02-17T00:26:24.929024",
     "status": "completed"
    },
    "tags": []
   },
   "outputs": [],
   "source": [
    "#hide\n",
    "# g.head()"
   ]
  },
  {
   "cell_type": "code",
   "execution_count": 26,
   "id": "specific-kruger",
   "metadata": {
    "execution": {
     "iopub.execute_input": "2022-02-17T00:26:25.072171Z",
     "iopub.status.busy": "2022-02-17T00:26:25.071438Z",
     "iopub.status.idle": "2022-02-17T00:26:25.076257Z",
     "shell.execute_reply": "2022-02-17T00:26:25.075659Z"
    },
    "papermill": {
     "duration": 0.050398,
     "end_time": "2022-02-17T00:26:25.076397",
     "exception": false,
     "start_time": "2022-02-17T00:26:25.025999",
     "status": "completed"
    },
    "tags": []
   },
   "outputs": [],
   "source": [
    "#hide\n",
    "# g.columns = ['date','country','cases']"
   ]
  },
  {
   "cell_type": "code",
   "execution_count": 27,
   "id": "tender-conversion",
   "metadata": {
    "execution": {
     "iopub.execute_input": "2022-02-17T00:26:25.164885Z",
     "iopub.status.busy": "2022-02-17T00:26:25.164188Z",
     "iopub.status.idle": "2022-02-17T00:26:25.166912Z",
     "shell.execute_reply": "2022-02-17T00:26:25.166344Z"
    },
    "papermill": {
     "duration": 0.048348,
     "end_time": "2022-02-17T00:26:25.167048",
     "exception": false,
     "start_time": "2022-02-17T00:26:25.118700",
     "status": "completed"
    },
    "tags": []
   },
   "outputs": [],
   "source": [
    "#hide\n",
    "# g['continent'] = g.country"
   ]
  },
  {
   "cell_type": "code",
   "execution_count": 28,
   "id": "substantial-wilderness",
   "metadata": {
    "execution": {
     "iopub.execute_input": "2022-02-17T00:26:25.254548Z",
     "iopub.status.busy": "2022-02-17T00:26:25.253536Z",
     "iopub.status.idle": "2022-02-17T00:26:25.256390Z",
     "shell.execute_reply": "2022-02-17T00:26:25.257110Z"
    },
    "papermill": {
     "duration": 0.049413,
     "end_time": "2022-02-17T00:26:25.257336",
     "exception": false,
     "start_time": "2022-02-17T00:26:25.207923",
     "status": "completed"
    },
    "tags": []
   },
   "outputs": [],
   "source": [
    "#hide\n",
    "# cols = list(g.columns.values)"
   ]
  },
  {
   "cell_type": "code",
   "execution_count": 29,
   "id": "solved-farming",
   "metadata": {
    "execution": {
     "iopub.execute_input": "2022-02-17T00:26:25.343772Z",
     "iopub.status.busy": "2022-02-17T00:26:25.343065Z",
     "iopub.status.idle": "2022-02-17T00:26:25.347020Z",
     "shell.execute_reply": "2022-02-17T00:26:25.347565Z"
    },
    "papermill": {
     "duration": 0.049358,
     "end_time": "2022-02-17T00:26:25.347811",
     "exception": false,
     "start_time": "2022-02-17T00:26:25.298453",
     "status": "completed"
    },
    "tags": []
   },
   "outputs": [],
   "source": [
    "#hide\n",
    "# cols.insert(0, cols.pop())"
   ]
  },
  {
   "cell_type": "code",
   "execution_count": 30,
   "id": "executed-adoption",
   "metadata": {
    "execution": {
     "iopub.execute_input": "2022-02-17T00:26:25.435865Z",
     "iopub.status.busy": "2022-02-17T00:26:25.435048Z",
     "iopub.status.idle": "2022-02-17T00:26:25.437432Z",
     "shell.execute_reply": "2022-02-17T00:26:25.437998Z"
    },
    "papermill": {
     "duration": 0.047919,
     "end_time": "2022-02-17T00:26:25.438172",
     "exception": false,
     "start_time": "2022-02-17T00:26:25.390253",
     "status": "completed"
    },
    "tags": []
   },
   "outputs": [],
   "source": [
    "#hide\n",
    "# g = g[cols]"
   ]
  },
  {
   "cell_type": "code",
   "execution_count": 31,
   "id": "subject-dublin",
   "metadata": {
    "execution": {
     "iopub.execute_input": "2022-02-17T00:26:25.523869Z",
     "iopub.status.busy": "2022-02-17T00:26:25.523112Z",
     "iopub.status.idle": "2022-02-17T00:26:25.526098Z",
     "shell.execute_reply": "2022-02-17T00:26:25.525354Z"
    },
    "papermill": {
     "duration": 0.047968,
     "end_time": "2022-02-17T00:26:25.526263",
     "exception": false,
     "start_time": "2022-02-17T00:26:25.478295",
     "status": "completed"
    },
    "tags": []
   },
   "outputs": [],
   "source": [
    "#hide\n",
    "# g['continent'] = g['continent'].map(mapping['map.continent'])"
   ]
  },
  {
   "cell_type": "code",
   "execution_count": 32,
   "id": "freelance-scout",
   "metadata": {
    "execution": {
     "iopub.execute_input": "2022-02-17T00:26:25.615736Z",
     "iopub.status.busy": "2022-02-17T00:26:25.615060Z",
     "iopub.status.idle": "2022-02-17T00:26:25.622411Z",
     "shell.execute_reply": "2022-02-17T00:26:25.616926Z"
    },
    "papermill": {
     "duration": 0.051742,
     "end_time": "2022-02-17T00:26:25.622940",
     "exception": false,
     "start_time": "2022-02-17T00:26:25.571198",
     "status": "completed"
    },
    "tags": []
   },
   "outputs": [],
   "source": [
    "#hide\n",
    "# g.head()"
   ]
  },
  {
   "cell_type": "code",
   "execution_count": 33,
   "id": "limited-engine",
   "metadata": {
    "execution": {
     "iopub.execute_input": "2022-02-17T00:26:25.710780Z",
     "iopub.status.busy": "2022-02-17T00:26:25.710110Z",
     "iopub.status.idle": "2022-02-17T00:26:25.712722Z",
     "shell.execute_reply": "2022-02-17T00:26:25.712199Z"
    },
    "papermill": {
     "duration": 0.047832,
     "end_time": "2022-02-17T00:26:25.712857",
     "exception": false,
     "start_time": "2022-02-17T00:26:25.665025",
     "status": "completed"
    },
    "tags": []
   },
   "outputs": [],
   "source": [
    "# hide\n",
    "# g['date'] = g['date'].astype('datetime64[ns]')"
   ]
  },
  {
   "cell_type": "code",
   "execution_count": 34,
   "id": "sophisticated-supervisor",
   "metadata": {
    "execution": {
     "iopub.execute_input": "2022-02-17T00:26:25.803875Z",
     "iopub.status.busy": "2022-02-17T00:26:25.803046Z",
     "iopub.status.idle": "2022-02-17T00:26:25.804682Z",
     "shell.execute_reply": "2022-02-17T00:26:25.805361Z"
    },
    "papermill": {
     "duration": 0.048055,
     "end_time": "2022-02-17T00:26:25.805508",
     "exception": false,
     "start_time": "2022-02-17T00:26:25.757453",
     "status": "completed"
    },
    "tags": []
   },
   "outputs": [],
   "source": [
    "#hide\n",
    "# g['date'] = g.date.dt.dayofyear"
   ]
  },
  {
   "cell_type": "code",
   "execution_count": 35,
   "id": "inside-dubai",
   "metadata": {
    "execution": {
     "iopub.execute_input": "2022-02-17T00:26:25.893832Z",
     "iopub.status.busy": "2022-02-17T00:26:25.893034Z",
     "iopub.status.idle": "2022-02-17T00:26:25.895679Z",
     "shell.execute_reply": "2022-02-17T00:26:25.895078Z"
    },
    "papermill": {
     "duration": 0.047955,
     "end_time": "2022-02-17T00:26:25.895815",
     "exception": false,
     "start_time": "2022-02-17T00:26:25.847860",
     "status": "completed"
    },
    "tags": []
   },
   "outputs": [],
   "source": [
    "#hide\n",
    "# g = g.rename(columns= {'continent':'group','country':'name','cases':'value'})"
   ]
  },
  {
   "cell_type": "code",
   "execution_count": 36,
   "id": "fleet-motorcycle",
   "metadata": {
    "execution": {
     "iopub.execute_input": "2022-02-17T00:26:25.988995Z",
     "iopub.status.busy": "2022-02-17T00:26:25.988321Z",
     "iopub.status.idle": "2022-02-17T00:26:25.990890Z",
     "shell.execute_reply": "2022-02-17T00:26:25.990199Z"
    },
    "papermill": {
     "duration": 0.050818,
     "end_time": "2022-02-17T00:26:25.991107",
     "exception": false,
     "start_time": "2022-02-17T00:26:25.940289",
     "status": "completed"
    },
    "tags": []
   },
   "outputs": [],
   "source": [
    "#hide\n",
    "# cols = ['name','group','day','value']"
   ]
  },
  {
   "cell_type": "code",
   "execution_count": 37,
   "id": "continued-sleeping",
   "metadata": {
    "execution": {
     "iopub.execute_input": "2022-02-17T00:26:26.079930Z",
     "iopub.status.busy": "2022-02-17T00:26:26.079256Z",
     "iopub.status.idle": "2022-02-17T00:26:26.083776Z",
     "shell.execute_reply": "2022-02-17T00:26:26.084299Z"
    },
    "papermill": {
     "duration": 0.050117,
     "end_time": "2022-02-17T00:26:26.084467",
     "exception": false,
     "start_time": "2022-02-17T00:26:26.034350",
     "status": "completed"
    },
    "tags": []
   },
   "outputs": [],
   "source": [
    "#hide\n",
    "# g.rename(columns= {'date':'day'},inplace = True)"
   ]
  },
  {
   "cell_type": "code",
   "execution_count": 38,
   "id": "major-fight",
   "metadata": {
    "execution": {
     "iopub.execute_input": "2022-02-17T00:26:26.175320Z",
     "iopub.status.busy": "2022-02-17T00:26:26.174535Z",
     "iopub.status.idle": "2022-02-17T00:26:26.177040Z",
     "shell.execute_reply": "2022-02-17T00:26:26.176273Z"
    },
    "papermill": {
     "duration": 0.046228,
     "end_time": "2022-02-17T00:26:26.177207",
     "exception": false,
     "start_time": "2022-02-17T00:26:26.130979",
     "status": "completed"
    },
    "tags": []
   },
   "outputs": [],
   "source": [
    "#hide\n",
    "# g = g[cols]"
   ]
  },
  {
   "cell_type": "code",
   "execution_count": 39,
   "id": "structured-mobile",
   "metadata": {
    "execution": {
     "iopub.execute_input": "2022-02-17T00:26:26.271120Z",
     "iopub.status.busy": "2022-02-17T00:26:26.270381Z",
     "iopub.status.idle": "2022-02-17T00:26:26.272611Z",
     "shell.execute_reply": "2022-02-17T00:26:26.273249Z"
    },
    "papermill": {
     "duration": 0.051186,
     "end_time": "2022-02-17T00:26:26.273427",
     "exception": false,
     "start_time": "2022-02-17T00:26:26.222241",
     "status": "completed"
    },
    "tags": []
   },
   "outputs": [],
   "source": [
    "# #hide\n",
    "# g = g[g.group.notna()]"
   ]
  },
  {
   "cell_type": "code",
   "execution_count": 40,
   "id": "determined-closing",
   "metadata": {
    "execution": {
     "iopub.execute_input": "2022-02-17T00:26:26.363082Z",
     "iopub.status.busy": "2022-02-17T00:26:26.362354Z",
     "iopub.status.idle": "2022-02-17T00:26:26.367113Z",
     "shell.execute_reply": "2022-02-17T00:26:26.367631Z"
    },
    "papermill": {
     "duration": 0.052496,
     "end_time": "2022-02-17T00:26:26.367792",
     "exception": false,
     "start_time": "2022-02-17T00:26:26.315296",
     "status": "completed"
    },
    "tags": []
   },
   "outputs": [],
   "source": [
    "# #hide\n",
    "# colors = dict(zip(\n",
    "#     [\"Oceania\", \"Europe\", \"Asia\", \"South America\", \"Middle East\", \"North America\", \"Africa\"],\n",
    "#     [\"#adb0ff\", \"#ffb3ff\", \"#90d595\", \"#e48381\", \"#aafbff\", \"#f7bb5f\", \"#eafb50\"]\n",
    "# ))\n",
    "# group_lk = g.set_index('name')['group'].to_dict()"
   ]
  },
  {
   "cell_type": "code",
   "execution_count": null,
   "id": "gross-drinking",
   "metadata": {
    "papermill": {
     "duration": 0.041811,
     "end_time": "2022-02-17T00:26:26.452131",
     "exception": false,
     "start_time": "2022-02-17T00:26:26.410320",
     "status": "completed"
    },
    "tags": []
   },
   "outputs": [],
   "source": []
  },
  {
   "cell_type": "code",
   "execution_count": 41,
   "id": "subject-macintosh",
   "metadata": {
    "execution": {
     "iopub.execute_input": "2022-02-17T00:26:26.542135Z",
     "iopub.status.busy": "2022-02-17T00:26:26.541419Z",
     "iopub.status.idle": "2022-02-17T00:26:26.543504Z",
     "shell.execute_reply": "2022-02-17T00:26:26.542850Z"
    },
    "papermill": {
     "duration": 0.04884,
     "end_time": "2022-02-17T00:26:26.543640",
     "exception": false,
     "start_time": "2022-02-17T00:26:26.494800",
     "status": "completed"
    },
    "tags": []
   },
   "outputs": [],
   "source": [
    "# #hide\n",
    "# fig, ax = plt.subplots(figsize=(15, 8))\n",
    "\n",
    "# def draw_barchart(current_day):\n",
    "#     dff = g[g['day'].eq(current_day)].sort_values(by='value', ascending=True).tail(10)\n",
    "#     ax.clear()\n",
    "#     ax.barh(dff['name'], dff['value'], color=[colors[group_lk[x]] for x in dff['name']])\n",
    "#     dx = dff['value'].max() / 200\n",
    "    \n",
    "#     for i, (value, name) in enumerate(zip(dff['value'], dff['name'])):\n",
    "#         ax.text(value-dx, i,     name,           size=14, weight=600, ha='right', va='bottom')\n",
    "#         ax.text(value-dx, i-.25, group_lk[name], size=10, color='#444444', ha='right', va='baseline')\n",
    "#         ax.text(value+dx, i,     f'{value:,.0f}',  size=14, ha='left',  va='center')\n",
    "#     ax.text(1, 0.4, current_day, transform=ax.transAxes, color='#777777', size=46, ha='right', weight=800)\n",
    "#     ax.text(0, 1.06, 'Population (thousands)', transform=ax.transAxes, size=12, color='#777777')\n",
    "#     ax.xaxis.set_major_formatter(ticker.StrMethodFormatter('{x:,.0f}'))\n",
    "#     ax.xaxis.set_ticks_position('top')\n",
    "#     ax.tick_params(axis='x', colors='#777777', labelsize=12)\n",
    "#     ax.set_yticks([])\n",
    "#     ax.margins(0, 0.01)\n",
    "#     ax.grid(which='major', axis='x', linestyle='-')\n",
    "#     ax.set_axisbelow(True)\n",
    "    \n",
    "#     ax.text(0, 1.15, 'Coronavirus',\n",
    "#             transform=ax.transAxes, size=24, weight=600, ha='left', va='top')\n",
    "# #     ax.text(1, 0, 'by @pratapvardhan; credit @jburnmurdoch', transform=ax.transAxes, color='#777777', ha='right',\n",
    "# #             bbox=dict(facecolor='white', alpha=0.8, edgecolor='white'))\n",
    "#     plt.box(False)"
   ]
  },
  {
   "cell_type": "code",
   "execution_count": 42,
   "id": "sexual-wages",
   "metadata": {
    "execution": {
     "iopub.execute_input": "2022-02-17T00:26:26.634245Z",
     "iopub.status.busy": "2022-02-17T00:26:26.633517Z",
     "iopub.status.idle": "2022-02-17T00:26:26.636119Z",
     "shell.execute_reply": "2022-02-17T00:26:26.636651Z"
    },
    "papermill": {
     "duration": 0.051003,
     "end_time": "2022-02-17T00:26:26.636819",
     "exception": false,
     "start_time": "2022-02-17T00:26:26.585816",
     "status": "completed"
    },
    "tags": []
   },
   "outputs": [],
   "source": [
    "# #hide_input\n",
    "# fig, ax = plt.subplots(figsize=(15, 8))\n",
    "# animator = animation.FuncAnimation(fig, draw_barchart, frames=range(g.day.values.min(), g.day.values.max()))\n",
    "# HTML(animator.to_jshtml())\n",
    "# # or use animator.to_html5_video() or animator.save() "
   ]
  },
  {
   "cell_type": "code",
   "execution_count": null,
   "id": "australian-container",
   "metadata": {
    "papermill": {
     "duration": 0.042245,
     "end_time": "2022-02-17T00:26:26.720484",
     "exception": false,
     "start_time": "2022-02-17T00:26:26.678239",
     "status": "completed"
    },
    "tags": []
   },
   "outputs": [],
   "source": []
  },
  {
   "cell_type": "code",
   "execution_count": null,
   "id": "mediterranean-pontiac",
   "metadata": {
    "papermill": {
     "duration": 0.04235,
     "end_time": "2022-02-17T00:26:26.805282",
     "exception": false,
     "start_time": "2022-02-17T00:26:26.762932",
     "status": "completed"
    },
    "tags": []
   },
   "outputs": [],
   "source": []
  },
  {
   "cell_type": "code",
   "execution_count": null,
   "id": "aging-legislature",
   "metadata": {
    "papermill": {
     "duration": 0.043034,
     "end_time": "2022-02-17T00:26:26.894559",
     "exception": false,
     "start_time": "2022-02-17T00:26:26.851525",
     "status": "completed"
    },
    "tags": []
   },
   "outputs": [],
   "source": []
  }
 ],
 "metadata": {
  "kernelspec": {
   "display_name": "Python 3",
   "language": "python",
   "name": "python3"
  },
  "language_info": {
   "codemirror_mode": {
    "name": "ipython",
    "version": 3
   },
   "file_extension": ".py",
   "mimetype": "text/x-python",
   "name": "python",
   "nbconvert_exporter": "python",
   "pygments_lexer": "ipython3",
   "version": "3.6.15"
  },
  "papermill": {
   "duration": 7.920748,
   "end_time": "2022-02-17T00:26:27.358886",
   "environment_variables": {},
   "exception": null,
   "input_path": "2020-03-21-covid19exp.ipynb",
   "output_path": "2020-03-21-covid19exp.ipynb",
   "parameters": {},
   "start_time": "2022-02-17T00:26:19.438138",
   "version": "2.0.0"
  }
 },
 "nbformat": 4,
 "nbformat_minor": 5
}