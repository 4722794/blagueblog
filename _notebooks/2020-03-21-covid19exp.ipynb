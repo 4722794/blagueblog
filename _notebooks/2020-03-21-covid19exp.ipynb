{
 "cells": [
  {
   "cell_type": "markdown",
   "id": "muslim-click",
   "metadata": {
    "papermill": {
     "duration": 0.052025,
     "end_time": "2022-10-09T00:53:58.507386",
     "exception": false,
     "start_time": "2022-10-09T00:53:58.455361",
     "status": "completed"
    },
    "tags": []
   },
   "source": [
    "# COVID-19 Case Race\n",
    "> A race chart to see rising cases around the world\n",
    "\n",
    "- author: Hargun Oberoi\n",
    "- image: images/covid-overview.png\n",
    "- hide: false\n",
    "- badges: false"
   ]
  },
  {
   "cell_type": "code",
   "execution_count": 1,
   "id": "proof-material",
   "metadata": {
    "execution": {
     "iopub.execute_input": "2022-10-09T00:53:58.593443Z",
     "iopub.status.busy": "2022-10-09T00:53:58.592701Z",
     "iopub.status.idle": "2022-10-09T00:53:58.981807Z",
     "shell.execute_reply": "2022-10-09T00:53:58.978774Z"
    },
    "papermill": {
     "duration": 0.434606,
     "end_time": "2022-10-09T00:53:58.981989",
     "exception": false,
     "start_time": "2022-10-09T00:53:58.547383",
     "status": "completed"
    },
    "tags": []
   },
   "outputs": [],
   "source": [
    "#hide\n",
    "import numpy as np\n",
    "import pandas as pd\n",
    "from jinja2 import Template\n",
    "from IPython.display import HTML"
   ]
  },
  {
   "cell_type": "code",
   "execution_count": 2,
   "id": "developed-terminology",
   "metadata": {
    "execution": {
     "iopub.execute_input": "2022-10-09T00:53:59.067178Z",
     "iopub.status.busy": "2022-10-09T00:53:59.066289Z",
     "iopub.status.idle": "2022-10-09T00:53:59.069623Z",
     "shell.execute_reply": "2022-10-09T00:53:59.070213Z"
    },
    "papermill": {
     "duration": 0.050617,
     "end_time": "2022-10-09T00:53:59.070369",
     "exception": false,
     "start_time": "2022-10-09T00:53:59.019752",
     "status": "completed"
    },
    "tags": []
   },
   "outputs": [],
   "source": [
    "#hide\n",
    "\n",
    "# FETCH\n",
    "base_url = 'https://raw.githubusercontent.com/pratapvardhan/notebooks/master/covid19/'\n",
    "paths = {\n",
    "    'mapping': base_url + 'mapping_countries.csv',\n",
    "    'overview': base_url + 'overview.tpl'\n",
    "}"
   ]
  },
  {
   "cell_type": "code",
   "execution_count": 3,
   "id": "dynamic-saver",
   "metadata": {
    "execution": {
     "iopub.execute_input": "2022-10-09T00:53:59.150445Z",
     "iopub.status.busy": "2022-10-09T00:53:59.149703Z",
     "iopub.status.idle": "2022-10-09T00:53:59.153168Z",
     "shell.execute_reply": "2022-10-09T00:53:59.152502Z"
    },
    "papermill": {
     "duration": 0.048022,
     "end_time": "2022-10-09T00:53:59.153298",
     "exception": false,
     "start_time": "2022-10-09T00:53:59.105276",
     "status": "completed"
    },
    "tags": []
   },
   "outputs": [
    {
     "data": {
      "text/plain": [
       "'https://raw.githubusercontent.com/pratapvardhan/notebooks/master/covid19/mapping_countries.csv'"
      ]
     },
     "execution_count": 3,
     "metadata": {},
     "output_type": "execute_result"
    }
   ],
   "source": [
    "#hide\n",
    "paths['mapping']"
   ]
  },
  {
   "cell_type": "code",
   "execution_count": 4,
   "id": "urban-software",
   "metadata": {
    "execution": {
     "iopub.execute_input": "2022-10-09T00:53:59.227120Z",
     "iopub.status.busy": "2022-10-09T00:53:59.226351Z",
     "iopub.status.idle": "2022-10-09T00:53:59.229245Z",
     "shell.execute_reply": "2022-10-09T00:53:59.228681Z"
    },
    "papermill": {
     "duration": 0.042226,
     "end_time": "2022-10-09T00:53:59.229373",
     "exception": false,
     "start_time": "2022-10-09T00:53:59.187147",
     "status": "completed"
    },
    "tags": []
   },
   "outputs": [],
   "source": [
    "#hide\n",
    "def get_mappings(url):\n",
    "    df = pd.read_csv(url)\n",
    "    return {\n",
    "        'df': df,\n",
    "        'replace.country': dict(df.dropna(subset=['Name']).set_index('Country')['Name']),\n",
    "        'map.continent': dict(df.set_index('Name')['Continent'])\n",
    "    }"
   ]
  },
  {
   "cell_type": "code",
   "execution_count": 5,
   "id": "intimate-machinery",
   "metadata": {
    "execution": {
     "iopub.execute_input": "2022-10-09T00:53:59.303229Z",
     "iopub.status.busy": "2022-10-09T00:53:59.302470Z",
     "iopub.status.idle": "2022-10-09T00:53:59.338451Z",
     "shell.execute_reply": "2022-10-09T00:53:59.339106Z"
    },
    "papermill": {
     "duration": 0.076182,
     "end_time": "2022-10-09T00:53:59.339265",
     "exception": false,
     "start_time": "2022-10-09T00:53:59.263083",
     "status": "completed"
    },
    "tags": []
   },
   "outputs": [],
   "source": [
    "#hide\n",
    "mapping = get_mappings(paths['mapping'])"
   ]
  },
  {
   "cell_type": "code",
   "execution_count": 6,
   "id": "certified-tactics",
   "metadata": {
    "execution": {
     "iopub.execute_input": "2022-10-09T00:53:59.413772Z",
     "iopub.status.busy": "2022-10-09T00:53:59.413025Z",
     "iopub.status.idle": "2022-10-09T00:53:59.415931Z",
     "shell.execute_reply": "2022-10-09T00:53:59.415366Z"
    },
    "papermill": {
     "duration": 0.043012,
     "end_time": "2022-10-09T00:53:59.416062",
     "exception": false,
     "start_time": "2022-10-09T00:53:59.373050",
     "status": "completed"
    },
    "tags": []
   },
   "outputs": [],
   "source": [
    "#hide\n",
    "def get_template(path):\n",
    "    from urllib.parse import urlparse\n",
    "    if bool(urlparse(path).netloc):\n",
    "        from urllib.request import urlopen\n",
    "        return urlopen(path).read().decode('utf8')\n",
    "    return open(path).read()"
   ]
  },
  {
   "cell_type": "code",
   "execution_count": 7,
   "id": "realistic-blast",
   "metadata": {
    "execution": {
     "iopub.execute_input": "2022-10-09T00:53:59.490810Z",
     "iopub.status.busy": "2022-10-09T00:53:59.490071Z",
     "iopub.status.idle": "2022-10-09T00:53:59.492892Z",
     "shell.execute_reply": "2022-10-09T00:53:59.493455Z"
    },
    "papermill": {
     "duration": 0.043787,
     "end_time": "2022-10-09T00:53:59.493605",
     "exception": false,
     "start_time": "2022-10-09T00:53:59.449818",
     "status": "completed"
    },
    "tags": []
   },
   "outputs": [],
   "source": [
    "#hide\n",
    "def get_frame(name):\n",
    "    url = (\n",
    "        'https://raw.githubusercontent.com/CSSEGISandData/COVID-19/master/csse_covid_19_data/'\n",
    "        f'csse_covid_19_time_series/time_series_covid19_{name}_global.csv')\n",
    "    df = pd.read_csv(url)\n",
    "    # rename countries\n",
    "    df['Country/Region'] = df['Country/Region'].replace(mapping['replace.country'])\n",
    "    return df"
   ]
  },
  {
   "cell_type": "code",
   "execution_count": 8,
   "id": "affiliated-characterization",
   "metadata": {
    "execution": {
     "iopub.execute_input": "2022-10-09T00:53:59.568059Z",
     "iopub.status.busy": "2022-10-09T00:53:59.567312Z",
     "iopub.status.idle": "2022-10-09T00:53:59.570510Z",
     "shell.execute_reply": "2022-10-09T00:53:59.569976Z"
    },
    "papermill": {
     "duration": 0.043221,
     "end_time": "2022-10-09T00:53:59.570672",
     "exception": false,
     "start_time": "2022-10-09T00:53:59.527451",
     "status": "completed"
    },
    "tags": []
   },
   "outputs": [],
   "source": [
    "#hide\n",
    "def get_dates(df):\n",
    "    dt_cols = df.columns[~df.columns.isin(['Province/State', 'Country/Region', 'Lat', 'Long'])]\n",
    "    LAST_DATE_I = -1\n",
    "    # sometimes last column may be empty, then go backwards\n",
    "    for i in range(-1, -len(dt_cols), -1):\n",
    "        if not df[dt_cols[i]].fillna(0).eq(0).all():\n",
    "            LAST_DATE_I = i\n",
    "            break\n",
    "    return LAST_DATE_I, dt_cols"
   ]
  },
  {
   "cell_type": "code",
   "execution_count": 9,
   "id": "recent-optimization",
   "metadata": {
    "execution": {
     "iopub.execute_input": "2022-10-09T00:53:59.645254Z",
     "iopub.status.busy": "2022-10-09T00:53:59.644081Z",
     "iopub.status.idle": "2022-10-09T00:54:00.098195Z",
     "shell.execute_reply": "2022-10-09T00:54:00.098773Z"
    },
    "papermill": {
     "duration": 0.494696,
     "end_time": "2022-10-09T00:54:00.098946",
     "exception": false,
     "start_time": "2022-10-09T00:53:59.604250",
     "status": "completed"
    },
    "tags": []
   },
   "outputs": [],
   "source": [
    "#hide\n",
    "COL_REGION = 'Country/Region'\n",
    "# Confirmed, Recovered, Deaths\n",
    "df = get_frame('confirmed')\n",
    "# dft_: timeseries, dfc_: today country agg\n",
    "dft_cases = df\n",
    "dft_deaths = get_frame('deaths')\n",
    "dft_recovered = get_frame('recovered')\n",
    "LAST_DATE_I, dt_cols = get_dates(df)"
   ]
  },
  {
   "cell_type": "code",
   "execution_count": 10,
   "id": "absolute-copper",
   "metadata": {
    "execution": {
     "iopub.execute_input": "2022-10-09T00:54:00.173791Z",
     "iopub.status.busy": "2022-10-09T00:54:00.173075Z",
     "iopub.status.idle": "2022-10-09T00:54:00.175997Z",
     "shell.execute_reply": "2022-10-09T00:54:00.176652Z"
    },
    "papermill": {
     "duration": 0.043723,
     "end_time": "2022-10-09T00:54:00.176805",
     "exception": false,
     "start_time": "2022-10-09T00:54:00.133082",
     "status": "completed"
    },
    "tags": []
   },
   "outputs": [],
   "source": [
    "#hide\n",
    "LAST_DATE_I, dt_cols = get_dates(df)\n",
    "dt_today =dt_cols[LAST_DATE_I]\n",
    "# dt_5day = dt_cols[LAST_DATE_I - 5]\n",
    "dt_yday = dt_cols[LAST_DATE_I - 1]"
   ]
  },
  {
   "cell_type": "code",
   "execution_count": 11,
   "id": "restricted-sheriff",
   "metadata": {
    "execution": {
     "iopub.execute_input": "2022-10-09T00:54:00.252056Z",
     "iopub.status.busy": "2022-10-09T00:54:00.251351Z",
     "iopub.status.idle": "2022-10-09T00:54:00.259113Z",
     "shell.execute_reply": "2022-10-09T00:54:00.259777Z"
    },
    "papermill": {
     "duration": 0.049287,
     "end_time": "2022-10-09T00:54:00.259934",
     "exception": false,
     "start_time": "2022-10-09T00:54:00.210647",
     "status": "completed"
    },
    "tags": []
   },
   "outputs": [],
   "source": [
    "#hide\n",
    "dfc_cases = dft_cases.groupby(COL_REGION)[dt_today].sum()\n",
    "dfc_deaths = dft_deaths.groupby(COL_REGION)[dt_today].sum()\n",
    "# dfp_cases = dft_cases.groupby(COL_REGION)[dt_5day].sum()\n",
    "# dfp_deaths = dft_deaths.groupby(COL_REGION)[dt_5day].sum()\n",
    "dfp_cases = dft_cases.groupby(COL_REGION)[dt_yday].sum()\n",
    "dfp_deaths = dft_deaths.groupby(COL_REGION)[dt_yday].sum()"
   ]
  },
  {
   "cell_type": "code",
   "execution_count": 12,
   "id": "deluxe-hepatitis",
   "metadata": {
    "execution": {
     "iopub.execute_input": "2022-10-09T00:54:00.336777Z",
     "iopub.status.busy": "2022-10-09T00:54:00.336063Z",
     "iopub.status.idle": "2022-10-09T00:54:00.347946Z",
     "shell.execute_reply": "2022-10-09T00:54:00.347287Z"
    },
    "papermill": {
     "duration": 0.054465,
     "end_time": "2022-10-09T00:54:00.348172",
     "exception": false,
     "start_time": "2022-10-09T00:54:00.293707",
     "status": "completed"
    },
    "tags": []
   },
   "outputs": [],
   "source": [
    "#hide\n",
    "df_table = (pd.DataFrame(dict(Cases = dfc_cases, Deaths = dfc_deaths, PCases = dfp_cases, PDeaths = dfp_deaths))\n",
    "            .sort_values(by = ['Cases','Deaths'], ascending = [False, False])\n",
    "            .reset_index())"
   ]
  },
  {
   "cell_type": "code",
   "execution_count": 13,
   "id": "educational-chancellor",
   "metadata": {
    "execution": {
     "iopub.execute_input": "2022-10-09T00:54:00.451124Z",
     "iopub.status.busy": "2022-10-09T00:54:00.450341Z",
     "iopub.status.idle": "2022-10-09T00:54:00.461439Z",
     "shell.execute_reply": "2022-10-09T00:54:00.460873Z"
    },
    "papermill": {
     "duration": 0.067131,
     "end_time": "2022-10-09T00:54:00.461572",
     "exception": false,
     "start_time": "2022-10-09T00:54:00.394441",
     "status": "completed"
    },
    "tags": []
   },
   "outputs": [
    {
     "data": {
      "text/html": [
       "<div>\n",
       "<style scoped>\n",
       "    .dataframe tbody tr th:only-of-type {\n",
       "        vertical-align: middle;\n",
       "    }\n",
       "\n",
       "    .dataframe tbody tr th {\n",
       "        vertical-align: top;\n",
       "    }\n",
       "\n",
       "    .dataframe thead th {\n",
       "        text-align: right;\n",
       "    }\n",
       "</style>\n",
       "<table border=\"1\" class=\"dataframe\">\n",
       "  <thead>\n",
       "    <tr style=\"text-align: right;\">\n",
       "      <th></th>\n",
       "      <th>Country/Region</th>\n",
       "      <th>Cases</th>\n",
       "      <th>Deaths</th>\n",
       "      <th>PCases</th>\n",
       "      <th>PDeaths</th>\n",
       "      <th>Cases (+)</th>\n",
       "      <th>Deaths (+)</th>\n",
       "      <th>Fatality Rate</th>\n",
       "      <th>Continent</th>\n",
       "    </tr>\n",
       "  </thead>\n",
       "  <tbody>\n",
       "    <tr>\n",
       "      <th>0</th>\n",
       "      <td>US</td>\n",
       "      <td>96686904</td>\n",
       "      <td>1062513</td>\n",
       "      <td>96613460</td>\n",
       "      <td>1062130</td>\n",
       "      <td>73444</td>\n",
       "      <td>383</td>\n",
       "      <td>1.10</td>\n",
       "      <td>North America</td>\n",
       "    </tr>\n",
       "    <tr>\n",
       "      <th>1</th>\n",
       "      <td>India</td>\n",
       "      <td>44609257</td>\n",
       "      <td>528778</td>\n",
       "      <td>44606460</td>\n",
       "      <td>528754</td>\n",
       "      <td>2797</td>\n",
       "      <td>24</td>\n",
       "      <td>1.19</td>\n",
       "      <td>Asia</td>\n",
       "    </tr>\n",
       "    <tr>\n",
       "      <th>2</th>\n",
       "      <td>France</td>\n",
       "      <td>35983605</td>\n",
       "      <td>156462</td>\n",
       "      <td>35922441</td>\n",
       "      <td>156409</td>\n",
       "      <td>61164</td>\n",
       "      <td>53</td>\n",
       "      <td>0.43</td>\n",
       "      <td>Europe</td>\n",
       "    </tr>\n",
       "    <tr>\n",
       "      <th>3</th>\n",
       "      <td>Brazil</td>\n",
       "      <td>34707233</td>\n",
       "      <td>686706</td>\n",
       "      <td>34707233</td>\n",
       "      <td>686706</td>\n",
       "      <td>0</td>\n",
       "      <td>0</td>\n",
       "      <td>1.98</td>\n",
       "      <td>South America</td>\n",
       "    </tr>\n",
       "    <tr>\n",
       "      <th>4</th>\n",
       "      <td>Germany</td>\n",
       "      <td>33948632</td>\n",
       "      <td>150535</td>\n",
       "      <td>33826367</td>\n",
       "      <td>150406</td>\n",
       "      <td>122265</td>\n",
       "      <td>129</td>\n",
       "      <td>0.44</td>\n",
       "      <td>Europe</td>\n",
       "    </tr>\n",
       "  </tbody>\n",
       "</table>\n",
       "</div>"
      ],
      "text/plain": [
       "  Country/Region     Cases   Deaths    PCases  PDeaths  Cases (+)  Deaths (+)  \\\n",
       "0             US  96686904  1062513  96613460  1062130      73444         383   \n",
       "1          India  44609257   528778  44606460   528754       2797          24   \n",
       "2         France  35983605   156462  35922441   156409      61164          53   \n",
       "3         Brazil  34707233   686706  34707233   686706          0           0   \n",
       "4        Germany  33948632   150535  33826367   150406     122265         129   \n",
       "\n",
       "   Fatality Rate      Continent  \n",
       "0           1.10  North America  \n",
       "1           1.19           Asia  \n",
       "2           0.43         Europe  \n",
       "3           1.98  South America  \n",
       "4           0.44         Europe  "
      ]
     },
     "execution_count": 13,
     "metadata": {},
     "output_type": "execute_result"
    }
   ],
   "source": [
    "#hide\n",
    "for c in 'Cases, Deaths'.split(', '):\n",
    "    df_table[f'{c} (+)'] = (df_table[c] - df_table[f'P{c}']).clip(0)\n",
    "    #Clip ça veut dire, les chiffres negatif sont interdit\n",
    "df_table['Fatality Rate'] = (100* df_table['Deaths']/ df_table['Cases']).round(2)\n",
    "df_table['Continent'] = df_table['Country/Region'].map(mapping['map.continent'])\n",
    "df_table.head(5)"
   ]
  },
  {
   "cell_type": "code",
   "execution_count": 14,
   "id": "aboriginal-bulgaria",
   "metadata": {
    "execution": {
     "iopub.execute_input": "2022-10-09T00:54:00.541306Z",
     "iopub.status.busy": "2022-10-09T00:54:00.540549Z",
     "iopub.status.idle": "2022-10-09T00:54:00.544026Z",
     "shell.execute_reply": "2022-10-09T00:54:00.543352Z"
    },
    "papermill": {
     "duration": 0.047792,
     "end_time": "2022-10-09T00:54:00.544159",
     "exception": false,
     "start_time": "2022-10-09T00:54:00.496367",
     "status": "completed"
    },
    "tags": []
   },
   "outputs": [],
   "source": [
    "#hide\n",
    "#delete problematic countries from table\n",
    "df_table = df_table[~df_table['Country/Region'].isin(['Cape Verde', 'Cruise Ship', 'Kosovo'])]"
   ]
  },
  {
   "cell_type": "code",
   "execution_count": 15,
   "id": "fantastic-effect",
   "metadata": {
    "execution": {
     "iopub.execute_input": "2022-10-09T00:54:00.623327Z",
     "iopub.status.busy": "2022-10-09T00:54:00.622553Z",
     "iopub.status.idle": "2022-10-09T00:54:00.642979Z",
     "shell.execute_reply": "2022-10-09T00:54:00.643653Z"
    },
    "papermill": {
     "duration": 0.065334,
     "end_time": "2022-10-09T00:54:00.643836",
     "exception": false,
     "start_time": "2022-10-09T00:54:00.578502",
     "status": "completed"
    },
    "tags": []
   },
   "outputs": [
    {
     "data": {
      "text/html": [
       "<div>\n",
       "<style scoped>\n",
       "    .dataframe tbody tr th:only-of-type {\n",
       "        vertical-align: middle;\n",
       "    }\n",
       "\n",
       "    .dataframe tbody tr th {\n",
       "        vertical-align: top;\n",
       "    }\n",
       "\n",
       "    .dataframe thead th {\n",
       "        text-align: right;\n",
       "    }\n",
       "</style>\n",
       "<table border=\"1\" class=\"dataframe\">\n",
       "  <thead>\n",
       "    <tr style=\"text-align: right;\">\n",
       "      <th></th>\n",
       "      <th>Country/Region</th>\n",
       "      <th>Cases</th>\n",
       "      <th>Deaths</th>\n",
       "      <th>PCases</th>\n",
       "      <th>PDeaths</th>\n",
       "      <th>Cases (+)</th>\n",
       "      <th>Deaths (+)</th>\n",
       "      <th>Fatality Rate</th>\n",
       "      <th>Continent</th>\n",
       "    </tr>\n",
       "  </thead>\n",
       "  <tbody>\n",
       "    <tr>\n",
       "      <th>0</th>\n",
       "      <td>US</td>\n",
       "      <td>96686904</td>\n",
       "      <td>1062513</td>\n",
       "      <td>96613460</td>\n",
       "      <td>1062130</td>\n",
       "      <td>73444</td>\n",
       "      <td>383</td>\n",
       "      <td>1.1</td>\n",
       "      <td>North America</td>\n",
       "    </tr>\n",
       "    <tr>\n",
       "      <th>1</th>\n",
       "      <td>India</td>\n",
       "      <td>44609257</td>\n",
       "      <td>528778</td>\n",
       "      <td>44606460</td>\n",
       "      <td>528754</td>\n",
       "      <td>2797</td>\n",
       "      <td>24</td>\n",
       "      <td>1.2</td>\n",
       "      <td>Asia</td>\n",
       "    </tr>\n",
       "    <tr>\n",
       "      <th>2</th>\n",
       "      <td>France</td>\n",
       "      <td>35983605</td>\n",
       "      <td>156462</td>\n",
       "      <td>35922441</td>\n",
       "      <td>156409</td>\n",
       "      <td>61164</td>\n",
       "      <td>53</td>\n",
       "      <td>0.4</td>\n",
       "      <td>Europe</td>\n",
       "    </tr>\n",
       "    <tr>\n",
       "      <th>3</th>\n",
       "      <td>Brazil</td>\n",
       "      <td>34707233</td>\n",
       "      <td>686706</td>\n",
       "      <td>34707233</td>\n",
       "      <td>686706</td>\n",
       "      <td>0</td>\n",
       "      <td>0</td>\n",
       "      <td>2.0</td>\n",
       "      <td>South America</td>\n",
       "    </tr>\n",
       "    <tr>\n",
       "      <th>4</th>\n",
       "      <td>Germany</td>\n",
       "      <td>33948632</td>\n",
       "      <td>150535</td>\n",
       "      <td>33826367</td>\n",
       "      <td>150406</td>\n",
       "      <td>122265</td>\n",
       "      <td>129</td>\n",
       "      <td>0.4</td>\n",
       "      <td>Europe</td>\n",
       "    </tr>\n",
       "  </tbody>\n",
       "</table>\n",
       "</div>"
      ],
      "text/plain": [
       "  Country/Region     Cases   Deaths    PCases  PDeaths  Cases (+)  Deaths (+)  \\\n",
       "0             US  96686904  1062513  96613460  1062130      73444         383   \n",
       "1          India  44609257   528778  44606460   528754       2797          24   \n",
       "2         France  35983605   156462  35922441   156409      61164          53   \n",
       "3         Brazil  34707233   686706  34707233   686706          0           0   \n",
       "4        Germany  33948632   150535  33826367   150406     122265         129   \n",
       "\n",
       "   Fatality Rate      Continent  \n",
       "0            1.1  North America  \n",
       "1            1.2           Asia  \n",
       "2            0.4         Europe  \n",
       "3            2.0  South America  \n",
       "4            0.4         Europe  "
      ]
     },
     "execution_count": 15,
     "metadata": {},
     "output_type": "execute_result"
    }
   ],
   "source": [
    "#hide\n",
    "df_table = (pd.DataFrame(dict(Cases=dfc_cases, Deaths=dfc_deaths, PCases=dfp_cases, PDeaths=dfp_deaths))\n",
    "             .sort_values(by=['Cases', 'Deaths'], ascending=[False, False])\n",
    "             .reset_index())\n",
    "df_table.rename(columns={'index': 'Country/Region'}, inplace=True)\n",
    "for c in 'Cases, Deaths'.split(', '):\n",
    "    df_table[f'{c} (+)'] = (df_table[c] - df_table[f'P{c}']).clip(0)  # DATA BUG\n",
    "df_table['Fatality Rate'] = (100 * df_table['Deaths'] / df_table['Cases']).round(1)\n",
    "df_table['Continent'] = df_table['Country/Region'].map(mapping['map.continent'])\n",
    "df_table.head(5)"
   ]
  },
  {
   "cell_type": "code",
   "execution_count": 16,
   "id": "fewer-occasion",
   "metadata": {
    "execution": {
     "iopub.execute_input": "2022-10-09T00:54:00.722339Z",
     "iopub.status.busy": "2022-10-09T00:54:00.721624Z",
     "iopub.status.idle": "2022-10-09T00:54:00.724501Z",
     "shell.execute_reply": "2022-10-09T00:54:00.723934Z"
    },
    "papermill": {
     "duration": 0.045031,
     "end_time": "2022-10-09T00:54:00.724629",
     "exception": false,
     "start_time": "2022-10-09T00:54:00.679598",
     "status": "completed"
    },
    "tags": []
   },
   "outputs": [],
   "source": [
    "#hide\n",
    "#delete problematic countries from table\n",
    "df_table = df_table[~df_table['Country/Region'].isin(['Cape Verde', 'Cruise Ship', 'Kosovo'])]"
   ]
  },
  {
   "cell_type": "code",
   "execution_count": 17,
   "id": "related-center",
   "metadata": {
    "execution": {
     "iopub.execute_input": "2022-10-09T00:54:00.804773Z",
     "iopub.status.busy": "2022-10-09T00:54:00.804060Z",
     "iopub.status.idle": "2022-10-09T00:54:00.818543Z",
     "shell.execute_reply": "2022-10-09T00:54:00.817959Z"
    },
    "papermill": {
     "duration": 0.059245,
     "end_time": "2022-10-09T00:54:00.818699",
     "exception": false,
     "start_time": "2022-10-09T00:54:00.759454",
     "status": "completed"
    },
    "tags": []
   },
   "outputs": [],
   "source": [
    "#hide\n",
    "metrics = [df_table.columns[index] for index in [1,2,5,6]]\n",
    "# s_china = df_table[df_table['Country/Region'].eq('China')][metrics].sum().add_prefix('China ')\n",
    "s_us = df_table[df_table['Country/Region'].eq('US')][metrics].sum().add_prefix('US ')\n",
    "s_eu = df_table[df_table['Continent'].eq('Europe')][metrics].sum().add_prefix('EU ')\n",
    "s_ind = df_table[df_table['Country/Region'].eq('India')][metrics].sum().add_prefix('India ')\n",
    "summary = {'updated': pd.to_datetime(dt_today), 'since': pd.to_datetime(dt_yday)}\n",
    "summary = {'updated': pd.to_datetime(dt_today), 'since': pd.to_datetime(dt_yday)}\n",
    "summary = {**summary, **df_table[metrics].sum(), **s_ind, **s_us, **s_eu}"
   ]
  },
  {
   "cell_type": "code",
   "execution_count": 18,
   "id": "engaging-syndrome",
   "metadata": {
    "execution": {
     "iopub.execute_input": "2022-10-09T00:54:00.895116Z",
     "iopub.status.busy": "2022-10-09T00:54:00.894357Z",
     "iopub.status.idle": "2022-10-09T00:54:00.920127Z",
     "shell.execute_reply": "2022-10-09T00:54:00.919346Z"
    },
    "papermill": {
     "duration": 0.066625,
     "end_time": "2022-10-09T00:54:00.920299",
     "exception": false,
     "start_time": "2022-10-09T00:54:00.853674",
     "status": "completed"
    },
    "tags": []
   },
   "outputs": [],
   "source": [
    "#hide\n",
    "dft_ct_new_cases = dft_cases.groupby(COL_REGION)[dt_cols].sum().diff(axis=1).fillna(0).astype(int)"
   ]
  },
  {
   "cell_type": "code",
   "execution_count": 19,
   "id": "neutral-assignment",
   "metadata": {
    "execution": {
     "iopub.execute_input": "2022-10-09T00:54:00.999050Z",
     "iopub.status.busy": "2022-10-09T00:54:00.998286Z",
     "iopub.status.idle": "2022-10-09T00:54:01.000591Z",
     "shell.execute_reply": "2022-10-09T00:54:01.001148Z"
    },
    "papermill": {
     "duration": 0.04576,
     "end_time": "2022-10-09T00:54:01.001299",
     "exception": false,
     "start_time": "2022-10-09T00:54:00.955539",
     "status": "completed"
    },
    "tags": []
   },
   "outputs": [],
   "source": [
    "#hide\n",
    "everydaycases = dft_ct_new_cases.cumsum(axis=1)"
   ]
  },
  {
   "cell_type": "code",
   "execution_count": 20,
   "id": "parliamentary-calgary",
   "metadata": {
    "execution": {
     "iopub.execute_input": "2022-10-09T00:54:01.077294Z",
     "iopub.status.busy": "2022-10-09T00:54:01.076573Z",
     "iopub.status.idle": "2022-10-09T00:54:01.718071Z",
     "shell.execute_reply": "2022-10-09T00:54:01.717475Z"
    },
    "papermill": {
     "duration": 0.681284,
     "end_time": "2022-10-09T00:54:01.718212",
     "exception": false,
     "start_time": "2022-10-09T00:54:01.036928",
     "status": "completed"
    },
    "tags": []
   },
   "outputs": [],
   "source": [
    "#hide\n",
    "import pandas as pd\n",
    "import matplotlib.pyplot as plt\n",
    "import matplotlib.ticker as ticker\n",
    "import matplotlib.animation as animation\n",
    "from IPython.display import HTML"
   ]
  },
  {
   "cell_type": "code",
   "execution_count": 21,
   "id": "lasting-extraction",
   "metadata": {
    "execution": {
     "iopub.execute_input": "2022-10-09T00:54:01.795824Z",
     "iopub.status.busy": "2022-10-09T00:54:01.795108Z",
     "iopub.status.idle": "2022-10-09T00:54:01.803232Z",
     "shell.execute_reply": "2022-10-09T00:54:01.803889Z"
    },
    "papermill": {
     "duration": 0.051025,
     "end_time": "2022-10-09T00:54:01.804040",
     "exception": false,
     "start_time": "2022-10-09T00:54:01.753015",
     "status": "completed"
    },
    "tags": []
   },
   "outputs": [],
   "source": [
    "#hide\n",
    "t = everydaycases.stack()"
   ]
  },
  {
   "cell_type": "code",
   "execution_count": 22,
   "id": "premier-sleeve",
   "metadata": {
    "execution": {
     "iopub.execute_input": "2022-10-09T00:54:01.880318Z",
     "iopub.status.busy": "2022-10-09T00:54:01.879627Z",
     "iopub.status.idle": "2022-10-09T00:54:01.896092Z",
     "shell.execute_reply": "2022-10-09T00:54:01.897023Z"
    },
    "papermill": {
     "duration": 0.058121,
     "end_time": "2022-10-09T00:54:01.897266",
     "exception": false,
     "start_time": "2022-10-09T00:54:01.839145",
     "status": "completed"
    },
    "tags": []
   },
   "outputs": [],
   "source": [
    "#hide\n",
    "g = t.reset_index(['Country/Region'])"
   ]
  },
  {
   "cell_type": "code",
   "execution_count": 23,
   "id": "distributed-pittsburgh",
   "metadata": {
    "execution": {
     "iopub.execute_input": "2022-10-09T00:54:01.973330Z",
     "iopub.status.busy": "2022-10-09T00:54:01.972576Z",
     "iopub.status.idle": "2022-10-09T00:54:01.975288Z",
     "shell.execute_reply": "2022-10-09T00:54:01.974609Z"
    },
    "papermill": {
     "duration": 0.04193,
     "end_time": "2022-10-09T00:54:01.975416",
     "exception": false,
     "start_time": "2022-10-09T00:54:01.933486",
     "status": "completed"
    },
    "tags": []
   },
   "outputs": [],
   "source": [
    "#hide\n",
    "g.index.name = 'date'"
   ]
  },
  {
   "cell_type": "code",
   "execution_count": 24,
   "id": "naked-donor",
   "metadata": {
    "execution": {
     "iopub.execute_input": "2022-10-09T00:54:02.059406Z",
     "iopub.status.busy": "2022-10-09T00:54:02.058327Z",
     "iopub.status.idle": "2022-10-09T00:54:02.061759Z",
     "shell.execute_reply": "2022-10-09T00:54:02.061212Z"
    },
    "papermill": {
     "duration": 0.044403,
     "end_time": "2022-10-09T00:54:02.061960",
     "exception": false,
     "start_time": "2022-10-09T00:54:02.017557",
     "status": "completed"
    },
    "tags": []
   },
   "outputs": [],
   "source": [
    "# #hide\n",
    "# g = g.reset_index(['date'])"
   ]
  },
  {
   "cell_type": "code",
   "execution_count": 25,
   "id": "incomplete-mustang",
   "metadata": {
    "execution": {
     "iopub.execute_input": "2022-10-09T00:54:02.155057Z",
     "iopub.status.busy": "2022-10-09T00:54:02.154278Z",
     "iopub.status.idle": "2022-10-09T00:54:02.156958Z",
     "shell.execute_reply": "2022-10-09T00:54:02.157458Z"
    },
    "papermill": {
     "duration": 0.051883,
     "end_time": "2022-10-09T00:54:02.157613",
     "exception": false,
     "start_time": "2022-10-09T00:54:02.105730",
     "status": "completed"
    },
    "tags": []
   },
   "outputs": [],
   "source": [
    "#hide\n",
    "# g.head()"
   ]
  },
  {
   "cell_type": "code",
   "execution_count": 26,
   "id": "specific-kruger",
   "metadata": {
    "execution": {
     "iopub.execute_input": "2022-10-09T00:54:02.232590Z",
     "iopub.status.busy": "2022-10-09T00:54:02.231745Z",
     "iopub.status.idle": "2022-10-09T00:54:02.235376Z",
     "shell.execute_reply": "2022-10-09T00:54:02.234663Z"
    },
    "papermill": {
     "duration": 0.042734,
     "end_time": "2022-10-09T00:54:02.235508",
     "exception": false,
     "start_time": "2022-10-09T00:54:02.192774",
     "status": "completed"
    },
    "tags": []
   },
   "outputs": [],
   "source": [
    "#hide\n",
    "# g.columns = ['date','country','cases']"
   ]
  },
  {
   "cell_type": "code",
   "execution_count": 27,
   "id": "tender-conversion",
   "metadata": {
    "execution": {
     "iopub.execute_input": "2022-10-09T00:54:02.310320Z",
     "iopub.status.busy": "2022-10-09T00:54:02.309597Z",
     "iopub.status.idle": "2022-10-09T00:54:02.313020Z",
     "shell.execute_reply": "2022-10-09T00:54:02.312209Z"
    },
    "papermill": {
     "duration": 0.042657,
     "end_time": "2022-10-09T00:54:02.313150",
     "exception": false,
     "start_time": "2022-10-09T00:54:02.270493",
     "status": "completed"
    },
    "tags": []
   },
   "outputs": [],
   "source": [
    "#hide\n",
    "# g['continent'] = g.country"
   ]
  },
  {
   "cell_type": "code",
   "execution_count": 28,
   "id": "substantial-wilderness",
   "metadata": {
    "execution": {
     "iopub.execute_input": "2022-10-09T00:54:02.409428Z",
     "iopub.status.busy": "2022-10-09T00:54:02.408731Z",
     "iopub.status.idle": "2022-10-09T00:54:02.413857Z",
     "shell.execute_reply": "2022-10-09T00:54:02.413323Z"
    },
    "papermill": {
     "duration": 0.053629,
     "end_time": "2022-10-09T00:54:02.413988",
     "exception": false,
     "start_time": "2022-10-09T00:54:02.360359",
     "status": "completed"
    },
    "tags": []
   },
   "outputs": [],
   "source": [
    "#hide\n",
    "# cols = list(g.columns.values)"
   ]
  },
  {
   "cell_type": "code",
   "execution_count": 29,
   "id": "solved-farming",
   "metadata": {
    "execution": {
     "iopub.execute_input": "2022-10-09T00:54:02.488416Z",
     "iopub.status.busy": "2022-10-09T00:54:02.487696Z",
     "iopub.status.idle": "2022-10-09T00:54:02.489900Z",
     "shell.execute_reply": "2022-10-09T00:54:02.489243Z"
    },
    "papermill": {
     "duration": 0.041159,
     "end_time": "2022-10-09T00:54:02.490025",
     "exception": false,
     "start_time": "2022-10-09T00:54:02.448866",
     "status": "completed"
    },
    "tags": []
   },
   "outputs": [],
   "source": [
    "#hide\n",
    "# cols.insert(0, cols.pop())"
   ]
  },
  {
   "cell_type": "code",
   "execution_count": 30,
   "id": "executed-adoption",
   "metadata": {
    "execution": {
     "iopub.execute_input": "2022-10-09T00:54:02.565320Z",
     "iopub.status.busy": "2022-10-09T00:54:02.564627Z",
     "iopub.status.idle": "2022-10-09T00:54:02.567161Z",
     "shell.execute_reply": "2022-10-09T00:54:02.567685Z"
    },
    "papermill": {
     "duration": 0.042359,
     "end_time": "2022-10-09T00:54:02.567829",
     "exception": false,
     "start_time": "2022-10-09T00:54:02.525470",
     "status": "completed"
    },
    "tags": []
   },
   "outputs": [],
   "source": [
    "#hide\n",
    "# g = g[cols]"
   ]
  },
  {
   "cell_type": "code",
   "execution_count": 31,
   "id": "subject-dublin",
   "metadata": {
    "execution": {
     "iopub.execute_input": "2022-10-09T00:54:02.642216Z",
     "iopub.status.busy": "2022-10-09T00:54:02.641520Z",
     "iopub.status.idle": "2022-10-09T00:54:02.644561Z",
     "shell.execute_reply": "2022-10-09T00:54:02.644000Z"
    },
    "papermill": {
     "duration": 0.041823,
     "end_time": "2022-10-09T00:54:02.644686",
     "exception": false,
     "start_time": "2022-10-09T00:54:02.602863",
     "status": "completed"
    },
    "tags": []
   },
   "outputs": [],
   "source": [
    "#hide\n",
    "# g['continent'] = g['continent'].map(mapping['map.continent'])"
   ]
  },
  {
   "cell_type": "code",
   "execution_count": 32,
   "id": "freelance-scout",
   "metadata": {
    "execution": {
     "iopub.execute_input": "2022-10-09T00:54:02.719573Z",
     "iopub.status.busy": "2022-10-09T00:54:02.718826Z",
     "iopub.status.idle": "2022-10-09T00:54:02.722413Z",
     "shell.execute_reply": "2022-10-09T00:54:02.721842Z"
    },
    "papermill": {
     "duration": 0.042935,
     "end_time": "2022-10-09T00:54:02.722543",
     "exception": false,
     "start_time": "2022-10-09T00:54:02.679608",
     "status": "completed"
    },
    "tags": []
   },
   "outputs": [],
   "source": [
    "#hide\n",
    "# g.head()"
   ]
  },
  {
   "cell_type": "code",
   "execution_count": 33,
   "id": "limited-engine",
   "metadata": {
    "execution": {
     "iopub.execute_input": "2022-10-09T00:54:02.796678Z",
     "iopub.status.busy": "2022-10-09T00:54:02.795966Z",
     "iopub.status.idle": "2022-10-09T00:54:02.798818Z",
     "shell.execute_reply": "2022-10-09T00:54:02.798208Z"
    },
    "papermill": {
     "duration": 0.04157,
     "end_time": "2022-10-09T00:54:02.798949",
     "exception": false,
     "start_time": "2022-10-09T00:54:02.757379",
     "status": "completed"
    },
    "tags": []
   },
   "outputs": [],
   "source": [
    "# hide\n",
    "# g['date'] = g['date'].astype('datetime64[ns]')"
   ]
  },
  {
   "cell_type": "code",
   "execution_count": 34,
   "id": "sophisticated-supervisor",
   "metadata": {
    "execution": {
     "iopub.execute_input": "2022-10-09T00:54:02.873967Z",
     "iopub.status.busy": "2022-10-09T00:54:02.873227Z",
     "iopub.status.idle": "2022-10-09T00:54:02.876447Z",
     "shell.execute_reply": "2022-10-09T00:54:02.875782Z"
    },
    "papermill": {
     "duration": 0.042578,
     "end_time": "2022-10-09T00:54:02.876587",
     "exception": false,
     "start_time": "2022-10-09T00:54:02.834009",
     "status": "completed"
    },
    "tags": []
   },
   "outputs": [],
   "source": [
    "#hide\n",
    "# g['date'] = g.date.dt.dayofyear"
   ]
  },
  {
   "cell_type": "code",
   "execution_count": 35,
   "id": "inside-dubai",
   "metadata": {
    "execution": {
     "iopub.execute_input": "2022-10-09T00:54:02.958022Z",
     "iopub.status.busy": "2022-10-09T00:54:02.957253Z",
     "iopub.status.idle": "2022-10-09T00:54:02.962091Z",
     "shell.execute_reply": "2022-10-09T00:54:02.962824Z"
    },
    "papermill": {
     "duration": 0.048376,
     "end_time": "2022-10-09T00:54:02.962988",
     "exception": false,
     "start_time": "2022-10-09T00:54:02.914612",
     "status": "completed"
    },
    "tags": []
   },
   "outputs": [],
   "source": [
    "#hide\n",
    "# g = g.rename(columns= {'continent':'group','country':'name','cases':'value'})"
   ]
  },
  {
   "cell_type": "code",
   "execution_count": 36,
   "id": "fleet-motorcycle",
   "metadata": {
    "execution": {
     "iopub.execute_input": "2022-10-09T00:54:03.047373Z",
     "iopub.status.busy": "2022-10-09T00:54:03.046416Z",
     "iopub.status.idle": "2022-10-09T00:54:03.050166Z",
     "shell.execute_reply": "2022-10-09T00:54:03.049606Z"
    },
    "papermill": {
     "duration": 0.047995,
     "end_time": "2022-10-09T00:54:03.050294",
     "exception": false,
     "start_time": "2022-10-09T00:54:03.002299",
     "status": "completed"
    },
    "tags": []
   },
   "outputs": [],
   "source": [
    "#hide\n",
    "# cols = ['name','group','day','value']"
   ]
  },
  {
   "cell_type": "code",
   "execution_count": 37,
   "id": "continued-sleeping",
   "metadata": {
    "execution": {
     "iopub.execute_input": "2022-10-09T00:54:03.135928Z",
     "iopub.status.busy": "2022-10-09T00:54:03.135192Z",
     "iopub.status.idle": "2022-10-09T00:54:03.139500Z",
     "shell.execute_reply": "2022-10-09T00:54:03.138809Z"
    },
    "papermill": {
     "duration": 0.046626,
     "end_time": "2022-10-09T00:54:03.139630",
     "exception": false,
     "start_time": "2022-10-09T00:54:03.093004",
     "status": "completed"
    },
    "tags": []
   },
   "outputs": [],
   "source": [
    "#hide\n",
    "# g.rename(columns= {'date':'day'},inplace = True)"
   ]
  },
  {
   "cell_type": "code",
   "execution_count": 38,
   "id": "major-fight",
   "metadata": {
    "execution": {
     "iopub.execute_input": "2022-10-09T00:54:03.214746Z",
     "iopub.status.busy": "2022-10-09T00:54:03.213956Z",
     "iopub.status.idle": "2022-10-09T00:54:03.218504Z",
     "shell.execute_reply": "2022-10-09T00:54:03.217887Z"
    },
    "papermill": {
     "duration": 0.04389,
     "end_time": "2022-10-09T00:54:03.218653",
     "exception": false,
     "start_time": "2022-10-09T00:54:03.174763",
     "status": "completed"
    },
    "tags": []
   },
   "outputs": [],
   "source": [
    "#hide\n",
    "# g = g[cols]"
   ]
  },
  {
   "cell_type": "code",
   "execution_count": 39,
   "id": "structured-mobile",
   "metadata": {
    "execution": {
     "iopub.execute_input": "2022-10-09T00:54:03.299259Z",
     "iopub.status.busy": "2022-10-09T00:54:03.298491Z",
     "iopub.status.idle": "2022-10-09T00:54:03.301788Z",
     "shell.execute_reply": "2022-10-09T00:54:03.302343Z"
    },
    "papermill": {
     "duration": 0.046189,
     "end_time": "2022-10-09T00:54:03.302489",
     "exception": false,
     "start_time": "2022-10-09T00:54:03.256300",
     "status": "completed"
    },
    "tags": []
   },
   "outputs": [],
   "source": [
    "# #hide\n",
    "# g = g[g.group.notna()]"
   ]
  },
  {
   "cell_type": "code",
   "execution_count": 40,
   "id": "determined-closing",
   "metadata": {
    "execution": {
     "iopub.execute_input": "2022-10-09T00:54:03.386828Z",
     "iopub.status.busy": "2022-10-09T00:54:03.386035Z",
     "iopub.status.idle": "2022-10-09T00:54:03.388530Z",
     "shell.execute_reply": "2022-10-09T00:54:03.387865Z"
    },
    "papermill": {
     "duration": 0.047307,
     "end_time": "2022-10-09T00:54:03.388655",
     "exception": false,
     "start_time": "2022-10-09T00:54:03.341348",
     "status": "completed"
    },
    "tags": []
   },
   "outputs": [],
   "source": [
    "# #hide\n",
    "# colors = dict(zip(\n",
    "#     [\"Oceania\", \"Europe\", \"Asia\", \"South America\", \"Middle East\", \"North America\", \"Africa\"],\n",
    "#     [\"#adb0ff\", \"#ffb3ff\", \"#90d595\", \"#e48381\", \"#aafbff\", \"#f7bb5f\", \"#eafb50\"]\n",
    "# ))\n",
    "# group_lk = g.set_index('name')['group'].to_dict()"
   ]
  },
  {
   "cell_type": "code",
   "execution_count": null,
   "id": "gross-drinking",
   "metadata": {
    "papermill": {
     "duration": 0.034799,
     "end_time": "2022-10-09T00:54:03.458477",
     "exception": false,
     "start_time": "2022-10-09T00:54:03.423678",
     "status": "completed"
    },
    "tags": []
   },
   "outputs": [],
   "source": []
  },
  {
   "cell_type": "code",
   "execution_count": 41,
   "id": "subject-macintosh",
   "metadata": {
    "execution": {
     "iopub.execute_input": "2022-10-09T00:54:03.534150Z",
     "iopub.status.busy": "2022-10-09T00:54:03.533440Z",
     "iopub.status.idle": "2022-10-09T00:54:03.536456Z",
     "shell.execute_reply": "2022-10-09T00:54:03.536986Z"
    },
    "papermill": {
     "duration": 0.043603,
     "end_time": "2022-10-09T00:54:03.537131",
     "exception": false,
     "start_time": "2022-10-09T00:54:03.493528",
     "status": "completed"
    },
    "tags": []
   },
   "outputs": [],
   "source": [
    "# #hide\n",
    "# fig, ax = plt.subplots(figsize=(15, 8))\n",
    "\n",
    "# def draw_barchart(current_day):\n",
    "#     dff = g[g['day'].eq(current_day)].sort_values(by='value', ascending=True).tail(10)\n",
    "#     ax.clear()\n",
    "#     ax.barh(dff['name'], dff['value'], color=[colors[group_lk[x]] for x in dff['name']])\n",
    "#     dx = dff['value'].max() / 200\n",
    "    \n",
    "#     for i, (value, name) in enumerate(zip(dff['value'], dff['name'])):\n",
    "#         ax.text(value-dx, i,     name,           size=14, weight=600, ha='right', va='bottom')\n",
    "#         ax.text(value-dx, i-.25, group_lk[name], size=10, color='#444444', ha='right', va='baseline')\n",
    "#         ax.text(value+dx, i,     f'{value:,.0f}',  size=14, ha='left',  va='center')\n",
    "#     ax.text(1, 0.4, current_day, transform=ax.transAxes, color='#777777', size=46, ha='right', weight=800)\n",
    "#     ax.text(0, 1.06, 'Population (thousands)', transform=ax.transAxes, size=12, color='#777777')\n",
    "#     ax.xaxis.set_major_formatter(ticker.StrMethodFormatter('{x:,.0f}'))\n",
    "#     ax.xaxis.set_ticks_position('top')\n",
    "#     ax.tick_params(axis='x', colors='#777777', labelsize=12)\n",
    "#     ax.set_yticks([])\n",
    "#     ax.margins(0, 0.01)\n",
    "#     ax.grid(which='major', axis='x', linestyle='-')\n",
    "#     ax.set_axisbelow(True)\n",
    "    \n",
    "#     ax.text(0, 1.15, 'Coronavirus',\n",
    "#             transform=ax.transAxes, size=24, weight=600, ha='left', va='top')\n",
    "# #     ax.text(1, 0, 'by @pratapvardhan; credit @jburnmurdoch', transform=ax.transAxes, color='#777777', ha='right',\n",
    "# #             bbox=dict(facecolor='white', alpha=0.8, edgecolor='white'))\n",
    "#     plt.box(False)"
   ]
  },
  {
   "cell_type": "code",
   "execution_count": 42,
   "id": "sexual-wages",
   "metadata": {
    "execution": {
     "iopub.execute_input": "2022-10-09T00:54:03.611559Z",
     "iopub.status.busy": "2022-10-09T00:54:03.610855Z",
     "iopub.status.idle": "2022-10-09T00:54:03.614014Z",
     "shell.execute_reply": "2022-10-09T00:54:03.613333Z"
    },
    "papermill": {
     "duration": 0.04218,
     "end_time": "2022-10-09T00:54:03.614143",
     "exception": false,
     "start_time": "2022-10-09T00:54:03.571963",
     "status": "completed"
    },
    "tags": []
   },
   "outputs": [],
   "source": [
    "# #hide_input\n",
    "# fig, ax = plt.subplots(figsize=(15, 8))\n",
    "# animator = animation.FuncAnimation(fig, draw_barchart, frames=range(g.day.values.min(), g.day.values.max()))\n",
    "# HTML(animator.to_jshtml())\n",
    "# # or use animator.to_html5_video() or animator.save() "
   ]
  },
  {
   "cell_type": "code",
   "execution_count": null,
   "id": "australian-container",
   "metadata": {
    "papermill": {
     "duration": 0.034682,
     "end_time": "2022-10-09T00:54:03.683833",
     "exception": false,
     "start_time": "2022-10-09T00:54:03.649151",
     "status": "completed"
    },
    "tags": []
   },
   "outputs": [],
   "source": []
  },
  {
   "cell_type": "code",
   "execution_count": null,
   "id": "mediterranean-pontiac",
   "metadata": {
    "papermill": {
     "duration": 0.034754,
     "end_time": "2022-10-09T00:54:03.753522",
     "exception": false,
     "start_time": "2022-10-09T00:54:03.718768",
     "status": "completed"
    },
    "tags": []
   },
   "outputs": [],
   "source": []
  },
  {
   "cell_type": "code",
   "execution_count": null,
   "id": "aging-legislature",
   "metadata": {
    "papermill": {
     "duration": 0.034902,
     "end_time": "2022-10-09T00:54:03.823490",
     "exception": false,
     "start_time": "2022-10-09T00:54:03.788588",
     "status": "completed"
    },
    "tags": []
   },
   "outputs": [],
   "source": []
  }
 ],
 "metadata": {
  "kernelspec": {
   "display_name": "Python 3",
   "language": "python",
   "name": "python3"
  },
  "language_info": {
   "codemirror_mode": {
    "name": "ipython",
    "version": 3
   },
   "file_extension": ".py",
   "mimetype": "text/x-python",
   "name": "python",
   "nbconvert_exporter": "python",
   "pygments_lexer": "ipython3",
   "version": "3.6.15"
  },
  "papermill": {
   "duration": 7.155643,
   "end_time": "2022-10-09T00:54:04.278700",
   "environment_variables": {},
   "exception": null,
   "input_path": "2020-03-21-covid19exp.ipynb",
   "output_path": "2020-03-21-covid19exp.ipynb",
   "parameters": {},
   "start_time": "2022-10-09T00:53:57.123057",
   "version": "2.0.0"
  }
 },
 "nbformat": 4,
 "nbformat_minor": 5
}