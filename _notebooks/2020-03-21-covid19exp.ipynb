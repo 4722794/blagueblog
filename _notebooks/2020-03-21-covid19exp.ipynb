{
 "cells": [
  {
   "cell_type": "markdown",
   "id": "muslim-click",
   "metadata": {
    "papermill": {
     "duration": 0.041508,
     "end_time": "2021-10-04T00:25:25.510764",
     "exception": false,
     "start_time": "2021-10-04T00:25:25.469256",
     "status": "completed"
    },
    "tags": []
   },
   "source": [
    "# COVID-19 Case Race\n",
    "> A race chart to see rising cases around the world\n",
    "\n",
    "- author: Hargun Oberoi\n",
    "- image: images/covid-overview.png\n",
    "- hide: false\n",
    "- badges: false"
   ]
  },
  {
   "cell_type": "code",
   "execution_count": 1,
   "id": "proof-material",
   "metadata": {
    "execution": {
     "iopub.execute_input": "2021-10-04T00:25:25.599727Z",
     "iopub.status.busy": "2021-10-04T00:25:25.598963Z",
     "iopub.status.idle": "2021-10-04T00:25:25.994801Z",
     "shell.execute_reply": "2021-10-04T00:25:25.994245Z"
    },
    "papermill": {
     "duration": 0.445406,
     "end_time": "2021-10-04T00:25:25.994955",
     "exception": false,
     "start_time": "2021-10-04T00:25:25.549549",
     "status": "completed"
    },
    "tags": []
   },
   "outputs": [],
   "source": [
    "#hide\n",
    "import numpy as np\n",
    "import pandas as pd\n",
    "from jinja2 import Template\n",
    "from IPython.display import HTML"
   ]
  },
  {
   "cell_type": "code",
   "execution_count": 2,
   "id": "developed-terminology",
   "metadata": {
    "execution": {
     "iopub.execute_input": "2021-10-04T00:25:26.085820Z",
     "iopub.status.busy": "2021-10-04T00:25:26.085142Z",
     "iopub.status.idle": "2021-10-04T00:25:26.087952Z",
     "shell.execute_reply": "2021-10-04T00:25:26.088545Z"
    },
    "papermill": {
     "duration": 0.054308,
     "end_time": "2021-10-04T00:25:26.088690",
     "exception": false,
     "start_time": "2021-10-04T00:25:26.034382",
     "status": "completed"
    },
    "tags": []
   },
   "outputs": [],
   "source": [
    "#hide\n",
    "\n",
    "# FETCH\n",
    "base_url = 'https://raw.githubusercontent.com/pratapvardhan/notebooks/master/covid19/'\n",
    "paths = {\n",
    "    'mapping': base_url + 'mapping_countries.csv',\n",
    "    'overview': base_url + 'overview.tpl'\n",
    "}"
   ]
  },
  {
   "cell_type": "code",
   "execution_count": 3,
   "id": "dynamic-saver",
   "metadata": {
    "execution": {
     "iopub.execute_input": "2021-10-04T00:25:26.176417Z",
     "iopub.status.busy": "2021-10-04T00:25:26.175724Z",
     "iopub.status.idle": "2021-10-04T00:25:26.179188Z",
     "shell.execute_reply": "2021-10-04T00:25:26.178617Z"
    },
    "papermill": {
     "duration": 0.052934,
     "end_time": "2021-10-04T00:25:26.179315",
     "exception": false,
     "start_time": "2021-10-04T00:25:26.126381",
     "status": "completed"
    },
    "tags": []
   },
   "outputs": [
    {
     "data": {
      "text/plain": [
       "'https://raw.githubusercontent.com/pratapvardhan/notebooks/master/covid19/mapping_countries.csv'"
      ]
     },
     "execution_count": 3,
     "metadata": {},
     "output_type": "execute_result"
    }
   ],
   "source": [
    "#hide\n",
    "paths['mapping']"
   ]
  },
  {
   "cell_type": "code",
   "execution_count": 4,
   "id": "urban-software",
   "metadata": {
    "execution": {
     "iopub.execute_input": "2021-10-04T00:25:26.264176Z",
     "iopub.status.busy": "2021-10-04T00:25:26.263155Z",
     "iopub.status.idle": "2021-10-04T00:25:26.265291Z",
     "shell.execute_reply": "2021-10-04T00:25:26.265901Z"
    },
    "papermill": {
     "duration": 0.047666,
     "end_time": "2021-10-04T00:25:26.266045",
     "exception": false,
     "start_time": "2021-10-04T00:25:26.218379",
     "status": "completed"
    },
    "tags": []
   },
   "outputs": [],
   "source": [
    "#hide\n",
    "def get_mappings(url):\n",
    "    df = pd.read_csv(url)\n",
    "    return {\n",
    "        'df': df,\n",
    "        'replace.country': dict(df.dropna(subset=['Name']).set_index('Country')['Name']),\n",
    "        'map.continent': dict(df.set_index('Name')['Continent'])\n",
    "    }"
   ]
  },
  {
   "cell_type": "code",
   "execution_count": 5,
   "id": "intimate-machinery",
   "metadata": {
    "execution": {
     "iopub.execute_input": "2021-10-04T00:25:26.351438Z",
     "iopub.status.busy": "2021-10-04T00:25:26.350694Z",
     "iopub.status.idle": "2021-10-04T00:25:26.393434Z",
     "shell.execute_reply": "2021-10-04T00:25:26.392879Z"
    },
    "papermill": {
     "duration": 0.087011,
     "end_time": "2021-10-04T00:25:26.393577",
     "exception": false,
     "start_time": "2021-10-04T00:25:26.306566",
     "status": "completed"
    },
    "tags": []
   },
   "outputs": [],
   "source": [
    "#hide\n",
    "mapping = get_mappings(paths['mapping'])"
   ]
  },
  {
   "cell_type": "code",
   "execution_count": 6,
   "id": "certified-tactics",
   "metadata": {
    "execution": {
     "iopub.execute_input": "2021-10-04T00:25:26.479260Z",
     "iopub.status.busy": "2021-10-04T00:25:26.478614Z",
     "iopub.status.idle": "2021-10-04T00:25:26.481356Z",
     "shell.execute_reply": "2021-10-04T00:25:26.480838Z"
    },
    "papermill": {
     "duration": 0.04778,
     "end_time": "2021-10-04T00:25:26.481476",
     "exception": false,
     "start_time": "2021-10-04T00:25:26.433696",
     "status": "completed"
    },
    "tags": []
   },
   "outputs": [],
   "source": [
    "#hide\n",
    "def get_template(path):\n",
    "    from urllib.parse import urlparse\n",
    "    if bool(urlparse(path).netloc):\n",
    "        from urllib.request import urlopen\n",
    "        return urlopen(path).read().decode('utf8')\n",
    "    return open(path).read()"
   ]
  },
  {
   "cell_type": "code",
   "execution_count": 7,
   "id": "realistic-blast",
   "metadata": {
    "execution": {
     "iopub.execute_input": "2021-10-04T00:25:26.561970Z",
     "iopub.status.busy": "2021-10-04T00:25:26.561210Z",
     "iopub.status.idle": "2021-10-04T00:25:26.563967Z",
     "shell.execute_reply": "2021-10-04T00:25:26.563302Z"
    },
    "papermill": {
     "duration": 0.046528,
     "end_time": "2021-10-04T00:25:26.564082",
     "exception": false,
     "start_time": "2021-10-04T00:25:26.517554",
     "status": "completed"
    },
    "tags": []
   },
   "outputs": [],
   "source": [
    "#hide\n",
    "def get_frame(name):\n",
    "    url = (\n",
    "        'https://raw.githubusercontent.com/CSSEGISandData/COVID-19/master/csse_covid_19_data/'\n",
    "        f'csse_covid_19_time_series/time_series_covid19_{name}_global.csv')\n",
    "    df = pd.read_csv(url)\n",
    "    # rename countries\n",
    "    df['Country/Region'] = df['Country/Region'].replace(mapping['replace.country'])\n",
    "    return df"
   ]
  },
  {
   "cell_type": "code",
   "execution_count": 8,
   "id": "affiliated-characterization",
   "metadata": {
    "execution": {
     "iopub.execute_input": "2021-10-04T00:25:26.648643Z",
     "iopub.status.busy": "2021-10-04T00:25:26.647887Z",
     "iopub.status.idle": "2021-10-04T00:25:26.649541Z",
     "shell.execute_reply": "2021-10-04T00:25:26.650276Z"
    },
    "papermill": {
     "duration": 0.047258,
     "end_time": "2021-10-04T00:25:26.650419",
     "exception": false,
     "start_time": "2021-10-04T00:25:26.603161",
     "status": "completed"
    },
    "tags": []
   },
   "outputs": [],
   "source": [
    "#hide\n",
    "def get_dates(df):\n",
    "    dt_cols = df.columns[~df.columns.isin(['Province/State', 'Country/Region', 'Lat', 'Long'])]\n",
    "    LAST_DATE_I = -1\n",
    "    # sometimes last column may be empty, then go backwards\n",
    "    for i in range(-1, -len(dt_cols), -1):\n",
    "        if not df[dt_cols[i]].fillna(0).eq(0).all():\n",
    "            LAST_DATE_I = i\n",
    "            break\n",
    "    return LAST_DATE_I, dt_cols"
   ]
  },
  {
   "cell_type": "code",
   "execution_count": 9,
   "id": "recent-optimization",
   "metadata": {
    "execution": {
     "iopub.execute_input": "2021-10-04T00:25:26.742019Z",
     "iopub.status.busy": "2021-10-04T00:25:26.741263Z",
     "iopub.status.idle": "2021-10-04T00:25:27.192803Z",
     "shell.execute_reply": "2021-10-04T00:25:27.192155Z"
    },
    "papermill": {
     "duration": 0.503869,
     "end_time": "2021-10-04T00:25:27.192953",
     "exception": false,
     "start_time": "2021-10-04T00:25:26.689084",
     "status": "completed"
    },
    "tags": []
   },
   "outputs": [],
   "source": [
    "#hide\n",
    "COL_REGION = 'Country/Region'\n",
    "# Confirmed, Recovered, Deaths\n",
    "df = get_frame('confirmed')\n",
    "# dft_: timeseries, dfc_: today country agg\n",
    "dft_cases = df\n",
    "dft_deaths = get_frame('deaths')\n",
    "dft_recovered = get_frame('recovered')\n",
    "LAST_DATE_I, dt_cols = get_dates(df)"
   ]
  },
  {
   "cell_type": "code",
   "execution_count": 10,
   "id": "absolute-copper",
   "metadata": {
    "execution": {
     "iopub.execute_input": "2021-10-04T00:25:27.282364Z",
     "iopub.status.busy": "2021-10-04T00:25:27.281629Z",
     "iopub.status.idle": "2021-10-04T00:25:27.284195Z",
     "shell.execute_reply": "2021-10-04T00:25:27.283548Z"
    },
    "papermill": {
     "duration": 0.049859,
     "end_time": "2021-10-04T00:25:27.284324",
     "exception": false,
     "start_time": "2021-10-04T00:25:27.234465",
     "status": "completed"
    },
    "tags": []
   },
   "outputs": [],
   "source": [
    "#hide\n",
    "LAST_DATE_I, dt_cols = get_dates(df)\n",
    "dt_today =dt_cols[LAST_DATE_I]\n",
    "# dt_5day = dt_cols[LAST_DATE_I - 5]\n",
    "dt_yday = dt_cols[LAST_DATE_I - 1]"
   ]
  },
  {
   "cell_type": "code",
   "execution_count": 11,
   "id": "restricted-sheriff",
   "metadata": {
    "execution": {
     "iopub.execute_input": "2021-10-04T00:25:27.377188Z",
     "iopub.status.busy": "2021-10-04T00:25:27.376317Z",
     "iopub.status.idle": "2021-10-04T00:25:27.384608Z",
     "shell.execute_reply": "2021-10-04T00:25:27.384060Z"
    },
    "papermill": {
     "duration": 0.058851,
     "end_time": "2021-10-04T00:25:27.384738",
     "exception": false,
     "start_time": "2021-10-04T00:25:27.325887",
     "status": "completed"
    },
    "tags": []
   },
   "outputs": [],
   "source": [
    "#hide\n",
    "dfc_cases = dft_cases.groupby(COL_REGION)[dt_today].sum()\n",
    "dfc_deaths = dft_deaths.groupby(COL_REGION)[dt_today].sum()\n",
    "# dfp_cases = dft_cases.groupby(COL_REGION)[dt_5day].sum()\n",
    "# dfp_deaths = dft_deaths.groupby(COL_REGION)[dt_5day].sum()\n",
    "dfp_cases = dft_cases.groupby(COL_REGION)[dt_yday].sum()\n",
    "dfp_deaths = dft_deaths.groupby(COL_REGION)[dt_yday].sum()"
   ]
  },
  {
   "cell_type": "code",
   "execution_count": 12,
   "id": "deluxe-hepatitis",
   "metadata": {
    "execution": {
     "iopub.execute_input": "2021-10-04T00:25:27.472269Z",
     "iopub.status.busy": "2021-10-04T00:25:27.471576Z",
     "iopub.status.idle": "2021-10-04T00:25:27.476685Z",
     "shell.execute_reply": "2021-10-04T00:25:27.476163Z"
    },
    "papermill": {
     "duration": 0.052707,
     "end_time": "2021-10-04T00:25:27.476809",
     "exception": false,
     "start_time": "2021-10-04T00:25:27.424102",
     "status": "completed"
    },
    "tags": []
   },
   "outputs": [],
   "source": [
    "#hide\n",
    "df_table = (pd.DataFrame(dict(Cases = dfc_cases, Deaths = dfc_deaths, PCases = dfp_cases, PDeaths = dfp_deaths))\n",
    "            .sort_values(by = ['Cases','Deaths'], ascending = [False, False])\n",
    "            .reset_index())"
   ]
  },
  {
   "cell_type": "code",
   "execution_count": 13,
   "id": "educational-chancellor",
   "metadata": {
    "execution": {
     "iopub.execute_input": "2021-10-04T00:25:27.573209Z",
     "iopub.status.busy": "2021-10-04T00:25:27.572616Z",
     "iopub.status.idle": "2021-10-04T00:25:27.581406Z",
     "shell.execute_reply": "2021-10-04T00:25:27.582013Z"
    },
    "papermill": {
     "duration": 0.067494,
     "end_time": "2021-10-04T00:25:27.582155",
     "exception": false,
     "start_time": "2021-10-04T00:25:27.514661",
     "status": "completed"
    },
    "tags": []
   },
   "outputs": [
    {
     "data": {
      "text/html": [
       "<div>\n",
       "<style scoped>\n",
       "    .dataframe tbody tr th:only-of-type {\n",
       "        vertical-align: middle;\n",
       "    }\n",
       "\n",
       "    .dataframe tbody tr th {\n",
       "        vertical-align: top;\n",
       "    }\n",
       "\n",
       "    .dataframe thead th {\n",
       "        text-align: right;\n",
       "    }\n",
       "</style>\n",
       "<table border=\"1\" class=\"dataframe\">\n",
       "  <thead>\n",
       "    <tr style=\"text-align: right;\">\n",
       "      <th></th>\n",
       "      <th>Country/Region</th>\n",
       "      <th>Cases</th>\n",
       "      <th>Deaths</th>\n",
       "      <th>PCases</th>\n",
       "      <th>PDeaths</th>\n",
       "      <th>Cases (+)</th>\n",
       "      <th>Deaths (+)</th>\n",
       "      <th>Fatality Rate</th>\n",
       "      <th>Continent</th>\n",
       "    </tr>\n",
       "  </thead>\n",
       "  <tbody>\n",
       "    <tr>\n",
       "      <th>0</th>\n",
       "      <td>US</td>\n",
       "      <td>43657833</td>\n",
       "      <td>700932</td>\n",
       "      <td>43618627</td>\n",
       "      <td>700285</td>\n",
       "      <td>39206</td>\n",
       "      <td>647</td>\n",
       "      <td>1.61</td>\n",
       "      <td>North America</td>\n",
       "    </tr>\n",
       "    <tr>\n",
       "      <th>1</th>\n",
       "      <td>India</td>\n",
       "      <td>33813903</td>\n",
       "      <td>448817</td>\n",
       "      <td>33791061</td>\n",
       "      <td>448573</td>\n",
       "      <td>22842</td>\n",
       "      <td>244</td>\n",
       "      <td>1.33</td>\n",
       "      <td>Asia</td>\n",
       "    </tr>\n",
       "    <tr>\n",
       "      <th>2</th>\n",
       "      <td>Brazil</td>\n",
       "      <td>21459117</td>\n",
       "      <td>597723</td>\n",
       "      <td>21445651</td>\n",
       "      <td>597255</td>\n",
       "      <td>13466</td>\n",
       "      <td>468</td>\n",
       "      <td>2.79</td>\n",
       "      <td>South America</td>\n",
       "    </tr>\n",
       "    <tr>\n",
       "      <th>3</th>\n",
       "      <td>United Kingdom</td>\n",
       "      <td>7908091</td>\n",
       "      <td>137295</td>\n",
       "      <td>7878571</td>\n",
       "      <td>137171</td>\n",
       "      <td>29520</td>\n",
       "      <td>124</td>\n",
       "      <td>1.74</td>\n",
       "      <td>Europe</td>\n",
       "    </tr>\n",
       "    <tr>\n",
       "      <th>4</th>\n",
       "      <td>Russia</td>\n",
       "      <td>7449689</td>\n",
       "      <td>205297</td>\n",
       "      <td>7425057</td>\n",
       "      <td>204424</td>\n",
       "      <td>24632</td>\n",
       "      <td>873</td>\n",
       "      <td>2.76</td>\n",
       "      <td>Europe</td>\n",
       "    </tr>\n",
       "  </tbody>\n",
       "</table>\n",
       "</div>"
      ],
      "text/plain": [
       "   Country/Region     Cases  Deaths    PCases  PDeaths  Cases (+)  Deaths (+)  \\\n",
       "0              US  43657833  700932  43618627   700285      39206         647   \n",
       "1           India  33813903  448817  33791061   448573      22842         244   \n",
       "2          Brazil  21459117  597723  21445651   597255      13466         468   \n",
       "3  United Kingdom   7908091  137295   7878571   137171      29520         124   \n",
       "4          Russia   7449689  205297   7425057   204424      24632         873   \n",
       "\n",
       "   Fatality Rate      Continent  \n",
       "0           1.61  North America  \n",
       "1           1.33           Asia  \n",
       "2           2.79  South America  \n",
       "3           1.74         Europe  \n",
       "4           2.76         Europe  "
      ]
     },
     "execution_count": 13,
     "metadata": {},
     "output_type": "execute_result"
    }
   ],
   "source": [
    "#hide\n",
    "for c in 'Cases, Deaths'.split(', '):\n",
    "    df_table[f'{c} (+)'] = (df_table[c] - df_table[f'P{c}']).clip(0)\n",
    "    #Clip ça veut dire, les chiffres negatif sont interdit\n",
    "df_table['Fatality Rate'] = (100* df_table['Deaths']/ df_table['Cases']).round(2)\n",
    "df_table['Continent'] = df_table['Country/Region'].map(mapping['map.continent'])\n",
    "df_table.head(5)"
   ]
  },
  {
   "cell_type": "code",
   "execution_count": 14,
   "id": "aboriginal-bulgaria",
   "metadata": {
    "execution": {
     "iopub.execute_input": "2021-10-04T00:25:27.665932Z",
     "iopub.status.busy": "2021-10-04T00:25:27.665216Z",
     "iopub.status.idle": "2021-10-04T00:25:27.667571Z",
     "shell.execute_reply": "2021-10-04T00:25:27.666984Z"
    },
    "papermill": {
     "duration": 0.047061,
     "end_time": "2021-10-04T00:25:27.667689",
     "exception": false,
     "start_time": "2021-10-04T00:25:27.620628",
     "status": "completed"
    },
    "tags": []
   },
   "outputs": [],
   "source": [
    "#hide\n",
    "#delete problematic countries from table\n",
    "df_table = df_table[~df_table['Country/Region'].isin(['Cape Verde', 'Cruise Ship', 'Kosovo'])]"
   ]
  },
  {
   "cell_type": "code",
   "execution_count": 15,
   "id": "fantastic-effect",
   "metadata": {
    "execution": {
     "iopub.execute_input": "2021-10-04T00:25:27.755188Z",
     "iopub.status.busy": "2021-10-04T00:25:27.754592Z",
     "iopub.status.idle": "2021-10-04T00:25:27.776472Z",
     "shell.execute_reply": "2021-10-04T00:25:27.777102Z"
    },
    "papermill": {
     "duration": 0.070902,
     "end_time": "2021-10-04T00:25:27.777262",
     "exception": false,
     "start_time": "2021-10-04T00:25:27.706360",
     "status": "completed"
    },
    "tags": []
   },
   "outputs": [
    {
     "data": {
      "text/html": [
       "<div>\n",
       "<style scoped>\n",
       "    .dataframe tbody tr th:only-of-type {\n",
       "        vertical-align: middle;\n",
       "    }\n",
       "\n",
       "    .dataframe tbody tr th {\n",
       "        vertical-align: top;\n",
       "    }\n",
       "\n",
       "    .dataframe thead th {\n",
       "        text-align: right;\n",
       "    }\n",
       "</style>\n",
       "<table border=\"1\" class=\"dataframe\">\n",
       "  <thead>\n",
       "    <tr style=\"text-align: right;\">\n",
       "      <th></th>\n",
       "      <th>Country/Region</th>\n",
       "      <th>Cases</th>\n",
       "      <th>Deaths</th>\n",
       "      <th>PCases</th>\n",
       "      <th>PDeaths</th>\n",
       "      <th>Cases (+)</th>\n",
       "      <th>Deaths (+)</th>\n",
       "      <th>Fatality Rate</th>\n",
       "      <th>Continent</th>\n",
       "    </tr>\n",
       "  </thead>\n",
       "  <tbody>\n",
       "    <tr>\n",
       "      <th>0</th>\n",
       "      <td>US</td>\n",
       "      <td>43657833</td>\n",
       "      <td>700932</td>\n",
       "      <td>43618627</td>\n",
       "      <td>700285</td>\n",
       "      <td>39206</td>\n",
       "      <td>647</td>\n",
       "      <td>1.6</td>\n",
       "      <td>North America</td>\n",
       "    </tr>\n",
       "    <tr>\n",
       "      <th>1</th>\n",
       "      <td>India</td>\n",
       "      <td>33813903</td>\n",
       "      <td>448817</td>\n",
       "      <td>33791061</td>\n",
       "      <td>448573</td>\n",
       "      <td>22842</td>\n",
       "      <td>244</td>\n",
       "      <td>1.3</td>\n",
       "      <td>Asia</td>\n",
       "    </tr>\n",
       "    <tr>\n",
       "      <th>2</th>\n",
       "      <td>Brazil</td>\n",
       "      <td>21459117</td>\n",
       "      <td>597723</td>\n",
       "      <td>21445651</td>\n",
       "      <td>597255</td>\n",
       "      <td>13466</td>\n",
       "      <td>468</td>\n",
       "      <td>2.8</td>\n",
       "      <td>South America</td>\n",
       "    </tr>\n",
       "    <tr>\n",
       "      <th>3</th>\n",
       "      <td>United Kingdom</td>\n",
       "      <td>7908091</td>\n",
       "      <td>137295</td>\n",
       "      <td>7878571</td>\n",
       "      <td>137171</td>\n",
       "      <td>29520</td>\n",
       "      <td>124</td>\n",
       "      <td>1.7</td>\n",
       "      <td>Europe</td>\n",
       "    </tr>\n",
       "    <tr>\n",
       "      <th>4</th>\n",
       "      <td>Russia</td>\n",
       "      <td>7449689</td>\n",
       "      <td>205297</td>\n",
       "      <td>7425057</td>\n",
       "      <td>204424</td>\n",
       "      <td>24632</td>\n",
       "      <td>873</td>\n",
       "      <td>2.8</td>\n",
       "      <td>Europe</td>\n",
       "    </tr>\n",
       "  </tbody>\n",
       "</table>\n",
       "</div>"
      ],
      "text/plain": [
       "   Country/Region     Cases  Deaths    PCases  PDeaths  Cases (+)  Deaths (+)  \\\n",
       "0              US  43657833  700932  43618627   700285      39206         647   \n",
       "1           India  33813903  448817  33791061   448573      22842         244   \n",
       "2          Brazil  21459117  597723  21445651   597255      13466         468   \n",
       "3  United Kingdom   7908091  137295   7878571   137171      29520         124   \n",
       "4          Russia   7449689  205297   7425057   204424      24632         873   \n",
       "\n",
       "   Fatality Rate      Continent  \n",
       "0            1.6  North America  \n",
       "1            1.3           Asia  \n",
       "2            2.8  South America  \n",
       "3            1.7         Europe  \n",
       "4            2.8         Europe  "
      ]
     },
     "execution_count": 15,
     "metadata": {},
     "output_type": "execute_result"
    }
   ],
   "source": [
    "#hide\n",
    "df_table = (pd.DataFrame(dict(Cases=dfc_cases, Deaths=dfc_deaths, PCases=dfp_cases, PDeaths=dfp_deaths))\n",
    "             .sort_values(by=['Cases', 'Deaths'], ascending=[False, False])\n",
    "             .reset_index())\n",
    "df_table.rename(columns={'index': 'Country/Region'}, inplace=True)\n",
    "for c in 'Cases, Deaths'.split(', '):\n",
    "    df_table[f'{c} (+)'] = (df_table[c] - df_table[f'P{c}']).clip(0)  # DATA BUG\n",
    "df_table['Fatality Rate'] = (100 * df_table['Deaths'] / df_table['Cases']).round(1)\n",
    "df_table['Continent'] = df_table['Country/Region'].map(mapping['map.continent'])\n",
    "df_table.head(5)"
   ]
  },
  {
   "cell_type": "code",
   "execution_count": 16,
   "id": "fewer-occasion",
   "metadata": {
    "execution": {
     "iopub.execute_input": "2021-10-04T00:25:27.864948Z",
     "iopub.status.busy": "2021-10-04T00:25:27.864246Z",
     "iopub.status.idle": "2021-10-04T00:25:27.866495Z",
     "shell.execute_reply": "2021-10-04T00:25:27.866981Z"
    },
    "papermill": {
     "duration": 0.049637,
     "end_time": "2021-10-04T00:25:27.867121",
     "exception": false,
     "start_time": "2021-10-04T00:25:27.817484",
     "status": "completed"
    },
    "tags": []
   },
   "outputs": [],
   "source": [
    "#hide\n",
    "#delete problematic countries from table\n",
    "df_table = df_table[~df_table['Country/Region'].isin(['Cape Verde', 'Cruise Ship', 'Kosovo'])]"
   ]
  },
  {
   "cell_type": "code",
   "execution_count": 17,
   "id": "related-center",
   "metadata": {
    "execution": {
     "iopub.execute_input": "2021-10-04T00:25:27.970008Z",
     "iopub.status.busy": "2021-10-04T00:25:27.969366Z",
     "iopub.status.idle": "2021-10-04T00:25:27.971649Z",
     "shell.execute_reply": "2021-10-04T00:25:27.971128Z"
    },
    "papermill": {
     "duration": 0.065754,
     "end_time": "2021-10-04T00:25:27.971802",
     "exception": false,
     "start_time": "2021-10-04T00:25:27.906048",
     "status": "completed"
    },
    "tags": []
   },
   "outputs": [],
   "source": [
    "#hide\n",
    "metrics = [df_table.columns[index] for index in [1,2,5,6]]\n",
    "# s_china = df_table[df_table['Country/Region'].eq('China')][metrics].sum().add_prefix('China ')\n",
    "s_us = df_table[df_table['Country/Region'].eq('US')][metrics].sum().add_prefix('US ')\n",
    "s_eu = df_table[df_table['Continent'].eq('Europe')][metrics].sum().add_prefix('EU ')\n",
    "s_ind = df_table[df_table['Country/Region'].eq('India')][metrics].sum().add_prefix('India ')\n",
    "summary = {'updated': pd.to_datetime(dt_today), 'since': pd.to_datetime(dt_yday)}\n",
    "summary = {'updated': pd.to_datetime(dt_today), 'since': pd.to_datetime(dt_yday)}\n",
    "summary = {**summary, **df_table[metrics].sum(), **s_ind, **s_us, **s_eu}"
   ]
  },
  {
   "cell_type": "code",
   "execution_count": 18,
   "id": "engaging-syndrome",
   "metadata": {
    "execution": {
     "iopub.execute_input": "2021-10-04T00:25:28.053034Z",
     "iopub.status.busy": "2021-10-04T00:25:28.052345Z",
     "iopub.status.idle": "2021-10-04T00:25:28.069820Z",
     "shell.execute_reply": "2021-10-04T00:25:28.069227Z"
    },
    "papermill": {
     "duration": 0.059807,
     "end_time": "2021-10-04T00:25:28.069963",
     "exception": false,
     "start_time": "2021-10-04T00:25:28.010156",
     "status": "completed"
    },
    "tags": []
   },
   "outputs": [],
   "source": [
    "#hide\n",
    "dft_ct_new_cases = dft_cases.groupby(COL_REGION)[dt_cols].sum().diff(axis=1).fillna(0).astype(int)"
   ]
  },
  {
   "cell_type": "code",
   "execution_count": 19,
   "id": "neutral-assignment",
   "metadata": {
    "execution": {
     "iopub.execute_input": "2021-10-04T00:25:28.164464Z",
     "iopub.status.busy": "2021-10-04T00:25:28.163843Z",
     "iopub.status.idle": "2021-10-04T00:25:28.169983Z",
     "shell.execute_reply": "2021-10-04T00:25:28.169322Z"
    },
    "papermill": {
     "duration": 0.051819,
     "end_time": "2021-10-04T00:25:28.170117",
     "exception": false,
     "start_time": "2021-10-04T00:25:28.118298",
     "status": "completed"
    },
    "tags": []
   },
   "outputs": [],
   "source": [
    "#hide\n",
    "everydaycases = dft_ct_new_cases.cumsum(axis=1)"
   ]
  },
  {
   "cell_type": "code",
   "execution_count": 20,
   "id": "parliamentary-calgary",
   "metadata": {
    "execution": {
     "iopub.execute_input": "2021-10-04T00:25:28.251410Z",
     "iopub.status.busy": "2021-10-04T00:25:28.250817Z",
     "iopub.status.idle": "2021-10-04T00:25:28.960174Z",
     "shell.execute_reply": "2021-10-04T00:25:28.960784Z"
    },
    "papermill": {
     "duration": 0.751401,
     "end_time": "2021-10-04T00:25:28.960948",
     "exception": false,
     "start_time": "2021-10-04T00:25:28.209547",
     "status": "completed"
    },
    "tags": []
   },
   "outputs": [],
   "source": [
    "#hide\n",
    "import pandas as pd\n",
    "import matplotlib.pyplot as plt\n",
    "import matplotlib.ticker as ticker\n",
    "import matplotlib.animation as animation\n",
    "from IPython.display import HTML"
   ]
  },
  {
   "cell_type": "code",
   "execution_count": 21,
   "id": "lasting-extraction",
   "metadata": {
    "execution": {
     "iopub.execute_input": "2021-10-04T00:25:29.048161Z",
     "iopub.status.busy": "2021-10-04T00:25:29.047388Z",
     "iopub.status.idle": "2021-10-04T00:25:29.054345Z",
     "shell.execute_reply": "2021-10-04T00:25:29.053525Z"
    },
    "papermill": {
     "duration": 0.053126,
     "end_time": "2021-10-04T00:25:29.054572",
     "exception": false,
     "start_time": "2021-10-04T00:25:29.001446",
     "status": "completed"
    },
    "tags": []
   },
   "outputs": [],
   "source": [
    "#hide\n",
    "t = everydaycases.stack()"
   ]
  },
  {
   "cell_type": "code",
   "execution_count": 22,
   "id": "premier-sleeve",
   "metadata": {
    "execution": {
     "iopub.execute_input": "2021-10-04T00:25:29.151853Z",
     "iopub.status.busy": "2021-10-04T00:25:29.151040Z",
     "iopub.status.idle": "2021-10-04T00:25:29.161862Z",
     "shell.execute_reply": "2021-10-04T00:25:29.162429Z"
    },
    "papermill": {
     "duration": 0.058276,
     "end_time": "2021-10-04T00:25:29.162598",
     "exception": false,
     "start_time": "2021-10-04T00:25:29.104322",
     "status": "completed"
    },
    "tags": []
   },
   "outputs": [],
   "source": [
    "#hide\n",
    "g = t.reset_index(['Country/Region'])"
   ]
  },
  {
   "cell_type": "code",
   "execution_count": 23,
   "id": "distributed-pittsburgh",
   "metadata": {
    "execution": {
     "iopub.execute_input": "2021-10-04T00:25:29.248575Z",
     "iopub.status.busy": "2021-10-04T00:25:29.247927Z",
     "iopub.status.idle": "2021-10-04T00:25:29.249837Z",
     "shell.execute_reply": "2021-10-04T00:25:29.250380Z"
    },
    "papermill": {
     "duration": 0.0471,
     "end_time": "2021-10-04T00:25:29.250522",
     "exception": false,
     "start_time": "2021-10-04T00:25:29.203422",
     "status": "completed"
    },
    "tags": []
   },
   "outputs": [],
   "source": [
    "#hide\n",
    "g.index.name = 'date'"
   ]
  },
  {
   "cell_type": "code",
   "execution_count": 24,
   "id": "naked-donor",
   "metadata": {
    "execution": {
     "iopub.execute_input": "2021-10-04T00:25:29.340642Z",
     "iopub.status.busy": "2021-10-04T00:25:29.338889Z",
     "iopub.status.idle": "2021-10-04T00:25:29.341504Z",
     "shell.execute_reply": "2021-10-04T00:25:29.342255Z"
    },
    "papermill": {
     "duration": 0.049451,
     "end_time": "2021-10-04T00:25:29.342405",
     "exception": false,
     "start_time": "2021-10-04T00:25:29.292954",
     "status": "completed"
    },
    "tags": []
   },
   "outputs": [],
   "source": [
    "# #hide\n",
    "# g = g.reset_index(['date'])"
   ]
  },
  {
   "cell_type": "code",
   "execution_count": 25,
   "id": "incomplete-mustang",
   "metadata": {
    "execution": {
     "iopub.execute_input": "2021-10-04T00:25:29.428653Z",
     "iopub.status.busy": "2021-10-04T00:25:29.427650Z",
     "iopub.status.idle": "2021-10-04T00:25:29.430660Z",
     "shell.execute_reply": "2021-10-04T00:25:29.430073Z"
    },
    "papermill": {
     "duration": 0.049834,
     "end_time": "2021-10-04T00:25:29.430793",
     "exception": false,
     "start_time": "2021-10-04T00:25:29.380959",
     "status": "completed"
    },
    "tags": []
   },
   "outputs": [],
   "source": [
    "#hide\n",
    "# g.head()"
   ]
  },
  {
   "cell_type": "code",
   "execution_count": 26,
   "id": "specific-kruger",
   "metadata": {
    "execution": {
     "iopub.execute_input": "2021-10-04T00:25:29.516250Z",
     "iopub.status.busy": "2021-10-04T00:25:29.515465Z",
     "iopub.status.idle": "2021-10-04T00:25:29.518167Z",
     "shell.execute_reply": "2021-10-04T00:25:29.517539Z"
    },
    "papermill": {
     "duration": 0.047172,
     "end_time": "2021-10-04T00:25:29.518381",
     "exception": false,
     "start_time": "2021-10-04T00:25:29.471209",
     "status": "completed"
    },
    "tags": []
   },
   "outputs": [],
   "source": [
    "#hide\n",
    "# g.columns = ['date','country','cases']"
   ]
  },
  {
   "cell_type": "code",
   "execution_count": 27,
   "id": "tender-conversion",
   "metadata": {
    "execution": {
     "iopub.execute_input": "2021-10-04T00:25:29.601338Z",
     "iopub.status.busy": "2021-10-04T00:25:29.600512Z",
     "iopub.status.idle": "2021-10-04T00:25:29.602075Z",
     "shell.execute_reply": "2021-10-04T00:25:29.602646Z"
    },
    "papermill": {
     "duration": 0.044768,
     "end_time": "2021-10-04T00:25:29.602778",
     "exception": false,
     "start_time": "2021-10-04T00:25:29.558010",
     "status": "completed"
    },
    "tags": []
   },
   "outputs": [],
   "source": [
    "#hide\n",
    "# g['continent'] = g.country"
   ]
  },
  {
   "cell_type": "code",
   "execution_count": 28,
   "id": "substantial-wilderness",
   "metadata": {
    "execution": {
     "iopub.execute_input": "2021-10-04T00:25:29.687786Z",
     "iopub.status.busy": "2021-10-04T00:25:29.687116Z",
     "iopub.status.idle": "2021-10-04T00:25:29.689666Z",
     "shell.execute_reply": "2021-10-04T00:25:29.689128Z"
    },
    "papermill": {
     "duration": 0.046427,
     "end_time": "2021-10-04T00:25:29.689787",
     "exception": false,
     "start_time": "2021-10-04T00:25:29.643360",
     "status": "completed"
    },
    "tags": []
   },
   "outputs": [],
   "source": [
    "#hide\n",
    "# cols = list(g.columns.values)"
   ]
  },
  {
   "cell_type": "code",
   "execution_count": 29,
   "id": "solved-farming",
   "metadata": {
    "execution": {
     "iopub.execute_input": "2021-10-04T00:25:29.783162Z",
     "iopub.status.busy": "2021-10-04T00:25:29.782420Z",
     "iopub.status.idle": "2021-10-04T00:25:29.784006Z",
     "shell.execute_reply": "2021-10-04T00:25:29.784699Z"
    },
    "papermill": {
     "duration": 0.055151,
     "end_time": "2021-10-04T00:25:29.784857",
     "exception": false,
     "start_time": "2021-10-04T00:25:29.729706",
     "status": "completed"
    },
    "tags": []
   },
   "outputs": [],
   "source": [
    "#hide\n",
    "# cols.insert(0, cols.pop())"
   ]
  },
  {
   "cell_type": "code",
   "execution_count": 30,
   "id": "executed-adoption",
   "metadata": {
    "execution": {
     "iopub.execute_input": "2021-10-04T00:25:29.874667Z",
     "iopub.status.busy": "2021-10-04T00:25:29.873863Z",
     "iopub.status.idle": "2021-10-04T00:25:29.876486Z",
     "shell.execute_reply": "2021-10-04T00:25:29.877076Z"
    },
    "papermill": {
     "duration": 0.04933,
     "end_time": "2021-10-04T00:25:29.877304",
     "exception": false,
     "start_time": "2021-10-04T00:25:29.827974",
     "status": "completed"
    },
    "tags": []
   },
   "outputs": [],
   "source": [
    "#hide\n",
    "# g = g[cols]"
   ]
  },
  {
   "cell_type": "code",
   "execution_count": 31,
   "id": "subject-dublin",
   "metadata": {
    "execution": {
     "iopub.execute_input": "2021-10-04T00:25:29.967375Z",
     "iopub.status.busy": "2021-10-04T00:25:29.966707Z",
     "iopub.status.idle": "2021-10-04T00:25:29.969188Z",
     "shell.execute_reply": "2021-10-04T00:25:29.969744Z"
    },
    "papermill": {
     "duration": 0.048733,
     "end_time": "2021-10-04T00:25:29.969901",
     "exception": false,
     "start_time": "2021-10-04T00:25:29.921168",
     "status": "completed"
    },
    "tags": []
   },
   "outputs": [],
   "source": [
    "#hide\n",
    "# g['continent'] = g['continent'].map(mapping['map.continent'])"
   ]
  },
  {
   "cell_type": "code",
   "execution_count": 32,
   "id": "freelance-scout",
   "metadata": {
    "execution": {
     "iopub.execute_input": "2021-10-04T00:25:30.056812Z",
     "iopub.status.busy": "2021-10-04T00:25:30.054792Z",
     "iopub.status.idle": "2021-10-04T00:25:30.059071Z",
     "shell.execute_reply": "2021-10-04T00:25:30.059805Z"
    },
    "papermill": {
     "duration": 0.049121,
     "end_time": "2021-10-04T00:25:30.060020",
     "exception": false,
     "start_time": "2021-10-04T00:25:30.010899",
     "status": "completed"
    },
    "tags": []
   },
   "outputs": [],
   "source": [
    "#hide\n",
    "# g.head()"
   ]
  },
  {
   "cell_type": "code",
   "execution_count": 33,
   "id": "limited-engine",
   "metadata": {
    "execution": {
     "iopub.execute_input": "2021-10-04T00:25:30.151859Z",
     "iopub.status.busy": "2021-10-04T00:25:30.151104Z",
     "iopub.status.idle": "2021-10-04T00:25:30.153790Z",
     "shell.execute_reply": "2021-10-04T00:25:30.153080Z"
    },
    "papermill": {
     "duration": 0.048641,
     "end_time": "2021-10-04T00:25:30.153920",
     "exception": false,
     "start_time": "2021-10-04T00:25:30.105279",
     "status": "completed"
    },
    "tags": []
   },
   "outputs": [],
   "source": [
    "# hide\n",
    "# g['date'] = g['date'].astype('datetime64[ns]')"
   ]
  },
  {
   "cell_type": "code",
   "execution_count": 34,
   "id": "sophisticated-supervisor",
   "metadata": {
    "execution": {
     "iopub.execute_input": "2021-10-04T00:25:30.241936Z",
     "iopub.status.busy": "2021-10-04T00:25:30.241263Z",
     "iopub.status.idle": "2021-10-04T00:25:30.244199Z",
     "shell.execute_reply": "2021-10-04T00:25:30.243265Z"
    },
    "papermill": {
     "duration": 0.04926,
     "end_time": "2021-10-04T00:25:30.244341",
     "exception": false,
     "start_time": "2021-10-04T00:25:30.195081",
     "status": "completed"
    },
    "tags": []
   },
   "outputs": [],
   "source": [
    "#hide\n",
    "# g['date'] = g.date.dt.dayofyear"
   ]
  },
  {
   "cell_type": "code",
   "execution_count": 35,
   "id": "inside-dubai",
   "metadata": {
    "execution": {
     "iopub.execute_input": "2021-10-04T00:25:30.332423Z",
     "iopub.status.busy": "2021-10-04T00:25:30.331629Z",
     "iopub.status.idle": "2021-10-04T00:25:30.334528Z",
     "shell.execute_reply": "2021-10-04T00:25:30.333890Z"
    },
    "papermill": {
     "duration": 0.048723,
     "end_time": "2021-10-04T00:25:30.334684",
     "exception": false,
     "start_time": "2021-10-04T00:25:30.285961",
     "status": "completed"
    },
    "tags": []
   },
   "outputs": [],
   "source": [
    "#hide\n",
    "# g = g.rename(columns= {'continent':'group','country':'name','cases':'value'})"
   ]
  },
  {
   "cell_type": "code",
   "execution_count": 36,
   "id": "fleet-motorcycle",
   "metadata": {
    "execution": {
     "iopub.execute_input": "2021-10-04T00:25:30.419705Z",
     "iopub.status.busy": "2021-10-04T00:25:30.419011Z",
     "iopub.status.idle": "2021-10-04T00:25:30.421558Z",
     "shell.execute_reply": "2021-10-04T00:25:30.420992Z"
    },
    "papermill": {
     "duration": 0.046651,
     "end_time": "2021-10-04T00:25:30.421691",
     "exception": false,
     "start_time": "2021-10-04T00:25:30.375040",
     "status": "completed"
    },
    "tags": []
   },
   "outputs": [],
   "source": [
    "#hide\n",
    "# cols = ['name','group','day','value']"
   ]
  },
  {
   "cell_type": "code",
   "execution_count": 37,
   "id": "continued-sleeping",
   "metadata": {
    "execution": {
     "iopub.execute_input": "2021-10-04T00:25:30.505796Z",
     "iopub.status.busy": "2021-10-04T00:25:30.505152Z",
     "iopub.status.idle": "2021-10-04T00:25:30.507570Z",
     "shell.execute_reply": "2021-10-04T00:25:30.506997Z"
    },
    "papermill": {
     "duration": 0.045882,
     "end_time": "2021-10-04T00:25:30.507710",
     "exception": false,
     "start_time": "2021-10-04T00:25:30.461828",
     "status": "completed"
    },
    "tags": []
   },
   "outputs": [],
   "source": [
    "#hide\n",
    "# g.rename(columns= {'date':'day'},inplace = True)"
   ]
  },
  {
   "cell_type": "code",
   "execution_count": 38,
   "id": "major-fight",
   "metadata": {
    "execution": {
     "iopub.execute_input": "2021-10-04T00:25:30.589903Z",
     "iopub.status.busy": "2021-10-04T00:25:30.589263Z",
     "iopub.status.idle": "2021-10-04T00:25:30.591704Z",
     "shell.execute_reply": "2021-10-04T00:25:30.592288Z"
    },
    "papermill": {
     "duration": 0.045473,
     "end_time": "2021-10-04T00:25:30.592424",
     "exception": false,
     "start_time": "2021-10-04T00:25:30.546951",
     "status": "completed"
    },
    "tags": []
   },
   "outputs": [],
   "source": [
    "#hide\n",
    "# g = g[cols]"
   ]
  },
  {
   "cell_type": "code",
   "execution_count": 39,
   "id": "structured-mobile",
   "metadata": {
    "execution": {
     "iopub.execute_input": "2021-10-04T00:25:30.677502Z",
     "iopub.status.busy": "2021-10-04T00:25:30.676877Z",
     "iopub.status.idle": "2021-10-04T00:25:30.679099Z",
     "shell.execute_reply": "2021-10-04T00:25:30.679597Z"
    },
    "papermill": {
     "duration": 0.045779,
     "end_time": "2021-10-04T00:25:30.679771",
     "exception": false,
     "start_time": "2021-10-04T00:25:30.633992",
     "status": "completed"
    },
    "tags": []
   },
   "outputs": [],
   "source": [
    "# #hide\n",
    "# g = g[g.group.notna()]"
   ]
  },
  {
   "cell_type": "code",
   "execution_count": 40,
   "id": "determined-closing",
   "metadata": {
    "execution": {
     "iopub.execute_input": "2021-10-04T00:25:30.762213Z",
     "iopub.status.busy": "2021-10-04T00:25:30.761542Z",
     "iopub.status.idle": "2021-10-04T00:25:30.764268Z",
     "shell.execute_reply": "2021-10-04T00:25:30.763573Z"
    },
    "papermill": {
     "duration": 0.04643,
     "end_time": "2021-10-04T00:25:30.764389",
     "exception": false,
     "start_time": "2021-10-04T00:25:30.717959",
     "status": "completed"
    },
    "tags": []
   },
   "outputs": [],
   "source": [
    "# #hide\n",
    "# colors = dict(zip(\n",
    "#     [\"Oceania\", \"Europe\", \"Asia\", \"South America\", \"Middle East\", \"North America\", \"Africa\"],\n",
    "#     [\"#adb0ff\", \"#ffb3ff\", \"#90d595\", \"#e48381\", \"#aafbff\", \"#f7bb5f\", \"#eafb50\"]\n",
    "# ))\n",
    "# group_lk = g.set_index('name')['group'].to_dict()"
   ]
  },
  {
   "cell_type": "code",
   "execution_count": null,
   "id": "gross-drinking",
   "metadata": {
    "papermill": {
     "duration": 0.046974,
     "end_time": "2021-10-04T00:25:30.849742",
     "exception": false,
     "start_time": "2021-10-04T00:25:30.802768",
     "status": "completed"
    },
    "tags": []
   },
   "outputs": [],
   "source": []
  },
  {
   "cell_type": "code",
   "execution_count": 41,
   "id": "subject-macintosh",
   "metadata": {
    "execution": {
     "iopub.execute_input": "2021-10-04T00:25:30.933325Z",
     "iopub.status.busy": "2021-10-04T00:25:30.932483Z",
     "iopub.status.idle": "2021-10-04T00:25:30.934360Z",
     "shell.execute_reply": "2021-10-04T00:25:30.935306Z"
    },
    "papermill": {
     "duration": 0.045933,
     "end_time": "2021-10-04T00:25:30.935444",
     "exception": false,
     "start_time": "2021-10-04T00:25:30.889511",
     "status": "completed"
    },
    "tags": []
   },
   "outputs": [],
   "source": [
    "# #hide\n",
    "# fig, ax = plt.subplots(figsize=(15, 8))\n",
    "\n",
    "# def draw_barchart(current_day):\n",
    "#     dff = g[g['day'].eq(current_day)].sort_values(by='value', ascending=True).tail(10)\n",
    "#     ax.clear()\n",
    "#     ax.barh(dff['name'], dff['value'], color=[colors[group_lk[x]] for x in dff['name']])\n",
    "#     dx = dff['value'].max() / 200\n",
    "    \n",
    "#     for i, (value, name) in enumerate(zip(dff['value'], dff['name'])):\n",
    "#         ax.text(value-dx, i,     name,           size=14, weight=600, ha='right', va='bottom')\n",
    "#         ax.text(value-dx, i-.25, group_lk[name], size=10, color='#444444', ha='right', va='baseline')\n",
    "#         ax.text(value+dx, i,     f'{value:,.0f}',  size=14, ha='left',  va='center')\n",
    "#     ax.text(1, 0.4, current_day, transform=ax.transAxes, color='#777777', size=46, ha='right', weight=800)\n",
    "#     ax.text(0, 1.06, 'Population (thousands)', transform=ax.transAxes, size=12, color='#777777')\n",
    "#     ax.xaxis.set_major_formatter(ticker.StrMethodFormatter('{x:,.0f}'))\n",
    "#     ax.xaxis.set_ticks_position('top')\n",
    "#     ax.tick_params(axis='x', colors='#777777', labelsize=12)\n",
    "#     ax.set_yticks([])\n",
    "#     ax.margins(0, 0.01)\n",
    "#     ax.grid(which='major', axis='x', linestyle='-')\n",
    "#     ax.set_axisbelow(True)\n",
    "    \n",
    "#     ax.text(0, 1.15, 'Coronavirus',\n",
    "#             transform=ax.transAxes, size=24, weight=600, ha='left', va='top')\n",
    "# #     ax.text(1, 0, 'by @pratapvardhan; credit @jburnmurdoch', transform=ax.transAxes, color='#777777', ha='right',\n",
    "# #             bbox=dict(facecolor='white', alpha=0.8, edgecolor='white'))\n",
    "#     plt.box(False)"
   ]
  },
  {
   "cell_type": "code",
   "execution_count": 42,
   "id": "sexual-wages",
   "metadata": {
    "execution": {
     "iopub.execute_input": "2021-10-04T00:25:31.016488Z",
     "iopub.status.busy": "2021-10-04T00:25:31.015516Z",
     "iopub.status.idle": "2021-10-04T00:25:31.017472Z",
     "shell.execute_reply": "2021-10-04T00:25:31.018422Z"
    },
    "papermill": {
     "duration": 0.045151,
     "end_time": "2021-10-04T00:25:31.018623",
     "exception": false,
     "start_time": "2021-10-04T00:25:30.973472",
     "status": "completed"
    },
    "tags": []
   },
   "outputs": [],
   "source": [
    "# #hide_input\n",
    "# fig, ax = plt.subplots(figsize=(15, 8))\n",
    "# animator = animation.FuncAnimation(fig, draw_barchart, frames=range(g.day.values.min(), g.day.values.max()))\n",
    "# HTML(animator.to_jshtml())\n",
    "# # or use animator.to_html5_video() or animator.save() "
   ]
  },
  {
   "cell_type": "code",
   "execution_count": null,
   "id": "australian-container",
   "metadata": {
    "papermill": {
     "duration": 0.041561,
     "end_time": "2021-10-04T00:25:31.103082",
     "exception": false,
     "start_time": "2021-10-04T00:25:31.061521",
     "status": "completed"
    },
    "tags": []
   },
   "outputs": [],
   "source": []
  },
  {
   "cell_type": "code",
   "execution_count": null,
   "id": "mediterranean-pontiac",
   "metadata": {
    "papermill": {
     "duration": 0.041082,
     "end_time": "2021-10-04T00:25:31.183027",
     "exception": false,
     "start_time": "2021-10-04T00:25:31.141945",
     "status": "completed"
    },
    "tags": []
   },
   "outputs": [],
   "source": []
  },
  {
   "cell_type": "code",
   "execution_count": null,
   "id": "aging-legislature",
   "metadata": {
    "papermill": {
     "duration": 0.043756,
     "end_time": "2021-10-04T00:25:31.269144",
     "exception": false,
     "start_time": "2021-10-04T00:25:31.225388",
     "status": "completed"
    },
    "tags": []
   },
   "outputs": [],
   "source": []
  }
 ],
 "metadata": {
  "kernelspec": {
   "display_name": "Python 3",
   "language": "python",
   "name": "python3"
  },
  "language_info": {
   "codemirror_mode": {
    "name": "ipython",
    "version": 3
   },
   "file_extension": ".py",
   "mimetype": "text/x-python",
   "name": "python",
   "nbconvert_exporter": "python",
   "pygments_lexer": "ipython3",
   "version": "3.6.15"
  },
  "papermill": {
   "duration": 7.269624,
   "end_time": "2021-10-04T00:25:31.621584",
   "environment_variables": {},
   "exception": null,
   "input_path": "2020-03-21-covid19exp.ipynb",
   "output_path": "2020-03-21-covid19exp.ipynb",
   "parameters": {},
   "start_time": "2021-10-04T00:25:24.351960",
   "version": "2.0.0"
  }
 },
 "nbformat": 4,
 "nbformat_minor": 5
}