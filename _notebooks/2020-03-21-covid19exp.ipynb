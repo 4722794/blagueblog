{
 "cells": [
  {
   "cell_type": "markdown",
   "id": "muslim-click",
   "metadata": {
    "papermill": {
     "duration": 0.04641,
     "end_time": "2021-12-20T00:27:20.748069",
     "exception": false,
     "start_time": "2021-12-20T00:27:20.701659",
     "status": "completed"
    },
    "tags": []
   },
   "source": [
    "# COVID-19 Case Race\n",
    "> A race chart to see rising cases around the world\n",
    "\n",
    "- author: Hargun Oberoi\n",
    "- image: images/covid-overview.png\n",
    "- hide: false\n",
    "- badges: false"
   ]
  },
  {
   "cell_type": "code",
   "execution_count": 1,
   "id": "proof-material",
   "metadata": {
    "execution": {
     "iopub.execute_input": "2021-12-20T00:27:20.848474Z",
     "iopub.status.busy": "2021-12-20T00:27:20.847666Z",
     "iopub.status.idle": "2021-12-20T00:27:21.258346Z",
     "shell.execute_reply": "2021-12-20T00:27:21.257721Z"
    },
    "papermill": {
     "duration": 0.464424,
     "end_time": "2021-12-20T00:27:21.258518",
     "exception": false,
     "start_time": "2021-12-20T00:27:20.794094",
     "status": "completed"
    },
    "tags": []
   },
   "outputs": [],
   "source": [
    "#hide\n",
    "import numpy as np\n",
    "import pandas as pd\n",
    "from jinja2 import Template\n",
    "from IPython.display import HTML"
   ]
  },
  {
   "cell_type": "code",
   "execution_count": 2,
   "id": "developed-terminology",
   "metadata": {
    "execution": {
     "iopub.execute_input": "2021-12-20T00:27:21.355122Z",
     "iopub.status.busy": "2021-12-20T00:27:21.354413Z",
     "iopub.status.idle": "2021-12-20T00:27:21.357474Z",
     "shell.execute_reply": "2021-12-20T00:27:21.356488Z"
    },
    "papermill": {
     "duration": 0.054923,
     "end_time": "2021-12-20T00:27:21.357619",
     "exception": false,
     "start_time": "2021-12-20T00:27:21.302696",
     "status": "completed"
    },
    "tags": []
   },
   "outputs": [],
   "source": [
    "#hide\n",
    "\n",
    "# FETCH\n",
    "base_url = 'https://raw.githubusercontent.com/pratapvardhan/notebooks/master/covid19/'\n",
    "paths = {\n",
    "    'mapping': base_url + 'mapping_countries.csv',\n",
    "    'overview': base_url + 'overview.tpl'\n",
    "}"
   ]
  },
  {
   "cell_type": "code",
   "execution_count": 3,
   "id": "dynamic-saver",
   "metadata": {
    "execution": {
     "iopub.execute_input": "2021-12-20T00:27:21.450675Z",
     "iopub.status.busy": "2021-12-20T00:27:21.449978Z",
     "iopub.status.idle": "2021-12-20T00:27:21.453871Z",
     "shell.execute_reply": "2021-12-20T00:27:21.453162Z"
    },
    "papermill": {
     "duration": 0.057031,
     "end_time": "2021-12-20T00:27:21.454009",
     "exception": false,
     "start_time": "2021-12-20T00:27:21.396978",
     "status": "completed"
    },
    "tags": []
   },
   "outputs": [
    {
     "data": {
      "text/plain": [
       "'https://raw.githubusercontent.com/pratapvardhan/notebooks/master/covid19/mapping_countries.csv'"
      ]
     },
     "execution_count": 3,
     "metadata": {},
     "output_type": "execute_result"
    }
   ],
   "source": [
    "#hide\n",
    "paths['mapping']"
   ]
  },
  {
   "cell_type": "code",
   "execution_count": 4,
   "id": "urban-software",
   "metadata": {
    "execution": {
     "iopub.execute_input": "2021-12-20T00:27:21.540317Z",
     "iopub.status.busy": "2021-12-20T00:27:21.539557Z",
     "iopub.status.idle": "2021-12-20T00:27:21.544233Z",
     "shell.execute_reply": "2021-12-20T00:27:21.543670Z"
    },
    "papermill": {
     "duration": 0.05025,
     "end_time": "2021-12-20T00:27:21.544371",
     "exception": false,
     "start_time": "2021-12-20T00:27:21.494121",
     "status": "completed"
    },
    "tags": []
   },
   "outputs": [],
   "source": [
    "#hide\n",
    "def get_mappings(url):\n",
    "    df = pd.read_csv(url)\n",
    "    return {\n",
    "        'df': df,\n",
    "        'replace.country': dict(df.dropna(subset=['Name']).set_index('Country')['Name']),\n",
    "        'map.continent': dict(df.set_index('Name')['Continent'])\n",
    "    }"
   ]
  },
  {
   "cell_type": "code",
   "execution_count": 5,
   "id": "intimate-machinery",
   "metadata": {
    "execution": {
     "iopub.execute_input": "2021-12-20T00:27:21.632862Z",
     "iopub.status.busy": "2021-12-20T00:27:21.631881Z",
     "iopub.status.idle": "2021-12-20T00:27:21.682256Z",
     "shell.execute_reply": "2021-12-20T00:27:21.681630Z"
    },
    "papermill": {
     "duration": 0.09694,
     "end_time": "2021-12-20T00:27:21.682411",
     "exception": false,
     "start_time": "2021-12-20T00:27:21.585471",
     "status": "completed"
    },
    "tags": []
   },
   "outputs": [],
   "source": [
    "#hide\n",
    "mapping = get_mappings(paths['mapping'])"
   ]
  },
  {
   "cell_type": "code",
   "execution_count": 6,
   "id": "certified-tactics",
   "metadata": {
    "execution": {
     "iopub.execute_input": "2021-12-20T00:27:21.771542Z",
     "iopub.status.busy": "2021-12-20T00:27:21.770841Z",
     "iopub.status.idle": "2021-12-20T00:27:21.773916Z",
     "shell.execute_reply": "2021-12-20T00:27:21.773217Z"
    },
    "papermill": {
     "duration": 0.048389,
     "end_time": "2021-12-20T00:27:21.774042",
     "exception": false,
     "start_time": "2021-12-20T00:27:21.725653",
     "status": "completed"
    },
    "tags": []
   },
   "outputs": [],
   "source": [
    "#hide\n",
    "def get_template(path):\n",
    "    from urllib.parse import urlparse\n",
    "    if bool(urlparse(path).netloc):\n",
    "        from urllib.request import urlopen\n",
    "        return urlopen(path).read().decode('utf8')\n",
    "    return open(path).read()"
   ]
  },
  {
   "cell_type": "code",
   "execution_count": 7,
   "id": "realistic-blast",
   "metadata": {
    "execution": {
     "iopub.execute_input": "2021-12-20T00:27:21.859624Z",
     "iopub.status.busy": "2021-12-20T00:27:21.858911Z",
     "iopub.status.idle": "2021-12-20T00:27:21.861853Z",
     "shell.execute_reply": "2021-12-20T00:27:21.861198Z"
    },
    "papermill": {
     "duration": 0.048115,
     "end_time": "2021-12-20T00:27:21.861998",
     "exception": false,
     "start_time": "2021-12-20T00:27:21.813883",
     "status": "completed"
    },
    "tags": []
   },
   "outputs": [],
   "source": [
    "#hide\n",
    "def get_frame(name):\n",
    "    url = (\n",
    "        'https://raw.githubusercontent.com/CSSEGISandData/COVID-19/master/csse_covid_19_data/'\n",
    "        f'csse_covid_19_time_series/time_series_covid19_{name}_global.csv')\n",
    "    df = pd.read_csv(url)\n",
    "    # rename countries\n",
    "    df['Country/Region'] = df['Country/Region'].replace(mapping['replace.country'])\n",
    "    return df"
   ]
  },
  {
   "cell_type": "code",
   "execution_count": 8,
   "id": "affiliated-characterization",
   "metadata": {
    "execution": {
     "iopub.execute_input": "2021-12-20T00:27:21.954048Z",
     "iopub.status.busy": "2021-12-20T00:27:21.952965Z",
     "iopub.status.idle": "2021-12-20T00:27:21.955168Z",
     "shell.execute_reply": "2021-12-20T00:27:21.955831Z"
    },
    "papermill": {
     "duration": 0.04906,
     "end_time": "2021-12-20T00:27:21.956012",
     "exception": false,
     "start_time": "2021-12-20T00:27:21.906952",
     "status": "completed"
    },
    "tags": []
   },
   "outputs": [],
   "source": [
    "#hide\n",
    "def get_dates(df):\n",
    "    dt_cols = df.columns[~df.columns.isin(['Province/State', 'Country/Region', 'Lat', 'Long'])]\n",
    "    LAST_DATE_I = -1\n",
    "    # sometimes last column may be empty, then go backwards\n",
    "    for i in range(-1, -len(dt_cols), -1):\n",
    "        if not df[dt_cols[i]].fillna(0).eq(0).all():\n",
    "            LAST_DATE_I = i\n",
    "            break\n",
    "    return LAST_DATE_I, dt_cols"
   ]
  },
  {
   "cell_type": "code",
   "execution_count": 9,
   "id": "recent-optimization",
   "metadata": {
    "execution": {
     "iopub.execute_input": "2021-12-20T00:27:22.046512Z",
     "iopub.status.busy": "2021-12-20T00:27:22.045760Z",
     "iopub.status.idle": "2021-12-20T00:27:22.523146Z",
     "shell.execute_reply": "2021-12-20T00:27:22.522588Z"
    },
    "papermill": {
     "duration": 0.525674,
     "end_time": "2021-12-20T00:27:22.523286",
     "exception": false,
     "start_time": "2021-12-20T00:27:21.997612",
     "status": "completed"
    },
    "tags": []
   },
   "outputs": [],
   "source": [
    "#hide\n",
    "COL_REGION = 'Country/Region'\n",
    "# Confirmed, Recovered, Deaths\n",
    "df = get_frame('confirmed')\n",
    "# dft_: timeseries, dfc_: today country agg\n",
    "dft_cases = df\n",
    "dft_deaths = get_frame('deaths')\n",
    "dft_recovered = get_frame('recovered')\n",
    "LAST_DATE_I, dt_cols = get_dates(df)"
   ]
  },
  {
   "cell_type": "code",
   "execution_count": 10,
   "id": "absolute-copper",
   "metadata": {
    "execution": {
     "iopub.execute_input": "2021-12-20T00:27:22.610200Z",
     "iopub.status.busy": "2021-12-20T00:27:22.609487Z",
     "iopub.status.idle": "2021-12-20T00:27:22.611325Z",
     "shell.execute_reply": "2021-12-20T00:27:22.611905Z"
    },
    "papermill": {
     "duration": 0.04643,
     "end_time": "2021-12-20T00:27:22.612078",
     "exception": false,
     "start_time": "2021-12-20T00:27:22.565648",
     "status": "completed"
    },
    "tags": []
   },
   "outputs": [],
   "source": [
    "#hide\n",
    "LAST_DATE_I, dt_cols = get_dates(df)\n",
    "dt_today =dt_cols[LAST_DATE_I]\n",
    "# dt_5day = dt_cols[LAST_DATE_I - 5]\n",
    "dt_yday = dt_cols[LAST_DATE_I - 1]"
   ]
  },
  {
   "cell_type": "code",
   "execution_count": 11,
   "id": "restricted-sheriff",
   "metadata": {
    "execution": {
     "iopub.execute_input": "2021-12-20T00:27:22.695842Z",
     "iopub.status.busy": "2021-12-20T00:27:22.695116Z",
     "iopub.status.idle": "2021-12-20T00:27:22.704799Z",
     "shell.execute_reply": "2021-12-20T00:27:22.704297Z"
    },
    "papermill": {
     "duration": 0.056185,
     "end_time": "2021-12-20T00:27:22.704925",
     "exception": false,
     "start_time": "2021-12-20T00:27:22.648740",
     "status": "completed"
    },
    "tags": []
   },
   "outputs": [],
   "source": [
    "#hide\n",
    "dfc_cases = dft_cases.groupby(COL_REGION)[dt_today].sum()\n",
    "dfc_deaths = dft_deaths.groupby(COL_REGION)[dt_today].sum()\n",
    "# dfp_cases = dft_cases.groupby(COL_REGION)[dt_5day].sum()\n",
    "# dfp_deaths = dft_deaths.groupby(COL_REGION)[dt_5day].sum()\n",
    "dfp_cases = dft_cases.groupby(COL_REGION)[dt_yday].sum()\n",
    "dfp_deaths = dft_deaths.groupby(COL_REGION)[dt_yday].sum()"
   ]
  },
  {
   "cell_type": "code",
   "execution_count": 12,
   "id": "deluxe-hepatitis",
   "metadata": {
    "execution": {
     "iopub.execute_input": "2021-12-20T00:27:22.788595Z",
     "iopub.status.busy": "2021-12-20T00:27:22.787972Z",
     "iopub.status.idle": "2021-12-20T00:27:22.792798Z",
     "shell.execute_reply": "2021-12-20T00:27:22.793917Z"
    },
    "papermill": {
     "duration": 0.050155,
     "end_time": "2021-12-20T00:27:22.794060",
     "exception": false,
     "start_time": "2021-12-20T00:27:22.743905",
     "status": "completed"
    },
    "tags": []
   },
   "outputs": [],
   "source": [
    "#hide\n",
    "df_table = (pd.DataFrame(dict(Cases = dfc_cases, Deaths = dfc_deaths, PCases = dfp_cases, PDeaths = dfp_deaths))\n",
    "            .sort_values(by = ['Cases','Deaths'], ascending = [False, False])\n",
    "            .reset_index())"
   ]
  },
  {
   "cell_type": "code",
   "execution_count": 13,
   "id": "educational-chancellor",
   "metadata": {
    "execution": {
     "iopub.execute_input": "2021-12-20T00:27:22.896694Z",
     "iopub.status.busy": "2021-12-20T00:27:22.895969Z",
     "iopub.status.idle": "2021-12-20T00:27:22.906875Z",
     "shell.execute_reply": "2021-12-20T00:27:22.906348Z"
    },
    "papermill": {
     "duration": 0.074803,
     "end_time": "2021-12-20T00:27:22.907009",
     "exception": false,
     "start_time": "2021-12-20T00:27:22.832206",
     "status": "completed"
    },
    "tags": []
   },
   "outputs": [
    {
     "data": {
      "text/html": [
       "<div>\n",
       "<style scoped>\n",
       "    .dataframe tbody tr th:only-of-type {\n",
       "        vertical-align: middle;\n",
       "    }\n",
       "\n",
       "    .dataframe tbody tr th {\n",
       "        vertical-align: top;\n",
       "    }\n",
       "\n",
       "    .dataframe thead th {\n",
       "        text-align: right;\n",
       "    }\n",
       "</style>\n",
       "<table border=\"1\" class=\"dataframe\">\n",
       "  <thead>\n",
       "    <tr style=\"text-align: right;\">\n",
       "      <th></th>\n",
       "      <th>Country/Region</th>\n",
       "      <th>Cases</th>\n",
       "      <th>Deaths</th>\n",
       "      <th>PCases</th>\n",
       "      <th>PDeaths</th>\n",
       "      <th>Cases (+)</th>\n",
       "      <th>Deaths (+)</th>\n",
       "      <th>Fatality Rate</th>\n",
       "      <th>Continent</th>\n",
       "    </tr>\n",
       "  </thead>\n",
       "  <tbody>\n",
       "    <tr>\n",
       "      <th>0</th>\n",
       "      <td>US</td>\n",
       "      <td>50777087</td>\n",
       "      <td>806302</td>\n",
       "      <td>50706733</td>\n",
       "      <td>805823</td>\n",
       "      <td>70354</td>\n",
       "      <td>479</td>\n",
       "      <td>1.59</td>\n",
       "      <td>North America</td>\n",
       "    </tr>\n",
       "    <tr>\n",
       "      <th>1</th>\n",
       "      <td>India</td>\n",
       "      <td>34733194</td>\n",
       "      <td>477158</td>\n",
       "      <td>34726049</td>\n",
       "      <td>476869</td>\n",
       "      <td>7145</td>\n",
       "      <td>289</td>\n",
       "      <td>1.37</td>\n",
       "      <td>Asia</td>\n",
       "    </tr>\n",
       "    <tr>\n",
       "      <th>2</th>\n",
       "      <td>Brazil</td>\n",
       "      <td>22204941</td>\n",
       "      <td>617395</td>\n",
       "      <td>22204941</td>\n",
       "      <td>617395</td>\n",
       "      <td>0</td>\n",
       "      <td>0</td>\n",
       "      <td>2.78</td>\n",
       "      <td>South America</td>\n",
       "    </tr>\n",
       "    <tr>\n",
       "      <th>3</th>\n",
       "      <td>United Kingdom</td>\n",
       "      <td>11343594</td>\n",
       "      <td>147634</td>\n",
       "      <td>11254404</td>\n",
       "      <td>147509</td>\n",
       "      <td>89190</td>\n",
       "      <td>125</td>\n",
       "      <td>1.30</td>\n",
       "      <td>Europe</td>\n",
       "    </tr>\n",
       "    <tr>\n",
       "      <th>4</th>\n",
       "      <td>Russia</td>\n",
       "      <td>10009866</td>\n",
       "      <td>290340</td>\n",
       "      <td>9982735</td>\n",
       "      <td>289292</td>\n",
       "      <td>27131</td>\n",
       "      <td>1048</td>\n",
       "      <td>2.90</td>\n",
       "      <td>Europe</td>\n",
       "    </tr>\n",
       "  </tbody>\n",
       "</table>\n",
       "</div>"
      ],
      "text/plain": [
       "   Country/Region     Cases  Deaths    PCases  PDeaths  Cases (+)  Deaths (+)  \\\n",
       "0              US  50777087  806302  50706733   805823      70354         479   \n",
       "1           India  34733194  477158  34726049   476869       7145         289   \n",
       "2          Brazil  22204941  617395  22204941   617395          0           0   \n",
       "3  United Kingdom  11343594  147634  11254404   147509      89190         125   \n",
       "4          Russia  10009866  290340   9982735   289292      27131        1048   \n",
       "\n",
       "   Fatality Rate      Continent  \n",
       "0           1.59  North America  \n",
       "1           1.37           Asia  \n",
       "2           2.78  South America  \n",
       "3           1.30         Europe  \n",
       "4           2.90         Europe  "
      ]
     },
     "execution_count": 13,
     "metadata": {},
     "output_type": "execute_result"
    }
   ],
   "source": [
    "#hide\n",
    "for c in 'Cases, Deaths'.split(', '):\n",
    "    df_table[f'{c} (+)'] = (df_table[c] - df_table[f'P{c}']).clip(0)\n",
    "    #Clip ça veut dire, les chiffres negatif sont interdit\n",
    "df_table['Fatality Rate'] = (100* df_table['Deaths']/ df_table['Cases']).round(2)\n",
    "df_table['Continent'] = df_table['Country/Region'].map(mapping['map.continent'])\n",
    "df_table.head(5)"
   ]
  },
  {
   "cell_type": "code",
   "execution_count": 14,
   "id": "aboriginal-bulgaria",
   "metadata": {
    "execution": {
     "iopub.execute_input": "2021-12-20T00:27:22.989976Z",
     "iopub.status.busy": "2021-12-20T00:27:22.989175Z",
     "iopub.status.idle": "2021-12-20T00:27:22.990970Z",
     "shell.execute_reply": "2021-12-20T00:27:22.991481Z"
    },
    "papermill": {
     "duration": 0.046669,
     "end_time": "2021-12-20T00:27:22.991624",
     "exception": false,
     "start_time": "2021-12-20T00:27:22.944955",
     "status": "completed"
    },
    "tags": []
   },
   "outputs": [],
   "source": [
    "#hide\n",
    "#delete problematic countries from table\n",
    "df_table = df_table[~df_table['Country/Region'].isin(['Cape Verde', 'Cruise Ship', 'Kosovo'])]"
   ]
  },
  {
   "cell_type": "code",
   "execution_count": 15,
   "id": "fantastic-effect",
   "metadata": {
    "execution": {
     "iopub.execute_input": "2021-12-20T00:27:23.075991Z",
     "iopub.status.busy": "2021-12-20T00:27:23.075353Z",
     "iopub.status.idle": "2021-12-20T00:27:23.098808Z",
     "shell.execute_reply": "2021-12-20T00:27:23.099332Z"
    },
    "papermill": {
     "duration": 0.070932,
     "end_time": "2021-12-20T00:27:23.099483",
     "exception": false,
     "start_time": "2021-12-20T00:27:23.028551",
     "status": "completed"
    },
    "tags": []
   },
   "outputs": [
    {
     "data": {
      "text/html": [
       "<div>\n",
       "<style scoped>\n",
       "    .dataframe tbody tr th:only-of-type {\n",
       "        vertical-align: middle;\n",
       "    }\n",
       "\n",
       "    .dataframe tbody tr th {\n",
       "        vertical-align: top;\n",
       "    }\n",
       "\n",
       "    .dataframe thead th {\n",
       "        text-align: right;\n",
       "    }\n",
       "</style>\n",
       "<table border=\"1\" class=\"dataframe\">\n",
       "  <thead>\n",
       "    <tr style=\"text-align: right;\">\n",
       "      <th></th>\n",
       "      <th>Country/Region</th>\n",
       "      <th>Cases</th>\n",
       "      <th>Deaths</th>\n",
       "      <th>PCases</th>\n",
       "      <th>PDeaths</th>\n",
       "      <th>Cases (+)</th>\n",
       "      <th>Deaths (+)</th>\n",
       "      <th>Fatality Rate</th>\n",
       "      <th>Continent</th>\n",
       "    </tr>\n",
       "  </thead>\n",
       "  <tbody>\n",
       "    <tr>\n",
       "      <th>0</th>\n",
       "      <td>US</td>\n",
       "      <td>50777087</td>\n",
       "      <td>806302</td>\n",
       "      <td>50706733</td>\n",
       "      <td>805823</td>\n",
       "      <td>70354</td>\n",
       "      <td>479</td>\n",
       "      <td>1.6</td>\n",
       "      <td>North America</td>\n",
       "    </tr>\n",
       "    <tr>\n",
       "      <th>1</th>\n",
       "      <td>India</td>\n",
       "      <td>34733194</td>\n",
       "      <td>477158</td>\n",
       "      <td>34726049</td>\n",
       "      <td>476869</td>\n",
       "      <td>7145</td>\n",
       "      <td>289</td>\n",
       "      <td>1.4</td>\n",
       "      <td>Asia</td>\n",
       "    </tr>\n",
       "    <tr>\n",
       "      <th>2</th>\n",
       "      <td>Brazil</td>\n",
       "      <td>22204941</td>\n",
       "      <td>617395</td>\n",
       "      <td>22204941</td>\n",
       "      <td>617395</td>\n",
       "      <td>0</td>\n",
       "      <td>0</td>\n",
       "      <td>2.8</td>\n",
       "      <td>South America</td>\n",
       "    </tr>\n",
       "    <tr>\n",
       "      <th>3</th>\n",
       "      <td>United Kingdom</td>\n",
       "      <td>11343594</td>\n",
       "      <td>147634</td>\n",
       "      <td>11254404</td>\n",
       "      <td>147509</td>\n",
       "      <td>89190</td>\n",
       "      <td>125</td>\n",
       "      <td>1.3</td>\n",
       "      <td>Europe</td>\n",
       "    </tr>\n",
       "    <tr>\n",
       "      <th>4</th>\n",
       "      <td>Russia</td>\n",
       "      <td>10009866</td>\n",
       "      <td>290340</td>\n",
       "      <td>9982735</td>\n",
       "      <td>289292</td>\n",
       "      <td>27131</td>\n",
       "      <td>1048</td>\n",
       "      <td>2.9</td>\n",
       "      <td>Europe</td>\n",
       "    </tr>\n",
       "  </tbody>\n",
       "</table>\n",
       "</div>"
      ],
      "text/plain": [
       "   Country/Region     Cases  Deaths    PCases  PDeaths  Cases (+)  Deaths (+)  \\\n",
       "0              US  50777087  806302  50706733   805823      70354         479   \n",
       "1           India  34733194  477158  34726049   476869       7145         289   \n",
       "2          Brazil  22204941  617395  22204941   617395          0           0   \n",
       "3  United Kingdom  11343594  147634  11254404   147509      89190         125   \n",
       "4          Russia  10009866  290340   9982735   289292      27131        1048   \n",
       "\n",
       "   Fatality Rate      Continent  \n",
       "0            1.6  North America  \n",
       "1            1.4           Asia  \n",
       "2            2.8  South America  \n",
       "3            1.3         Europe  \n",
       "4            2.9         Europe  "
      ]
     },
     "execution_count": 15,
     "metadata": {},
     "output_type": "execute_result"
    }
   ],
   "source": [
    "#hide\n",
    "df_table = (pd.DataFrame(dict(Cases=dfc_cases, Deaths=dfc_deaths, PCases=dfp_cases, PDeaths=dfp_deaths))\n",
    "             .sort_values(by=['Cases', 'Deaths'], ascending=[False, False])\n",
    "             .reset_index())\n",
    "df_table.rename(columns={'index': 'Country/Region'}, inplace=True)\n",
    "for c in 'Cases, Deaths'.split(', '):\n",
    "    df_table[f'{c} (+)'] = (df_table[c] - df_table[f'P{c}']).clip(0)  # DATA BUG\n",
    "df_table['Fatality Rate'] = (100 * df_table['Deaths'] / df_table['Cases']).round(1)\n",
    "df_table['Continent'] = df_table['Country/Region'].map(mapping['map.continent'])\n",
    "df_table.head(5)"
   ]
  },
  {
   "cell_type": "code",
   "execution_count": 16,
   "id": "fewer-occasion",
   "metadata": {
    "execution": {
     "iopub.execute_input": "2021-12-20T00:27:23.182867Z",
     "iopub.status.busy": "2021-12-20T00:27:23.182211Z",
     "iopub.status.idle": "2021-12-20T00:27:23.185004Z",
     "shell.execute_reply": "2021-12-20T00:27:23.184453Z"
    },
    "papermill": {
     "duration": 0.047897,
     "end_time": "2021-12-20T00:27:23.185154",
     "exception": false,
     "start_time": "2021-12-20T00:27:23.137257",
     "status": "completed"
    },
    "tags": []
   },
   "outputs": [],
   "source": [
    "#hide\n",
    "#delete problematic countries from table\n",
    "df_table = df_table[~df_table['Country/Region'].isin(['Cape Verde', 'Cruise Ship', 'Kosovo'])]"
   ]
  },
  {
   "cell_type": "code",
   "execution_count": 17,
   "id": "related-center",
   "metadata": {
    "execution": {
     "iopub.execute_input": "2021-12-20T00:27:23.290850Z",
     "iopub.status.busy": "2021-12-20T00:27:23.290036Z",
     "iopub.status.idle": "2021-12-20T00:27:23.293160Z",
     "shell.execute_reply": "2021-12-20T00:27:23.294355Z"
    },
    "papermill": {
     "duration": 0.067758,
     "end_time": "2021-12-20T00:27:23.294522",
     "exception": false,
     "start_time": "2021-12-20T00:27:23.226764",
     "status": "completed"
    },
    "tags": []
   },
   "outputs": [],
   "source": [
    "#hide\n",
    "metrics = [df_table.columns[index] for index in [1,2,5,6]]\n",
    "# s_china = df_table[df_table['Country/Region'].eq('China')][metrics].sum().add_prefix('China ')\n",
    "s_us = df_table[df_table['Country/Region'].eq('US')][metrics].sum().add_prefix('US ')\n",
    "s_eu = df_table[df_table['Continent'].eq('Europe')][metrics].sum().add_prefix('EU ')\n",
    "s_ind = df_table[df_table['Country/Region'].eq('India')][metrics].sum().add_prefix('India ')\n",
    "summary = {'updated': pd.to_datetime(dt_today), 'since': pd.to_datetime(dt_yday)}\n",
    "summary = {'updated': pd.to_datetime(dt_today), 'since': pd.to_datetime(dt_yday)}\n",
    "summary = {**summary, **df_table[metrics].sum(), **s_ind, **s_us, **s_eu}"
   ]
  },
  {
   "cell_type": "code",
   "execution_count": 18,
   "id": "engaging-syndrome",
   "metadata": {
    "execution": {
     "iopub.execute_input": "2021-12-20T00:27:23.384513Z",
     "iopub.status.busy": "2021-12-20T00:27:23.383732Z",
     "iopub.status.idle": "2021-12-20T00:27:23.400462Z",
     "shell.execute_reply": "2021-12-20T00:27:23.399926Z"
    },
    "papermill": {
     "duration": 0.061862,
     "end_time": "2021-12-20T00:27:23.400605",
     "exception": false,
     "start_time": "2021-12-20T00:27:23.338743",
     "status": "completed"
    },
    "tags": []
   },
   "outputs": [],
   "source": [
    "#hide\n",
    "dft_ct_new_cases = dft_cases.groupby(COL_REGION)[dt_cols].sum().diff(axis=1).fillna(0).astype(int)"
   ]
  },
  {
   "cell_type": "code",
   "execution_count": 19,
   "id": "neutral-assignment",
   "metadata": {
    "execution": {
     "iopub.execute_input": "2021-12-20T00:27:23.491113Z",
     "iopub.status.busy": "2021-12-20T00:27:23.490328Z",
     "iopub.status.idle": "2021-12-20T00:27:23.492897Z",
     "shell.execute_reply": "2021-12-20T00:27:23.493491Z"
    },
    "papermill": {
     "duration": 0.049662,
     "end_time": "2021-12-20T00:27:23.493727",
     "exception": false,
     "start_time": "2021-12-20T00:27:23.444065",
     "status": "completed"
    },
    "tags": []
   },
   "outputs": [],
   "source": [
    "#hide\n",
    "everydaycases = dft_ct_new_cases.cumsum(axis=1)"
   ]
  },
  {
   "cell_type": "code",
   "execution_count": 20,
   "id": "parliamentary-calgary",
   "metadata": {
    "execution": {
     "iopub.execute_input": "2021-12-20T00:27:23.577051Z",
     "iopub.status.busy": "2021-12-20T00:27:23.576451Z",
     "iopub.status.idle": "2021-12-20T00:27:24.414357Z",
     "shell.execute_reply": "2021-12-20T00:27:24.413738Z"
    },
    "papermill": {
     "duration": 0.880612,
     "end_time": "2021-12-20T00:27:24.414618",
     "exception": false,
     "start_time": "2021-12-20T00:27:23.534006",
     "status": "completed"
    },
    "tags": []
   },
   "outputs": [],
   "source": [
    "#hide\n",
    "import pandas as pd\n",
    "import matplotlib.pyplot as plt\n",
    "import matplotlib.ticker as ticker\n",
    "import matplotlib.animation as animation\n",
    "from IPython.display import HTML"
   ]
  },
  {
   "cell_type": "code",
   "execution_count": 21,
   "id": "lasting-extraction",
   "metadata": {
    "execution": {
     "iopub.execute_input": "2021-12-20T00:27:24.504321Z",
     "iopub.status.busy": "2021-12-20T00:27:24.503495Z",
     "iopub.status.idle": "2021-12-20T00:27:24.510117Z",
     "shell.execute_reply": "2021-12-20T00:27:24.510747Z"
    },
    "papermill": {
     "duration": 0.055346,
     "end_time": "2021-12-20T00:27:24.510915",
     "exception": false,
     "start_time": "2021-12-20T00:27:24.455569",
     "status": "completed"
    },
    "tags": []
   },
   "outputs": [],
   "source": [
    "#hide\n",
    "t = everydaycases.stack()"
   ]
  },
  {
   "cell_type": "code",
   "execution_count": 22,
   "id": "premier-sleeve",
   "metadata": {
    "execution": {
     "iopub.execute_input": "2021-12-20T00:27:24.599073Z",
     "iopub.status.busy": "2021-12-20T00:27:24.598358Z",
     "iopub.status.idle": "2021-12-20T00:27:24.610000Z",
     "shell.execute_reply": "2021-12-20T00:27:24.609350Z"
    },
    "papermill": {
     "duration": 0.058141,
     "end_time": "2021-12-20T00:27:24.610160",
     "exception": false,
     "start_time": "2021-12-20T00:27:24.552019",
     "status": "completed"
    },
    "tags": []
   },
   "outputs": [],
   "source": [
    "#hide\n",
    "g = t.reset_index(['Country/Region'])"
   ]
  },
  {
   "cell_type": "code",
   "execution_count": 23,
   "id": "distributed-pittsburgh",
   "metadata": {
    "execution": {
     "iopub.execute_input": "2021-12-20T00:27:24.700880Z",
     "iopub.status.busy": "2021-12-20T00:27:24.700142Z",
     "iopub.status.idle": "2021-12-20T00:27:24.704249Z",
     "shell.execute_reply": "2021-12-20T00:27:24.704799Z"
    },
    "papermill": {
     "duration": 0.050955,
     "end_time": "2021-12-20T00:27:24.704957",
     "exception": false,
     "start_time": "2021-12-20T00:27:24.654002",
     "status": "completed"
    },
    "tags": []
   },
   "outputs": [],
   "source": [
    "#hide\n",
    "g.index.name = 'date'"
   ]
  },
  {
   "cell_type": "code",
   "execution_count": 24,
   "id": "naked-donor",
   "metadata": {
    "execution": {
     "iopub.execute_input": "2021-12-20T00:27:24.795087Z",
     "iopub.status.busy": "2021-12-20T00:27:24.793491Z",
     "iopub.status.idle": "2021-12-20T00:27:24.795786Z",
     "shell.execute_reply": "2021-12-20T00:27:24.796461Z"
    },
    "papermill": {
     "duration": 0.050122,
     "end_time": "2021-12-20T00:27:24.796717",
     "exception": false,
     "start_time": "2021-12-20T00:27:24.746595",
     "status": "completed"
    },
    "tags": []
   },
   "outputs": [],
   "source": [
    "# #hide\n",
    "# g = g.reset_index(['date'])"
   ]
  },
  {
   "cell_type": "code",
   "execution_count": 25,
   "id": "incomplete-mustang",
   "metadata": {
    "execution": {
     "iopub.execute_input": "2021-12-20T00:27:24.886742Z",
     "iopub.status.busy": "2021-12-20T00:27:24.886062Z",
     "iopub.status.idle": "2021-12-20T00:27:24.890662Z",
     "shell.execute_reply": "2021-12-20T00:27:24.890090Z"
    },
    "papermill": {
     "duration": 0.051991,
     "end_time": "2021-12-20T00:27:24.890805",
     "exception": false,
     "start_time": "2021-12-20T00:27:24.838814",
     "status": "completed"
    },
    "tags": []
   },
   "outputs": [],
   "source": [
    "#hide\n",
    "# g.head()"
   ]
  },
  {
   "cell_type": "code",
   "execution_count": 26,
   "id": "specific-kruger",
   "metadata": {
    "execution": {
     "iopub.execute_input": "2021-12-20T00:27:24.978370Z",
     "iopub.status.busy": "2021-12-20T00:27:24.976687Z",
     "iopub.status.idle": "2021-12-20T00:27:24.979874Z",
     "shell.execute_reply": "2021-12-20T00:27:24.980486Z"
    },
    "papermill": {
     "duration": 0.048114,
     "end_time": "2021-12-20T00:27:24.980649",
     "exception": false,
     "start_time": "2021-12-20T00:27:24.932535",
     "status": "completed"
    },
    "tags": []
   },
   "outputs": [],
   "source": [
    "#hide\n",
    "# g.columns = ['date','country','cases']"
   ]
  },
  {
   "cell_type": "code",
   "execution_count": 27,
   "id": "tender-conversion",
   "metadata": {
    "execution": {
     "iopub.execute_input": "2021-12-20T00:27:25.066467Z",
     "iopub.status.busy": "2021-12-20T00:27:25.065827Z",
     "iopub.status.idle": "2021-12-20T00:27:25.069989Z",
     "shell.execute_reply": "2021-12-20T00:27:25.070611Z"
    },
    "papermill": {
     "duration": 0.049859,
     "end_time": "2021-12-20T00:27:25.070772",
     "exception": false,
     "start_time": "2021-12-20T00:27:25.020913",
     "status": "completed"
    },
    "tags": []
   },
   "outputs": [],
   "source": [
    "#hide\n",
    "# g['continent'] = g.country"
   ]
  },
  {
   "cell_type": "code",
   "execution_count": 28,
   "id": "substantial-wilderness",
   "metadata": {
    "execution": {
     "iopub.execute_input": "2021-12-20T00:27:25.155618Z",
     "iopub.status.busy": "2021-12-20T00:27:25.154694Z",
     "iopub.status.idle": "2021-12-20T00:27:25.156962Z",
     "shell.execute_reply": "2021-12-20T00:27:25.157495Z"
    },
    "papermill": {
     "duration": 0.046791,
     "end_time": "2021-12-20T00:27:25.157642",
     "exception": false,
     "start_time": "2021-12-20T00:27:25.110851",
     "status": "completed"
    },
    "tags": []
   },
   "outputs": [],
   "source": [
    "#hide\n",
    "# cols = list(g.columns.values)"
   ]
  },
  {
   "cell_type": "code",
   "execution_count": 29,
   "id": "solved-farming",
   "metadata": {
    "execution": {
     "iopub.execute_input": "2021-12-20T00:27:25.239623Z",
     "iopub.status.busy": "2021-12-20T00:27:25.238991Z",
     "iopub.status.idle": "2021-12-20T00:27:25.243902Z",
     "shell.execute_reply": "2021-12-20T00:27:25.244385Z"
    },
    "papermill": {
     "duration": 0.048435,
     "end_time": "2021-12-20T00:27:25.244556",
     "exception": false,
     "start_time": "2021-12-20T00:27:25.196121",
     "status": "completed"
    },
    "tags": []
   },
   "outputs": [],
   "source": [
    "#hide\n",
    "# cols.insert(0, cols.pop())"
   ]
  },
  {
   "cell_type": "code",
   "execution_count": 30,
   "id": "executed-adoption",
   "metadata": {
    "execution": {
     "iopub.execute_input": "2021-12-20T00:27:25.333680Z",
     "iopub.status.busy": "2021-12-20T00:27:25.333006Z",
     "iopub.status.idle": "2021-12-20T00:27:25.335350Z",
     "shell.execute_reply": "2021-12-20T00:27:25.334862Z"
    },
    "papermill": {
     "duration": 0.052669,
     "end_time": "2021-12-20T00:27:25.335475",
     "exception": false,
     "start_time": "2021-12-20T00:27:25.282806",
     "status": "completed"
    },
    "tags": []
   },
   "outputs": [],
   "source": [
    "#hide\n",
    "# g = g[cols]"
   ]
  },
  {
   "cell_type": "code",
   "execution_count": 31,
   "id": "subject-dublin",
   "metadata": {
    "execution": {
     "iopub.execute_input": "2021-12-20T00:27:25.421456Z",
     "iopub.status.busy": "2021-12-20T00:27:25.420599Z",
     "iopub.status.idle": "2021-12-20T00:27:25.425182Z",
     "shell.execute_reply": "2021-12-20T00:27:25.424453Z"
    },
    "papermill": {
     "duration": 0.049893,
     "end_time": "2021-12-20T00:27:25.425313",
     "exception": false,
     "start_time": "2021-12-20T00:27:25.375420",
     "status": "completed"
    },
    "tags": []
   },
   "outputs": [],
   "source": [
    "#hide\n",
    "# g['continent'] = g['continent'].map(mapping['map.continent'])"
   ]
  },
  {
   "cell_type": "code",
   "execution_count": 32,
   "id": "freelance-scout",
   "metadata": {
    "execution": {
     "iopub.execute_input": "2021-12-20T00:27:25.511438Z",
     "iopub.status.busy": "2021-12-20T00:27:25.510811Z",
     "iopub.status.idle": "2021-12-20T00:27:25.514887Z",
     "shell.execute_reply": "2021-12-20T00:27:25.515407Z"
    },
    "papermill": {
     "duration": 0.048873,
     "end_time": "2021-12-20T00:27:25.515570",
     "exception": false,
     "start_time": "2021-12-20T00:27:25.466697",
     "status": "completed"
    },
    "tags": []
   },
   "outputs": [],
   "source": [
    "#hide\n",
    "# g.head()"
   ]
  },
  {
   "cell_type": "code",
   "execution_count": 33,
   "id": "limited-engine",
   "metadata": {
    "execution": {
     "iopub.execute_input": "2021-12-20T00:27:25.607032Z",
     "iopub.status.busy": "2021-12-20T00:27:25.606392Z",
     "iopub.status.idle": "2021-12-20T00:27:25.610958Z",
     "shell.execute_reply": "2021-12-20T00:27:25.610431Z"
    },
    "papermill": {
     "duration": 0.048754,
     "end_time": "2021-12-20T00:27:25.611085",
     "exception": false,
     "start_time": "2021-12-20T00:27:25.562331",
     "status": "completed"
    },
    "tags": []
   },
   "outputs": [],
   "source": [
    "# hide\n",
    "# g['date'] = g['date'].astype('datetime64[ns]')"
   ]
  },
  {
   "cell_type": "code",
   "execution_count": 34,
   "id": "sophisticated-supervisor",
   "metadata": {
    "execution": {
     "iopub.execute_input": "2021-12-20T00:27:25.693302Z",
     "iopub.status.busy": "2021-12-20T00:27:25.692594Z",
     "iopub.status.idle": "2021-12-20T00:27:25.694787Z",
     "shell.execute_reply": "2021-12-20T00:27:25.694171Z"
    },
    "papermill": {
     "duration": 0.044177,
     "end_time": "2021-12-20T00:27:25.694909",
     "exception": false,
     "start_time": "2021-12-20T00:27:25.650732",
     "status": "completed"
    },
    "tags": []
   },
   "outputs": [],
   "source": [
    "#hide\n",
    "# g['date'] = g.date.dt.dayofyear"
   ]
  },
  {
   "cell_type": "code",
   "execution_count": 35,
   "id": "inside-dubai",
   "metadata": {
    "execution": {
     "iopub.execute_input": "2021-12-20T00:27:25.793919Z",
     "iopub.status.busy": "2021-12-20T00:27:25.793100Z",
     "iopub.status.idle": "2021-12-20T00:27:25.799128Z",
     "shell.execute_reply": "2021-12-20T00:27:25.799657Z"
    },
    "papermill": {
     "duration": 0.058619,
     "end_time": "2021-12-20T00:27:25.799820",
     "exception": false,
     "start_time": "2021-12-20T00:27:25.741201",
     "status": "completed"
    },
    "tags": []
   },
   "outputs": [],
   "source": [
    "#hide\n",
    "# g = g.rename(columns= {'continent':'group','country':'name','cases':'value'})"
   ]
  },
  {
   "cell_type": "code",
   "execution_count": 36,
   "id": "fleet-motorcycle",
   "metadata": {
    "execution": {
     "iopub.execute_input": "2021-12-20T00:27:25.896802Z",
     "iopub.status.busy": "2021-12-20T00:27:25.896052Z",
     "iopub.status.idle": "2021-12-20T00:27:25.901215Z",
     "shell.execute_reply": "2021-12-20T00:27:25.901908Z"
    },
    "papermill": {
     "duration": 0.055115,
     "end_time": "2021-12-20T00:27:25.902078",
     "exception": false,
     "start_time": "2021-12-20T00:27:25.846963",
     "status": "completed"
    },
    "tags": []
   },
   "outputs": [],
   "source": [
    "#hide\n",
    "# cols = ['name','group','day','value']"
   ]
  },
  {
   "cell_type": "code",
   "execution_count": 37,
   "id": "continued-sleeping",
   "metadata": {
    "execution": {
     "iopub.execute_input": "2021-12-20T00:27:25.994814Z",
     "iopub.status.busy": "2021-12-20T00:27:25.994213Z",
     "iopub.status.idle": "2021-12-20T00:27:25.996879Z",
     "shell.execute_reply": "2021-12-20T00:27:25.996270Z"
    },
    "papermill": {
     "duration": 0.049694,
     "end_time": "2021-12-20T00:27:25.996997",
     "exception": false,
     "start_time": "2021-12-20T00:27:25.947303",
     "status": "completed"
    },
    "tags": []
   },
   "outputs": [],
   "source": [
    "#hide\n",
    "# g.rename(columns= {'date':'day'},inplace = True)"
   ]
  },
  {
   "cell_type": "code",
   "execution_count": 38,
   "id": "major-fight",
   "metadata": {
    "execution": {
     "iopub.execute_input": "2021-12-20T00:27:26.082071Z",
     "iopub.status.busy": "2021-12-20T00:27:26.081183Z",
     "iopub.status.idle": "2021-12-20T00:27:26.084064Z",
     "shell.execute_reply": "2021-12-20T00:27:26.083482Z"
    },
    "papermill": {
     "duration": 0.047516,
     "end_time": "2021-12-20T00:27:26.084205",
     "exception": false,
     "start_time": "2021-12-20T00:27:26.036689",
     "status": "completed"
    },
    "tags": []
   },
   "outputs": [],
   "source": [
    "#hide\n",
    "# g = g[cols]"
   ]
  },
  {
   "cell_type": "code",
   "execution_count": 39,
   "id": "structured-mobile",
   "metadata": {
    "execution": {
     "iopub.execute_input": "2021-12-20T00:27:26.167106Z",
     "iopub.status.busy": "2021-12-20T00:27:26.166248Z",
     "iopub.status.idle": "2021-12-20T00:27:26.168791Z",
     "shell.execute_reply": "2021-12-20T00:27:26.168192Z"
    },
    "papermill": {
     "duration": 0.045405,
     "end_time": "2021-12-20T00:27:26.168915",
     "exception": false,
     "start_time": "2021-12-20T00:27:26.123510",
     "status": "completed"
    },
    "tags": []
   },
   "outputs": [],
   "source": [
    "# #hide\n",
    "# g = g[g.group.notna()]"
   ]
  },
  {
   "cell_type": "code",
   "execution_count": 40,
   "id": "determined-closing",
   "metadata": {
    "execution": {
     "iopub.execute_input": "2021-12-20T00:27:26.255885Z",
     "iopub.status.busy": "2021-12-20T00:27:26.255089Z",
     "iopub.status.idle": "2021-12-20T00:27:26.258281Z",
     "shell.execute_reply": "2021-12-20T00:27:26.257687Z"
    },
    "papermill": {
     "duration": 0.049158,
     "end_time": "2021-12-20T00:27:26.258411",
     "exception": false,
     "start_time": "2021-12-20T00:27:26.209253",
     "status": "completed"
    },
    "tags": []
   },
   "outputs": [],
   "source": [
    "# #hide\n",
    "# colors = dict(zip(\n",
    "#     [\"Oceania\", \"Europe\", \"Asia\", \"South America\", \"Middle East\", \"North America\", \"Africa\"],\n",
    "#     [\"#adb0ff\", \"#ffb3ff\", \"#90d595\", \"#e48381\", \"#aafbff\", \"#f7bb5f\", \"#eafb50\"]\n",
    "# ))\n",
    "# group_lk = g.set_index('name')['group'].to_dict()"
   ]
  },
  {
   "cell_type": "code",
   "execution_count": null,
   "id": "gross-drinking",
   "metadata": {
    "papermill": {
     "duration": 0.039623,
     "end_time": "2021-12-20T00:27:26.336867",
     "exception": false,
     "start_time": "2021-12-20T00:27:26.297244",
     "status": "completed"
    },
    "tags": []
   },
   "outputs": [],
   "source": []
  },
  {
   "cell_type": "code",
   "execution_count": 41,
   "id": "subject-macintosh",
   "metadata": {
    "execution": {
     "iopub.execute_input": "2021-12-20T00:27:26.421607Z",
     "iopub.status.busy": "2021-12-20T00:27:26.420781Z",
     "iopub.status.idle": "2021-12-20T00:27:26.424403Z",
     "shell.execute_reply": "2021-12-20T00:27:26.423680Z"
    },
    "papermill": {
     "duration": 0.047876,
     "end_time": "2021-12-20T00:27:26.424545",
     "exception": false,
     "start_time": "2021-12-20T00:27:26.376669",
     "status": "completed"
    },
    "tags": []
   },
   "outputs": [],
   "source": [
    "# #hide\n",
    "# fig, ax = plt.subplots(figsize=(15, 8))\n",
    "\n",
    "# def draw_barchart(current_day):\n",
    "#     dff = g[g['day'].eq(current_day)].sort_values(by='value', ascending=True).tail(10)\n",
    "#     ax.clear()\n",
    "#     ax.barh(dff['name'], dff['value'], color=[colors[group_lk[x]] for x in dff['name']])\n",
    "#     dx = dff['value'].max() / 200\n",
    "    \n",
    "#     for i, (value, name) in enumerate(zip(dff['value'], dff['name'])):\n",
    "#         ax.text(value-dx, i,     name,           size=14, weight=600, ha='right', va='bottom')\n",
    "#         ax.text(value-dx, i-.25, group_lk[name], size=10, color='#444444', ha='right', va='baseline')\n",
    "#         ax.text(value+dx, i,     f'{value:,.0f}',  size=14, ha='left',  va='center')\n",
    "#     ax.text(1, 0.4, current_day, transform=ax.transAxes, color='#777777', size=46, ha='right', weight=800)\n",
    "#     ax.text(0, 1.06, 'Population (thousands)', transform=ax.transAxes, size=12, color='#777777')\n",
    "#     ax.xaxis.set_major_formatter(ticker.StrMethodFormatter('{x:,.0f}'))\n",
    "#     ax.xaxis.set_ticks_position('top')\n",
    "#     ax.tick_params(axis='x', colors='#777777', labelsize=12)\n",
    "#     ax.set_yticks([])\n",
    "#     ax.margins(0, 0.01)\n",
    "#     ax.grid(which='major', axis='x', linestyle='-')\n",
    "#     ax.set_axisbelow(True)\n",
    "    \n",
    "#     ax.text(0, 1.15, 'Coronavirus',\n",
    "#             transform=ax.transAxes, size=24, weight=600, ha='left', va='top')\n",
    "# #     ax.text(1, 0, 'by @pratapvardhan; credit @jburnmurdoch', transform=ax.transAxes, color='#777777', ha='right',\n",
    "# #             bbox=dict(facecolor='white', alpha=0.8, edgecolor='white'))\n",
    "#     plt.box(False)"
   ]
  },
  {
   "cell_type": "code",
   "execution_count": 42,
   "id": "sexual-wages",
   "metadata": {
    "execution": {
     "iopub.execute_input": "2021-12-20T00:27:26.509574Z",
     "iopub.status.busy": "2021-12-20T00:27:26.508756Z",
     "iopub.status.idle": "2021-12-20T00:27:26.512305Z",
     "shell.execute_reply": "2021-12-20T00:27:26.511645Z"
    },
    "papermill": {
     "duration": 0.046766,
     "end_time": "2021-12-20T00:27:26.512435",
     "exception": false,
     "start_time": "2021-12-20T00:27:26.465669",
     "status": "completed"
    },
    "tags": []
   },
   "outputs": [],
   "source": [
    "# #hide_input\n",
    "# fig, ax = plt.subplots(figsize=(15, 8))\n",
    "# animator = animation.FuncAnimation(fig, draw_barchart, frames=range(g.day.values.min(), g.day.values.max()))\n",
    "# HTML(animator.to_jshtml())\n",
    "# # or use animator.to_html5_video() or animator.save() "
   ]
  },
  {
   "cell_type": "code",
   "execution_count": null,
   "id": "australian-container",
   "metadata": {
    "papermill": {
     "duration": 0.038957,
     "end_time": "2021-12-20T00:27:26.590038",
     "exception": false,
     "start_time": "2021-12-20T00:27:26.551081",
     "status": "completed"
    },
    "tags": []
   },
   "outputs": [],
   "source": []
  },
  {
   "cell_type": "code",
   "execution_count": null,
   "id": "mediterranean-pontiac",
   "metadata": {
    "papermill": {
     "duration": 0.040925,
     "end_time": "2021-12-20T00:27:26.671669",
     "exception": false,
     "start_time": "2021-12-20T00:27:26.630744",
     "status": "completed"
    },
    "tags": []
   },
   "outputs": [],
   "source": []
  },
  {
   "cell_type": "code",
   "execution_count": null,
   "id": "aging-legislature",
   "metadata": {
    "papermill": {
     "duration": 0.041725,
     "end_time": "2021-12-20T00:27:26.756456",
     "exception": false,
     "start_time": "2021-12-20T00:27:26.714731",
     "status": "completed"
    },
    "tags": []
   },
   "outputs": [],
   "source": []
  }
 ],
 "metadata": {
  "kernelspec": {
   "display_name": "Python 3",
   "language": "python",
   "name": "python3"
  },
  "language_info": {
   "codemirror_mode": {
    "name": "ipython",
    "version": 3
   },
   "file_extension": ".py",
   "mimetype": "text/x-python",
   "name": "python",
   "nbconvert_exporter": "python",
   "pygments_lexer": "ipython3",
   "version": "3.6.15"
  },
  "papermill": {
   "duration": 7.744378,
   "end_time": "2021-12-20T00:27:27.206176",
   "environment_variables": {},
   "exception": null,
   "input_path": "2020-03-21-covid19exp.ipynb",
   "output_path": "2020-03-21-covid19exp.ipynb",
   "parameters": {},
   "start_time": "2021-12-20T00:27:19.461798",
   "version": "2.0.0"
  }
 },
 "nbformat": 4,
 "nbformat_minor": 5
}