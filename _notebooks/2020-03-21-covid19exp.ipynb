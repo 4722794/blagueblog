{
 "cells": [
  {
   "cell_type": "markdown",
   "id": "muslim-click",
   "metadata": {
    "papermill": {
     "duration": 0.048862,
     "end_time": "2021-12-12T12:14:04.114942",
     "exception": false,
     "start_time": "2021-12-12T12:14:04.066080",
     "status": "completed"
    },
    "tags": []
   },
   "source": [
    "# COVID-19 Case Race\n",
    "> A race chart to see rising cases around the world\n",
    "\n",
    "- author: Hargun Oberoi\n",
    "- image: images/covid-overview.png\n",
    "- hide: false\n",
    "- badges: false"
   ]
  },
  {
   "cell_type": "code",
   "execution_count": 1,
   "id": "proof-material",
   "metadata": {
    "execution": {
     "iopub.execute_input": "2021-12-12T12:14:04.209196Z",
     "iopub.status.busy": "2021-12-12T12:14:04.208465Z",
     "iopub.status.idle": "2021-12-12T12:14:04.639022Z",
     "shell.execute_reply": "2021-12-12T12:14:04.638334Z"
    },
    "papermill": {
     "duration": 0.481916,
     "end_time": "2021-12-12T12:14:04.639282",
     "exception": false,
     "start_time": "2021-12-12T12:14:04.157366",
     "status": "completed"
    },
    "tags": []
   },
   "outputs": [],
   "source": [
    "#hide\n",
    "import numpy as np\n",
    "import pandas as pd\n",
    "from jinja2 import Template\n",
    "from IPython.display import HTML"
   ]
  },
  {
   "cell_type": "code",
   "execution_count": 2,
   "id": "developed-terminology",
   "metadata": {
    "execution": {
     "iopub.execute_input": "2021-12-12T12:14:04.726866Z",
     "iopub.status.busy": "2021-12-12T12:14:04.726161Z",
     "iopub.status.idle": "2021-12-12T12:14:04.728517Z",
     "shell.execute_reply": "2021-12-12T12:14:04.729101Z"
    },
    "papermill": {
     "duration": 0.050116,
     "end_time": "2021-12-12T12:14:04.729258",
     "exception": false,
     "start_time": "2021-12-12T12:14:04.679142",
     "status": "completed"
    },
    "tags": []
   },
   "outputs": [],
   "source": [
    "#hide\n",
    "\n",
    "# FETCH\n",
    "base_url = 'https://raw.githubusercontent.com/pratapvardhan/notebooks/master/covid19/'\n",
    "paths = {\n",
    "    'mapping': base_url + 'mapping_countries.csv',\n",
    "    'overview': base_url + 'overview.tpl'\n",
    "}"
   ]
  },
  {
   "cell_type": "code",
   "execution_count": 3,
   "id": "dynamic-saver",
   "metadata": {
    "execution": {
     "iopub.execute_input": "2021-12-12T12:14:04.823725Z",
     "iopub.status.busy": "2021-12-12T12:14:04.823005Z",
     "iopub.status.idle": "2021-12-12T12:14:04.825793Z",
     "shell.execute_reply": "2021-12-12T12:14:04.826741Z"
    },
    "papermill": {
     "duration": 0.056334,
     "end_time": "2021-12-12T12:14:04.826917",
     "exception": false,
     "start_time": "2021-12-12T12:14:04.770583",
     "status": "completed"
    },
    "tags": []
   },
   "outputs": [
    {
     "data": {
      "text/plain": [
       "'https://raw.githubusercontent.com/pratapvardhan/notebooks/master/covid19/mapping_countries.csv'"
      ]
     },
     "execution_count": 3,
     "metadata": {},
     "output_type": "execute_result"
    }
   ],
   "source": [
    "#hide\n",
    "paths['mapping']"
   ]
  },
  {
   "cell_type": "code",
   "execution_count": 4,
   "id": "urban-software",
   "metadata": {
    "execution": {
     "iopub.execute_input": "2021-12-12T12:14:04.917661Z",
     "iopub.status.busy": "2021-12-12T12:14:04.916312Z",
     "iopub.status.idle": "2021-12-12T12:14:04.918389Z",
     "shell.execute_reply": "2021-12-12T12:14:04.918987Z"
    },
    "papermill": {
     "duration": 0.05062,
     "end_time": "2021-12-12T12:14:04.919156",
     "exception": false,
     "start_time": "2021-12-12T12:14:04.868536",
     "status": "completed"
    },
    "tags": []
   },
   "outputs": [],
   "source": [
    "#hide\n",
    "def get_mappings(url):\n",
    "    df = pd.read_csv(url)\n",
    "    return {\n",
    "        'df': df,\n",
    "        'replace.country': dict(df.dropna(subset=['Name']).set_index('Country')['Name']),\n",
    "        'map.continent': dict(df.set_index('Name')['Continent'])\n",
    "    }"
   ]
  },
  {
   "cell_type": "code",
   "execution_count": 5,
   "id": "intimate-machinery",
   "metadata": {
    "execution": {
     "iopub.execute_input": "2021-12-12T12:14:05.013100Z",
     "iopub.status.busy": "2021-12-12T12:14:05.012331Z",
     "iopub.status.idle": "2021-12-12T12:14:05.056414Z",
     "shell.execute_reply": "2021-12-12T12:14:05.055228Z"
    },
    "papermill": {
     "duration": 0.09679,
     "end_time": "2021-12-12T12:14:05.056564",
     "exception": false,
     "start_time": "2021-12-12T12:14:04.959774",
     "status": "completed"
    },
    "tags": []
   },
   "outputs": [],
   "source": [
    "#hide\n",
    "mapping = get_mappings(paths['mapping'])"
   ]
  },
  {
   "cell_type": "code",
   "execution_count": 6,
   "id": "certified-tactics",
   "metadata": {
    "execution": {
     "iopub.execute_input": "2021-12-12T12:14:05.153585Z",
     "iopub.status.busy": "2021-12-12T12:14:05.152921Z",
     "iopub.status.idle": "2021-12-12T12:14:05.155732Z",
     "shell.execute_reply": "2021-12-12T12:14:05.155065Z"
    },
    "papermill": {
     "duration": 0.052454,
     "end_time": "2021-12-12T12:14:05.155920",
     "exception": false,
     "start_time": "2021-12-12T12:14:05.103466",
     "status": "completed"
    },
    "tags": []
   },
   "outputs": [],
   "source": [
    "#hide\n",
    "def get_template(path):\n",
    "    from urllib.parse import urlparse\n",
    "    if bool(urlparse(path).netloc):\n",
    "        from urllib.request import urlopen\n",
    "        return urlopen(path).read().decode('utf8')\n",
    "    return open(path).read()"
   ]
  },
  {
   "cell_type": "code",
   "execution_count": 7,
   "id": "realistic-blast",
   "metadata": {
    "execution": {
     "iopub.execute_input": "2021-12-12T12:14:05.243518Z",
     "iopub.status.busy": "2021-12-12T12:14:05.242789Z",
     "iopub.status.idle": "2021-12-12T12:14:05.245251Z",
     "shell.execute_reply": "2021-12-12T12:14:05.245810Z"
    },
    "papermill": {
     "duration": 0.049968,
     "end_time": "2021-12-12T12:14:05.245957",
     "exception": false,
     "start_time": "2021-12-12T12:14:05.195989",
     "status": "completed"
    },
    "tags": []
   },
   "outputs": [],
   "source": [
    "#hide\n",
    "def get_frame(name):\n",
    "    url = (\n",
    "        'https://raw.githubusercontent.com/CSSEGISandData/COVID-19/master/csse_covid_19_data/'\n",
    "        f'csse_covid_19_time_series/time_series_covid19_{name}_global.csv')\n",
    "    df = pd.read_csv(url)\n",
    "    # rename countries\n",
    "    df['Country/Region'] = df['Country/Region'].replace(mapping['replace.country'])\n",
    "    return df"
   ]
  },
  {
   "cell_type": "code",
   "execution_count": 8,
   "id": "affiliated-characterization",
   "metadata": {
    "execution": {
     "iopub.execute_input": "2021-12-12T12:14:05.337771Z",
     "iopub.status.busy": "2021-12-12T12:14:05.337014Z",
     "iopub.status.idle": "2021-12-12T12:14:05.339290Z",
     "shell.execute_reply": "2021-12-12T12:14:05.340016Z"
    },
    "papermill": {
     "duration": 0.050049,
     "end_time": "2021-12-12T12:14:05.340163",
     "exception": false,
     "start_time": "2021-12-12T12:14:05.290114",
     "status": "completed"
    },
    "tags": []
   },
   "outputs": [],
   "source": [
    "#hide\n",
    "def get_dates(df):\n",
    "    dt_cols = df.columns[~df.columns.isin(['Province/State', 'Country/Region', 'Lat', 'Long'])]\n",
    "    LAST_DATE_I = -1\n",
    "    # sometimes last column may be empty, then go backwards\n",
    "    for i in range(-1, -len(dt_cols), -1):\n",
    "        if not df[dt_cols[i]].fillna(0).eq(0).all():\n",
    "            LAST_DATE_I = i\n",
    "            break\n",
    "    return LAST_DATE_I, dt_cols"
   ]
  },
  {
   "cell_type": "code",
   "execution_count": 9,
   "id": "recent-optimization",
   "metadata": {
    "execution": {
     "iopub.execute_input": "2021-12-12T12:14:05.430886Z",
     "iopub.status.busy": "2021-12-12T12:14:05.429777Z",
     "iopub.status.idle": "2021-12-12T12:14:05.930811Z",
     "shell.execute_reply": "2021-12-12T12:14:05.930190Z"
    },
    "papermill": {
     "duration": 0.547674,
     "end_time": "2021-12-12T12:14:05.931024",
     "exception": false,
     "start_time": "2021-12-12T12:14:05.383350",
     "status": "completed"
    },
    "tags": []
   },
   "outputs": [],
   "source": [
    "#hide\n",
    "COL_REGION = 'Country/Region'\n",
    "# Confirmed, Recovered, Deaths\n",
    "df = get_frame('confirmed')\n",
    "# dft_: timeseries, dfc_: today country agg\n",
    "dft_cases = df\n",
    "dft_deaths = get_frame('deaths')\n",
    "dft_recovered = get_frame('recovered')\n",
    "LAST_DATE_I, dt_cols = get_dates(df)"
   ]
  },
  {
   "cell_type": "code",
   "execution_count": 10,
   "id": "absolute-copper",
   "metadata": {
    "execution": {
     "iopub.execute_input": "2021-12-12T12:14:06.018078Z",
     "iopub.status.busy": "2021-12-12T12:14:06.017423Z",
     "iopub.status.idle": "2021-12-12T12:14:06.019826Z",
     "shell.execute_reply": "2021-12-12T12:14:06.020505Z"
    },
    "papermill": {
     "duration": 0.049791,
     "end_time": "2021-12-12T12:14:06.020648",
     "exception": false,
     "start_time": "2021-12-12T12:14:05.970857",
     "status": "completed"
    },
    "tags": []
   },
   "outputs": [],
   "source": [
    "#hide\n",
    "LAST_DATE_I, dt_cols = get_dates(df)\n",
    "dt_today =dt_cols[LAST_DATE_I]\n",
    "# dt_5day = dt_cols[LAST_DATE_I - 5]\n",
    "dt_yday = dt_cols[LAST_DATE_I - 1]"
   ]
  },
  {
   "cell_type": "code",
   "execution_count": 11,
   "id": "restricted-sheriff",
   "metadata": {
    "execution": {
     "iopub.execute_input": "2021-12-12T12:14:06.115971Z",
     "iopub.status.busy": "2021-12-12T12:14:06.115162Z",
     "iopub.status.idle": "2021-12-12T12:14:06.122174Z",
     "shell.execute_reply": "2021-12-12T12:14:06.122912Z"
    },
    "papermill": {
     "duration": 0.060483,
     "end_time": "2021-12-12T12:14:06.123073",
     "exception": false,
     "start_time": "2021-12-12T12:14:06.062590",
     "status": "completed"
    },
    "tags": []
   },
   "outputs": [],
   "source": [
    "#hide\n",
    "dfc_cases = dft_cases.groupby(COL_REGION)[dt_today].sum()\n",
    "dfc_deaths = dft_deaths.groupby(COL_REGION)[dt_today].sum()\n",
    "# dfp_cases = dft_cases.groupby(COL_REGION)[dt_5day].sum()\n",
    "# dfp_deaths = dft_deaths.groupby(COL_REGION)[dt_5day].sum()\n",
    "dfp_cases = dft_cases.groupby(COL_REGION)[dt_yday].sum()\n",
    "dfp_deaths = dft_deaths.groupby(COL_REGION)[dt_yday].sum()"
   ]
  },
  {
   "cell_type": "code",
   "execution_count": 12,
   "id": "deluxe-hepatitis",
   "metadata": {
    "execution": {
     "iopub.execute_input": "2021-12-12T12:14:06.209046Z",
     "iopub.status.busy": "2021-12-12T12:14:06.208401Z",
     "iopub.status.idle": "2021-12-12T12:14:06.214608Z",
     "shell.execute_reply": "2021-12-12T12:14:06.213951Z"
    },
    "papermill": {
     "duration": 0.050935,
     "end_time": "2021-12-12T12:14:06.214759",
     "exception": false,
     "start_time": "2021-12-12T12:14:06.163824",
     "status": "completed"
    },
    "tags": []
   },
   "outputs": [],
   "source": [
    "#hide\n",
    "df_table = (pd.DataFrame(dict(Cases = dfc_cases, Deaths = dfc_deaths, PCases = dfp_cases, PDeaths = dfp_deaths))\n",
    "            .sort_values(by = ['Cases','Deaths'], ascending = [False, False])\n",
    "            .reset_index())"
   ]
  },
  {
   "cell_type": "code",
   "execution_count": 13,
   "id": "educational-chancellor",
   "metadata": {
    "execution": {
     "iopub.execute_input": "2021-12-12T12:14:06.316556Z",
     "iopub.status.busy": "2021-12-12T12:14:06.315923Z",
     "iopub.status.idle": "2021-12-12T12:14:06.330561Z",
     "shell.execute_reply": "2021-12-12T12:14:06.331238Z"
    },
    "papermill": {
     "duration": 0.072184,
     "end_time": "2021-12-12T12:14:06.331387",
     "exception": false,
     "start_time": "2021-12-12T12:14:06.259203",
     "status": "completed"
    },
    "tags": []
   },
   "outputs": [
    {
     "data": {
      "text/html": [
       "<div>\n",
       "<style scoped>\n",
       "    .dataframe tbody tr th:only-of-type {\n",
       "        vertical-align: middle;\n",
       "    }\n",
       "\n",
       "    .dataframe tbody tr th {\n",
       "        vertical-align: top;\n",
       "    }\n",
       "\n",
       "    .dataframe thead th {\n",
       "        text-align: right;\n",
       "    }\n",
       "</style>\n",
       "<table border=\"1\" class=\"dataframe\">\n",
       "  <thead>\n",
       "    <tr style=\"text-align: right;\">\n",
       "      <th></th>\n",
       "      <th>Country/Region</th>\n",
       "      <th>Cases</th>\n",
       "      <th>Deaths</th>\n",
       "      <th>PCases</th>\n",
       "      <th>PDeaths</th>\n",
       "      <th>Cases (+)</th>\n",
       "      <th>Deaths (+)</th>\n",
       "      <th>Fatality Rate</th>\n",
       "      <th>Continent</th>\n",
       "    </tr>\n",
       "  </thead>\n",
       "  <tbody>\n",
       "    <tr>\n",
       "      <th>0</th>\n",
       "      <td>US</td>\n",
       "      <td>49884587</td>\n",
       "      <td>797179</td>\n",
       "      <td>49833439</td>\n",
       "      <td>796764</td>\n",
       "      <td>51148</td>\n",
       "      <td>415</td>\n",
       "      <td>1.60</td>\n",
       "      <td>North America</td>\n",
       "    </tr>\n",
       "    <tr>\n",
       "      <th>1</th>\n",
       "      <td>India</td>\n",
       "      <td>34690510</td>\n",
       "      <td>475434</td>\n",
       "      <td>34682633</td>\n",
       "      <td>474872</td>\n",
       "      <td>7877</td>\n",
       "      <td>562</td>\n",
       "      <td>1.37</td>\n",
       "      <td>Asia</td>\n",
       "    </tr>\n",
       "    <tr>\n",
       "      <th>2</th>\n",
       "      <td>Brazil</td>\n",
       "      <td>22177059</td>\n",
       "      <td>616457</td>\n",
       "      <td>22177059</td>\n",
       "      <td>616457</td>\n",
       "      <td>0</td>\n",
       "      <td>0</td>\n",
       "      <td>2.78</td>\n",
       "      <td>South America</td>\n",
       "    </tr>\n",
       "    <tr>\n",
       "      <th>3</th>\n",
       "      <td>United Kingdom</td>\n",
       "      <td>10833033</td>\n",
       "      <td>146844</td>\n",
       "      <td>10780610</td>\n",
       "      <td>146712</td>\n",
       "      <td>52423</td>\n",
       "      <td>132</td>\n",
       "      <td>1.36</td>\n",
       "      <td>Europe</td>\n",
       "    </tr>\n",
       "    <tr>\n",
       "      <th>4</th>\n",
       "      <td>Russia</td>\n",
       "      <td>9812538</td>\n",
       "      <td>282713</td>\n",
       "      <td>9782723</td>\n",
       "      <td>281571</td>\n",
       "      <td>29815</td>\n",
       "      <td>1142</td>\n",
       "      <td>2.88</td>\n",
       "      <td>Europe</td>\n",
       "    </tr>\n",
       "  </tbody>\n",
       "</table>\n",
       "</div>"
      ],
      "text/plain": [
       "   Country/Region     Cases  Deaths    PCases  PDeaths  Cases (+)  Deaths (+)  \\\n",
       "0              US  49884587  797179  49833439   796764      51148         415   \n",
       "1           India  34690510  475434  34682633   474872       7877         562   \n",
       "2          Brazil  22177059  616457  22177059   616457          0           0   \n",
       "3  United Kingdom  10833033  146844  10780610   146712      52423         132   \n",
       "4          Russia   9812538  282713   9782723   281571      29815        1142   \n",
       "\n",
       "   Fatality Rate      Continent  \n",
       "0           1.60  North America  \n",
       "1           1.37           Asia  \n",
       "2           2.78  South America  \n",
       "3           1.36         Europe  \n",
       "4           2.88         Europe  "
      ]
     },
     "execution_count": 13,
     "metadata": {},
     "output_type": "execute_result"
    }
   ],
   "source": [
    "#hide\n",
    "for c in 'Cases, Deaths'.split(', '):\n",
    "    df_table[f'{c} (+)'] = (df_table[c] - df_table[f'P{c}']).clip(0)\n",
    "    #Clip ça veut dire, les chiffres negatif sont interdit\n",
    "df_table['Fatality Rate'] = (100* df_table['Deaths']/ df_table['Cases']).round(2)\n",
    "df_table['Continent'] = df_table['Country/Region'].map(mapping['map.continent'])\n",
    "df_table.head(5)"
   ]
  },
  {
   "cell_type": "code",
   "execution_count": 14,
   "id": "aboriginal-bulgaria",
   "metadata": {
    "execution": {
     "iopub.execute_input": "2021-12-12T12:14:06.419006Z",
     "iopub.status.busy": "2021-12-12T12:14:06.418364Z",
     "iopub.status.idle": "2021-12-12T12:14:06.420532Z",
     "shell.execute_reply": "2021-12-12T12:14:06.421020Z"
    },
    "papermill": {
     "duration": 0.049214,
     "end_time": "2021-12-12T12:14:06.421166",
     "exception": false,
     "start_time": "2021-12-12T12:14:06.371952",
     "status": "completed"
    },
    "tags": []
   },
   "outputs": [],
   "source": [
    "#hide\n",
    "#delete problematic countries from table\n",
    "df_table = df_table[~df_table['Country/Region'].isin(['Cape Verde', 'Cruise Ship', 'Kosovo'])]"
   ]
  },
  {
   "cell_type": "code",
   "execution_count": 15,
   "id": "fantastic-effect",
   "metadata": {
    "execution": {
     "iopub.execute_input": "2021-12-12T12:14:06.510949Z",
     "iopub.status.busy": "2021-12-12T12:14:06.510330Z",
     "iopub.status.idle": "2021-12-12T12:14:06.534007Z",
     "shell.execute_reply": "2021-12-12T12:14:06.534638Z"
    },
    "papermill": {
     "duration": 0.073336,
     "end_time": "2021-12-12T12:14:06.534807",
     "exception": false,
     "start_time": "2021-12-12T12:14:06.461471",
     "status": "completed"
    },
    "tags": []
   },
   "outputs": [
    {
     "data": {
      "text/html": [
       "<div>\n",
       "<style scoped>\n",
       "    .dataframe tbody tr th:only-of-type {\n",
       "        vertical-align: middle;\n",
       "    }\n",
       "\n",
       "    .dataframe tbody tr th {\n",
       "        vertical-align: top;\n",
       "    }\n",
       "\n",
       "    .dataframe thead th {\n",
       "        text-align: right;\n",
       "    }\n",
       "</style>\n",
       "<table border=\"1\" class=\"dataframe\">\n",
       "  <thead>\n",
       "    <tr style=\"text-align: right;\">\n",
       "      <th></th>\n",
       "      <th>Country/Region</th>\n",
       "      <th>Cases</th>\n",
       "      <th>Deaths</th>\n",
       "      <th>PCases</th>\n",
       "      <th>PDeaths</th>\n",
       "      <th>Cases (+)</th>\n",
       "      <th>Deaths (+)</th>\n",
       "      <th>Fatality Rate</th>\n",
       "      <th>Continent</th>\n",
       "    </tr>\n",
       "  </thead>\n",
       "  <tbody>\n",
       "    <tr>\n",
       "      <th>0</th>\n",
       "      <td>US</td>\n",
       "      <td>49884587</td>\n",
       "      <td>797179</td>\n",
       "      <td>49833439</td>\n",
       "      <td>796764</td>\n",
       "      <td>51148</td>\n",
       "      <td>415</td>\n",
       "      <td>1.6</td>\n",
       "      <td>North America</td>\n",
       "    </tr>\n",
       "    <tr>\n",
       "      <th>1</th>\n",
       "      <td>India</td>\n",
       "      <td>34690510</td>\n",
       "      <td>475434</td>\n",
       "      <td>34682633</td>\n",
       "      <td>474872</td>\n",
       "      <td>7877</td>\n",
       "      <td>562</td>\n",
       "      <td>1.4</td>\n",
       "      <td>Asia</td>\n",
       "    </tr>\n",
       "    <tr>\n",
       "      <th>2</th>\n",
       "      <td>Brazil</td>\n",
       "      <td>22177059</td>\n",
       "      <td>616457</td>\n",
       "      <td>22177059</td>\n",
       "      <td>616457</td>\n",
       "      <td>0</td>\n",
       "      <td>0</td>\n",
       "      <td>2.8</td>\n",
       "      <td>South America</td>\n",
       "    </tr>\n",
       "    <tr>\n",
       "      <th>3</th>\n",
       "      <td>United Kingdom</td>\n",
       "      <td>10833033</td>\n",
       "      <td>146844</td>\n",
       "      <td>10780610</td>\n",
       "      <td>146712</td>\n",
       "      <td>52423</td>\n",
       "      <td>132</td>\n",
       "      <td>1.4</td>\n",
       "      <td>Europe</td>\n",
       "    </tr>\n",
       "    <tr>\n",
       "      <th>4</th>\n",
       "      <td>Russia</td>\n",
       "      <td>9812538</td>\n",
       "      <td>282713</td>\n",
       "      <td>9782723</td>\n",
       "      <td>281571</td>\n",
       "      <td>29815</td>\n",
       "      <td>1142</td>\n",
       "      <td>2.9</td>\n",
       "      <td>Europe</td>\n",
       "    </tr>\n",
       "  </tbody>\n",
       "</table>\n",
       "</div>"
      ],
      "text/plain": [
       "   Country/Region     Cases  Deaths    PCases  PDeaths  Cases (+)  Deaths (+)  \\\n",
       "0              US  49884587  797179  49833439   796764      51148         415   \n",
       "1           India  34690510  475434  34682633   474872       7877         562   \n",
       "2          Brazil  22177059  616457  22177059   616457          0           0   \n",
       "3  United Kingdom  10833033  146844  10780610   146712      52423         132   \n",
       "4          Russia   9812538  282713   9782723   281571      29815        1142   \n",
       "\n",
       "   Fatality Rate      Continent  \n",
       "0            1.6  North America  \n",
       "1            1.4           Asia  \n",
       "2            2.8  South America  \n",
       "3            1.4         Europe  \n",
       "4            2.9         Europe  "
      ]
     },
     "execution_count": 15,
     "metadata": {},
     "output_type": "execute_result"
    }
   ],
   "source": [
    "#hide\n",
    "df_table = (pd.DataFrame(dict(Cases=dfc_cases, Deaths=dfc_deaths, PCases=dfp_cases, PDeaths=dfp_deaths))\n",
    "             .sort_values(by=['Cases', 'Deaths'], ascending=[False, False])\n",
    "             .reset_index())\n",
    "df_table.rename(columns={'index': 'Country/Region'}, inplace=True)\n",
    "for c in 'Cases, Deaths'.split(', '):\n",
    "    df_table[f'{c} (+)'] = (df_table[c] - df_table[f'P{c}']).clip(0)  # DATA BUG\n",
    "df_table['Fatality Rate'] = (100 * df_table['Deaths'] / df_table['Cases']).round(1)\n",
    "df_table['Continent'] = df_table['Country/Region'].map(mapping['map.continent'])\n",
    "df_table.head(5)"
   ]
  },
  {
   "cell_type": "code",
   "execution_count": 16,
   "id": "fewer-occasion",
   "metadata": {
    "execution": {
     "iopub.execute_input": "2021-12-12T12:14:06.625065Z",
     "iopub.status.busy": "2021-12-12T12:14:06.624382Z",
     "iopub.status.idle": "2021-12-12T12:14:06.627077Z",
     "shell.execute_reply": "2021-12-12T12:14:06.626432Z"
    },
    "papermill": {
     "duration": 0.049745,
     "end_time": "2021-12-12T12:14:06.627241",
     "exception": false,
     "start_time": "2021-12-12T12:14:06.577496",
     "status": "completed"
    },
    "tags": []
   },
   "outputs": [],
   "source": [
    "#hide\n",
    "#delete problematic countries from table\n",
    "df_table = df_table[~df_table['Country/Region'].isin(['Cape Verde', 'Cruise Ship', 'Kosovo'])]"
   ]
  },
  {
   "cell_type": "code",
   "execution_count": 17,
   "id": "related-center",
   "metadata": {
    "execution": {
     "iopub.execute_input": "2021-12-12T12:14:06.733740Z",
     "iopub.status.busy": "2021-12-12T12:14:06.733015Z",
     "iopub.status.idle": "2021-12-12T12:14:06.735971Z",
     "shell.execute_reply": "2021-12-12T12:14:06.735312Z"
    },
    "papermill": {
     "duration": 0.067517,
     "end_time": "2021-12-12T12:14:06.736130",
     "exception": false,
     "start_time": "2021-12-12T12:14:06.668613",
     "status": "completed"
    },
    "tags": []
   },
   "outputs": [],
   "source": [
    "#hide\n",
    "metrics = [df_table.columns[index] for index in [1,2,5,6]]\n",
    "# s_china = df_table[df_table['Country/Region'].eq('China')][metrics].sum().add_prefix('China ')\n",
    "s_us = df_table[df_table['Country/Region'].eq('US')][metrics].sum().add_prefix('US ')\n",
    "s_eu = df_table[df_table['Continent'].eq('Europe')][metrics].sum().add_prefix('EU ')\n",
    "s_ind = df_table[df_table['Country/Region'].eq('India')][metrics].sum().add_prefix('India ')\n",
    "summary = {'updated': pd.to_datetime(dt_today), 'since': pd.to_datetime(dt_yday)}\n",
    "summary = {'updated': pd.to_datetime(dt_today), 'since': pd.to_datetime(dt_yday)}\n",
    "summary = {**summary, **df_table[metrics].sum(), **s_ind, **s_us, **s_eu}"
   ]
  },
  {
   "cell_type": "code",
   "execution_count": 18,
   "id": "engaging-syndrome",
   "metadata": {
    "execution": {
     "iopub.execute_input": "2021-12-12T12:14:06.826281Z",
     "iopub.status.busy": "2021-12-12T12:14:06.825571Z",
     "iopub.status.idle": "2021-12-12T12:14:06.842087Z",
     "shell.execute_reply": "2021-12-12T12:14:06.842599Z"
    },
    "papermill": {
     "duration": 0.06435,
     "end_time": "2021-12-12T12:14:06.842762",
     "exception": false,
     "start_time": "2021-12-12T12:14:06.778412",
     "status": "completed"
    },
    "tags": []
   },
   "outputs": [],
   "source": [
    "#hide\n",
    "dft_ct_new_cases = dft_cases.groupby(COL_REGION)[dt_cols].sum().diff(axis=1).fillna(0).astype(int)"
   ]
  },
  {
   "cell_type": "code",
   "execution_count": 19,
   "id": "neutral-assignment",
   "metadata": {
    "execution": {
     "iopub.execute_input": "2021-12-12T12:14:06.933941Z",
     "iopub.status.busy": "2021-12-12T12:14:06.933235Z",
     "iopub.status.idle": "2021-12-12T12:14:06.935926Z",
     "shell.execute_reply": "2021-12-12T12:14:06.935246Z"
    },
    "papermill": {
     "duration": 0.051083,
     "end_time": "2021-12-12T12:14:06.936060",
     "exception": false,
     "start_time": "2021-12-12T12:14:06.884977",
     "status": "completed"
    },
    "tags": []
   },
   "outputs": [],
   "source": [
    "#hide\n",
    "everydaycases = dft_ct_new_cases.cumsum(axis=1)"
   ]
  },
  {
   "cell_type": "code",
   "execution_count": 20,
   "id": "parliamentary-calgary",
   "metadata": {
    "execution": {
     "iopub.execute_input": "2021-12-12T12:14:07.026031Z",
     "iopub.status.busy": "2021-12-12T12:14:07.025164Z",
     "iopub.status.idle": "2021-12-12T12:14:07.890769Z",
     "shell.execute_reply": "2021-12-12T12:14:07.889953Z"
    },
    "papermill": {
     "duration": 0.913315,
     "end_time": "2021-12-12T12:14:07.890932",
     "exception": false,
     "start_time": "2021-12-12T12:14:06.977617",
     "status": "completed"
    },
    "tags": []
   },
   "outputs": [],
   "source": [
    "#hide\n",
    "import pandas as pd\n",
    "import matplotlib.pyplot as plt\n",
    "import matplotlib.ticker as ticker\n",
    "import matplotlib.animation as animation\n",
    "from IPython.display import HTML"
   ]
  },
  {
   "cell_type": "code",
   "execution_count": 21,
   "id": "lasting-extraction",
   "metadata": {
    "execution": {
     "iopub.execute_input": "2021-12-12T12:14:07.982824Z",
     "iopub.status.busy": "2021-12-12T12:14:07.982113Z",
     "iopub.status.idle": "2021-12-12T12:14:07.989268Z",
     "shell.execute_reply": "2021-12-12T12:14:07.988718Z"
    },
    "papermill": {
     "duration": 0.055053,
     "end_time": "2021-12-12T12:14:07.989400",
     "exception": false,
     "start_time": "2021-12-12T12:14:07.934347",
     "status": "completed"
    },
    "tags": []
   },
   "outputs": [],
   "source": [
    "#hide\n",
    "t = everydaycases.stack()"
   ]
  },
  {
   "cell_type": "code",
   "execution_count": 22,
   "id": "premier-sleeve",
   "metadata": {
    "execution": {
     "iopub.execute_input": "2021-12-12T12:14:08.076197Z",
     "iopub.status.busy": "2021-12-12T12:14:08.075440Z",
     "iopub.status.idle": "2021-12-12T12:14:08.086819Z",
     "shell.execute_reply": "2021-12-12T12:14:08.087431Z"
    },
    "papermill": {
     "duration": 0.057327,
     "end_time": "2021-12-12T12:14:08.087582",
     "exception": false,
     "start_time": "2021-12-12T12:14:08.030255",
     "status": "completed"
    },
    "tags": []
   },
   "outputs": [],
   "source": [
    "#hide\n",
    "g = t.reset_index(['Country/Region'])"
   ]
  },
  {
   "cell_type": "code",
   "execution_count": 23,
   "id": "distributed-pittsburgh",
   "metadata": {
    "execution": {
     "iopub.execute_input": "2021-12-12T12:14:08.173018Z",
     "iopub.status.busy": "2021-12-12T12:14:08.172384Z",
     "iopub.status.idle": "2021-12-12T12:14:08.174896Z",
     "shell.execute_reply": "2021-12-12T12:14:08.174276Z"
    },
    "papermill": {
     "duration": 0.046358,
     "end_time": "2021-12-12T12:14:08.175023",
     "exception": false,
     "start_time": "2021-12-12T12:14:08.128665",
     "status": "completed"
    },
    "tags": []
   },
   "outputs": [],
   "source": [
    "#hide\n",
    "g.index.name = 'date'"
   ]
  },
  {
   "cell_type": "code",
   "execution_count": 24,
   "id": "naked-donor",
   "metadata": {
    "execution": {
     "iopub.execute_input": "2021-12-12T12:14:08.263626Z",
     "iopub.status.busy": "2021-12-12T12:14:08.262867Z",
     "iopub.status.idle": "2021-12-12T12:14:08.265151Z",
     "shell.execute_reply": "2021-12-12T12:14:08.264510Z"
    },
    "papermill": {
     "duration": 0.047887,
     "end_time": "2021-12-12T12:14:08.265284",
     "exception": false,
     "start_time": "2021-12-12T12:14:08.217397",
     "status": "completed"
    },
    "tags": []
   },
   "outputs": [],
   "source": [
    "# #hide\n",
    "# g = g.reset_index(['date'])"
   ]
  },
  {
   "cell_type": "code",
   "execution_count": 25,
   "id": "incomplete-mustang",
   "metadata": {
    "execution": {
     "iopub.execute_input": "2021-12-12T12:14:08.350208Z",
     "iopub.status.busy": "2021-12-12T12:14:08.349476Z",
     "iopub.status.idle": "2021-12-12T12:14:08.352287Z",
     "shell.execute_reply": "2021-12-12T12:14:08.351711Z"
    },
    "papermill": {
     "duration": 0.046585,
     "end_time": "2021-12-12T12:14:08.352424",
     "exception": false,
     "start_time": "2021-12-12T12:14:08.305839",
     "status": "completed"
    },
    "tags": []
   },
   "outputs": [],
   "source": [
    "#hide\n",
    "# g.head()"
   ]
  },
  {
   "cell_type": "code",
   "execution_count": 26,
   "id": "specific-kruger",
   "metadata": {
    "execution": {
     "iopub.execute_input": "2021-12-12T12:14:08.440983Z",
     "iopub.status.busy": "2021-12-12T12:14:08.440280Z",
     "iopub.status.idle": "2021-12-12T12:14:08.443001Z",
     "shell.execute_reply": "2021-12-12T12:14:08.442406Z"
    },
    "papermill": {
     "duration": 0.049813,
     "end_time": "2021-12-12T12:14:08.443142",
     "exception": false,
     "start_time": "2021-12-12T12:14:08.393329",
     "status": "completed"
    },
    "tags": []
   },
   "outputs": [],
   "source": [
    "#hide\n",
    "# g.columns = ['date','country','cases']"
   ]
  },
  {
   "cell_type": "code",
   "execution_count": 27,
   "id": "tender-conversion",
   "metadata": {
    "execution": {
     "iopub.execute_input": "2021-12-12T12:14:08.528357Z",
     "iopub.status.busy": "2021-12-12T12:14:08.527649Z",
     "iopub.status.idle": "2021-12-12T12:14:08.530305Z",
     "shell.execute_reply": "2021-12-12T12:14:08.529767Z"
    },
    "papermill": {
     "duration": 0.046161,
     "end_time": "2021-12-12T12:14:08.530447",
     "exception": false,
     "start_time": "2021-12-12T12:14:08.484286",
     "status": "completed"
    },
    "tags": []
   },
   "outputs": [],
   "source": [
    "#hide\n",
    "# g['continent'] = g.country"
   ]
  },
  {
   "cell_type": "code",
   "execution_count": 28,
   "id": "substantial-wilderness",
   "metadata": {
    "execution": {
     "iopub.execute_input": "2021-12-12T12:14:08.617415Z",
     "iopub.status.busy": "2021-12-12T12:14:08.616694Z",
     "iopub.status.idle": "2021-12-12T12:14:08.620780Z",
     "shell.execute_reply": "2021-12-12T12:14:08.621293Z"
    },
    "papermill": {
     "duration": 0.050391,
     "end_time": "2021-12-12T12:14:08.621452",
     "exception": false,
     "start_time": "2021-12-12T12:14:08.571061",
     "status": "completed"
    },
    "tags": []
   },
   "outputs": [],
   "source": [
    "#hide\n",
    "# cols = list(g.columns.values)"
   ]
  },
  {
   "cell_type": "code",
   "execution_count": 29,
   "id": "solved-farming",
   "metadata": {
    "execution": {
     "iopub.execute_input": "2021-12-12T12:14:08.705542Z",
     "iopub.status.busy": "2021-12-12T12:14:08.704913Z",
     "iopub.status.idle": "2021-12-12T12:14:08.707455Z",
     "shell.execute_reply": "2021-12-12T12:14:08.708120Z"
    },
    "papermill": {
     "duration": 0.045793,
     "end_time": "2021-12-12T12:14:08.708269",
     "exception": false,
     "start_time": "2021-12-12T12:14:08.662476",
     "status": "completed"
    },
    "tags": []
   },
   "outputs": [],
   "source": [
    "#hide\n",
    "# cols.insert(0, cols.pop())"
   ]
  },
  {
   "cell_type": "code",
   "execution_count": 30,
   "id": "executed-adoption",
   "metadata": {
    "execution": {
     "iopub.execute_input": "2021-12-12T12:14:08.793867Z",
     "iopub.status.busy": "2021-12-12T12:14:08.793132Z",
     "iopub.status.idle": "2021-12-12T12:14:08.794898Z",
     "shell.execute_reply": "2021-12-12T12:14:08.795497Z"
    },
    "papermill": {
     "duration": 0.04716,
     "end_time": "2021-12-12T12:14:08.795690",
     "exception": false,
     "start_time": "2021-12-12T12:14:08.748530",
     "status": "completed"
    },
    "tags": []
   },
   "outputs": [],
   "source": [
    "#hide\n",
    "# g = g[cols]"
   ]
  },
  {
   "cell_type": "code",
   "execution_count": 31,
   "id": "subject-dublin",
   "metadata": {
    "execution": {
     "iopub.execute_input": "2021-12-12T12:14:08.882895Z",
     "iopub.status.busy": "2021-12-12T12:14:08.882236Z",
     "iopub.status.idle": "2021-12-12T12:14:08.884897Z",
     "shell.execute_reply": "2021-12-12T12:14:08.884289Z"
    },
    "papermill": {
     "duration": 0.046125,
     "end_time": "2021-12-12T12:14:08.885036",
     "exception": false,
     "start_time": "2021-12-12T12:14:08.838911",
     "status": "completed"
    },
    "tags": []
   },
   "outputs": [],
   "source": [
    "#hide\n",
    "# g['continent'] = g['continent'].map(mapping['map.continent'])"
   ]
  },
  {
   "cell_type": "code",
   "execution_count": 32,
   "id": "freelance-scout",
   "metadata": {
    "execution": {
     "iopub.execute_input": "2021-12-12T12:14:08.972905Z",
     "iopub.status.busy": "2021-12-12T12:14:08.972229Z",
     "iopub.status.idle": "2021-12-12T12:14:08.974390Z",
     "shell.execute_reply": "2021-12-12T12:14:08.975002Z"
    },
    "papermill": {
     "duration": 0.048633,
     "end_time": "2021-12-12T12:14:08.975173",
     "exception": false,
     "start_time": "2021-12-12T12:14:08.926540",
     "status": "completed"
    },
    "tags": []
   },
   "outputs": [],
   "source": [
    "#hide\n",
    "# g.head()"
   ]
  },
  {
   "cell_type": "code",
   "execution_count": 33,
   "id": "limited-engine",
   "metadata": {
    "execution": {
     "iopub.execute_input": "2021-12-12T12:14:09.061464Z",
     "iopub.status.busy": "2021-12-12T12:14:09.060589Z",
     "iopub.status.idle": "2021-12-12T12:14:09.063757Z",
     "shell.execute_reply": "2021-12-12T12:14:09.062908Z"
    },
    "papermill": {
     "duration": 0.047089,
     "end_time": "2021-12-12T12:14:09.063938",
     "exception": false,
     "start_time": "2021-12-12T12:14:09.016849",
     "status": "completed"
    },
    "tags": []
   },
   "outputs": [],
   "source": [
    "# hide\n",
    "# g['date'] = g['date'].astype('datetime64[ns]')"
   ]
  },
  {
   "cell_type": "code",
   "execution_count": 34,
   "id": "sophisticated-supervisor",
   "metadata": {
    "execution": {
     "iopub.execute_input": "2021-12-12T12:14:09.153860Z",
     "iopub.status.busy": "2021-12-12T12:14:09.153092Z",
     "iopub.status.idle": "2021-12-12T12:14:09.155985Z",
     "shell.execute_reply": "2021-12-12T12:14:09.155200Z"
    },
    "papermill": {
     "duration": 0.050036,
     "end_time": "2021-12-12T12:14:09.156129",
     "exception": false,
     "start_time": "2021-12-12T12:14:09.106093",
     "status": "completed"
    },
    "tags": []
   },
   "outputs": [],
   "source": [
    "#hide\n",
    "# g['date'] = g.date.dt.dayofyear"
   ]
  },
  {
   "cell_type": "code",
   "execution_count": 35,
   "id": "inside-dubai",
   "metadata": {
    "execution": {
     "iopub.execute_input": "2021-12-12T12:14:09.245023Z",
     "iopub.status.busy": "2021-12-12T12:14:09.244280Z",
     "iopub.status.idle": "2021-12-12T12:14:09.247145Z",
     "shell.execute_reply": "2021-12-12T12:14:09.246577Z"
    },
    "papermill": {
     "duration": 0.049176,
     "end_time": "2021-12-12T12:14:09.247281",
     "exception": false,
     "start_time": "2021-12-12T12:14:09.198105",
     "status": "completed"
    },
    "tags": []
   },
   "outputs": [],
   "source": [
    "#hide\n",
    "# g = g.rename(columns= {'continent':'group','country':'name','cases':'value'})"
   ]
  },
  {
   "cell_type": "code",
   "execution_count": 36,
   "id": "fleet-motorcycle",
   "metadata": {
    "execution": {
     "iopub.execute_input": "2021-12-12T12:14:09.334612Z",
     "iopub.status.busy": "2021-12-12T12:14:09.333840Z",
     "iopub.status.idle": "2021-12-12T12:14:09.336612Z",
     "shell.execute_reply": "2021-12-12T12:14:09.335948Z"
    },
    "papermill": {
     "duration": 0.047609,
     "end_time": "2021-12-12T12:14:09.336750",
     "exception": false,
     "start_time": "2021-12-12T12:14:09.289141",
     "status": "completed"
    },
    "tags": []
   },
   "outputs": [],
   "source": [
    "#hide\n",
    "# cols = ['name','group','day','value']"
   ]
  },
  {
   "cell_type": "code",
   "execution_count": 37,
   "id": "continued-sleeping",
   "metadata": {
    "execution": {
     "iopub.execute_input": "2021-12-12T12:14:09.422240Z",
     "iopub.status.busy": "2021-12-12T12:14:09.421582Z",
     "iopub.status.idle": "2021-12-12T12:14:09.426030Z",
     "shell.execute_reply": "2021-12-12T12:14:09.426516Z"
    },
    "papermill": {
     "duration": 0.049827,
     "end_time": "2021-12-12T12:14:09.426666",
     "exception": false,
     "start_time": "2021-12-12T12:14:09.376839",
     "status": "completed"
    },
    "tags": []
   },
   "outputs": [],
   "source": [
    "#hide\n",
    "# g.rename(columns= {'date':'day'},inplace = True)"
   ]
  },
  {
   "cell_type": "code",
   "execution_count": 38,
   "id": "major-fight",
   "metadata": {
    "execution": {
     "iopub.execute_input": "2021-12-12T12:14:09.515407Z",
     "iopub.status.busy": "2021-12-12T12:14:09.514691Z",
     "iopub.status.idle": "2021-12-12T12:14:09.517156Z",
     "shell.execute_reply": "2021-12-12T12:14:09.517720Z"
    },
    "papermill": {
     "duration": 0.049358,
     "end_time": "2021-12-12T12:14:09.517897",
     "exception": false,
     "start_time": "2021-12-12T12:14:09.468539",
     "status": "completed"
    },
    "tags": []
   },
   "outputs": [],
   "source": [
    "#hide\n",
    "# g = g[cols]"
   ]
  },
  {
   "cell_type": "code",
   "execution_count": 39,
   "id": "structured-mobile",
   "metadata": {
    "execution": {
     "iopub.execute_input": "2021-12-12T12:14:09.604473Z",
     "iopub.status.busy": "2021-12-12T12:14:09.603784Z",
     "iopub.status.idle": "2021-12-12T12:14:09.606951Z",
     "shell.execute_reply": "2021-12-12T12:14:09.606079Z"
    },
    "papermill": {
     "duration": 0.047815,
     "end_time": "2021-12-12T12:14:09.607099",
     "exception": false,
     "start_time": "2021-12-12T12:14:09.559284",
     "status": "completed"
    },
    "tags": []
   },
   "outputs": [],
   "source": [
    "# #hide\n",
    "# g = g[g.group.notna()]"
   ]
  },
  {
   "cell_type": "code",
   "execution_count": 40,
   "id": "determined-closing",
   "metadata": {
    "execution": {
     "iopub.execute_input": "2021-12-12T12:14:09.692841Z",
     "iopub.status.busy": "2021-12-12T12:14:09.692011Z",
     "iopub.status.idle": "2021-12-12T12:14:09.695259Z",
     "shell.execute_reply": "2021-12-12T12:14:09.694688Z"
    },
    "papermill": {
     "duration": 0.047182,
     "end_time": "2021-12-12T12:14:09.695399",
     "exception": false,
     "start_time": "2021-12-12T12:14:09.648217",
     "status": "completed"
    },
    "tags": []
   },
   "outputs": [],
   "source": [
    "# #hide\n",
    "# colors = dict(zip(\n",
    "#     [\"Oceania\", \"Europe\", \"Asia\", \"South America\", \"Middle East\", \"North America\", \"Africa\"],\n",
    "#     [\"#adb0ff\", \"#ffb3ff\", \"#90d595\", \"#e48381\", \"#aafbff\", \"#f7bb5f\", \"#eafb50\"]\n",
    "# ))\n",
    "# group_lk = g.set_index('name')['group'].to_dict()"
   ]
  },
  {
   "cell_type": "code",
   "execution_count": null,
   "id": "gross-drinking",
   "metadata": {
    "papermill": {
     "duration": 0.04092,
     "end_time": "2021-12-12T12:14:09.780212",
     "exception": false,
     "start_time": "2021-12-12T12:14:09.739292",
     "status": "completed"
    },
    "tags": []
   },
   "outputs": [],
   "source": []
  },
  {
   "cell_type": "code",
   "execution_count": 41,
   "id": "subject-macintosh",
   "metadata": {
    "execution": {
     "iopub.execute_input": "2021-12-12T12:14:09.865895Z",
     "iopub.status.busy": "2021-12-12T12:14:09.865232Z",
     "iopub.status.idle": "2021-12-12T12:14:09.867294Z",
     "shell.execute_reply": "2021-12-12T12:14:09.867855Z"
    },
    "papermill": {
     "duration": 0.048216,
     "end_time": "2021-12-12T12:14:09.868075",
     "exception": false,
     "start_time": "2021-12-12T12:14:09.819859",
     "status": "completed"
    },
    "tags": []
   },
   "outputs": [],
   "source": [
    "# #hide\n",
    "# fig, ax = plt.subplots(figsize=(15, 8))\n",
    "\n",
    "# def draw_barchart(current_day):\n",
    "#     dff = g[g['day'].eq(current_day)].sort_values(by='value', ascending=True).tail(10)\n",
    "#     ax.clear()\n",
    "#     ax.barh(dff['name'], dff['value'], color=[colors[group_lk[x]] for x in dff['name']])\n",
    "#     dx = dff['value'].max() / 200\n",
    "    \n",
    "#     for i, (value, name) in enumerate(zip(dff['value'], dff['name'])):\n",
    "#         ax.text(value-dx, i,     name,           size=14, weight=600, ha='right', va='bottom')\n",
    "#         ax.text(value-dx, i-.25, group_lk[name], size=10, color='#444444', ha='right', va='baseline')\n",
    "#         ax.text(value+dx, i,     f'{value:,.0f}',  size=14, ha='left',  va='center')\n",
    "#     ax.text(1, 0.4, current_day, transform=ax.transAxes, color='#777777', size=46, ha='right', weight=800)\n",
    "#     ax.text(0, 1.06, 'Population (thousands)', transform=ax.transAxes, size=12, color='#777777')\n",
    "#     ax.xaxis.set_major_formatter(ticker.StrMethodFormatter('{x:,.0f}'))\n",
    "#     ax.xaxis.set_ticks_position('top')\n",
    "#     ax.tick_params(axis='x', colors='#777777', labelsize=12)\n",
    "#     ax.set_yticks([])\n",
    "#     ax.margins(0, 0.01)\n",
    "#     ax.grid(which='major', axis='x', linestyle='-')\n",
    "#     ax.set_axisbelow(True)\n",
    "    \n",
    "#     ax.text(0, 1.15, 'Coronavirus',\n",
    "#             transform=ax.transAxes, size=24, weight=600, ha='left', va='top')\n",
    "# #     ax.text(1, 0, 'by @pratapvardhan; credit @jburnmurdoch', transform=ax.transAxes, color='#777777', ha='right',\n",
    "# #             bbox=dict(facecolor='white', alpha=0.8, edgecolor='white'))\n",
    "#     plt.box(False)"
   ]
  },
  {
   "cell_type": "code",
   "execution_count": 42,
   "id": "sexual-wages",
   "metadata": {
    "execution": {
     "iopub.execute_input": "2021-12-12T12:14:09.954373Z",
     "iopub.status.busy": "2021-12-12T12:14:09.953720Z",
     "iopub.status.idle": "2021-12-12T12:14:09.955910Z",
     "shell.execute_reply": "2021-12-12T12:14:09.956574Z"
    },
    "papermill": {
     "duration": 0.047207,
     "end_time": "2021-12-12T12:14:09.956741",
     "exception": false,
     "start_time": "2021-12-12T12:14:09.909534",
     "status": "completed"
    },
    "tags": []
   },
   "outputs": [],
   "source": [
    "# #hide_input\n",
    "# fig, ax = plt.subplots(figsize=(15, 8))\n",
    "# animator = animation.FuncAnimation(fig, draw_barchart, frames=range(g.day.values.min(), g.day.values.max()))\n",
    "# HTML(animator.to_jshtml())\n",
    "# # or use animator.to_html5_video() or animator.save() "
   ]
  },
  {
   "cell_type": "code",
   "execution_count": null,
   "id": "australian-container",
   "metadata": {
    "papermill": {
     "duration": 0.041344,
     "end_time": "2021-12-12T12:14:10.039441",
     "exception": false,
     "start_time": "2021-12-12T12:14:09.998097",
     "status": "completed"
    },
    "tags": []
   },
   "outputs": [],
   "source": []
  },
  {
   "cell_type": "code",
   "execution_count": null,
   "id": "mediterranean-pontiac",
   "metadata": {
    "papermill": {
     "duration": 0.042175,
     "end_time": "2021-12-12T12:14:10.122082",
     "exception": false,
     "start_time": "2021-12-12T12:14:10.079907",
     "status": "completed"
    },
    "tags": []
   },
   "outputs": [],
   "source": []
  },
  {
   "cell_type": "code",
   "execution_count": null,
   "id": "aging-legislature",
   "metadata": {
    "papermill": {
     "duration": 0.041405,
     "end_time": "2021-12-12T12:14:10.204155",
     "exception": false,
     "start_time": "2021-12-12T12:14:10.162750",
     "status": "completed"
    },
    "tags": []
   },
   "outputs": [],
   "source": []
  }
 ],
 "metadata": {
  "kernelspec": {
   "display_name": "Python 3",
   "language": "python",
   "name": "python3"
  },
  "language_info": {
   "codemirror_mode": {
    "name": "ipython",
    "version": 3
   },
   "file_extension": ".py",
   "mimetype": "text/x-python",
   "name": "python",
   "nbconvert_exporter": "python",
   "pygments_lexer": "ipython3",
   "version": "3.6.15"
  },
  "papermill": {
   "duration": 7.987644,
   "end_time": "2021-12-12T12:14:10.655996",
   "environment_variables": {},
   "exception": null,
   "input_path": "2020-03-21-covid19exp.ipynb",
   "output_path": "2020-03-21-covid19exp.ipynb",
   "parameters": {},
   "start_time": "2021-12-12T12:14:02.668352",
   "version": "2.0.0"
  }
 },
 "nbformat": 4,
 "nbformat_minor": 5
}