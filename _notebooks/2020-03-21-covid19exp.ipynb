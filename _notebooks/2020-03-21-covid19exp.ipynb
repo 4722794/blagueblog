{
 "cells": [
  {
   "cell_type": "markdown",
   "id": "muslim-click",
   "metadata": {
    "papermill": {
     "duration": 0.039535,
     "end_time": "2021-10-16T00:25:00.024048",
     "exception": false,
     "start_time": "2021-10-16T00:24:59.984513",
     "status": "completed"
    },
    "tags": []
   },
   "source": [
    "# COVID-19 Case Race\n",
    "> A race chart to see rising cases around the world\n",
    "\n",
    "- author: Hargun Oberoi\n",
    "- image: images/covid-overview.png\n",
    "- hide: false\n",
    "- badges: false"
   ]
  },
  {
   "cell_type": "code",
   "execution_count": 1,
   "id": "proof-material",
   "metadata": {
    "execution": {
     "iopub.execute_input": "2021-10-16T00:25:00.101427Z",
     "iopub.status.busy": "2021-10-16T00:25:00.099597Z",
     "iopub.status.idle": "2021-10-16T00:25:00.445277Z",
     "shell.execute_reply": "2021-10-16T00:25:00.445828Z"
    },
    "papermill": {
     "duration": 0.388715,
     "end_time": "2021-10-16T00:25:00.446002",
     "exception": false,
     "start_time": "2021-10-16T00:25:00.057287",
     "status": "completed"
    },
    "tags": []
   },
   "outputs": [],
   "source": [
    "#hide\n",
    "import numpy as np\n",
    "import pandas as pd\n",
    "from jinja2 import Template\n",
    "from IPython.display import HTML"
   ]
  },
  {
   "cell_type": "code",
   "execution_count": 2,
   "id": "developed-terminology",
   "metadata": {
    "execution": {
     "iopub.execute_input": "2021-10-16T00:25:00.519223Z",
     "iopub.status.busy": "2021-10-16T00:25:00.518609Z",
     "iopub.status.idle": "2021-10-16T00:25:00.521059Z",
     "shell.execute_reply": "2021-10-16T00:25:00.520532Z"
    },
    "papermill": {
     "duration": 0.040913,
     "end_time": "2021-10-16T00:25:00.521188",
     "exception": false,
     "start_time": "2021-10-16T00:25:00.480275",
     "status": "completed"
    },
    "tags": []
   },
   "outputs": [],
   "source": [
    "#hide\n",
    "\n",
    "# FETCH\n",
    "base_url = 'https://raw.githubusercontent.com/pratapvardhan/notebooks/master/covid19/'\n",
    "paths = {\n",
    "    'mapping': base_url + 'mapping_countries.csv',\n",
    "    'overview': base_url + 'overview.tpl'\n",
    "}"
   ]
  },
  {
   "cell_type": "code",
   "execution_count": 3,
   "id": "dynamic-saver",
   "metadata": {
    "execution": {
     "iopub.execute_input": "2021-10-16T00:25:00.593168Z",
     "iopub.status.busy": "2021-10-16T00:25:00.592578Z",
     "iopub.status.idle": "2021-10-16T00:25:00.596002Z",
     "shell.execute_reply": "2021-10-16T00:25:00.595551Z"
    },
    "papermill": {
     "duration": 0.04425,
     "end_time": "2021-10-16T00:25:00.596106",
     "exception": false,
     "start_time": "2021-10-16T00:25:00.551856",
     "status": "completed"
    },
    "tags": []
   },
   "outputs": [
    {
     "data": {
      "text/plain": [
       "'https://raw.githubusercontent.com/pratapvardhan/notebooks/master/covid19/mapping_countries.csv'"
      ]
     },
     "execution_count": 3,
     "metadata": {},
     "output_type": "execute_result"
    }
   ],
   "source": [
    "#hide\n",
    "paths['mapping']"
   ]
  },
  {
   "cell_type": "code",
   "execution_count": 4,
   "id": "urban-software",
   "metadata": {
    "execution": {
     "iopub.execute_input": "2021-10-16T00:25:00.664607Z",
     "iopub.status.busy": "2021-10-16T00:25:00.663849Z",
     "iopub.status.idle": "2021-10-16T00:25:00.667056Z",
     "shell.execute_reply": "2021-10-16T00:25:00.666439Z"
    },
    "papermill": {
     "duration": 0.039129,
     "end_time": "2021-10-16T00:25:00.667162",
     "exception": false,
     "start_time": "2021-10-16T00:25:00.628033",
     "status": "completed"
    },
    "tags": []
   },
   "outputs": [],
   "source": [
    "#hide\n",
    "def get_mappings(url):\n",
    "    df = pd.read_csv(url)\n",
    "    return {\n",
    "        'df': df,\n",
    "        'replace.country': dict(df.dropna(subset=['Name']).set_index('Country')['Name']),\n",
    "        'map.continent': dict(df.set_index('Name')['Continent'])\n",
    "    }"
   ]
  },
  {
   "cell_type": "code",
   "execution_count": 5,
   "id": "intimate-machinery",
   "metadata": {
    "execution": {
     "iopub.execute_input": "2021-10-16T00:25:00.738367Z",
     "iopub.status.busy": "2021-10-16T00:25:00.737785Z",
     "iopub.status.idle": "2021-10-16T00:25:00.776329Z",
     "shell.execute_reply": "2021-10-16T00:25:00.776927Z"
    },
    "papermill": {
     "duration": 0.076837,
     "end_time": "2021-10-16T00:25:00.777056",
     "exception": false,
     "start_time": "2021-10-16T00:25:00.700219",
     "status": "completed"
    },
    "tags": []
   },
   "outputs": [],
   "source": [
    "#hide\n",
    "mapping = get_mappings(paths['mapping'])"
   ]
  },
  {
   "cell_type": "code",
   "execution_count": 6,
   "id": "certified-tactics",
   "metadata": {
    "execution": {
     "iopub.execute_input": "2021-10-16T00:25:00.846369Z",
     "iopub.status.busy": "2021-10-16T00:25:00.845793Z",
     "iopub.status.idle": "2021-10-16T00:25:00.848048Z",
     "shell.execute_reply": "2021-10-16T00:25:00.848596Z"
    },
    "papermill": {
     "duration": 0.039188,
     "end_time": "2021-10-16T00:25:00.848716",
     "exception": false,
     "start_time": "2021-10-16T00:25:00.809528",
     "status": "completed"
    },
    "tags": []
   },
   "outputs": [],
   "source": [
    "#hide\n",
    "def get_template(path):\n",
    "    from urllib.parse import urlparse\n",
    "    if bool(urlparse(path).netloc):\n",
    "        from urllib.request import urlopen\n",
    "        return urlopen(path).read().decode('utf8')\n",
    "    return open(path).read()"
   ]
  },
  {
   "cell_type": "code",
   "execution_count": 7,
   "id": "realistic-blast",
   "metadata": {
    "execution": {
     "iopub.execute_input": "2021-10-16T00:25:00.918237Z",
     "iopub.status.busy": "2021-10-16T00:25:00.917461Z",
     "iopub.status.idle": "2021-10-16T00:25:00.919516Z",
     "shell.execute_reply": "2021-10-16T00:25:00.919976Z"
    },
    "papermill": {
     "duration": 0.039562,
     "end_time": "2021-10-16T00:25:00.920107",
     "exception": false,
     "start_time": "2021-10-16T00:25:00.880545",
     "status": "completed"
    },
    "tags": []
   },
   "outputs": [],
   "source": [
    "#hide\n",
    "def get_frame(name):\n",
    "    url = (\n",
    "        'https://raw.githubusercontent.com/CSSEGISandData/COVID-19/master/csse_covid_19_data/'\n",
    "        f'csse_covid_19_time_series/time_series_covid19_{name}_global.csv')\n",
    "    df = pd.read_csv(url)\n",
    "    # rename countries\n",
    "    df['Country/Region'] = df['Country/Region'].replace(mapping['replace.country'])\n",
    "    return df"
   ]
  },
  {
   "cell_type": "code",
   "execution_count": 8,
   "id": "affiliated-characterization",
   "metadata": {
    "execution": {
     "iopub.execute_input": "2021-10-16T00:25:00.990437Z",
     "iopub.status.busy": "2021-10-16T00:25:00.989855Z",
     "iopub.status.idle": "2021-10-16T00:25:00.992654Z",
     "shell.execute_reply": "2021-10-16T00:25:00.991971Z"
    },
    "papermill": {
     "duration": 0.040303,
     "end_time": "2021-10-16T00:25:00.992786",
     "exception": false,
     "start_time": "2021-10-16T00:25:00.952483",
     "status": "completed"
    },
    "tags": []
   },
   "outputs": [],
   "source": [
    "#hide\n",
    "def get_dates(df):\n",
    "    dt_cols = df.columns[~df.columns.isin(['Province/State', 'Country/Region', 'Lat', 'Long'])]\n",
    "    LAST_DATE_I = -1\n",
    "    # sometimes last column may be empty, then go backwards\n",
    "    for i in range(-1, -len(dt_cols), -1):\n",
    "        if not df[dt_cols[i]].fillna(0).eq(0).all():\n",
    "            LAST_DATE_I = i\n",
    "            break\n",
    "    return LAST_DATE_I, dt_cols"
   ]
  },
  {
   "cell_type": "code",
   "execution_count": 9,
   "id": "recent-optimization",
   "metadata": {
    "execution": {
     "iopub.execute_input": "2021-10-16T00:25:01.062590Z",
     "iopub.status.busy": "2021-10-16T00:25:01.061925Z",
     "iopub.status.idle": "2021-10-16T00:25:01.461429Z",
     "shell.execute_reply": "2021-10-16T00:25:01.462242Z"
    },
    "papermill": {
     "duration": 0.436481,
     "end_time": "2021-10-16T00:25:01.462508",
     "exception": false,
     "start_time": "2021-10-16T00:25:01.026027",
     "status": "completed"
    },
    "tags": []
   },
   "outputs": [],
   "source": [
    "#hide\n",
    "COL_REGION = 'Country/Region'\n",
    "# Confirmed, Recovered, Deaths\n",
    "df = get_frame('confirmed')\n",
    "# dft_: timeseries, dfc_: today country agg\n",
    "dft_cases = df\n",
    "dft_deaths = get_frame('deaths')\n",
    "dft_recovered = get_frame('recovered')\n",
    "LAST_DATE_I, dt_cols = get_dates(df)"
   ]
  },
  {
   "cell_type": "code",
   "execution_count": 10,
   "id": "absolute-copper",
   "metadata": {
    "execution": {
     "iopub.execute_input": "2021-10-16T00:25:01.535583Z",
     "iopub.status.busy": "2021-10-16T00:25:01.534973Z",
     "iopub.status.idle": "2021-10-16T00:25:01.536370Z",
     "shell.execute_reply": "2021-10-16T00:25:01.536830Z"
    },
    "papermill": {
     "duration": 0.038905,
     "end_time": "2021-10-16T00:25:01.536952",
     "exception": false,
     "start_time": "2021-10-16T00:25:01.498047",
     "status": "completed"
    },
    "tags": []
   },
   "outputs": [],
   "source": [
    "#hide\n",
    "LAST_DATE_I, dt_cols = get_dates(df)\n",
    "dt_today =dt_cols[LAST_DATE_I]\n",
    "# dt_5day = dt_cols[LAST_DATE_I - 5]\n",
    "dt_yday = dt_cols[LAST_DATE_I - 1]"
   ]
  },
  {
   "cell_type": "code",
   "execution_count": 11,
   "id": "restricted-sheriff",
   "metadata": {
    "execution": {
     "iopub.execute_input": "2021-10-16T00:25:01.606371Z",
     "iopub.status.busy": "2021-10-16T00:25:01.605743Z",
     "iopub.status.idle": "2021-10-16T00:25:01.614346Z",
     "shell.execute_reply": "2021-10-16T00:25:01.613904Z"
    },
    "papermill": {
     "duration": 0.046766,
     "end_time": "2021-10-16T00:25:01.614464",
     "exception": false,
     "start_time": "2021-10-16T00:25:01.567698",
     "status": "completed"
    },
    "tags": []
   },
   "outputs": [],
   "source": [
    "#hide\n",
    "dfc_cases = dft_cases.groupby(COL_REGION)[dt_today].sum()\n",
    "dfc_deaths = dft_deaths.groupby(COL_REGION)[dt_today].sum()\n",
    "# dfp_cases = dft_cases.groupby(COL_REGION)[dt_5day].sum()\n",
    "# dfp_deaths = dft_deaths.groupby(COL_REGION)[dt_5day].sum()\n",
    "dfp_cases = dft_cases.groupby(COL_REGION)[dt_yday].sum()\n",
    "dfp_deaths = dft_deaths.groupby(COL_REGION)[dt_yday].sum()"
   ]
  },
  {
   "cell_type": "code",
   "execution_count": 12,
   "id": "deluxe-hepatitis",
   "metadata": {
    "execution": {
     "iopub.execute_input": "2021-10-16T00:25:01.703016Z",
     "iopub.status.busy": "2021-10-16T00:25:01.702399Z",
     "iopub.status.idle": "2021-10-16T00:25:01.708066Z",
     "shell.execute_reply": "2021-10-16T00:25:01.707434Z"
    },
    "papermill": {
     "duration": 0.059327,
     "end_time": "2021-10-16T00:25:01.708362",
     "exception": false,
     "start_time": "2021-10-16T00:25:01.649035",
     "status": "completed"
    },
    "tags": []
   },
   "outputs": [],
   "source": [
    "#hide\n",
    "df_table = (pd.DataFrame(dict(Cases = dfc_cases, Deaths = dfc_deaths, PCases = dfp_cases, PDeaths = dfp_deaths))\n",
    "            .sort_values(by = ['Cases','Deaths'], ascending = [False, False])\n",
    "            .reset_index())"
   ]
  },
  {
   "cell_type": "code",
   "execution_count": 13,
   "id": "educational-chancellor",
   "metadata": {
    "execution": {
     "iopub.execute_input": "2021-10-16T00:25:01.786281Z",
     "iopub.status.busy": "2021-10-16T00:25:01.785700Z",
     "iopub.status.idle": "2021-10-16T00:25:01.804019Z",
     "shell.execute_reply": "2021-10-16T00:25:01.803489Z"
    },
    "papermill": {
     "duration": 0.060821,
     "end_time": "2021-10-16T00:25:01.804129",
     "exception": false,
     "start_time": "2021-10-16T00:25:01.743308",
     "status": "completed"
    },
    "tags": []
   },
   "outputs": [
    {
     "data": {
      "text/html": [
       "<div>\n",
       "<style scoped>\n",
       "    .dataframe tbody tr th:only-of-type {\n",
       "        vertical-align: middle;\n",
       "    }\n",
       "\n",
       "    .dataframe tbody tr th {\n",
       "        vertical-align: top;\n",
       "    }\n",
       "\n",
       "    .dataframe thead th {\n",
       "        text-align: right;\n",
       "    }\n",
       "</style>\n",
       "<table border=\"1\" class=\"dataframe\">\n",
       "  <thead>\n",
       "    <tr style=\"text-align: right;\">\n",
       "      <th></th>\n",
       "      <th>Country/Region</th>\n",
       "      <th>Cases</th>\n",
       "      <th>Deaths</th>\n",
       "      <th>PCases</th>\n",
       "      <th>PDeaths</th>\n",
       "      <th>Cases (+)</th>\n",
       "      <th>Deaths (+)</th>\n",
       "      <th>Fatality Rate</th>\n",
       "      <th>Continent</th>\n",
       "    </tr>\n",
       "  </thead>\n",
       "  <tbody>\n",
       "    <tr>\n",
       "      <th>0</th>\n",
       "      <td>US</td>\n",
       "      <td>44767906</td>\n",
       "      <td>721563</td>\n",
       "      <td>44684150</td>\n",
       "      <td>719558</td>\n",
       "      <td>83756</td>\n",
       "      <td>2005</td>\n",
       "      <td>1.61</td>\n",
       "      <td>North America</td>\n",
       "    </tr>\n",
       "    <tr>\n",
       "      <th>1</th>\n",
       "      <td>India</td>\n",
       "      <td>34037592</td>\n",
       "      <td>451814</td>\n",
       "      <td>34020730</td>\n",
       "      <td>451435</td>\n",
       "      <td>16862</td>\n",
       "      <td>379</td>\n",
       "      <td>1.33</td>\n",
       "      <td>Asia</td>\n",
       "    </tr>\n",
       "    <tr>\n",
       "      <th>2</th>\n",
       "      <td>Brazil</td>\n",
       "      <td>21612237</td>\n",
       "      <td>602099</td>\n",
       "      <td>21597949</td>\n",
       "      <td>601574</td>\n",
       "      <td>14288</td>\n",
       "      <td>525</td>\n",
       "      <td>2.79</td>\n",
       "      <td>South America</td>\n",
       "    </tr>\n",
       "    <tr>\n",
       "      <th>3</th>\n",
       "      <td>United Kingdom</td>\n",
       "      <td>8356596</td>\n",
       "      <td>138647</td>\n",
       "      <td>8311851</td>\n",
       "      <td>138487</td>\n",
       "      <td>44745</td>\n",
       "      <td>160</td>\n",
       "      <td>1.66</td>\n",
       "      <td>Europe</td>\n",
       "    </tr>\n",
       "    <tr>\n",
       "      <th>4</th>\n",
       "      <td>Russia</td>\n",
       "      <td>7773388</td>\n",
       "      <td>216403</td>\n",
       "      <td>7742899</td>\n",
       "      <td>215438</td>\n",
       "      <td>30489</td>\n",
       "      <td>965</td>\n",
       "      <td>2.78</td>\n",
       "      <td>Europe</td>\n",
       "    </tr>\n",
       "  </tbody>\n",
       "</table>\n",
       "</div>"
      ],
      "text/plain": [
       "   Country/Region     Cases  Deaths    PCases  PDeaths  Cases (+)  Deaths (+)  \\\n",
       "0              US  44767906  721563  44684150   719558      83756        2005   \n",
       "1           India  34037592  451814  34020730   451435      16862         379   \n",
       "2          Brazil  21612237  602099  21597949   601574      14288         525   \n",
       "3  United Kingdom   8356596  138647   8311851   138487      44745         160   \n",
       "4          Russia   7773388  216403   7742899   215438      30489         965   \n",
       "\n",
       "   Fatality Rate      Continent  \n",
       "0           1.61  North America  \n",
       "1           1.33           Asia  \n",
       "2           2.79  South America  \n",
       "3           1.66         Europe  \n",
       "4           2.78         Europe  "
      ]
     },
     "execution_count": 13,
     "metadata": {},
     "output_type": "execute_result"
    }
   ],
   "source": [
    "#hide\n",
    "for c in 'Cases, Deaths'.split(', '):\n",
    "    df_table[f'{c} (+)'] = (df_table[c] - df_table[f'P{c}']).clip(0)\n",
    "    #Clip ça veut dire, les chiffres negatif sont interdit\n",
    "df_table['Fatality Rate'] = (100* df_table['Deaths']/ df_table['Cases']).round(2)\n",
    "df_table['Continent'] = df_table['Country/Region'].map(mapping['map.continent'])\n",
    "df_table.head(5)"
   ]
  },
  {
   "cell_type": "code",
   "execution_count": 14,
   "id": "aboriginal-bulgaria",
   "metadata": {
    "execution": {
     "iopub.execute_input": "2021-10-16T00:25:01.879592Z",
     "iopub.status.busy": "2021-10-16T00:25:01.878966Z",
     "iopub.status.idle": "2021-10-16T00:25:01.888404Z",
     "shell.execute_reply": "2021-10-16T00:25:01.891409Z"
    },
    "papermill": {
     "duration": 0.05287,
     "end_time": "2021-10-16T00:25:01.891564",
     "exception": false,
     "start_time": "2021-10-16T00:25:01.838694",
     "status": "completed"
    },
    "tags": []
   },
   "outputs": [],
   "source": [
    "#hide\n",
    "#delete problematic countries from table\n",
    "df_table = df_table[~df_table['Country/Region'].isin(['Cape Verde', 'Cruise Ship', 'Kosovo'])]"
   ]
  },
  {
   "cell_type": "code",
   "execution_count": 15,
   "id": "fantastic-effect",
   "metadata": {
    "execution": {
     "iopub.execute_input": "2021-10-16T00:25:01.975119Z",
     "iopub.status.busy": "2021-10-16T00:25:01.974380Z",
     "iopub.status.idle": "2021-10-16T00:25:01.996401Z",
     "shell.execute_reply": "2021-10-16T00:25:01.995910Z"
    },
    "papermill": {
     "duration": 0.068505,
     "end_time": "2021-10-16T00:25:01.996521",
     "exception": false,
     "start_time": "2021-10-16T00:25:01.928016",
     "status": "completed"
    },
    "tags": []
   },
   "outputs": [
    {
     "data": {
      "text/html": [
       "<div>\n",
       "<style scoped>\n",
       "    .dataframe tbody tr th:only-of-type {\n",
       "        vertical-align: middle;\n",
       "    }\n",
       "\n",
       "    .dataframe tbody tr th {\n",
       "        vertical-align: top;\n",
       "    }\n",
       "\n",
       "    .dataframe thead th {\n",
       "        text-align: right;\n",
       "    }\n",
       "</style>\n",
       "<table border=\"1\" class=\"dataframe\">\n",
       "  <thead>\n",
       "    <tr style=\"text-align: right;\">\n",
       "      <th></th>\n",
       "      <th>Country/Region</th>\n",
       "      <th>Cases</th>\n",
       "      <th>Deaths</th>\n",
       "      <th>PCases</th>\n",
       "      <th>PDeaths</th>\n",
       "      <th>Cases (+)</th>\n",
       "      <th>Deaths (+)</th>\n",
       "      <th>Fatality Rate</th>\n",
       "      <th>Continent</th>\n",
       "    </tr>\n",
       "  </thead>\n",
       "  <tbody>\n",
       "    <tr>\n",
       "      <th>0</th>\n",
       "      <td>US</td>\n",
       "      <td>44767906</td>\n",
       "      <td>721563</td>\n",
       "      <td>44684150</td>\n",
       "      <td>719558</td>\n",
       "      <td>83756</td>\n",
       "      <td>2005</td>\n",
       "      <td>1.6</td>\n",
       "      <td>North America</td>\n",
       "    </tr>\n",
       "    <tr>\n",
       "      <th>1</th>\n",
       "      <td>India</td>\n",
       "      <td>34037592</td>\n",
       "      <td>451814</td>\n",
       "      <td>34020730</td>\n",
       "      <td>451435</td>\n",
       "      <td>16862</td>\n",
       "      <td>379</td>\n",
       "      <td>1.3</td>\n",
       "      <td>Asia</td>\n",
       "    </tr>\n",
       "    <tr>\n",
       "      <th>2</th>\n",
       "      <td>Brazil</td>\n",
       "      <td>21612237</td>\n",
       "      <td>602099</td>\n",
       "      <td>21597949</td>\n",
       "      <td>601574</td>\n",
       "      <td>14288</td>\n",
       "      <td>525</td>\n",
       "      <td>2.8</td>\n",
       "      <td>South America</td>\n",
       "    </tr>\n",
       "    <tr>\n",
       "      <th>3</th>\n",
       "      <td>United Kingdom</td>\n",
       "      <td>8356596</td>\n",
       "      <td>138647</td>\n",
       "      <td>8311851</td>\n",
       "      <td>138487</td>\n",
       "      <td>44745</td>\n",
       "      <td>160</td>\n",
       "      <td>1.7</td>\n",
       "      <td>Europe</td>\n",
       "    </tr>\n",
       "    <tr>\n",
       "      <th>4</th>\n",
       "      <td>Russia</td>\n",
       "      <td>7773388</td>\n",
       "      <td>216403</td>\n",
       "      <td>7742899</td>\n",
       "      <td>215438</td>\n",
       "      <td>30489</td>\n",
       "      <td>965</td>\n",
       "      <td>2.8</td>\n",
       "      <td>Europe</td>\n",
       "    </tr>\n",
       "  </tbody>\n",
       "</table>\n",
       "</div>"
      ],
      "text/plain": [
       "   Country/Region     Cases  Deaths    PCases  PDeaths  Cases (+)  Deaths (+)  \\\n",
       "0              US  44767906  721563  44684150   719558      83756        2005   \n",
       "1           India  34037592  451814  34020730   451435      16862         379   \n",
       "2          Brazil  21612237  602099  21597949   601574      14288         525   \n",
       "3  United Kingdom   8356596  138647   8311851   138487      44745         160   \n",
       "4          Russia   7773388  216403   7742899   215438      30489         965   \n",
       "\n",
       "   Fatality Rate      Continent  \n",
       "0            1.6  North America  \n",
       "1            1.3           Asia  \n",
       "2            2.8  South America  \n",
       "3            1.7         Europe  \n",
       "4            2.8         Europe  "
      ]
     },
     "execution_count": 15,
     "metadata": {},
     "output_type": "execute_result"
    }
   ],
   "source": [
    "#hide\n",
    "df_table = (pd.DataFrame(dict(Cases=dfc_cases, Deaths=dfc_deaths, PCases=dfp_cases, PDeaths=dfp_deaths))\n",
    "             .sort_values(by=['Cases', 'Deaths'], ascending=[False, False])\n",
    "             .reset_index())\n",
    "df_table.rename(columns={'index': 'Country/Region'}, inplace=True)\n",
    "for c in 'Cases, Deaths'.split(', '):\n",
    "    df_table[f'{c} (+)'] = (df_table[c] - df_table[f'P{c}']).clip(0)  # DATA BUG\n",
    "df_table['Fatality Rate'] = (100 * df_table['Deaths'] / df_table['Cases']).round(1)\n",
    "df_table['Continent'] = df_table['Country/Region'].map(mapping['map.continent'])\n",
    "df_table.head(5)"
   ]
  },
  {
   "cell_type": "code",
   "execution_count": 16,
   "id": "fewer-occasion",
   "metadata": {
    "execution": {
     "iopub.execute_input": "2021-10-16T00:25:02.074075Z",
     "iopub.status.busy": "2021-10-16T00:25:02.073414Z",
     "iopub.status.idle": "2021-10-16T00:25:02.075876Z",
     "shell.execute_reply": "2021-10-16T00:25:02.075374Z"
    },
    "papermill": {
     "duration": 0.043163,
     "end_time": "2021-10-16T00:25:02.075993",
     "exception": false,
     "start_time": "2021-10-16T00:25:02.032830",
     "status": "completed"
    },
    "tags": []
   },
   "outputs": [],
   "source": [
    "#hide\n",
    "#delete problematic countries from table\n",
    "df_table = df_table[~df_table['Country/Region'].isin(['Cape Verde', 'Cruise Ship', 'Kosovo'])]"
   ]
  },
  {
   "cell_type": "code",
   "execution_count": 17,
   "id": "related-center",
   "metadata": {
    "execution": {
     "iopub.execute_input": "2021-10-16T00:25:02.162693Z",
     "iopub.status.busy": "2021-10-16T00:25:02.162100Z",
     "iopub.status.idle": "2021-10-16T00:25:02.163972Z",
     "shell.execute_reply": "2021-10-16T00:25:02.164552Z"
    },
    "papermill": {
     "duration": 0.055393,
     "end_time": "2021-10-16T00:25:02.164702",
     "exception": false,
     "start_time": "2021-10-16T00:25:02.109309",
     "status": "completed"
    },
    "tags": []
   },
   "outputs": [],
   "source": [
    "#hide\n",
    "metrics = [df_table.columns[index] for index in [1,2,5,6]]\n",
    "# s_china = df_table[df_table['Country/Region'].eq('China')][metrics].sum().add_prefix('China ')\n",
    "s_us = df_table[df_table['Country/Region'].eq('US')][metrics].sum().add_prefix('US ')\n",
    "s_eu = df_table[df_table['Continent'].eq('Europe')][metrics].sum().add_prefix('EU ')\n",
    "s_ind = df_table[df_table['Country/Region'].eq('India')][metrics].sum().add_prefix('India ')\n",
    "summary = {'updated': pd.to_datetime(dt_today), 'since': pd.to_datetime(dt_yday)}\n",
    "summary = {'updated': pd.to_datetime(dt_today), 'since': pd.to_datetime(dt_yday)}\n",
    "summary = {**summary, **df_table[metrics].sum(), **s_ind, **s_us, **s_eu}"
   ]
  },
  {
   "cell_type": "code",
   "execution_count": 18,
   "id": "engaging-syndrome",
   "metadata": {
    "execution": {
     "iopub.execute_input": "2021-10-16T00:25:02.241554Z",
     "iopub.status.busy": "2021-10-16T00:25:02.240912Z",
     "iopub.status.idle": "2021-10-16T00:25:02.254518Z",
     "shell.execute_reply": "2021-10-16T00:25:02.255133Z"
    },
    "papermill": {
     "duration": 0.053577,
     "end_time": "2021-10-16T00:25:02.255283",
     "exception": false,
     "start_time": "2021-10-16T00:25:02.201706",
     "status": "completed"
    },
    "tags": []
   },
   "outputs": [],
   "source": [
    "#hide\n",
    "dft_ct_new_cases = dft_cases.groupby(COL_REGION)[dt_cols].sum().diff(axis=1).fillna(0).astype(int)"
   ]
  },
  {
   "cell_type": "code",
   "execution_count": 19,
   "id": "neutral-assignment",
   "metadata": {
    "execution": {
     "iopub.execute_input": "2021-10-16T00:25:02.331753Z",
     "iopub.status.busy": "2021-10-16T00:25:02.331173Z",
     "iopub.status.idle": "2021-10-16T00:25:02.333712Z",
     "shell.execute_reply": "2021-10-16T00:25:02.333158Z"
    },
    "papermill": {
     "duration": 0.043491,
     "end_time": "2021-10-16T00:25:02.333826",
     "exception": false,
     "start_time": "2021-10-16T00:25:02.290335",
     "status": "completed"
    },
    "tags": []
   },
   "outputs": [],
   "source": [
    "#hide\n",
    "everydaycases = dft_ct_new_cases.cumsum(axis=1)"
   ]
  },
  {
   "cell_type": "code",
   "execution_count": 20,
   "id": "parliamentary-calgary",
   "metadata": {
    "execution": {
     "iopub.execute_input": "2021-10-16T00:25:02.407323Z",
     "iopub.status.busy": "2021-10-16T00:25:02.406705Z",
     "iopub.status.idle": "2021-10-16T00:25:02.979829Z",
     "shell.execute_reply": "2021-10-16T00:25:02.979288Z"
    },
    "papermill": {
     "duration": 0.611913,
     "end_time": "2021-10-16T00:25:02.979985",
     "exception": false,
     "start_time": "2021-10-16T00:25:02.368072",
     "status": "completed"
    },
    "tags": []
   },
   "outputs": [],
   "source": [
    "#hide\n",
    "import pandas as pd\n",
    "import matplotlib.pyplot as plt\n",
    "import matplotlib.ticker as ticker\n",
    "import matplotlib.animation as animation\n",
    "from IPython.display import HTML"
   ]
  },
  {
   "cell_type": "code",
   "execution_count": 21,
   "id": "lasting-extraction",
   "metadata": {
    "execution": {
     "iopub.execute_input": "2021-10-16T00:25:03.058314Z",
     "iopub.status.busy": "2021-10-16T00:25:03.057699Z",
     "iopub.status.idle": "2021-10-16T00:25:03.063700Z",
     "shell.execute_reply": "2021-10-16T00:25:03.063209Z"
    },
    "papermill": {
     "duration": 0.047204,
     "end_time": "2021-10-16T00:25:03.063819",
     "exception": false,
     "start_time": "2021-10-16T00:25:03.016615",
     "status": "completed"
    },
    "tags": []
   },
   "outputs": [],
   "source": [
    "#hide\n",
    "t = everydaycases.stack()"
   ]
  },
  {
   "cell_type": "code",
   "execution_count": 22,
   "id": "premier-sleeve",
   "metadata": {
    "execution": {
     "iopub.execute_input": "2021-10-16T00:25:03.140689Z",
     "iopub.status.busy": "2021-10-16T00:25:03.140106Z",
     "iopub.status.idle": "2021-10-16T00:25:03.148852Z",
     "shell.execute_reply": "2021-10-16T00:25:03.149410Z"
    },
    "papermill": {
     "duration": 0.048089,
     "end_time": "2021-10-16T00:25:03.149539",
     "exception": false,
     "start_time": "2021-10-16T00:25:03.101450",
     "status": "completed"
    },
    "tags": []
   },
   "outputs": [],
   "source": [
    "#hide\n",
    "g = t.reset_index(['Country/Region'])"
   ]
  },
  {
   "cell_type": "code",
   "execution_count": 23,
   "id": "distributed-pittsburgh",
   "metadata": {
    "execution": {
     "iopub.execute_input": "2021-10-16T00:25:03.224529Z",
     "iopub.status.busy": "2021-10-16T00:25:03.223983Z",
     "iopub.status.idle": "2021-10-16T00:25:03.226005Z",
     "shell.execute_reply": "2021-10-16T00:25:03.226513Z"
    },
    "papermill": {
     "duration": 0.042676,
     "end_time": "2021-10-16T00:25:03.226660",
     "exception": false,
     "start_time": "2021-10-16T00:25:03.183984",
     "status": "completed"
    },
    "tags": []
   },
   "outputs": [],
   "source": [
    "#hide\n",
    "g.index.name = 'date'"
   ]
  },
  {
   "cell_type": "code",
   "execution_count": 24,
   "id": "naked-donor",
   "metadata": {
    "execution": {
     "iopub.execute_input": "2021-10-16T00:25:03.298401Z",
     "iopub.status.busy": "2021-10-16T00:25:03.297615Z",
     "iopub.status.idle": "2021-10-16T00:25:03.299902Z",
     "shell.execute_reply": "2021-10-16T00:25:03.300483Z"
    },
    "papermill": {
     "duration": 0.039632,
     "end_time": "2021-10-16T00:25:03.300603",
     "exception": false,
     "start_time": "2021-10-16T00:25:03.260971",
     "status": "completed"
    },
    "tags": []
   },
   "outputs": [],
   "source": [
    "# #hide\n",
    "# g = g.reset_index(['date'])"
   ]
  },
  {
   "cell_type": "code",
   "execution_count": 25,
   "id": "incomplete-mustang",
   "metadata": {
    "execution": {
     "iopub.execute_input": "2021-10-16T00:25:03.369593Z",
     "iopub.status.busy": "2021-10-16T00:25:03.369012Z",
     "iopub.status.idle": "2021-10-16T00:25:03.370895Z",
     "shell.execute_reply": "2021-10-16T00:25:03.371429Z"
    },
    "papermill": {
     "duration": 0.038461,
     "end_time": "2021-10-16T00:25:03.371546",
     "exception": false,
     "start_time": "2021-10-16T00:25:03.333085",
     "status": "completed"
    },
    "tags": []
   },
   "outputs": [],
   "source": [
    "#hide\n",
    "# g.head()"
   ]
  },
  {
   "cell_type": "code",
   "execution_count": 26,
   "id": "specific-kruger",
   "metadata": {
    "execution": {
     "iopub.execute_input": "2021-10-16T00:25:03.441578Z",
     "iopub.status.busy": "2021-10-16T00:25:03.440965Z",
     "iopub.status.idle": "2021-10-16T00:25:03.443388Z",
     "shell.execute_reply": "2021-10-16T00:25:03.442932Z"
    },
    "papermill": {
     "duration": 0.039102,
     "end_time": "2021-10-16T00:25:03.443494",
     "exception": false,
     "start_time": "2021-10-16T00:25:03.404392",
     "status": "completed"
    },
    "tags": []
   },
   "outputs": [],
   "source": [
    "#hide\n",
    "# g.columns = ['date','country','cases']"
   ]
  },
  {
   "cell_type": "code",
   "execution_count": 27,
   "id": "tender-conversion",
   "metadata": {
    "execution": {
     "iopub.execute_input": "2021-10-16T00:25:03.516317Z",
     "iopub.status.busy": "2021-10-16T00:25:03.515465Z",
     "iopub.status.idle": "2021-10-16T00:25:03.518111Z",
     "shell.execute_reply": "2021-10-16T00:25:03.517646Z"
    },
    "papermill": {
     "duration": 0.041761,
     "end_time": "2021-10-16T00:25:03.518219",
     "exception": false,
     "start_time": "2021-10-16T00:25:03.476458",
     "status": "completed"
    },
    "tags": []
   },
   "outputs": [],
   "source": [
    "#hide\n",
    "# g['continent'] = g.country"
   ]
  },
  {
   "cell_type": "code",
   "execution_count": 28,
   "id": "substantial-wilderness",
   "metadata": {
    "execution": {
     "iopub.execute_input": "2021-10-16T00:25:03.588587Z",
     "iopub.status.busy": "2021-10-16T00:25:03.587979Z",
     "iopub.status.idle": "2021-10-16T00:25:03.590300Z",
     "shell.execute_reply": "2021-10-16T00:25:03.589873Z"
    },
    "papermill": {
     "duration": 0.038405,
     "end_time": "2021-10-16T00:25:03.590407",
     "exception": false,
     "start_time": "2021-10-16T00:25:03.552002",
     "status": "completed"
    },
    "tags": []
   },
   "outputs": [],
   "source": [
    "#hide\n",
    "# cols = list(g.columns.values)"
   ]
  },
  {
   "cell_type": "code",
   "execution_count": 29,
   "id": "solved-farming",
   "metadata": {
    "execution": {
     "iopub.execute_input": "2021-10-16T00:25:03.663568Z",
     "iopub.status.busy": "2021-10-16T00:25:03.662957Z",
     "iopub.status.idle": "2021-10-16T00:25:03.665480Z",
     "shell.execute_reply": "2021-10-16T00:25:03.664894Z"
    },
    "papermill": {
     "duration": 0.039316,
     "end_time": "2021-10-16T00:25:03.665608",
     "exception": false,
     "start_time": "2021-10-16T00:25:03.626292",
     "status": "completed"
    },
    "tags": []
   },
   "outputs": [],
   "source": [
    "#hide\n",
    "# cols.insert(0, cols.pop())"
   ]
  },
  {
   "cell_type": "code",
   "execution_count": 30,
   "id": "executed-adoption",
   "metadata": {
    "execution": {
     "iopub.execute_input": "2021-10-16T00:25:03.738170Z",
     "iopub.status.busy": "2021-10-16T00:25:03.737260Z",
     "iopub.status.idle": "2021-10-16T00:25:03.740124Z",
     "shell.execute_reply": "2021-10-16T00:25:03.740814Z"
    },
    "papermill": {
     "duration": 0.040553,
     "end_time": "2021-10-16T00:25:03.740936",
     "exception": false,
     "start_time": "2021-10-16T00:25:03.700383",
     "status": "completed"
    },
    "tags": []
   },
   "outputs": [],
   "source": [
    "#hide\n",
    "# g = g[cols]"
   ]
  },
  {
   "cell_type": "code",
   "execution_count": 31,
   "id": "subject-dublin",
   "metadata": {
    "execution": {
     "iopub.execute_input": "2021-10-16T00:25:03.813313Z",
     "iopub.status.busy": "2021-10-16T00:25:03.812650Z",
     "iopub.status.idle": "2021-10-16T00:25:03.814753Z",
     "shell.execute_reply": "2021-10-16T00:25:03.815272Z"
    },
    "papermill": {
     "duration": 0.039958,
     "end_time": "2021-10-16T00:25:03.815394",
     "exception": false,
     "start_time": "2021-10-16T00:25:03.775436",
     "status": "completed"
    },
    "tags": []
   },
   "outputs": [],
   "source": [
    "#hide\n",
    "# g['continent'] = g['continent'].map(mapping['map.continent'])"
   ]
  },
  {
   "cell_type": "code",
   "execution_count": 32,
   "id": "freelance-scout",
   "metadata": {
    "execution": {
     "iopub.execute_input": "2021-10-16T00:25:03.884944Z",
     "iopub.status.busy": "2021-10-16T00:25:03.884350Z",
     "iopub.status.idle": "2021-10-16T00:25:03.886284Z",
     "shell.execute_reply": "2021-10-16T00:25:03.886827Z"
    },
    "papermill": {
     "duration": 0.038498,
     "end_time": "2021-10-16T00:25:03.886969",
     "exception": false,
     "start_time": "2021-10-16T00:25:03.848471",
     "status": "completed"
    },
    "tags": []
   },
   "outputs": [],
   "source": [
    "#hide\n",
    "# g.head()"
   ]
  },
  {
   "cell_type": "code",
   "execution_count": 33,
   "id": "limited-engine",
   "metadata": {
    "execution": {
     "iopub.execute_input": "2021-10-16T00:25:03.961405Z",
     "iopub.status.busy": "2021-10-16T00:25:03.960618Z",
     "iopub.status.idle": "2021-10-16T00:25:03.961972Z",
     "shell.execute_reply": "2021-10-16T00:25:03.962521Z"
    },
    "papermill": {
     "duration": 0.040803,
     "end_time": "2021-10-16T00:25:03.962650",
     "exception": false,
     "start_time": "2021-10-16T00:25:03.921847",
     "status": "completed"
    },
    "tags": []
   },
   "outputs": [],
   "source": [
    "# hide\n",
    "# g['date'] = g['date'].astype('datetime64[ns]')"
   ]
  },
  {
   "cell_type": "code",
   "execution_count": 34,
   "id": "sophisticated-supervisor",
   "metadata": {
    "execution": {
     "iopub.execute_input": "2021-10-16T00:25:04.035487Z",
     "iopub.status.busy": "2021-10-16T00:25:04.034927Z",
     "iopub.status.idle": "2021-10-16T00:25:04.037263Z",
     "shell.execute_reply": "2021-10-16T00:25:04.036740Z"
    },
    "papermill": {
     "duration": 0.039491,
     "end_time": "2021-10-16T00:25:04.037384",
     "exception": false,
     "start_time": "2021-10-16T00:25:03.997893",
     "status": "completed"
    },
    "tags": []
   },
   "outputs": [],
   "source": [
    "#hide\n",
    "# g['date'] = g.date.dt.dayofyear"
   ]
  },
  {
   "cell_type": "code",
   "execution_count": 35,
   "id": "inside-dubai",
   "metadata": {
    "execution": {
     "iopub.execute_input": "2021-10-16T00:25:04.107040Z",
     "iopub.status.busy": "2021-10-16T00:25:04.106326Z",
     "iopub.status.idle": "2021-10-16T00:25:04.108536Z",
     "shell.execute_reply": "2021-10-16T00:25:04.109006Z"
    },
    "papermill": {
     "duration": 0.038548,
     "end_time": "2021-10-16T00:25:04.109126",
     "exception": false,
     "start_time": "2021-10-16T00:25:04.070578",
     "status": "completed"
    },
    "tags": []
   },
   "outputs": [],
   "source": [
    "#hide\n",
    "# g = g.rename(columns= {'continent':'group','country':'name','cases':'value'})"
   ]
  },
  {
   "cell_type": "code",
   "execution_count": 36,
   "id": "fleet-motorcycle",
   "metadata": {
    "execution": {
     "iopub.execute_input": "2021-10-16T00:25:04.180441Z",
     "iopub.status.busy": "2021-10-16T00:25:04.179672Z",
     "iopub.status.idle": "2021-10-16T00:25:04.182054Z",
     "shell.execute_reply": "2021-10-16T00:25:04.181603Z"
    },
    "papermill": {
     "duration": 0.04001,
     "end_time": "2021-10-16T00:25:04.182235",
     "exception": false,
     "start_time": "2021-10-16T00:25:04.142225",
     "status": "completed"
    },
    "tags": []
   },
   "outputs": [],
   "source": [
    "#hide\n",
    "# cols = ['name','group','day','value']"
   ]
  },
  {
   "cell_type": "code",
   "execution_count": 37,
   "id": "continued-sleeping",
   "metadata": {
    "execution": {
     "iopub.execute_input": "2021-10-16T00:25:04.253258Z",
     "iopub.status.busy": "2021-10-16T00:25:04.252547Z",
     "iopub.status.idle": "2021-10-16T00:25:04.257944Z",
     "shell.execute_reply": "2021-10-16T00:25:04.257401Z"
    },
    "papermill": {
     "duration": 0.041478,
     "end_time": "2021-10-16T00:25:04.258077",
     "exception": false,
     "start_time": "2021-10-16T00:25:04.216599",
     "status": "completed"
    },
    "tags": []
   },
   "outputs": [],
   "source": [
    "#hide\n",
    "# g.rename(columns= {'date':'day'},inplace = True)"
   ]
  },
  {
   "cell_type": "code",
   "execution_count": 38,
   "id": "major-fight",
   "metadata": {
    "execution": {
     "iopub.execute_input": "2021-10-16T00:25:04.329639Z",
     "iopub.status.busy": "2021-10-16T00:25:04.329081Z",
     "iopub.status.idle": "2021-10-16T00:25:04.331499Z",
     "shell.execute_reply": "2021-10-16T00:25:04.331002Z"
    },
    "papermill": {
     "duration": 0.039225,
     "end_time": "2021-10-16T00:25:04.331624",
     "exception": false,
     "start_time": "2021-10-16T00:25:04.292399",
     "status": "completed"
    },
    "tags": []
   },
   "outputs": [],
   "source": [
    "#hide\n",
    "# g = g[cols]"
   ]
  },
  {
   "cell_type": "code",
   "execution_count": 39,
   "id": "structured-mobile",
   "metadata": {
    "execution": {
     "iopub.execute_input": "2021-10-16T00:25:04.402447Z",
     "iopub.status.busy": "2021-10-16T00:25:04.401872Z",
     "iopub.status.idle": "2021-10-16T00:25:04.403729Z",
     "shell.execute_reply": "2021-10-16T00:25:04.404343Z"
    },
    "papermill": {
     "duration": 0.038786,
     "end_time": "2021-10-16T00:25:04.404550",
     "exception": false,
     "start_time": "2021-10-16T00:25:04.365764",
     "status": "completed"
    },
    "tags": []
   },
   "outputs": [],
   "source": [
    "# #hide\n",
    "# g = g[g.group.notna()]"
   ]
  },
  {
   "cell_type": "code",
   "execution_count": 40,
   "id": "determined-closing",
   "metadata": {
    "execution": {
     "iopub.execute_input": "2021-10-16T00:25:04.473052Z",
     "iopub.status.busy": "2021-10-16T00:25:04.472469Z",
     "iopub.status.idle": "2021-10-16T00:25:04.475223Z",
     "shell.execute_reply": "2021-10-16T00:25:04.474370Z"
    },
    "papermill": {
     "duration": 0.037926,
     "end_time": "2021-10-16T00:25:04.475432",
     "exception": false,
     "start_time": "2021-10-16T00:25:04.437506",
     "status": "completed"
    },
    "tags": []
   },
   "outputs": [],
   "source": [
    "# #hide\n",
    "# colors = dict(zip(\n",
    "#     [\"Oceania\", \"Europe\", \"Asia\", \"South America\", \"Middle East\", \"North America\", \"Africa\"],\n",
    "#     [\"#adb0ff\", \"#ffb3ff\", \"#90d595\", \"#e48381\", \"#aafbff\", \"#f7bb5f\", \"#eafb50\"]\n",
    "# ))\n",
    "# group_lk = g.set_index('name')['group'].to_dict()"
   ]
  },
  {
   "cell_type": "code",
   "execution_count": null,
   "id": "gross-drinking",
   "metadata": {
    "papermill": {
     "duration": 0.032834,
     "end_time": "2021-10-16T00:25:04.540916",
     "exception": false,
     "start_time": "2021-10-16T00:25:04.508082",
     "status": "completed"
    },
    "tags": []
   },
   "outputs": [],
   "source": []
  },
  {
   "cell_type": "code",
   "execution_count": 41,
   "id": "subject-macintosh",
   "metadata": {
    "execution": {
     "iopub.execute_input": "2021-10-16T00:25:04.611532Z",
     "iopub.status.busy": "2021-10-16T00:25:04.610676Z",
     "iopub.status.idle": "2021-10-16T00:25:04.613160Z",
     "shell.execute_reply": "2021-10-16T00:25:04.612696Z"
    },
    "papermill": {
     "duration": 0.038923,
     "end_time": "2021-10-16T00:25:04.613269",
     "exception": false,
     "start_time": "2021-10-16T00:25:04.574346",
     "status": "completed"
    },
    "tags": []
   },
   "outputs": [],
   "source": [
    "# #hide\n",
    "# fig, ax = plt.subplots(figsize=(15, 8))\n",
    "\n",
    "# def draw_barchart(current_day):\n",
    "#     dff = g[g['day'].eq(current_day)].sort_values(by='value', ascending=True).tail(10)\n",
    "#     ax.clear()\n",
    "#     ax.barh(dff['name'], dff['value'], color=[colors[group_lk[x]] for x in dff['name']])\n",
    "#     dx = dff['value'].max() / 200\n",
    "    \n",
    "#     for i, (value, name) in enumerate(zip(dff['value'], dff['name'])):\n",
    "#         ax.text(value-dx, i,     name,           size=14, weight=600, ha='right', va='bottom')\n",
    "#         ax.text(value-dx, i-.25, group_lk[name], size=10, color='#444444', ha='right', va='baseline')\n",
    "#         ax.text(value+dx, i,     f'{value:,.0f}',  size=14, ha='left',  va='center')\n",
    "#     ax.text(1, 0.4, current_day, transform=ax.transAxes, color='#777777', size=46, ha='right', weight=800)\n",
    "#     ax.text(0, 1.06, 'Population (thousands)', transform=ax.transAxes, size=12, color='#777777')\n",
    "#     ax.xaxis.set_major_formatter(ticker.StrMethodFormatter('{x:,.0f}'))\n",
    "#     ax.xaxis.set_ticks_position('top')\n",
    "#     ax.tick_params(axis='x', colors='#777777', labelsize=12)\n",
    "#     ax.set_yticks([])\n",
    "#     ax.margins(0, 0.01)\n",
    "#     ax.grid(which='major', axis='x', linestyle='-')\n",
    "#     ax.set_axisbelow(True)\n",
    "    \n",
    "#     ax.text(0, 1.15, 'Coronavirus',\n",
    "#             transform=ax.transAxes, size=24, weight=600, ha='left', va='top')\n",
    "# #     ax.text(1, 0, 'by @pratapvardhan; credit @jburnmurdoch', transform=ax.transAxes, color='#777777', ha='right',\n",
    "# #             bbox=dict(facecolor='white', alpha=0.8, edgecolor='white'))\n",
    "#     plt.box(False)"
   ]
  },
  {
   "cell_type": "code",
   "execution_count": 42,
   "id": "sexual-wages",
   "metadata": {
    "execution": {
     "iopub.execute_input": "2021-10-16T00:25:04.682952Z",
     "iopub.status.busy": "2021-10-16T00:25:04.682333Z",
     "iopub.status.idle": "2021-10-16T00:25:04.684669Z",
     "shell.execute_reply": "2021-10-16T00:25:04.684196Z"
    },
    "papermill": {
     "duration": 0.038554,
     "end_time": "2021-10-16T00:25:04.684793",
     "exception": false,
     "start_time": "2021-10-16T00:25:04.646239",
     "status": "completed"
    },
    "tags": []
   },
   "outputs": [],
   "source": [
    "# #hide_input\n",
    "# fig, ax = plt.subplots(figsize=(15, 8))\n",
    "# animator = animation.FuncAnimation(fig, draw_barchart, frames=range(g.day.values.min(), g.day.values.max()))\n",
    "# HTML(animator.to_jshtml())\n",
    "# # or use animator.to_html5_video() or animator.save() "
   ]
  },
  {
   "cell_type": "code",
   "execution_count": null,
   "id": "australian-container",
   "metadata": {
    "papermill": {
     "duration": 0.033437,
     "end_time": "2021-10-16T00:25:04.751937",
     "exception": false,
     "start_time": "2021-10-16T00:25:04.718500",
     "status": "completed"
    },
    "tags": []
   },
   "outputs": [],
   "source": []
  },
  {
   "cell_type": "code",
   "execution_count": null,
   "id": "mediterranean-pontiac",
   "metadata": {
    "papermill": {
     "duration": 0.033428,
     "end_time": "2021-10-16T00:25:04.823772",
     "exception": false,
     "start_time": "2021-10-16T00:25:04.790344",
     "status": "completed"
    },
    "tags": []
   },
   "outputs": [],
   "source": []
  },
  {
   "cell_type": "code",
   "execution_count": null,
   "id": "aging-legislature",
   "metadata": {
    "papermill": {
     "duration": 0.032638,
     "end_time": "2021-10-16T00:25:04.888908",
     "exception": false,
     "start_time": "2021-10-16T00:25:04.856270",
     "status": "completed"
    },
    "tags": []
   },
   "outputs": [],
   "source": []
  }
 ],
 "metadata": {
  "kernelspec": {
   "display_name": "Python 3",
   "language": "python",
   "name": "python3"
  },
  "language_info": {
   "codemirror_mode": {
    "name": "ipython",
    "version": 3
   },
   "file_extension": ".py",
   "mimetype": "text/x-python",
   "name": "python",
   "nbconvert_exporter": "python",
   "pygments_lexer": "ipython3",
   "version": "3.6.15"
  },
  "papermill": {
   "duration": 6.306278,
   "end_time": "2021-10-16T00:25:05.230999",
   "environment_variables": {},
   "exception": null,
   "input_path": "2020-03-21-covid19exp.ipynb",
   "output_path": "2020-03-21-covid19exp.ipynb",
   "parameters": {},
   "start_time": "2021-10-16T00:24:58.924721",
   "version": "2.0.0"
  }
 },
 "nbformat": 4,
 "nbformat_minor": 5
}