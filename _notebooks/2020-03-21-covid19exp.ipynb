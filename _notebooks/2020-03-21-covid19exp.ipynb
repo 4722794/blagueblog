{
 "cells": [
  {
   "cell_type": "markdown",
   "id": "muslim-click",
   "metadata": {
    "papermill": {
     "duration": 0.039233,
     "end_time": "2021-11-13T12:11:24.970004",
     "exception": false,
     "start_time": "2021-11-13T12:11:24.930771",
     "status": "completed"
    },
    "tags": []
   },
   "source": [
    "# COVID-19 Case Race\n",
    "> A race chart to see rising cases around the world\n",
    "\n",
    "- author: Hargun Oberoi\n",
    "- image: images/covid-overview.png\n",
    "- hide: false\n",
    "- badges: false"
   ]
  },
  {
   "cell_type": "code",
   "execution_count": 1,
   "id": "proof-material",
   "metadata": {
    "execution": {
     "iopub.execute_input": "2021-11-13T12:11:25.041327Z",
     "iopub.status.busy": "2021-11-13T12:11:25.040811Z",
     "iopub.status.idle": "2021-11-13T12:11:25.408078Z",
     "shell.execute_reply": "2021-11-13T12:11:25.406709Z"
    },
    "papermill": {
     "duration": 0.407266,
     "end_time": "2021-11-13T12:11:25.408243",
     "exception": false,
     "start_time": "2021-11-13T12:11:25.000977",
     "status": "completed"
    },
    "tags": []
   },
   "outputs": [],
   "source": [
    "#hide\n",
    "import numpy as np\n",
    "import pandas as pd\n",
    "from jinja2 import Template\n",
    "from IPython.display import HTML"
   ]
  },
  {
   "cell_type": "code",
   "execution_count": 2,
   "id": "developed-terminology",
   "metadata": {
    "execution": {
     "iopub.execute_input": "2021-11-13T12:11:25.482402Z",
     "iopub.status.busy": "2021-11-13T12:11:25.481768Z",
     "iopub.status.idle": "2021-11-13T12:11:25.483655Z",
     "shell.execute_reply": "2021-11-13T12:11:25.484114Z"
    },
    "papermill": {
     "duration": 0.041095,
     "end_time": "2021-11-13T12:11:25.484263",
     "exception": false,
     "start_time": "2021-11-13T12:11:25.443168",
     "status": "completed"
    },
    "tags": []
   },
   "outputs": [],
   "source": [
    "#hide\n",
    "\n",
    "# FETCH\n",
    "base_url = 'https://raw.githubusercontent.com/pratapvardhan/notebooks/master/covid19/'\n",
    "paths = {\n",
    "    'mapping': base_url + 'mapping_countries.csv',\n",
    "    'overview': base_url + 'overview.tpl'\n",
    "}"
   ]
  },
  {
   "cell_type": "code",
   "execution_count": 3,
   "id": "dynamic-saver",
   "metadata": {
    "execution": {
     "iopub.execute_input": "2021-11-13T12:11:25.564609Z",
     "iopub.status.busy": "2021-11-13T12:11:25.559551Z",
     "iopub.status.idle": "2021-11-13T12:11:25.567987Z",
     "shell.execute_reply": "2021-11-13T12:11:25.567452Z"
    },
    "papermill": {
     "duration": 0.050823,
     "end_time": "2021-11-13T12:11:25.568118",
     "exception": false,
     "start_time": "2021-11-13T12:11:25.517295",
     "status": "completed"
    },
    "tags": []
   },
   "outputs": [
    {
     "data": {
      "text/plain": [
       "'https://raw.githubusercontent.com/pratapvardhan/notebooks/master/covid19/mapping_countries.csv'"
      ]
     },
     "execution_count": 3,
     "metadata": {},
     "output_type": "execute_result"
    }
   ],
   "source": [
    "#hide\n",
    "paths['mapping']"
   ]
  },
  {
   "cell_type": "code",
   "execution_count": 4,
   "id": "urban-software",
   "metadata": {
    "execution": {
     "iopub.execute_input": "2021-11-13T12:11:25.641246Z",
     "iopub.status.busy": "2021-11-13T12:11:25.640600Z",
     "iopub.status.idle": "2021-11-13T12:11:25.642838Z",
     "shell.execute_reply": "2021-11-13T12:11:25.643395Z"
    },
    "papermill": {
     "duration": 0.04261,
     "end_time": "2021-11-13T12:11:25.643578",
     "exception": false,
     "start_time": "2021-11-13T12:11:25.600968",
     "status": "completed"
    },
    "tags": []
   },
   "outputs": [],
   "source": [
    "#hide\n",
    "def get_mappings(url):\n",
    "    df = pd.read_csv(url)\n",
    "    return {\n",
    "        'df': df,\n",
    "        'replace.country': dict(df.dropna(subset=['Name']).set_index('Country')['Name']),\n",
    "        'map.continent': dict(df.set_index('Name')['Continent'])\n",
    "    }"
   ]
  },
  {
   "cell_type": "code",
   "execution_count": 5,
   "id": "intimate-machinery",
   "metadata": {
    "execution": {
     "iopub.execute_input": "2021-11-13T12:11:25.715960Z",
     "iopub.status.busy": "2021-11-13T12:11:25.715302Z",
     "iopub.status.idle": "2021-11-13T12:11:25.748009Z",
     "shell.execute_reply": "2021-11-13T12:11:25.747031Z"
    },
    "papermill": {
     "duration": 0.071596,
     "end_time": "2021-11-13T12:11:25.748234",
     "exception": false,
     "start_time": "2021-11-13T12:11:25.676638",
     "status": "completed"
    },
    "tags": []
   },
   "outputs": [],
   "source": [
    "#hide\n",
    "mapping = get_mappings(paths['mapping'])"
   ]
  },
  {
   "cell_type": "code",
   "execution_count": 6,
   "id": "certified-tactics",
   "metadata": {
    "execution": {
     "iopub.execute_input": "2021-11-13T12:11:25.825361Z",
     "iopub.status.busy": "2021-11-13T12:11:25.824754Z",
     "iopub.status.idle": "2021-11-13T12:11:25.826605Z",
     "shell.execute_reply": "2021-11-13T12:11:25.827085Z"
    },
    "papermill": {
     "duration": 0.042882,
     "end_time": "2021-11-13T12:11:25.827233",
     "exception": false,
     "start_time": "2021-11-13T12:11:25.784351",
     "status": "completed"
    },
    "tags": []
   },
   "outputs": [],
   "source": [
    "#hide\n",
    "def get_template(path):\n",
    "    from urllib.parse import urlparse\n",
    "    if bool(urlparse(path).netloc):\n",
    "        from urllib.request import urlopen\n",
    "        return urlopen(path).read().decode('utf8')\n",
    "    return open(path).read()"
   ]
  },
  {
   "cell_type": "code",
   "execution_count": 7,
   "id": "realistic-blast",
   "metadata": {
    "execution": {
     "iopub.execute_input": "2021-11-13T12:11:25.902983Z",
     "iopub.status.busy": "2021-11-13T12:11:25.901893Z",
     "iopub.status.idle": "2021-11-13T12:11:25.906923Z",
     "shell.execute_reply": "2021-11-13T12:11:25.906417Z"
    },
    "papermill": {
     "duration": 0.045858,
     "end_time": "2021-11-13T12:11:25.907064",
     "exception": false,
     "start_time": "2021-11-13T12:11:25.861206",
     "status": "completed"
    },
    "tags": []
   },
   "outputs": [],
   "source": [
    "#hide\n",
    "def get_frame(name):\n",
    "    url = (\n",
    "        'https://raw.githubusercontent.com/CSSEGISandData/COVID-19/master/csse_covid_19_data/'\n",
    "        f'csse_covid_19_time_series/time_series_covid19_{name}_global.csv')\n",
    "    df = pd.read_csv(url)\n",
    "    # rename countries\n",
    "    df['Country/Region'] = df['Country/Region'].replace(mapping['replace.country'])\n",
    "    return df"
   ]
  },
  {
   "cell_type": "code",
   "execution_count": 8,
   "id": "affiliated-characterization",
   "metadata": {
    "execution": {
     "iopub.execute_input": "2021-11-13T12:11:25.980198Z",
     "iopub.status.busy": "2021-11-13T12:11:25.979558Z",
     "iopub.status.idle": "2021-11-13T12:11:25.981949Z",
     "shell.execute_reply": "2021-11-13T12:11:25.982528Z"
    },
    "papermill": {
     "duration": 0.042874,
     "end_time": "2021-11-13T12:11:25.982678",
     "exception": false,
     "start_time": "2021-11-13T12:11:25.939804",
     "status": "completed"
    },
    "tags": []
   },
   "outputs": [],
   "source": [
    "#hide\n",
    "def get_dates(df):\n",
    "    dt_cols = df.columns[~df.columns.isin(['Province/State', 'Country/Region', 'Lat', 'Long'])]\n",
    "    LAST_DATE_I = -1\n",
    "    # sometimes last column may be empty, then go backwards\n",
    "    for i in range(-1, -len(dt_cols), -1):\n",
    "        if not df[dt_cols[i]].fillna(0).eq(0).all():\n",
    "            LAST_DATE_I = i\n",
    "            break\n",
    "    return LAST_DATE_I, dt_cols"
   ]
  },
  {
   "cell_type": "code",
   "execution_count": 9,
   "id": "recent-optimization",
   "metadata": {
    "execution": {
     "iopub.execute_input": "2021-11-13T12:11:26.055791Z",
     "iopub.status.busy": "2021-11-13T12:11:26.055095Z",
     "iopub.status.idle": "2021-11-13T12:11:26.380324Z",
     "shell.execute_reply": "2021-11-13T12:11:26.379009Z"
    },
    "papermill": {
     "duration": 0.364352,
     "end_time": "2021-11-13T12:11:26.380472",
     "exception": false,
     "start_time": "2021-11-13T12:11:26.016120",
     "status": "completed"
    },
    "tags": []
   },
   "outputs": [],
   "source": [
    "#hide\n",
    "COL_REGION = 'Country/Region'\n",
    "# Confirmed, Recovered, Deaths\n",
    "df = get_frame('confirmed')\n",
    "# dft_: timeseries, dfc_: today country agg\n",
    "dft_cases = df\n",
    "dft_deaths = get_frame('deaths')\n",
    "dft_recovered = get_frame('recovered')\n",
    "LAST_DATE_I, dt_cols = get_dates(df)"
   ]
  },
  {
   "cell_type": "code",
   "execution_count": 10,
   "id": "absolute-copper",
   "metadata": {
    "execution": {
     "iopub.execute_input": "2021-11-13T12:11:26.453379Z",
     "iopub.status.busy": "2021-11-13T12:11:26.452754Z",
     "iopub.status.idle": "2021-11-13T12:11:26.455130Z",
     "shell.execute_reply": "2021-11-13T12:11:26.454652Z"
    },
    "papermill": {
     "duration": 0.041573,
     "end_time": "2021-11-13T12:11:26.455254",
     "exception": false,
     "start_time": "2021-11-13T12:11:26.413681",
     "status": "completed"
    },
    "tags": []
   },
   "outputs": [],
   "source": [
    "#hide\n",
    "LAST_DATE_I, dt_cols = get_dates(df)\n",
    "dt_today =dt_cols[LAST_DATE_I]\n",
    "# dt_5day = dt_cols[LAST_DATE_I - 5]\n",
    "dt_yday = dt_cols[LAST_DATE_I - 1]"
   ]
  },
  {
   "cell_type": "code",
   "execution_count": 11,
   "id": "restricted-sheriff",
   "metadata": {
    "execution": {
     "iopub.execute_input": "2021-11-13T12:11:26.533669Z",
     "iopub.status.busy": "2021-11-13T12:11:26.530016Z",
     "iopub.status.idle": "2021-11-13T12:11:26.536842Z",
     "shell.execute_reply": "2021-11-13T12:11:26.536061Z"
    },
    "papermill": {
     "duration": 0.049192,
     "end_time": "2021-11-13T12:11:26.536981",
     "exception": false,
     "start_time": "2021-11-13T12:11:26.487789",
     "status": "completed"
    },
    "tags": []
   },
   "outputs": [],
   "source": [
    "#hide\n",
    "dfc_cases = dft_cases.groupby(COL_REGION)[dt_today].sum()\n",
    "dfc_deaths = dft_deaths.groupby(COL_REGION)[dt_today].sum()\n",
    "# dfp_cases = dft_cases.groupby(COL_REGION)[dt_5day].sum()\n",
    "# dfp_deaths = dft_deaths.groupby(COL_REGION)[dt_5day].sum()\n",
    "dfp_cases = dft_cases.groupby(COL_REGION)[dt_yday].sum()\n",
    "dfp_deaths = dft_deaths.groupby(COL_REGION)[dt_yday].sum()"
   ]
  },
  {
   "cell_type": "code",
   "execution_count": 12,
   "id": "deluxe-hepatitis",
   "metadata": {
    "execution": {
     "iopub.execute_input": "2021-11-13T12:11:26.609568Z",
     "iopub.status.busy": "2021-11-13T12:11:26.607916Z",
     "iopub.status.idle": "2021-11-13T12:11:26.615558Z",
     "shell.execute_reply": "2021-11-13T12:11:26.614545Z"
    },
    "papermill": {
     "duration": 0.045665,
     "end_time": "2021-11-13T12:11:26.615691",
     "exception": false,
     "start_time": "2021-11-13T12:11:26.570026",
     "status": "completed"
    },
    "tags": []
   },
   "outputs": [],
   "source": [
    "#hide\n",
    "df_table = (pd.DataFrame(dict(Cases = dfc_cases, Deaths = dfc_deaths, PCases = dfp_cases, PDeaths = dfp_deaths))\n",
    "            .sort_values(by = ['Cases','Deaths'], ascending = [False, False])\n",
    "            .reset_index())"
   ]
  },
  {
   "cell_type": "code",
   "execution_count": 13,
   "id": "educational-chancellor",
   "metadata": {
    "execution": {
     "iopub.execute_input": "2021-11-13T12:11:26.706382Z",
     "iopub.status.busy": "2021-11-13T12:11:26.700321Z",
     "iopub.status.idle": "2021-11-13T12:11:26.710072Z",
     "shell.execute_reply": "2021-11-13T12:11:26.709292Z"
    },
    "papermill": {
     "duration": 0.062218,
     "end_time": "2021-11-13T12:11:26.710205",
     "exception": false,
     "start_time": "2021-11-13T12:11:26.647987",
     "status": "completed"
    },
    "tags": []
   },
   "outputs": [
    {
     "data": {
      "text/html": [
       "<div>\n",
       "<style scoped>\n",
       "    .dataframe tbody tr th:only-of-type {\n",
       "        vertical-align: middle;\n",
       "    }\n",
       "\n",
       "    .dataframe tbody tr th {\n",
       "        vertical-align: top;\n",
       "    }\n",
       "\n",
       "    .dataframe thead th {\n",
       "        text-align: right;\n",
       "    }\n",
       "</style>\n",
       "<table border=\"1\" class=\"dataframe\">\n",
       "  <thead>\n",
       "    <tr style=\"text-align: right;\">\n",
       "      <th></th>\n",
       "      <th>Country/Region</th>\n",
       "      <th>Cases</th>\n",
       "      <th>Deaths</th>\n",
       "      <th>PCases</th>\n",
       "      <th>PDeaths</th>\n",
       "      <th>Cases (+)</th>\n",
       "      <th>Deaths (+)</th>\n",
       "      <th>Fatality Rate</th>\n",
       "      <th>Continent</th>\n",
       "    </tr>\n",
       "  </thead>\n",
       "  <tbody>\n",
       "    <tr>\n",
       "      <th>0</th>\n",
       "      <td>US</td>\n",
       "      <td>46991304</td>\n",
       "      <td>762520</td>\n",
       "      <td>46851529</td>\n",
       "      <td>760037</td>\n",
       "      <td>139775</td>\n",
       "      <td>2483</td>\n",
       "      <td>1.62</td>\n",
       "      <td>North America</td>\n",
       "    </tr>\n",
       "    <tr>\n",
       "      <th>1</th>\n",
       "      <td>India</td>\n",
       "      <td>34426036</td>\n",
       "      <td>463245</td>\n",
       "      <td>34414186</td>\n",
       "      <td>462690</td>\n",
       "      <td>11850</td>\n",
       "      <td>555</td>\n",
       "      <td>1.35</td>\n",
       "      <td>Asia</td>\n",
       "    </tr>\n",
       "    <tr>\n",
       "      <th>2</th>\n",
       "      <td>Brazil</td>\n",
       "      <td>21939196</td>\n",
       "      <td>610491</td>\n",
       "      <td>21924598</td>\n",
       "      <td>610224</td>\n",
       "      <td>14598</td>\n",
       "      <td>267</td>\n",
       "      <td>2.78</td>\n",
       "      <td>South America</td>\n",
       "    </tr>\n",
       "    <tr>\n",
       "      <th>3</th>\n",
       "      <td>United Kingdom</td>\n",
       "      <td>9534544</td>\n",
       "      <td>143116</td>\n",
       "      <td>9495395</td>\n",
       "      <td>142971</td>\n",
       "      <td>39149</td>\n",
       "      <td>145</td>\n",
       "      <td>1.50</td>\n",
       "      <td>Europe</td>\n",
       "    </tr>\n",
       "    <tr>\n",
       "      <th>4</th>\n",
       "      <td>Russia</td>\n",
       "      <td>8843238</td>\n",
       "      <td>248203</td>\n",
       "      <td>8804297</td>\n",
       "      <td>247000</td>\n",
       "      <td>38941</td>\n",
       "      <td>1203</td>\n",
       "      <td>2.81</td>\n",
       "      <td>Europe</td>\n",
       "    </tr>\n",
       "  </tbody>\n",
       "</table>\n",
       "</div>"
      ],
      "text/plain": [
       "   Country/Region     Cases  Deaths    PCases  PDeaths  Cases (+)  Deaths (+)  \\\n",
       "0              US  46991304  762520  46851529   760037     139775        2483   \n",
       "1           India  34426036  463245  34414186   462690      11850         555   \n",
       "2          Brazil  21939196  610491  21924598   610224      14598         267   \n",
       "3  United Kingdom   9534544  143116   9495395   142971      39149         145   \n",
       "4          Russia   8843238  248203   8804297   247000      38941        1203   \n",
       "\n",
       "   Fatality Rate      Continent  \n",
       "0           1.62  North America  \n",
       "1           1.35           Asia  \n",
       "2           2.78  South America  \n",
       "3           1.50         Europe  \n",
       "4           2.81         Europe  "
      ]
     },
     "execution_count": 13,
     "metadata": {},
     "output_type": "execute_result"
    }
   ],
   "source": [
    "#hide\n",
    "for c in 'Cases, Deaths'.split(', '):\n",
    "    df_table[f'{c} (+)'] = (df_table[c] - df_table[f'P{c}']).clip(0)\n",
    "    #Clip ça veut dire, les chiffres negatif sont interdit\n",
    "df_table['Fatality Rate'] = (100* df_table['Deaths']/ df_table['Cases']).round(2)\n",
    "df_table['Continent'] = df_table['Country/Region'].map(mapping['map.continent'])\n",
    "df_table.head(5)"
   ]
  },
  {
   "cell_type": "code",
   "execution_count": 14,
   "id": "aboriginal-bulgaria",
   "metadata": {
    "execution": {
     "iopub.execute_input": "2021-11-13T12:11:26.783654Z",
     "iopub.status.busy": "2021-11-13T12:11:26.782989Z",
     "iopub.status.idle": "2021-11-13T12:11:26.785660Z",
     "shell.execute_reply": "2021-11-13T12:11:26.786249Z"
    },
    "papermill": {
     "duration": 0.042118,
     "end_time": "2021-11-13T12:11:26.786403",
     "exception": false,
     "start_time": "2021-11-13T12:11:26.744285",
     "status": "completed"
    },
    "tags": []
   },
   "outputs": [],
   "source": [
    "#hide\n",
    "#delete problematic countries from table\n",
    "df_table = df_table[~df_table['Country/Region'].isin(['Cape Verde', 'Cruise Ship', 'Kosovo'])]"
   ]
  },
  {
   "cell_type": "code",
   "execution_count": 15,
   "id": "fantastic-effect",
   "metadata": {
    "execution": {
     "iopub.execute_input": "2021-11-13T12:11:26.863697Z",
     "iopub.status.busy": "2021-11-13T12:11:26.863045Z",
     "iopub.status.idle": "2021-11-13T12:11:26.885383Z",
     "shell.execute_reply": "2021-11-13T12:11:26.884750Z"
    },
    "papermill": {
     "duration": 0.066416,
     "end_time": "2021-11-13T12:11:26.885540",
     "exception": false,
     "start_time": "2021-11-13T12:11:26.819124",
     "status": "completed"
    },
    "tags": []
   },
   "outputs": [
    {
     "data": {
      "text/html": [
       "<div>\n",
       "<style scoped>\n",
       "    .dataframe tbody tr th:only-of-type {\n",
       "        vertical-align: middle;\n",
       "    }\n",
       "\n",
       "    .dataframe tbody tr th {\n",
       "        vertical-align: top;\n",
       "    }\n",
       "\n",
       "    .dataframe thead th {\n",
       "        text-align: right;\n",
       "    }\n",
       "</style>\n",
       "<table border=\"1\" class=\"dataframe\">\n",
       "  <thead>\n",
       "    <tr style=\"text-align: right;\">\n",
       "      <th></th>\n",
       "      <th>Country/Region</th>\n",
       "      <th>Cases</th>\n",
       "      <th>Deaths</th>\n",
       "      <th>PCases</th>\n",
       "      <th>PDeaths</th>\n",
       "      <th>Cases (+)</th>\n",
       "      <th>Deaths (+)</th>\n",
       "      <th>Fatality Rate</th>\n",
       "      <th>Continent</th>\n",
       "    </tr>\n",
       "  </thead>\n",
       "  <tbody>\n",
       "    <tr>\n",
       "      <th>0</th>\n",
       "      <td>US</td>\n",
       "      <td>46991304</td>\n",
       "      <td>762520</td>\n",
       "      <td>46851529</td>\n",
       "      <td>760037</td>\n",
       "      <td>139775</td>\n",
       "      <td>2483</td>\n",
       "      <td>1.6</td>\n",
       "      <td>North America</td>\n",
       "    </tr>\n",
       "    <tr>\n",
       "      <th>1</th>\n",
       "      <td>India</td>\n",
       "      <td>34426036</td>\n",
       "      <td>463245</td>\n",
       "      <td>34414186</td>\n",
       "      <td>462690</td>\n",
       "      <td>11850</td>\n",
       "      <td>555</td>\n",
       "      <td>1.3</td>\n",
       "      <td>Asia</td>\n",
       "    </tr>\n",
       "    <tr>\n",
       "      <th>2</th>\n",
       "      <td>Brazil</td>\n",
       "      <td>21939196</td>\n",
       "      <td>610491</td>\n",
       "      <td>21924598</td>\n",
       "      <td>610224</td>\n",
       "      <td>14598</td>\n",
       "      <td>267</td>\n",
       "      <td>2.8</td>\n",
       "      <td>South America</td>\n",
       "    </tr>\n",
       "    <tr>\n",
       "      <th>3</th>\n",
       "      <td>United Kingdom</td>\n",
       "      <td>9534544</td>\n",
       "      <td>143116</td>\n",
       "      <td>9495395</td>\n",
       "      <td>142971</td>\n",
       "      <td>39149</td>\n",
       "      <td>145</td>\n",
       "      <td>1.5</td>\n",
       "      <td>Europe</td>\n",
       "    </tr>\n",
       "    <tr>\n",
       "      <th>4</th>\n",
       "      <td>Russia</td>\n",
       "      <td>8843238</td>\n",
       "      <td>248203</td>\n",
       "      <td>8804297</td>\n",
       "      <td>247000</td>\n",
       "      <td>38941</td>\n",
       "      <td>1203</td>\n",
       "      <td>2.8</td>\n",
       "      <td>Europe</td>\n",
       "    </tr>\n",
       "  </tbody>\n",
       "</table>\n",
       "</div>"
      ],
      "text/plain": [
       "   Country/Region     Cases  Deaths    PCases  PDeaths  Cases (+)  Deaths (+)  \\\n",
       "0              US  46991304  762520  46851529   760037     139775        2483   \n",
       "1           India  34426036  463245  34414186   462690      11850         555   \n",
       "2          Brazil  21939196  610491  21924598   610224      14598         267   \n",
       "3  United Kingdom   9534544  143116   9495395   142971      39149         145   \n",
       "4          Russia   8843238  248203   8804297   247000      38941        1203   \n",
       "\n",
       "   Fatality Rate      Continent  \n",
       "0            1.6  North America  \n",
       "1            1.3           Asia  \n",
       "2            2.8  South America  \n",
       "3            1.5         Europe  \n",
       "4            2.8         Europe  "
      ]
     },
     "execution_count": 15,
     "metadata": {},
     "output_type": "execute_result"
    }
   ],
   "source": [
    "#hide\n",
    "df_table = (pd.DataFrame(dict(Cases=dfc_cases, Deaths=dfc_deaths, PCases=dfp_cases, PDeaths=dfp_deaths))\n",
    "             .sort_values(by=['Cases', 'Deaths'], ascending=[False, False])\n",
    "             .reset_index())\n",
    "df_table.rename(columns={'index': 'Country/Region'}, inplace=True)\n",
    "for c in 'Cases, Deaths'.split(', '):\n",
    "    df_table[f'{c} (+)'] = (df_table[c] - df_table[f'P{c}']).clip(0)  # DATA BUG\n",
    "df_table['Fatality Rate'] = (100 * df_table['Deaths'] / df_table['Cases']).round(1)\n",
    "df_table['Continent'] = df_table['Country/Region'].map(mapping['map.continent'])\n",
    "df_table.head(5)"
   ]
  },
  {
   "cell_type": "code",
   "execution_count": 16,
   "id": "fewer-occasion",
   "metadata": {
    "execution": {
     "iopub.execute_input": "2021-11-13T12:11:26.959566Z",
     "iopub.status.busy": "2021-11-13T12:11:26.958958Z",
     "iopub.status.idle": "2021-11-13T12:11:26.963580Z",
     "shell.execute_reply": "2021-11-13T12:11:26.963067Z"
    },
    "papermill": {
     "duration": 0.044446,
     "end_time": "2021-11-13T12:11:26.963713",
     "exception": false,
     "start_time": "2021-11-13T12:11:26.919267",
     "status": "completed"
    },
    "tags": []
   },
   "outputs": [],
   "source": [
    "#hide\n",
    "#delete problematic countries from table\n",
    "df_table = df_table[~df_table['Country/Region'].isin(['Cape Verde', 'Cruise Ship', 'Kosovo'])]"
   ]
  },
  {
   "cell_type": "code",
   "execution_count": 17,
   "id": "related-center",
   "metadata": {
    "execution": {
     "iopub.execute_input": "2021-11-13T12:11:27.050490Z",
     "iopub.status.busy": "2021-11-13T12:11:27.049868Z",
     "iopub.status.idle": "2021-11-13T12:11:27.052152Z",
     "shell.execute_reply": "2021-11-13T12:11:27.052879Z"
    },
    "papermill": {
     "duration": 0.056182,
     "end_time": "2021-11-13T12:11:27.053031",
     "exception": false,
     "start_time": "2021-11-13T12:11:26.996849",
     "status": "completed"
    },
    "tags": []
   },
   "outputs": [],
   "source": [
    "#hide\n",
    "metrics = [df_table.columns[index] for index in [1,2,5,6]]\n",
    "# s_china = df_table[df_table['Country/Region'].eq('China')][metrics].sum().add_prefix('China ')\n",
    "s_us = df_table[df_table['Country/Region'].eq('US')][metrics].sum().add_prefix('US ')\n",
    "s_eu = df_table[df_table['Continent'].eq('Europe')][metrics].sum().add_prefix('EU ')\n",
    "s_ind = df_table[df_table['Country/Region'].eq('India')][metrics].sum().add_prefix('India ')\n",
    "summary = {'updated': pd.to_datetime(dt_today), 'since': pd.to_datetime(dt_yday)}\n",
    "summary = {'updated': pd.to_datetime(dt_today), 'since': pd.to_datetime(dt_yday)}\n",
    "summary = {**summary, **df_table[metrics].sum(), **s_ind, **s_us, **s_eu}"
   ]
  },
  {
   "cell_type": "code",
   "execution_count": 18,
   "id": "engaging-syndrome",
   "metadata": {
    "execution": {
     "iopub.execute_input": "2021-11-13T12:11:27.129682Z",
     "iopub.status.busy": "2021-11-13T12:11:27.128585Z",
     "iopub.status.idle": "2021-11-13T12:11:27.143017Z",
     "shell.execute_reply": "2021-11-13T12:11:27.142520Z"
    },
    "papermill": {
     "duration": 0.056041,
     "end_time": "2021-11-13T12:11:27.143146",
     "exception": false,
     "start_time": "2021-11-13T12:11:27.087105",
     "status": "completed"
    },
    "tags": []
   },
   "outputs": [],
   "source": [
    "#hide\n",
    "dft_ct_new_cases = dft_cases.groupby(COL_REGION)[dt_cols].sum().diff(axis=1).fillna(0).astype(int)"
   ]
  },
  {
   "cell_type": "code",
   "execution_count": 19,
   "id": "neutral-assignment",
   "metadata": {
    "execution": {
     "iopub.execute_input": "2021-11-13T12:11:27.217577Z",
     "iopub.status.busy": "2021-11-13T12:11:27.216950Z",
     "iopub.status.idle": "2021-11-13T12:11:27.218812Z",
     "shell.execute_reply": "2021-11-13T12:11:27.219267Z"
    },
    "papermill": {
     "duration": 0.042085,
     "end_time": "2021-11-13T12:11:27.219422",
     "exception": false,
     "start_time": "2021-11-13T12:11:27.177337",
     "status": "completed"
    },
    "tags": []
   },
   "outputs": [],
   "source": [
    "#hide\n",
    "everydaycases = dft_ct_new_cases.cumsum(axis=1)"
   ]
  },
  {
   "cell_type": "code",
   "execution_count": 20,
   "id": "parliamentary-calgary",
   "metadata": {
    "execution": {
     "iopub.execute_input": "2021-11-13T12:11:27.294568Z",
     "iopub.status.busy": "2021-11-13T12:11:27.293557Z",
     "iopub.status.idle": "2021-11-13T12:11:27.949291Z",
     "shell.execute_reply": "2021-11-13T12:11:27.948113Z"
    },
    "papermill": {
     "duration": 0.69619,
     "end_time": "2021-11-13T12:11:27.949436",
     "exception": false,
     "start_time": "2021-11-13T12:11:27.253246",
     "status": "completed"
    },
    "tags": []
   },
   "outputs": [],
   "source": [
    "#hide\n",
    "import pandas as pd\n",
    "import matplotlib.pyplot as plt\n",
    "import matplotlib.ticker as ticker\n",
    "import matplotlib.animation as animation\n",
    "from IPython.display import HTML"
   ]
  },
  {
   "cell_type": "code",
   "execution_count": 21,
   "id": "lasting-extraction",
   "metadata": {
    "execution": {
     "iopub.execute_input": "2021-11-13T12:11:28.022169Z",
     "iopub.status.busy": "2021-11-13T12:11:28.021552Z",
     "iopub.status.idle": "2021-11-13T12:11:28.028616Z",
     "shell.execute_reply": "2021-11-13T12:11:28.028131Z"
    },
    "papermill": {
     "duration": 0.046703,
     "end_time": "2021-11-13T12:11:28.028762",
     "exception": false,
     "start_time": "2021-11-13T12:11:27.982059",
     "status": "completed"
    },
    "tags": []
   },
   "outputs": [],
   "source": [
    "#hide\n",
    "t = everydaycases.stack()"
   ]
  },
  {
   "cell_type": "code",
   "execution_count": 22,
   "id": "premier-sleeve",
   "metadata": {
    "execution": {
     "iopub.execute_input": "2021-11-13T12:11:28.098922Z",
     "iopub.status.busy": "2021-11-13T12:11:28.098282Z",
     "iopub.status.idle": "2021-11-13T12:11:28.110250Z",
     "shell.execute_reply": "2021-11-13T12:11:28.109716Z"
    },
    "papermill": {
     "duration": 0.049353,
     "end_time": "2021-11-13T12:11:28.110384",
     "exception": false,
     "start_time": "2021-11-13T12:11:28.061031",
     "status": "completed"
    },
    "tags": []
   },
   "outputs": [],
   "source": [
    "#hide\n",
    "g = t.reset_index(['Country/Region'])"
   ]
  },
  {
   "cell_type": "code",
   "execution_count": 23,
   "id": "distributed-pittsburgh",
   "metadata": {
    "execution": {
     "iopub.execute_input": "2021-11-13T12:11:28.182620Z",
     "iopub.status.busy": "2021-11-13T12:11:28.181967Z",
     "iopub.status.idle": "2021-11-13T12:11:28.184426Z",
     "shell.execute_reply": "2021-11-13T12:11:28.183831Z"
    },
    "papermill": {
     "duration": 0.040259,
     "end_time": "2021-11-13T12:11:28.184553",
     "exception": false,
     "start_time": "2021-11-13T12:11:28.144294",
     "status": "completed"
    },
    "tags": []
   },
   "outputs": [],
   "source": [
    "#hide\n",
    "g.index.name = 'date'"
   ]
  },
  {
   "cell_type": "code",
   "execution_count": 24,
   "id": "naked-donor",
   "metadata": {
    "execution": {
     "iopub.execute_input": "2021-11-13T12:11:28.258083Z",
     "iopub.status.busy": "2021-11-13T12:11:28.257507Z",
     "iopub.status.idle": "2021-11-13T12:11:28.260037Z",
     "shell.execute_reply": "2021-11-13T12:11:28.260521Z"
    },
    "papermill": {
     "duration": 0.041735,
     "end_time": "2021-11-13T12:11:28.260671",
     "exception": false,
     "start_time": "2021-11-13T12:11:28.218936",
     "status": "completed"
    },
    "tags": []
   },
   "outputs": [],
   "source": [
    "# #hide\n",
    "# g = g.reset_index(['date'])"
   ]
  },
  {
   "cell_type": "code",
   "execution_count": 25,
   "id": "incomplete-mustang",
   "metadata": {
    "execution": {
     "iopub.execute_input": "2021-11-13T12:11:28.333239Z",
     "iopub.status.busy": "2021-11-13T12:11:28.332612Z",
     "iopub.status.idle": "2021-11-13T12:11:28.336447Z",
     "shell.execute_reply": "2021-11-13T12:11:28.335995Z"
    },
    "papermill": {
     "duration": 0.041637,
     "end_time": "2021-11-13T12:11:28.336589",
     "exception": false,
     "start_time": "2021-11-13T12:11:28.294952",
     "status": "completed"
    },
    "tags": []
   },
   "outputs": [],
   "source": [
    "#hide\n",
    "# g.head()"
   ]
  },
  {
   "cell_type": "code",
   "execution_count": 26,
   "id": "specific-kruger",
   "metadata": {
    "execution": {
     "iopub.execute_input": "2021-11-13T12:11:28.407854Z",
     "iopub.status.busy": "2021-11-13T12:11:28.406771Z",
     "iopub.status.idle": "2021-11-13T12:11:28.410536Z",
     "shell.execute_reply": "2021-11-13T12:11:28.410033Z"
    },
    "papermill": {
     "duration": 0.041362,
     "end_time": "2021-11-13T12:11:28.410678",
     "exception": false,
     "start_time": "2021-11-13T12:11:28.369316",
     "status": "completed"
    },
    "tags": []
   },
   "outputs": [],
   "source": [
    "#hide\n",
    "# g.columns = ['date','country','cases']"
   ]
  },
  {
   "cell_type": "code",
   "execution_count": 27,
   "id": "tender-conversion",
   "metadata": {
    "execution": {
     "iopub.execute_input": "2021-11-13T12:11:28.479225Z",
     "iopub.status.busy": "2021-11-13T12:11:28.478662Z",
     "iopub.status.idle": "2021-11-13T12:11:28.481012Z",
     "shell.execute_reply": "2021-11-13T12:11:28.480535Z"
    },
    "papermill": {
     "duration": 0.037739,
     "end_time": "2021-11-13T12:11:28.481130",
     "exception": false,
     "start_time": "2021-11-13T12:11:28.443391",
     "status": "completed"
    },
    "tags": []
   },
   "outputs": [],
   "source": [
    "#hide\n",
    "# g['continent'] = g.country"
   ]
  },
  {
   "cell_type": "code",
   "execution_count": 28,
   "id": "substantial-wilderness",
   "metadata": {
    "execution": {
     "iopub.execute_input": "2021-11-13T12:11:28.549090Z",
     "iopub.status.busy": "2021-11-13T12:11:28.548262Z",
     "iopub.status.idle": "2021-11-13T12:11:28.552118Z",
     "shell.execute_reply": "2021-11-13T12:11:28.552575Z"
    },
    "papermill": {
     "duration": 0.040091,
     "end_time": "2021-11-13T12:11:28.552712",
     "exception": false,
     "start_time": "2021-11-13T12:11:28.512621",
     "status": "completed"
    },
    "tags": []
   },
   "outputs": [],
   "source": [
    "#hide\n",
    "# cols = list(g.columns.values)"
   ]
  },
  {
   "cell_type": "code",
   "execution_count": 29,
   "id": "solved-farming",
   "metadata": {
    "execution": {
     "iopub.execute_input": "2021-11-13T12:11:28.622713Z",
     "iopub.status.busy": "2021-11-13T12:11:28.622076Z",
     "iopub.status.idle": "2021-11-13T12:11:28.624013Z",
     "shell.execute_reply": "2021-11-13T12:11:28.624467Z"
    },
    "papermill": {
     "duration": 0.039042,
     "end_time": "2021-11-13T12:11:28.624612",
     "exception": false,
     "start_time": "2021-11-13T12:11:28.585570",
     "status": "completed"
    },
    "tags": []
   },
   "outputs": [],
   "source": [
    "#hide\n",
    "# cols.insert(0, cols.pop())"
   ]
  },
  {
   "cell_type": "code",
   "execution_count": 30,
   "id": "executed-adoption",
   "metadata": {
    "execution": {
     "iopub.execute_input": "2021-11-13T12:11:28.695417Z",
     "iopub.status.busy": "2021-11-13T12:11:28.694637Z",
     "iopub.status.idle": "2021-11-13T12:11:28.698970Z",
     "shell.execute_reply": "2021-11-13T12:11:28.698182Z"
    },
    "papermill": {
     "duration": 0.041461,
     "end_time": "2021-11-13T12:11:28.699126",
     "exception": false,
     "start_time": "2021-11-13T12:11:28.657665",
     "status": "completed"
    },
    "tags": []
   },
   "outputs": [],
   "source": [
    "#hide\n",
    "# g = g[cols]"
   ]
  },
  {
   "cell_type": "code",
   "execution_count": 31,
   "id": "subject-dublin",
   "metadata": {
    "execution": {
     "iopub.execute_input": "2021-11-13T12:11:28.771639Z",
     "iopub.status.busy": "2021-11-13T12:11:28.770926Z",
     "iopub.status.idle": "2021-11-13T12:11:28.772620Z",
     "shell.execute_reply": "2021-11-13T12:11:28.772164Z"
    },
    "papermill": {
     "duration": 0.039338,
     "end_time": "2021-11-13T12:11:28.772736",
     "exception": false,
     "start_time": "2021-11-13T12:11:28.733398",
     "status": "completed"
    },
    "tags": []
   },
   "outputs": [],
   "source": [
    "#hide\n",
    "# g['continent'] = g['continent'].map(mapping['map.continent'])"
   ]
  },
  {
   "cell_type": "code",
   "execution_count": 32,
   "id": "freelance-scout",
   "metadata": {
    "execution": {
     "iopub.execute_input": "2021-11-13T12:11:28.843308Z",
     "iopub.status.busy": "2021-11-13T12:11:28.842802Z",
     "iopub.status.idle": "2021-11-13T12:11:28.845140Z",
     "shell.execute_reply": "2021-11-13T12:11:28.844658Z"
    },
    "papermill": {
     "duration": 0.039556,
     "end_time": "2021-11-13T12:11:28.845245",
     "exception": false,
     "start_time": "2021-11-13T12:11:28.805689",
     "status": "completed"
    },
    "tags": []
   },
   "outputs": [],
   "source": [
    "#hide\n",
    "# g.head()"
   ]
  },
  {
   "cell_type": "code",
   "execution_count": 33,
   "id": "limited-engine",
   "metadata": {
    "execution": {
     "iopub.execute_input": "2021-11-13T12:11:28.914904Z",
     "iopub.status.busy": "2021-11-13T12:11:28.914338Z",
     "iopub.status.idle": "2021-11-13T12:11:28.916312Z",
     "shell.execute_reply": "2021-11-13T12:11:28.916811Z"
    },
    "papermill": {
     "duration": 0.03888,
     "end_time": "2021-11-13T12:11:28.916951",
     "exception": false,
     "start_time": "2021-11-13T12:11:28.878071",
     "status": "completed"
    },
    "tags": []
   },
   "outputs": [],
   "source": [
    "# hide\n",
    "# g['date'] = g['date'].astype('datetime64[ns]')"
   ]
  },
  {
   "cell_type": "code",
   "execution_count": 34,
   "id": "sophisticated-supervisor",
   "metadata": {
    "execution": {
     "iopub.execute_input": "2021-11-13T12:11:28.987044Z",
     "iopub.status.busy": "2021-11-13T12:11:28.986429Z",
     "iopub.status.idle": "2021-11-13T12:11:28.988751Z",
     "shell.execute_reply": "2021-11-13T12:11:28.988269Z"
    },
    "papermill": {
     "duration": 0.039292,
     "end_time": "2021-11-13T12:11:28.988879",
     "exception": false,
     "start_time": "2021-11-13T12:11:28.949587",
     "status": "completed"
    },
    "tags": []
   },
   "outputs": [],
   "source": [
    "#hide\n",
    "# g['date'] = g.date.dt.dayofyear"
   ]
  },
  {
   "cell_type": "code",
   "execution_count": 35,
   "id": "inside-dubai",
   "metadata": {
    "execution": {
     "iopub.execute_input": "2021-11-13T12:11:29.060430Z",
     "iopub.status.busy": "2021-11-13T12:11:29.058121Z",
     "iopub.status.idle": "2021-11-13T12:11:29.063995Z",
     "shell.execute_reply": "2021-11-13T12:11:29.065572Z"
    },
    "papermill": {
     "duration": 0.043888,
     "end_time": "2021-11-13T12:11:29.065734",
     "exception": false,
     "start_time": "2021-11-13T12:11:29.021846",
     "status": "completed"
    },
    "tags": []
   },
   "outputs": [],
   "source": [
    "#hide\n",
    "# g = g.rename(columns= {'continent':'group','country':'name','cases':'value'})"
   ]
  },
  {
   "cell_type": "code",
   "execution_count": 36,
   "id": "fleet-motorcycle",
   "metadata": {
    "execution": {
     "iopub.execute_input": "2021-11-13T12:11:29.158407Z",
     "iopub.status.busy": "2021-11-13T12:11:29.157694Z",
     "iopub.status.idle": "2021-11-13T12:11:29.159479Z",
     "shell.execute_reply": "2021-11-13T12:11:29.158958Z"
    },
    "papermill": {
     "duration": 0.048349,
     "end_time": "2021-11-13T12:11:29.159608",
     "exception": false,
     "start_time": "2021-11-13T12:11:29.111259",
     "status": "completed"
    },
    "tags": []
   },
   "outputs": [],
   "source": [
    "#hide\n",
    "# cols = ['name','group','day','value']"
   ]
  },
  {
   "cell_type": "code",
   "execution_count": 37,
   "id": "continued-sleeping",
   "metadata": {
    "execution": {
     "iopub.execute_input": "2021-11-13T12:11:29.228166Z",
     "iopub.status.busy": "2021-11-13T12:11:29.227630Z",
     "iopub.status.idle": "2021-11-13T12:11:29.229805Z",
     "shell.execute_reply": "2021-11-13T12:11:29.229364Z"
    },
    "papermill": {
     "duration": 0.036813,
     "end_time": "2021-11-13T12:11:29.229920",
     "exception": false,
     "start_time": "2021-11-13T12:11:29.193107",
     "status": "completed"
    },
    "tags": []
   },
   "outputs": [],
   "source": [
    "#hide\n",
    "# g.rename(columns= {'date':'day'},inplace = True)"
   ]
  },
  {
   "cell_type": "code",
   "execution_count": 38,
   "id": "major-fight",
   "metadata": {
    "execution": {
     "iopub.execute_input": "2021-11-13T12:11:29.299130Z",
     "iopub.status.busy": "2021-11-13T12:11:29.298573Z",
     "iopub.status.idle": "2021-11-13T12:11:29.301885Z",
     "shell.execute_reply": "2021-11-13T12:11:29.302296Z"
    },
    "papermill": {
     "duration": 0.040437,
     "end_time": "2021-11-13T12:11:29.302414",
     "exception": false,
     "start_time": "2021-11-13T12:11:29.261977",
     "status": "completed"
    },
    "tags": []
   },
   "outputs": [],
   "source": [
    "#hide\n",
    "# g = g[cols]"
   ]
  },
  {
   "cell_type": "code",
   "execution_count": 39,
   "id": "structured-mobile",
   "metadata": {
    "execution": {
     "iopub.execute_input": "2021-11-13T12:11:29.374001Z",
     "iopub.status.busy": "2021-11-13T12:11:29.372931Z",
     "iopub.status.idle": "2021-11-13T12:11:29.375110Z",
     "shell.execute_reply": "2021-11-13T12:11:29.376007Z"
    },
    "papermill": {
     "duration": 0.041675,
     "end_time": "2021-11-13T12:11:29.376245",
     "exception": false,
     "start_time": "2021-11-13T12:11:29.334570",
     "status": "completed"
    },
    "tags": []
   },
   "outputs": [],
   "source": [
    "# #hide\n",
    "# g = g[g.group.notna()]"
   ]
  },
  {
   "cell_type": "code",
   "execution_count": 40,
   "id": "determined-closing",
   "metadata": {
    "execution": {
     "iopub.execute_input": "2021-11-13T12:11:29.447162Z",
     "iopub.status.busy": "2021-11-13T12:11:29.446602Z",
     "iopub.status.idle": "2021-11-13T12:11:29.449581Z",
     "shell.execute_reply": "2021-11-13T12:11:29.450148Z"
    },
    "papermill": {
     "duration": 0.039867,
     "end_time": "2021-11-13T12:11:29.450282",
     "exception": false,
     "start_time": "2021-11-13T12:11:29.410415",
     "status": "completed"
    },
    "tags": []
   },
   "outputs": [],
   "source": [
    "# #hide\n",
    "# colors = dict(zip(\n",
    "#     [\"Oceania\", \"Europe\", \"Asia\", \"South America\", \"Middle East\", \"North America\", \"Africa\"],\n",
    "#     [\"#adb0ff\", \"#ffb3ff\", \"#90d595\", \"#e48381\", \"#aafbff\", \"#f7bb5f\", \"#eafb50\"]\n",
    "# ))\n",
    "# group_lk = g.set_index('name')['group'].to_dict()"
   ]
  },
  {
   "cell_type": "code",
   "execution_count": null,
   "id": "gross-drinking",
   "metadata": {
    "papermill": {
     "duration": 0.032779,
     "end_time": "2021-11-13T12:11:29.515937",
     "exception": false,
     "start_time": "2021-11-13T12:11:29.483158",
     "status": "completed"
    },
    "tags": []
   },
   "outputs": [],
   "source": []
  },
  {
   "cell_type": "code",
   "execution_count": 41,
   "id": "subject-macintosh",
   "metadata": {
    "execution": {
     "iopub.execute_input": "2021-11-13T12:11:29.587023Z",
     "iopub.status.busy": "2021-11-13T12:11:29.586452Z",
     "iopub.status.idle": "2021-11-13T12:11:29.589819Z",
     "shell.execute_reply": "2021-11-13T12:11:29.590295Z"
    },
    "papermill": {
     "duration": 0.041931,
     "end_time": "2021-11-13T12:11:29.590425",
     "exception": false,
     "start_time": "2021-11-13T12:11:29.548494",
     "status": "completed"
    },
    "tags": []
   },
   "outputs": [],
   "source": [
    "# #hide\n",
    "# fig, ax = plt.subplots(figsize=(15, 8))\n",
    "\n",
    "# def draw_barchart(current_day):\n",
    "#     dff = g[g['day'].eq(current_day)].sort_values(by='value', ascending=True).tail(10)\n",
    "#     ax.clear()\n",
    "#     ax.barh(dff['name'], dff['value'], color=[colors[group_lk[x]] for x in dff['name']])\n",
    "#     dx = dff['value'].max() / 200\n",
    "    \n",
    "#     for i, (value, name) in enumerate(zip(dff['value'], dff['name'])):\n",
    "#         ax.text(value-dx, i,     name,           size=14, weight=600, ha='right', va='bottom')\n",
    "#         ax.text(value-dx, i-.25, group_lk[name], size=10, color='#444444', ha='right', va='baseline')\n",
    "#         ax.text(value+dx, i,     f'{value:,.0f}',  size=14, ha='left',  va='center')\n",
    "#     ax.text(1, 0.4, current_day, transform=ax.transAxes, color='#777777', size=46, ha='right', weight=800)\n",
    "#     ax.text(0, 1.06, 'Population (thousands)', transform=ax.transAxes, size=12, color='#777777')\n",
    "#     ax.xaxis.set_major_formatter(ticker.StrMethodFormatter('{x:,.0f}'))\n",
    "#     ax.xaxis.set_ticks_position('top')\n",
    "#     ax.tick_params(axis='x', colors='#777777', labelsize=12)\n",
    "#     ax.set_yticks([])\n",
    "#     ax.margins(0, 0.01)\n",
    "#     ax.grid(which='major', axis='x', linestyle='-')\n",
    "#     ax.set_axisbelow(True)\n",
    "    \n",
    "#     ax.text(0, 1.15, 'Coronavirus',\n",
    "#             transform=ax.transAxes, size=24, weight=600, ha='left', va='top')\n",
    "# #     ax.text(1, 0, 'by @pratapvardhan; credit @jburnmurdoch', transform=ax.transAxes, color='#777777', ha='right',\n",
    "# #             bbox=dict(facecolor='white', alpha=0.8, edgecolor='white'))\n",
    "#     plt.box(False)"
   ]
  },
  {
   "cell_type": "code",
   "execution_count": 42,
   "id": "sexual-wages",
   "metadata": {
    "execution": {
     "iopub.execute_input": "2021-11-13T12:11:29.656728Z",
     "iopub.status.busy": "2021-11-13T12:11:29.656130Z",
     "iopub.status.idle": "2021-11-13T12:11:29.658609Z",
     "shell.execute_reply": "2021-11-13T12:11:29.659067Z"
    },
    "papermill": {
     "duration": 0.038224,
     "end_time": "2021-11-13T12:11:29.659207",
     "exception": false,
     "start_time": "2021-11-13T12:11:29.620983",
     "status": "completed"
    },
    "tags": []
   },
   "outputs": [],
   "source": [
    "# #hide_input\n",
    "# fig, ax = plt.subplots(figsize=(15, 8))\n",
    "# animator = animation.FuncAnimation(fig, draw_barchart, frames=range(g.day.values.min(), g.day.values.max()))\n",
    "# HTML(animator.to_jshtml())\n",
    "# # or use animator.to_html5_video() or animator.save() "
   ]
  },
  {
   "cell_type": "code",
   "execution_count": null,
   "id": "australian-container",
   "metadata": {
    "papermill": {
     "duration": 0.032847,
     "end_time": "2021-11-13T12:11:29.725144",
     "exception": false,
     "start_time": "2021-11-13T12:11:29.692297",
     "status": "completed"
    },
    "tags": []
   },
   "outputs": [],
   "source": []
  },
  {
   "cell_type": "code",
   "execution_count": null,
   "id": "mediterranean-pontiac",
   "metadata": {
    "papermill": {
     "duration": 0.033718,
     "end_time": "2021-11-13T12:11:29.792520",
     "exception": false,
     "start_time": "2021-11-13T12:11:29.758802",
     "status": "completed"
    },
    "tags": []
   },
   "outputs": [],
   "source": []
  },
  {
   "cell_type": "code",
   "execution_count": null,
   "id": "aging-legislature",
   "metadata": {
    "papermill": {
     "duration": 0.0325,
     "end_time": "2021-11-13T12:11:29.858470",
     "exception": false,
     "start_time": "2021-11-13T12:11:29.825970",
     "status": "completed"
    },
    "tags": []
   },
   "outputs": [],
   "source": []
  }
 ],
 "metadata": {
  "kernelspec": {
   "display_name": "Python 3",
   "language": "python",
   "name": "python3"
  },
  "language_info": {
   "codemirror_mode": {
    "name": "ipython",
    "version": 3
   },
   "file_extension": ".py",
   "mimetype": "text/x-python",
   "name": "python",
   "nbconvert_exporter": "python",
   "pygments_lexer": "ipython3",
   "version": "3.6.15"
  },
  "papermill": {
   "duration": 6.340522,
   "end_time": "2021-11-13T12:11:30.200706",
   "environment_variables": {},
   "exception": null,
   "input_path": "2020-03-21-covid19exp.ipynb",
   "output_path": "2020-03-21-covid19exp.ipynb",
   "parameters": {},
   "start_time": "2021-11-13T12:11:23.860184",
   "version": "2.0.0"
  }
 },
 "nbformat": 4,
 "nbformat_minor": 5
}