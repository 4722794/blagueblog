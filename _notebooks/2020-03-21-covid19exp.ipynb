{
 "cells": [
  {
   "cell_type": "markdown",
   "id": "muslim-click",
   "metadata": {
    "papermill": {
     "duration": 0.03634,
     "end_time": "2022-06-17T00:37:54.045216",
     "exception": false,
     "start_time": "2022-06-17T00:37:54.008876",
     "status": "completed"
    },
    "tags": []
   },
   "source": [
    "# COVID-19 Case Race\n",
    "> A race chart to see rising cases around the world\n",
    "\n",
    "- author: Hargun Oberoi\n",
    "- image: images/covid-overview.png\n",
    "- hide: false\n",
    "- badges: false"
   ]
  },
  {
   "cell_type": "code",
   "execution_count": 1,
   "id": "proof-material",
   "metadata": {
    "execution": {
     "iopub.execute_input": "2022-06-17T00:37:54.127371Z",
     "iopub.status.busy": "2022-06-17T00:37:54.126631Z",
     "iopub.status.idle": "2022-06-17T00:37:54.504242Z",
     "shell.execute_reply": "2022-06-17T00:37:54.503666Z"
    },
    "papermill": {
     "duration": 0.422619,
     "end_time": "2022-06-17T00:37:54.504396",
     "exception": false,
     "start_time": "2022-06-17T00:37:54.081777",
     "status": "completed"
    },
    "tags": []
   },
   "outputs": [],
   "source": [
    "#hide\n",
    "import numpy as np\n",
    "import pandas as pd\n",
    "from jinja2 import Template\n",
    "from IPython.display import HTML"
   ]
  },
  {
   "cell_type": "code",
   "execution_count": 2,
   "id": "developed-terminology",
   "metadata": {
    "execution": {
     "iopub.execute_input": "2022-06-17T00:37:54.581302Z",
     "iopub.status.busy": "2022-06-17T00:37:54.580625Z",
     "iopub.status.idle": "2022-06-17T00:37:54.584561Z",
     "shell.execute_reply": "2022-06-17T00:37:54.585124Z"
    },
    "papermill": {
     "duration": 0.042651,
     "end_time": "2022-06-17T00:37:54.585286",
     "exception": false,
     "start_time": "2022-06-17T00:37:54.542635",
     "status": "completed"
    },
    "tags": []
   },
   "outputs": [],
   "source": [
    "#hide\n",
    "\n",
    "# FETCH\n",
    "base_url = 'https://raw.githubusercontent.com/pratapvardhan/notebooks/master/covid19/'\n",
    "paths = {\n",
    "    'mapping': base_url + 'mapping_countries.csv',\n",
    "    'overview': base_url + 'overview.tpl'\n",
    "}"
   ]
  },
  {
   "cell_type": "code",
   "execution_count": 3,
   "id": "dynamic-saver",
   "metadata": {
    "execution": {
     "iopub.execute_input": "2022-06-17T00:37:54.655053Z",
     "iopub.status.busy": "2022-06-17T00:37:54.654292Z",
     "iopub.status.idle": "2022-06-17T00:37:54.665889Z",
     "shell.execute_reply": "2022-06-17T00:37:54.666606Z"
    },
    "papermill": {
     "duration": 0.048233,
     "end_time": "2022-06-17T00:37:54.666843",
     "exception": false,
     "start_time": "2022-06-17T00:37:54.618610",
     "status": "completed"
    },
    "tags": []
   },
   "outputs": [
    {
     "data": {
      "text/plain": [
       "'https://raw.githubusercontent.com/pratapvardhan/notebooks/master/covid19/mapping_countries.csv'"
      ]
     },
     "execution_count": 3,
     "metadata": {},
     "output_type": "execute_result"
    }
   ],
   "source": [
    "#hide\n",
    "paths['mapping']"
   ]
  },
  {
   "cell_type": "code",
   "execution_count": 4,
   "id": "urban-software",
   "metadata": {
    "execution": {
     "iopub.execute_input": "2022-06-17T00:37:54.743119Z",
     "iopub.status.busy": "2022-06-17T00:37:54.742433Z",
     "iopub.status.idle": "2022-06-17T00:37:54.745333Z",
     "shell.execute_reply": "2022-06-17T00:37:54.744675Z"
    },
    "papermill": {
     "duration": 0.044078,
     "end_time": "2022-06-17T00:37:54.745449",
     "exception": false,
     "start_time": "2022-06-17T00:37:54.701371",
     "status": "completed"
    },
    "tags": []
   },
   "outputs": [],
   "source": [
    "#hide\n",
    "def get_mappings(url):\n",
    "    df = pd.read_csv(url)\n",
    "    return {\n",
    "        'df': df,\n",
    "        'replace.country': dict(df.dropna(subset=['Name']).set_index('Country')['Name']),\n",
    "        'map.continent': dict(df.set_index('Name')['Continent'])\n",
    "    }"
   ]
  },
  {
   "cell_type": "code",
   "execution_count": 5,
   "id": "intimate-machinery",
   "metadata": {
    "execution": {
     "iopub.execute_input": "2022-06-17T00:37:54.821953Z",
     "iopub.status.busy": "2022-06-17T00:37:54.821310Z",
     "iopub.status.idle": "2022-06-17T00:37:54.854062Z",
     "shell.execute_reply": "2022-06-17T00:37:54.853399Z"
    },
    "papermill": {
     "duration": 0.073286,
     "end_time": "2022-06-17T00:37:54.854212",
     "exception": false,
     "start_time": "2022-06-17T00:37:54.780926",
     "status": "completed"
    },
    "tags": []
   },
   "outputs": [],
   "source": [
    "#hide\n",
    "mapping = get_mappings(paths['mapping'])"
   ]
  },
  {
   "cell_type": "code",
   "execution_count": 6,
   "id": "certified-tactics",
   "metadata": {
    "execution": {
     "iopub.execute_input": "2022-06-17T00:37:54.932226Z",
     "iopub.status.busy": "2022-06-17T00:37:54.931231Z",
     "iopub.status.idle": "2022-06-17T00:37:54.934539Z",
     "shell.execute_reply": "2022-06-17T00:37:54.933964Z"
    },
    "papermill": {
     "duration": 0.045101,
     "end_time": "2022-06-17T00:37:54.934666",
     "exception": false,
     "start_time": "2022-06-17T00:37:54.889565",
     "status": "completed"
    },
    "tags": []
   },
   "outputs": [],
   "source": [
    "#hide\n",
    "def get_template(path):\n",
    "    from urllib.parse import urlparse\n",
    "    if bool(urlparse(path).netloc):\n",
    "        from urllib.request import urlopen\n",
    "        return urlopen(path).read().decode('utf8')\n",
    "    return open(path).read()"
   ]
  },
  {
   "cell_type": "code",
   "execution_count": 7,
   "id": "realistic-blast",
   "metadata": {
    "execution": {
     "iopub.execute_input": "2022-06-17T00:37:55.016486Z",
     "iopub.status.busy": "2022-06-17T00:37:55.015774Z",
     "iopub.status.idle": "2022-06-17T00:37:55.019180Z",
     "shell.execute_reply": "2022-06-17T00:37:55.018469Z"
    },
    "papermill": {
     "duration": 0.045705,
     "end_time": "2022-06-17T00:37:55.019306",
     "exception": false,
     "start_time": "2022-06-17T00:37:54.973601",
     "status": "completed"
    },
    "tags": []
   },
   "outputs": [],
   "source": [
    "#hide\n",
    "def get_frame(name):\n",
    "    url = (\n",
    "        'https://raw.githubusercontent.com/CSSEGISandData/COVID-19/master/csse_covid_19_data/'\n",
    "        f'csse_covid_19_time_series/time_series_covid19_{name}_global.csv')\n",
    "    df = pd.read_csv(url)\n",
    "    # rename countries\n",
    "    df['Country/Region'] = df['Country/Region'].replace(mapping['replace.country'])\n",
    "    return df"
   ]
  },
  {
   "cell_type": "code",
   "execution_count": 8,
   "id": "affiliated-characterization",
   "metadata": {
    "execution": {
     "iopub.execute_input": "2022-06-17T00:37:55.096260Z",
     "iopub.status.busy": "2022-06-17T00:37:55.095375Z",
     "iopub.status.idle": "2022-06-17T00:37:55.099426Z",
     "shell.execute_reply": "2022-06-17T00:37:55.099991Z"
    },
    "papermill": {
     "duration": 0.045507,
     "end_time": "2022-06-17T00:37:55.100134",
     "exception": false,
     "start_time": "2022-06-17T00:37:55.054627",
     "status": "completed"
    },
    "tags": []
   },
   "outputs": [],
   "source": [
    "#hide\n",
    "def get_dates(df):\n",
    "    dt_cols = df.columns[~df.columns.isin(['Province/State', 'Country/Region', 'Lat', 'Long'])]\n",
    "    LAST_DATE_I = -1\n",
    "    # sometimes last column may be empty, then go backwards\n",
    "    for i in range(-1, -len(dt_cols), -1):\n",
    "        if not df[dt_cols[i]].fillna(0).eq(0).all():\n",
    "            LAST_DATE_I = i\n",
    "            break\n",
    "    return LAST_DATE_I, dt_cols"
   ]
  },
  {
   "cell_type": "code",
   "execution_count": 9,
   "id": "recent-optimization",
   "metadata": {
    "execution": {
     "iopub.execute_input": "2022-06-17T00:37:55.177841Z",
     "iopub.status.busy": "2022-06-17T00:37:55.176911Z",
     "iopub.status.idle": "2022-06-17T00:37:55.604338Z",
     "shell.execute_reply": "2022-06-17T00:37:55.603723Z"
    },
    "papermill": {
     "duration": 0.468742,
     "end_time": "2022-06-17T00:37:55.604479",
     "exception": false,
     "start_time": "2022-06-17T00:37:55.135737",
     "status": "completed"
    },
    "tags": []
   },
   "outputs": [],
   "source": [
    "#hide\n",
    "COL_REGION = 'Country/Region'\n",
    "# Confirmed, Recovered, Deaths\n",
    "df = get_frame('confirmed')\n",
    "# dft_: timeseries, dfc_: today country agg\n",
    "dft_cases = df\n",
    "dft_deaths = get_frame('deaths')\n",
    "dft_recovered = get_frame('recovered')\n",
    "LAST_DATE_I, dt_cols = get_dates(df)"
   ]
  },
  {
   "cell_type": "code",
   "execution_count": 10,
   "id": "absolute-copper",
   "metadata": {
    "execution": {
     "iopub.execute_input": "2022-06-17T00:37:55.682389Z",
     "iopub.status.busy": "2022-06-17T00:37:55.681717Z",
     "iopub.status.idle": "2022-06-17T00:37:55.684897Z",
     "shell.execute_reply": "2022-06-17T00:37:55.684250Z"
    },
    "papermill": {
     "duration": 0.04457,
     "end_time": "2022-06-17T00:37:55.685017",
     "exception": false,
     "start_time": "2022-06-17T00:37:55.640447",
     "status": "completed"
    },
    "tags": []
   },
   "outputs": [],
   "source": [
    "#hide\n",
    "LAST_DATE_I, dt_cols = get_dates(df)\n",
    "dt_today =dt_cols[LAST_DATE_I]\n",
    "# dt_5day = dt_cols[LAST_DATE_I - 5]\n",
    "dt_yday = dt_cols[LAST_DATE_I - 1]"
   ]
  },
  {
   "cell_type": "code",
   "execution_count": 11,
   "id": "restricted-sheriff",
   "metadata": {
    "execution": {
     "iopub.execute_input": "2022-06-17T00:37:55.758833Z",
     "iopub.status.busy": "2022-06-17T00:37:55.758186Z",
     "iopub.status.idle": "2022-06-17T00:37:55.768137Z",
     "shell.execute_reply": "2022-06-17T00:37:55.767638Z"
    },
    "papermill": {
     "duration": 0.04889,
     "end_time": "2022-06-17T00:37:55.768246",
     "exception": false,
     "start_time": "2022-06-17T00:37:55.719356",
     "status": "completed"
    },
    "tags": []
   },
   "outputs": [],
   "source": [
    "#hide\n",
    "dfc_cases = dft_cases.groupby(COL_REGION)[dt_today].sum()\n",
    "dfc_deaths = dft_deaths.groupby(COL_REGION)[dt_today].sum()\n",
    "# dfp_cases = dft_cases.groupby(COL_REGION)[dt_5day].sum()\n",
    "# dfp_deaths = dft_deaths.groupby(COL_REGION)[dt_5day].sum()\n",
    "dfp_cases = dft_cases.groupby(COL_REGION)[dt_yday].sum()\n",
    "dfp_deaths = dft_deaths.groupby(COL_REGION)[dt_yday].sum()"
   ]
  },
  {
   "cell_type": "code",
   "execution_count": 12,
   "id": "deluxe-hepatitis",
   "metadata": {
    "execution": {
     "iopub.execute_input": "2022-06-17T00:37:55.841683Z",
     "iopub.status.busy": "2022-06-17T00:37:55.841034Z",
     "iopub.status.idle": "2022-06-17T00:37:55.846910Z",
     "shell.execute_reply": "2022-06-17T00:37:55.847391Z"
    },
    "papermill": {
     "duration": 0.046259,
     "end_time": "2022-06-17T00:37:55.847527",
     "exception": false,
     "start_time": "2022-06-17T00:37:55.801268",
     "status": "completed"
    },
    "tags": []
   },
   "outputs": [],
   "source": [
    "#hide\n",
    "df_table = (pd.DataFrame(dict(Cases = dfc_cases, Deaths = dfc_deaths, PCases = dfp_cases, PDeaths = dfp_deaths))\n",
    "            .sort_values(by = ['Cases','Deaths'], ascending = [False, False])\n",
    "            .reset_index())"
   ]
  },
  {
   "cell_type": "code",
   "execution_count": 13,
   "id": "educational-chancellor",
   "metadata": {
    "execution": {
     "iopub.execute_input": "2022-06-17T00:37:55.935149Z",
     "iopub.status.busy": "2022-06-17T00:37:55.934427Z",
     "iopub.status.idle": "2022-06-17T00:37:55.944963Z",
     "shell.execute_reply": "2022-06-17T00:37:55.945624Z"
    },
    "papermill": {
     "duration": 0.065104,
     "end_time": "2022-06-17T00:37:55.945780",
     "exception": false,
     "start_time": "2022-06-17T00:37:55.880676",
     "status": "completed"
    },
    "tags": []
   },
   "outputs": [
    {
     "data": {
      "text/html": [
       "<div>\n",
       "<style scoped>\n",
       "    .dataframe tbody tr th:only-of-type {\n",
       "        vertical-align: middle;\n",
       "    }\n",
       "\n",
       "    .dataframe tbody tr th {\n",
       "        vertical-align: top;\n",
       "    }\n",
       "\n",
       "    .dataframe thead th {\n",
       "        text-align: right;\n",
       "    }\n",
       "</style>\n",
       "<table border=\"1\" class=\"dataframe\">\n",
       "  <thead>\n",
       "    <tr style=\"text-align: right;\">\n",
       "      <th></th>\n",
       "      <th>Country/Region</th>\n",
       "      <th>Cases</th>\n",
       "      <th>Deaths</th>\n",
       "      <th>PCases</th>\n",
       "      <th>PDeaths</th>\n",
       "      <th>Cases (+)</th>\n",
       "      <th>Deaths (+)</th>\n",
       "      <th>Fatality Rate</th>\n",
       "      <th>Continent</th>\n",
       "    </tr>\n",
       "  </thead>\n",
       "  <tbody>\n",
       "    <tr>\n",
       "      <th>0</th>\n",
       "      <td>US</td>\n",
       "      <td>85941735</td>\n",
       "      <td>1012607</td>\n",
       "      <td>85758638</td>\n",
       "      <td>1011925</td>\n",
       "      <td>183097</td>\n",
       "      <td>682</td>\n",
       "      <td>1.18</td>\n",
       "      <td>North America</td>\n",
       "    </tr>\n",
       "    <tr>\n",
       "      <th>1</th>\n",
       "      <td>India</td>\n",
       "      <td>43257730</td>\n",
       "      <td>524803</td>\n",
       "      <td>43245517</td>\n",
       "      <td>524792</td>\n",
       "      <td>12213</td>\n",
       "      <td>11</td>\n",
       "      <td>1.21</td>\n",
       "      <td>Asia</td>\n",
       "    </tr>\n",
       "    <tr>\n",
       "      <th>2</th>\n",
       "      <td>Brazil</td>\n",
       "      <td>31611769</td>\n",
       "      <td>668693</td>\n",
       "      <td>31541479</td>\n",
       "      <td>668354</td>\n",
       "      <td>70290</td>\n",
       "      <td>339</td>\n",
       "      <td>2.12</td>\n",
       "      <td>South America</td>\n",
       "    </tr>\n",
       "    <tr>\n",
       "      <th>3</th>\n",
       "      <td>France</td>\n",
       "      <td>30175534</td>\n",
       "      <td>149986</td>\n",
       "      <td>30123426</td>\n",
       "      <td>149937</td>\n",
       "      <td>52108</td>\n",
       "      <td>49</td>\n",
       "      <td>0.50</td>\n",
       "      <td>Europe</td>\n",
       "    </tr>\n",
       "    <tr>\n",
       "      <th>4</th>\n",
       "      <td>Germany</td>\n",
       "      <td>27096571</td>\n",
       "      <td>140099</td>\n",
       "      <td>27007429</td>\n",
       "      <td>140026</td>\n",
       "      <td>89142</td>\n",
       "      <td>73</td>\n",
       "      <td>0.52</td>\n",
       "      <td>Europe</td>\n",
       "    </tr>\n",
       "  </tbody>\n",
       "</table>\n",
       "</div>"
      ],
      "text/plain": [
       "  Country/Region     Cases   Deaths    PCases  PDeaths  Cases (+)  Deaths (+)  \\\n",
       "0             US  85941735  1012607  85758638  1011925     183097         682   \n",
       "1          India  43257730   524803  43245517   524792      12213          11   \n",
       "2         Brazil  31611769   668693  31541479   668354      70290         339   \n",
       "3         France  30175534   149986  30123426   149937      52108          49   \n",
       "4        Germany  27096571   140099  27007429   140026      89142          73   \n",
       "\n",
       "   Fatality Rate      Continent  \n",
       "0           1.18  North America  \n",
       "1           1.21           Asia  \n",
       "2           2.12  South America  \n",
       "3           0.50         Europe  \n",
       "4           0.52         Europe  "
      ]
     },
     "execution_count": 13,
     "metadata": {},
     "output_type": "execute_result"
    }
   ],
   "source": [
    "#hide\n",
    "for c in 'Cases, Deaths'.split(', '):\n",
    "    df_table[f'{c} (+)'] = (df_table[c] - df_table[f'P{c}']).clip(0)\n",
    "    #Clip ça veut dire, les chiffres negatif sont interdit\n",
    "df_table['Fatality Rate'] = (100* df_table['Deaths']/ df_table['Cases']).round(2)\n",
    "df_table['Continent'] = df_table['Country/Region'].map(mapping['map.continent'])\n",
    "df_table.head(5)"
   ]
  },
  {
   "cell_type": "code",
   "execution_count": 14,
   "id": "aboriginal-bulgaria",
   "metadata": {
    "execution": {
     "iopub.execute_input": "2022-06-17T00:37:56.029800Z",
     "iopub.status.busy": "2022-06-17T00:37:56.029044Z",
     "iopub.status.idle": "2022-06-17T00:37:56.031940Z",
     "shell.execute_reply": "2022-06-17T00:37:56.032594Z"
    },
    "papermill": {
     "duration": 0.048415,
     "end_time": "2022-06-17T00:37:56.032767",
     "exception": false,
     "start_time": "2022-06-17T00:37:55.984352",
     "status": "completed"
    },
    "tags": []
   },
   "outputs": [],
   "source": [
    "#hide\n",
    "#delete problematic countries from table\n",
    "df_table = df_table[~df_table['Country/Region'].isin(['Cape Verde', 'Cruise Ship', 'Kosovo'])]"
   ]
  },
  {
   "cell_type": "code",
   "execution_count": 15,
   "id": "fantastic-effect",
   "metadata": {
    "execution": {
     "iopub.execute_input": "2022-06-17T00:37:56.121407Z",
     "iopub.status.busy": "2022-06-17T00:37:56.120708Z",
     "iopub.status.idle": "2022-06-17T00:37:56.142553Z",
     "shell.execute_reply": "2022-06-17T00:37:56.143126Z"
    },
    "papermill": {
     "duration": 0.072427,
     "end_time": "2022-06-17T00:37:56.143276",
     "exception": false,
     "start_time": "2022-06-17T00:37:56.070849",
     "status": "completed"
    },
    "tags": []
   },
   "outputs": [
    {
     "data": {
      "text/html": [
       "<div>\n",
       "<style scoped>\n",
       "    .dataframe tbody tr th:only-of-type {\n",
       "        vertical-align: middle;\n",
       "    }\n",
       "\n",
       "    .dataframe tbody tr th {\n",
       "        vertical-align: top;\n",
       "    }\n",
       "\n",
       "    .dataframe thead th {\n",
       "        text-align: right;\n",
       "    }\n",
       "</style>\n",
       "<table border=\"1\" class=\"dataframe\">\n",
       "  <thead>\n",
       "    <tr style=\"text-align: right;\">\n",
       "      <th></th>\n",
       "      <th>Country/Region</th>\n",
       "      <th>Cases</th>\n",
       "      <th>Deaths</th>\n",
       "      <th>PCases</th>\n",
       "      <th>PDeaths</th>\n",
       "      <th>Cases (+)</th>\n",
       "      <th>Deaths (+)</th>\n",
       "      <th>Fatality Rate</th>\n",
       "      <th>Continent</th>\n",
       "    </tr>\n",
       "  </thead>\n",
       "  <tbody>\n",
       "    <tr>\n",
       "      <th>0</th>\n",
       "      <td>US</td>\n",
       "      <td>85941735</td>\n",
       "      <td>1012607</td>\n",
       "      <td>85758638</td>\n",
       "      <td>1011925</td>\n",
       "      <td>183097</td>\n",
       "      <td>682</td>\n",
       "      <td>1.2</td>\n",
       "      <td>North America</td>\n",
       "    </tr>\n",
       "    <tr>\n",
       "      <th>1</th>\n",
       "      <td>India</td>\n",
       "      <td>43257730</td>\n",
       "      <td>524803</td>\n",
       "      <td>43245517</td>\n",
       "      <td>524792</td>\n",
       "      <td>12213</td>\n",
       "      <td>11</td>\n",
       "      <td>1.2</td>\n",
       "      <td>Asia</td>\n",
       "    </tr>\n",
       "    <tr>\n",
       "      <th>2</th>\n",
       "      <td>Brazil</td>\n",
       "      <td>31611769</td>\n",
       "      <td>668693</td>\n",
       "      <td>31541479</td>\n",
       "      <td>668354</td>\n",
       "      <td>70290</td>\n",
       "      <td>339</td>\n",
       "      <td>2.1</td>\n",
       "      <td>South America</td>\n",
       "    </tr>\n",
       "    <tr>\n",
       "      <th>3</th>\n",
       "      <td>France</td>\n",
       "      <td>30175534</td>\n",
       "      <td>149986</td>\n",
       "      <td>30123426</td>\n",
       "      <td>149937</td>\n",
       "      <td>52108</td>\n",
       "      <td>49</td>\n",
       "      <td>0.5</td>\n",
       "      <td>Europe</td>\n",
       "    </tr>\n",
       "    <tr>\n",
       "      <th>4</th>\n",
       "      <td>Germany</td>\n",
       "      <td>27096571</td>\n",
       "      <td>140099</td>\n",
       "      <td>27007429</td>\n",
       "      <td>140026</td>\n",
       "      <td>89142</td>\n",
       "      <td>73</td>\n",
       "      <td>0.5</td>\n",
       "      <td>Europe</td>\n",
       "    </tr>\n",
       "  </tbody>\n",
       "</table>\n",
       "</div>"
      ],
      "text/plain": [
       "  Country/Region     Cases   Deaths    PCases  PDeaths  Cases (+)  Deaths (+)  \\\n",
       "0             US  85941735  1012607  85758638  1011925     183097         682   \n",
       "1          India  43257730   524803  43245517   524792      12213          11   \n",
       "2         Brazil  31611769   668693  31541479   668354      70290         339   \n",
       "3         France  30175534   149986  30123426   149937      52108          49   \n",
       "4        Germany  27096571   140099  27007429   140026      89142          73   \n",
       "\n",
       "   Fatality Rate      Continent  \n",
       "0            1.2  North America  \n",
       "1            1.2           Asia  \n",
       "2            2.1  South America  \n",
       "3            0.5         Europe  \n",
       "4            0.5         Europe  "
      ]
     },
     "execution_count": 15,
     "metadata": {},
     "output_type": "execute_result"
    }
   ],
   "source": [
    "#hide\n",
    "df_table = (pd.DataFrame(dict(Cases=dfc_cases, Deaths=dfc_deaths, PCases=dfp_cases, PDeaths=dfp_deaths))\n",
    "             .sort_values(by=['Cases', 'Deaths'], ascending=[False, False])\n",
    "             .reset_index())\n",
    "df_table.rename(columns={'index': 'Country/Region'}, inplace=True)\n",
    "for c in 'Cases, Deaths'.split(', '):\n",
    "    df_table[f'{c} (+)'] = (df_table[c] - df_table[f'P{c}']).clip(0)  # DATA BUG\n",
    "df_table['Fatality Rate'] = (100 * df_table['Deaths'] / df_table['Cases']).round(1)\n",
    "df_table['Continent'] = df_table['Country/Region'].map(mapping['map.continent'])\n",
    "df_table.head(5)"
   ]
  },
  {
   "cell_type": "code",
   "execution_count": 16,
   "id": "fewer-occasion",
   "metadata": {
    "execution": {
     "iopub.execute_input": "2022-06-17T00:37:56.226184Z",
     "iopub.status.busy": "2022-06-17T00:37:56.225466Z",
     "iopub.status.idle": "2022-06-17T00:37:56.228345Z",
     "shell.execute_reply": "2022-06-17T00:37:56.227834Z"
    },
    "papermill": {
     "duration": 0.045432,
     "end_time": "2022-06-17T00:37:56.228469",
     "exception": false,
     "start_time": "2022-06-17T00:37:56.183037",
     "status": "completed"
    },
    "tags": []
   },
   "outputs": [],
   "source": [
    "#hide\n",
    "#delete problematic countries from table\n",
    "df_table = df_table[~df_table['Country/Region'].isin(['Cape Verde', 'Cruise Ship', 'Kosovo'])]"
   ]
  },
  {
   "cell_type": "code",
   "execution_count": 17,
   "id": "related-center",
   "metadata": {
    "execution": {
     "iopub.execute_input": "2022-06-17T00:37:56.322297Z",
     "iopub.status.busy": "2022-06-17T00:37:56.321620Z",
     "iopub.status.idle": "2022-06-17T00:37:56.324610Z",
     "shell.execute_reply": "2022-06-17T00:37:56.324066Z"
    },
    "papermill": {
     "duration": 0.060461,
     "end_time": "2022-06-17T00:37:56.324730",
     "exception": false,
     "start_time": "2022-06-17T00:37:56.264269",
     "status": "completed"
    },
    "tags": []
   },
   "outputs": [],
   "source": [
    "#hide\n",
    "metrics = [df_table.columns[index] for index in [1,2,5,6]]\n",
    "# s_china = df_table[df_table['Country/Region'].eq('China')][metrics].sum().add_prefix('China ')\n",
    "s_us = df_table[df_table['Country/Region'].eq('US')][metrics].sum().add_prefix('US ')\n",
    "s_eu = df_table[df_table['Continent'].eq('Europe')][metrics].sum().add_prefix('EU ')\n",
    "s_ind = df_table[df_table['Country/Region'].eq('India')][metrics].sum().add_prefix('India ')\n",
    "summary = {'updated': pd.to_datetime(dt_today), 'since': pd.to_datetime(dt_yday)}\n",
    "summary = {'updated': pd.to_datetime(dt_today), 'since': pd.to_datetime(dt_yday)}\n",
    "summary = {**summary, **df_table[metrics].sum(), **s_ind, **s_us, **s_eu}"
   ]
  },
  {
   "cell_type": "code",
   "execution_count": 18,
   "id": "engaging-syndrome",
   "metadata": {
    "execution": {
     "iopub.execute_input": "2022-06-17T00:37:56.401449Z",
     "iopub.status.busy": "2022-06-17T00:37:56.400759Z",
     "iopub.status.idle": "2022-06-17T00:37:56.420494Z",
     "shell.execute_reply": "2022-06-17T00:37:56.419933Z"
    },
    "papermill": {
     "duration": 0.06077,
     "end_time": "2022-06-17T00:37:56.420652",
     "exception": false,
     "start_time": "2022-06-17T00:37:56.359882",
     "status": "completed"
    },
    "tags": []
   },
   "outputs": [],
   "source": [
    "#hide\n",
    "dft_ct_new_cases = dft_cases.groupby(COL_REGION)[dt_cols].sum().diff(axis=1).fillna(0).astype(int)"
   ]
  },
  {
   "cell_type": "code",
   "execution_count": 19,
   "id": "neutral-assignment",
   "metadata": {
    "execution": {
     "iopub.execute_input": "2022-06-17T00:37:56.500870Z",
     "iopub.status.busy": "2022-06-17T00:37:56.500165Z",
     "iopub.status.idle": "2022-06-17T00:37:56.503836Z",
     "shell.execute_reply": "2022-06-17T00:37:56.503309Z"
    },
    "papermill": {
     "duration": 0.046977,
     "end_time": "2022-06-17T00:37:56.503952",
     "exception": false,
     "start_time": "2022-06-17T00:37:56.456975",
     "status": "completed"
    },
    "tags": []
   },
   "outputs": [],
   "source": [
    "#hide\n",
    "everydaycases = dft_ct_new_cases.cumsum(axis=1)"
   ]
  },
  {
   "cell_type": "code",
   "execution_count": 20,
   "id": "parliamentary-calgary",
   "metadata": {
    "execution": {
     "iopub.execute_input": "2022-06-17T00:37:56.582554Z",
     "iopub.status.busy": "2022-06-17T00:37:56.581861Z",
     "iopub.status.idle": "2022-06-17T00:37:57.181285Z",
     "shell.execute_reply": "2022-06-17T00:37:57.180699Z"
    },
    "papermill": {
     "duration": 0.640566,
     "end_time": "2022-06-17T00:37:57.181413",
     "exception": false,
     "start_time": "2022-06-17T00:37:56.540847",
     "status": "completed"
    },
    "tags": []
   },
   "outputs": [],
   "source": [
    "#hide\n",
    "import pandas as pd\n",
    "import matplotlib.pyplot as plt\n",
    "import matplotlib.ticker as ticker\n",
    "import matplotlib.animation as animation\n",
    "from IPython.display import HTML"
   ]
  },
  {
   "cell_type": "code",
   "execution_count": 21,
   "id": "lasting-extraction",
   "metadata": {
    "execution": {
     "iopub.execute_input": "2022-06-17T00:37:57.258327Z",
     "iopub.status.busy": "2022-06-17T00:37:57.257642Z",
     "iopub.status.idle": "2022-06-17T00:37:57.266983Z",
     "shell.execute_reply": "2022-06-17T00:37:57.266292Z"
    },
    "papermill": {
     "duration": 0.051075,
     "end_time": "2022-06-17T00:37:57.267189",
     "exception": false,
     "start_time": "2022-06-17T00:37:57.216114",
     "status": "completed"
    },
    "tags": []
   },
   "outputs": [],
   "source": [
    "#hide\n",
    "t = everydaycases.stack()"
   ]
  },
  {
   "cell_type": "code",
   "execution_count": 22,
   "id": "premier-sleeve",
   "metadata": {
    "execution": {
     "iopub.execute_input": "2022-06-17T00:37:57.342838Z",
     "iopub.status.busy": "2022-06-17T00:37:57.341854Z",
     "iopub.status.idle": "2022-06-17T00:37:57.354833Z",
     "shell.execute_reply": "2022-06-17T00:37:57.354303Z"
    },
    "papermill": {
     "duration": 0.051943,
     "end_time": "2022-06-17T00:37:57.354958",
     "exception": false,
     "start_time": "2022-06-17T00:37:57.303015",
     "status": "completed"
    },
    "tags": []
   },
   "outputs": [],
   "source": [
    "#hide\n",
    "g = t.reset_index(['Country/Region'])"
   ]
  },
  {
   "cell_type": "code",
   "execution_count": 23,
   "id": "distributed-pittsburgh",
   "metadata": {
    "execution": {
     "iopub.execute_input": "2022-06-17T00:37:57.433080Z",
     "iopub.status.busy": "2022-06-17T00:37:57.432379Z",
     "iopub.status.idle": "2022-06-17T00:37:57.435321Z",
     "shell.execute_reply": "2022-06-17T00:37:57.434680Z"
    },
    "papermill": {
     "duration": 0.045026,
     "end_time": "2022-06-17T00:37:57.435438",
     "exception": false,
     "start_time": "2022-06-17T00:37:57.390412",
     "status": "completed"
    },
    "tags": []
   },
   "outputs": [],
   "source": [
    "#hide\n",
    "g.index.name = 'date'"
   ]
  },
  {
   "cell_type": "code",
   "execution_count": 24,
   "id": "naked-donor",
   "metadata": {
    "execution": {
     "iopub.execute_input": "2022-06-17T00:37:57.510525Z",
     "iopub.status.busy": "2022-06-17T00:37:57.509822Z",
     "iopub.status.idle": "2022-06-17T00:37:57.512972Z",
     "shell.execute_reply": "2022-06-17T00:37:57.512309Z"
    },
    "papermill": {
     "duration": 0.04186,
     "end_time": "2022-06-17T00:37:57.513093",
     "exception": false,
     "start_time": "2022-06-17T00:37:57.471233",
     "status": "completed"
    },
    "tags": []
   },
   "outputs": [],
   "source": [
    "# #hide\n",
    "# g = g.reset_index(['date'])"
   ]
  },
  {
   "cell_type": "code",
   "execution_count": 25,
   "id": "incomplete-mustang",
   "metadata": {
    "execution": {
     "iopub.execute_input": "2022-06-17T00:37:57.591986Z",
     "iopub.status.busy": "2022-06-17T00:37:57.591186Z",
     "iopub.status.idle": "2022-06-17T00:37:57.593683Z",
     "shell.execute_reply": "2022-06-17T00:37:57.594192Z"
    },
    "papermill": {
     "duration": 0.043355,
     "end_time": "2022-06-17T00:37:57.594334",
     "exception": false,
     "start_time": "2022-06-17T00:37:57.550979",
     "status": "completed"
    },
    "tags": []
   },
   "outputs": [],
   "source": [
    "#hide\n",
    "# g.head()"
   ]
  },
  {
   "cell_type": "code",
   "execution_count": 26,
   "id": "specific-kruger",
   "metadata": {
    "execution": {
     "iopub.execute_input": "2022-06-17T00:37:57.677161Z",
     "iopub.status.busy": "2022-06-17T00:37:57.676522Z",
     "iopub.status.idle": "2022-06-17T00:37:57.679889Z",
     "shell.execute_reply": "2022-06-17T00:37:57.679209Z"
    },
    "papermill": {
     "duration": 0.045627,
     "end_time": "2022-06-17T00:37:57.680021",
     "exception": false,
     "start_time": "2022-06-17T00:37:57.634394",
     "status": "completed"
    },
    "tags": []
   },
   "outputs": [],
   "source": [
    "#hide\n",
    "# g.columns = ['date','country','cases']"
   ]
  },
  {
   "cell_type": "code",
   "execution_count": 27,
   "id": "tender-conversion",
   "metadata": {
    "execution": {
     "iopub.execute_input": "2022-06-17T00:37:57.758383Z",
     "iopub.status.busy": "2022-06-17T00:37:57.757714Z",
     "iopub.status.idle": "2022-06-17T00:37:57.760083Z",
     "shell.execute_reply": "2022-06-17T00:37:57.760558Z"
    },
    "papermill": {
     "duration": 0.043566,
     "end_time": "2022-06-17T00:37:57.760694",
     "exception": false,
     "start_time": "2022-06-17T00:37:57.717128",
     "status": "completed"
    },
    "tags": []
   },
   "outputs": [],
   "source": [
    "#hide\n",
    "# g['continent'] = g.country"
   ]
  },
  {
   "cell_type": "code",
   "execution_count": 28,
   "id": "substantial-wilderness",
   "metadata": {
    "execution": {
     "iopub.execute_input": "2022-06-17T00:37:57.839295Z",
     "iopub.status.busy": "2022-06-17T00:37:57.838532Z",
     "iopub.status.idle": "2022-06-17T00:37:57.841575Z",
     "shell.execute_reply": "2022-06-17T00:37:57.840978Z"
    },
    "papermill": {
     "duration": 0.045203,
     "end_time": "2022-06-17T00:37:57.841708",
     "exception": false,
     "start_time": "2022-06-17T00:37:57.796505",
     "status": "completed"
    },
    "tags": []
   },
   "outputs": [],
   "source": [
    "#hide\n",
    "# cols = list(g.columns.values)"
   ]
  },
  {
   "cell_type": "code",
   "execution_count": 29,
   "id": "solved-farming",
   "metadata": {
    "execution": {
     "iopub.execute_input": "2022-06-17T00:37:57.922382Z",
     "iopub.status.busy": "2022-06-17T00:37:57.921683Z",
     "iopub.status.idle": "2022-06-17T00:37:57.925962Z",
     "shell.execute_reply": "2022-06-17T00:37:57.926508Z"
    },
    "papermill": {
     "duration": 0.047132,
     "end_time": "2022-06-17T00:37:57.926651",
     "exception": false,
     "start_time": "2022-06-17T00:37:57.879519",
     "status": "completed"
    },
    "tags": []
   },
   "outputs": [],
   "source": [
    "#hide\n",
    "# cols.insert(0, cols.pop())"
   ]
  },
  {
   "cell_type": "code",
   "execution_count": 30,
   "id": "executed-adoption",
   "metadata": {
    "execution": {
     "iopub.execute_input": "2022-06-17T00:37:58.008476Z",
     "iopub.status.busy": "2022-06-17T00:37:58.007714Z",
     "iopub.status.idle": "2022-06-17T00:37:58.010612Z",
     "shell.execute_reply": "2022-06-17T00:37:58.011220Z"
    },
    "papermill": {
     "duration": 0.045164,
     "end_time": "2022-06-17T00:37:58.011400",
     "exception": false,
     "start_time": "2022-06-17T00:37:57.966236",
     "status": "completed"
    },
    "tags": []
   },
   "outputs": [],
   "source": [
    "#hide\n",
    "# g = g[cols]"
   ]
  },
  {
   "cell_type": "code",
   "execution_count": 31,
   "id": "subject-dublin",
   "metadata": {
    "execution": {
     "iopub.execute_input": "2022-06-17T00:37:58.094084Z",
     "iopub.status.busy": "2022-06-17T00:37:58.093431Z",
     "iopub.status.idle": "2022-06-17T00:37:58.096033Z",
     "shell.execute_reply": "2022-06-17T00:37:58.096564Z"
    },
    "papermill": {
     "duration": 0.047058,
     "end_time": "2022-06-17T00:37:58.096710",
     "exception": false,
     "start_time": "2022-06-17T00:37:58.049652",
     "status": "completed"
    },
    "tags": []
   },
   "outputs": [],
   "source": [
    "#hide\n",
    "# g['continent'] = g['continent'].map(mapping['map.continent'])"
   ]
  },
  {
   "cell_type": "code",
   "execution_count": 32,
   "id": "freelance-scout",
   "metadata": {
    "execution": {
     "iopub.execute_input": "2022-06-17T00:37:58.170297Z",
     "iopub.status.busy": "2022-06-17T00:37:58.169660Z",
     "iopub.status.idle": "2022-06-17T00:37:58.173381Z",
     "shell.execute_reply": "2022-06-17T00:37:58.172718Z"
    },
    "papermill": {
     "duration": 0.042295,
     "end_time": "2022-06-17T00:37:58.173495",
     "exception": false,
     "start_time": "2022-06-17T00:37:58.131200",
     "status": "completed"
    },
    "tags": []
   },
   "outputs": [],
   "source": [
    "#hide\n",
    "# g.head()"
   ]
  },
  {
   "cell_type": "code",
   "execution_count": 33,
   "id": "limited-engine",
   "metadata": {
    "execution": {
     "iopub.execute_input": "2022-06-17T00:37:58.248737Z",
     "iopub.status.busy": "2022-06-17T00:37:58.248066Z",
     "iopub.status.idle": "2022-06-17T00:37:58.250735Z",
     "shell.execute_reply": "2022-06-17T00:37:58.250087Z"
    },
    "papermill": {
     "duration": 0.042484,
     "end_time": "2022-06-17T00:37:58.250901",
     "exception": false,
     "start_time": "2022-06-17T00:37:58.208417",
     "status": "completed"
    },
    "tags": []
   },
   "outputs": [],
   "source": [
    "# hide\n",
    "# g['date'] = g['date'].astype('datetime64[ns]')"
   ]
  },
  {
   "cell_type": "code",
   "execution_count": 34,
   "id": "sophisticated-supervisor",
   "metadata": {
    "execution": {
     "iopub.execute_input": "2022-06-17T00:37:58.326382Z",
     "iopub.status.busy": "2022-06-17T00:37:58.325748Z",
     "iopub.status.idle": "2022-06-17T00:37:58.328584Z",
     "shell.execute_reply": "2022-06-17T00:37:58.327973Z"
    },
    "papermill": {
     "duration": 0.041839,
     "end_time": "2022-06-17T00:37:58.328700",
     "exception": false,
     "start_time": "2022-06-17T00:37:58.286861",
     "status": "completed"
    },
    "tags": []
   },
   "outputs": [],
   "source": [
    "#hide\n",
    "# g['date'] = g.date.dt.dayofyear"
   ]
  },
  {
   "cell_type": "code",
   "execution_count": 35,
   "id": "inside-dubai",
   "metadata": {
    "execution": {
     "iopub.execute_input": "2022-06-17T00:37:58.407372Z",
     "iopub.status.busy": "2022-06-17T00:37:58.406591Z",
     "iopub.status.idle": "2022-06-17T00:37:58.410511Z",
     "shell.execute_reply": "2022-06-17T00:37:58.409903Z"
    },
    "papermill": {
     "duration": 0.045041,
     "end_time": "2022-06-17T00:37:58.410631",
     "exception": false,
     "start_time": "2022-06-17T00:37:58.365590",
     "status": "completed"
    },
    "tags": []
   },
   "outputs": [],
   "source": [
    "#hide\n",
    "# g = g.rename(columns= {'continent':'group','country':'name','cases':'value'})"
   ]
  },
  {
   "cell_type": "code",
   "execution_count": 36,
   "id": "fleet-motorcycle",
   "metadata": {
    "execution": {
     "iopub.execute_input": "2022-06-17T00:37:58.489007Z",
     "iopub.status.busy": "2022-06-17T00:37:58.488312Z",
     "iopub.status.idle": "2022-06-17T00:37:58.491255Z",
     "shell.execute_reply": "2022-06-17T00:37:58.491882Z"
    },
    "papermill": {
     "duration": 0.04521,
     "end_time": "2022-06-17T00:37:58.492011",
     "exception": false,
     "start_time": "2022-06-17T00:37:58.446801",
     "status": "completed"
    },
    "tags": []
   },
   "outputs": [],
   "source": [
    "#hide\n",
    "# cols = ['name','group','day','value']"
   ]
  },
  {
   "cell_type": "code",
   "execution_count": 37,
   "id": "continued-sleeping",
   "metadata": {
    "execution": {
     "iopub.execute_input": "2022-06-17T00:37:58.572183Z",
     "iopub.status.busy": "2022-06-17T00:37:58.571464Z",
     "iopub.status.idle": "2022-06-17T00:37:58.574684Z",
     "shell.execute_reply": "2022-06-17T00:37:58.574129Z"
    },
    "papermill": {
     "duration": 0.045968,
     "end_time": "2022-06-17T00:37:58.574839",
     "exception": false,
     "start_time": "2022-06-17T00:37:58.528871",
     "status": "completed"
    },
    "tags": []
   },
   "outputs": [],
   "source": [
    "#hide\n",
    "# g.rename(columns= {'date':'day'},inplace = True)"
   ]
  },
  {
   "cell_type": "code",
   "execution_count": 38,
   "id": "major-fight",
   "metadata": {
    "execution": {
     "iopub.execute_input": "2022-06-17T00:37:58.653987Z",
     "iopub.status.busy": "2022-06-17T00:37:58.653296Z",
     "iopub.status.idle": "2022-06-17T00:37:58.656508Z",
     "shell.execute_reply": "2022-06-17T00:37:58.655927Z"
    },
    "papermill": {
     "duration": 0.045219,
     "end_time": "2022-06-17T00:37:58.656629",
     "exception": false,
     "start_time": "2022-06-17T00:37:58.611410",
     "status": "completed"
    },
    "tags": []
   },
   "outputs": [],
   "source": [
    "#hide\n",
    "# g = g[cols]"
   ]
  },
  {
   "cell_type": "code",
   "execution_count": 39,
   "id": "structured-mobile",
   "metadata": {
    "execution": {
     "iopub.execute_input": "2022-06-17T00:37:58.732906Z",
     "iopub.status.busy": "2022-06-17T00:37:58.732223Z",
     "iopub.status.idle": "2022-06-17T00:37:58.735010Z",
     "shell.execute_reply": "2022-06-17T00:37:58.734308Z"
    },
    "papermill": {
     "duration": 0.042515,
     "end_time": "2022-06-17T00:37:58.735136",
     "exception": false,
     "start_time": "2022-06-17T00:37:58.692621",
     "status": "completed"
    },
    "tags": []
   },
   "outputs": [],
   "source": [
    "# #hide\n",
    "# g = g[g.group.notna()]"
   ]
  },
  {
   "cell_type": "code",
   "execution_count": 40,
   "id": "determined-closing",
   "metadata": {
    "execution": {
     "iopub.execute_input": "2022-06-17T00:37:58.815372Z",
     "iopub.status.busy": "2022-06-17T00:37:58.814602Z",
     "iopub.status.idle": "2022-06-17T00:37:58.817694Z",
     "shell.execute_reply": "2022-06-17T00:37:58.817102Z"
    },
    "papermill": {
     "duration": 0.045488,
     "end_time": "2022-06-17T00:37:58.817832",
     "exception": false,
     "start_time": "2022-06-17T00:37:58.772344",
     "status": "completed"
    },
    "tags": []
   },
   "outputs": [],
   "source": [
    "# #hide\n",
    "# colors = dict(zip(\n",
    "#     [\"Oceania\", \"Europe\", \"Asia\", \"South America\", \"Middle East\", \"North America\", \"Africa\"],\n",
    "#     [\"#adb0ff\", \"#ffb3ff\", \"#90d595\", \"#e48381\", \"#aafbff\", \"#f7bb5f\", \"#eafb50\"]\n",
    "# ))\n",
    "# group_lk = g.set_index('name')['group'].to_dict()"
   ]
  },
  {
   "cell_type": "code",
   "execution_count": null,
   "id": "gross-drinking",
   "metadata": {
    "papermill": {
     "duration": 0.034695,
     "end_time": "2022-06-17T00:37:58.888205",
     "exception": false,
     "start_time": "2022-06-17T00:37:58.853510",
     "status": "completed"
    },
    "tags": []
   },
   "outputs": [],
   "source": []
  },
  {
   "cell_type": "code",
   "execution_count": 41,
   "id": "subject-macintosh",
   "metadata": {
    "execution": {
     "iopub.execute_input": "2022-06-17T00:37:58.969909Z",
     "iopub.status.busy": "2022-06-17T00:37:58.969050Z",
     "iopub.status.idle": "2022-06-17T00:37:58.972599Z",
     "shell.execute_reply": "2022-06-17T00:37:58.971912Z"
    },
    "papermill": {
     "duration": 0.048727,
     "end_time": "2022-06-17T00:37:58.972735",
     "exception": false,
     "start_time": "2022-06-17T00:37:58.924008",
     "status": "completed"
    },
    "tags": []
   },
   "outputs": [],
   "source": [
    "# #hide\n",
    "# fig, ax = plt.subplots(figsize=(15, 8))\n",
    "\n",
    "# def draw_barchart(current_day):\n",
    "#     dff = g[g['day'].eq(current_day)].sort_values(by='value', ascending=True).tail(10)\n",
    "#     ax.clear()\n",
    "#     ax.barh(dff['name'], dff['value'], color=[colors[group_lk[x]] for x in dff['name']])\n",
    "#     dx = dff['value'].max() / 200\n",
    "    \n",
    "#     for i, (value, name) in enumerate(zip(dff['value'], dff['name'])):\n",
    "#         ax.text(value-dx, i,     name,           size=14, weight=600, ha='right', va='bottom')\n",
    "#         ax.text(value-dx, i-.25, group_lk[name], size=10, color='#444444', ha='right', va='baseline')\n",
    "#         ax.text(value+dx, i,     f'{value:,.0f}',  size=14, ha='left',  va='center')\n",
    "#     ax.text(1, 0.4, current_day, transform=ax.transAxes, color='#777777', size=46, ha='right', weight=800)\n",
    "#     ax.text(0, 1.06, 'Population (thousands)', transform=ax.transAxes, size=12, color='#777777')\n",
    "#     ax.xaxis.set_major_formatter(ticker.StrMethodFormatter('{x:,.0f}'))\n",
    "#     ax.xaxis.set_ticks_position('top')\n",
    "#     ax.tick_params(axis='x', colors='#777777', labelsize=12)\n",
    "#     ax.set_yticks([])\n",
    "#     ax.margins(0, 0.01)\n",
    "#     ax.grid(which='major', axis='x', linestyle='-')\n",
    "#     ax.set_axisbelow(True)\n",
    "    \n",
    "#     ax.text(0, 1.15, 'Coronavirus',\n",
    "#             transform=ax.transAxes, size=24, weight=600, ha='left', va='top')\n",
    "# #     ax.text(1, 0, 'by @pratapvardhan; credit @jburnmurdoch', transform=ax.transAxes, color='#777777', ha='right',\n",
    "# #             bbox=dict(facecolor='white', alpha=0.8, edgecolor='white'))\n",
    "#     plt.box(False)"
   ]
  },
  {
   "cell_type": "code",
   "execution_count": 42,
   "id": "sexual-wages",
   "metadata": {
    "execution": {
     "iopub.execute_input": "2022-06-17T00:37:59.054749Z",
     "iopub.status.busy": "2022-06-17T00:37:59.053930Z",
     "iopub.status.idle": "2022-06-17T00:37:59.057600Z",
     "shell.execute_reply": "2022-06-17T00:37:59.056876Z"
    },
    "papermill": {
     "duration": 0.04434,
     "end_time": "2022-06-17T00:37:59.057758",
     "exception": false,
     "start_time": "2022-06-17T00:37:59.013418",
     "status": "completed"
    },
    "tags": []
   },
   "outputs": [],
   "source": [
    "# #hide_input\n",
    "# fig, ax = plt.subplots(figsize=(15, 8))\n",
    "# animator = animation.FuncAnimation(fig, draw_barchart, frames=range(g.day.values.min(), g.day.values.max()))\n",
    "# HTML(animator.to_jshtml())\n",
    "# # or use animator.to_html5_video() or animator.save() "
   ]
  },
  {
   "cell_type": "code",
   "execution_count": null,
   "id": "australian-container",
   "metadata": {
    "papermill": {
     "duration": 0.035145,
     "end_time": "2022-06-17T00:37:59.132285",
     "exception": false,
     "start_time": "2022-06-17T00:37:59.097140",
     "status": "completed"
    },
    "tags": []
   },
   "outputs": [],
   "source": []
  },
  {
   "cell_type": "code",
   "execution_count": null,
   "id": "mediterranean-pontiac",
   "metadata": {
    "papermill": {
     "duration": 0.035408,
     "end_time": "2022-06-17T00:37:59.203242",
     "exception": false,
     "start_time": "2022-06-17T00:37:59.167834",
     "status": "completed"
    },
    "tags": []
   },
   "outputs": [],
   "source": []
  },
  {
   "cell_type": "code",
   "execution_count": null,
   "id": "aging-legislature",
   "metadata": {
    "papermill": {
     "duration": 0.035753,
     "end_time": "2022-06-17T00:37:59.275403",
     "exception": false,
     "start_time": "2022-06-17T00:37:59.239650",
     "status": "completed"
    },
    "tags": []
   },
   "outputs": [],
   "source": []
  }
 ],
 "metadata": {
  "kernelspec": {
   "display_name": "Python 3",
   "language": "python",
   "name": "python3"
  },
  "language_info": {
   "codemirror_mode": {
    "name": "ipython",
    "version": 3
   },
   "file_extension": ".py",
   "mimetype": "text/x-python",
   "name": "python",
   "nbconvert_exporter": "python",
   "pygments_lexer": "ipython3",
   "version": "3.6.15"
  },
  "papermill": {
   "duration": 6.909624,
   "end_time": "2022-06-17T00:37:59.631322",
   "environment_variables": {},
   "exception": null,
   "input_path": "2020-03-21-covid19exp.ipynb",
   "output_path": "2020-03-21-covid19exp.ipynb",
   "parameters": {},
   "start_time": "2022-06-17T00:37:52.721698",
   "version": "2.0.0"
  }
 },
 "nbformat": 4,
 "nbformat_minor": 5
}