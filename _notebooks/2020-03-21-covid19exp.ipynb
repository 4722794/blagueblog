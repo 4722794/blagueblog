{
 "cells": [
  {
   "cell_type": "markdown",
   "id": "muslim-click",
   "metadata": {
    "papermill": {
     "duration": 0.041569,
     "end_time": "2021-07-28T00:21:15.415389",
     "exception": false,
     "start_time": "2021-07-28T00:21:15.373820",
     "status": "completed"
    },
    "tags": []
   },
   "source": [
    "# COVID-19 Case Race\n",
    "> A race chart to see rising cases around the world\n",
    "\n",
    "- author: Hargun Oberoi\n",
    "- image: images/covid-overview.png\n",
    "- hide: false\n",
    "- badges: false"
   ]
  },
  {
   "cell_type": "code",
   "execution_count": 1,
   "id": "proof-material",
   "metadata": {
    "execution": {
     "iopub.execute_input": "2021-07-28T00:21:15.498014Z",
     "iopub.status.busy": "2021-07-28T00:21:15.497336Z",
     "iopub.status.idle": "2021-07-28T00:21:15.876922Z",
     "shell.execute_reply": "2021-07-28T00:21:15.876365Z"
    },
    "papermill": {
     "duration": 0.424845,
     "end_time": "2021-07-28T00:21:15.877059",
     "exception": false,
     "start_time": "2021-07-28T00:21:15.452214",
     "status": "completed"
    },
    "tags": []
   },
   "outputs": [],
   "source": [
    "#hide\n",
    "import numpy as np\n",
    "import pandas as pd\n",
    "from jinja2 import Template\n",
    "from IPython.display import HTML"
   ]
  },
  {
   "cell_type": "code",
   "execution_count": 2,
   "id": "developed-terminology",
   "metadata": {
    "execution": {
     "iopub.execute_input": "2021-07-28T00:21:15.953320Z",
     "iopub.status.busy": "2021-07-28T00:21:15.952743Z",
     "iopub.status.idle": "2021-07-28T00:21:15.954699Z",
     "shell.execute_reply": "2021-07-28T00:21:15.955166Z"
    },
    "papermill": {
     "duration": 0.042678,
     "end_time": "2021-07-28T00:21:15.955296",
     "exception": false,
     "start_time": "2021-07-28T00:21:15.912618",
     "status": "completed"
    },
    "tags": []
   },
   "outputs": [],
   "source": [
    "#hide\n",
    "\n",
    "# FETCH\n",
    "base_url = 'https://raw.githubusercontent.com/pratapvardhan/notebooks/master/covid19/'\n",
    "paths = {\n",
    "    'mapping': base_url + 'mapping_countries.csv',\n",
    "    'overview': base_url + 'overview.tpl'\n",
    "}"
   ]
  },
  {
   "cell_type": "code",
   "execution_count": 3,
   "id": "dynamic-saver",
   "metadata": {
    "execution": {
     "iopub.execute_input": "2021-07-28T00:21:16.039476Z",
     "iopub.status.busy": "2021-07-28T00:21:16.038916Z",
     "iopub.status.idle": "2021-07-28T00:21:16.042793Z",
     "shell.execute_reply": "2021-07-28T00:21:16.042330Z"
    },
    "papermill": {
     "duration": 0.052769,
     "end_time": "2021-07-28T00:21:16.042900",
     "exception": false,
     "start_time": "2021-07-28T00:21:15.990131",
     "status": "completed"
    },
    "tags": []
   },
   "outputs": [
    {
     "data": {
      "text/plain": [
       "'https://raw.githubusercontent.com/pratapvardhan/notebooks/master/covid19/mapping_countries.csv'"
      ]
     },
     "execution_count": 3,
     "metadata": {},
     "output_type": "execute_result"
    }
   ],
   "source": [
    "#hide\n",
    "paths['mapping']"
   ]
  },
  {
   "cell_type": "code",
   "execution_count": 4,
   "id": "urban-software",
   "metadata": {
    "execution": {
     "iopub.execute_input": "2021-07-28T00:21:16.124562Z",
     "iopub.status.busy": "2021-07-28T00:21:16.120577Z",
     "iopub.status.idle": "2021-07-28T00:21:16.125226Z",
     "shell.execute_reply": "2021-07-28T00:21:16.125792Z"
    },
    "papermill": {
     "duration": 0.045582,
     "end_time": "2021-07-28T00:21:16.125924",
     "exception": false,
     "start_time": "2021-07-28T00:21:16.080342",
     "status": "completed"
    },
    "tags": []
   },
   "outputs": [],
   "source": [
    "#hide\n",
    "def get_mappings(url):\n",
    "    df = pd.read_csv(url)\n",
    "    return {\n",
    "        'df': df,\n",
    "        'replace.country': dict(df.dropna(subset=['Name']).set_index('Country')['Name']),\n",
    "        'map.continent': dict(df.set_index('Name')['Continent'])\n",
    "    }"
   ]
  },
  {
   "cell_type": "code",
   "execution_count": 5,
   "id": "intimate-machinery",
   "metadata": {
    "execution": {
     "iopub.execute_input": "2021-07-28T00:21:16.203369Z",
     "iopub.status.busy": "2021-07-28T00:21:16.202714Z",
     "iopub.status.idle": "2021-07-28T00:21:16.243787Z",
     "shell.execute_reply": "2021-07-28T00:21:16.244509Z"
    },
    "papermill": {
     "duration": 0.083669,
     "end_time": "2021-07-28T00:21:16.244788",
     "exception": false,
     "start_time": "2021-07-28T00:21:16.161119",
     "status": "completed"
    },
    "tags": []
   },
   "outputs": [],
   "source": [
    "#hide\n",
    "mapping = get_mappings(paths['mapping'])"
   ]
  },
  {
   "cell_type": "code",
   "execution_count": 6,
   "id": "certified-tactics",
   "metadata": {
    "execution": {
     "iopub.execute_input": "2021-07-28T00:21:16.323916Z",
     "iopub.status.busy": "2021-07-28T00:21:16.323213Z",
     "iopub.status.idle": "2021-07-28T00:21:16.325630Z",
     "shell.execute_reply": "2021-07-28T00:21:16.325073Z"
    },
    "papermill": {
     "duration": 0.043174,
     "end_time": "2021-07-28T00:21:16.325781",
     "exception": false,
     "start_time": "2021-07-28T00:21:16.282607",
     "status": "completed"
    },
    "tags": []
   },
   "outputs": [],
   "source": [
    "#hide\n",
    "def get_template(path):\n",
    "    from urllib.parse import urlparse\n",
    "    if bool(urlparse(path).netloc):\n",
    "        from urllib.request import urlopen\n",
    "        return urlopen(path).read().decode('utf8')\n",
    "    return open(path).read()"
   ]
  },
  {
   "cell_type": "code",
   "execution_count": 7,
   "id": "realistic-blast",
   "metadata": {
    "execution": {
     "iopub.execute_input": "2021-07-28T00:21:16.403370Z",
     "iopub.status.busy": "2021-07-28T00:21:16.402491Z",
     "iopub.status.idle": "2021-07-28T00:21:16.405783Z",
     "shell.execute_reply": "2021-07-28T00:21:16.405006Z"
    },
    "papermill": {
     "duration": 0.042729,
     "end_time": "2021-07-28T00:21:16.405913",
     "exception": false,
     "start_time": "2021-07-28T00:21:16.363184",
     "status": "completed"
    },
    "tags": []
   },
   "outputs": [],
   "source": [
    "#hide\n",
    "def get_frame(name):\n",
    "    url = (\n",
    "        'https://raw.githubusercontent.com/CSSEGISandData/COVID-19/master/csse_covid_19_data/'\n",
    "        f'csse_covid_19_time_series/time_series_covid19_{name}_global.csv')\n",
    "    df = pd.read_csv(url)\n",
    "    # rename countries\n",
    "    df['Country/Region'] = df['Country/Region'].replace(mapping['replace.country'])\n",
    "    return df"
   ]
  },
  {
   "cell_type": "code",
   "execution_count": 8,
   "id": "affiliated-characterization",
   "metadata": {
    "execution": {
     "iopub.execute_input": "2021-07-28T00:21:16.485937Z",
     "iopub.status.busy": "2021-07-28T00:21:16.485163Z",
     "iopub.status.idle": "2021-07-28T00:21:16.487012Z",
     "shell.execute_reply": "2021-07-28T00:21:16.487456Z"
    },
    "papermill": {
     "duration": 0.044649,
     "end_time": "2021-07-28T00:21:16.487578",
     "exception": false,
     "start_time": "2021-07-28T00:21:16.442929",
     "status": "completed"
    },
    "tags": []
   },
   "outputs": [],
   "source": [
    "#hide\n",
    "def get_dates(df):\n",
    "    dt_cols = df.columns[~df.columns.isin(['Province/State', 'Country/Region', 'Lat', 'Long'])]\n",
    "    LAST_DATE_I = -1\n",
    "    # sometimes last column may be empty, then go backwards\n",
    "    for i in range(-1, -len(dt_cols), -1):\n",
    "        if not df[dt_cols[i]].fillna(0).eq(0).all():\n",
    "            LAST_DATE_I = i\n",
    "            break\n",
    "    return LAST_DATE_I, dt_cols"
   ]
  },
  {
   "cell_type": "code",
   "execution_count": 9,
   "id": "recent-optimization",
   "metadata": {
    "execution": {
     "iopub.execute_input": "2021-07-28T00:21:16.565401Z",
     "iopub.status.busy": "2021-07-28T00:21:16.564691Z",
     "iopub.status.idle": "2021-07-28T00:21:16.949569Z",
     "shell.execute_reply": "2021-07-28T00:21:16.948991Z"
    },
    "papermill": {
     "duration": 0.427782,
     "end_time": "2021-07-28T00:21:16.949868",
     "exception": false,
     "start_time": "2021-07-28T00:21:16.522086",
     "status": "completed"
    },
    "tags": []
   },
   "outputs": [],
   "source": [
    "#hide\n",
    "COL_REGION = 'Country/Region'\n",
    "# Confirmed, Recovered, Deaths\n",
    "df = get_frame('confirmed')\n",
    "# dft_: timeseries, dfc_: today country agg\n",
    "dft_cases = df\n",
    "dft_deaths = get_frame('deaths')\n",
    "dft_recovered = get_frame('recovered')\n",
    "LAST_DATE_I, dt_cols = get_dates(df)"
   ]
  },
  {
   "cell_type": "code",
   "execution_count": 10,
   "id": "absolute-copper",
   "metadata": {
    "execution": {
     "iopub.execute_input": "2021-07-28T00:21:17.030852Z",
     "iopub.status.busy": "2021-07-28T00:21:17.029256Z",
     "iopub.status.idle": "2021-07-28T00:21:17.032013Z",
     "shell.execute_reply": "2021-07-28T00:21:17.032760Z"
    },
    "papermill": {
     "duration": 0.045562,
     "end_time": "2021-07-28T00:21:17.032887",
     "exception": false,
     "start_time": "2021-07-28T00:21:16.987325",
     "status": "completed"
    },
    "tags": []
   },
   "outputs": [],
   "source": [
    "#hide\n",
    "LAST_DATE_I, dt_cols = get_dates(df)\n",
    "dt_today =dt_cols[LAST_DATE_I]\n",
    "# dt_5day = dt_cols[LAST_DATE_I - 5]\n",
    "dt_yday = dt_cols[LAST_DATE_I - 1]"
   ]
  },
  {
   "cell_type": "code",
   "execution_count": 11,
   "id": "restricted-sheriff",
   "metadata": {
    "execution": {
     "iopub.execute_input": "2021-07-28T00:21:17.115905Z",
     "iopub.status.busy": "2021-07-28T00:21:17.115183Z",
     "iopub.status.idle": "2021-07-28T00:21:17.122846Z",
     "shell.execute_reply": "2021-07-28T00:21:17.122225Z"
    },
    "papermill": {
     "duration": 0.053635,
     "end_time": "2021-07-28T00:21:17.122963",
     "exception": false,
     "start_time": "2021-07-28T00:21:17.069328",
     "status": "completed"
    },
    "tags": []
   },
   "outputs": [],
   "source": [
    "#hide\n",
    "dfc_cases = dft_cases.groupby(COL_REGION)[dt_today].sum()\n",
    "dfc_deaths = dft_deaths.groupby(COL_REGION)[dt_today].sum()\n",
    "# dfp_cases = dft_cases.groupby(COL_REGION)[dt_5day].sum()\n",
    "# dfp_deaths = dft_deaths.groupby(COL_REGION)[dt_5day].sum()\n",
    "dfp_cases = dft_cases.groupby(COL_REGION)[dt_yday].sum()\n",
    "dfp_deaths = dft_deaths.groupby(COL_REGION)[dt_yday].sum()"
   ]
  },
  {
   "cell_type": "code",
   "execution_count": 12,
   "id": "deluxe-hepatitis",
   "metadata": {
    "execution": {
     "iopub.execute_input": "2021-07-28T00:21:17.204307Z",
     "iopub.status.busy": "2021-07-28T00:21:17.203657Z",
     "iopub.status.idle": "2021-07-28T00:21:17.208876Z",
     "shell.execute_reply": "2021-07-28T00:21:17.208401Z"
    },
    "papermill": {
     "duration": 0.046765,
     "end_time": "2021-07-28T00:21:17.208983",
     "exception": false,
     "start_time": "2021-07-28T00:21:17.162218",
     "status": "completed"
    },
    "tags": []
   },
   "outputs": [],
   "source": [
    "#hide\n",
    "df_table = (pd.DataFrame(dict(Cases = dfc_cases, Deaths = dfc_deaths, PCases = dfp_cases, PDeaths = dfp_deaths))\n",
    "            .sort_values(by = ['Cases','Deaths'], ascending = [False, False])\n",
    "            .reset_index())"
   ]
  },
  {
   "cell_type": "code",
   "execution_count": 13,
   "id": "educational-chancellor",
   "metadata": {
    "execution": {
     "iopub.execute_input": "2021-07-28T00:21:17.302315Z",
     "iopub.status.busy": "2021-07-28T00:21:17.301714Z",
     "iopub.status.idle": "2021-07-28T00:21:17.310334Z",
     "shell.execute_reply": "2021-07-28T00:21:17.310860Z"
    },
    "papermill": {
     "duration": 0.065159,
     "end_time": "2021-07-28T00:21:17.310987",
     "exception": false,
     "start_time": "2021-07-28T00:21:17.245828",
     "status": "completed"
    },
    "tags": []
   },
   "outputs": [
    {
     "data": {
      "text/html": [
       "<div>\n",
       "<style scoped>\n",
       "    .dataframe tbody tr th:only-of-type {\n",
       "        vertical-align: middle;\n",
       "    }\n",
       "\n",
       "    .dataframe tbody tr th {\n",
       "        vertical-align: top;\n",
       "    }\n",
       "\n",
       "    .dataframe thead th {\n",
       "        text-align: right;\n",
       "    }\n",
       "</style>\n",
       "<table border=\"1\" class=\"dataframe\">\n",
       "  <thead>\n",
       "    <tr style=\"text-align: right;\">\n",
       "      <th></th>\n",
       "      <th>Country/Region</th>\n",
       "      <th>Cases</th>\n",
       "      <th>Deaths</th>\n",
       "      <th>PCases</th>\n",
       "      <th>PDeaths</th>\n",
       "      <th>Cases (+)</th>\n",
       "      <th>Deaths (+)</th>\n",
       "      <th>Fatality Rate</th>\n",
       "      <th>Continent</th>\n",
       "    </tr>\n",
       "  </thead>\n",
       "  <tbody>\n",
       "    <tr>\n",
       "      <th>0</th>\n",
       "      <td>US</td>\n",
       "      <td>34533179</td>\n",
       "      <td>610952</td>\n",
       "      <td>34443761</td>\n",
       "      <td>610681</td>\n",
       "      <td>89418</td>\n",
       "      <td>271</td>\n",
       "      <td>1.77</td>\n",
       "      <td>North America</td>\n",
       "    </tr>\n",
       "    <tr>\n",
       "      <th>1</th>\n",
       "      <td>India</td>\n",
       "      <td>31440951</td>\n",
       "      <td>421382</td>\n",
       "      <td>31411262</td>\n",
       "      <td>420967</td>\n",
       "      <td>29689</td>\n",
       "      <td>415</td>\n",
       "      <td>1.34</td>\n",
       "      <td>Asia</td>\n",
       "    </tr>\n",
       "    <tr>\n",
       "      <th>2</th>\n",
       "      <td>Brazil</td>\n",
       "      <td>19707662</td>\n",
       "      <td>550502</td>\n",
       "      <td>19688663</td>\n",
       "      <td>549924</td>\n",
       "      <td>18999</td>\n",
       "      <td>578</td>\n",
       "      <td>2.79</td>\n",
       "      <td>South America</td>\n",
       "    </tr>\n",
       "    <tr>\n",
       "      <th>3</th>\n",
       "      <td>Russia</td>\n",
       "      <td>6071893</td>\n",
       "      <td>152069</td>\n",
       "      <td>6049215</td>\n",
       "      <td>151352</td>\n",
       "      <td>22678</td>\n",
       "      <td>717</td>\n",
       "      <td>2.50</td>\n",
       "      <td>Europe</td>\n",
       "    </tr>\n",
       "    <tr>\n",
       "      <th>4</th>\n",
       "      <td>France</td>\n",
       "      <td>6061802</td>\n",
       "      <td>111851</td>\n",
       "      <td>6056388</td>\n",
       "      <td>111806</td>\n",
       "      <td>5414</td>\n",
       "      <td>45</td>\n",
       "      <td>1.85</td>\n",
       "      <td>Europe</td>\n",
       "    </tr>\n",
       "  </tbody>\n",
       "</table>\n",
       "</div>"
      ],
      "text/plain": [
       "  Country/Region     Cases  Deaths    PCases  PDeaths  Cases (+)  Deaths (+)  \\\n",
       "0             US  34533179  610952  34443761   610681      89418         271   \n",
       "1          India  31440951  421382  31411262   420967      29689         415   \n",
       "2         Brazil  19707662  550502  19688663   549924      18999         578   \n",
       "3         Russia   6071893  152069   6049215   151352      22678         717   \n",
       "4         France   6061802  111851   6056388   111806       5414          45   \n",
       "\n",
       "   Fatality Rate      Continent  \n",
       "0           1.77  North America  \n",
       "1           1.34           Asia  \n",
       "2           2.79  South America  \n",
       "3           2.50         Europe  \n",
       "4           1.85         Europe  "
      ]
     },
     "execution_count": 13,
     "metadata": {},
     "output_type": "execute_result"
    }
   ],
   "source": [
    "#hide\n",
    "for c in 'Cases, Deaths'.split(', '):\n",
    "    df_table[f'{c} (+)'] = (df_table[c] - df_table[f'P{c}']).clip(0)\n",
    "    #Clip ça veut dire, les chiffres negatif sont interdit\n",
    "df_table['Fatality Rate'] = (100* df_table['Deaths']/ df_table['Cases']).round(2)\n",
    "df_table['Continent'] = df_table['Country/Region'].map(mapping['map.continent'])\n",
    "df_table.head(5)"
   ]
  },
  {
   "cell_type": "code",
   "execution_count": 14,
   "id": "aboriginal-bulgaria",
   "metadata": {
    "execution": {
     "iopub.execute_input": "2021-07-28T00:21:17.391031Z",
     "iopub.status.busy": "2021-07-28T00:21:17.390279Z",
     "iopub.status.idle": "2021-07-28T00:21:17.393447Z",
     "shell.execute_reply": "2021-07-28T00:21:17.393977Z"
    },
    "papermill": {
     "duration": 0.045605,
     "end_time": "2021-07-28T00:21:17.394241",
     "exception": false,
     "start_time": "2021-07-28T00:21:17.348636",
     "status": "completed"
    },
    "tags": []
   },
   "outputs": [],
   "source": [
    "#hide\n",
    "#delete problematic countries from table\n",
    "df_table = df_table[~df_table['Country/Region'].isin(['Cape Verde', 'Cruise Ship', 'Kosovo'])]"
   ]
  },
  {
   "cell_type": "code",
   "execution_count": 15,
   "id": "fantastic-effect",
   "metadata": {
    "execution": {
     "iopub.execute_input": "2021-07-28T00:21:17.476702Z",
     "iopub.status.busy": "2021-07-28T00:21:17.475941Z",
     "iopub.status.idle": "2021-07-28T00:21:17.497224Z",
     "shell.execute_reply": "2021-07-28T00:21:17.497788Z"
    },
    "papermill": {
     "duration": 0.068269,
     "end_time": "2021-07-28T00:21:17.497923",
     "exception": false,
     "start_time": "2021-07-28T00:21:17.429654",
     "status": "completed"
    },
    "tags": []
   },
   "outputs": [
    {
     "data": {
      "text/html": [
       "<div>\n",
       "<style scoped>\n",
       "    .dataframe tbody tr th:only-of-type {\n",
       "        vertical-align: middle;\n",
       "    }\n",
       "\n",
       "    .dataframe tbody tr th {\n",
       "        vertical-align: top;\n",
       "    }\n",
       "\n",
       "    .dataframe thead th {\n",
       "        text-align: right;\n",
       "    }\n",
       "</style>\n",
       "<table border=\"1\" class=\"dataframe\">\n",
       "  <thead>\n",
       "    <tr style=\"text-align: right;\">\n",
       "      <th></th>\n",
       "      <th>Country/Region</th>\n",
       "      <th>Cases</th>\n",
       "      <th>Deaths</th>\n",
       "      <th>PCases</th>\n",
       "      <th>PDeaths</th>\n",
       "      <th>Cases (+)</th>\n",
       "      <th>Deaths (+)</th>\n",
       "      <th>Fatality Rate</th>\n",
       "      <th>Continent</th>\n",
       "    </tr>\n",
       "  </thead>\n",
       "  <tbody>\n",
       "    <tr>\n",
       "      <th>0</th>\n",
       "      <td>US</td>\n",
       "      <td>34533179</td>\n",
       "      <td>610952</td>\n",
       "      <td>34443761</td>\n",
       "      <td>610681</td>\n",
       "      <td>89418</td>\n",
       "      <td>271</td>\n",
       "      <td>1.8</td>\n",
       "      <td>North America</td>\n",
       "    </tr>\n",
       "    <tr>\n",
       "      <th>1</th>\n",
       "      <td>India</td>\n",
       "      <td>31440951</td>\n",
       "      <td>421382</td>\n",
       "      <td>31411262</td>\n",
       "      <td>420967</td>\n",
       "      <td>29689</td>\n",
       "      <td>415</td>\n",
       "      <td>1.3</td>\n",
       "      <td>Asia</td>\n",
       "    </tr>\n",
       "    <tr>\n",
       "      <th>2</th>\n",
       "      <td>Brazil</td>\n",
       "      <td>19707662</td>\n",
       "      <td>550502</td>\n",
       "      <td>19688663</td>\n",
       "      <td>549924</td>\n",
       "      <td>18999</td>\n",
       "      <td>578</td>\n",
       "      <td>2.8</td>\n",
       "      <td>South America</td>\n",
       "    </tr>\n",
       "    <tr>\n",
       "      <th>3</th>\n",
       "      <td>Russia</td>\n",
       "      <td>6071893</td>\n",
       "      <td>152069</td>\n",
       "      <td>6049215</td>\n",
       "      <td>151352</td>\n",
       "      <td>22678</td>\n",
       "      <td>717</td>\n",
       "      <td>2.5</td>\n",
       "      <td>Europe</td>\n",
       "    </tr>\n",
       "    <tr>\n",
       "      <th>4</th>\n",
       "      <td>France</td>\n",
       "      <td>6061802</td>\n",
       "      <td>111851</td>\n",
       "      <td>6056388</td>\n",
       "      <td>111806</td>\n",
       "      <td>5414</td>\n",
       "      <td>45</td>\n",
       "      <td>1.8</td>\n",
       "      <td>Europe</td>\n",
       "    </tr>\n",
       "  </tbody>\n",
       "</table>\n",
       "</div>"
      ],
      "text/plain": [
       "  Country/Region     Cases  Deaths    PCases  PDeaths  Cases (+)  Deaths (+)  \\\n",
       "0             US  34533179  610952  34443761   610681      89418         271   \n",
       "1          India  31440951  421382  31411262   420967      29689         415   \n",
       "2         Brazil  19707662  550502  19688663   549924      18999         578   \n",
       "3         Russia   6071893  152069   6049215   151352      22678         717   \n",
       "4         France   6061802  111851   6056388   111806       5414          45   \n",
       "\n",
       "   Fatality Rate      Continent  \n",
       "0            1.8  North America  \n",
       "1            1.3           Asia  \n",
       "2            2.8  South America  \n",
       "3            2.5         Europe  \n",
       "4            1.8         Europe  "
      ]
     },
     "execution_count": 15,
     "metadata": {},
     "output_type": "execute_result"
    }
   ],
   "source": [
    "#hide\n",
    "df_table = (pd.DataFrame(dict(Cases=dfc_cases, Deaths=dfc_deaths, PCases=dfp_cases, PDeaths=dfp_deaths))\n",
    "             .sort_values(by=['Cases', 'Deaths'], ascending=[False, False])\n",
    "             .reset_index())\n",
    "df_table.rename(columns={'index': 'Country/Region'}, inplace=True)\n",
    "for c in 'Cases, Deaths'.split(', '):\n",
    "    df_table[f'{c} (+)'] = (df_table[c] - df_table[f'P{c}']).clip(0)  # DATA BUG\n",
    "df_table['Fatality Rate'] = (100 * df_table['Deaths'] / df_table['Cases']).round(1)\n",
    "df_table['Continent'] = df_table['Country/Region'].map(mapping['map.continent'])\n",
    "df_table.head(5)"
   ]
  },
  {
   "cell_type": "code",
   "execution_count": 16,
   "id": "fewer-occasion",
   "metadata": {
    "execution": {
     "iopub.execute_input": "2021-07-28T00:21:17.582132Z",
     "iopub.status.busy": "2021-07-28T00:21:17.581436Z",
     "iopub.status.idle": "2021-07-28T00:21:17.583821Z",
     "shell.execute_reply": "2021-07-28T00:21:17.583202Z"
    },
    "papermill": {
     "duration": 0.04917,
     "end_time": "2021-07-28T00:21:17.583947",
     "exception": false,
     "start_time": "2021-07-28T00:21:17.534777",
     "status": "completed"
    },
    "tags": []
   },
   "outputs": [],
   "source": [
    "#hide\n",
    "#delete problematic countries from table\n",
    "df_table = df_table[~df_table['Country/Region'].isin(['Cape Verde', 'Cruise Ship', 'Kosovo'])]"
   ]
  },
  {
   "cell_type": "code",
   "execution_count": 17,
   "id": "related-center",
   "metadata": {
    "execution": {
     "iopub.execute_input": "2021-07-28T00:21:17.674993Z",
     "iopub.status.busy": "2021-07-28T00:21:17.674126Z",
     "iopub.status.idle": "2021-07-28T00:21:17.685220Z",
     "shell.execute_reply": "2021-07-28T00:21:17.684710Z"
    },
    "papermill": {
     "duration": 0.063219,
     "end_time": "2021-07-28T00:21:17.685336",
     "exception": false,
     "start_time": "2021-07-28T00:21:17.622117",
     "status": "completed"
    },
    "tags": []
   },
   "outputs": [],
   "source": [
    "#hide\n",
    "metrics = [df_table.columns[index] for index in [1,2,5,6]]\n",
    "# s_china = df_table[df_table['Country/Region'].eq('China')][metrics].sum().add_prefix('China ')\n",
    "s_us = df_table[df_table['Country/Region'].eq('US')][metrics].sum().add_prefix('US ')\n",
    "s_eu = df_table[df_table['Continent'].eq('Europe')][metrics].sum().add_prefix('EU ')\n",
    "s_ind = df_table[df_table['Country/Region'].eq('India')][metrics].sum().add_prefix('India ')\n",
    "summary = {'updated': pd.to_datetime(dt_today), 'since': pd.to_datetime(dt_yday)}\n",
    "summary = {'updated': pd.to_datetime(dt_today), 'since': pd.to_datetime(dt_yday)}\n",
    "summary = {**summary, **df_table[metrics].sum(), **s_ind, **s_us, **s_eu}"
   ]
  },
  {
   "cell_type": "code",
   "execution_count": 18,
   "id": "engaging-syndrome",
   "metadata": {
    "execution": {
     "iopub.execute_input": "2021-07-28T00:21:17.768353Z",
     "iopub.status.busy": "2021-07-28T00:21:17.767218Z",
     "iopub.status.idle": "2021-07-28T00:21:17.781417Z",
     "shell.execute_reply": "2021-07-28T00:21:17.781927Z"
    },
    "papermill": {
     "duration": 0.059088,
     "end_time": "2021-07-28T00:21:17.782088",
     "exception": false,
     "start_time": "2021-07-28T00:21:17.723000",
     "status": "completed"
    },
    "tags": []
   },
   "outputs": [],
   "source": [
    "#hide\n",
    "dft_ct_new_cases = dft_cases.groupby(COL_REGION)[dt_cols].sum().diff(axis=1).fillna(0).astype(int)"
   ]
  },
  {
   "cell_type": "code",
   "execution_count": 19,
   "id": "neutral-assignment",
   "metadata": {
    "execution": {
     "iopub.execute_input": "2021-07-28T00:21:17.864250Z",
     "iopub.status.busy": "2021-07-28T00:21:17.863519Z",
     "iopub.status.idle": "2021-07-28T00:21:17.866473Z",
     "shell.execute_reply": "2021-07-28T00:21:17.865745Z"
    },
    "papermill": {
     "duration": 0.047653,
     "end_time": "2021-07-28T00:21:17.866585",
     "exception": false,
     "start_time": "2021-07-28T00:21:17.818932",
     "status": "completed"
    },
    "tags": []
   },
   "outputs": [],
   "source": [
    "#hide\n",
    "everydaycases = dft_ct_new_cases.cumsum(axis=1)"
   ]
  },
  {
   "cell_type": "code",
   "execution_count": 20,
   "id": "parliamentary-calgary",
   "metadata": {
    "execution": {
     "iopub.execute_input": "2021-07-28T00:21:17.947141Z",
     "iopub.status.busy": "2021-07-28T00:21:17.946480Z",
     "iopub.status.idle": "2021-07-28T00:21:18.658934Z",
     "shell.execute_reply": "2021-07-28T00:21:18.659526Z"
    },
    "papermill": {
     "duration": 0.75509,
     "end_time": "2021-07-28T00:21:18.659775",
     "exception": false,
     "start_time": "2021-07-28T00:21:17.904685",
     "status": "completed"
    },
    "tags": []
   },
   "outputs": [],
   "source": [
    "#hide\n",
    "import pandas as pd\n",
    "import matplotlib.pyplot as plt\n",
    "import matplotlib.ticker as ticker\n",
    "import matplotlib.animation as animation\n",
    "from IPython.display import HTML"
   ]
  },
  {
   "cell_type": "code",
   "execution_count": 21,
   "id": "lasting-extraction",
   "metadata": {
    "execution": {
     "iopub.execute_input": "2021-07-28T00:21:18.741565Z",
     "iopub.status.busy": "2021-07-28T00:21:18.740952Z",
     "iopub.status.idle": "2021-07-28T00:21:18.746124Z",
     "shell.execute_reply": "2021-07-28T00:21:18.746604Z"
    },
    "papermill": {
     "duration": 0.048533,
     "end_time": "2021-07-28T00:21:18.746747",
     "exception": false,
     "start_time": "2021-07-28T00:21:18.698214",
     "status": "completed"
    },
    "tags": []
   },
   "outputs": [],
   "source": [
    "#hide\n",
    "t = everydaycases.stack()"
   ]
  },
  {
   "cell_type": "code",
   "execution_count": 22,
   "id": "premier-sleeve",
   "metadata": {
    "execution": {
     "iopub.execute_input": "2021-07-28T00:21:18.826158Z",
     "iopub.status.busy": "2021-07-28T00:21:18.825514Z",
     "iopub.status.idle": "2021-07-28T00:21:18.835673Z",
     "shell.execute_reply": "2021-07-28T00:21:18.835064Z"
    },
    "papermill": {
     "duration": 0.050722,
     "end_time": "2021-07-28T00:21:18.835825",
     "exception": false,
     "start_time": "2021-07-28T00:21:18.785103",
     "status": "completed"
    },
    "tags": []
   },
   "outputs": [],
   "source": [
    "#hide\n",
    "g = t.reset_index(['Country/Region'])"
   ]
  },
  {
   "cell_type": "code",
   "execution_count": 23,
   "id": "distributed-pittsburgh",
   "metadata": {
    "execution": {
     "iopub.execute_input": "2021-07-28T00:21:18.915452Z",
     "iopub.status.busy": "2021-07-28T00:21:18.914831Z",
     "iopub.status.idle": "2021-07-28T00:21:18.916878Z",
     "shell.execute_reply": "2021-07-28T00:21:18.917486Z"
    },
    "papermill": {
     "duration": 0.043999,
     "end_time": "2021-07-28T00:21:18.917638",
     "exception": false,
     "start_time": "2021-07-28T00:21:18.873639",
     "status": "completed"
    },
    "tags": []
   },
   "outputs": [],
   "source": [
    "#hide\n",
    "g.index.name = 'date'"
   ]
  },
  {
   "cell_type": "code",
   "execution_count": 24,
   "id": "naked-donor",
   "metadata": {
    "execution": {
     "iopub.execute_input": "2021-07-28T00:21:18.996680Z",
     "iopub.status.busy": "2021-07-28T00:21:18.996018Z",
     "iopub.status.idle": "2021-07-28T00:21:18.998488Z",
     "shell.execute_reply": "2021-07-28T00:21:18.997863Z"
    },
    "papermill": {
     "duration": 0.044023,
     "end_time": "2021-07-28T00:21:18.998615",
     "exception": false,
     "start_time": "2021-07-28T00:21:18.954592",
     "status": "completed"
    },
    "tags": []
   },
   "outputs": [],
   "source": [
    "# #hide\n",
    "# g = g.reset_index(['date'])"
   ]
  },
  {
   "cell_type": "code",
   "execution_count": 25,
   "id": "incomplete-mustang",
   "metadata": {
    "execution": {
     "iopub.execute_input": "2021-07-28T00:21:19.082418Z",
     "iopub.status.busy": "2021-07-28T00:21:19.081827Z",
     "iopub.status.idle": "2021-07-28T00:21:19.084160Z",
     "shell.execute_reply": "2021-07-28T00:21:19.083665Z"
    },
    "papermill": {
     "duration": 0.04705,
     "end_time": "2021-07-28T00:21:19.084278",
     "exception": false,
     "start_time": "2021-07-28T00:21:19.037228",
     "status": "completed"
    },
    "tags": []
   },
   "outputs": [],
   "source": [
    "#hide\n",
    "# g.head()"
   ]
  },
  {
   "cell_type": "code",
   "execution_count": 26,
   "id": "specific-kruger",
   "metadata": {
    "execution": {
     "iopub.execute_input": "2021-07-28T00:21:19.162926Z",
     "iopub.status.busy": "2021-07-28T00:21:19.162231Z",
     "iopub.status.idle": "2021-07-28T00:21:19.164081Z",
     "shell.execute_reply": "2021-07-28T00:21:19.164576Z"
    },
    "papermill": {
     "duration": 0.044201,
     "end_time": "2021-07-28T00:21:19.164707",
     "exception": false,
     "start_time": "2021-07-28T00:21:19.120506",
     "status": "completed"
    },
    "tags": []
   },
   "outputs": [],
   "source": [
    "#hide\n",
    "# g.columns = ['date','country','cases']"
   ]
  },
  {
   "cell_type": "code",
   "execution_count": 27,
   "id": "tender-conversion",
   "metadata": {
    "execution": {
     "iopub.execute_input": "2021-07-28T00:21:19.243360Z",
     "iopub.status.busy": "2021-07-28T00:21:19.242662Z",
     "iopub.status.idle": "2021-07-28T00:21:19.245157Z",
     "shell.execute_reply": "2021-07-28T00:21:19.244525Z"
    },
    "papermill": {
     "duration": 0.043067,
     "end_time": "2021-07-28T00:21:19.245287",
     "exception": false,
     "start_time": "2021-07-28T00:21:19.202220",
     "status": "completed"
    },
    "tags": []
   },
   "outputs": [],
   "source": [
    "#hide\n",
    "# g['continent'] = g.country"
   ]
  },
  {
   "cell_type": "code",
   "execution_count": 28,
   "id": "substantial-wilderness",
   "metadata": {
    "execution": {
     "iopub.execute_input": "2021-07-28T00:21:19.321627Z",
     "iopub.status.busy": "2021-07-28T00:21:19.321128Z",
     "iopub.status.idle": "2021-07-28T00:21:19.323663Z",
     "shell.execute_reply": "2021-07-28T00:21:19.323218Z"
    },
    "papermill": {
     "duration": 0.04236,
     "end_time": "2021-07-28T00:21:19.323764",
     "exception": false,
     "start_time": "2021-07-28T00:21:19.281404",
     "status": "completed"
    },
    "tags": []
   },
   "outputs": [],
   "source": [
    "#hide\n",
    "# cols = list(g.columns.values)"
   ]
  },
  {
   "cell_type": "code",
   "execution_count": 29,
   "id": "solved-farming",
   "metadata": {
    "execution": {
     "iopub.execute_input": "2021-07-28T00:21:19.401001Z",
     "iopub.status.busy": "2021-07-28T00:21:19.400415Z",
     "iopub.status.idle": "2021-07-28T00:21:19.402683Z",
     "shell.execute_reply": "2021-07-28T00:21:19.402229Z"
    },
    "papermill": {
     "duration": 0.041791,
     "end_time": "2021-07-28T00:21:19.402822",
     "exception": false,
     "start_time": "2021-07-28T00:21:19.361031",
     "status": "completed"
    },
    "tags": []
   },
   "outputs": [],
   "source": [
    "#hide\n",
    "# cols.insert(0, cols.pop())"
   ]
  },
  {
   "cell_type": "code",
   "execution_count": 30,
   "id": "executed-adoption",
   "metadata": {
    "execution": {
     "iopub.execute_input": "2021-07-28T00:21:19.482425Z",
     "iopub.status.busy": "2021-07-28T00:21:19.481797Z",
     "iopub.status.idle": "2021-07-28T00:21:19.484738Z",
     "shell.execute_reply": "2021-07-28T00:21:19.483974Z"
    },
    "papermill": {
     "duration": 0.044512,
     "end_time": "2021-07-28T00:21:19.484849",
     "exception": false,
     "start_time": "2021-07-28T00:21:19.440337",
     "status": "completed"
    },
    "tags": []
   },
   "outputs": [],
   "source": [
    "#hide\n",
    "# g = g[cols]"
   ]
  },
  {
   "cell_type": "code",
   "execution_count": 31,
   "id": "subject-dublin",
   "metadata": {
    "execution": {
     "iopub.execute_input": "2021-07-28T00:21:19.562841Z",
     "iopub.status.busy": "2021-07-28T00:21:19.562134Z",
     "iopub.status.idle": "2021-07-28T00:21:19.564090Z",
     "shell.execute_reply": "2021-07-28T00:21:19.564725Z"
    },
    "papermill": {
     "duration": 0.045066,
     "end_time": "2021-07-28T00:21:19.564893",
     "exception": false,
     "start_time": "2021-07-28T00:21:19.519827",
     "status": "completed"
    },
    "tags": []
   },
   "outputs": [],
   "source": [
    "#hide\n",
    "# g['continent'] = g['continent'].map(mapping['map.continent'])"
   ]
  },
  {
   "cell_type": "code",
   "execution_count": 32,
   "id": "freelance-scout",
   "metadata": {
    "execution": {
     "iopub.execute_input": "2021-07-28T00:21:19.642414Z",
     "iopub.status.busy": "2021-07-28T00:21:19.641785Z",
     "iopub.status.idle": "2021-07-28T00:21:19.644297Z",
     "shell.execute_reply": "2021-07-28T00:21:19.643822Z"
    },
    "papermill": {
     "duration": 0.043134,
     "end_time": "2021-07-28T00:21:19.644464",
     "exception": false,
     "start_time": "2021-07-28T00:21:19.601330",
     "status": "completed"
    },
    "tags": []
   },
   "outputs": [],
   "source": [
    "#hide\n",
    "# g.head()"
   ]
  },
  {
   "cell_type": "code",
   "execution_count": 33,
   "id": "limited-engine",
   "metadata": {
    "execution": {
     "iopub.execute_input": "2021-07-28T00:21:19.724186Z",
     "iopub.status.busy": "2021-07-28T00:21:19.723588Z",
     "iopub.status.idle": "2021-07-28T00:21:19.725891Z",
     "shell.execute_reply": "2021-07-28T00:21:19.725428Z"
    },
    "papermill": {
     "duration": 0.042833,
     "end_time": "2021-07-28T00:21:19.726001",
     "exception": false,
     "start_time": "2021-07-28T00:21:19.683168",
     "status": "completed"
    },
    "tags": []
   },
   "outputs": [],
   "source": [
    "# hide\n",
    "# g['date'] = g['date'].astype('datetime64[ns]')"
   ]
  },
  {
   "cell_type": "code",
   "execution_count": 34,
   "id": "sophisticated-supervisor",
   "metadata": {
    "execution": {
     "iopub.execute_input": "2021-07-28T00:21:19.806115Z",
     "iopub.status.busy": "2021-07-28T00:21:19.805461Z",
     "iopub.status.idle": "2021-07-28T00:21:19.808484Z",
     "shell.execute_reply": "2021-07-28T00:21:19.807878Z"
    },
    "papermill": {
     "duration": 0.043159,
     "end_time": "2021-07-28T00:21:19.808652",
     "exception": false,
     "start_time": "2021-07-28T00:21:19.765493",
     "status": "completed"
    },
    "tags": []
   },
   "outputs": [],
   "source": [
    "#hide\n",
    "# g['date'] = g.date.dt.dayofyear"
   ]
  },
  {
   "cell_type": "code",
   "execution_count": 35,
   "id": "inside-dubai",
   "metadata": {
    "execution": {
     "iopub.execute_input": "2021-07-28T00:21:19.887997Z",
     "iopub.status.busy": "2021-07-28T00:21:19.887374Z",
     "iopub.status.idle": "2021-07-28T00:21:19.889546Z",
     "shell.execute_reply": "2021-07-28T00:21:19.890028Z"
    },
    "papermill": {
     "duration": 0.04343,
     "end_time": "2021-07-28T00:21:19.890190",
     "exception": false,
     "start_time": "2021-07-28T00:21:19.846760",
     "status": "completed"
    },
    "tags": []
   },
   "outputs": [],
   "source": [
    "#hide\n",
    "# g = g.rename(columns= {'continent':'group','country':'name','cases':'value'})"
   ]
  },
  {
   "cell_type": "code",
   "execution_count": 36,
   "id": "fleet-motorcycle",
   "metadata": {
    "execution": {
     "iopub.execute_input": "2021-07-28T00:21:19.972969Z",
     "iopub.status.busy": "2021-07-28T00:21:19.972266Z",
     "iopub.status.idle": "2021-07-28T00:21:19.974893Z",
     "shell.execute_reply": "2021-07-28T00:21:19.974344Z"
    },
    "papermill": {
     "duration": 0.048259,
     "end_time": "2021-07-28T00:21:19.975014",
     "exception": false,
     "start_time": "2021-07-28T00:21:19.926755",
     "status": "completed"
    },
    "tags": []
   },
   "outputs": [],
   "source": [
    "#hide\n",
    "# cols = ['name','group','day','value']"
   ]
  },
  {
   "cell_type": "code",
   "execution_count": 37,
   "id": "continued-sleeping",
   "metadata": {
    "execution": {
     "iopub.execute_input": "2021-07-28T00:21:20.057122Z",
     "iopub.status.busy": "2021-07-28T00:21:20.056488Z",
     "iopub.status.idle": "2021-07-28T00:21:20.058888Z",
     "shell.execute_reply": "2021-07-28T00:21:20.058390Z"
    },
    "papermill": {
     "duration": 0.04374,
     "end_time": "2021-07-28T00:21:20.059001",
     "exception": false,
     "start_time": "2021-07-28T00:21:20.015261",
     "status": "completed"
    },
    "tags": []
   },
   "outputs": [],
   "source": [
    "#hide\n",
    "# g.rename(columns= {'date':'day'},inplace = True)"
   ]
  },
  {
   "cell_type": "code",
   "execution_count": 38,
   "id": "major-fight",
   "metadata": {
    "execution": {
     "iopub.execute_input": "2021-07-28T00:21:20.145123Z",
     "iopub.status.busy": "2021-07-28T00:21:20.144470Z",
     "iopub.status.idle": "2021-07-28T00:21:20.146956Z",
     "shell.execute_reply": "2021-07-28T00:21:20.146347Z"
    },
    "papermill": {
     "duration": 0.044842,
     "end_time": "2021-07-28T00:21:20.147079",
     "exception": false,
     "start_time": "2021-07-28T00:21:20.102237",
     "status": "completed"
    },
    "tags": []
   },
   "outputs": [],
   "source": [
    "#hide\n",
    "# g = g[cols]"
   ]
  },
  {
   "cell_type": "code",
   "execution_count": 39,
   "id": "structured-mobile",
   "metadata": {
    "execution": {
     "iopub.execute_input": "2021-07-28T00:21:20.227433Z",
     "iopub.status.busy": "2021-07-28T00:21:20.226625Z",
     "iopub.status.idle": "2021-07-28T00:21:20.230034Z",
     "shell.execute_reply": "2021-07-28T00:21:20.229511Z"
    },
    "papermill": {
     "duration": 0.044612,
     "end_time": "2021-07-28T00:21:20.230158",
     "exception": false,
     "start_time": "2021-07-28T00:21:20.185546",
     "status": "completed"
    },
    "tags": []
   },
   "outputs": [],
   "source": [
    "# #hide\n",
    "# g = g[g.group.notna()]"
   ]
  },
  {
   "cell_type": "code",
   "execution_count": 40,
   "id": "determined-closing",
   "metadata": {
    "execution": {
     "iopub.execute_input": "2021-07-28T00:21:20.313294Z",
     "iopub.status.busy": "2021-07-28T00:21:20.312521Z",
     "iopub.status.idle": "2021-07-28T00:21:20.314962Z",
     "shell.execute_reply": "2021-07-28T00:21:20.314461Z"
    },
    "papermill": {
     "duration": 0.046672,
     "end_time": "2021-07-28T00:21:20.315084",
     "exception": false,
     "start_time": "2021-07-28T00:21:20.268412",
     "status": "completed"
    },
    "tags": []
   },
   "outputs": [],
   "source": [
    "# #hide\n",
    "# colors = dict(zip(\n",
    "#     [\"Oceania\", \"Europe\", \"Asia\", \"South America\", \"Middle East\", \"North America\", \"Africa\"],\n",
    "#     [\"#adb0ff\", \"#ffb3ff\", \"#90d595\", \"#e48381\", \"#aafbff\", \"#f7bb5f\", \"#eafb50\"]\n",
    "# ))\n",
    "# group_lk = g.set_index('name')['group'].to_dict()"
   ]
  },
  {
   "cell_type": "code",
   "execution_count": null,
   "id": "gross-drinking",
   "metadata": {
    "papermill": {
     "duration": 0.040205,
     "end_time": "2021-07-28T00:21:20.393944",
     "exception": false,
     "start_time": "2021-07-28T00:21:20.353739",
     "status": "completed"
    },
    "tags": []
   },
   "outputs": [],
   "source": []
  },
  {
   "cell_type": "code",
   "execution_count": 41,
   "id": "subject-macintosh",
   "metadata": {
    "execution": {
     "iopub.execute_input": "2021-07-28T00:21:20.471852Z",
     "iopub.status.busy": "2021-07-28T00:21:20.471143Z",
     "iopub.status.idle": "2021-07-28T00:21:20.473125Z",
     "shell.execute_reply": "2021-07-28T00:21:20.473573Z"
    },
    "papermill": {
     "duration": 0.04534,
     "end_time": "2021-07-28T00:21:20.473698",
     "exception": false,
     "start_time": "2021-07-28T00:21:20.428358",
     "status": "completed"
    },
    "tags": []
   },
   "outputs": [],
   "source": [
    "# #hide\n",
    "# fig, ax = plt.subplots(figsize=(15, 8))\n",
    "\n",
    "# def draw_barchart(current_day):\n",
    "#     dff = g[g['day'].eq(current_day)].sort_values(by='value', ascending=True).tail(10)\n",
    "#     ax.clear()\n",
    "#     ax.barh(dff['name'], dff['value'], color=[colors[group_lk[x]] for x in dff['name']])\n",
    "#     dx = dff['value'].max() / 200\n",
    "    \n",
    "#     for i, (value, name) in enumerate(zip(dff['value'], dff['name'])):\n",
    "#         ax.text(value-dx, i,     name,           size=14, weight=600, ha='right', va='bottom')\n",
    "#         ax.text(value-dx, i-.25, group_lk[name], size=10, color='#444444', ha='right', va='baseline')\n",
    "#         ax.text(value+dx, i,     f'{value:,.0f}',  size=14, ha='left',  va='center')\n",
    "#     ax.text(1, 0.4, current_day, transform=ax.transAxes, color='#777777', size=46, ha='right', weight=800)\n",
    "#     ax.text(0, 1.06, 'Population (thousands)', transform=ax.transAxes, size=12, color='#777777')\n",
    "#     ax.xaxis.set_major_formatter(ticker.StrMethodFormatter('{x:,.0f}'))\n",
    "#     ax.xaxis.set_ticks_position('top')\n",
    "#     ax.tick_params(axis='x', colors='#777777', labelsize=12)\n",
    "#     ax.set_yticks([])\n",
    "#     ax.margins(0, 0.01)\n",
    "#     ax.grid(which='major', axis='x', linestyle='-')\n",
    "#     ax.set_axisbelow(True)\n",
    "    \n",
    "#     ax.text(0, 1.15, 'Coronavirus',\n",
    "#             transform=ax.transAxes, size=24, weight=600, ha='left', va='top')\n",
    "# #     ax.text(1, 0, 'by @pratapvardhan; credit @jburnmurdoch', transform=ax.transAxes, color='#777777', ha='right',\n",
    "# #             bbox=dict(facecolor='white', alpha=0.8, edgecolor='white'))\n",
    "#     plt.box(False)"
   ]
  },
  {
   "cell_type": "code",
   "execution_count": 42,
   "id": "sexual-wages",
   "metadata": {
    "execution": {
     "iopub.execute_input": "2021-07-28T00:21:20.552770Z",
     "iopub.status.busy": "2021-07-28T00:21:20.552196Z",
     "iopub.status.idle": "2021-07-28T00:21:20.554355Z",
     "shell.execute_reply": "2021-07-28T00:21:20.554949Z"
    },
    "papermill": {
     "duration": 0.043837,
     "end_time": "2021-07-28T00:21:20.555096",
     "exception": false,
     "start_time": "2021-07-28T00:21:20.511259",
     "status": "completed"
    },
    "tags": []
   },
   "outputs": [],
   "source": [
    "# #hide_input\n",
    "# fig, ax = plt.subplots(figsize=(15, 8))\n",
    "# animator = animation.FuncAnimation(fig, draw_barchart, frames=range(g.day.values.min(), g.day.values.max()))\n",
    "# HTML(animator.to_jshtml())\n",
    "# # or use animator.to_html5_video() or animator.save() "
   ]
  },
  {
   "cell_type": "code",
   "execution_count": null,
   "id": "australian-container",
   "metadata": {
    "papermill": {
     "duration": 0.035865,
     "end_time": "2021-07-28T00:21:20.626995",
     "exception": false,
     "start_time": "2021-07-28T00:21:20.591130",
     "status": "completed"
    },
    "tags": []
   },
   "outputs": [],
   "source": []
  },
  {
   "cell_type": "code",
   "execution_count": null,
   "id": "mediterranean-pontiac",
   "metadata": {
    "papermill": {
     "duration": 0.037773,
     "end_time": "2021-07-28T00:21:20.701366",
     "exception": false,
     "start_time": "2021-07-28T00:21:20.663593",
     "status": "completed"
    },
    "tags": []
   },
   "outputs": [],
   "source": []
  },
  {
   "cell_type": "code",
   "execution_count": null,
   "id": "aging-legislature",
   "metadata": {
    "papermill": {
     "duration": 0.038157,
     "end_time": "2021-07-28T00:21:20.777637",
     "exception": false,
     "start_time": "2021-07-28T00:21:20.739480",
     "status": "completed"
    },
    "tags": []
   },
   "outputs": [],
   "source": []
  }
 ],
 "metadata": {
  "kernelspec": {
   "display_name": "Python 3",
   "language": "python",
   "name": "python3"
  },
  "language_info": {
   "codemirror_mode": {
    "name": "ipython",
    "version": 3
   },
   "file_extension": ".py",
   "mimetype": "text/x-python",
   "name": "python",
   "nbconvert_exporter": "python",
   "pygments_lexer": "ipython3",
   "version": "3.6.14"
  },
  "papermill": {
   "duration": 7.036198,
   "end_time": "2021-07-28T00:21:21.124700",
   "environment_variables": {},
   "exception": null,
   "input_path": "2020-03-21-covid19exp.ipynb",
   "output_path": "2020-03-21-covid19exp.ipynb",
   "parameters": {},
   "start_time": "2021-07-28T00:21:14.088502",
   "version": "2.0.0"
  }
 },
 "nbformat": 4,
 "nbformat_minor": 5
}