{
 "cells": [
  {
   "cell_type": "markdown",
   "id": "muslim-click",
   "metadata": {
    "papermill": {
     "duration": 0.042814,
     "end_time": "2021-08-08T12:09:53.123577",
     "exception": false,
     "start_time": "2021-08-08T12:09:53.080763",
     "status": "completed"
    },
    "tags": []
   },
   "source": [
    "# COVID-19 Case Race\n",
    "> A race chart to see rising cases around the world\n",
    "\n",
    "- author: Hargun Oberoi\n",
    "- image: images/covid-overview.png\n",
    "- hide: false\n",
    "- badges: false"
   ]
  },
  {
   "cell_type": "code",
   "execution_count": 1,
   "id": "proof-material",
   "metadata": {
    "execution": {
     "iopub.execute_input": "2021-08-08T12:09:53.211032Z",
     "iopub.status.busy": "2021-08-08T12:09:53.210397Z",
     "iopub.status.idle": "2021-08-08T12:09:53.599247Z",
     "shell.execute_reply": "2021-08-08T12:09:53.598589Z"
    },
    "papermill": {
     "duration": 0.43835,
     "end_time": "2021-08-08T12:09:53.599383",
     "exception": false,
     "start_time": "2021-08-08T12:09:53.161033",
     "status": "completed"
    },
    "tags": []
   },
   "outputs": [],
   "source": [
    "#hide\n",
    "import numpy as np\n",
    "import pandas as pd\n",
    "from jinja2 import Template\n",
    "from IPython.display import HTML"
   ]
  },
  {
   "cell_type": "code",
   "execution_count": 2,
   "id": "developed-terminology",
   "metadata": {
    "execution": {
     "iopub.execute_input": "2021-08-08T12:09:53.683502Z",
     "iopub.status.busy": "2021-08-08T12:09:53.682720Z",
     "iopub.status.idle": "2021-08-08T12:09:53.685588Z",
     "shell.execute_reply": "2021-08-08T12:09:53.684909Z"
    },
    "papermill": {
     "duration": 0.045197,
     "end_time": "2021-08-08T12:09:53.685719",
     "exception": false,
     "start_time": "2021-08-08T12:09:53.640522",
     "status": "completed"
    },
    "tags": []
   },
   "outputs": [],
   "source": [
    "#hide\n",
    "\n",
    "# FETCH\n",
    "base_url = 'https://raw.githubusercontent.com/pratapvardhan/notebooks/master/covid19/'\n",
    "paths = {\n",
    "    'mapping': base_url + 'mapping_countries.csv',\n",
    "    'overview': base_url + 'overview.tpl'\n",
    "}"
   ]
  },
  {
   "cell_type": "code",
   "execution_count": 3,
   "id": "dynamic-saver",
   "metadata": {
    "execution": {
     "iopub.execute_input": "2021-08-08T12:09:53.775143Z",
     "iopub.status.busy": "2021-08-08T12:09:53.774208Z",
     "iopub.status.idle": "2021-08-08T12:09:53.777831Z",
     "shell.execute_reply": "2021-08-08T12:09:53.778372Z"
    },
    "papermill": {
     "duration": 0.05349,
     "end_time": "2021-08-08T12:09:53.778522",
     "exception": false,
     "start_time": "2021-08-08T12:09:53.725032",
     "status": "completed"
    },
    "tags": []
   },
   "outputs": [
    {
     "data": {
      "text/plain": [
       "'https://raw.githubusercontent.com/pratapvardhan/notebooks/master/covid19/mapping_countries.csv'"
      ]
     },
     "execution_count": 3,
     "metadata": {},
     "output_type": "execute_result"
    }
   ],
   "source": [
    "#hide\n",
    "paths['mapping']"
   ]
  },
  {
   "cell_type": "code",
   "execution_count": 4,
   "id": "urban-software",
   "metadata": {
    "execution": {
     "iopub.execute_input": "2021-08-08T12:09:53.859966Z",
     "iopub.status.busy": "2021-08-08T12:09:53.859171Z",
     "iopub.status.idle": "2021-08-08T12:09:53.862146Z",
     "shell.execute_reply": "2021-08-08T12:09:53.861652Z"
    },
    "papermill": {
     "duration": 0.045189,
     "end_time": "2021-08-08T12:09:53.862301",
     "exception": false,
     "start_time": "2021-08-08T12:09:53.817112",
     "status": "completed"
    },
    "tags": []
   },
   "outputs": [],
   "source": [
    "#hide\n",
    "def get_mappings(url):\n",
    "    df = pd.read_csv(url)\n",
    "    return {\n",
    "        'df': df,\n",
    "        'replace.country': dict(df.dropna(subset=['Name']).set_index('Country')['Name']),\n",
    "        'map.continent': dict(df.set_index('Name')['Continent'])\n",
    "    }"
   ]
  },
  {
   "cell_type": "code",
   "execution_count": 5,
   "id": "intimate-machinery",
   "metadata": {
    "execution": {
     "iopub.execute_input": "2021-08-08T12:09:53.942845Z",
     "iopub.status.busy": "2021-08-08T12:09:53.942203Z",
     "iopub.status.idle": "2021-08-08T12:09:53.984768Z",
     "shell.execute_reply": "2021-08-08T12:09:53.985224Z"
    },
    "papermill": {
     "duration": 0.087121,
     "end_time": "2021-08-08T12:09:53.985368",
     "exception": false,
     "start_time": "2021-08-08T12:09:53.898247",
     "status": "completed"
    },
    "tags": []
   },
   "outputs": [],
   "source": [
    "#hide\n",
    "mapping = get_mappings(paths['mapping'])"
   ]
  },
  {
   "cell_type": "code",
   "execution_count": 6,
   "id": "certified-tactics",
   "metadata": {
    "execution": {
     "iopub.execute_input": "2021-08-08T12:09:54.071299Z",
     "iopub.status.busy": "2021-08-08T12:09:54.070678Z",
     "iopub.status.idle": "2021-08-08T12:09:54.073057Z",
     "shell.execute_reply": "2021-08-08T12:09:54.072453Z"
    },
    "papermill": {
     "duration": 0.048023,
     "end_time": "2021-08-08T12:09:54.073176",
     "exception": false,
     "start_time": "2021-08-08T12:09:54.025153",
     "status": "completed"
    },
    "tags": []
   },
   "outputs": [],
   "source": [
    "#hide\n",
    "def get_template(path):\n",
    "    from urllib.parse import urlparse\n",
    "    if bool(urlparse(path).netloc):\n",
    "        from urllib.request import urlopen\n",
    "        return urlopen(path).read().decode('utf8')\n",
    "    return open(path).read()"
   ]
  },
  {
   "cell_type": "code",
   "execution_count": 7,
   "id": "realistic-blast",
   "metadata": {
    "execution": {
     "iopub.execute_input": "2021-08-08T12:09:54.154747Z",
     "iopub.status.busy": "2021-08-08T12:09:54.153987Z",
     "iopub.status.idle": "2021-08-08T12:09:54.156442Z",
     "shell.execute_reply": "2021-08-08T12:09:54.156891Z"
    },
    "papermill": {
     "duration": 0.045542,
     "end_time": "2021-08-08T12:09:54.157073",
     "exception": false,
     "start_time": "2021-08-08T12:09:54.111531",
     "status": "completed"
    },
    "tags": []
   },
   "outputs": [],
   "source": [
    "#hide\n",
    "def get_frame(name):\n",
    "    url = (\n",
    "        'https://raw.githubusercontent.com/CSSEGISandData/COVID-19/master/csse_covid_19_data/'\n",
    "        f'csse_covid_19_time_series/time_series_covid19_{name}_global.csv')\n",
    "    df = pd.read_csv(url)\n",
    "    # rename countries\n",
    "    df['Country/Region'] = df['Country/Region'].replace(mapping['replace.country'])\n",
    "    return df"
   ]
  },
  {
   "cell_type": "code",
   "execution_count": 8,
   "id": "affiliated-characterization",
   "metadata": {
    "execution": {
     "iopub.execute_input": "2021-08-08T12:09:54.242979Z",
     "iopub.status.busy": "2021-08-08T12:09:54.242337Z",
     "iopub.status.idle": "2021-08-08T12:09:54.244923Z",
     "shell.execute_reply": "2021-08-08T12:09:54.244338Z"
    },
    "papermill": {
     "duration": 0.049385,
     "end_time": "2021-08-08T12:09:54.245046",
     "exception": false,
     "start_time": "2021-08-08T12:09:54.195661",
     "status": "completed"
    },
    "tags": []
   },
   "outputs": [],
   "source": [
    "#hide\n",
    "def get_dates(df):\n",
    "    dt_cols = df.columns[~df.columns.isin(['Province/State', 'Country/Region', 'Lat', 'Long'])]\n",
    "    LAST_DATE_I = -1\n",
    "    # sometimes last column may be empty, then go backwards\n",
    "    for i in range(-1, -len(dt_cols), -1):\n",
    "        if not df[dt_cols[i]].fillna(0).eq(0).all():\n",
    "            LAST_DATE_I = i\n",
    "            break\n",
    "    return LAST_DATE_I, dt_cols"
   ]
  },
  {
   "cell_type": "code",
   "execution_count": 9,
   "id": "recent-optimization",
   "metadata": {
    "execution": {
     "iopub.execute_input": "2021-08-08T12:09:54.327508Z",
     "iopub.status.busy": "2021-08-08T12:09:54.326833Z",
     "iopub.status.idle": "2021-08-08T12:09:54.739058Z",
     "shell.execute_reply": "2021-08-08T12:09:54.737694Z"
    },
    "papermill": {
     "duration": 0.455793,
     "end_time": "2021-08-08T12:09:54.739183",
     "exception": false,
     "start_time": "2021-08-08T12:09:54.283390",
     "status": "completed"
    },
    "tags": []
   },
   "outputs": [],
   "source": [
    "#hide\n",
    "COL_REGION = 'Country/Region'\n",
    "# Confirmed, Recovered, Deaths\n",
    "df = get_frame('confirmed')\n",
    "# dft_: timeseries, dfc_: today country agg\n",
    "dft_cases = df\n",
    "dft_deaths = get_frame('deaths')\n",
    "dft_recovered = get_frame('recovered')\n",
    "LAST_DATE_I, dt_cols = get_dates(df)"
   ]
  },
  {
   "cell_type": "code",
   "execution_count": 10,
   "id": "absolute-copper",
   "metadata": {
    "execution": {
     "iopub.execute_input": "2021-08-08T12:09:54.819141Z",
     "iopub.status.busy": "2021-08-08T12:09:54.818142Z",
     "iopub.status.idle": "2021-08-08T12:09:54.820112Z",
     "shell.execute_reply": "2021-08-08T12:09:54.820573Z"
    },
    "papermill": {
     "duration": 0.043569,
     "end_time": "2021-08-08T12:09:54.820699",
     "exception": false,
     "start_time": "2021-08-08T12:09:54.777130",
     "status": "completed"
    },
    "tags": []
   },
   "outputs": [],
   "source": [
    "#hide\n",
    "LAST_DATE_I, dt_cols = get_dates(df)\n",
    "dt_today =dt_cols[LAST_DATE_I]\n",
    "# dt_5day = dt_cols[LAST_DATE_I - 5]\n",
    "dt_yday = dt_cols[LAST_DATE_I - 1]"
   ]
  },
  {
   "cell_type": "code",
   "execution_count": 11,
   "id": "restricted-sheriff",
   "metadata": {
    "execution": {
     "iopub.execute_input": "2021-08-08T12:09:54.900091Z",
     "iopub.status.busy": "2021-08-08T12:09:54.899250Z",
     "iopub.status.idle": "2021-08-08T12:09:54.909259Z",
     "shell.execute_reply": "2021-08-08T12:09:54.908452Z"
    },
    "papermill": {
     "duration": 0.051797,
     "end_time": "2021-08-08T12:09:54.909388",
     "exception": false,
     "start_time": "2021-08-08T12:09:54.857591",
     "status": "completed"
    },
    "tags": []
   },
   "outputs": [],
   "source": [
    "#hide\n",
    "dfc_cases = dft_cases.groupby(COL_REGION)[dt_today].sum()\n",
    "dfc_deaths = dft_deaths.groupby(COL_REGION)[dt_today].sum()\n",
    "# dfp_cases = dft_cases.groupby(COL_REGION)[dt_5day].sum()\n",
    "# dfp_deaths = dft_deaths.groupby(COL_REGION)[dt_5day].sum()\n",
    "dfp_cases = dft_cases.groupby(COL_REGION)[dt_yday].sum()\n",
    "dfp_deaths = dft_deaths.groupby(COL_REGION)[dt_yday].sum()"
   ]
  },
  {
   "cell_type": "code",
   "execution_count": 12,
   "id": "deluxe-hepatitis",
   "metadata": {
    "execution": {
     "iopub.execute_input": "2021-08-08T12:09:54.988821Z",
     "iopub.status.busy": "2021-08-08T12:09:54.988212Z",
     "iopub.status.idle": "2021-08-08T12:09:54.994178Z",
     "shell.execute_reply": "2021-08-08T12:09:54.994793Z"
    },
    "papermill": {
     "duration": 0.049633,
     "end_time": "2021-08-08T12:09:54.994915",
     "exception": false,
     "start_time": "2021-08-08T12:09:54.945282",
     "status": "completed"
    },
    "tags": []
   },
   "outputs": [],
   "source": [
    "#hide\n",
    "df_table = (pd.DataFrame(dict(Cases = dfc_cases, Deaths = dfc_deaths, PCases = dfp_cases, PDeaths = dfp_deaths))\n",
    "            .sort_values(by = ['Cases','Deaths'], ascending = [False, False])\n",
    "            .reset_index())"
   ]
  },
  {
   "cell_type": "code",
   "execution_count": 13,
   "id": "educational-chancellor",
   "metadata": {
    "execution": {
     "iopub.execute_input": "2021-08-08T12:09:55.091434Z",
     "iopub.status.busy": "2021-08-08T12:09:55.090811Z",
     "iopub.status.idle": "2021-08-08T12:09:55.099271Z",
     "shell.execute_reply": "2021-08-08T12:09:55.099757Z"
    },
    "papermill": {
     "duration": 0.066599,
     "end_time": "2021-08-08T12:09:55.099880",
     "exception": false,
     "start_time": "2021-08-08T12:09:55.033281",
     "status": "completed"
    },
    "tags": []
   },
   "outputs": [
    {
     "data": {
      "text/html": [
       "<div>\n",
       "<style scoped>\n",
       "    .dataframe tbody tr th:only-of-type {\n",
       "        vertical-align: middle;\n",
       "    }\n",
       "\n",
       "    .dataframe tbody tr th {\n",
       "        vertical-align: top;\n",
       "    }\n",
       "\n",
       "    .dataframe thead th {\n",
       "        text-align: right;\n",
       "    }\n",
       "</style>\n",
       "<table border=\"1\" class=\"dataframe\">\n",
       "  <thead>\n",
       "    <tr style=\"text-align: right;\">\n",
       "      <th></th>\n",
       "      <th>Country/Region</th>\n",
       "      <th>Cases</th>\n",
       "      <th>Deaths</th>\n",
       "      <th>PCases</th>\n",
       "      <th>PDeaths</th>\n",
       "      <th>Cases (+)</th>\n",
       "      <th>Deaths (+)</th>\n",
       "      <th>Fatality Rate</th>\n",
       "      <th>Continent</th>\n",
       "    </tr>\n",
       "  </thead>\n",
       "  <tbody>\n",
       "    <tr>\n",
       "      <th>0</th>\n",
       "      <td>US</td>\n",
       "      <td>35739551</td>\n",
       "      <td>616718</td>\n",
       "      <td>35695469</td>\n",
       "      <td>616493</td>\n",
       "      <td>44082</td>\n",
       "      <td>225</td>\n",
       "      <td>1.73</td>\n",
       "      <td>North America</td>\n",
       "    </tr>\n",
       "    <tr>\n",
       "      <th>1</th>\n",
       "      <td>India</td>\n",
       "      <td>31934455</td>\n",
       "      <td>427862</td>\n",
       "      <td>31895385</td>\n",
       "      <td>427371</td>\n",
       "      <td>39070</td>\n",
       "      <td>491</td>\n",
       "      <td>1.34</td>\n",
       "      <td>Asia</td>\n",
       "    </tr>\n",
       "    <tr>\n",
       "      <th>2</th>\n",
       "      <td>Brazil</td>\n",
       "      <td>20151779</td>\n",
       "      <td>562752</td>\n",
       "      <td>20108746</td>\n",
       "      <td>561762</td>\n",
       "      <td>43033</td>\n",
       "      <td>990</td>\n",
       "      <td>2.79</td>\n",
       "      <td>South America</td>\n",
       "    </tr>\n",
       "    <tr>\n",
       "      <th>3</th>\n",
       "      <td>France</td>\n",
       "      <td>6350899</td>\n",
       "      <td>112379</td>\n",
       "      <td>6325144</td>\n",
       "      <td>112347</td>\n",
       "      <td>25755</td>\n",
       "      <td>32</td>\n",
       "      <td>1.77</td>\n",
       "      <td>Europe</td>\n",
       "    </tr>\n",
       "    <tr>\n",
       "      <th>4</th>\n",
       "      <td>Russia</td>\n",
       "      <td>6340370</td>\n",
       "      <td>161343</td>\n",
       "      <td>6318643</td>\n",
       "      <td>160574</td>\n",
       "      <td>21727</td>\n",
       "      <td>769</td>\n",
       "      <td>2.54</td>\n",
       "      <td>Europe</td>\n",
       "    </tr>\n",
       "  </tbody>\n",
       "</table>\n",
       "</div>"
      ],
      "text/plain": [
       "  Country/Region     Cases  Deaths    PCases  PDeaths  Cases (+)  Deaths (+)  \\\n",
       "0             US  35739551  616718  35695469   616493      44082         225   \n",
       "1          India  31934455  427862  31895385   427371      39070         491   \n",
       "2         Brazil  20151779  562752  20108746   561762      43033         990   \n",
       "3         France   6350899  112379   6325144   112347      25755          32   \n",
       "4         Russia   6340370  161343   6318643   160574      21727         769   \n",
       "\n",
       "   Fatality Rate      Continent  \n",
       "0           1.73  North America  \n",
       "1           1.34           Asia  \n",
       "2           2.79  South America  \n",
       "3           1.77         Europe  \n",
       "4           2.54         Europe  "
      ]
     },
     "execution_count": 13,
     "metadata": {},
     "output_type": "execute_result"
    }
   ],
   "source": [
    "#hide\n",
    "for c in 'Cases, Deaths'.split(', '):\n",
    "    df_table[f'{c} (+)'] = (df_table[c] - df_table[f'P{c}']).clip(0)\n",
    "    #Clip ça veut dire, les chiffres negatif sont interdit\n",
    "df_table['Fatality Rate'] = (100* df_table['Deaths']/ df_table['Cases']).round(2)\n",
    "df_table['Continent'] = df_table['Country/Region'].map(mapping['map.continent'])\n",
    "df_table.head(5)"
   ]
  },
  {
   "cell_type": "code",
   "execution_count": 14,
   "id": "aboriginal-bulgaria",
   "metadata": {
    "execution": {
     "iopub.execute_input": "2021-08-08T12:09:55.180696Z",
     "iopub.status.busy": "2021-08-08T12:09:55.180107Z",
     "iopub.status.idle": "2021-08-08T12:09:55.182737Z",
     "shell.execute_reply": "2021-08-08T12:09:55.182204Z"
    },
    "papermill": {
     "duration": 0.045934,
     "end_time": "2021-08-08T12:09:55.182846",
     "exception": false,
     "start_time": "2021-08-08T12:09:55.136912",
     "status": "completed"
    },
    "tags": []
   },
   "outputs": [],
   "source": [
    "#hide\n",
    "#delete problematic countries from table\n",
    "df_table = df_table[~df_table['Country/Region'].isin(['Cape Verde', 'Cruise Ship', 'Kosovo'])]"
   ]
  },
  {
   "cell_type": "code",
   "execution_count": 15,
   "id": "fantastic-effect",
   "metadata": {
    "execution": {
     "iopub.execute_input": "2021-08-08T12:09:55.267176Z",
     "iopub.status.busy": "2021-08-08T12:09:55.266535Z",
     "iopub.status.idle": "2021-08-08T12:09:55.289205Z",
     "shell.execute_reply": "2021-08-08T12:09:55.289676Z"
    },
    "papermill": {
     "duration": 0.068767,
     "end_time": "2021-08-08T12:09:55.289845",
     "exception": false,
     "start_time": "2021-08-08T12:09:55.221078",
     "status": "completed"
    },
    "tags": []
   },
   "outputs": [
    {
     "data": {
      "text/html": [
       "<div>\n",
       "<style scoped>\n",
       "    .dataframe tbody tr th:only-of-type {\n",
       "        vertical-align: middle;\n",
       "    }\n",
       "\n",
       "    .dataframe tbody tr th {\n",
       "        vertical-align: top;\n",
       "    }\n",
       "\n",
       "    .dataframe thead th {\n",
       "        text-align: right;\n",
       "    }\n",
       "</style>\n",
       "<table border=\"1\" class=\"dataframe\">\n",
       "  <thead>\n",
       "    <tr style=\"text-align: right;\">\n",
       "      <th></th>\n",
       "      <th>Country/Region</th>\n",
       "      <th>Cases</th>\n",
       "      <th>Deaths</th>\n",
       "      <th>PCases</th>\n",
       "      <th>PDeaths</th>\n",
       "      <th>Cases (+)</th>\n",
       "      <th>Deaths (+)</th>\n",
       "      <th>Fatality Rate</th>\n",
       "      <th>Continent</th>\n",
       "    </tr>\n",
       "  </thead>\n",
       "  <tbody>\n",
       "    <tr>\n",
       "      <th>0</th>\n",
       "      <td>US</td>\n",
       "      <td>35739551</td>\n",
       "      <td>616718</td>\n",
       "      <td>35695469</td>\n",
       "      <td>616493</td>\n",
       "      <td>44082</td>\n",
       "      <td>225</td>\n",
       "      <td>1.7</td>\n",
       "      <td>North America</td>\n",
       "    </tr>\n",
       "    <tr>\n",
       "      <th>1</th>\n",
       "      <td>India</td>\n",
       "      <td>31934455</td>\n",
       "      <td>427862</td>\n",
       "      <td>31895385</td>\n",
       "      <td>427371</td>\n",
       "      <td>39070</td>\n",
       "      <td>491</td>\n",
       "      <td>1.3</td>\n",
       "      <td>Asia</td>\n",
       "    </tr>\n",
       "    <tr>\n",
       "      <th>2</th>\n",
       "      <td>Brazil</td>\n",
       "      <td>20151779</td>\n",
       "      <td>562752</td>\n",
       "      <td>20108746</td>\n",
       "      <td>561762</td>\n",
       "      <td>43033</td>\n",
       "      <td>990</td>\n",
       "      <td>2.8</td>\n",
       "      <td>South America</td>\n",
       "    </tr>\n",
       "    <tr>\n",
       "      <th>3</th>\n",
       "      <td>France</td>\n",
       "      <td>6350899</td>\n",
       "      <td>112379</td>\n",
       "      <td>6325144</td>\n",
       "      <td>112347</td>\n",
       "      <td>25755</td>\n",
       "      <td>32</td>\n",
       "      <td>1.8</td>\n",
       "      <td>Europe</td>\n",
       "    </tr>\n",
       "    <tr>\n",
       "      <th>4</th>\n",
       "      <td>Russia</td>\n",
       "      <td>6340370</td>\n",
       "      <td>161343</td>\n",
       "      <td>6318643</td>\n",
       "      <td>160574</td>\n",
       "      <td>21727</td>\n",
       "      <td>769</td>\n",
       "      <td>2.5</td>\n",
       "      <td>Europe</td>\n",
       "    </tr>\n",
       "  </tbody>\n",
       "</table>\n",
       "</div>"
      ],
      "text/plain": [
       "  Country/Region     Cases  Deaths    PCases  PDeaths  Cases (+)  Deaths (+)  \\\n",
       "0             US  35739551  616718  35695469   616493      44082         225   \n",
       "1          India  31934455  427862  31895385   427371      39070         491   \n",
       "2         Brazil  20151779  562752  20108746   561762      43033         990   \n",
       "3         France   6350899  112379   6325144   112347      25755          32   \n",
       "4         Russia   6340370  161343   6318643   160574      21727         769   \n",
       "\n",
       "   Fatality Rate      Continent  \n",
       "0            1.7  North America  \n",
       "1            1.3           Asia  \n",
       "2            2.8  South America  \n",
       "3            1.8         Europe  \n",
       "4            2.5         Europe  "
      ]
     },
     "execution_count": 15,
     "metadata": {},
     "output_type": "execute_result"
    }
   ],
   "source": [
    "#hide\n",
    "df_table = (pd.DataFrame(dict(Cases=dfc_cases, Deaths=dfc_deaths, PCases=dfp_cases, PDeaths=dfp_deaths))\n",
    "             .sort_values(by=['Cases', 'Deaths'], ascending=[False, False])\n",
    "             .reset_index())\n",
    "df_table.rename(columns={'index': 'Country/Region'}, inplace=True)\n",
    "for c in 'Cases, Deaths'.split(', '):\n",
    "    df_table[f'{c} (+)'] = (df_table[c] - df_table[f'P{c}']).clip(0)  # DATA BUG\n",
    "df_table['Fatality Rate'] = (100 * df_table['Deaths'] / df_table['Cases']).round(1)\n",
    "df_table['Continent'] = df_table['Country/Region'].map(mapping['map.continent'])\n",
    "df_table.head(5)"
   ]
  },
  {
   "cell_type": "code",
   "execution_count": 16,
   "id": "fewer-occasion",
   "metadata": {
    "execution": {
     "iopub.execute_input": "2021-08-08T12:09:55.371418Z",
     "iopub.status.busy": "2021-08-08T12:09:55.370835Z",
     "iopub.status.idle": "2021-08-08T12:09:55.374032Z",
     "shell.execute_reply": "2021-08-08T12:09:55.374782Z"
    },
    "papermill": {
     "duration": 0.046784,
     "end_time": "2021-08-08T12:09:55.374907",
     "exception": false,
     "start_time": "2021-08-08T12:09:55.328123",
     "status": "completed"
    },
    "tags": []
   },
   "outputs": [],
   "source": [
    "#hide\n",
    "#delete problematic countries from table\n",
    "df_table = df_table[~df_table['Country/Region'].isin(['Cape Verde', 'Cruise Ship', 'Kosovo'])]"
   ]
  },
  {
   "cell_type": "code",
   "execution_count": 17,
   "id": "related-center",
   "metadata": {
    "execution": {
     "iopub.execute_input": "2021-08-08T12:09:55.474500Z",
     "iopub.status.busy": "2021-08-08T12:09:55.473702Z",
     "iopub.status.idle": "2021-08-08T12:09:55.476575Z",
     "shell.execute_reply": "2021-08-08T12:09:55.476016Z"
    },
    "papermill": {
     "duration": 0.064641,
     "end_time": "2021-08-08T12:09:55.476695",
     "exception": false,
     "start_time": "2021-08-08T12:09:55.412054",
     "status": "completed"
    },
    "tags": []
   },
   "outputs": [],
   "source": [
    "#hide\n",
    "metrics = [df_table.columns[index] for index in [1,2,5,6]]\n",
    "# s_china = df_table[df_table['Country/Region'].eq('China')][metrics].sum().add_prefix('China ')\n",
    "s_us = df_table[df_table['Country/Region'].eq('US')][metrics].sum().add_prefix('US ')\n",
    "s_eu = df_table[df_table['Continent'].eq('Europe')][metrics].sum().add_prefix('EU ')\n",
    "s_ind = df_table[df_table['Country/Region'].eq('India')][metrics].sum().add_prefix('India ')\n",
    "summary = {'updated': pd.to_datetime(dt_today), 'since': pd.to_datetime(dt_yday)}\n",
    "summary = {'updated': pd.to_datetime(dt_today), 'since': pd.to_datetime(dt_yday)}\n",
    "summary = {**summary, **df_table[metrics].sum(), **s_ind, **s_us, **s_eu}"
   ]
  },
  {
   "cell_type": "code",
   "execution_count": 18,
   "id": "engaging-syndrome",
   "metadata": {
    "execution": {
     "iopub.execute_input": "2021-08-08T12:09:55.561011Z",
     "iopub.status.busy": "2021-08-08T12:09:55.560373Z",
     "iopub.status.idle": "2021-08-08T12:09:55.575902Z",
     "shell.execute_reply": "2021-08-08T12:09:55.575420Z"
    },
    "papermill": {
     "duration": 0.059768,
     "end_time": "2021-08-08T12:09:55.576018",
     "exception": false,
     "start_time": "2021-08-08T12:09:55.516250",
     "status": "completed"
    },
    "tags": []
   },
   "outputs": [],
   "source": [
    "#hide\n",
    "dft_ct_new_cases = dft_cases.groupby(COL_REGION)[dt_cols].sum().diff(axis=1).fillna(0).astype(int)"
   ]
  },
  {
   "cell_type": "code",
   "execution_count": 19,
   "id": "neutral-assignment",
   "metadata": {
    "execution": {
     "iopub.execute_input": "2021-08-08T12:09:55.656683Z",
     "iopub.status.busy": "2021-08-08T12:09:55.656020Z",
     "iopub.status.idle": "2021-08-08T12:09:55.658445Z",
     "shell.execute_reply": "2021-08-08T12:09:55.659073Z"
    },
    "papermill": {
     "duration": 0.046356,
     "end_time": "2021-08-08T12:09:55.659207",
     "exception": false,
     "start_time": "2021-08-08T12:09:55.612851",
     "status": "completed"
    },
    "tags": []
   },
   "outputs": [],
   "source": [
    "#hide\n",
    "everydaycases = dft_ct_new_cases.cumsum(axis=1)"
   ]
  },
  {
   "cell_type": "code",
   "execution_count": 20,
   "id": "parliamentary-calgary",
   "metadata": {
    "execution": {
     "iopub.execute_input": "2021-08-08T12:09:55.741433Z",
     "iopub.status.busy": "2021-08-08T12:09:55.740820Z",
     "iopub.status.idle": "2021-08-08T12:09:56.364508Z",
     "shell.execute_reply": "2021-08-08T12:09:56.363965Z"
    },
    "papermill": {
     "duration": 0.667097,
     "end_time": "2021-08-08T12:09:56.364655",
     "exception": false,
     "start_time": "2021-08-08T12:09:55.697558",
     "status": "completed"
    },
    "tags": []
   },
   "outputs": [],
   "source": [
    "#hide\n",
    "import pandas as pd\n",
    "import matplotlib.pyplot as plt\n",
    "import matplotlib.ticker as ticker\n",
    "import matplotlib.animation as animation\n",
    "from IPython.display import HTML"
   ]
  },
  {
   "cell_type": "code",
   "execution_count": 21,
   "id": "lasting-extraction",
   "metadata": {
    "execution": {
     "iopub.execute_input": "2021-08-08T12:09:56.444954Z",
     "iopub.status.busy": "2021-08-08T12:09:56.444383Z",
     "iopub.status.idle": "2021-08-08T12:09:56.450925Z",
     "shell.execute_reply": "2021-08-08T12:09:56.450205Z"
    },
    "papermill": {
     "duration": 0.049313,
     "end_time": "2021-08-08T12:09:56.451043",
     "exception": false,
     "start_time": "2021-08-08T12:09:56.401730",
     "status": "completed"
    },
    "tags": []
   },
   "outputs": [],
   "source": [
    "#hide\n",
    "t = everydaycases.stack()"
   ]
  },
  {
   "cell_type": "code",
   "execution_count": 22,
   "id": "premier-sleeve",
   "metadata": {
    "execution": {
     "iopub.execute_input": "2021-08-08T12:09:56.531438Z",
     "iopub.status.busy": "2021-08-08T12:09:56.530830Z",
     "iopub.status.idle": "2021-08-08T12:09:56.541006Z",
     "shell.execute_reply": "2021-08-08T12:09:56.540486Z"
    },
    "papermill": {
     "duration": 0.053263,
     "end_time": "2021-08-08T12:09:56.541123",
     "exception": false,
     "start_time": "2021-08-08T12:09:56.487860",
     "status": "completed"
    },
    "tags": []
   },
   "outputs": [],
   "source": [
    "#hide\n",
    "g = t.reset_index(['Country/Region'])"
   ]
  },
  {
   "cell_type": "code",
   "execution_count": 23,
   "id": "distributed-pittsburgh",
   "metadata": {
    "execution": {
     "iopub.execute_input": "2021-08-08T12:09:56.619738Z",
     "iopub.status.busy": "2021-08-08T12:09:56.619171Z",
     "iopub.status.idle": "2021-08-08T12:09:56.621714Z",
     "shell.execute_reply": "2021-08-08T12:09:56.621253Z"
    },
    "papermill": {
     "duration": 0.043325,
     "end_time": "2021-08-08T12:09:56.621816",
     "exception": false,
     "start_time": "2021-08-08T12:09:56.578491",
     "status": "completed"
    },
    "tags": []
   },
   "outputs": [],
   "source": [
    "#hide\n",
    "g.index.name = 'date'"
   ]
  },
  {
   "cell_type": "code",
   "execution_count": 24,
   "id": "naked-donor",
   "metadata": {
    "execution": {
     "iopub.execute_input": "2021-08-08T12:09:56.699605Z",
     "iopub.status.busy": "2021-08-08T12:09:56.699065Z",
     "iopub.status.idle": "2021-08-08T12:09:56.701049Z",
     "shell.execute_reply": "2021-08-08T12:09:56.701577Z"
    },
    "papermill": {
     "duration": 0.043089,
     "end_time": "2021-08-08T12:09:56.701687",
     "exception": false,
     "start_time": "2021-08-08T12:09:56.658598",
     "status": "completed"
    },
    "tags": []
   },
   "outputs": [],
   "source": [
    "# #hide\n",
    "# g = g.reset_index(['date'])"
   ]
  },
  {
   "cell_type": "code",
   "execution_count": 25,
   "id": "incomplete-mustang",
   "metadata": {
    "execution": {
     "iopub.execute_input": "2021-08-08T12:09:56.779649Z",
     "iopub.status.busy": "2021-08-08T12:09:56.779048Z",
     "iopub.status.idle": "2021-08-08T12:09:56.782047Z",
     "shell.execute_reply": "2021-08-08T12:09:56.781410Z"
    },
    "papermill": {
     "duration": 0.042807,
     "end_time": "2021-08-08T12:09:56.782162",
     "exception": false,
     "start_time": "2021-08-08T12:09:56.739355",
     "status": "completed"
    },
    "tags": []
   },
   "outputs": [],
   "source": [
    "#hide\n",
    "# g.head()"
   ]
  },
  {
   "cell_type": "code",
   "execution_count": 26,
   "id": "specific-kruger",
   "metadata": {
    "execution": {
     "iopub.execute_input": "2021-08-08T12:09:56.858740Z",
     "iopub.status.busy": "2021-08-08T12:09:56.858054Z",
     "iopub.status.idle": "2021-08-08T12:09:56.860584Z",
     "shell.execute_reply": "2021-08-08T12:09:56.861335Z"
    },
    "papermill": {
     "duration": 0.042431,
     "end_time": "2021-08-08T12:09:56.861502",
     "exception": false,
     "start_time": "2021-08-08T12:09:56.819071",
     "status": "completed"
    },
    "tags": []
   },
   "outputs": [],
   "source": [
    "#hide\n",
    "# g.columns = ['date','country','cases']"
   ]
  },
  {
   "cell_type": "code",
   "execution_count": 27,
   "id": "tender-conversion",
   "metadata": {
    "execution": {
     "iopub.execute_input": "2021-08-08T12:09:56.942380Z",
     "iopub.status.busy": "2021-08-08T12:09:56.941730Z",
     "iopub.status.idle": "2021-08-08T12:09:56.943960Z",
     "shell.execute_reply": "2021-08-08T12:09:56.944566Z"
    },
    "papermill": {
     "duration": 0.045419,
     "end_time": "2021-08-08T12:09:56.944715",
     "exception": false,
     "start_time": "2021-08-08T12:09:56.899296",
     "status": "completed"
    },
    "tags": []
   },
   "outputs": [],
   "source": [
    "#hide\n",
    "# g['continent'] = g.country"
   ]
  },
  {
   "cell_type": "code",
   "execution_count": 28,
   "id": "substantial-wilderness",
   "metadata": {
    "execution": {
     "iopub.execute_input": "2021-08-08T12:09:57.029576Z",
     "iopub.status.busy": "2021-08-08T12:09:57.028900Z",
     "iopub.status.idle": "2021-08-08T12:09:57.031085Z",
     "shell.execute_reply": "2021-08-08T12:09:57.031596Z"
    },
    "papermill": {
     "duration": 0.047357,
     "end_time": "2021-08-08T12:09:57.031775",
     "exception": false,
     "start_time": "2021-08-08T12:09:56.984418",
     "status": "completed"
    },
    "tags": []
   },
   "outputs": [],
   "source": [
    "#hide\n",
    "# cols = list(g.columns.values)"
   ]
  },
  {
   "cell_type": "code",
   "execution_count": 29,
   "id": "solved-farming",
   "metadata": {
    "execution": {
     "iopub.execute_input": "2021-08-08T12:09:57.114480Z",
     "iopub.status.busy": "2021-08-08T12:09:57.113542Z",
     "iopub.status.idle": "2021-08-08T12:09:57.116811Z",
     "shell.execute_reply": "2021-08-08T12:09:57.116072Z"
    },
    "papermill": {
     "duration": 0.045569,
     "end_time": "2021-08-08T12:09:57.116945",
     "exception": false,
     "start_time": "2021-08-08T12:09:57.071376",
     "status": "completed"
    },
    "tags": []
   },
   "outputs": [],
   "source": [
    "#hide\n",
    "# cols.insert(0, cols.pop())"
   ]
  },
  {
   "cell_type": "code",
   "execution_count": 30,
   "id": "executed-adoption",
   "metadata": {
    "execution": {
     "iopub.execute_input": "2021-08-08T12:09:57.195374Z",
     "iopub.status.busy": "2021-08-08T12:09:57.194746Z",
     "iopub.status.idle": "2021-08-08T12:09:57.196998Z",
     "shell.execute_reply": "2021-08-08T12:09:57.196532Z"
    },
    "papermill": {
     "duration": 0.042587,
     "end_time": "2021-08-08T12:09:57.197107",
     "exception": false,
     "start_time": "2021-08-08T12:09:57.154520",
     "status": "completed"
    },
    "tags": []
   },
   "outputs": [],
   "source": [
    "#hide\n",
    "# g = g[cols]"
   ]
  },
  {
   "cell_type": "code",
   "execution_count": 31,
   "id": "subject-dublin",
   "metadata": {
    "execution": {
     "iopub.execute_input": "2021-08-08T12:09:57.277535Z",
     "iopub.status.busy": "2021-08-08T12:09:57.276737Z",
     "iopub.status.idle": "2021-08-08T12:09:57.279361Z",
     "shell.execute_reply": "2021-08-08T12:09:57.278885Z"
    },
    "papermill": {
     "duration": 0.044718,
     "end_time": "2021-08-08T12:09:57.279481",
     "exception": false,
     "start_time": "2021-08-08T12:09:57.234763",
     "status": "completed"
    },
    "tags": []
   },
   "outputs": [],
   "source": [
    "#hide\n",
    "# g['continent'] = g['continent'].map(mapping['map.continent'])"
   ]
  },
  {
   "cell_type": "code",
   "execution_count": 32,
   "id": "freelance-scout",
   "metadata": {
    "execution": {
     "iopub.execute_input": "2021-08-08T12:09:57.355567Z",
     "iopub.status.busy": "2021-08-08T12:09:57.354980Z",
     "iopub.status.idle": "2021-08-08T12:09:57.357686Z",
     "shell.execute_reply": "2021-08-08T12:09:57.357032Z"
    },
    "papermill": {
     "duration": 0.042282,
     "end_time": "2021-08-08T12:09:57.357850",
     "exception": false,
     "start_time": "2021-08-08T12:09:57.315568",
     "status": "completed"
    },
    "tags": []
   },
   "outputs": [],
   "source": [
    "#hide\n",
    "# g.head()"
   ]
  },
  {
   "cell_type": "code",
   "execution_count": 33,
   "id": "limited-engine",
   "metadata": {
    "execution": {
     "iopub.execute_input": "2021-08-08T12:09:57.444547Z",
     "iopub.status.busy": "2021-08-08T12:09:57.443680Z",
     "iopub.status.idle": "2021-08-08T12:09:57.446287Z",
     "shell.execute_reply": "2021-08-08T12:09:57.445817Z"
    },
    "papermill": {
     "duration": 0.043463,
     "end_time": "2021-08-08T12:09:57.446387",
     "exception": false,
     "start_time": "2021-08-08T12:09:57.402924",
     "status": "completed"
    },
    "tags": []
   },
   "outputs": [],
   "source": [
    "# hide\n",
    "# g['date'] = g['date'].astype('datetime64[ns]')"
   ]
  },
  {
   "cell_type": "code",
   "execution_count": 34,
   "id": "sophisticated-supervisor",
   "metadata": {
    "execution": {
     "iopub.execute_input": "2021-08-08T12:09:57.528820Z",
     "iopub.status.busy": "2021-08-08T12:09:57.528097Z",
     "iopub.status.idle": "2021-08-08T12:09:57.531556Z",
     "shell.execute_reply": "2021-08-08T12:09:57.530570Z"
    },
    "papermill": {
     "duration": 0.048103,
     "end_time": "2021-08-08T12:09:57.531679",
     "exception": false,
     "start_time": "2021-08-08T12:09:57.483576",
     "status": "completed"
    },
    "tags": []
   },
   "outputs": [],
   "source": [
    "#hide\n",
    "# g['date'] = g.date.dt.dayofyear"
   ]
  },
  {
   "cell_type": "code",
   "execution_count": 35,
   "id": "inside-dubai",
   "metadata": {
    "execution": {
     "iopub.execute_input": "2021-08-08T12:09:57.607976Z",
     "iopub.status.busy": "2021-08-08T12:09:57.607391Z",
     "iopub.status.idle": "2021-08-08T12:09:57.609861Z",
     "shell.execute_reply": "2021-08-08T12:09:57.609407Z"
    },
    "papermill": {
     "duration": 0.041397,
     "end_time": "2021-08-08T12:09:57.609985",
     "exception": false,
     "start_time": "2021-08-08T12:09:57.568588",
     "status": "completed"
    },
    "tags": []
   },
   "outputs": [],
   "source": [
    "#hide\n",
    "# g = g.rename(columns= {'continent':'group','country':'name','cases':'value'})"
   ]
  },
  {
   "cell_type": "code",
   "execution_count": 36,
   "id": "fleet-motorcycle",
   "metadata": {
    "execution": {
     "iopub.execute_input": "2021-08-08T12:09:57.686914Z",
     "iopub.status.busy": "2021-08-08T12:09:57.686356Z",
     "iopub.status.idle": "2021-08-08T12:09:57.688788Z",
     "shell.execute_reply": "2021-08-08T12:09:57.688347Z"
    },
    "papermill": {
     "duration": 0.041278,
     "end_time": "2021-08-08T12:09:57.688893",
     "exception": false,
     "start_time": "2021-08-08T12:09:57.647615",
     "status": "completed"
    },
    "tags": []
   },
   "outputs": [],
   "source": [
    "#hide\n",
    "# cols = ['name','group','day','value']"
   ]
  },
  {
   "cell_type": "code",
   "execution_count": 37,
   "id": "continued-sleeping",
   "metadata": {
    "execution": {
     "iopub.execute_input": "2021-08-08T12:09:57.766132Z",
     "iopub.status.busy": "2021-08-08T12:09:57.765537Z",
     "iopub.status.idle": "2021-08-08T12:09:57.768119Z",
     "shell.execute_reply": "2021-08-08T12:09:57.767479Z"
    },
    "papermill": {
     "duration": 0.043437,
     "end_time": "2021-08-08T12:09:57.768293",
     "exception": false,
     "start_time": "2021-08-08T12:09:57.724856",
     "status": "completed"
    },
    "tags": []
   },
   "outputs": [],
   "source": [
    "#hide\n",
    "# g.rename(columns= {'date':'day'},inplace = True)"
   ]
  },
  {
   "cell_type": "code",
   "execution_count": 38,
   "id": "major-fight",
   "metadata": {
    "execution": {
     "iopub.execute_input": "2021-08-08T12:09:57.845960Z",
     "iopub.status.busy": "2021-08-08T12:09:57.845387Z",
     "iopub.status.idle": "2021-08-08T12:09:57.847463Z",
     "shell.execute_reply": "2021-08-08T12:09:57.847968Z"
    },
    "papermill": {
     "duration": 0.043549,
     "end_time": "2021-08-08T12:09:57.848083",
     "exception": false,
     "start_time": "2021-08-08T12:09:57.804534",
     "status": "completed"
    },
    "tags": []
   },
   "outputs": [],
   "source": [
    "#hide\n",
    "# g = g[cols]"
   ]
  },
  {
   "cell_type": "code",
   "execution_count": 39,
   "id": "structured-mobile",
   "metadata": {
    "execution": {
     "iopub.execute_input": "2021-08-08T12:09:57.924594Z",
     "iopub.status.busy": "2021-08-08T12:09:57.923867Z",
     "iopub.status.idle": "2021-08-08T12:09:57.926339Z",
     "shell.execute_reply": "2021-08-08T12:09:57.925849Z"
    },
    "papermill": {
     "duration": 0.042692,
     "end_time": "2021-08-08T12:09:57.926469",
     "exception": false,
     "start_time": "2021-08-08T12:09:57.883777",
     "status": "completed"
    },
    "tags": []
   },
   "outputs": [],
   "source": [
    "# #hide\n",
    "# g = g[g.group.notna()]"
   ]
  },
  {
   "cell_type": "code",
   "execution_count": 40,
   "id": "determined-closing",
   "metadata": {
    "execution": {
     "iopub.execute_input": "2021-08-08T12:09:58.006765Z",
     "iopub.status.busy": "2021-08-08T12:09:58.005949Z",
     "iopub.status.idle": "2021-08-08T12:09:58.008155Z",
     "shell.execute_reply": "2021-08-08T12:09:58.008900Z"
    },
    "papermill": {
     "duration": 0.044274,
     "end_time": "2021-08-08T12:09:58.009044",
     "exception": false,
     "start_time": "2021-08-08T12:09:57.964770",
     "status": "completed"
    },
    "tags": []
   },
   "outputs": [],
   "source": [
    "# #hide\n",
    "# colors = dict(zip(\n",
    "#     [\"Oceania\", \"Europe\", \"Asia\", \"South America\", \"Middle East\", \"North America\", \"Africa\"],\n",
    "#     [\"#adb0ff\", \"#ffb3ff\", \"#90d595\", \"#e48381\", \"#aafbff\", \"#f7bb5f\", \"#eafb50\"]\n",
    "# ))\n",
    "# group_lk = g.set_index('name')['group'].to_dict()"
   ]
  },
  {
   "cell_type": "code",
   "execution_count": null,
   "id": "gross-drinking",
   "metadata": {
    "papermill": {
     "duration": 0.038886,
     "end_time": "2021-08-08T12:09:58.086140",
     "exception": false,
     "start_time": "2021-08-08T12:09:58.047254",
     "status": "completed"
    },
    "tags": []
   },
   "outputs": [],
   "source": []
  },
  {
   "cell_type": "code",
   "execution_count": 41,
   "id": "subject-macintosh",
   "metadata": {
    "execution": {
     "iopub.execute_input": "2021-08-08T12:09:58.164789Z",
     "iopub.status.busy": "2021-08-08T12:09:58.164127Z",
     "iopub.status.idle": "2021-08-08T12:09:58.166315Z",
     "shell.execute_reply": "2021-08-08T12:09:58.166866Z"
    },
    "papermill": {
     "duration": 0.044627,
     "end_time": "2021-08-08T12:09:58.166991",
     "exception": false,
     "start_time": "2021-08-08T12:09:58.122364",
     "status": "completed"
    },
    "tags": []
   },
   "outputs": [],
   "source": [
    "# #hide\n",
    "# fig, ax = plt.subplots(figsize=(15, 8))\n",
    "\n",
    "# def draw_barchart(current_day):\n",
    "#     dff = g[g['day'].eq(current_day)].sort_values(by='value', ascending=True).tail(10)\n",
    "#     ax.clear()\n",
    "#     ax.barh(dff['name'], dff['value'], color=[colors[group_lk[x]] for x in dff['name']])\n",
    "#     dx = dff['value'].max() / 200\n",
    "    \n",
    "#     for i, (value, name) in enumerate(zip(dff['value'], dff['name'])):\n",
    "#         ax.text(value-dx, i,     name,           size=14, weight=600, ha='right', va='bottom')\n",
    "#         ax.text(value-dx, i-.25, group_lk[name], size=10, color='#444444', ha='right', va='baseline')\n",
    "#         ax.text(value+dx, i,     f'{value:,.0f}',  size=14, ha='left',  va='center')\n",
    "#     ax.text(1, 0.4, current_day, transform=ax.transAxes, color='#777777', size=46, ha='right', weight=800)\n",
    "#     ax.text(0, 1.06, 'Population (thousands)', transform=ax.transAxes, size=12, color='#777777')\n",
    "#     ax.xaxis.set_major_formatter(ticker.StrMethodFormatter('{x:,.0f}'))\n",
    "#     ax.xaxis.set_ticks_position('top')\n",
    "#     ax.tick_params(axis='x', colors='#777777', labelsize=12)\n",
    "#     ax.set_yticks([])\n",
    "#     ax.margins(0, 0.01)\n",
    "#     ax.grid(which='major', axis='x', linestyle='-')\n",
    "#     ax.set_axisbelow(True)\n",
    "    \n",
    "#     ax.text(0, 1.15, 'Coronavirus',\n",
    "#             transform=ax.transAxes, size=24, weight=600, ha='left', va='top')\n",
    "# #     ax.text(1, 0, 'by @pratapvardhan; credit @jburnmurdoch', transform=ax.transAxes, color='#777777', ha='right',\n",
    "# #             bbox=dict(facecolor='white', alpha=0.8, edgecolor='white'))\n",
    "#     plt.box(False)"
   ]
  },
  {
   "cell_type": "code",
   "execution_count": 42,
   "id": "sexual-wages",
   "metadata": {
    "execution": {
     "iopub.execute_input": "2021-08-08T12:09:58.243995Z",
     "iopub.status.busy": "2021-08-08T12:09:58.243324Z",
     "iopub.status.idle": "2021-08-08T12:09:58.246208Z",
     "shell.execute_reply": "2021-08-08T12:09:58.245554Z"
    },
    "papermill": {
     "duration": 0.043074,
     "end_time": "2021-08-08T12:09:58.246342",
     "exception": false,
     "start_time": "2021-08-08T12:09:58.203268",
     "status": "completed"
    },
    "tags": []
   },
   "outputs": [],
   "source": [
    "# #hide_input\n",
    "# fig, ax = plt.subplots(figsize=(15, 8))\n",
    "# animator = animation.FuncAnimation(fig, draw_barchart, frames=range(g.day.values.min(), g.day.values.max()))\n",
    "# HTML(animator.to_jshtml())\n",
    "# # or use animator.to_html5_video() or animator.save() "
   ]
  },
  {
   "cell_type": "code",
   "execution_count": null,
   "id": "australian-container",
   "metadata": {
    "papermill": {
     "duration": 0.037345,
     "end_time": "2021-08-08T12:09:58.323108",
     "exception": false,
     "start_time": "2021-08-08T12:09:58.285763",
     "status": "completed"
    },
    "tags": []
   },
   "outputs": [],
   "source": []
  },
  {
   "cell_type": "code",
   "execution_count": null,
   "id": "mediterranean-pontiac",
   "metadata": {
    "papermill": {
     "duration": 0.036403,
     "end_time": "2021-08-08T12:09:58.397006",
     "exception": false,
     "start_time": "2021-08-08T12:09:58.360603",
     "status": "completed"
    },
    "tags": []
   },
   "outputs": [],
   "source": []
  },
  {
   "cell_type": "code",
   "execution_count": null,
   "id": "aging-legislature",
   "metadata": {
    "papermill": {
     "duration": 0.037147,
     "end_time": "2021-08-08T12:09:58.470558",
     "exception": false,
     "start_time": "2021-08-08T12:09:58.433411",
     "status": "completed"
    },
    "tags": []
   },
   "outputs": [],
   "source": []
  }
 ],
 "metadata": {
  "kernelspec": {
   "display_name": "Python 3",
   "language": "python",
   "name": "python3"
  },
  "language_info": {
   "codemirror_mode": {
    "name": "ipython",
    "version": 3
   },
   "file_extension": ".py",
   "mimetype": "text/x-python",
   "name": "python",
   "nbconvert_exporter": "python",
   "pygments_lexer": "ipython3",
   "version": "3.6.14"
  },
  "papermill": {
   "duration": 6.858103,
   "end_time": "2021-08-08T12:09:58.815374",
   "environment_variables": {},
   "exception": null,
   "input_path": "2020-03-21-covid19exp.ipynb",
   "output_path": "2020-03-21-covid19exp.ipynb",
   "parameters": {},
   "start_time": "2021-08-08T12:09:51.957271",
   "version": "2.0.0"
  }
 },
 "nbformat": 4,
 "nbformat_minor": 5
}