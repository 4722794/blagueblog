{
 "cells": [
  {
   "cell_type": "markdown",
   "id": "muslim-click",
   "metadata": {
    "papermill": {
     "duration": 0.040898,
     "end_time": "2021-11-06T12:11:35.187437",
     "exception": false,
     "start_time": "2021-11-06T12:11:35.146539",
     "status": "completed"
    },
    "tags": []
   },
   "source": [
    "# COVID-19 Case Race\n",
    "> A race chart to see rising cases around the world\n",
    "\n",
    "- author: Hargun Oberoi\n",
    "- image: images/covid-overview.png\n",
    "- hide: false\n",
    "- badges: false"
   ]
  },
  {
   "cell_type": "code",
   "execution_count": 1,
   "id": "proof-material",
   "metadata": {
    "execution": {
     "iopub.execute_input": "2021-11-06T12:11:35.273985Z",
     "iopub.status.busy": "2021-11-06T12:11:35.273367Z",
     "iopub.status.idle": "2021-11-06T12:11:35.663847Z",
     "shell.execute_reply": "2021-11-06T12:11:35.663220Z"
    },
    "papermill": {
     "duration": 0.440481,
     "end_time": "2021-11-06T12:11:35.664017",
     "exception": false,
     "start_time": "2021-11-06T12:11:35.223536",
     "status": "completed"
    },
    "tags": []
   },
   "outputs": [],
   "source": [
    "#hide\n",
    "import numpy as np\n",
    "import pandas as pd\n",
    "from jinja2 import Template\n",
    "from IPython.display import HTML"
   ]
  },
  {
   "cell_type": "code",
   "execution_count": 2,
   "id": "developed-terminology",
   "metadata": {
    "execution": {
     "iopub.execute_input": "2021-11-06T12:11:35.746097Z",
     "iopub.status.busy": "2021-11-06T12:11:35.745452Z",
     "iopub.status.idle": "2021-11-06T12:11:35.748291Z",
     "shell.execute_reply": "2021-11-06T12:11:35.747710Z"
    },
    "papermill": {
     "duration": 0.04584,
     "end_time": "2021-11-06T12:11:35.748459",
     "exception": false,
     "start_time": "2021-11-06T12:11:35.702619",
     "status": "completed"
    },
    "tags": []
   },
   "outputs": [],
   "source": [
    "#hide\n",
    "\n",
    "# FETCH\n",
    "base_url = 'https://raw.githubusercontent.com/pratapvardhan/notebooks/master/covid19/'\n",
    "paths = {\n",
    "    'mapping': base_url + 'mapping_countries.csv',\n",
    "    'overview': base_url + 'overview.tpl'\n",
    "}"
   ]
  },
  {
   "cell_type": "code",
   "execution_count": 3,
   "id": "dynamic-saver",
   "metadata": {
    "execution": {
     "iopub.execute_input": "2021-11-06T12:11:35.834352Z",
     "iopub.status.busy": "2021-11-06T12:11:35.833762Z",
     "iopub.status.idle": "2021-11-06T12:11:35.836493Z",
     "shell.execute_reply": "2021-11-06T12:11:35.836963Z"
    },
    "papermill": {
     "duration": 0.050635,
     "end_time": "2021-11-06T12:11:35.837096",
     "exception": false,
     "start_time": "2021-11-06T12:11:35.786461",
     "status": "completed"
    },
    "tags": []
   },
   "outputs": [
    {
     "data": {
      "text/plain": [
       "'https://raw.githubusercontent.com/pratapvardhan/notebooks/master/covid19/mapping_countries.csv'"
      ]
     },
     "execution_count": 3,
     "metadata": {},
     "output_type": "execute_result"
    }
   ],
   "source": [
    "#hide\n",
    "paths['mapping']"
   ]
  },
  {
   "cell_type": "code",
   "execution_count": 4,
   "id": "urban-software",
   "metadata": {
    "execution": {
     "iopub.execute_input": "2021-11-06T12:11:35.917084Z",
     "iopub.status.busy": "2021-11-06T12:11:35.916288Z",
     "iopub.status.idle": "2021-11-06T12:11:35.918195Z",
     "shell.execute_reply": "2021-11-06T12:11:35.918838Z"
    },
    "papermill": {
     "duration": 0.044772,
     "end_time": "2021-11-06T12:11:35.918972",
     "exception": false,
     "start_time": "2021-11-06T12:11:35.874200",
     "status": "completed"
    },
    "tags": []
   },
   "outputs": [],
   "source": [
    "#hide\n",
    "def get_mappings(url):\n",
    "    df = pd.read_csv(url)\n",
    "    return {\n",
    "        'df': df,\n",
    "        'replace.country': dict(df.dropna(subset=['Name']).set_index('Country')['Name']),\n",
    "        'map.continent': dict(df.set_index('Name')['Continent'])\n",
    "    }"
   ]
  },
  {
   "cell_type": "code",
   "execution_count": 5,
   "id": "intimate-machinery",
   "metadata": {
    "execution": {
     "iopub.execute_input": "2021-11-06T12:11:35.999972Z",
     "iopub.status.busy": "2021-11-06T12:11:35.999285Z",
     "iopub.status.idle": "2021-11-06T12:11:36.030801Z",
     "shell.execute_reply": "2021-11-06T12:11:36.031309Z"
    },
    "papermill": {
     "duration": 0.075894,
     "end_time": "2021-11-06T12:11:36.031449",
     "exception": false,
     "start_time": "2021-11-06T12:11:35.955555",
     "status": "completed"
    },
    "tags": []
   },
   "outputs": [],
   "source": [
    "#hide\n",
    "mapping = get_mappings(paths['mapping'])"
   ]
  },
  {
   "cell_type": "code",
   "execution_count": 6,
   "id": "certified-tactics",
   "metadata": {
    "execution": {
     "iopub.execute_input": "2021-11-06T12:11:36.120602Z",
     "iopub.status.busy": "2021-11-06T12:11:36.119751Z",
     "iopub.status.idle": "2021-11-06T12:11:36.124866Z",
     "shell.execute_reply": "2021-11-06T12:11:36.124234Z"
    },
    "papermill": {
     "duration": 0.055069,
     "end_time": "2021-11-06T12:11:36.125010",
     "exception": false,
     "start_time": "2021-11-06T12:11:36.069941",
     "status": "completed"
    },
    "tags": []
   },
   "outputs": [],
   "source": [
    "#hide\n",
    "def get_template(path):\n",
    "    from urllib.parse import urlparse\n",
    "    if bool(urlparse(path).netloc):\n",
    "        from urllib.request import urlopen\n",
    "        return urlopen(path).read().decode('utf8')\n",
    "    return open(path).read()"
   ]
  },
  {
   "cell_type": "code",
   "execution_count": 7,
   "id": "realistic-blast",
   "metadata": {
    "execution": {
     "iopub.execute_input": "2021-11-06T12:11:36.207800Z",
     "iopub.status.busy": "2021-11-06T12:11:36.207125Z",
     "iopub.status.idle": "2021-11-06T12:11:36.209286Z",
     "shell.execute_reply": "2021-11-06T12:11:36.209787Z"
    },
    "papermill": {
     "duration": 0.045695,
     "end_time": "2021-11-06T12:11:36.209925",
     "exception": false,
     "start_time": "2021-11-06T12:11:36.164230",
     "status": "completed"
    },
    "tags": []
   },
   "outputs": [],
   "source": [
    "#hide\n",
    "def get_frame(name):\n",
    "    url = (\n",
    "        'https://raw.githubusercontent.com/CSSEGISandData/COVID-19/master/csse_covid_19_data/'\n",
    "        f'csse_covid_19_time_series/time_series_covid19_{name}_global.csv')\n",
    "    df = pd.read_csv(url)\n",
    "    # rename countries\n",
    "    df['Country/Region'] = df['Country/Region'].replace(mapping['replace.country'])\n",
    "    return df"
   ]
  },
  {
   "cell_type": "code",
   "execution_count": 8,
   "id": "affiliated-characterization",
   "metadata": {
    "execution": {
     "iopub.execute_input": "2021-11-06T12:11:36.297055Z",
     "iopub.status.busy": "2021-11-06T12:11:36.296415Z",
     "iopub.status.idle": "2021-11-06T12:11:36.300916Z",
     "shell.execute_reply": "2021-11-06T12:11:36.300299Z"
    },
    "papermill": {
     "duration": 0.051115,
     "end_time": "2021-11-06T12:11:36.301042",
     "exception": false,
     "start_time": "2021-11-06T12:11:36.249927",
     "status": "completed"
    },
    "tags": []
   },
   "outputs": [],
   "source": [
    "#hide\n",
    "def get_dates(df):\n",
    "    dt_cols = df.columns[~df.columns.isin(['Province/State', 'Country/Region', 'Lat', 'Long'])]\n",
    "    LAST_DATE_I = -1\n",
    "    # sometimes last column may be empty, then go backwards\n",
    "    for i in range(-1, -len(dt_cols), -1):\n",
    "        if not df[dt_cols[i]].fillna(0).eq(0).all():\n",
    "            LAST_DATE_I = i\n",
    "            break\n",
    "    return LAST_DATE_I, dt_cols"
   ]
  },
  {
   "cell_type": "code",
   "execution_count": 9,
   "id": "recent-optimization",
   "metadata": {
    "execution": {
     "iopub.execute_input": "2021-11-06T12:11:36.384168Z",
     "iopub.status.busy": "2021-11-06T12:11:36.383191Z",
     "iopub.status.idle": "2021-11-06T12:11:36.758992Z",
     "shell.execute_reply": "2021-11-06T12:11:36.756729Z"
    },
    "papermill": {
     "duration": 0.419885,
     "end_time": "2021-11-06T12:11:36.759136",
     "exception": false,
     "start_time": "2021-11-06T12:11:36.339251",
     "status": "completed"
    },
    "tags": []
   },
   "outputs": [],
   "source": [
    "#hide\n",
    "COL_REGION = 'Country/Region'\n",
    "# Confirmed, Recovered, Deaths\n",
    "df = get_frame('confirmed')\n",
    "# dft_: timeseries, dfc_: today country agg\n",
    "dft_cases = df\n",
    "dft_deaths = get_frame('deaths')\n",
    "dft_recovered = get_frame('recovered')\n",
    "LAST_DATE_I, dt_cols = get_dates(df)"
   ]
  },
  {
   "cell_type": "code",
   "execution_count": 10,
   "id": "absolute-copper",
   "metadata": {
    "execution": {
     "iopub.execute_input": "2021-11-06T12:11:36.843780Z",
     "iopub.status.busy": "2021-11-06T12:11:36.842870Z",
     "iopub.status.idle": "2021-11-06T12:11:36.845424Z",
     "shell.execute_reply": "2021-11-06T12:11:36.844759Z"
    },
    "papermill": {
     "duration": 0.046491,
     "end_time": "2021-11-06T12:11:36.845580",
     "exception": false,
     "start_time": "2021-11-06T12:11:36.799089",
     "status": "completed"
    },
    "tags": []
   },
   "outputs": [],
   "source": [
    "#hide\n",
    "LAST_DATE_I, dt_cols = get_dates(df)\n",
    "dt_today =dt_cols[LAST_DATE_I]\n",
    "# dt_5day = dt_cols[LAST_DATE_I - 5]\n",
    "dt_yday = dt_cols[LAST_DATE_I - 1]"
   ]
  },
  {
   "cell_type": "code",
   "execution_count": 11,
   "id": "restricted-sheriff",
   "metadata": {
    "execution": {
     "iopub.execute_input": "2021-11-06T12:11:36.933352Z",
     "iopub.status.busy": "2021-11-06T12:11:36.929429Z",
     "iopub.status.idle": "2021-11-06T12:11:36.939671Z",
     "shell.execute_reply": "2021-11-06T12:11:36.938754Z"
    },
    "papermill": {
     "duration": 0.054623,
     "end_time": "2021-11-06T12:11:36.939802",
     "exception": false,
     "start_time": "2021-11-06T12:11:36.885179",
     "status": "completed"
    },
    "tags": []
   },
   "outputs": [],
   "source": [
    "#hide\n",
    "dfc_cases = dft_cases.groupby(COL_REGION)[dt_today].sum()\n",
    "dfc_deaths = dft_deaths.groupby(COL_REGION)[dt_today].sum()\n",
    "# dfp_cases = dft_cases.groupby(COL_REGION)[dt_5day].sum()\n",
    "# dfp_deaths = dft_deaths.groupby(COL_REGION)[dt_5day].sum()\n",
    "dfp_cases = dft_cases.groupby(COL_REGION)[dt_yday].sum()\n",
    "dfp_deaths = dft_deaths.groupby(COL_REGION)[dt_yday].sum()"
   ]
  },
  {
   "cell_type": "code",
   "execution_count": 12,
   "id": "deluxe-hepatitis",
   "metadata": {
    "execution": {
     "iopub.execute_input": "2021-11-06T12:11:37.025533Z",
     "iopub.status.busy": "2021-11-06T12:11:37.024930Z",
     "iopub.status.idle": "2021-11-06T12:11:37.030917Z",
     "shell.execute_reply": "2021-11-06T12:11:37.030319Z"
    },
    "papermill": {
     "duration": 0.053741,
     "end_time": "2021-11-06T12:11:37.031045",
     "exception": false,
     "start_time": "2021-11-06T12:11:36.977304",
     "status": "completed"
    },
    "tags": []
   },
   "outputs": [],
   "source": [
    "#hide\n",
    "df_table = (pd.DataFrame(dict(Cases = dfc_cases, Deaths = dfc_deaths, PCases = dfp_cases, PDeaths = dfp_deaths))\n",
    "            .sort_values(by = ['Cases','Deaths'], ascending = [False, False])\n",
    "            .reset_index())"
   ]
  },
  {
   "cell_type": "code",
   "execution_count": 13,
   "id": "educational-chancellor",
   "metadata": {
    "execution": {
     "iopub.execute_input": "2021-11-06T12:11:37.130503Z",
     "iopub.status.busy": "2021-11-06T12:11:37.129825Z",
     "iopub.status.idle": "2021-11-06T12:11:37.138983Z",
     "shell.execute_reply": "2021-11-06T12:11:37.138429Z"
    },
    "papermill": {
     "duration": 0.070923,
     "end_time": "2021-11-06T12:11:37.139111",
     "exception": false,
     "start_time": "2021-11-06T12:11:37.068188",
     "status": "completed"
    },
    "tags": []
   },
   "outputs": [
    {
     "data": {
      "text/html": [
       "<div>\n",
       "<style scoped>\n",
       "    .dataframe tbody tr th:only-of-type {\n",
       "        vertical-align: middle;\n",
       "    }\n",
       "\n",
       "    .dataframe tbody tr th {\n",
       "        vertical-align: top;\n",
       "    }\n",
       "\n",
       "    .dataframe thead th {\n",
       "        text-align: right;\n",
       "    }\n",
       "</style>\n",
       "<table border=\"1\" class=\"dataframe\">\n",
       "  <thead>\n",
       "    <tr style=\"text-align: right;\">\n",
       "      <th></th>\n",
       "      <th>Country/Region</th>\n",
       "      <th>Cases</th>\n",
       "      <th>Deaths</th>\n",
       "      <th>PCases</th>\n",
       "      <th>PDeaths</th>\n",
       "      <th>Cases (+)</th>\n",
       "      <th>Deaths (+)</th>\n",
       "      <th>Fatality Rate</th>\n",
       "      <th>Continent</th>\n",
       "    </tr>\n",
       "  </thead>\n",
       "  <tbody>\n",
       "    <tr>\n",
       "      <th>0</th>\n",
       "      <td>US</td>\n",
       "      <td>46435967</td>\n",
       "      <td>753926</td>\n",
       "      <td>46334856</td>\n",
       "      <td>751555</td>\n",
       "      <td>101111</td>\n",
       "      <td>2371</td>\n",
       "      <td>1.62</td>\n",
       "      <td>North America</td>\n",
       "    </tr>\n",
       "    <tr>\n",
       "      <th>1</th>\n",
       "      <td>India</td>\n",
       "      <td>34344683</td>\n",
       "      <td>460265</td>\n",
       "      <td>34333754</td>\n",
       "      <td>459873</td>\n",
       "      <td>10929</td>\n",
       "      <td>392</td>\n",
       "      <td>1.34</td>\n",
       "      <td>Asia</td>\n",
       "    </tr>\n",
       "    <tr>\n",
       "      <th>2</th>\n",
       "      <td>Brazil</td>\n",
       "      <td>21862458</td>\n",
       "      <td>609060</td>\n",
       "      <td>21849137</td>\n",
       "      <td>608671</td>\n",
       "      <td>13321</td>\n",
       "      <td>389</td>\n",
       "      <td>2.79</td>\n",
       "      <td>South America</td>\n",
       "    </tr>\n",
       "    <tr>\n",
       "      <th>3</th>\n",
       "      <td>United Kingdom</td>\n",
       "      <td>9286618</td>\n",
       "      <td>142019</td>\n",
       "      <td>9252646</td>\n",
       "      <td>141826</td>\n",
       "      <td>33972</td>\n",
       "      <td>193</td>\n",
       "      <td>1.53</td>\n",
       "      <td>Europe</td>\n",
       "    </tr>\n",
       "    <tr>\n",
       "      <th>4</th>\n",
       "      <td>Russia</td>\n",
       "      <td>8573323</td>\n",
       "      <td>239943</td>\n",
       "      <td>8533706</td>\n",
       "      <td>238784</td>\n",
       "      <td>39617</td>\n",
       "      <td>1159</td>\n",
       "      <td>2.80</td>\n",
       "      <td>Europe</td>\n",
       "    </tr>\n",
       "  </tbody>\n",
       "</table>\n",
       "</div>"
      ],
      "text/plain": [
       "   Country/Region     Cases  Deaths    PCases  PDeaths  Cases (+)  Deaths (+)  \\\n",
       "0              US  46435967  753926  46334856   751555     101111        2371   \n",
       "1           India  34344683  460265  34333754   459873      10929         392   \n",
       "2          Brazil  21862458  609060  21849137   608671      13321         389   \n",
       "3  United Kingdom   9286618  142019   9252646   141826      33972         193   \n",
       "4          Russia   8573323  239943   8533706   238784      39617        1159   \n",
       "\n",
       "   Fatality Rate      Continent  \n",
       "0           1.62  North America  \n",
       "1           1.34           Asia  \n",
       "2           2.79  South America  \n",
       "3           1.53         Europe  \n",
       "4           2.80         Europe  "
      ]
     },
     "execution_count": 13,
     "metadata": {},
     "output_type": "execute_result"
    }
   ],
   "source": [
    "#hide\n",
    "for c in 'Cases, Deaths'.split(', '):\n",
    "    df_table[f'{c} (+)'] = (df_table[c] - df_table[f'P{c}']).clip(0)\n",
    "    #Clip ça veut dire, les chiffres negatif sont interdit\n",
    "df_table['Fatality Rate'] = (100* df_table['Deaths']/ df_table['Cases']).round(2)\n",
    "df_table['Continent'] = df_table['Country/Region'].map(mapping['map.continent'])\n",
    "df_table.head(5)"
   ]
  },
  {
   "cell_type": "code",
   "execution_count": 14,
   "id": "aboriginal-bulgaria",
   "metadata": {
    "execution": {
     "iopub.execute_input": "2021-11-06T12:11:37.226919Z",
     "iopub.status.busy": "2021-11-06T12:11:37.226265Z",
     "iopub.status.idle": "2021-11-06T12:11:37.229532Z",
     "shell.execute_reply": "2021-11-06T12:11:37.228828Z"
    },
    "papermill": {
     "duration": 0.048738,
     "end_time": "2021-11-06T12:11:37.229721",
     "exception": false,
     "start_time": "2021-11-06T12:11:37.180983",
     "status": "completed"
    },
    "tags": []
   },
   "outputs": [],
   "source": [
    "#hide\n",
    "#delete problematic countries from table\n",
    "df_table = df_table[~df_table['Country/Region'].isin(['Cape Verde', 'Cruise Ship', 'Kosovo'])]"
   ]
  },
  {
   "cell_type": "code",
   "execution_count": 15,
   "id": "fantastic-effect",
   "metadata": {
    "execution": {
     "iopub.execute_input": "2021-11-06T12:11:37.317703Z",
     "iopub.status.busy": "2021-11-06T12:11:37.316914Z",
     "iopub.status.idle": "2021-11-06T12:11:37.340575Z",
     "shell.execute_reply": "2021-11-06T12:11:37.341196Z"
    },
    "papermill": {
     "duration": 0.073985,
     "end_time": "2021-11-06T12:11:37.341388",
     "exception": false,
     "start_time": "2021-11-06T12:11:37.267403",
     "status": "completed"
    },
    "tags": []
   },
   "outputs": [
    {
     "data": {
      "text/html": [
       "<div>\n",
       "<style scoped>\n",
       "    .dataframe tbody tr th:only-of-type {\n",
       "        vertical-align: middle;\n",
       "    }\n",
       "\n",
       "    .dataframe tbody tr th {\n",
       "        vertical-align: top;\n",
       "    }\n",
       "\n",
       "    .dataframe thead th {\n",
       "        text-align: right;\n",
       "    }\n",
       "</style>\n",
       "<table border=\"1\" class=\"dataframe\">\n",
       "  <thead>\n",
       "    <tr style=\"text-align: right;\">\n",
       "      <th></th>\n",
       "      <th>Country/Region</th>\n",
       "      <th>Cases</th>\n",
       "      <th>Deaths</th>\n",
       "      <th>PCases</th>\n",
       "      <th>PDeaths</th>\n",
       "      <th>Cases (+)</th>\n",
       "      <th>Deaths (+)</th>\n",
       "      <th>Fatality Rate</th>\n",
       "      <th>Continent</th>\n",
       "    </tr>\n",
       "  </thead>\n",
       "  <tbody>\n",
       "    <tr>\n",
       "      <th>0</th>\n",
       "      <td>US</td>\n",
       "      <td>46435967</td>\n",
       "      <td>753926</td>\n",
       "      <td>46334856</td>\n",
       "      <td>751555</td>\n",
       "      <td>101111</td>\n",
       "      <td>2371</td>\n",
       "      <td>1.6</td>\n",
       "      <td>North America</td>\n",
       "    </tr>\n",
       "    <tr>\n",
       "      <th>1</th>\n",
       "      <td>India</td>\n",
       "      <td>34344683</td>\n",
       "      <td>460265</td>\n",
       "      <td>34333754</td>\n",
       "      <td>459873</td>\n",
       "      <td>10929</td>\n",
       "      <td>392</td>\n",
       "      <td>1.3</td>\n",
       "      <td>Asia</td>\n",
       "    </tr>\n",
       "    <tr>\n",
       "      <th>2</th>\n",
       "      <td>Brazil</td>\n",
       "      <td>21862458</td>\n",
       "      <td>609060</td>\n",
       "      <td>21849137</td>\n",
       "      <td>608671</td>\n",
       "      <td>13321</td>\n",
       "      <td>389</td>\n",
       "      <td>2.8</td>\n",
       "      <td>South America</td>\n",
       "    </tr>\n",
       "    <tr>\n",
       "      <th>3</th>\n",
       "      <td>United Kingdom</td>\n",
       "      <td>9286618</td>\n",
       "      <td>142019</td>\n",
       "      <td>9252646</td>\n",
       "      <td>141826</td>\n",
       "      <td>33972</td>\n",
       "      <td>193</td>\n",
       "      <td>1.5</td>\n",
       "      <td>Europe</td>\n",
       "    </tr>\n",
       "    <tr>\n",
       "      <th>4</th>\n",
       "      <td>Russia</td>\n",
       "      <td>8573323</td>\n",
       "      <td>239943</td>\n",
       "      <td>8533706</td>\n",
       "      <td>238784</td>\n",
       "      <td>39617</td>\n",
       "      <td>1159</td>\n",
       "      <td>2.8</td>\n",
       "      <td>Europe</td>\n",
       "    </tr>\n",
       "  </tbody>\n",
       "</table>\n",
       "</div>"
      ],
      "text/plain": [
       "   Country/Region     Cases  Deaths    PCases  PDeaths  Cases (+)  Deaths (+)  \\\n",
       "0              US  46435967  753926  46334856   751555     101111        2371   \n",
       "1           India  34344683  460265  34333754   459873      10929         392   \n",
       "2          Brazil  21862458  609060  21849137   608671      13321         389   \n",
       "3  United Kingdom   9286618  142019   9252646   141826      33972         193   \n",
       "4          Russia   8573323  239943   8533706   238784      39617        1159   \n",
       "\n",
       "   Fatality Rate      Continent  \n",
       "0            1.6  North America  \n",
       "1            1.3           Asia  \n",
       "2            2.8  South America  \n",
       "3            1.5         Europe  \n",
       "4            2.8         Europe  "
      ]
     },
     "execution_count": 15,
     "metadata": {},
     "output_type": "execute_result"
    }
   ],
   "source": [
    "#hide\n",
    "df_table = (pd.DataFrame(dict(Cases=dfc_cases, Deaths=dfc_deaths, PCases=dfp_cases, PDeaths=dfp_deaths))\n",
    "             .sort_values(by=['Cases', 'Deaths'], ascending=[False, False])\n",
    "             .reset_index())\n",
    "df_table.rename(columns={'index': 'Country/Region'}, inplace=True)\n",
    "for c in 'Cases, Deaths'.split(', '):\n",
    "    df_table[f'{c} (+)'] = (df_table[c] - df_table[f'P{c}']).clip(0)  # DATA BUG\n",
    "df_table['Fatality Rate'] = (100 * df_table['Deaths'] / df_table['Cases']).round(1)\n",
    "df_table['Continent'] = df_table['Country/Region'].map(mapping['map.continent'])\n",
    "df_table.head(5)"
   ]
  },
  {
   "cell_type": "code",
   "execution_count": 16,
   "id": "fewer-occasion",
   "metadata": {
    "execution": {
     "iopub.execute_input": "2021-11-06T12:11:37.429855Z",
     "iopub.status.busy": "2021-11-06T12:11:37.429095Z",
     "iopub.status.idle": "2021-11-06T12:11:37.432409Z",
     "shell.execute_reply": "2021-11-06T12:11:37.431854Z"
    },
    "papermill": {
     "duration": 0.050337,
     "end_time": "2021-11-06T12:11:37.432548",
     "exception": false,
     "start_time": "2021-11-06T12:11:37.382211",
     "status": "completed"
    },
    "tags": []
   },
   "outputs": [],
   "source": [
    "#hide\n",
    "#delete problematic countries from table\n",
    "df_table = df_table[~df_table['Country/Region'].isin(['Cape Verde', 'Cruise Ship', 'Kosovo'])]"
   ]
  },
  {
   "cell_type": "code",
   "execution_count": 17,
   "id": "related-center",
   "metadata": {
    "execution": {
     "iopub.execute_input": "2021-11-06T12:11:37.521260Z",
     "iopub.status.busy": "2021-11-06T12:11:37.520620Z",
     "iopub.status.idle": "2021-11-06T12:11:37.537358Z",
     "shell.execute_reply": "2021-11-06T12:11:37.537966Z"
    },
    "papermill": {
     "duration": 0.067144,
     "end_time": "2021-11-06T12:11:37.538114",
     "exception": false,
     "start_time": "2021-11-06T12:11:37.470970",
     "status": "completed"
    },
    "tags": []
   },
   "outputs": [],
   "source": [
    "#hide\n",
    "metrics = [df_table.columns[index] for index in [1,2,5,6]]\n",
    "# s_china = df_table[df_table['Country/Region'].eq('China')][metrics].sum().add_prefix('China ')\n",
    "s_us = df_table[df_table['Country/Region'].eq('US')][metrics].sum().add_prefix('US ')\n",
    "s_eu = df_table[df_table['Continent'].eq('Europe')][metrics].sum().add_prefix('EU ')\n",
    "s_ind = df_table[df_table['Country/Region'].eq('India')][metrics].sum().add_prefix('India ')\n",
    "summary = {'updated': pd.to_datetime(dt_today), 'since': pd.to_datetime(dt_yday)}\n",
    "summary = {'updated': pd.to_datetime(dt_today), 'since': pd.to_datetime(dt_yday)}\n",
    "summary = {**summary, **df_table[metrics].sum(), **s_ind, **s_us, **s_eu}"
   ]
  },
  {
   "cell_type": "code",
   "execution_count": 18,
   "id": "engaging-syndrome",
   "metadata": {
    "execution": {
     "iopub.execute_input": "2021-11-06T12:11:37.623082Z",
     "iopub.status.busy": "2021-11-06T12:11:37.622433Z",
     "iopub.status.idle": "2021-11-06T12:11:37.639034Z",
     "shell.execute_reply": "2021-11-06T12:11:37.638497Z"
    },
    "papermill": {
     "duration": 0.061657,
     "end_time": "2021-11-06T12:11:37.639175",
     "exception": false,
     "start_time": "2021-11-06T12:11:37.577518",
     "status": "completed"
    },
    "tags": []
   },
   "outputs": [],
   "source": [
    "#hide\n",
    "dft_ct_new_cases = dft_cases.groupby(COL_REGION)[dt_cols].sum().diff(axis=1).fillna(0).astype(int)"
   ]
  },
  {
   "cell_type": "code",
   "execution_count": 19,
   "id": "neutral-assignment",
   "metadata": {
    "execution": {
     "iopub.execute_input": "2021-11-06T12:11:37.723862Z",
     "iopub.status.busy": "2021-11-06T12:11:37.723077Z",
     "iopub.status.idle": "2021-11-06T12:11:37.725722Z",
     "shell.execute_reply": "2021-11-06T12:11:37.725049Z"
    },
    "papermill": {
     "duration": 0.049071,
     "end_time": "2021-11-06T12:11:37.725861",
     "exception": false,
     "start_time": "2021-11-06T12:11:37.676790",
     "status": "completed"
    },
    "tags": []
   },
   "outputs": [],
   "source": [
    "#hide\n",
    "everydaycases = dft_ct_new_cases.cumsum(axis=1)"
   ]
  },
  {
   "cell_type": "code",
   "execution_count": 20,
   "id": "parliamentary-calgary",
   "metadata": {
    "execution": {
     "iopub.execute_input": "2021-11-06T12:11:37.811586Z",
     "iopub.status.busy": "2021-11-06T12:11:37.810976Z",
     "iopub.status.idle": "2021-11-06T12:11:38.490558Z",
     "shell.execute_reply": "2021-11-06T12:11:38.489901Z"
    },
    "papermill": {
     "duration": 0.724,
     "end_time": "2021-11-06T12:11:38.490720",
     "exception": false,
     "start_time": "2021-11-06T12:11:37.766720",
     "status": "completed"
    },
    "tags": []
   },
   "outputs": [],
   "source": [
    "#hide\n",
    "import pandas as pd\n",
    "import matplotlib.pyplot as plt\n",
    "import matplotlib.ticker as ticker\n",
    "import matplotlib.animation as animation\n",
    "from IPython.display import HTML"
   ]
  },
  {
   "cell_type": "code",
   "execution_count": 21,
   "id": "lasting-extraction",
   "metadata": {
    "execution": {
     "iopub.execute_input": "2021-11-06T12:11:38.574993Z",
     "iopub.status.busy": "2021-11-06T12:11:38.574351Z",
     "iopub.status.idle": "2021-11-06T12:11:38.580674Z",
     "shell.execute_reply": "2021-11-06T12:11:38.581188Z"
    },
    "papermill": {
     "duration": 0.051237,
     "end_time": "2021-11-06T12:11:38.581324",
     "exception": false,
     "start_time": "2021-11-06T12:11:38.530087",
     "status": "completed"
    },
    "tags": []
   },
   "outputs": [],
   "source": [
    "#hide\n",
    "t = everydaycases.stack()"
   ]
  },
  {
   "cell_type": "code",
   "execution_count": 22,
   "id": "premier-sleeve",
   "metadata": {
    "execution": {
     "iopub.execute_input": "2021-11-06T12:11:38.665547Z",
     "iopub.status.busy": "2021-11-06T12:11:38.664866Z",
     "iopub.status.idle": "2021-11-06T12:11:38.675538Z",
     "shell.execute_reply": "2021-11-06T12:11:38.675020Z"
    },
    "papermill": {
     "duration": 0.054103,
     "end_time": "2021-11-06T12:11:38.675664",
     "exception": false,
     "start_time": "2021-11-06T12:11:38.621561",
     "status": "completed"
    },
    "tags": []
   },
   "outputs": [],
   "source": [
    "#hide\n",
    "g = t.reset_index(['Country/Region'])"
   ]
  },
  {
   "cell_type": "code",
   "execution_count": 23,
   "id": "distributed-pittsburgh",
   "metadata": {
    "execution": {
     "iopub.execute_input": "2021-11-06T12:11:38.759117Z",
     "iopub.status.busy": "2021-11-06T12:11:38.758357Z",
     "iopub.status.idle": "2021-11-06T12:11:38.762505Z",
     "shell.execute_reply": "2021-11-06T12:11:38.761642Z"
    },
    "papermill": {
     "duration": 0.047004,
     "end_time": "2021-11-06T12:11:38.762703",
     "exception": false,
     "start_time": "2021-11-06T12:11:38.715699",
     "status": "completed"
    },
    "tags": []
   },
   "outputs": [],
   "source": [
    "#hide\n",
    "g.index.name = 'date'"
   ]
  },
  {
   "cell_type": "code",
   "execution_count": 24,
   "id": "naked-donor",
   "metadata": {
    "execution": {
     "iopub.execute_input": "2021-11-06T12:11:38.842882Z",
     "iopub.status.busy": "2021-11-06T12:11:38.842161Z",
     "iopub.status.idle": "2021-11-06T12:11:38.845924Z",
     "shell.execute_reply": "2021-11-06T12:11:38.845395Z"
    },
    "papermill": {
     "duration": 0.044697,
     "end_time": "2021-11-06T12:11:38.846075",
     "exception": false,
     "start_time": "2021-11-06T12:11:38.801378",
     "status": "completed"
    },
    "tags": []
   },
   "outputs": [],
   "source": [
    "# #hide\n",
    "# g = g.reset_index(['date'])"
   ]
  },
  {
   "cell_type": "code",
   "execution_count": 25,
   "id": "incomplete-mustang",
   "metadata": {
    "execution": {
     "iopub.execute_input": "2021-11-06T12:11:38.930572Z",
     "iopub.status.busy": "2021-11-06T12:11:38.929870Z",
     "iopub.status.idle": "2021-11-06T12:11:38.932797Z",
     "shell.execute_reply": "2021-11-06T12:11:38.932064Z"
    },
    "papermill": {
     "duration": 0.047391,
     "end_time": "2021-11-06T12:11:38.932946",
     "exception": false,
     "start_time": "2021-11-06T12:11:38.885555",
     "status": "completed"
    },
    "tags": []
   },
   "outputs": [],
   "source": [
    "#hide\n",
    "# g.head()"
   ]
  },
  {
   "cell_type": "code",
   "execution_count": 26,
   "id": "specific-kruger",
   "metadata": {
    "execution": {
     "iopub.execute_input": "2021-11-06T12:11:39.013410Z",
     "iopub.status.busy": "2021-11-06T12:11:39.012782Z",
     "iopub.status.idle": "2021-11-06T12:11:39.014716Z",
     "shell.execute_reply": "2021-11-06T12:11:39.015224Z"
    },
    "papermill": {
     "duration": 0.043903,
     "end_time": "2021-11-06T12:11:39.015358",
     "exception": false,
     "start_time": "2021-11-06T12:11:38.971455",
     "status": "completed"
    },
    "tags": []
   },
   "outputs": [],
   "source": [
    "#hide\n",
    "# g.columns = ['date','country','cases']"
   ]
  },
  {
   "cell_type": "code",
   "execution_count": 27,
   "id": "tender-conversion",
   "metadata": {
    "execution": {
     "iopub.execute_input": "2021-11-06T12:11:39.094282Z",
     "iopub.status.busy": "2021-11-06T12:11:39.093448Z",
     "iopub.status.idle": "2021-11-06T12:11:39.096220Z",
     "shell.execute_reply": "2021-11-06T12:11:39.095770Z"
    },
    "papermill": {
     "duration": 0.042815,
     "end_time": "2021-11-06T12:11:39.096332",
     "exception": false,
     "start_time": "2021-11-06T12:11:39.053517",
     "status": "completed"
    },
    "tags": []
   },
   "outputs": [],
   "source": [
    "#hide\n",
    "# g['continent'] = g.country"
   ]
  },
  {
   "cell_type": "code",
   "execution_count": 28,
   "id": "substantial-wilderness",
   "metadata": {
    "execution": {
     "iopub.execute_input": "2021-11-06T12:11:39.177177Z",
     "iopub.status.busy": "2021-11-06T12:11:39.176367Z",
     "iopub.status.idle": "2021-11-06T12:11:39.178278Z",
     "shell.execute_reply": "2021-11-06T12:11:39.178794Z"
    },
    "papermill": {
     "duration": 0.043877,
     "end_time": "2021-11-06T12:11:39.178961",
     "exception": false,
     "start_time": "2021-11-06T12:11:39.135084",
     "status": "completed"
    },
    "tags": []
   },
   "outputs": [],
   "source": [
    "#hide\n",
    "# cols = list(g.columns.values)"
   ]
  },
  {
   "cell_type": "code",
   "execution_count": 29,
   "id": "solved-farming",
   "metadata": {
    "execution": {
     "iopub.execute_input": "2021-11-06T12:11:39.261353Z",
     "iopub.status.busy": "2021-11-06T12:11:39.260639Z",
     "iopub.status.idle": "2021-11-06T12:11:39.262613Z",
     "shell.execute_reply": "2021-11-06T12:11:39.263086Z"
    },
    "papermill": {
     "duration": 0.045563,
     "end_time": "2021-11-06T12:11:39.263247",
     "exception": false,
     "start_time": "2021-11-06T12:11:39.217684",
     "status": "completed"
    },
    "tags": []
   },
   "outputs": [],
   "source": [
    "#hide\n",
    "# cols.insert(0, cols.pop())"
   ]
  },
  {
   "cell_type": "code",
   "execution_count": 30,
   "id": "executed-adoption",
   "metadata": {
    "execution": {
     "iopub.execute_input": "2021-11-06T12:11:39.343808Z",
     "iopub.status.busy": "2021-11-06T12:11:39.343149Z",
     "iopub.status.idle": "2021-11-06T12:11:39.347717Z",
     "shell.execute_reply": "2021-11-06T12:11:39.347175Z"
    },
    "papermill": {
     "duration": 0.047292,
     "end_time": "2021-11-06T12:11:39.347850",
     "exception": false,
     "start_time": "2021-11-06T12:11:39.300558",
     "status": "completed"
    },
    "tags": []
   },
   "outputs": [],
   "source": [
    "#hide\n",
    "# g = g[cols]"
   ]
  },
  {
   "cell_type": "code",
   "execution_count": 31,
   "id": "subject-dublin",
   "metadata": {
    "execution": {
     "iopub.execute_input": "2021-11-06T12:11:39.431571Z",
     "iopub.status.busy": "2021-11-06T12:11:39.430924Z",
     "iopub.status.idle": "2021-11-06T12:11:39.433139Z",
     "shell.execute_reply": "2021-11-06T12:11:39.433603Z"
    },
    "papermill": {
     "duration": 0.046587,
     "end_time": "2021-11-06T12:11:39.433772",
     "exception": false,
     "start_time": "2021-11-06T12:11:39.387185",
     "status": "completed"
    },
    "tags": []
   },
   "outputs": [],
   "source": [
    "#hide\n",
    "# g['continent'] = g['continent'].map(mapping['map.continent'])"
   ]
  },
  {
   "cell_type": "code",
   "execution_count": 32,
   "id": "freelance-scout",
   "metadata": {
    "execution": {
     "iopub.execute_input": "2021-11-06T12:11:39.515873Z",
     "iopub.status.busy": "2021-11-06T12:11:39.515035Z",
     "iopub.status.idle": "2021-11-06T12:11:39.517589Z",
     "shell.execute_reply": "2021-11-06T12:11:39.518082Z"
    },
    "papermill": {
     "duration": 0.045381,
     "end_time": "2021-11-06T12:11:39.518306",
     "exception": false,
     "start_time": "2021-11-06T12:11:39.472925",
     "status": "completed"
    },
    "tags": []
   },
   "outputs": [],
   "source": [
    "#hide\n",
    "# g.head()"
   ]
  },
  {
   "cell_type": "code",
   "execution_count": 33,
   "id": "limited-engine",
   "metadata": {
    "execution": {
     "iopub.execute_input": "2021-11-06T12:11:39.605422Z",
     "iopub.status.busy": "2021-11-06T12:11:39.604776Z",
     "iopub.status.idle": "2021-11-06T12:11:39.606833Z",
     "shell.execute_reply": "2021-11-06T12:11:39.607295Z"
    },
    "papermill": {
     "duration": 0.050089,
     "end_time": "2021-11-06T12:11:39.607435",
     "exception": false,
     "start_time": "2021-11-06T12:11:39.557346",
     "status": "completed"
    },
    "tags": []
   },
   "outputs": [],
   "source": [
    "# hide\n",
    "# g['date'] = g['date'].astype('datetime64[ns]')"
   ]
  },
  {
   "cell_type": "code",
   "execution_count": 34,
   "id": "sophisticated-supervisor",
   "metadata": {
    "execution": {
     "iopub.execute_input": "2021-11-06T12:11:39.689611Z",
     "iopub.status.busy": "2021-11-06T12:11:39.688876Z",
     "iopub.status.idle": "2021-11-06T12:11:39.691757Z",
     "shell.execute_reply": "2021-11-06T12:11:39.691118Z"
    },
    "papermill": {
     "duration": 0.045562,
     "end_time": "2021-11-06T12:11:39.691888",
     "exception": false,
     "start_time": "2021-11-06T12:11:39.646326",
     "status": "completed"
    },
    "tags": []
   },
   "outputs": [],
   "source": [
    "#hide\n",
    "# g['date'] = g.date.dt.dayofyear"
   ]
  },
  {
   "cell_type": "code",
   "execution_count": 35,
   "id": "inside-dubai",
   "metadata": {
    "execution": {
     "iopub.execute_input": "2021-11-06T12:11:39.772322Z",
     "iopub.status.busy": "2021-11-06T12:11:39.771695Z",
     "iopub.status.idle": "2021-11-06T12:11:39.775930Z",
     "shell.execute_reply": "2021-11-06T12:11:39.776532Z"
    },
    "papermill": {
     "duration": 0.045301,
     "end_time": "2021-11-06T12:11:39.776708",
     "exception": false,
     "start_time": "2021-11-06T12:11:39.731407",
     "status": "completed"
    },
    "tags": []
   },
   "outputs": [],
   "source": [
    "#hide\n",
    "# g = g.rename(columns= {'continent':'group','country':'name','cases':'value'})"
   ]
  },
  {
   "cell_type": "code",
   "execution_count": 36,
   "id": "fleet-motorcycle",
   "metadata": {
    "execution": {
     "iopub.execute_input": "2021-11-06T12:11:39.862193Z",
     "iopub.status.busy": "2021-11-06T12:11:39.861459Z",
     "iopub.status.idle": "2021-11-06T12:11:39.864002Z",
     "shell.execute_reply": "2021-11-06T12:11:39.863478Z"
    },
    "papermill": {
     "duration": 0.049109,
     "end_time": "2021-11-06T12:11:39.864128",
     "exception": false,
     "start_time": "2021-11-06T12:11:39.815019",
     "status": "completed"
    },
    "tags": []
   },
   "outputs": [],
   "source": [
    "#hide\n",
    "# cols = ['name','group','day','value']"
   ]
  },
  {
   "cell_type": "code",
   "execution_count": 37,
   "id": "continued-sleeping",
   "metadata": {
    "execution": {
     "iopub.execute_input": "2021-11-06T12:11:39.946873Z",
     "iopub.status.busy": "2021-11-06T12:11:39.946147Z",
     "iopub.status.idle": "2021-11-06T12:11:39.948856Z",
     "shell.execute_reply": "2021-11-06T12:11:39.948141Z"
    },
    "papermill": {
     "duration": 0.046578,
     "end_time": "2021-11-06T12:11:39.948990",
     "exception": false,
     "start_time": "2021-11-06T12:11:39.902412",
     "status": "completed"
    },
    "tags": []
   },
   "outputs": [],
   "source": [
    "#hide\n",
    "# g.rename(columns= {'date':'day'},inplace = True)"
   ]
  },
  {
   "cell_type": "code",
   "execution_count": 38,
   "id": "major-fight",
   "metadata": {
    "execution": {
     "iopub.execute_input": "2021-11-06T12:11:40.028808Z",
     "iopub.status.busy": "2021-11-06T12:11:40.028205Z",
     "iopub.status.idle": "2021-11-06T12:11:40.032063Z",
     "shell.execute_reply": "2021-11-06T12:11:40.032551Z"
    },
    "papermill": {
     "duration": 0.044855,
     "end_time": "2021-11-06T12:11:40.032681",
     "exception": false,
     "start_time": "2021-11-06T12:11:39.987826",
     "status": "completed"
    },
    "tags": []
   },
   "outputs": [],
   "source": [
    "#hide\n",
    "# g = g[cols]"
   ]
  },
  {
   "cell_type": "code",
   "execution_count": 39,
   "id": "structured-mobile",
   "metadata": {
    "execution": {
     "iopub.execute_input": "2021-11-06T12:11:40.113968Z",
     "iopub.status.busy": "2021-11-06T12:11:40.113383Z",
     "iopub.status.idle": "2021-11-06T12:11:40.116348Z",
     "shell.execute_reply": "2021-11-06T12:11:40.115430Z"
    },
    "papermill": {
     "duration": 0.045078,
     "end_time": "2021-11-06T12:11:40.116482",
     "exception": false,
     "start_time": "2021-11-06T12:11:40.071404",
     "status": "completed"
    },
    "tags": []
   },
   "outputs": [],
   "source": [
    "# #hide\n",
    "# g = g[g.group.notna()]"
   ]
  },
  {
   "cell_type": "code",
   "execution_count": 40,
   "id": "determined-closing",
   "metadata": {
    "execution": {
     "iopub.execute_input": "2021-11-06T12:11:40.195839Z",
     "iopub.status.busy": "2021-11-06T12:11:40.194981Z",
     "iopub.status.idle": "2021-11-06T12:11:40.197411Z",
     "shell.execute_reply": "2021-11-06T12:11:40.198056Z"
    },
    "papermill": {
     "duration": 0.043416,
     "end_time": "2021-11-06T12:11:40.198196",
     "exception": false,
     "start_time": "2021-11-06T12:11:40.154780",
     "status": "completed"
    },
    "tags": []
   },
   "outputs": [],
   "source": [
    "# #hide\n",
    "# colors = dict(zip(\n",
    "#     [\"Oceania\", \"Europe\", \"Asia\", \"South America\", \"Middle East\", \"North America\", \"Africa\"],\n",
    "#     [\"#adb0ff\", \"#ffb3ff\", \"#90d595\", \"#e48381\", \"#aafbff\", \"#f7bb5f\", \"#eafb50\"]\n",
    "# ))\n",
    "# group_lk = g.set_index('name')['group'].to_dict()"
   ]
  },
  {
   "cell_type": "code",
   "execution_count": null,
   "id": "gross-drinking",
   "metadata": {
    "papermill": {
     "duration": 0.036707,
     "end_time": "2021-11-06T12:11:40.277849",
     "exception": false,
     "start_time": "2021-11-06T12:11:40.241142",
     "status": "completed"
    },
    "tags": []
   },
   "outputs": [],
   "source": []
  },
  {
   "cell_type": "code",
   "execution_count": 41,
   "id": "subject-macintosh",
   "metadata": {
    "execution": {
     "iopub.execute_input": "2021-11-06T12:11:40.355259Z",
     "iopub.status.busy": "2021-11-06T12:11:40.354651Z",
     "iopub.status.idle": "2021-11-06T12:11:40.358111Z",
     "shell.execute_reply": "2021-11-06T12:11:40.357379Z"
    },
    "papermill": {
     "duration": 0.045081,
     "end_time": "2021-11-06T12:11:40.358232",
     "exception": false,
     "start_time": "2021-11-06T12:11:40.313151",
     "status": "completed"
    },
    "tags": []
   },
   "outputs": [],
   "source": [
    "# #hide\n",
    "# fig, ax = plt.subplots(figsize=(15, 8))\n",
    "\n",
    "# def draw_barchart(current_day):\n",
    "#     dff = g[g['day'].eq(current_day)].sort_values(by='value', ascending=True).tail(10)\n",
    "#     ax.clear()\n",
    "#     ax.barh(dff['name'], dff['value'], color=[colors[group_lk[x]] for x in dff['name']])\n",
    "#     dx = dff['value'].max() / 200\n",
    "    \n",
    "#     for i, (value, name) in enumerate(zip(dff['value'], dff['name'])):\n",
    "#         ax.text(value-dx, i,     name,           size=14, weight=600, ha='right', va='bottom')\n",
    "#         ax.text(value-dx, i-.25, group_lk[name], size=10, color='#444444', ha='right', va='baseline')\n",
    "#         ax.text(value+dx, i,     f'{value:,.0f}',  size=14, ha='left',  va='center')\n",
    "#     ax.text(1, 0.4, current_day, transform=ax.transAxes, color='#777777', size=46, ha='right', weight=800)\n",
    "#     ax.text(0, 1.06, 'Population (thousands)', transform=ax.transAxes, size=12, color='#777777')\n",
    "#     ax.xaxis.set_major_formatter(ticker.StrMethodFormatter('{x:,.0f}'))\n",
    "#     ax.xaxis.set_ticks_position('top')\n",
    "#     ax.tick_params(axis='x', colors='#777777', labelsize=12)\n",
    "#     ax.set_yticks([])\n",
    "#     ax.margins(0, 0.01)\n",
    "#     ax.grid(which='major', axis='x', linestyle='-')\n",
    "#     ax.set_axisbelow(True)\n",
    "    \n",
    "#     ax.text(0, 1.15, 'Coronavirus',\n",
    "#             transform=ax.transAxes, size=24, weight=600, ha='left', va='top')\n",
    "# #     ax.text(1, 0, 'by @pratapvardhan; credit @jburnmurdoch', transform=ax.transAxes, color='#777777', ha='right',\n",
    "# #             bbox=dict(facecolor='white', alpha=0.8, edgecolor='white'))\n",
    "#     plt.box(False)"
   ]
  },
  {
   "cell_type": "code",
   "execution_count": 42,
   "id": "sexual-wages",
   "metadata": {
    "execution": {
     "iopub.execute_input": "2021-11-06T12:11:40.436637Z",
     "iopub.status.busy": "2021-11-06T12:11:40.435903Z",
     "iopub.status.idle": "2021-11-06T12:11:40.440395Z",
     "shell.execute_reply": "2021-11-06T12:11:40.440997Z"
    },
    "papermill": {
     "duration": 0.044009,
     "end_time": "2021-11-06T12:11:40.441225",
     "exception": false,
     "start_time": "2021-11-06T12:11:40.397216",
     "status": "completed"
    },
    "tags": []
   },
   "outputs": [],
   "source": [
    "# #hide_input\n",
    "# fig, ax = plt.subplots(figsize=(15, 8))\n",
    "# animator = animation.FuncAnimation(fig, draw_barchart, frames=range(g.day.values.min(), g.day.values.max()))\n",
    "# HTML(animator.to_jshtml())\n",
    "# # or use animator.to_html5_video() or animator.save() "
   ]
  },
  {
   "cell_type": "code",
   "execution_count": null,
   "id": "australian-container",
   "metadata": {
    "papermill": {
     "duration": 0.037943,
     "end_time": "2021-11-06T12:11:40.516746",
     "exception": false,
     "start_time": "2021-11-06T12:11:40.478803",
     "status": "completed"
    },
    "tags": []
   },
   "outputs": [],
   "source": []
  },
  {
   "cell_type": "code",
   "execution_count": null,
   "id": "mediterranean-pontiac",
   "metadata": {
    "papermill": {
     "duration": 0.037426,
     "end_time": "2021-11-06T12:11:40.591806",
     "exception": false,
     "start_time": "2021-11-06T12:11:40.554380",
     "status": "completed"
    },
    "tags": []
   },
   "outputs": [],
   "source": []
  },
  {
   "cell_type": "code",
   "execution_count": null,
   "id": "aging-legislature",
   "metadata": {
    "papermill": {
     "duration": 0.037691,
     "end_time": "2021-11-06T12:11:40.669343",
     "exception": false,
     "start_time": "2021-11-06T12:11:40.631652",
     "status": "completed"
    },
    "tags": []
   },
   "outputs": [],
   "source": []
  }
 ],
 "metadata": {
  "kernelspec": {
   "display_name": "Python 3",
   "language": "python",
   "name": "python3"
  },
  "language_info": {
   "codemirror_mode": {
    "name": "ipython",
    "version": 3
   },
   "file_extension": ".py",
   "mimetype": "text/x-python",
   "name": "python",
   "nbconvert_exporter": "python",
   "pygments_lexer": "ipython3",
   "version": "3.6.15"
  },
  "papermill": {
   "duration": 7.003171,
   "end_time": "2021-11-06T12:11:41.014599",
   "environment_variables": {},
   "exception": null,
   "input_path": "2020-03-21-covid19exp.ipynb",
   "output_path": "2020-03-21-covid19exp.ipynb",
   "parameters": {},
   "start_time": "2021-11-06T12:11:34.011428",
   "version": "2.0.0"
  }
 },
 "nbformat": 4,
 "nbformat_minor": 5
}