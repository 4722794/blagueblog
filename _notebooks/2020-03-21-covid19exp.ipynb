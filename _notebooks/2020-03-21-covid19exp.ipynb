{
 "cells": [
  {
   "cell_type": "markdown",
   "metadata": {
    "papermill": {
     "duration": 0.033873,
     "end_time": "2020-12-02T12:07:15.672323",
     "exception": false,
     "start_time": "2020-12-02T12:07:15.638450",
     "status": "completed"
    },
    "tags": []
   },
   "source": [
    "# COVID-19 Case Race\n",
    "> A race chart to see rising cases around the world\n",
    "\n",
    "- author: Hargun Oberoi\n",
    "- image: images/covid-overview.png\n",
    "- hide: false\n",
    "- badges: false"
   ]
  },
  {
   "cell_type": "code",
   "execution_count": 1,
   "metadata": {
    "execution": {
     "iopub.execute_input": "2020-12-02T12:07:15.736058Z",
     "iopub.status.busy": "2020-12-02T12:07:15.735456Z",
     "iopub.status.idle": "2020-12-02T12:07:16.073272Z",
     "shell.execute_reply": "2020-12-02T12:07:16.072220Z"
    },
    "papermill": {
     "duration": 0.371748,
     "end_time": "2020-12-02T12:07:16.073431",
     "exception": false,
     "start_time": "2020-12-02T12:07:15.701683",
     "status": "completed"
    },
    "tags": []
   },
   "outputs": [],
   "source": [
    "#hide\n",
    "import numpy as np\n",
    "import pandas as pd\n",
    "from jinja2 import Template\n",
    "from IPython.display import HTML"
   ]
  },
  {
   "cell_type": "code",
   "execution_count": 2,
   "metadata": {
    "execution": {
     "iopub.execute_input": "2020-12-02T12:07:16.138262Z",
     "iopub.status.busy": "2020-12-02T12:07:16.137664Z",
     "iopub.status.idle": "2020-12-02T12:07:16.140523Z",
     "shell.execute_reply": "2020-12-02T12:07:16.140018Z"
    },
    "papermill": {
     "duration": 0.03808,
     "end_time": "2020-12-02T12:07:16.140649",
     "exception": false,
     "start_time": "2020-12-02T12:07:16.102569",
     "status": "completed"
    },
    "tags": []
   },
   "outputs": [],
   "source": [
    "#hide\n",
    "\n",
    "# FETCH\n",
    "base_url = 'https://raw.githubusercontent.com/pratapvardhan/notebooks/master/covid19/'\n",
    "paths = {\n",
    "    'mapping': base_url + 'mapping_countries.csv',\n",
    "    'overview': base_url + 'overview.tpl'\n",
    "}"
   ]
  },
  {
   "cell_type": "code",
   "execution_count": 3,
   "metadata": {
    "execution": {
     "iopub.execute_input": "2020-12-02T12:07:16.207709Z",
     "iopub.status.busy": "2020-12-02T12:07:16.207086Z",
     "iopub.status.idle": "2020-12-02T12:07:16.209816Z",
     "shell.execute_reply": "2020-12-02T12:07:16.210326Z"
    },
    "papermill": {
     "duration": 0.041571,
     "end_time": "2020-12-02T12:07:16.210460",
     "exception": false,
     "start_time": "2020-12-02T12:07:16.168889",
     "status": "completed"
    },
    "tags": []
   },
   "outputs": [
    {
     "data": {
      "text/plain": [
       "'https://raw.githubusercontent.com/pratapvardhan/notebooks/master/covid19/mapping_countries.csv'"
      ]
     },
     "execution_count": 3,
     "metadata": {},
     "output_type": "execute_result"
    }
   ],
   "source": [
    "#hide\n",
    "paths['mapping']"
   ]
  },
  {
   "cell_type": "code",
   "execution_count": 4,
   "metadata": {
    "execution": {
     "iopub.execute_input": "2020-12-02T12:07:16.274676Z",
     "iopub.status.busy": "2020-12-02T12:07:16.274052Z",
     "iopub.status.idle": "2020-12-02T12:07:16.276300Z",
     "shell.execute_reply": "2020-12-02T12:07:16.276803Z"
    },
    "papermill": {
     "duration": 0.038479,
     "end_time": "2020-12-02T12:07:16.276932",
     "exception": false,
     "start_time": "2020-12-02T12:07:16.238453",
     "status": "completed"
    },
    "tags": []
   },
   "outputs": [],
   "source": [
    "#hide\n",
    "def get_mappings(url):\n",
    "    df = pd.read_csv(url)\n",
    "    return {\n",
    "        'df': df,\n",
    "        'replace.country': dict(df.dropna(subset=['Name']).set_index('Country')['Name']),\n",
    "        'map.continent': dict(df.set_index('Name')['Continent'])\n",
    "    }"
   ]
  },
  {
   "cell_type": "code",
   "execution_count": 5,
   "metadata": {
    "execution": {
     "iopub.execute_input": "2020-12-02T12:07:16.342696Z",
     "iopub.status.busy": "2020-12-02T12:07:16.342101Z",
     "iopub.status.idle": "2020-12-02T12:07:16.421876Z",
     "shell.execute_reply": "2020-12-02T12:07:16.422712Z"
    },
    "papermill": {
     "duration": 0.11764,
     "end_time": "2020-12-02T12:07:16.422968",
     "exception": false,
     "start_time": "2020-12-02T12:07:16.305328",
     "status": "completed"
    },
    "tags": []
   },
   "outputs": [],
   "source": [
    "#hide\n",
    "mapping = get_mappings(paths['mapping'])"
   ]
  },
  {
   "cell_type": "code",
   "execution_count": 6,
   "metadata": {
    "execution": {
     "iopub.execute_input": "2020-12-02T12:07:16.487627Z",
     "iopub.status.busy": "2020-12-02T12:07:16.487022Z",
     "iopub.status.idle": "2020-12-02T12:07:16.488821Z",
     "shell.execute_reply": "2020-12-02T12:07:16.489297Z"
    },
    "papermill": {
     "duration": 0.037203,
     "end_time": "2020-12-02T12:07:16.489434",
     "exception": false,
     "start_time": "2020-12-02T12:07:16.452231",
     "status": "completed"
    },
    "tags": []
   },
   "outputs": [],
   "source": [
    "#hide\n",
    "def get_template(path):\n",
    "    from urllib.parse import urlparse\n",
    "    if bool(urlparse(path).netloc):\n",
    "        from urllib.request import urlopen\n",
    "        return urlopen(path).read().decode('utf8')\n",
    "    return open(path).read()"
   ]
  },
  {
   "cell_type": "code",
   "execution_count": 7,
   "metadata": {
    "execution": {
     "iopub.execute_input": "2020-12-02T12:07:16.554158Z",
     "iopub.status.busy": "2020-12-02T12:07:16.553607Z",
     "iopub.status.idle": "2020-12-02T12:07:16.556290Z",
     "shell.execute_reply": "2020-12-02T12:07:16.555826Z"
    },
    "papermill": {
     "duration": 0.038175,
     "end_time": "2020-12-02T12:07:16.556406",
     "exception": false,
     "start_time": "2020-12-02T12:07:16.518231",
     "status": "completed"
    },
    "tags": []
   },
   "outputs": [],
   "source": [
    "#hide\n",
    "def get_frame(name):\n",
    "    url = (\n",
    "        'https://raw.githubusercontent.com/CSSEGISandData/COVID-19/master/csse_covid_19_data/'\n",
    "        f'csse_covid_19_time_series/time_series_covid19_{name}_global.csv')\n",
    "    df = pd.read_csv(url)\n",
    "    # rename countries\n",
    "    df['Country/Region'] = df['Country/Region'].replace(mapping['replace.country'])\n",
    "    return df"
   ]
  },
  {
   "cell_type": "code",
   "execution_count": 8,
   "metadata": {
    "execution": {
     "iopub.execute_input": "2020-12-02T12:07:16.620798Z",
     "iopub.status.busy": "2020-12-02T12:07:16.620211Z",
     "iopub.status.idle": "2020-12-02T12:07:16.622520Z",
     "shell.execute_reply": "2020-12-02T12:07:16.623077Z"
    },
    "papermill": {
     "duration": 0.038147,
     "end_time": "2020-12-02T12:07:16.623247",
     "exception": false,
     "start_time": "2020-12-02T12:07:16.585100",
     "status": "completed"
    },
    "tags": []
   },
   "outputs": [],
   "source": [
    "#hide\n",
    "def get_dates(df):\n",
    "    dt_cols = df.columns[~df.columns.isin(['Province/State', 'Country/Region', 'Lat', 'Long'])]\n",
    "    LAST_DATE_I = -1\n",
    "    # sometimes last column may be empty, then go backwards\n",
    "    for i in range(-1, -len(dt_cols), -1):\n",
    "        if not df[dt_cols[i]].fillna(0).eq(0).all():\n",
    "            LAST_DATE_I = i\n",
    "            break\n",
    "    return LAST_DATE_I, dt_cols"
   ]
  },
  {
   "cell_type": "code",
   "execution_count": 9,
   "metadata": {
    "execution": {
     "iopub.execute_input": "2020-12-02T12:07:16.687590Z",
     "iopub.status.busy": "2020-12-02T12:07:16.686956Z",
     "iopub.status.idle": "2020-12-02T12:07:17.147395Z",
     "shell.execute_reply": "2020-12-02T12:07:17.148729Z"
    },
    "papermill": {
     "duration": 0.49682,
     "end_time": "2020-12-02T12:07:17.149041",
     "exception": false,
     "start_time": "2020-12-02T12:07:16.652221",
     "status": "completed"
    },
    "tags": []
   },
   "outputs": [],
   "source": [
    "#hide\n",
    "COL_REGION = 'Country/Region'\n",
    "# Confirmed, Recovered, Deaths\n",
    "df = get_frame('confirmed')\n",
    "# dft_: timeseries, dfc_: today country agg\n",
    "dft_cases = df\n",
    "dft_deaths = get_frame('deaths')\n",
    "dft_recovered = get_frame('recovered')\n",
    "LAST_DATE_I, dt_cols = get_dates(df)"
   ]
  },
  {
   "cell_type": "code",
   "execution_count": 10,
   "metadata": {
    "execution": {
     "iopub.execute_input": "2020-12-02T12:07:17.217004Z",
     "iopub.status.busy": "2020-12-02T12:07:17.216423Z",
     "iopub.status.idle": "2020-12-02T12:07:17.218849Z",
     "shell.execute_reply": "2020-12-02T12:07:17.218381Z"
    },
    "papermill": {
     "duration": 0.039406,
     "end_time": "2020-12-02T12:07:17.218973",
     "exception": false,
     "start_time": "2020-12-02T12:07:17.179567",
     "status": "completed"
    },
    "tags": []
   },
   "outputs": [],
   "source": [
    "#hide\n",
    "LAST_DATE_I, dt_cols = get_dates(df)\n",
    "dt_today =dt_cols[LAST_DATE_I]\n",
    "# dt_5day = dt_cols[LAST_DATE_I - 5]\n",
    "dt_yday = dt_cols[LAST_DATE_I - 1]"
   ]
  },
  {
   "cell_type": "code",
   "execution_count": 11,
   "metadata": {
    "execution": {
     "iopub.execute_input": "2020-12-02T12:07:17.284667Z",
     "iopub.status.busy": "2020-12-02T12:07:17.284085Z",
     "iopub.status.idle": "2020-12-02T12:07:17.292656Z",
     "shell.execute_reply": "2020-12-02T12:07:17.292188Z"
    },
    "papermill": {
     "duration": 0.045306,
     "end_time": "2020-12-02T12:07:17.292773",
     "exception": false,
     "start_time": "2020-12-02T12:07:17.247467",
     "status": "completed"
    },
    "tags": []
   },
   "outputs": [],
   "source": [
    "#hide\n",
    "dfc_cases = dft_cases.groupby(COL_REGION)[dt_today].sum()\n",
    "dfc_deaths = dft_deaths.groupby(COL_REGION)[dt_today].sum()\n",
    "# dfp_cases = dft_cases.groupby(COL_REGION)[dt_5day].sum()\n",
    "# dfp_deaths = dft_deaths.groupby(COL_REGION)[dt_5day].sum()\n",
    "dfp_cases = dft_cases.groupby(COL_REGION)[dt_yday].sum()\n",
    "dfp_deaths = dft_deaths.groupby(COL_REGION)[dt_yday].sum()"
   ]
  },
  {
   "cell_type": "code",
   "execution_count": 12,
   "metadata": {
    "execution": {
     "iopub.execute_input": "2020-12-02T12:07:17.358764Z",
     "iopub.status.busy": "2020-12-02T12:07:17.358165Z",
     "iopub.status.idle": "2020-12-02T12:07:17.365289Z",
     "shell.execute_reply": "2020-12-02T12:07:17.364269Z"
    },
    "papermill": {
     "duration": 0.043238,
     "end_time": "2020-12-02T12:07:17.365420",
     "exception": false,
     "start_time": "2020-12-02T12:07:17.322182",
     "status": "completed"
    },
    "tags": []
   },
   "outputs": [],
   "source": [
    "#hide\n",
    "df_table = (pd.DataFrame(dict(Cases = dfc_cases, Deaths = dfc_deaths, PCases = dfp_cases, PDeaths = dfp_deaths))\n",
    "            .sort_values(by = ['Cases','Deaths'], ascending = [False, False])\n",
    "            .reset_index())"
   ]
  },
  {
   "cell_type": "code",
   "execution_count": 13,
   "metadata": {
    "execution": {
     "iopub.execute_input": "2020-12-02T12:07:17.432725Z",
     "iopub.status.busy": "2020-12-02T12:07:17.432133Z",
     "iopub.status.idle": "2020-12-02T12:07:17.449806Z",
     "shell.execute_reply": "2020-12-02T12:07:17.450355Z"
    },
    "papermill": {
     "duration": 0.055778,
     "end_time": "2020-12-02T12:07:17.450505",
     "exception": false,
     "start_time": "2020-12-02T12:07:17.394727",
     "status": "completed"
    },
    "tags": []
   },
   "outputs": [
    {
     "data": {
      "text/html": [
       "<div>\n",
       "<style scoped>\n",
       "    .dataframe tbody tr th:only-of-type {\n",
       "        vertical-align: middle;\n",
       "    }\n",
       "\n",
       "    .dataframe tbody tr th {\n",
       "        vertical-align: top;\n",
       "    }\n",
       "\n",
       "    .dataframe thead th {\n",
       "        text-align: right;\n",
       "    }\n",
       "</style>\n",
       "<table border=\"1\" class=\"dataframe\">\n",
       "  <thead>\n",
       "    <tr style=\"text-align: right;\">\n",
       "      <th></th>\n",
       "      <th>Country/Region</th>\n",
       "      <th>Cases</th>\n",
       "      <th>Deaths</th>\n",
       "      <th>PCases</th>\n",
       "      <th>PDeaths</th>\n",
       "      <th>Cases (+)</th>\n",
       "      <th>Deaths (+)</th>\n",
       "      <th>Fatality Rate</th>\n",
       "      <th>Continent</th>\n",
       "    </tr>\n",
       "  </thead>\n",
       "  <tbody>\n",
       "    <tr>\n",
       "      <th>0</th>\n",
       "      <td>US</td>\n",
       "      <td>13721304</td>\n",
       "      <td>270642</td>\n",
       "      <td>13541221</td>\n",
       "      <td>268045</td>\n",
       "      <td>180083</td>\n",
       "      <td>2597</td>\n",
       "      <td>1.97</td>\n",
       "      <td>North America</td>\n",
       "    </tr>\n",
       "    <tr>\n",
       "      <th>1</th>\n",
       "      <td>India</td>\n",
       "      <td>9462809</td>\n",
       "      <td>137621</td>\n",
       "      <td>9462809</td>\n",
       "      <td>137621</td>\n",
       "      <td>0</td>\n",
       "      <td>0</td>\n",
       "      <td>1.45</td>\n",
       "      <td>Asia</td>\n",
       "    </tr>\n",
       "    <tr>\n",
       "      <th>2</th>\n",
       "      <td>Brazil</td>\n",
       "      <td>6386787</td>\n",
       "      <td>173817</td>\n",
       "      <td>6335878</td>\n",
       "      <td>173120</td>\n",
       "      <td>50909</td>\n",
       "      <td>697</td>\n",
       "      <td>2.72</td>\n",
       "      <td>South America</td>\n",
       "    </tr>\n",
       "    <tr>\n",
       "      <th>3</th>\n",
       "      <td>Russia</td>\n",
       "      <td>2302062</td>\n",
       "      <td>40050</td>\n",
       "      <td>2275936</td>\n",
       "      <td>39491</td>\n",
       "      <td>26126</td>\n",
       "      <td>559</td>\n",
       "      <td>1.74</td>\n",
       "      <td>Europe</td>\n",
       "    </tr>\n",
       "    <tr>\n",
       "      <th>4</th>\n",
       "      <td>France</td>\n",
       "      <td>2275429</td>\n",
       "      <td>52821</td>\n",
       "      <td>2275016</td>\n",
       "      <td>52819</td>\n",
       "      <td>413</td>\n",
       "      <td>2</td>\n",
       "      <td>2.32</td>\n",
       "      <td>Europe</td>\n",
       "    </tr>\n",
       "  </tbody>\n",
       "</table>\n",
       "</div>"
      ],
      "text/plain": [
       "  Country/Region     Cases  Deaths    PCases  PDeaths  Cases (+)  Deaths (+)  \\\n",
       "0             US  13721304  270642  13541221   268045     180083        2597   \n",
       "1          India   9462809  137621   9462809   137621          0           0   \n",
       "2         Brazil   6386787  173817   6335878   173120      50909         697   \n",
       "3         Russia   2302062   40050   2275936    39491      26126         559   \n",
       "4         France   2275429   52821   2275016    52819        413           2   \n",
       "\n",
       "   Fatality Rate      Continent  \n",
       "0           1.97  North America  \n",
       "1           1.45           Asia  \n",
       "2           2.72  South America  \n",
       "3           1.74         Europe  \n",
       "4           2.32         Europe  "
      ]
     },
     "execution_count": 13,
     "metadata": {},
     "output_type": "execute_result"
    }
   ],
   "source": [
    "#hide\n",
    "for c in 'Cases, Deaths'.split(', '):\n",
    "    df_table[f'{c} (+)'] = (df_table[c] - df_table[f'P{c}']).clip(0)\n",
    "    #Clip ça veut dire, les chiffres negatif sont interdit\n",
    "df_table['Fatality Rate'] = (100* df_table['Deaths']/ df_table['Cases']).round(2)\n",
    "df_table['Continent'] = df_table['Country/Region'].map(mapping['map.continent'])\n",
    "df_table.head(5)"
   ]
  },
  {
   "cell_type": "code",
   "execution_count": 14,
   "metadata": {
    "execution": {
     "iopub.execute_input": "2020-12-02T12:07:17.518516Z",
     "iopub.status.busy": "2020-12-02T12:07:17.517941Z",
     "iopub.status.idle": "2020-12-02T12:07:17.520520Z",
     "shell.execute_reply": "2020-12-02T12:07:17.520043Z"
    },
    "papermill": {
     "duration": 0.040419,
     "end_time": "2020-12-02T12:07:17.520670",
     "exception": false,
     "start_time": "2020-12-02T12:07:17.480251",
     "status": "completed"
    },
    "tags": []
   },
   "outputs": [],
   "source": [
    "#hide\n",
    "#delete problematic countries from table\n",
    "df_table = df_table[~df_table['Country/Region'].isin(['Cape Verde', 'Cruise Ship', 'Kosovo'])]"
   ]
  },
  {
   "cell_type": "code",
   "execution_count": 15,
   "metadata": {
    "execution": {
     "iopub.execute_input": "2020-12-02T12:07:17.591748Z",
     "iopub.status.busy": "2020-12-02T12:07:17.591113Z",
     "iopub.status.idle": "2020-12-02T12:07:17.609918Z",
     "shell.execute_reply": "2020-12-02T12:07:17.609417Z"
    },
    "papermill": {
     "duration": 0.059902,
     "end_time": "2020-12-02T12:07:17.610046",
     "exception": false,
     "start_time": "2020-12-02T12:07:17.550144",
     "status": "completed"
    },
    "tags": []
   },
   "outputs": [
    {
     "data": {
      "text/html": [
       "<div>\n",
       "<style scoped>\n",
       "    .dataframe tbody tr th:only-of-type {\n",
       "        vertical-align: middle;\n",
       "    }\n",
       "\n",
       "    .dataframe tbody tr th {\n",
       "        vertical-align: top;\n",
       "    }\n",
       "\n",
       "    .dataframe thead th {\n",
       "        text-align: right;\n",
       "    }\n",
       "</style>\n",
       "<table border=\"1\" class=\"dataframe\">\n",
       "  <thead>\n",
       "    <tr style=\"text-align: right;\">\n",
       "      <th></th>\n",
       "      <th>Country/Region</th>\n",
       "      <th>Cases</th>\n",
       "      <th>Deaths</th>\n",
       "      <th>PCases</th>\n",
       "      <th>PDeaths</th>\n",
       "      <th>Cases (+)</th>\n",
       "      <th>Deaths (+)</th>\n",
       "      <th>Fatality Rate</th>\n",
       "      <th>Continent</th>\n",
       "    </tr>\n",
       "  </thead>\n",
       "  <tbody>\n",
       "    <tr>\n",
       "      <th>0</th>\n",
       "      <td>US</td>\n",
       "      <td>13721304</td>\n",
       "      <td>270642</td>\n",
       "      <td>13541221</td>\n",
       "      <td>268045</td>\n",
       "      <td>180083</td>\n",
       "      <td>2597</td>\n",
       "      <td>2.0</td>\n",
       "      <td>North America</td>\n",
       "    </tr>\n",
       "    <tr>\n",
       "      <th>1</th>\n",
       "      <td>India</td>\n",
       "      <td>9462809</td>\n",
       "      <td>137621</td>\n",
       "      <td>9462809</td>\n",
       "      <td>137621</td>\n",
       "      <td>0</td>\n",
       "      <td>0</td>\n",
       "      <td>1.5</td>\n",
       "      <td>Asia</td>\n",
       "    </tr>\n",
       "    <tr>\n",
       "      <th>2</th>\n",
       "      <td>Brazil</td>\n",
       "      <td>6386787</td>\n",
       "      <td>173817</td>\n",
       "      <td>6335878</td>\n",
       "      <td>173120</td>\n",
       "      <td>50909</td>\n",
       "      <td>697</td>\n",
       "      <td>2.7</td>\n",
       "      <td>South America</td>\n",
       "    </tr>\n",
       "    <tr>\n",
       "      <th>3</th>\n",
       "      <td>Russia</td>\n",
       "      <td>2302062</td>\n",
       "      <td>40050</td>\n",
       "      <td>2275936</td>\n",
       "      <td>39491</td>\n",
       "      <td>26126</td>\n",
       "      <td>559</td>\n",
       "      <td>1.7</td>\n",
       "      <td>Europe</td>\n",
       "    </tr>\n",
       "    <tr>\n",
       "      <th>4</th>\n",
       "      <td>France</td>\n",
       "      <td>2275429</td>\n",
       "      <td>52821</td>\n",
       "      <td>2275016</td>\n",
       "      <td>52819</td>\n",
       "      <td>413</td>\n",
       "      <td>2</td>\n",
       "      <td>2.3</td>\n",
       "      <td>Europe</td>\n",
       "    </tr>\n",
       "  </tbody>\n",
       "</table>\n",
       "</div>"
      ],
      "text/plain": [
       "  Country/Region     Cases  Deaths    PCases  PDeaths  Cases (+)  Deaths (+)  \\\n",
       "0             US  13721304  270642  13541221   268045     180083        2597   \n",
       "1          India   9462809  137621   9462809   137621          0           0   \n",
       "2         Brazil   6386787  173817   6335878   173120      50909         697   \n",
       "3         Russia   2302062   40050   2275936    39491      26126         559   \n",
       "4         France   2275429   52821   2275016    52819        413           2   \n",
       "\n",
       "   Fatality Rate      Continent  \n",
       "0            2.0  North America  \n",
       "1            1.5           Asia  \n",
       "2            2.7  South America  \n",
       "3            1.7         Europe  \n",
       "4            2.3         Europe  "
      ]
     },
     "execution_count": 15,
     "metadata": {},
     "output_type": "execute_result"
    }
   ],
   "source": [
    "#hide\n",
    "df_table = (pd.DataFrame(dict(Cases=dfc_cases, Deaths=dfc_deaths, PCases=dfp_cases, PDeaths=dfp_deaths))\n",
    "             .sort_values(by=['Cases', 'Deaths'], ascending=[False, False])\n",
    "             .reset_index())\n",
    "df_table.rename(columns={'index': 'Country/Region'}, inplace=True)\n",
    "for c in 'Cases, Deaths'.split(', '):\n",
    "    df_table[f'{c} (+)'] = (df_table[c] - df_table[f'P{c}']).clip(0)  # DATA BUG\n",
    "df_table['Fatality Rate'] = (100 * df_table['Deaths'] / df_table['Cases']).round(1)\n",
    "df_table['Continent'] = df_table['Country/Region'].map(mapping['map.continent'])\n",
    "df_table.head(5)"
   ]
  },
  {
   "cell_type": "code",
   "execution_count": 16,
   "metadata": {
    "execution": {
     "iopub.execute_input": "2020-12-02T12:07:17.678922Z",
     "iopub.status.busy": "2020-12-02T12:07:17.678367Z",
     "iopub.status.idle": "2020-12-02T12:07:17.680667Z",
     "shell.execute_reply": "2020-12-02T12:07:17.681244Z"
    },
    "papermill": {
     "duration": 0.041186,
     "end_time": "2020-12-02T12:07:17.681390",
     "exception": false,
     "start_time": "2020-12-02T12:07:17.640204",
     "status": "completed"
    },
    "tags": []
   },
   "outputs": [],
   "source": [
    "#hide\n",
    "#delete problematic countries from table\n",
    "df_table = df_table[~df_table['Country/Region'].isin(['Cape Verde', 'Cruise Ship', 'Kosovo'])]"
   ]
  },
  {
   "cell_type": "code",
   "execution_count": 17,
   "metadata": {
    "execution": {
     "iopub.execute_input": "2020-12-02T12:07:17.753289Z",
     "iopub.status.busy": "2020-12-02T12:07:17.752720Z",
     "iopub.status.idle": "2020-12-02T12:07:17.765754Z",
     "shell.execute_reply": "2020-12-02T12:07:17.765271Z"
    },
    "papermill": {
     "duration": 0.0551,
     "end_time": "2020-12-02T12:07:17.765896",
     "exception": false,
     "start_time": "2020-12-02T12:07:17.710796",
     "status": "completed"
    },
    "tags": []
   },
   "outputs": [],
   "source": [
    "#hide\n",
    "metrics = [df_table.columns[index] for index in [1,2,5,6]]\n",
    "# s_china = df_table[df_table['Country/Region'].eq('China')][metrics].sum().add_prefix('China ')\n",
    "s_us = df_table[df_table['Country/Region'].eq('US')][metrics].sum().add_prefix('US ')\n",
    "s_eu = df_table[df_table['Continent'].eq('Europe')][metrics].sum().add_prefix('EU ')\n",
    "s_ind = df_table[df_table['Country/Region'].eq('India')][metrics].sum().add_prefix('India ')\n",
    "summary = {'updated': pd.to_datetime(dt_today), 'since': pd.to_datetime(dt_yday)}\n",
    "summary = {'updated': pd.to_datetime(dt_today), 'since': pd.to_datetime(dt_yday)}\n",
    "summary = {**summary, **df_table[metrics].sum(), **s_ind, **s_us, **s_eu}"
   ]
  },
  {
   "cell_type": "code",
   "execution_count": 18,
   "metadata": {
    "execution": {
     "iopub.execute_input": "2020-12-02T12:07:17.834994Z",
     "iopub.status.busy": "2020-12-02T12:07:17.834436Z",
     "iopub.status.idle": "2020-12-02T12:07:17.843542Z",
     "shell.execute_reply": "2020-12-02T12:07:17.842979Z"
    },
    "papermill": {
     "duration": 0.047497,
     "end_time": "2020-12-02T12:07:17.843673",
     "exception": false,
     "start_time": "2020-12-02T12:07:17.796176",
     "status": "completed"
    },
    "tags": []
   },
   "outputs": [],
   "source": [
    "#hide\n",
    "dft_ct_new_cases = dft_cases.groupby(COL_REGION)[dt_cols].sum().diff(axis=1).fillna(0).astype(int)"
   ]
  },
  {
   "cell_type": "code",
   "execution_count": 19,
   "metadata": {
    "execution": {
     "iopub.execute_input": "2020-12-02T12:07:17.913574Z",
     "iopub.status.busy": "2020-12-02T12:07:17.913015Z",
     "iopub.status.idle": "2020-12-02T12:07:17.914139Z",
     "shell.execute_reply": "2020-12-02T12:07:17.914639Z"
    },
    "papermill": {
     "duration": 0.041042,
     "end_time": "2020-12-02T12:07:17.914778",
     "exception": false,
     "start_time": "2020-12-02T12:07:17.873736",
     "status": "completed"
    },
    "tags": []
   },
   "outputs": [],
   "source": [
    "#hide\n",
    "everydaycases = dft_ct_new_cases.cumsum(axis=1)"
   ]
  },
  {
   "cell_type": "code",
   "execution_count": 20,
   "metadata": {
    "execution": {
     "iopub.execute_input": "2020-12-02T12:07:17.981092Z",
     "iopub.status.busy": "2020-12-02T12:07:17.980509Z",
     "iopub.status.idle": "2020-12-02T12:07:20.873747Z",
     "shell.execute_reply": "2020-12-02T12:07:20.873212Z"
    },
    "papermill": {
     "duration": 2.929003,
     "end_time": "2020-12-02T12:07:20.873873",
     "exception": false,
     "start_time": "2020-12-02T12:07:17.944870",
     "status": "completed"
    },
    "tags": []
   },
   "outputs": [],
   "source": [
    "#hide\n",
    "import pandas as pd\n",
    "import matplotlib.pyplot as plt\n",
    "import matplotlib.ticker as ticker\n",
    "import matplotlib.animation as animation\n",
    "from IPython.display import HTML"
   ]
  },
  {
   "cell_type": "code",
   "execution_count": 21,
   "metadata": {
    "execution": {
     "iopub.execute_input": "2020-12-02T12:07:20.940071Z",
     "iopub.status.busy": "2020-12-02T12:07:20.939483Z",
     "iopub.status.idle": "2020-12-02T12:07:20.946106Z",
     "shell.execute_reply": "2020-12-02T12:07:20.945640Z"
    },
    "papermill": {
     "duration": 0.042926,
     "end_time": "2020-12-02T12:07:20.946222",
     "exception": false,
     "start_time": "2020-12-02T12:07:20.903296",
     "status": "completed"
    },
    "tags": []
   },
   "outputs": [],
   "source": [
    "#hide\n",
    "t = everydaycases.stack()"
   ]
  },
  {
   "cell_type": "code",
   "execution_count": 22,
   "metadata": {
    "execution": {
     "iopub.execute_input": "2020-12-02T12:07:21.012361Z",
     "iopub.status.busy": "2020-12-02T12:07:21.011770Z",
     "iopub.status.idle": "2020-12-02T12:07:21.020489Z",
     "shell.execute_reply": "2020-12-02T12:07:21.020038Z"
    },
    "papermill": {
     "duration": 0.044851,
     "end_time": "2020-12-02T12:07:21.020612",
     "exception": false,
     "start_time": "2020-12-02T12:07:20.975761",
     "status": "completed"
    },
    "tags": []
   },
   "outputs": [],
   "source": [
    "#hide\n",
    "g = t.reset_index(['Country/Region'])"
   ]
  },
  {
   "cell_type": "code",
   "execution_count": 23,
   "metadata": {
    "execution": {
     "iopub.execute_input": "2020-12-02T12:07:21.086155Z",
     "iopub.status.busy": "2020-12-02T12:07:21.085288Z",
     "iopub.status.idle": "2020-12-02T12:07:21.086726Z",
     "shell.execute_reply": "2020-12-02T12:07:21.087172Z"
    },
    "papermill": {
     "duration": 0.036867,
     "end_time": "2020-12-02T12:07:21.087310",
     "exception": false,
     "start_time": "2020-12-02T12:07:21.050443",
     "status": "completed"
    },
    "tags": []
   },
   "outputs": [],
   "source": [
    "#hide\n",
    "g.index.name = 'date'"
   ]
  },
  {
   "cell_type": "code",
   "execution_count": 24,
   "metadata": {
    "execution": {
     "iopub.execute_input": "2020-12-02T12:07:21.152531Z",
     "iopub.status.busy": "2020-12-02T12:07:21.151485Z",
     "iopub.status.idle": "2020-12-02T12:07:21.153611Z",
     "shell.execute_reply": "2020-12-02T12:07:21.154419Z"
    },
    "papermill": {
     "duration": 0.037479,
     "end_time": "2020-12-02T12:07:21.154645",
     "exception": false,
     "start_time": "2020-12-02T12:07:21.117166",
     "status": "completed"
    },
    "tags": []
   },
   "outputs": [],
   "source": [
    "# #hide\n",
    "# g = g.reset_index(['date'])"
   ]
  },
  {
   "cell_type": "code",
   "execution_count": 25,
   "metadata": {
    "execution": {
     "iopub.execute_input": "2020-12-02T12:07:21.218652Z",
     "iopub.status.busy": "2020-12-02T12:07:21.218114Z",
     "iopub.status.idle": "2020-12-02T12:07:21.220594Z",
     "shell.execute_reply": "2020-12-02T12:07:21.221129Z"
    },
    "papermill": {
     "duration": 0.035909,
     "end_time": "2020-12-02T12:07:21.221269",
     "exception": false,
     "start_time": "2020-12-02T12:07:21.185360",
     "status": "completed"
    },
    "tags": []
   },
   "outputs": [],
   "source": [
    "#hide\n",
    "# g.head()"
   ]
  },
  {
   "cell_type": "code",
   "execution_count": 26,
   "metadata": {
    "execution": {
     "iopub.execute_input": "2020-12-02T12:07:21.285485Z",
     "iopub.status.busy": "2020-12-02T12:07:21.284949Z",
     "iopub.status.idle": "2020-12-02T12:07:21.287866Z",
     "shell.execute_reply": "2020-12-02T12:07:21.288401Z"
    },
    "papermill": {
     "duration": 0.037483,
     "end_time": "2020-12-02T12:07:21.288533",
     "exception": false,
     "start_time": "2020-12-02T12:07:21.251050",
     "status": "completed"
    },
    "tags": []
   },
   "outputs": [],
   "source": [
    "#hide\n",
    "# g.columns = ['date','country','cases']"
   ]
  },
  {
   "cell_type": "code",
   "execution_count": 27,
   "metadata": {
    "execution": {
     "iopub.execute_input": "2020-12-02T12:07:21.352407Z",
     "iopub.status.busy": "2020-12-02T12:07:21.351863Z",
     "iopub.status.idle": "2020-12-02T12:07:21.354441Z",
     "shell.execute_reply": "2020-12-02T12:07:21.353956Z"
    },
    "papermill": {
     "duration": 0.036649,
     "end_time": "2020-12-02T12:07:21.354560",
     "exception": false,
     "start_time": "2020-12-02T12:07:21.317911",
     "status": "completed"
    },
    "tags": []
   },
   "outputs": [],
   "source": [
    "#hide\n",
    "# g['continent'] = g.country"
   ]
  },
  {
   "cell_type": "code",
   "execution_count": 28,
   "metadata": {
    "execution": {
     "iopub.execute_input": "2020-12-02T12:07:21.418869Z",
     "iopub.status.busy": "2020-12-02T12:07:21.418290Z",
     "iopub.status.idle": "2020-12-02T12:07:21.421172Z",
     "shell.execute_reply": "2020-12-02T12:07:21.421721Z"
    },
    "papermill": {
     "duration": 0.037396,
     "end_time": "2020-12-02T12:07:21.421853",
     "exception": false,
     "start_time": "2020-12-02T12:07:21.384457",
     "status": "completed"
    },
    "tags": []
   },
   "outputs": [],
   "source": [
    "#hide\n",
    "# cols = list(g.columns.values)"
   ]
  },
  {
   "cell_type": "code",
   "execution_count": 29,
   "metadata": {
    "execution": {
     "iopub.execute_input": "2020-12-02T12:07:21.486983Z",
     "iopub.status.busy": "2020-12-02T12:07:21.486395Z",
     "iopub.status.idle": "2020-12-02T12:07:21.488839Z",
     "shell.execute_reply": "2020-12-02T12:07:21.489394Z"
    },
    "papermill": {
     "duration": 0.037856,
     "end_time": "2020-12-02T12:07:21.489539",
     "exception": false,
     "start_time": "2020-12-02T12:07:21.451683",
     "status": "completed"
    },
    "tags": []
   },
   "outputs": [],
   "source": [
    "#hide\n",
    "# cols.insert(0, cols.pop())"
   ]
  },
  {
   "cell_type": "code",
   "execution_count": 30,
   "metadata": {
    "execution": {
     "iopub.execute_input": "2020-12-02T12:07:21.555070Z",
     "iopub.status.busy": "2020-12-02T12:07:21.554525Z",
     "iopub.status.idle": "2020-12-02T12:07:21.556673Z",
     "shell.execute_reply": "2020-12-02T12:07:21.557232Z"
    },
    "papermill": {
     "duration": 0.03758,
     "end_time": "2020-12-02T12:07:21.557377",
     "exception": false,
     "start_time": "2020-12-02T12:07:21.519797",
     "status": "completed"
    },
    "tags": []
   },
   "outputs": [],
   "source": [
    "#hide\n",
    "# g = g[cols]"
   ]
  },
  {
   "cell_type": "code",
   "execution_count": 31,
   "metadata": {
    "execution": {
     "iopub.execute_input": "2020-12-02T12:07:21.622402Z",
     "iopub.status.busy": "2020-12-02T12:07:21.621071Z",
     "iopub.status.idle": "2020-12-02T12:07:21.623241Z",
     "shell.execute_reply": "2020-12-02T12:07:21.623719Z"
    },
    "papermill": {
     "duration": 0.036994,
     "end_time": "2020-12-02T12:07:21.623854",
     "exception": false,
     "start_time": "2020-12-02T12:07:21.586860",
     "status": "completed"
    },
    "tags": []
   },
   "outputs": [],
   "source": [
    "#hide\n",
    "# g['continent'] = g['continent'].map(mapping['map.continent'])"
   ]
  },
  {
   "cell_type": "code",
   "execution_count": 32,
   "metadata": {
    "execution": {
     "iopub.execute_input": "2020-12-02T12:07:21.698435Z",
     "iopub.status.busy": "2020-12-02T12:07:21.697841Z",
     "iopub.status.idle": "2020-12-02T12:07:21.700348Z",
     "shell.execute_reply": "2020-12-02T12:07:21.700908Z"
    },
    "papermill": {
     "duration": 0.046759,
     "end_time": "2020-12-02T12:07:21.701065",
     "exception": false,
     "start_time": "2020-12-02T12:07:21.654306",
     "status": "completed"
    },
    "tags": []
   },
   "outputs": [],
   "source": [
    "#hide\n",
    "# g.head()"
   ]
  },
  {
   "cell_type": "code",
   "execution_count": 33,
   "metadata": {
    "execution": {
     "iopub.execute_input": "2020-12-02T12:07:21.766584Z",
     "iopub.status.busy": "2020-12-02T12:07:21.766041Z",
     "iopub.status.idle": "2020-12-02T12:07:21.767929Z",
     "shell.execute_reply": "2020-12-02T12:07:21.768364Z"
    },
    "papermill": {
     "duration": 0.036938,
     "end_time": "2020-12-02T12:07:21.768496",
     "exception": false,
     "start_time": "2020-12-02T12:07:21.731558",
     "status": "completed"
    },
    "tags": []
   },
   "outputs": [],
   "source": [
    "# hide\n",
    "# g['date'] = g['date'].astype('datetime64[ns]')"
   ]
  },
  {
   "cell_type": "code",
   "execution_count": 34,
   "metadata": {
    "execution": {
     "iopub.execute_input": "2020-12-02T12:07:21.834576Z",
     "iopub.status.busy": "2020-12-02T12:07:21.834000Z",
     "iopub.status.idle": "2020-12-02T12:07:21.836810Z",
     "shell.execute_reply": "2020-12-02T12:07:21.836324Z"
    },
    "papermill": {
     "duration": 0.037145,
     "end_time": "2020-12-02T12:07:21.836922",
     "exception": false,
     "start_time": "2020-12-02T12:07:21.799777",
     "status": "completed"
    },
    "tags": []
   },
   "outputs": [],
   "source": [
    "#hide\n",
    "# g['date'] = g.date.dt.dayofyear"
   ]
  },
  {
   "cell_type": "code",
   "execution_count": 35,
   "metadata": {
    "execution": {
     "iopub.execute_input": "2020-12-02T12:07:21.907272Z",
     "iopub.status.busy": "2020-12-02T12:07:21.906698Z",
     "iopub.status.idle": "2020-12-02T12:07:21.908655Z",
     "shell.execute_reply": "2020-12-02T12:07:21.909095Z"
    },
    "papermill": {
     "duration": 0.040949,
     "end_time": "2020-12-02T12:07:21.909250",
     "exception": false,
     "start_time": "2020-12-02T12:07:21.868301",
     "status": "completed"
    },
    "tags": []
   },
   "outputs": [],
   "source": [
    "#hide\n",
    "# g = g.rename(columns= {'continent':'group','country':'name','cases':'value'})"
   ]
  },
  {
   "cell_type": "code",
   "execution_count": 36,
   "metadata": {
    "execution": {
     "iopub.execute_input": "2020-12-02T12:07:21.975327Z",
     "iopub.status.busy": "2020-12-02T12:07:21.974722Z",
     "iopub.status.idle": "2020-12-02T12:07:21.977200Z",
     "shell.execute_reply": "2020-12-02T12:07:21.977752Z"
    },
    "papermill": {
     "duration": 0.038473,
     "end_time": "2020-12-02T12:07:21.977886",
     "exception": false,
     "start_time": "2020-12-02T12:07:21.939413",
     "status": "completed"
    },
    "tags": []
   },
   "outputs": [],
   "source": [
    "#hide\n",
    "# cols = ['name','group','day','value']"
   ]
  },
  {
   "cell_type": "code",
   "execution_count": 37,
   "metadata": {
    "execution": {
     "iopub.execute_input": "2020-12-02T12:07:22.041991Z",
     "iopub.status.busy": "2020-12-02T12:07:22.041430Z",
     "iopub.status.idle": "2020-12-02T12:07:22.046625Z",
     "shell.execute_reply": "2020-12-02T12:07:22.047041Z"
    },
    "papermill": {
     "duration": 0.039162,
     "end_time": "2020-12-02T12:07:22.047197",
     "exception": false,
     "start_time": "2020-12-02T12:07:22.008035",
     "status": "completed"
    },
    "tags": []
   },
   "outputs": [],
   "source": [
    "#hide\n",
    "# g.rename(columns= {'date':'day'},inplace = True)"
   ]
  },
  {
   "cell_type": "code",
   "execution_count": 38,
   "metadata": {
    "execution": {
     "iopub.execute_input": "2020-12-02T12:07:22.111481Z",
     "iopub.status.busy": "2020-12-02T12:07:22.110841Z",
     "iopub.status.idle": "2020-12-02T12:07:22.113334Z",
     "shell.execute_reply": "2020-12-02T12:07:22.112894Z"
    },
    "papermill": {
     "duration": 0.036651,
     "end_time": "2020-12-02T12:07:22.113457",
     "exception": false,
     "start_time": "2020-12-02T12:07:22.076806",
     "status": "completed"
    },
    "tags": []
   },
   "outputs": [],
   "source": [
    "#hide\n",
    "# g = g[cols]"
   ]
  },
  {
   "cell_type": "code",
   "execution_count": 39,
   "metadata": {
    "execution": {
     "iopub.execute_input": "2020-12-02T12:07:22.181674Z",
     "iopub.status.busy": "2020-12-02T12:07:22.181058Z",
     "iopub.status.idle": "2020-12-02T12:07:22.182474Z",
     "shell.execute_reply": "2020-12-02T12:07:22.182932Z"
    },
    "papermill": {
     "duration": 0.039441,
     "end_time": "2020-12-02T12:07:22.183070",
     "exception": false,
     "start_time": "2020-12-02T12:07:22.143629",
     "status": "completed"
    },
    "tags": []
   },
   "outputs": [],
   "source": [
    "# #hide\n",
    "# g = g[g.group.notna()]"
   ]
  },
  {
   "cell_type": "code",
   "execution_count": 40,
   "metadata": {
    "execution": {
     "iopub.execute_input": "2020-12-02T12:07:22.252174Z",
     "iopub.status.busy": "2020-12-02T12:07:22.251560Z",
     "iopub.status.idle": "2020-12-02T12:07:22.254077Z",
     "shell.execute_reply": "2020-12-02T12:07:22.253586Z"
    },
    "papermill": {
     "duration": 0.039558,
     "end_time": "2020-12-02T12:07:22.254199",
     "exception": false,
     "start_time": "2020-12-02T12:07:22.214641",
     "status": "completed"
    },
    "tags": []
   },
   "outputs": [],
   "source": [
    "# #hide\n",
    "# colors = dict(zip(\n",
    "#     [\"Oceania\", \"Europe\", \"Asia\", \"South America\", \"Middle East\", \"North America\", \"Africa\"],\n",
    "#     [\"#adb0ff\", \"#ffb3ff\", \"#90d595\", \"#e48381\", \"#aafbff\", \"#f7bb5f\", \"#eafb50\"]\n",
    "# ))\n",
    "# group_lk = g.set_index('name')['group'].to_dict()"
   ]
  },
  {
   "cell_type": "code",
   "execution_count": null,
   "metadata": {
    "papermill": {
     "duration": 0.029951,
     "end_time": "2020-12-02T12:07:22.314623",
     "exception": false,
     "start_time": "2020-12-02T12:07:22.284672",
     "status": "completed"
    },
    "tags": []
   },
   "outputs": [],
   "source": []
  },
  {
   "cell_type": "code",
   "execution_count": 41,
   "metadata": {
    "execution": {
     "iopub.execute_input": "2020-12-02T12:07:22.383682Z",
     "iopub.status.busy": "2020-12-02T12:07:22.383050Z",
     "iopub.status.idle": "2020-12-02T12:07:22.385740Z",
     "shell.execute_reply": "2020-12-02T12:07:22.385266Z"
    },
    "papermill": {
     "duration": 0.039869,
     "end_time": "2020-12-02T12:07:22.385867",
     "exception": false,
     "start_time": "2020-12-02T12:07:22.345998",
     "status": "completed"
    },
    "tags": []
   },
   "outputs": [],
   "source": [
    "# #hide\n",
    "# fig, ax = plt.subplots(figsize=(15, 8))\n",
    "\n",
    "# def draw_barchart(current_day):\n",
    "#     dff = g[g['day'].eq(current_day)].sort_values(by='value', ascending=True).tail(10)\n",
    "#     ax.clear()\n",
    "#     ax.barh(dff['name'], dff['value'], color=[colors[group_lk[x]] for x in dff['name']])\n",
    "#     dx = dff['value'].max() / 200\n",
    "    \n",
    "#     for i, (value, name) in enumerate(zip(dff['value'], dff['name'])):\n",
    "#         ax.text(value-dx, i,     name,           size=14, weight=600, ha='right', va='bottom')\n",
    "#         ax.text(value-dx, i-.25, group_lk[name], size=10, color='#444444', ha='right', va='baseline')\n",
    "#         ax.text(value+dx, i,     f'{value:,.0f}',  size=14, ha='left',  va='center')\n",
    "#     ax.text(1, 0.4, current_day, transform=ax.transAxes, color='#777777', size=46, ha='right', weight=800)\n",
    "#     ax.text(0, 1.06, 'Population (thousands)', transform=ax.transAxes, size=12, color='#777777')\n",
    "#     ax.xaxis.set_major_formatter(ticker.StrMethodFormatter('{x:,.0f}'))\n",
    "#     ax.xaxis.set_ticks_position('top')\n",
    "#     ax.tick_params(axis='x', colors='#777777', labelsize=12)\n",
    "#     ax.set_yticks([])\n",
    "#     ax.margins(0, 0.01)\n",
    "#     ax.grid(which='major', axis='x', linestyle='-')\n",
    "#     ax.set_axisbelow(True)\n",
    "    \n",
    "#     ax.text(0, 1.15, 'Coronavirus',\n",
    "#             transform=ax.transAxes, size=24, weight=600, ha='left', va='top')\n",
    "# #     ax.text(1, 0, 'by @pratapvardhan; credit @jburnmurdoch', transform=ax.transAxes, color='#777777', ha='right',\n",
    "# #             bbox=dict(facecolor='white', alpha=0.8, edgecolor='white'))\n",
    "#     plt.box(False)"
   ]
  },
  {
   "cell_type": "code",
   "execution_count": 42,
   "metadata": {
    "execution": {
     "iopub.execute_input": "2020-12-02T12:07:22.453359Z",
     "iopub.status.busy": "2020-12-02T12:07:22.452772Z",
     "iopub.status.idle": "2020-12-02T12:07:22.455332Z",
     "shell.execute_reply": "2020-12-02T12:07:22.455852Z"
    },
    "papermill": {
     "duration": 0.039121,
     "end_time": "2020-12-02T12:07:22.455994",
     "exception": false,
     "start_time": "2020-12-02T12:07:22.416873",
     "status": "completed"
    },
    "tags": []
   },
   "outputs": [],
   "source": [
    "# #hide_input\n",
    "# fig, ax = plt.subplots(figsize=(15, 8))\n",
    "# animator = animation.FuncAnimation(fig, draw_barchart, frames=range(g.day.values.min(), g.day.values.max()))\n",
    "# HTML(animator.to_jshtml())\n",
    "# # or use animator.to_html5_video() or animator.save() "
   ]
  },
  {
   "cell_type": "code",
   "execution_count": null,
   "metadata": {
    "papermill": {
     "duration": 0.030164,
     "end_time": "2020-12-02T12:07:22.518238",
     "exception": false,
     "start_time": "2020-12-02T12:07:22.488074",
     "status": "completed"
    },
    "tags": []
   },
   "outputs": [],
   "source": []
  },
  {
   "cell_type": "code",
   "execution_count": null,
   "metadata": {
    "papermill": {
     "duration": 0.034076,
     "end_time": "2020-12-02T12:07:22.582831",
     "exception": false,
     "start_time": "2020-12-02T12:07:22.548755",
     "status": "completed"
    },
    "tags": []
   },
   "outputs": [],
   "source": []
  },
  {
   "cell_type": "code",
   "execution_count": null,
   "metadata": {
    "papermill": {
     "duration": 0.029867,
     "end_time": "2020-12-02T12:07:22.642855",
     "exception": false,
     "start_time": "2020-12-02T12:07:22.612988",
     "status": "completed"
    },
    "tags": []
   },
   "outputs": [],
   "source": []
  }
 ],
 "metadata": {
  "kernelspec": {
   "display_name": "Python 3",
   "language": "python",
   "name": "python3"
  },
  "language_info": {
   "codemirror_mode": {
    "name": "ipython",
    "version": 3
   },
   "file_extension": ".py",
   "mimetype": "text/x-python",
   "name": "python",
   "nbconvert_exporter": "python",
   "pygments_lexer": "ipython3",
   "version": "3.6.12"
  },
  "papermill": {
   "duration": 9.349997,
   "end_time": "2020-12-02T12:07:23.904860",
   "environment_variables": {},
   "exception": null,
   "input_path": "2020-03-21-covid19exp.ipynb",
   "output_path": "2020-03-21-covid19exp.ipynb",
   "parameters": {},
   "start_time": "2020-12-02T12:07:14.554863",
   "version": "2.0.0"
  }
 },
 "nbformat": 4,
 "nbformat_minor": 4
}