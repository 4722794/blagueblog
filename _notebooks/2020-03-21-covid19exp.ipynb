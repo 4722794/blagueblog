{
 "cells": [
  {
   "cell_type": "markdown",
   "id": "muslim-click",
   "metadata": {
    "papermill": {
     "duration": 0.044881,
     "end_time": "2021-12-14T12:13:25.198271",
     "exception": false,
     "start_time": "2021-12-14T12:13:25.153390",
     "status": "completed"
    },
    "tags": []
   },
   "source": [
    "# COVID-19 Case Race\n",
    "> A race chart to see rising cases around the world\n",
    "\n",
    "- author: Hargun Oberoi\n",
    "- image: images/covid-overview.png\n",
    "- hide: false\n",
    "- badges: false"
   ]
  },
  {
   "cell_type": "code",
   "execution_count": 1,
   "id": "proof-material",
   "metadata": {
    "execution": {
     "iopub.execute_input": "2021-12-14T12:13:25.289837Z",
     "iopub.status.busy": "2021-12-14T12:13:25.289120Z",
     "iopub.status.idle": "2021-12-14T12:13:25.724448Z",
     "shell.execute_reply": "2021-12-14T12:13:25.725371Z"
    },
    "papermill": {
     "duration": 0.487392,
     "end_time": "2021-12-14T12:13:25.725583",
     "exception": false,
     "start_time": "2021-12-14T12:13:25.238191",
     "status": "completed"
    },
    "tags": []
   },
   "outputs": [],
   "source": [
    "#hide\n",
    "import numpy as np\n",
    "import pandas as pd\n",
    "from jinja2 import Template\n",
    "from IPython.display import HTML"
   ]
  },
  {
   "cell_type": "code",
   "execution_count": 2,
   "id": "developed-terminology",
   "metadata": {
    "execution": {
     "iopub.execute_input": "2021-12-14T12:13:25.821293Z",
     "iopub.status.busy": "2021-12-14T12:13:25.820254Z",
     "iopub.status.idle": "2021-12-14T12:13:25.822444Z",
     "shell.execute_reply": "2021-12-14T12:13:25.823121Z"
    },
    "papermill": {
     "duration": 0.053365,
     "end_time": "2021-12-14T12:13:25.823278",
     "exception": false,
     "start_time": "2021-12-14T12:13:25.769913",
     "status": "completed"
    },
    "tags": []
   },
   "outputs": [],
   "source": [
    "#hide\n",
    "\n",
    "# FETCH\n",
    "base_url = 'https://raw.githubusercontent.com/pratapvardhan/notebooks/master/covid19/'\n",
    "paths = {\n",
    "    'mapping': base_url + 'mapping_countries.csv',\n",
    "    'overview': base_url + 'overview.tpl'\n",
    "}"
   ]
  },
  {
   "cell_type": "code",
   "execution_count": 3,
   "id": "dynamic-saver",
   "metadata": {
    "execution": {
     "iopub.execute_input": "2021-12-14T12:13:25.919262Z",
     "iopub.status.busy": "2021-12-14T12:13:25.918539Z",
     "iopub.status.idle": "2021-12-14T12:13:25.922408Z",
     "shell.execute_reply": "2021-12-14T12:13:25.921786Z"
    },
    "papermill": {
     "duration": 0.058872,
     "end_time": "2021-12-14T12:13:25.922549",
     "exception": false,
     "start_time": "2021-12-14T12:13:25.863677",
     "status": "completed"
    },
    "tags": []
   },
   "outputs": [
    {
     "data": {
      "text/plain": [
       "'https://raw.githubusercontent.com/pratapvardhan/notebooks/master/covid19/mapping_countries.csv'"
      ]
     },
     "execution_count": 3,
     "metadata": {},
     "output_type": "execute_result"
    }
   ],
   "source": [
    "#hide\n",
    "paths['mapping']"
   ]
  },
  {
   "cell_type": "code",
   "execution_count": 4,
   "id": "urban-software",
   "metadata": {
    "execution": {
     "iopub.execute_input": "2021-12-14T12:13:26.020651Z",
     "iopub.status.busy": "2021-12-14T12:13:26.019947Z",
     "iopub.status.idle": "2021-12-14T12:13:26.022532Z",
     "shell.execute_reply": "2021-12-14T12:13:26.021983Z"
    },
    "papermill": {
     "duration": 0.055027,
     "end_time": "2021-12-14T12:13:26.022673",
     "exception": false,
     "start_time": "2021-12-14T12:13:25.967646",
     "status": "completed"
    },
    "tags": []
   },
   "outputs": [],
   "source": [
    "#hide\n",
    "def get_mappings(url):\n",
    "    df = pd.read_csv(url)\n",
    "    return {\n",
    "        'df': df,\n",
    "        'replace.country': dict(df.dropna(subset=['Name']).set_index('Country')['Name']),\n",
    "        'map.continent': dict(df.set_index('Name')['Continent'])\n",
    "    }"
   ]
  },
  {
   "cell_type": "code",
   "execution_count": 5,
   "id": "intimate-machinery",
   "metadata": {
    "execution": {
     "iopub.execute_input": "2021-12-14T12:13:26.113084Z",
     "iopub.status.busy": "2021-12-14T12:13:26.111741Z",
     "iopub.status.idle": "2021-12-14T12:13:26.156678Z",
     "shell.execute_reply": "2021-12-14T12:13:26.157386Z"
    },
    "papermill": {
     "duration": 0.094327,
     "end_time": "2021-12-14T12:13:26.157575",
     "exception": false,
     "start_time": "2021-12-14T12:13:26.063248",
     "status": "completed"
    },
    "tags": []
   },
   "outputs": [],
   "source": [
    "#hide\n",
    "mapping = get_mappings(paths['mapping'])"
   ]
  },
  {
   "cell_type": "code",
   "execution_count": 6,
   "id": "certified-tactics",
   "metadata": {
    "execution": {
     "iopub.execute_input": "2021-12-14T12:13:26.245908Z",
     "iopub.status.busy": "2021-12-14T12:13:26.245199Z",
     "iopub.status.idle": "2021-12-14T12:13:26.247808Z",
     "shell.execute_reply": "2021-12-14T12:13:26.247225Z"
    },
    "papermill": {
     "duration": 0.047788,
     "end_time": "2021-12-14T12:13:26.247952",
     "exception": false,
     "start_time": "2021-12-14T12:13:26.200164",
     "status": "completed"
    },
    "tags": []
   },
   "outputs": [],
   "source": [
    "#hide\n",
    "def get_template(path):\n",
    "    from urllib.parse import urlparse\n",
    "    if bool(urlparse(path).netloc):\n",
    "        from urllib.request import urlopen\n",
    "        return urlopen(path).read().decode('utf8')\n",
    "    return open(path).read()"
   ]
  },
  {
   "cell_type": "code",
   "execution_count": 7,
   "id": "realistic-blast",
   "metadata": {
    "execution": {
     "iopub.execute_input": "2021-12-14T12:13:26.333732Z",
     "iopub.status.busy": "2021-12-14T12:13:26.333036Z",
     "iopub.status.idle": "2021-12-14T12:13:26.335049Z",
     "shell.execute_reply": "2021-12-14T12:13:26.335727Z"
    },
    "papermill": {
     "duration": 0.047519,
     "end_time": "2021-12-14T12:13:26.335891",
     "exception": false,
     "start_time": "2021-12-14T12:13:26.288372",
     "status": "completed"
    },
    "tags": []
   },
   "outputs": [],
   "source": [
    "#hide\n",
    "def get_frame(name):\n",
    "    url = (\n",
    "        'https://raw.githubusercontent.com/CSSEGISandData/COVID-19/master/csse_covid_19_data/'\n",
    "        f'csse_covid_19_time_series/time_series_covid19_{name}_global.csv')\n",
    "    df = pd.read_csv(url)\n",
    "    # rename countries\n",
    "    df['Country/Region'] = df['Country/Region'].replace(mapping['replace.country'])\n",
    "    return df"
   ]
  },
  {
   "cell_type": "code",
   "execution_count": 8,
   "id": "affiliated-characterization",
   "metadata": {
    "execution": {
     "iopub.execute_input": "2021-12-14T12:13:26.427178Z",
     "iopub.status.busy": "2021-12-14T12:13:26.426447Z",
     "iopub.status.idle": "2021-12-14T12:13:26.430649Z",
     "shell.execute_reply": "2021-12-14T12:13:26.431304Z"
    },
    "papermill": {
     "duration": 0.052769,
     "end_time": "2021-12-14T12:13:26.431518",
     "exception": false,
     "start_time": "2021-12-14T12:13:26.378749",
     "status": "completed"
    },
    "tags": []
   },
   "outputs": [],
   "source": [
    "#hide\n",
    "def get_dates(df):\n",
    "    dt_cols = df.columns[~df.columns.isin(['Province/State', 'Country/Region', 'Lat', 'Long'])]\n",
    "    LAST_DATE_I = -1\n",
    "    # sometimes last column may be empty, then go backwards\n",
    "    for i in range(-1, -len(dt_cols), -1):\n",
    "        if not df[dt_cols[i]].fillna(0).eq(0).all():\n",
    "            LAST_DATE_I = i\n",
    "            break\n",
    "    return LAST_DATE_I, dt_cols"
   ]
  },
  {
   "cell_type": "code",
   "execution_count": 9,
   "id": "recent-optimization",
   "metadata": {
    "execution": {
     "iopub.execute_input": "2021-12-14T12:13:26.527042Z",
     "iopub.status.busy": "2021-12-14T12:13:26.526168Z",
     "iopub.status.idle": "2021-12-14T12:13:27.021145Z",
     "shell.execute_reply": "2021-12-14T12:13:27.019828Z"
    },
    "papermill": {
     "duration": 0.547409,
     "end_time": "2021-12-14T12:13:27.021299",
     "exception": false,
     "start_time": "2021-12-14T12:13:26.473890",
     "status": "completed"
    },
    "tags": []
   },
   "outputs": [],
   "source": [
    "#hide\n",
    "COL_REGION = 'Country/Region'\n",
    "# Confirmed, Recovered, Deaths\n",
    "df = get_frame('confirmed')\n",
    "# dft_: timeseries, dfc_: today country agg\n",
    "dft_cases = df\n",
    "dft_deaths = get_frame('deaths')\n",
    "dft_recovered = get_frame('recovered')\n",
    "LAST_DATE_I, dt_cols = get_dates(df)"
   ]
  },
  {
   "cell_type": "code",
   "execution_count": 10,
   "id": "absolute-copper",
   "metadata": {
    "execution": {
     "iopub.execute_input": "2021-12-14T12:13:27.119973Z",
     "iopub.status.busy": "2021-12-14T12:13:27.118263Z",
     "iopub.status.idle": "2021-12-14T12:13:27.120882Z",
     "shell.execute_reply": "2021-12-14T12:13:27.121518Z"
    },
    "papermill": {
     "duration": 0.055667,
     "end_time": "2021-12-14T12:13:27.121668",
     "exception": false,
     "start_time": "2021-12-14T12:13:27.066001",
     "status": "completed"
    },
    "tags": []
   },
   "outputs": [],
   "source": [
    "#hide\n",
    "LAST_DATE_I, dt_cols = get_dates(df)\n",
    "dt_today =dt_cols[LAST_DATE_I]\n",
    "# dt_5day = dt_cols[LAST_DATE_I - 5]\n",
    "dt_yday = dt_cols[LAST_DATE_I - 1]"
   ]
  },
  {
   "cell_type": "code",
   "execution_count": 11,
   "id": "restricted-sheriff",
   "metadata": {
    "execution": {
     "iopub.execute_input": "2021-12-14T12:13:27.222077Z",
     "iopub.status.busy": "2021-12-14T12:13:27.221370Z",
     "iopub.status.idle": "2021-12-14T12:13:27.229287Z",
     "shell.execute_reply": "2021-12-14T12:13:27.230001Z"
    },
    "papermill": {
     "duration": 0.063707,
     "end_time": "2021-12-14T12:13:27.230181",
     "exception": false,
     "start_time": "2021-12-14T12:13:27.166474",
     "status": "completed"
    },
    "tags": []
   },
   "outputs": [],
   "source": [
    "#hide\n",
    "dfc_cases = dft_cases.groupby(COL_REGION)[dt_today].sum()\n",
    "dfc_deaths = dft_deaths.groupby(COL_REGION)[dt_today].sum()\n",
    "# dfp_cases = dft_cases.groupby(COL_REGION)[dt_5day].sum()\n",
    "# dfp_deaths = dft_deaths.groupby(COL_REGION)[dt_5day].sum()\n",
    "dfp_cases = dft_cases.groupby(COL_REGION)[dt_yday].sum()\n",
    "dfp_deaths = dft_deaths.groupby(COL_REGION)[dt_yday].sum()"
   ]
  },
  {
   "cell_type": "code",
   "execution_count": 12,
   "id": "deluxe-hepatitis",
   "metadata": {
    "execution": {
     "iopub.execute_input": "2021-12-14T12:13:27.322588Z",
     "iopub.status.busy": "2021-12-14T12:13:27.321883Z",
     "iopub.status.idle": "2021-12-14T12:13:27.327404Z",
     "shell.execute_reply": "2021-12-14T12:13:27.328188Z"
    },
    "papermill": {
     "duration": 0.057133,
     "end_time": "2021-12-14T12:13:27.328359",
     "exception": false,
     "start_time": "2021-12-14T12:13:27.271226",
     "status": "completed"
    },
    "tags": []
   },
   "outputs": [],
   "source": [
    "#hide\n",
    "df_table = (pd.DataFrame(dict(Cases = dfc_cases, Deaths = dfc_deaths, PCases = dfp_cases, PDeaths = dfp_deaths))\n",
    "            .sort_values(by = ['Cases','Deaths'], ascending = [False, False])\n",
    "            .reset_index())"
   ]
  },
  {
   "cell_type": "code",
   "execution_count": 13,
   "id": "educational-chancellor",
   "metadata": {
    "execution": {
     "iopub.execute_input": "2021-12-14T12:13:27.439694Z",
     "iopub.status.busy": "2021-12-14T12:13:27.438890Z",
     "iopub.status.idle": "2021-12-14T12:13:27.448628Z",
     "shell.execute_reply": "2021-12-14T12:13:27.449335Z"
    },
    "papermill": {
     "duration": 0.079076,
     "end_time": "2021-12-14T12:13:27.449502",
     "exception": false,
     "start_time": "2021-12-14T12:13:27.370426",
     "status": "completed"
    },
    "tags": []
   },
   "outputs": [
    {
     "data": {
      "text/html": [
       "<div>\n",
       "<style scoped>\n",
       "    .dataframe tbody tr th:only-of-type {\n",
       "        vertical-align: middle;\n",
       "    }\n",
       "\n",
       "    .dataframe tbody tr th {\n",
       "        vertical-align: top;\n",
       "    }\n",
       "\n",
       "    .dataframe thead th {\n",
       "        text-align: right;\n",
       "    }\n",
       "</style>\n",
       "<table border=\"1\" class=\"dataframe\">\n",
       "  <thead>\n",
       "    <tr style=\"text-align: right;\">\n",
       "      <th></th>\n",
       "      <th>Country/Region</th>\n",
       "      <th>Cases</th>\n",
       "      <th>Deaths</th>\n",
       "      <th>PCases</th>\n",
       "      <th>PDeaths</th>\n",
       "      <th>Cases (+)</th>\n",
       "      <th>Deaths (+)</th>\n",
       "      <th>Fatality Rate</th>\n",
       "      <th>Continent</th>\n",
       "    </tr>\n",
       "  </thead>\n",
       "  <tbody>\n",
       "    <tr>\n",
       "      <th>0</th>\n",
       "      <td>US</td>\n",
       "      <td>50119422</td>\n",
       "      <td>798710</td>\n",
       "      <td>49921405</td>\n",
       "      <td>797346</td>\n",
       "      <td>198017</td>\n",
       "      <td>1364</td>\n",
       "      <td>1.59</td>\n",
       "      <td>North America</td>\n",
       "    </tr>\n",
       "    <tr>\n",
       "      <th>1</th>\n",
       "      <td>India</td>\n",
       "      <td>34703644</td>\n",
       "      <td>475888</td>\n",
       "      <td>34697860</td>\n",
       "      <td>475636</td>\n",
       "      <td>5784</td>\n",
       "      <td>252</td>\n",
       "      <td>1.37</td>\n",
       "      <td>Asia</td>\n",
       "    </tr>\n",
       "    <tr>\n",
       "      <th>2</th>\n",
       "      <td>Brazil</td>\n",
       "      <td>22177059</td>\n",
       "      <td>616457</td>\n",
       "      <td>22177059</td>\n",
       "      <td>616457</td>\n",
       "      <td>0</td>\n",
       "      <td>0</td>\n",
       "      <td>2.78</td>\n",
       "      <td>South America</td>\n",
       "    </tr>\n",
       "    <tr>\n",
       "      <th>3</th>\n",
       "      <td>United Kingdom</td>\n",
       "      <td>10935244</td>\n",
       "      <td>146935</td>\n",
       "      <td>10881189</td>\n",
       "      <td>146896</td>\n",
       "      <td>54055</td>\n",
       "      <td>39</td>\n",
       "      <td>1.34</td>\n",
       "      <td>Europe</td>\n",
       "    </tr>\n",
       "    <tr>\n",
       "      <th>4</th>\n",
       "      <td>Russia</td>\n",
       "      <td>9871229</td>\n",
       "      <td>284909</td>\n",
       "      <td>9842021</td>\n",
       "      <td>283815</td>\n",
       "      <td>29208</td>\n",
       "      <td>1094</td>\n",
       "      <td>2.89</td>\n",
       "      <td>Europe</td>\n",
       "    </tr>\n",
       "  </tbody>\n",
       "</table>\n",
       "</div>"
      ],
      "text/plain": [
       "   Country/Region     Cases  Deaths    PCases  PDeaths  Cases (+)  Deaths (+)  \\\n",
       "0              US  50119422  798710  49921405   797346     198017        1364   \n",
       "1           India  34703644  475888  34697860   475636       5784         252   \n",
       "2          Brazil  22177059  616457  22177059   616457          0           0   \n",
       "3  United Kingdom  10935244  146935  10881189   146896      54055          39   \n",
       "4          Russia   9871229  284909   9842021   283815      29208        1094   \n",
       "\n",
       "   Fatality Rate      Continent  \n",
       "0           1.59  North America  \n",
       "1           1.37           Asia  \n",
       "2           2.78  South America  \n",
       "3           1.34         Europe  \n",
       "4           2.89         Europe  "
      ]
     },
     "execution_count": 13,
     "metadata": {},
     "output_type": "execute_result"
    }
   ],
   "source": [
    "#hide\n",
    "for c in 'Cases, Deaths'.split(', '):\n",
    "    df_table[f'{c} (+)'] = (df_table[c] - df_table[f'P{c}']).clip(0)\n",
    "    #Clip ça veut dire, les chiffres negatif sont interdit\n",
    "df_table['Fatality Rate'] = (100* df_table['Deaths']/ df_table['Cases']).round(2)\n",
    "df_table['Continent'] = df_table['Country/Region'].map(mapping['map.continent'])\n",
    "df_table.head(5)"
   ]
  },
  {
   "cell_type": "code",
   "execution_count": 14,
   "id": "aboriginal-bulgaria",
   "metadata": {
    "execution": {
     "iopub.execute_input": "2021-12-14T12:13:27.544304Z",
     "iopub.status.busy": "2021-12-14T12:13:27.543611Z",
     "iopub.status.idle": "2021-12-14T12:13:27.546211Z",
     "shell.execute_reply": "2021-12-14T12:13:27.546820Z"
    },
    "papermill": {
     "duration": 0.052802,
     "end_time": "2021-12-14T12:13:27.546995",
     "exception": false,
     "start_time": "2021-12-14T12:13:27.494193",
     "status": "completed"
    },
    "tags": []
   },
   "outputs": [],
   "source": [
    "#hide\n",
    "#delete problematic countries from table\n",
    "df_table = df_table[~df_table['Country/Region'].isin(['Cape Verde', 'Cruise Ship', 'Kosovo'])]"
   ]
  },
  {
   "cell_type": "code",
   "execution_count": 15,
   "id": "fantastic-effect",
   "metadata": {
    "execution": {
     "iopub.execute_input": "2021-12-14T12:13:27.638655Z",
     "iopub.status.busy": "2021-12-14T12:13:27.637875Z",
     "iopub.status.idle": "2021-12-14T12:13:27.662936Z",
     "shell.execute_reply": "2021-12-14T12:13:27.662355Z"
    },
    "papermill": {
     "duration": 0.075021,
     "end_time": "2021-12-14T12:13:27.663076",
     "exception": false,
     "start_time": "2021-12-14T12:13:27.588055",
     "status": "completed"
    },
    "tags": []
   },
   "outputs": [
    {
     "data": {
      "text/html": [
       "<div>\n",
       "<style scoped>\n",
       "    .dataframe tbody tr th:only-of-type {\n",
       "        vertical-align: middle;\n",
       "    }\n",
       "\n",
       "    .dataframe tbody tr th {\n",
       "        vertical-align: top;\n",
       "    }\n",
       "\n",
       "    .dataframe thead th {\n",
       "        text-align: right;\n",
       "    }\n",
       "</style>\n",
       "<table border=\"1\" class=\"dataframe\">\n",
       "  <thead>\n",
       "    <tr style=\"text-align: right;\">\n",
       "      <th></th>\n",
       "      <th>Country/Region</th>\n",
       "      <th>Cases</th>\n",
       "      <th>Deaths</th>\n",
       "      <th>PCases</th>\n",
       "      <th>PDeaths</th>\n",
       "      <th>Cases (+)</th>\n",
       "      <th>Deaths (+)</th>\n",
       "      <th>Fatality Rate</th>\n",
       "      <th>Continent</th>\n",
       "    </tr>\n",
       "  </thead>\n",
       "  <tbody>\n",
       "    <tr>\n",
       "      <th>0</th>\n",
       "      <td>US</td>\n",
       "      <td>50119422</td>\n",
       "      <td>798710</td>\n",
       "      <td>49921405</td>\n",
       "      <td>797346</td>\n",
       "      <td>198017</td>\n",
       "      <td>1364</td>\n",
       "      <td>1.6</td>\n",
       "      <td>North America</td>\n",
       "    </tr>\n",
       "    <tr>\n",
       "      <th>1</th>\n",
       "      <td>India</td>\n",
       "      <td>34703644</td>\n",
       "      <td>475888</td>\n",
       "      <td>34697860</td>\n",
       "      <td>475636</td>\n",
       "      <td>5784</td>\n",
       "      <td>252</td>\n",
       "      <td>1.4</td>\n",
       "      <td>Asia</td>\n",
       "    </tr>\n",
       "    <tr>\n",
       "      <th>2</th>\n",
       "      <td>Brazil</td>\n",
       "      <td>22177059</td>\n",
       "      <td>616457</td>\n",
       "      <td>22177059</td>\n",
       "      <td>616457</td>\n",
       "      <td>0</td>\n",
       "      <td>0</td>\n",
       "      <td>2.8</td>\n",
       "      <td>South America</td>\n",
       "    </tr>\n",
       "    <tr>\n",
       "      <th>3</th>\n",
       "      <td>United Kingdom</td>\n",
       "      <td>10935244</td>\n",
       "      <td>146935</td>\n",
       "      <td>10881189</td>\n",
       "      <td>146896</td>\n",
       "      <td>54055</td>\n",
       "      <td>39</td>\n",
       "      <td>1.3</td>\n",
       "      <td>Europe</td>\n",
       "    </tr>\n",
       "    <tr>\n",
       "      <th>4</th>\n",
       "      <td>Russia</td>\n",
       "      <td>9871229</td>\n",
       "      <td>284909</td>\n",
       "      <td>9842021</td>\n",
       "      <td>283815</td>\n",
       "      <td>29208</td>\n",
       "      <td>1094</td>\n",
       "      <td>2.9</td>\n",
       "      <td>Europe</td>\n",
       "    </tr>\n",
       "  </tbody>\n",
       "</table>\n",
       "</div>"
      ],
      "text/plain": [
       "   Country/Region     Cases  Deaths    PCases  PDeaths  Cases (+)  Deaths (+)  \\\n",
       "0              US  50119422  798710  49921405   797346     198017        1364   \n",
       "1           India  34703644  475888  34697860   475636       5784         252   \n",
       "2          Brazil  22177059  616457  22177059   616457          0           0   \n",
       "3  United Kingdom  10935244  146935  10881189   146896      54055          39   \n",
       "4          Russia   9871229  284909   9842021   283815      29208        1094   \n",
       "\n",
       "   Fatality Rate      Continent  \n",
       "0            1.6  North America  \n",
       "1            1.4           Asia  \n",
       "2            2.8  South America  \n",
       "3            1.3         Europe  \n",
       "4            2.9         Europe  "
      ]
     },
     "execution_count": 15,
     "metadata": {},
     "output_type": "execute_result"
    }
   ],
   "source": [
    "#hide\n",
    "df_table = (pd.DataFrame(dict(Cases=dfc_cases, Deaths=dfc_deaths, PCases=dfp_cases, PDeaths=dfp_deaths))\n",
    "             .sort_values(by=['Cases', 'Deaths'], ascending=[False, False])\n",
    "             .reset_index())\n",
    "df_table.rename(columns={'index': 'Country/Region'}, inplace=True)\n",
    "for c in 'Cases, Deaths'.split(', '):\n",
    "    df_table[f'{c} (+)'] = (df_table[c] - df_table[f'P{c}']).clip(0)  # DATA BUG\n",
    "df_table['Fatality Rate'] = (100 * df_table['Deaths'] / df_table['Cases']).round(1)\n",
    "df_table['Continent'] = df_table['Country/Region'].map(mapping['map.continent'])\n",
    "df_table.head(5)"
   ]
  },
  {
   "cell_type": "code",
   "execution_count": 16,
   "id": "fewer-occasion",
   "metadata": {
    "execution": {
     "iopub.execute_input": "2021-12-14T12:13:27.759559Z",
     "iopub.status.busy": "2021-12-14T12:13:27.758765Z",
     "iopub.status.idle": "2021-12-14T12:13:27.761638Z",
     "shell.execute_reply": "2021-12-14T12:13:27.762390Z"
    },
    "papermill": {
     "duration": 0.056822,
     "end_time": "2021-12-14T12:13:27.762540",
     "exception": false,
     "start_time": "2021-12-14T12:13:27.705718",
     "status": "completed"
    },
    "tags": []
   },
   "outputs": [],
   "source": [
    "#hide\n",
    "#delete problematic countries from table\n",
    "df_table = df_table[~df_table['Country/Region'].isin(['Cape Verde', 'Cruise Ship', 'Kosovo'])]"
   ]
  },
  {
   "cell_type": "code",
   "execution_count": 17,
   "id": "related-center",
   "metadata": {
    "execution": {
     "iopub.execute_input": "2021-12-14T12:13:27.878246Z",
     "iopub.status.busy": "2021-12-14T12:13:27.877524Z",
     "iopub.status.idle": "2021-12-14T12:13:27.880502Z",
     "shell.execute_reply": "2021-12-14T12:13:27.879827Z"
    },
    "papermill": {
     "duration": 0.073367,
     "end_time": "2021-12-14T12:13:27.880652",
     "exception": false,
     "start_time": "2021-12-14T12:13:27.807285",
     "status": "completed"
    },
    "tags": []
   },
   "outputs": [],
   "source": [
    "#hide\n",
    "metrics = [df_table.columns[index] for index in [1,2,5,6]]\n",
    "# s_china = df_table[df_table['Country/Region'].eq('China')][metrics].sum().add_prefix('China ')\n",
    "s_us = df_table[df_table['Country/Region'].eq('US')][metrics].sum().add_prefix('US ')\n",
    "s_eu = df_table[df_table['Continent'].eq('Europe')][metrics].sum().add_prefix('EU ')\n",
    "s_ind = df_table[df_table['Country/Region'].eq('India')][metrics].sum().add_prefix('India ')\n",
    "summary = {'updated': pd.to_datetime(dt_today), 'since': pd.to_datetime(dt_yday)}\n",
    "summary = {'updated': pd.to_datetime(dt_today), 'since': pd.to_datetime(dt_yday)}\n",
    "summary = {**summary, **df_table[metrics].sum(), **s_ind, **s_us, **s_eu}"
   ]
  },
  {
   "cell_type": "code",
   "execution_count": 18,
   "id": "engaging-syndrome",
   "metadata": {
    "execution": {
     "iopub.execute_input": "2021-12-14T12:13:27.974223Z",
     "iopub.status.busy": "2021-12-14T12:13:27.973410Z",
     "iopub.status.idle": "2021-12-14T12:13:27.990604Z",
     "shell.execute_reply": "2021-12-14T12:13:27.989961Z"
    },
    "papermill": {
     "duration": 0.066166,
     "end_time": "2021-12-14T12:13:27.990786",
     "exception": false,
     "start_time": "2021-12-14T12:13:27.924620",
     "status": "completed"
    },
    "tags": []
   },
   "outputs": [],
   "source": [
    "#hide\n",
    "dft_ct_new_cases = dft_cases.groupby(COL_REGION)[dt_cols].sum().diff(axis=1).fillna(0).astype(int)"
   ]
  },
  {
   "cell_type": "code",
   "execution_count": 19,
   "id": "neutral-assignment",
   "metadata": {
    "execution": {
     "iopub.execute_input": "2021-12-14T12:13:28.095973Z",
     "iopub.status.busy": "2021-12-14T12:13:28.095252Z",
     "iopub.status.idle": "2021-12-14T12:13:28.099545Z",
     "shell.execute_reply": "2021-12-14T12:13:28.098943Z"
    },
    "papermill": {
     "duration": 0.060468,
     "end_time": "2021-12-14T12:13:28.099694",
     "exception": false,
     "start_time": "2021-12-14T12:13:28.039226",
     "status": "completed"
    },
    "tags": []
   },
   "outputs": [],
   "source": [
    "#hide\n",
    "everydaycases = dft_ct_new_cases.cumsum(axis=1)"
   ]
  },
  {
   "cell_type": "code",
   "execution_count": 20,
   "id": "parliamentary-calgary",
   "metadata": {
    "execution": {
     "iopub.execute_input": "2021-12-14T12:13:28.195505Z",
     "iopub.status.busy": "2021-12-14T12:13:28.194761Z",
     "iopub.status.idle": "2021-12-14T12:13:28.991392Z",
     "shell.execute_reply": "2021-12-14T12:13:28.990401Z"
    },
    "papermill": {
     "duration": 0.845053,
     "end_time": "2021-12-14T12:13:28.991597",
     "exception": false,
     "start_time": "2021-12-14T12:13:28.146544",
     "status": "completed"
    },
    "tags": []
   },
   "outputs": [],
   "source": [
    "#hide\n",
    "import pandas as pd\n",
    "import matplotlib.pyplot as plt\n",
    "import matplotlib.ticker as ticker\n",
    "import matplotlib.animation as animation\n",
    "from IPython.display import HTML"
   ]
  },
  {
   "cell_type": "code",
   "execution_count": 21,
   "id": "lasting-extraction",
   "metadata": {
    "execution": {
     "iopub.execute_input": "2021-12-14T12:13:29.099394Z",
     "iopub.status.busy": "2021-12-14T12:13:29.098725Z",
     "iopub.status.idle": "2021-12-14T12:13:29.106141Z",
     "shell.execute_reply": "2021-12-14T12:13:29.105445Z"
    },
    "papermill": {
     "duration": 0.066724,
     "end_time": "2021-12-14T12:13:29.106293",
     "exception": false,
     "start_time": "2021-12-14T12:13:29.039569",
     "status": "completed"
    },
    "tags": []
   },
   "outputs": [],
   "source": [
    "#hide\n",
    "t = everydaycases.stack()"
   ]
  },
  {
   "cell_type": "code",
   "execution_count": 22,
   "id": "premier-sleeve",
   "metadata": {
    "execution": {
     "iopub.execute_input": "2021-12-14T12:13:29.200343Z",
     "iopub.status.busy": "2021-12-14T12:13:29.199621Z",
     "iopub.status.idle": "2021-12-14T12:13:29.211941Z",
     "shell.execute_reply": "2021-12-14T12:13:29.211165Z"
    },
    "papermill": {
     "duration": 0.061347,
     "end_time": "2021-12-14T12:13:29.212147",
     "exception": false,
     "start_time": "2021-12-14T12:13:29.150800",
     "status": "completed"
    },
    "tags": []
   },
   "outputs": [],
   "source": [
    "#hide\n",
    "g = t.reset_index(['Country/Region'])"
   ]
  },
  {
   "cell_type": "code",
   "execution_count": 23,
   "id": "distributed-pittsburgh",
   "metadata": {
    "execution": {
     "iopub.execute_input": "2021-12-14T12:13:29.306620Z",
     "iopub.status.busy": "2021-12-14T12:13:29.305914Z",
     "iopub.status.idle": "2021-12-14T12:13:29.310095Z",
     "shell.execute_reply": "2021-12-14T12:13:29.310624Z"
    },
    "papermill": {
     "duration": 0.054582,
     "end_time": "2021-12-14T12:13:29.310787",
     "exception": false,
     "start_time": "2021-12-14T12:13:29.256205",
     "status": "completed"
    },
    "tags": []
   },
   "outputs": [],
   "source": [
    "#hide\n",
    "g.index.name = 'date'"
   ]
  },
  {
   "cell_type": "code",
   "execution_count": 24,
   "id": "naked-donor",
   "metadata": {
    "execution": {
     "iopub.execute_input": "2021-12-14T12:13:29.398368Z",
     "iopub.status.busy": "2021-12-14T12:13:29.396740Z",
     "iopub.status.idle": "2021-12-14T12:13:29.399135Z",
     "shell.execute_reply": "2021-12-14T12:13:29.399676Z"
    },
    "papermill": {
     "duration": 0.048641,
     "end_time": "2021-12-14T12:13:29.399832",
     "exception": false,
     "start_time": "2021-12-14T12:13:29.351191",
     "status": "completed"
    },
    "tags": []
   },
   "outputs": [],
   "source": [
    "# #hide\n",
    "# g = g.reset_index(['date'])"
   ]
  },
  {
   "cell_type": "code",
   "execution_count": 25,
   "id": "incomplete-mustang",
   "metadata": {
    "execution": {
     "iopub.execute_input": "2021-12-14T12:13:29.493225Z",
     "iopub.status.busy": "2021-12-14T12:13:29.492456Z",
     "iopub.status.idle": "2021-12-14T12:13:29.495196Z",
     "shell.execute_reply": "2021-12-14T12:13:29.494649Z"
    },
    "papermill": {
     "duration": 0.048908,
     "end_time": "2021-12-14T12:13:29.495334",
     "exception": false,
     "start_time": "2021-12-14T12:13:29.446426",
     "status": "completed"
    },
    "tags": []
   },
   "outputs": [],
   "source": [
    "#hide\n",
    "# g.head()"
   ]
  },
  {
   "cell_type": "code",
   "execution_count": 26,
   "id": "specific-kruger",
   "metadata": {
    "execution": {
     "iopub.execute_input": "2021-12-14T12:13:29.587344Z",
     "iopub.status.busy": "2021-12-14T12:13:29.586556Z",
     "iopub.status.idle": "2021-12-14T12:13:29.589777Z",
     "shell.execute_reply": "2021-12-14T12:13:29.589203Z"
    },
    "papermill": {
     "duration": 0.050649,
     "end_time": "2021-12-14T12:13:29.589912",
     "exception": false,
     "start_time": "2021-12-14T12:13:29.539263",
     "status": "completed"
    },
    "tags": []
   },
   "outputs": [],
   "source": [
    "#hide\n",
    "# g.columns = ['date','country','cases']"
   ]
  },
  {
   "cell_type": "code",
   "execution_count": 27,
   "id": "tender-conversion",
   "metadata": {
    "execution": {
     "iopub.execute_input": "2021-12-14T12:13:29.685394Z",
     "iopub.status.busy": "2021-12-14T12:13:29.684639Z",
     "iopub.status.idle": "2021-12-14T12:13:29.687526Z",
     "shell.execute_reply": "2021-12-14T12:13:29.686939Z"
    },
    "papermill": {
     "duration": 0.051702,
     "end_time": "2021-12-14T12:13:29.687669",
     "exception": false,
     "start_time": "2021-12-14T12:13:29.635967",
     "status": "completed"
    },
    "tags": []
   },
   "outputs": [],
   "source": [
    "#hide\n",
    "# g['continent'] = g.country"
   ]
  },
  {
   "cell_type": "code",
   "execution_count": 28,
   "id": "substantial-wilderness",
   "metadata": {
    "execution": {
     "iopub.execute_input": "2021-12-14T12:13:29.776305Z",
     "iopub.status.busy": "2021-12-14T12:13:29.775516Z",
     "iopub.status.idle": "2021-12-14T12:13:29.778506Z",
     "shell.execute_reply": "2021-12-14T12:13:29.777750Z"
    },
    "papermill": {
     "duration": 0.049518,
     "end_time": "2021-12-14T12:13:29.778650",
     "exception": false,
     "start_time": "2021-12-14T12:13:29.729132",
     "status": "completed"
    },
    "tags": []
   },
   "outputs": [],
   "source": [
    "#hide\n",
    "# cols = list(g.columns.values)"
   ]
  },
  {
   "cell_type": "code",
   "execution_count": 29,
   "id": "solved-farming",
   "metadata": {
    "execution": {
     "iopub.execute_input": "2021-12-14T12:13:29.873745Z",
     "iopub.status.busy": "2021-12-14T12:13:29.873058Z",
     "iopub.status.idle": "2021-12-14T12:13:29.876404Z",
     "shell.execute_reply": "2021-12-14T12:13:29.875770Z"
    },
    "papermill": {
     "duration": 0.050798,
     "end_time": "2021-12-14T12:13:29.876542",
     "exception": false,
     "start_time": "2021-12-14T12:13:29.825744",
     "status": "completed"
    },
    "tags": []
   },
   "outputs": [],
   "source": [
    "#hide\n",
    "# cols.insert(0, cols.pop())"
   ]
  },
  {
   "cell_type": "code",
   "execution_count": 30,
   "id": "executed-adoption",
   "metadata": {
    "execution": {
     "iopub.execute_input": "2021-12-14T12:13:29.963216Z",
     "iopub.status.busy": "2021-12-14T12:13:29.962499Z",
     "iopub.status.idle": "2021-12-14T12:13:29.964665Z",
     "shell.execute_reply": "2021-12-14T12:13:29.965358Z"
    },
    "papermill": {
     "duration": 0.047363,
     "end_time": "2021-12-14T12:13:29.965518",
     "exception": false,
     "start_time": "2021-12-14T12:13:29.918155",
     "status": "completed"
    },
    "tags": []
   },
   "outputs": [],
   "source": [
    "#hide\n",
    "# g = g[cols]"
   ]
  },
  {
   "cell_type": "code",
   "execution_count": 31,
   "id": "subject-dublin",
   "metadata": {
    "execution": {
     "iopub.execute_input": "2021-12-14T12:13:30.067828Z",
     "iopub.status.busy": "2021-12-14T12:13:30.067120Z",
     "iopub.status.idle": "2021-12-14T12:13:30.071018Z",
     "shell.execute_reply": "2021-12-14T12:13:30.071567Z"
    },
    "papermill": {
     "duration": 0.058479,
     "end_time": "2021-12-14T12:13:30.071749",
     "exception": false,
     "start_time": "2021-12-14T12:13:30.013270",
     "status": "completed"
    },
    "tags": []
   },
   "outputs": [],
   "source": [
    "#hide\n",
    "# g['continent'] = g['continent'].map(mapping['map.continent'])"
   ]
  },
  {
   "cell_type": "code",
   "execution_count": 32,
   "id": "freelance-scout",
   "metadata": {
    "execution": {
     "iopub.execute_input": "2021-12-14T12:13:30.164947Z",
     "iopub.status.busy": "2021-12-14T12:13:30.164209Z",
     "iopub.status.idle": "2021-12-14T12:13:30.166450Z",
     "shell.execute_reply": "2021-12-14T12:13:30.166966Z"
    },
    "papermill": {
     "duration": 0.050633,
     "end_time": "2021-12-14T12:13:30.167123",
     "exception": false,
     "start_time": "2021-12-14T12:13:30.116490",
     "status": "completed"
    },
    "tags": []
   },
   "outputs": [],
   "source": [
    "#hide\n",
    "# g.head()"
   ]
  },
  {
   "cell_type": "code",
   "execution_count": 33,
   "id": "limited-engine",
   "metadata": {
    "execution": {
     "iopub.execute_input": "2021-12-14T12:13:30.260351Z",
     "iopub.status.busy": "2021-12-14T12:13:30.259500Z",
     "iopub.status.idle": "2021-12-14T12:13:30.262552Z",
     "shell.execute_reply": "2021-12-14T12:13:30.261995Z"
    },
    "papermill": {
     "duration": 0.05299,
     "end_time": "2021-12-14T12:13:30.262695",
     "exception": false,
     "start_time": "2021-12-14T12:13:30.209705",
     "status": "completed"
    },
    "tags": []
   },
   "outputs": [],
   "source": [
    "# hide\n",
    "# g['date'] = g['date'].astype('datetime64[ns]')"
   ]
  },
  {
   "cell_type": "code",
   "execution_count": 34,
   "id": "sophisticated-supervisor",
   "metadata": {
    "execution": {
     "iopub.execute_input": "2021-12-14T12:13:30.357566Z",
     "iopub.status.busy": "2021-12-14T12:13:30.356911Z",
     "iopub.status.idle": "2021-12-14T12:13:30.360678Z",
     "shell.execute_reply": "2021-12-14T12:13:30.360086Z"
    },
    "papermill": {
     "duration": 0.053629,
     "end_time": "2021-12-14T12:13:30.360839",
     "exception": false,
     "start_time": "2021-12-14T12:13:30.307210",
     "status": "completed"
    },
    "tags": []
   },
   "outputs": [],
   "source": [
    "#hide\n",
    "# g['date'] = g.date.dt.dayofyear"
   ]
  },
  {
   "cell_type": "code",
   "execution_count": 35,
   "id": "inside-dubai",
   "metadata": {
    "execution": {
     "iopub.execute_input": "2021-12-14T12:13:30.456516Z",
     "iopub.status.busy": "2021-12-14T12:13:30.455687Z",
     "iopub.status.idle": "2021-12-14T12:13:30.459686Z",
     "shell.execute_reply": "2021-12-14T12:13:30.458442Z"
    },
    "papermill": {
     "duration": 0.054209,
     "end_time": "2021-12-14T12:13:30.459858",
     "exception": false,
     "start_time": "2021-12-14T12:13:30.405649",
     "status": "completed"
    },
    "tags": []
   },
   "outputs": [],
   "source": [
    "#hide\n",
    "# g = g.rename(columns= {'continent':'group','country':'name','cases':'value'})"
   ]
  },
  {
   "cell_type": "code",
   "execution_count": 36,
   "id": "fleet-motorcycle",
   "metadata": {
    "execution": {
     "iopub.execute_input": "2021-12-14T12:13:30.559387Z",
     "iopub.status.busy": "2021-12-14T12:13:30.556685Z",
     "iopub.status.idle": "2021-12-14T12:13:30.563164Z",
     "shell.execute_reply": "2021-12-14T12:13:30.563741Z"
    },
    "papermill": {
     "duration": 0.056656,
     "end_time": "2021-12-14T12:13:30.563931",
     "exception": false,
     "start_time": "2021-12-14T12:13:30.507275",
     "status": "completed"
    },
    "tags": []
   },
   "outputs": [],
   "source": [
    "#hide\n",
    "# cols = ['name','group','day','value']"
   ]
  },
  {
   "cell_type": "code",
   "execution_count": 37,
   "id": "continued-sleeping",
   "metadata": {
    "execution": {
     "iopub.execute_input": "2021-12-14T12:13:30.661642Z",
     "iopub.status.busy": "2021-12-14T12:13:30.660639Z",
     "iopub.status.idle": "2021-12-14T12:13:30.664675Z",
     "shell.execute_reply": "2021-12-14T12:13:30.664128Z"
    },
    "papermill": {
     "duration": 0.055462,
     "end_time": "2021-12-14T12:13:30.664867",
     "exception": false,
     "start_time": "2021-12-14T12:13:30.609405",
     "status": "completed"
    },
    "tags": []
   },
   "outputs": [],
   "source": [
    "#hide\n",
    "# g.rename(columns= {'date':'day'},inplace = True)"
   ]
  },
  {
   "cell_type": "code",
   "execution_count": 38,
   "id": "major-fight",
   "metadata": {
    "execution": {
     "iopub.execute_input": "2021-12-14T12:13:30.768235Z",
     "iopub.status.busy": "2021-12-14T12:13:30.767240Z",
     "iopub.status.idle": "2021-12-14T12:13:30.769777Z",
     "shell.execute_reply": "2021-12-14T12:13:30.769164Z"
    },
    "papermill": {
     "duration": 0.056648,
     "end_time": "2021-12-14T12:13:30.769922",
     "exception": false,
     "start_time": "2021-12-14T12:13:30.713274",
     "status": "completed"
    },
    "tags": []
   },
   "outputs": [],
   "source": [
    "#hide\n",
    "# g = g[cols]"
   ]
  },
  {
   "cell_type": "code",
   "execution_count": 39,
   "id": "structured-mobile",
   "metadata": {
    "execution": {
     "iopub.execute_input": "2021-12-14T12:13:30.909987Z",
     "iopub.status.busy": "2021-12-14T12:13:30.909285Z",
     "iopub.status.idle": "2021-12-14T12:13:30.912054Z",
     "shell.execute_reply": "2021-12-14T12:13:30.911306Z"
    },
    "papermill": {
     "duration": 0.065136,
     "end_time": "2021-12-14T12:13:30.912257",
     "exception": false,
     "start_time": "2021-12-14T12:13:30.847121",
     "status": "completed"
    },
    "tags": []
   },
   "outputs": [],
   "source": [
    "# #hide\n",
    "# g = g[g.group.notna()]"
   ]
  },
  {
   "cell_type": "code",
   "execution_count": 40,
   "id": "determined-closing",
   "metadata": {
    "execution": {
     "iopub.execute_input": "2021-12-14T12:13:31.058669Z",
     "iopub.status.busy": "2021-12-14T12:13:31.057899Z",
     "iopub.status.idle": "2021-12-14T12:13:31.060692Z",
     "shell.execute_reply": "2021-12-14T12:13:31.061372Z"
    },
    "papermill": {
     "duration": 0.055159,
     "end_time": "2021-12-14T12:13:31.061529",
     "exception": false,
     "start_time": "2021-12-14T12:13:31.006370",
     "status": "completed"
    },
    "tags": []
   },
   "outputs": [],
   "source": [
    "# #hide\n",
    "# colors = dict(zip(\n",
    "#     [\"Oceania\", \"Europe\", \"Asia\", \"South America\", \"Middle East\", \"North America\", \"Africa\"],\n",
    "#     [\"#adb0ff\", \"#ffb3ff\", \"#90d595\", \"#e48381\", \"#aafbff\", \"#f7bb5f\", \"#eafb50\"]\n",
    "# ))\n",
    "# group_lk = g.set_index('name')['group'].to_dict()"
   ]
  },
  {
   "cell_type": "code",
   "execution_count": null,
   "id": "gross-drinking",
   "metadata": {
    "papermill": {
     "duration": 0.048125,
     "end_time": "2021-12-14T12:13:31.152363",
     "exception": false,
     "start_time": "2021-12-14T12:13:31.104238",
     "status": "completed"
    },
    "tags": []
   },
   "outputs": [],
   "source": []
  },
  {
   "cell_type": "code",
   "execution_count": 41,
   "id": "subject-macintosh",
   "metadata": {
    "execution": {
     "iopub.execute_input": "2021-12-14T12:13:31.246604Z",
     "iopub.status.busy": "2021-12-14T12:13:31.245822Z",
     "iopub.status.idle": "2021-12-14T12:13:31.249413Z",
     "shell.execute_reply": "2021-12-14T12:13:31.248789Z"
    },
    "papermill": {
     "duration": 0.055703,
     "end_time": "2021-12-14T12:13:31.249570",
     "exception": false,
     "start_time": "2021-12-14T12:13:31.193867",
     "status": "completed"
    },
    "tags": []
   },
   "outputs": [],
   "source": [
    "# #hide\n",
    "# fig, ax = plt.subplots(figsize=(15, 8))\n",
    "\n",
    "# def draw_barchart(current_day):\n",
    "#     dff = g[g['day'].eq(current_day)].sort_values(by='value', ascending=True).tail(10)\n",
    "#     ax.clear()\n",
    "#     ax.barh(dff['name'], dff['value'], color=[colors[group_lk[x]] for x in dff['name']])\n",
    "#     dx = dff['value'].max() / 200\n",
    "    \n",
    "#     for i, (value, name) in enumerate(zip(dff['value'], dff['name'])):\n",
    "#         ax.text(value-dx, i,     name,           size=14, weight=600, ha='right', va='bottom')\n",
    "#         ax.text(value-dx, i-.25, group_lk[name], size=10, color='#444444', ha='right', va='baseline')\n",
    "#         ax.text(value+dx, i,     f'{value:,.0f}',  size=14, ha='left',  va='center')\n",
    "#     ax.text(1, 0.4, current_day, transform=ax.transAxes, color='#777777', size=46, ha='right', weight=800)\n",
    "#     ax.text(0, 1.06, 'Population (thousands)', transform=ax.transAxes, size=12, color='#777777')\n",
    "#     ax.xaxis.set_major_formatter(ticker.StrMethodFormatter('{x:,.0f}'))\n",
    "#     ax.xaxis.set_ticks_position('top')\n",
    "#     ax.tick_params(axis='x', colors='#777777', labelsize=12)\n",
    "#     ax.set_yticks([])\n",
    "#     ax.margins(0, 0.01)\n",
    "#     ax.grid(which='major', axis='x', linestyle='-')\n",
    "#     ax.set_axisbelow(True)\n",
    "    \n",
    "#     ax.text(0, 1.15, 'Coronavirus',\n",
    "#             transform=ax.transAxes, size=24, weight=600, ha='left', va='top')\n",
    "# #     ax.text(1, 0, 'by @pratapvardhan; credit @jburnmurdoch', transform=ax.transAxes, color='#777777', ha='right',\n",
    "# #             bbox=dict(facecolor='white', alpha=0.8, edgecolor='white'))\n",
    "#     plt.box(False)"
   ]
  },
  {
   "cell_type": "code",
   "execution_count": 42,
   "id": "sexual-wages",
   "metadata": {
    "execution": {
     "iopub.execute_input": "2021-12-14T12:13:31.345992Z",
     "iopub.status.busy": "2021-12-14T12:13:31.345263Z",
     "iopub.status.idle": "2021-12-14T12:13:31.350030Z",
     "shell.execute_reply": "2021-12-14T12:13:31.349417Z"
    },
    "papermill": {
     "duration": 0.058571,
     "end_time": "2021-12-14T12:13:31.350168",
     "exception": false,
     "start_time": "2021-12-14T12:13:31.291597",
     "status": "completed"
    },
    "tags": []
   },
   "outputs": [],
   "source": [
    "# #hide_input\n",
    "# fig, ax = plt.subplots(figsize=(15, 8))\n",
    "# animator = animation.FuncAnimation(fig, draw_barchart, frames=range(g.day.values.min(), g.day.values.max()))\n",
    "# HTML(animator.to_jshtml())\n",
    "# # or use animator.to_html5_video() or animator.save() "
   ]
  },
  {
   "cell_type": "code",
   "execution_count": null,
   "id": "australian-container",
   "metadata": {
    "papermill": {
     "duration": 0.046523,
     "end_time": "2021-12-14T12:13:31.437316",
     "exception": false,
     "start_time": "2021-12-14T12:13:31.390793",
     "status": "completed"
    },
    "tags": []
   },
   "outputs": [],
   "source": []
  },
  {
   "cell_type": "code",
   "execution_count": null,
   "id": "mediterranean-pontiac",
   "metadata": {
    "papermill": {
     "duration": 0.040102,
     "end_time": "2021-12-14T12:13:31.517700",
     "exception": false,
     "start_time": "2021-12-14T12:13:31.477598",
     "status": "completed"
    },
    "tags": []
   },
   "outputs": [],
   "source": []
  },
  {
   "cell_type": "code",
   "execution_count": null,
   "id": "aging-legislature",
   "metadata": {
    "papermill": {
     "duration": 0.041092,
     "end_time": "2021-12-14T12:13:31.598857",
     "exception": false,
     "start_time": "2021-12-14T12:13:31.557765",
     "status": "completed"
    },
    "tags": []
   },
   "outputs": [],
   "source": []
  }
 ],
 "metadata": {
  "kernelspec": {
   "display_name": "Python 3",
   "language": "python",
   "name": "python3"
  },
  "language_info": {
   "codemirror_mode": {
    "name": "ipython",
    "version": 3
   },
   "file_extension": ".py",
   "mimetype": "text/x-python",
   "name": "python",
   "nbconvert_exporter": "python",
   "pygments_lexer": "ipython3",
   "version": "3.6.15"
  },
  "papermill": {
   "duration": 8.167257,
   "end_time": "2021-12-14T12:13:32.050041",
   "environment_variables": {},
   "exception": null,
   "input_path": "2020-03-21-covid19exp.ipynb",
   "output_path": "2020-03-21-covid19exp.ipynb",
   "parameters": {},
   "start_time": "2021-12-14T12:13:23.882784",
   "version": "2.0.0"
  }
 },
 "nbformat": 4,
 "nbformat_minor": 5
}