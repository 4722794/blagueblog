{
 "cells": [
  {
   "cell_type": "markdown",
   "id": "muslim-click",
   "metadata": {
    "papermill": {
     "duration": 0.037661,
     "end_time": "2022-05-08T12:15:37.430351",
     "exception": false,
     "start_time": "2022-05-08T12:15:37.392690",
     "status": "completed"
    },
    "tags": []
   },
   "source": [
    "# COVID-19 Case Race\n",
    "> A race chart to see rising cases around the world\n",
    "\n",
    "- author: Hargun Oberoi\n",
    "- image: images/covid-overview.png\n",
    "- hide: false\n",
    "- badges: false"
   ]
  },
  {
   "cell_type": "code",
   "execution_count": 1,
   "id": "proof-material",
   "metadata": {
    "execution": {
     "iopub.execute_input": "2022-05-08T12:15:37.509814Z",
     "iopub.status.busy": "2022-05-08T12:15:37.509194Z",
     "iopub.status.idle": "2022-05-08T12:15:37.877846Z",
     "shell.execute_reply": "2022-05-08T12:15:37.877273Z"
    },
    "papermill": {
     "duration": 0.412396,
     "end_time": "2022-05-08T12:15:37.878001",
     "exception": false,
     "start_time": "2022-05-08T12:15:37.465605",
     "status": "completed"
    },
    "tags": []
   },
   "outputs": [],
   "source": [
    "#hide\n",
    "import numpy as np\n",
    "import pandas as pd\n",
    "from jinja2 import Template\n",
    "from IPython.display import HTML"
   ]
  },
  {
   "cell_type": "code",
   "execution_count": 2,
   "id": "developed-terminology",
   "metadata": {
    "execution": {
     "iopub.execute_input": "2022-05-08T12:15:37.950467Z",
     "iopub.status.busy": "2022-05-08T12:15:37.949864Z",
     "iopub.status.idle": "2022-05-08T12:15:37.954233Z",
     "shell.execute_reply": "2022-05-08T12:15:37.953728Z"
    },
    "papermill": {
     "duration": 0.04287,
     "end_time": "2022-05-08T12:15:37.954354",
     "exception": false,
     "start_time": "2022-05-08T12:15:37.911484",
     "status": "completed"
    },
    "tags": []
   },
   "outputs": [],
   "source": [
    "#hide\n",
    "\n",
    "# FETCH\n",
    "base_url = 'https://raw.githubusercontent.com/pratapvardhan/notebooks/master/covid19/'\n",
    "paths = {\n",
    "    'mapping': base_url + 'mapping_countries.csv',\n",
    "    'overview': base_url + 'overview.tpl'\n",
    "}"
   ]
  },
  {
   "cell_type": "code",
   "execution_count": 3,
   "id": "dynamic-saver",
   "metadata": {
    "execution": {
     "iopub.execute_input": "2022-05-08T12:15:38.032273Z",
     "iopub.status.busy": "2022-05-08T12:15:38.031317Z",
     "iopub.status.idle": "2022-05-08T12:15:38.034079Z",
     "shell.execute_reply": "2022-05-08T12:15:38.034548Z"
    },
    "papermill": {
     "duration": 0.047597,
     "end_time": "2022-05-08T12:15:38.034689",
     "exception": false,
     "start_time": "2022-05-08T12:15:37.987092",
     "status": "completed"
    },
    "tags": []
   },
   "outputs": [
    {
     "data": {
      "text/plain": [
       "'https://raw.githubusercontent.com/pratapvardhan/notebooks/master/covid19/mapping_countries.csv'"
      ]
     },
     "execution_count": 3,
     "metadata": {},
     "output_type": "execute_result"
    }
   ],
   "source": [
    "#hide\n",
    "paths['mapping']"
   ]
  },
  {
   "cell_type": "code",
   "execution_count": 4,
   "id": "urban-software",
   "metadata": {
    "execution": {
     "iopub.execute_input": "2022-05-08T12:15:38.106773Z",
     "iopub.status.busy": "2022-05-08T12:15:38.106196Z",
     "iopub.status.idle": "2022-05-08T12:15:38.110186Z",
     "shell.execute_reply": "2022-05-08T12:15:38.109699Z"
    },
    "papermill": {
     "duration": 0.043598,
     "end_time": "2022-05-08T12:15:38.110311",
     "exception": false,
     "start_time": "2022-05-08T12:15:38.066713",
     "status": "completed"
    },
    "tags": []
   },
   "outputs": [],
   "source": [
    "#hide\n",
    "def get_mappings(url):\n",
    "    df = pd.read_csv(url)\n",
    "    return {\n",
    "        'df': df,\n",
    "        'replace.country': dict(df.dropna(subset=['Name']).set_index('Country')['Name']),\n",
    "        'map.continent': dict(df.set_index('Name')['Continent'])\n",
    "    }"
   ]
  },
  {
   "cell_type": "code",
   "execution_count": 5,
   "id": "intimate-machinery",
   "metadata": {
    "execution": {
     "iopub.execute_input": "2022-05-08T12:15:38.182163Z",
     "iopub.status.busy": "2022-05-08T12:15:38.181557Z",
     "iopub.status.idle": "2022-05-08T12:15:38.208284Z",
     "shell.execute_reply": "2022-05-08T12:15:38.207656Z"
    },
    "papermill": {
     "duration": 0.064666,
     "end_time": "2022-05-08T12:15:38.208437",
     "exception": false,
     "start_time": "2022-05-08T12:15:38.143771",
     "status": "completed"
    },
    "tags": []
   },
   "outputs": [],
   "source": [
    "#hide\n",
    "mapping = get_mappings(paths['mapping'])"
   ]
  },
  {
   "cell_type": "code",
   "execution_count": 6,
   "id": "certified-tactics",
   "metadata": {
    "execution": {
     "iopub.execute_input": "2022-05-08T12:15:38.284653Z",
     "iopub.status.busy": "2022-05-08T12:15:38.283748Z",
     "iopub.status.idle": "2022-05-08T12:15:38.286234Z",
     "shell.execute_reply": "2022-05-08T12:15:38.286884Z"
    },
    "papermill": {
     "duration": 0.043544,
     "end_time": "2022-05-08T12:15:38.287069",
     "exception": false,
     "start_time": "2022-05-08T12:15:38.243525",
     "status": "completed"
    },
    "tags": []
   },
   "outputs": [],
   "source": [
    "#hide\n",
    "def get_template(path):\n",
    "    from urllib.parse import urlparse\n",
    "    if bool(urlparse(path).netloc):\n",
    "        from urllib.request import urlopen\n",
    "        return urlopen(path).read().decode('utf8')\n",
    "    return open(path).read()"
   ]
  },
  {
   "cell_type": "code",
   "execution_count": 7,
   "id": "realistic-blast",
   "metadata": {
    "execution": {
     "iopub.execute_input": "2022-05-08T12:15:38.360356Z",
     "iopub.status.busy": "2022-05-08T12:15:38.359724Z",
     "iopub.status.idle": "2022-05-08T12:15:38.361330Z",
     "shell.execute_reply": "2022-05-08T12:15:38.361801Z"
    },
    "papermill": {
     "duration": 0.041366,
     "end_time": "2022-05-08T12:15:38.361946",
     "exception": false,
     "start_time": "2022-05-08T12:15:38.320580",
     "status": "completed"
    },
    "tags": []
   },
   "outputs": [],
   "source": [
    "#hide\n",
    "def get_frame(name):\n",
    "    url = (\n",
    "        'https://raw.githubusercontent.com/CSSEGISandData/COVID-19/master/csse_covid_19_data/'\n",
    "        f'csse_covid_19_time_series/time_series_covid19_{name}_global.csv')\n",
    "    df = pd.read_csv(url)\n",
    "    # rename countries\n",
    "    df['Country/Region'] = df['Country/Region'].replace(mapping['replace.country'])\n",
    "    return df"
   ]
  },
  {
   "cell_type": "code",
   "execution_count": 8,
   "id": "affiliated-characterization",
   "metadata": {
    "execution": {
     "iopub.execute_input": "2022-05-08T12:15:38.436996Z",
     "iopub.status.busy": "2022-05-08T12:15:38.436191Z",
     "iopub.status.idle": "2022-05-08T12:15:38.439913Z",
     "shell.execute_reply": "2022-05-08T12:15:38.440369Z"
    },
    "papermill": {
     "duration": 0.044508,
     "end_time": "2022-05-08T12:15:38.440520",
     "exception": false,
     "start_time": "2022-05-08T12:15:38.396012",
     "status": "completed"
    },
    "tags": []
   },
   "outputs": [],
   "source": [
    "#hide\n",
    "def get_dates(df):\n",
    "    dt_cols = df.columns[~df.columns.isin(['Province/State', 'Country/Region', 'Lat', 'Long'])]\n",
    "    LAST_DATE_I = -1\n",
    "    # sometimes last column may be empty, then go backwards\n",
    "    for i in range(-1, -len(dt_cols), -1):\n",
    "        if not df[dt_cols[i]].fillna(0).eq(0).all():\n",
    "            LAST_DATE_I = i\n",
    "            break\n",
    "    return LAST_DATE_I, dt_cols"
   ]
  },
  {
   "cell_type": "code",
   "execution_count": 9,
   "id": "recent-optimization",
   "metadata": {
    "execution": {
     "iopub.execute_input": "2022-05-08T12:15:38.515710Z",
     "iopub.status.busy": "2022-05-08T12:15:38.514552Z",
     "iopub.status.idle": "2022-05-08T12:15:38.894336Z",
     "shell.execute_reply": "2022-05-08T12:15:38.893435Z"
    },
    "papermill": {
     "duration": 0.420198,
     "end_time": "2022-05-08T12:15:38.894556",
     "exception": false,
     "start_time": "2022-05-08T12:15:38.474358",
     "status": "completed"
    },
    "tags": []
   },
   "outputs": [],
   "source": [
    "#hide\n",
    "COL_REGION = 'Country/Region'\n",
    "# Confirmed, Recovered, Deaths\n",
    "df = get_frame('confirmed')\n",
    "# dft_: timeseries, dfc_: today country agg\n",
    "dft_cases = df\n",
    "dft_deaths = get_frame('deaths')\n",
    "dft_recovered = get_frame('recovered')\n",
    "LAST_DATE_I, dt_cols = get_dates(df)"
   ]
  },
  {
   "cell_type": "code",
   "execution_count": 10,
   "id": "absolute-copper",
   "metadata": {
    "execution": {
     "iopub.execute_input": "2022-05-08T12:15:38.971075Z",
     "iopub.status.busy": "2022-05-08T12:15:38.968417Z",
     "iopub.status.idle": "2022-05-08T12:15:38.972957Z",
     "shell.execute_reply": "2022-05-08T12:15:38.973530Z"
    },
    "papermill": {
     "duration": 0.042987,
     "end_time": "2022-05-08T12:15:38.973679",
     "exception": false,
     "start_time": "2022-05-08T12:15:38.930692",
     "status": "completed"
    },
    "tags": []
   },
   "outputs": [],
   "source": [
    "#hide\n",
    "LAST_DATE_I, dt_cols = get_dates(df)\n",
    "dt_today =dt_cols[LAST_DATE_I]\n",
    "# dt_5day = dt_cols[LAST_DATE_I - 5]\n",
    "dt_yday = dt_cols[LAST_DATE_I - 1]"
   ]
  },
  {
   "cell_type": "code",
   "execution_count": 11,
   "id": "restricted-sheriff",
   "metadata": {
    "execution": {
     "iopub.execute_input": "2022-05-08T12:15:39.048213Z",
     "iopub.status.busy": "2022-05-08T12:15:39.047389Z",
     "iopub.status.idle": "2022-05-08T12:15:39.055081Z",
     "shell.execute_reply": "2022-05-08T12:15:39.055614Z"
    },
    "papermill": {
     "duration": 0.048191,
     "end_time": "2022-05-08T12:15:39.055770",
     "exception": false,
     "start_time": "2022-05-08T12:15:39.007579",
     "status": "completed"
    },
    "tags": []
   },
   "outputs": [],
   "source": [
    "#hide\n",
    "dfc_cases = dft_cases.groupby(COL_REGION)[dt_today].sum()\n",
    "dfc_deaths = dft_deaths.groupby(COL_REGION)[dt_today].sum()\n",
    "# dfp_cases = dft_cases.groupby(COL_REGION)[dt_5day].sum()\n",
    "# dfp_deaths = dft_deaths.groupby(COL_REGION)[dt_5day].sum()\n",
    "dfp_cases = dft_cases.groupby(COL_REGION)[dt_yday].sum()\n",
    "dfp_deaths = dft_deaths.groupby(COL_REGION)[dt_yday].sum()"
   ]
  },
  {
   "cell_type": "code",
   "execution_count": 12,
   "id": "deluxe-hepatitis",
   "metadata": {
    "execution": {
     "iopub.execute_input": "2022-05-08T12:15:39.131879Z",
     "iopub.status.busy": "2022-05-08T12:15:39.131224Z",
     "iopub.status.idle": "2022-05-08T12:15:39.136231Z",
     "shell.execute_reply": "2022-05-08T12:15:39.136684Z"
    },
    "papermill": {
     "duration": 0.046116,
     "end_time": "2022-05-08T12:15:39.136839",
     "exception": false,
     "start_time": "2022-05-08T12:15:39.090723",
     "status": "completed"
    },
    "tags": []
   },
   "outputs": [],
   "source": [
    "#hide\n",
    "df_table = (pd.DataFrame(dict(Cases = dfc_cases, Deaths = dfc_deaths, PCases = dfp_cases, PDeaths = dfp_deaths))\n",
    "            .sort_values(by = ['Cases','Deaths'], ascending = [False, False])\n",
    "            .reset_index())"
   ]
  },
  {
   "cell_type": "code",
   "execution_count": 13,
   "id": "educational-chancellor",
   "metadata": {
    "execution": {
     "iopub.execute_input": "2022-05-08T12:15:39.224923Z",
     "iopub.status.busy": "2022-05-08T12:15:39.224282Z",
     "iopub.status.idle": "2022-05-08T12:15:39.233201Z",
     "shell.execute_reply": "2022-05-08T12:15:39.233760Z"
    },
    "papermill": {
     "duration": 0.062744,
     "end_time": "2022-05-08T12:15:39.233914",
     "exception": false,
     "start_time": "2022-05-08T12:15:39.171170",
     "status": "completed"
    },
    "tags": []
   },
   "outputs": [
    {
     "data": {
      "text/html": [
       "<div>\n",
       "<style scoped>\n",
       "    .dataframe tbody tr th:only-of-type {\n",
       "        vertical-align: middle;\n",
       "    }\n",
       "\n",
       "    .dataframe tbody tr th {\n",
       "        vertical-align: top;\n",
       "    }\n",
       "\n",
       "    .dataframe thead th {\n",
       "        text-align: right;\n",
       "    }\n",
       "</style>\n",
       "<table border=\"1\" class=\"dataframe\">\n",
       "  <thead>\n",
       "    <tr style=\"text-align: right;\">\n",
       "      <th></th>\n",
       "      <th>Country/Region</th>\n",
       "      <th>Cases</th>\n",
       "      <th>Deaths</th>\n",
       "      <th>PCases</th>\n",
       "      <th>PDeaths</th>\n",
       "      <th>Cases (+)</th>\n",
       "      <th>Deaths (+)</th>\n",
       "      <th>Fatality Rate</th>\n",
       "      <th>Continent</th>\n",
       "    </tr>\n",
       "  </thead>\n",
       "  <tbody>\n",
       "    <tr>\n",
       "      <th>0</th>\n",
       "      <td>US</td>\n",
       "      <td>81858744</td>\n",
       "      <td>997503</td>\n",
       "      <td>81831854</td>\n",
       "      <td>997318</td>\n",
       "      <td>26890</td>\n",
       "      <td>185</td>\n",
       "      <td>1.22</td>\n",
       "      <td>North America</td>\n",
       "    </tr>\n",
       "    <tr>\n",
       "      <th>1</th>\n",
       "      <td>India</td>\n",
       "      <td>43102194</td>\n",
       "      <td>524064</td>\n",
       "      <td>43098743</td>\n",
       "      <td>524024</td>\n",
       "      <td>3451</td>\n",
       "      <td>40</td>\n",
       "      <td>1.22</td>\n",
       "      <td>Asia</td>\n",
       "    </tr>\n",
       "    <tr>\n",
       "      <th>2</th>\n",
       "      <td>Brazil</td>\n",
       "      <td>30558530</td>\n",
       "      <td>664361</td>\n",
       "      <td>30543908</td>\n",
       "      <td>664326</td>\n",
       "      <td>14622</td>\n",
       "      <td>35</td>\n",
       "      <td>2.17</td>\n",
       "      <td>South America</td>\n",
       "    </tr>\n",
       "    <tr>\n",
       "      <th>3</th>\n",
       "      <td>France</td>\n",
       "      <td>29119127</td>\n",
       "      <td>147707</td>\n",
       "      <td>29081169</td>\n",
       "      <td>147645</td>\n",
       "      <td>37958</td>\n",
       "      <td>62</td>\n",
       "      <td>0.51</td>\n",
       "      <td>Europe</td>\n",
       "    </tr>\n",
       "    <tr>\n",
       "      <th>4</th>\n",
       "      <td>Germany</td>\n",
       "      <td>25295950</td>\n",
       "      <td>136533</td>\n",
       "      <td>25287462</td>\n",
       "      <td>136523</td>\n",
       "      <td>8488</td>\n",
       "      <td>10</td>\n",
       "      <td>0.54</td>\n",
       "      <td>Europe</td>\n",
       "    </tr>\n",
       "  </tbody>\n",
       "</table>\n",
       "</div>"
      ],
      "text/plain": [
       "  Country/Region     Cases  Deaths    PCases  PDeaths  Cases (+)  Deaths (+)  \\\n",
       "0             US  81858744  997503  81831854   997318      26890         185   \n",
       "1          India  43102194  524064  43098743   524024       3451          40   \n",
       "2         Brazil  30558530  664361  30543908   664326      14622          35   \n",
       "3         France  29119127  147707  29081169   147645      37958          62   \n",
       "4        Germany  25295950  136533  25287462   136523       8488          10   \n",
       "\n",
       "   Fatality Rate      Continent  \n",
       "0           1.22  North America  \n",
       "1           1.22           Asia  \n",
       "2           2.17  South America  \n",
       "3           0.51         Europe  \n",
       "4           0.54         Europe  "
      ]
     },
     "execution_count": 13,
     "metadata": {},
     "output_type": "execute_result"
    }
   ],
   "source": [
    "#hide\n",
    "for c in 'Cases, Deaths'.split(', '):\n",
    "    df_table[f'{c} (+)'] = (df_table[c] - df_table[f'P{c}']).clip(0)\n",
    "    #Clip ça veut dire, les chiffres negatif sont interdit\n",
    "df_table['Fatality Rate'] = (100* df_table['Deaths']/ df_table['Cases']).round(2)\n",
    "df_table['Continent'] = df_table['Country/Region'].map(mapping['map.continent'])\n",
    "df_table.head(5)"
   ]
  },
  {
   "cell_type": "code",
   "execution_count": 14,
   "id": "aboriginal-bulgaria",
   "metadata": {
    "execution": {
     "iopub.execute_input": "2022-05-08T12:15:39.310443Z",
     "iopub.status.busy": "2022-05-08T12:15:39.309852Z",
     "iopub.status.idle": "2022-05-08T12:15:39.311781Z",
     "shell.execute_reply": "2022-05-08T12:15:39.312267Z"
    },
    "papermill": {
     "duration": 0.042966,
     "end_time": "2022-05-08T12:15:39.312420",
     "exception": false,
     "start_time": "2022-05-08T12:15:39.269454",
     "status": "completed"
    },
    "tags": []
   },
   "outputs": [],
   "source": [
    "#hide\n",
    "#delete problematic countries from table\n",
    "df_table = df_table[~df_table['Country/Region'].isin(['Cape Verde', 'Cruise Ship', 'Kosovo'])]"
   ]
  },
  {
   "cell_type": "code",
   "execution_count": 15,
   "id": "fantastic-effect",
   "metadata": {
    "execution": {
     "iopub.execute_input": "2022-05-08T12:15:39.391317Z",
     "iopub.status.busy": "2022-05-08T12:15:39.390714Z",
     "iopub.status.idle": "2022-05-08T12:15:39.412134Z",
     "shell.execute_reply": "2022-05-08T12:15:39.413003Z"
    },
    "papermill": {
     "duration": 0.066053,
     "end_time": "2022-05-08T12:15:39.413212",
     "exception": false,
     "start_time": "2022-05-08T12:15:39.347159",
     "status": "completed"
    },
    "tags": []
   },
   "outputs": [
    {
     "data": {
      "text/html": [
       "<div>\n",
       "<style scoped>\n",
       "    .dataframe tbody tr th:only-of-type {\n",
       "        vertical-align: middle;\n",
       "    }\n",
       "\n",
       "    .dataframe tbody tr th {\n",
       "        vertical-align: top;\n",
       "    }\n",
       "\n",
       "    .dataframe thead th {\n",
       "        text-align: right;\n",
       "    }\n",
       "</style>\n",
       "<table border=\"1\" class=\"dataframe\">\n",
       "  <thead>\n",
       "    <tr style=\"text-align: right;\">\n",
       "      <th></th>\n",
       "      <th>Country/Region</th>\n",
       "      <th>Cases</th>\n",
       "      <th>Deaths</th>\n",
       "      <th>PCases</th>\n",
       "      <th>PDeaths</th>\n",
       "      <th>Cases (+)</th>\n",
       "      <th>Deaths (+)</th>\n",
       "      <th>Fatality Rate</th>\n",
       "      <th>Continent</th>\n",
       "    </tr>\n",
       "  </thead>\n",
       "  <tbody>\n",
       "    <tr>\n",
       "      <th>0</th>\n",
       "      <td>US</td>\n",
       "      <td>81858744</td>\n",
       "      <td>997503</td>\n",
       "      <td>81831854</td>\n",
       "      <td>997318</td>\n",
       "      <td>26890</td>\n",
       "      <td>185</td>\n",
       "      <td>1.2</td>\n",
       "      <td>North America</td>\n",
       "    </tr>\n",
       "    <tr>\n",
       "      <th>1</th>\n",
       "      <td>India</td>\n",
       "      <td>43102194</td>\n",
       "      <td>524064</td>\n",
       "      <td>43098743</td>\n",
       "      <td>524024</td>\n",
       "      <td>3451</td>\n",
       "      <td>40</td>\n",
       "      <td>1.2</td>\n",
       "      <td>Asia</td>\n",
       "    </tr>\n",
       "    <tr>\n",
       "      <th>2</th>\n",
       "      <td>Brazil</td>\n",
       "      <td>30558530</td>\n",
       "      <td>664361</td>\n",
       "      <td>30543908</td>\n",
       "      <td>664326</td>\n",
       "      <td>14622</td>\n",
       "      <td>35</td>\n",
       "      <td>2.2</td>\n",
       "      <td>South America</td>\n",
       "    </tr>\n",
       "    <tr>\n",
       "      <th>3</th>\n",
       "      <td>France</td>\n",
       "      <td>29119127</td>\n",
       "      <td>147707</td>\n",
       "      <td>29081169</td>\n",
       "      <td>147645</td>\n",
       "      <td>37958</td>\n",
       "      <td>62</td>\n",
       "      <td>0.5</td>\n",
       "      <td>Europe</td>\n",
       "    </tr>\n",
       "    <tr>\n",
       "      <th>4</th>\n",
       "      <td>Germany</td>\n",
       "      <td>25295950</td>\n",
       "      <td>136533</td>\n",
       "      <td>25287462</td>\n",
       "      <td>136523</td>\n",
       "      <td>8488</td>\n",
       "      <td>10</td>\n",
       "      <td>0.5</td>\n",
       "      <td>Europe</td>\n",
       "    </tr>\n",
       "  </tbody>\n",
       "</table>\n",
       "</div>"
      ],
      "text/plain": [
       "  Country/Region     Cases  Deaths    PCases  PDeaths  Cases (+)  Deaths (+)  \\\n",
       "0             US  81858744  997503  81831854   997318      26890         185   \n",
       "1          India  43102194  524064  43098743   524024       3451          40   \n",
       "2         Brazil  30558530  664361  30543908   664326      14622          35   \n",
       "3         France  29119127  147707  29081169   147645      37958          62   \n",
       "4        Germany  25295950  136533  25287462   136523       8488          10   \n",
       "\n",
       "   Fatality Rate      Continent  \n",
       "0            1.2  North America  \n",
       "1            1.2           Asia  \n",
       "2            2.2  South America  \n",
       "3            0.5         Europe  \n",
       "4            0.5         Europe  "
      ]
     },
     "execution_count": 15,
     "metadata": {},
     "output_type": "execute_result"
    }
   ],
   "source": [
    "#hide\n",
    "df_table = (pd.DataFrame(dict(Cases=dfc_cases, Deaths=dfc_deaths, PCases=dfp_cases, PDeaths=dfp_deaths))\n",
    "             .sort_values(by=['Cases', 'Deaths'], ascending=[False, False])\n",
    "             .reset_index())\n",
    "df_table.rename(columns={'index': 'Country/Region'}, inplace=True)\n",
    "for c in 'Cases, Deaths'.split(', '):\n",
    "    df_table[f'{c} (+)'] = (df_table[c] - df_table[f'P{c}']).clip(0)  # DATA BUG\n",
    "df_table['Fatality Rate'] = (100 * df_table['Deaths'] / df_table['Cases']).round(1)\n",
    "df_table['Continent'] = df_table['Country/Region'].map(mapping['map.continent'])\n",
    "df_table.head(5)"
   ]
  },
  {
   "cell_type": "code",
   "execution_count": 16,
   "id": "fewer-occasion",
   "metadata": {
    "execution": {
     "iopub.execute_input": "2022-05-08T12:15:39.490139Z",
     "iopub.status.busy": "2022-05-08T12:15:39.489545Z",
     "iopub.status.idle": "2022-05-08T12:15:39.491828Z",
     "shell.execute_reply": "2022-05-08T12:15:39.491241Z"
    },
    "papermill": {
     "duration": 0.043096,
     "end_time": "2022-05-08T12:15:39.491944",
     "exception": false,
     "start_time": "2022-05-08T12:15:39.448848",
     "status": "completed"
    },
    "tags": []
   },
   "outputs": [],
   "source": [
    "#hide\n",
    "#delete problematic countries from table\n",
    "df_table = df_table[~df_table['Country/Region'].isin(['Cape Verde', 'Cruise Ship', 'Kosovo'])]"
   ]
  },
  {
   "cell_type": "code",
   "execution_count": 17,
   "id": "related-center",
   "metadata": {
    "execution": {
     "iopub.execute_input": "2022-05-08T12:15:39.582597Z",
     "iopub.status.busy": "2022-05-08T12:15:39.582060Z",
     "iopub.status.idle": "2022-05-08T12:15:39.584704Z",
     "shell.execute_reply": "2022-05-08T12:15:39.584260Z"
    },
    "papermill": {
     "duration": 0.058083,
     "end_time": "2022-05-08T12:15:39.584821",
     "exception": false,
     "start_time": "2022-05-08T12:15:39.526738",
     "status": "completed"
    },
    "tags": []
   },
   "outputs": [],
   "source": [
    "#hide\n",
    "metrics = [df_table.columns[index] for index in [1,2,5,6]]\n",
    "# s_china = df_table[df_table['Country/Region'].eq('China')][metrics].sum().add_prefix('China ')\n",
    "s_us = df_table[df_table['Country/Region'].eq('US')][metrics].sum().add_prefix('US ')\n",
    "s_eu = df_table[df_table['Continent'].eq('Europe')][metrics].sum().add_prefix('EU ')\n",
    "s_ind = df_table[df_table['Country/Region'].eq('India')][metrics].sum().add_prefix('India ')\n",
    "summary = {'updated': pd.to_datetime(dt_today), 'since': pd.to_datetime(dt_yday)}\n",
    "summary = {'updated': pd.to_datetime(dt_today), 'since': pd.to_datetime(dt_yday)}\n",
    "summary = {**summary, **df_table[metrics].sum(), **s_ind, **s_us, **s_eu}"
   ]
  },
  {
   "cell_type": "code",
   "execution_count": 18,
   "id": "engaging-syndrome",
   "metadata": {
    "execution": {
     "iopub.execute_input": "2022-05-08T12:15:39.659593Z",
     "iopub.status.busy": "2022-05-08T12:15:39.659006Z",
     "iopub.status.idle": "2022-05-08T12:15:39.678634Z",
     "shell.execute_reply": "2022-05-08T12:15:39.678145Z"
    },
    "papermill": {
     "duration": 0.060739,
     "end_time": "2022-05-08T12:15:39.678764",
     "exception": false,
     "start_time": "2022-05-08T12:15:39.618025",
     "status": "completed"
    },
    "tags": []
   },
   "outputs": [],
   "source": [
    "#hide\n",
    "dft_ct_new_cases = dft_cases.groupby(COL_REGION)[dt_cols].sum().diff(axis=1).fillna(0).astype(int)"
   ]
  },
  {
   "cell_type": "code",
   "execution_count": 19,
   "id": "neutral-assignment",
   "metadata": {
    "execution": {
     "iopub.execute_input": "2022-05-08T12:15:39.754661Z",
     "iopub.status.busy": "2022-05-08T12:15:39.754002Z",
     "iopub.status.idle": "2022-05-08T12:15:39.758066Z",
     "shell.execute_reply": "2022-05-08T12:15:39.757564Z"
    },
    "papermill": {
     "duration": 0.04584,
     "end_time": "2022-05-08T12:15:39.758189",
     "exception": false,
     "start_time": "2022-05-08T12:15:39.712349",
     "status": "completed"
    },
    "tags": []
   },
   "outputs": [],
   "source": [
    "#hide\n",
    "everydaycases = dft_ct_new_cases.cumsum(axis=1)"
   ]
  },
  {
   "cell_type": "code",
   "execution_count": 20,
   "id": "parliamentary-calgary",
   "metadata": {
    "execution": {
     "iopub.execute_input": "2022-05-08T12:15:39.830818Z",
     "iopub.status.busy": "2022-05-08T12:15:39.830163Z",
     "iopub.status.idle": "2022-05-08T12:15:40.500739Z",
     "shell.execute_reply": "2022-05-08T12:15:40.499831Z"
    },
    "papermill": {
     "duration": 0.708184,
     "end_time": "2022-05-08T12:15:40.500963",
     "exception": false,
     "start_time": "2022-05-08T12:15:39.792779",
     "status": "completed"
    },
    "tags": []
   },
   "outputs": [],
   "source": [
    "#hide\n",
    "import pandas as pd\n",
    "import matplotlib.pyplot as plt\n",
    "import matplotlib.ticker as ticker\n",
    "import matplotlib.animation as animation\n",
    "from IPython.display import HTML"
   ]
  },
  {
   "cell_type": "code",
   "execution_count": 21,
   "id": "lasting-extraction",
   "metadata": {
    "execution": {
     "iopub.execute_input": "2022-05-08T12:15:40.576122Z",
     "iopub.status.busy": "2022-05-08T12:15:40.575509Z",
     "iopub.status.idle": "2022-05-08T12:15:40.582193Z",
     "shell.execute_reply": "2022-05-08T12:15:40.582638Z"
    },
    "papermill": {
     "duration": 0.046739,
     "end_time": "2022-05-08T12:15:40.582786",
     "exception": false,
     "start_time": "2022-05-08T12:15:40.536047",
     "status": "completed"
    },
    "tags": []
   },
   "outputs": [],
   "source": [
    "#hide\n",
    "t = everydaycases.stack()"
   ]
  },
  {
   "cell_type": "code",
   "execution_count": 22,
   "id": "premier-sleeve",
   "metadata": {
    "execution": {
     "iopub.execute_input": "2022-05-08T12:15:40.654088Z",
     "iopub.status.busy": "2022-05-08T12:15:40.653504Z",
     "iopub.status.idle": "2022-05-08T12:15:40.666069Z",
     "shell.execute_reply": "2022-05-08T12:15:40.665586Z"
    },
    "papermill": {
     "duration": 0.049968,
     "end_time": "2022-05-08T12:15:40.666189",
     "exception": false,
     "start_time": "2022-05-08T12:15:40.616221",
     "status": "completed"
    },
    "tags": []
   },
   "outputs": [],
   "source": [
    "#hide\n",
    "g = t.reset_index(['Country/Region'])"
   ]
  },
  {
   "cell_type": "code",
   "execution_count": 23,
   "id": "distributed-pittsburgh",
   "metadata": {
    "execution": {
     "iopub.execute_input": "2022-05-08T12:15:40.736735Z",
     "iopub.status.busy": "2022-05-08T12:15:40.736189Z",
     "iopub.status.idle": "2022-05-08T12:15:40.738555Z",
     "shell.execute_reply": "2022-05-08T12:15:40.737987Z"
    },
    "papermill": {
     "duration": 0.038921,
     "end_time": "2022-05-08T12:15:40.738673",
     "exception": false,
     "start_time": "2022-05-08T12:15:40.699752",
     "status": "completed"
    },
    "tags": []
   },
   "outputs": [],
   "source": [
    "#hide\n",
    "g.index.name = 'date'"
   ]
  },
  {
   "cell_type": "code",
   "execution_count": 24,
   "id": "naked-donor",
   "metadata": {
    "execution": {
     "iopub.execute_input": "2022-05-08T12:15:40.810122Z",
     "iopub.status.busy": "2022-05-08T12:15:40.809359Z",
     "iopub.status.idle": "2022-05-08T12:15:40.810947Z",
     "shell.execute_reply": "2022-05-08T12:15:40.811585Z"
    },
    "papermill": {
     "duration": 0.039474,
     "end_time": "2022-05-08T12:15:40.811756",
     "exception": false,
     "start_time": "2022-05-08T12:15:40.772282",
     "status": "completed"
    },
    "tags": []
   },
   "outputs": [],
   "source": [
    "# #hide\n",
    "# g = g.reset_index(['date'])"
   ]
  },
  {
   "cell_type": "code",
   "execution_count": 25,
   "id": "incomplete-mustang",
   "metadata": {
    "execution": {
     "iopub.execute_input": "2022-05-08T12:15:40.886244Z",
     "iopub.status.busy": "2022-05-08T12:15:40.885204Z",
     "iopub.status.idle": "2022-05-08T12:15:40.889998Z",
     "shell.execute_reply": "2022-05-08T12:15:40.889568Z"
    },
    "papermill": {
     "duration": 0.043554,
     "end_time": "2022-05-08T12:15:40.890100",
     "exception": false,
     "start_time": "2022-05-08T12:15:40.846546",
     "status": "completed"
    },
    "tags": []
   },
   "outputs": [],
   "source": [
    "#hide\n",
    "# g.head()"
   ]
  },
  {
   "cell_type": "code",
   "execution_count": 26,
   "id": "specific-kruger",
   "metadata": {
    "execution": {
     "iopub.execute_input": "2022-05-08T12:15:40.961020Z",
     "iopub.status.busy": "2022-05-08T12:15:40.960429Z",
     "iopub.status.idle": "2022-05-08T12:15:40.962892Z",
     "shell.execute_reply": "2022-05-08T12:15:40.962299Z"
    },
    "papermill": {
     "duration": 0.03924,
     "end_time": "2022-05-08T12:15:40.963000",
     "exception": false,
     "start_time": "2022-05-08T12:15:40.923760",
     "status": "completed"
    },
    "tags": []
   },
   "outputs": [],
   "source": [
    "#hide\n",
    "# g.columns = ['date','country','cases']"
   ]
  },
  {
   "cell_type": "code",
   "execution_count": 27,
   "id": "tender-conversion",
   "metadata": {
    "execution": {
     "iopub.execute_input": "2022-05-08T12:15:41.034889Z",
     "iopub.status.busy": "2022-05-08T12:15:41.034284Z",
     "iopub.status.idle": "2022-05-08T12:15:41.036729Z",
     "shell.execute_reply": "2022-05-08T12:15:41.037293Z"
    },
    "papermill": {
     "duration": 0.041091,
     "end_time": "2022-05-08T12:15:41.037429",
     "exception": false,
     "start_time": "2022-05-08T12:15:40.996338",
     "status": "completed"
    },
    "tags": []
   },
   "outputs": [],
   "source": [
    "#hide\n",
    "# g['continent'] = g.country"
   ]
  },
  {
   "cell_type": "code",
   "execution_count": 28,
   "id": "substantial-wilderness",
   "metadata": {
    "execution": {
     "iopub.execute_input": "2022-05-08T12:15:41.111069Z",
     "iopub.status.busy": "2022-05-08T12:15:41.110188Z",
     "iopub.status.idle": "2022-05-08T12:15:41.114200Z",
     "shell.execute_reply": "2022-05-08T12:15:41.114661Z"
    },
    "papermill": {
     "duration": 0.043251,
     "end_time": "2022-05-08T12:15:41.114799",
     "exception": false,
     "start_time": "2022-05-08T12:15:41.071548",
     "status": "completed"
    },
    "tags": []
   },
   "outputs": [],
   "source": [
    "#hide\n",
    "# cols = list(g.columns.values)"
   ]
  },
  {
   "cell_type": "code",
   "execution_count": 29,
   "id": "solved-farming",
   "metadata": {
    "execution": {
     "iopub.execute_input": "2022-05-08T12:15:41.188342Z",
     "iopub.status.busy": "2022-05-08T12:15:41.187504Z",
     "iopub.status.idle": "2022-05-08T12:15:41.189197Z",
     "shell.execute_reply": "2022-05-08T12:15:41.189833Z"
    },
    "papermill": {
     "duration": 0.040729,
     "end_time": "2022-05-08T12:15:41.190014",
     "exception": false,
     "start_time": "2022-05-08T12:15:41.149285",
     "status": "completed"
    },
    "tags": []
   },
   "outputs": [],
   "source": [
    "#hide\n",
    "# cols.insert(0, cols.pop())"
   ]
  },
  {
   "cell_type": "code",
   "execution_count": 30,
   "id": "executed-adoption",
   "metadata": {
    "execution": {
     "iopub.execute_input": "2022-05-08T12:15:41.263397Z",
     "iopub.status.busy": "2022-05-08T12:15:41.262575Z",
     "iopub.status.idle": "2022-05-08T12:15:41.265972Z",
     "shell.execute_reply": "2022-05-08T12:15:41.266397Z"
    },
    "papermill": {
     "duration": 0.041958,
     "end_time": "2022-05-08T12:15:41.266535",
     "exception": false,
     "start_time": "2022-05-08T12:15:41.224577",
     "status": "completed"
    },
    "tags": []
   },
   "outputs": [],
   "source": [
    "#hide\n",
    "# g = g[cols]"
   ]
  },
  {
   "cell_type": "code",
   "execution_count": 31,
   "id": "subject-dublin",
   "metadata": {
    "execution": {
     "iopub.execute_input": "2022-05-08T12:15:41.338413Z",
     "iopub.status.busy": "2022-05-08T12:15:41.337660Z",
     "iopub.status.idle": "2022-05-08T12:15:41.341674Z",
     "shell.execute_reply": "2022-05-08T12:15:41.342225Z"
    },
    "papermill": {
     "duration": 0.042383,
     "end_time": "2022-05-08T12:15:41.342380",
     "exception": false,
     "start_time": "2022-05-08T12:15:41.299997",
     "status": "completed"
    },
    "tags": []
   },
   "outputs": [],
   "source": [
    "#hide\n",
    "# g['continent'] = g['continent'].map(mapping['map.continent'])"
   ]
  },
  {
   "cell_type": "code",
   "execution_count": 32,
   "id": "freelance-scout",
   "metadata": {
    "execution": {
     "iopub.execute_input": "2022-05-08T12:15:41.417437Z",
     "iopub.status.busy": "2022-05-08T12:15:41.416825Z",
     "iopub.status.idle": "2022-05-08T12:15:41.418724Z",
     "shell.execute_reply": "2022-05-08T12:15:41.419199Z"
    },
    "papermill": {
     "duration": 0.040754,
     "end_time": "2022-05-08T12:15:41.419372",
     "exception": false,
     "start_time": "2022-05-08T12:15:41.378618",
     "status": "completed"
    },
    "tags": []
   },
   "outputs": [],
   "source": [
    "#hide\n",
    "# g.head()"
   ]
  },
  {
   "cell_type": "code",
   "execution_count": 33,
   "id": "limited-engine",
   "metadata": {
    "execution": {
     "iopub.execute_input": "2022-05-08T12:15:41.491894Z",
     "iopub.status.busy": "2022-05-08T12:15:41.491207Z",
     "iopub.status.idle": "2022-05-08T12:15:41.493476Z",
     "shell.execute_reply": "2022-05-08T12:15:41.492895Z"
    },
    "papermill": {
     "duration": 0.039614,
     "end_time": "2022-05-08T12:15:41.493600",
     "exception": false,
     "start_time": "2022-05-08T12:15:41.453986",
     "status": "completed"
    },
    "tags": []
   },
   "outputs": [],
   "source": [
    "# hide\n",
    "# g['date'] = g['date'].astype('datetime64[ns]')"
   ]
  },
  {
   "cell_type": "code",
   "execution_count": 34,
   "id": "sophisticated-supervisor",
   "metadata": {
    "execution": {
     "iopub.execute_input": "2022-05-08T12:15:41.568391Z",
     "iopub.status.busy": "2022-05-08T12:15:41.567589Z",
     "iopub.status.idle": "2022-05-08T12:15:41.570215Z",
     "shell.execute_reply": "2022-05-08T12:15:41.570645Z"
    },
    "papermill": {
     "duration": 0.042414,
     "end_time": "2022-05-08T12:15:41.570787",
     "exception": false,
     "start_time": "2022-05-08T12:15:41.528373",
     "status": "completed"
    },
    "tags": []
   },
   "outputs": [],
   "source": [
    "#hide\n",
    "# g['date'] = g.date.dt.dayofyear"
   ]
  },
  {
   "cell_type": "code",
   "execution_count": 35,
   "id": "inside-dubai",
   "metadata": {
    "execution": {
     "iopub.execute_input": "2022-05-08T12:15:41.644045Z",
     "iopub.status.busy": "2022-05-08T12:15:41.642913Z",
     "iopub.status.idle": "2022-05-08T12:15:41.645163Z",
     "shell.execute_reply": "2022-05-08T12:15:41.645992Z"
    },
    "papermill": {
     "duration": 0.041541,
     "end_time": "2022-05-08T12:15:41.646222",
     "exception": false,
     "start_time": "2022-05-08T12:15:41.604681",
     "status": "completed"
    },
    "tags": []
   },
   "outputs": [],
   "source": [
    "#hide\n",
    "# g = g.rename(columns= {'continent':'group','country':'name','cases':'value'})"
   ]
  },
  {
   "cell_type": "code",
   "execution_count": 36,
   "id": "fleet-motorcycle",
   "metadata": {
    "execution": {
     "iopub.execute_input": "2022-05-08T12:15:41.721484Z",
     "iopub.status.busy": "2022-05-08T12:15:41.720844Z",
     "iopub.status.idle": "2022-05-08T12:15:41.723292Z",
     "shell.execute_reply": "2022-05-08T12:15:41.723804Z"
    },
    "papermill": {
     "duration": 0.041502,
     "end_time": "2022-05-08T12:15:41.723947",
     "exception": false,
     "start_time": "2022-05-08T12:15:41.682445",
     "status": "completed"
    },
    "tags": []
   },
   "outputs": [],
   "source": [
    "#hide\n",
    "# cols = ['name','group','day','value']"
   ]
  },
  {
   "cell_type": "code",
   "execution_count": 37,
   "id": "continued-sleeping",
   "metadata": {
    "execution": {
     "iopub.execute_input": "2022-05-08T12:15:41.798962Z",
     "iopub.status.busy": "2022-05-08T12:15:41.798079Z",
     "iopub.status.idle": "2022-05-08T12:15:41.802443Z",
     "shell.execute_reply": "2022-05-08T12:15:41.802896Z"
    },
    "papermill": {
     "duration": 0.044565,
     "end_time": "2022-05-08T12:15:41.803043",
     "exception": false,
     "start_time": "2022-05-08T12:15:41.758478",
     "status": "completed"
    },
    "tags": []
   },
   "outputs": [],
   "source": [
    "#hide\n",
    "# g.rename(columns= {'date':'day'},inplace = True)"
   ]
  },
  {
   "cell_type": "code",
   "execution_count": 38,
   "id": "major-fight",
   "metadata": {
    "execution": {
     "iopub.execute_input": "2022-05-08T12:15:41.874870Z",
     "iopub.status.busy": "2022-05-08T12:15:41.874266Z",
     "iopub.status.idle": "2022-05-08T12:15:41.876246Z",
     "shell.execute_reply": "2022-05-08T12:15:41.875701Z"
    },
    "papermill": {
     "duration": 0.039401,
     "end_time": "2022-05-08T12:15:41.876358",
     "exception": false,
     "start_time": "2022-05-08T12:15:41.836957",
     "status": "completed"
    },
    "tags": []
   },
   "outputs": [],
   "source": [
    "#hide\n",
    "# g = g[cols]"
   ]
  },
  {
   "cell_type": "code",
   "execution_count": 39,
   "id": "structured-mobile",
   "metadata": {
    "execution": {
     "iopub.execute_input": "2022-05-08T12:15:41.951867Z",
     "iopub.status.busy": "2022-05-08T12:15:41.950788Z",
     "iopub.status.idle": "2022-05-08T12:15:41.955069Z",
     "shell.execute_reply": "2022-05-08T12:15:41.954452Z"
    },
    "papermill": {
     "duration": 0.043678,
     "end_time": "2022-05-08T12:15:41.955191",
     "exception": false,
     "start_time": "2022-05-08T12:15:41.911513",
     "status": "completed"
    },
    "tags": []
   },
   "outputs": [],
   "source": [
    "# #hide\n",
    "# g = g[g.group.notna()]"
   ]
  },
  {
   "cell_type": "code",
   "execution_count": 40,
   "id": "determined-closing",
   "metadata": {
    "execution": {
     "iopub.execute_input": "2022-05-08T12:15:42.026355Z",
     "iopub.status.busy": "2022-05-08T12:15:42.025744Z",
     "iopub.status.idle": "2022-05-08T12:15:42.029201Z",
     "shell.execute_reply": "2022-05-08T12:15:42.029621Z"
    },
    "papermill": {
     "duration": 0.040897,
     "end_time": "2022-05-08T12:15:42.029758",
     "exception": false,
     "start_time": "2022-05-08T12:15:41.988861",
     "status": "completed"
    },
    "tags": []
   },
   "outputs": [],
   "source": [
    "# #hide\n",
    "# colors = dict(zip(\n",
    "#     [\"Oceania\", \"Europe\", \"Asia\", \"South America\", \"Middle East\", \"North America\", \"Africa\"],\n",
    "#     [\"#adb0ff\", \"#ffb3ff\", \"#90d595\", \"#e48381\", \"#aafbff\", \"#f7bb5f\", \"#eafb50\"]\n",
    "# ))\n",
    "# group_lk = g.set_index('name')['group'].to_dict()"
   ]
  },
  {
   "cell_type": "code",
   "execution_count": null,
   "id": "gross-drinking",
   "metadata": {
    "papermill": {
     "duration": 0.03431,
     "end_time": "2022-05-08T12:15:42.098226",
     "exception": false,
     "start_time": "2022-05-08T12:15:42.063916",
     "status": "completed"
    },
    "tags": []
   },
   "outputs": [],
   "source": []
  },
  {
   "cell_type": "code",
   "execution_count": 41,
   "id": "subject-macintosh",
   "metadata": {
    "execution": {
     "iopub.execute_input": "2022-05-08T12:15:42.171971Z",
     "iopub.status.busy": "2022-05-08T12:15:42.171305Z",
     "iopub.status.idle": "2022-05-08T12:15:42.174057Z",
     "shell.execute_reply": "2022-05-08T12:15:42.173463Z"
    },
    "papermill": {
     "duration": 0.041575,
     "end_time": "2022-05-08T12:15:42.174181",
     "exception": false,
     "start_time": "2022-05-08T12:15:42.132606",
     "status": "completed"
    },
    "tags": []
   },
   "outputs": [],
   "source": [
    "# #hide\n",
    "# fig, ax = plt.subplots(figsize=(15, 8))\n",
    "\n",
    "# def draw_barchart(current_day):\n",
    "#     dff = g[g['day'].eq(current_day)].sort_values(by='value', ascending=True).tail(10)\n",
    "#     ax.clear()\n",
    "#     ax.barh(dff['name'], dff['value'], color=[colors[group_lk[x]] for x in dff['name']])\n",
    "#     dx = dff['value'].max() / 200\n",
    "    \n",
    "#     for i, (value, name) in enumerate(zip(dff['value'], dff['name'])):\n",
    "#         ax.text(value-dx, i,     name,           size=14, weight=600, ha='right', va='bottom')\n",
    "#         ax.text(value-dx, i-.25, group_lk[name], size=10, color='#444444', ha='right', va='baseline')\n",
    "#         ax.text(value+dx, i,     f'{value:,.0f}',  size=14, ha='left',  va='center')\n",
    "#     ax.text(1, 0.4, current_day, transform=ax.transAxes, color='#777777', size=46, ha='right', weight=800)\n",
    "#     ax.text(0, 1.06, 'Population (thousands)', transform=ax.transAxes, size=12, color='#777777')\n",
    "#     ax.xaxis.set_major_formatter(ticker.StrMethodFormatter('{x:,.0f}'))\n",
    "#     ax.xaxis.set_ticks_position('top')\n",
    "#     ax.tick_params(axis='x', colors='#777777', labelsize=12)\n",
    "#     ax.set_yticks([])\n",
    "#     ax.margins(0, 0.01)\n",
    "#     ax.grid(which='major', axis='x', linestyle='-')\n",
    "#     ax.set_axisbelow(True)\n",
    "    \n",
    "#     ax.text(0, 1.15, 'Coronavirus',\n",
    "#             transform=ax.transAxes, size=24, weight=600, ha='left', va='top')\n",
    "# #     ax.text(1, 0, 'by @pratapvardhan; credit @jburnmurdoch', transform=ax.transAxes, color='#777777', ha='right',\n",
    "# #             bbox=dict(facecolor='white', alpha=0.8, edgecolor='white'))\n",
    "#     plt.box(False)"
   ]
  },
  {
   "cell_type": "code",
   "execution_count": 42,
   "id": "sexual-wages",
   "metadata": {
    "execution": {
     "iopub.execute_input": "2022-05-08T12:15:42.248495Z",
     "iopub.status.busy": "2022-05-08T12:15:42.247884Z",
     "iopub.status.idle": "2022-05-08T12:15:42.251898Z",
     "shell.execute_reply": "2022-05-08T12:15:42.251409Z"
    },
    "papermill": {
     "duration": 0.043226,
     "end_time": "2022-05-08T12:15:42.252022",
     "exception": false,
     "start_time": "2022-05-08T12:15:42.208796",
     "status": "completed"
    },
    "tags": []
   },
   "outputs": [],
   "source": [
    "# #hide_input\n",
    "# fig, ax = plt.subplots(figsize=(15, 8))\n",
    "# animator = animation.FuncAnimation(fig, draw_barchart, frames=range(g.day.values.min(), g.day.values.max()))\n",
    "# HTML(animator.to_jshtml())\n",
    "# # or use animator.to_html5_video() or animator.save() "
   ]
  },
  {
   "cell_type": "code",
   "execution_count": null,
   "id": "australian-container",
   "metadata": {
    "papermill": {
     "duration": 0.034171,
     "end_time": "2022-05-08T12:15:42.320793",
     "exception": false,
     "start_time": "2022-05-08T12:15:42.286622",
     "status": "completed"
    },
    "tags": []
   },
   "outputs": [],
   "source": []
  },
  {
   "cell_type": "code",
   "execution_count": null,
   "id": "mediterranean-pontiac",
   "metadata": {
    "papermill": {
     "duration": 0.03428,
     "end_time": "2022-05-08T12:15:42.389984",
     "exception": false,
     "start_time": "2022-05-08T12:15:42.355704",
     "status": "completed"
    },
    "tags": []
   },
   "outputs": [],
   "source": []
  },
  {
   "cell_type": "code",
   "execution_count": null,
   "id": "aging-legislature",
   "metadata": {
    "papermill": {
     "duration": 0.033471,
     "end_time": "2022-05-08T12:15:42.457819",
     "exception": false,
     "start_time": "2022-05-08T12:15:42.424348",
     "status": "completed"
    },
    "tags": []
   },
   "outputs": [],
   "source": []
  }
 ],
 "metadata": {
  "kernelspec": {
   "display_name": "Python 3",
   "language": "python",
   "name": "python3"
  },
  "language_info": {
   "codemirror_mode": {
    "name": "ipython",
    "version": 3
   },
   "file_extension": ".py",
   "mimetype": "text/x-python",
   "name": "python",
   "nbconvert_exporter": "python",
   "pygments_lexer": "ipython3",
   "version": "3.6.15"
  },
  "papermill": {
   "duration": 6.803348,
   "end_time": "2022-05-08T12:15:42.912678",
   "environment_variables": {},
   "exception": null,
   "input_path": "2020-03-21-covid19exp.ipynb",
   "output_path": "2020-03-21-covid19exp.ipynb",
   "parameters": {},
   "start_time": "2022-05-08T12:15:36.109330",
   "version": "2.0.0"
  }
 },
 "nbformat": 4,
 "nbformat_minor": 5
}