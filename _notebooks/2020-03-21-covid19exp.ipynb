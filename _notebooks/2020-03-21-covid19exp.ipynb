{
 "cells": [
  {
   "cell_type": "markdown",
   "id": "muslim-click",
   "metadata": {
    "papermill": {
     "duration": 0.039764,
     "end_time": "2022-02-15T12:14:25.870361",
     "exception": false,
     "start_time": "2022-02-15T12:14:25.830597",
     "status": "completed"
    },
    "tags": []
   },
   "source": [
    "# COVID-19 Case Race\n",
    "> A race chart to see rising cases around the world\n",
    "\n",
    "- author: Hargun Oberoi\n",
    "- image: images/covid-overview.png\n",
    "- hide: false\n",
    "- badges: false"
   ]
  },
  {
   "cell_type": "code",
   "execution_count": 1,
   "id": "proof-material",
   "metadata": {
    "execution": {
     "iopub.execute_input": "2022-02-15T12:14:25.952115Z",
     "iopub.status.busy": "2022-02-15T12:14:25.951418Z",
     "iopub.status.idle": "2022-02-15T12:14:26.318569Z",
     "shell.execute_reply": "2022-02-15T12:14:26.319094Z"
    },
    "papermill": {
     "duration": 0.412756,
     "end_time": "2022-02-15T12:14:26.319345",
     "exception": false,
     "start_time": "2022-02-15T12:14:25.906589",
     "status": "completed"
    },
    "tags": []
   },
   "outputs": [],
   "source": [
    "#hide\n",
    "import numpy as np\n",
    "import pandas as pd\n",
    "from jinja2 import Template\n",
    "from IPython.display import HTML"
   ]
  },
  {
   "cell_type": "code",
   "execution_count": 2,
   "id": "developed-terminology",
   "metadata": {
    "execution": {
     "iopub.execute_input": "2022-02-15T12:14:26.392870Z",
     "iopub.status.busy": "2022-02-15T12:14:26.392275Z",
     "iopub.status.idle": "2022-02-15T12:14:26.396590Z",
     "shell.execute_reply": "2022-02-15T12:14:26.396060Z"
    },
    "papermill": {
     "duration": 0.044117,
     "end_time": "2022-02-15T12:14:26.396718",
     "exception": false,
     "start_time": "2022-02-15T12:14:26.352601",
     "status": "completed"
    },
    "tags": []
   },
   "outputs": [],
   "source": [
    "#hide\n",
    "\n",
    "# FETCH\n",
    "base_url = 'https://raw.githubusercontent.com/pratapvardhan/notebooks/master/covid19/'\n",
    "paths = {\n",
    "    'mapping': base_url + 'mapping_countries.csv',\n",
    "    'overview': base_url + 'overview.tpl'\n",
    "}"
   ]
  },
  {
   "cell_type": "code",
   "execution_count": 3,
   "id": "dynamic-saver",
   "metadata": {
    "execution": {
     "iopub.execute_input": "2022-02-15T12:14:26.473311Z",
     "iopub.status.busy": "2022-02-15T12:14:26.472629Z",
     "iopub.status.idle": "2022-02-15T12:14:26.476284Z",
     "shell.execute_reply": "2022-02-15T12:14:26.475649Z"
    },
    "papermill": {
     "duration": 0.046515,
     "end_time": "2022-02-15T12:14:26.476423",
     "exception": false,
     "start_time": "2022-02-15T12:14:26.429908",
     "status": "completed"
    },
    "tags": []
   },
   "outputs": [
    {
     "data": {
      "text/plain": [
       "'https://raw.githubusercontent.com/pratapvardhan/notebooks/master/covid19/mapping_countries.csv'"
      ]
     },
     "execution_count": 3,
     "metadata": {},
     "output_type": "execute_result"
    }
   ],
   "source": [
    "#hide\n",
    "paths['mapping']"
   ]
  },
  {
   "cell_type": "code",
   "execution_count": 4,
   "id": "urban-software",
   "metadata": {
    "execution": {
     "iopub.execute_input": "2022-02-15T12:14:26.559742Z",
     "iopub.status.busy": "2022-02-15T12:14:26.558897Z",
     "iopub.status.idle": "2022-02-15T12:14:26.561714Z",
     "shell.execute_reply": "2022-02-15T12:14:26.561098Z"
    },
    "papermill": {
     "duration": 0.048879,
     "end_time": "2022-02-15T12:14:26.561881",
     "exception": false,
     "start_time": "2022-02-15T12:14:26.513002",
     "status": "completed"
    },
    "tags": []
   },
   "outputs": [],
   "source": [
    "#hide\n",
    "def get_mappings(url):\n",
    "    df = pd.read_csv(url)\n",
    "    return {\n",
    "        'df': df,\n",
    "        'replace.country': dict(df.dropna(subset=['Name']).set_index('Country')['Name']),\n",
    "        'map.continent': dict(df.set_index('Name')['Continent'])\n",
    "    }"
   ]
  },
  {
   "cell_type": "code",
   "execution_count": 5,
   "id": "intimate-machinery",
   "metadata": {
    "execution": {
     "iopub.execute_input": "2022-02-15T12:14:26.642401Z",
     "iopub.status.busy": "2022-02-15T12:14:26.641833Z",
     "iopub.status.idle": "2022-02-15T12:14:26.680371Z",
     "shell.execute_reply": "2022-02-15T12:14:26.680856Z"
    },
    "papermill": {
     "duration": 0.081482,
     "end_time": "2022-02-15T12:14:26.680988",
     "exception": false,
     "start_time": "2022-02-15T12:14:26.599506",
     "status": "completed"
    },
    "tags": []
   },
   "outputs": [],
   "source": [
    "#hide\n",
    "mapping = get_mappings(paths['mapping'])"
   ]
  },
  {
   "cell_type": "code",
   "execution_count": 6,
   "id": "certified-tactics",
   "metadata": {
    "execution": {
     "iopub.execute_input": "2022-02-15T12:14:26.754111Z",
     "iopub.status.busy": "2022-02-15T12:14:26.753469Z",
     "iopub.status.idle": "2022-02-15T12:14:26.756124Z",
     "shell.execute_reply": "2022-02-15T12:14:26.755532Z"
    },
    "papermill": {
     "duration": 0.043652,
     "end_time": "2022-02-15T12:14:26.756236",
     "exception": false,
     "start_time": "2022-02-15T12:14:26.712584",
     "status": "completed"
    },
    "tags": []
   },
   "outputs": [],
   "source": [
    "#hide\n",
    "def get_template(path):\n",
    "    from urllib.parse import urlparse\n",
    "    if bool(urlparse(path).netloc):\n",
    "        from urllib.request import urlopen\n",
    "        return urlopen(path).read().decode('utf8')\n",
    "    return open(path).read()"
   ]
  },
  {
   "cell_type": "code",
   "execution_count": 7,
   "id": "realistic-blast",
   "metadata": {
    "execution": {
     "iopub.execute_input": "2022-02-15T12:14:26.833515Z",
     "iopub.status.busy": "2022-02-15T12:14:26.832932Z",
     "iopub.status.idle": "2022-02-15T12:14:26.835428Z",
     "shell.execute_reply": "2022-02-15T12:14:26.834859Z"
    },
    "papermill": {
     "duration": 0.043653,
     "end_time": "2022-02-15T12:14:26.835543",
     "exception": false,
     "start_time": "2022-02-15T12:14:26.791890",
     "status": "completed"
    },
    "tags": []
   },
   "outputs": [],
   "source": [
    "#hide\n",
    "def get_frame(name):\n",
    "    url = (\n",
    "        'https://raw.githubusercontent.com/CSSEGISandData/COVID-19/master/csse_covid_19_data/'\n",
    "        f'csse_covid_19_time_series/time_series_covid19_{name}_global.csv')\n",
    "    df = pd.read_csv(url)\n",
    "    # rename countries\n",
    "    df['Country/Region'] = df['Country/Region'].replace(mapping['replace.country'])\n",
    "    return df"
   ]
  },
  {
   "cell_type": "code",
   "execution_count": 8,
   "id": "affiliated-characterization",
   "metadata": {
    "execution": {
     "iopub.execute_input": "2022-02-15T12:14:26.914257Z",
     "iopub.status.busy": "2022-02-15T12:14:26.913545Z",
     "iopub.status.idle": "2022-02-15T12:14:26.915727Z",
     "shell.execute_reply": "2022-02-15T12:14:26.916389Z"
    },
    "papermill": {
     "duration": 0.044651,
     "end_time": "2022-02-15T12:14:26.916537",
     "exception": false,
     "start_time": "2022-02-15T12:14:26.871886",
     "status": "completed"
    },
    "tags": []
   },
   "outputs": [],
   "source": [
    "#hide\n",
    "def get_dates(df):\n",
    "    dt_cols = df.columns[~df.columns.isin(['Province/State', 'Country/Region', 'Lat', 'Long'])]\n",
    "    LAST_DATE_I = -1\n",
    "    # sometimes last column may be empty, then go backwards\n",
    "    for i in range(-1, -len(dt_cols), -1):\n",
    "        if not df[dt_cols[i]].fillna(0).eq(0).all():\n",
    "            LAST_DATE_I = i\n",
    "            break\n",
    "    return LAST_DATE_I, dt_cols"
   ]
  },
  {
   "cell_type": "code",
   "execution_count": 9,
   "id": "recent-optimization",
   "metadata": {
    "execution": {
     "iopub.execute_input": "2022-02-15T12:14:26.993880Z",
     "iopub.status.busy": "2022-02-15T12:14:26.993111Z",
     "iopub.status.idle": "2022-02-15T12:14:27.460104Z",
     "shell.execute_reply": "2022-02-15T12:14:27.459415Z"
    },
    "papermill": {
     "duration": 0.504701,
     "end_time": "2022-02-15T12:14:27.460230",
     "exception": false,
     "start_time": "2022-02-15T12:14:26.955529",
     "status": "completed"
    },
    "tags": []
   },
   "outputs": [],
   "source": [
    "#hide\n",
    "COL_REGION = 'Country/Region'\n",
    "# Confirmed, Recovered, Deaths\n",
    "df = get_frame('confirmed')\n",
    "# dft_: timeseries, dfc_: today country agg\n",
    "dft_cases = df\n",
    "dft_deaths = get_frame('deaths')\n",
    "dft_recovered = get_frame('recovered')\n",
    "LAST_DATE_I, dt_cols = get_dates(df)"
   ]
  },
  {
   "cell_type": "code",
   "execution_count": 10,
   "id": "absolute-copper",
   "metadata": {
    "execution": {
     "iopub.execute_input": "2022-02-15T12:14:27.541888Z",
     "iopub.status.busy": "2022-02-15T12:14:27.541321Z",
     "iopub.status.idle": "2022-02-15T12:14:27.543504Z",
     "shell.execute_reply": "2022-02-15T12:14:27.544082Z"
    },
    "papermill": {
     "duration": 0.045965,
     "end_time": "2022-02-15T12:14:27.544210",
     "exception": false,
     "start_time": "2022-02-15T12:14:27.498245",
     "status": "completed"
    },
    "tags": []
   },
   "outputs": [],
   "source": [
    "#hide\n",
    "LAST_DATE_I, dt_cols = get_dates(df)\n",
    "dt_today =dt_cols[LAST_DATE_I]\n",
    "# dt_5day = dt_cols[LAST_DATE_I - 5]\n",
    "dt_yday = dt_cols[LAST_DATE_I - 1]"
   ]
  },
  {
   "cell_type": "code",
   "execution_count": 11,
   "id": "restricted-sheriff",
   "metadata": {
    "execution": {
     "iopub.execute_input": "2022-02-15T12:14:27.622979Z",
     "iopub.status.busy": "2022-02-15T12:14:27.622397Z",
     "iopub.status.idle": "2022-02-15T12:14:27.631318Z",
     "shell.execute_reply": "2022-02-15T12:14:27.630810Z"
    },
    "papermill": {
     "duration": 0.049953,
     "end_time": "2022-02-15T12:14:27.631448",
     "exception": false,
     "start_time": "2022-02-15T12:14:27.581495",
     "status": "completed"
    },
    "tags": []
   },
   "outputs": [],
   "source": [
    "#hide\n",
    "dfc_cases = dft_cases.groupby(COL_REGION)[dt_today].sum()\n",
    "dfc_deaths = dft_deaths.groupby(COL_REGION)[dt_today].sum()\n",
    "# dfp_cases = dft_cases.groupby(COL_REGION)[dt_5day].sum()\n",
    "# dfp_deaths = dft_deaths.groupby(COL_REGION)[dt_5day].sum()\n",
    "dfp_cases = dft_cases.groupby(COL_REGION)[dt_yday].sum()\n",
    "dfp_deaths = dft_deaths.groupby(COL_REGION)[dt_yday].sum()"
   ]
  },
  {
   "cell_type": "code",
   "execution_count": 12,
   "id": "deluxe-hepatitis",
   "metadata": {
    "execution": {
     "iopub.execute_input": "2022-02-15T12:14:27.705078Z",
     "iopub.status.busy": "2022-02-15T12:14:27.704391Z",
     "iopub.status.idle": "2022-02-15T12:14:27.709301Z",
     "shell.execute_reply": "2022-02-15T12:14:27.709801Z"
    },
    "papermill": {
     "duration": 0.04497,
     "end_time": "2022-02-15T12:14:27.709919",
     "exception": false,
     "start_time": "2022-02-15T12:14:27.664949",
     "status": "completed"
    },
    "tags": []
   },
   "outputs": [],
   "source": [
    "#hide\n",
    "df_table = (pd.DataFrame(dict(Cases = dfc_cases, Deaths = dfc_deaths, PCases = dfp_cases, PDeaths = dfp_deaths))\n",
    "            .sort_values(by = ['Cases','Deaths'], ascending = [False, False])\n",
    "            .reset_index())"
   ]
  },
  {
   "cell_type": "code",
   "execution_count": 13,
   "id": "educational-chancellor",
   "metadata": {
    "execution": {
     "iopub.execute_input": "2022-02-15T12:14:27.794559Z",
     "iopub.status.busy": "2022-02-15T12:14:27.793815Z",
     "iopub.status.idle": "2022-02-15T12:14:27.802876Z",
     "shell.execute_reply": "2022-02-15T12:14:27.803514Z"
    },
    "papermill": {
     "duration": 0.061577,
     "end_time": "2022-02-15T12:14:27.803657",
     "exception": false,
     "start_time": "2022-02-15T12:14:27.742080",
     "status": "completed"
    },
    "tags": []
   },
   "outputs": [
    {
     "data": {
      "text/html": [
       "<div>\n",
       "<style scoped>\n",
       "    .dataframe tbody tr th:only-of-type {\n",
       "        vertical-align: middle;\n",
       "    }\n",
       "\n",
       "    .dataframe tbody tr th {\n",
       "        vertical-align: top;\n",
       "    }\n",
       "\n",
       "    .dataframe thead th {\n",
       "        text-align: right;\n",
       "    }\n",
       "</style>\n",
       "<table border=\"1\" class=\"dataframe\">\n",
       "  <thead>\n",
       "    <tr style=\"text-align: right;\">\n",
       "      <th></th>\n",
       "      <th>Country/Region</th>\n",
       "      <th>Cases</th>\n",
       "      <th>Deaths</th>\n",
       "      <th>PCases</th>\n",
       "      <th>PDeaths</th>\n",
       "      <th>Cases (+)</th>\n",
       "      <th>Deaths (+)</th>\n",
       "      <th>Fatality Rate</th>\n",
       "      <th>Continent</th>\n",
       "    </tr>\n",
       "  </thead>\n",
       "  <tbody>\n",
       "    <tr>\n",
       "      <th>0</th>\n",
       "      <td>US</td>\n",
       "      <td>77919052</td>\n",
       "      <td>922473</td>\n",
       "      <td>77739880</td>\n",
       "      <td>919696</td>\n",
       "      <td>179172</td>\n",
       "      <td>2777</td>\n",
       "      <td>1.18</td>\n",
       "      <td>North America</td>\n",
       "    </tr>\n",
       "    <tr>\n",
       "      <th>1</th>\n",
       "      <td>India</td>\n",
       "      <td>42692943</td>\n",
       "      <td>509358</td>\n",
       "      <td>42665534</td>\n",
       "      <td>509011</td>\n",
       "      <td>27409</td>\n",
       "      <td>347</td>\n",
       "      <td>1.19</td>\n",
       "      <td>Asia</td>\n",
       "    </tr>\n",
       "    <tr>\n",
       "      <th>2</th>\n",
       "      <td>Brazil</td>\n",
       "      <td>27552267</td>\n",
       "      <td>639151</td>\n",
       "      <td>27492904</td>\n",
       "      <td>638673</td>\n",
       "      <td>59363</td>\n",
       "      <td>478</td>\n",
       "      <td>2.32</td>\n",
       "      <td>South America</td>\n",
       "    </tr>\n",
       "    <tr>\n",
       "      <th>3</th>\n",
       "      <td>France</td>\n",
       "      <td>21884370</td>\n",
       "      <td>136187</td>\n",
       "      <td>21851747</td>\n",
       "      <td>135802</td>\n",
       "      <td>32623</td>\n",
       "      <td>385</td>\n",
       "      <td>0.62</td>\n",
       "      <td>Europe</td>\n",
       "    </tr>\n",
       "    <tr>\n",
       "      <th>4</th>\n",
       "      <td>United Kingdom</td>\n",
       "      <td>18475373</td>\n",
       "      <td>160166</td>\n",
       "      <td>18433001</td>\n",
       "      <td>160128</td>\n",
       "      <td>42372</td>\n",
       "      <td>38</td>\n",
       "      <td>0.87</td>\n",
       "      <td>Europe</td>\n",
       "    </tr>\n",
       "  </tbody>\n",
       "</table>\n",
       "</div>"
      ],
      "text/plain": [
       "   Country/Region     Cases  Deaths    PCases  PDeaths  Cases (+)  Deaths (+)  \\\n",
       "0              US  77919052  922473  77739880   919696     179172        2777   \n",
       "1           India  42692943  509358  42665534   509011      27409         347   \n",
       "2          Brazil  27552267  639151  27492904   638673      59363         478   \n",
       "3          France  21884370  136187  21851747   135802      32623         385   \n",
       "4  United Kingdom  18475373  160166  18433001   160128      42372          38   \n",
       "\n",
       "   Fatality Rate      Continent  \n",
       "0           1.18  North America  \n",
       "1           1.19           Asia  \n",
       "2           2.32  South America  \n",
       "3           0.62         Europe  \n",
       "4           0.87         Europe  "
      ]
     },
     "execution_count": 13,
     "metadata": {},
     "output_type": "execute_result"
    }
   ],
   "source": [
    "#hide\n",
    "for c in 'Cases, Deaths'.split(', '):\n",
    "    df_table[f'{c} (+)'] = (df_table[c] - df_table[f'P{c}']).clip(0)\n",
    "    #Clip ça veut dire, les chiffres negatif sont interdit\n",
    "df_table['Fatality Rate'] = (100* df_table['Deaths']/ df_table['Cases']).round(2)\n",
    "df_table['Continent'] = df_table['Country/Region'].map(mapping['map.continent'])\n",
    "df_table.head(5)"
   ]
  },
  {
   "cell_type": "code",
   "execution_count": 14,
   "id": "aboriginal-bulgaria",
   "metadata": {
    "execution": {
     "iopub.execute_input": "2022-02-15T12:14:27.877238Z",
     "iopub.status.busy": "2022-02-15T12:14:27.876722Z",
     "iopub.status.idle": "2022-02-15T12:14:27.879728Z",
     "shell.execute_reply": "2022-02-15T12:14:27.879053Z"
    },
    "papermill": {
     "duration": 0.039701,
     "end_time": "2022-02-15T12:14:27.879914",
     "exception": false,
     "start_time": "2022-02-15T12:14:27.840213",
     "status": "completed"
    },
    "tags": []
   },
   "outputs": [],
   "source": [
    "#hide\n",
    "#delete problematic countries from table\n",
    "df_table = df_table[~df_table['Country/Region'].isin(['Cape Verde', 'Cruise Ship', 'Kosovo'])]"
   ]
  },
  {
   "cell_type": "code",
   "execution_count": 15,
   "id": "fantastic-effect",
   "metadata": {
    "execution": {
     "iopub.execute_input": "2022-02-15T12:14:27.961220Z",
     "iopub.status.busy": "2022-02-15T12:14:27.960653Z",
     "iopub.status.idle": "2022-02-15T12:14:27.981074Z",
     "shell.execute_reply": "2022-02-15T12:14:27.981585Z"
    },
    "papermill": {
     "duration": 0.066326,
     "end_time": "2022-02-15T12:14:27.981699",
     "exception": false,
     "start_time": "2022-02-15T12:14:27.915373",
     "status": "completed"
    },
    "tags": []
   },
   "outputs": [
    {
     "data": {
      "text/html": [
       "<div>\n",
       "<style scoped>\n",
       "    .dataframe tbody tr th:only-of-type {\n",
       "        vertical-align: middle;\n",
       "    }\n",
       "\n",
       "    .dataframe tbody tr th {\n",
       "        vertical-align: top;\n",
       "    }\n",
       "\n",
       "    .dataframe thead th {\n",
       "        text-align: right;\n",
       "    }\n",
       "</style>\n",
       "<table border=\"1\" class=\"dataframe\">\n",
       "  <thead>\n",
       "    <tr style=\"text-align: right;\">\n",
       "      <th></th>\n",
       "      <th>Country/Region</th>\n",
       "      <th>Cases</th>\n",
       "      <th>Deaths</th>\n",
       "      <th>PCases</th>\n",
       "      <th>PDeaths</th>\n",
       "      <th>Cases (+)</th>\n",
       "      <th>Deaths (+)</th>\n",
       "      <th>Fatality Rate</th>\n",
       "      <th>Continent</th>\n",
       "    </tr>\n",
       "  </thead>\n",
       "  <tbody>\n",
       "    <tr>\n",
       "      <th>0</th>\n",
       "      <td>US</td>\n",
       "      <td>77919052</td>\n",
       "      <td>922473</td>\n",
       "      <td>77739880</td>\n",
       "      <td>919696</td>\n",
       "      <td>179172</td>\n",
       "      <td>2777</td>\n",
       "      <td>1.2</td>\n",
       "      <td>North America</td>\n",
       "    </tr>\n",
       "    <tr>\n",
       "      <th>1</th>\n",
       "      <td>India</td>\n",
       "      <td>42692943</td>\n",
       "      <td>509358</td>\n",
       "      <td>42665534</td>\n",
       "      <td>509011</td>\n",
       "      <td>27409</td>\n",
       "      <td>347</td>\n",
       "      <td>1.2</td>\n",
       "      <td>Asia</td>\n",
       "    </tr>\n",
       "    <tr>\n",
       "      <th>2</th>\n",
       "      <td>Brazil</td>\n",
       "      <td>27552267</td>\n",
       "      <td>639151</td>\n",
       "      <td>27492904</td>\n",
       "      <td>638673</td>\n",
       "      <td>59363</td>\n",
       "      <td>478</td>\n",
       "      <td>2.3</td>\n",
       "      <td>South America</td>\n",
       "    </tr>\n",
       "    <tr>\n",
       "      <th>3</th>\n",
       "      <td>France</td>\n",
       "      <td>21884370</td>\n",
       "      <td>136187</td>\n",
       "      <td>21851747</td>\n",
       "      <td>135802</td>\n",
       "      <td>32623</td>\n",
       "      <td>385</td>\n",
       "      <td>0.6</td>\n",
       "      <td>Europe</td>\n",
       "    </tr>\n",
       "    <tr>\n",
       "      <th>4</th>\n",
       "      <td>United Kingdom</td>\n",
       "      <td>18475373</td>\n",
       "      <td>160166</td>\n",
       "      <td>18433001</td>\n",
       "      <td>160128</td>\n",
       "      <td>42372</td>\n",
       "      <td>38</td>\n",
       "      <td>0.9</td>\n",
       "      <td>Europe</td>\n",
       "    </tr>\n",
       "  </tbody>\n",
       "</table>\n",
       "</div>"
      ],
      "text/plain": [
       "   Country/Region     Cases  Deaths    PCases  PDeaths  Cases (+)  Deaths (+)  \\\n",
       "0              US  77919052  922473  77739880   919696     179172        2777   \n",
       "1           India  42692943  509358  42665534   509011      27409         347   \n",
       "2          Brazil  27552267  639151  27492904   638673      59363         478   \n",
       "3          France  21884370  136187  21851747   135802      32623         385   \n",
       "4  United Kingdom  18475373  160166  18433001   160128      42372          38   \n",
       "\n",
       "   Fatality Rate      Continent  \n",
       "0            1.2  North America  \n",
       "1            1.2           Asia  \n",
       "2            2.3  South America  \n",
       "3            0.6         Europe  \n",
       "4            0.9         Europe  "
      ]
     },
     "execution_count": 15,
     "metadata": {},
     "output_type": "execute_result"
    }
   ],
   "source": [
    "#hide\n",
    "df_table = (pd.DataFrame(dict(Cases=dfc_cases, Deaths=dfc_deaths, PCases=dfp_cases, PDeaths=dfp_deaths))\n",
    "             .sort_values(by=['Cases', 'Deaths'], ascending=[False, False])\n",
    "             .reset_index())\n",
    "df_table.rename(columns={'index': 'Country/Region'}, inplace=True)\n",
    "for c in 'Cases, Deaths'.split(', '):\n",
    "    df_table[f'{c} (+)'] = (df_table[c] - df_table[f'P{c}']).clip(0)  # DATA BUG\n",
    "df_table['Fatality Rate'] = (100 * df_table['Deaths'] / df_table['Cases']).round(1)\n",
    "df_table['Continent'] = df_table['Country/Region'].map(mapping['map.continent'])\n",
    "df_table.head(5)"
   ]
  },
  {
   "cell_type": "code",
   "execution_count": 16,
   "id": "fewer-occasion",
   "metadata": {
    "execution": {
     "iopub.execute_input": "2022-02-15T12:14:28.066787Z",
     "iopub.status.busy": "2022-02-15T12:14:28.066180Z",
     "iopub.status.idle": "2022-02-15T12:14:28.068413Z",
     "shell.execute_reply": "2022-02-15T12:14:28.068966Z"
    },
    "papermill": {
     "duration": 0.047262,
     "end_time": "2022-02-15T12:14:28.069166",
     "exception": false,
     "start_time": "2022-02-15T12:14:28.021904",
     "status": "completed"
    },
    "tags": []
   },
   "outputs": [],
   "source": [
    "#hide\n",
    "#delete problematic countries from table\n",
    "df_table = df_table[~df_table['Country/Region'].isin(['Cape Verde', 'Cruise Ship', 'Kosovo'])]"
   ]
  },
  {
   "cell_type": "code",
   "execution_count": 17,
   "id": "related-center",
   "metadata": {
    "execution": {
     "iopub.execute_input": "2022-02-15T12:14:28.171953Z",
     "iopub.status.busy": "2022-02-15T12:14:28.171031Z",
     "iopub.status.idle": "2022-02-15T12:14:28.179470Z",
     "shell.execute_reply": "2022-02-15T12:14:28.178875Z"
    },
    "papermill": {
     "duration": 0.071489,
     "end_time": "2022-02-15T12:14:28.179594",
     "exception": false,
     "start_time": "2022-02-15T12:14:28.108105",
     "status": "completed"
    },
    "tags": []
   },
   "outputs": [],
   "source": [
    "#hide\n",
    "metrics = [df_table.columns[index] for index in [1,2,5,6]]\n",
    "# s_china = df_table[df_table['Country/Region'].eq('China')][metrics].sum().add_prefix('China ')\n",
    "s_us = df_table[df_table['Country/Region'].eq('US')][metrics].sum().add_prefix('US ')\n",
    "s_eu = df_table[df_table['Continent'].eq('Europe')][metrics].sum().add_prefix('EU ')\n",
    "s_ind = df_table[df_table['Country/Region'].eq('India')][metrics].sum().add_prefix('India ')\n",
    "summary = {'updated': pd.to_datetime(dt_today), 'since': pd.to_datetime(dt_yday)}\n",
    "summary = {'updated': pd.to_datetime(dt_today), 'since': pd.to_datetime(dt_yday)}\n",
    "summary = {**summary, **df_table[metrics].sum(), **s_ind, **s_us, **s_eu}"
   ]
  },
  {
   "cell_type": "code",
   "execution_count": 18,
   "id": "engaging-syndrome",
   "metadata": {
    "execution": {
     "iopub.execute_input": "2022-02-15T12:14:28.270826Z",
     "iopub.status.busy": "2022-02-15T12:14:28.270163Z",
     "iopub.status.idle": "2022-02-15T12:14:28.288815Z",
     "shell.execute_reply": "2022-02-15T12:14:28.289556Z"
    },
    "papermill": {
     "duration": 0.064026,
     "end_time": "2022-02-15T12:14:28.289707",
     "exception": false,
     "start_time": "2022-02-15T12:14:28.225681",
     "status": "completed"
    },
    "tags": []
   },
   "outputs": [],
   "source": [
    "#hide\n",
    "dft_ct_new_cases = dft_cases.groupby(COL_REGION)[dt_cols].sum().diff(axis=1).fillna(0).astype(int)"
   ]
  },
  {
   "cell_type": "code",
   "execution_count": 19,
   "id": "neutral-assignment",
   "metadata": {
    "execution": {
     "iopub.execute_input": "2022-02-15T12:14:28.379750Z",
     "iopub.status.busy": "2022-02-15T12:14:28.378975Z",
     "iopub.status.idle": "2022-02-15T12:14:28.381902Z",
     "shell.execute_reply": "2022-02-15T12:14:28.381102Z"
    },
    "papermill": {
     "duration": 0.052883,
     "end_time": "2022-02-15T12:14:28.382121",
     "exception": false,
     "start_time": "2022-02-15T12:14:28.329238",
     "status": "completed"
    },
    "tags": []
   },
   "outputs": [],
   "source": [
    "#hide\n",
    "everydaycases = dft_ct_new_cases.cumsum(axis=1)"
   ]
  },
  {
   "cell_type": "code",
   "execution_count": 20,
   "id": "parliamentary-calgary",
   "metadata": {
    "execution": {
     "iopub.execute_input": "2022-02-15T12:14:28.464906Z",
     "iopub.status.busy": "2022-02-15T12:14:28.464072Z",
     "iopub.status.idle": "2022-02-15T12:14:29.154018Z",
     "shell.execute_reply": "2022-02-15T12:14:29.153226Z"
    },
    "papermill": {
     "duration": 0.732334,
     "end_time": "2022-02-15T12:14:29.154145",
     "exception": false,
     "start_time": "2022-02-15T12:14:28.421811",
     "status": "completed"
    },
    "tags": []
   },
   "outputs": [],
   "source": [
    "#hide\n",
    "import pandas as pd\n",
    "import matplotlib.pyplot as plt\n",
    "import matplotlib.ticker as ticker\n",
    "import matplotlib.animation as animation\n",
    "from IPython.display import HTML"
   ]
  },
  {
   "cell_type": "code",
   "execution_count": 21,
   "id": "lasting-extraction",
   "metadata": {
    "execution": {
     "iopub.execute_input": "2022-02-15T12:14:29.228350Z",
     "iopub.status.busy": "2022-02-15T12:14:29.227723Z",
     "iopub.status.idle": "2022-02-15T12:14:29.234352Z",
     "shell.execute_reply": "2022-02-15T12:14:29.233810Z"
    },
    "papermill": {
     "duration": 0.046952,
     "end_time": "2022-02-15T12:14:29.234458",
     "exception": false,
     "start_time": "2022-02-15T12:14:29.187506",
     "status": "completed"
    },
    "tags": []
   },
   "outputs": [],
   "source": [
    "#hide\n",
    "t = everydaycases.stack()"
   ]
  },
  {
   "cell_type": "code",
   "execution_count": 22,
   "id": "premier-sleeve",
   "metadata": {
    "execution": {
     "iopub.execute_input": "2022-02-15T12:14:29.306322Z",
     "iopub.status.busy": "2022-02-15T12:14:29.305757Z",
     "iopub.status.idle": "2022-02-15T12:14:29.316508Z",
     "shell.execute_reply": "2022-02-15T12:14:29.316039Z"
    },
    "papermill": {
     "duration": 0.048178,
     "end_time": "2022-02-15T12:14:29.316618",
     "exception": false,
     "start_time": "2022-02-15T12:14:29.268440",
     "status": "completed"
    },
    "tags": []
   },
   "outputs": [],
   "source": [
    "#hide\n",
    "g = t.reset_index(['Country/Region'])"
   ]
  },
  {
   "cell_type": "code",
   "execution_count": 23,
   "id": "distributed-pittsburgh",
   "metadata": {
    "execution": {
     "iopub.execute_input": "2022-02-15T12:14:29.385942Z",
     "iopub.status.busy": "2022-02-15T12:14:29.385429Z",
     "iopub.status.idle": "2022-02-15T12:14:29.388890Z",
     "shell.execute_reply": "2022-02-15T12:14:29.389382Z"
    },
    "papermill": {
     "duration": 0.039664,
     "end_time": "2022-02-15T12:14:29.389531",
     "exception": false,
     "start_time": "2022-02-15T12:14:29.349867",
     "status": "completed"
    },
    "tags": []
   },
   "outputs": [],
   "source": [
    "#hide\n",
    "g.index.name = 'date'"
   ]
  },
  {
   "cell_type": "code",
   "execution_count": 24,
   "id": "naked-donor",
   "metadata": {
    "execution": {
     "iopub.execute_input": "2022-02-15T12:14:29.458905Z",
     "iopub.status.busy": "2022-02-15T12:14:29.458299Z",
     "iopub.status.idle": "2022-02-15T12:14:29.460781Z",
     "shell.execute_reply": "2022-02-15T12:14:29.460294Z"
    },
    "papermill": {
     "duration": 0.039323,
     "end_time": "2022-02-15T12:14:29.460890",
     "exception": false,
     "start_time": "2022-02-15T12:14:29.421567",
     "status": "completed"
    },
    "tags": []
   },
   "outputs": [],
   "source": [
    "# #hide\n",
    "# g = g.reset_index(['date'])"
   ]
  },
  {
   "cell_type": "code",
   "execution_count": 25,
   "id": "incomplete-mustang",
   "metadata": {
    "execution": {
     "iopub.execute_input": "2022-02-15T12:14:29.535915Z",
     "iopub.status.busy": "2022-02-15T12:14:29.534951Z",
     "iopub.status.idle": "2022-02-15T12:14:29.538555Z",
     "shell.execute_reply": "2022-02-15T12:14:29.538993Z"
    },
    "papermill": {
     "duration": 0.042699,
     "end_time": "2022-02-15T12:14:29.539119",
     "exception": false,
     "start_time": "2022-02-15T12:14:29.496420",
     "status": "completed"
    },
    "tags": []
   },
   "outputs": [],
   "source": [
    "#hide\n",
    "# g.head()"
   ]
  },
  {
   "cell_type": "code",
   "execution_count": 26,
   "id": "specific-kruger",
   "metadata": {
    "execution": {
     "iopub.execute_input": "2022-02-15T12:14:29.620722Z",
     "iopub.status.busy": "2022-02-15T12:14:29.620120Z",
     "iopub.status.idle": "2022-02-15T12:14:29.623761Z",
     "shell.execute_reply": "2022-02-15T12:14:29.624178Z"
    },
    "papermill": {
     "duration": 0.044052,
     "end_time": "2022-02-15T12:14:29.624301",
     "exception": false,
     "start_time": "2022-02-15T12:14:29.580249",
     "status": "completed"
    },
    "tags": []
   },
   "outputs": [],
   "source": [
    "#hide\n",
    "# g.columns = ['date','country','cases']"
   ]
  },
  {
   "cell_type": "code",
   "execution_count": 27,
   "id": "tender-conversion",
   "metadata": {
    "execution": {
     "iopub.execute_input": "2022-02-15T12:14:29.697476Z",
     "iopub.status.busy": "2022-02-15T12:14:29.696896Z",
     "iopub.status.idle": "2022-02-15T12:14:29.699813Z",
     "shell.execute_reply": "2022-02-15T12:14:29.699322Z"
    },
    "papermill": {
     "duration": 0.040465,
     "end_time": "2022-02-15T12:14:29.699948",
     "exception": false,
     "start_time": "2022-02-15T12:14:29.659483",
     "status": "completed"
    },
    "tags": []
   },
   "outputs": [],
   "source": [
    "#hide\n",
    "# g['continent'] = g.country"
   ]
  },
  {
   "cell_type": "code",
   "execution_count": 28,
   "id": "substantial-wilderness",
   "metadata": {
    "execution": {
     "iopub.execute_input": "2022-02-15T12:14:29.773471Z",
     "iopub.status.busy": "2022-02-15T12:14:29.772866Z",
     "iopub.status.idle": "2022-02-15T12:14:29.775328Z",
     "shell.execute_reply": "2022-02-15T12:14:29.774715Z"
    },
    "papermill": {
     "duration": 0.039293,
     "end_time": "2022-02-15T12:14:29.775436",
     "exception": false,
     "start_time": "2022-02-15T12:14:29.736143",
     "status": "completed"
    },
    "tags": []
   },
   "outputs": [],
   "source": [
    "#hide\n",
    "# cols = list(g.columns.values)"
   ]
  },
  {
   "cell_type": "code",
   "execution_count": 29,
   "id": "solved-farming",
   "metadata": {
    "execution": {
     "iopub.execute_input": "2022-02-15T12:14:29.846641Z",
     "iopub.status.busy": "2022-02-15T12:14:29.846081Z",
     "iopub.status.idle": "2022-02-15T12:14:29.849441Z",
     "shell.execute_reply": "2022-02-15T12:14:29.848845Z"
    },
    "papermill": {
     "duration": 0.039368,
     "end_time": "2022-02-15T12:14:29.849569",
     "exception": false,
     "start_time": "2022-02-15T12:14:29.810201",
     "status": "completed"
    },
    "tags": []
   },
   "outputs": [],
   "source": [
    "#hide\n",
    "# cols.insert(0, cols.pop())"
   ]
  },
  {
   "cell_type": "code",
   "execution_count": 30,
   "id": "executed-adoption",
   "metadata": {
    "execution": {
     "iopub.execute_input": "2022-02-15T12:14:29.923187Z",
     "iopub.status.busy": "2022-02-15T12:14:29.922578Z",
     "iopub.status.idle": "2022-02-15T12:14:29.924993Z",
     "shell.execute_reply": "2022-02-15T12:14:29.924410Z"
    },
    "papermill": {
     "duration": 0.039541,
     "end_time": "2022-02-15T12:14:29.925113",
     "exception": false,
     "start_time": "2022-02-15T12:14:29.885572",
     "status": "completed"
    },
    "tags": []
   },
   "outputs": [],
   "source": [
    "#hide\n",
    "# g = g[cols]"
   ]
  },
  {
   "cell_type": "code",
   "execution_count": 31,
   "id": "subject-dublin",
   "metadata": {
    "execution": {
     "iopub.execute_input": "2022-02-15T12:14:29.998774Z",
     "iopub.status.busy": "2022-02-15T12:14:29.998069Z",
     "iopub.status.idle": "2022-02-15T12:14:30.000935Z",
     "shell.execute_reply": "2022-02-15T12:14:30.000378Z"
    },
    "papermill": {
     "duration": 0.042151,
     "end_time": "2022-02-15T12:14:30.001044",
     "exception": false,
     "start_time": "2022-02-15T12:14:29.958893",
     "status": "completed"
    },
    "tags": []
   },
   "outputs": [],
   "source": [
    "#hide\n",
    "# g['continent'] = g['continent'].map(mapping['map.continent'])"
   ]
  },
  {
   "cell_type": "code",
   "execution_count": 32,
   "id": "freelance-scout",
   "metadata": {
    "execution": {
     "iopub.execute_input": "2022-02-15T12:14:30.075473Z",
     "iopub.status.busy": "2022-02-15T12:14:30.074866Z",
     "iopub.status.idle": "2022-02-15T12:14:30.077670Z",
     "shell.execute_reply": "2022-02-15T12:14:30.078194Z"
    },
    "papermill": {
     "duration": 0.043301,
     "end_time": "2022-02-15T12:14:30.078375",
     "exception": false,
     "start_time": "2022-02-15T12:14:30.035074",
     "status": "completed"
    },
    "tags": []
   },
   "outputs": [],
   "source": [
    "#hide\n",
    "# g.head()"
   ]
  },
  {
   "cell_type": "code",
   "execution_count": 33,
   "id": "limited-engine",
   "metadata": {
    "execution": {
     "iopub.execute_input": "2022-02-15T12:14:30.156284Z",
     "iopub.status.busy": "2022-02-15T12:14:30.155681Z",
     "iopub.status.idle": "2022-02-15T12:14:30.157698Z",
     "shell.execute_reply": "2022-02-15T12:14:30.158147Z"
    },
    "papermill": {
     "duration": 0.04321,
     "end_time": "2022-02-15T12:14:30.158309",
     "exception": false,
     "start_time": "2022-02-15T12:14:30.115099",
     "status": "completed"
    },
    "tags": []
   },
   "outputs": [],
   "source": [
    "# hide\n",
    "# g['date'] = g['date'].astype('datetime64[ns]')"
   ]
  },
  {
   "cell_type": "code",
   "execution_count": 34,
   "id": "sophisticated-supervisor",
   "metadata": {
    "execution": {
     "iopub.execute_input": "2022-02-15T12:14:30.233435Z",
     "iopub.status.busy": "2022-02-15T12:14:30.232900Z",
     "iopub.status.idle": "2022-02-15T12:14:30.236340Z",
     "shell.execute_reply": "2022-02-15T12:14:30.236781Z"
    },
    "papermill": {
     "duration": 0.044366,
     "end_time": "2022-02-15T12:14:30.236906",
     "exception": false,
     "start_time": "2022-02-15T12:14:30.192540",
     "status": "completed"
    },
    "tags": []
   },
   "outputs": [],
   "source": [
    "#hide\n",
    "# g['date'] = g.date.dt.dayofyear"
   ]
  },
  {
   "cell_type": "code",
   "execution_count": 35,
   "id": "inside-dubai",
   "metadata": {
    "execution": {
     "iopub.execute_input": "2022-02-15T12:14:30.309090Z",
     "iopub.status.busy": "2022-02-15T12:14:30.308491Z",
     "iopub.status.idle": "2022-02-15T12:14:30.310681Z",
     "shell.execute_reply": "2022-02-15T12:14:30.310189Z"
    },
    "papermill": {
     "duration": 0.040899,
     "end_time": "2022-02-15T12:14:30.310809",
     "exception": false,
     "start_time": "2022-02-15T12:14:30.269910",
     "status": "completed"
    },
    "tags": []
   },
   "outputs": [],
   "source": [
    "#hide\n",
    "# g = g.rename(columns= {'continent':'group','country':'name','cases':'value'})"
   ]
  },
  {
   "cell_type": "code",
   "execution_count": 36,
   "id": "fleet-motorcycle",
   "metadata": {
    "execution": {
     "iopub.execute_input": "2022-02-15T12:14:30.392417Z",
     "iopub.status.busy": "2022-02-15T12:14:30.391827Z",
     "iopub.status.idle": "2022-02-15T12:14:30.393892Z",
     "shell.execute_reply": "2022-02-15T12:14:30.394337Z"
    },
    "papermill": {
     "duration": 0.045639,
     "end_time": "2022-02-15T12:14:30.394461",
     "exception": false,
     "start_time": "2022-02-15T12:14:30.348822",
     "status": "completed"
    },
    "tags": []
   },
   "outputs": [],
   "source": [
    "#hide\n",
    "# cols = ['name','group','day','value']"
   ]
  },
  {
   "cell_type": "code",
   "execution_count": 37,
   "id": "continued-sleeping",
   "metadata": {
    "execution": {
     "iopub.execute_input": "2022-02-15T12:14:30.469221Z",
     "iopub.status.busy": "2022-02-15T12:14:30.468626Z",
     "iopub.status.idle": "2022-02-15T12:14:30.472202Z",
     "shell.execute_reply": "2022-02-15T12:14:30.472679Z"
    },
    "papermill": {
     "duration": 0.042778,
     "end_time": "2022-02-15T12:14:30.472823",
     "exception": false,
     "start_time": "2022-02-15T12:14:30.430045",
     "status": "completed"
    },
    "tags": []
   },
   "outputs": [],
   "source": [
    "#hide\n",
    "# g.rename(columns= {'date':'day'},inplace = True)"
   ]
  },
  {
   "cell_type": "code",
   "execution_count": 38,
   "id": "major-fight",
   "metadata": {
    "execution": {
     "iopub.execute_input": "2022-02-15T12:14:30.551558Z",
     "iopub.status.busy": "2022-02-15T12:14:30.550851Z",
     "iopub.status.idle": "2022-02-15T12:14:30.553521Z",
     "shell.execute_reply": "2022-02-15T12:14:30.552978Z"
    },
    "papermill": {
     "duration": 0.044519,
     "end_time": "2022-02-15T12:14:30.553653",
     "exception": false,
     "start_time": "2022-02-15T12:14:30.509134",
     "status": "completed"
    },
    "tags": []
   },
   "outputs": [],
   "source": [
    "#hide\n",
    "# g = g[cols]"
   ]
  },
  {
   "cell_type": "code",
   "execution_count": 39,
   "id": "structured-mobile",
   "metadata": {
    "execution": {
     "iopub.execute_input": "2022-02-15T12:14:30.633114Z",
     "iopub.status.busy": "2022-02-15T12:14:30.632379Z",
     "iopub.status.idle": "2022-02-15T12:14:30.634831Z",
     "shell.execute_reply": "2022-02-15T12:14:30.635565Z"
    },
    "papermill": {
     "duration": 0.041454,
     "end_time": "2022-02-15T12:14:30.635720",
     "exception": false,
     "start_time": "2022-02-15T12:14:30.594266",
     "status": "completed"
    },
    "tags": []
   },
   "outputs": [],
   "source": [
    "# #hide\n",
    "# g = g[g.group.notna()]"
   ]
  },
  {
   "cell_type": "code",
   "execution_count": 40,
   "id": "determined-closing",
   "metadata": {
    "execution": {
     "iopub.execute_input": "2022-02-15T12:14:30.713052Z",
     "iopub.status.busy": "2022-02-15T12:14:30.712469Z",
     "iopub.status.idle": "2022-02-15T12:14:30.715986Z",
     "shell.execute_reply": "2022-02-15T12:14:30.716441Z"
    },
    "papermill": {
     "duration": 0.041143,
     "end_time": "2022-02-15T12:14:30.716566",
     "exception": false,
     "start_time": "2022-02-15T12:14:30.675423",
     "status": "completed"
    },
    "tags": []
   },
   "outputs": [],
   "source": [
    "# #hide\n",
    "# colors = dict(zip(\n",
    "#     [\"Oceania\", \"Europe\", \"Asia\", \"South America\", \"Middle East\", \"North America\", \"Africa\"],\n",
    "#     [\"#adb0ff\", \"#ffb3ff\", \"#90d595\", \"#e48381\", \"#aafbff\", \"#f7bb5f\", \"#eafb50\"]\n",
    "# ))\n",
    "# group_lk = g.set_index('name')['group'].to_dict()"
   ]
  },
  {
   "cell_type": "code",
   "execution_count": null,
   "id": "gross-drinking",
   "metadata": {
    "papermill": {
     "duration": 0.034877,
     "end_time": "2022-02-15T12:14:30.784713",
     "exception": false,
     "start_time": "2022-02-15T12:14:30.749836",
     "status": "completed"
    },
    "tags": []
   },
   "outputs": [],
   "source": []
  },
  {
   "cell_type": "code",
   "execution_count": 41,
   "id": "subject-macintosh",
   "metadata": {
    "execution": {
     "iopub.execute_input": "2022-02-15T12:14:30.856378Z",
     "iopub.status.busy": "2022-02-15T12:14:30.855710Z",
     "iopub.status.idle": "2022-02-15T12:14:30.857948Z",
     "shell.execute_reply": "2022-02-15T12:14:30.857340Z"
    },
    "papermill": {
     "duration": 0.039665,
     "end_time": "2022-02-15T12:14:30.858054",
     "exception": false,
     "start_time": "2022-02-15T12:14:30.818389",
     "status": "completed"
    },
    "tags": []
   },
   "outputs": [],
   "source": [
    "# #hide\n",
    "# fig, ax = plt.subplots(figsize=(15, 8))\n",
    "\n",
    "# def draw_barchart(current_day):\n",
    "#     dff = g[g['day'].eq(current_day)].sort_values(by='value', ascending=True).tail(10)\n",
    "#     ax.clear()\n",
    "#     ax.barh(dff['name'], dff['value'], color=[colors[group_lk[x]] for x in dff['name']])\n",
    "#     dx = dff['value'].max() / 200\n",
    "    \n",
    "#     for i, (value, name) in enumerate(zip(dff['value'], dff['name'])):\n",
    "#         ax.text(value-dx, i,     name,           size=14, weight=600, ha='right', va='bottom')\n",
    "#         ax.text(value-dx, i-.25, group_lk[name], size=10, color='#444444', ha='right', va='baseline')\n",
    "#         ax.text(value+dx, i,     f'{value:,.0f}',  size=14, ha='left',  va='center')\n",
    "#     ax.text(1, 0.4, current_day, transform=ax.transAxes, color='#777777', size=46, ha='right', weight=800)\n",
    "#     ax.text(0, 1.06, 'Population (thousands)', transform=ax.transAxes, size=12, color='#777777')\n",
    "#     ax.xaxis.set_major_formatter(ticker.StrMethodFormatter('{x:,.0f}'))\n",
    "#     ax.xaxis.set_ticks_position('top')\n",
    "#     ax.tick_params(axis='x', colors='#777777', labelsize=12)\n",
    "#     ax.set_yticks([])\n",
    "#     ax.margins(0, 0.01)\n",
    "#     ax.grid(which='major', axis='x', linestyle='-')\n",
    "#     ax.set_axisbelow(True)\n",
    "    \n",
    "#     ax.text(0, 1.15, 'Coronavirus',\n",
    "#             transform=ax.transAxes, size=24, weight=600, ha='left', va='top')\n",
    "# #     ax.text(1, 0, 'by @pratapvardhan; credit @jburnmurdoch', transform=ax.transAxes, color='#777777', ha='right',\n",
    "# #             bbox=dict(facecolor='white', alpha=0.8, edgecolor='white'))\n",
    "#     plt.box(False)"
   ]
  },
  {
   "cell_type": "code",
   "execution_count": 42,
   "id": "sexual-wages",
   "metadata": {
    "execution": {
     "iopub.execute_input": "2022-02-15T12:14:30.932345Z",
     "iopub.status.busy": "2022-02-15T12:14:30.931752Z",
     "iopub.status.idle": "2022-02-15T12:14:30.934096Z",
     "shell.execute_reply": "2022-02-15T12:14:30.933655Z"
    },
    "papermill": {
     "duration": 0.038797,
     "end_time": "2022-02-15T12:14:30.934196",
     "exception": false,
     "start_time": "2022-02-15T12:14:30.895399",
     "status": "completed"
    },
    "tags": []
   },
   "outputs": [],
   "source": [
    "# #hide_input\n",
    "# fig, ax = plt.subplots(figsize=(15, 8))\n",
    "# animator = animation.FuncAnimation(fig, draw_barchart, frames=range(g.day.values.min(), g.day.values.max()))\n",
    "# HTML(animator.to_jshtml())\n",
    "# # or use animator.to_html5_video() or animator.save() "
   ]
  },
  {
   "cell_type": "code",
   "execution_count": null,
   "id": "australian-container",
   "metadata": {
    "papermill": {
     "duration": 0.036906,
     "end_time": "2022-02-15T12:14:31.007756",
     "exception": false,
     "start_time": "2022-02-15T12:14:30.970850",
     "status": "completed"
    },
    "tags": []
   },
   "outputs": [],
   "source": []
  },
  {
   "cell_type": "code",
   "execution_count": null,
   "id": "mediterranean-pontiac",
   "metadata": {
    "papermill": {
     "duration": 0.040119,
     "end_time": "2022-02-15T12:14:31.087020",
     "exception": false,
     "start_time": "2022-02-15T12:14:31.046901",
     "status": "completed"
    },
    "tags": []
   },
   "outputs": [],
   "source": []
  },
  {
   "cell_type": "code",
   "execution_count": null,
   "id": "aging-legislature",
   "metadata": {
    "papermill": {
     "duration": 0.038879,
     "end_time": "2022-02-15T12:14:31.164058",
     "exception": false,
     "start_time": "2022-02-15T12:14:31.125179",
     "status": "completed"
    },
    "tags": []
   },
   "outputs": [],
   "source": []
  }
 ],
 "metadata": {
  "kernelspec": {
   "display_name": "Python 3",
   "language": "python",
   "name": "python3"
  },
  "language_info": {
   "codemirror_mode": {
    "name": "ipython",
    "version": 3
   },
   "file_extension": ".py",
   "mimetype": "text/x-python",
   "name": "python",
   "nbconvert_exporter": "python",
   "pygments_lexer": "ipython3",
   "version": "3.6.15"
  },
  "papermill": {
   "duration": 6.972676,
   "end_time": "2022-02-15T12:14:31.519709",
   "environment_variables": {},
   "exception": null,
   "input_path": "2020-03-21-covid19exp.ipynb",
   "output_path": "2020-03-21-covid19exp.ipynb",
   "parameters": {},
   "start_time": "2022-02-15T12:14:24.547033",
   "version": "2.0.0"
  }
 },
 "nbformat": 4,
 "nbformat_minor": 5
}