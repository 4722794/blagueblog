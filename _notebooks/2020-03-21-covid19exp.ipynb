{
 "cells": [
  {
   "cell_type": "markdown",
   "id": "muslim-click",
   "metadata": {
    "papermill": {
     "duration": 0.038699,
     "end_time": "2021-11-12T00:25:29.448097",
     "exception": false,
     "start_time": "2021-11-12T00:25:29.409398",
     "status": "completed"
    },
    "tags": []
   },
   "source": [
    "# COVID-19 Case Race\n",
    "> A race chart to see rising cases around the world\n",
    "\n",
    "- author: Hargun Oberoi\n",
    "- image: images/covid-overview.png\n",
    "- hide: false\n",
    "- badges: false"
   ]
  },
  {
   "cell_type": "code",
   "execution_count": 1,
   "id": "proof-material",
   "metadata": {
    "execution": {
     "iopub.execute_input": "2021-11-12T00:25:29.529941Z",
     "iopub.status.busy": "2021-11-12T00:25:29.529290Z",
     "iopub.status.idle": "2021-11-12T00:25:29.916343Z",
     "shell.execute_reply": "2021-11-12T00:25:29.915780Z"
    },
    "papermill": {
     "duration": 0.431552,
     "end_time": "2021-11-12T00:25:29.916501",
     "exception": false,
     "start_time": "2021-11-12T00:25:29.484949",
     "status": "completed"
    },
    "tags": []
   },
   "outputs": [],
   "source": [
    "#hide\n",
    "import numpy as np\n",
    "import pandas as pd\n",
    "from jinja2 import Template\n",
    "from IPython.display import HTML"
   ]
  },
  {
   "cell_type": "code",
   "execution_count": 2,
   "id": "developed-terminology",
   "metadata": {
    "execution": {
     "iopub.execute_input": "2021-11-12T00:25:29.995404Z",
     "iopub.status.busy": "2021-11-12T00:25:29.994718Z",
     "iopub.status.idle": "2021-11-12T00:25:29.997992Z",
     "shell.execute_reply": "2021-11-12T00:25:29.997279Z"
    },
    "papermill": {
     "duration": 0.044896,
     "end_time": "2021-11-12T00:25:29.998129",
     "exception": false,
     "start_time": "2021-11-12T00:25:29.953233",
     "status": "completed"
    },
    "tags": []
   },
   "outputs": [],
   "source": [
    "#hide\n",
    "\n",
    "# FETCH\n",
    "base_url = 'https://raw.githubusercontent.com/pratapvardhan/notebooks/master/covid19/'\n",
    "paths = {\n",
    "    'mapping': base_url + 'mapping_countries.csv',\n",
    "    'overview': base_url + 'overview.tpl'\n",
    "}"
   ]
  },
  {
   "cell_type": "code",
   "execution_count": 3,
   "id": "dynamic-saver",
   "metadata": {
    "execution": {
     "iopub.execute_input": "2021-11-12T00:25:30.089657Z",
     "iopub.status.busy": "2021-11-12T00:25:30.088948Z",
     "iopub.status.idle": "2021-11-12T00:25:30.092047Z",
     "shell.execute_reply": "2021-11-12T00:25:30.092578Z"
    },
    "papermill": {
     "duration": 0.057902,
     "end_time": "2021-11-12T00:25:30.092728",
     "exception": false,
     "start_time": "2021-11-12T00:25:30.034826",
     "status": "completed"
    },
    "tags": []
   },
   "outputs": [
    {
     "data": {
      "text/plain": [
       "'https://raw.githubusercontent.com/pratapvardhan/notebooks/master/covid19/mapping_countries.csv'"
      ]
     },
     "execution_count": 3,
     "metadata": {},
     "output_type": "execute_result"
    }
   ],
   "source": [
    "#hide\n",
    "paths['mapping']"
   ]
  },
  {
   "cell_type": "code",
   "execution_count": 4,
   "id": "urban-software",
   "metadata": {
    "execution": {
     "iopub.execute_input": "2021-11-12T00:25:30.176821Z",
     "iopub.status.busy": "2021-11-12T00:25:30.176157Z",
     "iopub.status.idle": "2021-11-12T00:25:30.178793Z",
     "shell.execute_reply": "2021-11-12T00:25:30.179266Z"
    },
    "papermill": {
     "duration": 0.050229,
     "end_time": "2021-11-12T00:25:30.179397",
     "exception": false,
     "start_time": "2021-11-12T00:25:30.129168",
     "status": "completed"
    },
    "tags": []
   },
   "outputs": [],
   "source": [
    "#hide\n",
    "def get_mappings(url):\n",
    "    df = pd.read_csv(url)\n",
    "    return {\n",
    "        'df': df,\n",
    "        'replace.country': dict(df.dropna(subset=['Name']).set_index('Country')['Name']),\n",
    "        'map.continent': dict(df.set_index('Name')['Continent'])\n",
    "    }"
   ]
  },
  {
   "cell_type": "code",
   "execution_count": 5,
   "id": "intimate-machinery",
   "metadata": {
    "execution": {
     "iopub.execute_input": "2021-11-12T00:25:30.252453Z",
     "iopub.status.busy": "2021-11-12T00:25:30.251798Z",
     "iopub.status.idle": "2021-11-12T00:25:30.309725Z",
     "shell.execute_reply": "2021-11-12T00:25:30.308826Z"
    },
    "papermill": {
     "duration": 0.096934,
     "end_time": "2021-11-12T00:25:30.309867",
     "exception": false,
     "start_time": "2021-11-12T00:25:30.212933",
     "status": "completed"
    },
    "tags": []
   },
   "outputs": [],
   "source": [
    "#hide\n",
    "mapping = get_mappings(paths['mapping'])"
   ]
  },
  {
   "cell_type": "code",
   "execution_count": 6,
   "id": "certified-tactics",
   "metadata": {
    "execution": {
     "iopub.execute_input": "2021-11-12T00:25:30.384661Z",
     "iopub.status.busy": "2021-11-12T00:25:30.384012Z",
     "iopub.status.idle": "2021-11-12T00:25:30.388158Z",
     "shell.execute_reply": "2021-11-12T00:25:30.387579Z"
    },
    "papermill": {
     "duration": 0.04461,
     "end_time": "2021-11-12T00:25:30.388290",
     "exception": false,
     "start_time": "2021-11-12T00:25:30.343680",
     "status": "completed"
    },
    "tags": []
   },
   "outputs": [],
   "source": [
    "#hide\n",
    "def get_template(path):\n",
    "    from urllib.parse import urlparse\n",
    "    if bool(urlparse(path).netloc):\n",
    "        from urllib.request import urlopen\n",
    "        return urlopen(path).read().decode('utf8')\n",
    "    return open(path).read()"
   ]
  },
  {
   "cell_type": "code",
   "execution_count": 7,
   "id": "realistic-blast",
   "metadata": {
    "execution": {
     "iopub.execute_input": "2021-11-12T00:25:30.468960Z",
     "iopub.status.busy": "2021-11-12T00:25:30.468255Z",
     "iopub.status.idle": "2021-11-12T00:25:30.472523Z",
     "shell.execute_reply": "2021-11-12T00:25:30.471963Z"
    },
    "papermill": {
     "duration": 0.046862,
     "end_time": "2021-11-12T00:25:30.472663",
     "exception": false,
     "start_time": "2021-11-12T00:25:30.425801",
     "status": "completed"
    },
    "tags": []
   },
   "outputs": [],
   "source": [
    "#hide\n",
    "def get_frame(name):\n",
    "    url = (\n",
    "        'https://raw.githubusercontent.com/CSSEGISandData/COVID-19/master/csse_covid_19_data/'\n",
    "        f'csse_covid_19_time_series/time_series_covid19_{name}_global.csv')\n",
    "    df = pd.read_csv(url)\n",
    "    # rename countries\n",
    "    df['Country/Region'] = df['Country/Region'].replace(mapping['replace.country'])\n",
    "    return df"
   ]
  },
  {
   "cell_type": "code",
   "execution_count": 8,
   "id": "affiliated-characterization",
   "metadata": {
    "execution": {
     "iopub.execute_input": "2021-11-12T00:25:30.553452Z",
     "iopub.status.busy": "2021-11-12T00:25:30.552790Z",
     "iopub.status.idle": "2021-11-12T00:25:30.554942Z",
     "shell.execute_reply": "2021-11-12T00:25:30.555455Z"
    },
    "papermill": {
     "duration": 0.045452,
     "end_time": "2021-11-12T00:25:30.555614",
     "exception": false,
     "start_time": "2021-11-12T00:25:30.510162",
     "status": "completed"
    },
    "tags": []
   },
   "outputs": [],
   "source": [
    "#hide\n",
    "def get_dates(df):\n",
    "    dt_cols = df.columns[~df.columns.isin(['Province/State', 'Country/Region', 'Lat', 'Long'])]\n",
    "    LAST_DATE_I = -1\n",
    "    # sometimes last column may be empty, then go backwards\n",
    "    for i in range(-1, -len(dt_cols), -1):\n",
    "        if not df[dt_cols[i]].fillna(0).eq(0).all():\n",
    "            LAST_DATE_I = i\n",
    "            break\n",
    "    return LAST_DATE_I, dt_cols"
   ]
  },
  {
   "cell_type": "code",
   "execution_count": 9,
   "id": "recent-optimization",
   "metadata": {
    "execution": {
     "iopub.execute_input": "2021-11-12T00:25:30.640464Z",
     "iopub.status.busy": "2021-11-12T00:25:30.639718Z",
     "iopub.status.idle": "2021-11-12T00:25:31.076744Z",
     "shell.execute_reply": "2021-11-12T00:25:31.077357Z"
    },
    "papermill": {
     "duration": 0.479951,
     "end_time": "2021-11-12T00:25:31.077525",
     "exception": false,
     "start_time": "2021-11-12T00:25:30.597574",
     "status": "completed"
    },
    "tags": []
   },
   "outputs": [],
   "source": [
    "#hide\n",
    "COL_REGION = 'Country/Region'\n",
    "# Confirmed, Recovered, Deaths\n",
    "df = get_frame('confirmed')\n",
    "# dft_: timeseries, dfc_: today country agg\n",
    "dft_cases = df\n",
    "dft_deaths = get_frame('deaths')\n",
    "dft_recovered = get_frame('recovered')\n",
    "LAST_DATE_I, dt_cols = get_dates(df)"
   ]
  },
  {
   "cell_type": "code",
   "execution_count": 10,
   "id": "absolute-copper",
   "metadata": {
    "execution": {
     "iopub.execute_input": "2021-11-12T00:25:31.157057Z",
     "iopub.status.busy": "2021-11-12T00:25:31.156389Z",
     "iopub.status.idle": "2021-11-12T00:25:31.158905Z",
     "shell.execute_reply": "2021-11-12T00:25:31.158379Z"
    },
    "papermill": {
     "duration": 0.044327,
     "end_time": "2021-11-12T00:25:31.159031",
     "exception": false,
     "start_time": "2021-11-12T00:25:31.114704",
     "status": "completed"
    },
    "tags": []
   },
   "outputs": [],
   "source": [
    "#hide\n",
    "LAST_DATE_I, dt_cols = get_dates(df)\n",
    "dt_today =dt_cols[LAST_DATE_I]\n",
    "# dt_5day = dt_cols[LAST_DATE_I - 5]\n",
    "dt_yday = dt_cols[LAST_DATE_I - 1]"
   ]
  },
  {
   "cell_type": "code",
   "execution_count": 11,
   "id": "restricted-sheriff",
   "metadata": {
    "execution": {
     "iopub.execute_input": "2021-11-12T00:25:31.237462Z",
     "iopub.status.busy": "2021-11-12T00:25:31.236794Z",
     "iopub.status.idle": "2021-11-12T00:25:31.245416Z",
     "shell.execute_reply": "2021-11-12T00:25:31.244897Z"
    },
    "papermill": {
     "duration": 0.049114,
     "end_time": "2021-11-12T00:25:31.245534",
     "exception": false,
     "start_time": "2021-11-12T00:25:31.196420",
     "status": "completed"
    },
    "tags": []
   },
   "outputs": [],
   "source": [
    "#hide\n",
    "dfc_cases = dft_cases.groupby(COL_REGION)[dt_today].sum()\n",
    "dfc_deaths = dft_deaths.groupby(COL_REGION)[dt_today].sum()\n",
    "# dfp_cases = dft_cases.groupby(COL_REGION)[dt_5day].sum()\n",
    "# dfp_deaths = dft_deaths.groupby(COL_REGION)[dt_5day].sum()\n",
    "dfp_cases = dft_cases.groupby(COL_REGION)[dt_yday].sum()\n",
    "dfp_deaths = dft_deaths.groupby(COL_REGION)[dt_yday].sum()"
   ]
  },
  {
   "cell_type": "code",
   "execution_count": 12,
   "id": "deluxe-hepatitis",
   "metadata": {
    "execution": {
     "iopub.execute_input": "2021-11-12T00:25:31.323450Z",
     "iopub.status.busy": "2021-11-12T00:25:31.322779Z",
     "iopub.status.idle": "2021-11-12T00:25:31.328207Z",
     "shell.execute_reply": "2021-11-12T00:25:31.327677Z"
    },
    "papermill": {
     "duration": 0.045915,
     "end_time": "2021-11-12T00:25:31.328334",
     "exception": false,
     "start_time": "2021-11-12T00:25:31.282419",
     "status": "completed"
    },
    "tags": []
   },
   "outputs": [],
   "source": [
    "#hide\n",
    "df_table = (pd.DataFrame(dict(Cases = dfc_cases, Deaths = dfc_deaths, PCases = dfp_cases, PDeaths = dfp_deaths))\n",
    "            .sort_values(by = ['Cases','Deaths'], ascending = [False, False])\n",
    "            .reset_index())"
   ]
  },
  {
   "cell_type": "code",
   "execution_count": 13,
   "id": "educational-chancellor",
   "metadata": {
    "execution": {
     "iopub.execute_input": "2021-11-12T00:25:31.423193Z",
     "iopub.status.busy": "2021-11-12T00:25:31.422420Z",
     "iopub.status.idle": "2021-11-12T00:25:31.432812Z",
     "shell.execute_reply": "2021-11-12T00:25:31.432239Z"
    },
    "papermill": {
     "duration": 0.068,
     "end_time": "2021-11-12T00:25:31.433055",
     "exception": false,
     "start_time": "2021-11-12T00:25:31.365055",
     "status": "completed"
    },
    "tags": []
   },
   "outputs": [
    {
     "data": {
      "text/html": [
       "<div>\n",
       "<style scoped>\n",
       "    .dataframe tbody tr th:only-of-type {\n",
       "        vertical-align: middle;\n",
       "    }\n",
       "\n",
       "    .dataframe tbody tr th {\n",
       "        vertical-align: top;\n",
       "    }\n",
       "\n",
       "    .dataframe thead th {\n",
       "        text-align: right;\n",
       "    }\n",
       "</style>\n",
       "<table border=\"1\" class=\"dataframe\">\n",
       "  <thead>\n",
       "    <tr style=\"text-align: right;\">\n",
       "      <th></th>\n",
       "      <th>Country/Region</th>\n",
       "      <th>Cases</th>\n",
       "      <th>Deaths</th>\n",
       "      <th>PCases</th>\n",
       "      <th>PDeaths</th>\n",
       "      <th>Cases (+)</th>\n",
       "      <th>Deaths (+)</th>\n",
       "      <th>Fatality Rate</th>\n",
       "      <th>Continent</th>\n",
       "    </tr>\n",
       "  </thead>\n",
       "  <tbody>\n",
       "    <tr>\n",
       "      <th>0</th>\n",
       "      <td>US</td>\n",
       "      <td>46789031</td>\n",
       "      <td>758916</td>\n",
       "      <td>46693102</td>\n",
       "      <td>757291</td>\n",
       "      <td>95929</td>\n",
       "      <td>1625</td>\n",
       "      <td>1.62</td>\n",
       "      <td>North America</td>\n",
       "    </tr>\n",
       "    <tr>\n",
       "      <th>1</th>\n",
       "      <td>India</td>\n",
       "      <td>34401670</td>\n",
       "      <td>462189</td>\n",
       "      <td>34388579</td>\n",
       "      <td>461849</td>\n",
       "      <td>13091</td>\n",
       "      <td>340</td>\n",
       "      <td>1.34</td>\n",
       "      <td>Asia</td>\n",
       "    </tr>\n",
       "    <tr>\n",
       "      <th>2</th>\n",
       "      <td>Brazil</td>\n",
       "      <td>21909298</td>\n",
       "      <td>610036</td>\n",
       "      <td>21897025</td>\n",
       "      <td>609756</td>\n",
       "      <td>12273</td>\n",
       "      <td>280</td>\n",
       "      <td>2.78</td>\n",
       "      <td>South America</td>\n",
       "    </tr>\n",
       "    <tr>\n",
       "      <th>3</th>\n",
       "      <td>United Kingdom</td>\n",
       "      <td>9451884</td>\n",
       "      <td>142772</td>\n",
       "      <td>9412185</td>\n",
       "      <td>142556</td>\n",
       "      <td>39699</td>\n",
       "      <td>216</td>\n",
       "      <td>1.51</td>\n",
       "      <td>Europe</td>\n",
       "    </tr>\n",
       "    <tr>\n",
       "      <th>4</th>\n",
       "      <td>Russia</td>\n",
       "      <td>8764713</td>\n",
       "      <td>245794</td>\n",
       "      <td>8727817</td>\n",
       "      <td>244588</td>\n",
       "      <td>36896</td>\n",
       "      <td>1206</td>\n",
       "      <td>2.80</td>\n",
       "      <td>Europe</td>\n",
       "    </tr>\n",
       "  </tbody>\n",
       "</table>\n",
       "</div>"
      ],
      "text/plain": [
       "   Country/Region     Cases  Deaths    PCases  PDeaths  Cases (+)  Deaths (+)  \\\n",
       "0              US  46789031  758916  46693102   757291      95929        1625   \n",
       "1           India  34401670  462189  34388579   461849      13091         340   \n",
       "2          Brazil  21909298  610036  21897025   609756      12273         280   \n",
       "3  United Kingdom   9451884  142772   9412185   142556      39699         216   \n",
       "4          Russia   8764713  245794   8727817   244588      36896        1206   \n",
       "\n",
       "   Fatality Rate      Continent  \n",
       "0           1.62  North America  \n",
       "1           1.34           Asia  \n",
       "2           2.78  South America  \n",
       "3           1.51         Europe  \n",
       "4           2.80         Europe  "
      ]
     },
     "execution_count": 13,
     "metadata": {},
     "output_type": "execute_result"
    }
   ],
   "source": [
    "#hide\n",
    "for c in 'Cases, Deaths'.split(', '):\n",
    "    df_table[f'{c} (+)'] = (df_table[c] - df_table[f'P{c}']).clip(0)\n",
    "    #Clip ça veut dire, les chiffres negatif sont interdit\n",
    "df_table['Fatality Rate'] = (100* df_table['Deaths']/ df_table['Cases']).round(2)\n",
    "df_table['Continent'] = df_table['Country/Region'].map(mapping['map.continent'])\n",
    "df_table.head(5)"
   ]
  },
  {
   "cell_type": "code",
   "execution_count": 14,
   "id": "aboriginal-bulgaria",
   "metadata": {
    "execution": {
     "iopub.execute_input": "2021-11-12T00:25:31.513649Z",
     "iopub.status.busy": "2021-11-12T00:25:31.512963Z",
     "iopub.status.idle": "2021-11-12T00:25:31.515702Z",
     "shell.execute_reply": "2021-11-12T00:25:31.516297Z"
    },
    "papermill": {
     "duration": 0.047303,
     "end_time": "2021-11-12T00:25:31.516445",
     "exception": false,
     "start_time": "2021-11-12T00:25:31.469142",
     "status": "completed"
    },
    "tags": []
   },
   "outputs": [],
   "source": [
    "#hide\n",
    "#delete problematic countries from table\n",
    "df_table = df_table[~df_table['Country/Region'].isin(['Cape Verde', 'Cruise Ship', 'Kosovo'])]"
   ]
  },
  {
   "cell_type": "code",
   "execution_count": 15,
   "id": "fantastic-effect",
   "metadata": {
    "execution": {
     "iopub.execute_input": "2021-11-12T00:25:31.601139Z",
     "iopub.status.busy": "2021-11-12T00:25:31.600429Z",
     "iopub.status.idle": "2021-11-12T00:25:31.622480Z",
     "shell.execute_reply": "2021-11-12T00:25:31.623015Z"
    },
    "papermill": {
     "duration": 0.070536,
     "end_time": "2021-11-12T00:25:31.623149",
     "exception": false,
     "start_time": "2021-11-12T00:25:31.552613",
     "status": "completed"
    },
    "tags": []
   },
   "outputs": [
    {
     "data": {
      "text/html": [
       "<div>\n",
       "<style scoped>\n",
       "    .dataframe tbody tr th:only-of-type {\n",
       "        vertical-align: middle;\n",
       "    }\n",
       "\n",
       "    .dataframe tbody tr th {\n",
       "        vertical-align: top;\n",
       "    }\n",
       "\n",
       "    .dataframe thead th {\n",
       "        text-align: right;\n",
       "    }\n",
       "</style>\n",
       "<table border=\"1\" class=\"dataframe\">\n",
       "  <thead>\n",
       "    <tr style=\"text-align: right;\">\n",
       "      <th></th>\n",
       "      <th>Country/Region</th>\n",
       "      <th>Cases</th>\n",
       "      <th>Deaths</th>\n",
       "      <th>PCases</th>\n",
       "      <th>PDeaths</th>\n",
       "      <th>Cases (+)</th>\n",
       "      <th>Deaths (+)</th>\n",
       "      <th>Fatality Rate</th>\n",
       "      <th>Continent</th>\n",
       "    </tr>\n",
       "  </thead>\n",
       "  <tbody>\n",
       "    <tr>\n",
       "      <th>0</th>\n",
       "      <td>US</td>\n",
       "      <td>46789031</td>\n",
       "      <td>758916</td>\n",
       "      <td>46693102</td>\n",
       "      <td>757291</td>\n",
       "      <td>95929</td>\n",
       "      <td>1625</td>\n",
       "      <td>1.6</td>\n",
       "      <td>North America</td>\n",
       "    </tr>\n",
       "    <tr>\n",
       "      <th>1</th>\n",
       "      <td>India</td>\n",
       "      <td>34401670</td>\n",
       "      <td>462189</td>\n",
       "      <td>34388579</td>\n",
       "      <td>461849</td>\n",
       "      <td>13091</td>\n",
       "      <td>340</td>\n",
       "      <td>1.3</td>\n",
       "      <td>Asia</td>\n",
       "    </tr>\n",
       "    <tr>\n",
       "      <th>2</th>\n",
       "      <td>Brazil</td>\n",
       "      <td>21909298</td>\n",
       "      <td>610036</td>\n",
       "      <td>21897025</td>\n",
       "      <td>609756</td>\n",
       "      <td>12273</td>\n",
       "      <td>280</td>\n",
       "      <td>2.8</td>\n",
       "      <td>South America</td>\n",
       "    </tr>\n",
       "    <tr>\n",
       "      <th>3</th>\n",
       "      <td>United Kingdom</td>\n",
       "      <td>9451884</td>\n",
       "      <td>142772</td>\n",
       "      <td>9412185</td>\n",
       "      <td>142556</td>\n",
       "      <td>39699</td>\n",
       "      <td>216</td>\n",
       "      <td>1.5</td>\n",
       "      <td>Europe</td>\n",
       "    </tr>\n",
       "    <tr>\n",
       "      <th>4</th>\n",
       "      <td>Russia</td>\n",
       "      <td>8764713</td>\n",
       "      <td>245794</td>\n",
       "      <td>8727817</td>\n",
       "      <td>244588</td>\n",
       "      <td>36896</td>\n",
       "      <td>1206</td>\n",
       "      <td>2.8</td>\n",
       "      <td>Europe</td>\n",
       "    </tr>\n",
       "  </tbody>\n",
       "</table>\n",
       "</div>"
      ],
      "text/plain": [
       "   Country/Region     Cases  Deaths    PCases  PDeaths  Cases (+)  Deaths (+)  \\\n",
       "0              US  46789031  758916  46693102   757291      95929        1625   \n",
       "1           India  34401670  462189  34388579   461849      13091         340   \n",
       "2          Brazil  21909298  610036  21897025   609756      12273         280   \n",
       "3  United Kingdom   9451884  142772   9412185   142556      39699         216   \n",
       "4          Russia   8764713  245794   8727817   244588      36896        1206   \n",
       "\n",
       "   Fatality Rate      Continent  \n",
       "0            1.6  North America  \n",
       "1            1.3           Asia  \n",
       "2            2.8  South America  \n",
       "3            1.5         Europe  \n",
       "4            2.8         Europe  "
      ]
     },
     "execution_count": 15,
     "metadata": {},
     "output_type": "execute_result"
    }
   ],
   "source": [
    "#hide\n",
    "df_table = (pd.DataFrame(dict(Cases=dfc_cases, Deaths=dfc_deaths, PCases=dfp_cases, PDeaths=dfp_deaths))\n",
    "             .sort_values(by=['Cases', 'Deaths'], ascending=[False, False])\n",
    "             .reset_index())\n",
    "df_table.rename(columns={'index': 'Country/Region'}, inplace=True)\n",
    "for c in 'Cases, Deaths'.split(', '):\n",
    "    df_table[f'{c} (+)'] = (df_table[c] - df_table[f'P{c}']).clip(0)  # DATA BUG\n",
    "df_table['Fatality Rate'] = (100 * df_table['Deaths'] / df_table['Cases']).round(1)\n",
    "df_table['Continent'] = df_table['Country/Region'].map(mapping['map.continent'])\n",
    "df_table.head(5)"
   ]
  },
  {
   "cell_type": "code",
   "execution_count": 16,
   "id": "fewer-occasion",
   "metadata": {
    "execution": {
     "iopub.execute_input": "2021-11-12T00:25:31.699494Z",
     "iopub.status.busy": "2021-11-12T00:25:31.698858Z",
     "iopub.status.idle": "2021-11-12T00:25:31.701332Z",
     "shell.execute_reply": "2021-11-12T00:25:31.701915Z"
    },
    "papermill": {
     "duration": 0.044179,
     "end_time": "2021-11-12T00:25:31.702049",
     "exception": false,
     "start_time": "2021-11-12T00:25:31.657870",
     "status": "completed"
    },
    "tags": []
   },
   "outputs": [],
   "source": [
    "#hide\n",
    "#delete problematic countries from table\n",
    "df_table = df_table[~df_table['Country/Region'].isin(['Cape Verde', 'Cruise Ship', 'Kosovo'])]"
   ]
  },
  {
   "cell_type": "code",
   "execution_count": 17,
   "id": "related-center",
   "metadata": {
    "execution": {
     "iopub.execute_input": "2021-11-12T00:25:31.800666Z",
     "iopub.status.busy": "2021-11-12T00:25:31.800062Z",
     "iopub.status.idle": "2021-11-12T00:25:31.803716Z",
     "shell.execute_reply": "2021-11-12T00:25:31.804169Z"
    },
    "papermill": {
     "duration": 0.062824,
     "end_time": "2021-11-12T00:25:31.804308",
     "exception": false,
     "start_time": "2021-11-12T00:25:31.741484",
     "status": "completed"
    },
    "tags": []
   },
   "outputs": [],
   "source": [
    "#hide\n",
    "metrics = [df_table.columns[index] for index in [1,2,5,6]]\n",
    "# s_china = df_table[df_table['Country/Region'].eq('China')][metrics].sum().add_prefix('China ')\n",
    "s_us = df_table[df_table['Country/Region'].eq('US')][metrics].sum().add_prefix('US ')\n",
    "s_eu = df_table[df_table['Continent'].eq('Europe')][metrics].sum().add_prefix('EU ')\n",
    "s_ind = df_table[df_table['Country/Region'].eq('India')][metrics].sum().add_prefix('India ')\n",
    "summary = {'updated': pd.to_datetime(dt_today), 'since': pd.to_datetime(dt_yday)}\n",
    "summary = {'updated': pd.to_datetime(dt_today), 'since': pd.to_datetime(dt_yday)}\n",
    "summary = {**summary, **df_table[metrics].sum(), **s_ind, **s_us, **s_eu}"
   ]
  },
  {
   "cell_type": "code",
   "execution_count": 18,
   "id": "engaging-syndrome",
   "metadata": {
    "execution": {
     "iopub.execute_input": "2021-11-12T00:25:31.882537Z",
     "iopub.status.busy": "2021-11-12T00:25:31.881874Z",
     "iopub.status.idle": "2021-11-12T00:25:31.900579Z",
     "shell.execute_reply": "2021-11-12T00:25:31.900064Z"
    },
    "papermill": {
     "duration": 0.058606,
     "end_time": "2021-11-12T00:25:31.900707",
     "exception": false,
     "start_time": "2021-11-12T00:25:31.842101",
     "status": "completed"
    },
    "tags": []
   },
   "outputs": [],
   "source": [
    "#hide\n",
    "dft_ct_new_cases = dft_cases.groupby(COL_REGION)[dt_cols].sum().diff(axis=1).fillna(0).astype(int)"
   ]
  },
  {
   "cell_type": "code",
   "execution_count": 19,
   "id": "neutral-assignment",
   "metadata": {
    "execution": {
     "iopub.execute_input": "2021-11-12T00:25:31.983342Z",
     "iopub.status.busy": "2021-11-12T00:25:31.982683Z",
     "iopub.status.idle": "2021-11-12T00:25:31.984993Z",
     "shell.execute_reply": "2021-11-12T00:25:31.985580Z"
    },
    "papermill": {
     "duration": 0.048647,
     "end_time": "2021-11-12T00:25:31.985728",
     "exception": false,
     "start_time": "2021-11-12T00:25:31.937081",
     "status": "completed"
    },
    "tags": []
   },
   "outputs": [],
   "source": [
    "#hide\n",
    "everydaycases = dft_ct_new_cases.cumsum(axis=1)"
   ]
  },
  {
   "cell_type": "code",
   "execution_count": 20,
   "id": "parliamentary-calgary",
   "metadata": {
    "execution": {
     "iopub.execute_input": "2021-11-12T00:25:32.064916Z",
     "iopub.status.busy": "2021-11-12T00:25:32.064256Z",
     "iopub.status.idle": "2021-11-12T00:25:32.679914Z",
     "shell.execute_reply": "2021-11-12T00:25:32.679332Z"
    },
    "papermill": {
     "duration": 0.656832,
     "end_time": "2021-11-12T00:25:32.680051",
     "exception": false,
     "start_time": "2021-11-12T00:25:32.023219",
     "status": "completed"
    },
    "tags": []
   },
   "outputs": [],
   "source": [
    "#hide\n",
    "import pandas as pd\n",
    "import matplotlib.pyplot as plt\n",
    "import matplotlib.ticker as ticker\n",
    "import matplotlib.animation as animation\n",
    "from IPython.display import HTML"
   ]
  },
  {
   "cell_type": "code",
   "execution_count": 21,
   "id": "lasting-extraction",
   "metadata": {
    "execution": {
     "iopub.execute_input": "2021-11-12T00:25:32.762383Z",
     "iopub.status.busy": "2021-11-12T00:25:32.761682Z",
     "iopub.status.idle": "2021-11-12T00:25:32.769119Z",
     "shell.execute_reply": "2021-11-12T00:25:32.768516Z"
    },
    "papermill": {
     "duration": 0.051038,
     "end_time": "2021-11-12T00:25:32.769300",
     "exception": false,
     "start_time": "2021-11-12T00:25:32.718262",
     "status": "completed"
    },
    "tags": []
   },
   "outputs": [],
   "source": [
    "#hide\n",
    "t = everydaycases.stack()"
   ]
  },
  {
   "cell_type": "code",
   "execution_count": 22,
   "id": "premier-sleeve",
   "metadata": {
    "execution": {
     "iopub.execute_input": "2021-11-12T00:25:32.846729Z",
     "iopub.status.busy": "2021-11-12T00:25:32.846120Z",
     "iopub.status.idle": "2021-11-12T00:25:32.856158Z",
     "shell.execute_reply": "2021-11-12T00:25:32.856868Z"
    },
    "papermill": {
     "duration": 0.050675,
     "end_time": "2021-11-12T00:25:32.857011",
     "exception": false,
     "start_time": "2021-11-12T00:25:32.806336",
     "status": "completed"
    },
    "tags": []
   },
   "outputs": [],
   "source": [
    "#hide\n",
    "g = t.reset_index(['Country/Region'])"
   ]
  },
  {
   "cell_type": "code",
   "execution_count": 23,
   "id": "distributed-pittsburgh",
   "metadata": {
    "execution": {
     "iopub.execute_input": "2021-11-12T00:25:32.934669Z",
     "iopub.status.busy": "2021-11-12T00:25:32.933945Z",
     "iopub.status.idle": "2021-11-12T00:25:32.936716Z",
     "shell.execute_reply": "2021-11-12T00:25:32.936190Z"
    },
    "papermill": {
     "duration": 0.042649,
     "end_time": "2021-11-12T00:25:32.936890",
     "exception": false,
     "start_time": "2021-11-12T00:25:32.894241",
     "status": "completed"
    },
    "tags": []
   },
   "outputs": [],
   "source": [
    "#hide\n",
    "g.index.name = 'date'"
   ]
  },
  {
   "cell_type": "code",
   "execution_count": 24,
   "id": "naked-donor",
   "metadata": {
    "execution": {
     "iopub.execute_input": "2021-11-12T00:25:33.013812Z",
     "iopub.status.busy": "2021-11-12T00:25:33.013180Z",
     "iopub.status.idle": "2021-11-12T00:25:33.015720Z",
     "shell.execute_reply": "2021-11-12T00:25:33.015218Z"
    },
    "papermill": {
     "duration": 0.041867,
     "end_time": "2021-11-12T00:25:33.015840",
     "exception": false,
     "start_time": "2021-11-12T00:25:32.973973",
     "status": "completed"
    },
    "tags": []
   },
   "outputs": [],
   "source": [
    "# #hide\n",
    "# g = g.reset_index(['date'])"
   ]
  },
  {
   "cell_type": "code",
   "execution_count": 25,
   "id": "incomplete-mustang",
   "metadata": {
    "execution": {
     "iopub.execute_input": "2021-11-12T00:25:33.098442Z",
     "iopub.status.busy": "2021-11-12T00:25:33.097765Z",
     "iopub.status.idle": "2021-11-12T00:25:33.101731Z",
     "shell.execute_reply": "2021-11-12T00:25:33.102253Z"
    },
    "papermill": {
     "duration": 0.048371,
     "end_time": "2021-11-12T00:25:33.102413",
     "exception": false,
     "start_time": "2021-11-12T00:25:33.054042",
     "status": "completed"
    },
    "tags": []
   },
   "outputs": [],
   "source": [
    "#hide\n",
    "# g.head()"
   ]
  },
  {
   "cell_type": "code",
   "execution_count": 26,
   "id": "specific-kruger",
   "metadata": {
    "execution": {
     "iopub.execute_input": "2021-11-12T00:25:33.183642Z",
     "iopub.status.busy": "2021-11-12T00:25:33.182973Z",
     "iopub.status.idle": "2021-11-12T00:25:33.185921Z",
     "shell.execute_reply": "2021-11-12T00:25:33.185403Z"
    },
    "papermill": {
     "duration": 0.044386,
     "end_time": "2021-11-12T00:25:33.186054",
     "exception": false,
     "start_time": "2021-11-12T00:25:33.141668",
     "status": "completed"
    },
    "tags": []
   },
   "outputs": [],
   "source": [
    "#hide\n",
    "# g.columns = ['date','country','cases']"
   ]
  },
  {
   "cell_type": "code",
   "execution_count": 27,
   "id": "tender-conversion",
   "metadata": {
    "execution": {
     "iopub.execute_input": "2021-11-12T00:25:33.264435Z",
     "iopub.status.busy": "2021-11-12T00:25:33.263807Z",
     "iopub.status.idle": "2021-11-12T00:25:33.265847Z",
     "shell.execute_reply": "2021-11-12T00:25:33.266317Z"
    },
    "papermill": {
     "duration": 0.042155,
     "end_time": "2021-11-12T00:25:33.266460",
     "exception": false,
     "start_time": "2021-11-12T00:25:33.224305",
     "status": "completed"
    },
    "tags": []
   },
   "outputs": [],
   "source": [
    "#hide\n",
    "# g['continent'] = g.country"
   ]
  },
  {
   "cell_type": "code",
   "execution_count": 28,
   "id": "substantial-wilderness",
   "metadata": {
    "execution": {
     "iopub.execute_input": "2021-11-12T00:25:33.342298Z",
     "iopub.status.busy": "2021-11-12T00:25:33.341528Z",
     "iopub.status.idle": "2021-11-12T00:25:33.344074Z",
     "shell.execute_reply": "2021-11-12T00:25:33.343547Z"
    },
    "papermill": {
     "duration": 0.040212,
     "end_time": "2021-11-12T00:25:33.344201",
     "exception": false,
     "start_time": "2021-11-12T00:25:33.303989",
     "status": "completed"
    },
    "tags": []
   },
   "outputs": [],
   "source": [
    "#hide\n",
    "# cols = list(g.columns.values)"
   ]
  },
  {
   "cell_type": "code",
   "execution_count": 29,
   "id": "solved-farming",
   "metadata": {
    "execution": {
     "iopub.execute_input": "2021-11-12T00:25:33.423297Z",
     "iopub.status.busy": "2021-11-12T00:25:33.422544Z",
     "iopub.status.idle": "2021-11-12T00:25:33.425130Z",
     "shell.execute_reply": "2021-11-12T00:25:33.424581Z"
    },
    "papermill": {
     "duration": 0.04331,
     "end_time": "2021-11-12T00:25:33.425257",
     "exception": false,
     "start_time": "2021-11-12T00:25:33.381947",
     "status": "completed"
    },
    "tags": []
   },
   "outputs": [],
   "source": [
    "#hide\n",
    "# cols.insert(0, cols.pop())"
   ]
  },
  {
   "cell_type": "code",
   "execution_count": 30,
   "id": "executed-adoption",
   "metadata": {
    "execution": {
     "iopub.execute_input": "2021-11-12T00:25:33.504558Z",
     "iopub.status.busy": "2021-11-12T00:25:33.503928Z",
     "iopub.status.idle": "2021-11-12T00:25:33.506621Z",
     "shell.execute_reply": "2021-11-12T00:25:33.506063Z"
    },
    "papermill": {
     "duration": 0.042589,
     "end_time": "2021-11-12T00:25:33.506745",
     "exception": false,
     "start_time": "2021-11-12T00:25:33.464156",
     "status": "completed"
    },
    "tags": []
   },
   "outputs": [],
   "source": [
    "#hide\n",
    "# g = g[cols]"
   ]
  },
  {
   "cell_type": "code",
   "execution_count": 31,
   "id": "subject-dublin",
   "metadata": {
    "execution": {
     "iopub.execute_input": "2021-11-12T00:25:33.584440Z",
     "iopub.status.busy": "2021-11-12T00:25:33.583712Z",
     "iopub.status.idle": "2021-11-12T00:25:33.585959Z",
     "shell.execute_reply": "2021-11-12T00:25:33.586457Z"
    },
    "papermill": {
     "duration": 0.043391,
     "end_time": "2021-11-12T00:25:33.586590",
     "exception": false,
     "start_time": "2021-11-12T00:25:33.543199",
     "status": "completed"
    },
    "tags": []
   },
   "outputs": [],
   "source": [
    "#hide\n",
    "# g['continent'] = g['continent'].map(mapping['map.continent'])"
   ]
  },
  {
   "cell_type": "code",
   "execution_count": 32,
   "id": "freelance-scout",
   "metadata": {
    "execution": {
     "iopub.execute_input": "2021-11-12T00:25:33.670395Z",
     "iopub.status.busy": "2021-11-12T00:25:33.669781Z",
     "iopub.status.idle": "2021-11-12T00:25:33.673277Z",
     "shell.execute_reply": "2021-11-12T00:25:33.672714Z"
    },
    "papermill": {
     "duration": 0.047291,
     "end_time": "2021-11-12T00:25:33.673397",
     "exception": false,
     "start_time": "2021-11-12T00:25:33.626106",
     "status": "completed"
    },
    "tags": []
   },
   "outputs": [],
   "source": [
    "#hide\n",
    "# g.head()"
   ]
  },
  {
   "cell_type": "code",
   "execution_count": 33,
   "id": "limited-engine",
   "metadata": {
    "execution": {
     "iopub.execute_input": "2021-11-12T00:25:33.750029Z",
     "iopub.status.busy": "2021-11-12T00:25:33.749358Z",
     "iopub.status.idle": "2021-11-12T00:25:33.753324Z",
     "shell.execute_reply": "2021-11-12T00:25:33.753804Z"
    },
    "papermill": {
     "duration": 0.042603,
     "end_time": "2021-11-12T00:25:33.753951",
     "exception": false,
     "start_time": "2021-11-12T00:25:33.711348",
     "status": "completed"
    },
    "tags": []
   },
   "outputs": [],
   "source": [
    "# hide\n",
    "# g['date'] = g['date'].astype('datetime64[ns]')"
   ]
  },
  {
   "cell_type": "code",
   "execution_count": 34,
   "id": "sophisticated-supervisor",
   "metadata": {
    "execution": {
     "iopub.execute_input": "2021-11-12T00:25:33.836002Z",
     "iopub.status.busy": "2021-11-12T00:25:33.835380Z",
     "iopub.status.idle": "2021-11-12T00:25:33.837865Z",
     "shell.execute_reply": "2021-11-12T00:25:33.838384Z"
    },
    "papermill": {
     "duration": 0.044661,
     "end_time": "2021-11-12T00:25:33.838536",
     "exception": false,
     "start_time": "2021-11-12T00:25:33.793875",
     "status": "completed"
    },
    "tags": []
   },
   "outputs": [],
   "source": [
    "#hide\n",
    "# g['date'] = g.date.dt.dayofyear"
   ]
  },
  {
   "cell_type": "code",
   "execution_count": 35,
   "id": "inside-dubai",
   "metadata": {
    "execution": {
     "iopub.execute_input": "2021-11-12T00:25:33.919085Z",
     "iopub.status.busy": "2021-11-12T00:25:33.918417Z",
     "iopub.status.idle": "2021-11-12T00:25:33.923140Z",
     "shell.execute_reply": "2021-11-12T00:25:33.922586Z"
    },
    "papermill": {
     "duration": 0.047264,
     "end_time": "2021-11-12T00:25:33.923278",
     "exception": false,
     "start_time": "2021-11-12T00:25:33.876014",
     "status": "completed"
    },
    "tags": []
   },
   "outputs": [],
   "source": [
    "#hide\n",
    "# g = g.rename(columns= {'continent':'group','country':'name','cases':'value'})"
   ]
  },
  {
   "cell_type": "code",
   "execution_count": 36,
   "id": "fleet-motorcycle",
   "metadata": {
    "execution": {
     "iopub.execute_input": "2021-11-12T00:25:34.004562Z",
     "iopub.status.busy": "2021-11-12T00:25:34.003878Z",
     "iopub.status.idle": "2021-11-12T00:25:34.007902Z",
     "shell.execute_reply": "2021-11-12T00:25:34.008490Z"
    },
    "papermill": {
     "duration": 0.048143,
     "end_time": "2021-11-12T00:25:34.008660",
     "exception": false,
     "start_time": "2021-11-12T00:25:33.960517",
     "status": "completed"
    },
    "tags": []
   },
   "outputs": [],
   "source": [
    "#hide\n",
    "# cols = ['name','group','day','value']"
   ]
  },
  {
   "cell_type": "code",
   "execution_count": 37,
   "id": "continued-sleeping",
   "metadata": {
    "execution": {
     "iopub.execute_input": "2021-11-12T00:25:34.088654Z",
     "iopub.status.busy": "2021-11-12T00:25:34.088015Z",
     "iopub.status.idle": "2021-11-12T00:25:34.091016Z",
     "shell.execute_reply": "2021-11-12T00:25:34.090446Z"
    },
    "papermill": {
     "duration": 0.043832,
     "end_time": "2021-11-12T00:25:34.091148",
     "exception": false,
     "start_time": "2021-11-12T00:25:34.047316",
     "status": "completed"
    },
    "tags": []
   },
   "outputs": [],
   "source": [
    "#hide\n",
    "# g.rename(columns= {'date':'day'},inplace = True)"
   ]
  },
  {
   "cell_type": "code",
   "execution_count": 38,
   "id": "major-fight",
   "metadata": {
    "execution": {
     "iopub.execute_input": "2021-11-12T00:25:34.173467Z",
     "iopub.status.busy": "2021-11-12T00:25:34.172819Z",
     "iopub.status.idle": "2021-11-12T00:25:34.174962Z",
     "shell.execute_reply": "2021-11-12T00:25:34.175473Z"
    },
    "papermill": {
     "duration": 0.044587,
     "end_time": "2021-11-12T00:25:34.175617",
     "exception": false,
     "start_time": "2021-11-12T00:25:34.131030",
     "status": "completed"
    },
    "tags": []
   },
   "outputs": [],
   "source": [
    "#hide\n",
    "# g = g[cols]"
   ]
  },
  {
   "cell_type": "code",
   "execution_count": 39,
   "id": "structured-mobile",
   "metadata": {
    "execution": {
     "iopub.execute_input": "2021-11-12T00:25:34.258200Z",
     "iopub.status.busy": "2021-11-12T00:25:34.257526Z",
     "iopub.status.idle": "2021-11-12T00:25:34.260272Z",
     "shell.execute_reply": "2021-11-12T00:25:34.259690Z"
    },
    "papermill": {
     "duration": 0.044462,
     "end_time": "2021-11-12T00:25:34.260403",
     "exception": false,
     "start_time": "2021-11-12T00:25:34.215941",
     "status": "completed"
    },
    "tags": []
   },
   "outputs": [],
   "source": [
    "# #hide\n",
    "# g = g[g.group.notna()]"
   ]
  },
  {
   "cell_type": "code",
   "execution_count": 40,
   "id": "determined-closing",
   "metadata": {
    "execution": {
     "iopub.execute_input": "2021-11-12T00:25:34.340443Z",
     "iopub.status.busy": "2021-11-12T00:25:34.339811Z",
     "iopub.status.idle": "2021-11-12T00:25:34.345581Z",
     "shell.execute_reply": "2021-11-12T00:25:34.346096Z"
    },
    "papermill": {
     "duration": 0.046062,
     "end_time": "2021-11-12T00:25:34.346255",
     "exception": false,
     "start_time": "2021-11-12T00:25:34.300193",
     "status": "completed"
    },
    "tags": []
   },
   "outputs": [],
   "source": [
    "# #hide\n",
    "# colors = dict(zip(\n",
    "#     [\"Oceania\", \"Europe\", \"Asia\", \"South America\", \"Middle East\", \"North America\", \"Africa\"],\n",
    "#     [\"#adb0ff\", \"#ffb3ff\", \"#90d595\", \"#e48381\", \"#aafbff\", \"#f7bb5f\", \"#eafb50\"]\n",
    "# ))\n",
    "# group_lk = g.set_index('name')['group'].to_dict()"
   ]
  },
  {
   "cell_type": "code",
   "execution_count": null,
   "id": "gross-drinking",
   "metadata": {
    "papermill": {
     "duration": 0.035316,
     "end_time": "2021-11-12T00:25:34.419031",
     "exception": false,
     "start_time": "2021-11-12T00:25:34.383715",
     "status": "completed"
    },
    "tags": []
   },
   "outputs": [],
   "source": []
  },
  {
   "cell_type": "code",
   "execution_count": 41,
   "id": "subject-macintosh",
   "metadata": {
    "execution": {
     "iopub.execute_input": "2021-11-12T00:25:34.495524Z",
     "iopub.status.busy": "2021-11-12T00:25:34.494867Z",
     "iopub.status.idle": "2021-11-12T00:25:34.497784Z",
     "shell.execute_reply": "2021-11-12T00:25:34.497215Z"
    },
    "papermill": {
     "duration": 0.043774,
     "end_time": "2021-11-12T00:25:34.497911",
     "exception": false,
     "start_time": "2021-11-12T00:25:34.454137",
     "status": "completed"
    },
    "tags": []
   },
   "outputs": [],
   "source": [
    "# #hide\n",
    "# fig, ax = plt.subplots(figsize=(15, 8))\n",
    "\n",
    "# def draw_barchart(current_day):\n",
    "#     dff = g[g['day'].eq(current_day)].sort_values(by='value', ascending=True).tail(10)\n",
    "#     ax.clear()\n",
    "#     ax.barh(dff['name'], dff['value'], color=[colors[group_lk[x]] for x in dff['name']])\n",
    "#     dx = dff['value'].max() / 200\n",
    "    \n",
    "#     for i, (value, name) in enumerate(zip(dff['value'], dff['name'])):\n",
    "#         ax.text(value-dx, i,     name,           size=14, weight=600, ha='right', va='bottom')\n",
    "#         ax.text(value-dx, i-.25, group_lk[name], size=10, color='#444444', ha='right', va='baseline')\n",
    "#         ax.text(value+dx, i,     f'{value:,.0f}',  size=14, ha='left',  va='center')\n",
    "#     ax.text(1, 0.4, current_day, transform=ax.transAxes, color='#777777', size=46, ha='right', weight=800)\n",
    "#     ax.text(0, 1.06, 'Population (thousands)', transform=ax.transAxes, size=12, color='#777777')\n",
    "#     ax.xaxis.set_major_formatter(ticker.StrMethodFormatter('{x:,.0f}'))\n",
    "#     ax.xaxis.set_ticks_position('top')\n",
    "#     ax.tick_params(axis='x', colors='#777777', labelsize=12)\n",
    "#     ax.set_yticks([])\n",
    "#     ax.margins(0, 0.01)\n",
    "#     ax.grid(which='major', axis='x', linestyle='-')\n",
    "#     ax.set_axisbelow(True)\n",
    "    \n",
    "#     ax.text(0, 1.15, 'Coronavirus',\n",
    "#             transform=ax.transAxes, size=24, weight=600, ha='left', va='top')\n",
    "# #     ax.text(1, 0, 'by @pratapvardhan; credit @jburnmurdoch', transform=ax.transAxes, color='#777777', ha='right',\n",
    "# #             bbox=dict(facecolor='white', alpha=0.8, edgecolor='white'))\n",
    "#     plt.box(False)"
   ]
  },
  {
   "cell_type": "code",
   "execution_count": 42,
   "id": "sexual-wages",
   "metadata": {
    "execution": {
     "iopub.execute_input": "2021-11-12T00:25:34.581547Z",
     "iopub.status.busy": "2021-11-12T00:25:34.580872Z",
     "iopub.status.idle": "2021-11-12T00:25:34.583360Z",
     "shell.execute_reply": "2021-11-12T00:25:34.582709Z"
    },
    "papermill": {
     "duration": 0.046116,
     "end_time": "2021-11-12T00:25:34.583502",
     "exception": false,
     "start_time": "2021-11-12T00:25:34.537386",
     "status": "completed"
    },
    "tags": []
   },
   "outputs": [],
   "source": [
    "# #hide_input\n",
    "# fig, ax = plt.subplots(figsize=(15, 8))\n",
    "# animator = animation.FuncAnimation(fig, draw_barchart, frames=range(g.day.values.min(), g.day.values.max()))\n",
    "# HTML(animator.to_jshtml())\n",
    "# # or use animator.to_html5_video() or animator.save() "
   ]
  },
  {
   "cell_type": "code",
   "execution_count": null,
   "id": "australian-container",
   "metadata": {
    "papermill": {
     "duration": 0.038827,
     "end_time": "2021-11-12T00:25:34.666670",
     "exception": false,
     "start_time": "2021-11-12T00:25:34.627843",
     "status": "completed"
    },
    "tags": []
   },
   "outputs": [],
   "source": []
  },
  {
   "cell_type": "code",
   "execution_count": null,
   "id": "mediterranean-pontiac",
   "metadata": {
    "papermill": {
     "duration": 0.040566,
     "end_time": "2021-11-12T00:25:34.745539",
     "exception": false,
     "start_time": "2021-11-12T00:25:34.704973",
     "status": "completed"
    },
    "tags": []
   },
   "outputs": [],
   "source": []
  },
  {
   "cell_type": "code",
   "execution_count": null,
   "id": "aging-legislature",
   "metadata": {
    "papermill": {
     "duration": 0.039796,
     "end_time": "2021-11-12T00:25:34.825187",
     "exception": false,
     "start_time": "2021-11-12T00:25:34.785391",
     "status": "completed"
    },
    "tags": []
   },
   "outputs": [],
   "source": []
  }
 ],
 "metadata": {
  "kernelspec": {
   "display_name": "Python 3",
   "language": "python",
   "name": "python3"
  },
  "language_info": {
   "codemirror_mode": {
    "name": "ipython",
    "version": 3
   },
   "file_extension": ".py",
   "mimetype": "text/x-python",
   "name": "python",
   "nbconvert_exporter": "python",
   "pygments_lexer": "ipython3",
   "version": "3.6.15"
  },
  "papermill": {
   "duration": 6.924427,
   "end_time": "2021-11-12T00:25:35.174292",
   "environment_variables": {},
   "exception": null,
   "input_path": "2020-03-21-covid19exp.ipynb",
   "output_path": "2020-03-21-covid19exp.ipynb",
   "parameters": {},
   "start_time": "2021-11-12T00:25:28.249865",
   "version": "2.0.0"
  }
 },
 "nbformat": 4,
 "nbformat_minor": 5
}