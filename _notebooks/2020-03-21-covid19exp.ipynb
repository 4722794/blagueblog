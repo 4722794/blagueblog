{
 "cells": [
  {
   "cell_type": "markdown",
   "id": "muslim-click",
   "metadata": {
    "papermill": {
     "duration": 0.035346,
     "end_time": "2022-08-20T12:15:23.241069",
     "exception": false,
     "start_time": "2022-08-20T12:15:23.205723",
     "status": "completed"
    },
    "tags": []
   },
   "source": [
    "# COVID-19 Case Race\n",
    "> A race chart to see rising cases around the world\n",
    "\n",
    "- author: Hargun Oberoi\n",
    "- image: images/covid-overview.png\n",
    "- hide: false\n",
    "- badges: false"
   ]
  },
  {
   "cell_type": "code",
   "execution_count": 1,
   "id": "proof-material",
   "metadata": {
    "execution": {
     "iopub.execute_input": "2022-08-20T12:15:23.310935Z",
     "iopub.status.busy": "2022-08-20T12:15:23.310333Z",
     "iopub.status.idle": "2022-08-20T12:15:23.630820Z",
     "shell.execute_reply": "2022-08-20T12:15:23.630216Z"
    },
    "papermill": {
     "duration": 0.359983,
     "end_time": "2022-08-20T12:15:23.630982",
     "exception": false,
     "start_time": "2022-08-20T12:15:23.270999",
     "status": "completed"
    },
    "tags": []
   },
   "outputs": [],
   "source": [
    "#hide\n",
    "import numpy as np\n",
    "import pandas as pd\n",
    "from jinja2 import Template\n",
    "from IPython.display import HTML"
   ]
  },
  {
   "cell_type": "code",
   "execution_count": 2,
   "id": "developed-terminology",
   "metadata": {
    "execution": {
     "iopub.execute_input": "2022-08-20T12:15:23.695415Z",
     "iopub.status.busy": "2022-08-20T12:15:23.694819Z",
     "iopub.status.idle": "2022-08-20T12:15:23.697215Z",
     "shell.execute_reply": "2022-08-20T12:15:23.697807Z"
    },
    "papermill": {
     "duration": 0.036848,
     "end_time": "2022-08-20T12:15:23.697934",
     "exception": false,
     "start_time": "2022-08-20T12:15:23.661086",
     "status": "completed"
    },
    "tags": []
   },
   "outputs": [],
   "source": [
    "#hide\n",
    "\n",
    "# FETCH\n",
    "base_url = 'https://raw.githubusercontent.com/pratapvardhan/notebooks/master/covid19/'\n",
    "paths = {\n",
    "    'mapping': base_url + 'mapping_countries.csv',\n",
    "    'overview': base_url + 'overview.tpl'\n",
    "}"
   ]
  },
  {
   "cell_type": "code",
   "execution_count": 3,
   "id": "dynamic-saver",
   "metadata": {
    "execution": {
     "iopub.execute_input": "2022-08-20T12:15:23.765214Z",
     "iopub.status.busy": "2022-08-20T12:15:23.764636Z",
     "iopub.status.idle": "2022-08-20T12:15:23.767319Z",
     "shell.execute_reply": "2022-08-20T12:15:23.767789Z"
    },
    "papermill": {
     "duration": 0.040985,
     "end_time": "2022-08-20T12:15:23.767903",
     "exception": false,
     "start_time": "2022-08-20T12:15:23.726918",
     "status": "completed"
    },
    "tags": []
   },
   "outputs": [
    {
     "data": {
      "text/plain": [
       "'https://raw.githubusercontent.com/pratapvardhan/notebooks/master/covid19/mapping_countries.csv'"
      ]
     },
     "execution_count": 3,
     "metadata": {},
     "output_type": "execute_result"
    }
   ],
   "source": [
    "#hide\n",
    "paths['mapping']"
   ]
  },
  {
   "cell_type": "code",
   "execution_count": 4,
   "id": "urban-software",
   "metadata": {
    "execution": {
     "iopub.execute_input": "2022-08-20T12:15:23.831539Z",
     "iopub.status.busy": "2022-08-20T12:15:23.830963Z",
     "iopub.status.idle": "2022-08-20T12:15:23.833599Z",
     "shell.execute_reply": "2022-08-20T12:15:23.833106Z"
    },
    "papermill": {
     "duration": 0.036347,
     "end_time": "2022-08-20T12:15:23.833701",
     "exception": false,
     "start_time": "2022-08-20T12:15:23.797354",
     "status": "completed"
    },
    "tags": []
   },
   "outputs": [],
   "source": [
    "#hide\n",
    "def get_mappings(url):\n",
    "    df = pd.read_csv(url)\n",
    "    return {\n",
    "        'df': df,\n",
    "        'replace.country': dict(df.dropna(subset=['Name']).set_index('Country')['Name']),\n",
    "        'map.continent': dict(df.set_index('Name')['Continent'])\n",
    "    }"
   ]
  },
  {
   "cell_type": "code",
   "execution_count": 5,
   "id": "intimate-machinery",
   "metadata": {
    "execution": {
     "iopub.execute_input": "2022-08-20T12:15:23.897429Z",
     "iopub.status.busy": "2022-08-20T12:15:23.896830Z",
     "iopub.status.idle": "2022-08-20T12:15:23.949372Z",
     "shell.execute_reply": "2022-08-20T12:15:23.949886Z"
    },
    "papermill": {
     "duration": 0.087032,
     "end_time": "2022-08-20T12:15:23.950016",
     "exception": false,
     "start_time": "2022-08-20T12:15:23.862984",
     "status": "completed"
    },
    "tags": []
   },
   "outputs": [],
   "source": [
    "#hide\n",
    "mapping = get_mappings(paths['mapping'])"
   ]
  },
  {
   "cell_type": "code",
   "execution_count": 6,
   "id": "certified-tactics",
   "metadata": {
    "execution": {
     "iopub.execute_input": "2022-08-20T12:15:24.014103Z",
     "iopub.status.busy": "2022-08-20T12:15:24.013515Z",
     "iopub.status.idle": "2022-08-20T12:15:24.016342Z",
     "shell.execute_reply": "2022-08-20T12:15:24.015879Z"
    },
    "papermill": {
     "duration": 0.036681,
     "end_time": "2022-08-20T12:15:24.016441",
     "exception": false,
     "start_time": "2022-08-20T12:15:23.979760",
     "status": "completed"
    },
    "tags": []
   },
   "outputs": [],
   "source": [
    "#hide\n",
    "def get_template(path):\n",
    "    from urllib.parse import urlparse\n",
    "    if bool(urlparse(path).netloc):\n",
    "        from urllib.request import urlopen\n",
    "        return urlopen(path).read().decode('utf8')\n",
    "    return open(path).read()"
   ]
  },
  {
   "cell_type": "code",
   "execution_count": 7,
   "id": "realistic-blast",
   "metadata": {
    "execution": {
     "iopub.execute_input": "2022-08-20T12:15:24.080395Z",
     "iopub.status.busy": "2022-08-20T12:15:24.079638Z",
     "iopub.status.idle": "2022-08-20T12:15:24.081814Z",
     "shell.execute_reply": "2022-08-20T12:15:24.082297Z"
    },
    "papermill": {
     "duration": 0.03682,
     "end_time": "2022-08-20T12:15:24.082432",
     "exception": false,
     "start_time": "2022-08-20T12:15:24.045612",
     "status": "completed"
    },
    "tags": []
   },
   "outputs": [],
   "source": [
    "#hide\n",
    "def get_frame(name):\n",
    "    url = (\n",
    "        'https://raw.githubusercontent.com/CSSEGISandData/COVID-19/master/csse_covid_19_data/'\n",
    "        f'csse_covid_19_time_series/time_series_covid19_{name}_global.csv')\n",
    "    df = pd.read_csv(url)\n",
    "    # rename countries\n",
    "    df['Country/Region'] = df['Country/Region'].replace(mapping['replace.country'])\n",
    "    return df"
   ]
  },
  {
   "cell_type": "code",
   "execution_count": 8,
   "id": "affiliated-characterization",
   "metadata": {
    "execution": {
     "iopub.execute_input": "2022-08-20T12:15:24.147099Z",
     "iopub.status.busy": "2022-08-20T12:15:24.146516Z",
     "iopub.status.idle": "2022-08-20T12:15:24.151078Z",
     "shell.execute_reply": "2022-08-20T12:15:24.150612Z"
    },
    "papermill": {
     "duration": 0.039208,
     "end_time": "2022-08-20T12:15:24.151180",
     "exception": false,
     "start_time": "2022-08-20T12:15:24.111972",
     "status": "completed"
    },
    "tags": []
   },
   "outputs": [],
   "source": [
    "#hide\n",
    "def get_dates(df):\n",
    "    dt_cols = df.columns[~df.columns.isin(['Province/State', 'Country/Region', 'Lat', 'Long'])]\n",
    "    LAST_DATE_I = -1\n",
    "    # sometimes last column may be empty, then go backwards\n",
    "    for i in range(-1, -len(dt_cols), -1):\n",
    "        if not df[dt_cols[i]].fillna(0).eq(0).all():\n",
    "            LAST_DATE_I = i\n",
    "            break\n",
    "    return LAST_DATE_I, dt_cols"
   ]
  },
  {
   "cell_type": "code",
   "execution_count": 9,
   "id": "recent-optimization",
   "metadata": {
    "execution": {
     "iopub.execute_input": "2022-08-20T12:15:24.214017Z",
     "iopub.status.busy": "2022-08-20T12:15:24.213435Z",
     "iopub.status.idle": "2022-08-20T12:15:24.757530Z",
     "shell.execute_reply": "2022-08-20T12:15:24.756887Z"
    },
    "papermill": {
     "duration": 0.577248,
     "end_time": "2022-08-20T12:15:24.757671",
     "exception": false,
     "start_time": "2022-08-20T12:15:24.180423",
     "status": "completed"
    },
    "tags": []
   },
   "outputs": [],
   "source": [
    "#hide\n",
    "COL_REGION = 'Country/Region'\n",
    "# Confirmed, Recovered, Deaths\n",
    "df = get_frame('confirmed')\n",
    "# dft_: timeseries, dfc_: today country agg\n",
    "dft_cases = df\n",
    "dft_deaths = get_frame('deaths')\n",
    "dft_recovered = get_frame('recovered')\n",
    "LAST_DATE_I, dt_cols = get_dates(df)"
   ]
  },
  {
   "cell_type": "code",
   "execution_count": 10,
   "id": "absolute-copper",
   "metadata": {
    "execution": {
     "iopub.execute_input": "2022-08-20T12:15:24.823621Z",
     "iopub.status.busy": "2022-08-20T12:15:24.822949Z",
     "iopub.status.idle": "2022-08-20T12:15:24.825492Z",
     "shell.execute_reply": "2022-08-20T12:15:24.825025Z"
    },
    "papermill": {
     "duration": 0.037159,
     "end_time": "2022-08-20T12:15:24.825602",
     "exception": false,
     "start_time": "2022-08-20T12:15:24.788443",
     "status": "completed"
    },
    "tags": []
   },
   "outputs": [],
   "source": [
    "#hide\n",
    "LAST_DATE_I, dt_cols = get_dates(df)\n",
    "dt_today =dt_cols[LAST_DATE_I]\n",
    "# dt_5day = dt_cols[LAST_DATE_I - 5]\n",
    "dt_yday = dt_cols[LAST_DATE_I - 1]"
   ]
  },
  {
   "cell_type": "code",
   "execution_count": 11,
   "id": "restricted-sheriff",
   "metadata": {
    "execution": {
     "iopub.execute_input": "2022-08-20T12:15:24.890628Z",
     "iopub.status.busy": "2022-08-20T12:15:24.890066Z",
     "iopub.status.idle": "2022-08-20T12:15:24.896881Z",
     "shell.execute_reply": "2022-08-20T12:15:24.896418Z"
    },
    "papermill": {
     "duration": 0.04222,
     "end_time": "2022-08-20T12:15:24.896980",
     "exception": false,
     "start_time": "2022-08-20T12:15:24.854760",
     "status": "completed"
    },
    "tags": []
   },
   "outputs": [],
   "source": [
    "#hide\n",
    "dfc_cases = dft_cases.groupby(COL_REGION)[dt_today].sum()\n",
    "dfc_deaths = dft_deaths.groupby(COL_REGION)[dt_today].sum()\n",
    "# dfp_cases = dft_cases.groupby(COL_REGION)[dt_5day].sum()\n",
    "# dfp_deaths = dft_deaths.groupby(COL_REGION)[dt_5day].sum()\n",
    "dfp_cases = dft_cases.groupby(COL_REGION)[dt_yday].sum()\n",
    "dfp_deaths = dft_deaths.groupby(COL_REGION)[dt_yday].sum()"
   ]
  },
  {
   "cell_type": "code",
   "execution_count": 12,
   "id": "deluxe-hepatitis",
   "metadata": {
    "execution": {
     "iopub.execute_input": "2022-08-20T12:15:24.961579Z",
     "iopub.status.busy": "2022-08-20T12:15:24.960888Z",
     "iopub.status.idle": "2022-08-20T12:15:24.966179Z",
     "shell.execute_reply": "2022-08-20T12:15:24.965541Z"
    },
    "papermill": {
     "duration": 0.040022,
     "end_time": "2022-08-20T12:15:24.966295",
     "exception": false,
     "start_time": "2022-08-20T12:15:24.926273",
     "status": "completed"
    },
    "tags": []
   },
   "outputs": [],
   "source": [
    "#hide\n",
    "df_table = (pd.DataFrame(dict(Cases = dfc_cases, Deaths = dfc_deaths, PCases = dfp_cases, PDeaths = dfp_deaths))\n",
    "            .sort_values(by = ['Cases','Deaths'], ascending = [False, False])\n",
    "            .reset_index())"
   ]
  },
  {
   "cell_type": "code",
   "execution_count": 13,
   "id": "educational-chancellor",
   "metadata": {
    "execution": {
     "iopub.execute_input": "2022-08-20T12:15:25.041253Z",
     "iopub.status.busy": "2022-08-20T12:15:25.036541Z",
     "iopub.status.idle": "2022-08-20T12:15:25.049032Z",
     "shell.execute_reply": "2022-08-20T12:15:25.048563Z"
    },
    "papermill": {
     "duration": 0.053512,
     "end_time": "2022-08-20T12:15:25.049133",
     "exception": false,
     "start_time": "2022-08-20T12:15:24.995621",
     "status": "completed"
    },
    "tags": []
   },
   "outputs": [
    {
     "data": {
      "text/html": [
       "<div>\n",
       "<style scoped>\n",
       "    .dataframe tbody tr th:only-of-type {\n",
       "        vertical-align: middle;\n",
       "    }\n",
       "\n",
       "    .dataframe tbody tr th {\n",
       "        vertical-align: top;\n",
       "    }\n",
       "\n",
       "    .dataframe thead th {\n",
       "        text-align: right;\n",
       "    }\n",
       "</style>\n",
       "<table border=\"1\" class=\"dataframe\">\n",
       "  <thead>\n",
       "    <tr style=\"text-align: right;\">\n",
       "      <th></th>\n",
       "      <th>Country/Region</th>\n",
       "      <th>Cases</th>\n",
       "      <th>Deaths</th>\n",
       "      <th>PCases</th>\n",
       "      <th>PDeaths</th>\n",
       "      <th>Cases (+)</th>\n",
       "      <th>Deaths (+)</th>\n",
       "      <th>Fatality Rate</th>\n",
       "      <th>Continent</th>\n",
       "    </tr>\n",
       "  </thead>\n",
       "  <tbody>\n",
       "    <tr>\n",
       "      <th>0</th>\n",
       "      <td>US</td>\n",
       "      <td>93500945</td>\n",
       "      <td>1040355</td>\n",
       "      <td>93403640</td>\n",
       "      <td>1039746</td>\n",
       "      <td>97305</td>\n",
       "      <td>609</td>\n",
       "      <td>1.11</td>\n",
       "      <td>North America</td>\n",
       "    </tr>\n",
       "    <tr>\n",
       "      <th>1</th>\n",
       "      <td>India</td>\n",
       "      <td>44327890</td>\n",
       "      <td>527289</td>\n",
       "      <td>44314618</td>\n",
       "      <td>527253</td>\n",
       "      <td>13272</td>\n",
       "      <td>36</td>\n",
       "      <td>1.19</td>\n",
       "      <td>Asia</td>\n",
       "    </tr>\n",
       "    <tr>\n",
       "      <th>2</th>\n",
       "      <td>France</td>\n",
       "      <td>34535255</td>\n",
       "      <td>154541</td>\n",
       "      <td>34514986</td>\n",
       "      <td>154467</td>\n",
       "      <td>20269</td>\n",
       "      <td>74</td>\n",
       "      <td>0.45</td>\n",
       "      <td>Europe</td>\n",
       "    </tr>\n",
       "    <tr>\n",
       "      <th>3</th>\n",
       "      <td>Brazil</td>\n",
       "      <td>34264237</td>\n",
       "      <td>682358</td>\n",
       "      <td>34245374</td>\n",
       "      <td>682216</td>\n",
       "      <td>18863</td>\n",
       "      <td>142</td>\n",
       "      <td>1.99</td>\n",
       "      <td>South America</td>\n",
       "    </tr>\n",
       "    <tr>\n",
       "      <th>4</th>\n",
       "      <td>Germany</td>\n",
       "      <td>31808179</td>\n",
       "      <td>146504</td>\n",
       "      <td>31771884</td>\n",
       "      <td>146383</td>\n",
       "      <td>36295</td>\n",
       "      <td>121</td>\n",
       "      <td>0.46</td>\n",
       "      <td>Europe</td>\n",
       "    </tr>\n",
       "  </tbody>\n",
       "</table>\n",
       "</div>"
      ],
      "text/plain": [
       "  Country/Region     Cases   Deaths    PCases  PDeaths  Cases (+)  Deaths (+)  \\\n",
       "0             US  93500945  1040355  93403640  1039746      97305         609   \n",
       "1          India  44327890   527289  44314618   527253      13272          36   \n",
       "2         France  34535255   154541  34514986   154467      20269          74   \n",
       "3         Brazil  34264237   682358  34245374   682216      18863         142   \n",
       "4        Germany  31808179   146504  31771884   146383      36295         121   \n",
       "\n",
       "   Fatality Rate      Continent  \n",
       "0           1.11  North America  \n",
       "1           1.19           Asia  \n",
       "2           0.45         Europe  \n",
       "3           1.99  South America  \n",
       "4           0.46         Europe  "
      ]
     },
     "execution_count": 13,
     "metadata": {},
     "output_type": "execute_result"
    }
   ],
   "source": [
    "#hide\n",
    "for c in 'Cases, Deaths'.split(', '):\n",
    "    df_table[f'{c} (+)'] = (df_table[c] - df_table[f'P{c}']).clip(0)\n",
    "    #Clip ça veut dire, les chiffres negatif sont interdit\n",
    "df_table['Fatality Rate'] = (100* df_table['Deaths']/ df_table['Cases']).round(2)\n",
    "df_table['Continent'] = df_table['Country/Region'].map(mapping['map.continent'])\n",
    "df_table.head(5)"
   ]
  },
  {
   "cell_type": "code",
   "execution_count": 14,
   "id": "aboriginal-bulgaria",
   "metadata": {
    "execution": {
     "iopub.execute_input": "2022-08-20T12:15:25.114732Z",
     "iopub.status.busy": "2022-08-20T12:15:25.114164Z",
     "iopub.status.idle": "2022-08-20T12:15:25.117188Z",
     "shell.execute_reply": "2022-08-20T12:15:25.116724Z"
    },
    "papermill": {
     "duration": 0.038075,
     "end_time": "2022-08-20T12:15:25.117316",
     "exception": false,
     "start_time": "2022-08-20T12:15:25.079241",
     "status": "completed"
    },
    "tags": []
   },
   "outputs": [],
   "source": [
    "#hide\n",
    "#delete problematic countries from table\n",
    "df_table = df_table[~df_table['Country/Region'].isin(['Cape Verde', 'Cruise Ship', 'Kosovo'])]"
   ]
  },
  {
   "cell_type": "code",
   "execution_count": 15,
   "id": "fantastic-effect",
   "metadata": {
    "execution": {
     "iopub.execute_input": "2022-08-20T12:15:25.184708Z",
     "iopub.status.busy": "2022-08-20T12:15:25.184132Z",
     "iopub.status.idle": "2022-08-20T12:15:25.201017Z",
     "shell.execute_reply": "2022-08-20T12:15:25.201521Z"
    },
    "papermill": {
     "duration": 0.054724,
     "end_time": "2022-08-20T12:15:25.201644",
     "exception": false,
     "start_time": "2022-08-20T12:15:25.146920",
     "status": "completed"
    },
    "tags": []
   },
   "outputs": [
    {
     "data": {
      "text/html": [
       "<div>\n",
       "<style scoped>\n",
       "    .dataframe tbody tr th:only-of-type {\n",
       "        vertical-align: middle;\n",
       "    }\n",
       "\n",
       "    .dataframe tbody tr th {\n",
       "        vertical-align: top;\n",
       "    }\n",
       "\n",
       "    .dataframe thead th {\n",
       "        text-align: right;\n",
       "    }\n",
       "</style>\n",
       "<table border=\"1\" class=\"dataframe\">\n",
       "  <thead>\n",
       "    <tr style=\"text-align: right;\">\n",
       "      <th></th>\n",
       "      <th>Country/Region</th>\n",
       "      <th>Cases</th>\n",
       "      <th>Deaths</th>\n",
       "      <th>PCases</th>\n",
       "      <th>PDeaths</th>\n",
       "      <th>Cases (+)</th>\n",
       "      <th>Deaths (+)</th>\n",
       "      <th>Fatality Rate</th>\n",
       "      <th>Continent</th>\n",
       "    </tr>\n",
       "  </thead>\n",
       "  <tbody>\n",
       "    <tr>\n",
       "      <th>0</th>\n",
       "      <td>US</td>\n",
       "      <td>93500945</td>\n",
       "      <td>1040355</td>\n",
       "      <td>93403640</td>\n",
       "      <td>1039746</td>\n",
       "      <td>97305</td>\n",
       "      <td>609</td>\n",
       "      <td>1.1</td>\n",
       "      <td>North America</td>\n",
       "    </tr>\n",
       "    <tr>\n",
       "      <th>1</th>\n",
       "      <td>India</td>\n",
       "      <td>44327890</td>\n",
       "      <td>527289</td>\n",
       "      <td>44314618</td>\n",
       "      <td>527253</td>\n",
       "      <td>13272</td>\n",
       "      <td>36</td>\n",
       "      <td>1.2</td>\n",
       "      <td>Asia</td>\n",
       "    </tr>\n",
       "    <tr>\n",
       "      <th>2</th>\n",
       "      <td>France</td>\n",
       "      <td>34535255</td>\n",
       "      <td>154541</td>\n",
       "      <td>34514986</td>\n",
       "      <td>154467</td>\n",
       "      <td>20269</td>\n",
       "      <td>74</td>\n",
       "      <td>0.4</td>\n",
       "      <td>Europe</td>\n",
       "    </tr>\n",
       "    <tr>\n",
       "      <th>3</th>\n",
       "      <td>Brazil</td>\n",
       "      <td>34264237</td>\n",
       "      <td>682358</td>\n",
       "      <td>34245374</td>\n",
       "      <td>682216</td>\n",
       "      <td>18863</td>\n",
       "      <td>142</td>\n",
       "      <td>2.0</td>\n",
       "      <td>South America</td>\n",
       "    </tr>\n",
       "    <tr>\n",
       "      <th>4</th>\n",
       "      <td>Germany</td>\n",
       "      <td>31808179</td>\n",
       "      <td>146504</td>\n",
       "      <td>31771884</td>\n",
       "      <td>146383</td>\n",
       "      <td>36295</td>\n",
       "      <td>121</td>\n",
       "      <td>0.5</td>\n",
       "      <td>Europe</td>\n",
       "    </tr>\n",
       "  </tbody>\n",
       "</table>\n",
       "</div>"
      ],
      "text/plain": [
       "  Country/Region     Cases   Deaths    PCases  PDeaths  Cases (+)  Deaths (+)  \\\n",
       "0             US  93500945  1040355  93403640  1039746      97305         609   \n",
       "1          India  44327890   527289  44314618   527253      13272          36   \n",
       "2         France  34535255   154541  34514986   154467      20269          74   \n",
       "3         Brazil  34264237   682358  34245374   682216      18863         142   \n",
       "4        Germany  31808179   146504  31771884   146383      36295         121   \n",
       "\n",
       "   Fatality Rate      Continent  \n",
       "0            1.1  North America  \n",
       "1            1.2           Asia  \n",
       "2            0.4         Europe  \n",
       "3            2.0  South America  \n",
       "4            0.5         Europe  "
      ]
     },
     "execution_count": 15,
     "metadata": {},
     "output_type": "execute_result"
    }
   ],
   "source": [
    "#hide\n",
    "df_table = (pd.DataFrame(dict(Cases=dfc_cases, Deaths=dfc_deaths, PCases=dfp_cases, PDeaths=dfp_deaths))\n",
    "             .sort_values(by=['Cases', 'Deaths'], ascending=[False, False])\n",
    "             .reset_index())\n",
    "df_table.rename(columns={'index': 'Country/Region'}, inplace=True)\n",
    "for c in 'Cases, Deaths'.split(', '):\n",
    "    df_table[f'{c} (+)'] = (df_table[c] - df_table[f'P{c}']).clip(0)  # DATA BUG\n",
    "df_table['Fatality Rate'] = (100 * df_table['Deaths'] / df_table['Cases']).round(1)\n",
    "df_table['Continent'] = df_table['Country/Region'].map(mapping['map.continent'])\n",
    "df_table.head(5)"
   ]
  },
  {
   "cell_type": "code",
   "execution_count": 16,
   "id": "fewer-occasion",
   "metadata": {
    "execution": {
     "iopub.execute_input": "2022-08-20T12:15:25.267696Z",
     "iopub.status.busy": "2022-08-20T12:15:25.267129Z",
     "iopub.status.idle": "2022-08-20T12:15:25.269548Z",
     "shell.execute_reply": "2022-08-20T12:15:25.270104Z"
    },
    "papermill": {
     "duration": 0.038259,
     "end_time": "2022-08-20T12:15:25.270220",
     "exception": false,
     "start_time": "2022-08-20T12:15:25.231961",
     "status": "completed"
    },
    "tags": []
   },
   "outputs": [],
   "source": [
    "#hide\n",
    "#delete problematic countries from table\n",
    "df_table = df_table[~df_table['Country/Region'].isin(['Cape Verde', 'Cruise Ship', 'Kosovo'])]"
   ]
  },
  {
   "cell_type": "code",
   "execution_count": 17,
   "id": "related-center",
   "metadata": {
    "execution": {
     "iopub.execute_input": "2022-08-20T12:15:25.347973Z",
     "iopub.status.busy": "2022-08-20T12:15:25.347388Z",
     "iopub.status.idle": "2022-08-20T12:15:25.350058Z",
     "shell.execute_reply": "2022-08-20T12:15:25.349585Z"
    },
    "papermill": {
     "duration": 0.049733,
     "end_time": "2022-08-20T12:15:25.350160",
     "exception": false,
     "start_time": "2022-08-20T12:15:25.300427",
     "status": "completed"
    },
    "tags": []
   },
   "outputs": [],
   "source": [
    "#hide\n",
    "metrics = [df_table.columns[index] for index in [1,2,5,6]]\n",
    "# s_china = df_table[df_table['Country/Region'].eq('China')][metrics].sum().add_prefix('China ')\n",
    "s_us = df_table[df_table['Country/Region'].eq('US')][metrics].sum().add_prefix('US ')\n",
    "s_eu = df_table[df_table['Continent'].eq('Europe')][metrics].sum().add_prefix('EU ')\n",
    "s_ind = df_table[df_table['Country/Region'].eq('India')][metrics].sum().add_prefix('India ')\n",
    "summary = {'updated': pd.to_datetime(dt_today), 'since': pd.to_datetime(dt_yday)}\n",
    "summary = {'updated': pd.to_datetime(dt_today), 'since': pd.to_datetime(dt_yday)}\n",
    "summary = {**summary, **df_table[metrics].sum(), **s_ind, **s_us, **s_eu}"
   ]
  },
  {
   "cell_type": "code",
   "execution_count": 18,
   "id": "engaging-syndrome",
   "metadata": {
    "execution": {
     "iopub.execute_input": "2022-08-20T12:15:25.415808Z",
     "iopub.status.busy": "2022-08-20T12:15:25.415244Z",
     "iopub.status.idle": "2022-08-20T12:15:25.435477Z",
     "shell.execute_reply": "2022-08-20T12:15:25.435006Z"
    },
    "papermill": {
     "duration": 0.055054,
     "end_time": "2022-08-20T12:15:25.435582",
     "exception": false,
     "start_time": "2022-08-20T12:15:25.380528",
     "status": "completed"
    },
    "tags": []
   },
   "outputs": [],
   "source": [
    "#hide\n",
    "dft_ct_new_cases = dft_cases.groupby(COL_REGION)[dt_cols].sum().diff(axis=1).fillna(0).astype(int)"
   ]
  },
  {
   "cell_type": "code",
   "execution_count": 19,
   "id": "neutral-assignment",
   "metadata": {
    "execution": {
     "iopub.execute_input": "2022-08-20T12:15:25.500189Z",
     "iopub.status.busy": "2022-08-20T12:15:25.499613Z",
     "iopub.status.idle": "2022-08-20T12:15:25.504646Z",
     "shell.execute_reply": "2022-08-20T12:15:25.505190Z"
    },
    "papermill": {
     "duration": 0.039531,
     "end_time": "2022-08-20T12:15:25.505339",
     "exception": false,
     "start_time": "2022-08-20T12:15:25.465808",
     "status": "completed"
    },
    "tags": []
   },
   "outputs": [],
   "source": [
    "#hide\n",
    "everydaycases = dft_ct_new_cases.cumsum(axis=1)"
   ]
  },
  {
   "cell_type": "code",
   "execution_count": 20,
   "id": "parliamentary-calgary",
   "metadata": {
    "execution": {
     "iopub.execute_input": "2022-08-20T12:15:25.570320Z",
     "iopub.status.busy": "2022-08-20T12:15:25.569758Z",
     "iopub.status.idle": "2022-08-20T12:15:26.110303Z",
     "shell.execute_reply": "2022-08-20T12:15:26.111241Z"
    },
    "papermill": {
     "duration": 0.575794,
     "end_time": "2022-08-20T12:15:26.111412",
     "exception": false,
     "start_time": "2022-08-20T12:15:25.535618",
     "status": "completed"
    },
    "tags": []
   },
   "outputs": [],
   "source": [
    "#hide\n",
    "import pandas as pd\n",
    "import matplotlib.pyplot as plt\n",
    "import matplotlib.ticker as ticker\n",
    "import matplotlib.animation as animation\n",
    "from IPython.display import HTML"
   ]
  },
  {
   "cell_type": "code",
   "execution_count": 21,
   "id": "lasting-extraction",
   "metadata": {
    "execution": {
     "iopub.execute_input": "2022-08-20T12:15:26.180769Z",
     "iopub.status.busy": "2022-08-20T12:15:26.180190Z",
     "iopub.status.idle": "2022-08-20T12:15:26.188209Z",
     "shell.execute_reply": "2022-08-20T12:15:26.187741Z"
    },
    "papermill": {
     "duration": 0.046072,
     "end_time": "2022-08-20T12:15:26.188318",
     "exception": false,
     "start_time": "2022-08-20T12:15:26.142246",
     "status": "completed"
    },
    "tags": []
   },
   "outputs": [],
   "source": [
    "#hide\n",
    "t = everydaycases.stack()"
   ]
  },
  {
   "cell_type": "code",
   "execution_count": 22,
   "id": "premier-sleeve",
   "metadata": {
    "execution": {
     "iopub.execute_input": "2022-08-20T12:15:26.253383Z",
     "iopub.status.busy": "2022-08-20T12:15:26.252782Z",
     "iopub.status.idle": "2022-08-20T12:15:26.264814Z",
     "shell.execute_reply": "2022-08-20T12:15:26.265383Z"
    },
    "papermill": {
     "duration": 0.046682,
     "end_time": "2022-08-20T12:15:26.265511",
     "exception": false,
     "start_time": "2022-08-20T12:15:26.218829",
     "status": "completed"
    },
    "tags": []
   },
   "outputs": [],
   "source": [
    "#hide\n",
    "g = t.reset_index(['Country/Region'])"
   ]
  },
  {
   "cell_type": "code",
   "execution_count": 23,
   "id": "distributed-pittsburgh",
   "metadata": {
    "execution": {
     "iopub.execute_input": "2022-08-20T12:15:26.329884Z",
     "iopub.status.busy": "2022-08-20T12:15:26.329300Z",
     "iopub.status.idle": "2022-08-20T12:15:26.331967Z",
     "shell.execute_reply": "2022-08-20T12:15:26.331521Z"
    },
    "papermill": {
     "duration": 0.036417,
     "end_time": "2022-08-20T12:15:26.332076",
     "exception": false,
     "start_time": "2022-08-20T12:15:26.295659",
     "status": "completed"
    },
    "tags": []
   },
   "outputs": [],
   "source": [
    "#hide\n",
    "g.index.name = 'date'"
   ]
  },
  {
   "cell_type": "code",
   "execution_count": 24,
   "id": "naked-donor",
   "metadata": {
    "execution": {
     "iopub.execute_input": "2022-08-20T12:15:26.396798Z",
     "iopub.status.busy": "2022-08-20T12:15:26.396132Z",
     "iopub.status.idle": "2022-08-20T12:15:26.400193Z",
     "shell.execute_reply": "2022-08-20T12:15:26.399720Z"
    },
    "papermill": {
     "duration": 0.037729,
     "end_time": "2022-08-20T12:15:26.400303",
     "exception": false,
     "start_time": "2022-08-20T12:15:26.362574",
     "status": "completed"
    },
    "tags": []
   },
   "outputs": [],
   "source": [
    "# #hide\n",
    "# g = g.reset_index(['date'])"
   ]
  },
  {
   "cell_type": "code",
   "execution_count": 25,
   "id": "incomplete-mustang",
   "metadata": {
    "execution": {
     "iopub.execute_input": "2022-08-20T12:15:26.464623Z",
     "iopub.status.busy": "2022-08-20T12:15:26.463976Z",
     "iopub.status.idle": "2022-08-20T12:15:26.466610Z",
     "shell.execute_reply": "2022-08-20T12:15:26.465988Z"
    },
    "papermill": {
     "duration": 0.036072,
     "end_time": "2022-08-20T12:15:26.466728",
     "exception": false,
     "start_time": "2022-08-20T12:15:26.430656",
     "status": "completed"
    },
    "tags": []
   },
   "outputs": [],
   "source": [
    "#hide\n",
    "# g.head()"
   ]
  },
  {
   "cell_type": "code",
   "execution_count": 26,
   "id": "specific-kruger",
   "metadata": {
    "execution": {
     "iopub.execute_input": "2022-08-20T12:15:26.530986Z",
     "iopub.status.busy": "2022-08-20T12:15:26.530339Z",
     "iopub.status.idle": "2022-08-20T12:15:26.532814Z",
     "shell.execute_reply": "2022-08-20T12:15:26.532373Z"
    },
    "papermill": {
     "duration": 0.035588,
     "end_time": "2022-08-20T12:15:26.532920",
     "exception": false,
     "start_time": "2022-08-20T12:15:26.497332",
     "status": "completed"
    },
    "tags": []
   },
   "outputs": [],
   "source": [
    "#hide\n",
    "# g.columns = ['date','country','cases']"
   ]
  },
  {
   "cell_type": "code",
   "execution_count": 27,
   "id": "tender-conversion",
   "metadata": {
    "execution": {
     "iopub.execute_input": "2022-08-20T12:15:26.597214Z",
     "iopub.status.busy": "2022-08-20T12:15:26.596652Z",
     "iopub.status.idle": "2022-08-20T12:15:26.598884Z",
     "shell.execute_reply": "2022-08-20T12:15:26.599428Z"
    },
    "papermill": {
     "duration": 0.036085,
     "end_time": "2022-08-20T12:15:26.599542",
     "exception": false,
     "start_time": "2022-08-20T12:15:26.563457",
     "status": "completed"
    },
    "tags": []
   },
   "outputs": [],
   "source": [
    "#hide\n",
    "# g['continent'] = g.country"
   ]
  },
  {
   "cell_type": "code",
   "execution_count": 28,
   "id": "substantial-wilderness",
   "metadata": {
    "execution": {
     "iopub.execute_input": "2022-08-20T12:15:26.663565Z",
     "iopub.status.busy": "2022-08-20T12:15:26.663005Z",
     "iopub.status.idle": "2022-08-20T12:15:26.666791Z",
     "shell.execute_reply": "2022-08-20T12:15:26.667216Z"
    },
    "papermill": {
     "duration": 0.037493,
     "end_time": "2022-08-20T12:15:26.667332",
     "exception": false,
     "start_time": "2022-08-20T12:15:26.629839",
     "status": "completed"
    },
    "tags": []
   },
   "outputs": [],
   "source": [
    "#hide\n",
    "# cols = list(g.columns.values)"
   ]
  },
  {
   "cell_type": "code",
   "execution_count": 29,
   "id": "solved-farming",
   "metadata": {
    "execution": {
     "iopub.execute_input": "2022-08-20T12:15:26.731041Z",
     "iopub.status.busy": "2022-08-20T12:15:26.730391Z",
     "iopub.status.idle": "2022-08-20T12:15:26.732905Z",
     "shell.execute_reply": "2022-08-20T12:15:26.732377Z"
    },
    "papermill": {
     "duration": 0.035572,
     "end_time": "2022-08-20T12:15:26.733018",
     "exception": false,
     "start_time": "2022-08-20T12:15:26.697446",
     "status": "completed"
    },
    "tags": []
   },
   "outputs": [],
   "source": [
    "#hide\n",
    "# cols.insert(0, cols.pop())"
   ]
  },
  {
   "cell_type": "code",
   "execution_count": 30,
   "id": "executed-adoption",
   "metadata": {
    "execution": {
     "iopub.execute_input": "2022-08-20T12:15:26.796910Z",
     "iopub.status.busy": "2022-08-20T12:15:26.796345Z",
     "iopub.status.idle": "2022-08-20T12:15:26.800097Z",
     "shell.execute_reply": "2022-08-20T12:15:26.800511Z"
    },
    "papermill": {
     "duration": 0.037123,
     "end_time": "2022-08-20T12:15:26.800624",
     "exception": false,
     "start_time": "2022-08-20T12:15:26.763501",
     "status": "completed"
    },
    "tags": []
   },
   "outputs": [],
   "source": [
    "#hide\n",
    "# g = g[cols]"
   ]
  },
  {
   "cell_type": "code",
   "execution_count": 31,
   "id": "subject-dublin",
   "metadata": {
    "execution": {
     "iopub.execute_input": "2022-08-20T12:15:26.864441Z",
     "iopub.status.busy": "2022-08-20T12:15:26.863781Z",
     "iopub.status.idle": "2022-08-20T12:15:26.866350Z",
     "shell.execute_reply": "2022-08-20T12:15:26.865821Z"
    },
    "papermill": {
     "duration": 0.035677,
     "end_time": "2022-08-20T12:15:26.866460",
     "exception": false,
     "start_time": "2022-08-20T12:15:26.830783",
     "status": "completed"
    },
    "tags": []
   },
   "outputs": [],
   "source": [
    "#hide\n",
    "# g['continent'] = g['continent'].map(mapping['map.continent'])"
   ]
  },
  {
   "cell_type": "code",
   "execution_count": 32,
   "id": "freelance-scout",
   "metadata": {
    "execution": {
     "iopub.execute_input": "2022-08-20T12:15:26.930550Z",
     "iopub.status.busy": "2022-08-20T12:15:26.929904Z",
     "iopub.status.idle": "2022-08-20T12:15:26.934425Z",
     "shell.execute_reply": "2022-08-20T12:15:26.933896Z"
    },
    "papermill": {
     "duration": 0.037671,
     "end_time": "2022-08-20T12:15:26.934536",
     "exception": false,
     "start_time": "2022-08-20T12:15:26.896865",
     "status": "completed"
    },
    "tags": []
   },
   "outputs": [],
   "source": [
    "#hide\n",
    "# g.head()"
   ]
  },
  {
   "cell_type": "code",
   "execution_count": 33,
   "id": "limited-engine",
   "metadata": {
    "execution": {
     "iopub.execute_input": "2022-08-20T12:15:26.998778Z",
     "iopub.status.busy": "2022-08-20T12:15:26.998182Z",
     "iopub.status.idle": "2022-08-20T12:15:27.000108Z",
     "shell.execute_reply": "2022-08-20T12:15:27.000549Z"
    },
    "papermill": {
     "duration": 0.035557,
     "end_time": "2022-08-20T12:15:27.000661",
     "exception": false,
     "start_time": "2022-08-20T12:15:26.965104",
     "status": "completed"
    },
    "tags": []
   },
   "outputs": [],
   "source": [
    "# hide\n",
    "# g['date'] = g['date'].astype('datetime64[ns]')"
   ]
  },
  {
   "cell_type": "code",
   "execution_count": 34,
   "id": "sophisticated-supervisor",
   "metadata": {
    "execution": {
     "iopub.execute_input": "2022-08-20T12:15:27.064232Z",
     "iopub.status.busy": "2022-08-20T12:15:27.063654Z",
     "iopub.status.idle": "2022-08-20T12:15:27.065798Z",
     "shell.execute_reply": "2022-08-20T12:15:27.066221Z"
    },
    "papermill": {
     "duration": 0.035408,
     "end_time": "2022-08-20T12:15:27.066336",
     "exception": false,
     "start_time": "2022-08-20T12:15:27.030928",
     "status": "completed"
    },
    "tags": []
   },
   "outputs": [],
   "source": [
    "#hide\n",
    "# g['date'] = g.date.dt.dayofyear"
   ]
  },
  {
   "cell_type": "code",
   "execution_count": 35,
   "id": "inside-dubai",
   "metadata": {
    "execution": {
     "iopub.execute_input": "2022-08-20T12:15:27.131383Z",
     "iopub.status.busy": "2022-08-20T12:15:27.130779Z",
     "iopub.status.idle": "2022-08-20T12:15:27.133366Z",
     "shell.execute_reply": "2022-08-20T12:15:27.132774Z"
    },
    "papermill": {
     "duration": 0.036596,
     "end_time": "2022-08-20T12:15:27.133477",
     "exception": false,
     "start_time": "2022-08-20T12:15:27.096881",
     "status": "completed"
    },
    "tags": []
   },
   "outputs": [],
   "source": [
    "#hide\n",
    "# g = g.rename(columns= {'continent':'group','country':'name','cases':'value'})"
   ]
  },
  {
   "cell_type": "code",
   "execution_count": 36,
   "id": "fleet-motorcycle",
   "metadata": {
    "execution": {
     "iopub.execute_input": "2022-08-20T12:15:27.198026Z",
     "iopub.status.busy": "2022-08-20T12:15:27.197362Z",
     "iopub.status.idle": "2022-08-20T12:15:27.200492Z",
     "shell.execute_reply": "2022-08-20T12:15:27.199850Z"
    },
    "papermill": {
     "duration": 0.036648,
     "end_time": "2022-08-20T12:15:27.200607",
     "exception": false,
     "start_time": "2022-08-20T12:15:27.163959",
     "status": "completed"
    },
    "tags": []
   },
   "outputs": [],
   "source": [
    "#hide\n",
    "# cols = ['name','group','day','value']"
   ]
  },
  {
   "cell_type": "code",
   "execution_count": 37,
   "id": "continued-sleeping",
   "metadata": {
    "execution": {
     "iopub.execute_input": "2022-08-20T12:15:27.265611Z",
     "iopub.status.busy": "2022-08-20T12:15:27.264898Z",
     "iopub.status.idle": "2022-08-20T12:15:27.269003Z",
     "shell.execute_reply": "2022-08-20T12:15:27.268539Z"
    },
    "papermill": {
     "duration": 0.038001,
     "end_time": "2022-08-20T12:15:27.269108",
     "exception": false,
     "start_time": "2022-08-20T12:15:27.231107",
     "status": "completed"
    },
    "tags": []
   },
   "outputs": [],
   "source": [
    "#hide\n",
    "# g.rename(columns= {'date':'day'},inplace = True)"
   ]
  },
  {
   "cell_type": "code",
   "execution_count": 38,
   "id": "major-fight",
   "metadata": {
    "execution": {
     "iopub.execute_input": "2022-08-20T12:15:27.333572Z",
     "iopub.status.busy": "2022-08-20T12:15:27.332945Z",
     "iopub.status.idle": "2022-08-20T12:15:27.335515Z",
     "shell.execute_reply": "2022-08-20T12:15:27.335044Z"
    },
    "papermill": {
     "duration": 0.036147,
     "end_time": "2022-08-20T12:15:27.335623",
     "exception": false,
     "start_time": "2022-08-20T12:15:27.299476",
     "status": "completed"
    },
    "tags": []
   },
   "outputs": [],
   "source": [
    "#hide\n",
    "# g = g[cols]"
   ]
  },
  {
   "cell_type": "code",
   "execution_count": 39,
   "id": "structured-mobile",
   "metadata": {
    "execution": {
     "iopub.execute_input": "2022-08-20T12:15:27.399474Z",
     "iopub.status.busy": "2022-08-20T12:15:27.398817Z",
     "iopub.status.idle": "2022-08-20T12:15:27.401363Z",
     "shell.execute_reply": "2022-08-20T12:15:27.400708Z"
    },
    "papermill": {
     "duration": 0.035729,
     "end_time": "2022-08-20T12:15:27.401480",
     "exception": false,
     "start_time": "2022-08-20T12:15:27.365751",
     "status": "completed"
    },
    "tags": []
   },
   "outputs": [],
   "source": [
    "# #hide\n",
    "# g = g[g.group.notna()]"
   ]
  },
  {
   "cell_type": "code",
   "execution_count": 40,
   "id": "determined-closing",
   "metadata": {
    "execution": {
     "iopub.execute_input": "2022-08-20T12:15:27.466179Z",
     "iopub.status.busy": "2022-08-20T12:15:27.465581Z",
     "iopub.status.idle": "2022-08-20T12:15:27.468074Z",
     "shell.execute_reply": "2022-08-20T12:15:27.467605Z"
    },
    "papermill": {
     "duration": 0.035988,
     "end_time": "2022-08-20T12:15:27.468175",
     "exception": false,
     "start_time": "2022-08-20T12:15:27.432187",
     "status": "completed"
    },
    "tags": []
   },
   "outputs": [],
   "source": [
    "# #hide\n",
    "# colors = dict(zip(\n",
    "#     [\"Oceania\", \"Europe\", \"Asia\", \"South America\", \"Middle East\", \"North America\", \"Africa\"],\n",
    "#     [\"#adb0ff\", \"#ffb3ff\", \"#90d595\", \"#e48381\", \"#aafbff\", \"#f7bb5f\", \"#eafb50\"]\n",
    "# ))\n",
    "# group_lk = g.set_index('name')['group'].to_dict()"
   ]
  },
  {
   "cell_type": "code",
   "execution_count": null,
   "id": "gross-drinking",
   "metadata": {
    "papermill": {
     "duration": 0.030146,
     "end_time": "2022-08-20T12:15:27.528505",
     "exception": false,
     "start_time": "2022-08-20T12:15:27.498359",
     "status": "completed"
    },
    "tags": []
   },
   "outputs": [],
   "source": []
  },
  {
   "cell_type": "code",
   "execution_count": 41,
   "id": "subject-macintosh",
   "metadata": {
    "execution": {
     "iopub.execute_input": "2022-08-20T12:15:27.593178Z",
     "iopub.status.busy": "2022-08-20T12:15:27.592594Z",
     "iopub.status.idle": "2022-08-20T12:15:27.595618Z",
     "shell.execute_reply": "2022-08-20T12:15:27.595155Z"
    },
    "papermill": {
     "duration": 0.037008,
     "end_time": "2022-08-20T12:15:27.595720",
     "exception": false,
     "start_time": "2022-08-20T12:15:27.558712",
     "status": "completed"
    },
    "tags": []
   },
   "outputs": [],
   "source": [
    "# #hide\n",
    "# fig, ax = plt.subplots(figsize=(15, 8))\n",
    "\n",
    "# def draw_barchart(current_day):\n",
    "#     dff = g[g['day'].eq(current_day)].sort_values(by='value', ascending=True).tail(10)\n",
    "#     ax.clear()\n",
    "#     ax.barh(dff['name'], dff['value'], color=[colors[group_lk[x]] for x in dff['name']])\n",
    "#     dx = dff['value'].max() / 200\n",
    "    \n",
    "#     for i, (value, name) in enumerate(zip(dff['value'], dff['name'])):\n",
    "#         ax.text(value-dx, i,     name,           size=14, weight=600, ha='right', va='bottom')\n",
    "#         ax.text(value-dx, i-.25, group_lk[name], size=10, color='#444444', ha='right', va='baseline')\n",
    "#         ax.text(value+dx, i,     f'{value:,.0f}',  size=14, ha='left',  va='center')\n",
    "#     ax.text(1, 0.4, current_day, transform=ax.transAxes, color='#777777', size=46, ha='right', weight=800)\n",
    "#     ax.text(0, 1.06, 'Population (thousands)', transform=ax.transAxes, size=12, color='#777777')\n",
    "#     ax.xaxis.set_major_formatter(ticker.StrMethodFormatter('{x:,.0f}'))\n",
    "#     ax.xaxis.set_ticks_position('top')\n",
    "#     ax.tick_params(axis='x', colors='#777777', labelsize=12)\n",
    "#     ax.set_yticks([])\n",
    "#     ax.margins(0, 0.01)\n",
    "#     ax.grid(which='major', axis='x', linestyle='-')\n",
    "#     ax.set_axisbelow(True)\n",
    "    \n",
    "#     ax.text(0, 1.15, 'Coronavirus',\n",
    "#             transform=ax.transAxes, size=24, weight=600, ha='left', va='top')\n",
    "# #     ax.text(1, 0, 'by @pratapvardhan; credit @jburnmurdoch', transform=ax.transAxes, color='#777777', ha='right',\n",
    "# #             bbox=dict(facecolor='white', alpha=0.8, edgecolor='white'))\n",
    "#     plt.box(False)"
   ]
  },
  {
   "cell_type": "code",
   "execution_count": 42,
   "id": "sexual-wages",
   "metadata": {
    "execution": {
     "iopub.execute_input": "2022-08-20T12:15:27.659969Z",
     "iopub.status.busy": "2022-08-20T12:15:27.659319Z",
     "iopub.status.idle": "2022-08-20T12:15:27.663079Z",
     "shell.execute_reply": "2022-08-20T12:15:27.663580Z"
    },
    "papermill": {
     "duration": 0.037835,
     "end_time": "2022-08-20T12:15:27.663707",
     "exception": false,
     "start_time": "2022-08-20T12:15:27.625872",
     "status": "completed"
    },
    "tags": []
   },
   "outputs": [],
   "source": [
    "# #hide_input\n",
    "# fig, ax = plt.subplots(figsize=(15, 8))\n",
    "# animator = animation.FuncAnimation(fig, draw_barchart, frames=range(g.day.values.min(), g.day.values.max()))\n",
    "# HTML(animator.to_jshtml())\n",
    "# # or use animator.to_html5_video() or animator.save() "
   ]
  },
  {
   "cell_type": "code",
   "execution_count": null,
   "id": "australian-container",
   "metadata": {
    "papermill": {
     "duration": 0.030101,
     "end_time": "2022-08-20T12:15:27.724592",
     "exception": false,
     "start_time": "2022-08-20T12:15:27.694491",
     "status": "completed"
    },
    "tags": []
   },
   "outputs": [],
   "source": []
  },
  {
   "cell_type": "code",
   "execution_count": null,
   "id": "mediterranean-pontiac",
   "metadata": {
    "papermill": {
     "duration": 0.030312,
     "end_time": "2022-08-20T12:15:27.785072",
     "exception": false,
     "start_time": "2022-08-20T12:15:27.754760",
     "status": "completed"
    },
    "tags": []
   },
   "outputs": [],
   "source": []
  },
  {
   "cell_type": "code",
   "execution_count": null,
   "id": "aging-legislature",
   "metadata": {
    "papermill": {
     "duration": 0.030186,
     "end_time": "2022-08-20T12:15:27.847157",
     "exception": false,
     "start_time": "2022-08-20T12:15:27.816971",
     "status": "completed"
    },
    "tags": []
   },
   "outputs": [],
   "source": []
  }
 ],
 "metadata": {
  "kernelspec": {
   "display_name": "Python 3",
   "language": "python",
   "name": "python3"
  },
  "language_info": {
   "codemirror_mode": {
    "name": "ipython",
    "version": 3
   },
   "file_extension": ".py",
   "mimetype": "text/x-python",
   "name": "python",
   "nbconvert_exporter": "python",
   "pygments_lexer": "ipython3",
   "version": "3.6.15"
  },
  "papermill": {
   "duration": 5.940797,
   "end_time": "2022-08-20T12:15:28.196100",
   "environment_variables": {},
   "exception": null,
   "input_path": "2020-03-21-covid19exp.ipynb",
   "output_path": "2020-03-21-covid19exp.ipynb",
   "parameters": {},
   "start_time": "2022-08-20T12:15:22.255303",
   "version": "2.0.0"
  }
 },
 "nbformat": 4,
 "nbformat_minor": 5
}