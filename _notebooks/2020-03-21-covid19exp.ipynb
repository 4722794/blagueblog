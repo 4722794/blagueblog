{
 "cells": [
  {
   "cell_type": "markdown",
   "metadata": {
    "papermill": {
     "duration": 0.033105,
     "end_time": "2020-12-19T00:13:41.335113",
     "exception": false,
     "start_time": "2020-12-19T00:13:41.302008",
     "status": "completed"
    },
    "tags": []
   },
   "source": [
    "# COVID-19 Case Race\n",
    "> A race chart to see rising cases around the world\n",
    "\n",
    "- author: Hargun Oberoi\n",
    "- image: images/covid-overview.png\n",
    "- hide: false\n",
    "- badges: false"
   ]
  },
  {
   "cell_type": "code",
   "execution_count": 1,
   "metadata": {
    "execution": {
     "iopub.execute_input": "2020-12-19T00:13:41.408848Z",
     "iopub.status.busy": "2020-12-19T00:13:41.408092Z",
     "iopub.status.idle": "2020-12-19T00:13:41.726184Z",
     "shell.execute_reply": "2020-12-19T00:13:41.726697Z"
    },
    "papermill": {
     "duration": 0.36262,
     "end_time": "2020-12-19T00:13:41.726900",
     "exception": false,
     "start_time": "2020-12-19T00:13:41.364280",
     "status": "completed"
    },
    "tags": []
   },
   "outputs": [],
   "source": [
    "#hide\n",
    "import numpy as np\n",
    "import pandas as pd\n",
    "from jinja2 import Template\n",
    "from IPython.display import HTML"
   ]
  },
  {
   "cell_type": "code",
   "execution_count": 2,
   "metadata": {
    "execution": {
     "iopub.execute_input": "2020-12-19T00:13:41.792679Z",
     "iopub.status.busy": "2020-12-19T00:13:41.792016Z",
     "iopub.status.idle": "2020-12-19T00:13:41.794558Z",
     "shell.execute_reply": "2020-12-19T00:13:41.794019Z"
    },
    "papermill": {
     "duration": 0.036163,
     "end_time": "2020-12-19T00:13:41.794695",
     "exception": false,
     "start_time": "2020-12-19T00:13:41.758532",
     "status": "completed"
    },
    "tags": []
   },
   "outputs": [],
   "source": [
    "#hide\n",
    "\n",
    "# FETCH\n",
    "base_url = 'https://raw.githubusercontent.com/pratapvardhan/notebooks/master/covid19/'\n",
    "paths = {\n",
    "    'mapping': base_url + 'mapping_countries.csv',\n",
    "    'overview': base_url + 'overview.tpl'\n",
    "}"
   ]
  },
  {
   "cell_type": "code",
   "execution_count": 3,
   "metadata": {
    "execution": {
     "iopub.execute_input": "2020-12-19T00:13:41.869070Z",
     "iopub.status.busy": "2020-12-19T00:13:41.868449Z",
     "iopub.status.idle": "2020-12-19T00:13:41.870990Z",
     "shell.execute_reply": "2020-12-19T00:13:41.871537Z"
    },
    "papermill": {
     "duration": 0.044626,
     "end_time": "2020-12-19T00:13:41.871676",
     "exception": false,
     "start_time": "2020-12-19T00:13:41.827050",
     "status": "completed"
    },
    "tags": []
   },
   "outputs": [
    {
     "data": {
      "text/plain": [
       "'https://raw.githubusercontent.com/pratapvardhan/notebooks/master/covid19/mapping_countries.csv'"
      ]
     },
     "execution_count": 3,
     "metadata": {},
     "output_type": "execute_result"
    }
   ],
   "source": [
    "#hide\n",
    "paths['mapping']"
   ]
  },
  {
   "cell_type": "code",
   "execution_count": 4,
   "metadata": {
    "execution": {
     "iopub.execute_input": "2020-12-19T00:13:41.938730Z",
     "iopub.status.busy": "2020-12-19T00:13:41.938074Z",
     "iopub.status.idle": "2020-12-19T00:13:41.940566Z",
     "shell.execute_reply": "2020-12-19T00:13:41.940027Z"
    },
    "papermill": {
     "duration": 0.040003,
     "end_time": "2020-12-19T00:13:41.940698",
     "exception": false,
     "start_time": "2020-12-19T00:13:41.900695",
     "status": "completed"
    },
    "tags": []
   },
   "outputs": [],
   "source": [
    "#hide\n",
    "def get_mappings(url):\n",
    "    df = pd.read_csv(url)\n",
    "    return {\n",
    "        'df': df,\n",
    "        'replace.country': dict(df.dropna(subset=['Name']).set_index('Country')['Name']),\n",
    "        'map.continent': dict(df.set_index('Name')['Continent'])\n",
    "    }"
   ]
  },
  {
   "cell_type": "code",
   "execution_count": 5,
   "metadata": {
    "execution": {
     "iopub.execute_input": "2020-12-19T00:13:42.003659Z",
     "iopub.status.busy": "2020-12-19T00:13:42.003046Z",
     "iopub.status.idle": "2020-12-19T00:13:42.048746Z",
     "shell.execute_reply": "2020-12-19T00:13:42.049300Z"
    },
    "papermill": {
     "duration": 0.080023,
     "end_time": "2020-12-19T00:13:42.049456",
     "exception": false,
     "start_time": "2020-12-19T00:13:41.969433",
     "status": "completed"
    },
    "tags": []
   },
   "outputs": [],
   "source": [
    "#hide\n",
    "mapping = get_mappings(paths['mapping'])"
   ]
  },
  {
   "cell_type": "code",
   "execution_count": 6,
   "metadata": {
    "execution": {
     "iopub.execute_input": "2020-12-19T00:13:42.119422Z",
     "iopub.status.busy": "2020-12-19T00:13:42.118760Z",
     "iopub.status.idle": "2020-12-19T00:13:42.121286Z",
     "shell.execute_reply": "2020-12-19T00:13:42.120688Z"
    },
    "papermill": {
     "duration": 0.039876,
     "end_time": "2020-12-19T00:13:42.121415",
     "exception": false,
     "start_time": "2020-12-19T00:13:42.081539",
     "status": "completed"
    },
    "tags": []
   },
   "outputs": [],
   "source": [
    "#hide\n",
    "def get_template(path):\n",
    "    from urllib.parse import urlparse\n",
    "    if bool(urlparse(path).netloc):\n",
    "        from urllib.request import urlopen\n",
    "        return urlopen(path).read().decode('utf8')\n",
    "    return open(path).read()"
   ]
  },
  {
   "cell_type": "code",
   "execution_count": 7,
   "metadata": {
    "execution": {
     "iopub.execute_input": "2020-12-19T00:13:42.184802Z",
     "iopub.status.busy": "2020-12-19T00:13:42.184216Z",
     "iopub.status.idle": "2020-12-19T00:13:42.186411Z",
     "shell.execute_reply": "2020-12-19T00:13:42.186917Z"
    },
    "papermill": {
     "duration": 0.03497,
     "end_time": "2020-12-19T00:13:42.187209",
     "exception": false,
     "start_time": "2020-12-19T00:13:42.152239",
     "status": "completed"
    },
    "tags": []
   },
   "outputs": [],
   "source": [
    "#hide\n",
    "def get_frame(name):\n",
    "    url = (\n",
    "        'https://raw.githubusercontent.com/CSSEGISandData/COVID-19/master/csse_covid_19_data/'\n",
    "        f'csse_covid_19_time_series/time_series_covid19_{name}_global.csv')\n",
    "    df = pd.read_csv(url)\n",
    "    # rename countries\n",
    "    df['Country/Region'] = df['Country/Region'].replace(mapping['replace.country'])\n",
    "    return df"
   ]
  },
  {
   "cell_type": "code",
   "execution_count": 8,
   "metadata": {
    "execution": {
     "iopub.execute_input": "2020-12-19T00:13:42.255399Z",
     "iopub.status.busy": "2020-12-19T00:13:42.254741Z",
     "iopub.status.idle": "2020-12-19T00:13:42.257470Z",
     "shell.execute_reply": "2020-12-19T00:13:42.256939Z"
    },
    "papermill": {
     "duration": 0.040159,
     "end_time": "2020-12-19T00:13:42.257603",
     "exception": false,
     "start_time": "2020-12-19T00:13:42.217444",
     "status": "completed"
    },
    "tags": []
   },
   "outputs": [],
   "source": [
    "#hide\n",
    "def get_dates(df):\n",
    "    dt_cols = df.columns[~df.columns.isin(['Province/State', 'Country/Region', 'Lat', 'Long'])]\n",
    "    LAST_DATE_I = -1\n",
    "    # sometimes last column may be empty, then go backwards\n",
    "    for i in range(-1, -len(dt_cols), -1):\n",
    "        if not df[dt_cols[i]].fillna(0).eq(0).all():\n",
    "            LAST_DATE_I = i\n",
    "            break\n",
    "    return LAST_DATE_I, dt_cols"
   ]
  },
  {
   "cell_type": "code",
   "execution_count": 9,
   "metadata": {
    "execution": {
     "iopub.execute_input": "2020-12-19T00:13:42.325921Z",
     "iopub.status.busy": "2020-12-19T00:13:42.325204Z",
     "iopub.status.idle": "2020-12-19T00:13:42.634992Z",
     "shell.execute_reply": "2020-12-19T00:13:42.634416Z"
    },
    "papermill": {
     "duration": 0.345599,
     "end_time": "2020-12-19T00:13:42.635144",
     "exception": false,
     "start_time": "2020-12-19T00:13:42.289545",
     "status": "completed"
    },
    "tags": []
   },
   "outputs": [],
   "source": [
    "#hide\n",
    "COL_REGION = 'Country/Region'\n",
    "# Confirmed, Recovered, Deaths\n",
    "df = get_frame('confirmed')\n",
    "# dft_: timeseries, dfc_: today country agg\n",
    "dft_cases = df\n",
    "dft_deaths = get_frame('deaths')\n",
    "dft_recovered = get_frame('recovered')\n",
    "LAST_DATE_I, dt_cols = get_dates(df)"
   ]
  },
  {
   "cell_type": "code",
   "execution_count": 10,
   "metadata": {
    "execution": {
     "iopub.execute_input": "2020-12-19T00:13:42.705368Z",
     "iopub.status.busy": "2020-12-19T00:13:42.704737Z",
     "iopub.status.idle": "2020-12-19T00:13:42.710485Z",
     "shell.execute_reply": "2020-12-19T00:13:42.711049Z"
    },
    "papermill": {
     "duration": 0.042857,
     "end_time": "2020-12-19T00:13:42.711183",
     "exception": false,
     "start_time": "2020-12-19T00:13:42.668326",
     "status": "completed"
    },
    "tags": []
   },
   "outputs": [],
   "source": [
    "#hide\n",
    "LAST_DATE_I, dt_cols = get_dates(df)\n",
    "dt_today =dt_cols[LAST_DATE_I]\n",
    "# dt_5day = dt_cols[LAST_DATE_I - 5]\n",
    "dt_yday = dt_cols[LAST_DATE_I - 1]"
   ]
  },
  {
   "cell_type": "code",
   "execution_count": 11,
   "metadata": {
    "execution": {
     "iopub.execute_input": "2020-12-19T00:13:42.776810Z",
     "iopub.status.busy": "2020-12-19T00:13:42.776177Z",
     "iopub.status.idle": "2020-12-19T00:13:42.785607Z",
     "shell.execute_reply": "2020-12-19T00:13:42.785042Z"
    },
    "papermill": {
     "duration": 0.046002,
     "end_time": "2020-12-19T00:13:42.785735",
     "exception": false,
     "start_time": "2020-12-19T00:13:42.739733",
     "status": "completed"
    },
    "tags": []
   },
   "outputs": [],
   "source": [
    "#hide\n",
    "dfc_cases = dft_cases.groupby(COL_REGION)[dt_today].sum()\n",
    "dfc_deaths = dft_deaths.groupby(COL_REGION)[dt_today].sum()\n",
    "# dfp_cases = dft_cases.groupby(COL_REGION)[dt_5day].sum()\n",
    "# dfp_deaths = dft_deaths.groupby(COL_REGION)[dt_5day].sum()\n",
    "dfp_cases = dft_cases.groupby(COL_REGION)[dt_yday].sum()\n",
    "dfp_deaths = dft_deaths.groupby(COL_REGION)[dt_yday].sum()"
   ]
  },
  {
   "cell_type": "code",
   "execution_count": 12,
   "metadata": {
    "execution": {
     "iopub.execute_input": "2020-12-19T00:13:42.853880Z",
     "iopub.status.busy": "2020-12-19T00:13:42.853236Z",
     "iopub.status.idle": "2020-12-19T00:13:42.857636Z",
     "shell.execute_reply": "2020-12-19T00:13:42.858208Z"
    },
    "papermill": {
     "duration": 0.042025,
     "end_time": "2020-12-19T00:13:42.858345",
     "exception": false,
     "start_time": "2020-12-19T00:13:42.816320",
     "status": "completed"
    },
    "tags": []
   },
   "outputs": [],
   "source": [
    "#hide\n",
    "df_table = (pd.DataFrame(dict(Cases = dfc_cases, Deaths = dfc_deaths, PCases = dfp_cases, PDeaths = dfp_deaths))\n",
    "            .sort_values(by = ['Cases','Deaths'], ascending = [False, False])\n",
    "            .reset_index())"
   ]
  },
  {
   "cell_type": "code",
   "execution_count": 13,
   "metadata": {
    "execution": {
     "iopub.execute_input": "2020-12-19T00:13:42.942079Z",
     "iopub.status.busy": "2020-12-19T00:13:42.941419Z",
     "iopub.status.idle": "2020-12-19T00:13:42.948690Z",
     "shell.execute_reply": "2020-12-19T00:13:42.949381Z"
    },
    "papermill": {
     "duration": 0.055837,
     "end_time": "2020-12-19T00:13:42.949540",
     "exception": false,
     "start_time": "2020-12-19T00:13:42.893703",
     "status": "completed"
    },
    "tags": []
   },
   "outputs": [
    {
     "data": {
      "text/html": [
       "<div>\n",
       "<style scoped>\n",
       "    .dataframe tbody tr th:only-of-type {\n",
       "        vertical-align: middle;\n",
       "    }\n",
       "\n",
       "    .dataframe tbody tr th {\n",
       "        vertical-align: top;\n",
       "    }\n",
       "\n",
       "    .dataframe thead th {\n",
       "        text-align: right;\n",
       "    }\n",
       "</style>\n",
       "<table border=\"1\" class=\"dataframe\">\n",
       "  <thead>\n",
       "    <tr style=\"text-align: right;\">\n",
       "      <th></th>\n",
       "      <th>Country/Region</th>\n",
       "      <th>Cases</th>\n",
       "      <th>Deaths</th>\n",
       "      <th>PCases</th>\n",
       "      <th>PDeaths</th>\n",
       "      <th>Cases (+)</th>\n",
       "      <th>Deaths (+)</th>\n",
       "      <th>Fatality Rate</th>\n",
       "      <th>Continent</th>\n",
       "    </tr>\n",
       "  </thead>\n",
       "  <tbody>\n",
       "    <tr>\n",
       "      <th>0</th>\n",
       "      <td>US</td>\n",
       "      <td>17209587</td>\n",
       "      <td>310774</td>\n",
       "      <td>16973376</td>\n",
       "      <td>307429</td>\n",
       "      <td>236211</td>\n",
       "      <td>3345</td>\n",
       "      <td>1.81</td>\n",
       "      <td>North America</td>\n",
       "    </tr>\n",
       "    <tr>\n",
       "      <th>1</th>\n",
       "      <td>India</td>\n",
       "      <td>9979447</td>\n",
       "      <td>144789</td>\n",
       "      <td>9956557</td>\n",
       "      <td>144451</td>\n",
       "      <td>22890</td>\n",
       "      <td>338</td>\n",
       "      <td>1.45</td>\n",
       "      <td>Asia</td>\n",
       "    </tr>\n",
       "    <tr>\n",
       "      <th>2</th>\n",
       "      <td>Brazil</td>\n",
       "      <td>7110434</td>\n",
       "      <td>184827</td>\n",
       "      <td>7040608</td>\n",
       "      <td>183735</td>\n",
       "      <td>69826</td>\n",
       "      <td>1092</td>\n",
       "      <td>2.60</td>\n",
       "      <td>South America</td>\n",
       "    </tr>\n",
       "    <tr>\n",
       "      <th>3</th>\n",
       "      <td>Russia</td>\n",
       "      <td>2736727</td>\n",
       "      <td>48568</td>\n",
       "      <td>2708940</td>\n",
       "      <td>47994</td>\n",
       "      <td>27787</td>\n",
       "      <td>574</td>\n",
       "      <td>1.77</td>\n",
       "      <td>Europe</td>\n",
       "    </tr>\n",
       "    <tr>\n",
       "      <th>4</th>\n",
       "      <td>France</td>\n",
       "      <td>2483524</td>\n",
       "      <td>59733</td>\n",
       "      <td>2465126</td>\n",
       "      <td>59472</td>\n",
       "      <td>18398</td>\n",
       "      <td>261</td>\n",
       "      <td>2.41</td>\n",
       "      <td>Europe</td>\n",
       "    </tr>\n",
       "  </tbody>\n",
       "</table>\n",
       "</div>"
      ],
      "text/plain": [
       "  Country/Region     Cases  Deaths    PCases  PDeaths  Cases (+)  Deaths (+)  \\\n",
       "0             US  17209587  310774  16973376   307429     236211        3345   \n",
       "1          India   9979447  144789   9956557   144451      22890         338   \n",
       "2         Brazil   7110434  184827   7040608   183735      69826        1092   \n",
       "3         Russia   2736727   48568   2708940    47994      27787         574   \n",
       "4         France   2483524   59733   2465126    59472      18398         261   \n",
       "\n",
       "   Fatality Rate      Continent  \n",
       "0           1.81  North America  \n",
       "1           1.45           Asia  \n",
       "2           2.60  South America  \n",
       "3           1.77         Europe  \n",
       "4           2.41         Europe  "
      ]
     },
     "execution_count": 13,
     "metadata": {},
     "output_type": "execute_result"
    }
   ],
   "source": [
    "#hide\n",
    "for c in 'Cases, Deaths'.split(', '):\n",
    "    df_table[f'{c} (+)'] = (df_table[c] - df_table[f'P{c}']).clip(0)\n",
    "    #Clip ça veut dire, les chiffres negatif sont interdit\n",
    "df_table['Fatality Rate'] = (100* df_table['Deaths']/ df_table['Cases']).round(2)\n",
    "df_table['Continent'] = df_table['Country/Region'].map(mapping['map.continent'])\n",
    "df_table.head(5)"
   ]
  },
  {
   "cell_type": "code",
   "execution_count": 14,
   "metadata": {
    "execution": {
     "iopub.execute_input": "2020-12-19T00:13:43.015598Z",
     "iopub.status.busy": "2020-12-19T00:13:43.014828Z",
     "iopub.status.idle": "2020-12-19T00:13:43.017915Z",
     "shell.execute_reply": "2020-12-19T00:13:43.018473Z"
    },
    "papermill": {
     "duration": 0.037661,
     "end_time": "2020-12-19T00:13:43.018605",
     "exception": false,
     "start_time": "2020-12-19T00:13:42.980944",
     "status": "completed"
    },
    "tags": []
   },
   "outputs": [],
   "source": [
    "#hide\n",
    "#delete problematic countries from table\n",
    "df_table = df_table[~df_table['Country/Region'].isin(['Cape Verde', 'Cruise Ship', 'Kosovo'])]"
   ]
  },
  {
   "cell_type": "code",
   "execution_count": 15,
   "metadata": {
    "execution": {
     "iopub.execute_input": "2020-12-19T00:13:43.089812Z",
     "iopub.status.busy": "2020-12-19T00:13:43.089174Z",
     "iopub.status.idle": "2020-12-19T00:13:43.109578Z",
     "shell.execute_reply": "2020-12-19T00:13:43.109016Z"
    },
    "papermill": {
     "duration": 0.061172,
     "end_time": "2020-12-19T00:13:43.109735",
     "exception": false,
     "start_time": "2020-12-19T00:13:43.048563",
     "status": "completed"
    },
    "tags": []
   },
   "outputs": [
    {
     "data": {
      "text/html": [
       "<div>\n",
       "<style scoped>\n",
       "    .dataframe tbody tr th:only-of-type {\n",
       "        vertical-align: middle;\n",
       "    }\n",
       "\n",
       "    .dataframe tbody tr th {\n",
       "        vertical-align: top;\n",
       "    }\n",
       "\n",
       "    .dataframe thead th {\n",
       "        text-align: right;\n",
       "    }\n",
       "</style>\n",
       "<table border=\"1\" class=\"dataframe\">\n",
       "  <thead>\n",
       "    <tr style=\"text-align: right;\">\n",
       "      <th></th>\n",
       "      <th>Country/Region</th>\n",
       "      <th>Cases</th>\n",
       "      <th>Deaths</th>\n",
       "      <th>PCases</th>\n",
       "      <th>PDeaths</th>\n",
       "      <th>Cases (+)</th>\n",
       "      <th>Deaths (+)</th>\n",
       "      <th>Fatality Rate</th>\n",
       "      <th>Continent</th>\n",
       "    </tr>\n",
       "  </thead>\n",
       "  <tbody>\n",
       "    <tr>\n",
       "      <th>0</th>\n",
       "      <td>US</td>\n",
       "      <td>17209587</td>\n",
       "      <td>310774</td>\n",
       "      <td>16973376</td>\n",
       "      <td>307429</td>\n",
       "      <td>236211</td>\n",
       "      <td>3345</td>\n",
       "      <td>1.8</td>\n",
       "      <td>North America</td>\n",
       "    </tr>\n",
       "    <tr>\n",
       "      <th>1</th>\n",
       "      <td>India</td>\n",
       "      <td>9979447</td>\n",
       "      <td>144789</td>\n",
       "      <td>9956557</td>\n",
       "      <td>144451</td>\n",
       "      <td>22890</td>\n",
       "      <td>338</td>\n",
       "      <td>1.5</td>\n",
       "      <td>Asia</td>\n",
       "    </tr>\n",
       "    <tr>\n",
       "      <th>2</th>\n",
       "      <td>Brazil</td>\n",
       "      <td>7110434</td>\n",
       "      <td>184827</td>\n",
       "      <td>7040608</td>\n",
       "      <td>183735</td>\n",
       "      <td>69826</td>\n",
       "      <td>1092</td>\n",
       "      <td>2.6</td>\n",
       "      <td>South America</td>\n",
       "    </tr>\n",
       "    <tr>\n",
       "      <th>3</th>\n",
       "      <td>Russia</td>\n",
       "      <td>2736727</td>\n",
       "      <td>48568</td>\n",
       "      <td>2708940</td>\n",
       "      <td>47994</td>\n",
       "      <td>27787</td>\n",
       "      <td>574</td>\n",
       "      <td>1.8</td>\n",
       "      <td>Europe</td>\n",
       "    </tr>\n",
       "    <tr>\n",
       "      <th>4</th>\n",
       "      <td>France</td>\n",
       "      <td>2483524</td>\n",
       "      <td>59733</td>\n",
       "      <td>2465126</td>\n",
       "      <td>59472</td>\n",
       "      <td>18398</td>\n",
       "      <td>261</td>\n",
       "      <td>2.4</td>\n",
       "      <td>Europe</td>\n",
       "    </tr>\n",
       "  </tbody>\n",
       "</table>\n",
       "</div>"
      ],
      "text/plain": [
       "  Country/Region     Cases  Deaths    PCases  PDeaths  Cases (+)  Deaths (+)  \\\n",
       "0             US  17209587  310774  16973376   307429     236211        3345   \n",
       "1          India   9979447  144789   9956557   144451      22890         338   \n",
       "2         Brazil   7110434  184827   7040608   183735      69826        1092   \n",
       "3         Russia   2736727   48568   2708940    47994      27787         574   \n",
       "4         France   2483524   59733   2465126    59472      18398         261   \n",
       "\n",
       "   Fatality Rate      Continent  \n",
       "0            1.8  North America  \n",
       "1            1.5           Asia  \n",
       "2            2.6  South America  \n",
       "3            1.8         Europe  \n",
       "4            2.4         Europe  "
      ]
     },
     "execution_count": 15,
     "metadata": {},
     "output_type": "execute_result"
    }
   ],
   "source": [
    "#hide\n",
    "df_table = (pd.DataFrame(dict(Cases=dfc_cases, Deaths=dfc_deaths, PCases=dfp_cases, PDeaths=dfp_deaths))\n",
    "             .sort_values(by=['Cases', 'Deaths'], ascending=[False, False])\n",
    "             .reset_index())\n",
    "df_table.rename(columns={'index': 'Country/Region'}, inplace=True)\n",
    "for c in 'Cases, Deaths'.split(', '):\n",
    "    df_table[f'{c} (+)'] = (df_table[c] - df_table[f'P{c}']).clip(0)  # DATA BUG\n",
    "df_table['Fatality Rate'] = (100 * df_table['Deaths'] / df_table['Cases']).round(1)\n",
    "df_table['Continent'] = df_table['Country/Region'].map(mapping['map.continent'])\n",
    "df_table.head(5)"
   ]
  },
  {
   "cell_type": "code",
   "execution_count": 16,
   "metadata": {
    "execution": {
     "iopub.execute_input": "2020-12-19T00:13:43.177585Z",
     "iopub.status.busy": "2020-12-19T00:13:43.177001Z",
     "iopub.status.idle": "2020-12-19T00:13:43.179759Z",
     "shell.execute_reply": "2020-12-19T00:13:43.180321Z"
    },
    "papermill": {
     "duration": 0.03819,
     "end_time": "2020-12-19T00:13:43.180452",
     "exception": false,
     "start_time": "2020-12-19T00:13:43.142262",
     "status": "completed"
    },
    "tags": []
   },
   "outputs": [],
   "source": [
    "#hide\n",
    "#delete problematic countries from table\n",
    "df_table = df_table[~df_table['Country/Region'].isin(['Cape Verde', 'Cruise Ship', 'Kosovo'])]"
   ]
  },
  {
   "cell_type": "code",
   "execution_count": 17,
   "metadata": {
    "execution": {
     "iopub.execute_input": "2020-12-19T00:13:43.247431Z",
     "iopub.status.busy": "2020-12-19T00:13:43.246842Z",
     "iopub.status.idle": "2020-12-19T00:13:43.261208Z",
     "shell.execute_reply": "2020-12-19T00:13:43.261714Z"
    },
    "papermill": {
     "duration": 0.050086,
     "end_time": "2020-12-19T00:13:43.261861",
     "exception": false,
     "start_time": "2020-12-19T00:13:43.211775",
     "status": "completed"
    },
    "tags": []
   },
   "outputs": [],
   "source": [
    "#hide\n",
    "metrics = [df_table.columns[index] for index in [1,2,5,6]]\n",
    "# s_china = df_table[df_table['Country/Region'].eq('China')][metrics].sum().add_prefix('China ')\n",
    "s_us = df_table[df_table['Country/Region'].eq('US')][metrics].sum().add_prefix('US ')\n",
    "s_eu = df_table[df_table['Continent'].eq('Europe')][metrics].sum().add_prefix('EU ')\n",
    "s_ind = df_table[df_table['Country/Region'].eq('India')][metrics].sum().add_prefix('India ')\n",
    "summary = {'updated': pd.to_datetime(dt_today), 'since': pd.to_datetime(dt_yday)}\n",
    "summary = {'updated': pd.to_datetime(dt_today), 'since': pd.to_datetime(dt_yday)}\n",
    "summary = {**summary, **df_table[metrics].sum(), **s_ind, **s_us, **s_eu}"
   ]
  },
  {
   "cell_type": "code",
   "execution_count": 18,
   "metadata": {
    "execution": {
     "iopub.execute_input": "2020-12-19T00:13:43.333688Z",
     "iopub.status.busy": "2020-12-19T00:13:43.333089Z",
     "iopub.status.idle": "2020-12-19T00:13:43.342936Z",
     "shell.execute_reply": "2020-12-19T00:13:43.343902Z"
    },
    "papermill": {
     "duration": 0.047198,
     "end_time": "2020-12-19T00:13:43.344059",
     "exception": false,
     "start_time": "2020-12-19T00:13:43.296861",
     "status": "completed"
    },
    "tags": []
   },
   "outputs": [],
   "source": [
    "#hide\n",
    "dft_ct_new_cases = dft_cases.groupby(COL_REGION)[dt_cols].sum().diff(axis=1).fillna(0).astype(int)"
   ]
  },
  {
   "cell_type": "code",
   "execution_count": 19,
   "metadata": {
    "execution": {
     "iopub.execute_input": "2020-12-19T00:13:43.411390Z",
     "iopub.status.busy": "2020-12-19T00:13:43.410715Z",
     "iopub.status.idle": "2020-12-19T00:13:43.412770Z",
     "shell.execute_reply": "2020-12-19T00:13:43.413429Z"
    },
    "papermill": {
     "duration": 0.038248,
     "end_time": "2020-12-19T00:13:43.413562",
     "exception": false,
     "start_time": "2020-12-19T00:13:43.375314",
     "status": "completed"
    },
    "tags": []
   },
   "outputs": [],
   "source": [
    "#hide\n",
    "everydaycases = dft_ct_new_cases.cumsum(axis=1)"
   ]
  },
  {
   "cell_type": "code",
   "execution_count": 20,
   "metadata": {
    "execution": {
     "iopub.execute_input": "2020-12-19T00:13:43.478489Z",
     "iopub.status.busy": "2020-12-19T00:13:43.477908Z",
     "iopub.status.idle": "2020-12-19T00:13:44.539167Z",
     "shell.execute_reply": "2020-12-19T00:13:44.538660Z"
    },
    "papermill": {
     "duration": 1.09485,
     "end_time": "2020-12-19T00:13:44.539309",
     "exception": false,
     "start_time": "2020-12-19T00:13:43.444459",
     "status": "completed"
    },
    "tags": []
   },
   "outputs": [],
   "source": [
    "#hide\n",
    "import pandas as pd\n",
    "import matplotlib.pyplot as plt\n",
    "import matplotlib.ticker as ticker\n",
    "import matplotlib.animation as animation\n",
    "from IPython.display import HTML"
   ]
  },
  {
   "cell_type": "code",
   "execution_count": 21,
   "metadata": {
    "execution": {
     "iopub.execute_input": "2020-12-19T00:13:44.605741Z",
     "iopub.status.busy": "2020-12-19T00:13:44.605160Z",
     "iopub.status.idle": "2020-12-19T00:13:44.609371Z",
     "shell.execute_reply": "2020-12-19T00:13:44.610001Z"
    },
    "papermill": {
     "duration": 0.039372,
     "end_time": "2020-12-19T00:13:44.610165",
     "exception": false,
     "start_time": "2020-12-19T00:13:44.570793",
     "status": "completed"
    },
    "tags": []
   },
   "outputs": [],
   "source": [
    "#hide\n",
    "t = everydaycases.stack()"
   ]
  },
  {
   "cell_type": "code",
   "execution_count": 22,
   "metadata": {
    "execution": {
     "iopub.execute_input": "2020-12-19T00:13:44.677711Z",
     "iopub.status.busy": "2020-12-19T00:13:44.677040Z",
     "iopub.status.idle": "2020-12-19T00:13:44.683020Z",
     "shell.execute_reply": "2020-12-19T00:13:44.683641Z"
    },
    "papermill": {
     "duration": 0.042205,
     "end_time": "2020-12-19T00:13:44.683771",
     "exception": false,
     "start_time": "2020-12-19T00:13:44.641566",
     "status": "completed"
    },
    "tags": []
   },
   "outputs": [],
   "source": [
    "#hide\n",
    "g = t.reset_index(['Country/Region'])"
   ]
  },
  {
   "cell_type": "code",
   "execution_count": 23,
   "metadata": {
    "execution": {
     "iopub.execute_input": "2020-12-19T00:13:44.751309Z",
     "iopub.status.busy": "2020-12-19T00:13:44.750682Z",
     "iopub.status.idle": "2020-12-19T00:13:44.752591Z",
     "shell.execute_reply": "2020-12-19T00:13:44.753226Z"
    },
    "papermill": {
     "duration": 0.037952,
     "end_time": "2020-12-19T00:13:44.753366",
     "exception": false,
     "start_time": "2020-12-19T00:13:44.715414",
     "status": "completed"
    },
    "tags": []
   },
   "outputs": [],
   "source": [
    "#hide\n",
    "g.index.name = 'date'"
   ]
  },
  {
   "cell_type": "code",
   "execution_count": 24,
   "metadata": {
    "execution": {
     "iopub.execute_input": "2020-12-19T00:13:44.819058Z",
     "iopub.status.busy": "2020-12-19T00:13:44.818430Z",
     "iopub.status.idle": "2020-12-19T00:13:44.820888Z",
     "shell.execute_reply": "2020-12-19T00:13:44.820368Z"
    },
    "papermill": {
     "duration": 0.036031,
     "end_time": "2020-12-19T00:13:44.821021",
     "exception": false,
     "start_time": "2020-12-19T00:13:44.784990",
     "status": "completed"
    },
    "tags": []
   },
   "outputs": [],
   "source": [
    "# #hide\n",
    "# g = g.reset_index(['date'])"
   ]
  },
  {
   "cell_type": "code",
   "execution_count": 25,
   "metadata": {
    "execution": {
     "iopub.execute_input": "2020-12-19T00:13:44.889864Z",
     "iopub.status.busy": "2020-12-19T00:13:44.889199Z",
     "iopub.status.idle": "2020-12-19T00:13:44.891498Z",
     "shell.execute_reply": "2020-12-19T00:13:44.892026Z"
    },
    "papermill": {
     "duration": 0.038658,
     "end_time": "2020-12-19T00:13:44.892158",
     "exception": false,
     "start_time": "2020-12-19T00:13:44.853500",
     "status": "completed"
    },
    "tags": []
   },
   "outputs": [],
   "source": [
    "#hide\n",
    "# g.head()"
   ]
  },
  {
   "cell_type": "code",
   "execution_count": 26,
   "metadata": {
    "execution": {
     "iopub.execute_input": "2020-12-19T00:13:44.968033Z",
     "iopub.status.busy": "2020-12-19T00:13:44.967348Z",
     "iopub.status.idle": "2020-12-19T00:13:44.969402Z",
     "shell.execute_reply": "2020-12-19T00:13:44.969987Z"
    },
    "papermill": {
     "duration": 0.042363,
     "end_time": "2020-12-19T00:13:44.970171",
     "exception": false,
     "start_time": "2020-12-19T00:13:44.927808",
     "status": "completed"
    },
    "tags": []
   },
   "outputs": [],
   "source": [
    "#hide\n",
    "# g.columns = ['date','country','cases']"
   ]
  },
  {
   "cell_type": "code",
   "execution_count": 27,
   "metadata": {
    "execution": {
     "iopub.execute_input": "2020-12-19T00:13:45.039573Z",
     "iopub.status.busy": "2020-12-19T00:13:45.038994Z",
     "iopub.status.idle": "2020-12-19T00:13:45.041428Z",
     "shell.execute_reply": "2020-12-19T00:13:45.041971Z"
    },
    "papermill": {
     "duration": 0.036551,
     "end_time": "2020-12-19T00:13:45.042097",
     "exception": false,
     "start_time": "2020-12-19T00:13:45.005546",
     "status": "completed"
    },
    "tags": []
   },
   "outputs": [],
   "source": [
    "#hide\n",
    "# g['continent'] = g.country"
   ]
  },
  {
   "cell_type": "code",
   "execution_count": 28,
   "metadata": {
    "execution": {
     "iopub.execute_input": "2020-12-19T00:13:45.112373Z",
     "iopub.status.busy": "2020-12-19T00:13:45.111731Z",
     "iopub.status.idle": "2020-12-19T00:13:45.113725Z",
     "shell.execute_reply": "2020-12-19T00:13:45.114360Z"
    },
    "papermill": {
     "duration": 0.041131,
     "end_time": "2020-12-19T00:13:45.114506",
     "exception": false,
     "start_time": "2020-12-19T00:13:45.073375",
     "status": "completed"
    },
    "tags": []
   },
   "outputs": [],
   "source": [
    "#hide\n",
    "# cols = list(g.columns.values)"
   ]
  },
  {
   "cell_type": "code",
   "execution_count": 29,
   "metadata": {
    "execution": {
     "iopub.execute_input": "2020-12-19T00:13:45.178857Z",
     "iopub.status.busy": "2020-12-19T00:13:45.178116Z",
     "iopub.status.idle": "2020-12-19T00:13:45.180517Z",
     "shell.execute_reply": "2020-12-19T00:13:45.180021Z"
    },
    "papermill": {
     "duration": 0.035679,
     "end_time": "2020-12-19T00:13:45.180634",
     "exception": false,
     "start_time": "2020-12-19T00:13:45.144955",
     "status": "completed"
    },
    "tags": []
   },
   "outputs": [],
   "source": [
    "#hide\n",
    "# cols.insert(0, cols.pop())"
   ]
  },
  {
   "cell_type": "code",
   "execution_count": 30,
   "metadata": {
    "execution": {
     "iopub.execute_input": "2020-12-19T00:13:45.244817Z",
     "iopub.status.busy": "2020-12-19T00:13:45.244238Z",
     "iopub.status.idle": "2020-12-19T00:13:45.246203Z",
     "shell.execute_reply": "2020-12-19T00:13:45.246678Z"
    },
    "papermill": {
     "duration": 0.035445,
     "end_time": "2020-12-19T00:13:45.246803",
     "exception": false,
     "start_time": "2020-12-19T00:13:45.211358",
     "status": "completed"
    },
    "tags": []
   },
   "outputs": [],
   "source": [
    "#hide\n",
    "# g = g[cols]"
   ]
  },
  {
   "cell_type": "code",
   "execution_count": 31,
   "metadata": {
    "execution": {
     "iopub.execute_input": "2020-12-19T00:13:45.309381Z",
     "iopub.status.busy": "2020-12-19T00:13:45.308702Z",
     "iopub.status.idle": "2020-12-19T00:13:45.310660Z",
     "shell.execute_reply": "2020-12-19T00:13:45.311262Z"
    },
    "papermill": {
     "duration": 0.035242,
     "end_time": "2020-12-19T00:13:45.311406",
     "exception": false,
     "start_time": "2020-12-19T00:13:45.276164",
     "status": "completed"
    },
    "tags": []
   },
   "outputs": [],
   "source": [
    "#hide\n",
    "# g['continent'] = g['continent'].map(mapping['map.continent'])"
   ]
  },
  {
   "cell_type": "code",
   "execution_count": 32,
   "metadata": {
    "execution": {
     "iopub.execute_input": "2020-12-19T00:13:45.386311Z",
     "iopub.status.busy": "2020-12-19T00:13:45.385660Z",
     "iopub.status.idle": "2020-12-19T00:13:45.388069Z",
     "shell.execute_reply": "2020-12-19T00:13:45.387556Z"
    },
    "papermill": {
     "duration": 0.040556,
     "end_time": "2020-12-19T00:13:45.388226",
     "exception": false,
     "start_time": "2020-12-19T00:13:45.347670",
     "status": "completed"
    },
    "tags": []
   },
   "outputs": [],
   "source": [
    "#hide\n",
    "# g.head()"
   ]
  },
  {
   "cell_type": "code",
   "execution_count": 33,
   "metadata": {
    "execution": {
     "iopub.execute_input": "2020-12-19T00:13:45.456579Z",
     "iopub.status.busy": "2020-12-19T00:13:45.455947Z",
     "iopub.status.idle": "2020-12-19T00:13:45.458456Z",
     "shell.execute_reply": "2020-12-19T00:13:45.457965Z"
    },
    "papermill": {
     "duration": 0.037203,
     "end_time": "2020-12-19T00:13:45.458567",
     "exception": false,
     "start_time": "2020-12-19T00:13:45.421364",
     "status": "completed"
    },
    "tags": []
   },
   "outputs": [],
   "source": [
    "# hide\n",
    "# g['date'] = g['date'].astype('datetime64[ns]')"
   ]
  },
  {
   "cell_type": "code",
   "execution_count": 34,
   "metadata": {
    "execution": {
     "iopub.execute_input": "2020-12-19T00:13:45.521990Z",
     "iopub.status.busy": "2020-12-19T00:13:45.521416Z",
     "iopub.status.idle": "2020-12-19T00:13:45.523139Z",
     "shell.execute_reply": "2020-12-19T00:13:45.523687Z"
    },
    "papermill": {
     "duration": 0.034893,
     "end_time": "2020-12-19T00:13:45.523811",
     "exception": false,
     "start_time": "2020-12-19T00:13:45.488918",
     "status": "completed"
    },
    "tags": []
   },
   "outputs": [],
   "source": [
    "#hide\n",
    "# g['date'] = g.date.dt.dayofyear"
   ]
  },
  {
   "cell_type": "code",
   "execution_count": 35,
   "metadata": {
    "execution": {
     "iopub.execute_input": "2020-12-19T00:13:45.586853Z",
     "iopub.status.busy": "2020-12-19T00:13:45.586154Z",
     "iopub.status.idle": "2020-12-19T00:13:45.588576Z",
     "shell.execute_reply": "2020-12-19T00:13:45.588004Z"
    },
    "papermill": {
     "duration": 0.035123,
     "end_time": "2020-12-19T00:13:45.588693",
     "exception": false,
     "start_time": "2020-12-19T00:13:45.553570",
     "status": "completed"
    },
    "tags": []
   },
   "outputs": [],
   "source": [
    "#hide\n",
    "# g = g.rename(columns= {'continent':'group','country':'name','cases':'value'})"
   ]
  },
  {
   "cell_type": "code",
   "execution_count": 36,
   "metadata": {
    "execution": {
     "iopub.execute_input": "2020-12-19T00:13:45.657513Z",
     "iopub.status.busy": "2020-12-19T00:13:45.656930Z",
     "iopub.status.idle": "2020-12-19T00:13:45.659130Z",
     "shell.execute_reply": "2020-12-19T00:13:45.658496Z"
    },
    "papermill": {
     "duration": 0.037783,
     "end_time": "2020-12-19T00:13:45.659259",
     "exception": false,
     "start_time": "2020-12-19T00:13:45.621476",
     "status": "completed"
    },
    "tags": []
   },
   "outputs": [],
   "source": [
    "#hide\n",
    "# cols = ['name','group','day','value']"
   ]
  },
  {
   "cell_type": "code",
   "execution_count": 37,
   "metadata": {
    "execution": {
     "iopub.execute_input": "2020-12-19T00:13:45.725230Z",
     "iopub.status.busy": "2020-12-19T00:13:45.724572Z",
     "iopub.status.idle": "2020-12-19T00:13:45.726602Z",
     "shell.execute_reply": "2020-12-19T00:13:45.727089Z"
    },
    "papermill": {
     "duration": 0.036871,
     "end_time": "2020-12-19T00:13:45.727231",
     "exception": false,
     "start_time": "2020-12-19T00:13:45.690360",
     "status": "completed"
    },
    "tags": []
   },
   "outputs": [],
   "source": [
    "#hide\n",
    "# g.rename(columns= {'date':'day'},inplace = True)"
   ]
  },
  {
   "cell_type": "code",
   "execution_count": 38,
   "metadata": {
    "execution": {
     "iopub.execute_input": "2020-12-19T00:13:45.790727Z",
     "iopub.status.busy": "2020-12-19T00:13:45.790153Z",
     "iopub.status.idle": "2020-12-19T00:13:45.792162Z",
     "shell.execute_reply": "2020-12-19T00:13:45.792697Z"
    },
    "papermill": {
     "duration": 0.03468,
     "end_time": "2020-12-19T00:13:45.792855",
     "exception": false,
     "start_time": "2020-12-19T00:13:45.758175",
     "status": "completed"
    },
    "tags": []
   },
   "outputs": [],
   "source": [
    "#hide\n",
    "# g = g[cols]"
   ]
  },
  {
   "cell_type": "code",
   "execution_count": 39,
   "metadata": {
    "execution": {
     "iopub.execute_input": "2020-12-19T00:13:45.857037Z",
     "iopub.status.busy": "2020-12-19T00:13:45.856400Z",
     "iopub.status.idle": "2020-12-19T00:13:45.858839Z",
     "shell.execute_reply": "2020-12-19T00:13:45.858356Z"
    },
    "papermill": {
     "duration": 0.036789,
     "end_time": "2020-12-19T00:13:45.859085",
     "exception": false,
     "start_time": "2020-12-19T00:13:45.822296",
     "status": "completed"
    },
    "tags": []
   },
   "outputs": [],
   "source": [
    "# #hide\n",
    "# g = g[g.group.notna()]"
   ]
  },
  {
   "cell_type": "code",
   "execution_count": 40,
   "metadata": {
    "execution": {
     "iopub.execute_input": "2020-12-19T00:13:45.927886Z",
     "iopub.status.busy": "2020-12-19T00:13:45.927252Z",
     "iopub.status.idle": "2020-12-19T00:13:45.931955Z",
     "shell.execute_reply": "2020-12-19T00:13:45.932488Z"
    },
    "papermill": {
     "duration": 0.042058,
     "end_time": "2020-12-19T00:13:45.932633",
     "exception": false,
     "start_time": "2020-12-19T00:13:45.890575",
     "status": "completed"
    },
    "tags": []
   },
   "outputs": [],
   "source": [
    "# #hide\n",
    "# colors = dict(zip(\n",
    "#     [\"Oceania\", \"Europe\", \"Asia\", \"South America\", \"Middle East\", \"North America\", \"Africa\"],\n",
    "#     [\"#adb0ff\", \"#ffb3ff\", \"#90d595\", \"#e48381\", \"#aafbff\", \"#f7bb5f\", \"#eafb50\"]\n",
    "# ))\n",
    "# group_lk = g.set_index('name')['group'].to_dict()"
   ]
  },
  {
   "cell_type": "code",
   "execution_count": null,
   "metadata": {
    "papermill": {
     "duration": 0.030345,
     "end_time": "2020-12-19T00:13:45.994472",
     "exception": false,
     "start_time": "2020-12-19T00:13:45.964127",
     "status": "completed"
    },
    "tags": []
   },
   "outputs": [],
   "source": []
  },
  {
   "cell_type": "code",
   "execution_count": 41,
   "metadata": {
    "execution": {
     "iopub.execute_input": "2020-12-19T00:13:46.059318Z",
     "iopub.status.busy": "2020-12-19T00:13:46.058647Z",
     "iopub.status.idle": "2020-12-19T00:13:46.061056Z",
     "shell.execute_reply": "2020-12-19T00:13:46.061498Z"
    },
    "papermill": {
     "duration": 0.036711,
     "end_time": "2020-12-19T00:13:46.061630",
     "exception": false,
     "start_time": "2020-12-19T00:13:46.024919",
     "status": "completed"
    },
    "tags": []
   },
   "outputs": [],
   "source": [
    "# #hide\n",
    "# fig, ax = plt.subplots(figsize=(15, 8))\n",
    "\n",
    "# def draw_barchart(current_day):\n",
    "#     dff = g[g['day'].eq(current_day)].sort_values(by='value', ascending=True).tail(10)\n",
    "#     ax.clear()\n",
    "#     ax.barh(dff['name'], dff['value'], color=[colors[group_lk[x]] for x in dff['name']])\n",
    "#     dx = dff['value'].max() / 200\n",
    "    \n",
    "#     for i, (value, name) in enumerate(zip(dff['value'], dff['name'])):\n",
    "#         ax.text(value-dx, i,     name,           size=14, weight=600, ha='right', va='bottom')\n",
    "#         ax.text(value-dx, i-.25, group_lk[name], size=10, color='#444444', ha='right', va='baseline')\n",
    "#         ax.text(value+dx, i,     f'{value:,.0f}',  size=14, ha='left',  va='center')\n",
    "#     ax.text(1, 0.4, current_day, transform=ax.transAxes, color='#777777', size=46, ha='right', weight=800)\n",
    "#     ax.text(0, 1.06, 'Population (thousands)', transform=ax.transAxes, size=12, color='#777777')\n",
    "#     ax.xaxis.set_major_formatter(ticker.StrMethodFormatter('{x:,.0f}'))\n",
    "#     ax.xaxis.set_ticks_position('top')\n",
    "#     ax.tick_params(axis='x', colors='#777777', labelsize=12)\n",
    "#     ax.set_yticks([])\n",
    "#     ax.margins(0, 0.01)\n",
    "#     ax.grid(which='major', axis='x', linestyle='-')\n",
    "#     ax.set_axisbelow(True)\n",
    "    \n",
    "#     ax.text(0, 1.15, 'Coronavirus',\n",
    "#             transform=ax.transAxes, size=24, weight=600, ha='left', va='top')\n",
    "# #     ax.text(1, 0, 'by @pratapvardhan; credit @jburnmurdoch', transform=ax.transAxes, color='#777777', ha='right',\n",
    "# #             bbox=dict(facecolor='white', alpha=0.8, edgecolor='white'))\n",
    "#     plt.box(False)"
   ]
  },
  {
   "cell_type": "code",
   "execution_count": 42,
   "metadata": {
    "execution": {
     "iopub.execute_input": "2020-12-19T00:13:46.129307Z",
     "iopub.status.busy": "2020-12-19T00:13:46.128638Z",
     "iopub.status.idle": "2020-12-19T00:13:46.130912Z",
     "shell.execute_reply": "2020-12-19T00:13:46.131490Z"
    },
    "papermill": {
     "duration": 0.038158,
     "end_time": "2020-12-19T00:13:46.131632",
     "exception": false,
     "start_time": "2020-12-19T00:13:46.093474",
     "status": "completed"
    },
    "tags": []
   },
   "outputs": [],
   "source": [
    "# #hide_input\n",
    "# fig, ax = plt.subplots(figsize=(15, 8))\n",
    "# animator = animation.FuncAnimation(fig, draw_barchart, frames=range(g.day.values.min(), g.day.values.max()))\n",
    "# HTML(animator.to_jshtml())\n",
    "# # or use animator.to_html5_video() or animator.save() "
   ]
  },
  {
   "cell_type": "code",
   "execution_count": null,
   "metadata": {
    "papermill": {
     "duration": 0.029904,
     "end_time": "2020-12-19T00:13:46.191905",
     "exception": false,
     "start_time": "2020-12-19T00:13:46.162001",
     "status": "completed"
    },
    "tags": []
   },
   "outputs": [],
   "source": []
  },
  {
   "cell_type": "code",
   "execution_count": null,
   "metadata": {
    "papermill": {
     "duration": 0.028619,
     "end_time": "2020-12-19T00:13:46.249432",
     "exception": false,
     "start_time": "2020-12-19T00:13:46.220813",
     "status": "completed"
    },
    "tags": []
   },
   "outputs": [],
   "source": []
  },
  {
   "cell_type": "code",
   "execution_count": null,
   "metadata": {
    "papermill": {
     "duration": 0.030893,
     "end_time": "2020-12-19T00:13:46.310585",
     "exception": false,
     "start_time": "2020-12-19T00:13:46.279692",
     "status": "completed"
    },
    "tags": []
   },
   "outputs": [],
   "source": []
  }
 ],
 "metadata": {
  "kernelspec": {
   "display_name": "Python 3",
   "language": "python",
   "name": "python3"
  },
  "language_info": {
   "codemirror_mode": {
    "name": "ipython",
    "version": 3
   },
   "file_extension": ".py",
   "mimetype": "text/x-python",
   "name": "python",
   "nbconvert_exporter": "python",
   "pygments_lexer": "ipython3",
   "version": "3.6.12"
  },
  "papermill": {
   "duration": 7.325982,
   "end_time": "2020-12-19T00:13:47.555468",
   "environment_variables": {},
   "exception": null,
   "input_path": "2020-03-21-covid19exp.ipynb",
   "output_path": "2020-03-21-covid19exp.ipynb",
   "parameters": {},
   "start_time": "2020-12-19T00:13:40.229486",
   "version": "2.0.0"
  }
 },
 "nbformat": 4,
 "nbformat_minor": 4
}