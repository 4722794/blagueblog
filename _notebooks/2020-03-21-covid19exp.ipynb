{
 "cells": [
  {
   "cell_type": "markdown",
   "id": "muslim-click",
   "metadata": {
    "papermill": {
     "duration": 0.034786,
     "end_time": "2022-02-01T00:27:06.001764",
     "exception": false,
     "start_time": "2022-02-01T00:27:05.966978",
     "status": "completed"
    },
    "tags": []
   },
   "source": [
    "# COVID-19 Case Race\n",
    "> A race chart to see rising cases around the world\n",
    "\n",
    "- author: Hargun Oberoi\n",
    "- image: images/covid-overview.png\n",
    "- hide: false\n",
    "- badges: false"
   ]
  },
  {
   "cell_type": "code",
   "execution_count": 1,
   "id": "proof-material",
   "metadata": {
    "execution": {
     "iopub.execute_input": "2022-02-01T00:27:06.074567Z",
     "iopub.status.busy": "2022-02-01T00:27:06.073988Z",
     "iopub.status.idle": "2022-02-01T00:27:06.415816Z",
     "shell.execute_reply": "2022-02-01T00:27:06.415295Z"
    },
    "papermill": {
     "duration": 0.383148,
     "end_time": "2022-02-01T00:27:06.415958",
     "exception": false,
     "start_time": "2022-02-01T00:27:06.032810",
     "status": "completed"
    },
    "tags": []
   },
   "outputs": [],
   "source": [
    "#hide\n",
    "import numpy as np\n",
    "import pandas as pd\n",
    "from jinja2 import Template\n",
    "from IPython.display import HTML"
   ]
  },
  {
   "cell_type": "code",
   "execution_count": 2,
   "id": "developed-terminology",
   "metadata": {
    "execution": {
     "iopub.execute_input": "2022-02-01T00:27:06.481930Z",
     "iopub.status.busy": "2022-02-01T00:27:06.481261Z",
     "iopub.status.idle": "2022-02-01T00:27:06.482514Z",
     "shell.execute_reply": "2022-02-01T00:27:06.483104Z"
    },
    "papermill": {
     "duration": 0.037038,
     "end_time": "2022-02-01T00:27:06.483258",
     "exception": false,
     "start_time": "2022-02-01T00:27:06.446220",
     "status": "completed"
    },
    "tags": []
   },
   "outputs": [],
   "source": [
    "#hide\n",
    "\n",
    "# FETCH\n",
    "base_url = 'https://raw.githubusercontent.com/pratapvardhan/notebooks/master/covid19/'\n",
    "paths = {\n",
    "    'mapping': base_url + 'mapping_countries.csv',\n",
    "    'overview': base_url + 'overview.tpl'\n",
    "}"
   ]
  },
  {
   "cell_type": "code",
   "execution_count": 3,
   "id": "dynamic-saver",
   "metadata": {
    "execution": {
     "iopub.execute_input": "2022-02-01T00:27:06.554312Z",
     "iopub.status.busy": "2022-02-01T00:27:06.553739Z",
     "iopub.status.idle": "2022-02-01T00:27:06.556224Z",
     "shell.execute_reply": "2022-02-01T00:27:06.556664Z"
    },
    "papermill": {
     "duration": 0.042625,
     "end_time": "2022-02-01T00:27:06.556802",
     "exception": false,
     "start_time": "2022-02-01T00:27:06.514177",
     "status": "completed"
    },
    "tags": []
   },
   "outputs": [
    {
     "data": {
      "text/plain": [
       "'https://raw.githubusercontent.com/pratapvardhan/notebooks/master/covid19/mapping_countries.csv'"
      ]
     },
     "execution_count": 3,
     "metadata": {},
     "output_type": "execute_result"
    }
   ],
   "source": [
    "#hide\n",
    "paths['mapping']"
   ]
  },
  {
   "cell_type": "code",
   "execution_count": 4,
   "id": "urban-software",
   "metadata": {
    "execution": {
     "iopub.execute_input": "2022-02-01T00:27:06.620813Z",
     "iopub.status.busy": "2022-02-01T00:27:06.620276Z",
     "iopub.status.idle": "2022-02-01T00:27:06.625071Z",
     "shell.execute_reply": "2022-02-01T00:27:06.625572Z"
    },
    "papermill": {
     "duration": 0.038095,
     "end_time": "2022-02-01T00:27:06.625708",
     "exception": false,
     "start_time": "2022-02-01T00:27:06.587613",
     "status": "completed"
    },
    "tags": []
   },
   "outputs": [],
   "source": [
    "#hide\n",
    "def get_mappings(url):\n",
    "    df = pd.read_csv(url)\n",
    "    return {\n",
    "        'df': df,\n",
    "        'replace.country': dict(df.dropna(subset=['Name']).set_index('Country')['Name']),\n",
    "        'map.continent': dict(df.set_index('Name')['Continent'])\n",
    "    }"
   ]
  },
  {
   "cell_type": "code",
   "execution_count": 5,
   "id": "intimate-machinery",
   "metadata": {
    "execution": {
     "iopub.execute_input": "2022-02-01T00:27:06.691453Z",
     "iopub.status.busy": "2022-02-01T00:27:06.690892Z",
     "iopub.status.idle": "2022-02-01T00:27:06.753876Z",
     "shell.execute_reply": "2022-02-01T00:27:06.753354Z"
    },
    "papermill": {
     "duration": 0.098145,
     "end_time": "2022-02-01T00:27:06.754017",
     "exception": false,
     "start_time": "2022-02-01T00:27:06.655872",
     "status": "completed"
    },
    "tags": []
   },
   "outputs": [],
   "source": [
    "#hide\n",
    "mapping = get_mappings(paths['mapping'])"
   ]
  },
  {
   "cell_type": "code",
   "execution_count": 6,
   "id": "certified-tactics",
   "metadata": {
    "execution": {
     "iopub.execute_input": "2022-02-01T00:27:06.821328Z",
     "iopub.status.busy": "2022-02-01T00:27:06.820672Z",
     "iopub.status.idle": "2022-02-01T00:27:06.822048Z",
     "shell.execute_reply": "2022-02-01T00:27:06.822555Z"
    },
    "papermill": {
     "duration": 0.03732,
     "end_time": "2022-02-01T00:27:06.822695",
     "exception": false,
     "start_time": "2022-02-01T00:27:06.785375",
     "status": "completed"
    },
    "tags": []
   },
   "outputs": [],
   "source": [
    "#hide\n",
    "def get_template(path):\n",
    "    from urllib.parse import urlparse\n",
    "    if bool(urlparse(path).netloc):\n",
    "        from urllib.request import urlopen\n",
    "        return urlopen(path).read().decode('utf8')\n",
    "    return open(path).read()"
   ]
  },
  {
   "cell_type": "code",
   "execution_count": 7,
   "id": "realistic-blast",
   "metadata": {
    "execution": {
     "iopub.execute_input": "2022-02-01T00:27:06.889145Z",
     "iopub.status.busy": "2022-02-01T00:27:06.888493Z",
     "iopub.status.idle": "2022-02-01T00:27:06.890059Z",
     "shell.execute_reply": "2022-02-01T00:27:06.890534Z"
    },
    "papermill": {
     "duration": 0.037427,
     "end_time": "2022-02-01T00:27:06.890686",
     "exception": false,
     "start_time": "2022-02-01T00:27:06.853259",
     "status": "completed"
    },
    "tags": []
   },
   "outputs": [],
   "source": [
    "#hide\n",
    "def get_frame(name):\n",
    "    url = (\n",
    "        'https://raw.githubusercontent.com/CSSEGISandData/COVID-19/master/csse_covid_19_data/'\n",
    "        f'csse_covid_19_time_series/time_series_covid19_{name}_global.csv')\n",
    "    df = pd.read_csv(url)\n",
    "    # rename countries\n",
    "    df['Country/Region'] = df['Country/Region'].replace(mapping['replace.country'])\n",
    "    return df"
   ]
  },
  {
   "cell_type": "code",
   "execution_count": 8,
   "id": "affiliated-characterization",
   "metadata": {
    "execution": {
     "iopub.execute_input": "2022-02-01T00:27:06.958096Z",
     "iopub.status.busy": "2022-02-01T00:27:06.957503Z",
     "iopub.status.idle": "2022-02-01T00:27:06.959836Z",
     "shell.execute_reply": "2022-02-01T00:27:06.959337Z"
    },
    "papermill": {
     "duration": 0.038518,
     "end_time": "2022-02-01T00:27:06.959952",
     "exception": false,
     "start_time": "2022-02-01T00:27:06.921434",
     "status": "completed"
    },
    "tags": []
   },
   "outputs": [],
   "source": [
    "#hide\n",
    "def get_dates(df):\n",
    "    dt_cols = df.columns[~df.columns.isin(['Province/State', 'Country/Region', 'Lat', 'Long'])]\n",
    "    LAST_DATE_I = -1\n",
    "    # sometimes last column may be empty, then go backwards\n",
    "    for i in range(-1, -len(dt_cols), -1):\n",
    "        if not df[dt_cols[i]].fillna(0).eq(0).all():\n",
    "            LAST_DATE_I = i\n",
    "            break\n",
    "    return LAST_DATE_I, dt_cols"
   ]
  },
  {
   "cell_type": "code",
   "execution_count": 9,
   "id": "recent-optimization",
   "metadata": {
    "execution": {
     "iopub.execute_input": "2022-02-01T00:27:07.025379Z",
     "iopub.status.busy": "2022-02-01T00:27:07.024828Z",
     "iopub.status.idle": "2022-02-01T00:27:07.594844Z",
     "shell.execute_reply": "2022-02-01T00:27:07.595305Z"
    },
    "papermill": {
     "duration": 0.605454,
     "end_time": "2022-02-01T00:27:07.595482",
     "exception": false,
     "start_time": "2022-02-01T00:27:06.990028",
     "status": "completed"
    },
    "tags": []
   },
   "outputs": [],
   "source": [
    "#hide\n",
    "COL_REGION = 'Country/Region'\n",
    "# Confirmed, Recovered, Deaths\n",
    "df = get_frame('confirmed')\n",
    "# dft_: timeseries, dfc_: today country agg\n",
    "dft_cases = df\n",
    "dft_deaths = get_frame('deaths')\n",
    "dft_recovered = get_frame('recovered')\n",
    "LAST_DATE_I, dt_cols = get_dates(df)"
   ]
  },
  {
   "cell_type": "code",
   "execution_count": 10,
   "id": "absolute-copper",
   "metadata": {
    "execution": {
     "iopub.execute_input": "2022-02-01T00:27:07.661046Z",
     "iopub.status.busy": "2022-02-01T00:27:07.660529Z",
     "iopub.status.idle": "2022-02-01T00:27:07.664006Z",
     "shell.execute_reply": "2022-02-01T00:27:07.663619Z"
    },
    "papermill": {
     "duration": 0.038218,
     "end_time": "2022-02-01T00:27:07.664115",
     "exception": false,
     "start_time": "2022-02-01T00:27:07.625897",
     "status": "completed"
    },
    "tags": []
   },
   "outputs": [],
   "source": [
    "#hide\n",
    "LAST_DATE_I, dt_cols = get_dates(df)\n",
    "dt_today =dt_cols[LAST_DATE_I]\n",
    "# dt_5day = dt_cols[LAST_DATE_I - 5]\n",
    "dt_yday = dt_cols[LAST_DATE_I - 1]"
   ]
  },
  {
   "cell_type": "code",
   "execution_count": 11,
   "id": "restricted-sheriff",
   "metadata": {
    "execution": {
     "iopub.execute_input": "2022-02-01T00:27:07.723156Z",
     "iopub.status.busy": "2022-02-01T00:27:07.722668Z",
     "iopub.status.idle": "2022-02-01T00:27:07.730094Z",
     "shell.execute_reply": "2022-02-01T00:27:07.730497Z"
    },
    "papermill": {
     "duration": 0.039789,
     "end_time": "2022-02-01T00:27:07.730626",
     "exception": false,
     "start_time": "2022-02-01T00:27:07.690837",
     "status": "completed"
    },
    "tags": []
   },
   "outputs": [],
   "source": [
    "#hide\n",
    "dfc_cases = dft_cases.groupby(COL_REGION)[dt_today].sum()\n",
    "dfc_deaths = dft_deaths.groupby(COL_REGION)[dt_today].sum()\n",
    "# dfp_cases = dft_cases.groupby(COL_REGION)[dt_5day].sum()\n",
    "# dfp_deaths = dft_deaths.groupby(COL_REGION)[dt_5day].sum()\n",
    "dfp_cases = dft_cases.groupby(COL_REGION)[dt_yday].sum()\n",
    "dfp_deaths = dft_deaths.groupby(COL_REGION)[dt_yday].sum()"
   ]
  },
  {
   "cell_type": "code",
   "execution_count": 12,
   "id": "deluxe-hepatitis",
   "metadata": {
    "execution": {
     "iopub.execute_input": "2022-02-01T00:27:07.790837Z",
     "iopub.status.busy": "2022-02-01T00:27:07.790339Z",
     "iopub.status.idle": "2022-02-01T00:27:07.795059Z",
     "shell.execute_reply": "2022-02-01T00:27:07.794670Z"
    },
    "papermill": {
     "duration": 0.037657,
     "end_time": "2022-02-01T00:27:07.795172",
     "exception": false,
     "start_time": "2022-02-01T00:27:07.757515",
     "status": "completed"
    },
    "tags": []
   },
   "outputs": [],
   "source": [
    "#hide\n",
    "df_table = (pd.DataFrame(dict(Cases = dfc_cases, Deaths = dfc_deaths, PCases = dfp_cases, PDeaths = dfp_deaths))\n",
    "            .sort_values(by = ['Cases','Deaths'], ascending = [False, False])\n",
    "            .reset_index())"
   ]
  },
  {
   "cell_type": "code",
   "execution_count": 13,
   "id": "educational-chancellor",
   "metadata": {
    "execution": {
     "iopub.execute_input": "2022-02-01T00:27:07.867292Z",
     "iopub.status.busy": "2022-02-01T00:27:07.866768Z",
     "iopub.status.idle": "2022-02-01T00:27:07.874698Z",
     "shell.execute_reply": "2022-02-01T00:27:07.874298Z"
    },
    "papermill": {
     "duration": 0.053019,
     "end_time": "2022-02-01T00:27:07.874811",
     "exception": false,
     "start_time": "2022-02-01T00:27:07.821792",
     "status": "completed"
    },
    "tags": []
   },
   "outputs": [
    {
     "data": {
      "text/html": [
       "<div>\n",
       "<style scoped>\n",
       "    .dataframe tbody tr th:only-of-type {\n",
       "        vertical-align: middle;\n",
       "    }\n",
       "\n",
       "    .dataframe tbody tr th {\n",
       "        vertical-align: top;\n",
       "    }\n",
       "\n",
       "    .dataframe thead th {\n",
       "        text-align: right;\n",
       "    }\n",
       "</style>\n",
       "<table border=\"1\" class=\"dataframe\">\n",
       "  <thead>\n",
       "    <tr style=\"text-align: right;\">\n",
       "      <th></th>\n",
       "      <th>Country/Region</th>\n",
       "      <th>Cases</th>\n",
       "      <th>Deaths</th>\n",
       "      <th>PCases</th>\n",
       "      <th>PDeaths</th>\n",
       "      <th>Cases (+)</th>\n",
       "      <th>Deaths (+)</th>\n",
       "      <th>Fatality Rate</th>\n",
       "      <th>Continent</th>\n",
       "    </tr>\n",
       "  </thead>\n",
       "  <tbody>\n",
       "    <tr>\n",
       "      <th>0</th>\n",
       "      <td>US</td>\n",
       "      <td>74333001</td>\n",
       "      <td>884260</td>\n",
       "      <td>74236114</td>\n",
       "      <td>883939</td>\n",
       "      <td>96887</td>\n",
       "      <td>321</td>\n",
       "      <td>1.19</td>\n",
       "      <td>North America</td>\n",
       "    </tr>\n",
       "    <tr>\n",
       "      <th>1</th>\n",
       "      <td>India</td>\n",
       "      <td>41302440</td>\n",
       "      <td>495050</td>\n",
       "      <td>41092522</td>\n",
       "      <td>494091</td>\n",
       "      <td>209918</td>\n",
       "      <td>959</td>\n",
       "      <td>1.20</td>\n",
       "      <td>Asia</td>\n",
       "    </tr>\n",
       "    <tr>\n",
       "      <th>2</th>\n",
       "      <td>Brazil</td>\n",
       "      <td>25360647</td>\n",
       "      <td>627150</td>\n",
       "      <td>25256198</td>\n",
       "      <td>626870</td>\n",
       "      <td>104449</td>\n",
       "      <td>280</td>\n",
       "      <td>2.47</td>\n",
       "      <td>South America</td>\n",
       "    </tr>\n",
       "    <tr>\n",
       "      <th>3</th>\n",
       "      <td>France</td>\n",
       "      <td>19178039</td>\n",
       "      <td>131576</td>\n",
       "      <td>18928572</td>\n",
       "      <td>131449</td>\n",
       "      <td>249467</td>\n",
       "      <td>127</td>\n",
       "      <td>0.69</td>\n",
       "      <td>Europe</td>\n",
       "    </tr>\n",
       "    <tr>\n",
       "      <th>4</th>\n",
       "      <td>United Kingdom</td>\n",
       "      <td>16582263</td>\n",
       "      <td>156222</td>\n",
       "      <td>16519768</td>\n",
       "      <td>156137</td>\n",
       "      <td>62495</td>\n",
       "      <td>85</td>\n",
       "      <td>0.94</td>\n",
       "      <td>Europe</td>\n",
       "    </tr>\n",
       "  </tbody>\n",
       "</table>\n",
       "</div>"
      ],
      "text/plain": [
       "   Country/Region     Cases  Deaths    PCases  PDeaths  Cases (+)  Deaths (+)  \\\n",
       "0              US  74333001  884260  74236114   883939      96887         321   \n",
       "1           India  41302440  495050  41092522   494091     209918         959   \n",
       "2          Brazil  25360647  627150  25256198   626870     104449         280   \n",
       "3          France  19178039  131576  18928572   131449     249467         127   \n",
       "4  United Kingdom  16582263  156222  16519768   156137      62495          85   \n",
       "\n",
       "   Fatality Rate      Continent  \n",
       "0           1.19  North America  \n",
       "1           1.20           Asia  \n",
       "2           2.47  South America  \n",
       "3           0.69         Europe  \n",
       "4           0.94         Europe  "
      ]
     },
     "execution_count": 13,
     "metadata": {},
     "output_type": "execute_result"
    }
   ],
   "source": [
    "#hide\n",
    "for c in 'Cases, Deaths'.split(', '):\n",
    "    df_table[f'{c} (+)'] = (df_table[c] - df_table[f'P{c}']).clip(0)\n",
    "    #Clip ça veut dire, les chiffres negatif sont interdit\n",
    "df_table['Fatality Rate'] = (100* df_table['Deaths']/ df_table['Cases']).round(2)\n",
    "df_table['Continent'] = df_table['Country/Region'].map(mapping['map.continent'])\n",
    "df_table.head(5)"
   ]
  },
  {
   "cell_type": "code",
   "execution_count": 14,
   "id": "aboriginal-bulgaria",
   "metadata": {
    "execution": {
     "iopub.execute_input": "2022-02-01T00:27:07.936227Z",
     "iopub.status.busy": "2022-02-01T00:27:07.935588Z",
     "iopub.status.idle": "2022-02-01T00:27:07.939390Z",
     "shell.execute_reply": "2022-02-01T00:27:07.938947Z"
    },
    "papermill": {
     "duration": 0.037015,
     "end_time": "2022-02-01T00:27:07.939516",
     "exception": false,
     "start_time": "2022-02-01T00:27:07.902501",
     "status": "completed"
    },
    "tags": []
   },
   "outputs": [],
   "source": [
    "#hide\n",
    "#delete problematic countries from table\n",
    "df_table = df_table[~df_table['Country/Region'].isin(['Cape Verde', 'Cruise Ship', 'Kosovo'])]"
   ]
  },
  {
   "cell_type": "code",
   "execution_count": 15,
   "id": "fantastic-effect",
   "metadata": {
    "execution": {
     "iopub.execute_input": "2022-02-01T00:27:08.008294Z",
     "iopub.status.busy": "2022-02-01T00:27:08.007738Z",
     "iopub.status.idle": "2022-02-01T00:27:08.024136Z",
     "shell.execute_reply": "2022-02-01T00:27:08.023529Z"
    },
    "papermill": {
     "duration": 0.054203,
     "end_time": "2022-02-01T00:27:08.024271",
     "exception": false,
     "start_time": "2022-02-01T00:27:07.970068",
     "status": "completed"
    },
    "tags": []
   },
   "outputs": [
    {
     "data": {
      "text/html": [
       "<div>\n",
       "<style scoped>\n",
       "    .dataframe tbody tr th:only-of-type {\n",
       "        vertical-align: middle;\n",
       "    }\n",
       "\n",
       "    .dataframe tbody tr th {\n",
       "        vertical-align: top;\n",
       "    }\n",
       "\n",
       "    .dataframe thead th {\n",
       "        text-align: right;\n",
       "    }\n",
       "</style>\n",
       "<table border=\"1\" class=\"dataframe\">\n",
       "  <thead>\n",
       "    <tr style=\"text-align: right;\">\n",
       "      <th></th>\n",
       "      <th>Country/Region</th>\n",
       "      <th>Cases</th>\n",
       "      <th>Deaths</th>\n",
       "      <th>PCases</th>\n",
       "      <th>PDeaths</th>\n",
       "      <th>Cases (+)</th>\n",
       "      <th>Deaths (+)</th>\n",
       "      <th>Fatality Rate</th>\n",
       "      <th>Continent</th>\n",
       "    </tr>\n",
       "  </thead>\n",
       "  <tbody>\n",
       "    <tr>\n",
       "      <th>0</th>\n",
       "      <td>US</td>\n",
       "      <td>74333001</td>\n",
       "      <td>884260</td>\n",
       "      <td>74236114</td>\n",
       "      <td>883939</td>\n",
       "      <td>96887</td>\n",
       "      <td>321</td>\n",
       "      <td>1.2</td>\n",
       "      <td>North America</td>\n",
       "    </tr>\n",
       "    <tr>\n",
       "      <th>1</th>\n",
       "      <td>India</td>\n",
       "      <td>41302440</td>\n",
       "      <td>495050</td>\n",
       "      <td>41092522</td>\n",
       "      <td>494091</td>\n",
       "      <td>209918</td>\n",
       "      <td>959</td>\n",
       "      <td>1.2</td>\n",
       "      <td>Asia</td>\n",
       "    </tr>\n",
       "    <tr>\n",
       "      <th>2</th>\n",
       "      <td>Brazil</td>\n",
       "      <td>25360647</td>\n",
       "      <td>627150</td>\n",
       "      <td>25256198</td>\n",
       "      <td>626870</td>\n",
       "      <td>104449</td>\n",
       "      <td>280</td>\n",
       "      <td>2.5</td>\n",
       "      <td>South America</td>\n",
       "    </tr>\n",
       "    <tr>\n",
       "      <th>3</th>\n",
       "      <td>France</td>\n",
       "      <td>19178039</td>\n",
       "      <td>131576</td>\n",
       "      <td>18928572</td>\n",
       "      <td>131449</td>\n",
       "      <td>249467</td>\n",
       "      <td>127</td>\n",
       "      <td>0.7</td>\n",
       "      <td>Europe</td>\n",
       "    </tr>\n",
       "    <tr>\n",
       "      <th>4</th>\n",
       "      <td>United Kingdom</td>\n",
       "      <td>16582263</td>\n",
       "      <td>156222</td>\n",
       "      <td>16519768</td>\n",
       "      <td>156137</td>\n",
       "      <td>62495</td>\n",
       "      <td>85</td>\n",
       "      <td>0.9</td>\n",
       "      <td>Europe</td>\n",
       "    </tr>\n",
       "  </tbody>\n",
       "</table>\n",
       "</div>"
      ],
      "text/plain": [
       "   Country/Region     Cases  Deaths    PCases  PDeaths  Cases (+)  Deaths (+)  \\\n",
       "0              US  74333001  884260  74236114   883939      96887         321   \n",
       "1           India  41302440  495050  41092522   494091     209918         959   \n",
       "2          Brazil  25360647  627150  25256198   626870     104449         280   \n",
       "3          France  19178039  131576  18928572   131449     249467         127   \n",
       "4  United Kingdom  16582263  156222  16519768   156137      62495          85   \n",
       "\n",
       "   Fatality Rate      Continent  \n",
       "0            1.2  North America  \n",
       "1            1.2           Asia  \n",
       "2            2.5  South America  \n",
       "3            0.7         Europe  \n",
       "4            0.9         Europe  "
      ]
     },
     "execution_count": 15,
     "metadata": {},
     "output_type": "execute_result"
    }
   ],
   "source": [
    "#hide\n",
    "df_table = (pd.DataFrame(dict(Cases=dfc_cases, Deaths=dfc_deaths, PCases=dfp_cases, PDeaths=dfp_deaths))\n",
    "             .sort_values(by=['Cases', 'Deaths'], ascending=[False, False])\n",
    "             .reset_index())\n",
    "df_table.rename(columns={'index': 'Country/Region'}, inplace=True)\n",
    "for c in 'Cases, Deaths'.split(', '):\n",
    "    df_table[f'{c} (+)'] = (df_table[c] - df_table[f'P{c}']).clip(0)  # DATA BUG\n",
    "df_table['Fatality Rate'] = (100 * df_table['Deaths'] / df_table['Cases']).round(1)\n",
    "df_table['Continent'] = df_table['Country/Region'].map(mapping['map.continent'])\n",
    "df_table.head(5)"
   ]
  },
  {
   "cell_type": "code",
   "execution_count": 16,
   "id": "fewer-occasion",
   "metadata": {
    "execution": {
     "iopub.execute_input": "2022-02-01T00:27:08.092902Z",
     "iopub.status.busy": "2022-02-01T00:27:08.092357Z",
     "iopub.status.idle": "2022-02-01T00:27:08.094084Z",
     "shell.execute_reply": "2022-02-01T00:27:08.094471Z"
    },
    "papermill": {
     "duration": 0.038216,
     "end_time": "2022-02-01T00:27:08.094612",
     "exception": false,
     "start_time": "2022-02-01T00:27:08.056396",
     "status": "completed"
    },
    "tags": []
   },
   "outputs": [],
   "source": [
    "#hide\n",
    "#delete problematic countries from table\n",
    "df_table = df_table[~df_table['Country/Region'].isin(['Cape Verde', 'Cruise Ship', 'Kosovo'])]"
   ]
  },
  {
   "cell_type": "code",
   "execution_count": 17,
   "id": "related-center",
   "metadata": {
    "execution": {
     "iopub.execute_input": "2022-02-01T00:27:08.172866Z",
     "iopub.status.busy": "2022-02-01T00:27:08.172303Z",
     "iopub.status.idle": "2022-02-01T00:27:08.182396Z",
     "shell.execute_reply": "2022-02-01T00:27:08.181930Z"
    },
    "papermill": {
     "duration": 0.056792,
     "end_time": "2022-02-01T00:27:08.182515",
     "exception": false,
     "start_time": "2022-02-01T00:27:08.125723",
     "status": "completed"
    },
    "tags": []
   },
   "outputs": [],
   "source": [
    "#hide\n",
    "metrics = [df_table.columns[index] for index in [1,2,5,6]]\n",
    "# s_china = df_table[df_table['Country/Region'].eq('China')][metrics].sum().add_prefix('China ')\n",
    "s_us = df_table[df_table['Country/Region'].eq('US')][metrics].sum().add_prefix('US ')\n",
    "s_eu = df_table[df_table['Continent'].eq('Europe')][metrics].sum().add_prefix('EU ')\n",
    "s_ind = df_table[df_table['Country/Region'].eq('India')][metrics].sum().add_prefix('India ')\n",
    "summary = {'updated': pd.to_datetime(dt_today), 'since': pd.to_datetime(dt_yday)}\n",
    "summary = {'updated': pd.to_datetime(dt_today), 'since': pd.to_datetime(dt_yday)}\n",
    "summary = {**summary, **df_table[metrics].sum(), **s_ind, **s_us, **s_eu}"
   ]
  },
  {
   "cell_type": "code",
   "execution_count": 18,
   "id": "engaging-syndrome",
   "metadata": {
    "execution": {
     "iopub.execute_input": "2022-02-01T00:27:08.250043Z",
     "iopub.status.busy": "2022-02-01T00:27:08.249497Z",
     "iopub.status.idle": "2022-02-01T00:27:08.265896Z",
     "shell.execute_reply": "2022-02-01T00:27:08.265452Z"
    },
    "papermill": {
     "duration": 0.052373,
     "end_time": "2022-02-01T00:27:08.266020",
     "exception": false,
     "start_time": "2022-02-01T00:27:08.213647",
     "status": "completed"
    },
    "tags": []
   },
   "outputs": [],
   "source": [
    "#hide\n",
    "dft_ct_new_cases = dft_cases.groupby(COL_REGION)[dt_cols].sum().diff(axis=1).fillna(0).astype(int)"
   ]
  },
  {
   "cell_type": "code",
   "execution_count": 19,
   "id": "neutral-assignment",
   "metadata": {
    "execution": {
     "iopub.execute_input": "2022-02-01T00:27:08.335155Z",
     "iopub.status.busy": "2022-02-01T00:27:08.334629Z",
     "iopub.status.idle": "2022-02-01T00:27:08.336862Z",
     "shell.execute_reply": "2022-02-01T00:27:08.337250Z"
    },
    "papermill": {
     "duration": 0.040303,
     "end_time": "2022-02-01T00:27:08.337385",
     "exception": false,
     "start_time": "2022-02-01T00:27:08.297082",
     "status": "completed"
    },
    "tags": []
   },
   "outputs": [],
   "source": [
    "#hide\n",
    "everydaycases = dft_ct_new_cases.cumsum(axis=1)"
   ]
  },
  {
   "cell_type": "code",
   "execution_count": 20,
   "id": "parliamentary-calgary",
   "metadata": {
    "execution": {
     "iopub.execute_input": "2022-02-01T00:27:08.404373Z",
     "iopub.status.busy": "2022-02-01T00:27:08.403816Z",
     "iopub.status.idle": "2022-02-01T00:27:09.026668Z",
     "shell.execute_reply": "2022-02-01T00:27:09.026161Z"
    },
    "papermill": {
     "duration": 0.65818,
     "end_time": "2022-02-01T00:27:09.026793",
     "exception": false,
     "start_time": "2022-02-01T00:27:08.368613",
     "status": "completed"
    },
    "tags": []
   },
   "outputs": [],
   "source": [
    "#hide\n",
    "import pandas as pd\n",
    "import matplotlib.pyplot as plt\n",
    "import matplotlib.ticker as ticker\n",
    "import matplotlib.animation as animation\n",
    "from IPython.display import HTML"
   ]
  },
  {
   "cell_type": "code",
   "execution_count": 21,
   "id": "lasting-extraction",
   "metadata": {
    "execution": {
     "iopub.execute_input": "2022-02-01T00:27:09.094596Z",
     "iopub.status.busy": "2022-02-01T00:27:09.094068Z",
     "iopub.status.idle": "2022-02-01T00:27:09.099637Z",
     "shell.execute_reply": "2022-02-01T00:27:09.100035Z"
    },
    "papermill": {
     "duration": 0.042248,
     "end_time": "2022-02-01T00:27:09.100176",
     "exception": false,
     "start_time": "2022-02-01T00:27:09.057928",
     "status": "completed"
    },
    "tags": []
   },
   "outputs": [],
   "source": [
    "#hide\n",
    "t = everydaycases.stack()"
   ]
  },
  {
   "cell_type": "code",
   "execution_count": 22,
   "id": "premier-sleeve",
   "metadata": {
    "execution": {
     "iopub.execute_input": "2022-02-01T00:27:09.168972Z",
     "iopub.status.busy": "2022-02-01T00:27:09.168422Z",
     "iopub.status.idle": "2022-02-01T00:27:09.178716Z",
     "shell.execute_reply": "2022-02-01T00:27:09.179231Z"
    },
    "papermill": {
     "duration": 0.047886,
     "end_time": "2022-02-01T00:27:09.179393",
     "exception": false,
     "start_time": "2022-02-01T00:27:09.131507",
     "status": "completed"
    },
    "tags": []
   },
   "outputs": [],
   "source": [
    "#hide\n",
    "g = t.reset_index(['Country/Region'])"
   ]
  },
  {
   "cell_type": "code",
   "execution_count": 23,
   "id": "distributed-pittsburgh",
   "metadata": {
    "execution": {
     "iopub.execute_input": "2022-02-01T00:27:09.245537Z",
     "iopub.status.busy": "2022-02-01T00:27:09.245012Z",
     "iopub.status.idle": "2022-02-01T00:27:09.247096Z",
     "shell.execute_reply": "2022-02-01T00:27:09.247623Z"
    },
    "papermill": {
     "duration": 0.037387,
     "end_time": "2022-02-01T00:27:09.247765",
     "exception": false,
     "start_time": "2022-02-01T00:27:09.210378",
     "status": "completed"
    },
    "tags": []
   },
   "outputs": [],
   "source": [
    "#hide\n",
    "g.index.name = 'date'"
   ]
  },
  {
   "cell_type": "code",
   "execution_count": 24,
   "id": "naked-donor",
   "metadata": {
    "execution": {
     "iopub.execute_input": "2022-02-01T00:27:09.314014Z",
     "iopub.status.busy": "2022-02-01T00:27:09.313344Z",
     "iopub.status.idle": "2022-02-01T00:27:09.317596Z",
     "shell.execute_reply": "2022-02-01T00:27:09.316991Z"
    },
    "papermill": {
     "duration": 0.038807,
     "end_time": "2022-02-01T00:27:09.317740",
     "exception": false,
     "start_time": "2022-02-01T00:27:09.278933",
     "status": "completed"
    },
    "tags": []
   },
   "outputs": [],
   "source": [
    "# #hide\n",
    "# g = g.reset_index(['date'])"
   ]
  },
  {
   "cell_type": "code",
   "execution_count": 25,
   "id": "incomplete-mustang",
   "metadata": {
    "execution": {
     "iopub.execute_input": "2022-02-01T00:27:09.384591Z",
     "iopub.status.busy": "2022-02-01T00:27:09.384039Z",
     "iopub.status.idle": "2022-02-01T00:27:09.386244Z",
     "shell.execute_reply": "2022-02-01T00:27:09.385726Z"
    },
    "papermill": {
     "duration": 0.036829,
     "end_time": "2022-02-01T00:27:09.386359",
     "exception": false,
     "start_time": "2022-02-01T00:27:09.349530",
     "status": "completed"
    },
    "tags": []
   },
   "outputs": [],
   "source": [
    "#hide\n",
    "# g.head()"
   ]
  },
  {
   "cell_type": "code",
   "execution_count": 26,
   "id": "specific-kruger",
   "metadata": {
    "execution": {
     "iopub.execute_input": "2022-02-01T00:27:09.452396Z",
     "iopub.status.busy": "2022-02-01T00:27:09.451848Z",
     "iopub.status.idle": "2022-02-01T00:27:09.453782Z",
     "shell.execute_reply": "2022-02-01T00:27:09.454293Z"
    },
    "papermill": {
     "duration": 0.036813,
     "end_time": "2022-02-01T00:27:09.454428",
     "exception": false,
     "start_time": "2022-02-01T00:27:09.417615",
     "status": "completed"
    },
    "tags": []
   },
   "outputs": [],
   "source": [
    "#hide\n",
    "# g.columns = ['date','country','cases']"
   ]
  },
  {
   "cell_type": "code",
   "execution_count": 27,
   "id": "tender-conversion",
   "metadata": {
    "execution": {
     "iopub.execute_input": "2022-02-01T00:27:09.521741Z",
     "iopub.status.busy": "2022-02-01T00:27:09.521222Z",
     "iopub.status.idle": "2022-02-01T00:27:09.523384Z",
     "shell.execute_reply": "2022-02-01T00:27:09.523868Z"
    },
    "papermill": {
     "duration": 0.038601,
     "end_time": "2022-02-01T00:27:09.524004",
     "exception": false,
     "start_time": "2022-02-01T00:27:09.485403",
     "status": "completed"
    },
    "tags": []
   },
   "outputs": [],
   "source": [
    "#hide\n",
    "# g['continent'] = g.country"
   ]
  },
  {
   "cell_type": "code",
   "execution_count": 28,
   "id": "substantial-wilderness",
   "metadata": {
    "execution": {
     "iopub.execute_input": "2022-02-01T00:27:09.590737Z",
     "iopub.status.busy": "2022-02-01T00:27:09.590042Z",
     "iopub.status.idle": "2022-02-01T00:27:09.592971Z",
     "shell.execute_reply": "2022-02-01T00:27:09.592463Z"
    },
    "papermill": {
     "duration": 0.037803,
     "end_time": "2022-02-01T00:27:09.593102",
     "exception": false,
     "start_time": "2022-02-01T00:27:09.555299",
     "status": "completed"
    },
    "tags": []
   },
   "outputs": [],
   "source": [
    "#hide\n",
    "# cols = list(g.columns.values)"
   ]
  },
  {
   "cell_type": "code",
   "execution_count": 29,
   "id": "solved-farming",
   "metadata": {
    "execution": {
     "iopub.execute_input": "2022-02-01T00:27:09.660703Z",
     "iopub.status.busy": "2022-02-01T00:27:09.660154Z",
     "iopub.status.idle": "2022-02-01T00:27:09.662295Z",
     "shell.execute_reply": "2022-02-01T00:27:09.661789Z"
    },
    "papermill": {
     "duration": 0.037085,
     "end_time": "2022-02-01T00:27:09.662413",
     "exception": false,
     "start_time": "2022-02-01T00:27:09.625328",
     "status": "completed"
    },
    "tags": []
   },
   "outputs": [],
   "source": [
    "#hide\n",
    "# cols.insert(0, cols.pop())"
   ]
  },
  {
   "cell_type": "code",
   "execution_count": 30,
   "id": "executed-adoption",
   "metadata": {
    "execution": {
     "iopub.execute_input": "2022-02-01T00:27:09.728631Z",
     "iopub.status.busy": "2022-02-01T00:27:09.728085Z",
     "iopub.status.idle": "2022-02-01T00:27:09.730052Z",
     "shell.execute_reply": "2022-02-01T00:27:09.730460Z"
    },
    "papermill": {
     "duration": 0.037005,
     "end_time": "2022-02-01T00:27:09.730595",
     "exception": false,
     "start_time": "2022-02-01T00:27:09.693590",
     "status": "completed"
    },
    "tags": []
   },
   "outputs": [],
   "source": [
    "#hide\n",
    "# g = g[cols]"
   ]
  },
  {
   "cell_type": "code",
   "execution_count": 31,
   "id": "subject-dublin",
   "metadata": {
    "execution": {
     "iopub.execute_input": "2022-02-01T00:27:09.796660Z",
     "iopub.status.busy": "2022-02-01T00:27:09.796039Z",
     "iopub.status.idle": "2022-02-01T00:27:09.798124Z",
     "shell.execute_reply": "2022-02-01T00:27:09.797537Z"
    },
    "papermill": {
     "duration": 0.036654,
     "end_time": "2022-02-01T00:27:09.798258",
     "exception": false,
     "start_time": "2022-02-01T00:27:09.761604",
     "status": "completed"
    },
    "tags": []
   },
   "outputs": [],
   "source": [
    "#hide\n",
    "# g['continent'] = g['continent'].map(mapping['map.continent'])"
   ]
  },
  {
   "cell_type": "code",
   "execution_count": 32,
   "id": "freelance-scout",
   "metadata": {
    "execution": {
     "iopub.execute_input": "2022-02-01T00:27:09.858727Z",
     "iopub.status.busy": "2022-02-01T00:27:09.858103Z",
     "iopub.status.idle": "2022-02-01T00:27:09.861567Z",
     "shell.execute_reply": "2022-02-01T00:27:09.862013Z"
    },
    "papermill": {
     "duration": 0.035198,
     "end_time": "2022-02-01T00:27:09.862164",
     "exception": false,
     "start_time": "2022-02-01T00:27:09.826966",
     "status": "completed"
    },
    "tags": []
   },
   "outputs": [],
   "source": [
    "#hide\n",
    "# g.head()"
   ]
  },
  {
   "cell_type": "code",
   "execution_count": 33,
   "id": "limited-engine",
   "metadata": {
    "execution": {
     "iopub.execute_input": "2022-02-01T00:27:09.927807Z",
     "iopub.status.busy": "2022-02-01T00:27:09.927265Z",
     "iopub.status.idle": "2022-02-01T00:27:09.931031Z",
     "shell.execute_reply": "2022-02-01T00:27:09.929906Z"
    },
    "papermill": {
     "duration": 0.03784,
     "end_time": "2022-02-01T00:27:09.931186",
     "exception": false,
     "start_time": "2022-02-01T00:27:09.893346",
     "status": "completed"
    },
    "tags": []
   },
   "outputs": [],
   "source": [
    "# hide\n",
    "# g['date'] = g['date'].astype('datetime64[ns]')"
   ]
  },
  {
   "cell_type": "code",
   "execution_count": 34,
   "id": "sophisticated-supervisor",
   "metadata": {
    "execution": {
     "iopub.execute_input": "2022-02-01T00:27:09.993890Z",
     "iopub.status.busy": "2022-02-01T00:27:09.993272Z",
     "iopub.status.idle": "2022-02-01T00:27:09.997596Z",
     "shell.execute_reply": "2022-02-01T00:27:09.997172Z"
    },
    "papermill": {
     "duration": 0.035328,
     "end_time": "2022-02-01T00:27:09.997713",
     "exception": false,
     "start_time": "2022-02-01T00:27:09.962385",
     "status": "completed"
    },
    "tags": []
   },
   "outputs": [],
   "source": [
    "#hide\n",
    "# g['date'] = g.date.dt.dayofyear"
   ]
  },
  {
   "cell_type": "code",
   "execution_count": 35,
   "id": "inside-dubai",
   "metadata": {
    "execution": {
     "iopub.execute_input": "2022-02-01T00:27:10.063237Z",
     "iopub.status.busy": "2022-02-01T00:27:10.062742Z",
     "iopub.status.idle": "2022-02-01T00:27:10.064564Z",
     "shell.execute_reply": "2022-02-01T00:27:10.064907Z"
    },
    "papermill": {
     "duration": 0.036282,
     "end_time": "2022-02-01T00:27:10.065033",
     "exception": false,
     "start_time": "2022-02-01T00:27:10.028751",
     "status": "completed"
    },
    "tags": []
   },
   "outputs": [],
   "source": [
    "#hide\n",
    "# g = g.rename(columns= {'continent':'group','country':'name','cases':'value'})"
   ]
  },
  {
   "cell_type": "code",
   "execution_count": 36,
   "id": "fleet-motorcycle",
   "metadata": {
    "execution": {
     "iopub.execute_input": "2022-02-01T00:27:10.123880Z",
     "iopub.status.busy": "2022-02-01T00:27:10.123336Z",
     "iopub.status.idle": "2022-02-01T00:27:10.125371Z",
     "shell.execute_reply": "2022-02-01T00:27:10.124942Z"
    },
    "papermill": {
     "duration": 0.032708,
     "end_time": "2022-02-01T00:27:10.125492",
     "exception": false,
     "start_time": "2022-02-01T00:27:10.092784",
     "status": "completed"
    },
    "tags": []
   },
   "outputs": [],
   "source": [
    "#hide\n",
    "# cols = ['name','group','day','value']"
   ]
  },
  {
   "cell_type": "code",
   "execution_count": 37,
   "id": "continued-sleeping",
   "metadata": {
    "execution": {
     "iopub.execute_input": "2022-02-01T00:27:10.192225Z",
     "iopub.status.busy": "2022-02-01T00:27:10.191690Z",
     "iopub.status.idle": "2022-02-01T00:27:10.194040Z",
     "shell.execute_reply": "2022-02-01T00:27:10.193629Z"
    },
    "papermill": {
     "duration": 0.036479,
     "end_time": "2022-02-01T00:27:10.194157",
     "exception": false,
     "start_time": "2022-02-01T00:27:10.157678",
     "status": "completed"
    },
    "tags": []
   },
   "outputs": [],
   "source": [
    "#hide\n",
    "# g.rename(columns= {'date':'day'},inplace = True)"
   ]
  },
  {
   "cell_type": "code",
   "execution_count": 38,
   "id": "major-fight",
   "metadata": {
    "execution": {
     "iopub.execute_input": "2022-02-01T00:27:10.260915Z",
     "iopub.status.busy": "2022-02-01T00:27:10.259621Z",
     "iopub.status.idle": "2022-02-01T00:27:10.262091Z",
     "shell.execute_reply": "2022-02-01T00:27:10.262945Z"
    },
    "papermill": {
     "duration": 0.037699,
     "end_time": "2022-02-01T00:27:10.263101",
     "exception": false,
     "start_time": "2022-02-01T00:27:10.225402",
     "status": "completed"
    },
    "tags": []
   },
   "outputs": [],
   "source": [
    "#hide\n",
    "# g = g[cols]"
   ]
  },
  {
   "cell_type": "code",
   "execution_count": 39,
   "id": "structured-mobile",
   "metadata": {
    "execution": {
     "iopub.execute_input": "2022-02-01T00:27:10.331608Z",
     "iopub.status.busy": "2022-02-01T00:27:10.330948Z",
     "iopub.status.idle": "2022-02-01T00:27:10.332533Z",
     "shell.execute_reply": "2022-02-01T00:27:10.333001Z"
    },
    "papermill": {
     "duration": 0.037843,
     "end_time": "2022-02-01T00:27:10.333148",
     "exception": false,
     "start_time": "2022-02-01T00:27:10.295305",
     "status": "completed"
    },
    "tags": []
   },
   "outputs": [],
   "source": [
    "# #hide\n",
    "# g = g[g.group.notna()]"
   ]
  },
  {
   "cell_type": "code",
   "execution_count": 40,
   "id": "determined-closing",
   "metadata": {
    "execution": {
     "iopub.execute_input": "2022-02-01T00:27:10.399238Z",
     "iopub.status.busy": "2022-02-01T00:27:10.398714Z",
     "iopub.status.idle": "2022-02-01T00:27:10.400769Z",
     "shell.execute_reply": "2022-02-01T00:27:10.400363Z"
    },
    "papermill": {
     "duration": 0.036212,
     "end_time": "2022-02-01T00:27:10.400882",
     "exception": false,
     "start_time": "2022-02-01T00:27:10.364670",
     "status": "completed"
    },
    "tags": []
   },
   "outputs": [],
   "source": [
    "# #hide\n",
    "# colors = dict(zip(\n",
    "#     [\"Oceania\", \"Europe\", \"Asia\", \"South America\", \"Middle East\", \"North America\", \"Africa\"],\n",
    "#     [\"#adb0ff\", \"#ffb3ff\", \"#90d595\", \"#e48381\", \"#aafbff\", \"#f7bb5f\", \"#eafb50\"]\n",
    "# ))\n",
    "# group_lk = g.set_index('name')['group'].to_dict()"
   ]
  },
  {
   "cell_type": "code",
   "execution_count": null,
   "id": "gross-drinking",
   "metadata": {
    "papermill": {
     "duration": 0.027673,
     "end_time": "2022-02-01T00:27:10.456201",
     "exception": false,
     "start_time": "2022-02-01T00:27:10.428528",
     "status": "completed"
    },
    "tags": []
   },
   "outputs": [],
   "source": []
  },
  {
   "cell_type": "code",
   "execution_count": 41,
   "id": "subject-macintosh",
   "metadata": {
    "execution": {
     "iopub.execute_input": "2022-02-01T00:27:10.516497Z",
     "iopub.status.busy": "2022-02-01T00:27:10.515853Z",
     "iopub.status.idle": "2022-02-01T00:27:10.517163Z",
     "shell.execute_reply": "2022-02-01T00:27:10.517716Z"
    },
    "papermill": {
     "duration": 0.033832,
     "end_time": "2022-02-01T00:27:10.517863",
     "exception": false,
     "start_time": "2022-02-01T00:27:10.484031",
     "status": "completed"
    },
    "tags": []
   },
   "outputs": [],
   "source": [
    "# #hide\n",
    "# fig, ax = plt.subplots(figsize=(15, 8))\n",
    "\n",
    "# def draw_barchart(current_day):\n",
    "#     dff = g[g['day'].eq(current_day)].sort_values(by='value', ascending=True).tail(10)\n",
    "#     ax.clear()\n",
    "#     ax.barh(dff['name'], dff['value'], color=[colors[group_lk[x]] for x in dff['name']])\n",
    "#     dx = dff['value'].max() / 200\n",
    "    \n",
    "#     for i, (value, name) in enumerate(zip(dff['value'], dff['name'])):\n",
    "#         ax.text(value-dx, i,     name,           size=14, weight=600, ha='right', va='bottom')\n",
    "#         ax.text(value-dx, i-.25, group_lk[name], size=10, color='#444444', ha='right', va='baseline')\n",
    "#         ax.text(value+dx, i,     f'{value:,.0f}',  size=14, ha='left',  va='center')\n",
    "#     ax.text(1, 0.4, current_day, transform=ax.transAxes, color='#777777', size=46, ha='right', weight=800)\n",
    "#     ax.text(0, 1.06, 'Population (thousands)', transform=ax.transAxes, size=12, color='#777777')\n",
    "#     ax.xaxis.set_major_formatter(ticker.StrMethodFormatter('{x:,.0f}'))\n",
    "#     ax.xaxis.set_ticks_position('top')\n",
    "#     ax.tick_params(axis='x', colors='#777777', labelsize=12)\n",
    "#     ax.set_yticks([])\n",
    "#     ax.margins(0, 0.01)\n",
    "#     ax.grid(which='major', axis='x', linestyle='-')\n",
    "#     ax.set_axisbelow(True)\n",
    "    \n",
    "#     ax.text(0, 1.15, 'Coronavirus',\n",
    "#             transform=ax.transAxes, size=24, weight=600, ha='left', va='top')\n",
    "# #     ax.text(1, 0, 'by @pratapvardhan; credit @jburnmurdoch', transform=ax.transAxes, color='#777777', ha='right',\n",
    "# #             bbox=dict(facecolor='white', alpha=0.8, edgecolor='white'))\n",
    "#     plt.box(False)"
   ]
  },
  {
   "cell_type": "code",
   "execution_count": 42,
   "id": "sexual-wages",
   "metadata": {
    "execution": {
     "iopub.execute_input": "2022-02-01T00:27:10.584272Z",
     "iopub.status.busy": "2022-02-01T00:27:10.583619Z",
     "iopub.status.idle": "2022-02-01T00:27:10.586004Z",
     "shell.execute_reply": "2022-02-01T00:27:10.586452Z"
    },
    "papermill": {
     "duration": 0.037672,
     "end_time": "2022-02-01T00:27:10.586613",
     "exception": false,
     "start_time": "2022-02-01T00:27:10.548941",
     "status": "completed"
    },
    "tags": []
   },
   "outputs": [],
   "source": [
    "# #hide_input\n",
    "# fig, ax = plt.subplots(figsize=(15, 8))\n",
    "# animator = animation.FuncAnimation(fig, draw_barchart, frames=range(g.day.values.min(), g.day.values.max()))\n",
    "# HTML(animator.to_jshtml())\n",
    "# # or use animator.to_html5_video() or animator.save() "
   ]
  },
  {
   "cell_type": "code",
   "execution_count": null,
   "id": "australian-container",
   "metadata": {
    "papermill": {
     "duration": 0.02751,
     "end_time": "2022-02-01T00:27:10.642844",
     "exception": false,
     "start_time": "2022-02-01T00:27:10.615334",
     "status": "completed"
    },
    "tags": []
   },
   "outputs": [],
   "source": []
  },
  {
   "cell_type": "code",
   "execution_count": null,
   "id": "mediterranean-pontiac",
   "metadata": {
    "papermill": {
     "duration": 0.027585,
     "end_time": "2022-02-01T00:27:10.697868",
     "exception": false,
     "start_time": "2022-02-01T00:27:10.670283",
     "status": "completed"
    },
    "tags": []
   },
   "outputs": [],
   "source": []
  },
  {
   "cell_type": "code",
   "execution_count": null,
   "id": "aging-legislature",
   "metadata": {
    "papermill": {
     "duration": 0.027669,
     "end_time": "2022-02-01T00:27:10.753301",
     "exception": false,
     "start_time": "2022-02-01T00:27:10.725632",
     "status": "completed"
    },
    "tags": []
   },
   "outputs": [],
   "source": []
  }
 ],
 "metadata": {
  "kernelspec": {
   "display_name": "Python 3",
   "language": "python",
   "name": "python3"
  },
  "language_info": {
   "codemirror_mode": {
    "name": "ipython",
    "version": 3
   },
   "file_extension": ".py",
   "mimetype": "text/x-python",
   "name": "python",
   "nbconvert_exporter": "python",
   "pygments_lexer": "ipython3",
   "version": "3.6.15"
  },
  "papermill": {
   "duration": 6.199955,
   "end_time": "2022-02-01T00:27:11.201240",
   "environment_variables": {},
   "exception": null,
   "input_path": "2020-03-21-covid19exp.ipynb",
   "output_path": "2020-03-21-covid19exp.ipynb",
   "parameters": {},
   "start_time": "2022-02-01T00:27:05.001285",
   "version": "2.0.0"
  }
 },
 "nbformat": 4,
 "nbformat_minor": 5
}