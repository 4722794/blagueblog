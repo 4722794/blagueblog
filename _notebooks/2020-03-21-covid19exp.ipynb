{
 "cells": [
  {
   "cell_type": "markdown",
   "id": "muslim-click",
   "metadata": {
    "papermill": {
     "duration": 0.033641,
     "end_time": "2021-03-07T12:06:55.511869",
     "exception": false,
     "start_time": "2021-03-07T12:06:55.478228",
     "status": "completed"
    },
    "tags": []
   },
   "source": [
    "# COVID-19 Case Race\n",
    "> A race chart to see rising cases around the world\n",
    "\n",
    "- author: Hargun Oberoi\n",
    "- image: images/covid-overview.png\n",
    "- hide: false\n",
    "- badges: false"
   ]
  },
  {
   "cell_type": "code",
   "execution_count": 1,
   "id": "proof-material",
   "metadata": {
    "execution": {
     "iopub.execute_input": "2021-03-07T12:06:55.581961Z",
     "iopub.status.busy": "2021-03-07T12:06:55.581430Z",
     "iopub.status.idle": "2021-03-07T12:06:55.870872Z",
     "shell.execute_reply": "2021-03-07T12:06:55.871297Z"
    },
    "papermill": {
     "duration": 0.329401,
     "end_time": "2021-03-07T12:06:55.871460",
     "exception": false,
     "start_time": "2021-03-07T12:06:55.542059",
     "status": "completed"
    },
    "tags": []
   },
   "outputs": [],
   "source": [
    "#hide\n",
    "import numpy as np\n",
    "import pandas as pd\n",
    "from jinja2 import Template\n",
    "from IPython.display import HTML"
   ]
  },
  {
   "cell_type": "code",
   "execution_count": 2,
   "id": "developed-terminology",
   "metadata": {
    "execution": {
     "iopub.execute_input": "2021-03-07T12:06:55.934979Z",
     "iopub.status.busy": "2021-03-07T12:06:55.934382Z",
     "iopub.status.idle": "2021-03-07T12:06:55.935823Z",
     "shell.execute_reply": "2021-03-07T12:06:55.936290Z"
    },
    "papermill": {
     "duration": 0.035237,
     "end_time": "2021-03-07T12:06:55.936423",
     "exception": false,
     "start_time": "2021-03-07T12:06:55.901186",
     "status": "completed"
    },
    "tags": []
   },
   "outputs": [],
   "source": [
    "#hide\n",
    "\n",
    "# FETCH\n",
    "base_url = 'https://raw.githubusercontent.com/pratapvardhan/notebooks/master/covid19/'\n",
    "paths = {\n",
    "    'mapping': base_url + 'mapping_countries.csv',\n",
    "    'overview': base_url + 'overview.tpl'\n",
    "}"
   ]
  },
  {
   "cell_type": "code",
   "execution_count": 3,
   "id": "dynamic-saver",
   "metadata": {
    "execution": {
     "iopub.execute_input": "2021-03-07T12:06:56.005353Z",
     "iopub.status.busy": "2021-03-07T12:06:56.004845Z",
     "iopub.status.idle": "2021-03-07T12:06:56.007089Z",
     "shell.execute_reply": "2021-03-07T12:06:56.007499Z"
    },
    "papermill": {
     "duration": 0.041294,
     "end_time": "2021-03-07T12:06:56.007614",
     "exception": false,
     "start_time": "2021-03-07T12:06:55.966320",
     "status": "completed"
    },
    "tags": []
   },
   "outputs": [
    {
     "data": {
      "text/plain": [
       "'https://raw.githubusercontent.com/pratapvardhan/notebooks/master/covid19/mapping_countries.csv'"
      ]
     },
     "execution_count": 3,
     "metadata": {},
     "output_type": "execute_result"
    }
   ],
   "source": [
    "#hide\n",
    "paths['mapping']"
   ]
  },
  {
   "cell_type": "code",
   "execution_count": 4,
   "id": "urban-software",
   "metadata": {
    "execution": {
     "iopub.execute_input": "2021-03-07T12:06:56.071188Z",
     "iopub.status.busy": "2021-03-07T12:06:56.070685Z",
     "iopub.status.idle": "2021-03-07T12:06:56.072532Z",
     "shell.execute_reply": "2021-03-07T12:06:56.072934Z"
    },
    "papermill": {
     "duration": 0.035937,
     "end_time": "2021-03-07T12:06:56.073045",
     "exception": false,
     "start_time": "2021-03-07T12:06:56.037108",
     "status": "completed"
    },
    "tags": []
   },
   "outputs": [],
   "source": [
    "#hide\n",
    "def get_mappings(url):\n",
    "    df = pd.read_csv(url)\n",
    "    return {\n",
    "        'df': df,\n",
    "        'replace.country': dict(df.dropna(subset=['Name']).set_index('Country')['Name']),\n",
    "        'map.continent': dict(df.set_index('Name')['Continent'])\n",
    "    }"
   ]
  },
  {
   "cell_type": "code",
   "execution_count": 5,
   "id": "intimate-machinery",
   "metadata": {
    "execution": {
     "iopub.execute_input": "2021-03-07T12:06:56.136306Z",
     "iopub.status.busy": "2021-03-07T12:06:56.135804Z",
     "iopub.status.idle": "2021-03-07T12:06:56.165748Z",
     "shell.execute_reply": "2021-03-07T12:06:56.165255Z"
    },
    "papermill": {
     "duration": 0.063407,
     "end_time": "2021-03-07T12:06:56.165847",
     "exception": false,
     "start_time": "2021-03-07T12:06:56.102440",
     "status": "completed"
    },
    "tags": []
   },
   "outputs": [],
   "source": [
    "#hide\n",
    "mapping = get_mappings(paths['mapping'])"
   ]
  },
  {
   "cell_type": "code",
   "execution_count": 6,
   "id": "certified-tactics",
   "metadata": {
    "execution": {
     "iopub.execute_input": "2021-03-07T12:06:56.229133Z",
     "iopub.status.busy": "2021-03-07T12:06:56.228625Z",
     "iopub.status.idle": "2021-03-07T12:06:56.230347Z",
     "shell.execute_reply": "2021-03-07T12:06:56.230730Z"
    },
    "papermill": {
     "duration": 0.035605,
     "end_time": "2021-03-07T12:06:56.230845",
     "exception": false,
     "start_time": "2021-03-07T12:06:56.195240",
     "status": "completed"
    },
    "tags": []
   },
   "outputs": [],
   "source": [
    "#hide\n",
    "def get_template(path):\n",
    "    from urllib.parse import urlparse\n",
    "    if bool(urlparse(path).netloc):\n",
    "        from urllib.request import urlopen\n",
    "        return urlopen(path).read().decode('utf8')\n",
    "    return open(path).read()"
   ]
  },
  {
   "cell_type": "code",
   "execution_count": 7,
   "id": "realistic-blast",
   "metadata": {
    "execution": {
     "iopub.execute_input": "2021-03-07T12:06:56.294164Z",
     "iopub.status.busy": "2021-03-07T12:06:56.293588Z",
     "iopub.status.idle": "2021-03-07T12:06:56.295694Z",
     "shell.execute_reply": "2021-03-07T12:06:56.295215Z"
    },
    "papermill": {
     "duration": 0.035602,
     "end_time": "2021-03-07T12:06:56.295823",
     "exception": false,
     "start_time": "2021-03-07T12:06:56.260221",
     "status": "completed"
    },
    "tags": []
   },
   "outputs": [],
   "source": [
    "#hide\n",
    "def get_frame(name):\n",
    "    url = (\n",
    "        'https://raw.githubusercontent.com/CSSEGISandData/COVID-19/master/csse_covid_19_data/'\n",
    "        f'csse_covid_19_time_series/time_series_covid19_{name}_global.csv')\n",
    "    df = pd.read_csv(url)\n",
    "    # rename countries\n",
    "    df['Country/Region'] = df['Country/Region'].replace(mapping['replace.country'])\n",
    "    return df"
   ]
  },
  {
   "cell_type": "code",
   "execution_count": 8,
   "id": "affiliated-characterization",
   "metadata": {
    "execution": {
     "iopub.execute_input": "2021-03-07T12:06:56.360234Z",
     "iopub.status.busy": "2021-03-07T12:06:56.359694Z",
     "iopub.status.idle": "2021-03-07T12:06:56.361783Z",
     "shell.execute_reply": "2021-03-07T12:06:56.361360Z"
    },
    "papermill": {
     "duration": 0.036345,
     "end_time": "2021-03-07T12:06:56.361881",
     "exception": false,
     "start_time": "2021-03-07T12:06:56.325536",
     "status": "completed"
    },
    "tags": []
   },
   "outputs": [],
   "source": [
    "#hide\n",
    "def get_dates(df):\n",
    "    dt_cols = df.columns[~df.columns.isin(['Province/State', 'Country/Region', 'Lat', 'Long'])]\n",
    "    LAST_DATE_I = -1\n",
    "    # sometimes last column may be empty, then go backwards\n",
    "    for i in range(-1, -len(dt_cols), -1):\n",
    "        if not df[dt_cols[i]].fillna(0).eq(0).all():\n",
    "            LAST_DATE_I = i\n",
    "            break\n",
    "    return LAST_DATE_I, dt_cols"
   ]
  },
  {
   "cell_type": "code",
   "execution_count": 9,
   "id": "recent-optimization",
   "metadata": {
    "execution": {
     "iopub.execute_input": "2021-03-07T12:06:56.424597Z",
     "iopub.status.busy": "2021-03-07T12:06:56.424047Z",
     "iopub.status.idle": "2021-03-07T12:06:56.695035Z",
     "shell.execute_reply": "2021-03-07T12:06:56.694546Z"
    },
    "papermill": {
     "duration": 0.304068,
     "end_time": "2021-03-07T12:06:56.695150",
     "exception": false,
     "start_time": "2021-03-07T12:06:56.391082",
     "status": "completed"
    },
    "tags": []
   },
   "outputs": [],
   "source": [
    "#hide\n",
    "COL_REGION = 'Country/Region'\n",
    "# Confirmed, Recovered, Deaths\n",
    "df = get_frame('confirmed')\n",
    "# dft_: timeseries, dfc_: today country agg\n",
    "dft_cases = df\n",
    "dft_deaths = get_frame('deaths')\n",
    "dft_recovered = get_frame('recovered')\n",
    "LAST_DATE_I, dt_cols = get_dates(df)"
   ]
  },
  {
   "cell_type": "code",
   "execution_count": 10,
   "id": "absolute-copper",
   "metadata": {
    "execution": {
     "iopub.execute_input": "2021-03-07T12:06:56.759396Z",
     "iopub.status.busy": "2021-03-07T12:06:56.758897Z",
     "iopub.status.idle": "2021-03-07T12:06:56.760912Z",
     "shell.execute_reply": "2021-03-07T12:06:56.761315Z"
    },
    "papermill": {
     "duration": 0.036574,
     "end_time": "2021-03-07T12:06:56.761434",
     "exception": false,
     "start_time": "2021-03-07T12:06:56.724860",
     "status": "completed"
    },
    "tags": []
   },
   "outputs": [],
   "source": [
    "#hide\n",
    "LAST_DATE_I, dt_cols = get_dates(df)\n",
    "dt_today =dt_cols[LAST_DATE_I]\n",
    "# dt_5day = dt_cols[LAST_DATE_I - 5]\n",
    "dt_yday = dt_cols[LAST_DATE_I - 1]"
   ]
  },
  {
   "cell_type": "code",
   "execution_count": 11,
   "id": "restricted-sheriff",
   "metadata": {
    "execution": {
     "iopub.execute_input": "2021-03-07T12:06:56.828863Z",
     "iopub.status.busy": "2021-03-07T12:06:56.826934Z",
     "iopub.status.idle": "2021-03-07T12:06:56.833030Z",
     "shell.execute_reply": "2021-03-07T12:06:56.833434Z"
    },
    "papermill": {
     "duration": 0.04285,
     "end_time": "2021-03-07T12:06:56.833549",
     "exception": false,
     "start_time": "2021-03-07T12:06:56.790699",
     "status": "completed"
    },
    "tags": []
   },
   "outputs": [],
   "source": [
    "#hide\n",
    "dfc_cases = dft_cases.groupby(COL_REGION)[dt_today].sum()\n",
    "dfc_deaths = dft_deaths.groupby(COL_REGION)[dt_today].sum()\n",
    "# dfp_cases = dft_cases.groupby(COL_REGION)[dt_5day].sum()\n",
    "# dfp_deaths = dft_deaths.groupby(COL_REGION)[dt_5day].sum()\n",
    "dfp_cases = dft_cases.groupby(COL_REGION)[dt_yday].sum()\n",
    "dfp_deaths = dft_deaths.groupby(COL_REGION)[dt_yday].sum()"
   ]
  },
  {
   "cell_type": "code",
   "execution_count": 12,
   "id": "deluxe-hepatitis",
   "metadata": {
    "execution": {
     "iopub.execute_input": "2021-03-07T12:06:56.897436Z",
     "iopub.status.busy": "2021-03-07T12:06:56.896942Z",
     "iopub.status.idle": "2021-03-07T12:06:56.901803Z",
     "shell.execute_reply": "2021-03-07T12:06:56.902204Z"
    },
    "papermill": {
     "duration": 0.039468,
     "end_time": "2021-03-07T12:06:56.902319",
     "exception": false,
     "start_time": "2021-03-07T12:06:56.862851",
     "status": "completed"
    },
    "tags": []
   },
   "outputs": [],
   "source": [
    "#hide\n",
    "df_table = (pd.DataFrame(dict(Cases = dfc_cases, Deaths = dfc_deaths, PCases = dfp_cases, PDeaths = dfp_deaths))\n",
    "            .sort_values(by = ['Cases','Deaths'], ascending = [False, False])\n",
    "            .reset_index())"
   ]
  },
  {
   "cell_type": "code",
   "execution_count": 13,
   "id": "educational-chancellor",
   "metadata": {
    "execution": {
     "iopub.execute_input": "2021-03-07T12:06:56.977669Z",
     "iopub.status.busy": "2021-03-07T12:06:56.977152Z",
     "iopub.status.idle": "2021-03-07T12:06:56.983583Z",
     "shell.execute_reply": "2021-03-07T12:06:56.984066Z"
    },
    "papermill": {
     "duration": 0.052736,
     "end_time": "2021-03-07T12:06:56.984180",
     "exception": false,
     "start_time": "2021-03-07T12:06:56.931444",
     "status": "completed"
    },
    "tags": []
   },
   "outputs": [
    {
     "data": {
      "text/html": [
       "<div>\n",
       "<style scoped>\n",
       "    .dataframe tbody tr th:only-of-type {\n",
       "        vertical-align: middle;\n",
       "    }\n",
       "\n",
       "    .dataframe tbody tr th {\n",
       "        vertical-align: top;\n",
       "    }\n",
       "\n",
       "    .dataframe thead th {\n",
       "        text-align: right;\n",
       "    }\n",
       "</style>\n",
       "<table border=\"1\" class=\"dataframe\">\n",
       "  <thead>\n",
       "    <tr style=\"text-align: right;\">\n",
       "      <th></th>\n",
       "      <th>Country/Region</th>\n",
       "      <th>Cases</th>\n",
       "      <th>Deaths</th>\n",
       "      <th>PCases</th>\n",
       "      <th>PDeaths</th>\n",
       "      <th>Cases (+)</th>\n",
       "      <th>Deaths (+)</th>\n",
       "      <th>Fatality Rate</th>\n",
       "      <th>Continent</th>\n",
       "    </tr>\n",
       "  </thead>\n",
       "  <tbody>\n",
       "    <tr>\n",
       "      <th>0</th>\n",
       "      <td>US</td>\n",
       "      <td>28952952</td>\n",
       "      <td>524362</td>\n",
       "      <td>28894541</td>\n",
       "      <td>522877</td>\n",
       "      <td>58411</td>\n",
       "      <td>1485</td>\n",
       "      <td>1.81</td>\n",
       "      <td>North America</td>\n",
       "    </tr>\n",
       "    <tr>\n",
       "      <th>1</th>\n",
       "      <td>India</td>\n",
       "      <td>11210799</td>\n",
       "      <td>157756</td>\n",
       "      <td>11192045</td>\n",
       "      <td>157656</td>\n",
       "      <td>18754</td>\n",
       "      <td>100</td>\n",
       "      <td>1.41</td>\n",
       "      <td>Asia</td>\n",
       "    </tr>\n",
       "    <tr>\n",
       "      <th>2</th>\n",
       "      <td>Brazil</td>\n",
       "      <td>10938836</td>\n",
       "      <td>264325</td>\n",
       "      <td>10869227</td>\n",
       "      <td>262770</td>\n",
       "      <td>69609</td>\n",
       "      <td>1555</td>\n",
       "      <td>2.42</td>\n",
       "      <td>South America</td>\n",
       "    </tr>\n",
       "    <tr>\n",
       "      <th>3</th>\n",
       "      <td>Russia</td>\n",
       "      <td>4263785</td>\n",
       "      <td>87253</td>\n",
       "      <td>4252876</td>\n",
       "      <td>86821</td>\n",
       "      <td>10909</td>\n",
       "      <td>432</td>\n",
       "      <td>2.05</td>\n",
       "      <td>Europe</td>\n",
       "    </tr>\n",
       "    <tr>\n",
       "      <th>4</th>\n",
       "      <td>United Kingdom</td>\n",
       "      <td>4225906</td>\n",
       "      <td>124654</td>\n",
       "      <td>4219788</td>\n",
       "      <td>124495</td>\n",
       "      <td>6118</td>\n",
       "      <td>159</td>\n",
       "      <td>2.95</td>\n",
       "      <td>Europe</td>\n",
       "    </tr>\n",
       "  </tbody>\n",
       "</table>\n",
       "</div>"
      ],
      "text/plain": [
       "   Country/Region     Cases  Deaths    PCases  PDeaths  Cases (+)  Deaths (+)  \\\n",
       "0              US  28952952  524362  28894541   522877      58411        1485   \n",
       "1           India  11210799  157756  11192045   157656      18754         100   \n",
       "2          Brazil  10938836  264325  10869227   262770      69609        1555   \n",
       "3          Russia   4263785   87253   4252876    86821      10909         432   \n",
       "4  United Kingdom   4225906  124654   4219788   124495       6118         159   \n",
       "\n",
       "   Fatality Rate      Continent  \n",
       "0           1.81  North America  \n",
       "1           1.41           Asia  \n",
       "2           2.42  South America  \n",
       "3           2.05         Europe  \n",
       "4           2.95         Europe  "
      ]
     },
     "execution_count": 13,
     "metadata": {},
     "output_type": "execute_result"
    }
   ],
   "source": [
    "#hide\n",
    "for c in 'Cases, Deaths'.split(', '):\n",
    "    df_table[f'{c} (+)'] = (df_table[c] - df_table[f'P{c}']).clip(0)\n",
    "    #Clip ça veut dire, les chiffres negatif sont interdit\n",
    "df_table['Fatality Rate'] = (100* df_table['Deaths']/ df_table['Cases']).round(2)\n",
    "df_table['Continent'] = df_table['Country/Region'].map(mapping['map.continent'])\n",
    "df_table.head(5)"
   ]
  },
  {
   "cell_type": "code",
   "execution_count": 14,
   "id": "aboriginal-bulgaria",
   "metadata": {
    "execution": {
     "iopub.execute_input": "2021-03-07T12:06:57.047985Z",
     "iopub.status.busy": "2021-03-07T12:06:57.047468Z",
     "iopub.status.idle": "2021-03-07T12:06:57.050371Z",
     "shell.execute_reply": "2021-03-07T12:06:57.050795Z"
    },
    "papermill": {
     "duration": 0.036906,
     "end_time": "2021-03-07T12:06:57.050906",
     "exception": false,
     "start_time": "2021-03-07T12:06:57.014000",
     "status": "completed"
    },
    "tags": []
   },
   "outputs": [],
   "source": [
    "#hide\n",
    "#delete problematic countries from table\n",
    "df_table = df_table[~df_table['Country/Region'].isin(['Cape Verde', 'Cruise Ship', 'Kosovo'])]"
   ]
  },
  {
   "cell_type": "code",
   "execution_count": 15,
   "id": "fantastic-effect",
   "metadata": {
    "execution": {
     "iopub.execute_input": "2021-03-07T12:06:57.117266Z",
     "iopub.status.busy": "2021-03-07T12:06:57.116771Z",
     "iopub.status.idle": "2021-03-07T12:06:57.132804Z",
     "shell.execute_reply": "2021-03-07T12:06:57.132374Z"
    },
    "papermill": {
     "duration": 0.052328,
     "end_time": "2021-03-07T12:06:57.132909",
     "exception": false,
     "start_time": "2021-03-07T12:06:57.080581",
     "status": "completed"
    },
    "tags": []
   },
   "outputs": [
    {
     "data": {
      "text/html": [
       "<div>\n",
       "<style scoped>\n",
       "    .dataframe tbody tr th:only-of-type {\n",
       "        vertical-align: middle;\n",
       "    }\n",
       "\n",
       "    .dataframe tbody tr th {\n",
       "        vertical-align: top;\n",
       "    }\n",
       "\n",
       "    .dataframe thead th {\n",
       "        text-align: right;\n",
       "    }\n",
       "</style>\n",
       "<table border=\"1\" class=\"dataframe\">\n",
       "  <thead>\n",
       "    <tr style=\"text-align: right;\">\n",
       "      <th></th>\n",
       "      <th>Country/Region</th>\n",
       "      <th>Cases</th>\n",
       "      <th>Deaths</th>\n",
       "      <th>PCases</th>\n",
       "      <th>PDeaths</th>\n",
       "      <th>Cases (+)</th>\n",
       "      <th>Deaths (+)</th>\n",
       "      <th>Fatality Rate</th>\n",
       "      <th>Continent</th>\n",
       "    </tr>\n",
       "  </thead>\n",
       "  <tbody>\n",
       "    <tr>\n",
       "      <th>0</th>\n",
       "      <td>US</td>\n",
       "      <td>28952952</td>\n",
       "      <td>524362</td>\n",
       "      <td>28894541</td>\n",
       "      <td>522877</td>\n",
       "      <td>58411</td>\n",
       "      <td>1485</td>\n",
       "      <td>1.8</td>\n",
       "      <td>North America</td>\n",
       "    </tr>\n",
       "    <tr>\n",
       "      <th>1</th>\n",
       "      <td>India</td>\n",
       "      <td>11210799</td>\n",
       "      <td>157756</td>\n",
       "      <td>11192045</td>\n",
       "      <td>157656</td>\n",
       "      <td>18754</td>\n",
       "      <td>100</td>\n",
       "      <td>1.4</td>\n",
       "      <td>Asia</td>\n",
       "    </tr>\n",
       "    <tr>\n",
       "      <th>2</th>\n",
       "      <td>Brazil</td>\n",
       "      <td>10938836</td>\n",
       "      <td>264325</td>\n",
       "      <td>10869227</td>\n",
       "      <td>262770</td>\n",
       "      <td>69609</td>\n",
       "      <td>1555</td>\n",
       "      <td>2.4</td>\n",
       "      <td>South America</td>\n",
       "    </tr>\n",
       "    <tr>\n",
       "      <th>3</th>\n",
       "      <td>Russia</td>\n",
       "      <td>4263785</td>\n",
       "      <td>87253</td>\n",
       "      <td>4252876</td>\n",
       "      <td>86821</td>\n",
       "      <td>10909</td>\n",
       "      <td>432</td>\n",
       "      <td>2.0</td>\n",
       "      <td>Europe</td>\n",
       "    </tr>\n",
       "    <tr>\n",
       "      <th>4</th>\n",
       "      <td>United Kingdom</td>\n",
       "      <td>4225906</td>\n",
       "      <td>124654</td>\n",
       "      <td>4219788</td>\n",
       "      <td>124495</td>\n",
       "      <td>6118</td>\n",
       "      <td>159</td>\n",
       "      <td>2.9</td>\n",
       "      <td>Europe</td>\n",
       "    </tr>\n",
       "  </tbody>\n",
       "</table>\n",
       "</div>"
      ],
      "text/plain": [
       "   Country/Region     Cases  Deaths    PCases  PDeaths  Cases (+)  Deaths (+)  \\\n",
       "0              US  28952952  524362  28894541   522877      58411        1485   \n",
       "1           India  11210799  157756  11192045   157656      18754         100   \n",
       "2          Brazil  10938836  264325  10869227   262770      69609        1555   \n",
       "3          Russia   4263785   87253   4252876    86821      10909         432   \n",
       "4  United Kingdom   4225906  124654   4219788   124495       6118         159   \n",
       "\n",
       "   Fatality Rate      Continent  \n",
       "0            1.8  North America  \n",
       "1            1.4           Asia  \n",
       "2            2.4  South America  \n",
       "3            2.0         Europe  \n",
       "4            2.9         Europe  "
      ]
     },
     "execution_count": 15,
     "metadata": {},
     "output_type": "execute_result"
    }
   ],
   "source": [
    "#hide\n",
    "df_table = (pd.DataFrame(dict(Cases=dfc_cases, Deaths=dfc_deaths, PCases=dfp_cases, PDeaths=dfp_deaths))\n",
    "             .sort_values(by=['Cases', 'Deaths'], ascending=[False, False])\n",
    "             .reset_index())\n",
    "df_table.rename(columns={'index': 'Country/Region'}, inplace=True)\n",
    "for c in 'Cases, Deaths'.split(', '):\n",
    "    df_table[f'{c} (+)'] = (df_table[c] - df_table[f'P{c}']).clip(0)  # DATA BUG\n",
    "df_table['Fatality Rate'] = (100 * df_table['Deaths'] / df_table['Cases']).round(1)\n",
    "df_table['Continent'] = df_table['Country/Region'].map(mapping['map.continent'])\n",
    "df_table.head(5)"
   ]
  },
  {
   "cell_type": "code",
   "execution_count": 16,
   "id": "fewer-occasion",
   "metadata": {
    "execution": {
     "iopub.execute_input": "2021-03-07T12:06:57.198865Z",
     "iopub.status.busy": "2021-03-07T12:06:57.198358Z",
     "iopub.status.idle": "2021-03-07T12:06:57.201007Z",
     "shell.execute_reply": "2021-03-07T12:06:57.201432Z"
    },
    "papermill": {
     "duration": 0.038092,
     "end_time": "2021-03-07T12:06:57.201551",
     "exception": false,
     "start_time": "2021-03-07T12:06:57.163459",
     "status": "completed"
    },
    "tags": []
   },
   "outputs": [],
   "source": [
    "#hide\n",
    "#delete problematic countries from table\n",
    "df_table = df_table[~df_table['Country/Region'].isin(['Cape Verde', 'Cruise Ship', 'Kosovo'])]"
   ]
  },
  {
   "cell_type": "code",
   "execution_count": 17,
   "id": "related-center",
   "metadata": {
    "execution": {
     "iopub.execute_input": "2021-03-07T12:06:57.279229Z",
     "iopub.status.busy": "2021-03-07T12:06:57.278716Z",
     "iopub.status.idle": "2021-03-07T12:06:57.281101Z",
     "shell.execute_reply": "2021-03-07T12:06:57.280696Z"
    },
    "papermill": {
     "duration": 0.049458,
     "end_time": "2021-03-07T12:06:57.281211",
     "exception": false,
     "start_time": "2021-03-07T12:06:57.231753",
     "status": "completed"
    },
    "tags": []
   },
   "outputs": [],
   "source": [
    "#hide\n",
    "metrics = [df_table.columns[index] for index in [1,2,5,6]]\n",
    "# s_china = df_table[df_table['Country/Region'].eq('China')][metrics].sum().add_prefix('China ')\n",
    "s_us = df_table[df_table['Country/Region'].eq('US')][metrics].sum().add_prefix('US ')\n",
    "s_eu = df_table[df_table['Continent'].eq('Europe')][metrics].sum().add_prefix('EU ')\n",
    "s_ind = df_table[df_table['Country/Region'].eq('India')][metrics].sum().add_prefix('India ')\n",
    "summary = {'updated': pd.to_datetime(dt_today), 'since': pd.to_datetime(dt_yday)}\n",
    "summary = {'updated': pd.to_datetime(dt_today), 'since': pd.to_datetime(dt_yday)}\n",
    "summary = {**summary, **df_table[metrics].sum(), **s_ind, **s_us, **s_eu}"
   ]
  },
  {
   "cell_type": "code",
   "execution_count": 18,
   "id": "engaging-syndrome",
   "metadata": {
    "execution": {
     "iopub.execute_input": "2021-03-07T12:06:57.346836Z",
     "iopub.status.busy": "2021-03-07T12:06:57.346336Z",
     "iopub.status.idle": "2021-03-07T12:06:57.356555Z",
     "shell.execute_reply": "2021-03-07T12:06:57.356981Z"
    },
    "papermill": {
     "duration": 0.045456,
     "end_time": "2021-03-07T12:06:57.357104",
     "exception": false,
     "start_time": "2021-03-07T12:06:57.311648",
     "status": "completed"
    },
    "tags": []
   },
   "outputs": [],
   "source": [
    "#hide\n",
    "dft_ct_new_cases = dft_cases.groupby(COL_REGION)[dt_cols].sum().diff(axis=1).fillna(0).astype(int)"
   ]
  },
  {
   "cell_type": "code",
   "execution_count": 19,
   "id": "neutral-assignment",
   "metadata": {
    "execution": {
     "iopub.execute_input": "2021-03-07T12:06:57.422510Z",
     "iopub.status.busy": "2021-03-07T12:06:57.422004Z",
     "iopub.status.idle": "2021-03-07T12:06:57.424746Z",
     "shell.execute_reply": "2021-03-07T12:06:57.425148Z"
    },
    "papermill": {
     "duration": 0.037909,
     "end_time": "2021-03-07T12:06:57.425269",
     "exception": false,
     "start_time": "2021-03-07T12:06:57.387360",
     "status": "completed"
    },
    "tags": []
   },
   "outputs": [],
   "source": [
    "#hide\n",
    "everydaycases = dft_ct_new_cases.cumsum(axis=1)"
   ]
  },
  {
   "cell_type": "code",
   "execution_count": 20,
   "id": "parliamentary-calgary",
   "metadata": {
    "execution": {
     "iopub.execute_input": "2021-03-07T12:06:57.489881Z",
     "iopub.status.busy": "2021-03-07T12:06:57.489380Z",
     "iopub.status.idle": "2021-03-07T12:06:58.092825Z",
     "shell.execute_reply": "2021-03-07T12:06:58.092292Z"
    },
    "papermill": {
     "duration": 0.637401,
     "end_time": "2021-03-07T12:06:58.092962",
     "exception": false,
     "start_time": "2021-03-07T12:06:57.455561",
     "status": "completed"
    },
    "tags": []
   },
   "outputs": [],
   "source": [
    "#hide\n",
    "import pandas as pd\n",
    "import matplotlib.pyplot as plt\n",
    "import matplotlib.ticker as ticker\n",
    "import matplotlib.animation as animation\n",
    "from IPython.display import HTML"
   ]
  },
  {
   "cell_type": "code",
   "execution_count": 21,
   "id": "lasting-extraction",
   "metadata": {
    "execution": {
     "iopub.execute_input": "2021-03-07T12:06:58.160071Z",
     "iopub.status.busy": "2021-03-07T12:06:58.159538Z",
     "iopub.status.idle": "2021-03-07T12:06:58.164316Z",
     "shell.execute_reply": "2021-03-07T12:06:58.164700Z"
    },
    "papermill": {
     "duration": 0.040378,
     "end_time": "2021-03-07T12:06:58.164824",
     "exception": false,
     "start_time": "2021-03-07T12:06:58.124446",
     "status": "completed"
    },
    "tags": []
   },
   "outputs": [],
   "source": [
    "#hide\n",
    "t = everydaycases.stack()"
   ]
  },
  {
   "cell_type": "code",
   "execution_count": 22,
   "id": "premier-sleeve",
   "metadata": {
    "execution": {
     "iopub.execute_input": "2021-03-07T12:06:58.229491Z",
     "iopub.status.busy": "2021-03-07T12:06:58.228989Z",
     "iopub.status.idle": "2021-03-07T12:06:58.236003Z",
     "shell.execute_reply": "2021-03-07T12:06:58.235570Z"
    },
    "papermill": {
     "duration": 0.040864,
     "end_time": "2021-03-07T12:06:58.236111",
     "exception": false,
     "start_time": "2021-03-07T12:06:58.195247",
     "status": "completed"
    },
    "tags": []
   },
   "outputs": [],
   "source": [
    "#hide\n",
    "g = t.reset_index(['Country/Region'])"
   ]
  },
  {
   "cell_type": "code",
   "execution_count": 23,
   "id": "distributed-pittsburgh",
   "metadata": {
    "execution": {
     "iopub.execute_input": "2021-03-07T12:06:58.299957Z",
     "iopub.status.busy": "2021-03-07T12:06:58.299432Z",
     "iopub.status.idle": "2021-03-07T12:06:58.301706Z",
     "shell.execute_reply": "2021-03-07T12:06:58.301307Z"
    },
    "papermill": {
     "duration": 0.035579,
     "end_time": "2021-03-07T12:06:58.301808",
     "exception": false,
     "start_time": "2021-03-07T12:06:58.266229",
     "status": "completed"
    },
    "tags": []
   },
   "outputs": [],
   "source": [
    "#hide\n",
    "g.index.name = 'date'"
   ]
  },
  {
   "cell_type": "code",
   "execution_count": 24,
   "id": "naked-donor",
   "metadata": {
    "execution": {
     "iopub.execute_input": "2021-03-07T12:06:58.365329Z",
     "iopub.status.busy": "2021-03-07T12:06:58.364838Z",
     "iopub.status.idle": "2021-03-07T12:06:58.366665Z",
     "shell.execute_reply": "2021-03-07T12:06:58.367043Z"
    },
    "papermill": {
     "duration": 0.035115,
     "end_time": "2021-03-07T12:06:58.367157",
     "exception": false,
     "start_time": "2021-03-07T12:06:58.332042",
     "status": "completed"
    },
    "tags": []
   },
   "outputs": [],
   "source": [
    "# #hide\n",
    "# g = g.reset_index(['date'])"
   ]
  },
  {
   "cell_type": "code",
   "execution_count": 25,
   "id": "incomplete-mustang",
   "metadata": {
    "execution": {
     "iopub.execute_input": "2021-03-07T12:06:58.430683Z",
     "iopub.status.busy": "2021-03-07T12:06:58.430099Z",
     "iopub.status.idle": "2021-03-07T12:06:58.431503Z",
     "shell.execute_reply": "2021-03-07T12:06:58.432045Z"
    },
    "papermill": {
     "duration": 0.034751,
     "end_time": "2021-03-07T12:06:58.432176",
     "exception": false,
     "start_time": "2021-03-07T12:06:58.397425",
     "status": "completed"
    },
    "tags": []
   },
   "outputs": [],
   "source": [
    "#hide\n",
    "# g.head()"
   ]
  },
  {
   "cell_type": "code",
   "execution_count": 26,
   "id": "specific-kruger",
   "metadata": {
    "execution": {
     "iopub.execute_input": "2021-03-07T12:06:58.496472Z",
     "iopub.status.busy": "2021-03-07T12:06:58.495883Z",
     "iopub.status.idle": "2021-03-07T12:06:58.497811Z",
     "shell.execute_reply": "2021-03-07T12:06:58.497415Z"
    },
    "papermill": {
     "duration": 0.035011,
     "end_time": "2021-03-07T12:06:58.497911",
     "exception": false,
     "start_time": "2021-03-07T12:06:58.462900",
     "status": "completed"
    },
    "tags": []
   },
   "outputs": [],
   "source": [
    "#hide\n",
    "# g.columns = ['date','country','cases']"
   ]
  },
  {
   "cell_type": "code",
   "execution_count": 27,
   "id": "tender-conversion",
   "metadata": {
    "execution": {
     "iopub.execute_input": "2021-03-07T12:06:58.561428Z",
     "iopub.status.busy": "2021-03-07T12:06:58.560843Z",
     "iopub.status.idle": "2021-03-07T12:06:58.563006Z",
     "shell.execute_reply": "2021-03-07T12:06:58.562526Z"
    },
    "papermill": {
     "duration": 0.035098,
     "end_time": "2021-03-07T12:06:58.563117",
     "exception": false,
     "start_time": "2021-03-07T12:06:58.528019",
     "status": "completed"
    },
    "tags": []
   },
   "outputs": [],
   "source": [
    "#hide\n",
    "# g['continent'] = g.country"
   ]
  },
  {
   "cell_type": "code",
   "execution_count": 28,
   "id": "substantial-wilderness",
   "metadata": {
    "execution": {
     "iopub.execute_input": "2021-03-07T12:06:58.627424Z",
     "iopub.status.busy": "2021-03-07T12:06:58.626847Z",
     "iopub.status.idle": "2021-03-07T12:06:58.629081Z",
     "shell.execute_reply": "2021-03-07T12:06:58.628617Z"
    },
    "papermill": {
     "duration": 0.035086,
     "end_time": "2021-03-07T12:06:58.629204",
     "exception": false,
     "start_time": "2021-03-07T12:06:58.594118",
     "status": "completed"
    },
    "tags": []
   },
   "outputs": [],
   "source": [
    "#hide\n",
    "# cols = list(g.columns.values)"
   ]
  },
  {
   "cell_type": "code",
   "execution_count": 29,
   "id": "solved-farming",
   "metadata": {
    "execution": {
     "iopub.execute_input": "2021-03-07T12:06:58.692841Z",
     "iopub.status.busy": "2021-03-07T12:06:58.692339Z",
     "iopub.status.idle": "2021-03-07T12:06:58.694262Z",
     "shell.execute_reply": "2021-03-07T12:06:58.694663Z"
    },
    "papermill": {
     "duration": 0.035417,
     "end_time": "2021-03-07T12:06:58.694779",
     "exception": false,
     "start_time": "2021-03-07T12:06:58.659362",
     "status": "completed"
    },
    "tags": []
   },
   "outputs": [],
   "source": [
    "#hide\n",
    "# cols.insert(0, cols.pop())"
   ]
  },
  {
   "cell_type": "code",
   "execution_count": 30,
   "id": "executed-adoption",
   "metadata": {
    "execution": {
     "iopub.execute_input": "2021-03-07T12:06:58.759162Z",
     "iopub.status.busy": "2021-03-07T12:06:58.758570Z",
     "iopub.status.idle": "2021-03-07T12:06:58.760367Z",
     "shell.execute_reply": "2021-03-07T12:06:58.760801Z"
    },
    "papermill": {
     "duration": 0.03583,
     "end_time": "2021-03-07T12:06:58.760939",
     "exception": false,
     "start_time": "2021-03-07T12:06:58.725109",
     "status": "completed"
    },
    "tags": []
   },
   "outputs": [],
   "source": [
    "#hide\n",
    "# g = g[cols]"
   ]
  },
  {
   "cell_type": "code",
   "execution_count": 31,
   "id": "subject-dublin",
   "metadata": {
    "execution": {
     "iopub.execute_input": "2021-03-07T12:06:58.825084Z",
     "iopub.status.busy": "2021-03-07T12:06:58.824567Z",
     "iopub.status.idle": "2021-03-07T12:06:58.826811Z",
     "shell.execute_reply": "2021-03-07T12:06:58.826405Z"
    },
    "papermill": {
     "duration": 0.035443,
     "end_time": "2021-03-07T12:06:58.826916",
     "exception": false,
     "start_time": "2021-03-07T12:06:58.791473",
     "status": "completed"
    },
    "tags": []
   },
   "outputs": [],
   "source": [
    "#hide\n",
    "# g['continent'] = g['continent'].map(mapping['map.continent'])"
   ]
  },
  {
   "cell_type": "code",
   "execution_count": 32,
   "id": "freelance-scout",
   "metadata": {
    "execution": {
     "iopub.execute_input": "2021-03-07T12:06:58.891076Z",
     "iopub.status.busy": "2021-03-07T12:06:58.890574Z",
     "iopub.status.idle": "2021-03-07T12:06:58.892444Z",
     "shell.execute_reply": "2021-03-07T12:06:58.892846Z"
    },
    "papermill": {
     "duration": 0.035603,
     "end_time": "2021-03-07T12:06:58.892961",
     "exception": false,
     "start_time": "2021-03-07T12:06:58.857358",
     "status": "completed"
    },
    "tags": []
   },
   "outputs": [],
   "source": [
    "#hide\n",
    "# g.head()"
   ]
  },
  {
   "cell_type": "code",
   "execution_count": 33,
   "id": "limited-engine",
   "metadata": {
    "execution": {
     "iopub.execute_input": "2021-03-07T12:06:58.956278Z",
     "iopub.status.busy": "2021-03-07T12:06:58.955695Z",
     "iopub.status.idle": "2021-03-07T12:06:58.957741Z",
     "shell.execute_reply": "2021-03-07T12:06:58.957321Z"
    },
    "papermill": {
     "duration": 0.03489,
     "end_time": "2021-03-07T12:06:58.957840",
     "exception": false,
     "start_time": "2021-03-07T12:06:58.922950",
     "status": "completed"
    },
    "tags": []
   },
   "outputs": [],
   "source": [
    "# hide\n",
    "# g['date'] = g['date'].astype('datetime64[ns]')"
   ]
  },
  {
   "cell_type": "code",
   "execution_count": 34,
   "id": "sophisticated-supervisor",
   "metadata": {
    "execution": {
     "iopub.execute_input": "2021-03-07T12:06:59.021555Z",
     "iopub.status.busy": "2021-03-07T12:06:59.020966Z",
     "iopub.status.idle": "2021-03-07T12:06:59.023064Z",
     "shell.execute_reply": "2021-03-07T12:06:59.022508Z"
    },
    "papermill": {
     "duration": 0.035108,
     "end_time": "2021-03-07T12:06:59.023176",
     "exception": false,
     "start_time": "2021-03-07T12:06:58.988068",
     "status": "completed"
    },
    "tags": []
   },
   "outputs": [],
   "source": [
    "#hide\n",
    "# g['date'] = g.date.dt.dayofyear"
   ]
  },
  {
   "cell_type": "code",
   "execution_count": 35,
   "id": "inside-dubai",
   "metadata": {
    "execution": {
     "iopub.execute_input": "2021-03-07T12:06:59.086893Z",
     "iopub.status.busy": "2021-03-07T12:06:59.086390Z",
     "iopub.status.idle": "2021-03-07T12:06:59.088662Z",
     "shell.execute_reply": "2021-03-07T12:06:59.088260Z"
    },
    "papermill": {
     "duration": 0.034918,
     "end_time": "2021-03-07T12:06:59.088762",
     "exception": false,
     "start_time": "2021-03-07T12:06:59.053844",
     "status": "completed"
    },
    "tags": []
   },
   "outputs": [],
   "source": [
    "#hide\n",
    "# g = g.rename(columns= {'continent':'group','country':'name','cases':'value'})"
   ]
  },
  {
   "cell_type": "code",
   "execution_count": 36,
   "id": "fleet-motorcycle",
   "metadata": {
    "execution": {
     "iopub.execute_input": "2021-03-07T12:06:59.152320Z",
     "iopub.status.busy": "2021-03-07T12:06:59.151732Z",
     "iopub.status.idle": "2021-03-07T12:06:59.153528Z",
     "shell.execute_reply": "2021-03-07T12:06:59.153975Z"
    },
    "papermill": {
     "duration": 0.035195,
     "end_time": "2021-03-07T12:06:59.154085",
     "exception": false,
     "start_time": "2021-03-07T12:06:59.118890",
     "status": "completed"
    },
    "tags": []
   },
   "outputs": [],
   "source": [
    "#hide\n",
    "# cols = ['name','group','day','value']"
   ]
  },
  {
   "cell_type": "code",
   "execution_count": 37,
   "id": "continued-sleeping",
   "metadata": {
    "execution": {
     "iopub.execute_input": "2021-03-07T12:06:59.217485Z",
     "iopub.status.busy": "2021-03-07T12:06:59.216981Z",
     "iopub.status.idle": "2021-03-07T12:06:59.219372Z",
     "shell.execute_reply": "2021-03-07T12:06:59.218971Z"
    },
    "papermill": {
     "duration": 0.035272,
     "end_time": "2021-03-07T12:06:59.219471",
     "exception": false,
     "start_time": "2021-03-07T12:06:59.184199",
     "status": "completed"
    },
    "tags": []
   },
   "outputs": [],
   "source": [
    "#hide\n",
    "# g.rename(columns= {'date':'day'},inplace = True)"
   ]
  },
  {
   "cell_type": "code",
   "execution_count": 38,
   "id": "major-fight",
   "metadata": {
    "execution": {
     "iopub.execute_input": "2021-03-07T12:06:59.284798Z",
     "iopub.status.busy": "2021-03-07T12:06:59.284296Z",
     "iopub.status.idle": "2021-03-07T12:06:59.286200Z",
     "shell.execute_reply": "2021-03-07T12:06:59.286582Z"
    },
    "papermill": {
     "duration": 0.036836,
     "end_time": "2021-03-07T12:06:59.286702",
     "exception": false,
     "start_time": "2021-03-07T12:06:59.249866",
     "status": "completed"
    },
    "tags": []
   },
   "outputs": [],
   "source": [
    "#hide\n",
    "# g = g[cols]"
   ]
  },
  {
   "cell_type": "code",
   "execution_count": 39,
   "id": "structured-mobile",
   "metadata": {
    "execution": {
     "iopub.execute_input": "2021-03-07T12:06:59.351254Z",
     "iopub.status.busy": "2021-03-07T12:06:59.349601Z",
     "iopub.status.idle": "2021-03-07T12:06:59.351970Z",
     "shell.execute_reply": "2021-03-07T12:06:59.352443Z"
    },
    "papermill": {
     "duration": 0.03573,
     "end_time": "2021-03-07T12:06:59.352571",
     "exception": false,
     "start_time": "2021-03-07T12:06:59.316841",
     "status": "completed"
    },
    "tags": []
   },
   "outputs": [],
   "source": [
    "# #hide\n",
    "# g = g[g.group.notna()]"
   ]
  },
  {
   "cell_type": "code",
   "execution_count": 40,
   "id": "determined-closing",
   "metadata": {
    "execution": {
     "iopub.execute_input": "2021-03-07T12:06:59.416557Z",
     "iopub.status.busy": "2021-03-07T12:06:59.416006Z",
     "iopub.status.idle": "2021-03-07T12:06:59.418048Z",
     "shell.execute_reply": "2021-03-07T12:06:59.417594Z"
    },
    "papermill": {
     "duration": 0.035029,
     "end_time": "2021-03-07T12:06:59.418159",
     "exception": false,
     "start_time": "2021-03-07T12:06:59.383130",
     "status": "completed"
    },
    "tags": []
   },
   "outputs": [],
   "source": [
    "# #hide\n",
    "# colors = dict(zip(\n",
    "#     [\"Oceania\", \"Europe\", \"Asia\", \"South America\", \"Middle East\", \"North America\", \"Africa\"],\n",
    "#     [\"#adb0ff\", \"#ffb3ff\", \"#90d595\", \"#e48381\", \"#aafbff\", \"#f7bb5f\", \"#eafb50\"]\n",
    "# ))\n",
    "# group_lk = g.set_index('name')['group'].to_dict()"
   ]
  },
  {
   "cell_type": "code",
   "execution_count": null,
   "id": "gross-drinking",
   "metadata": {
    "papermill": {
     "duration": 0.03007,
     "end_time": "2021-03-07T12:06:59.478737",
     "exception": false,
     "start_time": "2021-03-07T12:06:59.448667",
     "status": "completed"
    },
    "tags": []
   },
   "outputs": [],
   "source": []
  },
  {
   "cell_type": "code",
   "execution_count": 41,
   "id": "subject-macintosh",
   "metadata": {
    "execution": {
     "iopub.execute_input": "2021-03-07T12:06:59.542794Z",
     "iopub.status.busy": "2021-03-07T12:06:59.542268Z",
     "iopub.status.idle": "2021-03-07T12:06:59.544171Z",
     "shell.execute_reply": "2021-03-07T12:06:59.544557Z"
    },
    "papermill": {
     "duration": 0.035834,
     "end_time": "2021-03-07T12:06:59.544671",
     "exception": false,
     "start_time": "2021-03-07T12:06:59.508837",
     "status": "completed"
    },
    "tags": []
   },
   "outputs": [],
   "source": [
    "# #hide\n",
    "# fig, ax = plt.subplots(figsize=(15, 8))\n",
    "\n",
    "# def draw_barchart(current_day):\n",
    "#     dff = g[g['day'].eq(current_day)].sort_values(by='value', ascending=True).tail(10)\n",
    "#     ax.clear()\n",
    "#     ax.barh(dff['name'], dff['value'], color=[colors[group_lk[x]] for x in dff['name']])\n",
    "#     dx = dff['value'].max() / 200\n",
    "    \n",
    "#     for i, (value, name) in enumerate(zip(dff['value'], dff['name'])):\n",
    "#         ax.text(value-dx, i,     name,           size=14, weight=600, ha='right', va='bottom')\n",
    "#         ax.text(value-dx, i-.25, group_lk[name], size=10, color='#444444', ha='right', va='baseline')\n",
    "#         ax.text(value+dx, i,     f'{value:,.0f}',  size=14, ha='left',  va='center')\n",
    "#     ax.text(1, 0.4, current_day, transform=ax.transAxes, color='#777777', size=46, ha='right', weight=800)\n",
    "#     ax.text(0, 1.06, 'Population (thousands)', transform=ax.transAxes, size=12, color='#777777')\n",
    "#     ax.xaxis.set_major_formatter(ticker.StrMethodFormatter('{x:,.0f}'))\n",
    "#     ax.xaxis.set_ticks_position('top')\n",
    "#     ax.tick_params(axis='x', colors='#777777', labelsize=12)\n",
    "#     ax.set_yticks([])\n",
    "#     ax.margins(0, 0.01)\n",
    "#     ax.grid(which='major', axis='x', linestyle='-')\n",
    "#     ax.set_axisbelow(True)\n",
    "    \n",
    "#     ax.text(0, 1.15, 'Coronavirus',\n",
    "#             transform=ax.transAxes, size=24, weight=600, ha='left', va='top')\n",
    "# #     ax.text(1, 0, 'by @pratapvardhan; credit @jburnmurdoch', transform=ax.transAxes, color='#777777', ha='right',\n",
    "# #             bbox=dict(facecolor='white', alpha=0.8, edgecolor='white'))\n",
    "#     plt.box(False)"
   ]
  },
  {
   "cell_type": "code",
   "execution_count": 42,
   "id": "sexual-wages",
   "metadata": {
    "execution": {
     "iopub.execute_input": "2021-03-07T12:06:59.608280Z",
     "iopub.status.busy": "2021-03-07T12:06:59.607714Z",
     "iopub.status.idle": "2021-03-07T12:06:59.609715Z",
     "shell.execute_reply": "2021-03-07T12:06:59.609315Z"
    },
    "papermill": {
     "duration": 0.034951,
     "end_time": "2021-03-07T12:06:59.609815",
     "exception": false,
     "start_time": "2021-03-07T12:06:59.574864",
     "status": "completed"
    },
    "tags": []
   },
   "outputs": [],
   "source": [
    "# #hide_input\n",
    "# fig, ax = plt.subplots(figsize=(15, 8))\n",
    "# animator = animation.FuncAnimation(fig, draw_barchart, frames=range(g.day.values.min(), g.day.values.max()))\n",
    "# HTML(animator.to_jshtml())\n",
    "# # or use animator.to_html5_video() or animator.save() "
   ]
  },
  {
   "cell_type": "code",
   "execution_count": null,
   "id": "australian-container",
   "metadata": {
    "papermill": {
     "duration": 0.030176,
     "end_time": "2021-03-07T12:06:59.670221",
     "exception": false,
     "start_time": "2021-03-07T12:06:59.640045",
     "status": "completed"
    },
    "tags": []
   },
   "outputs": [],
   "source": []
  },
  {
   "cell_type": "code",
   "execution_count": null,
   "id": "mediterranean-pontiac",
   "metadata": {
    "papermill": {
     "duration": 0.030026,
     "end_time": "2021-03-07T12:06:59.730258",
     "exception": false,
     "start_time": "2021-03-07T12:06:59.700232",
     "status": "completed"
    },
    "tags": []
   },
   "outputs": [],
   "source": []
  },
  {
   "cell_type": "code",
   "execution_count": null,
   "id": "aging-legislature",
   "metadata": {
    "papermill": {
     "duration": 0.030194,
     "end_time": "2021-03-07T12:06:59.790715",
     "exception": false,
     "start_time": "2021-03-07T12:06:59.760521",
     "status": "completed"
    },
    "tags": []
   },
   "outputs": [],
   "source": []
  }
 ],
 "metadata": {
  "kernelspec": {
   "display_name": "Python 3",
   "language": "python",
   "name": "python3"
  },
  "language_info": {
   "codemirror_mode": {
    "name": "ipython",
    "version": 3
   },
   "file_extension": ".py",
   "mimetype": "text/x-python",
   "name": "python",
   "nbconvert_exporter": "python",
   "pygments_lexer": "ipython3",
   "version": "3.6.13"
  },
  "papermill": {
   "duration": 5.900156,
   "end_time": "2021-03-07T12:07:00.126768",
   "environment_variables": {},
   "exception": null,
   "input_path": "2020-03-21-covid19exp.ipynb",
   "output_path": "2020-03-21-covid19exp.ipynb",
   "parameters": {},
   "start_time": "2021-03-07T12:06:54.226612",
   "version": "2.0.0"
  }
 },
 "nbformat": 4,
 "nbformat_minor": 5
}