{
 "cells": [
  {
   "cell_type": "markdown",
   "id": "muslim-click",
   "metadata": {
    "papermill": {
     "duration": 0.040623,
     "end_time": "2021-12-28T12:12:54.641180",
     "exception": false,
     "start_time": "2021-12-28T12:12:54.600557",
     "status": "completed"
    },
    "tags": []
   },
   "source": [
    "# COVID-19 Case Race\n",
    "> A race chart to see rising cases around the world\n",
    "\n",
    "- author: Hargun Oberoi\n",
    "- image: images/covid-overview.png\n",
    "- hide: false\n",
    "- badges: false"
   ]
  },
  {
   "cell_type": "code",
   "execution_count": 1,
   "id": "proof-material",
   "metadata": {
    "execution": {
     "iopub.execute_input": "2021-12-28T12:12:54.726985Z",
     "iopub.status.busy": "2021-12-28T12:12:54.726294Z",
     "iopub.status.idle": "2021-12-28T12:12:55.093646Z",
     "shell.execute_reply": "2021-12-28T12:12:55.092984Z"
    },
    "papermill": {
     "duration": 0.415975,
     "end_time": "2021-12-28T12:12:55.093863",
     "exception": false,
     "start_time": "2021-12-28T12:12:54.677888",
     "status": "completed"
    },
    "tags": []
   },
   "outputs": [],
   "source": [
    "#hide\n",
    "import numpy as np\n",
    "import pandas as pd\n",
    "from jinja2 import Template\n",
    "from IPython.display import HTML"
   ]
  },
  {
   "cell_type": "code",
   "execution_count": 2,
   "id": "developed-terminology",
   "metadata": {
    "execution": {
     "iopub.execute_input": "2021-12-28T12:12:55.168765Z",
     "iopub.status.busy": "2021-12-28T12:12:55.168118Z",
     "iopub.status.idle": "2021-12-28T12:12:55.170577Z",
     "shell.execute_reply": "2021-12-28T12:12:55.171149Z"
    },
    "papermill": {
     "duration": 0.042957,
     "end_time": "2021-12-28T12:12:55.171295",
     "exception": false,
     "start_time": "2021-12-28T12:12:55.128338",
     "status": "completed"
    },
    "tags": []
   },
   "outputs": [],
   "source": [
    "#hide\n",
    "\n",
    "# FETCH\n",
    "base_url = 'https://raw.githubusercontent.com/pratapvardhan/notebooks/master/covid19/'\n",
    "paths = {\n",
    "    'mapping': base_url + 'mapping_countries.csv',\n",
    "    'overview': base_url + 'overview.tpl'\n",
    "}"
   ]
  },
  {
   "cell_type": "code",
   "execution_count": 3,
   "id": "dynamic-saver",
   "metadata": {
    "execution": {
     "iopub.execute_input": "2021-12-28T12:12:55.246277Z",
     "iopub.status.busy": "2021-12-28T12:12:55.245649Z",
     "iopub.status.idle": "2021-12-28T12:12:55.249150Z",
     "shell.execute_reply": "2021-12-28T12:12:55.249593Z"
    },
    "papermill": {
     "duration": 0.046199,
     "end_time": "2021-12-28T12:12:55.249747",
     "exception": false,
     "start_time": "2021-12-28T12:12:55.203548",
     "status": "completed"
    },
    "tags": []
   },
   "outputs": [
    {
     "data": {
      "text/plain": [
       "'https://raw.githubusercontent.com/pratapvardhan/notebooks/master/covid19/mapping_countries.csv'"
      ]
     },
     "execution_count": 3,
     "metadata": {},
     "output_type": "execute_result"
    }
   ],
   "source": [
    "#hide\n",
    "paths['mapping']"
   ]
  },
  {
   "cell_type": "code",
   "execution_count": 4,
   "id": "urban-software",
   "metadata": {
    "execution": {
     "iopub.execute_input": "2021-12-28T12:12:55.321834Z",
     "iopub.status.busy": "2021-12-28T12:12:55.321149Z",
     "iopub.status.idle": "2021-12-28T12:12:55.322754Z",
     "shell.execute_reply": "2021-12-28T12:12:55.323292Z"
    },
    "papermill": {
     "duration": 0.040608,
     "end_time": "2021-12-28T12:12:55.323444",
     "exception": false,
     "start_time": "2021-12-28T12:12:55.282836",
     "status": "completed"
    },
    "tags": []
   },
   "outputs": [],
   "source": [
    "#hide\n",
    "def get_mappings(url):\n",
    "    df = pd.read_csv(url)\n",
    "    return {\n",
    "        'df': df,\n",
    "        'replace.country': dict(df.dropna(subset=['Name']).set_index('Country')['Name']),\n",
    "        'map.continent': dict(df.set_index('Name')['Continent'])\n",
    "    }"
   ]
  },
  {
   "cell_type": "code",
   "execution_count": 5,
   "id": "intimate-machinery",
   "metadata": {
    "execution": {
     "iopub.execute_input": "2021-12-28T12:12:55.399682Z",
     "iopub.status.busy": "2021-12-28T12:12:55.399068Z",
     "iopub.status.idle": "2021-12-28T12:12:55.430384Z",
     "shell.execute_reply": "2021-12-28T12:12:55.429754Z"
    },
    "papermill": {
     "duration": 0.070684,
     "end_time": "2021-12-28T12:12:55.430522",
     "exception": false,
     "start_time": "2021-12-28T12:12:55.359838",
     "status": "completed"
    },
    "tags": []
   },
   "outputs": [],
   "source": [
    "#hide\n",
    "mapping = get_mappings(paths['mapping'])"
   ]
  },
  {
   "cell_type": "code",
   "execution_count": 6,
   "id": "certified-tactics",
   "metadata": {
    "execution": {
     "iopub.execute_input": "2021-12-28T12:12:55.504528Z",
     "iopub.status.busy": "2021-12-28T12:12:55.503634Z",
     "iopub.status.idle": "2021-12-28T12:12:55.505249Z",
     "shell.execute_reply": "2021-12-28T12:12:55.505862Z"
    },
    "papermill": {
     "duration": 0.042308,
     "end_time": "2021-12-28T12:12:55.506013",
     "exception": false,
     "start_time": "2021-12-28T12:12:55.463705",
     "status": "completed"
    },
    "tags": []
   },
   "outputs": [],
   "source": [
    "#hide\n",
    "def get_template(path):\n",
    "    from urllib.parse import urlparse\n",
    "    if bool(urlparse(path).netloc):\n",
    "        from urllib.request import urlopen\n",
    "        return urlopen(path).read().decode('utf8')\n",
    "    return open(path).read()"
   ]
  },
  {
   "cell_type": "code",
   "execution_count": 7,
   "id": "realistic-blast",
   "metadata": {
    "execution": {
     "iopub.execute_input": "2021-12-28T12:12:55.578482Z",
     "iopub.status.busy": "2021-12-28T12:12:55.577879Z",
     "iopub.status.idle": "2021-12-28T12:12:55.580467Z",
     "shell.execute_reply": "2021-12-28T12:12:55.581002Z"
    },
    "papermill": {
     "duration": 0.041291,
     "end_time": "2021-12-28T12:12:55.581142",
     "exception": false,
     "start_time": "2021-12-28T12:12:55.539851",
     "status": "completed"
    },
    "tags": []
   },
   "outputs": [],
   "source": [
    "#hide\n",
    "def get_frame(name):\n",
    "    url = (\n",
    "        'https://raw.githubusercontent.com/CSSEGISandData/COVID-19/master/csse_covid_19_data/'\n",
    "        f'csse_covid_19_time_series/time_series_covid19_{name}_global.csv')\n",
    "    df = pd.read_csv(url)\n",
    "    # rename countries\n",
    "    df['Country/Region'] = df['Country/Region'].replace(mapping['replace.country'])\n",
    "    return df"
   ]
  },
  {
   "cell_type": "code",
   "execution_count": 8,
   "id": "affiliated-characterization",
   "metadata": {
    "execution": {
     "iopub.execute_input": "2021-12-28T12:12:55.650832Z",
     "iopub.status.busy": "2021-12-28T12:12:55.650195Z",
     "iopub.status.idle": "2021-12-28T12:12:55.657722Z",
     "shell.execute_reply": "2021-12-28T12:12:55.658277Z"
    },
    "papermill": {
     "duration": 0.04421,
     "end_time": "2021-12-28T12:12:55.658416",
     "exception": false,
     "start_time": "2021-12-28T12:12:55.614206",
     "status": "completed"
    },
    "tags": []
   },
   "outputs": [],
   "source": [
    "#hide\n",
    "def get_dates(df):\n",
    "    dt_cols = df.columns[~df.columns.isin(['Province/State', 'Country/Region', 'Lat', 'Long'])]\n",
    "    LAST_DATE_I = -1\n",
    "    # sometimes last column may be empty, then go backwards\n",
    "    for i in range(-1, -len(dt_cols), -1):\n",
    "        if not df[dt_cols[i]].fillna(0).eq(0).all():\n",
    "            LAST_DATE_I = i\n",
    "            break\n",
    "    return LAST_DATE_I, dt_cols"
   ]
  },
  {
   "cell_type": "code",
   "execution_count": 9,
   "id": "recent-optimization",
   "metadata": {
    "execution": {
     "iopub.execute_input": "2021-12-28T12:12:55.729291Z",
     "iopub.status.busy": "2021-12-28T12:12:55.728664Z",
     "iopub.status.idle": "2021-12-28T12:12:56.070127Z",
     "shell.execute_reply": "2021-12-28T12:12:56.068684Z"
    },
    "papermill": {
     "duration": 0.379291,
     "end_time": "2021-12-28T12:12:56.070343",
     "exception": false,
     "start_time": "2021-12-28T12:12:55.691052",
     "status": "completed"
    },
    "tags": []
   },
   "outputs": [],
   "source": [
    "#hide\n",
    "COL_REGION = 'Country/Region'\n",
    "# Confirmed, Recovered, Deaths\n",
    "df = get_frame('confirmed')\n",
    "# dft_: timeseries, dfc_: today country agg\n",
    "dft_cases = df\n",
    "dft_deaths = get_frame('deaths')\n",
    "dft_recovered = get_frame('recovered')\n",
    "LAST_DATE_I, dt_cols = get_dates(df)"
   ]
  },
  {
   "cell_type": "code",
   "execution_count": 10,
   "id": "absolute-copper",
   "metadata": {
    "execution": {
     "iopub.execute_input": "2021-12-28T12:12:56.143905Z",
     "iopub.status.busy": "2021-12-28T12:12:56.143340Z",
     "iopub.status.idle": "2021-12-28T12:12:56.145473Z",
     "shell.execute_reply": "2021-12-28T12:12:56.146007Z"
    },
    "papermill": {
     "duration": 0.042671,
     "end_time": "2021-12-28T12:12:56.146151",
     "exception": false,
     "start_time": "2021-12-28T12:12:56.103480",
     "status": "completed"
    },
    "tags": []
   },
   "outputs": [],
   "source": [
    "#hide\n",
    "LAST_DATE_I, dt_cols = get_dates(df)\n",
    "dt_today =dt_cols[LAST_DATE_I]\n",
    "# dt_5day = dt_cols[LAST_DATE_I - 5]\n",
    "dt_yday = dt_cols[LAST_DATE_I - 1]"
   ]
  },
  {
   "cell_type": "code",
   "execution_count": 11,
   "id": "restricted-sheriff",
   "metadata": {
    "execution": {
     "iopub.execute_input": "2021-12-28T12:12:56.218962Z",
     "iopub.status.busy": "2021-12-28T12:12:56.218353Z",
     "iopub.status.idle": "2021-12-28T12:12:56.226609Z",
     "shell.execute_reply": "2021-12-28T12:12:56.226155Z"
    },
    "papermill": {
     "duration": 0.047793,
     "end_time": "2021-12-28T12:12:56.226732",
     "exception": false,
     "start_time": "2021-12-28T12:12:56.178939",
     "status": "completed"
    },
    "tags": []
   },
   "outputs": [],
   "source": [
    "#hide\n",
    "dfc_cases = dft_cases.groupby(COL_REGION)[dt_today].sum()\n",
    "dfc_deaths = dft_deaths.groupby(COL_REGION)[dt_today].sum()\n",
    "# dfp_cases = dft_cases.groupby(COL_REGION)[dt_5day].sum()\n",
    "# dfp_deaths = dft_deaths.groupby(COL_REGION)[dt_5day].sum()\n",
    "dfp_cases = dft_cases.groupby(COL_REGION)[dt_yday].sum()\n",
    "dfp_deaths = dft_deaths.groupby(COL_REGION)[dt_yday].sum()"
   ]
  },
  {
   "cell_type": "code",
   "execution_count": 12,
   "id": "deluxe-hepatitis",
   "metadata": {
    "execution": {
     "iopub.execute_input": "2021-12-28T12:12:56.298178Z",
     "iopub.status.busy": "2021-12-28T12:12:56.297498Z",
     "iopub.status.idle": "2021-12-28T12:12:56.304886Z",
     "shell.execute_reply": "2021-12-28T12:12:56.305312Z"
    },
    "papermill": {
     "duration": 0.046557,
     "end_time": "2021-12-28T12:12:56.305457",
     "exception": false,
     "start_time": "2021-12-28T12:12:56.258900",
     "status": "completed"
    },
    "tags": []
   },
   "outputs": [],
   "source": [
    "#hide\n",
    "df_table = (pd.DataFrame(dict(Cases = dfc_cases, Deaths = dfc_deaths, PCases = dfp_cases, PDeaths = dfp_deaths))\n",
    "            .sort_values(by = ['Cases','Deaths'], ascending = [False, False])\n",
    "            .reset_index())"
   ]
  },
  {
   "cell_type": "code",
   "execution_count": 13,
   "id": "educational-chancellor",
   "metadata": {
    "execution": {
     "iopub.execute_input": "2021-12-28T12:12:56.392585Z",
     "iopub.status.busy": "2021-12-28T12:12:56.391984Z",
     "iopub.status.idle": "2021-12-28T12:12:56.401311Z",
     "shell.execute_reply": "2021-12-28T12:12:56.400810Z"
    },
    "papermill": {
     "duration": 0.061743,
     "end_time": "2021-12-28T12:12:56.401445",
     "exception": false,
     "start_time": "2021-12-28T12:12:56.339702",
     "status": "completed"
    },
    "tags": []
   },
   "outputs": [
    {
     "data": {
      "text/html": [
       "<div>\n",
       "<style scoped>\n",
       "    .dataframe tbody tr th:only-of-type {\n",
       "        vertical-align: middle;\n",
       "    }\n",
       "\n",
       "    .dataframe tbody tr th {\n",
       "        vertical-align: top;\n",
       "    }\n",
       "\n",
       "    .dataframe thead th {\n",
       "        text-align: right;\n",
       "    }\n",
       "</style>\n",
       "<table border=\"1\" class=\"dataframe\">\n",
       "  <thead>\n",
       "    <tr style=\"text-align: right;\">\n",
       "      <th></th>\n",
       "      <th>Country/Region</th>\n",
       "      <th>Cases</th>\n",
       "      <th>Deaths</th>\n",
       "      <th>PCases</th>\n",
       "      <th>PDeaths</th>\n",
       "      <th>Cases (+)</th>\n",
       "      <th>Deaths (+)</th>\n",
       "      <th>Fatality Rate</th>\n",
       "      <th>Continent</th>\n",
       "    </tr>\n",
       "  </thead>\n",
       "  <tbody>\n",
       "    <tr>\n",
       "      <th>0</th>\n",
       "      <td>US</td>\n",
       "      <td>52793407</td>\n",
       "      <td>818371</td>\n",
       "      <td>52280854</td>\n",
       "      <td>816609</td>\n",
       "      <td>512553</td>\n",
       "      <td>1762</td>\n",
       "      <td>1.55</td>\n",
       "      <td>North America</td>\n",
       "    </tr>\n",
       "    <tr>\n",
       "      <th>1</th>\n",
       "      <td>India</td>\n",
       "      <td>34799691</td>\n",
       "      <td>480290</td>\n",
       "      <td>34793333</td>\n",
       "      <td>479997</td>\n",
       "      <td>6358</td>\n",
       "      <td>293</td>\n",
       "      <td>1.38</td>\n",
       "      <td>Asia</td>\n",
       "    </tr>\n",
       "    <tr>\n",
       "      <th>2</th>\n",
       "      <td>Brazil</td>\n",
       "      <td>22250218</td>\n",
       "      <td>618797</td>\n",
       "      <td>22243266</td>\n",
       "      <td>618732</td>\n",
       "      <td>6952</td>\n",
       "      <td>65</td>\n",
       "      <td>2.78</td>\n",
       "      <td>South America</td>\n",
       "    </tr>\n",
       "    <tr>\n",
       "      <th>3</th>\n",
       "      <td>United Kingdom</td>\n",
       "      <td>12277814</td>\n",
       "      <td>148470</td>\n",
       "      <td>11958928</td>\n",
       "      <td>148324</td>\n",
       "      <td>318886</td>\n",
       "      <td>146</td>\n",
       "      <td>1.21</td>\n",
       "      <td>Europe</td>\n",
       "    </tr>\n",
       "    <tr>\n",
       "      <th>4</th>\n",
       "      <td>Russia</td>\n",
       "      <td>10236301</td>\n",
       "      <td>299077</td>\n",
       "      <td>10213265</td>\n",
       "      <td>298165</td>\n",
       "      <td>23036</td>\n",
       "      <td>912</td>\n",
       "      <td>2.92</td>\n",
       "      <td>Europe</td>\n",
       "    </tr>\n",
       "  </tbody>\n",
       "</table>\n",
       "</div>"
      ],
      "text/plain": [
       "   Country/Region     Cases  Deaths    PCases  PDeaths  Cases (+)  Deaths (+)  \\\n",
       "0              US  52793407  818371  52280854   816609     512553        1762   \n",
       "1           India  34799691  480290  34793333   479997       6358         293   \n",
       "2          Brazil  22250218  618797  22243266   618732       6952          65   \n",
       "3  United Kingdom  12277814  148470  11958928   148324     318886         146   \n",
       "4          Russia  10236301  299077  10213265   298165      23036         912   \n",
       "\n",
       "   Fatality Rate      Continent  \n",
       "0           1.55  North America  \n",
       "1           1.38           Asia  \n",
       "2           2.78  South America  \n",
       "3           1.21         Europe  \n",
       "4           2.92         Europe  "
      ]
     },
     "execution_count": 13,
     "metadata": {},
     "output_type": "execute_result"
    }
   ],
   "source": [
    "#hide\n",
    "for c in 'Cases, Deaths'.split(', '):\n",
    "    df_table[f'{c} (+)'] = (df_table[c] - df_table[f'P{c}']).clip(0)\n",
    "    #Clip ça veut dire, les chiffres negatif sont interdit\n",
    "df_table['Fatality Rate'] = (100* df_table['Deaths']/ df_table['Cases']).round(2)\n",
    "df_table['Continent'] = df_table['Country/Region'].map(mapping['map.continent'])\n",
    "df_table.head(5)"
   ]
  },
  {
   "cell_type": "code",
   "execution_count": 14,
   "id": "aboriginal-bulgaria",
   "metadata": {
    "execution": {
     "iopub.execute_input": "2021-12-28T12:12:56.477586Z",
     "iopub.status.busy": "2021-12-28T12:12:56.477025Z",
     "iopub.status.idle": "2021-12-28T12:12:56.480013Z",
     "shell.execute_reply": "2021-12-28T12:12:56.479572Z"
    },
    "papermill": {
     "duration": 0.044528,
     "end_time": "2021-12-28T12:12:56.480134",
     "exception": false,
     "start_time": "2021-12-28T12:12:56.435606",
     "status": "completed"
    },
    "tags": []
   },
   "outputs": [],
   "source": [
    "#hide\n",
    "#delete problematic countries from table\n",
    "df_table = df_table[~df_table['Country/Region'].isin(['Cape Verde', 'Cruise Ship', 'Kosovo'])]"
   ]
  },
  {
   "cell_type": "code",
   "execution_count": 15,
   "id": "fantastic-effect",
   "metadata": {
    "execution": {
     "iopub.execute_input": "2021-12-28T12:12:56.555385Z",
     "iopub.status.busy": "2021-12-28T12:12:56.554784Z",
     "iopub.status.idle": "2021-12-28T12:12:56.573907Z",
     "shell.execute_reply": "2021-12-28T12:12:56.574515Z"
    },
    "papermill": {
     "duration": 0.061413,
     "end_time": "2021-12-28T12:12:56.574693",
     "exception": false,
     "start_time": "2021-12-28T12:12:56.513280",
     "status": "completed"
    },
    "tags": []
   },
   "outputs": [
    {
     "data": {
      "text/html": [
       "<div>\n",
       "<style scoped>\n",
       "    .dataframe tbody tr th:only-of-type {\n",
       "        vertical-align: middle;\n",
       "    }\n",
       "\n",
       "    .dataframe tbody tr th {\n",
       "        vertical-align: top;\n",
       "    }\n",
       "\n",
       "    .dataframe thead th {\n",
       "        text-align: right;\n",
       "    }\n",
       "</style>\n",
       "<table border=\"1\" class=\"dataframe\">\n",
       "  <thead>\n",
       "    <tr style=\"text-align: right;\">\n",
       "      <th></th>\n",
       "      <th>Country/Region</th>\n",
       "      <th>Cases</th>\n",
       "      <th>Deaths</th>\n",
       "      <th>PCases</th>\n",
       "      <th>PDeaths</th>\n",
       "      <th>Cases (+)</th>\n",
       "      <th>Deaths (+)</th>\n",
       "      <th>Fatality Rate</th>\n",
       "      <th>Continent</th>\n",
       "    </tr>\n",
       "  </thead>\n",
       "  <tbody>\n",
       "    <tr>\n",
       "      <th>0</th>\n",
       "      <td>US</td>\n",
       "      <td>52793407</td>\n",
       "      <td>818371</td>\n",
       "      <td>52280854</td>\n",
       "      <td>816609</td>\n",
       "      <td>512553</td>\n",
       "      <td>1762</td>\n",
       "      <td>1.6</td>\n",
       "      <td>North America</td>\n",
       "    </tr>\n",
       "    <tr>\n",
       "      <th>1</th>\n",
       "      <td>India</td>\n",
       "      <td>34799691</td>\n",
       "      <td>480290</td>\n",
       "      <td>34793333</td>\n",
       "      <td>479997</td>\n",
       "      <td>6358</td>\n",
       "      <td>293</td>\n",
       "      <td>1.4</td>\n",
       "      <td>Asia</td>\n",
       "    </tr>\n",
       "    <tr>\n",
       "      <th>2</th>\n",
       "      <td>Brazil</td>\n",
       "      <td>22250218</td>\n",
       "      <td>618797</td>\n",
       "      <td>22243266</td>\n",
       "      <td>618732</td>\n",
       "      <td>6952</td>\n",
       "      <td>65</td>\n",
       "      <td>2.8</td>\n",
       "      <td>South America</td>\n",
       "    </tr>\n",
       "    <tr>\n",
       "      <th>3</th>\n",
       "      <td>United Kingdom</td>\n",
       "      <td>12277814</td>\n",
       "      <td>148470</td>\n",
       "      <td>11958928</td>\n",
       "      <td>148324</td>\n",
       "      <td>318886</td>\n",
       "      <td>146</td>\n",
       "      <td>1.2</td>\n",
       "      <td>Europe</td>\n",
       "    </tr>\n",
       "    <tr>\n",
       "      <th>4</th>\n",
       "      <td>Russia</td>\n",
       "      <td>10236301</td>\n",
       "      <td>299077</td>\n",
       "      <td>10213265</td>\n",
       "      <td>298165</td>\n",
       "      <td>23036</td>\n",
       "      <td>912</td>\n",
       "      <td>2.9</td>\n",
       "      <td>Europe</td>\n",
       "    </tr>\n",
       "  </tbody>\n",
       "</table>\n",
       "</div>"
      ],
      "text/plain": [
       "   Country/Region     Cases  Deaths    PCases  PDeaths  Cases (+)  Deaths (+)  \\\n",
       "0              US  52793407  818371  52280854   816609     512553        1762   \n",
       "1           India  34799691  480290  34793333   479997       6358         293   \n",
       "2          Brazil  22250218  618797  22243266   618732       6952          65   \n",
       "3  United Kingdom  12277814  148470  11958928   148324     318886         146   \n",
       "4          Russia  10236301  299077  10213265   298165      23036         912   \n",
       "\n",
       "   Fatality Rate      Continent  \n",
       "0            1.6  North America  \n",
       "1            1.4           Asia  \n",
       "2            2.8  South America  \n",
       "3            1.2         Europe  \n",
       "4            2.9         Europe  "
      ]
     },
     "execution_count": 15,
     "metadata": {},
     "output_type": "execute_result"
    }
   ],
   "source": [
    "#hide\n",
    "df_table = (pd.DataFrame(dict(Cases=dfc_cases, Deaths=dfc_deaths, PCases=dfp_cases, PDeaths=dfp_deaths))\n",
    "             .sort_values(by=['Cases', 'Deaths'], ascending=[False, False])\n",
    "             .reset_index())\n",
    "df_table.rename(columns={'index': 'Country/Region'}, inplace=True)\n",
    "for c in 'Cases, Deaths'.split(', '):\n",
    "    df_table[f'{c} (+)'] = (df_table[c] - df_table[f'P{c}']).clip(0)  # DATA BUG\n",
    "df_table['Fatality Rate'] = (100 * df_table['Deaths'] / df_table['Cases']).round(1)\n",
    "df_table['Continent'] = df_table['Country/Region'].map(mapping['map.continent'])\n",
    "df_table.head(5)"
   ]
  },
  {
   "cell_type": "code",
   "execution_count": 16,
   "id": "fewer-occasion",
   "metadata": {
    "execution": {
     "iopub.execute_input": "2021-12-28T12:12:56.652422Z",
     "iopub.status.busy": "2021-12-28T12:12:56.651831Z",
     "iopub.status.idle": "2021-12-28T12:12:56.654000Z",
     "shell.execute_reply": "2021-12-28T12:12:56.653377Z"
    },
    "papermill": {
     "duration": 0.044094,
     "end_time": "2021-12-28T12:12:56.654130",
     "exception": false,
     "start_time": "2021-12-28T12:12:56.610036",
     "status": "completed"
    },
    "tags": []
   },
   "outputs": [],
   "source": [
    "#hide\n",
    "#delete problematic countries from table\n",
    "df_table = df_table[~df_table['Country/Region'].isin(['Cape Verde', 'Cruise Ship', 'Kosovo'])]"
   ]
  },
  {
   "cell_type": "code",
   "execution_count": 17,
   "id": "related-center",
   "metadata": {
    "execution": {
     "iopub.execute_input": "2021-12-28T12:12:56.740414Z",
     "iopub.status.busy": "2021-12-28T12:12:56.739775Z",
     "iopub.status.idle": "2021-12-28T12:12:56.742396Z",
     "shell.execute_reply": "2021-12-28T12:12:56.741905Z"
    },
    "papermill": {
     "duration": 0.055527,
     "end_time": "2021-12-28T12:12:56.742531",
     "exception": false,
     "start_time": "2021-12-28T12:12:56.687004",
     "status": "completed"
    },
    "tags": []
   },
   "outputs": [],
   "source": [
    "#hide\n",
    "metrics = [df_table.columns[index] for index in [1,2,5,6]]\n",
    "# s_china = df_table[df_table['Country/Region'].eq('China')][metrics].sum().add_prefix('China ')\n",
    "s_us = df_table[df_table['Country/Region'].eq('US')][metrics].sum().add_prefix('US ')\n",
    "s_eu = df_table[df_table['Continent'].eq('Europe')][metrics].sum().add_prefix('EU ')\n",
    "s_ind = df_table[df_table['Country/Region'].eq('India')][metrics].sum().add_prefix('India ')\n",
    "summary = {'updated': pd.to_datetime(dt_today), 'since': pd.to_datetime(dt_yday)}\n",
    "summary = {'updated': pd.to_datetime(dt_today), 'since': pd.to_datetime(dt_yday)}\n",
    "summary = {**summary, **df_table[metrics].sum(), **s_ind, **s_us, **s_eu}"
   ]
  },
  {
   "cell_type": "code",
   "execution_count": 18,
   "id": "engaging-syndrome",
   "metadata": {
    "execution": {
     "iopub.execute_input": "2021-12-28T12:12:56.815087Z",
     "iopub.status.busy": "2021-12-28T12:12:56.814484Z",
     "iopub.status.idle": "2021-12-28T12:12:56.831720Z",
     "shell.execute_reply": "2021-12-28T12:12:56.831229Z"
    },
    "papermill": {
     "duration": 0.056589,
     "end_time": "2021-12-28T12:12:56.831842",
     "exception": false,
     "start_time": "2021-12-28T12:12:56.775253",
     "status": "completed"
    },
    "tags": []
   },
   "outputs": [],
   "source": [
    "#hide\n",
    "dft_ct_new_cases = dft_cases.groupby(COL_REGION)[dt_cols].sum().diff(axis=1).fillna(0).astype(int)"
   ]
  },
  {
   "cell_type": "code",
   "execution_count": 19,
   "id": "neutral-assignment",
   "metadata": {
    "execution": {
     "iopub.execute_input": "2021-12-28T12:12:56.905040Z",
     "iopub.status.busy": "2021-12-28T12:12:56.904474Z",
     "iopub.status.idle": "2021-12-28T12:12:56.907131Z",
     "shell.execute_reply": "2021-12-28T12:12:56.906655Z"
    },
    "papermill": {
     "duration": 0.043057,
     "end_time": "2021-12-28T12:12:56.907269",
     "exception": false,
     "start_time": "2021-12-28T12:12:56.864212",
     "status": "completed"
    },
    "tags": []
   },
   "outputs": [],
   "source": [
    "#hide\n",
    "everydaycases = dft_ct_new_cases.cumsum(axis=1)"
   ]
  },
  {
   "cell_type": "code",
   "execution_count": 20,
   "id": "parliamentary-calgary",
   "metadata": {
    "execution": {
     "iopub.execute_input": "2021-12-28T12:12:56.976434Z",
     "iopub.status.busy": "2021-12-28T12:12:56.975852Z",
     "iopub.status.idle": "2021-12-28T12:12:57.737570Z",
     "shell.execute_reply": "2021-12-28T12:12:57.738147Z"
    },
    "papermill": {
     "duration": 0.798456,
     "end_time": "2021-12-28T12:12:57.738314",
     "exception": false,
     "start_time": "2021-12-28T12:12:56.939858",
     "status": "completed"
    },
    "tags": []
   },
   "outputs": [],
   "source": [
    "#hide\n",
    "import pandas as pd\n",
    "import matplotlib.pyplot as plt\n",
    "import matplotlib.ticker as ticker\n",
    "import matplotlib.animation as animation\n",
    "from IPython.display import HTML"
   ]
  },
  {
   "cell_type": "code",
   "execution_count": 21,
   "id": "lasting-extraction",
   "metadata": {
    "execution": {
     "iopub.execute_input": "2021-12-28T12:12:57.809754Z",
     "iopub.status.busy": "2021-12-28T12:12:57.809165Z",
     "iopub.status.idle": "2021-12-28T12:12:57.817222Z",
     "shell.execute_reply": "2021-12-28T12:12:57.816756Z"
    },
    "papermill": {
     "duration": 0.046604,
     "end_time": "2021-12-28T12:12:57.817342",
     "exception": false,
     "start_time": "2021-12-28T12:12:57.770738",
     "status": "completed"
    },
    "tags": []
   },
   "outputs": [],
   "source": [
    "#hide\n",
    "t = everydaycases.stack()"
   ]
  },
  {
   "cell_type": "code",
   "execution_count": 22,
   "id": "premier-sleeve",
   "metadata": {
    "execution": {
     "iopub.execute_input": "2021-12-28T12:12:57.888230Z",
     "iopub.status.busy": "2021-12-28T12:12:57.887627Z",
     "iopub.status.idle": "2021-12-28T12:12:57.900476Z",
     "shell.execute_reply": "2021-12-28T12:12:57.899397Z"
    },
    "papermill": {
     "duration": 0.050952,
     "end_time": "2021-12-28T12:12:57.900608",
     "exception": false,
     "start_time": "2021-12-28T12:12:57.849656",
     "status": "completed"
    },
    "tags": []
   },
   "outputs": [],
   "source": [
    "#hide\n",
    "g = t.reset_index(['Country/Region'])"
   ]
  },
  {
   "cell_type": "code",
   "execution_count": 23,
   "id": "distributed-pittsburgh",
   "metadata": {
    "execution": {
     "iopub.execute_input": "2021-12-28T12:12:57.970772Z",
     "iopub.status.busy": "2021-12-28T12:12:57.970172Z",
     "iopub.status.idle": "2021-12-28T12:12:57.972589Z",
     "shell.execute_reply": "2021-12-28T12:12:57.973070Z"
    },
    "papermill": {
     "duration": 0.040141,
     "end_time": "2021-12-28T12:12:57.973212",
     "exception": false,
     "start_time": "2021-12-28T12:12:57.933071",
     "status": "completed"
    },
    "tags": []
   },
   "outputs": [],
   "source": [
    "#hide\n",
    "g.index.name = 'date'"
   ]
  },
  {
   "cell_type": "code",
   "execution_count": 24,
   "id": "naked-donor",
   "metadata": {
    "execution": {
     "iopub.execute_input": "2021-12-28T12:12:58.042578Z",
     "iopub.status.busy": "2021-12-28T12:12:58.041950Z",
     "iopub.status.idle": "2021-12-28T12:12:58.044088Z",
     "shell.execute_reply": "2021-12-28T12:12:58.044613Z"
    },
    "papermill": {
     "duration": 0.03918,
     "end_time": "2021-12-28T12:12:58.044743",
     "exception": false,
     "start_time": "2021-12-28T12:12:58.005563",
     "status": "completed"
    },
    "tags": []
   },
   "outputs": [],
   "source": [
    "# #hide\n",
    "# g = g.reset_index(['date'])"
   ]
  },
  {
   "cell_type": "code",
   "execution_count": 25,
   "id": "incomplete-mustang",
   "metadata": {
    "execution": {
     "iopub.execute_input": "2021-12-28T12:12:58.114623Z",
     "iopub.status.busy": "2021-12-28T12:12:58.113990Z",
     "iopub.status.idle": "2021-12-28T12:12:58.116050Z",
     "shell.execute_reply": "2021-12-28T12:12:58.116619Z"
    },
    "papermill": {
     "duration": 0.039531,
     "end_time": "2021-12-28T12:12:58.116762",
     "exception": false,
     "start_time": "2021-12-28T12:12:58.077231",
     "status": "completed"
    },
    "tags": []
   },
   "outputs": [],
   "source": [
    "#hide\n",
    "# g.head()"
   ]
  },
  {
   "cell_type": "code",
   "execution_count": 26,
   "id": "specific-kruger",
   "metadata": {
    "execution": {
     "iopub.execute_input": "2021-12-28T12:12:58.186794Z",
     "iopub.status.busy": "2021-12-28T12:12:58.186033Z",
     "iopub.status.idle": "2021-12-28T12:12:58.189137Z",
     "shell.execute_reply": "2021-12-28T12:12:58.188554Z"
    },
    "papermill": {
     "duration": 0.03933,
     "end_time": "2021-12-28T12:12:58.189285",
     "exception": false,
     "start_time": "2021-12-28T12:12:58.149955",
     "status": "completed"
    },
    "tags": []
   },
   "outputs": [],
   "source": [
    "#hide\n",
    "# g.columns = ['date','country','cases']"
   ]
  },
  {
   "cell_type": "code",
   "execution_count": 27,
   "id": "tender-conversion",
   "metadata": {
    "execution": {
     "iopub.execute_input": "2021-12-28T12:12:58.259446Z",
     "iopub.status.busy": "2021-12-28T12:12:58.258891Z",
     "iopub.status.idle": "2021-12-28T12:12:58.261753Z",
     "shell.execute_reply": "2021-12-28T12:12:58.262308Z"
    },
    "papermill": {
     "duration": 0.040234,
     "end_time": "2021-12-28T12:12:58.262441",
     "exception": false,
     "start_time": "2021-12-28T12:12:58.222207",
     "status": "completed"
    },
    "tags": []
   },
   "outputs": [],
   "source": [
    "#hide\n",
    "# g['continent'] = g.country"
   ]
  },
  {
   "cell_type": "code",
   "execution_count": 28,
   "id": "substantial-wilderness",
   "metadata": {
    "execution": {
     "iopub.execute_input": "2021-12-28T12:12:58.332584Z",
     "iopub.status.busy": "2021-12-28T12:12:58.331961Z",
     "iopub.status.idle": "2021-12-28T12:12:58.335720Z",
     "shell.execute_reply": "2021-12-28T12:12:58.335183Z"
    },
    "papermill": {
     "duration": 0.041173,
     "end_time": "2021-12-28T12:12:58.335840",
     "exception": false,
     "start_time": "2021-12-28T12:12:58.294667",
     "status": "completed"
    },
    "tags": []
   },
   "outputs": [],
   "source": [
    "#hide\n",
    "# cols = list(g.columns.values)"
   ]
  },
  {
   "cell_type": "code",
   "execution_count": 29,
   "id": "solved-farming",
   "metadata": {
    "execution": {
     "iopub.execute_input": "2021-12-28T12:12:58.406694Z",
     "iopub.status.busy": "2021-12-28T12:12:58.406069Z",
     "iopub.status.idle": "2021-12-28T12:12:58.408535Z",
     "shell.execute_reply": "2021-12-28T12:12:58.409113Z"
    },
    "papermill": {
     "duration": 0.039959,
     "end_time": "2021-12-28T12:12:58.409248",
     "exception": false,
     "start_time": "2021-12-28T12:12:58.369289",
     "status": "completed"
    },
    "tags": []
   },
   "outputs": [],
   "source": [
    "#hide\n",
    "# cols.insert(0, cols.pop())"
   ]
  },
  {
   "cell_type": "code",
   "execution_count": 30,
   "id": "executed-adoption",
   "metadata": {
    "execution": {
     "iopub.execute_input": "2021-12-28T12:12:58.479860Z",
     "iopub.status.busy": "2021-12-28T12:12:58.478816Z",
     "iopub.status.idle": "2021-12-28T12:12:58.484524Z",
     "shell.execute_reply": "2021-12-28T12:12:58.483602Z"
    },
    "papermill": {
     "duration": 0.042919,
     "end_time": "2021-12-28T12:12:58.484725",
     "exception": false,
     "start_time": "2021-12-28T12:12:58.441806",
     "status": "completed"
    },
    "tags": []
   },
   "outputs": [],
   "source": [
    "#hide\n",
    "# g = g[cols]"
   ]
  },
  {
   "cell_type": "code",
   "execution_count": 31,
   "id": "subject-dublin",
   "metadata": {
    "execution": {
     "iopub.execute_input": "2021-12-28T12:12:58.555013Z",
     "iopub.status.busy": "2021-12-28T12:12:58.554262Z",
     "iopub.status.idle": "2021-12-28T12:12:58.557952Z",
     "shell.execute_reply": "2021-12-28T12:12:58.558497Z"
    },
    "papermill": {
     "duration": 0.041183,
     "end_time": "2021-12-28T12:12:58.558655",
     "exception": false,
     "start_time": "2021-12-28T12:12:58.517472",
     "status": "completed"
    },
    "tags": []
   },
   "outputs": [],
   "source": [
    "#hide\n",
    "# g['continent'] = g['continent'].map(mapping['map.continent'])"
   ]
  },
  {
   "cell_type": "code",
   "execution_count": 32,
   "id": "freelance-scout",
   "metadata": {
    "execution": {
     "iopub.execute_input": "2021-12-28T12:12:58.631973Z",
     "iopub.status.busy": "2021-12-28T12:12:58.630927Z",
     "iopub.status.idle": "2021-12-28T12:12:58.636300Z",
     "shell.execute_reply": "2021-12-28T12:12:58.636695Z"
    },
    "papermill": {
     "duration": 0.043077,
     "end_time": "2021-12-28T12:12:58.636817",
     "exception": false,
     "start_time": "2021-12-28T12:12:58.593740",
     "status": "completed"
    },
    "tags": []
   },
   "outputs": [],
   "source": [
    "#hide\n",
    "# g.head()"
   ]
  },
  {
   "cell_type": "code",
   "execution_count": 33,
   "id": "limited-engine",
   "metadata": {
    "execution": {
     "iopub.execute_input": "2021-12-28T12:12:58.707181Z",
     "iopub.status.busy": "2021-12-28T12:12:58.706489Z",
     "iopub.status.idle": "2021-12-28T12:12:58.708362Z",
     "shell.execute_reply": "2021-12-28T12:12:58.707866Z"
    },
    "papermill": {
     "duration": 0.038243,
     "end_time": "2021-12-28T12:12:58.708483",
     "exception": false,
     "start_time": "2021-12-28T12:12:58.670240",
     "status": "completed"
    },
    "tags": []
   },
   "outputs": [],
   "source": [
    "# hide\n",
    "# g['date'] = g['date'].astype('datetime64[ns]')"
   ]
  },
  {
   "cell_type": "code",
   "execution_count": 34,
   "id": "sophisticated-supervisor",
   "metadata": {
    "execution": {
     "iopub.execute_input": "2021-12-28T12:12:58.780585Z",
     "iopub.status.busy": "2021-12-28T12:12:58.780019Z",
     "iopub.status.idle": "2021-12-28T12:12:58.783292Z",
     "shell.execute_reply": "2021-12-28T12:12:58.782870Z"
    },
    "papermill": {
     "duration": 0.039953,
     "end_time": "2021-12-28T12:12:58.783395",
     "exception": false,
     "start_time": "2021-12-28T12:12:58.743442",
     "status": "completed"
    },
    "tags": []
   },
   "outputs": [],
   "source": [
    "#hide\n",
    "# g['date'] = g.date.dt.dayofyear"
   ]
  },
  {
   "cell_type": "code",
   "execution_count": 35,
   "id": "inside-dubai",
   "metadata": {
    "execution": {
     "iopub.execute_input": "2021-12-28T12:12:58.856678Z",
     "iopub.status.busy": "2021-12-28T12:12:58.855570Z",
     "iopub.status.idle": "2021-12-28T12:12:58.860334Z",
     "shell.execute_reply": "2021-12-28T12:12:58.859781Z"
    },
    "papermill": {
     "duration": 0.043472,
     "end_time": "2021-12-28T12:12:58.860447",
     "exception": false,
     "start_time": "2021-12-28T12:12:58.816975",
     "status": "completed"
    },
    "tags": []
   },
   "outputs": [],
   "source": [
    "#hide\n",
    "# g = g.rename(columns= {'continent':'group','country':'name','cases':'value'})"
   ]
  },
  {
   "cell_type": "code",
   "execution_count": 36,
   "id": "fleet-motorcycle",
   "metadata": {
    "execution": {
     "iopub.execute_input": "2021-12-28T12:12:58.930100Z",
     "iopub.status.busy": "2021-12-28T12:12:58.929326Z",
     "iopub.status.idle": "2021-12-28T12:12:58.933288Z",
     "shell.execute_reply": "2021-12-28T12:12:58.932778Z"
    },
    "papermill": {
     "duration": 0.040979,
     "end_time": "2021-12-28T12:12:58.933417",
     "exception": false,
     "start_time": "2021-12-28T12:12:58.892438",
     "status": "completed"
    },
    "tags": []
   },
   "outputs": [],
   "source": [
    "#hide\n",
    "# cols = ['name','group','day','value']"
   ]
  },
  {
   "cell_type": "code",
   "execution_count": 37,
   "id": "continued-sleeping",
   "metadata": {
    "execution": {
     "iopub.execute_input": "2021-12-28T12:12:59.008081Z",
     "iopub.status.busy": "2021-12-28T12:12:59.007010Z",
     "iopub.status.idle": "2021-12-28T12:12:59.011706Z",
     "shell.execute_reply": "2021-12-28T12:12:59.012126Z"
    },
    "papermill": {
     "duration": 0.043373,
     "end_time": "2021-12-28T12:12:59.012263",
     "exception": false,
     "start_time": "2021-12-28T12:12:58.968890",
     "status": "completed"
    },
    "tags": []
   },
   "outputs": [],
   "source": [
    "#hide\n",
    "# g.rename(columns= {'date':'day'},inplace = True)"
   ]
  },
  {
   "cell_type": "code",
   "execution_count": 38,
   "id": "major-fight",
   "metadata": {
    "execution": {
     "iopub.execute_input": "2021-12-28T12:12:59.083394Z",
     "iopub.status.busy": "2021-12-28T12:12:59.082768Z",
     "iopub.status.idle": "2021-12-28T12:12:59.086973Z",
     "shell.execute_reply": "2021-12-28T12:12:59.086471Z"
    },
    "papermill": {
     "duration": 0.041838,
     "end_time": "2021-12-28T12:12:59.087105",
     "exception": false,
     "start_time": "2021-12-28T12:12:59.045267",
     "status": "completed"
    },
    "tags": []
   },
   "outputs": [],
   "source": [
    "#hide\n",
    "# g = g[cols]"
   ]
  },
  {
   "cell_type": "code",
   "execution_count": 39,
   "id": "structured-mobile",
   "metadata": {
    "execution": {
     "iopub.execute_input": "2021-12-28T12:12:59.160665Z",
     "iopub.status.busy": "2021-12-28T12:12:59.160043Z",
     "iopub.status.idle": "2021-12-28T12:12:59.162892Z",
     "shell.execute_reply": "2021-12-28T12:12:59.163378Z"
    },
    "papermill": {
     "duration": 0.04173,
     "end_time": "2021-12-28T12:12:59.163526",
     "exception": false,
     "start_time": "2021-12-28T12:12:59.121796",
     "status": "completed"
    },
    "tags": []
   },
   "outputs": [],
   "source": [
    "# #hide\n",
    "# g = g[g.group.notna()]"
   ]
  },
  {
   "cell_type": "code",
   "execution_count": 40,
   "id": "determined-closing",
   "metadata": {
    "execution": {
     "iopub.execute_input": "2021-12-28T12:12:59.237955Z",
     "iopub.status.busy": "2021-12-28T12:12:59.237337Z",
     "iopub.status.idle": "2021-12-28T12:12:59.240501Z",
     "shell.execute_reply": "2021-12-28T12:12:59.240985Z"
    },
    "papermill": {
     "duration": 0.041671,
     "end_time": "2021-12-28T12:12:59.241124",
     "exception": false,
     "start_time": "2021-12-28T12:12:59.199453",
     "status": "completed"
    },
    "tags": []
   },
   "outputs": [],
   "source": [
    "# #hide\n",
    "# colors = dict(zip(\n",
    "#     [\"Oceania\", \"Europe\", \"Asia\", \"South America\", \"Middle East\", \"North America\", \"Africa\"],\n",
    "#     [\"#adb0ff\", \"#ffb3ff\", \"#90d595\", \"#e48381\", \"#aafbff\", \"#f7bb5f\", \"#eafb50\"]\n",
    "# ))\n",
    "# group_lk = g.set_index('name')['group'].to_dict()"
   ]
  },
  {
   "cell_type": "code",
   "execution_count": null,
   "id": "gross-drinking",
   "metadata": {
    "papermill": {
     "duration": 0.033755,
     "end_time": "2021-12-28T12:12:59.307874",
     "exception": false,
     "start_time": "2021-12-28T12:12:59.274119",
     "status": "completed"
    },
    "tags": []
   },
   "outputs": [],
   "source": []
  },
  {
   "cell_type": "code",
   "execution_count": 41,
   "id": "subject-macintosh",
   "metadata": {
    "execution": {
     "iopub.execute_input": "2021-12-28T12:12:59.381281Z",
     "iopub.status.busy": "2021-12-28T12:12:59.380613Z",
     "iopub.status.idle": "2021-12-28T12:12:59.382798Z",
     "shell.execute_reply": "2021-12-28T12:12:59.382207Z"
    },
    "papermill": {
     "duration": 0.040055,
     "end_time": "2021-12-28T12:12:59.382916",
     "exception": false,
     "start_time": "2021-12-28T12:12:59.342861",
     "status": "completed"
    },
    "tags": []
   },
   "outputs": [],
   "source": [
    "# #hide\n",
    "# fig, ax = plt.subplots(figsize=(15, 8))\n",
    "\n",
    "# def draw_barchart(current_day):\n",
    "#     dff = g[g['day'].eq(current_day)].sort_values(by='value', ascending=True).tail(10)\n",
    "#     ax.clear()\n",
    "#     ax.barh(dff['name'], dff['value'], color=[colors[group_lk[x]] for x in dff['name']])\n",
    "#     dx = dff['value'].max() / 200\n",
    "    \n",
    "#     for i, (value, name) in enumerate(zip(dff['value'], dff['name'])):\n",
    "#         ax.text(value-dx, i,     name,           size=14, weight=600, ha='right', va='bottom')\n",
    "#         ax.text(value-dx, i-.25, group_lk[name], size=10, color='#444444', ha='right', va='baseline')\n",
    "#         ax.text(value+dx, i,     f'{value:,.0f}',  size=14, ha='left',  va='center')\n",
    "#     ax.text(1, 0.4, current_day, transform=ax.transAxes, color='#777777', size=46, ha='right', weight=800)\n",
    "#     ax.text(0, 1.06, 'Population (thousands)', transform=ax.transAxes, size=12, color='#777777')\n",
    "#     ax.xaxis.set_major_formatter(ticker.StrMethodFormatter('{x:,.0f}'))\n",
    "#     ax.xaxis.set_ticks_position('top')\n",
    "#     ax.tick_params(axis='x', colors='#777777', labelsize=12)\n",
    "#     ax.set_yticks([])\n",
    "#     ax.margins(0, 0.01)\n",
    "#     ax.grid(which='major', axis='x', linestyle='-')\n",
    "#     ax.set_axisbelow(True)\n",
    "    \n",
    "#     ax.text(0, 1.15, 'Coronavirus',\n",
    "#             transform=ax.transAxes, size=24, weight=600, ha='left', va='top')\n",
    "# #     ax.text(1, 0, 'by @pratapvardhan; credit @jburnmurdoch', transform=ax.transAxes, color='#777777', ha='right',\n",
    "# #             bbox=dict(facecolor='white', alpha=0.8, edgecolor='white'))\n",
    "#     plt.box(False)"
   ]
  },
  {
   "cell_type": "code",
   "execution_count": 42,
   "id": "sexual-wages",
   "metadata": {
    "execution": {
     "iopub.execute_input": "2021-12-28T12:12:59.455632Z",
     "iopub.status.busy": "2021-12-28T12:12:59.454906Z",
     "iopub.status.idle": "2021-12-28T12:12:59.457042Z",
     "shell.execute_reply": "2021-12-28T12:12:59.456451Z"
    },
    "papermill": {
     "duration": 0.040013,
     "end_time": "2021-12-28T12:12:59.457166",
     "exception": false,
     "start_time": "2021-12-28T12:12:59.417153",
     "status": "completed"
    },
    "tags": []
   },
   "outputs": [],
   "source": [
    "# #hide_input\n",
    "# fig, ax = plt.subplots(figsize=(15, 8))\n",
    "# animator = animation.FuncAnimation(fig, draw_barchart, frames=range(g.day.values.min(), g.day.values.max()))\n",
    "# HTML(animator.to_jshtml())\n",
    "# # or use animator.to_html5_video() or animator.save() "
   ]
  },
  {
   "cell_type": "code",
   "execution_count": null,
   "id": "australian-container",
   "metadata": {
    "papermill": {
     "duration": 0.033183,
     "end_time": "2021-12-28T12:12:59.525674",
     "exception": false,
     "start_time": "2021-12-28T12:12:59.492491",
     "status": "completed"
    },
    "tags": []
   },
   "outputs": [],
   "source": []
  },
  {
   "cell_type": "code",
   "execution_count": null,
   "id": "mediterranean-pontiac",
   "metadata": {
    "papermill": {
     "duration": 0.032869,
     "end_time": "2021-12-28T12:12:59.591080",
     "exception": false,
     "start_time": "2021-12-28T12:12:59.558211",
     "status": "completed"
    },
    "tags": []
   },
   "outputs": [],
   "source": []
  },
  {
   "cell_type": "code",
   "execution_count": null,
   "id": "aging-legislature",
   "metadata": {
    "papermill": {
     "duration": 0.033573,
     "end_time": "2021-12-28T12:12:59.658171",
     "exception": false,
     "start_time": "2021-12-28T12:12:59.624598",
     "status": "completed"
    },
    "tags": []
   },
   "outputs": [],
   "source": []
  }
 ],
 "metadata": {
  "kernelspec": {
   "display_name": "Python 3",
   "language": "python",
   "name": "python3"
  },
  "language_info": {
   "codemirror_mode": {
    "name": "ipython",
    "version": 3
   },
   "file_extension": ".py",
   "mimetype": "text/x-python",
   "name": "python",
   "nbconvert_exporter": "python",
   "pygments_lexer": "ipython3",
   "version": "3.6.15"
  },
  "papermill": {
   "duration": 6.794048,
   "end_time": "2021-12-28T12:13:00.101456",
   "environment_variables": {},
   "exception": null,
   "input_path": "2020-03-21-covid19exp.ipynb",
   "output_path": "2020-03-21-covid19exp.ipynb",
   "parameters": {},
   "start_time": "2021-12-28T12:12:53.307408",
   "version": "2.0.0"
  }
 },
 "nbformat": 4,
 "nbformat_minor": 5
}