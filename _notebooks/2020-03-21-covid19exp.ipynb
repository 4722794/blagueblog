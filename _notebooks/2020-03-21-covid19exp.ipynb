{
 "cells": [
  {
   "cell_type": "markdown",
   "id": "muslim-click",
   "metadata": {
    "papermill": {
     "duration": 0.04012,
     "end_time": "2022-02-07T12:12:23.764277",
     "exception": false,
     "start_time": "2022-02-07T12:12:23.724157",
     "status": "completed"
    },
    "tags": []
   },
   "source": [
    "# COVID-19 Case Race\n",
    "> A race chart to see rising cases around the world\n",
    "\n",
    "- author: Hargun Oberoi\n",
    "- image: images/covid-overview.png\n",
    "- hide: false\n",
    "- badges: false"
   ]
  },
  {
   "cell_type": "code",
   "execution_count": 1,
   "id": "proof-material",
   "metadata": {
    "execution": {
     "iopub.execute_input": "2022-02-07T12:12:23.852497Z",
     "iopub.status.busy": "2022-02-07T12:12:23.851854Z",
     "iopub.status.idle": "2022-02-07T12:12:24.232056Z",
     "shell.execute_reply": "2022-02-07T12:12:24.230835Z"
    },
    "papermill": {
     "duration": 0.429599,
     "end_time": "2022-02-07T12:12:24.232236",
     "exception": false,
     "start_time": "2022-02-07T12:12:23.802637",
     "status": "completed"
    },
    "tags": []
   },
   "outputs": [],
   "source": [
    "#hide\n",
    "import numpy as np\n",
    "import pandas as pd\n",
    "from jinja2 import Template\n",
    "from IPython.display import HTML"
   ]
  },
  {
   "cell_type": "code",
   "execution_count": 2,
   "id": "developed-terminology",
   "metadata": {
    "execution": {
     "iopub.execute_input": "2022-02-07T12:12:24.308140Z",
     "iopub.status.busy": "2022-02-07T12:12:24.306912Z",
     "iopub.status.idle": "2022-02-07T12:12:24.309271Z",
     "shell.execute_reply": "2022-02-07T12:12:24.310090Z"
    },
    "papermill": {
     "duration": 0.043294,
     "end_time": "2022-02-07T12:12:24.310318",
     "exception": false,
     "start_time": "2022-02-07T12:12:24.267024",
     "status": "completed"
    },
    "tags": []
   },
   "outputs": [],
   "source": [
    "#hide\n",
    "\n",
    "# FETCH\n",
    "base_url = 'https://raw.githubusercontent.com/pratapvardhan/notebooks/master/covid19/'\n",
    "paths = {\n",
    "    'mapping': base_url + 'mapping_countries.csv',\n",
    "    'overview': base_url + 'overview.tpl'\n",
    "}"
   ]
  },
  {
   "cell_type": "code",
   "execution_count": 3,
   "id": "dynamic-saver",
   "metadata": {
    "execution": {
     "iopub.execute_input": "2022-02-07T12:12:24.391532Z",
     "iopub.status.busy": "2022-02-07T12:12:24.390889Z",
     "iopub.status.idle": "2022-02-07T12:12:24.393733Z",
     "shell.execute_reply": "2022-02-07T12:12:24.394193Z"
    },
    "papermill": {
     "duration": 0.048679,
     "end_time": "2022-02-07T12:12:24.394338",
     "exception": false,
     "start_time": "2022-02-07T12:12:24.345659",
     "status": "completed"
    },
    "tags": []
   },
   "outputs": [
    {
     "data": {
      "text/plain": [
       "'https://raw.githubusercontent.com/pratapvardhan/notebooks/master/covid19/mapping_countries.csv'"
      ]
     },
     "execution_count": 3,
     "metadata": {},
     "output_type": "execute_result"
    }
   ],
   "source": [
    "#hide\n",
    "paths['mapping']"
   ]
  },
  {
   "cell_type": "code",
   "execution_count": 4,
   "id": "urban-software",
   "metadata": {
    "execution": {
     "iopub.execute_input": "2022-02-07T12:12:24.472568Z",
     "iopub.status.busy": "2022-02-07T12:12:24.471524Z",
     "iopub.status.idle": "2022-02-07T12:12:24.475190Z",
     "shell.execute_reply": "2022-02-07T12:12:24.474700Z"
    },
    "papermill": {
     "duration": 0.045807,
     "end_time": "2022-02-07T12:12:24.475313",
     "exception": false,
     "start_time": "2022-02-07T12:12:24.429506",
     "status": "completed"
    },
    "tags": []
   },
   "outputs": [],
   "source": [
    "#hide\n",
    "def get_mappings(url):\n",
    "    df = pd.read_csv(url)\n",
    "    return {\n",
    "        'df': df,\n",
    "        'replace.country': dict(df.dropna(subset=['Name']).set_index('Country')['Name']),\n",
    "        'map.continent': dict(df.set_index('Name')['Continent'])\n",
    "    }"
   ]
  },
  {
   "cell_type": "code",
   "execution_count": 5,
   "id": "intimate-machinery",
   "metadata": {
    "execution": {
     "iopub.execute_input": "2022-02-07T12:12:24.550077Z",
     "iopub.status.busy": "2022-02-07T12:12:24.549464Z",
     "iopub.status.idle": "2022-02-07T12:12:24.579529Z",
     "shell.execute_reply": "2022-02-07T12:12:24.578490Z"
    },
    "papermill": {
     "duration": 0.069809,
     "end_time": "2022-02-07T12:12:24.579659",
     "exception": false,
     "start_time": "2022-02-07T12:12:24.509850",
     "status": "completed"
    },
    "tags": []
   },
   "outputs": [],
   "source": [
    "#hide\n",
    "mapping = get_mappings(paths['mapping'])"
   ]
  },
  {
   "cell_type": "code",
   "execution_count": 6,
   "id": "certified-tactics",
   "metadata": {
    "execution": {
     "iopub.execute_input": "2022-02-07T12:12:24.656781Z",
     "iopub.status.busy": "2022-02-07T12:12:24.656087Z",
     "iopub.status.idle": "2022-02-07T12:12:24.657437Z",
     "shell.execute_reply": "2022-02-07T12:12:24.657912Z"
    },
    "papermill": {
     "duration": 0.043745,
     "end_time": "2022-02-07T12:12:24.658046",
     "exception": false,
     "start_time": "2022-02-07T12:12:24.614301",
     "status": "completed"
    },
    "tags": []
   },
   "outputs": [],
   "source": [
    "#hide\n",
    "def get_template(path):\n",
    "    from urllib.parse import urlparse\n",
    "    if bool(urlparse(path).netloc):\n",
    "        from urllib.request import urlopen\n",
    "        return urlopen(path).read().decode('utf8')\n",
    "    return open(path).read()"
   ]
  },
  {
   "cell_type": "code",
   "execution_count": 7,
   "id": "realistic-blast",
   "metadata": {
    "execution": {
     "iopub.execute_input": "2022-02-07T12:12:24.735356Z",
     "iopub.status.busy": "2022-02-07T12:12:24.734309Z",
     "iopub.status.idle": "2022-02-07T12:12:24.738441Z",
     "shell.execute_reply": "2022-02-07T12:12:24.738909Z"
    },
    "papermill": {
     "duration": 0.046487,
     "end_time": "2022-02-07T12:12:24.739054",
     "exception": false,
     "start_time": "2022-02-07T12:12:24.692567",
     "status": "completed"
    },
    "tags": []
   },
   "outputs": [],
   "source": [
    "#hide\n",
    "def get_frame(name):\n",
    "    url = (\n",
    "        'https://raw.githubusercontent.com/CSSEGISandData/COVID-19/master/csse_covid_19_data/'\n",
    "        f'csse_covid_19_time_series/time_series_covid19_{name}_global.csv')\n",
    "    df = pd.read_csv(url)\n",
    "    # rename countries\n",
    "    df['Country/Region'] = df['Country/Region'].replace(mapping['replace.country'])\n",
    "    return df"
   ]
  },
  {
   "cell_type": "code",
   "execution_count": 8,
   "id": "affiliated-characterization",
   "metadata": {
    "execution": {
     "iopub.execute_input": "2022-02-07T12:12:24.818408Z",
     "iopub.status.busy": "2022-02-07T12:12:24.817762Z",
     "iopub.status.idle": "2022-02-07T12:12:24.821359Z",
     "shell.execute_reply": "2022-02-07T12:12:24.821827Z"
    },
    "papermill": {
     "duration": 0.047793,
     "end_time": "2022-02-07T12:12:24.821976",
     "exception": false,
     "start_time": "2022-02-07T12:12:24.774183",
     "status": "completed"
    },
    "tags": []
   },
   "outputs": [],
   "source": [
    "#hide\n",
    "def get_dates(df):\n",
    "    dt_cols = df.columns[~df.columns.isin(['Province/State', 'Country/Region', 'Lat', 'Long'])]\n",
    "    LAST_DATE_I = -1\n",
    "    # sometimes last column may be empty, then go backwards\n",
    "    for i in range(-1, -len(dt_cols), -1):\n",
    "        if not df[dt_cols[i]].fillna(0).eq(0).all():\n",
    "            LAST_DATE_I = i\n",
    "            break\n",
    "    return LAST_DATE_I, dt_cols"
   ]
  },
  {
   "cell_type": "code",
   "execution_count": 9,
   "id": "recent-optimization",
   "metadata": {
    "execution": {
     "iopub.execute_input": "2022-02-07T12:12:24.897717Z",
     "iopub.status.busy": "2022-02-07T12:12:24.897086Z",
     "iopub.status.idle": "2022-02-07T12:12:25.258759Z",
     "shell.execute_reply": "2022-02-07T12:12:25.259640Z"
    },
    "papermill": {
     "duration": 0.403431,
     "end_time": "2022-02-07T12:12:25.259910",
     "exception": false,
     "start_time": "2022-02-07T12:12:24.856479",
     "status": "completed"
    },
    "tags": []
   },
   "outputs": [],
   "source": [
    "#hide\n",
    "COL_REGION = 'Country/Region'\n",
    "# Confirmed, Recovered, Deaths\n",
    "df = get_frame('confirmed')\n",
    "# dft_: timeseries, dfc_: today country agg\n",
    "dft_cases = df\n",
    "dft_deaths = get_frame('deaths')\n",
    "dft_recovered = get_frame('recovered')\n",
    "LAST_DATE_I, dt_cols = get_dates(df)"
   ]
  },
  {
   "cell_type": "code",
   "execution_count": 10,
   "id": "absolute-copper",
   "metadata": {
    "execution": {
     "iopub.execute_input": "2022-02-07T12:12:25.338379Z",
     "iopub.status.busy": "2022-02-07T12:12:25.337723Z",
     "iopub.status.idle": "2022-02-07T12:12:25.339641Z",
     "shell.execute_reply": "2022-02-07T12:12:25.340110Z"
    },
    "papermill": {
     "duration": 0.043591,
     "end_time": "2022-02-07T12:12:25.340265",
     "exception": false,
     "start_time": "2022-02-07T12:12:25.296674",
     "status": "completed"
    },
    "tags": []
   },
   "outputs": [],
   "source": [
    "#hide\n",
    "LAST_DATE_I, dt_cols = get_dates(df)\n",
    "dt_today =dt_cols[LAST_DATE_I]\n",
    "# dt_5day = dt_cols[LAST_DATE_I - 5]\n",
    "dt_yday = dt_cols[LAST_DATE_I - 1]"
   ]
  },
  {
   "cell_type": "code",
   "execution_count": 11,
   "id": "restricted-sheriff",
   "metadata": {
    "execution": {
     "iopub.execute_input": "2022-02-07T12:12:25.417138Z",
     "iopub.status.busy": "2022-02-07T12:12:25.416521Z",
     "iopub.status.idle": "2022-02-07T12:12:25.425049Z",
     "shell.execute_reply": "2022-02-07T12:12:25.424527Z"
    },
    "papermill": {
     "duration": 0.050262,
     "end_time": "2022-02-07T12:12:25.425173",
     "exception": false,
     "start_time": "2022-02-07T12:12:25.374911",
     "status": "completed"
    },
    "tags": []
   },
   "outputs": [],
   "source": [
    "#hide\n",
    "dfc_cases = dft_cases.groupby(COL_REGION)[dt_today].sum()\n",
    "dfc_deaths = dft_deaths.groupby(COL_REGION)[dt_today].sum()\n",
    "# dfp_cases = dft_cases.groupby(COL_REGION)[dt_5day].sum()\n",
    "# dfp_deaths = dft_deaths.groupby(COL_REGION)[dt_5day].sum()\n",
    "dfp_cases = dft_cases.groupby(COL_REGION)[dt_yday].sum()\n",
    "dfp_deaths = dft_deaths.groupby(COL_REGION)[dt_yday].sum()"
   ]
  },
  {
   "cell_type": "code",
   "execution_count": 12,
   "id": "deluxe-hepatitis",
   "metadata": {
    "execution": {
     "iopub.execute_input": "2022-02-07T12:12:25.503274Z",
     "iopub.status.busy": "2022-02-07T12:12:25.500722Z",
     "iopub.status.idle": "2022-02-07T12:12:25.505486Z",
     "shell.execute_reply": "2022-02-07T12:12:25.505956Z"
    },
    "papermill": {
     "duration": 0.046246,
     "end_time": "2022-02-07T12:12:25.506100",
     "exception": false,
     "start_time": "2022-02-07T12:12:25.459854",
     "status": "completed"
    },
    "tags": []
   },
   "outputs": [],
   "source": [
    "#hide\n",
    "df_table = (pd.DataFrame(dict(Cases = dfc_cases, Deaths = dfc_deaths, PCases = dfp_cases, PDeaths = dfp_deaths))\n",
    "            .sort_values(by = ['Cases','Deaths'], ascending = [False, False])\n",
    "            .reset_index())"
   ]
  },
  {
   "cell_type": "code",
   "execution_count": 13,
   "id": "educational-chancellor",
   "metadata": {
    "execution": {
     "iopub.execute_input": "2022-02-07T12:12:25.594478Z",
     "iopub.status.busy": "2022-02-07T12:12:25.593865Z",
     "iopub.status.idle": "2022-02-07T12:12:25.602873Z",
     "shell.execute_reply": "2022-02-07T12:12:25.603393Z"
    },
    "papermill": {
     "duration": 0.06297,
     "end_time": "2022-02-07T12:12:25.603553",
     "exception": false,
     "start_time": "2022-02-07T12:12:25.540583",
     "status": "completed"
    },
    "tags": []
   },
   "outputs": [
    {
     "data": {
      "text/html": [
       "<div>\n",
       "<style scoped>\n",
       "    .dataframe tbody tr th:only-of-type {\n",
       "        vertical-align: middle;\n",
       "    }\n",
       "\n",
       "    .dataframe tbody tr th {\n",
       "        vertical-align: top;\n",
       "    }\n",
       "\n",
       "    .dataframe thead th {\n",
       "        text-align: right;\n",
       "    }\n",
       "</style>\n",
       "<table border=\"1\" class=\"dataframe\">\n",
       "  <thead>\n",
       "    <tr style=\"text-align: right;\">\n",
       "      <th></th>\n",
       "      <th>Country/Region</th>\n",
       "      <th>Cases</th>\n",
       "      <th>Deaths</th>\n",
       "      <th>PCases</th>\n",
       "      <th>PDeaths</th>\n",
       "      <th>Cases (+)</th>\n",
       "      <th>Deaths (+)</th>\n",
       "      <th>Fatality Rate</th>\n",
       "      <th>Continent</th>\n",
       "    </tr>\n",
       "  </thead>\n",
       "  <tbody>\n",
       "    <tr>\n",
       "      <th>0</th>\n",
       "      <td>US</td>\n",
       "      <td>76505442</td>\n",
       "      <td>902624</td>\n",
       "      <td>76458144</td>\n",
       "      <td>902266</td>\n",
       "      <td>47298</td>\n",
       "      <td>358</td>\n",
       "      <td>1.18</td>\n",
       "      <td>North America</td>\n",
       "    </tr>\n",
       "    <tr>\n",
       "      <th>1</th>\n",
       "      <td>India</td>\n",
       "      <td>42272014</td>\n",
       "      <td>502874</td>\n",
       "      <td>42188138</td>\n",
       "      <td>501979</td>\n",
       "      <td>83876</td>\n",
       "      <td>895</td>\n",
       "      <td>1.19</td>\n",
       "      <td>Asia</td>\n",
       "    </tr>\n",
       "    <tr>\n",
       "      <th>2</th>\n",
       "      <td>Brazil</td>\n",
       "      <td>26546399</td>\n",
       "      <td>632514</td>\n",
       "      <td>26484546</td>\n",
       "      <td>632095</td>\n",
       "      <td>61853</td>\n",
       "      <td>419</td>\n",
       "      <td>2.38</td>\n",
       "      <td>South America</td>\n",
       "    </tr>\n",
       "    <tr>\n",
       "      <th>3</th>\n",
       "      <td>France</td>\n",
       "      <td>20887052</td>\n",
       "      <td>133501</td>\n",
       "      <td>20731613</td>\n",
       "      <td>133372</td>\n",
       "      <td>155439</td>\n",
       "      <td>129</td>\n",
       "      <td>0.64</td>\n",
       "      <td>Europe</td>\n",
       "    </tr>\n",
       "    <tr>\n",
       "      <th>4</th>\n",
       "      <td>United Kingdom</td>\n",
       "      <td>17923805</td>\n",
       "      <td>158856</td>\n",
       "      <td>17870379</td>\n",
       "      <td>158781</td>\n",
       "      <td>53426</td>\n",
       "      <td>75</td>\n",
       "      <td>0.89</td>\n",
       "      <td>Europe</td>\n",
       "    </tr>\n",
       "  </tbody>\n",
       "</table>\n",
       "</div>"
      ],
      "text/plain": [
       "   Country/Region     Cases  Deaths    PCases  PDeaths  Cases (+)  Deaths (+)  \\\n",
       "0              US  76505442  902624  76458144   902266      47298         358   \n",
       "1           India  42272014  502874  42188138   501979      83876         895   \n",
       "2          Brazil  26546399  632514  26484546   632095      61853         419   \n",
       "3          France  20887052  133501  20731613   133372     155439         129   \n",
       "4  United Kingdom  17923805  158856  17870379   158781      53426          75   \n",
       "\n",
       "   Fatality Rate      Continent  \n",
       "0           1.18  North America  \n",
       "1           1.19           Asia  \n",
       "2           2.38  South America  \n",
       "3           0.64         Europe  \n",
       "4           0.89         Europe  "
      ]
     },
     "execution_count": 13,
     "metadata": {},
     "output_type": "execute_result"
    }
   ],
   "source": [
    "#hide\n",
    "for c in 'Cases, Deaths'.split(', '):\n",
    "    df_table[f'{c} (+)'] = (df_table[c] - df_table[f'P{c}']).clip(0)\n",
    "    #Clip ça veut dire, les chiffres negatif sont interdit\n",
    "df_table['Fatality Rate'] = (100* df_table['Deaths']/ df_table['Cases']).round(2)\n",
    "df_table['Continent'] = df_table['Country/Region'].map(mapping['map.continent'])\n",
    "df_table.head(5)"
   ]
  },
  {
   "cell_type": "code",
   "execution_count": 14,
   "id": "aboriginal-bulgaria",
   "metadata": {
    "execution": {
     "iopub.execute_input": "2022-02-07T12:12:25.679516Z",
     "iopub.status.busy": "2022-02-07T12:12:25.678861Z",
     "iopub.status.idle": "2022-02-07T12:12:25.680804Z",
     "shell.execute_reply": "2022-02-07T12:12:25.681264Z"
    },
    "papermill": {
     "duration": 0.042709,
     "end_time": "2022-02-07T12:12:25.681406",
     "exception": false,
     "start_time": "2022-02-07T12:12:25.638697",
     "status": "completed"
    },
    "tags": []
   },
   "outputs": [],
   "source": [
    "#hide\n",
    "#delete problematic countries from table\n",
    "df_table = df_table[~df_table['Country/Region'].isin(['Cape Verde', 'Cruise Ship', 'Kosovo'])]"
   ]
  },
  {
   "cell_type": "code",
   "execution_count": 15,
   "id": "fantastic-effect",
   "metadata": {
    "execution": {
     "iopub.execute_input": "2022-02-07T12:12:25.762533Z",
     "iopub.status.busy": "2022-02-07T12:12:25.761925Z",
     "iopub.status.idle": "2022-02-07T12:12:25.782276Z",
     "shell.execute_reply": "2022-02-07T12:12:25.781787Z"
    },
    "papermill": {
     "duration": 0.065832,
     "end_time": "2022-02-07T12:12:25.782402",
     "exception": false,
     "start_time": "2022-02-07T12:12:25.716570",
     "status": "completed"
    },
    "tags": []
   },
   "outputs": [
    {
     "data": {
      "text/html": [
       "<div>\n",
       "<style scoped>\n",
       "    .dataframe tbody tr th:only-of-type {\n",
       "        vertical-align: middle;\n",
       "    }\n",
       "\n",
       "    .dataframe tbody tr th {\n",
       "        vertical-align: top;\n",
       "    }\n",
       "\n",
       "    .dataframe thead th {\n",
       "        text-align: right;\n",
       "    }\n",
       "</style>\n",
       "<table border=\"1\" class=\"dataframe\">\n",
       "  <thead>\n",
       "    <tr style=\"text-align: right;\">\n",
       "      <th></th>\n",
       "      <th>Country/Region</th>\n",
       "      <th>Cases</th>\n",
       "      <th>Deaths</th>\n",
       "      <th>PCases</th>\n",
       "      <th>PDeaths</th>\n",
       "      <th>Cases (+)</th>\n",
       "      <th>Deaths (+)</th>\n",
       "      <th>Fatality Rate</th>\n",
       "      <th>Continent</th>\n",
       "    </tr>\n",
       "  </thead>\n",
       "  <tbody>\n",
       "    <tr>\n",
       "      <th>0</th>\n",
       "      <td>US</td>\n",
       "      <td>76505442</td>\n",
       "      <td>902624</td>\n",
       "      <td>76458144</td>\n",
       "      <td>902266</td>\n",
       "      <td>47298</td>\n",
       "      <td>358</td>\n",
       "      <td>1.2</td>\n",
       "      <td>North America</td>\n",
       "    </tr>\n",
       "    <tr>\n",
       "      <th>1</th>\n",
       "      <td>India</td>\n",
       "      <td>42272014</td>\n",
       "      <td>502874</td>\n",
       "      <td>42188138</td>\n",
       "      <td>501979</td>\n",
       "      <td>83876</td>\n",
       "      <td>895</td>\n",
       "      <td>1.2</td>\n",
       "      <td>Asia</td>\n",
       "    </tr>\n",
       "    <tr>\n",
       "      <th>2</th>\n",
       "      <td>Brazil</td>\n",
       "      <td>26546399</td>\n",
       "      <td>632514</td>\n",
       "      <td>26484546</td>\n",
       "      <td>632095</td>\n",
       "      <td>61853</td>\n",
       "      <td>419</td>\n",
       "      <td>2.4</td>\n",
       "      <td>South America</td>\n",
       "    </tr>\n",
       "    <tr>\n",
       "      <th>3</th>\n",
       "      <td>France</td>\n",
       "      <td>20887052</td>\n",
       "      <td>133501</td>\n",
       "      <td>20731613</td>\n",
       "      <td>133372</td>\n",
       "      <td>155439</td>\n",
       "      <td>129</td>\n",
       "      <td>0.6</td>\n",
       "      <td>Europe</td>\n",
       "    </tr>\n",
       "    <tr>\n",
       "      <th>4</th>\n",
       "      <td>United Kingdom</td>\n",
       "      <td>17923805</td>\n",
       "      <td>158856</td>\n",
       "      <td>17870379</td>\n",
       "      <td>158781</td>\n",
       "      <td>53426</td>\n",
       "      <td>75</td>\n",
       "      <td>0.9</td>\n",
       "      <td>Europe</td>\n",
       "    </tr>\n",
       "  </tbody>\n",
       "</table>\n",
       "</div>"
      ],
      "text/plain": [
       "   Country/Region     Cases  Deaths    PCases  PDeaths  Cases (+)  Deaths (+)  \\\n",
       "0              US  76505442  902624  76458144   902266      47298         358   \n",
       "1           India  42272014  502874  42188138   501979      83876         895   \n",
       "2          Brazil  26546399  632514  26484546   632095      61853         419   \n",
       "3          France  20887052  133501  20731613   133372     155439         129   \n",
       "4  United Kingdom  17923805  158856  17870379   158781      53426          75   \n",
       "\n",
       "   Fatality Rate      Continent  \n",
       "0            1.2  North America  \n",
       "1            1.2           Asia  \n",
       "2            2.4  South America  \n",
       "3            0.6         Europe  \n",
       "4            0.9         Europe  "
      ]
     },
     "execution_count": 15,
     "metadata": {},
     "output_type": "execute_result"
    }
   ],
   "source": [
    "#hide\n",
    "df_table = (pd.DataFrame(dict(Cases=dfc_cases, Deaths=dfc_deaths, PCases=dfp_cases, PDeaths=dfp_deaths))\n",
    "             .sort_values(by=['Cases', 'Deaths'], ascending=[False, False])\n",
    "             .reset_index())\n",
    "df_table.rename(columns={'index': 'Country/Region'}, inplace=True)\n",
    "for c in 'Cases, Deaths'.split(', '):\n",
    "    df_table[f'{c} (+)'] = (df_table[c] - df_table[f'P{c}']).clip(0)  # DATA BUG\n",
    "df_table['Fatality Rate'] = (100 * df_table['Deaths'] / df_table['Cases']).round(1)\n",
    "df_table['Continent'] = df_table['Country/Region'].map(mapping['map.continent'])\n",
    "df_table.head(5)"
   ]
  },
  {
   "cell_type": "code",
   "execution_count": 16,
   "id": "fewer-occasion",
   "metadata": {
    "execution": {
     "iopub.execute_input": "2022-02-07T12:12:25.861020Z",
     "iopub.status.busy": "2022-02-07T12:12:25.860410Z",
     "iopub.status.idle": "2022-02-07T12:12:25.864273Z",
     "shell.execute_reply": "2022-02-07T12:12:25.864797Z"
    },
    "papermill": {
     "duration": 0.046416,
     "end_time": "2022-02-07T12:12:25.864932",
     "exception": false,
     "start_time": "2022-02-07T12:12:25.818516",
     "status": "completed"
    },
    "tags": []
   },
   "outputs": [],
   "source": [
    "#hide\n",
    "#delete problematic countries from table\n",
    "df_table = df_table[~df_table['Country/Region'].isin(['Cape Verde', 'Cruise Ship', 'Kosovo'])]"
   ]
  },
  {
   "cell_type": "code",
   "execution_count": 17,
   "id": "related-center",
   "metadata": {
    "execution": {
     "iopub.execute_input": "2022-02-07T12:12:25.959891Z",
     "iopub.status.busy": "2022-02-07T12:12:25.959225Z",
     "iopub.status.idle": "2022-02-07T12:12:25.963297Z",
     "shell.execute_reply": "2022-02-07T12:12:25.962806Z"
    },
    "papermill": {
     "duration": 0.060614,
     "end_time": "2022-02-07T12:12:25.963420",
     "exception": false,
     "start_time": "2022-02-07T12:12:25.902806",
     "status": "completed"
    },
    "tags": []
   },
   "outputs": [],
   "source": [
    "#hide\n",
    "metrics = [df_table.columns[index] for index in [1,2,5,6]]\n",
    "# s_china = df_table[df_table['Country/Region'].eq('China')][metrics].sum().add_prefix('China ')\n",
    "s_us = df_table[df_table['Country/Region'].eq('US')][metrics].sum().add_prefix('US ')\n",
    "s_eu = df_table[df_table['Continent'].eq('Europe')][metrics].sum().add_prefix('EU ')\n",
    "s_ind = df_table[df_table['Country/Region'].eq('India')][metrics].sum().add_prefix('India ')\n",
    "summary = {'updated': pd.to_datetime(dt_today), 'since': pd.to_datetime(dt_yday)}\n",
    "summary = {'updated': pd.to_datetime(dt_today), 'since': pd.to_datetime(dt_yday)}\n",
    "summary = {**summary, **df_table[metrics].sum(), **s_ind, **s_us, **s_eu}"
   ]
  },
  {
   "cell_type": "code",
   "execution_count": 18,
   "id": "engaging-syndrome",
   "metadata": {
    "execution": {
     "iopub.execute_input": "2022-02-07T12:12:26.043025Z",
     "iopub.status.busy": "2022-02-07T12:12:26.042409Z",
     "iopub.status.idle": "2022-02-07T12:12:26.060229Z",
     "shell.execute_reply": "2022-02-07T12:12:26.059547Z"
    },
    "papermill": {
     "duration": 0.061118,
     "end_time": "2022-02-07T12:12:26.060399",
     "exception": false,
     "start_time": "2022-02-07T12:12:25.999281",
     "status": "completed"
    },
    "tags": []
   },
   "outputs": [],
   "source": [
    "#hide\n",
    "dft_ct_new_cases = dft_cases.groupby(COL_REGION)[dt_cols].sum().diff(axis=1).fillna(0).astype(int)"
   ]
  },
  {
   "cell_type": "code",
   "execution_count": 19,
   "id": "neutral-assignment",
   "metadata": {
    "execution": {
     "iopub.execute_input": "2022-02-07T12:12:26.139828Z",
     "iopub.status.busy": "2022-02-07T12:12:26.139183Z",
     "iopub.status.idle": "2022-02-07T12:12:26.141962Z",
     "shell.execute_reply": "2022-02-07T12:12:26.141473Z"
    },
    "papermill": {
     "duration": 0.044689,
     "end_time": "2022-02-07T12:12:26.142090",
     "exception": false,
     "start_time": "2022-02-07T12:12:26.097401",
     "status": "completed"
    },
    "tags": []
   },
   "outputs": [],
   "source": [
    "#hide\n",
    "everydaycases = dft_ct_new_cases.cumsum(axis=1)"
   ]
  },
  {
   "cell_type": "code",
   "execution_count": 20,
   "id": "parliamentary-calgary",
   "metadata": {
    "execution": {
     "iopub.execute_input": "2022-02-07T12:12:26.218662Z",
     "iopub.status.busy": "2022-02-07T12:12:26.218041Z",
     "iopub.status.idle": "2022-02-07T12:12:26.918602Z",
     "shell.execute_reply": "2022-02-07T12:12:26.917962Z"
    },
    "papermill": {
     "duration": 0.740954,
     "end_time": "2022-02-07T12:12:26.918773",
     "exception": false,
     "start_time": "2022-02-07T12:12:26.177819",
     "status": "completed"
    },
    "tags": []
   },
   "outputs": [],
   "source": [
    "#hide\n",
    "import pandas as pd\n",
    "import matplotlib.pyplot as plt\n",
    "import matplotlib.ticker as ticker\n",
    "import matplotlib.animation as animation\n",
    "from IPython.display import HTML"
   ]
  },
  {
   "cell_type": "code",
   "execution_count": 21,
   "id": "lasting-extraction",
   "metadata": {
    "execution": {
     "iopub.execute_input": "2022-02-07T12:12:27.000065Z",
     "iopub.status.busy": "2022-02-07T12:12:26.999410Z",
     "iopub.status.idle": "2022-02-07T12:12:27.006685Z",
     "shell.execute_reply": "2022-02-07T12:12:27.006196Z"
    },
    "papermill": {
     "duration": 0.050803,
     "end_time": "2022-02-07T12:12:27.006815",
     "exception": false,
     "start_time": "2022-02-07T12:12:26.956012",
     "status": "completed"
    },
    "tags": []
   },
   "outputs": [],
   "source": [
    "#hide\n",
    "t = everydaycases.stack()"
   ]
  },
  {
   "cell_type": "code",
   "execution_count": 22,
   "id": "premier-sleeve",
   "metadata": {
    "execution": {
     "iopub.execute_input": "2022-02-07T12:12:27.084360Z",
     "iopub.status.busy": "2022-02-07T12:12:27.083741Z",
     "iopub.status.idle": "2022-02-07T12:12:27.097680Z",
     "shell.execute_reply": "2022-02-07T12:12:27.097187Z"
    },
    "papermill": {
     "duration": 0.055197,
     "end_time": "2022-02-07T12:12:27.097812",
     "exception": false,
     "start_time": "2022-02-07T12:12:27.042615",
     "status": "completed"
    },
    "tags": []
   },
   "outputs": [],
   "source": [
    "#hide\n",
    "g = t.reset_index(['Country/Region'])"
   ]
  },
  {
   "cell_type": "code",
   "execution_count": 23,
   "id": "distributed-pittsburgh",
   "metadata": {
    "execution": {
     "iopub.execute_input": "2022-02-07T12:12:27.173562Z",
     "iopub.status.busy": "2022-02-07T12:12:27.172957Z",
     "iopub.status.idle": "2022-02-07T12:12:27.175497Z",
     "shell.execute_reply": "2022-02-07T12:12:27.174987Z"
    },
    "papermill": {
     "duration": 0.042208,
     "end_time": "2022-02-07T12:12:27.175629",
     "exception": false,
     "start_time": "2022-02-07T12:12:27.133421",
     "status": "completed"
    },
    "tags": []
   },
   "outputs": [],
   "source": [
    "#hide\n",
    "g.index.name = 'date'"
   ]
  },
  {
   "cell_type": "code",
   "execution_count": 24,
   "id": "naked-donor",
   "metadata": {
    "execution": {
     "iopub.execute_input": "2022-02-07T12:12:27.251783Z",
     "iopub.status.busy": "2022-02-07T12:12:27.251107Z",
     "iopub.status.idle": "2022-02-07T12:12:27.252532Z",
     "shell.execute_reply": "2022-02-07T12:12:27.253104Z"
    },
    "papermill": {
     "duration": 0.041487,
     "end_time": "2022-02-07T12:12:27.253246",
     "exception": false,
     "start_time": "2022-02-07T12:12:27.211759",
     "status": "completed"
    },
    "tags": []
   },
   "outputs": [],
   "source": [
    "# #hide\n",
    "# g = g.reset_index(['date'])"
   ]
  },
  {
   "cell_type": "code",
   "execution_count": 25,
   "id": "incomplete-mustang",
   "metadata": {
    "execution": {
     "iopub.execute_input": "2022-02-07T12:12:27.329243Z",
     "iopub.status.busy": "2022-02-07T12:12:27.328645Z",
     "iopub.status.idle": "2022-02-07T12:12:27.331095Z",
     "shell.execute_reply": "2022-02-07T12:12:27.331713Z"
    },
    "papermill": {
     "duration": 0.042941,
     "end_time": "2022-02-07T12:12:27.331856",
     "exception": false,
     "start_time": "2022-02-07T12:12:27.288915",
     "status": "completed"
    },
    "tags": []
   },
   "outputs": [],
   "source": [
    "#hide\n",
    "# g.head()"
   ]
  },
  {
   "cell_type": "code",
   "execution_count": 26,
   "id": "specific-kruger",
   "metadata": {
    "execution": {
     "iopub.execute_input": "2022-02-07T12:12:27.409136Z",
     "iopub.status.busy": "2022-02-07T12:12:27.408107Z",
     "iopub.status.idle": "2022-02-07T12:12:27.410228Z",
     "shell.execute_reply": "2022-02-07T12:12:27.411031Z"
    },
    "papermill": {
     "duration": 0.043371,
     "end_time": "2022-02-07T12:12:27.411248",
     "exception": false,
     "start_time": "2022-02-07T12:12:27.367877",
     "status": "completed"
    },
    "tags": []
   },
   "outputs": [],
   "source": [
    "#hide\n",
    "# g.columns = ['date','country','cases']"
   ]
  },
  {
   "cell_type": "code",
   "execution_count": 27,
   "id": "tender-conversion",
   "metadata": {
    "execution": {
     "iopub.execute_input": "2022-02-07T12:12:27.489071Z",
     "iopub.status.busy": "2022-02-07T12:12:27.488044Z",
     "iopub.status.idle": "2022-02-07T12:12:27.490127Z",
     "shell.execute_reply": "2022-02-07T12:12:27.490976Z"
    },
    "papermill": {
     "duration": 0.043153,
     "end_time": "2022-02-07T12:12:27.491192",
     "exception": false,
     "start_time": "2022-02-07T12:12:27.448039",
     "status": "completed"
    },
    "tags": []
   },
   "outputs": [],
   "source": [
    "#hide\n",
    "# g['continent'] = g.country"
   ]
  },
  {
   "cell_type": "code",
   "execution_count": 28,
   "id": "substantial-wilderness",
   "metadata": {
    "execution": {
     "iopub.execute_input": "2022-02-07T12:12:27.569380Z",
     "iopub.status.busy": "2022-02-07T12:12:27.568369Z",
     "iopub.status.idle": "2022-02-07T12:12:27.573434Z",
     "shell.execute_reply": "2022-02-07T12:12:27.574207Z"
    },
    "papermill": {
     "duration": 0.046272,
     "end_time": "2022-02-07T12:12:27.574433",
     "exception": false,
     "start_time": "2022-02-07T12:12:27.528161",
     "status": "completed"
    },
    "tags": []
   },
   "outputs": [],
   "source": [
    "#hide\n",
    "# cols = list(g.columns.values)"
   ]
  },
  {
   "cell_type": "code",
   "execution_count": 29,
   "id": "solved-farming",
   "metadata": {
    "execution": {
     "iopub.execute_input": "2022-02-07T12:12:27.649792Z",
     "iopub.status.busy": "2022-02-07T12:12:27.649193Z",
     "iopub.status.idle": "2022-02-07T12:12:27.651521Z",
     "shell.execute_reply": "2022-02-07T12:12:27.652097Z"
    },
    "papermill": {
     "duration": 0.041846,
     "end_time": "2022-02-07T12:12:27.652228",
     "exception": false,
     "start_time": "2022-02-07T12:12:27.610382",
     "status": "completed"
    },
    "tags": []
   },
   "outputs": [],
   "source": [
    "#hide\n",
    "# cols.insert(0, cols.pop())"
   ]
  },
  {
   "cell_type": "code",
   "execution_count": 30,
   "id": "executed-adoption",
   "metadata": {
    "execution": {
     "iopub.execute_input": "2022-02-07T12:12:27.727365Z",
     "iopub.status.busy": "2022-02-07T12:12:27.726759Z",
     "iopub.status.idle": "2022-02-07T12:12:27.729327Z",
     "shell.execute_reply": "2022-02-07T12:12:27.728822Z"
    },
    "papermill": {
     "duration": 0.04157,
     "end_time": "2022-02-07T12:12:27.729443",
     "exception": false,
     "start_time": "2022-02-07T12:12:27.687873",
     "status": "completed"
    },
    "tags": []
   },
   "outputs": [],
   "source": [
    "#hide\n",
    "# g = g[cols]"
   ]
  },
  {
   "cell_type": "code",
   "execution_count": 31,
   "id": "subject-dublin",
   "metadata": {
    "execution": {
     "iopub.execute_input": "2022-02-07T12:12:27.805798Z",
     "iopub.status.busy": "2022-02-07T12:12:27.804952Z",
     "iopub.status.idle": "2022-02-07T12:12:27.809753Z",
     "shell.execute_reply": "2022-02-07T12:12:27.809268Z"
    },
    "papermill": {
     "duration": 0.044813,
     "end_time": "2022-02-07T12:12:27.809873",
     "exception": false,
     "start_time": "2022-02-07T12:12:27.765060",
     "status": "completed"
    },
    "tags": []
   },
   "outputs": [],
   "source": [
    "#hide\n",
    "# g['continent'] = g['continent'].map(mapping['map.continent'])"
   ]
  },
  {
   "cell_type": "code",
   "execution_count": 32,
   "id": "freelance-scout",
   "metadata": {
    "execution": {
     "iopub.execute_input": "2022-02-07T12:12:27.887138Z",
     "iopub.status.busy": "2022-02-07T12:12:27.886128Z",
     "iopub.status.idle": "2022-02-07T12:12:27.888270Z",
     "shell.execute_reply": "2022-02-07T12:12:27.888972Z"
    },
    "papermill": {
     "duration": 0.043523,
     "end_time": "2022-02-07T12:12:27.889102",
     "exception": false,
     "start_time": "2022-02-07T12:12:27.845579",
     "status": "completed"
    },
    "tags": []
   },
   "outputs": [],
   "source": [
    "#hide\n",
    "# g.head()"
   ]
  },
  {
   "cell_type": "code",
   "execution_count": 33,
   "id": "limited-engine",
   "metadata": {
    "execution": {
     "iopub.execute_input": "2022-02-07T12:12:27.963776Z",
     "iopub.status.busy": "2022-02-07T12:12:27.963131Z",
     "iopub.status.idle": "2022-02-07T12:12:27.966735Z",
     "shell.execute_reply": "2022-02-07T12:12:27.967199Z"
    },
    "papermill": {
     "duration": 0.042768,
     "end_time": "2022-02-07T12:12:27.967336",
     "exception": false,
     "start_time": "2022-02-07T12:12:27.924568",
     "status": "completed"
    },
    "tags": []
   },
   "outputs": [],
   "source": [
    "# hide\n",
    "# g['date'] = g['date'].astype('datetime64[ns]')"
   ]
  },
  {
   "cell_type": "code",
   "execution_count": 34,
   "id": "sophisticated-supervisor",
   "metadata": {
    "execution": {
     "iopub.execute_input": "2022-02-07T12:12:28.044510Z",
     "iopub.status.busy": "2022-02-07T12:12:28.043433Z",
     "iopub.status.idle": "2022-02-07T12:12:28.047952Z",
     "shell.execute_reply": "2022-02-07T12:12:28.047034Z"
    },
    "papermill": {
     "duration": 0.044995,
     "end_time": "2022-02-07T12:12:28.048149",
     "exception": false,
     "start_time": "2022-02-07T12:12:28.003154",
     "status": "completed"
    },
    "tags": []
   },
   "outputs": [],
   "source": [
    "#hide\n",
    "# g['date'] = g.date.dt.dayofyear"
   ]
  },
  {
   "cell_type": "code",
   "execution_count": 35,
   "id": "inside-dubai",
   "metadata": {
    "execution": {
     "iopub.execute_input": "2022-02-07T12:12:28.128306Z",
     "iopub.status.busy": "2022-02-07T12:12:28.127238Z",
     "iopub.status.idle": "2022-02-07T12:12:28.131479Z",
     "shell.execute_reply": "2022-02-07T12:12:28.130728Z"
    },
    "papermill": {
     "duration": 0.044599,
     "end_time": "2022-02-07T12:12:28.131602",
     "exception": false,
     "start_time": "2022-02-07T12:12:28.087003",
     "status": "completed"
    },
    "tags": []
   },
   "outputs": [],
   "source": [
    "#hide\n",
    "# g = g.rename(columns= {'continent':'group','country':'name','cases':'value'})"
   ]
  },
  {
   "cell_type": "code",
   "execution_count": 36,
   "id": "fleet-motorcycle",
   "metadata": {
    "execution": {
     "iopub.execute_input": "2022-02-07T12:12:28.208709Z",
     "iopub.status.busy": "2022-02-07T12:12:28.207677Z",
     "iopub.status.idle": "2022-02-07T12:12:28.211330Z",
     "shell.execute_reply": "2022-02-07T12:12:28.210472Z"
    },
    "papermill": {
     "duration": 0.044266,
     "end_time": "2022-02-07T12:12:28.211516",
     "exception": false,
     "start_time": "2022-02-07T12:12:28.167250",
     "status": "completed"
    },
    "tags": []
   },
   "outputs": [],
   "source": [
    "#hide\n",
    "# cols = ['name','group','day','value']"
   ]
  },
  {
   "cell_type": "code",
   "execution_count": 37,
   "id": "continued-sleeping",
   "metadata": {
    "execution": {
     "iopub.execute_input": "2022-02-07T12:12:28.288176Z",
     "iopub.status.busy": "2022-02-07T12:12:28.287106Z",
     "iopub.status.idle": "2022-02-07T12:12:28.291640Z",
     "shell.execute_reply": "2022-02-07T12:12:28.290730Z"
    },
    "papermill": {
     "duration": 0.044744,
     "end_time": "2022-02-07T12:12:28.291835",
     "exception": false,
     "start_time": "2022-02-07T12:12:28.247091",
     "status": "completed"
    },
    "tags": []
   },
   "outputs": [],
   "source": [
    "#hide\n",
    "# g.rename(columns= {'date':'day'},inplace = True)"
   ]
  },
  {
   "cell_type": "code",
   "execution_count": 38,
   "id": "major-fight",
   "metadata": {
    "execution": {
     "iopub.execute_input": "2022-02-07T12:12:28.368880Z",
     "iopub.status.busy": "2022-02-07T12:12:28.368198Z",
     "iopub.status.idle": "2022-02-07T12:12:28.370696Z",
     "shell.execute_reply": "2022-02-07T12:12:28.371268Z"
    },
    "papermill": {
     "duration": 0.043321,
     "end_time": "2022-02-07T12:12:28.371400",
     "exception": false,
     "start_time": "2022-02-07T12:12:28.328079",
     "status": "completed"
    },
    "tags": []
   },
   "outputs": [],
   "source": [
    "#hide\n",
    "# g = g[cols]"
   ]
  },
  {
   "cell_type": "code",
   "execution_count": 39,
   "id": "structured-mobile",
   "metadata": {
    "execution": {
     "iopub.execute_input": "2022-02-07T12:12:28.447871Z",
     "iopub.status.busy": "2022-02-07T12:12:28.446811Z",
     "iopub.status.idle": "2022-02-07T12:12:28.451614Z",
     "shell.execute_reply": "2022-02-07T12:12:28.450679Z"
    },
    "papermill": {
     "duration": 0.044915,
     "end_time": "2022-02-07T12:12:28.451813",
     "exception": false,
     "start_time": "2022-02-07T12:12:28.406898",
     "status": "completed"
    },
    "tags": []
   },
   "outputs": [],
   "source": [
    "# #hide\n",
    "# g = g[g.group.notna()]"
   ]
  },
  {
   "cell_type": "code",
   "execution_count": 40,
   "id": "determined-closing",
   "metadata": {
    "execution": {
     "iopub.execute_input": "2022-02-07T12:12:28.528620Z",
     "iopub.status.busy": "2022-02-07T12:12:28.527999Z",
     "iopub.status.idle": "2022-02-07T12:12:28.530903Z",
     "shell.execute_reply": "2022-02-07T12:12:28.531420Z"
    },
    "papermill": {
     "duration": 0.043287,
     "end_time": "2022-02-07T12:12:28.531578",
     "exception": false,
     "start_time": "2022-02-07T12:12:28.488291",
     "status": "completed"
    },
    "tags": []
   },
   "outputs": [],
   "source": [
    "# #hide\n",
    "# colors = dict(zip(\n",
    "#     [\"Oceania\", \"Europe\", \"Asia\", \"South America\", \"Middle East\", \"North America\", \"Africa\"],\n",
    "#     [\"#adb0ff\", \"#ffb3ff\", \"#90d595\", \"#e48381\", \"#aafbff\", \"#f7bb5f\", \"#eafb50\"]\n",
    "# ))\n",
    "# group_lk = g.set_index('name')['group'].to_dict()"
   ]
  },
  {
   "cell_type": "code",
   "execution_count": null,
   "id": "gross-drinking",
   "metadata": {
    "papermill": {
     "duration": 0.035554,
     "end_time": "2022-02-07T12:12:28.602629",
     "exception": false,
     "start_time": "2022-02-07T12:12:28.567075",
     "status": "completed"
    },
    "tags": []
   },
   "outputs": [],
   "source": []
  },
  {
   "cell_type": "code",
   "execution_count": 41,
   "id": "subject-macintosh",
   "metadata": {
    "execution": {
     "iopub.execute_input": "2022-02-07T12:12:28.679001Z",
     "iopub.status.busy": "2022-02-07T12:12:28.678376Z",
     "iopub.status.idle": "2022-02-07T12:12:28.680966Z",
     "shell.execute_reply": "2022-02-07T12:12:28.681545Z"
    },
    "papermill": {
     "duration": 0.043362,
     "end_time": "2022-02-07T12:12:28.681677",
     "exception": false,
     "start_time": "2022-02-07T12:12:28.638315",
     "status": "completed"
    },
    "tags": []
   },
   "outputs": [],
   "source": [
    "# #hide\n",
    "# fig, ax = plt.subplots(figsize=(15, 8))\n",
    "\n",
    "# def draw_barchart(current_day):\n",
    "#     dff = g[g['day'].eq(current_day)].sort_values(by='value', ascending=True).tail(10)\n",
    "#     ax.clear()\n",
    "#     ax.barh(dff['name'], dff['value'], color=[colors[group_lk[x]] for x in dff['name']])\n",
    "#     dx = dff['value'].max() / 200\n",
    "    \n",
    "#     for i, (value, name) in enumerate(zip(dff['value'], dff['name'])):\n",
    "#         ax.text(value-dx, i,     name,           size=14, weight=600, ha='right', va='bottom')\n",
    "#         ax.text(value-dx, i-.25, group_lk[name], size=10, color='#444444', ha='right', va='baseline')\n",
    "#         ax.text(value+dx, i,     f'{value:,.0f}',  size=14, ha='left',  va='center')\n",
    "#     ax.text(1, 0.4, current_day, transform=ax.transAxes, color='#777777', size=46, ha='right', weight=800)\n",
    "#     ax.text(0, 1.06, 'Population (thousands)', transform=ax.transAxes, size=12, color='#777777')\n",
    "#     ax.xaxis.set_major_formatter(ticker.StrMethodFormatter('{x:,.0f}'))\n",
    "#     ax.xaxis.set_ticks_position('top')\n",
    "#     ax.tick_params(axis='x', colors='#777777', labelsize=12)\n",
    "#     ax.set_yticks([])\n",
    "#     ax.margins(0, 0.01)\n",
    "#     ax.grid(which='major', axis='x', linestyle='-')\n",
    "#     ax.set_axisbelow(True)\n",
    "    \n",
    "#     ax.text(0, 1.15, 'Coronavirus',\n",
    "#             transform=ax.transAxes, size=24, weight=600, ha='left', va='top')\n",
    "# #     ax.text(1, 0, 'by @pratapvardhan; credit @jburnmurdoch', transform=ax.transAxes, color='#777777', ha='right',\n",
    "# #             bbox=dict(facecolor='white', alpha=0.8, edgecolor='white'))\n",
    "#     plt.box(False)"
   ]
  },
  {
   "cell_type": "code",
   "execution_count": 42,
   "id": "sexual-wages",
   "metadata": {
    "execution": {
     "iopub.execute_input": "2022-02-07T12:12:28.758372Z",
     "iopub.status.busy": "2022-02-07T12:12:28.757752Z",
     "iopub.status.idle": "2022-02-07T12:12:28.760146Z",
     "shell.execute_reply": "2022-02-07T12:12:28.759537Z"
    },
    "papermill": {
     "duration": 0.043026,
     "end_time": "2022-02-07T12:12:28.760266",
     "exception": false,
     "start_time": "2022-02-07T12:12:28.717240",
     "status": "completed"
    },
    "tags": []
   },
   "outputs": [],
   "source": [
    "# #hide_input\n",
    "# fig, ax = plt.subplots(figsize=(15, 8))\n",
    "# animator = animation.FuncAnimation(fig, draw_barchart, frames=range(g.day.values.min(), g.day.values.max()))\n",
    "# HTML(animator.to_jshtml())\n",
    "# # or use animator.to_html5_video() or animator.save() "
   ]
  },
  {
   "cell_type": "code",
   "execution_count": null,
   "id": "australian-container",
   "metadata": {
    "papermill": {
     "duration": 0.036608,
     "end_time": "2022-02-07T12:12:28.832608",
     "exception": false,
     "start_time": "2022-02-07T12:12:28.796000",
     "status": "completed"
    },
    "tags": []
   },
   "outputs": [],
   "source": []
  },
  {
   "cell_type": "code",
   "execution_count": null,
   "id": "mediterranean-pontiac",
   "metadata": {
    "papermill": {
     "duration": 0.036083,
     "end_time": "2022-02-07T12:12:28.904896",
     "exception": false,
     "start_time": "2022-02-07T12:12:28.868813",
     "status": "completed"
    },
    "tags": []
   },
   "outputs": [],
   "source": []
  },
  {
   "cell_type": "code",
   "execution_count": null,
   "id": "aging-legislature",
   "metadata": {
    "papermill": {
     "duration": 0.035618,
     "end_time": "2022-02-07T12:12:28.976399",
     "exception": false,
     "start_time": "2022-02-07T12:12:28.940781",
     "status": "completed"
    },
    "tags": []
   },
   "outputs": [],
   "source": []
  }
 ],
 "metadata": {
  "kernelspec": {
   "display_name": "Python 3",
   "language": "python",
   "name": "python3"
  },
  "language_info": {
   "codemirror_mode": {
    "name": "ipython",
    "version": 3
   },
   "file_extension": ".py",
   "mimetype": "text/x-python",
   "name": "python",
   "nbconvert_exporter": "python",
   "pygments_lexer": "ipython3",
   "version": "3.6.15"
  },
  "papermill": {
   "duration": 6.91279,
   "end_time": "2022-02-07T12:12:29.332683",
   "environment_variables": {},
   "exception": null,
   "input_path": "2020-03-21-covid19exp.ipynb",
   "output_path": "2020-03-21-covid19exp.ipynb",
   "parameters": {},
   "start_time": "2022-02-07T12:12:22.419893",
   "version": "2.0.0"
  }
 },
 "nbformat": 4,
 "nbformat_minor": 5
}