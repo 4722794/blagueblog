{
 "cells": [
  {
   "cell_type": "markdown",
   "id": "muslim-click",
   "metadata": {
    "papermill": {
     "duration": 0.043351,
     "end_time": "2022-03-28T00:34:35.972782",
     "exception": false,
     "start_time": "2022-03-28T00:34:35.929431",
     "status": "completed"
    },
    "tags": []
   },
   "source": [
    "# COVID-19 Case Race\n",
    "> A race chart to see rising cases around the world\n",
    "\n",
    "- author: Hargun Oberoi\n",
    "- image: images/covid-overview.png\n",
    "- hide: false\n",
    "- badges: false"
   ]
  },
  {
   "cell_type": "code",
   "execution_count": 1,
   "id": "proof-material",
   "metadata": {
    "execution": {
     "iopub.execute_input": "2022-03-28T00:34:36.068091Z",
     "iopub.status.busy": "2022-03-28T00:34:36.067363Z",
     "iopub.status.idle": "2022-03-28T00:34:36.455362Z",
     "shell.execute_reply": "2022-03-28T00:34:36.455912Z"
    },
    "papermill": {
     "duration": 0.443516,
     "end_time": "2022-03-28T00:34:36.456140",
     "exception": false,
     "start_time": "2022-03-28T00:34:36.012624",
     "status": "completed"
    },
    "tags": []
   },
   "outputs": [],
   "source": [
    "#hide\n",
    "import numpy as np\n",
    "import pandas as pd\n",
    "from jinja2 import Template\n",
    "from IPython.display import HTML"
   ]
  },
  {
   "cell_type": "code",
   "execution_count": 2,
   "id": "developed-terminology",
   "metadata": {
    "execution": {
     "iopub.execute_input": "2022-03-28T00:34:36.537836Z",
     "iopub.status.busy": "2022-03-28T00:34:36.537157Z",
     "iopub.status.idle": "2022-03-28T00:34:36.539631Z",
     "shell.execute_reply": "2022-03-28T00:34:36.539026Z"
    },
    "papermill": {
     "duration": 0.045935,
     "end_time": "2022-03-28T00:34:36.539779",
     "exception": false,
     "start_time": "2022-03-28T00:34:36.493844",
     "status": "completed"
    },
    "tags": []
   },
   "outputs": [],
   "source": [
    "#hide\n",
    "\n",
    "# FETCH\n",
    "base_url = 'https://raw.githubusercontent.com/pratapvardhan/notebooks/master/covid19/'\n",
    "paths = {\n",
    "    'mapping': base_url + 'mapping_countries.csv',\n",
    "    'overview': base_url + 'overview.tpl'\n",
    "}"
   ]
  },
  {
   "cell_type": "code",
   "execution_count": 3,
   "id": "dynamic-saver",
   "metadata": {
    "execution": {
     "iopub.execute_input": "2022-03-28T00:34:36.627015Z",
     "iopub.status.busy": "2022-03-28T00:34:36.625893Z",
     "iopub.status.idle": "2022-03-28T00:34:36.629206Z",
     "shell.execute_reply": "2022-03-28T00:34:36.627650Z"
    },
    "papermill": {
     "duration": 0.052377,
     "end_time": "2022-03-28T00:34:36.629336",
     "exception": false,
     "start_time": "2022-03-28T00:34:36.576959",
     "status": "completed"
    },
    "tags": []
   },
   "outputs": [
    {
     "data": {
      "text/plain": [
       "'https://raw.githubusercontent.com/pratapvardhan/notebooks/master/covid19/mapping_countries.csv'"
      ]
     },
     "execution_count": 3,
     "metadata": {},
     "output_type": "execute_result"
    }
   ],
   "source": [
    "#hide\n",
    "paths['mapping']"
   ]
  },
  {
   "cell_type": "code",
   "execution_count": 4,
   "id": "urban-software",
   "metadata": {
    "execution": {
     "iopub.execute_input": "2022-03-28T00:34:36.711166Z",
     "iopub.status.busy": "2022-03-28T00:34:36.710517Z",
     "iopub.status.idle": "2022-03-28T00:34:36.713052Z",
     "shell.execute_reply": "2022-03-28T00:34:36.712496Z"
    },
    "papermill": {
     "duration": 0.046561,
     "end_time": "2022-03-28T00:34:36.713180",
     "exception": false,
     "start_time": "2022-03-28T00:34:36.666619",
     "status": "completed"
    },
    "tags": []
   },
   "outputs": [],
   "source": [
    "#hide\n",
    "def get_mappings(url):\n",
    "    df = pd.read_csv(url)\n",
    "    return {\n",
    "        'df': df,\n",
    "        'replace.country': dict(df.dropna(subset=['Name']).set_index('Country')['Name']),\n",
    "        'map.continent': dict(df.set_index('Name')['Continent'])\n",
    "    }"
   ]
  },
  {
   "cell_type": "code",
   "execution_count": 5,
   "id": "intimate-machinery",
   "metadata": {
    "execution": {
     "iopub.execute_input": "2022-03-28T00:34:36.795766Z",
     "iopub.status.busy": "2022-03-28T00:34:36.795060Z",
     "iopub.status.idle": "2022-03-28T00:34:36.828616Z",
     "shell.execute_reply": "2022-03-28T00:34:36.828050Z"
    },
    "papermill": {
     "duration": 0.077076,
     "end_time": "2022-03-28T00:34:36.828764",
     "exception": false,
     "start_time": "2022-03-28T00:34:36.751688",
     "status": "completed"
    },
    "tags": []
   },
   "outputs": [],
   "source": [
    "#hide\n",
    "mapping = get_mappings(paths['mapping'])"
   ]
  },
  {
   "cell_type": "code",
   "execution_count": 6,
   "id": "certified-tactics",
   "metadata": {
    "execution": {
     "iopub.execute_input": "2022-03-28T00:34:36.911549Z",
     "iopub.status.busy": "2022-03-28T00:34:36.910898Z",
     "iopub.status.idle": "2022-03-28T00:34:36.912901Z",
     "shell.execute_reply": "2022-03-28T00:34:36.913423Z"
    },
    "papermill": {
     "duration": 0.046243,
     "end_time": "2022-03-28T00:34:36.913575",
     "exception": false,
     "start_time": "2022-03-28T00:34:36.867332",
     "status": "completed"
    },
    "tags": []
   },
   "outputs": [],
   "source": [
    "#hide\n",
    "def get_template(path):\n",
    "    from urllib.parse import urlparse\n",
    "    if bool(urlparse(path).netloc):\n",
    "        from urllib.request import urlopen\n",
    "        return urlopen(path).read().decode('utf8')\n",
    "    return open(path).read()"
   ]
  },
  {
   "cell_type": "code",
   "execution_count": 7,
   "id": "realistic-blast",
   "metadata": {
    "execution": {
     "iopub.execute_input": "2022-03-28T00:34:37.006406Z",
     "iopub.status.busy": "2022-03-28T00:34:37.005584Z",
     "iopub.status.idle": "2022-03-28T00:34:37.009118Z",
     "shell.execute_reply": "2022-03-28T00:34:37.008504Z"
    },
    "papermill": {
     "duration": 0.053572,
     "end_time": "2022-03-28T00:34:37.009269",
     "exception": false,
     "start_time": "2022-03-28T00:34:36.955697",
     "status": "completed"
    },
    "tags": []
   },
   "outputs": [],
   "source": [
    "#hide\n",
    "def get_frame(name):\n",
    "    url = (\n",
    "        'https://raw.githubusercontent.com/CSSEGISandData/COVID-19/master/csse_covid_19_data/'\n",
    "        f'csse_covid_19_time_series/time_series_covid19_{name}_global.csv')\n",
    "    df = pd.read_csv(url)\n",
    "    # rename countries\n",
    "    df['Country/Region'] = df['Country/Region'].replace(mapping['replace.country'])\n",
    "    return df"
   ]
  },
  {
   "cell_type": "code",
   "execution_count": 8,
   "id": "affiliated-characterization",
   "metadata": {
    "execution": {
     "iopub.execute_input": "2022-03-28T00:34:37.093401Z",
     "iopub.status.busy": "2022-03-28T00:34:37.092745Z",
     "iopub.status.idle": "2022-03-28T00:34:37.095186Z",
     "shell.execute_reply": "2022-03-28T00:34:37.094543Z"
    },
    "papermill": {
     "duration": 0.0471,
     "end_time": "2022-03-28T00:34:37.095318",
     "exception": false,
     "start_time": "2022-03-28T00:34:37.048218",
     "status": "completed"
    },
    "tags": []
   },
   "outputs": [],
   "source": [
    "#hide\n",
    "def get_dates(df):\n",
    "    dt_cols = df.columns[~df.columns.isin(['Province/State', 'Country/Region', 'Lat', 'Long'])]\n",
    "    LAST_DATE_I = -1\n",
    "    # sometimes last column may be empty, then go backwards\n",
    "    for i in range(-1, -len(dt_cols), -1):\n",
    "        if not df[dt_cols[i]].fillna(0).eq(0).all():\n",
    "            LAST_DATE_I = i\n",
    "            break\n",
    "    return LAST_DATE_I, dt_cols"
   ]
  },
  {
   "cell_type": "code",
   "execution_count": 9,
   "id": "recent-optimization",
   "metadata": {
    "execution": {
     "iopub.execute_input": "2022-03-28T00:34:37.176843Z",
     "iopub.status.busy": "2022-03-28T00:34:37.176185Z",
     "iopub.status.idle": "2022-03-28T00:34:37.600437Z",
     "shell.execute_reply": "2022-03-28T00:34:37.600978Z"
    },
    "papermill": {
     "duration": 0.464778,
     "end_time": "2022-03-28T00:34:37.601182",
     "exception": false,
     "start_time": "2022-03-28T00:34:37.136404",
     "status": "completed"
    },
    "tags": []
   },
   "outputs": [],
   "source": [
    "#hide\n",
    "COL_REGION = 'Country/Region'\n",
    "# Confirmed, Recovered, Deaths\n",
    "df = get_frame('confirmed')\n",
    "# dft_: timeseries, dfc_: today country agg\n",
    "dft_cases = df\n",
    "dft_deaths = get_frame('deaths')\n",
    "dft_recovered = get_frame('recovered')\n",
    "LAST_DATE_I, dt_cols = get_dates(df)"
   ]
  },
  {
   "cell_type": "code",
   "execution_count": 10,
   "id": "absolute-copper",
   "metadata": {
    "execution": {
     "iopub.execute_input": "2022-03-28T00:34:37.686637Z",
     "iopub.status.busy": "2022-03-28T00:34:37.685974Z",
     "iopub.status.idle": "2022-03-28T00:34:37.688608Z",
     "shell.execute_reply": "2022-03-28T00:34:37.687976Z"
    },
    "papermill": {
     "duration": 0.048127,
     "end_time": "2022-03-28T00:34:37.688747",
     "exception": false,
     "start_time": "2022-03-28T00:34:37.640620",
     "status": "completed"
    },
    "tags": []
   },
   "outputs": [],
   "source": [
    "#hide\n",
    "LAST_DATE_I, dt_cols = get_dates(df)\n",
    "dt_today =dt_cols[LAST_DATE_I]\n",
    "# dt_5day = dt_cols[LAST_DATE_I - 5]\n",
    "dt_yday = dt_cols[LAST_DATE_I - 1]"
   ]
  },
  {
   "cell_type": "code",
   "execution_count": 11,
   "id": "restricted-sheriff",
   "metadata": {
    "execution": {
     "iopub.execute_input": "2022-03-28T00:34:37.772821Z",
     "iopub.status.busy": "2022-03-28T00:34:37.772135Z",
     "iopub.status.idle": "2022-03-28T00:34:37.779849Z",
     "shell.execute_reply": "2022-03-28T00:34:37.779331Z"
    },
    "papermill": {
     "duration": 0.052105,
     "end_time": "2022-03-28T00:34:37.779982",
     "exception": false,
     "start_time": "2022-03-28T00:34:37.727877",
     "status": "completed"
    },
    "tags": []
   },
   "outputs": [],
   "source": [
    "#hide\n",
    "dfc_cases = dft_cases.groupby(COL_REGION)[dt_today].sum()\n",
    "dfc_deaths = dft_deaths.groupby(COL_REGION)[dt_today].sum()\n",
    "# dfp_cases = dft_cases.groupby(COL_REGION)[dt_5day].sum()\n",
    "# dfp_deaths = dft_deaths.groupby(COL_REGION)[dt_5day].sum()\n",
    "dfp_cases = dft_cases.groupby(COL_REGION)[dt_yday].sum()\n",
    "dfp_deaths = dft_deaths.groupby(COL_REGION)[dt_yday].sum()"
   ]
  },
  {
   "cell_type": "code",
   "execution_count": 12,
   "id": "deluxe-hepatitis",
   "metadata": {
    "execution": {
     "iopub.execute_input": "2022-03-28T00:34:37.862118Z",
     "iopub.status.busy": "2022-03-28T00:34:37.861456Z",
     "iopub.status.idle": "2022-03-28T00:34:37.866925Z",
     "shell.execute_reply": "2022-03-28T00:34:37.866369Z"
    },
    "papermill": {
     "duration": 0.050603,
     "end_time": "2022-03-28T00:34:37.867054",
     "exception": false,
     "start_time": "2022-03-28T00:34:37.816451",
     "status": "completed"
    },
    "tags": []
   },
   "outputs": [],
   "source": [
    "#hide\n",
    "df_table = (pd.DataFrame(dict(Cases = dfc_cases, Deaths = dfc_deaths, PCases = dfp_cases, PDeaths = dfp_deaths))\n",
    "            .sort_values(by = ['Cases','Deaths'], ascending = [False, False])\n",
    "            .reset_index())"
   ]
  },
  {
   "cell_type": "code",
   "execution_count": 13,
   "id": "educational-chancellor",
   "metadata": {
    "execution": {
     "iopub.execute_input": "2022-03-28T00:34:37.964180Z",
     "iopub.status.busy": "2022-03-28T00:34:37.963506Z",
     "iopub.status.idle": "2022-03-28T00:34:37.972138Z",
     "shell.execute_reply": "2022-03-28T00:34:37.972626Z"
    },
    "papermill": {
     "duration": 0.067812,
     "end_time": "2022-03-28T00:34:37.972786",
     "exception": false,
     "start_time": "2022-03-28T00:34:37.904974",
     "status": "completed"
    },
    "tags": []
   },
   "outputs": [
    {
     "data": {
      "text/html": [
       "<div>\n",
       "<style scoped>\n",
       "    .dataframe tbody tr th:only-of-type {\n",
       "        vertical-align: middle;\n",
       "    }\n",
       "\n",
       "    .dataframe tbody tr th {\n",
       "        vertical-align: top;\n",
       "    }\n",
       "\n",
       "    .dataframe thead th {\n",
       "        text-align: right;\n",
       "    }\n",
       "</style>\n",
       "<table border=\"1\" class=\"dataframe\">\n",
       "  <thead>\n",
       "    <tr style=\"text-align: right;\">\n",
       "      <th></th>\n",
       "      <th>Country/Region</th>\n",
       "      <th>Cases</th>\n",
       "      <th>Deaths</th>\n",
       "      <th>PCases</th>\n",
       "      <th>PDeaths</th>\n",
       "      <th>Cases (+)</th>\n",
       "      <th>Deaths (+)</th>\n",
       "      <th>Fatality Rate</th>\n",
       "      <th>Continent</th>\n",
       "    </tr>\n",
       "  </thead>\n",
       "  <tbody>\n",
       "    <tr>\n",
       "      <th>0</th>\n",
       "      <td>US</td>\n",
       "      <td>79946097</td>\n",
       "      <td>976652</td>\n",
       "      <td>79936777</td>\n",
       "      <td>976505</td>\n",
       "      <td>9320</td>\n",
       "      <td>147</td>\n",
       "      <td>1.22</td>\n",
       "      <td>North America</td>\n",
       "    </tr>\n",
       "    <tr>\n",
       "      <th>1</th>\n",
       "      <td>India</td>\n",
       "      <td>43019453</td>\n",
       "      <td>521004</td>\n",
       "      <td>43018032</td>\n",
       "      <td>520855</td>\n",
       "      <td>1421</td>\n",
       "      <td>149</td>\n",
       "      <td>1.21</td>\n",
       "      <td>Asia</td>\n",
       "    </tr>\n",
       "    <tr>\n",
       "      <th>2</th>\n",
       "      <td>Brazil</td>\n",
       "      <td>29839103</td>\n",
       "      <td>659046</td>\n",
       "      <td>29809769</td>\n",
       "      <td>658855</td>\n",
       "      <td>29334</td>\n",
       "      <td>191</td>\n",
       "      <td>2.21</td>\n",
       "      <td>South America</td>\n",
       "    </tr>\n",
       "    <tr>\n",
       "      <th>3</th>\n",
       "      <td>France</td>\n",
       "      <td>25106739</td>\n",
       "      <td>142664</td>\n",
       "      <td>24967222</td>\n",
       "      <td>142597</td>\n",
       "      <td>139517</td>\n",
       "      <td>67</td>\n",
       "      <td>0.57</td>\n",
       "      <td>Europe</td>\n",
       "    </tr>\n",
       "    <tr>\n",
       "      <th>4</th>\n",
       "      <td>United Kingdom</td>\n",
       "      <td>20848913</td>\n",
       "      <td>165046</td>\n",
       "      <td>20848912</td>\n",
       "      <td>165046</td>\n",
       "      <td>1</td>\n",
       "      <td>0</td>\n",
       "      <td>0.79</td>\n",
       "      <td>Europe</td>\n",
       "    </tr>\n",
       "  </tbody>\n",
       "</table>\n",
       "</div>"
      ],
      "text/plain": [
       "   Country/Region     Cases  Deaths    PCases  PDeaths  Cases (+)  Deaths (+)  \\\n",
       "0              US  79946097  976652  79936777   976505       9320         147   \n",
       "1           India  43019453  521004  43018032   520855       1421         149   \n",
       "2          Brazil  29839103  659046  29809769   658855      29334         191   \n",
       "3          France  25106739  142664  24967222   142597     139517          67   \n",
       "4  United Kingdom  20848913  165046  20848912   165046          1           0   \n",
       "\n",
       "   Fatality Rate      Continent  \n",
       "0           1.22  North America  \n",
       "1           1.21           Asia  \n",
       "2           2.21  South America  \n",
       "3           0.57         Europe  \n",
       "4           0.79         Europe  "
      ]
     },
     "execution_count": 13,
     "metadata": {},
     "output_type": "execute_result"
    }
   ],
   "source": [
    "#hide\n",
    "for c in 'Cases, Deaths'.split(', '):\n",
    "    df_table[f'{c} (+)'] = (df_table[c] - df_table[f'P{c}']).clip(0)\n",
    "    #Clip ça veut dire, les chiffres negatif sont interdit\n",
    "df_table['Fatality Rate'] = (100* df_table['Deaths']/ df_table['Cases']).round(2)\n",
    "df_table['Continent'] = df_table['Country/Region'].map(mapping['map.continent'])\n",
    "df_table.head(5)"
   ]
  },
  {
   "cell_type": "code",
   "execution_count": 14,
   "id": "aboriginal-bulgaria",
   "metadata": {
    "execution": {
     "iopub.execute_input": "2022-03-28T00:34:38.061065Z",
     "iopub.status.busy": "2022-03-28T00:34:38.060401Z",
     "iopub.status.idle": "2022-03-28T00:34:38.062929Z",
     "shell.execute_reply": "2022-03-28T00:34:38.062410Z"
    },
    "papermill": {
     "duration": 0.05013,
     "end_time": "2022-03-28T00:34:38.063063",
     "exception": false,
     "start_time": "2022-03-28T00:34:38.012933",
     "status": "completed"
    },
    "tags": []
   },
   "outputs": [],
   "source": [
    "#hide\n",
    "#delete problematic countries from table\n",
    "df_table = df_table[~df_table['Country/Region'].isin(['Cape Verde', 'Cruise Ship', 'Kosovo'])]"
   ]
  },
  {
   "cell_type": "code",
   "execution_count": 15,
   "id": "fantastic-effect",
   "metadata": {
    "execution": {
     "iopub.execute_input": "2022-03-28T00:34:38.149344Z",
     "iopub.status.busy": "2022-03-28T00:34:38.148673Z",
     "iopub.status.idle": "2022-03-28T00:34:38.170582Z",
     "shell.execute_reply": "2022-03-28T00:34:38.170104Z"
    },
    "papermill": {
     "duration": 0.068831,
     "end_time": "2022-03-28T00:34:38.170709",
     "exception": false,
     "start_time": "2022-03-28T00:34:38.101878",
     "status": "completed"
    },
    "tags": []
   },
   "outputs": [
    {
     "data": {
      "text/html": [
       "<div>\n",
       "<style scoped>\n",
       "    .dataframe tbody tr th:only-of-type {\n",
       "        vertical-align: middle;\n",
       "    }\n",
       "\n",
       "    .dataframe tbody tr th {\n",
       "        vertical-align: top;\n",
       "    }\n",
       "\n",
       "    .dataframe thead th {\n",
       "        text-align: right;\n",
       "    }\n",
       "</style>\n",
       "<table border=\"1\" class=\"dataframe\">\n",
       "  <thead>\n",
       "    <tr style=\"text-align: right;\">\n",
       "      <th></th>\n",
       "      <th>Country/Region</th>\n",
       "      <th>Cases</th>\n",
       "      <th>Deaths</th>\n",
       "      <th>PCases</th>\n",
       "      <th>PDeaths</th>\n",
       "      <th>Cases (+)</th>\n",
       "      <th>Deaths (+)</th>\n",
       "      <th>Fatality Rate</th>\n",
       "      <th>Continent</th>\n",
       "    </tr>\n",
       "  </thead>\n",
       "  <tbody>\n",
       "    <tr>\n",
       "      <th>0</th>\n",
       "      <td>US</td>\n",
       "      <td>79946097</td>\n",
       "      <td>976652</td>\n",
       "      <td>79936777</td>\n",
       "      <td>976505</td>\n",
       "      <td>9320</td>\n",
       "      <td>147</td>\n",
       "      <td>1.2</td>\n",
       "      <td>North America</td>\n",
       "    </tr>\n",
       "    <tr>\n",
       "      <th>1</th>\n",
       "      <td>India</td>\n",
       "      <td>43019453</td>\n",
       "      <td>521004</td>\n",
       "      <td>43018032</td>\n",
       "      <td>520855</td>\n",
       "      <td>1421</td>\n",
       "      <td>149</td>\n",
       "      <td>1.2</td>\n",
       "      <td>Asia</td>\n",
       "    </tr>\n",
       "    <tr>\n",
       "      <th>2</th>\n",
       "      <td>Brazil</td>\n",
       "      <td>29839103</td>\n",
       "      <td>659046</td>\n",
       "      <td>29809769</td>\n",
       "      <td>658855</td>\n",
       "      <td>29334</td>\n",
       "      <td>191</td>\n",
       "      <td>2.2</td>\n",
       "      <td>South America</td>\n",
       "    </tr>\n",
       "    <tr>\n",
       "      <th>3</th>\n",
       "      <td>France</td>\n",
       "      <td>25106739</td>\n",
       "      <td>142664</td>\n",
       "      <td>24967222</td>\n",
       "      <td>142597</td>\n",
       "      <td>139517</td>\n",
       "      <td>67</td>\n",
       "      <td>0.6</td>\n",
       "      <td>Europe</td>\n",
       "    </tr>\n",
       "    <tr>\n",
       "      <th>4</th>\n",
       "      <td>United Kingdom</td>\n",
       "      <td>20848913</td>\n",
       "      <td>165046</td>\n",
       "      <td>20848912</td>\n",
       "      <td>165046</td>\n",
       "      <td>1</td>\n",
       "      <td>0</td>\n",
       "      <td>0.8</td>\n",
       "      <td>Europe</td>\n",
       "    </tr>\n",
       "  </tbody>\n",
       "</table>\n",
       "</div>"
      ],
      "text/plain": [
       "   Country/Region     Cases  Deaths    PCases  PDeaths  Cases (+)  Deaths (+)  \\\n",
       "0              US  79946097  976652  79936777   976505       9320         147   \n",
       "1           India  43019453  521004  43018032   520855       1421         149   \n",
       "2          Brazil  29839103  659046  29809769   658855      29334         191   \n",
       "3          France  25106739  142664  24967222   142597     139517          67   \n",
       "4  United Kingdom  20848913  165046  20848912   165046          1           0   \n",
       "\n",
       "   Fatality Rate      Continent  \n",
       "0            1.2  North America  \n",
       "1            1.2           Asia  \n",
       "2            2.2  South America  \n",
       "3            0.6         Europe  \n",
       "4            0.8         Europe  "
      ]
     },
     "execution_count": 15,
     "metadata": {},
     "output_type": "execute_result"
    }
   ],
   "source": [
    "#hide\n",
    "df_table = (pd.DataFrame(dict(Cases=dfc_cases, Deaths=dfc_deaths, PCases=dfp_cases, PDeaths=dfp_deaths))\n",
    "             .sort_values(by=['Cases', 'Deaths'], ascending=[False, False])\n",
    "             .reset_index())\n",
    "df_table.rename(columns={'index': 'Country/Region'}, inplace=True)\n",
    "for c in 'Cases, Deaths'.split(', '):\n",
    "    df_table[f'{c} (+)'] = (df_table[c] - df_table[f'P{c}']).clip(0)  # DATA BUG\n",
    "df_table['Fatality Rate'] = (100 * df_table['Deaths'] / df_table['Cases']).round(1)\n",
    "df_table['Continent'] = df_table['Country/Region'].map(mapping['map.continent'])\n",
    "df_table.head(5)"
   ]
  },
  {
   "cell_type": "code",
   "execution_count": 16,
   "id": "fewer-occasion",
   "metadata": {
    "execution": {
     "iopub.execute_input": "2022-03-28T00:34:38.253654Z",
     "iopub.status.busy": "2022-03-28T00:34:38.252967Z",
     "iopub.status.idle": "2022-03-28T00:34:38.255221Z",
     "shell.execute_reply": "2022-03-28T00:34:38.255888Z"
    },
    "papermill": {
     "duration": 0.047959,
     "end_time": "2022-03-28T00:34:38.256055",
     "exception": false,
     "start_time": "2022-03-28T00:34:38.208096",
     "status": "completed"
    },
    "tags": []
   },
   "outputs": [],
   "source": [
    "#hide\n",
    "#delete problematic countries from table\n",
    "df_table = df_table[~df_table['Country/Region'].isin(['Cape Verde', 'Cruise Ship', 'Kosovo'])]"
   ]
  },
  {
   "cell_type": "code",
   "execution_count": 17,
   "id": "related-center",
   "metadata": {
    "execution": {
     "iopub.execute_input": "2022-03-28T00:34:38.346109Z",
     "iopub.status.busy": "2022-03-28T00:34:38.345432Z",
     "iopub.status.idle": "2022-03-28T00:34:38.354872Z",
     "shell.execute_reply": "2022-03-28T00:34:38.354329Z"
    },
    "papermill": {
     "duration": 0.062005,
     "end_time": "2022-03-28T00:34:38.354994",
     "exception": false,
     "start_time": "2022-03-28T00:34:38.292989",
     "status": "completed"
    },
    "tags": []
   },
   "outputs": [],
   "source": [
    "#hide\n",
    "metrics = [df_table.columns[index] for index in [1,2,5,6]]\n",
    "# s_china = df_table[df_table['Country/Region'].eq('China')][metrics].sum().add_prefix('China ')\n",
    "s_us = df_table[df_table['Country/Region'].eq('US')][metrics].sum().add_prefix('US ')\n",
    "s_eu = df_table[df_table['Continent'].eq('Europe')][metrics].sum().add_prefix('EU ')\n",
    "s_ind = df_table[df_table['Country/Region'].eq('India')][metrics].sum().add_prefix('India ')\n",
    "summary = {'updated': pd.to_datetime(dt_today), 'since': pd.to_datetime(dt_yday)}\n",
    "summary = {'updated': pd.to_datetime(dt_today), 'since': pd.to_datetime(dt_yday)}\n",
    "summary = {**summary, **df_table[metrics].sum(), **s_ind, **s_us, **s_eu}"
   ]
  },
  {
   "cell_type": "code",
   "execution_count": 18,
   "id": "engaging-syndrome",
   "metadata": {
    "execution": {
     "iopub.execute_input": "2022-03-28T00:34:38.435630Z",
     "iopub.status.busy": "2022-03-28T00:34:38.434989Z",
     "iopub.status.idle": "2022-03-28T00:34:38.451475Z",
     "shell.execute_reply": "2022-03-28T00:34:38.452005Z"
    },
    "papermill": {
     "duration": 0.059725,
     "end_time": "2022-03-28T00:34:38.452157",
     "exception": false,
     "start_time": "2022-03-28T00:34:38.392432",
     "status": "completed"
    },
    "tags": []
   },
   "outputs": [],
   "source": [
    "#hide\n",
    "dft_ct_new_cases = dft_cases.groupby(COL_REGION)[dt_cols].sum().diff(axis=1).fillna(0).astype(int)"
   ]
  },
  {
   "cell_type": "code",
   "execution_count": 19,
   "id": "neutral-assignment",
   "metadata": {
    "execution": {
     "iopub.execute_input": "2022-03-28T00:34:38.532580Z",
     "iopub.status.busy": "2022-03-28T00:34:38.531958Z",
     "iopub.status.idle": "2022-03-28T00:34:38.538001Z",
     "shell.execute_reply": "2022-03-28T00:34:38.538652Z"
    },
    "papermill": {
     "duration": 0.048533,
     "end_time": "2022-03-28T00:34:38.538789",
     "exception": false,
     "start_time": "2022-03-28T00:34:38.490256",
     "status": "completed"
    },
    "tags": []
   },
   "outputs": [],
   "source": [
    "#hide\n",
    "everydaycases = dft_ct_new_cases.cumsum(axis=1)"
   ]
  },
  {
   "cell_type": "code",
   "execution_count": 20,
   "id": "parliamentary-calgary",
   "metadata": {
    "execution": {
     "iopub.execute_input": "2022-03-28T00:34:38.617776Z",
     "iopub.status.busy": "2022-03-28T00:34:38.617130Z",
     "iopub.status.idle": "2022-03-28T00:34:39.326716Z",
     "shell.execute_reply": "2022-03-28T00:34:39.326144Z"
    },
    "papermill": {
     "duration": 0.75124,
     "end_time": "2022-03-28T00:34:39.326865",
     "exception": false,
     "start_time": "2022-03-28T00:34:38.575625",
     "status": "completed"
    },
    "tags": []
   },
   "outputs": [],
   "source": [
    "#hide\n",
    "import pandas as pd\n",
    "import matplotlib.pyplot as plt\n",
    "import matplotlib.ticker as ticker\n",
    "import matplotlib.animation as animation\n",
    "from IPython.display import HTML"
   ]
  },
  {
   "cell_type": "code",
   "execution_count": 21,
   "id": "lasting-extraction",
   "metadata": {
    "execution": {
     "iopub.execute_input": "2022-03-28T00:34:39.411631Z",
     "iopub.status.busy": "2022-03-28T00:34:39.410966Z",
     "iopub.status.idle": "2022-03-28T00:34:39.417210Z",
     "shell.execute_reply": "2022-03-28T00:34:39.417776Z"
    },
    "papermill": {
     "duration": 0.052042,
     "end_time": "2022-03-28T00:34:39.417914",
     "exception": false,
     "start_time": "2022-03-28T00:34:39.365872",
     "status": "completed"
    },
    "tags": []
   },
   "outputs": [],
   "source": [
    "#hide\n",
    "t = everydaycases.stack()"
   ]
  },
  {
   "cell_type": "code",
   "execution_count": 22,
   "id": "premier-sleeve",
   "metadata": {
    "execution": {
     "iopub.execute_input": "2022-03-28T00:34:39.500405Z",
     "iopub.status.busy": "2022-03-28T00:34:39.499753Z",
     "iopub.status.idle": "2022-03-28T00:34:39.511031Z",
     "shell.execute_reply": "2022-03-28T00:34:39.511689Z"
    },
    "papermill": {
     "duration": 0.055486,
     "end_time": "2022-03-28T00:34:39.511854",
     "exception": false,
     "start_time": "2022-03-28T00:34:39.456368",
     "status": "completed"
    },
    "tags": []
   },
   "outputs": [],
   "source": [
    "#hide\n",
    "g = t.reset_index(['Country/Region'])"
   ]
  },
  {
   "cell_type": "code",
   "execution_count": 23,
   "id": "distributed-pittsburgh",
   "metadata": {
    "execution": {
     "iopub.execute_input": "2022-03-28T00:34:39.592986Z",
     "iopub.status.busy": "2022-03-28T00:34:39.592018Z",
     "iopub.status.idle": "2022-03-28T00:34:39.595349Z",
     "shell.execute_reply": "2022-03-28T00:34:39.595915Z"
    },
    "papermill": {
     "duration": 0.045952,
     "end_time": "2022-03-28T00:34:39.596078",
     "exception": false,
     "start_time": "2022-03-28T00:34:39.550126",
     "status": "completed"
    },
    "tags": []
   },
   "outputs": [],
   "source": [
    "#hide\n",
    "g.index.name = 'date'"
   ]
  },
  {
   "cell_type": "code",
   "execution_count": 24,
   "id": "naked-donor",
   "metadata": {
    "execution": {
     "iopub.execute_input": "2022-03-28T00:34:39.677363Z",
     "iopub.status.busy": "2022-03-28T00:34:39.676711Z",
     "iopub.status.idle": "2022-03-28T00:34:39.680184Z",
     "shell.execute_reply": "2022-03-28T00:34:39.680664Z"
    },
    "papermill": {
     "duration": 0.046003,
     "end_time": "2022-03-28T00:34:39.680824",
     "exception": false,
     "start_time": "2022-03-28T00:34:39.634821",
     "status": "completed"
    },
    "tags": []
   },
   "outputs": [],
   "source": [
    "# #hide\n",
    "# g = g.reset_index(['date'])"
   ]
  },
  {
   "cell_type": "code",
   "execution_count": 25,
   "id": "incomplete-mustang",
   "metadata": {
    "execution": {
     "iopub.execute_input": "2022-03-28T00:34:39.766884Z",
     "iopub.status.busy": "2022-03-28T00:34:39.766228Z",
     "iopub.status.idle": "2022-03-28T00:34:39.769966Z",
     "shell.execute_reply": "2022-03-28T00:34:39.770447Z"
    },
    "papermill": {
     "duration": 0.049238,
     "end_time": "2022-03-28T00:34:39.770593",
     "exception": false,
     "start_time": "2022-03-28T00:34:39.721355",
     "status": "completed"
    },
    "tags": []
   },
   "outputs": [],
   "source": [
    "#hide\n",
    "# g.head()"
   ]
  },
  {
   "cell_type": "code",
   "execution_count": 26,
   "id": "specific-kruger",
   "metadata": {
    "execution": {
     "iopub.execute_input": "2022-03-28T00:34:39.851364Z",
     "iopub.status.busy": "2022-03-28T00:34:39.850707Z",
     "iopub.status.idle": "2022-03-28T00:34:39.853108Z",
     "shell.execute_reply": "2022-03-28T00:34:39.852551Z"
    },
    "papermill": {
     "duration": 0.044357,
     "end_time": "2022-03-28T00:34:39.853244",
     "exception": false,
     "start_time": "2022-03-28T00:34:39.808887",
     "status": "completed"
    },
    "tags": []
   },
   "outputs": [],
   "source": [
    "#hide\n",
    "# g.columns = ['date','country','cases']"
   ]
  },
  {
   "cell_type": "code",
   "execution_count": 27,
   "id": "tender-conversion",
   "metadata": {
    "execution": {
     "iopub.execute_input": "2022-03-28T00:34:39.935983Z",
     "iopub.status.busy": "2022-03-28T00:34:39.935302Z",
     "iopub.status.idle": "2022-03-28T00:34:39.937899Z",
     "shell.execute_reply": "2022-03-28T00:34:39.937279Z"
    },
    "papermill": {
     "duration": 0.045342,
     "end_time": "2022-03-28T00:34:39.938029",
     "exception": false,
     "start_time": "2022-03-28T00:34:39.892687",
     "status": "completed"
    },
    "tags": []
   },
   "outputs": [],
   "source": [
    "#hide\n",
    "# g['continent'] = g.country"
   ]
  },
  {
   "cell_type": "code",
   "execution_count": 28,
   "id": "substantial-wilderness",
   "metadata": {
    "execution": {
     "iopub.execute_input": "2022-03-28T00:34:40.019324Z",
     "iopub.status.busy": "2022-03-28T00:34:40.018693Z",
     "iopub.status.idle": "2022-03-28T00:34:40.021205Z",
     "shell.execute_reply": "2022-03-28T00:34:40.020551Z"
    },
    "papermill": {
     "duration": 0.044373,
     "end_time": "2022-03-28T00:34:40.021345",
     "exception": false,
     "start_time": "2022-03-28T00:34:39.976972",
     "status": "completed"
    },
    "tags": []
   },
   "outputs": [],
   "source": [
    "#hide\n",
    "# cols = list(g.columns.values)"
   ]
  },
  {
   "cell_type": "code",
   "execution_count": 29,
   "id": "solved-farming",
   "metadata": {
    "execution": {
     "iopub.execute_input": "2022-03-28T00:34:40.102001Z",
     "iopub.status.busy": "2022-03-28T00:34:40.101391Z",
     "iopub.status.idle": "2022-03-28T00:34:40.103201Z",
     "shell.execute_reply": "2022-03-28T00:34:40.103744Z"
    },
    "papermill": {
     "duration": 0.044709,
     "end_time": "2022-03-28T00:34:40.103893",
     "exception": false,
     "start_time": "2022-03-28T00:34:40.059184",
     "status": "completed"
    },
    "tags": []
   },
   "outputs": [],
   "source": [
    "#hide\n",
    "# cols.insert(0, cols.pop())"
   ]
  },
  {
   "cell_type": "code",
   "execution_count": 30,
   "id": "executed-adoption",
   "metadata": {
    "execution": {
     "iopub.execute_input": "2022-03-28T00:34:40.185618Z",
     "iopub.status.busy": "2022-03-28T00:34:40.184958Z",
     "iopub.status.idle": "2022-03-28T00:34:40.187221Z",
     "shell.execute_reply": "2022-03-28T00:34:40.187878Z"
    },
    "papermill": {
     "duration": 0.045555,
     "end_time": "2022-03-28T00:34:40.188032",
     "exception": false,
     "start_time": "2022-03-28T00:34:40.142477",
     "status": "completed"
    },
    "tags": []
   },
   "outputs": [],
   "source": [
    "#hide\n",
    "# g = g[cols]"
   ]
  },
  {
   "cell_type": "code",
   "execution_count": 31,
   "id": "subject-dublin",
   "metadata": {
    "execution": {
     "iopub.execute_input": "2022-03-28T00:34:40.270867Z",
     "iopub.status.busy": "2022-03-28T00:34:40.270196Z",
     "iopub.status.idle": "2022-03-28T00:34:40.272364Z",
     "shell.execute_reply": "2022-03-28T00:34:40.272831Z"
    },
    "papermill": {
     "duration": 0.044905,
     "end_time": "2022-03-28T00:34:40.272974",
     "exception": false,
     "start_time": "2022-03-28T00:34:40.228069",
     "status": "completed"
    },
    "tags": []
   },
   "outputs": [],
   "source": [
    "#hide\n",
    "# g['continent'] = g['continent'].map(mapping['map.continent'])"
   ]
  },
  {
   "cell_type": "code",
   "execution_count": 32,
   "id": "freelance-scout",
   "metadata": {
    "execution": {
     "iopub.execute_input": "2022-03-28T00:34:40.353551Z",
     "iopub.status.busy": "2022-03-28T00:34:40.352892Z",
     "iopub.status.idle": "2022-03-28T00:34:40.356629Z",
     "shell.execute_reply": "2022-03-28T00:34:40.357158Z"
    },
    "papermill": {
     "duration": 0.04667,
     "end_time": "2022-03-28T00:34:40.357310",
     "exception": false,
     "start_time": "2022-03-28T00:34:40.310640",
     "status": "completed"
    },
    "tags": []
   },
   "outputs": [],
   "source": [
    "#hide\n",
    "# g.head()"
   ]
  },
  {
   "cell_type": "code",
   "execution_count": 33,
   "id": "limited-engine",
   "metadata": {
    "execution": {
     "iopub.execute_input": "2022-03-28T00:34:40.439971Z",
     "iopub.status.busy": "2022-03-28T00:34:40.439241Z",
     "iopub.status.idle": "2022-03-28T00:34:40.441890Z",
     "shell.execute_reply": "2022-03-28T00:34:40.441323Z"
    },
    "papermill": {
     "duration": 0.044761,
     "end_time": "2022-03-28T00:34:40.442033",
     "exception": false,
     "start_time": "2022-03-28T00:34:40.397272",
     "status": "completed"
    },
    "tags": []
   },
   "outputs": [],
   "source": [
    "# hide\n",
    "# g['date'] = g['date'].astype('datetime64[ns]')"
   ]
  },
  {
   "cell_type": "code",
   "execution_count": 34,
   "id": "sophisticated-supervisor",
   "metadata": {
    "execution": {
     "iopub.execute_input": "2022-03-28T00:34:40.523291Z",
     "iopub.status.busy": "2022-03-28T00:34:40.522680Z",
     "iopub.status.idle": "2022-03-28T00:34:40.524786Z",
     "shell.execute_reply": "2022-03-28T00:34:40.525331Z"
    },
    "papermill": {
     "duration": 0.043504,
     "end_time": "2022-03-28T00:34:40.525512",
     "exception": false,
     "start_time": "2022-03-28T00:34:40.482008",
     "status": "completed"
    },
    "tags": []
   },
   "outputs": [],
   "source": [
    "#hide\n",
    "# g['date'] = g.date.dt.dayofyear"
   ]
  },
  {
   "cell_type": "code",
   "execution_count": 35,
   "id": "inside-dubai",
   "metadata": {
    "execution": {
     "iopub.execute_input": "2022-03-28T00:34:40.605821Z",
     "iopub.status.busy": "2022-03-28T00:34:40.605220Z",
     "iopub.status.idle": "2022-03-28T00:34:40.608804Z",
     "shell.execute_reply": "2022-03-28T00:34:40.609274Z"
    },
    "papermill": {
     "duration": 0.045941,
     "end_time": "2022-03-28T00:34:40.609408",
     "exception": false,
     "start_time": "2022-03-28T00:34:40.563467",
     "status": "completed"
    },
    "tags": []
   },
   "outputs": [],
   "source": [
    "#hide\n",
    "# g = g.rename(columns= {'continent':'group','country':'name','cases':'value'})"
   ]
  },
  {
   "cell_type": "code",
   "execution_count": 36,
   "id": "fleet-motorcycle",
   "metadata": {
    "execution": {
     "iopub.execute_input": "2022-03-28T00:34:40.688775Z",
     "iopub.status.busy": "2022-03-28T00:34:40.688114Z",
     "iopub.status.idle": "2022-03-28T00:34:40.690047Z",
     "shell.execute_reply": "2022-03-28T00:34:40.690592Z"
    },
    "papermill": {
     "duration": 0.044003,
     "end_time": "2022-03-28T00:34:40.690744",
     "exception": false,
     "start_time": "2022-03-28T00:34:40.646741",
     "status": "completed"
    },
    "tags": []
   },
   "outputs": [],
   "source": [
    "#hide\n",
    "# cols = ['name','group','day','value']"
   ]
  },
  {
   "cell_type": "code",
   "execution_count": 37,
   "id": "continued-sleeping",
   "metadata": {
    "execution": {
     "iopub.execute_input": "2022-03-28T00:34:40.772976Z",
     "iopub.status.busy": "2022-03-28T00:34:40.771659Z",
     "iopub.status.idle": "2022-03-28T00:34:40.774728Z",
     "shell.execute_reply": "2022-03-28T00:34:40.774142Z"
    },
    "papermill": {
     "duration": 0.044574,
     "end_time": "2022-03-28T00:34:40.774866",
     "exception": false,
     "start_time": "2022-03-28T00:34:40.730292",
     "status": "completed"
    },
    "tags": []
   },
   "outputs": [],
   "source": [
    "#hide\n",
    "# g.rename(columns= {'date':'day'},inplace = True)"
   ]
  },
  {
   "cell_type": "code",
   "execution_count": 38,
   "id": "major-fight",
   "metadata": {
    "execution": {
     "iopub.execute_input": "2022-03-28T00:34:40.859278Z",
     "iopub.status.busy": "2022-03-28T00:34:40.858623Z",
     "iopub.status.idle": "2022-03-28T00:34:40.862194Z",
     "shell.execute_reply": "2022-03-28T00:34:40.862801Z"
    },
    "papermill": {
     "duration": 0.047916,
     "end_time": "2022-03-28T00:34:40.863021",
     "exception": false,
     "start_time": "2022-03-28T00:34:40.815105",
     "status": "completed"
    },
    "tags": []
   },
   "outputs": [],
   "source": [
    "#hide\n",
    "# g = g[cols]"
   ]
  },
  {
   "cell_type": "code",
   "execution_count": 39,
   "id": "structured-mobile",
   "metadata": {
    "execution": {
     "iopub.execute_input": "2022-03-28T00:34:40.946351Z",
     "iopub.status.busy": "2022-03-28T00:34:40.945695Z",
     "iopub.status.idle": "2022-03-28T00:34:40.948309Z",
     "shell.execute_reply": "2022-03-28T00:34:40.947764Z"
    },
    "papermill": {
     "duration": 0.045105,
     "end_time": "2022-03-28T00:34:40.948433",
     "exception": false,
     "start_time": "2022-03-28T00:34:40.903328",
     "status": "completed"
    },
    "tags": []
   },
   "outputs": [],
   "source": [
    "# #hide\n",
    "# g = g[g.group.notna()]"
   ]
  },
  {
   "cell_type": "code",
   "execution_count": 40,
   "id": "determined-closing",
   "metadata": {
    "execution": {
     "iopub.execute_input": "2022-03-28T00:34:41.041009Z",
     "iopub.status.busy": "2022-03-28T00:34:41.040346Z",
     "iopub.status.idle": "2022-03-28T00:34:41.042460Z",
     "shell.execute_reply": "2022-03-28T00:34:41.042961Z"
    },
    "papermill": {
     "duration": 0.055233,
     "end_time": "2022-03-28T00:34:41.043114",
     "exception": false,
     "start_time": "2022-03-28T00:34:40.987881",
     "status": "completed"
    },
    "tags": []
   },
   "outputs": [],
   "source": [
    "# #hide\n",
    "# colors = dict(zip(\n",
    "#     [\"Oceania\", \"Europe\", \"Asia\", \"South America\", \"Middle East\", \"North America\", \"Africa\"],\n",
    "#     [\"#adb0ff\", \"#ffb3ff\", \"#90d595\", \"#e48381\", \"#aafbff\", \"#f7bb5f\", \"#eafb50\"]\n",
    "# ))\n",
    "# group_lk = g.set_index('name')['group'].to_dict()"
   ]
  },
  {
   "cell_type": "code",
   "execution_count": null,
   "id": "gross-drinking",
   "metadata": {
    "papermill": {
     "duration": 0.038163,
     "end_time": "2022-03-28T00:34:41.120372",
     "exception": false,
     "start_time": "2022-03-28T00:34:41.082209",
     "status": "completed"
    },
    "tags": []
   },
   "outputs": [],
   "source": []
  },
  {
   "cell_type": "code",
   "execution_count": 41,
   "id": "subject-macintosh",
   "metadata": {
    "execution": {
     "iopub.execute_input": "2022-03-28T00:34:41.206112Z",
     "iopub.status.busy": "2022-03-28T00:34:41.205145Z",
     "iopub.status.idle": "2022-03-28T00:34:41.206917Z",
     "shell.execute_reply": "2022-03-28T00:34:41.207539Z"
    },
    "papermill": {
     "duration": 0.047775,
     "end_time": "2022-03-28T00:34:41.207727",
     "exception": false,
     "start_time": "2022-03-28T00:34:41.159952",
     "status": "completed"
    },
    "tags": []
   },
   "outputs": [],
   "source": [
    "# #hide\n",
    "# fig, ax = plt.subplots(figsize=(15, 8))\n",
    "\n",
    "# def draw_barchart(current_day):\n",
    "#     dff = g[g['day'].eq(current_day)].sort_values(by='value', ascending=True).tail(10)\n",
    "#     ax.clear()\n",
    "#     ax.barh(dff['name'], dff['value'], color=[colors[group_lk[x]] for x in dff['name']])\n",
    "#     dx = dff['value'].max() / 200\n",
    "    \n",
    "#     for i, (value, name) in enumerate(zip(dff['value'], dff['name'])):\n",
    "#         ax.text(value-dx, i,     name,           size=14, weight=600, ha='right', va='bottom')\n",
    "#         ax.text(value-dx, i-.25, group_lk[name], size=10, color='#444444', ha='right', va='baseline')\n",
    "#         ax.text(value+dx, i,     f'{value:,.0f}',  size=14, ha='left',  va='center')\n",
    "#     ax.text(1, 0.4, current_day, transform=ax.transAxes, color='#777777', size=46, ha='right', weight=800)\n",
    "#     ax.text(0, 1.06, 'Population (thousands)', transform=ax.transAxes, size=12, color='#777777')\n",
    "#     ax.xaxis.set_major_formatter(ticker.StrMethodFormatter('{x:,.0f}'))\n",
    "#     ax.xaxis.set_ticks_position('top')\n",
    "#     ax.tick_params(axis='x', colors='#777777', labelsize=12)\n",
    "#     ax.set_yticks([])\n",
    "#     ax.margins(0, 0.01)\n",
    "#     ax.grid(which='major', axis='x', linestyle='-')\n",
    "#     ax.set_axisbelow(True)\n",
    "    \n",
    "#     ax.text(0, 1.15, 'Coronavirus',\n",
    "#             transform=ax.transAxes, size=24, weight=600, ha='left', va='top')\n",
    "# #     ax.text(1, 0, 'by @pratapvardhan; credit @jburnmurdoch', transform=ax.transAxes, color='#777777', ha='right',\n",
    "# #             bbox=dict(facecolor='white', alpha=0.8, edgecolor='white'))\n",
    "#     plt.box(False)"
   ]
  },
  {
   "cell_type": "code",
   "execution_count": 42,
   "id": "sexual-wages",
   "metadata": {
    "execution": {
     "iopub.execute_input": "2022-03-28T00:34:41.289921Z",
     "iopub.status.busy": "2022-03-28T00:34:41.289224Z",
     "iopub.status.idle": "2022-03-28T00:34:41.292074Z",
     "shell.execute_reply": "2022-03-28T00:34:41.292574Z"
    },
    "papermill": {
     "duration": 0.045931,
     "end_time": "2022-03-28T00:34:41.292738",
     "exception": false,
     "start_time": "2022-03-28T00:34:41.246807",
     "status": "completed"
    },
    "tags": []
   },
   "outputs": [],
   "source": [
    "# #hide_input\n",
    "# fig, ax = plt.subplots(figsize=(15, 8))\n",
    "# animator = animation.FuncAnimation(fig, draw_barchart, frames=range(g.day.values.min(), g.day.values.max()))\n",
    "# HTML(animator.to_jshtml())\n",
    "# # or use animator.to_html5_video() or animator.save() "
   ]
  },
  {
   "cell_type": "code",
   "execution_count": null,
   "id": "australian-container",
   "metadata": {
    "papermill": {
     "duration": 0.04321,
     "end_time": "2022-03-28T00:34:41.375364",
     "exception": false,
     "start_time": "2022-03-28T00:34:41.332154",
     "status": "completed"
    },
    "tags": []
   },
   "outputs": [],
   "source": []
  },
  {
   "cell_type": "code",
   "execution_count": null,
   "id": "mediterranean-pontiac",
   "metadata": {
    "papermill": {
     "duration": 0.0386,
     "end_time": "2022-03-28T00:34:41.455171",
     "exception": false,
     "start_time": "2022-03-28T00:34:41.416571",
     "status": "completed"
    },
    "tags": []
   },
   "outputs": [],
   "source": []
  },
  {
   "cell_type": "code",
   "execution_count": null,
   "id": "aging-legislature",
   "metadata": {
    "papermill": {
     "duration": 0.038021,
     "end_time": "2022-03-28T00:34:41.532606",
     "exception": false,
     "start_time": "2022-03-28T00:34:41.494585",
     "status": "completed"
    },
    "tags": []
   },
   "outputs": [],
   "source": []
  }
 ],
 "metadata": {
  "kernelspec": {
   "display_name": "Python 3",
   "language": "python",
   "name": "python3"
  },
  "language_info": {
   "codemirror_mode": {
    "name": "ipython",
    "version": 3
   },
   "file_extension": ".py",
   "mimetype": "text/x-python",
   "name": "python",
   "nbconvert_exporter": "python",
   "pygments_lexer": "ipython3",
   "version": "3.6.15"
  },
  "papermill": {
   "duration": 7.387956,
   "end_time": "2022-03-28T00:34:41.990415",
   "environment_variables": {},
   "exception": null,
   "input_path": "2020-03-21-covid19exp.ipynb",
   "output_path": "2020-03-21-covid19exp.ipynb",
   "parameters": {},
   "start_time": "2022-03-28T00:34:34.602459",
   "version": "2.0.0"
  }
 },
 "nbformat": 4,
 "nbformat_minor": 5
}