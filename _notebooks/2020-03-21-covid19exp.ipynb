{
 "cells": [
  {
   "cell_type": "markdown",
   "id": "muslim-click",
   "metadata": {
    "papermill": {
     "duration": 0.038495,
     "end_time": "2021-06-21T12:10:41.152753",
     "exception": false,
     "start_time": "2021-06-21T12:10:41.114258",
     "status": "completed"
    },
    "tags": []
   },
   "source": [
    "# COVID-19 Case Race\n",
    "> A race chart to see rising cases around the world\n",
    "\n",
    "- author: Hargun Oberoi\n",
    "- image: images/covid-overview.png\n",
    "- hide: false\n",
    "- badges: false"
   ]
  },
  {
   "cell_type": "code",
   "execution_count": 1,
   "id": "proof-material",
   "metadata": {
    "execution": {
     "iopub.execute_input": "2021-06-21T12:10:41.234993Z",
     "iopub.status.busy": "2021-06-21T12:10:41.234381Z",
     "iopub.status.idle": "2021-06-21T12:10:41.608283Z",
     "shell.execute_reply": "2021-06-21T12:10:41.607059Z"
    },
    "papermill": {
     "duration": 0.421255,
     "end_time": "2021-06-21T12:10:41.608476",
     "exception": false,
     "start_time": "2021-06-21T12:10:41.187221",
     "status": "completed"
    },
    "tags": []
   },
   "outputs": [],
   "source": [
    "#hide\n",
    "import numpy as np\n",
    "import pandas as pd\n",
    "from jinja2 import Template\n",
    "from IPython.display import HTML"
   ]
  },
  {
   "cell_type": "code",
   "execution_count": 2,
   "id": "developed-terminology",
   "metadata": {
    "execution": {
     "iopub.execute_input": "2021-06-21T12:10:41.687037Z",
     "iopub.status.busy": "2021-06-21T12:10:41.686424Z",
     "iopub.status.idle": "2021-06-21T12:10:41.688674Z",
     "shell.execute_reply": "2021-06-21T12:10:41.689126Z"
    },
    "papermill": {
     "duration": 0.042511,
     "end_time": "2021-06-21T12:10:41.689273",
     "exception": false,
     "start_time": "2021-06-21T12:10:41.646762",
     "status": "completed"
    },
    "tags": []
   },
   "outputs": [],
   "source": [
    "#hide\n",
    "\n",
    "# FETCH\n",
    "base_url = 'https://raw.githubusercontent.com/pratapvardhan/notebooks/master/covid19/'\n",
    "paths = {\n",
    "    'mapping': base_url + 'mapping_countries.csv',\n",
    "    'overview': base_url + 'overview.tpl'\n",
    "}"
   ]
  },
  {
   "cell_type": "code",
   "execution_count": 3,
   "id": "dynamic-saver",
   "metadata": {
    "execution": {
     "iopub.execute_input": "2021-06-21T12:10:41.771004Z",
     "iopub.status.busy": "2021-06-21T12:10:41.770324Z",
     "iopub.status.idle": "2021-06-21T12:10:41.775525Z",
     "shell.execute_reply": "2021-06-21T12:10:41.776076Z"
    },
    "papermill": {
     "duration": 0.052556,
     "end_time": "2021-06-21T12:10:41.776233",
     "exception": false,
     "start_time": "2021-06-21T12:10:41.723677",
     "status": "completed"
    },
    "tags": []
   },
   "outputs": [
    {
     "data": {
      "text/plain": [
       "'https://raw.githubusercontent.com/pratapvardhan/notebooks/master/covid19/mapping_countries.csv'"
      ]
     },
     "execution_count": 3,
     "metadata": {},
     "output_type": "execute_result"
    }
   ],
   "source": [
    "#hide\n",
    "paths['mapping']"
   ]
  },
  {
   "cell_type": "code",
   "execution_count": 4,
   "id": "urban-software",
   "metadata": {
    "execution": {
     "iopub.execute_input": "2021-06-21T12:10:41.850522Z",
     "iopub.status.busy": "2021-06-21T12:10:41.849985Z",
     "iopub.status.idle": "2021-06-21T12:10:41.852365Z",
     "shell.execute_reply": "2021-06-21T12:10:41.852926Z"
    },
    "papermill": {
     "duration": 0.042337,
     "end_time": "2021-06-21T12:10:41.853053",
     "exception": false,
     "start_time": "2021-06-21T12:10:41.810716",
     "status": "completed"
    },
    "tags": []
   },
   "outputs": [],
   "source": [
    "#hide\n",
    "def get_mappings(url):\n",
    "    df = pd.read_csv(url)\n",
    "    return {\n",
    "        'df': df,\n",
    "        'replace.country': dict(df.dropna(subset=['Name']).set_index('Country')['Name']),\n",
    "        'map.continent': dict(df.set_index('Name')['Continent'])\n",
    "    }"
   ]
  },
  {
   "cell_type": "code",
   "execution_count": 5,
   "id": "intimate-machinery",
   "metadata": {
    "execution": {
     "iopub.execute_input": "2021-06-21T12:10:41.927379Z",
     "iopub.status.busy": "2021-06-21T12:10:41.926825Z",
     "iopub.status.idle": "2021-06-21T12:10:41.958171Z",
     "shell.execute_reply": "2021-06-21T12:10:41.957688Z"
    },
    "papermill": {
     "duration": 0.07032,
     "end_time": "2021-06-21T12:10:41.958285",
     "exception": false,
     "start_time": "2021-06-21T12:10:41.887965",
     "status": "completed"
    },
    "tags": []
   },
   "outputs": [],
   "source": [
    "#hide\n",
    "mapping = get_mappings(paths['mapping'])"
   ]
  },
  {
   "cell_type": "code",
   "execution_count": 6,
   "id": "certified-tactics",
   "metadata": {
    "execution": {
     "iopub.execute_input": "2021-06-21T12:10:42.034964Z",
     "iopub.status.busy": "2021-06-21T12:10:42.034339Z",
     "iopub.status.idle": "2021-06-21T12:10:42.036866Z",
     "shell.execute_reply": "2021-06-21T12:10:42.036350Z"
    },
    "papermill": {
     "duration": 0.042161,
     "end_time": "2021-06-21T12:10:42.037038",
     "exception": false,
     "start_time": "2021-06-21T12:10:41.994877",
     "status": "completed"
    },
    "tags": []
   },
   "outputs": [],
   "source": [
    "#hide\n",
    "def get_template(path):\n",
    "    from urllib.parse import urlparse\n",
    "    if bool(urlparse(path).netloc):\n",
    "        from urllib.request import urlopen\n",
    "        return urlopen(path).read().decode('utf8')\n",
    "    return open(path).read()"
   ]
  },
  {
   "cell_type": "code",
   "execution_count": 7,
   "id": "realistic-blast",
   "metadata": {
    "execution": {
     "iopub.execute_input": "2021-06-21T12:10:42.115114Z",
     "iopub.status.busy": "2021-06-21T12:10:42.114533Z",
     "iopub.status.idle": "2021-06-21T12:10:42.116453Z",
     "shell.execute_reply": "2021-06-21T12:10:42.116892Z"
    },
    "papermill": {
     "duration": 0.045093,
     "end_time": "2021-06-21T12:10:42.117027",
     "exception": false,
     "start_time": "2021-06-21T12:10:42.071934",
     "status": "completed"
    },
    "tags": []
   },
   "outputs": [],
   "source": [
    "#hide\n",
    "def get_frame(name):\n",
    "    url = (\n",
    "        'https://raw.githubusercontent.com/CSSEGISandData/COVID-19/master/csse_covid_19_data/'\n",
    "        f'csse_covid_19_time_series/time_series_covid19_{name}_global.csv')\n",
    "    df = pd.read_csv(url)\n",
    "    # rename countries\n",
    "    df['Country/Region'] = df['Country/Region'].replace(mapping['replace.country'])\n",
    "    return df"
   ]
  },
  {
   "cell_type": "code",
   "execution_count": 8,
   "id": "affiliated-characterization",
   "metadata": {
    "execution": {
     "iopub.execute_input": "2021-06-21T12:10:42.195752Z",
     "iopub.status.busy": "2021-06-21T12:10:42.195192Z",
     "iopub.status.idle": "2021-06-21T12:10:42.197231Z",
     "shell.execute_reply": "2021-06-21T12:10:42.197663Z"
    },
    "papermill": {
     "duration": 0.045915,
     "end_time": "2021-06-21T12:10:42.197787",
     "exception": false,
     "start_time": "2021-06-21T12:10:42.151872",
     "status": "completed"
    },
    "tags": []
   },
   "outputs": [],
   "source": [
    "#hide\n",
    "def get_dates(df):\n",
    "    dt_cols = df.columns[~df.columns.isin(['Province/State', 'Country/Region', 'Lat', 'Long'])]\n",
    "    LAST_DATE_I = -1\n",
    "    # sometimes last column may be empty, then go backwards\n",
    "    for i in range(-1, -len(dt_cols), -1):\n",
    "        if not df[dt_cols[i]].fillna(0).eq(0).all():\n",
    "            LAST_DATE_I = i\n",
    "            break\n",
    "    return LAST_DATE_I, dt_cols"
   ]
  },
  {
   "cell_type": "code",
   "execution_count": 9,
   "id": "recent-optimization",
   "metadata": {
    "execution": {
     "iopub.execute_input": "2021-06-21T12:10:42.273188Z",
     "iopub.status.busy": "2021-06-21T12:10:42.272585Z",
     "iopub.status.idle": "2021-06-21T12:10:42.574668Z",
     "shell.execute_reply": "2021-06-21T12:10:42.575174Z"
    },
    "papermill": {
     "duration": 0.343055,
     "end_time": "2021-06-21T12:10:42.575328",
     "exception": false,
     "start_time": "2021-06-21T12:10:42.232273",
     "status": "completed"
    },
    "tags": []
   },
   "outputs": [],
   "source": [
    "#hide\n",
    "COL_REGION = 'Country/Region'\n",
    "# Confirmed, Recovered, Deaths\n",
    "df = get_frame('confirmed')\n",
    "# dft_: timeseries, dfc_: today country agg\n",
    "dft_cases = df\n",
    "dft_deaths = get_frame('deaths')\n",
    "dft_recovered = get_frame('recovered')\n",
    "LAST_DATE_I, dt_cols = get_dates(df)"
   ]
  },
  {
   "cell_type": "code",
   "execution_count": 10,
   "id": "absolute-copper",
   "metadata": {
    "execution": {
     "iopub.execute_input": "2021-06-21T12:10:42.652256Z",
     "iopub.status.busy": "2021-06-21T12:10:42.651647Z",
     "iopub.status.idle": "2021-06-21T12:10:42.653985Z",
     "shell.execute_reply": "2021-06-21T12:10:42.654523Z"
    },
    "papermill": {
     "duration": 0.044524,
     "end_time": "2021-06-21T12:10:42.654656",
     "exception": false,
     "start_time": "2021-06-21T12:10:42.610132",
     "status": "completed"
    },
    "tags": []
   },
   "outputs": [],
   "source": [
    "#hide\n",
    "LAST_DATE_I, dt_cols = get_dates(df)\n",
    "dt_today =dt_cols[LAST_DATE_I]\n",
    "# dt_5day = dt_cols[LAST_DATE_I - 5]\n",
    "dt_yday = dt_cols[LAST_DATE_I - 1]"
   ]
  },
  {
   "cell_type": "code",
   "execution_count": 11,
   "id": "restricted-sheriff",
   "metadata": {
    "execution": {
     "iopub.execute_input": "2021-06-21T12:10:42.731794Z",
     "iopub.status.busy": "2021-06-21T12:10:42.731119Z",
     "iopub.status.idle": "2021-06-21T12:10:42.739157Z",
     "shell.execute_reply": "2021-06-21T12:10:42.738717Z"
    },
    "papermill": {
     "duration": 0.050602,
     "end_time": "2021-06-21T12:10:42.739269",
     "exception": false,
     "start_time": "2021-06-21T12:10:42.688667",
     "status": "completed"
    },
    "tags": []
   },
   "outputs": [],
   "source": [
    "#hide\n",
    "dfc_cases = dft_cases.groupby(COL_REGION)[dt_today].sum()\n",
    "dfc_deaths = dft_deaths.groupby(COL_REGION)[dt_today].sum()\n",
    "# dfp_cases = dft_cases.groupby(COL_REGION)[dt_5day].sum()\n",
    "# dfp_deaths = dft_deaths.groupby(COL_REGION)[dt_5day].sum()\n",
    "dfp_cases = dft_cases.groupby(COL_REGION)[dt_yday].sum()\n",
    "dfp_deaths = dft_deaths.groupby(COL_REGION)[dt_yday].sum()"
   ]
  },
  {
   "cell_type": "code",
   "execution_count": 12,
   "id": "deluxe-hepatitis",
   "metadata": {
    "execution": {
     "iopub.execute_input": "2021-06-21T12:10:42.816376Z",
     "iopub.status.busy": "2021-06-21T12:10:42.815762Z",
     "iopub.status.idle": "2021-06-21T12:10:42.824858Z",
     "shell.execute_reply": "2021-06-21T12:10:42.825653Z"
    },
    "papermill": {
     "duration": 0.052011,
     "end_time": "2021-06-21T12:10:42.825930",
     "exception": false,
     "start_time": "2021-06-21T12:10:42.773919",
     "status": "completed"
    },
    "tags": []
   },
   "outputs": [],
   "source": [
    "#hide\n",
    "df_table = (pd.DataFrame(dict(Cases = dfc_cases, Deaths = dfc_deaths, PCases = dfp_cases, PDeaths = dfp_deaths))\n",
    "            .sort_values(by = ['Cases','Deaths'], ascending = [False, False])\n",
    "            .reset_index())"
   ]
  },
  {
   "cell_type": "code",
   "execution_count": 13,
   "id": "educational-chancellor",
   "metadata": {
    "execution": {
     "iopub.execute_input": "2021-06-21T12:10:42.927153Z",
     "iopub.status.busy": "2021-06-21T12:10:42.926327Z",
     "iopub.status.idle": "2021-06-21T12:10:42.934154Z",
     "shell.execute_reply": "2021-06-21T12:10:42.935086Z"
    },
    "papermill": {
     "duration": 0.06664,
     "end_time": "2021-06-21T12:10:42.935250",
     "exception": false,
     "start_time": "2021-06-21T12:10:42.868610",
     "status": "completed"
    },
    "tags": []
   },
   "outputs": [
    {
     "data": {
      "text/html": [
       "<div>\n",
       "<style scoped>\n",
       "    .dataframe tbody tr th:only-of-type {\n",
       "        vertical-align: middle;\n",
       "    }\n",
       "\n",
       "    .dataframe tbody tr th {\n",
       "        vertical-align: top;\n",
       "    }\n",
       "\n",
       "    .dataframe thead th {\n",
       "        text-align: right;\n",
       "    }\n",
       "</style>\n",
       "<table border=\"1\" class=\"dataframe\">\n",
       "  <thead>\n",
       "    <tr style=\"text-align: right;\">\n",
       "      <th></th>\n",
       "      <th>Country/Region</th>\n",
       "      <th>Cases</th>\n",
       "      <th>Deaths</th>\n",
       "      <th>PCases</th>\n",
       "      <th>PDeaths</th>\n",
       "      <th>Cases (+)</th>\n",
       "      <th>Deaths (+)</th>\n",
       "      <th>Fatality Rate</th>\n",
       "      <th>Continent</th>\n",
       "    </tr>\n",
       "  </thead>\n",
       "  <tbody>\n",
       "    <tr>\n",
       "      <th>0</th>\n",
       "      <td>US</td>\n",
       "      <td>33541887</td>\n",
       "      <td>601824</td>\n",
       "      <td>33537995</td>\n",
       "      <td>601741</td>\n",
       "      <td>3892</td>\n",
       "      <td>83</td>\n",
       "      <td>1.79</td>\n",
       "      <td>North America</td>\n",
       "    </tr>\n",
       "    <tr>\n",
       "      <th>1</th>\n",
       "      <td>India</td>\n",
       "      <td>29935221</td>\n",
       "      <td>388135</td>\n",
       "      <td>29881772</td>\n",
       "      <td>386708</td>\n",
       "      <td>53449</td>\n",
       "      <td>1427</td>\n",
       "      <td>1.30</td>\n",
       "      <td>Asia</td>\n",
       "    </tr>\n",
       "    <tr>\n",
       "      <th>2</th>\n",
       "      <td>Brazil</td>\n",
       "      <td>17927928</td>\n",
       "      <td>501825</td>\n",
       "      <td>17883750</td>\n",
       "      <td>500800</td>\n",
       "      <td>44178</td>\n",
       "      <td>1025</td>\n",
       "      <td>2.80</td>\n",
       "      <td>South America</td>\n",
       "    </tr>\n",
       "    <tr>\n",
       "      <th>3</th>\n",
       "      <td>France</td>\n",
       "      <td>5819088</td>\n",
       "      <td>110900</td>\n",
       "      <td>5817272</td>\n",
       "      <td>110886</td>\n",
       "      <td>1816</td>\n",
       "      <td>14</td>\n",
       "      <td>1.91</td>\n",
       "      <td>Europe</td>\n",
       "    </tr>\n",
       "    <tr>\n",
       "      <th>4</th>\n",
       "      <td>Turkey</td>\n",
       "      <td>5370299</td>\n",
       "      <td>49185</td>\n",
       "      <td>5365208</td>\n",
       "      <td>49122</td>\n",
       "      <td>5091</td>\n",
       "      <td>63</td>\n",
       "      <td>0.92</td>\n",
       "      <td>Asia</td>\n",
       "    </tr>\n",
       "  </tbody>\n",
       "</table>\n",
       "</div>"
      ],
      "text/plain": [
       "  Country/Region     Cases  Deaths    PCases  PDeaths  Cases (+)  Deaths (+)  \\\n",
       "0             US  33541887  601824  33537995   601741       3892          83   \n",
       "1          India  29935221  388135  29881772   386708      53449        1427   \n",
       "2         Brazil  17927928  501825  17883750   500800      44178        1025   \n",
       "3         France   5819088  110900   5817272   110886       1816          14   \n",
       "4         Turkey   5370299   49185   5365208    49122       5091          63   \n",
       "\n",
       "   Fatality Rate      Continent  \n",
       "0           1.79  North America  \n",
       "1           1.30           Asia  \n",
       "2           2.80  South America  \n",
       "3           1.91         Europe  \n",
       "4           0.92           Asia  "
      ]
     },
     "execution_count": 13,
     "metadata": {},
     "output_type": "execute_result"
    }
   ],
   "source": [
    "#hide\n",
    "for c in 'Cases, Deaths'.split(', '):\n",
    "    df_table[f'{c} (+)'] = (df_table[c] - df_table[f'P{c}']).clip(0)\n",
    "    #Clip ça veut dire, les chiffres negatif sont interdit\n",
    "df_table['Fatality Rate'] = (100* df_table['Deaths']/ df_table['Cases']).round(2)\n",
    "df_table['Continent'] = df_table['Country/Region'].map(mapping['map.continent'])\n",
    "df_table.head(5)"
   ]
  },
  {
   "cell_type": "code",
   "execution_count": 14,
   "id": "aboriginal-bulgaria",
   "metadata": {
    "execution": {
     "iopub.execute_input": "2021-06-21T12:10:43.017954Z",
     "iopub.status.busy": "2021-06-21T12:10:43.017362Z",
     "iopub.status.idle": "2021-06-21T12:10:43.019063Z",
     "shell.execute_reply": "2021-06-21T12:10:43.019558Z"
    },
    "papermill": {
     "duration": 0.048159,
     "end_time": "2021-06-21T12:10:43.019695",
     "exception": false,
     "start_time": "2021-06-21T12:10:42.971536",
     "status": "completed"
    },
    "tags": []
   },
   "outputs": [],
   "source": [
    "#hide\n",
    "#delete problematic countries from table\n",
    "df_table = df_table[~df_table['Country/Region'].isin(['Cape Verde', 'Cruise Ship', 'Kosovo'])]"
   ]
  },
  {
   "cell_type": "code",
   "execution_count": 15,
   "id": "fantastic-effect",
   "metadata": {
    "execution": {
     "iopub.execute_input": "2021-06-21T12:10:43.110325Z",
     "iopub.status.busy": "2021-06-21T12:10:43.109736Z",
     "iopub.status.idle": "2021-06-21T12:10:43.129028Z",
     "shell.execute_reply": "2021-06-21T12:10:43.128566Z"
    },
    "papermill": {
     "duration": 0.066693,
     "end_time": "2021-06-21T12:10:43.129139",
     "exception": false,
     "start_time": "2021-06-21T12:10:43.062446",
     "status": "completed"
    },
    "tags": []
   },
   "outputs": [
    {
     "data": {
      "text/html": [
       "<div>\n",
       "<style scoped>\n",
       "    .dataframe tbody tr th:only-of-type {\n",
       "        vertical-align: middle;\n",
       "    }\n",
       "\n",
       "    .dataframe tbody tr th {\n",
       "        vertical-align: top;\n",
       "    }\n",
       "\n",
       "    .dataframe thead th {\n",
       "        text-align: right;\n",
       "    }\n",
       "</style>\n",
       "<table border=\"1\" class=\"dataframe\">\n",
       "  <thead>\n",
       "    <tr style=\"text-align: right;\">\n",
       "      <th></th>\n",
       "      <th>Country/Region</th>\n",
       "      <th>Cases</th>\n",
       "      <th>Deaths</th>\n",
       "      <th>PCases</th>\n",
       "      <th>PDeaths</th>\n",
       "      <th>Cases (+)</th>\n",
       "      <th>Deaths (+)</th>\n",
       "      <th>Fatality Rate</th>\n",
       "      <th>Continent</th>\n",
       "    </tr>\n",
       "  </thead>\n",
       "  <tbody>\n",
       "    <tr>\n",
       "      <th>0</th>\n",
       "      <td>US</td>\n",
       "      <td>33541887</td>\n",
       "      <td>601824</td>\n",
       "      <td>33537995</td>\n",
       "      <td>601741</td>\n",
       "      <td>3892</td>\n",
       "      <td>83</td>\n",
       "      <td>1.8</td>\n",
       "      <td>North America</td>\n",
       "    </tr>\n",
       "    <tr>\n",
       "      <th>1</th>\n",
       "      <td>India</td>\n",
       "      <td>29935221</td>\n",
       "      <td>388135</td>\n",
       "      <td>29881772</td>\n",
       "      <td>386708</td>\n",
       "      <td>53449</td>\n",
       "      <td>1427</td>\n",
       "      <td>1.3</td>\n",
       "      <td>Asia</td>\n",
       "    </tr>\n",
       "    <tr>\n",
       "      <th>2</th>\n",
       "      <td>Brazil</td>\n",
       "      <td>17927928</td>\n",
       "      <td>501825</td>\n",
       "      <td>17883750</td>\n",
       "      <td>500800</td>\n",
       "      <td>44178</td>\n",
       "      <td>1025</td>\n",
       "      <td>2.8</td>\n",
       "      <td>South America</td>\n",
       "    </tr>\n",
       "    <tr>\n",
       "      <th>3</th>\n",
       "      <td>France</td>\n",
       "      <td>5819088</td>\n",
       "      <td>110900</td>\n",
       "      <td>5817272</td>\n",
       "      <td>110886</td>\n",
       "      <td>1816</td>\n",
       "      <td>14</td>\n",
       "      <td>1.9</td>\n",
       "      <td>Europe</td>\n",
       "    </tr>\n",
       "    <tr>\n",
       "      <th>4</th>\n",
       "      <td>Turkey</td>\n",
       "      <td>5370299</td>\n",
       "      <td>49185</td>\n",
       "      <td>5365208</td>\n",
       "      <td>49122</td>\n",
       "      <td>5091</td>\n",
       "      <td>63</td>\n",
       "      <td>0.9</td>\n",
       "      <td>Asia</td>\n",
       "    </tr>\n",
       "  </tbody>\n",
       "</table>\n",
       "</div>"
      ],
      "text/plain": [
       "  Country/Region     Cases  Deaths    PCases  PDeaths  Cases (+)  Deaths (+)  \\\n",
       "0             US  33541887  601824  33537995   601741       3892          83   \n",
       "1          India  29935221  388135  29881772   386708      53449        1427   \n",
       "2         Brazil  17927928  501825  17883750   500800      44178        1025   \n",
       "3         France   5819088  110900   5817272   110886       1816          14   \n",
       "4         Turkey   5370299   49185   5365208    49122       5091          63   \n",
       "\n",
       "   Fatality Rate      Continent  \n",
       "0            1.8  North America  \n",
       "1            1.3           Asia  \n",
       "2            2.8  South America  \n",
       "3            1.9         Europe  \n",
       "4            0.9           Asia  "
      ]
     },
     "execution_count": 15,
     "metadata": {},
     "output_type": "execute_result"
    }
   ],
   "source": [
    "#hide\n",
    "df_table = (pd.DataFrame(dict(Cases=dfc_cases, Deaths=dfc_deaths, PCases=dfp_cases, PDeaths=dfp_deaths))\n",
    "             .sort_values(by=['Cases', 'Deaths'], ascending=[False, False])\n",
    "             .reset_index())\n",
    "df_table.rename(columns={'index': 'Country/Region'}, inplace=True)\n",
    "for c in 'Cases, Deaths'.split(', '):\n",
    "    df_table[f'{c} (+)'] = (df_table[c] - df_table[f'P{c}']).clip(0)  # DATA BUG\n",
    "df_table['Fatality Rate'] = (100 * df_table['Deaths'] / df_table['Cases']).round(1)\n",
    "df_table['Continent'] = df_table['Country/Region'].map(mapping['map.continent'])\n",
    "df_table.head(5)"
   ]
  },
  {
   "cell_type": "code",
   "execution_count": 16,
   "id": "fewer-occasion",
   "metadata": {
    "execution": {
     "iopub.execute_input": "2021-06-21T12:10:43.209745Z",
     "iopub.status.busy": "2021-06-21T12:10:43.208086Z",
     "iopub.status.idle": "2021-06-21T12:10:43.210856Z",
     "shell.execute_reply": "2021-06-21T12:10:43.211815Z"
    },
    "papermill": {
     "duration": 0.047402,
     "end_time": "2021-06-21T12:10:43.212161",
     "exception": false,
     "start_time": "2021-06-21T12:10:43.164759",
     "status": "completed"
    },
    "tags": []
   },
   "outputs": [],
   "source": [
    "#hide\n",
    "#delete problematic countries from table\n",
    "df_table = df_table[~df_table['Country/Region'].isin(['Cape Verde', 'Cruise Ship', 'Kosovo'])]"
   ]
  },
  {
   "cell_type": "code",
   "execution_count": 17,
   "id": "related-center",
   "metadata": {
    "execution": {
     "iopub.execute_input": "2021-06-21T12:10:43.320108Z",
     "iopub.status.busy": "2021-06-21T12:10:43.319323Z",
     "iopub.status.idle": "2021-06-21T12:10:43.320732Z",
     "shell.execute_reply": "2021-06-21T12:10:43.321188Z"
    },
    "papermill": {
     "duration": 0.062668,
     "end_time": "2021-06-21T12:10:43.321332",
     "exception": false,
     "start_time": "2021-06-21T12:10:43.258664",
     "status": "completed"
    },
    "tags": []
   },
   "outputs": [],
   "source": [
    "#hide\n",
    "metrics = [df_table.columns[index] for index in [1,2,5,6]]\n",
    "# s_china = df_table[df_table['Country/Region'].eq('China')][metrics].sum().add_prefix('China ')\n",
    "s_us = df_table[df_table['Country/Region'].eq('US')][metrics].sum().add_prefix('US ')\n",
    "s_eu = df_table[df_table['Continent'].eq('Europe')][metrics].sum().add_prefix('EU ')\n",
    "s_ind = df_table[df_table['Country/Region'].eq('India')][metrics].sum().add_prefix('India ')\n",
    "summary = {'updated': pd.to_datetime(dt_today), 'since': pd.to_datetime(dt_yday)}\n",
    "summary = {'updated': pd.to_datetime(dt_today), 'since': pd.to_datetime(dt_yday)}\n",
    "summary = {**summary, **df_table[metrics].sum(), **s_ind, **s_us, **s_eu}"
   ]
  },
  {
   "cell_type": "code",
   "execution_count": 18,
   "id": "engaging-syndrome",
   "metadata": {
    "execution": {
     "iopub.execute_input": "2021-06-21T12:10:43.400125Z",
     "iopub.status.busy": "2021-06-21T12:10:43.399502Z",
     "iopub.status.idle": "2021-06-21T12:10:43.412201Z",
     "shell.execute_reply": "2021-06-21T12:10:43.411653Z"
    },
    "papermill": {
     "duration": 0.055415,
     "end_time": "2021-06-21T12:10:43.412331",
     "exception": false,
     "start_time": "2021-06-21T12:10:43.356916",
     "status": "completed"
    },
    "tags": []
   },
   "outputs": [],
   "source": [
    "#hide\n",
    "dft_ct_new_cases = dft_cases.groupby(COL_REGION)[dt_cols].sum().diff(axis=1).fillna(0).astype(int)"
   ]
  },
  {
   "cell_type": "code",
   "execution_count": 19,
   "id": "neutral-assignment",
   "metadata": {
    "execution": {
     "iopub.execute_input": "2021-06-21T12:10:43.488754Z",
     "iopub.status.busy": "2021-06-21T12:10:43.488149Z",
     "iopub.status.idle": "2021-06-21T12:10:43.490977Z",
     "shell.execute_reply": "2021-06-21T12:10:43.491530Z"
    },
    "papermill": {
     "duration": 0.044288,
     "end_time": "2021-06-21T12:10:43.491672",
     "exception": false,
     "start_time": "2021-06-21T12:10:43.447384",
     "status": "completed"
    },
    "tags": []
   },
   "outputs": [],
   "source": [
    "#hide\n",
    "everydaycases = dft_ct_new_cases.cumsum(axis=1)"
   ]
  },
  {
   "cell_type": "code",
   "execution_count": 20,
   "id": "parliamentary-calgary",
   "metadata": {
    "execution": {
     "iopub.execute_input": "2021-06-21T12:10:43.567408Z",
     "iopub.status.busy": "2021-06-21T12:10:43.566814Z",
     "iopub.status.idle": "2021-06-21T12:10:44.186744Z",
     "shell.execute_reply": "2021-06-21T12:10:44.186022Z"
    },
    "papermill": {
     "duration": 0.660116,
     "end_time": "2021-06-21T12:10:44.186919",
     "exception": false,
     "start_time": "2021-06-21T12:10:43.526803",
     "status": "completed"
    },
    "tags": []
   },
   "outputs": [],
   "source": [
    "#hide\n",
    "import pandas as pd\n",
    "import matplotlib.pyplot as plt\n",
    "import matplotlib.ticker as ticker\n",
    "import matplotlib.animation as animation\n",
    "from IPython.display import HTML"
   ]
  },
  {
   "cell_type": "code",
   "execution_count": 21,
   "id": "lasting-extraction",
   "metadata": {
    "execution": {
     "iopub.execute_input": "2021-06-21T12:10:44.273165Z",
     "iopub.status.busy": "2021-06-21T12:10:44.272572Z",
     "iopub.status.idle": "2021-06-21T12:10:44.280117Z",
     "shell.execute_reply": "2021-06-21T12:10:44.279650Z"
    },
    "papermill": {
     "duration": 0.050194,
     "end_time": "2021-06-21T12:10:44.280254",
     "exception": false,
     "start_time": "2021-06-21T12:10:44.230060",
     "status": "completed"
    },
    "tags": []
   },
   "outputs": [],
   "source": [
    "#hide\n",
    "t = everydaycases.stack()"
   ]
  },
  {
   "cell_type": "code",
   "execution_count": 22,
   "id": "premier-sleeve",
   "metadata": {
    "execution": {
     "iopub.execute_input": "2021-06-21T12:10:44.354655Z",
     "iopub.status.busy": "2021-06-21T12:10:44.354076Z",
     "iopub.status.idle": "2021-06-21T12:10:44.362799Z",
     "shell.execute_reply": "2021-06-21T12:10:44.362213Z"
    },
    "papermill": {
     "duration": 0.048334,
     "end_time": "2021-06-21T12:10:44.362919",
     "exception": false,
     "start_time": "2021-06-21T12:10:44.314585",
     "status": "completed"
    },
    "tags": []
   },
   "outputs": [],
   "source": [
    "#hide\n",
    "g = t.reset_index(['Country/Region'])"
   ]
  },
  {
   "cell_type": "code",
   "execution_count": 23,
   "id": "distributed-pittsburgh",
   "metadata": {
    "execution": {
     "iopub.execute_input": "2021-06-21T12:10:44.436326Z",
     "iopub.status.busy": "2021-06-21T12:10:44.435710Z",
     "iopub.status.idle": "2021-06-21T12:10:44.438136Z",
     "shell.execute_reply": "2021-06-21T12:10:44.437500Z"
    },
    "papermill": {
     "duration": 0.040701,
     "end_time": "2021-06-21T12:10:44.438251",
     "exception": false,
     "start_time": "2021-06-21T12:10:44.397550",
     "status": "completed"
    },
    "tags": []
   },
   "outputs": [],
   "source": [
    "#hide\n",
    "g.index.name = 'date'"
   ]
  },
  {
   "cell_type": "code",
   "execution_count": 24,
   "id": "naked-donor",
   "metadata": {
    "execution": {
     "iopub.execute_input": "2021-06-21T12:10:44.514383Z",
     "iopub.status.busy": "2021-06-21T12:10:44.513806Z",
     "iopub.status.idle": "2021-06-21T12:10:44.516105Z",
     "shell.execute_reply": "2021-06-21T12:10:44.516741Z"
    },
    "papermill": {
     "duration": 0.042303,
     "end_time": "2021-06-21T12:10:44.516912",
     "exception": false,
     "start_time": "2021-06-21T12:10:44.474609",
     "status": "completed"
    },
    "tags": []
   },
   "outputs": [],
   "source": [
    "# #hide\n",
    "# g = g.reset_index(['date'])"
   ]
  },
  {
   "cell_type": "code",
   "execution_count": 25,
   "id": "incomplete-mustang",
   "metadata": {
    "execution": {
     "iopub.execute_input": "2021-06-21T12:10:44.592980Z",
     "iopub.status.busy": "2021-06-21T12:10:44.592127Z",
     "iopub.status.idle": "2021-06-21T12:10:44.594502Z",
     "shell.execute_reply": "2021-06-21T12:10:44.595222Z"
    },
    "papermill": {
     "duration": 0.043582,
     "end_time": "2021-06-21T12:10:44.595370",
     "exception": false,
     "start_time": "2021-06-21T12:10:44.551788",
     "status": "completed"
    },
    "tags": []
   },
   "outputs": [],
   "source": [
    "#hide\n",
    "# g.head()"
   ]
  },
  {
   "cell_type": "code",
   "execution_count": 26,
   "id": "specific-kruger",
   "metadata": {
    "execution": {
     "iopub.execute_input": "2021-06-21T12:10:44.678596Z",
     "iopub.status.busy": "2021-06-21T12:10:44.677663Z",
     "iopub.status.idle": "2021-06-21T12:10:44.679221Z",
     "shell.execute_reply": "2021-06-21T12:10:44.679668Z"
    },
    "papermill": {
     "duration": 0.044475,
     "end_time": "2021-06-21T12:10:44.679809",
     "exception": false,
     "start_time": "2021-06-21T12:10:44.635334",
     "status": "completed"
    },
    "tags": []
   },
   "outputs": [],
   "source": [
    "#hide\n",
    "# g.columns = ['date','country','cases']"
   ]
  },
  {
   "cell_type": "code",
   "execution_count": 27,
   "id": "tender-conversion",
   "metadata": {
    "execution": {
     "iopub.execute_input": "2021-06-21T12:10:44.755900Z",
     "iopub.status.busy": "2021-06-21T12:10:44.755318Z",
     "iopub.status.idle": "2021-06-21T12:10:44.757654Z",
     "shell.execute_reply": "2021-06-21T12:10:44.758270Z"
    },
    "papermill": {
     "duration": 0.043516,
     "end_time": "2021-06-21T12:10:44.758410",
     "exception": false,
     "start_time": "2021-06-21T12:10:44.714894",
     "status": "completed"
    },
    "tags": []
   },
   "outputs": [],
   "source": [
    "#hide\n",
    "# g['continent'] = g.country"
   ]
  },
  {
   "cell_type": "code",
   "execution_count": 28,
   "id": "substantial-wilderness",
   "metadata": {
    "execution": {
     "iopub.execute_input": "2021-06-21T12:10:44.838722Z",
     "iopub.status.busy": "2021-06-21T12:10:44.838149Z",
     "iopub.status.idle": "2021-06-21T12:10:44.841172Z",
     "shell.execute_reply": "2021-06-21T12:10:44.841749Z"
    },
    "papermill": {
     "duration": 0.048268,
     "end_time": "2021-06-21T12:10:44.841883",
     "exception": false,
     "start_time": "2021-06-21T12:10:44.793615",
     "status": "completed"
    },
    "tags": []
   },
   "outputs": [],
   "source": [
    "#hide\n",
    "# cols = list(g.columns.values)"
   ]
  },
  {
   "cell_type": "code",
   "execution_count": 29,
   "id": "solved-farming",
   "metadata": {
    "execution": {
     "iopub.execute_input": "2021-06-21T12:10:44.926077Z",
     "iopub.status.busy": "2021-06-21T12:10:44.925502Z",
     "iopub.status.idle": "2021-06-21T12:10:44.927794Z",
     "shell.execute_reply": "2021-06-21T12:10:44.927301Z"
    },
    "papermill": {
     "duration": 0.04373,
     "end_time": "2021-06-21T12:10:44.927925",
     "exception": false,
     "start_time": "2021-06-21T12:10:44.884195",
     "status": "completed"
    },
    "tags": []
   },
   "outputs": [],
   "source": [
    "#hide\n",
    "# cols.insert(0, cols.pop())"
   ]
  },
  {
   "cell_type": "code",
   "execution_count": 30,
   "id": "executed-adoption",
   "metadata": {
    "execution": {
     "iopub.execute_input": "2021-06-21T12:10:45.007045Z",
     "iopub.status.busy": "2021-06-21T12:10:45.006454Z",
     "iopub.status.idle": "2021-06-21T12:10:45.008985Z",
     "shell.execute_reply": "2021-06-21T12:10:45.009551Z"
    },
    "papermill": {
     "duration": 0.042684,
     "end_time": "2021-06-21T12:10:45.009684",
     "exception": false,
     "start_time": "2021-06-21T12:10:44.967000",
     "status": "completed"
    },
    "tags": []
   },
   "outputs": [],
   "source": [
    "#hide\n",
    "# g = g[cols]"
   ]
  },
  {
   "cell_type": "code",
   "execution_count": 31,
   "id": "subject-dublin",
   "metadata": {
    "execution": {
     "iopub.execute_input": "2021-06-21T12:10:45.087803Z",
     "iopub.status.busy": "2021-06-21T12:10:45.087223Z",
     "iopub.status.idle": "2021-06-21T12:10:45.089244Z",
     "shell.execute_reply": "2021-06-21T12:10:45.091354Z"
    },
    "papermill": {
     "duration": 0.046034,
     "end_time": "2021-06-21T12:10:45.091511",
     "exception": false,
     "start_time": "2021-06-21T12:10:45.045477",
     "status": "completed"
    },
    "tags": []
   },
   "outputs": [],
   "source": [
    "#hide\n",
    "# g['continent'] = g['continent'].map(mapping['map.continent'])"
   ]
  },
  {
   "cell_type": "code",
   "execution_count": 32,
   "id": "freelance-scout",
   "metadata": {
    "execution": {
     "iopub.execute_input": "2021-06-21T12:10:45.165882Z",
     "iopub.status.busy": "2021-06-21T12:10:45.165303Z",
     "iopub.status.idle": "2021-06-21T12:10:45.167825Z",
     "shell.execute_reply": "2021-06-21T12:10:45.168347Z"
    },
    "papermill": {
     "duration": 0.041642,
     "end_time": "2021-06-21T12:10:45.168473",
     "exception": false,
     "start_time": "2021-06-21T12:10:45.126831",
     "status": "completed"
    },
    "tags": []
   },
   "outputs": [],
   "source": [
    "#hide\n",
    "# g.head()"
   ]
  },
  {
   "cell_type": "code",
   "execution_count": 33,
   "id": "limited-engine",
   "metadata": {
    "execution": {
     "iopub.execute_input": "2021-06-21T12:10:45.249133Z",
     "iopub.status.busy": "2021-06-21T12:10:45.248559Z",
     "iopub.status.idle": "2021-06-21T12:10:45.250931Z",
     "shell.execute_reply": "2021-06-21T12:10:45.250436Z"
    },
    "papermill": {
     "duration": 0.046209,
     "end_time": "2021-06-21T12:10:45.251044",
     "exception": false,
     "start_time": "2021-06-21T12:10:45.204835",
     "status": "completed"
    },
    "tags": []
   },
   "outputs": [],
   "source": [
    "# hide\n",
    "# g['date'] = g['date'].astype('datetime64[ns]')"
   ]
  },
  {
   "cell_type": "code",
   "execution_count": 34,
   "id": "sophisticated-supervisor",
   "metadata": {
    "execution": {
     "iopub.execute_input": "2021-06-21T12:10:45.325949Z",
     "iopub.status.busy": "2021-06-21T12:10:45.325372Z",
     "iopub.status.idle": "2021-06-21T12:10:45.327790Z",
     "shell.execute_reply": "2021-06-21T12:10:45.328375Z"
    },
    "papermill": {
     "duration": 0.04305,
     "end_time": "2021-06-21T12:10:45.328507",
     "exception": false,
     "start_time": "2021-06-21T12:10:45.285457",
     "status": "completed"
    },
    "tags": []
   },
   "outputs": [],
   "source": [
    "#hide\n",
    "# g['date'] = g.date.dt.dayofyear"
   ]
  },
  {
   "cell_type": "code",
   "execution_count": 35,
   "id": "inside-dubai",
   "metadata": {
    "execution": {
     "iopub.execute_input": "2021-06-21T12:10:45.404308Z",
     "iopub.status.busy": "2021-06-21T12:10:45.403706Z",
     "iopub.status.idle": "2021-06-21T12:10:45.406812Z",
     "shell.execute_reply": "2021-06-21T12:10:45.407362Z"
    },
    "papermill": {
     "duration": 0.043288,
     "end_time": "2021-06-21T12:10:45.407492",
     "exception": false,
     "start_time": "2021-06-21T12:10:45.364204",
     "status": "completed"
    },
    "tags": []
   },
   "outputs": [],
   "source": [
    "#hide\n",
    "# g = g.rename(columns= {'continent':'group','country':'name','cases':'value'})"
   ]
  },
  {
   "cell_type": "code",
   "execution_count": 36,
   "id": "fleet-motorcycle",
   "metadata": {
    "execution": {
     "iopub.execute_input": "2021-06-21T12:10:45.485806Z",
     "iopub.status.busy": "2021-06-21T12:10:45.484888Z",
     "iopub.status.idle": "2021-06-21T12:10:45.487665Z",
     "shell.execute_reply": "2021-06-21T12:10:45.488151Z"
    },
    "papermill": {
     "duration": 0.045576,
     "end_time": "2021-06-21T12:10:45.488301",
     "exception": false,
     "start_time": "2021-06-21T12:10:45.442725",
     "status": "completed"
    },
    "tags": []
   },
   "outputs": [],
   "source": [
    "#hide\n",
    "# cols = ['name','group','day','value']"
   ]
  },
  {
   "cell_type": "code",
   "execution_count": 37,
   "id": "continued-sleeping",
   "metadata": {
    "execution": {
     "iopub.execute_input": "2021-06-21T12:10:45.564999Z",
     "iopub.status.busy": "2021-06-21T12:10:45.564316Z",
     "iopub.status.idle": "2021-06-21T12:10:45.567324Z",
     "shell.execute_reply": "2021-06-21T12:10:45.566748Z"
    },
    "papermill": {
     "duration": 0.043303,
     "end_time": "2021-06-21T12:10:45.567454",
     "exception": false,
     "start_time": "2021-06-21T12:10:45.524151",
     "status": "completed"
    },
    "tags": []
   },
   "outputs": [],
   "source": [
    "#hide\n",
    "# g.rename(columns= {'date':'day'},inplace = True)"
   ]
  },
  {
   "cell_type": "code",
   "execution_count": 38,
   "id": "major-fight",
   "metadata": {
    "execution": {
     "iopub.execute_input": "2021-06-21T12:10:45.643295Z",
     "iopub.status.busy": "2021-06-21T12:10:45.642722Z",
     "iopub.status.idle": "2021-06-21T12:10:45.645318Z",
     "shell.execute_reply": "2021-06-21T12:10:45.644826Z"
    },
    "papermill": {
     "duration": 0.041757,
     "end_time": "2021-06-21T12:10:45.645433",
     "exception": false,
     "start_time": "2021-06-21T12:10:45.603676",
     "status": "completed"
    },
    "tags": []
   },
   "outputs": [],
   "source": [
    "#hide\n",
    "# g = g[cols]"
   ]
  },
  {
   "cell_type": "code",
   "execution_count": 39,
   "id": "structured-mobile",
   "metadata": {
    "execution": {
     "iopub.execute_input": "2021-06-21T12:10:45.722696Z",
     "iopub.status.busy": "2021-06-21T12:10:45.722023Z",
     "iopub.status.idle": "2021-06-21T12:10:45.724779Z",
     "shell.execute_reply": "2021-06-21T12:10:45.724204Z"
    },
    "papermill": {
     "duration": 0.041953,
     "end_time": "2021-06-21T12:10:45.724894",
     "exception": false,
     "start_time": "2021-06-21T12:10:45.682941",
     "status": "completed"
    },
    "tags": []
   },
   "outputs": [],
   "source": [
    "# #hide\n",
    "# g = g[g.group.notna()]"
   ]
  },
  {
   "cell_type": "code",
   "execution_count": 40,
   "id": "determined-closing",
   "metadata": {
    "execution": {
     "iopub.execute_input": "2021-06-21T12:10:45.807648Z",
     "iopub.status.busy": "2021-06-21T12:10:45.807055Z",
     "iopub.status.idle": "2021-06-21T12:10:45.809388Z",
     "shell.execute_reply": "2021-06-21T12:10:45.808568Z"
    },
    "papermill": {
     "duration": 0.040784,
     "end_time": "2021-06-21T12:10:45.809506",
     "exception": false,
     "start_time": "2021-06-21T12:10:45.768722",
     "status": "completed"
    },
    "tags": []
   },
   "outputs": [],
   "source": [
    "# #hide\n",
    "# colors = dict(zip(\n",
    "#     [\"Oceania\", \"Europe\", \"Asia\", \"South America\", \"Middle East\", \"North America\", \"Africa\"],\n",
    "#     [\"#adb0ff\", \"#ffb3ff\", \"#90d595\", \"#e48381\", \"#aafbff\", \"#f7bb5f\", \"#eafb50\"]\n",
    "# ))\n",
    "# group_lk = g.set_index('name')['group'].to_dict()"
   ]
  },
  {
   "cell_type": "code",
   "execution_count": null,
   "id": "gross-drinking",
   "metadata": {
    "papermill": {
     "duration": 0.040802,
     "end_time": "2021-06-21T12:10:45.889153",
     "exception": false,
     "start_time": "2021-06-21T12:10:45.848351",
     "status": "completed"
    },
    "tags": []
   },
   "outputs": [],
   "source": []
  },
  {
   "cell_type": "code",
   "execution_count": 41,
   "id": "subject-macintosh",
   "metadata": {
    "execution": {
     "iopub.execute_input": "2021-06-21T12:10:45.966540Z",
     "iopub.status.busy": "2021-06-21T12:10:45.965943Z",
     "iopub.status.idle": "2021-06-21T12:10:45.968256Z",
     "shell.execute_reply": "2021-06-21T12:10:45.967715Z"
    },
    "papermill": {
     "duration": 0.043314,
     "end_time": "2021-06-21T12:10:45.968375",
     "exception": false,
     "start_time": "2021-06-21T12:10:45.925061",
     "status": "completed"
    },
    "tags": []
   },
   "outputs": [],
   "source": [
    "# #hide\n",
    "# fig, ax = plt.subplots(figsize=(15, 8))\n",
    "\n",
    "# def draw_barchart(current_day):\n",
    "#     dff = g[g['day'].eq(current_day)].sort_values(by='value', ascending=True).tail(10)\n",
    "#     ax.clear()\n",
    "#     ax.barh(dff['name'], dff['value'], color=[colors[group_lk[x]] for x in dff['name']])\n",
    "#     dx = dff['value'].max() / 200\n",
    "    \n",
    "#     for i, (value, name) in enumerate(zip(dff['value'], dff['name'])):\n",
    "#         ax.text(value-dx, i,     name,           size=14, weight=600, ha='right', va='bottom')\n",
    "#         ax.text(value-dx, i-.25, group_lk[name], size=10, color='#444444', ha='right', va='baseline')\n",
    "#         ax.text(value+dx, i,     f'{value:,.0f}',  size=14, ha='left',  va='center')\n",
    "#     ax.text(1, 0.4, current_day, transform=ax.transAxes, color='#777777', size=46, ha='right', weight=800)\n",
    "#     ax.text(0, 1.06, 'Population (thousands)', transform=ax.transAxes, size=12, color='#777777')\n",
    "#     ax.xaxis.set_major_formatter(ticker.StrMethodFormatter('{x:,.0f}'))\n",
    "#     ax.xaxis.set_ticks_position('top')\n",
    "#     ax.tick_params(axis='x', colors='#777777', labelsize=12)\n",
    "#     ax.set_yticks([])\n",
    "#     ax.margins(0, 0.01)\n",
    "#     ax.grid(which='major', axis='x', linestyle='-')\n",
    "#     ax.set_axisbelow(True)\n",
    "    \n",
    "#     ax.text(0, 1.15, 'Coronavirus',\n",
    "#             transform=ax.transAxes, size=24, weight=600, ha='left', va='top')\n",
    "# #     ax.text(1, 0, 'by @pratapvardhan; credit @jburnmurdoch', transform=ax.transAxes, color='#777777', ha='right',\n",
    "# #             bbox=dict(facecolor='white', alpha=0.8, edgecolor='white'))\n",
    "#     plt.box(False)"
   ]
  },
  {
   "cell_type": "code",
   "execution_count": 42,
   "id": "sexual-wages",
   "metadata": {
    "execution": {
     "iopub.execute_input": "2021-06-21T12:10:46.058841Z",
     "iopub.status.busy": "2021-06-21T12:10:46.058260Z",
     "iopub.status.idle": "2021-06-21T12:10:46.060791Z",
     "shell.execute_reply": "2021-06-21T12:10:46.060310Z"
    },
    "papermill": {
     "duration": 0.043591,
     "end_time": "2021-06-21T12:10:46.060922",
     "exception": false,
     "start_time": "2021-06-21T12:10:46.017331",
     "status": "completed"
    },
    "tags": []
   },
   "outputs": [],
   "source": [
    "# #hide_input\n",
    "# fig, ax = plt.subplots(figsize=(15, 8))\n",
    "# animator = animation.FuncAnimation(fig, draw_barchart, frames=range(g.day.values.min(), g.day.values.max()))\n",
    "# HTML(animator.to_jshtml())\n",
    "# # or use animator.to_html5_video() or animator.save() "
   ]
  },
  {
   "cell_type": "code",
   "execution_count": null,
   "id": "australian-container",
   "metadata": {
    "papermill": {
     "duration": 0.035669,
     "end_time": "2021-06-21T12:10:46.132701",
     "exception": false,
     "start_time": "2021-06-21T12:10:46.097032",
     "status": "completed"
    },
    "tags": []
   },
   "outputs": [],
   "source": []
  },
  {
   "cell_type": "code",
   "execution_count": null,
   "id": "mediterranean-pontiac",
   "metadata": {
    "papermill": {
     "duration": 0.034127,
     "end_time": "2021-06-21T12:10:46.201487",
     "exception": false,
     "start_time": "2021-06-21T12:10:46.167360",
     "status": "completed"
    },
    "tags": []
   },
   "outputs": [],
   "source": []
  },
  {
   "cell_type": "code",
   "execution_count": null,
   "id": "aging-legislature",
   "metadata": {
    "papermill": {
     "duration": 0.035698,
     "end_time": "2021-06-21T12:10:46.272550",
     "exception": false,
     "start_time": "2021-06-21T12:10:46.236852",
     "status": "completed"
    },
    "tags": []
   },
   "outputs": [],
   "source": []
  }
 ],
 "metadata": {
  "kernelspec": {
   "display_name": "Python 3",
   "language": "python",
   "name": "python3"
  },
  "language_info": {
   "codemirror_mode": {
    "name": "ipython",
    "version": 3
   },
   "file_extension": ".py",
   "mimetype": "text/x-python",
   "name": "python",
   "nbconvert_exporter": "python",
   "pygments_lexer": "ipython3",
   "version": "3.6.13"
  },
  "papermill": {
   "duration": 6.619867,
   "end_time": "2021-06-21T12:10:46.616551",
   "environment_variables": {},
   "exception": null,
   "input_path": "2020-03-21-covid19exp.ipynb",
   "output_path": "2020-03-21-covid19exp.ipynb",
   "parameters": {},
   "start_time": "2021-06-21T12:10:39.996684",
   "version": "2.0.0"
  }
 },
 "nbformat": 4,
 "nbformat_minor": 5
}