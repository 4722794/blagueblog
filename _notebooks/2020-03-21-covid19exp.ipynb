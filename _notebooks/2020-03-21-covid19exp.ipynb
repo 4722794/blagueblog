{
 "cells": [
  {
   "cell_type": "markdown",
   "id": "muslim-click",
   "metadata": {
    "papermill": {
     "duration": 0.033737,
     "end_time": "2021-03-14T00:11:14.013809",
     "exception": false,
     "start_time": "2021-03-14T00:11:13.980072",
     "status": "completed"
    },
    "tags": []
   },
   "source": [
    "# COVID-19 Case Race\n",
    "> A race chart to see rising cases around the world\n",
    "\n",
    "- author: Hargun Oberoi\n",
    "- image: images/covid-overview.png\n",
    "- hide: false\n",
    "- badges: false"
   ]
  },
  {
   "cell_type": "code",
   "execution_count": 1,
   "id": "proof-material",
   "metadata": {
    "execution": {
     "iopub.execute_input": "2021-03-14T00:11:14.079283Z",
     "iopub.status.busy": "2021-03-14T00:11:14.077109Z",
     "iopub.status.idle": "2021-03-14T00:11:14.376958Z",
     "shell.execute_reply": "2021-03-14T00:11:14.375853Z"
    },
    "papermill": {
     "duration": 0.33721,
     "end_time": "2021-03-14T00:11:14.377079",
     "exception": false,
     "start_time": "2021-03-14T00:11:14.039869",
     "status": "completed"
    },
    "tags": []
   },
   "outputs": [],
   "source": [
    "#hide\n",
    "import numpy as np\n",
    "import pandas as pd\n",
    "from jinja2 import Template\n",
    "from IPython.display import HTML"
   ]
  },
  {
   "cell_type": "code",
   "execution_count": 2,
   "id": "developed-terminology",
   "metadata": {
    "execution": {
     "iopub.execute_input": "2021-03-14T00:11:14.430350Z",
     "iopub.status.busy": "2021-03-14T00:11:14.429933Z",
     "iopub.status.idle": "2021-03-14T00:11:14.432020Z",
     "shell.execute_reply": "2021-03-14T00:11:14.432331Z"
    },
    "papermill": {
     "duration": 0.030854,
     "end_time": "2021-03-14T00:11:14.432426",
     "exception": false,
     "start_time": "2021-03-14T00:11:14.401572",
     "status": "completed"
    },
    "tags": []
   },
   "outputs": [],
   "source": [
    "#hide\n",
    "\n",
    "# FETCH\n",
    "base_url = 'https://raw.githubusercontent.com/pratapvardhan/notebooks/master/covid19/'\n",
    "paths = {\n",
    "    'mapping': base_url + 'mapping_countries.csv',\n",
    "    'overview': base_url + 'overview.tpl'\n",
    "}"
   ]
  },
  {
   "cell_type": "code",
   "execution_count": 3,
   "id": "dynamic-saver",
   "metadata": {
    "execution": {
     "iopub.execute_input": "2021-03-14T00:11:14.488321Z",
     "iopub.status.busy": "2021-03-14T00:11:14.487916Z",
     "iopub.status.idle": "2021-03-14T00:11:14.491343Z",
     "shell.execute_reply": "2021-03-14T00:11:14.491766Z"
    },
    "papermill": {
     "duration": 0.035202,
     "end_time": "2021-03-14T00:11:14.491853",
     "exception": false,
     "start_time": "2021-03-14T00:11:14.456651",
     "status": "completed"
    },
    "tags": []
   },
   "outputs": [
    {
     "data": {
      "text/plain": [
       "'https://raw.githubusercontent.com/pratapvardhan/notebooks/master/covid19/mapping_countries.csv'"
      ]
     },
     "execution_count": 3,
     "metadata": {},
     "output_type": "execute_result"
    }
   ],
   "source": [
    "#hide\n",
    "paths['mapping']"
   ]
  },
  {
   "cell_type": "code",
   "execution_count": 4,
   "id": "urban-software",
   "metadata": {
    "execution": {
     "iopub.execute_input": "2021-03-14T00:11:14.547087Z",
     "iopub.status.busy": "2021-03-14T00:11:14.546681Z",
     "iopub.status.idle": "2021-03-14T00:11:14.549558Z",
     "shell.execute_reply": "2021-03-14T00:11:14.549194Z"
    },
    "papermill": {
     "duration": 0.03111,
     "end_time": "2021-03-14T00:11:14.549633",
     "exception": false,
     "start_time": "2021-03-14T00:11:14.518523",
     "status": "completed"
    },
    "tags": []
   },
   "outputs": [],
   "source": [
    "#hide\n",
    "def get_mappings(url):\n",
    "    df = pd.read_csv(url)\n",
    "    return {\n",
    "        'df': df,\n",
    "        'replace.country': dict(df.dropna(subset=['Name']).set_index('Country')['Name']),\n",
    "        'map.continent': dict(df.set_index('Name')['Continent'])\n",
    "    }"
   ]
  },
  {
   "cell_type": "code",
   "execution_count": 5,
   "id": "intimate-machinery",
   "metadata": {
    "execution": {
     "iopub.execute_input": "2021-03-14T00:11:14.601459Z",
     "iopub.status.busy": "2021-03-14T00:11:14.600520Z",
     "iopub.status.idle": "2021-03-14T00:11:14.631118Z",
     "shell.execute_reply": "2021-03-14T00:11:14.630658Z"
    },
    "papermill": {
     "duration": 0.057672,
     "end_time": "2021-03-14T00:11:14.631216",
     "exception": false,
     "start_time": "2021-03-14T00:11:14.573544",
     "status": "completed"
    },
    "tags": []
   },
   "outputs": [],
   "source": [
    "#hide\n",
    "mapping = get_mappings(paths['mapping'])"
   ]
  },
  {
   "cell_type": "code",
   "execution_count": 6,
   "id": "certified-tactics",
   "metadata": {
    "execution": {
     "iopub.execute_input": "2021-03-14T00:11:14.686733Z",
     "iopub.status.busy": "2021-03-14T00:11:14.686265Z",
     "iopub.status.idle": "2021-03-14T00:11:14.688550Z",
     "shell.execute_reply": "2021-03-14T00:11:14.689106Z"
    },
    "papermill": {
     "duration": 0.032913,
     "end_time": "2021-03-14T00:11:14.689225",
     "exception": false,
     "start_time": "2021-03-14T00:11:14.656312",
     "status": "completed"
    },
    "tags": []
   },
   "outputs": [],
   "source": [
    "#hide\n",
    "def get_template(path):\n",
    "    from urllib.parse import urlparse\n",
    "    if bool(urlparse(path).netloc):\n",
    "        from urllib.request import urlopen\n",
    "        return urlopen(path).read().decode('utf8')\n",
    "    return open(path).read()"
   ]
  },
  {
   "cell_type": "code",
   "execution_count": 7,
   "id": "realistic-blast",
   "metadata": {
    "execution": {
     "iopub.execute_input": "2021-03-14T00:11:14.746224Z",
     "iopub.status.busy": "2021-03-14T00:11:14.745812Z",
     "iopub.status.idle": "2021-03-14T00:11:14.747795Z",
     "shell.execute_reply": "2021-03-14T00:11:14.748197Z"
    },
    "papermill": {
     "duration": 0.034696,
     "end_time": "2021-03-14T00:11:14.748295",
     "exception": false,
     "start_time": "2021-03-14T00:11:14.713599",
     "status": "completed"
    },
    "tags": []
   },
   "outputs": [],
   "source": [
    "#hide\n",
    "def get_frame(name):\n",
    "    url = (\n",
    "        'https://raw.githubusercontent.com/CSSEGISandData/COVID-19/master/csse_covid_19_data/'\n",
    "        f'csse_covid_19_time_series/time_series_covid19_{name}_global.csv')\n",
    "    df = pd.read_csv(url)\n",
    "    # rename countries\n",
    "    df['Country/Region'] = df['Country/Region'].replace(mapping['replace.country'])\n",
    "    return df"
   ]
  },
  {
   "cell_type": "code",
   "execution_count": 8,
   "id": "affiliated-characterization",
   "metadata": {
    "execution": {
     "iopub.execute_input": "2021-03-14T00:11:14.802219Z",
     "iopub.status.busy": "2021-03-14T00:11:14.801808Z",
     "iopub.status.idle": "2021-03-14T00:11:14.805152Z",
     "shell.execute_reply": "2021-03-14T00:11:14.805463Z"
    },
    "papermill": {
     "duration": 0.032337,
     "end_time": "2021-03-14T00:11:14.805569",
     "exception": false,
     "start_time": "2021-03-14T00:11:14.773232",
     "status": "completed"
    },
    "tags": []
   },
   "outputs": [],
   "source": [
    "#hide\n",
    "def get_dates(df):\n",
    "    dt_cols = df.columns[~df.columns.isin(['Province/State', 'Country/Region', 'Lat', 'Long'])]\n",
    "    LAST_DATE_I = -1\n",
    "    # sometimes last column may be empty, then go backwards\n",
    "    for i in range(-1, -len(dt_cols), -1):\n",
    "        if not df[dt_cols[i]].fillna(0).eq(0).all():\n",
    "            LAST_DATE_I = i\n",
    "            break\n",
    "    return LAST_DATE_I, dt_cols"
   ]
  },
  {
   "cell_type": "code",
   "execution_count": 9,
   "id": "recent-optimization",
   "metadata": {
    "execution": {
     "iopub.execute_input": "2021-03-14T00:11:14.858377Z",
     "iopub.status.busy": "2021-03-14T00:11:14.857864Z",
     "iopub.status.idle": "2021-03-14T00:11:15.051631Z",
     "shell.execute_reply": "2021-03-14T00:11:15.050729Z"
    },
    "papermill": {
     "duration": 0.221842,
     "end_time": "2021-03-14T00:11:15.051824",
     "exception": false,
     "start_time": "2021-03-14T00:11:14.829982",
     "status": "completed"
    },
    "tags": []
   },
   "outputs": [],
   "source": [
    "#hide\n",
    "COL_REGION = 'Country/Region'\n",
    "# Confirmed, Recovered, Deaths\n",
    "df = get_frame('confirmed')\n",
    "# dft_: timeseries, dfc_: today country agg\n",
    "dft_cases = df\n",
    "dft_deaths = get_frame('deaths')\n",
    "dft_recovered = get_frame('recovered')\n",
    "LAST_DATE_I, dt_cols = get_dates(df)"
   ]
  },
  {
   "cell_type": "code",
   "execution_count": 10,
   "id": "absolute-copper",
   "metadata": {
    "execution": {
     "iopub.execute_input": "2021-03-14T00:11:15.116424Z",
     "iopub.status.busy": "2021-03-14T00:11:15.116000Z",
     "iopub.status.idle": "2021-03-14T00:11:15.118667Z",
     "shell.execute_reply": "2021-03-14T00:11:15.119061Z"
    },
    "papermill": {
     "duration": 0.034863,
     "end_time": "2021-03-14T00:11:15.119155",
     "exception": false,
     "start_time": "2021-03-14T00:11:15.084292",
     "status": "completed"
    },
    "tags": []
   },
   "outputs": [],
   "source": [
    "#hide\n",
    "LAST_DATE_I, dt_cols = get_dates(df)\n",
    "dt_today =dt_cols[LAST_DATE_I]\n",
    "# dt_5day = dt_cols[LAST_DATE_I - 5]\n",
    "dt_yday = dt_cols[LAST_DATE_I - 1]"
   ]
  },
  {
   "cell_type": "code",
   "execution_count": 11,
   "id": "restricted-sheriff",
   "metadata": {
    "execution": {
     "iopub.execute_input": "2021-03-14T00:11:15.175242Z",
     "iopub.status.busy": "2021-03-14T00:11:15.173375Z",
     "iopub.status.idle": "2021-03-14T00:11:15.180362Z",
     "shell.execute_reply": "2021-03-14T00:11:15.179723Z"
    },
    "papermill": {
     "duration": 0.037249,
     "end_time": "2021-03-14T00:11:15.180443",
     "exception": false,
     "start_time": "2021-03-14T00:11:15.143194",
     "status": "completed"
    },
    "tags": []
   },
   "outputs": [],
   "source": [
    "#hide\n",
    "dfc_cases = dft_cases.groupby(COL_REGION)[dt_today].sum()\n",
    "dfc_deaths = dft_deaths.groupby(COL_REGION)[dt_today].sum()\n",
    "# dfp_cases = dft_cases.groupby(COL_REGION)[dt_5day].sum()\n",
    "# dfp_deaths = dft_deaths.groupby(COL_REGION)[dt_5day].sum()\n",
    "dfp_cases = dft_cases.groupby(COL_REGION)[dt_yday].sum()\n",
    "dfp_deaths = dft_deaths.groupby(COL_REGION)[dt_yday].sum()"
   ]
  },
  {
   "cell_type": "code",
   "execution_count": 12,
   "id": "deluxe-hepatitis",
   "metadata": {
    "execution": {
     "iopub.execute_input": "2021-03-14T00:11:15.236110Z",
     "iopub.status.busy": "2021-03-14T00:11:15.235059Z",
     "iopub.status.idle": "2021-03-14T00:11:15.237173Z",
     "shell.execute_reply": "2021-03-14T00:11:15.237970Z"
    },
    "papermill": {
     "duration": 0.033782,
     "end_time": "2021-03-14T00:11:15.238169",
     "exception": false,
     "start_time": "2021-03-14T00:11:15.204387",
     "status": "completed"
    },
    "tags": []
   },
   "outputs": [],
   "source": [
    "#hide\n",
    "df_table = (pd.DataFrame(dict(Cases = dfc_cases, Deaths = dfc_deaths, PCases = dfp_cases, PDeaths = dfp_deaths))\n",
    "            .sort_values(by = ['Cases','Deaths'], ascending = [False, False])\n",
    "            .reset_index())"
   ]
  },
  {
   "cell_type": "code",
   "execution_count": 13,
   "id": "educational-chancellor",
   "metadata": {
    "execution": {
     "iopub.execute_input": "2021-03-14T00:11:15.307168Z",
     "iopub.status.busy": "2021-03-14T00:11:15.303451Z",
     "iopub.status.idle": "2021-03-14T00:11:15.311613Z",
     "shell.execute_reply": "2021-03-14T00:11:15.310493Z"
    },
    "papermill": {
     "duration": 0.046414,
     "end_time": "2021-03-14T00:11:15.311762",
     "exception": false,
     "start_time": "2021-03-14T00:11:15.265348",
     "status": "completed"
    },
    "tags": []
   },
   "outputs": [
    {
     "data": {
      "text/html": [
       "<div>\n",
       "<style scoped>\n",
       "    .dataframe tbody tr th:only-of-type {\n",
       "        vertical-align: middle;\n",
       "    }\n",
       "\n",
       "    .dataframe tbody tr th {\n",
       "        vertical-align: top;\n",
       "    }\n",
       "\n",
       "    .dataframe thead th {\n",
       "        text-align: right;\n",
       "    }\n",
       "</style>\n",
       "<table border=\"1\" class=\"dataframe\">\n",
       "  <thead>\n",
       "    <tr style=\"text-align: right;\">\n",
       "      <th></th>\n",
       "      <th>Country/Region</th>\n",
       "      <th>Cases</th>\n",
       "      <th>Deaths</th>\n",
       "      <th>PCases</th>\n",
       "      <th>PDeaths</th>\n",
       "      <th>Cases (+)</th>\n",
       "      <th>Deaths (+)</th>\n",
       "      <th>Fatality Rate</th>\n",
       "      <th>Continent</th>\n",
       "    </tr>\n",
       "  </thead>\n",
       "  <tbody>\n",
       "    <tr>\n",
       "      <th>0</th>\n",
       "      <td>US</td>\n",
       "      <td>29347338</td>\n",
       "      <td>532590</td>\n",
       "      <td>29286134</td>\n",
       "      <td>530821</td>\n",
       "      <td>61204</td>\n",
       "      <td>1769</td>\n",
       "      <td>1.81</td>\n",
       "      <td>North America</td>\n",
       "    </tr>\n",
       "    <tr>\n",
       "      <th>1</th>\n",
       "      <td>Brazil</td>\n",
       "      <td>11363380</td>\n",
       "      <td>275105</td>\n",
       "      <td>11277717</td>\n",
       "      <td>272889</td>\n",
       "      <td>85663</td>\n",
       "      <td>2216</td>\n",
       "      <td>2.42</td>\n",
       "      <td>South America</td>\n",
       "    </tr>\n",
       "    <tr>\n",
       "      <th>2</th>\n",
       "      <td>India</td>\n",
       "      <td>11333728</td>\n",
       "      <td>158446</td>\n",
       "      <td>11308846</td>\n",
       "      <td>158306</td>\n",
       "      <td>24882</td>\n",
       "      <td>140</td>\n",
       "      <td>1.40</td>\n",
       "      <td>Asia</td>\n",
       "    </tr>\n",
       "    <tr>\n",
       "      <th>3</th>\n",
       "      <td>Russia</td>\n",
       "      <td>4321588</td>\n",
       "      <td>89701</td>\n",
       "      <td>4311893</td>\n",
       "      <td>89224</td>\n",
       "      <td>9695</td>\n",
       "      <td>477</td>\n",
       "      <td>2.08</td>\n",
       "      <td>Europe</td>\n",
       "    </tr>\n",
       "    <tr>\n",
       "      <th>4</th>\n",
       "      <td>United Kingdom</td>\n",
       "      <td>4261398</td>\n",
       "      <td>125579</td>\n",
       "      <td>4254714</td>\n",
       "      <td>125403</td>\n",
       "      <td>6684</td>\n",
       "      <td>176</td>\n",
       "      <td>2.95</td>\n",
       "      <td>Europe</td>\n",
       "    </tr>\n",
       "  </tbody>\n",
       "</table>\n",
       "</div>"
      ],
      "text/plain": [
       "   Country/Region     Cases  Deaths    PCases  PDeaths  Cases (+)  Deaths (+)  \\\n",
       "0              US  29347338  532590  29286134   530821      61204        1769   \n",
       "1          Brazil  11363380  275105  11277717   272889      85663        2216   \n",
       "2           India  11333728  158446  11308846   158306      24882         140   \n",
       "3          Russia   4321588   89701   4311893    89224       9695         477   \n",
       "4  United Kingdom   4261398  125579   4254714   125403       6684         176   \n",
       "\n",
       "   Fatality Rate      Continent  \n",
       "0           1.81  North America  \n",
       "1           2.42  South America  \n",
       "2           1.40           Asia  \n",
       "3           2.08         Europe  \n",
       "4           2.95         Europe  "
      ]
     },
     "execution_count": 13,
     "metadata": {},
     "output_type": "execute_result"
    }
   ],
   "source": [
    "#hide\n",
    "for c in 'Cases, Deaths'.split(', '):\n",
    "    df_table[f'{c} (+)'] = (df_table[c] - df_table[f'P{c}']).clip(0)\n",
    "    #Clip ça veut dire, les chiffres negatif sont interdit\n",
    "df_table['Fatality Rate'] = (100* df_table['Deaths']/ df_table['Cases']).round(2)\n",
    "df_table['Continent'] = df_table['Country/Region'].map(mapping['map.continent'])\n",
    "df_table.head(5)"
   ]
  },
  {
   "cell_type": "code",
   "execution_count": 14,
   "id": "aboriginal-bulgaria",
   "metadata": {
    "execution": {
     "iopub.execute_input": "2021-03-14T00:11:15.365626Z",
     "iopub.status.busy": "2021-03-14T00:11:15.365220Z",
     "iopub.status.idle": "2021-03-14T00:11:15.367381Z",
     "shell.execute_reply": "2021-03-14T00:11:15.367785Z"
    },
    "papermill": {
     "duration": 0.031344,
     "end_time": "2021-03-14T00:11:15.367873",
     "exception": false,
     "start_time": "2021-03-14T00:11:15.336529",
     "status": "completed"
    },
    "tags": []
   },
   "outputs": [],
   "source": [
    "#hide\n",
    "#delete problematic countries from table\n",
    "df_table = df_table[~df_table['Country/Region'].isin(['Cape Verde', 'Cruise Ship', 'Kosovo'])]"
   ]
  },
  {
   "cell_type": "code",
   "execution_count": 15,
   "id": "fantastic-effect",
   "metadata": {
    "execution": {
     "iopub.execute_input": "2021-03-14T00:11:15.434423Z",
     "iopub.status.busy": "2021-03-14T00:11:15.423232Z",
     "iopub.status.idle": "2021-03-14T00:11:15.437471Z",
     "shell.execute_reply": "2021-03-14T00:11:15.437123Z"
    },
    "papermill": {
     "duration": 0.045492,
     "end_time": "2021-03-14T00:11:15.437548",
     "exception": false,
     "start_time": "2021-03-14T00:11:15.392056",
     "status": "completed"
    },
    "tags": []
   },
   "outputs": [
    {
     "data": {
      "text/html": [
       "<div>\n",
       "<style scoped>\n",
       "    .dataframe tbody tr th:only-of-type {\n",
       "        vertical-align: middle;\n",
       "    }\n",
       "\n",
       "    .dataframe tbody tr th {\n",
       "        vertical-align: top;\n",
       "    }\n",
       "\n",
       "    .dataframe thead th {\n",
       "        text-align: right;\n",
       "    }\n",
       "</style>\n",
       "<table border=\"1\" class=\"dataframe\">\n",
       "  <thead>\n",
       "    <tr style=\"text-align: right;\">\n",
       "      <th></th>\n",
       "      <th>Country/Region</th>\n",
       "      <th>Cases</th>\n",
       "      <th>Deaths</th>\n",
       "      <th>PCases</th>\n",
       "      <th>PDeaths</th>\n",
       "      <th>Cases (+)</th>\n",
       "      <th>Deaths (+)</th>\n",
       "      <th>Fatality Rate</th>\n",
       "      <th>Continent</th>\n",
       "    </tr>\n",
       "  </thead>\n",
       "  <tbody>\n",
       "    <tr>\n",
       "      <th>0</th>\n",
       "      <td>US</td>\n",
       "      <td>29347338</td>\n",
       "      <td>532590</td>\n",
       "      <td>29286134</td>\n",
       "      <td>530821</td>\n",
       "      <td>61204</td>\n",
       "      <td>1769</td>\n",
       "      <td>1.8</td>\n",
       "      <td>North America</td>\n",
       "    </tr>\n",
       "    <tr>\n",
       "      <th>1</th>\n",
       "      <td>Brazil</td>\n",
       "      <td>11363380</td>\n",
       "      <td>275105</td>\n",
       "      <td>11277717</td>\n",
       "      <td>272889</td>\n",
       "      <td>85663</td>\n",
       "      <td>2216</td>\n",
       "      <td>2.4</td>\n",
       "      <td>South America</td>\n",
       "    </tr>\n",
       "    <tr>\n",
       "      <th>2</th>\n",
       "      <td>India</td>\n",
       "      <td>11333728</td>\n",
       "      <td>158446</td>\n",
       "      <td>11308846</td>\n",
       "      <td>158306</td>\n",
       "      <td>24882</td>\n",
       "      <td>140</td>\n",
       "      <td>1.4</td>\n",
       "      <td>Asia</td>\n",
       "    </tr>\n",
       "    <tr>\n",
       "      <th>3</th>\n",
       "      <td>Russia</td>\n",
       "      <td>4321588</td>\n",
       "      <td>89701</td>\n",
       "      <td>4311893</td>\n",
       "      <td>89224</td>\n",
       "      <td>9695</td>\n",
       "      <td>477</td>\n",
       "      <td>2.1</td>\n",
       "      <td>Europe</td>\n",
       "    </tr>\n",
       "    <tr>\n",
       "      <th>4</th>\n",
       "      <td>United Kingdom</td>\n",
       "      <td>4261398</td>\n",
       "      <td>125579</td>\n",
       "      <td>4254714</td>\n",
       "      <td>125403</td>\n",
       "      <td>6684</td>\n",
       "      <td>176</td>\n",
       "      <td>2.9</td>\n",
       "      <td>Europe</td>\n",
       "    </tr>\n",
       "  </tbody>\n",
       "</table>\n",
       "</div>"
      ],
      "text/plain": [
       "   Country/Region     Cases  Deaths    PCases  PDeaths  Cases (+)  Deaths (+)  \\\n",
       "0              US  29347338  532590  29286134   530821      61204        1769   \n",
       "1          Brazil  11363380  275105  11277717   272889      85663        2216   \n",
       "2           India  11333728  158446  11308846   158306      24882         140   \n",
       "3          Russia   4321588   89701   4311893    89224       9695         477   \n",
       "4  United Kingdom   4261398  125579   4254714   125403       6684         176   \n",
       "\n",
       "   Fatality Rate      Continent  \n",
       "0            1.8  North America  \n",
       "1            2.4  South America  \n",
       "2            1.4           Asia  \n",
       "3            2.1         Europe  \n",
       "4            2.9         Europe  "
      ]
     },
     "execution_count": 15,
     "metadata": {},
     "output_type": "execute_result"
    }
   ],
   "source": [
    "#hide\n",
    "df_table = (pd.DataFrame(dict(Cases=dfc_cases, Deaths=dfc_deaths, PCases=dfp_cases, PDeaths=dfp_deaths))\n",
    "             .sort_values(by=['Cases', 'Deaths'], ascending=[False, False])\n",
    "             .reset_index())\n",
    "df_table.rename(columns={'index': 'Country/Region'}, inplace=True)\n",
    "for c in 'Cases, Deaths'.split(', '):\n",
    "    df_table[f'{c} (+)'] = (df_table[c] - df_table[f'P{c}']).clip(0)  # DATA BUG\n",
    "df_table['Fatality Rate'] = (100 * df_table['Deaths'] / df_table['Cases']).round(1)\n",
    "df_table['Continent'] = df_table['Country/Region'].map(mapping['map.continent'])\n",
    "df_table.head(5)"
   ]
  },
  {
   "cell_type": "code",
   "execution_count": 16,
   "id": "fewer-occasion",
   "metadata": {
    "execution": {
     "iopub.execute_input": "2021-03-14T00:11:15.493484Z",
     "iopub.status.busy": "2021-03-14T00:11:15.493013Z",
     "iopub.status.idle": "2021-03-14T00:11:15.494917Z",
     "shell.execute_reply": "2021-03-14T00:11:15.495248Z"
    },
    "papermill": {
     "duration": 0.032021,
     "end_time": "2021-03-14T00:11:15.495334",
     "exception": false,
     "start_time": "2021-03-14T00:11:15.463313",
     "status": "completed"
    },
    "tags": []
   },
   "outputs": [],
   "source": [
    "#hide\n",
    "#delete problematic countries from table\n",
    "df_table = df_table[~df_table['Country/Region'].isin(['Cape Verde', 'Cruise Ship', 'Kosovo'])]"
   ]
  },
  {
   "cell_type": "code",
   "execution_count": 17,
   "id": "related-center",
   "metadata": {
    "execution": {
     "iopub.execute_input": "2021-03-14T00:11:15.560883Z",
     "iopub.status.busy": "2021-03-14T00:11:15.560471Z",
     "iopub.status.idle": "2021-03-14T00:11:15.563148Z",
     "shell.execute_reply": "2021-03-14T00:11:15.563752Z"
    },
    "papermill": {
     "duration": 0.043201,
     "end_time": "2021-03-14T00:11:15.563874",
     "exception": false,
     "start_time": "2021-03-14T00:11:15.520673",
     "status": "completed"
    },
    "tags": []
   },
   "outputs": [],
   "source": [
    "#hide\n",
    "metrics = [df_table.columns[index] for index in [1,2,5,6]]\n",
    "# s_china = df_table[df_table['Country/Region'].eq('China')][metrics].sum().add_prefix('China ')\n",
    "s_us = df_table[df_table['Country/Region'].eq('US')][metrics].sum().add_prefix('US ')\n",
    "s_eu = df_table[df_table['Continent'].eq('Europe')][metrics].sum().add_prefix('EU ')\n",
    "s_ind = df_table[df_table['Country/Region'].eq('India')][metrics].sum().add_prefix('India ')\n",
    "summary = {'updated': pd.to_datetime(dt_today), 'since': pd.to_datetime(dt_yday)}\n",
    "summary = {'updated': pd.to_datetime(dt_today), 'since': pd.to_datetime(dt_yday)}\n",
    "summary = {**summary, **df_table[metrics].sum(), **s_ind, **s_us, **s_eu}"
   ]
  },
  {
   "cell_type": "code",
   "execution_count": 18,
   "id": "engaging-syndrome",
   "metadata": {
    "execution": {
     "iopub.execute_input": "2021-03-14T00:11:15.619973Z",
     "iopub.status.busy": "2021-03-14T00:11:15.617668Z",
     "iopub.status.idle": "2021-03-14T00:11:15.629123Z",
     "shell.execute_reply": "2021-03-14T00:11:15.628160Z"
    },
    "papermill": {
     "duration": 0.04109,
     "end_time": "2021-03-14T00:11:15.629221",
     "exception": false,
     "start_time": "2021-03-14T00:11:15.588131",
     "status": "completed"
    },
    "tags": []
   },
   "outputs": [],
   "source": [
    "#hide\n",
    "dft_ct_new_cases = dft_cases.groupby(COL_REGION)[dt_cols].sum().diff(axis=1).fillna(0).astype(int)"
   ]
  },
  {
   "cell_type": "code",
   "execution_count": 19,
   "id": "neutral-assignment",
   "metadata": {
    "execution": {
     "iopub.execute_input": "2021-03-14T00:11:15.689324Z",
     "iopub.status.busy": "2021-03-14T00:11:15.688748Z",
     "iopub.status.idle": "2021-03-14T00:11:15.690980Z",
     "shell.execute_reply": "2021-03-14T00:11:15.691435Z"
    },
    "papermill": {
     "duration": 0.035838,
     "end_time": "2021-03-14T00:11:15.691549",
     "exception": false,
     "start_time": "2021-03-14T00:11:15.655711",
     "status": "completed"
    },
    "tags": []
   },
   "outputs": [],
   "source": [
    "#hide\n",
    "everydaycases = dft_ct_new_cases.cumsum(axis=1)"
   ]
  },
  {
   "cell_type": "code",
   "execution_count": 20,
   "id": "parliamentary-calgary",
   "metadata": {
    "execution": {
     "iopub.execute_input": "2021-03-14T00:11:15.754098Z",
     "iopub.status.busy": "2021-03-14T00:11:15.753579Z",
     "iopub.status.idle": "2021-03-14T00:11:16.848433Z",
     "shell.execute_reply": "2021-03-14T00:11:16.847571Z"
    },
    "papermill": {
     "duration": 1.12846,
     "end_time": "2021-03-14T00:11:16.848557",
     "exception": false,
     "start_time": "2021-03-14T00:11:15.720097",
     "status": "completed"
    },
    "tags": []
   },
   "outputs": [],
   "source": [
    "#hide\n",
    "import pandas as pd\n",
    "import matplotlib.pyplot as plt\n",
    "import matplotlib.ticker as ticker\n",
    "import matplotlib.animation as animation\n",
    "from IPython.display import HTML"
   ]
  },
  {
   "cell_type": "code",
   "execution_count": 21,
   "id": "lasting-extraction",
   "metadata": {
    "execution": {
     "iopub.execute_input": "2021-03-14T00:11:16.906873Z",
     "iopub.status.busy": "2021-03-14T00:11:16.906008Z",
     "iopub.status.idle": "2021-03-14T00:11:16.910989Z",
     "shell.execute_reply": "2021-03-14T00:11:16.910460Z"
    },
    "papermill": {
     "duration": 0.03577,
     "end_time": "2021-03-14T00:11:16.911096",
     "exception": false,
     "start_time": "2021-03-14T00:11:16.875326",
     "status": "completed"
    },
    "tags": []
   },
   "outputs": [],
   "source": [
    "#hide\n",
    "t = everydaycases.stack()"
   ]
  },
  {
   "cell_type": "code",
   "execution_count": 22,
   "id": "premier-sleeve",
   "metadata": {
    "execution": {
     "iopub.execute_input": "2021-03-14T00:11:16.967336Z",
     "iopub.status.busy": "2021-03-14T00:11:16.966845Z",
     "iopub.status.idle": "2021-03-14T00:11:16.976383Z",
     "shell.execute_reply": "2021-03-14T00:11:16.975929Z"
    },
    "papermill": {
     "duration": 0.039816,
     "end_time": "2021-03-14T00:11:16.976485",
     "exception": false,
     "start_time": "2021-03-14T00:11:16.936669",
     "status": "completed"
    },
    "tags": []
   },
   "outputs": [],
   "source": [
    "#hide\n",
    "g = t.reset_index(['Country/Region'])"
   ]
  },
  {
   "cell_type": "code",
   "execution_count": 23,
   "id": "distributed-pittsburgh",
   "metadata": {
    "execution": {
     "iopub.execute_input": "2021-03-14T00:11:17.030550Z",
     "iopub.status.busy": "2021-03-14T00:11:17.030145Z",
     "iopub.status.idle": "2021-03-14T00:11:17.032900Z",
     "shell.execute_reply": "2021-03-14T00:11:17.032336Z"
    },
    "papermill": {
     "duration": 0.031264,
     "end_time": "2021-03-14T00:11:17.033007",
     "exception": false,
     "start_time": "2021-03-14T00:11:17.001743",
     "status": "completed"
    },
    "tags": []
   },
   "outputs": [],
   "source": [
    "#hide\n",
    "g.index.name = 'date'"
   ]
  },
  {
   "cell_type": "code",
   "execution_count": 24,
   "id": "naked-donor",
   "metadata": {
    "execution": {
     "iopub.execute_input": "2021-03-14T00:11:17.094807Z",
     "iopub.status.busy": "2021-03-14T00:11:17.094265Z",
     "iopub.status.idle": "2021-03-14T00:11:17.096703Z",
     "shell.execute_reply": "2021-03-14T00:11:17.096255Z"
    },
    "papermill": {
     "duration": 0.035388,
     "end_time": "2021-03-14T00:11:17.096805",
     "exception": false,
     "start_time": "2021-03-14T00:11:17.061417",
     "status": "completed"
    },
    "tags": []
   },
   "outputs": [],
   "source": [
    "# #hide\n",
    "# g = g.reset_index(['date'])"
   ]
  },
  {
   "cell_type": "code",
   "execution_count": 25,
   "id": "incomplete-mustang",
   "metadata": {
    "execution": {
     "iopub.execute_input": "2021-03-14T00:11:17.151654Z",
     "iopub.status.busy": "2021-03-14T00:11:17.151210Z",
     "iopub.status.idle": "2021-03-14T00:11:17.153556Z",
     "shell.execute_reply": "2021-03-14T00:11:17.153934Z"
    },
    "papermill": {
     "duration": 0.031363,
     "end_time": "2021-03-14T00:11:17.154032",
     "exception": false,
     "start_time": "2021-03-14T00:11:17.122669",
     "status": "completed"
    },
    "tags": []
   },
   "outputs": [],
   "source": [
    "#hide\n",
    "# g.head()"
   ]
  },
  {
   "cell_type": "code",
   "execution_count": 26,
   "id": "specific-kruger",
   "metadata": {
    "execution": {
     "iopub.execute_input": "2021-03-14T00:11:17.209872Z",
     "iopub.status.busy": "2021-03-14T00:11:17.208880Z",
     "iopub.status.idle": "2021-03-14T00:11:17.210927Z",
     "shell.execute_reply": "2021-03-14T00:11:17.211767Z"
    },
    "papermill": {
     "duration": 0.032932,
     "end_time": "2021-03-14T00:11:17.211974",
     "exception": false,
     "start_time": "2021-03-14T00:11:17.179042",
     "status": "completed"
    },
    "tags": []
   },
   "outputs": [],
   "source": [
    "#hide\n",
    "# g.columns = ['date','country','cases']"
   ]
  },
  {
   "cell_type": "code",
   "execution_count": 27,
   "id": "tender-conversion",
   "metadata": {
    "execution": {
     "iopub.execute_input": "2021-03-14T00:11:17.270621Z",
     "iopub.status.busy": "2021-03-14T00:11:17.270152Z",
     "iopub.status.idle": "2021-03-14T00:11:17.272602Z",
     "shell.execute_reply": "2021-03-14T00:11:17.273051Z"
    },
    "papermill": {
     "duration": 0.032031,
     "end_time": "2021-03-14T00:11:17.273151",
     "exception": false,
     "start_time": "2021-03-14T00:11:17.241120",
     "status": "completed"
    },
    "tags": []
   },
   "outputs": [],
   "source": [
    "#hide\n",
    "# g['continent'] = g.country"
   ]
  },
  {
   "cell_type": "code",
   "execution_count": 28,
   "id": "substantial-wilderness",
   "metadata": {
    "execution": {
     "iopub.execute_input": "2021-03-14T00:11:17.335488Z",
     "iopub.status.busy": "2021-03-14T00:11:17.334998Z",
     "iopub.status.idle": "2021-03-14T00:11:17.337506Z",
     "shell.execute_reply": "2021-03-14T00:11:17.337111Z"
    },
    "papermill": {
     "duration": 0.035196,
     "end_time": "2021-03-14T00:11:17.337593",
     "exception": false,
     "start_time": "2021-03-14T00:11:17.302397",
     "status": "completed"
    },
    "tags": []
   },
   "outputs": [],
   "source": [
    "#hide\n",
    "# cols = list(g.columns.values)"
   ]
  },
  {
   "cell_type": "code",
   "execution_count": 29,
   "id": "solved-farming",
   "metadata": {
    "execution": {
     "iopub.execute_input": "2021-03-14T00:11:17.394414Z",
     "iopub.status.busy": "2021-03-14T00:11:17.394010Z",
     "iopub.status.idle": "2021-03-14T00:11:17.396166Z",
     "shell.execute_reply": "2021-03-14T00:11:17.396556Z"
    },
    "papermill": {
     "duration": 0.031256,
     "end_time": "2021-03-14T00:11:17.396646",
     "exception": false,
     "start_time": "2021-03-14T00:11:17.365390",
     "status": "completed"
    },
    "tags": []
   },
   "outputs": [],
   "source": [
    "#hide\n",
    "# cols.insert(0, cols.pop())"
   ]
  },
  {
   "cell_type": "code",
   "execution_count": 30,
   "id": "executed-adoption",
   "metadata": {
    "execution": {
     "iopub.execute_input": "2021-03-14T00:11:17.449498Z",
     "iopub.status.busy": "2021-03-14T00:11:17.449093Z",
     "iopub.status.idle": "2021-03-14T00:11:17.451483Z",
     "shell.execute_reply": "2021-03-14T00:11:17.451817Z"
    },
    "papermill": {
     "duration": 0.030729,
     "end_time": "2021-03-14T00:11:17.451905",
     "exception": false,
     "start_time": "2021-03-14T00:11:17.421176",
     "status": "completed"
    },
    "tags": []
   },
   "outputs": [],
   "source": [
    "#hide\n",
    "# g = g[cols]"
   ]
  },
  {
   "cell_type": "code",
   "execution_count": 31,
   "id": "subject-dublin",
   "metadata": {
    "execution": {
     "iopub.execute_input": "2021-03-14T00:11:17.505422Z",
     "iopub.status.busy": "2021-03-14T00:11:17.505015Z",
     "iopub.status.idle": "2021-03-14T00:11:17.507626Z",
     "shell.execute_reply": "2021-03-14T00:11:17.508017Z"
    },
    "papermill": {
     "duration": 0.031231,
     "end_time": "2021-03-14T00:11:17.508103",
     "exception": false,
     "start_time": "2021-03-14T00:11:17.476872",
     "status": "completed"
    },
    "tags": []
   },
   "outputs": [],
   "source": [
    "#hide\n",
    "# g['continent'] = g['continent'].map(mapping['map.continent'])"
   ]
  },
  {
   "cell_type": "code",
   "execution_count": 32,
   "id": "freelance-scout",
   "metadata": {
    "execution": {
     "iopub.execute_input": "2021-03-14T00:11:17.564364Z",
     "iopub.status.busy": "2021-03-14T00:11:17.563791Z",
     "iopub.status.idle": "2021-03-14T00:11:17.566284Z",
     "shell.execute_reply": "2021-03-14T00:11:17.566691Z"
    },
    "papermill": {
     "duration": 0.033749,
     "end_time": "2021-03-14T00:11:17.566791",
     "exception": false,
     "start_time": "2021-03-14T00:11:17.533042",
     "status": "completed"
    },
    "tags": []
   },
   "outputs": [],
   "source": [
    "#hide\n",
    "# g.head()"
   ]
  },
  {
   "cell_type": "code",
   "execution_count": 33,
   "id": "limited-engine",
   "metadata": {
    "execution": {
     "iopub.execute_input": "2021-03-14T00:11:17.620201Z",
     "iopub.status.busy": "2021-03-14T00:11:17.619797Z",
     "iopub.status.idle": "2021-03-14T00:11:17.622858Z",
     "shell.execute_reply": "2021-03-14T00:11:17.623293Z"
    },
    "papermill": {
     "duration": 0.031206,
     "end_time": "2021-03-14T00:11:17.623411",
     "exception": false,
     "start_time": "2021-03-14T00:11:17.592205",
     "status": "completed"
    },
    "tags": []
   },
   "outputs": [],
   "source": [
    "# hide\n",
    "# g['date'] = g['date'].astype('datetime64[ns]')"
   ]
  },
  {
   "cell_type": "code",
   "execution_count": 34,
   "id": "sophisticated-supervisor",
   "metadata": {
    "execution": {
     "iopub.execute_input": "2021-03-14T00:11:17.676238Z",
     "iopub.status.busy": "2021-03-14T00:11:17.675764Z",
     "iopub.status.idle": "2021-03-14T00:11:17.677937Z",
     "shell.execute_reply": "2021-03-14T00:11:17.678328Z"
    },
    "papermill": {
     "duration": 0.030346,
     "end_time": "2021-03-14T00:11:17.678416",
     "exception": false,
     "start_time": "2021-03-14T00:11:17.648070",
     "status": "completed"
    },
    "tags": []
   },
   "outputs": [],
   "source": [
    "#hide\n",
    "# g['date'] = g.date.dt.dayofyear"
   ]
  },
  {
   "cell_type": "code",
   "execution_count": 35,
   "id": "inside-dubai",
   "metadata": {
    "execution": {
     "iopub.execute_input": "2021-03-14T00:11:17.732182Z",
     "iopub.status.busy": "2021-03-14T00:11:17.731649Z",
     "iopub.status.idle": "2021-03-14T00:11:17.733700Z",
     "shell.execute_reply": "2021-03-14T00:11:17.734027Z"
    },
    "papermill": {
     "duration": 0.031133,
     "end_time": "2021-03-14T00:11:17.734112",
     "exception": false,
     "start_time": "2021-03-14T00:11:17.702979",
     "status": "completed"
    },
    "tags": []
   },
   "outputs": [],
   "source": [
    "#hide\n",
    "# g = g.rename(columns= {'continent':'group','country':'name','cases':'value'})"
   ]
  },
  {
   "cell_type": "code",
   "execution_count": 36,
   "id": "fleet-motorcycle",
   "metadata": {
    "execution": {
     "iopub.execute_input": "2021-03-14T00:11:17.787541Z",
     "iopub.status.busy": "2021-03-14T00:11:17.787116Z",
     "iopub.status.idle": "2021-03-14T00:11:17.792097Z",
     "shell.execute_reply": "2021-03-14T00:11:17.791710Z"
    },
    "papermill": {
     "duration": 0.032694,
     "end_time": "2021-03-14T00:11:17.792187",
     "exception": false,
     "start_time": "2021-03-14T00:11:17.759493",
     "status": "completed"
    },
    "tags": []
   },
   "outputs": [],
   "source": [
    "#hide\n",
    "# cols = ['name','group','day','value']"
   ]
  },
  {
   "cell_type": "code",
   "execution_count": 37,
   "id": "continued-sleeping",
   "metadata": {
    "execution": {
     "iopub.execute_input": "2021-03-14T00:11:17.845797Z",
     "iopub.status.busy": "2021-03-14T00:11:17.845220Z",
     "iopub.status.idle": "2021-03-14T00:11:17.847327Z",
     "shell.execute_reply": "2021-03-14T00:11:17.847801Z"
    },
    "papermill": {
     "duration": 0.030612,
     "end_time": "2021-03-14T00:11:17.847900",
     "exception": false,
     "start_time": "2021-03-14T00:11:17.817288",
     "status": "completed"
    },
    "tags": []
   },
   "outputs": [],
   "source": [
    "#hide\n",
    "# g.rename(columns= {'date':'day'},inplace = True)"
   ]
  },
  {
   "cell_type": "code",
   "execution_count": 38,
   "id": "major-fight",
   "metadata": {
    "execution": {
     "iopub.execute_input": "2021-03-14T00:11:17.900639Z",
     "iopub.status.busy": "2021-03-14T00:11:17.899907Z",
     "iopub.status.idle": "2021-03-14T00:11:17.901366Z",
     "shell.execute_reply": "2021-03-14T00:11:17.901900Z"
    },
    "papermill": {
     "duration": 0.029967,
     "end_time": "2021-03-14T00:11:17.902036",
     "exception": false,
     "start_time": "2021-03-14T00:11:17.872069",
     "status": "completed"
    },
    "tags": []
   },
   "outputs": [],
   "source": [
    "#hide\n",
    "# g = g[cols]"
   ]
  },
  {
   "cell_type": "code",
   "execution_count": 39,
   "id": "structured-mobile",
   "metadata": {
    "execution": {
     "iopub.execute_input": "2021-03-14T00:11:17.957371Z",
     "iopub.status.busy": "2021-03-14T00:11:17.956967Z",
     "iopub.status.idle": "2021-03-14T00:11:17.959234Z",
     "shell.execute_reply": "2021-03-14T00:11:17.959647Z"
    },
    "papermill": {
     "duration": 0.03188,
     "end_time": "2021-03-14T00:11:17.959735",
     "exception": false,
     "start_time": "2021-03-14T00:11:17.927855",
     "status": "completed"
    },
    "tags": []
   },
   "outputs": [],
   "source": [
    "# #hide\n",
    "# g = g[g.group.notna()]"
   ]
  },
  {
   "cell_type": "code",
   "execution_count": 40,
   "id": "determined-closing",
   "metadata": {
    "execution": {
     "iopub.execute_input": "2021-03-14T00:11:18.012788Z",
     "iopub.status.busy": "2021-03-14T00:11:18.012320Z",
     "iopub.status.idle": "2021-03-14T00:11:18.014443Z",
     "shell.execute_reply": "2021-03-14T00:11:18.014788Z"
    },
    "papermill": {
     "duration": 0.030756,
     "end_time": "2021-03-14T00:11:18.014873",
     "exception": false,
     "start_time": "2021-03-14T00:11:17.984117",
     "status": "completed"
    },
    "tags": []
   },
   "outputs": [],
   "source": [
    "# #hide\n",
    "# colors = dict(zip(\n",
    "#     [\"Oceania\", \"Europe\", \"Asia\", \"South America\", \"Middle East\", \"North America\", \"Africa\"],\n",
    "#     [\"#adb0ff\", \"#ffb3ff\", \"#90d595\", \"#e48381\", \"#aafbff\", \"#f7bb5f\", \"#eafb50\"]\n",
    "# ))\n",
    "# group_lk = g.set_index('name')['group'].to_dict()"
   ]
  },
  {
   "cell_type": "code",
   "execution_count": null,
   "id": "gross-drinking",
   "metadata": {
    "papermill": {
     "duration": 0.028905,
     "end_time": "2021-03-14T00:11:18.070293",
     "exception": false,
     "start_time": "2021-03-14T00:11:18.041388",
     "status": "completed"
    },
    "tags": []
   },
   "outputs": [],
   "source": []
  },
  {
   "cell_type": "code",
   "execution_count": 41,
   "id": "subject-macintosh",
   "metadata": {
    "execution": {
     "iopub.execute_input": "2021-03-14T00:11:18.124305Z",
     "iopub.status.busy": "2021-03-14T00:11:18.123891Z",
     "iopub.status.idle": "2021-03-14T00:11:18.127281Z",
     "shell.execute_reply": "2021-03-14T00:11:18.126858Z"
    },
    "papermill": {
     "duration": 0.03124,
     "end_time": "2021-03-14T00:11:18.127372",
     "exception": false,
     "start_time": "2021-03-14T00:11:18.096132",
     "status": "completed"
    },
    "tags": []
   },
   "outputs": [],
   "source": [
    "# #hide\n",
    "# fig, ax = plt.subplots(figsize=(15, 8))\n",
    "\n",
    "# def draw_barchart(current_day):\n",
    "#     dff = g[g['day'].eq(current_day)].sort_values(by='value', ascending=True).tail(10)\n",
    "#     ax.clear()\n",
    "#     ax.barh(dff['name'], dff['value'], color=[colors[group_lk[x]] for x in dff['name']])\n",
    "#     dx = dff['value'].max() / 200\n",
    "    \n",
    "#     for i, (value, name) in enumerate(zip(dff['value'], dff['name'])):\n",
    "#         ax.text(value-dx, i,     name,           size=14, weight=600, ha='right', va='bottom')\n",
    "#         ax.text(value-dx, i-.25, group_lk[name], size=10, color='#444444', ha='right', va='baseline')\n",
    "#         ax.text(value+dx, i,     f'{value:,.0f}',  size=14, ha='left',  va='center')\n",
    "#     ax.text(1, 0.4, current_day, transform=ax.transAxes, color='#777777', size=46, ha='right', weight=800)\n",
    "#     ax.text(0, 1.06, 'Population (thousands)', transform=ax.transAxes, size=12, color='#777777')\n",
    "#     ax.xaxis.set_major_formatter(ticker.StrMethodFormatter('{x:,.0f}'))\n",
    "#     ax.xaxis.set_ticks_position('top')\n",
    "#     ax.tick_params(axis='x', colors='#777777', labelsize=12)\n",
    "#     ax.set_yticks([])\n",
    "#     ax.margins(0, 0.01)\n",
    "#     ax.grid(which='major', axis='x', linestyle='-')\n",
    "#     ax.set_axisbelow(True)\n",
    "    \n",
    "#     ax.text(0, 1.15, 'Coronavirus',\n",
    "#             transform=ax.transAxes, size=24, weight=600, ha='left', va='top')\n",
    "# #     ax.text(1, 0, 'by @pratapvardhan; credit @jburnmurdoch', transform=ax.transAxes, color='#777777', ha='right',\n",
    "# #             bbox=dict(facecolor='white', alpha=0.8, edgecolor='white'))\n",
    "#     plt.box(False)"
   ]
  },
  {
   "cell_type": "code",
   "execution_count": 42,
   "id": "sexual-wages",
   "metadata": {
    "execution": {
     "iopub.execute_input": "2021-03-14T00:11:18.179267Z",
     "iopub.status.busy": "2021-03-14T00:11:18.178865Z",
     "iopub.status.idle": "2021-03-14T00:11:18.181458Z",
     "shell.execute_reply": "2021-03-14T00:11:18.181844Z"
    },
    "papermill": {
     "duration": 0.030405,
     "end_time": "2021-03-14T00:11:18.181928",
     "exception": false,
     "start_time": "2021-03-14T00:11:18.151523",
     "status": "completed"
    },
    "tags": []
   },
   "outputs": [],
   "source": [
    "# #hide_input\n",
    "# fig, ax = plt.subplots(figsize=(15, 8))\n",
    "# animator = animation.FuncAnimation(fig, draw_barchart, frames=range(g.day.values.min(), g.day.values.max()))\n",
    "# HTML(animator.to_jshtml())\n",
    "# # or use animator.to_html5_video() or animator.save() "
   ]
  },
  {
   "cell_type": "code",
   "execution_count": null,
   "id": "australian-container",
   "metadata": {
    "papermill": {
     "duration": 0.024645,
     "end_time": "2021-03-14T00:11:18.231682",
     "exception": false,
     "start_time": "2021-03-14T00:11:18.207037",
     "status": "completed"
    },
    "tags": []
   },
   "outputs": [],
   "source": []
  },
  {
   "cell_type": "code",
   "execution_count": null,
   "id": "mediterranean-pontiac",
   "metadata": {
    "papermill": {
     "duration": 0.024453,
     "end_time": "2021-03-14T00:11:18.281079",
     "exception": false,
     "start_time": "2021-03-14T00:11:18.256626",
     "status": "completed"
    },
    "tags": []
   },
   "outputs": [],
   "source": []
  },
  {
   "cell_type": "code",
   "execution_count": null,
   "id": "aging-legislature",
   "metadata": {
    "papermill": {
     "duration": 0.025743,
     "end_time": "2021-03-14T00:11:18.331884",
     "exception": false,
     "start_time": "2021-03-14T00:11:18.306141",
     "status": "completed"
    },
    "tags": []
   },
   "outputs": [],
   "source": []
  }
 ],
 "metadata": {
  "kernelspec": {
   "display_name": "Python 3",
   "language": "python",
   "name": "python3"
  },
  "language_info": {
   "codemirror_mode": {
    "name": "ipython",
    "version": 3
   },
   "file_extension": ".py",
   "mimetype": "text/x-python",
   "name": "python",
   "nbconvert_exporter": "python",
   "pygments_lexer": "ipython3",
   "version": "3.6.13"
  },
  "papermill": {
   "duration": 5.541316,
   "end_time": "2021-03-14T00:11:18.665929",
   "environment_variables": {},
   "exception": null,
   "input_path": "2020-03-21-covid19exp.ipynb",
   "output_path": "2020-03-21-covid19exp.ipynb",
   "parameters": {},
   "start_time": "2021-03-14T00:11:13.124613",
   "version": "2.0.0"
  }
 },
 "nbformat": 4,
 "nbformat_minor": 5
}