{
 "cells": [
  {
   "cell_type": "markdown",
   "metadata": {
    "papermill": {
     "duration": 0.033787,
     "end_time": "2020-11-29T00:11:25.437975",
     "exception": false,
     "start_time": "2020-11-29T00:11:25.404188",
     "status": "completed"
    },
    "tags": []
   },
   "source": [
    "# COVID-19 Case Race\n",
    "> A race chart to see rising cases around the world\n",
    "\n",
    "- author: Hargun Oberoi\n",
    "- image: images/covid-overview.png\n",
    "- hide: false\n",
    "- badges: false"
   ]
  },
  {
   "cell_type": "code",
   "execution_count": 1,
   "metadata": {
    "execution": {
     "iopub.execute_input": "2020-11-29T00:11:25.502112Z",
     "iopub.status.busy": "2020-11-29T00:11:25.501503Z",
     "iopub.status.idle": "2020-11-29T00:11:25.834046Z",
     "shell.execute_reply": "2020-11-29T00:11:25.833407Z"
    },
    "papermill": {
     "duration": 0.366117,
     "end_time": "2020-11-29T00:11:25.834237",
     "exception": false,
     "start_time": "2020-11-29T00:11:25.468120",
     "status": "completed"
    },
    "tags": []
   },
   "outputs": [],
   "source": [
    "#hide\n",
    "import numpy as np\n",
    "import pandas as pd\n",
    "from jinja2 import Template\n",
    "from IPython.display import HTML"
   ]
  },
  {
   "cell_type": "code",
   "execution_count": 2,
   "metadata": {
    "execution": {
     "iopub.execute_input": "2020-11-29T00:11:25.898596Z",
     "iopub.status.busy": "2020-11-29T00:11:25.897899Z",
     "iopub.status.idle": "2020-11-29T00:11:25.899461Z",
     "shell.execute_reply": "2020-11-29T00:11:25.900101Z"
    },
    "papermill": {
     "duration": 0.036697,
     "end_time": "2020-11-29T00:11:25.900267",
     "exception": false,
     "start_time": "2020-11-29T00:11:25.863570",
     "status": "completed"
    },
    "tags": []
   },
   "outputs": [],
   "source": [
    "#hide\n",
    "\n",
    "# FETCH\n",
    "base_url = 'https://raw.githubusercontent.com/pratapvardhan/notebooks/master/covid19/'\n",
    "paths = {\n",
    "    'mapping': base_url + 'mapping_countries.csv',\n",
    "    'overview': base_url + 'overview.tpl'\n",
    "}"
   ]
  },
  {
   "cell_type": "code",
   "execution_count": 3,
   "metadata": {
    "execution": {
     "iopub.execute_input": "2020-11-29T00:11:25.969316Z",
     "iopub.status.busy": "2020-11-29T00:11:25.968763Z",
     "iopub.status.idle": "2020-11-29T00:11:25.971293Z",
     "shell.execute_reply": "2020-11-29T00:11:25.971778Z"
    },
    "papermill": {
     "duration": 0.041935,
     "end_time": "2020-11-29T00:11:25.971936",
     "exception": false,
     "start_time": "2020-11-29T00:11:25.930001",
     "status": "completed"
    },
    "tags": []
   },
   "outputs": [
    {
     "data": {
      "text/plain": [
       "'https://raw.githubusercontent.com/pratapvardhan/notebooks/master/covid19/mapping_countries.csv'"
      ]
     },
     "execution_count": 3,
     "metadata": {},
     "output_type": "execute_result"
    }
   ],
   "source": [
    "#hide\n",
    "paths['mapping']"
   ]
  },
  {
   "cell_type": "code",
   "execution_count": 4,
   "metadata": {
    "execution": {
     "iopub.execute_input": "2020-11-29T00:11:26.035372Z",
     "iopub.status.busy": "2020-11-29T00:11:26.034788Z",
     "iopub.status.idle": "2020-11-29T00:11:26.037442Z",
     "shell.execute_reply": "2020-11-29T00:11:26.036974Z"
    },
    "papermill": {
     "duration": 0.036899,
     "end_time": "2020-11-29T00:11:26.037562",
     "exception": false,
     "start_time": "2020-11-29T00:11:26.000663",
     "status": "completed"
    },
    "tags": []
   },
   "outputs": [],
   "source": [
    "#hide\n",
    "def get_mappings(url):\n",
    "    df = pd.read_csv(url)\n",
    "    return {\n",
    "        'df': df,\n",
    "        'replace.country': dict(df.dropna(subset=['Name']).set_index('Country')['Name']),\n",
    "        'map.continent': dict(df.set_index('Name')['Continent'])\n",
    "    }"
   ]
  },
  {
   "cell_type": "code",
   "execution_count": 5,
   "metadata": {
    "execution": {
     "iopub.execute_input": "2020-11-29T00:11:26.099651Z",
     "iopub.status.busy": "2020-11-29T00:11:26.099056Z",
     "iopub.status.idle": "2020-11-29T00:11:26.177360Z",
     "shell.execute_reply": "2020-11-29T00:11:26.177892Z"
    },
    "papermill": {
     "duration": 0.112487,
     "end_time": "2020-11-29T00:11:26.178055",
     "exception": false,
     "start_time": "2020-11-29T00:11:26.065568",
     "status": "completed"
    },
    "tags": []
   },
   "outputs": [],
   "source": [
    "#hide\n",
    "mapping = get_mappings(paths['mapping'])"
   ]
  },
  {
   "cell_type": "code",
   "execution_count": 6,
   "metadata": {
    "execution": {
     "iopub.execute_input": "2020-11-29T00:11:26.241023Z",
     "iopub.status.busy": "2020-11-29T00:11:26.240427Z",
     "iopub.status.idle": "2020-11-29T00:11:26.242238Z",
     "shell.execute_reply": "2020-11-29T00:11:26.242736Z"
    },
    "papermill": {
     "duration": 0.035753,
     "end_time": "2020-11-29T00:11:26.242869",
     "exception": false,
     "start_time": "2020-11-29T00:11:26.207116",
     "status": "completed"
    },
    "tags": []
   },
   "outputs": [],
   "source": [
    "#hide\n",
    "def get_template(path):\n",
    "    from urllib.parse import urlparse\n",
    "    if bool(urlparse(path).netloc):\n",
    "        from urllib.request import urlopen\n",
    "        return urlopen(path).read().decode('utf8')\n",
    "    return open(path).read()"
   ]
  },
  {
   "cell_type": "code",
   "execution_count": 7,
   "metadata": {
    "execution": {
     "iopub.execute_input": "2020-11-29T00:11:26.304683Z",
     "iopub.status.busy": "2020-11-29T00:11:26.304079Z",
     "iopub.status.idle": "2020-11-29T00:11:26.306085Z",
     "shell.execute_reply": "2020-11-29T00:11:26.306531Z"
    },
    "papermill": {
     "duration": 0.035245,
     "end_time": "2020-11-29T00:11:26.306670",
     "exception": false,
     "start_time": "2020-11-29T00:11:26.271425",
     "status": "completed"
    },
    "tags": []
   },
   "outputs": [],
   "source": [
    "#hide\n",
    "def get_frame(name):\n",
    "    url = (\n",
    "        'https://raw.githubusercontent.com/CSSEGISandData/COVID-19/master/csse_covid_19_data/'\n",
    "        f'csse_covid_19_time_series/time_series_covid19_{name}_global.csv')\n",
    "    df = pd.read_csv(url)\n",
    "    # rename countries\n",
    "    df['Country/Region'] = df['Country/Region'].replace(mapping['replace.country'])\n",
    "    return df"
   ]
  },
  {
   "cell_type": "code",
   "execution_count": 8,
   "metadata": {
    "execution": {
     "iopub.execute_input": "2020-11-29T00:11:26.369460Z",
     "iopub.status.busy": "2020-11-29T00:11:26.368768Z",
     "iopub.status.idle": "2020-11-29T00:11:26.370228Z",
     "shell.execute_reply": "2020-11-29T00:11:26.370726Z"
    },
    "papermill": {
     "duration": 0.036386,
     "end_time": "2020-11-29T00:11:26.370849",
     "exception": false,
     "start_time": "2020-11-29T00:11:26.334463",
     "status": "completed"
    },
    "tags": []
   },
   "outputs": [],
   "source": [
    "#hide\n",
    "def get_dates(df):\n",
    "    dt_cols = df.columns[~df.columns.isin(['Province/State', 'Country/Region', 'Lat', 'Long'])]\n",
    "    LAST_DATE_I = -1\n",
    "    # sometimes last column may be empty, then go backwards\n",
    "    for i in range(-1, -len(dt_cols), -1):\n",
    "        if not df[dt_cols[i]].fillna(0).eq(0).all():\n",
    "            LAST_DATE_I = i\n",
    "            break\n",
    "    return LAST_DATE_I, dt_cols"
   ]
  },
  {
   "cell_type": "code",
   "execution_count": 9,
   "metadata": {
    "execution": {
     "iopub.execute_input": "2020-11-29T00:11:26.430856Z",
     "iopub.status.busy": "2020-11-29T00:11:26.430310Z",
     "iopub.status.idle": "2020-11-29T00:11:26.915112Z",
     "shell.execute_reply": "2020-11-29T00:11:26.914489Z"
    },
    "papermill": {
     "duration": 0.51676,
     "end_time": "2020-11-29T00:11:26.915283",
     "exception": false,
     "start_time": "2020-11-29T00:11:26.398523",
     "status": "completed"
    },
    "tags": []
   },
   "outputs": [],
   "source": [
    "#hide\n",
    "COL_REGION = 'Country/Region'\n",
    "# Confirmed, Recovered, Deaths\n",
    "df = get_frame('confirmed')\n",
    "# dft_: timeseries, dfc_: today country agg\n",
    "dft_cases = df\n",
    "dft_deaths = get_frame('deaths')\n",
    "dft_recovered = get_frame('recovered')\n",
    "LAST_DATE_I, dt_cols = get_dates(df)"
   ]
  },
  {
   "cell_type": "code",
   "execution_count": 10,
   "metadata": {
    "execution": {
     "iopub.execute_input": "2020-11-29T00:11:26.979526Z",
     "iopub.status.busy": "2020-11-29T00:11:26.978929Z",
     "iopub.status.idle": "2020-11-29T00:11:26.980726Z",
     "shell.execute_reply": "2020-11-29T00:11:26.981201Z"
    },
    "papermill": {
     "duration": 0.036635,
     "end_time": "2020-11-29T00:11:26.981347",
     "exception": false,
     "start_time": "2020-11-29T00:11:26.944712",
     "status": "completed"
    },
    "tags": []
   },
   "outputs": [],
   "source": [
    "#hide\n",
    "LAST_DATE_I, dt_cols = get_dates(df)\n",
    "dt_today =dt_cols[LAST_DATE_I]\n",
    "# dt_5day = dt_cols[LAST_DATE_I - 5]\n",
    "dt_yday = dt_cols[LAST_DATE_I - 1]"
   ]
  },
  {
   "cell_type": "code",
   "execution_count": 11,
   "metadata": {
    "execution": {
     "iopub.execute_input": "2020-11-29T00:11:27.043696Z",
     "iopub.status.busy": "2020-11-29T00:11:27.043110Z",
     "iopub.status.idle": "2020-11-29T00:11:27.052573Z",
     "shell.execute_reply": "2020-11-29T00:11:27.052094Z"
    },
    "papermill": {
     "duration": 0.042955,
     "end_time": "2020-11-29T00:11:27.052698",
     "exception": false,
     "start_time": "2020-11-29T00:11:27.009743",
     "status": "completed"
    },
    "tags": []
   },
   "outputs": [],
   "source": [
    "#hide\n",
    "dfc_cases = dft_cases.groupby(COL_REGION)[dt_today].sum()\n",
    "dfc_deaths = dft_deaths.groupby(COL_REGION)[dt_today].sum()\n",
    "# dfp_cases = dft_cases.groupby(COL_REGION)[dt_5day].sum()\n",
    "# dfp_deaths = dft_deaths.groupby(COL_REGION)[dt_5day].sum()\n",
    "dfp_cases = dft_cases.groupby(COL_REGION)[dt_yday].sum()\n",
    "dfp_deaths = dft_deaths.groupby(COL_REGION)[dt_yday].sum()"
   ]
  },
  {
   "cell_type": "code",
   "execution_count": 12,
   "metadata": {
    "execution": {
     "iopub.execute_input": "2020-11-29T00:11:27.117046Z",
     "iopub.status.busy": "2020-11-29T00:11:27.116452Z",
     "iopub.status.idle": "2020-11-29T00:11:27.121424Z",
     "shell.execute_reply": "2020-11-29T00:11:27.120935Z"
    },
    "papermill": {
     "duration": 0.040493,
     "end_time": "2020-11-29T00:11:27.121537",
     "exception": false,
     "start_time": "2020-11-29T00:11:27.081044",
     "status": "completed"
    },
    "tags": []
   },
   "outputs": [],
   "source": [
    "#hide\n",
    "df_table = (pd.DataFrame(dict(Cases = dfc_cases, Deaths = dfc_deaths, PCases = dfp_cases, PDeaths = dfp_deaths))\n",
    "            .sort_values(by = ['Cases','Deaths'], ascending = [False, False])\n",
    "            .reset_index())"
   ]
  },
  {
   "cell_type": "code",
   "execution_count": 13,
   "metadata": {
    "execution": {
     "iopub.execute_input": "2020-11-29T00:11:27.199401Z",
     "iopub.status.busy": "2020-11-29T00:11:27.194619Z",
     "iopub.status.idle": "2020-11-29T00:11:27.207089Z",
     "shell.execute_reply": "2020-11-29T00:11:27.206617Z"
    },
    "papermill": {
     "duration": 0.056138,
     "end_time": "2020-11-29T00:11:27.207215",
     "exception": false,
     "start_time": "2020-11-29T00:11:27.151077",
     "status": "completed"
    },
    "tags": []
   },
   "outputs": [
    {
     "data": {
      "text/html": [
       "<div>\n",
       "<style scoped>\n",
       "    .dataframe tbody tr th:only-of-type {\n",
       "        vertical-align: middle;\n",
       "    }\n",
       "\n",
       "    .dataframe tbody tr th {\n",
       "        vertical-align: top;\n",
       "    }\n",
       "\n",
       "    .dataframe thead th {\n",
       "        text-align: right;\n",
       "    }\n",
       "</style>\n",
       "<table border=\"1\" class=\"dataframe\">\n",
       "  <thead>\n",
       "    <tr style=\"text-align: right;\">\n",
       "      <th></th>\n",
       "      <th>Country/Region</th>\n",
       "      <th>Cases</th>\n",
       "      <th>Deaths</th>\n",
       "      <th>PCases</th>\n",
       "      <th>PDeaths</th>\n",
       "      <th>Cases (+)</th>\n",
       "      <th>Deaths (+)</th>\n",
       "      <th>Fatality Rate</th>\n",
       "      <th>Continent</th>\n",
       "    </tr>\n",
       "  </thead>\n",
       "  <tbody>\n",
       "    <tr>\n",
       "      <th>0</th>\n",
       "      <td>US</td>\n",
       "      <td>13088821</td>\n",
       "      <td>264858</td>\n",
       "      <td>12883264</td>\n",
       "      <td>263454</td>\n",
       "      <td>205557</td>\n",
       "      <td>1404</td>\n",
       "      <td>2.02</td>\n",
       "      <td>North America</td>\n",
       "    </tr>\n",
       "    <tr>\n",
       "      <th>1</th>\n",
       "      <td>India</td>\n",
       "      <td>9351109</td>\n",
       "      <td>136200</td>\n",
       "      <td>9309787</td>\n",
       "      <td>135715</td>\n",
       "      <td>41322</td>\n",
       "      <td>485</td>\n",
       "      <td>1.46</td>\n",
       "      <td>Asia</td>\n",
       "    </tr>\n",
       "    <tr>\n",
       "      <th>2</th>\n",
       "      <td>Brazil</td>\n",
       "      <td>6238350</td>\n",
       "      <td>171974</td>\n",
       "      <td>6204220</td>\n",
       "      <td>171460</td>\n",
       "      <td>34130</td>\n",
       "      <td>514</td>\n",
       "      <td>2.76</td>\n",
       "      <td>South America</td>\n",
       "    </tr>\n",
       "    <tr>\n",
       "      <th>3</th>\n",
       "      <td>France</td>\n",
       "      <td>2248209</td>\n",
       "      <td>51999</td>\n",
       "      <td>2235537</td>\n",
       "      <td>51041</td>\n",
       "      <td>12672</td>\n",
       "      <td>958</td>\n",
       "      <td>2.31</td>\n",
       "      <td>Europe</td>\n",
       "    </tr>\n",
       "    <tr>\n",
       "      <th>4</th>\n",
       "      <td>Russia</td>\n",
       "      <td>2196691</td>\n",
       "      <td>38175</td>\n",
       "      <td>2169424</td>\n",
       "      <td>37688</td>\n",
       "      <td>27267</td>\n",
       "      <td>487</td>\n",
       "      <td>1.74</td>\n",
       "      <td>Europe</td>\n",
       "    </tr>\n",
       "  </tbody>\n",
       "</table>\n",
       "</div>"
      ],
      "text/plain": [
       "  Country/Region     Cases  Deaths    PCases  PDeaths  Cases (+)  Deaths (+)  \\\n",
       "0             US  13088821  264858  12883264   263454     205557        1404   \n",
       "1          India   9351109  136200   9309787   135715      41322         485   \n",
       "2         Brazil   6238350  171974   6204220   171460      34130         514   \n",
       "3         France   2248209   51999   2235537    51041      12672         958   \n",
       "4         Russia   2196691   38175   2169424    37688      27267         487   \n",
       "\n",
       "   Fatality Rate      Continent  \n",
       "0           2.02  North America  \n",
       "1           1.46           Asia  \n",
       "2           2.76  South America  \n",
       "3           2.31         Europe  \n",
       "4           1.74         Europe  "
      ]
     },
     "execution_count": 13,
     "metadata": {},
     "output_type": "execute_result"
    }
   ],
   "source": [
    "#hide\n",
    "for c in 'Cases, Deaths'.split(', '):\n",
    "    df_table[f'{c} (+)'] = (df_table[c] - df_table[f'P{c}']).clip(0)\n",
    "    #Clip ça veut dire, les chiffres negatif sont interdit\n",
    "df_table['Fatality Rate'] = (100* df_table['Deaths']/ df_table['Cases']).round(2)\n",
    "df_table['Continent'] = df_table['Country/Region'].map(mapping['map.continent'])\n",
    "df_table.head(5)"
   ]
  },
  {
   "cell_type": "code",
   "execution_count": 14,
   "metadata": {
    "execution": {
     "iopub.execute_input": "2020-11-29T00:11:27.270555Z",
     "iopub.status.busy": "2020-11-29T00:11:27.269957Z",
     "iopub.status.idle": "2020-11-29T00:11:27.274042Z",
     "shell.execute_reply": "2020-11-29T00:11:27.273573Z"
    },
    "papermill": {
     "duration": 0.03746,
     "end_time": "2020-11-29T00:11:27.274164",
     "exception": false,
     "start_time": "2020-11-29T00:11:27.236704",
     "status": "completed"
    },
    "tags": []
   },
   "outputs": [],
   "source": [
    "#hide\n",
    "#delete problematic countries from table\n",
    "df_table = df_table[~df_table['Country/Region'].isin(['Cape Verde', 'Cruise Ship', 'Kosovo'])]"
   ]
  },
  {
   "cell_type": "code",
   "execution_count": 15,
   "metadata": {
    "execution": {
     "iopub.execute_input": "2020-11-29T00:11:27.339947Z",
     "iopub.status.busy": "2020-11-29T00:11:27.339363Z",
     "iopub.status.idle": "2020-11-29T00:11:27.357647Z",
     "shell.execute_reply": "2020-11-29T00:11:27.358212Z"
    },
    "papermill": {
     "duration": 0.055667,
     "end_time": "2020-11-29T00:11:27.358368",
     "exception": false,
     "start_time": "2020-11-29T00:11:27.302701",
     "status": "completed"
    },
    "tags": []
   },
   "outputs": [
    {
     "data": {
      "text/html": [
       "<div>\n",
       "<style scoped>\n",
       "    .dataframe tbody tr th:only-of-type {\n",
       "        vertical-align: middle;\n",
       "    }\n",
       "\n",
       "    .dataframe tbody tr th {\n",
       "        vertical-align: top;\n",
       "    }\n",
       "\n",
       "    .dataframe thead th {\n",
       "        text-align: right;\n",
       "    }\n",
       "</style>\n",
       "<table border=\"1\" class=\"dataframe\">\n",
       "  <thead>\n",
       "    <tr style=\"text-align: right;\">\n",
       "      <th></th>\n",
       "      <th>Country/Region</th>\n",
       "      <th>Cases</th>\n",
       "      <th>Deaths</th>\n",
       "      <th>PCases</th>\n",
       "      <th>PDeaths</th>\n",
       "      <th>Cases (+)</th>\n",
       "      <th>Deaths (+)</th>\n",
       "      <th>Fatality Rate</th>\n",
       "      <th>Continent</th>\n",
       "    </tr>\n",
       "  </thead>\n",
       "  <tbody>\n",
       "    <tr>\n",
       "      <th>0</th>\n",
       "      <td>US</td>\n",
       "      <td>13088821</td>\n",
       "      <td>264858</td>\n",
       "      <td>12883264</td>\n",
       "      <td>263454</td>\n",
       "      <td>205557</td>\n",
       "      <td>1404</td>\n",
       "      <td>2.0</td>\n",
       "      <td>North America</td>\n",
       "    </tr>\n",
       "    <tr>\n",
       "      <th>1</th>\n",
       "      <td>India</td>\n",
       "      <td>9351109</td>\n",
       "      <td>136200</td>\n",
       "      <td>9309787</td>\n",
       "      <td>135715</td>\n",
       "      <td>41322</td>\n",
       "      <td>485</td>\n",
       "      <td>1.5</td>\n",
       "      <td>Asia</td>\n",
       "    </tr>\n",
       "    <tr>\n",
       "      <th>2</th>\n",
       "      <td>Brazil</td>\n",
       "      <td>6238350</td>\n",
       "      <td>171974</td>\n",
       "      <td>6204220</td>\n",
       "      <td>171460</td>\n",
       "      <td>34130</td>\n",
       "      <td>514</td>\n",
       "      <td>2.8</td>\n",
       "      <td>South America</td>\n",
       "    </tr>\n",
       "    <tr>\n",
       "      <th>3</th>\n",
       "      <td>France</td>\n",
       "      <td>2248209</td>\n",
       "      <td>51999</td>\n",
       "      <td>2235537</td>\n",
       "      <td>51041</td>\n",
       "      <td>12672</td>\n",
       "      <td>958</td>\n",
       "      <td>2.3</td>\n",
       "      <td>Europe</td>\n",
       "    </tr>\n",
       "    <tr>\n",
       "      <th>4</th>\n",
       "      <td>Russia</td>\n",
       "      <td>2196691</td>\n",
       "      <td>38175</td>\n",
       "      <td>2169424</td>\n",
       "      <td>37688</td>\n",
       "      <td>27267</td>\n",
       "      <td>487</td>\n",
       "      <td>1.7</td>\n",
       "      <td>Europe</td>\n",
       "    </tr>\n",
       "  </tbody>\n",
       "</table>\n",
       "</div>"
      ],
      "text/plain": [
       "  Country/Region     Cases  Deaths    PCases  PDeaths  Cases (+)  Deaths (+)  \\\n",
       "0             US  13088821  264858  12883264   263454     205557        1404   \n",
       "1          India   9351109  136200   9309787   135715      41322         485   \n",
       "2         Brazil   6238350  171974   6204220   171460      34130         514   \n",
       "3         France   2248209   51999   2235537    51041      12672         958   \n",
       "4         Russia   2196691   38175   2169424    37688      27267         487   \n",
       "\n",
       "   Fatality Rate      Continent  \n",
       "0            2.0  North America  \n",
       "1            1.5           Asia  \n",
       "2            2.8  South America  \n",
       "3            2.3         Europe  \n",
       "4            1.7         Europe  "
      ]
     },
     "execution_count": 15,
     "metadata": {},
     "output_type": "execute_result"
    }
   ],
   "source": [
    "#hide\n",
    "df_table = (pd.DataFrame(dict(Cases=dfc_cases, Deaths=dfc_deaths, PCases=dfp_cases, PDeaths=dfp_deaths))\n",
    "             .sort_values(by=['Cases', 'Deaths'], ascending=[False, False])\n",
    "             .reset_index())\n",
    "df_table.rename(columns={'index': 'Country/Region'}, inplace=True)\n",
    "for c in 'Cases, Deaths'.split(', '):\n",
    "    df_table[f'{c} (+)'] = (df_table[c] - df_table[f'P{c}']).clip(0)  # DATA BUG\n",
    "df_table['Fatality Rate'] = (100 * df_table['Deaths'] / df_table['Cases']).round(1)\n",
    "df_table['Continent'] = df_table['Country/Region'].map(mapping['map.continent'])\n",
    "df_table.head(5)"
   ]
  },
  {
   "cell_type": "code",
   "execution_count": 16,
   "metadata": {
    "execution": {
     "iopub.execute_input": "2020-11-29T00:11:27.425211Z",
     "iopub.status.busy": "2020-11-29T00:11:27.424608Z",
     "iopub.status.idle": "2020-11-29T00:11:27.426922Z",
     "shell.execute_reply": "2020-11-29T00:11:27.426448Z"
    },
    "papermill": {
     "duration": 0.037926,
     "end_time": "2020-11-29T00:11:27.427047",
     "exception": false,
     "start_time": "2020-11-29T00:11:27.389121",
     "status": "completed"
    },
    "tags": []
   },
   "outputs": [],
   "source": [
    "#hide\n",
    "#delete problematic countries from table\n",
    "df_table = df_table[~df_table['Country/Region'].isin(['Cape Verde', 'Cruise Ship', 'Kosovo'])]"
   ]
  },
  {
   "cell_type": "code",
   "execution_count": 17,
   "metadata": {
    "execution": {
     "iopub.execute_input": "2020-11-29T00:11:27.495162Z",
     "iopub.status.busy": "2020-11-29T00:11:27.494602Z",
     "iopub.status.idle": "2020-11-29T00:11:27.508761Z",
     "shell.execute_reply": "2020-11-29T00:11:27.508252Z"
    },
    "papermill": {
     "duration": 0.0514,
     "end_time": "2020-11-29T00:11:27.508882",
     "exception": false,
     "start_time": "2020-11-29T00:11:27.457482",
     "status": "completed"
    },
    "tags": []
   },
   "outputs": [],
   "source": [
    "#hide\n",
    "metrics = [df_table.columns[index] for index in [1,2,5,6]]\n",
    "# s_china = df_table[df_table['Country/Region'].eq('China')][metrics].sum().add_prefix('China ')\n",
    "s_us = df_table[df_table['Country/Region'].eq('US')][metrics].sum().add_prefix('US ')\n",
    "s_eu = df_table[df_table['Continent'].eq('Europe')][metrics].sum().add_prefix('EU ')\n",
    "s_ind = df_table[df_table['Country/Region'].eq('India')][metrics].sum().add_prefix('India ')\n",
    "summary = {'updated': pd.to_datetime(dt_today), 'since': pd.to_datetime(dt_yday)}\n",
    "summary = {'updated': pd.to_datetime(dt_today), 'since': pd.to_datetime(dt_yday)}\n",
    "summary = {**summary, **df_table[metrics].sum(), **s_ind, **s_us, **s_eu}"
   ]
  },
  {
   "cell_type": "code",
   "execution_count": 18,
   "metadata": {
    "execution": {
     "iopub.execute_input": "2020-11-29T00:11:27.576077Z",
     "iopub.status.busy": "2020-11-29T00:11:27.575464Z",
     "iopub.status.idle": "2020-11-29T00:11:27.584161Z",
     "shell.execute_reply": "2020-11-29T00:11:27.584647Z"
    },
    "papermill": {
     "duration": 0.045682,
     "end_time": "2020-11-29T00:11:27.584791",
     "exception": false,
     "start_time": "2020-11-29T00:11:27.539109",
     "status": "completed"
    },
    "tags": []
   },
   "outputs": [],
   "source": [
    "#hide\n",
    "dft_ct_new_cases = dft_cases.groupby(COL_REGION)[dt_cols].sum().diff(axis=1).fillna(0).astype(int)"
   ]
  },
  {
   "cell_type": "code",
   "execution_count": 19,
   "metadata": {
    "execution": {
     "iopub.execute_input": "2020-11-29T00:11:27.648893Z",
     "iopub.status.busy": "2020-11-29T00:11:27.648342Z",
     "iopub.status.idle": "2020-11-29T00:11:27.650466Z",
     "shell.execute_reply": "2020-11-29T00:11:27.650882Z"
    },
    "papermill": {
     "duration": 0.036688,
     "end_time": "2020-11-29T00:11:27.651020",
     "exception": false,
     "start_time": "2020-11-29T00:11:27.614332",
     "status": "completed"
    },
    "tags": []
   },
   "outputs": [],
   "source": [
    "#hide\n",
    "everydaycases = dft_ct_new_cases.cumsum(axis=1)"
   ]
  },
  {
   "cell_type": "code",
   "execution_count": 20,
   "metadata": {
    "execution": {
     "iopub.execute_input": "2020-11-29T00:11:27.713992Z",
     "iopub.status.busy": "2020-11-29T00:11:27.713443Z",
     "iopub.status.idle": "2020-11-29T00:11:31.208017Z",
     "shell.execute_reply": "2020-11-29T00:11:31.207408Z"
    },
    "papermill": {
     "duration": 3.527858,
     "end_time": "2020-11-29T00:11:31.208174",
     "exception": false,
     "start_time": "2020-11-29T00:11:27.680316",
     "status": "completed"
    },
    "tags": []
   },
   "outputs": [],
   "source": [
    "#hide\n",
    "import pandas as pd\n",
    "import matplotlib.pyplot as plt\n",
    "import matplotlib.ticker as ticker\n",
    "import matplotlib.animation as animation\n",
    "from IPython.display import HTML"
   ]
  },
  {
   "cell_type": "code",
   "execution_count": 21,
   "metadata": {
    "execution": {
     "iopub.execute_input": "2020-11-29T00:11:31.272576Z",
     "iopub.status.busy": "2020-11-29T00:11:31.272015Z",
     "iopub.status.idle": "2020-11-29T00:11:31.276937Z",
     "shell.execute_reply": "2020-11-29T00:11:31.277351Z"
    },
    "papermill": {
     "duration": 0.039671,
     "end_time": "2020-11-29T00:11:31.277490",
     "exception": false,
     "start_time": "2020-11-29T00:11:31.237819",
     "status": "completed"
    },
    "tags": []
   },
   "outputs": [],
   "source": [
    "#hide\n",
    "t = everydaycases.stack()"
   ]
  },
  {
   "cell_type": "code",
   "execution_count": 22,
   "metadata": {
    "execution": {
     "iopub.execute_input": "2020-11-29T00:11:31.339708Z",
     "iopub.status.busy": "2020-11-29T00:11:31.339123Z",
     "iopub.status.idle": "2020-11-29T00:11:31.345631Z",
     "shell.execute_reply": "2020-11-29T00:11:31.345160Z"
    },
    "papermill": {
     "duration": 0.039582,
     "end_time": "2020-11-29T00:11:31.345757",
     "exception": false,
     "start_time": "2020-11-29T00:11:31.306175",
     "status": "completed"
    },
    "tags": []
   },
   "outputs": [],
   "source": [
    "#hide\n",
    "g = t.reset_index(['Country/Region'])"
   ]
  },
  {
   "cell_type": "code",
   "execution_count": 23,
   "metadata": {
    "execution": {
     "iopub.execute_input": "2020-11-29T00:11:31.409162Z",
     "iopub.status.busy": "2020-11-29T00:11:31.408571Z",
     "iopub.status.idle": "2020-11-29T00:11:31.412161Z",
     "shell.execute_reply": "2020-11-29T00:11:31.412622Z"
    },
    "papermill": {
     "duration": 0.037518,
     "end_time": "2020-11-29T00:11:31.412754",
     "exception": false,
     "start_time": "2020-11-29T00:11:31.375236",
     "status": "completed"
    },
    "tags": []
   },
   "outputs": [],
   "source": [
    "#hide\n",
    "g.index.name = 'date'"
   ]
  },
  {
   "cell_type": "code",
   "execution_count": 24,
   "metadata": {
    "execution": {
     "iopub.execute_input": "2020-11-29T00:11:31.477587Z",
     "iopub.status.busy": "2020-11-29T00:11:31.476251Z",
     "iopub.status.idle": "2020-11-29T00:11:31.478230Z",
     "shell.execute_reply": "2020-11-29T00:11:31.478663Z"
    },
    "papermill": {
     "duration": 0.035664,
     "end_time": "2020-11-29T00:11:31.478794",
     "exception": false,
     "start_time": "2020-11-29T00:11:31.443130",
     "status": "completed"
    },
    "tags": []
   },
   "outputs": [],
   "source": [
    "# #hide\n",
    "# g = g.reset_index(['date'])"
   ]
  },
  {
   "cell_type": "code",
   "execution_count": 25,
   "metadata": {
    "execution": {
     "iopub.execute_input": "2020-11-29T00:11:31.542733Z",
     "iopub.status.busy": "2020-11-29T00:11:31.541446Z",
     "iopub.status.idle": "2020-11-29T00:11:31.543395Z",
     "shell.execute_reply": "2020-11-29T00:11:31.543883Z"
    },
    "papermill": {
     "duration": 0.035365,
     "end_time": "2020-11-29T00:11:31.544028",
     "exception": false,
     "start_time": "2020-11-29T00:11:31.508663",
     "status": "completed"
    },
    "tags": []
   },
   "outputs": [],
   "source": [
    "#hide\n",
    "# g.head()"
   ]
  },
  {
   "cell_type": "code",
   "execution_count": 26,
   "metadata": {
    "execution": {
     "iopub.execute_input": "2020-11-29T00:11:31.605422Z",
     "iopub.status.busy": "2020-11-29T00:11:31.604729Z",
     "iopub.status.idle": "2020-11-29T00:11:31.606142Z",
     "shell.execute_reply": "2020-11-29T00:11:31.606795Z"
    },
    "papermill": {
     "duration": 0.033966,
     "end_time": "2020-11-29T00:11:31.606968",
     "exception": false,
     "start_time": "2020-11-29T00:11:31.573002",
     "status": "completed"
    },
    "tags": []
   },
   "outputs": [],
   "source": [
    "#hide\n",
    "# g.columns = ['date','country','cases']"
   ]
  },
  {
   "cell_type": "code",
   "execution_count": 27,
   "metadata": {
    "execution": {
     "iopub.execute_input": "2020-11-29T00:11:31.670121Z",
     "iopub.status.busy": "2020-11-29T00:11:31.669574Z",
     "iopub.status.idle": "2020-11-29T00:11:31.671654Z",
     "shell.execute_reply": "2020-11-29T00:11:31.672251Z"
    },
    "papermill": {
     "duration": 0.035732,
     "end_time": "2020-11-29T00:11:31.672393",
     "exception": false,
     "start_time": "2020-11-29T00:11:31.636661",
     "status": "completed"
    },
    "tags": []
   },
   "outputs": [],
   "source": [
    "#hide\n",
    "# g['continent'] = g.country"
   ]
  },
  {
   "cell_type": "code",
   "execution_count": 28,
   "metadata": {
    "execution": {
     "iopub.execute_input": "2020-11-29T00:11:31.734494Z",
     "iopub.status.busy": "2020-11-29T00:11:31.733885Z",
     "iopub.status.idle": "2020-11-29T00:11:31.735655Z",
     "shell.execute_reply": "2020-11-29T00:11:31.736155Z"
    },
    "papermill": {
     "duration": 0.034447,
     "end_time": "2020-11-29T00:11:31.736289",
     "exception": false,
     "start_time": "2020-11-29T00:11:31.701842",
     "status": "completed"
    },
    "tags": []
   },
   "outputs": [],
   "source": [
    "#hide\n",
    "# cols = list(g.columns.values)"
   ]
  },
  {
   "cell_type": "code",
   "execution_count": 29,
   "metadata": {
    "execution": {
     "iopub.execute_input": "2020-11-29T00:11:31.798435Z",
     "iopub.status.busy": "2020-11-29T00:11:31.797729Z",
     "iopub.status.idle": "2020-11-29T00:11:31.799334Z",
     "shell.execute_reply": "2020-11-29T00:11:31.799922Z"
    },
    "papermill": {
     "duration": 0.034599,
     "end_time": "2020-11-29T00:11:31.800082",
     "exception": false,
     "start_time": "2020-11-29T00:11:31.765483",
     "status": "completed"
    },
    "tags": []
   },
   "outputs": [],
   "source": [
    "#hide\n",
    "# cols.insert(0, cols.pop())"
   ]
  },
  {
   "cell_type": "code",
   "execution_count": 30,
   "metadata": {
    "execution": {
     "iopub.execute_input": "2020-11-29T00:11:31.863459Z",
     "iopub.status.busy": "2020-11-29T00:11:31.862873Z",
     "iopub.status.idle": "2020-11-29T00:11:31.864903Z",
     "shell.execute_reply": "2020-11-29T00:11:31.865467Z"
    },
    "papermill": {
     "duration": 0.035609,
     "end_time": "2020-11-29T00:11:31.865599",
     "exception": false,
     "start_time": "2020-11-29T00:11:31.829990",
     "status": "completed"
    },
    "tags": []
   },
   "outputs": [],
   "source": [
    "#hide\n",
    "# g = g[cols]"
   ]
  },
  {
   "cell_type": "code",
   "execution_count": 31,
   "metadata": {
    "execution": {
     "iopub.execute_input": "2020-11-29T00:11:31.928512Z",
     "iopub.status.busy": "2020-11-29T00:11:31.927909Z",
     "iopub.status.idle": "2020-11-29T00:11:31.929930Z",
     "shell.execute_reply": "2020-11-29T00:11:31.930403Z"
    },
    "papermill": {
     "duration": 0.035345,
     "end_time": "2020-11-29T00:11:31.930534",
     "exception": false,
     "start_time": "2020-11-29T00:11:31.895189",
     "status": "completed"
    },
    "tags": []
   },
   "outputs": [],
   "source": [
    "#hide\n",
    "# g['continent'] = g['continent'].map(mapping['map.continent'])"
   ]
  },
  {
   "cell_type": "code",
   "execution_count": 32,
   "metadata": {
    "execution": {
     "iopub.execute_input": "2020-11-29T00:11:31.993137Z",
     "iopub.status.busy": "2020-11-29T00:11:31.992517Z",
     "iopub.status.idle": "2020-11-29T00:11:31.994809Z",
     "shell.execute_reply": "2020-11-29T00:11:31.995315Z"
    },
    "papermill": {
     "duration": 0.035205,
     "end_time": "2020-11-29T00:11:31.995450",
     "exception": false,
     "start_time": "2020-11-29T00:11:31.960245",
     "status": "completed"
    },
    "tags": []
   },
   "outputs": [],
   "source": [
    "#hide\n",
    "# g.head()"
   ]
  },
  {
   "cell_type": "code",
   "execution_count": 33,
   "metadata": {
    "execution": {
     "iopub.execute_input": "2020-11-29T00:11:32.058103Z",
     "iopub.status.busy": "2020-11-29T00:11:32.057504Z",
     "iopub.status.idle": "2020-11-29T00:11:32.059353Z",
     "shell.execute_reply": "2020-11-29T00:11:32.059801Z"
    },
    "papermill": {
     "duration": 0.035098,
     "end_time": "2020-11-29T00:11:32.059961",
     "exception": false,
     "start_time": "2020-11-29T00:11:32.024863",
     "status": "completed"
    },
    "tags": []
   },
   "outputs": [],
   "source": [
    "# hide\n",
    "# g['date'] = g['date'].astype('datetime64[ns]')"
   ]
  },
  {
   "cell_type": "code",
   "execution_count": 34,
   "metadata": {
    "execution": {
     "iopub.execute_input": "2020-11-29T00:11:32.124293Z",
     "iopub.status.busy": "2020-11-29T00:11:32.123702Z",
     "iopub.status.idle": "2020-11-29T00:11:32.126100Z",
     "shell.execute_reply": "2020-11-29T00:11:32.125635Z"
    },
    "papermill": {
     "duration": 0.035929,
     "end_time": "2020-11-29T00:11:32.126211",
     "exception": false,
     "start_time": "2020-11-29T00:11:32.090282",
     "status": "completed"
    },
    "tags": []
   },
   "outputs": [],
   "source": [
    "#hide\n",
    "# g['date'] = g.date.dt.dayofyear"
   ]
  },
  {
   "cell_type": "code",
   "execution_count": 35,
   "metadata": {
    "execution": {
     "iopub.execute_input": "2020-11-29T00:11:32.190322Z",
     "iopub.status.busy": "2020-11-29T00:11:32.189776Z",
     "iopub.status.idle": "2020-11-29T00:11:32.192503Z",
     "shell.execute_reply": "2020-11-29T00:11:32.192025Z"
    },
    "papermill": {
     "duration": 0.036111,
     "end_time": "2020-11-29T00:11:32.192629",
     "exception": false,
     "start_time": "2020-11-29T00:11:32.156518",
     "status": "completed"
    },
    "tags": []
   },
   "outputs": [],
   "source": [
    "#hide\n",
    "# g = g.rename(columns= {'continent':'group','country':'name','cases':'value'})"
   ]
  },
  {
   "cell_type": "code",
   "execution_count": 36,
   "metadata": {
    "execution": {
     "iopub.execute_input": "2020-11-29T00:11:32.256774Z",
     "iopub.status.busy": "2020-11-29T00:11:32.256176Z",
     "iopub.status.idle": "2020-11-29T00:11:32.258637Z",
     "shell.execute_reply": "2020-11-29T00:11:32.258164Z"
    },
    "papermill": {
     "duration": 0.035939,
     "end_time": "2020-11-29T00:11:32.258760",
     "exception": false,
     "start_time": "2020-11-29T00:11:32.222821",
     "status": "completed"
    },
    "tags": []
   },
   "outputs": [],
   "source": [
    "#hide\n",
    "# cols = ['name','group','day','value']"
   ]
  },
  {
   "cell_type": "code",
   "execution_count": 37,
   "metadata": {
    "execution": {
     "iopub.execute_input": "2020-11-29T00:11:32.321146Z",
     "iopub.status.busy": "2020-11-29T00:11:32.320556Z",
     "iopub.status.idle": "2020-11-29T00:11:32.322888Z",
     "shell.execute_reply": "2020-11-29T00:11:32.322406Z"
    },
    "papermill": {
     "duration": 0.035384,
     "end_time": "2020-11-29T00:11:32.323014",
     "exception": false,
     "start_time": "2020-11-29T00:11:32.287630",
     "status": "completed"
    },
    "tags": []
   },
   "outputs": [],
   "source": [
    "#hide\n",
    "# g.rename(columns= {'date':'day'},inplace = True)"
   ]
  },
  {
   "cell_type": "code",
   "execution_count": 38,
   "metadata": {
    "execution": {
     "iopub.execute_input": "2020-11-29T00:11:32.387111Z",
     "iopub.status.busy": "2020-11-29T00:11:32.386544Z",
     "iopub.status.idle": "2020-11-29T00:11:32.388977Z",
     "shell.execute_reply": "2020-11-29T00:11:32.388537Z"
    },
    "papermill": {
     "duration": 0.03546,
     "end_time": "2020-11-29T00:11:32.389089",
     "exception": false,
     "start_time": "2020-11-29T00:11:32.353629",
     "status": "completed"
    },
    "tags": []
   },
   "outputs": [],
   "source": [
    "#hide\n",
    "# g = g[cols]"
   ]
  },
  {
   "cell_type": "code",
   "execution_count": 39,
   "metadata": {
    "execution": {
     "iopub.execute_input": "2020-11-29T00:11:32.455116Z",
     "iopub.status.busy": "2020-11-29T00:11:32.454532Z",
     "iopub.status.idle": "2020-11-29T00:11:32.457210Z",
     "shell.execute_reply": "2020-11-29T00:11:32.456706Z"
    },
    "papermill": {
     "duration": 0.037964,
     "end_time": "2020-11-29T00:11:32.457327",
     "exception": false,
     "start_time": "2020-11-29T00:11:32.419363",
     "status": "completed"
    },
    "tags": []
   },
   "outputs": [],
   "source": [
    "# #hide\n",
    "# g = g[g.group.notna()]"
   ]
  },
  {
   "cell_type": "code",
   "execution_count": 40,
   "metadata": {
    "execution": {
     "iopub.execute_input": "2020-11-29T00:11:32.521372Z",
     "iopub.status.busy": "2020-11-29T00:11:32.520644Z",
     "iopub.status.idle": "2020-11-29T00:11:32.524626Z",
     "shell.execute_reply": "2020-11-29T00:11:32.525074Z"
    },
    "papermill": {
     "duration": 0.037303,
     "end_time": "2020-11-29T00:11:32.525202",
     "exception": false,
     "start_time": "2020-11-29T00:11:32.487899",
     "status": "completed"
    },
    "tags": []
   },
   "outputs": [],
   "source": [
    "# #hide\n",
    "# colors = dict(zip(\n",
    "#     [\"Oceania\", \"Europe\", \"Asia\", \"South America\", \"Middle East\", \"North America\", \"Africa\"],\n",
    "#     [\"#adb0ff\", \"#ffb3ff\", \"#90d595\", \"#e48381\", \"#aafbff\", \"#f7bb5f\", \"#eafb50\"]\n",
    "# ))\n",
    "# group_lk = g.set_index('name')['group'].to_dict()"
   ]
  },
  {
   "cell_type": "code",
   "execution_count": null,
   "metadata": {
    "papermill": {
     "duration": 0.031686,
     "end_time": "2020-11-29T00:11:32.587732",
     "exception": false,
     "start_time": "2020-11-29T00:11:32.556046",
     "status": "completed"
    },
    "tags": []
   },
   "outputs": [],
   "source": []
  },
  {
   "cell_type": "code",
   "execution_count": 41,
   "metadata": {
    "execution": {
     "iopub.execute_input": "2020-11-29T00:11:32.661918Z",
     "iopub.status.busy": "2020-11-29T00:11:32.661301Z",
     "iopub.status.idle": "2020-11-29T00:11:32.663821Z",
     "shell.execute_reply": "2020-11-29T00:11:32.663352Z"
    },
    "papermill": {
     "duration": 0.037108,
     "end_time": "2020-11-29T00:11:32.663969",
     "exception": false,
     "start_time": "2020-11-29T00:11:32.626861",
     "status": "completed"
    },
    "tags": []
   },
   "outputs": [],
   "source": [
    "# #hide\n",
    "# fig, ax = plt.subplots(figsize=(15, 8))\n",
    "\n",
    "# def draw_barchart(current_day):\n",
    "#     dff = g[g['day'].eq(current_day)].sort_values(by='value', ascending=True).tail(10)\n",
    "#     ax.clear()\n",
    "#     ax.barh(dff['name'], dff['value'], color=[colors[group_lk[x]] for x in dff['name']])\n",
    "#     dx = dff['value'].max() / 200\n",
    "    \n",
    "#     for i, (value, name) in enumerate(zip(dff['value'], dff['name'])):\n",
    "#         ax.text(value-dx, i,     name,           size=14, weight=600, ha='right', va='bottom')\n",
    "#         ax.text(value-dx, i-.25, group_lk[name], size=10, color='#444444', ha='right', va='baseline')\n",
    "#         ax.text(value+dx, i,     f'{value:,.0f}',  size=14, ha='left',  va='center')\n",
    "#     ax.text(1, 0.4, current_day, transform=ax.transAxes, color='#777777', size=46, ha='right', weight=800)\n",
    "#     ax.text(0, 1.06, 'Population (thousands)', transform=ax.transAxes, size=12, color='#777777')\n",
    "#     ax.xaxis.set_major_formatter(ticker.StrMethodFormatter('{x:,.0f}'))\n",
    "#     ax.xaxis.set_ticks_position('top')\n",
    "#     ax.tick_params(axis='x', colors='#777777', labelsize=12)\n",
    "#     ax.set_yticks([])\n",
    "#     ax.margins(0, 0.01)\n",
    "#     ax.grid(which='major', axis='x', linestyle='-')\n",
    "#     ax.set_axisbelow(True)\n",
    "    \n",
    "#     ax.text(0, 1.15, 'Coronavirus',\n",
    "#             transform=ax.transAxes, size=24, weight=600, ha='left', va='top')\n",
    "# #     ax.text(1, 0, 'by @pratapvardhan; credit @jburnmurdoch', transform=ax.transAxes, color='#777777', ha='right',\n",
    "# #             bbox=dict(facecolor='white', alpha=0.8, edgecolor='white'))\n",
    "#     plt.box(False)"
   ]
  },
  {
   "cell_type": "code",
   "execution_count": 42,
   "metadata": {
    "execution": {
     "iopub.execute_input": "2020-11-29T00:11:32.727053Z",
     "iopub.status.busy": "2020-11-29T00:11:32.726458Z",
     "iopub.status.idle": "2020-11-29T00:11:32.728951Z",
     "shell.execute_reply": "2020-11-29T00:11:32.728484Z"
    },
    "papermill": {
     "duration": 0.035134,
     "end_time": "2020-11-29T00:11:32.729071",
     "exception": false,
     "start_time": "2020-11-29T00:11:32.693937",
     "status": "completed"
    },
    "tags": []
   },
   "outputs": [],
   "source": [
    "# #hide_input\n",
    "# fig, ax = plt.subplots(figsize=(15, 8))\n",
    "# animator = animation.FuncAnimation(fig, draw_barchart, frames=range(g.day.values.min(), g.day.values.max()))\n",
    "# HTML(animator.to_jshtml())\n",
    "# # or use animator.to_html5_video() or animator.save() "
   ]
  },
  {
   "cell_type": "code",
   "execution_count": null,
   "metadata": {
    "papermill": {
     "duration": 0.029536,
     "end_time": "2020-11-29T00:11:32.788349",
     "exception": false,
     "start_time": "2020-11-29T00:11:32.758813",
     "status": "completed"
    },
    "tags": []
   },
   "outputs": [],
   "source": []
  },
  {
   "cell_type": "code",
   "execution_count": null,
   "metadata": {
    "papermill": {
     "duration": 0.030536,
     "end_time": "2020-11-29T00:11:32.848502",
     "exception": false,
     "start_time": "2020-11-29T00:11:32.817966",
     "status": "completed"
    },
    "tags": []
   },
   "outputs": [],
   "source": []
  },
  {
   "cell_type": "code",
   "execution_count": null,
   "metadata": {
    "papermill": {
     "duration": 0.030046,
     "end_time": "2020-11-29T00:11:32.908567",
     "exception": false,
     "start_time": "2020-11-29T00:11:32.878521",
     "status": "completed"
    },
    "tags": []
   },
   "outputs": [],
   "source": []
  }
 ],
 "metadata": {
  "kernelspec": {
   "display_name": "Python 3",
   "language": "python",
   "name": "python3"
  },
  "language_info": {
   "codemirror_mode": {
    "name": "ipython",
    "version": 3
   },
   "file_extension": ".py",
   "mimetype": "text/x-python",
   "name": "python",
   "nbconvert_exporter": "python",
   "pygments_lexer": "ipython3",
   "version": "3.6.12"
  },
  "papermill": {
   "duration": 8.917012,
   "end_time": "2020-11-29T00:11:33.246294",
   "environment_variables": {},
   "exception": null,
   "input_path": "2020-03-21-covid19exp.ipynb",
   "output_path": "2020-03-21-covid19exp.ipynb",
   "parameters": {},
   "start_time": "2020-11-29T00:11:24.329282",
   "version": "2.0.0"
  }
 },
 "nbformat": 4,
 "nbformat_minor": 4
}