{
 "cells": [
  {
   "cell_type": "markdown",
   "id": "muslim-click",
   "metadata": {
    "papermill": {
     "duration": 0.034616,
     "end_time": "2022-01-18T00:28:34.256480",
     "exception": false,
     "start_time": "2022-01-18T00:28:34.221864",
     "status": "completed"
    },
    "tags": []
   },
   "source": [
    "# COVID-19 Case Race\n",
    "> A race chart to see rising cases around the world\n",
    "\n",
    "- author: Hargun Oberoi\n",
    "- image: images/covid-overview.png\n",
    "- hide: false\n",
    "- badges: false"
   ]
  },
  {
   "cell_type": "code",
   "execution_count": 1,
   "id": "proof-material",
   "metadata": {
    "execution": {
     "iopub.execute_input": "2022-01-18T00:28:34.329880Z",
     "iopub.status.busy": "2022-01-18T00:28:34.329306Z",
     "iopub.status.idle": "2022-01-18T00:28:34.689321Z",
     "shell.execute_reply": "2022-01-18T00:28:34.688687Z"
    },
    "papermill": {
     "duration": 0.402512,
     "end_time": "2022-01-18T00:28:34.689510",
     "exception": false,
     "start_time": "2022-01-18T00:28:34.286998",
     "status": "completed"
    },
    "tags": []
   },
   "outputs": [],
   "source": [
    "#hide\n",
    "import numpy as np\n",
    "import pandas as pd\n",
    "from jinja2 import Template\n",
    "from IPython.display import HTML"
   ]
  },
  {
   "cell_type": "code",
   "execution_count": 2,
   "id": "developed-terminology",
   "metadata": {
    "execution": {
     "iopub.execute_input": "2022-01-18T00:28:34.756752Z",
     "iopub.status.busy": "2022-01-18T00:28:34.756142Z",
     "iopub.status.idle": "2022-01-18T00:28:34.757390Z",
     "shell.execute_reply": "2022-01-18T00:28:34.757880Z"
    },
    "papermill": {
     "duration": 0.037787,
     "end_time": "2022-01-18T00:28:34.758025",
     "exception": false,
     "start_time": "2022-01-18T00:28:34.720238",
     "status": "completed"
    },
    "tags": []
   },
   "outputs": [],
   "source": [
    "#hide\n",
    "\n",
    "# FETCH\n",
    "base_url = 'https://raw.githubusercontent.com/pratapvardhan/notebooks/master/covid19/'\n",
    "paths = {\n",
    "    'mapping': base_url + 'mapping_countries.csv',\n",
    "    'overview': base_url + 'overview.tpl'\n",
    "}"
   ]
  },
  {
   "cell_type": "code",
   "execution_count": 3,
   "id": "dynamic-saver",
   "metadata": {
    "execution": {
     "iopub.execute_input": "2022-01-18T00:28:34.828726Z",
     "iopub.status.busy": "2022-01-18T00:28:34.828115Z",
     "iopub.status.idle": "2022-01-18T00:28:34.830143Z",
     "shell.execute_reply": "2022-01-18T00:28:34.830630Z"
    },
    "papermill": {
     "duration": 0.04307,
     "end_time": "2022-01-18T00:28:34.830774",
     "exception": false,
     "start_time": "2022-01-18T00:28:34.787704",
     "status": "completed"
    },
    "tags": []
   },
   "outputs": [
    {
     "data": {
      "text/plain": [
       "'https://raw.githubusercontent.com/pratapvardhan/notebooks/master/covid19/mapping_countries.csv'"
      ]
     },
     "execution_count": 3,
     "metadata": {},
     "output_type": "execute_result"
    }
   ],
   "source": [
    "#hide\n",
    "paths['mapping']"
   ]
  },
  {
   "cell_type": "code",
   "execution_count": 4,
   "id": "urban-software",
   "metadata": {
    "execution": {
     "iopub.execute_input": "2022-01-18T00:28:34.897600Z",
     "iopub.status.busy": "2022-01-18T00:28:34.896945Z",
     "iopub.status.idle": "2022-01-18T00:28:34.898318Z",
     "shell.execute_reply": "2022-01-18T00:28:34.898883Z"
    },
    "papermill": {
     "duration": 0.038075,
     "end_time": "2022-01-18T00:28:34.899044",
     "exception": false,
     "start_time": "2022-01-18T00:28:34.860969",
     "status": "completed"
    },
    "tags": []
   },
   "outputs": [],
   "source": [
    "#hide\n",
    "def get_mappings(url):\n",
    "    df = pd.read_csv(url)\n",
    "    return {\n",
    "        'df': df,\n",
    "        'replace.country': dict(df.dropna(subset=['Name']).set_index('Country')['Name']),\n",
    "        'map.continent': dict(df.set_index('Name')['Continent'])\n",
    "    }"
   ]
  },
  {
   "cell_type": "code",
   "execution_count": 5,
   "id": "intimate-machinery",
   "metadata": {
    "execution": {
     "iopub.execute_input": "2022-01-18T00:28:34.965049Z",
     "iopub.status.busy": "2022-01-18T00:28:34.964482Z",
     "iopub.status.idle": "2022-01-18T00:28:34.997198Z",
     "shell.execute_reply": "2022-01-18T00:28:34.996636Z"
    },
    "papermill": {
     "duration": 0.068193,
     "end_time": "2022-01-18T00:28:34.997354",
     "exception": false,
     "start_time": "2022-01-18T00:28:34.929161",
     "status": "completed"
    },
    "tags": []
   },
   "outputs": [],
   "source": [
    "#hide\n",
    "mapping = get_mappings(paths['mapping'])"
   ]
  },
  {
   "cell_type": "code",
   "execution_count": 6,
   "id": "certified-tactics",
   "metadata": {
    "execution": {
     "iopub.execute_input": "2022-01-18T00:28:35.065383Z",
     "iopub.status.busy": "2022-01-18T00:28:35.064764Z",
     "iopub.status.idle": "2022-01-18T00:28:35.068460Z",
     "shell.execute_reply": "2022-01-18T00:28:35.068862Z"
    },
    "papermill": {
     "duration": 0.040541,
     "end_time": "2022-01-18T00:28:35.069020",
     "exception": false,
     "start_time": "2022-01-18T00:28:35.028479",
     "status": "completed"
    },
    "tags": []
   },
   "outputs": [],
   "source": [
    "#hide\n",
    "def get_template(path):\n",
    "    from urllib.parse import urlparse\n",
    "    if bool(urlparse(path).netloc):\n",
    "        from urllib.request import urlopen\n",
    "        return urlopen(path).read().decode('utf8')\n",
    "    return open(path).read()"
   ]
  },
  {
   "cell_type": "code",
   "execution_count": 7,
   "id": "realistic-blast",
   "metadata": {
    "execution": {
     "iopub.execute_input": "2022-01-18T00:28:35.135309Z",
     "iopub.status.busy": "2022-01-18T00:28:35.134631Z",
     "iopub.status.idle": "2022-01-18T00:28:35.138339Z",
     "shell.execute_reply": "2022-01-18T00:28:35.137885Z"
    },
    "papermill": {
     "duration": 0.039334,
     "end_time": "2022-01-18T00:28:35.138461",
     "exception": false,
     "start_time": "2022-01-18T00:28:35.099127",
     "status": "completed"
    },
    "tags": []
   },
   "outputs": [],
   "source": [
    "#hide\n",
    "def get_frame(name):\n",
    "    url = (\n",
    "        'https://raw.githubusercontent.com/CSSEGISandData/COVID-19/master/csse_covid_19_data/'\n",
    "        f'csse_covid_19_time_series/time_series_covid19_{name}_global.csv')\n",
    "    df = pd.read_csv(url)\n",
    "    # rename countries\n",
    "    df['Country/Region'] = df['Country/Region'].replace(mapping['replace.country'])\n",
    "    return df"
   ]
  },
  {
   "cell_type": "code",
   "execution_count": 8,
   "id": "affiliated-characterization",
   "metadata": {
    "execution": {
     "iopub.execute_input": "2022-01-18T00:28:35.206159Z",
     "iopub.status.busy": "2022-01-18T00:28:35.205614Z",
     "iopub.status.idle": "2022-01-18T00:28:35.207683Z",
     "shell.execute_reply": "2022-01-18T00:28:35.208137Z"
    },
    "papermill": {
     "duration": 0.039357,
     "end_time": "2022-01-18T00:28:35.208289",
     "exception": false,
     "start_time": "2022-01-18T00:28:35.168932",
     "status": "completed"
    },
    "tags": []
   },
   "outputs": [],
   "source": [
    "#hide\n",
    "def get_dates(df):\n",
    "    dt_cols = df.columns[~df.columns.isin(['Province/State', 'Country/Region', 'Lat', 'Long'])]\n",
    "    LAST_DATE_I = -1\n",
    "    # sometimes last column may be empty, then go backwards\n",
    "    for i in range(-1, -len(dt_cols), -1):\n",
    "        if not df[dt_cols[i]].fillna(0).eq(0).all():\n",
    "            LAST_DATE_I = i\n",
    "            break\n",
    "    return LAST_DATE_I, dt_cols"
   ]
  },
  {
   "cell_type": "code",
   "execution_count": 9,
   "id": "recent-optimization",
   "metadata": {
    "execution": {
     "iopub.execute_input": "2022-01-18T00:28:35.274404Z",
     "iopub.status.busy": "2022-01-18T00:28:35.273810Z",
     "iopub.status.idle": "2022-01-18T00:28:35.598758Z",
     "shell.execute_reply": "2022-01-18T00:28:35.598159Z"
    },
    "papermill": {
     "duration": 0.360624,
     "end_time": "2022-01-18T00:28:35.598902",
     "exception": false,
     "start_time": "2022-01-18T00:28:35.238278",
     "status": "completed"
    },
    "tags": []
   },
   "outputs": [],
   "source": [
    "#hide\n",
    "COL_REGION = 'Country/Region'\n",
    "# Confirmed, Recovered, Deaths\n",
    "df = get_frame('confirmed')\n",
    "# dft_: timeseries, dfc_: today country agg\n",
    "dft_cases = df\n",
    "dft_deaths = get_frame('deaths')\n",
    "dft_recovered = get_frame('recovered')\n",
    "LAST_DATE_I, dt_cols = get_dates(df)"
   ]
  },
  {
   "cell_type": "code",
   "execution_count": 10,
   "id": "absolute-copper",
   "metadata": {
    "execution": {
     "iopub.execute_input": "2022-01-18T00:28:35.666129Z",
     "iopub.status.busy": "2022-01-18T00:28:35.665464Z",
     "iopub.status.idle": "2022-01-18T00:28:35.666846Z",
     "shell.execute_reply": "2022-01-18T00:28:35.667398Z"
    },
    "papermill": {
     "duration": 0.037991,
     "end_time": "2022-01-18T00:28:35.667555",
     "exception": false,
     "start_time": "2022-01-18T00:28:35.629564",
     "status": "completed"
    },
    "tags": []
   },
   "outputs": [],
   "source": [
    "#hide\n",
    "LAST_DATE_I, dt_cols = get_dates(df)\n",
    "dt_today =dt_cols[LAST_DATE_I]\n",
    "# dt_5day = dt_cols[LAST_DATE_I - 5]\n",
    "dt_yday = dt_cols[LAST_DATE_I - 1]"
   ]
  },
  {
   "cell_type": "code",
   "execution_count": 11,
   "id": "restricted-sheriff",
   "metadata": {
    "execution": {
     "iopub.execute_input": "2022-01-18T00:28:35.735692Z",
     "iopub.status.busy": "2022-01-18T00:28:35.735162Z",
     "iopub.status.idle": "2022-01-18T00:28:35.741127Z",
     "shell.execute_reply": "2022-01-18T00:28:35.740677Z"
    },
    "papermill": {
     "duration": 0.043437,
     "end_time": "2022-01-18T00:28:35.741243",
     "exception": false,
     "start_time": "2022-01-18T00:28:35.697806",
     "status": "completed"
    },
    "tags": []
   },
   "outputs": [],
   "source": [
    "#hide\n",
    "dfc_cases = dft_cases.groupby(COL_REGION)[dt_today].sum()\n",
    "dfc_deaths = dft_deaths.groupby(COL_REGION)[dt_today].sum()\n",
    "# dfp_cases = dft_cases.groupby(COL_REGION)[dt_5day].sum()\n",
    "# dfp_deaths = dft_deaths.groupby(COL_REGION)[dt_5day].sum()\n",
    "dfp_cases = dft_cases.groupby(COL_REGION)[dt_yday].sum()\n",
    "dfp_deaths = dft_deaths.groupby(COL_REGION)[dt_yday].sum()"
   ]
  },
  {
   "cell_type": "code",
   "execution_count": 12,
   "id": "deluxe-hepatitis",
   "metadata": {
    "execution": {
     "iopub.execute_input": "2022-01-18T00:28:35.807510Z",
     "iopub.status.busy": "2022-01-18T00:28:35.806982Z",
     "iopub.status.idle": "2022-01-18T00:28:35.810976Z",
     "shell.execute_reply": "2022-01-18T00:28:35.811449Z"
    },
    "papermill": {
     "duration": 0.040403,
     "end_time": "2022-01-18T00:28:35.811585",
     "exception": false,
     "start_time": "2022-01-18T00:28:35.771182",
     "status": "completed"
    },
    "tags": []
   },
   "outputs": [],
   "source": [
    "#hide\n",
    "df_table = (pd.DataFrame(dict(Cases = dfc_cases, Deaths = dfc_deaths, PCases = dfp_cases, PDeaths = dfp_deaths))\n",
    "            .sort_values(by = ['Cases','Deaths'], ascending = [False, False])\n",
    "            .reset_index())"
   ]
  },
  {
   "cell_type": "code",
   "execution_count": 13,
   "id": "educational-chancellor",
   "metadata": {
    "execution": {
     "iopub.execute_input": "2022-01-18T00:28:35.890934Z",
     "iopub.status.busy": "2022-01-18T00:28:35.890385Z",
     "iopub.status.idle": "2022-01-18T00:28:35.897448Z",
     "shell.execute_reply": "2022-01-18T00:28:35.897863Z"
    },
    "papermill": {
     "duration": 0.056873,
     "end_time": "2022-01-18T00:28:35.898004",
     "exception": false,
     "start_time": "2022-01-18T00:28:35.841131",
     "status": "completed"
    },
    "tags": []
   },
   "outputs": [
    {
     "data": {
      "text/html": [
       "<div>\n",
       "<style scoped>\n",
       "    .dataframe tbody tr th:only-of-type {\n",
       "        vertical-align: middle;\n",
       "    }\n",
       "\n",
       "    .dataframe tbody tr th {\n",
       "        vertical-align: top;\n",
       "    }\n",
       "\n",
       "    .dataframe thead th {\n",
       "        text-align: right;\n",
       "    }\n",
       "</style>\n",
       "<table border=\"1\" class=\"dataframe\">\n",
       "  <thead>\n",
       "    <tr style=\"text-align: right;\">\n",
       "      <th></th>\n",
       "      <th>Country/Region</th>\n",
       "      <th>Cases</th>\n",
       "      <th>Deaths</th>\n",
       "      <th>PCases</th>\n",
       "      <th>PDeaths</th>\n",
       "      <th>Cases (+)</th>\n",
       "      <th>Deaths (+)</th>\n",
       "      <th>Fatality Rate</th>\n",
       "      <th>Continent</th>\n",
       "    </tr>\n",
       "  </thead>\n",
       "  <tbody>\n",
       "    <tr>\n",
       "      <th>0</th>\n",
       "      <td>US</td>\n",
       "      <td>65703875</td>\n",
       "      <td>850608</td>\n",
       "      <td>65445434</td>\n",
       "      <td>850060</td>\n",
       "      <td>258441</td>\n",
       "      <td>548</td>\n",
       "      <td>1.29</td>\n",
       "      <td>North America</td>\n",
       "    </tr>\n",
       "    <tr>\n",
       "      <th>1</th>\n",
       "      <td>India</td>\n",
       "      <td>37380253</td>\n",
       "      <td>486451</td>\n",
       "      <td>37122164</td>\n",
       "      <td>486066</td>\n",
       "      <td>258089</td>\n",
       "      <td>385</td>\n",
       "      <td>1.30</td>\n",
       "      <td>Asia</td>\n",
       "    </tr>\n",
       "    <tr>\n",
       "      <th>2</th>\n",
       "      <td>Brazil</td>\n",
       "      <td>23015128</td>\n",
       "      <td>621327</td>\n",
       "      <td>22981851</td>\n",
       "      <td>621233</td>\n",
       "      <td>33277</td>\n",
       "      <td>94</td>\n",
       "      <td>2.70</td>\n",
       "      <td>South America</td>\n",
       "    </tr>\n",
       "    <tr>\n",
       "      <th>3</th>\n",
       "      <td>United Kingdom</td>\n",
       "      <td>15316542</td>\n",
       "      <td>152483</td>\n",
       "      <td>15246179</td>\n",
       "      <td>152395</td>\n",
       "      <td>70363</td>\n",
       "      <td>88</td>\n",
       "      <td>1.00</td>\n",
       "      <td>Europe</td>\n",
       "    </tr>\n",
       "    <tr>\n",
       "      <th>4</th>\n",
       "      <td>France</td>\n",
       "      <td>14283514</td>\n",
       "      <td>127957</td>\n",
       "      <td>14005385</td>\n",
       "      <td>127859</td>\n",
       "      <td>278129</td>\n",
       "      <td>98</td>\n",
       "      <td>0.90</td>\n",
       "      <td>Europe</td>\n",
       "    </tr>\n",
       "  </tbody>\n",
       "</table>\n",
       "</div>"
      ],
      "text/plain": [
       "   Country/Region     Cases  Deaths    PCases  PDeaths  Cases (+)  Deaths (+)  \\\n",
       "0              US  65703875  850608  65445434   850060     258441         548   \n",
       "1           India  37380253  486451  37122164   486066     258089         385   \n",
       "2          Brazil  23015128  621327  22981851   621233      33277          94   \n",
       "3  United Kingdom  15316542  152483  15246179   152395      70363          88   \n",
       "4          France  14283514  127957  14005385   127859     278129          98   \n",
       "\n",
       "   Fatality Rate      Continent  \n",
       "0           1.29  North America  \n",
       "1           1.30           Asia  \n",
       "2           2.70  South America  \n",
       "3           1.00         Europe  \n",
       "4           0.90         Europe  "
      ]
     },
     "execution_count": 13,
     "metadata": {},
     "output_type": "execute_result"
    }
   ],
   "source": [
    "#hide\n",
    "for c in 'Cases, Deaths'.split(', '):\n",
    "    df_table[f'{c} (+)'] = (df_table[c] - df_table[f'P{c}']).clip(0)\n",
    "    #Clip ça veut dire, les chiffres negatif sont interdit\n",
    "df_table['Fatality Rate'] = (100* df_table['Deaths']/ df_table['Cases']).round(2)\n",
    "df_table['Continent'] = df_table['Country/Region'].map(mapping['map.continent'])\n",
    "df_table.head(5)"
   ]
  },
  {
   "cell_type": "code",
   "execution_count": 14,
   "id": "aboriginal-bulgaria",
   "metadata": {
    "execution": {
     "iopub.execute_input": "2022-01-18T00:28:35.966089Z",
     "iopub.status.busy": "2022-01-18T00:28:35.965551Z",
     "iopub.status.idle": "2022-01-18T00:28:35.967660Z",
     "shell.execute_reply": "2022-01-18T00:28:35.968188Z"
    },
    "papermill": {
     "duration": 0.039581,
     "end_time": "2022-01-18T00:28:35.968335",
     "exception": false,
     "start_time": "2022-01-18T00:28:35.928754",
     "status": "completed"
    },
    "tags": []
   },
   "outputs": [],
   "source": [
    "#hide\n",
    "#delete problematic countries from table\n",
    "df_table = df_table[~df_table['Country/Region'].isin(['Cape Verde', 'Cruise Ship', 'Kosovo'])]"
   ]
  },
  {
   "cell_type": "code",
   "execution_count": 15,
   "id": "fantastic-effect",
   "metadata": {
    "execution": {
     "iopub.execute_input": "2022-01-18T00:28:36.038391Z",
     "iopub.status.busy": "2022-01-18T00:28:36.037841Z",
     "iopub.status.idle": "2022-01-18T00:28:36.055922Z",
     "shell.execute_reply": "2022-01-18T00:28:36.055468Z"
    },
    "papermill": {
     "duration": 0.057574,
     "end_time": "2022-01-18T00:28:36.056045",
     "exception": false,
     "start_time": "2022-01-18T00:28:35.998471",
     "status": "completed"
    },
    "tags": []
   },
   "outputs": [
    {
     "data": {
      "text/html": [
       "<div>\n",
       "<style scoped>\n",
       "    .dataframe tbody tr th:only-of-type {\n",
       "        vertical-align: middle;\n",
       "    }\n",
       "\n",
       "    .dataframe tbody tr th {\n",
       "        vertical-align: top;\n",
       "    }\n",
       "\n",
       "    .dataframe thead th {\n",
       "        text-align: right;\n",
       "    }\n",
       "</style>\n",
       "<table border=\"1\" class=\"dataframe\">\n",
       "  <thead>\n",
       "    <tr style=\"text-align: right;\">\n",
       "      <th></th>\n",
       "      <th>Country/Region</th>\n",
       "      <th>Cases</th>\n",
       "      <th>Deaths</th>\n",
       "      <th>PCases</th>\n",
       "      <th>PDeaths</th>\n",
       "      <th>Cases (+)</th>\n",
       "      <th>Deaths (+)</th>\n",
       "      <th>Fatality Rate</th>\n",
       "      <th>Continent</th>\n",
       "    </tr>\n",
       "  </thead>\n",
       "  <tbody>\n",
       "    <tr>\n",
       "      <th>0</th>\n",
       "      <td>US</td>\n",
       "      <td>65703875</td>\n",
       "      <td>850608</td>\n",
       "      <td>65445434</td>\n",
       "      <td>850060</td>\n",
       "      <td>258441</td>\n",
       "      <td>548</td>\n",
       "      <td>1.3</td>\n",
       "      <td>North America</td>\n",
       "    </tr>\n",
       "    <tr>\n",
       "      <th>1</th>\n",
       "      <td>India</td>\n",
       "      <td>37380253</td>\n",
       "      <td>486451</td>\n",
       "      <td>37122164</td>\n",
       "      <td>486066</td>\n",
       "      <td>258089</td>\n",
       "      <td>385</td>\n",
       "      <td>1.3</td>\n",
       "      <td>Asia</td>\n",
       "    </tr>\n",
       "    <tr>\n",
       "      <th>2</th>\n",
       "      <td>Brazil</td>\n",
       "      <td>23015128</td>\n",
       "      <td>621327</td>\n",
       "      <td>22981851</td>\n",
       "      <td>621233</td>\n",
       "      <td>33277</td>\n",
       "      <td>94</td>\n",
       "      <td>2.7</td>\n",
       "      <td>South America</td>\n",
       "    </tr>\n",
       "    <tr>\n",
       "      <th>3</th>\n",
       "      <td>United Kingdom</td>\n",
       "      <td>15316542</td>\n",
       "      <td>152483</td>\n",
       "      <td>15246179</td>\n",
       "      <td>152395</td>\n",
       "      <td>70363</td>\n",
       "      <td>88</td>\n",
       "      <td>1.0</td>\n",
       "      <td>Europe</td>\n",
       "    </tr>\n",
       "    <tr>\n",
       "      <th>4</th>\n",
       "      <td>France</td>\n",
       "      <td>14283514</td>\n",
       "      <td>127957</td>\n",
       "      <td>14005385</td>\n",
       "      <td>127859</td>\n",
       "      <td>278129</td>\n",
       "      <td>98</td>\n",
       "      <td>0.9</td>\n",
       "      <td>Europe</td>\n",
       "    </tr>\n",
       "  </tbody>\n",
       "</table>\n",
       "</div>"
      ],
      "text/plain": [
       "   Country/Region     Cases  Deaths    PCases  PDeaths  Cases (+)  Deaths (+)  \\\n",
       "0              US  65703875  850608  65445434   850060     258441         548   \n",
       "1           India  37380253  486451  37122164   486066     258089         385   \n",
       "2          Brazil  23015128  621327  22981851   621233      33277          94   \n",
       "3  United Kingdom  15316542  152483  15246179   152395      70363          88   \n",
       "4          France  14283514  127957  14005385   127859     278129          98   \n",
       "\n",
       "   Fatality Rate      Continent  \n",
       "0            1.3  North America  \n",
       "1            1.3           Asia  \n",
       "2            2.7  South America  \n",
       "3            1.0         Europe  \n",
       "4            0.9         Europe  "
      ]
     },
     "execution_count": 15,
     "metadata": {},
     "output_type": "execute_result"
    }
   ],
   "source": [
    "#hide\n",
    "df_table = (pd.DataFrame(dict(Cases=dfc_cases, Deaths=dfc_deaths, PCases=dfp_cases, PDeaths=dfp_deaths))\n",
    "             .sort_values(by=['Cases', 'Deaths'], ascending=[False, False])\n",
    "             .reset_index())\n",
    "df_table.rename(columns={'index': 'Country/Region'}, inplace=True)\n",
    "for c in 'Cases, Deaths'.split(', '):\n",
    "    df_table[f'{c} (+)'] = (df_table[c] - df_table[f'P{c}']).clip(0)  # DATA BUG\n",
    "df_table['Fatality Rate'] = (100 * df_table['Deaths'] / df_table['Cases']).round(1)\n",
    "df_table['Continent'] = df_table['Country/Region'].map(mapping['map.continent'])\n",
    "df_table.head(5)"
   ]
  },
  {
   "cell_type": "code",
   "execution_count": 16,
   "id": "fewer-occasion",
   "metadata": {
    "execution": {
     "iopub.execute_input": "2022-01-18T00:28:36.123929Z",
     "iopub.status.busy": "2022-01-18T00:28:36.123391Z",
     "iopub.status.idle": "2022-01-18T00:28:36.126478Z",
     "shell.execute_reply": "2022-01-18T00:28:36.126055Z"
    },
    "papermill": {
     "duration": 0.039556,
     "end_time": "2022-01-18T00:28:36.126595",
     "exception": false,
     "start_time": "2022-01-18T00:28:36.087039",
     "status": "completed"
    },
    "tags": []
   },
   "outputs": [],
   "source": [
    "#hide\n",
    "#delete problematic countries from table\n",
    "df_table = df_table[~df_table['Country/Region'].isin(['Cape Verde', 'Cruise Ship', 'Kosovo'])]"
   ]
  },
  {
   "cell_type": "code",
   "execution_count": 17,
   "id": "related-center",
   "metadata": {
    "execution": {
     "iopub.execute_input": "2022-01-18T00:28:36.207703Z",
     "iopub.status.busy": "2022-01-18T00:28:36.207122Z",
     "iopub.status.idle": "2022-01-18T00:28:36.210750Z",
     "shell.execute_reply": "2022-01-18T00:28:36.210298Z"
    },
    "papermill": {
     "duration": 0.053533,
     "end_time": "2022-01-18T00:28:36.210871",
     "exception": false,
     "start_time": "2022-01-18T00:28:36.157338",
     "status": "completed"
    },
    "tags": []
   },
   "outputs": [],
   "source": [
    "#hide\n",
    "metrics = [df_table.columns[index] for index in [1,2,5,6]]\n",
    "# s_china = df_table[df_table['Country/Region'].eq('China')][metrics].sum().add_prefix('China ')\n",
    "s_us = df_table[df_table['Country/Region'].eq('US')][metrics].sum().add_prefix('US ')\n",
    "s_eu = df_table[df_table['Continent'].eq('Europe')][metrics].sum().add_prefix('EU ')\n",
    "s_ind = df_table[df_table['Country/Region'].eq('India')][metrics].sum().add_prefix('India ')\n",
    "summary = {'updated': pd.to_datetime(dt_today), 'since': pd.to_datetime(dt_yday)}\n",
    "summary = {'updated': pd.to_datetime(dt_today), 'since': pd.to_datetime(dt_yday)}\n",
    "summary = {**summary, **df_table[metrics].sum(), **s_ind, **s_us, **s_eu}"
   ]
  },
  {
   "cell_type": "code",
   "execution_count": 18,
   "id": "engaging-syndrome",
   "metadata": {
    "execution": {
     "iopub.execute_input": "2022-01-18T00:28:36.279027Z",
     "iopub.status.busy": "2022-01-18T00:28:36.278482Z",
     "iopub.status.idle": "2022-01-18T00:28:36.294516Z",
     "shell.execute_reply": "2022-01-18T00:28:36.294068Z"
    },
    "papermill": {
     "duration": 0.052859,
     "end_time": "2022-01-18T00:28:36.294647",
     "exception": false,
     "start_time": "2022-01-18T00:28:36.241788",
     "status": "completed"
    },
    "tags": []
   },
   "outputs": [],
   "source": [
    "#hide\n",
    "dft_ct_new_cases = dft_cases.groupby(COL_REGION)[dt_cols].sum().diff(axis=1).fillna(0).astype(int)"
   ]
  },
  {
   "cell_type": "code",
   "execution_count": 19,
   "id": "neutral-assignment",
   "metadata": {
    "execution": {
     "iopub.execute_input": "2022-01-18T00:28:36.365136Z",
     "iopub.status.busy": "2022-01-18T00:28:36.364432Z",
     "iopub.status.idle": "2022-01-18T00:28:36.367282Z",
     "shell.execute_reply": "2022-01-18T00:28:36.366843Z"
    },
    "papermill": {
     "duration": 0.041551,
     "end_time": "2022-01-18T00:28:36.367413",
     "exception": false,
     "start_time": "2022-01-18T00:28:36.325862",
     "status": "completed"
    },
    "tags": []
   },
   "outputs": [],
   "source": [
    "#hide\n",
    "everydaycases = dft_ct_new_cases.cumsum(axis=1)"
   ]
  },
  {
   "cell_type": "code",
   "execution_count": 20,
   "id": "parliamentary-calgary",
   "metadata": {
    "execution": {
     "iopub.execute_input": "2022-01-18T00:28:36.435433Z",
     "iopub.status.busy": "2022-01-18T00:28:36.434875Z",
     "iopub.status.idle": "2022-01-18T00:28:37.050776Z",
     "shell.execute_reply": "2022-01-18T00:28:37.051270Z"
    },
    "papermill": {
     "duration": 0.652397,
     "end_time": "2022-01-18T00:28:37.051465",
     "exception": false,
     "start_time": "2022-01-18T00:28:36.399068",
     "status": "completed"
    },
    "tags": []
   },
   "outputs": [],
   "source": [
    "#hide\n",
    "import pandas as pd\n",
    "import matplotlib.pyplot as plt\n",
    "import matplotlib.ticker as ticker\n",
    "import matplotlib.animation as animation\n",
    "from IPython.display import HTML"
   ]
  },
  {
   "cell_type": "code",
   "execution_count": 21,
   "id": "lasting-extraction",
   "metadata": {
    "execution": {
     "iopub.execute_input": "2022-01-18T00:28:37.120121Z",
     "iopub.status.busy": "2022-01-18T00:28:37.119560Z",
     "iopub.status.idle": "2022-01-18T00:28:37.126400Z",
     "shell.execute_reply": "2022-01-18T00:28:37.125974Z"
    },
    "papermill": {
     "duration": 0.044169,
     "end_time": "2022-01-18T00:28:37.126523",
     "exception": false,
     "start_time": "2022-01-18T00:28:37.082354",
     "status": "completed"
    },
    "tags": []
   },
   "outputs": [],
   "source": [
    "#hide\n",
    "t = everydaycases.stack()"
   ]
  },
  {
   "cell_type": "code",
   "execution_count": 22,
   "id": "premier-sleeve",
   "metadata": {
    "execution": {
     "iopub.execute_input": "2022-01-18T00:28:37.194088Z",
     "iopub.status.busy": "2022-01-18T00:28:37.193535Z",
     "iopub.status.idle": "2022-01-18T00:28:37.203851Z",
     "shell.execute_reply": "2022-01-18T00:28:37.203398Z"
    },
    "papermill": {
     "duration": 0.046549,
     "end_time": "2022-01-18T00:28:37.203972",
     "exception": false,
     "start_time": "2022-01-18T00:28:37.157423",
     "status": "completed"
    },
    "tags": []
   },
   "outputs": [],
   "source": [
    "#hide\n",
    "g = t.reset_index(['Country/Region'])"
   ]
  },
  {
   "cell_type": "code",
   "execution_count": 23,
   "id": "distributed-pittsburgh",
   "metadata": {
    "execution": {
     "iopub.execute_input": "2022-01-18T00:28:37.270176Z",
     "iopub.status.busy": "2022-01-18T00:28:37.269538Z",
     "iopub.status.idle": "2022-01-18T00:28:37.271163Z",
     "shell.execute_reply": "2022-01-18T00:28:37.271603Z"
    },
    "papermill": {
     "duration": 0.037167,
     "end_time": "2022-01-18T00:28:37.271763",
     "exception": false,
     "start_time": "2022-01-18T00:28:37.234596",
     "status": "completed"
    },
    "tags": []
   },
   "outputs": [],
   "source": [
    "#hide\n",
    "g.index.name = 'date'"
   ]
  },
  {
   "cell_type": "code",
   "execution_count": 24,
   "id": "naked-donor",
   "metadata": {
    "execution": {
     "iopub.execute_input": "2022-01-18T00:28:37.338471Z",
     "iopub.status.busy": "2022-01-18T00:28:37.337930Z",
     "iopub.status.idle": "2022-01-18T00:28:37.339957Z",
     "shell.execute_reply": "2022-01-18T00:28:37.340501Z"
    },
    "papermill": {
     "duration": 0.037657,
     "end_time": "2022-01-18T00:28:37.340644",
     "exception": false,
     "start_time": "2022-01-18T00:28:37.302987",
     "status": "completed"
    },
    "tags": []
   },
   "outputs": [],
   "source": [
    "# #hide\n",
    "# g = g.reset_index(['date'])"
   ]
  },
  {
   "cell_type": "code",
   "execution_count": 25,
   "id": "incomplete-mustang",
   "metadata": {
    "execution": {
     "iopub.execute_input": "2022-01-18T00:28:37.406925Z",
     "iopub.status.busy": "2022-01-18T00:28:37.406333Z",
     "iopub.status.idle": "2022-01-18T00:28:37.409275Z",
     "shell.execute_reply": "2022-01-18T00:28:37.408842Z"
    },
    "papermill": {
     "duration": 0.038046,
     "end_time": "2022-01-18T00:28:37.409397",
     "exception": false,
     "start_time": "2022-01-18T00:28:37.371351",
     "status": "completed"
    },
    "tags": []
   },
   "outputs": [],
   "source": [
    "#hide\n",
    "# g.head()"
   ]
  },
  {
   "cell_type": "code",
   "execution_count": 26,
   "id": "specific-kruger",
   "metadata": {
    "execution": {
     "iopub.execute_input": "2022-01-18T00:28:37.476704Z",
     "iopub.status.busy": "2022-01-18T00:28:37.476011Z",
     "iopub.status.idle": "2022-01-18T00:28:37.477442Z",
     "shell.execute_reply": "2022-01-18T00:28:37.477958Z"
    },
    "papermill": {
     "duration": 0.037295,
     "end_time": "2022-01-18T00:28:37.478106",
     "exception": false,
     "start_time": "2022-01-18T00:28:37.440811",
     "status": "completed"
    },
    "tags": []
   },
   "outputs": [],
   "source": [
    "#hide\n",
    "# g.columns = ['date','country','cases']"
   ]
  },
  {
   "cell_type": "code",
   "execution_count": 27,
   "id": "tender-conversion",
   "metadata": {
    "execution": {
     "iopub.execute_input": "2022-01-18T00:28:37.544209Z",
     "iopub.status.busy": "2022-01-18T00:28:37.543507Z",
     "iopub.status.idle": "2022-01-18T00:28:37.547257Z",
     "shell.execute_reply": "2022-01-18T00:28:37.546773Z"
    },
    "papermill": {
     "duration": 0.038561,
     "end_time": "2022-01-18T00:28:37.547393",
     "exception": false,
     "start_time": "2022-01-18T00:28:37.508832",
     "status": "completed"
    },
    "tags": []
   },
   "outputs": [],
   "source": [
    "#hide\n",
    "# g['continent'] = g.country"
   ]
  },
  {
   "cell_type": "code",
   "execution_count": 28,
   "id": "substantial-wilderness",
   "metadata": {
    "execution": {
     "iopub.execute_input": "2022-01-18T00:28:37.614456Z",
     "iopub.status.busy": "2022-01-18T00:28:37.613797Z",
     "iopub.status.idle": "2022-01-18T00:28:37.617192Z",
     "shell.execute_reply": "2022-01-18T00:28:37.617636Z"
    },
    "papermill": {
     "duration": 0.038895,
     "end_time": "2022-01-18T00:28:37.617796",
     "exception": false,
     "start_time": "2022-01-18T00:28:37.578901",
     "status": "completed"
    },
    "tags": []
   },
   "outputs": [],
   "source": [
    "#hide\n",
    "# cols = list(g.columns.values)"
   ]
  },
  {
   "cell_type": "code",
   "execution_count": 29,
   "id": "solved-farming",
   "metadata": {
    "execution": {
     "iopub.execute_input": "2022-01-18T00:28:37.684720Z",
     "iopub.status.busy": "2022-01-18T00:28:37.684023Z",
     "iopub.status.idle": "2022-01-18T00:28:37.685388Z",
     "shell.execute_reply": "2022-01-18T00:28:37.685943Z"
    },
    "papermill": {
     "duration": 0.037114,
     "end_time": "2022-01-18T00:28:37.686099",
     "exception": false,
     "start_time": "2022-01-18T00:28:37.648985",
     "status": "completed"
    },
    "tags": []
   },
   "outputs": [],
   "source": [
    "#hide\n",
    "# cols.insert(0, cols.pop())"
   ]
  },
  {
   "cell_type": "code",
   "execution_count": 30,
   "id": "executed-adoption",
   "metadata": {
    "execution": {
     "iopub.execute_input": "2022-01-18T00:28:37.752998Z",
     "iopub.status.busy": "2022-01-18T00:28:37.752352Z",
     "iopub.status.idle": "2022-01-18T00:28:37.753602Z",
     "shell.execute_reply": "2022-01-18T00:28:37.754090Z"
    },
    "papermill": {
     "duration": 0.036636,
     "end_time": "2022-01-18T00:28:37.754233",
     "exception": false,
     "start_time": "2022-01-18T00:28:37.717597",
     "status": "completed"
    },
    "tags": []
   },
   "outputs": [],
   "source": [
    "#hide\n",
    "# g = g[cols]"
   ]
  },
  {
   "cell_type": "code",
   "execution_count": 31,
   "id": "subject-dublin",
   "metadata": {
    "execution": {
     "iopub.execute_input": "2022-01-18T00:28:37.820341Z",
     "iopub.status.busy": "2022-01-18T00:28:37.819638Z",
     "iopub.status.idle": "2022-01-18T00:28:37.821020Z",
     "shell.execute_reply": "2022-01-18T00:28:37.821585Z"
    },
    "papermill": {
     "duration": 0.036684,
     "end_time": "2022-01-18T00:28:37.821747",
     "exception": false,
     "start_time": "2022-01-18T00:28:37.785063",
     "status": "completed"
    },
    "tags": []
   },
   "outputs": [],
   "source": [
    "#hide\n",
    "# g['continent'] = g['continent'].map(mapping['map.continent'])"
   ]
  },
  {
   "cell_type": "code",
   "execution_count": 32,
   "id": "freelance-scout",
   "metadata": {
    "execution": {
     "iopub.execute_input": "2022-01-18T00:28:37.888591Z",
     "iopub.status.busy": "2022-01-18T00:28:37.887974Z",
     "iopub.status.idle": "2022-01-18T00:28:37.889409Z",
     "shell.execute_reply": "2022-01-18T00:28:37.889846Z"
    },
    "papermill": {
     "duration": 0.036723,
     "end_time": "2022-01-18T00:28:37.889986",
     "exception": false,
     "start_time": "2022-01-18T00:28:37.853263",
     "status": "completed"
    },
    "tags": []
   },
   "outputs": [],
   "source": [
    "#hide\n",
    "# g.head()"
   ]
  },
  {
   "cell_type": "code",
   "execution_count": 33,
   "id": "limited-engine",
   "metadata": {
    "execution": {
     "iopub.execute_input": "2022-01-18T00:28:37.957576Z",
     "iopub.status.busy": "2022-01-18T00:28:37.956915Z",
     "iopub.status.idle": "2022-01-18T00:28:37.960416Z",
     "shell.execute_reply": "2022-01-18T00:28:37.960818Z"
    },
    "papermill": {
     "duration": 0.039172,
     "end_time": "2022-01-18T00:28:37.960967",
     "exception": false,
     "start_time": "2022-01-18T00:28:37.921795",
     "status": "completed"
    },
    "tags": []
   },
   "outputs": [],
   "source": [
    "# hide\n",
    "# g['date'] = g['date'].astype('datetime64[ns]')"
   ]
  },
  {
   "cell_type": "code",
   "execution_count": 34,
   "id": "sophisticated-supervisor",
   "metadata": {
    "execution": {
     "iopub.execute_input": "2022-01-18T00:28:38.027952Z",
     "iopub.status.busy": "2022-01-18T00:28:38.027271Z",
     "iopub.status.idle": "2022-01-18T00:28:38.029228Z",
     "shell.execute_reply": "2022-01-18T00:28:38.028651Z"
    },
    "papermill": {
     "duration": 0.037277,
     "end_time": "2022-01-18T00:28:38.029360",
     "exception": false,
     "start_time": "2022-01-18T00:28:37.992083",
     "status": "completed"
    },
    "tags": []
   },
   "outputs": [],
   "source": [
    "#hide\n",
    "# g['date'] = g.date.dt.dayofyear"
   ]
  },
  {
   "cell_type": "code",
   "execution_count": 35,
   "id": "inside-dubai",
   "metadata": {
    "execution": {
     "iopub.execute_input": "2022-01-18T00:28:38.095461Z",
     "iopub.status.busy": "2022-01-18T00:28:38.094923Z",
     "iopub.status.idle": "2022-01-18T00:28:38.096838Z",
     "shell.execute_reply": "2022-01-18T00:28:38.097282Z"
    },
    "papermill": {
     "duration": 0.037338,
     "end_time": "2022-01-18T00:28:38.097423",
     "exception": false,
     "start_time": "2022-01-18T00:28:38.060085",
     "status": "completed"
    },
    "tags": []
   },
   "outputs": [],
   "source": [
    "#hide\n",
    "# g = g.rename(columns= {'continent':'group','country':'name','cases':'value'})"
   ]
  },
  {
   "cell_type": "code",
   "execution_count": 36,
   "id": "fleet-motorcycle",
   "metadata": {
    "execution": {
     "iopub.execute_input": "2022-01-18T00:28:38.163146Z",
     "iopub.status.busy": "2022-01-18T00:28:38.162505Z",
     "iopub.status.idle": "2022-01-18T00:28:38.163954Z",
     "shell.execute_reply": "2022-01-18T00:28:38.164470Z"
    },
    "papermill": {
     "duration": 0.036398,
     "end_time": "2022-01-18T00:28:38.164613",
     "exception": false,
     "start_time": "2022-01-18T00:28:38.128215",
     "status": "completed"
    },
    "tags": []
   },
   "outputs": [],
   "source": [
    "#hide\n",
    "# cols = ['name','group','day','value']"
   ]
  },
  {
   "cell_type": "code",
   "execution_count": 37,
   "id": "continued-sleeping",
   "metadata": {
    "execution": {
     "iopub.execute_input": "2022-01-18T00:28:38.230734Z",
     "iopub.status.busy": "2022-01-18T00:28:38.230096Z",
     "iopub.status.idle": "2022-01-18T00:28:38.231542Z",
     "shell.execute_reply": "2022-01-18T00:28:38.232108Z"
    },
    "papermill": {
     "duration": 0.036696,
     "end_time": "2022-01-18T00:28:38.232264",
     "exception": false,
     "start_time": "2022-01-18T00:28:38.195568",
     "status": "completed"
    },
    "tags": []
   },
   "outputs": [],
   "source": [
    "#hide\n",
    "# g.rename(columns= {'date':'day'},inplace = True)"
   ]
  },
  {
   "cell_type": "code",
   "execution_count": 38,
   "id": "major-fight",
   "metadata": {
    "execution": {
     "iopub.execute_input": "2022-01-18T00:28:38.298813Z",
     "iopub.status.busy": "2022-01-18T00:28:38.298215Z",
     "iopub.status.idle": "2022-01-18T00:28:38.300352Z",
     "shell.execute_reply": "2022-01-18T00:28:38.299900Z"
    },
    "papermill": {
     "duration": 0.036924,
     "end_time": "2022-01-18T00:28:38.300475",
     "exception": false,
     "start_time": "2022-01-18T00:28:38.263551",
     "status": "completed"
    },
    "tags": []
   },
   "outputs": [],
   "source": [
    "#hide\n",
    "# g = g[cols]"
   ]
  },
  {
   "cell_type": "code",
   "execution_count": 39,
   "id": "structured-mobile",
   "metadata": {
    "execution": {
     "iopub.execute_input": "2022-01-18T00:28:38.366752Z",
     "iopub.status.busy": "2022-01-18T00:28:38.366077Z",
     "iopub.status.idle": "2022-01-18T00:28:38.369747Z",
     "shell.execute_reply": "2022-01-18T00:28:38.370170Z"
    },
    "papermill": {
     "duration": 0.039055,
     "end_time": "2022-01-18T00:28:38.370314",
     "exception": false,
     "start_time": "2022-01-18T00:28:38.331259",
     "status": "completed"
    },
    "tags": []
   },
   "outputs": [],
   "source": [
    "# #hide\n",
    "# g = g[g.group.notna()]"
   ]
  },
  {
   "cell_type": "code",
   "execution_count": 40,
   "id": "determined-closing",
   "metadata": {
    "execution": {
     "iopub.execute_input": "2022-01-18T00:28:38.436158Z",
     "iopub.status.busy": "2022-01-18T00:28:38.435560Z",
     "iopub.status.idle": "2022-01-18T00:28:38.437692Z",
     "shell.execute_reply": "2022-01-18T00:28:38.437175Z"
    },
    "papermill": {
     "duration": 0.036727,
     "end_time": "2022-01-18T00:28:38.437810",
     "exception": false,
     "start_time": "2022-01-18T00:28:38.401083",
     "status": "completed"
    },
    "tags": []
   },
   "outputs": [],
   "source": [
    "# #hide\n",
    "# colors = dict(zip(\n",
    "#     [\"Oceania\", \"Europe\", \"Asia\", \"South America\", \"Middle East\", \"North America\", \"Africa\"],\n",
    "#     [\"#adb0ff\", \"#ffb3ff\", \"#90d595\", \"#e48381\", \"#aafbff\", \"#f7bb5f\", \"#eafb50\"]\n",
    "# ))\n",
    "# group_lk = g.set_index('name')['group'].to_dict()"
   ]
  },
  {
   "cell_type": "code",
   "execution_count": null,
   "id": "gross-drinking",
   "metadata": {
    "papermill": {
     "duration": 0.031019,
     "end_time": "2022-01-18T00:28:38.499323",
     "exception": false,
     "start_time": "2022-01-18T00:28:38.468304",
     "status": "completed"
    },
    "tags": []
   },
   "outputs": [],
   "source": []
  },
  {
   "cell_type": "code",
   "execution_count": 41,
   "id": "subject-macintosh",
   "metadata": {
    "execution": {
     "iopub.execute_input": "2022-01-18T00:28:38.566161Z",
     "iopub.status.busy": "2022-01-18T00:28:38.565562Z",
     "iopub.status.idle": "2022-01-18T00:28:38.569049Z",
     "shell.execute_reply": "2022-01-18T00:28:38.569456Z"
    },
    "papermill": {
     "duration": 0.039436,
     "end_time": "2022-01-18T00:28:38.569614",
     "exception": false,
     "start_time": "2022-01-18T00:28:38.530178",
     "status": "completed"
    },
    "tags": []
   },
   "outputs": [],
   "source": [
    "# #hide\n",
    "# fig, ax = plt.subplots(figsize=(15, 8))\n",
    "\n",
    "# def draw_barchart(current_day):\n",
    "#     dff = g[g['day'].eq(current_day)].sort_values(by='value', ascending=True).tail(10)\n",
    "#     ax.clear()\n",
    "#     ax.barh(dff['name'], dff['value'], color=[colors[group_lk[x]] for x in dff['name']])\n",
    "#     dx = dff['value'].max() / 200\n",
    "    \n",
    "#     for i, (value, name) in enumerate(zip(dff['value'], dff['name'])):\n",
    "#         ax.text(value-dx, i,     name,           size=14, weight=600, ha='right', va='bottom')\n",
    "#         ax.text(value-dx, i-.25, group_lk[name], size=10, color='#444444', ha='right', va='baseline')\n",
    "#         ax.text(value+dx, i,     f'{value:,.0f}',  size=14, ha='left',  va='center')\n",
    "#     ax.text(1, 0.4, current_day, transform=ax.transAxes, color='#777777', size=46, ha='right', weight=800)\n",
    "#     ax.text(0, 1.06, 'Population (thousands)', transform=ax.transAxes, size=12, color='#777777')\n",
    "#     ax.xaxis.set_major_formatter(ticker.StrMethodFormatter('{x:,.0f}'))\n",
    "#     ax.xaxis.set_ticks_position('top')\n",
    "#     ax.tick_params(axis='x', colors='#777777', labelsize=12)\n",
    "#     ax.set_yticks([])\n",
    "#     ax.margins(0, 0.01)\n",
    "#     ax.grid(which='major', axis='x', linestyle='-')\n",
    "#     ax.set_axisbelow(True)\n",
    "    \n",
    "#     ax.text(0, 1.15, 'Coronavirus',\n",
    "#             transform=ax.transAxes, size=24, weight=600, ha='left', va='top')\n",
    "# #     ax.text(1, 0, 'by @pratapvardhan; credit @jburnmurdoch', transform=ax.transAxes, color='#777777', ha='right',\n",
    "# #             bbox=dict(facecolor='white', alpha=0.8, edgecolor='white'))\n",
    "#     plt.box(False)"
   ]
  },
  {
   "cell_type": "code",
   "execution_count": 42,
   "id": "sexual-wages",
   "metadata": {
    "execution": {
     "iopub.execute_input": "2022-01-18T00:28:38.636521Z",
     "iopub.status.busy": "2022-01-18T00:28:38.635860Z",
     "iopub.status.idle": "2022-01-18T00:28:38.637734Z",
     "shell.execute_reply": "2022-01-18T00:28:38.637222Z"
    },
    "papermill": {
     "duration": 0.037129,
     "end_time": "2022-01-18T00:28:38.637856",
     "exception": false,
     "start_time": "2022-01-18T00:28:38.600727",
     "status": "completed"
    },
    "tags": []
   },
   "outputs": [],
   "source": [
    "# #hide_input\n",
    "# fig, ax = plt.subplots(figsize=(15, 8))\n",
    "# animator = animation.FuncAnimation(fig, draw_barchart, frames=range(g.day.values.min(), g.day.values.max()))\n",
    "# HTML(animator.to_jshtml())\n",
    "# # or use animator.to_html5_video() or animator.save() "
   ]
  },
  {
   "cell_type": "code",
   "execution_count": null,
   "id": "australian-container",
   "metadata": {
    "papermill": {
     "duration": 0.03063,
     "end_time": "2022-01-18T00:28:38.699460",
     "exception": false,
     "start_time": "2022-01-18T00:28:38.668830",
     "status": "completed"
    },
    "tags": []
   },
   "outputs": [],
   "source": []
  },
  {
   "cell_type": "code",
   "execution_count": null,
   "id": "mediterranean-pontiac",
   "metadata": {
    "papermill": {
     "duration": 0.03027,
     "end_time": "2022-01-18T00:28:38.760236",
     "exception": false,
     "start_time": "2022-01-18T00:28:38.729966",
     "status": "completed"
    },
    "tags": []
   },
   "outputs": [],
   "source": []
  },
  {
   "cell_type": "code",
   "execution_count": null,
   "id": "aging-legislature",
   "metadata": {
    "papermill": {
     "duration": 0.030537,
     "end_time": "2022-01-18T00:28:38.821361",
     "exception": false,
     "start_time": "2022-01-18T00:28:38.790824",
     "status": "completed"
    },
    "tags": []
   },
   "outputs": [],
   "source": []
  }
 ],
 "metadata": {
  "kernelspec": {
   "display_name": "Python 3",
   "language": "python",
   "name": "python3"
  },
  "language_info": {
   "codemirror_mode": {
    "name": "ipython",
    "version": 3
   },
   "file_extension": ".py",
   "mimetype": "text/x-python",
   "name": "python",
   "nbconvert_exporter": "python",
   "pygments_lexer": "ipython3",
   "version": "3.6.15"
  },
  "papermill": {
   "duration": 6.11184,
   "end_time": "2022-01-18T00:28:39.271031",
   "environment_variables": {},
   "exception": null,
   "input_path": "2020-03-21-covid19exp.ipynb",
   "output_path": "2020-03-21-covid19exp.ipynb",
   "parameters": {},
   "start_time": "2022-01-18T00:28:33.159191",
   "version": "2.0.0"
  }
 },
 "nbformat": 4,
 "nbformat_minor": 5
}