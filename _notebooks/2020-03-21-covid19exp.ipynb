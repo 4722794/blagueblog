{
 "cells": [
  {
   "cell_type": "markdown",
   "id": "muslim-click",
   "metadata": {
    "papermill": {
     "duration": 0.041173,
     "end_time": "2021-09-06T12:11:39.385585",
     "exception": false,
     "start_time": "2021-09-06T12:11:39.344412",
     "status": "completed"
    },
    "tags": []
   },
   "source": [
    "# COVID-19 Case Race\n",
    "> A race chart to see rising cases around the world\n",
    "\n",
    "- author: Hargun Oberoi\n",
    "- image: images/covid-overview.png\n",
    "- hide: false\n",
    "- badges: false"
   ]
  },
  {
   "cell_type": "code",
   "execution_count": 1,
   "id": "proof-material",
   "metadata": {
    "execution": {
     "iopub.execute_input": "2021-09-06T12:11:39.473769Z",
     "iopub.status.busy": "2021-09-06T12:11:39.473104Z",
     "iopub.status.idle": "2021-09-06T12:11:39.865374Z",
     "shell.execute_reply": "2021-09-06T12:11:39.864551Z"
    },
    "papermill": {
     "duration": 0.441313,
     "end_time": "2021-09-06T12:11:39.865532",
     "exception": false,
     "start_time": "2021-09-06T12:11:39.424219",
     "status": "completed"
    },
    "tags": []
   },
   "outputs": [],
   "source": [
    "#hide\n",
    "import numpy as np\n",
    "import pandas as pd\n",
    "from jinja2 import Template\n",
    "from IPython.display import HTML"
   ]
  },
  {
   "cell_type": "code",
   "execution_count": 2,
   "id": "developed-terminology",
   "metadata": {
    "execution": {
     "iopub.execute_input": "2021-09-06T12:11:39.948988Z",
     "iopub.status.busy": "2021-09-06T12:11:39.948304Z",
     "iopub.status.idle": "2021-09-06T12:11:39.950244Z",
     "shell.execute_reply": "2021-09-06T12:11:39.950836Z"
    },
    "papermill": {
     "duration": 0.047089,
     "end_time": "2021-09-06T12:11:39.950974",
     "exception": false,
     "start_time": "2021-09-06T12:11:39.903885",
     "status": "completed"
    },
    "tags": []
   },
   "outputs": [],
   "source": [
    "#hide\n",
    "\n",
    "# FETCH\n",
    "base_url = 'https://raw.githubusercontent.com/pratapvardhan/notebooks/master/covid19/'\n",
    "paths = {\n",
    "    'mapping': base_url + 'mapping_countries.csv',\n",
    "    'overview': base_url + 'overview.tpl'\n",
    "}"
   ]
  },
  {
   "cell_type": "code",
   "execution_count": 3,
   "id": "dynamic-saver",
   "metadata": {
    "execution": {
     "iopub.execute_input": "2021-09-06T12:11:40.038513Z",
     "iopub.status.busy": "2021-09-06T12:11:40.037858Z",
     "iopub.status.idle": "2021-09-06T12:11:40.040633Z",
     "shell.execute_reply": "2021-09-06T12:11:40.041123Z"
    },
    "papermill": {
     "duration": 0.052062,
     "end_time": "2021-09-06T12:11:40.041288",
     "exception": false,
     "start_time": "2021-09-06T12:11:39.989226",
     "status": "completed"
    },
    "tags": []
   },
   "outputs": [
    {
     "data": {
      "text/plain": [
       "'https://raw.githubusercontent.com/pratapvardhan/notebooks/master/covid19/mapping_countries.csv'"
      ]
     },
     "execution_count": 3,
     "metadata": {},
     "output_type": "execute_result"
    }
   ],
   "source": [
    "#hide\n",
    "paths['mapping']"
   ]
  },
  {
   "cell_type": "code",
   "execution_count": 4,
   "id": "urban-software",
   "metadata": {
    "execution": {
     "iopub.execute_input": "2021-09-06T12:11:40.126008Z",
     "iopub.status.busy": "2021-09-06T12:11:40.125319Z",
     "iopub.status.idle": "2021-09-06T12:11:40.127488Z",
     "shell.execute_reply": "2021-09-06T12:11:40.128133Z"
    },
    "papermill": {
     "duration": 0.047247,
     "end_time": "2021-09-06T12:11:40.128281",
     "exception": false,
     "start_time": "2021-09-06T12:11:40.081034",
     "status": "completed"
    },
    "tags": []
   },
   "outputs": [],
   "source": [
    "#hide\n",
    "def get_mappings(url):\n",
    "    df = pd.read_csv(url)\n",
    "    return {\n",
    "        'df': df,\n",
    "        'replace.country': dict(df.dropna(subset=['Name']).set_index('Country')['Name']),\n",
    "        'map.continent': dict(df.set_index('Name')['Continent'])\n",
    "    }"
   ]
  },
  {
   "cell_type": "code",
   "execution_count": 5,
   "id": "intimate-machinery",
   "metadata": {
    "execution": {
     "iopub.execute_input": "2021-09-06T12:11:40.215919Z",
     "iopub.status.busy": "2021-09-06T12:11:40.215126Z",
     "iopub.status.idle": "2021-09-06T12:11:40.246626Z",
     "shell.execute_reply": "2021-09-06T12:11:40.246060Z"
    },
    "papermill": {
     "duration": 0.077117,
     "end_time": "2021-09-06T12:11:40.246768",
     "exception": false,
     "start_time": "2021-09-06T12:11:40.169651",
     "status": "completed"
    },
    "tags": []
   },
   "outputs": [],
   "source": [
    "#hide\n",
    "mapping = get_mappings(paths['mapping'])"
   ]
  },
  {
   "cell_type": "code",
   "execution_count": 6,
   "id": "certified-tactics",
   "metadata": {
    "execution": {
     "iopub.execute_input": "2021-09-06T12:11:40.335942Z",
     "iopub.status.busy": "2021-09-06T12:11:40.335274Z",
     "iopub.status.idle": "2021-09-06T12:11:40.339875Z",
     "shell.execute_reply": "2021-09-06T12:11:40.340425Z"
    },
    "papermill": {
     "duration": 0.050612,
     "end_time": "2021-09-06T12:11:40.340573",
     "exception": false,
     "start_time": "2021-09-06T12:11:40.289961",
     "status": "completed"
    },
    "tags": []
   },
   "outputs": [],
   "source": [
    "#hide\n",
    "def get_template(path):\n",
    "    from urllib.parse import urlparse\n",
    "    if bool(urlparse(path).netloc):\n",
    "        from urllib.request import urlopen\n",
    "        return urlopen(path).read().decode('utf8')\n",
    "    return open(path).read()"
   ]
  },
  {
   "cell_type": "code",
   "execution_count": 7,
   "id": "realistic-blast",
   "metadata": {
    "execution": {
     "iopub.execute_input": "2021-09-06T12:11:40.421397Z",
     "iopub.status.busy": "2021-09-06T12:11:40.420754Z",
     "iopub.status.idle": "2021-09-06T12:11:40.423211Z",
     "shell.execute_reply": "2021-09-06T12:11:40.422640Z"
    },
    "papermill": {
     "duration": 0.044957,
     "end_time": "2021-09-06T12:11:40.423327",
     "exception": false,
     "start_time": "2021-09-06T12:11:40.378370",
     "status": "completed"
    },
    "tags": []
   },
   "outputs": [],
   "source": [
    "#hide\n",
    "def get_frame(name):\n",
    "    url = (\n",
    "        'https://raw.githubusercontent.com/CSSEGISandData/COVID-19/master/csse_covid_19_data/'\n",
    "        f'csse_covid_19_time_series/time_series_covid19_{name}_global.csv')\n",
    "    df = pd.read_csv(url)\n",
    "    # rename countries\n",
    "    df['Country/Region'] = df['Country/Region'].replace(mapping['replace.country'])\n",
    "    return df"
   ]
  },
  {
   "cell_type": "code",
   "execution_count": 8,
   "id": "affiliated-characterization",
   "metadata": {
    "execution": {
     "iopub.execute_input": "2021-09-06T12:11:40.508164Z",
     "iopub.status.busy": "2021-09-06T12:11:40.507474Z",
     "iopub.status.idle": "2021-09-06T12:11:40.509485Z",
     "shell.execute_reply": "2021-09-06T12:11:40.509979Z"
    },
    "papermill": {
     "duration": 0.047472,
     "end_time": "2021-09-06T12:11:40.510123",
     "exception": false,
     "start_time": "2021-09-06T12:11:40.462651",
     "status": "completed"
    },
    "tags": []
   },
   "outputs": [],
   "source": [
    "#hide\n",
    "def get_dates(df):\n",
    "    dt_cols = df.columns[~df.columns.isin(['Province/State', 'Country/Region', 'Lat', 'Long'])]\n",
    "    LAST_DATE_I = -1\n",
    "    # sometimes last column may be empty, then go backwards\n",
    "    for i in range(-1, -len(dt_cols), -1):\n",
    "        if not df[dt_cols[i]].fillna(0).eq(0).all():\n",
    "            LAST_DATE_I = i\n",
    "            break\n",
    "    return LAST_DATE_I, dt_cols"
   ]
  },
  {
   "cell_type": "code",
   "execution_count": 9,
   "id": "recent-optimization",
   "metadata": {
    "execution": {
     "iopub.execute_input": "2021-09-06T12:11:40.592088Z",
     "iopub.status.busy": "2021-09-06T12:11:40.591378Z",
     "iopub.status.idle": "2021-09-06T12:11:40.963090Z",
     "shell.execute_reply": "2021-09-06T12:11:40.962488Z"
    },
    "papermill": {
     "duration": 0.414265,
     "end_time": "2021-09-06T12:11:40.963229",
     "exception": false,
     "start_time": "2021-09-06T12:11:40.548964",
     "status": "completed"
    },
    "tags": []
   },
   "outputs": [],
   "source": [
    "#hide\n",
    "COL_REGION = 'Country/Region'\n",
    "# Confirmed, Recovered, Deaths\n",
    "df = get_frame('confirmed')\n",
    "# dft_: timeseries, dfc_: today country agg\n",
    "dft_cases = df\n",
    "dft_deaths = get_frame('deaths')\n",
    "dft_recovered = get_frame('recovered')\n",
    "LAST_DATE_I, dt_cols = get_dates(df)"
   ]
  },
  {
   "cell_type": "code",
   "execution_count": 10,
   "id": "absolute-copper",
   "metadata": {
    "execution": {
     "iopub.execute_input": "2021-09-06T12:11:41.045707Z",
     "iopub.status.busy": "2021-09-06T12:11:41.045084Z",
     "iopub.status.idle": "2021-09-06T12:11:41.047520Z",
     "shell.execute_reply": "2021-09-06T12:11:41.046854Z"
    },
    "papermill": {
     "duration": 0.045441,
     "end_time": "2021-09-06T12:11:41.047635",
     "exception": false,
     "start_time": "2021-09-06T12:11:41.002194",
     "status": "completed"
    },
    "tags": []
   },
   "outputs": [],
   "source": [
    "#hide\n",
    "LAST_DATE_I, dt_cols = get_dates(df)\n",
    "dt_today =dt_cols[LAST_DATE_I]\n",
    "# dt_5day = dt_cols[LAST_DATE_I - 5]\n",
    "dt_yday = dt_cols[LAST_DATE_I - 1]"
   ]
  },
  {
   "cell_type": "code",
   "execution_count": 11,
   "id": "restricted-sheriff",
   "metadata": {
    "execution": {
     "iopub.execute_input": "2021-09-06T12:11:41.132111Z",
     "iopub.status.busy": "2021-09-06T12:11:41.131431Z",
     "iopub.status.idle": "2021-09-06T12:11:41.139970Z",
     "shell.execute_reply": "2021-09-06T12:11:41.140514Z"
    },
    "papermill": {
     "duration": 0.05347,
     "end_time": "2021-09-06T12:11:41.140653",
     "exception": false,
     "start_time": "2021-09-06T12:11:41.087183",
     "status": "completed"
    },
    "tags": []
   },
   "outputs": [],
   "source": [
    "#hide\n",
    "dfc_cases = dft_cases.groupby(COL_REGION)[dt_today].sum()\n",
    "dfc_deaths = dft_deaths.groupby(COL_REGION)[dt_today].sum()\n",
    "# dfp_cases = dft_cases.groupby(COL_REGION)[dt_5day].sum()\n",
    "# dfp_deaths = dft_deaths.groupby(COL_REGION)[dt_5day].sum()\n",
    "dfp_cases = dft_cases.groupby(COL_REGION)[dt_yday].sum()\n",
    "dfp_deaths = dft_deaths.groupby(COL_REGION)[dt_yday].sum()"
   ]
  },
  {
   "cell_type": "code",
   "execution_count": 12,
   "id": "deluxe-hepatitis",
   "metadata": {
    "execution": {
     "iopub.execute_input": "2021-09-06T12:11:41.228392Z",
     "iopub.status.busy": "2021-09-06T12:11:41.227690Z",
     "iopub.status.idle": "2021-09-06T12:11:41.232341Z",
     "shell.execute_reply": "2021-09-06T12:11:41.232954Z"
    },
    "papermill": {
     "duration": 0.051062,
     "end_time": "2021-09-06T12:11:41.233103",
     "exception": false,
     "start_time": "2021-09-06T12:11:41.182041",
     "status": "completed"
    },
    "tags": []
   },
   "outputs": [],
   "source": [
    "#hide\n",
    "df_table = (pd.DataFrame(dict(Cases = dfc_cases, Deaths = dfc_deaths, PCases = dfp_cases, PDeaths = dfp_deaths))\n",
    "            .sort_values(by = ['Cases','Deaths'], ascending = [False, False])\n",
    "            .reset_index())"
   ]
  },
  {
   "cell_type": "code",
   "execution_count": 13,
   "id": "educational-chancellor",
   "metadata": {
    "execution": {
     "iopub.execute_input": "2021-09-06T12:11:41.330715Z",
     "iopub.status.busy": "2021-09-06T12:11:41.330059Z",
     "iopub.status.idle": "2021-09-06T12:11:41.338512Z",
     "shell.execute_reply": "2021-09-06T12:11:41.339158Z"
    },
    "papermill": {
     "duration": 0.068192,
     "end_time": "2021-09-06T12:11:41.339307",
     "exception": false,
     "start_time": "2021-09-06T12:11:41.271115",
     "status": "completed"
    },
    "tags": []
   },
   "outputs": [
    {
     "data": {
      "text/html": [
       "<div>\n",
       "<style scoped>\n",
       "    .dataframe tbody tr th:only-of-type {\n",
       "        vertical-align: middle;\n",
       "    }\n",
       "\n",
       "    .dataframe tbody tr th {\n",
       "        vertical-align: top;\n",
       "    }\n",
       "\n",
       "    .dataframe thead th {\n",
       "        text-align: right;\n",
       "    }\n",
       "</style>\n",
       "<table border=\"1\" class=\"dataframe\">\n",
       "  <thead>\n",
       "    <tr style=\"text-align: right;\">\n",
       "      <th></th>\n",
       "      <th>Country/Region</th>\n",
       "      <th>Cases</th>\n",
       "      <th>Deaths</th>\n",
       "      <th>PCases</th>\n",
       "      <th>PDeaths</th>\n",
       "      <th>Cases (+)</th>\n",
       "      <th>Deaths (+)</th>\n",
       "      <th>Fatality Rate</th>\n",
       "      <th>Continent</th>\n",
       "    </tr>\n",
       "  </thead>\n",
       "  <tbody>\n",
       "    <tr>\n",
       "      <th>0</th>\n",
       "      <td>US</td>\n",
       "      <td>39944987</td>\n",
       "      <td>648468</td>\n",
       "      <td>39906426</td>\n",
       "      <td>648106</td>\n",
       "      <td>38561</td>\n",
       "      <td>362</td>\n",
       "      <td>1.62</td>\n",
       "      <td>North America</td>\n",
       "    </tr>\n",
       "    <tr>\n",
       "      <th>1</th>\n",
       "      <td>India</td>\n",
       "      <td>33027621</td>\n",
       "      <td>440752</td>\n",
       "      <td>32988673</td>\n",
       "      <td>440533</td>\n",
       "      <td>38948</td>\n",
       "      <td>219</td>\n",
       "      <td>1.33</td>\n",
       "      <td>Asia</td>\n",
       "    </tr>\n",
       "    <tr>\n",
       "      <th>2</th>\n",
       "      <td>Brazil</td>\n",
       "      <td>20890779</td>\n",
       "      <td>583628</td>\n",
       "      <td>20877864</td>\n",
       "      <td>583362</td>\n",
       "      <td>12915</td>\n",
       "      <td>266</td>\n",
       "      <td>2.79</td>\n",
       "      <td>South America</td>\n",
       "    </tr>\n",
       "    <tr>\n",
       "      <th>3</th>\n",
       "      <td>United Kingdom</td>\n",
       "      <td>7010540</td>\n",
       "      <td>133553</td>\n",
       "      <td>6973995</td>\n",
       "      <td>133485</td>\n",
       "      <td>36545</td>\n",
       "      <td>68</td>\n",
       "      <td>1.91</td>\n",
       "      <td>Europe</td>\n",
       "    </tr>\n",
       "    <tr>\n",
       "      <th>4</th>\n",
       "      <td>France</td>\n",
       "      <td>6921275</td>\n",
       "      <td>115401</td>\n",
       "      <td>6910865</td>\n",
       "      <td>115352</td>\n",
       "      <td>10410</td>\n",
       "      <td>49</td>\n",
       "      <td>1.67</td>\n",
       "      <td>Europe</td>\n",
       "    </tr>\n",
       "  </tbody>\n",
       "</table>\n",
       "</div>"
      ],
      "text/plain": [
       "   Country/Region     Cases  Deaths    PCases  PDeaths  Cases (+)  Deaths (+)  \\\n",
       "0              US  39944987  648468  39906426   648106      38561         362   \n",
       "1           India  33027621  440752  32988673   440533      38948         219   \n",
       "2          Brazil  20890779  583628  20877864   583362      12915         266   \n",
       "3  United Kingdom   7010540  133553   6973995   133485      36545          68   \n",
       "4          France   6921275  115401   6910865   115352      10410          49   \n",
       "\n",
       "   Fatality Rate      Continent  \n",
       "0           1.62  North America  \n",
       "1           1.33           Asia  \n",
       "2           2.79  South America  \n",
       "3           1.91         Europe  \n",
       "4           1.67         Europe  "
      ]
     },
     "execution_count": 13,
     "metadata": {},
     "output_type": "execute_result"
    }
   ],
   "source": [
    "#hide\n",
    "for c in 'Cases, Deaths'.split(', '):\n",
    "    df_table[f'{c} (+)'] = (df_table[c] - df_table[f'P{c}']).clip(0)\n",
    "    #Clip ça veut dire, les chiffres negatif sont interdit\n",
    "df_table['Fatality Rate'] = (100* df_table['Deaths']/ df_table['Cases']).round(2)\n",
    "df_table['Continent'] = df_table['Country/Region'].map(mapping['map.continent'])\n",
    "df_table.head(5)"
   ]
  },
  {
   "cell_type": "code",
   "execution_count": 14,
   "id": "aboriginal-bulgaria",
   "metadata": {
    "execution": {
     "iopub.execute_input": "2021-09-06T12:11:41.426403Z",
     "iopub.status.busy": "2021-09-06T12:11:41.425757Z",
     "iopub.status.idle": "2021-09-06T12:11:41.428701Z",
     "shell.execute_reply": "2021-09-06T12:11:41.429264Z"
    },
    "papermill": {
     "duration": 0.051549,
     "end_time": "2021-09-06T12:11:41.429404",
     "exception": false,
     "start_time": "2021-09-06T12:11:41.377855",
     "status": "completed"
    },
    "tags": []
   },
   "outputs": [],
   "source": [
    "#hide\n",
    "#delete problematic countries from table\n",
    "df_table = df_table[~df_table['Country/Region'].isin(['Cape Verde', 'Cruise Ship', 'Kosovo'])]"
   ]
  },
  {
   "cell_type": "code",
   "execution_count": 15,
   "id": "fantastic-effect",
   "metadata": {
    "execution": {
     "iopub.execute_input": "2021-09-06T12:11:41.517016Z",
     "iopub.status.busy": "2021-09-06T12:11:41.516375Z",
     "iopub.status.idle": "2021-09-06T12:11:41.537025Z",
     "shell.execute_reply": "2021-09-06T12:11:41.538212Z"
    },
    "papermill": {
     "duration": 0.068599,
     "end_time": "2021-09-06T12:11:41.538413",
     "exception": false,
     "start_time": "2021-09-06T12:11:41.469814",
     "status": "completed"
    },
    "tags": []
   },
   "outputs": [
    {
     "data": {
      "text/html": [
       "<div>\n",
       "<style scoped>\n",
       "    .dataframe tbody tr th:only-of-type {\n",
       "        vertical-align: middle;\n",
       "    }\n",
       "\n",
       "    .dataframe tbody tr th {\n",
       "        vertical-align: top;\n",
       "    }\n",
       "\n",
       "    .dataframe thead th {\n",
       "        text-align: right;\n",
       "    }\n",
       "</style>\n",
       "<table border=\"1\" class=\"dataframe\">\n",
       "  <thead>\n",
       "    <tr style=\"text-align: right;\">\n",
       "      <th></th>\n",
       "      <th>Country/Region</th>\n",
       "      <th>Cases</th>\n",
       "      <th>Deaths</th>\n",
       "      <th>PCases</th>\n",
       "      <th>PDeaths</th>\n",
       "      <th>Cases (+)</th>\n",
       "      <th>Deaths (+)</th>\n",
       "      <th>Fatality Rate</th>\n",
       "      <th>Continent</th>\n",
       "    </tr>\n",
       "  </thead>\n",
       "  <tbody>\n",
       "    <tr>\n",
       "      <th>0</th>\n",
       "      <td>US</td>\n",
       "      <td>39944987</td>\n",
       "      <td>648468</td>\n",
       "      <td>39906426</td>\n",
       "      <td>648106</td>\n",
       "      <td>38561</td>\n",
       "      <td>362</td>\n",
       "      <td>1.6</td>\n",
       "      <td>North America</td>\n",
       "    </tr>\n",
       "    <tr>\n",
       "      <th>1</th>\n",
       "      <td>India</td>\n",
       "      <td>33027621</td>\n",
       "      <td>440752</td>\n",
       "      <td>32988673</td>\n",
       "      <td>440533</td>\n",
       "      <td>38948</td>\n",
       "      <td>219</td>\n",
       "      <td>1.3</td>\n",
       "      <td>Asia</td>\n",
       "    </tr>\n",
       "    <tr>\n",
       "      <th>2</th>\n",
       "      <td>Brazil</td>\n",
       "      <td>20890779</td>\n",
       "      <td>583628</td>\n",
       "      <td>20877864</td>\n",
       "      <td>583362</td>\n",
       "      <td>12915</td>\n",
       "      <td>266</td>\n",
       "      <td>2.8</td>\n",
       "      <td>South America</td>\n",
       "    </tr>\n",
       "    <tr>\n",
       "      <th>3</th>\n",
       "      <td>United Kingdom</td>\n",
       "      <td>7010540</td>\n",
       "      <td>133553</td>\n",
       "      <td>6973995</td>\n",
       "      <td>133485</td>\n",
       "      <td>36545</td>\n",
       "      <td>68</td>\n",
       "      <td>1.9</td>\n",
       "      <td>Europe</td>\n",
       "    </tr>\n",
       "    <tr>\n",
       "      <th>4</th>\n",
       "      <td>France</td>\n",
       "      <td>6921275</td>\n",
       "      <td>115401</td>\n",
       "      <td>6910865</td>\n",
       "      <td>115352</td>\n",
       "      <td>10410</td>\n",
       "      <td>49</td>\n",
       "      <td>1.7</td>\n",
       "      <td>Europe</td>\n",
       "    </tr>\n",
       "  </tbody>\n",
       "</table>\n",
       "</div>"
      ],
      "text/plain": [
       "   Country/Region     Cases  Deaths    PCases  PDeaths  Cases (+)  Deaths (+)  \\\n",
       "0              US  39944987  648468  39906426   648106      38561         362   \n",
       "1           India  33027621  440752  32988673   440533      38948         219   \n",
       "2          Brazil  20890779  583628  20877864   583362      12915         266   \n",
       "3  United Kingdom   7010540  133553   6973995   133485      36545          68   \n",
       "4          France   6921275  115401   6910865   115352      10410          49   \n",
       "\n",
       "   Fatality Rate      Continent  \n",
       "0            1.6  North America  \n",
       "1            1.3           Asia  \n",
       "2            2.8  South America  \n",
       "3            1.9         Europe  \n",
       "4            1.7         Europe  "
      ]
     },
     "execution_count": 15,
     "metadata": {},
     "output_type": "execute_result"
    }
   ],
   "source": [
    "#hide\n",
    "df_table = (pd.DataFrame(dict(Cases=dfc_cases, Deaths=dfc_deaths, PCases=dfp_cases, PDeaths=dfp_deaths))\n",
    "             .sort_values(by=['Cases', 'Deaths'], ascending=[False, False])\n",
    "             .reset_index())\n",
    "df_table.rename(columns={'index': 'Country/Region'}, inplace=True)\n",
    "for c in 'Cases, Deaths'.split(', '):\n",
    "    df_table[f'{c} (+)'] = (df_table[c] - df_table[f'P{c}']).clip(0)  # DATA BUG\n",
    "df_table['Fatality Rate'] = (100 * df_table['Deaths'] / df_table['Cases']).round(1)\n",
    "df_table['Continent'] = df_table['Country/Region'].map(mapping['map.continent'])\n",
    "df_table.head(5)"
   ]
  },
  {
   "cell_type": "code",
   "execution_count": 16,
   "id": "fewer-occasion",
   "metadata": {
    "execution": {
     "iopub.execute_input": "2021-09-06T12:11:41.624172Z",
     "iopub.status.busy": "2021-09-06T12:11:41.623476Z",
     "iopub.status.idle": "2021-09-06T12:11:41.625933Z",
     "shell.execute_reply": "2021-09-06T12:11:41.625393Z"
    },
    "papermill": {
     "duration": 0.048182,
     "end_time": "2021-09-06T12:11:41.626054",
     "exception": false,
     "start_time": "2021-09-06T12:11:41.577872",
     "status": "completed"
    },
    "tags": []
   },
   "outputs": [],
   "source": [
    "#hide\n",
    "#delete problematic countries from table\n",
    "df_table = df_table[~df_table['Country/Region'].isin(['Cape Verde', 'Cruise Ship', 'Kosovo'])]"
   ]
  },
  {
   "cell_type": "code",
   "execution_count": 17,
   "id": "related-center",
   "metadata": {
    "execution": {
     "iopub.execute_input": "2021-09-06T12:11:41.729019Z",
     "iopub.status.busy": "2021-09-06T12:11:41.728364Z",
     "iopub.status.idle": "2021-09-06T12:11:41.730374Z",
     "shell.execute_reply": "2021-09-06T12:11:41.730939Z"
    },
    "papermill": {
     "duration": 0.064763,
     "end_time": "2021-09-06T12:11:41.731090",
     "exception": false,
     "start_time": "2021-09-06T12:11:41.666327",
     "status": "completed"
    },
    "tags": []
   },
   "outputs": [],
   "source": [
    "#hide\n",
    "metrics = [df_table.columns[index] for index in [1,2,5,6]]\n",
    "# s_china = df_table[df_table['Country/Region'].eq('China')][metrics].sum().add_prefix('China ')\n",
    "s_us = df_table[df_table['Country/Region'].eq('US')][metrics].sum().add_prefix('US ')\n",
    "s_eu = df_table[df_table['Continent'].eq('Europe')][metrics].sum().add_prefix('EU ')\n",
    "s_ind = df_table[df_table['Country/Region'].eq('India')][metrics].sum().add_prefix('India ')\n",
    "summary = {'updated': pd.to_datetime(dt_today), 'since': pd.to_datetime(dt_yday)}\n",
    "summary = {'updated': pd.to_datetime(dt_today), 'since': pd.to_datetime(dt_yday)}\n",
    "summary = {**summary, **df_table[metrics].sum(), **s_ind, **s_us, **s_eu}"
   ]
  },
  {
   "cell_type": "code",
   "execution_count": 18,
   "id": "engaging-syndrome",
   "metadata": {
    "execution": {
     "iopub.execute_input": "2021-09-06T12:11:41.820084Z",
     "iopub.status.busy": "2021-09-06T12:11:41.819380Z",
     "iopub.status.idle": "2021-09-06T12:11:41.833190Z",
     "shell.execute_reply": "2021-09-06T12:11:41.833815Z"
    },
    "papermill": {
     "duration": 0.061578,
     "end_time": "2021-09-06T12:11:41.833979",
     "exception": false,
     "start_time": "2021-09-06T12:11:41.772401",
     "status": "completed"
    },
    "tags": []
   },
   "outputs": [],
   "source": [
    "#hide\n",
    "dft_ct_new_cases = dft_cases.groupby(COL_REGION)[dt_cols].sum().diff(axis=1).fillna(0).astype(int)"
   ]
  },
  {
   "cell_type": "code",
   "execution_count": 19,
   "id": "neutral-assignment",
   "metadata": {
    "execution": {
     "iopub.execute_input": "2021-09-06T12:11:41.919890Z",
     "iopub.status.busy": "2021-09-06T12:11:41.919225Z",
     "iopub.status.idle": "2021-09-06T12:11:41.921859Z",
     "shell.execute_reply": "2021-09-06T12:11:41.921275Z"
    },
    "papermill": {
     "duration": 0.047979,
     "end_time": "2021-09-06T12:11:41.921995",
     "exception": false,
     "start_time": "2021-09-06T12:11:41.874016",
     "status": "completed"
    },
    "tags": []
   },
   "outputs": [],
   "source": [
    "#hide\n",
    "everydaycases = dft_ct_new_cases.cumsum(axis=1)"
   ]
  },
  {
   "cell_type": "code",
   "execution_count": 20,
   "id": "parliamentary-calgary",
   "metadata": {
    "execution": {
     "iopub.execute_input": "2021-09-06T12:11:42.007184Z",
     "iopub.status.busy": "2021-09-06T12:11:42.006524Z",
     "iopub.status.idle": "2021-09-06T12:11:42.703208Z",
     "shell.execute_reply": "2021-09-06T12:11:42.702647Z"
    },
    "papermill": {
     "duration": 0.741156,
     "end_time": "2021-09-06T12:11:42.703360",
     "exception": false,
     "start_time": "2021-09-06T12:11:41.962204",
     "status": "completed"
    },
    "tags": []
   },
   "outputs": [],
   "source": [
    "#hide\n",
    "import pandas as pd\n",
    "import matplotlib.pyplot as plt\n",
    "import matplotlib.ticker as ticker\n",
    "import matplotlib.animation as animation\n",
    "from IPython.display import HTML"
   ]
  },
  {
   "cell_type": "code",
   "execution_count": 21,
   "id": "lasting-extraction",
   "metadata": {
    "execution": {
     "iopub.execute_input": "2021-09-06T12:11:42.791400Z",
     "iopub.status.busy": "2021-09-06T12:11:42.790726Z",
     "iopub.status.idle": "2021-09-06T12:11:42.796391Z",
     "shell.execute_reply": "2021-09-06T12:11:42.796941Z"
    },
    "papermill": {
     "duration": 0.052546,
     "end_time": "2021-09-06T12:11:42.797089",
     "exception": false,
     "start_time": "2021-09-06T12:11:42.744543",
     "status": "completed"
    },
    "tags": []
   },
   "outputs": [],
   "source": [
    "#hide\n",
    "t = everydaycases.stack()"
   ]
  },
  {
   "cell_type": "code",
   "execution_count": 22,
   "id": "premier-sleeve",
   "metadata": {
    "execution": {
     "iopub.execute_input": "2021-09-06T12:11:42.882127Z",
     "iopub.status.busy": "2021-09-06T12:11:42.881473Z",
     "iopub.status.idle": "2021-09-06T12:11:42.890676Z",
     "shell.execute_reply": "2021-09-06T12:11:42.891299Z"
    },
    "papermill": {
     "duration": 0.054595,
     "end_time": "2021-09-06T12:11:42.891443",
     "exception": false,
     "start_time": "2021-09-06T12:11:42.836848",
     "status": "completed"
    },
    "tags": []
   },
   "outputs": [],
   "source": [
    "#hide\n",
    "g = t.reset_index(['Country/Region'])"
   ]
  },
  {
   "cell_type": "code",
   "execution_count": 23,
   "id": "distributed-pittsburgh",
   "metadata": {
    "execution": {
     "iopub.execute_input": "2021-09-06T12:11:42.974533Z",
     "iopub.status.busy": "2021-09-06T12:11:42.973885Z",
     "iopub.status.idle": "2021-09-06T12:11:42.976515Z",
     "shell.execute_reply": "2021-09-06T12:11:42.975933Z"
    },
    "papermill": {
     "duration": 0.046777,
     "end_time": "2021-09-06T12:11:42.976639",
     "exception": false,
     "start_time": "2021-09-06T12:11:42.929862",
     "status": "completed"
    },
    "tags": []
   },
   "outputs": [],
   "source": [
    "#hide\n",
    "g.index.name = 'date'"
   ]
  },
  {
   "cell_type": "code",
   "execution_count": 24,
   "id": "naked-donor",
   "metadata": {
    "execution": {
     "iopub.execute_input": "2021-09-06T12:11:43.058762Z",
     "iopub.status.busy": "2021-09-06T12:11:43.058120Z",
     "iopub.status.idle": "2021-09-06T12:11:43.060173Z",
     "shell.execute_reply": "2021-09-06T12:11:43.061064Z"
    },
    "papermill": {
     "duration": 0.045289,
     "end_time": "2021-09-06T12:11:43.061217",
     "exception": false,
     "start_time": "2021-09-06T12:11:43.015928",
     "status": "completed"
    },
    "tags": []
   },
   "outputs": [],
   "source": [
    "# #hide\n",
    "# g = g.reset_index(['date'])"
   ]
  },
  {
   "cell_type": "code",
   "execution_count": 25,
   "id": "incomplete-mustang",
   "metadata": {
    "execution": {
     "iopub.execute_input": "2021-09-06T12:11:43.142506Z",
     "iopub.status.busy": "2021-09-06T12:11:43.141189Z",
     "iopub.status.idle": "2021-09-06T12:11:43.145006Z",
     "shell.execute_reply": "2021-09-06T12:11:43.145552Z"
    },
    "papermill": {
     "duration": 0.044971,
     "end_time": "2021-09-06T12:11:43.145693",
     "exception": false,
     "start_time": "2021-09-06T12:11:43.100722",
     "status": "completed"
    },
    "tags": []
   },
   "outputs": [],
   "source": [
    "#hide\n",
    "# g.head()"
   ]
  },
  {
   "cell_type": "code",
   "execution_count": 26,
   "id": "specific-kruger",
   "metadata": {
    "execution": {
     "iopub.execute_input": "2021-09-06T12:11:43.228315Z",
     "iopub.status.busy": "2021-09-06T12:11:43.227651Z",
     "iopub.status.idle": "2021-09-06T12:11:43.229691Z",
     "shell.execute_reply": "2021-09-06T12:11:43.230343Z"
    },
    "papermill": {
     "duration": 0.046509,
     "end_time": "2021-09-06T12:11:43.230483",
     "exception": false,
     "start_time": "2021-09-06T12:11:43.183974",
     "status": "completed"
    },
    "tags": []
   },
   "outputs": [],
   "source": [
    "#hide\n",
    "# g.columns = ['date','country','cases']"
   ]
  },
  {
   "cell_type": "code",
   "execution_count": 27,
   "id": "tender-conversion",
   "metadata": {
    "execution": {
     "iopub.execute_input": "2021-09-06T12:11:43.312626Z",
     "iopub.status.busy": "2021-09-06T12:11:43.311977Z",
     "iopub.status.idle": "2021-09-06T12:11:43.314661Z",
     "shell.execute_reply": "2021-09-06T12:11:43.314004Z"
    },
    "papermill": {
     "duration": 0.044711,
     "end_time": "2021-09-06T12:11:43.314782",
     "exception": false,
     "start_time": "2021-09-06T12:11:43.270071",
     "status": "completed"
    },
    "tags": []
   },
   "outputs": [],
   "source": [
    "#hide\n",
    "# g['continent'] = g.country"
   ]
  },
  {
   "cell_type": "code",
   "execution_count": 28,
   "id": "substantial-wilderness",
   "metadata": {
    "execution": {
     "iopub.execute_input": "2021-09-06T12:11:43.397041Z",
     "iopub.status.busy": "2021-09-06T12:11:43.396401Z",
     "iopub.status.idle": "2021-09-06T12:11:43.398997Z",
     "shell.execute_reply": "2021-09-06T12:11:43.398470Z"
    },
    "papermill": {
     "duration": 0.044235,
     "end_time": "2021-09-06T12:11:43.399116",
     "exception": false,
     "start_time": "2021-09-06T12:11:43.354881",
     "status": "completed"
    },
    "tags": []
   },
   "outputs": [],
   "source": [
    "#hide\n",
    "# cols = list(g.columns.values)"
   ]
  },
  {
   "cell_type": "code",
   "execution_count": 29,
   "id": "solved-farming",
   "metadata": {
    "execution": {
     "iopub.execute_input": "2021-09-06T12:11:43.481522Z",
     "iopub.status.busy": "2021-09-06T12:11:43.480852Z",
     "iopub.status.idle": "2021-09-06T12:11:43.482968Z",
     "shell.execute_reply": "2021-09-06T12:11:43.483516Z"
    },
    "papermill": {
     "duration": 0.045165,
     "end_time": "2021-09-06T12:11:43.483647",
     "exception": false,
     "start_time": "2021-09-06T12:11:43.438482",
     "status": "completed"
    },
    "tags": []
   },
   "outputs": [],
   "source": [
    "#hide\n",
    "# cols.insert(0, cols.pop())"
   ]
  },
  {
   "cell_type": "code",
   "execution_count": 30,
   "id": "executed-adoption",
   "metadata": {
    "execution": {
     "iopub.execute_input": "2021-09-06T12:11:43.565659Z",
     "iopub.status.busy": "2021-09-06T12:11:43.564874Z",
     "iopub.status.idle": "2021-09-06T12:11:43.568603Z",
     "shell.execute_reply": "2021-09-06T12:11:43.569230Z"
    },
    "papermill": {
     "duration": 0.046378,
     "end_time": "2021-09-06T12:11:43.569384",
     "exception": false,
     "start_time": "2021-09-06T12:11:43.523006",
     "status": "completed"
    },
    "tags": []
   },
   "outputs": [],
   "source": [
    "#hide\n",
    "# g = g[cols]"
   ]
  },
  {
   "cell_type": "code",
   "execution_count": 31,
   "id": "subject-dublin",
   "metadata": {
    "execution": {
     "iopub.execute_input": "2021-09-06T12:11:43.657430Z",
     "iopub.status.busy": "2021-09-06T12:11:43.656786Z",
     "iopub.status.idle": "2021-09-06T12:11:43.659447Z",
     "shell.execute_reply": "2021-09-06T12:11:43.658903Z"
    },
    "papermill": {
     "duration": 0.05013,
     "end_time": "2021-09-06T12:11:43.659560",
     "exception": false,
     "start_time": "2021-09-06T12:11:43.609430",
     "status": "completed"
    },
    "tags": []
   },
   "outputs": [],
   "source": [
    "#hide\n",
    "# g['continent'] = g['continent'].map(mapping['map.continent'])"
   ]
  },
  {
   "cell_type": "code",
   "execution_count": 32,
   "id": "freelance-scout",
   "metadata": {
    "execution": {
     "iopub.execute_input": "2021-09-06T12:11:43.746762Z",
     "iopub.status.busy": "2021-09-06T12:11:43.745880Z",
     "iopub.status.idle": "2021-09-06T12:11:43.748025Z",
     "shell.execute_reply": "2021-09-06T12:11:43.748588Z"
    },
    "papermill": {
     "duration": 0.049119,
     "end_time": "2021-09-06T12:11:43.748731",
     "exception": false,
     "start_time": "2021-09-06T12:11:43.699612",
     "status": "completed"
    },
    "tags": []
   },
   "outputs": [],
   "source": [
    "#hide\n",
    "# g.head()"
   ]
  },
  {
   "cell_type": "code",
   "execution_count": 33,
   "id": "limited-engine",
   "metadata": {
    "execution": {
     "iopub.execute_input": "2021-09-06T12:11:43.834196Z",
     "iopub.status.busy": "2021-09-06T12:11:43.833046Z",
     "iopub.status.idle": "2021-09-06T12:11:43.835697Z",
     "shell.execute_reply": "2021-09-06T12:11:43.836334Z"
    },
    "papermill": {
     "duration": 0.048252,
     "end_time": "2021-09-06T12:11:43.836924",
     "exception": false,
     "start_time": "2021-09-06T12:11:43.788672",
     "status": "completed"
    },
    "tags": []
   },
   "outputs": [],
   "source": [
    "# hide\n",
    "# g['date'] = g['date'].astype('datetime64[ns]')"
   ]
  },
  {
   "cell_type": "code",
   "execution_count": 34,
   "id": "sophisticated-supervisor",
   "metadata": {
    "execution": {
     "iopub.execute_input": "2021-09-06T12:11:43.922332Z",
     "iopub.status.busy": "2021-09-06T12:11:43.921708Z",
     "iopub.status.idle": "2021-09-06T12:11:43.924189Z",
     "shell.execute_reply": "2021-09-06T12:11:43.923577Z"
    },
    "papermill": {
     "duration": 0.045575,
     "end_time": "2021-09-06T12:11:43.924314",
     "exception": false,
     "start_time": "2021-09-06T12:11:43.878739",
     "status": "completed"
    },
    "tags": []
   },
   "outputs": [],
   "source": [
    "#hide\n",
    "# g['date'] = g.date.dt.dayofyear"
   ]
  },
  {
   "cell_type": "code",
   "execution_count": 35,
   "id": "inside-dubai",
   "metadata": {
    "execution": {
     "iopub.execute_input": "2021-09-06T12:11:44.008782Z",
     "iopub.status.busy": "2021-09-06T12:11:44.008049Z",
     "iopub.status.idle": "2021-09-06T12:11:44.010005Z",
     "shell.execute_reply": "2021-09-06T12:11:44.010651Z"
    },
    "papermill": {
     "duration": 0.046013,
     "end_time": "2021-09-06T12:11:44.010789",
     "exception": false,
     "start_time": "2021-09-06T12:11:43.964776",
     "status": "completed"
    },
    "tags": []
   },
   "outputs": [],
   "source": [
    "#hide\n",
    "# g = g.rename(columns= {'continent':'group','country':'name','cases':'value'})"
   ]
  },
  {
   "cell_type": "code",
   "execution_count": 36,
   "id": "fleet-motorcycle",
   "metadata": {
    "execution": {
     "iopub.execute_input": "2021-09-06T12:11:44.091339Z",
     "iopub.status.busy": "2021-09-06T12:11:44.090709Z",
     "iopub.status.idle": "2021-09-06T12:11:44.093015Z",
     "shell.execute_reply": "2021-09-06T12:11:44.092414Z"
    },
    "papermill": {
     "duration": 0.043844,
     "end_time": "2021-09-06T12:11:44.093123",
     "exception": false,
     "start_time": "2021-09-06T12:11:44.049279",
     "status": "completed"
    },
    "tags": []
   },
   "outputs": [],
   "source": [
    "#hide\n",
    "# cols = ['name','group','day','value']"
   ]
  },
  {
   "cell_type": "code",
   "execution_count": 37,
   "id": "continued-sleeping",
   "metadata": {
    "execution": {
     "iopub.execute_input": "2021-09-06T12:11:44.176844Z",
     "iopub.status.busy": "2021-09-06T12:11:44.176162Z",
     "iopub.status.idle": "2021-09-06T12:11:44.178762Z",
     "shell.execute_reply": "2021-09-06T12:11:44.178204Z"
    },
    "papermill": {
     "duration": 0.047234,
     "end_time": "2021-09-06T12:11:44.178897",
     "exception": false,
     "start_time": "2021-09-06T12:11:44.131663",
     "status": "completed"
    },
    "tags": []
   },
   "outputs": [],
   "source": [
    "#hide\n",
    "# g.rename(columns= {'date':'day'},inplace = True)"
   ]
  },
  {
   "cell_type": "code",
   "execution_count": 38,
   "id": "major-fight",
   "metadata": {
    "execution": {
     "iopub.execute_input": "2021-09-06T12:11:44.262462Z",
     "iopub.status.busy": "2021-09-06T12:11:44.261842Z",
     "iopub.status.idle": "2021-09-06T12:11:44.264442Z",
     "shell.execute_reply": "2021-09-06T12:11:44.263889Z"
    },
    "papermill": {
     "duration": 0.045248,
     "end_time": "2021-09-06T12:11:44.264563",
     "exception": false,
     "start_time": "2021-09-06T12:11:44.219315",
     "status": "completed"
    },
    "tags": []
   },
   "outputs": [],
   "source": [
    "#hide\n",
    "# g = g[cols]"
   ]
  },
  {
   "cell_type": "code",
   "execution_count": 39,
   "id": "structured-mobile",
   "metadata": {
    "execution": {
     "iopub.execute_input": "2021-09-06T12:11:44.347592Z",
     "iopub.status.busy": "2021-09-06T12:11:44.346946Z",
     "iopub.status.idle": "2021-09-06T12:11:44.349389Z",
     "shell.execute_reply": "2021-09-06T12:11:44.348827Z"
    },
    "papermill": {
     "duration": 0.045448,
     "end_time": "2021-09-06T12:11:44.349525",
     "exception": false,
     "start_time": "2021-09-06T12:11:44.304077",
     "status": "completed"
    },
    "tags": []
   },
   "outputs": [],
   "source": [
    "# #hide\n",
    "# g = g[g.group.notna()]"
   ]
  },
  {
   "cell_type": "code",
   "execution_count": 40,
   "id": "determined-closing",
   "metadata": {
    "execution": {
     "iopub.execute_input": "2021-09-06T12:11:44.432582Z",
     "iopub.status.busy": "2021-09-06T12:11:44.431703Z",
     "iopub.status.idle": "2021-09-06T12:11:44.434250Z",
     "shell.execute_reply": "2021-09-06T12:11:44.433678Z"
    },
    "papermill": {
     "duration": 0.044414,
     "end_time": "2021-09-06T12:11:44.434372",
     "exception": false,
     "start_time": "2021-09-06T12:11:44.389958",
     "status": "completed"
    },
    "tags": []
   },
   "outputs": [],
   "source": [
    "# #hide\n",
    "# colors = dict(zip(\n",
    "#     [\"Oceania\", \"Europe\", \"Asia\", \"South America\", \"Middle East\", \"North America\", \"Africa\"],\n",
    "#     [\"#adb0ff\", \"#ffb3ff\", \"#90d595\", \"#e48381\", \"#aafbff\", \"#f7bb5f\", \"#eafb50\"]\n",
    "# ))\n",
    "# group_lk = g.set_index('name')['group'].to_dict()"
   ]
  },
  {
   "cell_type": "code",
   "execution_count": null,
   "id": "gross-drinking",
   "metadata": {
    "papermill": {
     "duration": 0.038332,
     "end_time": "2021-09-06T12:11:44.513254",
     "exception": false,
     "start_time": "2021-09-06T12:11:44.474922",
     "status": "completed"
    },
    "tags": []
   },
   "outputs": [],
   "source": []
  },
  {
   "cell_type": "code",
   "execution_count": 41,
   "id": "subject-macintosh",
   "metadata": {
    "execution": {
     "iopub.execute_input": "2021-09-06T12:11:44.595641Z",
     "iopub.status.busy": "2021-09-06T12:11:44.594968Z",
     "iopub.status.idle": "2021-09-06T12:11:44.597548Z",
     "shell.execute_reply": "2021-09-06T12:11:44.597001Z"
    },
    "papermill": {
     "duration": 0.046404,
     "end_time": "2021-09-06T12:11:44.597694",
     "exception": false,
     "start_time": "2021-09-06T12:11:44.551290",
     "status": "completed"
    },
    "tags": []
   },
   "outputs": [],
   "source": [
    "# #hide\n",
    "# fig, ax = plt.subplots(figsize=(15, 8))\n",
    "\n",
    "# def draw_barchart(current_day):\n",
    "#     dff = g[g['day'].eq(current_day)].sort_values(by='value', ascending=True).tail(10)\n",
    "#     ax.clear()\n",
    "#     ax.barh(dff['name'], dff['value'], color=[colors[group_lk[x]] for x in dff['name']])\n",
    "#     dx = dff['value'].max() / 200\n",
    "    \n",
    "#     for i, (value, name) in enumerate(zip(dff['value'], dff['name'])):\n",
    "#         ax.text(value-dx, i,     name,           size=14, weight=600, ha='right', va='bottom')\n",
    "#         ax.text(value-dx, i-.25, group_lk[name], size=10, color='#444444', ha='right', va='baseline')\n",
    "#         ax.text(value+dx, i,     f'{value:,.0f}',  size=14, ha='left',  va='center')\n",
    "#     ax.text(1, 0.4, current_day, transform=ax.transAxes, color='#777777', size=46, ha='right', weight=800)\n",
    "#     ax.text(0, 1.06, 'Population (thousands)', transform=ax.transAxes, size=12, color='#777777')\n",
    "#     ax.xaxis.set_major_formatter(ticker.StrMethodFormatter('{x:,.0f}'))\n",
    "#     ax.xaxis.set_ticks_position('top')\n",
    "#     ax.tick_params(axis='x', colors='#777777', labelsize=12)\n",
    "#     ax.set_yticks([])\n",
    "#     ax.margins(0, 0.01)\n",
    "#     ax.grid(which='major', axis='x', linestyle='-')\n",
    "#     ax.set_axisbelow(True)\n",
    "    \n",
    "#     ax.text(0, 1.15, 'Coronavirus',\n",
    "#             transform=ax.transAxes, size=24, weight=600, ha='left', va='top')\n",
    "# #     ax.text(1, 0, 'by @pratapvardhan; credit @jburnmurdoch', transform=ax.transAxes, color='#777777', ha='right',\n",
    "# #             bbox=dict(facecolor='white', alpha=0.8, edgecolor='white'))\n",
    "#     plt.box(False)"
   ]
  },
  {
   "cell_type": "code",
   "execution_count": 42,
   "id": "sexual-wages",
   "metadata": {
    "execution": {
     "iopub.execute_input": "2021-09-06T12:11:44.680154Z",
     "iopub.status.busy": "2021-09-06T12:11:44.679471Z",
     "iopub.status.idle": "2021-09-06T12:11:44.681997Z",
     "shell.execute_reply": "2021-09-06T12:11:44.681428Z"
    },
    "papermill": {
     "duration": 0.044446,
     "end_time": "2021-09-06T12:11:44.682122",
     "exception": false,
     "start_time": "2021-09-06T12:11:44.637676",
     "status": "completed"
    },
    "tags": []
   },
   "outputs": [],
   "source": [
    "# #hide_input\n",
    "# fig, ax = plt.subplots(figsize=(15, 8))\n",
    "# animator = animation.FuncAnimation(fig, draw_barchart, frames=range(g.day.values.min(), g.day.values.max()))\n",
    "# HTML(animator.to_jshtml())\n",
    "# # or use animator.to_html5_video() or animator.save() "
   ]
  },
  {
   "cell_type": "code",
   "execution_count": null,
   "id": "australian-container",
   "metadata": {
    "papermill": {
     "duration": 0.038842,
     "end_time": "2021-09-06T12:11:44.760935",
     "exception": false,
     "start_time": "2021-09-06T12:11:44.722093",
     "status": "completed"
    },
    "tags": []
   },
   "outputs": [],
   "source": []
  },
  {
   "cell_type": "code",
   "execution_count": null,
   "id": "mediterranean-pontiac",
   "metadata": {
    "papermill": {
     "duration": 0.038983,
     "end_time": "2021-09-06T12:11:44.839188",
     "exception": false,
     "start_time": "2021-09-06T12:11:44.800205",
     "status": "completed"
    },
    "tags": []
   },
   "outputs": [],
   "source": []
  },
  {
   "cell_type": "code",
   "execution_count": null,
   "id": "aging-legislature",
   "metadata": {
    "papermill": {
     "duration": 0.03937,
     "end_time": "2021-09-06T12:11:44.917603",
     "exception": false,
     "start_time": "2021-09-06T12:11:44.878233",
     "status": "completed"
    },
    "tags": []
   },
   "outputs": [],
   "source": []
  }
 ],
 "metadata": {
  "kernelspec": {
   "display_name": "Python 3",
   "language": "python",
   "name": "python3"
  },
  "language_info": {
   "codemirror_mode": {
    "name": "ipython",
    "version": 3
   },
   "file_extension": ".py",
   "mimetype": "text/x-python",
   "name": "python",
   "nbconvert_exporter": "python",
   "pygments_lexer": "ipython3",
   "version": "3.6.14"
  },
  "papermill": {
   "duration": 7.126904,
   "end_time": "2021-09-06T12:11:45.365258",
   "environment_variables": {},
   "exception": null,
   "input_path": "2020-03-21-covid19exp.ipynb",
   "output_path": "2020-03-21-covid19exp.ipynb",
   "parameters": {},
   "start_time": "2021-09-06T12:11:38.238354",
   "version": "2.0.0"
  }
 },
 "nbformat": 4,
 "nbformat_minor": 5
}