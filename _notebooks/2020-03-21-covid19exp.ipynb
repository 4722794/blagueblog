{
 "cells": [
  {
   "cell_type": "markdown",
   "id": "muslim-click",
   "metadata": {
    "papermill": {
     "duration": 0.043314,
     "end_time": "2021-09-06T00:24:42.615582",
     "exception": false,
     "start_time": "2021-09-06T00:24:42.572268",
     "status": "completed"
    },
    "tags": []
   },
   "source": [
    "# COVID-19 Case Race\n",
    "> A race chart to see rising cases around the world\n",
    "\n",
    "- author: Hargun Oberoi\n",
    "- image: images/covid-overview.png\n",
    "- hide: false\n",
    "- badges: false"
   ]
  },
  {
   "cell_type": "code",
   "execution_count": 1,
   "id": "proof-material",
   "metadata": {
    "execution": {
     "iopub.execute_input": "2021-09-06T00:24:42.699255Z",
     "iopub.status.busy": "2021-09-06T00:24:42.698548Z",
     "iopub.status.idle": "2021-09-06T00:24:43.089603Z",
     "shell.execute_reply": "2021-09-06T00:24:43.090106Z"
    },
    "papermill": {
     "duration": 0.439527,
     "end_time": "2021-09-06T00:24:43.090294",
     "exception": false,
     "start_time": "2021-09-06T00:24:42.650767",
     "status": "completed"
    },
    "tags": []
   },
   "outputs": [],
   "source": [
    "#hide\n",
    "import numpy as np\n",
    "import pandas as pd\n",
    "from jinja2 import Template\n",
    "from IPython.display import HTML"
   ]
  },
  {
   "cell_type": "code",
   "execution_count": 2,
   "id": "developed-terminology",
   "metadata": {
    "execution": {
     "iopub.execute_input": "2021-09-06T00:24:43.168774Z",
     "iopub.status.busy": "2021-09-06T00:24:43.168130Z",
     "iopub.status.idle": "2021-09-06T00:24:43.170655Z",
     "shell.execute_reply": "2021-09-06T00:24:43.171159Z"
    },
    "papermill": {
     "duration": 0.04605,
     "end_time": "2021-09-06T00:24:43.171306",
     "exception": false,
     "start_time": "2021-09-06T00:24:43.125256",
     "status": "completed"
    },
    "tags": []
   },
   "outputs": [],
   "source": [
    "#hide\n",
    "\n",
    "# FETCH\n",
    "base_url = 'https://raw.githubusercontent.com/pratapvardhan/notebooks/master/covid19/'\n",
    "paths = {\n",
    "    'mapping': base_url + 'mapping_countries.csv',\n",
    "    'overview': base_url + 'overview.tpl'\n",
    "}"
   ]
  },
  {
   "cell_type": "code",
   "execution_count": 3,
   "id": "dynamic-saver",
   "metadata": {
    "execution": {
     "iopub.execute_input": "2021-09-06T00:24:43.254859Z",
     "iopub.status.busy": "2021-09-06T00:24:43.254141Z",
     "iopub.status.idle": "2021-09-06T00:24:43.257827Z",
     "shell.execute_reply": "2021-09-06T00:24:43.258317Z"
    },
    "papermill": {
     "duration": 0.05259,
     "end_time": "2021-09-06T00:24:43.258467",
     "exception": false,
     "start_time": "2021-09-06T00:24:43.205877",
     "status": "completed"
    },
    "tags": []
   },
   "outputs": [
    {
     "data": {
      "text/plain": [
       "'https://raw.githubusercontent.com/pratapvardhan/notebooks/master/covid19/mapping_countries.csv'"
      ]
     },
     "execution_count": 3,
     "metadata": {},
     "output_type": "execute_result"
    }
   ],
   "source": [
    "#hide\n",
    "paths['mapping']"
   ]
  },
  {
   "cell_type": "code",
   "execution_count": 4,
   "id": "urban-software",
   "metadata": {
    "execution": {
     "iopub.execute_input": "2021-09-06T00:24:43.335984Z",
     "iopub.status.busy": "2021-09-06T00:24:43.335357Z",
     "iopub.status.idle": "2021-09-06T00:24:43.337654Z",
     "shell.execute_reply": "2021-09-06T00:24:43.337133Z"
    },
    "papermill": {
     "duration": 0.044086,
     "end_time": "2021-09-06T00:24:43.337780",
     "exception": false,
     "start_time": "2021-09-06T00:24:43.293694",
     "status": "completed"
    },
    "tags": []
   },
   "outputs": [],
   "source": [
    "#hide\n",
    "def get_mappings(url):\n",
    "    df = pd.read_csv(url)\n",
    "    return {\n",
    "        'df': df,\n",
    "        'replace.country': dict(df.dropna(subset=['Name']).set_index('Country')['Name']),\n",
    "        'map.continent': dict(df.set_index('Name')['Continent'])\n",
    "    }"
   ]
  },
  {
   "cell_type": "code",
   "execution_count": 5,
   "id": "intimate-machinery",
   "metadata": {
    "execution": {
     "iopub.execute_input": "2021-09-06T00:24:43.415958Z",
     "iopub.status.busy": "2021-09-06T00:24:43.415336Z",
     "iopub.status.idle": "2021-09-06T00:24:43.461775Z",
     "shell.execute_reply": "2021-09-06T00:24:43.460937Z"
    },
    "papermill": {
     "duration": 0.089062,
     "end_time": "2021-09-06T00:24:43.461983",
     "exception": false,
     "start_time": "2021-09-06T00:24:43.372921",
     "status": "completed"
    },
    "tags": []
   },
   "outputs": [],
   "source": [
    "#hide\n",
    "mapping = get_mappings(paths['mapping'])"
   ]
  },
  {
   "cell_type": "code",
   "execution_count": 6,
   "id": "certified-tactics",
   "metadata": {
    "execution": {
     "iopub.execute_input": "2021-09-06T00:24:43.539255Z",
     "iopub.status.busy": "2021-09-06T00:24:43.538633Z",
     "iopub.status.idle": "2021-09-06T00:24:43.540328Z",
     "shell.execute_reply": "2021-09-06T00:24:43.540888Z"
    },
    "papermill": {
     "duration": 0.042695,
     "end_time": "2021-09-06T00:24:43.541033",
     "exception": false,
     "start_time": "2021-09-06T00:24:43.498338",
     "status": "completed"
    },
    "tags": []
   },
   "outputs": [],
   "source": [
    "#hide\n",
    "def get_template(path):\n",
    "    from urllib.parse import urlparse\n",
    "    if bool(urlparse(path).netloc):\n",
    "        from urllib.request import urlopen\n",
    "        return urlopen(path).read().decode('utf8')\n",
    "    return open(path).read()"
   ]
  },
  {
   "cell_type": "code",
   "execution_count": 7,
   "id": "realistic-blast",
   "metadata": {
    "execution": {
     "iopub.execute_input": "2021-09-06T00:24:43.617426Z",
     "iopub.status.busy": "2021-09-06T00:24:43.616820Z",
     "iopub.status.idle": "2021-09-06T00:24:43.618948Z",
     "shell.execute_reply": "2021-09-06T00:24:43.619409Z"
    },
    "papermill": {
     "duration": 0.04373,
     "end_time": "2021-09-06T00:24:43.619549",
     "exception": false,
     "start_time": "2021-09-06T00:24:43.575819",
     "status": "completed"
    },
    "tags": []
   },
   "outputs": [],
   "source": [
    "#hide\n",
    "def get_frame(name):\n",
    "    url = (\n",
    "        'https://raw.githubusercontent.com/CSSEGISandData/COVID-19/master/csse_covid_19_data/'\n",
    "        f'csse_covid_19_time_series/time_series_covid19_{name}_global.csv')\n",
    "    df = pd.read_csv(url)\n",
    "    # rename countries\n",
    "    df['Country/Region'] = df['Country/Region'].replace(mapping['replace.country'])\n",
    "    return df"
   ]
  },
  {
   "cell_type": "code",
   "execution_count": 8,
   "id": "affiliated-characterization",
   "metadata": {
    "execution": {
     "iopub.execute_input": "2021-09-06T00:24:43.697659Z",
     "iopub.status.busy": "2021-09-06T00:24:43.697044Z",
     "iopub.status.idle": "2021-09-06T00:24:43.700075Z",
     "shell.execute_reply": "2021-09-06T00:24:43.699583Z"
    },
    "papermill": {
     "duration": 0.045881,
     "end_time": "2021-09-06T00:24:43.700202",
     "exception": false,
     "start_time": "2021-09-06T00:24:43.654321",
     "status": "completed"
    },
    "tags": []
   },
   "outputs": [],
   "source": [
    "#hide\n",
    "def get_dates(df):\n",
    "    dt_cols = df.columns[~df.columns.isin(['Province/State', 'Country/Region', 'Lat', 'Long'])]\n",
    "    LAST_DATE_I = -1\n",
    "    # sometimes last column may be empty, then go backwards\n",
    "    for i in range(-1, -len(dt_cols), -1):\n",
    "        if not df[dt_cols[i]].fillna(0).eq(0).all():\n",
    "            LAST_DATE_I = i\n",
    "            break\n",
    "    return LAST_DATE_I, dt_cols"
   ]
  },
  {
   "cell_type": "code",
   "execution_count": 9,
   "id": "recent-optimization",
   "metadata": {
    "execution": {
     "iopub.execute_input": "2021-09-06T00:24:43.776346Z",
     "iopub.status.busy": "2021-09-06T00:24:43.775725Z",
     "iopub.status.idle": "2021-09-06T00:24:44.106529Z",
     "shell.execute_reply": "2021-09-06T00:24:44.105929Z"
    },
    "papermill": {
     "duration": 0.37142,
     "end_time": "2021-09-06T00:24:44.106699",
     "exception": false,
     "start_time": "2021-09-06T00:24:43.735279",
     "status": "completed"
    },
    "tags": []
   },
   "outputs": [],
   "source": [
    "#hide\n",
    "COL_REGION = 'Country/Region'\n",
    "# Confirmed, Recovered, Deaths\n",
    "df = get_frame('confirmed')\n",
    "# dft_: timeseries, dfc_: today country agg\n",
    "dft_cases = df\n",
    "dft_deaths = get_frame('deaths')\n",
    "dft_recovered = get_frame('recovered')\n",
    "LAST_DATE_I, dt_cols = get_dates(df)"
   ]
  },
  {
   "cell_type": "code",
   "execution_count": 10,
   "id": "absolute-copper",
   "metadata": {
    "execution": {
     "iopub.execute_input": "2021-09-06T00:24:44.184884Z",
     "iopub.status.busy": "2021-09-06T00:24:44.184253Z",
     "iopub.status.idle": "2021-09-06T00:24:44.186390Z",
     "shell.execute_reply": "2021-09-06T00:24:44.186911Z"
    },
    "papermill": {
     "duration": 0.045174,
     "end_time": "2021-09-06T00:24:44.187062",
     "exception": false,
     "start_time": "2021-09-06T00:24:44.141888",
     "status": "completed"
    },
    "tags": []
   },
   "outputs": [],
   "source": [
    "#hide\n",
    "LAST_DATE_I, dt_cols = get_dates(df)\n",
    "dt_today =dt_cols[LAST_DATE_I]\n",
    "# dt_5day = dt_cols[LAST_DATE_I - 5]\n",
    "dt_yday = dt_cols[LAST_DATE_I - 1]"
   ]
  },
  {
   "cell_type": "code",
   "execution_count": 11,
   "id": "restricted-sheriff",
   "metadata": {
    "execution": {
     "iopub.execute_input": "2021-09-06T00:24:44.261452Z",
     "iopub.status.busy": "2021-09-06T00:24:44.260379Z",
     "iopub.status.idle": "2021-09-06T00:24:44.271210Z",
     "shell.execute_reply": "2021-09-06T00:24:44.270619Z"
    },
    "papermill": {
     "duration": 0.049238,
     "end_time": "2021-09-06T00:24:44.271345",
     "exception": false,
     "start_time": "2021-09-06T00:24:44.222107",
     "status": "completed"
    },
    "tags": []
   },
   "outputs": [],
   "source": [
    "#hide\n",
    "dfc_cases = dft_cases.groupby(COL_REGION)[dt_today].sum()\n",
    "dfc_deaths = dft_deaths.groupby(COL_REGION)[dt_today].sum()\n",
    "# dfp_cases = dft_cases.groupby(COL_REGION)[dt_5day].sum()\n",
    "# dfp_deaths = dft_deaths.groupby(COL_REGION)[dt_5day].sum()\n",
    "dfp_cases = dft_cases.groupby(COL_REGION)[dt_yday].sum()\n",
    "dfp_deaths = dft_deaths.groupby(COL_REGION)[dt_yday].sum()"
   ]
  },
  {
   "cell_type": "code",
   "execution_count": 12,
   "id": "deluxe-hepatitis",
   "metadata": {
    "execution": {
     "iopub.execute_input": "2021-09-06T00:24:44.351263Z",
     "iopub.status.busy": "2021-09-06T00:24:44.350567Z",
     "iopub.status.idle": "2021-09-06T00:24:44.355421Z",
     "shell.execute_reply": "2021-09-06T00:24:44.354872Z"
    },
    "papermill": {
     "duration": 0.048721,
     "end_time": "2021-09-06T00:24:44.355557",
     "exception": false,
     "start_time": "2021-09-06T00:24:44.306836",
     "status": "completed"
    },
    "tags": []
   },
   "outputs": [],
   "source": [
    "#hide\n",
    "df_table = (pd.DataFrame(dict(Cases = dfc_cases, Deaths = dfc_deaths, PCases = dfp_cases, PDeaths = dfp_deaths))\n",
    "            .sort_values(by = ['Cases','Deaths'], ascending = [False, False])\n",
    "            .reset_index())"
   ]
  },
  {
   "cell_type": "code",
   "execution_count": 13,
   "id": "educational-chancellor",
   "metadata": {
    "execution": {
     "iopub.execute_input": "2021-09-06T00:24:44.446406Z",
     "iopub.status.busy": "2021-09-06T00:24:44.441004Z",
     "iopub.status.idle": "2021-09-06T00:24:44.454967Z",
     "shell.execute_reply": "2021-09-06T00:24:44.454389Z"
    },
    "papermill": {
     "duration": 0.064267,
     "end_time": "2021-09-06T00:24:44.455110",
     "exception": false,
     "start_time": "2021-09-06T00:24:44.390843",
     "status": "completed"
    },
    "tags": []
   },
   "outputs": [
    {
     "data": {
      "text/html": [
       "<div>\n",
       "<style scoped>\n",
       "    .dataframe tbody tr th:only-of-type {\n",
       "        vertical-align: middle;\n",
       "    }\n",
       "\n",
       "    .dataframe tbody tr th {\n",
       "        vertical-align: top;\n",
       "    }\n",
       "\n",
       "    .dataframe thead th {\n",
       "        text-align: right;\n",
       "    }\n",
       "</style>\n",
       "<table border=\"1\" class=\"dataframe\">\n",
       "  <thead>\n",
       "    <tr style=\"text-align: right;\">\n",
       "      <th></th>\n",
       "      <th>Country/Region</th>\n",
       "      <th>Cases</th>\n",
       "      <th>Deaths</th>\n",
       "      <th>PCases</th>\n",
       "      <th>PDeaths</th>\n",
       "      <th>Cases (+)</th>\n",
       "      <th>Deaths (+)</th>\n",
       "      <th>Fatality Rate</th>\n",
       "      <th>Continent</th>\n",
       "    </tr>\n",
       "  </thead>\n",
       "  <tbody>\n",
       "    <tr>\n",
       "      <th>0</th>\n",
       "      <td>US</td>\n",
       "      <td>39906426</td>\n",
       "      <td>648106</td>\n",
       "      <td>39850256</td>\n",
       "      <td>647579</td>\n",
       "      <td>56170</td>\n",
       "      <td>527</td>\n",
       "      <td>1.62</td>\n",
       "      <td>North America</td>\n",
       "    </tr>\n",
       "    <tr>\n",
       "      <th>1</th>\n",
       "      <td>India</td>\n",
       "      <td>32988673</td>\n",
       "      <td>440533</td>\n",
       "      <td>32945907</td>\n",
       "      <td>440225</td>\n",
       "      <td>42766</td>\n",
       "      <td>308</td>\n",
       "      <td>1.34</td>\n",
       "      <td>Asia</td>\n",
       "    </tr>\n",
       "    <tr>\n",
       "      <th>2</th>\n",
       "      <td>Brazil</td>\n",
       "      <td>20877864</td>\n",
       "      <td>583362</td>\n",
       "      <td>20856060</td>\n",
       "      <td>582670</td>\n",
       "      <td>21804</td>\n",
       "      <td>692</td>\n",
       "      <td>2.79</td>\n",
       "      <td>South America</td>\n",
       "    </tr>\n",
       "    <tr>\n",
       "      <th>3</th>\n",
       "      <td>United Kingdom</td>\n",
       "      <td>6973995</td>\n",
       "      <td>133485</td>\n",
       "      <td>6937270</td>\n",
       "      <td>133365</td>\n",
       "      <td>36725</td>\n",
       "      <td>120</td>\n",
       "      <td>1.91</td>\n",
       "      <td>Europe</td>\n",
       "    </tr>\n",
       "    <tr>\n",
       "      <th>4</th>\n",
       "      <td>France</td>\n",
       "      <td>6910865</td>\n",
       "      <td>115352</td>\n",
       "      <td>6897529</td>\n",
       "      <td>115269</td>\n",
       "      <td>13336</td>\n",
       "      <td>83</td>\n",
       "      <td>1.67</td>\n",
       "      <td>Europe</td>\n",
       "    </tr>\n",
       "  </tbody>\n",
       "</table>\n",
       "</div>"
      ],
      "text/plain": [
       "   Country/Region     Cases  Deaths    PCases  PDeaths  Cases (+)  Deaths (+)  \\\n",
       "0              US  39906426  648106  39850256   647579      56170         527   \n",
       "1           India  32988673  440533  32945907   440225      42766         308   \n",
       "2          Brazil  20877864  583362  20856060   582670      21804         692   \n",
       "3  United Kingdom   6973995  133485   6937270   133365      36725         120   \n",
       "4          France   6910865  115352   6897529   115269      13336          83   \n",
       "\n",
       "   Fatality Rate      Continent  \n",
       "0           1.62  North America  \n",
       "1           1.34           Asia  \n",
       "2           2.79  South America  \n",
       "3           1.91         Europe  \n",
       "4           1.67         Europe  "
      ]
     },
     "execution_count": 13,
     "metadata": {},
     "output_type": "execute_result"
    }
   ],
   "source": [
    "#hide\n",
    "for c in 'Cases, Deaths'.split(', '):\n",
    "    df_table[f'{c} (+)'] = (df_table[c] - df_table[f'P{c}']).clip(0)\n",
    "    #Clip ça veut dire, les chiffres negatif sont interdit\n",
    "df_table['Fatality Rate'] = (100* df_table['Deaths']/ df_table['Cases']).round(2)\n",
    "df_table['Continent'] = df_table['Country/Region'].map(mapping['map.continent'])\n",
    "df_table.head(5)"
   ]
  },
  {
   "cell_type": "code",
   "execution_count": 14,
   "id": "aboriginal-bulgaria",
   "metadata": {
    "execution": {
     "iopub.execute_input": "2021-09-06T00:24:44.534656Z",
     "iopub.status.busy": "2021-09-06T00:24:44.533982Z",
     "iopub.status.idle": "2021-09-06T00:24:44.536271Z",
     "shell.execute_reply": "2021-09-06T00:24:44.536773Z"
    },
    "papermill": {
     "duration": 0.045879,
     "end_time": "2021-09-06T00:24:44.536929",
     "exception": false,
     "start_time": "2021-09-06T00:24:44.491050",
     "status": "completed"
    },
    "tags": []
   },
   "outputs": [],
   "source": [
    "#hide\n",
    "#delete problematic countries from table\n",
    "df_table = df_table[~df_table['Country/Region'].isin(['Cape Verde', 'Cruise Ship', 'Kosovo'])]"
   ]
  },
  {
   "cell_type": "code",
   "execution_count": 15,
   "id": "fantastic-effect",
   "metadata": {
    "execution": {
     "iopub.execute_input": "2021-09-06T00:24:44.618093Z",
     "iopub.status.busy": "2021-09-06T00:24:44.617453Z",
     "iopub.status.idle": "2021-09-06T00:24:44.637102Z",
     "shell.execute_reply": "2021-09-06T00:24:44.637879Z"
    },
    "papermill": {
     "duration": 0.065429,
     "end_time": "2021-09-06T00:24:44.638073",
     "exception": false,
     "start_time": "2021-09-06T00:24:44.572644",
     "status": "completed"
    },
    "tags": []
   },
   "outputs": [
    {
     "data": {
      "text/html": [
       "<div>\n",
       "<style scoped>\n",
       "    .dataframe tbody tr th:only-of-type {\n",
       "        vertical-align: middle;\n",
       "    }\n",
       "\n",
       "    .dataframe tbody tr th {\n",
       "        vertical-align: top;\n",
       "    }\n",
       "\n",
       "    .dataframe thead th {\n",
       "        text-align: right;\n",
       "    }\n",
       "</style>\n",
       "<table border=\"1\" class=\"dataframe\">\n",
       "  <thead>\n",
       "    <tr style=\"text-align: right;\">\n",
       "      <th></th>\n",
       "      <th>Country/Region</th>\n",
       "      <th>Cases</th>\n",
       "      <th>Deaths</th>\n",
       "      <th>PCases</th>\n",
       "      <th>PDeaths</th>\n",
       "      <th>Cases (+)</th>\n",
       "      <th>Deaths (+)</th>\n",
       "      <th>Fatality Rate</th>\n",
       "      <th>Continent</th>\n",
       "    </tr>\n",
       "  </thead>\n",
       "  <tbody>\n",
       "    <tr>\n",
       "      <th>0</th>\n",
       "      <td>US</td>\n",
       "      <td>39906426</td>\n",
       "      <td>648106</td>\n",
       "      <td>39850256</td>\n",
       "      <td>647579</td>\n",
       "      <td>56170</td>\n",
       "      <td>527</td>\n",
       "      <td>1.6</td>\n",
       "      <td>North America</td>\n",
       "    </tr>\n",
       "    <tr>\n",
       "      <th>1</th>\n",
       "      <td>India</td>\n",
       "      <td>32988673</td>\n",
       "      <td>440533</td>\n",
       "      <td>32945907</td>\n",
       "      <td>440225</td>\n",
       "      <td>42766</td>\n",
       "      <td>308</td>\n",
       "      <td>1.3</td>\n",
       "      <td>Asia</td>\n",
       "    </tr>\n",
       "    <tr>\n",
       "      <th>2</th>\n",
       "      <td>Brazil</td>\n",
       "      <td>20877864</td>\n",
       "      <td>583362</td>\n",
       "      <td>20856060</td>\n",
       "      <td>582670</td>\n",
       "      <td>21804</td>\n",
       "      <td>692</td>\n",
       "      <td>2.8</td>\n",
       "      <td>South America</td>\n",
       "    </tr>\n",
       "    <tr>\n",
       "      <th>3</th>\n",
       "      <td>United Kingdom</td>\n",
       "      <td>6973995</td>\n",
       "      <td>133485</td>\n",
       "      <td>6937270</td>\n",
       "      <td>133365</td>\n",
       "      <td>36725</td>\n",
       "      <td>120</td>\n",
       "      <td>1.9</td>\n",
       "      <td>Europe</td>\n",
       "    </tr>\n",
       "    <tr>\n",
       "      <th>4</th>\n",
       "      <td>France</td>\n",
       "      <td>6910865</td>\n",
       "      <td>115352</td>\n",
       "      <td>6897529</td>\n",
       "      <td>115269</td>\n",
       "      <td>13336</td>\n",
       "      <td>83</td>\n",
       "      <td>1.7</td>\n",
       "      <td>Europe</td>\n",
       "    </tr>\n",
       "  </tbody>\n",
       "</table>\n",
       "</div>"
      ],
      "text/plain": [
       "   Country/Region     Cases  Deaths    PCases  PDeaths  Cases (+)  Deaths (+)  \\\n",
       "0              US  39906426  648106  39850256   647579      56170         527   \n",
       "1           India  32988673  440533  32945907   440225      42766         308   \n",
       "2          Brazil  20877864  583362  20856060   582670      21804         692   \n",
       "3  United Kingdom   6973995  133485   6937270   133365      36725         120   \n",
       "4          France   6910865  115352   6897529   115269      13336          83   \n",
       "\n",
       "   Fatality Rate      Continent  \n",
       "0            1.6  North America  \n",
       "1            1.3           Asia  \n",
       "2            2.8  South America  \n",
       "3            1.9         Europe  \n",
       "4            1.7         Europe  "
      ]
     },
     "execution_count": 15,
     "metadata": {},
     "output_type": "execute_result"
    }
   ],
   "source": [
    "#hide\n",
    "df_table = (pd.DataFrame(dict(Cases=dfc_cases, Deaths=dfc_deaths, PCases=dfp_cases, PDeaths=dfp_deaths))\n",
    "             .sort_values(by=['Cases', 'Deaths'], ascending=[False, False])\n",
    "             .reset_index())\n",
    "df_table.rename(columns={'index': 'Country/Region'}, inplace=True)\n",
    "for c in 'Cases, Deaths'.split(', '):\n",
    "    df_table[f'{c} (+)'] = (df_table[c] - df_table[f'P{c}']).clip(0)  # DATA BUG\n",
    "df_table['Fatality Rate'] = (100 * df_table['Deaths'] / df_table['Cases']).round(1)\n",
    "df_table['Continent'] = df_table['Country/Region'].map(mapping['map.continent'])\n",
    "df_table.head(5)"
   ]
  },
  {
   "cell_type": "code",
   "execution_count": 16,
   "id": "fewer-occasion",
   "metadata": {
    "execution": {
     "iopub.execute_input": "2021-09-06T00:24:44.720169Z",
     "iopub.status.busy": "2021-09-06T00:24:44.719541Z",
     "iopub.status.idle": "2021-09-06T00:24:44.722399Z",
     "shell.execute_reply": "2021-09-06T00:24:44.723030Z"
    },
    "papermill": {
     "duration": 0.047789,
     "end_time": "2021-09-06T00:24:44.723184",
     "exception": false,
     "start_time": "2021-09-06T00:24:44.675395",
     "status": "completed"
    },
    "tags": []
   },
   "outputs": [],
   "source": [
    "#hide\n",
    "#delete problematic countries from table\n",
    "df_table = df_table[~df_table['Country/Region'].isin(['Cape Verde', 'Cruise Ship', 'Kosovo'])]"
   ]
  },
  {
   "cell_type": "code",
   "execution_count": 17,
   "id": "related-center",
   "metadata": {
    "execution": {
     "iopub.execute_input": "2021-09-06T00:24:44.809853Z",
     "iopub.status.busy": "2021-09-06T00:24:44.809203Z",
     "iopub.status.idle": "2021-09-06T00:24:44.817766Z",
     "shell.execute_reply": "2021-09-06T00:24:44.818262Z"
    },
    "papermill": {
     "duration": 0.059084,
     "end_time": "2021-09-06T00:24:44.818414",
     "exception": false,
     "start_time": "2021-09-06T00:24:44.759330",
     "status": "completed"
    },
    "tags": []
   },
   "outputs": [],
   "source": [
    "#hide\n",
    "metrics = [df_table.columns[index] for index in [1,2,5,6]]\n",
    "# s_china = df_table[df_table['Country/Region'].eq('China')][metrics].sum().add_prefix('China ')\n",
    "s_us = df_table[df_table['Country/Region'].eq('US')][metrics].sum().add_prefix('US ')\n",
    "s_eu = df_table[df_table['Continent'].eq('Europe')][metrics].sum().add_prefix('EU ')\n",
    "s_ind = df_table[df_table['Country/Region'].eq('India')][metrics].sum().add_prefix('India ')\n",
    "summary = {'updated': pd.to_datetime(dt_today), 'since': pd.to_datetime(dt_yday)}\n",
    "summary = {'updated': pd.to_datetime(dt_today), 'since': pd.to_datetime(dt_yday)}\n",
    "summary = {**summary, **df_table[metrics].sum(), **s_ind, **s_us, **s_eu}"
   ]
  },
  {
   "cell_type": "code",
   "execution_count": 18,
   "id": "engaging-syndrome",
   "metadata": {
    "execution": {
     "iopub.execute_input": "2021-09-06T00:24:44.898159Z",
     "iopub.status.busy": "2021-09-06T00:24:44.897539Z",
     "iopub.status.idle": "2021-09-06T00:24:44.912983Z",
     "shell.execute_reply": "2021-09-06T00:24:44.912472Z"
    },
    "papermill": {
     "duration": 0.0583,
     "end_time": "2021-09-06T00:24:44.913117",
     "exception": false,
     "start_time": "2021-09-06T00:24:44.854817",
     "status": "completed"
    },
    "tags": []
   },
   "outputs": [],
   "source": [
    "#hide\n",
    "dft_ct_new_cases = dft_cases.groupby(COL_REGION)[dt_cols].sum().diff(axis=1).fillna(0).astype(int)"
   ]
  },
  {
   "cell_type": "code",
   "execution_count": 19,
   "id": "neutral-assignment",
   "metadata": {
    "execution": {
     "iopub.execute_input": "2021-09-06T00:24:44.991950Z",
     "iopub.status.busy": "2021-09-06T00:24:44.991337Z",
     "iopub.status.idle": "2021-09-06T00:24:44.994067Z",
     "shell.execute_reply": "2021-09-06T00:24:44.993575Z"
    },
    "papermill": {
     "duration": 0.044995,
     "end_time": "2021-09-06T00:24:44.994195",
     "exception": false,
     "start_time": "2021-09-06T00:24:44.949200",
     "status": "completed"
    },
    "tags": []
   },
   "outputs": [],
   "source": [
    "#hide\n",
    "everydaycases = dft_ct_new_cases.cumsum(axis=1)"
   ]
  },
  {
   "cell_type": "code",
   "execution_count": 20,
   "id": "parliamentary-calgary",
   "metadata": {
    "execution": {
     "iopub.execute_input": "2021-09-06T00:24:45.072305Z",
     "iopub.status.busy": "2021-09-06T00:24:45.071680Z",
     "iopub.status.idle": "2021-09-06T00:24:45.760630Z",
     "shell.execute_reply": "2021-09-06T00:24:45.759678Z"
    },
    "papermill": {
     "duration": 0.730417,
     "end_time": "2021-09-06T00:24:45.760777",
     "exception": false,
     "start_time": "2021-09-06T00:24:45.030360",
     "status": "completed"
    },
    "tags": []
   },
   "outputs": [],
   "source": [
    "#hide\n",
    "import pandas as pd\n",
    "import matplotlib.pyplot as plt\n",
    "import matplotlib.ticker as ticker\n",
    "import matplotlib.animation as animation\n",
    "from IPython.display import HTML"
   ]
  },
  {
   "cell_type": "code",
   "execution_count": 21,
   "id": "lasting-extraction",
   "metadata": {
    "execution": {
     "iopub.execute_input": "2021-09-06T00:24:45.841272Z",
     "iopub.status.busy": "2021-09-06T00:24:45.840661Z",
     "iopub.status.idle": "2021-09-06T00:24:45.847040Z",
     "shell.execute_reply": "2021-09-06T00:24:45.846513Z"
    },
    "papermill": {
     "duration": 0.050138,
     "end_time": "2021-09-06T00:24:45.847172",
     "exception": false,
     "start_time": "2021-09-06T00:24:45.797034",
     "status": "completed"
    },
    "tags": []
   },
   "outputs": [],
   "source": [
    "#hide\n",
    "t = everydaycases.stack()"
   ]
  },
  {
   "cell_type": "code",
   "execution_count": 22,
   "id": "premier-sleeve",
   "metadata": {
    "execution": {
     "iopub.execute_input": "2021-09-06T00:24:45.924771Z",
     "iopub.status.busy": "2021-09-06T00:24:45.924146Z",
     "iopub.status.idle": "2021-09-06T00:24:45.933639Z",
     "shell.execute_reply": "2021-09-06T00:24:45.933109Z"
    },
    "papermill": {
     "duration": 0.050311,
     "end_time": "2021-09-06T00:24:45.933770",
     "exception": false,
     "start_time": "2021-09-06T00:24:45.883459",
     "status": "completed"
    },
    "tags": []
   },
   "outputs": [],
   "source": [
    "#hide\n",
    "g = t.reset_index(['Country/Region'])"
   ]
  },
  {
   "cell_type": "code",
   "execution_count": 23,
   "id": "distributed-pittsburgh",
   "metadata": {
    "execution": {
     "iopub.execute_input": "2021-09-06T00:24:46.012017Z",
     "iopub.status.busy": "2021-09-06T00:24:46.011397Z",
     "iopub.status.idle": "2021-09-06T00:24:46.013736Z",
     "shell.execute_reply": "2021-09-06T00:24:46.014225Z"
    },
    "papermill": {
     "duration": 0.044317,
     "end_time": "2021-09-06T00:24:46.014371",
     "exception": false,
     "start_time": "2021-09-06T00:24:45.970054",
     "status": "completed"
    },
    "tags": []
   },
   "outputs": [],
   "source": [
    "#hide\n",
    "g.index.name = 'date'"
   ]
  },
  {
   "cell_type": "code",
   "execution_count": 24,
   "id": "naked-donor",
   "metadata": {
    "execution": {
     "iopub.execute_input": "2021-09-06T00:24:46.091283Z",
     "iopub.status.busy": "2021-09-06T00:24:46.090630Z",
     "iopub.status.idle": "2021-09-06T00:24:46.093257Z",
     "shell.execute_reply": "2021-09-06T00:24:46.092736Z"
    },
    "papermill": {
     "duration": 0.042812,
     "end_time": "2021-09-06T00:24:46.093383",
     "exception": false,
     "start_time": "2021-09-06T00:24:46.050571",
     "status": "completed"
    },
    "tags": []
   },
   "outputs": [],
   "source": [
    "# #hide\n",
    "# g = g.reset_index(['date'])"
   ]
  },
  {
   "cell_type": "code",
   "execution_count": 25,
   "id": "incomplete-mustang",
   "metadata": {
    "execution": {
     "iopub.execute_input": "2021-09-06T00:24:46.171228Z",
     "iopub.status.busy": "2021-09-06T00:24:46.170564Z",
     "iopub.status.idle": "2021-09-06T00:24:46.173057Z",
     "shell.execute_reply": "2021-09-06T00:24:46.173644Z"
    },
    "papermill": {
     "duration": 0.044173,
     "end_time": "2021-09-06T00:24:46.173793",
     "exception": false,
     "start_time": "2021-09-06T00:24:46.129620",
     "status": "completed"
    },
    "tags": []
   },
   "outputs": [],
   "source": [
    "#hide\n",
    "# g.head()"
   ]
  },
  {
   "cell_type": "code",
   "execution_count": 26,
   "id": "specific-kruger",
   "metadata": {
    "execution": {
     "iopub.execute_input": "2021-09-06T00:24:46.251603Z",
     "iopub.status.busy": "2021-09-06T00:24:46.250956Z",
     "iopub.status.idle": "2021-09-06T00:24:46.253478Z",
     "shell.execute_reply": "2021-09-06T00:24:46.254072Z"
    },
    "papermill": {
     "duration": 0.043956,
     "end_time": "2021-09-06T00:24:46.254226",
     "exception": false,
     "start_time": "2021-09-06T00:24:46.210270",
     "status": "completed"
    },
    "tags": []
   },
   "outputs": [],
   "source": [
    "#hide\n",
    "# g.columns = ['date','country','cases']"
   ]
  },
  {
   "cell_type": "code",
   "execution_count": 27,
   "id": "tender-conversion",
   "metadata": {
    "execution": {
     "iopub.execute_input": "2021-09-06T00:24:46.331054Z",
     "iopub.status.busy": "2021-09-06T00:24:46.330377Z",
     "iopub.status.idle": "2021-09-06T00:24:46.333435Z",
     "shell.execute_reply": "2021-09-06T00:24:46.332932Z"
    },
    "papermill": {
     "duration": 0.043311,
     "end_time": "2021-09-06T00:24:46.333571",
     "exception": false,
     "start_time": "2021-09-06T00:24:46.290260",
     "status": "completed"
    },
    "tags": []
   },
   "outputs": [],
   "source": [
    "#hide\n",
    "# g['continent'] = g.country"
   ]
  },
  {
   "cell_type": "code",
   "execution_count": 28,
   "id": "substantial-wilderness",
   "metadata": {
    "execution": {
     "iopub.execute_input": "2021-09-06T00:24:46.410973Z",
     "iopub.status.busy": "2021-09-06T00:24:46.410310Z",
     "iopub.status.idle": "2021-09-06T00:24:46.412756Z",
     "shell.execute_reply": "2021-09-06T00:24:46.413255Z"
    },
    "papermill": {
     "duration": 0.043332,
     "end_time": "2021-09-06T00:24:46.413405",
     "exception": false,
     "start_time": "2021-09-06T00:24:46.370073",
     "status": "completed"
    },
    "tags": []
   },
   "outputs": [],
   "source": [
    "#hide\n",
    "# cols = list(g.columns.values)"
   ]
  },
  {
   "cell_type": "code",
   "execution_count": 29,
   "id": "solved-farming",
   "metadata": {
    "execution": {
     "iopub.execute_input": "2021-09-06T00:24:46.490999Z",
     "iopub.status.busy": "2021-09-06T00:24:46.490339Z",
     "iopub.status.idle": "2021-09-06T00:24:46.492274Z",
     "shell.execute_reply": "2021-09-06T00:24:46.492766Z"
    },
    "papermill": {
     "duration": 0.043364,
     "end_time": "2021-09-06T00:24:46.492989",
     "exception": false,
     "start_time": "2021-09-06T00:24:46.449625",
     "status": "completed"
    },
    "tags": []
   },
   "outputs": [],
   "source": [
    "#hide\n",
    "# cols.insert(0, cols.pop())"
   ]
  },
  {
   "cell_type": "code",
   "execution_count": 30,
   "id": "executed-adoption",
   "metadata": {
    "execution": {
     "iopub.execute_input": "2021-09-06T00:24:46.570850Z",
     "iopub.status.busy": "2021-09-06T00:24:46.570172Z",
     "iopub.status.idle": "2021-09-06T00:24:46.573132Z",
     "shell.execute_reply": "2021-09-06T00:24:46.572609Z"
    },
    "papermill": {
     "duration": 0.043827,
     "end_time": "2021-09-06T00:24:46.573264",
     "exception": false,
     "start_time": "2021-09-06T00:24:46.529437",
     "status": "completed"
    },
    "tags": []
   },
   "outputs": [],
   "source": [
    "#hide\n",
    "# g = g[cols]"
   ]
  },
  {
   "cell_type": "code",
   "execution_count": 31,
   "id": "subject-dublin",
   "metadata": {
    "execution": {
     "iopub.execute_input": "2021-09-06T00:24:46.651128Z",
     "iopub.status.busy": "2021-09-06T00:24:46.650461Z",
     "iopub.status.idle": "2021-09-06T00:24:46.652967Z",
     "shell.execute_reply": "2021-09-06T00:24:46.653557Z"
    },
    "papermill": {
     "duration": 0.043966,
     "end_time": "2021-09-06T00:24:46.653705",
     "exception": false,
     "start_time": "2021-09-06T00:24:46.609739",
     "status": "completed"
    },
    "tags": []
   },
   "outputs": [],
   "source": [
    "#hide\n",
    "# g['continent'] = g['continent'].map(mapping['map.continent'])"
   ]
  },
  {
   "cell_type": "code",
   "execution_count": 32,
   "id": "freelance-scout",
   "metadata": {
    "execution": {
     "iopub.execute_input": "2021-09-06T00:24:46.730733Z",
     "iopub.status.busy": "2021-09-06T00:24:46.730093Z",
     "iopub.status.idle": "2021-09-06T00:24:46.732496Z",
     "shell.execute_reply": "2021-09-06T00:24:46.733081Z"
    },
    "papermill": {
     "duration": 0.043439,
     "end_time": "2021-09-06T00:24:46.733223",
     "exception": false,
     "start_time": "2021-09-06T00:24:46.689784",
     "status": "completed"
    },
    "tags": []
   },
   "outputs": [],
   "source": [
    "#hide\n",
    "# g.head()"
   ]
  },
  {
   "cell_type": "code",
   "execution_count": 33,
   "id": "limited-engine",
   "metadata": {
    "execution": {
     "iopub.execute_input": "2021-09-06T00:24:46.809745Z",
     "iopub.status.busy": "2021-09-06T00:24:46.809131Z",
     "iopub.status.idle": "2021-09-06T00:24:46.811739Z",
     "shell.execute_reply": "2021-09-06T00:24:46.812256Z"
    },
    "papermill": {
     "duration": 0.043406,
     "end_time": "2021-09-06T00:24:46.812395",
     "exception": false,
     "start_time": "2021-09-06T00:24:46.768989",
     "status": "completed"
    },
    "tags": []
   },
   "outputs": [],
   "source": [
    "# hide\n",
    "# g['date'] = g['date'].astype('datetime64[ns]')"
   ]
  },
  {
   "cell_type": "code",
   "execution_count": 34,
   "id": "sophisticated-supervisor",
   "metadata": {
    "execution": {
     "iopub.execute_input": "2021-09-06T00:24:46.889238Z",
     "iopub.status.busy": "2021-09-06T00:24:46.888627Z",
     "iopub.status.idle": "2021-09-06T00:24:46.891584Z",
     "shell.execute_reply": "2021-09-06T00:24:46.891095Z"
    },
    "papermill": {
     "duration": 0.042865,
     "end_time": "2021-09-06T00:24:46.891709",
     "exception": false,
     "start_time": "2021-09-06T00:24:46.848844",
     "status": "completed"
    },
    "tags": []
   },
   "outputs": [],
   "source": [
    "#hide\n",
    "# g['date'] = g.date.dt.dayofyear"
   ]
  },
  {
   "cell_type": "code",
   "execution_count": 35,
   "id": "inside-dubai",
   "metadata": {
    "execution": {
     "iopub.execute_input": "2021-09-06T00:24:46.967675Z",
     "iopub.status.busy": "2021-09-06T00:24:46.967055Z",
     "iopub.status.idle": "2021-09-06T00:24:46.969623Z",
     "shell.execute_reply": "2021-09-06T00:24:46.969111Z"
    },
    "papermill": {
     "duration": 0.042312,
     "end_time": "2021-09-06T00:24:46.969741",
     "exception": false,
     "start_time": "2021-09-06T00:24:46.927429",
     "status": "completed"
    },
    "tags": []
   },
   "outputs": [],
   "source": [
    "#hide\n",
    "# g = g.rename(columns= {'continent':'group','country':'name','cases':'value'})"
   ]
  },
  {
   "cell_type": "code",
   "execution_count": 36,
   "id": "fleet-motorcycle",
   "metadata": {
    "execution": {
     "iopub.execute_input": "2021-09-06T00:24:47.046161Z",
     "iopub.status.busy": "2021-09-06T00:24:47.045554Z",
     "iopub.status.idle": "2021-09-06T00:24:47.047968Z",
     "shell.execute_reply": "2021-09-06T00:24:47.048533Z"
    },
    "papermill": {
     "duration": 0.043046,
     "end_time": "2021-09-06T00:24:47.048668",
     "exception": false,
     "start_time": "2021-09-06T00:24:47.005622",
     "status": "completed"
    },
    "tags": []
   },
   "outputs": [],
   "source": [
    "#hide\n",
    "# cols = ['name','group','day','value']"
   ]
  },
  {
   "cell_type": "code",
   "execution_count": 37,
   "id": "continued-sleeping",
   "metadata": {
    "execution": {
     "iopub.execute_input": "2021-09-06T00:24:47.126729Z",
     "iopub.status.busy": "2021-09-06T00:24:47.126091Z",
     "iopub.status.idle": "2021-09-06T00:24:47.128506Z",
     "shell.execute_reply": "2021-09-06T00:24:47.129084Z"
    },
    "papermill": {
     "duration": 0.044727,
     "end_time": "2021-09-06T00:24:47.129222",
     "exception": false,
     "start_time": "2021-09-06T00:24:47.084495",
     "status": "completed"
    },
    "tags": []
   },
   "outputs": [],
   "source": [
    "#hide\n",
    "# g.rename(columns= {'date':'day'},inplace = True)"
   ]
  },
  {
   "cell_type": "code",
   "execution_count": 38,
   "id": "major-fight",
   "metadata": {
    "execution": {
     "iopub.execute_input": "2021-09-06T00:24:47.206471Z",
     "iopub.status.busy": "2021-09-06T00:24:47.205853Z",
     "iopub.status.idle": "2021-09-06T00:24:47.208345Z",
     "shell.execute_reply": "2021-09-06T00:24:47.208930Z"
    },
    "papermill": {
     "duration": 0.043933,
     "end_time": "2021-09-06T00:24:47.209078",
     "exception": false,
     "start_time": "2021-09-06T00:24:47.165145",
     "status": "completed"
    },
    "tags": []
   },
   "outputs": [],
   "source": [
    "#hide\n",
    "# g = g[cols]"
   ]
  },
  {
   "cell_type": "code",
   "execution_count": 39,
   "id": "structured-mobile",
   "metadata": {
    "execution": {
     "iopub.execute_input": "2021-09-06T00:24:47.286712Z",
     "iopub.status.busy": "2021-09-06T00:24:47.286063Z",
     "iopub.status.idle": "2021-09-06T00:24:47.288678Z",
     "shell.execute_reply": "2021-09-06T00:24:47.289180Z"
    },
    "papermill": {
     "duration": 0.044189,
     "end_time": "2021-09-06T00:24:47.289330",
     "exception": false,
     "start_time": "2021-09-06T00:24:47.245141",
     "status": "completed"
    },
    "tags": []
   },
   "outputs": [],
   "source": [
    "# #hide\n",
    "# g = g[g.group.notna()]"
   ]
  },
  {
   "cell_type": "code",
   "execution_count": 40,
   "id": "determined-closing",
   "metadata": {
    "execution": {
     "iopub.execute_input": "2021-09-06T00:24:47.366512Z",
     "iopub.status.busy": "2021-09-06T00:24:47.365879Z",
     "iopub.status.idle": "2021-09-06T00:24:47.368331Z",
     "shell.execute_reply": "2021-09-06T00:24:47.368901Z"
    },
    "papermill": {
     "duration": 0.043411,
     "end_time": "2021-09-06T00:24:47.369050",
     "exception": false,
     "start_time": "2021-09-06T00:24:47.325639",
     "status": "completed"
    },
    "tags": []
   },
   "outputs": [],
   "source": [
    "# #hide\n",
    "# colors = dict(zip(\n",
    "#     [\"Oceania\", \"Europe\", \"Asia\", \"South America\", \"Middle East\", \"North America\", \"Africa\"],\n",
    "#     [\"#adb0ff\", \"#ffb3ff\", \"#90d595\", \"#e48381\", \"#aafbff\", \"#f7bb5f\", \"#eafb50\"]\n",
    "# ))\n",
    "# group_lk = g.set_index('name')['group'].to_dict()"
   ]
  },
  {
   "cell_type": "code",
   "execution_count": null,
   "id": "gross-drinking",
   "metadata": {
    "papermill": {
     "duration": 0.035897,
     "end_time": "2021-09-06T00:24:47.440903",
     "exception": false,
     "start_time": "2021-09-06T00:24:47.405006",
     "status": "completed"
    },
    "tags": []
   },
   "outputs": [],
   "source": []
  },
  {
   "cell_type": "code",
   "execution_count": 41,
   "id": "subject-macintosh",
   "metadata": {
    "execution": {
     "iopub.execute_input": "2021-09-06T00:24:47.518761Z",
     "iopub.status.busy": "2021-09-06T00:24:47.518085Z",
     "iopub.status.idle": "2021-09-06T00:24:47.520486Z",
     "shell.execute_reply": "2021-09-06T00:24:47.519955Z"
    },
    "papermill": {
     "duration": 0.043581,
     "end_time": "2021-09-06T00:24:47.520616",
     "exception": false,
     "start_time": "2021-09-06T00:24:47.477035",
     "status": "completed"
    },
    "tags": []
   },
   "outputs": [],
   "source": [
    "# #hide\n",
    "# fig, ax = plt.subplots(figsize=(15, 8))\n",
    "\n",
    "# def draw_barchart(current_day):\n",
    "#     dff = g[g['day'].eq(current_day)].sort_values(by='value', ascending=True).tail(10)\n",
    "#     ax.clear()\n",
    "#     ax.barh(dff['name'], dff['value'], color=[colors[group_lk[x]] for x in dff['name']])\n",
    "#     dx = dff['value'].max() / 200\n",
    "    \n",
    "#     for i, (value, name) in enumerate(zip(dff['value'], dff['name'])):\n",
    "#         ax.text(value-dx, i,     name,           size=14, weight=600, ha='right', va='bottom')\n",
    "#         ax.text(value-dx, i-.25, group_lk[name], size=10, color='#444444', ha='right', va='baseline')\n",
    "#         ax.text(value+dx, i,     f'{value:,.0f}',  size=14, ha='left',  va='center')\n",
    "#     ax.text(1, 0.4, current_day, transform=ax.transAxes, color='#777777', size=46, ha='right', weight=800)\n",
    "#     ax.text(0, 1.06, 'Population (thousands)', transform=ax.transAxes, size=12, color='#777777')\n",
    "#     ax.xaxis.set_major_formatter(ticker.StrMethodFormatter('{x:,.0f}'))\n",
    "#     ax.xaxis.set_ticks_position('top')\n",
    "#     ax.tick_params(axis='x', colors='#777777', labelsize=12)\n",
    "#     ax.set_yticks([])\n",
    "#     ax.margins(0, 0.01)\n",
    "#     ax.grid(which='major', axis='x', linestyle='-')\n",
    "#     ax.set_axisbelow(True)\n",
    "    \n",
    "#     ax.text(0, 1.15, 'Coronavirus',\n",
    "#             transform=ax.transAxes, size=24, weight=600, ha='left', va='top')\n",
    "# #     ax.text(1, 0, 'by @pratapvardhan; credit @jburnmurdoch', transform=ax.transAxes, color='#777777', ha='right',\n",
    "# #             bbox=dict(facecolor='white', alpha=0.8, edgecolor='white'))\n",
    "#     plt.box(False)"
   ]
  },
  {
   "cell_type": "code",
   "execution_count": 42,
   "id": "sexual-wages",
   "metadata": {
    "execution": {
     "iopub.execute_input": "2021-09-06T00:24:47.598399Z",
     "iopub.status.busy": "2021-09-06T00:24:47.597688Z",
     "iopub.status.idle": "2021-09-06T00:24:47.599524Z",
     "shell.execute_reply": "2021-09-06T00:24:47.600051Z"
    },
    "papermill": {
     "duration": 0.043233,
     "end_time": "2021-09-06T00:24:47.600200",
     "exception": false,
     "start_time": "2021-09-06T00:24:47.556967",
     "status": "completed"
    },
    "tags": []
   },
   "outputs": [],
   "source": [
    "# #hide_input\n",
    "# fig, ax = plt.subplots(figsize=(15, 8))\n",
    "# animator = animation.FuncAnimation(fig, draw_barchart, frames=range(g.day.values.min(), g.day.values.max()))\n",
    "# HTML(animator.to_jshtml())\n",
    "# # or use animator.to_html5_video() or animator.save() "
   ]
  },
  {
   "cell_type": "code",
   "execution_count": null,
   "id": "australian-container",
   "metadata": {
    "papermill": {
     "duration": 0.036194,
     "end_time": "2021-09-06T00:24:47.672791",
     "exception": false,
     "start_time": "2021-09-06T00:24:47.636597",
     "status": "completed"
    },
    "tags": []
   },
   "outputs": [],
   "source": []
  },
  {
   "cell_type": "code",
   "execution_count": null,
   "id": "mediterranean-pontiac",
   "metadata": {
    "papermill": {
     "duration": 0.036043,
     "end_time": "2021-09-06T00:24:47.744964",
     "exception": false,
     "start_time": "2021-09-06T00:24:47.708921",
     "status": "completed"
    },
    "tags": []
   },
   "outputs": [],
   "source": []
  },
  {
   "cell_type": "code",
   "execution_count": null,
   "id": "aging-legislature",
   "metadata": {
    "papermill": {
     "duration": 0.035993,
     "end_time": "2021-09-06T00:24:47.817400",
     "exception": false,
     "start_time": "2021-09-06T00:24:47.781407",
     "status": "completed"
    },
    "tags": []
   },
   "outputs": [],
   "source": []
  }
 ],
 "metadata": {
  "kernelspec": {
   "display_name": "Python 3",
   "language": "python",
   "name": "python3"
  },
  "language_info": {
   "codemirror_mode": {
    "name": "ipython",
    "version": 3
   },
   "file_extension": ".py",
   "mimetype": "text/x-python",
   "name": "python",
   "nbconvert_exporter": "python",
   "pygments_lexer": "ipython3",
   "version": "3.6.14"
  },
  "papermill": {
   "duration": 6.680782,
   "end_time": "2021-09-06T00:24:48.162728",
   "environment_variables": {},
   "exception": null,
   "input_path": "2020-03-21-covid19exp.ipynb",
   "output_path": "2020-03-21-covid19exp.ipynb",
   "parameters": {},
   "start_time": "2021-09-06T00:24:41.481946",
   "version": "2.0.0"
  }
 },
 "nbformat": 4,
 "nbformat_minor": 5
}