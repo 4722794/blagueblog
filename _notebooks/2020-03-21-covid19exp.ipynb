{
 "cells": [
  {
   "cell_type": "markdown",
   "id": "muslim-click",
   "metadata": {
    "papermill": {
     "duration": 0.045501,
     "end_time": "2022-09-19T12:21:35.288650",
     "exception": false,
     "start_time": "2022-09-19T12:21:35.243149",
     "status": "completed"
    },
    "tags": []
   },
   "source": [
    "# COVID-19 Case Race\n",
    "> A race chart to see rising cases around the world\n",
    "\n",
    "- author: Hargun Oberoi\n",
    "- image: images/covid-overview.png\n",
    "- hide: false\n",
    "- badges: false"
   ]
  },
  {
   "cell_type": "code",
   "execution_count": 1,
   "id": "proof-material",
   "metadata": {
    "execution": {
     "iopub.execute_input": "2022-09-19T12:21:35.379450Z",
     "iopub.status.busy": "2022-09-19T12:21:35.378533Z",
     "iopub.status.idle": "2022-09-19T12:21:35.797301Z",
     "shell.execute_reply": "2022-09-19T12:21:35.796029Z"
    },
    "papermill": {
     "duration": 0.468702,
     "end_time": "2022-09-19T12:21:35.797467",
     "exception": false,
     "start_time": "2022-09-19T12:21:35.328765",
     "status": "completed"
    },
    "tags": []
   },
   "outputs": [],
   "source": [
    "#hide\n",
    "import numpy as np\n",
    "import pandas as pd\n",
    "from jinja2 import Template\n",
    "from IPython.display import HTML"
   ]
  },
  {
   "cell_type": "code",
   "execution_count": 2,
   "id": "developed-terminology",
   "metadata": {
    "execution": {
     "iopub.execute_input": "2022-09-19T12:21:35.880209Z",
     "iopub.status.busy": "2022-09-19T12:21:35.879442Z",
     "iopub.status.idle": "2022-09-19T12:21:35.882395Z",
     "shell.execute_reply": "2022-09-19T12:21:35.881763Z"
    },
    "papermill": {
     "duration": 0.047222,
     "end_time": "2022-09-19T12:21:35.882566",
     "exception": false,
     "start_time": "2022-09-19T12:21:35.835344",
     "status": "completed"
    },
    "tags": []
   },
   "outputs": [],
   "source": [
    "#hide\n",
    "\n",
    "# FETCH\n",
    "base_url = 'https://raw.githubusercontent.com/pratapvardhan/notebooks/master/covid19/'\n",
    "paths = {\n",
    "    'mapping': base_url + 'mapping_countries.csv',\n",
    "    'overview': base_url + 'overview.tpl'\n",
    "}"
   ]
  },
  {
   "cell_type": "code",
   "execution_count": 3,
   "id": "dynamic-saver",
   "metadata": {
    "execution": {
     "iopub.execute_input": "2022-09-19T12:21:35.973879Z",
     "iopub.status.busy": "2022-09-19T12:21:35.973044Z",
     "iopub.status.idle": "2022-09-19T12:21:35.977724Z",
     "shell.execute_reply": "2022-09-19T12:21:35.977158Z"
    },
    "papermill": {
     "duration": 0.055994,
     "end_time": "2022-09-19T12:21:35.977887",
     "exception": false,
     "start_time": "2022-09-19T12:21:35.921893",
     "status": "completed"
    },
    "tags": []
   },
   "outputs": [
    {
     "data": {
      "text/plain": [
       "'https://raw.githubusercontent.com/pratapvardhan/notebooks/master/covid19/mapping_countries.csv'"
      ]
     },
     "execution_count": 3,
     "metadata": {},
     "output_type": "execute_result"
    }
   ],
   "source": [
    "#hide\n",
    "paths['mapping']"
   ]
  },
  {
   "cell_type": "code",
   "execution_count": 4,
   "id": "urban-software",
   "metadata": {
    "execution": {
     "iopub.execute_input": "2022-09-19T12:21:36.068741Z",
     "iopub.status.busy": "2022-09-19T12:21:36.067898Z",
     "iopub.status.idle": "2022-09-19T12:21:36.071189Z",
     "shell.execute_reply": "2022-09-19T12:21:36.070543Z"
    },
    "papermill": {
     "duration": 0.049649,
     "end_time": "2022-09-19T12:21:36.071319",
     "exception": false,
     "start_time": "2022-09-19T12:21:36.021670",
     "status": "completed"
    },
    "tags": []
   },
   "outputs": [],
   "source": [
    "#hide\n",
    "def get_mappings(url):\n",
    "    df = pd.read_csv(url)\n",
    "    return {\n",
    "        'df': df,\n",
    "        'replace.country': dict(df.dropna(subset=['Name']).set_index('Country')['Name']),\n",
    "        'map.continent': dict(df.set_index('Name')['Continent'])\n",
    "    }"
   ]
  },
  {
   "cell_type": "code",
   "execution_count": 5,
   "id": "intimate-machinery",
   "metadata": {
    "execution": {
     "iopub.execute_input": "2022-09-19T12:21:36.156411Z",
     "iopub.status.busy": "2022-09-19T12:21:36.155665Z",
     "iopub.status.idle": "2022-09-19T12:21:36.187527Z",
     "shell.execute_reply": "2022-09-19T12:21:36.186831Z"
    },
    "papermill": {
     "duration": 0.077923,
     "end_time": "2022-09-19T12:21:36.187691",
     "exception": false,
     "start_time": "2022-09-19T12:21:36.109768",
     "status": "completed"
    },
    "tags": []
   },
   "outputs": [],
   "source": [
    "#hide\n",
    "mapping = get_mappings(paths['mapping'])"
   ]
  },
  {
   "cell_type": "code",
   "execution_count": 6,
   "id": "certified-tactics",
   "metadata": {
    "execution": {
     "iopub.execute_input": "2022-09-19T12:21:36.272116Z",
     "iopub.status.busy": "2022-09-19T12:21:36.271406Z",
     "iopub.status.idle": "2022-09-19T12:21:36.274744Z",
     "shell.execute_reply": "2022-09-19T12:21:36.274174Z"
    },
    "papermill": {
     "duration": 0.047727,
     "end_time": "2022-09-19T12:21:36.274862",
     "exception": false,
     "start_time": "2022-09-19T12:21:36.227135",
     "status": "completed"
    },
    "tags": []
   },
   "outputs": [],
   "source": [
    "#hide\n",
    "def get_template(path):\n",
    "    from urllib.parse import urlparse\n",
    "    if bool(urlparse(path).netloc):\n",
    "        from urllib.request import urlopen\n",
    "        return urlopen(path).read().decode('utf8')\n",
    "    return open(path).read()"
   ]
  },
  {
   "cell_type": "code",
   "execution_count": 7,
   "id": "realistic-blast",
   "metadata": {
    "execution": {
     "iopub.execute_input": "2022-09-19T12:21:36.355275Z",
     "iopub.status.busy": "2022-09-19T12:21:36.354431Z",
     "iopub.status.idle": "2022-09-19T12:21:36.358020Z",
     "shell.execute_reply": "2022-09-19T12:21:36.357410Z"
    },
    "papermill": {
     "duration": 0.044622,
     "end_time": "2022-09-19T12:21:36.358149",
     "exception": false,
     "start_time": "2022-09-19T12:21:36.313527",
     "status": "completed"
    },
    "tags": []
   },
   "outputs": [],
   "source": [
    "#hide\n",
    "def get_frame(name):\n",
    "    url = (\n",
    "        'https://raw.githubusercontent.com/CSSEGISandData/COVID-19/master/csse_covid_19_data/'\n",
    "        f'csse_covid_19_time_series/time_series_covid19_{name}_global.csv')\n",
    "    df = pd.read_csv(url)\n",
    "    # rename countries\n",
    "    df['Country/Region'] = df['Country/Region'].replace(mapping['replace.country'])\n",
    "    return df"
   ]
  },
  {
   "cell_type": "code",
   "execution_count": 8,
   "id": "affiliated-characterization",
   "metadata": {
    "execution": {
     "iopub.execute_input": "2022-09-19T12:21:36.441407Z",
     "iopub.status.busy": "2022-09-19T12:21:36.440566Z",
     "iopub.status.idle": "2022-09-19T12:21:36.443989Z",
     "shell.execute_reply": "2022-09-19T12:21:36.444685Z"
    },
    "papermill": {
     "duration": 0.047921,
     "end_time": "2022-09-19T12:21:36.444850",
     "exception": false,
     "start_time": "2022-09-19T12:21:36.396929",
     "status": "completed"
    },
    "tags": []
   },
   "outputs": [],
   "source": [
    "#hide\n",
    "def get_dates(df):\n",
    "    dt_cols = df.columns[~df.columns.isin(['Province/State', 'Country/Region', 'Lat', 'Long'])]\n",
    "    LAST_DATE_I = -1\n",
    "    # sometimes last column may be empty, then go backwards\n",
    "    for i in range(-1, -len(dt_cols), -1):\n",
    "        if not df[dt_cols[i]].fillna(0).eq(0).all():\n",
    "            LAST_DATE_I = i\n",
    "            break\n",
    "    return LAST_DATE_I, dt_cols"
   ]
  },
  {
   "cell_type": "code",
   "execution_count": 9,
   "id": "recent-optimization",
   "metadata": {
    "execution": {
     "iopub.execute_input": "2022-09-19T12:21:36.524855Z",
     "iopub.status.busy": "2022-09-19T12:21:36.524062Z",
     "iopub.status.idle": "2022-09-19T12:21:37.003838Z",
     "shell.execute_reply": "2022-09-19T12:21:37.003168Z"
    },
    "papermill": {
     "duration": 0.523429,
     "end_time": "2022-09-19T12:21:37.004010",
     "exception": false,
     "start_time": "2022-09-19T12:21:36.480581",
     "status": "completed"
    },
    "tags": []
   },
   "outputs": [],
   "source": [
    "#hide\n",
    "COL_REGION = 'Country/Region'\n",
    "# Confirmed, Recovered, Deaths\n",
    "df = get_frame('confirmed')\n",
    "# dft_: timeseries, dfc_: today country agg\n",
    "dft_cases = df\n",
    "dft_deaths = get_frame('deaths')\n",
    "dft_recovered = get_frame('recovered')\n",
    "LAST_DATE_I, dt_cols = get_dates(df)"
   ]
  },
  {
   "cell_type": "code",
   "execution_count": 10,
   "id": "absolute-copper",
   "metadata": {
    "execution": {
     "iopub.execute_input": "2022-09-19T12:21:37.090627Z",
     "iopub.status.busy": "2022-09-19T12:21:37.089947Z",
     "iopub.status.idle": "2022-09-19T12:21:37.093617Z",
     "shell.execute_reply": "2022-09-19T12:21:37.092895Z"
    },
    "papermill": {
     "duration": 0.048178,
     "end_time": "2022-09-19T12:21:37.093742",
     "exception": false,
     "start_time": "2022-09-19T12:21:37.045564",
     "status": "completed"
    },
    "tags": []
   },
   "outputs": [],
   "source": [
    "#hide\n",
    "LAST_DATE_I, dt_cols = get_dates(df)\n",
    "dt_today =dt_cols[LAST_DATE_I]\n",
    "# dt_5day = dt_cols[LAST_DATE_I - 5]\n",
    "dt_yday = dt_cols[LAST_DATE_I - 1]"
   ]
  },
  {
   "cell_type": "code",
   "execution_count": 11,
   "id": "restricted-sheriff",
   "metadata": {
    "execution": {
     "iopub.execute_input": "2022-09-19T12:21:37.179898Z",
     "iopub.status.busy": "2022-09-19T12:21:37.178905Z",
     "iopub.status.idle": "2022-09-19T12:21:37.189368Z",
     "shell.execute_reply": "2022-09-19T12:21:37.188605Z"
    },
    "papermill": {
     "duration": 0.05511,
     "end_time": "2022-09-19T12:21:37.189534",
     "exception": false,
     "start_time": "2022-09-19T12:21:37.134424",
     "status": "completed"
    },
    "tags": []
   },
   "outputs": [],
   "source": [
    "#hide\n",
    "dfc_cases = dft_cases.groupby(COL_REGION)[dt_today].sum()\n",
    "dfc_deaths = dft_deaths.groupby(COL_REGION)[dt_today].sum()\n",
    "# dfp_cases = dft_cases.groupby(COL_REGION)[dt_5day].sum()\n",
    "# dfp_deaths = dft_deaths.groupby(COL_REGION)[dt_5day].sum()\n",
    "dfp_cases = dft_cases.groupby(COL_REGION)[dt_yday].sum()\n",
    "dfp_deaths = dft_deaths.groupby(COL_REGION)[dt_yday].sum()"
   ]
  },
  {
   "cell_type": "code",
   "execution_count": 12,
   "id": "deluxe-hepatitis",
   "metadata": {
    "execution": {
     "iopub.execute_input": "2022-09-19T12:21:37.275003Z",
     "iopub.status.busy": "2022-09-19T12:21:37.274208Z",
     "iopub.status.idle": "2022-09-19T12:21:37.280787Z",
     "shell.execute_reply": "2022-09-19T12:21:37.279994Z"
    },
    "papermill": {
     "duration": 0.054786,
     "end_time": "2022-09-19T12:21:37.280917",
     "exception": false,
     "start_time": "2022-09-19T12:21:37.226131",
     "status": "completed"
    },
    "tags": []
   },
   "outputs": [],
   "source": [
    "#hide\n",
    "df_table = (pd.DataFrame(dict(Cases = dfc_cases, Deaths = dfc_deaths, PCases = dfp_cases, PDeaths = dfp_deaths))\n",
    "            .sort_values(by = ['Cases','Deaths'], ascending = [False, False])\n",
    "            .reset_index())"
   ]
  },
  {
   "cell_type": "code",
   "execution_count": 13,
   "id": "educational-chancellor",
   "metadata": {
    "execution": {
     "iopub.execute_input": "2022-09-19T12:21:37.379728Z",
     "iopub.status.busy": "2022-09-19T12:21:37.378824Z",
     "iopub.status.idle": "2022-09-19T12:21:37.389012Z",
     "shell.execute_reply": "2022-09-19T12:21:37.389726Z"
    },
    "papermill": {
     "duration": 0.070637,
     "end_time": "2022-09-19T12:21:37.389958",
     "exception": false,
     "start_time": "2022-09-19T12:21:37.319321",
     "status": "completed"
    },
    "tags": []
   },
   "outputs": [
    {
     "data": {
      "text/html": [
       "<div>\n",
       "<style scoped>\n",
       "    .dataframe tbody tr th:only-of-type {\n",
       "        vertical-align: middle;\n",
       "    }\n",
       "\n",
       "    .dataframe tbody tr th {\n",
       "        vertical-align: top;\n",
       "    }\n",
       "\n",
       "    .dataframe thead th {\n",
       "        text-align: right;\n",
       "    }\n",
       "</style>\n",
       "<table border=\"1\" class=\"dataframe\">\n",
       "  <thead>\n",
       "    <tr style=\"text-align: right;\">\n",
       "      <th></th>\n",
       "      <th>Country/Region</th>\n",
       "      <th>Cases</th>\n",
       "      <th>Deaths</th>\n",
       "      <th>PCases</th>\n",
       "      <th>PDeaths</th>\n",
       "      <th>Cases (+)</th>\n",
       "      <th>Deaths (+)</th>\n",
       "      <th>Fatality Rate</th>\n",
       "      <th>Continent</th>\n",
       "    </tr>\n",
       "  </thead>\n",
       "  <tbody>\n",
       "    <tr>\n",
       "      <th>0</th>\n",
       "      <td>US</td>\n",
       "      <td>95658236</td>\n",
       "      <td>1053419</td>\n",
       "      <td>95653526</td>\n",
       "      <td>1053412</td>\n",
       "      <td>4710</td>\n",
       "      <td>7</td>\n",
       "      <td>1.10</td>\n",
       "      <td>North America</td>\n",
       "    </tr>\n",
       "    <tr>\n",
       "      <th>1</th>\n",
       "      <td>India</td>\n",
       "      <td>44539046</td>\n",
       "      <td>528355</td>\n",
       "      <td>44534188</td>\n",
       "      <td>528337</td>\n",
       "      <td>4858</td>\n",
       "      <td>18</td>\n",
       "      <td>1.19</td>\n",
       "      <td>Asia</td>\n",
       "    </tr>\n",
       "    <tr>\n",
       "      <th>2</th>\n",
       "      <td>France</td>\n",
       "      <td>35076991</td>\n",
       "      <td>155712</td>\n",
       "      <td>35076991</td>\n",
       "      <td>155712</td>\n",
       "      <td>0</td>\n",
       "      <td>0</td>\n",
       "      <td>0.44</td>\n",
       "      <td>Europe</td>\n",
       "    </tr>\n",
       "    <tr>\n",
       "      <th>3</th>\n",
       "      <td>Brazil</td>\n",
       "      <td>34568833</td>\n",
       "      <td>685203</td>\n",
       "      <td>34568833</td>\n",
       "      <td>685203</td>\n",
       "      <td>0</td>\n",
       "      <td>0</td>\n",
       "      <td>1.98</td>\n",
       "      <td>South America</td>\n",
       "    </tr>\n",
       "    <tr>\n",
       "      <th>4</th>\n",
       "      <td>Germany</td>\n",
       "      <td>32680356</td>\n",
       "      <td>148933</td>\n",
       "      <td>32680356</td>\n",
       "      <td>148933</td>\n",
       "      <td>0</td>\n",
       "      <td>0</td>\n",
       "      <td>0.46</td>\n",
       "      <td>Europe</td>\n",
       "    </tr>\n",
       "  </tbody>\n",
       "</table>\n",
       "</div>"
      ],
      "text/plain": [
       "  Country/Region     Cases   Deaths    PCases  PDeaths  Cases (+)  Deaths (+)  \\\n",
       "0             US  95658236  1053419  95653526  1053412       4710           7   \n",
       "1          India  44539046   528355  44534188   528337       4858          18   \n",
       "2         France  35076991   155712  35076991   155712          0           0   \n",
       "3         Brazil  34568833   685203  34568833   685203          0           0   \n",
       "4        Germany  32680356   148933  32680356   148933          0           0   \n",
       "\n",
       "   Fatality Rate      Continent  \n",
       "0           1.10  North America  \n",
       "1           1.19           Asia  \n",
       "2           0.44         Europe  \n",
       "3           1.98  South America  \n",
       "4           0.46         Europe  "
      ]
     },
     "execution_count": 13,
     "metadata": {},
     "output_type": "execute_result"
    }
   ],
   "source": [
    "#hide\n",
    "for c in 'Cases, Deaths'.split(', '):\n",
    "    df_table[f'{c} (+)'] = (df_table[c] - df_table[f'P{c}']).clip(0)\n",
    "    #Clip ça veut dire, les chiffres negatif sont interdit\n",
    "df_table['Fatality Rate'] = (100* df_table['Deaths']/ df_table['Cases']).round(2)\n",
    "df_table['Continent'] = df_table['Country/Region'].map(mapping['map.continent'])\n",
    "df_table.head(5)"
   ]
  },
  {
   "cell_type": "code",
   "execution_count": 14,
   "id": "aboriginal-bulgaria",
   "metadata": {
    "execution": {
     "iopub.execute_input": "2022-09-19T12:21:37.481746Z",
     "iopub.status.busy": "2022-09-19T12:21:37.480897Z",
     "iopub.status.idle": "2022-09-19T12:21:37.484131Z",
     "shell.execute_reply": "2022-09-19T12:21:37.484688Z"
    },
    "papermill": {
     "duration": 0.054321,
     "end_time": "2022-09-19T12:21:37.484855",
     "exception": false,
     "start_time": "2022-09-19T12:21:37.430534",
     "status": "completed"
    },
    "tags": []
   },
   "outputs": [],
   "source": [
    "#hide\n",
    "#delete problematic countries from table\n",
    "df_table = df_table[~df_table['Country/Region'].isin(['Cape Verde', 'Cruise Ship', 'Kosovo'])]"
   ]
  },
  {
   "cell_type": "code",
   "execution_count": 15,
   "id": "fantastic-effect",
   "metadata": {
    "execution": {
     "iopub.execute_input": "2022-09-19T12:21:37.574829Z",
     "iopub.status.busy": "2022-09-19T12:21:37.574063Z",
     "iopub.status.idle": "2022-09-19T12:21:37.597393Z",
     "shell.execute_reply": "2022-09-19T12:21:37.598101Z"
    },
    "papermill": {
     "duration": 0.072761,
     "end_time": "2022-09-19T12:21:37.598316",
     "exception": false,
     "start_time": "2022-09-19T12:21:37.525555",
     "status": "completed"
    },
    "tags": []
   },
   "outputs": [
    {
     "data": {
      "text/html": [
       "<div>\n",
       "<style scoped>\n",
       "    .dataframe tbody tr th:only-of-type {\n",
       "        vertical-align: middle;\n",
       "    }\n",
       "\n",
       "    .dataframe tbody tr th {\n",
       "        vertical-align: top;\n",
       "    }\n",
       "\n",
       "    .dataframe thead th {\n",
       "        text-align: right;\n",
       "    }\n",
       "</style>\n",
       "<table border=\"1\" class=\"dataframe\">\n",
       "  <thead>\n",
       "    <tr style=\"text-align: right;\">\n",
       "      <th></th>\n",
       "      <th>Country/Region</th>\n",
       "      <th>Cases</th>\n",
       "      <th>Deaths</th>\n",
       "      <th>PCases</th>\n",
       "      <th>PDeaths</th>\n",
       "      <th>Cases (+)</th>\n",
       "      <th>Deaths (+)</th>\n",
       "      <th>Fatality Rate</th>\n",
       "      <th>Continent</th>\n",
       "    </tr>\n",
       "  </thead>\n",
       "  <tbody>\n",
       "    <tr>\n",
       "      <th>0</th>\n",
       "      <td>US</td>\n",
       "      <td>95658236</td>\n",
       "      <td>1053419</td>\n",
       "      <td>95653526</td>\n",
       "      <td>1053412</td>\n",
       "      <td>4710</td>\n",
       "      <td>7</td>\n",
       "      <td>1.1</td>\n",
       "      <td>North America</td>\n",
       "    </tr>\n",
       "    <tr>\n",
       "      <th>1</th>\n",
       "      <td>India</td>\n",
       "      <td>44539046</td>\n",
       "      <td>528355</td>\n",
       "      <td>44534188</td>\n",
       "      <td>528337</td>\n",
       "      <td>4858</td>\n",
       "      <td>18</td>\n",
       "      <td>1.2</td>\n",
       "      <td>Asia</td>\n",
       "    </tr>\n",
       "    <tr>\n",
       "      <th>2</th>\n",
       "      <td>France</td>\n",
       "      <td>35076991</td>\n",
       "      <td>155712</td>\n",
       "      <td>35076991</td>\n",
       "      <td>155712</td>\n",
       "      <td>0</td>\n",
       "      <td>0</td>\n",
       "      <td>0.4</td>\n",
       "      <td>Europe</td>\n",
       "    </tr>\n",
       "    <tr>\n",
       "      <th>3</th>\n",
       "      <td>Brazil</td>\n",
       "      <td>34568833</td>\n",
       "      <td>685203</td>\n",
       "      <td>34568833</td>\n",
       "      <td>685203</td>\n",
       "      <td>0</td>\n",
       "      <td>0</td>\n",
       "      <td>2.0</td>\n",
       "      <td>South America</td>\n",
       "    </tr>\n",
       "    <tr>\n",
       "      <th>4</th>\n",
       "      <td>Germany</td>\n",
       "      <td>32680356</td>\n",
       "      <td>148933</td>\n",
       "      <td>32680356</td>\n",
       "      <td>148933</td>\n",
       "      <td>0</td>\n",
       "      <td>0</td>\n",
       "      <td>0.5</td>\n",
       "      <td>Europe</td>\n",
       "    </tr>\n",
       "  </tbody>\n",
       "</table>\n",
       "</div>"
      ],
      "text/plain": [
       "  Country/Region     Cases   Deaths    PCases  PDeaths  Cases (+)  Deaths (+)  \\\n",
       "0             US  95658236  1053419  95653526  1053412       4710           7   \n",
       "1          India  44539046   528355  44534188   528337       4858          18   \n",
       "2         France  35076991   155712  35076991   155712          0           0   \n",
       "3         Brazil  34568833   685203  34568833   685203          0           0   \n",
       "4        Germany  32680356   148933  32680356   148933          0           0   \n",
       "\n",
       "   Fatality Rate      Continent  \n",
       "0            1.1  North America  \n",
       "1            1.2           Asia  \n",
       "2            0.4         Europe  \n",
       "3            2.0  South America  \n",
       "4            0.5         Europe  "
      ]
     },
     "execution_count": 15,
     "metadata": {},
     "output_type": "execute_result"
    }
   ],
   "source": [
    "#hide\n",
    "df_table = (pd.DataFrame(dict(Cases=dfc_cases, Deaths=dfc_deaths, PCases=dfp_cases, PDeaths=dfp_deaths))\n",
    "             .sort_values(by=['Cases', 'Deaths'], ascending=[False, False])\n",
    "             .reset_index())\n",
    "df_table.rename(columns={'index': 'Country/Region'}, inplace=True)\n",
    "for c in 'Cases, Deaths'.split(', '):\n",
    "    df_table[f'{c} (+)'] = (df_table[c] - df_table[f'P{c}']).clip(0)  # DATA BUG\n",
    "df_table['Fatality Rate'] = (100 * df_table['Deaths'] / df_table['Cases']).round(1)\n",
    "df_table['Continent'] = df_table['Country/Region'].map(mapping['map.continent'])\n",
    "df_table.head(5)"
   ]
  },
  {
   "cell_type": "code",
   "execution_count": 16,
   "id": "fewer-occasion",
   "metadata": {
    "execution": {
     "iopub.execute_input": "2022-09-19T12:21:37.686778Z",
     "iopub.status.busy": "2022-09-19T12:21:37.685949Z",
     "iopub.status.idle": "2022-09-19T12:21:37.689709Z",
     "shell.execute_reply": "2022-09-19T12:21:37.690436Z"
    },
    "papermill": {
     "duration": 0.052106,
     "end_time": "2022-09-19T12:21:37.690587",
     "exception": false,
     "start_time": "2022-09-19T12:21:37.638481",
     "status": "completed"
    },
    "tags": []
   },
   "outputs": [],
   "source": [
    "#hide\n",
    "#delete problematic countries from table\n",
    "df_table = df_table[~df_table['Country/Region'].isin(['Cape Verde', 'Cruise Ship', 'Kosovo'])]"
   ]
  },
  {
   "cell_type": "code",
   "execution_count": 17,
   "id": "related-center",
   "metadata": {
    "execution": {
     "iopub.execute_input": "2022-09-19T12:21:37.779531Z",
     "iopub.status.busy": "2022-09-19T12:21:37.778791Z",
     "iopub.status.idle": "2022-09-19T12:21:37.796445Z",
     "shell.execute_reply": "2022-09-19T12:21:37.795707Z"
    },
    "papermill": {
     "duration": 0.066253,
     "end_time": "2022-09-19T12:21:37.796624",
     "exception": false,
     "start_time": "2022-09-19T12:21:37.730371",
     "status": "completed"
    },
    "tags": []
   },
   "outputs": [],
   "source": [
    "#hide\n",
    "metrics = [df_table.columns[index] for index in [1,2,5,6]]\n",
    "# s_china = df_table[df_table['Country/Region'].eq('China')][metrics].sum().add_prefix('China ')\n",
    "s_us = df_table[df_table['Country/Region'].eq('US')][metrics].sum().add_prefix('US ')\n",
    "s_eu = df_table[df_table['Continent'].eq('Europe')][metrics].sum().add_prefix('EU ')\n",
    "s_ind = df_table[df_table['Country/Region'].eq('India')][metrics].sum().add_prefix('India ')\n",
    "summary = {'updated': pd.to_datetime(dt_today), 'since': pd.to_datetime(dt_yday)}\n",
    "summary = {'updated': pd.to_datetime(dt_today), 'since': pd.to_datetime(dt_yday)}\n",
    "summary = {**summary, **df_table[metrics].sum(), **s_ind, **s_us, **s_eu}"
   ]
  },
  {
   "cell_type": "code",
   "execution_count": 18,
   "id": "engaging-syndrome",
   "metadata": {
    "execution": {
     "iopub.execute_input": "2022-09-19T12:21:37.882886Z",
     "iopub.status.busy": "2022-09-19T12:21:37.882110Z",
     "iopub.status.idle": "2022-09-19T12:21:37.906959Z",
     "shell.execute_reply": "2022-09-19T12:21:37.906289Z"
    },
    "papermill": {
     "duration": 0.071148,
     "end_time": "2022-09-19T12:21:37.907183",
     "exception": false,
     "start_time": "2022-09-19T12:21:37.836035",
     "status": "completed"
    },
    "tags": []
   },
   "outputs": [],
   "source": [
    "#hide\n",
    "dft_ct_new_cases = dft_cases.groupby(COL_REGION)[dt_cols].sum().diff(axis=1).fillna(0).astype(int)"
   ]
  },
  {
   "cell_type": "code",
   "execution_count": 19,
   "id": "neutral-assignment",
   "metadata": {
    "execution": {
     "iopub.execute_input": "2022-09-19T12:21:38.000314Z",
     "iopub.status.busy": "2022-09-19T12:21:37.999469Z",
     "iopub.status.idle": "2022-09-19T12:21:38.002890Z",
     "shell.execute_reply": "2022-09-19T12:21:38.002289Z"
    },
    "papermill": {
     "duration": 0.052051,
     "end_time": "2022-09-19T12:21:38.003081",
     "exception": false,
     "start_time": "2022-09-19T12:21:37.951030",
     "status": "completed"
    },
    "tags": []
   },
   "outputs": [],
   "source": [
    "#hide\n",
    "everydaycases = dft_ct_new_cases.cumsum(axis=1)"
   ]
  },
  {
   "cell_type": "code",
   "execution_count": 20,
   "id": "parliamentary-calgary",
   "metadata": {
    "execution": {
     "iopub.execute_input": "2022-09-19T12:21:38.091759Z",
     "iopub.status.busy": "2022-09-19T12:21:38.090904Z",
     "iopub.status.idle": "2022-09-19T12:21:38.818135Z",
     "shell.execute_reply": "2022-09-19T12:21:38.817538Z"
    },
    "papermill": {
     "duration": 0.77498,
     "end_time": "2022-09-19T12:21:38.818284",
     "exception": false,
     "start_time": "2022-09-19T12:21:38.043304",
     "status": "completed"
    },
    "tags": []
   },
   "outputs": [],
   "source": [
    "#hide\n",
    "import pandas as pd\n",
    "import matplotlib.pyplot as plt\n",
    "import matplotlib.ticker as ticker\n",
    "import matplotlib.animation as animation\n",
    "from IPython.display import HTML"
   ]
  },
  {
   "cell_type": "code",
   "execution_count": 21,
   "id": "lasting-extraction",
   "metadata": {
    "execution": {
     "iopub.execute_input": "2022-09-19T12:21:38.918124Z",
     "iopub.status.busy": "2022-09-19T12:21:38.917467Z",
     "iopub.status.idle": "2022-09-19T12:21:38.925263Z",
     "shell.execute_reply": "2022-09-19T12:21:38.925920Z"
    },
    "papermill": {
     "duration": 0.058731,
     "end_time": "2022-09-19T12:21:38.926156",
     "exception": false,
     "start_time": "2022-09-19T12:21:38.867425",
     "status": "completed"
    },
    "tags": []
   },
   "outputs": [],
   "source": [
    "#hide\n",
    "t = everydaycases.stack()"
   ]
  },
  {
   "cell_type": "code",
   "execution_count": 22,
   "id": "premier-sleeve",
   "metadata": {
    "execution": {
     "iopub.execute_input": "2022-09-19T12:21:39.006674Z",
     "iopub.status.busy": "2022-09-19T12:21:39.005942Z",
     "iopub.status.idle": "2022-09-19T12:21:39.020954Z",
     "shell.execute_reply": "2022-09-19T12:21:39.020369Z"
    },
    "papermill": {
     "duration": 0.057093,
     "end_time": "2022-09-19T12:21:39.021089",
     "exception": false,
     "start_time": "2022-09-19T12:21:38.963996",
     "status": "completed"
    },
    "tags": []
   },
   "outputs": [],
   "source": [
    "#hide\n",
    "g = t.reset_index(['Country/Region'])"
   ]
  },
  {
   "cell_type": "code",
   "execution_count": 23,
   "id": "distributed-pittsburgh",
   "metadata": {
    "execution": {
     "iopub.execute_input": "2022-09-19T12:21:39.103890Z",
     "iopub.status.busy": "2022-09-19T12:21:39.102875Z",
     "iopub.status.idle": "2022-09-19T12:21:39.106626Z",
     "shell.execute_reply": "2022-09-19T12:21:39.105725Z"
    },
    "papermill": {
     "duration": 0.04658,
     "end_time": "2022-09-19T12:21:39.106753",
     "exception": false,
     "start_time": "2022-09-19T12:21:39.060173",
     "status": "completed"
    },
    "tags": []
   },
   "outputs": [],
   "source": [
    "#hide\n",
    "g.index.name = 'date'"
   ]
  },
  {
   "cell_type": "code",
   "execution_count": 24,
   "id": "naked-donor",
   "metadata": {
    "execution": {
     "iopub.execute_input": "2022-09-19T12:21:39.187581Z",
     "iopub.status.busy": "2022-09-19T12:21:39.186763Z",
     "iopub.status.idle": "2022-09-19T12:21:39.191379Z",
     "shell.execute_reply": "2022-09-19T12:21:39.192089Z"
    },
    "papermill": {
     "duration": 0.045599,
     "end_time": "2022-09-19T12:21:39.192314",
     "exception": false,
     "start_time": "2022-09-19T12:21:39.146715",
     "status": "completed"
    },
    "tags": []
   },
   "outputs": [],
   "source": [
    "# #hide\n",
    "# g = g.reset_index(['date'])"
   ]
  },
  {
   "cell_type": "code",
   "execution_count": 25,
   "id": "incomplete-mustang",
   "metadata": {
    "execution": {
     "iopub.execute_input": "2022-09-19T12:21:39.277533Z",
     "iopub.status.busy": "2022-09-19T12:21:39.275661Z",
     "iopub.status.idle": "2022-09-19T12:21:39.278459Z",
     "shell.execute_reply": "2022-09-19T12:21:39.279067Z"
    },
    "papermill": {
     "duration": 0.047679,
     "end_time": "2022-09-19T12:21:39.279234",
     "exception": false,
     "start_time": "2022-09-19T12:21:39.231555",
     "status": "completed"
    },
    "tags": []
   },
   "outputs": [],
   "source": [
    "#hide\n",
    "# g.head()"
   ]
  },
  {
   "cell_type": "code",
   "execution_count": 26,
   "id": "specific-kruger",
   "metadata": {
    "execution": {
     "iopub.execute_input": "2022-09-19T12:21:39.360031Z",
     "iopub.status.busy": "2022-09-19T12:21:39.359260Z",
     "iopub.status.idle": "2022-09-19T12:21:39.364447Z",
     "shell.execute_reply": "2022-09-19T12:21:39.363803Z"
    },
    "papermill": {
     "duration": 0.046842,
     "end_time": "2022-09-19T12:21:39.364582",
     "exception": false,
     "start_time": "2022-09-19T12:21:39.317740",
     "status": "completed"
    },
    "tags": []
   },
   "outputs": [],
   "source": [
    "#hide\n",
    "# g.columns = ['date','country','cases']"
   ]
  },
  {
   "cell_type": "code",
   "execution_count": 27,
   "id": "tender-conversion",
   "metadata": {
    "execution": {
     "iopub.execute_input": "2022-09-19T12:21:39.449208Z",
     "iopub.status.busy": "2022-09-19T12:21:39.448423Z",
     "iopub.status.idle": "2022-09-19T12:21:39.452152Z",
     "shell.execute_reply": "2022-09-19T12:21:39.451279Z"
    },
    "papermill": {
     "duration": 0.047933,
     "end_time": "2022-09-19T12:21:39.452311",
     "exception": false,
     "start_time": "2022-09-19T12:21:39.404378",
     "status": "completed"
    },
    "tags": []
   },
   "outputs": [],
   "source": [
    "#hide\n",
    "# g['continent'] = g.country"
   ]
  },
  {
   "cell_type": "code",
   "execution_count": 28,
   "id": "substantial-wilderness",
   "metadata": {
    "execution": {
     "iopub.execute_input": "2022-09-19T12:21:39.536152Z",
     "iopub.status.busy": "2022-09-19T12:21:39.535375Z",
     "iopub.status.idle": "2022-09-19T12:21:39.538798Z",
     "shell.execute_reply": "2022-09-19T12:21:39.538143Z"
    },
    "papermill": {
     "duration": 0.047054,
     "end_time": "2022-09-19T12:21:39.538932",
     "exception": false,
     "start_time": "2022-09-19T12:21:39.491878",
     "status": "completed"
    },
    "tags": []
   },
   "outputs": [],
   "source": [
    "#hide\n",
    "# cols = list(g.columns.values)"
   ]
  },
  {
   "cell_type": "code",
   "execution_count": 29,
   "id": "solved-farming",
   "metadata": {
    "execution": {
     "iopub.execute_input": "2022-09-19T12:21:39.625141Z",
     "iopub.status.busy": "2022-09-19T12:21:39.624333Z",
     "iopub.status.idle": "2022-09-19T12:21:39.627713Z",
     "shell.execute_reply": "2022-09-19T12:21:39.626973Z"
    },
    "papermill": {
     "duration": 0.048484,
     "end_time": "2022-09-19T12:21:39.627846",
     "exception": false,
     "start_time": "2022-09-19T12:21:39.579362",
     "status": "completed"
    },
    "tags": []
   },
   "outputs": [],
   "source": [
    "#hide\n",
    "# cols.insert(0, cols.pop())"
   ]
  },
  {
   "cell_type": "code",
   "execution_count": 30,
   "id": "executed-adoption",
   "metadata": {
    "execution": {
     "iopub.execute_input": "2022-09-19T12:21:39.712635Z",
     "iopub.status.busy": "2022-09-19T12:21:39.711928Z",
     "iopub.status.idle": "2022-09-19T12:21:39.715730Z",
     "shell.execute_reply": "2022-09-19T12:21:39.715009Z"
    },
    "papermill": {
     "duration": 0.047308,
     "end_time": "2022-09-19T12:21:39.715855",
     "exception": false,
     "start_time": "2022-09-19T12:21:39.668547",
     "status": "completed"
    },
    "tags": []
   },
   "outputs": [],
   "source": [
    "#hide\n",
    "# g = g[cols]"
   ]
  },
  {
   "cell_type": "code",
   "execution_count": 31,
   "id": "subject-dublin",
   "metadata": {
    "execution": {
     "iopub.execute_input": "2022-09-19T12:21:39.800872Z",
     "iopub.status.busy": "2022-09-19T12:21:39.800138Z",
     "iopub.status.idle": "2022-09-19T12:21:39.803359Z",
     "shell.execute_reply": "2022-09-19T12:21:39.802621Z"
    },
    "papermill": {
     "duration": 0.046779,
     "end_time": "2022-09-19T12:21:39.803493",
     "exception": false,
     "start_time": "2022-09-19T12:21:39.756714",
     "status": "completed"
    },
    "tags": []
   },
   "outputs": [],
   "source": [
    "#hide\n",
    "# g['continent'] = g['continent'].map(mapping['map.continent'])"
   ]
  },
  {
   "cell_type": "code",
   "execution_count": 32,
   "id": "freelance-scout",
   "metadata": {
    "execution": {
     "iopub.execute_input": "2022-09-19T12:21:39.883523Z",
     "iopub.status.busy": "2022-09-19T12:21:39.882690Z",
     "iopub.status.idle": "2022-09-19T12:21:39.886314Z",
     "shell.execute_reply": "2022-09-19T12:21:39.885517Z"
    },
    "papermill": {
     "duration": 0.044915,
     "end_time": "2022-09-19T12:21:39.886471",
     "exception": false,
     "start_time": "2022-09-19T12:21:39.841556",
     "status": "completed"
    },
    "tags": []
   },
   "outputs": [],
   "source": [
    "#hide\n",
    "# g.head()"
   ]
  },
  {
   "cell_type": "code",
   "execution_count": 33,
   "id": "limited-engine",
   "metadata": {
    "execution": {
     "iopub.execute_input": "2022-09-19T12:21:39.977309Z",
     "iopub.status.busy": "2022-09-19T12:21:39.976458Z",
     "iopub.status.idle": "2022-09-19T12:21:39.979774Z",
     "shell.execute_reply": "2022-09-19T12:21:39.979053Z"
    },
    "papermill": {
     "duration": 0.050336,
     "end_time": "2022-09-19T12:21:39.979909",
     "exception": false,
     "start_time": "2022-09-19T12:21:39.929573",
     "status": "completed"
    },
    "tags": []
   },
   "outputs": [],
   "source": [
    "# hide\n",
    "# g['date'] = g['date'].astype('datetime64[ns]')"
   ]
  },
  {
   "cell_type": "code",
   "execution_count": 34,
   "id": "sophisticated-supervisor",
   "metadata": {
    "execution": {
     "iopub.execute_input": "2022-09-19T12:21:40.060492Z",
     "iopub.status.busy": "2022-09-19T12:21:40.059788Z",
     "iopub.status.idle": "2022-09-19T12:21:40.064035Z",
     "shell.execute_reply": "2022-09-19T12:21:40.064594Z"
    },
    "papermill": {
     "duration": 0.046086,
     "end_time": "2022-09-19T12:21:40.064735",
     "exception": false,
     "start_time": "2022-09-19T12:21:40.018649",
     "status": "completed"
    },
    "tags": []
   },
   "outputs": [],
   "source": [
    "#hide\n",
    "# g['date'] = g.date.dt.dayofyear"
   ]
  },
  {
   "cell_type": "code",
   "execution_count": 35,
   "id": "inside-dubai",
   "metadata": {
    "execution": {
     "iopub.execute_input": "2022-09-19T12:21:40.149557Z",
     "iopub.status.busy": "2022-09-19T12:21:40.147320Z",
     "iopub.status.idle": "2022-09-19T12:21:40.150425Z",
     "shell.execute_reply": "2022-09-19T12:21:40.150979Z"
    },
    "papermill": {
     "duration": 0.047461,
     "end_time": "2022-09-19T12:21:40.151144",
     "exception": false,
     "start_time": "2022-09-19T12:21:40.103683",
     "status": "completed"
    },
    "tags": []
   },
   "outputs": [],
   "source": [
    "#hide\n",
    "# g = g.rename(columns= {'continent':'group','country':'name','cases':'value'})"
   ]
  },
  {
   "cell_type": "code",
   "execution_count": 36,
   "id": "fleet-motorcycle",
   "metadata": {
    "execution": {
     "iopub.execute_input": "2022-09-19T12:21:40.236838Z",
     "iopub.status.busy": "2022-09-19T12:21:40.236103Z",
     "iopub.status.idle": "2022-09-19T12:21:40.240543Z",
     "shell.execute_reply": "2022-09-19T12:21:40.241056Z"
    },
    "papermill": {
     "duration": 0.051188,
     "end_time": "2022-09-19T12:21:40.241232",
     "exception": false,
     "start_time": "2022-09-19T12:21:40.190044",
     "status": "completed"
    },
    "tags": []
   },
   "outputs": [],
   "source": [
    "#hide\n",
    "# cols = ['name','group','day','value']"
   ]
  },
  {
   "cell_type": "code",
   "execution_count": 37,
   "id": "continued-sleeping",
   "metadata": {
    "execution": {
     "iopub.execute_input": "2022-09-19T12:21:40.331655Z",
     "iopub.status.busy": "2022-09-19T12:21:40.330803Z",
     "iopub.status.idle": "2022-09-19T12:21:40.334415Z",
     "shell.execute_reply": "2022-09-19T12:21:40.333801Z"
    },
    "papermill": {
     "duration": 0.049407,
     "end_time": "2022-09-19T12:21:40.334544",
     "exception": false,
     "start_time": "2022-09-19T12:21:40.285137",
     "status": "completed"
    },
    "tags": []
   },
   "outputs": [],
   "source": [
    "#hide\n",
    "# g.rename(columns= {'date':'day'},inplace = True)"
   ]
  },
  {
   "cell_type": "code",
   "execution_count": 38,
   "id": "major-fight",
   "metadata": {
    "execution": {
     "iopub.execute_input": "2022-09-19T12:21:40.425413Z",
     "iopub.status.busy": "2022-09-19T12:21:40.424598Z",
     "iopub.status.idle": "2022-09-19T12:21:40.427684Z",
     "shell.execute_reply": "2022-09-19T12:21:40.427130Z"
    },
    "papermill": {
     "duration": 0.046498,
     "end_time": "2022-09-19T12:21:40.427808",
     "exception": false,
     "start_time": "2022-09-19T12:21:40.381310",
     "status": "completed"
    },
    "tags": []
   },
   "outputs": [],
   "source": [
    "#hide\n",
    "# g = g[cols]"
   ]
  },
  {
   "cell_type": "code",
   "execution_count": 39,
   "id": "structured-mobile",
   "metadata": {
    "execution": {
     "iopub.execute_input": "2022-09-19T12:21:40.518401Z",
     "iopub.status.busy": "2022-09-19T12:21:40.517617Z",
     "iopub.status.idle": "2022-09-19T12:21:40.521085Z",
     "shell.execute_reply": "2022-09-19T12:21:40.520312Z"
    },
    "papermill": {
     "duration": 0.047133,
     "end_time": "2022-09-19T12:21:40.521246",
     "exception": false,
     "start_time": "2022-09-19T12:21:40.474113",
     "status": "completed"
    },
    "tags": []
   },
   "outputs": [],
   "source": [
    "# #hide\n",
    "# g = g[g.group.notna()]"
   ]
  },
  {
   "cell_type": "code",
   "execution_count": 40,
   "id": "determined-closing",
   "metadata": {
    "execution": {
     "iopub.execute_input": "2022-09-19T12:21:40.602683Z",
     "iopub.status.busy": "2022-09-19T12:21:40.601958Z",
     "iopub.status.idle": "2022-09-19T12:21:40.606625Z",
     "shell.execute_reply": "2022-09-19T12:21:40.607166Z"
    },
    "papermill": {
     "duration": 0.046223,
     "end_time": "2022-09-19T12:21:40.607307",
     "exception": false,
     "start_time": "2022-09-19T12:21:40.561084",
     "status": "completed"
    },
    "tags": []
   },
   "outputs": [],
   "source": [
    "# #hide\n",
    "# colors = dict(zip(\n",
    "#     [\"Oceania\", \"Europe\", \"Asia\", \"South America\", \"Middle East\", \"North America\", \"Africa\"],\n",
    "#     [\"#adb0ff\", \"#ffb3ff\", \"#90d595\", \"#e48381\", \"#aafbff\", \"#f7bb5f\", \"#eafb50\"]\n",
    "# ))\n",
    "# group_lk = g.set_index('name')['group'].to_dict()"
   ]
  },
  {
   "cell_type": "code",
   "execution_count": null,
   "id": "gross-drinking",
   "metadata": {
    "papermill": {
     "duration": 0.037962,
     "end_time": "2022-09-19T12:21:40.682549",
     "exception": false,
     "start_time": "2022-09-19T12:21:40.644587",
     "status": "completed"
    },
    "tags": []
   },
   "outputs": [],
   "source": []
  },
  {
   "cell_type": "code",
   "execution_count": 41,
   "id": "subject-macintosh",
   "metadata": {
    "execution": {
     "iopub.execute_input": "2022-09-19T12:21:40.770711Z",
     "iopub.status.busy": "2022-09-19T12:21:40.769936Z",
     "iopub.status.idle": "2022-09-19T12:21:40.772567Z",
     "shell.execute_reply": "2022-09-19T12:21:40.771791Z"
    },
    "papermill": {
     "duration": 0.047386,
     "end_time": "2022-09-19T12:21:40.772745",
     "exception": false,
     "start_time": "2022-09-19T12:21:40.725359",
     "status": "completed"
    },
    "tags": []
   },
   "outputs": [],
   "source": [
    "# #hide\n",
    "# fig, ax = plt.subplots(figsize=(15, 8))\n",
    "\n",
    "# def draw_barchart(current_day):\n",
    "#     dff = g[g['day'].eq(current_day)].sort_values(by='value', ascending=True).tail(10)\n",
    "#     ax.clear()\n",
    "#     ax.barh(dff['name'], dff['value'], color=[colors[group_lk[x]] for x in dff['name']])\n",
    "#     dx = dff['value'].max() / 200\n",
    "    \n",
    "#     for i, (value, name) in enumerate(zip(dff['value'], dff['name'])):\n",
    "#         ax.text(value-dx, i,     name,           size=14, weight=600, ha='right', va='bottom')\n",
    "#         ax.text(value-dx, i-.25, group_lk[name], size=10, color='#444444', ha='right', va='baseline')\n",
    "#         ax.text(value+dx, i,     f'{value:,.0f}',  size=14, ha='left',  va='center')\n",
    "#     ax.text(1, 0.4, current_day, transform=ax.transAxes, color='#777777', size=46, ha='right', weight=800)\n",
    "#     ax.text(0, 1.06, 'Population (thousands)', transform=ax.transAxes, size=12, color='#777777')\n",
    "#     ax.xaxis.set_major_formatter(ticker.StrMethodFormatter('{x:,.0f}'))\n",
    "#     ax.xaxis.set_ticks_position('top')\n",
    "#     ax.tick_params(axis='x', colors='#777777', labelsize=12)\n",
    "#     ax.set_yticks([])\n",
    "#     ax.margins(0, 0.01)\n",
    "#     ax.grid(which='major', axis='x', linestyle='-')\n",
    "#     ax.set_axisbelow(True)\n",
    "    \n",
    "#     ax.text(0, 1.15, 'Coronavirus',\n",
    "#             transform=ax.transAxes, size=24, weight=600, ha='left', va='top')\n",
    "# #     ax.text(1, 0, 'by @pratapvardhan; credit @jburnmurdoch', transform=ax.transAxes, color='#777777', ha='right',\n",
    "# #             bbox=dict(facecolor='white', alpha=0.8, edgecolor='white'))\n",
    "#     plt.box(False)"
   ]
  },
  {
   "cell_type": "code",
   "execution_count": 42,
   "id": "sexual-wages",
   "metadata": {
    "execution": {
     "iopub.execute_input": "2022-09-19T12:21:40.851096Z",
     "iopub.status.busy": "2022-09-19T12:21:40.850372Z",
     "iopub.status.idle": "2022-09-19T12:21:40.852798Z",
     "shell.execute_reply": "2022-09-19T12:21:40.853393Z"
    },
    "papermill": {
     "duration": 0.043131,
     "end_time": "2022-09-19T12:21:40.853528",
     "exception": false,
     "start_time": "2022-09-19T12:21:40.810397",
     "status": "completed"
    },
    "tags": []
   },
   "outputs": [],
   "source": [
    "# #hide_input\n",
    "# fig, ax = plt.subplots(figsize=(15, 8))\n",
    "# animator = animation.FuncAnimation(fig, draw_barchart, frames=range(g.day.values.min(), g.day.values.max()))\n",
    "# HTML(animator.to_jshtml())\n",
    "# # or use animator.to_html5_video() or animator.save() "
   ]
  },
  {
   "cell_type": "code",
   "execution_count": null,
   "id": "australian-container",
   "metadata": {
    "papermill": {
     "duration": 0.03599,
     "end_time": "2022-09-19T12:21:40.927290",
     "exception": false,
     "start_time": "2022-09-19T12:21:40.891300",
     "status": "completed"
    },
    "tags": []
   },
   "outputs": [],
   "source": []
  },
  {
   "cell_type": "code",
   "execution_count": null,
   "id": "mediterranean-pontiac",
   "metadata": {
    "papermill": {
     "duration": 0.036356,
     "end_time": "2022-09-19T12:21:41.003120",
     "exception": false,
     "start_time": "2022-09-19T12:21:40.966764",
     "status": "completed"
    },
    "tags": []
   },
   "outputs": [],
   "source": []
  },
  {
   "cell_type": "code",
   "execution_count": null,
   "id": "aging-legislature",
   "metadata": {
    "papermill": {
     "duration": 0.039543,
     "end_time": "2022-09-19T12:21:41.081940",
     "exception": false,
     "start_time": "2022-09-19T12:21:41.042397",
     "status": "completed"
    },
    "tags": []
   },
   "outputs": [],
   "source": []
  }
 ],
 "metadata": {
  "kernelspec": {
   "display_name": "Python 3",
   "language": "python",
   "name": "python3"
  },
  "language_info": {
   "codemirror_mode": {
    "name": "ipython",
    "version": 3
   },
   "file_extension": ".py",
   "mimetype": "text/x-python",
   "name": "python",
   "nbconvert_exporter": "python",
   "pygments_lexer": "ipython3",
   "version": "3.6.15"
  },
  "papermill": {
   "duration": 7.386203,
   "end_time": "2022-09-19T12:21:41.440001",
   "environment_variables": {},
   "exception": null,
   "input_path": "2020-03-21-covid19exp.ipynb",
   "output_path": "2020-03-21-covid19exp.ipynb",
   "parameters": {},
   "start_time": "2022-09-19T12:21:34.053798",
   "version": "2.0.0"
  }
 },
 "nbformat": 4,
 "nbformat_minor": 5
}