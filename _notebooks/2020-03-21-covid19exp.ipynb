{
 "cells": [
  {
   "cell_type": "markdown",
   "id": "muslim-click",
   "metadata": {
    "papermill": {
     "duration": 0.034727,
     "end_time": "2021-09-21T00:20:53.185884",
     "exception": false,
     "start_time": "2021-09-21T00:20:53.151157",
     "status": "completed"
    },
    "tags": []
   },
   "source": [
    "# COVID-19 Case Race\n",
    "> A race chart to see rising cases around the world\n",
    "\n",
    "- author: Hargun Oberoi\n",
    "- image: images/covid-overview.png\n",
    "- hide: false\n",
    "- badges: false"
   ]
  },
  {
   "cell_type": "code",
   "execution_count": 1,
   "id": "proof-material",
   "metadata": {
    "execution": {
     "iopub.execute_input": "2021-09-21T00:20:53.254558Z",
     "iopub.status.busy": "2021-09-21T00:20:53.252248Z",
     "iopub.status.idle": "2021-09-21T00:20:53.567722Z",
     "shell.execute_reply": "2021-09-21T00:20:53.567205Z"
    },
    "papermill": {
     "duration": 0.352104,
     "end_time": "2021-09-21T00:20:53.567870",
     "exception": false,
     "start_time": "2021-09-21T00:20:53.215766",
     "status": "completed"
    },
    "tags": []
   },
   "outputs": [],
   "source": [
    "#hide\n",
    "import numpy as np\n",
    "import pandas as pd\n",
    "from jinja2 import Template\n",
    "from IPython.display import HTML"
   ]
  },
  {
   "cell_type": "code",
   "execution_count": 2,
   "id": "developed-terminology",
   "metadata": {
    "execution": {
     "iopub.execute_input": "2021-09-21T00:20:53.632548Z",
     "iopub.status.busy": "2021-09-21T00:20:53.632033Z",
     "iopub.status.idle": "2021-09-21T00:20:53.634052Z",
     "shell.execute_reply": "2021-09-21T00:20:53.634516Z"
    },
    "papermill": {
     "duration": 0.037212,
     "end_time": "2021-09-21T00:20:53.634634",
     "exception": false,
     "start_time": "2021-09-21T00:20:53.597422",
     "status": "completed"
    },
    "tags": []
   },
   "outputs": [],
   "source": [
    "#hide\n",
    "\n",
    "# FETCH\n",
    "base_url = 'https://raw.githubusercontent.com/pratapvardhan/notebooks/master/covid19/'\n",
    "paths = {\n",
    "    'mapping': base_url + 'mapping_countries.csv',\n",
    "    'overview': base_url + 'overview.tpl'\n",
    "}"
   ]
  },
  {
   "cell_type": "code",
   "execution_count": 3,
   "id": "dynamic-saver",
   "metadata": {
    "execution": {
     "iopub.execute_input": "2021-09-21T00:20:53.702059Z",
     "iopub.status.busy": "2021-09-21T00:20:53.701561Z",
     "iopub.status.idle": "2021-09-21T00:20:53.704484Z",
     "shell.execute_reply": "2021-09-21T00:20:53.704065Z"
    },
    "papermill": {
     "duration": 0.040785,
     "end_time": "2021-09-21T00:20:53.704581",
     "exception": false,
     "start_time": "2021-09-21T00:20:53.663796",
     "status": "completed"
    },
    "tags": []
   },
   "outputs": [
    {
     "data": {
      "text/plain": [
       "'https://raw.githubusercontent.com/pratapvardhan/notebooks/master/covid19/mapping_countries.csv'"
      ]
     },
     "execution_count": 3,
     "metadata": {},
     "output_type": "execute_result"
    }
   ],
   "source": [
    "#hide\n",
    "paths['mapping']"
   ]
  },
  {
   "cell_type": "code",
   "execution_count": 4,
   "id": "urban-software",
   "metadata": {
    "execution": {
     "iopub.execute_input": "2021-09-21T00:20:53.768419Z",
     "iopub.status.busy": "2021-09-21T00:20:53.767919Z",
     "iopub.status.idle": "2021-09-21T00:20:53.769700Z",
     "shell.execute_reply": "2021-09-21T00:20:53.770177Z"
    },
    "papermill": {
     "duration": 0.036093,
     "end_time": "2021-09-21T00:20:53.770284",
     "exception": false,
     "start_time": "2021-09-21T00:20:53.734191",
     "status": "completed"
    },
    "tags": []
   },
   "outputs": [],
   "source": [
    "#hide\n",
    "def get_mappings(url):\n",
    "    df = pd.read_csv(url)\n",
    "    return {\n",
    "        'df': df,\n",
    "        'replace.country': dict(df.dropna(subset=['Name']).set_index('Country')['Name']),\n",
    "        'map.continent': dict(df.set_index('Name')['Continent'])\n",
    "    }"
   ]
  },
  {
   "cell_type": "code",
   "execution_count": 5,
   "id": "intimate-machinery",
   "metadata": {
    "execution": {
     "iopub.execute_input": "2021-09-21T00:20:53.833796Z",
     "iopub.status.busy": "2021-09-21T00:20:53.833302Z",
     "iopub.status.idle": "2021-09-21T00:20:53.863044Z",
     "shell.execute_reply": "2021-09-21T00:20:53.862545Z"
    },
    "papermill": {
     "duration": 0.063457,
     "end_time": "2021-09-21T00:20:53.863159",
     "exception": false,
     "start_time": "2021-09-21T00:20:53.799702",
     "status": "completed"
    },
    "tags": []
   },
   "outputs": [],
   "source": [
    "#hide\n",
    "mapping = get_mappings(paths['mapping'])"
   ]
  },
  {
   "cell_type": "code",
   "execution_count": 6,
   "id": "certified-tactics",
   "metadata": {
    "execution": {
     "iopub.execute_input": "2021-09-21T00:20:53.927993Z",
     "iopub.status.busy": "2021-09-21T00:20:53.927448Z",
     "iopub.status.idle": "2021-09-21T00:20:53.929533Z",
     "shell.execute_reply": "2021-09-21T00:20:53.930011Z"
    },
    "papermill": {
     "duration": 0.036167,
     "end_time": "2021-09-21T00:20:53.930120",
     "exception": false,
     "start_time": "2021-09-21T00:20:53.893953",
     "status": "completed"
    },
    "tags": []
   },
   "outputs": [],
   "source": [
    "#hide\n",
    "def get_template(path):\n",
    "    from urllib.parse import urlparse\n",
    "    if bool(urlparse(path).netloc):\n",
    "        from urllib.request import urlopen\n",
    "        return urlopen(path).read().decode('utf8')\n",
    "    return open(path).read()"
   ]
  },
  {
   "cell_type": "code",
   "execution_count": 7,
   "id": "realistic-blast",
   "metadata": {
    "execution": {
     "iopub.execute_input": "2021-09-21T00:20:53.993264Z",
     "iopub.status.busy": "2021-09-21T00:20:53.992763Z",
     "iopub.status.idle": "2021-09-21T00:20:53.994873Z",
     "shell.execute_reply": "2021-09-21T00:20:53.994479Z"
    },
    "papermill": {
     "duration": 0.035456,
     "end_time": "2021-09-21T00:20:53.994971",
     "exception": false,
     "start_time": "2021-09-21T00:20:53.959515",
     "status": "completed"
    },
    "tags": []
   },
   "outputs": [],
   "source": [
    "#hide\n",
    "def get_frame(name):\n",
    "    url = (\n",
    "        'https://raw.githubusercontent.com/CSSEGISandData/COVID-19/master/csse_covid_19_data/'\n",
    "        f'csse_covid_19_time_series/time_series_covid19_{name}_global.csv')\n",
    "    df = pd.read_csv(url)\n",
    "    # rename countries\n",
    "    df['Country/Region'] = df['Country/Region'].replace(mapping['replace.country'])\n",
    "    return df"
   ]
  },
  {
   "cell_type": "code",
   "execution_count": 8,
   "id": "affiliated-characterization",
   "metadata": {
    "execution": {
     "iopub.execute_input": "2021-09-21T00:20:54.059238Z",
     "iopub.status.busy": "2021-09-21T00:20:54.058737Z",
     "iopub.status.idle": "2021-09-21T00:20:54.060849Z",
     "shell.execute_reply": "2021-09-21T00:20:54.061226Z"
    },
    "papermill": {
     "duration": 0.036723,
     "end_time": "2021-09-21T00:20:54.061336",
     "exception": false,
     "start_time": "2021-09-21T00:20:54.024613",
     "status": "completed"
    },
    "tags": []
   },
   "outputs": [],
   "source": [
    "#hide\n",
    "def get_dates(df):\n",
    "    dt_cols = df.columns[~df.columns.isin(['Province/State', 'Country/Region', 'Lat', 'Long'])]\n",
    "    LAST_DATE_I = -1\n",
    "    # sometimes last column may be empty, then go backwards\n",
    "    for i in range(-1, -len(dt_cols), -1):\n",
    "        if not df[dt_cols[i]].fillna(0).eq(0).all():\n",
    "            LAST_DATE_I = i\n",
    "            break\n",
    "    return LAST_DATE_I, dt_cols"
   ]
  },
  {
   "cell_type": "code",
   "execution_count": 9,
   "id": "recent-optimization",
   "metadata": {
    "execution": {
     "iopub.execute_input": "2021-09-21T00:20:54.124415Z",
     "iopub.status.busy": "2021-09-21T00:20:54.123909Z",
     "iopub.status.idle": "2021-09-21T00:20:54.408083Z",
     "shell.execute_reply": "2021-09-21T00:20:54.407556Z"
    },
    "papermill": {
     "duration": 0.317523,
     "end_time": "2021-09-21T00:20:54.408218",
     "exception": false,
     "start_time": "2021-09-21T00:20:54.090695",
     "status": "completed"
    },
    "tags": []
   },
   "outputs": [],
   "source": [
    "#hide\n",
    "COL_REGION = 'Country/Region'\n",
    "# Confirmed, Recovered, Deaths\n",
    "df = get_frame('confirmed')\n",
    "# dft_: timeseries, dfc_: today country agg\n",
    "dft_cases = df\n",
    "dft_deaths = get_frame('deaths')\n",
    "dft_recovered = get_frame('recovered')\n",
    "LAST_DATE_I, dt_cols = get_dates(df)"
   ]
  },
  {
   "cell_type": "code",
   "execution_count": 10,
   "id": "absolute-copper",
   "metadata": {
    "execution": {
     "iopub.execute_input": "2021-09-21T00:20:54.473977Z",
     "iopub.status.busy": "2021-09-21T00:20:54.473467Z",
     "iopub.status.idle": "2021-09-21T00:20:54.475690Z",
     "shell.execute_reply": "2021-09-21T00:20:54.475238Z"
    },
    "papermill": {
     "duration": 0.037232,
     "end_time": "2021-09-21T00:20:54.475799",
     "exception": false,
     "start_time": "2021-09-21T00:20:54.438567",
     "status": "completed"
    },
    "tags": []
   },
   "outputs": [],
   "source": [
    "#hide\n",
    "LAST_DATE_I, dt_cols = get_dates(df)\n",
    "dt_today =dt_cols[LAST_DATE_I]\n",
    "# dt_5day = dt_cols[LAST_DATE_I - 5]\n",
    "dt_yday = dt_cols[LAST_DATE_I - 1]"
   ]
  },
  {
   "cell_type": "code",
   "execution_count": 11,
   "id": "restricted-sheriff",
   "metadata": {
    "execution": {
     "iopub.execute_input": "2021-09-21T00:20:54.539393Z",
     "iopub.status.busy": "2021-09-21T00:20:54.538896Z",
     "iopub.status.idle": "2021-09-21T00:20:54.546339Z",
     "shell.execute_reply": "2021-09-21T00:20:54.545918Z"
    },
    "papermill": {
     "duration": 0.041127,
     "end_time": "2021-09-21T00:20:54.546435",
     "exception": false,
     "start_time": "2021-09-21T00:20:54.505308",
     "status": "completed"
    },
    "tags": []
   },
   "outputs": [],
   "source": [
    "#hide\n",
    "dfc_cases = dft_cases.groupby(COL_REGION)[dt_today].sum()\n",
    "dfc_deaths = dft_deaths.groupby(COL_REGION)[dt_today].sum()\n",
    "# dfp_cases = dft_cases.groupby(COL_REGION)[dt_5day].sum()\n",
    "# dfp_deaths = dft_deaths.groupby(COL_REGION)[dt_5day].sum()\n",
    "dfp_cases = dft_cases.groupby(COL_REGION)[dt_yday].sum()\n",
    "dfp_deaths = dft_deaths.groupby(COL_REGION)[dt_yday].sum()"
   ]
  },
  {
   "cell_type": "code",
   "execution_count": 12,
   "id": "deluxe-hepatitis",
   "metadata": {
    "execution": {
     "iopub.execute_input": "2021-09-21T00:20:54.611127Z",
     "iopub.status.busy": "2021-09-21T00:20:54.610624Z",
     "iopub.status.idle": "2021-09-21T00:20:54.615276Z",
     "shell.execute_reply": "2021-09-21T00:20:54.614876Z"
    },
    "papermill": {
     "duration": 0.039448,
     "end_time": "2021-09-21T00:20:54.615375",
     "exception": false,
     "start_time": "2021-09-21T00:20:54.575927",
     "status": "completed"
    },
    "tags": []
   },
   "outputs": [],
   "source": [
    "#hide\n",
    "df_table = (pd.DataFrame(dict(Cases = dfc_cases, Deaths = dfc_deaths, PCases = dfp_cases, PDeaths = dfp_deaths))\n",
    "            .sort_values(by = ['Cases','Deaths'], ascending = [False, False])\n",
    "            .reset_index())"
   ]
  },
  {
   "cell_type": "code",
   "execution_count": 13,
   "id": "educational-chancellor",
   "metadata": {
    "execution": {
     "iopub.execute_input": "2021-09-21T00:20:54.690717Z",
     "iopub.status.busy": "2021-09-21T00:20:54.690217Z",
     "iopub.status.idle": "2021-09-21T00:20:54.697708Z",
     "shell.execute_reply": "2021-09-21T00:20:54.697313Z"
    },
    "papermill": {
     "duration": 0.052977,
     "end_time": "2021-09-21T00:20:54.697807",
     "exception": false,
     "start_time": "2021-09-21T00:20:54.644830",
     "status": "completed"
    },
    "tags": []
   },
   "outputs": [
    {
     "data": {
      "text/html": [
       "<div>\n",
       "<style scoped>\n",
       "    .dataframe tbody tr th:only-of-type {\n",
       "        vertical-align: middle;\n",
       "    }\n",
       "\n",
       "    .dataframe tbody tr th {\n",
       "        vertical-align: top;\n",
       "    }\n",
       "\n",
       "    .dataframe thead th {\n",
       "        text-align: right;\n",
       "    }\n",
       "</style>\n",
       "<table border=\"1\" class=\"dataframe\">\n",
       "  <thead>\n",
       "    <tr style=\"text-align: right;\">\n",
       "      <th></th>\n",
       "      <th>Country/Region</th>\n",
       "      <th>Cases</th>\n",
       "      <th>Deaths</th>\n",
       "      <th>PCases</th>\n",
       "      <th>PDeaths</th>\n",
       "      <th>Cases (+)</th>\n",
       "      <th>Deaths (+)</th>\n",
       "      <th>Fatality Rate</th>\n",
       "      <th>Continent</th>\n",
       "    </tr>\n",
       "  </thead>\n",
       "  <tbody>\n",
       "    <tr>\n",
       "      <th>0</th>\n",
       "      <td>US</td>\n",
       "      <td>42087432</td>\n",
       "      <td>673763</td>\n",
       "      <td>42050638</td>\n",
       "      <td>673472</td>\n",
       "      <td>36794</td>\n",
       "      <td>291</td>\n",
       "      <td>1.60</td>\n",
       "      <td>North America</td>\n",
       "    </tr>\n",
       "    <tr>\n",
       "      <th>1</th>\n",
       "      <td>India</td>\n",
       "      <td>33478419</td>\n",
       "      <td>445133</td>\n",
       "      <td>33448163</td>\n",
       "      <td>444838</td>\n",
       "      <td>30256</td>\n",
       "      <td>295</td>\n",
       "      <td>1.33</td>\n",
       "      <td>Asia</td>\n",
       "    </tr>\n",
       "    <tr>\n",
       "      <th>2</th>\n",
       "      <td>Brazil</td>\n",
       "      <td>21239783</td>\n",
       "      <td>590752</td>\n",
       "      <td>21230325</td>\n",
       "      <td>590508</td>\n",
       "      <td>9458</td>\n",
       "      <td>244</td>\n",
       "      <td>2.78</td>\n",
       "      <td>South America</td>\n",
       "    </tr>\n",
       "    <tr>\n",
       "      <th>3</th>\n",
       "      <td>United Kingdom</td>\n",
       "      <td>7464791</td>\n",
       "      <td>135539</td>\n",
       "      <td>7435493</td>\n",
       "      <td>135478</td>\n",
       "      <td>29298</td>\n",
       "      <td>61</td>\n",
       "      <td>1.82</td>\n",
       "      <td>Europe</td>\n",
       "    </tr>\n",
       "    <tr>\n",
       "      <th>4</th>\n",
       "      <td>Russia</td>\n",
       "      <td>7170069</td>\n",
       "      <td>194671</td>\n",
       "      <td>7150244</td>\n",
       "      <td>193891</td>\n",
       "      <td>19825</td>\n",
       "      <td>780</td>\n",
       "      <td>2.72</td>\n",
       "      <td>Europe</td>\n",
       "    </tr>\n",
       "  </tbody>\n",
       "</table>\n",
       "</div>"
      ],
      "text/plain": [
       "   Country/Region     Cases  Deaths    PCases  PDeaths  Cases (+)  Deaths (+)  \\\n",
       "0              US  42087432  673763  42050638   673472      36794         291   \n",
       "1           India  33478419  445133  33448163   444838      30256         295   \n",
       "2          Brazil  21239783  590752  21230325   590508       9458         244   \n",
       "3  United Kingdom   7464791  135539   7435493   135478      29298          61   \n",
       "4          Russia   7170069  194671   7150244   193891      19825         780   \n",
       "\n",
       "   Fatality Rate      Continent  \n",
       "0           1.60  North America  \n",
       "1           1.33           Asia  \n",
       "2           2.78  South America  \n",
       "3           1.82         Europe  \n",
       "4           2.72         Europe  "
      ]
     },
     "execution_count": 13,
     "metadata": {},
     "output_type": "execute_result"
    }
   ],
   "source": [
    "#hide\n",
    "for c in 'Cases, Deaths'.split(', '):\n",
    "    df_table[f'{c} (+)'] = (df_table[c] - df_table[f'P{c}']).clip(0)\n",
    "    #Clip ça veut dire, les chiffres negatif sont interdit\n",
    "df_table['Fatality Rate'] = (100* df_table['Deaths']/ df_table['Cases']).round(2)\n",
    "df_table['Continent'] = df_table['Country/Region'].map(mapping['map.continent'])\n",
    "df_table.head(5)"
   ]
  },
  {
   "cell_type": "code",
   "execution_count": 14,
   "id": "aboriginal-bulgaria",
   "metadata": {
    "execution": {
     "iopub.execute_input": "2021-09-21T00:20:54.762044Z",
     "iopub.status.busy": "2021-09-21T00:20:54.761550Z",
     "iopub.status.idle": "2021-09-21T00:20:54.764520Z",
     "shell.execute_reply": "2021-09-21T00:20:54.764123Z"
    },
    "papermill": {
     "duration": 0.036811,
     "end_time": "2021-09-21T00:20:54.764618",
     "exception": false,
     "start_time": "2021-09-21T00:20:54.727807",
     "status": "completed"
    },
    "tags": []
   },
   "outputs": [],
   "source": [
    "#hide\n",
    "#delete problematic countries from table\n",
    "df_table = df_table[~df_table['Country/Region'].isin(['Cape Verde', 'Cruise Ship', 'Kosovo'])]"
   ]
  },
  {
   "cell_type": "code",
   "execution_count": 15,
   "id": "fantastic-effect",
   "metadata": {
    "execution": {
     "iopub.execute_input": "2021-09-21T00:20:54.831750Z",
     "iopub.status.busy": "2021-09-21T00:20:54.831221Z",
     "iopub.status.idle": "2021-09-21T00:20:54.848411Z",
     "shell.execute_reply": "2021-09-21T00:20:54.847833Z"
    },
    "papermill": {
     "duration": 0.054114,
     "end_time": "2021-09-21T00:20:54.848524",
     "exception": false,
     "start_time": "2021-09-21T00:20:54.794410",
     "status": "completed"
    },
    "tags": []
   },
   "outputs": [
    {
     "data": {
      "text/html": [
       "<div>\n",
       "<style scoped>\n",
       "    .dataframe tbody tr th:only-of-type {\n",
       "        vertical-align: middle;\n",
       "    }\n",
       "\n",
       "    .dataframe tbody tr th {\n",
       "        vertical-align: top;\n",
       "    }\n",
       "\n",
       "    .dataframe thead th {\n",
       "        text-align: right;\n",
       "    }\n",
       "</style>\n",
       "<table border=\"1\" class=\"dataframe\">\n",
       "  <thead>\n",
       "    <tr style=\"text-align: right;\">\n",
       "      <th></th>\n",
       "      <th>Country/Region</th>\n",
       "      <th>Cases</th>\n",
       "      <th>Deaths</th>\n",
       "      <th>PCases</th>\n",
       "      <th>PDeaths</th>\n",
       "      <th>Cases (+)</th>\n",
       "      <th>Deaths (+)</th>\n",
       "      <th>Fatality Rate</th>\n",
       "      <th>Continent</th>\n",
       "    </tr>\n",
       "  </thead>\n",
       "  <tbody>\n",
       "    <tr>\n",
       "      <th>0</th>\n",
       "      <td>US</td>\n",
       "      <td>42087432</td>\n",
       "      <td>673763</td>\n",
       "      <td>42050638</td>\n",
       "      <td>673472</td>\n",
       "      <td>36794</td>\n",
       "      <td>291</td>\n",
       "      <td>1.6</td>\n",
       "      <td>North America</td>\n",
       "    </tr>\n",
       "    <tr>\n",
       "      <th>1</th>\n",
       "      <td>India</td>\n",
       "      <td>33478419</td>\n",
       "      <td>445133</td>\n",
       "      <td>33448163</td>\n",
       "      <td>444838</td>\n",
       "      <td>30256</td>\n",
       "      <td>295</td>\n",
       "      <td>1.3</td>\n",
       "      <td>Asia</td>\n",
       "    </tr>\n",
       "    <tr>\n",
       "      <th>2</th>\n",
       "      <td>Brazil</td>\n",
       "      <td>21239783</td>\n",
       "      <td>590752</td>\n",
       "      <td>21230325</td>\n",
       "      <td>590508</td>\n",
       "      <td>9458</td>\n",
       "      <td>244</td>\n",
       "      <td>2.8</td>\n",
       "      <td>South America</td>\n",
       "    </tr>\n",
       "    <tr>\n",
       "      <th>3</th>\n",
       "      <td>United Kingdom</td>\n",
       "      <td>7464791</td>\n",
       "      <td>135539</td>\n",
       "      <td>7435493</td>\n",
       "      <td>135478</td>\n",
       "      <td>29298</td>\n",
       "      <td>61</td>\n",
       "      <td>1.8</td>\n",
       "      <td>Europe</td>\n",
       "    </tr>\n",
       "    <tr>\n",
       "      <th>4</th>\n",
       "      <td>Russia</td>\n",
       "      <td>7170069</td>\n",
       "      <td>194671</td>\n",
       "      <td>7150244</td>\n",
       "      <td>193891</td>\n",
       "      <td>19825</td>\n",
       "      <td>780</td>\n",
       "      <td>2.7</td>\n",
       "      <td>Europe</td>\n",
       "    </tr>\n",
       "  </tbody>\n",
       "</table>\n",
       "</div>"
      ],
      "text/plain": [
       "   Country/Region     Cases  Deaths    PCases  PDeaths  Cases (+)  Deaths (+)  \\\n",
       "0              US  42087432  673763  42050638   673472      36794         291   \n",
       "1           India  33478419  445133  33448163   444838      30256         295   \n",
       "2          Brazil  21239783  590752  21230325   590508       9458         244   \n",
       "3  United Kingdom   7464791  135539   7435493   135478      29298          61   \n",
       "4          Russia   7170069  194671   7150244   193891      19825         780   \n",
       "\n",
       "   Fatality Rate      Continent  \n",
       "0            1.6  North America  \n",
       "1            1.3           Asia  \n",
       "2            2.8  South America  \n",
       "3            1.8         Europe  \n",
       "4            2.7         Europe  "
      ]
     },
     "execution_count": 15,
     "metadata": {},
     "output_type": "execute_result"
    }
   ],
   "source": [
    "#hide\n",
    "df_table = (pd.DataFrame(dict(Cases=dfc_cases, Deaths=dfc_deaths, PCases=dfp_cases, PDeaths=dfp_deaths))\n",
    "             .sort_values(by=['Cases', 'Deaths'], ascending=[False, False])\n",
    "             .reset_index())\n",
    "df_table.rename(columns={'index': 'Country/Region'}, inplace=True)\n",
    "for c in 'Cases, Deaths'.split(', '):\n",
    "    df_table[f'{c} (+)'] = (df_table[c] - df_table[f'P{c}']).clip(0)  # DATA BUG\n",
    "df_table['Fatality Rate'] = (100 * df_table['Deaths'] / df_table['Cases']).round(1)\n",
    "df_table['Continent'] = df_table['Country/Region'].map(mapping['map.continent'])\n",
    "df_table.head(5)"
   ]
  },
  {
   "cell_type": "code",
   "execution_count": 16,
   "id": "fewer-occasion",
   "metadata": {
    "execution": {
     "iopub.execute_input": "2021-09-21T00:20:54.914884Z",
     "iopub.status.busy": "2021-09-21T00:20:54.914384Z",
     "iopub.status.idle": "2021-09-21T00:20:54.916520Z",
     "shell.execute_reply": "2021-09-21T00:20:54.916121Z"
    },
    "papermill": {
     "duration": 0.036773,
     "end_time": "2021-09-21T00:20:54.916618",
     "exception": false,
     "start_time": "2021-09-21T00:20:54.879845",
     "status": "completed"
    },
    "tags": []
   },
   "outputs": [],
   "source": [
    "#hide\n",
    "#delete problematic countries from table\n",
    "df_table = df_table[~df_table['Country/Region'].isin(['Cape Verde', 'Cruise Ship', 'Kosovo'])]"
   ]
  },
  {
   "cell_type": "code",
   "execution_count": 17,
   "id": "related-center",
   "metadata": {
    "execution": {
     "iopub.execute_input": "2021-09-21T00:20:54.993542Z",
     "iopub.status.busy": "2021-09-21T00:20:54.993035Z",
     "iopub.status.idle": "2021-09-21T00:20:54.995158Z",
     "shell.execute_reply": "2021-09-21T00:20:54.994738Z"
    },
    "papermill": {
     "duration": 0.048511,
     "end_time": "2021-09-21T00:20:54.995254",
     "exception": false,
     "start_time": "2021-09-21T00:20:54.946743",
     "status": "completed"
    },
    "tags": []
   },
   "outputs": [],
   "source": [
    "#hide\n",
    "metrics = [df_table.columns[index] for index in [1,2,5,6]]\n",
    "# s_china = df_table[df_table['Country/Region'].eq('China')][metrics].sum().add_prefix('China ')\n",
    "s_us = df_table[df_table['Country/Region'].eq('US')][metrics].sum().add_prefix('US ')\n",
    "s_eu = df_table[df_table['Continent'].eq('Europe')][metrics].sum().add_prefix('EU ')\n",
    "s_ind = df_table[df_table['Country/Region'].eq('India')][metrics].sum().add_prefix('India ')\n",
    "summary = {'updated': pd.to_datetime(dt_today), 'since': pd.to_datetime(dt_yday)}\n",
    "summary = {'updated': pd.to_datetime(dt_today), 'since': pd.to_datetime(dt_yday)}\n",
    "summary = {**summary, **df_table[metrics].sum(), **s_ind, **s_us, **s_eu}"
   ]
  },
  {
   "cell_type": "code",
   "execution_count": 18,
   "id": "engaging-syndrome",
   "metadata": {
    "execution": {
     "iopub.execute_input": "2021-09-21T00:20:55.059833Z",
     "iopub.status.busy": "2021-09-21T00:20:55.059308Z",
     "iopub.status.idle": "2021-09-21T00:20:55.072194Z",
     "shell.execute_reply": "2021-09-21T00:20:55.071783Z"
    },
    "papermill": {
     "duration": 0.046842,
     "end_time": "2021-09-21T00:20:55.072296",
     "exception": false,
     "start_time": "2021-09-21T00:20:55.025454",
     "status": "completed"
    },
    "tags": []
   },
   "outputs": [],
   "source": [
    "#hide\n",
    "dft_ct_new_cases = dft_cases.groupby(COL_REGION)[dt_cols].sum().diff(axis=1).fillna(0).astype(int)"
   ]
  },
  {
   "cell_type": "code",
   "execution_count": 19,
   "id": "neutral-assignment",
   "metadata": {
    "execution": {
     "iopub.execute_input": "2021-09-21T00:20:55.138254Z",
     "iopub.status.busy": "2021-09-21T00:20:55.137742Z",
     "iopub.status.idle": "2021-09-21T00:20:55.139971Z",
     "shell.execute_reply": "2021-09-21T00:20:55.139559Z"
    },
    "papermill": {
     "duration": 0.037518,
     "end_time": "2021-09-21T00:20:55.140074",
     "exception": false,
     "start_time": "2021-09-21T00:20:55.102556",
     "status": "completed"
    },
    "tags": []
   },
   "outputs": [],
   "source": [
    "#hide\n",
    "everydaycases = dft_ct_new_cases.cumsum(axis=1)"
   ]
  },
  {
   "cell_type": "code",
   "execution_count": 20,
   "id": "parliamentary-calgary",
   "metadata": {
    "execution": {
     "iopub.execute_input": "2021-09-21T00:20:55.204882Z",
     "iopub.status.busy": "2021-09-21T00:20:55.204380Z",
     "iopub.status.idle": "2021-09-21T00:20:55.790051Z",
     "shell.execute_reply": "2021-09-21T00:20:55.789525Z"
    },
    "papermill": {
     "duration": 0.619841,
     "end_time": "2021-09-21T00:20:55.790188",
     "exception": false,
     "start_time": "2021-09-21T00:20:55.170347",
     "status": "completed"
    },
    "tags": []
   },
   "outputs": [],
   "source": [
    "#hide\n",
    "import pandas as pd\n",
    "import matplotlib.pyplot as plt\n",
    "import matplotlib.ticker as ticker\n",
    "import matplotlib.animation as animation\n",
    "from IPython.display import HTML"
   ]
  },
  {
   "cell_type": "code",
   "execution_count": 21,
   "id": "lasting-extraction",
   "metadata": {
    "execution": {
     "iopub.execute_input": "2021-09-21T00:20:55.901046Z",
     "iopub.status.busy": "2021-09-21T00:20:55.900518Z",
     "iopub.status.idle": "2021-09-21T00:20:55.902499Z",
     "shell.execute_reply": "2021-09-21T00:20:55.902880Z"
    },
    "papermill": {
     "duration": 0.048922,
     "end_time": "2021-09-21T00:20:55.903007",
     "exception": false,
     "start_time": "2021-09-21T00:20:55.854085",
     "status": "completed"
    },
    "tags": []
   },
   "outputs": [],
   "source": [
    "#hide\n",
    "t = everydaycases.stack()"
   ]
  },
  {
   "cell_type": "code",
   "execution_count": 22,
   "id": "premier-sleeve",
   "metadata": {
    "execution": {
     "iopub.execute_input": "2021-09-21T00:20:56.001136Z",
     "iopub.status.busy": "2021-09-21T00:20:56.000617Z",
     "iopub.status.idle": "2021-09-21T00:20:56.007853Z",
     "shell.execute_reply": "2021-09-21T00:20:56.008265Z"
    },
    "papermill": {
     "duration": 0.063033,
     "end_time": "2021-09-21T00:20:56.008384",
     "exception": false,
     "start_time": "2021-09-21T00:20:55.945351",
     "status": "completed"
    },
    "tags": []
   },
   "outputs": [],
   "source": [
    "#hide\n",
    "g = t.reset_index(['Country/Region'])"
   ]
  },
  {
   "cell_type": "code",
   "execution_count": 23,
   "id": "distributed-pittsburgh",
   "metadata": {
    "execution": {
     "iopub.execute_input": "2021-09-21T00:20:56.072231Z",
     "iopub.status.busy": "2021-09-21T00:20:56.071727Z",
     "iopub.status.idle": "2021-09-21T00:20:56.073900Z",
     "shell.execute_reply": "2021-09-21T00:20:56.073494Z"
    },
    "papermill": {
     "duration": 0.035486,
     "end_time": "2021-09-21T00:20:56.074003",
     "exception": false,
     "start_time": "2021-09-21T00:20:56.038517",
     "status": "completed"
    },
    "tags": []
   },
   "outputs": [],
   "source": [
    "#hide\n",
    "g.index.name = 'date'"
   ]
  },
  {
   "cell_type": "code",
   "execution_count": 24,
   "id": "naked-donor",
   "metadata": {
    "execution": {
     "iopub.execute_input": "2021-09-21T00:20:56.137570Z",
     "iopub.status.busy": "2021-09-21T00:20:56.137065Z",
     "iopub.status.idle": "2021-09-21T00:20:56.138851Z",
     "shell.execute_reply": "2021-09-21T00:20:56.139329Z"
    },
    "papermill": {
     "duration": 0.035085,
     "end_time": "2021-09-21T00:20:56.139438",
     "exception": false,
     "start_time": "2021-09-21T00:20:56.104353",
     "status": "completed"
    },
    "tags": []
   },
   "outputs": [],
   "source": [
    "# #hide\n",
    "# g = g.reset_index(['date'])"
   ]
  },
  {
   "cell_type": "code",
   "execution_count": 25,
   "id": "incomplete-mustang",
   "metadata": {
    "execution": {
     "iopub.execute_input": "2021-09-21T00:20:56.202734Z",
     "iopub.status.busy": "2021-09-21T00:20:56.202237Z",
     "iopub.status.idle": "2021-09-21T00:20:56.204011Z",
     "shell.execute_reply": "2021-09-21T00:20:56.204476Z"
    },
    "papermill": {
     "duration": 0.035034,
     "end_time": "2021-09-21T00:20:56.204583",
     "exception": false,
     "start_time": "2021-09-21T00:20:56.169549",
     "status": "completed"
    },
    "tags": []
   },
   "outputs": [],
   "source": [
    "#hide\n",
    "# g.head()"
   ]
  },
  {
   "cell_type": "code",
   "execution_count": 26,
   "id": "specific-kruger",
   "metadata": {
    "execution": {
     "iopub.execute_input": "2021-09-21T00:20:56.268087Z",
     "iopub.status.busy": "2021-09-21T00:20:56.267575Z",
     "iopub.status.idle": "2021-09-21T00:20:56.269713Z",
     "shell.execute_reply": "2021-09-21T00:20:56.269292Z"
    },
    "papermill": {
     "duration": 0.03494,
     "end_time": "2021-09-21T00:20:56.269808",
     "exception": false,
     "start_time": "2021-09-21T00:20:56.234868",
     "status": "completed"
    },
    "tags": []
   },
   "outputs": [],
   "source": [
    "#hide\n",
    "# g.columns = ['date','country','cases']"
   ]
  },
  {
   "cell_type": "code",
   "execution_count": 27,
   "id": "tender-conversion",
   "metadata": {
    "execution": {
     "iopub.execute_input": "2021-09-21T00:20:56.333036Z",
     "iopub.status.busy": "2021-09-21T00:20:56.332538Z",
     "iopub.status.idle": "2021-09-21T00:20:56.334819Z",
     "shell.execute_reply": "2021-09-21T00:20:56.334397Z"
    },
    "papermill": {
     "duration": 0.035078,
     "end_time": "2021-09-21T00:20:56.334913",
     "exception": false,
     "start_time": "2021-09-21T00:20:56.299835",
     "status": "completed"
    },
    "tags": []
   },
   "outputs": [],
   "source": [
    "#hide\n",
    "# g['continent'] = g.country"
   ]
  },
  {
   "cell_type": "code",
   "execution_count": 28,
   "id": "substantial-wilderness",
   "metadata": {
    "execution": {
     "iopub.execute_input": "2021-09-21T00:20:56.398455Z",
     "iopub.status.busy": "2021-09-21T00:20:56.397950Z",
     "iopub.status.idle": "2021-09-21T00:20:56.399855Z",
     "shell.execute_reply": "2021-09-21T00:20:56.400238Z"
    },
    "papermill": {
     "duration": 0.0352,
     "end_time": "2021-09-21T00:20:56.400347",
     "exception": false,
     "start_time": "2021-09-21T00:20:56.365147",
     "status": "completed"
    },
    "tags": []
   },
   "outputs": [],
   "source": [
    "#hide\n",
    "# cols = list(g.columns.values)"
   ]
  },
  {
   "cell_type": "code",
   "execution_count": 29,
   "id": "solved-farming",
   "metadata": {
    "execution": {
     "iopub.execute_input": "2021-09-21T00:20:56.463533Z",
     "iopub.status.busy": "2021-09-21T00:20:56.462999Z",
     "iopub.status.idle": "2021-09-21T00:20:56.464745Z",
     "shell.execute_reply": "2021-09-21T00:20:56.465122Z"
    },
    "papermill": {
     "duration": 0.034851,
     "end_time": "2021-09-21T00:20:56.465232",
     "exception": false,
     "start_time": "2021-09-21T00:20:56.430381",
     "status": "completed"
    },
    "tags": []
   },
   "outputs": [],
   "source": [
    "#hide\n",
    "# cols.insert(0, cols.pop())"
   ]
  },
  {
   "cell_type": "code",
   "execution_count": 30,
   "id": "executed-adoption",
   "metadata": {
    "execution": {
     "iopub.execute_input": "2021-09-21T00:20:56.529219Z",
     "iopub.status.busy": "2021-09-21T00:20:56.528714Z",
     "iopub.status.idle": "2021-09-21T00:20:56.530959Z",
     "shell.execute_reply": "2021-09-21T00:20:56.530562Z"
    },
    "papermill": {
     "duration": 0.035103,
     "end_time": "2021-09-21T00:20:56.531055",
     "exception": false,
     "start_time": "2021-09-21T00:20:56.495952",
     "status": "completed"
    },
    "tags": []
   },
   "outputs": [],
   "source": [
    "#hide\n",
    "# g = g[cols]"
   ]
  },
  {
   "cell_type": "code",
   "execution_count": 31,
   "id": "subject-dublin",
   "metadata": {
    "execution": {
     "iopub.execute_input": "2021-09-21T00:20:56.594551Z",
     "iopub.status.busy": "2021-09-21T00:20:56.594055Z",
     "iopub.status.idle": "2021-09-21T00:20:56.596277Z",
     "shell.execute_reply": "2021-09-21T00:20:56.595856Z"
    },
    "papermill": {
     "duration": 0.035084,
     "end_time": "2021-09-21T00:20:56.596370",
     "exception": false,
     "start_time": "2021-09-21T00:20:56.561286",
     "status": "completed"
    },
    "tags": []
   },
   "outputs": [],
   "source": [
    "#hide\n",
    "# g['continent'] = g['continent'].map(mapping['map.continent'])"
   ]
  },
  {
   "cell_type": "code",
   "execution_count": 32,
   "id": "freelance-scout",
   "metadata": {
    "execution": {
     "iopub.execute_input": "2021-09-21T00:20:56.659874Z",
     "iopub.status.busy": "2021-09-21T00:20:56.659344Z",
     "iopub.status.idle": "2021-09-21T00:20:56.661449Z",
     "shell.execute_reply": "2021-09-21T00:20:56.661050Z"
    },
    "papermill": {
     "duration": 0.034918,
     "end_time": "2021-09-21T00:20:56.661547",
     "exception": false,
     "start_time": "2021-09-21T00:20:56.626629",
     "status": "completed"
    },
    "tags": []
   },
   "outputs": [],
   "source": [
    "#hide\n",
    "# g.head()"
   ]
  },
  {
   "cell_type": "code",
   "execution_count": 33,
   "id": "limited-engine",
   "metadata": {
    "execution": {
     "iopub.execute_input": "2021-09-21T00:20:56.725093Z",
     "iopub.status.busy": "2021-09-21T00:20:56.724593Z",
     "iopub.status.idle": "2021-09-21T00:20:56.726416Z",
     "shell.execute_reply": "2021-09-21T00:20:56.726841Z"
    },
    "papermill": {
     "duration": 0.035219,
     "end_time": "2021-09-21T00:20:56.726947",
     "exception": false,
     "start_time": "2021-09-21T00:20:56.691728",
     "status": "completed"
    },
    "tags": []
   },
   "outputs": [],
   "source": [
    "# hide\n",
    "# g['date'] = g['date'].astype('datetime64[ns]')"
   ]
  },
  {
   "cell_type": "code",
   "execution_count": 34,
   "id": "sophisticated-supervisor",
   "metadata": {
    "execution": {
     "iopub.execute_input": "2021-09-21T00:20:56.790558Z",
     "iopub.status.busy": "2021-09-21T00:20:56.790058Z",
     "iopub.status.idle": "2021-09-21T00:20:56.791950Z",
     "shell.execute_reply": "2021-09-21T00:20:56.792328Z"
    },
    "papermill": {
     "duration": 0.035227,
     "end_time": "2021-09-21T00:20:56.792439",
     "exception": false,
     "start_time": "2021-09-21T00:20:56.757212",
     "status": "completed"
    },
    "tags": []
   },
   "outputs": [],
   "source": [
    "#hide\n",
    "# g['date'] = g.date.dt.dayofyear"
   ]
  },
  {
   "cell_type": "code",
   "execution_count": 35,
   "id": "inside-dubai",
   "metadata": {
    "execution": {
     "iopub.execute_input": "2021-09-21T00:20:56.855866Z",
     "iopub.status.busy": "2021-09-21T00:20:56.855340Z",
     "iopub.status.idle": "2021-09-21T00:20:56.857667Z",
     "shell.execute_reply": "2021-09-21T00:20:56.857270Z"
    },
    "papermill": {
     "duration": 0.035185,
     "end_time": "2021-09-21T00:20:56.857764",
     "exception": false,
     "start_time": "2021-09-21T00:20:56.822579",
     "status": "completed"
    },
    "tags": []
   },
   "outputs": [],
   "source": [
    "#hide\n",
    "# g = g.rename(columns= {'continent':'group','country':'name','cases':'value'})"
   ]
  },
  {
   "cell_type": "code",
   "execution_count": 36,
   "id": "fleet-motorcycle",
   "metadata": {
    "execution": {
     "iopub.execute_input": "2021-09-21T00:20:56.921115Z",
     "iopub.status.busy": "2021-09-21T00:20:56.920618Z",
     "iopub.status.idle": "2021-09-21T00:20:56.922855Z",
     "shell.execute_reply": "2021-09-21T00:20:56.922456Z"
    },
    "papermill": {
     "duration": 0.034968,
     "end_time": "2021-09-21T00:20:56.922951",
     "exception": false,
     "start_time": "2021-09-21T00:20:56.887983",
     "status": "completed"
    },
    "tags": []
   },
   "outputs": [],
   "source": [
    "#hide\n",
    "# cols = ['name','group','day','value']"
   ]
  },
  {
   "cell_type": "code",
   "execution_count": 37,
   "id": "continued-sleeping",
   "metadata": {
    "execution": {
     "iopub.execute_input": "2021-09-21T00:20:56.986394Z",
     "iopub.status.busy": "2021-09-21T00:20:56.985888Z",
     "iopub.status.idle": "2021-09-21T00:20:56.988169Z",
     "shell.execute_reply": "2021-09-21T00:20:56.987766Z"
    },
    "papermill": {
     "duration": 0.03513,
     "end_time": "2021-09-21T00:20:56.988268",
     "exception": false,
     "start_time": "2021-09-21T00:20:56.953138",
     "status": "completed"
    },
    "tags": []
   },
   "outputs": [],
   "source": [
    "#hide\n",
    "# g.rename(columns= {'date':'day'},inplace = True)"
   ]
  },
  {
   "cell_type": "code",
   "execution_count": 38,
   "id": "major-fight",
   "metadata": {
    "execution": {
     "iopub.execute_input": "2021-09-21T00:20:57.051741Z",
     "iopub.status.busy": "2021-09-21T00:20:57.051197Z",
     "iopub.status.idle": "2021-09-21T00:20:57.053407Z",
     "shell.execute_reply": "2021-09-21T00:20:57.053007Z"
    },
    "papermill": {
     "duration": 0.034934,
     "end_time": "2021-09-21T00:20:57.053504",
     "exception": false,
     "start_time": "2021-09-21T00:20:57.018570",
     "status": "completed"
    },
    "tags": []
   },
   "outputs": [],
   "source": [
    "#hide\n",
    "# g = g[cols]"
   ]
  },
  {
   "cell_type": "code",
   "execution_count": 39,
   "id": "structured-mobile",
   "metadata": {
    "execution": {
     "iopub.execute_input": "2021-09-21T00:20:57.117025Z",
     "iopub.status.busy": "2021-09-21T00:20:57.116513Z",
     "iopub.status.idle": "2021-09-21T00:20:57.118702Z",
     "shell.execute_reply": "2021-09-21T00:20:57.118281Z"
    },
    "papermill": {
     "duration": 0.035143,
     "end_time": "2021-09-21T00:20:57.118798",
     "exception": false,
     "start_time": "2021-09-21T00:20:57.083655",
     "status": "completed"
    },
    "tags": []
   },
   "outputs": [],
   "source": [
    "# #hide\n",
    "# g = g[g.group.notna()]"
   ]
  },
  {
   "cell_type": "code",
   "execution_count": 40,
   "id": "determined-closing",
   "metadata": {
    "execution": {
     "iopub.execute_input": "2021-09-21T00:20:57.182426Z",
     "iopub.status.busy": "2021-09-21T00:20:57.181920Z",
     "iopub.status.idle": "2021-09-21T00:20:57.183801Z",
     "shell.execute_reply": "2021-09-21T00:20:57.184187Z"
    },
    "papermill": {
     "duration": 0.035145,
     "end_time": "2021-09-21T00:20:57.184299",
     "exception": false,
     "start_time": "2021-09-21T00:20:57.149154",
     "status": "completed"
    },
    "tags": []
   },
   "outputs": [],
   "source": [
    "# #hide\n",
    "# colors = dict(zip(\n",
    "#     [\"Oceania\", \"Europe\", \"Asia\", \"South America\", \"Middle East\", \"North America\", \"Africa\"],\n",
    "#     [\"#adb0ff\", \"#ffb3ff\", \"#90d595\", \"#e48381\", \"#aafbff\", \"#f7bb5f\", \"#eafb50\"]\n",
    "# ))\n",
    "# group_lk = g.set_index('name')['group'].to_dict()"
   ]
  },
  {
   "cell_type": "code",
   "execution_count": null,
   "id": "gross-drinking",
   "metadata": {
    "papermill": {
     "duration": 0.030269,
     "end_time": "2021-09-21T00:20:57.244666",
     "exception": false,
     "start_time": "2021-09-21T00:20:57.214397",
     "status": "completed"
    },
    "tags": []
   },
   "outputs": [],
   "source": []
  },
  {
   "cell_type": "code",
   "execution_count": 41,
   "id": "subject-macintosh",
   "metadata": {
    "execution": {
     "iopub.execute_input": "2021-09-21T00:20:57.308958Z",
     "iopub.status.busy": "2021-09-21T00:20:57.308430Z",
     "iopub.status.idle": "2021-09-21T00:20:57.310380Z",
     "shell.execute_reply": "2021-09-21T00:20:57.310758Z"
    },
    "papermill": {
     "duration": 0.035842,
     "end_time": "2021-09-21T00:20:57.310869",
     "exception": false,
     "start_time": "2021-09-21T00:20:57.275027",
     "status": "completed"
    },
    "tags": []
   },
   "outputs": [],
   "source": [
    "# #hide\n",
    "# fig, ax = plt.subplots(figsize=(15, 8))\n",
    "\n",
    "# def draw_barchart(current_day):\n",
    "#     dff = g[g['day'].eq(current_day)].sort_values(by='value', ascending=True).tail(10)\n",
    "#     ax.clear()\n",
    "#     ax.barh(dff['name'], dff['value'], color=[colors[group_lk[x]] for x in dff['name']])\n",
    "#     dx = dff['value'].max() / 200\n",
    "    \n",
    "#     for i, (value, name) in enumerate(zip(dff['value'], dff['name'])):\n",
    "#         ax.text(value-dx, i,     name,           size=14, weight=600, ha='right', va='bottom')\n",
    "#         ax.text(value-dx, i-.25, group_lk[name], size=10, color='#444444', ha='right', va='baseline')\n",
    "#         ax.text(value+dx, i,     f'{value:,.0f}',  size=14, ha='left',  va='center')\n",
    "#     ax.text(1, 0.4, current_day, transform=ax.transAxes, color='#777777', size=46, ha='right', weight=800)\n",
    "#     ax.text(0, 1.06, 'Population (thousands)', transform=ax.transAxes, size=12, color='#777777')\n",
    "#     ax.xaxis.set_major_formatter(ticker.StrMethodFormatter('{x:,.0f}'))\n",
    "#     ax.xaxis.set_ticks_position('top')\n",
    "#     ax.tick_params(axis='x', colors='#777777', labelsize=12)\n",
    "#     ax.set_yticks([])\n",
    "#     ax.margins(0, 0.01)\n",
    "#     ax.grid(which='major', axis='x', linestyle='-')\n",
    "#     ax.set_axisbelow(True)\n",
    "    \n",
    "#     ax.text(0, 1.15, 'Coronavirus',\n",
    "#             transform=ax.transAxes, size=24, weight=600, ha='left', va='top')\n",
    "# #     ax.text(1, 0, 'by @pratapvardhan; credit @jburnmurdoch', transform=ax.transAxes, color='#777777', ha='right',\n",
    "# #             bbox=dict(facecolor='white', alpha=0.8, edgecolor='white'))\n",
    "#     plt.box(False)"
   ]
  },
  {
   "cell_type": "code",
   "execution_count": 42,
   "id": "sexual-wages",
   "metadata": {
    "execution": {
     "iopub.execute_input": "2021-09-21T00:20:57.375285Z",
     "iopub.status.busy": "2021-09-21T00:20:57.374776Z",
     "iopub.status.idle": "2021-09-21T00:20:57.376560Z",
     "shell.execute_reply": "2021-09-21T00:20:57.377030Z"
    },
    "papermill": {
     "duration": 0.035353,
     "end_time": "2021-09-21T00:20:57.377144",
     "exception": false,
     "start_time": "2021-09-21T00:20:57.341791",
     "status": "completed"
    },
    "tags": []
   },
   "outputs": [],
   "source": [
    "# #hide_input\n",
    "# fig, ax = plt.subplots(figsize=(15, 8))\n",
    "# animator = animation.FuncAnimation(fig, draw_barchart, frames=range(g.day.values.min(), g.day.values.max()))\n",
    "# HTML(animator.to_jshtml())\n",
    "# # or use animator.to_html5_video() or animator.save() "
   ]
  },
  {
   "cell_type": "code",
   "execution_count": null,
   "id": "australian-container",
   "metadata": {
    "papermill": {
     "duration": 0.030217,
     "end_time": "2021-09-21T00:20:57.437709",
     "exception": false,
     "start_time": "2021-09-21T00:20:57.407492",
     "status": "completed"
    },
    "tags": []
   },
   "outputs": [],
   "source": []
  },
  {
   "cell_type": "code",
   "execution_count": null,
   "id": "mediterranean-pontiac",
   "metadata": {
    "papermill": {
     "duration": 0.030259,
     "end_time": "2021-09-21T00:20:57.498085",
     "exception": false,
     "start_time": "2021-09-21T00:20:57.467826",
     "status": "completed"
    },
    "tags": []
   },
   "outputs": [],
   "source": []
  },
  {
   "cell_type": "code",
   "execution_count": null,
   "id": "aging-legislature",
   "metadata": {
    "papermill": {
     "duration": 0.029922,
     "end_time": "2021-09-21T00:20:57.558172",
     "exception": false,
     "start_time": "2021-09-21T00:20:57.528250",
     "status": "completed"
    },
    "tags": []
   },
   "outputs": [],
   "source": []
  }
 ],
 "metadata": {
  "kernelspec": {
   "display_name": "Python 3",
   "language": "python",
   "name": "python3"
  },
  "language_info": {
   "codemirror_mode": {
    "name": "ipython",
    "version": 3
   },
   "file_extension": ".py",
   "mimetype": "text/x-python",
   "name": "python",
   "nbconvert_exporter": "python",
   "pygments_lexer": "ipython3",
   "version": "3.6.15"
  },
  "papermill": {
   "duration": 5.710691,
   "end_time": "2021-09-21T00:20:57.894875",
   "environment_variables": {},
   "exception": null,
   "input_path": "2020-03-21-covid19exp.ipynb",
   "output_path": "2020-03-21-covid19exp.ipynb",
   "parameters": {},
   "start_time": "2021-09-21T00:20:52.184184",
   "version": "2.0.0"
  }
 },
 "nbformat": 4,
 "nbformat_minor": 5
}