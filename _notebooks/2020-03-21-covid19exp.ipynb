{
 "cells": [
  {
   "cell_type": "markdown",
   "id": "muslim-click",
   "metadata": {
    "papermill": {
     "duration": 0.041866,
     "end_time": "2021-02-26T12:07:15.209247",
     "exception": false,
     "start_time": "2021-02-26T12:07:15.167381",
     "status": "completed"
    },
    "tags": []
   },
   "source": [
    "# COVID-19 Case Race\n",
    "> A race chart to see rising cases around the world\n",
    "\n",
    "- author: Hargun Oberoi\n",
    "- image: images/covid-overview.png\n",
    "- hide: false\n",
    "- badges: false"
   ]
  },
  {
   "cell_type": "code",
   "execution_count": 1,
   "id": "proof-material",
   "metadata": {
    "execution": {
     "iopub.execute_input": "2021-02-26T12:07:15.295263Z",
     "iopub.status.busy": "2021-02-26T12:07:15.294157Z",
     "iopub.status.idle": "2021-02-26T12:07:15.645556Z",
     "shell.execute_reply": "2021-02-26T12:07:15.648562Z"
    },
    "papermill": {
     "duration": 0.402025,
     "end_time": "2021-02-26T12:07:15.648844",
     "exception": false,
     "start_time": "2021-02-26T12:07:15.246819",
     "status": "completed"
    },
    "tags": []
   },
   "outputs": [],
   "source": [
    "#hide\n",
    "import numpy as np\n",
    "import pandas as pd\n",
    "from jinja2 import Template\n",
    "from IPython.display import HTML"
   ]
  },
  {
   "cell_type": "code",
   "execution_count": 2,
   "id": "developed-terminology",
   "metadata": {
    "execution": {
     "iopub.execute_input": "2021-02-26T12:07:15.724084Z",
     "iopub.status.busy": "2021-02-26T12:07:15.723484Z",
     "iopub.status.idle": "2021-02-26T12:07:15.725234Z",
     "shell.execute_reply": "2021-02-26T12:07:15.725732Z"
    },
    "papermill": {
     "duration": 0.041916,
     "end_time": "2021-02-26T12:07:15.725868",
     "exception": false,
     "start_time": "2021-02-26T12:07:15.683952",
     "status": "completed"
    },
    "tags": []
   },
   "outputs": [],
   "source": [
    "#hide\n",
    "\n",
    "# FETCH\n",
    "base_url = 'https://raw.githubusercontent.com/pratapvardhan/notebooks/master/covid19/'\n",
    "paths = {\n",
    "    'mapping': base_url + 'mapping_countries.csv',\n",
    "    'overview': base_url + 'overview.tpl'\n",
    "}"
   ]
  },
  {
   "cell_type": "code",
   "execution_count": 3,
   "id": "dynamic-saver",
   "metadata": {
    "execution": {
     "iopub.execute_input": "2021-02-26T12:07:15.809167Z",
     "iopub.status.busy": "2021-02-26T12:07:15.808577Z",
     "iopub.status.idle": "2021-02-26T12:07:15.811620Z",
     "shell.execute_reply": "2021-02-26T12:07:15.811039Z"
    },
    "papermill": {
     "duration": 0.050936,
     "end_time": "2021-02-26T12:07:15.811743",
     "exception": false,
     "start_time": "2021-02-26T12:07:15.760807",
     "status": "completed"
    },
    "tags": []
   },
   "outputs": [
    {
     "data": {
      "text/plain": [
       "'https://raw.githubusercontent.com/pratapvardhan/notebooks/master/covid19/mapping_countries.csv'"
      ]
     },
     "execution_count": 3,
     "metadata": {},
     "output_type": "execute_result"
    }
   ],
   "source": [
    "#hide\n",
    "paths['mapping']"
   ]
  },
  {
   "cell_type": "code",
   "execution_count": 4,
   "id": "urban-software",
   "metadata": {
    "execution": {
     "iopub.execute_input": "2021-02-26T12:07:15.887662Z",
     "iopub.status.busy": "2021-02-26T12:07:15.887062Z",
     "iopub.status.idle": "2021-02-26T12:07:15.888846Z",
     "shell.execute_reply": "2021-02-26T12:07:15.889339Z"
    },
    "papermill": {
     "duration": 0.043658,
     "end_time": "2021-02-26T12:07:15.889480",
     "exception": false,
     "start_time": "2021-02-26T12:07:15.845822",
     "status": "completed"
    },
    "tags": []
   },
   "outputs": [],
   "source": [
    "#hide\n",
    "def get_mappings(url):\n",
    "    df = pd.read_csv(url)\n",
    "    return {\n",
    "        'df': df,\n",
    "        'replace.country': dict(df.dropna(subset=['Name']).set_index('Country')['Name']),\n",
    "        'map.continent': dict(df.set_index('Name')['Continent'])\n",
    "    }"
   ]
  },
  {
   "cell_type": "code",
   "execution_count": 5,
   "id": "intimate-machinery",
   "metadata": {
    "execution": {
     "iopub.execute_input": "2021-02-26T12:07:15.963181Z",
     "iopub.status.busy": "2021-02-26T12:07:15.962585Z",
     "iopub.status.idle": "2021-02-26T12:07:15.994016Z",
     "shell.execute_reply": "2021-02-26T12:07:15.992936Z"
    },
    "papermill": {
     "duration": 0.070833,
     "end_time": "2021-02-26T12:07:15.994150",
     "exception": false,
     "start_time": "2021-02-26T12:07:15.923317",
     "status": "completed"
    },
    "tags": []
   },
   "outputs": [],
   "source": [
    "#hide\n",
    "mapping = get_mappings(paths['mapping'])"
   ]
  },
  {
   "cell_type": "code",
   "execution_count": 6,
   "id": "certified-tactics",
   "metadata": {
    "execution": {
     "iopub.execute_input": "2021-02-26T12:07:16.069974Z",
     "iopub.status.busy": "2021-02-26T12:07:16.069380Z",
     "iopub.status.idle": "2021-02-26T12:07:16.071662Z",
     "shell.execute_reply": "2021-02-26T12:07:16.071145Z"
    },
    "papermill": {
     "duration": 0.043575,
     "end_time": "2021-02-26T12:07:16.071786",
     "exception": false,
     "start_time": "2021-02-26T12:07:16.028211",
     "status": "completed"
    },
    "tags": []
   },
   "outputs": [],
   "source": [
    "#hide\n",
    "def get_template(path):\n",
    "    from urllib.parse import urlparse\n",
    "    if bool(urlparse(path).netloc):\n",
    "        from urllib.request import urlopen\n",
    "        return urlopen(path).read().decode('utf8')\n",
    "    return open(path).read()"
   ]
  },
  {
   "cell_type": "code",
   "execution_count": 7,
   "id": "realistic-blast",
   "metadata": {
    "execution": {
     "iopub.execute_input": "2021-02-26T12:07:16.147794Z",
     "iopub.status.busy": "2021-02-26T12:07:16.147201Z",
     "iopub.status.idle": "2021-02-26T12:07:16.150389Z",
     "shell.execute_reply": "2021-02-26T12:07:16.149886Z"
    },
    "papermill": {
     "duration": 0.043599,
     "end_time": "2021-02-26T12:07:16.150520",
     "exception": false,
     "start_time": "2021-02-26T12:07:16.106921",
     "status": "completed"
    },
    "tags": []
   },
   "outputs": [],
   "source": [
    "#hide\n",
    "def get_frame(name):\n",
    "    url = (\n",
    "        'https://raw.githubusercontent.com/CSSEGISandData/COVID-19/master/csse_covid_19_data/'\n",
    "        f'csse_covid_19_time_series/time_series_covid19_{name}_global.csv')\n",
    "    df = pd.read_csv(url)\n",
    "    # rename countries\n",
    "    df['Country/Region'] = df['Country/Region'].replace(mapping['replace.country'])\n",
    "    return df"
   ]
  },
  {
   "cell_type": "code",
   "execution_count": 8,
   "id": "affiliated-characterization",
   "metadata": {
    "execution": {
     "iopub.execute_input": "2021-02-26T12:07:16.225285Z",
     "iopub.status.busy": "2021-02-26T12:07:16.224672Z",
     "iopub.status.idle": "2021-02-26T12:07:16.229462Z",
     "shell.execute_reply": "2021-02-26T12:07:16.228958Z"
    },
    "papermill": {
     "duration": 0.044232,
     "end_time": "2021-02-26T12:07:16.229585",
     "exception": false,
     "start_time": "2021-02-26T12:07:16.185353",
     "status": "completed"
    },
    "tags": []
   },
   "outputs": [],
   "source": [
    "#hide\n",
    "def get_dates(df):\n",
    "    dt_cols = df.columns[~df.columns.isin(['Province/State', 'Country/Region', 'Lat', 'Long'])]\n",
    "    LAST_DATE_I = -1\n",
    "    # sometimes last column may be empty, then go backwards\n",
    "    for i in range(-1, -len(dt_cols), -1):\n",
    "        if not df[dt_cols[i]].fillna(0).eq(0).all():\n",
    "            LAST_DATE_I = i\n",
    "            break\n",
    "    return LAST_DATE_I, dt_cols"
   ]
  },
  {
   "cell_type": "code",
   "execution_count": 9,
   "id": "recent-optimization",
   "metadata": {
    "execution": {
     "iopub.execute_input": "2021-02-26T12:07:16.309142Z",
     "iopub.status.busy": "2021-02-26T12:07:16.308496Z",
     "iopub.status.idle": "2021-02-26T12:07:16.557291Z",
     "shell.execute_reply": "2021-02-26T12:07:16.558103Z"
    },
    "papermill": {
     "duration": 0.294928,
     "end_time": "2021-02-26T12:07:16.558388",
     "exception": false,
     "start_time": "2021-02-26T12:07:16.263460",
     "status": "completed"
    },
    "tags": []
   },
   "outputs": [],
   "source": [
    "#hide\n",
    "COL_REGION = 'Country/Region'\n",
    "# Confirmed, Recovered, Deaths\n",
    "df = get_frame('confirmed')\n",
    "# dft_: timeseries, dfc_: today country agg\n",
    "dft_cases = df\n",
    "dft_deaths = get_frame('deaths')\n",
    "dft_recovered = get_frame('recovered')\n",
    "LAST_DATE_I, dt_cols = get_dates(df)"
   ]
  },
  {
   "cell_type": "code",
   "execution_count": 10,
   "id": "absolute-copper",
   "metadata": {
    "execution": {
     "iopub.execute_input": "2021-02-26T12:07:16.639316Z",
     "iopub.status.busy": "2021-02-26T12:07:16.638694Z",
     "iopub.status.idle": "2021-02-26T12:07:16.640831Z",
     "shell.execute_reply": "2021-02-26T12:07:16.640249Z"
    },
    "papermill": {
     "duration": 0.045042,
     "end_time": "2021-02-26T12:07:16.640953",
     "exception": false,
     "start_time": "2021-02-26T12:07:16.595911",
     "status": "completed"
    },
    "tags": []
   },
   "outputs": [],
   "source": [
    "#hide\n",
    "LAST_DATE_I, dt_cols = get_dates(df)\n",
    "dt_today =dt_cols[LAST_DATE_I]\n",
    "# dt_5day = dt_cols[LAST_DATE_I - 5]\n",
    "dt_yday = dt_cols[LAST_DATE_I - 1]"
   ]
  },
  {
   "cell_type": "code",
   "execution_count": 11,
   "id": "restricted-sheriff",
   "metadata": {
    "execution": {
     "iopub.execute_input": "2021-02-26T12:07:16.717256Z",
     "iopub.status.busy": "2021-02-26T12:07:16.716676Z",
     "iopub.status.idle": "2021-02-26T12:07:16.722426Z",
     "shell.execute_reply": "2021-02-26T12:07:16.722889Z"
    },
    "papermill": {
     "duration": 0.047741,
     "end_time": "2021-02-26T12:07:16.723036",
     "exception": false,
     "start_time": "2021-02-26T12:07:16.675295",
     "status": "completed"
    },
    "tags": []
   },
   "outputs": [],
   "source": [
    "#hide\n",
    "dfc_cases = dft_cases.groupby(COL_REGION)[dt_today].sum()\n",
    "dfc_deaths = dft_deaths.groupby(COL_REGION)[dt_today].sum()\n",
    "# dfp_cases = dft_cases.groupby(COL_REGION)[dt_5day].sum()\n",
    "# dfp_deaths = dft_deaths.groupby(COL_REGION)[dt_5day].sum()\n",
    "dfp_cases = dft_cases.groupby(COL_REGION)[dt_yday].sum()\n",
    "dfp_deaths = dft_deaths.groupby(COL_REGION)[dt_yday].sum()"
   ]
  },
  {
   "cell_type": "code",
   "execution_count": 12,
   "id": "deluxe-hepatitis",
   "metadata": {
    "execution": {
     "iopub.execute_input": "2021-02-26T12:07:16.797281Z",
     "iopub.status.busy": "2021-02-26T12:07:16.796686Z",
     "iopub.status.idle": "2021-02-26T12:07:16.801035Z",
     "shell.execute_reply": "2021-02-26T12:07:16.800532Z"
    },
    "papermill": {
     "duration": 0.044178,
     "end_time": "2021-02-26T12:07:16.801155",
     "exception": false,
     "start_time": "2021-02-26T12:07:16.756977",
     "status": "completed"
    },
    "tags": []
   },
   "outputs": [],
   "source": [
    "#hide\n",
    "df_table = (pd.DataFrame(dict(Cases = dfc_cases, Deaths = dfc_deaths, PCases = dfp_cases, PDeaths = dfp_deaths))\n",
    "            .sort_values(by = ['Cases','Deaths'], ascending = [False, False])\n",
    "            .reset_index())"
   ]
  },
  {
   "cell_type": "code",
   "execution_count": 13,
   "id": "educational-chancellor",
   "metadata": {
    "execution": {
     "iopub.execute_input": "2021-02-26T12:07:16.887268Z",
     "iopub.status.busy": "2021-02-26T12:07:16.886659Z",
     "iopub.status.idle": "2021-02-26T12:07:16.893881Z",
     "shell.execute_reply": "2021-02-26T12:07:16.894398Z"
    },
    "papermill": {
     "duration": 0.05983,
     "end_time": "2021-02-26T12:07:16.894545",
     "exception": false,
     "start_time": "2021-02-26T12:07:16.834715",
     "status": "completed"
    },
    "tags": []
   },
   "outputs": [
    {
     "data": {
      "text/html": [
       "<div>\n",
       "<style scoped>\n",
       "    .dataframe tbody tr th:only-of-type {\n",
       "        vertical-align: middle;\n",
       "    }\n",
       "\n",
       "    .dataframe tbody tr th {\n",
       "        vertical-align: top;\n",
       "    }\n",
       "\n",
       "    .dataframe thead th {\n",
       "        text-align: right;\n",
       "    }\n",
       "</style>\n",
       "<table border=\"1\" class=\"dataframe\">\n",
       "  <thead>\n",
       "    <tr style=\"text-align: right;\">\n",
       "      <th></th>\n",
       "      <th>Country/Region</th>\n",
       "      <th>Cases</th>\n",
       "      <th>Deaths</th>\n",
       "      <th>PCases</th>\n",
       "      <th>PDeaths</th>\n",
       "      <th>Cases (+)</th>\n",
       "      <th>Deaths (+)</th>\n",
       "      <th>Fatality Rate</th>\n",
       "      <th>Continent</th>\n",
       "    </tr>\n",
       "  </thead>\n",
       "  <tbody>\n",
       "    <tr>\n",
       "      <th>0</th>\n",
       "      <td>US</td>\n",
       "      <td>28413388</td>\n",
       "      <td>508307</td>\n",
       "      <td>28336097</td>\n",
       "      <td>505890</td>\n",
       "      <td>77291</td>\n",
       "      <td>2417</td>\n",
       "      <td>1.79</td>\n",
       "      <td>North America</td>\n",
       "    </tr>\n",
       "    <tr>\n",
       "      <th>1</th>\n",
       "      <td>India</td>\n",
       "      <td>11063491</td>\n",
       "      <td>156825</td>\n",
       "      <td>11046914</td>\n",
       "      <td>156705</td>\n",
       "      <td>16577</td>\n",
       "      <td>120</td>\n",
       "      <td>1.42</td>\n",
       "      <td>Asia</td>\n",
       "    </tr>\n",
       "    <tr>\n",
       "      <th>2</th>\n",
       "      <td>Brazil</td>\n",
       "      <td>10390461</td>\n",
       "      <td>251498</td>\n",
       "      <td>10324463</td>\n",
       "      <td>249957</td>\n",
       "      <td>65998</td>\n",
       "      <td>1541</td>\n",
       "      <td>2.42</td>\n",
       "      <td>South America</td>\n",
       "    </tr>\n",
       "    <tr>\n",
       "      <th>3</th>\n",
       "      <td>United Kingdom</td>\n",
       "      <td>4166727</td>\n",
       "      <td>122303</td>\n",
       "      <td>4156707</td>\n",
       "      <td>121979</td>\n",
       "      <td>10020</td>\n",
       "      <td>324</td>\n",
       "      <td>2.94</td>\n",
       "      <td>Europe</td>\n",
       "    </tr>\n",
       "    <tr>\n",
       "      <th>4</th>\n",
       "      <td>Russia</td>\n",
       "      <td>4164802</td>\n",
       "      <td>83481</td>\n",
       "      <td>4153735</td>\n",
       "      <td>83044</td>\n",
       "      <td>11067</td>\n",
       "      <td>437</td>\n",
       "      <td>2.00</td>\n",
       "      <td>Europe</td>\n",
       "    </tr>\n",
       "  </tbody>\n",
       "</table>\n",
       "</div>"
      ],
      "text/plain": [
       "   Country/Region     Cases  Deaths    PCases  PDeaths  Cases (+)  Deaths (+)  \\\n",
       "0              US  28413388  508307  28336097   505890      77291        2417   \n",
       "1           India  11063491  156825  11046914   156705      16577         120   \n",
       "2          Brazil  10390461  251498  10324463   249957      65998        1541   \n",
       "3  United Kingdom   4166727  122303   4156707   121979      10020         324   \n",
       "4          Russia   4164802   83481   4153735    83044      11067         437   \n",
       "\n",
       "   Fatality Rate      Continent  \n",
       "0           1.79  North America  \n",
       "1           1.42           Asia  \n",
       "2           2.42  South America  \n",
       "3           2.94         Europe  \n",
       "4           2.00         Europe  "
      ]
     },
     "execution_count": 13,
     "metadata": {},
     "output_type": "execute_result"
    }
   ],
   "source": [
    "#hide\n",
    "for c in 'Cases, Deaths'.split(', '):\n",
    "    df_table[f'{c} (+)'] = (df_table[c] - df_table[f'P{c}']).clip(0)\n",
    "    #Clip ça veut dire, les chiffres negatif sont interdit\n",
    "df_table['Fatality Rate'] = (100* df_table['Deaths']/ df_table['Cases']).round(2)\n",
    "df_table['Continent'] = df_table['Country/Region'].map(mapping['map.continent'])\n",
    "df_table.head(5)"
   ]
  },
  {
   "cell_type": "code",
   "execution_count": 14,
   "id": "aboriginal-bulgaria",
   "metadata": {
    "execution": {
     "iopub.execute_input": "2021-02-26T12:07:16.968705Z",
     "iopub.status.busy": "2021-02-26T12:07:16.968093Z",
     "iopub.status.idle": "2021-02-26T12:07:16.969980Z",
     "shell.execute_reply": "2021-02-26T12:07:16.970441Z"
    },
    "papermill": {
     "duration": 0.041869,
     "end_time": "2021-02-26T12:07:16.970593",
     "exception": false,
     "start_time": "2021-02-26T12:07:16.928724",
     "status": "completed"
    },
    "tags": []
   },
   "outputs": [],
   "source": [
    "#hide\n",
    "#delete problematic countries from table\n",
    "df_table = df_table[~df_table['Country/Region'].isin(['Cape Verde', 'Cruise Ship', 'Kosovo'])]"
   ]
  },
  {
   "cell_type": "code",
   "execution_count": 15,
   "id": "fantastic-effect",
   "metadata": {
    "execution": {
     "iopub.execute_input": "2021-02-26T12:07:17.049889Z",
     "iopub.status.busy": "2021-02-26T12:07:17.049258Z",
     "iopub.status.idle": "2021-02-26T12:07:17.076417Z",
     "shell.execute_reply": "2021-02-26T12:07:17.075515Z"
    },
    "papermill": {
     "duration": 0.071041,
     "end_time": "2021-02-26T12:07:17.076657",
     "exception": false,
     "start_time": "2021-02-26T12:07:17.005616",
     "status": "completed"
    },
    "tags": []
   },
   "outputs": [
    {
     "data": {
      "text/html": [
       "<div>\n",
       "<style scoped>\n",
       "    .dataframe tbody tr th:only-of-type {\n",
       "        vertical-align: middle;\n",
       "    }\n",
       "\n",
       "    .dataframe tbody tr th {\n",
       "        vertical-align: top;\n",
       "    }\n",
       "\n",
       "    .dataframe thead th {\n",
       "        text-align: right;\n",
       "    }\n",
       "</style>\n",
       "<table border=\"1\" class=\"dataframe\">\n",
       "  <thead>\n",
       "    <tr style=\"text-align: right;\">\n",
       "      <th></th>\n",
       "      <th>Country/Region</th>\n",
       "      <th>Cases</th>\n",
       "      <th>Deaths</th>\n",
       "      <th>PCases</th>\n",
       "      <th>PDeaths</th>\n",
       "      <th>Cases (+)</th>\n",
       "      <th>Deaths (+)</th>\n",
       "      <th>Fatality Rate</th>\n",
       "      <th>Continent</th>\n",
       "    </tr>\n",
       "  </thead>\n",
       "  <tbody>\n",
       "    <tr>\n",
       "      <th>0</th>\n",
       "      <td>US</td>\n",
       "      <td>28413388</td>\n",
       "      <td>508307</td>\n",
       "      <td>28336097</td>\n",
       "      <td>505890</td>\n",
       "      <td>77291</td>\n",
       "      <td>2417</td>\n",
       "      <td>1.8</td>\n",
       "      <td>North America</td>\n",
       "    </tr>\n",
       "    <tr>\n",
       "      <th>1</th>\n",
       "      <td>India</td>\n",
       "      <td>11063491</td>\n",
       "      <td>156825</td>\n",
       "      <td>11046914</td>\n",
       "      <td>156705</td>\n",
       "      <td>16577</td>\n",
       "      <td>120</td>\n",
       "      <td>1.4</td>\n",
       "      <td>Asia</td>\n",
       "    </tr>\n",
       "    <tr>\n",
       "      <th>2</th>\n",
       "      <td>Brazil</td>\n",
       "      <td>10390461</td>\n",
       "      <td>251498</td>\n",
       "      <td>10324463</td>\n",
       "      <td>249957</td>\n",
       "      <td>65998</td>\n",
       "      <td>1541</td>\n",
       "      <td>2.4</td>\n",
       "      <td>South America</td>\n",
       "    </tr>\n",
       "    <tr>\n",
       "      <th>3</th>\n",
       "      <td>United Kingdom</td>\n",
       "      <td>4166727</td>\n",
       "      <td>122303</td>\n",
       "      <td>4156707</td>\n",
       "      <td>121979</td>\n",
       "      <td>10020</td>\n",
       "      <td>324</td>\n",
       "      <td>2.9</td>\n",
       "      <td>Europe</td>\n",
       "    </tr>\n",
       "    <tr>\n",
       "      <th>4</th>\n",
       "      <td>Russia</td>\n",
       "      <td>4164802</td>\n",
       "      <td>83481</td>\n",
       "      <td>4153735</td>\n",
       "      <td>83044</td>\n",
       "      <td>11067</td>\n",
       "      <td>437</td>\n",
       "      <td>2.0</td>\n",
       "      <td>Europe</td>\n",
       "    </tr>\n",
       "  </tbody>\n",
       "</table>\n",
       "</div>"
      ],
      "text/plain": [
       "   Country/Region     Cases  Deaths    PCases  PDeaths  Cases (+)  Deaths (+)  \\\n",
       "0              US  28413388  508307  28336097   505890      77291        2417   \n",
       "1           India  11063491  156825  11046914   156705      16577         120   \n",
       "2          Brazil  10390461  251498  10324463   249957      65998        1541   \n",
       "3  United Kingdom   4166727  122303   4156707   121979      10020         324   \n",
       "4          Russia   4164802   83481   4153735    83044      11067         437   \n",
       "\n",
       "   Fatality Rate      Continent  \n",
       "0            1.8  North America  \n",
       "1            1.4           Asia  \n",
       "2            2.4  South America  \n",
       "3            2.9         Europe  \n",
       "4            2.0         Europe  "
      ]
     },
     "execution_count": 15,
     "metadata": {},
     "output_type": "execute_result"
    }
   ],
   "source": [
    "#hide\n",
    "df_table = (pd.DataFrame(dict(Cases=dfc_cases, Deaths=dfc_deaths, PCases=dfp_cases, PDeaths=dfp_deaths))\n",
    "             .sort_values(by=['Cases', 'Deaths'], ascending=[False, False])\n",
    "             .reset_index())\n",
    "df_table.rename(columns={'index': 'Country/Region'}, inplace=True)\n",
    "for c in 'Cases, Deaths'.split(', '):\n",
    "    df_table[f'{c} (+)'] = (df_table[c] - df_table[f'P{c}']).clip(0)  # DATA BUG\n",
    "df_table['Fatality Rate'] = (100 * df_table['Deaths'] / df_table['Cases']).round(1)\n",
    "df_table['Continent'] = df_table['Country/Region'].map(mapping['map.continent'])\n",
    "df_table.head(5)"
   ]
  },
  {
   "cell_type": "code",
   "execution_count": 16,
   "id": "fewer-occasion",
   "metadata": {
    "execution": {
     "iopub.execute_input": "2021-02-26T12:07:17.156286Z",
     "iopub.status.busy": "2021-02-26T12:07:17.155691Z",
     "iopub.status.idle": "2021-02-26T12:07:17.157542Z",
     "shell.execute_reply": "2021-02-26T12:07:17.157985Z"
    },
    "papermill": {
     "duration": 0.043943,
     "end_time": "2021-02-26T12:07:17.158129",
     "exception": false,
     "start_time": "2021-02-26T12:07:17.114186",
     "status": "completed"
    },
    "tags": []
   },
   "outputs": [],
   "source": [
    "#hide\n",
    "#delete problematic countries from table\n",
    "df_table = df_table[~df_table['Country/Region'].isin(['Cape Verde', 'Cruise Ship', 'Kosovo'])]"
   ]
  },
  {
   "cell_type": "code",
   "execution_count": 17,
   "id": "related-center",
   "metadata": {
    "execution": {
     "iopub.execute_input": "2021-02-26T12:07:17.249921Z",
     "iopub.status.busy": "2021-02-26T12:07:17.249326Z",
     "iopub.status.idle": "2021-02-26T12:07:17.251521Z",
     "shell.execute_reply": "2021-02-26T12:07:17.250943Z"
    },
    "papermill": {
     "duration": 0.057771,
     "end_time": "2021-02-26T12:07:17.251643",
     "exception": false,
     "start_time": "2021-02-26T12:07:17.193872",
     "status": "completed"
    },
    "tags": []
   },
   "outputs": [],
   "source": [
    "#hide\n",
    "metrics = [df_table.columns[index] for index in [1,2,5,6]]\n",
    "# s_china = df_table[df_table['Country/Region'].eq('China')][metrics].sum().add_prefix('China ')\n",
    "s_us = df_table[df_table['Country/Region'].eq('US')][metrics].sum().add_prefix('US ')\n",
    "s_eu = df_table[df_table['Continent'].eq('Europe')][metrics].sum().add_prefix('EU ')\n",
    "s_ind = df_table[df_table['Country/Region'].eq('India')][metrics].sum().add_prefix('India ')\n",
    "summary = {'updated': pd.to_datetime(dt_today), 'since': pd.to_datetime(dt_yday)}\n",
    "summary = {'updated': pd.to_datetime(dt_today), 'since': pd.to_datetime(dt_yday)}\n",
    "summary = {**summary, **df_table[metrics].sum(), **s_ind, **s_us, **s_eu}"
   ]
  },
  {
   "cell_type": "code",
   "execution_count": 18,
   "id": "engaging-syndrome",
   "metadata": {
    "execution": {
     "iopub.execute_input": "2021-02-26T12:07:17.328656Z",
     "iopub.status.busy": "2021-02-26T12:07:17.328067Z",
     "iopub.status.idle": "2021-02-26T12:07:17.339801Z",
     "shell.execute_reply": "2021-02-26T12:07:17.339287Z"
    },
    "papermill": {
     "duration": 0.052162,
     "end_time": "2021-02-26T12:07:17.339923",
     "exception": false,
     "start_time": "2021-02-26T12:07:17.287761",
     "status": "completed"
    },
    "tags": []
   },
   "outputs": [],
   "source": [
    "#hide\n",
    "dft_ct_new_cases = dft_cases.groupby(COL_REGION)[dt_cols].sum().diff(axis=1).fillna(0).astype(int)"
   ]
  },
  {
   "cell_type": "code",
   "execution_count": 19,
   "id": "neutral-assignment",
   "metadata": {
    "execution": {
     "iopub.execute_input": "2021-02-26T12:07:17.421932Z",
     "iopub.status.busy": "2021-02-26T12:07:17.421347Z",
     "iopub.status.idle": "2021-02-26T12:07:17.423495Z",
     "shell.execute_reply": "2021-02-26T12:07:17.423937Z"
    },
    "papermill": {
     "duration": 0.049064,
     "end_time": "2021-02-26T12:07:17.424081",
     "exception": false,
     "start_time": "2021-02-26T12:07:17.375017",
     "status": "completed"
    },
    "tags": []
   },
   "outputs": [],
   "source": [
    "#hide\n",
    "everydaycases = dft_ct_new_cases.cumsum(axis=1)"
   ]
  },
  {
   "cell_type": "code",
   "execution_count": 20,
   "id": "parliamentary-calgary",
   "metadata": {
    "execution": {
     "iopub.execute_input": "2021-02-26T12:07:17.500520Z",
     "iopub.status.busy": "2021-02-26T12:07:17.499933Z",
     "iopub.status.idle": "2021-02-26T12:07:19.535723Z",
     "shell.execute_reply": "2021-02-26T12:07:19.536296Z"
    },
    "papermill": {
     "duration": 2.076456,
     "end_time": "2021-02-26T12:07:19.536477",
     "exception": false,
     "start_time": "2021-02-26T12:07:17.460021",
     "status": "completed"
    },
    "tags": []
   },
   "outputs": [],
   "source": [
    "#hide\n",
    "import pandas as pd\n",
    "import matplotlib.pyplot as plt\n",
    "import matplotlib.ticker as ticker\n",
    "import matplotlib.animation as animation\n",
    "from IPython.display import HTML"
   ]
  },
  {
   "cell_type": "code",
   "execution_count": 21,
   "id": "lasting-extraction",
   "metadata": {
    "execution": {
     "iopub.execute_input": "2021-02-26T12:07:19.616199Z",
     "iopub.status.busy": "2021-02-26T12:07:19.614222Z",
     "iopub.status.idle": "2021-02-26T12:07:19.623116Z",
     "shell.execute_reply": "2021-02-26T12:07:19.622636Z"
    },
    "papermill": {
     "duration": 0.050199,
     "end_time": "2021-02-26T12:07:19.623240",
     "exception": false,
     "start_time": "2021-02-26T12:07:19.573041",
     "status": "completed"
    },
    "tags": []
   },
   "outputs": [],
   "source": [
    "#hide\n",
    "t = everydaycases.stack()"
   ]
  },
  {
   "cell_type": "code",
   "execution_count": 22,
   "id": "premier-sleeve",
   "metadata": {
    "execution": {
     "iopub.execute_input": "2021-02-26T12:07:19.701284Z",
     "iopub.status.busy": "2021-02-26T12:07:19.700698Z",
     "iopub.status.idle": "2021-02-26T12:07:19.709649Z",
     "shell.execute_reply": "2021-02-26T12:07:19.708655Z"
    },
    "papermill": {
     "duration": 0.049129,
     "end_time": "2021-02-26T12:07:19.709771",
     "exception": false,
     "start_time": "2021-02-26T12:07:19.660642",
     "status": "completed"
    },
    "tags": []
   },
   "outputs": [],
   "source": [
    "#hide\n",
    "g = t.reset_index(['Country/Region'])"
   ]
  },
  {
   "cell_type": "code",
   "execution_count": 23,
   "id": "distributed-pittsburgh",
   "metadata": {
    "execution": {
     "iopub.execute_input": "2021-02-26T12:07:19.784387Z",
     "iopub.status.busy": "2021-02-26T12:07:19.783385Z",
     "iopub.status.idle": "2021-02-26T12:07:19.785679Z",
     "shell.execute_reply": "2021-02-26T12:07:19.786635Z"
    },
    "papermill": {
     "duration": 0.042627,
     "end_time": "2021-02-26T12:07:19.786865",
     "exception": false,
     "start_time": "2021-02-26T12:07:19.744238",
     "status": "completed"
    },
    "tags": []
   },
   "outputs": [],
   "source": [
    "#hide\n",
    "g.index.name = 'date'"
   ]
  },
  {
   "cell_type": "code",
   "execution_count": 24,
   "id": "naked-donor",
   "metadata": {
    "execution": {
     "iopub.execute_input": "2021-02-26T12:07:19.861310Z",
     "iopub.status.busy": "2021-02-26T12:07:19.860734Z",
     "iopub.status.idle": "2021-02-26T12:07:19.863410Z",
     "shell.execute_reply": "2021-02-26T12:07:19.863966Z"
    },
    "papermill": {
     "duration": 0.040849,
     "end_time": "2021-02-26T12:07:19.864101",
     "exception": false,
     "start_time": "2021-02-26T12:07:19.823252",
     "status": "completed"
    },
    "tags": []
   },
   "outputs": [],
   "source": [
    "# #hide\n",
    "# g = g.reset_index(['date'])"
   ]
  },
  {
   "cell_type": "code",
   "execution_count": 25,
   "id": "incomplete-mustang",
   "metadata": {
    "execution": {
     "iopub.execute_input": "2021-02-26T12:07:19.937963Z",
     "iopub.status.busy": "2021-02-26T12:07:19.937335Z",
     "iopub.status.idle": "2021-02-26T12:07:19.939837Z",
     "shell.execute_reply": "2021-02-26T12:07:19.940275Z"
    },
    "papermill": {
     "duration": 0.041905,
     "end_time": "2021-02-26T12:07:19.940413",
     "exception": false,
     "start_time": "2021-02-26T12:07:19.898508",
     "status": "completed"
    },
    "tags": []
   },
   "outputs": [],
   "source": [
    "#hide\n",
    "# g.head()"
   ]
  },
  {
   "cell_type": "code",
   "execution_count": 26,
   "id": "specific-kruger",
   "metadata": {
    "execution": {
     "iopub.execute_input": "2021-02-26T12:07:20.014787Z",
     "iopub.status.busy": "2021-02-26T12:07:20.014167Z",
     "iopub.status.idle": "2021-02-26T12:07:20.016578Z",
     "shell.execute_reply": "2021-02-26T12:07:20.017042Z"
    },
    "papermill": {
     "duration": 0.040966,
     "end_time": "2021-02-26T12:07:20.017174",
     "exception": false,
     "start_time": "2021-02-26T12:07:19.976208",
     "status": "completed"
    },
    "tags": []
   },
   "outputs": [],
   "source": [
    "#hide\n",
    "# g.columns = ['date','country','cases']"
   ]
  },
  {
   "cell_type": "code",
   "execution_count": 27,
   "id": "tender-conversion",
   "metadata": {
    "execution": {
     "iopub.execute_input": "2021-02-26T12:07:20.092641Z",
     "iopub.status.busy": "2021-02-26T12:07:20.092061Z",
     "iopub.status.idle": "2021-02-26T12:07:20.093315Z",
     "shell.execute_reply": "2021-02-26T12:07:20.093862Z"
    },
    "papermill": {
     "duration": 0.040796,
     "end_time": "2021-02-26T12:07:20.093993",
     "exception": false,
     "start_time": "2021-02-26T12:07:20.053197",
     "status": "completed"
    },
    "tags": []
   },
   "outputs": [],
   "source": [
    "#hide\n",
    "# g['continent'] = g.country"
   ]
  },
  {
   "cell_type": "code",
   "execution_count": 28,
   "id": "substantial-wilderness",
   "metadata": {
    "execution": {
     "iopub.execute_input": "2021-02-26T12:07:20.169688Z",
     "iopub.status.busy": "2021-02-26T12:07:20.169108Z",
     "iopub.status.idle": "2021-02-26T12:07:20.171734Z",
     "shell.execute_reply": "2021-02-26T12:07:20.172175Z"
    },
    "papermill": {
     "duration": 0.041779,
     "end_time": "2021-02-26T12:07:20.172310",
     "exception": false,
     "start_time": "2021-02-26T12:07:20.130531",
     "status": "completed"
    },
    "tags": []
   },
   "outputs": [],
   "source": [
    "#hide\n",
    "# cols = list(g.columns.values)"
   ]
  },
  {
   "cell_type": "code",
   "execution_count": 29,
   "id": "solved-farming",
   "metadata": {
    "execution": {
     "iopub.execute_input": "2021-02-26T12:07:20.248682Z",
     "iopub.status.busy": "2021-02-26T12:07:20.247665Z",
     "iopub.status.idle": "2021-02-26T12:07:20.249759Z",
     "shell.execute_reply": "2021-02-26T12:07:20.250606Z"
    },
    "papermill": {
     "duration": 0.04364,
     "end_time": "2021-02-26T12:07:20.250839",
     "exception": false,
     "start_time": "2021-02-26T12:07:20.207199",
     "status": "completed"
    },
    "tags": []
   },
   "outputs": [],
   "source": [
    "#hide\n",
    "# cols.insert(0, cols.pop())"
   ]
  },
  {
   "cell_type": "code",
   "execution_count": 30,
   "id": "executed-adoption",
   "metadata": {
    "execution": {
     "iopub.execute_input": "2021-02-26T12:07:20.330971Z",
     "iopub.status.busy": "2021-02-26T12:07:20.330215Z",
     "iopub.status.idle": "2021-02-26T12:07:20.333768Z",
     "shell.execute_reply": "2021-02-26T12:07:20.333192Z"
    },
    "papermill": {
     "duration": 0.045919,
     "end_time": "2021-02-26T12:07:20.333912",
     "exception": false,
     "start_time": "2021-02-26T12:07:20.287993",
     "status": "completed"
    },
    "tags": []
   },
   "outputs": [],
   "source": [
    "#hide\n",
    "# g = g[cols]"
   ]
  },
  {
   "cell_type": "code",
   "execution_count": 31,
   "id": "subject-dublin",
   "metadata": {
    "execution": {
     "iopub.execute_input": "2021-02-26T12:07:20.406797Z",
     "iopub.status.busy": "2021-02-26T12:07:20.406190Z",
     "iopub.status.idle": "2021-02-26T12:07:20.408467Z",
     "shell.execute_reply": "2021-02-26T12:07:20.407966Z"
    },
    "papermill": {
     "duration": 0.040433,
     "end_time": "2021-02-26T12:07:20.408583",
     "exception": false,
     "start_time": "2021-02-26T12:07:20.368150",
     "status": "completed"
    },
    "tags": []
   },
   "outputs": [],
   "source": [
    "#hide\n",
    "# g['continent'] = g['continent'].map(mapping['map.continent'])"
   ]
  },
  {
   "cell_type": "code",
   "execution_count": 32,
   "id": "freelance-scout",
   "metadata": {
    "execution": {
     "iopub.execute_input": "2021-02-26T12:07:20.482584Z",
     "iopub.status.busy": "2021-02-26T12:07:20.481966Z",
     "iopub.status.idle": "2021-02-26T12:07:20.484222Z",
     "shell.execute_reply": "2021-02-26T12:07:20.484757Z"
    },
    "papermill": {
     "duration": 0.041105,
     "end_time": "2021-02-26T12:07:20.484887",
     "exception": false,
     "start_time": "2021-02-26T12:07:20.443782",
     "status": "completed"
    },
    "tags": []
   },
   "outputs": [],
   "source": [
    "#hide\n",
    "# g.head()"
   ]
  },
  {
   "cell_type": "code",
   "execution_count": 33,
   "id": "limited-engine",
   "metadata": {
    "execution": {
     "iopub.execute_input": "2021-02-26T12:07:20.560510Z",
     "iopub.status.busy": "2021-02-26T12:07:20.559930Z",
     "iopub.status.idle": "2021-02-26T12:07:20.562101Z",
     "shell.execute_reply": "2021-02-26T12:07:20.561528Z"
    },
    "papermill": {
     "duration": 0.042382,
     "end_time": "2021-02-26T12:07:20.562219",
     "exception": false,
     "start_time": "2021-02-26T12:07:20.519837",
     "status": "completed"
    },
    "tags": []
   },
   "outputs": [],
   "source": [
    "# hide\n",
    "# g['date'] = g['date'].astype('datetime64[ns]')"
   ]
  },
  {
   "cell_type": "code",
   "execution_count": 34,
   "id": "sophisticated-supervisor",
   "metadata": {
    "execution": {
     "iopub.execute_input": "2021-02-26T12:07:20.645489Z",
     "iopub.status.busy": "2021-02-26T12:07:20.644909Z",
     "iopub.status.idle": "2021-02-26T12:07:20.647123Z",
     "shell.execute_reply": "2021-02-26T12:07:20.647677Z"
    },
    "papermill": {
     "duration": 0.047979,
     "end_time": "2021-02-26T12:07:20.647815",
     "exception": false,
     "start_time": "2021-02-26T12:07:20.599836",
     "status": "completed"
    },
    "tags": []
   },
   "outputs": [],
   "source": [
    "#hide\n",
    "# g['date'] = g.date.dt.dayofyear"
   ]
  },
  {
   "cell_type": "code",
   "execution_count": 35,
   "id": "inside-dubai",
   "metadata": {
    "execution": {
     "iopub.execute_input": "2021-02-26T12:07:20.721594Z",
     "iopub.status.busy": "2021-02-26T12:07:20.721019Z",
     "iopub.status.idle": "2021-02-26T12:07:20.723114Z",
     "shell.execute_reply": "2021-02-26T12:07:20.723619Z"
    },
    "papermill": {
     "duration": 0.040392,
     "end_time": "2021-02-26T12:07:20.723752",
     "exception": false,
     "start_time": "2021-02-26T12:07:20.683360",
     "status": "completed"
    },
    "tags": []
   },
   "outputs": [],
   "source": [
    "#hide\n",
    "# g = g.rename(columns= {'continent':'group','country':'name','cases':'value'})"
   ]
  },
  {
   "cell_type": "code",
   "execution_count": 36,
   "id": "fleet-motorcycle",
   "metadata": {
    "execution": {
     "iopub.execute_input": "2021-02-26T12:07:20.797339Z",
     "iopub.status.busy": "2021-02-26T12:07:20.796761Z",
     "iopub.status.idle": "2021-02-26T12:07:20.799127Z",
     "shell.execute_reply": "2021-02-26T12:07:20.798628Z"
    },
    "papermill": {
     "duration": 0.040655,
     "end_time": "2021-02-26T12:07:20.799242",
     "exception": false,
     "start_time": "2021-02-26T12:07:20.758587",
     "status": "completed"
    },
    "tags": []
   },
   "outputs": [],
   "source": [
    "#hide\n",
    "# cols = ['name','group','day','value']"
   ]
  },
  {
   "cell_type": "code",
   "execution_count": 37,
   "id": "continued-sleeping",
   "metadata": {
    "execution": {
     "iopub.execute_input": "2021-02-26T12:07:20.878899Z",
     "iopub.status.busy": "2021-02-26T12:07:20.878098Z",
     "iopub.status.idle": "2021-02-26T12:07:20.880626Z",
     "shell.execute_reply": "2021-02-26T12:07:20.881181Z"
    },
    "papermill": {
     "duration": 0.043437,
     "end_time": "2021-02-26T12:07:20.881311",
     "exception": false,
     "start_time": "2021-02-26T12:07:20.837874",
     "status": "completed"
    },
    "tags": []
   },
   "outputs": [],
   "source": [
    "#hide\n",
    "# g.rename(columns= {'date':'day'},inplace = True)"
   ]
  },
  {
   "cell_type": "code",
   "execution_count": 38,
   "id": "major-fight",
   "metadata": {
    "execution": {
     "iopub.execute_input": "2021-02-26T12:07:20.956796Z",
     "iopub.status.busy": "2021-02-26T12:07:20.955839Z",
     "iopub.status.idle": "2021-02-26T12:07:20.958522Z",
     "shell.execute_reply": "2021-02-26T12:07:20.959081Z"
    },
    "papermill": {
     "duration": 0.04224,
     "end_time": "2021-02-26T12:07:20.959212",
     "exception": false,
     "start_time": "2021-02-26T12:07:20.916972",
     "status": "completed"
    },
    "tags": []
   },
   "outputs": [],
   "source": [
    "#hide\n",
    "# g = g[cols]"
   ]
  },
  {
   "cell_type": "code",
   "execution_count": 39,
   "id": "structured-mobile",
   "metadata": {
    "execution": {
     "iopub.execute_input": "2021-02-26T12:07:21.035918Z",
     "iopub.status.busy": "2021-02-26T12:07:21.035325Z",
     "iopub.status.idle": "2021-02-26T12:07:21.037604Z",
     "shell.execute_reply": "2021-02-26T12:07:21.037109Z"
    },
    "papermill": {
     "duration": 0.042515,
     "end_time": "2021-02-26T12:07:21.037721",
     "exception": false,
     "start_time": "2021-02-26T12:07:20.995206",
     "status": "completed"
    },
    "tags": []
   },
   "outputs": [],
   "source": [
    "# #hide\n",
    "# g = g[g.group.notna()]"
   ]
  },
  {
   "cell_type": "code",
   "execution_count": 40,
   "id": "determined-closing",
   "metadata": {
    "execution": {
     "iopub.execute_input": "2021-02-26T12:07:21.111316Z",
     "iopub.status.busy": "2021-02-26T12:07:21.110725Z",
     "iopub.status.idle": "2021-02-26T12:07:21.113147Z",
     "shell.execute_reply": "2021-02-26T12:07:21.113703Z"
    },
    "papermill": {
     "duration": 0.041583,
     "end_time": "2021-02-26T12:07:21.113839",
     "exception": false,
     "start_time": "2021-02-26T12:07:21.072256",
     "status": "completed"
    },
    "tags": []
   },
   "outputs": [],
   "source": [
    "# #hide\n",
    "# colors = dict(zip(\n",
    "#     [\"Oceania\", \"Europe\", \"Asia\", \"South America\", \"Middle East\", \"North America\", \"Africa\"],\n",
    "#     [\"#adb0ff\", \"#ffb3ff\", \"#90d595\", \"#e48381\", \"#aafbff\", \"#f7bb5f\", \"#eafb50\"]\n",
    "# ))\n",
    "# group_lk = g.set_index('name')['group'].to_dict()"
   ]
  },
  {
   "cell_type": "code",
   "execution_count": null,
   "id": "gross-drinking",
   "metadata": {
    "papermill": {
     "duration": 0.034226,
     "end_time": "2021-02-26T12:07:21.182472",
     "exception": false,
     "start_time": "2021-02-26T12:07:21.148246",
     "status": "completed"
    },
    "tags": []
   },
   "outputs": [],
   "source": []
  },
  {
   "cell_type": "code",
   "execution_count": 41,
   "id": "subject-macintosh",
   "metadata": {
    "execution": {
     "iopub.execute_input": "2021-02-26T12:07:21.256235Z",
     "iopub.status.busy": "2021-02-26T12:07:21.255631Z",
     "iopub.status.idle": "2021-02-26T12:07:21.258060Z",
     "shell.execute_reply": "2021-02-26T12:07:21.257590Z"
    },
    "papermill": {
     "duration": 0.041593,
     "end_time": "2021-02-26T12:07:21.258183",
     "exception": false,
     "start_time": "2021-02-26T12:07:21.216590",
     "status": "completed"
    },
    "tags": []
   },
   "outputs": [],
   "source": [
    "# #hide\n",
    "# fig, ax = plt.subplots(figsize=(15, 8))\n",
    "\n",
    "# def draw_barchart(current_day):\n",
    "#     dff = g[g['day'].eq(current_day)].sort_values(by='value', ascending=True).tail(10)\n",
    "#     ax.clear()\n",
    "#     ax.barh(dff['name'], dff['value'], color=[colors[group_lk[x]] for x in dff['name']])\n",
    "#     dx = dff['value'].max() / 200\n",
    "    \n",
    "#     for i, (value, name) in enumerate(zip(dff['value'], dff['name'])):\n",
    "#         ax.text(value-dx, i,     name,           size=14, weight=600, ha='right', va='bottom')\n",
    "#         ax.text(value-dx, i-.25, group_lk[name], size=10, color='#444444', ha='right', va='baseline')\n",
    "#         ax.text(value+dx, i,     f'{value:,.0f}',  size=14, ha='left',  va='center')\n",
    "#     ax.text(1, 0.4, current_day, transform=ax.transAxes, color='#777777', size=46, ha='right', weight=800)\n",
    "#     ax.text(0, 1.06, 'Population (thousands)', transform=ax.transAxes, size=12, color='#777777')\n",
    "#     ax.xaxis.set_major_formatter(ticker.StrMethodFormatter('{x:,.0f}'))\n",
    "#     ax.xaxis.set_ticks_position('top')\n",
    "#     ax.tick_params(axis='x', colors='#777777', labelsize=12)\n",
    "#     ax.set_yticks([])\n",
    "#     ax.margins(0, 0.01)\n",
    "#     ax.grid(which='major', axis='x', linestyle='-')\n",
    "#     ax.set_axisbelow(True)\n",
    "    \n",
    "#     ax.text(0, 1.15, 'Coronavirus',\n",
    "#             transform=ax.transAxes, size=24, weight=600, ha='left', va='top')\n",
    "# #     ax.text(1, 0, 'by @pratapvardhan; credit @jburnmurdoch', transform=ax.transAxes, color='#777777', ha='right',\n",
    "# #             bbox=dict(facecolor='white', alpha=0.8, edgecolor='white'))\n",
    "#     plt.box(False)"
   ]
  },
  {
   "cell_type": "code",
   "execution_count": 42,
   "id": "sexual-wages",
   "metadata": {
    "execution": {
     "iopub.execute_input": "2021-02-26T12:07:21.330797Z",
     "iopub.status.busy": "2021-02-26T12:07:21.330189Z",
     "iopub.status.idle": "2021-02-26T12:07:21.334402Z",
     "shell.execute_reply": "2021-02-26T12:07:21.334963Z"
    },
    "papermill": {
     "duration": 0.042985,
     "end_time": "2021-02-26T12:07:21.335097",
     "exception": false,
     "start_time": "2021-02-26T12:07:21.292112",
     "status": "completed"
    },
    "tags": []
   },
   "outputs": [],
   "source": [
    "# #hide_input\n",
    "# fig, ax = plt.subplots(figsize=(15, 8))\n",
    "# animator = animation.FuncAnimation(fig, draw_barchart, frames=range(g.day.values.min(), g.day.values.max()))\n",
    "# HTML(animator.to_jshtml())\n",
    "# # or use animator.to_html5_video() or animator.save() "
   ]
  },
  {
   "cell_type": "code",
   "execution_count": null,
   "id": "australian-container",
   "metadata": {
    "papermill": {
     "duration": 0.034175,
     "end_time": "2021-02-26T12:07:21.403591",
     "exception": false,
     "start_time": "2021-02-26T12:07:21.369416",
     "status": "completed"
    },
    "tags": []
   },
   "outputs": [],
   "source": []
  },
  {
   "cell_type": "code",
   "execution_count": null,
   "id": "mediterranean-pontiac",
   "metadata": {
    "papermill": {
     "duration": 0.034282,
     "end_time": "2021-02-26T12:07:21.472668",
     "exception": false,
     "start_time": "2021-02-26T12:07:21.438386",
     "status": "completed"
    },
    "tags": []
   },
   "outputs": [],
   "source": []
  },
  {
   "cell_type": "code",
   "execution_count": null,
   "id": "aging-legislature",
   "metadata": {
    "papermill": {
     "duration": 0.621613,
     "end_time": "2021-02-26T12:07:22.129743",
     "exception": false,
     "start_time": "2021-02-26T12:07:21.508130",
     "status": "completed"
    },
    "tags": []
   },
   "outputs": [],
   "source": []
  }
 ],
 "metadata": {
  "kernelspec": {
   "display_name": "Python 3",
   "language": "python",
   "name": "python3"
  },
  "language_info": {
   "codemirror_mode": {
    "name": "ipython",
    "version": 3
   },
   "file_extension": ".py",
   "mimetype": "text/x-python",
   "name": "python",
   "nbconvert_exporter": "python",
   "pygments_lexer": "ipython3",
   "version": "3.6.13"
  },
  "papermill": {
   "duration": 9.370654,
   "end_time": "2021-02-26T12:07:23.438134",
   "environment_variables": {},
   "exception": null,
   "input_path": "2020-03-21-covid19exp.ipynb",
   "output_path": "2020-03-21-covid19exp.ipynb",
   "parameters": {},
   "start_time": "2021-02-26T12:07:14.067480",
   "version": "2.0.0"
  }
 },
 "nbformat": 4,
 "nbformat_minor": 5
}