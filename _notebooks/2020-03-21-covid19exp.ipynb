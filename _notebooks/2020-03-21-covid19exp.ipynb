{
 "cells": [
  {
   "cell_type": "markdown",
   "id": "muslim-click",
   "metadata": {
    "papermill": {
     "duration": 0.034048,
     "end_time": "2021-06-26T00:18:39.011315",
     "exception": false,
     "start_time": "2021-06-26T00:18:38.977267",
     "status": "completed"
    },
    "tags": []
   },
   "source": [
    "# COVID-19 Case Race\n",
    "> A race chart to see rising cases around the world\n",
    "\n",
    "- author: Hargun Oberoi\n",
    "- image: images/covid-overview.png\n",
    "- hide: false\n",
    "- badges: false"
   ]
  },
  {
   "cell_type": "code",
   "execution_count": 1,
   "id": "proof-material",
   "metadata": {
    "execution": {
     "iopub.execute_input": "2021-06-26T00:18:39.082458Z",
     "iopub.status.busy": "2021-06-26T00:18:39.081971Z",
     "iopub.status.idle": "2021-06-26T00:18:39.392757Z",
     "shell.execute_reply": "2021-06-26T00:18:39.391336Z"
    },
    "papermill": {
     "duration": 0.353061,
     "end_time": "2021-06-26T00:18:39.392999",
     "exception": false,
     "start_time": "2021-06-26T00:18:39.039938",
     "status": "completed"
    },
    "tags": []
   },
   "outputs": [],
   "source": [
    "#hide\n",
    "import numpy as np\n",
    "import pandas as pd\n",
    "from jinja2 import Template\n",
    "from IPython.display import HTML"
   ]
  },
  {
   "cell_type": "code",
   "execution_count": 2,
   "id": "developed-terminology",
   "metadata": {
    "execution": {
     "iopub.execute_input": "2021-06-26T00:18:39.454918Z",
     "iopub.status.busy": "2021-06-26T00:18:39.454386Z",
     "iopub.status.idle": "2021-06-26T00:18:39.456499Z",
     "shell.execute_reply": "2021-06-26T00:18:39.456933Z"
    },
    "papermill": {
     "duration": 0.035668,
     "end_time": "2021-06-26T00:18:39.457062",
     "exception": false,
     "start_time": "2021-06-26T00:18:39.421394",
     "status": "completed"
    },
    "tags": []
   },
   "outputs": [],
   "source": [
    "#hide\n",
    "\n",
    "# FETCH\n",
    "base_url = 'https://raw.githubusercontent.com/pratapvardhan/notebooks/master/covid19/'\n",
    "paths = {\n",
    "    'mapping': base_url + 'mapping_countries.csv',\n",
    "    'overview': base_url + 'overview.tpl'\n",
    "}"
   ]
  },
  {
   "cell_type": "code",
   "execution_count": 3,
   "id": "dynamic-saver",
   "metadata": {
    "execution": {
     "iopub.execute_input": "2021-06-26T00:18:39.521393Z",
     "iopub.status.busy": "2021-06-26T00:18:39.520983Z",
     "iopub.status.idle": "2021-06-26T00:18:39.523131Z",
     "shell.execute_reply": "2021-06-26T00:18:39.523470Z"
    },
    "papermill": {
     "duration": 0.039864,
     "end_time": "2021-06-26T00:18:39.523603",
     "exception": false,
     "start_time": "2021-06-26T00:18:39.483739",
     "status": "completed"
    },
    "tags": []
   },
   "outputs": [
    {
     "data": {
      "text/plain": [
       "'https://raw.githubusercontent.com/pratapvardhan/notebooks/master/covid19/mapping_countries.csv'"
      ]
     },
     "execution_count": 3,
     "metadata": {},
     "output_type": "execute_result"
    }
   ],
   "source": [
    "#hide\n",
    "paths['mapping']"
   ]
  },
  {
   "cell_type": "code",
   "execution_count": 4,
   "id": "urban-software",
   "metadata": {
    "execution": {
     "iopub.execute_input": "2021-06-26T00:18:39.586689Z",
     "iopub.status.busy": "2021-06-26T00:18:39.586107Z",
     "iopub.status.idle": "2021-06-26T00:18:39.588649Z",
     "shell.execute_reply": "2021-06-26T00:18:39.588155Z"
    },
    "papermill": {
     "duration": 0.036556,
     "end_time": "2021-06-26T00:18:39.588760",
     "exception": false,
     "start_time": "2021-06-26T00:18:39.552204",
     "status": "completed"
    },
    "tags": []
   },
   "outputs": [],
   "source": [
    "#hide\n",
    "def get_mappings(url):\n",
    "    df = pd.read_csv(url)\n",
    "    return {\n",
    "        'df': df,\n",
    "        'replace.country': dict(df.dropna(subset=['Name']).set_index('Country')['Name']),\n",
    "        'map.continent': dict(df.set_index('Name')['Continent'])\n",
    "    }"
   ]
  },
  {
   "cell_type": "code",
   "execution_count": 5,
   "id": "intimate-machinery",
   "metadata": {
    "execution": {
     "iopub.execute_input": "2021-06-26T00:18:39.649571Z",
     "iopub.status.busy": "2021-06-26T00:18:39.649100Z",
     "iopub.status.idle": "2021-06-26T00:18:39.679539Z",
     "shell.execute_reply": "2021-06-26T00:18:39.679018Z"
    },
    "papermill": {
     "duration": 0.064883,
     "end_time": "2021-06-26T00:18:39.679657",
     "exception": false,
     "start_time": "2021-06-26T00:18:39.614774",
     "status": "completed"
    },
    "tags": []
   },
   "outputs": [],
   "source": [
    "#hide\n",
    "mapping = get_mappings(paths['mapping'])"
   ]
  },
  {
   "cell_type": "code",
   "execution_count": 6,
   "id": "certified-tactics",
   "metadata": {
    "execution": {
     "iopub.execute_input": "2021-06-26T00:18:39.740721Z",
     "iopub.status.busy": "2021-06-26T00:18:39.740249Z",
     "iopub.status.idle": "2021-06-26T00:18:39.744711Z",
     "shell.execute_reply": "2021-06-26T00:18:39.745146Z"
    },
    "papermill": {
     "duration": 0.037186,
     "end_time": "2021-06-26T00:18:39.745264",
     "exception": false,
     "start_time": "2021-06-26T00:18:39.708078",
     "status": "completed"
    },
    "tags": []
   },
   "outputs": [],
   "source": [
    "#hide\n",
    "def get_template(path):\n",
    "    from urllib.parse import urlparse\n",
    "    if bool(urlparse(path).netloc):\n",
    "        from urllib.request import urlopen\n",
    "        return urlopen(path).read().decode('utf8')\n",
    "    return open(path).read()"
   ]
  },
  {
   "cell_type": "code",
   "execution_count": 7,
   "id": "realistic-blast",
   "metadata": {
    "execution": {
     "iopub.execute_input": "2021-06-26T00:18:39.803028Z",
     "iopub.status.busy": "2021-06-26T00:18:39.802556Z",
     "iopub.status.idle": "2021-06-26T00:18:39.804722Z",
     "shell.execute_reply": "2021-06-26T00:18:39.805239Z"
    },
    "papermill": {
     "duration": 0.033729,
     "end_time": "2021-06-26T00:18:39.805357",
     "exception": false,
     "start_time": "2021-06-26T00:18:39.771628",
     "status": "completed"
    },
    "tags": []
   },
   "outputs": [],
   "source": [
    "#hide\n",
    "def get_frame(name):\n",
    "    url = (\n",
    "        'https://raw.githubusercontent.com/CSSEGISandData/COVID-19/master/csse_covid_19_data/'\n",
    "        f'csse_covid_19_time_series/time_series_covid19_{name}_global.csv')\n",
    "    df = pd.read_csv(url)\n",
    "    # rename countries\n",
    "    df['Country/Region'] = df['Country/Region'].replace(mapping['replace.country'])\n",
    "    return df"
   ]
  },
  {
   "cell_type": "code",
   "execution_count": 8,
   "id": "affiliated-characterization",
   "metadata": {
    "execution": {
     "iopub.execute_input": "2021-06-26T00:18:39.867703Z",
     "iopub.status.busy": "2021-06-26T00:18:39.867136Z",
     "iopub.status.idle": "2021-06-26T00:18:39.870005Z",
     "shell.execute_reply": "2021-06-26T00:18:39.869551Z"
    },
    "papermill": {
     "duration": 0.037754,
     "end_time": "2021-06-26T00:18:39.870107",
     "exception": false,
     "start_time": "2021-06-26T00:18:39.832353",
     "status": "completed"
    },
    "tags": []
   },
   "outputs": [],
   "source": [
    "#hide\n",
    "def get_dates(df):\n",
    "    dt_cols = df.columns[~df.columns.isin(['Province/State', 'Country/Region', 'Lat', 'Long'])]\n",
    "    LAST_DATE_I = -1\n",
    "    # sometimes last column may be empty, then go backwards\n",
    "    for i in range(-1, -len(dt_cols), -1):\n",
    "        if not df[dt_cols[i]].fillna(0).eq(0).all():\n",
    "            LAST_DATE_I = i\n",
    "            break\n",
    "    return LAST_DATE_I, dt_cols"
   ]
  },
  {
   "cell_type": "code",
   "execution_count": 9,
   "id": "recent-optimization",
   "metadata": {
    "execution": {
     "iopub.execute_input": "2021-06-26T00:18:39.929827Z",
     "iopub.status.busy": "2021-06-26T00:18:39.929317Z",
     "iopub.status.idle": "2021-06-26T00:18:40.217554Z",
     "shell.execute_reply": "2021-06-26T00:18:40.216542Z"
    },
    "papermill": {
     "duration": 0.320298,
     "end_time": "2021-06-26T00:18:40.217678",
     "exception": false,
     "start_time": "2021-06-26T00:18:39.897380",
     "status": "completed"
    },
    "tags": []
   },
   "outputs": [],
   "source": [
    "#hide\n",
    "COL_REGION = 'Country/Region'\n",
    "# Confirmed, Recovered, Deaths\n",
    "df = get_frame('confirmed')\n",
    "# dft_: timeseries, dfc_: today country agg\n",
    "dft_cases = df\n",
    "dft_deaths = get_frame('deaths')\n",
    "dft_recovered = get_frame('recovered')\n",
    "LAST_DATE_I, dt_cols = get_dates(df)"
   ]
  },
  {
   "cell_type": "code",
   "execution_count": 10,
   "id": "absolute-copper",
   "metadata": {
    "execution": {
     "iopub.execute_input": "2021-06-26T00:18:40.276970Z",
     "iopub.status.busy": "2021-06-26T00:18:40.276392Z",
     "iopub.status.idle": "2021-06-26T00:18:40.278927Z",
     "shell.execute_reply": "2021-06-26T00:18:40.279344Z"
    },
    "papermill": {
     "duration": 0.034091,
     "end_time": "2021-06-26T00:18:40.279459",
     "exception": false,
     "start_time": "2021-06-26T00:18:40.245368",
     "status": "completed"
    },
    "tags": []
   },
   "outputs": [],
   "source": [
    "#hide\n",
    "LAST_DATE_I, dt_cols = get_dates(df)\n",
    "dt_today =dt_cols[LAST_DATE_I]\n",
    "# dt_5day = dt_cols[LAST_DATE_I - 5]\n",
    "dt_yday = dt_cols[LAST_DATE_I - 1]"
   ]
  },
  {
   "cell_type": "code",
   "execution_count": 11,
   "id": "restricted-sheriff",
   "metadata": {
    "execution": {
     "iopub.execute_input": "2021-06-26T00:18:40.341195Z",
     "iopub.status.busy": "2021-06-26T00:18:40.340693Z",
     "iopub.status.idle": "2021-06-26T00:18:40.343097Z",
     "shell.execute_reply": "2021-06-26T00:18:40.342694Z"
    },
    "papermill": {
     "duration": 0.037554,
     "end_time": "2021-06-26T00:18:40.343192",
     "exception": false,
     "start_time": "2021-06-26T00:18:40.305638",
     "status": "completed"
    },
    "tags": []
   },
   "outputs": [],
   "source": [
    "#hide\n",
    "dfc_cases = dft_cases.groupby(COL_REGION)[dt_today].sum()\n",
    "dfc_deaths = dft_deaths.groupby(COL_REGION)[dt_today].sum()\n",
    "# dfp_cases = dft_cases.groupby(COL_REGION)[dt_5day].sum()\n",
    "# dfp_deaths = dft_deaths.groupby(COL_REGION)[dt_5day].sum()\n",
    "dfp_cases = dft_cases.groupby(COL_REGION)[dt_yday].sum()\n",
    "dfp_deaths = dft_deaths.groupby(COL_REGION)[dt_yday].sum()"
   ]
  },
  {
   "cell_type": "code",
   "execution_count": 12,
   "id": "deluxe-hepatitis",
   "metadata": {
    "execution": {
     "iopub.execute_input": "2021-06-26T00:18:40.402850Z",
     "iopub.status.busy": "2021-06-26T00:18:40.402443Z",
     "iopub.status.idle": "2021-06-26T00:18:40.406514Z",
     "shell.execute_reply": "2021-06-26T00:18:40.406166Z"
    },
    "papermill": {
     "duration": 0.037649,
     "end_time": "2021-06-26T00:18:40.406597",
     "exception": false,
     "start_time": "2021-06-26T00:18:40.368948",
     "status": "completed"
    },
    "tags": []
   },
   "outputs": [],
   "source": [
    "#hide\n",
    "df_table = (pd.DataFrame(dict(Cases = dfc_cases, Deaths = dfc_deaths, PCases = dfp_cases, PDeaths = dfp_deaths))\n",
    "            .sort_values(by = ['Cases','Deaths'], ascending = [False, False])\n",
    "            .reset_index())"
   ]
  },
  {
   "cell_type": "code",
   "execution_count": 13,
   "id": "educational-chancellor",
   "metadata": {
    "execution": {
     "iopub.execute_input": "2021-06-26T00:18:40.473766Z",
     "iopub.status.busy": "2021-06-26T00:18:40.473202Z",
     "iopub.status.idle": "2021-06-26T00:18:40.481359Z",
     "shell.execute_reply": "2021-06-26T00:18:40.480867Z"
    },
    "papermill": {
     "duration": 0.049275,
     "end_time": "2021-06-26T00:18:40.481471",
     "exception": false,
     "start_time": "2021-06-26T00:18:40.432196",
     "status": "completed"
    },
    "tags": []
   },
   "outputs": [
    {
     "data": {
      "text/html": [
       "<div>\n",
       "<style scoped>\n",
       "    .dataframe tbody tr th:only-of-type {\n",
       "        vertical-align: middle;\n",
       "    }\n",
       "\n",
       "    .dataframe tbody tr th {\n",
       "        vertical-align: top;\n",
       "    }\n",
       "\n",
       "    .dataframe thead th {\n",
       "        text-align: right;\n",
       "    }\n",
       "</style>\n",
       "<table border=\"1\" class=\"dataframe\">\n",
       "  <thead>\n",
       "    <tr style=\"text-align: right;\">\n",
       "      <th></th>\n",
       "      <th>Country/Region</th>\n",
       "      <th>Cases</th>\n",
       "      <th>Deaths</th>\n",
       "      <th>PCases</th>\n",
       "      <th>PDeaths</th>\n",
       "      <th>Cases (+)</th>\n",
       "      <th>Deaths (+)</th>\n",
       "      <th>Fatality Rate</th>\n",
       "      <th>Continent</th>\n",
       "    </tr>\n",
       "  </thead>\n",
       "  <tbody>\n",
       "    <tr>\n",
       "      <th>0</th>\n",
       "      <td>US</td>\n",
       "      <td>33590481</td>\n",
       "      <td>603178</td>\n",
       "      <td>33577651</td>\n",
       "      <td>602837</td>\n",
       "      <td>12830</td>\n",
       "      <td>341</td>\n",
       "      <td>1.80</td>\n",
       "      <td>North America</td>\n",
       "    </tr>\n",
       "    <tr>\n",
       "      <th>1</th>\n",
       "      <td>India</td>\n",
       "      <td>30134445</td>\n",
       "      <td>393310</td>\n",
       "      <td>30082778</td>\n",
       "      <td>391981</td>\n",
       "      <td>51667</td>\n",
       "      <td>1329</td>\n",
       "      <td>1.31</td>\n",
       "      <td>Asia</td>\n",
       "    </tr>\n",
       "    <tr>\n",
       "      <th>2</th>\n",
       "      <td>Brazil</td>\n",
       "      <td>18243483</td>\n",
       "      <td>509141</td>\n",
       "      <td>18169881</td>\n",
       "      <td>507109</td>\n",
       "      <td>73602</td>\n",
       "      <td>2032</td>\n",
       "      <td>2.79</td>\n",
       "      <td>South America</td>\n",
       "    </tr>\n",
       "    <tr>\n",
       "      <th>3</th>\n",
       "      <td>France</td>\n",
       "      <td>5826278</td>\n",
       "      <td>111068</td>\n",
       "      <td>5824127</td>\n",
       "      <td>111024</td>\n",
       "      <td>2151</td>\n",
       "      <td>44</td>\n",
       "      <td>1.91</td>\n",
       "      <td>Europe</td>\n",
       "    </tr>\n",
       "    <tr>\n",
       "      <th>4</th>\n",
       "      <td>Turkey</td>\n",
       "      <td>5393248</td>\n",
       "      <td>49417</td>\n",
       "      <td>5387545</td>\n",
       "      <td>49358</td>\n",
       "      <td>5703</td>\n",
       "      <td>59</td>\n",
       "      <td>0.92</td>\n",
       "      <td>Asia</td>\n",
       "    </tr>\n",
       "  </tbody>\n",
       "</table>\n",
       "</div>"
      ],
      "text/plain": [
       "  Country/Region     Cases  Deaths    PCases  PDeaths  Cases (+)  Deaths (+)  \\\n",
       "0             US  33590481  603178  33577651   602837      12830         341   \n",
       "1          India  30134445  393310  30082778   391981      51667        1329   \n",
       "2         Brazil  18243483  509141  18169881   507109      73602        2032   \n",
       "3         France   5826278  111068   5824127   111024       2151          44   \n",
       "4         Turkey   5393248   49417   5387545    49358       5703          59   \n",
       "\n",
       "   Fatality Rate      Continent  \n",
       "0           1.80  North America  \n",
       "1           1.31           Asia  \n",
       "2           2.79  South America  \n",
       "3           1.91         Europe  \n",
       "4           0.92           Asia  "
      ]
     },
     "execution_count": 13,
     "metadata": {},
     "output_type": "execute_result"
    }
   ],
   "source": [
    "#hide\n",
    "for c in 'Cases, Deaths'.split(', '):\n",
    "    df_table[f'{c} (+)'] = (df_table[c] - df_table[f'P{c}']).clip(0)\n",
    "    #Clip ça veut dire, les chiffres negatif sont interdit\n",
    "df_table['Fatality Rate'] = (100* df_table['Deaths']/ df_table['Cases']).round(2)\n",
    "df_table['Continent'] = df_table['Country/Region'].map(mapping['map.continent'])\n",
    "df_table.head(5)"
   ]
  },
  {
   "cell_type": "code",
   "execution_count": 14,
   "id": "aboriginal-bulgaria",
   "metadata": {
    "execution": {
     "iopub.execute_input": "2021-06-26T00:18:40.538561Z",
     "iopub.status.busy": "2021-06-26T00:18:40.538153Z",
     "iopub.status.idle": "2021-06-26T00:18:40.541054Z",
     "shell.execute_reply": "2021-06-26T00:18:40.541555Z"
    },
    "papermill": {
     "duration": 0.033619,
     "end_time": "2021-06-26T00:18:40.541688",
     "exception": false,
     "start_time": "2021-06-26T00:18:40.508069",
     "status": "completed"
    },
    "tags": []
   },
   "outputs": [],
   "source": [
    "#hide\n",
    "#delete problematic countries from table\n",
    "df_table = df_table[~df_table['Country/Region'].isin(['Cape Verde', 'Cruise Ship', 'Kosovo'])]"
   ]
  },
  {
   "cell_type": "code",
   "execution_count": 15,
   "id": "fantastic-effect",
   "metadata": {
    "execution": {
     "iopub.execute_input": "2021-06-26T00:18:40.615143Z",
     "iopub.status.busy": "2021-06-26T00:18:40.607351Z",
     "iopub.status.idle": "2021-06-26T00:18:40.618268Z",
     "shell.execute_reply": "2021-06-26T00:18:40.617936Z"
    },
    "papermill": {
     "duration": 0.050249,
     "end_time": "2021-06-26T00:18:40.618351",
     "exception": false,
     "start_time": "2021-06-26T00:18:40.568102",
     "status": "completed"
    },
    "tags": []
   },
   "outputs": [
    {
     "data": {
      "text/html": [
       "<div>\n",
       "<style scoped>\n",
       "    .dataframe tbody tr th:only-of-type {\n",
       "        vertical-align: middle;\n",
       "    }\n",
       "\n",
       "    .dataframe tbody tr th {\n",
       "        vertical-align: top;\n",
       "    }\n",
       "\n",
       "    .dataframe thead th {\n",
       "        text-align: right;\n",
       "    }\n",
       "</style>\n",
       "<table border=\"1\" class=\"dataframe\">\n",
       "  <thead>\n",
       "    <tr style=\"text-align: right;\">\n",
       "      <th></th>\n",
       "      <th>Country/Region</th>\n",
       "      <th>Cases</th>\n",
       "      <th>Deaths</th>\n",
       "      <th>PCases</th>\n",
       "      <th>PDeaths</th>\n",
       "      <th>Cases (+)</th>\n",
       "      <th>Deaths (+)</th>\n",
       "      <th>Fatality Rate</th>\n",
       "      <th>Continent</th>\n",
       "    </tr>\n",
       "  </thead>\n",
       "  <tbody>\n",
       "    <tr>\n",
       "      <th>0</th>\n",
       "      <td>US</td>\n",
       "      <td>33590481</td>\n",
       "      <td>603178</td>\n",
       "      <td>33577651</td>\n",
       "      <td>602837</td>\n",
       "      <td>12830</td>\n",
       "      <td>341</td>\n",
       "      <td>1.8</td>\n",
       "      <td>North America</td>\n",
       "    </tr>\n",
       "    <tr>\n",
       "      <th>1</th>\n",
       "      <td>India</td>\n",
       "      <td>30134445</td>\n",
       "      <td>393310</td>\n",
       "      <td>30082778</td>\n",
       "      <td>391981</td>\n",
       "      <td>51667</td>\n",
       "      <td>1329</td>\n",
       "      <td>1.3</td>\n",
       "      <td>Asia</td>\n",
       "    </tr>\n",
       "    <tr>\n",
       "      <th>2</th>\n",
       "      <td>Brazil</td>\n",
       "      <td>18243483</td>\n",
       "      <td>509141</td>\n",
       "      <td>18169881</td>\n",
       "      <td>507109</td>\n",
       "      <td>73602</td>\n",
       "      <td>2032</td>\n",
       "      <td>2.8</td>\n",
       "      <td>South America</td>\n",
       "    </tr>\n",
       "    <tr>\n",
       "      <th>3</th>\n",
       "      <td>France</td>\n",
       "      <td>5826278</td>\n",
       "      <td>111068</td>\n",
       "      <td>5824127</td>\n",
       "      <td>111024</td>\n",
       "      <td>2151</td>\n",
       "      <td>44</td>\n",
       "      <td>1.9</td>\n",
       "      <td>Europe</td>\n",
       "    </tr>\n",
       "    <tr>\n",
       "      <th>4</th>\n",
       "      <td>Turkey</td>\n",
       "      <td>5393248</td>\n",
       "      <td>49417</td>\n",
       "      <td>5387545</td>\n",
       "      <td>49358</td>\n",
       "      <td>5703</td>\n",
       "      <td>59</td>\n",
       "      <td>0.9</td>\n",
       "      <td>Asia</td>\n",
       "    </tr>\n",
       "  </tbody>\n",
       "</table>\n",
       "</div>"
      ],
      "text/plain": [
       "  Country/Region     Cases  Deaths    PCases  PDeaths  Cases (+)  Deaths (+)  \\\n",
       "0             US  33590481  603178  33577651   602837      12830         341   \n",
       "1          India  30134445  393310  30082778   391981      51667        1329   \n",
       "2         Brazil  18243483  509141  18169881   507109      73602        2032   \n",
       "3         France   5826278  111068   5824127   111024       2151          44   \n",
       "4         Turkey   5393248   49417   5387545    49358       5703          59   \n",
       "\n",
       "   Fatality Rate      Continent  \n",
       "0            1.8  North America  \n",
       "1            1.3           Asia  \n",
       "2            2.8  South America  \n",
       "3            1.9         Europe  \n",
       "4            0.9           Asia  "
      ]
     },
     "execution_count": 15,
     "metadata": {},
     "output_type": "execute_result"
    }
   ],
   "source": [
    "#hide\n",
    "df_table = (pd.DataFrame(dict(Cases=dfc_cases, Deaths=dfc_deaths, PCases=dfp_cases, PDeaths=dfp_deaths))\n",
    "             .sort_values(by=['Cases', 'Deaths'], ascending=[False, False])\n",
    "             .reset_index())\n",
    "df_table.rename(columns={'index': 'Country/Region'}, inplace=True)\n",
    "for c in 'Cases, Deaths'.split(', '):\n",
    "    df_table[f'{c} (+)'] = (df_table[c] - df_table[f'P{c}']).clip(0)  # DATA BUG\n",
    "df_table['Fatality Rate'] = (100 * df_table['Deaths'] / df_table['Cases']).round(1)\n",
    "df_table['Continent'] = df_table['Country/Region'].map(mapping['map.continent'])\n",
    "df_table.head(5)"
   ]
  },
  {
   "cell_type": "code",
   "execution_count": 16,
   "id": "fewer-occasion",
   "metadata": {
    "execution": {
     "iopub.execute_input": "2021-06-26T00:18:40.678720Z",
     "iopub.status.busy": "2021-06-26T00:18:40.678311Z",
     "iopub.status.idle": "2021-06-26T00:18:40.680183Z",
     "shell.execute_reply": "2021-06-26T00:18:40.679834Z"
    },
    "papermill": {
     "duration": 0.034051,
     "end_time": "2021-06-26T00:18:40.680263",
     "exception": false,
     "start_time": "2021-06-26T00:18:40.646212",
     "status": "completed"
    },
    "tags": []
   },
   "outputs": [],
   "source": [
    "#hide\n",
    "#delete problematic countries from table\n",
    "df_table = df_table[~df_table['Country/Region'].isin(['Cape Verde', 'Cruise Ship', 'Kosovo'])]"
   ]
  },
  {
   "cell_type": "code",
   "execution_count": 17,
   "id": "related-center",
   "metadata": {
    "execution": {
     "iopub.execute_input": "2021-06-26T00:18:40.751548Z",
     "iopub.status.busy": "2021-06-26T00:18:40.751050Z",
     "iopub.status.idle": "2021-06-26T00:18:40.758347Z",
     "shell.execute_reply": "2021-06-26T00:18:40.757893Z"
    },
    "papermill": {
     "duration": 0.050197,
     "end_time": "2021-06-26T00:18:40.758451",
     "exception": false,
     "start_time": "2021-06-26T00:18:40.708254",
     "status": "completed"
    },
    "tags": []
   },
   "outputs": [],
   "source": [
    "#hide\n",
    "metrics = [df_table.columns[index] for index in [1,2,5,6]]\n",
    "# s_china = df_table[df_table['Country/Region'].eq('China')][metrics].sum().add_prefix('China ')\n",
    "s_us = df_table[df_table['Country/Region'].eq('US')][metrics].sum().add_prefix('US ')\n",
    "s_eu = df_table[df_table['Continent'].eq('Europe')][metrics].sum().add_prefix('EU ')\n",
    "s_ind = df_table[df_table['Country/Region'].eq('India')][metrics].sum().add_prefix('India ')\n",
    "summary = {'updated': pd.to_datetime(dt_today), 'since': pd.to_datetime(dt_yday)}\n",
    "summary = {'updated': pd.to_datetime(dt_today), 'since': pd.to_datetime(dt_yday)}\n",
    "summary = {**summary, **df_table[metrics].sum(), **s_ind, **s_us, **s_eu}"
   ]
  },
  {
   "cell_type": "code",
   "execution_count": 18,
   "id": "engaging-syndrome",
   "metadata": {
    "execution": {
     "iopub.execute_input": "2021-06-26T00:18:40.819752Z",
     "iopub.status.busy": "2021-06-26T00:18:40.818862Z",
     "iopub.status.idle": "2021-06-26T00:18:40.828367Z",
     "shell.execute_reply": "2021-06-26T00:18:40.828748Z"
    },
    "papermill": {
     "duration": 0.043353,
     "end_time": "2021-06-26T00:18:40.828854",
     "exception": false,
     "start_time": "2021-06-26T00:18:40.785501",
     "status": "completed"
    },
    "tags": []
   },
   "outputs": [],
   "source": [
    "#hide\n",
    "dft_ct_new_cases = dft_cases.groupby(COL_REGION)[dt_cols].sum().diff(axis=1).fillna(0).astype(int)"
   ]
  },
  {
   "cell_type": "code",
   "execution_count": 19,
   "id": "neutral-assignment",
   "metadata": {
    "execution": {
     "iopub.execute_input": "2021-06-26T00:18:40.888659Z",
     "iopub.status.busy": "2021-06-26T00:18:40.888087Z",
     "iopub.status.idle": "2021-06-26T00:18:40.892990Z",
     "shell.execute_reply": "2021-06-26T00:18:40.892556Z"
    },
    "papermill": {
     "duration": 0.037077,
     "end_time": "2021-06-26T00:18:40.893097",
     "exception": false,
     "start_time": "2021-06-26T00:18:40.856020",
     "status": "completed"
    },
    "tags": []
   },
   "outputs": [],
   "source": [
    "#hide\n",
    "everydaycases = dft_ct_new_cases.cumsum(axis=1)"
   ]
  },
  {
   "cell_type": "code",
   "execution_count": 20,
   "id": "parliamentary-calgary",
   "metadata": {
    "execution": {
     "iopub.execute_input": "2021-06-26T00:18:40.953912Z",
     "iopub.status.busy": "2021-06-26T00:18:40.952469Z",
     "iopub.status.idle": "2021-06-26T00:18:41.575405Z",
     "shell.execute_reply": "2021-06-26T00:18:41.575832Z"
    },
    "papermill": {
     "duration": 0.654823,
     "end_time": "2021-06-26T00:18:41.575976",
     "exception": false,
     "start_time": "2021-06-26T00:18:40.921153",
     "status": "completed"
    },
    "tags": []
   },
   "outputs": [],
   "source": [
    "#hide\n",
    "import pandas as pd\n",
    "import matplotlib.pyplot as plt\n",
    "import matplotlib.ticker as ticker\n",
    "import matplotlib.animation as animation\n",
    "from IPython.display import HTML"
   ]
  },
  {
   "cell_type": "code",
   "execution_count": 21,
   "id": "lasting-extraction",
   "metadata": {
    "execution": {
     "iopub.execute_input": "2021-06-26T00:18:41.634096Z",
     "iopub.status.busy": "2021-06-26T00:18:41.633554Z",
     "iopub.status.idle": "2021-06-26T00:18:41.644371Z",
     "shell.execute_reply": "2021-06-26T00:18:41.643984Z"
    },
    "papermill": {
     "duration": 0.041207,
     "end_time": "2021-06-26T00:18:41.644475",
     "exception": false,
     "start_time": "2021-06-26T00:18:41.603268",
     "status": "completed"
    },
    "tags": []
   },
   "outputs": [],
   "source": [
    "#hide\n",
    "t = everydaycases.stack()"
   ]
  },
  {
   "cell_type": "code",
   "execution_count": 22,
   "id": "premier-sleeve",
   "metadata": {
    "execution": {
     "iopub.execute_input": "2021-06-26T00:18:41.702824Z",
     "iopub.status.busy": "2021-06-26T00:18:41.702224Z",
     "iopub.status.idle": "2021-06-26T00:18:41.709830Z",
     "shell.execute_reply": "2021-06-26T00:18:41.709452Z"
    },
    "papermill": {
     "duration": 0.038634,
     "end_time": "2021-06-26T00:18:41.709929",
     "exception": false,
     "start_time": "2021-06-26T00:18:41.671295",
     "status": "completed"
    },
    "tags": []
   },
   "outputs": [],
   "source": [
    "#hide\n",
    "g = t.reset_index(['Country/Region'])"
   ]
  },
  {
   "cell_type": "code",
   "execution_count": 23,
   "id": "distributed-pittsburgh",
   "metadata": {
    "execution": {
     "iopub.execute_input": "2021-06-26T00:18:41.768464Z",
     "iopub.status.busy": "2021-06-26T00:18:41.768055Z",
     "iopub.status.idle": "2021-06-26T00:18:41.770617Z",
     "shell.execute_reply": "2021-06-26T00:18:41.770945Z"
    },
    "papermill": {
     "duration": 0.033056,
     "end_time": "2021-06-26T00:18:41.771040",
     "exception": false,
     "start_time": "2021-06-26T00:18:41.737984",
     "status": "completed"
    },
    "tags": []
   },
   "outputs": [],
   "source": [
    "#hide\n",
    "g.index.name = 'date'"
   ]
  },
  {
   "cell_type": "code",
   "execution_count": 24,
   "id": "naked-donor",
   "metadata": {
    "execution": {
     "iopub.execute_input": "2021-06-26T00:18:41.829602Z",
     "iopub.status.busy": "2021-06-26T00:18:41.829170Z",
     "iopub.status.idle": "2021-06-26T00:18:41.831345Z",
     "shell.execute_reply": "2021-06-26T00:18:41.831808Z"
    },
    "papermill": {
     "duration": 0.034036,
     "end_time": "2021-06-26T00:18:41.831903",
     "exception": false,
     "start_time": "2021-06-26T00:18:41.797867",
     "status": "completed"
    },
    "tags": []
   },
   "outputs": [],
   "source": [
    "# #hide\n",
    "# g = g.reset_index(['date'])"
   ]
  },
  {
   "cell_type": "code",
   "execution_count": 25,
   "id": "incomplete-mustang",
   "metadata": {
    "execution": {
     "iopub.execute_input": "2021-06-26T00:18:41.889573Z",
     "iopub.status.busy": "2021-06-26T00:18:41.889104Z",
     "iopub.status.idle": "2021-06-26T00:18:41.891308Z",
     "shell.execute_reply": "2021-06-26T00:18:41.891658Z"
    },
    "papermill": {
     "duration": 0.032714,
     "end_time": "2021-06-26T00:18:41.891752",
     "exception": false,
     "start_time": "2021-06-26T00:18:41.859038",
     "status": "completed"
    },
    "tags": []
   },
   "outputs": [],
   "source": [
    "#hide\n",
    "# g.head()"
   ]
  },
  {
   "cell_type": "code",
   "execution_count": 26,
   "id": "specific-kruger",
   "metadata": {
    "execution": {
     "iopub.execute_input": "2021-06-26T00:18:41.951925Z",
     "iopub.status.busy": "2021-06-26T00:18:41.951311Z",
     "iopub.status.idle": "2021-06-26T00:18:41.953486Z",
     "shell.execute_reply": "2021-06-26T00:18:41.953999Z"
    },
    "papermill": {
     "duration": 0.034058,
     "end_time": "2021-06-26T00:18:41.954116",
     "exception": false,
     "start_time": "2021-06-26T00:18:41.920058",
     "status": "completed"
    },
    "tags": []
   },
   "outputs": [],
   "source": [
    "#hide\n",
    "# g.columns = ['date','country','cases']"
   ]
  },
  {
   "cell_type": "code",
   "execution_count": 27,
   "id": "tender-conversion",
   "metadata": {
    "execution": {
     "iopub.execute_input": "2021-06-26T00:18:42.024484Z",
     "iopub.status.busy": "2021-06-26T00:18:42.023948Z",
     "iopub.status.idle": "2021-06-26T00:18:42.026553Z",
     "shell.execute_reply": "2021-06-26T00:18:42.026082Z"
    },
    "papermill": {
     "duration": 0.039949,
     "end_time": "2021-06-26T00:18:42.026674",
     "exception": false,
     "start_time": "2021-06-26T00:18:41.986725",
     "status": "completed"
    },
    "tags": []
   },
   "outputs": [],
   "source": [
    "#hide\n",
    "# g['continent'] = g.country"
   ]
  },
  {
   "cell_type": "code",
   "execution_count": 28,
   "id": "substantial-wilderness",
   "metadata": {
    "execution": {
     "iopub.execute_input": "2021-06-26T00:18:42.095955Z",
     "iopub.status.busy": "2021-06-26T00:18:42.095529Z",
     "iopub.status.idle": "2021-06-26T00:18:42.098613Z",
     "shell.execute_reply": "2021-06-26T00:18:42.098158Z"
    },
    "papermill": {
     "duration": 0.039969,
     "end_time": "2021-06-26T00:18:42.098728",
     "exception": false,
     "start_time": "2021-06-26T00:18:42.058759",
     "status": "completed"
    },
    "tags": []
   },
   "outputs": [],
   "source": [
    "#hide\n",
    "# cols = list(g.columns.values)"
   ]
  },
  {
   "cell_type": "code",
   "execution_count": 29,
   "id": "solved-farming",
   "metadata": {
    "execution": {
     "iopub.execute_input": "2021-06-26T00:18:42.160012Z",
     "iopub.status.busy": "2021-06-26T00:18:42.159518Z",
     "iopub.status.idle": "2021-06-26T00:18:42.161838Z",
     "shell.execute_reply": "2021-06-26T00:18:42.162293Z"
    },
    "papermill": {
     "duration": 0.033556,
     "end_time": "2021-06-26T00:18:42.162405",
     "exception": false,
     "start_time": "2021-06-26T00:18:42.128849",
     "status": "completed"
    },
    "tags": []
   },
   "outputs": [],
   "source": [
    "#hide\n",
    "# cols.insert(0, cols.pop())"
   ]
  },
  {
   "cell_type": "code",
   "execution_count": 30,
   "id": "executed-adoption",
   "metadata": {
    "execution": {
     "iopub.execute_input": "2021-06-26T00:18:42.219565Z",
     "iopub.status.busy": "2021-06-26T00:18:42.219062Z",
     "iopub.status.idle": "2021-06-26T00:18:42.221012Z",
     "shell.execute_reply": "2021-06-26T00:18:42.220663Z"
    },
    "papermill": {
     "duration": 0.032311,
     "end_time": "2021-06-26T00:18:42.221094",
     "exception": false,
     "start_time": "2021-06-26T00:18:42.188783",
     "status": "completed"
    },
    "tags": []
   },
   "outputs": [],
   "source": [
    "#hide\n",
    "# g = g[cols]"
   ]
  },
  {
   "cell_type": "code",
   "execution_count": 31,
   "id": "subject-dublin",
   "metadata": {
    "execution": {
     "iopub.execute_input": "2021-06-26T00:18:42.281993Z",
     "iopub.status.busy": "2021-06-26T00:18:42.281582Z",
     "iopub.status.idle": "2021-06-26T00:18:42.283960Z",
     "shell.execute_reply": "2021-06-26T00:18:42.284355Z"
    },
    "papermill": {
     "duration": 0.03402,
     "end_time": "2021-06-26T00:18:42.284450",
     "exception": false,
     "start_time": "2021-06-26T00:18:42.250430",
     "status": "completed"
    },
    "tags": []
   },
   "outputs": [],
   "source": [
    "#hide\n",
    "# g['continent'] = g['continent'].map(mapping['map.continent'])"
   ]
  },
  {
   "cell_type": "code",
   "execution_count": 32,
   "id": "freelance-scout",
   "metadata": {
    "execution": {
     "iopub.execute_input": "2021-06-26T00:18:42.342099Z",
     "iopub.status.busy": "2021-06-26T00:18:42.341624Z",
     "iopub.status.idle": "2021-06-26T00:18:42.343940Z",
     "shell.execute_reply": "2021-06-26T00:18:42.344498Z"
    },
    "papermill": {
     "duration": 0.033543,
     "end_time": "2021-06-26T00:18:42.344625",
     "exception": false,
     "start_time": "2021-06-26T00:18:42.311082",
     "status": "completed"
    },
    "tags": []
   },
   "outputs": [],
   "source": [
    "#hide\n",
    "# g.head()"
   ]
  },
  {
   "cell_type": "code",
   "execution_count": 33,
   "id": "limited-engine",
   "metadata": {
    "execution": {
     "iopub.execute_input": "2021-06-26T00:18:42.400646Z",
     "iopub.status.busy": "2021-06-26T00:18:42.400114Z",
     "iopub.status.idle": "2021-06-26T00:18:42.402408Z",
     "shell.execute_reply": "2021-06-26T00:18:42.402860Z"
    },
    "papermill": {
     "duration": 0.032276,
     "end_time": "2021-06-26T00:18:42.402963",
     "exception": false,
     "start_time": "2021-06-26T00:18:42.370687",
     "status": "completed"
    },
    "tags": []
   },
   "outputs": [],
   "source": [
    "# hide\n",
    "# g['date'] = g['date'].astype('datetime64[ns]')"
   ]
  },
  {
   "cell_type": "code",
   "execution_count": 34,
   "id": "sophisticated-supervisor",
   "metadata": {
    "execution": {
     "iopub.execute_input": "2021-06-26T00:18:42.460104Z",
     "iopub.status.busy": "2021-06-26T00:18:42.459688Z",
     "iopub.status.idle": "2021-06-26T00:18:42.462023Z",
     "shell.execute_reply": "2021-06-26T00:18:42.461623Z"
    },
    "papermill": {
     "duration": 0.032338,
     "end_time": "2021-06-26T00:18:42.462114",
     "exception": false,
     "start_time": "2021-06-26T00:18:42.429776",
     "status": "completed"
    },
    "tags": []
   },
   "outputs": [],
   "source": [
    "#hide\n",
    "# g['date'] = g.date.dt.dayofyear"
   ]
  },
  {
   "cell_type": "code",
   "execution_count": 35,
   "id": "inside-dubai",
   "metadata": {
    "execution": {
     "iopub.execute_input": "2021-06-26T00:18:42.520270Z",
     "iopub.status.busy": "2021-06-26T00:18:42.519792Z",
     "iopub.status.idle": "2021-06-26T00:18:42.521716Z",
     "shell.execute_reply": "2021-06-26T00:18:42.522069Z"
    },
    "papermill": {
     "duration": 0.032331,
     "end_time": "2021-06-26T00:18:42.522158",
     "exception": false,
     "start_time": "2021-06-26T00:18:42.489827",
     "status": "completed"
    },
    "tags": []
   },
   "outputs": [],
   "source": [
    "#hide\n",
    "# g = g.rename(columns= {'continent':'group','country':'name','cases':'value'})"
   ]
  },
  {
   "cell_type": "code",
   "execution_count": 36,
   "id": "fleet-motorcycle",
   "metadata": {
    "execution": {
     "iopub.execute_input": "2021-06-26T00:18:42.581183Z",
     "iopub.status.busy": "2021-06-26T00:18:42.580732Z",
     "iopub.status.idle": "2021-06-26T00:18:42.582821Z",
     "shell.execute_reply": "2021-06-26T00:18:42.582491Z"
    },
    "papermill": {
     "duration": 0.032085,
     "end_time": "2021-06-26T00:18:42.582904",
     "exception": false,
     "start_time": "2021-06-26T00:18:42.550819",
     "status": "completed"
    },
    "tags": []
   },
   "outputs": [],
   "source": [
    "#hide\n",
    "# cols = ['name','group','day','value']"
   ]
  },
  {
   "cell_type": "code",
   "execution_count": 37,
   "id": "continued-sleeping",
   "metadata": {
    "execution": {
     "iopub.execute_input": "2021-06-26T00:18:42.640189Z",
     "iopub.status.busy": "2021-06-26T00:18:42.639594Z",
     "iopub.status.idle": "2021-06-26T00:18:42.642137Z",
     "shell.execute_reply": "2021-06-26T00:18:42.641756Z"
    },
    "papermill": {
     "duration": 0.033481,
     "end_time": "2021-06-26T00:18:42.642258",
     "exception": false,
     "start_time": "2021-06-26T00:18:42.608777",
     "status": "completed"
    },
    "tags": []
   },
   "outputs": [],
   "source": [
    "#hide\n",
    "# g.rename(columns= {'date':'day'},inplace = True)"
   ]
  },
  {
   "cell_type": "code",
   "execution_count": 38,
   "id": "major-fight",
   "metadata": {
    "execution": {
     "iopub.execute_input": "2021-06-26T00:18:42.703670Z",
     "iopub.status.busy": "2021-06-26T00:18:42.703176Z",
     "iopub.status.idle": "2021-06-26T00:18:42.705219Z",
     "shell.execute_reply": "2021-06-26T00:18:42.704837Z"
    },
    "papermill": {
     "duration": 0.035006,
     "end_time": "2021-06-26T00:18:42.705313",
     "exception": false,
     "start_time": "2021-06-26T00:18:42.670307",
     "status": "completed"
    },
    "tags": []
   },
   "outputs": [],
   "source": [
    "#hide\n",
    "# g = g[cols]"
   ]
  },
  {
   "cell_type": "code",
   "execution_count": 39,
   "id": "structured-mobile",
   "metadata": {
    "execution": {
     "iopub.execute_input": "2021-06-26T00:18:42.767132Z",
     "iopub.status.busy": "2021-06-26T00:18:42.766657Z",
     "iopub.status.idle": "2021-06-26T00:18:42.769247Z",
     "shell.execute_reply": "2021-06-26T00:18:42.769638Z"
    },
    "papermill": {
     "duration": 0.034133,
     "end_time": "2021-06-26T00:18:42.769729",
     "exception": false,
     "start_time": "2021-06-26T00:18:42.735596",
     "status": "completed"
    },
    "tags": []
   },
   "outputs": [],
   "source": [
    "# #hide\n",
    "# g = g[g.group.notna()]"
   ]
  },
  {
   "cell_type": "code",
   "execution_count": 40,
   "id": "determined-closing",
   "metadata": {
    "execution": {
     "iopub.execute_input": "2021-06-26T00:18:42.829196Z",
     "iopub.status.busy": "2021-06-26T00:18:42.828653Z",
     "iopub.status.idle": "2021-06-26T00:18:42.830766Z",
     "shell.execute_reply": "2021-06-26T00:18:42.831283Z"
    },
    "papermill": {
     "duration": 0.035519,
     "end_time": "2021-06-26T00:18:42.831401",
     "exception": false,
     "start_time": "2021-06-26T00:18:42.795882",
     "status": "completed"
    },
    "tags": []
   },
   "outputs": [],
   "source": [
    "# #hide\n",
    "# colors = dict(zip(\n",
    "#     [\"Oceania\", \"Europe\", \"Asia\", \"South America\", \"Middle East\", \"North America\", \"Africa\"],\n",
    "#     [\"#adb0ff\", \"#ffb3ff\", \"#90d595\", \"#e48381\", \"#aafbff\", \"#f7bb5f\", \"#eafb50\"]\n",
    "# ))\n",
    "# group_lk = g.set_index('name')['group'].to_dict()"
   ]
  },
  {
   "cell_type": "code",
   "execution_count": null,
   "id": "gross-drinking",
   "metadata": {
    "papermill": {
     "duration": 0.03118,
     "end_time": "2021-06-26T00:18:42.892553",
     "exception": false,
     "start_time": "2021-06-26T00:18:42.861373",
     "status": "completed"
    },
    "tags": []
   },
   "outputs": [],
   "source": []
  },
  {
   "cell_type": "code",
   "execution_count": 41,
   "id": "subject-macintosh",
   "metadata": {
    "execution": {
     "iopub.execute_input": "2021-06-26T00:18:42.957895Z",
     "iopub.status.busy": "2021-06-26T00:18:42.957391Z",
     "iopub.status.idle": "2021-06-26T00:18:42.959593Z",
     "shell.execute_reply": "2021-06-26T00:18:42.960058Z"
    },
    "papermill": {
     "duration": 0.037509,
     "end_time": "2021-06-26T00:18:42.960177",
     "exception": false,
     "start_time": "2021-06-26T00:18:42.922668",
     "status": "completed"
    },
    "tags": []
   },
   "outputs": [],
   "source": [
    "# #hide\n",
    "# fig, ax = plt.subplots(figsize=(15, 8))\n",
    "\n",
    "# def draw_barchart(current_day):\n",
    "#     dff = g[g['day'].eq(current_day)].sort_values(by='value', ascending=True).tail(10)\n",
    "#     ax.clear()\n",
    "#     ax.barh(dff['name'], dff['value'], color=[colors[group_lk[x]] for x in dff['name']])\n",
    "#     dx = dff['value'].max() / 200\n",
    "    \n",
    "#     for i, (value, name) in enumerate(zip(dff['value'], dff['name'])):\n",
    "#         ax.text(value-dx, i,     name,           size=14, weight=600, ha='right', va='bottom')\n",
    "#         ax.text(value-dx, i-.25, group_lk[name], size=10, color='#444444', ha='right', va='baseline')\n",
    "#         ax.text(value+dx, i,     f'{value:,.0f}',  size=14, ha='left',  va='center')\n",
    "#     ax.text(1, 0.4, current_day, transform=ax.transAxes, color='#777777', size=46, ha='right', weight=800)\n",
    "#     ax.text(0, 1.06, 'Population (thousands)', transform=ax.transAxes, size=12, color='#777777')\n",
    "#     ax.xaxis.set_major_formatter(ticker.StrMethodFormatter('{x:,.0f}'))\n",
    "#     ax.xaxis.set_ticks_position('top')\n",
    "#     ax.tick_params(axis='x', colors='#777777', labelsize=12)\n",
    "#     ax.set_yticks([])\n",
    "#     ax.margins(0, 0.01)\n",
    "#     ax.grid(which='major', axis='x', linestyle='-')\n",
    "#     ax.set_axisbelow(True)\n",
    "    \n",
    "#     ax.text(0, 1.15, 'Coronavirus',\n",
    "#             transform=ax.transAxes, size=24, weight=600, ha='left', va='top')\n",
    "# #     ax.text(1, 0, 'by @pratapvardhan; credit @jburnmurdoch', transform=ax.transAxes, color='#777777', ha='right',\n",
    "# #             bbox=dict(facecolor='white', alpha=0.8, edgecolor='white'))\n",
    "#     plt.box(False)"
   ]
  },
  {
   "cell_type": "code",
   "execution_count": 42,
   "id": "sexual-wages",
   "metadata": {
    "execution": {
     "iopub.execute_input": "2021-06-26T00:18:43.024128Z",
     "iopub.status.busy": "2021-06-26T00:18:43.023574Z",
     "iopub.status.idle": "2021-06-26T00:18:43.025310Z",
     "shell.execute_reply": "2021-06-26T00:18:43.025786Z"
    },
    "papermill": {
     "duration": 0.035742,
     "end_time": "2021-06-26T00:18:43.025919",
     "exception": false,
     "start_time": "2021-06-26T00:18:42.990177",
     "status": "completed"
    },
    "tags": []
   },
   "outputs": [],
   "source": [
    "# #hide_input\n",
    "# fig, ax = plt.subplots(figsize=(15, 8))\n",
    "# animator = animation.FuncAnimation(fig, draw_barchart, frames=range(g.day.values.min(), g.day.values.max()))\n",
    "# HTML(animator.to_jshtml())\n",
    "# # or use animator.to_html5_video() or animator.save() "
   ]
  },
  {
   "cell_type": "code",
   "execution_count": null,
   "id": "australian-container",
   "metadata": {
    "papermill": {
     "duration": 0.028553,
     "end_time": "2021-06-26T00:18:43.084186",
     "exception": false,
     "start_time": "2021-06-26T00:18:43.055633",
     "status": "completed"
    },
    "tags": []
   },
   "outputs": [],
   "source": []
  },
  {
   "cell_type": "code",
   "execution_count": null,
   "id": "mediterranean-pontiac",
   "metadata": {
    "papermill": {
     "duration": 0.027338,
     "end_time": "2021-06-26T00:18:43.139905",
     "exception": false,
     "start_time": "2021-06-26T00:18:43.112567",
     "status": "completed"
    },
    "tags": []
   },
   "outputs": [],
   "source": []
  },
  {
   "cell_type": "code",
   "execution_count": null,
   "id": "aging-legislature",
   "metadata": {
    "papermill": {
     "duration": 0.02678,
     "end_time": "2021-06-26T00:18:43.193739",
     "exception": false,
     "start_time": "2021-06-26T00:18:43.166959",
     "status": "completed"
    },
    "tags": []
   },
   "outputs": [],
   "source": []
  }
 ],
 "metadata": {
  "kernelspec": {
   "display_name": "Python 3",
   "language": "python",
   "name": "python3"
  },
  "language_info": {
   "codemirror_mode": {
    "name": "ipython",
    "version": 3
   },
   "file_extension": ".py",
   "mimetype": "text/x-python",
   "name": "python",
   "nbconvert_exporter": "python",
   "pygments_lexer": "ipython3",
   "version": "3.6.13"
  },
  "papermill": {
   "duration": 5.596823,
   "end_time": "2021-06-26T00:18:43.529102",
   "environment_variables": {},
   "exception": null,
   "input_path": "2020-03-21-covid19exp.ipynb",
   "output_path": "2020-03-21-covid19exp.ipynb",
   "parameters": {},
   "start_time": "2021-06-26T00:18:37.932279",
   "version": "2.0.0"
  }
 },
 "nbformat": 4,
 "nbformat_minor": 5
}