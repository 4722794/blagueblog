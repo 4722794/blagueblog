{
 "cells": [
  {
   "cell_type": "markdown",
   "id": "muslim-click",
   "metadata": {
    "papermill": {
     "duration": 0.041595,
     "end_time": "2021-08-09T00:23:19.804431",
     "exception": false,
     "start_time": "2021-08-09T00:23:19.762836",
     "status": "completed"
    },
    "tags": []
   },
   "source": [
    "# COVID-19 Case Race\n",
    "> A race chart to see rising cases around the world\n",
    "\n",
    "- author: Hargun Oberoi\n",
    "- image: images/covid-overview.png\n",
    "- hide: false\n",
    "- badges: false"
   ]
  },
  {
   "cell_type": "code",
   "execution_count": 1,
   "id": "proof-material",
   "metadata": {
    "execution": {
     "iopub.execute_input": "2021-08-09T00:23:19.895351Z",
     "iopub.status.busy": "2021-08-09T00:23:19.894720Z",
     "iopub.status.idle": "2021-08-09T00:23:20.299033Z",
     "shell.execute_reply": "2021-08-09T00:23:20.298378Z"
    },
    "papermill": {
     "duration": 0.453265,
     "end_time": "2021-08-09T00:23:20.299193",
     "exception": false,
     "start_time": "2021-08-09T00:23:19.845928",
     "status": "completed"
    },
    "tags": []
   },
   "outputs": [],
   "source": [
    "#hide\n",
    "import numpy as np\n",
    "import pandas as pd\n",
    "from jinja2 import Template\n",
    "from IPython.display import HTML"
   ]
  },
  {
   "cell_type": "code",
   "execution_count": 2,
   "id": "developed-terminology",
   "metadata": {
    "execution": {
     "iopub.execute_input": "2021-08-09T00:23:20.388188Z",
     "iopub.status.busy": "2021-08-09T00:23:20.387336Z",
     "iopub.status.idle": "2021-08-09T00:23:20.390138Z",
     "shell.execute_reply": "2021-08-09T00:23:20.389584Z"
    },
    "papermill": {
     "duration": 0.047414,
     "end_time": "2021-08-09T00:23:20.390267",
     "exception": false,
     "start_time": "2021-08-09T00:23:20.342853",
     "status": "completed"
    },
    "tags": []
   },
   "outputs": [],
   "source": [
    "#hide\n",
    "\n",
    "# FETCH\n",
    "base_url = 'https://raw.githubusercontent.com/pratapvardhan/notebooks/master/covid19/'\n",
    "paths = {\n",
    "    'mapping': base_url + 'mapping_countries.csv',\n",
    "    'overview': base_url + 'overview.tpl'\n",
    "}"
   ]
  },
  {
   "cell_type": "code",
   "execution_count": 3,
   "id": "dynamic-saver",
   "metadata": {
    "execution": {
     "iopub.execute_input": "2021-08-09T00:23:20.479994Z",
     "iopub.status.busy": "2021-08-09T00:23:20.479281Z",
     "iopub.status.idle": "2021-08-09T00:23:20.481883Z",
     "shell.execute_reply": "2021-08-09T00:23:20.482517Z"
    },
    "papermill": {
     "duration": 0.053815,
     "end_time": "2021-08-09T00:23:20.482661",
     "exception": false,
     "start_time": "2021-08-09T00:23:20.428846",
     "status": "completed"
    },
    "tags": []
   },
   "outputs": [
    {
     "data": {
      "text/plain": [
       "'https://raw.githubusercontent.com/pratapvardhan/notebooks/master/covid19/mapping_countries.csv'"
      ]
     },
     "execution_count": 3,
     "metadata": {},
     "output_type": "execute_result"
    }
   ],
   "source": [
    "#hide\n",
    "paths['mapping']"
   ]
  },
  {
   "cell_type": "code",
   "execution_count": 4,
   "id": "urban-software",
   "metadata": {
    "execution": {
     "iopub.execute_input": "2021-08-09T00:23:20.563633Z",
     "iopub.status.busy": "2021-08-09T00:23:20.562992Z",
     "iopub.status.idle": "2021-08-09T00:23:20.565743Z",
     "shell.execute_reply": "2021-08-09T00:23:20.565249Z"
    },
    "papermill": {
     "duration": 0.045426,
     "end_time": "2021-08-09T00:23:20.565860",
     "exception": false,
     "start_time": "2021-08-09T00:23:20.520434",
     "status": "completed"
    },
    "tags": []
   },
   "outputs": [],
   "source": [
    "#hide\n",
    "def get_mappings(url):\n",
    "    df = pd.read_csv(url)\n",
    "    return {\n",
    "        'df': df,\n",
    "        'replace.country': dict(df.dropna(subset=['Name']).set_index('Country')['Name']),\n",
    "        'map.continent': dict(df.set_index('Name')['Continent'])\n",
    "    }"
   ]
  },
  {
   "cell_type": "code",
   "execution_count": 5,
   "id": "intimate-machinery",
   "metadata": {
    "execution": {
     "iopub.execute_input": "2021-08-09T00:23:20.644674Z",
     "iopub.status.busy": "2021-08-09T00:23:20.644043Z",
     "iopub.status.idle": "2021-08-09T00:23:20.677562Z",
     "shell.execute_reply": "2021-08-09T00:23:20.677052Z"
    },
    "papermill": {
     "duration": 0.075654,
     "end_time": "2021-08-09T00:23:20.677682",
     "exception": false,
     "start_time": "2021-08-09T00:23:20.602028",
     "status": "completed"
    },
    "tags": []
   },
   "outputs": [],
   "source": [
    "#hide\n",
    "mapping = get_mappings(paths['mapping'])"
   ]
  },
  {
   "cell_type": "code",
   "execution_count": 6,
   "id": "certified-tactics",
   "metadata": {
    "execution": {
     "iopub.execute_input": "2021-08-09T00:23:20.758963Z",
     "iopub.status.busy": "2021-08-09T00:23:20.758214Z",
     "iopub.status.idle": "2021-08-09T00:23:20.760172Z",
     "shell.execute_reply": "2021-08-09T00:23:20.760709Z"
    },
    "papermill": {
     "duration": 0.04537,
     "end_time": "2021-08-09T00:23:20.760850",
     "exception": false,
     "start_time": "2021-08-09T00:23:20.715480",
     "status": "completed"
    },
    "tags": []
   },
   "outputs": [],
   "source": [
    "#hide\n",
    "def get_template(path):\n",
    "    from urllib.parse import urlparse\n",
    "    if bool(urlparse(path).netloc):\n",
    "        from urllib.request import urlopen\n",
    "        return urlopen(path).read().decode('utf8')\n",
    "    return open(path).read()"
   ]
  },
  {
   "cell_type": "code",
   "execution_count": 7,
   "id": "realistic-blast",
   "metadata": {
    "execution": {
     "iopub.execute_input": "2021-08-09T00:23:20.844972Z",
     "iopub.status.busy": "2021-08-09T00:23:20.844307Z",
     "iopub.status.idle": "2021-08-09T00:23:20.847090Z",
     "shell.execute_reply": "2021-08-09T00:23:20.846408Z"
    },
    "papermill": {
     "duration": 0.048374,
     "end_time": "2021-08-09T00:23:20.847224",
     "exception": false,
     "start_time": "2021-08-09T00:23:20.798850",
     "status": "completed"
    },
    "tags": []
   },
   "outputs": [],
   "source": [
    "#hide\n",
    "def get_frame(name):\n",
    "    url = (\n",
    "        'https://raw.githubusercontent.com/CSSEGISandData/COVID-19/master/csse_covid_19_data/'\n",
    "        f'csse_covid_19_time_series/time_series_covid19_{name}_global.csv')\n",
    "    df = pd.read_csv(url)\n",
    "    # rename countries\n",
    "    df['Country/Region'] = df['Country/Region'].replace(mapping['replace.country'])\n",
    "    return df"
   ]
  },
  {
   "cell_type": "code",
   "execution_count": 8,
   "id": "affiliated-characterization",
   "metadata": {
    "execution": {
     "iopub.execute_input": "2021-08-09T00:23:20.930683Z",
     "iopub.status.busy": "2021-08-09T00:23:20.929920Z",
     "iopub.status.idle": "2021-08-09T00:23:20.932429Z",
     "shell.execute_reply": "2021-08-09T00:23:20.931762Z"
    },
    "papermill": {
     "duration": 0.046797,
     "end_time": "2021-08-09T00:23:20.932558",
     "exception": false,
     "start_time": "2021-08-09T00:23:20.885761",
     "status": "completed"
    },
    "tags": []
   },
   "outputs": [],
   "source": [
    "#hide\n",
    "def get_dates(df):\n",
    "    dt_cols = df.columns[~df.columns.isin(['Province/State', 'Country/Region', 'Lat', 'Long'])]\n",
    "    LAST_DATE_I = -1\n",
    "    # sometimes last column may be empty, then go backwards\n",
    "    for i in range(-1, -len(dt_cols), -1):\n",
    "        if not df[dt_cols[i]].fillna(0).eq(0).all():\n",
    "            LAST_DATE_I = i\n",
    "            break\n",
    "    return LAST_DATE_I, dt_cols"
   ]
  },
  {
   "cell_type": "code",
   "execution_count": 9,
   "id": "recent-optimization",
   "metadata": {
    "execution": {
     "iopub.execute_input": "2021-08-09T00:23:21.019683Z",
     "iopub.status.busy": "2021-08-09T00:23:21.019012Z",
     "iopub.status.idle": "2021-08-09T00:23:21.376412Z",
     "shell.execute_reply": "2021-08-09T00:23:21.375793Z"
    },
    "papermill": {
     "duration": 0.402777,
     "end_time": "2021-08-09T00:23:21.376564",
     "exception": false,
     "start_time": "2021-08-09T00:23:20.973787",
     "status": "completed"
    },
    "tags": []
   },
   "outputs": [],
   "source": [
    "#hide\n",
    "COL_REGION = 'Country/Region'\n",
    "# Confirmed, Recovered, Deaths\n",
    "df = get_frame('confirmed')\n",
    "# dft_: timeseries, dfc_: today country agg\n",
    "dft_cases = df\n",
    "dft_deaths = get_frame('deaths')\n",
    "dft_recovered = get_frame('recovered')\n",
    "LAST_DATE_I, dt_cols = get_dates(df)"
   ]
  },
  {
   "cell_type": "code",
   "execution_count": 10,
   "id": "absolute-copper",
   "metadata": {
    "execution": {
     "iopub.execute_input": "2021-08-09T00:23:21.465939Z",
     "iopub.status.busy": "2021-08-09T00:23:21.465192Z",
     "iopub.status.idle": "2021-08-09T00:23:21.467237Z",
     "shell.execute_reply": "2021-08-09T00:23:21.467931Z"
    },
    "papermill": {
     "duration": 0.049051,
     "end_time": "2021-08-09T00:23:21.468092",
     "exception": false,
     "start_time": "2021-08-09T00:23:21.419041",
     "status": "completed"
    },
    "tags": []
   },
   "outputs": [],
   "source": [
    "#hide\n",
    "LAST_DATE_I, dt_cols = get_dates(df)\n",
    "dt_today =dt_cols[LAST_DATE_I]\n",
    "# dt_5day = dt_cols[LAST_DATE_I - 5]\n",
    "dt_yday = dt_cols[LAST_DATE_I - 1]"
   ]
  },
  {
   "cell_type": "code",
   "execution_count": 11,
   "id": "restricted-sheriff",
   "metadata": {
    "execution": {
     "iopub.execute_input": "2021-08-09T00:23:21.556581Z",
     "iopub.status.busy": "2021-08-09T00:23:21.555900Z",
     "iopub.status.idle": "2021-08-09T00:23:21.564060Z",
     "shell.execute_reply": "2021-08-09T00:23:21.563372Z"
    },
    "papermill": {
     "duration": 0.056677,
     "end_time": "2021-08-09T00:23:21.564190",
     "exception": false,
     "start_time": "2021-08-09T00:23:21.507513",
     "status": "completed"
    },
    "tags": []
   },
   "outputs": [],
   "source": [
    "#hide\n",
    "dfc_cases = dft_cases.groupby(COL_REGION)[dt_today].sum()\n",
    "dfc_deaths = dft_deaths.groupby(COL_REGION)[dt_today].sum()\n",
    "# dfp_cases = dft_cases.groupby(COL_REGION)[dt_5day].sum()\n",
    "# dfp_deaths = dft_deaths.groupby(COL_REGION)[dt_5day].sum()\n",
    "dfp_cases = dft_cases.groupby(COL_REGION)[dt_yday].sum()\n",
    "dfp_deaths = dft_deaths.groupby(COL_REGION)[dt_yday].sum()"
   ]
  },
  {
   "cell_type": "code",
   "execution_count": 12,
   "id": "deluxe-hepatitis",
   "metadata": {
    "execution": {
     "iopub.execute_input": "2021-08-09T00:23:21.652213Z",
     "iopub.status.busy": "2021-08-09T00:23:21.651549Z",
     "iopub.status.idle": "2021-08-09T00:23:21.657644Z",
     "shell.execute_reply": "2021-08-09T00:23:21.657120Z"
    },
    "papermill": {
     "duration": 0.054889,
     "end_time": "2021-08-09T00:23:21.657773",
     "exception": false,
     "start_time": "2021-08-09T00:23:21.602884",
     "status": "completed"
    },
    "tags": []
   },
   "outputs": [],
   "source": [
    "#hide\n",
    "df_table = (pd.DataFrame(dict(Cases = dfc_cases, Deaths = dfc_deaths, PCases = dfp_cases, PDeaths = dfp_deaths))\n",
    "            .sort_values(by = ['Cases','Deaths'], ascending = [False, False])\n",
    "            .reset_index())"
   ]
  },
  {
   "cell_type": "code",
   "execution_count": 13,
   "id": "educational-chancellor",
   "metadata": {
    "execution": {
     "iopub.execute_input": "2021-08-09T00:23:21.758054Z",
     "iopub.status.busy": "2021-08-09T00:23:21.757339Z",
     "iopub.status.idle": "2021-08-09T00:23:21.766783Z",
     "shell.execute_reply": "2021-08-09T00:23:21.767296Z"
    },
    "papermill": {
     "duration": 0.070872,
     "end_time": "2021-08-09T00:23:21.767453",
     "exception": false,
     "start_time": "2021-08-09T00:23:21.696581",
     "status": "completed"
    },
    "tags": []
   },
   "outputs": [
    {
     "data": {
      "text/html": [
       "<div>\n",
       "<style scoped>\n",
       "    .dataframe tbody tr th:only-of-type {\n",
       "        vertical-align: middle;\n",
       "    }\n",
       "\n",
       "    .dataframe tbody tr th {\n",
       "        vertical-align: top;\n",
       "    }\n",
       "\n",
       "    .dataframe thead th {\n",
       "        text-align: right;\n",
       "    }\n",
       "</style>\n",
       "<table border=\"1\" class=\"dataframe\">\n",
       "  <thead>\n",
       "    <tr style=\"text-align: right;\">\n",
       "      <th></th>\n",
       "      <th>Country/Region</th>\n",
       "      <th>Cases</th>\n",
       "      <th>Deaths</th>\n",
       "      <th>PCases</th>\n",
       "      <th>PDeaths</th>\n",
       "      <th>Cases (+)</th>\n",
       "      <th>Deaths (+)</th>\n",
       "      <th>Fatality Rate</th>\n",
       "      <th>Continent</th>\n",
       "    </tr>\n",
       "  </thead>\n",
       "  <tbody>\n",
       "    <tr>\n",
       "      <th>0</th>\n",
       "      <td>US</td>\n",
       "      <td>35739551</td>\n",
       "      <td>616718</td>\n",
       "      <td>35695469</td>\n",
       "      <td>616493</td>\n",
       "      <td>44082</td>\n",
       "      <td>225</td>\n",
       "      <td>1.73</td>\n",
       "      <td>North America</td>\n",
       "    </tr>\n",
       "    <tr>\n",
       "      <th>1</th>\n",
       "      <td>India</td>\n",
       "      <td>31934455</td>\n",
       "      <td>427862</td>\n",
       "      <td>31895385</td>\n",
       "      <td>427371</td>\n",
       "      <td>39070</td>\n",
       "      <td>491</td>\n",
       "      <td>1.34</td>\n",
       "      <td>Asia</td>\n",
       "    </tr>\n",
       "    <tr>\n",
       "      <th>2</th>\n",
       "      <td>Brazil</td>\n",
       "      <td>20151779</td>\n",
       "      <td>562752</td>\n",
       "      <td>20108746</td>\n",
       "      <td>561762</td>\n",
       "      <td>43033</td>\n",
       "      <td>990</td>\n",
       "      <td>2.79</td>\n",
       "      <td>South America</td>\n",
       "    </tr>\n",
       "    <tr>\n",
       "      <th>3</th>\n",
       "      <td>France</td>\n",
       "      <td>6350899</td>\n",
       "      <td>112379</td>\n",
       "      <td>6325144</td>\n",
       "      <td>112347</td>\n",
       "      <td>25755</td>\n",
       "      <td>32</td>\n",
       "      <td>1.77</td>\n",
       "      <td>Europe</td>\n",
       "    </tr>\n",
       "    <tr>\n",
       "      <th>4</th>\n",
       "      <td>Russia</td>\n",
       "      <td>6340370</td>\n",
       "      <td>161343</td>\n",
       "      <td>6318643</td>\n",
       "      <td>160574</td>\n",
       "      <td>21727</td>\n",
       "      <td>769</td>\n",
       "      <td>2.54</td>\n",
       "      <td>Europe</td>\n",
       "    </tr>\n",
       "  </tbody>\n",
       "</table>\n",
       "</div>"
      ],
      "text/plain": [
       "  Country/Region     Cases  Deaths    PCases  PDeaths  Cases (+)  Deaths (+)  \\\n",
       "0             US  35739551  616718  35695469   616493      44082         225   \n",
       "1          India  31934455  427862  31895385   427371      39070         491   \n",
       "2         Brazil  20151779  562752  20108746   561762      43033         990   \n",
       "3         France   6350899  112379   6325144   112347      25755          32   \n",
       "4         Russia   6340370  161343   6318643   160574      21727         769   \n",
       "\n",
       "   Fatality Rate      Continent  \n",
       "0           1.73  North America  \n",
       "1           1.34           Asia  \n",
       "2           2.79  South America  \n",
       "3           1.77         Europe  \n",
       "4           2.54         Europe  "
      ]
     },
     "execution_count": 13,
     "metadata": {},
     "output_type": "execute_result"
    }
   ],
   "source": [
    "#hide\n",
    "for c in 'Cases, Deaths'.split(', '):\n",
    "    df_table[f'{c} (+)'] = (df_table[c] - df_table[f'P{c}']).clip(0)\n",
    "    #Clip ça veut dire, les chiffres negatif sont interdit\n",
    "df_table['Fatality Rate'] = (100* df_table['Deaths']/ df_table['Cases']).round(2)\n",
    "df_table['Continent'] = df_table['Country/Region'].map(mapping['map.continent'])\n",
    "df_table.head(5)"
   ]
  },
  {
   "cell_type": "code",
   "execution_count": 14,
   "id": "aboriginal-bulgaria",
   "metadata": {
    "execution": {
     "iopub.execute_input": "2021-08-09T00:23:21.851000Z",
     "iopub.status.busy": "2021-08-09T00:23:21.850204Z",
     "iopub.status.idle": "2021-08-09T00:23:21.852889Z",
     "shell.execute_reply": "2021-08-09T00:23:21.852365Z"
    },
    "papermill": {
     "duration": 0.046489,
     "end_time": "2021-08-09T00:23:21.853014",
     "exception": false,
     "start_time": "2021-08-09T00:23:21.806525",
     "status": "completed"
    },
    "tags": []
   },
   "outputs": [],
   "source": [
    "#hide\n",
    "#delete problematic countries from table\n",
    "df_table = df_table[~df_table['Country/Region'].isin(['Cape Verde', 'Cruise Ship', 'Kosovo'])]"
   ]
  },
  {
   "cell_type": "code",
   "execution_count": 15,
   "id": "fantastic-effect",
   "metadata": {
    "execution": {
     "iopub.execute_input": "2021-08-09T00:23:21.938964Z",
     "iopub.status.busy": "2021-08-09T00:23:21.938245Z",
     "iopub.status.idle": "2021-08-09T00:23:21.961269Z",
     "shell.execute_reply": "2021-08-09T00:23:21.960757Z"
    },
    "papermill": {
     "duration": 0.06921,
     "end_time": "2021-08-09T00:23:21.961425",
     "exception": false,
     "start_time": "2021-08-09T00:23:21.892215",
     "status": "completed"
    },
    "tags": []
   },
   "outputs": [
    {
     "data": {
      "text/html": [
       "<div>\n",
       "<style scoped>\n",
       "    .dataframe tbody tr th:only-of-type {\n",
       "        vertical-align: middle;\n",
       "    }\n",
       "\n",
       "    .dataframe tbody tr th {\n",
       "        vertical-align: top;\n",
       "    }\n",
       "\n",
       "    .dataframe thead th {\n",
       "        text-align: right;\n",
       "    }\n",
       "</style>\n",
       "<table border=\"1\" class=\"dataframe\">\n",
       "  <thead>\n",
       "    <tr style=\"text-align: right;\">\n",
       "      <th></th>\n",
       "      <th>Country/Region</th>\n",
       "      <th>Cases</th>\n",
       "      <th>Deaths</th>\n",
       "      <th>PCases</th>\n",
       "      <th>PDeaths</th>\n",
       "      <th>Cases (+)</th>\n",
       "      <th>Deaths (+)</th>\n",
       "      <th>Fatality Rate</th>\n",
       "      <th>Continent</th>\n",
       "    </tr>\n",
       "  </thead>\n",
       "  <tbody>\n",
       "    <tr>\n",
       "      <th>0</th>\n",
       "      <td>US</td>\n",
       "      <td>35739551</td>\n",
       "      <td>616718</td>\n",
       "      <td>35695469</td>\n",
       "      <td>616493</td>\n",
       "      <td>44082</td>\n",
       "      <td>225</td>\n",
       "      <td>1.7</td>\n",
       "      <td>North America</td>\n",
       "    </tr>\n",
       "    <tr>\n",
       "      <th>1</th>\n",
       "      <td>India</td>\n",
       "      <td>31934455</td>\n",
       "      <td>427862</td>\n",
       "      <td>31895385</td>\n",
       "      <td>427371</td>\n",
       "      <td>39070</td>\n",
       "      <td>491</td>\n",
       "      <td>1.3</td>\n",
       "      <td>Asia</td>\n",
       "    </tr>\n",
       "    <tr>\n",
       "      <th>2</th>\n",
       "      <td>Brazil</td>\n",
       "      <td>20151779</td>\n",
       "      <td>562752</td>\n",
       "      <td>20108746</td>\n",
       "      <td>561762</td>\n",
       "      <td>43033</td>\n",
       "      <td>990</td>\n",
       "      <td>2.8</td>\n",
       "      <td>South America</td>\n",
       "    </tr>\n",
       "    <tr>\n",
       "      <th>3</th>\n",
       "      <td>France</td>\n",
       "      <td>6350899</td>\n",
       "      <td>112379</td>\n",
       "      <td>6325144</td>\n",
       "      <td>112347</td>\n",
       "      <td>25755</td>\n",
       "      <td>32</td>\n",
       "      <td>1.8</td>\n",
       "      <td>Europe</td>\n",
       "    </tr>\n",
       "    <tr>\n",
       "      <th>4</th>\n",
       "      <td>Russia</td>\n",
       "      <td>6340370</td>\n",
       "      <td>161343</td>\n",
       "      <td>6318643</td>\n",
       "      <td>160574</td>\n",
       "      <td>21727</td>\n",
       "      <td>769</td>\n",
       "      <td>2.5</td>\n",
       "      <td>Europe</td>\n",
       "    </tr>\n",
       "  </tbody>\n",
       "</table>\n",
       "</div>"
      ],
      "text/plain": [
       "  Country/Region     Cases  Deaths    PCases  PDeaths  Cases (+)  Deaths (+)  \\\n",
       "0             US  35739551  616718  35695469   616493      44082         225   \n",
       "1          India  31934455  427862  31895385   427371      39070         491   \n",
       "2         Brazil  20151779  562752  20108746   561762      43033         990   \n",
       "3         France   6350899  112379   6325144   112347      25755          32   \n",
       "4         Russia   6340370  161343   6318643   160574      21727         769   \n",
       "\n",
       "   Fatality Rate      Continent  \n",
       "0            1.7  North America  \n",
       "1            1.3           Asia  \n",
       "2            2.8  South America  \n",
       "3            1.8         Europe  \n",
       "4            2.5         Europe  "
      ]
     },
     "execution_count": 15,
     "metadata": {},
     "output_type": "execute_result"
    }
   ],
   "source": [
    "#hide\n",
    "df_table = (pd.DataFrame(dict(Cases=dfc_cases, Deaths=dfc_deaths, PCases=dfp_cases, PDeaths=dfp_deaths))\n",
    "             .sort_values(by=['Cases', 'Deaths'], ascending=[False, False])\n",
    "             .reset_index())\n",
    "df_table.rename(columns={'index': 'Country/Region'}, inplace=True)\n",
    "for c in 'Cases, Deaths'.split(', '):\n",
    "    df_table[f'{c} (+)'] = (df_table[c] - df_table[f'P{c}']).clip(0)  # DATA BUG\n",
    "df_table['Fatality Rate'] = (100 * df_table['Deaths'] / df_table['Cases']).round(1)\n",
    "df_table['Continent'] = df_table['Country/Region'].map(mapping['map.continent'])\n",
    "df_table.head(5)"
   ]
  },
  {
   "cell_type": "code",
   "execution_count": 16,
   "id": "fewer-occasion",
   "metadata": {
    "execution": {
     "iopub.execute_input": "2021-08-09T00:23:22.045441Z",
     "iopub.status.busy": "2021-08-09T00:23:22.044817Z",
     "iopub.status.idle": "2021-08-09T00:23:22.048240Z",
     "shell.execute_reply": "2021-08-09T00:23:22.046773Z"
    },
    "papermill": {
     "duration": 0.048943,
     "end_time": "2021-08-09T00:23:22.048381",
     "exception": false,
     "start_time": "2021-08-09T00:23:21.999438",
     "status": "completed"
    },
    "tags": []
   },
   "outputs": [],
   "source": [
    "#hide\n",
    "#delete problematic countries from table\n",
    "df_table = df_table[~df_table['Country/Region'].isin(['Cape Verde', 'Cruise Ship', 'Kosovo'])]"
   ]
  },
  {
   "cell_type": "code",
   "execution_count": 17,
   "id": "related-center",
   "metadata": {
    "execution": {
     "iopub.execute_input": "2021-08-09T00:23:22.155599Z",
     "iopub.status.busy": "2021-08-09T00:23:22.152881Z",
     "iopub.status.idle": "2021-08-09T00:23:22.157710Z",
     "shell.execute_reply": "2021-08-09T00:23:22.158437Z"
    },
    "papermill": {
     "duration": 0.066677,
     "end_time": "2021-08-09T00:23:22.158590",
     "exception": false,
     "start_time": "2021-08-09T00:23:22.091913",
     "status": "completed"
    },
    "tags": []
   },
   "outputs": [],
   "source": [
    "#hide\n",
    "metrics = [df_table.columns[index] for index in [1,2,5,6]]\n",
    "# s_china = df_table[df_table['Country/Region'].eq('China')][metrics].sum().add_prefix('China ')\n",
    "s_us = df_table[df_table['Country/Region'].eq('US')][metrics].sum().add_prefix('US ')\n",
    "s_eu = df_table[df_table['Continent'].eq('Europe')][metrics].sum().add_prefix('EU ')\n",
    "s_ind = df_table[df_table['Country/Region'].eq('India')][metrics].sum().add_prefix('India ')\n",
    "summary = {'updated': pd.to_datetime(dt_today), 'since': pd.to_datetime(dt_yday)}\n",
    "summary = {'updated': pd.to_datetime(dt_today), 'since': pd.to_datetime(dt_yday)}\n",
    "summary = {**summary, **df_table[metrics].sum(), **s_ind, **s_us, **s_eu}"
   ]
  },
  {
   "cell_type": "code",
   "execution_count": 18,
   "id": "engaging-syndrome",
   "metadata": {
    "execution": {
     "iopub.execute_input": "2021-08-09T00:23:22.243249Z",
     "iopub.status.busy": "2021-08-09T00:23:22.242515Z",
     "iopub.status.idle": "2021-08-09T00:23:22.259523Z",
     "shell.execute_reply": "2021-08-09T00:23:22.258989Z"
    },
    "papermill": {
     "duration": 0.062842,
     "end_time": "2021-08-09T00:23:22.259656",
     "exception": false,
     "start_time": "2021-08-09T00:23:22.196814",
     "status": "completed"
    },
    "tags": []
   },
   "outputs": [],
   "source": [
    "#hide\n",
    "dft_ct_new_cases = dft_cases.groupby(COL_REGION)[dt_cols].sum().diff(axis=1).fillna(0).astype(int)"
   ]
  },
  {
   "cell_type": "code",
   "execution_count": 19,
   "id": "neutral-assignment",
   "metadata": {
    "execution": {
     "iopub.execute_input": "2021-08-09T00:23:22.342193Z",
     "iopub.status.busy": "2021-08-09T00:23:22.341536Z",
     "iopub.status.idle": "2021-08-09T00:23:22.344537Z",
     "shell.execute_reply": "2021-08-09T00:23:22.344007Z"
    },
    "papermill": {
     "duration": 0.046551,
     "end_time": "2021-08-09T00:23:22.344659",
     "exception": false,
     "start_time": "2021-08-09T00:23:22.298108",
     "status": "completed"
    },
    "tags": []
   },
   "outputs": [],
   "source": [
    "#hide\n",
    "everydaycases = dft_ct_new_cases.cumsum(axis=1)"
   ]
  },
  {
   "cell_type": "code",
   "execution_count": 20,
   "id": "parliamentary-calgary",
   "metadata": {
    "execution": {
     "iopub.execute_input": "2021-08-09T00:23:22.437543Z",
     "iopub.status.busy": "2021-08-09T00:23:22.436829Z",
     "iopub.status.idle": "2021-08-09T00:23:23.136737Z",
     "shell.execute_reply": "2021-08-09T00:23:23.136046Z"
    },
    "papermill": {
     "duration": 0.744193,
     "end_time": "2021-08-09T00:23:23.136877",
     "exception": false,
     "start_time": "2021-08-09T00:23:22.392684",
     "status": "completed"
    },
    "tags": []
   },
   "outputs": [],
   "source": [
    "#hide\n",
    "import pandas as pd\n",
    "import matplotlib.pyplot as plt\n",
    "import matplotlib.ticker as ticker\n",
    "import matplotlib.animation as animation\n",
    "from IPython.display import HTML"
   ]
  },
  {
   "cell_type": "code",
   "execution_count": 21,
   "id": "lasting-extraction",
   "metadata": {
    "execution": {
     "iopub.execute_input": "2021-08-09T00:23:23.225022Z",
     "iopub.status.busy": "2021-08-09T00:23:23.224287Z",
     "iopub.status.idle": "2021-08-09T00:23:23.230609Z",
     "shell.execute_reply": "2021-08-09T00:23:23.230054Z"
    },
    "papermill": {
     "duration": 0.051017,
     "end_time": "2021-08-09T00:23:23.230756",
     "exception": false,
     "start_time": "2021-08-09T00:23:23.179739",
     "status": "completed"
    },
    "tags": []
   },
   "outputs": [],
   "source": [
    "#hide\n",
    "t = everydaycases.stack()"
   ]
  },
  {
   "cell_type": "code",
   "execution_count": 22,
   "id": "premier-sleeve",
   "metadata": {
    "execution": {
     "iopub.execute_input": "2021-08-09T00:23:23.315505Z",
     "iopub.status.busy": "2021-08-09T00:23:23.314724Z",
     "iopub.status.idle": "2021-08-09T00:23:23.323838Z",
     "shell.execute_reply": "2021-08-09T00:23:23.324445Z"
    },
    "papermill": {
     "duration": 0.053268,
     "end_time": "2021-08-09T00:23:23.324592",
     "exception": false,
     "start_time": "2021-08-09T00:23:23.271324",
     "status": "completed"
    },
    "tags": []
   },
   "outputs": [],
   "source": [
    "#hide\n",
    "g = t.reset_index(['Country/Region'])"
   ]
  },
  {
   "cell_type": "code",
   "execution_count": 23,
   "id": "distributed-pittsburgh",
   "metadata": {
    "execution": {
     "iopub.execute_input": "2021-08-09T00:23:23.406884Z",
     "iopub.status.busy": "2021-08-09T00:23:23.406195Z",
     "iopub.status.idle": "2021-08-09T00:23:23.408803Z",
     "shell.execute_reply": "2021-08-09T00:23:23.408323Z"
    },
    "papermill": {
     "duration": 0.046707,
     "end_time": "2021-08-09T00:23:23.408923",
     "exception": false,
     "start_time": "2021-08-09T00:23:23.362216",
     "status": "completed"
    },
    "tags": []
   },
   "outputs": [],
   "source": [
    "#hide\n",
    "g.index.name = 'date'"
   ]
  },
  {
   "cell_type": "code",
   "execution_count": 24,
   "id": "naked-donor",
   "metadata": {
    "execution": {
     "iopub.execute_input": "2021-08-09T00:23:23.492029Z",
     "iopub.status.busy": "2021-08-09T00:23:23.491355Z",
     "iopub.status.idle": "2021-08-09T00:23:23.493912Z",
     "shell.execute_reply": "2021-08-09T00:23:23.493290Z"
    },
    "papermill": {
     "duration": 0.04748,
     "end_time": "2021-08-09T00:23:23.494047",
     "exception": false,
     "start_time": "2021-08-09T00:23:23.446567",
     "status": "completed"
    },
    "tags": []
   },
   "outputs": [],
   "source": [
    "# #hide\n",
    "# g = g.reset_index(['date'])"
   ]
  },
  {
   "cell_type": "code",
   "execution_count": 25,
   "id": "incomplete-mustang",
   "metadata": {
    "execution": {
     "iopub.execute_input": "2021-08-09T00:23:23.576650Z",
     "iopub.status.busy": "2021-08-09T00:23:23.576016Z",
     "iopub.status.idle": "2021-08-09T00:23:23.578484Z",
     "shell.execute_reply": "2021-08-09T00:23:23.577911Z"
    },
    "papermill": {
     "duration": 0.046347,
     "end_time": "2021-08-09T00:23:23.578626",
     "exception": false,
     "start_time": "2021-08-09T00:23:23.532279",
     "status": "completed"
    },
    "tags": []
   },
   "outputs": [],
   "source": [
    "#hide\n",
    "# g.head()"
   ]
  },
  {
   "cell_type": "code",
   "execution_count": 26,
   "id": "specific-kruger",
   "metadata": {
    "execution": {
     "iopub.execute_input": "2021-08-09T00:23:23.660681Z",
     "iopub.status.busy": "2021-08-09T00:23:23.660042Z",
     "iopub.status.idle": "2021-08-09T00:23:23.661994Z",
     "shell.execute_reply": "2021-08-09T00:23:23.662623Z"
    },
    "papermill": {
     "duration": 0.045571,
     "end_time": "2021-08-09T00:23:23.662760",
     "exception": false,
     "start_time": "2021-08-09T00:23:23.617189",
     "status": "completed"
    },
    "tags": []
   },
   "outputs": [],
   "source": [
    "#hide\n",
    "# g.columns = ['date','country','cases']"
   ]
  },
  {
   "cell_type": "code",
   "execution_count": 27,
   "id": "tender-conversion",
   "metadata": {
    "execution": {
     "iopub.execute_input": "2021-08-09T00:23:23.746166Z",
     "iopub.status.busy": "2021-08-09T00:23:23.745562Z",
     "iopub.status.idle": "2021-08-09T00:23:23.747756Z",
     "shell.execute_reply": "2021-08-09T00:23:23.748325Z"
    },
    "papermill": {
     "duration": 0.045049,
     "end_time": "2021-08-09T00:23:23.748464",
     "exception": false,
     "start_time": "2021-08-09T00:23:23.703415",
     "status": "completed"
    },
    "tags": []
   },
   "outputs": [],
   "source": [
    "#hide\n",
    "# g['continent'] = g.country"
   ]
  },
  {
   "cell_type": "code",
   "execution_count": 28,
   "id": "substantial-wilderness",
   "metadata": {
    "execution": {
     "iopub.execute_input": "2021-08-09T00:23:23.833254Z",
     "iopub.status.busy": "2021-08-09T00:23:23.832595Z",
     "iopub.status.idle": "2021-08-09T00:23:23.835219Z",
     "shell.execute_reply": "2021-08-09T00:23:23.834660Z"
    },
    "papermill": {
     "duration": 0.046021,
     "end_time": "2021-08-09T00:23:23.835406",
     "exception": false,
     "start_time": "2021-08-09T00:23:23.789385",
     "status": "completed"
    },
    "tags": []
   },
   "outputs": [],
   "source": [
    "#hide\n",
    "# cols = list(g.columns.values)"
   ]
  },
  {
   "cell_type": "code",
   "execution_count": 29,
   "id": "solved-farming",
   "metadata": {
    "execution": {
     "iopub.execute_input": "2021-08-09T00:23:23.918784Z",
     "iopub.status.busy": "2021-08-09T00:23:23.918064Z",
     "iopub.status.idle": "2021-08-09T00:23:23.920217Z",
     "shell.execute_reply": "2021-08-09T00:23:23.920837Z"
    },
    "papermill": {
     "duration": 0.045679,
     "end_time": "2021-08-09T00:23:23.920985",
     "exception": false,
     "start_time": "2021-08-09T00:23:23.875306",
     "status": "completed"
    },
    "tags": []
   },
   "outputs": [],
   "source": [
    "#hide\n",
    "# cols.insert(0, cols.pop())"
   ]
  },
  {
   "cell_type": "code",
   "execution_count": 30,
   "id": "executed-adoption",
   "metadata": {
    "execution": {
     "iopub.execute_input": "2021-08-09T00:23:24.005692Z",
     "iopub.status.busy": "2021-08-09T00:23:24.004972Z",
     "iopub.status.idle": "2021-08-09T00:23:24.007183Z",
     "shell.execute_reply": "2021-08-09T00:23:24.007719Z"
    },
    "papermill": {
     "duration": 0.046683,
     "end_time": "2021-08-09T00:23:24.007861",
     "exception": false,
     "start_time": "2021-08-09T00:23:23.961178",
     "status": "completed"
    },
    "tags": []
   },
   "outputs": [],
   "source": [
    "#hide\n",
    "# g = g[cols]"
   ]
  },
  {
   "cell_type": "code",
   "execution_count": 31,
   "id": "subject-dublin",
   "metadata": {
    "execution": {
     "iopub.execute_input": "2021-08-09T00:23:24.092461Z",
     "iopub.status.busy": "2021-08-09T00:23:24.091650Z",
     "iopub.status.idle": "2021-08-09T00:23:24.094765Z",
     "shell.execute_reply": "2021-08-09T00:23:24.094202Z"
    },
    "papermill": {
     "duration": 0.047211,
     "end_time": "2021-08-09T00:23:24.094920",
     "exception": false,
     "start_time": "2021-08-09T00:23:24.047709",
     "status": "completed"
    },
    "tags": []
   },
   "outputs": [],
   "source": [
    "#hide\n",
    "# g['continent'] = g['continent'].map(mapping['map.continent'])"
   ]
  },
  {
   "cell_type": "code",
   "execution_count": 32,
   "id": "freelance-scout",
   "metadata": {
    "execution": {
     "iopub.execute_input": "2021-08-09T00:23:24.178629Z",
     "iopub.status.busy": "2021-08-09T00:23:24.177991Z",
     "iopub.status.idle": "2021-08-09T00:23:24.179504Z",
     "shell.execute_reply": "2021-08-09T00:23:24.180205Z"
    },
    "papermill": {
     "duration": 0.044424,
     "end_time": "2021-08-09T00:23:24.180398",
     "exception": false,
     "start_time": "2021-08-09T00:23:24.135974",
     "status": "completed"
    },
    "tags": []
   },
   "outputs": [],
   "source": [
    "#hide\n",
    "# g.head()"
   ]
  },
  {
   "cell_type": "code",
   "execution_count": 33,
   "id": "limited-engine",
   "metadata": {
    "execution": {
     "iopub.execute_input": "2021-08-09T00:23:24.259670Z",
     "iopub.status.busy": "2021-08-09T00:23:24.259087Z",
     "iopub.status.idle": "2021-08-09T00:23:24.261506Z",
     "shell.execute_reply": "2021-08-09T00:23:24.260842Z"
    },
    "papermill": {
     "duration": 0.042983,
     "end_time": "2021-08-09T00:23:24.261653",
     "exception": false,
     "start_time": "2021-08-09T00:23:24.218670",
     "status": "completed"
    },
    "tags": []
   },
   "outputs": [],
   "source": [
    "# hide\n",
    "# g['date'] = g['date'].astype('datetime64[ns]')"
   ]
  },
  {
   "cell_type": "code",
   "execution_count": 34,
   "id": "sophisticated-supervisor",
   "metadata": {
    "execution": {
     "iopub.execute_input": "2021-08-09T00:23:24.343833Z",
     "iopub.status.busy": "2021-08-09T00:23:24.343262Z",
     "iopub.status.idle": "2021-08-09T00:23:24.345973Z",
     "shell.execute_reply": "2021-08-09T00:23:24.345439Z"
    },
    "papermill": {
     "duration": 0.045157,
     "end_time": "2021-08-09T00:23:24.346090",
     "exception": false,
     "start_time": "2021-08-09T00:23:24.300933",
     "status": "completed"
    },
    "tags": []
   },
   "outputs": [],
   "source": [
    "#hide\n",
    "# g['date'] = g.date.dt.dayofyear"
   ]
  },
  {
   "cell_type": "code",
   "execution_count": 35,
   "id": "inside-dubai",
   "metadata": {
    "execution": {
     "iopub.execute_input": "2021-08-09T00:23:24.426914Z",
     "iopub.status.busy": "2021-08-09T00:23:24.426156Z",
     "iopub.status.idle": "2021-08-09T00:23:24.427944Z",
     "shell.execute_reply": "2021-08-09T00:23:24.428449Z"
    },
    "papermill": {
     "duration": 0.044754,
     "end_time": "2021-08-09T00:23:24.428609",
     "exception": false,
     "start_time": "2021-08-09T00:23:24.383855",
     "status": "completed"
    },
    "tags": []
   },
   "outputs": [],
   "source": [
    "#hide\n",
    "# g = g.rename(columns= {'continent':'group','country':'name','cases':'value'})"
   ]
  },
  {
   "cell_type": "code",
   "execution_count": 36,
   "id": "fleet-motorcycle",
   "metadata": {
    "execution": {
     "iopub.execute_input": "2021-08-09T00:23:24.510379Z",
     "iopub.status.busy": "2021-08-09T00:23:24.509742Z",
     "iopub.status.idle": "2021-08-09T00:23:24.512430Z",
     "shell.execute_reply": "2021-08-09T00:23:24.511778Z"
    },
    "papermill": {
     "duration": 0.045815,
     "end_time": "2021-08-09T00:23:24.512555",
     "exception": false,
     "start_time": "2021-08-09T00:23:24.466740",
     "status": "completed"
    },
    "tags": []
   },
   "outputs": [],
   "source": [
    "#hide\n",
    "# cols = ['name','group','day','value']"
   ]
  },
  {
   "cell_type": "code",
   "execution_count": 37,
   "id": "continued-sleeping",
   "metadata": {
    "execution": {
     "iopub.execute_input": "2021-08-09T00:23:24.597265Z",
     "iopub.status.busy": "2021-08-09T00:23:24.596561Z",
     "iopub.status.idle": "2021-08-09T00:23:24.598687Z",
     "shell.execute_reply": "2021-08-09T00:23:24.599198Z"
    },
    "papermill": {
     "duration": 0.04683,
     "end_time": "2021-08-09T00:23:24.599354",
     "exception": false,
     "start_time": "2021-08-09T00:23:24.552524",
     "status": "completed"
    },
    "tags": []
   },
   "outputs": [],
   "source": [
    "#hide\n",
    "# g.rename(columns= {'date':'day'},inplace = True)"
   ]
  },
  {
   "cell_type": "code",
   "execution_count": 38,
   "id": "major-fight",
   "metadata": {
    "execution": {
     "iopub.execute_input": "2021-08-09T00:23:24.684701Z",
     "iopub.status.busy": "2021-08-09T00:23:24.684035Z",
     "iopub.status.idle": "2021-08-09T00:23:24.686738Z",
     "shell.execute_reply": "2021-08-09T00:23:24.685900Z"
    },
    "papermill": {
     "duration": 0.047288,
     "end_time": "2021-08-09T00:23:24.686907",
     "exception": false,
     "start_time": "2021-08-09T00:23:24.639619",
     "status": "completed"
    },
    "tags": []
   },
   "outputs": [],
   "source": [
    "#hide\n",
    "# g = g[cols]"
   ]
  },
  {
   "cell_type": "code",
   "execution_count": 39,
   "id": "structured-mobile",
   "metadata": {
    "execution": {
     "iopub.execute_input": "2021-08-09T00:23:24.771763Z",
     "iopub.status.busy": "2021-08-09T00:23:24.771026Z",
     "iopub.status.idle": "2021-08-09T00:23:24.776221Z",
     "shell.execute_reply": "2021-08-09T00:23:24.775518Z"
    },
    "papermill": {
     "duration": 0.048748,
     "end_time": "2021-08-09T00:23:24.776398",
     "exception": false,
     "start_time": "2021-08-09T00:23:24.727650",
     "status": "completed"
    },
    "tags": []
   },
   "outputs": [],
   "source": [
    "# #hide\n",
    "# g = g[g.group.notna()]"
   ]
  },
  {
   "cell_type": "code",
   "execution_count": 40,
   "id": "determined-closing",
   "metadata": {
    "execution": {
     "iopub.execute_input": "2021-08-09T00:23:24.861461Z",
     "iopub.status.busy": "2021-08-09T00:23:24.860550Z",
     "iopub.status.idle": "2021-08-09T00:23:24.863232Z",
     "shell.execute_reply": "2021-08-09T00:23:24.862593Z"
    },
    "papermill": {
     "duration": 0.045886,
     "end_time": "2021-08-09T00:23:24.863378",
     "exception": false,
     "start_time": "2021-08-09T00:23:24.817492",
     "status": "completed"
    },
    "tags": []
   },
   "outputs": [],
   "source": [
    "# #hide\n",
    "# colors = dict(zip(\n",
    "#     [\"Oceania\", \"Europe\", \"Asia\", \"South America\", \"Middle East\", \"North America\", \"Africa\"],\n",
    "#     [\"#adb0ff\", \"#ffb3ff\", \"#90d595\", \"#e48381\", \"#aafbff\", \"#f7bb5f\", \"#eafb50\"]\n",
    "# ))\n",
    "# group_lk = g.set_index('name')['group'].to_dict()"
   ]
  },
  {
   "cell_type": "code",
   "execution_count": null,
   "id": "gross-drinking",
   "metadata": {
    "papermill": {
     "duration": 0.037123,
     "end_time": "2021-08-09T00:23:24.939982",
     "exception": false,
     "start_time": "2021-08-09T00:23:24.902859",
     "status": "completed"
    },
    "tags": []
   },
   "outputs": [],
   "source": []
  },
  {
   "cell_type": "code",
   "execution_count": 41,
   "id": "subject-macintosh",
   "metadata": {
    "execution": {
     "iopub.execute_input": "2021-08-09T00:23:25.022099Z",
     "iopub.status.busy": "2021-08-09T00:23:25.021309Z",
     "iopub.status.idle": "2021-08-09T00:23:25.023974Z",
     "shell.execute_reply": "2021-08-09T00:23:25.023339Z"
    },
    "papermill": {
     "duration": 0.04619,
     "end_time": "2021-08-09T00:23:25.024092",
     "exception": false,
     "start_time": "2021-08-09T00:23:24.977902",
     "status": "completed"
    },
    "tags": []
   },
   "outputs": [],
   "source": [
    "# #hide\n",
    "# fig, ax = plt.subplots(figsize=(15, 8))\n",
    "\n",
    "# def draw_barchart(current_day):\n",
    "#     dff = g[g['day'].eq(current_day)].sort_values(by='value', ascending=True).tail(10)\n",
    "#     ax.clear()\n",
    "#     ax.barh(dff['name'], dff['value'], color=[colors[group_lk[x]] for x in dff['name']])\n",
    "#     dx = dff['value'].max() / 200\n",
    "    \n",
    "#     for i, (value, name) in enumerate(zip(dff['value'], dff['name'])):\n",
    "#         ax.text(value-dx, i,     name,           size=14, weight=600, ha='right', va='bottom')\n",
    "#         ax.text(value-dx, i-.25, group_lk[name], size=10, color='#444444', ha='right', va='baseline')\n",
    "#         ax.text(value+dx, i,     f'{value:,.0f}',  size=14, ha='left',  va='center')\n",
    "#     ax.text(1, 0.4, current_day, transform=ax.transAxes, color='#777777', size=46, ha='right', weight=800)\n",
    "#     ax.text(0, 1.06, 'Population (thousands)', transform=ax.transAxes, size=12, color='#777777')\n",
    "#     ax.xaxis.set_major_formatter(ticker.StrMethodFormatter('{x:,.0f}'))\n",
    "#     ax.xaxis.set_ticks_position('top')\n",
    "#     ax.tick_params(axis='x', colors='#777777', labelsize=12)\n",
    "#     ax.set_yticks([])\n",
    "#     ax.margins(0, 0.01)\n",
    "#     ax.grid(which='major', axis='x', linestyle='-')\n",
    "#     ax.set_axisbelow(True)\n",
    "    \n",
    "#     ax.text(0, 1.15, 'Coronavirus',\n",
    "#             transform=ax.transAxes, size=24, weight=600, ha='left', va='top')\n",
    "# #     ax.text(1, 0, 'by @pratapvardhan; credit @jburnmurdoch', transform=ax.transAxes, color='#777777', ha='right',\n",
    "# #             bbox=dict(facecolor='white', alpha=0.8, edgecolor='white'))\n",
    "#     plt.box(False)"
   ]
  },
  {
   "cell_type": "code",
   "execution_count": 42,
   "id": "sexual-wages",
   "metadata": {
    "execution": {
     "iopub.execute_input": "2021-08-09T00:23:25.103228Z",
     "iopub.status.busy": "2021-08-09T00:23:25.102601Z",
     "iopub.status.idle": "2021-08-09T00:23:25.105209Z",
     "shell.execute_reply": "2021-08-09T00:23:25.104714Z"
    },
    "papermill": {
     "duration": 0.04325,
     "end_time": "2021-08-09T00:23:25.105325",
     "exception": false,
     "start_time": "2021-08-09T00:23:25.062075",
     "status": "completed"
    },
    "tags": []
   },
   "outputs": [],
   "source": [
    "# #hide_input\n",
    "# fig, ax = plt.subplots(figsize=(15, 8))\n",
    "# animator = animation.FuncAnimation(fig, draw_barchart, frames=range(g.day.values.min(), g.day.values.max()))\n",
    "# HTML(animator.to_jshtml())\n",
    "# # or use animator.to_html5_video() or animator.save() "
   ]
  },
  {
   "cell_type": "code",
   "execution_count": null,
   "id": "australian-container",
   "metadata": {
    "papermill": {
     "duration": 0.037337,
     "end_time": "2021-08-09T00:23:25.179351",
     "exception": false,
     "start_time": "2021-08-09T00:23:25.142014",
     "status": "completed"
    },
    "tags": []
   },
   "outputs": [],
   "source": []
  },
  {
   "cell_type": "code",
   "execution_count": null,
   "id": "mediterranean-pontiac",
   "metadata": {
    "papermill": {
     "duration": 0.038858,
     "end_time": "2021-08-09T00:23:25.257782",
     "exception": false,
     "start_time": "2021-08-09T00:23:25.218924",
     "status": "completed"
    },
    "tags": []
   },
   "outputs": [],
   "source": []
  },
  {
   "cell_type": "code",
   "execution_count": null,
   "id": "aging-legislature",
   "metadata": {
    "papermill": {
     "duration": 0.039582,
     "end_time": "2021-08-09T00:23:25.338054",
     "exception": false,
     "start_time": "2021-08-09T00:23:25.298472",
     "status": "completed"
    },
    "tags": []
   },
   "outputs": [],
   "source": []
  }
 ],
 "metadata": {
  "kernelspec": {
   "display_name": "Python 3",
   "language": "python",
   "name": "python3"
  },
  "language_info": {
   "codemirror_mode": {
    "name": "ipython",
    "version": 3
   },
   "file_extension": ".py",
   "mimetype": "text/x-python",
   "name": "python",
   "nbconvert_exporter": "python",
   "pygments_lexer": "ipython3",
   "version": "3.6.14"
  },
  "papermill": {
   "duration": 7.049205,
   "end_time": "2021-08-09T00:23:25.686256",
   "environment_variables": {},
   "exception": null,
   "input_path": "2020-03-21-covid19exp.ipynb",
   "output_path": "2020-03-21-covid19exp.ipynb",
   "parameters": {},
   "start_time": "2021-08-09T00:23:18.637051",
   "version": "2.0.0"
  }
 },
 "nbformat": 4,
 "nbformat_minor": 5
}