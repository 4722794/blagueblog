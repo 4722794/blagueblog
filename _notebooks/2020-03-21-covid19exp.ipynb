{
 "cells": [
  {
   "cell_type": "markdown",
   "id": "muslim-click",
   "metadata": {
    "papermill": {
     "duration": 0.034223,
     "end_time": "2021-12-18T00:26:11.128517",
     "exception": false,
     "start_time": "2021-12-18T00:26:11.094294",
     "status": "completed"
    },
    "tags": []
   },
   "source": [
    "# COVID-19 Case Race\n",
    "> A race chart to see rising cases around the world\n",
    "\n",
    "- author: Hargun Oberoi\n",
    "- image: images/covid-overview.png\n",
    "- hide: false\n",
    "- badges: false"
   ]
  },
  {
   "cell_type": "code",
   "execution_count": 1,
   "id": "proof-material",
   "metadata": {
    "execution": {
     "iopub.execute_input": "2021-12-18T00:26:11.199903Z",
     "iopub.status.busy": "2021-12-18T00:26:11.199361Z",
     "iopub.status.idle": "2021-12-18T00:26:11.534122Z",
     "shell.execute_reply": "2021-12-18T00:26:11.533565Z"
    },
    "papermill": {
     "duration": 0.37384,
     "end_time": "2021-12-18T00:26:11.534285",
     "exception": false,
     "start_time": "2021-12-18T00:26:11.160445",
     "status": "completed"
    },
    "tags": []
   },
   "outputs": [],
   "source": [
    "#hide\n",
    "import numpy as np\n",
    "import pandas as pd\n",
    "from jinja2 import Template\n",
    "from IPython.display import HTML"
   ]
  },
  {
   "cell_type": "code",
   "execution_count": 2,
   "id": "developed-terminology",
   "metadata": {
    "execution": {
     "iopub.execute_input": "2021-12-18T00:26:11.609004Z",
     "iopub.status.busy": "2021-12-18T00:26:11.608517Z",
     "iopub.status.idle": "2021-12-18T00:26:11.610150Z",
     "shell.execute_reply": "2021-12-18T00:26:11.610582Z"
    },
    "papermill": {
     "duration": 0.045264,
     "end_time": "2021-12-18T00:26:11.610701",
     "exception": false,
     "start_time": "2021-12-18T00:26:11.565437",
     "status": "completed"
    },
    "tags": []
   },
   "outputs": [],
   "source": [
    "#hide\n",
    "\n",
    "# FETCH\n",
    "base_url = 'https://raw.githubusercontent.com/pratapvardhan/notebooks/master/covid19/'\n",
    "paths = {\n",
    "    'mapping': base_url + 'mapping_countries.csv',\n",
    "    'overview': base_url + 'overview.tpl'\n",
    "}"
   ]
  },
  {
   "cell_type": "code",
   "execution_count": 3,
   "id": "dynamic-saver",
   "metadata": {
    "execution": {
     "iopub.execute_input": "2021-12-18T00:26:11.673301Z",
     "iopub.status.busy": "2021-12-18T00:26:11.672792Z",
     "iopub.status.idle": "2021-12-18T00:26:11.675445Z",
     "shell.execute_reply": "2021-12-18T00:26:11.675786Z"
    },
    "papermill": {
     "duration": 0.03895,
     "end_time": "2021-12-18T00:26:11.675910",
     "exception": false,
     "start_time": "2021-12-18T00:26:11.636960",
     "status": "completed"
    },
    "tags": []
   },
   "outputs": [
    {
     "data": {
      "text/plain": [
       "'https://raw.githubusercontent.com/pratapvardhan/notebooks/master/covid19/mapping_countries.csv'"
      ]
     },
     "execution_count": 3,
     "metadata": {},
     "output_type": "execute_result"
    }
   ],
   "source": [
    "#hide\n",
    "paths['mapping']"
   ]
  },
  {
   "cell_type": "code",
   "execution_count": 4,
   "id": "urban-software",
   "metadata": {
    "execution": {
     "iopub.execute_input": "2021-12-18T00:26:11.734343Z",
     "iopub.status.busy": "2021-12-18T00:26:11.733733Z",
     "iopub.status.idle": "2021-12-18T00:26:11.736979Z",
     "shell.execute_reply": "2021-12-18T00:26:11.737456Z"
    },
    "papermill": {
     "duration": 0.035168,
     "end_time": "2021-12-18T00:26:11.737606",
     "exception": false,
     "start_time": "2021-12-18T00:26:11.702438",
     "status": "completed"
    },
    "tags": []
   },
   "outputs": [],
   "source": [
    "#hide\n",
    "def get_mappings(url):\n",
    "    df = pd.read_csv(url)\n",
    "    return {\n",
    "        'df': df,\n",
    "        'replace.country': dict(df.dropna(subset=['Name']).set_index('Country')['Name']),\n",
    "        'map.continent': dict(df.set_index('Name')['Continent'])\n",
    "    }"
   ]
  },
  {
   "cell_type": "code",
   "execution_count": 5,
   "id": "intimate-machinery",
   "metadata": {
    "execution": {
     "iopub.execute_input": "2021-12-18T00:26:11.799404Z",
     "iopub.status.busy": "2021-12-18T00:26:11.798417Z",
     "iopub.status.idle": "2021-12-18T00:26:11.883490Z",
     "shell.execute_reply": "2021-12-18T00:26:11.883962Z"
    },
    "papermill": {
     "duration": 0.120017,
     "end_time": "2021-12-18T00:26:11.884131",
     "exception": false,
     "start_time": "2021-12-18T00:26:11.764114",
     "status": "completed"
    },
    "tags": []
   },
   "outputs": [],
   "source": [
    "#hide\n",
    "mapping = get_mappings(paths['mapping'])"
   ]
  },
  {
   "cell_type": "code",
   "execution_count": 6,
   "id": "certified-tactics",
   "metadata": {
    "execution": {
     "iopub.execute_input": "2021-12-18T00:26:11.948767Z",
     "iopub.status.busy": "2021-12-18T00:26:11.948261Z",
     "iopub.status.idle": "2021-12-18T00:26:11.951366Z",
     "shell.execute_reply": "2021-12-18T00:26:11.951800Z"
    },
    "papermill": {
     "duration": 0.039112,
     "end_time": "2021-12-18T00:26:11.951922",
     "exception": false,
     "start_time": "2021-12-18T00:26:11.912810",
     "status": "completed"
    },
    "tags": []
   },
   "outputs": [],
   "source": [
    "#hide\n",
    "def get_template(path):\n",
    "    from urllib.parse import urlparse\n",
    "    if bool(urlparse(path).netloc):\n",
    "        from urllib.request import urlopen\n",
    "        return urlopen(path).read().decode('utf8')\n",
    "    return open(path).read()"
   ]
  },
  {
   "cell_type": "code",
   "execution_count": 7,
   "id": "realistic-blast",
   "metadata": {
    "execution": {
     "iopub.execute_input": "2021-12-18T00:26:12.009579Z",
     "iopub.status.busy": "2021-12-18T00:26:12.008930Z",
     "iopub.status.idle": "2021-12-18T00:26:12.012180Z",
     "shell.execute_reply": "2021-12-18T00:26:12.011553Z"
    },
    "papermill": {
     "duration": 0.034229,
     "end_time": "2021-12-18T00:26:12.012353",
     "exception": false,
     "start_time": "2021-12-18T00:26:11.978124",
     "status": "completed"
    },
    "tags": []
   },
   "outputs": [],
   "source": [
    "#hide\n",
    "def get_frame(name):\n",
    "    url = (\n",
    "        'https://raw.githubusercontent.com/CSSEGISandData/COVID-19/master/csse_covid_19_data/'\n",
    "        f'csse_covid_19_time_series/time_series_covid19_{name}_global.csv')\n",
    "    df = pd.read_csv(url)\n",
    "    # rename countries\n",
    "    df['Country/Region'] = df['Country/Region'].replace(mapping['replace.country'])\n",
    "    return df"
   ]
  },
  {
   "cell_type": "code",
   "execution_count": 8,
   "id": "affiliated-characterization",
   "metadata": {
    "execution": {
     "iopub.execute_input": "2021-12-18T00:26:12.081365Z",
     "iopub.status.busy": "2021-12-18T00:26:12.080737Z",
     "iopub.status.idle": "2021-12-18T00:26:12.082513Z",
     "shell.execute_reply": "2021-12-18T00:26:12.082950Z"
    },
    "papermill": {
     "duration": 0.03851,
     "end_time": "2021-12-18T00:26:12.083095",
     "exception": false,
     "start_time": "2021-12-18T00:26:12.044585",
     "status": "completed"
    },
    "tags": []
   },
   "outputs": [],
   "source": [
    "#hide\n",
    "def get_dates(df):\n",
    "    dt_cols = df.columns[~df.columns.isin(['Province/State', 'Country/Region', 'Lat', 'Long'])]\n",
    "    LAST_DATE_I = -1\n",
    "    # sometimes last column may be empty, then go backwards\n",
    "    for i in range(-1, -len(dt_cols), -1):\n",
    "        if not df[dt_cols[i]].fillna(0).eq(0).all():\n",
    "            LAST_DATE_I = i\n",
    "            break\n",
    "    return LAST_DATE_I, dt_cols"
   ]
  },
  {
   "cell_type": "code",
   "execution_count": 9,
   "id": "recent-optimization",
   "metadata": {
    "execution": {
     "iopub.execute_input": "2021-12-18T00:26:12.142368Z",
     "iopub.status.busy": "2021-12-18T00:26:12.141883Z",
     "iopub.status.idle": "2021-12-18T00:26:12.735937Z",
     "shell.execute_reply": "2021-12-18T00:26:12.735465Z"
    },
    "papermill": {
     "duration": 0.626151,
     "end_time": "2021-12-18T00:26:12.736066",
     "exception": false,
     "start_time": "2021-12-18T00:26:12.109915",
     "status": "completed"
    },
    "tags": []
   },
   "outputs": [],
   "source": [
    "#hide\n",
    "COL_REGION = 'Country/Region'\n",
    "# Confirmed, Recovered, Deaths\n",
    "df = get_frame('confirmed')\n",
    "# dft_: timeseries, dfc_: today country agg\n",
    "dft_cases = df\n",
    "dft_deaths = get_frame('deaths')\n",
    "dft_recovered = get_frame('recovered')\n",
    "LAST_DATE_I, dt_cols = get_dates(df)"
   ]
  },
  {
   "cell_type": "code",
   "execution_count": 10,
   "id": "absolute-copper",
   "metadata": {
    "execution": {
     "iopub.execute_input": "2021-12-18T00:26:12.801756Z",
     "iopub.status.busy": "2021-12-18T00:26:12.801233Z",
     "iopub.status.idle": "2021-12-18T00:26:12.803284Z",
     "shell.execute_reply": "2021-12-18T00:26:12.803771Z"
    },
    "papermill": {
     "duration": 0.037447,
     "end_time": "2021-12-18T00:26:12.803903",
     "exception": false,
     "start_time": "2021-12-18T00:26:12.766456",
     "status": "completed"
    },
    "tags": []
   },
   "outputs": [],
   "source": [
    "#hide\n",
    "LAST_DATE_I, dt_cols = get_dates(df)\n",
    "dt_today =dt_cols[LAST_DATE_I]\n",
    "# dt_5day = dt_cols[LAST_DATE_I - 5]\n",
    "dt_yday = dt_cols[LAST_DATE_I - 1]"
   ]
  },
  {
   "cell_type": "code",
   "execution_count": 11,
   "id": "restricted-sheriff",
   "metadata": {
    "execution": {
     "iopub.execute_input": "2021-12-18T00:26:12.870961Z",
     "iopub.status.busy": "2021-12-18T00:26:12.870432Z",
     "iopub.status.idle": "2021-12-18T00:26:12.876706Z",
     "shell.execute_reply": "2021-12-18T00:26:12.876287Z"
    },
    "papermill": {
     "duration": 0.043286,
     "end_time": "2021-12-18T00:26:12.876827",
     "exception": false,
     "start_time": "2021-12-18T00:26:12.833541",
     "status": "completed"
    },
    "tags": []
   },
   "outputs": [],
   "source": [
    "#hide\n",
    "dfc_cases = dft_cases.groupby(COL_REGION)[dt_today].sum()\n",
    "dfc_deaths = dft_deaths.groupby(COL_REGION)[dt_today].sum()\n",
    "# dfp_cases = dft_cases.groupby(COL_REGION)[dt_5day].sum()\n",
    "# dfp_deaths = dft_deaths.groupby(COL_REGION)[dt_5day].sum()\n",
    "dfp_cases = dft_cases.groupby(COL_REGION)[dt_yday].sum()\n",
    "dfp_deaths = dft_deaths.groupby(COL_REGION)[dt_yday].sum()"
   ]
  },
  {
   "cell_type": "code",
   "execution_count": 12,
   "id": "deluxe-hepatitis",
   "metadata": {
    "execution": {
     "iopub.execute_input": "2021-12-18T00:26:12.943356Z",
     "iopub.status.busy": "2021-12-18T00:26:12.942846Z",
     "iopub.status.idle": "2021-12-18T00:26:12.948165Z",
     "shell.execute_reply": "2021-12-18T00:26:12.947734Z"
    },
    "papermill": {
     "duration": 0.041248,
     "end_time": "2021-12-18T00:26:12.948274",
     "exception": false,
     "start_time": "2021-12-18T00:26:12.907026",
     "status": "completed"
    },
    "tags": []
   },
   "outputs": [],
   "source": [
    "#hide\n",
    "df_table = (pd.DataFrame(dict(Cases = dfc_cases, Deaths = dfc_deaths, PCases = dfp_cases, PDeaths = dfp_deaths))\n",
    "            .sort_values(by = ['Cases','Deaths'], ascending = [False, False])\n",
    "            .reset_index())"
   ]
  },
  {
   "cell_type": "code",
   "execution_count": 13,
   "id": "educational-chancellor",
   "metadata": {
    "execution": {
     "iopub.execute_input": "2021-12-18T00:26:13.026101Z",
     "iopub.status.busy": "2021-12-18T00:26:13.025521Z",
     "iopub.status.idle": "2021-12-18T00:26:13.033691Z",
     "shell.execute_reply": "2021-12-18T00:26:13.033250Z"
    },
    "papermill": {
     "duration": 0.055855,
     "end_time": "2021-12-18T00:26:13.033800",
     "exception": false,
     "start_time": "2021-12-18T00:26:12.977945",
     "status": "completed"
    },
    "tags": []
   },
   "outputs": [
    {
     "data": {
      "text/html": [
       "<div>\n",
       "<style scoped>\n",
       "    .dataframe tbody tr th:only-of-type {\n",
       "        vertical-align: middle;\n",
       "    }\n",
       "\n",
       "    .dataframe tbody tr th {\n",
       "        vertical-align: top;\n",
       "    }\n",
       "\n",
       "    .dataframe thead th {\n",
       "        text-align: right;\n",
       "    }\n",
       "</style>\n",
       "<table border=\"1\" class=\"dataframe\">\n",
       "  <thead>\n",
       "    <tr style=\"text-align: right;\">\n",
       "      <th></th>\n",
       "      <th>Country/Region</th>\n",
       "      <th>Cases</th>\n",
       "      <th>Deaths</th>\n",
       "      <th>PCases</th>\n",
       "      <th>PDeaths</th>\n",
       "      <th>Cases (+)</th>\n",
       "      <th>Deaths (+)</th>\n",
       "      <th>Fatality Rate</th>\n",
       "      <th>Continent</th>\n",
       "    </tr>\n",
       "  </thead>\n",
       "  <tbody>\n",
       "    <tr>\n",
       "      <th>0</th>\n",
       "      <td>US</td>\n",
       "      <td>50513428</td>\n",
       "      <td>803652</td>\n",
       "      <td>50374543</td>\n",
       "      <td>802510</td>\n",
       "      <td>138885</td>\n",
       "      <td>1142</td>\n",
       "      <td>1.59</td>\n",
       "      <td>North America</td>\n",
       "    </tr>\n",
       "    <tr>\n",
       "      <th>1</th>\n",
       "      <td>India</td>\n",
       "      <td>34726049</td>\n",
       "      <td>476869</td>\n",
       "      <td>34718602</td>\n",
       "      <td>476478</td>\n",
       "      <td>7447</td>\n",
       "      <td>391</td>\n",
       "      <td>1.37</td>\n",
       "      <td>Asia</td>\n",
       "    </tr>\n",
       "    <tr>\n",
       "      <th>2</th>\n",
       "      <td>Brazil</td>\n",
       "      <td>22201221</td>\n",
       "      <td>617271</td>\n",
       "      <td>22201221</td>\n",
       "      <td>617271</td>\n",
       "      <td>0</td>\n",
       "      <td>0</td>\n",
       "      <td>2.78</td>\n",
       "      <td>South America</td>\n",
       "    </tr>\n",
       "    <tr>\n",
       "      <th>3</th>\n",
       "      <td>United Kingdom</td>\n",
       "      <td>11161497</td>\n",
       "      <td>147396</td>\n",
       "      <td>11073455</td>\n",
       "      <td>147249</td>\n",
       "      <td>88042</td>\n",
       "      <td>147</td>\n",
       "      <td>1.32</td>\n",
       "      <td>Europe</td>\n",
       "    </tr>\n",
       "    <tr>\n",
       "      <th>4</th>\n",
       "      <td>Russia</td>\n",
       "      <td>9955308</td>\n",
       "      <td>288240</td>\n",
       "      <td>9927150</td>\n",
       "      <td>287135</td>\n",
       "      <td>28158</td>\n",
       "      <td>1105</td>\n",
       "      <td>2.90</td>\n",
       "      <td>Europe</td>\n",
       "    </tr>\n",
       "  </tbody>\n",
       "</table>\n",
       "</div>"
      ],
      "text/plain": [
       "   Country/Region     Cases  Deaths    PCases  PDeaths  Cases (+)  Deaths (+)  \\\n",
       "0              US  50513428  803652  50374543   802510     138885        1142   \n",
       "1           India  34726049  476869  34718602   476478       7447         391   \n",
       "2          Brazil  22201221  617271  22201221   617271          0           0   \n",
       "3  United Kingdom  11161497  147396  11073455   147249      88042         147   \n",
       "4          Russia   9955308  288240   9927150   287135      28158        1105   \n",
       "\n",
       "   Fatality Rate      Continent  \n",
       "0           1.59  North America  \n",
       "1           1.37           Asia  \n",
       "2           2.78  South America  \n",
       "3           1.32         Europe  \n",
       "4           2.90         Europe  "
      ]
     },
     "execution_count": 13,
     "metadata": {},
     "output_type": "execute_result"
    }
   ],
   "source": [
    "#hide\n",
    "for c in 'Cases, Deaths'.split(', '):\n",
    "    df_table[f'{c} (+)'] = (df_table[c] - df_table[f'P{c}']).clip(0)\n",
    "    #Clip ça veut dire, les chiffres negatif sont interdit\n",
    "df_table['Fatality Rate'] = (100* df_table['Deaths']/ df_table['Cases']).round(2)\n",
    "df_table['Continent'] = df_table['Country/Region'].map(mapping['map.continent'])\n",
    "df_table.head(5)"
   ]
  },
  {
   "cell_type": "code",
   "execution_count": 14,
   "id": "aboriginal-bulgaria",
   "metadata": {
    "execution": {
     "iopub.execute_input": "2021-12-18T00:26:13.100214Z",
     "iopub.status.busy": "2021-12-18T00:26:13.099699Z",
     "iopub.status.idle": "2021-12-18T00:26:13.102533Z",
     "shell.execute_reply": "2021-12-18T00:26:13.103008Z"
    },
    "papermill": {
     "duration": 0.038104,
     "end_time": "2021-12-18T00:26:13.103135",
     "exception": false,
     "start_time": "2021-12-18T00:26:13.065031",
     "status": "completed"
    },
    "tags": []
   },
   "outputs": [],
   "source": [
    "#hide\n",
    "#delete problematic countries from table\n",
    "df_table = df_table[~df_table['Country/Region'].isin(['Cape Verde', 'Cruise Ship', 'Kosovo'])]"
   ]
  },
  {
   "cell_type": "code",
   "execution_count": 15,
   "id": "fantastic-effect",
   "metadata": {
    "execution": {
     "iopub.execute_input": "2021-12-18T00:26:13.171340Z",
     "iopub.status.busy": "2021-12-18T00:26:13.170830Z",
     "iopub.status.idle": "2021-12-18T00:26:13.190423Z",
     "shell.execute_reply": "2021-12-18T00:26:13.190813Z"
    },
    "papermill": {
     "duration": 0.057703,
     "end_time": "2021-12-18T00:26:13.190937",
     "exception": false,
     "start_time": "2021-12-18T00:26:13.133234",
     "status": "completed"
    },
    "tags": []
   },
   "outputs": [
    {
     "data": {
      "text/html": [
       "<div>\n",
       "<style scoped>\n",
       "    .dataframe tbody tr th:only-of-type {\n",
       "        vertical-align: middle;\n",
       "    }\n",
       "\n",
       "    .dataframe tbody tr th {\n",
       "        vertical-align: top;\n",
       "    }\n",
       "\n",
       "    .dataframe thead th {\n",
       "        text-align: right;\n",
       "    }\n",
       "</style>\n",
       "<table border=\"1\" class=\"dataframe\">\n",
       "  <thead>\n",
       "    <tr style=\"text-align: right;\">\n",
       "      <th></th>\n",
       "      <th>Country/Region</th>\n",
       "      <th>Cases</th>\n",
       "      <th>Deaths</th>\n",
       "      <th>PCases</th>\n",
       "      <th>PDeaths</th>\n",
       "      <th>Cases (+)</th>\n",
       "      <th>Deaths (+)</th>\n",
       "      <th>Fatality Rate</th>\n",
       "      <th>Continent</th>\n",
       "    </tr>\n",
       "  </thead>\n",
       "  <tbody>\n",
       "    <tr>\n",
       "      <th>0</th>\n",
       "      <td>US</td>\n",
       "      <td>50513428</td>\n",
       "      <td>803652</td>\n",
       "      <td>50374543</td>\n",
       "      <td>802510</td>\n",
       "      <td>138885</td>\n",
       "      <td>1142</td>\n",
       "      <td>1.6</td>\n",
       "      <td>North America</td>\n",
       "    </tr>\n",
       "    <tr>\n",
       "      <th>1</th>\n",
       "      <td>India</td>\n",
       "      <td>34726049</td>\n",
       "      <td>476869</td>\n",
       "      <td>34718602</td>\n",
       "      <td>476478</td>\n",
       "      <td>7447</td>\n",
       "      <td>391</td>\n",
       "      <td>1.4</td>\n",
       "      <td>Asia</td>\n",
       "    </tr>\n",
       "    <tr>\n",
       "      <th>2</th>\n",
       "      <td>Brazil</td>\n",
       "      <td>22201221</td>\n",
       "      <td>617271</td>\n",
       "      <td>22201221</td>\n",
       "      <td>617271</td>\n",
       "      <td>0</td>\n",
       "      <td>0</td>\n",
       "      <td>2.8</td>\n",
       "      <td>South America</td>\n",
       "    </tr>\n",
       "    <tr>\n",
       "      <th>3</th>\n",
       "      <td>United Kingdom</td>\n",
       "      <td>11161497</td>\n",
       "      <td>147396</td>\n",
       "      <td>11073455</td>\n",
       "      <td>147249</td>\n",
       "      <td>88042</td>\n",
       "      <td>147</td>\n",
       "      <td>1.3</td>\n",
       "      <td>Europe</td>\n",
       "    </tr>\n",
       "    <tr>\n",
       "      <th>4</th>\n",
       "      <td>Russia</td>\n",
       "      <td>9955308</td>\n",
       "      <td>288240</td>\n",
       "      <td>9927150</td>\n",
       "      <td>287135</td>\n",
       "      <td>28158</td>\n",
       "      <td>1105</td>\n",
       "      <td>2.9</td>\n",
       "      <td>Europe</td>\n",
       "    </tr>\n",
       "  </tbody>\n",
       "</table>\n",
       "</div>"
      ],
      "text/plain": [
       "   Country/Region     Cases  Deaths    PCases  PDeaths  Cases (+)  Deaths (+)  \\\n",
       "0              US  50513428  803652  50374543   802510     138885        1142   \n",
       "1           India  34726049  476869  34718602   476478       7447         391   \n",
       "2          Brazil  22201221  617271  22201221   617271          0           0   \n",
       "3  United Kingdom  11161497  147396  11073455   147249      88042         147   \n",
       "4          Russia   9955308  288240   9927150   287135      28158        1105   \n",
       "\n",
       "   Fatality Rate      Continent  \n",
       "0            1.6  North America  \n",
       "1            1.4           Asia  \n",
       "2            2.8  South America  \n",
       "3            1.3         Europe  \n",
       "4            2.9         Europe  "
      ]
     },
     "execution_count": 15,
     "metadata": {},
     "output_type": "execute_result"
    }
   ],
   "source": [
    "#hide\n",
    "df_table = (pd.DataFrame(dict(Cases=dfc_cases, Deaths=dfc_deaths, PCases=dfp_cases, PDeaths=dfp_deaths))\n",
    "             .sort_values(by=['Cases', 'Deaths'], ascending=[False, False])\n",
    "             .reset_index())\n",
    "df_table.rename(columns={'index': 'Country/Region'}, inplace=True)\n",
    "for c in 'Cases, Deaths'.split(', '):\n",
    "    df_table[f'{c} (+)'] = (df_table[c] - df_table[f'P{c}']).clip(0)  # DATA BUG\n",
    "df_table['Fatality Rate'] = (100 * df_table['Deaths'] / df_table['Cases']).round(1)\n",
    "df_table['Continent'] = df_table['Country/Region'].map(mapping['map.continent'])\n",
    "df_table.head(5)"
   ]
  },
  {
   "cell_type": "code",
   "execution_count": 16,
   "id": "fewer-occasion",
   "metadata": {
    "execution": {
     "iopub.execute_input": "2021-12-18T00:26:13.251042Z",
     "iopub.status.busy": "2021-12-18T00:26:13.250427Z",
     "iopub.status.idle": "2021-12-18T00:26:13.254046Z",
     "shell.execute_reply": "2021-12-18T00:26:13.253677Z"
    },
    "papermill": {
     "duration": 0.035899,
     "end_time": "2021-12-18T00:26:13.254151",
     "exception": false,
     "start_time": "2021-12-18T00:26:13.218252",
     "status": "completed"
    },
    "tags": []
   },
   "outputs": [],
   "source": [
    "#hide\n",
    "#delete problematic countries from table\n",
    "df_table = df_table[~df_table['Country/Region'].isin(['Cape Verde', 'Cruise Ship', 'Kosovo'])]"
   ]
  },
  {
   "cell_type": "code",
   "execution_count": 17,
   "id": "related-center",
   "metadata": {
    "execution": {
     "iopub.execute_input": "2021-12-18T00:26:13.315539Z",
     "iopub.status.busy": "2021-12-18T00:26:13.314966Z",
     "iopub.status.idle": "2021-12-18T00:26:13.328212Z",
     "shell.execute_reply": "2021-12-18T00:26:13.327840Z"
    },
    "papermill": {
     "duration": 0.047203,
     "end_time": "2021-12-18T00:26:13.328319",
     "exception": false,
     "start_time": "2021-12-18T00:26:13.281116",
     "status": "completed"
    },
    "tags": []
   },
   "outputs": [],
   "source": [
    "#hide\n",
    "metrics = [df_table.columns[index] for index in [1,2,5,6]]\n",
    "# s_china = df_table[df_table['Country/Region'].eq('China')][metrics].sum().add_prefix('China ')\n",
    "s_us = df_table[df_table['Country/Region'].eq('US')][metrics].sum().add_prefix('US ')\n",
    "s_eu = df_table[df_table['Continent'].eq('Europe')][metrics].sum().add_prefix('EU ')\n",
    "s_ind = df_table[df_table['Country/Region'].eq('India')][metrics].sum().add_prefix('India ')\n",
    "summary = {'updated': pd.to_datetime(dt_today), 'since': pd.to_datetime(dt_yday)}\n",
    "summary = {'updated': pd.to_datetime(dt_today), 'since': pd.to_datetime(dt_yday)}\n",
    "summary = {**summary, **df_table[metrics].sum(), **s_ind, **s_us, **s_eu}"
   ]
  },
  {
   "cell_type": "code",
   "execution_count": 18,
   "id": "engaging-syndrome",
   "metadata": {
    "execution": {
     "iopub.execute_input": "2021-12-18T00:26:13.387605Z",
     "iopub.status.busy": "2021-12-18T00:26:13.387136Z",
     "iopub.status.idle": "2021-12-18T00:26:13.402082Z",
     "shell.execute_reply": "2021-12-18T00:26:13.401715Z"
    },
    "papermill": {
     "duration": 0.04677,
     "end_time": "2021-12-18T00:26:13.402188",
     "exception": false,
     "start_time": "2021-12-18T00:26:13.355418",
     "status": "completed"
    },
    "tags": []
   },
   "outputs": [],
   "source": [
    "#hide\n",
    "dft_ct_new_cases = dft_cases.groupby(COL_REGION)[dt_cols].sum().diff(axis=1).fillna(0).astype(int)"
   ]
  },
  {
   "cell_type": "code",
   "execution_count": 19,
   "id": "neutral-assignment",
   "metadata": {
    "execution": {
     "iopub.execute_input": "2021-12-18T00:26:13.461560Z",
     "iopub.status.busy": "2021-12-18T00:26:13.461073Z",
     "iopub.status.idle": "2021-12-18T00:26:13.463100Z",
     "shell.execute_reply": "2021-12-18T00:26:13.463546Z"
    },
    "papermill": {
     "duration": 0.034847,
     "end_time": "2021-12-18T00:26:13.463663",
     "exception": false,
     "start_time": "2021-12-18T00:26:13.428816",
     "status": "completed"
    },
    "tags": []
   },
   "outputs": [],
   "source": [
    "#hide\n",
    "everydaycases = dft_ct_new_cases.cumsum(axis=1)"
   ]
  },
  {
   "cell_type": "code",
   "execution_count": 20,
   "id": "parliamentary-calgary",
   "metadata": {
    "execution": {
     "iopub.execute_input": "2021-12-18T00:26:13.522186Z",
     "iopub.status.busy": "2021-12-18T00:26:13.521707Z",
     "iopub.status.idle": "2021-12-18T00:26:14.784687Z",
     "shell.execute_reply": "2021-12-18T00:26:14.784140Z"
    },
    "papermill": {
     "duration": 1.293971,
     "end_time": "2021-12-18T00:26:14.784835",
     "exception": false,
     "start_time": "2021-12-18T00:26:13.490864",
     "status": "completed"
    },
    "tags": []
   },
   "outputs": [],
   "source": [
    "#hide\n",
    "import pandas as pd\n",
    "import matplotlib.pyplot as plt\n",
    "import matplotlib.ticker as ticker\n",
    "import matplotlib.animation as animation\n",
    "from IPython.display import HTML"
   ]
  },
  {
   "cell_type": "code",
   "execution_count": 21,
   "id": "lasting-extraction",
   "metadata": {
    "execution": {
     "iopub.execute_input": "2021-12-18T00:26:14.846533Z",
     "iopub.status.busy": "2021-12-18T00:26:14.846061Z",
     "iopub.status.idle": "2021-12-18T00:26:14.853203Z",
     "shell.execute_reply": "2021-12-18T00:26:14.852779Z"
    },
    "papermill": {
     "duration": 0.039382,
     "end_time": "2021-12-18T00:26:14.853326",
     "exception": false,
     "start_time": "2021-12-18T00:26:14.813944",
     "status": "completed"
    },
    "tags": []
   },
   "outputs": [],
   "source": [
    "#hide\n",
    "t = everydaycases.stack()"
   ]
  },
  {
   "cell_type": "code",
   "execution_count": 22,
   "id": "premier-sleeve",
   "metadata": {
    "execution": {
     "iopub.execute_input": "2021-12-18T00:26:14.910518Z",
     "iopub.status.busy": "2021-12-18T00:26:14.910047Z",
     "iopub.status.idle": "2021-12-18T00:26:14.920876Z",
     "shell.execute_reply": "2021-12-18T00:26:14.921341Z"
    },
    "papermill": {
     "duration": 0.040873,
     "end_time": "2021-12-18T00:26:14.921466",
     "exception": false,
     "start_time": "2021-12-18T00:26:14.880593",
     "status": "completed"
    },
    "tags": []
   },
   "outputs": [],
   "source": [
    "#hide\n",
    "g = t.reset_index(['Country/Region'])"
   ]
  },
  {
   "cell_type": "code",
   "execution_count": 23,
   "id": "distributed-pittsburgh",
   "metadata": {
    "execution": {
     "iopub.execute_input": "2021-12-18T00:26:14.979487Z",
     "iopub.status.busy": "2021-12-18T00:26:14.979021Z",
     "iopub.status.idle": "2021-12-18T00:26:14.980717Z",
     "shell.execute_reply": "2021-12-18T00:26:14.981175Z"
    },
    "papermill": {
     "duration": 0.03272,
     "end_time": "2021-12-18T00:26:14.981301",
     "exception": false,
     "start_time": "2021-12-18T00:26:14.948581",
     "status": "completed"
    },
    "tags": []
   },
   "outputs": [],
   "source": [
    "#hide\n",
    "g.index.name = 'date'"
   ]
  },
  {
   "cell_type": "code",
   "execution_count": 24,
   "id": "naked-donor",
   "metadata": {
    "execution": {
     "iopub.execute_input": "2021-12-18T00:26:15.039677Z",
     "iopub.status.busy": "2021-12-18T00:26:15.039115Z",
     "iopub.status.idle": "2021-12-18T00:26:15.042304Z",
     "shell.execute_reply": "2021-12-18T00:26:15.042689Z"
    },
    "papermill": {
     "duration": 0.034379,
     "end_time": "2021-12-18T00:26:15.042819",
     "exception": false,
     "start_time": "2021-12-18T00:26:15.008440",
     "status": "completed"
    },
    "tags": []
   },
   "outputs": [],
   "source": [
    "# #hide\n",
    "# g = g.reset_index(['date'])"
   ]
  },
  {
   "cell_type": "code",
   "execution_count": 25,
   "id": "incomplete-mustang",
   "metadata": {
    "execution": {
     "iopub.execute_input": "2021-12-18T00:26:15.115186Z",
     "iopub.status.busy": "2021-12-18T00:26:15.114606Z",
     "iopub.status.idle": "2021-12-18T00:26:15.116773Z",
     "shell.execute_reply": "2021-12-18T00:26:15.116285Z"
    },
    "papermill": {
     "duration": 0.036864,
     "end_time": "2021-12-18T00:26:15.116890",
     "exception": false,
     "start_time": "2021-12-18T00:26:15.080026",
     "status": "completed"
    },
    "tags": []
   },
   "outputs": [],
   "source": [
    "#hide\n",
    "# g.head()"
   ]
  },
  {
   "cell_type": "code",
   "execution_count": 26,
   "id": "specific-kruger",
   "metadata": {
    "execution": {
     "iopub.execute_input": "2021-12-18T00:26:15.175322Z",
     "iopub.status.busy": "2021-12-18T00:26:15.174861Z",
     "iopub.status.idle": "2021-12-18T00:26:15.177265Z",
     "shell.execute_reply": "2021-12-18T00:26:15.176882Z"
    },
    "papermill": {
     "duration": 0.032481,
     "end_time": "2021-12-18T00:26:15.177370",
     "exception": false,
     "start_time": "2021-12-18T00:26:15.144889",
     "status": "completed"
    },
    "tags": []
   },
   "outputs": [],
   "source": [
    "#hide\n",
    "# g.columns = ['date','country','cases']"
   ]
  },
  {
   "cell_type": "code",
   "execution_count": 27,
   "id": "tender-conversion",
   "metadata": {
    "execution": {
     "iopub.execute_input": "2021-12-18T00:26:15.233702Z",
     "iopub.status.busy": "2021-12-18T00:26:15.233232Z",
     "iopub.status.idle": "2021-12-18T00:26:15.235909Z",
     "shell.execute_reply": "2021-12-18T00:26:15.236341Z"
    },
    "papermill": {
     "duration": 0.032674,
     "end_time": "2021-12-18T00:26:15.236452",
     "exception": false,
     "start_time": "2021-12-18T00:26:15.203778",
     "status": "completed"
    },
    "tags": []
   },
   "outputs": [],
   "source": [
    "#hide\n",
    "# g['continent'] = g.country"
   ]
  },
  {
   "cell_type": "code",
   "execution_count": 28,
   "id": "substantial-wilderness",
   "metadata": {
    "execution": {
     "iopub.execute_input": "2021-12-18T00:26:15.293431Z",
     "iopub.status.busy": "2021-12-18T00:26:15.292796Z",
     "iopub.status.idle": "2021-12-18T00:26:15.295802Z",
     "shell.execute_reply": "2021-12-18T00:26:15.295375Z"
    },
    "papermill": {
     "duration": 0.032621,
     "end_time": "2021-12-18T00:26:15.295943",
     "exception": false,
     "start_time": "2021-12-18T00:26:15.263322",
     "status": "completed"
    },
    "tags": []
   },
   "outputs": [],
   "source": [
    "#hide\n",
    "# cols = list(g.columns.values)"
   ]
  },
  {
   "cell_type": "code",
   "execution_count": 29,
   "id": "solved-farming",
   "metadata": {
    "execution": {
     "iopub.execute_input": "2021-12-18T00:26:15.372254Z",
     "iopub.status.busy": "2021-12-18T00:26:15.371652Z",
     "iopub.status.idle": "2021-12-18T00:26:15.375950Z",
     "shell.execute_reply": "2021-12-18T00:26:15.375482Z"
    },
    "papermill": {
     "duration": 0.04715,
     "end_time": "2021-12-18T00:26:15.376077",
     "exception": false,
     "start_time": "2021-12-18T00:26:15.328927",
     "status": "completed"
    },
    "tags": []
   },
   "outputs": [],
   "source": [
    "#hide\n",
    "# cols.insert(0, cols.pop())"
   ]
  },
  {
   "cell_type": "code",
   "execution_count": 30,
   "id": "executed-adoption",
   "metadata": {
    "execution": {
     "iopub.execute_input": "2021-12-18T00:26:15.432781Z",
     "iopub.status.busy": "2021-12-18T00:26:15.432017Z",
     "iopub.status.idle": "2021-12-18T00:26:15.434073Z",
     "shell.execute_reply": "2021-12-18T00:26:15.433534Z"
    },
    "papermill": {
     "duration": 0.031255,
     "end_time": "2021-12-18T00:26:15.434199",
     "exception": false,
     "start_time": "2021-12-18T00:26:15.402944",
     "status": "completed"
    },
    "tags": []
   },
   "outputs": [],
   "source": [
    "#hide\n",
    "# g = g[cols]"
   ]
  },
  {
   "cell_type": "code",
   "execution_count": 31,
   "id": "subject-dublin",
   "metadata": {
    "execution": {
     "iopub.execute_input": "2021-12-18T00:26:15.514579Z",
     "iopub.status.busy": "2021-12-18T00:26:15.513979Z",
     "iopub.status.idle": "2021-12-18T00:26:15.516291Z",
     "shell.execute_reply": "2021-12-18T00:26:15.515799Z"
    },
    "papermill": {
     "duration": 0.04815,
     "end_time": "2021-12-18T00:26:15.516411",
     "exception": false,
     "start_time": "2021-12-18T00:26:15.468261",
     "status": "completed"
    },
    "tags": []
   },
   "outputs": [],
   "source": [
    "#hide\n",
    "# g['continent'] = g['continent'].map(mapping['map.continent'])"
   ]
  },
  {
   "cell_type": "code",
   "execution_count": 32,
   "id": "freelance-scout",
   "metadata": {
    "execution": {
     "iopub.execute_input": "2021-12-18T00:26:15.575038Z",
     "iopub.status.busy": "2021-12-18T00:26:15.574427Z",
     "iopub.status.idle": "2021-12-18T00:26:15.578024Z",
     "shell.execute_reply": "2021-12-18T00:26:15.577657Z"
    },
    "papermill": {
     "duration": 0.034219,
     "end_time": "2021-12-18T00:26:15.578126",
     "exception": false,
     "start_time": "2021-12-18T00:26:15.543907",
     "status": "completed"
    },
    "tags": []
   },
   "outputs": [],
   "source": [
    "#hide\n",
    "# g.head()"
   ]
  },
  {
   "cell_type": "code",
   "execution_count": 33,
   "id": "limited-engine",
   "metadata": {
    "execution": {
     "iopub.execute_input": "2021-12-18T00:26:15.635239Z",
     "iopub.status.busy": "2021-12-18T00:26:15.634632Z",
     "iopub.status.idle": "2021-12-18T00:26:15.638506Z",
     "shell.execute_reply": "2021-12-18T00:26:15.638037Z"
    },
    "papermill": {
     "duration": 0.033943,
     "end_time": "2021-12-18T00:26:15.638628",
     "exception": false,
     "start_time": "2021-12-18T00:26:15.604685",
     "status": "completed"
    },
    "tags": []
   },
   "outputs": [],
   "source": [
    "# hide\n",
    "# g['date'] = g['date'].astype('datetime64[ns]')"
   ]
  },
  {
   "cell_type": "code",
   "execution_count": 34,
   "id": "sophisticated-supervisor",
   "metadata": {
    "execution": {
     "iopub.execute_input": "2021-12-18T00:26:15.705086Z",
     "iopub.status.busy": "2021-12-18T00:26:15.704504Z",
     "iopub.status.idle": "2021-12-18T00:26:15.706716Z",
     "shell.execute_reply": "2021-12-18T00:26:15.706257Z"
    },
    "papermill": {
     "duration": 0.037,
     "end_time": "2021-12-18T00:26:15.706836",
     "exception": false,
     "start_time": "2021-12-18T00:26:15.669836",
     "status": "completed"
    },
    "tags": []
   },
   "outputs": [],
   "source": [
    "#hide\n",
    "# g['date'] = g.date.dt.dayofyear"
   ]
  },
  {
   "cell_type": "code",
   "execution_count": 35,
   "id": "inside-dubai",
   "metadata": {
    "execution": {
     "iopub.execute_input": "2021-12-18T00:26:15.765178Z",
     "iopub.status.busy": "2021-12-18T00:26:15.764547Z",
     "iopub.status.idle": "2021-12-18T00:26:15.768254Z",
     "shell.execute_reply": "2021-12-18T00:26:15.767764Z"
    },
    "papermill": {
     "duration": 0.033537,
     "end_time": "2021-12-18T00:26:15.768371",
     "exception": false,
     "start_time": "2021-12-18T00:26:15.734834",
     "status": "completed"
    },
    "tags": []
   },
   "outputs": [],
   "source": [
    "#hide\n",
    "# g = g.rename(columns= {'continent':'group','country':'name','cases':'value'})"
   ]
  },
  {
   "cell_type": "code",
   "execution_count": 36,
   "id": "fleet-motorcycle",
   "metadata": {
    "execution": {
     "iopub.execute_input": "2021-12-18T00:26:15.834870Z",
     "iopub.status.busy": "2021-12-18T00:26:15.834289Z",
     "iopub.status.idle": "2021-12-18T00:26:15.835993Z",
     "shell.execute_reply": "2021-12-18T00:26:15.836427Z"
    },
    "papermill": {
     "duration": 0.036402,
     "end_time": "2021-12-18T00:26:15.836561",
     "exception": false,
     "start_time": "2021-12-18T00:26:15.800159",
     "status": "completed"
    },
    "tags": []
   },
   "outputs": [],
   "source": [
    "#hide\n",
    "# cols = ['name','group','day','value']"
   ]
  },
  {
   "cell_type": "code",
   "execution_count": 37,
   "id": "continued-sleeping",
   "metadata": {
    "execution": {
     "iopub.execute_input": "2021-12-18T00:26:15.894475Z",
     "iopub.status.busy": "2021-12-18T00:26:15.894025Z",
     "iopub.status.idle": "2021-12-18T00:26:15.895801Z",
     "shell.execute_reply": "2021-12-18T00:26:15.896166Z"
    },
    "papermill": {
     "duration": 0.03144,
     "end_time": "2021-12-18T00:26:15.896268",
     "exception": false,
     "start_time": "2021-12-18T00:26:15.864828",
     "status": "completed"
    },
    "tags": []
   },
   "outputs": [],
   "source": [
    "#hide\n",
    "# g.rename(columns= {'date':'day'},inplace = True)"
   ]
  },
  {
   "cell_type": "code",
   "execution_count": 38,
   "id": "major-fight",
   "metadata": {
    "execution": {
     "iopub.execute_input": "2021-12-18T00:26:15.953890Z",
     "iopub.status.busy": "2021-12-18T00:26:15.953430Z",
     "iopub.status.idle": "2021-12-18T00:26:15.955230Z",
     "shell.execute_reply": "2021-12-18T00:26:15.955582Z"
    },
    "papermill": {
     "duration": 0.032475,
     "end_time": "2021-12-18T00:26:15.955692",
     "exception": false,
     "start_time": "2021-12-18T00:26:15.923217",
     "status": "completed"
    },
    "tags": []
   },
   "outputs": [],
   "source": [
    "#hide\n",
    "# g = g[cols]"
   ]
  },
  {
   "cell_type": "code",
   "execution_count": 39,
   "id": "structured-mobile",
   "metadata": {
    "execution": {
     "iopub.execute_input": "2021-12-18T00:26:16.012040Z",
     "iopub.status.busy": "2021-12-18T00:26:16.011589Z",
     "iopub.status.idle": "2021-12-18T00:26:16.013887Z",
     "shell.execute_reply": "2021-12-18T00:26:16.013526Z"
    },
    "papermill": {
     "duration": 0.031899,
     "end_time": "2021-12-18T00:26:16.013985",
     "exception": false,
     "start_time": "2021-12-18T00:26:15.982086",
     "status": "completed"
    },
    "tags": []
   },
   "outputs": [],
   "source": [
    "# #hide\n",
    "# g = g[g.group.notna()]"
   ]
  },
  {
   "cell_type": "code",
   "execution_count": 40,
   "id": "determined-closing",
   "metadata": {
    "execution": {
     "iopub.execute_input": "2021-12-18T00:26:16.071254Z",
     "iopub.status.busy": "2021-12-18T00:26:16.070724Z",
     "iopub.status.idle": "2021-12-18T00:26:16.071781Z",
     "shell.execute_reply": "2021-12-18T00:26:16.072251Z"
    },
    "papermill": {
     "duration": 0.031607,
     "end_time": "2021-12-18T00:26:16.072375",
     "exception": false,
     "start_time": "2021-12-18T00:26:16.040768",
     "status": "completed"
    },
    "tags": []
   },
   "outputs": [],
   "source": [
    "# #hide\n",
    "# colors = dict(zip(\n",
    "#     [\"Oceania\", \"Europe\", \"Asia\", \"South America\", \"Middle East\", \"North America\", \"Africa\"],\n",
    "#     [\"#adb0ff\", \"#ffb3ff\", \"#90d595\", \"#e48381\", \"#aafbff\", \"#f7bb5f\", \"#eafb50\"]\n",
    "# ))\n",
    "# group_lk = g.set_index('name')['group'].to_dict()"
   ]
  },
  {
   "cell_type": "code",
   "execution_count": null,
   "id": "gross-drinking",
   "metadata": {
    "papermill": {
     "duration": 0.032483,
     "end_time": "2021-12-18T00:26:16.137906",
     "exception": false,
     "start_time": "2021-12-18T00:26:16.105423",
     "status": "completed"
    },
    "tags": []
   },
   "outputs": [],
   "source": []
  },
  {
   "cell_type": "code",
   "execution_count": 41,
   "id": "subject-macintosh",
   "metadata": {
    "execution": {
     "iopub.execute_input": "2021-12-18T00:26:16.205037Z",
     "iopub.status.busy": "2021-12-18T00:26:16.204408Z",
     "iopub.status.idle": "2021-12-18T00:26:16.205922Z",
     "shell.execute_reply": "2021-12-18T00:26:16.206388Z"
    },
    "papermill": {
     "duration": 0.037447,
     "end_time": "2021-12-18T00:26:16.206527",
     "exception": false,
     "start_time": "2021-12-18T00:26:16.169080",
     "status": "completed"
    },
    "tags": []
   },
   "outputs": [],
   "source": [
    "# #hide\n",
    "# fig, ax = plt.subplots(figsize=(15, 8))\n",
    "\n",
    "# def draw_barchart(current_day):\n",
    "#     dff = g[g['day'].eq(current_day)].sort_values(by='value', ascending=True).tail(10)\n",
    "#     ax.clear()\n",
    "#     ax.barh(dff['name'], dff['value'], color=[colors[group_lk[x]] for x in dff['name']])\n",
    "#     dx = dff['value'].max() / 200\n",
    "    \n",
    "#     for i, (value, name) in enumerate(zip(dff['value'], dff['name'])):\n",
    "#         ax.text(value-dx, i,     name,           size=14, weight=600, ha='right', va='bottom')\n",
    "#         ax.text(value-dx, i-.25, group_lk[name], size=10, color='#444444', ha='right', va='baseline')\n",
    "#         ax.text(value+dx, i,     f'{value:,.0f}',  size=14, ha='left',  va='center')\n",
    "#     ax.text(1, 0.4, current_day, transform=ax.transAxes, color='#777777', size=46, ha='right', weight=800)\n",
    "#     ax.text(0, 1.06, 'Population (thousands)', transform=ax.transAxes, size=12, color='#777777')\n",
    "#     ax.xaxis.set_major_formatter(ticker.StrMethodFormatter('{x:,.0f}'))\n",
    "#     ax.xaxis.set_ticks_position('top')\n",
    "#     ax.tick_params(axis='x', colors='#777777', labelsize=12)\n",
    "#     ax.set_yticks([])\n",
    "#     ax.margins(0, 0.01)\n",
    "#     ax.grid(which='major', axis='x', linestyle='-')\n",
    "#     ax.set_axisbelow(True)\n",
    "    \n",
    "#     ax.text(0, 1.15, 'Coronavirus',\n",
    "#             transform=ax.transAxes, size=24, weight=600, ha='left', va='top')\n",
    "# #     ax.text(1, 0, 'by @pratapvardhan; credit @jburnmurdoch', transform=ax.transAxes, color='#777777', ha='right',\n",
    "# #             bbox=dict(facecolor='white', alpha=0.8, edgecolor='white'))\n",
    "#     plt.box(False)"
   ]
  },
  {
   "cell_type": "code",
   "execution_count": 42,
   "id": "sexual-wages",
   "metadata": {
    "execution": {
     "iopub.execute_input": "2021-12-18T00:26:16.264617Z",
     "iopub.status.busy": "2021-12-18T00:26:16.264005Z",
     "iopub.status.idle": "2021-12-18T00:26:16.267511Z",
     "shell.execute_reply": "2021-12-18T00:26:16.267950Z"
    },
    "papermill": {
     "duration": 0.034756,
     "end_time": "2021-12-18T00:26:16.268080",
     "exception": false,
     "start_time": "2021-12-18T00:26:16.233324",
     "status": "completed"
    },
    "tags": []
   },
   "outputs": [],
   "source": [
    "# #hide_input\n",
    "# fig, ax = plt.subplots(figsize=(15, 8))\n",
    "# animator = animation.FuncAnimation(fig, draw_barchart, frames=range(g.day.values.min(), g.day.values.max()))\n",
    "# HTML(animator.to_jshtml())\n",
    "# # or use animator.to_html5_video() or animator.save() "
   ]
  },
  {
   "cell_type": "code",
   "execution_count": null,
   "id": "australian-container",
   "metadata": {
    "papermill": {
     "duration": 0.031351,
     "end_time": "2021-12-18T00:26:16.330657",
     "exception": false,
     "start_time": "2021-12-18T00:26:16.299306",
     "status": "completed"
    },
    "tags": []
   },
   "outputs": [],
   "source": []
  },
  {
   "cell_type": "code",
   "execution_count": null,
   "id": "mediterranean-pontiac",
   "metadata": {
    "papermill": {
     "duration": 0.031678,
     "end_time": "2021-12-18T00:26:16.395411",
     "exception": false,
     "start_time": "2021-12-18T00:26:16.363733",
     "status": "completed"
    },
    "tags": []
   },
   "outputs": [],
   "source": []
  },
  {
   "cell_type": "code",
   "execution_count": null,
   "id": "aging-legislature",
   "metadata": {
    "papermill": {
     "duration": 0.031139,
     "end_time": "2021-12-18T00:26:16.457934",
     "exception": false,
     "start_time": "2021-12-18T00:26:16.426795",
     "status": "completed"
    },
    "tags": []
   },
   "outputs": [],
   "source": []
  }
 ],
 "metadata": {
  "kernelspec": {
   "display_name": "Python 3",
   "language": "python",
   "name": "python3"
  },
  "language_info": {
   "codemirror_mode": {
    "name": "ipython",
    "version": 3
   },
   "file_extension": ".py",
   "mimetype": "text/x-python",
   "name": "python",
   "nbconvert_exporter": "python",
   "pygments_lexer": "ipython3",
   "version": "3.6.15"
  },
  "papermill": {
   "duration": 6.600015,
   "end_time": "2021-12-18T00:26:16.798172",
   "environment_variables": {},
   "exception": null,
   "input_path": "2020-03-21-covid19exp.ipynb",
   "output_path": "2020-03-21-covid19exp.ipynb",
   "parameters": {},
   "start_time": "2021-12-18T00:26:10.198157",
   "version": "2.0.0"
  }
 },
 "nbformat": 4,
 "nbformat_minor": 5
}