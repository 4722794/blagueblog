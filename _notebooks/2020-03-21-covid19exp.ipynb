{
 "cells": [
  {
   "cell_type": "markdown",
   "id": "muslim-click",
   "metadata": {
    "papermill": {
     "duration": 0.032521,
     "end_time": "2021-02-10T00:10:19.063159",
     "exception": false,
     "start_time": "2021-02-10T00:10:19.030638",
     "status": "completed"
    },
    "tags": []
   },
   "source": [
    "# COVID-19 Case Race\n",
    "> A race chart to see rising cases around the world\n",
    "\n",
    "- author: Hargun Oberoi\n",
    "- image: images/covid-overview.png\n",
    "- hide: false\n",
    "- badges: false"
   ]
  },
  {
   "cell_type": "code",
   "execution_count": 1,
   "id": "proof-material",
   "metadata": {
    "execution": {
     "iopub.execute_input": "2021-02-10T00:10:19.133352Z",
     "iopub.status.busy": "2021-02-10T00:10:19.132817Z",
     "iopub.status.idle": "2021-02-10T00:10:19.425166Z",
     "shell.execute_reply": "2021-02-10T00:10:19.424691Z"
    },
    "papermill": {
     "duration": 0.331052,
     "end_time": "2021-02-10T00:10:19.425304",
     "exception": false,
     "start_time": "2021-02-10T00:10:19.094252",
     "status": "completed"
    },
    "tags": []
   },
   "outputs": [],
   "source": [
    "#hide\n",
    "import numpy as np\n",
    "import pandas as pd\n",
    "from jinja2 import Template\n",
    "from IPython.display import HTML"
   ]
  },
  {
   "cell_type": "code",
   "execution_count": 2,
   "id": "developed-terminology",
   "metadata": {
    "execution": {
     "iopub.execute_input": "2021-02-10T00:10:19.486514Z",
     "iopub.status.busy": "2021-02-10T00:10:19.485971Z",
     "iopub.status.idle": "2021-02-10T00:10:19.488147Z",
     "shell.execute_reply": "2021-02-10T00:10:19.487716Z"
    },
    "papermill": {
     "duration": 0.03455,
     "end_time": "2021-02-10T00:10:19.488252",
     "exception": false,
     "start_time": "2021-02-10T00:10:19.453702",
     "status": "completed"
    },
    "tags": []
   },
   "outputs": [],
   "source": [
    "#hide\n",
    "\n",
    "# FETCH\n",
    "base_url = 'https://raw.githubusercontent.com/pratapvardhan/notebooks/master/covid19/'\n",
    "paths = {\n",
    "    'mapping': base_url + 'mapping_countries.csv',\n",
    "    'overview': base_url + 'overview.tpl'\n",
    "}"
   ]
  },
  {
   "cell_type": "code",
   "execution_count": 3,
   "id": "dynamic-saver",
   "metadata": {
    "execution": {
     "iopub.execute_input": "2021-02-10T00:10:19.558206Z",
     "iopub.status.busy": "2021-02-10T00:10:19.557655Z",
     "iopub.status.idle": "2021-02-10T00:10:19.560754Z",
     "shell.execute_reply": "2021-02-10T00:10:19.560241Z"
    },
    "papermill": {
     "duration": 0.044083,
     "end_time": "2021-02-10T00:10:19.560865",
     "exception": false,
     "start_time": "2021-02-10T00:10:19.516782",
     "status": "completed"
    },
    "tags": []
   },
   "outputs": [
    {
     "data": {
      "text/plain": [
       "'https://raw.githubusercontent.com/pratapvardhan/notebooks/master/covid19/mapping_countries.csv'"
      ]
     },
     "execution_count": 3,
     "metadata": {},
     "output_type": "execute_result"
    }
   ],
   "source": [
    "#hide\n",
    "paths['mapping']"
   ]
  },
  {
   "cell_type": "code",
   "execution_count": 4,
   "id": "urban-software",
   "metadata": {
    "execution": {
     "iopub.execute_input": "2021-02-10T00:10:19.627423Z",
     "iopub.status.busy": "2021-02-10T00:10:19.626900Z",
     "iopub.status.idle": "2021-02-10T00:10:19.629386Z",
     "shell.execute_reply": "2021-02-10T00:10:19.628941Z"
    },
    "papermill": {
     "duration": 0.035858,
     "end_time": "2021-02-10T00:10:19.629485",
     "exception": false,
     "start_time": "2021-02-10T00:10:19.593627",
     "status": "completed"
    },
    "tags": []
   },
   "outputs": [],
   "source": [
    "#hide\n",
    "def get_mappings(url):\n",
    "    df = pd.read_csv(url)\n",
    "    return {\n",
    "        'df': df,\n",
    "        'replace.country': dict(df.dropna(subset=['Name']).set_index('Country')['Name']),\n",
    "        'map.continent': dict(df.set_index('Name')['Continent'])\n",
    "    }"
   ]
  },
  {
   "cell_type": "code",
   "execution_count": 5,
   "id": "intimate-machinery",
   "metadata": {
    "execution": {
     "iopub.execute_input": "2021-02-10T00:10:19.696187Z",
     "iopub.status.busy": "2021-02-10T00:10:19.695668Z",
     "iopub.status.idle": "2021-02-10T00:10:19.737825Z",
     "shell.execute_reply": "2021-02-10T00:10:19.737394Z"
    },
    "papermill": {
     "duration": 0.077144,
     "end_time": "2021-02-10T00:10:19.737930",
     "exception": false,
     "start_time": "2021-02-10T00:10:19.660786",
     "status": "completed"
    },
    "tags": []
   },
   "outputs": [],
   "source": [
    "#hide\n",
    "mapping = get_mappings(paths['mapping'])"
   ]
  },
  {
   "cell_type": "code",
   "execution_count": 6,
   "id": "certified-tactics",
   "metadata": {
    "execution": {
     "iopub.execute_input": "2021-02-10T00:10:19.801711Z",
     "iopub.status.busy": "2021-02-10T00:10:19.801179Z",
     "iopub.status.idle": "2021-02-10T00:10:19.803114Z",
     "shell.execute_reply": "2021-02-10T00:10:19.803518Z"
    },
    "papermill": {
     "duration": 0.035703,
     "end_time": "2021-02-10T00:10:19.803636",
     "exception": false,
     "start_time": "2021-02-10T00:10:19.767933",
     "status": "completed"
    },
    "tags": []
   },
   "outputs": [],
   "source": [
    "#hide\n",
    "def get_template(path):\n",
    "    from urllib.parse import urlparse\n",
    "    if bool(urlparse(path).netloc):\n",
    "        from urllib.request import urlopen\n",
    "        return urlopen(path).read().decode('utf8')\n",
    "    return open(path).read()"
   ]
  },
  {
   "cell_type": "code",
   "execution_count": 7,
   "id": "realistic-blast",
   "metadata": {
    "execution": {
     "iopub.execute_input": "2021-02-10T00:10:19.871438Z",
     "iopub.status.busy": "2021-02-10T00:10:19.870773Z",
     "iopub.status.idle": "2021-02-10T00:10:19.875535Z",
     "shell.execute_reply": "2021-02-10T00:10:19.875082Z"
    },
    "papermill": {
     "duration": 0.04336,
     "end_time": "2021-02-10T00:10:19.875639",
     "exception": false,
     "start_time": "2021-02-10T00:10:19.832279",
     "status": "completed"
    },
    "tags": []
   },
   "outputs": [],
   "source": [
    "#hide\n",
    "def get_frame(name):\n",
    "    url = (\n",
    "        'https://raw.githubusercontent.com/CSSEGISandData/COVID-19/master/csse_covid_19_data/'\n",
    "        f'csse_covid_19_time_series/time_series_covid19_{name}_global.csv')\n",
    "    df = pd.read_csv(url)\n",
    "    # rename countries\n",
    "    df['Country/Region'] = df['Country/Region'].replace(mapping['replace.country'])\n",
    "    return df"
   ]
  },
  {
   "cell_type": "code",
   "execution_count": 8,
   "id": "affiliated-characterization",
   "metadata": {
    "execution": {
     "iopub.execute_input": "2021-02-10T00:10:19.944290Z",
     "iopub.status.busy": "2021-02-10T00:10:19.942110Z",
     "iopub.status.idle": "2021-02-10T00:10:19.945104Z",
     "shell.execute_reply": "2021-02-10T00:10:19.945678Z"
    },
    "papermill": {
     "duration": 0.038912,
     "end_time": "2021-02-10T00:10:19.945815",
     "exception": false,
     "start_time": "2021-02-10T00:10:19.906903",
     "status": "completed"
    },
    "tags": []
   },
   "outputs": [],
   "source": [
    "#hide\n",
    "def get_dates(df):\n",
    "    dt_cols = df.columns[~df.columns.isin(['Province/State', 'Country/Region', 'Lat', 'Long'])]\n",
    "    LAST_DATE_I = -1\n",
    "    # sometimes last column may be empty, then go backwards\n",
    "    for i in range(-1, -len(dt_cols), -1):\n",
    "        if not df[dt_cols[i]].fillna(0).eq(0).all():\n",
    "            LAST_DATE_I = i\n",
    "            break\n",
    "    return LAST_DATE_I, dt_cols"
   ]
  },
  {
   "cell_type": "code",
   "execution_count": 9,
   "id": "recent-optimization",
   "metadata": {
    "execution": {
     "iopub.execute_input": "2021-02-10T00:10:20.010511Z",
     "iopub.status.busy": "2021-02-10T00:10:20.009817Z",
     "iopub.status.idle": "2021-02-10T00:10:20.316966Z",
     "shell.execute_reply": "2021-02-10T00:10:20.316483Z"
    },
    "papermill": {
     "duration": 0.341068,
     "end_time": "2021-02-10T00:10:20.317087",
     "exception": false,
     "start_time": "2021-02-10T00:10:19.976019",
     "status": "completed"
    },
    "tags": []
   },
   "outputs": [],
   "source": [
    "#hide\n",
    "COL_REGION = 'Country/Region'\n",
    "# Confirmed, Recovered, Deaths\n",
    "df = get_frame('confirmed')\n",
    "# dft_: timeseries, dfc_: today country agg\n",
    "dft_cases = df\n",
    "dft_deaths = get_frame('deaths')\n",
    "dft_recovered = get_frame('recovered')\n",
    "LAST_DATE_I, dt_cols = get_dates(df)"
   ]
  },
  {
   "cell_type": "code",
   "execution_count": 10,
   "id": "absolute-copper",
   "metadata": {
    "execution": {
     "iopub.execute_input": "2021-02-10T00:10:20.383316Z",
     "iopub.status.busy": "2021-02-10T00:10:20.382785Z",
     "iopub.status.idle": "2021-02-10T00:10:20.385456Z",
     "shell.execute_reply": "2021-02-10T00:10:20.384587Z"
    },
    "papermill": {
     "duration": 0.039031,
     "end_time": "2021-02-10T00:10:20.385605",
     "exception": false,
     "start_time": "2021-02-10T00:10:20.346574",
     "status": "completed"
    },
    "tags": []
   },
   "outputs": [],
   "source": [
    "#hide\n",
    "LAST_DATE_I, dt_cols = get_dates(df)\n",
    "dt_today =dt_cols[LAST_DATE_I]\n",
    "# dt_5day = dt_cols[LAST_DATE_I - 5]\n",
    "dt_yday = dt_cols[LAST_DATE_I - 1]"
   ]
  },
  {
   "cell_type": "code",
   "execution_count": 11,
   "id": "restricted-sheriff",
   "metadata": {
    "execution": {
     "iopub.execute_input": "2021-02-10T00:10:20.449854Z",
     "iopub.status.busy": "2021-02-10T00:10:20.449334Z",
     "iopub.status.idle": "2021-02-10T00:10:20.457523Z",
     "shell.execute_reply": "2021-02-10T00:10:20.457947Z"
    },
    "papermill": {
     "duration": 0.042109,
     "end_time": "2021-02-10T00:10:20.458058",
     "exception": false,
     "start_time": "2021-02-10T00:10:20.415949",
     "status": "completed"
    },
    "tags": []
   },
   "outputs": [],
   "source": [
    "#hide\n",
    "dfc_cases = dft_cases.groupby(COL_REGION)[dt_today].sum()\n",
    "dfc_deaths = dft_deaths.groupby(COL_REGION)[dt_today].sum()\n",
    "# dfp_cases = dft_cases.groupby(COL_REGION)[dt_5day].sum()\n",
    "# dfp_deaths = dft_deaths.groupby(COL_REGION)[dt_5day].sum()\n",
    "dfp_cases = dft_cases.groupby(COL_REGION)[dt_yday].sum()\n",
    "dfp_deaths = dft_deaths.groupby(COL_REGION)[dt_yday].sum()"
   ]
  },
  {
   "cell_type": "code",
   "execution_count": 12,
   "id": "deluxe-hepatitis",
   "metadata": {
    "execution": {
     "iopub.execute_input": "2021-02-10T00:10:20.532555Z",
     "iopub.status.busy": "2021-02-10T00:10:20.531969Z",
     "iopub.status.idle": "2021-02-10T00:10:20.537237Z",
     "shell.execute_reply": "2021-02-10T00:10:20.537667Z"
    },
    "papermill": {
     "duration": 0.047347,
     "end_time": "2021-02-10T00:10:20.537779",
     "exception": false,
     "start_time": "2021-02-10T00:10:20.490432",
     "status": "completed"
    },
    "tags": []
   },
   "outputs": [],
   "source": [
    "#hide\n",
    "df_table = (pd.DataFrame(dict(Cases = dfc_cases, Deaths = dfc_deaths, PCases = dfp_cases, PDeaths = dfp_deaths))\n",
    "            .sort_values(by = ['Cases','Deaths'], ascending = [False, False])\n",
    "            .reset_index())"
   ]
  },
  {
   "cell_type": "code",
   "execution_count": 13,
   "id": "educational-chancellor",
   "metadata": {
    "execution": {
     "iopub.execute_input": "2021-02-10T00:10:20.613072Z",
     "iopub.status.busy": "2021-02-10T00:10:20.612436Z",
     "iopub.status.idle": "2021-02-10T00:10:20.620998Z",
     "shell.execute_reply": "2021-02-10T00:10:20.621520Z"
    },
    "papermill": {
     "duration": 0.054383,
     "end_time": "2021-02-10T00:10:20.621634",
     "exception": false,
     "start_time": "2021-02-10T00:10:20.567251",
     "status": "completed"
    },
    "tags": []
   },
   "outputs": [
    {
     "data": {
      "text/html": [
       "<div>\n",
       "<style scoped>\n",
       "    .dataframe tbody tr th:only-of-type {\n",
       "        vertical-align: middle;\n",
       "    }\n",
       "\n",
       "    .dataframe tbody tr th {\n",
       "        vertical-align: top;\n",
       "    }\n",
       "\n",
       "    .dataframe thead th {\n",
       "        text-align: right;\n",
       "    }\n",
       "</style>\n",
       "<table border=\"1\" class=\"dataframe\">\n",
       "  <thead>\n",
       "    <tr style=\"text-align: right;\">\n",
       "      <th></th>\n",
       "      <th>Country/Region</th>\n",
       "      <th>Cases</th>\n",
       "      <th>Deaths</th>\n",
       "      <th>PCases</th>\n",
       "      <th>PDeaths</th>\n",
       "      <th>Cases (+)</th>\n",
       "      <th>Deaths (+)</th>\n",
       "      <th>Fatality Rate</th>\n",
       "      <th>Continent</th>\n",
       "    </tr>\n",
       "  </thead>\n",
       "  <tbody>\n",
       "    <tr>\n",
       "      <th>0</th>\n",
       "      <td>US</td>\n",
       "      <td>27097095</td>\n",
       "      <td>465072</td>\n",
       "      <td>27007368</td>\n",
       "      <td>463476</td>\n",
       "      <td>89727</td>\n",
       "      <td>1596</td>\n",
       "      <td>1.72</td>\n",
       "      <td>North America</td>\n",
       "    </tr>\n",
       "    <tr>\n",
       "      <th>1</th>\n",
       "      <td>India</td>\n",
       "      <td>10847304</td>\n",
       "      <td>155158</td>\n",
       "      <td>10838194</td>\n",
       "      <td>155080</td>\n",
       "      <td>9110</td>\n",
       "      <td>78</td>\n",
       "      <td>1.43</td>\n",
       "      <td>Asia</td>\n",
       "    </tr>\n",
       "    <tr>\n",
       "      <th>2</th>\n",
       "      <td>Brazil</td>\n",
       "      <td>9524640</td>\n",
       "      <td>231534</td>\n",
       "      <td>9524640</td>\n",
       "      <td>231534</td>\n",
       "      <td>0</td>\n",
       "      <td>0</td>\n",
       "      <td>2.43</td>\n",
       "      <td>South America</td>\n",
       "    </tr>\n",
       "    <tr>\n",
       "      <th>3</th>\n",
       "      <td>United Kingdom</td>\n",
       "      <td>3971315</td>\n",
       "      <td>113014</td>\n",
       "      <td>3957177</td>\n",
       "      <td>112681</td>\n",
       "      <td>14138</td>\n",
       "      <td>333</td>\n",
       "      <td>2.85</td>\n",
       "      <td>Europe</td>\n",
       "    </tr>\n",
       "    <tr>\n",
       "      <th>4</th>\n",
       "      <td>Russia</td>\n",
       "      <td>3939162</td>\n",
       "      <td>75828</td>\n",
       "      <td>3923461</td>\n",
       "      <td>75430</td>\n",
       "      <td>15701</td>\n",
       "      <td>398</td>\n",
       "      <td>1.92</td>\n",
       "      <td>Europe</td>\n",
       "    </tr>\n",
       "  </tbody>\n",
       "</table>\n",
       "</div>"
      ],
      "text/plain": [
       "   Country/Region     Cases  Deaths    PCases  PDeaths  Cases (+)  Deaths (+)  \\\n",
       "0              US  27097095  465072  27007368   463476      89727        1596   \n",
       "1           India  10847304  155158  10838194   155080       9110          78   \n",
       "2          Brazil   9524640  231534   9524640   231534          0           0   \n",
       "3  United Kingdom   3971315  113014   3957177   112681      14138         333   \n",
       "4          Russia   3939162   75828   3923461    75430      15701         398   \n",
       "\n",
       "   Fatality Rate      Continent  \n",
       "0           1.72  North America  \n",
       "1           1.43           Asia  \n",
       "2           2.43  South America  \n",
       "3           2.85         Europe  \n",
       "4           1.92         Europe  "
      ]
     },
     "execution_count": 13,
     "metadata": {},
     "output_type": "execute_result"
    }
   ],
   "source": [
    "#hide\n",
    "for c in 'Cases, Deaths'.split(', '):\n",
    "    df_table[f'{c} (+)'] = (df_table[c] - df_table[f'P{c}']).clip(0)\n",
    "    #Clip ça veut dire, les chiffres negatif sont interdit\n",
    "df_table['Fatality Rate'] = (100* df_table['Deaths']/ df_table['Cases']).round(2)\n",
    "df_table['Continent'] = df_table['Country/Region'].map(mapping['map.continent'])\n",
    "df_table.head(5)"
   ]
  },
  {
   "cell_type": "code",
   "execution_count": 14,
   "id": "aboriginal-bulgaria",
   "metadata": {
    "execution": {
     "iopub.execute_input": "2021-02-10T00:10:20.685638Z",
     "iopub.status.busy": "2021-02-10T00:10:20.685089Z",
     "iopub.status.idle": "2021-02-10T00:10:20.687085Z",
     "shell.execute_reply": "2021-02-10T00:10:20.687600Z"
    },
    "papermill": {
     "duration": 0.037115,
     "end_time": "2021-02-10T00:10:20.687711",
     "exception": false,
     "start_time": "2021-02-10T00:10:20.650596",
     "status": "completed"
    },
    "tags": []
   },
   "outputs": [],
   "source": [
    "#hide\n",
    "#delete problematic countries from table\n",
    "df_table = df_table[~df_table['Country/Region'].isin(['Cape Verde', 'Cruise Ship', 'Kosovo'])]"
   ]
  },
  {
   "cell_type": "code",
   "execution_count": 15,
   "id": "fantastic-effect",
   "metadata": {
    "execution": {
     "iopub.execute_input": "2021-02-10T00:10:20.754927Z",
     "iopub.status.busy": "2021-02-10T00:10:20.753665Z",
     "iopub.status.idle": "2021-02-10T00:10:20.773200Z",
     "shell.execute_reply": "2021-02-10T00:10:20.773629Z"
    },
    "papermill": {
     "duration": 0.057315,
     "end_time": "2021-02-10T00:10:20.773740",
     "exception": false,
     "start_time": "2021-02-10T00:10:20.716425",
     "status": "completed"
    },
    "tags": []
   },
   "outputs": [
    {
     "data": {
      "text/html": [
       "<div>\n",
       "<style scoped>\n",
       "    .dataframe tbody tr th:only-of-type {\n",
       "        vertical-align: middle;\n",
       "    }\n",
       "\n",
       "    .dataframe tbody tr th {\n",
       "        vertical-align: top;\n",
       "    }\n",
       "\n",
       "    .dataframe thead th {\n",
       "        text-align: right;\n",
       "    }\n",
       "</style>\n",
       "<table border=\"1\" class=\"dataframe\">\n",
       "  <thead>\n",
       "    <tr style=\"text-align: right;\">\n",
       "      <th></th>\n",
       "      <th>Country/Region</th>\n",
       "      <th>Cases</th>\n",
       "      <th>Deaths</th>\n",
       "      <th>PCases</th>\n",
       "      <th>PDeaths</th>\n",
       "      <th>Cases (+)</th>\n",
       "      <th>Deaths (+)</th>\n",
       "      <th>Fatality Rate</th>\n",
       "      <th>Continent</th>\n",
       "    </tr>\n",
       "  </thead>\n",
       "  <tbody>\n",
       "    <tr>\n",
       "      <th>0</th>\n",
       "      <td>US</td>\n",
       "      <td>27097095</td>\n",
       "      <td>465072</td>\n",
       "      <td>27007368</td>\n",
       "      <td>463476</td>\n",
       "      <td>89727</td>\n",
       "      <td>1596</td>\n",
       "      <td>1.7</td>\n",
       "      <td>North America</td>\n",
       "    </tr>\n",
       "    <tr>\n",
       "      <th>1</th>\n",
       "      <td>India</td>\n",
       "      <td>10847304</td>\n",
       "      <td>155158</td>\n",
       "      <td>10838194</td>\n",
       "      <td>155080</td>\n",
       "      <td>9110</td>\n",
       "      <td>78</td>\n",
       "      <td>1.4</td>\n",
       "      <td>Asia</td>\n",
       "    </tr>\n",
       "    <tr>\n",
       "      <th>2</th>\n",
       "      <td>Brazil</td>\n",
       "      <td>9524640</td>\n",
       "      <td>231534</td>\n",
       "      <td>9524640</td>\n",
       "      <td>231534</td>\n",
       "      <td>0</td>\n",
       "      <td>0</td>\n",
       "      <td>2.4</td>\n",
       "      <td>South America</td>\n",
       "    </tr>\n",
       "    <tr>\n",
       "      <th>3</th>\n",
       "      <td>United Kingdom</td>\n",
       "      <td>3971315</td>\n",
       "      <td>113014</td>\n",
       "      <td>3957177</td>\n",
       "      <td>112681</td>\n",
       "      <td>14138</td>\n",
       "      <td>333</td>\n",
       "      <td>2.8</td>\n",
       "      <td>Europe</td>\n",
       "    </tr>\n",
       "    <tr>\n",
       "      <th>4</th>\n",
       "      <td>Russia</td>\n",
       "      <td>3939162</td>\n",
       "      <td>75828</td>\n",
       "      <td>3923461</td>\n",
       "      <td>75430</td>\n",
       "      <td>15701</td>\n",
       "      <td>398</td>\n",
       "      <td>1.9</td>\n",
       "      <td>Europe</td>\n",
       "    </tr>\n",
       "  </tbody>\n",
       "</table>\n",
       "</div>"
      ],
      "text/plain": [
       "   Country/Region     Cases  Deaths    PCases  PDeaths  Cases (+)  Deaths (+)  \\\n",
       "0              US  27097095  465072  27007368   463476      89727        1596   \n",
       "1           India  10847304  155158  10838194   155080       9110          78   \n",
       "2          Brazil   9524640  231534   9524640   231534          0           0   \n",
       "3  United Kingdom   3971315  113014   3957177   112681      14138         333   \n",
       "4          Russia   3939162   75828   3923461    75430      15701         398   \n",
       "\n",
       "   Fatality Rate      Continent  \n",
       "0            1.7  North America  \n",
       "1            1.4           Asia  \n",
       "2            2.4  South America  \n",
       "3            2.8         Europe  \n",
       "4            1.9         Europe  "
      ]
     },
     "execution_count": 15,
     "metadata": {},
     "output_type": "execute_result"
    }
   ],
   "source": [
    "#hide\n",
    "df_table = (pd.DataFrame(dict(Cases=dfc_cases, Deaths=dfc_deaths, PCases=dfp_cases, PDeaths=dfp_deaths))\n",
    "             .sort_values(by=['Cases', 'Deaths'], ascending=[False, False])\n",
    "             .reset_index())\n",
    "df_table.rename(columns={'index': 'Country/Region'}, inplace=True)\n",
    "for c in 'Cases, Deaths'.split(', '):\n",
    "    df_table[f'{c} (+)'] = (df_table[c] - df_table[f'P{c}']).clip(0)  # DATA BUG\n",
    "df_table['Fatality Rate'] = (100 * df_table['Deaths'] / df_table['Cases']).round(1)\n",
    "df_table['Continent'] = df_table['Country/Region'].map(mapping['map.continent'])\n",
    "df_table.head(5)"
   ]
  },
  {
   "cell_type": "code",
   "execution_count": 16,
   "id": "fewer-occasion",
   "metadata": {
    "execution": {
     "iopub.execute_input": "2021-02-10T00:10:20.841106Z",
     "iopub.status.busy": "2021-02-10T00:10:20.840550Z",
     "iopub.status.idle": "2021-02-10T00:10:20.842751Z",
     "shell.execute_reply": "2021-02-10T00:10:20.842308Z"
    },
    "papermill": {
     "duration": 0.038481,
     "end_time": "2021-02-10T00:10:20.842850",
     "exception": false,
     "start_time": "2021-02-10T00:10:20.804369",
     "status": "completed"
    },
    "tags": []
   },
   "outputs": [],
   "source": [
    "#hide\n",
    "#delete problematic countries from table\n",
    "df_table = df_table[~df_table['Country/Region'].isin(['Cape Verde', 'Cruise Ship', 'Kosovo'])]"
   ]
  },
  {
   "cell_type": "code",
   "execution_count": 17,
   "id": "related-center",
   "metadata": {
    "execution": {
     "iopub.execute_input": "2021-02-10T00:10:20.924873Z",
     "iopub.status.busy": "2021-02-10T00:10:20.924320Z",
     "iopub.status.idle": "2021-02-10T00:10:20.926776Z",
     "shell.execute_reply": "2021-02-10T00:10:20.926332Z"
    },
    "papermill": {
     "duration": 0.049804,
     "end_time": "2021-02-10T00:10:20.926874",
     "exception": false,
     "start_time": "2021-02-10T00:10:20.877070",
     "status": "completed"
    },
    "tags": []
   },
   "outputs": [],
   "source": [
    "#hide\n",
    "metrics = [df_table.columns[index] for index in [1,2,5,6]]\n",
    "# s_china = df_table[df_table['Country/Region'].eq('China')][metrics].sum().add_prefix('China ')\n",
    "s_us = df_table[df_table['Country/Region'].eq('US')][metrics].sum().add_prefix('US ')\n",
    "s_eu = df_table[df_table['Continent'].eq('Europe')][metrics].sum().add_prefix('EU ')\n",
    "s_ind = df_table[df_table['Country/Region'].eq('India')][metrics].sum().add_prefix('India ')\n",
    "summary = {'updated': pd.to_datetime(dt_today), 'since': pd.to_datetime(dt_yday)}\n",
    "summary = {'updated': pd.to_datetime(dt_today), 'since': pd.to_datetime(dt_yday)}\n",
    "summary = {**summary, **df_table[metrics].sum(), **s_ind, **s_us, **s_eu}"
   ]
  },
  {
   "cell_type": "code",
   "execution_count": 18,
   "id": "engaging-syndrome",
   "metadata": {
    "execution": {
     "iopub.execute_input": "2021-02-10T00:10:20.992337Z",
     "iopub.status.busy": "2021-02-10T00:10:20.991822Z",
     "iopub.status.idle": "2021-02-10T00:10:21.002352Z",
     "shell.execute_reply": "2021-02-10T00:10:21.001900Z"
    },
    "papermill": {
     "duration": 0.044257,
     "end_time": "2021-02-10T00:10:21.002451",
     "exception": false,
     "start_time": "2021-02-10T00:10:20.958194",
     "status": "completed"
    },
    "tags": []
   },
   "outputs": [],
   "source": [
    "#hide\n",
    "dft_ct_new_cases = dft_cases.groupby(COL_REGION)[dt_cols].sum().diff(axis=1).fillna(0).astype(int)"
   ]
  },
  {
   "cell_type": "code",
   "execution_count": 19,
   "id": "neutral-assignment",
   "metadata": {
    "execution": {
     "iopub.execute_input": "2021-02-10T00:10:21.073594Z",
     "iopub.status.busy": "2021-02-10T00:10:21.073073Z",
     "iopub.status.idle": "2021-02-10T00:10:21.075000Z",
     "shell.execute_reply": "2021-02-10T00:10:21.074559Z"
    },
    "papermill": {
     "duration": 0.038781,
     "end_time": "2021-02-10T00:10:21.075097",
     "exception": false,
     "start_time": "2021-02-10T00:10:21.036316",
     "status": "completed"
    },
    "tags": []
   },
   "outputs": [],
   "source": [
    "#hide\n",
    "everydaycases = dft_ct_new_cases.cumsum(axis=1)"
   ]
  },
  {
   "cell_type": "code",
   "execution_count": 20,
   "id": "parliamentary-calgary",
   "metadata": {
    "execution": {
     "iopub.execute_input": "2021-02-10T00:10:21.139229Z",
     "iopub.status.busy": "2021-02-10T00:10:21.138637Z",
     "iopub.status.idle": "2021-02-10T00:10:21.733207Z",
     "shell.execute_reply": "2021-02-10T00:10:21.732534Z"
    },
    "papermill": {
     "duration": 0.628008,
     "end_time": "2021-02-10T00:10:21.733371",
     "exception": false,
     "start_time": "2021-02-10T00:10:21.105363",
     "status": "completed"
    },
    "tags": []
   },
   "outputs": [],
   "source": [
    "#hide\n",
    "import pandas as pd\n",
    "import matplotlib.pyplot as plt\n",
    "import matplotlib.ticker as ticker\n",
    "import matplotlib.animation as animation\n",
    "from IPython.display import HTML"
   ]
  },
  {
   "cell_type": "code",
   "execution_count": 21,
   "id": "lasting-extraction",
   "metadata": {
    "execution": {
     "iopub.execute_input": "2021-02-10T00:10:21.796999Z",
     "iopub.status.busy": "2021-02-10T00:10:21.796407Z",
     "iopub.status.idle": "2021-02-10T00:10:21.801068Z",
     "shell.execute_reply": "2021-02-10T00:10:21.801688Z"
    },
    "papermill": {
     "duration": 0.038641,
     "end_time": "2021-02-10T00:10:21.801817",
     "exception": false,
     "start_time": "2021-02-10T00:10:21.763176",
     "status": "completed"
    },
    "tags": []
   },
   "outputs": [],
   "source": [
    "#hide\n",
    "t = everydaycases.stack()"
   ]
  },
  {
   "cell_type": "code",
   "execution_count": 22,
   "id": "premier-sleeve",
   "metadata": {
    "execution": {
     "iopub.execute_input": "2021-02-10T00:10:21.863863Z",
     "iopub.status.busy": "2021-02-10T00:10:21.863342Z",
     "iopub.status.idle": "2021-02-10T00:10:21.870396Z",
     "shell.execute_reply": "2021-02-10T00:10:21.871259Z"
    },
    "papermill": {
     "duration": 0.040298,
     "end_time": "2021-02-10T00:10:21.871397",
     "exception": false,
     "start_time": "2021-02-10T00:10:21.831099",
     "status": "completed"
    },
    "tags": []
   },
   "outputs": [],
   "source": [
    "#hide\n",
    "g = t.reset_index(['Country/Region'])"
   ]
  },
  {
   "cell_type": "code",
   "execution_count": 23,
   "id": "distributed-pittsburgh",
   "metadata": {
    "execution": {
     "iopub.execute_input": "2021-02-10T00:10:21.936498Z",
     "iopub.status.busy": "2021-02-10T00:10:21.935819Z",
     "iopub.status.idle": "2021-02-10T00:10:21.938127Z",
     "shell.execute_reply": "2021-02-10T00:10:21.938548Z"
    },
    "papermill": {
     "duration": 0.034936,
     "end_time": "2021-02-10T00:10:21.938661",
     "exception": false,
     "start_time": "2021-02-10T00:10:21.903725",
     "status": "completed"
    },
    "tags": []
   },
   "outputs": [],
   "source": [
    "#hide\n",
    "g.index.name = 'date'"
   ]
  },
  {
   "cell_type": "code",
   "execution_count": 24,
   "id": "naked-donor",
   "metadata": {
    "execution": {
     "iopub.execute_input": "2021-02-10T00:10:22.000688Z",
     "iopub.status.busy": "2021-02-10T00:10:22.000134Z",
     "iopub.status.idle": "2021-02-10T00:10:22.002475Z",
     "shell.execute_reply": "2021-02-10T00:10:22.002058Z"
    },
    "papermill": {
     "duration": 0.034272,
     "end_time": "2021-02-10T00:10:22.002576",
     "exception": false,
     "start_time": "2021-02-10T00:10:21.968304",
     "status": "completed"
    },
    "tags": []
   },
   "outputs": [],
   "source": [
    "# #hide\n",
    "# g = g.reset_index(['date'])"
   ]
  },
  {
   "cell_type": "code",
   "execution_count": 25,
   "id": "incomplete-mustang",
   "metadata": {
    "execution": {
     "iopub.execute_input": "2021-02-10T00:10:22.069559Z",
     "iopub.status.busy": "2021-02-10T00:10:22.069034Z",
     "iopub.status.idle": "2021-02-10T00:10:22.075215Z",
     "shell.execute_reply": "2021-02-10T00:10:22.080157Z"
    },
    "papermill": {
     "duration": 0.048895,
     "end_time": "2021-02-10T00:10:22.080281",
     "exception": false,
     "start_time": "2021-02-10T00:10:22.031386",
     "status": "completed"
    },
    "tags": []
   },
   "outputs": [],
   "source": [
    "#hide\n",
    "# g.head()"
   ]
  },
  {
   "cell_type": "code",
   "execution_count": 26,
   "id": "specific-kruger",
   "metadata": {
    "execution": {
     "iopub.execute_input": "2021-02-10T00:10:22.143966Z",
     "iopub.status.busy": "2021-02-10T00:10:22.143419Z",
     "iopub.status.idle": "2021-02-10T00:10:22.145764Z",
     "shell.execute_reply": "2021-02-10T00:10:22.145300Z"
    },
    "papermill": {
     "duration": 0.035306,
     "end_time": "2021-02-10T00:10:22.145867",
     "exception": false,
     "start_time": "2021-02-10T00:10:22.110561",
     "status": "completed"
    },
    "tags": []
   },
   "outputs": [],
   "source": [
    "#hide\n",
    "# g.columns = ['date','country','cases']"
   ]
  },
  {
   "cell_type": "code",
   "execution_count": 27,
   "id": "tender-conversion",
   "metadata": {
    "execution": {
     "iopub.execute_input": "2021-02-10T00:10:22.210038Z",
     "iopub.status.busy": "2021-02-10T00:10:22.209482Z",
     "iopub.status.idle": "2021-02-10T00:10:22.211812Z",
     "shell.execute_reply": "2021-02-10T00:10:22.211303Z"
    },
    "papermill": {
     "duration": 0.035109,
     "end_time": "2021-02-10T00:10:22.211911",
     "exception": false,
     "start_time": "2021-02-10T00:10:22.176802",
     "status": "completed"
    },
    "tags": []
   },
   "outputs": [],
   "source": [
    "#hide\n",
    "# g['continent'] = g.country"
   ]
  },
  {
   "cell_type": "code",
   "execution_count": 28,
   "id": "substantial-wilderness",
   "metadata": {
    "execution": {
     "iopub.execute_input": "2021-02-10T00:10:22.273435Z",
     "iopub.status.busy": "2021-02-10T00:10:22.272815Z",
     "iopub.status.idle": "2021-02-10T00:10:22.274593Z",
     "shell.execute_reply": "2021-02-10T00:10:22.274994Z"
    },
    "papermill": {
     "duration": 0.034265,
     "end_time": "2021-02-10T00:10:22.275105",
     "exception": false,
     "start_time": "2021-02-10T00:10:22.240840",
     "status": "completed"
    },
    "tags": []
   },
   "outputs": [],
   "source": [
    "#hide\n",
    "# cols = list(g.columns.values)"
   ]
  },
  {
   "cell_type": "code",
   "execution_count": 29,
   "id": "solved-farming",
   "metadata": {
    "execution": {
     "iopub.execute_input": "2021-02-10T00:10:22.336727Z",
     "iopub.status.busy": "2021-02-10T00:10:22.336157Z",
     "iopub.status.idle": "2021-02-10T00:10:22.338661Z",
     "shell.execute_reply": "2021-02-10T00:10:22.338161Z"
    },
    "papermill": {
     "duration": 0.034663,
     "end_time": "2021-02-10T00:10:22.338759",
     "exception": false,
     "start_time": "2021-02-10T00:10:22.304096",
     "status": "completed"
    },
    "tags": []
   },
   "outputs": [],
   "source": [
    "#hide\n",
    "# cols.insert(0, cols.pop())"
   ]
  },
  {
   "cell_type": "code",
   "execution_count": 30,
   "id": "executed-adoption",
   "metadata": {
    "execution": {
     "iopub.execute_input": "2021-02-10T00:10:22.407205Z",
     "iopub.status.busy": "2021-02-10T00:10:22.406668Z",
     "iopub.status.idle": "2021-02-10T00:10:22.409019Z",
     "shell.execute_reply": "2021-02-10T00:10:22.408573Z"
    },
    "papermill": {
     "duration": 0.038346,
     "end_time": "2021-02-10T00:10:22.409118",
     "exception": false,
     "start_time": "2021-02-10T00:10:22.370772",
     "status": "completed"
    },
    "tags": []
   },
   "outputs": [],
   "source": [
    "#hide\n",
    "# g = g[cols]"
   ]
  },
  {
   "cell_type": "code",
   "execution_count": 31,
   "id": "subject-dublin",
   "metadata": {
    "execution": {
     "iopub.execute_input": "2021-02-10T00:10:22.472608Z",
     "iopub.status.busy": "2021-02-10T00:10:22.472066Z",
     "iopub.status.idle": "2021-02-10T00:10:22.474419Z",
     "shell.execute_reply": "2021-02-10T00:10:22.473974Z"
    },
    "papermill": {
     "duration": 0.035588,
     "end_time": "2021-02-10T00:10:22.474517",
     "exception": false,
     "start_time": "2021-02-10T00:10:22.438929",
     "status": "completed"
    },
    "tags": []
   },
   "outputs": [],
   "source": [
    "#hide\n",
    "# g['continent'] = g['continent'].map(mapping['map.continent'])"
   ]
  },
  {
   "cell_type": "code",
   "execution_count": 32,
   "id": "freelance-scout",
   "metadata": {
    "execution": {
     "iopub.execute_input": "2021-02-10T00:10:22.537860Z",
     "iopub.status.busy": "2021-02-10T00:10:22.537293Z",
     "iopub.status.idle": "2021-02-10T00:10:22.540552Z",
     "shell.execute_reply": "2021-02-10T00:10:22.540063Z"
    },
    "papermill": {
     "duration": 0.036242,
     "end_time": "2021-02-10T00:10:22.540657",
     "exception": false,
     "start_time": "2021-02-10T00:10:22.504415",
     "status": "completed"
    },
    "tags": []
   },
   "outputs": [],
   "source": [
    "#hide\n",
    "# g.head()"
   ]
  },
  {
   "cell_type": "code",
   "execution_count": 33,
   "id": "limited-engine",
   "metadata": {
    "execution": {
     "iopub.execute_input": "2021-02-10T00:10:22.603812Z",
     "iopub.status.busy": "2021-02-10T00:10:22.603077Z",
     "iopub.status.idle": "2021-02-10T00:10:22.605365Z",
     "shell.execute_reply": "2021-02-10T00:10:22.605810Z"
    },
    "papermill": {
     "duration": 0.034573,
     "end_time": "2021-02-10T00:10:22.605920",
     "exception": false,
     "start_time": "2021-02-10T00:10:22.571347",
     "status": "completed"
    },
    "tags": []
   },
   "outputs": [],
   "source": [
    "# hide\n",
    "# g['date'] = g['date'].astype('datetime64[ns]')"
   ]
  },
  {
   "cell_type": "code",
   "execution_count": 34,
   "id": "sophisticated-supervisor",
   "metadata": {
    "execution": {
     "iopub.execute_input": "2021-02-10T00:10:22.667462Z",
     "iopub.status.busy": "2021-02-10T00:10:22.666904Z",
     "iopub.status.idle": "2021-02-10T00:10:22.669369Z",
     "shell.execute_reply": "2021-02-10T00:10:22.668903Z"
    },
    "papermill": {
     "duration": 0.034294,
     "end_time": "2021-02-10T00:10:22.669474",
     "exception": false,
     "start_time": "2021-02-10T00:10:22.635180",
     "status": "completed"
    },
    "tags": []
   },
   "outputs": [],
   "source": [
    "#hide\n",
    "# g['date'] = g.date.dt.dayofyear"
   ]
  },
  {
   "cell_type": "code",
   "execution_count": 35,
   "id": "inside-dubai",
   "metadata": {
    "execution": {
     "iopub.execute_input": "2021-02-10T00:10:22.734904Z",
     "iopub.status.busy": "2021-02-10T00:10:22.734355Z",
     "iopub.status.idle": "2021-02-10T00:10:22.736622Z",
     "shell.execute_reply": "2021-02-10T00:10:22.736137Z"
    },
    "papermill": {
     "duration": 0.036906,
     "end_time": "2021-02-10T00:10:22.736727",
     "exception": false,
     "start_time": "2021-02-10T00:10:22.699821",
     "status": "completed"
    },
    "tags": []
   },
   "outputs": [],
   "source": [
    "#hide\n",
    "# g = g.rename(columns= {'continent':'group','country':'name','cases':'value'})"
   ]
  },
  {
   "cell_type": "code",
   "execution_count": 36,
   "id": "fleet-motorcycle",
   "metadata": {
    "execution": {
     "iopub.execute_input": "2021-02-10T00:10:22.805627Z",
     "iopub.status.busy": "2021-02-10T00:10:22.805109Z",
     "iopub.status.idle": "2021-02-10T00:10:22.807769Z",
     "shell.execute_reply": "2021-02-10T00:10:22.807320Z"
    },
    "papermill": {
     "duration": 0.036018,
     "end_time": "2021-02-10T00:10:22.807867",
     "exception": false,
     "start_time": "2021-02-10T00:10:22.771849",
     "status": "completed"
    },
    "tags": []
   },
   "outputs": [],
   "source": [
    "#hide\n",
    "# cols = ['name','group','day','value']"
   ]
  },
  {
   "cell_type": "code",
   "execution_count": 37,
   "id": "continued-sleeping",
   "metadata": {
    "execution": {
     "iopub.execute_input": "2021-02-10T00:10:22.872145Z",
     "iopub.status.busy": "2021-02-10T00:10:22.871538Z",
     "iopub.status.idle": "2021-02-10T00:10:22.873883Z",
     "shell.execute_reply": "2021-02-10T00:10:22.873439Z"
    },
    "papermill": {
     "duration": 0.036056,
     "end_time": "2021-02-10T00:10:22.873982",
     "exception": false,
     "start_time": "2021-02-10T00:10:22.837926",
     "status": "completed"
    },
    "tags": []
   },
   "outputs": [],
   "source": [
    "#hide\n",
    "# g.rename(columns= {'date':'day'},inplace = True)"
   ]
  },
  {
   "cell_type": "code",
   "execution_count": 38,
   "id": "major-fight",
   "metadata": {
    "execution": {
     "iopub.execute_input": "2021-02-10T00:10:22.944833Z",
     "iopub.status.busy": "2021-02-10T00:10:22.944284Z",
     "iopub.status.idle": "2021-02-10T00:10:22.946396Z",
     "shell.execute_reply": "2021-02-10T00:10:22.945953Z"
    },
    "papermill": {
     "duration": 0.03899,
     "end_time": "2021-02-10T00:10:22.946495",
     "exception": false,
     "start_time": "2021-02-10T00:10:22.907505",
     "status": "completed"
    },
    "tags": []
   },
   "outputs": [],
   "source": [
    "#hide\n",
    "# g = g[cols]"
   ]
  },
  {
   "cell_type": "code",
   "execution_count": 39,
   "id": "structured-mobile",
   "metadata": {
    "execution": {
     "iopub.execute_input": "2021-02-10T00:10:23.010655Z",
     "iopub.status.busy": "2021-02-10T00:10:23.010071Z",
     "iopub.status.idle": "2021-02-10T00:10:23.012043Z",
     "shell.execute_reply": "2021-02-10T00:10:23.011534Z"
    },
    "papermill": {
     "duration": 0.035772,
     "end_time": "2021-02-10T00:10:23.012140",
     "exception": false,
     "start_time": "2021-02-10T00:10:22.976368",
     "status": "completed"
    },
    "tags": []
   },
   "outputs": [],
   "source": [
    "# #hide\n",
    "# g = g[g.group.notna()]"
   ]
  },
  {
   "cell_type": "code",
   "execution_count": 40,
   "id": "determined-closing",
   "metadata": {
    "execution": {
     "iopub.execute_input": "2021-02-10T00:10:23.077249Z",
     "iopub.status.busy": "2021-02-10T00:10:23.076718Z",
     "iopub.status.idle": "2021-02-10T00:10:23.078887Z",
     "shell.execute_reply": "2021-02-10T00:10:23.078442Z"
    },
    "papermill": {
     "duration": 0.037404,
     "end_time": "2021-02-10T00:10:23.078985",
     "exception": false,
     "start_time": "2021-02-10T00:10:23.041581",
     "status": "completed"
    },
    "tags": []
   },
   "outputs": [],
   "source": [
    "# #hide\n",
    "# colors = dict(zip(\n",
    "#     [\"Oceania\", \"Europe\", \"Asia\", \"South America\", \"Middle East\", \"North America\", \"Africa\"],\n",
    "#     [\"#adb0ff\", \"#ffb3ff\", \"#90d595\", \"#e48381\", \"#aafbff\", \"#f7bb5f\", \"#eafb50\"]\n",
    "# ))\n",
    "# group_lk = g.set_index('name')['group'].to_dict()"
   ]
  },
  {
   "cell_type": "code",
   "execution_count": null,
   "id": "gross-drinking",
   "metadata": {
    "papermill": {
     "duration": 0.034424,
     "end_time": "2021-02-10T00:10:23.142692",
     "exception": false,
     "start_time": "2021-02-10T00:10:23.108268",
     "status": "completed"
    },
    "tags": []
   },
   "outputs": [],
   "source": []
  },
  {
   "cell_type": "code",
   "execution_count": 41,
   "id": "subject-macintosh",
   "metadata": {
    "execution": {
     "iopub.execute_input": "2021-02-10T00:10:23.205105Z",
     "iopub.status.busy": "2021-02-10T00:10:23.204572Z",
     "iopub.status.idle": "2021-02-10T00:10:23.206903Z",
     "shell.execute_reply": "2021-02-10T00:10:23.206457Z"
    },
    "papermill": {
     "duration": 0.034756,
     "end_time": "2021-02-10T00:10:23.207002",
     "exception": false,
     "start_time": "2021-02-10T00:10:23.172246",
     "status": "completed"
    },
    "tags": []
   },
   "outputs": [],
   "source": [
    "# #hide\n",
    "# fig, ax = plt.subplots(figsize=(15, 8))\n",
    "\n",
    "# def draw_barchart(current_day):\n",
    "#     dff = g[g['day'].eq(current_day)].sort_values(by='value', ascending=True).tail(10)\n",
    "#     ax.clear()\n",
    "#     ax.barh(dff['name'], dff['value'], color=[colors[group_lk[x]] for x in dff['name']])\n",
    "#     dx = dff['value'].max() / 200\n",
    "    \n",
    "#     for i, (value, name) in enumerate(zip(dff['value'], dff['name'])):\n",
    "#         ax.text(value-dx, i,     name,           size=14, weight=600, ha='right', va='bottom')\n",
    "#         ax.text(value-dx, i-.25, group_lk[name], size=10, color='#444444', ha='right', va='baseline')\n",
    "#         ax.text(value+dx, i,     f'{value:,.0f}',  size=14, ha='left',  va='center')\n",
    "#     ax.text(1, 0.4, current_day, transform=ax.transAxes, color='#777777', size=46, ha='right', weight=800)\n",
    "#     ax.text(0, 1.06, 'Population (thousands)', transform=ax.transAxes, size=12, color='#777777')\n",
    "#     ax.xaxis.set_major_formatter(ticker.StrMethodFormatter('{x:,.0f}'))\n",
    "#     ax.xaxis.set_ticks_position('top')\n",
    "#     ax.tick_params(axis='x', colors='#777777', labelsize=12)\n",
    "#     ax.set_yticks([])\n",
    "#     ax.margins(0, 0.01)\n",
    "#     ax.grid(which='major', axis='x', linestyle='-')\n",
    "#     ax.set_axisbelow(True)\n",
    "    \n",
    "#     ax.text(0, 1.15, 'Coronavirus',\n",
    "#             transform=ax.transAxes, size=24, weight=600, ha='left', va='top')\n",
    "# #     ax.text(1, 0, 'by @pratapvardhan; credit @jburnmurdoch', transform=ax.transAxes, color='#777777', ha='right',\n",
    "# #             bbox=dict(facecolor='white', alpha=0.8, edgecolor='white'))\n",
    "#     plt.box(False)"
   ]
  },
  {
   "cell_type": "code",
   "execution_count": 42,
   "id": "sexual-wages",
   "metadata": {
    "execution": {
     "iopub.execute_input": "2021-02-10T00:10:23.269184Z",
     "iopub.status.busy": "2021-02-10T00:10:23.268628Z",
     "iopub.status.idle": "2021-02-10T00:10:23.270656Z",
     "shell.execute_reply": "2021-02-10T00:10:23.270135Z"
    },
    "papermill": {
     "duration": 0.034052,
     "end_time": "2021-02-10T00:10:23.270791",
     "exception": false,
     "start_time": "2021-02-10T00:10:23.236739",
     "status": "completed"
    },
    "tags": []
   },
   "outputs": [],
   "source": [
    "# #hide_input\n",
    "# fig, ax = plt.subplots(figsize=(15, 8))\n",
    "# animator = animation.FuncAnimation(fig, draw_barchart, frames=range(g.day.values.min(), g.day.values.max()))\n",
    "# HTML(animator.to_jshtml())\n",
    "# # or use animator.to_html5_video() or animator.save() "
   ]
  },
  {
   "cell_type": "code",
   "execution_count": null,
   "id": "australian-container",
   "metadata": {
    "papermill": {
     "duration": 0.029399,
     "end_time": "2021-02-10T00:10:23.330145",
     "exception": false,
     "start_time": "2021-02-10T00:10:23.300746",
     "status": "completed"
    },
    "tags": []
   },
   "outputs": [],
   "source": []
  },
  {
   "cell_type": "code",
   "execution_count": null,
   "id": "mediterranean-pontiac",
   "metadata": {
    "papermill": {
     "duration": 0.029535,
     "end_time": "2021-02-10T00:10:23.389320",
     "exception": false,
     "start_time": "2021-02-10T00:10:23.359785",
     "status": "completed"
    },
    "tags": []
   },
   "outputs": [],
   "source": []
  },
  {
   "cell_type": "code",
   "execution_count": null,
   "id": "aging-legislature",
   "metadata": {
    "papermill": {
     "duration": 0.03088,
     "end_time": "2021-02-10T00:10:23.453291",
     "exception": false,
     "start_time": "2021-02-10T00:10:23.422411",
     "status": "completed"
    },
    "tags": []
   },
   "outputs": [],
   "source": []
  }
 ],
 "metadata": {
  "kernelspec": {
   "display_name": "Python 3",
   "language": "python",
   "name": "python3"
  },
  "language_info": {
   "codemirror_mode": {
    "name": "ipython",
    "version": 3
   },
   "file_extension": ".py",
   "mimetype": "text/x-python",
   "name": "python",
   "nbconvert_exporter": "python",
   "pygments_lexer": "ipython3",
   "version": "3.6.12"
  },
  "papermill": {
   "duration": 5.8165,
   "end_time": "2021-02-10T00:10:23.792344",
   "environment_variables": {},
   "exception": null,
   "input_path": "2020-03-21-covid19exp.ipynb",
   "output_path": "2020-03-21-covid19exp.ipynb",
   "parameters": {},
   "start_time": "2021-02-10T00:10:17.975844",
   "version": "2.0.0"
  }
 },
 "nbformat": 4,
 "nbformat_minor": 5
}