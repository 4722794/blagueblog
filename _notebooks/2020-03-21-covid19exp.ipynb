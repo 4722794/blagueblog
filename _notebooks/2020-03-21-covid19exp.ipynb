{
 "cells": [
  {
   "cell_type": "markdown",
   "id": "muslim-click",
   "metadata": {
    "papermill": {
     "duration": 0.040607,
     "end_time": "2022-07-15T00:51:45.222214",
     "exception": false,
     "start_time": "2022-07-15T00:51:45.181607",
     "status": "completed"
    },
    "tags": []
   },
   "source": [
    "# COVID-19 Case Race\n",
    "> A race chart to see rising cases around the world\n",
    "\n",
    "- author: Hargun Oberoi\n",
    "- image: images/covid-overview.png\n",
    "- hide: false\n",
    "- badges: false"
   ]
  },
  {
   "cell_type": "code",
   "execution_count": 1,
   "id": "proof-material",
   "metadata": {
    "execution": {
     "iopub.execute_input": "2022-07-15T00:51:45.307403Z",
     "iopub.status.busy": "2022-07-15T00:51:45.306653Z",
     "iopub.status.idle": "2022-07-15T00:51:45.697829Z",
     "shell.execute_reply": "2022-07-15T00:51:45.697019Z"
    },
    "papermill": {
     "duration": 0.438546,
     "end_time": "2022-07-15T00:51:45.698029",
     "exception": false,
     "start_time": "2022-07-15T00:51:45.259483",
     "status": "completed"
    },
    "tags": []
   },
   "outputs": [],
   "source": [
    "#hide\n",
    "import numpy as np\n",
    "import pandas as pd\n",
    "from jinja2 import Template\n",
    "from IPython.display import HTML"
   ]
  },
  {
   "cell_type": "code",
   "execution_count": 2,
   "id": "developed-terminology",
   "metadata": {
    "execution": {
     "iopub.execute_input": "2022-07-15T00:51:45.782919Z",
     "iopub.status.busy": "2022-07-15T00:51:45.782030Z",
     "iopub.status.idle": "2022-07-15T00:51:45.783877Z",
     "shell.execute_reply": "2022-07-15T00:51:45.784626Z"
    },
    "papermill": {
     "duration": 0.048238,
     "end_time": "2022-07-15T00:51:45.784804",
     "exception": false,
     "start_time": "2022-07-15T00:51:45.736566",
     "status": "completed"
    },
    "tags": []
   },
   "outputs": [],
   "source": [
    "#hide\n",
    "\n",
    "# FETCH\n",
    "base_url = 'https://raw.githubusercontent.com/pratapvardhan/notebooks/master/covid19/'\n",
    "paths = {\n",
    "    'mapping': base_url + 'mapping_countries.csv',\n",
    "    'overview': base_url + 'overview.tpl'\n",
    "}"
   ]
  },
  {
   "cell_type": "code",
   "execution_count": 3,
   "id": "dynamic-saver",
   "metadata": {
    "execution": {
     "iopub.execute_input": "2022-07-15T00:51:45.867642Z",
     "iopub.status.busy": "2022-07-15T00:51:45.866912Z",
     "iopub.status.idle": "2022-07-15T00:51:45.870725Z",
     "shell.execute_reply": "2022-07-15T00:51:45.870041Z"
    },
    "papermill": {
     "duration": 0.052506,
     "end_time": "2022-07-15T00:51:45.870861",
     "exception": false,
     "start_time": "2022-07-15T00:51:45.818355",
     "status": "completed"
    },
    "tags": []
   },
   "outputs": [
    {
     "data": {
      "text/plain": [
       "'https://raw.githubusercontent.com/pratapvardhan/notebooks/master/covid19/mapping_countries.csv'"
      ]
     },
     "execution_count": 3,
     "metadata": {},
     "output_type": "execute_result"
    }
   ],
   "source": [
    "#hide\n",
    "paths['mapping']"
   ]
  },
  {
   "cell_type": "code",
   "execution_count": 4,
   "id": "urban-software",
   "metadata": {
    "execution": {
     "iopub.execute_input": "2022-07-15T00:51:45.944609Z",
     "iopub.status.busy": "2022-07-15T00:51:45.943880Z",
     "iopub.status.idle": "2022-07-15T00:51:45.945628Z",
     "shell.execute_reply": "2022-07-15T00:51:45.946427Z"
    },
    "papermill": {
     "duration": 0.04201,
     "end_time": "2022-07-15T00:51:45.946594",
     "exception": false,
     "start_time": "2022-07-15T00:51:45.904584",
     "status": "completed"
    },
    "tags": []
   },
   "outputs": [],
   "source": [
    "#hide\n",
    "def get_mappings(url):\n",
    "    df = pd.read_csv(url)\n",
    "    return {\n",
    "        'df': df,\n",
    "        'replace.country': dict(df.dropna(subset=['Name']).set_index('Country')['Name']),\n",
    "        'map.continent': dict(df.set_index('Name')['Continent'])\n",
    "    }"
   ]
  },
  {
   "cell_type": "code",
   "execution_count": 5,
   "id": "intimate-machinery",
   "metadata": {
    "execution": {
     "iopub.execute_input": "2022-07-15T00:51:46.025475Z",
     "iopub.status.busy": "2022-07-15T00:51:46.024755Z",
     "iopub.status.idle": "2022-07-15T00:51:46.052916Z",
     "shell.execute_reply": "2022-07-15T00:51:46.052309Z"
    },
    "papermill": {
     "duration": 0.072205,
     "end_time": "2022-07-15T00:51:46.053051",
     "exception": false,
     "start_time": "2022-07-15T00:51:45.980846",
     "status": "completed"
    },
    "tags": []
   },
   "outputs": [],
   "source": [
    "#hide\n",
    "mapping = get_mappings(paths['mapping'])"
   ]
  },
  {
   "cell_type": "code",
   "execution_count": 6,
   "id": "certified-tactics",
   "metadata": {
    "execution": {
     "iopub.execute_input": "2022-07-15T00:51:46.127698Z",
     "iopub.status.busy": "2022-07-15T00:51:46.127010Z",
     "iopub.status.idle": "2022-07-15T00:51:46.132645Z",
     "shell.execute_reply": "2022-07-15T00:51:46.133311Z"
    },
    "papermill": {
     "duration": 0.044839,
     "end_time": "2022-07-15T00:51:46.133469",
     "exception": false,
     "start_time": "2022-07-15T00:51:46.088630",
     "status": "completed"
    },
    "tags": []
   },
   "outputs": [],
   "source": [
    "#hide\n",
    "def get_template(path):\n",
    "    from urllib.parse import urlparse\n",
    "    if bool(urlparse(path).netloc):\n",
    "        from urllib.request import urlopen\n",
    "        return urlopen(path).read().decode('utf8')\n",
    "    return open(path).read()"
   ]
  },
  {
   "cell_type": "code",
   "execution_count": 7,
   "id": "realistic-blast",
   "metadata": {
    "execution": {
     "iopub.execute_input": "2022-07-15T00:51:46.212699Z",
     "iopub.status.busy": "2022-07-15T00:51:46.211840Z",
     "iopub.status.idle": "2022-07-15T00:51:46.214990Z",
     "shell.execute_reply": "2022-07-15T00:51:46.214404Z"
    },
    "papermill": {
     "duration": 0.046254,
     "end_time": "2022-07-15T00:51:46.215122",
     "exception": false,
     "start_time": "2022-07-15T00:51:46.168868",
     "status": "completed"
    },
    "tags": []
   },
   "outputs": [],
   "source": [
    "#hide\n",
    "def get_frame(name):\n",
    "    url = (\n",
    "        'https://raw.githubusercontent.com/CSSEGISandData/COVID-19/master/csse_covid_19_data/'\n",
    "        f'csse_covid_19_time_series/time_series_covid19_{name}_global.csv')\n",
    "    df = pd.read_csv(url)\n",
    "    # rename countries\n",
    "    df['Country/Region'] = df['Country/Region'].replace(mapping['replace.country'])\n",
    "    return df"
   ]
  },
  {
   "cell_type": "code",
   "execution_count": 8,
   "id": "affiliated-characterization",
   "metadata": {
    "execution": {
     "iopub.execute_input": "2022-07-15T00:51:46.289473Z",
     "iopub.status.busy": "2022-07-15T00:51:46.288710Z",
     "iopub.status.idle": "2022-07-15T00:51:46.291444Z",
     "shell.execute_reply": "2022-07-15T00:51:46.290767Z"
    },
    "papermill": {
     "duration": 0.042718,
     "end_time": "2022-07-15T00:51:46.291577",
     "exception": false,
     "start_time": "2022-07-15T00:51:46.248859",
     "status": "completed"
    },
    "tags": []
   },
   "outputs": [],
   "source": [
    "#hide\n",
    "def get_dates(df):\n",
    "    dt_cols = df.columns[~df.columns.isin(['Province/State', 'Country/Region', 'Lat', 'Long'])]\n",
    "    LAST_DATE_I = -1\n",
    "    # sometimes last column may be empty, then go backwards\n",
    "    for i in range(-1, -len(dt_cols), -1):\n",
    "        if not df[dt_cols[i]].fillna(0).eq(0).all():\n",
    "            LAST_DATE_I = i\n",
    "            break\n",
    "    return LAST_DATE_I, dt_cols"
   ]
  },
  {
   "cell_type": "code",
   "execution_count": 9,
   "id": "recent-optimization",
   "metadata": {
    "execution": {
     "iopub.execute_input": "2022-07-15T00:51:46.369625Z",
     "iopub.status.busy": "2022-07-15T00:51:46.368739Z",
     "iopub.status.idle": "2022-07-15T00:51:46.796092Z",
     "shell.execute_reply": "2022-07-15T00:51:46.795430Z"
    },
    "papermill": {
     "duration": 0.469728,
     "end_time": "2022-07-15T00:51:46.796234",
     "exception": false,
     "start_time": "2022-07-15T00:51:46.326506",
     "status": "completed"
    },
    "tags": []
   },
   "outputs": [],
   "source": [
    "#hide\n",
    "COL_REGION = 'Country/Region'\n",
    "# Confirmed, Recovered, Deaths\n",
    "df = get_frame('confirmed')\n",
    "# dft_: timeseries, dfc_: today country agg\n",
    "dft_cases = df\n",
    "dft_deaths = get_frame('deaths')\n",
    "dft_recovered = get_frame('recovered')\n",
    "LAST_DATE_I, dt_cols = get_dates(df)"
   ]
  },
  {
   "cell_type": "code",
   "execution_count": 10,
   "id": "absolute-copper",
   "metadata": {
    "execution": {
     "iopub.execute_input": "2022-07-15T00:51:46.871618Z",
     "iopub.status.busy": "2022-07-15T00:51:46.870711Z",
     "iopub.status.idle": "2022-07-15T00:51:46.872574Z",
     "shell.execute_reply": "2022-07-15T00:51:46.873389Z"
    },
    "papermill": {
     "duration": 0.04334,
     "end_time": "2022-07-15T00:51:46.873563",
     "exception": false,
     "start_time": "2022-07-15T00:51:46.830223",
     "status": "completed"
    },
    "tags": []
   },
   "outputs": [],
   "source": [
    "#hide\n",
    "LAST_DATE_I, dt_cols = get_dates(df)\n",
    "dt_today =dt_cols[LAST_DATE_I]\n",
    "# dt_5day = dt_cols[LAST_DATE_I - 5]\n",
    "dt_yday = dt_cols[LAST_DATE_I - 1]"
   ]
  },
  {
   "cell_type": "code",
   "execution_count": 11,
   "id": "restricted-sheriff",
   "metadata": {
    "execution": {
     "iopub.execute_input": "2022-07-15T00:51:46.954155Z",
     "iopub.status.busy": "2022-07-15T00:51:46.953361Z",
     "iopub.status.idle": "2022-07-15T00:51:46.963671Z",
     "shell.execute_reply": "2022-07-15T00:51:46.963095Z"
    },
    "papermill": {
     "duration": 0.054266,
     "end_time": "2022-07-15T00:51:46.963806",
     "exception": false,
     "start_time": "2022-07-15T00:51:46.909540",
     "status": "completed"
    },
    "tags": []
   },
   "outputs": [],
   "source": [
    "#hide\n",
    "dfc_cases = dft_cases.groupby(COL_REGION)[dt_today].sum()\n",
    "dfc_deaths = dft_deaths.groupby(COL_REGION)[dt_today].sum()\n",
    "# dfp_cases = dft_cases.groupby(COL_REGION)[dt_5day].sum()\n",
    "# dfp_deaths = dft_deaths.groupby(COL_REGION)[dt_5day].sum()\n",
    "dfp_cases = dft_cases.groupby(COL_REGION)[dt_yday].sum()\n",
    "dfp_deaths = dft_deaths.groupby(COL_REGION)[dt_yday].sum()"
   ]
  },
  {
   "cell_type": "code",
   "execution_count": 12,
   "id": "deluxe-hepatitis",
   "metadata": {
    "execution": {
     "iopub.execute_input": "2022-07-15T00:51:47.044177Z",
     "iopub.status.busy": "2022-07-15T00:51:47.043434Z",
     "iopub.status.idle": "2022-07-15T00:51:47.053397Z",
     "shell.execute_reply": "2022-07-15T00:51:47.052754Z"
    },
    "papermill": {
     "duration": 0.054687,
     "end_time": "2022-07-15T00:51:47.053539",
     "exception": false,
     "start_time": "2022-07-15T00:51:46.998852",
     "status": "completed"
    },
    "tags": []
   },
   "outputs": [],
   "source": [
    "#hide\n",
    "df_table = (pd.DataFrame(dict(Cases = dfc_cases, Deaths = dfc_deaths, PCases = dfp_cases, PDeaths = dfp_deaths))\n",
    "            .sort_values(by = ['Cases','Deaths'], ascending = [False, False])\n",
    "            .reset_index())"
   ]
  },
  {
   "cell_type": "code",
   "execution_count": 13,
   "id": "educational-chancellor",
   "metadata": {
    "execution": {
     "iopub.execute_input": "2022-07-15T00:51:47.146098Z",
     "iopub.status.busy": "2022-07-15T00:51:47.145183Z",
     "iopub.status.idle": "2022-07-15T00:51:47.155536Z",
     "shell.execute_reply": "2022-07-15T00:51:47.154785Z"
    },
    "papermill": {
     "duration": 0.066248,
     "end_time": "2022-07-15T00:51:47.155680",
     "exception": false,
     "start_time": "2022-07-15T00:51:47.089432",
     "status": "completed"
    },
    "tags": []
   },
   "outputs": [
    {
     "data": {
      "text/html": [
       "<div>\n",
       "<style scoped>\n",
       "    .dataframe tbody tr th:only-of-type {\n",
       "        vertical-align: middle;\n",
       "    }\n",
       "\n",
       "    .dataframe tbody tr th {\n",
       "        vertical-align: top;\n",
       "    }\n",
       "\n",
       "    .dataframe thead th {\n",
       "        text-align: right;\n",
       "    }\n",
       "</style>\n",
       "<table border=\"1\" class=\"dataframe\">\n",
       "  <thead>\n",
       "    <tr style=\"text-align: right;\">\n",
       "      <th></th>\n",
       "      <th>Country/Region</th>\n",
       "      <th>Cases</th>\n",
       "      <th>Deaths</th>\n",
       "      <th>PCases</th>\n",
       "      <th>PDeaths</th>\n",
       "      <th>Cases (+)</th>\n",
       "      <th>Deaths (+)</th>\n",
       "      <th>Fatality Rate</th>\n",
       "      <th>Continent</th>\n",
       "    </tr>\n",
       "  </thead>\n",
       "  <tbody>\n",
       "    <tr>\n",
       "      <th>0</th>\n",
       "      <td>US</td>\n",
       "      <td>89149655</td>\n",
       "      <td>1022824</td>\n",
       "      <td>88946276</td>\n",
       "      <td>1021838</td>\n",
       "      <td>203379</td>\n",
       "      <td>986</td>\n",
       "      <td>1.15</td>\n",
       "      <td>North America</td>\n",
       "    </tr>\n",
       "    <tr>\n",
       "      <th>1</th>\n",
       "      <td>India</td>\n",
       "      <td>43689989</td>\n",
       "      <td>525557</td>\n",
       "      <td>43669850</td>\n",
       "      <td>525519</td>\n",
       "      <td>20139</td>\n",
       "      <td>38</td>\n",
       "      <td>1.20</td>\n",
       "      <td>Asia</td>\n",
       "    </tr>\n",
       "    <tr>\n",
       "      <th>2</th>\n",
       "      <td>Brazil</td>\n",
       "      <td>33076779</td>\n",
       "      <td>674482</td>\n",
       "      <td>33004555</td>\n",
       "      <td>674102</td>\n",
       "      <td>72224</td>\n",
       "      <td>380</td>\n",
       "      <td>2.04</td>\n",
       "      <td>South America</td>\n",
       "    </tr>\n",
       "    <tr>\n",
       "      <th>3</th>\n",
       "      <td>France</td>\n",
       "      <td>32881645</td>\n",
       "      <td>151454</td>\n",
       "      <td>32753754</td>\n",
       "      <td>151345</td>\n",
       "      <td>127891</td>\n",
       "      <td>109</td>\n",
       "      <td>0.46</td>\n",
       "      <td>Europe</td>\n",
       "    </tr>\n",
       "    <tr>\n",
       "      <th>4</th>\n",
       "      <td>Germany</td>\n",
       "      <td>29460249</td>\n",
       "      <td>142284</td>\n",
       "      <td>29308100</td>\n",
       "      <td>142139</td>\n",
       "      <td>152149</td>\n",
       "      <td>145</td>\n",
       "      <td>0.48</td>\n",
       "      <td>Europe</td>\n",
       "    </tr>\n",
       "  </tbody>\n",
       "</table>\n",
       "</div>"
      ],
      "text/plain": [
       "  Country/Region     Cases   Deaths    PCases  PDeaths  Cases (+)  Deaths (+)  \\\n",
       "0             US  89149655  1022824  88946276  1021838     203379         986   \n",
       "1          India  43689989   525557  43669850   525519      20139          38   \n",
       "2         Brazil  33076779   674482  33004555   674102      72224         380   \n",
       "3         France  32881645   151454  32753754   151345     127891         109   \n",
       "4        Germany  29460249   142284  29308100   142139     152149         145   \n",
       "\n",
       "   Fatality Rate      Continent  \n",
       "0           1.15  North America  \n",
       "1           1.20           Asia  \n",
       "2           2.04  South America  \n",
       "3           0.46         Europe  \n",
       "4           0.48         Europe  "
      ]
     },
     "execution_count": 13,
     "metadata": {},
     "output_type": "execute_result"
    }
   ],
   "source": [
    "#hide\n",
    "for c in 'Cases, Deaths'.split(', '):\n",
    "    df_table[f'{c} (+)'] = (df_table[c] - df_table[f'P{c}']).clip(0)\n",
    "    #Clip ça veut dire, les chiffres negatif sont interdit\n",
    "df_table['Fatality Rate'] = (100* df_table['Deaths']/ df_table['Cases']).round(2)\n",
    "df_table['Continent'] = df_table['Country/Region'].map(mapping['map.continent'])\n",
    "df_table.head(5)"
   ]
  },
  {
   "cell_type": "code",
   "execution_count": 14,
   "id": "aboriginal-bulgaria",
   "metadata": {
    "execution": {
     "iopub.execute_input": "2022-07-15T00:51:47.236396Z",
     "iopub.status.busy": "2022-07-15T00:51:47.235550Z",
     "iopub.status.idle": "2022-07-15T00:51:47.243134Z",
     "shell.execute_reply": "2022-07-15T00:51:47.242570Z"
    },
    "papermill": {
     "duration": 0.049412,
     "end_time": "2022-07-15T00:51:47.243314",
     "exception": false,
     "start_time": "2022-07-15T00:51:47.193902",
     "status": "completed"
    },
    "tags": []
   },
   "outputs": [],
   "source": [
    "#hide\n",
    "#delete problematic countries from table\n",
    "df_table = df_table[~df_table['Country/Region'].isin(['Cape Verde', 'Cruise Ship', 'Kosovo'])]"
   ]
  },
  {
   "cell_type": "code",
   "execution_count": 15,
   "id": "fantastic-effect",
   "metadata": {
    "execution": {
     "iopub.execute_input": "2022-07-15T00:51:47.327538Z",
     "iopub.status.busy": "2022-07-15T00:51:47.326780Z",
     "iopub.status.idle": "2022-07-15T00:51:47.347907Z",
     "shell.execute_reply": "2022-07-15T00:51:47.348655Z"
    },
    "papermill": {
     "duration": 0.068613,
     "end_time": "2022-07-15T00:51:47.348826",
     "exception": false,
     "start_time": "2022-07-15T00:51:47.280213",
     "status": "completed"
    },
    "tags": []
   },
   "outputs": [
    {
     "data": {
      "text/html": [
       "<div>\n",
       "<style scoped>\n",
       "    .dataframe tbody tr th:only-of-type {\n",
       "        vertical-align: middle;\n",
       "    }\n",
       "\n",
       "    .dataframe tbody tr th {\n",
       "        vertical-align: top;\n",
       "    }\n",
       "\n",
       "    .dataframe thead th {\n",
       "        text-align: right;\n",
       "    }\n",
       "</style>\n",
       "<table border=\"1\" class=\"dataframe\">\n",
       "  <thead>\n",
       "    <tr style=\"text-align: right;\">\n",
       "      <th></th>\n",
       "      <th>Country/Region</th>\n",
       "      <th>Cases</th>\n",
       "      <th>Deaths</th>\n",
       "      <th>PCases</th>\n",
       "      <th>PDeaths</th>\n",
       "      <th>Cases (+)</th>\n",
       "      <th>Deaths (+)</th>\n",
       "      <th>Fatality Rate</th>\n",
       "      <th>Continent</th>\n",
       "    </tr>\n",
       "  </thead>\n",
       "  <tbody>\n",
       "    <tr>\n",
       "      <th>0</th>\n",
       "      <td>US</td>\n",
       "      <td>89149655</td>\n",
       "      <td>1022824</td>\n",
       "      <td>88946276</td>\n",
       "      <td>1021838</td>\n",
       "      <td>203379</td>\n",
       "      <td>986</td>\n",
       "      <td>1.1</td>\n",
       "      <td>North America</td>\n",
       "    </tr>\n",
       "    <tr>\n",
       "      <th>1</th>\n",
       "      <td>India</td>\n",
       "      <td>43689989</td>\n",
       "      <td>525557</td>\n",
       "      <td>43669850</td>\n",
       "      <td>525519</td>\n",
       "      <td>20139</td>\n",
       "      <td>38</td>\n",
       "      <td>1.2</td>\n",
       "      <td>Asia</td>\n",
       "    </tr>\n",
       "    <tr>\n",
       "      <th>2</th>\n",
       "      <td>Brazil</td>\n",
       "      <td>33076779</td>\n",
       "      <td>674482</td>\n",
       "      <td>33004555</td>\n",
       "      <td>674102</td>\n",
       "      <td>72224</td>\n",
       "      <td>380</td>\n",
       "      <td>2.0</td>\n",
       "      <td>South America</td>\n",
       "    </tr>\n",
       "    <tr>\n",
       "      <th>3</th>\n",
       "      <td>France</td>\n",
       "      <td>32881645</td>\n",
       "      <td>151454</td>\n",
       "      <td>32753754</td>\n",
       "      <td>151345</td>\n",
       "      <td>127891</td>\n",
       "      <td>109</td>\n",
       "      <td>0.5</td>\n",
       "      <td>Europe</td>\n",
       "    </tr>\n",
       "    <tr>\n",
       "      <th>4</th>\n",
       "      <td>Germany</td>\n",
       "      <td>29460249</td>\n",
       "      <td>142284</td>\n",
       "      <td>29308100</td>\n",
       "      <td>142139</td>\n",
       "      <td>152149</td>\n",
       "      <td>145</td>\n",
       "      <td>0.5</td>\n",
       "      <td>Europe</td>\n",
       "    </tr>\n",
       "  </tbody>\n",
       "</table>\n",
       "</div>"
      ],
      "text/plain": [
       "  Country/Region     Cases   Deaths    PCases  PDeaths  Cases (+)  Deaths (+)  \\\n",
       "0             US  89149655  1022824  88946276  1021838     203379         986   \n",
       "1          India  43689989   525557  43669850   525519      20139          38   \n",
       "2         Brazil  33076779   674482  33004555   674102      72224         380   \n",
       "3         France  32881645   151454  32753754   151345     127891         109   \n",
       "4        Germany  29460249   142284  29308100   142139     152149         145   \n",
       "\n",
       "   Fatality Rate      Continent  \n",
       "0            1.1  North America  \n",
       "1            1.2           Asia  \n",
       "2            2.0  South America  \n",
       "3            0.5         Europe  \n",
       "4            0.5         Europe  "
      ]
     },
     "execution_count": 15,
     "metadata": {},
     "output_type": "execute_result"
    }
   ],
   "source": [
    "#hide\n",
    "df_table = (pd.DataFrame(dict(Cases=dfc_cases, Deaths=dfc_deaths, PCases=dfp_cases, PDeaths=dfp_deaths))\n",
    "             .sort_values(by=['Cases', 'Deaths'], ascending=[False, False])\n",
    "             .reset_index())\n",
    "df_table.rename(columns={'index': 'Country/Region'}, inplace=True)\n",
    "for c in 'Cases, Deaths'.split(', '):\n",
    "    df_table[f'{c} (+)'] = (df_table[c] - df_table[f'P{c}']).clip(0)  # DATA BUG\n",
    "df_table['Fatality Rate'] = (100 * df_table['Deaths'] / df_table['Cases']).round(1)\n",
    "df_table['Continent'] = df_table['Country/Region'].map(mapping['map.continent'])\n",
    "df_table.head(5)"
   ]
  },
  {
   "cell_type": "code",
   "execution_count": 16,
   "id": "fewer-occasion",
   "metadata": {
    "execution": {
     "iopub.execute_input": "2022-07-15T00:51:47.432596Z",
     "iopub.status.busy": "2022-07-15T00:51:47.431497Z",
     "iopub.status.idle": "2022-07-15T00:51:47.433772Z",
     "shell.execute_reply": "2022-07-15T00:51:47.434340Z"
    },
    "papermill": {
     "duration": 0.045701,
     "end_time": "2022-07-15T00:51:47.434497",
     "exception": false,
     "start_time": "2022-07-15T00:51:47.388796",
     "status": "completed"
    },
    "tags": []
   },
   "outputs": [],
   "source": [
    "#hide\n",
    "#delete problematic countries from table\n",
    "df_table = df_table[~df_table['Country/Region'].isin(['Cape Verde', 'Cruise Ship', 'Kosovo'])]"
   ]
  },
  {
   "cell_type": "code",
   "execution_count": 17,
   "id": "related-center",
   "metadata": {
    "execution": {
     "iopub.execute_input": "2022-07-15T00:51:47.517133Z",
     "iopub.status.busy": "2022-07-15T00:51:47.515137Z",
     "iopub.status.idle": "2022-07-15T00:51:47.540628Z",
     "shell.execute_reply": "2022-07-15T00:51:47.539913Z"
    },
    "papermill": {
     "duration": 0.065969,
     "end_time": "2022-07-15T00:51:47.540779",
     "exception": false,
     "start_time": "2022-07-15T00:51:47.474810",
     "status": "completed"
    },
    "tags": []
   },
   "outputs": [],
   "source": [
    "#hide\n",
    "metrics = [df_table.columns[index] for index in [1,2,5,6]]\n",
    "# s_china = df_table[df_table['Country/Region'].eq('China')][metrics].sum().add_prefix('China ')\n",
    "s_us = df_table[df_table['Country/Region'].eq('US')][metrics].sum().add_prefix('US ')\n",
    "s_eu = df_table[df_table['Continent'].eq('Europe')][metrics].sum().add_prefix('EU ')\n",
    "s_ind = df_table[df_table['Country/Region'].eq('India')][metrics].sum().add_prefix('India ')\n",
    "summary = {'updated': pd.to_datetime(dt_today), 'since': pd.to_datetime(dt_yday)}\n",
    "summary = {'updated': pd.to_datetime(dt_today), 'since': pd.to_datetime(dt_yday)}\n",
    "summary = {**summary, **df_table[metrics].sum(), **s_ind, **s_us, **s_eu}"
   ]
  },
  {
   "cell_type": "code",
   "execution_count": 18,
   "id": "engaging-syndrome",
   "metadata": {
    "execution": {
     "iopub.execute_input": "2022-07-15T00:51:47.619675Z",
     "iopub.status.busy": "2022-07-15T00:51:47.618774Z",
     "iopub.status.idle": "2022-07-15T00:51:47.649046Z",
     "shell.execute_reply": "2022-07-15T00:51:47.648458Z"
    },
    "papermill": {
     "duration": 0.072454,
     "end_time": "2022-07-15T00:51:47.649194",
     "exception": false,
     "start_time": "2022-07-15T00:51:47.576740",
     "status": "completed"
    },
    "tags": []
   },
   "outputs": [],
   "source": [
    "#hide\n",
    "dft_ct_new_cases = dft_cases.groupby(COL_REGION)[dt_cols].sum().diff(axis=1).fillna(0).astype(int)"
   ]
  },
  {
   "cell_type": "code",
   "execution_count": 19,
   "id": "neutral-assignment",
   "metadata": {
    "execution": {
     "iopub.execute_input": "2022-07-15T00:51:47.728652Z",
     "iopub.status.busy": "2022-07-15T00:51:47.727922Z",
     "iopub.status.idle": "2022-07-15T00:51:47.731489Z",
     "shell.execute_reply": "2022-07-15T00:51:47.730785Z"
    },
    "papermill": {
     "duration": 0.046071,
     "end_time": "2022-07-15T00:51:47.731638",
     "exception": false,
     "start_time": "2022-07-15T00:51:47.685567",
     "status": "completed"
    },
    "tags": []
   },
   "outputs": [],
   "source": [
    "#hide\n",
    "everydaycases = dft_ct_new_cases.cumsum(axis=1)"
   ]
  },
  {
   "cell_type": "code",
   "execution_count": 20,
   "id": "parliamentary-calgary",
   "metadata": {
    "execution": {
     "iopub.execute_input": "2022-07-15T00:51:47.809112Z",
     "iopub.status.busy": "2022-07-15T00:51:47.808395Z",
     "iopub.status.idle": "2022-07-15T00:51:48.498615Z",
     "shell.execute_reply": "2022-07-15T00:51:48.498004Z"
    },
    "papermill": {
     "duration": 0.731213,
     "end_time": "2022-07-15T00:51:48.498765",
     "exception": false,
     "start_time": "2022-07-15T00:51:47.767552",
     "status": "completed"
    },
    "tags": []
   },
   "outputs": [],
   "source": [
    "#hide\n",
    "import pandas as pd\n",
    "import matplotlib.pyplot as plt\n",
    "import matplotlib.ticker as ticker\n",
    "import matplotlib.animation as animation\n",
    "from IPython.display import HTML"
   ]
  },
  {
   "cell_type": "code",
   "execution_count": 21,
   "id": "lasting-extraction",
   "metadata": {
    "execution": {
     "iopub.execute_input": "2022-07-15T00:51:48.588187Z",
     "iopub.status.busy": "2022-07-15T00:51:48.587317Z",
     "iopub.status.idle": "2022-07-15T00:51:48.595968Z",
     "shell.execute_reply": "2022-07-15T00:51:48.595277Z"
    },
    "papermill": {
     "duration": 0.055498,
     "end_time": "2022-07-15T00:51:48.596117",
     "exception": false,
     "start_time": "2022-07-15T00:51:48.540619",
     "status": "completed"
    },
    "tags": []
   },
   "outputs": [],
   "source": [
    "#hide\n",
    "t = everydaycases.stack()"
   ]
  },
  {
   "cell_type": "code",
   "execution_count": 22,
   "id": "premier-sleeve",
   "metadata": {
    "execution": {
     "iopub.execute_input": "2022-07-15T00:51:48.674581Z",
     "iopub.status.busy": "2022-07-15T00:51:48.673817Z",
     "iopub.status.idle": "2022-07-15T00:51:48.688744Z",
     "shell.execute_reply": "2022-07-15T00:51:48.688123Z"
    },
    "papermill": {
     "duration": 0.056909,
     "end_time": "2022-07-15T00:51:48.688881",
     "exception": false,
     "start_time": "2022-07-15T00:51:48.631972",
     "status": "completed"
    },
    "tags": []
   },
   "outputs": [],
   "source": [
    "#hide\n",
    "g = t.reset_index(['Country/Region'])"
   ]
  },
  {
   "cell_type": "code",
   "execution_count": 23,
   "id": "distributed-pittsburgh",
   "metadata": {
    "execution": {
     "iopub.execute_input": "2022-07-15T00:51:48.771002Z",
     "iopub.status.busy": "2022-07-15T00:51:48.770283Z",
     "iopub.status.idle": "2022-07-15T00:51:48.773277Z",
     "shell.execute_reply": "2022-07-15T00:51:48.772717Z"
    },
    "papermill": {
     "duration": 0.047609,
     "end_time": "2022-07-15T00:51:48.773410",
     "exception": false,
     "start_time": "2022-07-15T00:51:48.725801",
     "status": "completed"
    },
    "tags": []
   },
   "outputs": [],
   "source": [
    "#hide\n",
    "g.index.name = 'date'"
   ]
  },
  {
   "cell_type": "code",
   "execution_count": 24,
   "id": "naked-donor",
   "metadata": {
    "execution": {
     "iopub.execute_input": "2022-07-15T00:51:48.854012Z",
     "iopub.status.busy": "2022-07-15T00:51:48.853245Z",
     "iopub.status.idle": "2022-07-15T00:51:48.856038Z",
     "shell.execute_reply": "2022-07-15T00:51:48.855362Z"
    },
    "papermill": {
     "duration": 0.043296,
     "end_time": "2022-07-15T00:51:48.856169",
     "exception": false,
     "start_time": "2022-07-15T00:51:48.812873",
     "status": "completed"
    },
    "tags": []
   },
   "outputs": [],
   "source": [
    "# #hide\n",
    "# g = g.reset_index(['date'])"
   ]
  },
  {
   "cell_type": "code",
   "execution_count": 25,
   "id": "incomplete-mustang",
   "metadata": {
    "execution": {
     "iopub.execute_input": "2022-07-15T00:51:48.960278Z",
     "iopub.status.busy": "2022-07-15T00:51:48.959561Z",
     "iopub.status.idle": "2022-07-15T00:51:48.962708Z",
     "shell.execute_reply": "2022-07-15T00:51:48.962130Z"
    },
    "papermill": {
     "duration": 0.056582,
     "end_time": "2022-07-15T00:51:48.962842",
     "exception": false,
     "start_time": "2022-07-15T00:51:48.906260",
     "status": "completed"
    },
    "tags": []
   },
   "outputs": [],
   "source": [
    "#hide\n",
    "# g.head()"
   ]
  },
  {
   "cell_type": "code",
   "execution_count": 26,
   "id": "specific-kruger",
   "metadata": {
    "execution": {
     "iopub.execute_input": "2022-07-15T00:51:49.043141Z",
     "iopub.status.busy": "2022-07-15T00:51:49.042388Z",
     "iopub.status.idle": "2022-07-15T00:51:49.045622Z",
     "shell.execute_reply": "2022-07-15T00:51:49.044661Z"
    },
    "papermill": {
     "duration": 0.046961,
     "end_time": "2022-07-15T00:51:49.045808",
     "exception": false,
     "start_time": "2022-07-15T00:51:48.998847",
     "status": "completed"
    },
    "tags": []
   },
   "outputs": [],
   "source": [
    "#hide\n",
    "# g.columns = ['date','country','cases']"
   ]
  },
  {
   "cell_type": "code",
   "execution_count": 27,
   "id": "tender-conversion",
   "metadata": {
    "execution": {
     "iopub.execute_input": "2022-07-15T00:51:49.129240Z",
     "iopub.status.busy": "2022-07-15T00:51:49.128375Z",
     "iopub.status.idle": "2022-07-15T00:51:49.131486Z",
     "shell.execute_reply": "2022-07-15T00:51:49.130767Z"
    },
    "papermill": {
     "duration": 0.046211,
     "end_time": "2022-07-15T00:51:49.131618",
     "exception": false,
     "start_time": "2022-07-15T00:51:49.085407",
     "status": "completed"
    },
    "tags": []
   },
   "outputs": [],
   "source": [
    "#hide\n",
    "# g['continent'] = g.country"
   ]
  },
  {
   "cell_type": "code",
   "execution_count": 28,
   "id": "substantial-wilderness",
   "metadata": {
    "execution": {
     "iopub.execute_input": "2022-07-15T00:51:49.211478Z",
     "iopub.status.busy": "2022-07-15T00:51:49.210686Z",
     "iopub.status.idle": "2022-07-15T00:51:49.215727Z",
     "shell.execute_reply": "2022-07-15T00:51:49.215015Z"
    },
    "papermill": {
     "duration": 0.047795,
     "end_time": "2022-07-15T00:51:49.215864",
     "exception": false,
     "start_time": "2022-07-15T00:51:49.168069",
     "status": "completed"
    },
    "tags": []
   },
   "outputs": [],
   "source": [
    "#hide\n",
    "# cols = list(g.columns.values)"
   ]
  },
  {
   "cell_type": "code",
   "execution_count": 29,
   "id": "solved-farming",
   "metadata": {
    "execution": {
     "iopub.execute_input": "2022-07-15T00:51:49.297625Z",
     "iopub.status.busy": "2022-07-15T00:51:49.296880Z",
     "iopub.status.idle": "2022-07-15T00:51:49.301623Z",
     "shell.execute_reply": "2022-07-15T00:51:49.302188Z"
    },
    "papermill": {
     "duration": 0.047627,
     "end_time": "2022-07-15T00:51:49.302355",
     "exception": false,
     "start_time": "2022-07-15T00:51:49.254728",
     "status": "completed"
    },
    "tags": []
   },
   "outputs": [],
   "source": [
    "#hide\n",
    "# cols.insert(0, cols.pop())"
   ]
  },
  {
   "cell_type": "code",
   "execution_count": 30,
   "id": "executed-adoption",
   "metadata": {
    "execution": {
     "iopub.execute_input": "2022-07-15T00:51:49.380303Z",
     "iopub.status.busy": "2022-07-15T00:51:49.379509Z",
     "iopub.status.idle": "2022-07-15T00:51:49.384644Z",
     "shell.execute_reply": "2022-07-15T00:51:49.384027Z"
    },
    "papermill": {
     "duration": 0.046716,
     "end_time": "2022-07-15T00:51:49.384778",
     "exception": false,
     "start_time": "2022-07-15T00:51:49.338062",
     "status": "completed"
    },
    "tags": []
   },
   "outputs": [],
   "source": [
    "#hide\n",
    "# g = g[cols]"
   ]
  },
  {
   "cell_type": "code",
   "execution_count": 31,
   "id": "subject-dublin",
   "metadata": {
    "execution": {
     "iopub.execute_input": "2022-07-15T00:51:49.461611Z",
     "iopub.status.busy": "2022-07-15T00:51:49.460533Z",
     "iopub.status.idle": "2022-07-15T00:51:49.462464Z",
     "shell.execute_reply": "2022-07-15T00:51:49.463453Z"
    },
    "papermill": {
     "duration": 0.042815,
     "end_time": "2022-07-15T00:51:49.463642",
     "exception": false,
     "start_time": "2022-07-15T00:51:49.420827",
     "status": "completed"
    },
    "tags": []
   },
   "outputs": [],
   "source": [
    "#hide\n",
    "# g['continent'] = g['continent'].map(mapping['map.continent'])"
   ]
  },
  {
   "cell_type": "code",
   "execution_count": 32,
   "id": "freelance-scout",
   "metadata": {
    "execution": {
     "iopub.execute_input": "2022-07-15T00:51:49.540638Z",
     "iopub.status.busy": "2022-07-15T00:51:49.539876Z",
     "iopub.status.idle": "2022-07-15T00:51:49.542973Z",
     "shell.execute_reply": "2022-07-15T00:51:49.542400Z"
    },
    "papermill": {
     "duration": 0.043742,
     "end_time": "2022-07-15T00:51:49.543106",
     "exception": false,
     "start_time": "2022-07-15T00:51:49.499364",
     "status": "completed"
    },
    "tags": []
   },
   "outputs": [],
   "source": [
    "#hide\n",
    "# g.head()"
   ]
  },
  {
   "cell_type": "code",
   "execution_count": 33,
   "id": "limited-engine",
   "metadata": {
    "execution": {
     "iopub.execute_input": "2022-07-15T00:51:49.622699Z",
     "iopub.status.busy": "2022-07-15T00:51:49.621942Z",
     "iopub.status.idle": "2022-07-15T00:51:49.624314Z",
     "shell.execute_reply": "2022-07-15T00:51:49.623649Z"
    },
    "papermill": {
     "duration": 0.0423,
     "end_time": "2022-07-15T00:51:49.624446",
     "exception": false,
     "start_time": "2022-07-15T00:51:49.582146",
     "status": "completed"
    },
    "tags": []
   },
   "outputs": [],
   "source": [
    "# hide\n",
    "# g['date'] = g['date'].astype('datetime64[ns]')"
   ]
  },
  {
   "cell_type": "code",
   "execution_count": 34,
   "id": "sophisticated-supervisor",
   "metadata": {
    "execution": {
     "iopub.execute_input": "2022-07-15T00:51:49.707109Z",
     "iopub.status.busy": "2022-07-15T00:51:49.706372Z",
     "iopub.status.idle": "2022-07-15T00:51:49.709766Z",
     "shell.execute_reply": "2022-07-15T00:51:49.709198Z"
    },
    "papermill": {
     "duration": 0.049007,
     "end_time": "2022-07-15T00:51:49.709922",
     "exception": false,
     "start_time": "2022-07-15T00:51:49.660915",
     "status": "completed"
    },
    "tags": []
   },
   "outputs": [],
   "source": [
    "#hide\n",
    "# g['date'] = g.date.dt.dayofyear"
   ]
  },
  {
   "cell_type": "code",
   "execution_count": 35,
   "id": "inside-dubai",
   "metadata": {
    "execution": {
     "iopub.execute_input": "2022-07-15T00:51:49.787067Z",
     "iopub.status.busy": "2022-07-15T00:51:49.786316Z",
     "iopub.status.idle": "2022-07-15T00:51:49.790668Z",
     "shell.execute_reply": "2022-07-15T00:51:49.790093Z"
    },
    "papermill": {
     "duration": 0.044271,
     "end_time": "2022-07-15T00:51:49.790801",
     "exception": false,
     "start_time": "2022-07-15T00:51:49.746530",
     "status": "completed"
    },
    "tags": []
   },
   "outputs": [],
   "source": [
    "#hide\n",
    "# g = g.rename(columns= {'continent':'group','country':'name','cases':'value'})"
   ]
  },
  {
   "cell_type": "code",
   "execution_count": 36,
   "id": "fleet-motorcycle",
   "metadata": {
    "execution": {
     "iopub.execute_input": "2022-07-15T00:51:49.879983Z",
     "iopub.status.busy": "2022-07-15T00:51:49.879146Z",
     "iopub.status.idle": "2022-07-15T00:51:49.882167Z",
     "shell.execute_reply": "2022-07-15T00:51:49.881573Z"
    },
    "papermill": {
     "duration": 0.047392,
     "end_time": "2022-07-15T00:51:49.882306",
     "exception": false,
     "start_time": "2022-07-15T00:51:49.834914",
     "status": "completed"
    },
    "tags": []
   },
   "outputs": [],
   "source": [
    "#hide\n",
    "# cols = ['name','group','day','value']"
   ]
  },
  {
   "cell_type": "code",
   "execution_count": 37,
   "id": "continued-sleeping",
   "metadata": {
    "execution": {
     "iopub.execute_input": "2022-07-15T00:51:49.960548Z",
     "iopub.status.busy": "2022-07-15T00:51:49.959682Z",
     "iopub.status.idle": "2022-07-15T00:51:49.961689Z",
     "shell.execute_reply": "2022-07-15T00:51:49.962346Z"
    },
    "papermill": {
     "duration": 0.043685,
     "end_time": "2022-07-15T00:51:49.962521",
     "exception": false,
     "start_time": "2022-07-15T00:51:49.918836",
     "status": "completed"
    },
    "tags": []
   },
   "outputs": [],
   "source": [
    "#hide\n",
    "# g.rename(columns= {'date':'day'},inplace = True)"
   ]
  },
  {
   "cell_type": "code",
   "execution_count": 38,
   "id": "major-fight",
   "metadata": {
    "execution": {
     "iopub.execute_input": "2022-07-15T00:51:50.036607Z",
     "iopub.status.busy": "2022-07-15T00:51:50.035894Z",
     "iopub.status.idle": "2022-07-15T00:51:50.039133Z",
     "shell.execute_reply": "2022-07-15T00:51:50.038575Z"
    },
    "papermill": {
     "duration": 0.042214,
     "end_time": "2022-07-15T00:51:50.039262",
     "exception": false,
     "start_time": "2022-07-15T00:51:49.997048",
     "status": "completed"
    },
    "tags": []
   },
   "outputs": [],
   "source": [
    "#hide\n",
    "# g = g[cols]"
   ]
  },
  {
   "cell_type": "code",
   "execution_count": 39,
   "id": "structured-mobile",
   "metadata": {
    "execution": {
     "iopub.execute_input": "2022-07-15T00:51:50.114305Z",
     "iopub.status.busy": "2022-07-15T00:51:50.113234Z",
     "iopub.status.idle": "2022-07-15T00:51:50.117962Z",
     "shell.execute_reply": "2022-07-15T00:51:50.117194Z"
    },
    "papermill": {
     "duration": 0.043911,
     "end_time": "2022-07-15T00:51:50.118103",
     "exception": false,
     "start_time": "2022-07-15T00:51:50.074192",
     "status": "completed"
    },
    "tags": []
   },
   "outputs": [],
   "source": [
    "# #hide\n",
    "# g = g[g.group.notna()]"
   ]
  },
  {
   "cell_type": "code",
   "execution_count": 40,
   "id": "determined-closing",
   "metadata": {
    "execution": {
     "iopub.execute_input": "2022-07-15T00:51:50.198934Z",
     "iopub.status.busy": "2022-07-15T00:51:50.198190Z",
     "iopub.status.idle": "2022-07-15T00:51:50.201488Z",
     "shell.execute_reply": "2022-07-15T00:51:50.200895Z"
    },
    "papermill": {
     "duration": 0.044629,
     "end_time": "2022-07-15T00:51:50.201622",
     "exception": false,
     "start_time": "2022-07-15T00:51:50.156993",
     "status": "completed"
    },
    "tags": []
   },
   "outputs": [],
   "source": [
    "# #hide\n",
    "# colors = dict(zip(\n",
    "#     [\"Oceania\", \"Europe\", \"Asia\", \"South America\", \"Middle East\", \"North America\", \"Africa\"],\n",
    "#     [\"#adb0ff\", \"#ffb3ff\", \"#90d595\", \"#e48381\", \"#aafbff\", \"#f7bb5f\", \"#eafb50\"]\n",
    "# ))\n",
    "# group_lk = g.set_index('name')['group'].to_dict()"
   ]
  },
  {
   "cell_type": "code",
   "execution_count": null,
   "id": "gross-drinking",
   "metadata": {
    "papermill": {
     "duration": 0.034506,
     "end_time": "2022-07-15T00:51:50.271362",
     "exception": false,
     "start_time": "2022-07-15T00:51:50.236856",
     "status": "completed"
    },
    "tags": []
   },
   "outputs": [],
   "source": []
  },
  {
   "cell_type": "code",
   "execution_count": 41,
   "id": "subject-macintosh",
   "metadata": {
    "execution": {
     "iopub.execute_input": "2022-07-15T00:51:50.347970Z",
     "iopub.status.busy": "2022-07-15T00:51:50.347239Z",
     "iopub.status.idle": "2022-07-15T00:51:50.350331Z",
     "shell.execute_reply": "2022-07-15T00:51:50.350997Z"
    },
    "papermill": {
     "duration": 0.045339,
     "end_time": "2022-07-15T00:51:50.351155",
     "exception": false,
     "start_time": "2022-07-15T00:51:50.305816",
     "status": "completed"
    },
    "tags": []
   },
   "outputs": [],
   "source": [
    "# #hide\n",
    "# fig, ax = plt.subplots(figsize=(15, 8))\n",
    "\n",
    "# def draw_barchart(current_day):\n",
    "#     dff = g[g['day'].eq(current_day)].sort_values(by='value', ascending=True).tail(10)\n",
    "#     ax.clear()\n",
    "#     ax.barh(dff['name'], dff['value'], color=[colors[group_lk[x]] for x in dff['name']])\n",
    "#     dx = dff['value'].max() / 200\n",
    "    \n",
    "#     for i, (value, name) in enumerate(zip(dff['value'], dff['name'])):\n",
    "#         ax.text(value-dx, i,     name,           size=14, weight=600, ha='right', va='bottom')\n",
    "#         ax.text(value-dx, i-.25, group_lk[name], size=10, color='#444444', ha='right', va='baseline')\n",
    "#         ax.text(value+dx, i,     f'{value:,.0f}',  size=14, ha='left',  va='center')\n",
    "#     ax.text(1, 0.4, current_day, transform=ax.transAxes, color='#777777', size=46, ha='right', weight=800)\n",
    "#     ax.text(0, 1.06, 'Population (thousands)', transform=ax.transAxes, size=12, color='#777777')\n",
    "#     ax.xaxis.set_major_formatter(ticker.StrMethodFormatter('{x:,.0f}'))\n",
    "#     ax.xaxis.set_ticks_position('top')\n",
    "#     ax.tick_params(axis='x', colors='#777777', labelsize=12)\n",
    "#     ax.set_yticks([])\n",
    "#     ax.margins(0, 0.01)\n",
    "#     ax.grid(which='major', axis='x', linestyle='-')\n",
    "#     ax.set_axisbelow(True)\n",
    "    \n",
    "#     ax.text(0, 1.15, 'Coronavirus',\n",
    "#             transform=ax.transAxes, size=24, weight=600, ha='left', va='top')\n",
    "# #     ax.text(1, 0, 'by @pratapvardhan; credit @jburnmurdoch', transform=ax.transAxes, color='#777777', ha='right',\n",
    "# #             bbox=dict(facecolor='white', alpha=0.8, edgecolor='white'))\n",
    "#     plt.box(False)"
   ]
  },
  {
   "cell_type": "code",
   "execution_count": 42,
   "id": "sexual-wages",
   "metadata": {
    "execution": {
     "iopub.execute_input": "2022-07-15T00:51:50.426134Z",
     "iopub.status.busy": "2022-07-15T00:51:50.425243Z",
     "iopub.status.idle": "2022-07-15T00:51:50.427206Z",
     "shell.execute_reply": "2022-07-15T00:51:50.427860Z"
    },
    "papermill": {
     "duration": 0.041765,
     "end_time": "2022-07-15T00:51:50.428029",
     "exception": false,
     "start_time": "2022-07-15T00:51:50.386264",
     "status": "completed"
    },
    "tags": []
   },
   "outputs": [],
   "source": [
    "# #hide_input\n",
    "# fig, ax = plt.subplots(figsize=(15, 8))\n",
    "# animator = animation.FuncAnimation(fig, draw_barchart, frames=range(g.day.values.min(), g.day.values.max()))\n",
    "# HTML(animator.to_jshtml())\n",
    "# # or use animator.to_html5_video() or animator.save() "
   ]
  },
  {
   "cell_type": "code",
   "execution_count": null,
   "id": "australian-container",
   "metadata": {
    "papermill": {
     "duration": 0.036619,
     "end_time": "2022-07-15T00:51:50.502162",
     "exception": false,
     "start_time": "2022-07-15T00:51:50.465543",
     "status": "completed"
    },
    "tags": []
   },
   "outputs": [],
   "source": []
  },
  {
   "cell_type": "code",
   "execution_count": null,
   "id": "mediterranean-pontiac",
   "metadata": {
    "papermill": {
     "duration": 0.035862,
     "end_time": "2022-07-15T00:51:50.574213",
     "exception": false,
     "start_time": "2022-07-15T00:51:50.538351",
     "status": "completed"
    },
    "tags": []
   },
   "outputs": [],
   "source": []
  },
  {
   "cell_type": "code",
   "execution_count": null,
   "id": "aging-legislature",
   "metadata": {
    "papermill": {
     "duration": 0.035752,
     "end_time": "2022-07-15T00:51:50.647241",
     "exception": false,
     "start_time": "2022-07-15T00:51:50.611489",
     "status": "completed"
    },
    "tags": []
   },
   "outputs": [],
   "source": []
  }
 ],
 "metadata": {
  "kernelspec": {
   "display_name": "Python 3",
   "language": "python",
   "name": "python3"
  },
  "language_info": {
   "codemirror_mode": {
    "name": "ipython",
    "version": 3
   },
   "file_extension": ".py",
   "mimetype": "text/x-python",
   "name": "python",
   "nbconvert_exporter": "python",
   "pygments_lexer": "ipython3",
   "version": "3.6.15"
  },
  "papermill": {
   "duration": 7.274896,
   "end_time": "2022-07-15T00:51:51.104789",
   "environment_variables": {},
   "exception": null,
   "input_path": "2020-03-21-covid19exp.ipynb",
   "output_path": "2020-03-21-covid19exp.ipynb",
   "parameters": {},
   "start_time": "2022-07-15T00:51:43.829893",
   "version": "2.0.0"
  }
 },
 "nbformat": 4,
 "nbformat_minor": 5
}