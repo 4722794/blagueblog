{
 "cells": [
  {
   "cell_type": "markdown",
   "id": "muslim-click",
   "metadata": {
    "papermill": {
     "duration": 0.047607,
     "end_time": "2021-11-21T12:12:14.028169",
     "exception": false,
     "start_time": "2021-11-21T12:12:13.980562",
     "status": "completed"
    },
    "tags": []
   },
   "source": [
    "# COVID-19 Case Race\n",
    "> A race chart to see rising cases around the world\n",
    "\n",
    "- author: Hargun Oberoi\n",
    "- image: images/covid-overview.png\n",
    "- hide: false\n",
    "- badges: false"
   ]
  },
  {
   "cell_type": "code",
   "execution_count": 1,
   "id": "proof-material",
   "metadata": {
    "execution": {
     "iopub.execute_input": "2021-11-21T12:12:14.120638Z",
     "iopub.status.busy": "2021-11-21T12:12:14.119985Z",
     "iopub.status.idle": "2021-11-21T12:12:14.515605Z",
     "shell.execute_reply": "2021-11-21T12:12:14.516124Z"
    },
    "papermill": {
     "duration": 0.444889,
     "end_time": "2021-11-21T12:12:14.516362",
     "exception": false,
     "start_time": "2021-11-21T12:12:14.071473",
     "status": "completed"
    },
    "tags": []
   },
   "outputs": [],
   "source": [
    "#hide\n",
    "import numpy as np\n",
    "import pandas as pd\n",
    "from jinja2 import Template\n",
    "from IPython.display import HTML"
   ]
  },
  {
   "cell_type": "code",
   "execution_count": 2,
   "id": "developed-terminology",
   "metadata": {
    "execution": {
     "iopub.execute_input": "2021-11-21T12:12:14.597549Z",
     "iopub.status.busy": "2021-11-21T12:12:14.596927Z",
     "iopub.status.idle": "2021-11-21T12:12:14.599560Z",
     "shell.execute_reply": "2021-11-21T12:12:14.599053Z"
    },
    "papermill": {
     "duration": 0.045988,
     "end_time": "2021-11-21T12:12:14.599677",
     "exception": false,
     "start_time": "2021-11-21T12:12:14.553689",
     "status": "completed"
    },
    "tags": []
   },
   "outputs": [],
   "source": [
    "#hide\n",
    "\n",
    "# FETCH\n",
    "base_url = 'https://raw.githubusercontent.com/pratapvardhan/notebooks/master/covid19/'\n",
    "paths = {\n",
    "    'mapping': base_url + 'mapping_countries.csv',\n",
    "    'overview': base_url + 'overview.tpl'\n",
    "}"
   ]
  },
  {
   "cell_type": "code",
   "execution_count": 3,
   "id": "dynamic-saver",
   "metadata": {
    "execution": {
     "iopub.execute_input": "2021-11-21T12:12:14.683472Z",
     "iopub.status.busy": "2021-11-21T12:12:14.682887Z",
     "iopub.status.idle": "2021-11-21T12:12:14.690850Z",
     "shell.execute_reply": "2021-11-21T12:12:14.690352Z"
    },
    "papermill": {
     "duration": 0.055553,
     "end_time": "2021-11-21T12:12:14.690987",
     "exception": false,
     "start_time": "2021-11-21T12:12:14.635434",
     "status": "completed"
    },
    "tags": []
   },
   "outputs": [
    {
     "data": {
      "text/plain": [
       "'https://raw.githubusercontent.com/pratapvardhan/notebooks/master/covid19/mapping_countries.csv'"
      ]
     },
     "execution_count": 3,
     "metadata": {},
     "output_type": "execute_result"
    }
   ],
   "source": [
    "#hide\n",
    "paths['mapping']"
   ]
  },
  {
   "cell_type": "code",
   "execution_count": 4,
   "id": "urban-software",
   "metadata": {
    "execution": {
     "iopub.execute_input": "2021-11-21T12:12:14.765141Z",
     "iopub.status.busy": "2021-11-21T12:12:14.764241Z",
     "iopub.status.idle": "2021-11-21T12:12:14.767441Z",
     "shell.execute_reply": "2021-11-21T12:12:14.766841Z"
    },
    "papermill": {
     "duration": 0.042269,
     "end_time": "2021-11-21T12:12:14.767553",
     "exception": false,
     "start_time": "2021-11-21T12:12:14.725284",
     "status": "completed"
    },
    "tags": []
   },
   "outputs": [],
   "source": [
    "#hide\n",
    "def get_mappings(url):\n",
    "    df = pd.read_csv(url)\n",
    "    return {\n",
    "        'df': df,\n",
    "        'replace.country': dict(df.dropna(subset=['Name']).set_index('Country')['Name']),\n",
    "        'map.continent': dict(df.set_index('Name')['Continent'])\n",
    "    }"
   ]
  },
  {
   "cell_type": "code",
   "execution_count": 5,
   "id": "intimate-machinery",
   "metadata": {
    "execution": {
     "iopub.execute_input": "2021-11-21T12:12:14.844465Z",
     "iopub.status.busy": "2021-11-21T12:12:14.843861Z",
     "iopub.status.idle": "2021-11-21T12:12:14.888671Z",
     "shell.execute_reply": "2021-11-21T12:12:14.889340Z"
    },
    "papermill": {
     "duration": 0.086919,
     "end_time": "2021-11-21T12:12:14.889588",
     "exception": false,
     "start_time": "2021-11-21T12:12:14.802669",
     "status": "completed"
    },
    "tags": []
   },
   "outputs": [],
   "source": [
    "#hide\n",
    "mapping = get_mappings(paths['mapping'])"
   ]
  },
  {
   "cell_type": "code",
   "execution_count": 6,
   "id": "certified-tactics",
   "metadata": {
    "execution": {
     "iopub.execute_input": "2021-11-21T12:12:14.976582Z",
     "iopub.status.busy": "2021-11-21T12:12:14.975872Z",
     "iopub.status.idle": "2021-11-21T12:12:14.978787Z",
     "shell.execute_reply": "2021-11-21T12:12:14.978176Z"
    },
    "papermill": {
     "duration": 0.049617,
     "end_time": "2021-11-21T12:12:14.978928",
     "exception": false,
     "start_time": "2021-11-21T12:12:14.929311",
     "status": "completed"
    },
    "tags": []
   },
   "outputs": [],
   "source": [
    "#hide\n",
    "def get_template(path):\n",
    "    from urllib.parse import urlparse\n",
    "    if bool(urlparse(path).netloc):\n",
    "        from urllib.request import urlopen\n",
    "        return urlopen(path).read().decode('utf8')\n",
    "    return open(path).read()"
   ]
  },
  {
   "cell_type": "code",
   "execution_count": 7,
   "id": "realistic-blast",
   "metadata": {
    "execution": {
     "iopub.execute_input": "2021-11-21T12:12:15.074719Z",
     "iopub.status.busy": "2021-11-21T12:12:15.074004Z",
     "iopub.status.idle": "2021-11-21T12:12:15.076302Z",
     "shell.execute_reply": "2021-11-21T12:12:15.076821Z"
    },
    "papermill": {
     "duration": 0.057404,
     "end_time": "2021-11-21T12:12:15.076978",
     "exception": false,
     "start_time": "2021-11-21T12:12:15.019574",
     "status": "completed"
    },
    "tags": []
   },
   "outputs": [],
   "source": [
    "#hide\n",
    "def get_frame(name):\n",
    "    url = (\n",
    "        'https://raw.githubusercontent.com/CSSEGISandData/COVID-19/master/csse_covid_19_data/'\n",
    "        f'csse_covid_19_time_series/time_series_covid19_{name}_global.csv')\n",
    "    df = pd.read_csv(url)\n",
    "    # rename countries\n",
    "    df['Country/Region'] = df['Country/Region'].replace(mapping['replace.country'])\n",
    "    return df"
   ]
  },
  {
   "cell_type": "code",
   "execution_count": 8,
   "id": "affiliated-characterization",
   "metadata": {
    "execution": {
     "iopub.execute_input": "2021-11-21T12:12:15.166993Z",
     "iopub.status.busy": "2021-11-21T12:12:15.166200Z",
     "iopub.status.idle": "2021-11-21T12:12:15.170544Z",
     "shell.execute_reply": "2021-11-21T12:12:15.171136Z"
    },
    "papermill": {
     "duration": 0.051218,
     "end_time": "2021-11-21T12:12:15.171319",
     "exception": false,
     "start_time": "2021-11-21T12:12:15.120101",
     "status": "completed"
    },
    "tags": []
   },
   "outputs": [],
   "source": [
    "#hide\n",
    "def get_dates(df):\n",
    "    dt_cols = df.columns[~df.columns.isin(['Province/State', 'Country/Region', 'Lat', 'Long'])]\n",
    "    LAST_DATE_I = -1\n",
    "    # sometimes last column may be empty, then go backwards\n",
    "    for i in range(-1, -len(dt_cols), -1):\n",
    "        if not df[dt_cols[i]].fillna(0).eq(0).all():\n",
    "            LAST_DATE_I = i\n",
    "            break\n",
    "    return LAST_DATE_I, dt_cols"
   ]
  },
  {
   "cell_type": "code",
   "execution_count": 9,
   "id": "recent-optimization",
   "metadata": {
    "execution": {
     "iopub.execute_input": "2021-11-21T12:12:15.263122Z",
     "iopub.status.busy": "2021-11-21T12:12:15.262359Z",
     "iopub.status.idle": "2021-11-21T12:12:15.713472Z",
     "shell.execute_reply": "2021-11-21T12:12:15.712665Z"
    },
    "papermill": {
     "duration": 0.499451,
     "end_time": "2021-11-21T12:12:15.713626",
     "exception": false,
     "start_time": "2021-11-21T12:12:15.214175",
     "status": "completed"
    },
    "tags": []
   },
   "outputs": [],
   "source": [
    "#hide\n",
    "COL_REGION = 'Country/Region'\n",
    "# Confirmed, Recovered, Deaths\n",
    "df = get_frame('confirmed')\n",
    "# dft_: timeseries, dfc_: today country agg\n",
    "dft_cases = df\n",
    "dft_deaths = get_frame('deaths')\n",
    "dft_recovered = get_frame('recovered')\n",
    "LAST_DATE_I, dt_cols = get_dates(df)"
   ]
  },
  {
   "cell_type": "code",
   "execution_count": 10,
   "id": "absolute-copper",
   "metadata": {
    "execution": {
     "iopub.execute_input": "2021-11-21T12:12:15.804291Z",
     "iopub.status.busy": "2021-11-21T12:12:15.803603Z",
     "iopub.status.idle": "2021-11-21T12:12:15.806187Z",
     "shell.execute_reply": "2021-11-21T12:12:15.805602Z"
    },
    "papermill": {
     "duration": 0.049724,
     "end_time": "2021-11-21T12:12:15.806462",
     "exception": false,
     "start_time": "2021-11-21T12:12:15.756738",
     "status": "completed"
    },
    "tags": []
   },
   "outputs": [],
   "source": [
    "#hide\n",
    "LAST_DATE_I, dt_cols = get_dates(df)\n",
    "dt_today =dt_cols[LAST_DATE_I]\n",
    "# dt_5day = dt_cols[LAST_DATE_I - 5]\n",
    "dt_yday = dt_cols[LAST_DATE_I - 1]"
   ]
  },
  {
   "cell_type": "code",
   "execution_count": 11,
   "id": "restricted-sheriff",
   "metadata": {
    "execution": {
     "iopub.execute_input": "2021-11-21T12:12:15.902549Z",
     "iopub.status.busy": "2021-11-21T12:12:15.901638Z",
     "iopub.status.idle": "2021-11-21T12:12:15.909319Z",
     "shell.execute_reply": "2021-11-21T12:12:15.910005Z"
    },
    "papermill": {
     "duration": 0.062761,
     "end_time": "2021-11-21T12:12:15.910162",
     "exception": false,
     "start_time": "2021-11-21T12:12:15.847401",
     "status": "completed"
    },
    "tags": []
   },
   "outputs": [],
   "source": [
    "#hide\n",
    "dfc_cases = dft_cases.groupby(COL_REGION)[dt_today].sum()\n",
    "dfc_deaths = dft_deaths.groupby(COL_REGION)[dt_today].sum()\n",
    "# dfp_cases = dft_cases.groupby(COL_REGION)[dt_5day].sum()\n",
    "# dfp_deaths = dft_deaths.groupby(COL_REGION)[dt_5day].sum()\n",
    "dfp_cases = dft_cases.groupby(COL_REGION)[dt_yday].sum()\n",
    "dfp_deaths = dft_deaths.groupby(COL_REGION)[dt_yday].sum()"
   ]
  },
  {
   "cell_type": "code",
   "execution_count": 12,
   "id": "deluxe-hepatitis",
   "metadata": {
    "execution": {
     "iopub.execute_input": "2021-11-21T12:12:16.007888Z",
     "iopub.status.busy": "2021-11-21T12:12:16.007195Z",
     "iopub.status.idle": "2021-11-21T12:12:16.012453Z",
     "shell.execute_reply": "2021-11-21T12:12:16.013117Z"
    },
    "papermill": {
     "duration": 0.057497,
     "end_time": "2021-11-21T12:12:16.013335",
     "exception": false,
     "start_time": "2021-11-21T12:12:15.955838",
     "status": "completed"
    },
    "tags": []
   },
   "outputs": [],
   "source": [
    "#hide\n",
    "df_table = (pd.DataFrame(dict(Cases = dfc_cases, Deaths = dfc_deaths, PCases = dfp_cases, PDeaths = dfp_deaths))\n",
    "            .sort_values(by = ['Cases','Deaths'], ascending = [False, False])\n",
    "            .reset_index())"
   ]
  },
  {
   "cell_type": "code",
   "execution_count": 13,
   "id": "educational-chancellor",
   "metadata": {
    "execution": {
     "iopub.execute_input": "2021-11-21T12:12:16.121070Z",
     "iopub.status.busy": "2021-11-21T12:12:16.120303Z",
     "iopub.status.idle": "2021-11-21T12:12:16.130040Z",
     "shell.execute_reply": "2021-11-21T12:12:16.130730Z"
    },
    "papermill": {
     "duration": 0.076646,
     "end_time": "2021-11-21T12:12:16.130912",
     "exception": false,
     "start_time": "2021-11-21T12:12:16.054266",
     "status": "completed"
    },
    "tags": []
   },
   "outputs": [
    {
     "data": {
      "text/html": [
       "<div>\n",
       "<style scoped>\n",
       "    .dataframe tbody tr th:only-of-type {\n",
       "        vertical-align: middle;\n",
       "    }\n",
       "\n",
       "    .dataframe tbody tr th {\n",
       "        vertical-align: top;\n",
       "    }\n",
       "\n",
       "    .dataframe thead th {\n",
       "        text-align: right;\n",
       "    }\n",
       "</style>\n",
       "<table border=\"1\" class=\"dataframe\">\n",
       "  <thead>\n",
       "    <tr style=\"text-align: right;\">\n",
       "      <th></th>\n",
       "      <th>Country/Region</th>\n",
       "      <th>Cases</th>\n",
       "      <th>Deaths</th>\n",
       "      <th>PCases</th>\n",
       "      <th>PDeaths</th>\n",
       "      <th>Cases (+)</th>\n",
       "      <th>Deaths (+)</th>\n",
       "      <th>Fatality Rate</th>\n",
       "      <th>Continent</th>\n",
       "    </tr>\n",
       "  </thead>\n",
       "  <tbody>\n",
       "    <tr>\n",
       "      <th>0</th>\n",
       "      <td>US</td>\n",
       "      <td>47701872</td>\n",
       "      <td>771013</td>\n",
       "      <td>47660379</td>\n",
       "      <td>770691</td>\n",
       "      <td>41493</td>\n",
       "      <td>322</td>\n",
       "      <td>1.62</td>\n",
       "      <td>North America</td>\n",
       "    </tr>\n",
       "    <tr>\n",
       "      <th>1</th>\n",
       "      <td>India</td>\n",
       "      <td>34510413</td>\n",
       "      <td>465662</td>\n",
       "      <td>34499925</td>\n",
       "      <td>465349</td>\n",
       "      <td>10488</td>\n",
       "      <td>313</td>\n",
       "      <td>1.35</td>\n",
       "      <td>Asia</td>\n",
       "    </tr>\n",
       "    <tr>\n",
       "      <th>2</th>\n",
       "      <td>Brazil</td>\n",
       "      <td>22012150</td>\n",
       "      <td>612587</td>\n",
       "      <td>22003317</td>\n",
       "      <td>612370</td>\n",
       "      <td>8833</td>\n",
       "      <td>217</td>\n",
       "      <td>2.78</td>\n",
       "      <td>South America</td>\n",
       "    </tr>\n",
       "    <tr>\n",
       "      <th>3</th>\n",
       "      <td>United Kingdom</td>\n",
       "      <td>9857658</td>\n",
       "      <td>144308</td>\n",
       "      <td>9817505</td>\n",
       "      <td>144158</td>\n",
       "      <td>40153</td>\n",
       "      <td>150</td>\n",
       "      <td>1.46</td>\n",
       "      <td>Europe</td>\n",
       "    </tr>\n",
       "    <tr>\n",
       "      <th>4</th>\n",
       "      <td>Russia</td>\n",
       "      <td>9135149</td>\n",
       "      <td>257891</td>\n",
       "      <td>9099253</td>\n",
       "      <td>256669</td>\n",
       "      <td>35896</td>\n",
       "      <td>1222</td>\n",
       "      <td>2.82</td>\n",
       "      <td>Europe</td>\n",
       "    </tr>\n",
       "  </tbody>\n",
       "</table>\n",
       "</div>"
      ],
      "text/plain": [
       "   Country/Region     Cases  Deaths    PCases  PDeaths  Cases (+)  Deaths (+)  \\\n",
       "0              US  47701872  771013  47660379   770691      41493         322   \n",
       "1           India  34510413  465662  34499925   465349      10488         313   \n",
       "2          Brazil  22012150  612587  22003317   612370       8833         217   \n",
       "3  United Kingdom   9857658  144308   9817505   144158      40153         150   \n",
       "4          Russia   9135149  257891   9099253   256669      35896        1222   \n",
       "\n",
       "   Fatality Rate      Continent  \n",
       "0           1.62  North America  \n",
       "1           1.35           Asia  \n",
       "2           2.78  South America  \n",
       "3           1.46         Europe  \n",
       "4           2.82         Europe  "
      ]
     },
     "execution_count": 13,
     "metadata": {},
     "output_type": "execute_result"
    }
   ],
   "source": [
    "#hide\n",
    "for c in 'Cases, Deaths'.split(', '):\n",
    "    df_table[f'{c} (+)'] = (df_table[c] - df_table[f'P{c}']).clip(0)\n",
    "    #Clip ça veut dire, les chiffres negatif sont interdit\n",
    "df_table['Fatality Rate'] = (100* df_table['Deaths']/ df_table['Cases']).round(2)\n",
    "df_table['Continent'] = df_table['Country/Region'].map(mapping['map.continent'])\n",
    "df_table.head(5)"
   ]
  },
  {
   "cell_type": "code",
   "execution_count": 14,
   "id": "aboriginal-bulgaria",
   "metadata": {
    "execution": {
     "iopub.execute_input": "2021-11-21T12:12:16.222140Z",
     "iopub.status.busy": "2021-11-21T12:12:16.221467Z",
     "iopub.status.idle": "2021-11-21T12:12:16.223245Z",
     "shell.execute_reply": "2021-11-21T12:12:16.223774Z"
    },
    "papermill": {
     "duration": 0.050192,
     "end_time": "2021-11-21T12:12:16.223910",
     "exception": false,
     "start_time": "2021-11-21T12:12:16.173718",
     "status": "completed"
    },
    "tags": []
   },
   "outputs": [],
   "source": [
    "#hide\n",
    "#delete problematic countries from table\n",
    "df_table = df_table[~df_table['Country/Region'].isin(['Cape Verde', 'Cruise Ship', 'Kosovo'])]"
   ]
  },
  {
   "cell_type": "code",
   "execution_count": 15,
   "id": "fantastic-effect",
   "metadata": {
    "execution": {
     "iopub.execute_input": "2021-11-21T12:12:16.324406Z",
     "iopub.status.busy": "2021-11-21T12:12:16.323592Z",
     "iopub.status.idle": "2021-11-21T12:12:16.347634Z",
     "shell.execute_reply": "2021-11-21T12:12:16.348393Z"
    },
    "papermill": {
     "duration": 0.078473,
     "end_time": "2021-11-21T12:12:16.348588",
     "exception": false,
     "start_time": "2021-11-21T12:12:16.270115",
     "status": "completed"
    },
    "tags": []
   },
   "outputs": [
    {
     "data": {
      "text/html": [
       "<div>\n",
       "<style scoped>\n",
       "    .dataframe tbody tr th:only-of-type {\n",
       "        vertical-align: middle;\n",
       "    }\n",
       "\n",
       "    .dataframe tbody tr th {\n",
       "        vertical-align: top;\n",
       "    }\n",
       "\n",
       "    .dataframe thead th {\n",
       "        text-align: right;\n",
       "    }\n",
       "</style>\n",
       "<table border=\"1\" class=\"dataframe\">\n",
       "  <thead>\n",
       "    <tr style=\"text-align: right;\">\n",
       "      <th></th>\n",
       "      <th>Country/Region</th>\n",
       "      <th>Cases</th>\n",
       "      <th>Deaths</th>\n",
       "      <th>PCases</th>\n",
       "      <th>PDeaths</th>\n",
       "      <th>Cases (+)</th>\n",
       "      <th>Deaths (+)</th>\n",
       "      <th>Fatality Rate</th>\n",
       "      <th>Continent</th>\n",
       "    </tr>\n",
       "  </thead>\n",
       "  <tbody>\n",
       "    <tr>\n",
       "      <th>0</th>\n",
       "      <td>US</td>\n",
       "      <td>47701872</td>\n",
       "      <td>771013</td>\n",
       "      <td>47660379</td>\n",
       "      <td>770691</td>\n",
       "      <td>41493</td>\n",
       "      <td>322</td>\n",
       "      <td>1.6</td>\n",
       "      <td>North America</td>\n",
       "    </tr>\n",
       "    <tr>\n",
       "      <th>1</th>\n",
       "      <td>India</td>\n",
       "      <td>34510413</td>\n",
       "      <td>465662</td>\n",
       "      <td>34499925</td>\n",
       "      <td>465349</td>\n",
       "      <td>10488</td>\n",
       "      <td>313</td>\n",
       "      <td>1.3</td>\n",
       "      <td>Asia</td>\n",
       "    </tr>\n",
       "    <tr>\n",
       "      <th>2</th>\n",
       "      <td>Brazil</td>\n",
       "      <td>22012150</td>\n",
       "      <td>612587</td>\n",
       "      <td>22003317</td>\n",
       "      <td>612370</td>\n",
       "      <td>8833</td>\n",
       "      <td>217</td>\n",
       "      <td>2.8</td>\n",
       "      <td>South America</td>\n",
       "    </tr>\n",
       "    <tr>\n",
       "      <th>3</th>\n",
       "      <td>United Kingdom</td>\n",
       "      <td>9857658</td>\n",
       "      <td>144308</td>\n",
       "      <td>9817505</td>\n",
       "      <td>144158</td>\n",
       "      <td>40153</td>\n",
       "      <td>150</td>\n",
       "      <td>1.5</td>\n",
       "      <td>Europe</td>\n",
       "    </tr>\n",
       "    <tr>\n",
       "      <th>4</th>\n",
       "      <td>Russia</td>\n",
       "      <td>9135149</td>\n",
       "      <td>257891</td>\n",
       "      <td>9099253</td>\n",
       "      <td>256669</td>\n",
       "      <td>35896</td>\n",
       "      <td>1222</td>\n",
       "      <td>2.8</td>\n",
       "      <td>Europe</td>\n",
       "    </tr>\n",
       "  </tbody>\n",
       "</table>\n",
       "</div>"
      ],
      "text/plain": [
       "   Country/Region     Cases  Deaths    PCases  PDeaths  Cases (+)  Deaths (+)  \\\n",
       "0              US  47701872  771013  47660379   770691      41493         322   \n",
       "1           India  34510413  465662  34499925   465349      10488         313   \n",
       "2          Brazil  22012150  612587  22003317   612370       8833         217   \n",
       "3  United Kingdom   9857658  144308   9817505   144158      40153         150   \n",
       "4          Russia   9135149  257891   9099253   256669      35896        1222   \n",
       "\n",
       "   Fatality Rate      Continent  \n",
       "0            1.6  North America  \n",
       "1            1.3           Asia  \n",
       "2            2.8  South America  \n",
       "3            1.5         Europe  \n",
       "4            2.8         Europe  "
      ]
     },
     "execution_count": 15,
     "metadata": {},
     "output_type": "execute_result"
    }
   ],
   "source": [
    "#hide\n",
    "df_table = (pd.DataFrame(dict(Cases=dfc_cases, Deaths=dfc_deaths, PCases=dfp_cases, PDeaths=dfp_deaths))\n",
    "             .sort_values(by=['Cases', 'Deaths'], ascending=[False, False])\n",
    "             .reset_index())\n",
    "df_table.rename(columns={'index': 'Country/Region'}, inplace=True)\n",
    "for c in 'Cases, Deaths'.split(', '):\n",
    "    df_table[f'{c} (+)'] = (df_table[c] - df_table[f'P{c}']).clip(0)  # DATA BUG\n",
    "df_table['Fatality Rate'] = (100 * df_table['Deaths'] / df_table['Cases']).round(1)\n",
    "df_table['Continent'] = df_table['Country/Region'].map(mapping['map.continent'])\n",
    "df_table.head(5)"
   ]
  },
  {
   "cell_type": "code",
   "execution_count": 16,
   "id": "fewer-occasion",
   "metadata": {
    "execution": {
     "iopub.execute_input": "2021-11-21T12:12:16.438550Z",
     "iopub.status.busy": "2021-11-21T12:12:16.437836Z",
     "iopub.status.idle": "2021-11-21T12:12:16.440126Z",
     "shell.execute_reply": "2021-11-21T12:12:16.439522Z"
    },
    "papermill": {
     "duration": 0.048827,
     "end_time": "2021-11-21T12:12:16.440246",
     "exception": false,
     "start_time": "2021-11-21T12:12:16.391419",
     "status": "completed"
    },
    "tags": []
   },
   "outputs": [],
   "source": [
    "#hide\n",
    "#delete problematic countries from table\n",
    "df_table = df_table[~df_table['Country/Region'].isin(['Cape Verde', 'Cruise Ship', 'Kosovo'])]"
   ]
  },
  {
   "cell_type": "code",
   "execution_count": 17,
   "id": "related-center",
   "metadata": {
    "execution": {
     "iopub.execute_input": "2021-11-21T12:12:16.538525Z",
     "iopub.status.busy": "2021-11-21T12:12:16.537772Z",
     "iopub.status.idle": "2021-11-21T12:12:16.541308Z",
     "shell.execute_reply": "2021-11-21T12:12:16.541840Z"
    },
    "papermill": {
     "duration": 0.061371,
     "end_time": "2021-11-21T12:12:16.541963",
     "exception": false,
     "start_time": "2021-11-21T12:12:16.480592",
     "status": "completed"
    },
    "tags": []
   },
   "outputs": [],
   "source": [
    "#hide\n",
    "metrics = [df_table.columns[index] for index in [1,2,5,6]]\n",
    "# s_china = df_table[df_table['Country/Region'].eq('China')][metrics].sum().add_prefix('China ')\n",
    "s_us = df_table[df_table['Country/Region'].eq('US')][metrics].sum().add_prefix('US ')\n",
    "s_eu = df_table[df_table['Continent'].eq('Europe')][metrics].sum().add_prefix('EU ')\n",
    "s_ind = df_table[df_table['Country/Region'].eq('India')][metrics].sum().add_prefix('India ')\n",
    "summary = {'updated': pd.to_datetime(dt_today), 'since': pd.to_datetime(dt_yday)}\n",
    "summary = {'updated': pd.to_datetime(dt_today), 'since': pd.to_datetime(dt_yday)}\n",
    "summary = {**summary, **df_table[metrics].sum(), **s_ind, **s_us, **s_eu}"
   ]
  },
  {
   "cell_type": "code",
   "execution_count": 18,
   "id": "engaging-syndrome",
   "metadata": {
    "execution": {
     "iopub.execute_input": "2021-11-21T12:12:16.630393Z",
     "iopub.status.busy": "2021-11-21T12:12:16.629549Z",
     "iopub.status.idle": "2021-11-21T12:12:16.646607Z",
     "shell.execute_reply": "2021-11-21T12:12:16.647261Z"
    },
    "papermill": {
     "duration": 0.064645,
     "end_time": "2021-11-21T12:12:16.647440",
     "exception": false,
     "start_time": "2021-11-21T12:12:16.582795",
     "status": "completed"
    },
    "tags": []
   },
   "outputs": [],
   "source": [
    "#hide\n",
    "dft_ct_new_cases = dft_cases.groupby(COL_REGION)[dt_cols].sum().diff(axis=1).fillna(0).astype(int)"
   ]
  },
  {
   "cell_type": "code",
   "execution_count": 19,
   "id": "neutral-assignment",
   "metadata": {
    "execution": {
     "iopub.execute_input": "2021-11-21T12:12:16.749928Z",
     "iopub.status.busy": "2021-11-21T12:12:16.749214Z",
     "iopub.status.idle": "2021-11-21T12:12:16.753475Z",
     "shell.execute_reply": "2021-11-21T12:12:16.754321Z"
    },
    "papermill": {
     "duration": 0.05685,
     "end_time": "2021-11-21T12:12:16.754475",
     "exception": false,
     "start_time": "2021-11-21T12:12:16.697625",
     "status": "completed"
    },
    "tags": []
   },
   "outputs": [],
   "source": [
    "#hide\n",
    "everydaycases = dft_ct_new_cases.cumsum(axis=1)"
   ]
  },
  {
   "cell_type": "code",
   "execution_count": 20,
   "id": "parliamentary-calgary",
   "metadata": {
    "execution": {
     "iopub.execute_input": "2021-11-21T12:12:16.846905Z",
     "iopub.status.busy": "2021-11-21T12:12:16.846318Z",
     "iopub.status.idle": "2021-11-21T12:12:17.759499Z",
     "shell.execute_reply": "2021-11-21T12:12:17.760187Z"
    },
    "papermill": {
     "duration": 0.959975,
     "end_time": "2021-11-21T12:12:17.760392",
     "exception": false,
     "start_time": "2021-11-21T12:12:16.800417",
     "status": "completed"
    },
    "tags": []
   },
   "outputs": [],
   "source": [
    "#hide\n",
    "import pandas as pd\n",
    "import matplotlib.pyplot as plt\n",
    "import matplotlib.ticker as ticker\n",
    "import matplotlib.animation as animation\n",
    "from IPython.display import HTML"
   ]
  },
  {
   "cell_type": "code",
   "execution_count": 21,
   "id": "lasting-extraction",
   "metadata": {
    "execution": {
     "iopub.execute_input": "2021-11-21T12:12:17.853736Z",
     "iopub.status.busy": "2021-11-21T12:12:17.852912Z",
     "iopub.status.idle": "2021-11-21T12:12:17.859328Z",
     "shell.execute_reply": "2021-11-21T12:12:17.860067Z"
    },
    "papermill": {
     "duration": 0.058438,
     "end_time": "2021-11-21T12:12:17.860234",
     "exception": false,
     "start_time": "2021-11-21T12:12:17.801796",
     "status": "completed"
    },
    "tags": []
   },
   "outputs": [],
   "source": [
    "#hide\n",
    "t = everydaycases.stack()"
   ]
  },
  {
   "cell_type": "code",
   "execution_count": 22,
   "id": "premier-sleeve",
   "metadata": {
    "execution": {
     "iopub.execute_input": "2021-11-21T12:12:17.950047Z",
     "iopub.status.busy": "2021-11-21T12:12:17.949142Z",
     "iopub.status.idle": "2021-11-21T12:12:17.967525Z",
     "shell.execute_reply": "2021-11-21T12:12:17.968096Z"
    },
    "papermill": {
     "duration": 0.065908,
     "end_time": "2021-11-21T12:12:17.968286",
     "exception": false,
     "start_time": "2021-11-21T12:12:17.902378",
     "status": "completed"
    },
    "tags": []
   },
   "outputs": [],
   "source": [
    "#hide\n",
    "g = t.reset_index(['Country/Region'])"
   ]
  },
  {
   "cell_type": "code",
   "execution_count": 23,
   "id": "distributed-pittsburgh",
   "metadata": {
    "execution": {
     "iopub.execute_input": "2021-11-21T12:12:18.059034Z",
     "iopub.status.busy": "2021-11-21T12:12:18.058301Z",
     "iopub.status.idle": "2021-11-21T12:12:18.061227Z",
     "shell.execute_reply": "2021-11-21T12:12:18.060466Z"
    },
    "papermill": {
     "duration": 0.049694,
     "end_time": "2021-11-21T12:12:18.061378",
     "exception": false,
     "start_time": "2021-11-21T12:12:18.011684",
     "status": "completed"
    },
    "tags": []
   },
   "outputs": [],
   "source": [
    "#hide\n",
    "g.index.name = 'date'"
   ]
  },
  {
   "cell_type": "code",
   "execution_count": 24,
   "id": "naked-donor",
   "metadata": {
    "execution": {
     "iopub.execute_input": "2021-11-21T12:12:18.155383Z",
     "iopub.status.busy": "2021-11-21T12:12:18.154651Z",
     "iopub.status.idle": "2021-11-21T12:12:18.158874Z",
     "shell.execute_reply": "2021-11-21T12:12:18.159411Z"
    },
    "papermill": {
     "duration": 0.053375,
     "end_time": "2021-11-21T12:12:18.159573",
     "exception": false,
     "start_time": "2021-11-21T12:12:18.106198",
     "status": "completed"
    },
    "tags": []
   },
   "outputs": [],
   "source": [
    "# #hide\n",
    "# g = g.reset_index(['date'])"
   ]
  },
  {
   "cell_type": "code",
   "execution_count": 25,
   "id": "incomplete-mustang",
   "metadata": {
    "execution": {
     "iopub.execute_input": "2021-11-21T12:12:18.252110Z",
     "iopub.status.busy": "2021-11-21T12:12:18.251461Z",
     "iopub.status.idle": "2021-11-21T12:12:18.254483Z",
     "shell.execute_reply": "2021-11-21T12:12:18.253935Z"
    },
    "papermill": {
     "duration": 0.051276,
     "end_time": "2021-11-21T12:12:18.254623",
     "exception": false,
     "start_time": "2021-11-21T12:12:18.203347",
     "status": "completed"
    },
    "tags": []
   },
   "outputs": [],
   "source": [
    "#hide\n",
    "# g.head()"
   ]
  },
  {
   "cell_type": "code",
   "execution_count": 26,
   "id": "specific-kruger",
   "metadata": {
    "execution": {
     "iopub.execute_input": "2021-11-21T12:12:18.347104Z",
     "iopub.status.busy": "2021-11-21T12:12:18.346395Z",
     "iopub.status.idle": "2021-11-21T12:12:18.348963Z",
     "shell.execute_reply": "2021-11-21T12:12:18.348368Z"
    },
    "papermill": {
     "duration": 0.050655,
     "end_time": "2021-11-21T12:12:18.349107",
     "exception": false,
     "start_time": "2021-11-21T12:12:18.298452",
     "status": "completed"
    },
    "tags": []
   },
   "outputs": [],
   "source": [
    "#hide\n",
    "# g.columns = ['date','country','cases']"
   ]
  },
  {
   "cell_type": "code",
   "execution_count": 27,
   "id": "tender-conversion",
   "metadata": {
    "execution": {
     "iopub.execute_input": "2021-11-21T12:12:18.436661Z",
     "iopub.status.busy": "2021-11-21T12:12:18.435853Z",
     "iopub.status.idle": "2021-11-21T12:12:18.437798Z",
     "shell.execute_reply": "2021-11-21T12:12:18.438351Z"
    },
    "papermill": {
     "duration": 0.048144,
     "end_time": "2021-11-21T12:12:18.438512",
     "exception": false,
     "start_time": "2021-11-21T12:12:18.390368",
     "status": "completed"
    },
    "tags": []
   },
   "outputs": [],
   "source": [
    "#hide\n",
    "# g['continent'] = g.country"
   ]
  },
  {
   "cell_type": "code",
   "execution_count": 28,
   "id": "substantial-wilderness",
   "metadata": {
    "execution": {
     "iopub.execute_input": "2021-11-21T12:12:18.527094Z",
     "iopub.status.busy": "2021-11-21T12:12:18.526389Z",
     "iopub.status.idle": "2021-11-21T12:12:18.529007Z",
     "shell.execute_reply": "2021-11-21T12:12:18.528416Z"
    },
    "papermill": {
     "duration": 0.04935,
     "end_time": "2021-11-21T12:12:18.529162",
     "exception": false,
     "start_time": "2021-11-21T12:12:18.479812",
     "status": "completed"
    },
    "tags": []
   },
   "outputs": [],
   "source": [
    "#hide\n",
    "# cols = list(g.columns.values)"
   ]
  },
  {
   "cell_type": "code",
   "execution_count": 29,
   "id": "solved-farming",
   "metadata": {
    "execution": {
     "iopub.execute_input": "2021-11-21T12:12:18.617781Z",
     "iopub.status.busy": "2021-11-21T12:12:18.617027Z",
     "iopub.status.idle": "2021-11-21T12:12:18.621100Z",
     "shell.execute_reply": "2021-11-21T12:12:18.620531Z"
    },
    "papermill": {
     "duration": 0.050321,
     "end_time": "2021-11-21T12:12:18.621258",
     "exception": false,
     "start_time": "2021-11-21T12:12:18.570937",
     "status": "completed"
    },
    "tags": []
   },
   "outputs": [],
   "source": [
    "#hide\n",
    "# cols.insert(0, cols.pop())"
   ]
  },
  {
   "cell_type": "code",
   "execution_count": 30,
   "id": "executed-adoption",
   "metadata": {
    "execution": {
     "iopub.execute_input": "2021-11-21T12:12:18.710037Z",
     "iopub.status.busy": "2021-11-21T12:12:18.709279Z",
     "iopub.status.idle": "2021-11-21T12:12:18.712422Z",
     "shell.execute_reply": "2021-11-21T12:12:18.712954Z"
    },
    "papermill": {
     "duration": 0.050641,
     "end_time": "2021-11-21T12:12:18.713151",
     "exception": false,
     "start_time": "2021-11-21T12:12:18.662510",
     "status": "completed"
    },
    "tags": []
   },
   "outputs": [],
   "source": [
    "#hide\n",
    "# g = g[cols]"
   ]
  },
  {
   "cell_type": "code",
   "execution_count": 31,
   "id": "subject-dublin",
   "metadata": {
    "execution": {
     "iopub.execute_input": "2021-11-21T12:12:18.800675Z",
     "iopub.status.busy": "2021-11-21T12:12:18.800039Z",
     "iopub.status.idle": "2021-11-21T12:12:18.802671Z",
     "shell.execute_reply": "2021-11-21T12:12:18.802058Z"
    },
    "papermill": {
     "duration": 0.047786,
     "end_time": "2021-11-21T12:12:18.802894",
     "exception": false,
     "start_time": "2021-11-21T12:12:18.755108",
     "status": "completed"
    },
    "tags": []
   },
   "outputs": [],
   "source": [
    "#hide\n",
    "# g['continent'] = g['continent'].map(mapping['map.continent'])"
   ]
  },
  {
   "cell_type": "code",
   "execution_count": 32,
   "id": "freelance-scout",
   "metadata": {
    "execution": {
     "iopub.execute_input": "2021-11-21T12:12:18.889291Z",
     "iopub.status.busy": "2021-11-21T12:12:18.888657Z",
     "iopub.status.idle": "2021-11-21T12:12:18.892315Z",
     "shell.execute_reply": "2021-11-21T12:12:18.892822Z"
    },
    "papermill": {
     "duration": 0.048304,
     "end_time": "2021-11-21T12:12:18.892970",
     "exception": false,
     "start_time": "2021-11-21T12:12:18.844666",
     "status": "completed"
    },
    "tags": []
   },
   "outputs": [],
   "source": [
    "#hide\n",
    "# g.head()"
   ]
  },
  {
   "cell_type": "code",
   "execution_count": 33,
   "id": "limited-engine",
   "metadata": {
    "execution": {
     "iopub.execute_input": "2021-11-21T12:12:18.986776Z",
     "iopub.status.busy": "2021-11-21T12:12:18.986137Z",
     "iopub.status.idle": "2021-11-21T12:12:18.990223Z",
     "shell.execute_reply": "2021-11-21T12:12:18.990746Z"
    },
    "papermill": {
     "duration": 0.058247,
     "end_time": "2021-11-21T12:12:18.990904",
     "exception": false,
     "start_time": "2021-11-21T12:12:18.932657",
     "status": "completed"
    },
    "tags": []
   },
   "outputs": [],
   "source": [
    "# hide\n",
    "# g['date'] = g['date'].astype('datetime64[ns]')"
   ]
  },
  {
   "cell_type": "code",
   "execution_count": 34,
   "id": "sophisticated-supervisor",
   "metadata": {
    "execution": {
     "iopub.execute_input": "2021-11-21T12:12:19.077914Z",
     "iopub.status.busy": "2021-11-21T12:12:19.077198Z",
     "iopub.status.idle": "2021-11-21T12:12:19.080937Z",
     "shell.execute_reply": "2021-11-21T12:12:19.080270Z"
    },
    "papermill": {
     "duration": 0.049131,
     "end_time": "2021-11-21T12:12:19.081141",
     "exception": false,
     "start_time": "2021-11-21T12:12:19.032010",
     "status": "completed"
    },
    "tags": []
   },
   "outputs": [],
   "source": [
    "#hide\n",
    "# g['date'] = g.date.dt.dayofyear"
   ]
  },
  {
   "cell_type": "code",
   "execution_count": 35,
   "id": "inside-dubai",
   "metadata": {
    "execution": {
     "iopub.execute_input": "2021-11-21T12:12:19.167833Z",
     "iopub.status.busy": "2021-11-21T12:12:19.167132Z",
     "iopub.status.idle": "2021-11-21T12:12:19.169791Z",
     "shell.execute_reply": "2021-11-21T12:12:19.169170Z"
    },
    "papermill": {
     "duration": 0.047704,
     "end_time": "2021-11-21T12:12:19.169927",
     "exception": false,
     "start_time": "2021-11-21T12:12:19.122223",
     "status": "completed"
    },
    "tags": []
   },
   "outputs": [],
   "source": [
    "#hide\n",
    "# g = g.rename(columns= {'continent':'group','country':'name','cases':'value'})"
   ]
  },
  {
   "cell_type": "code",
   "execution_count": 36,
   "id": "fleet-motorcycle",
   "metadata": {
    "execution": {
     "iopub.execute_input": "2021-11-21T12:12:19.260767Z",
     "iopub.status.busy": "2021-11-21T12:12:19.259951Z",
     "iopub.status.idle": "2021-11-21T12:12:19.263762Z",
     "shell.execute_reply": "2021-11-21T12:12:19.264411Z"
    },
    "papermill": {
     "duration": 0.05081,
     "end_time": "2021-11-21T12:12:19.264675",
     "exception": false,
     "start_time": "2021-11-21T12:12:19.213865",
     "status": "completed"
    },
    "tags": []
   },
   "outputs": [],
   "source": [
    "#hide\n",
    "# cols = ['name','group','day','value']"
   ]
  },
  {
   "cell_type": "code",
   "execution_count": 37,
   "id": "continued-sleeping",
   "metadata": {
    "execution": {
     "iopub.execute_input": "2021-11-21T12:12:19.352568Z",
     "iopub.status.busy": "2021-11-21T12:12:19.351939Z",
     "iopub.status.idle": "2021-11-21T12:12:19.353933Z",
     "shell.execute_reply": "2021-11-21T12:12:19.354525Z"
    },
    "papermill": {
     "duration": 0.049136,
     "end_time": "2021-11-21T12:12:19.354673",
     "exception": false,
     "start_time": "2021-11-21T12:12:19.305537",
     "status": "completed"
    },
    "tags": []
   },
   "outputs": [],
   "source": [
    "#hide\n",
    "# g.rename(columns= {'date':'day'},inplace = True)"
   ]
  },
  {
   "cell_type": "code",
   "execution_count": 38,
   "id": "major-fight",
   "metadata": {
    "execution": {
     "iopub.execute_input": "2021-11-21T12:12:19.445296Z",
     "iopub.status.busy": "2021-11-21T12:12:19.444618Z",
     "iopub.status.idle": "2021-11-21T12:12:19.448793Z",
     "shell.execute_reply": "2021-11-21T12:12:19.449354Z"
    },
    "papermill": {
     "duration": 0.051787,
     "end_time": "2021-11-21T12:12:19.449606",
     "exception": false,
     "start_time": "2021-11-21T12:12:19.397819",
     "status": "completed"
    },
    "tags": []
   },
   "outputs": [],
   "source": [
    "#hide\n",
    "# g = g[cols]"
   ]
  },
  {
   "cell_type": "code",
   "execution_count": 39,
   "id": "structured-mobile",
   "metadata": {
    "execution": {
     "iopub.execute_input": "2021-11-21T12:12:19.536196Z",
     "iopub.status.busy": "2021-11-21T12:12:19.535502Z",
     "iopub.status.idle": "2021-11-21T12:12:19.539804Z",
     "shell.execute_reply": "2021-11-21T12:12:19.540271Z"
    },
    "papermill": {
     "duration": 0.049208,
     "end_time": "2021-11-21T12:12:19.540428",
     "exception": false,
     "start_time": "2021-11-21T12:12:19.491220",
     "status": "completed"
    },
    "tags": []
   },
   "outputs": [],
   "source": [
    "# #hide\n",
    "# g = g[g.group.notna()]"
   ]
  },
  {
   "cell_type": "code",
   "execution_count": 40,
   "id": "determined-closing",
   "metadata": {
    "execution": {
     "iopub.execute_input": "2021-11-21T12:12:19.628347Z",
     "iopub.status.busy": "2021-11-21T12:12:19.627728Z",
     "iopub.status.idle": "2021-11-21T12:12:19.631356Z",
     "shell.execute_reply": "2021-11-21T12:12:19.630782Z"
    },
    "papermill": {
     "duration": 0.049387,
     "end_time": "2021-11-21T12:12:19.631487",
     "exception": false,
     "start_time": "2021-11-21T12:12:19.582100",
     "status": "completed"
    },
    "tags": []
   },
   "outputs": [],
   "source": [
    "# #hide\n",
    "# colors = dict(zip(\n",
    "#     [\"Oceania\", \"Europe\", \"Asia\", \"South America\", \"Middle East\", \"North America\", \"Africa\"],\n",
    "#     [\"#adb0ff\", \"#ffb3ff\", \"#90d595\", \"#e48381\", \"#aafbff\", \"#f7bb5f\", \"#eafb50\"]\n",
    "# ))\n",
    "# group_lk = g.set_index('name')['group'].to_dict()"
   ]
  },
  {
   "cell_type": "code",
   "execution_count": null,
   "id": "gross-drinking",
   "metadata": {
    "papermill": {
     "duration": 0.041253,
     "end_time": "2021-11-21T12:12:19.714119",
     "exception": false,
     "start_time": "2021-11-21T12:12:19.672866",
     "status": "completed"
    },
    "tags": []
   },
   "outputs": [],
   "source": []
  },
  {
   "cell_type": "code",
   "execution_count": 41,
   "id": "subject-macintosh",
   "metadata": {
    "execution": {
     "iopub.execute_input": "2021-11-21T12:12:19.801182Z",
     "iopub.status.busy": "2021-11-21T12:12:19.800436Z",
     "iopub.status.idle": "2021-11-21T12:12:19.802307Z",
     "shell.execute_reply": "2021-11-21T12:12:19.802920Z"
    },
    "papermill": {
     "duration": 0.046707,
     "end_time": "2021-11-21T12:12:19.803064",
     "exception": false,
     "start_time": "2021-11-21T12:12:19.756357",
     "status": "completed"
    },
    "tags": []
   },
   "outputs": [],
   "source": [
    "# #hide\n",
    "# fig, ax = plt.subplots(figsize=(15, 8))\n",
    "\n",
    "# def draw_barchart(current_day):\n",
    "#     dff = g[g['day'].eq(current_day)].sort_values(by='value', ascending=True).tail(10)\n",
    "#     ax.clear()\n",
    "#     ax.barh(dff['name'], dff['value'], color=[colors[group_lk[x]] for x in dff['name']])\n",
    "#     dx = dff['value'].max() / 200\n",
    "    \n",
    "#     for i, (value, name) in enumerate(zip(dff['value'], dff['name'])):\n",
    "#         ax.text(value-dx, i,     name,           size=14, weight=600, ha='right', va='bottom')\n",
    "#         ax.text(value-dx, i-.25, group_lk[name], size=10, color='#444444', ha='right', va='baseline')\n",
    "#         ax.text(value+dx, i,     f'{value:,.0f}',  size=14, ha='left',  va='center')\n",
    "#     ax.text(1, 0.4, current_day, transform=ax.transAxes, color='#777777', size=46, ha='right', weight=800)\n",
    "#     ax.text(0, 1.06, 'Population (thousands)', transform=ax.transAxes, size=12, color='#777777')\n",
    "#     ax.xaxis.set_major_formatter(ticker.StrMethodFormatter('{x:,.0f}'))\n",
    "#     ax.xaxis.set_ticks_position('top')\n",
    "#     ax.tick_params(axis='x', colors='#777777', labelsize=12)\n",
    "#     ax.set_yticks([])\n",
    "#     ax.margins(0, 0.01)\n",
    "#     ax.grid(which='major', axis='x', linestyle='-')\n",
    "#     ax.set_axisbelow(True)\n",
    "    \n",
    "#     ax.text(0, 1.15, 'Coronavirus',\n",
    "#             transform=ax.transAxes, size=24, weight=600, ha='left', va='top')\n",
    "# #     ax.text(1, 0, 'by @pratapvardhan; credit @jburnmurdoch', transform=ax.transAxes, color='#777777', ha='right',\n",
    "# #             bbox=dict(facecolor='white', alpha=0.8, edgecolor='white'))\n",
    "#     plt.box(False)"
   ]
  },
  {
   "cell_type": "code",
   "execution_count": 42,
   "id": "sexual-wages",
   "metadata": {
    "execution": {
     "iopub.execute_input": "2021-11-21T12:12:19.893320Z",
     "iopub.status.busy": "2021-11-21T12:12:19.892608Z",
     "iopub.status.idle": "2021-11-21T12:12:19.896608Z",
     "shell.execute_reply": "2021-11-21T12:12:19.897164Z"
    },
    "papermill": {
     "duration": 0.049914,
     "end_time": "2021-11-21T12:12:19.897342",
     "exception": false,
     "start_time": "2021-11-21T12:12:19.847428",
     "status": "completed"
    },
    "tags": []
   },
   "outputs": [],
   "source": [
    "# #hide_input\n",
    "# fig, ax = plt.subplots(figsize=(15, 8))\n",
    "# animator = animation.FuncAnimation(fig, draw_barchart, frames=range(g.day.values.min(), g.day.values.max()))\n",
    "# HTML(animator.to_jshtml())\n",
    "# # or use animator.to_html5_video() or animator.save() "
   ]
  },
  {
   "cell_type": "code",
   "execution_count": null,
   "id": "australian-container",
   "metadata": {
    "papermill": {
     "duration": 0.041793,
     "end_time": "2021-11-21T12:12:19.991561",
     "exception": false,
     "start_time": "2021-11-21T12:12:19.949768",
     "status": "completed"
    },
    "tags": []
   },
   "outputs": [],
   "source": []
  },
  {
   "cell_type": "code",
   "execution_count": null,
   "id": "mediterranean-pontiac",
   "metadata": {
    "papermill": {
     "duration": 0.04483,
     "end_time": "2021-11-21T12:12:20.079465",
     "exception": false,
     "start_time": "2021-11-21T12:12:20.034635",
     "status": "completed"
    },
    "tags": []
   },
   "outputs": [],
   "source": []
  },
  {
   "cell_type": "code",
   "execution_count": null,
   "id": "aging-legislature",
   "metadata": {
    "papermill": {
     "duration": 0.047245,
     "end_time": "2021-11-21T12:12:20.171521",
     "exception": false,
     "start_time": "2021-11-21T12:12:20.124276",
     "status": "completed"
    },
    "tags": []
   },
   "outputs": [],
   "source": []
  }
 ],
 "metadata": {
  "kernelspec": {
   "display_name": "Python 3",
   "language": "python",
   "name": "python3"
  },
  "language_info": {
   "codemirror_mode": {
    "name": "ipython",
    "version": 3
   },
   "file_extension": ".py",
   "mimetype": "text/x-python",
   "name": "python",
   "nbconvert_exporter": "python",
   "pygments_lexer": "ipython3",
   "version": "3.6.15"
  },
  "papermill": {
   "duration": 7.770534,
   "end_time": "2021-11-21T12:12:20.626524",
   "environment_variables": {},
   "exception": null,
   "input_path": "2020-03-21-covid19exp.ipynb",
   "output_path": "2020-03-21-covid19exp.ipynb",
   "parameters": {},
   "start_time": "2021-11-21T12:12:12.855990",
   "version": "2.0.0"
  }
 },
 "nbformat": 4,
 "nbformat_minor": 5
}