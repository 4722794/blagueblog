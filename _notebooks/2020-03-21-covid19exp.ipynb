{
 "cells": [
  {
   "cell_type": "markdown",
   "id": "muslim-click",
   "metadata": {
    "papermill": {
     "duration": 0.044769,
     "end_time": "2022-01-30T00:27:08.614960",
     "exception": false,
     "start_time": "2022-01-30T00:27:08.570191",
     "status": "completed"
    },
    "tags": []
   },
   "source": [
    "# COVID-19 Case Race\n",
    "> A race chart to see rising cases around the world\n",
    "\n",
    "- author: Hargun Oberoi\n",
    "- image: images/covid-overview.png\n",
    "- hide: false\n",
    "- badges: false"
   ]
  },
  {
   "cell_type": "code",
   "execution_count": 1,
   "id": "proof-material",
   "metadata": {
    "execution": {
     "iopub.execute_input": "2022-01-30T00:27:08.701956Z",
     "iopub.status.busy": "2022-01-30T00:27:08.701259Z",
     "iopub.status.idle": "2022-01-30T00:27:09.075059Z",
     "shell.execute_reply": "2022-01-30T00:27:09.074376Z"
    },
    "papermill": {
     "duration": 0.423407,
     "end_time": "2022-01-30T00:27:09.075258",
     "exception": false,
     "start_time": "2022-01-30T00:27:08.651851",
     "status": "completed"
    },
    "tags": []
   },
   "outputs": [],
   "source": [
    "#hide\n",
    "import numpy as np\n",
    "import pandas as pd\n",
    "from jinja2 import Template\n",
    "from IPython.display import HTML"
   ]
  },
  {
   "cell_type": "code",
   "execution_count": 2,
   "id": "developed-terminology",
   "metadata": {
    "execution": {
     "iopub.execute_input": "2022-01-30T00:27:09.165488Z",
     "iopub.status.busy": "2022-01-30T00:27:09.164725Z",
     "iopub.status.idle": "2022-01-30T00:27:09.167982Z",
     "shell.execute_reply": "2022-01-30T00:27:09.168497Z"
    },
    "papermill": {
     "duration": 0.05292,
     "end_time": "2022-01-30T00:27:09.168666",
     "exception": false,
     "start_time": "2022-01-30T00:27:09.115746",
     "status": "completed"
    },
    "tags": []
   },
   "outputs": [],
   "source": [
    "#hide\n",
    "\n",
    "# FETCH\n",
    "base_url = 'https://raw.githubusercontent.com/pratapvardhan/notebooks/master/covid19/'\n",
    "paths = {\n",
    "    'mapping': base_url + 'mapping_countries.csv',\n",
    "    'overview': base_url + 'overview.tpl'\n",
    "}"
   ]
  },
  {
   "cell_type": "code",
   "execution_count": 3,
   "id": "dynamic-saver",
   "metadata": {
    "execution": {
     "iopub.execute_input": "2022-01-30T00:27:09.249641Z",
     "iopub.status.busy": "2022-01-30T00:27:09.247266Z",
     "iopub.status.idle": "2022-01-30T00:27:09.252601Z",
     "shell.execute_reply": "2022-01-30T00:27:09.253885Z"
    },
    "papermill": {
     "duration": 0.050043,
     "end_time": "2022-01-30T00:27:09.254023",
     "exception": false,
     "start_time": "2022-01-30T00:27:09.203980",
     "status": "completed"
    },
    "tags": []
   },
   "outputs": [
    {
     "data": {
      "text/plain": [
       "'https://raw.githubusercontent.com/pratapvardhan/notebooks/master/covid19/mapping_countries.csv'"
      ]
     },
     "execution_count": 3,
     "metadata": {},
     "output_type": "execute_result"
    }
   ],
   "source": [
    "#hide\n",
    "paths['mapping']"
   ]
  },
  {
   "cell_type": "code",
   "execution_count": 4,
   "id": "urban-software",
   "metadata": {
    "execution": {
     "iopub.execute_input": "2022-01-30T00:27:09.329834Z",
     "iopub.status.busy": "2022-01-30T00:27:09.329230Z",
     "iopub.status.idle": "2022-01-30T00:27:09.331246Z",
     "shell.execute_reply": "2022-01-30T00:27:09.331761Z"
    },
    "papermill": {
     "duration": 0.043238,
     "end_time": "2022-01-30T00:27:09.331901",
     "exception": false,
     "start_time": "2022-01-30T00:27:09.288663",
     "status": "completed"
    },
    "tags": []
   },
   "outputs": [],
   "source": [
    "#hide\n",
    "def get_mappings(url):\n",
    "    df = pd.read_csv(url)\n",
    "    return {\n",
    "        'df': df,\n",
    "        'replace.country': dict(df.dropna(subset=['Name']).set_index('Country')['Name']),\n",
    "        'map.continent': dict(df.set_index('Name')['Continent'])\n",
    "    }"
   ]
  },
  {
   "cell_type": "code",
   "execution_count": 5,
   "id": "intimate-machinery",
   "metadata": {
    "execution": {
     "iopub.execute_input": "2022-01-30T00:27:09.411038Z",
     "iopub.status.busy": "2022-01-30T00:27:09.410439Z",
     "iopub.status.idle": "2022-01-30T00:27:09.450567Z",
     "shell.execute_reply": "2022-01-30T00:27:09.450051Z"
    },
    "papermill": {
     "duration": 0.083073,
     "end_time": "2022-01-30T00:27:09.450688",
     "exception": false,
     "start_time": "2022-01-30T00:27:09.367615",
     "status": "completed"
    },
    "tags": []
   },
   "outputs": [],
   "source": [
    "#hide\n",
    "mapping = get_mappings(paths['mapping'])"
   ]
  },
  {
   "cell_type": "code",
   "execution_count": 6,
   "id": "certified-tactics",
   "metadata": {
    "execution": {
     "iopub.execute_input": "2022-01-30T00:27:09.531284Z",
     "iopub.status.busy": "2022-01-30T00:27:09.530690Z",
     "iopub.status.idle": "2022-01-30T00:27:09.535102Z",
     "shell.execute_reply": "2022-01-30T00:27:09.534440Z"
    },
    "papermill": {
     "duration": 0.04731,
     "end_time": "2022-01-30T00:27:09.535238",
     "exception": false,
     "start_time": "2022-01-30T00:27:09.487928",
     "status": "completed"
    },
    "tags": []
   },
   "outputs": [],
   "source": [
    "#hide\n",
    "def get_template(path):\n",
    "    from urllib.parse import urlparse\n",
    "    if bool(urlparse(path).netloc):\n",
    "        from urllib.request import urlopen\n",
    "        return urlopen(path).read().decode('utf8')\n",
    "    return open(path).read()"
   ]
  },
  {
   "cell_type": "code",
   "execution_count": 7,
   "id": "realistic-blast",
   "metadata": {
    "execution": {
     "iopub.execute_input": "2022-01-30T00:27:09.612012Z",
     "iopub.status.busy": "2022-01-30T00:27:09.611335Z",
     "iopub.status.idle": "2022-01-30T00:27:09.614271Z",
     "shell.execute_reply": "2022-01-30T00:27:09.613667Z"
    },
    "papermill": {
     "duration": 0.042052,
     "end_time": "2022-01-30T00:27:09.614388",
     "exception": false,
     "start_time": "2022-01-30T00:27:09.572336",
     "status": "completed"
    },
    "tags": []
   },
   "outputs": [],
   "source": [
    "#hide\n",
    "def get_frame(name):\n",
    "    url = (\n",
    "        'https://raw.githubusercontent.com/CSSEGISandData/COVID-19/master/csse_covid_19_data/'\n",
    "        f'csse_covid_19_time_series/time_series_covid19_{name}_global.csv')\n",
    "    df = pd.read_csv(url)\n",
    "    # rename countries\n",
    "    df['Country/Region'] = df['Country/Region'].replace(mapping['replace.country'])\n",
    "    return df"
   ]
  },
  {
   "cell_type": "code",
   "execution_count": 8,
   "id": "affiliated-characterization",
   "metadata": {
    "execution": {
     "iopub.execute_input": "2022-01-30T00:27:09.690514Z",
     "iopub.status.busy": "2022-01-30T00:27:09.689908Z",
     "iopub.status.idle": "2022-01-30T00:27:09.693515Z",
     "shell.execute_reply": "2022-01-30T00:27:09.694013Z"
    },
    "papermill": {
     "duration": 0.045206,
     "end_time": "2022-01-30T00:27:09.694151",
     "exception": false,
     "start_time": "2022-01-30T00:27:09.648945",
     "status": "completed"
    },
    "tags": []
   },
   "outputs": [],
   "source": [
    "#hide\n",
    "def get_dates(df):\n",
    "    dt_cols = df.columns[~df.columns.isin(['Province/State', 'Country/Region', 'Lat', 'Long'])]\n",
    "    LAST_DATE_I = -1\n",
    "    # sometimes last column may be empty, then go backwards\n",
    "    for i in range(-1, -len(dt_cols), -1):\n",
    "        if not df[dt_cols[i]].fillna(0).eq(0).all():\n",
    "            LAST_DATE_I = i\n",
    "            break\n",
    "    return LAST_DATE_I, dt_cols"
   ]
  },
  {
   "cell_type": "code",
   "execution_count": 9,
   "id": "recent-optimization",
   "metadata": {
    "execution": {
     "iopub.execute_input": "2022-01-30T00:27:09.771871Z",
     "iopub.status.busy": "2022-01-30T00:27:09.771189Z",
     "iopub.status.idle": "2022-01-30T00:27:10.198768Z",
     "shell.execute_reply": "2022-01-30T00:27:10.199275Z"
    },
    "papermill": {
     "duration": 0.470527,
     "end_time": "2022-01-30T00:27:10.199450",
     "exception": false,
     "start_time": "2022-01-30T00:27:09.728923",
     "status": "completed"
    },
    "tags": []
   },
   "outputs": [],
   "source": [
    "#hide\n",
    "COL_REGION = 'Country/Region'\n",
    "# Confirmed, Recovered, Deaths\n",
    "df = get_frame('confirmed')\n",
    "# dft_: timeseries, dfc_: today country agg\n",
    "dft_cases = df\n",
    "dft_deaths = get_frame('deaths')\n",
    "dft_recovered = get_frame('recovered')\n",
    "LAST_DATE_I, dt_cols = get_dates(df)"
   ]
  },
  {
   "cell_type": "code",
   "execution_count": 10,
   "id": "absolute-copper",
   "metadata": {
    "execution": {
     "iopub.execute_input": "2022-01-30T00:27:10.276897Z",
     "iopub.status.busy": "2022-01-30T00:27:10.276201Z",
     "iopub.status.idle": "2022-01-30T00:27:10.278578Z",
     "shell.execute_reply": "2022-01-30T00:27:10.279077Z"
    },
    "papermill": {
     "duration": 0.042921,
     "end_time": "2022-01-30T00:27:10.279214",
     "exception": false,
     "start_time": "2022-01-30T00:27:10.236293",
     "status": "completed"
    },
    "tags": []
   },
   "outputs": [],
   "source": [
    "#hide\n",
    "LAST_DATE_I, dt_cols = get_dates(df)\n",
    "dt_today =dt_cols[LAST_DATE_I]\n",
    "# dt_5day = dt_cols[LAST_DATE_I - 5]\n",
    "dt_yday = dt_cols[LAST_DATE_I - 1]"
   ]
  },
  {
   "cell_type": "code",
   "execution_count": 11,
   "id": "restricted-sheriff",
   "metadata": {
    "execution": {
     "iopub.execute_input": "2022-01-30T00:27:10.363716Z",
     "iopub.status.busy": "2022-01-30T00:27:10.363090Z",
     "iopub.status.idle": "2022-01-30T00:27:10.368418Z",
     "shell.execute_reply": "2022-01-30T00:27:10.369072Z"
    },
    "papermill": {
     "duration": 0.053088,
     "end_time": "2022-01-30T00:27:10.369212",
     "exception": false,
     "start_time": "2022-01-30T00:27:10.316124",
     "status": "completed"
    },
    "tags": []
   },
   "outputs": [],
   "source": [
    "#hide\n",
    "dfc_cases = dft_cases.groupby(COL_REGION)[dt_today].sum()\n",
    "dfc_deaths = dft_deaths.groupby(COL_REGION)[dt_today].sum()\n",
    "# dfp_cases = dft_cases.groupby(COL_REGION)[dt_5day].sum()\n",
    "# dfp_deaths = dft_deaths.groupby(COL_REGION)[dt_5day].sum()\n",
    "dfp_cases = dft_cases.groupby(COL_REGION)[dt_yday].sum()\n",
    "dfp_deaths = dft_deaths.groupby(COL_REGION)[dt_yday].sum()"
   ]
  },
  {
   "cell_type": "code",
   "execution_count": 12,
   "id": "deluxe-hepatitis",
   "metadata": {
    "execution": {
     "iopub.execute_input": "2022-01-30T00:27:10.446880Z",
     "iopub.status.busy": "2022-01-30T00:27:10.446267Z",
     "iopub.status.idle": "2022-01-30T00:27:10.451130Z",
     "shell.execute_reply": "2022-01-30T00:27:10.451638Z"
    },
    "papermill": {
     "duration": 0.045895,
     "end_time": "2022-01-30T00:27:10.451768",
     "exception": false,
     "start_time": "2022-01-30T00:27:10.405873",
     "status": "completed"
    },
    "tags": []
   },
   "outputs": [],
   "source": [
    "#hide\n",
    "df_table = (pd.DataFrame(dict(Cases = dfc_cases, Deaths = dfc_deaths, PCases = dfp_cases, PDeaths = dfp_deaths))\n",
    "            .sort_values(by = ['Cases','Deaths'], ascending = [False, False])\n",
    "            .reset_index())"
   ]
  },
  {
   "cell_type": "code",
   "execution_count": 13,
   "id": "educational-chancellor",
   "metadata": {
    "execution": {
     "iopub.execute_input": "2022-01-30T00:27:10.544530Z",
     "iopub.status.busy": "2022-01-30T00:27:10.543880Z",
     "iopub.status.idle": "2022-01-30T00:27:10.554349Z",
     "shell.execute_reply": "2022-01-30T00:27:10.553081Z"
    },
    "papermill": {
     "duration": 0.066961,
     "end_time": "2022-01-30T00:27:10.554507",
     "exception": false,
     "start_time": "2022-01-30T00:27:10.487546",
     "status": "completed"
    },
    "tags": []
   },
   "outputs": [
    {
     "data": {
      "text/html": [
       "<div>\n",
       "<style scoped>\n",
       "    .dataframe tbody tr th:only-of-type {\n",
       "        vertical-align: middle;\n",
       "    }\n",
       "\n",
       "    .dataframe tbody tr th {\n",
       "        vertical-align: top;\n",
       "    }\n",
       "\n",
       "    .dataframe thead th {\n",
       "        text-align: right;\n",
       "    }\n",
       "</style>\n",
       "<table border=\"1\" class=\"dataframe\">\n",
       "  <thead>\n",
       "    <tr style=\"text-align: right;\">\n",
       "      <th></th>\n",
       "      <th>Country/Region</th>\n",
       "      <th>Cases</th>\n",
       "      <th>Deaths</th>\n",
       "      <th>PCases</th>\n",
       "      <th>PDeaths</th>\n",
       "      <th>Cases (+)</th>\n",
       "      <th>Deaths (+)</th>\n",
       "      <th>Fatality Rate</th>\n",
       "      <th>Continent</th>\n",
       "    </tr>\n",
       "  </thead>\n",
       "  <tbody>\n",
       "    <tr>\n",
       "      <th>0</th>\n",
       "      <td>US</td>\n",
       "      <td>74067112</td>\n",
       "      <td>882881</td>\n",
       "      <td>73424255</td>\n",
       "      <td>879006</td>\n",
       "      <td>642857</td>\n",
       "      <td>3875</td>\n",
       "      <td>1.19</td>\n",
       "      <td>North America</td>\n",
       "    </tr>\n",
       "    <tr>\n",
       "      <th>1</th>\n",
       "      <td>India</td>\n",
       "      <td>40858241</td>\n",
       "      <td>493198</td>\n",
       "      <td>40622709</td>\n",
       "      <td>492327</td>\n",
       "      <td>235532</td>\n",
       "      <td>871</td>\n",
       "      <td>1.21</td>\n",
       "      <td>Asia</td>\n",
       "    </tr>\n",
       "    <tr>\n",
       "      <th>2</th>\n",
       "      <td>Brazil</td>\n",
       "      <td>25050601</td>\n",
       "      <td>626170</td>\n",
       "      <td>24789795</td>\n",
       "      <td>625390</td>\n",
       "      <td>260806</td>\n",
       "      <td>780</td>\n",
       "      <td>2.50</td>\n",
       "      <td>South America</td>\n",
       "    </tr>\n",
       "    <tr>\n",
       "      <th>3</th>\n",
       "      <td>France</td>\n",
       "      <td>18596157</td>\n",
       "      <td>131271</td>\n",
       "      <td>18241888</td>\n",
       "      <td>131008</td>\n",
       "      <td>354269</td>\n",
       "      <td>263</td>\n",
       "      <td>0.71</td>\n",
       "      <td>Europe</td>\n",
       "    </tr>\n",
       "    <tr>\n",
       "      <th>4</th>\n",
       "      <td>United Kingdom</td>\n",
       "      <td>16447363</td>\n",
       "      <td>155841</td>\n",
       "      <td>16358047</td>\n",
       "      <td>155561</td>\n",
       "      <td>89316</td>\n",
       "      <td>280</td>\n",
       "      <td>0.95</td>\n",
       "      <td>Europe</td>\n",
       "    </tr>\n",
       "  </tbody>\n",
       "</table>\n",
       "</div>"
      ],
      "text/plain": [
       "   Country/Region     Cases  Deaths    PCases  PDeaths  Cases (+)  Deaths (+)  \\\n",
       "0              US  74067112  882881  73424255   879006     642857        3875   \n",
       "1           India  40858241  493198  40622709   492327     235532         871   \n",
       "2          Brazil  25050601  626170  24789795   625390     260806         780   \n",
       "3          France  18596157  131271  18241888   131008     354269         263   \n",
       "4  United Kingdom  16447363  155841  16358047   155561      89316         280   \n",
       "\n",
       "   Fatality Rate      Continent  \n",
       "0           1.19  North America  \n",
       "1           1.21           Asia  \n",
       "2           2.50  South America  \n",
       "3           0.71         Europe  \n",
       "4           0.95         Europe  "
      ]
     },
     "execution_count": 13,
     "metadata": {},
     "output_type": "execute_result"
    }
   ],
   "source": [
    "#hide\n",
    "for c in 'Cases, Deaths'.split(', '):\n",
    "    df_table[f'{c} (+)'] = (df_table[c] - df_table[f'P{c}']).clip(0)\n",
    "    #Clip ça veut dire, les chiffres negatif sont interdit\n",
    "df_table['Fatality Rate'] = (100* df_table['Deaths']/ df_table['Cases']).round(2)\n",
    "df_table['Continent'] = df_table['Country/Region'].map(mapping['map.continent'])\n",
    "df_table.head(5)"
   ]
  },
  {
   "cell_type": "code",
   "execution_count": 14,
   "id": "aboriginal-bulgaria",
   "metadata": {
    "execution": {
     "iopub.execute_input": "2022-01-30T00:27:10.635629Z",
     "iopub.status.busy": "2022-01-30T00:27:10.634871Z",
     "iopub.status.idle": "2022-01-30T00:27:10.637333Z",
     "shell.execute_reply": "2022-01-30T00:27:10.637842Z"
    },
    "papermill": {
     "duration": 0.044888,
     "end_time": "2022-01-30T00:27:10.637975",
     "exception": false,
     "start_time": "2022-01-30T00:27:10.593087",
     "status": "completed"
    },
    "tags": []
   },
   "outputs": [],
   "source": [
    "#hide\n",
    "#delete problematic countries from table\n",
    "df_table = df_table[~df_table['Country/Region'].isin(['Cape Verde', 'Cruise Ship', 'Kosovo'])]"
   ]
  },
  {
   "cell_type": "code",
   "execution_count": 15,
   "id": "fantastic-effect",
   "metadata": {
    "execution": {
     "iopub.execute_input": "2022-01-30T00:27:10.718526Z",
     "iopub.status.busy": "2022-01-30T00:27:10.717816Z",
     "iopub.status.idle": "2022-01-30T00:27:10.739098Z",
     "shell.execute_reply": "2022-01-30T00:27:10.739673Z"
    },
    "papermill": {
     "duration": 0.065588,
     "end_time": "2022-01-30T00:27:10.739806",
     "exception": false,
     "start_time": "2022-01-30T00:27:10.674218",
     "status": "completed"
    },
    "tags": []
   },
   "outputs": [
    {
     "data": {
      "text/html": [
       "<div>\n",
       "<style scoped>\n",
       "    .dataframe tbody tr th:only-of-type {\n",
       "        vertical-align: middle;\n",
       "    }\n",
       "\n",
       "    .dataframe tbody tr th {\n",
       "        vertical-align: top;\n",
       "    }\n",
       "\n",
       "    .dataframe thead th {\n",
       "        text-align: right;\n",
       "    }\n",
       "</style>\n",
       "<table border=\"1\" class=\"dataframe\">\n",
       "  <thead>\n",
       "    <tr style=\"text-align: right;\">\n",
       "      <th></th>\n",
       "      <th>Country/Region</th>\n",
       "      <th>Cases</th>\n",
       "      <th>Deaths</th>\n",
       "      <th>PCases</th>\n",
       "      <th>PDeaths</th>\n",
       "      <th>Cases (+)</th>\n",
       "      <th>Deaths (+)</th>\n",
       "      <th>Fatality Rate</th>\n",
       "      <th>Continent</th>\n",
       "    </tr>\n",
       "  </thead>\n",
       "  <tbody>\n",
       "    <tr>\n",
       "      <th>0</th>\n",
       "      <td>US</td>\n",
       "      <td>74067112</td>\n",
       "      <td>882881</td>\n",
       "      <td>73424255</td>\n",
       "      <td>879006</td>\n",
       "      <td>642857</td>\n",
       "      <td>3875</td>\n",
       "      <td>1.2</td>\n",
       "      <td>North America</td>\n",
       "    </tr>\n",
       "    <tr>\n",
       "      <th>1</th>\n",
       "      <td>India</td>\n",
       "      <td>40858241</td>\n",
       "      <td>493198</td>\n",
       "      <td>40622709</td>\n",
       "      <td>492327</td>\n",
       "      <td>235532</td>\n",
       "      <td>871</td>\n",
       "      <td>1.2</td>\n",
       "      <td>Asia</td>\n",
       "    </tr>\n",
       "    <tr>\n",
       "      <th>2</th>\n",
       "      <td>Brazil</td>\n",
       "      <td>25050601</td>\n",
       "      <td>626170</td>\n",
       "      <td>24789795</td>\n",
       "      <td>625390</td>\n",
       "      <td>260806</td>\n",
       "      <td>780</td>\n",
       "      <td>2.5</td>\n",
       "      <td>South America</td>\n",
       "    </tr>\n",
       "    <tr>\n",
       "      <th>3</th>\n",
       "      <td>France</td>\n",
       "      <td>18596157</td>\n",
       "      <td>131271</td>\n",
       "      <td>18241888</td>\n",
       "      <td>131008</td>\n",
       "      <td>354269</td>\n",
       "      <td>263</td>\n",
       "      <td>0.7</td>\n",
       "      <td>Europe</td>\n",
       "    </tr>\n",
       "    <tr>\n",
       "      <th>4</th>\n",
       "      <td>United Kingdom</td>\n",
       "      <td>16447363</td>\n",
       "      <td>155841</td>\n",
       "      <td>16358047</td>\n",
       "      <td>155561</td>\n",
       "      <td>89316</td>\n",
       "      <td>280</td>\n",
       "      <td>0.9</td>\n",
       "      <td>Europe</td>\n",
       "    </tr>\n",
       "  </tbody>\n",
       "</table>\n",
       "</div>"
      ],
      "text/plain": [
       "   Country/Region     Cases  Deaths    PCases  PDeaths  Cases (+)  Deaths (+)  \\\n",
       "0              US  74067112  882881  73424255   879006     642857        3875   \n",
       "1           India  40858241  493198  40622709   492327     235532         871   \n",
       "2          Brazil  25050601  626170  24789795   625390     260806         780   \n",
       "3          France  18596157  131271  18241888   131008     354269         263   \n",
       "4  United Kingdom  16447363  155841  16358047   155561      89316         280   \n",
       "\n",
       "   Fatality Rate      Continent  \n",
       "0            1.2  North America  \n",
       "1            1.2           Asia  \n",
       "2            2.5  South America  \n",
       "3            0.7         Europe  \n",
       "4            0.9         Europe  "
      ]
     },
     "execution_count": 15,
     "metadata": {},
     "output_type": "execute_result"
    }
   ],
   "source": [
    "#hide\n",
    "df_table = (pd.DataFrame(dict(Cases=dfc_cases, Deaths=dfc_deaths, PCases=dfp_cases, PDeaths=dfp_deaths))\n",
    "             .sort_values(by=['Cases', 'Deaths'], ascending=[False, False])\n",
    "             .reset_index())\n",
    "df_table.rename(columns={'index': 'Country/Region'}, inplace=True)\n",
    "for c in 'Cases, Deaths'.split(', '):\n",
    "    df_table[f'{c} (+)'] = (df_table[c] - df_table[f'P{c}']).clip(0)  # DATA BUG\n",
    "df_table['Fatality Rate'] = (100 * df_table['Deaths'] / df_table['Cases']).round(1)\n",
    "df_table['Continent'] = df_table['Country/Region'].map(mapping['map.continent'])\n",
    "df_table.head(5)"
   ]
  },
  {
   "cell_type": "code",
   "execution_count": 16,
   "id": "fewer-occasion",
   "metadata": {
    "execution": {
     "iopub.execute_input": "2022-01-30T00:27:10.819255Z",
     "iopub.status.busy": "2022-01-30T00:27:10.818624Z",
     "iopub.status.idle": "2022-01-30T00:27:10.821674Z",
     "shell.execute_reply": "2022-01-30T00:27:10.822187Z"
    },
    "papermill": {
     "duration": 0.045284,
     "end_time": "2022-01-30T00:27:10.822319",
     "exception": false,
     "start_time": "2022-01-30T00:27:10.777035",
     "status": "completed"
    },
    "tags": []
   },
   "outputs": [],
   "source": [
    "#hide\n",
    "#delete problematic countries from table\n",
    "df_table = df_table[~df_table['Country/Region'].isin(['Cape Verde', 'Cruise Ship', 'Kosovo'])]"
   ]
  },
  {
   "cell_type": "code",
   "execution_count": 17,
   "id": "related-center",
   "metadata": {
    "execution": {
     "iopub.execute_input": "2022-01-30T00:27:10.915880Z",
     "iopub.status.busy": "2022-01-30T00:27:10.915154Z",
     "iopub.status.idle": "2022-01-30T00:27:10.918140Z",
     "shell.execute_reply": "2022-01-30T00:27:10.917536Z"
    },
    "papermill": {
     "duration": 0.0604,
     "end_time": "2022-01-30T00:27:10.918275",
     "exception": false,
     "start_time": "2022-01-30T00:27:10.857875",
     "status": "completed"
    },
    "tags": []
   },
   "outputs": [],
   "source": [
    "#hide\n",
    "metrics = [df_table.columns[index] for index in [1,2,5,6]]\n",
    "# s_china = df_table[df_table['Country/Region'].eq('China')][metrics].sum().add_prefix('China ')\n",
    "s_us = df_table[df_table['Country/Region'].eq('US')][metrics].sum().add_prefix('US ')\n",
    "s_eu = df_table[df_table['Continent'].eq('Europe')][metrics].sum().add_prefix('EU ')\n",
    "s_ind = df_table[df_table['Country/Region'].eq('India')][metrics].sum().add_prefix('India ')\n",
    "summary = {'updated': pd.to_datetime(dt_today), 'since': pd.to_datetime(dt_yday)}\n",
    "summary = {'updated': pd.to_datetime(dt_today), 'since': pd.to_datetime(dt_yday)}\n",
    "summary = {**summary, **df_table[metrics].sum(), **s_ind, **s_us, **s_eu}"
   ]
  },
  {
   "cell_type": "code",
   "execution_count": 18,
   "id": "engaging-syndrome",
   "metadata": {
    "execution": {
     "iopub.execute_input": "2022-01-30T00:27:10.996464Z",
     "iopub.status.busy": "2022-01-30T00:27:10.995856Z",
     "iopub.status.idle": "2022-01-30T00:27:11.012129Z",
     "shell.execute_reply": "2022-01-30T00:27:11.012724Z"
    },
    "papermill": {
     "duration": 0.056992,
     "end_time": "2022-01-30T00:27:11.012913",
     "exception": false,
     "start_time": "2022-01-30T00:27:10.955921",
     "status": "completed"
    },
    "tags": []
   },
   "outputs": [],
   "source": [
    "#hide\n",
    "dft_ct_new_cases = dft_cases.groupby(COL_REGION)[dt_cols].sum().diff(axis=1).fillna(0).astype(int)"
   ]
  },
  {
   "cell_type": "code",
   "execution_count": 19,
   "id": "neutral-assignment",
   "metadata": {
    "execution": {
     "iopub.execute_input": "2022-01-30T00:27:11.095486Z",
     "iopub.status.busy": "2022-01-30T00:27:11.094869Z",
     "iopub.status.idle": "2022-01-30T00:27:11.097550Z",
     "shell.execute_reply": "2022-01-30T00:27:11.096974Z"
    },
    "papermill": {
     "duration": 0.044357,
     "end_time": "2022-01-30T00:27:11.097678",
     "exception": false,
     "start_time": "2022-01-30T00:27:11.053321",
     "status": "completed"
    },
    "tags": []
   },
   "outputs": [],
   "source": [
    "#hide\n",
    "everydaycases = dft_ct_new_cases.cumsum(axis=1)"
   ]
  },
  {
   "cell_type": "code",
   "execution_count": 20,
   "id": "parliamentary-calgary",
   "metadata": {
    "execution": {
     "iopub.execute_input": "2022-01-30T00:27:11.175049Z",
     "iopub.status.busy": "2022-01-30T00:27:11.174451Z",
     "iopub.status.idle": "2022-01-30T00:27:11.879878Z",
     "shell.execute_reply": "2022-01-30T00:27:11.879263Z"
    },
    "papermill": {
     "duration": 0.74497,
     "end_time": "2022-01-30T00:27:11.880034",
     "exception": false,
     "start_time": "2022-01-30T00:27:11.135064",
     "status": "completed"
    },
    "tags": []
   },
   "outputs": [],
   "source": [
    "#hide\n",
    "import pandas as pd\n",
    "import matplotlib.pyplot as plt\n",
    "import matplotlib.ticker as ticker\n",
    "import matplotlib.animation as animation\n",
    "from IPython.display import HTML"
   ]
  },
  {
   "cell_type": "code",
   "execution_count": 21,
   "id": "lasting-extraction",
   "metadata": {
    "execution": {
     "iopub.execute_input": "2022-01-30T00:27:11.961574Z",
     "iopub.status.busy": "2022-01-30T00:27:11.960937Z",
     "iopub.status.idle": "2022-01-30T00:27:11.967138Z",
     "shell.execute_reply": "2022-01-30T00:27:11.967880Z"
    },
    "papermill": {
     "duration": 0.050961,
     "end_time": "2022-01-30T00:27:11.968035",
     "exception": false,
     "start_time": "2022-01-30T00:27:11.917074",
     "status": "completed"
    },
    "tags": []
   },
   "outputs": [],
   "source": [
    "#hide\n",
    "t = everydaycases.stack()"
   ]
  },
  {
   "cell_type": "code",
   "execution_count": 22,
   "id": "premier-sleeve",
   "metadata": {
    "execution": {
     "iopub.execute_input": "2022-01-30T00:27:12.065090Z",
     "iopub.status.busy": "2022-01-30T00:27:12.064336Z",
     "iopub.status.idle": "2022-01-30T00:27:12.075774Z",
     "shell.execute_reply": "2022-01-30T00:27:12.076301Z"
    },
    "papermill": {
     "duration": 0.054983,
     "end_time": "2022-01-30T00:27:12.076516",
     "exception": false,
     "start_time": "2022-01-30T00:27:12.021533",
     "status": "completed"
    },
    "tags": []
   },
   "outputs": [],
   "source": [
    "#hide\n",
    "g = t.reset_index(['Country/Region'])"
   ]
  },
  {
   "cell_type": "code",
   "execution_count": 23,
   "id": "distributed-pittsburgh",
   "metadata": {
    "execution": {
     "iopub.execute_input": "2022-01-30T00:27:12.155330Z",
     "iopub.status.busy": "2022-01-30T00:27:12.154731Z",
     "iopub.status.idle": "2022-01-30T00:27:12.158263Z",
     "shell.execute_reply": "2022-01-30T00:27:12.156892Z"
    },
    "papermill": {
     "duration": 0.042692,
     "end_time": "2022-01-30T00:27:12.158389",
     "exception": false,
     "start_time": "2022-01-30T00:27:12.115697",
     "status": "completed"
    },
    "tags": []
   },
   "outputs": [],
   "source": [
    "#hide\n",
    "g.index.name = 'date'"
   ]
  },
  {
   "cell_type": "code",
   "execution_count": 24,
   "id": "naked-donor",
   "metadata": {
    "execution": {
     "iopub.execute_input": "2022-01-30T00:27:12.233832Z",
     "iopub.status.busy": "2022-01-30T00:27:12.233190Z",
     "iopub.status.idle": "2022-01-30T00:27:12.235371Z",
     "shell.execute_reply": "2022-01-30T00:27:12.235823Z"
    },
    "papermill": {
     "duration": 0.041142,
     "end_time": "2022-01-30T00:27:12.235955",
     "exception": false,
     "start_time": "2022-01-30T00:27:12.194813",
     "status": "completed"
    },
    "tags": []
   },
   "outputs": [],
   "source": [
    "# #hide\n",
    "# g = g.reset_index(['date'])"
   ]
  },
  {
   "cell_type": "code",
   "execution_count": 25,
   "id": "incomplete-mustang",
   "metadata": {
    "execution": {
     "iopub.execute_input": "2022-01-30T00:27:12.317000Z",
     "iopub.status.busy": "2022-01-30T00:27:12.316362Z",
     "iopub.status.idle": "2022-01-30T00:27:12.319113Z",
     "shell.execute_reply": "2022-01-30T00:27:12.318430Z"
    },
    "papermill": {
     "duration": 0.044635,
     "end_time": "2022-01-30T00:27:12.319239",
     "exception": false,
     "start_time": "2022-01-30T00:27:12.274604",
     "status": "completed"
    },
    "tags": []
   },
   "outputs": [],
   "source": [
    "#hide\n",
    "# g.head()"
   ]
  },
  {
   "cell_type": "code",
   "execution_count": 26,
   "id": "specific-kruger",
   "metadata": {
    "execution": {
     "iopub.execute_input": "2022-01-30T00:27:12.393225Z",
     "iopub.status.busy": "2022-01-30T00:27:12.392578Z",
     "iopub.status.idle": "2022-01-30T00:27:12.395868Z",
     "shell.execute_reply": "2022-01-30T00:27:12.395364Z"
    },
    "papermill": {
     "duration": 0.040789,
     "end_time": "2022-01-30T00:27:12.395986",
     "exception": false,
     "start_time": "2022-01-30T00:27:12.355197",
     "status": "completed"
    },
    "tags": []
   },
   "outputs": [],
   "source": [
    "#hide\n",
    "# g.columns = ['date','country','cases']"
   ]
  },
  {
   "cell_type": "code",
   "execution_count": 27,
   "id": "tender-conversion",
   "metadata": {
    "execution": {
     "iopub.execute_input": "2022-01-30T00:27:12.471766Z",
     "iopub.status.busy": "2022-01-30T00:27:12.471173Z",
     "iopub.status.idle": "2022-01-30T00:27:12.474858Z",
     "shell.execute_reply": "2022-01-30T00:27:12.475313Z"
    },
    "papermill": {
     "duration": 0.043262,
     "end_time": "2022-01-30T00:27:12.475447",
     "exception": false,
     "start_time": "2022-01-30T00:27:12.432185",
     "status": "completed"
    },
    "tags": []
   },
   "outputs": [],
   "source": [
    "#hide\n",
    "# g['continent'] = g.country"
   ]
  },
  {
   "cell_type": "code",
   "execution_count": 28,
   "id": "substantial-wilderness",
   "metadata": {
    "execution": {
     "iopub.execute_input": "2022-01-30T00:27:12.552129Z",
     "iopub.status.busy": "2022-01-30T00:27:12.551434Z",
     "iopub.status.idle": "2022-01-30T00:27:12.554006Z",
     "shell.execute_reply": "2022-01-30T00:27:12.553346Z"
    },
    "papermill": {
     "duration": 0.04103,
     "end_time": "2022-01-30T00:27:12.554124",
     "exception": false,
     "start_time": "2022-01-30T00:27:12.513094",
     "status": "completed"
    },
    "tags": []
   },
   "outputs": [],
   "source": [
    "#hide\n",
    "# cols = list(g.columns.values)"
   ]
  },
  {
   "cell_type": "code",
   "execution_count": 29,
   "id": "solved-farming",
   "metadata": {
    "execution": {
     "iopub.execute_input": "2022-01-30T00:27:12.637636Z",
     "iopub.status.busy": "2022-01-30T00:27:12.636931Z",
     "iopub.status.idle": "2022-01-30T00:27:12.640212Z",
     "shell.execute_reply": "2022-01-30T00:27:12.639736Z"
    },
    "papermill": {
     "duration": 0.047596,
     "end_time": "2022-01-30T00:27:12.640330",
     "exception": false,
     "start_time": "2022-01-30T00:27:12.592734",
     "status": "completed"
    },
    "tags": []
   },
   "outputs": [],
   "source": [
    "#hide\n",
    "# cols.insert(0, cols.pop())"
   ]
  },
  {
   "cell_type": "code",
   "execution_count": 30,
   "id": "executed-adoption",
   "metadata": {
    "execution": {
     "iopub.execute_input": "2022-01-30T00:27:12.719818Z",
     "iopub.status.busy": "2022-01-30T00:27:12.719127Z",
     "iopub.status.idle": "2022-01-30T00:27:12.721700Z",
     "shell.execute_reply": "2022-01-30T00:27:12.721192Z"
    },
    "papermill": {
     "duration": 0.042762,
     "end_time": "2022-01-30T00:27:12.721819",
     "exception": false,
     "start_time": "2022-01-30T00:27:12.679057",
     "status": "completed"
    },
    "tags": []
   },
   "outputs": [],
   "source": [
    "#hide\n",
    "# g = g[cols]"
   ]
  },
  {
   "cell_type": "code",
   "execution_count": 31,
   "id": "subject-dublin",
   "metadata": {
    "execution": {
     "iopub.execute_input": "2022-01-30T00:27:12.797998Z",
     "iopub.status.busy": "2022-01-30T00:27:12.797398Z",
     "iopub.status.idle": "2022-01-30T00:27:12.801169Z",
     "shell.execute_reply": "2022-01-30T00:27:12.801628Z"
    },
    "papermill": {
     "duration": 0.043328,
     "end_time": "2022-01-30T00:27:12.801765",
     "exception": false,
     "start_time": "2022-01-30T00:27:12.758437",
     "status": "completed"
    },
    "tags": []
   },
   "outputs": [],
   "source": [
    "#hide\n",
    "# g['continent'] = g['continent'].map(mapping['map.continent'])"
   ]
  },
  {
   "cell_type": "code",
   "execution_count": 32,
   "id": "freelance-scout",
   "metadata": {
    "execution": {
     "iopub.execute_input": "2022-01-30T00:27:12.879024Z",
     "iopub.status.busy": "2022-01-30T00:27:12.878425Z",
     "iopub.status.idle": "2022-01-30T00:27:12.880433Z",
     "shell.execute_reply": "2022-01-30T00:27:12.880918Z"
    },
    "papermill": {
     "duration": 0.041338,
     "end_time": "2022-01-30T00:27:12.881094",
     "exception": false,
     "start_time": "2022-01-30T00:27:12.839756",
     "status": "completed"
    },
    "tags": []
   },
   "outputs": [],
   "source": [
    "#hide\n",
    "# g.head()"
   ]
  },
  {
   "cell_type": "code",
   "execution_count": 33,
   "id": "limited-engine",
   "metadata": {
    "execution": {
     "iopub.execute_input": "2022-01-30T00:27:12.958251Z",
     "iopub.status.busy": "2022-01-30T00:27:12.957654Z",
     "iopub.status.idle": "2022-01-30T00:27:12.960290Z",
     "shell.execute_reply": "2022-01-30T00:27:12.959785Z"
    },
    "papermill": {
     "duration": 0.043428,
     "end_time": "2022-01-30T00:27:12.960407",
     "exception": false,
     "start_time": "2022-01-30T00:27:12.916979",
     "status": "completed"
    },
    "tags": []
   },
   "outputs": [],
   "source": [
    "# hide\n",
    "# g['date'] = g['date'].astype('datetime64[ns]')"
   ]
  },
  {
   "cell_type": "code",
   "execution_count": 34,
   "id": "sophisticated-supervisor",
   "metadata": {
    "execution": {
     "iopub.execute_input": "2022-01-30T00:27:13.039338Z",
     "iopub.status.busy": "2022-01-30T00:27:13.038741Z",
     "iopub.status.idle": "2022-01-30T00:27:13.042395Z",
     "shell.execute_reply": "2022-01-30T00:27:13.042901Z"
    },
    "papermill": {
     "duration": 0.046778,
     "end_time": "2022-01-30T00:27:13.043052",
     "exception": false,
     "start_time": "2022-01-30T00:27:12.996274",
     "status": "completed"
    },
    "tags": []
   },
   "outputs": [],
   "source": [
    "#hide\n",
    "# g['date'] = g.date.dt.dayofyear"
   ]
  },
  {
   "cell_type": "code",
   "execution_count": 35,
   "id": "inside-dubai",
   "metadata": {
    "execution": {
     "iopub.execute_input": "2022-01-30T00:27:13.123625Z",
     "iopub.status.busy": "2022-01-30T00:27:13.123028Z",
     "iopub.status.idle": "2022-01-30T00:27:13.125861Z",
     "shell.execute_reply": "2022-01-30T00:27:13.125260Z"
    },
    "papermill": {
     "duration": 0.043961,
     "end_time": "2022-01-30T00:27:13.126014",
     "exception": false,
     "start_time": "2022-01-30T00:27:13.082053",
     "status": "completed"
    },
    "tags": []
   },
   "outputs": [],
   "source": [
    "#hide\n",
    "# g = g.rename(columns= {'continent':'group','country':'name','cases':'value'})"
   ]
  },
  {
   "cell_type": "code",
   "execution_count": 36,
   "id": "fleet-motorcycle",
   "metadata": {
    "execution": {
     "iopub.execute_input": "2022-01-30T00:27:13.204374Z",
     "iopub.status.busy": "2022-01-30T00:27:13.203732Z",
     "iopub.status.idle": "2022-01-30T00:27:13.206888Z",
     "shell.execute_reply": "2022-01-30T00:27:13.205738Z"
    },
    "papermill": {
     "duration": 0.042013,
     "end_time": "2022-01-30T00:27:13.207078",
     "exception": false,
     "start_time": "2022-01-30T00:27:13.165065",
     "status": "completed"
    },
    "tags": []
   },
   "outputs": [],
   "source": [
    "#hide\n",
    "# cols = ['name','group','day','value']"
   ]
  },
  {
   "cell_type": "code",
   "execution_count": 37,
   "id": "continued-sleeping",
   "metadata": {
    "execution": {
     "iopub.execute_input": "2022-01-30T00:27:13.283286Z",
     "iopub.status.busy": "2022-01-30T00:27:13.282649Z",
     "iopub.status.idle": "2022-01-30T00:27:13.286416Z",
     "shell.execute_reply": "2022-01-30T00:27:13.286901Z"
    },
    "papermill": {
     "duration": 0.04436,
     "end_time": "2022-01-30T00:27:13.287108",
     "exception": false,
     "start_time": "2022-01-30T00:27:13.242748",
     "status": "completed"
    },
    "tags": []
   },
   "outputs": [],
   "source": [
    "#hide\n",
    "# g.rename(columns= {'date':'day'},inplace = True)"
   ]
  },
  {
   "cell_type": "code",
   "execution_count": 38,
   "id": "major-fight",
   "metadata": {
    "execution": {
     "iopub.execute_input": "2022-01-30T00:27:13.365860Z",
     "iopub.status.busy": "2022-01-30T00:27:13.365159Z",
     "iopub.status.idle": "2022-01-30T00:27:13.367592Z",
     "shell.execute_reply": "2022-01-30T00:27:13.367090Z"
    },
    "papermill": {
     "duration": 0.043466,
     "end_time": "2022-01-30T00:27:13.367800",
     "exception": false,
     "start_time": "2022-01-30T00:27:13.324334",
     "status": "completed"
    },
    "tags": []
   },
   "outputs": [],
   "source": [
    "#hide\n",
    "# g = g[cols]"
   ]
  },
  {
   "cell_type": "code",
   "execution_count": 39,
   "id": "structured-mobile",
   "metadata": {
    "execution": {
     "iopub.execute_input": "2022-01-30T00:27:13.443667Z",
     "iopub.status.busy": "2022-01-30T00:27:13.443070Z",
     "iopub.status.idle": "2022-01-30T00:27:13.446803Z",
     "shell.execute_reply": "2022-01-30T00:27:13.447301Z"
    },
    "papermill": {
     "duration": 0.043807,
     "end_time": "2022-01-30T00:27:13.447436",
     "exception": false,
     "start_time": "2022-01-30T00:27:13.403629",
     "status": "completed"
    },
    "tags": []
   },
   "outputs": [],
   "source": [
    "# #hide\n",
    "# g = g[g.group.notna()]"
   ]
  },
  {
   "cell_type": "code",
   "execution_count": 40,
   "id": "determined-closing",
   "metadata": {
    "execution": {
     "iopub.execute_input": "2022-01-30T00:27:13.524347Z",
     "iopub.status.busy": "2022-01-30T00:27:13.523743Z",
     "iopub.status.idle": "2022-01-30T00:27:13.525929Z",
     "shell.execute_reply": "2022-01-30T00:27:13.526420Z"
    },
    "papermill": {
     "duration": 0.041976,
     "end_time": "2022-01-30T00:27:13.526569",
     "exception": false,
     "start_time": "2022-01-30T00:27:13.484593",
     "status": "completed"
    },
    "tags": []
   },
   "outputs": [],
   "source": [
    "# #hide\n",
    "# colors = dict(zip(\n",
    "#     [\"Oceania\", \"Europe\", \"Asia\", \"South America\", \"Middle East\", \"North America\", \"Africa\"],\n",
    "#     [\"#adb0ff\", \"#ffb3ff\", \"#90d595\", \"#e48381\", \"#aafbff\", \"#f7bb5f\", \"#eafb50\"]\n",
    "# ))\n",
    "# group_lk = g.set_index('name')['group'].to_dict()"
   ]
  },
  {
   "cell_type": "code",
   "execution_count": null,
   "id": "gross-drinking",
   "metadata": {
    "papermill": {
     "duration": 0.035831,
     "end_time": "2022-01-30T00:27:13.600615",
     "exception": false,
     "start_time": "2022-01-30T00:27:13.564784",
     "status": "completed"
    },
    "tags": []
   },
   "outputs": [],
   "source": []
  },
  {
   "cell_type": "code",
   "execution_count": 41,
   "id": "subject-macintosh",
   "metadata": {
    "execution": {
     "iopub.execute_input": "2022-01-30T00:27:13.690673Z",
     "iopub.status.busy": "2022-01-30T00:27:13.689927Z",
     "iopub.status.idle": "2022-01-30T00:27:13.692713Z",
     "shell.execute_reply": "2022-01-30T00:27:13.692184Z"
    },
    "papermill": {
     "duration": 0.052704,
     "end_time": "2022-01-30T00:27:13.692893",
     "exception": false,
     "start_time": "2022-01-30T00:27:13.640189",
     "status": "completed"
    },
    "tags": []
   },
   "outputs": [],
   "source": [
    "# #hide\n",
    "# fig, ax = plt.subplots(figsize=(15, 8))\n",
    "\n",
    "# def draw_barchart(current_day):\n",
    "#     dff = g[g['day'].eq(current_day)].sort_values(by='value', ascending=True).tail(10)\n",
    "#     ax.clear()\n",
    "#     ax.barh(dff['name'], dff['value'], color=[colors[group_lk[x]] for x in dff['name']])\n",
    "#     dx = dff['value'].max() / 200\n",
    "    \n",
    "#     for i, (value, name) in enumerate(zip(dff['value'], dff['name'])):\n",
    "#         ax.text(value-dx, i,     name,           size=14, weight=600, ha='right', va='bottom')\n",
    "#         ax.text(value-dx, i-.25, group_lk[name], size=10, color='#444444', ha='right', va='baseline')\n",
    "#         ax.text(value+dx, i,     f'{value:,.0f}',  size=14, ha='left',  va='center')\n",
    "#     ax.text(1, 0.4, current_day, transform=ax.transAxes, color='#777777', size=46, ha='right', weight=800)\n",
    "#     ax.text(0, 1.06, 'Population (thousands)', transform=ax.transAxes, size=12, color='#777777')\n",
    "#     ax.xaxis.set_major_formatter(ticker.StrMethodFormatter('{x:,.0f}'))\n",
    "#     ax.xaxis.set_ticks_position('top')\n",
    "#     ax.tick_params(axis='x', colors='#777777', labelsize=12)\n",
    "#     ax.set_yticks([])\n",
    "#     ax.margins(0, 0.01)\n",
    "#     ax.grid(which='major', axis='x', linestyle='-')\n",
    "#     ax.set_axisbelow(True)\n",
    "    \n",
    "#     ax.text(0, 1.15, 'Coronavirus',\n",
    "#             transform=ax.transAxes, size=24, weight=600, ha='left', va='top')\n",
    "# #     ax.text(1, 0, 'by @pratapvardhan; credit @jburnmurdoch', transform=ax.transAxes, color='#777777', ha='right',\n",
    "# #             bbox=dict(facecolor='white', alpha=0.8, edgecolor='white'))\n",
    "#     plt.box(False)"
   ]
  },
  {
   "cell_type": "code",
   "execution_count": 42,
   "id": "sexual-wages",
   "metadata": {
    "execution": {
     "iopub.execute_input": "2022-01-30T00:27:13.773549Z",
     "iopub.status.busy": "2022-01-30T00:27:13.772883Z",
     "iopub.status.idle": "2022-01-30T00:27:13.775637Z",
     "shell.execute_reply": "2022-01-30T00:27:13.776152Z"
    },
    "papermill": {
     "duration": 0.045247,
     "end_time": "2022-01-30T00:27:13.776297",
     "exception": false,
     "start_time": "2022-01-30T00:27:13.731050",
     "status": "completed"
    },
    "tags": []
   },
   "outputs": [],
   "source": [
    "# #hide_input\n",
    "# fig, ax = plt.subplots(figsize=(15, 8))\n",
    "# animator = animation.FuncAnimation(fig, draw_barchart, frames=range(g.day.values.min(), g.day.values.max()))\n",
    "# HTML(animator.to_jshtml())\n",
    "# # or use animator.to_html5_video() or animator.save() "
   ]
  },
  {
   "cell_type": "code",
   "execution_count": null,
   "id": "australian-container",
   "metadata": {
    "papermill": {
     "duration": 0.034683,
     "end_time": "2022-01-30T00:27:13.847833",
     "exception": false,
     "start_time": "2022-01-30T00:27:13.813150",
     "status": "completed"
    },
    "tags": []
   },
   "outputs": [],
   "source": []
  },
  {
   "cell_type": "code",
   "execution_count": null,
   "id": "mediterranean-pontiac",
   "metadata": {
    "papermill": {
     "duration": 0.035168,
     "end_time": "2022-01-30T00:27:13.919337",
     "exception": false,
     "start_time": "2022-01-30T00:27:13.884169",
     "status": "completed"
    },
    "tags": []
   },
   "outputs": [],
   "source": []
  },
  {
   "cell_type": "code",
   "execution_count": null,
   "id": "aging-legislature",
   "metadata": {
    "papermill": {
     "duration": 0.034979,
     "end_time": "2022-01-30T00:27:13.991001",
     "exception": false,
     "start_time": "2022-01-30T00:27:13.956022",
     "status": "completed"
    },
    "tags": []
   },
   "outputs": [],
   "source": []
  }
 ],
 "metadata": {
  "kernelspec": {
   "display_name": "Python 3",
   "language": "python",
   "name": "python3"
  },
  "language_info": {
   "codemirror_mode": {
    "name": "ipython",
    "version": 3
   },
   "file_extension": ".py",
   "mimetype": "text/x-python",
   "name": "python",
   "nbconvert_exporter": "python",
   "pygments_lexer": "ipython3",
   "version": "3.6.15"
  },
  "papermill": {
   "duration": 7.101765,
   "end_time": "2022-01-30T00:27:14.345641",
   "environment_variables": {},
   "exception": null,
   "input_path": "2020-03-21-covid19exp.ipynb",
   "output_path": "2020-03-21-covid19exp.ipynb",
   "parameters": {},
   "start_time": "2022-01-30T00:27:07.243876",
   "version": "2.0.0"
  }
 },
 "nbformat": 4,
 "nbformat_minor": 5
}