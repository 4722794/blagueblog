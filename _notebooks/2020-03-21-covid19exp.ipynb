{
 "cells": [
  {
   "cell_type": "markdown",
   "id": "muslim-click",
   "metadata": {
    "papermill": {
     "duration": 0.037667,
     "end_time": "2022-07-29T12:17:59.424610",
     "exception": false,
     "start_time": "2022-07-29T12:17:59.386943",
     "status": "completed"
    },
    "tags": []
   },
   "source": [
    "# COVID-19 Case Race\n",
    "> A race chart to see rising cases around the world\n",
    "\n",
    "- author: Hargun Oberoi\n",
    "- image: images/covid-overview.png\n",
    "- hide: false\n",
    "- badges: false"
   ]
  },
  {
   "cell_type": "code",
   "execution_count": 1,
   "id": "proof-material",
   "metadata": {
    "execution": {
     "iopub.execute_input": "2022-07-29T12:17:59.498656Z",
     "iopub.status.busy": "2022-07-29T12:17:59.498016Z",
     "iopub.status.idle": "2022-07-29T12:17:59.838411Z",
     "shell.execute_reply": "2022-07-29T12:17:59.836878Z"
    },
    "papermill": {
     "duration": 0.382988,
     "end_time": "2022-07-29T12:17:59.838595",
     "exception": false,
     "start_time": "2022-07-29T12:17:59.455607",
     "status": "completed"
    },
    "tags": []
   },
   "outputs": [],
   "source": [
    "#hide\n",
    "import numpy as np\n",
    "import pandas as pd\n",
    "from jinja2 import Template\n",
    "from IPython.display import HTML"
   ]
  },
  {
   "cell_type": "code",
   "execution_count": 2,
   "id": "developed-terminology",
   "metadata": {
    "execution": {
     "iopub.execute_input": "2022-07-29T12:17:59.904372Z",
     "iopub.status.busy": "2022-07-29T12:17:59.903685Z",
     "iopub.status.idle": "2022-07-29T12:17:59.906207Z",
     "shell.execute_reply": "2022-07-29T12:17:59.905681Z"
    },
    "papermill": {
     "duration": 0.037305,
     "end_time": "2022-07-29T12:17:59.906344",
     "exception": false,
     "start_time": "2022-07-29T12:17:59.869039",
     "status": "completed"
    },
    "tags": []
   },
   "outputs": [],
   "source": [
    "#hide\n",
    "\n",
    "# FETCH\n",
    "base_url = 'https://raw.githubusercontent.com/pratapvardhan/notebooks/master/covid19/'\n",
    "paths = {\n",
    "    'mapping': base_url + 'mapping_countries.csv',\n",
    "    'overview': base_url + 'overview.tpl'\n",
    "}"
   ]
  },
  {
   "cell_type": "code",
   "execution_count": 3,
   "id": "dynamic-saver",
   "metadata": {
    "execution": {
     "iopub.execute_input": "2022-07-29T12:17:59.974669Z",
     "iopub.status.busy": "2022-07-29T12:17:59.974158Z",
     "iopub.status.idle": "2022-07-29T12:17:59.976922Z",
     "shell.execute_reply": "2022-07-29T12:17:59.977350Z"
    },
    "papermill": {
     "duration": 0.042225,
     "end_time": "2022-07-29T12:17:59.977470",
     "exception": false,
     "start_time": "2022-07-29T12:17:59.935245",
     "status": "completed"
    },
    "tags": []
   },
   "outputs": [
    {
     "data": {
      "text/plain": [
       "'https://raw.githubusercontent.com/pratapvardhan/notebooks/master/covid19/mapping_countries.csv'"
      ]
     },
     "execution_count": 3,
     "metadata": {},
     "output_type": "execute_result"
    }
   ],
   "source": [
    "#hide\n",
    "paths['mapping']"
   ]
  },
  {
   "cell_type": "code",
   "execution_count": 4,
   "id": "urban-software",
   "metadata": {
    "execution": {
     "iopub.execute_input": "2022-07-29T12:18:00.046596Z",
     "iopub.status.busy": "2022-07-29T12:18:00.045927Z",
     "iopub.status.idle": "2022-07-29T12:18:00.049111Z",
     "shell.execute_reply": "2022-07-29T12:18:00.048616Z"
    },
    "papermill": {
     "duration": 0.041774,
     "end_time": "2022-07-29T12:18:00.049218",
     "exception": false,
     "start_time": "2022-07-29T12:18:00.007444",
     "status": "completed"
    },
    "tags": []
   },
   "outputs": [],
   "source": [
    "#hide\n",
    "def get_mappings(url):\n",
    "    df = pd.read_csv(url)\n",
    "    return {\n",
    "        'df': df,\n",
    "        'replace.country': dict(df.dropna(subset=['Name']).set_index('Country')['Name']),\n",
    "        'map.continent': dict(df.set_index('Name')['Continent'])\n",
    "    }"
   ]
  },
  {
   "cell_type": "code",
   "execution_count": 5,
   "id": "intimate-machinery",
   "metadata": {
    "execution": {
     "iopub.execute_input": "2022-07-29T12:18:00.113361Z",
     "iopub.status.busy": "2022-07-29T12:18:00.112846Z",
     "iopub.status.idle": "2022-07-29T12:18:00.166649Z",
     "shell.execute_reply": "2022-07-29T12:18:00.165994Z"
    },
    "papermill": {
     "duration": 0.088022,
     "end_time": "2022-07-29T12:18:00.166802",
     "exception": false,
     "start_time": "2022-07-29T12:18:00.078780",
     "status": "completed"
    },
    "tags": []
   },
   "outputs": [],
   "source": [
    "#hide\n",
    "mapping = get_mappings(paths['mapping'])"
   ]
  },
  {
   "cell_type": "code",
   "execution_count": 6,
   "id": "certified-tactics",
   "metadata": {
    "execution": {
     "iopub.execute_input": "2022-07-29T12:18:00.234866Z",
     "iopub.status.busy": "2022-07-29T12:18:00.234197Z",
     "iopub.status.idle": "2022-07-29T12:18:00.237742Z",
     "shell.execute_reply": "2022-07-29T12:18:00.237184Z"
    },
    "papermill": {
     "duration": 0.038895,
     "end_time": "2022-07-29T12:18:00.237863",
     "exception": false,
     "start_time": "2022-07-29T12:18:00.198968",
     "status": "completed"
    },
    "tags": []
   },
   "outputs": [],
   "source": [
    "#hide\n",
    "def get_template(path):\n",
    "    from urllib.parse import urlparse\n",
    "    if bool(urlparse(path).netloc):\n",
    "        from urllib.request import urlopen\n",
    "        return urlopen(path).read().decode('utf8')\n",
    "    return open(path).read()"
   ]
  },
  {
   "cell_type": "code",
   "execution_count": 7,
   "id": "realistic-blast",
   "metadata": {
    "execution": {
     "iopub.execute_input": "2022-07-29T12:18:00.299804Z",
     "iopub.status.busy": "2022-07-29T12:18:00.299150Z",
     "iopub.status.idle": "2022-07-29T12:18:00.301159Z",
     "shell.execute_reply": "2022-07-29T12:18:00.301628Z"
    },
    "papermill": {
     "duration": 0.03632,
     "end_time": "2022-07-29T12:18:00.301757",
     "exception": false,
     "start_time": "2022-07-29T12:18:00.265437",
     "status": "completed"
    },
    "tags": []
   },
   "outputs": [],
   "source": [
    "#hide\n",
    "def get_frame(name):\n",
    "    url = (\n",
    "        'https://raw.githubusercontent.com/CSSEGISandData/COVID-19/master/csse_covid_19_data/'\n",
    "        f'csse_covid_19_time_series/time_series_covid19_{name}_global.csv')\n",
    "    df = pd.read_csv(url)\n",
    "    # rename countries\n",
    "    df['Country/Region'] = df['Country/Region'].replace(mapping['replace.country'])\n",
    "    return df"
   ]
  },
  {
   "cell_type": "code",
   "execution_count": 8,
   "id": "affiliated-characterization",
   "metadata": {
    "execution": {
     "iopub.execute_input": "2022-07-29T12:18:00.367438Z",
     "iopub.status.busy": "2022-07-29T12:18:00.366806Z",
     "iopub.status.idle": "2022-07-29T12:18:00.370575Z",
     "shell.execute_reply": "2022-07-29T12:18:00.370023Z"
    },
    "papermill": {
     "duration": 0.038677,
     "end_time": "2022-07-29T12:18:00.370685",
     "exception": false,
     "start_time": "2022-07-29T12:18:00.332008",
     "status": "completed"
    },
    "tags": []
   },
   "outputs": [],
   "source": [
    "#hide\n",
    "def get_dates(df):\n",
    "    dt_cols = df.columns[~df.columns.isin(['Province/State', 'Country/Region', 'Lat', 'Long'])]\n",
    "    LAST_DATE_I = -1\n",
    "    # sometimes last column may be empty, then go backwards\n",
    "    for i in range(-1, -len(dt_cols), -1):\n",
    "        if not df[dt_cols[i]].fillna(0).eq(0).all():\n",
    "            LAST_DATE_I = i\n",
    "            break\n",
    "    return LAST_DATE_I, dt_cols"
   ]
  },
  {
   "cell_type": "code",
   "execution_count": 9,
   "id": "recent-optimization",
   "metadata": {
    "execution": {
     "iopub.execute_input": "2022-07-29T12:18:00.437661Z",
     "iopub.status.busy": "2022-07-29T12:18:00.436485Z",
     "iopub.status.idle": "2022-07-29T12:18:00.983474Z",
     "shell.execute_reply": "2022-07-29T12:18:00.982799Z"
    },
    "papermill": {
     "duration": 0.584101,
     "end_time": "2022-07-29T12:18:00.983608",
     "exception": false,
     "start_time": "2022-07-29T12:18:00.399507",
     "status": "completed"
    },
    "tags": []
   },
   "outputs": [],
   "source": [
    "#hide\n",
    "COL_REGION = 'Country/Region'\n",
    "# Confirmed, Recovered, Deaths\n",
    "df = get_frame('confirmed')\n",
    "# dft_: timeseries, dfc_: today country agg\n",
    "dft_cases = df\n",
    "dft_deaths = get_frame('deaths')\n",
    "dft_recovered = get_frame('recovered')\n",
    "LAST_DATE_I, dt_cols = get_dates(df)"
   ]
  },
  {
   "cell_type": "code",
   "execution_count": 10,
   "id": "absolute-copper",
   "metadata": {
    "execution": {
     "iopub.execute_input": "2022-07-29T12:18:01.050590Z",
     "iopub.status.busy": "2022-07-29T12:18:01.049867Z",
     "iopub.status.idle": "2022-07-29T12:18:01.052722Z",
     "shell.execute_reply": "2022-07-29T12:18:01.052175Z"
    },
    "papermill": {
     "duration": 0.038274,
     "end_time": "2022-07-29T12:18:01.052832",
     "exception": false,
     "start_time": "2022-07-29T12:18:01.014558",
     "status": "completed"
    },
    "tags": []
   },
   "outputs": [],
   "source": [
    "#hide\n",
    "LAST_DATE_I, dt_cols = get_dates(df)\n",
    "dt_today =dt_cols[LAST_DATE_I]\n",
    "# dt_5day = dt_cols[LAST_DATE_I - 5]\n",
    "dt_yday = dt_cols[LAST_DATE_I - 1]"
   ]
  },
  {
   "cell_type": "code",
   "execution_count": 11,
   "id": "restricted-sheriff",
   "metadata": {
    "execution": {
     "iopub.execute_input": "2022-07-29T12:18:01.120701Z",
     "iopub.status.busy": "2022-07-29T12:18:01.120115Z",
     "iopub.status.idle": "2022-07-29T12:18:01.127866Z",
     "shell.execute_reply": "2022-07-29T12:18:01.127250Z"
    },
    "papermill": {
     "duration": 0.044778,
     "end_time": "2022-07-29T12:18:01.127967",
     "exception": false,
     "start_time": "2022-07-29T12:18:01.083189",
     "status": "completed"
    },
    "tags": []
   },
   "outputs": [],
   "source": [
    "#hide\n",
    "dfc_cases = dft_cases.groupby(COL_REGION)[dt_today].sum()\n",
    "dfc_deaths = dft_deaths.groupby(COL_REGION)[dt_today].sum()\n",
    "# dfp_cases = dft_cases.groupby(COL_REGION)[dt_5day].sum()\n",
    "# dfp_deaths = dft_deaths.groupby(COL_REGION)[dt_5day].sum()\n",
    "dfp_cases = dft_cases.groupby(COL_REGION)[dt_yday].sum()\n",
    "dfp_deaths = dft_deaths.groupby(COL_REGION)[dt_yday].sum()"
   ]
  },
  {
   "cell_type": "code",
   "execution_count": 12,
   "id": "deluxe-hepatitis",
   "metadata": {
    "execution": {
     "iopub.execute_input": "2022-07-29T12:18:01.200186Z",
     "iopub.status.busy": "2022-07-29T12:18:01.199525Z",
     "iopub.status.idle": "2022-07-29T12:18:01.204968Z",
     "shell.execute_reply": "2022-07-29T12:18:01.204423Z"
    },
    "papermill": {
     "duration": 0.045253,
     "end_time": "2022-07-29T12:18:01.205112",
     "exception": false,
     "start_time": "2022-07-29T12:18:01.159859",
     "status": "completed"
    },
    "tags": []
   },
   "outputs": [],
   "source": [
    "#hide\n",
    "df_table = (pd.DataFrame(dict(Cases = dfc_cases, Deaths = dfc_deaths, PCases = dfp_cases, PDeaths = dfp_deaths))\n",
    "            .sort_values(by = ['Cases','Deaths'], ascending = [False, False])\n",
    "            .reset_index())"
   ]
  },
  {
   "cell_type": "code",
   "execution_count": 13,
   "id": "educational-chancellor",
   "metadata": {
    "execution": {
     "iopub.execute_input": "2022-07-29T12:18:01.278741Z",
     "iopub.status.busy": "2022-07-29T12:18:01.278056Z",
     "iopub.status.idle": "2022-07-29T12:18:01.294732Z",
     "shell.execute_reply": "2022-07-29T12:18:01.294177Z"
    },
    "papermill": {
     "duration": 0.061041,
     "end_time": "2022-07-29T12:18:01.294869",
     "exception": false,
     "start_time": "2022-07-29T12:18:01.233828",
     "status": "completed"
    },
    "tags": []
   },
   "outputs": [
    {
     "data": {
      "text/html": [
       "<div>\n",
       "<style scoped>\n",
       "    .dataframe tbody tr th:only-of-type {\n",
       "        vertical-align: middle;\n",
       "    }\n",
       "\n",
       "    .dataframe tbody tr th {\n",
       "        vertical-align: top;\n",
       "    }\n",
       "\n",
       "    .dataframe thead th {\n",
       "        text-align: right;\n",
       "    }\n",
       "</style>\n",
       "<table border=\"1\" class=\"dataframe\">\n",
       "  <thead>\n",
       "    <tr style=\"text-align: right;\">\n",
       "      <th></th>\n",
       "      <th>Country/Region</th>\n",
       "      <th>Cases</th>\n",
       "      <th>Deaths</th>\n",
       "      <th>PCases</th>\n",
       "      <th>PDeaths</th>\n",
       "      <th>Cases (+)</th>\n",
       "      <th>Deaths (+)</th>\n",
       "      <th>Fatality Rate</th>\n",
       "      <th>Continent</th>\n",
       "    </tr>\n",
       "  </thead>\n",
       "  <tbody>\n",
       "    <tr>\n",
       "      <th>0</th>\n",
       "      <td>US</td>\n",
       "      <td>91120218</td>\n",
       "      <td>1029270</td>\n",
       "      <td>90972856</td>\n",
       "      <td>1028873</td>\n",
       "      <td>147362</td>\n",
       "      <td>397</td>\n",
       "      <td>1.13</td>\n",
       "      <td>North America</td>\n",
       "    </tr>\n",
       "    <tr>\n",
       "      <th>1</th>\n",
       "      <td>India</td>\n",
       "      <td>43959321</td>\n",
       "      <td>526211</td>\n",
       "      <td>43959321</td>\n",
       "      <td>526212</td>\n",
       "      <td>0</td>\n",
       "      <td>0</td>\n",
       "      <td>1.20</td>\n",
       "      <td>Asia</td>\n",
       "    </tr>\n",
       "    <tr>\n",
       "      <th>2</th>\n",
       "      <td>France</td>\n",
       "      <td>33951450</td>\n",
       "      <td>152934</td>\n",
       "      <td>33899799</td>\n",
       "      <td>152822</td>\n",
       "      <td>51651</td>\n",
       "      <td>112</td>\n",
       "      <td>0.45</td>\n",
       "      <td>Europe</td>\n",
       "    </tr>\n",
       "    <tr>\n",
       "      <th>3</th>\n",
       "      <td>Brazil</td>\n",
       "      <td>33748985</td>\n",
       "      <td>678069</td>\n",
       "      <td>33704393</td>\n",
       "      <td>677804</td>\n",
       "      <td>44592</td>\n",
       "      <td>265</td>\n",
       "      <td>2.01</td>\n",
       "      <td>South America</td>\n",
       "    </tr>\n",
       "    <tr>\n",
       "      <th>4</th>\n",
       "      <td>Germany</td>\n",
       "      <td>30787309</td>\n",
       "      <td>143855</td>\n",
       "      <td>30702511</td>\n",
       "      <td>143702</td>\n",
       "      <td>84798</td>\n",
       "      <td>153</td>\n",
       "      <td>0.47</td>\n",
       "      <td>Europe</td>\n",
       "    </tr>\n",
       "  </tbody>\n",
       "</table>\n",
       "</div>"
      ],
      "text/plain": [
       "  Country/Region     Cases   Deaths    PCases  PDeaths  Cases (+)  Deaths (+)  \\\n",
       "0             US  91120218  1029270  90972856  1028873     147362         397   \n",
       "1          India  43959321   526211  43959321   526212          0           0   \n",
       "2         France  33951450   152934  33899799   152822      51651         112   \n",
       "3         Brazil  33748985   678069  33704393   677804      44592         265   \n",
       "4        Germany  30787309   143855  30702511   143702      84798         153   \n",
       "\n",
       "   Fatality Rate      Continent  \n",
       "0           1.13  North America  \n",
       "1           1.20           Asia  \n",
       "2           0.45         Europe  \n",
       "3           2.01  South America  \n",
       "4           0.47         Europe  "
      ]
     },
     "execution_count": 13,
     "metadata": {},
     "output_type": "execute_result"
    }
   ],
   "source": [
    "#hide\n",
    "for c in 'Cases, Deaths'.split(', '):\n",
    "    df_table[f'{c} (+)'] = (df_table[c] - df_table[f'P{c}']).clip(0)\n",
    "    #Clip ça veut dire, les chiffres negatif sont interdit\n",
    "df_table['Fatality Rate'] = (100* df_table['Deaths']/ df_table['Cases']).round(2)\n",
    "df_table['Continent'] = df_table['Country/Region'].map(mapping['map.continent'])\n",
    "df_table.head(5)"
   ]
  },
  {
   "cell_type": "code",
   "execution_count": 14,
   "id": "aboriginal-bulgaria",
   "metadata": {
    "execution": {
     "iopub.execute_input": "2022-07-29T12:18:01.368020Z",
     "iopub.status.busy": "2022-07-29T12:18:01.367330Z",
     "iopub.status.idle": "2022-07-29T12:18:01.371643Z",
     "shell.execute_reply": "2022-07-29T12:18:01.372303Z"
    },
    "papermill": {
     "duration": 0.045204,
     "end_time": "2022-07-29T12:18:01.372443",
     "exception": false,
     "start_time": "2022-07-29T12:18:01.327239",
     "status": "completed"
    },
    "tags": []
   },
   "outputs": [],
   "source": [
    "#hide\n",
    "#delete problematic countries from table\n",
    "df_table = df_table[~df_table['Country/Region'].isin(['Cape Verde', 'Cruise Ship', 'Kosovo'])]"
   ]
  },
  {
   "cell_type": "code",
   "execution_count": 15,
   "id": "fantastic-effect",
   "metadata": {
    "execution": {
     "iopub.execute_input": "2022-07-29T12:18:01.442907Z",
     "iopub.status.busy": "2022-07-29T12:18:01.442310Z",
     "iopub.status.idle": "2022-07-29T12:18:01.461364Z",
     "shell.execute_reply": "2022-07-29T12:18:01.460948Z"
    },
    "papermill": {
     "duration": 0.058061,
     "end_time": "2022-07-29T12:18:01.461459",
     "exception": false,
     "start_time": "2022-07-29T12:18:01.403398",
     "status": "completed"
    },
    "tags": []
   },
   "outputs": [
    {
     "data": {
      "text/html": [
       "<div>\n",
       "<style scoped>\n",
       "    .dataframe tbody tr th:only-of-type {\n",
       "        vertical-align: middle;\n",
       "    }\n",
       "\n",
       "    .dataframe tbody tr th {\n",
       "        vertical-align: top;\n",
       "    }\n",
       "\n",
       "    .dataframe thead th {\n",
       "        text-align: right;\n",
       "    }\n",
       "</style>\n",
       "<table border=\"1\" class=\"dataframe\">\n",
       "  <thead>\n",
       "    <tr style=\"text-align: right;\">\n",
       "      <th></th>\n",
       "      <th>Country/Region</th>\n",
       "      <th>Cases</th>\n",
       "      <th>Deaths</th>\n",
       "      <th>PCases</th>\n",
       "      <th>PDeaths</th>\n",
       "      <th>Cases (+)</th>\n",
       "      <th>Deaths (+)</th>\n",
       "      <th>Fatality Rate</th>\n",
       "      <th>Continent</th>\n",
       "    </tr>\n",
       "  </thead>\n",
       "  <tbody>\n",
       "    <tr>\n",
       "      <th>0</th>\n",
       "      <td>US</td>\n",
       "      <td>91120218</td>\n",
       "      <td>1029270</td>\n",
       "      <td>90972856</td>\n",
       "      <td>1028873</td>\n",
       "      <td>147362</td>\n",
       "      <td>397</td>\n",
       "      <td>1.1</td>\n",
       "      <td>North America</td>\n",
       "    </tr>\n",
       "    <tr>\n",
       "      <th>1</th>\n",
       "      <td>India</td>\n",
       "      <td>43959321</td>\n",
       "      <td>526211</td>\n",
       "      <td>43959321</td>\n",
       "      <td>526212</td>\n",
       "      <td>0</td>\n",
       "      <td>0</td>\n",
       "      <td>1.2</td>\n",
       "      <td>Asia</td>\n",
       "    </tr>\n",
       "    <tr>\n",
       "      <th>2</th>\n",
       "      <td>France</td>\n",
       "      <td>33951450</td>\n",
       "      <td>152934</td>\n",
       "      <td>33899799</td>\n",
       "      <td>152822</td>\n",
       "      <td>51651</td>\n",
       "      <td>112</td>\n",
       "      <td>0.5</td>\n",
       "      <td>Europe</td>\n",
       "    </tr>\n",
       "    <tr>\n",
       "      <th>3</th>\n",
       "      <td>Brazil</td>\n",
       "      <td>33748985</td>\n",
       "      <td>678069</td>\n",
       "      <td>33704393</td>\n",
       "      <td>677804</td>\n",
       "      <td>44592</td>\n",
       "      <td>265</td>\n",
       "      <td>2.0</td>\n",
       "      <td>South America</td>\n",
       "    </tr>\n",
       "    <tr>\n",
       "      <th>4</th>\n",
       "      <td>Germany</td>\n",
       "      <td>30787309</td>\n",
       "      <td>143855</td>\n",
       "      <td>30702511</td>\n",
       "      <td>143702</td>\n",
       "      <td>84798</td>\n",
       "      <td>153</td>\n",
       "      <td>0.5</td>\n",
       "      <td>Europe</td>\n",
       "    </tr>\n",
       "  </tbody>\n",
       "</table>\n",
       "</div>"
      ],
      "text/plain": [
       "  Country/Region     Cases   Deaths    PCases  PDeaths  Cases (+)  Deaths (+)  \\\n",
       "0             US  91120218  1029270  90972856  1028873     147362         397   \n",
       "1          India  43959321   526211  43959321   526212          0           0   \n",
       "2         France  33951450   152934  33899799   152822      51651         112   \n",
       "3         Brazil  33748985   678069  33704393   677804      44592         265   \n",
       "4        Germany  30787309   143855  30702511   143702      84798         153   \n",
       "\n",
       "   Fatality Rate      Continent  \n",
       "0            1.1  North America  \n",
       "1            1.2           Asia  \n",
       "2            0.5         Europe  \n",
       "3            2.0  South America  \n",
       "4            0.5         Europe  "
      ]
     },
     "execution_count": 15,
     "metadata": {},
     "output_type": "execute_result"
    }
   ],
   "source": [
    "#hide\n",
    "df_table = (pd.DataFrame(dict(Cases=dfc_cases, Deaths=dfc_deaths, PCases=dfp_cases, PDeaths=dfp_deaths))\n",
    "             .sort_values(by=['Cases', 'Deaths'], ascending=[False, False])\n",
    "             .reset_index())\n",
    "df_table.rename(columns={'index': 'Country/Region'}, inplace=True)\n",
    "for c in 'Cases, Deaths'.split(', '):\n",
    "    df_table[f'{c} (+)'] = (df_table[c] - df_table[f'P{c}']).clip(0)  # DATA BUG\n",
    "df_table['Fatality Rate'] = (100 * df_table['Deaths'] / df_table['Cases']).round(1)\n",
    "df_table['Continent'] = df_table['Country/Region'].map(mapping['map.continent'])\n",
    "df_table.head(5)"
   ]
  },
  {
   "cell_type": "code",
   "execution_count": 16,
   "id": "fewer-occasion",
   "metadata": {
    "execution": {
     "iopub.execute_input": "2022-07-29T12:18:01.530605Z",
     "iopub.status.busy": "2022-07-29T12:18:01.530065Z",
     "iopub.status.idle": "2022-07-29T12:18:01.533492Z",
     "shell.execute_reply": "2022-07-29T12:18:01.533950Z"
    },
    "papermill": {
     "duration": 0.041968,
     "end_time": "2022-07-29T12:18:01.534055",
     "exception": false,
     "start_time": "2022-07-29T12:18:01.492087",
     "status": "completed"
    },
    "tags": []
   },
   "outputs": [],
   "source": [
    "#hide\n",
    "#delete problematic countries from table\n",
    "df_table = df_table[~df_table['Country/Region'].isin(['Cape Verde', 'Cruise Ship', 'Kosovo'])]"
   ]
  },
  {
   "cell_type": "code",
   "execution_count": 17,
   "id": "related-center",
   "metadata": {
    "execution": {
     "iopub.execute_input": "2022-07-29T12:18:01.615002Z",
     "iopub.status.busy": "2022-07-29T12:18:01.609124Z",
     "iopub.status.idle": "2022-07-29T12:18:01.617588Z",
     "shell.execute_reply": "2022-07-29T12:18:01.617114Z"
    },
    "papermill": {
     "duration": 0.052447,
     "end_time": "2022-07-29T12:18:01.617694",
     "exception": false,
     "start_time": "2022-07-29T12:18:01.565247",
     "status": "completed"
    },
    "tags": []
   },
   "outputs": [],
   "source": [
    "#hide\n",
    "metrics = [df_table.columns[index] for index in [1,2,5,6]]\n",
    "# s_china = df_table[df_table['Country/Region'].eq('China')][metrics].sum().add_prefix('China ')\n",
    "s_us = df_table[df_table['Country/Region'].eq('US')][metrics].sum().add_prefix('US ')\n",
    "s_eu = df_table[df_table['Continent'].eq('Europe')][metrics].sum().add_prefix('EU ')\n",
    "s_ind = df_table[df_table['Country/Region'].eq('India')][metrics].sum().add_prefix('India ')\n",
    "summary = {'updated': pd.to_datetime(dt_today), 'since': pd.to_datetime(dt_yday)}\n",
    "summary = {'updated': pd.to_datetime(dt_today), 'since': pd.to_datetime(dt_yday)}\n",
    "summary = {**summary, **df_table[metrics].sum(), **s_ind, **s_us, **s_eu}"
   ]
  },
  {
   "cell_type": "code",
   "execution_count": 18,
   "id": "engaging-syndrome",
   "metadata": {
    "execution": {
     "iopub.execute_input": "2022-07-29T12:18:01.683581Z",
     "iopub.status.busy": "2022-07-29T12:18:01.682970Z",
     "iopub.status.idle": "2022-07-29T12:18:01.705844Z",
     "shell.execute_reply": "2022-07-29T12:18:01.705212Z"
    },
    "papermill": {
     "duration": 0.059089,
     "end_time": "2022-07-29T12:18:01.705984",
     "exception": false,
     "start_time": "2022-07-29T12:18:01.646895",
     "status": "completed"
    },
    "tags": []
   },
   "outputs": [],
   "source": [
    "#hide\n",
    "dft_ct_new_cases = dft_cases.groupby(COL_REGION)[dt_cols].sum().diff(axis=1).fillna(0).astype(int)"
   ]
  },
  {
   "cell_type": "code",
   "execution_count": 19,
   "id": "neutral-assignment",
   "metadata": {
    "execution": {
     "iopub.execute_input": "2022-07-29T12:18:01.779680Z",
     "iopub.status.busy": "2022-07-29T12:18:01.778833Z",
     "iopub.status.idle": "2022-07-29T12:18:01.783396Z",
     "shell.execute_reply": "2022-07-29T12:18:01.782826Z"
    },
    "papermill": {
     "duration": 0.045505,
     "end_time": "2022-07-29T12:18:01.783530",
     "exception": false,
     "start_time": "2022-07-29T12:18:01.738025",
     "status": "completed"
    },
    "tags": []
   },
   "outputs": [],
   "source": [
    "#hide\n",
    "everydaycases = dft_ct_new_cases.cumsum(axis=1)"
   ]
  },
  {
   "cell_type": "code",
   "execution_count": 20,
   "id": "parliamentary-calgary",
   "metadata": {
    "execution": {
     "iopub.execute_input": "2022-07-29T12:18:01.854788Z",
     "iopub.status.busy": "2022-07-29T12:18:01.854092Z",
     "iopub.status.idle": "2022-07-29T12:18:02.414058Z",
     "shell.execute_reply": "2022-07-29T12:18:02.412953Z"
    },
    "papermill": {
     "duration": 0.596146,
     "end_time": "2022-07-29T12:18:02.414205",
     "exception": false,
     "start_time": "2022-07-29T12:18:01.818059",
     "status": "completed"
    },
    "tags": []
   },
   "outputs": [],
   "source": [
    "#hide\n",
    "import pandas as pd\n",
    "import matplotlib.pyplot as plt\n",
    "import matplotlib.ticker as ticker\n",
    "import matplotlib.animation as animation\n",
    "from IPython.display import HTML"
   ]
  },
  {
   "cell_type": "code",
   "execution_count": 21,
   "id": "lasting-extraction",
   "metadata": {
    "execution": {
     "iopub.execute_input": "2022-07-29T12:18:02.479645Z",
     "iopub.status.busy": "2022-07-29T12:18:02.478855Z",
     "iopub.status.idle": "2022-07-29T12:18:02.487543Z",
     "shell.execute_reply": "2022-07-29T12:18:02.486776Z"
    },
    "papermill": {
     "duration": 0.04338,
     "end_time": "2022-07-29T12:18:02.487687",
     "exception": false,
     "start_time": "2022-07-29T12:18:02.444307",
     "status": "completed"
    },
    "tags": []
   },
   "outputs": [],
   "source": [
    "#hide\n",
    "t = everydaycases.stack()"
   ]
  },
  {
   "cell_type": "code",
   "execution_count": 22,
   "id": "premier-sleeve",
   "metadata": {
    "execution": {
     "iopub.execute_input": "2022-07-29T12:18:02.554576Z",
     "iopub.status.busy": "2022-07-29T12:18:02.553879Z",
     "iopub.status.idle": "2022-07-29T12:18:02.568659Z",
     "shell.execute_reply": "2022-07-29T12:18:02.568180Z"
    },
    "papermill": {
     "duration": 0.050496,
     "end_time": "2022-07-29T12:18:02.568774",
     "exception": false,
     "start_time": "2022-07-29T12:18:02.518278",
     "status": "completed"
    },
    "tags": []
   },
   "outputs": [],
   "source": [
    "#hide\n",
    "g = t.reset_index(['Country/Region'])"
   ]
  },
  {
   "cell_type": "code",
   "execution_count": 23,
   "id": "distributed-pittsburgh",
   "metadata": {
    "execution": {
     "iopub.execute_input": "2022-07-29T12:18:02.631935Z",
     "iopub.status.busy": "2022-07-29T12:18:02.631244Z",
     "iopub.status.idle": "2022-07-29T12:18:02.636161Z",
     "shell.execute_reply": "2022-07-29T12:18:02.635586Z"
    },
    "papermill": {
     "duration": 0.037998,
     "end_time": "2022-07-29T12:18:02.636280",
     "exception": false,
     "start_time": "2022-07-29T12:18:02.598282",
     "status": "completed"
    },
    "tags": []
   },
   "outputs": [],
   "source": [
    "#hide\n",
    "g.index.name = 'date'"
   ]
  },
  {
   "cell_type": "code",
   "execution_count": 24,
   "id": "naked-donor",
   "metadata": {
    "execution": {
     "iopub.execute_input": "2022-07-29T12:18:02.699117Z",
     "iopub.status.busy": "2022-07-29T12:18:02.698551Z",
     "iopub.status.idle": "2022-07-29T12:18:02.702138Z",
     "shell.execute_reply": "2022-07-29T12:18:02.702542Z"
    },
    "papermill": {
     "duration": 0.036988,
     "end_time": "2022-07-29T12:18:02.702658",
     "exception": false,
     "start_time": "2022-07-29T12:18:02.665670",
     "status": "completed"
    },
    "tags": []
   },
   "outputs": [],
   "source": [
    "# #hide\n",
    "# g = g.reset_index(['date'])"
   ]
  },
  {
   "cell_type": "code",
   "execution_count": 25,
   "id": "incomplete-mustang",
   "metadata": {
    "execution": {
     "iopub.execute_input": "2022-07-29T12:18:02.773190Z",
     "iopub.status.busy": "2022-07-29T12:18:02.772611Z",
     "iopub.status.idle": "2022-07-29T12:18:02.774307Z",
     "shell.execute_reply": "2022-07-29T12:18:02.773832Z"
    },
    "papermill": {
     "duration": 0.038678,
     "end_time": "2022-07-29T12:18:02.774414",
     "exception": false,
     "start_time": "2022-07-29T12:18:02.735736",
     "status": "completed"
    },
    "tags": []
   },
   "outputs": [],
   "source": [
    "#hide\n",
    "# g.head()"
   ]
  },
  {
   "cell_type": "code",
   "execution_count": 26,
   "id": "specific-kruger",
   "metadata": {
    "execution": {
     "iopub.execute_input": "2022-07-29T12:18:02.838499Z",
     "iopub.status.busy": "2022-07-29T12:18:02.837687Z",
     "iopub.status.idle": "2022-07-29T12:18:02.840259Z",
     "shell.execute_reply": "2022-07-29T12:18:02.839487Z"
    },
    "papermill": {
     "duration": 0.035385,
     "end_time": "2022-07-29T12:18:02.840395",
     "exception": false,
     "start_time": "2022-07-29T12:18:02.805010",
     "status": "completed"
    },
    "tags": []
   },
   "outputs": [],
   "source": [
    "#hide\n",
    "# g.columns = ['date','country','cases']"
   ]
  },
  {
   "cell_type": "code",
   "execution_count": 27,
   "id": "tender-conversion",
   "metadata": {
    "execution": {
     "iopub.execute_input": "2022-07-29T12:18:02.906299Z",
     "iopub.status.busy": "2022-07-29T12:18:02.905630Z",
     "iopub.status.idle": "2022-07-29T12:18:02.910042Z",
     "shell.execute_reply": "2022-07-29T12:18:02.909524Z"
    },
    "papermill": {
     "duration": 0.038335,
     "end_time": "2022-07-29T12:18:02.910160",
     "exception": false,
     "start_time": "2022-07-29T12:18:02.871825",
     "status": "completed"
    },
    "tags": []
   },
   "outputs": [],
   "source": [
    "#hide\n",
    "# g['continent'] = g.country"
   ]
  },
  {
   "cell_type": "code",
   "execution_count": 28,
   "id": "substantial-wilderness",
   "metadata": {
    "execution": {
     "iopub.execute_input": "2022-07-29T12:18:02.974536Z",
     "iopub.status.busy": "2022-07-29T12:18:02.973758Z",
     "iopub.status.idle": "2022-07-29T12:18:02.975997Z",
     "shell.execute_reply": "2022-07-29T12:18:02.975448Z"
    },
    "papermill": {
     "duration": 0.036396,
     "end_time": "2022-07-29T12:18:02.976102",
     "exception": false,
     "start_time": "2022-07-29T12:18:02.939706",
     "status": "completed"
    },
    "tags": []
   },
   "outputs": [],
   "source": [
    "#hide\n",
    "# cols = list(g.columns.values)"
   ]
  },
  {
   "cell_type": "code",
   "execution_count": 29,
   "id": "solved-farming",
   "metadata": {
    "execution": {
     "iopub.execute_input": "2022-07-29T12:18:03.043141Z",
     "iopub.status.busy": "2022-07-29T12:18:03.041993Z",
     "iopub.status.idle": "2022-07-29T12:18:03.044407Z",
     "shell.execute_reply": "2022-07-29T12:18:03.045349Z"
    },
    "papermill": {
     "duration": 0.038475,
     "end_time": "2022-07-29T12:18:03.045566",
     "exception": false,
     "start_time": "2022-07-29T12:18:03.007091",
     "status": "completed"
    },
    "tags": []
   },
   "outputs": [],
   "source": [
    "#hide\n",
    "# cols.insert(0, cols.pop())"
   ]
  },
  {
   "cell_type": "code",
   "execution_count": 30,
   "id": "executed-adoption",
   "metadata": {
    "execution": {
     "iopub.execute_input": "2022-07-29T12:18:03.114009Z",
     "iopub.status.busy": "2022-07-29T12:18:03.112743Z",
     "iopub.status.idle": "2022-07-29T12:18:03.116790Z",
     "shell.execute_reply": "2022-07-29T12:18:03.117293Z"
    },
    "papermill": {
     "duration": 0.041486,
     "end_time": "2022-07-29T12:18:03.117426",
     "exception": false,
     "start_time": "2022-07-29T12:18:03.075940",
     "status": "completed"
    },
    "tags": []
   },
   "outputs": [],
   "source": [
    "#hide\n",
    "# g = g[cols]"
   ]
  },
  {
   "cell_type": "code",
   "execution_count": 31,
   "id": "subject-dublin",
   "metadata": {
    "execution": {
     "iopub.execute_input": "2022-07-29T12:18:03.185899Z",
     "iopub.status.busy": "2022-07-29T12:18:03.184652Z",
     "iopub.status.idle": "2022-07-29T12:18:03.187176Z",
     "shell.execute_reply": "2022-07-29T12:18:03.187860Z"
    },
    "papermill": {
     "duration": 0.039542,
     "end_time": "2022-07-29T12:18:03.187998",
     "exception": false,
     "start_time": "2022-07-29T12:18:03.148456",
     "status": "completed"
    },
    "tags": []
   },
   "outputs": [],
   "source": [
    "#hide\n",
    "# g['continent'] = g['continent'].map(mapping['map.continent'])"
   ]
  },
  {
   "cell_type": "code",
   "execution_count": 32,
   "id": "freelance-scout",
   "metadata": {
    "execution": {
     "iopub.execute_input": "2022-07-29T12:18:03.257315Z",
     "iopub.status.busy": "2022-07-29T12:18:03.256431Z",
     "iopub.status.idle": "2022-07-29T12:18:03.260619Z",
     "shell.execute_reply": "2022-07-29T12:18:03.261142Z"
    },
    "papermill": {
     "duration": 0.040761,
     "end_time": "2022-07-29T12:18:03.261290",
     "exception": false,
     "start_time": "2022-07-29T12:18:03.220529",
     "status": "completed"
    },
    "tags": []
   },
   "outputs": [],
   "source": [
    "#hide\n",
    "# g.head()"
   ]
  },
  {
   "cell_type": "code",
   "execution_count": 33,
   "id": "limited-engine",
   "metadata": {
    "execution": {
     "iopub.execute_input": "2022-07-29T12:18:03.333716Z",
     "iopub.status.busy": "2022-07-29T12:18:03.332829Z",
     "iopub.status.idle": "2022-07-29T12:18:03.336810Z",
     "shell.execute_reply": "2022-07-29T12:18:03.336150Z"
    },
    "papermill": {
     "duration": 0.04189,
     "end_time": "2022-07-29T12:18:03.336970",
     "exception": false,
     "start_time": "2022-07-29T12:18:03.295080",
     "status": "completed"
    },
    "tags": []
   },
   "outputs": [],
   "source": [
    "# hide\n",
    "# g['date'] = g['date'].astype('datetime64[ns]')"
   ]
  },
  {
   "cell_type": "code",
   "execution_count": 34,
   "id": "sophisticated-supervisor",
   "metadata": {
    "execution": {
     "iopub.execute_input": "2022-07-29T12:18:03.403427Z",
     "iopub.status.busy": "2022-07-29T12:18:03.402875Z",
     "iopub.status.idle": "2022-07-29T12:18:03.405192Z",
     "shell.execute_reply": "2022-07-29T12:18:03.405749Z"
    },
    "papermill": {
     "duration": 0.036235,
     "end_time": "2022-07-29T12:18:03.405884",
     "exception": false,
     "start_time": "2022-07-29T12:18:03.369649",
     "status": "completed"
    },
    "tags": []
   },
   "outputs": [],
   "source": [
    "#hide\n",
    "# g['date'] = g.date.dt.dayofyear"
   ]
  },
  {
   "cell_type": "code",
   "execution_count": 35,
   "id": "inside-dubai",
   "metadata": {
    "execution": {
     "iopub.execute_input": "2022-07-29T12:18:03.469837Z",
     "iopub.status.busy": "2022-07-29T12:18:03.469137Z",
     "iopub.status.idle": "2022-07-29T12:18:03.471357Z",
     "shell.execute_reply": "2022-07-29T12:18:03.471858Z"
    },
    "papermill": {
     "duration": 0.034838,
     "end_time": "2022-07-29T12:18:03.471996",
     "exception": false,
     "start_time": "2022-07-29T12:18:03.437158",
     "status": "completed"
    },
    "tags": []
   },
   "outputs": [],
   "source": [
    "#hide\n",
    "# g = g.rename(columns= {'continent':'group','country':'name','cases':'value'})"
   ]
  },
  {
   "cell_type": "code",
   "execution_count": 36,
   "id": "fleet-motorcycle",
   "metadata": {
    "execution": {
     "iopub.execute_input": "2022-07-29T12:18:03.534763Z",
     "iopub.status.busy": "2022-07-29T12:18:03.534147Z",
     "iopub.status.idle": "2022-07-29T12:18:03.536694Z",
     "shell.execute_reply": "2022-07-29T12:18:03.536249Z"
    },
    "papermill": {
     "duration": 0.035197,
     "end_time": "2022-07-29T12:18:03.536788",
     "exception": false,
     "start_time": "2022-07-29T12:18:03.501591",
     "status": "completed"
    },
    "tags": []
   },
   "outputs": [],
   "source": [
    "#hide\n",
    "# cols = ['name','group','day','value']"
   ]
  },
  {
   "cell_type": "code",
   "execution_count": 37,
   "id": "continued-sleeping",
   "metadata": {
    "execution": {
     "iopub.execute_input": "2022-07-29T12:18:03.606126Z",
     "iopub.status.busy": "2022-07-29T12:18:03.605281Z",
     "iopub.status.idle": "2022-07-29T12:18:03.606968Z",
     "shell.execute_reply": "2022-07-29T12:18:03.607890Z"
    },
    "papermill": {
     "duration": 0.041376,
     "end_time": "2022-07-29T12:18:03.608033",
     "exception": false,
     "start_time": "2022-07-29T12:18:03.566657",
     "status": "completed"
    },
    "tags": []
   },
   "outputs": [],
   "source": [
    "#hide\n",
    "# g.rename(columns= {'date':'day'},inplace = True)"
   ]
  },
  {
   "cell_type": "code",
   "execution_count": 38,
   "id": "major-fight",
   "metadata": {
    "execution": {
     "iopub.execute_input": "2022-07-29T12:18:03.678647Z",
     "iopub.status.busy": "2022-07-29T12:18:03.677973Z",
     "iopub.status.idle": "2022-07-29T12:18:03.680561Z",
     "shell.execute_reply": "2022-07-29T12:18:03.680019Z"
    },
    "papermill": {
     "duration": 0.035015,
     "end_time": "2022-07-29T12:18:03.680676",
     "exception": false,
     "start_time": "2022-07-29T12:18:03.645661",
     "status": "completed"
    },
    "tags": []
   },
   "outputs": [],
   "source": [
    "#hide\n",
    "# g = g[cols]"
   ]
  },
  {
   "cell_type": "code",
   "execution_count": 39,
   "id": "structured-mobile",
   "metadata": {
    "execution": {
     "iopub.execute_input": "2022-07-29T12:18:03.747415Z",
     "iopub.status.busy": "2022-07-29T12:18:03.746581Z",
     "iopub.status.idle": "2022-07-29T12:18:03.748041Z",
     "shell.execute_reply": "2022-07-29T12:18:03.748464Z"
    },
    "papermill": {
     "duration": 0.037275,
     "end_time": "2022-07-29T12:18:03.748578",
     "exception": false,
     "start_time": "2022-07-29T12:18:03.711303",
     "status": "completed"
    },
    "tags": []
   },
   "outputs": [],
   "source": [
    "# #hide\n",
    "# g = g[g.group.notna()]"
   ]
  },
  {
   "cell_type": "code",
   "execution_count": 40,
   "id": "determined-closing",
   "metadata": {
    "execution": {
     "iopub.execute_input": "2022-07-29T12:18:03.817938Z",
     "iopub.status.busy": "2022-07-29T12:18:03.817228Z",
     "iopub.status.idle": "2022-07-29T12:18:03.818607Z",
     "shell.execute_reply": "2022-07-29T12:18:03.819029Z"
    },
    "papermill": {
     "duration": 0.038296,
     "end_time": "2022-07-29T12:18:03.819144",
     "exception": false,
     "start_time": "2022-07-29T12:18:03.780848",
     "status": "completed"
    },
    "tags": []
   },
   "outputs": [],
   "source": [
    "# #hide\n",
    "# colors = dict(zip(\n",
    "#     [\"Oceania\", \"Europe\", \"Asia\", \"South America\", \"Middle East\", \"North America\", \"Africa\"],\n",
    "#     [\"#adb0ff\", \"#ffb3ff\", \"#90d595\", \"#e48381\", \"#aafbff\", \"#f7bb5f\", \"#eafb50\"]\n",
    "# ))\n",
    "# group_lk = g.set_index('name')['group'].to_dict()"
   ]
  },
  {
   "cell_type": "code",
   "execution_count": null,
   "id": "gross-drinking",
   "metadata": {
    "papermill": {
     "duration": 0.030987,
     "end_time": "2022-07-29T12:18:03.883809",
     "exception": false,
     "start_time": "2022-07-29T12:18:03.852822",
     "status": "completed"
    },
    "tags": []
   },
   "outputs": [],
   "source": []
  },
  {
   "cell_type": "code",
   "execution_count": 41,
   "id": "subject-macintosh",
   "metadata": {
    "execution": {
     "iopub.execute_input": "2022-07-29T12:18:03.955424Z",
     "iopub.status.busy": "2022-07-29T12:18:03.954715Z",
     "iopub.status.idle": "2022-07-29T12:18:03.957336Z",
     "shell.execute_reply": "2022-07-29T12:18:03.957902Z"
    },
    "papermill": {
     "duration": 0.040864,
     "end_time": "2022-07-29T12:18:03.958045",
     "exception": false,
     "start_time": "2022-07-29T12:18:03.917181",
     "status": "completed"
    },
    "tags": []
   },
   "outputs": [],
   "source": [
    "# #hide\n",
    "# fig, ax = plt.subplots(figsize=(15, 8))\n",
    "\n",
    "# def draw_barchart(current_day):\n",
    "#     dff = g[g['day'].eq(current_day)].sort_values(by='value', ascending=True).tail(10)\n",
    "#     ax.clear()\n",
    "#     ax.barh(dff['name'], dff['value'], color=[colors[group_lk[x]] for x in dff['name']])\n",
    "#     dx = dff['value'].max() / 200\n",
    "    \n",
    "#     for i, (value, name) in enumerate(zip(dff['value'], dff['name'])):\n",
    "#         ax.text(value-dx, i,     name,           size=14, weight=600, ha='right', va='bottom')\n",
    "#         ax.text(value-dx, i-.25, group_lk[name], size=10, color='#444444', ha='right', va='baseline')\n",
    "#         ax.text(value+dx, i,     f'{value:,.0f}',  size=14, ha='left',  va='center')\n",
    "#     ax.text(1, 0.4, current_day, transform=ax.transAxes, color='#777777', size=46, ha='right', weight=800)\n",
    "#     ax.text(0, 1.06, 'Population (thousands)', transform=ax.transAxes, size=12, color='#777777')\n",
    "#     ax.xaxis.set_major_formatter(ticker.StrMethodFormatter('{x:,.0f}'))\n",
    "#     ax.xaxis.set_ticks_position('top')\n",
    "#     ax.tick_params(axis='x', colors='#777777', labelsize=12)\n",
    "#     ax.set_yticks([])\n",
    "#     ax.margins(0, 0.01)\n",
    "#     ax.grid(which='major', axis='x', linestyle='-')\n",
    "#     ax.set_axisbelow(True)\n",
    "    \n",
    "#     ax.text(0, 1.15, 'Coronavirus',\n",
    "#             transform=ax.transAxes, size=24, weight=600, ha='left', va='top')\n",
    "# #     ax.text(1, 0, 'by @pratapvardhan; credit @jburnmurdoch', transform=ax.transAxes, color='#777777', ha='right',\n",
    "# #             bbox=dict(facecolor='white', alpha=0.8, edgecolor='white'))\n",
    "#     plt.box(False)"
   ]
  },
  {
   "cell_type": "code",
   "execution_count": 42,
   "id": "sexual-wages",
   "metadata": {
    "execution": {
     "iopub.execute_input": "2022-07-29T12:18:04.028730Z",
     "iopub.status.busy": "2022-07-29T12:18:04.028017Z",
     "iopub.status.idle": "2022-07-29T12:18:04.031919Z",
     "shell.execute_reply": "2022-07-29T12:18:04.032410Z"
    },
    "papermill": {
     "duration": 0.041052,
     "end_time": "2022-07-29T12:18:04.032557",
     "exception": false,
     "start_time": "2022-07-29T12:18:03.991505",
     "status": "completed"
    },
    "tags": []
   },
   "outputs": [],
   "source": [
    "# #hide_input\n",
    "# fig, ax = plt.subplots(figsize=(15, 8))\n",
    "# animator = animation.FuncAnimation(fig, draw_barchart, frames=range(g.day.values.min(), g.day.values.max()))\n",
    "# HTML(animator.to_jshtml())\n",
    "# # or use animator.to_html5_video() or animator.save() "
   ]
  },
  {
   "cell_type": "code",
   "execution_count": null,
   "id": "australian-container",
   "metadata": {
    "papermill": {
     "duration": 0.034341,
     "end_time": "2022-07-29T12:18:04.101299",
     "exception": false,
     "start_time": "2022-07-29T12:18:04.066958",
     "status": "completed"
    },
    "tags": []
   },
   "outputs": [],
   "source": []
  },
  {
   "cell_type": "code",
   "execution_count": null,
   "id": "mediterranean-pontiac",
   "metadata": {
    "papermill": {
     "duration": 0.032909,
     "end_time": "2022-07-29T12:18:04.168063",
     "exception": false,
     "start_time": "2022-07-29T12:18:04.135154",
     "status": "completed"
    },
    "tags": []
   },
   "outputs": [],
   "source": []
  },
  {
   "cell_type": "code",
   "execution_count": null,
   "id": "aging-legislature",
   "metadata": {
    "papermill": {
     "duration": 0.033127,
     "end_time": "2022-07-29T12:18:04.236429",
     "exception": false,
     "start_time": "2022-07-29T12:18:04.203302",
     "status": "completed"
    },
    "tags": []
   },
   "outputs": [],
   "source": []
  }
 ],
 "metadata": {
  "kernelspec": {
   "display_name": "Python 3",
   "language": "python",
   "name": "python3"
  },
  "language_info": {
   "codemirror_mode": {
    "name": "ipython",
    "version": 3
   },
   "file_extension": ".py",
   "mimetype": "text/x-python",
   "name": "python",
   "nbconvert_exporter": "python",
   "pygments_lexer": "ipython3",
   "version": "3.6.15"
  },
  "papermill": {
   "duration": 6.490828,
   "end_time": "2022-07-29T12:18:04.589109",
   "environment_variables": {},
   "exception": null,
   "input_path": "2020-03-21-covid19exp.ipynb",
   "output_path": "2020-03-21-covid19exp.ipynb",
   "parameters": {},
   "start_time": "2022-07-29T12:17:58.098281",
   "version": "2.0.0"
  }
 },
 "nbformat": 4,
 "nbformat_minor": 5
}