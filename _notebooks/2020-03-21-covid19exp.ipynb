{
 "cells": [
  {
   "cell_type": "markdown",
   "id": "muslim-click",
   "metadata": {
    "papermill": {
     "duration": 0.046693,
     "end_time": "2022-04-20T00:39:37.056400",
     "exception": false,
     "start_time": "2022-04-20T00:39:37.009707",
     "status": "completed"
    },
    "tags": []
   },
   "source": [
    "# COVID-19 Case Race\n",
    "> A race chart to see rising cases around the world\n",
    "\n",
    "- author: Hargun Oberoi\n",
    "- image: images/covid-overview.png\n",
    "- hide: false\n",
    "- badges: false"
   ]
  },
  {
   "cell_type": "code",
   "execution_count": 1,
   "id": "proof-material",
   "metadata": {
    "execution": {
     "iopub.execute_input": "2022-04-20T00:39:37.153409Z",
     "iopub.status.busy": "2022-04-20T00:39:37.152723Z",
     "iopub.status.idle": "2022-04-20T00:39:37.581772Z",
     "shell.execute_reply": "2022-04-20T00:39:37.579685Z"
    },
    "papermill": {
     "duration": 0.480776,
     "end_time": "2022-04-20T00:39:37.581980",
     "exception": false,
     "start_time": "2022-04-20T00:39:37.101204",
     "status": "completed"
    },
    "tags": []
   },
   "outputs": [],
   "source": [
    "#hide\n",
    "import numpy as np\n",
    "import pandas as pd\n",
    "from jinja2 import Template\n",
    "from IPython.display import HTML"
   ]
  },
  {
   "cell_type": "code",
   "execution_count": 2,
   "id": "developed-terminology",
   "metadata": {
    "execution": {
     "iopub.execute_input": "2022-04-20T00:39:37.665736Z",
     "iopub.status.busy": "2022-04-20T00:39:37.665013Z",
     "iopub.status.idle": "2022-04-20T00:39:37.668836Z",
     "shell.execute_reply": "2022-04-20T00:39:37.669367Z"
    },
    "papermill": {
     "duration": 0.048834,
     "end_time": "2022-04-20T00:39:37.669532",
     "exception": false,
     "start_time": "2022-04-20T00:39:37.620698",
     "status": "completed"
    },
    "tags": []
   },
   "outputs": [],
   "source": [
    "#hide\n",
    "\n",
    "# FETCH\n",
    "base_url = 'https://raw.githubusercontent.com/pratapvardhan/notebooks/master/covid19/'\n",
    "paths = {\n",
    "    'mapping': base_url + 'mapping_countries.csv',\n",
    "    'overview': base_url + 'overview.tpl'\n",
    "}"
   ]
  },
  {
   "cell_type": "code",
   "execution_count": 3,
   "id": "dynamic-saver",
   "metadata": {
    "execution": {
     "iopub.execute_input": "2022-04-20T00:39:37.760106Z",
     "iopub.status.busy": "2022-04-20T00:39:37.759427Z",
     "iopub.status.idle": "2022-04-20T00:39:37.763035Z",
     "shell.execute_reply": "2022-04-20T00:39:37.762341Z"
    },
    "papermill": {
     "duration": 0.05393,
     "end_time": "2022-04-20T00:39:37.763175",
     "exception": false,
     "start_time": "2022-04-20T00:39:37.709245",
     "status": "completed"
    },
    "tags": []
   },
   "outputs": [
    {
     "data": {
      "text/plain": [
       "'https://raw.githubusercontent.com/pratapvardhan/notebooks/master/covid19/mapping_countries.csv'"
      ]
     },
     "execution_count": 3,
     "metadata": {},
     "output_type": "execute_result"
    }
   ],
   "source": [
    "#hide\n",
    "paths['mapping']"
   ]
  },
  {
   "cell_type": "code",
   "execution_count": 4,
   "id": "urban-software",
   "metadata": {
    "execution": {
     "iopub.execute_input": "2022-04-20T00:39:37.851377Z",
     "iopub.status.busy": "2022-04-20T00:39:37.850593Z",
     "iopub.status.idle": "2022-04-20T00:39:37.853846Z",
     "shell.execute_reply": "2022-04-20T00:39:37.854437Z"
    },
    "papermill": {
     "duration": 0.051005,
     "end_time": "2022-04-20T00:39:37.854612",
     "exception": false,
     "start_time": "2022-04-20T00:39:37.803607",
     "status": "completed"
    },
    "tags": []
   },
   "outputs": [],
   "source": [
    "#hide\n",
    "def get_mappings(url):\n",
    "    df = pd.read_csv(url)\n",
    "    return {\n",
    "        'df': df,\n",
    "        'replace.country': dict(df.dropna(subset=['Name']).set_index('Country')['Name']),\n",
    "        'map.continent': dict(df.set_index('Name')['Continent'])\n",
    "    }"
   ]
  },
  {
   "cell_type": "code",
   "execution_count": 5,
   "id": "intimate-machinery",
   "metadata": {
    "execution": {
     "iopub.execute_input": "2022-04-20T00:39:37.946959Z",
     "iopub.status.busy": "2022-04-20T00:39:37.946150Z",
     "iopub.status.idle": "2022-04-20T00:39:37.976304Z",
     "shell.execute_reply": "2022-04-20T00:39:37.976853Z"
    },
    "papermill": {
     "duration": 0.079513,
     "end_time": "2022-04-20T00:39:37.977077",
     "exception": false,
     "start_time": "2022-04-20T00:39:37.897564",
     "status": "completed"
    },
    "tags": []
   },
   "outputs": [],
   "source": [
    "#hide\n",
    "mapping = get_mappings(paths['mapping'])"
   ]
  },
  {
   "cell_type": "code",
   "execution_count": 6,
   "id": "certified-tactics",
   "metadata": {
    "execution": {
     "iopub.execute_input": "2022-04-20T00:39:38.069169Z",
     "iopub.status.busy": "2022-04-20T00:39:38.068279Z",
     "iopub.status.idle": "2022-04-20T00:39:38.070913Z",
     "shell.execute_reply": "2022-04-20T00:39:38.071540Z"
    },
    "papermill": {
     "duration": 0.052415,
     "end_time": "2022-04-20T00:39:38.071700",
     "exception": false,
     "start_time": "2022-04-20T00:39:38.019285",
     "status": "completed"
    },
    "tags": []
   },
   "outputs": [],
   "source": [
    "#hide\n",
    "def get_template(path):\n",
    "    from urllib.parse import urlparse\n",
    "    if bool(urlparse(path).netloc):\n",
    "        from urllib.request import urlopen\n",
    "        return urlopen(path).read().decode('utf8')\n",
    "    return open(path).read()"
   ]
  },
  {
   "cell_type": "code",
   "execution_count": 7,
   "id": "realistic-blast",
   "metadata": {
    "execution": {
     "iopub.execute_input": "2022-04-20T00:39:38.169377Z",
     "iopub.status.busy": "2022-04-20T00:39:38.168521Z",
     "iopub.status.idle": "2022-04-20T00:39:38.171990Z",
     "shell.execute_reply": "2022-04-20T00:39:38.171410Z"
    },
    "papermill": {
     "duration": 0.051796,
     "end_time": "2022-04-20T00:39:38.172145",
     "exception": false,
     "start_time": "2022-04-20T00:39:38.120349",
     "status": "completed"
    },
    "tags": []
   },
   "outputs": [],
   "source": [
    "#hide\n",
    "def get_frame(name):\n",
    "    url = (\n",
    "        'https://raw.githubusercontent.com/CSSEGISandData/COVID-19/master/csse_covid_19_data/'\n",
    "        f'csse_covid_19_time_series/time_series_covid19_{name}_global.csv')\n",
    "    df = pd.read_csv(url)\n",
    "    # rename countries\n",
    "    df['Country/Region'] = df['Country/Region'].replace(mapping['replace.country'])\n",
    "    return df"
   ]
  },
  {
   "cell_type": "code",
   "execution_count": 8,
   "id": "affiliated-characterization",
   "metadata": {
    "execution": {
     "iopub.execute_input": "2022-04-20T00:39:38.263924Z",
     "iopub.status.busy": "2022-04-20T00:39:38.263147Z",
     "iopub.status.idle": "2022-04-20T00:39:38.268378Z",
     "shell.execute_reply": "2022-04-20T00:39:38.267798Z"
    },
    "papermill": {
     "duration": 0.053406,
     "end_time": "2022-04-20T00:39:38.268520",
     "exception": false,
     "start_time": "2022-04-20T00:39:38.215114",
     "status": "completed"
    },
    "tags": []
   },
   "outputs": [],
   "source": [
    "#hide\n",
    "def get_dates(df):\n",
    "    dt_cols = df.columns[~df.columns.isin(['Province/State', 'Country/Region', 'Lat', 'Long'])]\n",
    "    LAST_DATE_I = -1\n",
    "    # sometimes last column may be empty, then go backwards\n",
    "    for i in range(-1, -len(dt_cols), -1):\n",
    "        if not df[dt_cols[i]].fillna(0).eq(0).all():\n",
    "            LAST_DATE_I = i\n",
    "            break\n",
    "    return LAST_DATE_I, dt_cols"
   ]
  },
  {
   "cell_type": "code",
   "execution_count": 9,
   "id": "recent-optimization",
   "metadata": {
    "execution": {
     "iopub.execute_input": "2022-04-20T00:39:38.356463Z",
     "iopub.status.busy": "2022-04-20T00:39:38.355720Z",
     "iopub.status.idle": "2022-04-20T00:39:38.815132Z",
     "shell.execute_reply": "2022-04-20T00:39:38.814485Z"
    },
    "papermill": {
     "duration": 0.505618,
     "end_time": "2022-04-20T00:39:38.815303",
     "exception": false,
     "start_time": "2022-04-20T00:39:38.309685",
     "status": "completed"
    },
    "tags": []
   },
   "outputs": [],
   "source": [
    "#hide\n",
    "COL_REGION = 'Country/Region'\n",
    "# Confirmed, Recovered, Deaths\n",
    "df = get_frame('confirmed')\n",
    "# dft_: timeseries, dfc_: today country agg\n",
    "dft_cases = df\n",
    "dft_deaths = get_frame('deaths')\n",
    "dft_recovered = get_frame('recovered')\n",
    "LAST_DATE_I, dt_cols = get_dates(df)"
   ]
  },
  {
   "cell_type": "code",
   "execution_count": 10,
   "id": "absolute-copper",
   "metadata": {
    "execution": {
     "iopub.execute_input": "2022-04-20T00:39:38.905757Z",
     "iopub.status.busy": "2022-04-20T00:39:38.905078Z",
     "iopub.status.idle": "2022-04-20T00:39:38.907604Z",
     "shell.execute_reply": "2022-04-20T00:39:38.908268Z"
    },
    "papermill": {
     "duration": 0.051034,
     "end_time": "2022-04-20T00:39:38.908447",
     "exception": false,
     "start_time": "2022-04-20T00:39:38.857413",
     "status": "completed"
    },
    "tags": []
   },
   "outputs": [],
   "source": [
    "#hide\n",
    "LAST_DATE_I, dt_cols = get_dates(df)\n",
    "dt_today =dt_cols[LAST_DATE_I]\n",
    "# dt_5day = dt_cols[LAST_DATE_I - 5]\n",
    "dt_yday = dt_cols[LAST_DATE_I - 1]"
   ]
  },
  {
   "cell_type": "code",
   "execution_count": 11,
   "id": "restricted-sheriff",
   "metadata": {
    "execution": {
     "iopub.execute_input": "2022-04-20T00:39:38.999048Z",
     "iopub.status.busy": "2022-04-20T00:39:38.998301Z",
     "iopub.status.idle": "2022-04-20T00:39:39.006590Z",
     "shell.execute_reply": "2022-04-20T00:39:39.006017Z"
    },
    "papermill": {
     "duration": 0.057526,
     "end_time": "2022-04-20T00:39:39.006763",
     "exception": false,
     "start_time": "2022-04-20T00:39:38.949237",
     "status": "completed"
    },
    "tags": []
   },
   "outputs": [],
   "source": [
    "#hide\n",
    "dfc_cases = dft_cases.groupby(COL_REGION)[dt_today].sum()\n",
    "dfc_deaths = dft_deaths.groupby(COL_REGION)[dt_today].sum()\n",
    "# dfp_cases = dft_cases.groupby(COL_REGION)[dt_5day].sum()\n",
    "# dfp_deaths = dft_deaths.groupby(COL_REGION)[dt_5day].sum()\n",
    "dfp_cases = dft_cases.groupby(COL_REGION)[dt_yday].sum()\n",
    "dfp_deaths = dft_deaths.groupby(COL_REGION)[dt_yday].sum()"
   ]
  },
  {
   "cell_type": "code",
   "execution_count": 12,
   "id": "deluxe-hepatitis",
   "metadata": {
    "execution": {
     "iopub.execute_input": "2022-04-20T00:39:39.100504Z",
     "iopub.status.busy": "2022-04-20T00:39:39.099719Z",
     "iopub.status.idle": "2022-04-20T00:39:39.105677Z",
     "shell.execute_reply": "2022-04-20T00:39:39.105100Z"
    },
    "papermill": {
     "duration": 0.05764,
     "end_time": "2022-04-20T00:39:39.105826",
     "exception": false,
     "start_time": "2022-04-20T00:39:39.048186",
     "status": "completed"
    },
    "tags": []
   },
   "outputs": [],
   "source": [
    "#hide\n",
    "df_table = (pd.DataFrame(dict(Cases = dfc_cases, Deaths = dfc_deaths, PCases = dfp_cases, PDeaths = dfp_deaths))\n",
    "            .sort_values(by = ['Cases','Deaths'], ascending = [False, False])\n",
    "            .reset_index())"
   ]
  },
  {
   "cell_type": "code",
   "execution_count": 13,
   "id": "educational-chancellor",
   "metadata": {
    "execution": {
     "iopub.execute_input": "2022-04-20T00:39:39.215010Z",
     "iopub.status.busy": "2022-04-20T00:39:39.214177Z",
     "iopub.status.idle": "2022-04-20T00:39:39.223814Z",
     "shell.execute_reply": "2022-04-20T00:39:39.224607Z"
    },
    "papermill": {
     "duration": 0.075905,
     "end_time": "2022-04-20T00:39:39.224772",
     "exception": false,
     "start_time": "2022-04-20T00:39:39.148867",
     "status": "completed"
    },
    "tags": []
   },
   "outputs": [
    {
     "data": {
      "text/html": [
       "<div>\n",
       "<style scoped>\n",
       "    .dataframe tbody tr th:only-of-type {\n",
       "        vertical-align: middle;\n",
       "    }\n",
       "\n",
       "    .dataframe tbody tr th {\n",
       "        vertical-align: top;\n",
       "    }\n",
       "\n",
       "    .dataframe thead th {\n",
       "        text-align: right;\n",
       "    }\n",
       "</style>\n",
       "<table border=\"1\" class=\"dataframe\">\n",
       "  <thead>\n",
       "    <tr style=\"text-align: right;\">\n",
       "      <th></th>\n",
       "      <th>Country/Region</th>\n",
       "      <th>Cases</th>\n",
       "      <th>Deaths</th>\n",
       "      <th>PCases</th>\n",
       "      <th>PDeaths</th>\n",
       "      <th>Cases (+)</th>\n",
       "      <th>Deaths (+)</th>\n",
       "      <th>Fatality Rate</th>\n",
       "      <th>Continent</th>\n",
       "    </tr>\n",
       "  </thead>\n",
       "  <tbody>\n",
       "    <tr>\n",
       "      <th>0</th>\n",
       "      <td>US</td>\n",
       "      <td>80686311</td>\n",
       "      <td>988899</td>\n",
       "      <td>80633315</td>\n",
       "      <td>988641</td>\n",
       "      <td>52996</td>\n",
       "      <td>258</td>\n",
       "      <td>1.23</td>\n",
       "      <td>North America</td>\n",
       "    </tr>\n",
       "    <tr>\n",
       "      <th>1</th>\n",
       "      <td>India</td>\n",
       "      <td>43045527</td>\n",
       "      <td>521966</td>\n",
       "      <td>43044280</td>\n",
       "      <td>521965</td>\n",
       "      <td>1247</td>\n",
       "      <td>1</td>\n",
       "      <td>1.21</td>\n",
       "      <td>Asia</td>\n",
       "    </tr>\n",
       "    <tr>\n",
       "      <th>2</th>\n",
       "      <td>Brazil</td>\n",
       "      <td>30261088</td>\n",
       "      <td>662271</td>\n",
       "      <td>30252618</td>\n",
       "      <td>662207</td>\n",
       "      <td>8470</td>\n",
       "      <td>64</td>\n",
       "      <td>2.19</td>\n",
       "      <td>South America</td>\n",
       "    </tr>\n",
       "    <tr>\n",
       "      <th>3</th>\n",
       "      <td>France</td>\n",
       "      <td>27980729</td>\n",
       "      <td>145242</td>\n",
       "      <td>27960919</td>\n",
       "      <td>145194</td>\n",
       "      <td>19810</td>\n",
       "      <td>48</td>\n",
       "      <td>0.52</td>\n",
       "      <td>Europe</td>\n",
       "    </tr>\n",
       "    <tr>\n",
       "      <th>4</th>\n",
       "      <td>Germany</td>\n",
       "      <td>23459628</td>\n",
       "      <td>132960</td>\n",
       "      <td>23437145</td>\n",
       "      <td>132953</td>\n",
       "      <td>22483</td>\n",
       "      <td>7</td>\n",
       "      <td>0.57</td>\n",
       "      <td>Europe</td>\n",
       "    </tr>\n",
       "  </tbody>\n",
       "</table>\n",
       "</div>"
      ],
      "text/plain": [
       "  Country/Region     Cases  Deaths    PCases  PDeaths  Cases (+)  Deaths (+)  \\\n",
       "0             US  80686311  988899  80633315   988641      52996         258   \n",
       "1          India  43045527  521966  43044280   521965       1247           1   \n",
       "2         Brazil  30261088  662271  30252618   662207       8470          64   \n",
       "3         France  27980729  145242  27960919   145194      19810          48   \n",
       "4        Germany  23459628  132960  23437145   132953      22483           7   \n",
       "\n",
       "   Fatality Rate      Continent  \n",
       "0           1.23  North America  \n",
       "1           1.21           Asia  \n",
       "2           2.19  South America  \n",
       "3           0.52         Europe  \n",
       "4           0.57         Europe  "
      ]
     },
     "execution_count": 13,
     "metadata": {},
     "output_type": "execute_result"
    }
   ],
   "source": [
    "#hide\n",
    "for c in 'Cases, Deaths'.split(', '):\n",
    "    df_table[f'{c} (+)'] = (df_table[c] - df_table[f'P{c}']).clip(0)\n",
    "    #Clip ça veut dire, les chiffres negatif sont interdit\n",
    "df_table['Fatality Rate'] = (100* df_table['Deaths']/ df_table['Cases']).round(2)\n",
    "df_table['Continent'] = df_table['Country/Region'].map(mapping['map.continent'])\n",
    "df_table.head(5)"
   ]
  },
  {
   "cell_type": "code",
   "execution_count": 14,
   "id": "aboriginal-bulgaria",
   "metadata": {
    "execution": {
     "iopub.execute_input": "2022-04-20T00:39:39.317449Z",
     "iopub.status.busy": "2022-04-20T00:39:39.316606Z",
     "iopub.status.idle": "2022-04-20T00:39:39.319701Z",
     "shell.execute_reply": "2022-04-20T00:39:39.320347Z"
    },
    "papermill": {
     "duration": 0.052823,
     "end_time": "2022-04-20T00:39:39.320495",
     "exception": false,
     "start_time": "2022-04-20T00:39:39.267672",
     "status": "completed"
    },
    "tags": []
   },
   "outputs": [],
   "source": [
    "#hide\n",
    "#delete problematic countries from table\n",
    "df_table = df_table[~df_table['Country/Region'].isin(['Cape Verde', 'Cruise Ship', 'Kosovo'])]"
   ]
  },
  {
   "cell_type": "code",
   "execution_count": 15,
   "id": "fantastic-effect",
   "metadata": {
    "execution": {
     "iopub.execute_input": "2022-04-20T00:39:39.412796Z",
     "iopub.status.busy": "2022-04-20T00:39:39.412112Z",
     "iopub.status.idle": "2022-04-20T00:39:39.435518Z",
     "shell.execute_reply": "2022-04-20T00:39:39.436154Z"
    },
    "papermill": {
     "duration": 0.074994,
     "end_time": "2022-04-20T00:39:39.436338",
     "exception": false,
     "start_time": "2022-04-20T00:39:39.361344",
     "status": "completed"
    },
    "tags": []
   },
   "outputs": [
    {
     "data": {
      "text/html": [
       "<div>\n",
       "<style scoped>\n",
       "    .dataframe tbody tr th:only-of-type {\n",
       "        vertical-align: middle;\n",
       "    }\n",
       "\n",
       "    .dataframe tbody tr th {\n",
       "        vertical-align: top;\n",
       "    }\n",
       "\n",
       "    .dataframe thead th {\n",
       "        text-align: right;\n",
       "    }\n",
       "</style>\n",
       "<table border=\"1\" class=\"dataframe\">\n",
       "  <thead>\n",
       "    <tr style=\"text-align: right;\">\n",
       "      <th></th>\n",
       "      <th>Country/Region</th>\n",
       "      <th>Cases</th>\n",
       "      <th>Deaths</th>\n",
       "      <th>PCases</th>\n",
       "      <th>PDeaths</th>\n",
       "      <th>Cases (+)</th>\n",
       "      <th>Deaths (+)</th>\n",
       "      <th>Fatality Rate</th>\n",
       "      <th>Continent</th>\n",
       "    </tr>\n",
       "  </thead>\n",
       "  <tbody>\n",
       "    <tr>\n",
       "      <th>0</th>\n",
       "      <td>US</td>\n",
       "      <td>80686311</td>\n",
       "      <td>988899</td>\n",
       "      <td>80633315</td>\n",
       "      <td>988641</td>\n",
       "      <td>52996</td>\n",
       "      <td>258</td>\n",
       "      <td>1.2</td>\n",
       "      <td>North America</td>\n",
       "    </tr>\n",
       "    <tr>\n",
       "      <th>1</th>\n",
       "      <td>India</td>\n",
       "      <td>43045527</td>\n",
       "      <td>521966</td>\n",
       "      <td>43044280</td>\n",
       "      <td>521965</td>\n",
       "      <td>1247</td>\n",
       "      <td>1</td>\n",
       "      <td>1.2</td>\n",
       "      <td>Asia</td>\n",
       "    </tr>\n",
       "    <tr>\n",
       "      <th>2</th>\n",
       "      <td>Brazil</td>\n",
       "      <td>30261088</td>\n",
       "      <td>662271</td>\n",
       "      <td>30252618</td>\n",
       "      <td>662207</td>\n",
       "      <td>8470</td>\n",
       "      <td>64</td>\n",
       "      <td>2.2</td>\n",
       "      <td>South America</td>\n",
       "    </tr>\n",
       "    <tr>\n",
       "      <th>3</th>\n",
       "      <td>France</td>\n",
       "      <td>27980729</td>\n",
       "      <td>145242</td>\n",
       "      <td>27960919</td>\n",
       "      <td>145194</td>\n",
       "      <td>19810</td>\n",
       "      <td>48</td>\n",
       "      <td>0.5</td>\n",
       "      <td>Europe</td>\n",
       "    </tr>\n",
       "    <tr>\n",
       "      <th>4</th>\n",
       "      <td>Germany</td>\n",
       "      <td>23459628</td>\n",
       "      <td>132960</td>\n",
       "      <td>23437145</td>\n",
       "      <td>132953</td>\n",
       "      <td>22483</td>\n",
       "      <td>7</td>\n",
       "      <td>0.6</td>\n",
       "      <td>Europe</td>\n",
       "    </tr>\n",
       "  </tbody>\n",
       "</table>\n",
       "</div>"
      ],
      "text/plain": [
       "  Country/Region     Cases  Deaths    PCases  PDeaths  Cases (+)  Deaths (+)  \\\n",
       "0             US  80686311  988899  80633315   988641      52996         258   \n",
       "1          India  43045527  521966  43044280   521965       1247           1   \n",
       "2         Brazil  30261088  662271  30252618   662207       8470          64   \n",
       "3         France  27980729  145242  27960919   145194      19810          48   \n",
       "4        Germany  23459628  132960  23437145   132953      22483           7   \n",
       "\n",
       "   Fatality Rate      Continent  \n",
       "0            1.2  North America  \n",
       "1            1.2           Asia  \n",
       "2            2.2  South America  \n",
       "3            0.5         Europe  \n",
       "4            0.6         Europe  "
      ]
     },
     "execution_count": 15,
     "metadata": {},
     "output_type": "execute_result"
    }
   ],
   "source": [
    "#hide\n",
    "df_table = (pd.DataFrame(dict(Cases=dfc_cases, Deaths=dfc_deaths, PCases=dfp_cases, PDeaths=dfp_deaths))\n",
    "             .sort_values(by=['Cases', 'Deaths'], ascending=[False, False])\n",
    "             .reset_index())\n",
    "df_table.rename(columns={'index': 'Country/Region'}, inplace=True)\n",
    "for c in 'Cases, Deaths'.split(', '):\n",
    "    df_table[f'{c} (+)'] = (df_table[c] - df_table[f'P{c}']).clip(0)  # DATA BUG\n",
    "df_table['Fatality Rate'] = (100 * df_table['Deaths'] / df_table['Cases']).round(1)\n",
    "df_table['Continent'] = df_table['Country/Region'].map(mapping['map.continent'])\n",
    "df_table.head(5)"
   ]
  },
  {
   "cell_type": "code",
   "execution_count": 16,
   "id": "fewer-occasion",
   "metadata": {
    "execution": {
     "iopub.execute_input": "2022-04-20T00:39:39.530051Z",
     "iopub.status.busy": "2022-04-20T00:39:39.529211Z",
     "iopub.status.idle": "2022-04-20T00:39:39.531354Z",
     "shell.execute_reply": "2022-04-20T00:39:39.531889Z"
    },
    "papermill": {
     "duration": 0.051563,
     "end_time": "2022-04-20T00:39:39.532052",
     "exception": false,
     "start_time": "2022-04-20T00:39:39.480489",
     "status": "completed"
    },
    "tags": []
   },
   "outputs": [],
   "source": [
    "#hide\n",
    "#delete problematic countries from table\n",
    "df_table = df_table[~df_table['Country/Region'].isin(['Cape Verde', 'Cruise Ship', 'Kosovo'])]"
   ]
  },
  {
   "cell_type": "code",
   "execution_count": 17,
   "id": "related-center",
   "metadata": {
    "execution": {
     "iopub.execute_input": "2022-04-20T00:39:39.637681Z",
     "iopub.status.busy": "2022-04-20T00:39:39.636889Z",
     "iopub.status.idle": "2022-04-20T00:39:39.639334Z",
     "shell.execute_reply": "2022-04-20T00:39:39.639922Z"
    },
    "papermill": {
     "duration": 0.066933,
     "end_time": "2022-04-20T00:39:39.640085",
     "exception": false,
     "start_time": "2022-04-20T00:39:39.573152",
     "status": "completed"
    },
    "tags": []
   },
   "outputs": [],
   "source": [
    "#hide\n",
    "metrics = [df_table.columns[index] for index in [1,2,5,6]]\n",
    "# s_china = df_table[df_table['Country/Region'].eq('China')][metrics].sum().add_prefix('China ')\n",
    "s_us = df_table[df_table['Country/Region'].eq('US')][metrics].sum().add_prefix('US ')\n",
    "s_eu = df_table[df_table['Continent'].eq('Europe')][metrics].sum().add_prefix('EU ')\n",
    "s_ind = df_table[df_table['Country/Region'].eq('India')][metrics].sum().add_prefix('India ')\n",
    "summary = {'updated': pd.to_datetime(dt_today), 'since': pd.to_datetime(dt_yday)}\n",
    "summary = {'updated': pd.to_datetime(dt_today), 'since': pd.to_datetime(dt_yday)}\n",
    "summary = {**summary, **df_table[metrics].sum(), **s_ind, **s_us, **s_eu}"
   ]
  },
  {
   "cell_type": "code",
   "execution_count": 18,
   "id": "engaging-syndrome",
   "metadata": {
    "execution": {
     "iopub.execute_input": "2022-04-20T00:39:39.742655Z",
     "iopub.status.busy": "2022-04-20T00:39:39.741899Z",
     "iopub.status.idle": "2022-04-20T00:39:39.763029Z",
     "shell.execute_reply": "2022-04-20T00:39:39.762373Z"
    },
    "papermill": {
     "duration": 0.079147,
     "end_time": "2022-04-20T00:39:39.763180",
     "exception": false,
     "start_time": "2022-04-20T00:39:39.684033",
     "status": "completed"
    },
    "tags": []
   },
   "outputs": [],
   "source": [
    "#hide\n",
    "dft_ct_new_cases = dft_cases.groupby(COL_REGION)[dt_cols].sum().diff(axis=1).fillna(0).astype(int)"
   ]
  },
  {
   "cell_type": "code",
   "execution_count": 19,
   "id": "neutral-assignment",
   "metadata": {
    "execution": {
     "iopub.execute_input": "2022-04-20T00:39:39.858379Z",
     "iopub.status.busy": "2022-04-20T00:39:39.857574Z",
     "iopub.status.idle": "2022-04-20T00:39:39.860384Z",
     "shell.execute_reply": "2022-04-20T00:39:39.859841Z"
    },
    "papermill": {
     "duration": 0.053135,
     "end_time": "2022-04-20T00:39:39.860523",
     "exception": false,
     "start_time": "2022-04-20T00:39:39.807388",
     "status": "completed"
    },
    "tags": []
   },
   "outputs": [],
   "source": [
    "#hide\n",
    "everydaycases = dft_ct_new_cases.cumsum(axis=1)"
   ]
  },
  {
   "cell_type": "code",
   "execution_count": 20,
   "id": "parliamentary-calgary",
   "metadata": {
    "execution": {
     "iopub.execute_input": "2022-04-20T00:39:39.951416Z",
     "iopub.status.busy": "2022-04-20T00:39:39.950709Z",
     "iopub.status.idle": "2022-04-20T00:39:40.728010Z",
     "shell.execute_reply": "2022-04-20T00:39:40.727377Z"
    },
    "papermill": {
     "duration": 0.824716,
     "end_time": "2022-04-20T00:39:40.728325",
     "exception": false,
     "start_time": "2022-04-20T00:39:39.903609",
     "status": "completed"
    },
    "tags": []
   },
   "outputs": [],
   "source": [
    "#hide\n",
    "import pandas as pd\n",
    "import matplotlib.pyplot as plt\n",
    "import matplotlib.ticker as ticker\n",
    "import matplotlib.animation as animation\n",
    "from IPython.display import HTML"
   ]
  },
  {
   "cell_type": "code",
   "execution_count": 21,
   "id": "lasting-extraction",
   "metadata": {
    "execution": {
     "iopub.execute_input": "2022-04-20T00:39:40.824471Z",
     "iopub.status.busy": "2022-04-20T00:39:40.823713Z",
     "iopub.status.idle": "2022-04-20T00:39:40.831619Z",
     "shell.execute_reply": "2022-04-20T00:39:40.831051Z"
    },
    "papermill": {
     "duration": 0.059178,
     "end_time": "2022-04-20T00:39:40.831762",
     "exception": false,
     "start_time": "2022-04-20T00:39:40.772584",
     "status": "completed"
    },
    "tags": []
   },
   "outputs": [],
   "source": [
    "#hide\n",
    "t = everydaycases.stack()"
   ]
  },
  {
   "cell_type": "code",
   "execution_count": 22,
   "id": "premier-sleeve",
   "metadata": {
    "execution": {
     "iopub.execute_input": "2022-04-20T00:39:40.925493Z",
     "iopub.status.busy": "2022-04-20T00:39:40.923813Z",
     "iopub.status.idle": "2022-04-20T00:39:40.940828Z",
     "shell.execute_reply": "2022-04-20T00:39:40.940200Z"
    },
    "papermill": {
     "duration": 0.065159,
     "end_time": "2022-04-20T00:39:40.941053",
     "exception": false,
     "start_time": "2022-04-20T00:39:40.875894",
     "status": "completed"
    },
    "tags": []
   },
   "outputs": [],
   "source": [
    "#hide\n",
    "g = t.reset_index(['Country/Region'])"
   ]
  },
  {
   "cell_type": "code",
   "execution_count": 23,
   "id": "distributed-pittsburgh",
   "metadata": {
    "execution": {
     "iopub.execute_input": "2022-04-20T00:39:41.035295Z",
     "iopub.status.busy": "2022-04-20T00:39:41.034292Z",
     "iopub.status.idle": "2022-04-20T00:39:41.038955Z",
     "shell.execute_reply": "2022-04-20T00:39:41.038214Z"
    },
    "papermill": {
     "duration": 0.054919,
     "end_time": "2022-04-20T00:39:41.039093",
     "exception": false,
     "start_time": "2022-04-20T00:39:40.984174",
     "status": "completed"
    },
    "tags": []
   },
   "outputs": [],
   "source": [
    "#hide\n",
    "g.index.name = 'date'"
   ]
  },
  {
   "cell_type": "code",
   "execution_count": 24,
   "id": "naked-donor",
   "metadata": {
    "execution": {
     "iopub.execute_input": "2022-04-20T00:39:41.127738Z",
     "iopub.status.busy": "2022-04-20T00:39:41.126660Z",
     "iopub.status.idle": "2022-04-20T00:39:41.128811Z",
     "shell.execute_reply": "2022-04-20T00:39:41.130823Z"
    },
    "papermill": {
     "duration": 0.04978,
     "end_time": "2022-04-20T00:39:41.131000",
     "exception": false,
     "start_time": "2022-04-20T00:39:41.081220",
     "status": "completed"
    },
    "tags": []
   },
   "outputs": [],
   "source": [
    "# #hide\n",
    "# g = g.reset_index(['date'])"
   ]
  },
  {
   "cell_type": "code",
   "execution_count": 25,
   "id": "incomplete-mustang",
   "metadata": {
    "execution": {
     "iopub.execute_input": "2022-04-20T00:39:41.226100Z",
     "iopub.status.busy": "2022-04-20T00:39:41.225409Z",
     "iopub.status.idle": "2022-04-20T00:39:41.228160Z",
     "shell.execute_reply": "2022-04-20T00:39:41.227495Z"
    },
    "papermill": {
     "duration": 0.049718,
     "end_time": "2022-04-20T00:39:41.228297",
     "exception": false,
     "start_time": "2022-04-20T00:39:41.178579",
     "status": "completed"
    },
    "tags": []
   },
   "outputs": [],
   "source": [
    "#hide\n",
    "# g.head()"
   ]
  },
  {
   "cell_type": "code",
   "execution_count": 26,
   "id": "specific-kruger",
   "metadata": {
    "execution": {
     "iopub.execute_input": "2022-04-20T00:39:41.319754Z",
     "iopub.status.busy": "2022-04-20T00:39:41.318933Z",
     "iopub.status.idle": "2022-04-20T00:39:41.322388Z",
     "shell.execute_reply": "2022-04-20T00:39:41.322993Z"
    },
    "papermill": {
     "duration": 0.051698,
     "end_time": "2022-04-20T00:39:41.323164",
     "exception": false,
     "start_time": "2022-04-20T00:39:41.271466",
     "status": "completed"
    },
    "tags": []
   },
   "outputs": [],
   "source": [
    "#hide\n",
    "# g.columns = ['date','country','cases']"
   ]
  },
  {
   "cell_type": "code",
   "execution_count": 27,
   "id": "tender-conversion",
   "metadata": {
    "execution": {
     "iopub.execute_input": "2022-04-20T00:39:41.413369Z",
     "iopub.status.busy": "2022-04-20T00:39:41.412631Z",
     "iopub.status.idle": "2022-04-20T00:39:41.417339Z",
     "shell.execute_reply": "2022-04-20T00:39:41.416785Z"
    },
    "papermill": {
     "duration": 0.051415,
     "end_time": "2022-04-20T00:39:41.417481",
     "exception": false,
     "start_time": "2022-04-20T00:39:41.366066",
     "status": "completed"
    },
    "tags": []
   },
   "outputs": [],
   "source": [
    "#hide\n",
    "# g['continent'] = g.country"
   ]
  },
  {
   "cell_type": "code",
   "execution_count": 28,
   "id": "substantial-wilderness",
   "metadata": {
    "execution": {
     "iopub.execute_input": "2022-04-20T00:39:41.509200Z",
     "iopub.status.busy": "2022-04-20T00:39:41.508517Z",
     "iopub.status.idle": "2022-04-20T00:39:41.511252Z",
     "shell.execute_reply": "2022-04-20T00:39:41.510670Z"
    },
    "papermill": {
     "duration": 0.049838,
     "end_time": "2022-04-20T00:39:41.511406",
     "exception": false,
     "start_time": "2022-04-20T00:39:41.461568",
     "status": "completed"
    },
    "tags": []
   },
   "outputs": [],
   "source": [
    "#hide\n",
    "# cols = list(g.columns.values)"
   ]
  },
  {
   "cell_type": "code",
   "execution_count": 29,
   "id": "solved-farming",
   "metadata": {
    "execution": {
     "iopub.execute_input": "2022-04-20T00:39:41.600635Z",
     "iopub.status.busy": "2022-04-20T00:39:41.599652Z",
     "iopub.status.idle": "2022-04-20T00:39:41.604394Z",
     "shell.execute_reply": "2022-04-20T00:39:41.605160Z"
    },
    "papermill": {
     "duration": 0.05213,
     "end_time": "2022-04-20T00:39:41.605351",
     "exception": false,
     "start_time": "2022-04-20T00:39:41.553221",
     "status": "completed"
    },
    "tags": []
   },
   "outputs": [],
   "source": [
    "#hide\n",
    "# cols.insert(0, cols.pop())"
   ]
  },
  {
   "cell_type": "code",
   "execution_count": 30,
   "id": "executed-adoption",
   "metadata": {
    "execution": {
     "iopub.execute_input": "2022-04-20T00:39:41.694258Z",
     "iopub.status.busy": "2022-04-20T00:39:41.693565Z",
     "iopub.status.idle": "2022-04-20T00:39:41.696262Z",
     "shell.execute_reply": "2022-04-20T00:39:41.695686Z"
    },
    "papermill": {
     "duration": 0.048062,
     "end_time": "2022-04-20T00:39:41.696399",
     "exception": false,
     "start_time": "2022-04-20T00:39:41.648337",
     "status": "completed"
    },
    "tags": []
   },
   "outputs": [],
   "source": [
    "#hide\n",
    "# g = g[cols]"
   ]
  },
  {
   "cell_type": "code",
   "execution_count": 31,
   "id": "subject-dublin",
   "metadata": {
    "execution": {
     "iopub.execute_input": "2022-04-20T00:39:41.792822Z",
     "iopub.status.busy": "2022-04-20T00:39:41.792088Z",
     "iopub.status.idle": "2022-04-20T00:39:41.794869Z",
     "shell.execute_reply": "2022-04-20T00:39:41.794267Z"
    },
    "papermill": {
     "duration": 0.049214,
     "end_time": "2022-04-20T00:39:41.795030",
     "exception": false,
     "start_time": "2022-04-20T00:39:41.745816",
     "status": "completed"
    },
    "tags": []
   },
   "outputs": [],
   "source": [
    "#hide\n",
    "# g['continent'] = g['continent'].map(mapping['map.continent'])"
   ]
  },
  {
   "cell_type": "code",
   "execution_count": 32,
   "id": "freelance-scout",
   "metadata": {
    "execution": {
     "iopub.execute_input": "2022-04-20T00:39:41.884724Z",
     "iopub.status.busy": "2022-04-20T00:39:41.884008Z",
     "iopub.status.idle": "2022-04-20T00:39:41.886837Z",
     "shell.execute_reply": "2022-04-20T00:39:41.886242Z"
    },
    "papermill": {
     "duration": 0.050079,
     "end_time": "2022-04-20T00:39:41.887033",
     "exception": false,
     "start_time": "2022-04-20T00:39:41.836954",
     "status": "completed"
    },
    "tags": []
   },
   "outputs": [],
   "source": [
    "#hide\n",
    "# g.head()"
   ]
  },
  {
   "cell_type": "code",
   "execution_count": 33,
   "id": "limited-engine",
   "metadata": {
    "execution": {
     "iopub.execute_input": "2022-04-20T00:39:41.980559Z",
     "iopub.status.busy": "2022-04-20T00:39:41.979881Z",
     "iopub.status.idle": "2022-04-20T00:39:41.984161Z",
     "shell.execute_reply": "2022-04-20T00:39:41.983496Z"
    },
    "papermill": {
     "duration": 0.051128,
     "end_time": "2022-04-20T00:39:41.984313",
     "exception": false,
     "start_time": "2022-04-20T00:39:41.933185",
     "status": "completed"
    },
    "tags": []
   },
   "outputs": [],
   "source": [
    "# hide\n",
    "# g['date'] = g['date'].astype('datetime64[ns]')"
   ]
  },
  {
   "cell_type": "code",
   "execution_count": 34,
   "id": "sophisticated-supervisor",
   "metadata": {
    "execution": {
     "iopub.execute_input": "2022-04-20T00:39:42.076430Z",
     "iopub.status.busy": "2022-04-20T00:39:42.075593Z",
     "iopub.status.idle": "2022-04-20T00:39:42.077526Z",
     "shell.execute_reply": "2022-04-20T00:39:42.078105Z"
    },
    "papermill": {
     "duration": 0.050325,
     "end_time": "2022-04-20T00:39:42.078274",
     "exception": false,
     "start_time": "2022-04-20T00:39:42.027949",
     "status": "completed"
    },
    "tags": []
   },
   "outputs": [],
   "source": [
    "#hide\n",
    "# g['date'] = g.date.dt.dayofyear"
   ]
  },
  {
   "cell_type": "code",
   "execution_count": 35,
   "id": "inside-dubai",
   "metadata": {
    "execution": {
     "iopub.execute_input": "2022-04-20T00:39:42.165137Z",
     "iopub.status.busy": "2022-04-20T00:39:42.164439Z",
     "iopub.status.idle": "2022-04-20T00:39:42.167011Z",
     "shell.execute_reply": "2022-04-20T00:39:42.167606Z"
    },
    "papermill": {
     "duration": 0.04826,
     "end_time": "2022-04-20T00:39:42.167776",
     "exception": false,
     "start_time": "2022-04-20T00:39:42.119516",
     "status": "completed"
    },
    "tags": []
   },
   "outputs": [],
   "source": [
    "#hide\n",
    "# g = g.rename(columns= {'continent':'group','country':'name','cases':'value'})"
   ]
  },
  {
   "cell_type": "code",
   "execution_count": 36,
   "id": "fleet-motorcycle",
   "metadata": {
    "execution": {
     "iopub.execute_input": "2022-04-20T00:39:42.256245Z",
     "iopub.status.busy": "2022-04-20T00:39:42.255551Z",
     "iopub.status.idle": "2022-04-20T00:39:42.260888Z",
     "shell.execute_reply": "2022-04-20T00:39:42.261918Z"
    },
    "papermill": {
     "duration": 0.052917,
     "end_time": "2022-04-20T00:39:42.262512",
     "exception": false,
     "start_time": "2022-04-20T00:39:42.209595",
     "status": "completed"
    },
    "tags": []
   },
   "outputs": [],
   "source": [
    "#hide\n",
    "# cols = ['name','group','day','value']"
   ]
  },
  {
   "cell_type": "code",
   "execution_count": 37,
   "id": "continued-sleeping",
   "metadata": {
    "execution": {
     "iopub.execute_input": "2022-04-20T00:39:42.375182Z",
     "iopub.status.busy": "2022-04-20T00:39:42.374438Z",
     "iopub.status.idle": "2022-04-20T00:39:42.377153Z",
     "shell.execute_reply": "2022-04-20T00:39:42.376576Z"
    },
    "papermill": {
     "duration": 0.049093,
     "end_time": "2022-04-20T00:39:42.377292",
     "exception": false,
     "start_time": "2022-04-20T00:39:42.328199",
     "status": "completed"
    },
    "tags": []
   },
   "outputs": [],
   "source": [
    "#hide\n",
    "# g.rename(columns= {'date':'day'},inplace = True)"
   ]
  },
  {
   "cell_type": "code",
   "execution_count": 38,
   "id": "major-fight",
   "metadata": {
    "execution": {
     "iopub.execute_input": "2022-04-20T00:39:42.478210Z",
     "iopub.status.busy": "2022-04-20T00:39:42.477487Z",
     "iopub.status.idle": "2022-04-20T00:39:42.480332Z",
     "shell.execute_reply": "2022-04-20T00:39:42.479656Z"
    },
    "papermill": {
     "duration": 0.049989,
     "end_time": "2022-04-20T00:39:42.480471",
     "exception": false,
     "start_time": "2022-04-20T00:39:42.430482",
     "status": "completed"
    },
    "tags": []
   },
   "outputs": [],
   "source": [
    "#hide\n",
    "# g = g[cols]"
   ]
  },
  {
   "cell_type": "code",
   "execution_count": 39,
   "id": "structured-mobile",
   "metadata": {
    "execution": {
     "iopub.execute_input": "2022-04-20T00:39:42.567246Z",
     "iopub.status.busy": "2022-04-20T00:39:42.566517Z",
     "iopub.status.idle": "2022-04-20T00:39:42.569076Z",
     "shell.execute_reply": "2022-04-20T00:39:42.568399Z"
    },
    "papermill": {
     "duration": 0.047026,
     "end_time": "2022-04-20T00:39:42.569215",
     "exception": false,
     "start_time": "2022-04-20T00:39:42.522189",
     "status": "completed"
    },
    "tags": []
   },
   "outputs": [],
   "source": [
    "# #hide\n",
    "# g = g[g.group.notna()]"
   ]
  },
  {
   "cell_type": "code",
   "execution_count": 40,
   "id": "determined-closing",
   "metadata": {
    "execution": {
     "iopub.execute_input": "2022-04-20T00:39:42.656794Z",
     "iopub.status.busy": "2022-04-20T00:39:42.656085Z",
     "iopub.status.idle": "2022-04-20T00:39:42.658882Z",
     "shell.execute_reply": "2022-04-20T00:39:42.658224Z"
    },
    "papermill": {
     "duration": 0.048084,
     "end_time": "2022-04-20T00:39:42.659073",
     "exception": false,
     "start_time": "2022-04-20T00:39:42.610989",
     "status": "completed"
    },
    "tags": []
   },
   "outputs": [],
   "source": [
    "# #hide\n",
    "# colors = dict(zip(\n",
    "#     [\"Oceania\", \"Europe\", \"Asia\", \"South America\", \"Middle East\", \"North America\", \"Africa\"],\n",
    "#     [\"#adb0ff\", \"#ffb3ff\", \"#90d595\", \"#e48381\", \"#aafbff\", \"#f7bb5f\", \"#eafb50\"]\n",
    "# ))\n",
    "# group_lk = g.set_index('name')['group'].to_dict()"
   ]
  },
  {
   "cell_type": "code",
   "execution_count": null,
   "id": "gross-drinking",
   "metadata": {
    "papermill": {
     "duration": 0.041513,
     "end_time": "2022-04-20T00:39:42.742735",
     "exception": false,
     "start_time": "2022-04-20T00:39:42.701222",
     "status": "completed"
    },
    "tags": []
   },
   "outputs": [],
   "source": []
  },
  {
   "cell_type": "code",
   "execution_count": 41,
   "id": "subject-macintosh",
   "metadata": {
    "execution": {
     "iopub.execute_input": "2022-04-20T00:39:42.832276Z",
     "iopub.status.busy": "2022-04-20T00:39:42.831575Z",
     "iopub.status.idle": "2022-04-20T00:39:42.833987Z",
     "shell.execute_reply": "2022-04-20T00:39:42.834662Z"
    },
    "papermill": {
     "duration": 0.050654,
     "end_time": "2022-04-20T00:39:42.834860",
     "exception": false,
     "start_time": "2022-04-20T00:39:42.784206",
     "status": "completed"
    },
    "tags": []
   },
   "outputs": [],
   "source": [
    "# #hide\n",
    "# fig, ax = plt.subplots(figsize=(15, 8))\n",
    "\n",
    "# def draw_barchart(current_day):\n",
    "#     dff = g[g['day'].eq(current_day)].sort_values(by='value', ascending=True).tail(10)\n",
    "#     ax.clear()\n",
    "#     ax.barh(dff['name'], dff['value'], color=[colors[group_lk[x]] for x in dff['name']])\n",
    "#     dx = dff['value'].max() / 200\n",
    "    \n",
    "#     for i, (value, name) in enumerate(zip(dff['value'], dff['name'])):\n",
    "#         ax.text(value-dx, i,     name,           size=14, weight=600, ha='right', va='bottom')\n",
    "#         ax.text(value-dx, i-.25, group_lk[name], size=10, color='#444444', ha='right', va='baseline')\n",
    "#         ax.text(value+dx, i,     f'{value:,.0f}',  size=14, ha='left',  va='center')\n",
    "#     ax.text(1, 0.4, current_day, transform=ax.transAxes, color='#777777', size=46, ha='right', weight=800)\n",
    "#     ax.text(0, 1.06, 'Population (thousands)', transform=ax.transAxes, size=12, color='#777777')\n",
    "#     ax.xaxis.set_major_formatter(ticker.StrMethodFormatter('{x:,.0f}'))\n",
    "#     ax.xaxis.set_ticks_position('top')\n",
    "#     ax.tick_params(axis='x', colors='#777777', labelsize=12)\n",
    "#     ax.set_yticks([])\n",
    "#     ax.margins(0, 0.01)\n",
    "#     ax.grid(which='major', axis='x', linestyle='-')\n",
    "#     ax.set_axisbelow(True)\n",
    "    \n",
    "#     ax.text(0, 1.15, 'Coronavirus',\n",
    "#             transform=ax.transAxes, size=24, weight=600, ha='left', va='top')\n",
    "# #     ax.text(1, 0, 'by @pratapvardhan; credit @jburnmurdoch', transform=ax.transAxes, color='#777777', ha='right',\n",
    "# #             bbox=dict(facecolor='white', alpha=0.8, edgecolor='white'))\n",
    "#     plt.box(False)"
   ]
  },
  {
   "cell_type": "code",
   "execution_count": 42,
   "id": "sexual-wages",
   "metadata": {
    "execution": {
     "iopub.execute_input": "2022-04-20T00:39:42.923357Z",
     "iopub.status.busy": "2022-04-20T00:39:42.922583Z",
     "iopub.status.idle": "2022-04-20T00:39:42.925699Z",
     "shell.execute_reply": "2022-04-20T00:39:42.926226Z"
    },
    "papermill": {
     "duration": 0.050457,
     "end_time": "2022-04-20T00:39:42.926386",
     "exception": false,
     "start_time": "2022-04-20T00:39:42.875929",
     "status": "completed"
    },
    "tags": []
   },
   "outputs": [],
   "source": [
    "# #hide_input\n",
    "# fig, ax = plt.subplots(figsize=(15, 8))\n",
    "# animator = animation.FuncAnimation(fig, draw_barchart, frames=range(g.day.values.min(), g.day.values.max()))\n",
    "# HTML(animator.to_jshtml())\n",
    "# # or use animator.to_html5_video() or animator.save() "
   ]
  },
  {
   "cell_type": "code",
   "execution_count": null,
   "id": "australian-container",
   "metadata": {
    "papermill": {
     "duration": 0.042368,
     "end_time": "2022-04-20T00:39:43.012243",
     "exception": false,
     "start_time": "2022-04-20T00:39:42.969875",
     "status": "completed"
    },
    "tags": []
   },
   "outputs": [],
   "source": []
  },
  {
   "cell_type": "code",
   "execution_count": null,
   "id": "mediterranean-pontiac",
   "metadata": {
    "papermill": {
     "duration": 0.042462,
     "end_time": "2022-04-20T00:39:43.098100",
     "exception": false,
     "start_time": "2022-04-20T00:39:43.055638",
     "status": "completed"
    },
    "tags": []
   },
   "outputs": [],
   "source": []
  },
  {
   "cell_type": "code",
   "execution_count": null,
   "id": "aging-legislature",
   "metadata": {
    "papermill": {
     "duration": 0.04209,
     "end_time": "2022-04-20T00:39:43.183005",
     "exception": false,
     "start_time": "2022-04-20T00:39:43.140915",
     "status": "completed"
    },
    "tags": []
   },
   "outputs": [],
   "source": []
  }
 ],
 "metadata": {
  "kernelspec": {
   "display_name": "Python 3",
   "language": "python",
   "name": "python3"
  },
  "language_info": {
   "codemirror_mode": {
    "name": "ipython",
    "version": 3
   },
   "file_extension": ".py",
   "mimetype": "text/x-python",
   "name": "python",
   "nbconvert_exporter": "python",
   "pygments_lexer": "ipython3",
   "version": "3.6.15"
  },
  "papermill": {
   "duration": 7.797355,
   "end_time": "2022-04-20T00:39:43.547198",
   "environment_variables": {},
   "exception": null,
   "input_path": "2020-03-21-covid19exp.ipynb",
   "output_path": "2020-03-21-covid19exp.ipynb",
   "parameters": {},
   "start_time": "2022-04-20T00:39:35.749843",
   "version": "2.0.0"
  }
 },
 "nbformat": 4,
 "nbformat_minor": 5
}