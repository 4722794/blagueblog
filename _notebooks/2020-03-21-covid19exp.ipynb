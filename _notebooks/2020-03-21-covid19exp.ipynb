{
 "cells": [
  {
   "cell_type": "markdown",
   "id": "muslim-click",
   "metadata": {
    "papermill": {
     "duration": 0.046687,
     "end_time": "2021-10-07T00:23:37.934190",
     "exception": false,
     "start_time": "2021-10-07T00:23:37.887503",
     "status": "completed"
    },
    "tags": []
   },
   "source": [
    "# COVID-19 Case Race\n",
    "> A race chart to see rising cases around the world\n",
    "\n",
    "- author: Hargun Oberoi\n",
    "- image: images/covid-overview.png\n",
    "- hide: false\n",
    "- badges: false"
   ]
  },
  {
   "cell_type": "code",
   "execution_count": 1,
   "id": "proof-material",
   "metadata": {
    "execution": {
     "iopub.execute_input": "2021-10-07T00:23:38.034659Z",
     "iopub.status.busy": "2021-10-07T00:23:38.033774Z",
     "iopub.status.idle": "2021-10-07T00:23:38.459491Z",
     "shell.execute_reply": "2021-10-07T00:23:38.458885Z"
    },
    "papermill": {
     "duration": 0.484248,
     "end_time": "2021-10-07T00:23:38.459677",
     "exception": false,
     "start_time": "2021-10-07T00:23:37.975429",
     "status": "completed"
    },
    "tags": []
   },
   "outputs": [],
   "source": [
    "#hide\n",
    "import numpy as np\n",
    "import pandas as pd\n",
    "from jinja2 import Template\n",
    "from IPython.display import HTML"
   ]
  },
  {
   "cell_type": "code",
   "execution_count": 2,
   "id": "developed-terminology",
   "metadata": {
    "execution": {
     "iopub.execute_input": "2021-10-07T00:23:38.555486Z",
     "iopub.status.busy": "2021-10-07T00:23:38.553895Z",
     "iopub.status.idle": "2021-10-07T00:23:38.556353Z",
     "shell.execute_reply": "2021-10-07T00:23:38.556899Z"
    },
    "papermill": {
     "duration": 0.055975,
     "end_time": "2021-10-07T00:23:38.557041",
     "exception": false,
     "start_time": "2021-10-07T00:23:38.501066",
     "status": "completed"
    },
    "tags": []
   },
   "outputs": [],
   "source": [
    "#hide\n",
    "\n",
    "# FETCH\n",
    "base_url = 'https://raw.githubusercontent.com/pratapvardhan/notebooks/master/covid19/'\n",
    "paths = {\n",
    "    'mapping': base_url + 'mapping_countries.csv',\n",
    "    'overview': base_url + 'overview.tpl'\n",
    "}"
   ]
  },
  {
   "cell_type": "code",
   "execution_count": 3,
   "id": "dynamic-saver",
   "metadata": {
    "execution": {
     "iopub.execute_input": "2021-10-07T00:23:38.653033Z",
     "iopub.status.busy": "2021-10-07T00:23:38.651903Z",
     "iopub.status.idle": "2021-10-07T00:23:38.654923Z",
     "shell.execute_reply": "2021-10-07T00:23:38.655561Z"
    },
    "papermill": {
     "duration": 0.053121,
     "end_time": "2021-10-07T00:23:38.655704",
     "exception": false,
     "start_time": "2021-10-07T00:23:38.602583",
     "status": "completed"
    },
    "tags": []
   },
   "outputs": [
    {
     "data": {
      "text/plain": [
       "'https://raw.githubusercontent.com/pratapvardhan/notebooks/master/covid19/mapping_countries.csv'"
      ]
     },
     "execution_count": 3,
     "metadata": {},
     "output_type": "execute_result"
    }
   ],
   "source": [
    "#hide\n",
    "paths['mapping']"
   ]
  },
  {
   "cell_type": "code",
   "execution_count": 4,
   "id": "urban-software",
   "metadata": {
    "execution": {
     "iopub.execute_input": "2021-10-07T00:23:38.743940Z",
     "iopub.status.busy": "2021-10-07T00:23:38.743260Z",
     "iopub.status.idle": "2021-10-07T00:23:38.746052Z",
     "shell.execute_reply": "2021-10-07T00:23:38.745351Z"
    },
    "papermill": {
     "duration": 0.049587,
     "end_time": "2021-10-07T00:23:38.746184",
     "exception": false,
     "start_time": "2021-10-07T00:23:38.696597",
     "status": "completed"
    },
    "tags": []
   },
   "outputs": [],
   "source": [
    "#hide\n",
    "def get_mappings(url):\n",
    "    df = pd.read_csv(url)\n",
    "    return {\n",
    "        'df': df,\n",
    "        'replace.country': dict(df.dropna(subset=['Name']).set_index('Country')['Name']),\n",
    "        'map.continent': dict(df.set_index('Name')['Continent'])\n",
    "    }"
   ]
  },
  {
   "cell_type": "code",
   "execution_count": 5,
   "id": "intimate-machinery",
   "metadata": {
    "execution": {
     "iopub.execute_input": "2021-10-07T00:23:38.839419Z",
     "iopub.status.busy": "2021-10-07T00:23:38.838770Z",
     "iopub.status.idle": "2021-10-07T00:23:38.872320Z",
     "shell.execute_reply": "2021-10-07T00:23:38.871509Z"
    },
    "papermill": {
     "duration": 0.085258,
     "end_time": "2021-10-07T00:23:38.872454",
     "exception": false,
     "start_time": "2021-10-07T00:23:38.787196",
     "status": "completed"
    },
    "tags": []
   },
   "outputs": [],
   "source": [
    "#hide\n",
    "mapping = get_mappings(paths['mapping'])"
   ]
  },
  {
   "cell_type": "code",
   "execution_count": 6,
   "id": "certified-tactics",
   "metadata": {
    "execution": {
     "iopub.execute_input": "2021-10-07T00:23:38.960259Z",
     "iopub.status.busy": "2021-10-07T00:23:38.959353Z",
     "iopub.status.idle": "2021-10-07T00:23:38.962228Z",
     "shell.execute_reply": "2021-10-07T00:23:38.961409Z"
    },
    "papermill": {
     "duration": 0.049394,
     "end_time": "2021-10-07T00:23:38.962457",
     "exception": false,
     "start_time": "2021-10-07T00:23:38.913063",
     "status": "completed"
    },
    "tags": []
   },
   "outputs": [],
   "source": [
    "#hide\n",
    "def get_template(path):\n",
    "    from urllib.parse import urlparse\n",
    "    if bool(urlparse(path).netloc):\n",
    "        from urllib.request import urlopen\n",
    "        return urlopen(path).read().decode('utf8')\n",
    "    return open(path).read()"
   ]
  },
  {
   "cell_type": "code",
   "execution_count": 7,
   "id": "realistic-blast",
   "metadata": {
    "execution": {
     "iopub.execute_input": "2021-10-07T00:23:39.050746Z",
     "iopub.status.busy": "2021-10-07T00:23:39.050055Z",
     "iopub.status.idle": "2021-10-07T00:23:39.052654Z",
     "shell.execute_reply": "2021-10-07T00:23:39.051866Z"
    },
    "papermill": {
     "duration": 0.049673,
     "end_time": "2021-10-07T00:23:39.052788",
     "exception": false,
     "start_time": "2021-10-07T00:23:39.003115",
     "status": "completed"
    },
    "tags": []
   },
   "outputs": [],
   "source": [
    "#hide\n",
    "def get_frame(name):\n",
    "    url = (\n",
    "        'https://raw.githubusercontent.com/CSSEGISandData/COVID-19/master/csse_covid_19_data/'\n",
    "        f'csse_covid_19_time_series/time_series_covid19_{name}_global.csv')\n",
    "    df = pd.read_csv(url)\n",
    "    # rename countries\n",
    "    df['Country/Region'] = df['Country/Region'].replace(mapping['replace.country'])\n",
    "    return df"
   ]
  },
  {
   "cell_type": "code",
   "execution_count": 8,
   "id": "affiliated-characterization",
   "metadata": {
    "execution": {
     "iopub.execute_input": "2021-10-07T00:23:39.139954Z",
     "iopub.status.busy": "2021-10-07T00:23:39.139221Z",
     "iopub.status.idle": "2021-10-07T00:23:39.141835Z",
     "shell.execute_reply": "2021-10-07T00:23:39.142489Z"
    },
    "papermill": {
     "duration": 0.049445,
     "end_time": "2021-10-07T00:23:39.142630",
     "exception": false,
     "start_time": "2021-10-07T00:23:39.093185",
     "status": "completed"
    },
    "tags": []
   },
   "outputs": [],
   "source": [
    "#hide\n",
    "def get_dates(df):\n",
    "    dt_cols = df.columns[~df.columns.isin(['Province/State', 'Country/Region', 'Lat', 'Long'])]\n",
    "    LAST_DATE_I = -1\n",
    "    # sometimes last column may be empty, then go backwards\n",
    "    for i in range(-1, -len(dt_cols), -1):\n",
    "        if not df[dt_cols[i]].fillna(0).eq(0).all():\n",
    "            LAST_DATE_I = i\n",
    "            break\n",
    "    return LAST_DATE_I, dt_cols"
   ]
  },
  {
   "cell_type": "code",
   "execution_count": 9,
   "id": "recent-optimization",
   "metadata": {
    "execution": {
     "iopub.execute_input": "2021-10-07T00:23:39.233763Z",
     "iopub.status.busy": "2021-10-07T00:23:39.233058Z",
     "iopub.status.idle": "2021-10-07T00:23:39.609545Z",
     "shell.execute_reply": "2021-10-07T00:23:39.608976Z"
    },
    "papermill": {
     "duration": 0.421287,
     "end_time": "2021-10-07T00:23:39.609686",
     "exception": false,
     "start_time": "2021-10-07T00:23:39.188399",
     "status": "completed"
    },
    "tags": []
   },
   "outputs": [],
   "source": [
    "#hide\n",
    "COL_REGION = 'Country/Region'\n",
    "# Confirmed, Recovered, Deaths\n",
    "df = get_frame('confirmed')\n",
    "# dft_: timeseries, dfc_: today country agg\n",
    "dft_cases = df\n",
    "dft_deaths = get_frame('deaths')\n",
    "dft_recovered = get_frame('recovered')\n",
    "LAST_DATE_I, dt_cols = get_dates(df)"
   ]
  },
  {
   "cell_type": "code",
   "execution_count": 10,
   "id": "absolute-copper",
   "metadata": {
    "execution": {
     "iopub.execute_input": "2021-10-07T00:23:39.698762Z",
     "iopub.status.busy": "2021-10-07T00:23:39.697119Z",
     "iopub.status.idle": "2021-10-07T00:23:39.699525Z",
     "shell.execute_reply": "2021-10-07T00:23:39.700044Z"
    },
    "papermill": {
     "duration": 0.048589,
     "end_time": "2021-10-07T00:23:39.700258",
     "exception": false,
     "start_time": "2021-10-07T00:23:39.651669",
     "status": "completed"
    },
    "tags": []
   },
   "outputs": [],
   "source": [
    "#hide\n",
    "LAST_DATE_I, dt_cols = get_dates(df)\n",
    "dt_today =dt_cols[LAST_DATE_I]\n",
    "# dt_5day = dt_cols[LAST_DATE_I - 5]\n",
    "dt_yday = dt_cols[LAST_DATE_I - 1]"
   ]
  },
  {
   "cell_type": "code",
   "execution_count": 11,
   "id": "restricted-sheriff",
   "metadata": {
    "execution": {
     "iopub.execute_input": "2021-10-07T00:23:39.786603Z",
     "iopub.status.busy": "2021-10-07T00:23:39.785884Z",
     "iopub.status.idle": "2021-10-07T00:23:39.794639Z",
     "shell.execute_reply": "2021-10-07T00:23:39.795197Z"
    },
    "papermill": {
     "duration": 0.056097,
     "end_time": "2021-10-07T00:23:39.795348",
     "exception": false,
     "start_time": "2021-10-07T00:23:39.739251",
     "status": "completed"
    },
    "tags": []
   },
   "outputs": [],
   "source": [
    "#hide\n",
    "dfc_cases = dft_cases.groupby(COL_REGION)[dt_today].sum()\n",
    "dfc_deaths = dft_deaths.groupby(COL_REGION)[dt_today].sum()\n",
    "# dfp_cases = dft_cases.groupby(COL_REGION)[dt_5day].sum()\n",
    "# dfp_deaths = dft_deaths.groupby(COL_REGION)[dt_5day].sum()\n",
    "dfp_cases = dft_cases.groupby(COL_REGION)[dt_yday].sum()\n",
    "dfp_deaths = dft_deaths.groupby(COL_REGION)[dt_yday].sum()"
   ]
  },
  {
   "cell_type": "code",
   "execution_count": 12,
   "id": "deluxe-hepatitis",
   "metadata": {
    "execution": {
     "iopub.execute_input": "2021-10-07T00:23:39.883396Z",
     "iopub.status.busy": "2021-10-07T00:23:39.882737Z",
     "iopub.status.idle": "2021-10-07T00:23:39.887961Z",
     "shell.execute_reply": "2021-10-07T00:23:39.888532Z"
    },
    "papermill": {
     "duration": 0.055362,
     "end_time": "2021-10-07T00:23:39.888685",
     "exception": false,
     "start_time": "2021-10-07T00:23:39.833323",
     "status": "completed"
    },
    "tags": []
   },
   "outputs": [],
   "source": [
    "#hide\n",
    "df_table = (pd.DataFrame(dict(Cases = dfc_cases, Deaths = dfc_deaths, PCases = dfp_cases, PDeaths = dfp_deaths))\n",
    "            .sort_values(by = ['Cases','Deaths'], ascending = [False, False])\n",
    "            .reset_index())"
   ]
  },
  {
   "cell_type": "code",
   "execution_count": 13,
   "id": "educational-chancellor",
   "metadata": {
    "execution": {
     "iopub.execute_input": "2021-10-07T00:23:39.991071Z",
     "iopub.status.busy": "2021-10-07T00:23:39.990480Z",
     "iopub.status.idle": "2021-10-07T00:23:40.000395Z",
     "shell.execute_reply": "2021-10-07T00:23:40.000954Z"
    },
    "papermill": {
     "duration": 0.07484,
     "end_time": "2021-10-07T00:23:40.001098",
     "exception": false,
     "start_time": "2021-10-07T00:23:39.926258",
     "status": "completed"
    },
    "tags": []
   },
   "outputs": [
    {
     "data": {
      "text/html": [
       "<div>\n",
       "<style scoped>\n",
       "    .dataframe tbody tr th:only-of-type {\n",
       "        vertical-align: middle;\n",
       "    }\n",
       "\n",
       "    .dataframe tbody tr th {\n",
       "        vertical-align: top;\n",
       "    }\n",
       "\n",
       "    .dataframe thead th {\n",
       "        text-align: right;\n",
       "    }\n",
       "</style>\n",
       "<table border=\"1\" class=\"dataframe\">\n",
       "  <thead>\n",
       "    <tr style=\"text-align: right;\">\n",
       "      <th></th>\n",
       "      <th>Country/Region</th>\n",
       "      <th>Cases</th>\n",
       "      <th>Deaths</th>\n",
       "      <th>PCases</th>\n",
       "      <th>PDeaths</th>\n",
       "      <th>Cases (+)</th>\n",
       "      <th>Deaths (+)</th>\n",
       "      <th>Fatality Rate</th>\n",
       "      <th>Continent</th>\n",
       "    </tr>\n",
       "  </thead>\n",
       "  <tbody>\n",
       "    <tr>\n",
       "      <th>0</th>\n",
       "      <td>US</td>\n",
       "      <td>43947324</td>\n",
       "      <td>705225</td>\n",
       "      <td>43852255</td>\n",
       "      <td>703495</td>\n",
       "      <td>95069</td>\n",
       "      <td>1730</td>\n",
       "      <td>1.60</td>\n",
       "      <td>North America</td>\n",
       "    </tr>\n",
       "    <tr>\n",
       "      <th>1</th>\n",
       "      <td>India</td>\n",
       "      <td>33871881</td>\n",
       "      <td>449538</td>\n",
       "      <td>33853048</td>\n",
       "      <td>449260</td>\n",
       "      <td>18833</td>\n",
       "      <td>278</td>\n",
       "      <td>1.33</td>\n",
       "      <td>Asia</td>\n",
       "    </tr>\n",
       "    <tr>\n",
       "      <th>2</th>\n",
       "      <td>Brazil</td>\n",
       "      <td>21499074</td>\n",
       "      <td>598829</td>\n",
       "      <td>21478546</td>\n",
       "      <td>598152</td>\n",
       "      <td>20528</td>\n",
       "      <td>677</td>\n",
       "      <td>2.79</td>\n",
       "      <td>South America</td>\n",
       "    </tr>\n",
       "    <tr>\n",
       "      <th>3</th>\n",
       "      <td>United Kingdom</td>\n",
       "      <td>8005502</td>\n",
       "      <td>137544</td>\n",
       "      <td>7972312</td>\n",
       "      <td>137378</td>\n",
       "      <td>33190</td>\n",
       "      <td>166</td>\n",
       "      <td>1.72</td>\n",
       "      <td>Europe</td>\n",
       "    </tr>\n",
       "    <tr>\n",
       "      <th>4</th>\n",
       "      <td>Russia</td>\n",
       "      <td>7524465</td>\n",
       "      <td>207932</td>\n",
       "      <td>7500000</td>\n",
       "      <td>207056</td>\n",
       "      <td>24465</td>\n",
       "      <td>876</td>\n",
       "      <td>2.76</td>\n",
       "      <td>Europe</td>\n",
       "    </tr>\n",
       "  </tbody>\n",
       "</table>\n",
       "</div>"
      ],
      "text/plain": [
       "   Country/Region     Cases  Deaths    PCases  PDeaths  Cases (+)  Deaths (+)  \\\n",
       "0              US  43947324  705225  43852255   703495      95069        1730   \n",
       "1           India  33871881  449538  33853048   449260      18833         278   \n",
       "2          Brazil  21499074  598829  21478546   598152      20528         677   \n",
       "3  United Kingdom   8005502  137544   7972312   137378      33190         166   \n",
       "4          Russia   7524465  207932   7500000   207056      24465         876   \n",
       "\n",
       "   Fatality Rate      Continent  \n",
       "0           1.60  North America  \n",
       "1           1.33           Asia  \n",
       "2           2.79  South America  \n",
       "3           1.72         Europe  \n",
       "4           2.76         Europe  "
      ]
     },
     "execution_count": 13,
     "metadata": {},
     "output_type": "execute_result"
    }
   ],
   "source": [
    "#hide\n",
    "for c in 'Cases, Deaths'.split(', '):\n",
    "    df_table[f'{c} (+)'] = (df_table[c] - df_table[f'P{c}']).clip(0)\n",
    "    #Clip ça veut dire, les chiffres negatif sont interdit\n",
    "df_table['Fatality Rate'] = (100* df_table['Deaths']/ df_table['Cases']).round(2)\n",
    "df_table['Continent'] = df_table['Country/Region'].map(mapping['map.continent'])\n",
    "df_table.head(5)"
   ]
  },
  {
   "cell_type": "code",
   "execution_count": 14,
   "id": "aboriginal-bulgaria",
   "metadata": {
    "execution": {
     "iopub.execute_input": "2021-10-07T00:23:40.097689Z",
     "iopub.status.busy": "2021-10-07T00:23:40.097021Z",
     "iopub.status.idle": "2021-10-07T00:23:40.100507Z",
     "shell.execute_reply": "2021-10-07T00:23:40.101252Z"
    },
    "papermill": {
     "duration": 0.059946,
     "end_time": "2021-10-07T00:23:40.101416",
     "exception": false,
     "start_time": "2021-10-07T00:23:40.041470",
     "status": "completed"
    },
    "tags": []
   },
   "outputs": [],
   "source": [
    "#hide\n",
    "#delete problematic countries from table\n",
    "df_table = df_table[~df_table['Country/Region'].isin(['Cape Verde', 'Cruise Ship', 'Kosovo'])]"
   ]
  },
  {
   "cell_type": "code",
   "execution_count": 15,
   "id": "fantastic-effect",
   "metadata": {
    "execution": {
     "iopub.execute_input": "2021-10-07T00:23:40.194298Z",
     "iopub.status.busy": "2021-10-07T00:23:40.193587Z",
     "iopub.status.idle": "2021-10-07T00:23:40.218416Z",
     "shell.execute_reply": "2021-10-07T00:23:40.217843Z"
    },
    "papermill": {
     "duration": 0.076421,
     "end_time": "2021-10-07T00:23:40.218557",
     "exception": false,
     "start_time": "2021-10-07T00:23:40.142136",
     "status": "completed"
    },
    "tags": []
   },
   "outputs": [
    {
     "data": {
      "text/html": [
       "<div>\n",
       "<style scoped>\n",
       "    .dataframe tbody tr th:only-of-type {\n",
       "        vertical-align: middle;\n",
       "    }\n",
       "\n",
       "    .dataframe tbody tr th {\n",
       "        vertical-align: top;\n",
       "    }\n",
       "\n",
       "    .dataframe thead th {\n",
       "        text-align: right;\n",
       "    }\n",
       "</style>\n",
       "<table border=\"1\" class=\"dataframe\">\n",
       "  <thead>\n",
       "    <tr style=\"text-align: right;\">\n",
       "      <th></th>\n",
       "      <th>Country/Region</th>\n",
       "      <th>Cases</th>\n",
       "      <th>Deaths</th>\n",
       "      <th>PCases</th>\n",
       "      <th>PDeaths</th>\n",
       "      <th>Cases (+)</th>\n",
       "      <th>Deaths (+)</th>\n",
       "      <th>Fatality Rate</th>\n",
       "      <th>Continent</th>\n",
       "    </tr>\n",
       "  </thead>\n",
       "  <tbody>\n",
       "    <tr>\n",
       "      <th>0</th>\n",
       "      <td>US</td>\n",
       "      <td>43947324</td>\n",
       "      <td>705225</td>\n",
       "      <td>43852255</td>\n",
       "      <td>703495</td>\n",
       "      <td>95069</td>\n",
       "      <td>1730</td>\n",
       "      <td>1.6</td>\n",
       "      <td>North America</td>\n",
       "    </tr>\n",
       "    <tr>\n",
       "      <th>1</th>\n",
       "      <td>India</td>\n",
       "      <td>33871881</td>\n",
       "      <td>449538</td>\n",
       "      <td>33853048</td>\n",
       "      <td>449260</td>\n",
       "      <td>18833</td>\n",
       "      <td>278</td>\n",
       "      <td>1.3</td>\n",
       "      <td>Asia</td>\n",
       "    </tr>\n",
       "    <tr>\n",
       "      <th>2</th>\n",
       "      <td>Brazil</td>\n",
       "      <td>21499074</td>\n",
       "      <td>598829</td>\n",
       "      <td>21478546</td>\n",
       "      <td>598152</td>\n",
       "      <td>20528</td>\n",
       "      <td>677</td>\n",
       "      <td>2.8</td>\n",
       "      <td>South America</td>\n",
       "    </tr>\n",
       "    <tr>\n",
       "      <th>3</th>\n",
       "      <td>United Kingdom</td>\n",
       "      <td>8005502</td>\n",
       "      <td>137544</td>\n",
       "      <td>7972312</td>\n",
       "      <td>137378</td>\n",
       "      <td>33190</td>\n",
       "      <td>166</td>\n",
       "      <td>1.7</td>\n",
       "      <td>Europe</td>\n",
       "    </tr>\n",
       "    <tr>\n",
       "      <th>4</th>\n",
       "      <td>Russia</td>\n",
       "      <td>7524465</td>\n",
       "      <td>207932</td>\n",
       "      <td>7500000</td>\n",
       "      <td>207056</td>\n",
       "      <td>24465</td>\n",
       "      <td>876</td>\n",
       "      <td>2.8</td>\n",
       "      <td>Europe</td>\n",
       "    </tr>\n",
       "  </tbody>\n",
       "</table>\n",
       "</div>"
      ],
      "text/plain": [
       "   Country/Region     Cases  Deaths    PCases  PDeaths  Cases (+)  Deaths (+)  \\\n",
       "0              US  43947324  705225  43852255   703495      95069        1730   \n",
       "1           India  33871881  449538  33853048   449260      18833         278   \n",
       "2          Brazil  21499074  598829  21478546   598152      20528         677   \n",
       "3  United Kingdom   8005502  137544   7972312   137378      33190         166   \n",
       "4          Russia   7524465  207932   7500000   207056      24465         876   \n",
       "\n",
       "   Fatality Rate      Continent  \n",
       "0            1.6  North America  \n",
       "1            1.3           Asia  \n",
       "2            2.8  South America  \n",
       "3            1.7         Europe  \n",
       "4            2.8         Europe  "
      ]
     },
     "execution_count": 15,
     "metadata": {},
     "output_type": "execute_result"
    }
   ],
   "source": [
    "#hide\n",
    "df_table = (pd.DataFrame(dict(Cases=dfc_cases, Deaths=dfc_deaths, PCases=dfp_cases, PDeaths=dfp_deaths))\n",
    "             .sort_values(by=['Cases', 'Deaths'], ascending=[False, False])\n",
    "             .reset_index())\n",
    "df_table.rename(columns={'index': 'Country/Region'}, inplace=True)\n",
    "for c in 'Cases, Deaths'.split(', '):\n",
    "    df_table[f'{c} (+)'] = (df_table[c] - df_table[f'P{c}']).clip(0)  # DATA BUG\n",
    "df_table['Fatality Rate'] = (100 * df_table['Deaths'] / df_table['Cases']).round(1)\n",
    "df_table['Continent'] = df_table['Country/Region'].map(mapping['map.continent'])\n",
    "df_table.head(5)"
   ]
  },
  {
   "cell_type": "code",
   "execution_count": 16,
   "id": "fewer-occasion",
   "metadata": {
    "execution": {
     "iopub.execute_input": "2021-10-07T00:23:40.303888Z",
     "iopub.status.busy": "2021-10-07T00:23:40.303084Z",
     "iopub.status.idle": "2021-10-07T00:23:40.308498Z",
     "shell.execute_reply": "2021-10-07T00:23:40.309115Z"
    },
    "papermill": {
     "duration": 0.050463,
     "end_time": "2021-10-07T00:23:40.309278",
     "exception": false,
     "start_time": "2021-10-07T00:23:40.258815",
     "status": "completed"
    },
    "tags": []
   },
   "outputs": [],
   "source": [
    "#hide\n",
    "#delete problematic countries from table\n",
    "df_table = df_table[~df_table['Country/Region'].isin(['Cape Verde', 'Cruise Ship', 'Kosovo'])]"
   ]
  },
  {
   "cell_type": "code",
   "execution_count": 17,
   "id": "related-center",
   "metadata": {
    "execution": {
     "iopub.execute_input": "2021-10-07T00:23:40.417915Z",
     "iopub.status.busy": "2021-10-07T00:23:40.416028Z",
     "iopub.status.idle": "2021-10-07T00:23:40.431807Z",
     "shell.execute_reply": "2021-10-07T00:23:40.432335Z"
    },
    "papermill": {
     "duration": 0.081967,
     "end_time": "2021-10-07T00:23:40.432505",
     "exception": false,
     "start_time": "2021-10-07T00:23:40.350538",
     "status": "completed"
    },
    "tags": []
   },
   "outputs": [],
   "source": [
    "#hide\n",
    "metrics = [df_table.columns[index] for index in [1,2,5,6]]\n",
    "# s_china = df_table[df_table['Country/Region'].eq('China')][metrics].sum().add_prefix('China ')\n",
    "s_us = df_table[df_table['Country/Region'].eq('US')][metrics].sum().add_prefix('US ')\n",
    "s_eu = df_table[df_table['Continent'].eq('Europe')][metrics].sum().add_prefix('EU ')\n",
    "s_ind = df_table[df_table['Country/Region'].eq('India')][metrics].sum().add_prefix('India ')\n",
    "summary = {'updated': pd.to_datetime(dt_today), 'since': pd.to_datetime(dt_yday)}\n",
    "summary = {'updated': pd.to_datetime(dt_today), 'since': pd.to_datetime(dt_yday)}\n",
    "summary = {**summary, **df_table[metrics].sum(), **s_ind, **s_us, **s_eu}"
   ]
  },
  {
   "cell_type": "code",
   "execution_count": 18,
   "id": "engaging-syndrome",
   "metadata": {
    "execution": {
     "iopub.execute_input": "2021-10-07T00:23:40.525267Z",
     "iopub.status.busy": "2021-10-07T00:23:40.524546Z",
     "iopub.status.idle": "2021-10-07T00:23:40.543985Z",
     "shell.execute_reply": "2021-10-07T00:23:40.543200Z"
    },
    "papermill": {
     "duration": 0.068661,
     "end_time": "2021-10-07T00:23:40.544178",
     "exception": false,
     "start_time": "2021-10-07T00:23:40.475517",
     "status": "completed"
    },
    "tags": []
   },
   "outputs": [],
   "source": [
    "#hide\n",
    "dft_ct_new_cases = dft_cases.groupby(COL_REGION)[dt_cols].sum().diff(axis=1).fillna(0).astype(int)"
   ]
  },
  {
   "cell_type": "code",
   "execution_count": 19,
   "id": "neutral-assignment",
   "metadata": {
    "execution": {
     "iopub.execute_input": "2021-10-07T00:23:40.636475Z",
     "iopub.status.busy": "2021-10-07T00:23:40.635701Z",
     "iopub.status.idle": "2021-10-07T00:23:40.638324Z",
     "shell.execute_reply": "2021-10-07T00:23:40.637728Z"
    },
    "papermill": {
     "duration": 0.052282,
     "end_time": "2021-10-07T00:23:40.638466",
     "exception": false,
     "start_time": "2021-10-07T00:23:40.586184",
     "status": "completed"
    },
    "tags": []
   },
   "outputs": [],
   "source": [
    "#hide\n",
    "everydaycases = dft_ct_new_cases.cumsum(axis=1)"
   ]
  },
  {
   "cell_type": "code",
   "execution_count": 20,
   "id": "parliamentary-calgary",
   "metadata": {
    "execution": {
     "iopub.execute_input": "2021-10-07T00:23:40.731260Z",
     "iopub.status.busy": "2021-10-07T00:23:40.730470Z",
     "iopub.status.idle": "2021-10-07T00:23:41.681590Z",
     "shell.execute_reply": "2021-10-07T00:23:41.682238Z"
    },
    "papermill": {
     "duration": 1.000326,
     "end_time": "2021-10-07T00:23:41.682408",
     "exception": false,
     "start_time": "2021-10-07T00:23:40.682082",
     "status": "completed"
    },
    "tags": []
   },
   "outputs": [],
   "source": [
    "#hide\n",
    "import pandas as pd\n",
    "import matplotlib.pyplot as plt\n",
    "import matplotlib.ticker as ticker\n",
    "import matplotlib.animation as animation\n",
    "from IPython.display import HTML"
   ]
  },
  {
   "cell_type": "code",
   "execution_count": 21,
   "id": "lasting-extraction",
   "metadata": {
    "execution": {
     "iopub.execute_input": "2021-10-07T00:23:41.777919Z",
     "iopub.status.busy": "2021-10-07T00:23:41.776635Z",
     "iopub.status.idle": "2021-10-07T00:23:41.792879Z",
     "shell.execute_reply": "2021-10-07T00:23:41.793406Z"
    },
    "papermill": {
     "duration": 0.071013,
     "end_time": "2021-10-07T00:23:41.793578",
     "exception": false,
     "start_time": "2021-10-07T00:23:41.722565",
     "status": "completed"
    },
    "tags": []
   },
   "outputs": [],
   "source": [
    "#hide\n",
    "t = everydaycases.stack()"
   ]
  },
  {
   "cell_type": "code",
   "execution_count": 22,
   "id": "premier-sleeve",
   "metadata": {
    "execution": {
     "iopub.execute_input": "2021-10-07T00:23:41.901306Z",
     "iopub.status.busy": "2021-10-07T00:23:41.900561Z",
     "iopub.status.idle": "2021-10-07T00:23:41.902626Z",
     "shell.execute_reply": "2021-10-07T00:23:41.903164Z"
    },
    "papermill": {
     "duration": 0.062059,
     "end_time": "2021-10-07T00:23:41.903325",
     "exception": false,
     "start_time": "2021-10-07T00:23:41.841266",
     "status": "completed"
    },
    "tags": []
   },
   "outputs": [],
   "source": [
    "#hide\n",
    "g = t.reset_index(['Country/Region'])"
   ]
  },
  {
   "cell_type": "code",
   "execution_count": 23,
   "id": "distributed-pittsburgh",
   "metadata": {
    "execution": {
     "iopub.execute_input": "2021-10-07T00:23:41.998564Z",
     "iopub.status.busy": "2021-10-07T00:23:41.996762Z",
     "iopub.status.idle": "2021-10-07T00:23:41.999358Z",
     "shell.execute_reply": "2021-10-07T00:23:42.000029Z"
    },
    "papermill": {
     "duration": 0.054778,
     "end_time": "2021-10-07T00:23:42.000368",
     "exception": false,
     "start_time": "2021-10-07T00:23:41.945590",
     "status": "completed"
    },
    "tags": []
   },
   "outputs": [],
   "source": [
    "#hide\n",
    "g.index.name = 'date'"
   ]
  },
  {
   "cell_type": "code",
   "execution_count": 24,
   "id": "naked-donor",
   "metadata": {
    "execution": {
     "iopub.execute_input": "2021-10-07T00:23:42.094311Z",
     "iopub.status.busy": "2021-10-07T00:23:42.092818Z",
     "iopub.status.idle": "2021-10-07T00:23:42.095034Z",
     "shell.execute_reply": "2021-10-07T00:23:42.095591Z"
    },
    "papermill": {
     "duration": 0.051649,
     "end_time": "2021-10-07T00:23:42.095763",
     "exception": false,
     "start_time": "2021-10-07T00:23:42.044114",
     "status": "completed"
    },
    "tags": []
   },
   "outputs": [],
   "source": [
    "# #hide\n",
    "# g = g.reset_index(['date'])"
   ]
  },
  {
   "cell_type": "code",
   "execution_count": 25,
   "id": "incomplete-mustang",
   "metadata": {
    "execution": {
     "iopub.execute_input": "2021-10-07T00:23:42.188550Z",
     "iopub.status.busy": "2021-10-07T00:23:42.186524Z",
     "iopub.status.idle": "2021-10-07T00:23:42.189300Z",
     "shell.execute_reply": "2021-10-07T00:23:42.190037Z"
    },
    "papermill": {
     "duration": 0.05099,
     "end_time": "2021-10-07T00:23:42.190354",
     "exception": false,
     "start_time": "2021-10-07T00:23:42.139364",
     "status": "completed"
    },
    "tags": []
   },
   "outputs": [],
   "source": [
    "#hide\n",
    "# g.head()"
   ]
  },
  {
   "cell_type": "code",
   "execution_count": 26,
   "id": "specific-kruger",
   "metadata": {
    "execution": {
     "iopub.execute_input": "2021-10-07T00:23:42.293837Z",
     "iopub.status.busy": "2021-10-07T00:23:42.290962Z",
     "iopub.status.idle": "2021-10-07T00:23:42.295227Z",
     "shell.execute_reply": "2021-10-07T00:23:42.296190Z"
    },
    "papermill": {
     "duration": 0.061317,
     "end_time": "2021-10-07T00:23:42.296473",
     "exception": false,
     "start_time": "2021-10-07T00:23:42.235156",
     "status": "completed"
    },
    "tags": []
   },
   "outputs": [],
   "source": [
    "#hide\n",
    "# g.columns = ['date','country','cases']"
   ]
  },
  {
   "cell_type": "code",
   "execution_count": 27,
   "id": "tender-conversion",
   "metadata": {
    "execution": {
     "iopub.execute_input": "2021-10-07T00:23:42.385196Z",
     "iopub.status.busy": "2021-10-07T00:23:42.384461Z",
     "iopub.status.idle": "2021-10-07T00:23:42.387164Z",
     "shell.execute_reply": "2021-10-07T00:23:42.386332Z"
    },
    "papermill": {
     "duration": 0.04862,
     "end_time": "2021-10-07T00:23:42.387294",
     "exception": false,
     "start_time": "2021-10-07T00:23:42.338674",
     "status": "completed"
    },
    "tags": []
   },
   "outputs": [],
   "source": [
    "#hide\n",
    "# g['continent'] = g.country"
   ]
  },
  {
   "cell_type": "code",
   "execution_count": 28,
   "id": "substantial-wilderness",
   "metadata": {
    "execution": {
     "iopub.execute_input": "2021-10-07T00:23:42.472242Z",
     "iopub.status.busy": "2021-10-07T00:23:42.471523Z",
     "iopub.status.idle": "2021-10-07T00:23:42.473041Z",
     "shell.execute_reply": "2021-10-07T00:23:42.473629Z"
    },
    "papermill": {
     "duration": 0.04626,
     "end_time": "2021-10-07T00:23:42.473767",
     "exception": false,
     "start_time": "2021-10-07T00:23:42.427507",
     "status": "completed"
    },
    "tags": []
   },
   "outputs": [],
   "source": [
    "#hide\n",
    "# cols = list(g.columns.values)"
   ]
  },
  {
   "cell_type": "code",
   "execution_count": 29,
   "id": "solved-farming",
   "metadata": {
    "execution": {
     "iopub.execute_input": "2021-10-07T00:23:42.563519Z",
     "iopub.status.busy": "2021-10-07T00:23:42.562507Z",
     "iopub.status.idle": "2021-10-07T00:23:42.564606Z",
     "shell.execute_reply": "2021-10-07T00:23:42.565247Z"
    },
    "papermill": {
     "duration": 0.049212,
     "end_time": "2021-10-07T00:23:42.565395",
     "exception": false,
     "start_time": "2021-10-07T00:23:42.516183",
     "status": "completed"
    },
    "tags": []
   },
   "outputs": [],
   "source": [
    "#hide\n",
    "# cols.insert(0, cols.pop())"
   ]
  },
  {
   "cell_type": "code",
   "execution_count": 30,
   "id": "executed-adoption",
   "metadata": {
    "execution": {
     "iopub.execute_input": "2021-10-07T00:23:42.654580Z",
     "iopub.status.busy": "2021-10-07T00:23:42.653850Z",
     "iopub.status.idle": "2021-10-07T00:23:42.656723Z",
     "shell.execute_reply": "2021-10-07T00:23:42.655890Z"
    },
    "papermill": {
     "duration": 0.048263,
     "end_time": "2021-10-07T00:23:42.656928",
     "exception": false,
     "start_time": "2021-10-07T00:23:42.608665",
     "status": "completed"
    },
    "tags": []
   },
   "outputs": [],
   "source": [
    "#hide\n",
    "# g = g[cols]"
   ]
  },
  {
   "cell_type": "code",
   "execution_count": 31,
   "id": "subject-dublin",
   "metadata": {
    "execution": {
     "iopub.execute_input": "2021-10-07T00:23:42.751902Z",
     "iopub.status.busy": "2021-10-07T00:23:42.750541Z",
     "iopub.status.idle": "2021-10-07T00:23:42.752716Z",
     "shell.execute_reply": "2021-10-07T00:23:42.753198Z"
    },
    "papermill": {
     "duration": 0.056438,
     "end_time": "2021-10-07T00:23:42.753680",
     "exception": false,
     "start_time": "2021-10-07T00:23:42.697242",
     "status": "completed"
    },
    "tags": []
   },
   "outputs": [],
   "source": [
    "#hide\n",
    "# g['continent'] = g['continent'].map(mapping['map.continent'])"
   ]
  },
  {
   "cell_type": "code",
   "execution_count": 32,
   "id": "freelance-scout",
   "metadata": {
    "execution": {
     "iopub.execute_input": "2021-10-07T00:23:42.838576Z",
     "iopub.status.busy": "2021-10-07T00:23:42.837389Z",
     "iopub.status.idle": "2021-10-07T00:23:42.841328Z",
     "shell.execute_reply": "2021-10-07T00:23:42.840759Z"
    },
    "papermill": {
     "duration": 0.047333,
     "end_time": "2021-10-07T00:23:42.841581",
     "exception": false,
     "start_time": "2021-10-07T00:23:42.794248",
     "status": "completed"
    },
    "tags": []
   },
   "outputs": [],
   "source": [
    "#hide\n",
    "# g.head()"
   ]
  },
  {
   "cell_type": "code",
   "execution_count": 33,
   "id": "limited-engine",
   "metadata": {
    "execution": {
     "iopub.execute_input": "2021-10-07T00:23:42.929975Z",
     "iopub.status.busy": "2021-10-07T00:23:42.929257Z",
     "iopub.status.idle": "2021-10-07T00:23:42.931944Z",
     "shell.execute_reply": "2021-10-07T00:23:42.931378Z"
    },
    "papermill": {
     "duration": 0.049055,
     "end_time": "2021-10-07T00:23:42.932078",
     "exception": false,
     "start_time": "2021-10-07T00:23:42.883023",
     "status": "completed"
    },
    "tags": []
   },
   "outputs": [],
   "source": [
    "# hide\n",
    "# g['date'] = g['date'].astype('datetime64[ns]')"
   ]
  },
  {
   "cell_type": "code",
   "execution_count": 34,
   "id": "sophisticated-supervisor",
   "metadata": {
    "execution": {
     "iopub.execute_input": "2021-10-07T00:23:43.026401Z",
     "iopub.status.busy": "2021-10-07T00:23:43.025700Z",
     "iopub.status.idle": "2021-10-07T00:23:43.028828Z",
     "shell.execute_reply": "2021-10-07T00:23:43.028244Z"
    },
    "papermill": {
     "duration": 0.050827,
     "end_time": "2021-10-07T00:23:43.028983",
     "exception": false,
     "start_time": "2021-10-07T00:23:42.978156",
     "status": "completed"
    },
    "tags": []
   },
   "outputs": [],
   "source": [
    "#hide\n",
    "# g['date'] = g.date.dt.dayofyear"
   ]
  },
  {
   "cell_type": "code",
   "execution_count": 35,
   "id": "inside-dubai",
   "metadata": {
    "execution": {
     "iopub.execute_input": "2021-10-07T00:23:43.136246Z",
     "iopub.status.busy": "2021-10-07T00:23:43.135454Z",
     "iopub.status.idle": "2021-10-07T00:23:43.137768Z",
     "shell.execute_reply": "2021-10-07T00:23:43.138344Z"
    },
    "papermill": {
     "duration": 0.052474,
     "end_time": "2021-10-07T00:23:43.138495",
     "exception": false,
     "start_time": "2021-10-07T00:23:43.086021",
     "status": "completed"
    },
    "tags": []
   },
   "outputs": [],
   "source": [
    "#hide\n",
    "# g = g.rename(columns= {'continent':'group','country':'name','cases':'value'})"
   ]
  },
  {
   "cell_type": "code",
   "execution_count": 36,
   "id": "fleet-motorcycle",
   "metadata": {
    "execution": {
     "iopub.execute_input": "2021-10-07T00:23:43.229307Z",
     "iopub.status.busy": "2021-10-07T00:23:43.228628Z",
     "iopub.status.idle": "2021-10-07T00:23:43.231555Z",
     "shell.execute_reply": "2021-10-07T00:23:43.230870Z"
    },
    "papermill": {
     "duration": 0.048929,
     "end_time": "2021-10-07T00:23:43.231797",
     "exception": false,
     "start_time": "2021-10-07T00:23:43.182868",
     "status": "completed"
    },
    "tags": []
   },
   "outputs": [],
   "source": [
    "#hide\n",
    "# cols = ['name','group','day','value']"
   ]
  },
  {
   "cell_type": "code",
   "execution_count": 37,
   "id": "continued-sleeping",
   "metadata": {
    "execution": {
     "iopub.execute_input": "2021-10-07T00:23:43.322636Z",
     "iopub.status.busy": "2021-10-07T00:23:43.321991Z",
     "iopub.status.idle": "2021-10-07T00:23:43.325478Z",
     "shell.execute_reply": "2021-10-07T00:23:43.324744Z"
    },
    "papermill": {
     "duration": 0.050775,
     "end_time": "2021-10-07T00:23:43.325608",
     "exception": false,
     "start_time": "2021-10-07T00:23:43.274833",
     "status": "completed"
    },
    "tags": []
   },
   "outputs": [],
   "source": [
    "#hide\n",
    "# g.rename(columns= {'date':'day'},inplace = True)"
   ]
  },
  {
   "cell_type": "code",
   "execution_count": 38,
   "id": "major-fight",
   "metadata": {
    "execution": {
     "iopub.execute_input": "2021-10-07T00:23:43.417492Z",
     "iopub.status.busy": "2021-10-07T00:23:43.416809Z",
     "iopub.status.idle": "2021-10-07T00:23:43.425381Z",
     "shell.execute_reply": "2021-10-07T00:23:43.424688Z"
    },
    "papermill": {
     "duration": 0.058566,
     "end_time": "2021-10-07T00:23:43.425504",
     "exception": false,
     "start_time": "2021-10-07T00:23:43.366938",
     "status": "completed"
    },
    "tags": []
   },
   "outputs": [],
   "source": [
    "#hide\n",
    "# g = g[cols]"
   ]
  },
  {
   "cell_type": "code",
   "execution_count": 39,
   "id": "structured-mobile",
   "metadata": {
    "execution": {
     "iopub.execute_input": "2021-10-07T00:23:43.520798Z",
     "iopub.status.busy": "2021-10-07T00:23:43.520091Z",
     "iopub.status.idle": "2021-10-07T00:23:43.526392Z",
     "shell.execute_reply": "2021-10-07T00:23:43.526928Z"
    },
    "papermill": {
     "duration": 0.056672,
     "end_time": "2021-10-07T00:23:43.527197",
     "exception": false,
     "start_time": "2021-10-07T00:23:43.470525",
     "status": "completed"
    },
    "tags": []
   },
   "outputs": [],
   "source": [
    "# #hide\n",
    "# g = g[g.group.notna()]"
   ]
  },
  {
   "cell_type": "code",
   "execution_count": 40,
   "id": "determined-closing",
   "metadata": {
    "execution": {
     "iopub.execute_input": "2021-10-07T00:23:43.641214Z",
     "iopub.status.busy": "2021-10-07T00:23:43.639765Z",
     "iopub.status.idle": "2021-10-07T00:23:43.642109Z",
     "shell.execute_reply": "2021-10-07T00:23:43.640554Z"
    },
    "papermill": {
     "duration": 0.063944,
     "end_time": "2021-10-07T00:23:43.642248",
     "exception": false,
     "start_time": "2021-10-07T00:23:43.578304",
     "status": "completed"
    },
    "tags": []
   },
   "outputs": [],
   "source": [
    "# #hide\n",
    "# colors = dict(zip(\n",
    "#     [\"Oceania\", \"Europe\", \"Asia\", \"South America\", \"Middle East\", \"North America\", \"Africa\"],\n",
    "#     [\"#adb0ff\", \"#ffb3ff\", \"#90d595\", \"#e48381\", \"#aafbff\", \"#f7bb5f\", \"#eafb50\"]\n",
    "# ))\n",
    "# group_lk = g.set_index('name')['group'].to_dict()"
   ]
  },
  {
   "cell_type": "code",
   "execution_count": null,
   "id": "gross-drinking",
   "metadata": {
    "papermill": {
     "duration": 0.061847,
     "end_time": "2021-10-07T00:23:43.768534",
     "exception": false,
     "start_time": "2021-10-07T00:23:43.706687",
     "status": "completed"
    },
    "tags": []
   },
   "outputs": [],
   "source": []
  },
  {
   "cell_type": "code",
   "execution_count": 41,
   "id": "subject-macintosh",
   "metadata": {
    "execution": {
     "iopub.execute_input": "2021-10-07T00:23:43.863262Z",
     "iopub.status.busy": "2021-10-07T00:23:43.862572Z",
     "iopub.status.idle": "2021-10-07T00:23:43.866925Z",
     "shell.execute_reply": "2021-10-07T00:23:43.866366Z"
    },
    "papermill": {
     "duration": 0.056511,
     "end_time": "2021-10-07T00:23:43.867091",
     "exception": false,
     "start_time": "2021-10-07T00:23:43.810580",
     "status": "completed"
    },
    "tags": []
   },
   "outputs": [],
   "source": [
    "# #hide\n",
    "# fig, ax = plt.subplots(figsize=(15, 8))\n",
    "\n",
    "# def draw_barchart(current_day):\n",
    "#     dff = g[g['day'].eq(current_day)].sort_values(by='value', ascending=True).tail(10)\n",
    "#     ax.clear()\n",
    "#     ax.barh(dff['name'], dff['value'], color=[colors[group_lk[x]] for x in dff['name']])\n",
    "#     dx = dff['value'].max() / 200\n",
    "    \n",
    "#     for i, (value, name) in enumerate(zip(dff['value'], dff['name'])):\n",
    "#         ax.text(value-dx, i,     name,           size=14, weight=600, ha='right', va='bottom')\n",
    "#         ax.text(value-dx, i-.25, group_lk[name], size=10, color='#444444', ha='right', va='baseline')\n",
    "#         ax.text(value+dx, i,     f'{value:,.0f}',  size=14, ha='left',  va='center')\n",
    "#     ax.text(1, 0.4, current_day, transform=ax.transAxes, color='#777777', size=46, ha='right', weight=800)\n",
    "#     ax.text(0, 1.06, 'Population (thousands)', transform=ax.transAxes, size=12, color='#777777')\n",
    "#     ax.xaxis.set_major_formatter(ticker.StrMethodFormatter('{x:,.0f}'))\n",
    "#     ax.xaxis.set_ticks_position('top')\n",
    "#     ax.tick_params(axis='x', colors='#777777', labelsize=12)\n",
    "#     ax.set_yticks([])\n",
    "#     ax.margins(0, 0.01)\n",
    "#     ax.grid(which='major', axis='x', linestyle='-')\n",
    "#     ax.set_axisbelow(True)\n",
    "    \n",
    "#     ax.text(0, 1.15, 'Coronavirus',\n",
    "#             transform=ax.transAxes, size=24, weight=600, ha='left', va='top')\n",
    "# #     ax.text(1, 0, 'by @pratapvardhan; credit @jburnmurdoch', transform=ax.transAxes, color='#777777', ha='right',\n",
    "# #             bbox=dict(facecolor='white', alpha=0.8, edgecolor='white'))\n",
    "#     plt.box(False)"
   ]
  },
  {
   "cell_type": "code",
   "execution_count": 42,
   "id": "sexual-wages",
   "metadata": {
    "execution": {
     "iopub.execute_input": "2021-10-07T00:23:43.960526Z",
     "iopub.status.busy": "2021-10-07T00:23:43.959687Z",
     "iopub.status.idle": "2021-10-07T00:23:43.961717Z",
     "shell.execute_reply": "2021-10-07T00:23:43.961170Z"
    },
    "papermill": {
     "duration": 0.052535,
     "end_time": "2021-10-07T00:23:43.961850",
     "exception": false,
     "start_time": "2021-10-07T00:23:43.909315",
     "status": "completed"
    },
    "tags": []
   },
   "outputs": [],
   "source": [
    "# #hide_input\n",
    "# fig, ax = plt.subplots(figsize=(15, 8))\n",
    "# animator = animation.FuncAnimation(fig, draw_barchart, frames=range(g.day.values.min(), g.day.values.max()))\n",
    "# HTML(animator.to_jshtml())\n",
    "# # or use animator.to_html5_video() or animator.save() "
   ]
  },
  {
   "cell_type": "code",
   "execution_count": null,
   "id": "australian-container",
   "metadata": {
    "papermill": {
     "duration": 0.040857,
     "end_time": "2021-10-07T00:23:44.044735",
     "exception": false,
     "start_time": "2021-10-07T00:23:44.003878",
     "status": "completed"
    },
    "tags": []
   },
   "outputs": [],
   "source": []
  },
  {
   "cell_type": "code",
   "execution_count": null,
   "id": "mediterranean-pontiac",
   "metadata": {
    "papermill": {
     "duration": 0.042506,
     "end_time": "2021-10-07T00:23:44.131333",
     "exception": false,
     "start_time": "2021-10-07T00:23:44.088827",
     "status": "completed"
    },
    "tags": []
   },
   "outputs": [],
   "source": []
  },
  {
   "cell_type": "code",
   "execution_count": null,
   "id": "aging-legislature",
   "metadata": {
    "papermill": {
     "duration": 0.05189,
     "end_time": "2021-10-07T00:23:44.226117",
     "exception": false,
     "start_time": "2021-10-07T00:23:44.174227",
     "status": "completed"
    },
    "tags": []
   },
   "outputs": [],
   "source": []
  }
 ],
 "metadata": {
  "kernelspec": {
   "display_name": "Python 3",
   "language": "python",
   "name": "python3"
  },
  "language_info": {
   "codemirror_mode": {
    "name": "ipython",
    "version": 3
   },
   "file_extension": ".py",
   "mimetype": "text/x-python",
   "name": "python",
   "nbconvert_exporter": "python",
   "pygments_lexer": "ipython3",
   "version": "3.6.15"
  },
  "papermill": {
   "duration": 8.00797,
   "end_time": "2021-10-07T00:23:44.575897",
   "environment_variables": {},
   "exception": null,
   "input_path": "2020-03-21-covid19exp.ipynb",
   "output_path": "2020-03-21-covid19exp.ipynb",
   "parameters": {},
   "start_time": "2021-10-07T00:23:36.567927",
   "version": "2.0.0"
  }
 },
 "nbformat": 4,
 "nbformat_minor": 5
}