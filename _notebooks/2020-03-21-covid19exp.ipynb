{
 "cells": [
  {
   "cell_type": "markdown",
   "id": "muslim-click",
   "metadata": {
    "papermill": {
     "duration": 0.03078,
     "end_time": "2022-05-26T12:16:17.348050",
     "exception": false,
     "start_time": "2022-05-26T12:16:17.317270",
     "status": "completed"
    },
    "tags": []
   },
   "source": [
    "# COVID-19 Case Race\n",
    "> A race chart to see rising cases around the world\n",
    "\n",
    "- author: Hargun Oberoi\n",
    "- image: images/covid-overview.png\n",
    "- hide: false\n",
    "- badges: false"
   ]
  },
  {
   "cell_type": "code",
   "execution_count": 1,
   "id": "proof-material",
   "metadata": {
    "execution": {
     "iopub.execute_input": "2022-05-26T12:16:17.412760Z",
     "iopub.status.busy": "2022-05-26T12:16:17.412152Z",
     "iopub.status.idle": "2022-05-26T12:16:17.714638Z",
     "shell.execute_reply": "2022-05-26T12:16:17.714141Z"
    },
    "papermill": {
     "duration": 0.337944,
     "end_time": "2022-05-26T12:16:17.714776",
     "exception": false,
     "start_time": "2022-05-26T12:16:17.376832",
     "status": "completed"
    },
    "tags": []
   },
   "outputs": [],
   "source": [
    "#hide\n",
    "import numpy as np\n",
    "import pandas as pd\n",
    "from jinja2 import Template\n",
    "from IPython.display import HTML"
   ]
  },
  {
   "cell_type": "code",
   "execution_count": 2,
   "id": "developed-terminology",
   "metadata": {
    "execution": {
     "iopub.execute_input": "2022-05-26T12:16:17.773278Z",
     "iopub.status.busy": "2022-05-26T12:16:17.772701Z",
     "iopub.status.idle": "2022-05-26T12:16:17.774965Z",
     "shell.execute_reply": "2022-05-26T12:16:17.774516Z"
    },
    "papermill": {
     "duration": 0.033879,
     "end_time": "2022-05-26T12:16:17.775070",
     "exception": false,
     "start_time": "2022-05-26T12:16:17.741191",
     "status": "completed"
    },
    "tags": []
   },
   "outputs": [],
   "source": [
    "#hide\n",
    "\n",
    "# FETCH\n",
    "base_url = 'https://raw.githubusercontent.com/pratapvardhan/notebooks/master/covid19/'\n",
    "paths = {\n",
    "    'mapping': base_url + 'mapping_countries.csv',\n",
    "    'overview': base_url + 'overview.tpl'\n",
    "}"
   ]
  },
  {
   "cell_type": "code",
   "execution_count": 3,
   "id": "dynamic-saver",
   "metadata": {
    "execution": {
     "iopub.execute_input": "2022-05-26T12:16:17.836982Z",
     "iopub.status.busy": "2022-05-26T12:16:17.836419Z",
     "iopub.status.idle": "2022-05-26T12:16:17.839176Z",
     "shell.execute_reply": "2022-05-26T12:16:17.839665Z"
    },
    "papermill": {
     "duration": 0.038669,
     "end_time": "2022-05-26T12:16:17.839791",
     "exception": false,
     "start_time": "2022-05-26T12:16:17.801122",
     "status": "completed"
    },
    "tags": []
   },
   "outputs": [
    {
     "data": {
      "text/plain": [
       "'https://raw.githubusercontent.com/pratapvardhan/notebooks/master/covid19/mapping_countries.csv'"
      ]
     },
     "execution_count": 3,
     "metadata": {},
     "output_type": "execute_result"
    }
   ],
   "source": [
    "#hide\n",
    "paths['mapping']"
   ]
  },
  {
   "cell_type": "code",
   "execution_count": 4,
   "id": "urban-software",
   "metadata": {
    "execution": {
     "iopub.execute_input": "2022-05-26T12:16:17.898398Z",
     "iopub.status.busy": "2022-05-26T12:16:17.897763Z",
     "iopub.status.idle": "2022-05-26T12:16:17.899461Z",
     "shell.execute_reply": "2022-05-26T12:16:17.899882Z"
    },
    "papermill": {
     "duration": 0.033731,
     "end_time": "2022-05-26T12:16:17.900023",
     "exception": false,
     "start_time": "2022-05-26T12:16:17.866292",
     "status": "completed"
    },
    "tags": []
   },
   "outputs": [],
   "source": [
    "#hide\n",
    "def get_mappings(url):\n",
    "    df = pd.read_csv(url)\n",
    "    return {\n",
    "        'df': df,\n",
    "        'replace.country': dict(df.dropna(subset=['Name']).set_index('Country')['Name']),\n",
    "        'map.continent': dict(df.set_index('Name')['Continent'])\n",
    "    }"
   ]
  },
  {
   "cell_type": "code",
   "execution_count": 5,
   "id": "intimate-machinery",
   "metadata": {
    "execution": {
     "iopub.execute_input": "2022-05-26T12:16:17.970908Z",
     "iopub.status.busy": "2022-05-26T12:16:17.970307Z",
     "iopub.status.idle": "2022-05-26T12:16:18.007904Z",
     "shell.execute_reply": "2022-05-26T12:16:18.008450Z"
    },
    "papermill": {
     "duration": 0.075758,
     "end_time": "2022-05-26T12:16:18.008661",
     "exception": false,
     "start_time": "2022-05-26T12:16:17.932903",
     "status": "completed"
    },
    "tags": []
   },
   "outputs": [],
   "source": [
    "#hide\n",
    "mapping = get_mappings(paths['mapping'])"
   ]
  },
  {
   "cell_type": "code",
   "execution_count": 6,
   "id": "certified-tactics",
   "metadata": {
    "execution": {
     "iopub.execute_input": "2022-05-26T12:16:18.073902Z",
     "iopub.status.busy": "2022-05-26T12:16:18.073225Z",
     "iopub.status.idle": "2022-05-26T12:16:18.074880Z",
     "shell.execute_reply": "2022-05-26T12:16:18.075385Z"
    },
    "papermill": {
     "duration": 0.034151,
     "end_time": "2022-05-26T12:16:18.075535",
     "exception": false,
     "start_time": "2022-05-26T12:16:18.041384",
     "status": "completed"
    },
    "tags": []
   },
   "outputs": [],
   "source": [
    "#hide\n",
    "def get_template(path):\n",
    "    from urllib.parse import urlparse\n",
    "    if bool(urlparse(path).netloc):\n",
    "        from urllib.request import urlopen\n",
    "        return urlopen(path).read().decode('utf8')\n",
    "    return open(path).read()"
   ]
  },
  {
   "cell_type": "code",
   "execution_count": 7,
   "id": "realistic-blast",
   "metadata": {
    "execution": {
     "iopub.execute_input": "2022-05-26T12:16:18.138979Z",
     "iopub.status.busy": "2022-05-26T12:16:18.138456Z",
     "iopub.status.idle": "2022-05-26T12:16:18.140714Z",
     "shell.execute_reply": "2022-05-26T12:16:18.141145Z"
    },
    "papermill": {
     "duration": 0.034572,
     "end_time": "2022-05-26T12:16:18.141263",
     "exception": false,
     "start_time": "2022-05-26T12:16:18.106691",
     "status": "completed"
    },
    "tags": []
   },
   "outputs": [],
   "source": [
    "#hide\n",
    "def get_frame(name):\n",
    "    url = (\n",
    "        'https://raw.githubusercontent.com/CSSEGISandData/COVID-19/master/csse_covid_19_data/'\n",
    "        f'csse_covid_19_time_series/time_series_covid19_{name}_global.csv')\n",
    "    df = pd.read_csv(url)\n",
    "    # rename countries\n",
    "    df['Country/Region'] = df['Country/Region'].replace(mapping['replace.country'])\n",
    "    return df"
   ]
  },
  {
   "cell_type": "code",
   "execution_count": 8,
   "id": "affiliated-characterization",
   "metadata": {
    "execution": {
     "iopub.execute_input": "2022-05-26T12:16:18.199967Z",
     "iopub.status.busy": "2022-05-26T12:16:18.199344Z",
     "iopub.status.idle": "2022-05-26T12:16:18.201491Z",
     "shell.execute_reply": "2022-05-26T12:16:18.200922Z"
    },
    "papermill": {
     "duration": 0.034052,
     "end_time": "2022-05-26T12:16:18.201605",
     "exception": false,
     "start_time": "2022-05-26T12:16:18.167553",
     "status": "completed"
    },
    "tags": []
   },
   "outputs": [],
   "source": [
    "#hide\n",
    "def get_dates(df):\n",
    "    dt_cols = df.columns[~df.columns.isin(['Province/State', 'Country/Region', 'Lat', 'Long'])]\n",
    "    LAST_DATE_I = -1\n",
    "    # sometimes last column may be empty, then go backwards\n",
    "    for i in range(-1, -len(dt_cols), -1):\n",
    "        if not df[dt_cols[i]].fillna(0).eq(0).all():\n",
    "            LAST_DATE_I = i\n",
    "            break\n",
    "    return LAST_DATE_I, dt_cols"
   ]
  },
  {
   "cell_type": "code",
   "execution_count": 9,
   "id": "recent-optimization",
   "metadata": {
    "execution": {
     "iopub.execute_input": "2022-05-26T12:16:18.269897Z",
     "iopub.status.busy": "2022-05-26T12:16:18.269276Z",
     "iopub.status.idle": "2022-05-26T12:16:18.703162Z",
     "shell.execute_reply": "2022-05-26T12:16:18.703703Z"
    },
    "papermill": {
     "duration": 0.470769,
     "end_time": "2022-05-26T12:16:18.703880",
     "exception": false,
     "start_time": "2022-05-26T12:16:18.233111",
     "status": "completed"
    },
    "tags": []
   },
   "outputs": [],
   "source": [
    "#hide\n",
    "COL_REGION = 'Country/Region'\n",
    "# Confirmed, Recovered, Deaths\n",
    "df = get_frame('confirmed')\n",
    "# dft_: timeseries, dfc_: today country agg\n",
    "dft_cases = df\n",
    "dft_deaths = get_frame('deaths')\n",
    "dft_recovered = get_frame('recovered')\n",
    "LAST_DATE_I, dt_cols = get_dates(df)"
   ]
  },
  {
   "cell_type": "code",
   "execution_count": 10,
   "id": "absolute-copper",
   "metadata": {
    "execution": {
     "iopub.execute_input": "2022-05-26T12:16:18.764343Z",
     "iopub.status.busy": "2022-05-26T12:16:18.763527Z",
     "iopub.status.idle": "2022-05-26T12:16:18.766247Z",
     "shell.execute_reply": "2022-05-26T12:16:18.765700Z"
    },
    "papermill": {
     "duration": 0.035261,
     "end_time": "2022-05-26T12:16:18.766375",
     "exception": false,
     "start_time": "2022-05-26T12:16:18.731114",
     "status": "completed"
    },
    "tags": []
   },
   "outputs": [],
   "source": [
    "#hide\n",
    "LAST_DATE_I, dt_cols = get_dates(df)\n",
    "dt_today =dt_cols[LAST_DATE_I]\n",
    "# dt_5day = dt_cols[LAST_DATE_I - 5]\n",
    "dt_yday = dt_cols[LAST_DATE_I - 1]"
   ]
  },
  {
   "cell_type": "code",
   "execution_count": 11,
   "id": "restricted-sheriff",
   "metadata": {
    "execution": {
     "iopub.execute_input": "2022-05-26T12:16:18.829766Z",
     "iopub.status.busy": "2022-05-26T12:16:18.829225Z",
     "iopub.status.idle": "2022-05-26T12:16:18.832421Z",
     "shell.execute_reply": "2022-05-26T12:16:18.832942Z"
    },
    "papermill": {
     "duration": 0.040181,
     "end_time": "2022-05-26T12:16:18.833073",
     "exception": false,
     "start_time": "2022-05-26T12:16:18.792892",
     "status": "completed"
    },
    "tags": []
   },
   "outputs": [],
   "source": [
    "#hide\n",
    "dfc_cases = dft_cases.groupby(COL_REGION)[dt_today].sum()\n",
    "dfc_deaths = dft_deaths.groupby(COL_REGION)[dt_today].sum()\n",
    "# dfp_cases = dft_cases.groupby(COL_REGION)[dt_5day].sum()\n",
    "# dfp_deaths = dft_deaths.groupby(COL_REGION)[dt_5day].sum()\n",
    "dfp_cases = dft_cases.groupby(COL_REGION)[dt_yday].sum()\n",
    "dfp_deaths = dft_deaths.groupby(COL_REGION)[dt_yday].sum()"
   ]
  },
  {
   "cell_type": "code",
   "execution_count": 12,
   "id": "deluxe-hepatitis",
   "metadata": {
    "execution": {
     "iopub.execute_input": "2022-05-26T12:16:18.892830Z",
     "iopub.status.busy": "2022-05-26T12:16:18.892268Z",
     "iopub.status.idle": "2022-05-26T12:16:18.896805Z",
     "shell.execute_reply": "2022-05-26T12:16:18.897190Z"
    },
    "papermill": {
     "duration": 0.038023,
     "end_time": "2022-05-26T12:16:18.897326",
     "exception": false,
     "start_time": "2022-05-26T12:16:18.859303",
     "status": "completed"
    },
    "tags": []
   },
   "outputs": [],
   "source": [
    "#hide\n",
    "df_table = (pd.DataFrame(dict(Cases = dfc_cases, Deaths = dfc_deaths, PCases = dfp_cases, PDeaths = dfp_deaths))\n",
    "            .sort_values(by = ['Cases','Deaths'], ascending = [False, False])\n",
    "            .reset_index())"
   ]
  },
  {
   "cell_type": "code",
   "execution_count": 13,
   "id": "educational-chancellor",
   "metadata": {
    "execution": {
     "iopub.execute_input": "2022-05-26T12:16:18.966716Z",
     "iopub.status.busy": "2022-05-26T12:16:18.966132Z",
     "iopub.status.idle": "2022-05-26T12:16:18.973353Z",
     "shell.execute_reply": "2022-05-26T12:16:18.972916Z"
    },
    "papermill": {
     "duration": 0.049848,
     "end_time": "2022-05-26T12:16:18.973467",
     "exception": false,
     "start_time": "2022-05-26T12:16:18.923619",
     "status": "completed"
    },
    "tags": []
   },
   "outputs": [
    {
     "data": {
      "text/html": [
       "<div>\n",
       "<style scoped>\n",
       "    .dataframe tbody tr th:only-of-type {\n",
       "        vertical-align: middle;\n",
       "    }\n",
       "\n",
       "    .dataframe tbody tr th {\n",
       "        vertical-align: top;\n",
       "    }\n",
       "\n",
       "    .dataframe thead th {\n",
       "        text-align: right;\n",
       "    }\n",
       "</style>\n",
       "<table border=\"1\" class=\"dataframe\">\n",
       "  <thead>\n",
       "    <tr style=\"text-align: right;\">\n",
       "      <th></th>\n",
       "      <th>Country/Region</th>\n",
       "      <th>Cases</th>\n",
       "      <th>Deaths</th>\n",
       "      <th>PCases</th>\n",
       "      <th>PDeaths</th>\n",
       "      <th>Cases (+)</th>\n",
       "      <th>Deaths (+)</th>\n",
       "      <th>Fatality Rate</th>\n",
       "      <th>Continent</th>\n",
       "    </tr>\n",
       "  </thead>\n",
       "  <tbody>\n",
       "    <tr>\n",
       "      <th>0</th>\n",
       "      <td>US</td>\n",
       "      <td>83706662</td>\n",
       "      <td>1003743</td>\n",
       "      <td>83501457</td>\n",
       "      <td>1002726</td>\n",
       "      <td>205205</td>\n",
       "      <td>1017</td>\n",
       "      <td>1.20</td>\n",
       "      <td>North America</td>\n",
       "    </tr>\n",
       "    <tr>\n",
       "      <th>1</th>\n",
       "      <td>India</td>\n",
       "      <td>43144820</td>\n",
       "      <td>524525</td>\n",
       "      <td>43142192</td>\n",
       "      <td>524507</td>\n",
       "      <td>2628</td>\n",
       "      <td>18</td>\n",
       "      <td>1.22</td>\n",
       "      <td>Asia</td>\n",
       "    </tr>\n",
       "    <tr>\n",
       "      <th>2</th>\n",
       "      <td>Brazil</td>\n",
       "      <td>30851191</td>\n",
       "      <td>666261</td>\n",
       "      <td>30836815</td>\n",
       "      <td>666129</td>\n",
       "      <td>14376</td>\n",
       "      <td>132</td>\n",
       "      <td>2.16</td>\n",
       "      <td>South America</td>\n",
       "    </tr>\n",
       "    <tr>\n",
       "      <th>3</th>\n",
       "      <td>France</td>\n",
       "      <td>29605758</td>\n",
       "      <td>149095</td>\n",
       "      <td>29583616</td>\n",
       "      <td>149044</td>\n",
       "      <td>22142</td>\n",
       "      <td>51</td>\n",
       "      <td>0.50</td>\n",
       "      <td>Europe</td>\n",
       "    </tr>\n",
       "    <tr>\n",
       "      <th>4</th>\n",
       "      <td>Germany</td>\n",
       "      <td>26198811</td>\n",
       "      <td>138779</td>\n",
       "      <td>26159106</td>\n",
       "      <td>138643</td>\n",
       "      <td>39705</td>\n",
       "      <td>136</td>\n",
       "      <td>0.53</td>\n",
       "      <td>Europe</td>\n",
       "    </tr>\n",
       "  </tbody>\n",
       "</table>\n",
       "</div>"
      ],
      "text/plain": [
       "  Country/Region     Cases   Deaths    PCases  PDeaths  Cases (+)  Deaths (+)  \\\n",
       "0             US  83706662  1003743  83501457  1002726     205205        1017   \n",
       "1          India  43144820   524525  43142192   524507       2628          18   \n",
       "2         Brazil  30851191   666261  30836815   666129      14376         132   \n",
       "3         France  29605758   149095  29583616   149044      22142          51   \n",
       "4        Germany  26198811   138779  26159106   138643      39705         136   \n",
       "\n",
       "   Fatality Rate      Continent  \n",
       "0           1.20  North America  \n",
       "1           1.22           Asia  \n",
       "2           2.16  South America  \n",
       "3           0.50         Europe  \n",
       "4           0.53         Europe  "
      ]
     },
     "execution_count": 13,
     "metadata": {},
     "output_type": "execute_result"
    }
   ],
   "source": [
    "#hide\n",
    "for c in 'Cases, Deaths'.split(', '):\n",
    "    df_table[f'{c} (+)'] = (df_table[c] - df_table[f'P{c}']).clip(0)\n",
    "    #Clip ça veut dire, les chiffres negatif sont interdit\n",
    "df_table['Fatality Rate'] = (100* df_table['Deaths']/ df_table['Cases']).round(2)\n",
    "df_table['Continent'] = df_table['Country/Region'].map(mapping['map.continent'])\n",
    "df_table.head(5)"
   ]
  },
  {
   "cell_type": "code",
   "execution_count": 14,
   "id": "aboriginal-bulgaria",
   "metadata": {
    "execution": {
     "iopub.execute_input": "2022-05-26T12:16:19.032605Z",
     "iopub.status.busy": "2022-05-26T12:16:19.032058Z",
     "iopub.status.idle": "2022-05-26T12:16:19.035216Z",
     "shell.execute_reply": "2022-05-26T12:16:19.035633Z"
    },
    "papermill": {
     "duration": 0.0352,
     "end_time": "2022-05-26T12:16:19.035758",
     "exception": false,
     "start_time": "2022-05-26T12:16:19.000558",
     "status": "completed"
    },
    "tags": []
   },
   "outputs": [],
   "source": [
    "#hide\n",
    "#delete problematic countries from table\n",
    "df_table = df_table[~df_table['Country/Region'].isin(['Cape Verde', 'Cruise Ship', 'Kosovo'])]"
   ]
  },
  {
   "cell_type": "code",
   "execution_count": 15,
   "id": "fantastic-effect",
   "metadata": {
    "execution": {
     "iopub.execute_input": "2022-05-26T12:16:19.097339Z",
     "iopub.status.busy": "2022-05-26T12:16:19.096806Z",
     "iopub.status.idle": "2022-05-26T12:16:19.113560Z",
     "shell.execute_reply": "2022-05-26T12:16:19.112942Z"
    },
    "papermill": {
     "duration": 0.051269,
     "end_time": "2022-05-26T12:16:19.113679",
     "exception": false,
     "start_time": "2022-05-26T12:16:19.062410",
     "status": "completed"
    },
    "tags": []
   },
   "outputs": [
    {
     "data": {
      "text/html": [
       "<div>\n",
       "<style scoped>\n",
       "    .dataframe tbody tr th:only-of-type {\n",
       "        vertical-align: middle;\n",
       "    }\n",
       "\n",
       "    .dataframe tbody tr th {\n",
       "        vertical-align: top;\n",
       "    }\n",
       "\n",
       "    .dataframe thead th {\n",
       "        text-align: right;\n",
       "    }\n",
       "</style>\n",
       "<table border=\"1\" class=\"dataframe\">\n",
       "  <thead>\n",
       "    <tr style=\"text-align: right;\">\n",
       "      <th></th>\n",
       "      <th>Country/Region</th>\n",
       "      <th>Cases</th>\n",
       "      <th>Deaths</th>\n",
       "      <th>PCases</th>\n",
       "      <th>PDeaths</th>\n",
       "      <th>Cases (+)</th>\n",
       "      <th>Deaths (+)</th>\n",
       "      <th>Fatality Rate</th>\n",
       "      <th>Continent</th>\n",
       "    </tr>\n",
       "  </thead>\n",
       "  <tbody>\n",
       "    <tr>\n",
       "      <th>0</th>\n",
       "      <td>US</td>\n",
       "      <td>83706662</td>\n",
       "      <td>1003743</td>\n",
       "      <td>83501457</td>\n",
       "      <td>1002726</td>\n",
       "      <td>205205</td>\n",
       "      <td>1017</td>\n",
       "      <td>1.2</td>\n",
       "      <td>North America</td>\n",
       "    </tr>\n",
       "    <tr>\n",
       "      <th>1</th>\n",
       "      <td>India</td>\n",
       "      <td>43144820</td>\n",
       "      <td>524525</td>\n",
       "      <td>43142192</td>\n",
       "      <td>524507</td>\n",
       "      <td>2628</td>\n",
       "      <td>18</td>\n",
       "      <td>1.2</td>\n",
       "      <td>Asia</td>\n",
       "    </tr>\n",
       "    <tr>\n",
       "      <th>2</th>\n",
       "      <td>Brazil</td>\n",
       "      <td>30851191</td>\n",
       "      <td>666261</td>\n",
       "      <td>30836815</td>\n",
       "      <td>666129</td>\n",
       "      <td>14376</td>\n",
       "      <td>132</td>\n",
       "      <td>2.2</td>\n",
       "      <td>South America</td>\n",
       "    </tr>\n",
       "    <tr>\n",
       "      <th>3</th>\n",
       "      <td>France</td>\n",
       "      <td>29605758</td>\n",
       "      <td>149095</td>\n",
       "      <td>29583616</td>\n",
       "      <td>149044</td>\n",
       "      <td>22142</td>\n",
       "      <td>51</td>\n",
       "      <td>0.5</td>\n",
       "      <td>Europe</td>\n",
       "    </tr>\n",
       "    <tr>\n",
       "      <th>4</th>\n",
       "      <td>Germany</td>\n",
       "      <td>26198811</td>\n",
       "      <td>138779</td>\n",
       "      <td>26159106</td>\n",
       "      <td>138643</td>\n",
       "      <td>39705</td>\n",
       "      <td>136</td>\n",
       "      <td>0.5</td>\n",
       "      <td>Europe</td>\n",
       "    </tr>\n",
       "  </tbody>\n",
       "</table>\n",
       "</div>"
      ],
      "text/plain": [
       "  Country/Region     Cases   Deaths    PCases  PDeaths  Cases (+)  Deaths (+)  \\\n",
       "0             US  83706662  1003743  83501457  1002726     205205        1017   \n",
       "1          India  43144820   524525  43142192   524507       2628          18   \n",
       "2         Brazil  30851191   666261  30836815   666129      14376         132   \n",
       "3         France  29605758   149095  29583616   149044      22142          51   \n",
       "4        Germany  26198811   138779  26159106   138643      39705         136   \n",
       "\n",
       "   Fatality Rate      Continent  \n",
       "0            1.2  North America  \n",
       "1            1.2           Asia  \n",
       "2            2.2  South America  \n",
       "3            0.5         Europe  \n",
       "4            0.5         Europe  "
      ]
     },
     "execution_count": 15,
     "metadata": {},
     "output_type": "execute_result"
    }
   ],
   "source": [
    "#hide\n",
    "df_table = (pd.DataFrame(dict(Cases=dfc_cases, Deaths=dfc_deaths, PCases=dfp_cases, PDeaths=dfp_deaths))\n",
    "             .sort_values(by=['Cases', 'Deaths'], ascending=[False, False])\n",
    "             .reset_index())\n",
    "df_table.rename(columns={'index': 'Country/Region'}, inplace=True)\n",
    "for c in 'Cases, Deaths'.split(', '):\n",
    "    df_table[f'{c} (+)'] = (df_table[c] - df_table[f'P{c}']).clip(0)  # DATA BUG\n",
    "df_table['Fatality Rate'] = (100 * df_table['Deaths'] / df_table['Cases']).round(1)\n",
    "df_table['Continent'] = df_table['Country/Region'].map(mapping['map.continent'])\n",
    "df_table.head(5)"
   ]
  },
  {
   "cell_type": "code",
   "execution_count": 16,
   "id": "fewer-occasion",
   "metadata": {
    "execution": {
     "iopub.execute_input": "2022-05-26T12:16:19.181258Z",
     "iopub.status.busy": "2022-05-26T12:16:19.180734Z",
     "iopub.status.idle": "2022-05-26T12:16:19.183844Z",
     "shell.execute_reply": "2022-05-26T12:16:19.184331Z"
    },
    "papermill": {
     "duration": 0.038272,
     "end_time": "2022-05-26T12:16:19.184458",
     "exception": false,
     "start_time": "2022-05-26T12:16:19.146186",
     "status": "completed"
    },
    "tags": []
   },
   "outputs": [],
   "source": [
    "#hide\n",
    "#delete problematic countries from table\n",
    "df_table = df_table[~df_table['Country/Region'].isin(['Cape Verde', 'Cruise Ship', 'Kosovo'])]"
   ]
  },
  {
   "cell_type": "code",
   "execution_count": 17,
   "id": "related-center",
   "metadata": {
    "execution": {
     "iopub.execute_input": "2022-05-26T12:16:19.256892Z",
     "iopub.status.busy": "2022-05-26T12:16:19.256319Z",
     "iopub.status.idle": "2022-05-26T12:16:19.258480Z",
     "shell.execute_reply": "2022-05-26T12:16:19.258056Z"
    },
    "papermill": {
     "duration": 0.04706,
     "end_time": "2022-05-26T12:16:19.258585",
     "exception": false,
     "start_time": "2022-05-26T12:16:19.211525",
     "status": "completed"
    },
    "tags": []
   },
   "outputs": [],
   "source": [
    "#hide\n",
    "metrics = [df_table.columns[index] for index in [1,2,5,6]]\n",
    "# s_china = df_table[df_table['Country/Region'].eq('China')][metrics].sum().add_prefix('China ')\n",
    "s_us = df_table[df_table['Country/Region'].eq('US')][metrics].sum().add_prefix('US ')\n",
    "s_eu = df_table[df_table['Continent'].eq('Europe')][metrics].sum().add_prefix('EU ')\n",
    "s_ind = df_table[df_table['Country/Region'].eq('India')][metrics].sum().add_prefix('India ')\n",
    "summary = {'updated': pd.to_datetime(dt_today), 'since': pd.to_datetime(dt_yday)}\n",
    "summary = {'updated': pd.to_datetime(dt_today), 'since': pd.to_datetime(dt_yday)}\n",
    "summary = {**summary, **df_table[metrics].sum(), **s_ind, **s_us, **s_eu}"
   ]
  },
  {
   "cell_type": "code",
   "execution_count": 18,
   "id": "engaging-syndrome",
   "metadata": {
    "execution": {
     "iopub.execute_input": "2022-05-26T12:16:19.318851Z",
     "iopub.status.busy": "2022-05-26T12:16:19.318334Z",
     "iopub.status.idle": "2022-05-26T12:16:19.337274Z",
     "shell.execute_reply": "2022-05-26T12:16:19.336677Z"
    },
    "papermill": {
     "duration": 0.051553,
     "end_time": "2022-05-26T12:16:19.337412",
     "exception": false,
     "start_time": "2022-05-26T12:16:19.285859",
     "status": "completed"
    },
    "tags": []
   },
   "outputs": [],
   "source": [
    "#hide\n",
    "dft_ct_new_cases = dft_cases.groupby(COL_REGION)[dt_cols].sum().diff(axis=1).fillna(0).astype(int)"
   ]
  },
  {
   "cell_type": "code",
   "execution_count": 19,
   "id": "neutral-assignment",
   "metadata": {
    "execution": {
     "iopub.execute_input": "2022-05-26T12:16:19.410384Z",
     "iopub.status.busy": "2022-05-26T12:16:19.409769Z",
     "iopub.status.idle": "2022-05-26T12:16:19.411653Z",
     "shell.execute_reply": "2022-05-26T12:16:19.412049Z"
    },
    "papermill": {
     "duration": 0.042104,
     "end_time": "2022-05-26T12:16:19.412172",
     "exception": false,
     "start_time": "2022-05-26T12:16:19.370068",
     "status": "completed"
    },
    "tags": []
   },
   "outputs": [],
   "source": [
    "#hide\n",
    "everydaycases = dft_ct_new_cases.cumsum(axis=1)"
   ]
  },
  {
   "cell_type": "code",
   "execution_count": 20,
   "id": "parliamentary-calgary",
   "metadata": {
    "execution": {
     "iopub.execute_input": "2022-05-26T12:16:19.471369Z",
     "iopub.status.busy": "2022-05-26T12:16:19.470841Z",
     "iopub.status.idle": "2022-05-26T12:16:19.969476Z",
     "shell.execute_reply": "2022-05-26T12:16:19.968896Z"
    },
    "papermill": {
     "duration": 0.530237,
     "end_time": "2022-05-26T12:16:19.969608",
     "exception": false,
     "start_time": "2022-05-26T12:16:19.439371",
     "status": "completed"
    },
    "tags": []
   },
   "outputs": [],
   "source": [
    "#hide\n",
    "import pandas as pd\n",
    "import matplotlib.pyplot as plt\n",
    "import matplotlib.ticker as ticker\n",
    "import matplotlib.animation as animation\n",
    "from IPython.display import HTML"
   ]
  },
  {
   "cell_type": "code",
   "execution_count": 21,
   "id": "lasting-extraction",
   "metadata": {
    "execution": {
     "iopub.execute_input": "2022-05-26T12:16:20.031622Z",
     "iopub.status.busy": "2022-05-26T12:16:20.031083Z",
     "iopub.status.idle": "2022-05-26T12:16:20.037521Z",
     "shell.execute_reply": "2022-05-26T12:16:20.037920Z"
    },
    "papermill": {
     "duration": 0.040184,
     "end_time": "2022-05-26T12:16:20.038046",
     "exception": false,
     "start_time": "2022-05-26T12:16:19.997862",
     "status": "completed"
    },
    "tags": []
   },
   "outputs": [],
   "source": [
    "#hide\n",
    "t = everydaycases.stack()"
   ]
  },
  {
   "cell_type": "code",
   "execution_count": 22,
   "id": "premier-sleeve",
   "metadata": {
    "execution": {
     "iopub.execute_input": "2022-05-26T12:16:20.097393Z",
     "iopub.status.busy": "2022-05-26T12:16:20.096857Z",
     "iopub.status.idle": "2022-05-26T12:16:20.107331Z",
     "shell.execute_reply": "2022-05-26T12:16:20.107733Z"
    },
    "papermill": {
     "duration": 0.042404,
     "end_time": "2022-05-26T12:16:20.107865",
     "exception": false,
     "start_time": "2022-05-26T12:16:20.065461",
     "status": "completed"
    },
    "tags": []
   },
   "outputs": [],
   "source": [
    "#hide\n",
    "g = t.reset_index(['Country/Region'])"
   ]
  },
  {
   "cell_type": "code",
   "execution_count": 23,
   "id": "distributed-pittsburgh",
   "metadata": {
    "execution": {
     "iopub.execute_input": "2022-05-26T12:16:20.167881Z",
     "iopub.status.busy": "2022-05-26T12:16:20.166720Z",
     "iopub.status.idle": "2022-05-26T12:16:20.168544Z",
     "shell.execute_reply": "2022-05-26T12:16:20.168991Z"
    },
    "papermill": {
     "duration": 0.034153,
     "end_time": "2022-05-26T12:16:20.169116",
     "exception": false,
     "start_time": "2022-05-26T12:16:20.134963",
     "status": "completed"
    },
    "tags": []
   },
   "outputs": [],
   "source": [
    "#hide\n",
    "g.index.name = 'date'"
   ]
  },
  {
   "cell_type": "code",
   "execution_count": 24,
   "id": "naked-donor",
   "metadata": {
    "execution": {
     "iopub.execute_input": "2022-05-26T12:16:20.227746Z",
     "iopub.status.busy": "2022-05-26T12:16:20.227064Z",
     "iopub.status.idle": "2022-05-26T12:16:20.230811Z",
     "shell.execute_reply": "2022-05-26T12:16:20.231296Z"
    },
    "papermill": {
     "duration": 0.035101,
     "end_time": "2022-05-26T12:16:20.231417",
     "exception": false,
     "start_time": "2022-05-26T12:16:20.196316",
     "status": "completed"
    },
    "tags": []
   },
   "outputs": [],
   "source": [
    "# #hide\n",
    "# g = g.reset_index(['date'])"
   ]
  },
  {
   "cell_type": "code",
   "execution_count": 25,
   "id": "incomplete-mustang",
   "metadata": {
    "execution": {
     "iopub.execute_input": "2022-05-26T12:16:20.290025Z",
     "iopub.status.busy": "2022-05-26T12:16:20.289327Z",
     "iopub.status.idle": "2022-05-26T12:16:20.293066Z",
     "shell.execute_reply": "2022-05-26T12:16:20.293444Z"
    },
    "papermill": {
     "duration": 0.035078,
     "end_time": "2022-05-26T12:16:20.293566",
     "exception": false,
     "start_time": "2022-05-26T12:16:20.258488",
     "status": "completed"
    },
    "tags": []
   },
   "outputs": [],
   "source": [
    "#hide\n",
    "# g.head()"
   ]
  },
  {
   "cell_type": "code",
   "execution_count": 26,
   "id": "specific-kruger",
   "metadata": {
    "execution": {
     "iopub.execute_input": "2022-05-26T12:16:20.352052Z",
     "iopub.status.busy": "2022-05-26T12:16:20.351459Z",
     "iopub.status.idle": "2022-05-26T12:16:20.354215Z",
     "shell.execute_reply": "2022-05-26T12:16:20.353741Z"
    },
    "papermill": {
     "duration": 0.033519,
     "end_time": "2022-05-26T12:16:20.354327",
     "exception": false,
     "start_time": "2022-05-26T12:16:20.320808",
     "status": "completed"
    },
    "tags": []
   },
   "outputs": [],
   "source": [
    "#hide\n",
    "# g.columns = ['date','country','cases']"
   ]
  },
  {
   "cell_type": "code",
   "execution_count": 27,
   "id": "tender-conversion",
   "metadata": {
    "execution": {
     "iopub.execute_input": "2022-05-26T12:16:20.415260Z",
     "iopub.status.busy": "2022-05-26T12:16:20.414712Z",
     "iopub.status.idle": "2022-05-26T12:16:20.418032Z",
     "shell.execute_reply": "2022-05-26T12:16:20.418411Z"
    },
    "papermill": {
     "duration": 0.034878,
     "end_time": "2022-05-26T12:16:20.418547",
     "exception": false,
     "start_time": "2022-05-26T12:16:20.383669",
     "status": "completed"
    },
    "tags": []
   },
   "outputs": [],
   "source": [
    "#hide\n",
    "# g['continent'] = g.country"
   ]
  },
  {
   "cell_type": "code",
   "execution_count": 28,
   "id": "substantial-wilderness",
   "metadata": {
    "execution": {
     "iopub.execute_input": "2022-05-26T12:16:20.477510Z",
     "iopub.status.busy": "2022-05-26T12:16:20.476805Z",
     "iopub.status.idle": "2022-05-26T12:16:20.478311Z",
     "shell.execute_reply": "2022-05-26T12:16:20.478939Z"
    },
    "papermill": {
     "duration": 0.033198,
     "end_time": "2022-05-26T12:16:20.479127",
     "exception": false,
     "start_time": "2022-05-26T12:16:20.445929",
     "status": "completed"
    },
    "tags": []
   },
   "outputs": [],
   "source": [
    "#hide\n",
    "# cols = list(g.columns.values)"
   ]
  },
  {
   "cell_type": "code",
   "execution_count": 29,
   "id": "solved-farming",
   "metadata": {
    "execution": {
     "iopub.execute_input": "2022-05-26T12:16:20.545731Z",
     "iopub.status.busy": "2022-05-26T12:16:20.545157Z",
     "iopub.status.idle": "2022-05-26T12:16:20.547935Z",
     "shell.execute_reply": "2022-05-26T12:16:20.547463Z"
    },
    "papermill": {
     "duration": 0.03719,
     "end_time": "2022-05-26T12:16:20.548050",
     "exception": false,
     "start_time": "2022-05-26T12:16:20.510860",
     "status": "completed"
    },
    "tags": []
   },
   "outputs": [],
   "source": [
    "#hide\n",
    "# cols.insert(0, cols.pop())"
   ]
  },
  {
   "cell_type": "code",
   "execution_count": 30,
   "id": "executed-adoption",
   "metadata": {
    "execution": {
     "iopub.execute_input": "2022-05-26T12:16:20.614101Z",
     "iopub.status.busy": "2022-05-26T12:16:20.613401Z",
     "iopub.status.idle": "2022-05-26T12:16:20.616031Z",
     "shell.execute_reply": "2022-05-26T12:16:20.615456Z"
    },
    "papermill": {
     "duration": 0.03727,
     "end_time": "2022-05-26T12:16:20.616163",
     "exception": false,
     "start_time": "2022-05-26T12:16:20.578893",
     "status": "completed"
    },
    "tags": []
   },
   "outputs": [],
   "source": [
    "#hide\n",
    "# g = g[cols]"
   ]
  },
  {
   "cell_type": "code",
   "execution_count": 31,
   "id": "subject-dublin",
   "metadata": {
    "execution": {
     "iopub.execute_input": "2022-05-26T12:16:20.675316Z",
     "iopub.status.busy": "2022-05-26T12:16:20.674616Z",
     "iopub.status.idle": "2022-05-26T12:16:20.678417Z",
     "shell.execute_reply": "2022-05-26T12:16:20.678840Z"
    },
    "papermill": {
     "duration": 0.035498,
     "end_time": "2022-05-26T12:16:20.678982",
     "exception": false,
     "start_time": "2022-05-26T12:16:20.643484",
     "status": "completed"
    },
    "tags": []
   },
   "outputs": [],
   "source": [
    "#hide\n",
    "# g['continent'] = g['continent'].map(mapping['map.continent'])"
   ]
  },
  {
   "cell_type": "code",
   "execution_count": 32,
   "id": "freelance-scout",
   "metadata": {
    "execution": {
     "iopub.execute_input": "2022-05-26T12:16:20.747193Z",
     "iopub.status.busy": "2022-05-26T12:16:20.746516Z",
     "iopub.status.idle": "2022-05-26T12:16:20.749057Z",
     "shell.execute_reply": "2022-05-26T12:16:20.748367Z"
    },
    "papermill": {
     "duration": 0.038358,
     "end_time": "2022-05-26T12:16:20.749186",
     "exception": false,
     "start_time": "2022-05-26T12:16:20.710828",
     "status": "completed"
    },
    "tags": []
   },
   "outputs": [],
   "source": [
    "#hide\n",
    "# g.head()"
   ]
  },
  {
   "cell_type": "code",
   "execution_count": 33,
   "id": "limited-engine",
   "metadata": {
    "execution": {
     "iopub.execute_input": "2022-05-26T12:16:20.808150Z",
     "iopub.status.busy": "2022-05-26T12:16:20.807475Z",
     "iopub.status.idle": "2022-05-26T12:16:20.811306Z",
     "shell.execute_reply": "2022-05-26T12:16:20.811753Z"
    },
    "papermill": {
     "duration": 0.035388,
     "end_time": "2022-05-26T12:16:20.811895",
     "exception": false,
     "start_time": "2022-05-26T12:16:20.776507",
     "status": "completed"
    },
    "tags": []
   },
   "outputs": [],
   "source": [
    "# hide\n",
    "# g['date'] = g['date'].astype('datetime64[ns]')"
   ]
  },
  {
   "cell_type": "code",
   "execution_count": 34,
   "id": "sophisticated-supervisor",
   "metadata": {
    "execution": {
     "iopub.execute_input": "2022-05-26T12:16:20.875311Z",
     "iopub.status.busy": "2022-05-26T12:16:20.874618Z",
     "iopub.status.idle": "2022-05-26T12:16:20.876096Z",
     "shell.execute_reply": "2022-05-26T12:16:20.876744Z"
    },
    "papermill": {
     "duration": 0.033289,
     "end_time": "2022-05-26T12:16:20.876898",
     "exception": false,
     "start_time": "2022-05-26T12:16:20.843609",
     "status": "completed"
    },
    "tags": []
   },
   "outputs": [],
   "source": [
    "#hide\n",
    "# g['date'] = g.date.dt.dayofyear"
   ]
  },
  {
   "cell_type": "code",
   "execution_count": 35,
   "id": "inside-dubai",
   "metadata": {
    "execution": {
     "iopub.execute_input": "2022-05-26T12:16:20.936968Z",
     "iopub.status.busy": "2022-05-26T12:16:20.936242Z",
     "iopub.status.idle": "2022-05-26T12:16:20.938833Z",
     "shell.execute_reply": "2022-05-26T12:16:20.939314Z"
    },
    "papermill": {
     "duration": 0.034432,
     "end_time": "2022-05-26T12:16:20.939467",
     "exception": false,
     "start_time": "2022-05-26T12:16:20.905035",
     "status": "completed"
    },
    "tags": []
   },
   "outputs": [],
   "source": [
    "#hide\n",
    "# g = g.rename(columns= {'continent':'group','country':'name','cases':'value'})"
   ]
  },
  {
   "cell_type": "code",
   "execution_count": 36,
   "id": "fleet-motorcycle",
   "metadata": {
    "execution": {
     "iopub.execute_input": "2022-05-26T12:16:20.999034Z",
     "iopub.status.busy": "2022-05-26T12:16:20.998346Z",
     "iopub.status.idle": "2022-05-26T12:16:21.002305Z",
     "shell.execute_reply": "2022-05-26T12:16:21.002787Z"
    },
    "papermill": {
     "duration": 0.035563,
     "end_time": "2022-05-26T12:16:21.002942",
     "exception": false,
     "start_time": "2022-05-26T12:16:20.967379",
     "status": "completed"
    },
    "tags": []
   },
   "outputs": [],
   "source": [
    "#hide\n",
    "# cols = ['name','group','day','value']"
   ]
  },
  {
   "cell_type": "code",
   "execution_count": 37,
   "id": "continued-sleeping",
   "metadata": {
    "execution": {
     "iopub.execute_input": "2022-05-26T12:16:21.061752Z",
     "iopub.status.busy": "2022-05-26T12:16:21.061078Z",
     "iopub.status.idle": "2022-05-26T12:16:21.063102Z",
     "shell.execute_reply": "2022-05-26T12:16:21.062450Z"
    },
    "papermill": {
     "duration": 0.032924,
     "end_time": "2022-05-26T12:16:21.063231",
     "exception": false,
     "start_time": "2022-05-26T12:16:21.030307",
     "status": "completed"
    },
    "tags": []
   },
   "outputs": [],
   "source": [
    "#hide\n",
    "# g.rename(columns= {'date':'day'},inplace = True)"
   ]
  },
  {
   "cell_type": "code",
   "execution_count": 38,
   "id": "major-fight",
   "metadata": {
    "execution": {
     "iopub.execute_input": "2022-05-26T12:16:21.122040Z",
     "iopub.status.busy": "2022-05-26T12:16:21.121432Z",
     "iopub.status.idle": "2022-05-26T12:16:21.123979Z",
     "shell.execute_reply": "2022-05-26T12:16:21.123502Z"
    },
    "papermill": {
     "duration": 0.033337,
     "end_time": "2022-05-26T12:16:21.124093",
     "exception": false,
     "start_time": "2022-05-26T12:16:21.090756",
     "status": "completed"
    },
    "tags": []
   },
   "outputs": [],
   "source": [
    "#hide\n",
    "# g = g[cols]"
   ]
  },
  {
   "cell_type": "code",
   "execution_count": 39,
   "id": "structured-mobile",
   "metadata": {
    "execution": {
     "iopub.execute_input": "2022-05-26T12:16:21.182767Z",
     "iopub.status.busy": "2022-05-26T12:16:21.182082Z",
     "iopub.status.idle": "2022-05-26T12:16:21.185973Z",
     "shell.execute_reply": "2022-05-26T12:16:21.186345Z"
    },
    "papermill": {
     "duration": 0.035199,
     "end_time": "2022-05-26T12:16:21.186477",
     "exception": false,
     "start_time": "2022-05-26T12:16:21.151278",
     "status": "completed"
    },
    "tags": []
   },
   "outputs": [],
   "source": [
    "# #hide\n",
    "# g = g[g.group.notna()]"
   ]
  },
  {
   "cell_type": "code",
   "execution_count": 40,
   "id": "determined-closing",
   "metadata": {
    "execution": {
     "iopub.execute_input": "2022-05-26T12:16:21.245161Z",
     "iopub.status.busy": "2022-05-26T12:16:21.244528Z",
     "iopub.status.idle": "2022-05-26T12:16:21.247605Z",
     "shell.execute_reply": "2022-05-26T12:16:21.247181Z"
    },
    "papermill": {
     "duration": 0.033867,
     "end_time": "2022-05-26T12:16:21.247708",
     "exception": false,
     "start_time": "2022-05-26T12:16:21.213841",
     "status": "completed"
    },
    "tags": []
   },
   "outputs": [],
   "source": [
    "# #hide\n",
    "# colors = dict(zip(\n",
    "#     [\"Oceania\", \"Europe\", \"Asia\", \"South America\", \"Middle East\", \"North America\", \"Africa\"],\n",
    "#     [\"#adb0ff\", \"#ffb3ff\", \"#90d595\", \"#e48381\", \"#aafbff\", \"#f7bb5f\", \"#eafb50\"]\n",
    "# ))\n",
    "# group_lk = g.set_index('name')['group'].to_dict()"
   ]
  },
  {
   "cell_type": "code",
   "execution_count": null,
   "id": "gross-drinking",
   "metadata": {
    "papermill": {
     "duration": 0.027095,
     "end_time": "2022-05-26T12:16:21.301979",
     "exception": false,
     "start_time": "2022-05-26T12:16:21.274884",
     "status": "completed"
    },
    "tags": []
   },
   "outputs": [],
   "source": []
  },
  {
   "cell_type": "code",
   "execution_count": 41,
   "id": "subject-macintosh",
   "metadata": {
    "execution": {
     "iopub.execute_input": "2022-05-26T12:16:21.361726Z",
     "iopub.status.busy": "2022-05-26T12:16:21.361092Z",
     "iopub.status.idle": "2022-05-26T12:16:21.363352Z",
     "shell.execute_reply": "2022-05-26T12:16:21.364046Z"
    },
    "papermill": {
     "duration": 0.034914,
     "end_time": "2022-05-26T12:16:21.364187",
     "exception": false,
     "start_time": "2022-05-26T12:16:21.329273",
     "status": "completed"
    },
    "tags": []
   },
   "outputs": [],
   "source": [
    "# #hide\n",
    "# fig, ax = plt.subplots(figsize=(15, 8))\n",
    "\n",
    "# def draw_barchart(current_day):\n",
    "#     dff = g[g['day'].eq(current_day)].sort_values(by='value', ascending=True).tail(10)\n",
    "#     ax.clear()\n",
    "#     ax.barh(dff['name'], dff['value'], color=[colors[group_lk[x]] for x in dff['name']])\n",
    "#     dx = dff['value'].max() / 200\n",
    "    \n",
    "#     for i, (value, name) in enumerate(zip(dff['value'], dff['name'])):\n",
    "#         ax.text(value-dx, i,     name,           size=14, weight=600, ha='right', va='bottom')\n",
    "#         ax.text(value-dx, i-.25, group_lk[name], size=10, color='#444444', ha='right', va='baseline')\n",
    "#         ax.text(value+dx, i,     f'{value:,.0f}',  size=14, ha='left',  va='center')\n",
    "#     ax.text(1, 0.4, current_day, transform=ax.transAxes, color='#777777', size=46, ha='right', weight=800)\n",
    "#     ax.text(0, 1.06, 'Population (thousands)', transform=ax.transAxes, size=12, color='#777777')\n",
    "#     ax.xaxis.set_major_formatter(ticker.StrMethodFormatter('{x:,.0f}'))\n",
    "#     ax.xaxis.set_ticks_position('top')\n",
    "#     ax.tick_params(axis='x', colors='#777777', labelsize=12)\n",
    "#     ax.set_yticks([])\n",
    "#     ax.margins(0, 0.01)\n",
    "#     ax.grid(which='major', axis='x', linestyle='-')\n",
    "#     ax.set_axisbelow(True)\n",
    "    \n",
    "#     ax.text(0, 1.15, 'Coronavirus',\n",
    "#             transform=ax.transAxes, size=24, weight=600, ha='left', va='top')\n",
    "# #     ax.text(1, 0, 'by @pratapvardhan; credit @jburnmurdoch', transform=ax.transAxes, color='#777777', ha='right',\n",
    "# #             bbox=dict(facecolor='white', alpha=0.8, edgecolor='white'))\n",
    "#     plt.box(False)"
   ]
  },
  {
   "cell_type": "code",
   "execution_count": 42,
   "id": "sexual-wages",
   "metadata": {
    "execution": {
     "iopub.execute_input": "2022-05-26T12:16:21.431114Z",
     "iopub.status.busy": "2022-05-26T12:16:21.430541Z",
     "iopub.status.idle": "2022-05-26T12:16:21.434154Z",
     "shell.execute_reply": "2022-05-26T12:16:21.433721Z"
    },
    "papermill": {
     "duration": 0.038965,
     "end_time": "2022-05-26T12:16:21.434260",
     "exception": false,
     "start_time": "2022-05-26T12:16:21.395295",
     "status": "completed"
    },
    "tags": []
   },
   "outputs": [],
   "source": [
    "# #hide_input\n",
    "# fig, ax = plt.subplots(figsize=(15, 8))\n",
    "# animator = animation.FuncAnimation(fig, draw_barchart, frames=range(g.day.values.min(), g.day.values.max()))\n",
    "# HTML(animator.to_jshtml())\n",
    "# # or use animator.to_html5_video() or animator.save() "
   ]
  },
  {
   "cell_type": "code",
   "execution_count": null,
   "id": "australian-container",
   "metadata": {
    "papermill": {
     "duration": 0.027186,
     "end_time": "2022-05-26T12:16:21.489068",
     "exception": false,
     "start_time": "2022-05-26T12:16:21.461882",
     "status": "completed"
    },
    "tags": []
   },
   "outputs": [],
   "source": []
  },
  {
   "cell_type": "code",
   "execution_count": null,
   "id": "mediterranean-pontiac",
   "metadata": {
    "papermill": {
     "duration": 0.027189,
     "end_time": "2022-05-26T12:16:21.544090",
     "exception": false,
     "start_time": "2022-05-26T12:16:21.516901",
     "status": "completed"
    },
    "tags": []
   },
   "outputs": [],
   "source": []
  },
  {
   "cell_type": "code",
   "execution_count": null,
   "id": "aging-legislature",
   "metadata": {
    "papermill": {
     "duration": 0.027053,
     "end_time": "2022-05-26T12:16:21.598549",
     "exception": false,
     "start_time": "2022-05-26T12:16:21.571496",
     "status": "completed"
    },
    "tags": []
   },
   "outputs": [],
   "source": []
  }
 ],
 "metadata": {
  "kernelspec": {
   "display_name": "Python 3",
   "language": "python",
   "name": "python3"
  },
  "language_info": {
   "codemirror_mode": {
    "name": "ipython",
    "version": 3
   },
   "file_extension": ".py",
   "mimetype": "text/x-python",
   "name": "python",
   "nbconvert_exporter": "python",
   "pygments_lexer": "ipython3",
   "version": "3.6.15"
  },
  "papermill": {
   "duration": 5.826583,
   "end_time": "2022-05-26T12:16:22.045058",
   "environment_variables": {},
   "exception": null,
   "input_path": "2020-03-21-covid19exp.ipynb",
   "output_path": "2020-03-21-covid19exp.ipynb",
   "parameters": {},
   "start_time": "2022-05-26T12:16:16.218475",
   "version": "2.0.0"
  }
 },
 "nbformat": 4,
 "nbformat_minor": 5
}