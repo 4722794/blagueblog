{
 "cells": [
  {
   "cell_type": "markdown",
   "id": "muslim-click",
   "metadata": {
    "papermill": {
     "duration": 0.037526,
     "end_time": "2021-09-27T00:23:17.346318",
     "exception": false,
     "start_time": "2021-09-27T00:23:17.308792",
     "status": "completed"
    },
    "tags": []
   },
   "source": [
    "# COVID-19 Case Race\n",
    "> A race chart to see rising cases around the world\n",
    "\n",
    "- author: Hargun Oberoi\n",
    "- image: images/covid-overview.png\n",
    "- hide: false\n",
    "- badges: false"
   ]
  },
  {
   "cell_type": "code",
   "execution_count": 1,
   "id": "proof-material",
   "metadata": {
    "execution": {
     "iopub.execute_input": "2021-09-27T00:23:17.422280Z",
     "iopub.status.busy": "2021-09-27T00:23:17.421732Z",
     "iopub.status.idle": "2021-09-27T00:23:17.769716Z",
     "shell.execute_reply": "2021-09-27T00:23:17.769062Z"
    },
    "papermill": {
     "duration": 0.390266,
     "end_time": "2021-09-27T00:23:17.769909",
     "exception": false,
     "start_time": "2021-09-27T00:23:17.379643",
     "status": "completed"
    },
    "tags": []
   },
   "outputs": [],
   "source": [
    "#hide\n",
    "import numpy as np\n",
    "import pandas as pd\n",
    "from jinja2 import Template\n",
    "from IPython.display import HTML"
   ]
  },
  {
   "cell_type": "code",
   "execution_count": 2,
   "id": "developed-terminology",
   "metadata": {
    "execution": {
     "iopub.execute_input": "2021-09-27T00:23:17.844740Z",
     "iopub.status.busy": "2021-09-27T00:23:17.844150Z",
     "iopub.status.idle": "2021-09-27T00:23:17.846988Z",
     "shell.execute_reply": "2021-09-27T00:23:17.846487Z"
    },
    "papermill": {
     "duration": 0.041767,
     "end_time": "2021-09-27T00:23:17.847101",
     "exception": false,
     "start_time": "2021-09-27T00:23:17.805334",
     "status": "completed"
    },
    "tags": []
   },
   "outputs": [],
   "source": [
    "#hide\n",
    "\n",
    "# FETCH\n",
    "base_url = 'https://raw.githubusercontent.com/pratapvardhan/notebooks/master/covid19/'\n",
    "paths = {\n",
    "    'mapping': base_url + 'mapping_countries.csv',\n",
    "    'overview': base_url + 'overview.tpl'\n",
    "}"
   ]
  },
  {
   "cell_type": "code",
   "execution_count": 3,
   "id": "dynamic-saver",
   "metadata": {
    "execution": {
     "iopub.execute_input": "2021-09-27T00:23:17.923550Z",
     "iopub.status.busy": "2021-09-27T00:23:17.922929Z",
     "iopub.status.idle": "2021-09-27T00:23:17.926326Z",
     "shell.execute_reply": "2021-09-27T00:23:17.925793Z"
    },
    "papermill": {
     "duration": 0.046932,
     "end_time": "2021-09-27T00:23:17.926463",
     "exception": false,
     "start_time": "2021-09-27T00:23:17.879531",
     "status": "completed"
    },
    "tags": []
   },
   "outputs": [
    {
     "data": {
      "text/plain": [
       "'https://raw.githubusercontent.com/pratapvardhan/notebooks/master/covid19/mapping_countries.csv'"
      ]
     },
     "execution_count": 3,
     "metadata": {},
     "output_type": "execute_result"
    }
   ],
   "source": [
    "#hide\n",
    "paths['mapping']"
   ]
  },
  {
   "cell_type": "code",
   "execution_count": 4,
   "id": "urban-software",
   "metadata": {
    "execution": {
     "iopub.execute_input": "2021-09-27T00:23:17.999790Z",
     "iopub.status.busy": "2021-09-27T00:23:17.998322Z",
     "iopub.status.idle": "2021-09-27T00:23:18.000403Z",
     "shell.execute_reply": "2021-09-27T00:23:18.000995Z"
    },
    "papermill": {
     "duration": 0.040395,
     "end_time": "2021-09-27T00:23:18.001112",
     "exception": false,
     "start_time": "2021-09-27T00:23:17.960717",
     "status": "completed"
    },
    "tags": []
   },
   "outputs": [],
   "source": [
    "#hide\n",
    "def get_mappings(url):\n",
    "    df = pd.read_csv(url)\n",
    "    return {\n",
    "        'df': df,\n",
    "        'replace.country': dict(df.dropna(subset=['Name']).set_index('Country')['Name']),\n",
    "        'map.continent': dict(df.set_index('Name')['Continent'])\n",
    "    }"
   ]
  },
  {
   "cell_type": "code",
   "execution_count": 5,
   "id": "intimate-machinery",
   "metadata": {
    "execution": {
     "iopub.execute_input": "2021-09-27T00:23:18.077055Z",
     "iopub.status.busy": "2021-09-27T00:23:18.076397Z",
     "iopub.status.idle": "2021-09-27T00:23:18.120887Z",
     "shell.execute_reply": "2021-09-27T00:23:18.121582Z"
    },
    "papermill": {
     "duration": 0.086472,
     "end_time": "2021-09-27T00:23:18.121738",
     "exception": false,
     "start_time": "2021-09-27T00:23:18.035266",
     "status": "completed"
    },
    "tags": []
   },
   "outputs": [],
   "source": [
    "#hide\n",
    "mapping = get_mappings(paths['mapping'])"
   ]
  },
  {
   "cell_type": "code",
   "execution_count": 6,
   "id": "certified-tactics",
   "metadata": {
    "execution": {
     "iopub.execute_input": "2021-09-27T00:23:18.195887Z",
     "iopub.status.busy": "2021-09-27T00:23:18.195189Z",
     "iopub.status.idle": "2021-09-27T00:23:18.198100Z",
     "shell.execute_reply": "2021-09-27T00:23:18.197567Z"
    },
    "papermill": {
     "duration": 0.041826,
     "end_time": "2021-09-27T00:23:18.198201",
     "exception": false,
     "start_time": "2021-09-27T00:23:18.156375",
     "status": "completed"
    },
    "tags": []
   },
   "outputs": [],
   "source": [
    "#hide\n",
    "def get_template(path):\n",
    "    from urllib.parse import urlparse\n",
    "    if bool(urlparse(path).netloc):\n",
    "        from urllib.request import urlopen\n",
    "        return urlopen(path).read().decode('utf8')\n",
    "    return open(path).read()"
   ]
  },
  {
   "cell_type": "code",
   "execution_count": 7,
   "id": "realistic-blast",
   "metadata": {
    "execution": {
     "iopub.execute_input": "2021-09-27T00:23:18.271189Z",
     "iopub.status.busy": "2021-09-27T00:23:18.270577Z",
     "iopub.status.idle": "2021-09-27T00:23:18.272597Z",
     "shell.execute_reply": "2021-09-27T00:23:18.273215Z"
    },
    "papermill": {
     "duration": 0.041708,
     "end_time": "2021-09-27T00:23:18.273328",
     "exception": false,
     "start_time": "2021-09-27T00:23:18.231620",
     "status": "completed"
    },
    "tags": []
   },
   "outputs": [],
   "source": [
    "#hide\n",
    "def get_frame(name):\n",
    "    url = (\n",
    "        'https://raw.githubusercontent.com/CSSEGISandData/COVID-19/master/csse_covid_19_data/'\n",
    "        f'csse_covid_19_time_series/time_series_covid19_{name}_global.csv')\n",
    "    df = pd.read_csv(url)\n",
    "    # rename countries\n",
    "    df['Country/Region'] = df['Country/Region'].replace(mapping['replace.country'])\n",
    "    return df"
   ]
  },
  {
   "cell_type": "code",
   "execution_count": 8,
   "id": "affiliated-characterization",
   "metadata": {
    "execution": {
     "iopub.execute_input": "2021-09-27T00:23:18.344663Z",
     "iopub.status.busy": "2021-09-27T00:23:18.344032Z",
     "iopub.status.idle": "2021-09-27T00:23:18.346217Z",
     "shell.execute_reply": "2021-09-27T00:23:18.346646Z"
    },
    "papermill": {
     "duration": 0.040912,
     "end_time": "2021-09-27T00:23:18.346826",
     "exception": false,
     "start_time": "2021-09-27T00:23:18.305914",
     "status": "completed"
    },
    "tags": []
   },
   "outputs": [],
   "source": [
    "#hide\n",
    "def get_dates(df):\n",
    "    dt_cols = df.columns[~df.columns.isin(['Province/State', 'Country/Region', 'Lat', 'Long'])]\n",
    "    LAST_DATE_I = -1\n",
    "    # sometimes last column may be empty, then go backwards\n",
    "    for i in range(-1, -len(dt_cols), -1):\n",
    "        if not df[dt_cols[i]].fillna(0).eq(0).all():\n",
    "            LAST_DATE_I = i\n",
    "            break\n",
    "    return LAST_DATE_I, dt_cols"
   ]
  },
  {
   "cell_type": "code",
   "execution_count": 9,
   "id": "recent-optimization",
   "metadata": {
    "execution": {
     "iopub.execute_input": "2021-09-27T00:23:18.419588Z",
     "iopub.status.busy": "2021-09-27T00:23:18.418335Z",
     "iopub.status.idle": "2021-09-27T00:23:18.799559Z",
     "shell.execute_reply": "2021-09-27T00:23:18.799044Z"
    },
    "papermill": {
     "duration": 0.418871,
     "end_time": "2021-09-27T00:23:18.799680",
     "exception": false,
     "start_time": "2021-09-27T00:23:18.380809",
     "status": "completed"
    },
    "tags": []
   },
   "outputs": [],
   "source": [
    "#hide\n",
    "COL_REGION = 'Country/Region'\n",
    "# Confirmed, Recovered, Deaths\n",
    "df = get_frame('confirmed')\n",
    "# dft_: timeseries, dfc_: today country agg\n",
    "dft_cases = df\n",
    "dft_deaths = get_frame('deaths')\n",
    "dft_recovered = get_frame('recovered')\n",
    "LAST_DATE_I, dt_cols = get_dates(df)"
   ]
  },
  {
   "cell_type": "code",
   "execution_count": 10,
   "id": "absolute-copper",
   "metadata": {
    "execution": {
     "iopub.execute_input": "2021-09-27T00:23:18.871455Z",
     "iopub.status.busy": "2021-09-27T00:23:18.870830Z",
     "iopub.status.idle": "2021-09-27T00:23:18.873209Z",
     "shell.execute_reply": "2021-09-27T00:23:18.873653Z"
    },
    "papermill": {
     "duration": 0.040614,
     "end_time": "2021-09-27T00:23:18.873769",
     "exception": false,
     "start_time": "2021-09-27T00:23:18.833155",
     "status": "completed"
    },
    "tags": []
   },
   "outputs": [],
   "source": [
    "#hide\n",
    "LAST_DATE_I, dt_cols = get_dates(df)\n",
    "dt_today =dt_cols[LAST_DATE_I]\n",
    "# dt_5day = dt_cols[LAST_DATE_I - 5]\n",
    "dt_yday = dt_cols[LAST_DATE_I - 1]"
   ]
  },
  {
   "cell_type": "code",
   "execution_count": 11,
   "id": "restricted-sheriff",
   "metadata": {
    "execution": {
     "iopub.execute_input": "2021-09-27T00:23:18.944428Z",
     "iopub.status.busy": "2021-09-27T00:23:18.943842Z",
     "iopub.status.idle": "2021-09-27T00:23:18.953082Z",
     "shell.execute_reply": "2021-09-27T00:23:18.953702Z"
    },
    "papermill": {
     "duration": 0.047293,
     "end_time": "2021-09-27T00:23:18.953821",
     "exception": false,
     "start_time": "2021-09-27T00:23:18.906528",
     "status": "completed"
    },
    "tags": []
   },
   "outputs": [],
   "source": [
    "#hide\n",
    "dfc_cases = dft_cases.groupby(COL_REGION)[dt_today].sum()\n",
    "dfc_deaths = dft_deaths.groupby(COL_REGION)[dt_today].sum()\n",
    "# dfp_cases = dft_cases.groupby(COL_REGION)[dt_5day].sum()\n",
    "# dfp_deaths = dft_deaths.groupby(COL_REGION)[dt_5day].sum()\n",
    "dfp_cases = dft_cases.groupby(COL_REGION)[dt_yday].sum()\n",
    "dfp_deaths = dft_deaths.groupby(COL_REGION)[dt_yday].sum()"
   ]
  },
  {
   "cell_type": "code",
   "execution_count": 12,
   "id": "deluxe-hepatitis",
   "metadata": {
    "execution": {
     "iopub.execute_input": "2021-09-27T00:23:19.028392Z",
     "iopub.status.busy": "2021-09-27T00:23:19.027770Z",
     "iopub.status.idle": "2021-09-27T00:23:19.033149Z",
     "shell.execute_reply": "2021-09-27T00:23:19.032650Z"
    },
    "papermill": {
     "duration": 0.045264,
     "end_time": "2021-09-27T00:23:19.033268",
     "exception": false,
     "start_time": "2021-09-27T00:23:18.988004",
     "status": "completed"
    },
    "tags": []
   },
   "outputs": [],
   "source": [
    "#hide\n",
    "df_table = (pd.DataFrame(dict(Cases = dfc_cases, Deaths = dfc_deaths, PCases = dfp_cases, PDeaths = dfp_deaths))\n",
    "            .sort_values(by = ['Cases','Deaths'], ascending = [False, False])\n",
    "            .reset_index())"
   ]
  },
  {
   "cell_type": "code",
   "execution_count": 13,
   "id": "educational-chancellor",
   "metadata": {
    "execution": {
     "iopub.execute_input": "2021-09-27T00:23:19.123861Z",
     "iopub.status.busy": "2021-09-27T00:23:19.123240Z",
     "iopub.status.idle": "2021-09-27T00:23:19.132128Z",
     "shell.execute_reply": "2021-09-27T00:23:19.132691Z"
    },
    "papermill": {
     "duration": 0.064181,
     "end_time": "2021-09-27T00:23:19.132882",
     "exception": false,
     "start_time": "2021-09-27T00:23:19.068701",
     "status": "completed"
    },
    "tags": []
   },
   "outputs": [
    {
     "data": {
      "text/html": [
       "<div>\n",
       "<style scoped>\n",
       "    .dataframe tbody tr th:only-of-type {\n",
       "        vertical-align: middle;\n",
       "    }\n",
       "\n",
       "    .dataframe tbody tr th {\n",
       "        vertical-align: top;\n",
       "    }\n",
       "\n",
       "    .dataframe thead th {\n",
       "        text-align: right;\n",
       "    }\n",
       "</style>\n",
       "<table border=\"1\" class=\"dataframe\">\n",
       "  <thead>\n",
       "    <tr style=\"text-align: right;\">\n",
       "      <th></th>\n",
       "      <th>Country/Region</th>\n",
       "      <th>Cases</th>\n",
       "      <th>Deaths</th>\n",
       "      <th>PCases</th>\n",
       "      <th>PDeaths</th>\n",
       "      <th>Cases (+)</th>\n",
       "      <th>Deaths (+)</th>\n",
       "      <th>Fatality Rate</th>\n",
       "      <th>Continent</th>\n",
       "    </tr>\n",
       "  </thead>\n",
       "  <tbody>\n",
       "    <tr>\n",
       "      <th>0</th>\n",
       "      <td>US</td>\n",
       "      <td>42900402</td>\n",
       "      <td>687746</td>\n",
       "      <td>42852871</td>\n",
       "      <td>687084</td>\n",
       "      <td>47531</td>\n",
       "      <td>662</td>\n",
       "      <td>1.60</td>\n",
       "      <td>North America</td>\n",
       "    </tr>\n",
       "    <tr>\n",
       "      <th>1</th>\n",
       "      <td>India</td>\n",
       "      <td>33652745</td>\n",
       "      <td>446918</td>\n",
       "      <td>33624419</td>\n",
       "      <td>446658</td>\n",
       "      <td>28326</td>\n",
       "      <td>260</td>\n",
       "      <td>1.33</td>\n",
       "      <td>Asia</td>\n",
       "    </tr>\n",
       "    <tr>\n",
       "      <th>2</th>\n",
       "      <td>Brazil</td>\n",
       "      <td>21343304</td>\n",
       "      <td>594200</td>\n",
       "      <td>21327616</td>\n",
       "      <td>593663</td>\n",
       "      <td>15688</td>\n",
       "      <td>537</td>\n",
       "      <td>2.78</td>\n",
       "      <td>South America</td>\n",
       "    </tr>\n",
       "    <tr>\n",
       "      <th>3</th>\n",
       "      <td>United Kingdom</td>\n",
       "      <td>7667290</td>\n",
       "      <td>136465</td>\n",
       "      <td>7637314</td>\n",
       "      <td>136336</td>\n",
       "      <td>29976</td>\n",
       "      <td>129</td>\n",
       "      <td>1.78</td>\n",
       "      <td>Europe</td>\n",
       "    </tr>\n",
       "    <tr>\n",
       "      <th>4</th>\n",
       "      <td>Russia</td>\n",
       "      <td>7291097</td>\n",
       "      <td>199450</td>\n",
       "      <td>7269514</td>\n",
       "      <td>198644</td>\n",
       "      <td>21583</td>\n",
       "      <td>806</td>\n",
       "      <td>2.74</td>\n",
       "      <td>Europe</td>\n",
       "    </tr>\n",
       "  </tbody>\n",
       "</table>\n",
       "</div>"
      ],
      "text/plain": [
       "   Country/Region     Cases  Deaths    PCases  PDeaths  Cases (+)  Deaths (+)  \\\n",
       "0              US  42900402  687746  42852871   687084      47531         662   \n",
       "1           India  33652745  446918  33624419   446658      28326         260   \n",
       "2          Brazil  21343304  594200  21327616   593663      15688         537   \n",
       "3  United Kingdom   7667290  136465   7637314   136336      29976         129   \n",
       "4          Russia   7291097  199450   7269514   198644      21583         806   \n",
       "\n",
       "   Fatality Rate      Continent  \n",
       "0           1.60  North America  \n",
       "1           1.33           Asia  \n",
       "2           2.78  South America  \n",
       "3           1.78         Europe  \n",
       "4           2.74         Europe  "
      ]
     },
     "execution_count": 13,
     "metadata": {},
     "output_type": "execute_result"
    }
   ],
   "source": [
    "#hide\n",
    "for c in 'Cases, Deaths'.split(', '):\n",
    "    df_table[f'{c} (+)'] = (df_table[c] - df_table[f'P{c}']).clip(0)\n",
    "    #Clip ça veut dire, les chiffres negatif sont interdit\n",
    "df_table['Fatality Rate'] = (100* df_table['Deaths']/ df_table['Cases']).round(2)\n",
    "df_table['Continent'] = df_table['Country/Region'].map(mapping['map.continent'])\n",
    "df_table.head(5)"
   ]
  },
  {
   "cell_type": "code",
   "execution_count": 14,
   "id": "aboriginal-bulgaria",
   "metadata": {
    "execution": {
     "iopub.execute_input": "2021-09-27T00:23:19.206899Z",
     "iopub.status.busy": "2021-09-27T00:23:19.206275Z",
     "iopub.status.idle": "2021-09-27T00:23:19.209355Z",
     "shell.execute_reply": "2021-09-27T00:23:19.209864Z"
    },
    "papermill": {
     "duration": 0.041808,
     "end_time": "2021-09-27T00:23:19.210005",
     "exception": false,
     "start_time": "2021-09-27T00:23:19.168197",
     "status": "completed"
    },
    "tags": []
   },
   "outputs": [],
   "source": [
    "#hide\n",
    "#delete problematic countries from table\n",
    "df_table = df_table[~df_table['Country/Region'].isin(['Cape Verde', 'Cruise Ship', 'Kosovo'])]"
   ]
  },
  {
   "cell_type": "code",
   "execution_count": 15,
   "id": "fantastic-effect",
   "metadata": {
    "execution": {
     "iopub.execute_input": "2021-09-27T00:23:19.289938Z",
     "iopub.status.busy": "2021-09-27T00:23:19.289358Z",
     "iopub.status.idle": "2021-09-27T00:23:19.310921Z",
     "shell.execute_reply": "2021-09-27T00:23:19.310372Z"
    },
    "papermill": {
     "duration": 0.064644,
     "end_time": "2021-09-27T00:23:19.311032",
     "exception": false,
     "start_time": "2021-09-27T00:23:19.246388",
     "status": "completed"
    },
    "tags": []
   },
   "outputs": [
    {
     "data": {
      "text/html": [
       "<div>\n",
       "<style scoped>\n",
       "    .dataframe tbody tr th:only-of-type {\n",
       "        vertical-align: middle;\n",
       "    }\n",
       "\n",
       "    .dataframe tbody tr th {\n",
       "        vertical-align: top;\n",
       "    }\n",
       "\n",
       "    .dataframe thead th {\n",
       "        text-align: right;\n",
       "    }\n",
       "</style>\n",
       "<table border=\"1\" class=\"dataframe\">\n",
       "  <thead>\n",
       "    <tr style=\"text-align: right;\">\n",
       "      <th></th>\n",
       "      <th>Country/Region</th>\n",
       "      <th>Cases</th>\n",
       "      <th>Deaths</th>\n",
       "      <th>PCases</th>\n",
       "      <th>PDeaths</th>\n",
       "      <th>Cases (+)</th>\n",
       "      <th>Deaths (+)</th>\n",
       "      <th>Fatality Rate</th>\n",
       "      <th>Continent</th>\n",
       "    </tr>\n",
       "  </thead>\n",
       "  <tbody>\n",
       "    <tr>\n",
       "      <th>0</th>\n",
       "      <td>US</td>\n",
       "      <td>42900402</td>\n",
       "      <td>687746</td>\n",
       "      <td>42852871</td>\n",
       "      <td>687084</td>\n",
       "      <td>47531</td>\n",
       "      <td>662</td>\n",
       "      <td>1.6</td>\n",
       "      <td>North America</td>\n",
       "    </tr>\n",
       "    <tr>\n",
       "      <th>1</th>\n",
       "      <td>India</td>\n",
       "      <td>33652745</td>\n",
       "      <td>446918</td>\n",
       "      <td>33624419</td>\n",
       "      <td>446658</td>\n",
       "      <td>28326</td>\n",
       "      <td>260</td>\n",
       "      <td>1.3</td>\n",
       "      <td>Asia</td>\n",
       "    </tr>\n",
       "    <tr>\n",
       "      <th>2</th>\n",
       "      <td>Brazil</td>\n",
       "      <td>21343304</td>\n",
       "      <td>594200</td>\n",
       "      <td>21327616</td>\n",
       "      <td>593663</td>\n",
       "      <td>15688</td>\n",
       "      <td>537</td>\n",
       "      <td>2.8</td>\n",
       "      <td>South America</td>\n",
       "    </tr>\n",
       "    <tr>\n",
       "      <th>3</th>\n",
       "      <td>United Kingdom</td>\n",
       "      <td>7667290</td>\n",
       "      <td>136465</td>\n",
       "      <td>7637314</td>\n",
       "      <td>136336</td>\n",
       "      <td>29976</td>\n",
       "      <td>129</td>\n",
       "      <td>1.8</td>\n",
       "      <td>Europe</td>\n",
       "    </tr>\n",
       "    <tr>\n",
       "      <th>4</th>\n",
       "      <td>Russia</td>\n",
       "      <td>7291097</td>\n",
       "      <td>199450</td>\n",
       "      <td>7269514</td>\n",
       "      <td>198644</td>\n",
       "      <td>21583</td>\n",
       "      <td>806</td>\n",
       "      <td>2.7</td>\n",
       "      <td>Europe</td>\n",
       "    </tr>\n",
       "  </tbody>\n",
       "</table>\n",
       "</div>"
      ],
      "text/plain": [
       "   Country/Region     Cases  Deaths    PCases  PDeaths  Cases (+)  Deaths (+)  \\\n",
       "0              US  42900402  687746  42852871   687084      47531         662   \n",
       "1           India  33652745  446918  33624419   446658      28326         260   \n",
       "2          Brazil  21343304  594200  21327616   593663      15688         537   \n",
       "3  United Kingdom   7667290  136465   7637314   136336      29976         129   \n",
       "4          Russia   7291097  199450   7269514   198644      21583         806   \n",
       "\n",
       "   Fatality Rate      Continent  \n",
       "0            1.6  North America  \n",
       "1            1.3           Asia  \n",
       "2            2.8  South America  \n",
       "3            1.8         Europe  \n",
       "4            2.7         Europe  "
      ]
     },
     "execution_count": 15,
     "metadata": {},
     "output_type": "execute_result"
    }
   ],
   "source": [
    "#hide\n",
    "df_table = (pd.DataFrame(dict(Cases=dfc_cases, Deaths=dfc_deaths, PCases=dfp_cases, PDeaths=dfp_deaths))\n",
    "             .sort_values(by=['Cases', 'Deaths'], ascending=[False, False])\n",
    "             .reset_index())\n",
    "df_table.rename(columns={'index': 'Country/Region'}, inplace=True)\n",
    "for c in 'Cases, Deaths'.split(', '):\n",
    "    df_table[f'{c} (+)'] = (df_table[c] - df_table[f'P{c}']).clip(0)  # DATA BUG\n",
    "df_table['Fatality Rate'] = (100 * df_table['Deaths'] / df_table['Cases']).round(1)\n",
    "df_table['Continent'] = df_table['Country/Region'].map(mapping['map.continent'])\n",
    "df_table.head(5)"
   ]
  },
  {
   "cell_type": "code",
   "execution_count": 16,
   "id": "fewer-occasion",
   "metadata": {
    "execution": {
     "iopub.execute_input": "2021-09-27T00:23:19.388032Z",
     "iopub.status.busy": "2021-09-27T00:23:19.387396Z",
     "iopub.status.idle": "2021-09-27T00:23:19.390294Z",
     "shell.execute_reply": "2021-09-27T00:23:19.390857Z"
    },
    "papermill": {
     "duration": 0.044615,
     "end_time": "2021-09-27T00:23:19.391001",
     "exception": false,
     "start_time": "2021-09-27T00:23:19.346386",
     "status": "completed"
    },
    "tags": []
   },
   "outputs": [],
   "source": [
    "#hide\n",
    "#delete problematic countries from table\n",
    "df_table = df_table[~df_table['Country/Region'].isin(['Cape Verde', 'Cruise Ship', 'Kosovo'])]"
   ]
  },
  {
   "cell_type": "code",
   "execution_count": 17,
   "id": "related-center",
   "metadata": {
    "execution": {
     "iopub.execute_input": "2021-09-27T00:23:19.471024Z",
     "iopub.status.busy": "2021-09-27T00:23:19.470290Z",
     "iopub.status.idle": "2021-09-27T00:23:19.486326Z",
     "shell.execute_reply": "2021-09-27T00:23:19.485842Z"
    },
    "papermill": {
     "duration": 0.059086,
     "end_time": "2021-09-27T00:23:19.486465",
     "exception": false,
     "start_time": "2021-09-27T00:23:19.427379",
     "status": "completed"
    },
    "tags": []
   },
   "outputs": [],
   "source": [
    "#hide\n",
    "metrics = [df_table.columns[index] for index in [1,2,5,6]]\n",
    "# s_china = df_table[df_table['Country/Region'].eq('China')][metrics].sum().add_prefix('China ')\n",
    "s_us = df_table[df_table['Country/Region'].eq('US')][metrics].sum().add_prefix('US ')\n",
    "s_eu = df_table[df_table['Continent'].eq('Europe')][metrics].sum().add_prefix('EU ')\n",
    "s_ind = df_table[df_table['Country/Region'].eq('India')][metrics].sum().add_prefix('India ')\n",
    "summary = {'updated': pd.to_datetime(dt_today), 'since': pd.to_datetime(dt_yday)}\n",
    "summary = {'updated': pd.to_datetime(dt_today), 'since': pd.to_datetime(dt_yday)}\n",
    "summary = {**summary, **df_table[metrics].sum(), **s_ind, **s_us, **s_eu}"
   ]
  },
  {
   "cell_type": "code",
   "execution_count": 18,
   "id": "engaging-syndrome",
   "metadata": {
    "execution": {
     "iopub.execute_input": "2021-09-27T00:23:19.564496Z",
     "iopub.status.busy": "2021-09-27T00:23:19.563897Z",
     "iopub.status.idle": "2021-09-27T00:23:19.579534Z",
     "shell.execute_reply": "2021-09-27T00:23:19.578618Z"
    },
    "papermill": {
     "duration": 0.056616,
     "end_time": "2021-09-27T00:23:19.579711",
     "exception": false,
     "start_time": "2021-09-27T00:23:19.523095",
     "status": "completed"
    },
    "tags": []
   },
   "outputs": [],
   "source": [
    "#hide\n",
    "dft_ct_new_cases = dft_cases.groupby(COL_REGION)[dt_cols].sum().diff(axis=1).fillna(0).astype(int)"
   ]
  },
  {
   "cell_type": "code",
   "execution_count": 19,
   "id": "neutral-assignment",
   "metadata": {
    "execution": {
     "iopub.execute_input": "2021-09-27T00:23:19.657611Z",
     "iopub.status.busy": "2021-09-27T00:23:19.656964Z",
     "iopub.status.idle": "2021-09-27T00:23:19.658947Z",
     "shell.execute_reply": "2021-09-27T00:23:19.659438Z"
    },
    "papermill": {
     "duration": 0.042924,
     "end_time": "2021-09-27T00:23:19.659562",
     "exception": false,
     "start_time": "2021-09-27T00:23:19.616638",
     "status": "completed"
    },
    "tags": []
   },
   "outputs": [],
   "source": [
    "#hide\n",
    "everydaycases = dft_ct_new_cases.cumsum(axis=1)"
   ]
  },
  {
   "cell_type": "code",
   "execution_count": 20,
   "id": "parliamentary-calgary",
   "metadata": {
    "execution": {
     "iopub.execute_input": "2021-09-27T00:23:19.734185Z",
     "iopub.status.busy": "2021-09-27T00:23:19.733434Z",
     "iopub.status.idle": "2021-09-27T00:23:20.465302Z",
     "shell.execute_reply": "2021-09-27T00:23:20.465780Z"
    },
    "papermill": {
     "duration": 0.771058,
     "end_time": "2021-09-27T00:23:20.465966",
     "exception": false,
     "start_time": "2021-09-27T00:23:19.694908",
     "status": "completed"
    },
    "tags": []
   },
   "outputs": [],
   "source": [
    "#hide\n",
    "import pandas as pd\n",
    "import matplotlib.pyplot as plt\n",
    "import matplotlib.ticker as ticker\n",
    "import matplotlib.animation as animation\n",
    "from IPython.display import HTML"
   ]
  },
  {
   "cell_type": "code",
   "execution_count": 21,
   "id": "lasting-extraction",
   "metadata": {
    "execution": {
     "iopub.execute_input": "2021-09-27T00:23:20.542169Z",
     "iopub.status.busy": "2021-09-27T00:23:20.541524Z",
     "iopub.status.idle": "2021-09-27T00:23:20.547215Z",
     "shell.execute_reply": "2021-09-27T00:23:20.547764Z"
    },
    "papermill": {
     "duration": 0.045707,
     "end_time": "2021-09-27T00:23:20.547876",
     "exception": false,
     "start_time": "2021-09-27T00:23:20.502169",
     "status": "completed"
    },
    "tags": []
   },
   "outputs": [],
   "source": [
    "#hide\n",
    "t = everydaycases.stack()"
   ]
  },
  {
   "cell_type": "code",
   "execution_count": 22,
   "id": "premier-sleeve",
   "metadata": {
    "execution": {
     "iopub.execute_input": "2021-09-27T00:23:20.621255Z",
     "iopub.status.busy": "2021-09-27T00:23:20.620600Z",
     "iopub.status.idle": "2021-09-27T00:23:20.630399Z",
     "shell.execute_reply": "2021-09-27T00:23:20.629828Z"
    },
    "papermill": {
     "duration": 0.048768,
     "end_time": "2021-09-27T00:23:20.630522",
     "exception": false,
     "start_time": "2021-09-27T00:23:20.581754",
     "status": "completed"
    },
    "tags": []
   },
   "outputs": [],
   "source": [
    "#hide\n",
    "g = t.reset_index(['Country/Region'])"
   ]
  },
  {
   "cell_type": "code",
   "execution_count": 23,
   "id": "distributed-pittsburgh",
   "metadata": {
    "execution": {
     "iopub.execute_input": "2021-09-27T00:23:20.705104Z",
     "iopub.status.busy": "2021-09-27T00:23:20.704486Z",
     "iopub.status.idle": "2021-09-27T00:23:20.707155Z",
     "shell.execute_reply": "2021-09-27T00:23:20.706478Z"
    },
    "papermill": {
     "duration": 0.042266,
     "end_time": "2021-09-27T00:23:20.707285",
     "exception": false,
     "start_time": "2021-09-27T00:23:20.665019",
     "status": "completed"
    },
    "tags": []
   },
   "outputs": [],
   "source": [
    "#hide\n",
    "g.index.name = 'date'"
   ]
  },
  {
   "cell_type": "code",
   "execution_count": 24,
   "id": "naked-donor",
   "metadata": {
    "execution": {
     "iopub.execute_input": "2021-09-27T00:23:20.780086Z",
     "iopub.status.busy": "2021-09-27T00:23:20.779527Z",
     "iopub.status.idle": "2021-09-27T00:23:20.782118Z",
     "shell.execute_reply": "2021-09-27T00:23:20.781636Z"
    },
    "papermill": {
     "duration": 0.040015,
     "end_time": "2021-09-27T00:23:20.782213",
     "exception": false,
     "start_time": "2021-09-27T00:23:20.742198",
     "status": "completed"
    },
    "tags": []
   },
   "outputs": [],
   "source": [
    "# #hide\n",
    "# g = g.reset_index(['date'])"
   ]
  },
  {
   "cell_type": "code",
   "execution_count": 25,
   "id": "incomplete-mustang",
   "metadata": {
    "execution": {
     "iopub.execute_input": "2021-09-27T00:23:20.852169Z",
     "iopub.status.busy": "2021-09-27T00:23:20.851591Z",
     "iopub.status.idle": "2021-09-27T00:23:20.854151Z",
     "shell.execute_reply": "2021-09-27T00:23:20.853598Z"
    },
    "papermill": {
     "duration": 0.038684,
     "end_time": "2021-09-27T00:23:20.854269",
     "exception": false,
     "start_time": "2021-09-27T00:23:20.815585",
     "status": "completed"
    },
    "tags": []
   },
   "outputs": [],
   "source": [
    "#hide\n",
    "# g.head()"
   ]
  },
  {
   "cell_type": "code",
   "execution_count": 26,
   "id": "specific-kruger",
   "metadata": {
    "execution": {
     "iopub.execute_input": "2021-09-27T00:23:20.924296Z",
     "iopub.status.busy": "2021-09-27T00:23:20.923722Z",
     "iopub.status.idle": "2021-09-27T00:23:20.926503Z",
     "shell.execute_reply": "2021-09-27T00:23:20.925994Z"
    },
    "papermill": {
     "duration": 0.039109,
     "end_time": "2021-09-27T00:23:20.926611",
     "exception": false,
     "start_time": "2021-09-27T00:23:20.887502",
     "status": "completed"
    },
    "tags": []
   },
   "outputs": [],
   "source": [
    "#hide\n",
    "# g.columns = ['date','country','cases']"
   ]
  },
  {
   "cell_type": "code",
   "execution_count": 27,
   "id": "tender-conversion",
   "metadata": {
    "execution": {
     "iopub.execute_input": "2021-09-27T00:23:20.996870Z",
     "iopub.status.busy": "2021-09-27T00:23:20.996243Z",
     "iopub.status.idle": "2021-09-27T00:23:20.998953Z",
     "shell.execute_reply": "2021-09-27T00:23:20.998290Z"
    },
    "papermill": {
     "duration": 0.0385,
     "end_time": "2021-09-27T00:23:20.999088",
     "exception": false,
     "start_time": "2021-09-27T00:23:20.960588",
     "status": "completed"
    },
    "tags": []
   },
   "outputs": [],
   "source": [
    "#hide\n",
    "# g['continent'] = g.country"
   ]
  },
  {
   "cell_type": "code",
   "execution_count": 28,
   "id": "substantial-wilderness",
   "metadata": {
    "execution": {
     "iopub.execute_input": "2021-09-27T00:23:21.073683Z",
     "iopub.status.busy": "2021-09-27T00:23:21.073071Z",
     "iopub.status.idle": "2021-09-27T00:23:21.075016Z",
     "shell.execute_reply": "2021-09-27T00:23:21.075511Z"
    },
    "papermill": {
     "duration": 0.042637,
     "end_time": "2021-09-27T00:23:21.075632",
     "exception": false,
     "start_time": "2021-09-27T00:23:21.032995",
     "status": "completed"
    },
    "tags": []
   },
   "outputs": [],
   "source": [
    "#hide\n",
    "# cols = list(g.columns.values)"
   ]
  },
  {
   "cell_type": "code",
   "execution_count": 29,
   "id": "solved-farming",
   "metadata": {
    "execution": {
     "iopub.execute_input": "2021-09-27T00:23:21.146194Z",
     "iopub.status.busy": "2021-09-27T00:23:21.145644Z",
     "iopub.status.idle": "2021-09-27T00:23:21.148185Z",
     "shell.execute_reply": "2021-09-27T00:23:21.147731Z"
    },
    "papermill": {
     "duration": 0.03954,
     "end_time": "2021-09-27T00:23:21.148282",
     "exception": false,
     "start_time": "2021-09-27T00:23:21.108742",
     "status": "completed"
    },
    "tags": []
   },
   "outputs": [],
   "source": [
    "#hide\n",
    "# cols.insert(0, cols.pop())"
   ]
  },
  {
   "cell_type": "code",
   "execution_count": 30,
   "id": "executed-adoption",
   "metadata": {
    "execution": {
     "iopub.execute_input": "2021-09-27T00:23:21.223936Z",
     "iopub.status.busy": "2021-09-27T00:23:21.223292Z",
     "iopub.status.idle": "2021-09-27T00:23:21.225917Z",
     "shell.execute_reply": "2021-09-27T00:23:21.225351Z"
    },
    "papermill": {
     "duration": 0.041394,
     "end_time": "2021-09-27T00:23:21.226019",
     "exception": false,
     "start_time": "2021-09-27T00:23:21.184625",
     "status": "completed"
    },
    "tags": []
   },
   "outputs": [],
   "source": [
    "#hide\n",
    "# g = g[cols]"
   ]
  },
  {
   "cell_type": "code",
   "execution_count": 31,
   "id": "subject-dublin",
   "metadata": {
    "execution": {
     "iopub.execute_input": "2021-09-27T00:23:21.296995Z",
     "iopub.status.busy": "2021-09-27T00:23:21.296358Z",
     "iopub.status.idle": "2021-09-27T00:23:21.298861Z",
     "shell.execute_reply": "2021-09-27T00:23:21.298354Z"
    },
    "papermill": {
     "duration": 0.039625,
     "end_time": "2021-09-27T00:23:21.298967",
     "exception": false,
     "start_time": "2021-09-27T00:23:21.259342",
     "status": "completed"
    },
    "tags": []
   },
   "outputs": [],
   "source": [
    "#hide\n",
    "# g['continent'] = g['continent'].map(mapping['map.continent'])"
   ]
  },
  {
   "cell_type": "code",
   "execution_count": 32,
   "id": "freelance-scout",
   "metadata": {
    "execution": {
     "iopub.execute_input": "2021-09-27T00:23:21.383282Z",
     "iopub.status.busy": "2021-09-27T00:23:21.382656Z",
     "iopub.status.idle": "2021-09-27T00:23:21.385165Z",
     "shell.execute_reply": "2021-09-27T00:23:21.384520Z"
    },
    "papermill": {
     "duration": 0.04924,
     "end_time": "2021-09-27T00:23:21.385297",
     "exception": false,
     "start_time": "2021-09-27T00:23:21.336057",
     "status": "completed"
    },
    "tags": []
   },
   "outputs": [],
   "source": [
    "#hide\n",
    "# g.head()"
   ]
  },
  {
   "cell_type": "code",
   "execution_count": 33,
   "id": "limited-engine",
   "metadata": {
    "execution": {
     "iopub.execute_input": "2021-09-27T00:23:21.460066Z",
     "iopub.status.busy": "2021-09-27T00:23:21.459261Z",
     "iopub.status.idle": "2021-09-27T00:23:21.461595Z",
     "shell.execute_reply": "2021-09-27T00:23:21.462099Z"
    },
    "papermill": {
     "duration": 0.040446,
     "end_time": "2021-09-27T00:23:21.462210",
     "exception": false,
     "start_time": "2021-09-27T00:23:21.421764",
     "status": "completed"
    },
    "tags": []
   },
   "outputs": [],
   "source": [
    "# hide\n",
    "# g['date'] = g['date'].astype('datetime64[ns]')"
   ]
  },
  {
   "cell_type": "code",
   "execution_count": 34,
   "id": "sophisticated-supervisor",
   "metadata": {
    "execution": {
     "iopub.execute_input": "2021-09-27T00:23:21.538898Z",
     "iopub.status.busy": "2021-09-27T00:23:21.538245Z",
     "iopub.status.idle": "2021-09-27T00:23:21.540190Z",
     "shell.execute_reply": "2021-09-27T00:23:21.540733Z"
    },
    "papermill": {
     "duration": 0.040558,
     "end_time": "2021-09-27T00:23:21.540852",
     "exception": false,
     "start_time": "2021-09-27T00:23:21.500294",
     "status": "completed"
    },
    "tags": []
   },
   "outputs": [],
   "source": [
    "#hide\n",
    "# g['date'] = g.date.dt.dayofyear"
   ]
  },
  {
   "cell_type": "code",
   "execution_count": 35,
   "id": "inside-dubai",
   "metadata": {
    "execution": {
     "iopub.execute_input": "2021-09-27T00:23:21.613573Z",
     "iopub.status.busy": "2021-09-27T00:23:21.612963Z",
     "iopub.status.idle": "2021-09-27T00:23:21.614834Z",
     "shell.execute_reply": "2021-09-27T00:23:21.615413Z"
    },
    "papermill": {
     "duration": 0.040144,
     "end_time": "2021-09-27T00:23:21.615527",
     "exception": false,
     "start_time": "2021-09-27T00:23:21.575383",
     "status": "completed"
    },
    "tags": []
   },
   "outputs": [],
   "source": [
    "#hide\n",
    "# g = g.rename(columns= {'continent':'group','country':'name','cases':'value'})"
   ]
  },
  {
   "cell_type": "code",
   "execution_count": 36,
   "id": "fleet-motorcycle",
   "metadata": {
    "execution": {
     "iopub.execute_input": "2021-09-27T00:23:21.687690Z",
     "iopub.status.busy": "2021-09-27T00:23:21.686986Z",
     "iopub.status.idle": "2021-09-27T00:23:21.689573Z",
     "shell.execute_reply": "2021-09-27T00:23:21.689136Z"
    },
    "papermill": {
     "duration": 0.040571,
     "end_time": "2021-09-27T00:23:21.689713",
     "exception": false,
     "start_time": "2021-09-27T00:23:21.649142",
     "status": "completed"
    },
    "tags": []
   },
   "outputs": [],
   "source": [
    "#hide\n",
    "# cols = ['name','group','day','value']"
   ]
  },
  {
   "cell_type": "code",
   "execution_count": 37,
   "id": "continued-sleeping",
   "metadata": {
    "execution": {
     "iopub.execute_input": "2021-09-27T00:23:21.764141Z",
     "iopub.status.busy": "2021-09-27T00:23:21.763627Z",
     "iopub.status.idle": "2021-09-27T00:23:21.765765Z",
     "shell.execute_reply": "2021-09-27T00:23:21.765268Z"
    },
    "papermill": {
     "duration": 0.040049,
     "end_time": "2021-09-27T00:23:21.765920",
     "exception": false,
     "start_time": "2021-09-27T00:23:21.725871",
     "status": "completed"
    },
    "tags": []
   },
   "outputs": [],
   "source": [
    "#hide\n",
    "# g.rename(columns= {'date':'day'},inplace = True)"
   ]
  },
  {
   "cell_type": "code",
   "execution_count": 38,
   "id": "major-fight",
   "metadata": {
    "execution": {
     "iopub.execute_input": "2021-09-27T00:23:21.835441Z",
     "iopub.status.busy": "2021-09-27T00:23:21.834852Z",
     "iopub.status.idle": "2021-09-27T00:23:21.836816Z",
     "shell.execute_reply": "2021-09-27T00:23:21.837266Z"
    },
    "papermill": {
     "duration": 0.038725,
     "end_time": "2021-09-27T00:23:21.837387",
     "exception": false,
     "start_time": "2021-09-27T00:23:21.798662",
     "status": "completed"
    },
    "tags": []
   },
   "outputs": [],
   "source": [
    "#hide\n",
    "# g = g[cols]"
   ]
  },
  {
   "cell_type": "code",
   "execution_count": 39,
   "id": "structured-mobile",
   "metadata": {
    "execution": {
     "iopub.execute_input": "2021-09-27T00:23:21.908577Z",
     "iopub.status.busy": "2021-09-27T00:23:21.907942Z",
     "iopub.status.idle": "2021-09-27T00:23:21.910851Z",
     "shell.execute_reply": "2021-09-27T00:23:21.910277Z"
    },
    "papermill": {
     "duration": 0.039222,
     "end_time": "2021-09-27T00:23:21.910949",
     "exception": false,
     "start_time": "2021-09-27T00:23:21.871727",
     "status": "completed"
    },
    "tags": []
   },
   "outputs": [],
   "source": [
    "# #hide\n",
    "# g = g[g.group.notna()]"
   ]
  },
  {
   "cell_type": "code",
   "execution_count": 40,
   "id": "determined-closing",
   "metadata": {
    "execution": {
     "iopub.execute_input": "2021-09-27T00:23:21.992591Z",
     "iopub.status.busy": "2021-09-27T00:23:21.991821Z",
     "iopub.status.idle": "2021-09-27T00:23:21.993207Z",
     "shell.execute_reply": "2021-09-27T00:23:21.993915Z"
    },
    "papermill": {
     "duration": 0.049038,
     "end_time": "2021-09-27T00:23:21.994045",
     "exception": false,
     "start_time": "2021-09-27T00:23:21.945007",
     "status": "completed"
    },
    "tags": []
   },
   "outputs": [],
   "source": [
    "# #hide\n",
    "# colors = dict(zip(\n",
    "#     [\"Oceania\", \"Europe\", \"Asia\", \"South America\", \"Middle East\", \"North America\", \"Africa\"],\n",
    "#     [\"#adb0ff\", \"#ffb3ff\", \"#90d595\", \"#e48381\", \"#aafbff\", \"#f7bb5f\", \"#eafb50\"]\n",
    "# ))\n",
    "# group_lk = g.set_index('name')['group'].to_dict()"
   ]
  },
  {
   "cell_type": "code",
   "execution_count": null,
   "id": "gross-drinking",
   "metadata": {
    "papermill": {
     "duration": 0.036439,
     "end_time": "2021-09-27T00:23:22.070814",
     "exception": false,
     "start_time": "2021-09-27T00:23:22.034375",
     "status": "completed"
    },
    "tags": []
   },
   "outputs": [],
   "source": []
  },
  {
   "cell_type": "code",
   "execution_count": 41,
   "id": "subject-macintosh",
   "metadata": {
    "execution": {
     "iopub.execute_input": "2021-09-27T00:23:22.147501Z",
     "iopub.status.busy": "2021-09-27T00:23:22.146859Z",
     "iopub.status.idle": "2021-09-27T00:23:22.149295Z",
     "shell.execute_reply": "2021-09-27T00:23:22.148751Z"
    },
    "papermill": {
     "duration": 0.041916,
     "end_time": "2021-09-27T00:23:22.149399",
     "exception": false,
     "start_time": "2021-09-27T00:23:22.107483",
     "status": "completed"
    },
    "tags": []
   },
   "outputs": [],
   "source": [
    "# #hide\n",
    "# fig, ax = plt.subplots(figsize=(15, 8))\n",
    "\n",
    "# def draw_barchart(current_day):\n",
    "#     dff = g[g['day'].eq(current_day)].sort_values(by='value', ascending=True).tail(10)\n",
    "#     ax.clear()\n",
    "#     ax.barh(dff['name'], dff['value'], color=[colors[group_lk[x]] for x in dff['name']])\n",
    "#     dx = dff['value'].max() / 200\n",
    "    \n",
    "#     for i, (value, name) in enumerate(zip(dff['value'], dff['name'])):\n",
    "#         ax.text(value-dx, i,     name,           size=14, weight=600, ha='right', va='bottom')\n",
    "#         ax.text(value-dx, i-.25, group_lk[name], size=10, color='#444444', ha='right', va='baseline')\n",
    "#         ax.text(value+dx, i,     f'{value:,.0f}',  size=14, ha='left',  va='center')\n",
    "#     ax.text(1, 0.4, current_day, transform=ax.transAxes, color='#777777', size=46, ha='right', weight=800)\n",
    "#     ax.text(0, 1.06, 'Population (thousands)', transform=ax.transAxes, size=12, color='#777777')\n",
    "#     ax.xaxis.set_major_formatter(ticker.StrMethodFormatter('{x:,.0f}'))\n",
    "#     ax.xaxis.set_ticks_position('top')\n",
    "#     ax.tick_params(axis='x', colors='#777777', labelsize=12)\n",
    "#     ax.set_yticks([])\n",
    "#     ax.margins(0, 0.01)\n",
    "#     ax.grid(which='major', axis='x', linestyle='-')\n",
    "#     ax.set_axisbelow(True)\n",
    "    \n",
    "#     ax.text(0, 1.15, 'Coronavirus',\n",
    "#             transform=ax.transAxes, size=24, weight=600, ha='left', va='top')\n",
    "# #     ax.text(1, 0, 'by @pratapvardhan; credit @jburnmurdoch', transform=ax.transAxes, color='#777777', ha='right',\n",
    "# #             bbox=dict(facecolor='white', alpha=0.8, edgecolor='white'))\n",
    "#     plt.box(False)"
   ]
  },
  {
   "cell_type": "code",
   "execution_count": 42,
   "id": "sexual-wages",
   "metadata": {
    "execution": {
     "iopub.execute_input": "2021-09-27T00:23:22.224935Z",
     "iopub.status.busy": "2021-09-27T00:23:22.224312Z",
     "iopub.status.idle": "2021-09-27T00:23:22.226796Z",
     "shell.execute_reply": "2021-09-27T00:23:22.226260Z"
    },
    "papermill": {
     "duration": 0.040928,
     "end_time": "2021-09-27T00:23:22.226898",
     "exception": false,
     "start_time": "2021-09-27T00:23:22.185970",
     "status": "completed"
    },
    "tags": []
   },
   "outputs": [],
   "source": [
    "# #hide_input\n",
    "# fig, ax = plt.subplots(figsize=(15, 8))\n",
    "# animator = animation.FuncAnimation(fig, draw_barchart, frames=range(g.day.values.min(), g.day.values.max()))\n",
    "# HTML(animator.to_jshtml())\n",
    "# # or use animator.to_html5_video() or animator.save() "
   ]
  },
  {
   "cell_type": "code",
   "execution_count": null,
   "id": "australian-container",
   "metadata": {
    "papermill": {
     "duration": 0.038424,
     "end_time": "2021-09-27T00:23:22.302822",
     "exception": false,
     "start_time": "2021-09-27T00:23:22.264398",
     "status": "completed"
    },
    "tags": []
   },
   "outputs": [],
   "source": []
  },
  {
   "cell_type": "code",
   "execution_count": null,
   "id": "mediterranean-pontiac",
   "metadata": {
    "papermill": {
     "duration": 0.036514,
     "end_time": "2021-09-27T00:23:22.376584",
     "exception": false,
     "start_time": "2021-09-27T00:23:22.340070",
     "status": "completed"
    },
    "tags": []
   },
   "outputs": [],
   "source": []
  },
  {
   "cell_type": "code",
   "execution_count": null,
   "id": "aging-legislature",
   "metadata": {
    "papermill": {
     "duration": 0.033215,
     "end_time": "2021-09-27T00:23:22.446021",
     "exception": false,
     "start_time": "2021-09-27T00:23:22.412806",
     "status": "completed"
    },
    "tags": []
   },
   "outputs": [],
   "source": []
  }
 ],
 "metadata": {
  "kernelspec": {
   "display_name": "Python 3",
   "language": "python",
   "name": "python3"
  },
  "language_info": {
   "codemirror_mode": {
    "name": "ipython",
    "version": 3
   },
   "file_extension": ".py",
   "mimetype": "text/x-python",
   "name": "python",
   "nbconvert_exporter": "python",
   "pygments_lexer": "ipython3",
   "version": "3.6.15"
  },
  "papermill": {
   "duration": 6.537101,
   "end_time": "2021-09-27T00:23:22.786029",
   "environment_variables": {},
   "exception": null,
   "input_path": "2020-03-21-covid19exp.ipynb",
   "output_path": "2020-03-21-covid19exp.ipynb",
   "parameters": {},
   "start_time": "2021-09-27T00:23:16.248928",
   "version": "2.0.0"
  }
 },
 "nbformat": 4,
 "nbformat_minor": 5
}