{
 "cells": [
  {
   "cell_type": "markdown",
   "id": "muslim-click",
   "metadata": {
    "papermill": {
     "duration": 0.037409,
     "end_time": "2022-10-16T12:18:30.077905",
     "exception": false,
     "start_time": "2022-10-16T12:18:30.040496",
     "status": "completed"
    },
    "tags": []
   },
   "source": [
    "# COVID-19 Case Race\n",
    "> A race chart to see rising cases around the world\n",
    "\n",
    "- author: Hargun Oberoi\n",
    "- image: images/covid-overview.png\n",
    "- hide: false\n",
    "- badges: false"
   ]
  },
  {
   "cell_type": "code",
   "execution_count": 1,
   "id": "proof-material",
   "metadata": {
    "execution": {
     "iopub.execute_input": "2022-10-16T12:18:30.148799Z",
     "iopub.status.busy": "2022-10-16T12:18:30.148175Z",
     "iopub.status.idle": "2022-10-16T12:18:30.502426Z",
     "shell.execute_reply": "2022-10-16T12:18:30.501846Z"
    },
    "papermill": {
     "duration": 0.394073,
     "end_time": "2022-10-16T12:18:30.502588",
     "exception": false,
     "start_time": "2022-10-16T12:18:30.108515",
     "status": "completed"
    },
    "tags": []
   },
   "outputs": [],
   "source": [
    "#hide\n",
    "import numpy as np\n",
    "import pandas as pd\n",
    "from jinja2 import Template\n",
    "from IPython.display import HTML"
   ]
  },
  {
   "cell_type": "code",
   "execution_count": 2,
   "id": "developed-terminology",
   "metadata": {
    "execution": {
     "iopub.execute_input": "2022-10-16T12:18:30.567758Z",
     "iopub.status.busy": "2022-10-16T12:18:30.567103Z",
     "iopub.status.idle": "2022-10-16T12:18:30.569562Z",
     "shell.execute_reply": "2022-10-16T12:18:30.569050Z"
    },
    "papermill": {
     "duration": 0.037473,
     "end_time": "2022-10-16T12:18:30.569687",
     "exception": false,
     "start_time": "2022-10-16T12:18:30.532214",
     "status": "completed"
    },
    "tags": []
   },
   "outputs": [],
   "source": [
    "#hide\n",
    "\n",
    "# FETCH\n",
    "base_url = 'https://raw.githubusercontent.com/pratapvardhan/notebooks/master/covid19/'\n",
    "paths = {\n",
    "    'mapping': base_url + 'mapping_countries.csv',\n",
    "    'overview': base_url + 'overview.tpl'\n",
    "}"
   ]
  },
  {
   "cell_type": "code",
   "execution_count": 3,
   "id": "dynamic-saver",
   "metadata": {
    "execution": {
     "iopub.execute_input": "2022-10-16T12:18:30.638909Z",
     "iopub.status.busy": "2022-10-16T12:18:30.638310Z",
     "iopub.status.idle": "2022-10-16T12:18:30.640964Z",
     "shell.execute_reply": "2022-10-16T12:18:30.641527Z"
    },
    "papermill": {
     "duration": 0.042966,
     "end_time": "2022-10-16T12:18:30.641673",
     "exception": false,
     "start_time": "2022-10-16T12:18:30.598707",
     "status": "completed"
    },
    "tags": []
   },
   "outputs": [
    {
     "data": {
      "text/plain": [
       "'https://raw.githubusercontent.com/pratapvardhan/notebooks/master/covid19/mapping_countries.csv'"
      ]
     },
     "execution_count": 3,
     "metadata": {},
     "output_type": "execute_result"
    }
   ],
   "source": [
    "#hide\n",
    "paths['mapping']"
   ]
  },
  {
   "cell_type": "code",
   "execution_count": 4,
   "id": "urban-software",
   "metadata": {
    "execution": {
     "iopub.execute_input": "2022-10-16T12:18:30.706986Z",
     "iopub.status.busy": "2022-10-16T12:18:30.706393Z",
     "iopub.status.idle": "2022-10-16T12:18:30.710583Z",
     "shell.execute_reply": "2022-10-16T12:18:30.711192Z"
    },
    "papermill": {
     "duration": 0.040212,
     "end_time": "2022-10-16T12:18:30.711364",
     "exception": false,
     "start_time": "2022-10-16T12:18:30.671152",
     "status": "completed"
    },
    "tags": []
   },
   "outputs": [],
   "source": [
    "#hide\n",
    "def get_mappings(url):\n",
    "    df = pd.read_csv(url)\n",
    "    return {\n",
    "        'df': df,\n",
    "        'replace.country': dict(df.dropna(subset=['Name']).set_index('Country')['Name']),\n",
    "        'map.continent': dict(df.set_index('Name')['Continent'])\n",
    "    }"
   ]
  },
  {
   "cell_type": "code",
   "execution_count": 5,
   "id": "intimate-machinery",
   "metadata": {
    "execution": {
     "iopub.execute_input": "2022-10-16T12:18:30.776367Z",
     "iopub.status.busy": "2022-10-16T12:18:30.775758Z",
     "iopub.status.idle": "2022-10-16T12:18:30.840330Z",
     "shell.execute_reply": "2022-10-16T12:18:30.839742Z"
    },
    "papermill": {
     "duration": 0.099761,
     "end_time": "2022-10-16T12:18:30.840490",
     "exception": false,
     "start_time": "2022-10-16T12:18:30.740729",
     "status": "completed"
    },
    "tags": []
   },
   "outputs": [],
   "source": [
    "#hide\n",
    "mapping = get_mappings(paths['mapping'])"
   ]
  },
  {
   "cell_type": "code",
   "execution_count": 6,
   "id": "certified-tactics",
   "metadata": {
    "execution": {
     "iopub.execute_input": "2022-10-16T12:18:30.906410Z",
     "iopub.status.busy": "2022-10-16T12:18:30.905728Z",
     "iopub.status.idle": "2022-10-16T12:18:30.908199Z",
     "shell.execute_reply": "2022-10-16T12:18:30.907626Z"
    },
    "papermill": {
     "duration": 0.037671,
     "end_time": "2022-10-16T12:18:30.908319",
     "exception": false,
     "start_time": "2022-10-16T12:18:30.870648",
     "status": "completed"
    },
    "tags": []
   },
   "outputs": [],
   "source": [
    "#hide\n",
    "def get_template(path):\n",
    "    from urllib.parse import urlparse\n",
    "    if bool(urlparse(path).netloc):\n",
    "        from urllib.request import urlopen\n",
    "        return urlopen(path).read().decode('utf8')\n",
    "    return open(path).read()"
   ]
  },
  {
   "cell_type": "code",
   "execution_count": 7,
   "id": "realistic-blast",
   "metadata": {
    "execution": {
     "iopub.execute_input": "2022-10-16T12:18:30.973797Z",
     "iopub.status.busy": "2022-10-16T12:18:30.973119Z",
     "iopub.status.idle": "2022-10-16T12:18:30.975540Z",
     "shell.execute_reply": "2022-10-16T12:18:30.974959Z"
    },
    "papermill": {
     "duration": 0.037815,
     "end_time": "2022-10-16T12:18:30.975665",
     "exception": false,
     "start_time": "2022-10-16T12:18:30.937850",
     "status": "completed"
    },
    "tags": []
   },
   "outputs": [],
   "source": [
    "#hide\n",
    "def get_frame(name):\n",
    "    url = (\n",
    "        'https://raw.githubusercontent.com/CSSEGISandData/COVID-19/master/csse_covid_19_data/'\n",
    "        f'csse_covid_19_time_series/time_series_covid19_{name}_global.csv')\n",
    "    df = pd.read_csv(url)\n",
    "    # rename countries\n",
    "    df['Country/Region'] = df['Country/Region'].replace(mapping['replace.country'])\n",
    "    return df"
   ]
  },
  {
   "cell_type": "code",
   "execution_count": 8,
   "id": "affiliated-characterization",
   "metadata": {
    "execution": {
     "iopub.execute_input": "2022-10-16T12:18:31.040660Z",
     "iopub.status.busy": "2022-10-16T12:18:31.040074Z",
     "iopub.status.idle": "2022-10-16T12:18:31.042570Z",
     "shell.execute_reply": "2022-10-16T12:18:31.043129Z"
    },
    "papermill": {
     "duration": 0.038053,
     "end_time": "2022-10-16T12:18:31.043265",
     "exception": false,
     "start_time": "2022-10-16T12:18:31.005212",
     "status": "completed"
    },
    "tags": []
   },
   "outputs": [],
   "source": [
    "#hide\n",
    "def get_dates(df):\n",
    "    dt_cols = df.columns[~df.columns.isin(['Province/State', 'Country/Region', 'Lat', 'Long'])]\n",
    "    LAST_DATE_I = -1\n",
    "    # sometimes last column may be empty, then go backwards\n",
    "    for i in range(-1, -len(dt_cols), -1):\n",
    "        if not df[dt_cols[i]].fillna(0).eq(0).all():\n",
    "            LAST_DATE_I = i\n",
    "            break\n",
    "    return LAST_DATE_I, dt_cols"
   ]
  },
  {
   "cell_type": "code",
   "execution_count": 9,
   "id": "recent-optimization",
   "metadata": {
    "execution": {
     "iopub.execute_input": "2022-10-16T12:18:31.108299Z",
     "iopub.status.busy": "2022-10-16T12:18:31.107687Z",
     "iopub.status.idle": "2022-10-16T12:18:31.775302Z",
     "shell.execute_reply": "2022-10-16T12:18:31.774724Z"
    },
    "papermill": {
     "duration": 0.702881,
     "end_time": "2022-10-16T12:18:31.775447",
     "exception": false,
     "start_time": "2022-10-16T12:18:31.072566",
     "status": "completed"
    },
    "tags": []
   },
   "outputs": [],
   "source": [
    "#hide\n",
    "COL_REGION = 'Country/Region'\n",
    "# Confirmed, Recovered, Deaths\n",
    "df = get_frame('confirmed')\n",
    "# dft_: timeseries, dfc_: today country agg\n",
    "dft_cases = df\n",
    "dft_deaths = get_frame('deaths')\n",
    "dft_recovered = get_frame('recovered')\n",
    "LAST_DATE_I, dt_cols = get_dates(df)"
   ]
  },
  {
   "cell_type": "code",
   "execution_count": 10,
   "id": "absolute-copper",
   "metadata": {
    "execution": {
     "iopub.execute_input": "2022-10-16T12:18:31.842060Z",
     "iopub.status.busy": "2022-10-16T12:18:31.841369Z",
     "iopub.status.idle": "2022-10-16T12:18:31.844416Z",
     "shell.execute_reply": "2022-10-16T12:18:31.844842Z"
    },
    "papermill": {
     "duration": 0.039366,
     "end_time": "2022-10-16T12:18:31.844989",
     "exception": false,
     "start_time": "2022-10-16T12:18:31.805623",
     "status": "completed"
    },
    "tags": []
   },
   "outputs": [],
   "source": [
    "#hide\n",
    "LAST_DATE_I, dt_cols = get_dates(df)\n",
    "dt_today =dt_cols[LAST_DATE_I]\n",
    "# dt_5day = dt_cols[LAST_DATE_I - 5]\n",
    "dt_yday = dt_cols[LAST_DATE_I - 1]"
   ]
  },
  {
   "cell_type": "code",
   "execution_count": 11,
   "id": "restricted-sheriff",
   "metadata": {
    "execution": {
     "iopub.execute_input": "2022-10-16T12:18:31.912656Z",
     "iopub.status.busy": "2022-10-16T12:18:31.912040Z",
     "iopub.status.idle": "2022-10-16T12:18:31.918766Z",
     "shell.execute_reply": "2022-10-16T12:18:31.918284Z"
    },
    "papermill": {
     "duration": 0.044462,
     "end_time": "2022-10-16T12:18:31.918889",
     "exception": false,
     "start_time": "2022-10-16T12:18:31.874427",
     "status": "completed"
    },
    "tags": []
   },
   "outputs": [],
   "source": [
    "#hide\n",
    "dfc_cases = dft_cases.groupby(COL_REGION)[dt_today].sum()\n",
    "dfc_deaths = dft_deaths.groupby(COL_REGION)[dt_today].sum()\n",
    "# dfp_cases = dft_cases.groupby(COL_REGION)[dt_5day].sum()\n",
    "# dfp_deaths = dft_deaths.groupby(COL_REGION)[dt_5day].sum()\n",
    "dfp_cases = dft_cases.groupby(COL_REGION)[dt_yday].sum()\n",
    "dfp_deaths = dft_deaths.groupby(COL_REGION)[dt_yday].sum()"
   ]
  },
  {
   "cell_type": "code",
   "execution_count": 12,
   "id": "deluxe-hepatitis",
   "metadata": {
    "execution": {
     "iopub.execute_input": "2022-10-16T12:18:31.985571Z",
     "iopub.status.busy": "2022-10-16T12:18:31.984946Z",
     "iopub.status.idle": "2022-10-16T12:18:31.990281Z",
     "shell.execute_reply": "2022-10-16T12:18:31.990824Z"
    },
    "papermill": {
     "duration": 0.042145,
     "end_time": "2022-10-16T12:18:31.990966",
     "exception": false,
     "start_time": "2022-10-16T12:18:31.948821",
     "status": "completed"
    },
    "tags": []
   },
   "outputs": [],
   "source": [
    "#hide\n",
    "df_table = (pd.DataFrame(dict(Cases = dfc_cases, Deaths = dfc_deaths, PCases = dfp_cases, PDeaths = dfp_deaths))\n",
    "            .sort_values(by = ['Cases','Deaths'], ascending = [False, False])\n",
    "            .reset_index())"
   ]
  },
  {
   "cell_type": "code",
   "execution_count": 13,
   "id": "educational-chancellor",
   "metadata": {
    "execution": {
     "iopub.execute_input": "2022-10-16T12:18:32.070199Z",
     "iopub.status.busy": "2022-10-16T12:18:32.069504Z",
     "iopub.status.idle": "2022-10-16T12:18:32.078726Z",
     "shell.execute_reply": "2022-10-16T12:18:32.078231Z"
    },
    "papermill": {
     "duration": 0.058348,
     "end_time": "2022-10-16T12:18:32.078857",
     "exception": false,
     "start_time": "2022-10-16T12:18:32.020509",
     "status": "completed"
    },
    "tags": []
   },
   "outputs": [
    {
     "data": {
      "text/html": [
       "<div>\n",
       "<style scoped>\n",
       "    .dataframe tbody tr th:only-of-type {\n",
       "        vertical-align: middle;\n",
       "    }\n",
       "\n",
       "    .dataframe tbody tr th {\n",
       "        vertical-align: top;\n",
       "    }\n",
       "\n",
       "    .dataframe thead th {\n",
       "        text-align: right;\n",
       "    }\n",
       "</style>\n",
       "<table border=\"1\" class=\"dataframe\">\n",
       "  <thead>\n",
       "    <tr style=\"text-align: right;\">\n",
       "      <th></th>\n",
       "      <th>Country/Region</th>\n",
       "      <th>Cases</th>\n",
       "      <th>Deaths</th>\n",
       "      <th>PCases</th>\n",
       "      <th>PDeaths</th>\n",
       "      <th>Cases (+)</th>\n",
       "      <th>Deaths (+)</th>\n",
       "      <th>Fatality Rate</th>\n",
       "      <th>Continent</th>\n",
       "    </tr>\n",
       "  </thead>\n",
       "  <tbody>\n",
       "    <tr>\n",
       "      <th>0</th>\n",
       "      <td>US</td>\n",
       "      <td>96945785</td>\n",
       "      <td>1065108</td>\n",
       "      <td>96940217</td>\n",
       "      <td>1065076</td>\n",
       "      <td>5568</td>\n",
       "      <td>32</td>\n",
       "      <td>1.10</td>\n",
       "      <td>North America</td>\n",
       "    </tr>\n",
       "    <tr>\n",
       "      <th>1</th>\n",
       "      <td>India</td>\n",
       "      <td>44628828</td>\n",
       "      <td>528895</td>\n",
       "      <td>44626427</td>\n",
       "      <td>528874</td>\n",
       "      <td>2401</td>\n",
       "      <td>21</td>\n",
       "      <td>1.19</td>\n",
       "      <td>Asia</td>\n",
       "    </tr>\n",
       "    <tr>\n",
       "      <th>2</th>\n",
       "      <td>France</td>\n",
       "      <td>36378553</td>\n",
       "      <td>156856</td>\n",
       "      <td>36378553</td>\n",
       "      <td>156856</td>\n",
       "      <td>0</td>\n",
       "      <td>0</td>\n",
       "      <td>0.43</td>\n",
       "      <td>Europe</td>\n",
       "    </tr>\n",
       "    <tr>\n",
       "      <th>3</th>\n",
       "      <td>Brazil</td>\n",
       "      <td>34746462</td>\n",
       "      <td>687144</td>\n",
       "      <td>34746462</td>\n",
       "      <td>687144</td>\n",
       "      <td>0</td>\n",
       "      <td>0</td>\n",
       "      <td>1.98</td>\n",
       "      <td>South America</td>\n",
       "    </tr>\n",
       "    <tr>\n",
       "      <th>4</th>\n",
       "      <td>Germany</td>\n",
       "      <td>34608837</td>\n",
       "      <td>151420</td>\n",
       "      <td>34608835</td>\n",
       "      <td>151420</td>\n",
       "      <td>2</td>\n",
       "      <td>0</td>\n",
       "      <td>0.44</td>\n",
       "      <td>Europe</td>\n",
       "    </tr>\n",
       "  </tbody>\n",
       "</table>\n",
       "</div>"
      ],
      "text/plain": [
       "  Country/Region     Cases   Deaths    PCases  PDeaths  Cases (+)  Deaths (+)  \\\n",
       "0             US  96945785  1065108  96940217  1065076       5568          32   \n",
       "1          India  44628828   528895  44626427   528874       2401          21   \n",
       "2         France  36378553   156856  36378553   156856          0           0   \n",
       "3         Brazil  34746462   687144  34746462   687144          0           0   \n",
       "4        Germany  34608837   151420  34608835   151420          2           0   \n",
       "\n",
       "   Fatality Rate      Continent  \n",
       "0           1.10  North America  \n",
       "1           1.19           Asia  \n",
       "2           0.43         Europe  \n",
       "3           1.98  South America  \n",
       "4           0.44         Europe  "
      ]
     },
     "execution_count": 13,
     "metadata": {},
     "output_type": "execute_result"
    }
   ],
   "source": [
    "#hide\n",
    "for c in 'Cases, Deaths'.split(', '):\n",
    "    df_table[f'{c} (+)'] = (df_table[c] - df_table[f'P{c}']).clip(0)\n",
    "    #Clip ça veut dire, les chiffres negatif sont interdit\n",
    "df_table['Fatality Rate'] = (100* df_table['Deaths']/ df_table['Cases']).round(2)\n",
    "df_table['Continent'] = df_table['Country/Region'].map(mapping['map.continent'])\n",
    "df_table.head(5)"
   ]
  },
  {
   "cell_type": "code",
   "execution_count": 14,
   "id": "aboriginal-bulgaria",
   "metadata": {
    "execution": {
     "iopub.execute_input": "2022-10-16T12:18:32.147486Z",
     "iopub.status.busy": "2022-10-16T12:18:32.146883Z",
     "iopub.status.idle": "2022-10-16T12:18:32.149158Z",
     "shell.execute_reply": "2022-10-16T12:18:32.149754Z"
    },
    "papermill": {
     "duration": 0.040034,
     "end_time": "2022-10-16T12:18:32.149906",
     "exception": false,
     "start_time": "2022-10-16T12:18:32.109872",
     "status": "completed"
    },
    "tags": []
   },
   "outputs": [],
   "source": [
    "#hide\n",
    "#delete problematic countries from table\n",
    "df_table = df_table[~df_table['Country/Region'].isin(['Cape Verde', 'Cruise Ship', 'Kosovo'])]"
   ]
  },
  {
   "cell_type": "code",
   "execution_count": 15,
   "id": "fantastic-effect",
   "metadata": {
    "execution": {
     "iopub.execute_input": "2022-10-16T12:18:32.218797Z",
     "iopub.status.busy": "2022-10-16T12:18:32.218217Z",
     "iopub.status.idle": "2022-10-16T12:18:32.236318Z",
     "shell.execute_reply": "2022-10-16T12:18:32.235843Z"
    },
    "papermill": {
     "duration": 0.056704,
     "end_time": "2022-10-16T12:18:32.236436",
     "exception": false,
     "start_time": "2022-10-16T12:18:32.179732",
     "status": "completed"
    },
    "tags": []
   },
   "outputs": [
    {
     "data": {
      "text/html": [
       "<div>\n",
       "<style scoped>\n",
       "    .dataframe tbody tr th:only-of-type {\n",
       "        vertical-align: middle;\n",
       "    }\n",
       "\n",
       "    .dataframe tbody tr th {\n",
       "        vertical-align: top;\n",
       "    }\n",
       "\n",
       "    .dataframe thead th {\n",
       "        text-align: right;\n",
       "    }\n",
       "</style>\n",
       "<table border=\"1\" class=\"dataframe\">\n",
       "  <thead>\n",
       "    <tr style=\"text-align: right;\">\n",
       "      <th></th>\n",
       "      <th>Country/Region</th>\n",
       "      <th>Cases</th>\n",
       "      <th>Deaths</th>\n",
       "      <th>PCases</th>\n",
       "      <th>PDeaths</th>\n",
       "      <th>Cases (+)</th>\n",
       "      <th>Deaths (+)</th>\n",
       "      <th>Fatality Rate</th>\n",
       "      <th>Continent</th>\n",
       "    </tr>\n",
       "  </thead>\n",
       "  <tbody>\n",
       "    <tr>\n",
       "      <th>0</th>\n",
       "      <td>US</td>\n",
       "      <td>96945785</td>\n",
       "      <td>1065108</td>\n",
       "      <td>96940217</td>\n",
       "      <td>1065076</td>\n",
       "      <td>5568</td>\n",
       "      <td>32</td>\n",
       "      <td>1.1</td>\n",
       "      <td>North America</td>\n",
       "    </tr>\n",
       "    <tr>\n",
       "      <th>1</th>\n",
       "      <td>India</td>\n",
       "      <td>44628828</td>\n",
       "      <td>528895</td>\n",
       "      <td>44626427</td>\n",
       "      <td>528874</td>\n",
       "      <td>2401</td>\n",
       "      <td>21</td>\n",
       "      <td>1.2</td>\n",
       "      <td>Asia</td>\n",
       "    </tr>\n",
       "    <tr>\n",
       "      <th>2</th>\n",
       "      <td>France</td>\n",
       "      <td>36378553</td>\n",
       "      <td>156856</td>\n",
       "      <td>36378553</td>\n",
       "      <td>156856</td>\n",
       "      <td>0</td>\n",
       "      <td>0</td>\n",
       "      <td>0.4</td>\n",
       "      <td>Europe</td>\n",
       "    </tr>\n",
       "    <tr>\n",
       "      <th>3</th>\n",
       "      <td>Brazil</td>\n",
       "      <td>34746462</td>\n",
       "      <td>687144</td>\n",
       "      <td>34746462</td>\n",
       "      <td>687144</td>\n",
       "      <td>0</td>\n",
       "      <td>0</td>\n",
       "      <td>2.0</td>\n",
       "      <td>South America</td>\n",
       "    </tr>\n",
       "    <tr>\n",
       "      <th>4</th>\n",
       "      <td>Germany</td>\n",
       "      <td>34608837</td>\n",
       "      <td>151420</td>\n",
       "      <td>34608835</td>\n",
       "      <td>151420</td>\n",
       "      <td>2</td>\n",
       "      <td>0</td>\n",
       "      <td>0.4</td>\n",
       "      <td>Europe</td>\n",
       "    </tr>\n",
       "  </tbody>\n",
       "</table>\n",
       "</div>"
      ],
      "text/plain": [
       "  Country/Region     Cases   Deaths    PCases  PDeaths  Cases (+)  Deaths (+)  \\\n",
       "0             US  96945785  1065108  96940217  1065076       5568          32   \n",
       "1          India  44628828   528895  44626427   528874       2401          21   \n",
       "2         France  36378553   156856  36378553   156856          0           0   \n",
       "3         Brazil  34746462   687144  34746462   687144          0           0   \n",
       "4        Germany  34608837   151420  34608835   151420          2           0   \n",
       "\n",
       "   Fatality Rate      Continent  \n",
       "0            1.1  North America  \n",
       "1            1.2           Asia  \n",
       "2            0.4         Europe  \n",
       "3            2.0  South America  \n",
       "4            0.4         Europe  "
      ]
     },
     "execution_count": 15,
     "metadata": {},
     "output_type": "execute_result"
    }
   ],
   "source": [
    "#hide\n",
    "df_table = (pd.DataFrame(dict(Cases=dfc_cases, Deaths=dfc_deaths, PCases=dfp_cases, PDeaths=dfp_deaths))\n",
    "             .sort_values(by=['Cases', 'Deaths'], ascending=[False, False])\n",
    "             .reset_index())\n",
    "df_table.rename(columns={'index': 'Country/Region'}, inplace=True)\n",
    "for c in 'Cases, Deaths'.split(', '):\n",
    "    df_table[f'{c} (+)'] = (df_table[c] - df_table[f'P{c}']).clip(0)  # DATA BUG\n",
    "df_table['Fatality Rate'] = (100 * df_table['Deaths'] / df_table['Cases']).round(1)\n",
    "df_table['Continent'] = df_table['Country/Region'].map(mapping['map.continent'])\n",
    "df_table.head(5)"
   ]
  },
  {
   "cell_type": "code",
   "execution_count": 16,
   "id": "fewer-occasion",
   "metadata": {
    "execution": {
     "iopub.execute_input": "2022-10-16T12:18:32.303909Z",
     "iopub.status.busy": "2022-10-16T12:18:32.303326Z",
     "iopub.status.idle": "2022-10-16T12:18:32.305978Z",
     "shell.execute_reply": "2022-10-16T12:18:32.306454Z"
    },
    "papermill": {
     "duration": 0.039523,
     "end_time": "2022-10-16T12:18:32.306588",
     "exception": false,
     "start_time": "2022-10-16T12:18:32.267065",
     "status": "completed"
    },
    "tags": []
   },
   "outputs": [],
   "source": [
    "#hide\n",
    "#delete problematic countries from table\n",
    "df_table = df_table[~df_table['Country/Region'].isin(['Cape Verde', 'Cruise Ship', 'Kosovo'])]"
   ]
  },
  {
   "cell_type": "code",
   "execution_count": 17,
   "id": "related-center",
   "metadata": {
    "execution": {
     "iopub.execute_input": "2022-10-16T12:18:32.386205Z",
     "iopub.status.busy": "2022-10-16T12:18:32.385578Z",
     "iopub.status.idle": "2022-10-16T12:18:32.387978Z",
     "shell.execute_reply": "2022-10-16T12:18:32.388452Z"
    },
    "papermill": {
     "duration": 0.05188,
     "end_time": "2022-10-16T12:18:32.388593",
     "exception": false,
     "start_time": "2022-10-16T12:18:32.336713",
     "status": "completed"
    },
    "tags": []
   },
   "outputs": [],
   "source": [
    "#hide\n",
    "metrics = [df_table.columns[index] for index in [1,2,5,6]]\n",
    "# s_china = df_table[df_table['Country/Region'].eq('China')][metrics].sum().add_prefix('China ')\n",
    "s_us = df_table[df_table['Country/Region'].eq('US')][metrics].sum().add_prefix('US ')\n",
    "s_eu = df_table[df_table['Continent'].eq('Europe')][metrics].sum().add_prefix('EU ')\n",
    "s_ind = df_table[df_table['Country/Region'].eq('India')][metrics].sum().add_prefix('India ')\n",
    "summary = {'updated': pd.to_datetime(dt_today), 'since': pd.to_datetime(dt_yday)}\n",
    "summary = {'updated': pd.to_datetime(dt_today), 'since': pd.to_datetime(dt_yday)}\n",
    "summary = {**summary, **df_table[metrics].sum(), **s_ind, **s_us, **s_eu}"
   ]
  },
  {
   "cell_type": "code",
   "execution_count": 18,
   "id": "engaging-syndrome",
   "metadata": {
    "execution": {
     "iopub.execute_input": "2022-10-16T12:18:32.456288Z",
     "iopub.status.busy": "2022-10-16T12:18:32.455672Z",
     "iopub.status.idle": "2022-10-16T12:18:32.481008Z",
     "shell.execute_reply": "2022-10-16T12:18:32.480428Z"
    },
    "papermill": {
     "duration": 0.061877,
     "end_time": "2022-10-16T12:18:32.481154",
     "exception": false,
     "start_time": "2022-10-16T12:18:32.419277",
     "status": "completed"
    },
    "tags": []
   },
   "outputs": [],
   "source": [
    "#hide\n",
    "dft_ct_new_cases = dft_cases.groupby(COL_REGION)[dt_cols].sum().diff(axis=1).fillna(0).astype(int)"
   ]
  },
  {
   "cell_type": "code",
   "execution_count": 19,
   "id": "neutral-assignment",
   "metadata": {
    "execution": {
     "iopub.execute_input": "2022-10-16T12:18:32.549466Z",
     "iopub.status.busy": "2022-10-16T12:18:32.548830Z",
     "iopub.status.idle": "2022-10-16T12:18:32.555206Z",
     "shell.execute_reply": "2022-10-16T12:18:32.555676Z"
    },
    "papermill": {
     "duration": 0.043409,
     "end_time": "2022-10-16T12:18:32.555835",
     "exception": false,
     "start_time": "2022-10-16T12:18:32.512426",
     "status": "completed"
    },
    "tags": []
   },
   "outputs": [],
   "source": [
    "#hide\n",
    "everydaycases = dft_ct_new_cases.cumsum(axis=1)"
   ]
  },
  {
   "cell_type": "code",
   "execution_count": 20,
   "id": "parliamentary-calgary",
   "metadata": {
    "execution": {
     "iopub.execute_input": "2022-10-16T12:18:32.622888Z",
     "iopub.status.busy": "2022-10-16T12:18:32.622288Z",
     "iopub.status.idle": "2022-10-16T12:18:33.198530Z",
     "shell.execute_reply": "2022-10-16T12:18:33.197976Z"
    },
    "papermill": {
     "duration": 0.611828,
     "end_time": "2022-10-16T12:18:33.198681",
     "exception": false,
     "start_time": "2022-10-16T12:18:32.586853",
     "status": "completed"
    },
    "tags": []
   },
   "outputs": [],
   "source": [
    "#hide\n",
    "import pandas as pd\n",
    "import matplotlib.pyplot as plt\n",
    "import matplotlib.ticker as ticker\n",
    "import matplotlib.animation as animation\n",
    "from IPython.display import HTML"
   ]
  },
  {
   "cell_type": "code",
   "execution_count": 21,
   "id": "lasting-extraction",
   "metadata": {
    "execution": {
     "iopub.execute_input": "2022-10-16T12:18:33.269248Z",
     "iopub.status.busy": "2022-10-16T12:18:33.268617Z",
     "iopub.status.idle": "2022-10-16T12:18:33.277768Z",
     "shell.execute_reply": "2022-10-16T12:18:33.277260Z"
    },
    "papermill": {
     "duration": 0.048521,
     "end_time": "2022-10-16T12:18:33.277908",
     "exception": false,
     "start_time": "2022-10-16T12:18:33.229387",
     "status": "completed"
    },
    "tags": []
   },
   "outputs": [],
   "source": [
    "#hide\n",
    "t = everydaycases.stack()"
   ]
  },
  {
   "cell_type": "code",
   "execution_count": 22,
   "id": "premier-sleeve",
   "metadata": {
    "execution": {
     "iopub.execute_input": "2022-10-16T12:18:33.345718Z",
     "iopub.status.busy": "2022-10-16T12:18:33.345049Z",
     "iopub.status.idle": "2022-10-16T12:18:33.359653Z",
     "shell.execute_reply": "2022-10-16T12:18:33.359171Z"
    },
    "papermill": {
     "duration": 0.050772,
     "end_time": "2022-10-16T12:18:33.359790",
     "exception": false,
     "start_time": "2022-10-16T12:18:33.309018",
     "status": "completed"
    },
    "tags": []
   },
   "outputs": [],
   "source": [
    "#hide\n",
    "g = t.reset_index(['Country/Region'])"
   ]
  },
  {
   "cell_type": "code",
   "execution_count": 23,
   "id": "distributed-pittsburgh",
   "metadata": {
    "execution": {
     "iopub.execute_input": "2022-10-16T12:18:33.426889Z",
     "iopub.status.busy": "2022-10-16T12:18:33.426151Z",
     "iopub.status.idle": "2022-10-16T12:18:33.428071Z",
     "shell.execute_reply": "2022-10-16T12:18:33.428589Z"
    },
    "papermill": {
     "duration": 0.038131,
     "end_time": "2022-10-16T12:18:33.428750",
     "exception": false,
     "start_time": "2022-10-16T12:18:33.390619",
     "status": "completed"
    },
    "tags": []
   },
   "outputs": [],
   "source": [
    "#hide\n",
    "g.index.name = 'date'"
   ]
  },
  {
   "cell_type": "code",
   "execution_count": 24,
   "id": "naked-donor",
   "metadata": {
    "execution": {
     "iopub.execute_input": "2022-10-16T12:18:33.495365Z",
     "iopub.status.busy": "2022-10-16T12:18:33.494743Z",
     "iopub.status.idle": "2022-10-16T12:18:33.496895Z",
     "shell.execute_reply": "2022-10-16T12:18:33.497462Z"
    },
    "papermill": {
     "duration": 0.037849,
     "end_time": "2022-10-16T12:18:33.497632",
     "exception": false,
     "start_time": "2022-10-16T12:18:33.459783",
     "status": "completed"
    },
    "tags": []
   },
   "outputs": [],
   "source": [
    "# #hide\n",
    "# g = g.reset_index(['date'])"
   ]
  },
  {
   "cell_type": "code",
   "execution_count": 25,
   "id": "incomplete-mustang",
   "metadata": {
    "execution": {
     "iopub.execute_input": "2022-10-16T12:18:33.563610Z",
     "iopub.status.busy": "2022-10-16T12:18:33.562979Z",
     "iopub.status.idle": "2022-10-16T12:18:33.566745Z",
     "shell.execute_reply": "2022-10-16T12:18:33.567172Z"
    },
    "papermill": {
     "duration": 0.039153,
     "end_time": "2022-10-16T12:18:33.567323",
     "exception": false,
     "start_time": "2022-10-16T12:18:33.528170",
     "status": "completed"
    },
    "tags": []
   },
   "outputs": [],
   "source": [
    "#hide\n",
    "# g.head()"
   ]
  },
  {
   "cell_type": "code",
   "execution_count": 26,
   "id": "specific-kruger",
   "metadata": {
    "execution": {
     "iopub.execute_input": "2022-10-16T12:18:33.633831Z",
     "iopub.status.busy": "2022-10-16T12:18:33.633165Z",
     "iopub.status.idle": "2022-10-16T12:18:33.635731Z",
     "shell.execute_reply": "2022-10-16T12:18:33.635241Z"
    },
    "papermill": {
     "duration": 0.037737,
     "end_time": "2022-10-16T12:18:33.635859",
     "exception": false,
     "start_time": "2022-10-16T12:18:33.598122",
     "status": "completed"
    },
    "tags": []
   },
   "outputs": [],
   "source": [
    "#hide\n",
    "# g.columns = ['date','country','cases']"
   ]
  },
  {
   "cell_type": "code",
   "execution_count": 27,
   "id": "tender-conversion",
   "metadata": {
    "execution": {
     "iopub.execute_input": "2022-10-16T12:18:33.702772Z",
     "iopub.status.busy": "2022-10-16T12:18:33.702031Z",
     "iopub.status.idle": "2022-10-16T12:18:33.705723Z",
     "shell.execute_reply": "2022-10-16T12:18:33.706207Z"
    },
    "papermill": {
     "duration": 0.039384,
     "end_time": "2022-10-16T12:18:33.706355",
     "exception": false,
     "start_time": "2022-10-16T12:18:33.666971",
     "status": "completed"
    },
    "tags": []
   },
   "outputs": [],
   "source": [
    "#hide\n",
    "# g['continent'] = g.country"
   ]
  },
  {
   "cell_type": "code",
   "execution_count": 28,
   "id": "substantial-wilderness",
   "metadata": {
    "execution": {
     "iopub.execute_input": "2022-10-16T12:18:33.773078Z",
     "iopub.status.busy": "2022-10-16T12:18:33.772329Z",
     "iopub.status.idle": "2022-10-16T12:18:33.774196Z",
     "shell.execute_reply": "2022-10-16T12:18:33.774747Z"
    },
    "papermill": {
     "duration": 0.037616,
     "end_time": "2022-10-16T12:18:33.774906",
     "exception": false,
     "start_time": "2022-10-16T12:18:33.737290",
     "status": "completed"
    },
    "tags": []
   },
   "outputs": [],
   "source": [
    "#hide\n",
    "# cols = list(g.columns.values)"
   ]
  },
  {
   "cell_type": "code",
   "execution_count": 29,
   "id": "solved-farming",
   "metadata": {
    "execution": {
     "iopub.execute_input": "2022-10-16T12:18:33.841194Z",
     "iopub.status.busy": "2022-10-16T12:18:33.840449Z",
     "iopub.status.idle": "2022-10-16T12:18:33.842271Z",
     "shell.execute_reply": "2022-10-16T12:18:33.842814Z"
    },
    "papermill": {
     "duration": 0.037289,
     "end_time": "2022-10-16T12:18:33.842973",
     "exception": false,
     "start_time": "2022-10-16T12:18:33.805684",
     "status": "completed"
    },
    "tags": []
   },
   "outputs": [],
   "source": [
    "#hide\n",
    "# cols.insert(0, cols.pop())"
   ]
  },
  {
   "cell_type": "code",
   "execution_count": 30,
   "id": "executed-adoption",
   "metadata": {
    "execution": {
     "iopub.execute_input": "2022-10-16T12:18:33.908915Z",
     "iopub.status.busy": "2022-10-16T12:18:33.908274Z",
     "iopub.status.idle": "2022-10-16T12:18:33.910737Z",
     "shell.execute_reply": "2022-10-16T12:18:33.910162Z"
    },
    "papermill": {
     "duration": 0.036816,
     "end_time": "2022-10-16T12:18:33.910859",
     "exception": false,
     "start_time": "2022-10-16T12:18:33.874043",
     "status": "completed"
    },
    "tags": []
   },
   "outputs": [],
   "source": [
    "#hide\n",
    "# g = g[cols]"
   ]
  },
  {
   "cell_type": "code",
   "execution_count": 31,
   "id": "subject-dublin",
   "metadata": {
    "execution": {
     "iopub.execute_input": "2022-10-16T12:18:33.976719Z",
     "iopub.status.busy": "2022-10-16T12:18:33.976003Z",
     "iopub.status.idle": "2022-10-16T12:18:33.980030Z",
     "shell.execute_reply": "2022-10-16T12:18:33.980459Z"
    },
    "papermill": {
     "duration": 0.039247,
     "end_time": "2022-10-16T12:18:33.980608",
     "exception": false,
     "start_time": "2022-10-16T12:18:33.941361",
     "status": "completed"
    },
    "tags": []
   },
   "outputs": [],
   "source": [
    "#hide\n",
    "# g['continent'] = g['continent'].map(mapping['map.continent'])"
   ]
  },
  {
   "cell_type": "code",
   "execution_count": 32,
   "id": "freelance-scout",
   "metadata": {
    "execution": {
     "iopub.execute_input": "2022-10-16T12:18:34.046667Z",
     "iopub.status.busy": "2022-10-16T12:18:34.045927Z",
     "iopub.status.idle": "2022-10-16T12:18:34.049051Z",
     "shell.execute_reply": "2022-10-16T12:18:34.048501Z"
    },
    "papermill": {
     "duration": 0.03775,
     "end_time": "2022-10-16T12:18:34.049186",
     "exception": false,
     "start_time": "2022-10-16T12:18:34.011436",
     "status": "completed"
    },
    "tags": []
   },
   "outputs": [],
   "source": [
    "#hide\n",
    "# g.head()"
   ]
  },
  {
   "cell_type": "code",
   "execution_count": 33,
   "id": "limited-engine",
   "metadata": {
    "execution": {
     "iopub.execute_input": "2022-10-16T12:18:34.115598Z",
     "iopub.status.busy": "2022-10-16T12:18:34.114892Z",
     "iopub.status.idle": "2022-10-16T12:18:34.118628Z",
     "shell.execute_reply": "2022-10-16T12:18:34.119144Z"
    },
    "papermill": {
     "duration": 0.039285,
     "end_time": "2022-10-16T12:18:34.119302",
     "exception": false,
     "start_time": "2022-10-16T12:18:34.080017",
     "status": "completed"
    },
    "tags": []
   },
   "outputs": [],
   "source": [
    "# hide\n",
    "# g['date'] = g['date'].astype('datetime64[ns]')"
   ]
  },
  {
   "cell_type": "code",
   "execution_count": 34,
   "id": "sophisticated-supervisor",
   "metadata": {
    "execution": {
     "iopub.execute_input": "2022-10-16T12:18:34.185295Z",
     "iopub.status.busy": "2022-10-16T12:18:34.184661Z",
     "iopub.status.idle": "2022-10-16T12:18:34.189135Z",
     "shell.execute_reply": "2022-10-16T12:18:34.188658Z"
    },
    "papermill": {
     "duration": 0.039076,
     "end_time": "2022-10-16T12:18:34.189267",
     "exception": false,
     "start_time": "2022-10-16T12:18:34.150191",
     "status": "completed"
    },
    "tags": []
   },
   "outputs": [],
   "source": [
    "#hide\n",
    "# g['date'] = g.date.dt.dayofyear"
   ]
  },
  {
   "cell_type": "code",
   "execution_count": 35,
   "id": "inside-dubai",
   "metadata": {
    "execution": {
     "iopub.execute_input": "2022-10-16T12:18:34.256158Z",
     "iopub.status.busy": "2022-10-16T12:18:34.255458Z",
     "iopub.status.idle": "2022-10-16T12:18:34.257820Z",
     "shell.execute_reply": "2022-10-16T12:18:34.257134Z"
    },
    "papermill": {
     "duration": 0.037719,
     "end_time": "2022-10-16T12:18:34.257963",
     "exception": false,
     "start_time": "2022-10-16T12:18:34.220244",
     "status": "completed"
    },
    "tags": []
   },
   "outputs": [],
   "source": [
    "#hide\n",
    "# g = g.rename(columns= {'continent':'group','country':'name','cases':'value'})"
   ]
  },
  {
   "cell_type": "code",
   "execution_count": 36,
   "id": "fleet-motorcycle",
   "metadata": {
    "execution": {
     "iopub.execute_input": "2022-10-16T12:18:34.325773Z",
     "iopub.status.busy": "2022-10-16T12:18:34.325036Z",
     "iopub.status.idle": "2022-10-16T12:18:34.327632Z",
     "shell.execute_reply": "2022-10-16T12:18:34.327044Z"
    },
    "papermill": {
     "duration": 0.038255,
     "end_time": "2022-10-16T12:18:34.327761",
     "exception": false,
     "start_time": "2022-10-16T12:18:34.289506",
     "status": "completed"
    },
    "tags": []
   },
   "outputs": [],
   "source": [
    "#hide\n",
    "# cols = ['name','group','day','value']"
   ]
  },
  {
   "cell_type": "code",
   "execution_count": 37,
   "id": "continued-sleeping",
   "metadata": {
    "execution": {
     "iopub.execute_input": "2022-10-16T12:18:34.394407Z",
     "iopub.status.busy": "2022-10-16T12:18:34.393614Z",
     "iopub.status.idle": "2022-10-16T12:18:34.395934Z",
     "shell.execute_reply": "2022-10-16T12:18:34.395281Z"
    },
    "papermill": {
     "duration": 0.037529,
     "end_time": "2022-10-16T12:18:34.396072",
     "exception": false,
     "start_time": "2022-10-16T12:18:34.358543",
     "status": "completed"
    },
    "tags": []
   },
   "outputs": [],
   "source": [
    "#hide\n",
    "# g.rename(columns= {'date':'day'},inplace = True)"
   ]
  },
  {
   "cell_type": "code",
   "execution_count": 38,
   "id": "major-fight",
   "metadata": {
    "execution": {
     "iopub.execute_input": "2022-10-16T12:18:34.461973Z",
     "iopub.status.busy": "2022-10-16T12:18:34.461218Z",
     "iopub.status.idle": "2022-10-16T12:18:34.463407Z",
     "shell.execute_reply": "2022-10-16T12:18:34.463892Z"
    },
    "papermill": {
     "duration": 0.037182,
     "end_time": "2022-10-16T12:18:34.464049",
     "exception": false,
     "start_time": "2022-10-16T12:18:34.426867",
     "status": "completed"
    },
    "tags": []
   },
   "outputs": [],
   "source": [
    "#hide\n",
    "# g = g[cols]"
   ]
  },
  {
   "cell_type": "code",
   "execution_count": 39,
   "id": "structured-mobile",
   "metadata": {
    "execution": {
     "iopub.execute_input": "2022-10-16T12:18:34.530744Z",
     "iopub.status.busy": "2022-10-16T12:18:34.530107Z",
     "iopub.status.idle": "2022-10-16T12:18:34.533873Z",
     "shell.execute_reply": "2022-10-16T12:18:34.534303Z"
    },
    "papermill": {
     "duration": 0.039029,
     "end_time": "2022-10-16T12:18:34.534451",
     "exception": false,
     "start_time": "2022-10-16T12:18:34.495422",
     "status": "completed"
    },
    "tags": []
   },
   "outputs": [],
   "source": [
    "# #hide\n",
    "# g = g[g.group.notna()]"
   ]
  },
  {
   "cell_type": "code",
   "execution_count": 40,
   "id": "determined-closing",
   "metadata": {
    "execution": {
     "iopub.execute_input": "2022-10-16T12:18:34.600547Z",
     "iopub.status.busy": "2022-10-16T12:18:34.599857Z",
     "iopub.status.idle": "2022-10-16T12:18:34.603641Z",
     "shell.execute_reply": "2022-10-16T12:18:34.604066Z"
    },
    "papermill": {
     "duration": 0.039112,
     "end_time": "2022-10-16T12:18:34.604208",
     "exception": false,
     "start_time": "2022-10-16T12:18:34.565096",
     "status": "completed"
    },
    "tags": []
   },
   "outputs": [],
   "source": [
    "# #hide\n",
    "# colors = dict(zip(\n",
    "#     [\"Oceania\", \"Europe\", \"Asia\", \"South America\", \"Middle East\", \"North America\", \"Africa\"],\n",
    "#     [\"#adb0ff\", \"#ffb3ff\", \"#90d595\", \"#e48381\", \"#aafbff\", \"#f7bb5f\", \"#eafb50\"]\n",
    "# ))\n",
    "# group_lk = g.set_index('name')['group'].to_dict()"
   ]
  },
  {
   "cell_type": "code",
   "execution_count": null,
   "id": "gross-drinking",
   "metadata": {
    "papermill": {
     "duration": 0.030669,
     "end_time": "2022-10-16T12:18:34.665428",
     "exception": false,
     "start_time": "2022-10-16T12:18:34.634759",
     "status": "completed"
    },
    "tags": []
   },
   "outputs": [],
   "source": []
  },
  {
   "cell_type": "code",
   "execution_count": 41,
   "id": "subject-macintosh",
   "metadata": {
    "execution": {
     "iopub.execute_input": "2022-10-16T12:18:34.732488Z",
     "iopub.status.busy": "2022-10-16T12:18:34.731767Z",
     "iopub.status.idle": "2022-10-16T12:18:34.734343Z",
     "shell.execute_reply": "2022-10-16T12:18:34.733873Z"
    },
    "papermill": {
     "duration": 0.038404,
     "end_time": "2022-10-16T12:18:34.734469",
     "exception": false,
     "start_time": "2022-10-16T12:18:34.696065",
     "status": "completed"
    },
    "tags": []
   },
   "outputs": [],
   "source": [
    "# #hide\n",
    "# fig, ax = plt.subplots(figsize=(15, 8))\n",
    "\n",
    "# def draw_barchart(current_day):\n",
    "#     dff = g[g['day'].eq(current_day)].sort_values(by='value', ascending=True).tail(10)\n",
    "#     ax.clear()\n",
    "#     ax.barh(dff['name'], dff['value'], color=[colors[group_lk[x]] for x in dff['name']])\n",
    "#     dx = dff['value'].max() / 200\n",
    "    \n",
    "#     for i, (value, name) in enumerate(zip(dff['value'], dff['name'])):\n",
    "#         ax.text(value-dx, i,     name,           size=14, weight=600, ha='right', va='bottom')\n",
    "#         ax.text(value-dx, i-.25, group_lk[name], size=10, color='#444444', ha='right', va='baseline')\n",
    "#         ax.text(value+dx, i,     f'{value:,.0f}',  size=14, ha='left',  va='center')\n",
    "#     ax.text(1, 0.4, current_day, transform=ax.transAxes, color='#777777', size=46, ha='right', weight=800)\n",
    "#     ax.text(0, 1.06, 'Population (thousands)', transform=ax.transAxes, size=12, color='#777777')\n",
    "#     ax.xaxis.set_major_formatter(ticker.StrMethodFormatter('{x:,.0f}'))\n",
    "#     ax.xaxis.set_ticks_position('top')\n",
    "#     ax.tick_params(axis='x', colors='#777777', labelsize=12)\n",
    "#     ax.set_yticks([])\n",
    "#     ax.margins(0, 0.01)\n",
    "#     ax.grid(which='major', axis='x', linestyle='-')\n",
    "#     ax.set_axisbelow(True)\n",
    "    \n",
    "#     ax.text(0, 1.15, 'Coronavirus',\n",
    "#             transform=ax.transAxes, size=24, weight=600, ha='left', va='top')\n",
    "# #     ax.text(1, 0, 'by @pratapvardhan; credit @jburnmurdoch', transform=ax.transAxes, color='#777777', ha='right',\n",
    "# #             bbox=dict(facecolor='white', alpha=0.8, edgecolor='white'))\n",
    "#     plt.box(False)"
   ]
  },
  {
   "cell_type": "code",
   "execution_count": 42,
   "id": "sexual-wages",
   "metadata": {
    "execution": {
     "iopub.execute_input": "2022-10-16T12:18:34.800629Z",
     "iopub.status.busy": "2022-10-16T12:18:34.799880Z",
     "iopub.status.idle": "2022-10-16T12:18:34.801704Z",
     "shell.execute_reply": "2022-10-16T12:18:34.802269Z"
    },
    "papermill": {
     "duration": 0.037569,
     "end_time": "2022-10-16T12:18:34.802439",
     "exception": false,
     "start_time": "2022-10-16T12:18:34.764870",
     "status": "completed"
    },
    "tags": []
   },
   "outputs": [],
   "source": [
    "# #hide_input\n",
    "# fig, ax = plt.subplots(figsize=(15, 8))\n",
    "# animator = animation.FuncAnimation(fig, draw_barchart, frames=range(g.day.values.min(), g.day.values.max()))\n",
    "# HTML(animator.to_jshtml())\n",
    "# # or use animator.to_html5_video() or animator.save() "
   ]
  },
  {
   "cell_type": "code",
   "execution_count": null,
   "id": "australian-container",
   "metadata": {
    "papermill": {
     "duration": 0.030694,
     "end_time": "2022-10-16T12:18:34.864432",
     "exception": false,
     "start_time": "2022-10-16T12:18:34.833738",
     "status": "completed"
    },
    "tags": []
   },
   "outputs": [],
   "source": []
  },
  {
   "cell_type": "code",
   "execution_count": null,
   "id": "mediterranean-pontiac",
   "metadata": {
    "papermill": {
     "duration": 0.030416,
     "end_time": "2022-10-16T12:18:34.925383",
     "exception": false,
     "start_time": "2022-10-16T12:18:34.894967",
     "status": "completed"
    },
    "tags": []
   },
   "outputs": [],
   "source": []
  },
  {
   "cell_type": "code",
   "execution_count": null,
   "id": "aging-legislature",
   "metadata": {
    "papermill": {
     "duration": 0.030635,
     "end_time": "2022-10-16T12:18:34.986665",
     "exception": false,
     "start_time": "2022-10-16T12:18:34.956030",
     "status": "completed"
    },
    "tags": []
   },
   "outputs": [],
   "source": []
  }
 ],
 "metadata": {
  "kernelspec": {
   "display_name": "Python 3",
   "language": "python",
   "name": "python3"
  },
  "language_info": {
   "codemirror_mode": {
    "name": "ipython",
    "version": 3
   },
   "file_extension": ".py",
   "mimetype": "text/x-python",
   "name": "python",
   "nbconvert_exporter": "python",
   "pygments_lexer": "ipython3",
   "version": "3.6.15"
  },
  "papermill": {
   "duration": 6.665394,
   "end_time": "2022-10-16T12:18:35.438117",
   "environment_variables": {},
   "exception": null,
   "input_path": "2020-03-21-covid19exp.ipynb",
   "output_path": "2020-03-21-covid19exp.ipynb",
   "parameters": {},
   "start_time": "2022-10-16T12:18:28.772723",
   "version": "2.0.0"
  }
 },
 "nbformat": 4,
 "nbformat_minor": 5
}