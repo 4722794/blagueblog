{
 "cells": [
  {
   "cell_type": "markdown",
   "id": "muslim-click",
   "metadata": {
    "papermill": {
     "duration": 0.035798,
     "end_time": "2022-07-28T00:44:28.739601",
     "exception": false,
     "start_time": "2022-07-28T00:44:28.703803",
     "status": "completed"
    },
    "tags": []
   },
   "source": [
    "# COVID-19 Case Race\n",
    "> A race chart to see rising cases around the world\n",
    "\n",
    "- author: Hargun Oberoi\n",
    "- image: images/covid-overview.png\n",
    "- hide: false\n",
    "- badges: false"
   ]
  },
  {
   "cell_type": "code",
   "execution_count": 1,
   "id": "proof-material",
   "metadata": {
    "execution": {
     "iopub.execute_input": "2022-07-28T00:44:28.811777Z",
     "iopub.status.busy": "2022-07-28T00:44:28.811089Z",
     "iopub.status.idle": "2022-07-28T00:44:29.148881Z",
     "shell.execute_reply": "2022-07-28T00:44:29.148341Z"
    },
    "papermill": {
     "duration": 0.376725,
     "end_time": "2022-07-28T00:44:29.149028",
     "exception": false,
     "start_time": "2022-07-28T00:44:28.772303",
     "status": "completed"
    },
    "tags": []
   },
   "outputs": [],
   "source": [
    "#hide\n",
    "import numpy as np\n",
    "import pandas as pd\n",
    "from jinja2 import Template\n",
    "from IPython.display import HTML"
   ]
  },
  {
   "cell_type": "code",
   "execution_count": 2,
   "id": "developed-terminology",
   "metadata": {
    "execution": {
     "iopub.execute_input": "2022-07-28T00:44:29.217620Z",
     "iopub.status.busy": "2022-07-28T00:44:29.216989Z",
     "iopub.status.idle": "2022-07-28T00:44:29.219426Z",
     "shell.execute_reply": "2022-07-28T00:44:29.219871Z"
    },
    "papermill": {
     "duration": 0.038053,
     "end_time": "2022-07-28T00:44:29.219987",
     "exception": false,
     "start_time": "2022-07-28T00:44:29.181934",
     "status": "completed"
    },
    "tags": []
   },
   "outputs": [],
   "source": [
    "#hide\n",
    "\n",
    "# FETCH\n",
    "base_url = 'https://raw.githubusercontent.com/pratapvardhan/notebooks/master/covid19/'\n",
    "paths = {\n",
    "    'mapping': base_url + 'mapping_countries.csv',\n",
    "    'overview': base_url + 'overview.tpl'\n",
    "}"
   ]
  },
  {
   "cell_type": "code",
   "execution_count": 3,
   "id": "dynamic-saver",
   "metadata": {
    "execution": {
     "iopub.execute_input": "2022-07-28T00:44:29.290022Z",
     "iopub.status.busy": "2022-07-28T00:44:29.289377Z",
     "iopub.status.idle": "2022-07-28T00:44:29.292704Z",
     "shell.execute_reply": "2022-07-28T00:44:29.293433Z"
    },
    "papermill": {
     "duration": 0.04356,
     "end_time": "2022-07-28T00:44:29.293574",
     "exception": false,
     "start_time": "2022-07-28T00:44:29.250014",
     "status": "completed"
    },
    "tags": []
   },
   "outputs": [
    {
     "data": {
      "text/plain": [
       "'https://raw.githubusercontent.com/pratapvardhan/notebooks/master/covid19/mapping_countries.csv'"
      ]
     },
     "execution_count": 3,
     "metadata": {},
     "output_type": "execute_result"
    }
   ],
   "source": [
    "#hide\n",
    "paths['mapping']"
   ]
  },
  {
   "cell_type": "code",
   "execution_count": 4,
   "id": "urban-software",
   "metadata": {
    "execution": {
     "iopub.execute_input": "2022-07-28T00:44:29.369370Z",
     "iopub.status.busy": "2022-07-28T00:44:29.368686Z",
     "iopub.status.idle": "2022-07-28T00:44:29.371723Z",
     "shell.execute_reply": "2022-07-28T00:44:29.371188Z"
    },
    "papermill": {
     "duration": 0.042488,
     "end_time": "2022-07-28T00:44:29.371866",
     "exception": false,
     "start_time": "2022-07-28T00:44:29.329378",
     "status": "completed"
    },
    "tags": []
   },
   "outputs": [],
   "source": [
    "#hide\n",
    "def get_mappings(url):\n",
    "    df = pd.read_csv(url)\n",
    "    return {\n",
    "        'df': df,\n",
    "        'replace.country': dict(df.dropna(subset=['Name']).set_index('Country')['Name']),\n",
    "        'map.continent': dict(df.set_index('Name')['Continent'])\n",
    "    }"
   ]
  },
  {
   "cell_type": "code",
   "execution_count": 5,
   "id": "intimate-machinery",
   "metadata": {
    "execution": {
     "iopub.execute_input": "2022-07-28T00:44:29.442693Z",
     "iopub.status.busy": "2022-07-28T00:44:29.442091Z",
     "iopub.status.idle": "2022-07-28T00:44:29.498297Z",
     "shell.execute_reply": "2022-07-28T00:44:29.497677Z"
    },
    "papermill": {
     "duration": 0.091785,
     "end_time": "2022-07-28T00:44:29.498435",
     "exception": false,
     "start_time": "2022-07-28T00:44:29.406650",
     "status": "completed"
    },
    "tags": []
   },
   "outputs": [],
   "source": [
    "#hide\n",
    "mapping = get_mappings(paths['mapping'])"
   ]
  },
  {
   "cell_type": "code",
   "execution_count": 6,
   "id": "certified-tactics",
   "metadata": {
    "execution": {
     "iopub.execute_input": "2022-07-28T00:44:29.580633Z",
     "iopub.status.busy": "2022-07-28T00:44:29.579897Z",
     "iopub.status.idle": "2022-07-28T00:44:29.582682Z",
     "shell.execute_reply": "2022-07-28T00:44:29.582108Z"
    },
    "papermill": {
     "duration": 0.044654,
     "end_time": "2022-07-28T00:44:29.582817",
     "exception": false,
     "start_time": "2022-07-28T00:44:29.538163",
     "status": "completed"
    },
    "tags": []
   },
   "outputs": [],
   "source": [
    "#hide\n",
    "def get_template(path):\n",
    "    from urllib.parse import urlparse\n",
    "    if bool(urlparse(path).netloc):\n",
    "        from urllib.request import urlopen\n",
    "        return urlopen(path).read().decode('utf8')\n",
    "    return open(path).read()"
   ]
  },
  {
   "cell_type": "code",
   "execution_count": 7,
   "id": "realistic-blast",
   "metadata": {
    "execution": {
     "iopub.execute_input": "2022-07-28T00:44:29.656717Z",
     "iopub.status.busy": "2022-07-28T00:44:29.656022Z",
     "iopub.status.idle": "2022-07-28T00:44:29.659112Z",
     "shell.execute_reply": "2022-07-28T00:44:29.658586Z"
    },
    "papermill": {
     "duration": 0.041056,
     "end_time": "2022-07-28T00:44:29.659223",
     "exception": false,
     "start_time": "2022-07-28T00:44:29.618167",
     "status": "completed"
    },
    "tags": []
   },
   "outputs": [],
   "source": [
    "#hide\n",
    "def get_frame(name):\n",
    "    url = (\n",
    "        'https://raw.githubusercontent.com/CSSEGISandData/COVID-19/master/csse_covid_19_data/'\n",
    "        f'csse_covid_19_time_series/time_series_covid19_{name}_global.csv')\n",
    "    df = pd.read_csv(url)\n",
    "    # rename countries\n",
    "    df['Country/Region'] = df['Country/Region'].replace(mapping['replace.country'])\n",
    "    return df"
   ]
  },
  {
   "cell_type": "code",
   "execution_count": 8,
   "id": "affiliated-characterization",
   "metadata": {
    "execution": {
     "iopub.execute_input": "2022-07-28T00:44:29.727839Z",
     "iopub.status.busy": "2022-07-28T00:44:29.727177Z",
     "iopub.status.idle": "2022-07-28T00:44:29.730267Z",
     "shell.execute_reply": "2022-07-28T00:44:29.729709Z"
    },
    "papermill": {
     "duration": 0.038683,
     "end_time": "2022-07-28T00:44:29.730377",
     "exception": false,
     "start_time": "2022-07-28T00:44:29.691694",
     "status": "completed"
    },
    "tags": []
   },
   "outputs": [],
   "source": [
    "#hide\n",
    "def get_dates(df):\n",
    "    dt_cols = df.columns[~df.columns.isin(['Province/State', 'Country/Region', 'Lat', 'Long'])]\n",
    "    LAST_DATE_I = -1\n",
    "    # sometimes last column may be empty, then go backwards\n",
    "    for i in range(-1, -len(dt_cols), -1):\n",
    "        if not df[dt_cols[i]].fillna(0).eq(0).all():\n",
    "            LAST_DATE_I = i\n",
    "            break\n",
    "    return LAST_DATE_I, dt_cols"
   ]
  },
  {
   "cell_type": "code",
   "execution_count": 9,
   "id": "recent-optimization",
   "metadata": {
    "execution": {
     "iopub.execute_input": "2022-07-28T00:44:29.801801Z",
     "iopub.status.busy": "2022-07-28T00:44:29.801079Z",
     "iopub.status.idle": "2022-07-28T00:44:30.356711Z",
     "shell.execute_reply": "2022-07-28T00:44:30.356130Z"
    },
    "papermill": {
     "duration": 0.594598,
     "end_time": "2022-07-28T00:44:30.356841",
     "exception": false,
     "start_time": "2022-07-28T00:44:29.762243",
     "status": "completed"
    },
    "tags": []
   },
   "outputs": [],
   "source": [
    "#hide\n",
    "COL_REGION = 'Country/Region'\n",
    "# Confirmed, Recovered, Deaths\n",
    "df = get_frame('confirmed')\n",
    "# dft_: timeseries, dfc_: today country agg\n",
    "dft_cases = df\n",
    "dft_deaths = get_frame('deaths')\n",
    "dft_recovered = get_frame('recovered')\n",
    "LAST_DATE_I, dt_cols = get_dates(df)"
   ]
  },
  {
   "cell_type": "code",
   "execution_count": 10,
   "id": "absolute-copper",
   "metadata": {
    "execution": {
     "iopub.execute_input": "2022-07-28T00:44:30.429311Z",
     "iopub.status.busy": "2022-07-28T00:44:30.428507Z",
     "iopub.status.idle": "2022-07-28T00:44:30.433629Z",
     "shell.execute_reply": "2022-07-28T00:44:30.433058Z"
    },
    "papermill": {
     "duration": 0.044083,
     "end_time": "2022-07-28T00:44:30.433751",
     "exception": false,
     "start_time": "2022-07-28T00:44:30.389668",
     "status": "completed"
    },
    "tags": []
   },
   "outputs": [],
   "source": [
    "#hide\n",
    "LAST_DATE_I, dt_cols = get_dates(df)\n",
    "dt_today =dt_cols[LAST_DATE_I]\n",
    "# dt_5day = dt_cols[LAST_DATE_I - 5]\n",
    "dt_yday = dt_cols[LAST_DATE_I - 1]"
   ]
  },
  {
   "cell_type": "code",
   "execution_count": 11,
   "id": "restricted-sheriff",
   "metadata": {
    "execution": {
     "iopub.execute_input": "2022-07-28T00:44:30.514547Z",
     "iopub.status.busy": "2022-07-28T00:44:30.513807Z",
     "iopub.status.idle": "2022-07-28T00:44:30.521343Z",
     "shell.execute_reply": "2022-07-28T00:44:30.522022Z"
    },
    "papermill": {
     "duration": 0.051823,
     "end_time": "2022-07-28T00:44:30.522156",
     "exception": false,
     "start_time": "2022-07-28T00:44:30.470333",
     "status": "completed"
    },
    "tags": []
   },
   "outputs": [],
   "source": [
    "#hide\n",
    "dfc_cases = dft_cases.groupby(COL_REGION)[dt_today].sum()\n",
    "dfc_deaths = dft_deaths.groupby(COL_REGION)[dt_today].sum()\n",
    "# dfp_cases = dft_cases.groupby(COL_REGION)[dt_5day].sum()\n",
    "# dfp_deaths = dft_deaths.groupby(COL_REGION)[dt_5day].sum()\n",
    "dfp_cases = dft_cases.groupby(COL_REGION)[dt_yday].sum()\n",
    "dfp_deaths = dft_deaths.groupby(COL_REGION)[dt_yday].sum()"
   ]
  },
  {
   "cell_type": "code",
   "execution_count": 12,
   "id": "deluxe-hepatitis",
   "metadata": {
    "execution": {
     "iopub.execute_input": "2022-07-28T00:44:30.593703Z",
     "iopub.status.busy": "2022-07-28T00:44:30.592804Z",
     "iopub.status.idle": "2022-07-28T00:44:30.598313Z",
     "shell.execute_reply": "2022-07-28T00:44:30.599023Z"
    },
    "papermill": {
     "duration": 0.04291,
     "end_time": "2022-07-28T00:44:30.599151",
     "exception": false,
     "start_time": "2022-07-28T00:44:30.556241",
     "status": "completed"
    },
    "tags": []
   },
   "outputs": [],
   "source": [
    "#hide\n",
    "df_table = (pd.DataFrame(dict(Cases = dfc_cases, Deaths = dfc_deaths, PCases = dfp_cases, PDeaths = dfp_deaths))\n",
    "            .sort_values(by = ['Cases','Deaths'], ascending = [False, False])\n",
    "            .reset_index())"
   ]
  },
  {
   "cell_type": "code",
   "execution_count": 13,
   "id": "educational-chancellor",
   "metadata": {
    "execution": {
     "iopub.execute_input": "2022-07-28T00:44:30.679724Z",
     "iopub.status.busy": "2022-07-28T00:44:30.678845Z",
     "iopub.status.idle": "2022-07-28T00:44:30.698168Z",
     "shell.execute_reply": "2022-07-28T00:44:30.697623Z"
    },
    "papermill": {
     "duration": 0.06597,
     "end_time": "2022-07-28T00:44:30.698286",
     "exception": false,
     "start_time": "2022-07-28T00:44:30.632316",
     "status": "completed"
    },
    "tags": []
   },
   "outputs": [
    {
     "data": {
      "text/html": [
       "<div>\n",
       "<style scoped>\n",
       "    .dataframe tbody tr th:only-of-type {\n",
       "        vertical-align: middle;\n",
       "    }\n",
       "\n",
       "    .dataframe tbody tr th {\n",
       "        vertical-align: top;\n",
       "    }\n",
       "\n",
       "    .dataframe thead th {\n",
       "        text-align: right;\n",
       "    }\n",
       "</style>\n",
       "<table border=\"1\" class=\"dataframe\">\n",
       "  <thead>\n",
       "    <tr style=\"text-align: right;\">\n",
       "      <th></th>\n",
       "      <th>Country/Region</th>\n",
       "      <th>Cases</th>\n",
       "      <th>Deaths</th>\n",
       "      <th>PCases</th>\n",
       "      <th>PDeaths</th>\n",
       "      <th>Cases (+)</th>\n",
       "      <th>Deaths (+)</th>\n",
       "      <th>Fatality Rate</th>\n",
       "      <th>Continent</th>\n",
       "    </tr>\n",
       "  </thead>\n",
       "  <tbody>\n",
       "    <tr>\n",
       "      <th>0</th>\n",
       "      <td>US</td>\n",
       "      <td>90733888</td>\n",
       "      <td>1027886</td>\n",
       "      <td>90567290</td>\n",
       "      <td>1027369</td>\n",
       "      <td>166598</td>\n",
       "      <td>517</td>\n",
       "      <td>1.13</td>\n",
       "      <td>North America</td>\n",
       "    </tr>\n",
       "    <tr>\n",
       "      <th>1</th>\n",
       "      <td>India</td>\n",
       "      <td>43938764</td>\n",
       "      <td>526167</td>\n",
       "      <td>43920451</td>\n",
       "      <td>526110</td>\n",
       "      <td>18313</td>\n",
       "      <td>57</td>\n",
       "      <td>1.20</td>\n",
       "      <td>Asia</td>\n",
       "    </tr>\n",
       "    <tr>\n",
       "      <th>2</th>\n",
       "      <td>France</td>\n",
       "      <td>33840851</td>\n",
       "      <td>152719</td>\n",
       "      <td>33751295</td>\n",
       "      <td>152600</td>\n",
       "      <td>89556</td>\n",
       "      <td>119</td>\n",
       "      <td>0.45</td>\n",
       "      <td>Europe</td>\n",
       "    </tr>\n",
       "    <tr>\n",
       "      <th>3</th>\n",
       "      <td>Brazil</td>\n",
       "      <td>33659879</td>\n",
       "      <td>677494</td>\n",
       "      <td>33621965</td>\n",
       "      <td>677143</td>\n",
       "      <td>37914</td>\n",
       "      <td>351</td>\n",
       "      <td>2.01</td>\n",
       "      <td>South America</td>\n",
       "    </tr>\n",
       "    <tr>\n",
       "      <th>4</th>\n",
       "      <td>Germany</td>\n",
       "      <td>30598385</td>\n",
       "      <td>143545</td>\n",
       "      <td>30476605</td>\n",
       "      <td>143364</td>\n",
       "      <td>121780</td>\n",
       "      <td>181</td>\n",
       "      <td>0.47</td>\n",
       "      <td>Europe</td>\n",
       "    </tr>\n",
       "  </tbody>\n",
       "</table>\n",
       "</div>"
      ],
      "text/plain": [
       "  Country/Region     Cases   Deaths    PCases  PDeaths  Cases (+)  Deaths (+)  \\\n",
       "0             US  90733888  1027886  90567290  1027369     166598         517   \n",
       "1          India  43938764   526167  43920451   526110      18313          57   \n",
       "2         France  33840851   152719  33751295   152600      89556         119   \n",
       "3         Brazil  33659879   677494  33621965   677143      37914         351   \n",
       "4        Germany  30598385   143545  30476605   143364     121780         181   \n",
       "\n",
       "   Fatality Rate      Continent  \n",
       "0           1.13  North America  \n",
       "1           1.20           Asia  \n",
       "2           0.45         Europe  \n",
       "3           2.01  South America  \n",
       "4           0.47         Europe  "
      ]
     },
     "execution_count": 13,
     "metadata": {},
     "output_type": "execute_result"
    }
   ],
   "source": [
    "#hide\n",
    "for c in 'Cases, Deaths'.split(', '):\n",
    "    df_table[f'{c} (+)'] = (df_table[c] - df_table[f'P{c}']).clip(0)\n",
    "    #Clip ça veut dire, les chiffres negatif sont interdit\n",
    "df_table['Fatality Rate'] = (100* df_table['Deaths']/ df_table['Cases']).round(2)\n",
    "df_table['Continent'] = df_table['Country/Region'].map(mapping['map.continent'])\n",
    "df_table.head(5)"
   ]
  },
  {
   "cell_type": "code",
   "execution_count": 14,
   "id": "aboriginal-bulgaria",
   "metadata": {
    "execution": {
     "iopub.execute_input": "2022-07-28T00:44:30.770730Z",
     "iopub.status.busy": "2022-07-28T00:44:30.769830Z",
     "iopub.status.idle": "2022-07-28T00:44:30.772909Z",
     "shell.execute_reply": "2022-07-28T00:44:30.772203Z"
    },
    "papermill": {
     "duration": 0.042039,
     "end_time": "2022-07-28T00:44:30.773027",
     "exception": false,
     "start_time": "2022-07-28T00:44:30.730988",
     "status": "completed"
    },
    "tags": []
   },
   "outputs": [],
   "source": [
    "#hide\n",
    "#delete problematic countries from table\n",
    "df_table = df_table[~df_table['Country/Region'].isin(['Cape Verde', 'Cruise Ship', 'Kosovo'])]"
   ]
  },
  {
   "cell_type": "code",
   "execution_count": 15,
   "id": "fantastic-effect",
   "metadata": {
    "execution": {
     "iopub.execute_input": "2022-07-28T00:44:30.847564Z",
     "iopub.status.busy": "2022-07-28T00:44:30.846887Z",
     "iopub.status.idle": "2022-07-28T00:44:30.869357Z",
     "shell.execute_reply": "2022-07-28T00:44:30.868773Z"
    },
    "papermill": {
     "duration": 0.063342,
     "end_time": "2022-07-28T00:44:30.869504",
     "exception": false,
     "start_time": "2022-07-28T00:44:30.806162",
     "status": "completed"
    },
    "tags": []
   },
   "outputs": [
    {
     "data": {
      "text/html": [
       "<div>\n",
       "<style scoped>\n",
       "    .dataframe tbody tr th:only-of-type {\n",
       "        vertical-align: middle;\n",
       "    }\n",
       "\n",
       "    .dataframe tbody tr th {\n",
       "        vertical-align: top;\n",
       "    }\n",
       "\n",
       "    .dataframe thead th {\n",
       "        text-align: right;\n",
       "    }\n",
       "</style>\n",
       "<table border=\"1\" class=\"dataframe\">\n",
       "  <thead>\n",
       "    <tr style=\"text-align: right;\">\n",
       "      <th></th>\n",
       "      <th>Country/Region</th>\n",
       "      <th>Cases</th>\n",
       "      <th>Deaths</th>\n",
       "      <th>PCases</th>\n",
       "      <th>PDeaths</th>\n",
       "      <th>Cases (+)</th>\n",
       "      <th>Deaths (+)</th>\n",
       "      <th>Fatality Rate</th>\n",
       "      <th>Continent</th>\n",
       "    </tr>\n",
       "  </thead>\n",
       "  <tbody>\n",
       "    <tr>\n",
       "      <th>0</th>\n",
       "      <td>US</td>\n",
       "      <td>90733888</td>\n",
       "      <td>1027886</td>\n",
       "      <td>90567290</td>\n",
       "      <td>1027369</td>\n",
       "      <td>166598</td>\n",
       "      <td>517</td>\n",
       "      <td>1.1</td>\n",
       "      <td>North America</td>\n",
       "    </tr>\n",
       "    <tr>\n",
       "      <th>1</th>\n",
       "      <td>India</td>\n",
       "      <td>43938764</td>\n",
       "      <td>526167</td>\n",
       "      <td>43920451</td>\n",
       "      <td>526110</td>\n",
       "      <td>18313</td>\n",
       "      <td>57</td>\n",
       "      <td>1.2</td>\n",
       "      <td>Asia</td>\n",
       "    </tr>\n",
       "    <tr>\n",
       "      <th>2</th>\n",
       "      <td>France</td>\n",
       "      <td>33840851</td>\n",
       "      <td>152719</td>\n",
       "      <td>33751295</td>\n",
       "      <td>152600</td>\n",
       "      <td>89556</td>\n",
       "      <td>119</td>\n",
       "      <td>0.5</td>\n",
       "      <td>Europe</td>\n",
       "    </tr>\n",
       "    <tr>\n",
       "      <th>3</th>\n",
       "      <td>Brazil</td>\n",
       "      <td>33659879</td>\n",
       "      <td>677494</td>\n",
       "      <td>33621965</td>\n",
       "      <td>677143</td>\n",
       "      <td>37914</td>\n",
       "      <td>351</td>\n",
       "      <td>2.0</td>\n",
       "      <td>South America</td>\n",
       "    </tr>\n",
       "    <tr>\n",
       "      <th>4</th>\n",
       "      <td>Germany</td>\n",
       "      <td>30598385</td>\n",
       "      <td>143545</td>\n",
       "      <td>30476605</td>\n",
       "      <td>143364</td>\n",
       "      <td>121780</td>\n",
       "      <td>181</td>\n",
       "      <td>0.5</td>\n",
       "      <td>Europe</td>\n",
       "    </tr>\n",
       "  </tbody>\n",
       "</table>\n",
       "</div>"
      ],
      "text/plain": [
       "  Country/Region     Cases   Deaths    PCases  PDeaths  Cases (+)  Deaths (+)  \\\n",
       "0             US  90733888  1027886  90567290  1027369     166598         517   \n",
       "1          India  43938764   526167  43920451   526110      18313          57   \n",
       "2         France  33840851   152719  33751295   152600      89556         119   \n",
       "3         Brazil  33659879   677494  33621965   677143      37914         351   \n",
       "4        Germany  30598385   143545  30476605   143364     121780         181   \n",
       "\n",
       "   Fatality Rate      Continent  \n",
       "0            1.1  North America  \n",
       "1            1.2           Asia  \n",
       "2            0.5         Europe  \n",
       "3            2.0  South America  \n",
       "4            0.5         Europe  "
      ]
     },
     "execution_count": 15,
     "metadata": {},
     "output_type": "execute_result"
    }
   ],
   "source": [
    "#hide\n",
    "df_table = (pd.DataFrame(dict(Cases=dfc_cases, Deaths=dfc_deaths, PCases=dfp_cases, PDeaths=dfp_deaths))\n",
    "             .sort_values(by=['Cases', 'Deaths'], ascending=[False, False])\n",
    "             .reset_index())\n",
    "df_table.rename(columns={'index': 'Country/Region'}, inplace=True)\n",
    "for c in 'Cases, Deaths'.split(', '):\n",
    "    df_table[f'{c} (+)'] = (df_table[c] - df_table[f'P{c}']).clip(0)  # DATA BUG\n",
    "df_table['Fatality Rate'] = (100 * df_table['Deaths'] / df_table['Cases']).round(1)\n",
    "df_table['Continent'] = df_table['Country/Region'].map(mapping['map.continent'])\n",
    "df_table.head(5)"
   ]
  },
  {
   "cell_type": "code",
   "execution_count": 16,
   "id": "fewer-occasion",
   "metadata": {
    "execution": {
     "iopub.execute_input": "2022-07-28T00:44:30.942627Z",
     "iopub.status.busy": "2022-07-28T00:44:30.941852Z",
     "iopub.status.idle": "2022-07-28T00:44:30.945492Z",
     "shell.execute_reply": "2022-07-28T00:44:30.946156Z"
    },
    "papermill": {
     "duration": 0.041819,
     "end_time": "2022-07-28T00:44:30.946273",
     "exception": false,
     "start_time": "2022-07-28T00:44:30.904454",
     "status": "completed"
    },
    "tags": []
   },
   "outputs": [],
   "source": [
    "#hide\n",
    "#delete problematic countries from table\n",
    "df_table = df_table[~df_table['Country/Region'].isin(['Cape Verde', 'Cruise Ship', 'Kosovo'])]"
   ]
  },
  {
   "cell_type": "code",
   "execution_count": 17,
   "id": "related-center",
   "metadata": {
    "execution": {
     "iopub.execute_input": "2022-07-28T00:44:31.019273Z",
     "iopub.status.busy": "2022-07-28T00:44:31.018600Z",
     "iopub.status.idle": "2022-07-28T00:44:31.035082Z",
     "shell.execute_reply": "2022-07-28T00:44:31.034407Z"
    },
    "papermill": {
     "duration": 0.055916,
     "end_time": "2022-07-28T00:44:31.035212",
     "exception": false,
     "start_time": "2022-07-28T00:44:30.979296",
     "status": "completed"
    },
    "tags": []
   },
   "outputs": [],
   "source": [
    "#hide\n",
    "metrics = [df_table.columns[index] for index in [1,2,5,6]]\n",
    "# s_china = df_table[df_table['Country/Region'].eq('China')][metrics].sum().add_prefix('China ')\n",
    "s_us = df_table[df_table['Country/Region'].eq('US')][metrics].sum().add_prefix('US ')\n",
    "s_eu = df_table[df_table['Continent'].eq('Europe')][metrics].sum().add_prefix('EU ')\n",
    "s_ind = df_table[df_table['Country/Region'].eq('India')][metrics].sum().add_prefix('India ')\n",
    "summary = {'updated': pd.to_datetime(dt_today), 'since': pd.to_datetime(dt_yday)}\n",
    "summary = {'updated': pd.to_datetime(dt_today), 'since': pd.to_datetime(dt_yday)}\n",
    "summary = {**summary, **df_table[metrics].sum(), **s_ind, **s_us, **s_eu}"
   ]
  },
  {
   "cell_type": "code",
   "execution_count": 18,
   "id": "engaging-syndrome",
   "metadata": {
    "execution": {
     "iopub.execute_input": "2022-07-28T00:44:31.111147Z",
     "iopub.status.busy": "2022-07-28T00:44:31.110496Z",
     "iopub.status.idle": "2022-07-28T00:44:31.129727Z",
     "shell.execute_reply": "2022-07-28T00:44:31.130174Z"
    },
    "papermill": {
     "duration": 0.057707,
     "end_time": "2022-07-28T00:44:31.130302",
     "exception": false,
     "start_time": "2022-07-28T00:44:31.072595",
     "status": "completed"
    },
    "tags": []
   },
   "outputs": [],
   "source": [
    "#hide\n",
    "dft_ct_new_cases = dft_cases.groupby(COL_REGION)[dt_cols].sum().diff(axis=1).fillna(0).astype(int)"
   ]
  },
  {
   "cell_type": "code",
   "execution_count": 19,
   "id": "neutral-assignment",
   "metadata": {
    "execution": {
     "iopub.execute_input": "2022-07-28T00:44:31.204431Z",
     "iopub.status.busy": "2022-07-28T00:44:31.203767Z",
     "iopub.status.idle": "2022-07-28T00:44:31.206799Z",
     "shell.execute_reply": "2022-07-28T00:44:31.206184Z"
    },
    "papermill": {
     "duration": 0.04518,
     "end_time": "2022-07-28T00:44:31.206910",
     "exception": false,
     "start_time": "2022-07-28T00:44:31.161730",
     "status": "completed"
    },
    "tags": []
   },
   "outputs": [],
   "source": [
    "#hide\n",
    "everydaycases = dft_ct_new_cases.cumsum(axis=1)"
   ]
  },
  {
   "cell_type": "code",
   "execution_count": 20,
   "id": "parliamentary-calgary",
   "metadata": {
    "execution": {
     "iopub.execute_input": "2022-07-28T00:44:31.279119Z",
     "iopub.status.busy": "2022-07-28T00:44:31.278247Z",
     "iopub.status.idle": "2022-07-28T00:44:31.848988Z",
     "shell.execute_reply": "2022-07-28T00:44:31.849552Z"
    },
    "papermill": {
     "duration": 0.61061,
     "end_time": "2022-07-28T00:44:31.849715",
     "exception": false,
     "start_time": "2022-07-28T00:44:31.239105",
     "status": "completed"
    },
    "tags": []
   },
   "outputs": [],
   "source": [
    "#hide\n",
    "import pandas as pd\n",
    "import matplotlib.pyplot as plt\n",
    "import matplotlib.ticker as ticker\n",
    "import matplotlib.animation as animation\n",
    "from IPython.display import HTML"
   ]
  },
  {
   "cell_type": "code",
   "execution_count": 21,
   "id": "lasting-extraction",
   "metadata": {
    "execution": {
     "iopub.execute_input": "2022-07-28T00:44:31.922709Z",
     "iopub.status.busy": "2022-07-28T00:44:31.922039Z",
     "iopub.status.idle": "2022-07-28T00:44:31.930452Z",
     "shell.execute_reply": "2022-07-28T00:44:31.930938Z"
    },
    "papermill": {
     "duration": 0.049953,
     "end_time": "2022-07-28T00:44:31.931071",
     "exception": false,
     "start_time": "2022-07-28T00:44:31.881118",
     "status": "completed"
    },
    "tags": []
   },
   "outputs": [],
   "source": [
    "#hide\n",
    "t = everydaycases.stack()"
   ]
  },
  {
   "cell_type": "code",
   "execution_count": 22,
   "id": "premier-sleeve",
   "metadata": {
    "execution": {
     "iopub.execute_input": "2022-07-28T00:44:31.999003Z",
     "iopub.status.busy": "2022-07-28T00:44:31.998296Z",
     "iopub.status.idle": "2022-07-28T00:44:32.011617Z",
     "shell.execute_reply": "2022-07-28T00:44:32.012060Z"
    },
    "papermill": {
     "duration": 0.049574,
     "end_time": "2022-07-28T00:44:32.012191",
     "exception": false,
     "start_time": "2022-07-28T00:44:31.962617",
     "status": "completed"
    },
    "tags": []
   },
   "outputs": [],
   "source": [
    "#hide\n",
    "g = t.reset_index(['Country/Region'])"
   ]
  },
  {
   "cell_type": "code",
   "execution_count": 23,
   "id": "distributed-pittsburgh",
   "metadata": {
    "execution": {
     "iopub.execute_input": "2022-07-28T00:44:32.090517Z",
     "iopub.status.busy": "2022-07-28T00:44:32.089828Z",
     "iopub.status.idle": "2022-07-28T00:44:32.092947Z",
     "shell.execute_reply": "2022-07-28T00:44:32.092411Z"
    },
    "papermill": {
     "duration": 0.049611,
     "end_time": "2022-07-28T00:44:32.093066",
     "exception": false,
     "start_time": "2022-07-28T00:44:32.043455",
     "status": "completed"
    },
    "tags": []
   },
   "outputs": [],
   "source": [
    "#hide\n",
    "g.index.name = 'date'"
   ]
  },
  {
   "cell_type": "code",
   "execution_count": 24,
   "id": "naked-donor",
   "metadata": {
    "execution": {
     "iopub.execute_input": "2022-07-28T00:44:32.163773Z",
     "iopub.status.busy": "2022-07-28T00:44:32.163145Z",
     "iopub.status.idle": "2022-07-28T00:44:32.166630Z",
     "shell.execute_reply": "2022-07-28T00:44:32.165936Z"
    },
    "papermill": {
     "duration": 0.038952,
     "end_time": "2022-07-28T00:44:32.166744",
     "exception": false,
     "start_time": "2022-07-28T00:44:32.127792",
     "status": "completed"
    },
    "tags": []
   },
   "outputs": [],
   "source": [
    "# #hide\n",
    "# g = g.reset_index(['date'])"
   ]
  },
  {
   "cell_type": "code",
   "execution_count": 25,
   "id": "incomplete-mustang",
   "metadata": {
    "execution": {
     "iopub.execute_input": "2022-07-28T00:44:32.245361Z",
     "iopub.status.busy": "2022-07-28T00:44:32.244514Z",
     "iopub.status.idle": "2022-07-28T00:44:32.249755Z",
     "shell.execute_reply": "2022-07-28T00:44:32.249140Z"
    },
    "papermill": {
     "duration": 0.048389,
     "end_time": "2022-07-28T00:44:32.249865",
     "exception": false,
     "start_time": "2022-07-28T00:44:32.201476",
     "status": "completed"
    },
    "tags": []
   },
   "outputs": [],
   "source": [
    "#hide\n",
    "# g.head()"
   ]
  },
  {
   "cell_type": "code",
   "execution_count": 26,
   "id": "specific-kruger",
   "metadata": {
    "execution": {
     "iopub.execute_input": "2022-07-28T00:44:32.319876Z",
     "iopub.status.busy": "2022-07-28T00:44:32.319234Z",
     "iopub.status.idle": "2022-07-28T00:44:32.322178Z",
     "shell.execute_reply": "2022-07-28T00:44:32.321500Z"
    },
    "papermill": {
     "duration": 0.040054,
     "end_time": "2022-07-28T00:44:32.322293",
     "exception": false,
     "start_time": "2022-07-28T00:44:32.282239",
     "status": "completed"
    },
    "tags": []
   },
   "outputs": [],
   "source": [
    "#hide\n",
    "# g.columns = ['date','country','cases']"
   ]
  },
  {
   "cell_type": "code",
   "execution_count": 27,
   "id": "tender-conversion",
   "metadata": {
    "execution": {
     "iopub.execute_input": "2022-07-28T00:44:32.391495Z",
     "iopub.status.busy": "2022-07-28T00:44:32.390846Z",
     "iopub.status.idle": "2022-07-28T00:44:32.393825Z",
     "shell.execute_reply": "2022-07-28T00:44:32.393290Z"
    },
    "papermill": {
     "duration": 0.038038,
     "end_time": "2022-07-28T00:44:32.393936",
     "exception": false,
     "start_time": "2022-07-28T00:44:32.355898",
     "status": "completed"
    },
    "tags": []
   },
   "outputs": [],
   "source": [
    "#hide\n",
    "# g['continent'] = g.country"
   ]
  },
  {
   "cell_type": "code",
   "execution_count": 28,
   "id": "substantial-wilderness",
   "metadata": {
    "execution": {
     "iopub.execute_input": "2022-07-28T00:44:32.464283Z",
     "iopub.status.busy": "2022-07-28T00:44:32.463647Z",
     "iopub.status.idle": "2022-07-28T00:44:32.466392Z",
     "shell.execute_reply": "2022-07-28T00:44:32.465781Z"
    },
    "papermill": {
     "duration": 0.039836,
     "end_time": "2022-07-28T00:44:32.466502",
     "exception": false,
     "start_time": "2022-07-28T00:44:32.426666",
     "status": "completed"
    },
    "tags": []
   },
   "outputs": [],
   "source": [
    "#hide\n",
    "# cols = list(g.columns.values)"
   ]
  },
  {
   "cell_type": "code",
   "execution_count": 29,
   "id": "solved-farming",
   "metadata": {
    "execution": {
     "iopub.execute_input": "2022-07-28T00:44:32.536231Z",
     "iopub.status.busy": "2022-07-28T00:44:32.535607Z",
     "iopub.status.idle": "2022-07-28T00:44:32.538415Z",
     "shell.execute_reply": "2022-07-28T00:44:32.537903Z"
    },
    "papermill": {
     "duration": 0.038705,
     "end_time": "2022-07-28T00:44:32.538528",
     "exception": false,
     "start_time": "2022-07-28T00:44:32.499823",
     "status": "completed"
    },
    "tags": []
   },
   "outputs": [],
   "source": [
    "#hide\n",
    "# cols.insert(0, cols.pop())"
   ]
  },
  {
   "cell_type": "code",
   "execution_count": 30,
   "id": "executed-adoption",
   "metadata": {
    "execution": {
     "iopub.execute_input": "2022-07-28T00:44:32.609023Z",
     "iopub.status.busy": "2022-07-28T00:44:32.608388Z",
     "iopub.status.idle": "2022-07-28T00:44:32.611055Z",
     "shell.execute_reply": "2022-07-28T00:44:32.612026Z"
    },
    "papermill": {
     "duration": 0.04092,
     "end_time": "2022-07-28T00:44:32.612271",
     "exception": false,
     "start_time": "2022-07-28T00:44:32.571351",
     "status": "completed"
    },
    "tags": []
   },
   "outputs": [],
   "source": [
    "#hide\n",
    "# g = g[cols]"
   ]
  },
  {
   "cell_type": "code",
   "execution_count": 31,
   "id": "subject-dublin",
   "metadata": {
    "execution": {
     "iopub.execute_input": "2022-07-28T00:44:32.684046Z",
     "iopub.status.busy": "2022-07-28T00:44:32.683284Z",
     "iopub.status.idle": "2022-07-28T00:44:32.686454Z",
     "shell.execute_reply": "2022-07-28T00:44:32.685934Z"
    },
    "papermill": {
     "duration": 0.040347,
     "end_time": "2022-07-28T00:44:32.686569",
     "exception": false,
     "start_time": "2022-07-28T00:44:32.646222",
     "status": "completed"
    },
    "tags": []
   },
   "outputs": [],
   "source": [
    "#hide\n",
    "# g['continent'] = g['continent'].map(mapping['map.continent'])"
   ]
  },
  {
   "cell_type": "code",
   "execution_count": 32,
   "id": "freelance-scout",
   "metadata": {
    "execution": {
     "iopub.execute_input": "2022-07-28T00:44:32.757028Z",
     "iopub.status.busy": "2022-07-28T00:44:32.756383Z",
     "iopub.status.idle": "2022-07-28T00:44:32.759382Z",
     "shell.execute_reply": "2022-07-28T00:44:32.758676Z"
    },
    "papermill": {
     "duration": 0.039171,
     "end_time": "2022-07-28T00:44:32.759494",
     "exception": false,
     "start_time": "2022-07-28T00:44:32.720323",
     "status": "completed"
    },
    "tags": []
   },
   "outputs": [],
   "source": [
    "#hide\n",
    "# g.head()"
   ]
  },
  {
   "cell_type": "code",
   "execution_count": 33,
   "id": "limited-engine",
   "metadata": {
    "execution": {
     "iopub.execute_input": "2022-07-28T00:44:32.826893Z",
     "iopub.status.busy": "2022-07-28T00:44:32.826269Z",
     "iopub.status.idle": "2022-07-28T00:44:32.828979Z",
     "shell.execute_reply": "2022-07-28T00:44:32.828372Z"
    },
    "papermill": {
     "duration": 0.037016,
     "end_time": "2022-07-28T00:44:32.829087",
     "exception": false,
     "start_time": "2022-07-28T00:44:32.792071",
     "status": "completed"
    },
    "tags": []
   },
   "outputs": [],
   "source": [
    "# hide\n",
    "# g['date'] = g['date'].astype('datetime64[ns]')"
   ]
  },
  {
   "cell_type": "code",
   "execution_count": 34,
   "id": "sophisticated-supervisor",
   "metadata": {
    "execution": {
     "iopub.execute_input": "2022-07-28T00:44:32.899433Z",
     "iopub.status.busy": "2022-07-28T00:44:32.898646Z",
     "iopub.status.idle": "2022-07-28T00:44:32.901858Z",
     "shell.execute_reply": "2022-07-28T00:44:32.901201Z"
    },
    "papermill": {
     "duration": 0.039962,
     "end_time": "2022-07-28T00:44:32.901973",
     "exception": false,
     "start_time": "2022-07-28T00:44:32.862011",
     "status": "completed"
    },
    "tags": []
   },
   "outputs": [],
   "source": [
    "#hide\n",
    "# g['date'] = g.date.dt.dayofyear"
   ]
  },
  {
   "cell_type": "code",
   "execution_count": 35,
   "id": "inside-dubai",
   "metadata": {
    "execution": {
     "iopub.execute_input": "2022-07-28T00:44:32.972007Z",
     "iopub.status.busy": "2022-07-28T00:44:32.971381Z",
     "iopub.status.idle": "2022-07-28T00:44:32.974418Z",
     "shell.execute_reply": "2022-07-28T00:44:32.973760Z"
    },
    "papermill": {
     "duration": 0.03985,
     "end_time": "2022-07-28T00:44:32.974530",
     "exception": false,
     "start_time": "2022-07-28T00:44:32.934680",
     "status": "completed"
    },
    "tags": []
   },
   "outputs": [],
   "source": [
    "#hide\n",
    "# g = g.rename(columns= {'continent':'group','country':'name','cases':'value'})"
   ]
  },
  {
   "cell_type": "code",
   "execution_count": 36,
   "id": "fleet-motorcycle",
   "metadata": {
    "execution": {
     "iopub.execute_input": "2022-07-28T00:44:33.050669Z",
     "iopub.status.busy": "2022-07-28T00:44:33.049927Z",
     "iopub.status.idle": "2022-07-28T00:44:33.053799Z",
     "shell.execute_reply": "2022-07-28T00:44:33.053017Z"
    },
    "papermill": {
     "duration": 0.045807,
     "end_time": "2022-07-28T00:44:33.053939",
     "exception": false,
     "start_time": "2022-07-28T00:44:33.008132",
     "status": "completed"
    },
    "tags": []
   },
   "outputs": [],
   "source": [
    "#hide\n",
    "# cols = ['name','group','day','value']"
   ]
  },
  {
   "cell_type": "code",
   "execution_count": 37,
   "id": "continued-sleeping",
   "metadata": {
    "execution": {
     "iopub.execute_input": "2022-07-28T00:44:33.130773Z",
     "iopub.status.busy": "2022-07-28T00:44:33.130001Z",
     "iopub.status.idle": "2022-07-28T00:44:33.133236Z",
     "shell.execute_reply": "2022-07-28T00:44:33.132393Z"
    },
    "papermill": {
     "duration": 0.042824,
     "end_time": "2022-07-28T00:44:33.133355",
     "exception": false,
     "start_time": "2022-07-28T00:44:33.090531",
     "status": "completed"
    },
    "tags": []
   },
   "outputs": [],
   "source": [
    "#hide\n",
    "# g.rename(columns= {'date':'day'},inplace = True)"
   ]
  },
  {
   "cell_type": "code",
   "execution_count": 38,
   "id": "major-fight",
   "metadata": {
    "execution": {
     "iopub.execute_input": "2022-07-28T00:44:33.204554Z",
     "iopub.status.busy": "2022-07-28T00:44:33.203914Z",
     "iopub.status.idle": "2022-07-28T00:44:33.206889Z",
     "shell.execute_reply": "2022-07-28T00:44:33.206306Z"
    },
    "papermill": {
     "duration": 0.039612,
     "end_time": "2022-07-28T00:44:33.207003",
     "exception": false,
     "start_time": "2022-07-28T00:44:33.167391",
     "status": "completed"
    },
    "tags": []
   },
   "outputs": [],
   "source": [
    "#hide\n",
    "# g = g[cols]"
   ]
  },
  {
   "cell_type": "code",
   "execution_count": 39,
   "id": "structured-mobile",
   "metadata": {
    "execution": {
     "iopub.execute_input": "2022-07-28T00:44:33.280600Z",
     "iopub.status.busy": "2022-07-28T00:44:33.279803Z",
     "iopub.status.idle": "2022-07-28T00:44:33.282675Z",
     "shell.execute_reply": "2022-07-28T00:44:33.282089Z"
    },
    "papermill": {
     "duration": 0.04183,
     "end_time": "2022-07-28T00:44:33.282779",
     "exception": false,
     "start_time": "2022-07-28T00:44:33.240949",
     "status": "completed"
    },
    "tags": []
   },
   "outputs": [],
   "source": [
    "# #hide\n",
    "# g = g[g.group.notna()]"
   ]
  },
  {
   "cell_type": "code",
   "execution_count": 40,
   "id": "determined-closing",
   "metadata": {
    "execution": {
     "iopub.execute_input": "2022-07-28T00:44:33.349309Z",
     "iopub.status.busy": "2022-07-28T00:44:33.348700Z",
     "iopub.status.idle": "2022-07-28T00:44:33.351902Z",
     "shell.execute_reply": "2022-07-28T00:44:33.351317Z"
    },
    "papermill": {
     "duration": 0.037316,
     "end_time": "2022-07-28T00:44:33.352011",
     "exception": false,
     "start_time": "2022-07-28T00:44:33.314695",
     "status": "completed"
    },
    "tags": []
   },
   "outputs": [],
   "source": [
    "# #hide\n",
    "# colors = dict(zip(\n",
    "#     [\"Oceania\", \"Europe\", \"Asia\", \"South America\", \"Middle East\", \"North America\", \"Africa\"],\n",
    "#     [\"#adb0ff\", \"#ffb3ff\", \"#90d595\", \"#e48381\", \"#aafbff\", \"#f7bb5f\", \"#eafb50\"]\n",
    "# ))\n",
    "# group_lk = g.set_index('name')['group'].to_dict()"
   ]
  },
  {
   "cell_type": "code",
   "execution_count": null,
   "id": "gross-drinking",
   "metadata": {
    "papermill": {
     "duration": 0.031116,
     "end_time": "2022-07-28T00:44:33.414093",
     "exception": false,
     "start_time": "2022-07-28T00:44:33.382977",
     "status": "completed"
    },
    "tags": []
   },
   "outputs": [],
   "source": []
  },
  {
   "cell_type": "code",
   "execution_count": 41,
   "id": "subject-macintosh",
   "metadata": {
    "execution": {
     "iopub.execute_input": "2022-07-28T00:44:33.481356Z",
     "iopub.status.busy": "2022-07-28T00:44:33.480730Z",
     "iopub.status.idle": "2022-07-28T00:44:33.483120Z",
     "shell.execute_reply": "2022-07-28T00:44:33.483612Z"
    },
    "papermill": {
     "duration": 0.038561,
     "end_time": "2022-07-28T00:44:33.483730",
     "exception": false,
     "start_time": "2022-07-28T00:44:33.445169",
     "status": "completed"
    },
    "tags": []
   },
   "outputs": [],
   "source": [
    "# #hide\n",
    "# fig, ax = plt.subplots(figsize=(15, 8))\n",
    "\n",
    "# def draw_barchart(current_day):\n",
    "#     dff = g[g['day'].eq(current_day)].sort_values(by='value', ascending=True).tail(10)\n",
    "#     ax.clear()\n",
    "#     ax.barh(dff['name'], dff['value'], color=[colors[group_lk[x]] for x in dff['name']])\n",
    "#     dx = dff['value'].max() / 200\n",
    "    \n",
    "#     for i, (value, name) in enumerate(zip(dff['value'], dff['name'])):\n",
    "#         ax.text(value-dx, i,     name,           size=14, weight=600, ha='right', va='bottom')\n",
    "#         ax.text(value-dx, i-.25, group_lk[name], size=10, color='#444444', ha='right', va='baseline')\n",
    "#         ax.text(value+dx, i,     f'{value:,.0f}',  size=14, ha='left',  va='center')\n",
    "#     ax.text(1, 0.4, current_day, transform=ax.transAxes, color='#777777', size=46, ha='right', weight=800)\n",
    "#     ax.text(0, 1.06, 'Population (thousands)', transform=ax.transAxes, size=12, color='#777777')\n",
    "#     ax.xaxis.set_major_formatter(ticker.StrMethodFormatter('{x:,.0f}'))\n",
    "#     ax.xaxis.set_ticks_position('top')\n",
    "#     ax.tick_params(axis='x', colors='#777777', labelsize=12)\n",
    "#     ax.set_yticks([])\n",
    "#     ax.margins(0, 0.01)\n",
    "#     ax.grid(which='major', axis='x', linestyle='-')\n",
    "#     ax.set_axisbelow(True)\n",
    "    \n",
    "#     ax.text(0, 1.15, 'Coronavirus',\n",
    "#             transform=ax.transAxes, size=24, weight=600, ha='left', va='top')\n",
    "# #     ax.text(1, 0, 'by @pratapvardhan; credit @jburnmurdoch', transform=ax.transAxes, color='#777777', ha='right',\n",
    "# #             bbox=dict(facecolor='white', alpha=0.8, edgecolor='white'))\n",
    "#     plt.box(False)"
   ]
  },
  {
   "cell_type": "code",
   "execution_count": 42,
   "id": "sexual-wages",
   "metadata": {
    "execution": {
     "iopub.execute_input": "2022-07-28T00:44:33.549112Z",
     "iopub.status.busy": "2022-07-28T00:44:33.548431Z",
     "iopub.status.idle": "2022-07-28T00:44:33.550995Z",
     "shell.execute_reply": "2022-07-28T00:44:33.550389Z"
    },
    "papermill": {
     "duration": 0.03722,
     "end_time": "2022-07-28T00:44:33.551103",
     "exception": false,
     "start_time": "2022-07-28T00:44:33.513883",
     "status": "completed"
    },
    "tags": []
   },
   "outputs": [],
   "source": [
    "# #hide_input\n",
    "# fig, ax = plt.subplots(figsize=(15, 8))\n",
    "# animator = animation.FuncAnimation(fig, draw_barchart, frames=range(g.day.values.min(), g.day.values.max()))\n",
    "# HTML(animator.to_jshtml())\n",
    "# # or use animator.to_html5_video() or animator.save() "
   ]
  },
  {
   "cell_type": "code",
   "execution_count": null,
   "id": "australian-container",
   "metadata": {
    "papermill": {
     "duration": 0.032278,
     "end_time": "2022-07-28T00:44:33.616643",
     "exception": false,
     "start_time": "2022-07-28T00:44:33.584365",
     "status": "completed"
    },
    "tags": []
   },
   "outputs": [],
   "source": []
  },
  {
   "cell_type": "code",
   "execution_count": null,
   "id": "mediterranean-pontiac",
   "metadata": {
    "papermill": {
     "duration": 0.037932,
     "end_time": "2022-07-28T00:44:33.688546",
     "exception": false,
     "start_time": "2022-07-28T00:44:33.650614",
     "status": "completed"
    },
    "tags": []
   },
   "outputs": [],
   "source": []
  },
  {
   "cell_type": "code",
   "execution_count": null,
   "id": "aging-legislature",
   "metadata": {
    "papermill": {
     "duration": 0.032081,
     "end_time": "2022-07-28T00:44:33.752549",
     "exception": false,
     "start_time": "2022-07-28T00:44:33.720468",
     "status": "completed"
    },
    "tags": []
   },
   "outputs": [],
   "source": []
  }
 ],
 "metadata": {
  "kernelspec": {
   "display_name": "Python 3",
   "language": "python",
   "name": "python3"
  },
  "language_info": {
   "codemirror_mode": {
    "name": "ipython",
    "version": 3
   },
   "file_extension": ".py",
   "mimetype": "text/x-python",
   "name": "python",
   "nbconvert_exporter": "python",
   "pygments_lexer": "ipython3",
   "version": "3.6.15"
  },
  "papermill": {
   "duration": 6.667884,
   "end_time": "2022-07-28T00:44:34.103790",
   "environment_variables": {},
   "exception": null,
   "input_path": "2020-03-21-covid19exp.ipynb",
   "output_path": "2020-03-21-covid19exp.ipynb",
   "parameters": {},
   "start_time": "2022-07-28T00:44:27.435906",
   "version": "2.0.0"
  }
 },
 "nbformat": 4,
 "nbformat_minor": 5
}