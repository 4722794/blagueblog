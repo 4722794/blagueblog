{
 "cells": [
  {
   "cell_type": "markdown",
   "metadata": {
    "papermill": {
     "duration": 0.033667,
     "end_time": "2021-01-14T12:24:03.441651",
     "exception": false,
     "start_time": "2021-01-14T12:24:03.407984",
     "status": "completed"
    },
    "tags": []
   },
   "source": [
    "# COVID-19 Case Race\n",
    "> A race chart to see rising cases around the world\n",
    "\n",
    "- author: Hargun Oberoi\n",
    "- image: images/covid-overview.png\n",
    "- hide: false\n",
    "- badges: false"
   ]
  },
  {
   "cell_type": "code",
   "execution_count": 1,
   "metadata": {
    "execution": {
     "iopub.execute_input": "2021-01-14T12:24:03.514174Z",
     "iopub.status.busy": "2021-01-14T12:24:03.513571Z",
     "iopub.status.idle": "2021-01-14T12:24:03.851459Z",
     "shell.execute_reply": "2021-01-14T12:24:03.850717Z"
    },
    "papermill": {
     "duration": 0.379556,
     "end_time": "2021-01-14T12:24:03.851673",
     "exception": false,
     "start_time": "2021-01-14T12:24:03.472117",
     "status": "completed"
    },
    "tags": []
   },
   "outputs": [],
   "source": [
    "#hide\n",
    "import numpy as np\n",
    "import pandas as pd\n",
    "from jinja2 import Template\n",
    "from IPython.display import HTML"
   ]
  },
  {
   "cell_type": "code",
   "execution_count": 2,
   "metadata": {
    "execution": {
     "iopub.execute_input": "2021-01-14T12:24:03.929412Z",
     "iopub.status.busy": "2021-01-14T12:24:03.928796Z",
     "iopub.status.idle": "2021-01-14T12:24:03.931990Z",
     "shell.execute_reply": "2021-01-14T12:24:03.931486Z"
    },
    "papermill": {
     "duration": 0.038091,
     "end_time": "2021-01-14T12:24:03.932118",
     "exception": false,
     "start_time": "2021-01-14T12:24:03.894027",
     "status": "completed"
    },
    "tags": []
   },
   "outputs": [],
   "source": [
    "#hide\n",
    "\n",
    "# FETCH\n",
    "base_url = 'https://raw.githubusercontent.com/pratapvardhan/notebooks/master/covid19/'\n",
    "paths = {\n",
    "    'mapping': base_url + 'mapping_countries.csv',\n",
    "    'overview': base_url + 'overview.tpl'\n",
    "}"
   ]
  },
  {
   "cell_type": "code",
   "execution_count": 3,
   "metadata": {
    "execution": {
     "iopub.execute_input": "2021-01-14T12:24:04.004094Z",
     "iopub.status.busy": "2021-01-14T12:24:04.003503Z",
     "iopub.status.idle": "2021-01-14T12:24:04.007414Z",
     "shell.execute_reply": "2021-01-14T12:24:04.007925Z"
    },
    "papermill": {
     "duration": 0.046393,
     "end_time": "2021-01-14T12:24:04.008076",
     "exception": false,
     "start_time": "2021-01-14T12:24:03.961683",
     "status": "completed"
    },
    "tags": []
   },
   "outputs": [
    {
     "data": {
      "text/plain": [
       "'https://raw.githubusercontent.com/pratapvardhan/notebooks/master/covid19/mapping_countries.csv'"
      ]
     },
     "execution_count": 3,
     "metadata": {},
     "output_type": "execute_result"
    }
   ],
   "source": [
    "#hide\n",
    "paths['mapping']"
   ]
  },
  {
   "cell_type": "code",
   "execution_count": 4,
   "metadata": {
    "execution": {
     "iopub.execute_input": "2021-01-14T12:24:04.074680Z",
     "iopub.status.busy": "2021-01-14T12:24:04.074095Z",
     "iopub.status.idle": "2021-01-14T12:24:04.076438Z",
     "shell.execute_reply": "2021-01-14T12:24:04.075971Z"
    },
    "papermill": {
     "duration": 0.038493,
     "end_time": "2021-01-14T12:24:04.076565",
     "exception": false,
     "start_time": "2021-01-14T12:24:04.038072",
     "status": "completed"
    },
    "tags": []
   },
   "outputs": [],
   "source": [
    "#hide\n",
    "def get_mappings(url):\n",
    "    df = pd.read_csv(url)\n",
    "    return {\n",
    "        'df': df,\n",
    "        'replace.country': dict(df.dropna(subset=['Name']).set_index('Country')['Name']),\n",
    "        'map.continent': dict(df.set_index('Name')['Continent'])\n",
    "    }"
   ]
  },
  {
   "cell_type": "code",
   "execution_count": 5,
   "metadata": {
    "execution": {
     "iopub.execute_input": "2021-01-14T12:24:04.143619Z",
     "iopub.status.busy": "2021-01-14T12:24:04.143039Z",
     "iopub.status.idle": "2021-01-14T12:24:04.198416Z",
     "shell.execute_reply": "2021-01-14T12:24:04.197565Z"
    },
    "papermill": {
     "duration": 0.092252,
     "end_time": "2021-01-14T12:24:04.198644",
     "exception": false,
     "start_time": "2021-01-14T12:24:04.106392",
     "status": "completed"
    },
    "tags": []
   },
   "outputs": [],
   "source": [
    "#hide\n",
    "mapping = get_mappings(paths['mapping'])"
   ]
  },
  {
   "cell_type": "code",
   "execution_count": 6,
   "metadata": {
    "execution": {
     "iopub.execute_input": "2021-01-14T12:24:04.267228Z",
     "iopub.status.busy": "2021-01-14T12:24:04.266638Z",
     "iopub.status.idle": "2021-01-14T12:24:04.268320Z",
     "shell.execute_reply": "2021-01-14T12:24:04.268784Z"
    },
    "papermill": {
     "duration": 0.038397,
     "end_time": "2021-01-14T12:24:04.268946",
     "exception": false,
     "start_time": "2021-01-14T12:24:04.230549",
     "status": "completed"
    },
    "tags": []
   },
   "outputs": [],
   "source": [
    "#hide\n",
    "def get_template(path):\n",
    "    from urllib.parse import urlparse\n",
    "    if bool(urlparse(path).netloc):\n",
    "        from urllib.request import urlopen\n",
    "        return urlopen(path).read().decode('utf8')\n",
    "    return open(path).read()"
   ]
  },
  {
   "cell_type": "code",
   "execution_count": 7,
   "metadata": {
    "execution": {
     "iopub.execute_input": "2021-01-14T12:24:04.336199Z",
     "iopub.status.busy": "2021-01-14T12:24:04.335602Z",
     "iopub.status.idle": "2021-01-14T12:24:04.337730Z",
     "shell.execute_reply": "2021-01-14T12:24:04.337241Z"
    },
    "papermill": {
     "duration": 0.038989,
     "end_time": "2021-01-14T12:24:04.337856",
     "exception": false,
     "start_time": "2021-01-14T12:24:04.298867",
     "status": "completed"
    },
    "tags": []
   },
   "outputs": [],
   "source": [
    "#hide\n",
    "def get_frame(name):\n",
    "    url = (\n",
    "        'https://raw.githubusercontent.com/CSSEGISandData/COVID-19/master/csse_covid_19_data/'\n",
    "        f'csse_covid_19_time_series/time_series_covid19_{name}_global.csv')\n",
    "    df = pd.read_csv(url)\n",
    "    # rename countries\n",
    "    df['Country/Region'] = df['Country/Region'].replace(mapping['replace.country'])\n",
    "    return df"
   ]
  },
  {
   "cell_type": "code",
   "execution_count": 8,
   "metadata": {
    "execution": {
     "iopub.execute_input": "2021-01-14T12:24:04.405636Z",
     "iopub.status.busy": "2021-01-14T12:24:04.405051Z",
     "iopub.status.idle": "2021-01-14T12:24:04.406931Z",
     "shell.execute_reply": "2021-01-14T12:24:04.407368Z"
    },
    "papermill": {
     "duration": 0.039764,
     "end_time": "2021-01-14T12:24:04.407513",
     "exception": false,
     "start_time": "2021-01-14T12:24:04.367749",
     "status": "completed"
    },
    "tags": []
   },
   "outputs": [],
   "source": [
    "#hide\n",
    "def get_dates(df):\n",
    "    dt_cols = df.columns[~df.columns.isin(['Province/State', 'Country/Region', 'Lat', 'Long'])]\n",
    "    LAST_DATE_I = -1\n",
    "    # sometimes last column may be empty, then go backwards\n",
    "    for i in range(-1, -len(dt_cols), -1):\n",
    "        if not df[dt_cols[i]].fillna(0).eq(0).all():\n",
    "            LAST_DATE_I = i\n",
    "            break\n",
    "    return LAST_DATE_I, dt_cols"
   ]
  },
  {
   "cell_type": "code",
   "execution_count": 9,
   "metadata": {
    "execution": {
     "iopub.execute_input": "2021-01-14T12:24:04.472439Z",
     "iopub.status.busy": "2021-01-14T12:24:04.471434Z",
     "iopub.status.idle": "2021-01-14T12:24:04.810649Z",
     "shell.execute_reply": "2021-01-14T12:24:04.809550Z"
    },
    "papermill": {
     "duration": 0.373476,
     "end_time": "2021-01-14T12:24:04.810801",
     "exception": false,
     "start_time": "2021-01-14T12:24:04.437325",
     "status": "completed"
    },
    "tags": []
   },
   "outputs": [],
   "source": [
    "#hide\n",
    "COL_REGION = 'Country/Region'\n",
    "# Confirmed, Recovered, Deaths\n",
    "df = get_frame('confirmed')\n",
    "# dft_: timeseries, dfc_: today country agg\n",
    "dft_cases = df\n",
    "dft_deaths = get_frame('deaths')\n",
    "dft_recovered = get_frame('recovered')\n",
    "LAST_DATE_I, dt_cols = get_dates(df)"
   ]
  },
  {
   "cell_type": "code",
   "execution_count": 10,
   "metadata": {
    "execution": {
     "iopub.execute_input": "2021-01-14T12:24:04.877619Z",
     "iopub.status.busy": "2021-01-14T12:24:04.877018Z",
     "iopub.status.idle": "2021-01-14T12:24:04.879206Z",
     "shell.execute_reply": "2021-01-14T12:24:04.878723Z"
    },
    "papermill": {
     "duration": 0.038146,
     "end_time": "2021-01-14T12:24:04.879345",
     "exception": false,
     "start_time": "2021-01-14T12:24:04.841199",
     "status": "completed"
    },
    "tags": []
   },
   "outputs": [],
   "source": [
    "#hide\n",
    "LAST_DATE_I, dt_cols = get_dates(df)\n",
    "dt_today =dt_cols[LAST_DATE_I]\n",
    "# dt_5day = dt_cols[LAST_DATE_I - 5]\n",
    "dt_yday = dt_cols[LAST_DATE_I - 1]"
   ]
  },
  {
   "cell_type": "code",
   "execution_count": 11,
   "metadata": {
    "execution": {
     "iopub.execute_input": "2021-01-14T12:24:04.953146Z",
     "iopub.status.busy": "2021-01-14T12:24:04.952489Z",
     "iopub.status.idle": "2021-01-14T12:24:04.959089Z",
     "shell.execute_reply": "2021-01-14T12:24:04.958602Z"
    },
    "papermill": {
     "duration": 0.04925,
     "end_time": "2021-01-14T12:24:04.959230",
     "exception": false,
     "start_time": "2021-01-14T12:24:04.909980",
     "status": "completed"
    },
    "tags": []
   },
   "outputs": [],
   "source": [
    "#hide\n",
    "dfc_cases = dft_cases.groupby(COL_REGION)[dt_today].sum()\n",
    "dfc_deaths = dft_deaths.groupby(COL_REGION)[dt_today].sum()\n",
    "# dfp_cases = dft_cases.groupby(COL_REGION)[dt_5day].sum()\n",
    "# dfp_deaths = dft_deaths.groupby(COL_REGION)[dt_5day].sum()\n",
    "dfp_cases = dft_cases.groupby(COL_REGION)[dt_yday].sum()\n",
    "dfp_deaths = dft_deaths.groupby(COL_REGION)[dt_yday].sum()"
   ]
  },
  {
   "cell_type": "code",
   "execution_count": 12,
   "metadata": {
    "execution": {
     "iopub.execute_input": "2021-01-14T12:24:05.027697Z",
     "iopub.status.busy": "2021-01-14T12:24:05.026437Z",
     "iopub.status.idle": "2021-01-14T12:24:05.032818Z",
     "shell.execute_reply": "2021-01-14T12:24:05.032272Z"
    },
    "papermill": {
     "duration": 0.043337,
     "end_time": "2021-01-14T12:24:05.032957",
     "exception": false,
     "start_time": "2021-01-14T12:24:04.989620",
     "status": "completed"
    },
    "tags": []
   },
   "outputs": [],
   "source": [
    "#hide\n",
    "df_table = (pd.DataFrame(dict(Cases = dfc_cases, Deaths = dfc_deaths, PCases = dfp_cases, PDeaths = dfp_deaths))\n",
    "            .sort_values(by = ['Cases','Deaths'], ascending = [False, False])\n",
    "            .reset_index())"
   ]
  },
  {
   "cell_type": "code",
   "execution_count": 13,
   "metadata": {
    "execution": {
     "iopub.execute_input": "2021-01-14T12:24:05.112693Z",
     "iopub.status.busy": "2021-01-14T12:24:05.112058Z",
     "iopub.status.idle": "2021-01-14T12:24:05.119978Z",
     "shell.execute_reply": "2021-01-14T12:24:05.119499Z"
    },
    "papermill": {
     "duration": 0.057206,
     "end_time": "2021-01-14T12:24:05.120116",
     "exception": false,
     "start_time": "2021-01-14T12:24:05.062910",
     "status": "completed"
    },
    "tags": []
   },
   "outputs": [
    {
     "data": {
      "text/html": [
       "<div>\n",
       "<style scoped>\n",
       "    .dataframe tbody tr th:only-of-type {\n",
       "        vertical-align: middle;\n",
       "    }\n",
       "\n",
       "    .dataframe tbody tr th {\n",
       "        vertical-align: top;\n",
       "    }\n",
       "\n",
       "    .dataframe thead th {\n",
       "        text-align: right;\n",
       "    }\n",
       "</style>\n",
       "<table border=\"1\" class=\"dataframe\">\n",
       "  <thead>\n",
       "    <tr style=\"text-align: right;\">\n",
       "      <th></th>\n",
       "      <th>Country/Region</th>\n",
       "      <th>Cases</th>\n",
       "      <th>Deaths</th>\n",
       "      <th>PCases</th>\n",
       "      <th>PDeaths</th>\n",
       "      <th>Cases (+)</th>\n",
       "      <th>Deaths (+)</th>\n",
       "      <th>Fatality Rate</th>\n",
       "      <th>Continent</th>\n",
       "    </tr>\n",
       "  </thead>\n",
       "  <tbody>\n",
       "    <tr>\n",
       "      <th>0</th>\n",
       "      <td>US</td>\n",
       "      <td>23071895</td>\n",
       "      <td>384653</td>\n",
       "      <td>22838952</td>\n",
       "      <td>380805</td>\n",
       "      <td>232943</td>\n",
       "      <td>3848</td>\n",
       "      <td>1.67</td>\n",
       "      <td>North America</td>\n",
       "    </tr>\n",
       "    <tr>\n",
       "      <th>1</th>\n",
       "      <td>India</td>\n",
       "      <td>10512093</td>\n",
       "      <td>151727</td>\n",
       "      <td>10495147</td>\n",
       "      <td>151529</td>\n",
       "      <td>16946</td>\n",
       "      <td>198</td>\n",
       "      <td>1.44</td>\n",
       "      <td>Asia</td>\n",
       "    </tr>\n",
       "    <tr>\n",
       "      <th>2</th>\n",
       "      <td>Brazil</td>\n",
       "      <td>8256536</td>\n",
       "      <td>205964</td>\n",
       "      <td>8195637</td>\n",
       "      <td>204690</td>\n",
       "      <td>60899</td>\n",
       "      <td>1274</td>\n",
       "      <td>2.49</td>\n",
       "      <td>South America</td>\n",
       "    </tr>\n",
       "    <tr>\n",
       "      <th>3</th>\n",
       "      <td>Russia</td>\n",
       "      <td>3434934</td>\n",
       "      <td>62463</td>\n",
       "      <td>3412390</td>\n",
       "      <td>61908</td>\n",
       "      <td>22544</td>\n",
       "      <td>555</td>\n",
       "      <td>1.82</td>\n",
       "      <td>Europe</td>\n",
       "    </tr>\n",
       "    <tr>\n",
       "      <th>4</th>\n",
       "      <td>United Kingdom</td>\n",
       "      <td>3220953</td>\n",
       "      <td>84910</td>\n",
       "      <td>3173291</td>\n",
       "      <td>83342</td>\n",
       "      <td>47662</td>\n",
       "      <td>1568</td>\n",
       "      <td>2.64</td>\n",
       "      <td>Europe</td>\n",
       "    </tr>\n",
       "  </tbody>\n",
       "</table>\n",
       "</div>"
      ],
      "text/plain": [
       "   Country/Region     Cases  Deaths    PCases  PDeaths  Cases (+)  Deaths (+)  \\\n",
       "0              US  23071895  384653  22838952   380805     232943        3848   \n",
       "1           India  10512093  151727  10495147   151529      16946         198   \n",
       "2          Brazil   8256536  205964   8195637   204690      60899        1274   \n",
       "3          Russia   3434934   62463   3412390    61908      22544         555   \n",
       "4  United Kingdom   3220953   84910   3173291    83342      47662        1568   \n",
       "\n",
       "   Fatality Rate      Continent  \n",
       "0           1.67  North America  \n",
       "1           1.44           Asia  \n",
       "2           2.49  South America  \n",
       "3           1.82         Europe  \n",
       "4           2.64         Europe  "
      ]
     },
     "execution_count": 13,
     "metadata": {},
     "output_type": "execute_result"
    }
   ],
   "source": [
    "#hide\n",
    "for c in 'Cases, Deaths'.split(', '):\n",
    "    df_table[f'{c} (+)'] = (df_table[c] - df_table[f'P{c}']).clip(0)\n",
    "    #Clip ça veut dire, les chiffres negatif sont interdit\n",
    "df_table['Fatality Rate'] = (100* df_table['Deaths']/ df_table['Cases']).round(2)\n",
    "df_table['Continent'] = df_table['Country/Region'].map(mapping['map.continent'])\n",
    "df_table.head(5)"
   ]
  },
  {
   "cell_type": "code",
   "execution_count": 14,
   "metadata": {
    "execution": {
     "iopub.execute_input": "2021-01-14T12:24:05.189111Z",
     "iopub.status.busy": "2021-01-14T12:24:05.188479Z",
     "iopub.status.idle": "2021-01-14T12:24:05.190698Z",
     "shell.execute_reply": "2021-01-14T12:24:05.190123Z"
    },
    "papermill": {
     "duration": 0.039955,
     "end_time": "2021-01-14T12:24:05.190828",
     "exception": false,
     "start_time": "2021-01-14T12:24:05.150873",
     "status": "completed"
    },
    "tags": []
   },
   "outputs": [],
   "source": [
    "#hide\n",
    "#delete problematic countries from table\n",
    "df_table = df_table[~df_table['Country/Region'].isin(['Cape Verde', 'Cruise Ship', 'Kosovo'])]"
   ]
  },
  {
   "cell_type": "code",
   "execution_count": 15,
   "metadata": {
    "execution": {
     "iopub.execute_input": "2021-01-14T12:24:05.270251Z",
     "iopub.status.busy": "2021-01-14T12:24:05.260124Z",
     "iopub.status.idle": "2021-01-14T12:24:05.281575Z",
     "shell.execute_reply": "2021-01-14T12:24:05.280303Z"
    },
    "papermill": {
     "duration": 0.060455,
     "end_time": "2021-01-14T12:24:05.281721",
     "exception": false,
     "start_time": "2021-01-14T12:24:05.221266",
     "status": "completed"
    },
    "tags": []
   },
   "outputs": [
    {
     "data": {
      "text/html": [
       "<div>\n",
       "<style scoped>\n",
       "    .dataframe tbody tr th:only-of-type {\n",
       "        vertical-align: middle;\n",
       "    }\n",
       "\n",
       "    .dataframe tbody tr th {\n",
       "        vertical-align: top;\n",
       "    }\n",
       "\n",
       "    .dataframe thead th {\n",
       "        text-align: right;\n",
       "    }\n",
       "</style>\n",
       "<table border=\"1\" class=\"dataframe\">\n",
       "  <thead>\n",
       "    <tr style=\"text-align: right;\">\n",
       "      <th></th>\n",
       "      <th>Country/Region</th>\n",
       "      <th>Cases</th>\n",
       "      <th>Deaths</th>\n",
       "      <th>PCases</th>\n",
       "      <th>PDeaths</th>\n",
       "      <th>Cases (+)</th>\n",
       "      <th>Deaths (+)</th>\n",
       "      <th>Fatality Rate</th>\n",
       "      <th>Continent</th>\n",
       "    </tr>\n",
       "  </thead>\n",
       "  <tbody>\n",
       "    <tr>\n",
       "      <th>0</th>\n",
       "      <td>US</td>\n",
       "      <td>23071895</td>\n",
       "      <td>384653</td>\n",
       "      <td>22838952</td>\n",
       "      <td>380805</td>\n",
       "      <td>232943</td>\n",
       "      <td>3848</td>\n",
       "      <td>1.7</td>\n",
       "      <td>North America</td>\n",
       "    </tr>\n",
       "    <tr>\n",
       "      <th>1</th>\n",
       "      <td>India</td>\n",
       "      <td>10512093</td>\n",
       "      <td>151727</td>\n",
       "      <td>10495147</td>\n",
       "      <td>151529</td>\n",
       "      <td>16946</td>\n",
       "      <td>198</td>\n",
       "      <td>1.4</td>\n",
       "      <td>Asia</td>\n",
       "    </tr>\n",
       "    <tr>\n",
       "      <th>2</th>\n",
       "      <td>Brazil</td>\n",
       "      <td>8256536</td>\n",
       "      <td>205964</td>\n",
       "      <td>8195637</td>\n",
       "      <td>204690</td>\n",
       "      <td>60899</td>\n",
       "      <td>1274</td>\n",
       "      <td>2.5</td>\n",
       "      <td>South America</td>\n",
       "    </tr>\n",
       "    <tr>\n",
       "      <th>3</th>\n",
       "      <td>Russia</td>\n",
       "      <td>3434934</td>\n",
       "      <td>62463</td>\n",
       "      <td>3412390</td>\n",
       "      <td>61908</td>\n",
       "      <td>22544</td>\n",
       "      <td>555</td>\n",
       "      <td>1.8</td>\n",
       "      <td>Europe</td>\n",
       "    </tr>\n",
       "    <tr>\n",
       "      <th>4</th>\n",
       "      <td>United Kingdom</td>\n",
       "      <td>3220953</td>\n",
       "      <td>84910</td>\n",
       "      <td>3173291</td>\n",
       "      <td>83342</td>\n",
       "      <td>47662</td>\n",
       "      <td>1568</td>\n",
       "      <td>2.6</td>\n",
       "      <td>Europe</td>\n",
       "    </tr>\n",
       "  </tbody>\n",
       "</table>\n",
       "</div>"
      ],
      "text/plain": [
       "   Country/Region     Cases  Deaths    PCases  PDeaths  Cases (+)  Deaths (+)  \\\n",
       "0              US  23071895  384653  22838952   380805     232943        3848   \n",
       "1           India  10512093  151727  10495147   151529      16946         198   \n",
       "2          Brazil   8256536  205964   8195637   204690      60899        1274   \n",
       "3          Russia   3434934   62463   3412390    61908      22544         555   \n",
       "4  United Kingdom   3220953   84910   3173291    83342      47662        1568   \n",
       "\n",
       "   Fatality Rate      Continent  \n",
       "0            1.7  North America  \n",
       "1            1.4           Asia  \n",
       "2            2.5  South America  \n",
       "3            1.8         Europe  \n",
       "4            2.6         Europe  "
      ]
     },
     "execution_count": 15,
     "metadata": {},
     "output_type": "execute_result"
    }
   ],
   "source": [
    "#hide\n",
    "df_table = (pd.DataFrame(dict(Cases=dfc_cases, Deaths=dfc_deaths, PCases=dfp_cases, PDeaths=dfp_deaths))\n",
    "             .sort_values(by=['Cases', 'Deaths'], ascending=[False, False])\n",
    "             .reset_index())\n",
    "df_table.rename(columns={'index': 'Country/Region'}, inplace=True)\n",
    "for c in 'Cases, Deaths'.split(', '):\n",
    "    df_table[f'{c} (+)'] = (df_table[c] - df_table[f'P{c}']).clip(0)  # DATA BUG\n",
    "df_table['Fatality Rate'] = (100 * df_table['Deaths'] / df_table['Cases']).round(1)\n",
    "df_table['Continent'] = df_table['Country/Region'].map(mapping['map.continent'])\n",
    "df_table.head(5)"
   ]
  },
  {
   "cell_type": "code",
   "execution_count": 16,
   "metadata": {
    "execution": {
     "iopub.execute_input": "2021-01-14T12:24:05.354424Z",
     "iopub.status.busy": "2021-01-14T12:24:05.353834Z",
     "iopub.status.idle": "2021-01-14T12:24:05.356430Z",
     "shell.execute_reply": "2021-01-14T12:24:05.355956Z"
    },
    "papermill": {
     "duration": 0.041881,
     "end_time": "2021-01-14T12:24:05.356562",
     "exception": false,
     "start_time": "2021-01-14T12:24:05.314681",
     "status": "completed"
    },
    "tags": []
   },
   "outputs": [],
   "source": [
    "#hide\n",
    "#delete problematic countries from table\n",
    "df_table = df_table[~df_table['Country/Region'].isin(['Cape Verde', 'Cruise Ship', 'Kosovo'])]"
   ]
  },
  {
   "cell_type": "code",
   "execution_count": 17,
   "metadata": {
    "execution": {
     "iopub.execute_input": "2021-01-14T12:24:05.439865Z",
     "iopub.status.busy": "2021-01-14T12:24:05.439216Z",
     "iopub.status.idle": "2021-01-14T12:24:05.445190Z",
     "shell.execute_reply": "2021-01-14T12:24:05.444672Z"
    },
    "papermill": {
     "duration": 0.057143,
     "end_time": "2021-01-14T12:24:05.445326",
     "exception": false,
     "start_time": "2021-01-14T12:24:05.388183",
     "status": "completed"
    },
    "tags": []
   },
   "outputs": [],
   "source": [
    "#hide\n",
    "metrics = [df_table.columns[index] for index in [1,2,5,6]]\n",
    "# s_china = df_table[df_table['Country/Region'].eq('China')][metrics].sum().add_prefix('China ')\n",
    "s_us = df_table[df_table['Country/Region'].eq('US')][metrics].sum().add_prefix('US ')\n",
    "s_eu = df_table[df_table['Continent'].eq('Europe')][metrics].sum().add_prefix('EU ')\n",
    "s_ind = df_table[df_table['Country/Region'].eq('India')][metrics].sum().add_prefix('India ')\n",
    "summary = {'updated': pd.to_datetime(dt_today), 'since': pd.to_datetime(dt_yday)}\n",
    "summary = {'updated': pd.to_datetime(dt_today), 'since': pd.to_datetime(dt_yday)}\n",
    "summary = {**summary, **df_table[metrics].sum(), **s_ind, **s_us, **s_eu}"
   ]
  },
  {
   "cell_type": "code",
   "execution_count": 18,
   "metadata": {
    "execution": {
     "iopub.execute_input": "2021-01-14T12:24:05.514197Z",
     "iopub.status.busy": "2021-01-14T12:24:05.513611Z",
     "iopub.status.idle": "2021-01-14T12:24:05.524996Z",
     "shell.execute_reply": "2021-01-14T12:24:05.524474Z"
    },
    "papermill": {
     "duration": 0.048911,
     "end_time": "2021-01-14T12:24:05.525137",
     "exception": false,
     "start_time": "2021-01-14T12:24:05.476226",
     "status": "completed"
    },
    "tags": []
   },
   "outputs": [],
   "source": [
    "#hide\n",
    "dft_ct_new_cases = dft_cases.groupby(COL_REGION)[dt_cols].sum().diff(axis=1).fillna(0).astype(int)"
   ]
  },
  {
   "cell_type": "code",
   "execution_count": 19,
   "metadata": {
    "execution": {
     "iopub.execute_input": "2021-01-14T12:24:05.593769Z",
     "iopub.status.busy": "2021-01-14T12:24:05.593221Z",
     "iopub.status.idle": "2021-01-14T12:24:05.597183Z",
     "shell.execute_reply": "2021-01-14T12:24:05.596708Z"
    },
    "papermill": {
     "duration": 0.041295,
     "end_time": "2021-01-14T12:24:05.597325",
     "exception": false,
     "start_time": "2021-01-14T12:24:05.556030",
     "status": "completed"
    },
    "tags": []
   },
   "outputs": [],
   "source": [
    "#hide\n",
    "everydaycases = dft_ct_new_cases.cumsum(axis=1)"
   ]
  },
  {
   "cell_type": "code",
   "execution_count": 20,
   "metadata": {
    "execution": {
     "iopub.execute_input": "2021-01-14T12:24:05.664015Z",
     "iopub.status.busy": "2021-01-14T12:24:05.663433Z",
     "iopub.status.idle": "2021-01-14T12:24:06.729462Z",
     "shell.execute_reply": "2021-01-14T12:24:06.728629Z"
    },
    "papermill": {
     "duration": 1.101498,
     "end_time": "2021-01-14T12:24:06.729669",
     "exception": false,
     "start_time": "2021-01-14T12:24:05.628171",
     "status": "completed"
    },
    "tags": []
   },
   "outputs": [],
   "source": [
    "#hide\n",
    "import pandas as pd\n",
    "import matplotlib.pyplot as plt\n",
    "import matplotlib.ticker as ticker\n",
    "import matplotlib.animation as animation\n",
    "from IPython.display import HTML"
   ]
  },
  {
   "cell_type": "code",
   "execution_count": 21,
   "metadata": {
    "execution": {
     "iopub.execute_input": "2021-01-14T12:24:06.798446Z",
     "iopub.status.busy": "2021-01-14T12:24:06.797862Z",
     "iopub.status.idle": "2021-01-14T12:24:06.802558Z",
     "shell.execute_reply": "2021-01-14T12:24:06.803034Z"
    },
    "papermill": {
     "duration": 0.041394,
     "end_time": "2021-01-14T12:24:06.803179",
     "exception": false,
     "start_time": "2021-01-14T12:24:06.761785",
     "status": "completed"
    },
    "tags": []
   },
   "outputs": [],
   "source": [
    "#hide\n",
    "t = everydaycases.stack()"
   ]
  },
  {
   "cell_type": "code",
   "execution_count": 22,
   "metadata": {
    "execution": {
     "iopub.execute_input": "2021-01-14T12:24:06.869671Z",
     "iopub.status.busy": "2021-01-14T12:24:06.869056Z",
     "iopub.status.idle": "2021-01-14T12:24:06.875557Z",
     "shell.execute_reply": "2021-01-14T12:24:06.875082Z"
    },
    "papermill": {
     "duration": 0.04162,
     "end_time": "2021-01-14T12:24:06.875689",
     "exception": false,
     "start_time": "2021-01-14T12:24:06.834069",
     "status": "completed"
    },
    "tags": []
   },
   "outputs": [],
   "source": [
    "#hide\n",
    "g = t.reset_index(['Country/Region'])"
   ]
  },
  {
   "cell_type": "code",
   "execution_count": 23,
   "metadata": {
    "execution": {
     "iopub.execute_input": "2021-01-14T12:24:06.942284Z",
     "iopub.status.busy": "2021-01-14T12:24:06.941275Z",
     "iopub.status.idle": "2021-01-14T12:24:06.945394Z",
     "shell.execute_reply": "2021-01-14T12:24:06.946039Z"
    },
    "papermill": {
     "duration": 0.039781,
     "end_time": "2021-01-14T12:24:06.946228",
     "exception": false,
     "start_time": "2021-01-14T12:24:06.906447",
     "status": "completed"
    },
    "tags": []
   },
   "outputs": [],
   "source": [
    "#hide\n",
    "g.index.name = 'date'"
   ]
  },
  {
   "cell_type": "code",
   "execution_count": 24,
   "metadata": {
    "execution": {
     "iopub.execute_input": "2021-01-14T12:24:07.022920Z",
     "iopub.status.busy": "2021-01-14T12:24:07.021872Z",
     "iopub.status.idle": "2021-01-14T12:24:07.023987Z",
     "shell.execute_reply": "2021-01-14T12:24:07.024842Z"
    },
    "papermill": {
     "duration": 0.046659,
     "end_time": "2021-01-14T12:24:07.025083",
     "exception": false,
     "start_time": "2021-01-14T12:24:06.978424",
     "status": "completed"
    },
    "tags": []
   },
   "outputs": [],
   "source": [
    "# #hide\n",
    "# g = g.reset_index(['date'])"
   ]
  },
  {
   "cell_type": "code",
   "execution_count": 25,
   "metadata": {
    "execution": {
     "iopub.execute_input": "2021-01-14T12:24:07.091773Z",
     "iopub.status.busy": "2021-01-14T12:24:07.091186Z",
     "iopub.status.idle": "2021-01-14T12:24:07.093306Z",
     "shell.execute_reply": "2021-01-14T12:24:07.092809Z"
    },
    "papermill": {
     "duration": 0.036389,
     "end_time": "2021-01-14T12:24:07.093432",
     "exception": false,
     "start_time": "2021-01-14T12:24:07.057043",
     "status": "completed"
    },
    "tags": []
   },
   "outputs": [],
   "source": [
    "#hide\n",
    "# g.head()"
   ]
  },
  {
   "cell_type": "code",
   "execution_count": 26,
   "metadata": {
    "execution": {
     "iopub.execute_input": "2021-01-14T12:24:07.159152Z",
     "iopub.status.busy": "2021-01-14T12:24:07.158566Z",
     "iopub.status.idle": "2021-01-14T12:24:07.161136Z",
     "shell.execute_reply": "2021-01-14T12:24:07.160613Z"
    },
    "papermill": {
     "duration": 0.037089,
     "end_time": "2021-01-14T12:24:07.161262",
     "exception": false,
     "start_time": "2021-01-14T12:24:07.124173",
     "status": "completed"
    },
    "tags": []
   },
   "outputs": [],
   "source": [
    "#hide\n",
    "# g.columns = ['date','country','cases']"
   ]
  },
  {
   "cell_type": "code",
   "execution_count": 27,
   "metadata": {
    "execution": {
     "iopub.execute_input": "2021-01-14T12:24:07.226096Z",
     "iopub.status.busy": "2021-01-14T12:24:07.225499Z",
     "iopub.status.idle": "2021-01-14T12:24:07.227722Z",
     "shell.execute_reply": "2021-01-14T12:24:07.227249Z"
    },
    "papermill": {
     "duration": 0.036247,
     "end_time": "2021-01-14T12:24:07.227854",
     "exception": false,
     "start_time": "2021-01-14T12:24:07.191607",
     "status": "completed"
    },
    "tags": []
   },
   "outputs": [],
   "source": [
    "#hide\n",
    "# g['continent'] = g.country"
   ]
  },
  {
   "cell_type": "code",
   "execution_count": 28,
   "metadata": {
    "execution": {
     "iopub.execute_input": "2021-01-14T12:24:07.298645Z",
     "iopub.status.busy": "2021-01-14T12:24:07.298019Z",
     "iopub.status.idle": "2021-01-14T12:24:07.300333Z",
     "shell.execute_reply": "2021-01-14T12:24:07.300917Z"
    },
    "papermill": {
     "duration": 0.039906,
     "end_time": "2021-01-14T12:24:07.301113",
     "exception": false,
     "start_time": "2021-01-14T12:24:07.261207",
     "status": "completed"
    },
    "tags": []
   },
   "outputs": [],
   "source": [
    "#hide\n",
    "# cols = list(g.columns.values)"
   ]
  },
  {
   "cell_type": "code",
   "execution_count": 29,
   "metadata": {
    "execution": {
     "iopub.execute_input": "2021-01-14T12:24:07.370709Z",
     "iopub.status.busy": "2021-01-14T12:24:07.369456Z",
     "iopub.status.idle": "2021-01-14T12:24:07.372492Z",
     "shell.execute_reply": "2021-01-14T12:24:07.371946Z"
    },
    "papermill": {
     "duration": 0.039459,
     "end_time": "2021-01-14T12:24:07.372627",
     "exception": false,
     "start_time": "2021-01-14T12:24:07.333168",
     "status": "completed"
    },
    "tags": []
   },
   "outputs": [],
   "source": [
    "#hide\n",
    "# cols.insert(0, cols.pop())"
   ]
  },
  {
   "cell_type": "code",
   "execution_count": 30,
   "metadata": {
    "execution": {
     "iopub.execute_input": "2021-01-14T12:24:07.441020Z",
     "iopub.status.busy": "2021-01-14T12:24:07.440360Z",
     "iopub.status.idle": "2021-01-14T12:24:07.442610Z",
     "shell.execute_reply": "2021-01-14T12:24:07.442101Z"
    },
    "papermill": {
     "duration": 0.03812,
     "end_time": "2021-01-14T12:24:07.442739",
     "exception": false,
     "start_time": "2021-01-14T12:24:07.404619",
     "status": "completed"
    },
    "tags": []
   },
   "outputs": [],
   "source": [
    "#hide\n",
    "# g = g[cols]"
   ]
  },
  {
   "cell_type": "code",
   "execution_count": 31,
   "metadata": {
    "execution": {
     "iopub.execute_input": "2021-01-14T12:24:07.511349Z",
     "iopub.status.busy": "2021-01-14T12:24:07.510758Z",
     "iopub.status.idle": "2021-01-14T12:24:07.513446Z",
     "shell.execute_reply": "2021-01-14T12:24:07.512967Z"
    },
    "papermill": {
     "duration": 0.037501,
     "end_time": "2021-01-14T12:24:07.513583",
     "exception": false,
     "start_time": "2021-01-14T12:24:07.476082",
     "status": "completed"
    },
    "tags": []
   },
   "outputs": [],
   "source": [
    "#hide\n",
    "# g['continent'] = g['continent'].map(mapping['map.continent'])"
   ]
  },
  {
   "cell_type": "code",
   "execution_count": 32,
   "metadata": {
    "execution": {
     "iopub.execute_input": "2021-01-14T12:24:07.579472Z",
     "iopub.status.busy": "2021-01-14T12:24:07.578889Z",
     "iopub.status.idle": "2021-01-14T12:24:07.581084Z",
     "shell.execute_reply": "2021-01-14T12:24:07.580562Z"
    },
    "papermill": {
     "duration": 0.036817,
     "end_time": "2021-01-14T12:24:07.581212",
     "exception": false,
     "start_time": "2021-01-14T12:24:07.544395",
     "status": "completed"
    },
    "tags": []
   },
   "outputs": [],
   "source": [
    "#hide\n",
    "# g.head()"
   ]
  },
  {
   "cell_type": "code",
   "execution_count": 33,
   "metadata": {
    "execution": {
     "iopub.execute_input": "2021-01-14T12:24:07.646598Z",
     "iopub.status.busy": "2021-01-14T12:24:07.645858Z",
     "iopub.status.idle": "2021-01-14T12:24:07.647277Z",
     "shell.execute_reply": "2021-01-14T12:24:07.647951Z"
    },
    "papermill": {
     "duration": 0.036481,
     "end_time": "2021-01-14T12:24:07.648125",
     "exception": false,
     "start_time": "2021-01-14T12:24:07.611644",
     "status": "completed"
    },
    "tags": []
   },
   "outputs": [],
   "source": [
    "# hide\n",
    "# g['date'] = g['date'].astype('datetime64[ns]')"
   ]
  },
  {
   "cell_type": "code",
   "execution_count": 34,
   "metadata": {
    "execution": {
     "iopub.execute_input": "2021-01-14T12:24:07.714683Z",
     "iopub.status.busy": "2021-01-14T12:24:07.714101Z",
     "iopub.status.idle": "2021-01-14T12:24:07.716727Z",
     "shell.execute_reply": "2021-01-14T12:24:07.716233Z"
    },
    "papermill": {
     "duration": 0.037264,
     "end_time": "2021-01-14T12:24:07.716863",
     "exception": false,
     "start_time": "2021-01-14T12:24:07.679599",
     "status": "completed"
    },
    "tags": []
   },
   "outputs": [],
   "source": [
    "#hide\n",
    "# g['date'] = g.date.dt.dayofyear"
   ]
  },
  {
   "cell_type": "code",
   "execution_count": 35,
   "metadata": {
    "execution": {
     "iopub.execute_input": "2021-01-14T12:24:07.782243Z",
     "iopub.status.busy": "2021-01-14T12:24:07.781654Z",
     "iopub.status.idle": "2021-01-14T12:24:07.785823Z",
     "shell.execute_reply": "2021-01-14T12:24:07.785027Z"
    },
    "papermill": {
     "duration": 0.038886,
     "end_time": "2021-01-14T12:24:07.786036",
     "exception": false,
     "start_time": "2021-01-14T12:24:07.747150",
     "status": "completed"
    },
    "tags": []
   },
   "outputs": [],
   "source": [
    "#hide\n",
    "# g = g.rename(columns= {'continent':'group','country':'name','cases':'value'})"
   ]
  },
  {
   "cell_type": "code",
   "execution_count": 36,
   "metadata": {
    "execution": {
     "iopub.execute_input": "2021-01-14T12:24:07.853842Z",
     "iopub.status.busy": "2021-01-14T12:24:07.853254Z",
     "iopub.status.idle": "2021-01-14T12:24:07.855430Z",
     "shell.execute_reply": "2021-01-14T12:24:07.854948Z"
    },
    "papermill": {
     "duration": 0.037315,
     "end_time": "2021-01-14T12:24:07.855554",
     "exception": false,
     "start_time": "2021-01-14T12:24:07.818239",
     "status": "completed"
    },
    "tags": []
   },
   "outputs": [],
   "source": [
    "#hide\n",
    "# cols = ['name','group','day','value']"
   ]
  },
  {
   "cell_type": "code",
   "execution_count": 37,
   "metadata": {
    "execution": {
     "iopub.execute_input": "2021-01-14T12:24:07.927749Z",
     "iopub.status.busy": "2021-01-14T12:24:07.927168Z",
     "iopub.status.idle": "2021-01-14T12:24:07.931051Z",
     "shell.execute_reply": "2021-01-14T12:24:07.930481Z"
    },
    "papermill": {
     "duration": 0.045478,
     "end_time": "2021-01-14T12:24:07.931176",
     "exception": false,
     "start_time": "2021-01-14T12:24:07.885698",
     "status": "completed"
    },
    "tags": []
   },
   "outputs": [],
   "source": [
    "#hide\n",
    "# g.rename(columns= {'date':'day'},inplace = True)"
   ]
  },
  {
   "cell_type": "code",
   "execution_count": 38,
   "metadata": {
    "execution": {
     "iopub.execute_input": "2021-01-14T12:24:07.996822Z",
     "iopub.status.busy": "2021-01-14T12:24:07.996213Z",
     "iopub.status.idle": "2021-01-14T12:24:07.998481Z",
     "shell.execute_reply": "2021-01-14T12:24:07.997994Z"
    },
    "papermill": {
     "duration": 0.036838,
     "end_time": "2021-01-14T12:24:07.998605",
     "exception": false,
     "start_time": "2021-01-14T12:24:07.961767",
     "status": "completed"
    },
    "tags": []
   },
   "outputs": [],
   "source": [
    "#hide\n",
    "# g = g[cols]"
   ]
  },
  {
   "cell_type": "code",
   "execution_count": 39,
   "metadata": {
    "execution": {
     "iopub.execute_input": "2021-01-14T12:24:08.063701Z",
     "iopub.status.busy": "2021-01-14T12:24:08.063125Z",
     "iopub.status.idle": "2021-01-14T12:24:08.065005Z",
     "shell.execute_reply": "2021-01-14T12:24:08.065502Z"
    },
    "papermill": {
     "duration": 0.036428,
     "end_time": "2021-01-14T12:24:08.065647",
     "exception": false,
     "start_time": "2021-01-14T12:24:08.029219",
     "status": "completed"
    },
    "tags": []
   },
   "outputs": [],
   "source": [
    "# #hide\n",
    "# g = g[g.group.notna()]"
   ]
  },
  {
   "cell_type": "code",
   "execution_count": 40,
   "metadata": {
    "execution": {
     "iopub.execute_input": "2021-01-14T12:24:08.131536Z",
     "iopub.status.busy": "2021-01-14T12:24:08.130875Z",
     "iopub.status.idle": "2021-01-14T12:24:08.133221Z",
     "shell.execute_reply": "2021-01-14T12:24:08.132682Z"
    },
    "papermill": {
     "duration": 0.037116,
     "end_time": "2021-01-14T12:24:08.133357",
     "exception": false,
     "start_time": "2021-01-14T12:24:08.096241",
     "status": "completed"
    },
    "tags": []
   },
   "outputs": [],
   "source": [
    "# #hide\n",
    "# colors = dict(zip(\n",
    "#     [\"Oceania\", \"Europe\", \"Asia\", \"South America\", \"Middle East\", \"North America\", \"Africa\"],\n",
    "#     [\"#adb0ff\", \"#ffb3ff\", \"#90d595\", \"#e48381\", \"#aafbff\", \"#f7bb5f\", \"#eafb50\"]\n",
    "# ))\n",
    "# group_lk = g.set_index('name')['group'].to_dict()"
   ]
  },
  {
   "cell_type": "code",
   "execution_count": null,
   "metadata": {
    "papermill": {
     "duration": 0.031438,
     "end_time": "2021-01-14T12:24:08.196806",
     "exception": false,
     "start_time": "2021-01-14T12:24:08.165368",
     "status": "completed"
    },
    "tags": []
   },
   "outputs": [],
   "source": []
  },
  {
   "cell_type": "code",
   "execution_count": 41,
   "metadata": {
    "execution": {
     "iopub.execute_input": "2021-01-14T12:24:08.264299Z",
     "iopub.status.busy": "2021-01-14T12:24:08.263679Z",
     "iopub.status.idle": "2021-01-14T12:24:08.266125Z",
     "shell.execute_reply": "2021-01-14T12:24:08.265669Z"
    },
    "papermill": {
     "duration": 0.038211,
     "end_time": "2021-01-14T12:24:08.266244",
     "exception": false,
     "start_time": "2021-01-14T12:24:08.228033",
     "status": "completed"
    },
    "tags": []
   },
   "outputs": [],
   "source": [
    "# #hide\n",
    "# fig, ax = plt.subplots(figsize=(15, 8))\n",
    "\n",
    "# def draw_barchart(current_day):\n",
    "#     dff = g[g['day'].eq(current_day)].sort_values(by='value', ascending=True).tail(10)\n",
    "#     ax.clear()\n",
    "#     ax.barh(dff['name'], dff['value'], color=[colors[group_lk[x]] for x in dff['name']])\n",
    "#     dx = dff['value'].max() / 200\n",
    "    \n",
    "#     for i, (value, name) in enumerate(zip(dff['value'], dff['name'])):\n",
    "#         ax.text(value-dx, i,     name,           size=14, weight=600, ha='right', va='bottom')\n",
    "#         ax.text(value-dx, i-.25, group_lk[name], size=10, color='#444444', ha='right', va='baseline')\n",
    "#         ax.text(value+dx, i,     f'{value:,.0f}',  size=14, ha='left',  va='center')\n",
    "#     ax.text(1, 0.4, current_day, transform=ax.transAxes, color='#777777', size=46, ha='right', weight=800)\n",
    "#     ax.text(0, 1.06, 'Population (thousands)', transform=ax.transAxes, size=12, color='#777777')\n",
    "#     ax.xaxis.set_major_formatter(ticker.StrMethodFormatter('{x:,.0f}'))\n",
    "#     ax.xaxis.set_ticks_position('top')\n",
    "#     ax.tick_params(axis='x', colors='#777777', labelsize=12)\n",
    "#     ax.set_yticks([])\n",
    "#     ax.margins(0, 0.01)\n",
    "#     ax.grid(which='major', axis='x', linestyle='-')\n",
    "#     ax.set_axisbelow(True)\n",
    "    \n",
    "#     ax.text(0, 1.15, 'Coronavirus',\n",
    "#             transform=ax.transAxes, size=24, weight=600, ha='left', va='top')\n",
    "# #     ax.text(1, 0, 'by @pratapvardhan; credit @jburnmurdoch', transform=ax.transAxes, color='#777777', ha='right',\n",
    "# #             bbox=dict(facecolor='white', alpha=0.8, edgecolor='white'))\n",
    "#     plt.box(False)"
   ]
  },
  {
   "cell_type": "code",
   "execution_count": 42,
   "metadata": {
    "execution": {
     "iopub.execute_input": "2021-01-14T12:24:08.333250Z",
     "iopub.status.busy": "2021-01-14T12:24:08.332462Z",
     "iopub.status.idle": "2021-01-14T12:24:08.333874Z",
     "shell.execute_reply": "2021-01-14T12:24:08.334331Z"
    },
    "papermill": {
     "duration": 0.036863,
     "end_time": "2021-01-14T12:24:08.334470",
     "exception": false,
     "start_time": "2021-01-14T12:24:08.297607",
     "status": "completed"
    },
    "tags": []
   },
   "outputs": [],
   "source": [
    "# #hide_input\n",
    "# fig, ax = plt.subplots(figsize=(15, 8))\n",
    "# animator = animation.FuncAnimation(fig, draw_barchart, frames=range(g.day.values.min(), g.day.values.max()))\n",
    "# HTML(animator.to_jshtml())\n",
    "# # or use animator.to_html5_video() or animator.save() "
   ]
  },
  {
   "cell_type": "code",
   "execution_count": null,
   "metadata": {
    "papermill": {
     "duration": 0.031126,
     "end_time": "2021-01-14T12:24:08.397389",
     "exception": false,
     "start_time": "2021-01-14T12:24:08.366263",
     "status": "completed"
    },
    "tags": []
   },
   "outputs": [],
   "source": []
  },
  {
   "cell_type": "code",
   "execution_count": null,
   "metadata": {
    "papermill": {
     "duration": 0.030531,
     "end_time": "2021-01-14T12:24:08.459059",
     "exception": false,
     "start_time": "2021-01-14T12:24:08.428528",
     "status": "completed"
    },
    "tags": []
   },
   "outputs": [],
   "source": []
  },
  {
   "cell_type": "code",
   "execution_count": null,
   "metadata": {
    "papermill": {
     "duration": 0.033027,
     "end_time": "2021-01-14T12:24:08.522919",
     "exception": false,
     "start_time": "2021-01-14T12:24:08.489892",
     "status": "completed"
    },
    "tags": []
   },
   "outputs": [],
   "source": []
  }
 ],
 "metadata": {
  "kernelspec": {
   "display_name": "Python 3",
   "language": "python",
   "name": "python3"
  },
  "language_info": {
   "codemirror_mode": {
    "name": "ipython",
    "version": 3
   },
   "file_extension": ".py",
   "mimetype": "text/x-python",
   "name": "python",
   "nbconvert_exporter": "python",
   "pygments_lexer": "ipython3",
   "version": "3.6.12"
  },
  "papermill": {
   "duration": 6.548611,
   "end_time": "2021-01-14T12:24:08.860852",
   "environment_variables": {},
   "exception": null,
   "input_path": "2020-03-21-covid19exp.ipynb",
   "output_path": "2020-03-21-covid19exp.ipynb",
   "parameters": {},
   "start_time": "2021-01-14T12:24:02.312241",
   "version": "2.0.0"
  }
 },
 "nbformat": 4,
 "nbformat_minor": 4
}