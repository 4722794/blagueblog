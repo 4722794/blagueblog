{
 "cells": [
  {
   "cell_type": "markdown",
   "id": "muslim-click",
   "metadata": {
    "papermill": {
     "duration": 0.048652,
     "end_time": "2022-12-04T00:40:03.516848",
     "exception": false,
     "start_time": "2022-12-04T00:40:03.468196",
     "status": "completed"
    },
    "tags": []
   },
   "source": [
    "# COVID-19 Case Race\n",
    "> A race chart to see rising cases around the world\n",
    "\n",
    "- author: Hargun Oberoi\n",
    "- image: images/covid-overview.png\n",
    "- hide: false\n",
    "- badges: false"
   ]
  },
  {
   "cell_type": "code",
   "execution_count": 1,
   "id": "proof-material",
   "metadata": {
    "execution": {
     "iopub.execute_input": "2022-12-04T00:40:03.611289Z",
     "iopub.status.busy": "2022-12-04T00:40:03.610440Z",
     "iopub.status.idle": "2022-12-04T00:40:04.082530Z",
     "shell.execute_reply": "2022-12-04T00:40:04.081824Z"
    },
    "papermill": {
     "duration": 0.525214,
     "end_time": "2022-12-04T00:40:04.082712",
     "exception": false,
     "start_time": "2022-12-04T00:40:03.557498",
     "status": "completed"
    },
    "tags": []
   },
   "outputs": [],
   "source": [
    "#hide\n",
    "import numpy as np\n",
    "import pandas as pd\n",
    "from jinja2 import Template\n",
    "from IPython.display import HTML"
   ]
  },
  {
   "cell_type": "code",
   "execution_count": 2,
   "id": "developed-terminology",
   "metadata": {
    "execution": {
     "iopub.execute_input": "2022-12-04T00:40:04.173737Z",
     "iopub.status.busy": "2022-12-04T00:40:04.172851Z",
     "iopub.status.idle": "2022-12-04T00:40:04.175863Z",
     "shell.execute_reply": "2022-12-04T00:40:04.176506Z"
    },
    "papermill": {
     "duration": 0.051331,
     "end_time": "2022-12-04T00:40:04.176665",
     "exception": false,
     "start_time": "2022-12-04T00:40:04.125334",
     "status": "completed"
    },
    "tags": []
   },
   "outputs": [],
   "source": [
    "#hide\n",
    "\n",
    "# FETCH\n",
    "base_url = 'https://raw.githubusercontent.com/pratapvardhan/notebooks/master/covid19/'\n",
    "paths = {\n",
    "    'mapping': base_url + 'mapping_countries.csv',\n",
    "    'overview': base_url + 'overview.tpl'\n",
    "}"
   ]
  },
  {
   "cell_type": "code",
   "execution_count": 3,
   "id": "dynamic-saver",
   "metadata": {
    "execution": {
     "iopub.execute_input": "2022-12-04T00:40:04.273430Z",
     "iopub.status.busy": "2022-12-04T00:40:04.272590Z",
     "iopub.status.idle": "2022-12-04T00:40:04.276432Z",
     "shell.execute_reply": "2022-12-04T00:40:04.277068Z"
    },
    "papermill": {
     "duration": 0.059825,
     "end_time": "2022-12-04T00:40:04.277238",
     "exception": false,
     "start_time": "2022-12-04T00:40:04.217413",
     "status": "completed"
    },
    "tags": []
   },
   "outputs": [
    {
     "data": {
      "text/plain": [
       "'https://raw.githubusercontent.com/pratapvardhan/notebooks/master/covid19/mapping_countries.csv'"
      ]
     },
     "execution_count": 3,
     "metadata": {},
     "output_type": "execute_result"
    }
   ],
   "source": [
    "#hide\n",
    "paths['mapping']"
   ]
  },
  {
   "cell_type": "code",
   "execution_count": 4,
   "id": "urban-software",
   "metadata": {
    "execution": {
     "iopub.execute_input": "2022-12-04T00:40:04.375186Z",
     "iopub.status.busy": "2022-12-04T00:40:04.374353Z",
     "iopub.status.idle": "2022-12-04T00:40:04.379282Z",
     "shell.execute_reply": "2022-12-04T00:40:04.380888Z"
    },
    "papermill": {
     "duration": 0.052839,
     "end_time": "2022-12-04T00:40:04.381095",
     "exception": false,
     "start_time": "2022-12-04T00:40:04.328256",
     "status": "completed"
    },
    "tags": []
   },
   "outputs": [],
   "source": [
    "#hide\n",
    "def get_mappings(url):\n",
    "    df = pd.read_csv(url)\n",
    "    return {\n",
    "        'df': df,\n",
    "        'replace.country': dict(df.dropna(subset=['Name']).set_index('Country')['Name']),\n",
    "        'map.continent': dict(df.set_index('Name')['Continent'])\n",
    "    }"
   ]
  },
  {
   "cell_type": "code",
   "execution_count": 5,
   "id": "intimate-machinery",
   "metadata": {
    "execution": {
     "iopub.execute_input": "2022-12-04T00:40:04.470016Z",
     "iopub.status.busy": "2022-12-04T00:40:04.469199Z",
     "iopub.status.idle": "2022-12-04T00:40:04.508900Z",
     "shell.execute_reply": "2022-12-04T00:40:04.507938Z"
    },
    "papermill": {
     "duration": 0.087616,
     "end_time": "2022-12-04T00:40:04.509060",
     "exception": false,
     "start_time": "2022-12-04T00:40:04.421444",
     "status": "completed"
    },
    "tags": []
   },
   "outputs": [],
   "source": [
    "#hide\n",
    "mapping = get_mappings(paths['mapping'])"
   ]
  },
  {
   "cell_type": "code",
   "execution_count": 6,
   "id": "certified-tactics",
   "metadata": {
    "execution": {
     "iopub.execute_input": "2022-12-04T00:40:04.596860Z",
     "iopub.status.busy": "2022-12-04T00:40:04.596072Z",
     "iopub.status.idle": "2022-12-04T00:40:04.598505Z",
     "shell.execute_reply": "2022-12-04T00:40:04.599356Z"
    },
    "papermill": {
     "duration": 0.049943,
     "end_time": "2022-12-04T00:40:04.599525",
     "exception": false,
     "start_time": "2022-12-04T00:40:04.549582",
     "status": "completed"
    },
    "tags": []
   },
   "outputs": [],
   "source": [
    "#hide\n",
    "def get_template(path):\n",
    "    from urllib.parse import urlparse\n",
    "    if bool(urlparse(path).netloc):\n",
    "        from urllib.request import urlopen\n",
    "        return urlopen(path).read().decode('utf8')\n",
    "    return open(path).read()"
   ]
  },
  {
   "cell_type": "code",
   "execution_count": 7,
   "id": "realistic-blast",
   "metadata": {
    "execution": {
     "iopub.execute_input": "2022-12-04T00:40:04.690834Z",
     "iopub.status.busy": "2022-12-04T00:40:04.689951Z",
     "iopub.status.idle": "2022-12-04T00:40:04.693261Z",
     "shell.execute_reply": "2022-12-04T00:40:04.692620Z"
    },
    "papermill": {
     "duration": 0.051045,
     "end_time": "2022-12-04T00:40:04.693403",
     "exception": false,
     "start_time": "2022-12-04T00:40:04.642358",
     "status": "completed"
    },
    "tags": []
   },
   "outputs": [],
   "source": [
    "#hide\n",
    "def get_frame(name):\n",
    "    url = (\n",
    "        'https://raw.githubusercontent.com/CSSEGISandData/COVID-19/master/csse_covid_19_data/'\n",
    "        f'csse_covid_19_time_series/time_series_covid19_{name}_global.csv')\n",
    "    df = pd.read_csv(url)\n",
    "    # rename countries\n",
    "    df['Country/Region'] = df['Country/Region'].replace(mapping['replace.country'])\n",
    "    return df"
   ]
  },
  {
   "cell_type": "code",
   "execution_count": 8,
   "id": "affiliated-characterization",
   "metadata": {
    "execution": {
     "iopub.execute_input": "2022-12-04T00:40:04.784106Z",
     "iopub.status.busy": "2022-12-04T00:40:04.783199Z",
     "iopub.status.idle": "2022-12-04T00:40:04.786348Z",
     "shell.execute_reply": "2022-12-04T00:40:04.785564Z"
    },
    "papermill": {
     "duration": 0.051671,
     "end_time": "2022-12-04T00:40:04.786500",
     "exception": false,
     "start_time": "2022-12-04T00:40:04.734829",
     "status": "completed"
    },
    "tags": []
   },
   "outputs": [],
   "source": [
    "#hide\n",
    "def get_dates(df):\n",
    "    dt_cols = df.columns[~df.columns.isin(['Province/State', 'Country/Region', 'Lat', 'Long'])]\n",
    "    LAST_DATE_I = -1\n",
    "    # sometimes last column may be empty, then go backwards\n",
    "    for i in range(-1, -len(dt_cols), -1):\n",
    "        if not df[dt_cols[i]].fillna(0).eq(0).all():\n",
    "            LAST_DATE_I = i\n",
    "            break\n",
    "    return LAST_DATE_I, dt_cols"
   ]
  },
  {
   "cell_type": "code",
   "execution_count": 9,
   "id": "recent-optimization",
   "metadata": {
    "execution": {
     "iopub.execute_input": "2022-12-04T00:40:04.882505Z",
     "iopub.status.busy": "2022-12-04T00:40:04.881270Z",
     "iopub.status.idle": "2022-12-04T00:40:05.453496Z",
     "shell.execute_reply": "2022-12-04T00:40:05.452765Z"
    },
    "papermill": {
     "duration": 0.622482,
     "end_time": "2022-12-04T00:40:05.453694",
     "exception": false,
     "start_time": "2022-12-04T00:40:04.831212",
     "status": "completed"
    },
    "tags": []
   },
   "outputs": [],
   "source": [
    "#hide\n",
    "COL_REGION = 'Country/Region'\n",
    "# Confirmed, Recovered, Deaths\n",
    "df = get_frame('confirmed')\n",
    "# dft_: timeseries, dfc_: today country agg\n",
    "dft_cases = df\n",
    "dft_deaths = get_frame('deaths')\n",
    "dft_recovered = get_frame('recovered')\n",
    "LAST_DATE_I, dt_cols = get_dates(df)"
   ]
  },
  {
   "cell_type": "code",
   "execution_count": 10,
   "id": "absolute-copper",
   "metadata": {
    "execution": {
     "iopub.execute_input": "2022-12-04T00:40:05.549118Z",
     "iopub.status.busy": "2022-12-04T00:40:05.548293Z",
     "iopub.status.idle": "2022-12-04T00:40:05.550961Z",
     "shell.execute_reply": "2022-12-04T00:40:05.551590Z"
    },
    "papermill": {
     "duration": 0.055281,
     "end_time": "2022-12-04T00:40:05.551779",
     "exception": false,
     "start_time": "2022-12-04T00:40:05.496498",
     "status": "completed"
    },
    "tags": []
   },
   "outputs": [],
   "source": [
    "#hide\n",
    "LAST_DATE_I, dt_cols = get_dates(df)\n",
    "dt_today =dt_cols[LAST_DATE_I]\n",
    "# dt_5day = dt_cols[LAST_DATE_I - 5]\n",
    "dt_yday = dt_cols[LAST_DATE_I - 1]"
   ]
  },
  {
   "cell_type": "code",
   "execution_count": 11,
   "id": "restricted-sheriff",
   "metadata": {
    "execution": {
     "iopub.execute_input": "2022-12-04T00:40:05.638512Z",
     "iopub.status.busy": "2022-12-04T00:40:05.637303Z",
     "iopub.status.idle": "2022-12-04T00:40:05.650975Z",
     "shell.execute_reply": "2022-12-04T00:40:05.651584Z"
    },
    "papermill": {
     "duration": 0.058859,
     "end_time": "2022-12-04T00:40:05.651771",
     "exception": false,
     "start_time": "2022-12-04T00:40:05.592912",
     "status": "completed"
    },
    "tags": []
   },
   "outputs": [],
   "source": [
    "#hide\n",
    "dfc_cases = dft_cases.groupby(COL_REGION)[dt_today].sum()\n",
    "dfc_deaths = dft_deaths.groupby(COL_REGION)[dt_today].sum()\n",
    "# dfp_cases = dft_cases.groupby(COL_REGION)[dt_5day].sum()\n",
    "# dfp_deaths = dft_deaths.groupby(COL_REGION)[dt_5day].sum()\n",
    "dfp_cases = dft_cases.groupby(COL_REGION)[dt_yday].sum()\n",
    "dfp_deaths = dft_deaths.groupby(COL_REGION)[dt_yday].sum()"
   ]
  },
  {
   "cell_type": "code",
   "execution_count": 12,
   "id": "deluxe-hepatitis",
   "metadata": {
    "execution": {
     "iopub.execute_input": "2022-12-04T00:40:05.739176Z",
     "iopub.status.busy": "2022-12-04T00:40:05.738423Z",
     "iopub.status.idle": "2022-12-04T00:40:05.749131Z",
     "shell.execute_reply": "2022-12-04T00:40:05.749922Z"
    },
    "papermill": {
     "duration": 0.057623,
     "end_time": "2022-12-04T00:40:05.750087",
     "exception": false,
     "start_time": "2022-12-04T00:40:05.692464",
     "status": "completed"
    },
    "tags": []
   },
   "outputs": [],
   "source": [
    "#hide\n",
    "df_table = (pd.DataFrame(dict(Cases = dfc_cases, Deaths = dfc_deaths, PCases = dfp_cases, PDeaths = dfp_deaths))\n",
    "            .sort_values(by = ['Cases','Deaths'], ascending = [False, False])\n",
    "            .reset_index())"
   ]
  },
  {
   "cell_type": "code",
   "execution_count": 13,
   "id": "educational-chancellor",
   "metadata": {
    "execution": {
     "iopub.execute_input": "2022-12-04T00:40:05.849880Z",
     "iopub.status.busy": "2022-12-04T00:40:05.849073Z",
     "iopub.status.idle": "2022-12-04T00:40:05.874095Z",
     "shell.execute_reply": "2022-12-04T00:40:05.874853Z"
    },
    "papermill": {
     "duration": 0.076882,
     "end_time": "2022-12-04T00:40:05.875048",
     "exception": false,
     "start_time": "2022-12-04T00:40:05.798166",
     "status": "completed"
    },
    "tags": []
   },
   "outputs": [
    {
     "data": {
      "text/html": [
       "<div>\n",
       "<style scoped>\n",
       "    .dataframe tbody tr th:only-of-type {\n",
       "        vertical-align: middle;\n",
       "    }\n",
       "\n",
       "    .dataframe tbody tr th {\n",
       "        vertical-align: top;\n",
       "    }\n",
       "\n",
       "    .dataframe thead th {\n",
       "        text-align: right;\n",
       "    }\n",
       "</style>\n",
       "<table border=\"1\" class=\"dataframe\">\n",
       "  <thead>\n",
       "    <tr style=\"text-align: right;\">\n",
       "      <th></th>\n",
       "      <th>Country/Region</th>\n",
       "      <th>Cases</th>\n",
       "      <th>Deaths</th>\n",
       "      <th>PCases</th>\n",
       "      <th>PDeaths</th>\n",
       "      <th>Cases (+)</th>\n",
       "      <th>Deaths (+)</th>\n",
       "      <th>Fatality Rate</th>\n",
       "      <th>Continent</th>\n",
       "    </tr>\n",
       "  </thead>\n",
       "  <tbody>\n",
       "    <tr>\n",
       "      <th>0</th>\n",
       "      <td>US</td>\n",
       "      <td>98962019</td>\n",
       "      <td>1081412</td>\n",
       "      <td>98924207</td>\n",
       "      <td>1081147</td>\n",
       "      <td>37812</td>\n",
       "      <td>265</td>\n",
       "      <td>1.09</td>\n",
       "      <td>North America</td>\n",
       "    </tr>\n",
       "    <tr>\n",
       "      <th>1</th>\n",
       "      <td>India</td>\n",
       "      <td>44674390</td>\n",
       "      <td>530627</td>\n",
       "      <td>44674138</td>\n",
       "      <td>530624</td>\n",
       "      <td>252</td>\n",
       "      <td>3</td>\n",
       "      <td>1.19</td>\n",
       "      <td>Asia</td>\n",
       "    </tr>\n",
       "    <tr>\n",
       "      <th>2</th>\n",
       "      <td>France</td>\n",
       "      <td>38174893</td>\n",
       "      <td>160133</td>\n",
       "      <td>38115885</td>\n",
       "      <td>160066</td>\n",
       "      <td>59008</td>\n",
       "      <td>67</td>\n",
       "      <td>0.42</td>\n",
       "      <td>Europe</td>\n",
       "    </tr>\n",
       "    <tr>\n",
       "      <th>3</th>\n",
       "      <td>Germany</td>\n",
       "      <td>36557861</td>\n",
       "      <td>158198</td>\n",
       "      <td>36530020</td>\n",
       "      <td>158109</td>\n",
       "      <td>27841</td>\n",
       "      <td>89</td>\n",
       "      <td>0.43</td>\n",
       "      <td>Europe</td>\n",
       "    </tr>\n",
       "    <tr>\n",
       "      <th>4</th>\n",
       "      <td>Brazil</td>\n",
       "      <td>35337546</td>\n",
       "      <td>690074</td>\n",
       "      <td>35302137</td>\n",
       "      <td>689945</td>\n",
       "      <td>35409</td>\n",
       "      <td>129</td>\n",
       "      <td>1.95</td>\n",
       "      <td>South America</td>\n",
       "    </tr>\n",
       "  </tbody>\n",
       "</table>\n",
       "</div>"
      ],
      "text/plain": [
       "  Country/Region     Cases   Deaths    PCases  PDeaths  Cases (+)  Deaths (+)  \\\n",
       "0             US  98962019  1081412  98924207  1081147      37812         265   \n",
       "1          India  44674390   530627  44674138   530624        252           3   \n",
       "2         France  38174893   160133  38115885   160066      59008          67   \n",
       "3        Germany  36557861   158198  36530020   158109      27841          89   \n",
       "4         Brazil  35337546   690074  35302137   689945      35409         129   \n",
       "\n",
       "   Fatality Rate      Continent  \n",
       "0           1.09  North America  \n",
       "1           1.19           Asia  \n",
       "2           0.42         Europe  \n",
       "3           0.43         Europe  \n",
       "4           1.95  South America  "
      ]
     },
     "execution_count": 13,
     "metadata": {},
     "output_type": "execute_result"
    }
   ],
   "source": [
    "#hide\n",
    "for c in 'Cases, Deaths'.split(', '):\n",
    "    df_table[f'{c} (+)'] = (df_table[c] - df_table[f'P{c}']).clip(0)\n",
    "    #Clip ça veut dire, les chiffres negatif sont interdit\n",
    "df_table['Fatality Rate'] = (100* df_table['Deaths']/ df_table['Cases']).round(2)\n",
    "df_table['Continent'] = df_table['Country/Region'].map(mapping['map.continent'])\n",
    "df_table.head(5)"
   ]
  },
  {
   "cell_type": "code",
   "execution_count": 14,
   "id": "aboriginal-bulgaria",
   "metadata": {
    "execution": {
     "iopub.execute_input": "2022-12-04T00:40:05.961999Z",
     "iopub.status.busy": "2022-12-04T00:40:05.961065Z",
     "iopub.status.idle": "2022-12-04T00:40:05.968815Z",
     "shell.execute_reply": "2022-12-04T00:40:05.969483Z"
    },
    "papermill": {
     "duration": 0.053006,
     "end_time": "2022-12-04T00:40:05.969652",
     "exception": false,
     "start_time": "2022-12-04T00:40:05.916646",
     "status": "completed"
    },
    "tags": []
   },
   "outputs": [],
   "source": [
    "#hide\n",
    "#delete problematic countries from table\n",
    "df_table = df_table[~df_table['Country/Region'].isin(['Cape Verde', 'Cruise Ship', 'Kosovo'])]"
   ]
  },
  {
   "cell_type": "code",
   "execution_count": 15,
   "id": "fantastic-effect",
   "metadata": {
    "execution": {
     "iopub.execute_input": "2022-12-04T00:40:06.063791Z",
     "iopub.status.busy": "2022-12-04T00:40:06.062926Z",
     "iopub.status.idle": "2022-12-04T00:40:06.088086Z",
     "shell.execute_reply": "2022-12-04T00:40:06.088805Z"
    },
    "papermill": {
     "duration": 0.076949,
     "end_time": "2022-12-04T00:40:06.088975",
     "exception": false,
     "start_time": "2022-12-04T00:40:06.012026",
     "status": "completed"
    },
    "tags": []
   },
   "outputs": [
    {
     "data": {
      "text/html": [
       "<div>\n",
       "<style scoped>\n",
       "    .dataframe tbody tr th:only-of-type {\n",
       "        vertical-align: middle;\n",
       "    }\n",
       "\n",
       "    .dataframe tbody tr th {\n",
       "        vertical-align: top;\n",
       "    }\n",
       "\n",
       "    .dataframe thead th {\n",
       "        text-align: right;\n",
       "    }\n",
       "</style>\n",
       "<table border=\"1\" class=\"dataframe\">\n",
       "  <thead>\n",
       "    <tr style=\"text-align: right;\">\n",
       "      <th></th>\n",
       "      <th>Country/Region</th>\n",
       "      <th>Cases</th>\n",
       "      <th>Deaths</th>\n",
       "      <th>PCases</th>\n",
       "      <th>PDeaths</th>\n",
       "      <th>Cases (+)</th>\n",
       "      <th>Deaths (+)</th>\n",
       "      <th>Fatality Rate</th>\n",
       "      <th>Continent</th>\n",
       "    </tr>\n",
       "  </thead>\n",
       "  <tbody>\n",
       "    <tr>\n",
       "      <th>0</th>\n",
       "      <td>US</td>\n",
       "      <td>98962019</td>\n",
       "      <td>1081412</td>\n",
       "      <td>98924207</td>\n",
       "      <td>1081147</td>\n",
       "      <td>37812</td>\n",
       "      <td>265</td>\n",
       "      <td>1.1</td>\n",
       "      <td>North America</td>\n",
       "    </tr>\n",
       "    <tr>\n",
       "      <th>1</th>\n",
       "      <td>India</td>\n",
       "      <td>44674390</td>\n",
       "      <td>530627</td>\n",
       "      <td>44674138</td>\n",
       "      <td>530624</td>\n",
       "      <td>252</td>\n",
       "      <td>3</td>\n",
       "      <td>1.2</td>\n",
       "      <td>Asia</td>\n",
       "    </tr>\n",
       "    <tr>\n",
       "      <th>2</th>\n",
       "      <td>France</td>\n",
       "      <td>38174893</td>\n",
       "      <td>160133</td>\n",
       "      <td>38115885</td>\n",
       "      <td>160066</td>\n",
       "      <td>59008</td>\n",
       "      <td>67</td>\n",
       "      <td>0.4</td>\n",
       "      <td>Europe</td>\n",
       "    </tr>\n",
       "    <tr>\n",
       "      <th>3</th>\n",
       "      <td>Germany</td>\n",
       "      <td>36557861</td>\n",
       "      <td>158198</td>\n",
       "      <td>36530020</td>\n",
       "      <td>158109</td>\n",
       "      <td>27841</td>\n",
       "      <td>89</td>\n",
       "      <td>0.4</td>\n",
       "      <td>Europe</td>\n",
       "    </tr>\n",
       "    <tr>\n",
       "      <th>4</th>\n",
       "      <td>Brazil</td>\n",
       "      <td>35337546</td>\n",
       "      <td>690074</td>\n",
       "      <td>35302137</td>\n",
       "      <td>689945</td>\n",
       "      <td>35409</td>\n",
       "      <td>129</td>\n",
       "      <td>2.0</td>\n",
       "      <td>South America</td>\n",
       "    </tr>\n",
       "  </tbody>\n",
       "</table>\n",
       "</div>"
      ],
      "text/plain": [
       "  Country/Region     Cases   Deaths    PCases  PDeaths  Cases (+)  Deaths (+)  \\\n",
       "0             US  98962019  1081412  98924207  1081147      37812         265   \n",
       "1          India  44674390   530627  44674138   530624        252           3   \n",
       "2         France  38174893   160133  38115885   160066      59008          67   \n",
       "3        Germany  36557861   158198  36530020   158109      27841          89   \n",
       "4         Brazil  35337546   690074  35302137   689945      35409         129   \n",
       "\n",
       "   Fatality Rate      Continent  \n",
       "0            1.1  North America  \n",
       "1            1.2           Asia  \n",
       "2            0.4         Europe  \n",
       "3            0.4         Europe  \n",
       "4            2.0  South America  "
      ]
     },
     "execution_count": 15,
     "metadata": {},
     "output_type": "execute_result"
    }
   ],
   "source": [
    "#hide\n",
    "df_table = (pd.DataFrame(dict(Cases=dfc_cases, Deaths=dfc_deaths, PCases=dfp_cases, PDeaths=dfp_deaths))\n",
    "             .sort_values(by=['Cases', 'Deaths'], ascending=[False, False])\n",
    "             .reset_index())\n",
    "df_table.rename(columns={'index': 'Country/Region'}, inplace=True)\n",
    "for c in 'Cases, Deaths'.split(', '):\n",
    "    df_table[f'{c} (+)'] = (df_table[c] - df_table[f'P{c}']).clip(0)  # DATA BUG\n",
    "df_table['Fatality Rate'] = (100 * df_table['Deaths'] / df_table['Cases']).round(1)\n",
    "df_table['Continent'] = df_table['Country/Region'].map(mapping['map.continent'])\n",
    "df_table.head(5)"
   ]
  },
  {
   "cell_type": "code",
   "execution_count": 16,
   "id": "fewer-occasion",
   "metadata": {
    "execution": {
     "iopub.execute_input": "2022-12-04T00:40:06.186474Z",
     "iopub.status.busy": "2022-12-04T00:40:06.185651Z",
     "iopub.status.idle": "2022-12-04T00:40:06.189782Z",
     "shell.execute_reply": "2022-12-04T00:40:06.190541Z"
    },
    "papermill": {
     "duration": 0.055434,
     "end_time": "2022-12-04T00:40:06.190750",
     "exception": false,
     "start_time": "2022-12-04T00:40:06.135316",
     "status": "completed"
    },
    "tags": []
   },
   "outputs": [],
   "source": [
    "#hide\n",
    "#delete problematic countries from table\n",
    "df_table = df_table[~df_table['Country/Region'].isin(['Cape Verde', 'Cruise Ship', 'Kosovo'])]"
   ]
  },
  {
   "cell_type": "code",
   "execution_count": 17,
   "id": "related-center",
   "metadata": {
    "execution": {
     "iopub.execute_input": "2022-12-04T00:40:06.298313Z",
     "iopub.status.busy": "2022-12-04T00:40:06.297482Z",
     "iopub.status.idle": "2022-12-04T00:40:06.301056Z",
     "shell.execute_reply": "2022-12-04T00:40:06.300364Z"
    },
    "papermill": {
     "duration": 0.068647,
     "end_time": "2022-12-04T00:40:06.301214",
     "exception": false,
     "start_time": "2022-12-04T00:40:06.232567",
     "status": "completed"
    },
    "tags": []
   },
   "outputs": [],
   "source": [
    "#hide\n",
    "metrics = [df_table.columns[index] for index in [1,2,5,6]]\n",
    "# s_china = df_table[df_table['Country/Region'].eq('China')][metrics].sum().add_prefix('China ')\n",
    "s_us = df_table[df_table['Country/Region'].eq('US')][metrics].sum().add_prefix('US ')\n",
    "s_eu = df_table[df_table['Continent'].eq('Europe')][metrics].sum().add_prefix('EU ')\n",
    "s_ind = df_table[df_table['Country/Region'].eq('India')][metrics].sum().add_prefix('India ')\n",
    "summary = {'updated': pd.to_datetime(dt_today), 'since': pd.to_datetime(dt_yday)}\n",
    "summary = {'updated': pd.to_datetime(dt_today), 'since': pd.to_datetime(dt_yday)}\n",
    "summary = {**summary, **df_table[metrics].sum(), **s_ind, **s_us, **s_eu}"
   ]
  },
  {
   "cell_type": "code",
   "execution_count": 18,
   "id": "engaging-syndrome",
   "metadata": {
    "execution": {
     "iopub.execute_input": "2022-12-04T00:40:06.394059Z",
     "iopub.status.busy": "2022-12-04T00:40:06.393144Z",
     "iopub.status.idle": "2022-12-04T00:40:06.419858Z",
     "shell.execute_reply": "2022-12-04T00:40:06.419112Z"
    },
    "papermill": {
     "duration": 0.076204,
     "end_time": "2022-12-04T00:40:06.420016",
     "exception": false,
     "start_time": "2022-12-04T00:40:06.343812",
     "status": "completed"
    },
    "tags": []
   },
   "outputs": [],
   "source": [
    "#hide\n",
    "dft_ct_new_cases = dft_cases.groupby(COL_REGION)[dt_cols].sum().diff(axis=1).fillna(0).astype(int)"
   ]
  },
  {
   "cell_type": "code",
   "execution_count": 19,
   "id": "neutral-assignment",
   "metadata": {
    "execution": {
     "iopub.execute_input": "2022-12-04T00:40:06.510249Z",
     "iopub.status.busy": "2022-12-04T00:40:06.509426Z",
     "iopub.status.idle": "2022-12-04T00:40:06.519329Z",
     "shell.execute_reply": "2022-12-04T00:40:06.518498Z"
    },
    "papermill": {
     "duration": 0.054359,
     "end_time": "2022-12-04T00:40:06.519483",
     "exception": false,
     "start_time": "2022-12-04T00:40:06.465124",
     "status": "completed"
    },
    "tags": []
   },
   "outputs": [],
   "source": [
    "#hide\n",
    "everydaycases = dft_ct_new_cases.cumsum(axis=1)"
   ]
  },
  {
   "cell_type": "code",
   "execution_count": 20,
   "id": "parliamentary-calgary",
   "metadata": {
    "execution": {
     "iopub.execute_input": "2022-12-04T00:40:06.611292Z",
     "iopub.status.busy": "2022-12-04T00:40:06.610442Z",
     "iopub.status.idle": "2022-12-04T00:40:07.381655Z",
     "shell.execute_reply": "2022-12-04T00:40:07.380949Z"
    },
    "papermill": {
     "duration": 0.820906,
     "end_time": "2022-12-04T00:40:07.381811",
     "exception": false,
     "start_time": "2022-12-04T00:40:06.560905",
     "status": "completed"
    },
    "tags": []
   },
   "outputs": [],
   "source": [
    "#hide\n",
    "import pandas as pd\n",
    "import matplotlib.pyplot as plt\n",
    "import matplotlib.ticker as ticker\n",
    "import matplotlib.animation as animation\n",
    "from IPython.display import HTML"
   ]
  },
  {
   "cell_type": "code",
   "execution_count": 21,
   "id": "lasting-extraction",
   "metadata": {
    "execution": {
     "iopub.execute_input": "2022-12-04T00:40:07.476992Z",
     "iopub.status.busy": "2022-12-04T00:40:07.476204Z",
     "iopub.status.idle": "2022-12-04T00:40:07.485830Z",
     "shell.execute_reply": "2022-12-04T00:40:07.485155Z"
    },
    "papermill": {
     "duration": 0.062722,
     "end_time": "2022-12-04T00:40:07.485974",
     "exception": false,
     "start_time": "2022-12-04T00:40:07.423252",
     "status": "completed"
    },
    "tags": []
   },
   "outputs": [],
   "source": [
    "#hide\n",
    "t = everydaycases.stack()"
   ]
  },
  {
   "cell_type": "code",
   "execution_count": 22,
   "id": "premier-sleeve",
   "metadata": {
    "execution": {
     "iopub.execute_input": "2022-12-04T00:40:07.588496Z",
     "iopub.status.busy": "2022-12-04T00:40:07.587582Z",
     "iopub.status.idle": "2022-12-04T00:40:07.604530Z",
     "shell.execute_reply": "2022-12-04T00:40:07.603886Z"
    },
    "papermill": {
     "duration": 0.075953,
     "end_time": "2022-12-04T00:40:07.604691",
     "exception": false,
     "start_time": "2022-12-04T00:40:07.528738",
     "status": "completed"
    },
    "tags": []
   },
   "outputs": [],
   "source": [
    "#hide\n",
    "g = t.reset_index(['Country/Region'])"
   ]
  },
  {
   "cell_type": "code",
   "execution_count": 23,
   "id": "distributed-pittsburgh",
   "metadata": {
    "execution": {
     "iopub.execute_input": "2022-12-04T00:40:07.694511Z",
     "iopub.status.busy": "2022-12-04T00:40:07.692646Z",
     "iopub.status.idle": "2022-12-04T00:40:07.695381Z",
     "shell.execute_reply": "2022-12-04T00:40:07.696067Z"
    },
    "papermill": {
     "duration": 0.049402,
     "end_time": "2022-12-04T00:40:07.696242",
     "exception": false,
     "start_time": "2022-12-04T00:40:07.646840",
     "status": "completed"
    },
    "tags": []
   },
   "outputs": [],
   "source": [
    "#hide\n",
    "g.index.name = 'date'"
   ]
  },
  {
   "cell_type": "code",
   "execution_count": 24,
   "id": "naked-donor",
   "metadata": {
    "execution": {
     "iopub.execute_input": "2022-12-04T00:40:07.785848Z",
     "iopub.status.busy": "2022-12-04T00:40:07.784970Z",
     "iopub.status.idle": "2022-12-04T00:40:07.788498Z",
     "shell.execute_reply": "2022-12-04T00:40:07.787885Z"
    },
    "papermill": {
     "duration": 0.051016,
     "end_time": "2022-12-04T00:40:07.788631",
     "exception": false,
     "start_time": "2022-12-04T00:40:07.737615",
     "status": "completed"
    },
    "tags": []
   },
   "outputs": [],
   "source": [
    "# #hide\n",
    "# g = g.reset_index(['date'])"
   ]
  },
  {
   "cell_type": "code",
   "execution_count": 25,
   "id": "incomplete-mustang",
   "metadata": {
    "execution": {
     "iopub.execute_input": "2022-12-04T00:40:07.880679Z",
     "iopub.status.busy": "2022-12-04T00:40:07.879820Z",
     "iopub.status.idle": "2022-12-04T00:40:07.883166Z",
     "shell.execute_reply": "2022-12-04T00:40:07.883869Z"
    },
    "papermill": {
     "duration": 0.052817,
     "end_time": "2022-12-04T00:40:07.884047",
     "exception": false,
     "start_time": "2022-12-04T00:40:07.831230",
     "status": "completed"
    },
    "tags": []
   },
   "outputs": [],
   "source": [
    "#hide\n",
    "# g.head()"
   ]
  },
  {
   "cell_type": "code",
   "execution_count": 26,
   "id": "specific-kruger",
   "metadata": {
    "execution": {
     "iopub.execute_input": "2022-12-04T00:40:07.973355Z",
     "iopub.status.busy": "2022-12-04T00:40:07.972512Z",
     "iopub.status.idle": "2022-12-04T00:40:07.975050Z",
     "shell.execute_reply": "2022-12-04T00:40:07.975801Z"
    },
    "papermill": {
     "duration": 0.049674,
     "end_time": "2022-12-04T00:40:07.975949",
     "exception": false,
     "start_time": "2022-12-04T00:40:07.926275",
     "status": "completed"
    },
    "tags": []
   },
   "outputs": [],
   "source": [
    "#hide\n",
    "# g.columns = ['date','country','cases']"
   ]
  },
  {
   "cell_type": "code",
   "execution_count": 27,
   "id": "tender-conversion",
   "metadata": {
    "execution": {
     "iopub.execute_input": "2022-12-04T00:40:08.063042Z",
     "iopub.status.busy": "2022-12-04T00:40:08.062223Z",
     "iopub.status.idle": "2022-12-04T00:40:08.067038Z",
     "shell.execute_reply": "2022-12-04T00:40:08.067636Z"
    },
    "papermill": {
     "duration": 0.051264,
     "end_time": "2022-12-04T00:40:08.067805",
     "exception": false,
     "start_time": "2022-12-04T00:40:08.016541",
     "status": "completed"
    },
    "tags": []
   },
   "outputs": [],
   "source": [
    "#hide\n",
    "# g['continent'] = g.country"
   ]
  },
  {
   "cell_type": "code",
   "execution_count": 28,
   "id": "substantial-wilderness",
   "metadata": {
    "execution": {
     "iopub.execute_input": "2022-12-04T00:40:08.156758Z",
     "iopub.status.busy": "2022-12-04T00:40:08.156007Z",
     "iopub.status.idle": "2022-12-04T00:40:08.158772Z",
     "shell.execute_reply": "2022-12-04T00:40:08.159388Z"
    },
    "papermill": {
     "duration": 0.050273,
     "end_time": "2022-12-04T00:40:08.159545",
     "exception": false,
     "start_time": "2022-12-04T00:40:08.109272",
     "status": "completed"
    },
    "tags": []
   },
   "outputs": [],
   "source": [
    "#hide\n",
    "# cols = list(g.columns.values)"
   ]
  },
  {
   "cell_type": "code",
   "execution_count": 29,
   "id": "solved-farming",
   "metadata": {
    "execution": {
     "iopub.execute_input": "2022-12-04T00:40:08.248894Z",
     "iopub.status.busy": "2022-12-04T00:40:08.248040Z",
     "iopub.status.idle": "2022-12-04T00:40:08.251359Z",
     "shell.execute_reply": "2022-12-04T00:40:08.250667Z"
    },
    "papermill": {
     "duration": 0.049838,
     "end_time": "2022-12-04T00:40:08.251509",
     "exception": false,
     "start_time": "2022-12-04T00:40:08.201671",
     "status": "completed"
    },
    "tags": []
   },
   "outputs": [],
   "source": [
    "#hide\n",
    "# cols.insert(0, cols.pop())"
   ]
  },
  {
   "cell_type": "code",
   "execution_count": 30,
   "id": "executed-adoption",
   "metadata": {
    "execution": {
     "iopub.execute_input": "2022-12-04T00:40:08.344974Z",
     "iopub.status.busy": "2022-12-04T00:40:08.344043Z",
     "iopub.status.idle": "2022-12-04T00:40:08.346669Z",
     "shell.execute_reply": "2022-12-04T00:40:08.347414Z"
    },
    "papermill": {
     "duration": 0.05134,
     "end_time": "2022-12-04T00:40:08.347578",
     "exception": false,
     "start_time": "2022-12-04T00:40:08.296238",
     "status": "completed"
    },
    "tags": []
   },
   "outputs": [],
   "source": [
    "#hide\n",
    "# g = g[cols]"
   ]
  },
  {
   "cell_type": "code",
   "execution_count": 31,
   "id": "subject-dublin",
   "metadata": {
    "execution": {
     "iopub.execute_input": "2022-12-04T00:40:08.440965Z",
     "iopub.status.busy": "2022-12-04T00:40:08.440098Z",
     "iopub.status.idle": "2022-12-04T00:40:08.443451Z",
     "shell.execute_reply": "2022-12-04T00:40:08.442616Z"
    },
    "papermill": {
     "duration": 0.051615,
     "end_time": "2022-12-04T00:40:08.443593",
     "exception": false,
     "start_time": "2022-12-04T00:40:08.391978",
     "status": "completed"
    },
    "tags": []
   },
   "outputs": [],
   "source": [
    "#hide\n",
    "# g['continent'] = g['continent'].map(mapping['map.continent'])"
   ]
  },
  {
   "cell_type": "code",
   "execution_count": 32,
   "id": "freelance-scout",
   "metadata": {
    "execution": {
     "iopub.execute_input": "2022-12-04T00:40:08.540182Z",
     "iopub.status.busy": "2022-12-04T00:40:08.539290Z",
     "iopub.status.idle": "2022-12-04T00:40:08.542893Z",
     "shell.execute_reply": "2022-12-04T00:40:08.542111Z"
    },
    "papermill": {
     "duration": 0.055847,
     "end_time": "2022-12-04T00:40:08.543043",
     "exception": false,
     "start_time": "2022-12-04T00:40:08.487196",
     "status": "completed"
    },
    "tags": []
   },
   "outputs": [],
   "source": [
    "#hide\n",
    "# g.head()"
   ]
  },
  {
   "cell_type": "code",
   "execution_count": 33,
   "id": "limited-engine",
   "metadata": {
    "execution": {
     "iopub.execute_input": "2022-12-04T00:40:08.632660Z",
     "iopub.status.busy": "2022-12-04T00:40:08.631837Z",
     "iopub.status.idle": "2022-12-04T00:40:08.635031Z",
     "shell.execute_reply": "2022-12-04T00:40:08.634244Z"
    },
    "papermill": {
     "duration": 0.04967,
     "end_time": "2022-12-04T00:40:08.635175",
     "exception": false,
     "start_time": "2022-12-04T00:40:08.585505",
     "status": "completed"
    },
    "tags": []
   },
   "outputs": [],
   "source": [
    "# hide\n",
    "# g['date'] = g['date'].astype('datetime64[ns]')"
   ]
  },
  {
   "cell_type": "code",
   "execution_count": 34,
   "id": "sophisticated-supervisor",
   "metadata": {
    "execution": {
     "iopub.execute_input": "2022-12-04T00:40:08.731832Z",
     "iopub.status.busy": "2022-12-04T00:40:08.730968Z",
     "iopub.status.idle": "2022-12-04T00:40:08.734642Z",
     "shell.execute_reply": "2022-12-04T00:40:08.733863Z"
    },
    "papermill": {
     "duration": 0.055584,
     "end_time": "2022-12-04T00:40:08.734786",
     "exception": false,
     "start_time": "2022-12-04T00:40:08.679202",
     "status": "completed"
    },
    "tags": []
   },
   "outputs": [],
   "source": [
    "#hide\n",
    "# g['date'] = g.date.dt.dayofyear"
   ]
  },
  {
   "cell_type": "code",
   "execution_count": 35,
   "id": "inside-dubai",
   "metadata": {
    "execution": {
     "iopub.execute_input": "2022-12-04T00:40:08.831549Z",
     "iopub.status.busy": "2022-12-04T00:40:08.830665Z",
     "iopub.status.idle": "2022-12-04T00:40:08.834097Z",
     "shell.execute_reply": "2022-12-04T00:40:08.833460Z"
    },
    "papermill": {
     "duration": 0.051993,
     "end_time": "2022-12-04T00:40:08.834245",
     "exception": false,
     "start_time": "2022-12-04T00:40:08.782252",
     "status": "completed"
    },
    "tags": []
   },
   "outputs": [],
   "source": [
    "#hide\n",
    "# g = g.rename(columns= {'continent':'group','country':'name','cases':'value'})"
   ]
  },
  {
   "cell_type": "code",
   "execution_count": 36,
   "id": "fleet-motorcycle",
   "metadata": {
    "execution": {
     "iopub.execute_input": "2022-12-04T00:40:08.921635Z",
     "iopub.status.busy": "2022-12-04T00:40:08.920835Z",
     "iopub.status.idle": "2022-12-04T00:40:08.925697Z",
     "shell.execute_reply": "2022-12-04T00:40:08.926307Z"
    },
    "papermill": {
     "duration": 0.050568,
     "end_time": "2022-12-04T00:40:08.926474",
     "exception": false,
     "start_time": "2022-12-04T00:40:08.875906",
     "status": "completed"
    },
    "tags": []
   },
   "outputs": [],
   "source": [
    "#hide\n",
    "# cols = ['name','group','day','value']"
   ]
  },
  {
   "cell_type": "code",
   "execution_count": 37,
   "id": "continued-sleeping",
   "metadata": {
    "execution": {
     "iopub.execute_input": "2022-12-04T00:40:09.018018Z",
     "iopub.status.busy": "2022-12-04T00:40:09.017068Z",
     "iopub.status.idle": "2022-12-04T00:40:09.020889Z",
     "shell.execute_reply": "2022-12-04T00:40:09.020195Z"
    },
    "papermill": {
     "duration": 0.0519,
     "end_time": "2022-12-04T00:40:09.021051",
     "exception": false,
     "start_time": "2022-12-04T00:40:08.969151",
     "status": "completed"
    },
    "tags": []
   },
   "outputs": [],
   "source": [
    "#hide\n",
    "# g.rename(columns= {'date':'day'},inplace = True)"
   ]
  },
  {
   "cell_type": "code",
   "execution_count": 38,
   "id": "major-fight",
   "metadata": {
    "execution": {
     "iopub.execute_input": "2022-12-04T00:40:09.117331Z",
     "iopub.status.busy": "2022-12-04T00:40:09.116394Z",
     "iopub.status.idle": "2022-12-04T00:40:09.118710Z",
     "shell.execute_reply": "2022-12-04T00:40:09.118066Z"
    },
    "papermill": {
     "duration": 0.053871,
     "end_time": "2022-12-04T00:40:09.118852",
     "exception": false,
     "start_time": "2022-12-04T00:40:09.064981",
     "status": "completed"
    },
    "tags": []
   },
   "outputs": [],
   "source": [
    "#hide\n",
    "# g = g[cols]"
   ]
  },
  {
   "cell_type": "code",
   "execution_count": 39,
   "id": "structured-mobile",
   "metadata": {
    "execution": {
     "iopub.execute_input": "2022-12-04T00:40:09.212588Z",
     "iopub.status.busy": "2022-12-04T00:40:09.211797Z",
     "iopub.status.idle": "2022-12-04T00:40:09.215285Z",
     "shell.execute_reply": "2022-12-04T00:40:09.214543Z"
    },
    "papermill": {
     "duration": 0.051232,
     "end_time": "2022-12-04T00:40:09.215432",
     "exception": false,
     "start_time": "2022-12-04T00:40:09.164200",
     "status": "completed"
    },
    "tags": []
   },
   "outputs": [],
   "source": [
    "# #hide\n",
    "# g = g[g.group.notna()]"
   ]
  },
  {
   "cell_type": "code",
   "execution_count": 40,
   "id": "determined-closing",
   "metadata": {
    "execution": {
     "iopub.execute_input": "2022-12-04T00:40:09.304852Z",
     "iopub.status.busy": "2022-12-04T00:40:09.303790Z",
     "iopub.status.idle": "2022-12-04T00:40:09.307084Z",
     "shell.execute_reply": "2022-12-04T00:40:09.306288Z"
    },
    "papermill": {
     "duration": 0.050271,
     "end_time": "2022-12-04T00:40:09.307229",
     "exception": false,
     "start_time": "2022-12-04T00:40:09.256958",
     "status": "completed"
    },
    "tags": []
   },
   "outputs": [],
   "source": [
    "# #hide\n",
    "# colors = dict(zip(\n",
    "#     [\"Oceania\", \"Europe\", \"Asia\", \"South America\", \"Middle East\", \"North America\", \"Africa\"],\n",
    "#     [\"#adb0ff\", \"#ffb3ff\", \"#90d595\", \"#e48381\", \"#aafbff\", \"#f7bb5f\", \"#eafb50\"]\n",
    "# ))\n",
    "# group_lk = g.set_index('name')['group'].to_dict()"
   ]
  },
  {
   "cell_type": "code",
   "execution_count": null,
   "id": "gross-drinking",
   "metadata": {
    "papermill": {
     "duration": 0.041189,
     "end_time": "2022-12-04T00:40:09.389607",
     "exception": false,
     "start_time": "2022-12-04T00:40:09.348418",
     "status": "completed"
    },
    "tags": []
   },
   "outputs": [],
   "source": []
  },
  {
   "cell_type": "code",
   "execution_count": 41,
   "id": "subject-macintosh",
   "metadata": {
    "execution": {
     "iopub.execute_input": "2022-12-04T00:40:09.480198Z",
     "iopub.status.busy": "2022-12-04T00:40:09.479349Z",
     "iopub.status.idle": "2022-12-04T00:40:09.482013Z",
     "shell.execute_reply": "2022-12-04T00:40:09.482765Z"
    },
    "papermill": {
     "duration": 0.050575,
     "end_time": "2022-12-04T00:40:09.482959",
     "exception": false,
     "start_time": "2022-12-04T00:40:09.432384",
     "status": "completed"
    },
    "tags": []
   },
   "outputs": [],
   "source": [
    "# #hide\n",
    "# fig, ax = plt.subplots(figsize=(15, 8))\n",
    "\n",
    "# def draw_barchart(current_day):\n",
    "#     dff = g[g['day'].eq(current_day)].sort_values(by='value', ascending=True).tail(10)\n",
    "#     ax.clear()\n",
    "#     ax.barh(dff['name'], dff['value'], color=[colors[group_lk[x]] for x in dff['name']])\n",
    "#     dx = dff['value'].max() / 200\n",
    "    \n",
    "#     for i, (value, name) in enumerate(zip(dff['value'], dff['name'])):\n",
    "#         ax.text(value-dx, i,     name,           size=14, weight=600, ha='right', va='bottom')\n",
    "#         ax.text(value-dx, i-.25, group_lk[name], size=10, color='#444444', ha='right', va='baseline')\n",
    "#         ax.text(value+dx, i,     f'{value:,.0f}',  size=14, ha='left',  va='center')\n",
    "#     ax.text(1, 0.4, current_day, transform=ax.transAxes, color='#777777', size=46, ha='right', weight=800)\n",
    "#     ax.text(0, 1.06, 'Population (thousands)', transform=ax.transAxes, size=12, color='#777777')\n",
    "#     ax.xaxis.set_major_formatter(ticker.StrMethodFormatter('{x:,.0f}'))\n",
    "#     ax.xaxis.set_ticks_position('top')\n",
    "#     ax.tick_params(axis='x', colors='#777777', labelsize=12)\n",
    "#     ax.set_yticks([])\n",
    "#     ax.margins(0, 0.01)\n",
    "#     ax.grid(which='major', axis='x', linestyle='-')\n",
    "#     ax.set_axisbelow(True)\n",
    "    \n",
    "#     ax.text(0, 1.15, 'Coronavirus',\n",
    "#             transform=ax.transAxes, size=24, weight=600, ha='left', va='top')\n",
    "# #     ax.text(1, 0, 'by @pratapvardhan; credit @jburnmurdoch', transform=ax.transAxes, color='#777777', ha='right',\n",
    "# #             bbox=dict(facecolor='white', alpha=0.8, edgecolor='white'))\n",
    "#     plt.box(False)"
   ]
  },
  {
   "cell_type": "code",
   "execution_count": 42,
   "id": "sexual-wages",
   "metadata": {
    "execution": {
     "iopub.execute_input": "2022-12-04T00:40:09.580281Z",
     "iopub.status.busy": "2022-12-04T00:40:09.579432Z",
     "iopub.status.idle": "2022-12-04T00:40:09.582525Z",
     "shell.execute_reply": "2022-12-04T00:40:09.581874Z"
    },
    "papermill": {
     "duration": 0.050878,
     "end_time": "2022-12-04T00:40:09.582669",
     "exception": false,
     "start_time": "2022-12-04T00:40:09.531791",
     "status": "completed"
    },
    "tags": []
   },
   "outputs": [],
   "source": [
    "# #hide_input\n",
    "# fig, ax = plt.subplots(figsize=(15, 8))\n",
    "# animator = animation.FuncAnimation(fig, draw_barchart, frames=range(g.day.values.min(), g.day.values.max()))\n",
    "# HTML(animator.to_jshtml())\n",
    "# # or use animator.to_html5_video() or animator.save() "
   ]
  },
  {
   "cell_type": "code",
   "execution_count": null,
   "id": "australian-container",
   "metadata": {
    "papermill": {
     "duration": 0.043561,
     "end_time": "2022-12-04T00:40:09.668660",
     "exception": false,
     "start_time": "2022-12-04T00:40:09.625099",
     "status": "completed"
    },
    "tags": []
   },
   "outputs": [],
   "source": []
  },
  {
   "cell_type": "code",
   "execution_count": null,
   "id": "mediterranean-pontiac",
   "metadata": {
    "papermill": {
     "duration": 0.042279,
     "end_time": "2022-12-04T00:40:09.752875",
     "exception": false,
     "start_time": "2022-12-04T00:40:09.710596",
     "status": "completed"
    },
    "tags": []
   },
   "outputs": [],
   "source": []
  },
  {
   "cell_type": "code",
   "execution_count": null,
   "id": "aging-legislature",
   "metadata": {
    "papermill": {
     "duration": 0.042215,
     "end_time": "2022-12-04T00:40:09.837488",
     "exception": false,
     "start_time": "2022-12-04T00:40:09.795273",
     "status": "completed"
    },
    "tags": []
   },
   "outputs": [],
   "source": []
  }
 ],
 "metadata": {
  "kernelspec": {
   "display_name": "Python 3",
   "language": "python",
   "name": "python3"
  },
  "language_info": {
   "codemirror_mode": {
    "name": "ipython",
    "version": 3
   },
   "file_extension": ".py",
   "mimetype": "text/x-python",
   "name": "python",
   "nbconvert_exporter": "python",
   "pygments_lexer": "ipython3",
   "version": "3.6.15"
  },
  "papermill": {
   "duration": 8.118752,
   "end_time": "2022-12-04T00:40:10.302985",
   "environment_variables": {},
   "exception": null,
   "input_path": "2020-03-21-covid19exp.ipynb",
   "output_path": "2020-03-21-covid19exp.ipynb",
   "parameters": {},
   "start_time": "2022-12-04T00:40:02.184233",
   "version": "2.0.0"
  }
 },
 "nbformat": 4,
 "nbformat_minor": 5
}