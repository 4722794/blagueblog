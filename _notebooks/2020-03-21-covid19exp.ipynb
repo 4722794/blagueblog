{
 "cells": [
  {
   "cell_type": "markdown",
   "id": "muslim-click",
   "metadata": {
    "papermill": {
     "duration": 0.034639,
     "end_time": "2022-09-20T00:51:04.740928",
     "exception": false,
     "start_time": "2022-09-20T00:51:04.706289",
     "status": "completed"
    },
    "tags": []
   },
   "source": [
    "# COVID-19 Case Race\n",
    "> A race chart to see rising cases around the world\n",
    "\n",
    "- author: Hargun Oberoi\n",
    "- image: images/covid-overview.png\n",
    "- hide: false\n",
    "- badges: false"
   ]
  },
  {
   "cell_type": "code",
   "execution_count": 1,
   "id": "proof-material",
   "metadata": {
    "execution": {
     "iopub.execute_input": "2022-09-20T00:51:04.809939Z",
     "iopub.status.busy": "2022-09-20T00:51:04.809370Z",
     "iopub.status.idle": "2022-09-20T00:51:05.117388Z",
     "shell.execute_reply": "2022-09-20T00:51:05.116534Z"
    },
    "papermill": {
     "duration": 0.346433,
     "end_time": "2022-09-20T00:51:05.117524",
     "exception": false,
     "start_time": "2022-09-20T00:51:04.771091",
     "status": "completed"
    },
    "tags": []
   },
   "outputs": [],
   "source": [
    "#hide\n",
    "import numpy as np\n",
    "import pandas as pd\n",
    "from jinja2 import Template\n",
    "from IPython.display import HTML"
   ]
  },
  {
   "cell_type": "code",
   "execution_count": 2,
   "id": "developed-terminology",
   "metadata": {
    "execution": {
     "iopub.execute_input": "2022-09-20T00:51:05.181336Z",
     "iopub.status.busy": "2022-09-20T00:51:05.180777Z",
     "iopub.status.idle": "2022-09-20T00:51:05.183024Z",
     "shell.execute_reply": "2022-09-20T00:51:05.182486Z"
    },
    "papermill": {
     "duration": 0.035798,
     "end_time": "2022-09-20T00:51:05.183123",
     "exception": false,
     "start_time": "2022-09-20T00:51:05.147325",
     "status": "completed"
    },
    "tags": []
   },
   "outputs": [],
   "source": [
    "#hide\n",
    "\n",
    "# FETCH\n",
    "base_url = 'https://raw.githubusercontent.com/pratapvardhan/notebooks/master/covid19/'\n",
    "paths = {\n",
    "    'mapping': base_url + 'mapping_countries.csv',\n",
    "    'overview': base_url + 'overview.tpl'\n",
    "}"
   ]
  },
  {
   "cell_type": "code",
   "execution_count": 3,
   "id": "dynamic-saver",
   "metadata": {
    "execution": {
     "iopub.execute_input": "2022-09-20T00:51:05.249899Z",
     "iopub.status.busy": "2022-09-20T00:51:05.249355Z",
     "iopub.status.idle": "2022-09-20T00:51:05.253388Z",
     "shell.execute_reply": "2022-09-20T00:51:05.252954Z"
    },
    "papermill": {
     "duration": 0.040771,
     "end_time": "2022-09-20T00:51:05.253483",
     "exception": false,
     "start_time": "2022-09-20T00:51:05.212712",
     "status": "completed"
    },
    "tags": []
   },
   "outputs": [
    {
     "data": {
      "text/plain": [
       "'https://raw.githubusercontent.com/pratapvardhan/notebooks/master/covid19/mapping_countries.csv'"
      ]
     },
     "execution_count": 3,
     "metadata": {},
     "output_type": "execute_result"
    }
   ],
   "source": [
    "#hide\n",
    "paths['mapping']"
   ]
  },
  {
   "cell_type": "code",
   "execution_count": 4,
   "id": "urban-software",
   "metadata": {
    "execution": {
     "iopub.execute_input": "2022-09-20T00:51:05.318105Z",
     "iopub.status.busy": "2022-09-20T00:51:05.317544Z",
     "iopub.status.idle": "2022-09-20T00:51:05.319995Z",
     "shell.execute_reply": "2022-09-20T00:51:05.319543Z"
    },
    "papermill": {
     "duration": 0.036624,
     "end_time": "2022-09-20T00:51:05.320093",
     "exception": false,
     "start_time": "2022-09-20T00:51:05.283469",
     "status": "completed"
    },
    "tags": []
   },
   "outputs": [],
   "source": [
    "#hide\n",
    "def get_mappings(url):\n",
    "    df = pd.read_csv(url)\n",
    "    return {\n",
    "        'df': df,\n",
    "        'replace.country': dict(df.dropna(subset=['Name']).set_index('Country')['Name']),\n",
    "        'map.continent': dict(df.set_index('Name')['Continent'])\n",
    "    }"
   ]
  },
  {
   "cell_type": "code",
   "execution_count": 5,
   "id": "intimate-machinery",
   "metadata": {
    "execution": {
     "iopub.execute_input": "2022-09-20T00:51:05.384351Z",
     "iopub.status.busy": "2022-09-20T00:51:05.383791Z",
     "iopub.status.idle": "2022-09-20T00:51:05.446028Z",
     "shell.execute_reply": "2022-09-20T00:51:05.445564Z"
    },
    "papermill": {
     "duration": 0.096382,
     "end_time": "2022-09-20T00:51:05.446131",
     "exception": false,
     "start_time": "2022-09-20T00:51:05.349749",
     "status": "completed"
    },
    "tags": []
   },
   "outputs": [],
   "source": [
    "#hide\n",
    "mapping = get_mappings(paths['mapping'])"
   ]
  },
  {
   "cell_type": "code",
   "execution_count": 6,
   "id": "certified-tactics",
   "metadata": {
    "execution": {
     "iopub.execute_input": "2022-09-20T00:51:05.510742Z",
     "iopub.status.busy": "2022-09-20T00:51:05.510182Z",
     "iopub.status.idle": "2022-09-20T00:51:05.512644Z",
     "shell.execute_reply": "2022-09-20T00:51:05.512174Z"
    },
    "papermill": {
     "duration": 0.036472,
     "end_time": "2022-09-20T00:51:05.512743",
     "exception": false,
     "start_time": "2022-09-20T00:51:05.476271",
     "status": "completed"
    },
    "tags": []
   },
   "outputs": [],
   "source": [
    "#hide\n",
    "def get_template(path):\n",
    "    from urllib.parse import urlparse\n",
    "    if bool(urlparse(path).netloc):\n",
    "        from urllib.request import urlopen\n",
    "        return urlopen(path).read().decode('utf8')\n",
    "    return open(path).read()"
   ]
  },
  {
   "cell_type": "code",
   "execution_count": 7,
   "id": "realistic-blast",
   "metadata": {
    "execution": {
     "iopub.execute_input": "2022-09-20T00:51:05.576633Z",
     "iopub.status.busy": "2022-09-20T00:51:05.576054Z",
     "iopub.status.idle": "2022-09-20T00:51:05.578483Z",
     "shell.execute_reply": "2022-09-20T00:51:05.578048Z"
    },
    "papermill": {
     "duration": 0.036064,
     "end_time": "2022-09-20T00:51:05.578579",
     "exception": false,
     "start_time": "2022-09-20T00:51:05.542515",
     "status": "completed"
    },
    "tags": []
   },
   "outputs": [],
   "source": [
    "#hide\n",
    "def get_frame(name):\n",
    "    url = (\n",
    "        'https://raw.githubusercontent.com/CSSEGISandData/COVID-19/master/csse_covid_19_data/'\n",
    "        f'csse_covid_19_time_series/time_series_covid19_{name}_global.csv')\n",
    "    df = pd.read_csv(url)\n",
    "    # rename countries\n",
    "    df['Country/Region'] = df['Country/Region'].replace(mapping['replace.country'])\n",
    "    return df"
   ]
  },
  {
   "cell_type": "code",
   "execution_count": 8,
   "id": "affiliated-characterization",
   "metadata": {
    "execution": {
     "iopub.execute_input": "2022-09-20T00:51:05.643594Z",
     "iopub.status.busy": "2022-09-20T00:51:05.643030Z",
     "iopub.status.idle": "2022-09-20T00:51:05.645069Z",
     "shell.execute_reply": "2022-09-20T00:51:05.645487Z"
    },
    "papermill": {
     "duration": 0.03727,
     "end_time": "2022-09-20T00:51:05.645598",
     "exception": false,
     "start_time": "2022-09-20T00:51:05.608328",
     "status": "completed"
    },
    "tags": []
   },
   "outputs": [],
   "source": [
    "#hide\n",
    "def get_dates(df):\n",
    "    dt_cols = df.columns[~df.columns.isin(['Province/State', 'Country/Region', 'Lat', 'Long'])]\n",
    "    LAST_DATE_I = -1\n",
    "    # sometimes last column may be empty, then go backwards\n",
    "    for i in range(-1, -len(dt_cols), -1):\n",
    "        if not df[dt_cols[i]].fillna(0).eq(0).all():\n",
    "            LAST_DATE_I = i\n",
    "            break\n",
    "    return LAST_DATE_I, dt_cols"
   ]
  },
  {
   "cell_type": "code",
   "execution_count": 9,
   "id": "recent-optimization",
   "metadata": {
    "execution": {
     "iopub.execute_input": "2022-09-20T00:51:05.709558Z",
     "iopub.status.busy": "2022-09-20T00:51:05.709000Z",
     "iopub.status.idle": "2022-09-20T00:51:06.374919Z",
     "shell.execute_reply": "2022-09-20T00:51:06.373861Z"
    },
    "papermill": {
     "duration": 0.699714,
     "end_time": "2022-09-20T00:51:06.375037",
     "exception": false,
     "start_time": "2022-09-20T00:51:05.675323",
     "status": "completed"
    },
    "tags": []
   },
   "outputs": [],
   "source": [
    "#hide\n",
    "COL_REGION = 'Country/Region'\n",
    "# Confirmed, Recovered, Deaths\n",
    "df = get_frame('confirmed')\n",
    "# dft_: timeseries, dfc_: today country agg\n",
    "dft_cases = df\n",
    "dft_deaths = get_frame('deaths')\n",
    "dft_recovered = get_frame('recovered')\n",
    "LAST_DATE_I, dt_cols = get_dates(df)"
   ]
  },
  {
   "cell_type": "code",
   "execution_count": 10,
   "id": "absolute-copper",
   "metadata": {
    "execution": {
     "iopub.execute_input": "2022-09-20T00:51:06.440091Z",
     "iopub.status.busy": "2022-09-20T00:51:06.439520Z",
     "iopub.status.idle": "2022-09-20T00:51:06.441667Z",
     "shell.execute_reply": "2022-09-20T00:51:06.441238Z"
    },
    "papermill": {
     "duration": 0.036521,
     "end_time": "2022-09-20T00:51:06.441762",
     "exception": false,
     "start_time": "2022-09-20T00:51:06.405241",
     "status": "completed"
    },
    "tags": []
   },
   "outputs": [],
   "source": [
    "#hide\n",
    "LAST_DATE_I, dt_cols = get_dates(df)\n",
    "dt_today =dt_cols[LAST_DATE_I]\n",
    "# dt_5day = dt_cols[LAST_DATE_I - 5]\n",
    "dt_yday = dt_cols[LAST_DATE_I - 1]"
   ]
  },
  {
   "cell_type": "code",
   "execution_count": 11,
   "id": "restricted-sheriff",
   "metadata": {
    "execution": {
     "iopub.execute_input": "2022-09-20T00:51:06.505705Z",
     "iopub.status.busy": "2022-09-20T00:51:06.505161Z",
     "iopub.status.idle": "2022-09-20T00:51:06.512025Z",
     "shell.execute_reply": "2022-09-20T00:51:06.512468Z"
    },
    "papermill": {
     "duration": 0.041208,
     "end_time": "2022-09-20T00:51:06.512601",
     "exception": false,
     "start_time": "2022-09-20T00:51:06.471393",
     "status": "completed"
    },
    "tags": []
   },
   "outputs": [],
   "source": [
    "#hide\n",
    "dfc_cases = dft_cases.groupby(COL_REGION)[dt_today].sum()\n",
    "dfc_deaths = dft_deaths.groupby(COL_REGION)[dt_today].sum()\n",
    "# dfp_cases = dft_cases.groupby(COL_REGION)[dt_5day].sum()\n",
    "# dfp_deaths = dft_deaths.groupby(COL_REGION)[dt_5day].sum()\n",
    "dfp_cases = dft_cases.groupby(COL_REGION)[dt_yday].sum()\n",
    "dfp_deaths = dft_deaths.groupby(COL_REGION)[dt_yday].sum()"
   ]
  },
  {
   "cell_type": "code",
   "execution_count": 12,
   "id": "deluxe-hepatitis",
   "metadata": {
    "execution": {
     "iopub.execute_input": "2022-09-20T00:51:06.576931Z",
     "iopub.status.busy": "2022-09-20T00:51:06.576366Z",
     "iopub.status.idle": "2022-09-20T00:51:06.581358Z",
     "shell.execute_reply": "2022-09-20T00:51:06.580917Z"
    },
    "papermill": {
     "duration": 0.038981,
     "end_time": "2022-09-20T00:51:06.581455",
     "exception": false,
     "start_time": "2022-09-20T00:51:06.542474",
     "status": "completed"
    },
    "tags": []
   },
   "outputs": [],
   "source": [
    "#hide\n",
    "df_table = (pd.DataFrame(dict(Cases = dfc_cases, Deaths = dfc_deaths, PCases = dfp_cases, PDeaths = dfp_deaths))\n",
    "            .sort_values(by = ['Cases','Deaths'], ascending = [False, False])\n",
    "            .reset_index())"
   ]
  },
  {
   "cell_type": "code",
   "execution_count": 13,
   "id": "educational-chancellor",
   "metadata": {
    "execution": {
     "iopub.execute_input": "2022-09-20T00:51:06.653308Z",
     "iopub.status.busy": "2022-09-20T00:51:06.652750Z",
     "iopub.status.idle": "2022-09-20T00:51:06.664176Z",
     "shell.execute_reply": "2022-09-20T00:51:06.664639Z"
    },
    "papermill": {
     "duration": 0.053488,
     "end_time": "2022-09-20T00:51:06.664753",
     "exception": false,
     "start_time": "2022-09-20T00:51:06.611265",
     "status": "completed"
    },
    "tags": []
   },
   "outputs": [
    {
     "data": {
      "text/html": [
       "<div>\n",
       "<style scoped>\n",
       "    .dataframe tbody tr th:only-of-type {\n",
       "        vertical-align: middle;\n",
       "    }\n",
       "\n",
       "    .dataframe tbody tr th {\n",
       "        vertical-align: top;\n",
       "    }\n",
       "\n",
       "    .dataframe thead th {\n",
       "        text-align: right;\n",
       "    }\n",
       "</style>\n",
       "<table border=\"1\" class=\"dataframe\">\n",
       "  <thead>\n",
       "    <tr style=\"text-align: right;\">\n",
       "      <th></th>\n",
       "      <th>Country/Region</th>\n",
       "      <th>Cases</th>\n",
       "      <th>Deaths</th>\n",
       "      <th>PCases</th>\n",
       "      <th>PDeaths</th>\n",
       "      <th>Cases (+)</th>\n",
       "      <th>Deaths (+)</th>\n",
       "      <th>Fatality Rate</th>\n",
       "      <th>Continent</th>\n",
       "    </tr>\n",
       "  </thead>\n",
       "  <tbody>\n",
       "    <tr>\n",
       "      <th>0</th>\n",
       "      <td>US</td>\n",
       "      <td>95658236</td>\n",
       "      <td>1053419</td>\n",
       "      <td>95653526</td>\n",
       "      <td>1053412</td>\n",
       "      <td>4710</td>\n",
       "      <td>7</td>\n",
       "      <td>1.10</td>\n",
       "      <td>North America</td>\n",
       "    </tr>\n",
       "    <tr>\n",
       "      <th>1</th>\n",
       "      <td>India</td>\n",
       "      <td>44539046</td>\n",
       "      <td>528355</td>\n",
       "      <td>44534188</td>\n",
       "      <td>528337</td>\n",
       "      <td>4858</td>\n",
       "      <td>18</td>\n",
       "      <td>1.19</td>\n",
       "      <td>Asia</td>\n",
       "    </tr>\n",
       "    <tr>\n",
       "      <th>2</th>\n",
       "      <td>France</td>\n",
       "      <td>35076991</td>\n",
       "      <td>155712</td>\n",
       "      <td>35076991</td>\n",
       "      <td>155712</td>\n",
       "      <td>0</td>\n",
       "      <td>0</td>\n",
       "      <td>0.44</td>\n",
       "      <td>Europe</td>\n",
       "    </tr>\n",
       "    <tr>\n",
       "      <th>3</th>\n",
       "      <td>Brazil</td>\n",
       "      <td>34568833</td>\n",
       "      <td>685203</td>\n",
       "      <td>34568833</td>\n",
       "      <td>685203</td>\n",
       "      <td>0</td>\n",
       "      <td>0</td>\n",
       "      <td>1.98</td>\n",
       "      <td>South America</td>\n",
       "    </tr>\n",
       "    <tr>\n",
       "      <th>4</th>\n",
       "      <td>Germany</td>\n",
       "      <td>32680356</td>\n",
       "      <td>148933</td>\n",
       "      <td>32680356</td>\n",
       "      <td>148933</td>\n",
       "      <td>0</td>\n",
       "      <td>0</td>\n",
       "      <td>0.46</td>\n",
       "      <td>Europe</td>\n",
       "    </tr>\n",
       "  </tbody>\n",
       "</table>\n",
       "</div>"
      ],
      "text/plain": [
       "  Country/Region     Cases   Deaths    PCases  PDeaths  Cases (+)  Deaths (+)  \\\n",
       "0             US  95658236  1053419  95653526  1053412       4710           7   \n",
       "1          India  44539046   528355  44534188   528337       4858          18   \n",
       "2         France  35076991   155712  35076991   155712          0           0   \n",
       "3         Brazil  34568833   685203  34568833   685203          0           0   \n",
       "4        Germany  32680356   148933  32680356   148933          0           0   \n",
       "\n",
       "   Fatality Rate      Continent  \n",
       "0           1.10  North America  \n",
       "1           1.19           Asia  \n",
       "2           0.44         Europe  \n",
       "3           1.98  South America  \n",
       "4           0.46         Europe  "
      ]
     },
     "execution_count": 13,
     "metadata": {},
     "output_type": "execute_result"
    }
   ],
   "source": [
    "#hide\n",
    "for c in 'Cases, Deaths'.split(', '):\n",
    "    df_table[f'{c} (+)'] = (df_table[c] - df_table[f'P{c}']).clip(0)\n",
    "    #Clip ça veut dire, les chiffres negatif sont interdit\n",
    "df_table['Fatality Rate'] = (100* df_table['Deaths']/ df_table['Cases']).round(2)\n",
    "df_table['Continent'] = df_table['Country/Region'].map(mapping['map.continent'])\n",
    "df_table.head(5)"
   ]
  },
  {
   "cell_type": "code",
   "execution_count": 14,
   "id": "aboriginal-bulgaria",
   "metadata": {
    "execution": {
     "iopub.execute_input": "2022-09-20T00:51:06.730284Z",
     "iopub.status.busy": "2022-09-20T00:51:06.729723Z",
     "iopub.status.idle": "2022-09-20T00:51:06.732186Z",
     "shell.execute_reply": "2022-09-20T00:51:06.731760Z"
    },
    "papermill": {
     "duration": 0.03731,
     "end_time": "2022-09-20T00:51:06.732286",
     "exception": false,
     "start_time": "2022-09-20T00:51:06.694976",
     "status": "completed"
    },
    "tags": []
   },
   "outputs": [],
   "source": [
    "#hide\n",
    "#delete problematic countries from table\n",
    "df_table = df_table[~df_table['Country/Region'].isin(['Cape Verde', 'Cruise Ship', 'Kosovo'])]"
   ]
  },
  {
   "cell_type": "code",
   "execution_count": 15,
   "id": "fantastic-effect",
   "metadata": {
    "execution": {
     "iopub.execute_input": "2022-09-20T00:51:06.799904Z",
     "iopub.status.busy": "2022-09-20T00:51:06.799346Z",
     "iopub.status.idle": "2022-09-20T00:51:06.816488Z",
     "shell.execute_reply": "2022-09-20T00:51:06.816046Z"
    },
    "papermill": {
     "duration": 0.054201,
     "end_time": "2022-09-20T00:51:06.816615",
     "exception": false,
     "start_time": "2022-09-20T00:51:06.762414",
     "status": "completed"
    },
    "tags": []
   },
   "outputs": [
    {
     "data": {
      "text/html": [
       "<div>\n",
       "<style scoped>\n",
       "    .dataframe tbody tr th:only-of-type {\n",
       "        vertical-align: middle;\n",
       "    }\n",
       "\n",
       "    .dataframe tbody tr th {\n",
       "        vertical-align: top;\n",
       "    }\n",
       "\n",
       "    .dataframe thead th {\n",
       "        text-align: right;\n",
       "    }\n",
       "</style>\n",
       "<table border=\"1\" class=\"dataframe\">\n",
       "  <thead>\n",
       "    <tr style=\"text-align: right;\">\n",
       "      <th></th>\n",
       "      <th>Country/Region</th>\n",
       "      <th>Cases</th>\n",
       "      <th>Deaths</th>\n",
       "      <th>PCases</th>\n",
       "      <th>PDeaths</th>\n",
       "      <th>Cases (+)</th>\n",
       "      <th>Deaths (+)</th>\n",
       "      <th>Fatality Rate</th>\n",
       "      <th>Continent</th>\n",
       "    </tr>\n",
       "  </thead>\n",
       "  <tbody>\n",
       "    <tr>\n",
       "      <th>0</th>\n",
       "      <td>US</td>\n",
       "      <td>95658236</td>\n",
       "      <td>1053419</td>\n",
       "      <td>95653526</td>\n",
       "      <td>1053412</td>\n",
       "      <td>4710</td>\n",
       "      <td>7</td>\n",
       "      <td>1.1</td>\n",
       "      <td>North America</td>\n",
       "    </tr>\n",
       "    <tr>\n",
       "      <th>1</th>\n",
       "      <td>India</td>\n",
       "      <td>44539046</td>\n",
       "      <td>528355</td>\n",
       "      <td>44534188</td>\n",
       "      <td>528337</td>\n",
       "      <td>4858</td>\n",
       "      <td>18</td>\n",
       "      <td>1.2</td>\n",
       "      <td>Asia</td>\n",
       "    </tr>\n",
       "    <tr>\n",
       "      <th>2</th>\n",
       "      <td>France</td>\n",
       "      <td>35076991</td>\n",
       "      <td>155712</td>\n",
       "      <td>35076991</td>\n",
       "      <td>155712</td>\n",
       "      <td>0</td>\n",
       "      <td>0</td>\n",
       "      <td>0.4</td>\n",
       "      <td>Europe</td>\n",
       "    </tr>\n",
       "    <tr>\n",
       "      <th>3</th>\n",
       "      <td>Brazil</td>\n",
       "      <td>34568833</td>\n",
       "      <td>685203</td>\n",
       "      <td>34568833</td>\n",
       "      <td>685203</td>\n",
       "      <td>0</td>\n",
       "      <td>0</td>\n",
       "      <td>2.0</td>\n",
       "      <td>South America</td>\n",
       "    </tr>\n",
       "    <tr>\n",
       "      <th>4</th>\n",
       "      <td>Germany</td>\n",
       "      <td>32680356</td>\n",
       "      <td>148933</td>\n",
       "      <td>32680356</td>\n",
       "      <td>148933</td>\n",
       "      <td>0</td>\n",
       "      <td>0</td>\n",
       "      <td>0.5</td>\n",
       "      <td>Europe</td>\n",
       "    </tr>\n",
       "  </tbody>\n",
       "</table>\n",
       "</div>"
      ],
      "text/plain": [
       "  Country/Region     Cases   Deaths    PCases  PDeaths  Cases (+)  Deaths (+)  \\\n",
       "0             US  95658236  1053419  95653526  1053412       4710           7   \n",
       "1          India  44539046   528355  44534188   528337       4858          18   \n",
       "2         France  35076991   155712  35076991   155712          0           0   \n",
       "3         Brazil  34568833   685203  34568833   685203          0           0   \n",
       "4        Germany  32680356   148933  32680356   148933          0           0   \n",
       "\n",
       "   Fatality Rate      Continent  \n",
       "0            1.1  North America  \n",
       "1            1.2           Asia  \n",
       "2            0.4         Europe  \n",
       "3            2.0  South America  \n",
       "4            0.5         Europe  "
      ]
     },
     "execution_count": 15,
     "metadata": {},
     "output_type": "execute_result"
    }
   ],
   "source": [
    "#hide\n",
    "df_table = (pd.DataFrame(dict(Cases=dfc_cases, Deaths=dfc_deaths, PCases=dfp_cases, PDeaths=dfp_deaths))\n",
    "             .sort_values(by=['Cases', 'Deaths'], ascending=[False, False])\n",
    "             .reset_index())\n",
    "df_table.rename(columns={'index': 'Country/Region'}, inplace=True)\n",
    "for c in 'Cases, Deaths'.split(', '):\n",
    "    df_table[f'{c} (+)'] = (df_table[c] - df_table[f'P{c}']).clip(0)  # DATA BUG\n",
    "df_table['Fatality Rate'] = (100 * df_table['Deaths'] / df_table['Cases']).round(1)\n",
    "df_table['Continent'] = df_table['Country/Region'].map(mapping['map.continent'])\n",
    "df_table.head(5)"
   ]
  },
  {
   "cell_type": "code",
   "execution_count": 16,
   "id": "fewer-occasion",
   "metadata": {
    "execution": {
     "iopub.execute_input": "2022-09-20T00:51:06.883720Z",
     "iopub.status.busy": "2022-09-20T00:51:06.883170Z",
     "iopub.status.idle": "2022-09-20T00:51:06.885447Z",
     "shell.execute_reply": "2022-09-20T00:51:06.884925Z"
    },
    "papermill": {
     "duration": 0.038016,
     "end_time": "2022-09-20T00:51:06.885546",
     "exception": false,
     "start_time": "2022-09-20T00:51:06.847530",
     "status": "completed"
    },
    "tags": []
   },
   "outputs": [],
   "source": [
    "#hide\n",
    "#delete problematic countries from table\n",
    "df_table = df_table[~df_table['Country/Region'].isin(['Cape Verde', 'Cruise Ship', 'Kosovo'])]"
   ]
  },
  {
   "cell_type": "code",
   "execution_count": 17,
   "id": "related-center",
   "metadata": {
    "execution": {
     "iopub.execute_input": "2022-09-20T00:51:06.956684Z",
     "iopub.status.busy": "2022-09-20T00:51:06.956089Z",
     "iopub.status.idle": "2022-09-20T00:51:06.965765Z",
     "shell.execute_reply": "2022-09-20T00:51:06.965244Z"
    },
    "papermill": {
     "duration": 0.049671,
     "end_time": "2022-09-20T00:51:06.965863",
     "exception": false,
     "start_time": "2022-09-20T00:51:06.916192",
     "status": "completed"
    },
    "tags": []
   },
   "outputs": [],
   "source": [
    "#hide\n",
    "metrics = [df_table.columns[index] for index in [1,2,5,6]]\n",
    "# s_china = df_table[df_table['Country/Region'].eq('China')][metrics].sum().add_prefix('China ')\n",
    "s_us = df_table[df_table['Country/Region'].eq('US')][metrics].sum().add_prefix('US ')\n",
    "s_eu = df_table[df_table['Continent'].eq('Europe')][metrics].sum().add_prefix('EU ')\n",
    "s_ind = df_table[df_table['Country/Region'].eq('India')][metrics].sum().add_prefix('India ')\n",
    "summary = {'updated': pd.to_datetime(dt_today), 'since': pd.to_datetime(dt_yday)}\n",
    "summary = {'updated': pd.to_datetime(dt_today), 'since': pd.to_datetime(dt_yday)}\n",
    "summary = {**summary, **df_table[metrics].sum(), **s_ind, **s_us, **s_eu}"
   ]
  },
  {
   "cell_type": "code",
   "execution_count": 18,
   "id": "engaging-syndrome",
   "metadata": {
    "execution": {
     "iopub.execute_input": "2022-09-20T00:51:07.032053Z",
     "iopub.status.busy": "2022-09-20T00:51:07.031501Z",
     "iopub.status.idle": "2022-09-20T00:51:07.050184Z",
     "shell.execute_reply": "2022-09-20T00:51:07.049745Z"
    },
    "papermill": {
     "duration": 0.05355,
     "end_time": "2022-09-20T00:51:07.050285",
     "exception": false,
     "start_time": "2022-09-20T00:51:06.996735",
     "status": "completed"
    },
    "tags": []
   },
   "outputs": [],
   "source": [
    "#hide\n",
    "dft_ct_new_cases = dft_cases.groupby(COL_REGION)[dt_cols].sum().diff(axis=1).fillna(0).astype(int)"
   ]
  },
  {
   "cell_type": "code",
   "execution_count": 19,
   "id": "neutral-assignment",
   "metadata": {
    "execution": {
     "iopub.execute_input": "2022-09-20T00:51:07.118570Z",
     "iopub.status.busy": "2022-09-20T00:51:07.118001Z",
     "iopub.status.idle": "2022-09-20T00:51:07.120049Z",
     "shell.execute_reply": "2022-09-20T00:51:07.120453Z"
    },
    "papermill": {
     "duration": 0.039057,
     "end_time": "2022-09-20T00:51:07.120596",
     "exception": false,
     "start_time": "2022-09-20T00:51:07.081539",
     "status": "completed"
    },
    "tags": []
   },
   "outputs": [],
   "source": [
    "#hide\n",
    "everydaycases = dft_ct_new_cases.cumsum(axis=1)"
   ]
  },
  {
   "cell_type": "code",
   "execution_count": 20,
   "id": "parliamentary-calgary",
   "metadata": {
    "execution": {
     "iopub.execute_input": "2022-09-20T00:51:07.187079Z",
     "iopub.status.busy": "2022-09-20T00:51:07.186533Z",
     "iopub.status.idle": "2022-09-20T00:51:07.726081Z",
     "shell.execute_reply": "2022-09-20T00:51:07.725615Z"
    },
    "papermill": {
     "duration": 0.574585,
     "end_time": "2022-09-20T00:51:07.726197",
     "exception": false,
     "start_time": "2022-09-20T00:51:07.151612",
     "status": "completed"
    },
    "tags": []
   },
   "outputs": [],
   "source": [
    "#hide\n",
    "import pandas as pd\n",
    "import matplotlib.pyplot as plt\n",
    "import matplotlib.ticker as ticker\n",
    "import matplotlib.animation as animation\n",
    "from IPython.display import HTML"
   ]
  },
  {
   "cell_type": "code",
   "execution_count": 21,
   "id": "lasting-extraction",
   "metadata": {
    "execution": {
     "iopub.execute_input": "2022-09-20T00:51:07.794221Z",
     "iopub.status.busy": "2022-09-20T00:51:07.793673Z",
     "iopub.status.idle": "2022-09-20T00:51:07.799930Z",
     "shell.execute_reply": "2022-09-20T00:51:07.800427Z"
    },
    "papermill": {
     "duration": 0.043541,
     "end_time": "2022-09-20T00:51:07.800561",
     "exception": false,
     "start_time": "2022-09-20T00:51:07.757020",
     "status": "completed"
    },
    "tags": []
   },
   "outputs": [],
   "source": [
    "#hide\n",
    "t = everydaycases.stack()"
   ]
  },
  {
   "cell_type": "code",
   "execution_count": 22,
   "id": "premier-sleeve",
   "metadata": {
    "execution": {
     "iopub.execute_input": "2022-09-20T00:51:07.865927Z",
     "iopub.status.busy": "2022-09-20T00:51:07.865378Z",
     "iopub.status.idle": "2022-09-20T00:51:07.876245Z",
     "shell.execute_reply": "2022-09-20T00:51:07.876663Z"
    },
    "papermill": {
     "duration": 0.045423,
     "end_time": "2022-09-20T00:51:07.876779",
     "exception": false,
     "start_time": "2022-09-20T00:51:07.831356",
     "status": "completed"
    },
    "tags": []
   },
   "outputs": [],
   "source": [
    "#hide\n",
    "g = t.reset_index(['Country/Region'])"
   ]
  },
  {
   "cell_type": "code",
   "execution_count": 23,
   "id": "distributed-pittsburgh",
   "metadata": {
    "execution": {
     "iopub.execute_input": "2022-09-20T00:51:07.941553Z",
     "iopub.status.busy": "2022-09-20T00:51:07.940994Z",
     "iopub.status.idle": "2022-09-20T00:51:07.943465Z",
     "shell.execute_reply": "2022-09-20T00:51:07.942947Z"
    },
    "papermill": {
     "duration": 0.036261,
     "end_time": "2022-09-20T00:51:07.943563",
     "exception": false,
     "start_time": "2022-09-20T00:51:07.907302",
     "status": "completed"
    },
    "tags": []
   },
   "outputs": [],
   "source": [
    "#hide\n",
    "g.index.name = 'date'"
   ]
  },
  {
   "cell_type": "code",
   "execution_count": 24,
   "id": "naked-donor",
   "metadata": {
    "execution": {
     "iopub.execute_input": "2022-09-20T00:51:08.008569Z",
     "iopub.status.busy": "2022-09-20T00:51:08.007993Z",
     "iopub.status.idle": "2022-09-20T00:51:08.010507Z",
     "shell.execute_reply": "2022-09-20T00:51:08.010085Z"
    },
    "papermill": {
     "duration": 0.035992,
     "end_time": "2022-09-20T00:51:08.010608",
     "exception": false,
     "start_time": "2022-09-20T00:51:07.974616",
     "status": "completed"
    },
    "tags": []
   },
   "outputs": [],
   "source": [
    "# #hide\n",
    "# g = g.reset_index(['date'])"
   ]
  },
  {
   "cell_type": "code",
   "execution_count": 25,
   "id": "incomplete-mustang",
   "metadata": {
    "execution": {
     "iopub.execute_input": "2022-09-20T00:51:08.075360Z",
     "iopub.status.busy": "2022-09-20T00:51:08.074793Z",
     "iopub.status.idle": "2022-09-20T00:51:08.077288Z",
     "shell.execute_reply": "2022-09-20T00:51:08.076842Z"
    },
    "papermill": {
     "duration": 0.036166,
     "end_time": "2022-09-20T00:51:08.077386",
     "exception": false,
     "start_time": "2022-09-20T00:51:08.041220",
     "status": "completed"
    },
    "tags": []
   },
   "outputs": [],
   "source": [
    "#hide\n",
    "# g.head()"
   ]
  },
  {
   "cell_type": "code",
   "execution_count": 26,
   "id": "specific-kruger",
   "metadata": {
    "execution": {
     "iopub.execute_input": "2022-09-20T00:51:08.142277Z",
     "iopub.status.busy": "2022-09-20T00:51:08.141713Z",
     "iopub.status.idle": "2022-09-20T00:51:08.144177Z",
     "shell.execute_reply": "2022-09-20T00:51:08.143743Z"
    },
    "papermill": {
     "duration": 0.03605,
     "end_time": "2022-09-20T00:51:08.144272",
     "exception": false,
     "start_time": "2022-09-20T00:51:08.108222",
     "status": "completed"
    },
    "tags": []
   },
   "outputs": [],
   "source": [
    "#hide\n",
    "# g.columns = ['date','country','cases']"
   ]
  },
  {
   "cell_type": "code",
   "execution_count": 27,
   "id": "tender-conversion",
   "metadata": {
    "execution": {
     "iopub.execute_input": "2022-09-20T00:51:08.209033Z",
     "iopub.status.busy": "2022-09-20T00:51:08.208456Z",
     "iopub.status.idle": "2022-09-20T00:51:08.211516Z",
     "shell.execute_reply": "2022-09-20T00:51:08.210989Z"
    },
    "papermill": {
     "duration": 0.036722,
     "end_time": "2022-09-20T00:51:08.211616",
     "exception": false,
     "start_time": "2022-09-20T00:51:08.174894",
     "status": "completed"
    },
    "tags": []
   },
   "outputs": [],
   "source": [
    "#hide\n",
    "# g['continent'] = g.country"
   ]
  },
  {
   "cell_type": "code",
   "execution_count": 28,
   "id": "substantial-wilderness",
   "metadata": {
    "execution": {
     "iopub.execute_input": "2022-09-20T00:51:08.276794Z",
     "iopub.status.busy": "2022-09-20T00:51:08.276208Z",
     "iopub.status.idle": "2022-09-20T00:51:08.278433Z",
     "shell.execute_reply": "2022-09-20T00:51:08.277916Z"
    },
    "papermill": {
     "duration": 0.035942,
     "end_time": "2022-09-20T00:51:08.278531",
     "exception": false,
     "start_time": "2022-09-20T00:51:08.242589",
     "status": "completed"
    },
    "tags": []
   },
   "outputs": [],
   "source": [
    "#hide\n",
    "# cols = list(g.columns.values)"
   ]
  },
  {
   "cell_type": "code",
   "execution_count": 29,
   "id": "solved-farming",
   "metadata": {
    "execution": {
     "iopub.execute_input": "2022-09-20T00:51:08.343632Z",
     "iopub.status.busy": "2022-09-20T00:51:08.343065Z",
     "iopub.status.idle": "2022-09-20T00:51:08.345487Z",
     "shell.execute_reply": "2022-09-20T00:51:08.344967Z"
    },
    "papermill": {
     "duration": 0.036268,
     "end_time": "2022-09-20T00:51:08.345586",
     "exception": false,
     "start_time": "2022-09-20T00:51:08.309318",
     "status": "completed"
    },
    "tags": []
   },
   "outputs": [],
   "source": [
    "#hide\n",
    "# cols.insert(0, cols.pop())"
   ]
  },
  {
   "cell_type": "code",
   "execution_count": 30,
   "id": "executed-adoption",
   "metadata": {
    "execution": {
     "iopub.execute_input": "2022-09-20T00:51:08.410568Z",
     "iopub.status.busy": "2022-09-20T00:51:08.410011Z",
     "iopub.status.idle": "2022-09-20T00:51:08.413546Z",
     "shell.execute_reply": "2022-09-20T00:51:08.413111Z"
    },
    "papermill": {
     "duration": 0.037258,
     "end_time": "2022-09-20T00:51:08.413645",
     "exception": false,
     "start_time": "2022-09-20T00:51:08.376387",
     "status": "completed"
    },
    "tags": []
   },
   "outputs": [],
   "source": [
    "#hide\n",
    "# g = g[cols]"
   ]
  },
  {
   "cell_type": "code",
   "execution_count": 31,
   "id": "subject-dublin",
   "metadata": {
    "execution": {
     "iopub.execute_input": "2022-09-20T00:51:08.478558Z",
     "iopub.status.busy": "2022-09-20T00:51:08.477986Z",
     "iopub.status.idle": "2022-09-20T00:51:08.480414Z",
     "shell.execute_reply": "2022-09-20T00:51:08.479894Z"
    },
    "papermill": {
     "duration": 0.0362,
     "end_time": "2022-09-20T00:51:08.480531",
     "exception": false,
     "start_time": "2022-09-20T00:51:08.444331",
     "status": "completed"
    },
    "tags": []
   },
   "outputs": [],
   "source": [
    "#hide\n",
    "# g['continent'] = g['continent'].map(mapping['map.continent'])"
   ]
  },
  {
   "cell_type": "code",
   "execution_count": 32,
   "id": "freelance-scout",
   "metadata": {
    "execution": {
     "iopub.execute_input": "2022-09-20T00:51:08.545814Z",
     "iopub.status.busy": "2022-09-20T00:51:08.545250Z",
     "iopub.status.idle": "2022-09-20T00:51:08.547106Z",
     "shell.execute_reply": "2022-09-20T00:51:08.546594Z"
    },
    "papermill": {
     "duration": 0.035821,
     "end_time": "2022-09-20T00:51:08.547202",
     "exception": false,
     "start_time": "2022-09-20T00:51:08.511381",
     "status": "completed"
    },
    "tags": []
   },
   "outputs": [],
   "source": [
    "#hide\n",
    "# g.head()"
   ]
  },
  {
   "cell_type": "code",
   "execution_count": 33,
   "id": "limited-engine",
   "metadata": {
    "execution": {
     "iopub.execute_input": "2022-09-20T00:51:08.611876Z",
     "iopub.status.busy": "2022-09-20T00:51:08.611317Z",
     "iopub.status.idle": "2022-09-20T00:51:08.613813Z",
     "shell.execute_reply": "2022-09-20T00:51:08.613379Z"
    },
    "papermill": {
     "duration": 0.036157,
     "end_time": "2022-09-20T00:51:08.613910",
     "exception": false,
     "start_time": "2022-09-20T00:51:08.577753",
     "status": "completed"
    },
    "tags": []
   },
   "outputs": [],
   "source": [
    "# hide\n",
    "# g['date'] = g['date'].astype('datetime64[ns]')"
   ]
  },
  {
   "cell_type": "code",
   "execution_count": 34,
   "id": "sophisticated-supervisor",
   "metadata": {
    "execution": {
     "iopub.execute_input": "2022-09-20T00:51:08.678948Z",
     "iopub.status.busy": "2022-09-20T00:51:08.678374Z",
     "iopub.status.idle": "2022-09-20T00:51:08.680766Z",
     "shell.execute_reply": "2022-09-20T00:51:08.680230Z"
    },
    "papermill": {
     "duration": 0.036062,
     "end_time": "2022-09-20T00:51:08.680867",
     "exception": false,
     "start_time": "2022-09-20T00:51:08.644805",
     "status": "completed"
    },
    "tags": []
   },
   "outputs": [],
   "source": [
    "#hide\n",
    "# g['date'] = g.date.dt.dayofyear"
   ]
  },
  {
   "cell_type": "code",
   "execution_count": 35,
   "id": "inside-dubai",
   "metadata": {
    "execution": {
     "iopub.execute_input": "2022-09-20T00:51:08.745596Z",
     "iopub.status.busy": "2022-09-20T00:51:08.745041Z",
     "iopub.status.idle": "2022-09-20T00:51:08.747467Z",
     "shell.execute_reply": "2022-09-20T00:51:08.747036Z"
    },
    "papermill": {
     "duration": 0.036045,
     "end_time": "2022-09-20T00:51:08.747565",
     "exception": false,
     "start_time": "2022-09-20T00:51:08.711520",
     "status": "completed"
    },
    "tags": []
   },
   "outputs": [],
   "source": [
    "#hide\n",
    "# g = g.rename(columns= {'continent':'group','country':'name','cases':'value'})"
   ]
  },
  {
   "cell_type": "code",
   "execution_count": 36,
   "id": "fleet-motorcycle",
   "metadata": {
    "execution": {
     "iopub.execute_input": "2022-09-20T00:51:08.812286Z",
     "iopub.status.busy": "2022-09-20T00:51:08.811740Z",
     "iopub.status.idle": "2022-09-20T00:51:08.814071Z",
     "shell.execute_reply": "2022-09-20T00:51:08.813643Z"
    },
    "papermill": {
     "duration": 0.035949,
     "end_time": "2022-09-20T00:51:08.814167",
     "exception": false,
     "start_time": "2022-09-20T00:51:08.778218",
     "status": "completed"
    },
    "tags": []
   },
   "outputs": [],
   "source": [
    "#hide\n",
    "# cols = ['name','group','day','value']"
   ]
  },
  {
   "cell_type": "code",
   "execution_count": 37,
   "id": "continued-sleeping",
   "metadata": {
    "execution": {
     "iopub.execute_input": "2022-09-20T00:51:08.879294Z",
     "iopub.status.busy": "2022-09-20T00:51:08.878737Z",
     "iopub.status.idle": "2022-09-20T00:51:08.881153Z",
     "shell.execute_reply": "2022-09-20T00:51:08.880626Z"
    },
    "papermill": {
     "duration": 0.035927,
     "end_time": "2022-09-20T00:51:08.881251",
     "exception": false,
     "start_time": "2022-09-20T00:51:08.845324",
     "status": "completed"
    },
    "tags": []
   },
   "outputs": [],
   "source": [
    "#hide\n",
    "# g.rename(columns= {'date':'day'},inplace = True)"
   ]
  },
  {
   "cell_type": "code",
   "execution_count": 38,
   "id": "major-fight",
   "metadata": {
    "execution": {
     "iopub.execute_input": "2022-09-20T00:51:08.945872Z",
     "iopub.status.busy": "2022-09-20T00:51:08.945314Z",
     "iopub.status.idle": "2022-09-20T00:51:08.947722Z",
     "shell.execute_reply": "2022-09-20T00:51:08.947290Z"
    },
    "papermill": {
     "duration": 0.035869,
     "end_time": "2022-09-20T00:51:08.947818",
     "exception": false,
     "start_time": "2022-09-20T00:51:08.911949",
     "status": "completed"
    },
    "tags": []
   },
   "outputs": [],
   "source": [
    "#hide\n",
    "# g = g[cols]"
   ]
  },
  {
   "cell_type": "code",
   "execution_count": 39,
   "id": "structured-mobile",
   "metadata": {
    "execution": {
     "iopub.execute_input": "2022-09-20T00:51:09.012483Z",
     "iopub.status.busy": "2022-09-20T00:51:09.011931Z",
     "iopub.status.idle": "2022-09-20T00:51:09.015445Z",
     "shell.execute_reply": "2022-09-20T00:51:09.014928Z"
    },
    "papermill": {
     "duration": 0.037071,
     "end_time": "2022-09-20T00:51:09.015544",
     "exception": false,
     "start_time": "2022-09-20T00:51:08.978473",
     "status": "completed"
    },
    "tags": []
   },
   "outputs": [],
   "source": [
    "# #hide\n",
    "# g = g[g.group.notna()]"
   ]
  },
  {
   "cell_type": "code",
   "execution_count": 40,
   "id": "determined-closing",
   "metadata": {
    "execution": {
     "iopub.execute_input": "2022-09-20T00:51:09.080676Z",
     "iopub.status.busy": "2022-09-20T00:51:09.080072Z",
     "iopub.status.idle": "2022-09-20T00:51:09.082564Z",
     "shell.execute_reply": "2022-09-20T00:51:09.082118Z"
    },
    "papermill": {
     "duration": 0.036276,
     "end_time": "2022-09-20T00:51:09.082661",
     "exception": false,
     "start_time": "2022-09-20T00:51:09.046385",
     "status": "completed"
    },
    "tags": []
   },
   "outputs": [],
   "source": [
    "# #hide\n",
    "# colors = dict(zip(\n",
    "#     [\"Oceania\", \"Europe\", \"Asia\", \"South America\", \"Middle East\", \"North America\", \"Africa\"],\n",
    "#     [\"#adb0ff\", \"#ffb3ff\", \"#90d595\", \"#e48381\", \"#aafbff\", \"#f7bb5f\", \"#eafb50\"]\n",
    "# ))\n",
    "# group_lk = g.set_index('name')['group'].to_dict()"
   ]
  },
  {
   "cell_type": "code",
   "execution_count": null,
   "id": "gross-drinking",
   "metadata": {
    "papermill": {
     "duration": 0.030593,
     "end_time": "2022-09-20T00:51:09.144017",
     "exception": false,
     "start_time": "2022-09-20T00:51:09.113424",
     "status": "completed"
    },
    "tags": []
   },
   "outputs": [],
   "source": []
  },
  {
   "cell_type": "code",
   "execution_count": 41,
   "id": "subject-macintosh",
   "metadata": {
    "execution": {
     "iopub.execute_input": "2022-09-20T00:51:09.209643Z",
     "iopub.status.busy": "2022-09-20T00:51:09.209058Z",
     "iopub.status.idle": "2022-09-20T00:51:09.211469Z",
     "shell.execute_reply": "2022-09-20T00:51:09.211030Z"
    },
    "papermill": {
     "duration": 0.036773,
     "end_time": "2022-09-20T00:51:09.211567",
     "exception": false,
     "start_time": "2022-09-20T00:51:09.174794",
     "status": "completed"
    },
    "tags": []
   },
   "outputs": [],
   "source": [
    "# #hide\n",
    "# fig, ax = plt.subplots(figsize=(15, 8))\n",
    "\n",
    "# def draw_barchart(current_day):\n",
    "#     dff = g[g['day'].eq(current_day)].sort_values(by='value', ascending=True).tail(10)\n",
    "#     ax.clear()\n",
    "#     ax.barh(dff['name'], dff['value'], color=[colors[group_lk[x]] for x in dff['name']])\n",
    "#     dx = dff['value'].max() / 200\n",
    "    \n",
    "#     for i, (value, name) in enumerate(zip(dff['value'], dff['name'])):\n",
    "#         ax.text(value-dx, i,     name,           size=14, weight=600, ha='right', va='bottom')\n",
    "#         ax.text(value-dx, i-.25, group_lk[name], size=10, color='#444444', ha='right', va='baseline')\n",
    "#         ax.text(value+dx, i,     f'{value:,.0f}',  size=14, ha='left',  va='center')\n",
    "#     ax.text(1, 0.4, current_day, transform=ax.transAxes, color='#777777', size=46, ha='right', weight=800)\n",
    "#     ax.text(0, 1.06, 'Population (thousands)', transform=ax.transAxes, size=12, color='#777777')\n",
    "#     ax.xaxis.set_major_formatter(ticker.StrMethodFormatter('{x:,.0f}'))\n",
    "#     ax.xaxis.set_ticks_position('top')\n",
    "#     ax.tick_params(axis='x', colors='#777777', labelsize=12)\n",
    "#     ax.set_yticks([])\n",
    "#     ax.margins(0, 0.01)\n",
    "#     ax.grid(which='major', axis='x', linestyle='-')\n",
    "#     ax.set_axisbelow(True)\n",
    "    \n",
    "#     ax.text(0, 1.15, 'Coronavirus',\n",
    "#             transform=ax.transAxes, size=24, weight=600, ha='left', va='top')\n",
    "# #     ax.text(1, 0, 'by @pratapvardhan; credit @jburnmurdoch', transform=ax.transAxes, color='#777777', ha='right',\n",
    "# #             bbox=dict(facecolor='white', alpha=0.8, edgecolor='white'))\n",
    "#     plt.box(False)"
   ]
  },
  {
   "cell_type": "code",
   "execution_count": 42,
   "id": "sexual-wages",
   "metadata": {
    "execution": {
     "iopub.execute_input": "2022-09-20T00:51:09.276236Z",
     "iopub.status.busy": "2022-09-20T00:51:09.275675Z",
     "iopub.status.idle": "2022-09-20T00:51:09.278051Z",
     "shell.execute_reply": "2022-09-20T00:51:09.277530Z"
    },
    "papermill": {
     "duration": 0.035958,
     "end_time": "2022-09-20T00:51:09.278149",
     "exception": false,
     "start_time": "2022-09-20T00:51:09.242191",
     "status": "completed"
    },
    "tags": []
   },
   "outputs": [],
   "source": [
    "# #hide_input\n",
    "# fig, ax = plt.subplots(figsize=(15, 8))\n",
    "# animator = animation.FuncAnimation(fig, draw_barchart, frames=range(g.day.values.min(), g.day.values.max()))\n",
    "# HTML(animator.to_jshtml())\n",
    "# # or use animator.to_html5_video() or animator.save() "
   ]
  },
  {
   "cell_type": "code",
   "execution_count": null,
   "id": "australian-container",
   "metadata": {
    "papermill": {
     "duration": 0.030559,
     "end_time": "2022-09-20T00:51:09.339579",
     "exception": false,
     "start_time": "2022-09-20T00:51:09.309020",
     "status": "completed"
    },
    "tags": []
   },
   "outputs": [],
   "source": []
  },
  {
   "cell_type": "code",
   "execution_count": null,
   "id": "mediterranean-pontiac",
   "metadata": {
    "papermill": {
     "duration": 0.030617,
     "end_time": "2022-09-20T00:51:09.400855",
     "exception": false,
     "start_time": "2022-09-20T00:51:09.370238",
     "status": "completed"
    },
    "tags": []
   },
   "outputs": [],
   "source": []
  },
  {
   "cell_type": "code",
   "execution_count": null,
   "id": "aging-legislature",
   "metadata": {
    "papermill": {
     "duration": 0.030564,
     "end_time": "2022-09-20T00:51:09.462264",
     "exception": false,
     "start_time": "2022-09-20T00:51:09.431700",
     "status": "completed"
    },
    "tags": []
   },
   "outputs": [],
   "source": []
  }
 ],
 "metadata": {
  "kernelspec": {
   "display_name": "Python 3",
   "language": "python",
   "name": "python3"
  },
  "language_info": {
   "codemirror_mode": {
    "name": "ipython",
    "version": 3
   },
   "file_extension": ".py",
   "mimetype": "text/x-python",
   "name": "python",
   "nbconvert_exporter": "python",
   "pygments_lexer": "ipython3",
   "version": "3.6.15"
  },
  "papermill": {
   "duration": 6.029642,
   "end_time": "2022-09-20T00:51:09.810878",
   "environment_variables": {},
   "exception": null,
   "input_path": "2020-03-21-covid19exp.ipynb",
   "output_path": "2020-03-21-covid19exp.ipynb",
   "parameters": {},
   "start_time": "2022-09-20T00:51:03.781236",
   "version": "2.0.0"
  }
 },
 "nbformat": 4,
 "nbformat_minor": 5
}