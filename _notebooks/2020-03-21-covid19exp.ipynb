{
 "cells": [
  {
   "cell_type": "markdown",
   "id": "muslim-click",
   "metadata": {
    "papermill": {
     "duration": 0.031749,
     "end_time": "2021-04-15T00:06:47.427040",
     "exception": false,
     "start_time": "2021-04-15T00:06:47.395291",
     "status": "completed"
    },
    "tags": []
   },
   "source": [
    "# COVID-19 Case Race\n",
    "> A race chart to see rising cases around the world\n",
    "\n",
    "- author: Hargun Oberoi\n",
    "- image: images/covid-overview.png\n",
    "- hide: false\n",
    "- badges: false"
   ]
  },
  {
   "cell_type": "code",
   "execution_count": 1,
   "id": "proof-material",
   "metadata": {
    "execution": {
     "iopub.execute_input": "2021-04-15T00:06:47.490727Z",
     "iopub.status.busy": "2021-04-15T00:06:47.490169Z",
     "iopub.status.idle": "2021-04-15T00:06:47.764315Z",
     "shell.execute_reply": "2021-04-15T00:06:47.763792Z"
    },
    "papermill": {
     "duration": 0.310383,
     "end_time": "2021-04-15T00:06:47.764465",
     "exception": false,
     "start_time": "2021-04-15T00:06:47.454082",
     "status": "completed"
    },
    "tags": []
   },
   "outputs": [],
   "source": [
    "#hide\n",
    "import numpy as np\n",
    "import pandas as pd\n",
    "from jinja2 import Template\n",
    "from IPython.display import HTML"
   ]
  },
  {
   "cell_type": "code",
   "execution_count": 2,
   "id": "developed-terminology",
   "metadata": {
    "execution": {
     "iopub.execute_input": "2021-04-15T00:06:47.829009Z",
     "iopub.status.busy": "2021-04-15T00:06:47.828463Z",
     "iopub.status.idle": "2021-04-15T00:06:47.830561Z",
     "shell.execute_reply": "2021-04-15T00:06:47.830127Z"
    },
    "papermill": {
     "duration": 0.035948,
     "end_time": "2021-04-15T00:06:47.830669",
     "exception": false,
     "start_time": "2021-04-15T00:06:47.794721",
     "status": "completed"
    },
    "tags": []
   },
   "outputs": [],
   "source": [
    "#hide\n",
    "\n",
    "# FETCH\n",
    "base_url = 'https://raw.githubusercontent.com/pratapvardhan/notebooks/master/covid19/'\n",
    "paths = {\n",
    "    'mapping': base_url + 'mapping_countries.csv',\n",
    "    'overview': base_url + 'overview.tpl'\n",
    "}"
   ]
  },
  {
   "cell_type": "code",
   "execution_count": 3,
   "id": "dynamic-saver",
   "metadata": {
    "execution": {
     "iopub.execute_input": "2021-04-15T00:06:47.900217Z",
     "iopub.status.busy": "2021-04-15T00:06:47.899705Z",
     "iopub.status.idle": "2021-04-15T00:06:47.902721Z",
     "shell.execute_reply": "2021-04-15T00:06:47.902298Z"
    },
    "papermill": {
     "duration": 0.042345,
     "end_time": "2021-04-15T00:06:47.902827",
     "exception": false,
     "start_time": "2021-04-15T00:06:47.860482",
     "status": "completed"
    },
    "tags": []
   },
   "outputs": [
    {
     "data": {
      "text/plain": [
       "'https://raw.githubusercontent.com/pratapvardhan/notebooks/master/covid19/mapping_countries.csv'"
      ]
     },
     "execution_count": 3,
     "metadata": {},
     "output_type": "execute_result"
    }
   ],
   "source": [
    "#hide\n",
    "paths['mapping']"
   ]
  },
  {
   "cell_type": "code",
   "execution_count": 4,
   "id": "urban-software",
   "metadata": {
    "execution": {
     "iopub.execute_input": "2021-04-15T00:06:47.969255Z",
     "iopub.status.busy": "2021-04-15T00:06:47.968146Z",
     "iopub.status.idle": "2021-04-15T00:06:47.970160Z",
     "shell.execute_reply": "2021-04-15T00:06:47.970609Z"
    },
    "papermill": {
     "duration": 0.037761,
     "end_time": "2021-04-15T00:06:47.970737",
     "exception": false,
     "start_time": "2021-04-15T00:06:47.932976",
     "status": "completed"
    },
    "tags": []
   },
   "outputs": [],
   "source": [
    "#hide\n",
    "def get_mappings(url):\n",
    "    df = pd.read_csv(url)\n",
    "    return {\n",
    "        'df': df,\n",
    "        'replace.country': dict(df.dropna(subset=['Name']).set_index('Country')['Name']),\n",
    "        'map.continent': dict(df.set_index('Name')['Continent'])\n",
    "    }"
   ]
  },
  {
   "cell_type": "code",
   "execution_count": 5,
   "id": "intimate-machinery",
   "metadata": {
    "execution": {
     "iopub.execute_input": "2021-04-15T00:06:48.036023Z",
     "iopub.status.busy": "2021-04-15T00:06:48.035513Z",
     "iopub.status.idle": "2021-04-15T00:06:48.066327Z",
     "shell.execute_reply": "2021-04-15T00:06:48.065901Z"
    },
    "papermill": {
     "duration": 0.0657,
     "end_time": "2021-04-15T00:06:48.066443",
     "exception": false,
     "start_time": "2021-04-15T00:06:48.000743",
     "status": "completed"
    },
    "tags": []
   },
   "outputs": [],
   "source": [
    "#hide\n",
    "mapping = get_mappings(paths['mapping'])"
   ]
  },
  {
   "cell_type": "code",
   "execution_count": 6,
   "id": "certified-tactics",
   "metadata": {
    "execution": {
     "iopub.execute_input": "2021-04-15T00:06:48.132222Z",
     "iopub.status.busy": "2021-04-15T00:06:48.131686Z",
     "iopub.status.idle": "2021-04-15T00:06:48.133463Z",
     "shell.execute_reply": "2021-04-15T00:06:48.133854Z"
    },
    "papermill": {
     "duration": 0.037271,
     "end_time": "2021-04-15T00:06:48.133985",
     "exception": false,
     "start_time": "2021-04-15T00:06:48.096714",
     "status": "completed"
    },
    "tags": []
   },
   "outputs": [],
   "source": [
    "#hide\n",
    "def get_template(path):\n",
    "    from urllib.parse import urlparse\n",
    "    if bool(urlparse(path).netloc):\n",
    "        from urllib.request import urlopen\n",
    "        return urlopen(path).read().decode('utf8')\n",
    "    return open(path).read()"
   ]
  },
  {
   "cell_type": "code",
   "execution_count": 7,
   "id": "realistic-blast",
   "metadata": {
    "execution": {
     "iopub.execute_input": "2021-04-15T00:06:48.198878Z",
     "iopub.status.busy": "2021-04-15T00:06:48.198365Z",
     "iopub.status.idle": "2021-04-15T00:06:48.200141Z",
     "shell.execute_reply": "2021-04-15T00:06:48.200611Z"
    },
    "papermill": {
     "duration": 0.036842,
     "end_time": "2021-04-15T00:06:48.200735",
     "exception": false,
     "start_time": "2021-04-15T00:06:48.163893",
     "status": "completed"
    },
    "tags": []
   },
   "outputs": [],
   "source": [
    "#hide\n",
    "def get_frame(name):\n",
    "    url = (\n",
    "        'https://raw.githubusercontent.com/CSSEGISandData/COVID-19/master/csse_covid_19_data/'\n",
    "        f'csse_covid_19_time_series/time_series_covid19_{name}_global.csv')\n",
    "    df = pd.read_csv(url)\n",
    "    # rename countries\n",
    "    df['Country/Region'] = df['Country/Region'].replace(mapping['replace.country'])\n",
    "    return df"
   ]
  },
  {
   "cell_type": "code",
   "execution_count": 8,
   "id": "affiliated-characterization",
   "metadata": {
    "execution": {
     "iopub.execute_input": "2021-04-15T00:06:48.266978Z",
     "iopub.status.busy": "2021-04-15T00:06:48.266493Z",
     "iopub.status.idle": "2021-04-15T00:06:48.268665Z",
     "shell.execute_reply": "2021-04-15T00:06:48.268301Z"
    },
    "papermill": {
     "duration": 0.037745,
     "end_time": "2021-04-15T00:06:48.268769",
     "exception": false,
     "start_time": "2021-04-15T00:06:48.231024",
     "status": "completed"
    },
    "tags": []
   },
   "outputs": [],
   "source": [
    "#hide\n",
    "def get_dates(df):\n",
    "    dt_cols = df.columns[~df.columns.isin(['Province/State', 'Country/Region', 'Lat', 'Long'])]\n",
    "    LAST_DATE_I = -1\n",
    "    # sometimes last column may be empty, then go backwards\n",
    "    for i in range(-1, -len(dt_cols), -1):\n",
    "        if not df[dt_cols[i]].fillna(0).eq(0).all():\n",
    "            LAST_DATE_I = i\n",
    "            break\n",
    "    return LAST_DATE_I, dt_cols"
   ]
  },
  {
   "cell_type": "code",
   "execution_count": 9,
   "id": "recent-optimization",
   "metadata": {
    "execution": {
     "iopub.execute_input": "2021-04-15T00:06:48.327408Z",
     "iopub.status.busy": "2021-04-15T00:06:48.326928Z",
     "iopub.status.idle": "2021-04-15T00:06:48.555382Z",
     "shell.execute_reply": "2021-04-15T00:06:48.554298Z"
    },
    "papermill": {
     "duration": 0.260042,
     "end_time": "2021-04-15T00:06:48.555519",
     "exception": false,
     "start_time": "2021-04-15T00:06:48.295477",
     "status": "completed"
    },
    "tags": []
   },
   "outputs": [],
   "source": [
    "#hide\n",
    "COL_REGION = 'Country/Region'\n",
    "# Confirmed, Recovered, Deaths\n",
    "df = get_frame('confirmed')\n",
    "# dft_: timeseries, dfc_: today country agg\n",
    "dft_cases = df\n",
    "dft_deaths = get_frame('deaths')\n",
    "dft_recovered = get_frame('recovered')\n",
    "LAST_DATE_I, dt_cols = get_dates(df)"
   ]
  },
  {
   "cell_type": "code",
   "execution_count": 10,
   "id": "absolute-copper",
   "metadata": {
    "execution": {
     "iopub.execute_input": "2021-04-15T00:06:48.613609Z",
     "iopub.status.busy": "2021-04-15T00:06:48.613151Z",
     "iopub.status.idle": "2021-04-15T00:06:48.615030Z",
     "shell.execute_reply": "2021-04-15T00:06:48.615362Z"
    },
    "papermill": {
     "duration": 0.033191,
     "end_time": "2021-04-15T00:06:48.615487",
     "exception": false,
     "start_time": "2021-04-15T00:06:48.582296",
     "status": "completed"
    },
    "tags": []
   },
   "outputs": [],
   "source": [
    "#hide\n",
    "LAST_DATE_I, dt_cols = get_dates(df)\n",
    "dt_today =dt_cols[LAST_DATE_I]\n",
    "# dt_5day = dt_cols[LAST_DATE_I - 5]\n",
    "dt_yday = dt_cols[LAST_DATE_I - 1]"
   ]
  },
  {
   "cell_type": "code",
   "execution_count": 11,
   "id": "restricted-sheriff",
   "metadata": {
    "execution": {
     "iopub.execute_input": "2021-04-15T00:06:48.676020Z",
     "iopub.status.busy": "2021-04-15T00:06:48.675559Z",
     "iopub.status.idle": "2021-04-15T00:06:48.680899Z",
     "shell.execute_reply": "2021-04-15T00:06:48.680538Z"
    },
    "papermill": {
     "duration": 0.038761,
     "end_time": "2021-04-15T00:06:48.681000",
     "exception": false,
     "start_time": "2021-04-15T00:06:48.642239",
     "status": "completed"
    },
    "tags": []
   },
   "outputs": [],
   "source": [
    "#hide\n",
    "dfc_cases = dft_cases.groupby(COL_REGION)[dt_today].sum()\n",
    "dfc_deaths = dft_deaths.groupby(COL_REGION)[dt_today].sum()\n",
    "# dfp_cases = dft_cases.groupby(COL_REGION)[dt_5day].sum()\n",
    "# dfp_deaths = dft_deaths.groupby(COL_REGION)[dt_5day].sum()\n",
    "dfp_cases = dft_cases.groupby(COL_REGION)[dt_yday].sum()\n",
    "dfp_deaths = dft_deaths.groupby(COL_REGION)[dt_yday].sum()"
   ]
  },
  {
   "cell_type": "code",
   "execution_count": 12,
   "id": "deluxe-hepatitis",
   "metadata": {
    "execution": {
     "iopub.execute_input": "2021-04-15T00:06:48.740005Z",
     "iopub.status.busy": "2021-04-15T00:06:48.739551Z",
     "iopub.status.idle": "2021-04-15T00:06:48.743639Z",
     "shell.execute_reply": "2021-04-15T00:06:48.743262Z"
    },
    "papermill": {
     "duration": 0.036167,
     "end_time": "2021-04-15T00:06:48.743734",
     "exception": false,
     "start_time": "2021-04-15T00:06:48.707567",
     "status": "completed"
    },
    "tags": []
   },
   "outputs": [],
   "source": [
    "#hide\n",
    "df_table = (pd.DataFrame(dict(Cases = dfc_cases, Deaths = dfc_deaths, PCases = dfp_cases, PDeaths = dfp_deaths))\n",
    "            .sort_values(by = ['Cases','Deaths'], ascending = [False, False])\n",
    "            .reset_index())"
   ]
  },
  {
   "cell_type": "code",
   "execution_count": 13,
   "id": "educational-chancellor",
   "metadata": {
    "execution": {
     "iopub.execute_input": "2021-04-15T00:06:48.815853Z",
     "iopub.status.busy": "2021-04-15T00:06:48.815373Z",
     "iopub.status.idle": "2021-04-15T00:06:48.823412Z",
     "shell.execute_reply": "2021-04-15T00:06:48.824453Z"
    },
    "papermill": {
     "duration": 0.054169,
     "end_time": "2021-04-15T00:06:48.824576",
     "exception": false,
     "start_time": "2021-04-15T00:06:48.770407",
     "status": "completed"
    },
    "tags": []
   },
   "outputs": [
    {
     "data": {
      "text/html": [
       "<div>\n",
       "<style scoped>\n",
       "    .dataframe tbody tr th:only-of-type {\n",
       "        vertical-align: middle;\n",
       "    }\n",
       "\n",
       "    .dataframe tbody tr th {\n",
       "        vertical-align: top;\n",
       "    }\n",
       "\n",
       "    .dataframe thead th {\n",
       "        text-align: right;\n",
       "    }\n",
       "</style>\n",
       "<table border=\"1\" class=\"dataframe\">\n",
       "  <thead>\n",
       "    <tr style=\"text-align: right;\">\n",
       "      <th></th>\n",
       "      <th>Country/Region</th>\n",
       "      <th>Cases</th>\n",
       "      <th>Deaths</th>\n",
       "      <th>PCases</th>\n",
       "      <th>PDeaths</th>\n",
       "      <th>Cases (+)</th>\n",
       "      <th>Deaths (+)</th>\n",
       "      <th>Fatality Rate</th>\n",
       "      <th>Continent</th>\n",
       "    </tr>\n",
       "  </thead>\n",
       "  <tbody>\n",
       "    <tr>\n",
       "      <th>0</th>\n",
       "      <td>US</td>\n",
       "      <td>31345985</td>\n",
       "      <td>563446</td>\n",
       "      <td>31268107</td>\n",
       "      <td>562623</td>\n",
       "      <td>77878</td>\n",
       "      <td>823</td>\n",
       "      <td>1.80</td>\n",
       "      <td>North America</td>\n",
       "    </tr>\n",
       "    <tr>\n",
       "      <th>1</th>\n",
       "      <td>India</td>\n",
       "      <td>13873825</td>\n",
       "      <td>172085</td>\n",
       "      <td>13689453</td>\n",
       "      <td>171058</td>\n",
       "      <td>184372</td>\n",
       "      <td>1027</td>\n",
       "      <td>1.24</td>\n",
       "      <td>Asia</td>\n",
       "    </tr>\n",
       "    <tr>\n",
       "      <th>2</th>\n",
       "      <td>Brazil</td>\n",
       "      <td>13599994</td>\n",
       "      <td>358425</td>\n",
       "      <td>13517808</td>\n",
       "      <td>354617</td>\n",
       "      <td>82186</td>\n",
       "      <td>3808</td>\n",
       "      <td>2.64</td>\n",
       "      <td>South America</td>\n",
       "    </tr>\n",
       "    <tr>\n",
       "      <th>3</th>\n",
       "      <td>France</td>\n",
       "      <td>5167265</td>\n",
       "      <td>99639</td>\n",
       "      <td>5128140</td>\n",
       "      <td>99294</td>\n",
       "      <td>39125</td>\n",
       "      <td>345</td>\n",
       "      <td>1.93</td>\n",
       "      <td>Europe</td>\n",
       "    </tr>\n",
       "    <tr>\n",
       "      <th>4</th>\n",
       "      <td>Russia</td>\n",
       "      <td>4605444</td>\n",
       "      <td>101882</td>\n",
       "      <td>4597400</td>\n",
       "      <td>101552</td>\n",
       "      <td>8044</td>\n",
       "      <td>330</td>\n",
       "      <td>2.21</td>\n",
       "      <td>Europe</td>\n",
       "    </tr>\n",
       "  </tbody>\n",
       "</table>\n",
       "</div>"
      ],
      "text/plain": [
       "  Country/Region     Cases  Deaths    PCases  PDeaths  Cases (+)  Deaths (+)  \\\n",
       "0             US  31345985  563446  31268107   562623      77878         823   \n",
       "1          India  13873825  172085  13689453   171058     184372        1027   \n",
       "2         Brazil  13599994  358425  13517808   354617      82186        3808   \n",
       "3         France   5167265   99639   5128140    99294      39125         345   \n",
       "4         Russia   4605444  101882   4597400   101552       8044         330   \n",
       "\n",
       "   Fatality Rate      Continent  \n",
       "0           1.80  North America  \n",
       "1           1.24           Asia  \n",
       "2           2.64  South America  \n",
       "3           1.93         Europe  \n",
       "4           2.21         Europe  "
      ]
     },
     "execution_count": 13,
     "metadata": {},
     "output_type": "execute_result"
    }
   ],
   "source": [
    "#hide\n",
    "for c in 'Cases, Deaths'.split(', '):\n",
    "    df_table[f'{c} (+)'] = (df_table[c] - df_table[f'P{c}']).clip(0)\n",
    "    #Clip ça veut dire, les chiffres negatif sont interdit\n",
    "df_table['Fatality Rate'] = (100* df_table['Deaths']/ df_table['Cases']).round(2)\n",
    "df_table['Continent'] = df_table['Country/Region'].map(mapping['map.continent'])\n",
    "df_table.head(5)"
   ]
  },
  {
   "cell_type": "code",
   "execution_count": 14,
   "id": "aboriginal-bulgaria",
   "metadata": {
    "execution": {
     "iopub.execute_input": "2021-04-15T00:06:48.884239Z",
     "iopub.status.busy": "2021-04-15T00:06:48.883781Z",
     "iopub.status.idle": "2021-04-15T00:06:48.886874Z",
     "shell.execute_reply": "2021-04-15T00:06:48.887256Z"
    },
    "papermill": {
     "duration": 0.035478,
     "end_time": "2021-04-15T00:06:48.887378",
     "exception": false,
     "start_time": "2021-04-15T00:06:48.851900",
     "status": "completed"
    },
    "tags": []
   },
   "outputs": [],
   "source": [
    "#hide\n",
    "#delete problematic countries from table\n",
    "df_table = df_table[~df_table['Country/Region'].isin(['Cape Verde', 'Cruise Ship', 'Kosovo'])]"
   ]
  },
  {
   "cell_type": "code",
   "execution_count": 15,
   "id": "fantastic-effect",
   "metadata": {
    "execution": {
     "iopub.execute_input": "2021-04-15T00:06:48.949400Z",
     "iopub.status.busy": "2021-04-15T00:06:48.948946Z",
     "iopub.status.idle": "2021-04-15T00:06:48.964754Z",
     "shell.execute_reply": "2021-04-15T00:06:48.965208Z"
    },
    "papermill": {
     "duration": 0.051012,
     "end_time": "2021-04-15T00:06:48.965356",
     "exception": false,
     "start_time": "2021-04-15T00:06:48.914344",
     "status": "completed"
    },
    "tags": []
   },
   "outputs": [
    {
     "data": {
      "text/html": [
       "<div>\n",
       "<style scoped>\n",
       "    .dataframe tbody tr th:only-of-type {\n",
       "        vertical-align: middle;\n",
       "    }\n",
       "\n",
       "    .dataframe tbody tr th {\n",
       "        vertical-align: top;\n",
       "    }\n",
       "\n",
       "    .dataframe thead th {\n",
       "        text-align: right;\n",
       "    }\n",
       "</style>\n",
       "<table border=\"1\" class=\"dataframe\">\n",
       "  <thead>\n",
       "    <tr style=\"text-align: right;\">\n",
       "      <th></th>\n",
       "      <th>Country/Region</th>\n",
       "      <th>Cases</th>\n",
       "      <th>Deaths</th>\n",
       "      <th>PCases</th>\n",
       "      <th>PDeaths</th>\n",
       "      <th>Cases (+)</th>\n",
       "      <th>Deaths (+)</th>\n",
       "      <th>Fatality Rate</th>\n",
       "      <th>Continent</th>\n",
       "    </tr>\n",
       "  </thead>\n",
       "  <tbody>\n",
       "    <tr>\n",
       "      <th>0</th>\n",
       "      <td>US</td>\n",
       "      <td>31345985</td>\n",
       "      <td>563446</td>\n",
       "      <td>31268107</td>\n",
       "      <td>562623</td>\n",
       "      <td>77878</td>\n",
       "      <td>823</td>\n",
       "      <td>1.8</td>\n",
       "      <td>North America</td>\n",
       "    </tr>\n",
       "    <tr>\n",
       "      <th>1</th>\n",
       "      <td>India</td>\n",
       "      <td>13873825</td>\n",
       "      <td>172085</td>\n",
       "      <td>13689453</td>\n",
       "      <td>171058</td>\n",
       "      <td>184372</td>\n",
       "      <td>1027</td>\n",
       "      <td>1.2</td>\n",
       "      <td>Asia</td>\n",
       "    </tr>\n",
       "    <tr>\n",
       "      <th>2</th>\n",
       "      <td>Brazil</td>\n",
       "      <td>13599994</td>\n",
       "      <td>358425</td>\n",
       "      <td>13517808</td>\n",
       "      <td>354617</td>\n",
       "      <td>82186</td>\n",
       "      <td>3808</td>\n",
       "      <td>2.6</td>\n",
       "      <td>South America</td>\n",
       "    </tr>\n",
       "    <tr>\n",
       "      <th>3</th>\n",
       "      <td>France</td>\n",
       "      <td>5167265</td>\n",
       "      <td>99639</td>\n",
       "      <td>5128140</td>\n",
       "      <td>99294</td>\n",
       "      <td>39125</td>\n",
       "      <td>345</td>\n",
       "      <td>1.9</td>\n",
       "      <td>Europe</td>\n",
       "    </tr>\n",
       "    <tr>\n",
       "      <th>4</th>\n",
       "      <td>Russia</td>\n",
       "      <td>4605444</td>\n",
       "      <td>101882</td>\n",
       "      <td>4597400</td>\n",
       "      <td>101552</td>\n",
       "      <td>8044</td>\n",
       "      <td>330</td>\n",
       "      <td>2.2</td>\n",
       "      <td>Europe</td>\n",
       "    </tr>\n",
       "  </tbody>\n",
       "</table>\n",
       "</div>"
      ],
      "text/plain": [
       "  Country/Region     Cases  Deaths    PCases  PDeaths  Cases (+)  Deaths (+)  \\\n",
       "0             US  31345985  563446  31268107   562623      77878         823   \n",
       "1          India  13873825  172085  13689453   171058     184372        1027   \n",
       "2         Brazil  13599994  358425  13517808   354617      82186        3808   \n",
       "3         France   5167265   99639   5128140    99294      39125         345   \n",
       "4         Russia   4605444  101882   4597400   101552       8044         330   \n",
       "\n",
       "   Fatality Rate      Continent  \n",
       "0            1.8  North America  \n",
       "1            1.2           Asia  \n",
       "2            2.6  South America  \n",
       "3            1.9         Europe  \n",
       "4            2.2         Europe  "
      ]
     },
     "execution_count": 15,
     "metadata": {},
     "output_type": "execute_result"
    }
   ],
   "source": [
    "#hide\n",
    "df_table = (pd.DataFrame(dict(Cases=dfc_cases, Deaths=dfc_deaths, PCases=dfp_cases, PDeaths=dfp_deaths))\n",
    "             .sort_values(by=['Cases', 'Deaths'], ascending=[False, False])\n",
    "             .reset_index())\n",
    "df_table.rename(columns={'index': 'Country/Region'}, inplace=True)\n",
    "for c in 'Cases, Deaths'.split(', '):\n",
    "    df_table[f'{c} (+)'] = (df_table[c] - df_table[f'P{c}']).clip(0)  # DATA BUG\n",
    "df_table['Fatality Rate'] = (100 * df_table['Deaths'] / df_table['Cases']).round(1)\n",
    "df_table['Continent'] = df_table['Country/Region'].map(mapping['map.continent'])\n",
    "df_table.head(5)"
   ]
  },
  {
   "cell_type": "code",
   "execution_count": 16,
   "id": "fewer-occasion",
   "metadata": {
    "execution": {
     "iopub.execute_input": "2021-04-15T00:06:49.026491Z",
     "iopub.status.busy": "2021-04-15T00:06:49.026020Z",
     "iopub.status.idle": "2021-04-15T00:06:49.028857Z",
     "shell.execute_reply": "2021-04-15T00:06:49.029235Z"
    },
    "papermill": {
     "duration": 0.035088,
     "end_time": "2021-04-15T00:06:49.029352",
     "exception": false,
     "start_time": "2021-04-15T00:06:48.994264",
     "status": "completed"
    },
    "tags": []
   },
   "outputs": [],
   "source": [
    "#hide\n",
    "#delete problematic countries from table\n",
    "df_table = df_table[~df_table['Country/Region'].isin(['Cape Verde', 'Cruise Ship', 'Kosovo'])]"
   ]
  },
  {
   "cell_type": "code",
   "execution_count": 17,
   "id": "related-center",
   "metadata": {
    "execution": {
     "iopub.execute_input": "2021-04-15T00:06:49.101879Z",
     "iopub.status.busy": "2021-04-15T00:06:49.101351Z",
     "iopub.status.idle": "2021-04-15T00:06:49.103576Z",
     "shell.execute_reply": "2021-04-15T00:06:49.103210Z"
    },
    "papermill": {
     "duration": 0.047013,
     "end_time": "2021-04-15T00:06:49.103682",
     "exception": false,
     "start_time": "2021-04-15T00:06:49.056669",
     "status": "completed"
    },
    "tags": []
   },
   "outputs": [],
   "source": [
    "#hide\n",
    "metrics = [df_table.columns[index] for index in [1,2,5,6]]\n",
    "# s_china = df_table[df_table['Country/Region'].eq('China')][metrics].sum().add_prefix('China ')\n",
    "s_us = df_table[df_table['Country/Region'].eq('US')][metrics].sum().add_prefix('US ')\n",
    "s_eu = df_table[df_table['Continent'].eq('Europe')][metrics].sum().add_prefix('EU ')\n",
    "s_ind = df_table[df_table['Country/Region'].eq('India')][metrics].sum().add_prefix('India ')\n",
    "summary = {'updated': pd.to_datetime(dt_today), 'since': pd.to_datetime(dt_yday)}\n",
    "summary = {'updated': pd.to_datetime(dt_today), 'since': pd.to_datetime(dt_yday)}\n",
    "summary = {**summary, **df_table[metrics].sum(), **s_ind, **s_us, **s_eu}"
   ]
  },
  {
   "cell_type": "code",
   "execution_count": 18,
   "id": "engaging-syndrome",
   "metadata": {
    "execution": {
     "iopub.execute_input": "2021-04-15T00:06:49.163875Z",
     "iopub.status.busy": "2021-04-15T00:06:49.163426Z",
     "iopub.status.idle": "2021-04-15T00:06:49.174076Z",
     "shell.execute_reply": "2021-04-15T00:06:49.173664Z"
    },
    "papermill": {
     "duration": 0.042984,
     "end_time": "2021-04-15T00:06:49.174181",
     "exception": false,
     "start_time": "2021-04-15T00:06:49.131197",
     "status": "completed"
    },
    "tags": []
   },
   "outputs": [],
   "source": [
    "#hide\n",
    "dft_ct_new_cases = dft_cases.groupby(COL_REGION)[dt_cols].sum().diff(axis=1).fillna(0).astype(int)"
   ]
  },
  {
   "cell_type": "code",
   "execution_count": 19,
   "id": "neutral-assignment",
   "metadata": {
    "execution": {
     "iopub.execute_input": "2021-04-15T00:06:49.234511Z",
     "iopub.status.busy": "2021-04-15T00:06:49.234061Z",
     "iopub.status.idle": "2021-04-15T00:06:49.235890Z",
     "shell.execute_reply": "2021-04-15T00:06:49.236298Z"
    },
    "papermill": {
     "duration": 0.034858,
     "end_time": "2021-04-15T00:06:49.236408",
     "exception": false,
     "start_time": "2021-04-15T00:06:49.201550",
     "status": "completed"
    },
    "tags": []
   },
   "outputs": [],
   "source": [
    "#hide\n",
    "everydaycases = dft_ct_new_cases.cumsum(axis=1)"
   ]
  },
  {
   "cell_type": "code",
   "execution_count": 20,
   "id": "parliamentary-calgary",
   "metadata": {
    "execution": {
     "iopub.execute_input": "2021-04-15T00:06:49.295472Z",
     "iopub.status.busy": "2021-04-15T00:06:49.295022Z",
     "iopub.status.idle": "2021-04-15T00:06:49.841104Z",
     "shell.execute_reply": "2021-04-15T00:06:49.840584Z"
    },
    "papermill": {
     "duration": 0.577439,
     "end_time": "2021-04-15T00:06:49.841243",
     "exception": false,
     "start_time": "2021-04-15T00:06:49.263804",
     "status": "completed"
    },
    "tags": []
   },
   "outputs": [],
   "source": [
    "#hide\n",
    "import pandas as pd\n",
    "import matplotlib.pyplot as plt\n",
    "import matplotlib.ticker as ticker\n",
    "import matplotlib.animation as animation\n",
    "from IPython.display import HTML"
   ]
  },
  {
   "cell_type": "code",
   "execution_count": 21,
   "id": "lasting-extraction",
   "metadata": {
    "execution": {
     "iopub.execute_input": "2021-04-15T00:06:49.903076Z",
     "iopub.status.busy": "2021-04-15T00:06:49.902621Z",
     "iopub.status.idle": "2021-04-15T00:06:49.907691Z",
     "shell.execute_reply": "2021-04-15T00:06:49.907328Z"
    },
    "papermill": {
     "duration": 0.037041,
     "end_time": "2021-04-15T00:06:49.907798",
     "exception": false,
     "start_time": "2021-04-15T00:06:49.870757",
     "status": "completed"
    },
    "tags": []
   },
   "outputs": [],
   "source": [
    "#hide\n",
    "t = everydaycases.stack()"
   ]
  },
  {
   "cell_type": "code",
   "execution_count": 22,
   "id": "premier-sleeve",
   "metadata": {
    "execution": {
     "iopub.execute_input": "2021-04-15T00:06:49.967390Z",
     "iopub.status.busy": "2021-04-15T00:06:49.966929Z",
     "iopub.status.idle": "2021-04-15T00:06:49.974085Z",
     "shell.execute_reply": "2021-04-15T00:06:49.974469Z"
    },
    "papermill": {
     "duration": 0.039182,
     "end_time": "2021-04-15T00:06:49.974588",
     "exception": false,
     "start_time": "2021-04-15T00:06:49.935406",
     "status": "completed"
    },
    "tags": []
   },
   "outputs": [],
   "source": [
    "#hide\n",
    "g = t.reset_index(['Country/Region'])"
   ]
  },
  {
   "cell_type": "code",
   "execution_count": 23,
   "id": "distributed-pittsburgh",
   "metadata": {
    "execution": {
     "iopub.execute_input": "2021-04-15T00:06:50.033092Z",
     "iopub.status.busy": "2021-04-15T00:06:50.032634Z",
     "iopub.status.idle": "2021-04-15T00:06:50.034522Z",
     "shell.execute_reply": "2021-04-15T00:06:50.034877Z"
    },
    "papermill": {
     "duration": 0.032985,
     "end_time": "2021-04-15T00:06:50.034991",
     "exception": false,
     "start_time": "2021-04-15T00:06:50.002006",
     "status": "completed"
    },
    "tags": []
   },
   "outputs": [],
   "source": [
    "#hide\n",
    "g.index.name = 'date'"
   ]
  },
  {
   "cell_type": "code",
   "execution_count": 24,
   "id": "naked-donor",
   "metadata": {
    "execution": {
     "iopub.execute_input": "2021-04-15T00:06:50.093692Z",
     "iopub.status.busy": "2021-04-15T00:06:50.093168Z",
     "iopub.status.idle": "2021-04-15T00:06:50.095155Z",
     "shell.execute_reply": "2021-04-15T00:06:50.094744Z"
    },
    "papermill": {
     "duration": 0.032906,
     "end_time": "2021-04-15T00:06:50.095270",
     "exception": false,
     "start_time": "2021-04-15T00:06:50.062364",
     "status": "completed"
    },
    "tags": []
   },
   "outputs": [],
   "source": [
    "# #hide\n",
    "# g = g.reset_index(['date'])"
   ]
  },
  {
   "cell_type": "code",
   "execution_count": 25,
   "id": "incomplete-mustang",
   "metadata": {
    "execution": {
     "iopub.execute_input": "2021-04-15T00:06:50.160571Z",
     "iopub.status.busy": "2021-04-15T00:06:50.160072Z",
     "iopub.status.idle": "2021-04-15T00:06:50.161887Z",
     "shell.execute_reply": "2021-04-15T00:06:50.162291Z"
    },
    "papermill": {
     "duration": 0.036247,
     "end_time": "2021-04-15T00:06:50.162413",
     "exception": false,
     "start_time": "2021-04-15T00:06:50.126166",
     "status": "completed"
    },
    "tags": []
   },
   "outputs": [],
   "source": [
    "#hide\n",
    "# g.head()"
   ]
  },
  {
   "cell_type": "code",
   "execution_count": 26,
   "id": "specific-kruger",
   "metadata": {
    "execution": {
     "iopub.execute_input": "2021-04-15T00:06:50.228009Z",
     "iopub.status.busy": "2021-04-15T00:06:50.227411Z",
     "iopub.status.idle": "2021-04-15T00:06:50.229620Z",
     "shell.execute_reply": "2021-04-15T00:06:50.229164Z"
    },
    "papermill": {
     "duration": 0.036425,
     "end_time": "2021-04-15T00:06:50.229752",
     "exception": false,
     "start_time": "2021-04-15T00:06:50.193327",
     "status": "completed"
    },
    "tags": []
   },
   "outputs": [],
   "source": [
    "#hide\n",
    "# g.columns = ['date','country','cases']"
   ]
  },
  {
   "cell_type": "code",
   "execution_count": 27,
   "id": "tender-conversion",
   "metadata": {
    "execution": {
     "iopub.execute_input": "2021-04-15T00:06:50.288012Z",
     "iopub.status.busy": "2021-04-15T00:06:50.287549Z",
     "iopub.status.idle": "2021-04-15T00:06:50.290483Z",
     "shell.execute_reply": "2021-04-15T00:06:50.290837Z"
    },
    "papermill": {
     "duration": 0.03273,
     "end_time": "2021-04-15T00:06:50.290955",
     "exception": false,
     "start_time": "2021-04-15T00:06:50.258225",
     "status": "completed"
    },
    "tags": []
   },
   "outputs": [],
   "source": [
    "#hide\n",
    "# g['continent'] = g.country"
   ]
  },
  {
   "cell_type": "code",
   "execution_count": 28,
   "id": "substantial-wilderness",
   "metadata": {
    "execution": {
     "iopub.execute_input": "2021-04-15T00:06:50.348957Z",
     "iopub.status.busy": "2021-04-15T00:06:50.348512Z",
     "iopub.status.idle": "2021-04-15T00:06:50.350519Z",
     "shell.execute_reply": "2021-04-15T00:06:50.350160Z"
    },
    "papermill": {
     "duration": 0.032308,
     "end_time": "2021-04-15T00:06:50.350619",
     "exception": false,
     "start_time": "2021-04-15T00:06:50.318311",
     "status": "completed"
    },
    "tags": []
   },
   "outputs": [],
   "source": [
    "#hide\n",
    "# cols = list(g.columns.values)"
   ]
  },
  {
   "cell_type": "code",
   "execution_count": 29,
   "id": "solved-farming",
   "metadata": {
    "execution": {
     "iopub.execute_input": "2021-04-15T00:06:50.409024Z",
     "iopub.status.busy": "2021-04-15T00:06:50.408577Z",
     "iopub.status.idle": "2021-04-15T00:06:50.410309Z",
     "shell.execute_reply": "2021-04-15T00:06:50.410641Z"
    },
    "papermill": {
     "duration": 0.032827,
     "end_time": "2021-04-15T00:06:50.410762",
     "exception": false,
     "start_time": "2021-04-15T00:06:50.377935",
     "status": "completed"
    },
    "tags": []
   },
   "outputs": [],
   "source": [
    "#hide\n",
    "# cols.insert(0, cols.pop())"
   ]
  },
  {
   "cell_type": "code",
   "execution_count": 30,
   "id": "executed-adoption",
   "metadata": {
    "execution": {
     "iopub.execute_input": "2021-04-15T00:06:50.468909Z",
     "iopub.status.busy": "2021-04-15T00:06:50.468462Z",
     "iopub.status.idle": "2021-04-15T00:06:50.470249Z",
     "shell.execute_reply": "2021-04-15T00:06:50.470626Z"
    },
    "papermill": {
     "duration": 0.032696,
     "end_time": "2021-04-15T00:06:50.470741",
     "exception": false,
     "start_time": "2021-04-15T00:06:50.438045",
     "status": "completed"
    },
    "tags": []
   },
   "outputs": [],
   "source": [
    "#hide\n",
    "# g = g[cols]"
   ]
  },
  {
   "cell_type": "code",
   "execution_count": 31,
   "id": "subject-dublin",
   "metadata": {
    "execution": {
     "iopub.execute_input": "2021-04-15T00:06:50.529110Z",
     "iopub.status.busy": "2021-04-15T00:06:50.528660Z",
     "iopub.status.idle": "2021-04-15T00:06:50.530365Z",
     "shell.execute_reply": "2021-04-15T00:06:50.530781Z"
    },
    "papermill": {
     "duration": 0.032826,
     "end_time": "2021-04-15T00:06:50.530896",
     "exception": false,
     "start_time": "2021-04-15T00:06:50.498070",
     "status": "completed"
    },
    "tags": []
   },
   "outputs": [],
   "source": [
    "#hide\n",
    "# g['continent'] = g['continent'].map(mapping['map.continent'])"
   ]
  },
  {
   "cell_type": "code",
   "execution_count": 32,
   "id": "freelance-scout",
   "metadata": {
    "execution": {
     "iopub.execute_input": "2021-04-15T00:06:50.589303Z",
     "iopub.status.busy": "2021-04-15T00:06:50.588853Z",
     "iopub.status.idle": "2021-04-15T00:06:50.590675Z",
     "shell.execute_reply": "2021-04-15T00:06:50.591053Z"
    },
    "papermill": {
     "duration": 0.032828,
     "end_time": "2021-04-15T00:06:50.591166",
     "exception": false,
     "start_time": "2021-04-15T00:06:50.558338",
     "status": "completed"
    },
    "tags": []
   },
   "outputs": [],
   "source": [
    "#hide\n",
    "# g.head()"
   ]
  },
  {
   "cell_type": "code",
   "execution_count": 33,
   "id": "limited-engine",
   "metadata": {
    "execution": {
     "iopub.execute_input": "2021-04-15T00:06:50.649381Z",
     "iopub.status.busy": "2021-04-15T00:06:50.648926Z",
     "iopub.status.idle": "2021-04-15T00:06:50.651115Z",
     "shell.execute_reply": "2021-04-15T00:06:50.650762Z"
    },
    "papermill": {
     "duration": 0.03283,
     "end_time": "2021-04-15T00:06:50.651214",
     "exception": false,
     "start_time": "2021-04-15T00:06:50.618384",
     "status": "completed"
    },
    "tags": []
   },
   "outputs": [],
   "source": [
    "# hide\n",
    "# g['date'] = g['date'].astype('datetime64[ns]')"
   ]
  },
  {
   "cell_type": "code",
   "execution_count": 34,
   "id": "sophisticated-supervisor",
   "metadata": {
    "execution": {
     "iopub.execute_input": "2021-04-15T00:06:50.710376Z",
     "iopub.status.busy": "2021-04-15T00:06:50.709913Z",
     "iopub.status.idle": "2021-04-15T00:06:50.711681Z",
     "shell.execute_reply": "2021-04-15T00:06:50.712055Z"
    },
    "papermill": {
     "duration": 0.032783,
     "end_time": "2021-04-15T00:06:50.712167",
     "exception": false,
     "start_time": "2021-04-15T00:06:50.679384",
     "status": "completed"
    },
    "tags": []
   },
   "outputs": [],
   "source": [
    "#hide\n",
    "# g['date'] = g.date.dt.dayofyear"
   ]
  },
  {
   "cell_type": "code",
   "execution_count": 35,
   "id": "inside-dubai",
   "metadata": {
    "execution": {
     "iopub.execute_input": "2021-04-15T00:06:50.770204Z",
     "iopub.status.busy": "2021-04-15T00:06:50.769706Z",
     "iopub.status.idle": "2021-04-15T00:06:50.771522Z",
     "shell.execute_reply": "2021-04-15T00:06:50.771871Z"
    },
    "papermill": {
     "duration": 0.032596,
     "end_time": "2021-04-15T00:06:50.771980",
     "exception": false,
     "start_time": "2021-04-15T00:06:50.739384",
     "status": "completed"
    },
    "tags": []
   },
   "outputs": [],
   "source": [
    "#hide\n",
    "# g = g.rename(columns= {'continent':'group','country':'name','cases':'value'})"
   ]
  },
  {
   "cell_type": "code",
   "execution_count": 36,
   "id": "fleet-motorcycle",
   "metadata": {
    "execution": {
     "iopub.execute_input": "2021-04-15T00:06:50.830216Z",
     "iopub.status.busy": "2021-04-15T00:06:50.829732Z",
     "iopub.status.idle": "2021-04-15T00:06:50.831479Z",
     "shell.execute_reply": "2021-04-15T00:06:50.831885Z"
    },
    "papermill": {
     "duration": 0.032642,
     "end_time": "2021-04-15T00:06:50.831998",
     "exception": false,
     "start_time": "2021-04-15T00:06:50.799356",
     "status": "completed"
    },
    "tags": []
   },
   "outputs": [],
   "source": [
    "#hide\n",
    "# cols = ['name','group','day','value']"
   ]
  },
  {
   "cell_type": "code",
   "execution_count": 37,
   "id": "continued-sleeping",
   "metadata": {
    "execution": {
     "iopub.execute_input": "2021-04-15T00:06:50.889656Z",
     "iopub.status.busy": "2021-04-15T00:06:50.889210Z",
     "iopub.status.idle": "2021-04-15T00:06:50.891203Z",
     "shell.execute_reply": "2021-04-15T00:06:50.890849Z"
    },
    "papermill": {
     "duration": 0.03203,
     "end_time": "2021-04-15T00:06:50.891302",
     "exception": false,
     "start_time": "2021-04-15T00:06:50.859272",
     "status": "completed"
    },
    "tags": []
   },
   "outputs": [],
   "source": [
    "#hide\n",
    "# g.rename(columns= {'date':'day'},inplace = True)"
   ]
  },
  {
   "cell_type": "code",
   "execution_count": 38,
   "id": "major-fight",
   "metadata": {
    "execution": {
     "iopub.execute_input": "2021-04-15T00:06:50.949586Z",
     "iopub.status.busy": "2021-04-15T00:06:50.949139Z",
     "iopub.status.idle": "2021-04-15T00:06:50.951289Z",
     "shell.execute_reply": "2021-04-15T00:06:50.950932Z"
    },
    "papermill": {
     "duration": 0.032675,
     "end_time": "2021-04-15T00:06:50.951387",
     "exception": false,
     "start_time": "2021-04-15T00:06:50.918712",
     "status": "completed"
    },
    "tags": []
   },
   "outputs": [],
   "source": [
    "#hide\n",
    "# g = g[cols]"
   ]
  },
  {
   "cell_type": "code",
   "execution_count": 39,
   "id": "structured-mobile",
   "metadata": {
    "execution": {
     "iopub.execute_input": "2021-04-15T00:06:51.009700Z",
     "iopub.status.busy": "2021-04-15T00:06:51.009257Z",
     "iopub.status.idle": "2021-04-15T00:06:51.011054Z",
     "shell.execute_reply": "2021-04-15T00:06:51.011429Z"
    },
    "papermill": {
     "duration": 0.032561,
     "end_time": "2021-04-15T00:06:51.011541",
     "exception": false,
     "start_time": "2021-04-15T00:06:50.978980",
     "status": "completed"
    },
    "tags": []
   },
   "outputs": [],
   "source": [
    "# #hide\n",
    "# g = g[g.group.notna()]"
   ]
  },
  {
   "cell_type": "code",
   "execution_count": 40,
   "id": "determined-closing",
   "metadata": {
    "execution": {
     "iopub.execute_input": "2021-04-15T00:06:51.070145Z",
     "iopub.status.busy": "2021-04-15T00:06:51.069651Z",
     "iopub.status.idle": "2021-04-15T00:06:51.071458Z",
     "shell.execute_reply": "2021-04-15T00:06:51.071809Z"
    },
    "papermill": {
     "duration": 0.03297,
     "end_time": "2021-04-15T00:06:51.071923",
     "exception": false,
     "start_time": "2021-04-15T00:06:51.038953",
     "status": "completed"
    },
    "tags": []
   },
   "outputs": [],
   "source": [
    "# #hide\n",
    "# colors = dict(zip(\n",
    "#     [\"Oceania\", \"Europe\", \"Asia\", \"South America\", \"Middle East\", \"North America\", \"Africa\"],\n",
    "#     [\"#adb0ff\", \"#ffb3ff\", \"#90d595\", \"#e48381\", \"#aafbff\", \"#f7bb5f\", \"#eafb50\"]\n",
    "# ))\n",
    "# group_lk = g.set_index('name')['group'].to_dict()"
   ]
  },
  {
   "cell_type": "code",
   "execution_count": null,
   "id": "gross-drinking",
   "metadata": {
    "papermill": {
     "duration": 0.027276,
     "end_time": "2021-04-15T00:06:51.126668",
     "exception": false,
     "start_time": "2021-04-15T00:06:51.099392",
     "status": "completed"
    },
    "tags": []
   },
   "outputs": [],
   "source": []
  },
  {
   "cell_type": "code",
   "execution_count": 41,
   "id": "subject-macintosh",
   "metadata": {
    "execution": {
     "iopub.execute_input": "2021-04-15T00:06:51.185504Z",
     "iopub.status.busy": "2021-04-15T00:06:51.185038Z",
     "iopub.status.idle": "2021-04-15T00:06:51.187263Z",
     "shell.execute_reply": "2021-04-15T00:06:51.186886Z"
    },
    "papermill": {
     "duration": 0.033336,
     "end_time": "2021-04-15T00:06:51.187363",
     "exception": false,
     "start_time": "2021-04-15T00:06:51.154027",
     "status": "completed"
    },
    "tags": []
   },
   "outputs": [],
   "source": [
    "# #hide\n",
    "# fig, ax = plt.subplots(figsize=(15, 8))\n",
    "\n",
    "# def draw_barchart(current_day):\n",
    "#     dff = g[g['day'].eq(current_day)].sort_values(by='value', ascending=True).tail(10)\n",
    "#     ax.clear()\n",
    "#     ax.barh(dff['name'], dff['value'], color=[colors[group_lk[x]] for x in dff['name']])\n",
    "#     dx = dff['value'].max() / 200\n",
    "    \n",
    "#     for i, (value, name) in enumerate(zip(dff['value'], dff['name'])):\n",
    "#         ax.text(value-dx, i,     name,           size=14, weight=600, ha='right', va='bottom')\n",
    "#         ax.text(value-dx, i-.25, group_lk[name], size=10, color='#444444', ha='right', va='baseline')\n",
    "#         ax.text(value+dx, i,     f'{value:,.0f}',  size=14, ha='left',  va='center')\n",
    "#     ax.text(1, 0.4, current_day, transform=ax.transAxes, color='#777777', size=46, ha='right', weight=800)\n",
    "#     ax.text(0, 1.06, 'Population (thousands)', transform=ax.transAxes, size=12, color='#777777')\n",
    "#     ax.xaxis.set_major_formatter(ticker.StrMethodFormatter('{x:,.0f}'))\n",
    "#     ax.xaxis.set_ticks_position('top')\n",
    "#     ax.tick_params(axis='x', colors='#777777', labelsize=12)\n",
    "#     ax.set_yticks([])\n",
    "#     ax.margins(0, 0.01)\n",
    "#     ax.grid(which='major', axis='x', linestyle='-')\n",
    "#     ax.set_axisbelow(True)\n",
    "    \n",
    "#     ax.text(0, 1.15, 'Coronavirus',\n",
    "#             transform=ax.transAxes, size=24, weight=600, ha='left', va='top')\n",
    "# #     ax.text(1, 0, 'by @pratapvardhan; credit @jburnmurdoch', transform=ax.transAxes, color='#777777', ha='right',\n",
    "# #             bbox=dict(facecolor='white', alpha=0.8, edgecolor='white'))\n",
    "#     plt.box(False)"
   ]
  },
  {
   "cell_type": "code",
   "execution_count": 42,
   "id": "sexual-wages",
   "metadata": {
    "execution": {
     "iopub.execute_input": "2021-04-15T00:06:51.245202Z",
     "iopub.status.busy": "2021-04-15T00:06:51.244762Z",
     "iopub.status.idle": "2021-04-15T00:06:51.246586Z",
     "shell.execute_reply": "2021-04-15T00:06:51.246920Z"
    },
    "papermill": {
     "duration": 0.032455,
     "end_time": "2021-04-15T00:06:51.247032",
     "exception": false,
     "start_time": "2021-04-15T00:06:51.214577",
     "status": "completed"
    },
    "tags": []
   },
   "outputs": [],
   "source": [
    "# #hide_input\n",
    "# fig, ax = plt.subplots(figsize=(15, 8))\n",
    "# animator = animation.FuncAnimation(fig, draw_barchart, frames=range(g.day.values.min(), g.day.values.max()))\n",
    "# HTML(animator.to_jshtml())\n",
    "# # or use animator.to_html5_video() or animator.save() "
   ]
  },
  {
   "cell_type": "code",
   "execution_count": null,
   "id": "australian-container",
   "metadata": {
    "papermill": {
     "duration": 0.027203,
     "end_time": "2021-04-15T00:06:51.301652",
     "exception": false,
     "start_time": "2021-04-15T00:06:51.274449",
     "status": "completed"
    },
    "tags": []
   },
   "outputs": [],
   "source": []
  },
  {
   "cell_type": "code",
   "execution_count": null,
   "id": "mediterranean-pontiac",
   "metadata": {
    "papermill": {
     "duration": 0.027096,
     "end_time": "2021-04-15T00:06:51.355943",
     "exception": false,
     "start_time": "2021-04-15T00:06:51.328847",
     "status": "completed"
    },
    "tags": []
   },
   "outputs": [],
   "source": []
  },
  {
   "cell_type": "code",
   "execution_count": null,
   "id": "aging-legislature",
   "metadata": {
    "papermill": {
     "duration": 0.027177,
     "end_time": "2021-04-15T00:06:51.410540",
     "exception": false,
     "start_time": "2021-04-15T00:06:51.383363",
     "status": "completed"
    },
    "tags": []
   },
   "outputs": [],
   "source": []
  }
 ],
 "metadata": {
  "kernelspec": {
   "display_name": "Python 3",
   "language": "python",
   "name": "python3"
  },
  "language_info": {
   "codemirror_mode": {
    "name": "ipython",
    "version": 3
   },
   "file_extension": ".py",
   "mimetype": "text/x-python",
   "name": "python",
   "nbconvert_exporter": "python",
   "pygments_lexer": "ipython3",
   "version": "3.6.13"
  },
  "papermill": {
   "duration": 6.296264,
   "end_time": "2021-04-15T00:06:52.647051",
   "environment_variables": {},
   "exception": null,
   "input_path": "2020-03-21-covid19exp.ipynb",
   "output_path": "2020-03-21-covid19exp.ipynb",
   "parameters": {},
   "start_time": "2021-04-15T00:06:46.350787",
   "version": "2.0.0"
  }
 },
 "nbformat": 4,
 "nbformat_minor": 5
}