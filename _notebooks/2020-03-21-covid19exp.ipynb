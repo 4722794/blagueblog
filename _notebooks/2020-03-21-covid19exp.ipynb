{
 "cells": [
  {
   "cell_type": "markdown",
   "id": "muslim-click",
   "metadata": {
    "papermill": {
     "duration": 0.036372,
     "end_time": "2022-09-22T00:51:04.128826",
     "exception": false,
     "start_time": "2022-09-22T00:51:04.092454",
     "status": "completed"
    },
    "tags": []
   },
   "source": [
    "# COVID-19 Case Race\n",
    "> A race chart to see rising cases around the world\n",
    "\n",
    "- author: Hargun Oberoi\n",
    "- image: images/covid-overview.png\n",
    "- hide: false\n",
    "- badges: false"
   ]
  },
  {
   "cell_type": "code",
   "execution_count": 1,
   "id": "proof-material",
   "metadata": {
    "execution": {
     "iopub.execute_input": "2022-09-22T00:51:04.199753Z",
     "iopub.status.busy": "2022-09-22T00:51:04.199134Z",
     "iopub.status.idle": "2022-09-22T00:51:04.538487Z",
     "shell.execute_reply": "2022-09-22T00:51:04.539315Z"
    },
    "papermill": {
     "duration": 0.380008,
     "end_time": "2022-09-22T00:51:04.539498",
     "exception": false,
     "start_time": "2022-09-22T00:51:04.159490",
     "status": "completed"
    },
    "tags": []
   },
   "outputs": [],
   "source": [
    "#hide\n",
    "import numpy as np\n",
    "import pandas as pd\n",
    "from jinja2 import Template\n",
    "from IPython.display import HTML"
   ]
  },
  {
   "cell_type": "code",
   "execution_count": 2,
   "id": "developed-terminology",
   "metadata": {
    "execution": {
     "iopub.execute_input": "2022-09-22T00:51:04.604437Z",
     "iopub.status.busy": "2022-09-22T00:51:04.603810Z",
     "iopub.status.idle": "2022-09-22T00:51:04.606253Z",
     "shell.execute_reply": "2022-09-22T00:51:04.605674Z"
    },
    "papermill": {
     "duration": 0.036879,
     "end_time": "2022-09-22T00:51:04.606374",
     "exception": false,
     "start_time": "2022-09-22T00:51:04.569495",
     "status": "completed"
    },
    "tags": []
   },
   "outputs": [],
   "source": [
    "#hide\n",
    "\n",
    "# FETCH\n",
    "base_url = 'https://raw.githubusercontent.com/pratapvardhan/notebooks/master/covid19/'\n",
    "paths = {\n",
    "    'mapping': base_url + 'mapping_countries.csv',\n",
    "    'overview': base_url + 'overview.tpl'\n",
    "}"
   ]
  },
  {
   "cell_type": "code",
   "execution_count": 3,
   "id": "dynamic-saver",
   "metadata": {
    "execution": {
     "iopub.execute_input": "2022-09-22T00:51:04.676559Z",
     "iopub.status.busy": "2022-09-22T00:51:04.675933Z",
     "iopub.status.idle": "2022-09-22T00:51:04.679711Z",
     "shell.execute_reply": "2022-09-22T00:51:04.679232Z"
    },
    "papermill": {
     "duration": 0.043746,
     "end_time": "2022-09-22T00:51:04.679829",
     "exception": false,
     "start_time": "2022-09-22T00:51:04.636083",
     "status": "completed"
    },
    "tags": []
   },
   "outputs": [
    {
     "data": {
      "text/plain": [
       "'https://raw.githubusercontent.com/pratapvardhan/notebooks/master/covid19/mapping_countries.csv'"
      ]
     },
     "execution_count": 3,
     "metadata": {},
     "output_type": "execute_result"
    }
   ],
   "source": [
    "#hide\n",
    "paths['mapping']"
   ]
  },
  {
   "cell_type": "code",
   "execution_count": 4,
   "id": "urban-software",
   "metadata": {
    "execution": {
     "iopub.execute_input": "2022-09-22T00:51:04.746534Z",
     "iopub.status.busy": "2022-09-22T00:51:04.745917Z",
     "iopub.status.idle": "2022-09-22T00:51:04.748518Z",
     "shell.execute_reply": "2022-09-22T00:51:04.748040Z"
    },
    "papermill": {
     "duration": 0.038648,
     "end_time": "2022-09-22T00:51:04.748634",
     "exception": false,
     "start_time": "2022-09-22T00:51:04.709986",
     "status": "completed"
    },
    "tags": []
   },
   "outputs": [],
   "source": [
    "#hide\n",
    "def get_mappings(url):\n",
    "    df = pd.read_csv(url)\n",
    "    return {\n",
    "        'df': df,\n",
    "        'replace.country': dict(df.dropna(subset=['Name']).set_index('Country')['Name']),\n",
    "        'map.continent': dict(df.set_index('Name')['Continent'])\n",
    "    }"
   ]
  },
  {
   "cell_type": "code",
   "execution_count": 5,
   "id": "intimate-machinery",
   "metadata": {
    "execution": {
     "iopub.execute_input": "2022-09-22T00:51:04.814771Z",
     "iopub.status.busy": "2022-09-22T00:51:04.814165Z",
     "iopub.status.idle": "2022-09-22T00:51:04.841772Z",
     "shell.execute_reply": "2022-09-22T00:51:04.842324Z"
    },
    "papermill": {
     "duration": 0.063948,
     "end_time": "2022-09-22T00:51:04.842489",
     "exception": false,
     "start_time": "2022-09-22T00:51:04.778541",
     "status": "completed"
    },
    "tags": []
   },
   "outputs": [],
   "source": [
    "#hide\n",
    "mapping = get_mappings(paths['mapping'])"
   ]
  },
  {
   "cell_type": "code",
   "execution_count": 6,
   "id": "certified-tactics",
   "metadata": {
    "execution": {
     "iopub.execute_input": "2022-09-22T00:51:04.909343Z",
     "iopub.status.busy": "2022-09-22T00:51:04.908676Z",
     "iopub.status.idle": "2022-09-22T00:51:04.911136Z",
     "shell.execute_reply": "2022-09-22T00:51:04.910561Z"
    },
    "papermill": {
     "duration": 0.038154,
     "end_time": "2022-09-22T00:51:04.911255",
     "exception": false,
     "start_time": "2022-09-22T00:51:04.873101",
     "status": "completed"
    },
    "tags": []
   },
   "outputs": [],
   "source": [
    "#hide\n",
    "def get_template(path):\n",
    "    from urllib.parse import urlparse\n",
    "    if bool(urlparse(path).netloc):\n",
    "        from urllib.request import urlopen\n",
    "        return urlopen(path).read().decode('utf8')\n",
    "    return open(path).read()"
   ]
  },
  {
   "cell_type": "code",
   "execution_count": 7,
   "id": "realistic-blast",
   "metadata": {
    "execution": {
     "iopub.execute_input": "2022-09-22T00:51:04.977384Z",
     "iopub.status.busy": "2022-09-22T00:51:04.976658Z",
     "iopub.status.idle": "2022-09-22T00:51:04.978451Z",
     "shell.execute_reply": "2022-09-22T00:51:04.978943Z"
    },
    "papermill": {
     "duration": 0.037764,
     "end_time": "2022-09-22T00:51:04.979073",
     "exception": false,
     "start_time": "2022-09-22T00:51:04.941309",
     "status": "completed"
    },
    "tags": []
   },
   "outputs": [],
   "source": [
    "#hide\n",
    "def get_frame(name):\n",
    "    url = (\n",
    "        'https://raw.githubusercontent.com/CSSEGISandData/COVID-19/master/csse_covid_19_data/'\n",
    "        f'csse_covid_19_time_series/time_series_covid19_{name}_global.csv')\n",
    "    df = pd.read_csv(url)\n",
    "    # rename countries\n",
    "    df['Country/Region'] = df['Country/Region'].replace(mapping['replace.country'])\n",
    "    return df"
   ]
  },
  {
   "cell_type": "code",
   "execution_count": 8,
   "id": "affiliated-characterization",
   "metadata": {
    "execution": {
     "iopub.execute_input": "2022-09-22T00:51:05.046031Z",
     "iopub.status.busy": "2022-09-22T00:51:05.045322Z",
     "iopub.status.idle": "2022-09-22T00:51:05.047884Z",
     "shell.execute_reply": "2022-09-22T00:51:05.047332Z"
    },
    "papermill": {
     "duration": 0.038928,
     "end_time": "2022-09-22T00:51:05.048013",
     "exception": false,
     "start_time": "2022-09-22T00:51:05.009085",
     "status": "completed"
    },
    "tags": []
   },
   "outputs": [],
   "source": [
    "#hide\n",
    "def get_dates(df):\n",
    "    dt_cols = df.columns[~df.columns.isin(['Province/State', 'Country/Region', 'Lat', 'Long'])]\n",
    "    LAST_DATE_I = -1\n",
    "    # sometimes last column may be empty, then go backwards\n",
    "    for i in range(-1, -len(dt_cols), -1):\n",
    "        if not df[dt_cols[i]].fillna(0).eq(0).all():\n",
    "            LAST_DATE_I = i\n",
    "            break\n",
    "    return LAST_DATE_I, dt_cols"
   ]
  },
  {
   "cell_type": "code",
   "execution_count": 9,
   "id": "recent-optimization",
   "metadata": {
    "execution": {
     "iopub.execute_input": "2022-09-22T00:51:05.114144Z",
     "iopub.status.busy": "2022-09-22T00:51:05.113526Z",
     "iopub.status.idle": "2022-09-22T00:51:05.576396Z",
     "shell.execute_reply": "2022-09-22T00:51:05.575876Z"
    },
    "papermill": {
     "duration": 0.498035,
     "end_time": "2022-09-22T00:51:05.576534",
     "exception": false,
     "start_time": "2022-09-22T00:51:05.078499",
     "status": "completed"
    },
    "tags": []
   },
   "outputs": [],
   "source": [
    "#hide\n",
    "COL_REGION = 'Country/Region'\n",
    "# Confirmed, Recovered, Deaths\n",
    "df = get_frame('confirmed')\n",
    "# dft_: timeseries, dfc_: today country agg\n",
    "dft_cases = df\n",
    "dft_deaths = get_frame('deaths')\n",
    "dft_recovered = get_frame('recovered')\n",
    "LAST_DATE_I, dt_cols = get_dates(df)"
   ]
  },
  {
   "cell_type": "code",
   "execution_count": 10,
   "id": "absolute-copper",
   "metadata": {
    "execution": {
     "iopub.execute_input": "2022-09-22T00:51:05.669484Z",
     "iopub.status.busy": "2022-09-22T00:51:05.668818Z",
     "iopub.status.idle": "2022-09-22T00:51:05.670796Z",
     "shell.execute_reply": "2022-09-22T00:51:05.671304Z"
    },
    "papermill": {
     "duration": 0.040424,
     "end_time": "2022-09-22T00:51:05.671448",
     "exception": false,
     "start_time": "2022-09-22T00:51:05.631024",
     "status": "completed"
    },
    "tags": []
   },
   "outputs": [],
   "source": [
    "#hide\n",
    "LAST_DATE_I, dt_cols = get_dates(df)\n",
    "dt_today =dt_cols[LAST_DATE_I]\n",
    "# dt_5day = dt_cols[LAST_DATE_I - 5]\n",
    "dt_yday = dt_cols[LAST_DATE_I - 1]"
   ]
  },
  {
   "cell_type": "code",
   "execution_count": 11,
   "id": "restricted-sheriff",
   "metadata": {
    "execution": {
     "iopub.execute_input": "2022-09-22T00:51:05.739668Z",
     "iopub.status.busy": "2022-09-22T00:51:05.739063Z",
     "iopub.status.idle": "2022-09-22T00:51:05.744624Z",
     "shell.execute_reply": "2022-09-22T00:51:05.745212Z"
    },
    "papermill": {
     "duration": 0.044001,
     "end_time": "2022-09-22T00:51:05.745356",
     "exception": false,
     "start_time": "2022-09-22T00:51:05.701355",
     "status": "completed"
    },
    "tags": []
   },
   "outputs": [],
   "source": [
    "#hide\n",
    "dfc_cases = dft_cases.groupby(COL_REGION)[dt_today].sum()\n",
    "dfc_deaths = dft_deaths.groupby(COL_REGION)[dt_today].sum()\n",
    "# dfp_cases = dft_cases.groupby(COL_REGION)[dt_5day].sum()\n",
    "# dfp_deaths = dft_deaths.groupby(COL_REGION)[dt_5day].sum()\n",
    "dfp_cases = dft_cases.groupby(COL_REGION)[dt_yday].sum()\n",
    "dfp_deaths = dft_deaths.groupby(COL_REGION)[dt_yday].sum()"
   ]
  },
  {
   "cell_type": "code",
   "execution_count": 12,
   "id": "deluxe-hepatitis",
   "metadata": {
    "execution": {
     "iopub.execute_input": "2022-09-22T00:51:05.812850Z",
     "iopub.status.busy": "2022-09-22T00:51:05.812245Z",
     "iopub.status.idle": "2022-09-22T00:51:05.817168Z",
     "shell.execute_reply": "2022-09-22T00:51:05.817757Z"
    },
    "papermill": {
     "duration": 0.042291,
     "end_time": "2022-09-22T00:51:05.817898",
     "exception": false,
     "start_time": "2022-09-22T00:51:05.775607",
     "status": "completed"
    },
    "tags": []
   },
   "outputs": [],
   "source": [
    "#hide\n",
    "df_table = (pd.DataFrame(dict(Cases = dfc_cases, Deaths = dfc_deaths, PCases = dfp_cases, PDeaths = dfp_deaths))\n",
    "            .sort_values(by = ['Cases','Deaths'], ascending = [False, False])\n",
    "            .reset_index())"
   ]
  },
  {
   "cell_type": "code",
   "execution_count": 13,
   "id": "educational-chancellor",
   "metadata": {
    "execution": {
     "iopub.execute_input": "2022-09-22T00:51:05.897355Z",
     "iopub.status.busy": "2022-09-22T00:51:05.896686Z",
     "iopub.status.idle": "2022-09-22T00:51:05.905253Z",
     "shell.execute_reply": "2022-09-22T00:51:05.904737Z"
    },
    "papermill": {
     "duration": 0.057412,
     "end_time": "2022-09-22T00:51:05.905375",
     "exception": false,
     "start_time": "2022-09-22T00:51:05.847963",
     "status": "completed"
    },
    "tags": []
   },
   "outputs": [
    {
     "data": {
      "text/html": [
       "<div>\n",
       "<style scoped>\n",
       "    .dataframe tbody tr th:only-of-type {\n",
       "        vertical-align: middle;\n",
       "    }\n",
       "\n",
       "    .dataframe tbody tr th {\n",
       "        vertical-align: top;\n",
       "    }\n",
       "\n",
       "    .dataframe thead th {\n",
       "        text-align: right;\n",
       "    }\n",
       "</style>\n",
       "<table border=\"1\" class=\"dataframe\">\n",
       "  <thead>\n",
       "    <tr style=\"text-align: right;\">\n",
       "      <th></th>\n",
       "      <th>Country/Region</th>\n",
       "      <th>Cases</th>\n",
       "      <th>Deaths</th>\n",
       "      <th>PCases</th>\n",
       "      <th>PDeaths</th>\n",
       "      <th>Cases (+)</th>\n",
       "      <th>Deaths (+)</th>\n",
       "      <th>Fatality Rate</th>\n",
       "      <th>Continent</th>\n",
       "    </tr>\n",
       "  </thead>\n",
       "  <tbody>\n",
       "    <tr>\n",
       "      <th>0</th>\n",
       "      <td>US</td>\n",
       "      <td>95776309</td>\n",
       "      <td>1054266</td>\n",
       "      <td>95715589</td>\n",
       "      <td>1053845</td>\n",
       "      <td>60720</td>\n",
       "      <td>421</td>\n",
       "      <td>1.10</td>\n",
       "      <td>North America</td>\n",
       "    </tr>\n",
       "    <tr>\n",
       "      <th>1</th>\n",
       "      <td>India</td>\n",
       "      <td>44545011</td>\n",
       "      <td>528403</td>\n",
       "      <td>44543089</td>\n",
       "      <td>528370</td>\n",
       "      <td>1922</td>\n",
       "      <td>33</td>\n",
       "      <td>1.19</td>\n",
       "      <td>Asia</td>\n",
       "    </tr>\n",
       "    <tr>\n",
       "      <th>2</th>\n",
       "      <td>France</td>\n",
       "      <td>35190357</td>\n",
       "      <td>155831</td>\n",
       "      <td>35138509</td>\n",
       "      <td>155783</td>\n",
       "      <td>51848</td>\n",
       "      <td>48</td>\n",
       "      <td>0.44</td>\n",
       "      <td>Europe</td>\n",
       "    </tr>\n",
       "    <tr>\n",
       "      <th>3</th>\n",
       "      <td>Brazil</td>\n",
       "      <td>34592027</td>\n",
       "      <td>685428</td>\n",
       "      <td>34592163</td>\n",
       "      <td>685424</td>\n",
       "      <td>0</td>\n",
       "      <td>4</td>\n",
       "      <td>1.98</td>\n",
       "      <td>South America</td>\n",
       "    </tr>\n",
       "    <tr>\n",
       "      <th>4</th>\n",
       "      <td>Germany</td>\n",
       "      <td>32797308</td>\n",
       "      <td>149169</td>\n",
       "      <td>32740593</td>\n",
       "      <td>149079</td>\n",
       "      <td>56715</td>\n",
       "      <td>90</td>\n",
       "      <td>0.45</td>\n",
       "      <td>Europe</td>\n",
       "    </tr>\n",
       "  </tbody>\n",
       "</table>\n",
       "</div>"
      ],
      "text/plain": [
       "  Country/Region     Cases   Deaths    PCases  PDeaths  Cases (+)  Deaths (+)  \\\n",
       "0             US  95776309  1054266  95715589  1053845      60720         421   \n",
       "1          India  44545011   528403  44543089   528370       1922          33   \n",
       "2         France  35190357   155831  35138509   155783      51848          48   \n",
       "3         Brazil  34592027   685428  34592163   685424          0           4   \n",
       "4        Germany  32797308   149169  32740593   149079      56715          90   \n",
       "\n",
       "   Fatality Rate      Continent  \n",
       "0           1.10  North America  \n",
       "1           1.19           Asia  \n",
       "2           0.44         Europe  \n",
       "3           1.98  South America  \n",
       "4           0.45         Europe  "
      ]
     },
     "execution_count": 13,
     "metadata": {},
     "output_type": "execute_result"
    }
   ],
   "source": [
    "#hide\n",
    "for c in 'Cases, Deaths'.split(', '):\n",
    "    df_table[f'{c} (+)'] = (df_table[c] - df_table[f'P{c}']).clip(0)\n",
    "    #Clip ça veut dire, les chiffres negatif sont interdit\n",
    "df_table['Fatality Rate'] = (100* df_table['Deaths']/ df_table['Cases']).round(2)\n",
    "df_table['Continent'] = df_table['Country/Region'].map(mapping['map.continent'])\n",
    "df_table.head(5)"
   ]
  },
  {
   "cell_type": "code",
   "execution_count": 14,
   "id": "aboriginal-bulgaria",
   "metadata": {
    "execution": {
     "iopub.execute_input": "2022-09-22T00:51:05.972478Z",
     "iopub.status.busy": "2022-09-22T00:51:05.971866Z",
     "iopub.status.idle": "2022-09-22T00:51:05.975385Z",
     "shell.execute_reply": "2022-09-22T00:51:05.975866Z"
    },
    "papermill": {
     "duration": 0.039994,
     "end_time": "2022-09-22T00:51:05.976009",
     "exception": false,
     "start_time": "2022-09-22T00:51:05.936015",
     "status": "completed"
    },
    "tags": []
   },
   "outputs": [],
   "source": [
    "#hide\n",
    "#delete problematic countries from table\n",
    "df_table = df_table[~df_table['Country/Region'].isin(['Cape Verde', 'Cruise Ship', 'Kosovo'])]"
   ]
  },
  {
   "cell_type": "code",
   "execution_count": 15,
   "id": "fantastic-effect",
   "metadata": {
    "execution": {
     "iopub.execute_input": "2022-09-22T00:51:06.046207Z",
     "iopub.status.busy": "2022-09-22T00:51:06.045553Z",
     "iopub.status.idle": "2022-09-22T00:51:06.064042Z",
     "shell.execute_reply": "2022-09-22T00:51:06.063568Z"
    },
    "papermill": {
     "duration": 0.057727,
     "end_time": "2022-09-22T00:51:06.064169",
     "exception": false,
     "start_time": "2022-09-22T00:51:06.006442",
     "status": "completed"
    },
    "tags": []
   },
   "outputs": [
    {
     "data": {
      "text/html": [
       "<div>\n",
       "<style scoped>\n",
       "    .dataframe tbody tr th:only-of-type {\n",
       "        vertical-align: middle;\n",
       "    }\n",
       "\n",
       "    .dataframe tbody tr th {\n",
       "        vertical-align: top;\n",
       "    }\n",
       "\n",
       "    .dataframe thead th {\n",
       "        text-align: right;\n",
       "    }\n",
       "</style>\n",
       "<table border=\"1\" class=\"dataframe\">\n",
       "  <thead>\n",
       "    <tr style=\"text-align: right;\">\n",
       "      <th></th>\n",
       "      <th>Country/Region</th>\n",
       "      <th>Cases</th>\n",
       "      <th>Deaths</th>\n",
       "      <th>PCases</th>\n",
       "      <th>PDeaths</th>\n",
       "      <th>Cases (+)</th>\n",
       "      <th>Deaths (+)</th>\n",
       "      <th>Fatality Rate</th>\n",
       "      <th>Continent</th>\n",
       "    </tr>\n",
       "  </thead>\n",
       "  <tbody>\n",
       "    <tr>\n",
       "      <th>0</th>\n",
       "      <td>US</td>\n",
       "      <td>95776309</td>\n",
       "      <td>1054266</td>\n",
       "      <td>95715589</td>\n",
       "      <td>1053845</td>\n",
       "      <td>60720</td>\n",
       "      <td>421</td>\n",
       "      <td>1.1</td>\n",
       "      <td>North America</td>\n",
       "    </tr>\n",
       "    <tr>\n",
       "      <th>1</th>\n",
       "      <td>India</td>\n",
       "      <td>44545011</td>\n",
       "      <td>528403</td>\n",
       "      <td>44543089</td>\n",
       "      <td>528370</td>\n",
       "      <td>1922</td>\n",
       "      <td>33</td>\n",
       "      <td>1.2</td>\n",
       "      <td>Asia</td>\n",
       "    </tr>\n",
       "    <tr>\n",
       "      <th>2</th>\n",
       "      <td>France</td>\n",
       "      <td>35190357</td>\n",
       "      <td>155831</td>\n",
       "      <td>35138509</td>\n",
       "      <td>155783</td>\n",
       "      <td>51848</td>\n",
       "      <td>48</td>\n",
       "      <td>0.4</td>\n",
       "      <td>Europe</td>\n",
       "    </tr>\n",
       "    <tr>\n",
       "      <th>3</th>\n",
       "      <td>Brazil</td>\n",
       "      <td>34592027</td>\n",
       "      <td>685428</td>\n",
       "      <td>34592163</td>\n",
       "      <td>685424</td>\n",
       "      <td>0</td>\n",
       "      <td>4</td>\n",
       "      <td>2.0</td>\n",
       "      <td>South America</td>\n",
       "    </tr>\n",
       "    <tr>\n",
       "      <th>4</th>\n",
       "      <td>Germany</td>\n",
       "      <td>32797308</td>\n",
       "      <td>149169</td>\n",
       "      <td>32740593</td>\n",
       "      <td>149079</td>\n",
       "      <td>56715</td>\n",
       "      <td>90</td>\n",
       "      <td>0.5</td>\n",
       "      <td>Europe</td>\n",
       "    </tr>\n",
       "  </tbody>\n",
       "</table>\n",
       "</div>"
      ],
      "text/plain": [
       "  Country/Region     Cases   Deaths    PCases  PDeaths  Cases (+)  Deaths (+)  \\\n",
       "0             US  95776309  1054266  95715589  1053845      60720         421   \n",
       "1          India  44545011   528403  44543089   528370       1922          33   \n",
       "2         France  35190357   155831  35138509   155783      51848          48   \n",
       "3         Brazil  34592027   685428  34592163   685424          0           4   \n",
       "4        Germany  32797308   149169  32740593   149079      56715          90   \n",
       "\n",
       "   Fatality Rate      Continent  \n",
       "0            1.1  North America  \n",
       "1            1.2           Asia  \n",
       "2            0.4         Europe  \n",
       "3            2.0  South America  \n",
       "4            0.5         Europe  "
      ]
     },
     "execution_count": 15,
     "metadata": {},
     "output_type": "execute_result"
    }
   ],
   "source": [
    "#hide\n",
    "df_table = (pd.DataFrame(dict(Cases=dfc_cases, Deaths=dfc_deaths, PCases=dfp_cases, PDeaths=dfp_deaths))\n",
    "             .sort_values(by=['Cases', 'Deaths'], ascending=[False, False])\n",
    "             .reset_index())\n",
    "df_table.rename(columns={'index': 'Country/Region'}, inplace=True)\n",
    "for c in 'Cases, Deaths'.split(', '):\n",
    "    df_table[f'{c} (+)'] = (df_table[c] - df_table[f'P{c}']).clip(0)  # DATA BUG\n",
    "df_table['Fatality Rate'] = (100 * df_table['Deaths'] / df_table['Cases']).round(1)\n",
    "df_table['Continent'] = df_table['Country/Region'].map(mapping['map.continent'])\n",
    "df_table.head(5)"
   ]
  },
  {
   "cell_type": "code",
   "execution_count": 16,
   "id": "fewer-occasion",
   "metadata": {
    "execution": {
     "iopub.execute_input": "2022-09-22T00:51:06.134011Z",
     "iopub.status.busy": "2022-09-22T00:51:06.133388Z",
     "iopub.status.idle": "2022-09-22T00:51:06.136290Z",
     "shell.execute_reply": "2022-09-22T00:51:06.136773Z"
    },
    "papermill": {
     "duration": 0.041298,
     "end_time": "2022-09-22T00:51:06.136907",
     "exception": false,
     "start_time": "2022-09-22T00:51:06.095609",
     "status": "completed"
    },
    "tags": []
   },
   "outputs": [],
   "source": [
    "#hide\n",
    "#delete problematic countries from table\n",
    "df_table = df_table[~df_table['Country/Region'].isin(['Cape Verde', 'Cruise Ship', 'Kosovo'])]"
   ]
  },
  {
   "cell_type": "code",
   "execution_count": 17,
   "id": "related-center",
   "metadata": {
    "execution": {
     "iopub.execute_input": "2022-09-22T00:51:06.218715Z",
     "iopub.status.busy": "2022-09-22T00:51:06.218083Z",
     "iopub.status.idle": "2022-09-22T00:51:06.220512Z",
     "shell.execute_reply": "2022-09-22T00:51:06.220997Z"
    },
    "papermill": {
     "duration": 0.053002,
     "end_time": "2022-09-22T00:51:06.221157",
     "exception": false,
     "start_time": "2022-09-22T00:51:06.168155",
     "status": "completed"
    },
    "tags": []
   },
   "outputs": [],
   "source": [
    "#hide\n",
    "metrics = [df_table.columns[index] for index in [1,2,5,6]]\n",
    "# s_china = df_table[df_table['Country/Region'].eq('China')][metrics].sum().add_prefix('China ')\n",
    "s_us = df_table[df_table['Country/Region'].eq('US')][metrics].sum().add_prefix('US ')\n",
    "s_eu = df_table[df_table['Continent'].eq('Europe')][metrics].sum().add_prefix('EU ')\n",
    "s_ind = df_table[df_table['Country/Region'].eq('India')][metrics].sum().add_prefix('India ')\n",
    "summary = {'updated': pd.to_datetime(dt_today), 'since': pd.to_datetime(dt_yday)}\n",
    "summary = {'updated': pd.to_datetime(dt_today), 'since': pd.to_datetime(dt_yday)}\n",
    "summary = {**summary, **df_table[metrics].sum(), **s_ind, **s_us, **s_eu}"
   ]
  },
  {
   "cell_type": "code",
   "execution_count": 18,
   "id": "engaging-syndrome",
   "metadata": {
    "execution": {
     "iopub.execute_input": "2022-09-22T00:51:06.289419Z",
     "iopub.status.busy": "2022-09-22T00:51:06.288794Z",
     "iopub.status.idle": "2022-09-22T00:51:06.312188Z",
     "shell.execute_reply": "2022-09-22T00:51:06.311686Z"
    },
    "papermill": {
     "duration": 0.060053,
     "end_time": "2022-09-22T00:51:06.312319",
     "exception": false,
     "start_time": "2022-09-22T00:51:06.252266",
     "status": "completed"
    },
    "tags": []
   },
   "outputs": [],
   "source": [
    "#hide\n",
    "dft_ct_new_cases = dft_cases.groupby(COL_REGION)[dt_cols].sum().diff(axis=1).fillna(0).astype(int)"
   ]
  },
  {
   "cell_type": "code",
   "execution_count": 19,
   "id": "neutral-assignment",
   "metadata": {
    "execution": {
     "iopub.execute_input": "2022-09-22T00:51:06.382538Z",
     "iopub.status.busy": "2022-09-22T00:51:06.381895Z",
     "iopub.status.idle": "2022-09-22T00:51:06.384332Z",
     "shell.execute_reply": "2022-09-22T00:51:06.383756Z"
    },
    "papermill": {
     "duration": 0.041035,
     "end_time": "2022-09-22T00:51:06.384451",
     "exception": false,
     "start_time": "2022-09-22T00:51:06.343416",
     "status": "completed"
    },
    "tags": []
   },
   "outputs": [],
   "source": [
    "#hide\n",
    "everydaycases = dft_ct_new_cases.cumsum(axis=1)"
   ]
  },
  {
   "cell_type": "code",
   "execution_count": 20,
   "id": "parliamentary-calgary",
   "metadata": {
    "execution": {
     "iopub.execute_input": "2022-09-22T00:51:06.452422Z",
     "iopub.status.busy": "2022-09-22T00:51:06.451794Z",
     "iopub.status.idle": "2022-09-22T00:51:07.039028Z",
     "shell.execute_reply": "2022-09-22T00:51:07.038019Z"
    },
    "papermill": {
     "duration": 0.62324,
     "end_time": "2022-09-22T00:51:07.039175",
     "exception": false,
     "start_time": "2022-09-22T00:51:06.415935",
     "status": "completed"
    },
    "tags": []
   },
   "outputs": [],
   "source": [
    "#hide\n",
    "import pandas as pd\n",
    "import matplotlib.pyplot as plt\n",
    "import matplotlib.ticker as ticker\n",
    "import matplotlib.animation as animation\n",
    "from IPython.display import HTML"
   ]
  },
  {
   "cell_type": "code",
   "execution_count": 21,
   "id": "lasting-extraction",
   "metadata": {
    "execution": {
     "iopub.execute_input": "2022-09-22T00:51:07.109941Z",
     "iopub.status.busy": "2022-09-22T00:51:07.109308Z",
     "iopub.status.idle": "2022-09-22T00:51:07.117764Z",
     "shell.execute_reply": "2022-09-22T00:51:07.117282Z"
    },
    "papermill": {
     "duration": 0.046821,
     "end_time": "2022-09-22T00:51:07.117893",
     "exception": false,
     "start_time": "2022-09-22T00:51:07.071072",
     "status": "completed"
    },
    "tags": []
   },
   "outputs": [],
   "source": [
    "#hide\n",
    "t = everydaycases.stack()"
   ]
  },
  {
   "cell_type": "code",
   "execution_count": 22,
   "id": "premier-sleeve",
   "metadata": {
    "execution": {
     "iopub.execute_input": "2022-09-22T00:51:07.186538Z",
     "iopub.status.busy": "2022-09-22T00:51:07.185947Z",
     "iopub.status.idle": "2022-09-22T00:51:07.198713Z",
     "shell.execute_reply": "2022-09-22T00:51:07.199194Z"
    },
    "papermill": {
     "duration": 0.049309,
     "end_time": "2022-09-22T00:51:07.199338",
     "exception": false,
     "start_time": "2022-09-22T00:51:07.150029",
     "status": "completed"
    },
    "tags": []
   },
   "outputs": [],
   "source": [
    "#hide\n",
    "g = t.reset_index(['Country/Region'])"
   ]
  },
  {
   "cell_type": "code",
   "execution_count": 23,
   "id": "distributed-pittsburgh",
   "metadata": {
    "execution": {
     "iopub.execute_input": "2022-09-22T00:51:07.266783Z",
     "iopub.status.busy": "2022-09-22T00:51:07.266089Z",
     "iopub.status.idle": "2022-09-22T00:51:07.268657Z",
     "shell.execute_reply": "2022-09-22T00:51:07.268002Z"
    },
    "papermill": {
     "duration": 0.038339,
     "end_time": "2022-09-22T00:51:07.268787",
     "exception": false,
     "start_time": "2022-09-22T00:51:07.230448",
     "status": "completed"
    },
    "tags": []
   },
   "outputs": [],
   "source": [
    "#hide\n",
    "g.index.name = 'date'"
   ]
  },
  {
   "cell_type": "code",
   "execution_count": 24,
   "id": "naked-donor",
   "metadata": {
    "execution": {
     "iopub.execute_input": "2022-09-22T00:51:07.336291Z",
     "iopub.status.busy": "2022-09-22T00:51:07.335573Z",
     "iopub.status.idle": "2022-09-22T00:51:07.338192Z",
     "shell.execute_reply": "2022-09-22T00:51:07.337551Z"
    },
    "papermill": {
     "duration": 0.037951,
     "end_time": "2022-09-22T00:51:07.338324",
     "exception": false,
     "start_time": "2022-09-22T00:51:07.300373",
     "status": "completed"
    },
    "tags": []
   },
   "outputs": [],
   "source": [
    "# #hide\n",
    "# g = g.reset_index(['date'])"
   ]
  },
  {
   "cell_type": "code",
   "execution_count": 25,
   "id": "incomplete-mustang",
   "metadata": {
    "execution": {
     "iopub.execute_input": "2022-09-22T00:51:07.405885Z",
     "iopub.status.busy": "2022-09-22T00:51:07.405253Z",
     "iopub.status.idle": "2022-09-22T00:51:07.407346Z",
     "shell.execute_reply": "2022-09-22T00:51:07.407777Z"
    },
    "papermill": {
     "duration": 0.037812,
     "end_time": "2022-09-22T00:51:07.407924",
     "exception": false,
     "start_time": "2022-09-22T00:51:07.370112",
     "status": "completed"
    },
    "tags": []
   },
   "outputs": [],
   "source": [
    "#hide\n",
    "# g.head()"
   ]
  },
  {
   "cell_type": "code",
   "execution_count": 26,
   "id": "specific-kruger",
   "metadata": {
    "execution": {
     "iopub.execute_input": "2022-09-22T00:51:07.474834Z",
     "iopub.status.busy": "2022-09-22T00:51:07.474093Z",
     "iopub.status.idle": "2022-09-22T00:51:07.476755Z",
     "shell.execute_reply": "2022-09-22T00:51:07.476161Z"
    },
    "papermill": {
     "duration": 0.037663,
     "end_time": "2022-09-22T00:51:07.476883",
     "exception": false,
     "start_time": "2022-09-22T00:51:07.439220",
     "status": "completed"
    },
    "tags": []
   },
   "outputs": [],
   "source": [
    "#hide\n",
    "# g.columns = ['date','country','cases']"
   ]
  },
  {
   "cell_type": "code",
   "execution_count": 27,
   "id": "tender-conversion",
   "metadata": {
    "execution": {
     "iopub.execute_input": "2022-09-22T00:51:07.543376Z",
     "iopub.status.busy": "2022-09-22T00:51:07.542770Z",
     "iopub.status.idle": "2022-09-22T00:51:07.546251Z",
     "shell.execute_reply": "2022-09-22T00:51:07.546702Z"
    },
    "papermill": {
     "duration": 0.038811,
     "end_time": "2022-09-22T00:51:07.546842",
     "exception": false,
     "start_time": "2022-09-22T00:51:07.508031",
     "status": "completed"
    },
    "tags": []
   },
   "outputs": [],
   "source": [
    "#hide\n",
    "# g['continent'] = g.country"
   ]
  },
  {
   "cell_type": "code",
   "execution_count": 28,
   "id": "substantial-wilderness",
   "metadata": {
    "execution": {
     "iopub.execute_input": "2022-09-22T00:51:07.614331Z",
     "iopub.status.busy": "2022-09-22T00:51:07.613604Z",
     "iopub.status.idle": "2022-09-22T00:51:07.616125Z",
     "shell.execute_reply": "2022-09-22T00:51:07.615442Z"
    },
    "papermill": {
     "duration": 0.03798,
     "end_time": "2022-09-22T00:51:07.616257",
     "exception": false,
     "start_time": "2022-09-22T00:51:07.578277",
     "status": "completed"
    },
    "tags": []
   },
   "outputs": [],
   "source": [
    "#hide\n",
    "# cols = list(g.columns.values)"
   ]
  },
  {
   "cell_type": "code",
   "execution_count": 29,
   "id": "solved-farming",
   "metadata": {
    "execution": {
     "iopub.execute_input": "2022-09-22T00:51:07.683359Z",
     "iopub.status.busy": "2022-09-22T00:51:07.682745Z",
     "iopub.status.idle": "2022-09-22T00:51:07.686820Z",
     "shell.execute_reply": "2022-09-22T00:51:07.686245Z"
    },
    "papermill": {
     "duration": 0.039183,
     "end_time": "2022-09-22T00:51:07.686936",
     "exception": false,
     "start_time": "2022-09-22T00:51:07.647753",
     "status": "completed"
    },
    "tags": []
   },
   "outputs": [],
   "source": [
    "#hide\n",
    "# cols.insert(0, cols.pop())"
   ]
  },
  {
   "cell_type": "code",
   "execution_count": 30,
   "id": "executed-adoption",
   "metadata": {
    "execution": {
     "iopub.execute_input": "2022-09-22T00:51:07.753309Z",
     "iopub.status.busy": "2022-09-22T00:51:07.752675Z",
     "iopub.status.idle": "2022-09-22T00:51:07.755174Z",
     "shell.execute_reply": "2022-09-22T00:51:07.754699Z"
    },
    "papermill": {
     "duration": 0.037254,
     "end_time": "2022-09-22T00:51:07.755289",
     "exception": false,
     "start_time": "2022-09-22T00:51:07.718035",
     "status": "completed"
    },
    "tags": []
   },
   "outputs": [],
   "source": [
    "#hide\n",
    "# g = g[cols]"
   ]
  },
  {
   "cell_type": "code",
   "execution_count": 31,
   "id": "subject-dublin",
   "metadata": {
    "execution": {
     "iopub.execute_input": "2022-09-22T00:51:07.821894Z",
     "iopub.status.busy": "2022-09-22T00:51:07.821188Z",
     "iopub.status.idle": "2022-09-22T00:51:07.822947Z",
     "shell.execute_reply": "2022-09-22T00:51:07.823487Z"
    },
    "papermill": {
     "duration": 0.037416,
     "end_time": "2022-09-22T00:51:07.823638",
     "exception": false,
     "start_time": "2022-09-22T00:51:07.786222",
     "status": "completed"
    },
    "tags": []
   },
   "outputs": [],
   "source": [
    "#hide\n",
    "# g['continent'] = g['continent'].map(mapping['map.continent'])"
   ]
  },
  {
   "cell_type": "code",
   "execution_count": 32,
   "id": "freelance-scout",
   "metadata": {
    "execution": {
     "iopub.execute_input": "2022-09-22T00:51:07.890397Z",
     "iopub.status.busy": "2022-09-22T00:51:07.889690Z",
     "iopub.status.idle": "2022-09-22T00:51:07.891808Z",
     "shell.execute_reply": "2022-09-22T00:51:07.892294Z"
    },
    "papermill": {
     "duration": 0.037632,
     "end_time": "2022-09-22T00:51:07.892444",
     "exception": false,
     "start_time": "2022-09-22T00:51:07.854812",
     "status": "completed"
    },
    "tags": []
   },
   "outputs": [],
   "source": [
    "#hide\n",
    "# g.head()"
   ]
  },
  {
   "cell_type": "code",
   "execution_count": 33,
   "id": "limited-engine",
   "metadata": {
    "execution": {
     "iopub.execute_input": "2022-09-22T00:51:07.960293Z",
     "iopub.status.busy": "2022-09-22T00:51:07.959596Z",
     "iopub.status.idle": "2022-09-22T00:51:07.963282Z",
     "shell.execute_reply": "2022-09-22T00:51:07.963801Z"
    },
    "papermill": {
     "duration": 0.03947,
     "end_time": "2022-09-22T00:51:07.963950",
     "exception": false,
     "start_time": "2022-09-22T00:51:07.924480",
     "status": "completed"
    },
    "tags": []
   },
   "outputs": [],
   "source": [
    "# hide\n",
    "# g['date'] = g['date'].astype('datetime64[ns]')"
   ]
  },
  {
   "cell_type": "code",
   "execution_count": 34,
   "id": "sophisticated-supervisor",
   "metadata": {
    "execution": {
     "iopub.execute_input": "2022-09-22T00:51:08.031219Z",
     "iopub.status.busy": "2022-09-22T00:51:08.030509Z",
     "iopub.status.idle": "2022-09-22T00:51:08.033066Z",
     "shell.execute_reply": "2022-09-22T00:51:08.032524Z"
    },
    "papermill": {
     "duration": 0.037679,
     "end_time": "2022-09-22T00:51:08.033229",
     "exception": false,
     "start_time": "2022-09-22T00:51:07.995550",
     "status": "completed"
    },
    "tags": []
   },
   "outputs": [],
   "source": [
    "#hide\n",
    "# g['date'] = g.date.dt.dayofyear"
   ]
  },
  {
   "cell_type": "code",
   "execution_count": 35,
   "id": "inside-dubai",
   "metadata": {
    "execution": {
     "iopub.execute_input": "2022-09-22T00:51:08.100217Z",
     "iopub.status.busy": "2022-09-22T00:51:08.099608Z",
     "iopub.status.idle": "2022-09-22T00:51:08.102079Z",
     "shell.execute_reply": "2022-09-22T00:51:08.101480Z"
    },
    "papermill": {
     "duration": 0.037357,
     "end_time": "2022-09-22T00:51:08.102199",
     "exception": false,
     "start_time": "2022-09-22T00:51:08.064842",
     "status": "completed"
    },
    "tags": []
   },
   "outputs": [],
   "source": [
    "#hide\n",
    "# g = g.rename(columns= {'continent':'group','country':'name','cases':'value'})"
   ]
  },
  {
   "cell_type": "code",
   "execution_count": 36,
   "id": "fleet-motorcycle",
   "metadata": {
    "execution": {
     "iopub.execute_input": "2022-09-22T00:51:08.169554Z",
     "iopub.status.busy": "2022-09-22T00:51:08.168825Z",
     "iopub.status.idle": "2022-09-22T00:51:08.172539Z",
     "shell.execute_reply": "2022-09-22T00:51:08.172089Z"
    },
    "papermill": {
     "duration": 0.039292,
     "end_time": "2022-09-22T00:51:08.172658",
     "exception": false,
     "start_time": "2022-09-22T00:51:08.133366",
     "status": "completed"
    },
    "tags": []
   },
   "outputs": [],
   "source": [
    "#hide\n",
    "# cols = ['name','group','day','value']"
   ]
  },
  {
   "cell_type": "code",
   "execution_count": 37,
   "id": "continued-sleeping",
   "metadata": {
    "execution": {
     "iopub.execute_input": "2022-09-22T00:51:08.239282Z",
     "iopub.status.busy": "2022-09-22T00:51:08.238591Z",
     "iopub.status.idle": "2022-09-22T00:51:08.241160Z",
     "shell.execute_reply": "2022-09-22T00:51:08.240472Z"
    },
    "papermill": {
     "duration": 0.037577,
     "end_time": "2022-09-22T00:51:08.241294",
     "exception": false,
     "start_time": "2022-09-22T00:51:08.203717",
     "status": "completed"
    },
    "tags": []
   },
   "outputs": [],
   "source": [
    "#hide\n",
    "# g.rename(columns= {'date':'day'},inplace = True)"
   ]
  },
  {
   "cell_type": "code",
   "execution_count": 38,
   "id": "major-fight",
   "metadata": {
    "execution": {
     "iopub.execute_input": "2022-09-22T00:51:08.307996Z",
     "iopub.status.busy": "2022-09-22T00:51:08.307366Z",
     "iopub.status.idle": "2022-09-22T00:51:08.311130Z",
     "shell.execute_reply": "2022-09-22T00:51:08.311567Z"
    },
    "papermill": {
     "duration": 0.039045,
     "end_time": "2022-09-22T00:51:08.311712",
     "exception": false,
     "start_time": "2022-09-22T00:51:08.272667",
     "status": "completed"
    },
    "tags": []
   },
   "outputs": [],
   "source": [
    "#hide\n",
    "# g = g[cols]"
   ]
  },
  {
   "cell_type": "code",
   "execution_count": 39,
   "id": "structured-mobile",
   "metadata": {
    "execution": {
     "iopub.execute_input": "2022-09-22T00:51:08.378439Z",
     "iopub.status.busy": "2022-09-22T00:51:08.377781Z",
     "iopub.status.idle": "2022-09-22T00:51:08.380124Z",
     "shell.execute_reply": "2022-09-22T00:51:08.379549Z"
    },
    "papermill": {
     "duration": 0.037548,
     "end_time": "2022-09-22T00:51:08.380241",
     "exception": false,
     "start_time": "2022-09-22T00:51:08.342693",
     "status": "completed"
    },
    "tags": []
   },
   "outputs": [],
   "source": [
    "# #hide\n",
    "# g = g[g.group.notna()]"
   ]
  },
  {
   "cell_type": "code",
   "execution_count": 40,
   "id": "determined-closing",
   "metadata": {
    "execution": {
     "iopub.execute_input": "2022-09-22T00:51:08.447166Z",
     "iopub.status.busy": "2022-09-22T00:51:08.446559Z",
     "iopub.status.idle": "2022-09-22T00:51:08.448972Z",
     "shell.execute_reply": "2022-09-22T00:51:08.449427Z"
    },
    "papermill": {
     "duration": 0.037947,
     "end_time": "2022-09-22T00:51:08.449573",
     "exception": false,
     "start_time": "2022-09-22T00:51:08.411626",
     "status": "completed"
    },
    "tags": []
   },
   "outputs": [],
   "source": [
    "# #hide\n",
    "# colors = dict(zip(\n",
    "#     [\"Oceania\", \"Europe\", \"Asia\", \"South America\", \"Middle East\", \"North America\", \"Africa\"],\n",
    "#     [\"#adb0ff\", \"#ffb3ff\", \"#90d595\", \"#e48381\", \"#aafbff\", \"#f7bb5f\", \"#eafb50\"]\n",
    "# ))\n",
    "# group_lk = g.set_index('name')['group'].to_dict()"
   ]
  },
  {
   "cell_type": "code",
   "execution_count": null,
   "id": "gross-drinking",
   "metadata": {
    "papermill": {
     "duration": 0.030936,
     "end_time": "2022-09-22T00:51:08.511592",
     "exception": false,
     "start_time": "2022-09-22T00:51:08.480656",
     "status": "completed"
    },
    "tags": []
   },
   "outputs": [],
   "source": []
  },
  {
   "cell_type": "code",
   "execution_count": 41,
   "id": "subject-macintosh",
   "metadata": {
    "execution": {
     "iopub.execute_input": "2022-09-22T00:51:08.578763Z",
     "iopub.status.busy": "2022-09-22T00:51:08.578111Z",
     "iopub.status.idle": "2022-09-22T00:51:08.580508Z",
     "shell.execute_reply": "2022-09-22T00:51:08.580996Z"
    },
    "papermill": {
     "duration": 0.038513,
     "end_time": "2022-09-22T00:51:08.581168",
     "exception": false,
     "start_time": "2022-09-22T00:51:08.542655",
     "status": "completed"
    },
    "tags": []
   },
   "outputs": [],
   "source": [
    "# #hide\n",
    "# fig, ax = plt.subplots(figsize=(15, 8))\n",
    "\n",
    "# def draw_barchart(current_day):\n",
    "#     dff = g[g['day'].eq(current_day)].sort_values(by='value', ascending=True).tail(10)\n",
    "#     ax.clear()\n",
    "#     ax.barh(dff['name'], dff['value'], color=[colors[group_lk[x]] for x in dff['name']])\n",
    "#     dx = dff['value'].max() / 200\n",
    "    \n",
    "#     for i, (value, name) in enumerate(zip(dff['value'], dff['name'])):\n",
    "#         ax.text(value-dx, i,     name,           size=14, weight=600, ha='right', va='bottom')\n",
    "#         ax.text(value-dx, i-.25, group_lk[name], size=10, color='#444444', ha='right', va='baseline')\n",
    "#         ax.text(value+dx, i,     f'{value:,.0f}',  size=14, ha='left',  va='center')\n",
    "#     ax.text(1, 0.4, current_day, transform=ax.transAxes, color='#777777', size=46, ha='right', weight=800)\n",
    "#     ax.text(0, 1.06, 'Population (thousands)', transform=ax.transAxes, size=12, color='#777777')\n",
    "#     ax.xaxis.set_major_formatter(ticker.StrMethodFormatter('{x:,.0f}'))\n",
    "#     ax.xaxis.set_ticks_position('top')\n",
    "#     ax.tick_params(axis='x', colors='#777777', labelsize=12)\n",
    "#     ax.set_yticks([])\n",
    "#     ax.margins(0, 0.01)\n",
    "#     ax.grid(which='major', axis='x', linestyle='-')\n",
    "#     ax.set_axisbelow(True)\n",
    "    \n",
    "#     ax.text(0, 1.15, 'Coronavirus',\n",
    "#             transform=ax.transAxes, size=24, weight=600, ha='left', va='top')\n",
    "# #     ax.text(1, 0, 'by @pratapvardhan; credit @jburnmurdoch', transform=ax.transAxes, color='#777777', ha='right',\n",
    "# #             bbox=dict(facecolor='white', alpha=0.8, edgecolor='white'))\n",
    "#     plt.box(False)"
   ]
  },
  {
   "cell_type": "code",
   "execution_count": 42,
   "id": "sexual-wages",
   "metadata": {
    "execution": {
     "iopub.execute_input": "2022-09-22T00:51:08.647762Z",
     "iopub.status.busy": "2022-09-22T00:51:08.647139Z",
     "iopub.status.idle": "2022-09-22T00:51:08.650911Z",
     "shell.execute_reply": "2022-09-22T00:51:08.651333Z"
    },
    "papermill": {
     "duration": 0.03934,
     "end_time": "2022-09-22T00:51:08.651471",
     "exception": false,
     "start_time": "2022-09-22T00:51:08.612131",
     "status": "completed"
    },
    "tags": []
   },
   "outputs": [],
   "source": [
    "# #hide_input\n",
    "# fig, ax = plt.subplots(figsize=(15, 8))\n",
    "# animator = animation.FuncAnimation(fig, draw_barchart, frames=range(g.day.values.min(), g.day.values.max()))\n",
    "# HTML(animator.to_jshtml())\n",
    "# # or use animator.to_html5_video() or animator.save() "
   ]
  },
  {
   "cell_type": "code",
   "execution_count": null,
   "id": "australian-container",
   "metadata": {
    "papermill": {
     "duration": 0.031515,
     "end_time": "2022-09-22T00:51:08.714209",
     "exception": false,
     "start_time": "2022-09-22T00:51:08.682694",
     "status": "completed"
    },
    "tags": []
   },
   "outputs": [],
   "source": []
  },
  {
   "cell_type": "code",
   "execution_count": null,
   "id": "mediterranean-pontiac",
   "metadata": {
    "papermill": {
     "duration": 0.030915,
     "end_time": "2022-09-22T00:51:08.776006",
     "exception": false,
     "start_time": "2022-09-22T00:51:08.745091",
     "status": "completed"
    },
    "tags": []
   },
   "outputs": [],
   "source": []
  },
  {
   "cell_type": "code",
   "execution_count": null,
   "id": "aging-legislature",
   "metadata": {
    "papermill": {
     "duration": 0.030978,
     "end_time": "2022-09-22T00:51:08.838138",
     "exception": false,
     "start_time": "2022-09-22T00:51:08.807160",
     "status": "completed"
    },
    "tags": []
   },
   "outputs": [],
   "source": []
  }
 ],
 "metadata": {
  "kernelspec": {
   "display_name": "Python 3",
   "language": "python",
   "name": "python3"
  },
  "language_info": {
   "codemirror_mode": {
    "name": "ipython",
    "version": 3
   },
   "file_extension": ".py",
   "mimetype": "text/x-python",
   "name": "python",
   "nbconvert_exporter": "python",
   "pygments_lexer": "ipython3",
   "version": "3.6.15"
  },
  "papermill": {
   "duration": 6.46124,
   "end_time": "2022-09-22T00:51:09.288561",
   "environment_variables": {},
   "exception": null,
   "input_path": "2020-03-21-covid19exp.ipynb",
   "output_path": "2020-03-21-covid19exp.ipynb",
   "parameters": {},
   "start_time": "2022-09-22T00:51:02.827321",
   "version": "2.0.0"
  }
 },
 "nbformat": 4,
 "nbformat_minor": 5
}