{
 "cells": [
  {
   "cell_type": "markdown",
   "id": "muslim-click",
   "metadata": {
    "papermill": {
     "duration": 0.039103,
     "end_time": "2021-05-08T12:07:44.907812",
     "exception": false,
     "start_time": "2021-05-08T12:07:44.868709",
     "status": "completed"
    },
    "tags": []
   },
   "source": [
    "# COVID-19 Case Race\n",
    "> A race chart to see rising cases around the world\n",
    "\n",
    "- author: Hargun Oberoi\n",
    "- image: images/covid-overview.png\n",
    "- hide: false\n",
    "- badges: false"
   ]
  },
  {
   "cell_type": "code",
   "execution_count": 1,
   "id": "proof-material",
   "metadata": {
    "execution": {
     "iopub.execute_input": "2021-05-08T12:07:44.984936Z",
     "iopub.status.busy": "2021-05-08T12:07:44.984384Z",
     "iopub.status.idle": "2021-05-08T12:07:45.303042Z",
     "shell.execute_reply": "2021-05-08T12:07:45.302533Z"
    },
    "papermill": {
     "duration": 0.362311,
     "end_time": "2021-05-08T12:07:45.303181",
     "exception": false,
     "start_time": "2021-05-08T12:07:44.940870",
     "status": "completed"
    },
    "tags": []
   },
   "outputs": [],
   "source": [
    "#hide\n",
    "import numpy as np\n",
    "import pandas as pd\n",
    "from jinja2 import Template\n",
    "from IPython.display import HTML"
   ]
  },
  {
   "cell_type": "code",
   "execution_count": 2,
   "id": "developed-terminology",
   "metadata": {
    "execution": {
     "iopub.execute_input": "2021-05-08T12:07:45.371285Z",
     "iopub.status.busy": "2021-05-08T12:07:45.370718Z",
     "iopub.status.idle": "2021-05-08T12:07:45.375606Z",
     "shell.execute_reply": "2021-05-08T12:07:45.375148Z"
    },
    "papermill": {
     "duration": 0.041168,
     "end_time": "2021-05-08T12:07:45.375716",
     "exception": false,
     "start_time": "2021-05-08T12:07:45.334548",
     "status": "completed"
    },
    "tags": []
   },
   "outputs": [],
   "source": [
    "#hide\n",
    "\n",
    "# FETCH\n",
    "base_url = 'https://raw.githubusercontent.com/pratapvardhan/notebooks/master/covid19/'\n",
    "paths = {\n",
    "    'mapping': base_url + 'mapping_countries.csv',\n",
    "    'overview': base_url + 'overview.tpl'\n",
    "}"
   ]
  },
  {
   "cell_type": "code",
   "execution_count": 3,
   "id": "dynamic-saver",
   "metadata": {
    "execution": {
     "iopub.execute_input": "2021-05-08T12:07:45.451011Z",
     "iopub.status.busy": "2021-05-08T12:07:45.450480Z",
     "iopub.status.idle": "2021-05-08T12:07:45.453323Z",
     "shell.execute_reply": "2021-05-08T12:07:45.452841Z"
    },
    "papermill": {
     "duration": 0.046678,
     "end_time": "2021-05-08T12:07:45.453434",
     "exception": false,
     "start_time": "2021-05-08T12:07:45.406756",
     "status": "completed"
    },
    "tags": []
   },
   "outputs": [
    {
     "data": {
      "text/plain": [
       "'https://raw.githubusercontent.com/pratapvardhan/notebooks/master/covid19/mapping_countries.csv'"
      ]
     },
     "execution_count": 3,
     "metadata": {},
     "output_type": "execute_result"
    }
   ],
   "source": [
    "#hide\n",
    "paths['mapping']"
   ]
  },
  {
   "cell_type": "code",
   "execution_count": 4,
   "id": "urban-software",
   "metadata": {
    "execution": {
     "iopub.execute_input": "2021-05-08T12:07:45.518857Z",
     "iopub.status.busy": "2021-05-08T12:07:45.518367Z",
     "iopub.status.idle": "2021-05-08T12:07:45.520363Z",
     "shell.execute_reply": "2021-05-08T12:07:45.519975Z"
    },
    "papermill": {
     "duration": 0.035167,
     "end_time": "2021-05-08T12:07:45.520462",
     "exception": false,
     "start_time": "2021-05-08T12:07:45.485295",
     "status": "completed"
    },
    "tags": []
   },
   "outputs": [],
   "source": [
    "#hide\n",
    "def get_mappings(url):\n",
    "    df = pd.read_csv(url)\n",
    "    return {\n",
    "        'df': df,\n",
    "        'replace.country': dict(df.dropna(subset=['Name']).set_index('Country')['Name']),\n",
    "        'map.continent': dict(df.set_index('Name')['Continent'])\n",
    "    }"
   ]
  },
  {
   "cell_type": "code",
   "execution_count": 5,
   "id": "intimate-machinery",
   "metadata": {
    "execution": {
     "iopub.execute_input": "2021-05-08T12:07:45.589753Z",
     "iopub.status.busy": "2021-05-08T12:07:45.589190Z",
     "iopub.status.idle": "2021-05-08T12:07:45.634459Z",
     "shell.execute_reply": "2021-05-08T12:07:45.633618Z"
    },
    "papermill": {
     "duration": 0.081525,
     "end_time": "2021-05-08T12:07:45.634662",
     "exception": false,
     "start_time": "2021-05-08T12:07:45.553137",
     "status": "completed"
    },
    "tags": []
   },
   "outputs": [],
   "source": [
    "#hide\n",
    "mapping = get_mappings(paths['mapping'])"
   ]
  },
  {
   "cell_type": "code",
   "execution_count": 6,
   "id": "certified-tactics",
   "metadata": {
    "execution": {
     "iopub.execute_input": "2021-05-08T12:07:45.708055Z",
     "iopub.status.busy": "2021-05-08T12:07:45.707031Z",
     "iopub.status.idle": "2021-05-08T12:07:45.708631Z",
     "shell.execute_reply": "2021-05-08T12:07:45.709049Z"
    },
    "papermill": {
     "duration": 0.040884,
     "end_time": "2021-05-08T12:07:45.709173",
     "exception": false,
     "start_time": "2021-05-08T12:07:45.668289",
     "status": "completed"
    },
    "tags": []
   },
   "outputs": [],
   "source": [
    "#hide\n",
    "def get_template(path):\n",
    "    from urllib.parse import urlparse\n",
    "    if bool(urlparse(path).netloc):\n",
    "        from urllib.request import urlopen\n",
    "        return urlopen(path).read().decode('utf8')\n",
    "    return open(path).read()"
   ]
  },
  {
   "cell_type": "code",
   "execution_count": 7,
   "id": "realistic-blast",
   "metadata": {
    "execution": {
     "iopub.execute_input": "2021-05-08T12:07:45.778972Z",
     "iopub.status.busy": "2021-05-08T12:07:45.775018Z",
     "iopub.status.idle": "2021-05-08T12:07:45.781274Z",
     "shell.execute_reply": "2021-05-08T12:07:45.781795Z"
    },
    "papermill": {
     "duration": 0.041167,
     "end_time": "2021-05-08T12:07:45.781939",
     "exception": false,
     "start_time": "2021-05-08T12:07:45.740772",
     "status": "completed"
    },
    "tags": []
   },
   "outputs": [],
   "source": [
    "#hide\n",
    "def get_frame(name):\n",
    "    url = (\n",
    "        'https://raw.githubusercontent.com/CSSEGISandData/COVID-19/master/csse_covid_19_data/'\n",
    "        f'csse_covid_19_time_series/time_series_covid19_{name}_global.csv')\n",
    "    df = pd.read_csv(url)\n",
    "    # rename countries\n",
    "    df['Country/Region'] = df['Country/Region'].replace(mapping['replace.country'])\n",
    "    return df"
   ]
  },
  {
   "cell_type": "code",
   "execution_count": 8,
   "id": "affiliated-characterization",
   "metadata": {
    "execution": {
     "iopub.execute_input": "2021-05-08T12:07:45.850211Z",
     "iopub.status.busy": "2021-05-08T12:07:45.849712Z",
     "iopub.status.idle": "2021-05-08T12:07:45.851419Z",
     "shell.execute_reply": "2021-05-08T12:07:45.851818Z"
    },
    "papermill": {
     "duration": 0.038538,
     "end_time": "2021-05-08T12:07:45.851923",
     "exception": false,
     "start_time": "2021-05-08T12:07:45.813385",
     "status": "completed"
    },
    "tags": []
   },
   "outputs": [],
   "source": [
    "#hide\n",
    "def get_dates(df):\n",
    "    dt_cols = df.columns[~df.columns.isin(['Province/State', 'Country/Region', 'Lat', 'Long'])]\n",
    "    LAST_DATE_I = -1\n",
    "    # sometimes last column may be empty, then go backwards\n",
    "    for i in range(-1, -len(dt_cols), -1):\n",
    "        if not df[dt_cols[i]].fillna(0).eq(0).all():\n",
    "            LAST_DATE_I = i\n",
    "            break\n",
    "    return LAST_DATE_I, dt_cols"
   ]
  },
  {
   "cell_type": "code",
   "execution_count": 9,
   "id": "recent-optimization",
   "metadata": {
    "execution": {
     "iopub.execute_input": "2021-05-08T12:07:45.919813Z",
     "iopub.status.busy": "2021-05-08T12:07:45.919233Z",
     "iopub.status.idle": "2021-05-08T12:07:46.192502Z",
     "shell.execute_reply": "2021-05-08T12:07:46.191972Z"
    },
    "papermill": {
     "duration": 0.310289,
     "end_time": "2021-05-08T12:07:46.192635",
     "exception": false,
     "start_time": "2021-05-08T12:07:45.882346",
     "status": "completed"
    },
    "tags": []
   },
   "outputs": [],
   "source": [
    "#hide\n",
    "COL_REGION = 'Country/Region'\n",
    "# Confirmed, Recovered, Deaths\n",
    "df = get_frame('confirmed')\n",
    "# dft_: timeseries, dfc_: today country agg\n",
    "dft_cases = df\n",
    "dft_deaths = get_frame('deaths')\n",
    "dft_recovered = get_frame('recovered')\n",
    "LAST_DATE_I, dt_cols = get_dates(df)"
   ]
  },
  {
   "cell_type": "code",
   "execution_count": 10,
   "id": "absolute-copper",
   "metadata": {
    "execution": {
     "iopub.execute_input": "2021-05-08T12:07:46.259814Z",
     "iopub.status.busy": "2021-05-08T12:07:46.259183Z",
     "iopub.status.idle": "2021-05-08T12:07:46.264453Z",
     "shell.execute_reply": "2021-05-08T12:07:46.263408Z"
    },
    "papermill": {
     "duration": 0.041076,
     "end_time": "2021-05-08T12:07:46.264660",
     "exception": false,
     "start_time": "2021-05-08T12:07:46.223584",
     "status": "completed"
    },
    "tags": []
   },
   "outputs": [],
   "source": [
    "#hide\n",
    "LAST_DATE_I, dt_cols = get_dates(df)\n",
    "dt_today =dt_cols[LAST_DATE_I]\n",
    "# dt_5day = dt_cols[LAST_DATE_I - 5]\n",
    "dt_yday = dt_cols[LAST_DATE_I - 1]"
   ]
  },
  {
   "cell_type": "code",
   "execution_count": 11,
   "id": "restricted-sheriff",
   "metadata": {
    "execution": {
     "iopub.execute_input": "2021-05-08T12:07:46.338704Z",
     "iopub.status.busy": "2021-05-08T12:07:46.335456Z",
     "iopub.status.idle": "2021-05-08T12:07:46.344478Z",
     "shell.execute_reply": "2021-05-08T12:07:46.344018Z"
    },
    "papermill": {
     "duration": 0.047866,
     "end_time": "2021-05-08T12:07:46.344585",
     "exception": false,
     "start_time": "2021-05-08T12:07:46.296719",
     "status": "completed"
    },
    "tags": []
   },
   "outputs": [],
   "source": [
    "#hide\n",
    "dfc_cases = dft_cases.groupby(COL_REGION)[dt_today].sum()\n",
    "dfc_deaths = dft_deaths.groupby(COL_REGION)[dt_today].sum()\n",
    "# dfp_cases = dft_cases.groupby(COL_REGION)[dt_5day].sum()\n",
    "# dfp_deaths = dft_deaths.groupby(COL_REGION)[dt_5day].sum()\n",
    "dfp_cases = dft_cases.groupby(COL_REGION)[dt_yday].sum()\n",
    "dfp_deaths = dft_deaths.groupby(COL_REGION)[dt_yday].sum()"
   ]
  },
  {
   "cell_type": "code",
   "execution_count": 12,
   "id": "deluxe-hepatitis",
   "metadata": {
    "execution": {
     "iopub.execute_input": "2021-05-08T12:07:46.415157Z",
     "iopub.status.busy": "2021-05-08T12:07:46.413269Z",
     "iopub.status.idle": "2021-05-08T12:07:46.417989Z",
     "shell.execute_reply": "2021-05-08T12:07:46.418436Z"
    },
    "papermill": {
     "duration": 0.043304,
     "end_time": "2021-05-08T12:07:46.418555",
     "exception": false,
     "start_time": "2021-05-08T12:07:46.375251",
     "status": "completed"
    },
    "tags": []
   },
   "outputs": [],
   "source": [
    "#hide\n",
    "df_table = (pd.DataFrame(dict(Cases = dfc_cases, Deaths = dfc_deaths, PCases = dfp_cases, PDeaths = dfp_deaths))\n",
    "            .sort_values(by = ['Cases','Deaths'], ascending = [False, False])\n",
    "            .reset_index())"
   ]
  },
  {
   "cell_type": "code",
   "execution_count": 13,
   "id": "educational-chancellor",
   "metadata": {
    "execution": {
     "iopub.execute_input": "2021-05-08T12:07:46.502460Z",
     "iopub.status.busy": "2021-05-08T12:07:46.501917Z",
     "iopub.status.idle": "2021-05-08T12:07:46.508891Z",
     "shell.execute_reply": "2021-05-08T12:07:46.509336Z"
    },
    "papermill": {
     "duration": 0.059298,
     "end_time": "2021-05-08T12:07:46.509458",
     "exception": false,
     "start_time": "2021-05-08T12:07:46.450160",
     "status": "completed"
    },
    "tags": []
   },
   "outputs": [
    {
     "data": {
      "text/html": [
       "<div>\n",
       "<style scoped>\n",
       "    .dataframe tbody tr th:only-of-type {\n",
       "        vertical-align: middle;\n",
       "    }\n",
       "\n",
       "    .dataframe tbody tr th {\n",
       "        vertical-align: top;\n",
       "    }\n",
       "\n",
       "    .dataframe thead th {\n",
       "        text-align: right;\n",
       "    }\n",
       "</style>\n",
       "<table border=\"1\" class=\"dataframe\">\n",
       "  <thead>\n",
       "    <tr style=\"text-align: right;\">\n",
       "      <th></th>\n",
       "      <th>Country/Region</th>\n",
       "      <th>Cases</th>\n",
       "      <th>Deaths</th>\n",
       "      <th>PCases</th>\n",
       "      <th>PDeaths</th>\n",
       "      <th>Cases (+)</th>\n",
       "      <th>Deaths (+)</th>\n",
       "      <th>Fatality Rate</th>\n",
       "      <th>Continent</th>\n",
       "    </tr>\n",
       "  </thead>\n",
       "  <tbody>\n",
       "    <tr>\n",
       "      <th>0</th>\n",
       "      <td>US</td>\n",
       "      <td>32651865</td>\n",
       "      <td>580901</td>\n",
       "      <td>32604810</td>\n",
       "      <td>580064</td>\n",
       "      <td>47055</td>\n",
       "      <td>837</td>\n",
       "      <td>1.78</td>\n",
       "      <td>North America</td>\n",
       "    </tr>\n",
       "    <tr>\n",
       "      <th>1</th>\n",
       "      <td>India</td>\n",
       "      <td>21892676</td>\n",
       "      <td>238270</td>\n",
       "      <td>21491598</td>\n",
       "      <td>234083</td>\n",
       "      <td>401078</td>\n",
       "      <td>4187</td>\n",
       "      <td>1.09</td>\n",
       "      <td>Asia</td>\n",
       "    </tr>\n",
       "    <tr>\n",
       "      <th>2</th>\n",
       "      <td>Brazil</td>\n",
       "      <td>15082449</td>\n",
       "      <td>419114</td>\n",
       "      <td>15003563</td>\n",
       "      <td>416949</td>\n",
       "      <td>78886</td>\n",
       "      <td>2165</td>\n",
       "      <td>2.78</td>\n",
       "      <td>South America</td>\n",
       "    </tr>\n",
       "    <tr>\n",
       "      <th>3</th>\n",
       "      <td>France</td>\n",
       "      <td>5808421</td>\n",
       "      <td>106262</td>\n",
       "      <td>5789283</td>\n",
       "      <td>106011</td>\n",
       "      <td>19138</td>\n",
       "      <td>251</td>\n",
       "      <td>1.83</td>\n",
       "      <td>Europe</td>\n",
       "    </tr>\n",
       "    <tr>\n",
       "      <th>4</th>\n",
       "      <td>Turkey</td>\n",
       "      <td>4998089</td>\n",
       "      <td>42465</td>\n",
       "      <td>4977982</td>\n",
       "      <td>42187</td>\n",
       "      <td>20107</td>\n",
       "      <td>278</td>\n",
       "      <td>0.85</td>\n",
       "      <td>Asia</td>\n",
       "    </tr>\n",
       "  </tbody>\n",
       "</table>\n",
       "</div>"
      ],
      "text/plain": [
       "  Country/Region     Cases  Deaths    PCases  PDeaths  Cases (+)  Deaths (+)  \\\n",
       "0             US  32651865  580901  32604810   580064      47055         837   \n",
       "1          India  21892676  238270  21491598   234083     401078        4187   \n",
       "2         Brazil  15082449  419114  15003563   416949      78886        2165   \n",
       "3         France   5808421  106262   5789283   106011      19138         251   \n",
       "4         Turkey   4998089   42465   4977982    42187      20107         278   \n",
       "\n",
       "   Fatality Rate      Continent  \n",
       "0           1.78  North America  \n",
       "1           1.09           Asia  \n",
       "2           2.78  South America  \n",
       "3           1.83         Europe  \n",
       "4           0.85           Asia  "
      ]
     },
     "execution_count": 13,
     "metadata": {},
     "output_type": "execute_result"
    }
   ],
   "source": [
    "#hide\n",
    "for c in 'Cases, Deaths'.split(', '):\n",
    "    df_table[f'{c} (+)'] = (df_table[c] - df_table[f'P{c}']).clip(0)\n",
    "    #Clip ça veut dire, les chiffres negatif sont interdit\n",
    "df_table['Fatality Rate'] = (100* df_table['Deaths']/ df_table['Cases']).round(2)\n",
    "df_table['Continent'] = df_table['Country/Region'].map(mapping['map.continent'])\n",
    "df_table.head(5)"
   ]
  },
  {
   "cell_type": "code",
   "execution_count": 14,
   "id": "aboriginal-bulgaria",
   "metadata": {
    "execution": {
     "iopub.execute_input": "2021-05-08T12:07:46.580227Z",
     "iopub.status.busy": "2021-05-08T12:07:46.579230Z",
     "iopub.status.idle": "2021-05-08T12:07:46.580833Z",
     "shell.execute_reply": "2021-05-08T12:07:46.581285Z"
    },
    "papermill": {
     "duration": 0.040688,
     "end_time": "2021-05-08T12:07:46.581420",
     "exception": false,
     "start_time": "2021-05-08T12:07:46.540732",
     "status": "completed"
    },
    "tags": []
   },
   "outputs": [],
   "source": [
    "#hide\n",
    "#delete problematic countries from table\n",
    "df_table = df_table[~df_table['Country/Region'].isin(['Cape Verde', 'Cruise Ship', 'Kosovo'])]"
   ]
  },
  {
   "cell_type": "code",
   "execution_count": 15,
   "id": "fantastic-effect",
   "metadata": {
    "execution": {
     "iopub.execute_input": "2021-05-08T12:07:46.657423Z",
     "iopub.status.busy": "2021-05-08T12:07:46.656893Z",
     "iopub.status.idle": "2021-05-08T12:07:46.674320Z",
     "shell.execute_reply": "2021-05-08T12:07:46.674960Z"
    },
    "papermill": {
     "duration": 0.058877,
     "end_time": "2021-05-08T12:07:46.675127",
     "exception": false,
     "start_time": "2021-05-08T12:07:46.616250",
     "status": "completed"
    },
    "tags": []
   },
   "outputs": [
    {
     "data": {
      "text/html": [
       "<div>\n",
       "<style scoped>\n",
       "    .dataframe tbody tr th:only-of-type {\n",
       "        vertical-align: middle;\n",
       "    }\n",
       "\n",
       "    .dataframe tbody tr th {\n",
       "        vertical-align: top;\n",
       "    }\n",
       "\n",
       "    .dataframe thead th {\n",
       "        text-align: right;\n",
       "    }\n",
       "</style>\n",
       "<table border=\"1\" class=\"dataframe\">\n",
       "  <thead>\n",
       "    <tr style=\"text-align: right;\">\n",
       "      <th></th>\n",
       "      <th>Country/Region</th>\n",
       "      <th>Cases</th>\n",
       "      <th>Deaths</th>\n",
       "      <th>PCases</th>\n",
       "      <th>PDeaths</th>\n",
       "      <th>Cases (+)</th>\n",
       "      <th>Deaths (+)</th>\n",
       "      <th>Fatality Rate</th>\n",
       "      <th>Continent</th>\n",
       "    </tr>\n",
       "  </thead>\n",
       "  <tbody>\n",
       "    <tr>\n",
       "      <th>0</th>\n",
       "      <td>US</td>\n",
       "      <td>32651865</td>\n",
       "      <td>580901</td>\n",
       "      <td>32604810</td>\n",
       "      <td>580064</td>\n",
       "      <td>47055</td>\n",
       "      <td>837</td>\n",
       "      <td>1.8</td>\n",
       "      <td>North America</td>\n",
       "    </tr>\n",
       "    <tr>\n",
       "      <th>1</th>\n",
       "      <td>India</td>\n",
       "      <td>21892676</td>\n",
       "      <td>238270</td>\n",
       "      <td>21491598</td>\n",
       "      <td>234083</td>\n",
       "      <td>401078</td>\n",
       "      <td>4187</td>\n",
       "      <td>1.1</td>\n",
       "      <td>Asia</td>\n",
       "    </tr>\n",
       "    <tr>\n",
       "      <th>2</th>\n",
       "      <td>Brazil</td>\n",
       "      <td>15082449</td>\n",
       "      <td>419114</td>\n",
       "      <td>15003563</td>\n",
       "      <td>416949</td>\n",
       "      <td>78886</td>\n",
       "      <td>2165</td>\n",
       "      <td>2.8</td>\n",
       "      <td>South America</td>\n",
       "    </tr>\n",
       "    <tr>\n",
       "      <th>3</th>\n",
       "      <td>France</td>\n",
       "      <td>5808421</td>\n",
       "      <td>106262</td>\n",
       "      <td>5789283</td>\n",
       "      <td>106011</td>\n",
       "      <td>19138</td>\n",
       "      <td>251</td>\n",
       "      <td>1.8</td>\n",
       "      <td>Europe</td>\n",
       "    </tr>\n",
       "    <tr>\n",
       "      <th>4</th>\n",
       "      <td>Turkey</td>\n",
       "      <td>4998089</td>\n",
       "      <td>42465</td>\n",
       "      <td>4977982</td>\n",
       "      <td>42187</td>\n",
       "      <td>20107</td>\n",
       "      <td>278</td>\n",
       "      <td>0.8</td>\n",
       "      <td>Asia</td>\n",
       "    </tr>\n",
       "  </tbody>\n",
       "</table>\n",
       "</div>"
      ],
      "text/plain": [
       "  Country/Region     Cases  Deaths    PCases  PDeaths  Cases (+)  Deaths (+)  \\\n",
       "0             US  32651865  580901  32604810   580064      47055         837   \n",
       "1          India  21892676  238270  21491598   234083     401078        4187   \n",
       "2         Brazil  15082449  419114  15003563   416949      78886        2165   \n",
       "3         France   5808421  106262   5789283   106011      19138         251   \n",
       "4         Turkey   4998089   42465   4977982    42187      20107         278   \n",
       "\n",
       "   Fatality Rate      Continent  \n",
       "0            1.8  North America  \n",
       "1            1.1           Asia  \n",
       "2            2.8  South America  \n",
       "3            1.8         Europe  \n",
       "4            0.8           Asia  "
      ]
     },
     "execution_count": 15,
     "metadata": {},
     "output_type": "execute_result"
    }
   ],
   "source": [
    "#hide\n",
    "df_table = (pd.DataFrame(dict(Cases=dfc_cases, Deaths=dfc_deaths, PCases=dfp_cases, PDeaths=dfp_deaths))\n",
    "             .sort_values(by=['Cases', 'Deaths'], ascending=[False, False])\n",
    "             .reset_index())\n",
    "df_table.rename(columns={'index': 'Country/Region'}, inplace=True)\n",
    "for c in 'Cases, Deaths'.split(', '):\n",
    "    df_table[f'{c} (+)'] = (df_table[c] - df_table[f'P{c}']).clip(0)  # DATA BUG\n",
    "df_table['Fatality Rate'] = (100 * df_table['Deaths'] / df_table['Cases']).round(1)\n",
    "df_table['Continent'] = df_table['Country/Region'].map(mapping['map.continent'])\n",
    "df_table.head(5)"
   ]
  },
  {
   "cell_type": "code",
   "execution_count": 16,
   "id": "fewer-occasion",
   "metadata": {
    "execution": {
     "iopub.execute_input": "2021-05-08T12:07:46.750290Z",
     "iopub.status.busy": "2021-05-08T12:07:46.749756Z",
     "iopub.status.idle": "2021-05-08T12:07:46.752402Z",
     "shell.execute_reply": "2021-05-08T12:07:46.752977Z"
    },
    "papermill": {
     "duration": 0.041411,
     "end_time": "2021-05-08T12:07:46.753098",
     "exception": false,
     "start_time": "2021-05-08T12:07:46.711687",
     "status": "completed"
    },
    "tags": []
   },
   "outputs": [],
   "source": [
    "#hide\n",
    "#delete problematic countries from table\n",
    "df_table = df_table[~df_table['Country/Region'].isin(['Cape Verde', 'Cruise Ship', 'Kosovo'])]"
   ]
  },
  {
   "cell_type": "code",
   "execution_count": 17,
   "id": "related-center",
   "metadata": {
    "execution": {
     "iopub.execute_input": "2021-05-08T12:07:46.840720Z",
     "iopub.status.busy": "2021-05-08T12:07:46.840132Z",
     "iopub.status.idle": "2021-05-08T12:07:46.848629Z",
     "shell.execute_reply": "2021-05-08T12:07:46.848176Z"
    },
    "papermill": {
     "duration": 0.066323,
     "end_time": "2021-05-08T12:07:46.848736",
     "exception": false,
     "start_time": "2021-05-08T12:07:46.782413",
     "status": "completed"
    },
    "tags": []
   },
   "outputs": [],
   "source": [
    "#hide\n",
    "metrics = [df_table.columns[index] for index in [1,2,5,6]]\n",
    "# s_china = df_table[df_table['Country/Region'].eq('China')][metrics].sum().add_prefix('China ')\n",
    "s_us = df_table[df_table['Country/Region'].eq('US')][metrics].sum().add_prefix('US ')\n",
    "s_eu = df_table[df_table['Continent'].eq('Europe')][metrics].sum().add_prefix('EU ')\n",
    "s_ind = df_table[df_table['Country/Region'].eq('India')][metrics].sum().add_prefix('India ')\n",
    "summary = {'updated': pd.to_datetime(dt_today), 'since': pd.to_datetime(dt_yday)}\n",
    "summary = {'updated': pd.to_datetime(dt_today), 'since': pd.to_datetime(dt_yday)}\n",
    "summary = {**summary, **df_table[metrics].sum(), **s_ind, **s_us, **s_eu}"
   ]
  },
  {
   "cell_type": "code",
   "execution_count": 18,
   "id": "engaging-syndrome",
   "metadata": {
    "execution": {
     "iopub.execute_input": "2021-05-08T12:07:46.919316Z",
     "iopub.status.busy": "2021-05-08T12:07:46.918783Z",
     "iopub.status.idle": "2021-05-08T12:07:46.931504Z",
     "shell.execute_reply": "2021-05-08T12:07:46.931053Z"
    },
    "papermill": {
     "duration": 0.050948,
     "end_time": "2021-05-08T12:07:46.931613",
     "exception": false,
     "start_time": "2021-05-08T12:07:46.880665",
     "status": "completed"
    },
    "tags": []
   },
   "outputs": [],
   "source": [
    "#hide\n",
    "dft_ct_new_cases = dft_cases.groupby(COL_REGION)[dt_cols].sum().diff(axis=1).fillna(0).astype(int)"
   ]
  },
  {
   "cell_type": "code",
   "execution_count": 19,
   "id": "neutral-assignment",
   "metadata": {
    "execution": {
     "iopub.execute_input": "2021-05-08T12:07:47.003555Z",
     "iopub.status.busy": "2021-05-08T12:07:47.003019Z",
     "iopub.status.idle": "2021-05-08T12:07:47.005087Z",
     "shell.execute_reply": "2021-05-08T12:07:47.004628Z"
    },
    "papermill": {
     "duration": 0.040617,
     "end_time": "2021-05-08T12:07:47.005202",
     "exception": false,
     "start_time": "2021-05-08T12:07:46.964585",
     "status": "completed"
    },
    "tags": []
   },
   "outputs": [],
   "source": [
    "#hide\n",
    "everydaycases = dft_ct_new_cases.cumsum(axis=1)"
   ]
  },
  {
   "cell_type": "code",
   "execution_count": 20,
   "id": "parliamentary-calgary",
   "metadata": {
    "execution": {
     "iopub.execute_input": "2021-05-08T12:07:47.079386Z",
     "iopub.status.busy": "2021-05-08T12:07:47.078855Z",
     "iopub.status.idle": "2021-05-08T12:07:47.593278Z",
     "shell.execute_reply": "2021-05-08T12:07:47.594161Z"
    },
    "papermill": {
     "duration": 0.554914,
     "end_time": "2021-05-08T12:07:47.594417",
     "exception": false,
     "start_time": "2021-05-08T12:07:47.039503",
     "status": "completed"
    },
    "tags": []
   },
   "outputs": [],
   "source": [
    "#hide\n",
    "import pandas as pd\n",
    "import matplotlib.pyplot as plt\n",
    "import matplotlib.ticker as ticker\n",
    "import matplotlib.animation as animation\n",
    "from IPython.display import HTML"
   ]
  },
  {
   "cell_type": "code",
   "execution_count": 21,
   "id": "lasting-extraction",
   "metadata": {
    "execution": {
     "iopub.execute_input": "2021-05-08T12:07:47.667707Z",
     "iopub.status.busy": "2021-05-08T12:07:47.667149Z",
     "iopub.status.idle": "2021-05-08T12:07:47.672514Z",
     "shell.execute_reply": "2021-05-08T12:07:47.672083Z"
    },
    "papermill": {
     "duration": 0.043162,
     "end_time": "2021-05-08T12:07:47.672627",
     "exception": false,
     "start_time": "2021-05-08T12:07:47.629465",
     "status": "completed"
    },
    "tags": []
   },
   "outputs": [],
   "source": [
    "#hide\n",
    "t = everydaycases.stack()"
   ]
  },
  {
   "cell_type": "code",
   "execution_count": 22,
   "id": "premier-sleeve",
   "metadata": {
    "execution": {
     "iopub.execute_input": "2021-05-08T12:07:47.743974Z",
     "iopub.status.busy": "2021-05-08T12:07:47.742981Z",
     "iopub.status.idle": "2021-05-08T12:07:47.752200Z",
     "shell.execute_reply": "2021-05-08T12:07:47.751799Z"
    },
    "papermill": {
     "duration": 0.048144,
     "end_time": "2021-05-08T12:07:47.752297",
     "exception": false,
     "start_time": "2021-05-08T12:07:47.704153",
     "status": "completed"
    },
    "tags": []
   },
   "outputs": [],
   "source": [
    "#hide\n",
    "g = t.reset_index(['Country/Region'])"
   ]
  },
  {
   "cell_type": "code",
   "execution_count": 23,
   "id": "distributed-pittsburgh",
   "metadata": {
    "execution": {
     "iopub.execute_input": "2021-05-08T12:07:47.819998Z",
     "iopub.status.busy": "2021-05-08T12:07:47.819474Z",
     "iopub.status.idle": "2021-05-08T12:07:47.821187Z",
     "shell.execute_reply": "2021-05-08T12:07:47.821661Z"
    },
    "papermill": {
     "duration": 0.037857,
     "end_time": "2021-05-08T12:07:47.821787",
     "exception": false,
     "start_time": "2021-05-08T12:07:47.783930",
     "status": "completed"
    },
    "tags": []
   },
   "outputs": [],
   "source": [
    "#hide\n",
    "g.index.name = 'date'"
   ]
  },
  {
   "cell_type": "code",
   "execution_count": 24,
   "id": "naked-donor",
   "metadata": {
    "execution": {
     "iopub.execute_input": "2021-05-08T12:07:47.890407Z",
     "iopub.status.busy": "2021-05-08T12:07:47.889834Z",
     "iopub.status.idle": "2021-05-08T12:07:47.892048Z",
     "shell.execute_reply": "2021-05-08T12:07:47.891570Z"
    },
    "papermill": {
     "duration": 0.038382,
     "end_time": "2021-05-08T12:07:47.892161",
     "exception": false,
     "start_time": "2021-05-08T12:07:47.853779",
     "status": "completed"
    },
    "tags": []
   },
   "outputs": [],
   "source": [
    "# #hide\n",
    "# g = g.reset_index(['date'])"
   ]
  },
  {
   "cell_type": "code",
   "execution_count": 25,
   "id": "incomplete-mustang",
   "metadata": {
    "execution": {
     "iopub.execute_input": "2021-05-08T12:07:47.964038Z",
     "iopub.status.busy": "2021-05-08T12:07:47.963497Z",
     "iopub.status.idle": "2021-05-08T12:07:47.966022Z",
     "shell.execute_reply": "2021-05-08T12:07:47.966550Z"
    },
    "papermill": {
     "duration": 0.039871,
     "end_time": "2021-05-08T12:07:47.966687",
     "exception": false,
     "start_time": "2021-05-08T12:07:47.926816",
     "status": "completed"
    },
    "tags": []
   },
   "outputs": [],
   "source": [
    "#hide\n",
    "# g.head()"
   ]
  },
  {
   "cell_type": "code",
   "execution_count": 26,
   "id": "specific-kruger",
   "metadata": {
    "execution": {
     "iopub.execute_input": "2021-05-08T12:07:48.038037Z",
     "iopub.status.busy": "2021-05-08T12:07:48.037475Z",
     "iopub.status.idle": "2021-05-08T12:07:48.039032Z",
     "shell.execute_reply": "2021-05-08T12:07:48.039485Z"
    },
    "papermill": {
     "duration": 0.03844,
     "end_time": "2021-05-08T12:07:48.039616",
     "exception": false,
     "start_time": "2021-05-08T12:07:48.001176",
     "status": "completed"
    },
    "tags": []
   },
   "outputs": [],
   "source": [
    "#hide\n",
    "# g.columns = ['date','country','cases']"
   ]
  },
  {
   "cell_type": "code",
   "execution_count": 27,
   "id": "tender-conversion",
   "metadata": {
    "execution": {
     "iopub.execute_input": "2021-05-08T12:07:48.108166Z",
     "iopub.status.busy": "2021-05-08T12:07:48.107640Z",
     "iopub.status.idle": "2021-05-08T12:07:48.110266Z",
     "shell.execute_reply": "2021-05-08T12:07:48.110775Z"
    },
    "papermill": {
     "duration": 0.038373,
     "end_time": "2021-05-08T12:07:48.110897",
     "exception": false,
     "start_time": "2021-05-08T12:07:48.072524",
     "status": "completed"
    },
    "tags": []
   },
   "outputs": [],
   "source": [
    "#hide\n",
    "# g['continent'] = g.country"
   ]
  },
  {
   "cell_type": "code",
   "execution_count": 28,
   "id": "substantial-wilderness",
   "metadata": {
    "execution": {
     "iopub.execute_input": "2021-05-08T12:07:48.180341Z",
     "iopub.status.busy": "2021-05-08T12:07:48.179815Z",
     "iopub.status.idle": "2021-05-08T12:07:48.182187Z",
     "shell.execute_reply": "2021-05-08T12:07:48.182689Z"
    },
    "papermill": {
     "duration": 0.038972,
     "end_time": "2021-05-08T12:07:48.182810",
     "exception": false,
     "start_time": "2021-05-08T12:07:48.143838",
     "status": "completed"
    },
    "tags": []
   },
   "outputs": [],
   "source": [
    "#hide\n",
    "# cols = list(g.columns.values)"
   ]
  },
  {
   "cell_type": "code",
   "execution_count": 29,
   "id": "solved-farming",
   "metadata": {
    "execution": {
     "iopub.execute_input": "2021-05-08T12:07:48.251231Z",
     "iopub.status.busy": "2021-05-08T12:07:48.250447Z",
     "iopub.status.idle": "2021-05-08T12:07:48.252050Z",
     "shell.execute_reply": "2021-05-08T12:07:48.252667Z"
    },
    "papermill": {
     "duration": 0.039279,
     "end_time": "2021-05-08T12:07:48.252837",
     "exception": false,
     "start_time": "2021-05-08T12:07:48.213558",
     "status": "completed"
    },
    "tags": []
   },
   "outputs": [],
   "source": [
    "#hide\n",
    "# cols.insert(0, cols.pop())"
   ]
  },
  {
   "cell_type": "code",
   "execution_count": 30,
   "id": "executed-adoption",
   "metadata": {
    "execution": {
     "iopub.execute_input": "2021-05-08T12:07:48.321850Z",
     "iopub.status.busy": "2021-05-08T12:07:48.321247Z",
     "iopub.status.idle": "2021-05-08T12:07:48.323561Z",
     "shell.execute_reply": "2021-05-08T12:07:48.324102Z"
    },
    "papermill": {
     "duration": 0.039116,
     "end_time": "2021-05-08T12:07:48.324232",
     "exception": false,
     "start_time": "2021-05-08T12:07:48.285116",
     "status": "completed"
    },
    "tags": []
   },
   "outputs": [],
   "source": [
    "#hide\n",
    "# g = g[cols]"
   ]
  },
  {
   "cell_type": "code",
   "execution_count": 31,
   "id": "subject-dublin",
   "metadata": {
    "execution": {
     "iopub.execute_input": "2021-05-08T12:07:48.395357Z",
     "iopub.status.busy": "2021-05-08T12:07:48.394822Z",
     "iopub.status.idle": "2021-05-08T12:07:48.397292Z",
     "shell.execute_reply": "2021-05-08T12:07:48.397777Z"
    },
    "papermill": {
     "duration": 0.039797,
     "end_time": "2021-05-08T12:07:48.397906",
     "exception": false,
     "start_time": "2021-05-08T12:07:48.358109",
     "status": "completed"
    },
    "tags": []
   },
   "outputs": [],
   "source": [
    "#hide\n",
    "# g['continent'] = g['continent'].map(mapping['map.continent'])"
   ]
  },
  {
   "cell_type": "code",
   "execution_count": 32,
   "id": "freelance-scout",
   "metadata": {
    "execution": {
     "iopub.execute_input": "2021-05-08T12:07:48.470199Z",
     "iopub.status.busy": "2021-05-08T12:07:48.469658Z",
     "iopub.status.idle": "2021-05-08T12:07:48.472094Z",
     "shell.execute_reply": "2021-05-08T12:07:48.472602Z"
    },
    "papermill": {
     "duration": 0.041074,
     "end_time": "2021-05-08T12:07:48.472730",
     "exception": false,
     "start_time": "2021-05-08T12:07:48.431656",
     "status": "completed"
    },
    "tags": []
   },
   "outputs": [],
   "source": [
    "#hide\n",
    "# g.head()"
   ]
  },
  {
   "cell_type": "code",
   "execution_count": 33,
   "id": "limited-engine",
   "metadata": {
    "execution": {
     "iopub.execute_input": "2021-05-08T12:07:48.542694Z",
     "iopub.status.busy": "2021-05-08T12:07:48.541973Z",
     "iopub.status.idle": "2021-05-08T12:07:48.543422Z",
     "shell.execute_reply": "2021-05-08T12:07:48.544026Z"
    },
    "papermill": {
     "duration": 0.039153,
     "end_time": "2021-05-08T12:07:48.544187",
     "exception": false,
     "start_time": "2021-05-08T12:07:48.505034",
     "status": "completed"
    },
    "tags": []
   },
   "outputs": [],
   "source": [
    "# hide\n",
    "# g['date'] = g['date'].astype('datetime64[ns]')"
   ]
  },
  {
   "cell_type": "code",
   "execution_count": 34,
   "id": "sophisticated-supervisor",
   "metadata": {
    "execution": {
     "iopub.execute_input": "2021-05-08T12:07:48.612462Z",
     "iopub.status.busy": "2021-05-08T12:07:48.611997Z",
     "iopub.status.idle": "2021-05-08T12:07:48.614201Z",
     "shell.execute_reply": "2021-05-08T12:07:48.614712Z"
    },
    "papermill": {
     "duration": 0.037535,
     "end_time": "2021-05-08T12:07:48.614833",
     "exception": false,
     "start_time": "2021-05-08T12:07:48.577298",
     "status": "completed"
    },
    "tags": []
   },
   "outputs": [],
   "source": [
    "#hide\n",
    "# g['date'] = g.date.dt.dayofyear"
   ]
  },
  {
   "cell_type": "code",
   "execution_count": 35,
   "id": "inside-dubai",
   "metadata": {
    "execution": {
     "iopub.execute_input": "2021-05-08T12:07:48.681815Z",
     "iopub.status.busy": "2021-05-08T12:07:48.681258Z",
     "iopub.status.idle": "2021-05-08T12:07:48.683558Z",
     "shell.execute_reply": "2021-05-08T12:07:48.684065Z"
    },
    "papermill": {
     "duration": 0.038319,
     "end_time": "2021-05-08T12:07:48.684185",
     "exception": false,
     "start_time": "2021-05-08T12:07:48.645866",
     "status": "completed"
    },
    "tags": []
   },
   "outputs": [],
   "source": [
    "#hide\n",
    "# g = g.rename(columns= {'continent':'group','country':'name','cases':'value'})"
   ]
  },
  {
   "cell_type": "code",
   "execution_count": 36,
   "id": "fleet-motorcycle",
   "metadata": {
    "execution": {
     "iopub.execute_input": "2021-05-08T12:07:48.751429Z",
     "iopub.status.busy": "2021-05-08T12:07:48.750865Z",
     "iopub.status.idle": "2021-05-08T12:07:48.753481Z",
     "shell.execute_reply": "2021-05-08T12:07:48.753939Z"
    },
    "papermill": {
     "duration": 0.037385,
     "end_time": "2021-05-08T12:07:48.754059",
     "exception": false,
     "start_time": "2021-05-08T12:07:48.716674",
     "status": "completed"
    },
    "tags": []
   },
   "outputs": [],
   "source": [
    "#hide\n",
    "# cols = ['name','group','day','value']"
   ]
  },
  {
   "cell_type": "code",
   "execution_count": 37,
   "id": "continued-sleeping",
   "metadata": {
    "execution": {
     "iopub.execute_input": "2021-05-08T12:07:48.821098Z",
     "iopub.status.busy": "2021-05-08T12:07:48.820569Z",
     "iopub.status.idle": "2021-05-08T12:07:48.823262Z",
     "shell.execute_reply": "2021-05-08T12:07:48.823806Z"
    },
    "papermill": {
     "duration": 0.037971,
     "end_time": "2021-05-08T12:07:48.823933",
     "exception": false,
     "start_time": "2021-05-08T12:07:48.785962",
     "status": "completed"
    },
    "tags": []
   },
   "outputs": [],
   "source": [
    "#hide\n",
    "# g.rename(columns= {'date':'day'},inplace = True)"
   ]
  },
  {
   "cell_type": "code",
   "execution_count": 38,
   "id": "major-fight",
   "metadata": {
    "execution": {
     "iopub.execute_input": "2021-05-08T12:07:48.893802Z",
     "iopub.status.busy": "2021-05-08T12:07:48.893210Z",
     "iopub.status.idle": "2021-05-08T12:07:48.895604Z",
     "shell.execute_reply": "2021-05-08T12:07:48.896112Z"
    },
    "papermill": {
     "duration": 0.038823,
     "end_time": "2021-05-08T12:07:48.896228",
     "exception": false,
     "start_time": "2021-05-08T12:07:48.857405",
     "status": "completed"
    },
    "tags": []
   },
   "outputs": [],
   "source": [
    "#hide\n",
    "# g = g[cols]"
   ]
  },
  {
   "cell_type": "code",
   "execution_count": 39,
   "id": "structured-mobile",
   "metadata": {
    "execution": {
     "iopub.execute_input": "2021-05-08T12:07:48.966088Z",
     "iopub.status.busy": "2021-05-08T12:07:48.965547Z",
     "iopub.status.idle": "2021-05-08T12:07:48.968339Z",
     "shell.execute_reply": "2021-05-08T12:07:48.968794Z"
    },
    "papermill": {
     "duration": 0.040815,
     "end_time": "2021-05-08T12:07:48.968912",
     "exception": false,
     "start_time": "2021-05-08T12:07:48.928097",
     "status": "completed"
    },
    "tags": []
   },
   "outputs": [],
   "source": [
    "# #hide\n",
    "# g = g[g.group.notna()]"
   ]
  },
  {
   "cell_type": "code",
   "execution_count": 40,
   "id": "determined-closing",
   "metadata": {
    "execution": {
     "iopub.execute_input": "2021-05-08T12:07:49.039179Z",
     "iopub.status.busy": "2021-05-08T12:07:49.038590Z",
     "iopub.status.idle": "2021-05-08T12:07:49.041163Z",
     "shell.execute_reply": "2021-05-08T12:07:49.041590Z"
    },
    "papermill": {
     "duration": 0.039952,
     "end_time": "2021-05-08T12:07:49.041715",
     "exception": false,
     "start_time": "2021-05-08T12:07:49.001763",
     "status": "completed"
    },
    "tags": []
   },
   "outputs": [],
   "source": [
    "# #hide\n",
    "# colors = dict(zip(\n",
    "#     [\"Oceania\", \"Europe\", \"Asia\", \"South America\", \"Middle East\", \"North America\", \"Africa\"],\n",
    "#     [\"#adb0ff\", \"#ffb3ff\", \"#90d595\", \"#e48381\", \"#aafbff\", \"#f7bb5f\", \"#eafb50\"]\n",
    "# ))\n",
    "# group_lk = g.set_index('name')['group'].to_dict()"
   ]
  },
  {
   "cell_type": "code",
   "execution_count": null,
   "id": "gross-drinking",
   "metadata": {
    "papermill": {
     "duration": 0.030735,
     "end_time": "2021-05-08T12:07:49.105265",
     "exception": false,
     "start_time": "2021-05-08T12:07:49.074530",
     "status": "completed"
    },
    "tags": []
   },
   "outputs": [],
   "source": []
  },
  {
   "cell_type": "code",
   "execution_count": 41,
   "id": "subject-macintosh",
   "metadata": {
    "execution": {
     "iopub.execute_input": "2021-05-08T12:07:49.178031Z",
     "iopub.status.busy": "2021-05-08T12:07:49.177436Z",
     "iopub.status.idle": "2021-05-08T12:07:49.180207Z",
     "shell.execute_reply": "2021-05-08T12:07:49.180716Z"
    },
    "papermill": {
     "duration": 0.041437,
     "end_time": "2021-05-08T12:07:49.180838",
     "exception": false,
     "start_time": "2021-05-08T12:07:49.139401",
     "status": "completed"
    },
    "tags": []
   },
   "outputs": [],
   "source": [
    "# #hide\n",
    "# fig, ax = plt.subplots(figsize=(15, 8))\n",
    "\n",
    "# def draw_barchart(current_day):\n",
    "#     dff = g[g['day'].eq(current_day)].sort_values(by='value', ascending=True).tail(10)\n",
    "#     ax.clear()\n",
    "#     ax.barh(dff['name'], dff['value'], color=[colors[group_lk[x]] for x in dff['name']])\n",
    "#     dx = dff['value'].max() / 200\n",
    "    \n",
    "#     for i, (value, name) in enumerate(zip(dff['value'], dff['name'])):\n",
    "#         ax.text(value-dx, i,     name,           size=14, weight=600, ha='right', va='bottom')\n",
    "#         ax.text(value-dx, i-.25, group_lk[name], size=10, color='#444444', ha='right', va='baseline')\n",
    "#         ax.text(value+dx, i,     f'{value:,.0f}',  size=14, ha='left',  va='center')\n",
    "#     ax.text(1, 0.4, current_day, transform=ax.transAxes, color='#777777', size=46, ha='right', weight=800)\n",
    "#     ax.text(0, 1.06, 'Population (thousands)', transform=ax.transAxes, size=12, color='#777777')\n",
    "#     ax.xaxis.set_major_formatter(ticker.StrMethodFormatter('{x:,.0f}'))\n",
    "#     ax.xaxis.set_ticks_position('top')\n",
    "#     ax.tick_params(axis='x', colors='#777777', labelsize=12)\n",
    "#     ax.set_yticks([])\n",
    "#     ax.margins(0, 0.01)\n",
    "#     ax.grid(which='major', axis='x', linestyle='-')\n",
    "#     ax.set_axisbelow(True)\n",
    "    \n",
    "#     ax.text(0, 1.15, 'Coronavirus',\n",
    "#             transform=ax.transAxes, size=24, weight=600, ha='left', va='top')\n",
    "# #     ax.text(1, 0, 'by @pratapvardhan; credit @jburnmurdoch', transform=ax.transAxes, color='#777777', ha='right',\n",
    "# #             bbox=dict(facecolor='white', alpha=0.8, edgecolor='white'))\n",
    "#     plt.box(False)"
   ]
  },
  {
   "cell_type": "code",
   "execution_count": 42,
   "id": "sexual-wages",
   "metadata": {
    "execution": {
     "iopub.execute_input": "2021-05-08T12:07:49.245843Z",
     "iopub.status.busy": "2021-05-08T12:07:49.245333Z",
     "iopub.status.idle": "2021-05-08T12:07:49.248158Z",
     "shell.execute_reply": "2021-05-08T12:07:49.248646Z"
    },
    "papermill": {
     "duration": 0.03635,
     "end_time": "2021-05-08T12:07:49.248773",
     "exception": false,
     "start_time": "2021-05-08T12:07:49.212423",
     "status": "completed"
    },
    "tags": []
   },
   "outputs": [],
   "source": [
    "# #hide_input\n",
    "# fig, ax = plt.subplots(figsize=(15, 8))\n",
    "# animator = animation.FuncAnimation(fig, draw_barchart, frames=range(g.day.values.min(), g.day.values.max()))\n",
    "# HTML(animator.to_jshtml())\n",
    "# # or use animator.to_html5_video() or animator.save() "
   ]
  },
  {
   "cell_type": "code",
   "execution_count": null,
   "id": "australian-container",
   "metadata": {
    "papermill": {
     "duration": 0.030439,
     "end_time": "2021-05-08T12:07:49.312572",
     "exception": false,
     "start_time": "2021-05-08T12:07:49.282133",
     "status": "completed"
    },
    "tags": []
   },
   "outputs": [],
   "source": []
  },
  {
   "cell_type": "code",
   "execution_count": null,
   "id": "mediterranean-pontiac",
   "metadata": {
    "papermill": {
     "duration": 0.033459,
     "end_time": "2021-05-08T12:07:49.378787",
     "exception": false,
     "start_time": "2021-05-08T12:07:49.345328",
     "status": "completed"
    },
    "tags": []
   },
   "outputs": [],
   "source": []
  },
  {
   "cell_type": "code",
   "execution_count": null,
   "id": "aging-legislature",
   "metadata": {
    "papermill": {
     "duration": 0.033,
     "end_time": "2021-05-08T12:07:49.445936",
     "exception": false,
     "start_time": "2021-05-08T12:07:49.412936",
     "status": "completed"
    },
    "tags": []
   },
   "outputs": [],
   "source": []
  }
 ],
 "metadata": {
  "kernelspec": {
   "display_name": "Python 3",
   "language": "python",
   "name": "python3"
  },
  "language_info": {
   "codemirror_mode": {
    "name": "ipython",
    "version": 3
   },
   "file_extension": ".py",
   "mimetype": "text/x-python",
   "name": "python",
   "nbconvert_exporter": "python",
   "pygments_lexer": "ipython3",
   "version": "3.6.13"
  },
  "papermill": {
   "duration": 5.992052,
   "end_time": "2021-05-08T12:07:49.787996",
   "environment_variables": {},
   "exception": null,
   "input_path": "2020-03-21-covid19exp.ipynb",
   "output_path": "2020-03-21-covid19exp.ipynb",
   "parameters": {},
   "start_time": "2021-05-08T12:07:43.795944",
   "version": "2.0.0"
  }
 },
 "nbformat": 4,
 "nbformat_minor": 5
}