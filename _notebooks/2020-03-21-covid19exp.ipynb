{
 "cells": [
  {
   "cell_type": "markdown",
   "id": "muslim-click",
   "metadata": {
    "papermill": {
     "duration": 0.043811,
     "end_time": "2021-07-26T12:10:22.406119",
     "exception": false,
     "start_time": "2021-07-26T12:10:22.362308",
     "status": "completed"
    },
    "tags": []
   },
   "source": [
    "# COVID-19 Case Race\n",
    "> A race chart to see rising cases around the world\n",
    "\n",
    "- author: Hargun Oberoi\n",
    "- image: images/covid-overview.png\n",
    "- hide: false\n",
    "- badges: false"
   ]
  },
  {
   "cell_type": "code",
   "execution_count": 1,
   "id": "proof-material",
   "metadata": {
    "execution": {
     "iopub.execute_input": "2021-07-26T12:10:22.494935Z",
     "iopub.status.busy": "2021-07-26T12:10:22.494181Z",
     "iopub.status.idle": "2021-07-26T12:10:22.884508Z",
     "shell.execute_reply": "2021-07-26T12:10:22.883539Z"
    },
    "papermill": {
     "duration": 0.439476,
     "end_time": "2021-07-26T12:10:22.884661",
     "exception": false,
     "start_time": "2021-07-26T12:10:22.445185",
     "status": "completed"
    },
    "tags": []
   },
   "outputs": [],
   "source": [
    "#hide\n",
    "import numpy as np\n",
    "import pandas as pd\n",
    "from jinja2 import Template\n",
    "from IPython.display import HTML"
   ]
  },
  {
   "cell_type": "code",
   "execution_count": 2,
   "id": "developed-terminology",
   "metadata": {
    "execution": {
     "iopub.execute_input": "2021-07-26T12:10:22.968008Z",
     "iopub.status.busy": "2021-07-26T12:10:22.967375Z",
     "iopub.status.idle": "2021-07-26T12:10:22.969055Z",
     "shell.execute_reply": "2021-07-26T12:10:22.969610Z"
    },
    "papermill": {
     "duration": 0.046379,
     "end_time": "2021-07-26T12:10:22.969763",
     "exception": false,
     "start_time": "2021-07-26T12:10:22.923384",
     "status": "completed"
    },
    "tags": []
   },
   "outputs": [],
   "source": [
    "#hide\n",
    "\n",
    "# FETCH\n",
    "base_url = 'https://raw.githubusercontent.com/pratapvardhan/notebooks/master/covid19/'\n",
    "paths = {\n",
    "    'mapping': base_url + 'mapping_countries.csv',\n",
    "    'overview': base_url + 'overview.tpl'\n",
    "}"
   ]
  },
  {
   "cell_type": "code",
   "execution_count": 3,
   "id": "dynamic-saver",
   "metadata": {
    "execution": {
     "iopub.execute_input": "2021-07-26T12:10:23.060829Z",
     "iopub.status.busy": "2021-07-26T12:10:23.060164Z",
     "iopub.status.idle": "2021-07-26T12:10:23.062817Z",
     "shell.execute_reply": "2021-07-26T12:10:23.063445Z"
    },
    "papermill": {
     "duration": 0.054468,
     "end_time": "2021-07-26T12:10:23.063583",
     "exception": false,
     "start_time": "2021-07-26T12:10:23.009115",
     "status": "completed"
    },
    "tags": []
   },
   "outputs": [
    {
     "data": {
      "text/plain": [
       "'https://raw.githubusercontent.com/pratapvardhan/notebooks/master/covid19/mapping_countries.csv'"
      ]
     },
     "execution_count": 3,
     "metadata": {},
     "output_type": "execute_result"
    }
   ],
   "source": [
    "#hide\n",
    "paths['mapping']"
   ]
  },
  {
   "cell_type": "code",
   "execution_count": 4,
   "id": "urban-software",
   "metadata": {
    "execution": {
     "iopub.execute_input": "2021-07-26T12:10:23.154766Z",
     "iopub.status.busy": "2021-07-26T12:10:23.154062Z",
     "iopub.status.idle": "2021-07-26T12:10:23.156715Z",
     "shell.execute_reply": "2021-07-26T12:10:23.156044Z"
    },
    "papermill": {
     "duration": 0.051185,
     "end_time": "2021-07-26T12:10:23.156857",
     "exception": false,
     "start_time": "2021-07-26T12:10:23.105672",
     "status": "completed"
    },
    "tags": []
   },
   "outputs": [],
   "source": [
    "#hide\n",
    "def get_mappings(url):\n",
    "    df = pd.read_csv(url)\n",
    "    return {\n",
    "        'df': df,\n",
    "        'replace.country': dict(df.dropna(subset=['Name']).set_index('Country')['Name']),\n",
    "        'map.continent': dict(df.set_index('Name')['Continent'])\n",
    "    }"
   ]
  },
  {
   "cell_type": "code",
   "execution_count": 5,
   "id": "intimate-machinery",
   "metadata": {
    "execution": {
     "iopub.execute_input": "2021-07-26T12:10:23.245687Z",
     "iopub.status.busy": "2021-07-26T12:10:23.244906Z",
     "iopub.status.idle": "2021-07-26T12:10:23.284576Z",
     "shell.execute_reply": "2021-07-26T12:10:23.285133Z"
    },
    "papermill": {
     "duration": 0.084768,
     "end_time": "2021-07-26T12:10:23.285339",
     "exception": false,
     "start_time": "2021-07-26T12:10:23.200571",
     "status": "completed"
    },
    "tags": []
   },
   "outputs": [],
   "source": [
    "#hide\n",
    "mapping = get_mappings(paths['mapping'])"
   ]
  },
  {
   "cell_type": "code",
   "execution_count": 6,
   "id": "certified-tactics",
   "metadata": {
    "execution": {
     "iopub.execute_input": "2021-07-26T12:10:23.362843Z",
     "iopub.status.busy": "2021-07-26T12:10:23.362004Z",
     "iopub.status.idle": "2021-07-26T12:10:23.364755Z",
     "shell.execute_reply": "2021-07-26T12:10:23.364253Z"
    },
    "papermill": {
     "duration": 0.044399,
     "end_time": "2021-07-26T12:10:23.364889",
     "exception": false,
     "start_time": "2021-07-26T12:10:23.320490",
     "status": "completed"
    },
    "tags": []
   },
   "outputs": [],
   "source": [
    "#hide\n",
    "def get_template(path):\n",
    "    from urllib.parse import urlparse\n",
    "    if bool(urlparse(path).netloc):\n",
    "        from urllib.request import urlopen\n",
    "        return urlopen(path).read().decode('utf8')\n",
    "    return open(path).read()"
   ]
  },
  {
   "cell_type": "code",
   "execution_count": 7,
   "id": "realistic-blast",
   "metadata": {
    "execution": {
     "iopub.execute_input": "2021-07-26T12:10:23.448958Z",
     "iopub.status.busy": "2021-07-26T12:10:23.448310Z",
     "iopub.status.idle": "2021-07-26T12:10:23.449855Z",
     "shell.execute_reply": "2021-07-26T12:10:23.450447Z"
    },
    "papermill": {
     "duration": 0.046803,
     "end_time": "2021-07-26T12:10:23.450585",
     "exception": false,
     "start_time": "2021-07-26T12:10:23.403782",
     "status": "completed"
    },
    "tags": []
   },
   "outputs": [],
   "source": [
    "#hide\n",
    "def get_frame(name):\n",
    "    url = (\n",
    "        'https://raw.githubusercontent.com/CSSEGISandData/COVID-19/master/csse_covid_19_data/'\n",
    "        f'csse_covid_19_time_series/time_series_covid19_{name}_global.csv')\n",
    "    df = pd.read_csv(url)\n",
    "    # rename countries\n",
    "    df['Country/Region'] = df['Country/Region'].replace(mapping['replace.country'])\n",
    "    return df"
   ]
  },
  {
   "cell_type": "code",
   "execution_count": 8,
   "id": "affiliated-characterization",
   "metadata": {
    "execution": {
     "iopub.execute_input": "2021-07-26T12:10:23.527314Z",
     "iopub.status.busy": "2021-07-26T12:10:23.526598Z",
     "iopub.status.idle": "2021-07-26T12:10:23.529054Z",
     "shell.execute_reply": "2021-07-26T12:10:23.528419Z"
    },
    "papermill": {
     "duration": 0.042832,
     "end_time": "2021-07-26T12:10:23.529172",
     "exception": false,
     "start_time": "2021-07-26T12:10:23.486340",
     "status": "completed"
    },
    "tags": []
   },
   "outputs": [],
   "source": [
    "#hide\n",
    "def get_dates(df):\n",
    "    dt_cols = df.columns[~df.columns.isin(['Province/State', 'Country/Region', 'Lat', 'Long'])]\n",
    "    LAST_DATE_I = -1\n",
    "    # sometimes last column may be empty, then go backwards\n",
    "    for i in range(-1, -len(dt_cols), -1):\n",
    "        if not df[dt_cols[i]].fillna(0).eq(0).all():\n",
    "            LAST_DATE_I = i\n",
    "            break\n",
    "    return LAST_DATE_I, dt_cols"
   ]
  },
  {
   "cell_type": "code",
   "execution_count": 9,
   "id": "recent-optimization",
   "metadata": {
    "execution": {
     "iopub.execute_input": "2021-07-26T12:10:23.610289Z",
     "iopub.status.busy": "2021-07-26T12:10:23.609535Z",
     "iopub.status.idle": "2021-07-26T12:10:24.009682Z",
     "shell.execute_reply": "2021-07-26T12:10:24.009144Z"
    },
    "papermill": {
     "duration": 0.445585,
     "end_time": "2021-07-26T12:10:24.009842",
     "exception": false,
     "start_time": "2021-07-26T12:10:23.564257",
     "status": "completed"
    },
    "tags": []
   },
   "outputs": [],
   "source": [
    "#hide\n",
    "COL_REGION = 'Country/Region'\n",
    "# Confirmed, Recovered, Deaths\n",
    "df = get_frame('confirmed')\n",
    "# dft_: timeseries, dfc_: today country agg\n",
    "dft_cases = df\n",
    "dft_deaths = get_frame('deaths')\n",
    "dft_recovered = get_frame('recovered')\n",
    "LAST_DATE_I, dt_cols = get_dates(df)"
   ]
  },
  {
   "cell_type": "code",
   "execution_count": 10,
   "id": "absolute-copper",
   "metadata": {
    "execution": {
     "iopub.execute_input": "2021-07-26T12:10:24.097851Z",
     "iopub.status.busy": "2021-07-26T12:10:24.097189Z",
     "iopub.status.idle": "2021-07-26T12:10:24.101324Z",
     "shell.execute_reply": "2021-07-26T12:10:24.100709Z"
    },
    "papermill": {
     "duration": 0.051907,
     "end_time": "2021-07-26T12:10:24.101471",
     "exception": false,
     "start_time": "2021-07-26T12:10:24.049564",
     "status": "completed"
    },
    "tags": []
   },
   "outputs": [],
   "source": [
    "#hide\n",
    "LAST_DATE_I, dt_cols = get_dates(df)\n",
    "dt_today =dt_cols[LAST_DATE_I]\n",
    "# dt_5day = dt_cols[LAST_DATE_I - 5]\n",
    "dt_yday = dt_cols[LAST_DATE_I - 1]"
   ]
  },
  {
   "cell_type": "code",
   "execution_count": 11,
   "id": "restricted-sheriff",
   "metadata": {
    "execution": {
     "iopub.execute_input": "2021-07-26T12:10:24.194639Z",
     "iopub.status.busy": "2021-07-26T12:10:24.193954Z",
     "iopub.status.idle": "2021-07-26T12:10:24.203393Z",
     "shell.execute_reply": "2021-07-26T12:10:24.202764Z"
    },
    "papermill": {
     "duration": 0.060139,
     "end_time": "2021-07-26T12:10:24.203558",
     "exception": false,
     "start_time": "2021-07-26T12:10:24.143419",
     "status": "completed"
    },
    "tags": []
   },
   "outputs": [],
   "source": [
    "#hide\n",
    "dfc_cases = dft_cases.groupby(COL_REGION)[dt_today].sum()\n",
    "dfc_deaths = dft_deaths.groupby(COL_REGION)[dt_today].sum()\n",
    "# dfp_cases = dft_cases.groupby(COL_REGION)[dt_5day].sum()\n",
    "# dfp_deaths = dft_deaths.groupby(COL_REGION)[dt_5day].sum()\n",
    "dfp_cases = dft_cases.groupby(COL_REGION)[dt_yday].sum()\n",
    "dfp_deaths = dft_deaths.groupby(COL_REGION)[dt_yday].sum()"
   ]
  },
  {
   "cell_type": "code",
   "execution_count": 12,
   "id": "deluxe-hepatitis",
   "metadata": {
    "execution": {
     "iopub.execute_input": "2021-07-26T12:10:24.290465Z",
     "iopub.status.busy": "2021-07-26T12:10:24.289785Z",
     "iopub.status.idle": "2021-07-26T12:10:24.295298Z",
     "shell.execute_reply": "2021-07-26T12:10:24.294685Z"
    },
    "papermill": {
     "duration": 0.051836,
     "end_time": "2021-07-26T12:10:24.295436",
     "exception": false,
     "start_time": "2021-07-26T12:10:24.243600",
     "status": "completed"
    },
    "tags": []
   },
   "outputs": [],
   "source": [
    "#hide\n",
    "df_table = (pd.DataFrame(dict(Cases = dfc_cases, Deaths = dfc_deaths, PCases = dfp_cases, PDeaths = dfp_deaths))\n",
    "            .sort_values(by = ['Cases','Deaths'], ascending = [False, False])\n",
    "            .reset_index())"
   ]
  },
  {
   "cell_type": "code",
   "execution_count": 13,
   "id": "educational-chancellor",
   "metadata": {
    "execution": {
     "iopub.execute_input": "2021-07-26T12:10:24.400025Z",
     "iopub.status.busy": "2021-07-26T12:10:24.399187Z",
     "iopub.status.idle": "2021-07-26T12:10:24.407984Z",
     "shell.execute_reply": "2021-07-26T12:10:24.408564Z"
    },
    "papermill": {
     "duration": 0.071466,
     "end_time": "2021-07-26T12:10:24.408708",
     "exception": false,
     "start_time": "2021-07-26T12:10:24.337242",
     "status": "completed"
    },
    "tags": []
   },
   "outputs": [
    {
     "data": {
      "text/html": [
       "<div>\n",
       "<style scoped>\n",
       "    .dataframe tbody tr th:only-of-type {\n",
       "        vertical-align: middle;\n",
       "    }\n",
       "\n",
       "    .dataframe tbody tr th {\n",
       "        vertical-align: top;\n",
       "    }\n",
       "\n",
       "    .dataframe thead th {\n",
       "        text-align: right;\n",
       "    }\n",
       "</style>\n",
       "<table border=\"1\" class=\"dataframe\">\n",
       "  <thead>\n",
       "    <tr style=\"text-align: right;\">\n",
       "      <th></th>\n",
       "      <th>Country/Region</th>\n",
       "      <th>Cases</th>\n",
       "      <th>Deaths</th>\n",
       "      <th>PCases</th>\n",
       "      <th>PDeaths</th>\n",
       "      <th>Cases (+)</th>\n",
       "      <th>Deaths (+)</th>\n",
       "      <th>Fatality Rate</th>\n",
       "      <th>Continent</th>\n",
       "    </tr>\n",
       "  </thead>\n",
       "  <tbody>\n",
       "    <tr>\n",
       "      <th>0</th>\n",
       "      <td>US</td>\n",
       "      <td>34443761</td>\n",
       "      <td>610891</td>\n",
       "      <td>34428050</td>\n",
       "      <td>610835</td>\n",
       "      <td>15711</td>\n",
       "      <td>56</td>\n",
       "      <td>1.77</td>\n",
       "      <td>North America</td>\n",
       "    </tr>\n",
       "    <tr>\n",
       "      <th>1</th>\n",
       "      <td>India</td>\n",
       "      <td>31411262</td>\n",
       "      <td>420967</td>\n",
       "      <td>31371901</td>\n",
       "      <td>420551</td>\n",
       "      <td>39361</td>\n",
       "      <td>416</td>\n",
       "      <td>1.34</td>\n",
       "      <td>Asia</td>\n",
       "    </tr>\n",
       "    <tr>\n",
       "      <th>2</th>\n",
       "      <td>Brazil</td>\n",
       "      <td>19688663</td>\n",
       "      <td>549924</td>\n",
       "      <td>19670534</td>\n",
       "      <td>549448</td>\n",
       "      <td>18129</td>\n",
       "      <td>476</td>\n",
       "      <td>2.79</td>\n",
       "      <td>South America</td>\n",
       "    </tr>\n",
       "    <tr>\n",
       "      <th>3</th>\n",
       "      <td>France</td>\n",
       "      <td>6056388</td>\n",
       "      <td>111806</td>\n",
       "      <td>6041146</td>\n",
       "      <td>111800</td>\n",
       "      <td>15242</td>\n",
       "      <td>6</td>\n",
       "      <td>1.85</td>\n",
       "      <td>Europe</td>\n",
       "    </tr>\n",
       "    <tr>\n",
       "      <th>4</th>\n",
       "      <td>Russia</td>\n",
       "      <td>6049215</td>\n",
       "      <td>151352</td>\n",
       "      <td>6025698</td>\n",
       "      <td>150583</td>\n",
       "      <td>23517</td>\n",
       "      <td>769</td>\n",
       "      <td>2.50</td>\n",
       "      <td>Europe</td>\n",
       "    </tr>\n",
       "  </tbody>\n",
       "</table>\n",
       "</div>"
      ],
      "text/plain": [
       "  Country/Region     Cases  Deaths    PCases  PDeaths  Cases (+)  Deaths (+)  \\\n",
       "0             US  34443761  610891  34428050   610835      15711          56   \n",
       "1          India  31411262  420967  31371901   420551      39361         416   \n",
       "2         Brazil  19688663  549924  19670534   549448      18129         476   \n",
       "3         France   6056388  111806   6041146   111800      15242           6   \n",
       "4         Russia   6049215  151352   6025698   150583      23517         769   \n",
       "\n",
       "   Fatality Rate      Continent  \n",
       "0           1.77  North America  \n",
       "1           1.34           Asia  \n",
       "2           2.79  South America  \n",
       "3           1.85         Europe  \n",
       "4           2.50         Europe  "
      ]
     },
     "execution_count": 13,
     "metadata": {},
     "output_type": "execute_result"
    }
   ],
   "source": [
    "#hide\n",
    "for c in 'Cases, Deaths'.split(', '):\n",
    "    df_table[f'{c} (+)'] = (df_table[c] - df_table[f'P{c}']).clip(0)\n",
    "    #Clip ça veut dire, les chiffres negatif sont interdit\n",
    "df_table['Fatality Rate'] = (100* df_table['Deaths']/ df_table['Cases']).round(2)\n",
    "df_table['Continent'] = df_table['Country/Region'].map(mapping['map.continent'])\n",
    "df_table.head(5)"
   ]
  },
  {
   "cell_type": "code",
   "execution_count": 14,
   "id": "aboriginal-bulgaria",
   "metadata": {
    "execution": {
     "iopub.execute_input": "2021-07-26T12:10:24.494241Z",
     "iopub.status.busy": "2021-07-26T12:10:24.493300Z",
     "iopub.status.idle": "2021-07-26T12:10:24.497253Z",
     "shell.execute_reply": "2021-07-26T12:10:24.498782Z"
    },
    "papermill": {
     "duration": 0.051564,
     "end_time": "2021-07-26T12:10:24.498948",
     "exception": false,
     "start_time": "2021-07-26T12:10:24.447384",
     "status": "completed"
    },
    "tags": []
   },
   "outputs": [],
   "source": [
    "#hide\n",
    "#delete problematic countries from table\n",
    "df_table = df_table[~df_table['Country/Region'].isin(['Cape Verde', 'Cruise Ship', 'Kosovo'])]"
   ]
  },
  {
   "cell_type": "code",
   "execution_count": 15,
   "id": "fantastic-effect",
   "metadata": {
    "execution": {
     "iopub.execute_input": "2021-07-26T12:10:24.594705Z",
     "iopub.status.busy": "2021-07-26T12:10:24.593966Z",
     "iopub.status.idle": "2021-07-26T12:10:24.617115Z",
     "shell.execute_reply": "2021-07-26T12:10:24.616516Z"
    },
    "papermill": {
     "duration": 0.07299,
     "end_time": "2021-07-26T12:10:24.617260",
     "exception": false,
     "start_time": "2021-07-26T12:10:24.544270",
     "status": "completed"
    },
    "tags": []
   },
   "outputs": [
    {
     "data": {
      "text/html": [
       "<div>\n",
       "<style scoped>\n",
       "    .dataframe tbody tr th:only-of-type {\n",
       "        vertical-align: middle;\n",
       "    }\n",
       "\n",
       "    .dataframe tbody tr th {\n",
       "        vertical-align: top;\n",
       "    }\n",
       "\n",
       "    .dataframe thead th {\n",
       "        text-align: right;\n",
       "    }\n",
       "</style>\n",
       "<table border=\"1\" class=\"dataframe\">\n",
       "  <thead>\n",
       "    <tr style=\"text-align: right;\">\n",
       "      <th></th>\n",
       "      <th>Country/Region</th>\n",
       "      <th>Cases</th>\n",
       "      <th>Deaths</th>\n",
       "      <th>PCases</th>\n",
       "      <th>PDeaths</th>\n",
       "      <th>Cases (+)</th>\n",
       "      <th>Deaths (+)</th>\n",
       "      <th>Fatality Rate</th>\n",
       "      <th>Continent</th>\n",
       "    </tr>\n",
       "  </thead>\n",
       "  <tbody>\n",
       "    <tr>\n",
       "      <th>0</th>\n",
       "      <td>US</td>\n",
       "      <td>34443761</td>\n",
       "      <td>610891</td>\n",
       "      <td>34428050</td>\n",
       "      <td>610835</td>\n",
       "      <td>15711</td>\n",
       "      <td>56</td>\n",
       "      <td>1.8</td>\n",
       "      <td>North America</td>\n",
       "    </tr>\n",
       "    <tr>\n",
       "      <th>1</th>\n",
       "      <td>India</td>\n",
       "      <td>31411262</td>\n",
       "      <td>420967</td>\n",
       "      <td>31371901</td>\n",
       "      <td>420551</td>\n",
       "      <td>39361</td>\n",
       "      <td>416</td>\n",
       "      <td>1.3</td>\n",
       "      <td>Asia</td>\n",
       "    </tr>\n",
       "    <tr>\n",
       "      <th>2</th>\n",
       "      <td>Brazil</td>\n",
       "      <td>19688663</td>\n",
       "      <td>549924</td>\n",
       "      <td>19670534</td>\n",
       "      <td>549448</td>\n",
       "      <td>18129</td>\n",
       "      <td>476</td>\n",
       "      <td>2.8</td>\n",
       "      <td>South America</td>\n",
       "    </tr>\n",
       "    <tr>\n",
       "      <th>3</th>\n",
       "      <td>France</td>\n",
       "      <td>6056388</td>\n",
       "      <td>111806</td>\n",
       "      <td>6041146</td>\n",
       "      <td>111800</td>\n",
       "      <td>15242</td>\n",
       "      <td>6</td>\n",
       "      <td>1.8</td>\n",
       "      <td>Europe</td>\n",
       "    </tr>\n",
       "    <tr>\n",
       "      <th>4</th>\n",
       "      <td>Russia</td>\n",
       "      <td>6049215</td>\n",
       "      <td>151352</td>\n",
       "      <td>6025698</td>\n",
       "      <td>150583</td>\n",
       "      <td>23517</td>\n",
       "      <td>769</td>\n",
       "      <td>2.5</td>\n",
       "      <td>Europe</td>\n",
       "    </tr>\n",
       "  </tbody>\n",
       "</table>\n",
       "</div>"
      ],
      "text/plain": [
       "  Country/Region     Cases  Deaths    PCases  PDeaths  Cases (+)  Deaths (+)  \\\n",
       "0             US  34443761  610891  34428050   610835      15711          56   \n",
       "1          India  31411262  420967  31371901   420551      39361         416   \n",
       "2         Brazil  19688663  549924  19670534   549448      18129         476   \n",
       "3         France   6056388  111806   6041146   111800      15242           6   \n",
       "4         Russia   6049215  151352   6025698   150583      23517         769   \n",
       "\n",
       "   Fatality Rate      Continent  \n",
       "0            1.8  North America  \n",
       "1            1.3           Asia  \n",
       "2            2.8  South America  \n",
       "3            1.8         Europe  \n",
       "4            2.5         Europe  "
      ]
     },
     "execution_count": 15,
     "metadata": {},
     "output_type": "execute_result"
    }
   ],
   "source": [
    "#hide\n",
    "df_table = (pd.DataFrame(dict(Cases=dfc_cases, Deaths=dfc_deaths, PCases=dfp_cases, PDeaths=dfp_deaths))\n",
    "             .sort_values(by=['Cases', 'Deaths'], ascending=[False, False])\n",
    "             .reset_index())\n",
    "df_table.rename(columns={'index': 'Country/Region'}, inplace=True)\n",
    "for c in 'Cases, Deaths'.split(', '):\n",
    "    df_table[f'{c} (+)'] = (df_table[c] - df_table[f'P{c}']).clip(0)  # DATA BUG\n",
    "df_table['Fatality Rate'] = (100 * df_table['Deaths'] / df_table['Cases']).round(1)\n",
    "df_table['Continent'] = df_table['Country/Region'].map(mapping['map.continent'])\n",
    "df_table.head(5)"
   ]
  },
  {
   "cell_type": "code",
   "execution_count": 16,
   "id": "fewer-occasion",
   "metadata": {
    "execution": {
     "iopub.execute_input": "2021-07-26T12:10:24.702943Z",
     "iopub.status.busy": "2021-07-26T12:10:24.702340Z",
     "iopub.status.idle": "2021-07-26T12:10:24.704595Z",
     "shell.execute_reply": "2021-07-26T12:10:24.705050Z"
    },
    "papermill": {
     "duration": 0.047294,
     "end_time": "2021-07-26T12:10:24.705190",
     "exception": false,
     "start_time": "2021-07-26T12:10:24.657896",
     "status": "completed"
    },
    "tags": []
   },
   "outputs": [],
   "source": [
    "#hide\n",
    "#delete problematic countries from table\n",
    "df_table = df_table[~df_table['Country/Region'].isin(['Cape Verde', 'Cruise Ship', 'Kosovo'])]"
   ]
  },
  {
   "cell_type": "code",
   "execution_count": 17,
   "id": "related-center",
   "metadata": {
    "execution": {
     "iopub.execute_input": "2021-07-26T12:10:24.789342Z",
     "iopub.status.busy": "2021-07-26T12:10:24.788632Z",
     "iopub.status.idle": "2021-07-26T12:10:24.805733Z",
     "shell.execute_reply": "2021-07-26T12:10:24.805177Z"
    },
    "papermill": {
     "duration": 0.063209,
     "end_time": "2021-07-26T12:10:24.805878",
     "exception": false,
     "start_time": "2021-07-26T12:10:24.742669",
     "status": "completed"
    },
    "tags": []
   },
   "outputs": [],
   "source": [
    "#hide\n",
    "metrics = [df_table.columns[index] for index in [1,2,5,6]]\n",
    "# s_china = df_table[df_table['Country/Region'].eq('China')][metrics].sum().add_prefix('China ')\n",
    "s_us = df_table[df_table['Country/Region'].eq('US')][metrics].sum().add_prefix('US ')\n",
    "s_eu = df_table[df_table['Continent'].eq('Europe')][metrics].sum().add_prefix('EU ')\n",
    "s_ind = df_table[df_table['Country/Region'].eq('India')][metrics].sum().add_prefix('India ')\n",
    "summary = {'updated': pd.to_datetime(dt_today), 'since': pd.to_datetime(dt_yday)}\n",
    "summary = {'updated': pd.to_datetime(dt_today), 'since': pd.to_datetime(dt_yday)}\n",
    "summary = {**summary, **df_table[metrics].sum(), **s_ind, **s_us, **s_eu}"
   ]
  },
  {
   "cell_type": "code",
   "execution_count": 18,
   "id": "engaging-syndrome",
   "metadata": {
    "execution": {
     "iopub.execute_input": "2021-07-26T12:10:24.896531Z",
     "iopub.status.busy": "2021-07-26T12:10:24.895824Z",
     "iopub.status.idle": "2021-07-26T12:10:24.909434Z",
     "shell.execute_reply": "2021-07-26T12:10:24.909950Z"
    },
    "papermill": {
     "duration": 0.060583,
     "end_time": "2021-07-26T12:10:24.910101",
     "exception": false,
     "start_time": "2021-07-26T12:10:24.849518",
     "status": "completed"
    },
    "tags": []
   },
   "outputs": [],
   "source": [
    "#hide\n",
    "dft_ct_new_cases = dft_cases.groupby(COL_REGION)[dt_cols].sum().diff(axis=1).fillna(0).astype(int)"
   ]
  },
  {
   "cell_type": "code",
   "execution_count": 19,
   "id": "neutral-assignment",
   "metadata": {
    "execution": {
     "iopub.execute_input": "2021-07-26T12:10:24.997824Z",
     "iopub.status.busy": "2021-07-26T12:10:24.997222Z",
     "iopub.status.idle": "2021-07-26T12:10:25.000476Z",
     "shell.execute_reply": "2021-07-26T12:10:24.999826Z"
    },
    "papermill": {
     "duration": 0.048414,
     "end_time": "2021-07-26T12:10:25.000604",
     "exception": false,
     "start_time": "2021-07-26T12:10:24.952190",
     "status": "completed"
    },
    "tags": []
   },
   "outputs": [],
   "source": [
    "#hide\n",
    "everydaycases = dft_ct_new_cases.cumsum(axis=1)"
   ]
  },
  {
   "cell_type": "code",
   "execution_count": 20,
   "id": "parliamentary-calgary",
   "metadata": {
    "execution": {
     "iopub.execute_input": "2021-07-26T12:10:25.085793Z",
     "iopub.status.busy": "2021-07-26T12:10:25.084986Z",
     "iopub.status.idle": "2021-07-26T12:10:25.688188Z",
     "shell.execute_reply": "2021-07-26T12:10:25.687544Z"
    },
    "papermill": {
     "duration": 0.64971,
     "end_time": "2021-07-26T12:10:25.688382",
     "exception": false,
     "start_time": "2021-07-26T12:10:25.038672",
     "status": "completed"
    },
    "tags": []
   },
   "outputs": [],
   "source": [
    "#hide\n",
    "import pandas as pd\n",
    "import matplotlib.pyplot as plt\n",
    "import matplotlib.ticker as ticker\n",
    "import matplotlib.animation as animation\n",
    "from IPython.display import HTML"
   ]
  },
  {
   "cell_type": "code",
   "execution_count": 21,
   "id": "lasting-extraction",
   "metadata": {
    "execution": {
     "iopub.execute_input": "2021-07-26T12:10:25.772221Z",
     "iopub.status.busy": "2021-07-26T12:10:25.771379Z",
     "iopub.status.idle": "2021-07-26T12:10:25.777181Z",
     "shell.execute_reply": "2021-07-26T12:10:25.776664Z"
    },
    "papermill": {
     "duration": 0.048267,
     "end_time": "2021-07-26T12:10:25.777287",
     "exception": false,
     "start_time": "2021-07-26T12:10:25.729020",
     "status": "completed"
    },
    "tags": []
   },
   "outputs": [],
   "source": [
    "#hide\n",
    "t = everydaycases.stack()"
   ]
  },
  {
   "cell_type": "code",
   "execution_count": 22,
   "id": "premier-sleeve",
   "metadata": {
    "execution": {
     "iopub.execute_input": "2021-07-26T12:10:25.856043Z",
     "iopub.status.busy": "2021-07-26T12:10:25.855284Z",
     "iopub.status.idle": "2021-07-26T12:10:25.865160Z",
     "shell.execute_reply": "2021-07-26T12:10:25.864580Z"
    },
    "papermill": {
     "duration": 0.052345,
     "end_time": "2021-07-26T12:10:25.865300",
     "exception": false,
     "start_time": "2021-07-26T12:10:25.812955",
     "status": "completed"
    },
    "tags": []
   },
   "outputs": [],
   "source": [
    "#hide\n",
    "g = t.reset_index(['Country/Region'])"
   ]
  },
  {
   "cell_type": "code",
   "execution_count": 23,
   "id": "distributed-pittsburgh",
   "metadata": {
    "execution": {
     "iopub.execute_input": "2021-07-26T12:10:25.951473Z",
     "iopub.status.busy": "2021-07-26T12:10:25.950322Z",
     "iopub.status.idle": "2021-07-26T12:10:25.952251Z",
     "shell.execute_reply": "2021-07-26T12:10:25.952960Z"
    },
    "papermill": {
     "duration": 0.051463,
     "end_time": "2021-07-26T12:10:25.953118",
     "exception": false,
     "start_time": "2021-07-26T12:10:25.901655",
     "status": "completed"
    },
    "tags": []
   },
   "outputs": [],
   "source": [
    "#hide\n",
    "g.index.name = 'date'"
   ]
  },
  {
   "cell_type": "code",
   "execution_count": 24,
   "id": "naked-donor",
   "metadata": {
    "execution": {
     "iopub.execute_input": "2021-07-26T12:10:26.042797Z",
     "iopub.status.busy": "2021-07-26T12:10:26.042181Z",
     "iopub.status.idle": "2021-07-26T12:10:26.044216Z",
     "shell.execute_reply": "2021-07-26T12:10:26.045001Z"
    },
    "papermill": {
     "duration": 0.046149,
     "end_time": "2021-07-26T12:10:26.045168",
     "exception": false,
     "start_time": "2021-07-26T12:10:25.999019",
     "status": "completed"
    },
    "tags": []
   },
   "outputs": [],
   "source": [
    "# #hide\n",
    "# g = g.reset_index(['date'])"
   ]
  },
  {
   "cell_type": "code",
   "execution_count": 25,
   "id": "incomplete-mustang",
   "metadata": {
    "execution": {
     "iopub.execute_input": "2021-07-26T12:10:26.135831Z",
     "iopub.status.busy": "2021-07-26T12:10:26.134588Z",
     "iopub.status.idle": "2021-07-26T12:10:26.136884Z",
     "shell.execute_reply": "2021-07-26T12:10:26.137491Z"
    },
    "papermill": {
     "duration": 0.04844,
     "end_time": "2021-07-26T12:10:26.137647",
     "exception": false,
     "start_time": "2021-07-26T12:10:26.089207",
     "status": "completed"
    },
    "tags": []
   },
   "outputs": [],
   "source": [
    "#hide\n",
    "# g.head()"
   ]
  },
  {
   "cell_type": "code",
   "execution_count": 26,
   "id": "specific-kruger",
   "metadata": {
    "execution": {
     "iopub.execute_input": "2021-07-26T12:10:26.226371Z",
     "iopub.status.busy": "2021-07-26T12:10:26.225057Z",
     "iopub.status.idle": "2021-07-26T12:10:26.227059Z",
     "shell.execute_reply": "2021-07-26T12:10:26.227588Z"
    },
    "papermill": {
     "duration": 0.05094,
     "end_time": "2021-07-26T12:10:26.227728",
     "exception": false,
     "start_time": "2021-07-26T12:10:26.176788",
     "status": "completed"
    },
    "tags": []
   },
   "outputs": [],
   "source": [
    "#hide\n",
    "# g.columns = ['date','country','cases']"
   ]
  },
  {
   "cell_type": "code",
   "execution_count": 27,
   "id": "tender-conversion",
   "metadata": {
    "execution": {
     "iopub.execute_input": "2021-07-26T12:10:26.312644Z",
     "iopub.status.busy": "2021-07-26T12:10:26.311900Z",
     "iopub.status.idle": "2021-07-26T12:10:26.313625Z",
     "shell.execute_reply": "2021-07-26T12:10:26.314101Z"
    },
    "papermill": {
     "duration": 0.043734,
     "end_time": "2021-07-26T12:10:26.314233",
     "exception": false,
     "start_time": "2021-07-26T12:10:26.270499",
     "status": "completed"
    },
    "tags": []
   },
   "outputs": [],
   "source": [
    "#hide\n",
    "# g['continent'] = g.country"
   ]
  },
  {
   "cell_type": "code",
   "execution_count": 28,
   "id": "substantial-wilderness",
   "metadata": {
    "execution": {
     "iopub.execute_input": "2021-07-26T12:10:26.399964Z",
     "iopub.status.busy": "2021-07-26T12:10:26.399074Z",
     "iopub.status.idle": "2021-07-26T12:10:26.400785Z",
     "shell.execute_reply": "2021-07-26T12:10:26.401425Z"
    },
    "papermill": {
     "duration": 0.045435,
     "end_time": "2021-07-26T12:10:26.401600",
     "exception": false,
     "start_time": "2021-07-26T12:10:26.356165",
     "status": "completed"
    },
    "tags": []
   },
   "outputs": [],
   "source": [
    "#hide\n",
    "# cols = list(g.columns.values)"
   ]
  },
  {
   "cell_type": "code",
   "execution_count": 29,
   "id": "solved-farming",
   "metadata": {
    "execution": {
     "iopub.execute_input": "2021-07-26T12:10:26.485083Z",
     "iopub.status.busy": "2021-07-26T12:10:26.484485Z",
     "iopub.status.idle": "2021-07-26T12:10:26.486774Z",
     "shell.execute_reply": "2021-07-26T12:10:26.486254Z"
    },
    "papermill": {
     "duration": 0.047188,
     "end_time": "2021-07-26T12:10:26.486893",
     "exception": false,
     "start_time": "2021-07-26T12:10:26.439705",
     "status": "completed"
    },
    "tags": []
   },
   "outputs": [],
   "source": [
    "#hide\n",
    "# cols.insert(0, cols.pop())"
   ]
  },
  {
   "cell_type": "code",
   "execution_count": 30,
   "id": "executed-adoption",
   "metadata": {
    "execution": {
     "iopub.execute_input": "2021-07-26T12:10:26.567564Z",
     "iopub.status.busy": "2021-07-26T12:10:26.566875Z",
     "iopub.status.idle": "2021-07-26T12:10:26.569377Z",
     "shell.execute_reply": "2021-07-26T12:10:26.568804Z"
    },
    "papermill": {
     "duration": 0.044528,
     "end_time": "2021-07-26T12:10:26.569491",
     "exception": false,
     "start_time": "2021-07-26T12:10:26.524963",
     "status": "completed"
    },
    "tags": []
   },
   "outputs": [],
   "source": [
    "#hide\n",
    "# g = g[cols]"
   ]
  },
  {
   "cell_type": "code",
   "execution_count": 31,
   "id": "subject-dublin",
   "metadata": {
    "execution": {
     "iopub.execute_input": "2021-07-26T12:10:26.655354Z",
     "iopub.status.busy": "2021-07-26T12:10:26.654652Z",
     "iopub.status.idle": "2021-07-26T12:10:26.657341Z",
     "shell.execute_reply": "2021-07-26T12:10:26.656779Z"
    },
    "papermill": {
     "duration": 0.047154,
     "end_time": "2021-07-26T12:10:26.657501",
     "exception": false,
     "start_time": "2021-07-26T12:10:26.610347",
     "status": "completed"
    },
    "tags": []
   },
   "outputs": [],
   "source": [
    "#hide\n",
    "# g['continent'] = g['continent'].map(mapping['map.continent'])"
   ]
  },
  {
   "cell_type": "code",
   "execution_count": 32,
   "id": "freelance-scout",
   "metadata": {
    "execution": {
     "iopub.execute_input": "2021-07-26T12:10:26.743246Z",
     "iopub.status.busy": "2021-07-26T12:10:26.742508Z",
     "iopub.status.idle": "2021-07-26T12:10:26.745782Z",
     "shell.execute_reply": "2021-07-26T12:10:26.745131Z"
    },
    "papermill": {
     "duration": 0.04832,
     "end_time": "2021-07-26T12:10:26.745946",
     "exception": false,
     "start_time": "2021-07-26T12:10:26.697626",
     "status": "completed"
    },
    "tags": []
   },
   "outputs": [],
   "source": [
    "#hide\n",
    "# g.head()"
   ]
  },
  {
   "cell_type": "code",
   "execution_count": 33,
   "id": "limited-engine",
   "metadata": {
    "execution": {
     "iopub.execute_input": "2021-07-26T12:10:26.826825Z",
     "iopub.status.busy": "2021-07-26T12:10:26.826250Z",
     "iopub.status.idle": "2021-07-26T12:10:26.828195Z",
     "shell.execute_reply": "2021-07-26T12:10:26.828662Z"
    },
    "papermill": {
     "duration": 0.043657,
     "end_time": "2021-07-26T12:10:26.828783",
     "exception": false,
     "start_time": "2021-07-26T12:10:26.785126",
     "status": "completed"
    },
    "tags": []
   },
   "outputs": [],
   "source": [
    "# hide\n",
    "# g['date'] = g['date'].astype('datetime64[ns]')"
   ]
  },
  {
   "cell_type": "code",
   "execution_count": 34,
   "id": "sophisticated-supervisor",
   "metadata": {
    "execution": {
     "iopub.execute_input": "2021-07-26T12:10:26.904920Z",
     "iopub.status.busy": "2021-07-26T12:10:26.904295Z",
     "iopub.status.idle": "2021-07-26T12:10:26.906392Z",
     "shell.execute_reply": "2021-07-26T12:10:26.906951Z"
    },
    "papermill": {
     "duration": 0.042629,
     "end_time": "2021-07-26T12:10:26.907090",
     "exception": false,
     "start_time": "2021-07-26T12:10:26.864461",
     "status": "completed"
    },
    "tags": []
   },
   "outputs": [],
   "source": [
    "#hide\n",
    "# g['date'] = g.date.dt.dayofyear"
   ]
  },
  {
   "cell_type": "code",
   "execution_count": 35,
   "id": "inside-dubai",
   "metadata": {
    "execution": {
     "iopub.execute_input": "2021-07-26T12:10:26.986224Z",
     "iopub.status.busy": "2021-07-26T12:10:26.985394Z",
     "iopub.status.idle": "2021-07-26T12:10:26.987677Z",
     "shell.execute_reply": "2021-07-26T12:10:26.988181Z"
    },
    "papermill": {
     "duration": 0.043402,
     "end_time": "2021-07-26T12:10:26.988342",
     "exception": false,
     "start_time": "2021-07-26T12:10:26.944940",
     "status": "completed"
    },
    "tags": []
   },
   "outputs": [],
   "source": [
    "#hide\n",
    "# g = g.rename(columns= {'continent':'group','country':'name','cases':'value'})"
   ]
  },
  {
   "cell_type": "code",
   "execution_count": 36,
   "id": "fleet-motorcycle",
   "metadata": {
    "execution": {
     "iopub.execute_input": "2021-07-26T12:10:27.072583Z",
     "iopub.status.busy": "2021-07-26T12:10:27.071954Z",
     "iopub.status.idle": "2021-07-26T12:10:27.073851Z",
     "shell.execute_reply": "2021-07-26T12:10:27.074398Z"
    },
    "papermill": {
     "duration": 0.04712,
     "end_time": "2021-07-26T12:10:27.074534",
     "exception": false,
     "start_time": "2021-07-26T12:10:27.027414",
     "status": "completed"
    },
    "tags": []
   },
   "outputs": [],
   "source": [
    "#hide\n",
    "# cols = ['name','group','day','value']"
   ]
  },
  {
   "cell_type": "code",
   "execution_count": 37,
   "id": "continued-sleeping",
   "metadata": {
    "execution": {
     "iopub.execute_input": "2021-07-26T12:10:27.156859Z",
     "iopub.status.busy": "2021-07-26T12:10:27.156232Z",
     "iopub.status.idle": "2021-07-26T12:10:27.158861Z",
     "shell.execute_reply": "2021-07-26T12:10:27.158309Z"
    },
    "papermill": {
     "duration": 0.046252,
     "end_time": "2021-07-26T12:10:27.158981",
     "exception": false,
     "start_time": "2021-07-26T12:10:27.112729",
     "status": "completed"
    },
    "tags": []
   },
   "outputs": [],
   "source": [
    "#hide\n",
    "# g.rename(columns= {'date':'day'},inplace = True)"
   ]
  },
  {
   "cell_type": "code",
   "execution_count": 38,
   "id": "major-fight",
   "metadata": {
    "execution": {
     "iopub.execute_input": "2021-07-26T12:10:27.243528Z",
     "iopub.status.busy": "2021-07-26T12:10:27.242797Z",
     "iopub.status.idle": "2021-07-26T12:10:27.245308Z",
     "shell.execute_reply": "2021-07-26T12:10:27.244807Z"
    },
    "papermill": {
     "duration": 0.045907,
     "end_time": "2021-07-26T12:10:27.245465",
     "exception": false,
     "start_time": "2021-07-26T12:10:27.199558",
     "status": "completed"
    },
    "tags": []
   },
   "outputs": [],
   "source": [
    "#hide\n",
    "# g = g[cols]"
   ]
  },
  {
   "cell_type": "code",
   "execution_count": 39,
   "id": "structured-mobile",
   "metadata": {
    "execution": {
     "iopub.execute_input": "2021-07-26T12:10:27.328764Z",
     "iopub.status.busy": "2021-07-26T12:10:27.328157Z",
     "iopub.status.idle": "2021-07-26T12:10:27.330920Z",
     "shell.execute_reply": "2021-07-26T12:10:27.330405Z"
    },
    "papermill": {
     "duration": 0.045305,
     "end_time": "2021-07-26T12:10:27.331049",
     "exception": false,
     "start_time": "2021-07-26T12:10:27.285744",
     "status": "completed"
    },
    "tags": []
   },
   "outputs": [],
   "source": [
    "# #hide\n",
    "# g = g[g.group.notna()]"
   ]
  },
  {
   "cell_type": "code",
   "execution_count": 40,
   "id": "determined-closing",
   "metadata": {
    "execution": {
     "iopub.execute_input": "2021-07-26T12:10:27.410950Z",
     "iopub.status.busy": "2021-07-26T12:10:27.410101Z",
     "iopub.status.idle": "2021-07-26T12:10:27.412218Z",
     "shell.execute_reply": "2021-07-26T12:10:27.412914Z"
    },
    "papermill": {
     "duration": 0.044271,
     "end_time": "2021-07-26T12:10:27.413038",
     "exception": false,
     "start_time": "2021-07-26T12:10:27.368767",
     "status": "completed"
    },
    "tags": []
   },
   "outputs": [],
   "source": [
    "# #hide\n",
    "# colors = dict(zip(\n",
    "#     [\"Oceania\", \"Europe\", \"Asia\", \"South America\", \"Middle East\", \"North America\", \"Africa\"],\n",
    "#     [\"#adb0ff\", \"#ffb3ff\", \"#90d595\", \"#e48381\", \"#aafbff\", \"#f7bb5f\", \"#eafb50\"]\n",
    "# ))\n",
    "# group_lk = g.set_index('name')['group'].to_dict()"
   ]
  },
  {
   "cell_type": "code",
   "execution_count": null,
   "id": "gross-drinking",
   "metadata": {
    "papermill": {
     "duration": 0.041524,
     "end_time": "2021-07-26T12:10:27.494139",
     "exception": false,
     "start_time": "2021-07-26T12:10:27.452615",
     "status": "completed"
    },
    "tags": []
   },
   "outputs": [],
   "source": []
  },
  {
   "cell_type": "code",
   "execution_count": 41,
   "id": "subject-macintosh",
   "metadata": {
    "execution": {
     "iopub.execute_input": "2021-07-26T12:10:27.580033Z",
     "iopub.status.busy": "2021-07-26T12:10:27.579343Z",
     "iopub.status.idle": "2021-07-26T12:10:27.581208Z",
     "shell.execute_reply": "2021-07-26T12:10:27.581841Z"
    },
    "papermill": {
     "duration": 0.047935,
     "end_time": "2021-07-26T12:10:27.582035",
     "exception": false,
     "start_time": "2021-07-26T12:10:27.534100",
     "status": "completed"
    },
    "tags": []
   },
   "outputs": [],
   "source": [
    "# #hide\n",
    "# fig, ax = plt.subplots(figsize=(15, 8))\n",
    "\n",
    "# def draw_barchart(current_day):\n",
    "#     dff = g[g['day'].eq(current_day)].sort_values(by='value', ascending=True).tail(10)\n",
    "#     ax.clear()\n",
    "#     ax.barh(dff['name'], dff['value'], color=[colors[group_lk[x]] for x in dff['name']])\n",
    "#     dx = dff['value'].max() / 200\n",
    "    \n",
    "#     for i, (value, name) in enumerate(zip(dff['value'], dff['name'])):\n",
    "#         ax.text(value-dx, i,     name,           size=14, weight=600, ha='right', va='bottom')\n",
    "#         ax.text(value-dx, i-.25, group_lk[name], size=10, color='#444444', ha='right', va='baseline')\n",
    "#         ax.text(value+dx, i,     f'{value:,.0f}',  size=14, ha='left',  va='center')\n",
    "#     ax.text(1, 0.4, current_day, transform=ax.transAxes, color='#777777', size=46, ha='right', weight=800)\n",
    "#     ax.text(0, 1.06, 'Population (thousands)', transform=ax.transAxes, size=12, color='#777777')\n",
    "#     ax.xaxis.set_major_formatter(ticker.StrMethodFormatter('{x:,.0f}'))\n",
    "#     ax.xaxis.set_ticks_position('top')\n",
    "#     ax.tick_params(axis='x', colors='#777777', labelsize=12)\n",
    "#     ax.set_yticks([])\n",
    "#     ax.margins(0, 0.01)\n",
    "#     ax.grid(which='major', axis='x', linestyle='-')\n",
    "#     ax.set_axisbelow(True)\n",
    "    \n",
    "#     ax.text(0, 1.15, 'Coronavirus',\n",
    "#             transform=ax.transAxes, size=24, weight=600, ha='left', va='top')\n",
    "# #     ax.text(1, 0, 'by @pratapvardhan; credit @jburnmurdoch', transform=ax.transAxes, color='#777777', ha='right',\n",
    "# #             bbox=dict(facecolor='white', alpha=0.8, edgecolor='white'))\n",
    "#     plt.box(False)"
   ]
  },
  {
   "cell_type": "code",
   "execution_count": 42,
   "id": "sexual-wages",
   "metadata": {
    "execution": {
     "iopub.execute_input": "2021-07-26T12:10:27.665752Z",
     "iopub.status.busy": "2021-07-26T12:10:27.665146Z",
     "iopub.status.idle": "2021-07-26T12:10:27.667499Z",
     "shell.execute_reply": "2021-07-26T12:10:27.666963Z"
    },
    "papermill": {
     "duration": 0.045429,
     "end_time": "2021-07-26T12:10:27.667633",
     "exception": false,
     "start_time": "2021-07-26T12:10:27.622204",
     "status": "completed"
    },
    "tags": []
   },
   "outputs": [],
   "source": [
    "# #hide_input\n",
    "# fig, ax = plt.subplots(figsize=(15, 8))\n",
    "# animator = animation.FuncAnimation(fig, draw_barchart, frames=range(g.day.values.min(), g.day.values.max()))\n",
    "# HTML(animator.to_jshtml())\n",
    "# # or use animator.to_html5_video() or animator.save() "
   ]
  },
  {
   "cell_type": "code",
   "execution_count": null,
   "id": "australian-container",
   "metadata": {
    "papermill": {
     "duration": 0.040815,
     "end_time": "2021-07-26T12:10:27.747374",
     "exception": false,
     "start_time": "2021-07-26T12:10:27.706559",
     "status": "completed"
    },
    "tags": []
   },
   "outputs": [],
   "source": []
  },
  {
   "cell_type": "code",
   "execution_count": null,
   "id": "mediterranean-pontiac",
   "metadata": {
    "papermill": {
     "duration": 0.040007,
     "end_time": "2021-07-26T12:10:27.829784",
     "exception": false,
     "start_time": "2021-07-26T12:10:27.789777",
     "status": "completed"
    },
    "tags": []
   },
   "outputs": [],
   "source": []
  },
  {
   "cell_type": "code",
   "execution_count": null,
   "id": "aging-legislature",
   "metadata": {
    "papermill": {
     "duration": 0.041329,
     "end_time": "2021-07-26T12:10:27.911882",
     "exception": false,
     "start_time": "2021-07-26T12:10:27.870553",
     "status": "completed"
    },
    "tags": []
   },
   "outputs": [],
   "source": []
  }
 ],
 "metadata": {
  "kernelspec": {
   "display_name": "Python 3",
   "language": "python",
   "name": "python3"
  },
  "language_info": {
   "codemirror_mode": {
    "name": "ipython",
    "version": 3
   },
   "file_extension": ".py",
   "mimetype": "text/x-python",
   "name": "python",
   "nbconvert_exporter": "python",
   "pygments_lexer": "ipython3",
   "version": "3.6.14"
  },
  "papermill": {
   "duration": 7.026491,
   "end_time": "2021-07-26T12:10:28.262510",
   "environment_variables": {},
   "exception": null,
   "input_path": "2020-03-21-covid19exp.ipynb",
   "output_path": "2020-03-21-covid19exp.ipynb",
   "parameters": {},
   "start_time": "2021-07-26T12:10:21.236019",
   "version": "2.0.0"
  }
 },
 "nbformat": 4,
 "nbformat_minor": 5
}