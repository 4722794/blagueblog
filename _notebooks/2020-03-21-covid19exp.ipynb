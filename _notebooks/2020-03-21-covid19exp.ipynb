{
 "cells": [
  {
   "cell_type": "markdown",
   "metadata": {
    "papermill": {
     "duration": 0.029979,
     "end_time": "2020-12-10T00:11:26.181634",
     "exception": false,
     "start_time": "2020-12-10T00:11:26.151655",
     "status": "completed"
    },
    "tags": []
   },
   "source": [
    "# COVID-19 Case Race\n",
    "> A race chart to see rising cases around the world\n",
    "\n",
    "- author: Hargun Oberoi\n",
    "- image: images/covid-overview.png\n",
    "- hide: false\n",
    "- badges: false"
   ]
  },
  {
   "cell_type": "code",
   "execution_count": 1,
   "metadata": {
    "execution": {
     "iopub.execute_input": "2020-12-10T00:11:27.611330Z",
     "iopub.status.busy": "2020-12-10T00:11:27.610139Z",
     "iopub.status.idle": "2020-12-10T00:11:27.911933Z",
     "shell.execute_reply": "2020-12-10T00:11:27.911049Z"
    },
    "papermill": {
     "duration": 0.917513,
     "end_time": "2020-12-10T00:11:27.912179",
     "exception": false,
     "start_time": "2020-12-10T00:11:26.994666",
     "status": "completed"
    },
    "tags": []
   },
   "outputs": [],
   "source": [
    "#hide\n",
    "import numpy as np\n",
    "import pandas as pd\n",
    "from jinja2 import Template\n",
    "from IPython.display import HTML"
   ]
  },
  {
   "cell_type": "code",
   "execution_count": 2,
   "metadata": {
    "execution": {
     "iopub.execute_input": "2020-12-10T00:11:27.971090Z",
     "iopub.status.busy": "2020-12-10T00:11:27.970583Z",
     "iopub.status.idle": "2020-12-10T00:11:27.972038Z",
     "shell.execute_reply": "2020-12-10T00:11:27.972561Z"
    },
    "papermill": {
     "duration": 0.033016,
     "end_time": "2020-12-10T00:11:27.972712",
     "exception": false,
     "start_time": "2020-12-10T00:11:27.939696",
     "status": "completed"
    },
    "tags": []
   },
   "outputs": [],
   "source": [
    "#hide\n",
    "\n",
    "# FETCH\n",
    "base_url = 'https://raw.githubusercontent.com/pratapvardhan/notebooks/master/covid19/'\n",
    "paths = {\n",
    "    'mapping': base_url + 'mapping_countries.csv',\n",
    "    'overview': base_url + 'overview.tpl'\n",
    "}"
   ]
  },
  {
   "cell_type": "code",
   "execution_count": 3,
   "metadata": {
    "execution": {
     "iopub.execute_input": "2020-12-10T00:11:28.035428Z",
     "iopub.status.busy": "2020-12-10T00:11:28.031997Z",
     "iopub.status.idle": "2020-12-10T00:11:28.041289Z",
     "shell.execute_reply": "2020-12-10T00:11:28.041781Z"
    },
    "papermill": {
     "duration": 0.043459,
     "end_time": "2020-12-10T00:11:28.041918",
     "exception": false,
     "start_time": "2020-12-10T00:11:27.998459",
     "status": "completed"
    },
    "tags": []
   },
   "outputs": [
    {
     "data": {
      "text/plain": [
       "'https://raw.githubusercontent.com/pratapvardhan/notebooks/master/covid19/mapping_countries.csv'"
      ]
     },
     "execution_count": 3,
     "metadata": {},
     "output_type": "execute_result"
    }
   ],
   "source": [
    "#hide\n",
    "paths['mapping']"
   ]
  },
  {
   "cell_type": "code",
   "execution_count": 4,
   "metadata": {
    "execution": {
     "iopub.execute_input": "2020-12-10T00:11:28.100885Z",
     "iopub.status.busy": "2020-12-10T00:11:28.100407Z",
     "iopub.status.idle": "2020-12-10T00:11:28.102605Z",
     "shell.execute_reply": "2020-12-10T00:11:28.102204Z"
    },
    "papermill": {
     "duration": 0.032762,
     "end_time": "2020-12-10T00:11:28.102704",
     "exception": false,
     "start_time": "2020-12-10T00:11:28.069942",
     "status": "completed"
    },
    "tags": []
   },
   "outputs": [],
   "source": [
    "#hide\n",
    "def get_mappings(url):\n",
    "    df = pd.read_csv(url)\n",
    "    return {\n",
    "        'df': df,\n",
    "        'replace.country': dict(df.dropna(subset=['Name']).set_index('Country')['Name']),\n",
    "        'map.continent': dict(df.set_index('Name')['Continent'])\n",
    "    }"
   ]
  },
  {
   "cell_type": "code",
   "execution_count": 5,
   "metadata": {
    "execution": {
     "iopub.execute_input": "2020-12-10T00:11:28.156738Z",
     "iopub.status.busy": "2020-12-10T00:11:28.156282Z",
     "iopub.status.idle": "2020-12-10T00:11:28.208295Z",
     "shell.execute_reply": "2020-12-10T00:11:28.207299Z"
    },
    "papermill": {
     "duration": 0.081232,
     "end_time": "2020-12-10T00:11:28.208415",
     "exception": false,
     "start_time": "2020-12-10T00:11:28.127183",
     "status": "completed"
    },
    "tags": []
   },
   "outputs": [],
   "source": [
    "#hide\n",
    "mapping = get_mappings(paths['mapping'])"
   ]
  },
  {
   "cell_type": "code",
   "execution_count": 6,
   "metadata": {
    "execution": {
     "iopub.execute_input": "2020-12-10T00:11:28.265555Z",
     "iopub.status.busy": "2020-12-10T00:11:28.265017Z",
     "iopub.status.idle": "2020-12-10T00:11:28.266725Z",
     "shell.execute_reply": "2020-12-10T00:11:28.267075Z"
    },
    "papermill": {
     "duration": 0.033332,
     "end_time": "2020-12-10T00:11:28.267188",
     "exception": false,
     "start_time": "2020-12-10T00:11:28.233856",
     "status": "completed"
    },
    "tags": []
   },
   "outputs": [],
   "source": [
    "#hide\n",
    "def get_template(path):\n",
    "    from urllib.parse import urlparse\n",
    "    if bool(urlparse(path).netloc):\n",
    "        from urllib.request import urlopen\n",
    "        return urlopen(path).read().decode('utf8')\n",
    "    return open(path).read()"
   ]
  },
  {
   "cell_type": "code",
   "execution_count": 7,
   "metadata": {
    "execution": {
     "iopub.execute_input": "2020-12-10T00:11:28.328030Z",
     "iopub.status.busy": "2020-12-10T00:11:28.327580Z",
     "iopub.status.idle": "2020-12-10T00:11:28.330228Z",
     "shell.execute_reply": "2020-12-10T00:11:28.330679Z"
    },
    "papermill": {
     "duration": 0.037968,
     "end_time": "2020-12-10T00:11:28.330776",
     "exception": false,
     "start_time": "2020-12-10T00:11:28.292808",
     "status": "completed"
    },
    "tags": []
   },
   "outputs": [],
   "source": [
    "#hide\n",
    "def get_frame(name):\n",
    "    url = (\n",
    "        'https://raw.githubusercontent.com/CSSEGISandData/COVID-19/master/csse_covid_19_data/'\n",
    "        f'csse_covid_19_time_series/time_series_covid19_{name}_global.csv')\n",
    "    df = pd.read_csv(url)\n",
    "    # rename countries\n",
    "    df['Country/Region'] = df['Country/Region'].replace(mapping['replace.country'])\n",
    "    return df"
   ]
  },
  {
   "cell_type": "code",
   "execution_count": 8,
   "metadata": {
    "execution": {
     "iopub.execute_input": "2020-12-10T00:11:28.385753Z",
     "iopub.status.busy": "2020-12-10T00:11:28.385285Z",
     "iopub.status.idle": "2020-12-10T00:11:28.387607Z",
     "shell.execute_reply": "2020-12-10T00:11:28.387209Z"
    },
    "papermill": {
     "duration": 0.033052,
     "end_time": "2020-12-10T00:11:28.387703",
     "exception": false,
     "start_time": "2020-12-10T00:11:28.354651",
     "status": "completed"
    },
    "tags": []
   },
   "outputs": [],
   "source": [
    "#hide\n",
    "def get_dates(df):\n",
    "    dt_cols = df.columns[~df.columns.isin(['Province/State', 'Country/Region', 'Lat', 'Long'])]\n",
    "    LAST_DATE_I = -1\n",
    "    # sometimes last column may be empty, then go backwards\n",
    "    for i in range(-1, -len(dt_cols), -1):\n",
    "        if not df[dt_cols[i]].fillna(0).eq(0).all():\n",
    "            LAST_DATE_I = i\n",
    "            break\n",
    "    return LAST_DATE_I, dt_cols"
   ]
  },
  {
   "cell_type": "code",
   "execution_count": 9,
   "metadata": {
    "execution": {
     "iopub.execute_input": "2020-12-10T00:11:28.451028Z",
     "iopub.status.busy": "2020-12-10T00:11:28.450491Z",
     "iopub.status.idle": "2020-12-10T00:11:28.784933Z",
     "shell.execute_reply": "2020-12-10T00:11:28.783952Z"
    },
    "papermill": {
     "duration": 0.367811,
     "end_time": "2020-12-10T00:11:28.785284",
     "exception": false,
     "start_time": "2020-12-10T00:11:28.417473",
     "status": "completed"
    },
    "tags": []
   },
   "outputs": [],
   "source": [
    "#hide\n",
    "COL_REGION = 'Country/Region'\n",
    "# Confirmed, Recovered, Deaths\n",
    "df = get_frame('confirmed')\n",
    "# dft_: timeseries, dfc_: today country agg\n",
    "dft_cases = df\n",
    "dft_deaths = get_frame('deaths')\n",
    "dft_recovered = get_frame('recovered')\n",
    "LAST_DATE_I, dt_cols = get_dates(df)"
   ]
  },
  {
   "cell_type": "code",
   "execution_count": 10,
   "metadata": {
    "execution": {
     "iopub.execute_input": "2020-12-10T00:11:28.850677Z",
     "iopub.status.busy": "2020-12-10T00:11:28.850131Z",
     "iopub.status.idle": "2020-12-10T00:11:28.852418Z",
     "shell.execute_reply": "2020-12-10T00:11:28.852916Z"
    },
    "papermill": {
     "duration": 0.03647,
     "end_time": "2020-12-10T00:11:28.853037",
     "exception": false,
     "start_time": "2020-12-10T00:11:28.816567",
     "status": "completed"
    },
    "tags": []
   },
   "outputs": [],
   "source": [
    "#hide\n",
    "LAST_DATE_I, dt_cols = get_dates(df)\n",
    "dt_today =dt_cols[LAST_DATE_I]\n",
    "# dt_5day = dt_cols[LAST_DATE_I - 5]\n",
    "dt_yday = dt_cols[LAST_DATE_I - 1]"
   ]
  },
  {
   "cell_type": "code",
   "execution_count": 11,
   "metadata": {
    "execution": {
     "iopub.execute_input": "2020-12-10T00:11:28.912165Z",
     "iopub.status.busy": "2020-12-10T00:11:28.911581Z",
     "iopub.status.idle": "2020-12-10T00:11:28.919520Z",
     "shell.execute_reply": "2020-12-10T00:11:28.919064Z"
    },
    "papermill": {
     "duration": 0.041786,
     "end_time": "2020-12-10T00:11:28.919633",
     "exception": false,
     "start_time": "2020-12-10T00:11:28.877847",
     "status": "completed"
    },
    "tags": []
   },
   "outputs": [],
   "source": [
    "#hide\n",
    "dfc_cases = dft_cases.groupby(COL_REGION)[dt_today].sum()\n",
    "dfc_deaths = dft_deaths.groupby(COL_REGION)[dt_today].sum()\n",
    "# dfp_cases = dft_cases.groupby(COL_REGION)[dt_5day].sum()\n",
    "# dfp_deaths = dft_deaths.groupby(COL_REGION)[dt_5day].sum()\n",
    "dfp_cases = dft_cases.groupby(COL_REGION)[dt_yday].sum()\n",
    "dfp_deaths = dft_deaths.groupby(COL_REGION)[dt_yday].sum()"
   ]
  },
  {
   "cell_type": "code",
   "execution_count": 12,
   "metadata": {
    "execution": {
     "iopub.execute_input": "2020-12-10T00:11:28.978105Z",
     "iopub.status.busy": "2020-12-10T00:11:28.977233Z",
     "iopub.status.idle": "2020-12-10T00:11:28.982748Z",
     "shell.execute_reply": "2020-12-10T00:11:28.982279Z"
    },
    "papermill": {
     "duration": 0.036536,
     "end_time": "2020-12-10T00:11:28.982870",
     "exception": false,
     "start_time": "2020-12-10T00:11:28.946334",
     "status": "completed"
    },
    "tags": []
   },
   "outputs": [],
   "source": [
    "#hide\n",
    "df_table = (pd.DataFrame(dict(Cases = dfc_cases, Deaths = dfc_deaths, PCases = dfp_cases, PDeaths = dfp_deaths))\n",
    "            .sort_values(by = ['Cases','Deaths'], ascending = [False, False])\n",
    "            .reset_index())"
   ]
  },
  {
   "cell_type": "code",
   "execution_count": 13,
   "metadata": {
    "execution": {
     "iopub.execute_input": "2020-12-10T00:11:29.054354Z",
     "iopub.status.busy": "2020-12-10T00:11:29.042159Z",
     "iopub.status.idle": "2020-12-10T00:11:29.061563Z",
     "shell.execute_reply": "2020-12-10T00:11:29.062034Z"
    },
    "papermill": {
     "duration": 0.054538,
     "end_time": "2020-12-10T00:11:29.062170",
     "exception": false,
     "start_time": "2020-12-10T00:11:29.007632",
     "status": "completed"
    },
    "tags": []
   },
   "outputs": [
    {
     "data": {
      "text/html": [
       "<div>\n",
       "<style scoped>\n",
       "    .dataframe tbody tr th:only-of-type {\n",
       "        vertical-align: middle;\n",
       "    }\n",
       "\n",
       "    .dataframe tbody tr th {\n",
       "        vertical-align: top;\n",
       "    }\n",
       "\n",
       "    .dataframe thead th {\n",
       "        text-align: right;\n",
       "    }\n",
       "</style>\n",
       "<table border=\"1\" class=\"dataframe\">\n",
       "  <thead>\n",
       "    <tr style=\"text-align: right;\">\n",
       "      <th></th>\n",
       "      <th>Country/Region</th>\n",
       "      <th>Cases</th>\n",
       "      <th>Deaths</th>\n",
       "      <th>PCases</th>\n",
       "      <th>PDeaths</th>\n",
       "      <th>Cases (+)</th>\n",
       "      <th>Deaths (+)</th>\n",
       "      <th>Fatality Rate</th>\n",
       "      <th>Continent</th>\n",
       "    </tr>\n",
       "  </thead>\n",
       "  <tbody>\n",
       "    <tr>\n",
       "      <th>0</th>\n",
       "      <td>US</td>\n",
       "      <td>15165159</td>\n",
       "      <td>286249</td>\n",
       "      <td>14949435</td>\n",
       "      <td>283703</td>\n",
       "      <td>215724</td>\n",
       "      <td>2546</td>\n",
       "      <td>1.89</td>\n",
       "      <td>North America</td>\n",
       "    </tr>\n",
       "    <tr>\n",
       "      <th>1</th>\n",
       "      <td>India</td>\n",
       "      <td>9735850</td>\n",
       "      <td>141360</td>\n",
       "      <td>9703770</td>\n",
       "      <td>140958</td>\n",
       "      <td>32080</td>\n",
       "      <td>402</td>\n",
       "      <td>1.45</td>\n",
       "      <td>Asia</td>\n",
       "    </tr>\n",
       "    <tr>\n",
       "      <th>2</th>\n",
       "      <td>Brazil</td>\n",
       "      <td>6674999</td>\n",
       "      <td>178159</td>\n",
       "      <td>6623911</td>\n",
       "      <td>177317</td>\n",
       "      <td>51088</td>\n",
       "      <td>842</td>\n",
       "      <td>2.67</td>\n",
       "      <td>South America</td>\n",
       "    </tr>\n",
       "    <tr>\n",
       "      <th>3</th>\n",
       "      <td>Russia</td>\n",
       "      <td>2492713</td>\n",
       "      <td>43674</td>\n",
       "      <td>2466961</td>\n",
       "      <td>43122</td>\n",
       "      <td>25752</td>\n",
       "      <td>552</td>\n",
       "      <td>1.75</td>\n",
       "      <td>Europe</td>\n",
       "    </tr>\n",
       "    <tr>\n",
       "      <th>4</th>\n",
       "      <td>France</td>\n",
       "      <td>2363196</td>\n",
       "      <td>56453</td>\n",
       "      <td>2349059</td>\n",
       "      <td>55613</td>\n",
       "      <td>14137</td>\n",
       "      <td>840</td>\n",
       "      <td>2.39</td>\n",
       "      <td>Europe</td>\n",
       "    </tr>\n",
       "  </tbody>\n",
       "</table>\n",
       "</div>"
      ],
      "text/plain": [
       "  Country/Region     Cases  Deaths    PCases  PDeaths  Cases (+)  Deaths (+)  \\\n",
       "0             US  15165159  286249  14949435   283703     215724        2546   \n",
       "1          India   9735850  141360   9703770   140958      32080         402   \n",
       "2         Brazil   6674999  178159   6623911   177317      51088         842   \n",
       "3         Russia   2492713   43674   2466961    43122      25752         552   \n",
       "4         France   2363196   56453   2349059    55613      14137         840   \n",
       "\n",
       "   Fatality Rate      Continent  \n",
       "0           1.89  North America  \n",
       "1           1.45           Asia  \n",
       "2           2.67  South America  \n",
       "3           1.75         Europe  \n",
       "4           2.39         Europe  "
      ]
     },
     "execution_count": 13,
     "metadata": {},
     "output_type": "execute_result"
    }
   ],
   "source": [
    "#hide\n",
    "for c in 'Cases, Deaths'.split(', '):\n",
    "    df_table[f'{c} (+)'] = (df_table[c] - df_table[f'P{c}']).clip(0)\n",
    "    #Clip ça veut dire, les chiffres negatif sont interdit\n",
    "df_table['Fatality Rate'] = (100* df_table['Deaths']/ df_table['Cases']).round(2)\n",
    "df_table['Continent'] = df_table['Country/Region'].map(mapping['map.continent'])\n",
    "df_table.head(5)"
   ]
  },
  {
   "cell_type": "code",
   "execution_count": 14,
   "metadata": {
    "execution": {
     "iopub.execute_input": "2020-12-10T00:11:29.121785Z",
     "iopub.status.busy": "2020-12-10T00:11:29.121270Z",
     "iopub.status.idle": "2020-12-10T00:11:29.123486Z",
     "shell.execute_reply": "2020-12-10T00:11:29.123937Z"
    },
    "papermill": {
     "duration": 0.035585,
     "end_time": "2020-12-10T00:11:29.124050",
     "exception": false,
     "start_time": "2020-12-10T00:11:29.088465",
     "status": "completed"
    },
    "tags": []
   },
   "outputs": [],
   "source": [
    "#hide\n",
    "#delete problematic countries from table\n",
    "df_table = df_table[~df_table['Country/Region'].isin(['Cape Verde', 'Cruise Ship', 'Kosovo'])]"
   ]
  },
  {
   "cell_type": "code",
   "execution_count": 15,
   "metadata": {
    "execution": {
     "iopub.execute_input": "2020-12-10T00:11:29.198075Z",
     "iopub.status.busy": "2020-12-10T00:11:29.189704Z",
     "iopub.status.idle": "2020-12-10T00:11:29.201889Z",
     "shell.execute_reply": "2020-12-10T00:11:29.202398Z"
    },
    "papermill": {
     "duration": 0.049903,
     "end_time": "2020-12-10T00:11:29.202526",
     "exception": false,
     "start_time": "2020-12-10T00:11:29.152623",
     "status": "completed"
    },
    "tags": []
   },
   "outputs": [
    {
     "data": {
      "text/html": [
       "<div>\n",
       "<style scoped>\n",
       "    .dataframe tbody tr th:only-of-type {\n",
       "        vertical-align: middle;\n",
       "    }\n",
       "\n",
       "    .dataframe tbody tr th {\n",
       "        vertical-align: top;\n",
       "    }\n",
       "\n",
       "    .dataframe thead th {\n",
       "        text-align: right;\n",
       "    }\n",
       "</style>\n",
       "<table border=\"1\" class=\"dataframe\">\n",
       "  <thead>\n",
       "    <tr style=\"text-align: right;\">\n",
       "      <th></th>\n",
       "      <th>Country/Region</th>\n",
       "      <th>Cases</th>\n",
       "      <th>Deaths</th>\n",
       "      <th>PCases</th>\n",
       "      <th>PDeaths</th>\n",
       "      <th>Cases (+)</th>\n",
       "      <th>Deaths (+)</th>\n",
       "      <th>Fatality Rate</th>\n",
       "      <th>Continent</th>\n",
       "    </tr>\n",
       "  </thead>\n",
       "  <tbody>\n",
       "    <tr>\n",
       "      <th>0</th>\n",
       "      <td>US</td>\n",
       "      <td>15165159</td>\n",
       "      <td>286249</td>\n",
       "      <td>14949435</td>\n",
       "      <td>283703</td>\n",
       "      <td>215724</td>\n",
       "      <td>2546</td>\n",
       "      <td>1.9</td>\n",
       "      <td>North America</td>\n",
       "    </tr>\n",
       "    <tr>\n",
       "      <th>1</th>\n",
       "      <td>India</td>\n",
       "      <td>9735850</td>\n",
       "      <td>141360</td>\n",
       "      <td>9703770</td>\n",
       "      <td>140958</td>\n",
       "      <td>32080</td>\n",
       "      <td>402</td>\n",
       "      <td>1.5</td>\n",
       "      <td>Asia</td>\n",
       "    </tr>\n",
       "    <tr>\n",
       "      <th>2</th>\n",
       "      <td>Brazil</td>\n",
       "      <td>6674999</td>\n",
       "      <td>178159</td>\n",
       "      <td>6623911</td>\n",
       "      <td>177317</td>\n",
       "      <td>51088</td>\n",
       "      <td>842</td>\n",
       "      <td>2.7</td>\n",
       "      <td>South America</td>\n",
       "    </tr>\n",
       "    <tr>\n",
       "      <th>3</th>\n",
       "      <td>Russia</td>\n",
       "      <td>2492713</td>\n",
       "      <td>43674</td>\n",
       "      <td>2466961</td>\n",
       "      <td>43122</td>\n",
       "      <td>25752</td>\n",
       "      <td>552</td>\n",
       "      <td>1.8</td>\n",
       "      <td>Europe</td>\n",
       "    </tr>\n",
       "    <tr>\n",
       "      <th>4</th>\n",
       "      <td>France</td>\n",
       "      <td>2363196</td>\n",
       "      <td>56453</td>\n",
       "      <td>2349059</td>\n",
       "      <td>55613</td>\n",
       "      <td>14137</td>\n",
       "      <td>840</td>\n",
       "      <td>2.4</td>\n",
       "      <td>Europe</td>\n",
       "    </tr>\n",
       "  </tbody>\n",
       "</table>\n",
       "</div>"
      ],
      "text/plain": [
       "  Country/Region     Cases  Deaths    PCases  PDeaths  Cases (+)  Deaths (+)  \\\n",
       "0             US  15165159  286249  14949435   283703     215724        2546   \n",
       "1          India   9735850  141360   9703770   140958      32080         402   \n",
       "2         Brazil   6674999  178159   6623911   177317      51088         842   \n",
       "3         Russia   2492713   43674   2466961    43122      25752         552   \n",
       "4         France   2363196   56453   2349059    55613      14137         840   \n",
       "\n",
       "   Fatality Rate      Continent  \n",
       "0            1.9  North America  \n",
       "1            1.5           Asia  \n",
       "2            2.7  South America  \n",
       "3            1.8         Europe  \n",
       "4            2.4         Europe  "
      ]
     },
     "execution_count": 15,
     "metadata": {},
     "output_type": "execute_result"
    }
   ],
   "source": [
    "#hide\n",
    "df_table = (pd.DataFrame(dict(Cases=dfc_cases, Deaths=dfc_deaths, PCases=dfp_cases, PDeaths=dfp_deaths))\n",
    "             .sort_values(by=['Cases', 'Deaths'], ascending=[False, False])\n",
    "             .reset_index())\n",
    "df_table.rename(columns={'index': 'Country/Region'}, inplace=True)\n",
    "for c in 'Cases, Deaths'.split(', '):\n",
    "    df_table[f'{c} (+)'] = (df_table[c] - df_table[f'P{c}']).clip(0)  # DATA BUG\n",
    "df_table['Fatality Rate'] = (100 * df_table['Deaths'] / df_table['Cases']).round(1)\n",
    "df_table['Continent'] = df_table['Country/Region'].map(mapping['map.continent'])\n",
    "df_table.head(5)"
   ]
  },
  {
   "cell_type": "code",
   "execution_count": 16,
   "metadata": {
    "execution": {
     "iopub.execute_input": "2020-12-10T00:11:29.260978Z",
     "iopub.status.busy": "2020-12-10T00:11:29.260505Z",
     "iopub.status.idle": "2020-12-10T00:11:29.263187Z",
     "shell.execute_reply": "2020-12-10T00:11:29.263653Z"
    },
    "papermill": {
     "duration": 0.033049,
     "end_time": "2020-12-10T00:11:29.263786",
     "exception": false,
     "start_time": "2020-12-10T00:11:29.230737",
     "status": "completed"
    },
    "tags": []
   },
   "outputs": [],
   "source": [
    "#hide\n",
    "#delete problematic countries from table\n",
    "df_table = df_table[~df_table['Country/Region'].isin(['Cape Verde', 'Cruise Ship', 'Kosovo'])]"
   ]
  },
  {
   "cell_type": "code",
   "execution_count": 17,
   "metadata": {
    "execution": {
     "iopub.execute_input": "2020-12-10T00:11:29.339638Z",
     "iopub.status.busy": "2020-12-10T00:11:29.339089Z",
     "iopub.status.idle": "2020-12-10T00:11:29.341548Z",
     "shell.execute_reply": "2020-12-10T00:11:29.341116Z"
    },
    "papermill": {
     "duration": 0.050588,
     "end_time": "2020-12-10T00:11:29.341663",
     "exception": false,
     "start_time": "2020-12-10T00:11:29.291075",
     "status": "completed"
    },
    "tags": []
   },
   "outputs": [],
   "source": [
    "#hide\n",
    "metrics = [df_table.columns[index] for index in [1,2,5,6]]\n",
    "# s_china = df_table[df_table['Country/Region'].eq('China')][metrics].sum().add_prefix('China ')\n",
    "s_us = df_table[df_table['Country/Region'].eq('US')][metrics].sum().add_prefix('US ')\n",
    "s_eu = df_table[df_table['Continent'].eq('Europe')][metrics].sum().add_prefix('EU ')\n",
    "s_ind = df_table[df_table['Country/Region'].eq('India')][metrics].sum().add_prefix('India ')\n",
    "summary = {'updated': pd.to_datetime(dt_today), 'since': pd.to_datetime(dt_yday)}\n",
    "summary = {'updated': pd.to_datetime(dt_today), 'since': pd.to_datetime(dt_yday)}\n",
    "summary = {**summary, **df_table[metrics].sum(), **s_ind, **s_us, **s_eu}"
   ]
  },
  {
   "cell_type": "code",
   "execution_count": 18,
   "metadata": {
    "execution": {
     "iopub.execute_input": "2020-12-10T00:11:29.398435Z",
     "iopub.status.busy": "2020-12-10T00:11:29.398009Z",
     "iopub.status.idle": "2020-12-10T00:11:29.407054Z",
     "shell.execute_reply": "2020-12-10T00:11:29.406226Z"
    },
    "papermill": {
     "duration": 0.039555,
     "end_time": "2020-12-10T00:11:29.407157",
     "exception": false,
     "start_time": "2020-12-10T00:11:29.367602",
     "status": "completed"
    },
    "tags": []
   },
   "outputs": [],
   "source": [
    "#hide\n",
    "dft_ct_new_cases = dft_cases.groupby(COL_REGION)[dt_cols].sum().diff(axis=1).fillna(0).astype(int)"
   ]
  },
  {
   "cell_type": "code",
   "execution_count": 19,
   "metadata": {
    "execution": {
     "iopub.execute_input": "2020-12-10T00:11:29.463294Z",
     "iopub.status.busy": "2020-12-10T00:11:29.462281Z",
     "iopub.status.idle": "2020-12-10T00:11:29.464400Z",
     "shell.execute_reply": "2020-12-10T00:11:29.465212Z"
    },
    "papermill": {
     "duration": 0.033101,
     "end_time": "2020-12-10T00:11:29.465430",
     "exception": false,
     "start_time": "2020-12-10T00:11:29.432329",
     "status": "completed"
    },
    "tags": []
   },
   "outputs": [],
   "source": [
    "#hide\n",
    "everydaycases = dft_ct_new_cases.cumsum(axis=1)"
   ]
  },
  {
   "cell_type": "code",
   "execution_count": 20,
   "metadata": {
    "execution": {
     "iopub.execute_input": "2020-12-10T00:11:29.525626Z",
     "iopub.status.busy": "2020-12-10T00:11:29.525075Z",
     "iopub.status.idle": "2020-12-10T00:11:30.490473Z",
     "shell.execute_reply": "2020-12-10T00:11:30.489601Z"
    },
    "papermill": {
     "duration": 0.996754,
     "end_time": "2020-12-10T00:11:30.490700",
     "exception": false,
     "start_time": "2020-12-10T00:11:29.493946",
     "status": "completed"
    },
    "tags": []
   },
   "outputs": [],
   "source": [
    "#hide\n",
    "import pandas as pd\n",
    "import matplotlib.pyplot as plt\n",
    "import matplotlib.ticker as ticker\n",
    "import matplotlib.animation as animation\n",
    "from IPython.display import HTML"
   ]
  },
  {
   "cell_type": "code",
   "execution_count": 21,
   "metadata": {
    "execution": {
     "iopub.execute_input": "2020-12-10T00:11:30.554756Z",
     "iopub.status.busy": "2020-12-10T00:11:30.554165Z",
     "iopub.status.idle": "2020-12-10T00:11:30.560242Z",
     "shell.execute_reply": "2020-12-10T00:11:30.560734Z"
    },
    "papermill": {
     "duration": 0.040596,
     "end_time": "2020-12-10T00:11:30.560883",
     "exception": false,
     "start_time": "2020-12-10T00:11:30.520287",
     "status": "completed"
    },
    "tags": []
   },
   "outputs": [],
   "source": [
    "#hide\n",
    "t = everydaycases.stack()"
   ]
  },
  {
   "cell_type": "code",
   "execution_count": 22,
   "metadata": {
    "execution": {
     "iopub.execute_input": "2020-12-10T00:11:30.622653Z",
     "iopub.status.busy": "2020-12-10T00:11:30.622117Z",
     "iopub.status.idle": "2020-12-10T00:11:30.630178Z",
     "shell.execute_reply": "2020-12-10T00:11:30.630742Z"
    },
    "papermill": {
     "duration": 0.041701,
     "end_time": "2020-12-10T00:11:30.630876",
     "exception": false,
     "start_time": "2020-12-10T00:11:30.589175",
     "status": "completed"
    },
    "tags": []
   },
   "outputs": [],
   "source": [
    "#hide\n",
    "g = t.reset_index(['Country/Region'])"
   ]
  },
  {
   "cell_type": "code",
   "execution_count": 23,
   "metadata": {
    "execution": {
     "iopub.execute_input": "2020-12-10T00:11:30.687157Z",
     "iopub.status.busy": "2020-12-10T00:11:30.686682Z",
     "iopub.status.idle": "2020-12-10T00:11:30.690770Z",
     "shell.execute_reply": "2020-12-10T00:11:30.689903Z"
    },
    "papermill": {
     "duration": 0.03282,
     "end_time": "2020-12-10T00:11:30.690866",
     "exception": false,
     "start_time": "2020-12-10T00:11:30.658046",
     "status": "completed"
    },
    "tags": []
   },
   "outputs": [],
   "source": [
    "#hide\n",
    "g.index.name = 'date'"
   ]
  },
  {
   "cell_type": "code",
   "execution_count": 24,
   "metadata": {
    "execution": {
     "iopub.execute_input": "2020-12-10T00:11:30.745978Z",
     "iopub.status.busy": "2020-12-10T00:11:30.745441Z",
     "iopub.status.idle": "2020-12-10T00:11:30.747051Z",
     "shell.execute_reply": "2020-12-10T00:11:30.747408Z"
    },
    "papermill": {
     "duration": 0.030252,
     "end_time": "2020-12-10T00:11:30.747506",
     "exception": false,
     "start_time": "2020-12-10T00:11:30.717254",
     "status": "completed"
    },
    "tags": []
   },
   "outputs": [],
   "source": [
    "# #hide\n",
    "# g = g.reset_index(['date'])"
   ]
  },
  {
   "cell_type": "code",
   "execution_count": 25,
   "metadata": {
    "execution": {
     "iopub.execute_input": "2020-12-10T00:11:30.800167Z",
     "iopub.status.busy": "2020-12-10T00:11:30.799696Z",
     "iopub.status.idle": "2020-12-10T00:11:30.802310Z",
     "shell.execute_reply": "2020-12-10T00:11:30.802849Z"
    },
    "papermill": {
     "duration": 0.031046,
     "end_time": "2020-12-10T00:11:30.802971",
     "exception": false,
     "start_time": "2020-12-10T00:11:30.771925",
     "status": "completed"
    },
    "tags": []
   },
   "outputs": [],
   "source": [
    "#hide\n",
    "# g.head()"
   ]
  },
  {
   "cell_type": "code",
   "execution_count": 26,
   "metadata": {
    "execution": {
     "iopub.execute_input": "2020-12-10T00:11:30.862863Z",
     "iopub.status.busy": "2020-12-10T00:11:30.862289Z",
     "iopub.status.idle": "2020-12-10T00:11:30.865663Z",
     "shell.execute_reply": "2020-12-10T00:11:30.866121Z"
    },
    "papermill": {
     "duration": 0.034796,
     "end_time": "2020-12-10T00:11:30.866244",
     "exception": false,
     "start_time": "2020-12-10T00:11:30.831448",
     "status": "completed"
    },
    "tags": []
   },
   "outputs": [],
   "source": [
    "#hide\n",
    "# g.columns = ['date','country','cases']"
   ]
  },
  {
   "cell_type": "code",
   "execution_count": 27,
   "metadata": {
    "execution": {
     "iopub.execute_input": "2020-12-10T00:11:30.926003Z",
     "iopub.status.busy": "2020-12-10T00:11:30.925440Z",
     "iopub.status.idle": "2020-12-10T00:11:30.927812Z",
     "shell.execute_reply": "2020-12-10T00:11:30.927246Z"
    },
    "papermill": {
     "duration": 0.033231,
     "end_time": "2020-12-10T00:11:30.927941",
     "exception": false,
     "start_time": "2020-12-10T00:11:30.894710",
     "status": "completed"
    },
    "tags": []
   },
   "outputs": [],
   "source": [
    "#hide\n",
    "# g['continent'] = g.country"
   ]
  },
  {
   "cell_type": "code",
   "execution_count": 28,
   "metadata": {
    "execution": {
     "iopub.execute_input": "2020-12-10T00:11:30.980287Z",
     "iopub.status.busy": "2020-12-10T00:11:30.979857Z",
     "iopub.status.idle": "2020-12-10T00:11:30.981669Z",
     "shell.execute_reply": "2020-12-10T00:11:30.982061Z"
    },
    "papermill": {
     "duration": 0.029605,
     "end_time": "2020-12-10T00:11:30.982176",
     "exception": false,
     "start_time": "2020-12-10T00:11:30.952571",
     "status": "completed"
    },
    "tags": []
   },
   "outputs": [],
   "source": [
    "#hide\n",
    "# cols = list(g.columns.values)"
   ]
  },
  {
   "cell_type": "code",
   "execution_count": 29,
   "metadata": {
    "execution": {
     "iopub.execute_input": "2020-12-10T00:11:31.035416Z",
     "iopub.status.busy": "2020-12-10T00:11:31.034885Z",
     "iopub.status.idle": "2020-12-10T00:11:31.037124Z",
     "shell.execute_reply": "2020-12-10T00:11:31.037623Z"
    },
    "papermill": {
     "duration": 0.031015,
     "end_time": "2020-12-10T00:11:31.037745",
     "exception": false,
     "start_time": "2020-12-10T00:11:31.006730",
     "status": "completed"
    },
    "tags": []
   },
   "outputs": [],
   "source": [
    "#hide\n",
    "# cols.insert(0, cols.pop())"
   ]
  },
  {
   "cell_type": "code",
   "execution_count": 30,
   "metadata": {
    "execution": {
     "iopub.execute_input": "2020-12-10T00:11:31.100697Z",
     "iopub.status.busy": "2020-12-10T00:11:31.099859Z",
     "iopub.status.idle": "2020-12-10T00:11:31.101270Z",
     "shell.execute_reply": "2020-12-10T00:11:31.101698Z"
    },
    "papermill": {
     "duration": 0.038805,
     "end_time": "2020-12-10T00:11:31.101934",
     "exception": false,
     "start_time": "2020-12-10T00:11:31.063129",
     "status": "completed"
    },
    "tags": []
   },
   "outputs": [],
   "source": [
    "#hide\n",
    "# g = g[cols]"
   ]
  },
  {
   "cell_type": "code",
   "execution_count": 31,
   "metadata": {
    "execution": {
     "iopub.execute_input": "2020-12-10T00:11:31.158436Z",
     "iopub.status.busy": "2020-12-10T00:11:31.157970Z",
     "iopub.status.idle": "2020-12-10T00:11:31.159997Z",
     "shell.execute_reply": "2020-12-10T00:11:31.159622Z"
    },
    "papermill": {
     "duration": 0.030173,
     "end_time": "2020-12-10T00:11:31.160103",
     "exception": false,
     "start_time": "2020-12-10T00:11:31.129930",
     "status": "completed"
    },
    "tags": []
   },
   "outputs": [],
   "source": [
    "#hide\n",
    "# g['continent'] = g['continent'].map(mapping['map.continent'])"
   ]
  },
  {
   "cell_type": "code",
   "execution_count": 32,
   "metadata": {
    "execution": {
     "iopub.execute_input": "2020-12-10T00:11:31.214780Z",
     "iopub.status.busy": "2020-12-10T00:11:31.214250Z",
     "iopub.status.idle": "2020-12-10T00:11:31.216369Z",
     "shell.execute_reply": "2020-12-10T00:11:31.216821Z"
    },
    "papermill": {
     "duration": 0.03198,
     "end_time": "2020-12-10T00:11:31.216930",
     "exception": false,
     "start_time": "2020-12-10T00:11:31.184950",
     "status": "completed"
    },
    "tags": []
   },
   "outputs": [],
   "source": [
    "#hide\n",
    "# g.head()"
   ]
  },
  {
   "cell_type": "code",
   "execution_count": 33,
   "metadata": {
    "execution": {
     "iopub.execute_input": "2020-12-10T00:11:31.269983Z",
     "iopub.status.busy": "2020-12-10T00:11:31.269519Z",
     "iopub.status.idle": "2020-12-10T00:11:31.271984Z",
     "shell.execute_reply": "2020-12-10T00:11:31.272387Z"
    },
    "papermill": {
     "duration": 0.030246,
     "end_time": "2020-12-10T00:11:31.272495",
     "exception": false,
     "start_time": "2020-12-10T00:11:31.242249",
     "status": "completed"
    },
    "tags": []
   },
   "outputs": [],
   "source": [
    "# hide\n",
    "# g['date'] = g['date'].astype('datetime64[ns]')"
   ]
  },
  {
   "cell_type": "code",
   "execution_count": 34,
   "metadata": {
    "execution": {
     "iopub.execute_input": "2020-12-10T00:11:31.330352Z",
     "iopub.status.busy": "2020-12-10T00:11:31.329406Z",
     "iopub.status.idle": "2020-12-10T00:11:31.331365Z",
     "shell.execute_reply": "2020-12-10T00:11:31.332118Z"
    },
    "papermill": {
     "duration": 0.03442,
     "end_time": "2020-12-10T00:11:31.332358",
     "exception": false,
     "start_time": "2020-12-10T00:11:31.297938",
     "status": "completed"
    },
    "tags": []
   },
   "outputs": [],
   "source": [
    "#hide\n",
    "# g['date'] = g.date.dt.dayofyear"
   ]
  },
  {
   "cell_type": "code",
   "execution_count": 35,
   "metadata": {
    "execution": {
     "iopub.execute_input": "2020-12-10T00:11:31.394375Z",
     "iopub.status.busy": "2020-12-10T00:11:31.393587Z",
     "iopub.status.idle": "2020-12-10T00:11:31.395118Z",
     "shell.execute_reply": "2020-12-10T00:11:31.395843Z"
    },
    "papermill": {
     "duration": 0.034407,
     "end_time": "2020-12-10T00:11:31.395984",
     "exception": false,
     "start_time": "2020-12-10T00:11:31.361577",
     "status": "completed"
    },
    "tags": []
   },
   "outputs": [],
   "source": [
    "#hide\n",
    "# g = g.rename(columns= {'continent':'group','country':'name','cases':'value'})"
   ]
  },
  {
   "cell_type": "code",
   "execution_count": 36,
   "metadata": {
    "execution": {
     "iopub.execute_input": "2020-12-10T00:11:31.454239Z",
     "iopub.status.busy": "2020-12-10T00:11:31.453701Z",
     "iopub.status.idle": "2020-12-10T00:11:31.456497Z",
     "shell.execute_reply": "2020-12-10T00:11:31.456089Z"
    },
    "papermill": {
     "duration": 0.033077,
     "end_time": "2020-12-10T00:11:31.456592",
     "exception": false,
     "start_time": "2020-12-10T00:11:31.423515",
     "status": "completed"
    },
    "tags": []
   },
   "outputs": [],
   "source": [
    "#hide\n",
    "# cols = ['name','group','day','value']"
   ]
  },
  {
   "cell_type": "code",
   "execution_count": 37,
   "metadata": {
    "execution": {
     "iopub.execute_input": "2020-12-10T00:11:31.517657Z",
     "iopub.status.busy": "2020-12-10T00:11:31.516631Z",
     "iopub.status.idle": "2020-12-10T00:11:31.518249Z",
     "shell.execute_reply": "2020-12-10T00:11:31.518703Z"
    },
    "papermill": {
     "duration": 0.03503,
     "end_time": "2020-12-10T00:11:31.518833",
     "exception": false,
     "start_time": "2020-12-10T00:11:31.483803",
     "status": "completed"
    },
    "tags": []
   },
   "outputs": [],
   "source": [
    "#hide\n",
    "# g.rename(columns= {'date':'day'},inplace = True)"
   ]
  },
  {
   "cell_type": "code",
   "execution_count": 38,
   "metadata": {
    "execution": {
     "iopub.execute_input": "2020-12-10T00:11:31.581759Z",
     "iopub.status.busy": "2020-12-10T00:11:31.580730Z",
     "iopub.status.idle": "2020-12-10T00:11:31.582891Z",
     "shell.execute_reply": "2020-12-10T00:11:31.583726Z"
    },
    "papermill": {
     "duration": 0.036023,
     "end_time": "2020-12-10T00:11:31.583959",
     "exception": false,
     "start_time": "2020-12-10T00:11:31.547936",
     "status": "completed"
    },
    "tags": []
   },
   "outputs": [],
   "source": [
    "#hide\n",
    "# g = g[cols]"
   ]
  },
  {
   "cell_type": "code",
   "execution_count": 39,
   "metadata": {
    "execution": {
     "iopub.execute_input": "2020-12-10T00:11:31.644356Z",
     "iopub.status.busy": "2020-12-10T00:11:31.643783Z",
     "iopub.status.idle": "2020-12-10T00:11:31.645890Z",
     "shell.execute_reply": "2020-12-10T00:11:31.646343Z"
    },
    "papermill": {
     "duration": 0.033557,
     "end_time": "2020-12-10T00:11:31.646487",
     "exception": false,
     "start_time": "2020-12-10T00:11:31.612930",
     "status": "completed"
    },
    "tags": []
   },
   "outputs": [],
   "source": [
    "# #hide\n",
    "# g = g[g.group.notna()]"
   ]
  },
  {
   "cell_type": "code",
   "execution_count": 40,
   "metadata": {
    "execution": {
     "iopub.execute_input": "2020-12-10T00:11:31.704715Z",
     "iopub.status.busy": "2020-12-10T00:11:31.704139Z",
     "iopub.status.idle": "2020-12-10T00:11:31.706576Z",
     "shell.execute_reply": "2020-12-10T00:11:31.707064Z"
    },
    "papermill": {
     "duration": 0.032716,
     "end_time": "2020-12-10T00:11:31.707194",
     "exception": false,
     "start_time": "2020-12-10T00:11:31.674478",
     "status": "completed"
    },
    "tags": []
   },
   "outputs": [],
   "source": [
    "# #hide\n",
    "# colors = dict(zip(\n",
    "#     [\"Oceania\", \"Europe\", \"Asia\", \"South America\", \"Middle East\", \"North America\", \"Africa\"],\n",
    "#     [\"#adb0ff\", \"#ffb3ff\", \"#90d595\", \"#e48381\", \"#aafbff\", \"#f7bb5f\", \"#eafb50\"]\n",
    "# ))\n",
    "# group_lk = g.set_index('name')['group'].to_dict()"
   ]
  },
  {
   "cell_type": "code",
   "execution_count": null,
   "metadata": {
    "papermill": {
     "duration": 0.025196,
     "end_time": "2020-12-10T00:11:31.760086",
     "exception": false,
     "start_time": "2020-12-10T00:11:31.734890",
     "status": "completed"
    },
    "tags": []
   },
   "outputs": [],
   "source": []
  },
  {
   "cell_type": "code",
   "execution_count": 41,
   "metadata": {
    "execution": {
     "iopub.execute_input": "2020-12-10T00:11:31.816221Z",
     "iopub.status.busy": "2020-12-10T00:11:31.815649Z",
     "iopub.status.idle": "2020-12-10T00:11:31.818527Z",
     "shell.execute_reply": "2020-12-10T00:11:31.818031Z"
    },
    "papermill": {
     "duration": 0.033089,
     "end_time": "2020-12-10T00:11:31.818640",
     "exception": false,
     "start_time": "2020-12-10T00:11:31.785551",
     "status": "completed"
    },
    "tags": []
   },
   "outputs": [],
   "source": [
    "# #hide\n",
    "# fig, ax = plt.subplots(figsize=(15, 8))\n",
    "\n",
    "# def draw_barchart(current_day):\n",
    "#     dff = g[g['day'].eq(current_day)].sort_values(by='value', ascending=True).tail(10)\n",
    "#     ax.clear()\n",
    "#     ax.barh(dff['name'], dff['value'], color=[colors[group_lk[x]] for x in dff['name']])\n",
    "#     dx = dff['value'].max() / 200\n",
    "    \n",
    "#     for i, (value, name) in enumerate(zip(dff['value'], dff['name'])):\n",
    "#         ax.text(value-dx, i,     name,           size=14, weight=600, ha='right', va='bottom')\n",
    "#         ax.text(value-dx, i-.25, group_lk[name], size=10, color='#444444', ha='right', va='baseline')\n",
    "#         ax.text(value+dx, i,     f'{value:,.0f}',  size=14, ha='left',  va='center')\n",
    "#     ax.text(1, 0.4, current_day, transform=ax.transAxes, color='#777777', size=46, ha='right', weight=800)\n",
    "#     ax.text(0, 1.06, 'Population (thousands)', transform=ax.transAxes, size=12, color='#777777')\n",
    "#     ax.xaxis.set_major_formatter(ticker.StrMethodFormatter('{x:,.0f}'))\n",
    "#     ax.xaxis.set_ticks_position('top')\n",
    "#     ax.tick_params(axis='x', colors='#777777', labelsize=12)\n",
    "#     ax.set_yticks([])\n",
    "#     ax.margins(0, 0.01)\n",
    "#     ax.grid(which='major', axis='x', linestyle='-')\n",
    "#     ax.set_axisbelow(True)\n",
    "    \n",
    "#     ax.text(0, 1.15, 'Coronavirus',\n",
    "#             transform=ax.transAxes, size=24, weight=600, ha='left', va='top')\n",
    "# #     ax.text(1, 0, 'by @pratapvardhan; credit @jburnmurdoch', transform=ax.transAxes, color='#777777', ha='right',\n",
    "# #             bbox=dict(facecolor='white', alpha=0.8, edgecolor='white'))\n",
    "#     plt.box(False)"
   ]
  },
  {
   "cell_type": "code",
   "execution_count": 42,
   "metadata": {
    "execution": {
     "iopub.execute_input": "2020-12-10T00:11:31.874865Z",
     "iopub.status.busy": "2020-12-10T00:11:31.874327Z",
     "iopub.status.idle": "2020-12-10T00:11:31.876175Z",
     "shell.execute_reply": "2020-12-10T00:11:31.876685Z"
    },
    "papermill": {
     "duration": 0.031103,
     "end_time": "2020-12-10T00:11:31.876797",
     "exception": false,
     "start_time": "2020-12-10T00:11:31.845694",
     "status": "completed"
    },
    "tags": []
   },
   "outputs": [],
   "source": [
    "# #hide_input\n",
    "# fig, ax = plt.subplots(figsize=(15, 8))\n",
    "# animator = animation.FuncAnimation(fig, draw_barchart, frames=range(g.day.values.min(), g.day.values.max()))\n",
    "# HTML(animator.to_jshtml())\n",
    "# # or use animator.to_html5_video() or animator.save() "
   ]
  },
  {
   "cell_type": "code",
   "execution_count": null,
   "metadata": {
    "papermill": {
     "duration": 0.028322,
     "end_time": "2020-12-10T00:11:31.929426",
     "exception": false,
     "start_time": "2020-12-10T00:11:31.901104",
     "status": "completed"
    },
    "tags": []
   },
   "outputs": [],
   "source": []
  },
  {
   "cell_type": "code",
   "execution_count": null,
   "metadata": {
    "papermill": {
     "duration": 0.02564,
     "end_time": "2020-12-10T00:11:31.981590",
     "exception": false,
     "start_time": "2020-12-10T00:11:31.955950",
     "status": "completed"
    },
    "tags": []
   },
   "outputs": [],
   "source": []
  },
  {
   "cell_type": "code",
   "execution_count": null,
   "metadata": {
    "papermill": {
     "duration": 0.026143,
     "end_time": "2020-12-10T00:11:32.034489",
     "exception": false,
     "start_time": "2020-12-10T00:11:32.008346",
     "status": "completed"
    },
    "tags": []
   },
   "outputs": [],
   "source": []
  }
 ],
 "metadata": {
  "kernelspec": {
   "display_name": "Python 3",
   "language": "python",
   "name": "python3"
  },
  "language_info": {
   "codemirror_mode": {
    "name": "ipython",
    "version": 3
   },
   "file_extension": ".py",
   "mimetype": "text/x-python",
   "name": "python",
   "nbconvert_exporter": "python",
   "pygments_lexer": "ipython3",
   "version": "3.6.12"
  },
  "papermill": {
   "duration": 7.282419,
   "end_time": "2020-12-10T00:11:32.370596",
   "environment_variables": {},
   "exception": null,
   "input_path": "2020-03-21-covid19exp.ipynb",
   "output_path": "2020-03-21-covid19exp.ipynb",
   "parameters": {},
   "start_time": "2020-12-10T00:11:25.088177",
   "version": "2.0.0"
  }
 },
 "nbformat": 4,
 "nbformat_minor": 4
}