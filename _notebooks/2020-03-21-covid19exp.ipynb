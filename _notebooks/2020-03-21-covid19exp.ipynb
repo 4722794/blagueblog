{
 "cells": [
  {
   "cell_type": "markdown",
   "id": "muslim-click",
   "metadata": {
    "papermill": {
     "duration": 0.03487,
     "end_time": "2022-06-14T00:46:58.019687",
     "exception": false,
     "start_time": "2022-06-14T00:46:57.984817",
     "status": "completed"
    },
    "tags": []
   },
   "source": [
    "# COVID-19 Case Race\n",
    "> A race chart to see rising cases around the world\n",
    "\n",
    "- author: Hargun Oberoi\n",
    "- image: images/covid-overview.png\n",
    "- hide: false\n",
    "- badges: false"
   ]
  },
  {
   "cell_type": "code",
   "execution_count": 1,
   "id": "proof-material",
   "metadata": {
    "execution": {
     "iopub.execute_input": "2022-06-14T00:46:58.089517Z",
     "iopub.status.busy": "2022-06-14T00:46:58.088842Z",
     "iopub.status.idle": "2022-06-14T00:46:58.407808Z",
     "shell.execute_reply": "2022-06-14T00:46:58.406766Z"
    },
    "papermill": {
     "duration": 0.358517,
     "end_time": "2022-06-14T00:46:58.407961",
     "exception": false,
     "start_time": "2022-06-14T00:46:58.049444",
     "status": "completed"
    },
    "tags": []
   },
   "outputs": [],
   "source": [
    "#hide\n",
    "import numpy as np\n",
    "import pandas as pd\n",
    "from jinja2 import Template\n",
    "from IPython.display import HTML"
   ]
  },
  {
   "cell_type": "code",
   "execution_count": 2,
   "id": "developed-terminology",
   "metadata": {
    "execution": {
     "iopub.execute_input": "2022-06-14T00:46:58.471237Z",
     "iopub.status.busy": "2022-06-14T00:46:58.470564Z",
     "iopub.status.idle": "2022-06-14T00:46:58.472954Z",
     "shell.execute_reply": "2022-06-14T00:46:58.472450Z"
    },
    "papermill": {
     "duration": 0.035618,
     "end_time": "2022-06-14T00:46:58.473100",
     "exception": false,
     "start_time": "2022-06-14T00:46:58.437482",
     "status": "completed"
    },
    "tags": []
   },
   "outputs": [],
   "source": [
    "#hide\n",
    "\n",
    "# FETCH\n",
    "base_url = 'https://raw.githubusercontent.com/pratapvardhan/notebooks/master/covid19/'\n",
    "paths = {\n",
    "    'mapping': base_url + 'mapping_countries.csv',\n",
    "    'overview': base_url + 'overview.tpl'\n",
    "}"
   ]
  },
  {
   "cell_type": "code",
   "execution_count": 3,
   "id": "dynamic-saver",
   "metadata": {
    "execution": {
     "iopub.execute_input": "2022-06-14T00:46:58.540494Z",
     "iopub.status.busy": "2022-06-14T00:46:58.539920Z",
     "iopub.status.idle": "2022-06-14T00:46:58.542983Z",
     "shell.execute_reply": "2022-06-14T00:46:58.543451Z"
    },
    "papermill": {
     "duration": 0.041407,
     "end_time": "2022-06-14T00:46:58.543569",
     "exception": false,
     "start_time": "2022-06-14T00:46:58.502162",
     "status": "completed"
    },
    "tags": []
   },
   "outputs": [
    {
     "data": {
      "text/plain": [
       "'https://raw.githubusercontent.com/pratapvardhan/notebooks/master/covid19/mapping_countries.csv'"
      ]
     },
     "execution_count": 3,
     "metadata": {},
     "output_type": "execute_result"
    }
   ],
   "source": [
    "#hide\n",
    "paths['mapping']"
   ]
  },
  {
   "cell_type": "code",
   "execution_count": 4,
   "id": "urban-software",
   "metadata": {
    "execution": {
     "iopub.execute_input": "2022-06-14T00:46:58.607769Z",
     "iopub.status.busy": "2022-06-14T00:46:58.607161Z",
     "iopub.status.idle": "2022-06-14T00:46:58.609791Z",
     "shell.execute_reply": "2022-06-14T00:46:58.609339Z"
    },
    "papermill": {
     "duration": 0.037025,
     "end_time": "2022-06-14T00:46:58.609899",
     "exception": false,
     "start_time": "2022-06-14T00:46:58.572874",
     "status": "completed"
    },
    "tags": []
   },
   "outputs": [],
   "source": [
    "#hide\n",
    "def get_mappings(url):\n",
    "    df = pd.read_csv(url)\n",
    "    return {\n",
    "        'df': df,\n",
    "        'replace.country': dict(df.dropna(subset=['Name']).set_index('Country')['Name']),\n",
    "        'map.continent': dict(df.set_index('Name')['Continent'])\n",
    "    }"
   ]
  },
  {
   "cell_type": "code",
   "execution_count": 5,
   "id": "intimate-machinery",
   "metadata": {
    "execution": {
     "iopub.execute_input": "2022-06-14T00:46:58.673611Z",
     "iopub.status.busy": "2022-06-14T00:46:58.673021Z",
     "iopub.status.idle": "2022-06-14T00:46:58.713565Z",
     "shell.execute_reply": "2022-06-14T00:46:58.712984Z"
    },
    "papermill": {
     "duration": 0.074609,
     "end_time": "2022-06-14T00:46:58.713685",
     "exception": false,
     "start_time": "2022-06-14T00:46:58.639076",
     "status": "completed"
    },
    "tags": []
   },
   "outputs": [],
   "source": [
    "#hide\n",
    "mapping = get_mappings(paths['mapping'])"
   ]
  },
  {
   "cell_type": "code",
   "execution_count": 6,
   "id": "certified-tactics",
   "metadata": {
    "execution": {
     "iopub.execute_input": "2022-06-14T00:46:58.777580Z",
     "iopub.status.busy": "2022-06-14T00:46:58.776977Z",
     "iopub.status.idle": "2022-06-14T00:46:58.779954Z",
     "shell.execute_reply": "2022-06-14T00:46:58.779495Z"
    },
    "papermill": {
     "duration": 0.036467,
     "end_time": "2022-06-14T00:46:58.780053",
     "exception": false,
     "start_time": "2022-06-14T00:46:58.743586",
     "status": "completed"
    },
    "tags": []
   },
   "outputs": [],
   "source": [
    "#hide\n",
    "def get_template(path):\n",
    "    from urllib.parse import urlparse\n",
    "    if bool(urlparse(path).netloc):\n",
    "        from urllib.request import urlopen\n",
    "        return urlopen(path).read().decode('utf8')\n",
    "    return open(path).read()"
   ]
  },
  {
   "cell_type": "code",
   "execution_count": 7,
   "id": "realistic-blast",
   "metadata": {
    "execution": {
     "iopub.execute_input": "2022-06-14T00:46:58.847820Z",
     "iopub.status.busy": "2022-06-14T00:46:58.847158Z",
     "iopub.status.idle": "2022-06-14T00:46:58.849725Z",
     "shell.execute_reply": "2022-06-14T00:46:58.849085Z"
    },
    "papermill": {
     "duration": 0.036127,
     "end_time": "2022-06-14T00:46:58.849839",
     "exception": false,
     "start_time": "2022-06-14T00:46:58.813712",
     "status": "completed"
    },
    "tags": []
   },
   "outputs": [],
   "source": [
    "#hide\n",
    "def get_frame(name):\n",
    "    url = (\n",
    "        'https://raw.githubusercontent.com/CSSEGISandData/COVID-19/master/csse_covid_19_data/'\n",
    "        f'csse_covid_19_time_series/time_series_covid19_{name}_global.csv')\n",
    "    df = pd.read_csv(url)\n",
    "    # rename countries\n",
    "    df['Country/Region'] = df['Country/Region'].replace(mapping['replace.country'])\n",
    "    return df"
   ]
  },
  {
   "cell_type": "code",
   "execution_count": 8,
   "id": "affiliated-characterization",
   "metadata": {
    "execution": {
     "iopub.execute_input": "2022-06-14T00:46:58.914866Z",
     "iopub.status.busy": "2022-06-14T00:46:58.914236Z",
     "iopub.status.idle": "2022-06-14T00:46:58.916749Z",
     "shell.execute_reply": "2022-06-14T00:46:58.916304Z"
    },
    "papermill": {
     "duration": 0.037477,
     "end_time": "2022-06-14T00:46:58.916858",
     "exception": false,
     "start_time": "2022-06-14T00:46:58.879381",
     "status": "completed"
    },
    "tags": []
   },
   "outputs": [],
   "source": [
    "#hide\n",
    "def get_dates(df):\n",
    "    dt_cols = df.columns[~df.columns.isin(['Province/State', 'Country/Region', 'Lat', 'Long'])]\n",
    "    LAST_DATE_I = -1\n",
    "    # sometimes last column may be empty, then go backwards\n",
    "    for i in range(-1, -len(dt_cols), -1):\n",
    "        if not df[dt_cols[i]].fillna(0).eq(0).all():\n",
    "            LAST_DATE_I = i\n",
    "            break\n",
    "    return LAST_DATE_I, dt_cols"
   ]
  },
  {
   "cell_type": "code",
   "execution_count": 9,
   "id": "recent-optimization",
   "metadata": {
    "execution": {
     "iopub.execute_input": "2022-06-14T00:46:58.980296Z",
     "iopub.status.busy": "2022-06-14T00:46:58.979703Z",
     "iopub.status.idle": "2022-06-14T00:46:59.436245Z",
     "shell.execute_reply": "2022-06-14T00:46:59.435665Z"
    },
    "papermill": {
     "duration": 0.49024,
     "end_time": "2022-06-14T00:46:59.436384",
     "exception": false,
     "start_time": "2022-06-14T00:46:58.946144",
     "status": "completed"
    },
    "tags": []
   },
   "outputs": [],
   "source": [
    "#hide\n",
    "COL_REGION = 'Country/Region'\n",
    "# Confirmed, Recovered, Deaths\n",
    "df = get_frame('confirmed')\n",
    "# dft_: timeseries, dfc_: today country agg\n",
    "dft_cases = df\n",
    "dft_deaths = get_frame('deaths')\n",
    "dft_recovered = get_frame('recovered')\n",
    "LAST_DATE_I, dt_cols = get_dates(df)"
   ]
  },
  {
   "cell_type": "code",
   "execution_count": 10,
   "id": "absolute-copper",
   "metadata": {
    "execution": {
     "iopub.execute_input": "2022-06-14T00:46:59.501245Z",
     "iopub.status.busy": "2022-06-14T00:46:59.500612Z",
     "iopub.status.idle": "2022-06-14T00:46:59.503196Z",
     "shell.execute_reply": "2022-06-14T00:46:59.502644Z"
    },
    "papermill": {
     "duration": 0.036805,
     "end_time": "2022-06-14T00:46:59.503304",
     "exception": false,
     "start_time": "2022-06-14T00:46:59.466499",
     "status": "completed"
    },
    "tags": []
   },
   "outputs": [],
   "source": [
    "#hide\n",
    "LAST_DATE_I, dt_cols = get_dates(df)\n",
    "dt_today =dt_cols[LAST_DATE_I]\n",
    "# dt_5day = dt_cols[LAST_DATE_I - 5]\n",
    "dt_yday = dt_cols[LAST_DATE_I - 1]"
   ]
  },
  {
   "cell_type": "code",
   "execution_count": 11,
   "id": "restricted-sheriff",
   "metadata": {
    "execution": {
     "iopub.execute_input": "2022-06-14T00:46:59.568736Z",
     "iopub.status.busy": "2022-06-14T00:46:59.568141Z",
     "iopub.status.idle": "2022-06-14T00:46:59.574903Z",
     "shell.execute_reply": "2022-06-14T00:46:59.575348Z"
    },
    "papermill": {
     "duration": 0.04282,
     "end_time": "2022-06-14T00:46:59.575471",
     "exception": false,
     "start_time": "2022-06-14T00:46:59.532651",
     "status": "completed"
    },
    "tags": []
   },
   "outputs": [],
   "source": [
    "#hide\n",
    "dfc_cases = dft_cases.groupby(COL_REGION)[dt_today].sum()\n",
    "dfc_deaths = dft_deaths.groupby(COL_REGION)[dt_today].sum()\n",
    "# dfp_cases = dft_cases.groupby(COL_REGION)[dt_5day].sum()\n",
    "# dfp_deaths = dft_deaths.groupby(COL_REGION)[dt_5day].sum()\n",
    "dfp_cases = dft_cases.groupby(COL_REGION)[dt_yday].sum()\n",
    "dfp_deaths = dft_deaths.groupby(COL_REGION)[dt_yday].sum()"
   ]
  },
  {
   "cell_type": "code",
   "execution_count": 12,
   "id": "deluxe-hepatitis",
   "metadata": {
    "execution": {
     "iopub.execute_input": "2022-06-14T00:46:59.640614Z",
     "iopub.status.busy": "2022-06-14T00:46:59.640020Z",
     "iopub.status.idle": "2022-06-14T00:46:59.645140Z",
     "shell.execute_reply": "2022-06-14T00:46:59.644637Z"
    },
    "papermill": {
     "duration": 0.040365,
     "end_time": "2022-06-14T00:46:59.645254",
     "exception": false,
     "start_time": "2022-06-14T00:46:59.604889",
     "status": "completed"
    },
    "tags": []
   },
   "outputs": [],
   "source": [
    "#hide\n",
    "df_table = (pd.DataFrame(dict(Cases = dfc_cases, Deaths = dfc_deaths, PCases = dfp_cases, PDeaths = dfp_deaths))\n",
    "            .sort_values(by = ['Cases','Deaths'], ascending = [False, False])\n",
    "            .reset_index())"
   ]
  },
  {
   "cell_type": "code",
   "execution_count": 13,
   "id": "educational-chancellor",
   "metadata": {
    "execution": {
     "iopub.execute_input": "2022-06-14T00:46:59.722764Z",
     "iopub.status.busy": "2022-06-14T00:46:59.722164Z",
     "iopub.status.idle": "2022-06-14T00:46:59.730070Z",
     "shell.execute_reply": "2022-06-14T00:46:59.729601Z"
    },
    "papermill": {
     "duration": 0.05545,
     "end_time": "2022-06-14T00:46:59.730176",
     "exception": false,
     "start_time": "2022-06-14T00:46:59.674726",
     "status": "completed"
    },
    "tags": []
   },
   "outputs": [
    {
     "data": {
      "text/html": [
       "<div>\n",
       "<style scoped>\n",
       "    .dataframe tbody tr th:only-of-type {\n",
       "        vertical-align: middle;\n",
       "    }\n",
       "\n",
       "    .dataframe tbody tr th {\n",
       "        vertical-align: top;\n",
       "    }\n",
       "\n",
       "    .dataframe thead th {\n",
       "        text-align: right;\n",
       "    }\n",
       "</style>\n",
       "<table border=\"1\" class=\"dataframe\">\n",
       "  <thead>\n",
       "    <tr style=\"text-align: right;\">\n",
       "      <th></th>\n",
       "      <th>Country/Region</th>\n",
       "      <th>Cases</th>\n",
       "      <th>Deaths</th>\n",
       "      <th>PCases</th>\n",
       "      <th>PDeaths</th>\n",
       "      <th>Cases (+)</th>\n",
       "      <th>Deaths (+)</th>\n",
       "      <th>Fatality Rate</th>\n",
       "      <th>Continent</th>\n",
       "    </tr>\n",
       "  </thead>\n",
       "  <tbody>\n",
       "    <tr>\n",
       "      <th>0</th>\n",
       "      <td>US</td>\n",
       "      <td>85515529</td>\n",
       "      <td>1011275</td>\n",
       "      <td>85500710</td>\n",
       "      <td>1011260</td>\n",
       "      <td>14819</td>\n",
       "      <td>15</td>\n",
       "      <td>1.18</td>\n",
       "      <td>North America</td>\n",
       "    </tr>\n",
       "    <tr>\n",
       "      <th>1</th>\n",
       "      <td>India</td>\n",
       "      <td>43230101</td>\n",
       "      <td>524771</td>\n",
       "      <td>43222017</td>\n",
       "      <td>524761</td>\n",
       "      <td>8084</td>\n",
       "      <td>10</td>\n",
       "      <td>1.21</td>\n",
       "      <td>Asia</td>\n",
       "    </tr>\n",
       "    <tr>\n",
       "      <th>2</th>\n",
       "      <td>Brazil</td>\n",
       "      <td>31456865</td>\n",
       "      <td>668110</td>\n",
       "      <td>31445137</td>\n",
       "      <td>668074</td>\n",
       "      <td>11728</td>\n",
       "      <td>36</td>\n",
       "      <td>2.12</td>\n",
       "      <td>South America</td>\n",
       "    </tr>\n",
       "    <tr>\n",
       "      <th>3</th>\n",
       "      <td>France</td>\n",
       "      <td>29946603</td>\n",
       "      <td>149788</td>\n",
       "      <td>29946603</td>\n",
       "      <td>149788</td>\n",
       "      <td>0</td>\n",
       "      <td>0</td>\n",
       "      <td>0.50</td>\n",
       "      <td>Europe</td>\n",
       "    </tr>\n",
       "    <tr>\n",
       "      <th>4</th>\n",
       "      <td>Germany</td>\n",
       "      <td>26809245</td>\n",
       "      <td>139807</td>\n",
       "      <td>26803867</td>\n",
       "      <td>139806</td>\n",
       "      <td>5378</td>\n",
       "      <td>1</td>\n",
       "      <td>0.52</td>\n",
       "      <td>Europe</td>\n",
       "    </tr>\n",
       "  </tbody>\n",
       "</table>\n",
       "</div>"
      ],
      "text/plain": [
       "  Country/Region     Cases   Deaths    PCases  PDeaths  Cases (+)  Deaths (+)  \\\n",
       "0             US  85515529  1011275  85500710  1011260      14819          15   \n",
       "1          India  43230101   524771  43222017   524761       8084          10   \n",
       "2         Brazil  31456865   668110  31445137   668074      11728          36   \n",
       "3         France  29946603   149788  29946603   149788          0           0   \n",
       "4        Germany  26809245   139807  26803867   139806       5378           1   \n",
       "\n",
       "   Fatality Rate      Continent  \n",
       "0           1.18  North America  \n",
       "1           1.21           Asia  \n",
       "2           2.12  South America  \n",
       "3           0.50         Europe  \n",
       "4           0.52         Europe  "
      ]
     },
     "execution_count": 13,
     "metadata": {},
     "output_type": "execute_result"
    }
   ],
   "source": [
    "#hide\n",
    "for c in 'Cases, Deaths'.split(', '):\n",
    "    df_table[f'{c} (+)'] = (df_table[c] - df_table[f'P{c}']).clip(0)\n",
    "    #Clip ça veut dire, les chiffres negatif sont interdit\n",
    "df_table['Fatality Rate'] = (100* df_table['Deaths']/ df_table['Cases']).round(2)\n",
    "df_table['Continent'] = df_table['Country/Region'].map(mapping['map.continent'])\n",
    "df_table.head(5)"
   ]
  },
  {
   "cell_type": "code",
   "execution_count": 14,
   "id": "aboriginal-bulgaria",
   "metadata": {
    "execution": {
     "iopub.execute_input": "2022-06-14T00:46:59.794825Z",
     "iopub.status.busy": "2022-06-14T00:46:59.794248Z",
     "iopub.status.idle": "2022-06-14T00:46:59.797625Z",
     "shell.execute_reply": "2022-06-14T00:46:59.798069Z"
    },
    "papermill": {
     "duration": 0.038043,
     "end_time": "2022-06-14T00:46:59.798185",
     "exception": false,
     "start_time": "2022-06-14T00:46:59.760142",
     "status": "completed"
    },
    "tags": []
   },
   "outputs": [],
   "source": [
    "#hide\n",
    "#delete problematic countries from table\n",
    "df_table = df_table[~df_table['Country/Region'].isin(['Cape Verde', 'Cruise Ship', 'Kosovo'])]"
   ]
  },
  {
   "cell_type": "code",
   "execution_count": 15,
   "id": "fantastic-effect",
   "metadata": {
    "execution": {
     "iopub.execute_input": "2022-06-14T00:46:59.865359Z",
     "iopub.status.busy": "2022-06-14T00:46:59.864760Z",
     "iopub.status.idle": "2022-06-14T00:46:59.881805Z",
     "shell.execute_reply": "2022-06-14T00:46:59.881247Z"
    },
    "papermill": {
     "duration": 0.054063,
     "end_time": "2022-06-14T00:46:59.881906",
     "exception": false,
     "start_time": "2022-06-14T00:46:59.827843",
     "status": "completed"
    },
    "tags": []
   },
   "outputs": [
    {
     "data": {
      "text/html": [
       "<div>\n",
       "<style scoped>\n",
       "    .dataframe tbody tr th:only-of-type {\n",
       "        vertical-align: middle;\n",
       "    }\n",
       "\n",
       "    .dataframe tbody tr th {\n",
       "        vertical-align: top;\n",
       "    }\n",
       "\n",
       "    .dataframe thead th {\n",
       "        text-align: right;\n",
       "    }\n",
       "</style>\n",
       "<table border=\"1\" class=\"dataframe\">\n",
       "  <thead>\n",
       "    <tr style=\"text-align: right;\">\n",
       "      <th></th>\n",
       "      <th>Country/Region</th>\n",
       "      <th>Cases</th>\n",
       "      <th>Deaths</th>\n",
       "      <th>PCases</th>\n",
       "      <th>PDeaths</th>\n",
       "      <th>Cases (+)</th>\n",
       "      <th>Deaths (+)</th>\n",
       "      <th>Fatality Rate</th>\n",
       "      <th>Continent</th>\n",
       "    </tr>\n",
       "  </thead>\n",
       "  <tbody>\n",
       "    <tr>\n",
       "      <th>0</th>\n",
       "      <td>US</td>\n",
       "      <td>85515529</td>\n",
       "      <td>1011275</td>\n",
       "      <td>85500710</td>\n",
       "      <td>1011260</td>\n",
       "      <td>14819</td>\n",
       "      <td>15</td>\n",
       "      <td>1.2</td>\n",
       "      <td>North America</td>\n",
       "    </tr>\n",
       "    <tr>\n",
       "      <th>1</th>\n",
       "      <td>India</td>\n",
       "      <td>43230101</td>\n",
       "      <td>524771</td>\n",
       "      <td>43222017</td>\n",
       "      <td>524761</td>\n",
       "      <td>8084</td>\n",
       "      <td>10</td>\n",
       "      <td>1.2</td>\n",
       "      <td>Asia</td>\n",
       "    </tr>\n",
       "    <tr>\n",
       "      <th>2</th>\n",
       "      <td>Brazil</td>\n",
       "      <td>31456865</td>\n",
       "      <td>668110</td>\n",
       "      <td>31445137</td>\n",
       "      <td>668074</td>\n",
       "      <td>11728</td>\n",
       "      <td>36</td>\n",
       "      <td>2.1</td>\n",
       "      <td>South America</td>\n",
       "    </tr>\n",
       "    <tr>\n",
       "      <th>3</th>\n",
       "      <td>France</td>\n",
       "      <td>29946603</td>\n",
       "      <td>149788</td>\n",
       "      <td>29946603</td>\n",
       "      <td>149788</td>\n",
       "      <td>0</td>\n",
       "      <td>0</td>\n",
       "      <td>0.5</td>\n",
       "      <td>Europe</td>\n",
       "    </tr>\n",
       "    <tr>\n",
       "      <th>4</th>\n",
       "      <td>Germany</td>\n",
       "      <td>26809245</td>\n",
       "      <td>139807</td>\n",
       "      <td>26803867</td>\n",
       "      <td>139806</td>\n",
       "      <td>5378</td>\n",
       "      <td>1</td>\n",
       "      <td>0.5</td>\n",
       "      <td>Europe</td>\n",
       "    </tr>\n",
       "  </tbody>\n",
       "</table>\n",
       "</div>"
      ],
      "text/plain": [
       "  Country/Region     Cases   Deaths    PCases  PDeaths  Cases (+)  Deaths (+)  \\\n",
       "0             US  85515529  1011275  85500710  1011260      14819          15   \n",
       "1          India  43230101   524771  43222017   524761       8084          10   \n",
       "2         Brazil  31456865   668110  31445137   668074      11728          36   \n",
       "3         France  29946603   149788  29946603   149788          0           0   \n",
       "4        Germany  26809245   139807  26803867   139806       5378           1   \n",
       "\n",
       "   Fatality Rate      Continent  \n",
       "0            1.2  North America  \n",
       "1            1.2           Asia  \n",
       "2            2.1  South America  \n",
       "3            0.5         Europe  \n",
       "4            0.5         Europe  "
      ]
     },
     "execution_count": 15,
     "metadata": {},
     "output_type": "execute_result"
    }
   ],
   "source": [
    "#hide\n",
    "df_table = (pd.DataFrame(dict(Cases=dfc_cases, Deaths=dfc_deaths, PCases=dfp_cases, PDeaths=dfp_deaths))\n",
    "             .sort_values(by=['Cases', 'Deaths'], ascending=[False, False])\n",
    "             .reset_index())\n",
    "df_table.rename(columns={'index': 'Country/Region'}, inplace=True)\n",
    "for c in 'Cases, Deaths'.split(', '):\n",
    "    df_table[f'{c} (+)'] = (df_table[c] - df_table[f'P{c}']).clip(0)  # DATA BUG\n",
    "df_table['Fatality Rate'] = (100 * df_table['Deaths'] / df_table['Cases']).round(1)\n",
    "df_table['Continent'] = df_table['Country/Region'].map(mapping['map.continent'])\n",
    "df_table.head(5)"
   ]
  },
  {
   "cell_type": "code",
   "execution_count": 16,
   "id": "fewer-occasion",
   "metadata": {
    "execution": {
     "iopub.execute_input": "2022-06-14T00:46:59.947791Z",
     "iopub.status.busy": "2022-06-14T00:46:59.947210Z",
     "iopub.status.idle": "2022-06-14T00:46:59.949607Z",
     "shell.execute_reply": "2022-06-14T00:46:59.950053Z"
    },
    "papermill": {
     "duration": 0.037846,
     "end_time": "2022-06-14T00:46:59.950167",
     "exception": false,
     "start_time": "2022-06-14T00:46:59.912321",
     "status": "completed"
    },
    "tags": []
   },
   "outputs": [],
   "source": [
    "#hide\n",
    "#delete problematic countries from table\n",
    "df_table = df_table[~df_table['Country/Region'].isin(['Cape Verde', 'Cruise Ship', 'Kosovo'])]"
   ]
  },
  {
   "cell_type": "code",
   "execution_count": 17,
   "id": "related-center",
   "metadata": {
    "execution": {
     "iopub.execute_input": "2022-06-14T00:47:00.028967Z",
     "iopub.status.busy": "2022-06-14T00:47:00.028361Z",
     "iopub.status.idle": "2022-06-14T00:47:00.031180Z",
     "shell.execute_reply": "2022-06-14T00:47:00.030707Z"
    },
    "papermill": {
     "duration": 0.050912,
     "end_time": "2022-06-14T00:47:00.031290",
     "exception": false,
     "start_time": "2022-06-14T00:46:59.980378",
     "status": "completed"
    },
    "tags": []
   },
   "outputs": [],
   "source": [
    "#hide\n",
    "metrics = [df_table.columns[index] for index in [1,2,5,6]]\n",
    "# s_china = df_table[df_table['Country/Region'].eq('China')][metrics].sum().add_prefix('China ')\n",
    "s_us = df_table[df_table['Country/Region'].eq('US')][metrics].sum().add_prefix('US ')\n",
    "s_eu = df_table[df_table['Continent'].eq('Europe')][metrics].sum().add_prefix('EU ')\n",
    "s_ind = df_table[df_table['Country/Region'].eq('India')][metrics].sum().add_prefix('India ')\n",
    "summary = {'updated': pd.to_datetime(dt_today), 'since': pd.to_datetime(dt_yday)}\n",
    "summary = {'updated': pd.to_datetime(dt_today), 'since': pd.to_datetime(dt_yday)}\n",
    "summary = {**summary, **df_table[metrics].sum(), **s_ind, **s_us, **s_eu}"
   ]
  },
  {
   "cell_type": "code",
   "execution_count": 18,
   "id": "engaging-syndrome",
   "metadata": {
    "execution": {
     "iopub.execute_input": "2022-06-14T00:47:00.097875Z",
     "iopub.status.busy": "2022-06-14T00:47:00.097287Z",
     "iopub.status.idle": "2022-06-14T00:47:00.115776Z",
     "shell.execute_reply": "2022-06-14T00:47:00.115316Z"
    },
    "papermill": {
     "duration": 0.053888,
     "end_time": "2022-06-14T00:47:00.115892",
     "exception": false,
     "start_time": "2022-06-14T00:47:00.062004",
     "status": "completed"
    },
    "tags": []
   },
   "outputs": [],
   "source": [
    "#hide\n",
    "dft_ct_new_cases = dft_cases.groupby(COL_REGION)[dt_cols].sum().diff(axis=1).fillna(0).astype(int)"
   ]
  },
  {
   "cell_type": "code",
   "execution_count": 19,
   "id": "neutral-assignment",
   "metadata": {
    "execution": {
     "iopub.execute_input": "2022-06-14T00:47:00.183452Z",
     "iopub.status.busy": "2022-06-14T00:47:00.182837Z",
     "iopub.status.idle": "2022-06-14T00:47:00.185496Z",
     "shell.execute_reply": "2022-06-14T00:47:00.184897Z"
    },
    "papermill": {
     "duration": 0.039248,
     "end_time": "2022-06-14T00:47:00.185606",
     "exception": false,
     "start_time": "2022-06-14T00:47:00.146358",
     "status": "completed"
    },
    "tags": []
   },
   "outputs": [],
   "source": [
    "#hide\n",
    "everydaycases = dft_ct_new_cases.cumsum(axis=1)"
   ]
  },
  {
   "cell_type": "code",
   "execution_count": 20,
   "id": "parliamentary-calgary",
   "metadata": {
    "execution": {
     "iopub.execute_input": "2022-06-14T00:47:00.251376Z",
     "iopub.status.busy": "2022-06-14T00:47:00.250793Z",
     "iopub.status.idle": "2022-06-14T00:47:00.773679Z",
     "shell.execute_reply": "2022-06-14T00:47:00.772662Z"
    },
    "papermill": {
     "duration": 0.557352,
     "end_time": "2022-06-14T00:47:00.773822",
     "exception": false,
     "start_time": "2022-06-14T00:47:00.216470",
     "status": "completed"
    },
    "tags": []
   },
   "outputs": [],
   "source": [
    "#hide\n",
    "import pandas as pd\n",
    "import matplotlib.pyplot as plt\n",
    "import matplotlib.ticker as ticker\n",
    "import matplotlib.animation as animation\n",
    "from IPython.display import HTML"
   ]
  },
  {
   "cell_type": "code",
   "execution_count": 21,
   "id": "lasting-extraction",
   "metadata": {
    "execution": {
     "iopub.execute_input": "2022-06-14T00:47:00.842108Z",
     "iopub.status.busy": "2022-06-14T00:47:00.841510Z",
     "iopub.status.idle": "2022-06-14T00:47:00.847759Z",
     "shell.execute_reply": "2022-06-14T00:47:00.848310Z"
    },
    "papermill": {
     "duration": 0.043469,
     "end_time": "2022-06-14T00:47:00.848436",
     "exception": false,
     "start_time": "2022-06-14T00:47:00.804967",
     "status": "completed"
    },
    "tags": []
   },
   "outputs": [],
   "source": [
    "#hide\n",
    "t = everydaycases.stack()"
   ]
  },
  {
   "cell_type": "code",
   "execution_count": 22,
   "id": "premier-sleeve",
   "metadata": {
    "execution": {
     "iopub.execute_input": "2022-06-14T00:47:00.913372Z",
     "iopub.status.busy": "2022-06-14T00:47:00.912761Z",
     "iopub.status.idle": "2022-06-14T00:47:00.923146Z",
     "shell.execute_reply": "2022-06-14T00:47:00.923683Z"
    },
    "papermill": {
     "duration": 0.044966,
     "end_time": "2022-06-14T00:47:00.923803",
     "exception": false,
     "start_time": "2022-06-14T00:47:00.878837",
     "status": "completed"
    },
    "tags": []
   },
   "outputs": [],
   "source": [
    "#hide\n",
    "g = t.reset_index(['Country/Region'])"
   ]
  },
  {
   "cell_type": "code",
   "execution_count": 23,
   "id": "distributed-pittsburgh",
   "metadata": {
    "execution": {
     "iopub.execute_input": "2022-06-14T00:47:00.988492Z",
     "iopub.status.busy": "2022-06-14T00:47:00.987840Z",
     "iopub.status.idle": "2022-06-14T00:47:00.991556Z",
     "shell.execute_reply": "2022-06-14T00:47:00.992034Z"
    },
    "papermill": {
     "duration": 0.037973,
     "end_time": "2022-06-14T00:47:00.992168",
     "exception": false,
     "start_time": "2022-06-14T00:47:00.954195",
     "status": "completed"
    },
    "tags": []
   },
   "outputs": [],
   "source": [
    "#hide\n",
    "g.index.name = 'date'"
   ]
  },
  {
   "cell_type": "code",
   "execution_count": 24,
   "id": "naked-donor",
   "metadata": {
    "execution": {
     "iopub.execute_input": "2022-06-14T00:47:01.056494Z",
     "iopub.status.busy": "2022-06-14T00:47:01.055836Z",
     "iopub.status.idle": "2022-06-14T00:47:01.058374Z",
     "shell.execute_reply": "2022-06-14T00:47:01.057815Z"
    },
    "papermill": {
     "duration": 0.035776,
     "end_time": "2022-06-14T00:47:01.058488",
     "exception": false,
     "start_time": "2022-06-14T00:47:01.022712",
     "status": "completed"
    },
    "tags": []
   },
   "outputs": [],
   "source": [
    "# #hide\n",
    "# g = g.reset_index(['date'])"
   ]
  },
  {
   "cell_type": "code",
   "execution_count": 25,
   "id": "incomplete-mustang",
   "metadata": {
    "execution": {
     "iopub.execute_input": "2022-06-14T00:47:01.124340Z",
     "iopub.status.busy": "2022-06-14T00:47:01.123741Z",
     "iopub.status.idle": "2022-06-14T00:47:01.126019Z",
     "shell.execute_reply": "2022-06-14T00:47:01.126490Z"
    },
    "papermill": {
     "duration": 0.036682,
     "end_time": "2022-06-14T00:47:01.126615",
     "exception": false,
     "start_time": "2022-06-14T00:47:01.089933",
     "status": "completed"
    },
    "tags": []
   },
   "outputs": [],
   "source": [
    "#hide\n",
    "# g.head()"
   ]
  },
  {
   "cell_type": "code",
   "execution_count": 26,
   "id": "specific-kruger",
   "metadata": {
    "execution": {
     "iopub.execute_input": "2022-06-14T00:47:01.191619Z",
     "iopub.status.busy": "2022-06-14T00:47:01.191040Z",
     "iopub.status.idle": "2022-06-14T00:47:01.193351Z",
     "shell.execute_reply": "2022-06-14T00:47:01.193908Z"
    },
    "papermill": {
     "duration": 0.036862,
     "end_time": "2022-06-14T00:47:01.194031",
     "exception": false,
     "start_time": "2022-06-14T00:47:01.157169",
     "status": "completed"
    },
    "tags": []
   },
   "outputs": [],
   "source": [
    "#hide\n",
    "# g.columns = ['date','country','cases']"
   ]
  },
  {
   "cell_type": "code",
   "execution_count": 27,
   "id": "tender-conversion",
   "metadata": {
    "execution": {
     "iopub.execute_input": "2022-06-14T00:47:01.258491Z",
     "iopub.status.busy": "2022-06-14T00:47:01.257849Z",
     "iopub.status.idle": "2022-06-14T00:47:01.260570Z",
     "shell.execute_reply": "2022-06-14T00:47:01.259953Z"
    },
    "papermill": {
     "duration": 0.036312,
     "end_time": "2022-06-14T00:47:01.260684",
     "exception": false,
     "start_time": "2022-06-14T00:47:01.224372",
     "status": "completed"
    },
    "tags": []
   },
   "outputs": [],
   "source": [
    "#hide\n",
    "# g['continent'] = g.country"
   ]
  },
  {
   "cell_type": "code",
   "execution_count": 28,
   "id": "substantial-wilderness",
   "metadata": {
    "execution": {
     "iopub.execute_input": "2022-06-14T00:47:01.325832Z",
     "iopub.status.busy": "2022-06-14T00:47:01.325253Z",
     "iopub.status.idle": "2022-06-14T00:47:01.327918Z",
     "shell.execute_reply": "2022-06-14T00:47:01.327361Z"
    },
    "papermill": {
     "duration": 0.036307,
     "end_time": "2022-06-14T00:47:01.328023",
     "exception": false,
     "start_time": "2022-06-14T00:47:01.291716",
     "status": "completed"
    },
    "tags": []
   },
   "outputs": [],
   "source": [
    "#hide\n",
    "# cols = list(g.columns.values)"
   ]
  },
  {
   "cell_type": "code",
   "execution_count": 29,
   "id": "solved-farming",
   "metadata": {
    "execution": {
     "iopub.execute_input": "2022-06-14T00:47:01.392441Z",
     "iopub.status.busy": "2022-06-14T00:47:01.391871Z",
     "iopub.status.idle": "2022-06-14T00:47:01.394172Z",
     "shell.execute_reply": "2022-06-14T00:47:01.394612Z"
    },
    "papermill": {
     "duration": 0.036054,
     "end_time": "2022-06-14T00:47:01.394732",
     "exception": false,
     "start_time": "2022-06-14T00:47:01.358678",
     "status": "completed"
    },
    "tags": []
   },
   "outputs": [],
   "source": [
    "#hide\n",
    "# cols.insert(0, cols.pop())"
   ]
  },
  {
   "cell_type": "code",
   "execution_count": 30,
   "id": "executed-adoption",
   "metadata": {
    "execution": {
     "iopub.execute_input": "2022-06-14T00:47:01.459357Z",
     "iopub.status.busy": "2022-06-14T00:47:01.458703Z",
     "iopub.status.idle": "2022-06-14T00:47:01.463119Z",
     "shell.execute_reply": "2022-06-14T00:47:01.462652Z"
    },
    "papermill": {
     "duration": 0.038176,
     "end_time": "2022-06-14T00:47:01.463222",
     "exception": false,
     "start_time": "2022-06-14T00:47:01.425046",
     "status": "completed"
    },
    "tags": []
   },
   "outputs": [],
   "source": [
    "#hide\n",
    "# g = g[cols]"
   ]
  },
  {
   "cell_type": "code",
   "execution_count": 31,
   "id": "subject-dublin",
   "metadata": {
    "execution": {
     "iopub.execute_input": "2022-06-14T00:47:01.527993Z",
     "iopub.status.busy": "2022-06-14T00:47:01.527306Z",
     "iopub.status.idle": "2022-06-14T00:47:01.529832Z",
     "shell.execute_reply": "2022-06-14T00:47:01.529181Z"
    },
    "papermill": {
     "duration": 0.03638,
     "end_time": "2022-06-14T00:47:01.529952",
     "exception": false,
     "start_time": "2022-06-14T00:47:01.493572",
     "status": "completed"
    },
    "tags": []
   },
   "outputs": [],
   "source": [
    "#hide\n",
    "# g['continent'] = g['continent'].map(mapping['map.continent'])"
   ]
  },
  {
   "cell_type": "code",
   "execution_count": 32,
   "id": "freelance-scout",
   "metadata": {
    "execution": {
     "iopub.execute_input": "2022-06-14T00:47:01.594783Z",
     "iopub.status.busy": "2022-06-14T00:47:01.594097Z",
     "iopub.status.idle": "2022-06-14T00:47:01.597970Z",
     "shell.execute_reply": "2022-06-14T00:47:01.598453Z"
    },
    "papermill": {
     "duration": 0.03804,
     "end_time": "2022-06-14T00:47:01.598592",
     "exception": false,
     "start_time": "2022-06-14T00:47:01.560552",
     "status": "completed"
    },
    "tags": []
   },
   "outputs": [],
   "source": [
    "#hide\n",
    "# g.head()"
   ]
  },
  {
   "cell_type": "code",
   "execution_count": 33,
   "id": "limited-engine",
   "metadata": {
    "execution": {
     "iopub.execute_input": "2022-06-14T00:47:01.663560Z",
     "iopub.status.busy": "2022-06-14T00:47:01.662952Z",
     "iopub.status.idle": "2022-06-14T00:47:01.665345Z",
     "shell.execute_reply": "2022-06-14T00:47:01.664753Z"
    },
    "papermill": {
     "duration": 0.036255,
     "end_time": "2022-06-14T00:47:01.665455",
     "exception": false,
     "start_time": "2022-06-14T00:47:01.629200",
     "status": "completed"
    },
    "tags": []
   },
   "outputs": [],
   "source": [
    "# hide\n",
    "# g['date'] = g['date'].astype('datetime64[ns]')"
   ]
  },
  {
   "cell_type": "code",
   "execution_count": 34,
   "id": "sophisticated-supervisor",
   "metadata": {
    "execution": {
     "iopub.execute_input": "2022-06-14T00:47:01.730491Z",
     "iopub.status.busy": "2022-06-14T00:47:01.729817Z",
     "iopub.status.idle": "2022-06-14T00:47:01.733859Z",
     "shell.execute_reply": "2022-06-14T00:47:01.733382Z"
    },
    "papermill": {
     "duration": 0.038011,
     "end_time": "2022-06-14T00:47:01.733965",
     "exception": false,
     "start_time": "2022-06-14T00:47:01.695954",
     "status": "completed"
    },
    "tags": []
   },
   "outputs": [],
   "source": [
    "#hide\n",
    "# g['date'] = g.date.dt.dayofyear"
   ]
  },
  {
   "cell_type": "code",
   "execution_count": 35,
   "id": "inside-dubai",
   "metadata": {
    "execution": {
     "iopub.execute_input": "2022-06-14T00:47:01.798428Z",
     "iopub.status.busy": "2022-06-14T00:47:01.797747Z",
     "iopub.status.idle": "2022-06-14T00:47:01.801762Z",
     "shell.execute_reply": "2022-06-14T00:47:01.801290Z"
    },
    "papermill": {
     "duration": 0.037542,
     "end_time": "2022-06-14T00:47:01.801866",
     "exception": false,
     "start_time": "2022-06-14T00:47:01.764324",
     "status": "completed"
    },
    "tags": []
   },
   "outputs": [],
   "source": [
    "#hide\n",
    "# g = g.rename(columns= {'continent':'group','country':'name','cases':'value'})"
   ]
  },
  {
   "cell_type": "code",
   "execution_count": 36,
   "id": "fleet-motorcycle",
   "metadata": {
    "execution": {
     "iopub.execute_input": "2022-06-14T00:47:01.866247Z",
     "iopub.status.busy": "2022-06-14T00:47:01.865665Z",
     "iopub.status.idle": "2022-06-14T00:47:01.868098Z",
     "shell.execute_reply": "2022-06-14T00:47:01.867543Z"
    },
    "papermill": {
     "duration": 0.036008,
     "end_time": "2022-06-14T00:47:01.868200",
     "exception": false,
     "start_time": "2022-06-14T00:47:01.832192",
     "status": "completed"
    },
    "tags": []
   },
   "outputs": [],
   "source": [
    "#hide\n",
    "# cols = ['name','group','day','value']"
   ]
  },
  {
   "cell_type": "code",
   "execution_count": 37,
   "id": "continued-sleeping",
   "metadata": {
    "execution": {
     "iopub.execute_input": "2022-06-14T00:47:01.932695Z",
     "iopub.status.busy": "2022-06-14T00:47:01.932017Z",
     "iopub.status.idle": "2022-06-14T00:47:01.934929Z",
     "shell.execute_reply": "2022-06-14T00:47:01.934420Z"
    },
    "papermill": {
     "duration": 0.036632,
     "end_time": "2022-06-14T00:47:01.935051",
     "exception": false,
     "start_time": "2022-06-14T00:47:01.898419",
     "status": "completed"
    },
    "tags": []
   },
   "outputs": [],
   "source": [
    "#hide\n",
    "# g.rename(columns= {'date':'day'},inplace = True)"
   ]
  },
  {
   "cell_type": "code",
   "execution_count": 38,
   "id": "major-fight",
   "metadata": {
    "execution": {
     "iopub.execute_input": "2022-06-14T00:47:01.999378Z",
     "iopub.status.busy": "2022-06-14T00:47:01.998808Z",
     "iopub.status.idle": "2022-06-14T00:47:02.001506Z",
     "shell.execute_reply": "2022-06-14T00:47:02.001035Z"
    },
    "papermill": {
     "duration": 0.035792,
     "end_time": "2022-06-14T00:47:02.001609",
     "exception": false,
     "start_time": "2022-06-14T00:47:01.965817",
     "status": "completed"
    },
    "tags": []
   },
   "outputs": [],
   "source": [
    "#hide\n",
    "# g = g[cols]"
   ]
  },
  {
   "cell_type": "code",
   "execution_count": 39,
   "id": "structured-mobile",
   "metadata": {
    "execution": {
     "iopub.execute_input": "2022-06-14T00:47:02.065786Z",
     "iopub.status.busy": "2022-06-14T00:47:02.065110Z",
     "iopub.status.idle": "2022-06-14T00:47:02.067668Z",
     "shell.execute_reply": "2022-06-14T00:47:02.067142Z"
    },
    "papermill": {
     "duration": 0.036016,
     "end_time": "2022-06-14T00:47:02.067784",
     "exception": false,
     "start_time": "2022-06-14T00:47:02.031768",
     "status": "completed"
    },
    "tags": []
   },
   "outputs": [],
   "source": [
    "# #hide\n",
    "# g = g[g.group.notna()]"
   ]
  },
  {
   "cell_type": "code",
   "execution_count": 40,
   "id": "determined-closing",
   "metadata": {
    "execution": {
     "iopub.execute_input": "2022-06-14T00:47:02.132218Z",
     "iopub.status.busy": "2022-06-14T00:47:02.131616Z",
     "iopub.status.idle": "2022-06-14T00:47:02.135187Z",
     "shell.execute_reply": "2022-06-14T00:47:02.135610Z"
    },
    "papermill": {
     "duration": 0.037444,
     "end_time": "2022-06-14T00:47:02.135731",
     "exception": false,
     "start_time": "2022-06-14T00:47:02.098287",
     "status": "completed"
    },
    "tags": []
   },
   "outputs": [],
   "source": [
    "# #hide\n",
    "# colors = dict(zip(\n",
    "#     [\"Oceania\", \"Europe\", \"Asia\", \"South America\", \"Middle East\", \"North America\", \"Africa\"],\n",
    "#     [\"#adb0ff\", \"#ffb3ff\", \"#90d595\", \"#e48381\", \"#aafbff\", \"#f7bb5f\", \"#eafb50\"]\n",
    "# ))\n",
    "# group_lk = g.set_index('name')['group'].to_dict()"
   ]
  },
  {
   "cell_type": "code",
   "execution_count": null,
   "id": "gross-drinking",
   "metadata": {
    "papermill": {
     "duration": 0.030199,
     "end_time": "2022-06-14T00:47:02.196231",
     "exception": false,
     "start_time": "2022-06-14T00:47:02.166032",
     "status": "completed"
    },
    "tags": []
   },
   "outputs": [],
   "source": []
  },
  {
   "cell_type": "code",
   "execution_count": 41,
   "id": "subject-macintosh",
   "metadata": {
    "execution": {
     "iopub.execute_input": "2022-06-14T00:47:02.261569Z",
     "iopub.status.busy": "2022-06-14T00:47:02.260951Z",
     "iopub.status.idle": "2022-06-14T00:47:02.263492Z",
     "shell.execute_reply": "2022-06-14T00:47:02.263934Z"
    },
    "papermill": {
     "duration": 0.037317,
     "end_time": "2022-06-14T00:47:02.264056",
     "exception": false,
     "start_time": "2022-06-14T00:47:02.226739",
     "status": "completed"
    },
    "tags": []
   },
   "outputs": [],
   "source": [
    "# #hide\n",
    "# fig, ax = plt.subplots(figsize=(15, 8))\n",
    "\n",
    "# def draw_barchart(current_day):\n",
    "#     dff = g[g['day'].eq(current_day)].sort_values(by='value', ascending=True).tail(10)\n",
    "#     ax.clear()\n",
    "#     ax.barh(dff['name'], dff['value'], color=[colors[group_lk[x]] for x in dff['name']])\n",
    "#     dx = dff['value'].max() / 200\n",
    "    \n",
    "#     for i, (value, name) in enumerate(zip(dff['value'], dff['name'])):\n",
    "#         ax.text(value-dx, i,     name,           size=14, weight=600, ha='right', va='bottom')\n",
    "#         ax.text(value-dx, i-.25, group_lk[name], size=10, color='#444444', ha='right', va='baseline')\n",
    "#         ax.text(value+dx, i,     f'{value:,.0f}',  size=14, ha='left',  va='center')\n",
    "#     ax.text(1, 0.4, current_day, transform=ax.transAxes, color='#777777', size=46, ha='right', weight=800)\n",
    "#     ax.text(0, 1.06, 'Population (thousands)', transform=ax.transAxes, size=12, color='#777777')\n",
    "#     ax.xaxis.set_major_formatter(ticker.StrMethodFormatter('{x:,.0f}'))\n",
    "#     ax.xaxis.set_ticks_position('top')\n",
    "#     ax.tick_params(axis='x', colors='#777777', labelsize=12)\n",
    "#     ax.set_yticks([])\n",
    "#     ax.margins(0, 0.01)\n",
    "#     ax.grid(which='major', axis='x', linestyle='-')\n",
    "#     ax.set_axisbelow(True)\n",
    "    \n",
    "#     ax.text(0, 1.15, 'Coronavirus',\n",
    "#             transform=ax.transAxes, size=24, weight=600, ha='left', va='top')\n",
    "# #     ax.text(1, 0, 'by @pratapvardhan; credit @jburnmurdoch', transform=ax.transAxes, color='#777777', ha='right',\n",
    "# #             bbox=dict(facecolor='white', alpha=0.8, edgecolor='white'))\n",
    "#     plt.box(False)"
   ]
  },
  {
   "cell_type": "code",
   "execution_count": 42,
   "id": "sexual-wages",
   "metadata": {
    "execution": {
     "iopub.execute_input": "2022-06-14T00:47:02.328354Z",
     "iopub.status.busy": "2022-06-14T00:47:02.327684Z",
     "iopub.status.idle": "2022-06-14T00:47:02.331541Z",
     "shell.execute_reply": "2022-06-14T00:47:02.332045Z"
    },
    "papermill": {
     "duration": 0.03789,
     "end_time": "2022-06-14T00:47:02.332177",
     "exception": false,
     "start_time": "2022-06-14T00:47:02.294287",
     "status": "completed"
    },
    "tags": []
   },
   "outputs": [],
   "source": [
    "# #hide_input\n",
    "# fig, ax = plt.subplots(figsize=(15, 8))\n",
    "# animator = animation.FuncAnimation(fig, draw_barchart, frames=range(g.day.values.min(), g.day.values.max()))\n",
    "# HTML(animator.to_jshtml())\n",
    "# # or use animator.to_html5_video() or animator.save() "
   ]
  },
  {
   "cell_type": "code",
   "execution_count": null,
   "id": "australian-container",
   "metadata": {
    "papermill": {
     "duration": 0.030257,
     "end_time": "2022-06-14T00:47:02.393508",
     "exception": false,
     "start_time": "2022-06-14T00:47:02.363251",
     "status": "completed"
    },
    "tags": []
   },
   "outputs": [],
   "source": []
  },
  {
   "cell_type": "code",
   "execution_count": null,
   "id": "mediterranean-pontiac",
   "metadata": {
    "papermill": {
     "duration": 0.030205,
     "end_time": "2022-06-14T00:47:02.453955",
     "exception": false,
     "start_time": "2022-06-14T00:47:02.423750",
     "status": "completed"
    },
    "tags": []
   },
   "outputs": [],
   "source": []
  },
  {
   "cell_type": "code",
   "execution_count": null,
   "id": "aging-legislature",
   "metadata": {
    "papermill": {
     "duration": 0.030205,
     "end_time": "2022-06-14T00:47:02.514498",
     "exception": false,
     "start_time": "2022-06-14T00:47:02.484293",
     "status": "completed"
    },
    "tags": []
   },
   "outputs": [],
   "source": []
  }
 ],
 "metadata": {
  "kernelspec": {
   "display_name": "Python 3",
   "language": "python",
   "name": "python3"
  },
  "language_info": {
   "codemirror_mode": {
    "name": "ipython",
    "version": 3
   },
   "file_extension": ".py",
   "mimetype": "text/x-python",
   "name": "python",
   "nbconvert_exporter": "python",
   "pygments_lexer": "ipython3",
   "version": "3.6.15"
  },
  "papermill": {
   "duration": 5.809313,
   "end_time": "2022-06-14T00:47:02.862966",
   "environment_variables": {},
   "exception": null,
   "input_path": "2020-03-21-covid19exp.ipynb",
   "output_path": "2020-03-21-covid19exp.ipynb",
   "parameters": {},
   "start_time": "2022-06-14T00:46:57.053653",
   "version": "2.0.0"
  }
 },
 "nbformat": 4,
 "nbformat_minor": 5
}