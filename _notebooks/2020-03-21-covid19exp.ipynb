{
 "cells": [
  {
   "cell_type": "markdown",
   "id": "muslim-click",
   "metadata": {
    "papermill": {
     "duration": 0.035496,
     "end_time": "2022-07-10T12:14:56.014429",
     "exception": false,
     "start_time": "2022-07-10T12:14:55.978933",
     "status": "completed"
    },
    "tags": []
   },
   "source": [
    "# COVID-19 Case Race\n",
    "> A race chart to see rising cases around the world\n",
    "\n",
    "- author: Hargun Oberoi\n",
    "- image: images/covid-overview.png\n",
    "- hide: false\n",
    "- badges: false"
   ]
  },
  {
   "cell_type": "code",
   "execution_count": 1,
   "id": "proof-material",
   "metadata": {
    "execution": {
     "iopub.execute_input": "2022-07-10T12:14:56.098092Z",
     "iopub.status.busy": "2022-07-10T12:14:56.097491Z",
     "iopub.status.idle": "2022-07-10T12:14:56.437620Z",
     "shell.execute_reply": "2022-07-10T12:14:56.436866Z"
    },
    "papermill": {
     "duration": 0.38576,
     "end_time": "2022-07-10T12:14:56.437804",
     "exception": false,
     "start_time": "2022-07-10T12:14:56.052044",
     "status": "completed"
    },
    "tags": []
   },
   "outputs": [],
   "source": [
    "#hide\n",
    "import numpy as np\n",
    "import pandas as pd\n",
    "from jinja2 import Template\n",
    "from IPython.display import HTML"
   ]
  },
  {
   "cell_type": "code",
   "execution_count": 2,
   "id": "developed-terminology",
   "metadata": {
    "execution": {
     "iopub.execute_input": "2022-07-10T12:14:56.518688Z",
     "iopub.status.busy": "2022-07-10T12:14:56.517973Z",
     "iopub.status.idle": "2022-07-10T12:14:56.521325Z",
     "shell.execute_reply": "2022-07-10T12:14:56.521828Z"
    },
    "papermill": {
     "duration": 0.046136,
     "end_time": "2022-07-10T12:14:56.521971",
     "exception": false,
     "start_time": "2022-07-10T12:14:56.475835",
     "status": "completed"
    },
    "tags": []
   },
   "outputs": [],
   "source": [
    "#hide\n",
    "\n",
    "# FETCH\n",
    "base_url = 'https://raw.githubusercontent.com/pratapvardhan/notebooks/master/covid19/'\n",
    "paths = {\n",
    "    'mapping': base_url + 'mapping_countries.csv',\n",
    "    'overview': base_url + 'overview.tpl'\n",
    "}"
   ]
  },
  {
   "cell_type": "code",
   "execution_count": 3,
   "id": "dynamic-saver",
   "metadata": {
    "execution": {
     "iopub.execute_input": "2022-07-10T12:14:56.598667Z",
     "iopub.status.busy": "2022-07-10T12:14:56.598010Z",
     "iopub.status.idle": "2022-07-10T12:14:56.602273Z",
     "shell.execute_reply": "2022-07-10T12:14:56.601744Z"
    },
    "papermill": {
     "duration": 0.046155,
     "end_time": "2022-07-10T12:14:56.602378",
     "exception": false,
     "start_time": "2022-07-10T12:14:56.556223",
     "status": "completed"
    },
    "tags": []
   },
   "outputs": [
    {
     "data": {
      "text/plain": [
       "'https://raw.githubusercontent.com/pratapvardhan/notebooks/master/covid19/mapping_countries.csv'"
      ]
     },
     "execution_count": 3,
     "metadata": {},
     "output_type": "execute_result"
    }
   ],
   "source": [
    "#hide\n",
    "paths['mapping']"
   ]
  },
  {
   "cell_type": "code",
   "execution_count": 4,
   "id": "urban-software",
   "metadata": {
    "execution": {
     "iopub.execute_input": "2022-07-10T12:14:56.681332Z",
     "iopub.status.busy": "2022-07-10T12:14:56.680705Z",
     "iopub.status.idle": "2022-07-10T12:14:56.683858Z",
     "shell.execute_reply": "2022-07-10T12:14:56.683244Z"
    },
    "papermill": {
     "duration": 0.042497,
     "end_time": "2022-07-10T12:14:56.683967",
     "exception": false,
     "start_time": "2022-07-10T12:14:56.641470",
     "status": "completed"
    },
    "tags": []
   },
   "outputs": [],
   "source": [
    "#hide\n",
    "def get_mappings(url):\n",
    "    df = pd.read_csv(url)\n",
    "    return {\n",
    "        'df': df,\n",
    "        'replace.country': dict(df.dropna(subset=['Name']).set_index('Country')['Name']),\n",
    "        'map.continent': dict(df.set_index('Name')['Continent'])\n",
    "    }"
   ]
  },
  {
   "cell_type": "code",
   "execution_count": 5,
   "id": "intimate-machinery",
   "metadata": {
    "execution": {
     "iopub.execute_input": "2022-07-10T12:14:56.757296Z",
     "iopub.status.busy": "2022-07-10T12:14:56.756643Z",
     "iopub.status.idle": "2022-07-10T12:14:56.804083Z",
     "shell.execute_reply": "2022-07-10T12:14:56.804750Z"
    },
    "papermill": {
     "duration": 0.090087,
     "end_time": "2022-07-10T12:14:56.804873",
     "exception": false,
     "start_time": "2022-07-10T12:14:56.714786",
     "status": "completed"
    },
    "tags": []
   },
   "outputs": [],
   "source": [
    "#hide\n",
    "mapping = get_mappings(paths['mapping'])"
   ]
  },
  {
   "cell_type": "code",
   "execution_count": 6,
   "id": "certified-tactics",
   "metadata": {
    "execution": {
     "iopub.execute_input": "2022-07-10T12:14:56.877298Z",
     "iopub.status.busy": "2022-07-10T12:14:56.876669Z",
     "iopub.status.idle": "2022-07-10T12:14:56.879506Z",
     "shell.execute_reply": "2022-07-10T12:14:56.878886Z"
    },
    "papermill": {
     "duration": 0.039535,
     "end_time": "2022-07-10T12:14:56.879651",
     "exception": false,
     "start_time": "2022-07-10T12:14:56.840116",
     "status": "completed"
    },
    "tags": []
   },
   "outputs": [],
   "source": [
    "#hide\n",
    "def get_template(path):\n",
    "    from urllib.parse import urlparse\n",
    "    if bool(urlparse(path).netloc):\n",
    "        from urllib.request import urlopen\n",
    "        return urlopen(path).read().decode('utf8')\n",
    "    return open(path).read()"
   ]
  },
  {
   "cell_type": "code",
   "execution_count": 7,
   "id": "realistic-blast",
   "metadata": {
    "execution": {
     "iopub.execute_input": "2022-07-10T12:14:56.947713Z",
     "iopub.status.busy": "2022-07-10T12:14:56.947102Z",
     "iopub.status.idle": "2022-07-10T12:14:56.950304Z",
     "shell.execute_reply": "2022-07-10T12:14:56.949559Z"
    },
    "papermill": {
     "duration": 0.038211,
     "end_time": "2022-07-10T12:14:56.950461",
     "exception": false,
     "start_time": "2022-07-10T12:14:56.912250",
     "status": "completed"
    },
    "tags": []
   },
   "outputs": [],
   "source": [
    "#hide\n",
    "def get_frame(name):\n",
    "    url = (\n",
    "        'https://raw.githubusercontent.com/CSSEGISandData/COVID-19/master/csse_covid_19_data/'\n",
    "        f'csse_covid_19_time_series/time_series_covid19_{name}_global.csv')\n",
    "    df = pd.read_csv(url)\n",
    "    # rename countries\n",
    "    df['Country/Region'] = df['Country/Region'].replace(mapping['replace.country'])\n",
    "    return df"
   ]
  },
  {
   "cell_type": "code",
   "execution_count": 8,
   "id": "affiliated-characterization",
   "metadata": {
    "execution": {
     "iopub.execute_input": "2022-07-10T12:14:57.020305Z",
     "iopub.status.busy": "2022-07-10T12:14:57.019704Z",
     "iopub.status.idle": "2022-07-10T12:14:57.022911Z",
     "shell.execute_reply": "2022-07-10T12:14:57.022422Z"
    },
    "papermill": {
     "duration": 0.039252,
     "end_time": "2022-07-10T12:14:57.023014",
     "exception": false,
     "start_time": "2022-07-10T12:14:56.983762",
     "status": "completed"
    },
    "tags": []
   },
   "outputs": [],
   "source": [
    "#hide\n",
    "def get_dates(df):\n",
    "    dt_cols = df.columns[~df.columns.isin(['Province/State', 'Country/Region', 'Lat', 'Long'])]\n",
    "    LAST_DATE_I = -1\n",
    "    # sometimes last column may be empty, then go backwards\n",
    "    for i in range(-1, -len(dt_cols), -1):\n",
    "        if not df[dt_cols[i]].fillna(0).eq(0).all():\n",
    "            LAST_DATE_I = i\n",
    "            break\n",
    "    return LAST_DATE_I, dt_cols"
   ]
  },
  {
   "cell_type": "code",
   "execution_count": 9,
   "id": "recent-optimization",
   "metadata": {
    "execution": {
     "iopub.execute_input": "2022-07-10T12:14:57.100216Z",
     "iopub.status.busy": "2022-07-10T12:14:57.099293Z",
     "iopub.status.idle": "2022-07-10T12:14:57.635090Z",
     "shell.execute_reply": "2022-07-10T12:14:57.635898Z"
    },
    "papermill": {
     "duration": 0.578183,
     "end_time": "2022-07-10T12:14:57.636154",
     "exception": false,
     "start_time": "2022-07-10T12:14:57.057971",
     "status": "completed"
    },
    "tags": []
   },
   "outputs": [],
   "source": [
    "#hide\n",
    "COL_REGION = 'Country/Region'\n",
    "# Confirmed, Recovered, Deaths\n",
    "df = get_frame('confirmed')\n",
    "# dft_: timeseries, dfc_: today country agg\n",
    "dft_cases = df\n",
    "dft_deaths = get_frame('deaths')\n",
    "dft_recovered = get_frame('recovered')\n",
    "LAST_DATE_I, dt_cols = get_dates(df)"
   ]
  },
  {
   "cell_type": "code",
   "execution_count": 10,
   "id": "absolute-copper",
   "metadata": {
    "execution": {
     "iopub.execute_input": "2022-07-10T12:14:57.710715Z",
     "iopub.status.busy": "2022-07-10T12:14:57.710085Z",
     "iopub.status.idle": "2022-07-10T12:14:57.712280Z",
     "shell.execute_reply": "2022-07-10T12:14:57.712839Z"
    },
    "papermill": {
     "duration": 0.040577,
     "end_time": "2022-07-10T12:14:57.713000",
     "exception": false,
     "start_time": "2022-07-10T12:14:57.672423",
     "status": "completed"
    },
    "tags": []
   },
   "outputs": [],
   "source": [
    "#hide\n",
    "LAST_DATE_I, dt_cols = get_dates(df)\n",
    "dt_today =dt_cols[LAST_DATE_I]\n",
    "# dt_5day = dt_cols[LAST_DATE_I - 5]\n",
    "dt_yday = dt_cols[LAST_DATE_I - 1]"
   ]
  },
  {
   "cell_type": "code",
   "execution_count": 11,
   "id": "restricted-sheriff",
   "metadata": {
    "execution": {
     "iopub.execute_input": "2022-07-10T12:14:57.788790Z",
     "iopub.status.busy": "2022-07-10T12:14:57.788167Z",
     "iopub.status.idle": "2022-07-10T12:14:57.797170Z",
     "shell.execute_reply": "2022-07-10T12:14:57.796496Z"
    },
    "papermill": {
     "duration": 0.045755,
     "end_time": "2022-07-10T12:14:57.797284",
     "exception": false,
     "start_time": "2022-07-10T12:14:57.751529",
     "status": "completed"
    },
    "tags": []
   },
   "outputs": [],
   "source": [
    "#hide\n",
    "dfc_cases = dft_cases.groupby(COL_REGION)[dt_today].sum()\n",
    "dfc_deaths = dft_deaths.groupby(COL_REGION)[dt_today].sum()\n",
    "# dfp_cases = dft_cases.groupby(COL_REGION)[dt_5day].sum()\n",
    "# dfp_deaths = dft_deaths.groupby(COL_REGION)[dt_5day].sum()\n",
    "dfp_cases = dft_cases.groupby(COL_REGION)[dt_yday].sum()\n",
    "dfp_deaths = dft_deaths.groupby(COL_REGION)[dt_yday].sum()"
   ]
  },
  {
   "cell_type": "code",
   "execution_count": 12,
   "id": "deluxe-hepatitis",
   "metadata": {
    "execution": {
     "iopub.execute_input": "2022-07-10T12:14:57.886046Z",
     "iopub.status.busy": "2022-07-10T12:14:57.885405Z",
     "iopub.status.idle": "2022-07-10T12:14:57.890856Z",
     "shell.execute_reply": "2022-07-10T12:14:57.891462Z"
    },
    "papermill": {
     "duration": 0.049836,
     "end_time": "2022-07-10T12:14:57.891588",
     "exception": false,
     "start_time": "2022-07-10T12:14:57.841752",
     "status": "completed"
    },
    "tags": []
   },
   "outputs": [],
   "source": [
    "#hide\n",
    "df_table = (pd.DataFrame(dict(Cases = dfc_cases, Deaths = dfc_deaths, PCases = dfp_cases, PDeaths = dfp_deaths))\n",
    "            .sort_values(by = ['Cases','Deaths'], ascending = [False, False])\n",
    "            .reset_index())"
   ]
  },
  {
   "cell_type": "code",
   "execution_count": 13,
   "id": "educational-chancellor",
   "metadata": {
    "execution": {
     "iopub.execute_input": "2022-07-10T12:14:57.979757Z",
     "iopub.status.busy": "2022-07-10T12:14:57.979078Z",
     "iopub.status.idle": "2022-07-10T12:14:57.988296Z",
     "shell.execute_reply": "2022-07-10T12:14:57.987783Z"
    },
    "papermill": {
     "duration": 0.062794,
     "end_time": "2022-07-10T12:14:57.988433",
     "exception": false,
     "start_time": "2022-07-10T12:14:57.925639",
     "status": "completed"
    },
    "tags": []
   },
   "outputs": [
    {
     "data": {
      "text/html": [
       "<div>\n",
       "<style scoped>\n",
       "    .dataframe tbody tr th:only-of-type {\n",
       "        vertical-align: middle;\n",
       "    }\n",
       "\n",
       "    .dataframe tbody tr th {\n",
       "        vertical-align: top;\n",
       "    }\n",
       "\n",
       "    .dataframe thead th {\n",
       "        text-align: right;\n",
       "    }\n",
       "</style>\n",
       "<table border=\"1\" class=\"dataframe\">\n",
       "  <thead>\n",
       "    <tr style=\"text-align: right;\">\n",
       "      <th></th>\n",
       "      <th>Country/Region</th>\n",
       "      <th>Cases</th>\n",
       "      <th>Deaths</th>\n",
       "      <th>PCases</th>\n",
       "      <th>PDeaths</th>\n",
       "      <th>Cases (+)</th>\n",
       "      <th>Deaths (+)</th>\n",
       "      <th>Fatality Rate</th>\n",
       "      <th>Continent</th>\n",
       "    </tr>\n",
       "  </thead>\n",
       "  <tbody>\n",
       "    <tr>\n",
       "      <th>0</th>\n",
       "      <td>US</td>\n",
       "      <td>88572807</td>\n",
       "      <td>1020852</td>\n",
       "      <td>88547882</td>\n",
       "      <td>1020816</td>\n",
       "      <td>24925</td>\n",
       "      <td>36</td>\n",
       "      <td>1.15</td>\n",
       "      <td>North America</td>\n",
       "    </tr>\n",
       "    <tr>\n",
       "      <th>1</th>\n",
       "      <td>India</td>\n",
       "      <td>43622651</td>\n",
       "      <td>525428</td>\n",
       "      <td>43604394</td>\n",
       "      <td>525386</td>\n",
       "      <td>18257</td>\n",
       "      <td>42</td>\n",
       "      <td>1.20</td>\n",
       "      <td>Asia</td>\n",
       "    </tr>\n",
       "    <tr>\n",
       "      <th>2</th>\n",
       "      <td>Brazil</td>\n",
       "      <td>32874501</td>\n",
       "      <td>673554</td>\n",
       "      <td>32830844</td>\n",
       "      <td>673339</td>\n",
       "      <td>43657</td>\n",
       "      <td>215</td>\n",
       "      <td>2.05</td>\n",
       "      <td>South America</td>\n",
       "    </tr>\n",
       "    <tr>\n",
       "      <th>3</th>\n",
       "      <td>France</td>\n",
       "      <td>32318670</td>\n",
       "      <td>151056</td>\n",
       "      <td>32318670</td>\n",
       "      <td>151056</td>\n",
       "      <td>0</td>\n",
       "      <td>0</td>\n",
       "      <td>0.47</td>\n",
       "      <td>Europe</td>\n",
       "    </tr>\n",
       "    <tr>\n",
       "      <th>4</th>\n",
       "      <td>Germany</td>\n",
       "      <td>29022265</td>\n",
       "      <td>141862</td>\n",
       "      <td>29022265</td>\n",
       "      <td>141862</td>\n",
       "      <td>0</td>\n",
       "      <td>0</td>\n",
       "      <td>0.49</td>\n",
       "      <td>Europe</td>\n",
       "    </tr>\n",
       "  </tbody>\n",
       "</table>\n",
       "</div>"
      ],
      "text/plain": [
       "  Country/Region     Cases   Deaths    PCases  PDeaths  Cases (+)  Deaths (+)  \\\n",
       "0             US  88572807  1020852  88547882  1020816      24925          36   \n",
       "1          India  43622651   525428  43604394   525386      18257          42   \n",
       "2         Brazil  32874501   673554  32830844   673339      43657         215   \n",
       "3         France  32318670   151056  32318670   151056          0           0   \n",
       "4        Germany  29022265   141862  29022265   141862          0           0   \n",
       "\n",
       "   Fatality Rate      Continent  \n",
       "0           1.15  North America  \n",
       "1           1.20           Asia  \n",
       "2           2.05  South America  \n",
       "3           0.47         Europe  \n",
       "4           0.49         Europe  "
      ]
     },
     "execution_count": 13,
     "metadata": {},
     "output_type": "execute_result"
    }
   ],
   "source": [
    "#hide\n",
    "for c in 'Cases, Deaths'.split(', '):\n",
    "    df_table[f'{c} (+)'] = (df_table[c] - df_table[f'P{c}']).clip(0)\n",
    "    #Clip ça veut dire, les chiffres negatif sont interdit\n",
    "df_table['Fatality Rate'] = (100* df_table['Deaths']/ df_table['Cases']).round(2)\n",
    "df_table['Continent'] = df_table['Country/Region'].map(mapping['map.continent'])\n",
    "df_table.head(5)"
   ]
  },
  {
   "cell_type": "code",
   "execution_count": 14,
   "id": "aboriginal-bulgaria",
   "metadata": {
    "execution": {
     "iopub.execute_input": "2022-07-10T12:14:58.062417Z",
     "iopub.status.busy": "2022-07-10T12:14:58.061744Z",
     "iopub.status.idle": "2022-07-10T12:14:58.066583Z",
     "shell.execute_reply": "2022-07-10T12:14:58.065869Z"
    },
    "papermill": {
     "duration": 0.045271,
     "end_time": "2022-07-10T12:14:58.066707",
     "exception": false,
     "start_time": "2022-07-10T12:14:58.021436",
     "status": "completed"
    },
    "tags": []
   },
   "outputs": [],
   "source": [
    "#hide\n",
    "#delete problematic countries from table\n",
    "df_table = df_table[~df_table['Country/Region'].isin(['Cape Verde', 'Cruise Ship', 'Kosovo'])]"
   ]
  },
  {
   "cell_type": "code",
   "execution_count": 15,
   "id": "fantastic-effect",
   "metadata": {
    "execution": {
     "iopub.execute_input": "2022-07-10T12:14:58.149205Z",
     "iopub.status.busy": "2022-07-10T12:14:58.148412Z",
     "iopub.status.idle": "2022-07-10T12:14:58.169698Z",
     "shell.execute_reply": "2022-07-10T12:14:58.170260Z"
    },
    "papermill": {
     "duration": 0.065986,
     "end_time": "2022-07-10T12:14:58.170380",
     "exception": false,
     "start_time": "2022-07-10T12:14:58.104394",
     "status": "completed"
    },
    "tags": []
   },
   "outputs": [
    {
     "data": {
      "text/html": [
       "<div>\n",
       "<style scoped>\n",
       "    .dataframe tbody tr th:only-of-type {\n",
       "        vertical-align: middle;\n",
       "    }\n",
       "\n",
       "    .dataframe tbody tr th {\n",
       "        vertical-align: top;\n",
       "    }\n",
       "\n",
       "    .dataframe thead th {\n",
       "        text-align: right;\n",
       "    }\n",
       "</style>\n",
       "<table border=\"1\" class=\"dataframe\">\n",
       "  <thead>\n",
       "    <tr style=\"text-align: right;\">\n",
       "      <th></th>\n",
       "      <th>Country/Region</th>\n",
       "      <th>Cases</th>\n",
       "      <th>Deaths</th>\n",
       "      <th>PCases</th>\n",
       "      <th>PDeaths</th>\n",
       "      <th>Cases (+)</th>\n",
       "      <th>Deaths (+)</th>\n",
       "      <th>Fatality Rate</th>\n",
       "      <th>Continent</th>\n",
       "    </tr>\n",
       "  </thead>\n",
       "  <tbody>\n",
       "    <tr>\n",
       "      <th>0</th>\n",
       "      <td>US</td>\n",
       "      <td>88572807</td>\n",
       "      <td>1020852</td>\n",
       "      <td>88547882</td>\n",
       "      <td>1020816</td>\n",
       "      <td>24925</td>\n",
       "      <td>36</td>\n",
       "      <td>1.2</td>\n",
       "      <td>North America</td>\n",
       "    </tr>\n",
       "    <tr>\n",
       "      <th>1</th>\n",
       "      <td>India</td>\n",
       "      <td>43622651</td>\n",
       "      <td>525428</td>\n",
       "      <td>43604394</td>\n",
       "      <td>525386</td>\n",
       "      <td>18257</td>\n",
       "      <td>42</td>\n",
       "      <td>1.2</td>\n",
       "      <td>Asia</td>\n",
       "    </tr>\n",
       "    <tr>\n",
       "      <th>2</th>\n",
       "      <td>Brazil</td>\n",
       "      <td>32874501</td>\n",
       "      <td>673554</td>\n",
       "      <td>32830844</td>\n",
       "      <td>673339</td>\n",
       "      <td>43657</td>\n",
       "      <td>215</td>\n",
       "      <td>2.0</td>\n",
       "      <td>South America</td>\n",
       "    </tr>\n",
       "    <tr>\n",
       "      <th>3</th>\n",
       "      <td>France</td>\n",
       "      <td>32318670</td>\n",
       "      <td>151056</td>\n",
       "      <td>32318670</td>\n",
       "      <td>151056</td>\n",
       "      <td>0</td>\n",
       "      <td>0</td>\n",
       "      <td>0.5</td>\n",
       "      <td>Europe</td>\n",
       "    </tr>\n",
       "    <tr>\n",
       "      <th>4</th>\n",
       "      <td>Germany</td>\n",
       "      <td>29022265</td>\n",
       "      <td>141862</td>\n",
       "      <td>29022265</td>\n",
       "      <td>141862</td>\n",
       "      <td>0</td>\n",
       "      <td>0</td>\n",
       "      <td>0.5</td>\n",
       "      <td>Europe</td>\n",
       "    </tr>\n",
       "  </tbody>\n",
       "</table>\n",
       "</div>"
      ],
      "text/plain": [
       "  Country/Region     Cases   Deaths    PCases  PDeaths  Cases (+)  Deaths (+)  \\\n",
       "0             US  88572807  1020852  88547882  1020816      24925          36   \n",
       "1          India  43622651   525428  43604394   525386      18257          42   \n",
       "2         Brazil  32874501   673554  32830844   673339      43657         215   \n",
       "3         France  32318670   151056  32318670   151056          0           0   \n",
       "4        Germany  29022265   141862  29022265   141862          0           0   \n",
       "\n",
       "   Fatality Rate      Continent  \n",
       "0            1.2  North America  \n",
       "1            1.2           Asia  \n",
       "2            2.0  South America  \n",
       "3            0.5         Europe  \n",
       "4            0.5         Europe  "
      ]
     },
     "execution_count": 15,
     "metadata": {},
     "output_type": "execute_result"
    }
   ],
   "source": [
    "#hide\n",
    "df_table = (pd.DataFrame(dict(Cases=dfc_cases, Deaths=dfc_deaths, PCases=dfp_cases, PDeaths=dfp_deaths))\n",
    "             .sort_values(by=['Cases', 'Deaths'], ascending=[False, False])\n",
    "             .reset_index())\n",
    "df_table.rename(columns={'index': 'Country/Region'}, inplace=True)\n",
    "for c in 'Cases, Deaths'.split(', '):\n",
    "    df_table[f'{c} (+)'] = (df_table[c] - df_table[f'P{c}']).clip(0)  # DATA BUG\n",
    "df_table['Fatality Rate'] = (100 * df_table['Deaths'] / df_table['Cases']).round(1)\n",
    "df_table['Continent'] = df_table['Country/Region'].map(mapping['map.continent'])\n",
    "df_table.head(5)"
   ]
  },
  {
   "cell_type": "code",
   "execution_count": 16,
   "id": "fewer-occasion",
   "metadata": {
    "execution": {
     "iopub.execute_input": "2022-07-10T12:14:58.242217Z",
     "iopub.status.busy": "2022-07-10T12:14:58.241444Z",
     "iopub.status.idle": "2022-07-10T12:14:58.245057Z",
     "shell.execute_reply": "2022-07-10T12:14:58.244508Z"
    },
    "papermill": {
     "duration": 0.041617,
     "end_time": "2022-07-10T12:14:58.245182",
     "exception": false,
     "start_time": "2022-07-10T12:14:58.203565",
     "status": "completed"
    },
    "tags": []
   },
   "outputs": [],
   "source": [
    "#hide\n",
    "#delete problematic countries from table\n",
    "df_table = df_table[~df_table['Country/Region'].isin(['Cape Verde', 'Cruise Ship', 'Kosovo'])]"
   ]
  },
  {
   "cell_type": "code",
   "execution_count": 17,
   "id": "related-center",
   "metadata": {
    "execution": {
     "iopub.execute_input": "2022-07-10T12:14:58.327852Z",
     "iopub.status.busy": "2022-07-10T12:14:58.327141Z",
     "iopub.status.idle": "2022-07-10T12:14:58.336137Z",
     "shell.execute_reply": "2022-07-10T12:14:58.336826Z"
    },
    "papermill": {
     "duration": 0.054811,
     "end_time": "2022-07-10T12:14:58.336949",
     "exception": false,
     "start_time": "2022-07-10T12:14:58.282138",
     "status": "completed"
    },
    "tags": []
   },
   "outputs": [],
   "source": [
    "#hide\n",
    "metrics = [df_table.columns[index] for index in [1,2,5,6]]\n",
    "# s_china = df_table[df_table['Country/Region'].eq('China')][metrics].sum().add_prefix('China ')\n",
    "s_us = df_table[df_table['Country/Region'].eq('US')][metrics].sum().add_prefix('US ')\n",
    "s_eu = df_table[df_table['Continent'].eq('Europe')][metrics].sum().add_prefix('EU ')\n",
    "s_ind = df_table[df_table['Country/Region'].eq('India')][metrics].sum().add_prefix('India ')\n",
    "summary = {'updated': pd.to_datetime(dt_today), 'since': pd.to_datetime(dt_yday)}\n",
    "summary = {'updated': pd.to_datetime(dt_today), 'since': pd.to_datetime(dt_yday)}\n",
    "summary = {**summary, **df_table[metrics].sum(), **s_ind, **s_us, **s_eu}"
   ]
  },
  {
   "cell_type": "code",
   "execution_count": 18,
   "id": "engaging-syndrome",
   "metadata": {
    "execution": {
     "iopub.execute_input": "2022-07-10T12:14:58.419683Z",
     "iopub.status.busy": "2022-07-10T12:14:58.419012Z",
     "iopub.status.idle": "2022-07-10T12:14:58.439586Z",
     "shell.execute_reply": "2022-07-10T12:14:58.440166Z"
    },
    "papermill": {
     "duration": 0.065647,
     "end_time": "2022-07-10T12:14:58.440297",
     "exception": false,
     "start_time": "2022-07-10T12:14:58.374650",
     "status": "completed"
    },
    "tags": []
   },
   "outputs": [],
   "source": [
    "#hide\n",
    "dft_ct_new_cases = dft_cases.groupby(COL_REGION)[dt_cols].sum().diff(axis=1).fillna(0).astype(int)"
   ]
  },
  {
   "cell_type": "code",
   "execution_count": 19,
   "id": "neutral-assignment",
   "metadata": {
    "execution": {
     "iopub.execute_input": "2022-07-10T12:14:58.519840Z",
     "iopub.status.busy": "2022-07-10T12:14:58.519120Z",
     "iopub.status.idle": "2022-07-10T12:14:58.521972Z",
     "shell.execute_reply": "2022-07-10T12:14:58.522477Z"
    },
    "papermill": {
     "duration": 0.045505,
     "end_time": "2022-07-10T12:14:58.522692",
     "exception": false,
     "start_time": "2022-07-10T12:14:58.477187",
     "status": "completed"
    },
    "tags": []
   },
   "outputs": [],
   "source": [
    "#hide\n",
    "everydaycases = dft_ct_new_cases.cumsum(axis=1)"
   ]
  },
  {
   "cell_type": "code",
   "execution_count": 20,
   "id": "parliamentary-calgary",
   "metadata": {
    "execution": {
     "iopub.execute_input": "2022-07-10T12:14:58.617044Z",
     "iopub.status.busy": "2022-07-10T12:14:58.616343Z",
     "iopub.status.idle": "2022-07-10T12:14:59.240205Z",
     "shell.execute_reply": "2022-07-10T12:14:59.239661Z"
    },
    "papermill": {
     "duration": 0.667976,
     "end_time": "2022-07-10T12:14:59.240352",
     "exception": false,
     "start_time": "2022-07-10T12:14:58.572376",
     "status": "completed"
    },
    "tags": []
   },
   "outputs": [],
   "source": [
    "#hide\n",
    "import pandas as pd\n",
    "import matplotlib.pyplot as plt\n",
    "import matplotlib.ticker as ticker\n",
    "import matplotlib.animation as animation\n",
    "from IPython.display import HTML"
   ]
  },
  {
   "cell_type": "code",
   "execution_count": 21,
   "id": "lasting-extraction",
   "metadata": {
    "execution": {
     "iopub.execute_input": "2022-07-10T12:14:59.317757Z",
     "iopub.status.busy": "2022-07-10T12:14:59.316952Z",
     "iopub.status.idle": "2022-07-10T12:14:59.324080Z",
     "shell.execute_reply": "2022-07-10T12:14:59.324575Z"
    },
    "papermill": {
     "duration": 0.048579,
     "end_time": "2022-07-10T12:14:59.324760",
     "exception": false,
     "start_time": "2022-07-10T12:14:59.276181",
     "status": "completed"
    },
    "tags": []
   },
   "outputs": [],
   "source": [
    "#hide\n",
    "t = everydaycases.stack()"
   ]
  },
  {
   "cell_type": "code",
   "execution_count": 22,
   "id": "premier-sleeve",
   "metadata": {
    "execution": {
     "iopub.execute_input": "2022-07-10T12:14:59.406436Z",
     "iopub.status.busy": "2022-07-10T12:14:59.405511Z",
     "iopub.status.idle": "2022-07-10T12:14:59.430118Z",
     "shell.execute_reply": "2022-07-10T12:14:59.430682Z"
    },
    "papermill": {
     "duration": 0.070612,
     "end_time": "2022-07-10T12:14:59.430922",
     "exception": false,
     "start_time": "2022-07-10T12:14:59.360310",
     "status": "completed"
    },
    "tags": []
   },
   "outputs": [],
   "source": [
    "#hide\n",
    "g = t.reset_index(['Country/Region'])"
   ]
  },
  {
   "cell_type": "code",
   "execution_count": 23,
   "id": "distributed-pittsburgh",
   "metadata": {
    "execution": {
     "iopub.execute_input": "2022-07-10T12:14:59.516450Z",
     "iopub.status.busy": "2022-07-10T12:14:59.515802Z",
     "iopub.status.idle": "2022-07-10T12:14:59.518952Z",
     "shell.execute_reply": "2022-07-10T12:14:59.519539Z"
    },
    "papermill": {
     "duration": 0.046909,
     "end_time": "2022-07-10T12:14:59.519728",
     "exception": false,
     "start_time": "2022-07-10T12:14:59.472819",
     "status": "completed"
    },
    "tags": []
   },
   "outputs": [],
   "source": [
    "#hide\n",
    "g.index.name = 'date'"
   ]
  },
  {
   "cell_type": "code",
   "execution_count": 24,
   "id": "naked-donor",
   "metadata": {
    "execution": {
     "iopub.execute_input": "2022-07-10T12:14:59.600933Z",
     "iopub.status.busy": "2022-07-10T12:14:59.600352Z",
     "iopub.status.idle": "2022-07-10T12:14:59.603175Z",
     "shell.execute_reply": "2022-07-10T12:14:59.602658Z"
    },
    "papermill": {
     "duration": 0.042201,
     "end_time": "2022-07-10T12:14:59.603278",
     "exception": false,
     "start_time": "2022-07-10T12:14:59.561077",
     "status": "completed"
    },
    "tags": []
   },
   "outputs": [],
   "source": [
    "# #hide\n",
    "# g = g.reset_index(['date'])"
   ]
  },
  {
   "cell_type": "code",
   "execution_count": 25,
   "id": "incomplete-mustang",
   "metadata": {
    "execution": {
     "iopub.execute_input": "2022-07-10T12:14:59.674152Z",
     "iopub.status.busy": "2022-07-10T12:14:59.673564Z",
     "iopub.status.idle": "2022-07-10T12:14:59.676421Z",
     "shell.execute_reply": "2022-07-10T12:14:59.675913Z"
    },
    "papermill": {
     "duration": 0.04099,
     "end_time": "2022-07-10T12:14:59.676537",
     "exception": false,
     "start_time": "2022-07-10T12:14:59.635547",
     "status": "completed"
    },
    "tags": []
   },
   "outputs": [],
   "source": [
    "#hide\n",
    "# g.head()"
   ]
  },
  {
   "cell_type": "code",
   "execution_count": 26,
   "id": "specific-kruger",
   "metadata": {
    "execution": {
     "iopub.execute_input": "2022-07-10T12:14:59.745594Z",
     "iopub.status.busy": "2022-07-10T12:14:59.744978Z",
     "iopub.status.idle": "2022-07-10T12:14:59.747590Z",
     "shell.execute_reply": "2022-07-10T12:14:59.747117Z"
    },
    "papermill": {
     "duration": 0.03869,
     "end_time": "2022-07-10T12:14:59.747693",
     "exception": false,
     "start_time": "2022-07-10T12:14:59.709003",
     "status": "completed"
    },
    "tags": []
   },
   "outputs": [],
   "source": [
    "#hide\n",
    "# g.columns = ['date','country','cases']"
   ]
  },
  {
   "cell_type": "code",
   "execution_count": 27,
   "id": "tender-conversion",
   "metadata": {
    "execution": {
     "iopub.execute_input": "2022-07-10T12:14:59.813636Z",
     "iopub.status.busy": "2022-07-10T12:14:59.812947Z",
     "iopub.status.idle": "2022-07-10T12:14:59.815726Z",
     "shell.execute_reply": "2022-07-10T12:14:59.815112Z"
    },
    "papermill": {
     "duration": 0.036189,
     "end_time": "2022-07-10T12:14:59.815826",
     "exception": false,
     "start_time": "2022-07-10T12:14:59.779637",
     "status": "completed"
    },
    "tags": []
   },
   "outputs": [],
   "source": [
    "#hide\n",
    "# g['continent'] = g.country"
   ]
  },
  {
   "cell_type": "code",
   "execution_count": 28,
   "id": "substantial-wilderness",
   "metadata": {
    "execution": {
     "iopub.execute_input": "2022-07-10T12:14:59.887860Z",
     "iopub.status.busy": "2022-07-10T12:14:59.887200Z",
     "iopub.status.idle": "2022-07-10T12:14:59.890268Z",
     "shell.execute_reply": "2022-07-10T12:14:59.889450Z"
    },
    "papermill": {
     "duration": 0.042082,
     "end_time": "2022-07-10T12:14:59.890381",
     "exception": false,
     "start_time": "2022-07-10T12:14:59.848299",
     "status": "completed"
    },
    "tags": []
   },
   "outputs": [],
   "source": [
    "#hide\n",
    "# cols = list(g.columns.values)"
   ]
  },
  {
   "cell_type": "code",
   "execution_count": 29,
   "id": "solved-farming",
   "metadata": {
    "execution": {
     "iopub.execute_input": "2022-07-10T12:14:59.962052Z",
     "iopub.status.busy": "2022-07-10T12:14:59.961329Z",
     "iopub.status.idle": "2022-07-10T12:14:59.964420Z",
     "shell.execute_reply": "2022-07-10T12:14:59.963815Z"
    },
    "papermill": {
     "duration": 0.040372,
     "end_time": "2022-07-10T12:14:59.964533",
     "exception": false,
     "start_time": "2022-07-10T12:14:59.924161",
     "status": "completed"
    },
    "tags": []
   },
   "outputs": [],
   "source": [
    "#hide\n",
    "# cols.insert(0, cols.pop())"
   ]
  },
  {
   "cell_type": "code",
   "execution_count": 30,
   "id": "executed-adoption",
   "metadata": {
    "execution": {
     "iopub.execute_input": "2022-07-10T12:15:00.038429Z",
     "iopub.status.busy": "2022-07-10T12:15:00.037733Z",
     "iopub.status.idle": "2022-07-10T12:15:00.040476Z",
     "shell.execute_reply": "2022-07-10T12:15:00.039851Z"
    },
    "papermill": {
     "duration": 0.042192,
     "end_time": "2022-07-10T12:15:00.040588",
     "exception": false,
     "start_time": "2022-07-10T12:14:59.998396",
     "status": "completed"
    },
    "tags": []
   },
   "outputs": [],
   "source": [
    "#hide\n",
    "# g = g[cols]"
   ]
  },
  {
   "cell_type": "code",
   "execution_count": 31,
   "id": "subject-dublin",
   "metadata": {
    "execution": {
     "iopub.execute_input": "2022-07-10T12:15:00.114630Z",
     "iopub.status.busy": "2022-07-10T12:15:00.114040Z",
     "iopub.status.idle": "2022-07-10T12:15:00.116587Z",
     "shell.execute_reply": "2022-07-10T12:15:00.116107Z"
    },
    "papermill": {
     "duration": 0.039073,
     "end_time": "2022-07-10T12:15:00.116692",
     "exception": false,
     "start_time": "2022-07-10T12:15:00.077619",
     "status": "completed"
    },
    "tags": []
   },
   "outputs": [],
   "source": [
    "#hide\n",
    "# g['continent'] = g['continent'].map(mapping['map.continent'])"
   ]
  },
  {
   "cell_type": "code",
   "execution_count": 32,
   "id": "freelance-scout",
   "metadata": {
    "execution": {
     "iopub.execute_input": "2022-07-10T12:15:00.187166Z",
     "iopub.status.busy": "2022-07-10T12:15:00.186513Z",
     "iopub.status.idle": "2022-07-10T12:15:00.189315Z",
     "shell.execute_reply": "2022-07-10T12:15:00.188812Z"
    },
    "papermill": {
     "duration": 0.039123,
     "end_time": "2022-07-10T12:15:00.189422",
     "exception": false,
     "start_time": "2022-07-10T12:15:00.150299",
     "status": "completed"
    },
    "tags": []
   },
   "outputs": [],
   "source": [
    "#hide\n",
    "# g.head()"
   ]
  },
  {
   "cell_type": "code",
   "execution_count": 33,
   "id": "limited-engine",
   "metadata": {
    "execution": {
     "iopub.execute_input": "2022-07-10T12:15:00.256975Z",
     "iopub.status.busy": "2022-07-10T12:15:00.256073Z",
     "iopub.status.idle": "2022-07-10T12:15:00.259419Z",
     "shell.execute_reply": "2022-07-10T12:15:00.258792Z"
    },
    "papermill": {
     "duration": 0.038594,
     "end_time": "2022-07-10T12:15:00.259544",
     "exception": false,
     "start_time": "2022-07-10T12:15:00.220950",
     "status": "completed"
    },
    "tags": []
   },
   "outputs": [],
   "source": [
    "# hide\n",
    "# g['date'] = g['date'].astype('datetime64[ns]')"
   ]
  },
  {
   "cell_type": "code",
   "execution_count": 34,
   "id": "sophisticated-supervisor",
   "metadata": {
    "execution": {
     "iopub.execute_input": "2022-07-10T12:15:00.332856Z",
     "iopub.status.busy": "2022-07-10T12:15:00.332274Z",
     "iopub.status.idle": "2022-07-10T12:15:00.335298Z",
     "shell.execute_reply": "2022-07-10T12:15:00.334743Z"
    },
    "papermill": {
     "duration": 0.041494,
     "end_time": "2022-07-10T12:15:00.335402",
     "exception": false,
     "start_time": "2022-07-10T12:15:00.293908",
     "status": "completed"
    },
    "tags": []
   },
   "outputs": [],
   "source": [
    "#hide\n",
    "# g['date'] = g.date.dt.dayofyear"
   ]
  },
  {
   "cell_type": "code",
   "execution_count": 35,
   "id": "inside-dubai",
   "metadata": {
    "execution": {
     "iopub.execute_input": "2022-07-10T12:15:00.406849Z",
     "iopub.status.busy": "2022-07-10T12:15:00.406065Z",
     "iopub.status.idle": "2022-07-10T12:15:00.408517Z",
     "shell.execute_reply": "2022-07-10T12:15:00.408001Z"
    },
    "papermill": {
     "duration": 0.041497,
     "end_time": "2022-07-10T12:15:00.408622",
     "exception": false,
     "start_time": "2022-07-10T12:15:00.367125",
     "status": "completed"
    },
    "tags": []
   },
   "outputs": [],
   "source": [
    "#hide\n",
    "# g = g.rename(columns= {'continent':'group','country':'name','cases':'value'})"
   ]
  },
  {
   "cell_type": "code",
   "execution_count": 36,
   "id": "fleet-motorcycle",
   "metadata": {
    "execution": {
     "iopub.execute_input": "2022-07-10T12:15:00.478782Z",
     "iopub.status.busy": "2022-07-10T12:15:00.478032Z",
     "iopub.status.idle": "2022-07-10T12:15:00.481952Z",
     "shell.execute_reply": "2022-07-10T12:15:00.481323Z"
    },
    "papermill": {
     "duration": 0.041329,
     "end_time": "2022-07-10T12:15:00.482060",
     "exception": false,
     "start_time": "2022-07-10T12:15:00.440731",
     "status": "completed"
    },
    "tags": []
   },
   "outputs": [],
   "source": [
    "#hide\n",
    "# cols = ['name','group','day','value']"
   ]
  },
  {
   "cell_type": "code",
   "execution_count": 37,
   "id": "continued-sleeping",
   "metadata": {
    "execution": {
     "iopub.execute_input": "2022-07-10T12:15:00.551135Z",
     "iopub.status.busy": "2022-07-10T12:15:00.550543Z",
     "iopub.status.idle": "2022-07-10T12:15:00.553124Z",
     "shell.execute_reply": "2022-07-10T12:15:00.552614Z"
    },
    "papermill": {
     "duration": 0.038184,
     "end_time": "2022-07-10T12:15:00.553229",
     "exception": false,
     "start_time": "2022-07-10T12:15:00.515045",
     "status": "completed"
    },
    "tags": []
   },
   "outputs": [],
   "source": [
    "#hide\n",
    "# g.rename(columns= {'date':'day'},inplace = True)"
   ]
  },
  {
   "cell_type": "code",
   "execution_count": 38,
   "id": "major-fight",
   "metadata": {
    "execution": {
     "iopub.execute_input": "2022-07-10T12:15:00.621633Z",
     "iopub.status.busy": "2022-07-10T12:15:00.620951Z",
     "iopub.status.idle": "2022-07-10T12:15:00.625269Z",
     "shell.execute_reply": "2022-07-10T12:15:00.624579Z"
    },
    "papermill": {
     "duration": 0.040904,
     "end_time": "2022-07-10T12:15:00.625391",
     "exception": false,
     "start_time": "2022-07-10T12:15:00.584487",
     "status": "completed"
    },
    "tags": []
   },
   "outputs": [],
   "source": [
    "#hide\n",
    "# g = g[cols]"
   ]
  },
  {
   "cell_type": "code",
   "execution_count": 39,
   "id": "structured-mobile",
   "metadata": {
    "execution": {
     "iopub.execute_input": "2022-07-10T12:15:00.696178Z",
     "iopub.status.busy": "2022-07-10T12:15:00.695584Z",
     "iopub.status.idle": "2022-07-10T12:15:00.698640Z",
     "shell.execute_reply": "2022-07-10T12:15:00.699120Z"
    },
    "papermill": {
     "duration": 0.040342,
     "end_time": "2022-07-10T12:15:00.699232",
     "exception": false,
     "start_time": "2022-07-10T12:15:00.658890",
     "status": "completed"
    },
    "tags": []
   },
   "outputs": [],
   "source": [
    "# #hide\n",
    "# g = g[g.group.notna()]"
   ]
  },
  {
   "cell_type": "code",
   "execution_count": 40,
   "id": "determined-closing",
   "metadata": {
    "execution": {
     "iopub.execute_input": "2022-07-10T12:15:00.768278Z",
     "iopub.status.busy": "2022-07-10T12:15:00.767286Z",
     "iopub.status.idle": "2022-07-10T12:15:00.771794Z",
     "shell.execute_reply": "2022-07-10T12:15:00.771150Z"
    },
    "papermill": {
     "duration": 0.039713,
     "end_time": "2022-07-10T12:15:00.771899",
     "exception": false,
     "start_time": "2022-07-10T12:15:00.732186",
     "status": "completed"
    },
    "tags": []
   },
   "outputs": [],
   "source": [
    "# #hide\n",
    "# colors = dict(zip(\n",
    "#     [\"Oceania\", \"Europe\", \"Asia\", \"South America\", \"Middle East\", \"North America\", \"Africa\"],\n",
    "#     [\"#adb0ff\", \"#ffb3ff\", \"#90d595\", \"#e48381\", \"#aafbff\", \"#f7bb5f\", \"#eafb50\"]\n",
    "# ))\n",
    "# group_lk = g.set_index('name')['group'].to_dict()"
   ]
  },
  {
   "cell_type": "code",
   "execution_count": null,
   "id": "gross-drinking",
   "metadata": {
    "papermill": {
     "duration": 0.033752,
     "end_time": "2022-07-10T12:15:00.836873",
     "exception": false,
     "start_time": "2022-07-10T12:15:00.803121",
     "status": "completed"
    },
    "tags": []
   },
   "outputs": [],
   "source": []
  },
  {
   "cell_type": "code",
   "execution_count": 41,
   "id": "subject-macintosh",
   "metadata": {
    "execution": {
     "iopub.execute_input": "2022-07-10T12:15:00.903177Z",
     "iopub.status.busy": "2022-07-10T12:15:00.902582Z",
     "iopub.status.idle": "2022-07-10T12:15:00.905348Z",
     "shell.execute_reply": "2022-07-10T12:15:00.904725Z"
    },
    "papermill": {
     "duration": 0.037024,
     "end_time": "2022-07-10T12:15:00.905449",
     "exception": false,
     "start_time": "2022-07-10T12:15:00.868425",
     "status": "completed"
    },
    "tags": []
   },
   "outputs": [],
   "source": [
    "# #hide\n",
    "# fig, ax = plt.subplots(figsize=(15, 8))\n",
    "\n",
    "# def draw_barchart(current_day):\n",
    "#     dff = g[g['day'].eq(current_day)].sort_values(by='value', ascending=True).tail(10)\n",
    "#     ax.clear()\n",
    "#     ax.barh(dff['name'], dff['value'], color=[colors[group_lk[x]] for x in dff['name']])\n",
    "#     dx = dff['value'].max() / 200\n",
    "    \n",
    "#     for i, (value, name) in enumerate(zip(dff['value'], dff['name'])):\n",
    "#         ax.text(value-dx, i,     name,           size=14, weight=600, ha='right', va='bottom')\n",
    "#         ax.text(value-dx, i-.25, group_lk[name], size=10, color='#444444', ha='right', va='baseline')\n",
    "#         ax.text(value+dx, i,     f'{value:,.0f}',  size=14, ha='left',  va='center')\n",
    "#     ax.text(1, 0.4, current_day, transform=ax.transAxes, color='#777777', size=46, ha='right', weight=800)\n",
    "#     ax.text(0, 1.06, 'Population (thousands)', transform=ax.transAxes, size=12, color='#777777')\n",
    "#     ax.xaxis.set_major_formatter(ticker.StrMethodFormatter('{x:,.0f}'))\n",
    "#     ax.xaxis.set_ticks_position('top')\n",
    "#     ax.tick_params(axis='x', colors='#777777', labelsize=12)\n",
    "#     ax.set_yticks([])\n",
    "#     ax.margins(0, 0.01)\n",
    "#     ax.grid(which='major', axis='x', linestyle='-')\n",
    "#     ax.set_axisbelow(True)\n",
    "    \n",
    "#     ax.text(0, 1.15, 'Coronavirus',\n",
    "#             transform=ax.transAxes, size=24, weight=600, ha='left', va='top')\n",
    "# #     ax.text(1, 0, 'by @pratapvardhan; credit @jburnmurdoch', transform=ax.transAxes, color='#777777', ha='right',\n",
    "# #             bbox=dict(facecolor='white', alpha=0.8, edgecolor='white'))\n",
    "#     plt.box(False)"
   ]
  },
  {
   "cell_type": "code",
   "execution_count": 42,
   "id": "sexual-wages",
   "metadata": {
    "execution": {
     "iopub.execute_input": "2022-07-10T12:15:00.972098Z",
     "iopub.status.busy": "2022-07-10T12:15:00.971382Z",
     "iopub.status.idle": "2022-07-10T12:15:00.974138Z",
     "shell.execute_reply": "2022-07-10T12:15:00.973598Z"
    },
    "papermill": {
     "duration": 0.037691,
     "end_time": "2022-07-10T12:15:00.974261",
     "exception": false,
     "start_time": "2022-07-10T12:15:00.936570",
     "status": "completed"
    },
    "tags": []
   },
   "outputs": [],
   "source": [
    "# #hide_input\n",
    "# fig, ax = plt.subplots(figsize=(15, 8))\n",
    "# animator = animation.FuncAnimation(fig, draw_barchart, frames=range(g.day.values.min(), g.day.values.max()))\n",
    "# HTML(animator.to_jshtml())\n",
    "# # or use animator.to_html5_video() or animator.save() "
   ]
  },
  {
   "cell_type": "code",
   "execution_count": null,
   "id": "australian-container",
   "metadata": {
    "papermill": {
     "duration": 0.071799,
     "end_time": "2022-07-10T12:15:01.080356",
     "exception": false,
     "start_time": "2022-07-10T12:15:01.008557",
     "status": "completed"
    },
    "tags": []
   },
   "outputs": [],
   "source": []
  },
  {
   "cell_type": "code",
   "execution_count": null,
   "id": "mediterranean-pontiac",
   "metadata": {
    "papermill": {
     "duration": 0.056368,
     "end_time": "2022-07-10T12:15:01.239367",
     "exception": false,
     "start_time": "2022-07-10T12:15:01.182999",
     "status": "completed"
    },
    "tags": []
   },
   "outputs": [],
   "source": []
  },
  {
   "cell_type": "code",
   "execution_count": null,
   "id": "aging-legislature",
   "metadata": {
    "papermill": {
     "duration": 0.0314,
     "end_time": "2022-07-10T12:15:01.307716",
     "exception": false,
     "start_time": "2022-07-10T12:15:01.276316",
     "status": "completed"
    },
    "tags": []
   },
   "outputs": [],
   "source": []
  }
 ],
 "metadata": {
  "kernelspec": {
   "display_name": "Python 3",
   "language": "python",
   "name": "python3"
  },
  "language_info": {
   "codemirror_mode": {
    "name": "ipython",
    "version": 3
   },
   "file_extension": ".py",
   "mimetype": "text/x-python",
   "name": "python",
   "nbconvert_exporter": "python",
   "pygments_lexer": "ipython3",
   "version": "3.6.15"
  },
  "papermill": {
   "duration": 6.831793,
   "end_time": "2022-07-10T12:15:01.658498",
   "environment_variables": {},
   "exception": null,
   "input_path": "2020-03-21-covid19exp.ipynb",
   "output_path": "2020-03-21-covid19exp.ipynb",
   "parameters": {},
   "start_time": "2022-07-10T12:14:54.826705",
   "version": "2.0.0"
  }
 },
 "nbformat": 4,
 "nbformat_minor": 5
}