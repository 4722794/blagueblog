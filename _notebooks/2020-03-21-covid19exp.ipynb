{
 "cells": [
  {
   "cell_type": "markdown",
   "id": "muslim-click",
   "metadata": {
    "papermill": {
     "duration": 0.046757,
     "end_time": "2021-08-31T12:11:33.736692",
     "exception": false,
     "start_time": "2021-08-31T12:11:33.689935",
     "status": "completed"
    },
    "tags": []
   },
   "source": [
    "# COVID-19 Case Race\n",
    "> A race chart to see rising cases around the world\n",
    "\n",
    "- author: Hargun Oberoi\n",
    "- image: images/covid-overview.png\n",
    "- hide: false\n",
    "- badges: false"
   ]
  },
  {
   "cell_type": "code",
   "execution_count": 1,
   "id": "proof-material",
   "metadata": {
    "execution": {
     "iopub.execute_input": "2021-08-31T12:11:33.833295Z",
     "iopub.status.busy": "2021-08-31T12:11:33.832553Z",
     "iopub.status.idle": "2021-08-31T12:11:34.259912Z",
     "shell.execute_reply": "2021-08-31T12:11:34.259303Z"
    },
    "papermill": {
     "duration": 0.485115,
     "end_time": "2021-08-31T12:11:34.260082",
     "exception": false,
     "start_time": "2021-08-31T12:11:33.774967",
     "status": "completed"
    },
    "tags": []
   },
   "outputs": [],
   "source": [
    "#hide\n",
    "import numpy as np\n",
    "import pandas as pd\n",
    "from jinja2 import Template\n",
    "from IPython.display import HTML"
   ]
  },
  {
   "cell_type": "code",
   "execution_count": 2,
   "id": "developed-terminology",
   "metadata": {
    "execution": {
     "iopub.execute_input": "2021-08-31T12:11:34.345730Z",
     "iopub.status.busy": "2021-08-31T12:11:34.345046Z",
     "iopub.status.idle": "2021-08-31T12:11:34.347324Z",
     "shell.execute_reply": "2021-08-31T12:11:34.347969Z"
    },
    "papermill": {
     "duration": 0.048022,
     "end_time": "2021-08-31T12:11:34.348126",
     "exception": false,
     "start_time": "2021-08-31T12:11:34.300104",
     "status": "completed"
    },
    "tags": []
   },
   "outputs": [],
   "source": [
    "#hide\n",
    "\n",
    "# FETCH\n",
    "base_url = 'https://raw.githubusercontent.com/pratapvardhan/notebooks/master/covid19/'\n",
    "paths = {\n",
    "    'mapping': base_url + 'mapping_countries.csv',\n",
    "    'overview': base_url + 'overview.tpl'\n",
    "}"
   ]
  },
  {
   "cell_type": "code",
   "execution_count": 3,
   "id": "dynamic-saver",
   "metadata": {
    "execution": {
     "iopub.execute_input": "2021-08-31T12:11:34.438224Z",
     "iopub.status.busy": "2021-08-31T12:11:34.435024Z",
     "iopub.status.idle": "2021-08-31T12:11:34.441201Z",
     "shell.execute_reply": "2021-08-31T12:11:34.441833Z"
    },
    "papermill": {
     "duration": 0.055314,
     "end_time": "2021-08-31T12:11:34.442008",
     "exception": false,
     "start_time": "2021-08-31T12:11:34.386694",
     "status": "completed"
    },
    "tags": []
   },
   "outputs": [
    {
     "data": {
      "text/plain": [
       "'https://raw.githubusercontent.com/pratapvardhan/notebooks/master/covid19/mapping_countries.csv'"
      ]
     },
     "execution_count": 3,
     "metadata": {},
     "output_type": "execute_result"
    }
   ],
   "source": [
    "#hide\n",
    "paths['mapping']"
   ]
  },
  {
   "cell_type": "code",
   "execution_count": 4,
   "id": "urban-software",
   "metadata": {
    "execution": {
     "iopub.execute_input": "2021-08-31T12:11:34.535981Z",
     "iopub.status.busy": "2021-08-31T12:11:34.535203Z",
     "iopub.status.idle": "2021-08-31T12:11:34.537265Z",
     "shell.execute_reply": "2021-08-31T12:11:34.537893Z"
    },
    "papermill": {
     "duration": 0.056084,
     "end_time": "2021-08-31T12:11:34.538062",
     "exception": false,
     "start_time": "2021-08-31T12:11:34.481978",
     "status": "completed"
    },
    "tags": []
   },
   "outputs": [],
   "source": [
    "#hide\n",
    "def get_mappings(url):\n",
    "    df = pd.read_csv(url)\n",
    "    return {\n",
    "        'df': df,\n",
    "        'replace.country': dict(df.dropna(subset=['Name']).set_index('Country')['Name']),\n",
    "        'map.continent': dict(df.set_index('Name')['Continent'])\n",
    "    }"
   ]
  },
  {
   "cell_type": "code",
   "execution_count": 5,
   "id": "intimate-machinery",
   "metadata": {
    "execution": {
     "iopub.execute_input": "2021-08-31T12:11:34.622140Z",
     "iopub.status.busy": "2021-08-31T12:11:34.621458Z",
     "iopub.status.idle": "2021-08-31T12:11:34.653390Z",
     "shell.execute_reply": "2021-08-31T12:11:34.652795Z"
    },
    "papermill": {
     "duration": 0.07724,
     "end_time": "2021-08-31T12:11:34.653551",
     "exception": false,
     "start_time": "2021-08-31T12:11:34.576311",
     "status": "completed"
    },
    "tags": []
   },
   "outputs": [],
   "source": [
    "#hide\n",
    "mapping = get_mappings(paths['mapping'])"
   ]
  },
  {
   "cell_type": "code",
   "execution_count": 6,
   "id": "certified-tactics",
   "metadata": {
    "execution": {
     "iopub.execute_input": "2021-08-31T12:11:34.740136Z",
     "iopub.status.busy": "2021-08-31T12:11:34.739448Z",
     "iopub.status.idle": "2021-08-31T12:11:34.741919Z",
     "shell.execute_reply": "2021-08-31T12:11:34.741253Z"
    },
    "papermill": {
     "duration": 0.048739,
     "end_time": "2021-08-31T12:11:34.742068",
     "exception": false,
     "start_time": "2021-08-31T12:11:34.693329",
     "status": "completed"
    },
    "tags": []
   },
   "outputs": [],
   "source": [
    "#hide\n",
    "def get_template(path):\n",
    "    from urllib.parse import urlparse\n",
    "    if bool(urlparse(path).netloc):\n",
    "        from urllib.request import urlopen\n",
    "        return urlopen(path).read().decode('utf8')\n",
    "    return open(path).read()"
   ]
  },
  {
   "cell_type": "code",
   "execution_count": 7,
   "id": "realistic-blast",
   "metadata": {
    "execution": {
     "iopub.execute_input": "2021-08-31T12:11:34.829922Z",
     "iopub.status.busy": "2021-08-31T12:11:34.829217Z",
     "iopub.status.idle": "2021-08-31T12:11:34.830699Z",
     "shell.execute_reply": "2021-08-31T12:11:34.831336Z"
    },
    "papermill": {
     "duration": 0.047581,
     "end_time": "2021-08-31T12:11:34.831510",
     "exception": false,
     "start_time": "2021-08-31T12:11:34.783929",
     "status": "completed"
    },
    "tags": []
   },
   "outputs": [],
   "source": [
    "#hide\n",
    "def get_frame(name):\n",
    "    url = (\n",
    "        'https://raw.githubusercontent.com/CSSEGISandData/COVID-19/master/csse_covid_19_data/'\n",
    "        f'csse_covid_19_time_series/time_series_covid19_{name}_global.csv')\n",
    "    df = pd.read_csv(url)\n",
    "    # rename countries\n",
    "    df['Country/Region'] = df['Country/Region'].replace(mapping['replace.country'])\n",
    "    return df"
   ]
  },
  {
   "cell_type": "code",
   "execution_count": 8,
   "id": "affiliated-characterization",
   "metadata": {
    "execution": {
     "iopub.execute_input": "2021-08-31T12:11:34.922564Z",
     "iopub.status.busy": "2021-08-31T12:11:34.921789Z",
     "iopub.status.idle": "2021-08-31T12:11:34.923797Z",
     "shell.execute_reply": "2021-08-31T12:11:34.924347Z"
    },
    "papermill": {
     "duration": 0.051467,
     "end_time": "2021-08-31T12:11:34.924530",
     "exception": false,
     "start_time": "2021-08-31T12:11:34.873063",
     "status": "completed"
    },
    "tags": []
   },
   "outputs": [],
   "source": [
    "#hide\n",
    "def get_dates(df):\n",
    "    dt_cols = df.columns[~df.columns.isin(['Province/State', 'Country/Region', 'Lat', 'Long'])]\n",
    "    LAST_DATE_I = -1\n",
    "    # sometimes last column may be empty, then go backwards\n",
    "    for i in range(-1, -len(dt_cols), -1):\n",
    "        if not df[dt_cols[i]].fillna(0).eq(0).all():\n",
    "            LAST_DATE_I = i\n",
    "            break\n",
    "    return LAST_DATE_I, dt_cols"
   ]
  },
  {
   "cell_type": "code",
   "execution_count": 9,
   "id": "recent-optimization",
   "metadata": {
    "execution": {
     "iopub.execute_input": "2021-08-31T12:11:35.009953Z",
     "iopub.status.busy": "2021-08-31T12:11:35.008826Z",
     "iopub.status.idle": "2021-08-31T12:11:35.414342Z",
     "shell.execute_reply": "2021-08-31T12:11:35.413724Z"
    },
    "papermill": {
     "duration": 0.450832,
     "end_time": "2021-08-31T12:11:35.414519",
     "exception": false,
     "start_time": "2021-08-31T12:11:34.963687",
     "status": "completed"
    },
    "tags": []
   },
   "outputs": [],
   "source": [
    "#hide\n",
    "COL_REGION = 'Country/Region'\n",
    "# Confirmed, Recovered, Deaths\n",
    "df = get_frame('confirmed')\n",
    "# dft_: timeseries, dfc_: today country agg\n",
    "dft_cases = df\n",
    "dft_deaths = get_frame('deaths')\n",
    "dft_recovered = get_frame('recovered')\n",
    "LAST_DATE_I, dt_cols = get_dates(df)"
   ]
  },
  {
   "cell_type": "code",
   "execution_count": 10,
   "id": "absolute-copper",
   "metadata": {
    "execution": {
     "iopub.execute_input": "2021-08-31T12:11:35.501031Z",
     "iopub.status.busy": "2021-08-31T12:11:35.500345Z",
     "iopub.status.idle": "2021-08-31T12:11:35.503014Z",
     "shell.execute_reply": "2021-08-31T12:11:35.502106Z"
    },
    "papermill": {
     "duration": 0.048404,
     "end_time": "2021-08-31T12:11:35.503161",
     "exception": false,
     "start_time": "2021-08-31T12:11:35.454757",
     "status": "completed"
    },
    "tags": []
   },
   "outputs": [],
   "source": [
    "#hide\n",
    "LAST_DATE_I, dt_cols = get_dates(df)\n",
    "dt_today =dt_cols[LAST_DATE_I]\n",
    "# dt_5day = dt_cols[LAST_DATE_I - 5]\n",
    "dt_yday = dt_cols[LAST_DATE_I - 1]"
   ]
  },
  {
   "cell_type": "code",
   "execution_count": 11,
   "id": "restricted-sheriff",
   "metadata": {
    "execution": {
     "iopub.execute_input": "2021-08-31T12:11:35.595948Z",
     "iopub.status.busy": "2021-08-31T12:11:35.595241Z",
     "iopub.status.idle": "2021-08-31T12:11:35.603108Z",
     "shell.execute_reply": "2021-08-31T12:11:35.602517Z"
    },
    "papermill": {
     "duration": 0.057622,
     "end_time": "2021-08-31T12:11:35.603264",
     "exception": false,
     "start_time": "2021-08-31T12:11:35.545642",
     "status": "completed"
    },
    "tags": []
   },
   "outputs": [],
   "source": [
    "#hide\n",
    "dfc_cases = dft_cases.groupby(COL_REGION)[dt_today].sum()\n",
    "dfc_deaths = dft_deaths.groupby(COL_REGION)[dt_today].sum()\n",
    "# dfp_cases = dft_cases.groupby(COL_REGION)[dt_5day].sum()\n",
    "# dfp_deaths = dft_deaths.groupby(COL_REGION)[dt_5day].sum()\n",
    "dfp_cases = dft_cases.groupby(COL_REGION)[dt_yday].sum()\n",
    "dfp_deaths = dft_deaths.groupby(COL_REGION)[dt_yday].sum()"
   ]
  },
  {
   "cell_type": "code",
   "execution_count": 12,
   "id": "deluxe-hepatitis",
   "metadata": {
    "execution": {
     "iopub.execute_input": "2021-08-31T12:11:35.715538Z",
     "iopub.status.busy": "2021-08-31T12:11:35.714822Z",
     "iopub.status.idle": "2021-08-31T12:11:35.719676Z",
     "shell.execute_reply": "2021-08-31T12:11:35.720325Z"
    },
    "papermill": {
     "duration": 0.077638,
     "end_time": "2021-08-31T12:11:35.720499",
     "exception": false,
     "start_time": "2021-08-31T12:11:35.642861",
     "status": "completed"
    },
    "tags": []
   },
   "outputs": [],
   "source": [
    "#hide\n",
    "df_table = (pd.DataFrame(dict(Cases = dfc_cases, Deaths = dfc_deaths, PCases = dfp_cases, PDeaths = dfp_deaths))\n",
    "            .sort_values(by = ['Cases','Deaths'], ascending = [False, False])\n",
    "            .reset_index())"
   ]
  },
  {
   "cell_type": "code",
   "execution_count": 13,
   "id": "educational-chancellor",
   "metadata": {
    "execution": {
     "iopub.execute_input": "2021-08-31T12:11:35.840509Z",
     "iopub.status.busy": "2021-08-31T12:11:35.839791Z",
     "iopub.status.idle": "2021-08-31T12:11:35.852461Z",
     "shell.execute_reply": "2021-08-31T12:11:35.853012Z"
    },
    "papermill": {
     "duration": 0.083998,
     "end_time": "2021-08-31T12:11:35.853186",
     "exception": false,
     "start_time": "2021-08-31T12:11:35.769188",
     "status": "completed"
    },
    "tags": []
   },
   "outputs": [
    {
     "data": {
      "text/html": [
       "<div>\n",
       "<style scoped>\n",
       "    .dataframe tbody tr th:only-of-type {\n",
       "        vertical-align: middle;\n",
       "    }\n",
       "\n",
       "    .dataframe tbody tr th {\n",
       "        vertical-align: top;\n",
       "    }\n",
       "\n",
       "    .dataframe thead th {\n",
       "        text-align: right;\n",
       "    }\n",
       "</style>\n",
       "<table border=\"1\" class=\"dataframe\">\n",
       "  <thead>\n",
       "    <tr style=\"text-align: right;\">\n",
       "      <th></th>\n",
       "      <th>Country/Region</th>\n",
       "      <th>Cases</th>\n",
       "      <th>Deaths</th>\n",
       "      <th>PCases</th>\n",
       "      <th>PDeaths</th>\n",
       "      <th>Cases (+)</th>\n",
       "      <th>Deaths (+)</th>\n",
       "      <th>Fatality Rate</th>\n",
       "      <th>Continent</th>\n",
       "    </tr>\n",
       "  </thead>\n",
       "  <tbody>\n",
       "    <tr>\n",
       "      <th>0</th>\n",
       "      <td>US</td>\n",
       "      <td>39057368</td>\n",
       "      <td>638711</td>\n",
       "      <td>38798836</td>\n",
       "      <td>637539</td>\n",
       "      <td>258532</td>\n",
       "      <td>1172</td>\n",
       "      <td>1.64</td>\n",
       "      <td>North America</td>\n",
       "    </tr>\n",
       "    <tr>\n",
       "      <th>1</th>\n",
       "      <td>India</td>\n",
       "      <td>32768880</td>\n",
       "      <td>438560</td>\n",
       "      <td>32737939</td>\n",
       "      <td>438210</td>\n",
       "      <td>30941</td>\n",
       "      <td>350</td>\n",
       "      <td>1.34</td>\n",
       "      <td>Asia</td>\n",
       "    </tr>\n",
       "    <tr>\n",
       "      <th>2</th>\n",
       "      <td>Brazil</td>\n",
       "      <td>20752281</td>\n",
       "      <td>579574</td>\n",
       "      <td>20741815</td>\n",
       "      <td>579308</td>\n",
       "      <td>10466</td>\n",
       "      <td>266</td>\n",
       "      <td>2.79</td>\n",
       "      <td>South America</td>\n",
       "    </tr>\n",
       "    <tr>\n",
       "      <th>3</th>\n",
       "      <td>France</td>\n",
       "      <td>6834834</td>\n",
       "      <td>114620</td>\n",
       "      <td>6827146</td>\n",
       "      <td>114506</td>\n",
       "      <td>7688</td>\n",
       "      <td>114</td>\n",
       "      <td>1.68</td>\n",
       "      <td>Europe</td>\n",
       "    </tr>\n",
       "    <tr>\n",
       "      <th>4</th>\n",
       "      <td>Russia</td>\n",
       "      <td>6803323</td>\n",
       "      <td>179233</td>\n",
       "      <td>6785465</td>\n",
       "      <td>178457</td>\n",
       "      <td>17858</td>\n",
       "      <td>776</td>\n",
       "      <td>2.63</td>\n",
       "      <td>Europe</td>\n",
       "    </tr>\n",
       "  </tbody>\n",
       "</table>\n",
       "</div>"
      ],
      "text/plain": [
       "  Country/Region     Cases  Deaths    PCases  PDeaths  Cases (+)  Deaths (+)  \\\n",
       "0             US  39057368  638711  38798836   637539     258532        1172   \n",
       "1          India  32768880  438560  32737939   438210      30941         350   \n",
       "2         Brazil  20752281  579574  20741815   579308      10466         266   \n",
       "3         France   6834834  114620   6827146   114506       7688         114   \n",
       "4         Russia   6803323  179233   6785465   178457      17858         776   \n",
       "\n",
       "   Fatality Rate      Continent  \n",
       "0           1.64  North America  \n",
       "1           1.34           Asia  \n",
       "2           2.79  South America  \n",
       "3           1.68         Europe  \n",
       "4           2.63         Europe  "
      ]
     },
     "execution_count": 13,
     "metadata": {},
     "output_type": "execute_result"
    }
   ],
   "source": [
    "#hide\n",
    "for c in 'Cases, Deaths'.split(', '):\n",
    "    df_table[f'{c} (+)'] = (df_table[c] - df_table[f'P{c}']).clip(0)\n",
    "    #Clip ça veut dire, les chiffres negatif sont interdit\n",
    "df_table['Fatality Rate'] = (100* df_table['Deaths']/ df_table['Cases']).round(2)\n",
    "df_table['Continent'] = df_table['Country/Region'].map(mapping['map.continent'])\n",
    "df_table.head(5)"
   ]
  },
  {
   "cell_type": "code",
   "execution_count": 14,
   "id": "aboriginal-bulgaria",
   "metadata": {
    "execution": {
     "iopub.execute_input": "2021-08-31T12:11:35.942095Z",
     "iopub.status.busy": "2021-08-31T12:11:35.941397Z",
     "iopub.status.idle": "2021-08-31T12:11:35.943570Z",
     "shell.execute_reply": "2021-08-31T12:11:35.944218Z"
    },
    "papermill": {
     "duration": 0.051418,
     "end_time": "2021-08-31T12:11:35.944384",
     "exception": false,
     "start_time": "2021-08-31T12:11:35.892966",
     "status": "completed"
    },
    "tags": []
   },
   "outputs": [],
   "source": [
    "#hide\n",
    "#delete problematic countries from table\n",
    "df_table = df_table[~df_table['Country/Region'].isin(['Cape Verde', 'Cruise Ship', 'Kosovo'])]"
   ]
  },
  {
   "cell_type": "code",
   "execution_count": 15,
   "id": "fantastic-effect",
   "metadata": {
    "execution": {
     "iopub.execute_input": "2021-08-31T12:11:36.041891Z",
     "iopub.status.busy": "2021-08-31T12:11:36.041189Z",
     "iopub.status.idle": "2021-08-31T12:11:36.064308Z",
     "shell.execute_reply": "2021-08-31T12:11:36.063724Z"
    },
    "papermill": {
     "duration": 0.075966,
     "end_time": "2021-08-31T12:11:36.064457",
     "exception": false,
     "start_time": "2021-08-31T12:11:35.988491",
     "status": "completed"
    },
    "tags": []
   },
   "outputs": [
    {
     "data": {
      "text/html": [
       "<div>\n",
       "<style scoped>\n",
       "    .dataframe tbody tr th:only-of-type {\n",
       "        vertical-align: middle;\n",
       "    }\n",
       "\n",
       "    .dataframe tbody tr th {\n",
       "        vertical-align: top;\n",
       "    }\n",
       "\n",
       "    .dataframe thead th {\n",
       "        text-align: right;\n",
       "    }\n",
       "</style>\n",
       "<table border=\"1\" class=\"dataframe\">\n",
       "  <thead>\n",
       "    <tr style=\"text-align: right;\">\n",
       "      <th></th>\n",
       "      <th>Country/Region</th>\n",
       "      <th>Cases</th>\n",
       "      <th>Deaths</th>\n",
       "      <th>PCases</th>\n",
       "      <th>PDeaths</th>\n",
       "      <th>Cases (+)</th>\n",
       "      <th>Deaths (+)</th>\n",
       "      <th>Fatality Rate</th>\n",
       "      <th>Continent</th>\n",
       "    </tr>\n",
       "  </thead>\n",
       "  <tbody>\n",
       "    <tr>\n",
       "      <th>0</th>\n",
       "      <td>US</td>\n",
       "      <td>39057368</td>\n",
       "      <td>638711</td>\n",
       "      <td>38798836</td>\n",
       "      <td>637539</td>\n",
       "      <td>258532</td>\n",
       "      <td>1172</td>\n",
       "      <td>1.6</td>\n",
       "      <td>North America</td>\n",
       "    </tr>\n",
       "    <tr>\n",
       "      <th>1</th>\n",
       "      <td>India</td>\n",
       "      <td>32768880</td>\n",
       "      <td>438560</td>\n",
       "      <td>32737939</td>\n",
       "      <td>438210</td>\n",
       "      <td>30941</td>\n",
       "      <td>350</td>\n",
       "      <td>1.3</td>\n",
       "      <td>Asia</td>\n",
       "    </tr>\n",
       "    <tr>\n",
       "      <th>2</th>\n",
       "      <td>Brazil</td>\n",
       "      <td>20752281</td>\n",
       "      <td>579574</td>\n",
       "      <td>20741815</td>\n",
       "      <td>579308</td>\n",
       "      <td>10466</td>\n",
       "      <td>266</td>\n",
       "      <td>2.8</td>\n",
       "      <td>South America</td>\n",
       "    </tr>\n",
       "    <tr>\n",
       "      <th>3</th>\n",
       "      <td>France</td>\n",
       "      <td>6834834</td>\n",
       "      <td>114620</td>\n",
       "      <td>6827146</td>\n",
       "      <td>114506</td>\n",
       "      <td>7688</td>\n",
       "      <td>114</td>\n",
       "      <td>1.7</td>\n",
       "      <td>Europe</td>\n",
       "    </tr>\n",
       "    <tr>\n",
       "      <th>4</th>\n",
       "      <td>Russia</td>\n",
       "      <td>6803323</td>\n",
       "      <td>179233</td>\n",
       "      <td>6785465</td>\n",
       "      <td>178457</td>\n",
       "      <td>17858</td>\n",
       "      <td>776</td>\n",
       "      <td>2.6</td>\n",
       "      <td>Europe</td>\n",
       "    </tr>\n",
       "  </tbody>\n",
       "</table>\n",
       "</div>"
      ],
      "text/plain": [
       "  Country/Region     Cases  Deaths    PCases  PDeaths  Cases (+)  Deaths (+)  \\\n",
       "0             US  39057368  638711  38798836   637539     258532        1172   \n",
       "1          India  32768880  438560  32737939   438210      30941         350   \n",
       "2         Brazil  20752281  579574  20741815   579308      10466         266   \n",
       "3         France   6834834  114620   6827146   114506       7688         114   \n",
       "4         Russia   6803323  179233   6785465   178457      17858         776   \n",
       "\n",
       "   Fatality Rate      Continent  \n",
       "0            1.6  North America  \n",
       "1            1.3           Asia  \n",
       "2            2.8  South America  \n",
       "3            1.7         Europe  \n",
       "4            2.6         Europe  "
      ]
     },
     "execution_count": 15,
     "metadata": {},
     "output_type": "execute_result"
    }
   ],
   "source": [
    "#hide\n",
    "df_table = (pd.DataFrame(dict(Cases=dfc_cases, Deaths=dfc_deaths, PCases=dfp_cases, PDeaths=dfp_deaths))\n",
    "             .sort_values(by=['Cases', 'Deaths'], ascending=[False, False])\n",
    "             .reset_index())\n",
    "df_table.rename(columns={'index': 'Country/Region'}, inplace=True)\n",
    "for c in 'Cases, Deaths'.split(', '):\n",
    "    df_table[f'{c} (+)'] = (df_table[c] - df_table[f'P{c}']).clip(0)  # DATA BUG\n",
    "df_table['Fatality Rate'] = (100 * df_table['Deaths'] / df_table['Cases']).round(1)\n",
    "df_table['Continent'] = df_table['Country/Region'].map(mapping['map.continent'])\n",
    "df_table.head(5)"
   ]
  },
  {
   "cell_type": "code",
   "execution_count": 16,
   "id": "fewer-occasion",
   "metadata": {
    "execution": {
     "iopub.execute_input": "2021-08-31T12:11:36.158260Z",
     "iopub.status.busy": "2021-08-31T12:11:36.157566Z",
     "iopub.status.idle": "2021-08-31T12:11:36.164946Z",
     "shell.execute_reply": "2021-08-31T12:11:36.163396Z"
    },
    "papermill": {
     "duration": 0.059252,
     "end_time": "2021-08-31T12:11:36.165117",
     "exception": false,
     "start_time": "2021-08-31T12:11:36.105865",
     "status": "completed"
    },
    "tags": []
   },
   "outputs": [],
   "source": [
    "#hide\n",
    "#delete problematic countries from table\n",
    "df_table = df_table[~df_table['Country/Region'].isin(['Cape Verde', 'Cruise Ship', 'Kosovo'])]"
   ]
  },
  {
   "cell_type": "code",
   "execution_count": 17,
   "id": "related-center",
   "metadata": {
    "execution": {
     "iopub.execute_input": "2021-08-31T12:11:36.272372Z",
     "iopub.status.busy": "2021-08-31T12:11:36.270122Z",
     "iopub.status.idle": "2021-08-31T12:11:36.285828Z",
     "shell.execute_reply": "2021-08-31T12:11:36.286555Z"
    },
    "papermill": {
     "duration": 0.077002,
     "end_time": "2021-08-31T12:11:36.286778",
     "exception": false,
     "start_time": "2021-08-31T12:11:36.209776",
     "status": "completed"
    },
    "tags": []
   },
   "outputs": [],
   "source": [
    "#hide\n",
    "metrics = [df_table.columns[index] for index in [1,2,5,6]]\n",
    "# s_china = df_table[df_table['Country/Region'].eq('China')][metrics].sum().add_prefix('China ')\n",
    "s_us = df_table[df_table['Country/Region'].eq('US')][metrics].sum().add_prefix('US ')\n",
    "s_eu = df_table[df_table['Continent'].eq('Europe')][metrics].sum().add_prefix('EU ')\n",
    "s_ind = df_table[df_table['Country/Region'].eq('India')][metrics].sum().add_prefix('India ')\n",
    "summary = {'updated': pd.to_datetime(dt_today), 'since': pd.to_datetime(dt_yday)}\n",
    "summary = {'updated': pd.to_datetime(dt_today), 'since': pd.to_datetime(dt_yday)}\n",
    "summary = {**summary, **df_table[metrics].sum(), **s_ind, **s_us, **s_eu}"
   ]
  },
  {
   "cell_type": "code",
   "execution_count": 18,
   "id": "engaging-syndrome",
   "metadata": {
    "execution": {
     "iopub.execute_input": "2021-08-31T12:11:36.392716Z",
     "iopub.status.busy": "2021-08-31T12:11:36.392047Z",
     "iopub.status.idle": "2021-08-31T12:11:36.407652Z",
     "shell.execute_reply": "2021-08-31T12:11:36.408183Z"
    },
    "papermill": {
     "duration": 0.06621,
     "end_time": "2021-08-31T12:11:36.408365",
     "exception": false,
     "start_time": "2021-08-31T12:11:36.342155",
     "status": "completed"
    },
    "tags": []
   },
   "outputs": [],
   "source": [
    "#hide\n",
    "dft_ct_new_cases = dft_cases.groupby(COL_REGION)[dt_cols].sum().diff(axis=1).fillna(0).astype(int)"
   ]
  },
  {
   "cell_type": "code",
   "execution_count": 19,
   "id": "neutral-assignment",
   "metadata": {
    "execution": {
     "iopub.execute_input": "2021-08-31T12:11:36.501750Z",
     "iopub.status.busy": "2021-08-31T12:11:36.501041Z",
     "iopub.status.idle": "2021-08-31T12:11:36.503102Z",
     "shell.execute_reply": "2021-08-31T12:11:36.503739Z"
    },
    "papermill": {
     "duration": 0.053273,
     "end_time": "2021-08-31T12:11:36.503913",
     "exception": false,
     "start_time": "2021-08-31T12:11:36.450640",
     "status": "completed"
    },
    "tags": []
   },
   "outputs": [],
   "source": [
    "#hide\n",
    "everydaycases = dft_ct_new_cases.cumsum(axis=1)"
   ]
  },
  {
   "cell_type": "code",
   "execution_count": 20,
   "id": "parliamentary-calgary",
   "metadata": {
    "execution": {
     "iopub.execute_input": "2021-08-31T12:11:36.619163Z",
     "iopub.status.busy": "2021-08-31T12:11:36.618453Z",
     "iopub.status.idle": "2021-08-31T12:11:37.363041Z",
     "shell.execute_reply": "2021-08-31T12:11:37.362448Z"
    },
    "papermill": {
     "duration": 0.818925,
     "end_time": "2021-08-31T12:11:37.363199",
     "exception": false,
     "start_time": "2021-08-31T12:11:36.544274",
     "status": "completed"
    },
    "tags": []
   },
   "outputs": [],
   "source": [
    "#hide\n",
    "import pandas as pd\n",
    "import matplotlib.pyplot as plt\n",
    "import matplotlib.ticker as ticker\n",
    "import matplotlib.animation as animation\n",
    "from IPython.display import HTML"
   ]
  },
  {
   "cell_type": "code",
   "execution_count": 21,
   "id": "lasting-extraction",
   "metadata": {
    "execution": {
     "iopub.execute_input": "2021-08-31T12:11:37.456098Z",
     "iopub.status.busy": "2021-08-31T12:11:37.455402Z",
     "iopub.status.idle": "2021-08-31T12:11:37.461905Z",
     "shell.execute_reply": "2021-08-31T12:11:37.462989Z"
    },
    "papermill": {
     "duration": 0.054461,
     "end_time": "2021-08-31T12:11:37.463173",
     "exception": false,
     "start_time": "2021-08-31T12:11:37.408712",
     "status": "completed"
    },
    "tags": []
   },
   "outputs": [],
   "source": [
    "#hide\n",
    "t = everydaycases.stack()"
   ]
  },
  {
   "cell_type": "code",
   "execution_count": 22,
   "id": "premier-sleeve",
   "metadata": {
    "execution": {
     "iopub.execute_input": "2021-08-31T12:11:37.553310Z",
     "iopub.status.busy": "2021-08-31T12:11:37.552581Z",
     "iopub.status.idle": "2021-08-31T12:11:37.563263Z",
     "shell.execute_reply": "2021-08-31T12:11:37.562661Z"
    },
    "papermill": {
     "duration": 0.05791,
     "end_time": "2021-08-31T12:11:37.563423",
     "exception": false,
     "start_time": "2021-08-31T12:11:37.505513",
     "status": "completed"
    },
    "tags": []
   },
   "outputs": [],
   "source": [
    "#hide\n",
    "g = t.reset_index(['Country/Region'])"
   ]
  },
  {
   "cell_type": "code",
   "execution_count": 23,
   "id": "distributed-pittsburgh",
   "metadata": {
    "execution": {
     "iopub.execute_input": "2021-08-31T12:11:37.667244Z",
     "iopub.status.busy": "2021-08-31T12:11:37.666553Z",
     "iopub.status.idle": "2021-08-31T12:11:37.668220Z",
     "shell.execute_reply": "2021-08-31T12:11:37.668760Z"
    },
    "papermill": {
     "duration": 0.061734,
     "end_time": "2021-08-31T12:11:37.668931",
     "exception": false,
     "start_time": "2021-08-31T12:11:37.607197",
     "status": "completed"
    },
    "tags": []
   },
   "outputs": [],
   "source": [
    "#hide\n",
    "g.index.name = 'date'"
   ]
  },
  {
   "cell_type": "code",
   "execution_count": 24,
   "id": "naked-donor",
   "metadata": {
    "execution": {
     "iopub.execute_input": "2021-08-31T12:11:37.768030Z",
     "iopub.status.busy": "2021-08-31T12:11:37.767338Z",
     "iopub.status.idle": "2021-08-31T12:11:37.769338Z",
     "shell.execute_reply": "2021-08-31T12:11:37.769853Z"
    },
    "papermill": {
     "duration": 0.060401,
     "end_time": "2021-08-31T12:11:37.770019",
     "exception": false,
     "start_time": "2021-08-31T12:11:37.709618",
     "status": "completed"
    },
    "tags": []
   },
   "outputs": [],
   "source": [
    "# #hide\n",
    "# g = g.reset_index(['date'])"
   ]
  },
  {
   "cell_type": "code",
   "execution_count": 25,
   "id": "incomplete-mustang",
   "metadata": {
    "execution": {
     "iopub.execute_input": "2021-08-31T12:11:37.861245Z",
     "iopub.status.busy": "2021-08-31T12:11:37.860561Z",
     "iopub.status.idle": "2021-08-31T12:11:37.863680Z",
     "shell.execute_reply": "2021-08-31T12:11:37.864541Z"
    },
    "papermill": {
     "duration": 0.051129,
     "end_time": "2021-08-31T12:11:37.864722",
     "exception": false,
     "start_time": "2021-08-31T12:11:37.813593",
     "status": "completed"
    },
    "tags": []
   },
   "outputs": [],
   "source": [
    "#hide\n",
    "# g.head()"
   ]
  },
  {
   "cell_type": "code",
   "execution_count": 26,
   "id": "specific-kruger",
   "metadata": {
    "execution": {
     "iopub.execute_input": "2021-08-31T12:11:37.951512Z",
     "iopub.status.busy": "2021-08-31T12:11:37.950826Z",
     "iopub.status.idle": "2021-08-31T12:11:37.953353Z",
     "shell.execute_reply": "2021-08-31T12:11:37.952681Z"
    },
    "papermill": {
     "duration": 0.048757,
     "end_time": "2021-08-31T12:11:37.953497",
     "exception": false,
     "start_time": "2021-08-31T12:11:37.904740",
     "status": "completed"
    },
    "tags": []
   },
   "outputs": [],
   "source": [
    "#hide\n",
    "# g.columns = ['date','country','cases']"
   ]
  },
  {
   "cell_type": "code",
   "execution_count": 27,
   "id": "tender-conversion",
   "metadata": {
    "execution": {
     "iopub.execute_input": "2021-08-31T12:11:38.057067Z",
     "iopub.status.busy": "2021-08-31T12:11:38.054251Z",
     "iopub.status.idle": "2021-08-31T12:11:38.058287Z",
     "shell.execute_reply": "2021-08-31T12:11:38.057729Z"
    },
    "papermill": {
     "duration": 0.063023,
     "end_time": "2021-08-31T12:11:38.058469",
     "exception": false,
     "start_time": "2021-08-31T12:11:37.995446",
     "status": "completed"
    },
    "tags": []
   },
   "outputs": [],
   "source": [
    "#hide\n",
    "# g['continent'] = g.country"
   ]
  },
  {
   "cell_type": "code",
   "execution_count": 28,
   "id": "substantial-wilderness",
   "metadata": {
    "execution": {
     "iopub.execute_input": "2021-08-31T12:11:38.164086Z",
     "iopub.status.busy": "2021-08-31T12:11:38.163408Z",
     "iopub.status.idle": "2021-08-31T12:11:38.166465Z",
     "shell.execute_reply": "2021-08-31T12:11:38.165858Z"
    },
    "papermill": {
     "duration": 0.054042,
     "end_time": "2021-08-31T12:11:38.166786",
     "exception": false,
     "start_time": "2021-08-31T12:11:38.112744",
     "status": "completed"
    },
    "tags": []
   },
   "outputs": [],
   "source": [
    "#hide\n",
    "# cols = list(g.columns.values)"
   ]
  },
  {
   "cell_type": "code",
   "execution_count": 29,
   "id": "solved-farming",
   "metadata": {
    "execution": {
     "iopub.execute_input": "2021-08-31T12:11:38.272065Z",
     "iopub.status.busy": "2021-08-31T12:11:38.271390Z",
     "iopub.status.idle": "2021-08-31T12:11:38.273831Z",
     "shell.execute_reply": "2021-08-31T12:11:38.273169Z"
    },
    "papermill": {
     "duration": 0.048023,
     "end_time": "2021-08-31T12:11:38.273974",
     "exception": false,
     "start_time": "2021-08-31T12:11:38.225951",
     "status": "completed"
    },
    "tags": []
   },
   "outputs": [],
   "source": [
    "#hide\n",
    "# cols.insert(0, cols.pop())"
   ]
  },
  {
   "cell_type": "code",
   "execution_count": 30,
   "id": "executed-adoption",
   "metadata": {
    "execution": {
     "iopub.execute_input": "2021-08-31T12:11:38.362315Z",
     "iopub.status.busy": "2021-08-31T12:11:38.361609Z",
     "iopub.status.idle": "2021-08-31T12:11:38.364255Z",
     "shell.execute_reply": "2021-08-31T12:11:38.363675Z"
    },
    "papermill": {
     "duration": 0.04998,
     "end_time": "2021-08-31T12:11:38.364406",
     "exception": false,
     "start_time": "2021-08-31T12:11:38.314426",
     "status": "completed"
    },
    "tags": []
   },
   "outputs": [],
   "source": [
    "#hide\n",
    "# g = g[cols]"
   ]
  },
  {
   "cell_type": "code",
   "execution_count": 31,
   "id": "subject-dublin",
   "metadata": {
    "execution": {
     "iopub.execute_input": "2021-08-31T12:11:38.468234Z",
     "iopub.status.busy": "2021-08-31T12:11:38.466959Z",
     "iopub.status.idle": "2021-08-31T12:11:38.470135Z",
     "shell.execute_reply": "2021-08-31T12:11:38.469580Z"
    },
    "papermill": {
     "duration": 0.057931,
     "end_time": "2021-08-31T12:11:38.470289",
     "exception": false,
     "start_time": "2021-08-31T12:11:38.412358",
     "status": "completed"
    },
    "tags": []
   },
   "outputs": [],
   "source": [
    "#hide\n",
    "# g['continent'] = g['continent'].map(mapping['map.continent'])"
   ]
  },
  {
   "cell_type": "code",
   "execution_count": 32,
   "id": "freelance-scout",
   "metadata": {
    "execution": {
     "iopub.execute_input": "2021-08-31T12:11:38.559989Z",
     "iopub.status.busy": "2021-08-31T12:11:38.559279Z",
     "iopub.status.idle": "2021-08-31T12:11:38.563116Z",
     "shell.execute_reply": "2021-08-31T12:11:38.563745Z"
    },
    "papermill": {
     "duration": 0.052733,
     "end_time": "2021-08-31T12:11:38.563924",
     "exception": false,
     "start_time": "2021-08-31T12:11:38.511191",
     "status": "completed"
    },
    "tags": []
   },
   "outputs": [],
   "source": [
    "#hide\n",
    "# g.head()"
   ]
  },
  {
   "cell_type": "code",
   "execution_count": 33,
   "id": "limited-engine",
   "metadata": {
    "execution": {
     "iopub.execute_input": "2021-08-31T12:11:38.654041Z",
     "iopub.status.busy": "2021-08-31T12:11:38.653350Z",
     "iopub.status.idle": "2021-08-31T12:11:38.656125Z",
     "shell.execute_reply": "2021-08-31T12:11:38.655452Z"
    },
    "papermill": {
     "duration": 0.050874,
     "end_time": "2021-08-31T12:11:38.656273",
     "exception": false,
     "start_time": "2021-08-31T12:11:38.605399",
     "status": "completed"
    },
    "tags": []
   },
   "outputs": [],
   "source": [
    "# hide\n",
    "# g['date'] = g['date'].astype('datetime64[ns]')"
   ]
  },
  {
   "cell_type": "code",
   "execution_count": 34,
   "id": "sophisticated-supervisor",
   "metadata": {
    "execution": {
     "iopub.execute_input": "2021-08-31T12:11:38.744929Z",
     "iopub.status.busy": "2021-08-31T12:11:38.742159Z",
     "iopub.status.idle": "2021-08-31T12:11:38.746034Z",
     "shell.execute_reply": "2021-08-31T12:11:38.747552Z"
    },
    "papermill": {
     "duration": 0.050051,
     "end_time": "2021-08-31T12:11:38.747737",
     "exception": false,
     "start_time": "2021-08-31T12:11:38.697686",
     "status": "completed"
    },
    "tags": []
   },
   "outputs": [],
   "source": [
    "#hide\n",
    "# g['date'] = g.date.dt.dayofyear"
   ]
  },
  {
   "cell_type": "code",
   "execution_count": 35,
   "id": "inside-dubai",
   "metadata": {
    "execution": {
     "iopub.execute_input": "2021-08-31T12:11:38.835711Z",
     "iopub.status.busy": "2021-08-31T12:11:38.835028Z",
     "iopub.status.idle": "2021-08-31T12:11:38.837904Z",
     "shell.execute_reply": "2021-08-31T12:11:38.836876Z"
    },
    "papermill": {
     "duration": 0.048418,
     "end_time": "2021-08-31T12:11:38.838052",
     "exception": false,
     "start_time": "2021-08-31T12:11:38.789634",
     "status": "completed"
    },
    "tags": []
   },
   "outputs": [],
   "source": [
    "#hide\n",
    "# g = g.rename(columns= {'continent':'group','country':'name','cases':'value'})"
   ]
  },
  {
   "cell_type": "code",
   "execution_count": 36,
   "id": "fleet-motorcycle",
   "metadata": {
    "execution": {
     "iopub.execute_input": "2021-08-31T12:11:38.926145Z",
     "iopub.status.busy": "2021-08-31T12:11:38.925436Z",
     "iopub.status.idle": "2021-08-31T12:11:38.926907Z",
     "shell.execute_reply": "2021-08-31T12:11:38.927455Z"
    },
    "papermill": {
     "duration": 0.049057,
     "end_time": "2021-08-31T12:11:38.927631",
     "exception": false,
     "start_time": "2021-08-31T12:11:38.878574",
     "status": "completed"
    },
    "tags": []
   },
   "outputs": [],
   "source": [
    "#hide\n",
    "# cols = ['name','group','day','value']"
   ]
  },
  {
   "cell_type": "code",
   "execution_count": 37,
   "id": "continued-sleeping",
   "metadata": {
    "execution": {
     "iopub.execute_input": "2021-08-31T12:11:39.014231Z",
     "iopub.status.busy": "2021-08-31T12:11:39.013543Z",
     "iopub.status.idle": "2021-08-31T12:11:39.016545Z",
     "shell.execute_reply": "2021-08-31T12:11:39.015817Z"
    },
    "papermill": {
     "duration": 0.047377,
     "end_time": "2021-08-31T12:11:39.016699",
     "exception": false,
     "start_time": "2021-08-31T12:11:38.969322",
     "status": "completed"
    },
    "tags": []
   },
   "outputs": [],
   "source": [
    "#hide\n",
    "# g.rename(columns= {'date':'day'},inplace = True)"
   ]
  },
  {
   "cell_type": "code",
   "execution_count": 38,
   "id": "major-fight",
   "metadata": {
    "execution": {
     "iopub.execute_input": "2021-08-31T12:11:39.102469Z",
     "iopub.status.busy": "2021-08-31T12:11:39.101702Z",
     "iopub.status.idle": "2021-08-31T12:11:39.103727Z",
     "shell.execute_reply": "2021-08-31T12:11:39.104312Z"
    },
    "papermill": {
     "duration": 0.049242,
     "end_time": "2021-08-31T12:11:39.104484",
     "exception": false,
     "start_time": "2021-08-31T12:11:39.055242",
     "status": "completed"
    },
    "tags": []
   },
   "outputs": [],
   "source": [
    "#hide\n",
    "# g = g[cols]"
   ]
  },
  {
   "cell_type": "code",
   "execution_count": 39,
   "id": "structured-mobile",
   "metadata": {
    "execution": {
     "iopub.execute_input": "2021-08-31T12:11:39.204509Z",
     "iopub.status.busy": "2021-08-31T12:11:39.203047Z",
     "iopub.status.idle": "2021-08-31T12:11:39.205916Z",
     "shell.execute_reply": "2021-08-31T12:11:39.206551Z"
    },
    "papermill": {
     "duration": 0.052792,
     "end_time": "2021-08-31T12:11:39.206835",
     "exception": false,
     "start_time": "2021-08-31T12:11:39.154043",
     "status": "completed"
    },
    "tags": []
   },
   "outputs": [],
   "source": [
    "# #hide\n",
    "# g = g[g.group.notna()]"
   ]
  },
  {
   "cell_type": "code",
   "execution_count": 40,
   "id": "determined-closing",
   "metadata": {
    "execution": {
     "iopub.execute_input": "2021-08-31T12:11:39.299370Z",
     "iopub.status.busy": "2021-08-31T12:11:39.298689Z",
     "iopub.status.idle": "2021-08-31T12:11:39.300762Z",
     "shell.execute_reply": "2021-08-31T12:11:39.301795Z"
    },
    "papermill": {
     "duration": 0.047669,
     "end_time": "2021-08-31T12:11:39.301964",
     "exception": false,
     "start_time": "2021-08-31T12:11:39.254295",
     "status": "completed"
    },
    "tags": []
   },
   "outputs": [],
   "source": [
    "# #hide\n",
    "# colors = dict(zip(\n",
    "#     [\"Oceania\", \"Europe\", \"Asia\", \"South America\", \"Middle East\", \"North America\", \"Africa\"],\n",
    "#     [\"#adb0ff\", \"#ffb3ff\", \"#90d595\", \"#e48381\", \"#aafbff\", \"#f7bb5f\", \"#eafb50\"]\n",
    "# ))\n",
    "# group_lk = g.set_index('name')['group'].to_dict()"
   ]
  },
  {
   "cell_type": "code",
   "execution_count": null,
   "id": "gross-drinking",
   "metadata": {
    "papermill": {
     "duration": 0.040802,
     "end_time": "2021-08-31T12:11:39.383732",
     "exception": false,
     "start_time": "2021-08-31T12:11:39.342930",
     "status": "completed"
    },
    "tags": []
   },
   "outputs": [],
   "source": []
  },
  {
   "cell_type": "code",
   "execution_count": 41,
   "id": "subject-macintosh",
   "metadata": {
    "execution": {
     "iopub.execute_input": "2021-08-31T12:11:39.474657Z",
     "iopub.status.busy": "2021-08-31T12:11:39.473921Z",
     "iopub.status.idle": "2021-08-31T12:11:39.488683Z",
     "shell.execute_reply": "2021-08-31T12:11:39.488093Z"
    },
    "papermill": {
     "duration": 0.062135,
     "end_time": "2021-08-31T12:11:39.488840",
     "exception": false,
     "start_time": "2021-08-31T12:11:39.426705",
     "status": "completed"
    },
    "tags": []
   },
   "outputs": [],
   "source": [
    "# #hide\n",
    "# fig, ax = plt.subplots(figsize=(15, 8))\n",
    "\n",
    "# def draw_barchart(current_day):\n",
    "#     dff = g[g['day'].eq(current_day)].sort_values(by='value', ascending=True).tail(10)\n",
    "#     ax.clear()\n",
    "#     ax.barh(dff['name'], dff['value'], color=[colors[group_lk[x]] for x in dff['name']])\n",
    "#     dx = dff['value'].max() / 200\n",
    "    \n",
    "#     for i, (value, name) in enumerate(zip(dff['value'], dff['name'])):\n",
    "#         ax.text(value-dx, i,     name,           size=14, weight=600, ha='right', va='bottom')\n",
    "#         ax.text(value-dx, i-.25, group_lk[name], size=10, color='#444444', ha='right', va='baseline')\n",
    "#         ax.text(value+dx, i,     f'{value:,.0f}',  size=14, ha='left',  va='center')\n",
    "#     ax.text(1, 0.4, current_day, transform=ax.transAxes, color='#777777', size=46, ha='right', weight=800)\n",
    "#     ax.text(0, 1.06, 'Population (thousands)', transform=ax.transAxes, size=12, color='#777777')\n",
    "#     ax.xaxis.set_major_formatter(ticker.StrMethodFormatter('{x:,.0f}'))\n",
    "#     ax.xaxis.set_ticks_position('top')\n",
    "#     ax.tick_params(axis='x', colors='#777777', labelsize=12)\n",
    "#     ax.set_yticks([])\n",
    "#     ax.margins(0, 0.01)\n",
    "#     ax.grid(which='major', axis='x', linestyle='-')\n",
    "#     ax.set_axisbelow(True)\n",
    "    \n",
    "#     ax.text(0, 1.15, 'Coronavirus',\n",
    "#             transform=ax.transAxes, size=24, weight=600, ha='left', va='top')\n",
    "# #     ax.text(1, 0, 'by @pratapvardhan; credit @jburnmurdoch', transform=ax.transAxes, color='#777777', ha='right',\n",
    "# #             bbox=dict(facecolor='white', alpha=0.8, edgecolor='white'))\n",
    "#     plt.box(False)"
   ]
  },
  {
   "cell_type": "code",
   "execution_count": 42,
   "id": "sexual-wages",
   "metadata": {
    "execution": {
     "iopub.execute_input": "2021-08-31T12:11:39.576012Z",
     "iopub.status.busy": "2021-08-31T12:11:39.575297Z",
     "iopub.status.idle": "2021-08-31T12:11:39.577729Z",
     "shell.execute_reply": "2021-08-31T12:11:39.577058Z"
    },
    "papermill": {
     "duration": 0.048345,
     "end_time": "2021-08-31T12:11:39.577873",
     "exception": false,
     "start_time": "2021-08-31T12:11:39.529528",
     "status": "completed"
    },
    "tags": []
   },
   "outputs": [],
   "source": [
    "# #hide_input\n",
    "# fig, ax = plt.subplots(figsize=(15, 8))\n",
    "# animator = animation.FuncAnimation(fig, draw_barchart, frames=range(g.day.values.min(), g.day.values.max()))\n",
    "# HTML(animator.to_jshtml())\n",
    "# # or use animator.to_html5_video() or animator.save() "
   ]
  },
  {
   "cell_type": "code",
   "execution_count": null,
   "id": "australian-container",
   "metadata": {
    "papermill": {
     "duration": 0.041641,
     "end_time": "2021-08-31T12:11:39.664393",
     "exception": false,
     "start_time": "2021-08-31T12:11:39.622752",
     "status": "completed"
    },
    "tags": []
   },
   "outputs": [],
   "source": []
  },
  {
   "cell_type": "code",
   "execution_count": null,
   "id": "mediterranean-pontiac",
   "metadata": {
    "papermill": {
     "duration": 0.041453,
     "end_time": "2021-08-31T12:11:39.755066",
     "exception": false,
     "start_time": "2021-08-31T12:11:39.713613",
     "status": "completed"
    },
    "tags": []
   },
   "outputs": [],
   "source": []
  },
  {
   "cell_type": "code",
   "execution_count": null,
   "id": "aging-legislature",
   "metadata": {
    "papermill": {
     "duration": 0.042014,
     "end_time": "2021-08-31T12:11:39.842102",
     "exception": false,
     "start_time": "2021-08-31T12:11:39.800088",
     "status": "completed"
    },
    "tags": []
   },
   "outputs": [],
   "source": []
  }
 ],
 "metadata": {
  "kernelspec": {
   "display_name": "Python 3",
   "language": "python",
   "name": "python3"
  },
  "language_info": {
   "codemirror_mode": {
    "name": "ipython",
    "version": 3
   },
   "file_extension": ".py",
   "mimetype": "text/x-python",
   "name": "python",
   "nbconvert_exporter": "python",
   "pygments_lexer": "ipython3",
   "version": "3.6.14"
  },
  "papermill": {
   "duration": 8.038845,
   "end_time": "2021-08-31T12:11:40.397206",
   "environment_variables": {},
   "exception": null,
   "input_path": "2020-03-21-covid19exp.ipynb",
   "output_path": "2020-03-21-covid19exp.ipynb",
   "parameters": {},
   "start_time": "2021-08-31T12:11:32.358361",
   "version": "2.0.0"
  }
 },
 "nbformat": 4,
 "nbformat_minor": 5
}