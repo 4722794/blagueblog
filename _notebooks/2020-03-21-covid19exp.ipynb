{
 "cells": [
  {
   "cell_type": "markdown",
   "id": "muslim-click",
   "metadata": {
    "papermill": {
     "duration": 0.035686,
     "end_time": "2021-05-29T00:47:32.543126",
     "exception": false,
     "start_time": "2021-05-29T00:47:32.507440",
     "status": "completed"
    },
    "tags": []
   },
   "source": [
    "# COVID-19 Case Race\n",
    "> A race chart to see rising cases around the world\n",
    "\n",
    "- author: Hargun Oberoi\n",
    "- image: images/covid-overview.png\n",
    "- hide: false\n",
    "- badges: false"
   ]
  },
  {
   "cell_type": "code",
   "execution_count": 1,
   "id": "proof-material",
   "metadata": {
    "execution": {
     "iopub.execute_input": "2021-05-29T00:47:32.612138Z",
     "iopub.status.busy": "2021-05-29T00:47:32.606490Z",
     "iopub.status.idle": "2021-05-29T00:47:32.915296Z",
     "shell.execute_reply": "2021-05-29T00:47:32.913917Z"
    },
    "papermill": {
     "duration": 0.345,
     "end_time": "2021-05-29T00:47:32.915529",
     "exception": false,
     "start_time": "2021-05-29T00:47:32.570529",
     "status": "completed"
    },
    "tags": []
   },
   "outputs": [],
   "source": [
    "#hide\n",
    "import numpy as np\n",
    "import pandas as pd\n",
    "from jinja2 import Template\n",
    "from IPython.display import HTML"
   ]
  },
  {
   "cell_type": "code",
   "execution_count": 2,
   "id": "developed-terminology",
   "metadata": {
    "execution": {
     "iopub.execute_input": "2021-05-29T00:47:32.977370Z",
     "iopub.status.busy": "2021-05-29T00:47:32.976859Z",
     "iopub.status.idle": "2021-05-29T00:47:32.979115Z",
     "shell.execute_reply": "2021-05-29T00:47:32.979510Z"
    },
    "papermill": {
     "duration": 0.032966,
     "end_time": "2021-05-29T00:47:32.979606",
     "exception": false,
     "start_time": "2021-05-29T00:47:32.946640",
     "status": "completed"
    },
    "tags": []
   },
   "outputs": [],
   "source": [
    "#hide\n",
    "\n",
    "# FETCH\n",
    "base_url = 'https://raw.githubusercontent.com/pratapvardhan/notebooks/master/covid19/'\n",
    "paths = {\n",
    "    'mapping': base_url + 'mapping_countries.csv',\n",
    "    'overview': base_url + 'overview.tpl'\n",
    "}"
   ]
  },
  {
   "cell_type": "code",
   "execution_count": 3,
   "id": "dynamic-saver",
   "metadata": {
    "execution": {
     "iopub.execute_input": "2021-05-29T00:47:33.039368Z",
     "iopub.status.busy": "2021-05-29T00:47:33.038957Z",
     "iopub.status.idle": "2021-05-29T00:47:33.042341Z",
     "shell.execute_reply": "2021-05-29T00:47:33.042735Z"
    },
    "papermill": {
     "duration": 0.03782,
     "end_time": "2021-05-29T00:47:33.042826",
     "exception": false,
     "start_time": "2021-05-29T00:47:33.005006",
     "status": "completed"
    },
    "tags": []
   },
   "outputs": [
    {
     "data": {
      "text/plain": [
       "'https://raw.githubusercontent.com/pratapvardhan/notebooks/master/covid19/mapping_countries.csv'"
      ]
     },
     "execution_count": 3,
     "metadata": {},
     "output_type": "execute_result"
    }
   ],
   "source": [
    "#hide\n",
    "paths['mapping']"
   ]
  },
  {
   "cell_type": "code",
   "execution_count": 4,
   "id": "urban-software",
   "metadata": {
    "execution": {
     "iopub.execute_input": "2021-05-29T00:47:33.103835Z",
     "iopub.status.busy": "2021-05-29T00:47:33.103301Z",
     "iopub.status.idle": "2021-05-29T00:47:33.105481Z",
     "shell.execute_reply": "2021-05-29T00:47:33.105883Z"
    },
    "papermill": {
     "duration": 0.036076,
     "end_time": "2021-05-29T00:47:33.105988",
     "exception": false,
     "start_time": "2021-05-29T00:47:33.069912",
     "status": "completed"
    },
    "tags": []
   },
   "outputs": [],
   "source": [
    "#hide\n",
    "def get_mappings(url):\n",
    "    df = pd.read_csv(url)\n",
    "    return {\n",
    "        'df': df,\n",
    "        'replace.country': dict(df.dropna(subset=['Name']).set_index('Country')['Name']),\n",
    "        'map.continent': dict(df.set_index('Name')['Continent'])\n",
    "    }"
   ]
  },
  {
   "cell_type": "code",
   "execution_count": 5,
   "id": "intimate-machinery",
   "metadata": {
    "execution": {
     "iopub.execute_input": "2021-05-29T00:47:33.167171Z",
     "iopub.status.busy": "2021-05-29T00:47:33.166637Z",
     "iopub.status.idle": "2021-05-29T00:47:33.192368Z",
     "shell.execute_reply": "2021-05-29T00:47:33.191985Z"
    },
    "papermill": {
     "duration": 0.058469,
     "end_time": "2021-05-29T00:47:33.192463",
     "exception": false,
     "start_time": "2021-05-29T00:47:33.133994",
     "status": "completed"
    },
    "tags": []
   },
   "outputs": [],
   "source": [
    "#hide\n",
    "mapping = get_mappings(paths['mapping'])"
   ]
  },
  {
   "cell_type": "code",
   "execution_count": 6,
   "id": "certified-tactics",
   "metadata": {
    "execution": {
     "iopub.execute_input": "2021-05-29T00:47:33.251574Z",
     "iopub.status.busy": "2021-05-29T00:47:33.251165Z",
     "iopub.status.idle": "2021-05-29T00:47:33.253394Z",
     "shell.execute_reply": "2021-05-29T00:47:33.253814Z"
    },
    "papermill": {
     "duration": 0.03548,
     "end_time": "2021-05-29T00:47:33.253908",
     "exception": false,
     "start_time": "2021-05-29T00:47:33.218428",
     "status": "completed"
    },
    "tags": []
   },
   "outputs": [],
   "source": [
    "#hide\n",
    "def get_template(path):\n",
    "    from urllib.parse import urlparse\n",
    "    if bool(urlparse(path).netloc):\n",
    "        from urllib.request import urlopen\n",
    "        return urlopen(path).read().decode('utf8')\n",
    "    return open(path).read()"
   ]
  },
  {
   "cell_type": "code",
   "execution_count": 7,
   "id": "realistic-blast",
   "metadata": {
    "execution": {
     "iopub.execute_input": "2021-05-29T00:47:33.312900Z",
     "iopub.status.busy": "2021-05-29T00:47:33.312489Z",
     "iopub.status.idle": "2021-05-29T00:47:33.314610Z",
     "shell.execute_reply": "2021-05-29T00:47:33.315000Z"
    },
    "papermill": {
     "duration": 0.033482,
     "end_time": "2021-05-29T00:47:33.315092",
     "exception": false,
     "start_time": "2021-05-29T00:47:33.281610",
     "status": "completed"
    },
    "tags": []
   },
   "outputs": [],
   "source": [
    "#hide\n",
    "def get_frame(name):\n",
    "    url = (\n",
    "        'https://raw.githubusercontent.com/CSSEGISandData/COVID-19/master/csse_covid_19_data/'\n",
    "        f'csse_covid_19_time_series/time_series_covid19_{name}_global.csv')\n",
    "    df = pd.read_csv(url)\n",
    "    # rename countries\n",
    "    df['Country/Region'] = df['Country/Region'].replace(mapping['replace.country'])\n",
    "    return df"
   ]
  },
  {
   "cell_type": "code",
   "execution_count": 8,
   "id": "affiliated-characterization",
   "metadata": {
    "execution": {
     "iopub.execute_input": "2021-05-29T00:47:33.372349Z",
     "iopub.status.busy": "2021-05-29T00:47:33.371942Z",
     "iopub.status.idle": "2021-05-29T00:47:33.373989Z",
     "shell.execute_reply": "2021-05-29T00:47:33.373620Z"
    },
    "papermill": {
     "duration": 0.032894,
     "end_time": "2021-05-29T00:47:33.374070",
     "exception": false,
     "start_time": "2021-05-29T00:47:33.341176",
     "status": "completed"
    },
    "tags": []
   },
   "outputs": [],
   "source": [
    "#hide\n",
    "def get_dates(df):\n",
    "    dt_cols = df.columns[~df.columns.isin(['Province/State', 'Country/Region', 'Lat', 'Long'])]\n",
    "    LAST_DATE_I = -1\n",
    "    # sometimes last column may be empty, then go backwards\n",
    "    for i in range(-1, -len(dt_cols), -1):\n",
    "        if not df[dt_cols[i]].fillna(0).eq(0).all():\n",
    "            LAST_DATE_I = i\n",
    "            break\n",
    "    return LAST_DATE_I, dt_cols"
   ]
  },
  {
   "cell_type": "code",
   "execution_count": 9,
   "id": "recent-optimization",
   "metadata": {
    "execution": {
     "iopub.execute_input": "2021-05-29T00:47:33.431105Z",
     "iopub.status.busy": "2021-05-29T00:47:33.430405Z",
     "iopub.status.idle": "2021-05-29T00:47:33.671780Z",
     "shell.execute_reply": "2021-05-29T00:47:33.670945Z"
    },
    "papermill": {
     "duration": 0.272242,
     "end_time": "2021-05-29T00:47:33.671913",
     "exception": false,
     "start_time": "2021-05-29T00:47:33.399671",
     "status": "completed"
    },
    "tags": []
   },
   "outputs": [],
   "source": [
    "#hide\n",
    "COL_REGION = 'Country/Region'\n",
    "# Confirmed, Recovered, Deaths\n",
    "df = get_frame('confirmed')\n",
    "# dft_: timeseries, dfc_: today country agg\n",
    "dft_cases = df\n",
    "dft_deaths = get_frame('deaths')\n",
    "dft_recovered = get_frame('recovered')\n",
    "LAST_DATE_I, dt_cols = get_dates(df)"
   ]
  },
  {
   "cell_type": "code",
   "execution_count": 10,
   "id": "absolute-copper",
   "metadata": {
    "execution": {
     "iopub.execute_input": "2021-05-29T00:47:33.740622Z",
     "iopub.status.busy": "2021-05-29T00:47:33.740027Z",
     "iopub.status.idle": "2021-05-29T00:47:33.742247Z",
     "shell.execute_reply": "2021-05-29T00:47:33.742614Z"
    },
    "papermill": {
     "duration": 0.033111,
     "end_time": "2021-05-29T00:47:33.742717",
     "exception": false,
     "start_time": "2021-05-29T00:47:33.709606",
     "status": "completed"
    },
    "tags": []
   },
   "outputs": [],
   "source": [
    "#hide\n",
    "LAST_DATE_I, dt_cols = get_dates(df)\n",
    "dt_today =dt_cols[LAST_DATE_I]\n",
    "# dt_5day = dt_cols[LAST_DATE_I - 5]\n",
    "dt_yday = dt_cols[LAST_DATE_I - 1]"
   ]
  },
  {
   "cell_type": "code",
   "execution_count": 11,
   "id": "restricted-sheriff",
   "metadata": {
    "execution": {
     "iopub.execute_input": "2021-05-29T00:47:33.804091Z",
     "iopub.status.busy": "2021-05-29T00:47:33.802500Z",
     "iopub.status.idle": "2021-05-29T00:47:33.808976Z",
     "shell.execute_reply": "2021-05-29T00:47:33.808234Z"
    },
    "papermill": {
     "duration": 0.039859,
     "end_time": "2021-05-29T00:47:33.809061",
     "exception": false,
     "start_time": "2021-05-29T00:47:33.769202",
     "status": "completed"
    },
    "tags": []
   },
   "outputs": [],
   "source": [
    "#hide\n",
    "dfc_cases = dft_cases.groupby(COL_REGION)[dt_today].sum()\n",
    "dfc_deaths = dft_deaths.groupby(COL_REGION)[dt_today].sum()\n",
    "# dfp_cases = dft_cases.groupby(COL_REGION)[dt_5day].sum()\n",
    "# dfp_deaths = dft_deaths.groupby(COL_REGION)[dt_5day].sum()\n",
    "dfp_cases = dft_cases.groupby(COL_REGION)[dt_yday].sum()\n",
    "dfp_deaths = dft_deaths.groupby(COL_REGION)[dt_yday].sum()"
   ]
  },
  {
   "cell_type": "code",
   "execution_count": 12,
   "id": "deluxe-hepatitis",
   "metadata": {
    "execution": {
     "iopub.execute_input": "2021-05-29T00:47:33.866897Z",
     "iopub.status.busy": "2021-05-29T00:47:33.866465Z",
     "iopub.status.idle": "2021-05-29T00:47:33.871983Z",
     "shell.execute_reply": "2021-05-29T00:47:33.871572Z"
    },
    "papermill": {
     "duration": 0.037577,
     "end_time": "2021-05-29T00:47:33.872065",
     "exception": false,
     "start_time": "2021-05-29T00:47:33.834488",
     "status": "completed"
    },
    "tags": []
   },
   "outputs": [],
   "source": [
    "#hide\n",
    "df_table = (pd.DataFrame(dict(Cases = dfc_cases, Deaths = dfc_deaths, PCases = dfp_cases, PDeaths = dfp_deaths))\n",
    "            .sort_values(by = ['Cases','Deaths'], ascending = [False, False])\n",
    "            .reset_index())"
   ]
  },
  {
   "cell_type": "code",
   "execution_count": 13,
   "id": "educational-chancellor",
   "metadata": {
    "execution": {
     "iopub.execute_input": "2021-05-29T00:47:33.942081Z",
     "iopub.status.busy": "2021-05-29T00:47:33.938228Z",
     "iopub.status.idle": "2021-05-29T00:47:33.949024Z",
     "shell.execute_reply": "2021-05-29T00:47:33.948535Z"
    },
    "papermill": {
     "duration": 0.050388,
     "end_time": "2021-05-29T00:47:33.949134",
     "exception": false,
     "start_time": "2021-05-29T00:47:33.898746",
     "status": "completed"
    },
    "tags": []
   },
   "outputs": [
    {
     "data": {
      "text/html": [
       "<div>\n",
       "<style scoped>\n",
       "    .dataframe tbody tr th:only-of-type {\n",
       "        vertical-align: middle;\n",
       "    }\n",
       "\n",
       "    .dataframe tbody tr th {\n",
       "        vertical-align: top;\n",
       "    }\n",
       "\n",
       "    .dataframe thead th {\n",
       "        text-align: right;\n",
       "    }\n",
       "</style>\n",
       "<table border=\"1\" class=\"dataframe\">\n",
       "  <thead>\n",
       "    <tr style=\"text-align: right;\">\n",
       "      <th></th>\n",
       "      <th>Country/Region</th>\n",
       "      <th>Cases</th>\n",
       "      <th>Deaths</th>\n",
       "      <th>PCases</th>\n",
       "      <th>PDeaths</th>\n",
       "      <th>Cases (+)</th>\n",
       "      <th>Deaths (+)</th>\n",
       "      <th>Fatality Rate</th>\n",
       "      <th>Continent</th>\n",
       "    </tr>\n",
       "  </thead>\n",
       "  <tbody>\n",
       "    <tr>\n",
       "      <th>0</th>\n",
       "      <td>US</td>\n",
       "      <td>33217995</td>\n",
       "      <td>593288</td>\n",
       "      <td>33190470</td>\n",
       "      <td>591950</td>\n",
       "      <td>27525</td>\n",
       "      <td>1338</td>\n",
       "      <td>1.79</td>\n",
       "      <td>North America</td>\n",
       "    </tr>\n",
       "    <tr>\n",
       "      <th>1</th>\n",
       "      <td>India</td>\n",
       "      <td>27555457</td>\n",
       "      <td>318895</td>\n",
       "      <td>27369093</td>\n",
       "      <td>315235</td>\n",
       "      <td>186364</td>\n",
       "      <td>3660</td>\n",
       "      <td>1.16</td>\n",
       "      <td>Asia</td>\n",
       "    </tr>\n",
       "    <tr>\n",
       "      <th>2</th>\n",
       "      <td>Brazil</td>\n",
       "      <td>16342162</td>\n",
       "      <td>456674</td>\n",
       "      <td>16274695</td>\n",
       "      <td>454429</td>\n",
       "      <td>67467</td>\n",
       "      <td>2245</td>\n",
       "      <td>2.79</td>\n",
       "      <td>South America</td>\n",
       "    </tr>\n",
       "    <tr>\n",
       "      <th>3</th>\n",
       "      <td>France</td>\n",
       "      <td>5697076</td>\n",
       "      <td>109327</td>\n",
       "      <td>5683143</td>\n",
       "      <td>109185</td>\n",
       "      <td>13933</td>\n",
       "      <td>142</td>\n",
       "      <td>1.92</td>\n",
       "      <td>Europe</td>\n",
       "    </tr>\n",
       "    <tr>\n",
       "      <th>4</th>\n",
       "      <td>Turkey</td>\n",
       "      <td>5220549</td>\n",
       "      <td>46970</td>\n",
       "      <td>5212123</td>\n",
       "      <td>46787</td>\n",
       "      <td>8426</td>\n",
       "      <td>183</td>\n",
       "      <td>0.90</td>\n",
       "      <td>Asia</td>\n",
       "    </tr>\n",
       "  </tbody>\n",
       "</table>\n",
       "</div>"
      ],
      "text/plain": [
       "  Country/Region     Cases  Deaths    PCases  PDeaths  Cases (+)  Deaths (+)  \\\n",
       "0             US  33217995  593288  33190470   591950      27525        1338   \n",
       "1          India  27555457  318895  27369093   315235     186364        3660   \n",
       "2         Brazil  16342162  456674  16274695   454429      67467        2245   \n",
       "3         France   5697076  109327   5683143   109185      13933         142   \n",
       "4         Turkey   5220549   46970   5212123    46787       8426         183   \n",
       "\n",
       "   Fatality Rate      Continent  \n",
       "0           1.79  North America  \n",
       "1           1.16           Asia  \n",
       "2           2.79  South America  \n",
       "3           1.92         Europe  \n",
       "4           0.90           Asia  "
      ]
     },
     "execution_count": 13,
     "metadata": {},
     "output_type": "execute_result"
    }
   ],
   "source": [
    "#hide\n",
    "for c in 'Cases, Deaths'.split(', '):\n",
    "    df_table[f'{c} (+)'] = (df_table[c] - df_table[f'P{c}']).clip(0)\n",
    "    #Clip ça veut dire, les chiffres negatif sont interdit\n",
    "df_table['Fatality Rate'] = (100* df_table['Deaths']/ df_table['Cases']).round(2)\n",
    "df_table['Continent'] = df_table['Country/Region'].map(mapping['map.continent'])\n",
    "df_table.head(5)"
   ]
  },
  {
   "cell_type": "code",
   "execution_count": 14,
   "id": "aboriginal-bulgaria",
   "metadata": {
    "execution": {
     "iopub.execute_input": "2021-05-29T00:47:34.011939Z",
     "iopub.status.busy": "2021-05-29T00:47:34.010956Z",
     "iopub.status.idle": "2021-05-29T00:47:34.012844Z",
     "shell.execute_reply": "2021-05-29T00:47:34.013504Z"
    },
    "papermill": {
     "duration": 0.035155,
     "end_time": "2021-05-29T00:47:34.013720",
     "exception": false,
     "start_time": "2021-05-29T00:47:33.978565",
     "status": "completed"
    },
    "tags": []
   },
   "outputs": [],
   "source": [
    "#hide\n",
    "#delete problematic countries from table\n",
    "df_table = df_table[~df_table['Country/Region'].isin(['Cape Verde', 'Cruise Ship', 'Kosovo'])]"
   ]
  },
  {
   "cell_type": "code",
   "execution_count": 15,
   "id": "fantastic-effect",
   "metadata": {
    "execution": {
     "iopub.execute_input": "2021-05-29T00:47:34.096338Z",
     "iopub.status.busy": "2021-05-29T00:47:34.081818Z",
     "iopub.status.idle": "2021-05-29T00:47:34.098910Z",
     "shell.execute_reply": "2021-05-29T00:47:34.098382Z"
    },
    "papermill": {
     "duration": 0.056587,
     "end_time": "2021-05-29T00:47:34.099030",
     "exception": false,
     "start_time": "2021-05-29T00:47:34.042443",
     "status": "completed"
    },
    "tags": []
   },
   "outputs": [
    {
     "data": {
      "text/html": [
       "<div>\n",
       "<style scoped>\n",
       "    .dataframe tbody tr th:only-of-type {\n",
       "        vertical-align: middle;\n",
       "    }\n",
       "\n",
       "    .dataframe tbody tr th {\n",
       "        vertical-align: top;\n",
       "    }\n",
       "\n",
       "    .dataframe thead th {\n",
       "        text-align: right;\n",
       "    }\n",
       "</style>\n",
       "<table border=\"1\" class=\"dataframe\">\n",
       "  <thead>\n",
       "    <tr style=\"text-align: right;\">\n",
       "      <th></th>\n",
       "      <th>Country/Region</th>\n",
       "      <th>Cases</th>\n",
       "      <th>Deaths</th>\n",
       "      <th>PCases</th>\n",
       "      <th>PDeaths</th>\n",
       "      <th>Cases (+)</th>\n",
       "      <th>Deaths (+)</th>\n",
       "      <th>Fatality Rate</th>\n",
       "      <th>Continent</th>\n",
       "    </tr>\n",
       "  </thead>\n",
       "  <tbody>\n",
       "    <tr>\n",
       "      <th>0</th>\n",
       "      <td>US</td>\n",
       "      <td>33217995</td>\n",
       "      <td>593288</td>\n",
       "      <td>33190470</td>\n",
       "      <td>591950</td>\n",
       "      <td>27525</td>\n",
       "      <td>1338</td>\n",
       "      <td>1.8</td>\n",
       "      <td>North America</td>\n",
       "    </tr>\n",
       "    <tr>\n",
       "      <th>1</th>\n",
       "      <td>India</td>\n",
       "      <td>27555457</td>\n",
       "      <td>318895</td>\n",
       "      <td>27369093</td>\n",
       "      <td>315235</td>\n",
       "      <td>186364</td>\n",
       "      <td>3660</td>\n",
       "      <td>1.2</td>\n",
       "      <td>Asia</td>\n",
       "    </tr>\n",
       "    <tr>\n",
       "      <th>2</th>\n",
       "      <td>Brazil</td>\n",
       "      <td>16342162</td>\n",
       "      <td>456674</td>\n",
       "      <td>16274695</td>\n",
       "      <td>454429</td>\n",
       "      <td>67467</td>\n",
       "      <td>2245</td>\n",
       "      <td>2.8</td>\n",
       "      <td>South America</td>\n",
       "    </tr>\n",
       "    <tr>\n",
       "      <th>3</th>\n",
       "      <td>France</td>\n",
       "      <td>5697076</td>\n",
       "      <td>109327</td>\n",
       "      <td>5683143</td>\n",
       "      <td>109185</td>\n",
       "      <td>13933</td>\n",
       "      <td>142</td>\n",
       "      <td>1.9</td>\n",
       "      <td>Europe</td>\n",
       "    </tr>\n",
       "    <tr>\n",
       "      <th>4</th>\n",
       "      <td>Turkey</td>\n",
       "      <td>5220549</td>\n",
       "      <td>46970</td>\n",
       "      <td>5212123</td>\n",
       "      <td>46787</td>\n",
       "      <td>8426</td>\n",
       "      <td>183</td>\n",
       "      <td>0.9</td>\n",
       "      <td>Asia</td>\n",
       "    </tr>\n",
       "  </tbody>\n",
       "</table>\n",
       "</div>"
      ],
      "text/plain": [
       "  Country/Region     Cases  Deaths    PCases  PDeaths  Cases (+)  Deaths (+)  \\\n",
       "0             US  33217995  593288  33190470   591950      27525        1338   \n",
       "1          India  27555457  318895  27369093   315235     186364        3660   \n",
       "2         Brazil  16342162  456674  16274695   454429      67467        2245   \n",
       "3         France   5697076  109327   5683143   109185      13933         142   \n",
       "4         Turkey   5220549   46970   5212123    46787       8426         183   \n",
       "\n",
       "   Fatality Rate      Continent  \n",
       "0            1.8  North America  \n",
       "1            1.2           Asia  \n",
       "2            2.8  South America  \n",
       "3            1.9         Europe  \n",
       "4            0.9           Asia  "
      ]
     },
     "execution_count": 15,
     "metadata": {},
     "output_type": "execute_result"
    }
   ],
   "source": [
    "#hide\n",
    "df_table = (pd.DataFrame(dict(Cases=dfc_cases, Deaths=dfc_deaths, PCases=dfp_cases, PDeaths=dfp_deaths))\n",
    "             .sort_values(by=['Cases', 'Deaths'], ascending=[False, False])\n",
    "             .reset_index())\n",
    "df_table.rename(columns={'index': 'Country/Region'}, inplace=True)\n",
    "for c in 'Cases, Deaths'.split(', '):\n",
    "    df_table[f'{c} (+)'] = (df_table[c] - df_table[f'P{c}']).clip(0)  # DATA BUG\n",
    "df_table['Fatality Rate'] = (100 * df_table['Deaths'] / df_table['Cases']).round(1)\n",
    "df_table['Continent'] = df_table['Country/Region'].map(mapping['map.continent'])\n",
    "df_table.head(5)"
   ]
  },
  {
   "cell_type": "code",
   "execution_count": 16,
   "id": "fewer-occasion",
   "metadata": {
    "execution": {
     "iopub.execute_input": "2021-05-29T00:47:34.156842Z",
     "iopub.status.busy": "2021-05-29T00:47:34.156146Z",
     "iopub.status.idle": "2021-05-29T00:47:34.163072Z",
     "shell.execute_reply": "2021-05-29T00:47:34.163527Z"
    },
    "papermill": {
     "duration": 0.036637,
     "end_time": "2021-05-29T00:47:34.163629",
     "exception": false,
     "start_time": "2021-05-29T00:47:34.126992",
     "status": "completed"
    },
    "tags": []
   },
   "outputs": [],
   "source": [
    "#hide\n",
    "#delete problematic countries from table\n",
    "df_table = df_table[~df_table['Country/Region'].isin(['Cape Verde', 'Cruise Ship', 'Kosovo'])]"
   ]
  },
  {
   "cell_type": "code",
   "execution_count": 17,
   "id": "related-center",
   "metadata": {
    "execution": {
     "iopub.execute_input": "2021-05-29T00:47:34.235434Z",
     "iopub.status.busy": "2021-05-29T00:47:34.235023Z",
     "iopub.status.idle": "2021-05-29T00:47:34.237062Z",
     "shell.execute_reply": "2021-05-29T00:47:34.236732Z"
    },
    "papermill": {
     "duration": 0.044804,
     "end_time": "2021-05-29T00:47:34.237144",
     "exception": false,
     "start_time": "2021-05-29T00:47:34.192340",
     "status": "completed"
    },
    "tags": []
   },
   "outputs": [],
   "source": [
    "#hide\n",
    "metrics = [df_table.columns[index] for index in [1,2,5,6]]\n",
    "# s_china = df_table[df_table['Country/Region'].eq('China')][metrics].sum().add_prefix('China ')\n",
    "s_us = df_table[df_table['Country/Region'].eq('US')][metrics].sum().add_prefix('US ')\n",
    "s_eu = df_table[df_table['Continent'].eq('Europe')][metrics].sum().add_prefix('EU ')\n",
    "s_ind = df_table[df_table['Country/Region'].eq('India')][metrics].sum().add_prefix('India ')\n",
    "summary = {'updated': pd.to_datetime(dt_today), 'since': pd.to_datetime(dt_yday)}\n",
    "summary = {'updated': pd.to_datetime(dt_today), 'since': pd.to_datetime(dt_yday)}\n",
    "summary = {**summary, **df_table[metrics].sum(), **s_ind, **s_us, **s_eu}"
   ]
  },
  {
   "cell_type": "code",
   "execution_count": 18,
   "id": "engaging-syndrome",
   "metadata": {
    "execution": {
     "iopub.execute_input": "2021-05-29T00:47:34.299717Z",
     "iopub.status.busy": "2021-05-29T00:47:34.296971Z",
     "iopub.status.idle": "2021-05-29T00:47:34.310713Z",
     "shell.execute_reply": "2021-05-29T00:47:34.309971Z"
    },
    "papermill": {
     "duration": 0.046631,
     "end_time": "2021-05-29T00:47:34.310799",
     "exception": false,
     "start_time": "2021-05-29T00:47:34.264168",
     "status": "completed"
    },
    "tags": []
   },
   "outputs": [],
   "source": [
    "#hide\n",
    "dft_ct_new_cases = dft_cases.groupby(COL_REGION)[dt_cols].sum().diff(axis=1).fillna(0).astype(int)"
   ]
  },
  {
   "cell_type": "code",
   "execution_count": 19,
   "id": "neutral-assignment",
   "metadata": {
    "execution": {
     "iopub.execute_input": "2021-05-29T00:47:34.368985Z",
     "iopub.status.busy": "2021-05-29T00:47:34.368574Z",
     "iopub.status.idle": "2021-05-29T00:47:34.370675Z",
     "shell.execute_reply": "2021-05-29T00:47:34.371068Z"
    },
    "papermill": {
     "duration": 0.033363,
     "end_time": "2021-05-29T00:47:34.371158",
     "exception": false,
     "start_time": "2021-05-29T00:47:34.337795",
     "status": "completed"
    },
    "tags": []
   },
   "outputs": [],
   "source": [
    "#hide\n",
    "everydaycases = dft_ct_new_cases.cumsum(axis=1)"
   ]
  },
  {
   "cell_type": "code",
   "execution_count": 20,
   "id": "parliamentary-calgary",
   "metadata": {
    "execution": {
     "iopub.execute_input": "2021-05-29T00:47:34.428813Z",
     "iopub.status.busy": "2021-05-29T00:47:34.428342Z",
     "iopub.status.idle": "2021-05-29T00:47:34.917638Z",
     "shell.execute_reply": "2021-05-29T00:47:34.917078Z"
    },
    "papermill": {
     "duration": 0.520013,
     "end_time": "2021-05-29T00:47:34.917835",
     "exception": false,
     "start_time": "2021-05-29T00:47:34.397822",
     "status": "completed"
    },
    "tags": []
   },
   "outputs": [],
   "source": [
    "#hide\n",
    "import pandas as pd\n",
    "import matplotlib.pyplot as plt\n",
    "import matplotlib.ticker as ticker\n",
    "import matplotlib.animation as animation\n",
    "from IPython.display import HTML"
   ]
  },
  {
   "cell_type": "code",
   "execution_count": 21,
   "id": "lasting-extraction",
   "metadata": {
    "execution": {
     "iopub.execute_input": "2021-05-29T00:47:34.981792Z",
     "iopub.status.busy": "2021-05-29T00:47:34.981191Z",
     "iopub.status.idle": "2021-05-29T00:47:34.989119Z",
     "shell.execute_reply": "2021-05-29T00:47:34.988650Z"
    },
    "papermill": {
     "duration": 0.040772,
     "end_time": "2021-05-29T00:47:34.989238",
     "exception": false,
     "start_time": "2021-05-29T00:47:34.948466",
     "status": "completed"
    },
    "tags": []
   },
   "outputs": [],
   "source": [
    "#hide\n",
    "t = everydaycases.stack()"
   ]
  },
  {
   "cell_type": "code",
   "execution_count": 22,
   "id": "premier-sleeve",
   "metadata": {
    "execution": {
     "iopub.execute_input": "2021-05-29T00:47:35.049287Z",
     "iopub.status.busy": "2021-05-29T00:47:35.046610Z",
     "iopub.status.idle": "2021-05-29T00:47:35.055590Z",
     "shell.execute_reply": "2021-05-29T00:47:35.054673Z"
    },
    "papermill": {
     "duration": 0.039251,
     "end_time": "2021-05-29T00:47:35.055686",
     "exception": false,
     "start_time": "2021-05-29T00:47:35.016435",
     "status": "completed"
    },
    "tags": []
   },
   "outputs": [],
   "source": [
    "#hide\n",
    "g = t.reset_index(['Country/Region'])"
   ]
  },
  {
   "cell_type": "code",
   "execution_count": 23,
   "id": "distributed-pittsburgh",
   "metadata": {
    "execution": {
     "iopub.execute_input": "2021-05-29T00:47:35.114036Z",
     "iopub.status.busy": "2021-05-29T00:47:35.113592Z",
     "iopub.status.idle": "2021-05-29T00:47:35.116889Z",
     "shell.execute_reply": "2021-05-29T00:47:35.116545Z"
    },
    "papermill": {
     "duration": 0.03249,
     "end_time": "2021-05-29T00:47:35.116968",
     "exception": false,
     "start_time": "2021-05-29T00:47:35.084478",
     "status": "completed"
    },
    "tags": []
   },
   "outputs": [],
   "source": [
    "#hide\n",
    "g.index.name = 'date'"
   ]
  },
  {
   "cell_type": "code",
   "execution_count": 24,
   "id": "naked-donor",
   "metadata": {
    "execution": {
     "iopub.execute_input": "2021-05-29T00:47:35.176641Z",
     "iopub.status.busy": "2021-05-29T00:47:35.176076Z",
     "iopub.status.idle": "2021-05-29T00:47:35.178313Z",
     "shell.execute_reply": "2021-05-29T00:47:35.178711Z"
    },
    "papermill": {
     "duration": 0.034169,
     "end_time": "2021-05-29T00:47:35.178805",
     "exception": false,
     "start_time": "2021-05-29T00:47:35.144636",
     "status": "completed"
    },
    "tags": []
   },
   "outputs": [],
   "source": [
    "# #hide\n",
    "# g = g.reset_index(['date'])"
   ]
  },
  {
   "cell_type": "code",
   "execution_count": 25,
   "id": "incomplete-mustang",
   "metadata": {
    "execution": {
     "iopub.execute_input": "2021-05-29T00:47:35.241128Z",
     "iopub.status.busy": "2021-05-29T00:47:35.240657Z",
     "iopub.status.idle": "2021-05-29T00:47:35.242771Z",
     "shell.execute_reply": "2021-05-29T00:47:35.242393Z"
    },
    "papermill": {
     "duration": 0.034624,
     "end_time": "2021-05-29T00:47:35.242875",
     "exception": false,
     "start_time": "2021-05-29T00:47:35.208251",
     "status": "completed"
    },
    "tags": []
   },
   "outputs": [],
   "source": [
    "#hide\n",
    "# g.head()"
   ]
  },
  {
   "cell_type": "code",
   "execution_count": 26,
   "id": "specific-kruger",
   "metadata": {
    "execution": {
     "iopub.execute_input": "2021-05-29T00:47:35.301270Z",
     "iopub.status.busy": "2021-05-29T00:47:35.300868Z",
     "iopub.status.idle": "2021-05-29T00:47:35.302546Z",
     "shell.execute_reply": "2021-05-29T00:47:35.302923Z"
    },
    "papermill": {
     "duration": 0.032487,
     "end_time": "2021-05-29T00:47:35.303014",
     "exception": false,
     "start_time": "2021-05-29T00:47:35.270527",
     "status": "completed"
    },
    "tags": []
   },
   "outputs": [],
   "source": [
    "#hide\n",
    "# g.columns = ['date','country','cases']"
   ]
  },
  {
   "cell_type": "code",
   "execution_count": 27,
   "id": "tender-conversion",
   "metadata": {
    "execution": {
     "iopub.execute_input": "2021-05-29T00:47:35.359063Z",
     "iopub.status.busy": "2021-05-29T00:47:35.358527Z",
     "iopub.status.idle": "2021-05-29T00:47:35.361900Z",
     "shell.execute_reply": "2021-05-29T00:47:35.361535Z"
    },
    "papermill": {
     "duration": 0.032474,
     "end_time": "2021-05-29T00:47:35.361980",
     "exception": false,
     "start_time": "2021-05-29T00:47:35.329506",
     "status": "completed"
    },
    "tags": []
   },
   "outputs": [],
   "source": [
    "#hide\n",
    "# g['continent'] = g.country"
   ]
  },
  {
   "cell_type": "code",
   "execution_count": 28,
   "id": "substantial-wilderness",
   "metadata": {
    "execution": {
     "iopub.execute_input": "2021-05-29T00:47:35.418383Z",
     "iopub.status.busy": "2021-05-29T00:47:35.417851Z",
     "iopub.status.idle": "2021-05-29T00:47:35.420211Z",
     "shell.execute_reply": "2021-05-29T00:47:35.420675Z"
    },
    "papermill": {
     "duration": 0.03245,
     "end_time": "2021-05-29T00:47:35.420796",
     "exception": false,
     "start_time": "2021-05-29T00:47:35.388346",
     "status": "completed"
    },
    "tags": []
   },
   "outputs": [],
   "source": [
    "#hide\n",
    "# cols = list(g.columns.values)"
   ]
  },
  {
   "cell_type": "code",
   "execution_count": 29,
   "id": "solved-farming",
   "metadata": {
    "execution": {
     "iopub.execute_input": "2021-05-29T00:47:35.479685Z",
     "iopub.status.busy": "2021-05-29T00:47:35.479157Z",
     "iopub.status.idle": "2021-05-29T00:47:35.481451Z",
     "shell.execute_reply": "2021-05-29T00:47:35.482008Z"
    },
    "papermill": {
     "duration": 0.03375,
     "end_time": "2021-05-29T00:47:35.482111",
     "exception": false,
     "start_time": "2021-05-29T00:47:35.448361",
     "status": "completed"
    },
    "tags": []
   },
   "outputs": [],
   "source": [
    "#hide\n",
    "# cols.insert(0, cols.pop())"
   ]
  },
  {
   "cell_type": "code",
   "execution_count": 30,
   "id": "executed-adoption",
   "metadata": {
    "execution": {
     "iopub.execute_input": "2021-05-29T00:47:35.544306Z",
     "iopub.status.busy": "2021-05-29T00:47:35.543720Z",
     "iopub.status.idle": "2021-05-29T00:47:35.546379Z",
     "shell.execute_reply": "2021-05-29T00:47:35.546757Z"
    },
    "papermill": {
     "duration": 0.035411,
     "end_time": "2021-05-29T00:47:35.546862",
     "exception": false,
     "start_time": "2021-05-29T00:47:35.511451",
     "status": "completed"
    },
    "tags": []
   },
   "outputs": [],
   "source": [
    "#hide\n",
    "# g = g[cols]"
   ]
  },
  {
   "cell_type": "code",
   "execution_count": 31,
   "id": "subject-dublin",
   "metadata": {
    "execution": {
     "iopub.execute_input": "2021-05-29T00:47:35.611152Z",
     "iopub.status.busy": "2021-05-29T00:47:35.610115Z",
     "iopub.status.idle": "2021-05-29T00:47:35.612211Z",
     "shell.execute_reply": "2021-05-29T00:47:35.613005Z"
    },
    "papermill": {
     "duration": 0.038354,
     "end_time": "2021-05-29T00:47:35.613217",
     "exception": false,
     "start_time": "2021-05-29T00:47:35.574863",
     "status": "completed"
    },
    "tags": []
   },
   "outputs": [],
   "source": [
    "#hide\n",
    "# g['continent'] = g['continent'].map(mapping['map.continent'])"
   ]
  },
  {
   "cell_type": "code",
   "execution_count": 32,
   "id": "freelance-scout",
   "metadata": {
    "execution": {
     "iopub.execute_input": "2021-05-29T00:47:35.676460Z",
     "iopub.status.busy": "2021-05-29T00:47:35.675927Z",
     "iopub.status.idle": "2021-05-29T00:47:35.679458Z",
     "shell.execute_reply": "2021-05-29T00:47:35.678961Z"
    },
    "papermill": {
     "duration": 0.035461,
     "end_time": "2021-05-29T00:47:35.679557",
     "exception": false,
     "start_time": "2021-05-29T00:47:35.644096",
     "status": "completed"
    },
    "tags": []
   },
   "outputs": [],
   "source": [
    "#hide\n",
    "# g.head()"
   ]
  },
  {
   "cell_type": "code",
   "execution_count": 33,
   "id": "limited-engine",
   "metadata": {
    "execution": {
     "iopub.execute_input": "2021-05-29T00:47:35.741478Z",
     "iopub.status.busy": "2021-05-29T00:47:35.740992Z",
     "iopub.status.idle": "2021-05-29T00:47:35.743188Z",
     "shell.execute_reply": "2021-05-29T00:47:35.743585Z"
    },
    "papermill": {
     "duration": 0.03533,
     "end_time": "2021-05-29T00:47:35.743680",
     "exception": false,
     "start_time": "2021-05-29T00:47:35.708350",
     "status": "completed"
    },
    "tags": []
   },
   "outputs": [],
   "source": [
    "# hide\n",
    "# g['date'] = g['date'].astype('datetime64[ns]')"
   ]
  },
  {
   "cell_type": "code",
   "execution_count": 34,
   "id": "sophisticated-supervisor",
   "metadata": {
    "execution": {
     "iopub.execute_input": "2021-05-29T00:47:35.802928Z",
     "iopub.status.busy": "2021-05-29T00:47:35.802521Z",
     "iopub.status.idle": "2021-05-29T00:47:35.804712Z",
     "shell.execute_reply": "2021-05-29T00:47:35.805167Z"
    },
    "papermill": {
     "duration": 0.034066,
     "end_time": "2021-05-29T00:47:35.805258",
     "exception": false,
     "start_time": "2021-05-29T00:47:35.771192",
     "status": "completed"
    },
    "tags": []
   },
   "outputs": [],
   "source": [
    "#hide\n",
    "# g['date'] = g.date.dt.dayofyear"
   ]
  },
  {
   "cell_type": "code",
   "execution_count": 35,
   "id": "inside-dubai",
   "metadata": {
    "execution": {
     "iopub.execute_input": "2021-05-29T00:47:35.864259Z",
     "iopub.status.busy": "2021-05-29T00:47:35.863853Z",
     "iopub.status.idle": "2021-05-29T00:47:35.865993Z",
     "shell.execute_reply": "2021-05-29T00:47:35.866485Z"
    },
    "papermill": {
     "duration": 0.033394,
     "end_time": "2021-05-29T00:47:35.866609",
     "exception": false,
     "start_time": "2021-05-29T00:47:35.833215",
     "status": "completed"
    },
    "tags": []
   },
   "outputs": [],
   "source": [
    "#hide\n",
    "# g = g.rename(columns= {'continent':'group','country':'name','cases':'value'})"
   ]
  },
  {
   "cell_type": "code",
   "execution_count": 36,
   "id": "fleet-motorcycle",
   "metadata": {
    "execution": {
     "iopub.execute_input": "2021-05-29T00:47:35.925349Z",
     "iopub.status.busy": "2021-05-29T00:47:35.924945Z",
     "iopub.status.idle": "2021-05-29T00:47:35.927244Z",
     "shell.execute_reply": "2021-05-29T00:47:35.927793Z"
    },
    "papermill": {
     "duration": 0.034121,
     "end_time": "2021-05-29T00:47:35.927916",
     "exception": false,
     "start_time": "2021-05-29T00:47:35.893795",
     "status": "completed"
    },
    "tags": []
   },
   "outputs": [],
   "source": [
    "#hide\n",
    "# cols = ['name','group','day','value']"
   ]
  },
  {
   "cell_type": "code",
   "execution_count": 37,
   "id": "continued-sleeping",
   "metadata": {
    "execution": {
     "iopub.execute_input": "2021-05-29T00:47:35.990144Z",
     "iopub.status.busy": "2021-05-29T00:47:35.989561Z",
     "iopub.status.idle": "2021-05-29T00:47:35.992163Z",
     "shell.execute_reply": "2021-05-29T00:47:35.991765Z"
    },
    "papermill": {
     "duration": 0.035956,
     "end_time": "2021-05-29T00:47:35.992254",
     "exception": false,
     "start_time": "2021-05-29T00:47:35.956298",
     "status": "completed"
    },
    "tags": []
   },
   "outputs": [],
   "source": [
    "#hide\n",
    "# g.rename(columns= {'date':'day'},inplace = True)"
   ]
  },
  {
   "cell_type": "code",
   "execution_count": 38,
   "id": "major-fight",
   "metadata": {
    "execution": {
     "iopub.execute_input": "2021-05-29T00:47:36.050010Z",
     "iopub.status.busy": "2021-05-29T00:47:36.049412Z",
     "iopub.status.idle": "2021-05-29T00:47:36.051555Z",
     "shell.execute_reply": "2021-05-29T00:47:36.051993Z"
    },
    "papermill": {
     "duration": 0.033478,
     "end_time": "2021-05-29T00:47:36.052095",
     "exception": false,
     "start_time": "2021-05-29T00:47:36.018617",
     "status": "completed"
    },
    "tags": []
   },
   "outputs": [],
   "source": [
    "#hide\n",
    "# g = g[cols]"
   ]
  },
  {
   "cell_type": "code",
   "execution_count": 39,
   "id": "structured-mobile",
   "metadata": {
    "execution": {
     "iopub.execute_input": "2021-05-29T00:47:36.110813Z",
     "iopub.status.busy": "2021-05-29T00:47:36.110240Z",
     "iopub.status.idle": "2021-05-29T00:47:36.112345Z",
     "shell.execute_reply": "2021-05-29T00:47:36.112755Z"
    },
    "papermill": {
     "duration": 0.031724,
     "end_time": "2021-05-29T00:47:36.112843",
     "exception": false,
     "start_time": "2021-05-29T00:47:36.081119",
     "status": "completed"
    },
    "tags": []
   },
   "outputs": [],
   "source": [
    "# #hide\n",
    "# g = g[g.group.notna()]"
   ]
  },
  {
   "cell_type": "code",
   "execution_count": 40,
   "id": "determined-closing",
   "metadata": {
    "execution": {
     "iopub.execute_input": "2021-05-29T00:47:36.173428Z",
     "iopub.status.busy": "2021-05-29T00:47:36.172953Z",
     "iopub.status.idle": "2021-05-29T00:47:36.175069Z",
     "shell.execute_reply": "2021-05-29T00:47:36.174713Z"
    },
    "papermill": {
     "duration": 0.035039,
     "end_time": "2021-05-29T00:47:36.175163",
     "exception": false,
     "start_time": "2021-05-29T00:47:36.140124",
     "status": "completed"
    },
    "tags": []
   },
   "outputs": [],
   "source": [
    "# #hide\n",
    "# colors = dict(zip(\n",
    "#     [\"Oceania\", \"Europe\", \"Asia\", \"South America\", \"Middle East\", \"North America\", \"Africa\"],\n",
    "#     [\"#adb0ff\", \"#ffb3ff\", \"#90d595\", \"#e48381\", \"#aafbff\", \"#f7bb5f\", \"#eafb50\"]\n",
    "# ))\n",
    "# group_lk = g.set_index('name')['group'].to_dict()"
   ]
  },
  {
   "cell_type": "code",
   "execution_count": null,
   "id": "gross-drinking",
   "metadata": {
    "papermill": {
     "duration": 0.02929,
     "end_time": "2021-05-29T00:47:36.232028",
     "exception": false,
     "start_time": "2021-05-29T00:47:36.202738",
     "status": "completed"
    },
    "tags": []
   },
   "outputs": [],
   "source": []
  },
  {
   "cell_type": "code",
   "execution_count": 41,
   "id": "subject-macintosh",
   "metadata": {
    "execution": {
     "iopub.execute_input": "2021-05-29T00:47:36.294155Z",
     "iopub.status.busy": "2021-05-29T00:47:36.293533Z",
     "iopub.status.idle": "2021-05-29T00:47:36.295635Z",
     "shell.execute_reply": "2021-05-29T00:47:36.296125Z"
    },
    "papermill": {
     "duration": 0.036933,
     "end_time": "2021-05-29T00:47:36.296230",
     "exception": false,
     "start_time": "2021-05-29T00:47:36.259297",
     "status": "completed"
    },
    "tags": []
   },
   "outputs": [],
   "source": [
    "# #hide\n",
    "# fig, ax = plt.subplots(figsize=(15, 8))\n",
    "\n",
    "# def draw_barchart(current_day):\n",
    "#     dff = g[g['day'].eq(current_day)].sort_values(by='value', ascending=True).tail(10)\n",
    "#     ax.clear()\n",
    "#     ax.barh(dff['name'], dff['value'], color=[colors[group_lk[x]] for x in dff['name']])\n",
    "#     dx = dff['value'].max() / 200\n",
    "    \n",
    "#     for i, (value, name) in enumerate(zip(dff['value'], dff['name'])):\n",
    "#         ax.text(value-dx, i,     name,           size=14, weight=600, ha='right', va='bottom')\n",
    "#         ax.text(value-dx, i-.25, group_lk[name], size=10, color='#444444', ha='right', va='baseline')\n",
    "#         ax.text(value+dx, i,     f'{value:,.0f}',  size=14, ha='left',  va='center')\n",
    "#     ax.text(1, 0.4, current_day, transform=ax.transAxes, color='#777777', size=46, ha='right', weight=800)\n",
    "#     ax.text(0, 1.06, 'Population (thousands)', transform=ax.transAxes, size=12, color='#777777')\n",
    "#     ax.xaxis.set_major_formatter(ticker.StrMethodFormatter('{x:,.0f}'))\n",
    "#     ax.xaxis.set_ticks_position('top')\n",
    "#     ax.tick_params(axis='x', colors='#777777', labelsize=12)\n",
    "#     ax.set_yticks([])\n",
    "#     ax.margins(0, 0.01)\n",
    "#     ax.grid(which='major', axis='x', linestyle='-')\n",
    "#     ax.set_axisbelow(True)\n",
    "    \n",
    "#     ax.text(0, 1.15, 'Coronavirus',\n",
    "#             transform=ax.transAxes, size=24, weight=600, ha='left', va='top')\n",
    "# #     ax.text(1, 0, 'by @pratapvardhan; credit @jburnmurdoch', transform=ax.transAxes, color='#777777', ha='right',\n",
    "# #             bbox=dict(facecolor='white', alpha=0.8, edgecolor='white'))\n",
    "#     plt.box(False)"
   ]
  },
  {
   "cell_type": "code",
   "execution_count": 42,
   "id": "sexual-wages",
   "metadata": {
    "execution": {
     "iopub.execute_input": "2021-05-29T00:47:36.361329Z",
     "iopub.status.busy": "2021-05-29T00:47:36.360791Z",
     "iopub.status.idle": "2021-05-29T00:47:36.363601Z",
     "shell.execute_reply": "2021-05-29T00:47:36.364151Z"
    },
    "papermill": {
     "duration": 0.038378,
     "end_time": "2021-05-29T00:47:36.364277",
     "exception": false,
     "start_time": "2021-05-29T00:47:36.325899",
     "status": "completed"
    },
    "tags": []
   },
   "outputs": [],
   "source": [
    "# #hide_input\n",
    "# fig, ax = plt.subplots(figsize=(15, 8))\n",
    "# animator = animation.FuncAnimation(fig, draw_barchart, frames=range(g.day.values.min(), g.day.values.max()))\n",
    "# HTML(animator.to_jshtml())\n",
    "# # or use animator.to_html5_video() or animator.save() "
   ]
  },
  {
   "cell_type": "code",
   "execution_count": null,
   "id": "australian-container",
   "metadata": {
    "papermill": {
     "duration": 0.032585,
     "end_time": "2021-05-29T00:47:36.429713",
     "exception": false,
     "start_time": "2021-05-29T00:47:36.397128",
     "status": "completed"
    },
    "tags": []
   },
   "outputs": [],
   "source": []
  },
  {
   "cell_type": "code",
   "execution_count": null,
   "id": "mediterranean-pontiac",
   "metadata": {
    "papermill": {
     "duration": 0.027089,
     "end_time": "2021-05-29T00:47:36.484071",
     "exception": false,
     "start_time": "2021-05-29T00:47:36.456982",
     "status": "completed"
    },
    "tags": []
   },
   "outputs": [],
   "source": []
  },
  {
   "cell_type": "code",
   "execution_count": null,
   "id": "aging-legislature",
   "metadata": {
    "papermill": {
     "duration": 0.026639,
     "end_time": "2021-05-29T00:47:36.542705",
     "exception": false,
     "start_time": "2021-05-29T00:47:36.516066",
     "status": "completed"
    },
    "tags": []
   },
   "outputs": [],
   "source": []
  }
 ],
 "metadata": {
  "kernelspec": {
   "display_name": "Python 3",
   "language": "python",
   "name": "python3"
  },
  "language_info": {
   "codemirror_mode": {
    "name": "ipython",
    "version": 3
   },
   "file_extension": ".py",
   "mimetype": "text/x-python",
   "name": "python",
   "nbconvert_exporter": "python",
   "pygments_lexer": "ipython3",
   "version": "3.6.13"
  },
  "papermill": {
   "duration": 6.286013,
   "end_time": "2021-05-29T00:47:37.766793",
   "environment_variables": {},
   "exception": null,
   "input_path": "2020-03-21-covid19exp.ipynb",
   "output_path": "2020-03-21-covid19exp.ipynb",
   "parameters": {},
   "start_time": "2021-05-29T00:47:31.480780",
   "version": "2.0.0"
  }
 },
 "nbformat": 4,
 "nbformat_minor": 5
}