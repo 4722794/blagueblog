{
 "cells": [
  {
   "cell_type": "markdown",
   "id": "muslim-click",
   "metadata": {
    "papermill": {
     "duration": 0.033331,
     "end_time": "2022-03-22T00:34:38.630692",
     "exception": false,
     "start_time": "2022-03-22T00:34:38.597361",
     "status": "completed"
    },
    "tags": []
   },
   "source": [
    "# COVID-19 Case Race\n",
    "> A race chart to see rising cases around the world\n",
    "\n",
    "- author: Hargun Oberoi\n",
    "- image: images/covid-overview.png\n",
    "- hide: false\n",
    "- badges: false"
   ]
  },
  {
   "cell_type": "code",
   "execution_count": 1,
   "id": "proof-material",
   "metadata": {
    "execution": {
     "iopub.execute_input": "2022-03-22T00:34:38.702451Z",
     "iopub.status.busy": "2022-03-22T00:34:38.701899Z",
     "iopub.status.idle": "2022-03-22T00:34:39.034965Z",
     "shell.execute_reply": "2022-03-22T00:34:39.034449Z"
    },
    "papermill": {
     "duration": 0.372848,
     "end_time": "2022-03-22T00:34:39.035109",
     "exception": false,
     "start_time": "2022-03-22T00:34:38.662261",
     "status": "completed"
    },
    "tags": []
   },
   "outputs": [],
   "source": [
    "#hide\n",
    "import numpy as np\n",
    "import pandas as pd\n",
    "from jinja2 import Template\n",
    "from IPython.display import HTML"
   ]
  },
  {
   "cell_type": "code",
   "execution_count": 2,
   "id": "developed-terminology",
   "metadata": {
    "execution": {
     "iopub.execute_input": "2022-03-22T00:34:39.100630Z",
     "iopub.status.busy": "2022-03-22T00:34:39.100081Z",
     "iopub.status.idle": "2022-03-22T00:34:39.102168Z",
     "shell.execute_reply": "2022-03-22T00:34:39.101749Z"
    },
    "papermill": {
     "duration": 0.037294,
     "end_time": "2022-03-22T00:34:39.102306",
     "exception": false,
     "start_time": "2022-03-22T00:34:39.065012",
     "status": "completed"
    },
    "tags": []
   },
   "outputs": [],
   "source": [
    "#hide\n",
    "\n",
    "# FETCH\n",
    "base_url = 'https://raw.githubusercontent.com/pratapvardhan/notebooks/master/covid19/'\n",
    "paths = {\n",
    "    'mapping': base_url + 'mapping_countries.csv',\n",
    "    'overview': base_url + 'overview.tpl'\n",
    "}"
   ]
  },
  {
   "cell_type": "code",
   "execution_count": 3,
   "id": "dynamic-saver",
   "metadata": {
    "execution": {
     "iopub.execute_input": "2022-03-22T00:34:39.171724Z",
     "iopub.status.busy": "2022-03-22T00:34:39.171164Z",
     "iopub.status.idle": "2022-03-22T00:34:39.174701Z",
     "shell.execute_reply": "2022-03-22T00:34:39.174276Z"
    },
    "papermill": {
     "duration": 0.042582,
     "end_time": "2022-03-22T00:34:39.174818",
     "exception": false,
     "start_time": "2022-03-22T00:34:39.132236",
     "status": "completed"
    },
    "tags": []
   },
   "outputs": [
    {
     "data": {
      "text/plain": [
       "'https://raw.githubusercontent.com/pratapvardhan/notebooks/master/covid19/mapping_countries.csv'"
      ]
     },
     "execution_count": 3,
     "metadata": {},
     "output_type": "execute_result"
    }
   ],
   "source": [
    "#hide\n",
    "paths['mapping']"
   ]
  },
  {
   "cell_type": "code",
   "execution_count": 4,
   "id": "urban-software",
   "metadata": {
    "execution": {
     "iopub.execute_input": "2022-03-22T00:34:39.240926Z",
     "iopub.status.busy": "2022-03-22T00:34:39.240366Z",
     "iopub.status.idle": "2022-03-22T00:34:39.242412Z",
     "shell.execute_reply": "2022-03-22T00:34:39.241992Z"
    },
    "papermill": {
     "duration": 0.037406,
     "end_time": "2022-03-22T00:34:39.242524",
     "exception": false,
     "start_time": "2022-03-22T00:34:39.205118",
     "status": "completed"
    },
    "tags": []
   },
   "outputs": [],
   "source": [
    "#hide\n",
    "def get_mappings(url):\n",
    "    df = pd.read_csv(url)\n",
    "    return {\n",
    "        'df': df,\n",
    "        'replace.country': dict(df.dropna(subset=['Name']).set_index('Country')['Name']),\n",
    "        'map.continent': dict(df.set_index('Name')['Continent'])\n",
    "    }"
   ]
  },
  {
   "cell_type": "code",
   "execution_count": 5,
   "id": "intimate-machinery",
   "metadata": {
    "execution": {
     "iopub.execute_input": "2022-03-22T00:34:39.308577Z",
     "iopub.status.busy": "2022-03-22T00:34:39.308050Z",
     "iopub.status.idle": "2022-03-22T00:34:39.370489Z",
     "shell.execute_reply": "2022-03-22T00:34:39.370023Z"
    },
    "papermill": {
     "duration": 0.097913,
     "end_time": "2022-03-22T00:34:39.370610",
     "exception": false,
     "start_time": "2022-03-22T00:34:39.272697",
     "status": "completed"
    },
    "tags": []
   },
   "outputs": [],
   "source": [
    "#hide\n",
    "mapping = get_mappings(paths['mapping'])"
   ]
  },
  {
   "cell_type": "code",
   "execution_count": 6,
   "id": "certified-tactics",
   "metadata": {
    "execution": {
     "iopub.execute_input": "2022-03-22T00:34:39.436620Z",
     "iopub.status.busy": "2022-03-22T00:34:39.436004Z",
     "iopub.status.idle": "2022-03-22T00:34:39.437483Z",
     "shell.execute_reply": "2022-03-22T00:34:39.437919Z"
    },
    "papermill": {
     "duration": 0.037176,
     "end_time": "2022-03-22T00:34:39.438066",
     "exception": false,
     "start_time": "2022-03-22T00:34:39.400890",
     "status": "completed"
    },
    "tags": []
   },
   "outputs": [],
   "source": [
    "#hide\n",
    "def get_template(path):\n",
    "    from urllib.parse import urlparse\n",
    "    if bool(urlparse(path).netloc):\n",
    "        from urllib.request import urlopen\n",
    "        return urlopen(path).read().decode('utf8')\n",
    "    return open(path).read()"
   ]
  },
  {
   "cell_type": "code",
   "execution_count": 7,
   "id": "realistic-blast",
   "metadata": {
    "execution": {
     "iopub.execute_input": "2022-03-22T00:34:39.506640Z",
     "iopub.status.busy": "2022-03-22T00:34:39.506014Z",
     "iopub.status.idle": "2022-03-22T00:34:39.507503Z",
     "shell.execute_reply": "2022-03-22T00:34:39.507965Z"
    },
    "papermill": {
     "duration": 0.039669,
     "end_time": "2022-03-22T00:34:39.508108",
     "exception": false,
     "start_time": "2022-03-22T00:34:39.468439",
     "status": "completed"
    },
    "tags": []
   },
   "outputs": [],
   "source": [
    "#hide\n",
    "def get_frame(name):\n",
    "    url = (\n",
    "        'https://raw.githubusercontent.com/CSSEGISandData/COVID-19/master/csse_covid_19_data/'\n",
    "        f'csse_covid_19_time_series/time_series_covid19_{name}_global.csv')\n",
    "    df = pd.read_csv(url)\n",
    "    # rename countries\n",
    "    df['Country/Region'] = df['Country/Region'].replace(mapping['replace.country'])\n",
    "    return df"
   ]
  },
  {
   "cell_type": "code",
   "execution_count": 8,
   "id": "affiliated-characterization",
   "metadata": {
    "execution": {
     "iopub.execute_input": "2022-03-22T00:34:39.574961Z",
     "iopub.status.busy": "2022-03-22T00:34:39.574385Z",
     "iopub.status.idle": "2022-03-22T00:34:39.576443Z",
     "shell.execute_reply": "2022-03-22T00:34:39.576034Z"
    },
    "papermill": {
     "duration": 0.037808,
     "end_time": "2022-03-22T00:34:39.576556",
     "exception": false,
     "start_time": "2022-03-22T00:34:39.538748",
     "status": "completed"
    },
    "tags": []
   },
   "outputs": [],
   "source": [
    "#hide\n",
    "def get_dates(df):\n",
    "    dt_cols = df.columns[~df.columns.isin(['Province/State', 'Country/Region', 'Lat', 'Long'])]\n",
    "    LAST_DATE_I = -1\n",
    "    # sometimes last column may be empty, then go backwards\n",
    "    for i in range(-1, -len(dt_cols), -1):\n",
    "        if not df[dt_cols[i]].fillna(0).eq(0).all():\n",
    "            LAST_DATE_I = i\n",
    "            break\n",
    "    return LAST_DATE_I, dt_cols"
   ]
  },
  {
   "cell_type": "code",
   "execution_count": 9,
   "id": "recent-optimization",
   "metadata": {
    "execution": {
     "iopub.execute_input": "2022-03-22T00:34:39.642051Z",
     "iopub.status.busy": "2022-03-22T00:34:39.641487Z",
     "iopub.status.idle": "2022-03-22T00:34:40.241856Z",
     "shell.execute_reply": "2022-03-22T00:34:40.241310Z"
    },
    "papermill": {
     "duration": 0.635379,
     "end_time": "2022-03-22T00:34:40.241987",
     "exception": false,
     "start_time": "2022-03-22T00:34:39.606608",
     "status": "completed"
    },
    "tags": []
   },
   "outputs": [],
   "source": [
    "#hide\n",
    "COL_REGION = 'Country/Region'\n",
    "# Confirmed, Recovered, Deaths\n",
    "df = get_frame('confirmed')\n",
    "# dft_: timeseries, dfc_: today country agg\n",
    "dft_cases = df\n",
    "dft_deaths = get_frame('deaths')\n",
    "dft_recovered = get_frame('recovered')\n",
    "LAST_DATE_I, dt_cols = get_dates(df)"
   ]
  },
  {
   "cell_type": "code",
   "execution_count": 10,
   "id": "absolute-copper",
   "metadata": {
    "execution": {
     "iopub.execute_input": "2022-03-22T00:34:40.308969Z",
     "iopub.status.busy": "2022-03-22T00:34:40.308356Z",
     "iopub.status.idle": "2022-03-22T00:34:40.309833Z",
     "shell.execute_reply": "2022-03-22T00:34:40.310297Z"
    },
    "papermill": {
     "duration": 0.037368,
     "end_time": "2022-03-22T00:34:40.310439",
     "exception": false,
     "start_time": "2022-03-22T00:34:40.273071",
     "status": "completed"
    },
    "tags": []
   },
   "outputs": [],
   "source": [
    "#hide\n",
    "LAST_DATE_I, dt_cols = get_dates(df)\n",
    "dt_today =dt_cols[LAST_DATE_I]\n",
    "# dt_5day = dt_cols[LAST_DATE_I - 5]\n",
    "dt_yday = dt_cols[LAST_DATE_I - 1]"
   ]
  },
  {
   "cell_type": "code",
   "execution_count": 11,
   "id": "restricted-sheriff",
   "metadata": {
    "execution": {
     "iopub.execute_input": "2022-03-22T00:34:40.379712Z",
     "iopub.status.busy": "2022-03-22T00:34:40.379158Z",
     "iopub.status.idle": "2022-03-22T00:34:40.384804Z",
     "shell.execute_reply": "2022-03-22T00:34:40.384355Z"
    },
    "papermill": {
     "duration": 0.043317,
     "end_time": "2022-03-22T00:34:40.384918",
     "exception": false,
     "start_time": "2022-03-22T00:34:40.341601",
     "status": "completed"
    },
    "tags": []
   },
   "outputs": [],
   "source": [
    "#hide\n",
    "dfc_cases = dft_cases.groupby(COL_REGION)[dt_today].sum()\n",
    "dfc_deaths = dft_deaths.groupby(COL_REGION)[dt_today].sum()\n",
    "# dfp_cases = dft_cases.groupby(COL_REGION)[dt_5day].sum()\n",
    "# dfp_deaths = dft_deaths.groupby(COL_REGION)[dt_5day].sum()\n",
    "dfp_cases = dft_cases.groupby(COL_REGION)[dt_yday].sum()\n",
    "dfp_deaths = dft_deaths.groupby(COL_REGION)[dt_yday].sum()"
   ]
  },
  {
   "cell_type": "code",
   "execution_count": 12,
   "id": "deluxe-hepatitis",
   "metadata": {
    "execution": {
     "iopub.execute_input": "2022-03-22T00:34:40.451845Z",
     "iopub.status.busy": "2022-03-22T00:34:40.451308Z",
     "iopub.status.idle": "2022-03-22T00:34:40.456240Z",
     "shell.execute_reply": "2022-03-22T00:34:40.455818Z"
    },
    "papermill": {
     "duration": 0.041087,
     "end_time": "2022-03-22T00:34:40.456357",
     "exception": false,
     "start_time": "2022-03-22T00:34:40.415270",
     "status": "completed"
    },
    "tags": []
   },
   "outputs": [],
   "source": [
    "#hide\n",
    "df_table = (pd.DataFrame(dict(Cases = dfc_cases, Deaths = dfc_deaths, PCases = dfp_cases, PDeaths = dfp_deaths))\n",
    "            .sort_values(by = ['Cases','Deaths'], ascending = [False, False])\n",
    "            .reset_index())"
   ]
  },
  {
   "cell_type": "code",
   "execution_count": 13,
   "id": "educational-chancellor",
   "metadata": {
    "execution": {
     "iopub.execute_input": "2022-03-22T00:34:40.534906Z",
     "iopub.status.busy": "2022-03-22T00:34:40.534331Z",
     "iopub.status.idle": "2022-03-22T00:34:40.542090Z",
     "shell.execute_reply": "2022-03-22T00:34:40.541673Z"
    },
    "papermill": {
     "duration": 0.055797,
     "end_time": "2022-03-22T00:34:40.542213",
     "exception": false,
     "start_time": "2022-03-22T00:34:40.486416",
     "status": "completed"
    },
    "tags": []
   },
   "outputs": [
    {
     "data": {
      "text/html": [
       "<div>\n",
       "<style scoped>\n",
       "    .dataframe tbody tr th:only-of-type {\n",
       "        vertical-align: middle;\n",
       "    }\n",
       "\n",
       "    .dataframe tbody tr th {\n",
       "        vertical-align: top;\n",
       "    }\n",
       "\n",
       "    .dataframe thead th {\n",
       "        text-align: right;\n",
       "    }\n",
       "</style>\n",
       "<table border=\"1\" class=\"dataframe\">\n",
       "  <thead>\n",
       "    <tr style=\"text-align: right;\">\n",
       "      <th></th>\n",
       "      <th>Country/Region</th>\n",
       "      <th>Cases</th>\n",
       "      <th>Deaths</th>\n",
       "      <th>PCases</th>\n",
       "      <th>PDeaths</th>\n",
       "      <th>Cases (+)</th>\n",
       "      <th>Deaths (+)</th>\n",
       "      <th>Fatality Rate</th>\n",
       "      <th>Continent</th>\n",
       "    </tr>\n",
       "  </thead>\n",
       "  <tbody>\n",
       "    <tr>\n",
       "      <th>0</th>\n",
       "      <td>US</td>\n",
       "      <td>79734788</td>\n",
       "      <td>971162</td>\n",
       "      <td>79728165</td>\n",
       "      <td>971087</td>\n",
       "      <td>6623</td>\n",
       "      <td>75</td>\n",
       "      <td>1.22</td>\n",
       "      <td>North America</td>\n",
       "    </tr>\n",
       "    <tr>\n",
       "      <th>1</th>\n",
       "      <td>India</td>\n",
       "      <td>43009390</td>\n",
       "      <td>516510</td>\n",
       "      <td>43007841</td>\n",
       "      <td>516479</td>\n",
       "      <td>1549</td>\n",
       "      <td>31</td>\n",
       "      <td>1.20</td>\n",
       "      <td>Asia</td>\n",
       "    </tr>\n",
       "    <tr>\n",
       "      <th>2</th>\n",
       "      <td>Brazil</td>\n",
       "      <td>29637814</td>\n",
       "      <td>657495</td>\n",
       "      <td>29624435</td>\n",
       "      <td>657389</td>\n",
       "      <td>13379</td>\n",
       "      <td>106</td>\n",
       "      <td>2.22</td>\n",
       "      <td>South America</td>\n",
       "    </tr>\n",
       "    <tr>\n",
       "      <th>3</th>\n",
       "      <td>France</td>\n",
       "      <td>24323239</td>\n",
       "      <td>141961</td>\n",
       "      <td>24241956</td>\n",
       "      <td>141931</td>\n",
       "      <td>81283</td>\n",
       "      <td>30</td>\n",
       "      <td>0.58</td>\n",
       "      <td>Europe</td>\n",
       "    </tr>\n",
       "    <tr>\n",
       "      <th>4</th>\n",
       "      <td>United Kingdom</td>\n",
       "      <td>20243940</td>\n",
       "      <td>164099</td>\n",
       "      <td>20243940</td>\n",
       "      <td>164099</td>\n",
       "      <td>0</td>\n",
       "      <td>0</td>\n",
       "      <td>0.81</td>\n",
       "      <td>Europe</td>\n",
       "    </tr>\n",
       "  </tbody>\n",
       "</table>\n",
       "</div>"
      ],
      "text/plain": [
       "   Country/Region     Cases  Deaths    PCases  PDeaths  Cases (+)  Deaths (+)  \\\n",
       "0              US  79734788  971162  79728165   971087       6623          75   \n",
       "1           India  43009390  516510  43007841   516479       1549          31   \n",
       "2          Brazil  29637814  657495  29624435   657389      13379         106   \n",
       "3          France  24323239  141961  24241956   141931      81283          30   \n",
       "4  United Kingdom  20243940  164099  20243940   164099          0           0   \n",
       "\n",
       "   Fatality Rate      Continent  \n",
       "0           1.22  North America  \n",
       "1           1.20           Asia  \n",
       "2           2.22  South America  \n",
       "3           0.58         Europe  \n",
       "4           0.81         Europe  "
      ]
     },
     "execution_count": 13,
     "metadata": {},
     "output_type": "execute_result"
    }
   ],
   "source": [
    "#hide\n",
    "for c in 'Cases, Deaths'.split(', '):\n",
    "    df_table[f'{c} (+)'] = (df_table[c] - df_table[f'P{c}']).clip(0)\n",
    "    #Clip ça veut dire, les chiffres negatif sont interdit\n",
    "df_table['Fatality Rate'] = (100* df_table['Deaths']/ df_table['Cases']).round(2)\n",
    "df_table['Continent'] = df_table['Country/Region'].map(mapping['map.continent'])\n",
    "df_table.head(5)"
   ]
  },
  {
   "cell_type": "code",
   "execution_count": 14,
   "id": "aboriginal-bulgaria",
   "metadata": {
    "execution": {
     "iopub.execute_input": "2022-03-22T00:34:40.608907Z",
     "iopub.status.busy": "2022-03-22T00:34:40.608394Z",
     "iopub.status.idle": "2022-03-22T00:34:40.611450Z",
     "shell.execute_reply": "2022-03-22T00:34:40.611005Z"
    },
    "papermill": {
     "duration": 0.038616,
     "end_time": "2022-03-22T00:34:40.611560",
     "exception": false,
     "start_time": "2022-03-22T00:34:40.572944",
     "status": "completed"
    },
    "tags": []
   },
   "outputs": [],
   "source": [
    "#hide\n",
    "#delete problematic countries from table\n",
    "df_table = df_table[~df_table['Country/Region'].isin(['Cape Verde', 'Cruise Ship', 'Kosovo'])]"
   ]
  },
  {
   "cell_type": "code",
   "execution_count": 15,
   "id": "fantastic-effect",
   "metadata": {
    "execution": {
     "iopub.execute_input": "2022-03-22T00:34:40.681545Z",
     "iopub.status.busy": "2022-03-22T00:34:40.681017Z",
     "iopub.status.idle": "2022-03-22T00:34:40.697559Z",
     "shell.execute_reply": "2022-03-22T00:34:40.697969Z"
    },
    "papermill": {
     "duration": 0.055885,
     "end_time": "2022-03-22T00:34:40.698104",
     "exception": false,
     "start_time": "2022-03-22T00:34:40.642219",
     "status": "completed"
    },
    "tags": []
   },
   "outputs": [
    {
     "data": {
      "text/html": [
       "<div>\n",
       "<style scoped>\n",
       "    .dataframe tbody tr th:only-of-type {\n",
       "        vertical-align: middle;\n",
       "    }\n",
       "\n",
       "    .dataframe tbody tr th {\n",
       "        vertical-align: top;\n",
       "    }\n",
       "\n",
       "    .dataframe thead th {\n",
       "        text-align: right;\n",
       "    }\n",
       "</style>\n",
       "<table border=\"1\" class=\"dataframe\">\n",
       "  <thead>\n",
       "    <tr style=\"text-align: right;\">\n",
       "      <th></th>\n",
       "      <th>Country/Region</th>\n",
       "      <th>Cases</th>\n",
       "      <th>Deaths</th>\n",
       "      <th>PCases</th>\n",
       "      <th>PDeaths</th>\n",
       "      <th>Cases (+)</th>\n",
       "      <th>Deaths (+)</th>\n",
       "      <th>Fatality Rate</th>\n",
       "      <th>Continent</th>\n",
       "    </tr>\n",
       "  </thead>\n",
       "  <tbody>\n",
       "    <tr>\n",
       "      <th>0</th>\n",
       "      <td>US</td>\n",
       "      <td>79734788</td>\n",
       "      <td>971162</td>\n",
       "      <td>79728165</td>\n",
       "      <td>971087</td>\n",
       "      <td>6623</td>\n",
       "      <td>75</td>\n",
       "      <td>1.2</td>\n",
       "      <td>North America</td>\n",
       "    </tr>\n",
       "    <tr>\n",
       "      <th>1</th>\n",
       "      <td>India</td>\n",
       "      <td>43009390</td>\n",
       "      <td>516510</td>\n",
       "      <td>43007841</td>\n",
       "      <td>516479</td>\n",
       "      <td>1549</td>\n",
       "      <td>31</td>\n",
       "      <td>1.2</td>\n",
       "      <td>Asia</td>\n",
       "    </tr>\n",
       "    <tr>\n",
       "      <th>2</th>\n",
       "      <td>Brazil</td>\n",
       "      <td>29637814</td>\n",
       "      <td>657495</td>\n",
       "      <td>29624435</td>\n",
       "      <td>657389</td>\n",
       "      <td>13379</td>\n",
       "      <td>106</td>\n",
       "      <td>2.2</td>\n",
       "      <td>South America</td>\n",
       "    </tr>\n",
       "    <tr>\n",
       "      <th>3</th>\n",
       "      <td>France</td>\n",
       "      <td>24323239</td>\n",
       "      <td>141961</td>\n",
       "      <td>24241956</td>\n",
       "      <td>141931</td>\n",
       "      <td>81283</td>\n",
       "      <td>30</td>\n",
       "      <td>0.6</td>\n",
       "      <td>Europe</td>\n",
       "    </tr>\n",
       "    <tr>\n",
       "      <th>4</th>\n",
       "      <td>United Kingdom</td>\n",
       "      <td>20243940</td>\n",
       "      <td>164099</td>\n",
       "      <td>20243940</td>\n",
       "      <td>164099</td>\n",
       "      <td>0</td>\n",
       "      <td>0</td>\n",
       "      <td>0.8</td>\n",
       "      <td>Europe</td>\n",
       "    </tr>\n",
       "  </tbody>\n",
       "</table>\n",
       "</div>"
      ],
      "text/plain": [
       "   Country/Region     Cases  Deaths    PCases  PDeaths  Cases (+)  Deaths (+)  \\\n",
       "0              US  79734788  971162  79728165   971087       6623          75   \n",
       "1           India  43009390  516510  43007841   516479       1549          31   \n",
       "2          Brazil  29637814  657495  29624435   657389      13379         106   \n",
       "3          France  24323239  141961  24241956   141931      81283          30   \n",
       "4  United Kingdom  20243940  164099  20243940   164099          0           0   \n",
       "\n",
       "   Fatality Rate      Continent  \n",
       "0            1.2  North America  \n",
       "1            1.2           Asia  \n",
       "2            2.2  South America  \n",
       "3            0.6         Europe  \n",
       "4            0.8         Europe  "
      ]
     },
     "execution_count": 15,
     "metadata": {},
     "output_type": "execute_result"
    }
   ],
   "source": [
    "#hide\n",
    "df_table = (pd.DataFrame(dict(Cases=dfc_cases, Deaths=dfc_deaths, PCases=dfp_cases, PDeaths=dfp_deaths))\n",
    "             .sort_values(by=['Cases', 'Deaths'], ascending=[False, False])\n",
    "             .reset_index())\n",
    "df_table.rename(columns={'index': 'Country/Region'}, inplace=True)\n",
    "for c in 'Cases, Deaths'.split(', '):\n",
    "    df_table[f'{c} (+)'] = (df_table[c] - df_table[f'P{c}']).clip(0)  # DATA BUG\n",
    "df_table['Fatality Rate'] = (100 * df_table['Deaths'] / df_table['Cases']).round(1)\n",
    "df_table['Continent'] = df_table['Country/Region'].map(mapping['map.continent'])\n",
    "df_table.head(5)"
   ]
  },
  {
   "cell_type": "code",
   "execution_count": 16,
   "id": "fewer-occasion",
   "metadata": {
    "execution": {
     "iopub.execute_input": "2022-03-22T00:34:40.765998Z",
     "iopub.status.busy": "2022-03-22T00:34:40.765468Z",
     "iopub.status.idle": "2022-03-22T00:34:40.768706Z",
     "shell.execute_reply": "2022-03-22T00:34:40.768281Z"
    },
    "papermill": {
     "duration": 0.039334,
     "end_time": "2022-03-22T00:34:40.768821",
     "exception": false,
     "start_time": "2022-03-22T00:34:40.729487",
     "status": "completed"
    },
    "tags": []
   },
   "outputs": [],
   "source": [
    "#hide\n",
    "#delete problematic countries from table\n",
    "df_table = df_table[~df_table['Country/Region'].isin(['Cape Verde', 'Cruise Ship', 'Kosovo'])]"
   ]
  },
  {
   "cell_type": "code",
   "execution_count": 17,
   "id": "related-center",
   "metadata": {
    "execution": {
     "iopub.execute_input": "2022-03-22T00:34:40.839166Z",
     "iopub.status.busy": "2022-03-22T00:34:40.838600Z",
     "iopub.status.idle": "2022-03-22T00:34:40.850715Z",
     "shell.execute_reply": "2022-03-22T00:34:40.850287Z"
    },
    "papermill": {
     "duration": 0.050873,
     "end_time": "2022-03-22T00:34:40.850831",
     "exception": false,
     "start_time": "2022-03-22T00:34:40.799958",
     "status": "completed"
    },
    "tags": []
   },
   "outputs": [],
   "source": [
    "#hide\n",
    "metrics = [df_table.columns[index] for index in [1,2,5,6]]\n",
    "# s_china = df_table[df_table['Country/Region'].eq('China')][metrics].sum().add_prefix('China ')\n",
    "s_us = df_table[df_table['Country/Region'].eq('US')][metrics].sum().add_prefix('US ')\n",
    "s_eu = df_table[df_table['Continent'].eq('Europe')][metrics].sum().add_prefix('EU ')\n",
    "s_ind = df_table[df_table['Country/Region'].eq('India')][metrics].sum().add_prefix('India ')\n",
    "summary = {'updated': pd.to_datetime(dt_today), 'since': pd.to_datetime(dt_yday)}\n",
    "summary = {'updated': pd.to_datetime(dt_today), 'since': pd.to_datetime(dt_yday)}\n",
    "summary = {**summary, **df_table[metrics].sum(), **s_ind, **s_us, **s_eu}"
   ]
  },
  {
   "cell_type": "code",
   "execution_count": 18,
   "id": "engaging-syndrome",
   "metadata": {
    "execution": {
     "iopub.execute_input": "2022-03-22T00:34:40.918624Z",
     "iopub.status.busy": "2022-03-22T00:34:40.918099Z",
     "iopub.status.idle": "2022-03-22T00:34:40.936301Z",
     "shell.execute_reply": "2022-03-22T00:34:40.935847Z"
    },
    "papermill": {
     "duration": 0.054248,
     "end_time": "2022-03-22T00:34:40.936422",
     "exception": false,
     "start_time": "2022-03-22T00:34:40.882174",
     "status": "completed"
    },
    "tags": []
   },
   "outputs": [],
   "source": [
    "#hide\n",
    "dft_ct_new_cases = dft_cases.groupby(COL_REGION)[dt_cols].sum().diff(axis=1).fillna(0).astype(int)"
   ]
  },
  {
   "cell_type": "code",
   "execution_count": 19,
   "id": "neutral-assignment",
   "metadata": {
    "execution": {
     "iopub.execute_input": "2022-03-22T00:34:41.002906Z",
     "iopub.status.busy": "2022-03-22T00:34:41.002364Z",
     "iopub.status.idle": "2022-03-22T00:34:41.007309Z",
     "shell.execute_reply": "2022-03-22T00:34:41.006881Z"
    },
    "papermill": {
     "duration": 0.039852,
     "end_time": "2022-03-22T00:34:41.007423",
     "exception": false,
     "start_time": "2022-03-22T00:34:40.967571",
     "status": "completed"
    },
    "tags": []
   },
   "outputs": [],
   "source": [
    "#hide\n",
    "everydaycases = dft_ct_new_cases.cumsum(axis=1)"
   ]
  },
  {
   "cell_type": "code",
   "execution_count": 20,
   "id": "parliamentary-calgary",
   "metadata": {
    "execution": {
     "iopub.execute_input": "2022-03-22T00:34:41.074703Z",
     "iopub.status.busy": "2022-03-22T00:34:41.074161Z",
     "iopub.status.idle": "2022-03-22T00:34:41.683914Z",
     "shell.execute_reply": "2022-03-22T00:34:41.683377Z"
    },
    "papermill": {
     "duration": 0.645221,
     "end_time": "2022-03-22T00:34:41.684050",
     "exception": false,
     "start_time": "2022-03-22T00:34:41.038829",
     "status": "completed"
    },
    "tags": []
   },
   "outputs": [],
   "source": [
    "#hide\n",
    "import pandas as pd\n",
    "import matplotlib.pyplot as plt\n",
    "import matplotlib.ticker as ticker\n",
    "import matplotlib.animation as animation\n",
    "from IPython.display import HTML"
   ]
  },
  {
   "cell_type": "code",
   "execution_count": 21,
   "id": "lasting-extraction",
   "metadata": {
    "execution": {
     "iopub.execute_input": "2022-03-22T00:34:41.752861Z",
     "iopub.status.busy": "2022-03-22T00:34:41.752334Z",
     "iopub.status.idle": "2022-03-22T00:34:41.759049Z",
     "shell.execute_reply": "2022-03-22T00:34:41.758598Z"
    },
    "papermill": {
     "duration": 0.043896,
     "end_time": "2022-03-22T00:34:41.759168",
     "exception": false,
     "start_time": "2022-03-22T00:34:41.715272",
     "status": "completed"
    },
    "tags": []
   },
   "outputs": [],
   "source": [
    "#hide\n",
    "t = everydaycases.stack()"
   ]
  },
  {
   "cell_type": "code",
   "execution_count": 22,
   "id": "premier-sleeve",
   "metadata": {
    "execution": {
     "iopub.execute_input": "2022-03-22T00:34:41.825931Z",
     "iopub.status.busy": "2022-03-22T00:34:41.825406Z",
     "iopub.status.idle": "2022-03-22T00:34:41.836156Z",
     "shell.execute_reply": "2022-03-22T00:34:41.835729Z"
    },
    "papermill": {
     "duration": 0.045847,
     "end_time": "2022-03-22T00:34:41.836271",
     "exception": false,
     "start_time": "2022-03-22T00:34:41.790424",
     "status": "completed"
    },
    "tags": []
   },
   "outputs": [],
   "source": [
    "#hide\n",
    "g = t.reset_index(['Country/Region'])"
   ]
  },
  {
   "cell_type": "code",
   "execution_count": 23,
   "id": "distributed-pittsburgh",
   "metadata": {
    "execution": {
     "iopub.execute_input": "2022-03-22T00:34:41.902718Z",
     "iopub.status.busy": "2022-03-22T00:34:41.902117Z",
     "iopub.status.idle": "2022-03-22T00:34:41.903686Z",
     "shell.execute_reply": "2022-03-22T00:34:41.904120Z"
    },
    "papermill": {
     "duration": 0.03697,
     "end_time": "2022-03-22T00:34:41.904267",
     "exception": false,
     "start_time": "2022-03-22T00:34:41.867297",
     "status": "completed"
    },
    "tags": []
   },
   "outputs": [],
   "source": [
    "#hide\n",
    "g.index.name = 'date'"
   ]
  },
  {
   "cell_type": "code",
   "execution_count": 24,
   "id": "naked-donor",
   "metadata": {
    "execution": {
     "iopub.execute_input": "2022-03-22T00:34:41.971712Z",
     "iopub.status.busy": "2022-03-22T00:34:41.971162Z",
     "iopub.status.idle": "2022-03-22T00:34:41.973254Z",
     "shell.execute_reply": "2022-03-22T00:34:41.972745Z"
    },
    "papermill": {
     "duration": 0.03671,
     "end_time": "2022-03-22T00:34:41.973365",
     "exception": false,
     "start_time": "2022-03-22T00:34:41.936655",
     "status": "completed"
    },
    "tags": []
   },
   "outputs": [],
   "source": [
    "# #hide\n",
    "# g = g.reset_index(['date'])"
   ]
  },
  {
   "cell_type": "code",
   "execution_count": 25,
   "id": "incomplete-mustang",
   "metadata": {
    "execution": {
     "iopub.execute_input": "2022-03-22T00:34:42.039408Z",
     "iopub.status.busy": "2022-03-22T00:34:42.038750Z",
     "iopub.status.idle": "2022-03-22T00:34:42.041798Z",
     "shell.execute_reply": "2022-03-22T00:34:42.041237Z"
    },
    "papermill": {
     "duration": 0.037417,
     "end_time": "2022-03-22T00:34:42.041917",
     "exception": false,
     "start_time": "2022-03-22T00:34:42.004500",
     "status": "completed"
    },
    "tags": []
   },
   "outputs": [],
   "source": [
    "#hide\n",
    "# g.head()"
   ]
  },
  {
   "cell_type": "code",
   "execution_count": 26,
   "id": "specific-kruger",
   "metadata": {
    "execution": {
     "iopub.execute_input": "2022-03-22T00:34:42.108169Z",
     "iopub.status.busy": "2022-03-22T00:34:42.107552Z",
     "iopub.status.idle": "2022-03-22T00:34:42.111015Z",
     "shell.execute_reply": "2022-03-22T00:34:42.111464Z"
    },
    "papermill": {
     "duration": 0.038389,
     "end_time": "2022-03-22T00:34:42.111614",
     "exception": false,
     "start_time": "2022-03-22T00:34:42.073225",
     "status": "completed"
    },
    "tags": []
   },
   "outputs": [],
   "source": [
    "#hide\n",
    "# g.columns = ['date','country','cases']"
   ]
  },
  {
   "cell_type": "code",
   "execution_count": 27,
   "id": "tender-conversion",
   "metadata": {
    "execution": {
     "iopub.execute_input": "2022-03-22T00:34:42.177828Z",
     "iopub.status.busy": "2022-03-22T00:34:42.177217Z",
     "iopub.status.idle": "2022-03-22T00:34:42.179254Z",
     "shell.execute_reply": "2022-03-22T00:34:42.178652Z"
    },
    "papermill": {
     "duration": 0.036581,
     "end_time": "2022-03-22T00:34:42.179378",
     "exception": false,
     "start_time": "2022-03-22T00:34:42.142797",
     "status": "completed"
    },
    "tags": []
   },
   "outputs": [],
   "source": [
    "#hide\n",
    "# g['continent'] = g.country"
   ]
  },
  {
   "cell_type": "code",
   "execution_count": 28,
   "id": "substantial-wilderness",
   "metadata": {
    "execution": {
     "iopub.execute_input": "2022-03-22T00:34:42.246468Z",
     "iopub.status.busy": "2022-03-22T00:34:42.245920Z",
     "iopub.status.idle": "2022-03-22T00:34:42.248040Z",
     "shell.execute_reply": "2022-03-22T00:34:42.247624Z"
    },
    "papermill": {
     "duration": 0.036637,
     "end_time": "2022-03-22T00:34:42.248153",
     "exception": false,
     "start_time": "2022-03-22T00:34:42.211516",
     "status": "completed"
    },
    "tags": []
   },
   "outputs": [],
   "source": [
    "#hide\n",
    "# cols = list(g.columns.values)"
   ]
  },
  {
   "cell_type": "code",
   "execution_count": 29,
   "id": "solved-farming",
   "metadata": {
    "execution": {
     "iopub.execute_input": "2022-03-22T00:34:42.314243Z",
     "iopub.status.busy": "2022-03-22T00:34:42.313630Z",
     "iopub.status.idle": "2022-03-22T00:34:42.317442Z",
     "shell.execute_reply": "2022-03-22T00:34:42.317030Z"
    },
    "papermill": {
     "duration": 0.038191,
     "end_time": "2022-03-22T00:34:42.317552",
     "exception": false,
     "start_time": "2022-03-22T00:34:42.279361",
     "status": "completed"
    },
    "tags": []
   },
   "outputs": [],
   "source": [
    "#hide\n",
    "# cols.insert(0, cols.pop())"
   ]
  },
  {
   "cell_type": "code",
   "execution_count": 30,
   "id": "executed-adoption",
   "metadata": {
    "execution": {
     "iopub.execute_input": "2022-03-22T00:34:42.383766Z",
     "iopub.status.busy": "2022-03-22T00:34:42.383146Z",
     "iopub.status.idle": "2022-03-22T00:34:42.385083Z",
     "shell.execute_reply": "2022-03-22T00:34:42.384511Z"
    },
    "papermill": {
     "duration": 0.036556,
     "end_time": "2022-03-22T00:34:42.385203",
     "exception": false,
     "start_time": "2022-03-22T00:34:42.348647",
     "status": "completed"
    },
    "tags": []
   },
   "outputs": [],
   "source": [
    "#hide\n",
    "# g = g[cols]"
   ]
  },
  {
   "cell_type": "code",
   "execution_count": 31,
   "id": "subject-dublin",
   "metadata": {
    "execution": {
     "iopub.execute_input": "2022-03-22T00:34:42.450166Z",
     "iopub.status.busy": "2022-03-22T00:34:42.449648Z",
     "iopub.status.idle": "2022-03-22T00:34:42.452968Z",
     "shell.execute_reply": "2022-03-22T00:34:42.452554Z"
    },
    "papermill": {
     "duration": 0.036522,
     "end_time": "2022-03-22T00:34:42.453080",
     "exception": false,
     "start_time": "2022-03-22T00:34:42.416558",
     "status": "completed"
    },
    "tags": []
   },
   "outputs": [],
   "source": [
    "#hide\n",
    "# g['continent'] = g['continent'].map(mapping['map.continent'])"
   ]
  },
  {
   "cell_type": "code",
   "execution_count": 32,
   "id": "freelance-scout",
   "metadata": {
    "execution": {
     "iopub.execute_input": "2022-03-22T00:34:42.519416Z",
     "iopub.status.busy": "2022-03-22T00:34:42.518754Z",
     "iopub.status.idle": "2022-03-22T00:34:42.520168Z",
     "shell.execute_reply": "2022-03-22T00:34:42.520602Z"
    },
    "papermill": {
     "duration": 0.036531,
     "end_time": "2022-03-22T00:34:42.520727",
     "exception": false,
     "start_time": "2022-03-22T00:34:42.484196",
     "status": "completed"
    },
    "tags": []
   },
   "outputs": [],
   "source": [
    "#hide\n",
    "# g.head()"
   ]
  },
  {
   "cell_type": "code",
   "execution_count": 33,
   "id": "limited-engine",
   "metadata": {
    "execution": {
     "iopub.execute_input": "2022-03-22T00:34:42.586065Z",
     "iopub.status.busy": "2022-03-22T00:34:42.585457Z",
     "iopub.status.idle": "2022-03-22T00:34:42.586981Z",
     "shell.execute_reply": "2022-03-22T00:34:42.587450Z"
    },
    "papermill": {
     "duration": 0.036098,
     "end_time": "2022-03-22T00:34:42.587597",
     "exception": false,
     "start_time": "2022-03-22T00:34:42.551499",
     "status": "completed"
    },
    "tags": []
   },
   "outputs": [],
   "source": [
    "# hide\n",
    "# g['date'] = g['date'].astype('datetime64[ns]')"
   ]
  },
  {
   "cell_type": "code",
   "execution_count": 34,
   "id": "sophisticated-supervisor",
   "metadata": {
    "execution": {
     "iopub.execute_input": "2022-03-22T00:34:42.653919Z",
     "iopub.status.busy": "2022-03-22T00:34:42.653385Z",
     "iopub.status.idle": "2022-03-22T00:34:42.655605Z",
     "shell.execute_reply": "2022-03-22T00:34:42.655185Z"
    },
    "papermill": {
     "duration": 0.03643,
     "end_time": "2022-03-22T00:34:42.655715",
     "exception": false,
     "start_time": "2022-03-22T00:34:42.619285",
     "status": "completed"
    },
    "tags": []
   },
   "outputs": [],
   "source": [
    "#hide\n",
    "# g['date'] = g.date.dt.dayofyear"
   ]
  },
  {
   "cell_type": "code",
   "execution_count": 35,
   "id": "inside-dubai",
   "metadata": {
    "execution": {
     "iopub.execute_input": "2022-03-22T00:34:42.721637Z",
     "iopub.status.busy": "2022-03-22T00:34:42.721020Z",
     "iopub.status.idle": "2022-03-22T00:34:42.722507Z",
     "shell.execute_reply": "2022-03-22T00:34:42.722996Z"
    },
    "papermill": {
     "duration": 0.036548,
     "end_time": "2022-03-22T00:34:42.723145",
     "exception": false,
     "start_time": "2022-03-22T00:34:42.686597",
     "status": "completed"
    },
    "tags": []
   },
   "outputs": [],
   "source": [
    "#hide\n",
    "# g = g.rename(columns= {'continent':'group','country':'name','cases':'value'})"
   ]
  },
  {
   "cell_type": "code",
   "execution_count": 36,
   "id": "fleet-motorcycle",
   "metadata": {
    "execution": {
     "iopub.execute_input": "2022-03-22T00:34:42.789291Z",
     "iopub.status.busy": "2022-03-22T00:34:42.788685Z",
     "iopub.status.idle": "2022-03-22T00:34:42.790192Z",
     "shell.execute_reply": "2022-03-22T00:34:42.790656Z"
    },
    "papermill": {
     "duration": 0.036448,
     "end_time": "2022-03-22T00:34:42.790800",
     "exception": false,
     "start_time": "2022-03-22T00:34:42.754352",
     "status": "completed"
    },
    "tags": []
   },
   "outputs": [],
   "source": [
    "#hide\n",
    "# cols = ['name','group','day','value']"
   ]
  },
  {
   "cell_type": "code",
   "execution_count": 37,
   "id": "continued-sleeping",
   "metadata": {
    "execution": {
     "iopub.execute_input": "2022-03-22T00:34:42.857196Z",
     "iopub.status.busy": "2022-03-22T00:34:42.856654Z",
     "iopub.status.idle": "2022-03-22T00:34:42.858695Z",
     "shell.execute_reply": "2022-03-22T00:34:42.858281Z"
    },
    "papermill": {
     "duration": 0.036323,
     "end_time": "2022-03-22T00:34:42.858806",
     "exception": false,
     "start_time": "2022-03-22T00:34:42.822483",
     "status": "completed"
    },
    "tags": []
   },
   "outputs": [],
   "source": [
    "#hide\n",
    "# g.rename(columns= {'date':'day'},inplace = True)"
   ]
  },
  {
   "cell_type": "code",
   "execution_count": 38,
   "id": "major-fight",
   "metadata": {
    "execution": {
     "iopub.execute_input": "2022-03-22T00:34:42.925371Z",
     "iopub.status.busy": "2022-03-22T00:34:42.924751Z",
     "iopub.status.idle": "2022-03-22T00:34:42.926236Z",
     "shell.execute_reply": "2022-03-22T00:34:42.926717Z"
    },
    "papermill": {
     "duration": 0.036668,
     "end_time": "2022-03-22T00:34:42.926863",
     "exception": false,
     "start_time": "2022-03-22T00:34:42.890195",
     "status": "completed"
    },
    "tags": []
   },
   "outputs": [],
   "source": [
    "#hide\n",
    "# g = g[cols]"
   ]
  },
  {
   "cell_type": "code",
   "execution_count": 39,
   "id": "structured-mobile",
   "metadata": {
    "execution": {
     "iopub.execute_input": "2022-03-22T00:34:42.993111Z",
     "iopub.status.busy": "2022-03-22T00:34:42.992502Z",
     "iopub.status.idle": "2022-03-22T00:34:42.993971Z",
     "shell.execute_reply": "2022-03-22T00:34:42.994462Z"
    },
    "papermill": {
     "duration": 0.036436,
     "end_time": "2022-03-22T00:34:42.994604",
     "exception": false,
     "start_time": "2022-03-22T00:34:42.958168",
     "status": "completed"
    },
    "tags": []
   },
   "outputs": [],
   "source": [
    "# #hide\n",
    "# g = g[g.group.notna()]"
   ]
  },
  {
   "cell_type": "code",
   "execution_count": 40,
   "id": "determined-closing",
   "metadata": {
    "execution": {
     "iopub.execute_input": "2022-03-22T00:34:43.061498Z",
     "iopub.status.busy": "2022-03-22T00:34:43.060934Z",
     "iopub.status.idle": "2022-03-22T00:34:43.062655Z",
     "shell.execute_reply": "2022-03-22T00:34:43.063063Z"
    },
    "papermill": {
     "duration": 0.036999,
     "end_time": "2022-03-22T00:34:43.063197",
     "exception": false,
     "start_time": "2022-03-22T00:34:43.026198",
     "status": "completed"
    },
    "tags": []
   },
   "outputs": [],
   "source": [
    "# #hide\n",
    "# colors = dict(zip(\n",
    "#     [\"Oceania\", \"Europe\", \"Asia\", \"South America\", \"Middle East\", \"North America\", \"Africa\"],\n",
    "#     [\"#adb0ff\", \"#ffb3ff\", \"#90d595\", \"#e48381\", \"#aafbff\", \"#f7bb5f\", \"#eafb50\"]\n",
    "# ))\n",
    "# group_lk = g.set_index('name')['group'].to_dict()"
   ]
  },
  {
   "cell_type": "code",
   "execution_count": null,
   "id": "gross-drinking",
   "metadata": {
    "papermill": {
     "duration": 0.030949,
     "end_time": "2022-03-22T00:34:43.124936",
     "exception": false,
     "start_time": "2022-03-22T00:34:43.093987",
     "status": "completed"
    },
    "tags": []
   },
   "outputs": [],
   "source": []
  },
  {
   "cell_type": "code",
   "execution_count": 41,
   "id": "subject-macintosh",
   "metadata": {
    "execution": {
     "iopub.execute_input": "2022-03-22T00:34:43.191305Z",
     "iopub.status.busy": "2022-03-22T00:34:43.190718Z",
     "iopub.status.idle": "2022-03-22T00:34:43.192732Z",
     "shell.execute_reply": "2022-03-22T00:34:43.192321Z"
    },
    "papermill": {
     "duration": 0.036965,
     "end_time": "2022-03-22T00:34:43.192845",
     "exception": false,
     "start_time": "2022-03-22T00:34:43.155880",
     "status": "completed"
    },
    "tags": []
   },
   "outputs": [],
   "source": [
    "# #hide\n",
    "# fig, ax = plt.subplots(figsize=(15, 8))\n",
    "\n",
    "# def draw_barchart(current_day):\n",
    "#     dff = g[g['day'].eq(current_day)].sort_values(by='value', ascending=True).tail(10)\n",
    "#     ax.clear()\n",
    "#     ax.barh(dff['name'], dff['value'], color=[colors[group_lk[x]] for x in dff['name']])\n",
    "#     dx = dff['value'].max() / 200\n",
    "    \n",
    "#     for i, (value, name) in enumerate(zip(dff['value'], dff['name'])):\n",
    "#         ax.text(value-dx, i,     name,           size=14, weight=600, ha='right', va='bottom')\n",
    "#         ax.text(value-dx, i-.25, group_lk[name], size=10, color='#444444', ha='right', va='baseline')\n",
    "#         ax.text(value+dx, i,     f'{value:,.0f}',  size=14, ha='left',  va='center')\n",
    "#     ax.text(1, 0.4, current_day, transform=ax.transAxes, color='#777777', size=46, ha='right', weight=800)\n",
    "#     ax.text(0, 1.06, 'Population (thousands)', transform=ax.transAxes, size=12, color='#777777')\n",
    "#     ax.xaxis.set_major_formatter(ticker.StrMethodFormatter('{x:,.0f}'))\n",
    "#     ax.xaxis.set_ticks_position('top')\n",
    "#     ax.tick_params(axis='x', colors='#777777', labelsize=12)\n",
    "#     ax.set_yticks([])\n",
    "#     ax.margins(0, 0.01)\n",
    "#     ax.grid(which='major', axis='x', linestyle='-')\n",
    "#     ax.set_axisbelow(True)\n",
    "    \n",
    "#     ax.text(0, 1.15, 'Coronavirus',\n",
    "#             transform=ax.transAxes, size=24, weight=600, ha='left', va='top')\n",
    "# #     ax.text(1, 0, 'by @pratapvardhan; credit @jburnmurdoch', transform=ax.transAxes, color='#777777', ha='right',\n",
    "# #             bbox=dict(facecolor='white', alpha=0.8, edgecolor='white'))\n",
    "#     plt.box(False)"
   ]
  },
  {
   "cell_type": "code",
   "execution_count": 42,
   "id": "sexual-wages",
   "metadata": {
    "execution": {
     "iopub.execute_input": "2022-03-22T00:34:43.258931Z",
     "iopub.status.busy": "2022-03-22T00:34:43.258287Z",
     "iopub.status.idle": "2022-03-22T00:34:43.261840Z",
     "shell.execute_reply": "2022-03-22T00:34:43.261370Z"
    },
    "papermill": {
     "duration": 0.038073,
     "end_time": "2022-03-22T00:34:43.261962",
     "exception": false,
     "start_time": "2022-03-22T00:34:43.223889",
     "status": "completed"
    },
    "tags": []
   },
   "outputs": [],
   "source": [
    "# #hide_input\n",
    "# fig, ax = plt.subplots(figsize=(15, 8))\n",
    "# animator = animation.FuncAnimation(fig, draw_barchart, frames=range(g.day.values.min(), g.day.values.max()))\n",
    "# HTML(animator.to_jshtml())\n",
    "# # or use animator.to_html5_video() or animator.save() "
   ]
  },
  {
   "cell_type": "code",
   "execution_count": null,
   "id": "australian-container",
   "metadata": {
    "papermill": {
     "duration": 0.030921,
     "end_time": "2022-03-22T00:34:43.324023",
     "exception": false,
     "start_time": "2022-03-22T00:34:43.293102",
     "status": "completed"
    },
    "tags": []
   },
   "outputs": [],
   "source": []
  },
  {
   "cell_type": "code",
   "execution_count": null,
   "id": "mediterranean-pontiac",
   "metadata": {
    "papermill": {
     "duration": 0.030713,
     "end_time": "2022-03-22T00:34:43.385555",
     "exception": false,
     "start_time": "2022-03-22T00:34:43.354842",
     "status": "completed"
    },
    "tags": []
   },
   "outputs": [],
   "source": []
  },
  {
   "cell_type": "code",
   "execution_count": null,
   "id": "aging-legislature",
   "metadata": {
    "papermill": {
     "duration": 0.03088,
     "end_time": "2022-03-22T00:34:43.447606",
     "exception": false,
     "start_time": "2022-03-22T00:34:43.416726",
     "status": "completed"
    },
    "tags": []
   },
   "outputs": [],
   "source": []
  }
 ],
 "metadata": {
  "kernelspec": {
   "display_name": "Python 3",
   "language": "python",
   "name": "python3"
  },
  "language_info": {
   "codemirror_mode": {
    "name": "ipython",
    "version": 3
   },
   "file_extension": ".py",
   "mimetype": "text/x-python",
   "name": "python",
   "nbconvert_exporter": "python",
   "pygments_lexer": "ipython3",
   "version": "3.6.15"
  },
  "papermill": {
   "duration": 6.257051,
   "end_time": "2022-03-22T00:34:43.896951",
   "environment_variables": {},
   "exception": null,
   "input_path": "2020-03-21-covid19exp.ipynb",
   "output_path": "2020-03-21-covid19exp.ipynb",
   "parameters": {},
   "start_time": "2022-03-22T00:34:37.639900",
   "version": "2.0.0"
  }
 },
 "nbformat": 4,
 "nbformat_minor": 5
}