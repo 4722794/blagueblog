{
 "cells": [
  {
   "cell_type": "markdown",
   "metadata": {
    "papermill": {
     "duration": 0.042632,
     "end_time": "2020-12-05T12:07:01.296098",
     "exception": false,
     "start_time": "2020-12-05T12:07:01.253466",
     "status": "completed"
    },
    "tags": []
   },
   "source": [
    "# COVID-19 Case Race\n",
    "> A race chart to see rising cases around the world\n",
    "\n",
    "- author: Hargun Oberoi\n",
    "- image: images/covid-overview.png\n",
    "- hide: false\n",
    "- badges: false"
   ]
  },
  {
   "cell_type": "code",
   "execution_count": 1,
   "metadata": {
    "execution": {
     "iopub.execute_input": "2020-12-05T12:07:01.369171Z",
     "iopub.status.busy": "2020-12-05T12:07:01.368543Z",
     "iopub.status.idle": "2020-12-05T12:07:01.719518Z",
     "shell.execute_reply": "2020-12-05T12:07:01.718515Z"
    },
    "papermill": {
     "duration": 0.388586,
     "end_time": "2020-12-05T12:07:01.719687",
     "exception": false,
     "start_time": "2020-12-05T12:07:01.331101",
     "status": "completed"
    },
    "tags": []
   },
   "outputs": [],
   "source": [
    "#hide\n",
    "import numpy as np\n",
    "import pandas as pd\n",
    "from jinja2 import Template\n",
    "from IPython.display import HTML"
   ]
  },
  {
   "cell_type": "code",
   "execution_count": 2,
   "metadata": {
    "execution": {
     "iopub.execute_input": "2020-12-05T12:07:01.804554Z",
     "iopub.status.busy": "2020-12-05T12:07:01.803699Z",
     "iopub.status.idle": "2020-12-05T12:07:01.806492Z",
     "shell.execute_reply": "2020-12-05T12:07:01.805972Z"
    },
    "papermill": {
     "duration": 0.04954,
     "end_time": "2020-12-05T12:07:01.806620",
     "exception": false,
     "start_time": "2020-12-05T12:07:01.757080",
     "status": "completed"
    },
    "tags": []
   },
   "outputs": [],
   "source": [
    "#hide\n",
    "\n",
    "# FETCH\n",
    "base_url = 'https://raw.githubusercontent.com/pratapvardhan/notebooks/master/covid19/'\n",
    "paths = {\n",
    "    'mapping': base_url + 'mapping_countries.csv',\n",
    "    'overview': base_url + 'overview.tpl'\n",
    "}"
   ]
  },
  {
   "cell_type": "code",
   "execution_count": 3,
   "metadata": {
    "execution": {
     "iopub.execute_input": "2020-12-05T12:07:01.884663Z",
     "iopub.status.busy": "2020-12-05T12:07:01.884058Z",
     "iopub.status.idle": "2020-12-05T12:07:01.887032Z",
     "shell.execute_reply": "2020-12-05T12:07:01.887486Z"
    },
    "papermill": {
     "duration": 0.042218,
     "end_time": "2020-12-05T12:07:01.887616",
     "exception": false,
     "start_time": "2020-12-05T12:07:01.845398",
     "status": "completed"
    },
    "tags": []
   },
   "outputs": [
    {
     "data": {
      "text/plain": [
       "'https://raw.githubusercontent.com/pratapvardhan/notebooks/master/covid19/mapping_countries.csv'"
      ]
     },
     "execution_count": 3,
     "metadata": {},
     "output_type": "execute_result"
    }
   ],
   "source": [
    "#hide\n",
    "paths['mapping']"
   ]
  },
  {
   "cell_type": "code",
   "execution_count": 4,
   "metadata": {
    "execution": {
     "iopub.execute_input": "2020-12-05T12:07:01.959750Z",
     "iopub.status.busy": "2020-12-05T12:07:01.958271Z",
     "iopub.status.idle": "2020-12-05T12:07:01.960776Z",
     "shell.execute_reply": "2020-12-05T12:07:01.961349Z"
    },
    "papermill": {
     "duration": 0.042709,
     "end_time": "2020-12-05T12:07:01.961483",
     "exception": false,
     "start_time": "2020-12-05T12:07:01.918774",
     "status": "completed"
    },
    "tags": []
   },
   "outputs": [],
   "source": [
    "#hide\n",
    "def get_mappings(url):\n",
    "    df = pd.read_csv(url)\n",
    "    return {\n",
    "        'df': df,\n",
    "        'replace.country': dict(df.dropna(subset=['Name']).set_index('Country')['Name']),\n",
    "        'map.continent': dict(df.set_index('Name')['Continent'])\n",
    "    }"
   ]
  },
  {
   "cell_type": "code",
   "execution_count": 5,
   "metadata": {
    "execution": {
     "iopub.execute_input": "2020-12-05T12:07:02.026820Z",
     "iopub.status.busy": "2020-12-05T12:07:02.026143Z",
     "iopub.status.idle": "2020-12-05T12:07:02.071164Z",
     "shell.execute_reply": "2020-12-05T12:07:02.070467Z"
    },
    "papermill": {
     "duration": 0.079445,
     "end_time": "2020-12-05T12:07:02.071318",
     "exception": false,
     "start_time": "2020-12-05T12:07:01.991873",
     "status": "completed"
    },
    "tags": []
   },
   "outputs": [],
   "source": [
    "#hide\n",
    "mapping = get_mappings(paths['mapping'])"
   ]
  },
  {
   "cell_type": "code",
   "execution_count": 6,
   "metadata": {
    "execution": {
     "iopub.execute_input": "2020-12-05T12:07:02.148266Z",
     "iopub.status.busy": "2020-12-05T12:07:02.147415Z",
     "iopub.status.idle": "2020-12-05T12:07:02.150318Z",
     "shell.execute_reply": "2020-12-05T12:07:02.149705Z"
    },
    "papermill": {
     "duration": 0.041204,
     "end_time": "2020-12-05T12:07:02.150443",
     "exception": false,
     "start_time": "2020-12-05T12:07:02.109239",
     "status": "completed"
    },
    "tags": []
   },
   "outputs": [],
   "source": [
    "#hide\n",
    "def get_template(path):\n",
    "    from urllib.parse import urlparse\n",
    "    if bool(urlparse(path).netloc):\n",
    "        from urllib.request import urlopen\n",
    "        return urlopen(path).read().decode('utf8')\n",
    "    return open(path).read()"
   ]
  },
  {
   "cell_type": "code",
   "execution_count": 7,
   "metadata": {
    "execution": {
     "iopub.execute_input": "2020-12-05T12:07:02.219137Z",
     "iopub.status.busy": "2020-12-05T12:07:02.218542Z",
     "iopub.status.idle": "2020-12-05T12:07:02.221395Z",
     "shell.execute_reply": "2020-12-05T12:07:02.220678Z"
    },
    "papermill": {
     "duration": 0.0391,
     "end_time": "2020-12-05T12:07:02.221571",
     "exception": false,
     "start_time": "2020-12-05T12:07:02.182471",
     "status": "completed"
    },
    "tags": []
   },
   "outputs": [],
   "source": [
    "#hide\n",
    "def get_frame(name):\n",
    "    url = (\n",
    "        'https://raw.githubusercontent.com/CSSEGISandData/COVID-19/master/csse_covid_19_data/'\n",
    "        f'csse_covid_19_time_series/time_series_covid19_{name}_global.csv')\n",
    "    df = pd.read_csv(url)\n",
    "    # rename countries\n",
    "    df['Country/Region'] = df['Country/Region'].replace(mapping['replace.country'])\n",
    "    return df"
   ]
  },
  {
   "cell_type": "code",
   "execution_count": 8,
   "metadata": {
    "execution": {
     "iopub.execute_input": "2020-12-05T12:07:02.291976Z",
     "iopub.status.busy": "2020-12-05T12:07:02.291091Z",
     "iopub.status.idle": "2020-12-05T12:07:02.293514Z",
     "shell.execute_reply": "2020-12-05T12:07:02.292985Z"
    },
    "papermill": {
     "duration": 0.037545,
     "end_time": "2020-12-05T12:07:02.293629",
     "exception": false,
     "start_time": "2020-12-05T12:07:02.256084",
     "status": "completed"
    },
    "tags": []
   },
   "outputs": [],
   "source": [
    "#hide\n",
    "def get_dates(df):\n",
    "    dt_cols = df.columns[~df.columns.isin(['Province/State', 'Country/Region', 'Lat', 'Long'])]\n",
    "    LAST_DATE_I = -1\n",
    "    # sometimes last column may be empty, then go backwards\n",
    "    for i in range(-1, -len(dt_cols), -1):\n",
    "        if not df[dt_cols[i]].fillna(0).eq(0).all():\n",
    "            LAST_DATE_I = i\n",
    "            break\n",
    "    return LAST_DATE_I, dt_cols"
   ]
  },
  {
   "cell_type": "code",
   "execution_count": 9,
   "metadata": {
    "execution": {
     "iopub.execute_input": "2020-12-05T12:07:02.367079Z",
     "iopub.status.busy": "2020-12-05T12:07:02.366425Z",
     "iopub.status.idle": "2020-12-05T12:07:02.701880Z",
     "shell.execute_reply": "2020-12-05T12:07:02.701292Z"
    },
    "papermill": {
     "duration": 0.373508,
     "end_time": "2020-12-05T12:07:02.702031",
     "exception": false,
     "start_time": "2020-12-05T12:07:02.328523",
     "status": "completed"
    },
    "tags": []
   },
   "outputs": [],
   "source": [
    "#hide\n",
    "COL_REGION = 'Country/Region'\n",
    "# Confirmed, Recovered, Deaths\n",
    "df = get_frame('confirmed')\n",
    "# dft_: timeseries, dfc_: today country agg\n",
    "dft_cases = df\n",
    "dft_deaths = get_frame('deaths')\n",
    "dft_recovered = get_frame('recovered')\n",
    "LAST_DATE_I, dt_cols = get_dates(df)"
   ]
  },
  {
   "cell_type": "code",
   "execution_count": 10,
   "metadata": {
    "execution": {
     "iopub.execute_input": "2020-12-05T12:07:02.774858Z",
     "iopub.status.busy": "2020-12-05T12:07:02.774161Z",
     "iopub.status.idle": "2020-12-05T12:07:02.777567Z",
     "shell.execute_reply": "2020-12-05T12:07:02.776948Z"
    },
    "papermill": {
     "duration": 0.045737,
     "end_time": "2020-12-05T12:07:02.777713",
     "exception": false,
     "start_time": "2020-12-05T12:07:02.731976",
     "status": "completed"
    },
    "tags": []
   },
   "outputs": [],
   "source": [
    "#hide\n",
    "LAST_DATE_I, dt_cols = get_dates(df)\n",
    "dt_today =dt_cols[LAST_DATE_I]\n",
    "# dt_5day = dt_cols[LAST_DATE_I - 5]\n",
    "dt_yday = dt_cols[LAST_DATE_I - 1]"
   ]
  },
  {
   "cell_type": "code",
   "execution_count": 11,
   "metadata": {
    "execution": {
     "iopub.execute_input": "2020-12-05T12:07:02.860724Z",
     "iopub.status.busy": "2020-12-05T12:07:02.860091Z",
     "iopub.status.idle": "2020-12-05T12:07:02.869607Z",
     "shell.execute_reply": "2020-12-05T12:07:02.868954Z"
    },
    "papermill": {
     "duration": 0.054982,
     "end_time": "2020-12-05T12:07:02.869829",
     "exception": false,
     "start_time": "2020-12-05T12:07:02.814847",
     "status": "completed"
    },
    "tags": []
   },
   "outputs": [],
   "source": [
    "#hide\n",
    "dfc_cases = dft_cases.groupby(COL_REGION)[dt_today].sum()\n",
    "dfc_deaths = dft_deaths.groupby(COL_REGION)[dt_today].sum()\n",
    "# dfp_cases = dft_cases.groupby(COL_REGION)[dt_5day].sum()\n",
    "# dfp_deaths = dft_deaths.groupby(COL_REGION)[dt_5day].sum()\n",
    "dfp_cases = dft_cases.groupby(COL_REGION)[dt_yday].sum()\n",
    "dfp_deaths = dft_deaths.groupby(COL_REGION)[dt_yday].sum()"
   ]
  },
  {
   "cell_type": "code",
   "execution_count": 12,
   "metadata": {
    "execution": {
     "iopub.execute_input": "2020-12-05T12:07:02.945924Z",
     "iopub.status.busy": "2020-12-05T12:07:02.945351Z",
     "iopub.status.idle": "2020-12-05T12:07:02.950824Z",
     "shell.execute_reply": "2020-12-05T12:07:02.951506Z"
    },
    "papermill": {
     "duration": 0.046042,
     "end_time": "2020-12-05T12:07:02.951639",
     "exception": false,
     "start_time": "2020-12-05T12:07:02.905597",
     "status": "completed"
    },
    "tags": []
   },
   "outputs": [],
   "source": [
    "#hide\n",
    "df_table = (pd.DataFrame(dict(Cases = dfc_cases, Deaths = dfc_deaths, PCases = dfp_cases, PDeaths = dfp_deaths))\n",
    "            .sort_values(by = ['Cases','Deaths'], ascending = [False, False])\n",
    "            .reset_index())"
   ]
  },
  {
   "cell_type": "code",
   "execution_count": 13,
   "metadata": {
    "execution": {
     "iopub.execute_input": "2020-12-05T12:07:03.040892Z",
     "iopub.status.busy": "2020-12-05T12:07:03.040313Z",
     "iopub.status.idle": "2020-12-05T12:07:03.048514Z",
     "shell.execute_reply": "2020-12-05T12:07:03.049120Z"
    },
    "papermill": {
     "duration": 0.064112,
     "end_time": "2020-12-05T12:07:03.049270",
     "exception": false,
     "start_time": "2020-12-05T12:07:02.985158",
     "status": "completed"
    },
    "tags": []
   },
   "outputs": [
    {
     "data": {
      "text/html": [
       "<div>\n",
       "<style scoped>\n",
       "    .dataframe tbody tr th:only-of-type {\n",
       "        vertical-align: middle;\n",
       "    }\n",
       "\n",
       "    .dataframe tbody tr th {\n",
       "        vertical-align: top;\n",
       "    }\n",
       "\n",
       "    .dataframe thead th {\n",
       "        text-align: right;\n",
       "    }\n",
       "</style>\n",
       "<table border=\"1\" class=\"dataframe\">\n",
       "  <thead>\n",
       "    <tr style=\"text-align: right;\">\n",
       "      <th></th>\n",
       "      <th>Country/Region</th>\n",
       "      <th>Cases</th>\n",
       "      <th>Deaths</th>\n",
       "      <th>PCases</th>\n",
       "      <th>PDeaths</th>\n",
       "      <th>Cases (+)</th>\n",
       "      <th>Deaths (+)</th>\n",
       "      <th>Fatality Rate</th>\n",
       "      <th>Continent</th>\n",
       "    </tr>\n",
       "  </thead>\n",
       "  <tbody>\n",
       "    <tr>\n",
       "      <th>0</th>\n",
       "      <td>US</td>\n",
       "      <td>14367462</td>\n",
       "      <td>278932</td>\n",
       "      <td>14139577</td>\n",
       "      <td>276325</td>\n",
       "      <td>227885</td>\n",
       "      <td>2607</td>\n",
       "      <td>1.94</td>\n",
       "      <td>North America</td>\n",
       "    </tr>\n",
       "    <tr>\n",
       "      <th>1</th>\n",
       "      <td>India</td>\n",
       "      <td>9608211</td>\n",
       "      <td>139700</td>\n",
       "      <td>9571559</td>\n",
       "      <td>139188</td>\n",
       "      <td>36652</td>\n",
       "      <td>512</td>\n",
       "      <td>1.45</td>\n",
       "      <td>Asia</td>\n",
       "    </tr>\n",
       "    <tr>\n",
       "      <th>2</th>\n",
       "      <td>Brazil</td>\n",
       "      <td>6533968</td>\n",
       "      <td>175964</td>\n",
       "      <td>6487084</td>\n",
       "      <td>175270</td>\n",
       "      <td>46884</td>\n",
       "      <td>694</td>\n",
       "      <td>2.69</td>\n",
       "      <td>South America</td>\n",
       "    </tr>\n",
       "    <tr>\n",
       "      <th>3</th>\n",
       "      <td>Russia</td>\n",
       "      <td>2382012</td>\n",
       "      <td>41730</td>\n",
       "      <td>2354934</td>\n",
       "      <td>41173</td>\n",
       "      <td>27078</td>\n",
       "      <td>557</td>\n",
       "      <td>1.75</td>\n",
       "      <td>Europe</td>\n",
       "    </tr>\n",
       "    <tr>\n",
       "      <th>4</th>\n",
       "      <td>France</td>\n",
       "      <td>2321703</td>\n",
       "      <td>54859</td>\n",
       "      <td>2310271</td>\n",
       "      <td>54231</td>\n",
       "      <td>11432</td>\n",
       "      <td>628</td>\n",
       "      <td>2.36</td>\n",
       "      <td>Europe</td>\n",
       "    </tr>\n",
       "  </tbody>\n",
       "</table>\n",
       "</div>"
      ],
      "text/plain": [
       "  Country/Region     Cases  Deaths    PCases  PDeaths  Cases (+)  Deaths (+)  \\\n",
       "0             US  14367462  278932  14139577   276325     227885        2607   \n",
       "1          India   9608211  139700   9571559   139188      36652         512   \n",
       "2         Brazil   6533968  175964   6487084   175270      46884         694   \n",
       "3         Russia   2382012   41730   2354934    41173      27078         557   \n",
       "4         France   2321703   54859   2310271    54231      11432         628   \n",
       "\n",
       "   Fatality Rate      Continent  \n",
       "0           1.94  North America  \n",
       "1           1.45           Asia  \n",
       "2           2.69  South America  \n",
       "3           1.75         Europe  \n",
       "4           2.36         Europe  "
      ]
     },
     "execution_count": 13,
     "metadata": {},
     "output_type": "execute_result"
    }
   ],
   "source": [
    "#hide\n",
    "for c in 'Cases, Deaths'.split(', '):\n",
    "    df_table[f'{c} (+)'] = (df_table[c] - df_table[f'P{c}']).clip(0)\n",
    "    #Clip ça veut dire, les chiffres negatif sont interdit\n",
    "df_table['Fatality Rate'] = (100* df_table['Deaths']/ df_table['Cases']).round(2)\n",
    "df_table['Continent'] = df_table['Country/Region'].map(mapping['map.continent'])\n",
    "df_table.head(5)"
   ]
  },
  {
   "cell_type": "code",
   "execution_count": 14,
   "metadata": {
    "execution": {
     "iopub.execute_input": "2020-12-05T12:07:03.127516Z",
     "iopub.status.busy": "2020-12-05T12:07:03.126764Z",
     "iopub.status.idle": "2020-12-05T12:07:03.129648Z",
     "shell.execute_reply": "2020-12-05T12:07:03.128987Z"
    },
    "papermill": {
     "duration": 0.043434,
     "end_time": "2020-12-05T12:07:03.129827",
     "exception": false,
     "start_time": "2020-12-05T12:07:03.086393",
     "status": "completed"
    },
    "tags": []
   },
   "outputs": [],
   "source": [
    "#hide\n",
    "#delete problematic countries from table\n",
    "df_table = df_table[~df_table['Country/Region'].isin(['Cape Verde', 'Cruise Ship', 'Kosovo'])]"
   ]
  },
  {
   "cell_type": "code",
   "execution_count": 15,
   "metadata": {
    "execution": {
     "iopub.execute_input": "2020-12-05T12:07:03.215450Z",
     "iopub.status.busy": "2020-12-05T12:07:03.214785Z",
     "iopub.status.idle": "2020-12-05T12:07:03.237843Z",
     "shell.execute_reply": "2020-12-05T12:07:03.238340Z"
    },
    "papermill": {
     "duration": 0.072881,
     "end_time": "2020-12-05T12:07:03.238492",
     "exception": false,
     "start_time": "2020-12-05T12:07:03.165611",
     "status": "completed"
    },
    "tags": []
   },
   "outputs": [
    {
     "data": {
      "text/html": [
       "<div>\n",
       "<style scoped>\n",
       "    .dataframe tbody tr th:only-of-type {\n",
       "        vertical-align: middle;\n",
       "    }\n",
       "\n",
       "    .dataframe tbody tr th {\n",
       "        vertical-align: top;\n",
       "    }\n",
       "\n",
       "    .dataframe thead th {\n",
       "        text-align: right;\n",
       "    }\n",
       "</style>\n",
       "<table border=\"1\" class=\"dataframe\">\n",
       "  <thead>\n",
       "    <tr style=\"text-align: right;\">\n",
       "      <th></th>\n",
       "      <th>Country/Region</th>\n",
       "      <th>Cases</th>\n",
       "      <th>Deaths</th>\n",
       "      <th>PCases</th>\n",
       "      <th>PDeaths</th>\n",
       "      <th>Cases (+)</th>\n",
       "      <th>Deaths (+)</th>\n",
       "      <th>Fatality Rate</th>\n",
       "      <th>Continent</th>\n",
       "    </tr>\n",
       "  </thead>\n",
       "  <tbody>\n",
       "    <tr>\n",
       "      <th>0</th>\n",
       "      <td>US</td>\n",
       "      <td>14367462</td>\n",
       "      <td>278932</td>\n",
       "      <td>14139577</td>\n",
       "      <td>276325</td>\n",
       "      <td>227885</td>\n",
       "      <td>2607</td>\n",
       "      <td>1.9</td>\n",
       "      <td>North America</td>\n",
       "    </tr>\n",
       "    <tr>\n",
       "      <th>1</th>\n",
       "      <td>India</td>\n",
       "      <td>9608211</td>\n",
       "      <td>139700</td>\n",
       "      <td>9571559</td>\n",
       "      <td>139188</td>\n",
       "      <td>36652</td>\n",
       "      <td>512</td>\n",
       "      <td>1.5</td>\n",
       "      <td>Asia</td>\n",
       "    </tr>\n",
       "    <tr>\n",
       "      <th>2</th>\n",
       "      <td>Brazil</td>\n",
       "      <td>6533968</td>\n",
       "      <td>175964</td>\n",
       "      <td>6487084</td>\n",
       "      <td>175270</td>\n",
       "      <td>46884</td>\n",
       "      <td>694</td>\n",
       "      <td>2.7</td>\n",
       "      <td>South America</td>\n",
       "    </tr>\n",
       "    <tr>\n",
       "      <th>3</th>\n",
       "      <td>Russia</td>\n",
       "      <td>2382012</td>\n",
       "      <td>41730</td>\n",
       "      <td>2354934</td>\n",
       "      <td>41173</td>\n",
       "      <td>27078</td>\n",
       "      <td>557</td>\n",
       "      <td>1.8</td>\n",
       "      <td>Europe</td>\n",
       "    </tr>\n",
       "    <tr>\n",
       "      <th>4</th>\n",
       "      <td>France</td>\n",
       "      <td>2321703</td>\n",
       "      <td>54859</td>\n",
       "      <td>2310271</td>\n",
       "      <td>54231</td>\n",
       "      <td>11432</td>\n",
       "      <td>628</td>\n",
       "      <td>2.4</td>\n",
       "      <td>Europe</td>\n",
       "    </tr>\n",
       "  </tbody>\n",
       "</table>\n",
       "</div>"
      ],
      "text/plain": [
       "  Country/Region     Cases  Deaths    PCases  PDeaths  Cases (+)  Deaths (+)  \\\n",
       "0             US  14367462  278932  14139577   276325     227885        2607   \n",
       "1          India   9608211  139700   9571559   139188      36652         512   \n",
       "2         Brazil   6533968  175964   6487084   175270      46884         694   \n",
       "3         Russia   2382012   41730   2354934    41173      27078         557   \n",
       "4         France   2321703   54859   2310271    54231      11432         628   \n",
       "\n",
       "   Fatality Rate      Continent  \n",
       "0            1.9  North America  \n",
       "1            1.5           Asia  \n",
       "2            2.7  South America  \n",
       "3            1.8         Europe  \n",
       "4            2.4         Europe  "
      ]
     },
     "execution_count": 15,
     "metadata": {},
     "output_type": "execute_result"
    }
   ],
   "source": [
    "#hide\n",
    "df_table = (pd.DataFrame(dict(Cases=dfc_cases, Deaths=dfc_deaths, PCases=dfp_cases, PDeaths=dfp_deaths))\n",
    "             .sort_values(by=['Cases', 'Deaths'], ascending=[False, False])\n",
    "             .reset_index())\n",
    "df_table.rename(columns={'index': 'Country/Region'}, inplace=True)\n",
    "for c in 'Cases, Deaths'.split(', '):\n",
    "    df_table[f'{c} (+)'] = (df_table[c] - df_table[f'P{c}']).clip(0)  # DATA BUG\n",
    "df_table['Fatality Rate'] = (100 * df_table['Deaths'] / df_table['Cases']).round(1)\n",
    "df_table['Continent'] = df_table['Country/Region'].map(mapping['map.continent'])\n",
    "df_table.head(5)"
   ]
  },
  {
   "cell_type": "code",
   "execution_count": 16,
   "metadata": {
    "execution": {
     "iopub.execute_input": "2020-12-05T12:07:03.313185Z",
     "iopub.status.busy": "2020-12-05T12:07:03.312469Z",
     "iopub.status.idle": "2020-12-05T12:07:03.318216Z",
     "shell.execute_reply": "2020-12-05T12:07:03.317453Z"
    },
    "papermill": {
     "duration": 0.044504,
     "end_time": "2020-12-05T12:07:03.318411",
     "exception": false,
     "start_time": "2020-12-05T12:07:03.273907",
     "status": "completed"
    },
    "tags": []
   },
   "outputs": [],
   "source": [
    "#hide\n",
    "#delete problematic countries from table\n",
    "df_table = df_table[~df_table['Country/Region'].isin(['Cape Verde', 'Cruise Ship', 'Kosovo'])]"
   ]
  },
  {
   "cell_type": "code",
   "execution_count": 17,
   "metadata": {
    "execution": {
     "iopub.execute_input": "2020-12-05T12:07:03.397899Z",
     "iopub.status.busy": "2020-12-05T12:07:03.397257Z",
     "iopub.status.idle": "2020-12-05T12:07:03.412502Z",
     "shell.execute_reply": "2020-12-05T12:07:03.413304Z"
    },
    "papermill": {
     "duration": 0.058181,
     "end_time": "2020-12-05T12:07:03.413450",
     "exception": false,
     "start_time": "2020-12-05T12:07:03.355269",
     "status": "completed"
    },
    "tags": []
   },
   "outputs": [],
   "source": [
    "#hide\n",
    "metrics = [df_table.columns[index] for index in [1,2,5,6]]\n",
    "# s_china = df_table[df_table['Country/Region'].eq('China')][metrics].sum().add_prefix('China ')\n",
    "s_us = df_table[df_table['Country/Region'].eq('US')][metrics].sum().add_prefix('US ')\n",
    "s_eu = df_table[df_table['Continent'].eq('Europe')][metrics].sum().add_prefix('EU ')\n",
    "s_ind = df_table[df_table['Country/Region'].eq('India')][metrics].sum().add_prefix('India ')\n",
    "summary = {'updated': pd.to_datetime(dt_today), 'since': pd.to_datetime(dt_yday)}\n",
    "summary = {'updated': pd.to_datetime(dt_today), 'since': pd.to_datetime(dt_yday)}\n",
    "summary = {**summary, **df_table[metrics].sum(), **s_ind, **s_us, **s_eu}"
   ]
  },
  {
   "cell_type": "code",
   "execution_count": 18,
   "metadata": {
    "execution": {
     "iopub.execute_input": "2020-12-05T12:07:03.486782Z",
     "iopub.status.busy": "2020-12-05T12:07:03.486038Z",
     "iopub.status.idle": "2020-12-05T12:07:03.495526Z",
     "shell.execute_reply": "2020-12-05T12:07:03.496373Z"
    },
    "papermill": {
     "duration": 0.051391,
     "end_time": "2020-12-05T12:07:03.496550",
     "exception": false,
     "start_time": "2020-12-05T12:07:03.445159",
     "status": "completed"
    },
    "tags": []
   },
   "outputs": [],
   "source": [
    "#hide\n",
    "dft_ct_new_cases = dft_cases.groupby(COL_REGION)[dt_cols].sum().diff(axis=1).fillna(0).astype(int)"
   ]
  },
  {
   "cell_type": "code",
   "execution_count": 19,
   "metadata": {
    "execution": {
     "iopub.execute_input": "2020-12-05T12:07:03.571487Z",
     "iopub.status.busy": "2020-12-05T12:07:03.570790Z",
     "iopub.status.idle": "2020-12-05T12:07:03.573632Z",
     "shell.execute_reply": "2020-12-05T12:07:03.573096Z"
    },
    "papermill": {
     "duration": 0.041125,
     "end_time": "2020-12-05T12:07:03.573754",
     "exception": false,
     "start_time": "2020-12-05T12:07:03.532629",
     "status": "completed"
    },
    "tags": []
   },
   "outputs": [],
   "source": [
    "#hide\n",
    "everydaycases = dft_ct_new_cases.cumsum(axis=1)"
   ]
  },
  {
   "cell_type": "code",
   "execution_count": 20,
   "metadata": {
    "execution": {
     "iopub.execute_input": "2020-12-05T12:07:03.644903Z",
     "iopub.status.busy": "2020-12-05T12:07:03.644170Z",
     "iopub.status.idle": "2020-12-05T12:07:04.709176Z",
     "shell.execute_reply": "2020-12-05T12:07:04.708395Z"
    },
    "papermill": {
     "duration": 1.102478,
     "end_time": "2020-12-05T12:07:04.709316",
     "exception": false,
     "start_time": "2020-12-05T12:07:03.606838",
     "status": "completed"
    },
    "tags": []
   },
   "outputs": [],
   "source": [
    "#hide\n",
    "import pandas as pd\n",
    "import matplotlib.pyplot as plt\n",
    "import matplotlib.ticker as ticker\n",
    "import matplotlib.animation as animation\n",
    "from IPython.display import HTML"
   ]
  },
  {
   "cell_type": "code",
   "execution_count": 21,
   "metadata": {
    "execution": {
     "iopub.execute_input": "2020-12-05T12:07:04.787693Z",
     "iopub.status.busy": "2020-12-05T12:07:04.787044Z",
     "iopub.status.idle": "2020-12-05T12:07:04.792456Z",
     "shell.execute_reply": "2020-12-05T12:07:04.791820Z"
    },
    "papermill": {
     "duration": 0.04416,
     "end_time": "2020-12-05T12:07:04.792611",
     "exception": false,
     "start_time": "2020-12-05T12:07:04.748451",
     "status": "completed"
    },
    "tags": []
   },
   "outputs": [],
   "source": [
    "#hide\n",
    "t = everydaycases.stack()"
   ]
  },
  {
   "cell_type": "code",
   "execution_count": 22,
   "metadata": {
    "execution": {
     "iopub.execute_input": "2020-12-05T12:07:04.865128Z",
     "iopub.status.busy": "2020-12-05T12:07:04.864410Z",
     "iopub.status.idle": "2020-12-05T12:07:04.871806Z",
     "shell.execute_reply": "2020-12-05T12:07:04.872527Z"
    },
    "papermill": {
     "duration": 0.04945,
     "end_time": "2020-12-05T12:07:04.872765",
     "exception": false,
     "start_time": "2020-12-05T12:07:04.823315",
     "status": "completed"
    },
    "tags": []
   },
   "outputs": [],
   "source": [
    "#hide\n",
    "g = t.reset_index(['Country/Region'])"
   ]
  },
  {
   "cell_type": "code",
   "execution_count": 23,
   "metadata": {
    "execution": {
     "iopub.execute_input": "2020-12-05T12:07:04.945680Z",
     "iopub.status.busy": "2020-12-05T12:07:04.945067Z",
     "iopub.status.idle": "2020-12-05T12:07:04.946992Z",
     "shell.execute_reply": "2020-12-05T12:07:04.947469Z"
    },
    "papermill": {
     "duration": 0.039214,
     "end_time": "2020-12-05T12:07:04.947613",
     "exception": false,
     "start_time": "2020-12-05T12:07:04.908399",
     "status": "completed"
    },
    "tags": []
   },
   "outputs": [],
   "source": [
    "#hide\n",
    "g.index.name = 'date'"
   ]
  },
  {
   "cell_type": "code",
   "execution_count": 24,
   "metadata": {
    "execution": {
     "iopub.execute_input": "2020-12-05T12:07:05.013869Z",
     "iopub.status.busy": "2020-12-05T12:07:05.013262Z",
     "iopub.status.idle": "2020-12-05T12:07:05.015641Z",
     "shell.execute_reply": "2020-12-05T12:07:05.015183Z"
    },
    "papermill": {
     "duration": 0.036406,
     "end_time": "2020-12-05T12:07:05.015752",
     "exception": false,
     "start_time": "2020-12-05T12:07:04.979346",
     "status": "completed"
    },
    "tags": []
   },
   "outputs": [],
   "source": [
    "# #hide\n",
    "# g = g.reset_index(['date'])"
   ]
  },
  {
   "cell_type": "code",
   "execution_count": 25,
   "metadata": {
    "execution": {
     "iopub.execute_input": "2020-12-05T12:07:05.085965Z",
     "iopub.status.busy": "2020-12-05T12:07:05.085403Z",
     "iopub.status.idle": "2020-12-05T12:07:05.087761Z",
     "shell.execute_reply": "2020-12-05T12:07:05.087276Z"
    },
    "papermill": {
     "duration": 0.036206,
     "end_time": "2020-12-05T12:07:05.087876",
     "exception": false,
     "start_time": "2020-12-05T12:07:05.051670",
     "status": "completed"
    },
    "tags": []
   },
   "outputs": [],
   "source": [
    "#hide\n",
    "# g.head()"
   ]
  },
  {
   "cell_type": "code",
   "execution_count": 26,
   "metadata": {
    "execution": {
     "iopub.execute_input": "2020-12-05T12:07:05.164278Z",
     "iopub.status.busy": "2020-12-05T12:07:05.163588Z",
     "iopub.status.idle": "2020-12-05T12:07:05.166155Z",
     "shell.execute_reply": "2020-12-05T12:07:05.165599Z"
    },
    "papermill": {
     "duration": 0.042749,
     "end_time": "2020-12-05T12:07:05.166289",
     "exception": false,
     "start_time": "2020-12-05T12:07:05.123540",
     "status": "completed"
    },
    "tags": []
   },
   "outputs": [],
   "source": [
    "#hide\n",
    "# g.columns = ['date','country','cases']"
   ]
  },
  {
   "cell_type": "code",
   "execution_count": 27,
   "metadata": {
    "execution": {
     "iopub.execute_input": "2020-12-05T12:07:05.232780Z",
     "iopub.status.busy": "2020-12-05T12:07:05.231985Z",
     "iopub.status.idle": "2020-12-05T12:07:05.234647Z",
     "shell.execute_reply": "2020-12-05T12:07:05.234162Z"
    },
    "papermill": {
     "duration": 0.038018,
     "end_time": "2020-12-05T12:07:05.234755",
     "exception": false,
     "start_time": "2020-12-05T12:07:05.196737",
     "status": "completed"
    },
    "tags": []
   },
   "outputs": [],
   "source": [
    "#hide\n",
    "# g['continent'] = g.country"
   ]
  },
  {
   "cell_type": "code",
   "execution_count": 28,
   "metadata": {
    "execution": {
     "iopub.execute_input": "2020-12-05T12:07:05.305450Z",
     "iopub.status.busy": "2020-12-05T12:07:05.304839Z",
     "iopub.status.idle": "2020-12-05T12:07:05.307718Z",
     "shell.execute_reply": "2020-12-05T12:07:05.307165Z"
    },
    "papermill": {
     "duration": 0.041916,
     "end_time": "2020-12-05T12:07:05.307842",
     "exception": false,
     "start_time": "2020-12-05T12:07:05.265926",
     "status": "completed"
    },
    "tags": []
   },
   "outputs": [],
   "source": [
    "#hide\n",
    "# cols = list(g.columns.values)"
   ]
  },
  {
   "cell_type": "code",
   "execution_count": 29,
   "metadata": {
    "execution": {
     "iopub.execute_input": "2020-12-05T12:07:05.384681Z",
     "iopub.status.busy": "2020-12-05T12:07:05.383159Z",
     "iopub.status.idle": "2020-12-05T12:07:05.385454Z",
     "shell.execute_reply": "2020-12-05T12:07:05.385943Z"
    },
    "papermill": {
     "duration": 0.041806,
     "end_time": "2020-12-05T12:07:05.386078",
     "exception": false,
     "start_time": "2020-12-05T12:07:05.344272",
     "status": "completed"
    },
    "tags": []
   },
   "outputs": [],
   "source": [
    "#hide\n",
    "# cols.insert(0, cols.pop())"
   ]
  },
  {
   "cell_type": "code",
   "execution_count": 30,
   "metadata": {
    "execution": {
     "iopub.execute_input": "2020-12-05T12:07:05.464105Z",
     "iopub.status.busy": "2020-12-05T12:07:05.463518Z",
     "iopub.status.idle": "2020-12-05T12:07:05.465881Z",
     "shell.execute_reply": "2020-12-05T12:07:05.466538Z"
    },
    "papermill": {
     "duration": 0.042328,
     "end_time": "2020-12-05T12:07:05.466694",
     "exception": false,
     "start_time": "2020-12-05T12:07:05.424366",
     "status": "completed"
    },
    "tags": []
   },
   "outputs": [],
   "source": [
    "#hide\n",
    "# g = g[cols]"
   ]
  },
  {
   "cell_type": "code",
   "execution_count": 31,
   "metadata": {
    "execution": {
     "iopub.execute_input": "2020-12-05T12:07:05.534070Z",
     "iopub.status.busy": "2020-12-05T12:07:05.533461Z",
     "iopub.status.idle": "2020-12-05T12:07:05.535544Z",
     "shell.execute_reply": "2020-12-05T12:07:05.535974Z"
    },
    "papermill": {
     "duration": 0.036216,
     "end_time": "2020-12-05T12:07:05.536107",
     "exception": false,
     "start_time": "2020-12-05T12:07:05.499891",
     "status": "completed"
    },
    "tags": []
   },
   "outputs": [],
   "source": [
    "#hide\n",
    "# g['continent'] = g['continent'].map(mapping['map.continent'])"
   ]
  },
  {
   "cell_type": "code",
   "execution_count": 32,
   "metadata": {
    "execution": {
     "iopub.execute_input": "2020-12-05T12:07:05.606523Z",
     "iopub.status.busy": "2020-12-05T12:07:05.605900Z",
     "iopub.status.idle": "2020-12-05T12:07:05.607917Z",
     "shell.execute_reply": "2020-12-05T12:07:05.608479Z"
    },
    "papermill": {
     "duration": 0.04079,
     "end_time": "2020-12-05T12:07:05.608624",
     "exception": false,
     "start_time": "2020-12-05T12:07:05.567834",
     "status": "completed"
    },
    "tags": []
   },
   "outputs": [],
   "source": [
    "#hide\n",
    "# g.head()"
   ]
  },
  {
   "cell_type": "code",
   "execution_count": 33,
   "metadata": {
    "execution": {
     "iopub.execute_input": "2020-12-05T12:07:05.678936Z",
     "iopub.status.busy": "2020-12-05T12:07:05.678306Z",
     "iopub.status.idle": "2020-12-05T12:07:05.681337Z",
     "shell.execute_reply": "2020-12-05T12:07:05.680628Z"
    },
    "papermill": {
     "duration": 0.039802,
     "end_time": "2020-12-05T12:07:05.681463",
     "exception": false,
     "start_time": "2020-12-05T12:07:05.641661",
     "status": "completed"
    },
    "tags": []
   },
   "outputs": [],
   "source": [
    "# hide\n",
    "# g['date'] = g['date'].astype('datetime64[ns]')"
   ]
  },
  {
   "cell_type": "code",
   "execution_count": 34,
   "metadata": {
    "execution": {
     "iopub.execute_input": "2020-12-05T12:07:05.755516Z",
     "iopub.status.busy": "2020-12-05T12:07:05.754833Z",
     "iopub.status.idle": "2020-12-05T12:07:05.758847Z",
     "shell.execute_reply": "2020-12-05T12:07:05.759489Z"
    },
    "papermill": {
     "duration": 0.042911,
     "end_time": "2020-12-05T12:07:05.759673",
     "exception": false,
     "start_time": "2020-12-05T12:07:05.716762",
     "status": "completed"
    },
    "tags": []
   },
   "outputs": [],
   "source": [
    "#hide\n",
    "# g['date'] = g.date.dt.dayofyear"
   ]
  },
  {
   "cell_type": "code",
   "execution_count": 35,
   "metadata": {
    "execution": {
     "iopub.execute_input": "2020-12-05T12:07:05.837962Z",
     "iopub.status.busy": "2020-12-05T12:07:05.837084Z",
     "iopub.status.idle": "2020-12-05T12:07:05.839890Z",
     "shell.execute_reply": "2020-12-05T12:07:05.839300Z"
    },
    "papermill": {
     "duration": 0.044586,
     "end_time": "2020-12-05T12:07:05.840023",
     "exception": false,
     "start_time": "2020-12-05T12:07:05.795437",
     "status": "completed"
    },
    "tags": []
   },
   "outputs": [],
   "source": [
    "#hide\n",
    "# g = g.rename(columns= {'continent':'group','country':'name','cases':'value'})"
   ]
  },
  {
   "cell_type": "code",
   "execution_count": 36,
   "metadata": {
    "execution": {
     "iopub.execute_input": "2020-12-05T12:07:05.921969Z",
     "iopub.status.busy": "2020-12-05T12:07:05.921226Z",
     "iopub.status.idle": "2020-12-05T12:07:05.924093Z",
     "shell.execute_reply": "2020-12-05T12:07:05.924725Z"
    },
    "papermill": {
     "duration": 0.046188,
     "end_time": "2020-12-05T12:07:05.924885",
     "exception": false,
     "start_time": "2020-12-05T12:07:05.878697",
     "status": "completed"
    },
    "tags": []
   },
   "outputs": [],
   "source": [
    "#hide\n",
    "# cols = ['name','group','day','value']"
   ]
  },
  {
   "cell_type": "code",
   "execution_count": 37,
   "metadata": {
    "execution": {
     "iopub.execute_input": "2020-12-05T12:07:05.996909Z",
     "iopub.status.busy": "2020-12-05T12:07:05.996209Z",
     "iopub.status.idle": "2020-12-05T12:07:05.998749Z",
     "shell.execute_reply": "2020-12-05T12:07:05.998166Z"
    },
    "papermill": {
     "duration": 0.040429,
     "end_time": "2020-12-05T12:07:05.998874",
     "exception": false,
     "start_time": "2020-12-05T12:07:05.958445",
     "status": "completed"
    },
    "tags": []
   },
   "outputs": [],
   "source": [
    "#hide\n",
    "# g.rename(columns= {'date':'day'},inplace = True)"
   ]
  },
  {
   "cell_type": "code",
   "execution_count": 38,
   "metadata": {
    "execution": {
     "iopub.execute_input": "2020-12-05T12:07:06.066778Z",
     "iopub.status.busy": "2020-12-05T12:07:06.066152Z",
     "iopub.status.idle": "2020-12-05T12:07:06.068339Z",
     "shell.execute_reply": "2020-12-05T12:07:06.067776Z"
    },
    "papermill": {
     "duration": 0.035844,
     "end_time": "2020-12-05T12:07:06.068474",
     "exception": false,
     "start_time": "2020-12-05T12:07:06.032630",
     "status": "completed"
    },
    "tags": []
   },
   "outputs": [],
   "source": [
    "#hide\n",
    "# g = g[cols]"
   ]
  },
  {
   "cell_type": "code",
   "execution_count": 39,
   "metadata": {
    "execution": {
     "iopub.execute_input": "2020-12-05T12:07:06.131475Z",
     "iopub.status.busy": "2020-12-05T12:07:06.130917Z",
     "iopub.status.idle": "2020-12-05T12:07:06.133680Z",
     "shell.execute_reply": "2020-12-05T12:07:06.133172Z"
    },
    "papermill": {
     "duration": 0.036262,
     "end_time": "2020-12-05T12:07:06.133808",
     "exception": false,
     "start_time": "2020-12-05T12:07:06.097546",
     "status": "completed"
    },
    "tags": []
   },
   "outputs": [],
   "source": [
    "# #hide\n",
    "# g = g[g.group.notna()]"
   ]
  },
  {
   "cell_type": "code",
   "execution_count": 40,
   "metadata": {
    "execution": {
     "iopub.execute_input": "2020-12-05T12:07:06.216069Z",
     "iopub.status.busy": "2020-12-05T12:07:06.215429Z",
     "iopub.status.idle": "2020-12-05T12:07:06.218831Z",
     "shell.execute_reply": "2020-12-05T12:07:06.218165Z"
    },
    "papermill": {
     "duration": 0.040135,
     "end_time": "2020-12-05T12:07:06.219026",
     "exception": false,
     "start_time": "2020-12-05T12:07:06.178891",
     "status": "completed"
    },
    "tags": []
   },
   "outputs": [],
   "source": [
    "# #hide\n",
    "# colors = dict(zip(\n",
    "#     [\"Oceania\", \"Europe\", \"Asia\", \"South America\", \"Middle East\", \"North America\", \"Africa\"],\n",
    "#     [\"#adb0ff\", \"#ffb3ff\", \"#90d595\", \"#e48381\", \"#aafbff\", \"#f7bb5f\", \"#eafb50\"]\n",
    "# ))\n",
    "# group_lk = g.set_index('name')['group'].to_dict()"
   ]
  },
  {
   "cell_type": "code",
   "execution_count": null,
   "metadata": {
    "papermill": {
     "duration": 0.03493,
     "end_time": "2020-12-05T12:07:06.288146",
     "exception": false,
     "start_time": "2020-12-05T12:07:06.253216",
     "status": "completed"
    },
    "tags": []
   },
   "outputs": [],
   "source": []
  },
  {
   "cell_type": "code",
   "execution_count": 41,
   "metadata": {
    "execution": {
     "iopub.execute_input": "2020-12-05T12:07:06.361948Z",
     "iopub.status.busy": "2020-12-05T12:07:06.361108Z",
     "iopub.status.idle": "2020-12-05T12:07:06.363896Z",
     "shell.execute_reply": "2020-12-05T12:07:06.363369Z"
    },
    "papermill": {
     "duration": 0.043928,
     "end_time": "2020-12-05T12:07:06.364021",
     "exception": false,
     "start_time": "2020-12-05T12:07:06.320093",
     "status": "completed"
    },
    "tags": []
   },
   "outputs": [],
   "source": [
    "# #hide\n",
    "# fig, ax = plt.subplots(figsize=(15, 8))\n",
    "\n",
    "# def draw_barchart(current_day):\n",
    "#     dff = g[g['day'].eq(current_day)].sort_values(by='value', ascending=True).tail(10)\n",
    "#     ax.clear()\n",
    "#     ax.barh(dff['name'], dff['value'], color=[colors[group_lk[x]] for x in dff['name']])\n",
    "#     dx = dff['value'].max() / 200\n",
    "    \n",
    "#     for i, (value, name) in enumerate(zip(dff['value'], dff['name'])):\n",
    "#         ax.text(value-dx, i,     name,           size=14, weight=600, ha='right', va='bottom')\n",
    "#         ax.text(value-dx, i-.25, group_lk[name], size=10, color='#444444', ha='right', va='baseline')\n",
    "#         ax.text(value+dx, i,     f'{value:,.0f}',  size=14, ha='left',  va='center')\n",
    "#     ax.text(1, 0.4, current_day, transform=ax.transAxes, color='#777777', size=46, ha='right', weight=800)\n",
    "#     ax.text(0, 1.06, 'Population (thousands)', transform=ax.transAxes, size=12, color='#777777')\n",
    "#     ax.xaxis.set_major_formatter(ticker.StrMethodFormatter('{x:,.0f}'))\n",
    "#     ax.xaxis.set_ticks_position('top')\n",
    "#     ax.tick_params(axis='x', colors='#777777', labelsize=12)\n",
    "#     ax.set_yticks([])\n",
    "#     ax.margins(0, 0.01)\n",
    "#     ax.grid(which='major', axis='x', linestyle='-')\n",
    "#     ax.set_axisbelow(True)\n",
    "    \n",
    "#     ax.text(0, 1.15, 'Coronavirus',\n",
    "#             transform=ax.transAxes, size=24, weight=600, ha='left', va='top')\n",
    "# #     ax.text(1, 0, 'by @pratapvardhan; credit @jburnmurdoch', transform=ax.transAxes, color='#777777', ha='right',\n",
    "# #             bbox=dict(facecolor='white', alpha=0.8, edgecolor='white'))\n",
    "#     plt.box(False)"
   ]
  },
  {
   "cell_type": "code",
   "execution_count": 42,
   "metadata": {
    "execution": {
     "iopub.execute_input": "2020-12-05T12:07:06.435861Z",
     "iopub.status.busy": "2020-12-05T12:07:06.435279Z",
     "iopub.status.idle": "2020-12-05T12:07:06.436875Z",
     "shell.execute_reply": "2020-12-05T12:07:06.437443Z"
    },
    "papermill": {
     "duration": 0.038057,
     "end_time": "2020-12-05T12:07:06.437568",
     "exception": false,
     "start_time": "2020-12-05T12:07:06.399511",
     "status": "completed"
    },
    "tags": []
   },
   "outputs": [],
   "source": [
    "# #hide_input\n",
    "# fig, ax = plt.subplots(figsize=(15, 8))\n",
    "# animator = animation.FuncAnimation(fig, draw_barchart, frames=range(g.day.values.min(), g.day.values.max()))\n",
    "# HTML(animator.to_jshtml())\n",
    "# # or use animator.to_html5_video() or animator.save() "
   ]
  },
  {
   "cell_type": "code",
   "execution_count": null,
   "metadata": {
    "papermill": {
     "duration": 0.034196,
     "end_time": "2020-12-05T12:07:06.502260",
     "exception": false,
     "start_time": "2020-12-05T12:07:06.468064",
     "status": "completed"
    },
    "tags": []
   },
   "outputs": [],
   "source": []
  },
  {
   "cell_type": "code",
   "execution_count": null,
   "metadata": {
    "papermill": {
     "duration": 0.03141,
     "end_time": "2020-12-05T12:07:06.566503",
     "exception": false,
     "start_time": "2020-12-05T12:07:06.535093",
     "status": "completed"
    },
    "tags": []
   },
   "outputs": [],
   "source": []
  },
  {
   "cell_type": "code",
   "execution_count": null,
   "metadata": {
    "papermill": {
     "duration": 0.030535,
     "end_time": "2020-12-05T12:07:06.627484",
     "exception": false,
     "start_time": "2020-12-05T12:07:06.596949",
     "status": "completed"
    },
    "tags": []
   },
   "outputs": [],
   "source": []
  }
 ],
 "metadata": {
  "kernelspec": {
   "display_name": "Python 3",
   "language": "python",
   "name": "python3"
  },
  "language_info": {
   "codemirror_mode": {
    "name": "ipython",
    "version": 3
   },
   "file_extension": ".py",
   "mimetype": "text/x-python",
   "name": "python",
   "nbconvert_exporter": "python",
   "pygments_lexer": "ipython3",
   "version": "3.6.12"
  },
  "papermill": {
   "duration": 6.851943,
   "end_time": "2020-12-05T12:07:06.968873",
   "environment_variables": {},
   "exception": null,
   "input_path": "2020-03-21-covid19exp.ipynb",
   "output_path": "2020-03-21-covid19exp.ipynb",
   "parameters": {},
   "start_time": "2020-12-05T12:07:00.116930",
   "version": "2.0.0"
  }
 },
 "nbformat": 4,
 "nbformat_minor": 4
}