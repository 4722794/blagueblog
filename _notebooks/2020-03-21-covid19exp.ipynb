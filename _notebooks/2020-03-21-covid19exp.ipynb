{
 "cells": [
  {
   "cell_type": "markdown",
   "id": "muslim-click",
   "metadata": {
    "papermill": {
     "duration": 0.034847,
     "end_time": "2022-05-11T12:17:53.952893",
     "exception": false,
     "start_time": "2022-05-11T12:17:53.918046",
     "status": "completed"
    },
    "tags": []
   },
   "source": [
    "# COVID-19 Case Race\n",
    "> A race chart to see rising cases around the world\n",
    "\n",
    "- author: Hargun Oberoi\n",
    "- image: images/covid-overview.png\n",
    "- hide: false\n",
    "- badges: false"
   ]
  },
  {
   "cell_type": "code",
   "execution_count": 1,
   "id": "proof-material",
   "metadata": {
    "execution": {
     "iopub.execute_input": "2022-05-11T12:17:54.028166Z",
     "iopub.status.busy": "2022-05-11T12:17:54.027651Z",
     "iopub.status.idle": "2022-05-11T12:17:54.342842Z",
     "shell.execute_reply": "2022-05-11T12:17:54.342378Z"
    },
    "papermill": {
     "duration": 0.35757,
     "end_time": "2022-05-11T12:17:54.342967",
     "exception": false,
     "start_time": "2022-05-11T12:17:53.985397",
     "status": "completed"
    },
    "tags": []
   },
   "outputs": [],
   "source": [
    "#hide\n",
    "import numpy as np\n",
    "import pandas as pd\n",
    "from jinja2 import Template\n",
    "from IPython.display import HTML"
   ]
  },
  {
   "cell_type": "code",
   "execution_count": 2,
   "id": "developed-terminology",
   "metadata": {
    "execution": {
     "iopub.execute_input": "2022-05-11T12:17:54.410020Z",
     "iopub.status.busy": "2022-05-11T12:17:54.409488Z",
     "iopub.status.idle": "2022-05-11T12:17:54.411471Z",
     "shell.execute_reply": "2022-05-11T12:17:54.410996Z"
    },
    "papermill": {
     "duration": 0.03754,
     "end_time": "2022-05-11T12:17:54.411572",
     "exception": false,
     "start_time": "2022-05-11T12:17:54.374032",
     "status": "completed"
    },
    "tags": []
   },
   "outputs": [],
   "source": [
    "#hide\n",
    "\n",
    "# FETCH\n",
    "base_url = 'https://raw.githubusercontent.com/pratapvardhan/notebooks/master/covid19/'\n",
    "paths = {\n",
    "    'mapping': base_url + 'mapping_countries.csv',\n",
    "    'overview': base_url + 'overview.tpl'\n",
    "}"
   ]
  },
  {
   "cell_type": "code",
   "execution_count": 3,
   "id": "dynamic-saver",
   "metadata": {
    "execution": {
     "iopub.execute_input": "2022-05-11T12:17:54.482621Z",
     "iopub.status.busy": "2022-05-11T12:17:54.482116Z",
     "iopub.status.idle": "2022-05-11T12:17:54.484735Z",
     "shell.execute_reply": "2022-05-11T12:17:54.484316Z"
    },
    "papermill": {
     "duration": 0.042223,
     "end_time": "2022-05-11T12:17:54.484837",
     "exception": false,
     "start_time": "2022-05-11T12:17:54.442614",
     "status": "completed"
    },
    "tags": []
   },
   "outputs": [
    {
     "data": {
      "text/plain": [
       "'https://raw.githubusercontent.com/pratapvardhan/notebooks/master/covid19/mapping_countries.csv'"
      ]
     },
     "execution_count": 3,
     "metadata": {},
     "output_type": "execute_result"
    }
   ],
   "source": [
    "#hide\n",
    "paths['mapping']"
   ]
  },
  {
   "cell_type": "code",
   "execution_count": 4,
   "id": "urban-software",
   "metadata": {
    "execution": {
     "iopub.execute_input": "2022-05-11T12:17:54.552012Z",
     "iopub.status.busy": "2022-05-11T12:17:54.551508Z",
     "iopub.status.idle": "2022-05-11T12:17:54.553583Z",
     "shell.execute_reply": "2022-05-11T12:17:54.553180Z"
    },
    "papermill": {
     "duration": 0.037463,
     "end_time": "2022-05-11T12:17:54.553685",
     "exception": false,
     "start_time": "2022-05-11T12:17:54.516222",
     "status": "completed"
    },
    "tags": []
   },
   "outputs": [],
   "source": [
    "#hide\n",
    "def get_mappings(url):\n",
    "    df = pd.read_csv(url)\n",
    "    return {\n",
    "        'df': df,\n",
    "        'replace.country': dict(df.dropna(subset=['Name']).set_index('Country')['Name']),\n",
    "        'map.continent': dict(df.set_index('Name')['Continent'])\n",
    "    }"
   ]
  },
  {
   "cell_type": "code",
   "execution_count": 5,
   "id": "intimate-machinery",
   "metadata": {
    "execution": {
     "iopub.execute_input": "2022-05-11T12:17:54.620971Z",
     "iopub.status.busy": "2022-05-11T12:17:54.620477Z",
     "iopub.status.idle": "2022-05-11T12:17:54.681615Z",
     "shell.execute_reply": "2022-05-11T12:17:54.681100Z"
    },
    "papermill": {
     "duration": 0.096772,
     "end_time": "2022-05-11T12:17:54.681723",
     "exception": false,
     "start_time": "2022-05-11T12:17:54.584951",
     "status": "completed"
    },
    "tags": []
   },
   "outputs": [],
   "source": [
    "#hide\n",
    "mapping = get_mappings(paths['mapping'])"
   ]
  },
  {
   "cell_type": "code",
   "execution_count": 6,
   "id": "certified-tactics",
   "metadata": {
    "execution": {
     "iopub.execute_input": "2022-05-11T12:17:54.749003Z",
     "iopub.status.busy": "2022-05-11T12:17:54.748501Z",
     "iopub.status.idle": "2022-05-11T12:17:54.750012Z",
     "shell.execute_reply": "2022-05-11T12:17:54.750423Z"
    },
    "papermill": {
     "duration": 0.037525,
     "end_time": "2022-05-11T12:17:54.750540",
     "exception": false,
     "start_time": "2022-05-11T12:17:54.713015",
     "status": "completed"
    },
    "tags": []
   },
   "outputs": [],
   "source": [
    "#hide\n",
    "def get_template(path):\n",
    "    from urllib.parse import urlparse\n",
    "    if bool(urlparse(path).netloc):\n",
    "        from urllib.request import urlopen\n",
    "        return urlopen(path).read().decode('utf8')\n",
    "    return open(path).read()"
   ]
  },
  {
   "cell_type": "code",
   "execution_count": 7,
   "id": "realistic-blast",
   "metadata": {
    "execution": {
     "iopub.execute_input": "2022-05-11T12:17:54.817316Z",
     "iopub.status.busy": "2022-05-11T12:17:54.816819Z",
     "iopub.status.idle": "2022-05-11T12:17:54.820266Z",
     "shell.execute_reply": "2022-05-11T12:17:54.819864Z"
    },
    "papermill": {
     "duration": 0.038483,
     "end_time": "2022-05-11T12:17:54.820370",
     "exception": false,
     "start_time": "2022-05-11T12:17:54.781887",
     "status": "completed"
    },
    "tags": []
   },
   "outputs": [],
   "source": [
    "#hide\n",
    "def get_frame(name):\n",
    "    url = (\n",
    "        'https://raw.githubusercontent.com/CSSEGISandData/COVID-19/master/csse_covid_19_data/'\n",
    "        f'csse_covid_19_time_series/time_series_covid19_{name}_global.csv')\n",
    "    df = pd.read_csv(url)\n",
    "    # rename countries\n",
    "    df['Country/Region'] = df['Country/Region'].replace(mapping['replace.country'])\n",
    "    return df"
   ]
  },
  {
   "cell_type": "code",
   "execution_count": 8,
   "id": "affiliated-characterization",
   "metadata": {
    "execution": {
     "iopub.execute_input": "2022-05-11T12:17:54.888222Z",
     "iopub.status.busy": "2022-05-11T12:17:54.887707Z",
     "iopub.status.idle": "2022-05-11T12:17:54.889798Z",
     "shell.execute_reply": "2022-05-11T12:17:54.889396Z"
    },
    "papermill": {
     "duration": 0.038293,
     "end_time": "2022-05-11T12:17:54.889899",
     "exception": false,
     "start_time": "2022-05-11T12:17:54.851606",
     "status": "completed"
    },
    "tags": []
   },
   "outputs": [],
   "source": [
    "#hide\n",
    "def get_dates(df):\n",
    "    dt_cols = df.columns[~df.columns.isin(['Province/State', 'Country/Region', 'Lat', 'Long'])]\n",
    "    LAST_DATE_I = -1\n",
    "    # sometimes last column may be empty, then go backwards\n",
    "    for i in range(-1, -len(dt_cols), -1):\n",
    "        if not df[dt_cols[i]].fillna(0).eq(0).all():\n",
    "            LAST_DATE_I = i\n",
    "            break\n",
    "    return LAST_DATE_I, dt_cols"
   ]
  },
  {
   "cell_type": "code",
   "execution_count": 9,
   "id": "recent-optimization",
   "metadata": {
    "execution": {
     "iopub.execute_input": "2022-05-11T12:17:54.956382Z",
     "iopub.status.busy": "2022-05-11T12:17:54.955875Z",
     "iopub.status.idle": "2022-05-11T12:17:55.556340Z",
     "shell.execute_reply": "2022-05-11T12:17:55.555893Z"
    },
    "papermill": {
     "duration": 0.635582,
     "end_time": "2022-05-11T12:17:55.556454",
     "exception": false,
     "start_time": "2022-05-11T12:17:54.920872",
     "status": "completed"
    },
    "tags": []
   },
   "outputs": [],
   "source": [
    "#hide\n",
    "COL_REGION = 'Country/Region'\n",
    "# Confirmed, Recovered, Deaths\n",
    "df = get_frame('confirmed')\n",
    "# dft_: timeseries, dfc_: today country agg\n",
    "dft_cases = df\n",
    "dft_deaths = get_frame('deaths')\n",
    "dft_recovered = get_frame('recovered')\n",
    "LAST_DATE_I, dt_cols = get_dates(df)"
   ]
  },
  {
   "cell_type": "code",
   "execution_count": 10,
   "id": "absolute-copper",
   "metadata": {
    "execution": {
     "iopub.execute_input": "2022-05-11T12:17:55.623800Z",
     "iopub.status.busy": "2022-05-11T12:17:55.623314Z",
     "iopub.status.idle": "2022-05-11T12:17:55.625081Z",
     "shell.execute_reply": "2022-05-11T12:17:55.625495Z"
    },
    "papermill": {
     "duration": 0.037639,
     "end_time": "2022-05-11T12:17:55.625608",
     "exception": false,
     "start_time": "2022-05-11T12:17:55.587969",
     "status": "completed"
    },
    "tags": []
   },
   "outputs": [],
   "source": [
    "#hide\n",
    "LAST_DATE_I, dt_cols = get_dates(df)\n",
    "dt_today =dt_cols[LAST_DATE_I]\n",
    "# dt_5day = dt_cols[LAST_DATE_I - 5]\n",
    "dt_yday = dt_cols[LAST_DATE_I - 1]"
   ]
  },
  {
   "cell_type": "code",
   "execution_count": 11,
   "id": "restricted-sheriff",
   "metadata": {
    "execution": {
     "iopub.execute_input": "2022-05-11T12:17:55.694744Z",
     "iopub.status.busy": "2022-05-11T12:17:55.692266Z",
     "iopub.status.idle": "2022-05-11T12:17:55.701492Z",
     "shell.execute_reply": "2022-05-11T12:17:55.700606Z"
    },
    "papermill": {
     "duration": 0.044924,
     "end_time": "2022-05-11T12:17:55.701603",
     "exception": false,
     "start_time": "2022-05-11T12:17:55.656679",
     "status": "completed"
    },
    "tags": []
   },
   "outputs": [],
   "source": [
    "#hide\n",
    "dfc_cases = dft_cases.groupby(COL_REGION)[dt_today].sum()\n",
    "dfc_deaths = dft_deaths.groupby(COL_REGION)[dt_today].sum()\n",
    "# dfp_cases = dft_cases.groupby(COL_REGION)[dt_5day].sum()\n",
    "# dfp_deaths = dft_deaths.groupby(COL_REGION)[dt_5day].sum()\n",
    "dfp_cases = dft_cases.groupby(COL_REGION)[dt_yday].sum()\n",
    "dfp_deaths = dft_deaths.groupby(COL_REGION)[dt_yday].sum()"
   ]
  },
  {
   "cell_type": "code",
   "execution_count": 12,
   "id": "deluxe-hepatitis",
   "metadata": {
    "execution": {
     "iopub.execute_input": "2022-05-11T12:17:55.769975Z",
     "iopub.status.busy": "2022-05-11T12:17:55.769463Z",
     "iopub.status.idle": "2022-05-11T12:17:55.773235Z",
     "shell.execute_reply": "2022-05-11T12:17:55.773689Z"
    },
    "papermill": {
     "duration": 0.040884,
     "end_time": "2022-05-11T12:17:55.773811",
     "exception": false,
     "start_time": "2022-05-11T12:17:55.732927",
     "status": "completed"
    },
    "tags": []
   },
   "outputs": [],
   "source": [
    "#hide\n",
    "df_table = (pd.DataFrame(dict(Cases = dfc_cases, Deaths = dfc_deaths, PCases = dfp_cases, PDeaths = dfp_deaths))\n",
    "            .sort_values(by = ['Cases','Deaths'], ascending = [False, False])\n",
    "            .reset_index())"
   ]
  },
  {
   "cell_type": "code",
   "execution_count": 13,
   "id": "educational-chancellor",
   "metadata": {
    "execution": {
     "iopub.execute_input": "2022-05-11T12:17:55.848891Z",
     "iopub.status.busy": "2022-05-11T12:17:55.848396Z",
     "iopub.status.idle": "2022-05-11T12:17:55.859875Z",
     "shell.execute_reply": "2022-05-11T12:17:55.859469Z"
    },
    "papermill": {
     "duration": 0.054988,
     "end_time": "2022-05-11T12:17:55.859981",
     "exception": false,
     "start_time": "2022-05-11T12:17:55.804993",
     "status": "completed"
    },
    "tags": []
   },
   "outputs": [
    {
     "data": {
      "text/html": [
       "<div>\n",
       "<style scoped>\n",
       "    .dataframe tbody tr th:only-of-type {\n",
       "        vertical-align: middle;\n",
       "    }\n",
       "\n",
       "    .dataframe tbody tr th {\n",
       "        vertical-align: top;\n",
       "    }\n",
       "\n",
       "    .dataframe thead th {\n",
       "        text-align: right;\n",
       "    }\n",
       "</style>\n",
       "<table border=\"1\" class=\"dataframe\">\n",
       "  <thead>\n",
       "    <tr style=\"text-align: right;\">\n",
       "      <th></th>\n",
       "      <th>Country/Region</th>\n",
       "      <th>Cases</th>\n",
       "      <th>Deaths</th>\n",
       "      <th>PCases</th>\n",
       "      <th>PDeaths</th>\n",
       "      <th>Cases (+)</th>\n",
       "      <th>Deaths (+)</th>\n",
       "      <th>Fatality Rate</th>\n",
       "      <th>Continent</th>\n",
       "    </tr>\n",
       "  </thead>\n",
       "  <tbody>\n",
       "    <tr>\n",
       "      <th>0</th>\n",
       "      <td>US</td>\n",
       "      <td>82059839</td>\n",
       "      <td>998048</td>\n",
       "      <td>81973661</td>\n",
       "      <td>997740</td>\n",
       "      <td>86178</td>\n",
       "      <td>308</td>\n",
       "      <td>1.22</td>\n",
       "      <td>North America</td>\n",
       "    </tr>\n",
       "    <tr>\n",
       "      <th>1</th>\n",
       "      <td>India</td>\n",
       "      <td>43110586</td>\n",
       "      <td>524157</td>\n",
       "      <td>43107689</td>\n",
       "      <td>524103</td>\n",
       "      <td>2897</td>\n",
       "      <td>54</td>\n",
       "      <td>1.22</td>\n",
       "      <td>Asia</td>\n",
       "    </tr>\n",
       "    <tr>\n",
       "      <th>2</th>\n",
       "      <td>Brazil</td>\n",
       "      <td>30594388</td>\n",
       "      <td>664624</td>\n",
       "      <td>30574245</td>\n",
       "      <td>664426</td>\n",
       "      <td>20143</td>\n",
       "      <td>198</td>\n",
       "      <td>2.17</td>\n",
       "      <td>South America</td>\n",
       "    </tr>\n",
       "    <tr>\n",
       "      <th>3</th>\n",
       "      <td>France</td>\n",
       "      <td>29212276</td>\n",
       "      <td>148016</td>\n",
       "      <td>29155815</td>\n",
       "      <td>147893</td>\n",
       "      <td>56461</td>\n",
       "      <td>123</td>\n",
       "      <td>0.51</td>\n",
       "      <td>Europe</td>\n",
       "    </tr>\n",
       "    <tr>\n",
       "      <th>4</th>\n",
       "      <td>Germany</td>\n",
       "      <td>25503878</td>\n",
       "      <td>136987</td>\n",
       "      <td>25406868</td>\n",
       "      <td>136756</td>\n",
       "      <td>97010</td>\n",
       "      <td>231</td>\n",
       "      <td>0.54</td>\n",
       "      <td>Europe</td>\n",
       "    </tr>\n",
       "  </tbody>\n",
       "</table>\n",
       "</div>"
      ],
      "text/plain": [
       "  Country/Region     Cases  Deaths    PCases  PDeaths  Cases (+)  Deaths (+)  \\\n",
       "0             US  82059839  998048  81973661   997740      86178         308   \n",
       "1          India  43110586  524157  43107689   524103       2897          54   \n",
       "2         Brazil  30594388  664624  30574245   664426      20143         198   \n",
       "3         France  29212276  148016  29155815   147893      56461         123   \n",
       "4        Germany  25503878  136987  25406868   136756      97010         231   \n",
       "\n",
       "   Fatality Rate      Continent  \n",
       "0           1.22  North America  \n",
       "1           1.22           Asia  \n",
       "2           2.17  South America  \n",
       "3           0.51         Europe  \n",
       "4           0.54         Europe  "
      ]
     },
     "execution_count": 13,
     "metadata": {},
     "output_type": "execute_result"
    }
   ],
   "source": [
    "#hide\n",
    "for c in 'Cases, Deaths'.split(', '):\n",
    "    df_table[f'{c} (+)'] = (df_table[c] - df_table[f'P{c}']).clip(0)\n",
    "    #Clip ça veut dire, les chiffres negatif sont interdit\n",
    "df_table['Fatality Rate'] = (100* df_table['Deaths']/ df_table['Cases']).round(2)\n",
    "df_table['Continent'] = df_table['Country/Region'].map(mapping['map.continent'])\n",
    "df_table.head(5)"
   ]
  },
  {
   "cell_type": "code",
   "execution_count": 14,
   "id": "aboriginal-bulgaria",
   "metadata": {
    "execution": {
     "iopub.execute_input": "2022-05-11T12:17:55.928601Z",
     "iopub.status.busy": "2022-05-11T12:17:55.928112Z",
     "iopub.status.idle": "2022-05-11T12:17:55.930443Z",
     "shell.execute_reply": "2022-05-11T12:17:55.930020Z"
    },
    "papermill": {
     "duration": 0.038837,
     "end_time": "2022-05-11T12:17:55.930546",
     "exception": false,
     "start_time": "2022-05-11T12:17:55.891709",
     "status": "completed"
    },
    "tags": []
   },
   "outputs": [],
   "source": [
    "#hide\n",
    "#delete problematic countries from table\n",
    "df_table = df_table[~df_table['Country/Region'].isin(['Cape Verde', 'Cruise Ship', 'Kosovo'])]"
   ]
  },
  {
   "cell_type": "code",
   "execution_count": 15,
   "id": "fantastic-effect",
   "metadata": {
    "execution": {
     "iopub.execute_input": "2022-05-11T12:17:56.000412Z",
     "iopub.status.busy": "2022-05-11T12:17:55.999921Z",
     "iopub.status.idle": "2022-05-11T12:17:56.016703Z",
     "shell.execute_reply": "2022-05-11T12:17:56.016303Z"
    },
    "papermill": {
     "duration": 0.054889,
     "end_time": "2022-05-11T12:17:56.016805",
     "exception": false,
     "start_time": "2022-05-11T12:17:55.961916",
     "status": "completed"
    },
    "tags": []
   },
   "outputs": [
    {
     "data": {
      "text/html": [
       "<div>\n",
       "<style scoped>\n",
       "    .dataframe tbody tr th:only-of-type {\n",
       "        vertical-align: middle;\n",
       "    }\n",
       "\n",
       "    .dataframe tbody tr th {\n",
       "        vertical-align: top;\n",
       "    }\n",
       "\n",
       "    .dataframe thead th {\n",
       "        text-align: right;\n",
       "    }\n",
       "</style>\n",
       "<table border=\"1\" class=\"dataframe\">\n",
       "  <thead>\n",
       "    <tr style=\"text-align: right;\">\n",
       "      <th></th>\n",
       "      <th>Country/Region</th>\n",
       "      <th>Cases</th>\n",
       "      <th>Deaths</th>\n",
       "      <th>PCases</th>\n",
       "      <th>PDeaths</th>\n",
       "      <th>Cases (+)</th>\n",
       "      <th>Deaths (+)</th>\n",
       "      <th>Fatality Rate</th>\n",
       "      <th>Continent</th>\n",
       "    </tr>\n",
       "  </thead>\n",
       "  <tbody>\n",
       "    <tr>\n",
       "      <th>0</th>\n",
       "      <td>US</td>\n",
       "      <td>82059839</td>\n",
       "      <td>998048</td>\n",
       "      <td>81973661</td>\n",
       "      <td>997740</td>\n",
       "      <td>86178</td>\n",
       "      <td>308</td>\n",
       "      <td>1.2</td>\n",
       "      <td>North America</td>\n",
       "    </tr>\n",
       "    <tr>\n",
       "      <th>1</th>\n",
       "      <td>India</td>\n",
       "      <td>43110586</td>\n",
       "      <td>524157</td>\n",
       "      <td>43107689</td>\n",
       "      <td>524103</td>\n",
       "      <td>2897</td>\n",
       "      <td>54</td>\n",
       "      <td>1.2</td>\n",
       "      <td>Asia</td>\n",
       "    </tr>\n",
       "    <tr>\n",
       "      <th>2</th>\n",
       "      <td>Brazil</td>\n",
       "      <td>30594388</td>\n",
       "      <td>664624</td>\n",
       "      <td>30574245</td>\n",
       "      <td>664426</td>\n",
       "      <td>20143</td>\n",
       "      <td>198</td>\n",
       "      <td>2.2</td>\n",
       "      <td>South America</td>\n",
       "    </tr>\n",
       "    <tr>\n",
       "      <th>3</th>\n",
       "      <td>France</td>\n",
       "      <td>29212276</td>\n",
       "      <td>148016</td>\n",
       "      <td>29155815</td>\n",
       "      <td>147893</td>\n",
       "      <td>56461</td>\n",
       "      <td>123</td>\n",
       "      <td>0.5</td>\n",
       "      <td>Europe</td>\n",
       "    </tr>\n",
       "    <tr>\n",
       "      <th>4</th>\n",
       "      <td>Germany</td>\n",
       "      <td>25503878</td>\n",
       "      <td>136987</td>\n",
       "      <td>25406868</td>\n",
       "      <td>136756</td>\n",
       "      <td>97010</td>\n",
       "      <td>231</td>\n",
       "      <td>0.5</td>\n",
       "      <td>Europe</td>\n",
       "    </tr>\n",
       "  </tbody>\n",
       "</table>\n",
       "</div>"
      ],
      "text/plain": [
       "  Country/Region     Cases  Deaths    PCases  PDeaths  Cases (+)  Deaths (+)  \\\n",
       "0             US  82059839  998048  81973661   997740      86178         308   \n",
       "1          India  43110586  524157  43107689   524103       2897          54   \n",
       "2         Brazil  30594388  664624  30574245   664426      20143         198   \n",
       "3         France  29212276  148016  29155815   147893      56461         123   \n",
       "4        Germany  25503878  136987  25406868   136756      97010         231   \n",
       "\n",
       "   Fatality Rate      Continent  \n",
       "0            1.2  North America  \n",
       "1            1.2           Asia  \n",
       "2            2.2  South America  \n",
       "3            0.5         Europe  \n",
       "4            0.5         Europe  "
      ]
     },
     "execution_count": 15,
     "metadata": {},
     "output_type": "execute_result"
    }
   ],
   "source": [
    "#hide\n",
    "df_table = (pd.DataFrame(dict(Cases=dfc_cases, Deaths=dfc_deaths, PCases=dfp_cases, PDeaths=dfp_deaths))\n",
    "             .sort_values(by=['Cases', 'Deaths'], ascending=[False, False])\n",
    "             .reset_index())\n",
    "df_table.rename(columns={'index': 'Country/Region'}, inplace=True)\n",
    "for c in 'Cases, Deaths'.split(', '):\n",
    "    df_table[f'{c} (+)'] = (df_table[c] - df_table[f'P{c}']).clip(0)  # DATA BUG\n",
    "df_table['Fatality Rate'] = (100 * df_table['Deaths'] / df_table['Cases']).round(1)\n",
    "df_table['Continent'] = df_table['Country/Region'].map(mapping['map.continent'])\n",
    "df_table.head(5)"
   ]
  },
  {
   "cell_type": "code",
   "execution_count": 16,
   "id": "fewer-occasion",
   "metadata": {
    "execution": {
     "iopub.execute_input": "2022-05-11T12:17:56.087071Z",
     "iopub.status.busy": "2022-05-11T12:17:56.086556Z",
     "iopub.status.idle": "2022-05-11T12:17:56.088662Z",
     "shell.execute_reply": "2022-05-11T12:17:56.088267Z"
    },
    "papermill": {
     "duration": 0.039861,
     "end_time": "2022-05-11T12:17:56.088762",
     "exception": false,
     "start_time": "2022-05-11T12:17:56.048901",
     "status": "completed"
    },
    "tags": []
   },
   "outputs": [],
   "source": [
    "#hide\n",
    "#delete problematic countries from table\n",
    "df_table = df_table[~df_table['Country/Region'].isin(['Cape Verde', 'Cruise Ship', 'Kosovo'])]"
   ]
  },
  {
   "cell_type": "code",
   "execution_count": 17,
   "id": "related-center",
   "metadata": {
    "execution": {
     "iopub.execute_input": "2022-05-11T12:17:56.169886Z",
     "iopub.status.busy": "2022-05-11T12:17:56.169366Z",
     "iopub.status.idle": "2022-05-11T12:17:56.172623Z",
     "shell.execute_reply": "2022-05-11T12:17:56.172195Z"
    },
    "papermill": {
     "duration": 0.052036,
     "end_time": "2022-05-11T12:17:56.172725",
     "exception": false,
     "start_time": "2022-05-11T12:17:56.120689",
     "status": "completed"
    },
    "tags": []
   },
   "outputs": [],
   "source": [
    "#hide\n",
    "metrics = [df_table.columns[index] for index in [1,2,5,6]]\n",
    "# s_china = df_table[df_table['Country/Region'].eq('China')][metrics].sum().add_prefix('China ')\n",
    "s_us = df_table[df_table['Country/Region'].eq('US')][metrics].sum().add_prefix('US ')\n",
    "s_eu = df_table[df_table['Continent'].eq('Europe')][metrics].sum().add_prefix('EU ')\n",
    "s_ind = df_table[df_table['Country/Region'].eq('India')][metrics].sum().add_prefix('India ')\n",
    "summary = {'updated': pd.to_datetime(dt_today), 'since': pd.to_datetime(dt_yday)}\n",
    "summary = {'updated': pd.to_datetime(dt_today), 'since': pd.to_datetime(dt_yday)}\n",
    "summary = {**summary, **df_table[metrics].sum(), **s_ind, **s_us, **s_eu}"
   ]
  },
  {
   "cell_type": "code",
   "execution_count": 18,
   "id": "engaging-syndrome",
   "metadata": {
    "execution": {
     "iopub.execute_input": "2022-05-11T12:17:56.241720Z",
     "iopub.status.busy": "2022-05-11T12:17:56.241222Z",
     "iopub.status.idle": "2022-05-11T12:17:56.257596Z",
     "shell.execute_reply": "2022-05-11T12:17:56.257966Z"
    },
    "papermill": {
     "duration": 0.053193,
     "end_time": "2022-05-11T12:17:56.258109",
     "exception": false,
     "start_time": "2022-05-11T12:17:56.204916",
     "status": "completed"
    },
    "tags": []
   },
   "outputs": [],
   "source": [
    "#hide\n",
    "dft_ct_new_cases = dft_cases.groupby(COL_REGION)[dt_cols].sum().diff(axis=1).fillna(0).astype(int)"
   ]
  },
  {
   "cell_type": "code",
   "execution_count": 19,
   "id": "neutral-assignment",
   "metadata": {
    "execution": {
     "iopub.execute_input": "2022-05-11T12:17:56.328562Z",
     "iopub.status.busy": "2022-05-11T12:17:56.328056Z",
     "iopub.status.idle": "2022-05-11T12:17:56.331305Z",
     "shell.execute_reply": "2022-05-11T12:17:56.330869Z"
    },
    "papermill": {
     "duration": 0.040748,
     "end_time": "2022-05-11T12:17:56.331408",
     "exception": false,
     "start_time": "2022-05-11T12:17:56.290660",
     "status": "completed"
    },
    "tags": []
   },
   "outputs": [],
   "source": [
    "#hide\n",
    "everydaycases = dft_ct_new_cases.cumsum(axis=1)"
   ]
  },
  {
   "cell_type": "code",
   "execution_count": 20,
   "id": "parliamentary-calgary",
   "metadata": {
    "execution": {
     "iopub.execute_input": "2022-05-11T12:17:56.399398Z",
     "iopub.status.busy": "2022-05-11T12:17:56.398908Z",
     "iopub.status.idle": "2022-05-11T12:17:56.935134Z",
     "shell.execute_reply": "2022-05-11T12:17:56.935570Z"
    },
    "papermill": {
     "duration": 0.572324,
     "end_time": "2022-05-11T12:17:56.935702",
     "exception": false,
     "start_time": "2022-05-11T12:17:56.363378",
     "status": "completed"
    },
    "tags": []
   },
   "outputs": [],
   "source": [
    "#hide\n",
    "import pandas as pd\n",
    "import matplotlib.pyplot as plt\n",
    "import matplotlib.ticker as ticker\n",
    "import matplotlib.animation as animation\n",
    "from IPython.display import HTML"
   ]
  },
  {
   "cell_type": "code",
   "execution_count": 21,
   "id": "lasting-extraction",
   "metadata": {
    "execution": {
     "iopub.execute_input": "2022-05-11T12:17:57.004882Z",
     "iopub.status.busy": "2022-05-11T12:17:57.004396Z",
     "iopub.status.idle": "2022-05-11T12:17:57.009945Z",
     "shell.execute_reply": "2022-05-11T12:17:57.010402Z"
    },
    "papermill": {
     "duration": 0.042918,
     "end_time": "2022-05-11T12:17:57.010517",
     "exception": false,
     "start_time": "2022-05-11T12:17:56.967599",
     "status": "completed"
    },
    "tags": []
   },
   "outputs": [],
   "source": [
    "#hide\n",
    "t = everydaycases.stack()"
   ]
  },
  {
   "cell_type": "code",
   "execution_count": 22,
   "id": "premier-sleeve",
   "metadata": {
    "execution": {
     "iopub.execute_input": "2022-05-11T12:17:57.078401Z",
     "iopub.status.busy": "2022-05-11T12:17:57.077876Z",
     "iopub.status.idle": "2022-05-11T12:17:57.087473Z",
     "shell.execute_reply": "2022-05-11T12:17:57.087850Z"
    },
    "papermill": {
     "duration": 0.045358,
     "end_time": "2022-05-11T12:17:57.087966",
     "exception": false,
     "start_time": "2022-05-11T12:17:57.042608",
     "status": "completed"
    },
    "tags": []
   },
   "outputs": [],
   "source": [
    "#hide\n",
    "g = t.reset_index(['Country/Region'])"
   ]
  },
  {
   "cell_type": "code",
   "execution_count": 23,
   "id": "distributed-pittsburgh",
   "metadata": {
    "execution": {
     "iopub.execute_input": "2022-05-11T12:17:57.156194Z",
     "iopub.status.busy": "2022-05-11T12:17:57.155682Z",
     "iopub.status.idle": "2022-05-11T12:17:57.157222Z",
     "shell.execute_reply": "2022-05-11T12:17:57.157608Z"
    },
    "papermill": {
     "duration": 0.03779,
     "end_time": "2022-05-11T12:17:57.157725",
     "exception": false,
     "start_time": "2022-05-11T12:17:57.119935",
     "status": "completed"
    },
    "tags": []
   },
   "outputs": [],
   "source": [
    "#hide\n",
    "g.index.name = 'date'"
   ]
  },
  {
   "cell_type": "code",
   "execution_count": 24,
   "id": "naked-donor",
   "metadata": {
    "execution": {
     "iopub.execute_input": "2022-05-11T12:17:57.225346Z",
     "iopub.status.busy": "2022-05-11T12:17:57.224825Z",
     "iopub.status.idle": "2022-05-11T12:17:57.226785Z",
     "shell.execute_reply": "2022-05-11T12:17:57.226376Z"
    },
    "papermill": {
     "duration": 0.036935,
     "end_time": "2022-05-11T12:17:57.226883",
     "exception": false,
     "start_time": "2022-05-11T12:17:57.189948",
     "status": "completed"
    },
    "tags": []
   },
   "outputs": [],
   "source": [
    "# #hide\n",
    "# g = g.reset_index(['date'])"
   ]
  },
  {
   "cell_type": "code",
   "execution_count": 25,
   "id": "incomplete-mustang",
   "metadata": {
    "execution": {
     "iopub.execute_input": "2022-05-11T12:17:57.315086Z",
     "iopub.status.busy": "2022-05-11T12:17:57.314586Z",
     "iopub.status.idle": "2022-05-11T12:17:57.317760Z",
     "shell.execute_reply": "2022-05-11T12:17:57.317351Z"
    },
    "papermill": {
     "duration": 0.057022,
     "end_time": "2022-05-11T12:17:57.317857",
     "exception": false,
     "start_time": "2022-05-11T12:17:57.260835",
     "status": "completed"
    },
    "tags": []
   },
   "outputs": [],
   "source": [
    "#hide\n",
    "# g.head()"
   ]
  },
  {
   "cell_type": "code",
   "execution_count": 26,
   "id": "specific-kruger",
   "metadata": {
    "execution": {
     "iopub.execute_input": "2022-05-11T12:17:57.385439Z",
     "iopub.status.busy": "2022-05-11T12:17:57.384936Z",
     "iopub.status.idle": "2022-05-11T12:17:57.387755Z",
     "shell.execute_reply": "2022-05-11T12:17:57.388123Z"
    },
    "papermill": {
     "duration": 0.038382,
     "end_time": "2022-05-11T12:17:57.388241",
     "exception": false,
     "start_time": "2022-05-11T12:17:57.349859",
     "status": "completed"
    },
    "tags": []
   },
   "outputs": [],
   "source": [
    "#hide\n",
    "# g.columns = ['date','country','cases']"
   ]
  },
  {
   "cell_type": "code",
   "execution_count": 27,
   "id": "tender-conversion",
   "metadata": {
    "execution": {
     "iopub.execute_input": "2022-05-11T12:17:57.455257Z",
     "iopub.status.busy": "2022-05-11T12:17:57.454772Z",
     "iopub.status.idle": "2022-05-11T12:17:57.456445Z",
     "shell.execute_reply": "2022-05-11T12:17:57.456865Z"
    },
    "papermill": {
     "duration": 0.03668,
     "end_time": "2022-05-11T12:17:57.456978",
     "exception": false,
     "start_time": "2022-05-11T12:17:57.420298",
     "status": "completed"
    },
    "tags": []
   },
   "outputs": [],
   "source": [
    "#hide\n",
    "# g['continent'] = g.country"
   ]
  },
  {
   "cell_type": "code",
   "execution_count": 28,
   "id": "substantial-wilderness",
   "metadata": {
    "execution": {
     "iopub.execute_input": "2022-05-11T12:17:57.524545Z",
     "iopub.status.busy": "2022-05-11T12:17:57.524045Z",
     "iopub.status.idle": "2022-05-11T12:17:57.525546Z",
     "shell.execute_reply": "2022-05-11T12:17:57.525933Z"
    },
    "papermill": {
     "duration": 0.037067,
     "end_time": "2022-05-11T12:17:57.526050",
     "exception": false,
     "start_time": "2022-05-11T12:17:57.488983",
     "status": "completed"
    },
    "tags": []
   },
   "outputs": [],
   "source": [
    "#hide\n",
    "# cols = list(g.columns.values)"
   ]
  },
  {
   "cell_type": "code",
   "execution_count": 29,
   "id": "solved-farming",
   "metadata": {
    "execution": {
     "iopub.execute_input": "2022-05-11T12:17:57.592961Z",
     "iopub.status.busy": "2022-05-11T12:17:57.592465Z",
     "iopub.status.idle": "2022-05-11T12:17:57.594614Z",
     "shell.execute_reply": "2022-05-11T12:17:57.594208Z"
    },
    "papermill": {
     "duration": 0.036707,
     "end_time": "2022-05-11T12:17:57.594716",
     "exception": false,
     "start_time": "2022-05-11T12:17:57.558009",
     "status": "completed"
    },
    "tags": []
   },
   "outputs": [],
   "source": [
    "#hide\n",
    "# cols.insert(0, cols.pop())"
   ]
  },
  {
   "cell_type": "code",
   "execution_count": 30,
   "id": "executed-adoption",
   "metadata": {
    "execution": {
     "iopub.execute_input": "2022-05-11T12:17:57.662368Z",
     "iopub.status.busy": "2022-05-11T12:17:57.661827Z",
     "iopub.status.idle": "2022-05-11T12:17:57.664762Z",
     "shell.execute_reply": "2022-05-11T12:17:57.664362Z"
    },
    "papermill": {
     "duration": 0.037913,
     "end_time": "2022-05-11T12:17:57.664864",
     "exception": false,
     "start_time": "2022-05-11T12:17:57.626951",
     "status": "completed"
    },
    "tags": []
   },
   "outputs": [],
   "source": [
    "#hide\n",
    "# g = g[cols]"
   ]
  },
  {
   "cell_type": "code",
   "execution_count": 31,
   "id": "subject-dublin",
   "metadata": {
    "execution": {
     "iopub.execute_input": "2022-05-11T12:17:57.731585Z",
     "iopub.status.busy": "2022-05-11T12:17:57.731085Z",
     "iopub.status.idle": "2022-05-11T12:17:57.734459Z",
     "shell.execute_reply": "2022-05-11T12:17:57.734044Z"
    },
    "papermill": {
     "duration": 0.037897,
     "end_time": "2022-05-11T12:17:57.734559",
     "exception": false,
     "start_time": "2022-05-11T12:17:57.696662",
     "status": "completed"
    },
    "tags": []
   },
   "outputs": [],
   "source": [
    "#hide\n",
    "# g['continent'] = g['continent'].map(mapping['map.continent'])"
   ]
  },
  {
   "cell_type": "code",
   "execution_count": 32,
   "id": "freelance-scout",
   "metadata": {
    "execution": {
     "iopub.execute_input": "2022-05-11T12:17:57.801598Z",
     "iopub.status.busy": "2022-05-11T12:17:57.801091Z",
     "iopub.status.idle": "2022-05-11T12:17:57.803024Z",
     "shell.execute_reply": "2022-05-11T12:17:57.802622Z"
    },
    "papermill": {
     "duration": 0.036656,
     "end_time": "2022-05-11T12:17:57.803118",
     "exception": false,
     "start_time": "2022-05-11T12:17:57.766462",
     "status": "completed"
    },
    "tags": []
   },
   "outputs": [],
   "source": [
    "#hide\n",
    "# g.head()"
   ]
  },
  {
   "cell_type": "code",
   "execution_count": 33,
   "id": "limited-engine",
   "metadata": {
    "execution": {
     "iopub.execute_input": "2022-05-11T12:17:57.869697Z",
     "iopub.status.busy": "2022-05-11T12:17:57.869194Z",
     "iopub.status.idle": "2022-05-11T12:17:57.871180Z",
     "shell.execute_reply": "2022-05-11T12:17:57.870715Z"
    },
    "papermill": {
     "duration": 0.036393,
     "end_time": "2022-05-11T12:17:57.871276",
     "exception": false,
     "start_time": "2022-05-11T12:17:57.834883",
     "status": "completed"
    },
    "tags": []
   },
   "outputs": [],
   "source": [
    "# hide\n",
    "# g['date'] = g['date'].astype('datetime64[ns]')"
   ]
  },
  {
   "cell_type": "code",
   "execution_count": 34,
   "id": "sophisticated-supervisor",
   "metadata": {
    "execution": {
     "iopub.execute_input": "2022-05-11T12:17:57.938314Z",
     "iopub.status.busy": "2022-05-11T12:17:57.937798Z",
     "iopub.status.idle": "2022-05-11T12:17:57.939452Z",
     "shell.execute_reply": "2022-05-11T12:17:57.939814Z"
    },
    "papermill": {
     "duration": 0.036774,
     "end_time": "2022-05-11T12:17:57.939927",
     "exception": false,
     "start_time": "2022-05-11T12:17:57.903153",
     "status": "completed"
    },
    "tags": []
   },
   "outputs": [],
   "source": [
    "#hide\n",
    "# g['date'] = g.date.dt.dayofyear"
   ]
  },
  {
   "cell_type": "code",
   "execution_count": 35,
   "id": "inside-dubai",
   "metadata": {
    "execution": {
     "iopub.execute_input": "2022-05-11T12:17:58.006305Z",
     "iopub.status.busy": "2022-05-11T12:17:58.005782Z",
     "iopub.status.idle": "2022-05-11T12:17:58.007568Z",
     "shell.execute_reply": "2022-05-11T12:17:58.007949Z"
    },
    "papermill": {
     "duration": 0.036547,
     "end_time": "2022-05-11T12:17:58.008058",
     "exception": false,
     "start_time": "2022-05-11T12:17:57.971511",
     "status": "completed"
    },
    "tags": []
   },
   "outputs": [],
   "source": [
    "#hide\n",
    "# g = g.rename(columns= {'continent':'group','country':'name','cases':'value'})"
   ]
  },
  {
   "cell_type": "code",
   "execution_count": 36,
   "id": "fleet-motorcycle",
   "metadata": {
    "execution": {
     "iopub.execute_input": "2022-05-11T12:17:58.075220Z",
     "iopub.status.busy": "2022-05-11T12:17:58.074729Z",
     "iopub.status.idle": "2022-05-11T12:17:58.076787Z",
     "shell.execute_reply": "2022-05-11T12:17:58.076393Z"
    },
    "papermill": {
     "duration": 0.037046,
     "end_time": "2022-05-11T12:17:58.076884",
     "exception": false,
     "start_time": "2022-05-11T12:17:58.039838",
     "status": "completed"
    },
    "tags": []
   },
   "outputs": [],
   "source": [
    "#hide\n",
    "# cols = ['name','group','day','value']"
   ]
  },
  {
   "cell_type": "code",
   "execution_count": 37,
   "id": "continued-sleeping",
   "metadata": {
    "execution": {
     "iopub.execute_input": "2022-05-11T12:17:58.143873Z",
     "iopub.status.busy": "2022-05-11T12:17:58.143353Z",
     "iopub.status.idle": "2022-05-11T12:17:58.146376Z",
     "shell.execute_reply": "2022-05-11T12:17:58.146754Z"
    },
    "papermill": {
     "duration": 0.038152,
     "end_time": "2022-05-11T12:17:58.146874",
     "exception": false,
     "start_time": "2022-05-11T12:17:58.108722",
     "status": "completed"
    },
    "tags": []
   },
   "outputs": [],
   "source": [
    "#hide\n",
    "# g.rename(columns= {'date':'day'},inplace = True)"
   ]
  },
  {
   "cell_type": "code",
   "execution_count": 38,
   "id": "major-fight",
   "metadata": {
    "execution": {
     "iopub.execute_input": "2022-05-11T12:17:58.214182Z",
     "iopub.status.busy": "2022-05-11T12:17:58.213633Z",
     "iopub.status.idle": "2022-05-11T12:17:58.215559Z",
     "shell.execute_reply": "2022-05-11T12:17:58.215152Z"
    },
    "papermill": {
     "duration": 0.036844,
     "end_time": "2022-05-11T12:17:58.215657",
     "exception": false,
     "start_time": "2022-05-11T12:17:58.178813",
     "status": "completed"
    },
    "tags": []
   },
   "outputs": [],
   "source": [
    "#hide\n",
    "# g = g[cols]"
   ]
  },
  {
   "cell_type": "code",
   "execution_count": 39,
   "id": "structured-mobile",
   "metadata": {
    "execution": {
     "iopub.execute_input": "2022-05-11T12:17:58.282737Z",
     "iopub.status.busy": "2022-05-11T12:17:58.282224Z",
     "iopub.status.idle": "2022-05-11T12:17:58.283722Z",
     "shell.execute_reply": "2022-05-11T12:17:58.284137Z"
    },
    "papermill": {
     "duration": 0.036713,
     "end_time": "2022-05-11T12:17:58.284251",
     "exception": false,
     "start_time": "2022-05-11T12:17:58.247538",
     "status": "completed"
    },
    "tags": []
   },
   "outputs": [],
   "source": [
    "# #hide\n",
    "# g = g[g.group.notna()]"
   ]
  },
  {
   "cell_type": "code",
   "execution_count": 40,
   "id": "determined-closing",
   "metadata": {
    "execution": {
     "iopub.execute_input": "2022-05-11T12:17:58.352051Z",
     "iopub.status.busy": "2022-05-11T12:17:58.351529Z",
     "iopub.status.idle": "2022-05-11T12:17:58.353499Z",
     "shell.execute_reply": "2022-05-11T12:17:58.353095Z"
    },
    "papermill": {
     "duration": 0.036825,
     "end_time": "2022-05-11T12:17:58.353596",
     "exception": false,
     "start_time": "2022-05-11T12:17:58.316771",
     "status": "completed"
    },
    "tags": []
   },
   "outputs": [],
   "source": [
    "# #hide\n",
    "# colors = dict(zip(\n",
    "#     [\"Oceania\", \"Europe\", \"Asia\", \"South America\", \"Middle East\", \"North America\", \"Africa\"],\n",
    "#     [\"#adb0ff\", \"#ffb3ff\", \"#90d595\", \"#e48381\", \"#aafbff\", \"#f7bb5f\", \"#eafb50\"]\n",
    "# ))\n",
    "# group_lk = g.set_index('name')['group'].to_dict()"
   ]
  },
  {
   "cell_type": "code",
   "execution_count": null,
   "id": "gross-drinking",
   "metadata": {
    "papermill": {
     "duration": 0.031648,
     "end_time": "2022-05-11T12:17:58.417230",
     "exception": false,
     "start_time": "2022-05-11T12:17:58.385582",
     "status": "completed"
    },
    "tags": []
   },
   "outputs": [],
   "source": []
  },
  {
   "cell_type": "code",
   "execution_count": 41,
   "id": "subject-macintosh",
   "metadata": {
    "execution": {
     "iopub.execute_input": "2022-05-11T12:17:58.485073Z",
     "iopub.status.busy": "2022-05-11T12:17:58.484542Z",
     "iopub.status.idle": "2022-05-11T12:17:58.486443Z",
     "shell.execute_reply": "2022-05-11T12:17:58.486011Z"
    },
    "papermill": {
     "duration": 0.037428,
     "end_time": "2022-05-11T12:17:58.486543",
     "exception": false,
     "start_time": "2022-05-11T12:17:58.449115",
     "status": "completed"
    },
    "tags": []
   },
   "outputs": [],
   "source": [
    "# #hide\n",
    "# fig, ax = plt.subplots(figsize=(15, 8))\n",
    "\n",
    "# def draw_barchart(current_day):\n",
    "#     dff = g[g['day'].eq(current_day)].sort_values(by='value', ascending=True).tail(10)\n",
    "#     ax.clear()\n",
    "#     ax.barh(dff['name'], dff['value'], color=[colors[group_lk[x]] for x in dff['name']])\n",
    "#     dx = dff['value'].max() / 200\n",
    "    \n",
    "#     for i, (value, name) in enumerate(zip(dff['value'], dff['name'])):\n",
    "#         ax.text(value-dx, i,     name,           size=14, weight=600, ha='right', va='bottom')\n",
    "#         ax.text(value-dx, i-.25, group_lk[name], size=10, color='#444444', ha='right', va='baseline')\n",
    "#         ax.text(value+dx, i,     f'{value:,.0f}',  size=14, ha='left',  va='center')\n",
    "#     ax.text(1, 0.4, current_day, transform=ax.transAxes, color='#777777', size=46, ha='right', weight=800)\n",
    "#     ax.text(0, 1.06, 'Population (thousands)', transform=ax.transAxes, size=12, color='#777777')\n",
    "#     ax.xaxis.set_major_formatter(ticker.StrMethodFormatter('{x:,.0f}'))\n",
    "#     ax.xaxis.set_ticks_position('top')\n",
    "#     ax.tick_params(axis='x', colors='#777777', labelsize=12)\n",
    "#     ax.set_yticks([])\n",
    "#     ax.margins(0, 0.01)\n",
    "#     ax.grid(which='major', axis='x', linestyle='-')\n",
    "#     ax.set_axisbelow(True)\n",
    "    \n",
    "#     ax.text(0, 1.15, 'Coronavirus',\n",
    "#             transform=ax.transAxes, size=24, weight=600, ha='left', va='top')\n",
    "# #     ax.text(1, 0, 'by @pratapvardhan; credit @jburnmurdoch', transform=ax.transAxes, color='#777777', ha='right',\n",
    "# #             bbox=dict(facecolor='white', alpha=0.8, edgecolor='white'))\n",
    "#     plt.box(False)"
   ]
  },
  {
   "cell_type": "code",
   "execution_count": 42,
   "id": "sexual-wages",
   "metadata": {
    "execution": {
     "iopub.execute_input": "2022-05-11T12:17:58.553792Z",
     "iopub.status.busy": "2022-05-11T12:17:58.553274Z",
     "iopub.status.idle": "2022-05-11T12:17:58.555247Z",
     "shell.execute_reply": "2022-05-11T12:17:58.554844Z"
    },
    "papermill": {
     "duration": 0.03694,
     "end_time": "2022-05-11T12:17:58.555346",
     "exception": false,
     "start_time": "2022-05-11T12:17:58.518406",
     "status": "completed"
    },
    "tags": []
   },
   "outputs": [],
   "source": [
    "# #hide_input\n",
    "# fig, ax = plt.subplots(figsize=(15, 8))\n",
    "# animator = animation.FuncAnimation(fig, draw_barchart, frames=range(g.day.values.min(), g.day.values.max()))\n",
    "# HTML(animator.to_jshtml())\n",
    "# # or use animator.to_html5_video() or animator.save() "
   ]
  },
  {
   "cell_type": "code",
   "execution_count": null,
   "id": "australian-container",
   "metadata": {
    "papermill": {
     "duration": 0.031664,
     "end_time": "2022-05-11T12:17:58.619415",
     "exception": false,
     "start_time": "2022-05-11T12:17:58.587751",
     "status": "completed"
    },
    "tags": []
   },
   "outputs": [],
   "source": []
  },
  {
   "cell_type": "code",
   "execution_count": null,
   "id": "mediterranean-pontiac",
   "metadata": {
    "papermill": {
     "duration": 0.031662,
     "end_time": "2022-05-11T12:17:58.682898",
     "exception": false,
     "start_time": "2022-05-11T12:17:58.651236",
     "status": "completed"
    },
    "tags": []
   },
   "outputs": [],
   "source": []
  },
  {
   "cell_type": "code",
   "execution_count": null,
   "id": "aging-legislature",
   "metadata": {
    "papermill": {
     "duration": 0.031785,
     "end_time": "2022-05-11T12:17:58.746622",
     "exception": false,
     "start_time": "2022-05-11T12:17:58.714837",
     "status": "completed"
    },
    "tags": []
   },
   "outputs": [],
   "source": []
  }
 ],
 "metadata": {
  "kernelspec": {
   "display_name": "Python 3",
   "language": "python",
   "name": "python3"
  },
  "language_info": {
   "codemirror_mode": {
    "name": "ipython",
    "version": 3
   },
   "file_extension": ".py",
   "mimetype": "text/x-python",
   "name": "python",
   "nbconvert_exporter": "python",
   "pygments_lexer": "ipython3",
   "version": "3.6.15"
  },
  "papermill": {
   "duration": 6.097839,
   "end_time": "2022-05-11T12:17:59.096737",
   "environment_variables": {},
   "exception": null,
   "input_path": "2020-03-21-covid19exp.ipynb",
   "output_path": "2020-03-21-covid19exp.ipynb",
   "parameters": {},
   "start_time": "2022-05-11T12:17:52.998898",
   "version": "2.0.0"
  }
 },
 "nbformat": 4,
 "nbformat_minor": 5
}