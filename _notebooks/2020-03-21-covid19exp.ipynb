{
 "cells": [
  {
   "cell_type": "markdown",
   "id": "muslim-click",
   "metadata": {
    "papermill": {
     "duration": 0.041251,
     "end_time": "2021-05-08T00:13:43.953676",
     "exception": false,
     "start_time": "2021-05-08T00:13:43.912425",
     "status": "completed"
    },
    "tags": []
   },
   "source": [
    "# COVID-19 Case Race\n",
    "> A race chart to see rising cases around the world\n",
    "\n",
    "- author: Hargun Oberoi\n",
    "- image: images/covid-overview.png\n",
    "- hide: false\n",
    "- badges: false"
   ]
  },
  {
   "cell_type": "code",
   "execution_count": 1,
   "id": "proof-material",
   "metadata": {
    "execution": {
     "iopub.execute_input": "2021-05-08T00:13:44.037733Z",
     "iopub.status.busy": "2021-05-08T00:13:44.037058Z",
     "iopub.status.idle": "2021-05-08T00:13:44.382625Z",
     "shell.execute_reply": "2021-05-08T00:13:44.382076Z"
    },
    "papermill": {
     "duration": 0.391835,
     "end_time": "2021-05-08T00:13:44.382775",
     "exception": false,
     "start_time": "2021-05-08T00:13:43.990940",
     "status": "completed"
    },
    "tags": []
   },
   "outputs": [],
   "source": [
    "#hide\n",
    "import numpy as np\n",
    "import pandas as pd\n",
    "from jinja2 import Template\n",
    "from IPython.display import HTML"
   ]
  },
  {
   "cell_type": "code",
   "execution_count": 2,
   "id": "developed-terminology",
   "metadata": {
    "execution": {
     "iopub.execute_input": "2021-05-08T00:13:44.454643Z",
     "iopub.status.busy": "2021-05-08T00:13:44.454062Z",
     "iopub.status.idle": "2021-05-08T00:13:44.456985Z",
     "shell.execute_reply": "2021-05-08T00:13:44.456429Z"
    },
    "papermill": {
     "duration": 0.039552,
     "end_time": "2021-05-08T00:13:44.457101",
     "exception": false,
     "start_time": "2021-05-08T00:13:44.417549",
     "status": "completed"
    },
    "tags": []
   },
   "outputs": [],
   "source": [
    "#hide\n",
    "\n",
    "# FETCH\n",
    "base_url = 'https://raw.githubusercontent.com/pratapvardhan/notebooks/master/covid19/'\n",
    "paths = {\n",
    "    'mapping': base_url + 'mapping_countries.csv',\n",
    "    'overview': base_url + 'overview.tpl'\n",
    "}"
   ]
  },
  {
   "cell_type": "code",
   "execution_count": 3,
   "id": "dynamic-saver",
   "metadata": {
    "execution": {
     "iopub.execute_input": "2021-05-08T00:13:44.537339Z",
     "iopub.status.busy": "2021-05-08T00:13:44.536542Z",
     "iopub.status.idle": "2021-05-08T00:13:44.539564Z",
     "shell.execute_reply": "2021-05-08T00:13:44.540129Z"
    },
    "papermill": {
     "duration": 0.045811,
     "end_time": "2021-05-08T00:13:44.540260",
     "exception": false,
     "start_time": "2021-05-08T00:13:44.494449",
     "status": "completed"
    },
    "tags": []
   },
   "outputs": [
    {
     "data": {
      "text/plain": [
       "'https://raw.githubusercontent.com/pratapvardhan/notebooks/master/covid19/mapping_countries.csv'"
      ]
     },
     "execution_count": 3,
     "metadata": {},
     "output_type": "execute_result"
    }
   ],
   "source": [
    "#hide\n",
    "paths['mapping']"
   ]
  },
  {
   "cell_type": "code",
   "execution_count": 4,
   "id": "urban-software",
   "metadata": {
    "execution": {
     "iopub.execute_input": "2021-05-08T00:13:44.620995Z",
     "iopub.status.busy": "2021-05-08T00:13:44.620295Z",
     "iopub.status.idle": "2021-05-08T00:13:44.622637Z",
     "shell.execute_reply": "2021-05-08T00:13:44.622101Z"
    },
    "papermill": {
     "duration": 0.04384,
     "end_time": "2021-05-08T00:13:44.622752",
     "exception": false,
     "start_time": "2021-05-08T00:13:44.578912",
     "status": "completed"
    },
    "tags": []
   },
   "outputs": [],
   "source": [
    "#hide\n",
    "def get_mappings(url):\n",
    "    df = pd.read_csv(url)\n",
    "    return {\n",
    "        'df': df,\n",
    "        'replace.country': dict(df.dropna(subset=['Name']).set_index('Country')['Name']),\n",
    "        'map.continent': dict(df.set_index('Name')['Continent'])\n",
    "    }"
   ]
  },
  {
   "cell_type": "code",
   "execution_count": 5,
   "id": "intimate-machinery",
   "metadata": {
    "execution": {
     "iopub.execute_input": "2021-05-08T00:13:44.699361Z",
     "iopub.status.busy": "2021-05-08T00:13:44.698638Z",
     "iopub.status.idle": "2021-05-08T00:13:44.729920Z",
     "shell.execute_reply": "2021-05-08T00:13:44.729431Z"
    },
    "papermill": {
     "duration": 0.073782,
     "end_time": "2021-05-08T00:13:44.730091",
     "exception": false,
     "start_time": "2021-05-08T00:13:44.656309",
     "status": "completed"
    },
    "tags": []
   },
   "outputs": [],
   "source": [
    "#hide\n",
    "mapping = get_mappings(paths['mapping'])"
   ]
  },
  {
   "cell_type": "code",
   "execution_count": 6,
   "id": "certified-tactics",
   "metadata": {
    "execution": {
     "iopub.execute_input": "2021-05-08T00:13:44.806375Z",
     "iopub.status.busy": "2021-05-08T00:13:44.805790Z",
     "iopub.status.idle": "2021-05-08T00:13:44.807801Z",
     "shell.execute_reply": "2021-05-08T00:13:44.808326Z"
    },
    "papermill": {
     "duration": 0.043548,
     "end_time": "2021-05-08T00:13:44.808445",
     "exception": false,
     "start_time": "2021-05-08T00:13:44.764897",
     "status": "completed"
    },
    "tags": []
   },
   "outputs": [],
   "source": [
    "#hide\n",
    "def get_template(path):\n",
    "    from urllib.parse import urlparse\n",
    "    if bool(urlparse(path).netloc):\n",
    "        from urllib.request import urlopen\n",
    "        return urlopen(path).read().decode('utf8')\n",
    "    return open(path).read()"
   ]
  },
  {
   "cell_type": "code",
   "execution_count": 7,
   "id": "realistic-blast",
   "metadata": {
    "execution": {
     "iopub.execute_input": "2021-05-08T00:13:44.888083Z",
     "iopub.status.busy": "2021-05-08T00:13:44.887436Z",
     "iopub.status.idle": "2021-05-08T00:13:44.890034Z",
     "shell.execute_reply": "2021-05-08T00:13:44.889534Z"
    },
    "papermill": {
     "duration": 0.044398,
     "end_time": "2021-05-08T00:13:44.890925",
     "exception": false,
     "start_time": "2021-05-08T00:13:44.846527",
     "status": "completed"
    },
    "tags": []
   },
   "outputs": [],
   "source": [
    "#hide\n",
    "def get_frame(name):\n",
    "    url = (\n",
    "        'https://raw.githubusercontent.com/CSSEGISandData/COVID-19/master/csse_covid_19_data/'\n",
    "        f'csse_covid_19_time_series/time_series_covid19_{name}_global.csv')\n",
    "    df = pd.read_csv(url)\n",
    "    # rename countries\n",
    "    df['Country/Region'] = df['Country/Region'].replace(mapping['replace.country'])\n",
    "    return df"
   ]
  },
  {
   "cell_type": "code",
   "execution_count": 8,
   "id": "affiliated-characterization",
   "metadata": {
    "execution": {
     "iopub.execute_input": "2021-05-08T00:13:44.967996Z",
     "iopub.status.busy": "2021-05-08T00:13:44.967339Z",
     "iopub.status.idle": "2021-05-08T00:13:44.969755Z",
     "shell.execute_reply": "2021-05-08T00:13:44.969164Z"
    },
    "papermill": {
     "duration": 0.043316,
     "end_time": "2021-05-08T00:13:44.969862",
     "exception": false,
     "start_time": "2021-05-08T00:13:44.926546",
     "status": "completed"
    },
    "tags": []
   },
   "outputs": [],
   "source": [
    "#hide\n",
    "def get_dates(df):\n",
    "    dt_cols = df.columns[~df.columns.isin(['Province/State', 'Country/Region', 'Lat', 'Long'])]\n",
    "    LAST_DATE_I = -1\n",
    "    # sometimes last column may be empty, then go backwards\n",
    "    for i in range(-1, -len(dt_cols), -1):\n",
    "        if not df[dt_cols[i]].fillna(0).eq(0).all():\n",
    "            LAST_DATE_I = i\n",
    "            break\n",
    "    return LAST_DATE_I, dt_cols"
   ]
  },
  {
   "cell_type": "code",
   "execution_count": 9,
   "id": "recent-optimization",
   "metadata": {
    "execution": {
     "iopub.execute_input": "2021-05-08T00:13:45.048220Z",
     "iopub.status.busy": "2021-05-08T00:13:45.047554Z",
     "iopub.status.idle": "2021-05-08T00:13:45.346693Z",
     "shell.execute_reply": "2021-05-08T00:13:45.346090Z"
    },
    "papermill": {
     "duration": 0.339831,
     "end_time": "2021-05-08T00:13:45.346817",
     "exception": false,
     "start_time": "2021-05-08T00:13:45.006986",
     "status": "completed"
    },
    "tags": []
   },
   "outputs": [],
   "source": [
    "#hide\n",
    "COL_REGION = 'Country/Region'\n",
    "# Confirmed, Recovered, Deaths\n",
    "df = get_frame('confirmed')\n",
    "# dft_: timeseries, dfc_: today country agg\n",
    "dft_cases = df\n",
    "dft_deaths = get_frame('deaths')\n",
    "dft_recovered = get_frame('recovered')\n",
    "LAST_DATE_I, dt_cols = get_dates(df)"
   ]
  },
  {
   "cell_type": "code",
   "execution_count": 10,
   "id": "absolute-copper",
   "metadata": {
    "execution": {
     "iopub.execute_input": "2021-05-08T00:13:45.423012Z",
     "iopub.status.busy": "2021-05-08T00:13:45.422329Z",
     "iopub.status.idle": "2021-05-08T00:13:45.424814Z",
     "shell.execute_reply": "2021-05-08T00:13:45.424318Z"
    },
    "papermill": {
     "duration": 0.044188,
     "end_time": "2021-05-08T00:13:45.424940",
     "exception": false,
     "start_time": "2021-05-08T00:13:45.380752",
     "status": "completed"
    },
    "tags": []
   },
   "outputs": [],
   "source": [
    "#hide\n",
    "LAST_DATE_I, dt_cols = get_dates(df)\n",
    "dt_today =dt_cols[LAST_DATE_I]\n",
    "# dt_5day = dt_cols[LAST_DATE_I - 5]\n",
    "dt_yday = dt_cols[LAST_DATE_I - 1]"
   ]
  },
  {
   "cell_type": "code",
   "execution_count": 11,
   "id": "restricted-sheriff",
   "metadata": {
    "execution": {
     "iopub.execute_input": "2021-05-08T00:13:45.501202Z",
     "iopub.status.busy": "2021-05-08T00:13:45.500417Z",
     "iopub.status.idle": "2021-05-08T00:13:45.507474Z",
     "shell.execute_reply": "2021-05-08T00:13:45.506205Z"
    },
    "papermill": {
     "duration": 0.049668,
     "end_time": "2021-05-08T00:13:45.507611",
     "exception": false,
     "start_time": "2021-05-08T00:13:45.457943",
     "status": "completed"
    },
    "tags": []
   },
   "outputs": [],
   "source": [
    "#hide\n",
    "dfc_cases = dft_cases.groupby(COL_REGION)[dt_today].sum()\n",
    "dfc_deaths = dft_deaths.groupby(COL_REGION)[dt_today].sum()\n",
    "# dfp_cases = dft_cases.groupby(COL_REGION)[dt_5day].sum()\n",
    "# dfp_deaths = dft_deaths.groupby(COL_REGION)[dt_5day].sum()\n",
    "dfp_cases = dft_cases.groupby(COL_REGION)[dt_yday].sum()\n",
    "dfp_deaths = dft_deaths.groupby(COL_REGION)[dt_yday].sum()"
   ]
  },
  {
   "cell_type": "code",
   "execution_count": 12,
   "id": "deluxe-hepatitis",
   "metadata": {
    "execution": {
     "iopub.execute_input": "2021-05-08T00:13:45.584596Z",
     "iopub.status.busy": "2021-05-08T00:13:45.584059Z",
     "iopub.status.idle": "2021-05-08T00:13:45.588513Z",
     "shell.execute_reply": "2021-05-08T00:13:45.589047Z"
    },
    "papermill": {
     "duration": 0.046834,
     "end_time": "2021-05-08T00:13:45.589199",
     "exception": false,
     "start_time": "2021-05-08T00:13:45.542365",
     "status": "completed"
    },
    "tags": []
   },
   "outputs": [],
   "source": [
    "#hide\n",
    "df_table = (pd.DataFrame(dict(Cases = dfc_cases, Deaths = dfc_deaths, PCases = dfp_cases, PDeaths = dfp_deaths))\n",
    "            .sort_values(by = ['Cases','Deaths'], ascending = [False, False])\n",
    "            .reset_index())"
   ]
  },
  {
   "cell_type": "code",
   "execution_count": 13,
   "id": "educational-chancellor",
   "metadata": {
    "execution": {
     "iopub.execute_input": "2021-05-08T00:13:45.686726Z",
     "iopub.status.busy": "2021-05-08T00:13:45.681625Z",
     "iopub.status.idle": "2021-05-08T00:13:45.690586Z",
     "shell.execute_reply": "2021-05-08T00:13:45.690047Z"
    },
    "papermill": {
     "duration": 0.065254,
     "end_time": "2021-05-08T00:13:45.690699",
     "exception": false,
     "start_time": "2021-05-08T00:13:45.625445",
     "status": "completed"
    },
    "tags": []
   },
   "outputs": [
    {
     "data": {
      "text/html": [
       "<div>\n",
       "<style scoped>\n",
       "    .dataframe tbody tr th:only-of-type {\n",
       "        vertical-align: middle;\n",
       "    }\n",
       "\n",
       "    .dataframe tbody tr th {\n",
       "        vertical-align: top;\n",
       "    }\n",
       "\n",
       "    .dataframe thead th {\n",
       "        text-align: right;\n",
       "    }\n",
       "</style>\n",
       "<table border=\"1\" class=\"dataframe\">\n",
       "  <thead>\n",
       "    <tr style=\"text-align: right;\">\n",
       "      <th></th>\n",
       "      <th>Country/Region</th>\n",
       "      <th>Cases</th>\n",
       "      <th>Deaths</th>\n",
       "      <th>PCases</th>\n",
       "      <th>PDeaths</th>\n",
       "      <th>Cases (+)</th>\n",
       "      <th>Deaths (+)</th>\n",
       "      <th>Fatality Rate</th>\n",
       "      <th>Continent</th>\n",
       "    </tr>\n",
       "  </thead>\n",
       "  <tbody>\n",
       "    <tr>\n",
       "      <th>0</th>\n",
       "      <td>US</td>\n",
       "      <td>32604810</td>\n",
       "      <td>580064</td>\n",
       "      <td>32557444</td>\n",
       "      <td>579275</td>\n",
       "      <td>47366</td>\n",
       "      <td>789</td>\n",
       "      <td>1.78</td>\n",
       "      <td>North America</td>\n",
       "    </tr>\n",
       "    <tr>\n",
       "      <th>1</th>\n",
       "      <td>India</td>\n",
       "      <td>21491598</td>\n",
       "      <td>234083</td>\n",
       "      <td>21077410</td>\n",
       "      <td>230168</td>\n",
       "      <td>414188</td>\n",
       "      <td>3915</td>\n",
       "      <td>1.09</td>\n",
       "      <td>Asia</td>\n",
       "    </tr>\n",
       "    <tr>\n",
       "      <th>2</th>\n",
       "      <td>Brazil</td>\n",
       "      <td>15003563</td>\n",
       "      <td>416949</td>\n",
       "      <td>14930183</td>\n",
       "      <td>414399</td>\n",
       "      <td>73380</td>\n",
       "      <td>2550</td>\n",
       "      <td>2.78</td>\n",
       "      <td>South America</td>\n",
       "    </tr>\n",
       "    <tr>\n",
       "      <th>3</th>\n",
       "      <td>France</td>\n",
       "      <td>5789283</td>\n",
       "      <td>106011</td>\n",
       "      <td>5767541</td>\n",
       "      <td>105792</td>\n",
       "      <td>21742</td>\n",
       "      <td>219</td>\n",
       "      <td>1.83</td>\n",
       "      <td>Europe</td>\n",
       "    </tr>\n",
       "    <tr>\n",
       "      <th>4</th>\n",
       "      <td>Turkey</td>\n",
       "      <td>4977982</td>\n",
       "      <td>42187</td>\n",
       "      <td>4955594</td>\n",
       "      <td>41883</td>\n",
       "      <td>22388</td>\n",
       "      <td>304</td>\n",
       "      <td>0.85</td>\n",
       "      <td>Asia</td>\n",
       "    </tr>\n",
       "  </tbody>\n",
       "</table>\n",
       "</div>"
      ],
      "text/plain": [
       "  Country/Region     Cases  Deaths    PCases  PDeaths  Cases (+)  Deaths (+)  \\\n",
       "0             US  32604810  580064  32557444   579275      47366         789   \n",
       "1          India  21491598  234083  21077410   230168     414188        3915   \n",
       "2         Brazil  15003563  416949  14930183   414399      73380        2550   \n",
       "3         France   5789283  106011   5767541   105792      21742         219   \n",
       "4         Turkey   4977982   42187   4955594    41883      22388         304   \n",
       "\n",
       "   Fatality Rate      Continent  \n",
       "0           1.78  North America  \n",
       "1           1.09           Asia  \n",
       "2           2.78  South America  \n",
       "3           1.83         Europe  \n",
       "4           0.85           Asia  "
      ]
     },
     "execution_count": 13,
     "metadata": {},
     "output_type": "execute_result"
    }
   ],
   "source": [
    "#hide\n",
    "for c in 'Cases, Deaths'.split(', '):\n",
    "    df_table[f'{c} (+)'] = (df_table[c] - df_table[f'P{c}']).clip(0)\n",
    "    #Clip ça veut dire, les chiffres negatif sont interdit\n",
    "df_table['Fatality Rate'] = (100* df_table['Deaths']/ df_table['Cases']).round(2)\n",
    "df_table['Continent'] = df_table['Country/Region'].map(mapping['map.continent'])\n",
    "df_table.head(5)"
   ]
  },
  {
   "cell_type": "code",
   "execution_count": 14,
   "id": "aboriginal-bulgaria",
   "metadata": {
    "execution": {
     "iopub.execute_input": "2021-05-08T00:13:45.765650Z",
     "iopub.status.busy": "2021-05-08T00:13:45.765021Z",
     "iopub.status.idle": "2021-05-08T00:13:45.767868Z",
     "shell.execute_reply": "2021-05-08T00:13:45.768486Z"
    },
    "papermill": {
     "duration": 0.041521,
     "end_time": "2021-05-08T00:13:45.768599",
     "exception": false,
     "start_time": "2021-05-08T00:13:45.727078",
     "status": "completed"
    },
    "tags": []
   },
   "outputs": [],
   "source": [
    "#hide\n",
    "#delete problematic countries from table\n",
    "df_table = df_table[~df_table['Country/Region'].isin(['Cape Verde', 'Cruise Ship', 'Kosovo'])]"
   ]
  },
  {
   "cell_type": "code",
   "execution_count": 15,
   "id": "fantastic-effect",
   "metadata": {
    "execution": {
     "iopub.execute_input": "2021-05-08T00:13:45.845051Z",
     "iopub.status.busy": "2021-05-08T00:13:45.844520Z",
     "iopub.status.idle": "2021-05-08T00:13:45.863998Z",
     "shell.execute_reply": "2021-05-08T00:13:45.864461Z"
    },
    "papermill": {
     "duration": 0.061753,
     "end_time": "2021-05-08T00:13:45.864614",
     "exception": false,
     "start_time": "2021-05-08T00:13:45.802861",
     "status": "completed"
    },
    "tags": []
   },
   "outputs": [
    {
     "data": {
      "text/html": [
       "<div>\n",
       "<style scoped>\n",
       "    .dataframe tbody tr th:only-of-type {\n",
       "        vertical-align: middle;\n",
       "    }\n",
       "\n",
       "    .dataframe tbody tr th {\n",
       "        vertical-align: top;\n",
       "    }\n",
       "\n",
       "    .dataframe thead th {\n",
       "        text-align: right;\n",
       "    }\n",
       "</style>\n",
       "<table border=\"1\" class=\"dataframe\">\n",
       "  <thead>\n",
       "    <tr style=\"text-align: right;\">\n",
       "      <th></th>\n",
       "      <th>Country/Region</th>\n",
       "      <th>Cases</th>\n",
       "      <th>Deaths</th>\n",
       "      <th>PCases</th>\n",
       "      <th>PDeaths</th>\n",
       "      <th>Cases (+)</th>\n",
       "      <th>Deaths (+)</th>\n",
       "      <th>Fatality Rate</th>\n",
       "      <th>Continent</th>\n",
       "    </tr>\n",
       "  </thead>\n",
       "  <tbody>\n",
       "    <tr>\n",
       "      <th>0</th>\n",
       "      <td>US</td>\n",
       "      <td>32604810</td>\n",
       "      <td>580064</td>\n",
       "      <td>32557444</td>\n",
       "      <td>579275</td>\n",
       "      <td>47366</td>\n",
       "      <td>789</td>\n",
       "      <td>1.8</td>\n",
       "      <td>North America</td>\n",
       "    </tr>\n",
       "    <tr>\n",
       "      <th>1</th>\n",
       "      <td>India</td>\n",
       "      <td>21491598</td>\n",
       "      <td>234083</td>\n",
       "      <td>21077410</td>\n",
       "      <td>230168</td>\n",
       "      <td>414188</td>\n",
       "      <td>3915</td>\n",
       "      <td>1.1</td>\n",
       "      <td>Asia</td>\n",
       "    </tr>\n",
       "    <tr>\n",
       "      <th>2</th>\n",
       "      <td>Brazil</td>\n",
       "      <td>15003563</td>\n",
       "      <td>416949</td>\n",
       "      <td>14930183</td>\n",
       "      <td>414399</td>\n",
       "      <td>73380</td>\n",
       "      <td>2550</td>\n",
       "      <td>2.8</td>\n",
       "      <td>South America</td>\n",
       "    </tr>\n",
       "    <tr>\n",
       "      <th>3</th>\n",
       "      <td>France</td>\n",
       "      <td>5789283</td>\n",
       "      <td>106011</td>\n",
       "      <td>5767541</td>\n",
       "      <td>105792</td>\n",
       "      <td>21742</td>\n",
       "      <td>219</td>\n",
       "      <td>1.8</td>\n",
       "      <td>Europe</td>\n",
       "    </tr>\n",
       "    <tr>\n",
       "      <th>4</th>\n",
       "      <td>Turkey</td>\n",
       "      <td>4977982</td>\n",
       "      <td>42187</td>\n",
       "      <td>4955594</td>\n",
       "      <td>41883</td>\n",
       "      <td>22388</td>\n",
       "      <td>304</td>\n",
       "      <td>0.8</td>\n",
       "      <td>Asia</td>\n",
       "    </tr>\n",
       "  </tbody>\n",
       "</table>\n",
       "</div>"
      ],
      "text/plain": [
       "  Country/Region     Cases  Deaths    PCases  PDeaths  Cases (+)  Deaths (+)  \\\n",
       "0             US  32604810  580064  32557444   579275      47366         789   \n",
       "1          India  21491598  234083  21077410   230168     414188        3915   \n",
       "2         Brazil  15003563  416949  14930183   414399      73380        2550   \n",
       "3         France   5789283  106011   5767541   105792      21742         219   \n",
       "4         Turkey   4977982   42187   4955594    41883      22388         304   \n",
       "\n",
       "   Fatality Rate      Continent  \n",
       "0            1.8  North America  \n",
       "1            1.1           Asia  \n",
       "2            2.8  South America  \n",
       "3            1.8         Europe  \n",
       "4            0.8           Asia  "
      ]
     },
     "execution_count": 15,
     "metadata": {},
     "output_type": "execute_result"
    }
   ],
   "source": [
    "#hide\n",
    "df_table = (pd.DataFrame(dict(Cases=dfc_cases, Deaths=dfc_deaths, PCases=dfp_cases, PDeaths=dfp_deaths))\n",
    "             .sort_values(by=['Cases', 'Deaths'], ascending=[False, False])\n",
    "             .reset_index())\n",
    "df_table.rename(columns={'index': 'Country/Region'}, inplace=True)\n",
    "for c in 'Cases, Deaths'.split(', '):\n",
    "    df_table[f'{c} (+)'] = (df_table[c] - df_table[f'P{c}']).clip(0)  # DATA BUG\n",
    "df_table['Fatality Rate'] = (100 * df_table['Deaths'] / df_table['Cases']).round(1)\n",
    "df_table['Continent'] = df_table['Country/Region'].map(mapping['map.continent'])\n",
    "df_table.head(5)"
   ]
  },
  {
   "cell_type": "code",
   "execution_count": 16,
   "id": "fewer-occasion",
   "metadata": {
    "execution": {
     "iopub.execute_input": "2021-05-08T00:13:45.937459Z",
     "iopub.status.busy": "2021-05-08T00:13:45.936897Z",
     "iopub.status.idle": "2021-05-08T00:13:45.939823Z",
     "shell.execute_reply": "2021-05-08T00:13:45.940937Z"
    },
    "papermill": {
     "duration": 0.043114,
     "end_time": "2021-05-08T00:13:45.941108",
     "exception": false,
     "start_time": "2021-05-08T00:13:45.897994",
     "status": "completed"
    },
    "tags": []
   },
   "outputs": [],
   "source": [
    "#hide\n",
    "#delete problematic countries from table\n",
    "df_table = df_table[~df_table['Country/Region'].isin(['Cape Verde', 'Cruise Ship', 'Kosovo'])]"
   ]
  },
  {
   "cell_type": "code",
   "execution_count": 17,
   "id": "related-center",
   "metadata": {
    "execution": {
     "iopub.execute_input": "2021-05-08T00:13:46.041524Z",
     "iopub.status.busy": "2021-05-08T00:13:46.040739Z",
     "iopub.status.idle": "2021-05-08T00:13:46.043328Z",
     "shell.execute_reply": "2021-05-08T00:13:46.043875Z"
    },
    "papermill": {
     "duration": 0.064879,
     "end_time": "2021-05-08T00:13:46.044018",
     "exception": false,
     "start_time": "2021-05-08T00:13:45.979139",
     "status": "completed"
    },
    "tags": []
   },
   "outputs": [],
   "source": [
    "#hide\n",
    "metrics = [df_table.columns[index] for index in [1,2,5,6]]\n",
    "# s_china = df_table[df_table['Country/Region'].eq('China')][metrics].sum().add_prefix('China ')\n",
    "s_us = df_table[df_table['Country/Region'].eq('US')][metrics].sum().add_prefix('US ')\n",
    "s_eu = df_table[df_table['Continent'].eq('Europe')][metrics].sum().add_prefix('EU ')\n",
    "s_ind = df_table[df_table['Country/Region'].eq('India')][metrics].sum().add_prefix('India ')\n",
    "summary = {'updated': pd.to_datetime(dt_today), 'since': pd.to_datetime(dt_yday)}\n",
    "summary = {'updated': pd.to_datetime(dt_today), 'since': pd.to_datetime(dt_yday)}\n",
    "summary = {**summary, **df_table[metrics].sum(), **s_ind, **s_us, **s_eu}"
   ]
  },
  {
   "cell_type": "code",
   "execution_count": 18,
   "id": "engaging-syndrome",
   "metadata": {
    "execution": {
     "iopub.execute_input": "2021-05-08T00:13:46.136482Z",
     "iopub.status.busy": "2021-05-08T00:13:46.135763Z",
     "iopub.status.idle": "2021-05-08T00:13:46.150495Z",
     "shell.execute_reply": "2021-05-08T00:13:46.149866Z"
    },
    "papermill": {
     "duration": 0.064147,
     "end_time": "2021-05-08T00:13:46.151073",
     "exception": false,
     "start_time": "2021-05-08T00:13:46.086926",
     "status": "completed"
    },
    "tags": []
   },
   "outputs": [],
   "source": [
    "#hide\n",
    "dft_ct_new_cases = dft_cases.groupby(COL_REGION)[dt_cols].sum().diff(axis=1).fillna(0).astype(int)"
   ]
  },
  {
   "cell_type": "code",
   "execution_count": 19,
   "id": "neutral-assignment",
   "metadata": {
    "execution": {
     "iopub.execute_input": "2021-05-08T00:13:46.240724Z",
     "iopub.status.busy": "2021-05-08T00:13:46.240100Z",
     "iopub.status.idle": "2021-05-08T00:13:46.242701Z",
     "shell.execute_reply": "2021-05-08T00:13:46.243339Z"
    },
    "papermill": {
     "duration": 0.050689,
     "end_time": "2021-05-08T00:13:46.243470",
     "exception": false,
     "start_time": "2021-05-08T00:13:46.192781",
     "status": "completed"
    },
    "tags": []
   },
   "outputs": [],
   "source": [
    "#hide\n",
    "everydaycases = dft_ct_new_cases.cumsum(axis=1)"
   ]
  },
  {
   "cell_type": "code",
   "execution_count": 20,
   "id": "parliamentary-calgary",
   "metadata": {
    "execution": {
     "iopub.execute_input": "2021-05-08T00:13:46.327478Z",
     "iopub.status.busy": "2021-05-08T00:13:46.326840Z",
     "iopub.status.idle": "2021-05-08T00:13:46.966200Z",
     "shell.execute_reply": "2021-05-08T00:13:46.966662Z"
    },
    "papermill": {
     "duration": 0.684454,
     "end_time": "2021-05-08T00:13:46.966796",
     "exception": false,
     "start_time": "2021-05-08T00:13:46.282342",
     "status": "completed"
    },
    "tags": []
   },
   "outputs": [],
   "source": [
    "#hide\n",
    "import pandas as pd\n",
    "import matplotlib.pyplot as plt\n",
    "import matplotlib.ticker as ticker\n",
    "import matplotlib.animation as animation\n",
    "from IPython.display import HTML"
   ]
  },
  {
   "cell_type": "code",
   "execution_count": 21,
   "id": "lasting-extraction",
   "metadata": {
    "execution": {
     "iopub.execute_input": "2021-05-08T00:13:47.049000Z",
     "iopub.status.busy": "2021-05-08T00:13:47.048315Z",
     "iopub.status.idle": "2021-05-08T00:13:47.061749Z",
     "shell.execute_reply": "2021-05-08T00:13:47.061235Z"
    },
    "papermill": {
     "duration": 0.061547,
     "end_time": "2021-05-08T00:13:47.061881",
     "exception": false,
     "start_time": "2021-05-08T00:13:47.000334",
     "status": "completed"
    },
    "tags": []
   },
   "outputs": [],
   "source": [
    "#hide\n",
    "t = everydaycases.stack()"
   ]
  },
  {
   "cell_type": "code",
   "execution_count": 22,
   "id": "premier-sleeve",
   "metadata": {
    "execution": {
     "iopub.execute_input": "2021-05-08T00:13:47.152607Z",
     "iopub.status.busy": "2021-05-08T00:13:47.151935Z",
     "iopub.status.idle": "2021-05-08T00:13:47.160489Z",
     "shell.execute_reply": "2021-05-08T00:13:47.161084Z"
    },
    "papermill": {
     "duration": 0.057135,
     "end_time": "2021-05-08T00:13:47.161400",
     "exception": false,
     "start_time": "2021-05-08T00:13:47.104265",
     "status": "completed"
    },
    "tags": []
   },
   "outputs": [],
   "source": [
    "#hide\n",
    "g = t.reset_index(['Country/Region'])"
   ]
  },
  {
   "cell_type": "code",
   "execution_count": 23,
   "id": "distributed-pittsburgh",
   "metadata": {
    "execution": {
     "iopub.execute_input": "2021-05-08T00:13:47.245540Z",
     "iopub.status.busy": "2021-05-08T00:13:47.244832Z",
     "iopub.status.idle": "2021-05-08T00:13:47.246534Z",
     "shell.execute_reply": "2021-05-08T00:13:47.247553Z"
    },
    "papermill": {
     "duration": 0.046328,
     "end_time": "2021-05-08T00:13:47.247682",
     "exception": false,
     "start_time": "2021-05-08T00:13:47.201354",
     "status": "completed"
    },
    "tags": []
   },
   "outputs": [],
   "source": [
    "#hide\n",
    "g.index.name = 'date'"
   ]
  },
  {
   "cell_type": "code",
   "execution_count": 24,
   "id": "naked-donor",
   "metadata": {
    "execution": {
     "iopub.execute_input": "2021-05-08T00:13:47.329678Z",
     "iopub.status.busy": "2021-05-08T00:13:47.328988Z",
     "iopub.status.idle": "2021-05-08T00:13:47.331011Z",
     "shell.execute_reply": "2021-05-08T00:13:47.331726Z"
    },
    "papermill": {
     "duration": 0.044639,
     "end_time": "2021-05-08T00:13:47.331873",
     "exception": false,
     "start_time": "2021-05-08T00:13:47.287234",
     "status": "completed"
    },
    "tags": []
   },
   "outputs": [],
   "source": [
    "# #hide\n",
    "# g = g.reset_index(['date'])"
   ]
  },
  {
   "cell_type": "code",
   "execution_count": 25,
   "id": "incomplete-mustang",
   "metadata": {
    "execution": {
     "iopub.execute_input": "2021-05-08T00:13:47.416298Z",
     "iopub.status.busy": "2021-05-08T00:13:47.415545Z",
     "iopub.status.idle": "2021-05-08T00:13:47.417736Z",
     "shell.execute_reply": "2021-05-08T00:13:47.418330Z"
    },
    "papermill": {
     "duration": 0.046767,
     "end_time": "2021-05-08T00:13:47.418468",
     "exception": false,
     "start_time": "2021-05-08T00:13:47.371701",
     "status": "completed"
    },
    "tags": []
   },
   "outputs": [],
   "source": [
    "#hide\n",
    "# g.head()"
   ]
  },
  {
   "cell_type": "code",
   "execution_count": 26,
   "id": "specific-kruger",
   "metadata": {
    "execution": {
     "iopub.execute_input": "2021-05-08T00:13:47.499459Z",
     "iopub.status.busy": "2021-05-08T00:13:47.498813Z",
     "iopub.status.idle": "2021-05-08T00:13:47.501116Z",
     "shell.execute_reply": "2021-05-08T00:13:47.500590Z"
    },
    "papermill": {
     "duration": 0.043527,
     "end_time": "2021-05-08T00:13:47.501233",
     "exception": false,
     "start_time": "2021-05-08T00:13:47.457706",
     "status": "completed"
    },
    "tags": []
   },
   "outputs": [],
   "source": [
    "#hide\n",
    "# g.columns = ['date','country','cases']"
   ]
  },
  {
   "cell_type": "code",
   "execution_count": 27,
   "id": "tender-conversion",
   "metadata": {
    "execution": {
     "iopub.execute_input": "2021-05-08T00:13:47.581557Z",
     "iopub.status.busy": "2021-05-08T00:13:47.580842Z",
     "iopub.status.idle": "2021-05-08T00:13:47.583195Z",
     "shell.execute_reply": "2021-05-08T00:13:47.582598Z"
    },
    "papermill": {
     "duration": 0.042877,
     "end_time": "2021-05-08T00:13:47.583316",
     "exception": false,
     "start_time": "2021-05-08T00:13:47.540439",
     "status": "completed"
    },
    "tags": []
   },
   "outputs": [],
   "source": [
    "#hide\n",
    "# g['continent'] = g.country"
   ]
  },
  {
   "cell_type": "code",
   "execution_count": 28,
   "id": "substantial-wilderness",
   "metadata": {
    "execution": {
     "iopub.execute_input": "2021-05-08T00:13:47.663960Z",
     "iopub.status.busy": "2021-05-08T00:13:47.663251Z",
     "iopub.status.idle": "2021-05-08T00:13:47.665570Z",
     "shell.execute_reply": "2021-05-08T00:13:47.665138Z"
    },
    "papermill": {
     "duration": 0.045694,
     "end_time": "2021-05-08T00:13:47.665670",
     "exception": false,
     "start_time": "2021-05-08T00:13:47.619976",
     "status": "completed"
    },
    "tags": []
   },
   "outputs": [],
   "source": [
    "#hide\n",
    "# cols = list(g.columns.values)"
   ]
  },
  {
   "cell_type": "code",
   "execution_count": 29,
   "id": "solved-farming",
   "metadata": {
    "execution": {
     "iopub.execute_input": "2021-05-08T00:13:47.741740Z",
     "iopub.status.busy": "2021-05-08T00:13:47.741169Z",
     "iopub.status.idle": "2021-05-08T00:13:47.742913Z",
     "shell.execute_reply": "2021-05-08T00:13:47.743410Z"
    },
    "papermill": {
     "duration": 0.045273,
     "end_time": "2021-05-08T00:13:47.743540",
     "exception": false,
     "start_time": "2021-05-08T00:13:47.698267",
     "status": "completed"
    },
    "tags": []
   },
   "outputs": [],
   "source": [
    "#hide\n",
    "# cols.insert(0, cols.pop())"
   ]
  },
  {
   "cell_type": "code",
   "execution_count": 30,
   "id": "executed-adoption",
   "metadata": {
    "execution": {
     "iopub.execute_input": "2021-05-08T00:13:47.824540Z",
     "iopub.status.busy": "2021-05-08T00:13:47.823961Z",
     "iopub.status.idle": "2021-05-08T00:13:47.826054Z",
     "shell.execute_reply": "2021-05-08T00:13:47.826697Z"
    },
    "papermill": {
     "duration": 0.045203,
     "end_time": "2021-05-08T00:13:47.826835",
     "exception": false,
     "start_time": "2021-05-08T00:13:47.781632",
     "status": "completed"
    },
    "tags": []
   },
   "outputs": [],
   "source": [
    "#hide\n",
    "# g = g[cols]"
   ]
  },
  {
   "cell_type": "code",
   "execution_count": 31,
   "id": "subject-dublin",
   "metadata": {
    "execution": {
     "iopub.execute_input": "2021-05-08T00:13:47.905391Z",
     "iopub.status.busy": "2021-05-08T00:13:47.904847Z",
     "iopub.status.idle": "2021-05-08T00:13:47.907524Z",
     "shell.execute_reply": "2021-05-08T00:13:47.906832Z"
    },
    "papermill": {
     "duration": 0.043208,
     "end_time": "2021-05-08T00:13:47.907632",
     "exception": false,
     "start_time": "2021-05-08T00:13:47.864424",
     "status": "completed"
    },
    "tags": []
   },
   "outputs": [],
   "source": [
    "#hide\n",
    "# g['continent'] = g['continent'].map(mapping['map.continent'])"
   ]
  },
  {
   "cell_type": "code",
   "execution_count": 32,
   "id": "freelance-scout",
   "metadata": {
    "execution": {
     "iopub.execute_input": "2021-05-08T00:13:47.990991Z",
     "iopub.status.busy": "2021-05-08T00:13:47.990396Z",
     "iopub.status.idle": "2021-05-08T00:13:47.992825Z",
     "shell.execute_reply": "2021-05-08T00:13:47.991911Z"
    },
    "papermill": {
     "duration": 0.046308,
     "end_time": "2021-05-08T00:13:47.993034",
     "exception": false,
     "start_time": "2021-05-08T00:13:47.946726",
     "status": "completed"
    },
    "tags": []
   },
   "outputs": [],
   "source": [
    "#hide\n",
    "# g.head()"
   ]
  },
  {
   "cell_type": "code",
   "execution_count": 33,
   "id": "limited-engine",
   "metadata": {
    "execution": {
     "iopub.execute_input": "2021-05-08T00:13:48.073002Z",
     "iopub.status.busy": "2021-05-08T00:13:48.072379Z",
     "iopub.status.idle": "2021-05-08T00:13:48.075401Z",
     "shell.execute_reply": "2021-05-08T00:13:48.074732Z"
    },
    "papermill": {
     "duration": 0.044698,
     "end_time": "2021-05-08T00:13:48.075533",
     "exception": false,
     "start_time": "2021-05-08T00:13:48.030835",
     "status": "completed"
    },
    "tags": []
   },
   "outputs": [],
   "source": [
    "# hide\n",
    "# g['date'] = g['date'].astype('datetime64[ns]')"
   ]
  },
  {
   "cell_type": "code",
   "execution_count": 34,
   "id": "sophisticated-supervisor",
   "metadata": {
    "execution": {
     "iopub.execute_input": "2021-05-08T00:13:48.156894Z",
     "iopub.status.busy": "2021-05-08T00:13:48.156136Z",
     "iopub.status.idle": "2021-05-08T00:13:48.158924Z",
     "shell.execute_reply": "2021-05-08T00:13:48.158336Z"
    },
    "papermill": {
     "duration": 0.04481,
     "end_time": "2021-05-08T00:13:48.159061",
     "exception": false,
     "start_time": "2021-05-08T00:13:48.114251",
     "status": "completed"
    },
    "tags": []
   },
   "outputs": [],
   "source": [
    "#hide\n",
    "# g['date'] = g.date.dt.dayofyear"
   ]
  },
  {
   "cell_type": "code",
   "execution_count": 35,
   "id": "inside-dubai",
   "metadata": {
    "execution": {
     "iopub.execute_input": "2021-05-08T00:13:48.244383Z",
     "iopub.status.busy": "2021-05-08T00:13:48.243639Z",
     "iopub.status.idle": "2021-05-08T00:13:48.246508Z",
     "shell.execute_reply": "2021-05-08T00:13:48.245903Z"
    },
    "papermill": {
     "duration": 0.047312,
     "end_time": "2021-05-08T00:13:48.246631",
     "exception": false,
     "start_time": "2021-05-08T00:13:48.199319",
     "status": "completed"
    },
    "tags": []
   },
   "outputs": [],
   "source": [
    "#hide\n",
    "# g = g.rename(columns= {'continent':'group','country':'name','cases':'value'})"
   ]
  },
  {
   "cell_type": "code",
   "execution_count": 36,
   "id": "fleet-motorcycle",
   "metadata": {
    "execution": {
     "iopub.execute_input": "2021-05-08T00:13:48.333548Z",
     "iopub.status.busy": "2021-05-08T00:13:48.332905Z",
     "iopub.status.idle": "2021-05-08T00:13:48.334857Z",
     "shell.execute_reply": "2021-05-08T00:13:48.335407Z"
    },
    "papermill": {
     "duration": 0.046074,
     "end_time": "2021-05-08T00:13:48.335549",
     "exception": false,
     "start_time": "2021-05-08T00:13:48.289475",
     "status": "completed"
    },
    "tags": []
   },
   "outputs": [],
   "source": [
    "#hide\n",
    "# cols = ['name','group','day','value']"
   ]
  },
  {
   "cell_type": "code",
   "execution_count": 37,
   "id": "continued-sleeping",
   "metadata": {
    "execution": {
     "iopub.execute_input": "2021-05-08T00:13:48.419696Z",
     "iopub.status.busy": "2021-05-08T00:13:48.419074Z",
     "iopub.status.idle": "2021-05-08T00:13:48.421644Z",
     "shell.execute_reply": "2021-05-08T00:13:48.420980Z"
    },
    "papermill": {
     "duration": 0.045787,
     "end_time": "2021-05-08T00:13:48.421764",
     "exception": false,
     "start_time": "2021-05-08T00:13:48.375977",
     "status": "completed"
    },
    "tags": []
   },
   "outputs": [],
   "source": [
    "#hide\n",
    "# g.rename(columns= {'date':'day'},inplace = True)"
   ]
  },
  {
   "cell_type": "code",
   "execution_count": 38,
   "id": "major-fight",
   "metadata": {
    "execution": {
     "iopub.execute_input": "2021-05-08T00:13:48.503641Z",
     "iopub.status.busy": "2021-05-08T00:13:48.502860Z",
     "iopub.status.idle": "2021-05-08T00:13:48.505394Z",
     "shell.execute_reply": "2021-05-08T00:13:48.504816Z"
    },
    "papermill": {
     "duration": 0.042988,
     "end_time": "2021-05-08T00:13:48.505505",
     "exception": false,
     "start_time": "2021-05-08T00:13:48.462517",
     "status": "completed"
    },
    "tags": []
   },
   "outputs": [],
   "source": [
    "#hide\n",
    "# g = g[cols]"
   ]
  },
  {
   "cell_type": "code",
   "execution_count": 39,
   "id": "structured-mobile",
   "metadata": {
    "execution": {
     "iopub.execute_input": "2021-05-08T00:13:48.585084Z",
     "iopub.status.busy": "2021-05-08T00:13:48.584441Z",
     "iopub.status.idle": "2021-05-08T00:13:48.587070Z",
     "shell.execute_reply": "2021-05-08T00:13:48.586602Z"
    },
    "papermill": {
     "duration": 0.044905,
     "end_time": "2021-05-08T00:13:48.587203",
     "exception": false,
     "start_time": "2021-05-08T00:13:48.542298",
     "status": "completed"
    },
    "tags": []
   },
   "outputs": [],
   "source": [
    "# #hide\n",
    "# g = g[g.group.notna()]"
   ]
  },
  {
   "cell_type": "code",
   "execution_count": 40,
   "id": "determined-closing",
   "metadata": {
    "execution": {
     "iopub.execute_input": "2021-05-08T00:13:48.669487Z",
     "iopub.status.busy": "2021-05-08T00:13:48.668753Z",
     "iopub.status.idle": "2021-05-08T00:13:48.670974Z",
     "shell.execute_reply": "2021-05-08T00:13:48.671555Z"
    },
    "papermill": {
     "duration": 0.046432,
     "end_time": "2021-05-08T00:13:48.671690",
     "exception": false,
     "start_time": "2021-05-08T00:13:48.625258",
     "status": "completed"
    },
    "tags": []
   },
   "outputs": [],
   "source": [
    "# #hide\n",
    "# colors = dict(zip(\n",
    "#     [\"Oceania\", \"Europe\", \"Asia\", \"South America\", \"Middle East\", \"North America\", \"Africa\"],\n",
    "#     [\"#adb0ff\", \"#ffb3ff\", \"#90d595\", \"#e48381\", \"#aafbff\", \"#f7bb5f\", \"#eafb50\"]\n",
    "# ))\n",
    "# group_lk = g.set_index('name')['group'].to_dict()"
   ]
  },
  {
   "cell_type": "code",
   "execution_count": null,
   "id": "gross-drinking",
   "metadata": {
    "papermill": {
     "duration": 0.039349,
     "end_time": "2021-05-08T00:13:48.748714",
     "exception": false,
     "start_time": "2021-05-08T00:13:48.709365",
     "status": "completed"
    },
    "tags": []
   },
   "outputs": [],
   "source": []
  },
  {
   "cell_type": "code",
   "execution_count": 41,
   "id": "subject-macintosh",
   "metadata": {
    "execution": {
     "iopub.execute_input": "2021-05-08T00:13:48.827692Z",
     "iopub.status.busy": "2021-05-08T00:13:48.827091Z",
     "iopub.status.idle": "2021-05-08T00:13:48.829518Z",
     "shell.execute_reply": "2021-05-08T00:13:48.829027Z"
    },
    "papermill": {
     "duration": 0.04338,
     "end_time": "2021-05-08T00:13:48.829625",
     "exception": false,
     "start_time": "2021-05-08T00:13:48.786245",
     "status": "completed"
    },
    "tags": []
   },
   "outputs": [],
   "source": [
    "# #hide\n",
    "# fig, ax = plt.subplots(figsize=(15, 8))\n",
    "\n",
    "# def draw_barchart(current_day):\n",
    "#     dff = g[g['day'].eq(current_day)].sort_values(by='value', ascending=True).tail(10)\n",
    "#     ax.clear()\n",
    "#     ax.barh(dff['name'], dff['value'], color=[colors[group_lk[x]] for x in dff['name']])\n",
    "#     dx = dff['value'].max() / 200\n",
    "    \n",
    "#     for i, (value, name) in enumerate(zip(dff['value'], dff['name'])):\n",
    "#         ax.text(value-dx, i,     name,           size=14, weight=600, ha='right', va='bottom')\n",
    "#         ax.text(value-dx, i-.25, group_lk[name], size=10, color='#444444', ha='right', va='baseline')\n",
    "#         ax.text(value+dx, i,     f'{value:,.0f}',  size=14, ha='left',  va='center')\n",
    "#     ax.text(1, 0.4, current_day, transform=ax.transAxes, color='#777777', size=46, ha='right', weight=800)\n",
    "#     ax.text(0, 1.06, 'Population (thousands)', transform=ax.transAxes, size=12, color='#777777')\n",
    "#     ax.xaxis.set_major_formatter(ticker.StrMethodFormatter('{x:,.0f}'))\n",
    "#     ax.xaxis.set_ticks_position('top')\n",
    "#     ax.tick_params(axis='x', colors='#777777', labelsize=12)\n",
    "#     ax.set_yticks([])\n",
    "#     ax.margins(0, 0.01)\n",
    "#     ax.grid(which='major', axis='x', linestyle='-')\n",
    "#     ax.set_axisbelow(True)\n",
    "    \n",
    "#     ax.text(0, 1.15, 'Coronavirus',\n",
    "#             transform=ax.transAxes, size=24, weight=600, ha='left', va='top')\n",
    "# #     ax.text(1, 0, 'by @pratapvardhan; credit @jburnmurdoch', transform=ax.transAxes, color='#777777', ha='right',\n",
    "# #             bbox=dict(facecolor='white', alpha=0.8, edgecolor='white'))\n",
    "#     plt.box(False)"
   ]
  },
  {
   "cell_type": "code",
   "execution_count": 42,
   "id": "sexual-wages",
   "metadata": {
    "execution": {
     "iopub.execute_input": "2021-05-08T00:13:48.908586Z",
     "iopub.status.busy": "2021-05-08T00:13:48.907879Z",
     "iopub.status.idle": "2021-05-08T00:13:48.910595Z",
     "shell.execute_reply": "2021-05-08T00:13:48.910040Z"
    },
    "papermill": {
     "duration": 0.043155,
     "end_time": "2021-05-08T00:13:48.910727",
     "exception": false,
     "start_time": "2021-05-08T00:13:48.867572",
     "status": "completed"
    },
    "tags": []
   },
   "outputs": [],
   "source": [
    "# #hide_input\n",
    "# fig, ax = plt.subplots(figsize=(15, 8))\n",
    "# animator = animation.FuncAnimation(fig, draw_barchart, frames=range(g.day.values.min(), g.day.values.max()))\n",
    "# HTML(animator.to_jshtml())\n",
    "# # or use animator.to_html5_video() or animator.save() "
   ]
  },
  {
   "cell_type": "code",
   "execution_count": null,
   "id": "australian-container",
   "metadata": {
    "papermill": {
     "duration": 0.034935,
     "end_time": "2021-05-08T00:13:48.982995",
     "exception": false,
     "start_time": "2021-05-08T00:13:48.948060",
     "status": "completed"
    },
    "tags": []
   },
   "outputs": [],
   "source": []
  },
  {
   "cell_type": "code",
   "execution_count": null,
   "id": "mediterranean-pontiac",
   "metadata": {
    "papermill": {
     "duration": 0.040331,
     "end_time": "2021-05-08T00:13:49.060568",
     "exception": false,
     "start_time": "2021-05-08T00:13:49.020237",
     "status": "completed"
    },
    "tags": []
   },
   "outputs": [],
   "source": []
  },
  {
   "cell_type": "code",
   "execution_count": null,
   "id": "aging-legislature",
   "metadata": {
    "papermill": {
     "duration": 0.037005,
     "end_time": "2021-05-08T00:13:49.136561",
     "exception": false,
     "start_time": "2021-05-08T00:13:49.099556",
     "status": "completed"
    },
    "tags": []
   },
   "outputs": [],
   "source": []
  }
 ],
 "metadata": {
  "kernelspec": {
   "display_name": "Python 3",
   "language": "python",
   "name": "python3"
  },
  "language_info": {
   "codemirror_mode": {
    "name": "ipython",
    "version": 3
   },
   "file_extension": ".py",
   "mimetype": "text/x-python",
   "name": "python",
   "nbconvert_exporter": "python",
   "pygments_lexer": "ipython3",
   "version": "3.6.13"
  },
  "papermill": {
   "duration": 6.884996,
   "end_time": "2021-05-08T00:13:49.484972",
   "environment_variables": {},
   "exception": null,
   "input_path": "2020-03-21-covid19exp.ipynb",
   "output_path": "2020-03-21-covid19exp.ipynb",
   "parameters": {},
   "start_time": "2021-05-08T00:13:42.599976",
   "version": "2.0.0"
  }
 },
 "nbformat": 4,
 "nbformat_minor": 5
}