{
 "cells": [
  {
   "cell_type": "markdown",
   "id": "muslim-click",
   "metadata": {
    "papermill": {
     "duration": 0.041478,
     "end_time": "2022-07-25T12:18:32.648860",
     "exception": false,
     "start_time": "2022-07-25T12:18:32.607382",
     "status": "completed"
    },
    "tags": []
   },
   "source": [
    "# COVID-19 Case Race\n",
    "> A race chart to see rising cases around the world\n",
    "\n",
    "- author: Hargun Oberoi\n",
    "- image: images/covid-overview.png\n",
    "- hide: false\n",
    "- badges: false"
   ]
  },
  {
   "cell_type": "code",
   "execution_count": 1,
   "id": "proof-material",
   "metadata": {
    "execution": {
     "iopub.execute_input": "2022-07-25T12:18:32.728033Z",
     "iopub.status.busy": "2022-07-25T12:18:32.727336Z",
     "iopub.status.idle": "2022-07-25T12:18:33.131296Z",
     "shell.execute_reply": "2022-07-25T12:18:33.131909Z"
    },
    "papermill": {
     "duration": 0.443723,
     "end_time": "2022-07-25T12:18:33.132106",
     "exception": false,
     "start_time": "2022-07-25T12:18:32.688383",
     "status": "completed"
    },
    "tags": []
   },
   "outputs": [],
   "source": [
    "#hide\n",
    "import numpy as np\n",
    "import pandas as pd\n",
    "from jinja2 import Template\n",
    "from IPython.display import HTML"
   ]
  },
  {
   "cell_type": "code",
   "execution_count": 2,
   "id": "developed-terminology",
   "metadata": {
    "execution": {
     "iopub.execute_input": "2022-07-25T12:18:33.210045Z",
     "iopub.status.busy": "2022-07-25T12:18:33.208715Z",
     "iopub.status.idle": "2022-07-25T12:18:33.211273Z",
     "shell.execute_reply": "2022-07-25T12:18:33.211788Z"
    },
    "papermill": {
     "duration": 0.044909,
     "end_time": "2022-07-25T12:18:33.211941",
     "exception": false,
     "start_time": "2022-07-25T12:18:33.167032",
     "status": "completed"
    },
    "tags": []
   },
   "outputs": [],
   "source": [
    "#hide\n",
    "\n",
    "# FETCH\n",
    "base_url = 'https://raw.githubusercontent.com/pratapvardhan/notebooks/master/covid19/'\n",
    "paths = {\n",
    "    'mapping': base_url + 'mapping_countries.csv',\n",
    "    'overview': base_url + 'overview.tpl'\n",
    "}"
   ]
  },
  {
   "cell_type": "code",
   "execution_count": 3,
   "id": "dynamic-saver",
   "metadata": {
    "execution": {
     "iopub.execute_input": "2022-07-25T12:18:33.290984Z",
     "iopub.status.busy": "2022-07-25T12:18:33.290244Z",
     "iopub.status.idle": "2022-07-25T12:18:33.294094Z",
     "shell.execute_reply": "2022-07-25T12:18:33.294745Z"
    },
    "papermill": {
     "duration": 0.049486,
     "end_time": "2022-07-25T12:18:33.294902",
     "exception": false,
     "start_time": "2022-07-25T12:18:33.245416",
     "status": "completed"
    },
    "tags": []
   },
   "outputs": [
    {
     "data": {
      "text/plain": [
       "'https://raw.githubusercontent.com/pratapvardhan/notebooks/master/covid19/mapping_countries.csv'"
      ]
     },
     "execution_count": 3,
     "metadata": {},
     "output_type": "execute_result"
    }
   ],
   "source": [
    "#hide\n",
    "paths['mapping']"
   ]
  },
  {
   "cell_type": "code",
   "execution_count": 4,
   "id": "urban-software",
   "metadata": {
    "execution": {
     "iopub.execute_input": "2022-07-25T12:18:33.369509Z",
     "iopub.status.busy": "2022-07-25T12:18:33.368536Z",
     "iopub.status.idle": "2022-07-25T12:18:33.370518Z",
     "shell.execute_reply": "2022-07-25T12:18:33.371418Z"
    },
    "papermill": {
     "duration": 0.043101,
     "end_time": "2022-07-25T12:18:33.371618",
     "exception": false,
     "start_time": "2022-07-25T12:18:33.328517",
     "status": "completed"
    },
    "tags": []
   },
   "outputs": [],
   "source": [
    "#hide\n",
    "def get_mappings(url):\n",
    "    df = pd.read_csv(url)\n",
    "    return {\n",
    "        'df': df,\n",
    "        'replace.country': dict(df.dropna(subset=['Name']).set_index('Country')['Name']),\n",
    "        'map.continent': dict(df.set_index('Name')['Continent'])\n",
    "    }"
   ]
  },
  {
   "cell_type": "code",
   "execution_count": 5,
   "id": "intimate-machinery",
   "metadata": {
    "execution": {
     "iopub.execute_input": "2022-07-25T12:18:33.450786Z",
     "iopub.status.busy": "2022-07-25T12:18:33.450060Z",
     "iopub.status.idle": "2022-07-25T12:18:33.507107Z",
     "shell.execute_reply": "2022-07-25T12:18:33.506483Z"
    },
    "papermill": {
     "duration": 0.0981,
     "end_time": "2022-07-25T12:18:33.507251",
     "exception": false,
     "start_time": "2022-07-25T12:18:33.409151",
     "status": "completed"
    },
    "tags": []
   },
   "outputs": [],
   "source": [
    "#hide\n",
    "mapping = get_mappings(paths['mapping'])"
   ]
  },
  {
   "cell_type": "code",
   "execution_count": 6,
   "id": "certified-tactics",
   "metadata": {
    "execution": {
     "iopub.execute_input": "2022-07-25T12:18:33.587005Z",
     "iopub.status.busy": "2022-07-25T12:18:33.586258Z",
     "iopub.status.idle": "2022-07-25T12:18:33.587998Z",
     "shell.execute_reply": "2022-07-25T12:18:33.588658Z"
    },
    "papermill": {
     "duration": 0.043427,
     "end_time": "2022-07-25T12:18:33.588817",
     "exception": false,
     "start_time": "2022-07-25T12:18:33.545390",
     "status": "completed"
    },
    "tags": []
   },
   "outputs": [],
   "source": [
    "#hide\n",
    "def get_template(path):\n",
    "    from urllib.parse import urlparse\n",
    "    if bool(urlparse(path).netloc):\n",
    "        from urllib.request import urlopen\n",
    "        return urlopen(path).read().decode('utf8')\n",
    "    return open(path).read()"
   ]
  },
  {
   "cell_type": "code",
   "execution_count": 7,
   "id": "realistic-blast",
   "metadata": {
    "execution": {
     "iopub.execute_input": "2022-07-25T12:18:33.663219Z",
     "iopub.status.busy": "2022-07-25T12:18:33.662495Z",
     "iopub.status.idle": "2022-07-25T12:18:33.665151Z",
     "shell.execute_reply": "2022-07-25T12:18:33.665652Z"
    },
    "papermill": {
     "duration": 0.043326,
     "end_time": "2022-07-25T12:18:33.665838",
     "exception": false,
     "start_time": "2022-07-25T12:18:33.622512",
     "status": "completed"
    },
    "tags": []
   },
   "outputs": [],
   "source": [
    "#hide\n",
    "def get_frame(name):\n",
    "    url = (\n",
    "        'https://raw.githubusercontent.com/CSSEGISandData/COVID-19/master/csse_covid_19_data/'\n",
    "        f'csse_covid_19_time_series/time_series_covid19_{name}_global.csv')\n",
    "    df = pd.read_csv(url)\n",
    "    # rename countries\n",
    "    df['Country/Region'] = df['Country/Region'].replace(mapping['replace.country'])\n",
    "    return df"
   ]
  },
  {
   "cell_type": "code",
   "execution_count": 8,
   "id": "affiliated-characterization",
   "metadata": {
    "execution": {
     "iopub.execute_input": "2022-07-25T12:18:33.742978Z",
     "iopub.status.busy": "2022-07-25T12:18:33.742269Z",
     "iopub.status.idle": "2022-07-25T12:18:33.747508Z",
     "shell.execute_reply": "2022-07-25T12:18:33.748168Z"
    },
    "papermill": {
     "duration": 0.048639,
     "end_time": "2022-07-25T12:18:33.748320",
     "exception": false,
     "start_time": "2022-07-25T12:18:33.699681",
     "status": "completed"
    },
    "tags": []
   },
   "outputs": [],
   "source": [
    "#hide\n",
    "def get_dates(df):\n",
    "    dt_cols = df.columns[~df.columns.isin(['Province/State', 'Country/Region', 'Lat', 'Long'])]\n",
    "    LAST_DATE_I = -1\n",
    "    # sometimes last column may be empty, then go backwards\n",
    "    for i in range(-1, -len(dt_cols), -1):\n",
    "        if not df[dt_cols[i]].fillna(0).eq(0).all():\n",
    "            LAST_DATE_I = i\n",
    "            break\n",
    "    return LAST_DATE_I, dt_cols"
   ]
  },
  {
   "cell_type": "code",
   "execution_count": 9,
   "id": "recent-optimization",
   "metadata": {
    "execution": {
     "iopub.execute_input": "2022-07-25T12:18:33.823267Z",
     "iopub.status.busy": "2022-07-25T12:18:33.822525Z",
     "iopub.status.idle": "2022-07-25T12:18:34.395977Z",
     "shell.execute_reply": "2022-07-25T12:18:34.394306Z"
    },
    "papermill": {
     "duration": 0.613923,
     "end_time": "2022-07-25T12:18:34.396212",
     "exception": false,
     "start_time": "2022-07-25T12:18:33.782289",
     "status": "completed"
    },
    "tags": []
   },
   "outputs": [],
   "source": [
    "#hide\n",
    "COL_REGION = 'Country/Region'\n",
    "# Confirmed, Recovered, Deaths\n",
    "df = get_frame('confirmed')\n",
    "# dft_: timeseries, dfc_: today country agg\n",
    "dft_cases = df\n",
    "dft_deaths = get_frame('deaths')\n",
    "dft_recovered = get_frame('recovered')\n",
    "LAST_DATE_I, dt_cols = get_dates(df)"
   ]
  },
  {
   "cell_type": "code",
   "execution_count": 10,
   "id": "absolute-copper",
   "metadata": {
    "execution": {
     "iopub.execute_input": "2022-07-25T12:18:34.477278Z",
     "iopub.status.busy": "2022-07-25T12:18:34.476301Z",
     "iopub.status.idle": "2022-07-25T12:18:34.481272Z",
     "shell.execute_reply": "2022-07-25T12:18:34.481829Z"
    },
    "papermill": {
     "duration": 0.045529,
     "end_time": "2022-07-25T12:18:34.481980",
     "exception": false,
     "start_time": "2022-07-25T12:18:34.436451",
     "status": "completed"
    },
    "tags": []
   },
   "outputs": [],
   "source": [
    "#hide\n",
    "LAST_DATE_I, dt_cols = get_dates(df)\n",
    "dt_today =dt_cols[LAST_DATE_I]\n",
    "# dt_5day = dt_cols[LAST_DATE_I - 5]\n",
    "dt_yday = dt_cols[LAST_DATE_I - 1]"
   ]
  },
  {
   "cell_type": "code",
   "execution_count": 11,
   "id": "restricted-sheriff",
   "metadata": {
    "execution": {
     "iopub.execute_input": "2022-07-25T12:18:34.560348Z",
     "iopub.status.busy": "2022-07-25T12:18:34.559632Z",
     "iopub.status.idle": "2022-07-25T12:18:34.567828Z",
     "shell.execute_reply": "2022-07-25T12:18:34.568495Z"
    },
    "papermill": {
     "duration": 0.053279,
     "end_time": "2022-07-25T12:18:34.568655",
     "exception": false,
     "start_time": "2022-07-25T12:18:34.515376",
     "status": "completed"
    },
    "tags": []
   },
   "outputs": [],
   "source": [
    "#hide\n",
    "dfc_cases = dft_cases.groupby(COL_REGION)[dt_today].sum()\n",
    "dfc_deaths = dft_deaths.groupby(COL_REGION)[dt_today].sum()\n",
    "# dfp_cases = dft_cases.groupby(COL_REGION)[dt_5day].sum()\n",
    "# dfp_deaths = dft_deaths.groupby(COL_REGION)[dt_5day].sum()\n",
    "dfp_cases = dft_cases.groupby(COL_REGION)[dt_yday].sum()\n",
    "dfp_deaths = dft_deaths.groupby(COL_REGION)[dt_yday].sum()"
   ]
  },
  {
   "cell_type": "code",
   "execution_count": 12,
   "id": "deluxe-hepatitis",
   "metadata": {
    "execution": {
     "iopub.execute_input": "2022-07-25T12:18:34.644445Z",
     "iopub.status.busy": "2022-07-25T12:18:34.643738Z",
     "iopub.status.idle": "2022-07-25T12:18:34.648927Z",
     "shell.execute_reply": "2022-07-25T12:18:34.649592Z"
    },
    "papermill": {
     "duration": 0.047029,
     "end_time": "2022-07-25T12:18:34.649785",
     "exception": false,
     "start_time": "2022-07-25T12:18:34.602756",
     "status": "completed"
    },
    "tags": []
   },
   "outputs": [],
   "source": [
    "#hide\n",
    "df_table = (pd.DataFrame(dict(Cases = dfc_cases, Deaths = dfc_deaths, PCases = dfp_cases, PDeaths = dfp_deaths))\n",
    "            .sort_values(by = ['Cases','Deaths'], ascending = [False, False])\n",
    "            .reset_index())"
   ]
  },
  {
   "cell_type": "code",
   "execution_count": 13,
   "id": "educational-chancellor",
   "metadata": {
    "execution": {
     "iopub.execute_input": "2022-07-25T12:18:34.727700Z",
     "iopub.status.busy": "2022-07-25T12:18:34.727014Z",
     "iopub.status.idle": "2022-07-25T12:18:34.748519Z",
     "shell.execute_reply": "2022-07-25T12:18:34.748987Z"
    },
    "papermill": {
     "duration": 0.065706,
     "end_time": "2022-07-25T12:18:34.749142",
     "exception": false,
     "start_time": "2022-07-25T12:18:34.683436",
     "status": "completed"
    },
    "tags": []
   },
   "outputs": [
    {
     "data": {
      "text/html": [
       "<div>\n",
       "<style scoped>\n",
       "    .dataframe tbody tr th:only-of-type {\n",
       "        vertical-align: middle;\n",
       "    }\n",
       "\n",
       "    .dataframe tbody tr th {\n",
       "        vertical-align: top;\n",
       "    }\n",
       "\n",
       "    .dataframe thead th {\n",
       "        text-align: right;\n",
       "    }\n",
       "</style>\n",
       "<table border=\"1\" class=\"dataframe\">\n",
       "  <thead>\n",
       "    <tr style=\"text-align: right;\">\n",
       "      <th></th>\n",
       "      <th>Country/Region</th>\n",
       "      <th>Cases</th>\n",
       "      <th>Deaths</th>\n",
       "      <th>PCases</th>\n",
       "      <th>PDeaths</th>\n",
       "      <th>Cases (+)</th>\n",
       "      <th>Deaths (+)</th>\n",
       "      <th>Fatality Rate</th>\n",
       "      <th>Continent</th>\n",
       "    </tr>\n",
       "  </thead>\n",
       "  <tbody>\n",
       "    <tr>\n",
       "      <th>0</th>\n",
       "      <td>US</td>\n",
       "      <td>90410386</td>\n",
       "      <td>1026951</td>\n",
       "      <td>90390185</td>\n",
       "      <td>1026937</td>\n",
       "      <td>20201</td>\n",
       "      <td>14</td>\n",
       "      <td>1.14</td>\n",
       "      <td>North America</td>\n",
       "    </tr>\n",
       "    <tr>\n",
       "      <th>1</th>\n",
       "      <td>India</td>\n",
       "      <td>43905621</td>\n",
       "      <td>526074</td>\n",
       "      <td>43888755</td>\n",
       "      <td>526033</td>\n",
       "      <td>16866</td>\n",
       "      <td>41</td>\n",
       "      <td>1.20</td>\n",
       "      <td>Asia</td>\n",
       "    </tr>\n",
       "    <tr>\n",
       "      <th>2</th>\n",
       "      <td>France</td>\n",
       "      <td>33621366</td>\n",
       "      <td>152390</td>\n",
       "      <td>33621366</td>\n",
       "      <td>152390</td>\n",
       "      <td>0</td>\n",
       "      <td>0</td>\n",
       "      <td>0.45</td>\n",
       "      <td>Europe</td>\n",
       "    </tr>\n",
       "    <tr>\n",
       "      <th>3</th>\n",
       "      <td>Brazil</td>\n",
       "      <td>33591356</td>\n",
       "      <td>676964</td>\n",
       "      <td>33555526</td>\n",
       "      <td>676766</td>\n",
       "      <td>35830</td>\n",
       "      <td>198</td>\n",
       "      <td>2.02</td>\n",
       "      <td>South America</td>\n",
       "    </tr>\n",
       "    <tr>\n",
       "      <th>4</th>\n",
       "      <td>Germany</td>\n",
       "      <td>30331133</td>\n",
       "      <td>143177</td>\n",
       "      <td>30331133</td>\n",
       "      <td>143177</td>\n",
       "      <td>0</td>\n",
       "      <td>0</td>\n",
       "      <td>0.47</td>\n",
       "      <td>Europe</td>\n",
       "    </tr>\n",
       "  </tbody>\n",
       "</table>\n",
       "</div>"
      ],
      "text/plain": [
       "  Country/Region     Cases   Deaths    PCases  PDeaths  Cases (+)  Deaths (+)  \\\n",
       "0             US  90410386  1026951  90390185  1026937      20201          14   \n",
       "1          India  43905621   526074  43888755   526033      16866          41   \n",
       "2         France  33621366   152390  33621366   152390          0           0   \n",
       "3         Brazil  33591356   676964  33555526   676766      35830         198   \n",
       "4        Germany  30331133   143177  30331133   143177          0           0   \n",
       "\n",
       "   Fatality Rate      Continent  \n",
       "0           1.14  North America  \n",
       "1           1.20           Asia  \n",
       "2           0.45         Europe  \n",
       "3           2.02  South America  \n",
       "4           0.47         Europe  "
      ]
     },
     "execution_count": 13,
     "metadata": {},
     "output_type": "execute_result"
    }
   ],
   "source": [
    "#hide\n",
    "for c in 'Cases, Deaths'.split(', '):\n",
    "    df_table[f'{c} (+)'] = (df_table[c] - df_table[f'P{c}']).clip(0)\n",
    "    #Clip ça veut dire, les chiffres negatif sont interdit\n",
    "df_table['Fatality Rate'] = (100* df_table['Deaths']/ df_table['Cases']).round(2)\n",
    "df_table['Continent'] = df_table['Country/Region'].map(mapping['map.continent'])\n",
    "df_table.head(5)"
   ]
  },
  {
   "cell_type": "code",
   "execution_count": 14,
   "id": "aboriginal-bulgaria",
   "metadata": {
    "execution": {
     "iopub.execute_input": "2022-07-25T12:18:34.824694Z",
     "iopub.status.busy": "2022-07-25T12:18:34.823968Z",
     "iopub.status.idle": "2022-07-25T12:18:34.826809Z",
     "shell.execute_reply": "2022-07-25T12:18:34.826251Z"
    },
    "papermill": {
     "duration": 0.043053,
     "end_time": "2022-07-25T12:18:34.826937",
     "exception": false,
     "start_time": "2022-07-25T12:18:34.783884",
     "status": "completed"
    },
    "tags": []
   },
   "outputs": [],
   "source": [
    "#hide\n",
    "#delete problematic countries from table\n",
    "df_table = df_table[~df_table['Country/Region'].isin(['Cape Verde', 'Cruise Ship', 'Kosovo'])]"
   ]
  },
  {
   "cell_type": "code",
   "execution_count": 15,
   "id": "fantastic-effect",
   "metadata": {
    "execution": {
     "iopub.execute_input": "2022-07-25T12:18:34.912862Z",
     "iopub.status.busy": "2022-07-25T12:18:34.912138Z",
     "iopub.status.idle": "2022-07-25T12:18:34.928702Z",
     "shell.execute_reply": "2022-07-25T12:18:34.927212Z"
    },
    "papermill": {
     "duration": 0.067924,
     "end_time": "2022-07-25T12:18:34.928854",
     "exception": false,
     "start_time": "2022-07-25T12:18:34.860930",
     "status": "completed"
    },
    "tags": []
   },
   "outputs": [
    {
     "data": {
      "text/html": [
       "<div>\n",
       "<style scoped>\n",
       "    .dataframe tbody tr th:only-of-type {\n",
       "        vertical-align: middle;\n",
       "    }\n",
       "\n",
       "    .dataframe tbody tr th {\n",
       "        vertical-align: top;\n",
       "    }\n",
       "\n",
       "    .dataframe thead th {\n",
       "        text-align: right;\n",
       "    }\n",
       "</style>\n",
       "<table border=\"1\" class=\"dataframe\">\n",
       "  <thead>\n",
       "    <tr style=\"text-align: right;\">\n",
       "      <th></th>\n",
       "      <th>Country/Region</th>\n",
       "      <th>Cases</th>\n",
       "      <th>Deaths</th>\n",
       "      <th>PCases</th>\n",
       "      <th>PDeaths</th>\n",
       "      <th>Cases (+)</th>\n",
       "      <th>Deaths (+)</th>\n",
       "      <th>Fatality Rate</th>\n",
       "      <th>Continent</th>\n",
       "    </tr>\n",
       "  </thead>\n",
       "  <tbody>\n",
       "    <tr>\n",
       "      <th>0</th>\n",
       "      <td>US</td>\n",
       "      <td>90410386</td>\n",
       "      <td>1026951</td>\n",
       "      <td>90390185</td>\n",
       "      <td>1026937</td>\n",
       "      <td>20201</td>\n",
       "      <td>14</td>\n",
       "      <td>1.1</td>\n",
       "      <td>North America</td>\n",
       "    </tr>\n",
       "    <tr>\n",
       "      <th>1</th>\n",
       "      <td>India</td>\n",
       "      <td>43905621</td>\n",
       "      <td>526074</td>\n",
       "      <td>43888755</td>\n",
       "      <td>526033</td>\n",
       "      <td>16866</td>\n",
       "      <td>41</td>\n",
       "      <td>1.2</td>\n",
       "      <td>Asia</td>\n",
       "    </tr>\n",
       "    <tr>\n",
       "      <th>2</th>\n",
       "      <td>France</td>\n",
       "      <td>33621366</td>\n",
       "      <td>152390</td>\n",
       "      <td>33621366</td>\n",
       "      <td>152390</td>\n",
       "      <td>0</td>\n",
       "      <td>0</td>\n",
       "      <td>0.5</td>\n",
       "      <td>Europe</td>\n",
       "    </tr>\n",
       "    <tr>\n",
       "      <th>3</th>\n",
       "      <td>Brazil</td>\n",
       "      <td>33591356</td>\n",
       "      <td>676964</td>\n",
       "      <td>33555526</td>\n",
       "      <td>676766</td>\n",
       "      <td>35830</td>\n",
       "      <td>198</td>\n",
       "      <td>2.0</td>\n",
       "      <td>South America</td>\n",
       "    </tr>\n",
       "    <tr>\n",
       "      <th>4</th>\n",
       "      <td>Germany</td>\n",
       "      <td>30331133</td>\n",
       "      <td>143177</td>\n",
       "      <td>30331133</td>\n",
       "      <td>143177</td>\n",
       "      <td>0</td>\n",
       "      <td>0</td>\n",
       "      <td>0.5</td>\n",
       "      <td>Europe</td>\n",
       "    </tr>\n",
       "  </tbody>\n",
       "</table>\n",
       "</div>"
      ],
      "text/plain": [
       "  Country/Region     Cases   Deaths    PCases  PDeaths  Cases (+)  Deaths (+)  \\\n",
       "0             US  90410386  1026951  90390185  1026937      20201          14   \n",
       "1          India  43905621   526074  43888755   526033      16866          41   \n",
       "2         France  33621366   152390  33621366   152390          0           0   \n",
       "3         Brazil  33591356   676964  33555526   676766      35830         198   \n",
       "4        Germany  30331133   143177  30331133   143177          0           0   \n",
       "\n",
       "   Fatality Rate      Continent  \n",
       "0            1.1  North America  \n",
       "1            1.2           Asia  \n",
       "2            0.5         Europe  \n",
       "3            2.0  South America  \n",
       "4            0.5         Europe  "
      ]
     },
     "execution_count": 15,
     "metadata": {},
     "output_type": "execute_result"
    }
   ],
   "source": [
    "#hide\n",
    "df_table = (pd.DataFrame(dict(Cases=dfc_cases, Deaths=dfc_deaths, PCases=dfp_cases, PDeaths=dfp_deaths))\n",
    "             .sort_values(by=['Cases', 'Deaths'], ascending=[False, False])\n",
    "             .reset_index())\n",
    "df_table.rename(columns={'index': 'Country/Region'}, inplace=True)\n",
    "for c in 'Cases, Deaths'.split(', '):\n",
    "    df_table[f'{c} (+)'] = (df_table[c] - df_table[f'P{c}']).clip(0)  # DATA BUG\n",
    "df_table['Fatality Rate'] = (100 * df_table['Deaths'] / df_table['Cases']).round(1)\n",
    "df_table['Continent'] = df_table['Country/Region'].map(mapping['map.continent'])\n",
    "df_table.head(5)"
   ]
  },
  {
   "cell_type": "code",
   "execution_count": 16,
   "id": "fewer-occasion",
   "metadata": {
    "execution": {
     "iopub.execute_input": "2022-07-25T12:18:35.010361Z",
     "iopub.status.busy": "2022-07-25T12:18:35.009538Z",
     "iopub.status.idle": "2022-07-25T12:18:35.012615Z",
     "shell.execute_reply": "2022-07-25T12:18:35.012048Z"
    },
    "papermill": {
     "duration": 0.046095,
     "end_time": "2022-07-25T12:18:35.012747",
     "exception": false,
     "start_time": "2022-07-25T12:18:34.966652",
     "status": "completed"
    },
    "tags": []
   },
   "outputs": [],
   "source": [
    "#hide\n",
    "#delete problematic countries from table\n",
    "df_table = df_table[~df_table['Country/Region'].isin(['Cape Verde', 'Cruise Ship', 'Kosovo'])]"
   ]
  },
  {
   "cell_type": "code",
   "execution_count": 17,
   "id": "related-center",
   "metadata": {
    "execution": {
     "iopub.execute_input": "2022-07-25T12:18:35.095114Z",
     "iopub.status.busy": "2022-07-25T12:18:35.094396Z",
     "iopub.status.idle": "2022-07-25T12:18:35.110343Z",
     "shell.execute_reply": "2022-07-25T12:18:35.109752Z"
    },
    "papermill": {
     "duration": 0.058386,
     "end_time": "2022-07-25T12:18:35.110479",
     "exception": false,
     "start_time": "2022-07-25T12:18:35.052093",
     "status": "completed"
    },
    "tags": []
   },
   "outputs": [],
   "source": [
    "#hide\n",
    "metrics = [df_table.columns[index] for index in [1,2,5,6]]\n",
    "# s_china = df_table[df_table['Country/Region'].eq('China')][metrics].sum().add_prefix('China ')\n",
    "s_us = df_table[df_table['Country/Region'].eq('US')][metrics].sum().add_prefix('US ')\n",
    "s_eu = df_table[df_table['Continent'].eq('Europe')][metrics].sum().add_prefix('EU ')\n",
    "s_ind = df_table[df_table['Country/Region'].eq('India')][metrics].sum().add_prefix('India ')\n",
    "summary = {'updated': pd.to_datetime(dt_today), 'since': pd.to_datetime(dt_yday)}\n",
    "summary = {'updated': pd.to_datetime(dt_today), 'since': pd.to_datetime(dt_yday)}\n",
    "summary = {**summary, **df_table[metrics].sum(), **s_ind, **s_us, **s_eu}"
   ]
  },
  {
   "cell_type": "code",
   "execution_count": 18,
   "id": "engaging-syndrome",
   "metadata": {
    "execution": {
     "iopub.execute_input": "2022-07-25T12:18:35.199049Z",
     "iopub.status.busy": "2022-07-25T12:18:35.198312Z",
     "iopub.status.idle": "2022-07-25T12:18:35.223088Z",
     "shell.execute_reply": "2022-07-25T12:18:35.222520Z"
    },
    "papermill": {
     "duration": 0.072681,
     "end_time": "2022-07-25T12:18:35.223232",
     "exception": false,
     "start_time": "2022-07-25T12:18:35.150551",
     "status": "completed"
    },
    "tags": []
   },
   "outputs": [],
   "source": [
    "#hide\n",
    "dft_ct_new_cases = dft_cases.groupby(COL_REGION)[dt_cols].sum().diff(axis=1).fillna(0).astype(int)"
   ]
  },
  {
   "cell_type": "code",
   "execution_count": 19,
   "id": "neutral-assignment",
   "metadata": {
    "execution": {
     "iopub.execute_input": "2022-07-25T12:18:35.301920Z",
     "iopub.status.busy": "2022-07-25T12:18:35.300856Z",
     "iopub.status.idle": "2022-07-25T12:18:35.302856Z",
     "shell.execute_reply": "2022-07-25T12:18:35.303531Z"
    },
    "papermill": {
     "duration": 0.045232,
     "end_time": "2022-07-25T12:18:35.303687",
     "exception": false,
     "start_time": "2022-07-25T12:18:35.258455",
     "status": "completed"
    },
    "tags": []
   },
   "outputs": [],
   "source": [
    "#hide\n",
    "everydaycases = dft_ct_new_cases.cumsum(axis=1)"
   ]
  },
  {
   "cell_type": "code",
   "execution_count": 20,
   "id": "parliamentary-calgary",
   "metadata": {
    "execution": {
     "iopub.execute_input": "2022-07-25T12:18:35.388589Z",
     "iopub.status.busy": "2022-07-25T12:18:35.387328Z",
     "iopub.status.idle": "2022-07-25T12:18:36.086409Z",
     "shell.execute_reply": "2022-07-25T12:18:36.085780Z"
    },
    "papermill": {
     "duration": 0.741987,
     "end_time": "2022-07-25T12:18:36.086563",
     "exception": false,
     "start_time": "2022-07-25T12:18:35.344576",
     "status": "completed"
    },
    "tags": []
   },
   "outputs": [],
   "source": [
    "#hide\n",
    "import pandas as pd\n",
    "import matplotlib.pyplot as plt\n",
    "import matplotlib.ticker as ticker\n",
    "import matplotlib.animation as animation\n",
    "from IPython.display import HTML"
   ]
  },
  {
   "cell_type": "code",
   "execution_count": 21,
   "id": "lasting-extraction",
   "metadata": {
    "execution": {
     "iopub.execute_input": "2022-07-25T12:18:36.169367Z",
     "iopub.status.busy": "2022-07-25T12:18:36.168651Z",
     "iopub.status.idle": "2022-07-25T12:18:36.177143Z",
     "shell.execute_reply": "2022-07-25T12:18:36.176596Z"
    },
    "papermill": {
     "duration": 0.055308,
     "end_time": "2022-07-25T12:18:36.177282",
     "exception": false,
     "start_time": "2022-07-25T12:18:36.121974",
     "status": "completed"
    },
    "tags": []
   },
   "outputs": [],
   "source": [
    "#hide\n",
    "t = everydaycases.stack()"
   ]
  },
  {
   "cell_type": "code",
   "execution_count": 22,
   "id": "premier-sleeve",
   "metadata": {
    "execution": {
     "iopub.execute_input": "2022-07-25T12:18:36.252820Z",
     "iopub.status.busy": "2022-07-25T12:18:36.252102Z",
     "iopub.status.idle": "2022-07-25T12:18:36.265764Z",
     "shell.execute_reply": "2022-07-25T12:18:36.266295Z"
    },
    "papermill": {
     "duration": 0.054109,
     "end_time": "2022-07-25T12:18:36.266464",
     "exception": false,
     "start_time": "2022-07-25T12:18:36.212355",
     "status": "completed"
    },
    "tags": []
   },
   "outputs": [],
   "source": [
    "#hide\n",
    "g = t.reset_index(['Country/Region'])"
   ]
  },
  {
   "cell_type": "code",
   "execution_count": 23,
   "id": "distributed-pittsburgh",
   "metadata": {
    "execution": {
     "iopub.execute_input": "2022-07-25T12:18:36.340205Z",
     "iopub.status.busy": "2022-07-25T12:18:36.339494Z",
     "iopub.status.idle": "2022-07-25T12:18:36.343183Z",
     "shell.execute_reply": "2022-07-25T12:18:36.343839Z"
    },
    "papermill": {
     "duration": 0.042503,
     "end_time": "2022-07-25T12:18:36.343993",
     "exception": false,
     "start_time": "2022-07-25T12:18:36.301490",
     "status": "completed"
    },
    "tags": []
   },
   "outputs": [],
   "source": [
    "#hide\n",
    "g.index.name = 'date'"
   ]
  },
  {
   "cell_type": "code",
   "execution_count": 24,
   "id": "naked-donor",
   "metadata": {
    "execution": {
     "iopub.execute_input": "2022-07-25T12:18:36.419453Z",
     "iopub.status.busy": "2022-07-25T12:18:36.418654Z",
     "iopub.status.idle": "2022-07-25T12:18:36.420205Z",
     "shell.execute_reply": "2022-07-25T12:18:36.420741Z"
    },
    "papermill": {
     "duration": 0.042257,
     "end_time": "2022-07-25T12:18:36.420896",
     "exception": false,
     "start_time": "2022-07-25T12:18:36.378639",
     "status": "completed"
    },
    "tags": []
   },
   "outputs": [],
   "source": [
    "# #hide\n",
    "# g = g.reset_index(['date'])"
   ]
  },
  {
   "cell_type": "code",
   "execution_count": 25,
   "id": "incomplete-mustang",
   "metadata": {
    "execution": {
     "iopub.execute_input": "2022-07-25T12:18:36.501614Z",
     "iopub.status.busy": "2022-07-25T12:18:36.500872Z",
     "iopub.status.idle": "2022-07-25T12:18:36.502666Z",
     "shell.execute_reply": "2022-07-25T12:18:36.503322Z"
    },
    "papermill": {
     "duration": 0.042728,
     "end_time": "2022-07-25T12:18:36.503479",
     "exception": false,
     "start_time": "2022-07-25T12:18:36.460751",
     "status": "completed"
    },
    "tags": []
   },
   "outputs": [],
   "source": [
    "#hide\n",
    "# g.head()"
   ]
  },
  {
   "cell_type": "code",
   "execution_count": 26,
   "id": "specific-kruger",
   "metadata": {
    "execution": {
     "iopub.execute_input": "2022-07-25T12:18:36.582596Z",
     "iopub.status.busy": "2022-07-25T12:18:36.581847Z",
     "iopub.status.idle": "2022-07-25T12:18:36.586136Z",
     "shell.execute_reply": "2022-07-25T12:18:36.586646Z"
    },
    "papermill": {
     "duration": 0.044223,
     "end_time": "2022-07-25T12:18:36.586803",
     "exception": false,
     "start_time": "2022-07-25T12:18:36.542580",
     "status": "completed"
    },
    "tags": []
   },
   "outputs": [],
   "source": [
    "#hide\n",
    "# g.columns = ['date','country','cases']"
   ]
  },
  {
   "cell_type": "code",
   "execution_count": 27,
   "id": "tender-conversion",
   "metadata": {
    "execution": {
     "iopub.execute_input": "2022-07-25T12:18:36.665121Z",
     "iopub.status.busy": "2022-07-25T12:18:36.664430Z",
     "iopub.status.idle": "2022-07-25T12:18:36.667266Z",
     "shell.execute_reply": "2022-07-25T12:18:36.666603Z"
    },
    "papermill": {
     "duration": 0.046057,
     "end_time": "2022-07-25T12:18:36.667388",
     "exception": false,
     "start_time": "2022-07-25T12:18:36.621331",
     "status": "completed"
    },
    "tags": []
   },
   "outputs": [],
   "source": [
    "#hide\n",
    "# g['continent'] = g.country"
   ]
  },
  {
   "cell_type": "code",
   "execution_count": 28,
   "id": "substantial-wilderness",
   "metadata": {
    "execution": {
     "iopub.execute_input": "2022-07-25T12:18:36.748262Z",
     "iopub.status.busy": "2022-07-25T12:18:36.747555Z",
     "iopub.status.idle": "2022-07-25T12:18:36.749976Z",
     "shell.execute_reply": "2022-07-25T12:18:36.749259Z"
    },
    "papermill": {
     "duration": 0.048524,
     "end_time": "2022-07-25T12:18:36.750110",
     "exception": false,
     "start_time": "2022-07-25T12:18:36.701586",
     "status": "completed"
    },
    "tags": []
   },
   "outputs": [],
   "source": [
    "#hide\n",
    "# cols = list(g.columns.values)"
   ]
  },
  {
   "cell_type": "code",
   "execution_count": 29,
   "id": "solved-farming",
   "metadata": {
    "execution": {
     "iopub.execute_input": "2022-07-25T12:18:36.824174Z",
     "iopub.status.busy": "2022-07-25T12:18:36.823454Z",
     "iopub.status.idle": "2022-07-25T12:18:36.829183Z",
     "shell.execute_reply": "2022-07-25T12:18:36.834597Z"
    },
    "papermill": {
     "duration": 0.050747,
     "end_time": "2022-07-25T12:18:36.834757",
     "exception": false,
     "start_time": "2022-07-25T12:18:36.784010",
     "status": "completed"
    },
    "tags": []
   },
   "outputs": [],
   "source": [
    "#hide\n",
    "# cols.insert(0, cols.pop())"
   ]
  },
  {
   "cell_type": "code",
   "execution_count": 30,
   "id": "executed-adoption",
   "metadata": {
    "execution": {
     "iopub.execute_input": "2022-07-25T12:18:36.908974Z",
     "iopub.status.busy": "2022-07-25T12:18:36.908297Z",
     "iopub.status.idle": "2022-07-25T12:18:36.911367Z",
     "shell.execute_reply": "2022-07-25T12:18:36.910764Z"
    },
    "papermill": {
     "duration": 0.042308,
     "end_time": "2022-07-25T12:18:36.911498",
     "exception": false,
     "start_time": "2022-07-25T12:18:36.869190",
     "status": "completed"
    },
    "tags": []
   },
   "outputs": [],
   "source": [
    "#hide\n",
    "# g = g[cols]"
   ]
  },
  {
   "cell_type": "code",
   "execution_count": 31,
   "id": "subject-dublin",
   "metadata": {
    "execution": {
     "iopub.execute_input": "2022-07-25T12:18:36.988126Z",
     "iopub.status.busy": "2022-07-25T12:18:36.987462Z",
     "iopub.status.idle": "2022-07-25T12:18:36.991024Z",
     "shell.execute_reply": "2022-07-25T12:18:36.991518Z"
    },
    "papermill": {
     "duration": 0.042913,
     "end_time": "2022-07-25T12:18:36.991659",
     "exception": false,
     "start_time": "2022-07-25T12:18:36.948746",
     "status": "completed"
    },
    "tags": []
   },
   "outputs": [],
   "source": [
    "#hide\n",
    "# g['continent'] = g['continent'].map(mapping['map.continent'])"
   ]
  },
  {
   "cell_type": "code",
   "execution_count": 32,
   "id": "freelance-scout",
   "metadata": {
    "execution": {
     "iopub.execute_input": "2022-07-25T12:18:37.068928Z",
     "iopub.status.busy": "2022-07-25T12:18:37.068182Z",
     "iopub.status.idle": "2022-07-25T12:18:37.070894Z",
     "shell.execute_reply": "2022-07-25T12:18:37.070205Z"
    },
    "papermill": {
     "duration": 0.041136,
     "end_time": "2022-07-25T12:18:37.071027",
     "exception": false,
     "start_time": "2022-07-25T12:18:37.029891",
     "status": "completed"
    },
    "tags": []
   },
   "outputs": [],
   "source": [
    "#hide\n",
    "# g.head()"
   ]
  },
  {
   "cell_type": "code",
   "execution_count": 33,
   "id": "limited-engine",
   "metadata": {
    "execution": {
     "iopub.execute_input": "2022-07-25T12:18:37.149358Z",
     "iopub.status.busy": "2022-07-25T12:18:37.148672Z",
     "iopub.status.idle": "2022-07-25T12:18:37.151410Z",
     "shell.execute_reply": "2022-07-25T12:18:37.150857Z"
    },
    "papermill": {
     "duration": 0.046367,
     "end_time": "2022-07-25T12:18:37.151538",
     "exception": false,
     "start_time": "2022-07-25T12:18:37.105171",
     "status": "completed"
    },
    "tags": []
   },
   "outputs": [],
   "source": [
    "# hide\n",
    "# g['date'] = g['date'].astype('datetime64[ns]')"
   ]
  },
  {
   "cell_type": "code",
   "execution_count": 34,
   "id": "sophisticated-supervisor",
   "metadata": {
    "execution": {
     "iopub.execute_input": "2022-07-25T12:18:37.224589Z",
     "iopub.status.busy": "2022-07-25T12:18:37.223896Z",
     "iopub.status.idle": "2022-07-25T12:18:37.234099Z",
     "shell.execute_reply": "2022-07-25T12:18:37.234602Z"
    },
    "papermill": {
     "duration": 0.048867,
     "end_time": "2022-07-25T12:18:37.234733",
     "exception": false,
     "start_time": "2022-07-25T12:18:37.185866",
     "status": "completed"
    },
    "tags": []
   },
   "outputs": [],
   "source": [
    "#hide\n",
    "# g['date'] = g.date.dt.dayofyear"
   ]
  },
  {
   "cell_type": "code",
   "execution_count": 35,
   "id": "inside-dubai",
   "metadata": {
    "execution": {
     "iopub.execute_input": "2022-07-25T12:18:37.308492Z",
     "iopub.status.busy": "2022-07-25T12:18:37.307785Z",
     "iopub.status.idle": "2022-07-25T12:18:37.311566Z",
     "shell.execute_reply": "2022-07-25T12:18:37.312227Z"
    },
    "papermill": {
     "duration": 0.043556,
     "end_time": "2022-07-25T12:18:37.312378",
     "exception": false,
     "start_time": "2022-07-25T12:18:37.268822",
     "status": "completed"
    },
    "tags": []
   },
   "outputs": [],
   "source": [
    "#hide\n",
    "# g = g.rename(columns= {'continent':'group','country':'name','cases':'value'})"
   ]
  },
  {
   "cell_type": "code",
   "execution_count": 36,
   "id": "fleet-motorcycle",
   "metadata": {
    "execution": {
     "iopub.execute_input": "2022-07-25T12:18:37.385998Z",
     "iopub.status.busy": "2022-07-25T12:18:37.385317Z",
     "iopub.status.idle": "2022-07-25T12:18:37.389631Z",
     "shell.execute_reply": "2022-07-25T12:18:37.389065Z"
    },
    "papermill": {
     "duration": 0.041383,
     "end_time": "2022-07-25T12:18:37.389787",
     "exception": false,
     "start_time": "2022-07-25T12:18:37.348404",
     "status": "completed"
    },
    "tags": []
   },
   "outputs": [],
   "source": [
    "#hide\n",
    "# cols = ['name','group','day','value']"
   ]
  },
  {
   "cell_type": "code",
   "execution_count": 37,
   "id": "continued-sleeping",
   "metadata": {
    "execution": {
     "iopub.execute_input": "2022-07-25T12:18:37.469529Z",
     "iopub.status.busy": "2022-07-25T12:18:37.468820Z",
     "iopub.status.idle": "2022-07-25T12:18:37.471236Z",
     "shell.execute_reply": "2022-07-25T12:18:37.471897Z"
    },
    "papermill": {
     "duration": 0.048145,
     "end_time": "2022-07-25T12:18:37.472048",
     "exception": false,
     "start_time": "2022-07-25T12:18:37.423903",
     "status": "completed"
    },
    "tags": []
   },
   "outputs": [],
   "source": [
    "#hide\n",
    "# g.rename(columns= {'date':'day'},inplace = True)"
   ]
  },
  {
   "cell_type": "code",
   "execution_count": 38,
   "id": "major-fight",
   "metadata": {
    "execution": {
     "iopub.execute_input": "2022-07-25T12:18:37.548932Z",
     "iopub.status.busy": "2022-07-25T12:18:37.548232Z",
     "iopub.status.idle": "2022-07-25T12:18:37.550588Z",
     "shell.execute_reply": "2022-07-25T12:18:37.551268Z"
    },
    "papermill": {
     "duration": 0.045538,
     "end_time": "2022-07-25T12:18:37.551432",
     "exception": false,
     "start_time": "2022-07-25T12:18:37.505894",
     "status": "completed"
    },
    "tags": []
   },
   "outputs": [],
   "source": [
    "#hide\n",
    "# g = g[cols]"
   ]
  },
  {
   "cell_type": "code",
   "execution_count": 39,
   "id": "structured-mobile",
   "metadata": {
    "execution": {
     "iopub.execute_input": "2022-07-25T12:18:37.625527Z",
     "iopub.status.busy": "2022-07-25T12:18:37.624833Z",
     "iopub.status.idle": "2022-07-25T12:18:37.634088Z",
     "shell.execute_reply": "2022-07-25T12:18:37.634623Z"
    },
    "papermill": {
     "duration": 0.048696,
     "end_time": "2022-07-25T12:18:37.634783",
     "exception": false,
     "start_time": "2022-07-25T12:18:37.586087",
     "status": "completed"
    },
    "tags": []
   },
   "outputs": [],
   "source": [
    "# #hide\n",
    "# g = g[g.group.notna()]"
   ]
  },
  {
   "cell_type": "code",
   "execution_count": 40,
   "id": "determined-closing",
   "metadata": {
    "execution": {
     "iopub.execute_input": "2022-07-25T12:18:37.708985Z",
     "iopub.status.busy": "2022-07-25T12:18:37.708245Z",
     "iopub.status.idle": "2022-07-25T12:18:37.711060Z",
     "shell.execute_reply": "2022-07-25T12:18:37.710398Z"
    },
    "papermill": {
     "duration": 0.041328,
     "end_time": "2022-07-25T12:18:37.711197",
     "exception": false,
     "start_time": "2022-07-25T12:18:37.669869",
     "status": "completed"
    },
    "tags": []
   },
   "outputs": [],
   "source": [
    "# #hide\n",
    "# colors = dict(zip(\n",
    "#     [\"Oceania\", \"Europe\", \"Asia\", \"South America\", \"Middle East\", \"North America\", \"Africa\"],\n",
    "#     [\"#adb0ff\", \"#ffb3ff\", \"#90d595\", \"#e48381\", \"#aafbff\", \"#f7bb5f\", \"#eafb50\"]\n",
    "# ))\n",
    "# group_lk = g.set_index('name')['group'].to_dict()"
   ]
  },
  {
   "cell_type": "code",
   "execution_count": null,
   "id": "gross-drinking",
   "metadata": {
    "papermill": {
     "duration": 0.033992,
     "end_time": "2022-07-25T12:18:37.781443",
     "exception": false,
     "start_time": "2022-07-25T12:18:37.747451",
     "status": "completed"
    },
    "tags": []
   },
   "outputs": [],
   "source": []
  },
  {
   "cell_type": "code",
   "execution_count": 41,
   "id": "subject-macintosh",
   "metadata": {
    "execution": {
     "iopub.execute_input": "2022-07-25T12:18:37.856564Z",
     "iopub.status.busy": "2022-07-25T12:18:37.855817Z",
     "iopub.status.idle": "2022-07-25T12:18:37.858916Z",
     "shell.execute_reply": "2022-07-25T12:18:37.858348Z"
    },
    "papermill": {
     "duration": 0.042298,
     "end_time": "2022-07-25T12:18:37.859046",
     "exception": false,
     "start_time": "2022-07-25T12:18:37.816748",
     "status": "completed"
    },
    "tags": []
   },
   "outputs": [],
   "source": [
    "# #hide\n",
    "# fig, ax = plt.subplots(figsize=(15, 8))\n",
    "\n",
    "# def draw_barchart(current_day):\n",
    "#     dff = g[g['day'].eq(current_day)].sort_values(by='value', ascending=True).tail(10)\n",
    "#     ax.clear()\n",
    "#     ax.barh(dff['name'], dff['value'], color=[colors[group_lk[x]] for x in dff['name']])\n",
    "#     dx = dff['value'].max() / 200\n",
    "    \n",
    "#     for i, (value, name) in enumerate(zip(dff['value'], dff['name'])):\n",
    "#         ax.text(value-dx, i,     name,           size=14, weight=600, ha='right', va='bottom')\n",
    "#         ax.text(value-dx, i-.25, group_lk[name], size=10, color='#444444', ha='right', va='baseline')\n",
    "#         ax.text(value+dx, i,     f'{value:,.0f}',  size=14, ha='left',  va='center')\n",
    "#     ax.text(1, 0.4, current_day, transform=ax.transAxes, color='#777777', size=46, ha='right', weight=800)\n",
    "#     ax.text(0, 1.06, 'Population (thousands)', transform=ax.transAxes, size=12, color='#777777')\n",
    "#     ax.xaxis.set_major_formatter(ticker.StrMethodFormatter('{x:,.0f}'))\n",
    "#     ax.xaxis.set_ticks_position('top')\n",
    "#     ax.tick_params(axis='x', colors='#777777', labelsize=12)\n",
    "#     ax.set_yticks([])\n",
    "#     ax.margins(0, 0.01)\n",
    "#     ax.grid(which='major', axis='x', linestyle='-')\n",
    "#     ax.set_axisbelow(True)\n",
    "    \n",
    "#     ax.text(0, 1.15, 'Coronavirus',\n",
    "#             transform=ax.transAxes, size=24, weight=600, ha='left', va='top')\n",
    "# #     ax.text(1, 0, 'by @pratapvardhan; credit @jburnmurdoch', transform=ax.transAxes, color='#777777', ha='right',\n",
    "# #             bbox=dict(facecolor='white', alpha=0.8, edgecolor='white'))\n",
    "#     plt.box(False)"
   ]
  },
  {
   "cell_type": "code",
   "execution_count": 42,
   "id": "sexual-wages",
   "metadata": {
    "execution": {
     "iopub.execute_input": "2022-07-25T12:18:37.935521Z",
     "iopub.status.busy": "2022-07-25T12:18:37.934827Z",
     "iopub.status.idle": "2022-07-25T12:18:37.938191Z",
     "shell.execute_reply": "2022-07-25T12:18:37.938844Z"
    },
    "papermill": {
     "duration": 0.045147,
     "end_time": "2022-07-25T12:18:37.938990",
     "exception": false,
     "start_time": "2022-07-25T12:18:37.893843",
     "status": "completed"
    },
    "tags": []
   },
   "outputs": [],
   "source": [
    "# #hide_input\n",
    "# fig, ax = plt.subplots(figsize=(15, 8))\n",
    "# animator = animation.FuncAnimation(fig, draw_barchart, frames=range(g.day.values.min(), g.day.values.max()))\n",
    "# HTML(animator.to_jshtml())\n",
    "# # or use animator.to_html5_video() or animator.save() "
   ]
  },
  {
   "cell_type": "code",
   "execution_count": null,
   "id": "australian-container",
   "metadata": {
    "papermill": {
     "duration": 0.03445,
     "end_time": "2022-07-25T12:18:38.006561",
     "exception": false,
     "start_time": "2022-07-25T12:18:37.972111",
     "status": "completed"
    },
    "tags": []
   },
   "outputs": [],
   "source": []
  },
  {
   "cell_type": "code",
   "execution_count": null,
   "id": "mediterranean-pontiac",
   "metadata": {
    "papermill": {
     "duration": 0.03478,
     "end_time": "2022-07-25T12:18:38.076461",
     "exception": false,
     "start_time": "2022-07-25T12:18:38.041681",
     "status": "completed"
    },
    "tags": []
   },
   "outputs": [],
   "source": []
  },
  {
   "cell_type": "code",
   "execution_count": null,
   "id": "aging-legislature",
   "metadata": {
    "papermill": {
     "duration": 0.034246,
     "end_time": "2022-07-25T12:18:38.145360",
     "exception": false,
     "start_time": "2022-07-25T12:18:38.111114",
     "status": "completed"
    },
    "tags": []
   },
   "outputs": [],
   "source": []
  }
 ],
 "metadata": {
  "kernelspec": {
   "display_name": "Python 3",
   "language": "python",
   "name": "python3"
  },
  "language_info": {
   "codemirror_mode": {
    "name": "ipython",
    "version": 3
   },
   "file_extension": ".py",
   "mimetype": "text/x-python",
   "name": "python",
   "nbconvert_exporter": "python",
   "pygments_lexer": "ipython3",
   "version": "3.6.15"
  },
  "papermill": {
   "duration": 7.179517,
   "end_time": "2022-07-25T12:18:38.600007",
   "environment_variables": {},
   "exception": null,
   "input_path": "2020-03-21-covid19exp.ipynb",
   "output_path": "2020-03-21-covid19exp.ipynb",
   "parameters": {},
   "start_time": "2022-07-25T12:18:31.420490",
   "version": "2.0.0"
  }
 },
 "nbformat": 4,
 "nbformat_minor": 5
}