{
 "cells": [
  {
   "cell_type": "markdown",
   "id": "muslim-click",
   "metadata": {
    "papermill": {
     "duration": 0.034283,
     "end_time": "2022-03-03T00:34:16.913915",
     "exception": false,
     "start_time": "2022-03-03T00:34:16.879632",
     "status": "completed"
    },
    "tags": []
   },
   "source": [
    "# COVID-19 Case Race\n",
    "> A race chart to see rising cases around the world\n",
    "\n",
    "- author: Hargun Oberoi\n",
    "- image: images/covid-overview.png\n",
    "- hide: false\n",
    "- badges: false"
   ]
  },
  {
   "cell_type": "code",
   "execution_count": 1,
   "id": "proof-material",
   "metadata": {
    "execution": {
     "iopub.execute_input": "2022-03-03T00:34:16.985358Z",
     "iopub.status.busy": "2022-03-03T00:34:16.984863Z",
     "iopub.status.idle": "2022-03-03T00:34:17.291777Z",
     "shell.execute_reply": "2022-03-03T00:34:17.291293Z"
    },
    "papermill": {
     "duration": 0.345921,
     "end_time": "2022-03-03T00:34:17.291906",
     "exception": false,
     "start_time": "2022-03-03T00:34:16.945985",
     "status": "completed"
    },
    "tags": []
   },
   "outputs": [],
   "source": [
    "#hide\n",
    "import numpy as np\n",
    "import pandas as pd\n",
    "from jinja2 import Template\n",
    "from IPython.display import HTML"
   ]
  },
  {
   "cell_type": "code",
   "execution_count": 2,
   "id": "developed-terminology",
   "metadata": {
    "execution": {
     "iopub.execute_input": "2022-03-03T00:34:17.357893Z",
     "iopub.status.busy": "2022-03-03T00:34:17.357385Z",
     "iopub.status.idle": "2022-03-03T00:34:17.360644Z",
     "shell.execute_reply": "2022-03-03T00:34:17.360223Z"
    },
    "papermill": {
     "duration": 0.038157,
     "end_time": "2022-03-03T00:34:17.360741",
     "exception": false,
     "start_time": "2022-03-03T00:34:17.322584",
     "status": "completed"
    },
    "tags": []
   },
   "outputs": [],
   "source": [
    "#hide\n",
    "\n",
    "# FETCH\n",
    "base_url = 'https://raw.githubusercontent.com/pratapvardhan/notebooks/master/covid19/'\n",
    "paths = {\n",
    "    'mapping': base_url + 'mapping_countries.csv',\n",
    "    'overview': base_url + 'overview.tpl'\n",
    "}"
   ]
  },
  {
   "cell_type": "code",
   "execution_count": 3,
   "id": "dynamic-saver",
   "metadata": {
    "execution": {
     "iopub.execute_input": "2022-03-03T00:34:17.430504Z",
     "iopub.status.busy": "2022-03-03T00:34:17.430020Z",
     "iopub.status.idle": "2022-03-03T00:34:17.432515Z",
     "shell.execute_reply": "2022-03-03T00:34:17.432933Z"
    },
    "papermill": {
     "duration": 0.041751,
     "end_time": "2022-03-03T00:34:17.433046",
     "exception": false,
     "start_time": "2022-03-03T00:34:17.391295",
     "status": "completed"
    },
    "tags": []
   },
   "outputs": [
    {
     "data": {
      "text/plain": [
       "'https://raw.githubusercontent.com/pratapvardhan/notebooks/master/covid19/mapping_countries.csv'"
      ]
     },
     "execution_count": 3,
     "metadata": {},
     "output_type": "execute_result"
    }
   ],
   "source": [
    "#hide\n",
    "paths['mapping']"
   ]
  },
  {
   "cell_type": "code",
   "execution_count": 4,
   "id": "urban-software",
   "metadata": {
    "execution": {
     "iopub.execute_input": "2022-03-03T00:34:17.499750Z",
     "iopub.status.busy": "2022-03-03T00:34:17.499228Z",
     "iopub.status.idle": "2022-03-03T00:34:17.501200Z",
     "shell.execute_reply": "2022-03-03T00:34:17.500786Z"
    },
    "papermill": {
     "duration": 0.037236,
     "end_time": "2022-03-03T00:34:17.501297",
     "exception": false,
     "start_time": "2022-03-03T00:34:17.464061",
     "status": "completed"
    },
    "tags": []
   },
   "outputs": [],
   "source": [
    "#hide\n",
    "def get_mappings(url):\n",
    "    df = pd.read_csv(url)\n",
    "    return {\n",
    "        'df': df,\n",
    "        'replace.country': dict(df.dropna(subset=['Name']).set_index('Country')['Name']),\n",
    "        'map.continent': dict(df.set_index('Name')['Continent'])\n",
    "    }"
   ]
  },
  {
   "cell_type": "code",
   "execution_count": 5,
   "id": "intimate-machinery",
   "metadata": {
    "execution": {
     "iopub.execute_input": "2022-03-03T00:34:17.567768Z",
     "iopub.status.busy": "2022-03-03T00:34:17.567245Z",
     "iopub.status.idle": "2022-03-03T00:34:17.627292Z",
     "shell.execute_reply": "2022-03-03T00:34:17.626837Z"
    },
    "papermill": {
     "duration": 0.09527,
     "end_time": "2022-03-03T00:34:17.627400",
     "exception": false,
     "start_time": "2022-03-03T00:34:17.532130",
     "status": "completed"
    },
    "tags": []
   },
   "outputs": [],
   "source": [
    "#hide\n",
    "mapping = get_mappings(paths['mapping'])"
   ]
  },
  {
   "cell_type": "code",
   "execution_count": 6,
   "id": "certified-tactics",
   "metadata": {
    "execution": {
     "iopub.execute_input": "2022-03-03T00:34:17.694820Z",
     "iopub.status.busy": "2022-03-03T00:34:17.694319Z",
     "iopub.status.idle": "2022-03-03T00:34:17.696275Z",
     "shell.execute_reply": "2022-03-03T00:34:17.695806Z"
    },
    "papermill": {
     "duration": 0.037822,
     "end_time": "2022-03-03T00:34:17.696374",
     "exception": false,
     "start_time": "2022-03-03T00:34:17.658552",
     "status": "completed"
    },
    "tags": []
   },
   "outputs": [],
   "source": [
    "#hide\n",
    "def get_template(path):\n",
    "    from urllib.parse import urlparse\n",
    "    if bool(urlparse(path).netloc):\n",
    "        from urllib.request import urlopen\n",
    "        return urlopen(path).read().decode('utf8')\n",
    "    return open(path).read()"
   ]
  },
  {
   "cell_type": "code",
   "execution_count": 7,
   "id": "realistic-blast",
   "metadata": {
    "execution": {
     "iopub.execute_input": "2022-03-03T00:34:17.763248Z",
     "iopub.status.busy": "2022-03-03T00:34:17.762742Z",
     "iopub.status.idle": "2022-03-03T00:34:17.764391Z",
     "shell.execute_reply": "2022-03-03T00:34:17.764784Z"
    },
    "papermill": {
     "duration": 0.0374,
     "end_time": "2022-03-03T00:34:17.764898",
     "exception": false,
     "start_time": "2022-03-03T00:34:17.727498",
     "status": "completed"
    },
    "tags": []
   },
   "outputs": [],
   "source": [
    "#hide\n",
    "def get_frame(name):\n",
    "    url = (\n",
    "        'https://raw.githubusercontent.com/CSSEGISandData/COVID-19/master/csse_covid_19_data/'\n",
    "        f'csse_covid_19_time_series/time_series_covid19_{name}_global.csv')\n",
    "    df = pd.read_csv(url)\n",
    "    # rename countries\n",
    "    df['Country/Region'] = df['Country/Region'].replace(mapping['replace.country'])\n",
    "    return df"
   ]
  },
  {
   "cell_type": "code",
   "execution_count": 8,
   "id": "affiliated-characterization",
   "metadata": {
    "execution": {
     "iopub.execute_input": "2022-03-03T00:34:17.834634Z",
     "iopub.status.busy": "2022-03-03T00:34:17.834129Z",
     "iopub.status.idle": "2022-03-03T00:34:17.837114Z",
     "shell.execute_reply": "2022-03-03T00:34:17.837494Z"
    },
    "papermill": {
     "duration": 0.04167,
     "end_time": "2022-03-03T00:34:17.837621",
     "exception": false,
     "start_time": "2022-03-03T00:34:17.795951",
     "status": "completed"
    },
    "tags": []
   },
   "outputs": [],
   "source": [
    "#hide\n",
    "def get_dates(df):\n",
    "    dt_cols = df.columns[~df.columns.isin(['Province/State', 'Country/Region', 'Lat', 'Long'])]\n",
    "    LAST_DATE_I = -1\n",
    "    # sometimes last column may be empty, then go backwards\n",
    "    for i in range(-1, -len(dt_cols), -1):\n",
    "        if not df[dt_cols[i]].fillna(0).eq(0).all():\n",
    "            LAST_DATE_I = i\n",
    "            break\n",
    "    return LAST_DATE_I, dt_cols"
   ]
  },
  {
   "cell_type": "code",
   "execution_count": 9,
   "id": "recent-optimization",
   "metadata": {
    "execution": {
     "iopub.execute_input": "2022-03-03T00:34:17.904359Z",
     "iopub.status.busy": "2022-03-03T00:34:17.903842Z",
     "iopub.status.idle": "2022-03-03T00:34:18.486629Z",
     "shell.execute_reply": "2022-03-03T00:34:18.486190Z"
    },
    "papermill": {
     "duration": 0.617957,
     "end_time": "2022-03-03T00:34:18.486745",
     "exception": false,
     "start_time": "2022-03-03T00:34:17.868788",
     "status": "completed"
    },
    "tags": []
   },
   "outputs": [],
   "source": [
    "#hide\n",
    "COL_REGION = 'Country/Region'\n",
    "# Confirmed, Recovered, Deaths\n",
    "df = get_frame('confirmed')\n",
    "# dft_: timeseries, dfc_: today country agg\n",
    "dft_cases = df\n",
    "dft_deaths = get_frame('deaths')\n",
    "dft_recovered = get_frame('recovered')\n",
    "LAST_DATE_I, dt_cols = get_dates(df)"
   ]
  },
  {
   "cell_type": "code",
   "execution_count": 10,
   "id": "absolute-copper",
   "metadata": {
    "execution": {
     "iopub.execute_input": "2022-03-03T00:34:18.556481Z",
     "iopub.status.busy": "2022-03-03T00:34:18.555969Z",
     "iopub.status.idle": "2022-03-03T00:34:18.557917Z",
     "shell.execute_reply": "2022-03-03T00:34:18.557513Z"
    },
    "papermill": {
     "duration": 0.039926,
     "end_time": "2022-03-03T00:34:18.558020",
     "exception": false,
     "start_time": "2022-03-03T00:34:18.518094",
     "status": "completed"
    },
    "tags": []
   },
   "outputs": [],
   "source": [
    "#hide\n",
    "LAST_DATE_I, dt_cols = get_dates(df)\n",
    "dt_today =dt_cols[LAST_DATE_I]\n",
    "# dt_5day = dt_cols[LAST_DATE_I - 5]\n",
    "dt_yday = dt_cols[LAST_DATE_I - 1]"
   ]
  },
  {
   "cell_type": "code",
   "execution_count": 11,
   "id": "restricted-sheriff",
   "metadata": {
    "execution": {
     "iopub.execute_input": "2022-03-03T00:34:18.625323Z",
     "iopub.status.busy": "2022-03-03T00:34:18.624826Z",
     "iopub.status.idle": "2022-03-03T00:34:18.631388Z",
     "shell.execute_reply": "2022-03-03T00:34:18.631782Z"
    },
    "papermill": {
     "duration": 0.04294,
     "end_time": "2022-03-03T00:34:18.631904",
     "exception": false,
     "start_time": "2022-03-03T00:34:18.588964",
     "status": "completed"
    },
    "tags": []
   },
   "outputs": [],
   "source": [
    "#hide\n",
    "dfc_cases = dft_cases.groupby(COL_REGION)[dt_today].sum()\n",
    "dfc_deaths = dft_deaths.groupby(COL_REGION)[dt_today].sum()\n",
    "# dfp_cases = dft_cases.groupby(COL_REGION)[dt_5day].sum()\n",
    "# dfp_deaths = dft_deaths.groupby(COL_REGION)[dt_5day].sum()\n",
    "dfp_cases = dft_cases.groupby(COL_REGION)[dt_yday].sum()\n",
    "dfp_deaths = dft_deaths.groupby(COL_REGION)[dt_yday].sum()"
   ]
  },
  {
   "cell_type": "code",
   "execution_count": 12,
   "id": "deluxe-hepatitis",
   "metadata": {
    "execution": {
     "iopub.execute_input": "2022-03-03T00:34:18.699360Z",
     "iopub.status.busy": "2022-03-03T00:34:18.698873Z",
     "iopub.status.idle": "2022-03-03T00:34:18.703089Z",
     "shell.execute_reply": "2022-03-03T00:34:18.702697Z"
    },
    "papermill": {
     "duration": 0.040278,
     "end_time": "2022-03-03T00:34:18.703190",
     "exception": false,
     "start_time": "2022-03-03T00:34:18.662912",
     "status": "completed"
    },
    "tags": []
   },
   "outputs": [],
   "source": [
    "#hide\n",
    "df_table = (pd.DataFrame(dict(Cases = dfc_cases, Deaths = dfc_deaths, PCases = dfp_cases, PDeaths = dfp_deaths))\n",
    "            .sort_values(by = ['Cases','Deaths'], ascending = [False, False])\n",
    "            .reset_index())"
   ]
  },
  {
   "cell_type": "code",
   "execution_count": 13,
   "id": "educational-chancellor",
   "metadata": {
    "execution": {
     "iopub.execute_input": "2022-03-03T00:34:18.781370Z",
     "iopub.status.busy": "2022-03-03T00:34:18.780874Z",
     "iopub.status.idle": "2022-03-03T00:34:18.788699Z",
     "shell.execute_reply": "2022-03-03T00:34:18.788309Z"
    },
    "papermill": {
     "duration": 0.054626,
     "end_time": "2022-03-03T00:34:18.788800",
     "exception": false,
     "start_time": "2022-03-03T00:34:18.734174",
     "status": "completed"
    },
    "tags": []
   },
   "outputs": [
    {
     "data": {
      "text/html": [
       "<div>\n",
       "<style scoped>\n",
       "    .dataframe tbody tr th:only-of-type {\n",
       "        vertical-align: middle;\n",
       "    }\n",
       "\n",
       "    .dataframe tbody tr th {\n",
       "        vertical-align: top;\n",
       "    }\n",
       "\n",
       "    .dataframe thead th {\n",
       "        text-align: right;\n",
       "    }\n",
       "</style>\n",
       "<table border=\"1\" class=\"dataframe\">\n",
       "  <thead>\n",
       "    <tr style=\"text-align: right;\">\n",
       "      <th></th>\n",
       "      <th>Country/Region</th>\n",
       "      <th>Cases</th>\n",
       "      <th>Deaths</th>\n",
       "      <th>PCases</th>\n",
       "      <th>PDeaths</th>\n",
       "      <th>Cases (+)</th>\n",
       "      <th>Deaths (+)</th>\n",
       "      <th>Fatality Rate</th>\n",
       "      <th>Continent</th>\n",
       "    </tr>\n",
       "  </thead>\n",
       "  <tbody>\n",
       "    <tr>\n",
       "      <th>0</th>\n",
       "      <td>US</td>\n",
       "      <td>79091361</td>\n",
       "      <td>952423</td>\n",
       "      <td>79044330</td>\n",
       "      <td>950732</td>\n",
       "      <td>47031</td>\n",
       "      <td>1691</td>\n",
       "      <td>1.20</td>\n",
       "      <td>North America</td>\n",
       "    </tr>\n",
       "    <tr>\n",
       "      <th>1</th>\n",
       "      <td>India</td>\n",
       "      <td>42938599</td>\n",
       "      <td>514246</td>\n",
       "      <td>42931045</td>\n",
       "      <td>514023</td>\n",
       "      <td>7554</td>\n",
       "      <td>223</td>\n",
       "      <td>1.20</td>\n",
       "      <td>Asia</td>\n",
       "    </tr>\n",
       "    <tr>\n",
       "      <th>2</th>\n",
       "      <td>Brazil</td>\n",
       "      <td>28818850</td>\n",
       "      <td>649922</td>\n",
       "      <td>28796571</td>\n",
       "      <td>649676</td>\n",
       "      <td>22279</td>\n",
       "      <td>246</td>\n",
       "      <td>2.26</td>\n",
       "      <td>South America</td>\n",
       "    </tr>\n",
       "    <tr>\n",
       "      <th>3</th>\n",
       "      <td>France</td>\n",
       "      <td>22959368</td>\n",
       "      <td>139594</td>\n",
       "      <td>22877926</td>\n",
       "      <td>139382</td>\n",
       "      <td>81442</td>\n",
       "      <td>212</td>\n",
       "      <td>0.61</td>\n",
       "      <td>Europe</td>\n",
       "    </tr>\n",
       "    <tr>\n",
       "      <th>4</th>\n",
       "      <td>United Kingdom</td>\n",
       "      <td>19120746</td>\n",
       "      <td>162203</td>\n",
       "      <td>19021076</td>\n",
       "      <td>161934</td>\n",
       "      <td>99670</td>\n",
       "      <td>269</td>\n",
       "      <td>0.85</td>\n",
       "      <td>Europe</td>\n",
       "    </tr>\n",
       "  </tbody>\n",
       "</table>\n",
       "</div>"
      ],
      "text/plain": [
       "   Country/Region     Cases  Deaths    PCases  PDeaths  Cases (+)  Deaths (+)  \\\n",
       "0              US  79091361  952423  79044330   950732      47031        1691   \n",
       "1           India  42938599  514246  42931045   514023       7554         223   \n",
       "2          Brazil  28818850  649922  28796571   649676      22279         246   \n",
       "3          France  22959368  139594  22877926   139382      81442         212   \n",
       "4  United Kingdom  19120746  162203  19021076   161934      99670         269   \n",
       "\n",
       "   Fatality Rate      Continent  \n",
       "0           1.20  North America  \n",
       "1           1.20           Asia  \n",
       "2           2.26  South America  \n",
       "3           0.61         Europe  \n",
       "4           0.85         Europe  "
      ]
     },
     "execution_count": 13,
     "metadata": {},
     "output_type": "execute_result"
    }
   ],
   "source": [
    "#hide\n",
    "for c in 'Cases, Deaths'.split(', '):\n",
    "    df_table[f'{c} (+)'] = (df_table[c] - df_table[f'P{c}']).clip(0)\n",
    "    #Clip ça veut dire, les chiffres negatif sont interdit\n",
    "df_table['Fatality Rate'] = (100* df_table['Deaths']/ df_table['Cases']).round(2)\n",
    "df_table['Continent'] = df_table['Country/Region'].map(mapping['map.continent'])\n",
    "df_table.head(5)"
   ]
  },
  {
   "cell_type": "code",
   "execution_count": 14,
   "id": "aboriginal-bulgaria",
   "metadata": {
    "execution": {
     "iopub.execute_input": "2022-03-03T00:34:18.856960Z",
     "iopub.status.busy": "2022-03-03T00:34:18.856453Z",
     "iopub.status.idle": "2022-03-03T00:34:18.858567Z",
     "shell.execute_reply": "2022-03-03T00:34:18.858163Z"
    },
    "papermill": {
     "duration": 0.038251,
     "end_time": "2022-03-03T00:34:18.858670",
     "exception": false,
     "start_time": "2022-03-03T00:34:18.820419",
     "status": "completed"
    },
    "tags": []
   },
   "outputs": [],
   "source": [
    "#hide\n",
    "#delete problematic countries from table\n",
    "df_table = df_table[~df_table['Country/Region'].isin(['Cape Verde', 'Cruise Ship', 'Kosovo'])]"
   ]
  },
  {
   "cell_type": "code",
   "execution_count": 15,
   "id": "fantastic-effect",
   "metadata": {
    "execution": {
     "iopub.execute_input": "2022-03-03T00:34:18.929424Z",
     "iopub.status.busy": "2022-03-03T00:34:18.928925Z",
     "iopub.status.idle": "2022-03-03T00:34:18.945124Z",
     "shell.execute_reply": "2022-03-03T00:34:18.945534Z"
    },
    "papermill": {
     "duration": 0.055022,
     "end_time": "2022-03-03T00:34:18.945654",
     "exception": false,
     "start_time": "2022-03-03T00:34:18.890632",
     "status": "completed"
    },
    "tags": []
   },
   "outputs": [
    {
     "data": {
      "text/html": [
       "<div>\n",
       "<style scoped>\n",
       "    .dataframe tbody tr th:only-of-type {\n",
       "        vertical-align: middle;\n",
       "    }\n",
       "\n",
       "    .dataframe tbody tr th {\n",
       "        vertical-align: top;\n",
       "    }\n",
       "\n",
       "    .dataframe thead th {\n",
       "        text-align: right;\n",
       "    }\n",
       "</style>\n",
       "<table border=\"1\" class=\"dataframe\">\n",
       "  <thead>\n",
       "    <tr style=\"text-align: right;\">\n",
       "      <th></th>\n",
       "      <th>Country/Region</th>\n",
       "      <th>Cases</th>\n",
       "      <th>Deaths</th>\n",
       "      <th>PCases</th>\n",
       "      <th>PDeaths</th>\n",
       "      <th>Cases (+)</th>\n",
       "      <th>Deaths (+)</th>\n",
       "      <th>Fatality Rate</th>\n",
       "      <th>Continent</th>\n",
       "    </tr>\n",
       "  </thead>\n",
       "  <tbody>\n",
       "    <tr>\n",
       "      <th>0</th>\n",
       "      <td>US</td>\n",
       "      <td>79091361</td>\n",
       "      <td>952423</td>\n",
       "      <td>79044330</td>\n",
       "      <td>950732</td>\n",
       "      <td>47031</td>\n",
       "      <td>1691</td>\n",
       "      <td>1.2</td>\n",
       "      <td>North America</td>\n",
       "    </tr>\n",
       "    <tr>\n",
       "      <th>1</th>\n",
       "      <td>India</td>\n",
       "      <td>42938599</td>\n",
       "      <td>514246</td>\n",
       "      <td>42931045</td>\n",
       "      <td>514023</td>\n",
       "      <td>7554</td>\n",
       "      <td>223</td>\n",
       "      <td>1.2</td>\n",
       "      <td>Asia</td>\n",
       "    </tr>\n",
       "    <tr>\n",
       "      <th>2</th>\n",
       "      <td>Brazil</td>\n",
       "      <td>28818850</td>\n",
       "      <td>649922</td>\n",
       "      <td>28796571</td>\n",
       "      <td>649676</td>\n",
       "      <td>22279</td>\n",
       "      <td>246</td>\n",
       "      <td>2.3</td>\n",
       "      <td>South America</td>\n",
       "    </tr>\n",
       "    <tr>\n",
       "      <th>3</th>\n",
       "      <td>France</td>\n",
       "      <td>22959368</td>\n",
       "      <td>139594</td>\n",
       "      <td>22877926</td>\n",
       "      <td>139382</td>\n",
       "      <td>81442</td>\n",
       "      <td>212</td>\n",
       "      <td>0.6</td>\n",
       "      <td>Europe</td>\n",
       "    </tr>\n",
       "    <tr>\n",
       "      <th>4</th>\n",
       "      <td>United Kingdom</td>\n",
       "      <td>19120746</td>\n",
       "      <td>162203</td>\n",
       "      <td>19021076</td>\n",
       "      <td>161934</td>\n",
       "      <td>99670</td>\n",
       "      <td>269</td>\n",
       "      <td>0.8</td>\n",
       "      <td>Europe</td>\n",
       "    </tr>\n",
       "  </tbody>\n",
       "</table>\n",
       "</div>"
      ],
      "text/plain": [
       "   Country/Region     Cases  Deaths    PCases  PDeaths  Cases (+)  Deaths (+)  \\\n",
       "0              US  79091361  952423  79044330   950732      47031        1691   \n",
       "1           India  42938599  514246  42931045   514023       7554         223   \n",
       "2          Brazil  28818850  649922  28796571   649676      22279         246   \n",
       "3          France  22959368  139594  22877926   139382      81442         212   \n",
       "4  United Kingdom  19120746  162203  19021076   161934      99670         269   \n",
       "\n",
       "   Fatality Rate      Continent  \n",
       "0            1.2  North America  \n",
       "1            1.2           Asia  \n",
       "2            2.3  South America  \n",
       "3            0.6         Europe  \n",
       "4            0.8         Europe  "
      ]
     },
     "execution_count": 15,
     "metadata": {},
     "output_type": "execute_result"
    }
   ],
   "source": [
    "#hide\n",
    "df_table = (pd.DataFrame(dict(Cases=dfc_cases, Deaths=dfc_deaths, PCases=dfp_cases, PDeaths=dfp_deaths))\n",
    "             .sort_values(by=['Cases', 'Deaths'], ascending=[False, False])\n",
    "             .reset_index())\n",
    "df_table.rename(columns={'index': 'Country/Region'}, inplace=True)\n",
    "for c in 'Cases, Deaths'.split(', '):\n",
    "    df_table[f'{c} (+)'] = (df_table[c] - df_table[f'P{c}']).clip(0)  # DATA BUG\n",
    "df_table['Fatality Rate'] = (100 * df_table['Deaths'] / df_table['Cases']).round(1)\n",
    "df_table['Continent'] = df_table['Country/Region'].map(mapping['map.continent'])\n",
    "df_table.head(5)"
   ]
  },
  {
   "cell_type": "code",
   "execution_count": 16,
   "id": "fewer-occasion",
   "metadata": {
    "execution": {
     "iopub.execute_input": "2022-03-03T00:34:19.014864Z",
     "iopub.status.busy": "2022-03-03T00:34:19.014358Z",
     "iopub.status.idle": "2022-03-03T00:34:19.016387Z",
     "shell.execute_reply": "2022-03-03T00:34:19.015992Z"
    },
    "papermill": {
     "duration": 0.038717,
     "end_time": "2022-03-03T00:34:19.016491",
     "exception": false,
     "start_time": "2022-03-03T00:34:18.977774",
     "status": "completed"
    },
    "tags": []
   },
   "outputs": [],
   "source": [
    "#hide\n",
    "#delete problematic countries from table\n",
    "df_table = df_table[~df_table['Country/Region'].isin(['Cape Verde', 'Cruise Ship', 'Kosovo'])]"
   ]
  },
  {
   "cell_type": "code",
   "execution_count": 17,
   "id": "related-center",
   "metadata": {
    "execution": {
     "iopub.execute_input": "2022-03-03T00:34:19.097222Z",
     "iopub.status.busy": "2022-03-03T00:34:19.096715Z",
     "iopub.status.idle": "2022-03-03T00:34:19.098747Z",
     "shell.execute_reply": "2022-03-03T00:34:19.098342Z"
    },
    "papermill": {
     "duration": 0.050408,
     "end_time": "2022-03-03T00:34:19.098845",
     "exception": false,
     "start_time": "2022-03-03T00:34:19.048437",
     "status": "completed"
    },
    "tags": []
   },
   "outputs": [],
   "source": [
    "#hide\n",
    "metrics = [df_table.columns[index] for index in [1,2,5,6]]\n",
    "# s_china = df_table[df_table['Country/Region'].eq('China')][metrics].sum().add_prefix('China ')\n",
    "s_us = df_table[df_table['Country/Region'].eq('US')][metrics].sum().add_prefix('US ')\n",
    "s_eu = df_table[df_table['Continent'].eq('Europe')][metrics].sum().add_prefix('EU ')\n",
    "s_ind = df_table[df_table['Country/Region'].eq('India')][metrics].sum().add_prefix('India ')\n",
    "summary = {'updated': pd.to_datetime(dt_today), 'since': pd.to_datetime(dt_yday)}\n",
    "summary = {'updated': pd.to_datetime(dt_today), 'since': pd.to_datetime(dt_yday)}\n",
    "summary = {**summary, **df_table[metrics].sum(), **s_ind, **s_us, **s_eu}"
   ]
  },
  {
   "cell_type": "code",
   "execution_count": 18,
   "id": "engaging-syndrome",
   "metadata": {
    "execution": {
     "iopub.execute_input": "2022-03-03T00:34:19.167559Z",
     "iopub.status.busy": "2022-03-03T00:34:19.167056Z",
     "iopub.status.idle": "2022-03-03T00:34:19.179809Z",
     "shell.execute_reply": "2022-03-03T00:34:19.180201Z"
    },
    "papermill": {
     "duration": 0.049507,
     "end_time": "2022-03-03T00:34:19.180319",
     "exception": false,
     "start_time": "2022-03-03T00:34:19.130812",
     "status": "completed"
    },
    "tags": []
   },
   "outputs": [],
   "source": [
    "#hide\n",
    "dft_ct_new_cases = dft_cases.groupby(COL_REGION)[dt_cols].sum().diff(axis=1).fillna(0).astype(int)"
   ]
  },
  {
   "cell_type": "code",
   "execution_count": 19,
   "id": "neutral-assignment",
   "metadata": {
    "execution": {
     "iopub.execute_input": "2022-03-03T00:34:19.249948Z",
     "iopub.status.busy": "2022-03-03T00:34:19.249448Z",
     "iopub.status.idle": "2022-03-03T00:34:19.251466Z",
     "shell.execute_reply": "2022-03-03T00:34:19.251062Z"
    },
    "papermill": {
     "duration": 0.039361,
     "end_time": "2022-03-03T00:34:19.251563",
     "exception": false,
     "start_time": "2022-03-03T00:34:19.212202",
     "status": "completed"
    },
    "tags": []
   },
   "outputs": [],
   "source": [
    "#hide\n",
    "everydaycases = dft_ct_new_cases.cumsum(axis=1)"
   ]
  },
  {
   "cell_type": "code",
   "execution_count": 20,
   "id": "parliamentary-calgary",
   "metadata": {
    "execution": {
     "iopub.execute_input": "2022-03-03T00:34:19.319490Z",
     "iopub.status.busy": "2022-03-03T00:34:19.318990Z",
     "iopub.status.idle": "2022-03-03T00:34:19.899986Z",
     "shell.execute_reply": "2022-03-03T00:34:19.899511Z"
    },
    "papermill": {
     "duration": 0.616553,
     "end_time": "2022-03-03T00:34:19.900106",
     "exception": false,
     "start_time": "2022-03-03T00:34:19.283553",
     "status": "completed"
    },
    "tags": []
   },
   "outputs": [],
   "source": [
    "#hide\n",
    "import pandas as pd\n",
    "import matplotlib.pyplot as plt\n",
    "import matplotlib.ticker as ticker\n",
    "import matplotlib.animation as animation\n",
    "from IPython.display import HTML"
   ]
  },
  {
   "cell_type": "code",
   "execution_count": 21,
   "id": "lasting-extraction",
   "metadata": {
    "execution": {
     "iopub.execute_input": "2022-03-03T00:34:19.969241Z",
     "iopub.status.busy": "2022-03-03T00:34:19.968754Z",
     "iopub.status.idle": "2022-03-03T00:34:19.974706Z",
     "shell.execute_reply": "2022-03-03T00:34:19.975086Z"
    },
    "papermill": {
     "duration": 0.04307,
     "end_time": "2022-03-03T00:34:19.975197",
     "exception": false,
     "start_time": "2022-03-03T00:34:19.932127",
     "status": "completed"
    },
    "tags": []
   },
   "outputs": [],
   "source": [
    "#hide\n",
    "t = everydaycases.stack()"
   ]
  },
  {
   "cell_type": "code",
   "execution_count": 22,
   "id": "premier-sleeve",
   "metadata": {
    "execution": {
     "iopub.execute_input": "2022-03-03T00:34:20.042509Z",
     "iopub.status.busy": "2022-03-03T00:34:20.042012Z",
     "iopub.status.idle": "2022-03-03T00:34:20.051028Z",
     "shell.execute_reply": "2022-03-03T00:34:20.050645Z"
    },
    "papermill": {
     "duration": 0.043973,
     "end_time": "2022-03-03T00:34:20.051126",
     "exception": false,
     "start_time": "2022-03-03T00:34:20.007153",
     "status": "completed"
    },
    "tags": []
   },
   "outputs": [],
   "source": [
    "#hide\n",
    "g = t.reset_index(['Country/Region'])"
   ]
  },
  {
   "cell_type": "code",
   "execution_count": 23,
   "id": "distributed-pittsburgh",
   "metadata": {
    "execution": {
     "iopub.execute_input": "2022-03-03T00:34:20.118195Z",
     "iopub.status.busy": "2022-03-03T00:34:20.117695Z",
     "iopub.status.idle": "2022-03-03T00:34:20.119341Z",
     "shell.execute_reply": "2022-03-03T00:34:20.119723Z"
    },
    "papermill": {
     "duration": 0.036862,
     "end_time": "2022-03-03T00:34:20.119835",
     "exception": false,
     "start_time": "2022-03-03T00:34:20.082973",
     "status": "completed"
    },
    "tags": []
   },
   "outputs": [],
   "source": [
    "#hide\n",
    "g.index.name = 'date'"
   ]
  },
  {
   "cell_type": "code",
   "execution_count": 24,
   "id": "naked-donor",
   "metadata": {
    "execution": {
     "iopub.execute_input": "2022-03-03T00:34:20.186652Z",
     "iopub.status.busy": "2022-03-03T00:34:20.186149Z",
     "iopub.status.idle": "2022-03-03T00:34:20.187895Z",
     "shell.execute_reply": "2022-03-03T00:34:20.188275Z"
    },
    "papermill": {
     "duration": 0.036673,
     "end_time": "2022-03-03T00:34:20.188384",
     "exception": false,
     "start_time": "2022-03-03T00:34:20.151711",
     "status": "completed"
    },
    "tags": []
   },
   "outputs": [],
   "source": [
    "# #hide\n",
    "# g = g.reset_index(['date'])"
   ]
  },
  {
   "cell_type": "code",
   "execution_count": 25,
   "id": "incomplete-mustang",
   "metadata": {
    "execution": {
     "iopub.execute_input": "2022-03-03T00:34:20.254999Z",
     "iopub.status.busy": "2022-03-03T00:34:20.254495Z",
     "iopub.status.idle": "2022-03-03T00:34:20.256191Z",
     "shell.execute_reply": "2022-03-03T00:34:20.256594Z"
    },
    "papermill": {
     "duration": 0.036548,
     "end_time": "2022-03-03T00:34:20.256701",
     "exception": false,
     "start_time": "2022-03-03T00:34:20.220153",
     "status": "completed"
    },
    "tags": []
   },
   "outputs": [],
   "source": [
    "#hide\n",
    "# g.head()"
   ]
  },
  {
   "cell_type": "code",
   "execution_count": 26,
   "id": "specific-kruger",
   "metadata": {
    "execution": {
     "iopub.execute_input": "2022-03-03T00:34:20.323359Z",
     "iopub.status.busy": "2022-03-03T00:34:20.322874Z",
     "iopub.status.idle": "2022-03-03T00:34:20.324496Z",
     "shell.execute_reply": "2022-03-03T00:34:20.324883Z"
    },
    "papermill": {
     "duration": 0.036603,
     "end_time": "2022-03-03T00:34:20.324991",
     "exception": false,
     "start_time": "2022-03-03T00:34:20.288388",
     "status": "completed"
    },
    "tags": []
   },
   "outputs": [],
   "source": [
    "#hide\n",
    "# g.columns = ['date','country','cases']"
   ]
  },
  {
   "cell_type": "code",
   "execution_count": 27,
   "id": "tender-conversion",
   "metadata": {
    "execution": {
     "iopub.execute_input": "2022-03-03T00:34:20.391122Z",
     "iopub.status.busy": "2022-03-03T00:34:20.390614Z",
     "iopub.status.idle": "2022-03-03T00:34:20.392679Z",
     "shell.execute_reply": "2022-03-03T00:34:20.392217Z"
    },
    "papermill": {
     "duration": 0.036143,
     "end_time": "2022-03-03T00:34:20.392773",
     "exception": false,
     "start_time": "2022-03-03T00:34:20.356630",
     "status": "completed"
    },
    "tags": []
   },
   "outputs": [],
   "source": [
    "#hide\n",
    "# g['continent'] = g.country"
   ]
  },
  {
   "cell_type": "code",
   "execution_count": 28,
   "id": "substantial-wilderness",
   "metadata": {
    "execution": {
     "iopub.execute_input": "2022-03-03T00:34:20.459574Z",
     "iopub.status.busy": "2022-03-03T00:34:20.459087Z",
     "iopub.status.idle": "2022-03-03T00:34:20.460721Z",
     "shell.execute_reply": "2022-03-03T00:34:20.461127Z"
    },
    "papermill": {
     "duration": 0.03646,
     "end_time": "2022-03-03T00:34:20.461234",
     "exception": false,
     "start_time": "2022-03-03T00:34:20.424774",
     "status": "completed"
    },
    "tags": []
   },
   "outputs": [],
   "source": [
    "#hide\n",
    "# cols = list(g.columns.values)"
   ]
  },
  {
   "cell_type": "code",
   "execution_count": 29,
   "id": "solved-farming",
   "metadata": {
    "execution": {
     "iopub.execute_input": "2022-03-03T00:34:20.528315Z",
     "iopub.status.busy": "2022-03-03T00:34:20.527813Z",
     "iopub.status.idle": "2022-03-03T00:34:20.531153Z",
     "shell.execute_reply": "2022-03-03T00:34:20.530763Z"
    },
    "papermill": {
     "duration": 0.038326,
     "end_time": "2022-03-03T00:34:20.531251",
     "exception": false,
     "start_time": "2022-03-03T00:34:20.492925",
     "status": "completed"
    },
    "tags": []
   },
   "outputs": [],
   "source": [
    "#hide\n",
    "# cols.insert(0, cols.pop())"
   ]
  },
  {
   "cell_type": "code",
   "execution_count": 30,
   "id": "executed-adoption",
   "metadata": {
    "execution": {
     "iopub.execute_input": "2022-03-03T00:34:20.598253Z",
     "iopub.status.busy": "2022-03-03T00:34:20.597765Z",
     "iopub.status.idle": "2022-03-03T00:34:20.599370Z",
     "shell.execute_reply": "2022-03-03T00:34:20.599750Z"
    },
    "papermill": {
     "duration": 0.036768,
     "end_time": "2022-03-03T00:34:20.599866",
     "exception": false,
     "start_time": "2022-03-03T00:34:20.563098",
     "status": "completed"
    },
    "tags": []
   },
   "outputs": [],
   "source": [
    "#hide\n",
    "# g = g[cols]"
   ]
  },
  {
   "cell_type": "code",
   "execution_count": 31,
   "id": "subject-dublin",
   "metadata": {
    "execution": {
     "iopub.execute_input": "2022-03-03T00:34:20.666560Z",
     "iopub.status.busy": "2022-03-03T00:34:20.666066Z",
     "iopub.status.idle": "2022-03-03T00:34:20.668117Z",
     "shell.execute_reply": "2022-03-03T00:34:20.667698Z"
    },
    "papermill": {
     "duration": 0.0365,
     "end_time": "2022-03-03T00:34:20.668214",
     "exception": false,
     "start_time": "2022-03-03T00:34:20.631714",
     "status": "completed"
    },
    "tags": []
   },
   "outputs": [],
   "source": [
    "#hide\n",
    "# g['continent'] = g['continent'].map(mapping['map.continent'])"
   ]
  },
  {
   "cell_type": "code",
   "execution_count": 32,
   "id": "freelance-scout",
   "metadata": {
    "execution": {
     "iopub.execute_input": "2022-03-03T00:34:20.735350Z",
     "iopub.status.busy": "2022-03-03T00:34:20.734859Z",
     "iopub.status.idle": "2022-03-03T00:34:20.737747Z",
     "shell.execute_reply": "2022-03-03T00:34:20.738116Z"
    },
    "papermill": {
     "duration": 0.038065,
     "end_time": "2022-03-03T00:34:20.738230",
     "exception": false,
     "start_time": "2022-03-03T00:34:20.700165",
     "status": "completed"
    },
    "tags": []
   },
   "outputs": [],
   "source": [
    "#hide\n",
    "# g.head()"
   ]
  },
  {
   "cell_type": "code",
   "execution_count": 33,
   "id": "limited-engine",
   "metadata": {
    "execution": {
     "iopub.execute_input": "2022-03-03T00:34:20.804510Z",
     "iopub.status.busy": "2022-03-03T00:34:20.804015Z",
     "iopub.status.idle": "2022-03-03T00:34:20.805724Z",
     "shell.execute_reply": "2022-03-03T00:34:20.806110Z"
    },
    "papermill": {
     "duration": 0.036282,
     "end_time": "2022-03-03T00:34:20.806218",
     "exception": false,
     "start_time": "2022-03-03T00:34:20.769936",
     "status": "completed"
    },
    "tags": []
   },
   "outputs": [],
   "source": [
    "# hide\n",
    "# g['date'] = g['date'].astype('datetime64[ns]')"
   ]
  },
  {
   "cell_type": "code",
   "execution_count": 34,
   "id": "sophisticated-supervisor",
   "metadata": {
    "execution": {
     "iopub.execute_input": "2022-03-03T00:34:20.872550Z",
     "iopub.status.busy": "2022-03-03T00:34:20.872060Z",
     "iopub.status.idle": "2022-03-03T00:34:20.874084Z",
     "shell.execute_reply": "2022-03-03T00:34:20.873704Z"
    },
    "papermill": {
     "duration": 0.03626,
     "end_time": "2022-03-03T00:34:20.874179",
     "exception": false,
     "start_time": "2022-03-03T00:34:20.837919",
     "status": "completed"
    },
    "tags": []
   },
   "outputs": [],
   "source": [
    "#hide\n",
    "# g['date'] = g.date.dt.dayofyear"
   ]
  },
  {
   "cell_type": "code",
   "execution_count": 35,
   "id": "inside-dubai",
   "metadata": {
    "execution": {
     "iopub.execute_input": "2022-03-03T00:34:20.940739Z",
     "iopub.status.busy": "2022-03-03T00:34:20.940244Z",
     "iopub.status.idle": "2022-03-03T00:34:20.941953Z",
     "shell.execute_reply": "2022-03-03T00:34:20.942357Z"
    },
    "papermill": {
     "duration": 0.036639,
     "end_time": "2022-03-03T00:34:20.942471",
     "exception": false,
     "start_time": "2022-03-03T00:34:20.905832",
     "status": "completed"
    },
    "tags": []
   },
   "outputs": [],
   "source": [
    "#hide\n",
    "# g = g.rename(columns= {'continent':'group','country':'name','cases':'value'})"
   ]
  },
  {
   "cell_type": "code",
   "execution_count": 36,
   "id": "fleet-motorcycle",
   "metadata": {
    "execution": {
     "iopub.execute_input": "2022-03-03T00:34:21.009133Z",
     "iopub.status.busy": "2022-03-03T00:34:21.008649Z",
     "iopub.status.idle": "2022-03-03T00:34:21.010283Z",
     "shell.execute_reply": "2022-03-03T00:34:21.010672Z"
    },
    "papermill": {
     "duration": 0.036467,
     "end_time": "2022-03-03T00:34:21.010781",
     "exception": false,
     "start_time": "2022-03-03T00:34:20.974314",
     "status": "completed"
    },
    "tags": []
   },
   "outputs": [],
   "source": [
    "#hide\n",
    "# cols = ['name','group','day','value']"
   ]
  },
  {
   "cell_type": "code",
   "execution_count": 37,
   "id": "continued-sleeping",
   "metadata": {
    "execution": {
     "iopub.execute_input": "2022-03-03T00:34:21.077121Z",
     "iopub.status.busy": "2022-03-03T00:34:21.076621Z",
     "iopub.status.idle": "2022-03-03T00:34:21.078632Z",
     "shell.execute_reply": "2022-03-03T00:34:21.078251Z"
    },
    "papermill": {
     "duration": 0.0363,
     "end_time": "2022-03-03T00:34:21.078729",
     "exception": false,
     "start_time": "2022-03-03T00:34:21.042429",
     "status": "completed"
    },
    "tags": []
   },
   "outputs": [],
   "source": [
    "#hide\n",
    "# g.rename(columns= {'date':'day'},inplace = True)"
   ]
  },
  {
   "cell_type": "code",
   "execution_count": 38,
   "id": "major-fight",
   "metadata": {
    "execution": {
     "iopub.execute_input": "2022-03-03T00:34:21.145335Z",
     "iopub.status.busy": "2022-03-03T00:34:21.144848Z",
     "iopub.status.idle": "2022-03-03T00:34:21.148192Z",
     "shell.execute_reply": "2022-03-03T00:34:21.147794Z"
    },
    "papermill": {
     "duration": 0.037693,
     "end_time": "2022-03-03T00:34:21.148290",
     "exception": false,
     "start_time": "2022-03-03T00:34:21.110597",
     "status": "completed"
    },
    "tags": []
   },
   "outputs": [],
   "source": [
    "#hide\n",
    "# g = g[cols]"
   ]
  },
  {
   "cell_type": "code",
   "execution_count": 39,
   "id": "structured-mobile",
   "metadata": {
    "execution": {
     "iopub.execute_input": "2022-03-03T00:34:21.214841Z",
     "iopub.status.busy": "2022-03-03T00:34:21.214358Z",
     "iopub.status.idle": "2022-03-03T00:34:21.216431Z",
     "shell.execute_reply": "2022-03-03T00:34:21.216042Z"
    },
    "papermill": {
     "duration": 0.036335,
     "end_time": "2022-03-03T00:34:21.216528",
     "exception": false,
     "start_time": "2022-03-03T00:34:21.180193",
     "status": "completed"
    },
    "tags": []
   },
   "outputs": [],
   "source": [
    "# #hide\n",
    "# g = g[g.group.notna()]"
   ]
  },
  {
   "cell_type": "code",
   "execution_count": 40,
   "id": "determined-closing",
   "metadata": {
    "execution": {
     "iopub.execute_input": "2022-03-03T00:34:21.283554Z",
     "iopub.status.busy": "2022-03-03T00:34:21.283054Z",
     "iopub.status.idle": "2022-03-03T00:34:21.285037Z",
     "shell.execute_reply": "2022-03-03T00:34:21.284631Z"
    },
    "papermill": {
     "duration": 0.036685,
     "end_time": "2022-03-03T00:34:21.285130",
     "exception": false,
     "start_time": "2022-03-03T00:34:21.248445",
     "status": "completed"
    },
    "tags": []
   },
   "outputs": [],
   "source": [
    "# #hide\n",
    "# colors = dict(zip(\n",
    "#     [\"Oceania\", \"Europe\", \"Asia\", \"South America\", \"Middle East\", \"North America\", \"Africa\"],\n",
    "#     [\"#adb0ff\", \"#ffb3ff\", \"#90d595\", \"#e48381\", \"#aafbff\", \"#f7bb5f\", \"#eafb50\"]\n",
    "# ))\n",
    "# group_lk = g.set_index('name')['group'].to_dict()"
   ]
  },
  {
   "cell_type": "code",
   "execution_count": null,
   "id": "gross-drinking",
   "metadata": {
    "papermill": {
     "duration": 0.031783,
     "end_time": "2022-03-03T00:34:21.348649",
     "exception": false,
     "start_time": "2022-03-03T00:34:21.316866",
     "status": "completed"
    },
    "tags": []
   },
   "outputs": [],
   "source": []
  },
  {
   "cell_type": "code",
   "execution_count": 41,
   "id": "subject-macintosh",
   "metadata": {
    "execution": {
     "iopub.execute_input": "2022-03-03T00:34:21.416287Z",
     "iopub.status.busy": "2022-03-03T00:34:21.415767Z",
     "iopub.status.idle": "2022-03-03T00:34:21.418703Z",
     "shell.execute_reply": "2022-03-03T00:34:21.419071Z"
    },
    "papermill": {
     "duration": 0.038656,
     "end_time": "2022-03-03T00:34:21.419185",
     "exception": false,
     "start_time": "2022-03-03T00:34:21.380529",
     "status": "completed"
    },
    "tags": []
   },
   "outputs": [],
   "source": [
    "# #hide\n",
    "# fig, ax = plt.subplots(figsize=(15, 8))\n",
    "\n",
    "# def draw_barchart(current_day):\n",
    "#     dff = g[g['day'].eq(current_day)].sort_values(by='value', ascending=True).tail(10)\n",
    "#     ax.clear()\n",
    "#     ax.barh(dff['name'], dff['value'], color=[colors[group_lk[x]] for x in dff['name']])\n",
    "#     dx = dff['value'].max() / 200\n",
    "    \n",
    "#     for i, (value, name) in enumerate(zip(dff['value'], dff['name'])):\n",
    "#         ax.text(value-dx, i,     name,           size=14, weight=600, ha='right', va='bottom')\n",
    "#         ax.text(value-dx, i-.25, group_lk[name], size=10, color='#444444', ha='right', va='baseline')\n",
    "#         ax.text(value+dx, i,     f'{value:,.0f}',  size=14, ha='left',  va='center')\n",
    "#     ax.text(1, 0.4, current_day, transform=ax.transAxes, color='#777777', size=46, ha='right', weight=800)\n",
    "#     ax.text(0, 1.06, 'Population (thousands)', transform=ax.transAxes, size=12, color='#777777')\n",
    "#     ax.xaxis.set_major_formatter(ticker.StrMethodFormatter('{x:,.0f}'))\n",
    "#     ax.xaxis.set_ticks_position('top')\n",
    "#     ax.tick_params(axis='x', colors='#777777', labelsize=12)\n",
    "#     ax.set_yticks([])\n",
    "#     ax.margins(0, 0.01)\n",
    "#     ax.grid(which='major', axis='x', linestyle='-')\n",
    "#     ax.set_axisbelow(True)\n",
    "    \n",
    "#     ax.text(0, 1.15, 'Coronavirus',\n",
    "#             transform=ax.transAxes, size=24, weight=600, ha='left', va='top')\n",
    "# #     ax.text(1, 0, 'by @pratapvardhan; credit @jburnmurdoch', transform=ax.transAxes, color='#777777', ha='right',\n",
    "# #             bbox=dict(facecolor='white', alpha=0.8, edgecolor='white'))\n",
    "#     plt.box(False)"
   ]
  },
  {
   "cell_type": "code",
   "execution_count": 42,
   "id": "sexual-wages",
   "metadata": {
    "execution": {
     "iopub.execute_input": "2022-03-03T00:34:21.485852Z",
     "iopub.status.busy": "2022-03-03T00:34:21.485354Z",
     "iopub.status.idle": "2022-03-03T00:34:21.487142Z",
     "shell.execute_reply": "2022-03-03T00:34:21.487511Z"
    },
    "papermill": {
     "duration": 0.036774,
     "end_time": "2022-03-03T00:34:21.487639",
     "exception": false,
     "start_time": "2022-03-03T00:34:21.450865",
     "status": "completed"
    },
    "tags": []
   },
   "outputs": [],
   "source": [
    "# #hide_input\n",
    "# fig, ax = plt.subplots(figsize=(15, 8))\n",
    "# animator = animation.FuncAnimation(fig, draw_barchart, frames=range(g.day.values.min(), g.day.values.max()))\n",
    "# HTML(animator.to_jshtml())\n",
    "# # or use animator.to_html5_video() or animator.save() "
   ]
  },
  {
   "cell_type": "code",
   "execution_count": null,
   "id": "australian-container",
   "metadata": {
    "papermill": {
     "duration": 0.031853,
     "end_time": "2022-03-03T00:34:21.551312",
     "exception": false,
     "start_time": "2022-03-03T00:34:21.519459",
     "status": "completed"
    },
    "tags": []
   },
   "outputs": [],
   "source": []
  },
  {
   "cell_type": "code",
   "execution_count": null,
   "id": "mediterranean-pontiac",
   "metadata": {
    "papermill": {
     "duration": 0.031645,
     "end_time": "2022-03-03T00:34:21.614863",
     "exception": false,
     "start_time": "2022-03-03T00:34:21.583218",
     "status": "completed"
    },
    "tags": []
   },
   "outputs": [],
   "source": []
  },
  {
   "cell_type": "code",
   "execution_count": null,
   "id": "aging-legislature",
   "metadata": {
    "papermill": {
     "duration": 0.032039,
     "end_time": "2022-03-03T00:34:21.678965",
     "exception": false,
     "start_time": "2022-03-03T00:34:21.646926",
     "status": "completed"
    },
    "tags": []
   },
   "outputs": [],
   "source": []
  }
 ],
 "metadata": {
  "kernelspec": {
   "display_name": "Python 3",
   "language": "python",
   "name": "python3"
  },
  "language_info": {
   "codemirror_mode": {
    "name": "ipython",
    "version": 3
   },
   "file_extension": ".py",
   "mimetype": "text/x-python",
   "name": "python",
   "nbconvert_exporter": "python",
   "pygments_lexer": "ipython3",
   "version": "3.6.15"
  },
  "papermill": {
   "duration": 6.061194,
   "end_time": "2022-03-03T00:34:22.029261",
   "environment_variables": {},
   "exception": null,
   "input_path": "2020-03-21-covid19exp.ipynb",
   "output_path": "2020-03-21-covid19exp.ipynb",
   "parameters": {},
   "start_time": "2022-03-03T00:34:15.968067",
   "version": "2.0.0"
  }
 },
 "nbformat": 4,
 "nbformat_minor": 5
}