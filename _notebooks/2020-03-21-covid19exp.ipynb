{
 "cells": [
  {
   "cell_type": "markdown",
   "id": "muslim-click",
   "metadata": {
    "papermill": {
     "duration": 0.040377,
     "end_time": "2021-09-12T00:24:40.214657",
     "exception": false,
     "start_time": "2021-09-12T00:24:40.174280",
     "status": "completed"
    },
    "tags": []
   },
   "source": [
    "# COVID-19 Case Race\n",
    "> A race chart to see rising cases around the world\n",
    "\n",
    "- author: Hargun Oberoi\n",
    "- image: images/covid-overview.png\n",
    "- hide: false\n",
    "- badges: false"
   ]
  },
  {
   "cell_type": "code",
   "execution_count": 1,
   "id": "proof-material",
   "metadata": {
    "execution": {
     "iopub.execute_input": "2021-09-12T00:24:40.294914Z",
     "iopub.status.busy": "2021-09-12T00:24:40.293984Z",
     "iopub.status.idle": "2021-09-12T00:24:40.674982Z",
     "shell.execute_reply": "2021-09-12T00:24:40.674324Z"
    },
    "papermill": {
     "duration": 0.42687,
     "end_time": "2021-09-12T00:24:40.675162",
     "exception": false,
     "start_time": "2021-09-12T00:24:40.248292",
     "status": "completed"
    },
    "tags": []
   },
   "outputs": [],
   "source": [
    "#hide\n",
    "import numpy as np\n",
    "import pandas as pd\n",
    "from jinja2 import Template\n",
    "from IPython.display import HTML"
   ]
  },
  {
   "cell_type": "code",
   "execution_count": 2,
   "id": "developed-terminology",
   "metadata": {
    "execution": {
     "iopub.execute_input": "2021-09-12T00:24:40.749001Z",
     "iopub.status.busy": "2021-09-12T00:24:40.748378Z",
     "iopub.status.idle": "2021-09-12T00:24:40.750764Z",
     "shell.execute_reply": "2021-09-12T00:24:40.750259Z"
    },
    "papermill": {
     "duration": 0.042488,
     "end_time": "2021-09-12T00:24:40.750884",
     "exception": false,
     "start_time": "2021-09-12T00:24:40.708396",
     "status": "completed"
    },
    "tags": []
   },
   "outputs": [],
   "source": [
    "#hide\n",
    "\n",
    "# FETCH\n",
    "base_url = 'https://raw.githubusercontent.com/pratapvardhan/notebooks/master/covid19/'\n",
    "paths = {\n",
    "    'mapping': base_url + 'mapping_countries.csv',\n",
    "    'overview': base_url + 'overview.tpl'\n",
    "}"
   ]
  },
  {
   "cell_type": "code",
   "execution_count": 3,
   "id": "dynamic-saver",
   "metadata": {
    "execution": {
     "iopub.execute_input": "2021-09-12T00:24:40.832994Z",
     "iopub.status.busy": "2021-09-12T00:24:40.832381Z",
     "iopub.status.idle": "2021-09-12T00:24:40.834599Z",
     "shell.execute_reply": "2021-09-12T00:24:40.835149Z"
    },
    "papermill": {
     "duration": 0.050019,
     "end_time": "2021-09-12T00:24:40.835291",
     "exception": false,
     "start_time": "2021-09-12T00:24:40.785272",
     "status": "completed"
    },
    "tags": []
   },
   "outputs": [
    {
     "data": {
      "text/plain": [
       "'https://raw.githubusercontent.com/pratapvardhan/notebooks/master/covid19/mapping_countries.csv'"
      ]
     },
     "execution_count": 3,
     "metadata": {},
     "output_type": "execute_result"
    }
   ],
   "source": [
    "#hide\n",
    "paths['mapping']"
   ]
  },
  {
   "cell_type": "code",
   "execution_count": 4,
   "id": "urban-software",
   "metadata": {
    "execution": {
     "iopub.execute_input": "2021-09-12T00:24:40.912079Z",
     "iopub.status.busy": "2021-09-12T00:24:40.911477Z",
     "iopub.status.idle": "2021-09-12T00:24:40.913737Z",
     "shell.execute_reply": "2021-09-12T00:24:40.913236Z"
    },
    "papermill": {
     "duration": 0.043813,
     "end_time": "2021-09-12T00:24:40.913860",
     "exception": false,
     "start_time": "2021-09-12T00:24:40.870047",
     "status": "completed"
    },
    "tags": []
   },
   "outputs": [],
   "source": [
    "#hide\n",
    "def get_mappings(url):\n",
    "    df = pd.read_csv(url)\n",
    "    return {\n",
    "        'df': df,\n",
    "        'replace.country': dict(df.dropna(subset=['Name']).set_index('Country')['Name']),\n",
    "        'map.continent': dict(df.set_index('Name')['Continent'])\n",
    "    }"
   ]
  },
  {
   "cell_type": "code",
   "execution_count": 5,
   "id": "intimate-machinery",
   "metadata": {
    "execution": {
     "iopub.execute_input": "2021-09-12T00:24:40.988035Z",
     "iopub.status.busy": "2021-09-12T00:24:40.987439Z",
     "iopub.status.idle": "2021-09-12T00:24:41.018562Z",
     "shell.execute_reply": "2021-09-12T00:24:41.018024Z"
    },
    "papermill": {
     "duration": 0.071584,
     "end_time": "2021-09-12T00:24:41.018692",
     "exception": false,
     "start_time": "2021-09-12T00:24:40.947108",
     "status": "completed"
    },
    "tags": []
   },
   "outputs": [],
   "source": [
    "#hide\n",
    "mapping = get_mappings(paths['mapping'])"
   ]
  },
  {
   "cell_type": "code",
   "execution_count": 6,
   "id": "certified-tactics",
   "metadata": {
    "execution": {
     "iopub.execute_input": "2021-09-12T00:24:41.092770Z",
     "iopub.status.busy": "2021-09-12T00:24:41.092177Z",
     "iopub.status.idle": "2021-09-12T00:24:41.094674Z",
     "shell.execute_reply": "2021-09-12T00:24:41.094207Z"
    },
    "papermill": {
     "duration": 0.041934,
     "end_time": "2021-09-12T00:24:41.094796",
     "exception": false,
     "start_time": "2021-09-12T00:24:41.052862",
     "status": "completed"
    },
    "tags": []
   },
   "outputs": [],
   "source": [
    "#hide\n",
    "def get_template(path):\n",
    "    from urllib.parse import urlparse\n",
    "    if bool(urlparse(path).netloc):\n",
    "        from urllib.request import urlopen\n",
    "        return urlopen(path).read().decode('utf8')\n",
    "    return open(path).read()"
   ]
  },
  {
   "cell_type": "code",
   "execution_count": 7,
   "id": "realistic-blast",
   "metadata": {
    "execution": {
     "iopub.execute_input": "2021-09-12T00:24:41.171566Z",
     "iopub.status.busy": "2021-09-12T00:24:41.170969Z",
     "iopub.status.idle": "2021-09-12T00:24:41.173408Z",
     "shell.execute_reply": "2021-09-12T00:24:41.173865Z"
    },
    "papermill": {
     "duration": 0.043245,
     "end_time": "2021-09-12T00:24:41.174009",
     "exception": false,
     "start_time": "2021-09-12T00:24:41.130764",
     "status": "completed"
    },
    "tags": []
   },
   "outputs": [],
   "source": [
    "#hide\n",
    "def get_frame(name):\n",
    "    url = (\n",
    "        'https://raw.githubusercontent.com/CSSEGISandData/COVID-19/master/csse_covid_19_data/'\n",
    "        f'csse_covid_19_time_series/time_series_covid19_{name}_global.csv')\n",
    "    df = pd.read_csv(url)\n",
    "    # rename countries\n",
    "    df['Country/Region'] = df['Country/Region'].replace(mapping['replace.country'])\n",
    "    return df"
   ]
  },
  {
   "cell_type": "code",
   "execution_count": 8,
   "id": "affiliated-characterization",
   "metadata": {
    "execution": {
     "iopub.execute_input": "2021-09-12T00:24:41.247396Z",
     "iopub.status.busy": "2021-09-12T00:24:41.246800Z",
     "iopub.status.idle": "2021-09-12T00:24:41.248811Z",
     "shell.execute_reply": "2021-09-12T00:24:41.249283Z"
    },
    "papermill": {
     "duration": 0.042227,
     "end_time": "2021-09-12T00:24:41.249450",
     "exception": false,
     "start_time": "2021-09-12T00:24:41.207223",
     "status": "completed"
    },
    "tags": []
   },
   "outputs": [],
   "source": [
    "#hide\n",
    "def get_dates(df):\n",
    "    dt_cols = df.columns[~df.columns.isin(['Province/State', 'Country/Region', 'Lat', 'Long'])]\n",
    "    LAST_DATE_I = -1\n",
    "    # sometimes last column may be empty, then go backwards\n",
    "    for i in range(-1, -len(dt_cols), -1):\n",
    "        if not df[dt_cols[i]].fillna(0).eq(0).all():\n",
    "            LAST_DATE_I = i\n",
    "            break\n",
    "    return LAST_DATE_I, dt_cols"
   ]
  },
  {
   "cell_type": "code",
   "execution_count": 9,
   "id": "recent-optimization",
   "metadata": {
    "execution": {
     "iopub.execute_input": "2021-09-12T00:24:41.320438Z",
     "iopub.status.busy": "2021-09-12T00:24:41.319819Z",
     "iopub.status.idle": "2021-09-12T00:24:41.631028Z",
     "shell.execute_reply": "2021-09-12T00:24:41.629752Z"
    },
    "papermill": {
     "duration": 0.348649,
     "end_time": "2021-09-12T00:24:41.631175",
     "exception": false,
     "start_time": "2021-09-12T00:24:41.282526",
     "status": "completed"
    },
    "tags": []
   },
   "outputs": [],
   "source": [
    "#hide\n",
    "COL_REGION = 'Country/Region'\n",
    "# Confirmed, Recovered, Deaths\n",
    "df = get_frame('confirmed')\n",
    "# dft_: timeseries, dfc_: today country agg\n",
    "dft_cases = df\n",
    "dft_deaths = get_frame('deaths')\n",
    "dft_recovered = get_frame('recovered')\n",
    "LAST_DATE_I, dt_cols = get_dates(df)"
   ]
  },
  {
   "cell_type": "code",
   "execution_count": 10,
   "id": "absolute-copper",
   "metadata": {
    "execution": {
     "iopub.execute_input": "2021-09-12T00:24:41.707792Z",
     "iopub.status.busy": "2021-09-12T00:24:41.706737Z",
     "iopub.status.idle": "2021-09-12T00:24:41.708846Z",
     "shell.execute_reply": "2021-09-12T00:24:41.709327Z"
    },
    "papermill": {
     "duration": 0.04216,
     "end_time": "2021-09-12T00:24:41.709473",
     "exception": false,
     "start_time": "2021-09-12T00:24:41.667313",
     "status": "completed"
    },
    "tags": []
   },
   "outputs": [],
   "source": [
    "#hide\n",
    "LAST_DATE_I, dt_cols = get_dates(df)\n",
    "dt_today =dt_cols[LAST_DATE_I]\n",
    "# dt_5day = dt_cols[LAST_DATE_I - 5]\n",
    "dt_yday = dt_cols[LAST_DATE_I - 1]"
   ]
  },
  {
   "cell_type": "code",
   "execution_count": 11,
   "id": "restricted-sheriff",
   "metadata": {
    "execution": {
     "iopub.execute_input": "2021-09-12T00:24:41.785344Z",
     "iopub.status.busy": "2021-09-12T00:24:41.784625Z",
     "iopub.status.idle": "2021-09-12T00:24:41.791971Z",
     "shell.execute_reply": "2021-09-12T00:24:41.792468Z"
    },
    "papermill": {
     "duration": 0.048752,
     "end_time": "2021-09-12T00:24:41.792609",
     "exception": false,
     "start_time": "2021-09-12T00:24:41.743857",
     "status": "completed"
    },
    "tags": []
   },
   "outputs": [],
   "source": [
    "#hide\n",
    "dfc_cases = dft_cases.groupby(COL_REGION)[dt_today].sum()\n",
    "dfc_deaths = dft_deaths.groupby(COL_REGION)[dt_today].sum()\n",
    "# dfp_cases = dft_cases.groupby(COL_REGION)[dt_5day].sum()\n",
    "# dfp_deaths = dft_deaths.groupby(COL_REGION)[dt_5day].sum()\n",
    "dfp_cases = dft_cases.groupby(COL_REGION)[dt_yday].sum()\n",
    "dfp_deaths = dft_deaths.groupby(COL_REGION)[dt_yday].sum()"
   ]
  },
  {
   "cell_type": "code",
   "execution_count": 12,
   "id": "deluxe-hepatitis",
   "metadata": {
    "execution": {
     "iopub.execute_input": "2021-09-12T00:24:41.872403Z",
     "iopub.status.busy": "2021-09-12T00:24:41.871770Z",
     "iopub.status.idle": "2021-09-12T00:24:41.875964Z",
     "shell.execute_reply": "2021-09-12T00:24:41.876906Z"
    },
    "papermill": {
     "duration": 0.049592,
     "end_time": "2021-09-12T00:24:41.877057",
     "exception": false,
     "start_time": "2021-09-12T00:24:41.827465",
     "status": "completed"
    },
    "tags": []
   },
   "outputs": [],
   "source": [
    "#hide\n",
    "df_table = (pd.DataFrame(dict(Cases = dfc_cases, Deaths = dfc_deaths, PCases = dfp_cases, PDeaths = dfp_deaths))\n",
    "            .sort_values(by = ['Cases','Deaths'], ascending = [False, False])\n",
    "            .reset_index())"
   ]
  },
  {
   "cell_type": "code",
   "execution_count": 13,
   "id": "educational-chancellor",
   "metadata": {
    "execution": {
     "iopub.execute_input": "2021-09-12T00:24:41.946343Z",
     "iopub.status.busy": "2021-09-12T00:24:41.945747Z",
     "iopub.status.idle": "2021-09-12T00:24:41.970498Z",
     "shell.execute_reply": "2021-09-12T00:24:41.969984Z"
    },
    "papermill": {
     "duration": 0.060436,
     "end_time": "2021-09-12T00:24:41.970636",
     "exception": false,
     "start_time": "2021-09-12T00:24:41.910200",
     "status": "completed"
    },
    "tags": []
   },
   "outputs": [
    {
     "data": {
      "text/html": [
       "<div>\n",
       "<style scoped>\n",
       "    .dataframe tbody tr th:only-of-type {\n",
       "        vertical-align: middle;\n",
       "    }\n",
       "\n",
       "    .dataframe tbody tr th {\n",
       "        vertical-align: top;\n",
       "    }\n",
       "\n",
       "    .dataframe thead th {\n",
       "        text-align: right;\n",
       "    }\n",
       "</style>\n",
       "<table border=\"1\" class=\"dataframe\">\n",
       "  <thead>\n",
       "    <tr style=\"text-align: right;\">\n",
       "      <th></th>\n",
       "      <th>Country/Region</th>\n",
       "      <th>Cases</th>\n",
       "      <th>Deaths</th>\n",
       "      <th>PCases</th>\n",
       "      <th>PDeaths</th>\n",
       "      <th>Cases (+)</th>\n",
       "      <th>Deaths (+)</th>\n",
       "      <th>Fatality Rate</th>\n",
       "      <th>Continent</th>\n",
       "    </tr>\n",
       "  </thead>\n",
       "  <tbody>\n",
       "    <tr>\n",
       "      <th>0</th>\n",
       "      <td>US</td>\n",
       "      <td>40863868</td>\n",
       "      <td>658992</td>\n",
       "      <td>40601792</td>\n",
       "      <td>654583</td>\n",
       "      <td>262076</td>\n",
       "      <td>4409</td>\n",
       "      <td>1.61</td>\n",
       "      <td>North America</td>\n",
       "    </tr>\n",
       "    <tr>\n",
       "      <th>1</th>\n",
       "      <td>India</td>\n",
       "      <td>33208330</td>\n",
       "      <td>442317</td>\n",
       "      <td>33174954</td>\n",
       "      <td>442009</td>\n",
       "      <td>33376</td>\n",
       "      <td>308</td>\n",
       "      <td>1.33</td>\n",
       "      <td>Asia</td>\n",
       "    </tr>\n",
       "    <tr>\n",
       "      <th>2</th>\n",
       "      <td>Brazil</td>\n",
       "      <td>20974850</td>\n",
       "      <td>585846</td>\n",
       "      <td>20958899</td>\n",
       "      <td>585174</td>\n",
       "      <td>15951</td>\n",
       "      <td>672</td>\n",
       "      <td>2.79</td>\n",
       "      <td>South America</td>\n",
       "    </tr>\n",
       "    <tr>\n",
       "      <th>3</th>\n",
       "      <td>United Kingdom</td>\n",
       "      <td>7202212</td>\n",
       "      <td>134313</td>\n",
       "      <td>7165200</td>\n",
       "      <td>134166</td>\n",
       "      <td>37012</td>\n",
       "      <td>147</td>\n",
       "      <td>1.86</td>\n",
       "      <td>Europe</td>\n",
       "    </tr>\n",
       "    <tr>\n",
       "      <th>4</th>\n",
       "      <td>Russia</td>\n",
       "      <td>7000636</td>\n",
       "      <td>187768</td>\n",
       "      <td>6982628</td>\n",
       "      <td>186999</td>\n",
       "      <td>18008</td>\n",
       "      <td>769</td>\n",
       "      <td>2.68</td>\n",
       "      <td>Europe</td>\n",
       "    </tr>\n",
       "  </tbody>\n",
       "</table>\n",
       "</div>"
      ],
      "text/plain": [
       "   Country/Region     Cases  Deaths    PCases  PDeaths  Cases (+)  Deaths (+)  \\\n",
       "0              US  40863868  658992  40601792   654583     262076        4409   \n",
       "1           India  33208330  442317  33174954   442009      33376         308   \n",
       "2          Brazil  20974850  585846  20958899   585174      15951         672   \n",
       "3  United Kingdom   7202212  134313   7165200   134166      37012         147   \n",
       "4          Russia   7000636  187768   6982628   186999      18008         769   \n",
       "\n",
       "   Fatality Rate      Continent  \n",
       "0           1.61  North America  \n",
       "1           1.33           Asia  \n",
       "2           2.79  South America  \n",
       "3           1.86         Europe  \n",
       "4           2.68         Europe  "
      ]
     },
     "execution_count": 13,
     "metadata": {},
     "output_type": "execute_result"
    }
   ],
   "source": [
    "#hide\n",
    "for c in 'Cases, Deaths'.split(', '):\n",
    "    df_table[f'{c} (+)'] = (df_table[c] - df_table[f'P{c}']).clip(0)\n",
    "    #Clip ça veut dire, les chiffres negatif sont interdit\n",
    "df_table['Fatality Rate'] = (100* df_table['Deaths']/ df_table['Cases']).round(2)\n",
    "df_table['Continent'] = df_table['Country/Region'].map(mapping['map.continent'])\n",
    "df_table.head(5)"
   ]
  },
  {
   "cell_type": "code",
   "execution_count": 14,
   "id": "aboriginal-bulgaria",
   "metadata": {
    "execution": {
     "iopub.execute_input": "2021-09-12T00:24:42.045853Z",
     "iopub.status.busy": "2021-09-12T00:24:42.045213Z",
     "iopub.status.idle": "2021-09-12T00:24:42.047803Z",
     "shell.execute_reply": "2021-09-12T00:24:42.047328Z"
    },
    "papermill": {
     "duration": 0.043152,
     "end_time": "2021-09-12T00:24:42.047928",
     "exception": false,
     "start_time": "2021-09-12T00:24:42.004776",
     "status": "completed"
    },
    "tags": []
   },
   "outputs": [],
   "source": [
    "#hide\n",
    "#delete problematic countries from table\n",
    "df_table = df_table[~df_table['Country/Region'].isin(['Cape Verde', 'Cruise Ship', 'Kosovo'])]"
   ]
  },
  {
   "cell_type": "code",
   "execution_count": 15,
   "id": "fantastic-effect",
   "metadata": {
    "execution": {
     "iopub.execute_input": "2021-09-12T00:24:42.123428Z",
     "iopub.status.busy": "2021-09-12T00:24:42.122816Z",
     "iopub.status.idle": "2021-09-12T00:24:42.143260Z",
     "shell.execute_reply": "2021-09-12T00:24:42.142746Z"
    },
    "papermill": {
     "duration": 0.061948,
     "end_time": "2021-09-12T00:24:42.143385",
     "exception": false,
     "start_time": "2021-09-12T00:24:42.081437",
     "status": "completed"
    },
    "tags": []
   },
   "outputs": [
    {
     "data": {
      "text/html": [
       "<div>\n",
       "<style scoped>\n",
       "    .dataframe tbody tr th:only-of-type {\n",
       "        vertical-align: middle;\n",
       "    }\n",
       "\n",
       "    .dataframe tbody tr th {\n",
       "        vertical-align: top;\n",
       "    }\n",
       "\n",
       "    .dataframe thead th {\n",
       "        text-align: right;\n",
       "    }\n",
       "</style>\n",
       "<table border=\"1\" class=\"dataframe\">\n",
       "  <thead>\n",
       "    <tr style=\"text-align: right;\">\n",
       "      <th></th>\n",
       "      <th>Country/Region</th>\n",
       "      <th>Cases</th>\n",
       "      <th>Deaths</th>\n",
       "      <th>PCases</th>\n",
       "      <th>PDeaths</th>\n",
       "      <th>Cases (+)</th>\n",
       "      <th>Deaths (+)</th>\n",
       "      <th>Fatality Rate</th>\n",
       "      <th>Continent</th>\n",
       "    </tr>\n",
       "  </thead>\n",
       "  <tbody>\n",
       "    <tr>\n",
       "      <th>0</th>\n",
       "      <td>US</td>\n",
       "      <td>40863868</td>\n",
       "      <td>658992</td>\n",
       "      <td>40601792</td>\n",
       "      <td>654583</td>\n",
       "      <td>262076</td>\n",
       "      <td>4409</td>\n",
       "      <td>1.6</td>\n",
       "      <td>North America</td>\n",
       "    </tr>\n",
       "    <tr>\n",
       "      <th>1</th>\n",
       "      <td>India</td>\n",
       "      <td>33208330</td>\n",
       "      <td>442317</td>\n",
       "      <td>33174954</td>\n",
       "      <td>442009</td>\n",
       "      <td>33376</td>\n",
       "      <td>308</td>\n",
       "      <td>1.3</td>\n",
       "      <td>Asia</td>\n",
       "    </tr>\n",
       "    <tr>\n",
       "      <th>2</th>\n",
       "      <td>Brazil</td>\n",
       "      <td>20974850</td>\n",
       "      <td>585846</td>\n",
       "      <td>20958899</td>\n",
       "      <td>585174</td>\n",
       "      <td>15951</td>\n",
       "      <td>672</td>\n",
       "      <td>2.8</td>\n",
       "      <td>South America</td>\n",
       "    </tr>\n",
       "    <tr>\n",
       "      <th>3</th>\n",
       "      <td>United Kingdom</td>\n",
       "      <td>7202212</td>\n",
       "      <td>134313</td>\n",
       "      <td>7165200</td>\n",
       "      <td>134166</td>\n",
       "      <td>37012</td>\n",
       "      <td>147</td>\n",
       "      <td>1.9</td>\n",
       "      <td>Europe</td>\n",
       "    </tr>\n",
       "    <tr>\n",
       "      <th>4</th>\n",
       "      <td>Russia</td>\n",
       "      <td>7000636</td>\n",
       "      <td>187768</td>\n",
       "      <td>6982628</td>\n",
       "      <td>186999</td>\n",
       "      <td>18008</td>\n",
       "      <td>769</td>\n",
       "      <td>2.7</td>\n",
       "      <td>Europe</td>\n",
       "    </tr>\n",
       "  </tbody>\n",
       "</table>\n",
       "</div>"
      ],
      "text/plain": [
       "   Country/Region     Cases  Deaths    PCases  PDeaths  Cases (+)  Deaths (+)  \\\n",
       "0              US  40863868  658992  40601792   654583     262076        4409   \n",
       "1           India  33208330  442317  33174954   442009      33376         308   \n",
       "2          Brazil  20974850  585846  20958899   585174      15951         672   \n",
       "3  United Kingdom   7202212  134313   7165200   134166      37012         147   \n",
       "4          Russia   7000636  187768   6982628   186999      18008         769   \n",
       "\n",
       "   Fatality Rate      Continent  \n",
       "0            1.6  North America  \n",
       "1            1.3           Asia  \n",
       "2            2.8  South America  \n",
       "3            1.9         Europe  \n",
       "4            2.7         Europe  "
      ]
     },
     "execution_count": 15,
     "metadata": {},
     "output_type": "execute_result"
    }
   ],
   "source": [
    "#hide\n",
    "df_table = (pd.DataFrame(dict(Cases=dfc_cases, Deaths=dfc_deaths, PCases=dfp_cases, PDeaths=dfp_deaths))\n",
    "             .sort_values(by=['Cases', 'Deaths'], ascending=[False, False])\n",
    "             .reset_index())\n",
    "df_table.rename(columns={'index': 'Country/Region'}, inplace=True)\n",
    "for c in 'Cases, Deaths'.split(', '):\n",
    "    df_table[f'{c} (+)'] = (df_table[c] - df_table[f'P{c}']).clip(0)  # DATA BUG\n",
    "df_table['Fatality Rate'] = (100 * df_table['Deaths'] / df_table['Cases']).round(1)\n",
    "df_table['Continent'] = df_table['Country/Region'].map(mapping['map.continent'])\n",
    "df_table.head(5)"
   ]
  },
  {
   "cell_type": "code",
   "execution_count": 16,
   "id": "fewer-occasion",
   "metadata": {
    "execution": {
     "iopub.execute_input": "2021-09-12T00:24:42.218397Z",
     "iopub.status.busy": "2021-09-12T00:24:42.217803Z",
     "iopub.status.idle": "2021-09-12T00:24:42.219618Z",
     "shell.execute_reply": "2021-09-12T00:24:42.220157Z"
    },
    "papermill": {
     "duration": 0.042472,
     "end_time": "2021-09-12T00:24:42.220292",
     "exception": false,
     "start_time": "2021-09-12T00:24:42.177820",
     "status": "completed"
    },
    "tags": []
   },
   "outputs": [],
   "source": [
    "#hide\n",
    "#delete problematic countries from table\n",
    "df_table = df_table[~df_table['Country/Region'].isin(['Cape Verde', 'Cruise Ship', 'Kosovo'])]"
   ]
  },
  {
   "cell_type": "code",
   "execution_count": 17,
   "id": "related-center",
   "metadata": {
    "execution": {
     "iopub.execute_input": "2021-09-12T00:24:42.302964Z",
     "iopub.status.busy": "2021-09-12T00:24:42.296693Z",
     "iopub.status.idle": "2021-09-12T00:24:42.313565Z",
     "shell.execute_reply": "2021-09-12T00:24:42.313067Z"
    },
    "papermill": {
     "duration": 0.059368,
     "end_time": "2021-09-12T00:24:42.313695",
     "exception": false,
     "start_time": "2021-09-12T00:24:42.254327",
     "status": "completed"
    },
    "tags": []
   },
   "outputs": [],
   "source": [
    "#hide\n",
    "metrics = [df_table.columns[index] for index in [1,2,5,6]]\n",
    "# s_china = df_table[df_table['Country/Region'].eq('China')][metrics].sum().add_prefix('China ')\n",
    "s_us = df_table[df_table['Country/Region'].eq('US')][metrics].sum().add_prefix('US ')\n",
    "s_eu = df_table[df_table['Continent'].eq('Europe')][metrics].sum().add_prefix('EU ')\n",
    "s_ind = df_table[df_table['Country/Region'].eq('India')][metrics].sum().add_prefix('India ')\n",
    "summary = {'updated': pd.to_datetime(dt_today), 'since': pd.to_datetime(dt_yday)}\n",
    "summary = {'updated': pd.to_datetime(dt_today), 'since': pd.to_datetime(dt_yday)}\n",
    "summary = {**summary, **df_table[metrics].sum(), **s_ind, **s_us, **s_eu}"
   ]
  },
  {
   "cell_type": "code",
   "execution_count": 18,
   "id": "engaging-syndrome",
   "metadata": {
    "execution": {
     "iopub.execute_input": "2021-09-12T00:24:42.388775Z",
     "iopub.status.busy": "2021-09-12T00:24:42.388181Z",
     "iopub.status.idle": "2021-09-12T00:24:42.401435Z",
     "shell.execute_reply": "2021-09-12T00:24:42.401918Z"
    },
    "papermill": {
     "duration": 0.054202,
     "end_time": "2021-09-12T00:24:42.402061",
     "exception": false,
     "start_time": "2021-09-12T00:24:42.347859",
     "status": "completed"
    },
    "tags": []
   },
   "outputs": [],
   "source": [
    "#hide\n",
    "dft_ct_new_cases = dft_cases.groupby(COL_REGION)[dt_cols].sum().diff(axis=1).fillna(0).astype(int)"
   ]
  },
  {
   "cell_type": "code",
   "execution_count": 19,
   "id": "neutral-assignment",
   "metadata": {
    "execution": {
     "iopub.execute_input": "2021-09-12T00:24:42.479338Z",
     "iopub.status.busy": "2021-09-12T00:24:42.478748Z",
     "iopub.status.idle": "2021-09-12T00:24:42.481037Z",
     "shell.execute_reply": "2021-09-12T00:24:42.481571Z"
    },
    "papermill": {
     "duration": 0.044998,
     "end_time": "2021-09-12T00:24:42.481717",
     "exception": false,
     "start_time": "2021-09-12T00:24:42.436719",
     "status": "completed"
    },
    "tags": []
   },
   "outputs": [],
   "source": [
    "#hide\n",
    "everydaycases = dft_ct_new_cases.cumsum(axis=1)"
   ]
  },
  {
   "cell_type": "code",
   "execution_count": 20,
   "id": "parliamentary-calgary",
   "metadata": {
    "execution": {
     "iopub.execute_input": "2021-09-12T00:24:42.554781Z",
     "iopub.status.busy": "2021-09-12T00:24:42.554187Z",
     "iopub.status.idle": "2021-09-12T00:24:43.257728Z",
     "shell.execute_reply": "2021-09-12T00:24:43.256946Z"
    },
    "papermill": {
     "duration": 0.741971,
     "end_time": "2021-09-12T00:24:43.257873",
     "exception": false,
     "start_time": "2021-09-12T00:24:42.515902",
     "status": "completed"
    },
    "tags": []
   },
   "outputs": [],
   "source": [
    "#hide\n",
    "import pandas as pd\n",
    "import matplotlib.pyplot as plt\n",
    "import matplotlib.ticker as ticker\n",
    "import matplotlib.animation as animation\n",
    "from IPython.display import HTML"
   ]
  },
  {
   "cell_type": "code",
   "execution_count": 21,
   "id": "lasting-extraction",
   "metadata": {
    "execution": {
     "iopub.execute_input": "2021-09-12T00:24:43.332970Z",
     "iopub.status.busy": "2021-09-12T00:24:43.332371Z",
     "iopub.status.idle": "2021-09-12T00:24:43.338528Z",
     "shell.execute_reply": "2021-09-12T00:24:43.338055Z"
    },
    "papermill": {
     "duration": 0.04656,
     "end_time": "2021-09-12T00:24:43.338658",
     "exception": false,
     "start_time": "2021-09-12T00:24:43.292098",
     "status": "completed"
    },
    "tags": []
   },
   "outputs": [],
   "source": [
    "#hide\n",
    "t = everydaycases.stack()"
   ]
  },
  {
   "cell_type": "code",
   "execution_count": 22,
   "id": "premier-sleeve",
   "metadata": {
    "execution": {
     "iopub.execute_input": "2021-09-12T00:24:43.412614Z",
     "iopub.status.busy": "2021-09-12T00:24:43.412007Z",
     "iopub.status.idle": "2021-09-12T00:24:43.420708Z",
     "shell.execute_reply": "2021-09-12T00:24:43.421208Z"
    },
    "papermill": {
     "duration": 0.048369,
     "end_time": "2021-09-12T00:24:43.421374",
     "exception": false,
     "start_time": "2021-09-12T00:24:43.373005",
     "status": "completed"
    },
    "tags": []
   },
   "outputs": [],
   "source": [
    "#hide\n",
    "g = t.reset_index(['Country/Region'])"
   ]
  },
  {
   "cell_type": "code",
   "execution_count": 23,
   "id": "distributed-pittsburgh",
   "metadata": {
    "execution": {
     "iopub.execute_input": "2021-09-12T00:24:43.495365Z",
     "iopub.status.busy": "2021-09-12T00:24:43.494607Z",
     "iopub.status.idle": "2021-09-12T00:24:43.497734Z",
     "shell.execute_reply": "2021-09-12T00:24:43.497199Z"
    },
    "papermill": {
     "duration": 0.042179,
     "end_time": "2021-09-12T00:24:43.497859",
     "exception": false,
     "start_time": "2021-09-12T00:24:43.455680",
     "status": "completed"
    },
    "tags": []
   },
   "outputs": [],
   "source": [
    "#hide\n",
    "g.index.name = 'date'"
   ]
  },
  {
   "cell_type": "code",
   "execution_count": 24,
   "id": "naked-donor",
   "metadata": {
    "execution": {
     "iopub.execute_input": "2021-09-12T00:24:43.570814Z",
     "iopub.status.busy": "2021-09-12T00:24:43.570221Z",
     "iopub.status.idle": "2021-09-12T00:24:43.574865Z",
     "shell.execute_reply": "2021-09-12T00:24:43.574396Z"
    },
    "papermill": {
     "duration": 0.043083,
     "end_time": "2021-09-12T00:24:43.574989",
     "exception": false,
     "start_time": "2021-09-12T00:24:43.531906",
     "status": "completed"
    },
    "tags": []
   },
   "outputs": [],
   "source": [
    "# #hide\n",
    "# g = g.reset_index(['date'])"
   ]
  },
  {
   "cell_type": "code",
   "execution_count": 25,
   "id": "incomplete-mustang",
   "metadata": {
    "execution": {
     "iopub.execute_input": "2021-09-12T00:24:43.647443Z",
     "iopub.status.busy": "2021-09-12T00:24:43.646853Z",
     "iopub.status.idle": "2021-09-12T00:24:43.648592Z",
     "shell.execute_reply": "2021-09-12T00:24:43.649138Z"
    },
    "papermill": {
     "duration": 0.040243,
     "end_time": "2021-09-12T00:24:43.649277",
     "exception": false,
     "start_time": "2021-09-12T00:24:43.609034",
     "status": "completed"
    },
    "tags": []
   },
   "outputs": [],
   "source": [
    "#hide\n",
    "# g.head()"
   ]
  },
  {
   "cell_type": "code",
   "execution_count": 26,
   "id": "specific-kruger",
   "metadata": {
    "execution": {
     "iopub.execute_input": "2021-09-12T00:24:43.721667Z",
     "iopub.status.busy": "2021-09-12T00:24:43.721040Z",
     "iopub.status.idle": "2021-09-12T00:24:43.723228Z",
     "shell.execute_reply": "2021-09-12T00:24:43.722657Z"
    },
    "papermill": {
     "duration": 0.039903,
     "end_time": "2021-09-12T00:24:43.723350",
     "exception": false,
     "start_time": "2021-09-12T00:24:43.683447",
     "status": "completed"
    },
    "tags": []
   },
   "outputs": [],
   "source": [
    "#hide\n",
    "# g.columns = ['date','country','cases']"
   ]
  },
  {
   "cell_type": "code",
   "execution_count": 27,
   "id": "tender-conversion",
   "metadata": {
    "execution": {
     "iopub.execute_input": "2021-09-12T00:24:43.796456Z",
     "iopub.status.busy": "2021-09-12T00:24:43.795866Z",
     "iopub.status.idle": "2021-09-12T00:24:43.798398Z",
     "shell.execute_reply": "2021-09-12T00:24:43.797931Z"
    },
    "papermill": {
     "duration": 0.041073,
     "end_time": "2021-09-12T00:24:43.798520",
     "exception": false,
     "start_time": "2021-09-12T00:24:43.757447",
     "status": "completed"
    },
    "tags": []
   },
   "outputs": [],
   "source": [
    "#hide\n",
    "# g['continent'] = g.country"
   ]
  },
  {
   "cell_type": "code",
   "execution_count": 28,
   "id": "substantial-wilderness",
   "metadata": {
    "execution": {
     "iopub.execute_input": "2021-09-12T00:24:43.870664Z",
     "iopub.status.busy": "2021-09-12T00:24:43.870080Z",
     "iopub.status.idle": "2021-09-12T00:24:43.872038Z",
     "shell.execute_reply": "2021-09-12T00:24:43.872504Z"
    },
    "papermill": {
     "duration": 0.03995,
     "end_time": "2021-09-12T00:24:43.872640",
     "exception": false,
     "start_time": "2021-09-12T00:24:43.832690",
     "status": "completed"
    },
    "tags": []
   },
   "outputs": [],
   "source": [
    "#hide\n",
    "# cols = list(g.columns.values)"
   ]
  },
  {
   "cell_type": "code",
   "execution_count": 29,
   "id": "solved-farming",
   "metadata": {
    "execution": {
     "iopub.execute_input": "2021-09-12T00:24:43.944208Z",
     "iopub.status.busy": "2021-09-12T00:24:43.943623Z",
     "iopub.status.idle": "2021-09-12T00:24:43.945655Z",
     "shell.execute_reply": "2021-09-12T00:24:43.946155Z"
    },
    "papermill": {
     "duration": 0.039822,
     "end_time": "2021-09-12T00:24:43.946294",
     "exception": false,
     "start_time": "2021-09-12T00:24:43.906472",
     "status": "completed"
    },
    "tags": []
   },
   "outputs": [],
   "source": [
    "#hide\n",
    "# cols.insert(0, cols.pop())"
   ]
  },
  {
   "cell_type": "code",
   "execution_count": 30,
   "id": "executed-adoption",
   "metadata": {
    "execution": {
     "iopub.execute_input": "2021-09-12T00:24:44.018251Z",
     "iopub.status.busy": "2021-09-12T00:24:44.017650Z",
     "iopub.status.idle": "2021-09-12T00:24:44.020086Z",
     "shell.execute_reply": "2021-09-12T00:24:44.019618Z"
    },
    "papermill": {
     "duration": 0.039845,
     "end_time": "2021-09-12T00:24:44.020209",
     "exception": false,
     "start_time": "2021-09-12T00:24:43.980364",
     "status": "completed"
    },
    "tags": []
   },
   "outputs": [],
   "source": [
    "#hide\n",
    "# g = g[cols]"
   ]
  },
  {
   "cell_type": "code",
   "execution_count": 31,
   "id": "subject-dublin",
   "metadata": {
    "execution": {
     "iopub.execute_input": "2021-09-12T00:24:44.092410Z",
     "iopub.status.busy": "2021-09-12T00:24:44.091824Z",
     "iopub.status.idle": "2021-09-12T00:24:44.093631Z",
     "shell.execute_reply": "2021-09-12T00:24:44.094132Z"
    },
    "papermill": {
     "duration": 0.039919,
     "end_time": "2021-09-12T00:24:44.094268",
     "exception": false,
     "start_time": "2021-09-12T00:24:44.054349",
     "status": "completed"
    },
    "tags": []
   },
   "outputs": [],
   "source": [
    "#hide\n",
    "# g['continent'] = g['continent'].map(mapping['map.continent'])"
   ]
  },
  {
   "cell_type": "code",
   "execution_count": 32,
   "id": "freelance-scout",
   "metadata": {
    "execution": {
     "iopub.execute_input": "2021-09-12T00:24:44.167040Z",
     "iopub.status.busy": "2021-09-12T00:24:44.166446Z",
     "iopub.status.idle": "2021-09-12T00:24:44.168657Z",
     "shell.execute_reply": "2021-09-12T00:24:44.169098Z"
    },
    "papermill": {
     "duration": 0.040778,
     "end_time": "2021-09-12T00:24:44.169244",
     "exception": false,
     "start_time": "2021-09-12T00:24:44.128466",
     "status": "completed"
    },
    "tags": []
   },
   "outputs": [],
   "source": [
    "#hide\n",
    "# g.head()"
   ]
  },
  {
   "cell_type": "code",
   "execution_count": 33,
   "id": "limited-engine",
   "metadata": {
    "execution": {
     "iopub.execute_input": "2021-09-12T00:24:44.241437Z",
     "iopub.status.busy": "2021-09-12T00:24:44.240823Z",
     "iopub.status.idle": "2021-09-12T00:24:44.243056Z",
     "shell.execute_reply": "2021-09-12T00:24:44.242565Z"
    },
    "papermill": {
     "duration": 0.039988,
     "end_time": "2021-09-12T00:24:44.243175",
     "exception": false,
     "start_time": "2021-09-12T00:24:44.203187",
     "status": "completed"
    },
    "tags": []
   },
   "outputs": [],
   "source": [
    "# hide\n",
    "# g['date'] = g['date'].astype('datetime64[ns]')"
   ]
  },
  {
   "cell_type": "code",
   "execution_count": 34,
   "id": "sophisticated-supervisor",
   "metadata": {
    "execution": {
     "iopub.execute_input": "2021-09-12T00:24:44.315323Z",
     "iopub.status.busy": "2021-09-12T00:24:44.314737Z",
     "iopub.status.idle": "2021-09-12T00:24:44.317145Z",
     "shell.execute_reply": "2021-09-12T00:24:44.316653Z"
    },
    "papermill": {
     "duration": 0.039938,
     "end_time": "2021-09-12T00:24:44.317265",
     "exception": false,
     "start_time": "2021-09-12T00:24:44.277327",
     "status": "completed"
    },
    "tags": []
   },
   "outputs": [],
   "source": [
    "#hide\n",
    "# g['date'] = g.date.dt.dayofyear"
   ]
  },
  {
   "cell_type": "code",
   "execution_count": 35,
   "id": "inside-dubai",
   "metadata": {
    "execution": {
     "iopub.execute_input": "2021-09-12T00:24:44.389267Z",
     "iopub.status.busy": "2021-09-12T00:24:44.388670Z",
     "iopub.status.idle": "2021-09-12T00:24:44.390888Z",
     "shell.execute_reply": "2021-09-12T00:24:44.391329Z"
    },
    "papermill": {
     "duration": 0.040282,
     "end_time": "2021-09-12T00:24:44.391473",
     "exception": false,
     "start_time": "2021-09-12T00:24:44.351191",
     "status": "completed"
    },
    "tags": []
   },
   "outputs": [],
   "source": [
    "#hide\n",
    "# g = g.rename(columns= {'continent':'group','country':'name','cases':'value'})"
   ]
  },
  {
   "cell_type": "code",
   "execution_count": 36,
   "id": "fleet-motorcycle",
   "metadata": {
    "execution": {
     "iopub.execute_input": "2021-09-12T00:24:44.464529Z",
     "iopub.status.busy": "2021-09-12T00:24:44.463944Z",
     "iopub.status.idle": "2021-09-12T00:24:44.465947Z",
     "shell.execute_reply": "2021-09-12T00:24:44.466439Z"
    },
    "papermill": {
     "duration": 0.040902,
     "end_time": "2021-09-12T00:24:44.466575",
     "exception": false,
     "start_time": "2021-09-12T00:24:44.425673",
     "status": "completed"
    },
    "tags": []
   },
   "outputs": [],
   "source": [
    "#hide\n",
    "# cols = ['name','group','day','value']"
   ]
  },
  {
   "cell_type": "code",
   "execution_count": 37,
   "id": "continued-sleeping",
   "metadata": {
    "execution": {
     "iopub.execute_input": "2021-09-12T00:24:44.538486Z",
     "iopub.status.busy": "2021-09-12T00:24:44.537891Z",
     "iopub.status.idle": "2021-09-12T00:24:44.539912Z",
     "shell.execute_reply": "2021-09-12T00:24:44.540408Z"
    },
    "papermill": {
     "duration": 0.040002,
     "end_time": "2021-09-12T00:24:44.540546",
     "exception": false,
     "start_time": "2021-09-12T00:24:44.500544",
     "status": "completed"
    },
    "tags": []
   },
   "outputs": [],
   "source": [
    "#hide\n",
    "# g.rename(columns= {'date':'day'},inplace = True)"
   ]
  },
  {
   "cell_type": "code",
   "execution_count": 38,
   "id": "major-fight",
   "metadata": {
    "execution": {
     "iopub.execute_input": "2021-09-12T00:24:44.612774Z",
     "iopub.status.busy": "2021-09-12T00:24:44.612192Z",
     "iopub.status.idle": "2021-09-12T00:24:44.614625Z",
     "shell.execute_reply": "2021-09-12T00:24:44.615123Z"
    },
    "papermill": {
     "duration": 0.040473,
     "end_time": "2021-09-12T00:24:44.615260",
     "exception": false,
     "start_time": "2021-09-12T00:24:44.574787",
     "status": "completed"
    },
    "tags": []
   },
   "outputs": [],
   "source": [
    "#hide\n",
    "# g = g[cols]"
   ]
  },
  {
   "cell_type": "code",
   "execution_count": 39,
   "id": "structured-mobile",
   "metadata": {
    "execution": {
     "iopub.execute_input": "2021-09-12T00:24:44.687972Z",
     "iopub.status.busy": "2021-09-12T00:24:44.687387Z",
     "iopub.status.idle": "2021-09-12T00:24:44.689607Z",
     "shell.execute_reply": "2021-09-12T00:24:44.690085Z"
    },
    "papermill": {
     "duration": 0.041068,
     "end_time": "2021-09-12T00:24:44.690224",
     "exception": false,
     "start_time": "2021-09-12T00:24:44.649156",
     "status": "completed"
    },
    "tags": []
   },
   "outputs": [],
   "source": [
    "# #hide\n",
    "# g = g[g.group.notna()]"
   ]
  },
  {
   "cell_type": "code",
   "execution_count": 40,
   "id": "determined-closing",
   "metadata": {
    "execution": {
     "iopub.execute_input": "2021-09-12T00:24:44.766464Z",
     "iopub.status.busy": "2021-09-12T00:24:44.765864Z",
     "iopub.status.idle": "2021-09-12T00:24:44.767723Z",
     "shell.execute_reply": "2021-09-12T00:24:44.768193Z"
    },
    "papermill": {
     "duration": 0.039894,
     "end_time": "2021-09-12T00:24:44.768333",
     "exception": false,
     "start_time": "2021-09-12T00:24:44.728439",
     "status": "completed"
    },
    "tags": []
   },
   "outputs": [],
   "source": [
    "# #hide\n",
    "# colors = dict(zip(\n",
    "#     [\"Oceania\", \"Europe\", \"Asia\", \"South America\", \"Middle East\", \"North America\", \"Africa\"],\n",
    "#     [\"#adb0ff\", \"#ffb3ff\", \"#90d595\", \"#e48381\", \"#aafbff\", \"#f7bb5f\", \"#eafb50\"]\n",
    "# ))\n",
    "# group_lk = g.set_index('name')['group'].to_dict()"
   ]
  },
  {
   "cell_type": "code",
   "execution_count": null,
   "id": "gross-drinking",
   "metadata": {
    "papermill": {
     "duration": 0.033997,
     "end_time": "2021-09-12T00:24:44.836202",
     "exception": false,
     "start_time": "2021-09-12T00:24:44.802205",
     "status": "completed"
    },
    "tags": []
   },
   "outputs": [],
   "source": []
  },
  {
   "cell_type": "code",
   "execution_count": 41,
   "id": "subject-macintosh",
   "metadata": {
    "execution": {
     "iopub.execute_input": "2021-09-12T00:24:44.909537Z",
     "iopub.status.busy": "2021-09-12T00:24:44.908899Z",
     "iopub.status.idle": "2021-09-12T00:24:44.910663Z",
     "shell.execute_reply": "2021-09-12T00:24:44.911162Z"
    },
    "papermill": {
     "duration": 0.040695,
     "end_time": "2021-09-12T00:24:44.911302",
     "exception": false,
     "start_time": "2021-09-12T00:24:44.870607",
     "status": "completed"
    },
    "tags": []
   },
   "outputs": [],
   "source": [
    "# #hide\n",
    "# fig, ax = plt.subplots(figsize=(15, 8))\n",
    "\n",
    "# def draw_barchart(current_day):\n",
    "#     dff = g[g['day'].eq(current_day)].sort_values(by='value', ascending=True).tail(10)\n",
    "#     ax.clear()\n",
    "#     ax.barh(dff['name'], dff['value'], color=[colors[group_lk[x]] for x in dff['name']])\n",
    "#     dx = dff['value'].max() / 200\n",
    "    \n",
    "#     for i, (value, name) in enumerate(zip(dff['value'], dff['name'])):\n",
    "#         ax.text(value-dx, i,     name,           size=14, weight=600, ha='right', va='bottom')\n",
    "#         ax.text(value-dx, i-.25, group_lk[name], size=10, color='#444444', ha='right', va='baseline')\n",
    "#         ax.text(value+dx, i,     f'{value:,.0f}',  size=14, ha='left',  va='center')\n",
    "#     ax.text(1, 0.4, current_day, transform=ax.transAxes, color='#777777', size=46, ha='right', weight=800)\n",
    "#     ax.text(0, 1.06, 'Population (thousands)', transform=ax.transAxes, size=12, color='#777777')\n",
    "#     ax.xaxis.set_major_formatter(ticker.StrMethodFormatter('{x:,.0f}'))\n",
    "#     ax.xaxis.set_ticks_position('top')\n",
    "#     ax.tick_params(axis='x', colors='#777777', labelsize=12)\n",
    "#     ax.set_yticks([])\n",
    "#     ax.margins(0, 0.01)\n",
    "#     ax.grid(which='major', axis='x', linestyle='-')\n",
    "#     ax.set_axisbelow(True)\n",
    "    \n",
    "#     ax.text(0, 1.15, 'Coronavirus',\n",
    "#             transform=ax.transAxes, size=24, weight=600, ha='left', va='top')\n",
    "# #     ax.text(1, 0, 'by @pratapvardhan; credit @jburnmurdoch', transform=ax.transAxes, color='#777777', ha='right',\n",
    "# #             bbox=dict(facecolor='white', alpha=0.8, edgecolor='white'))\n",
    "#     plt.box(False)"
   ]
  },
  {
   "cell_type": "code",
   "execution_count": 42,
   "id": "sexual-wages",
   "metadata": {
    "execution": {
     "iopub.execute_input": "2021-09-12T00:24:44.984133Z",
     "iopub.status.busy": "2021-09-12T00:24:44.983535Z",
     "iopub.status.idle": "2021-09-12T00:24:44.985333Z",
     "shell.execute_reply": "2021-09-12T00:24:44.985788Z"
    },
    "papermill": {
     "duration": 0.04059,
     "end_time": "2021-09-12T00:24:44.985933",
     "exception": false,
     "start_time": "2021-09-12T00:24:44.945343",
     "status": "completed"
    },
    "tags": []
   },
   "outputs": [],
   "source": [
    "# #hide_input\n",
    "# fig, ax = plt.subplots(figsize=(15, 8))\n",
    "# animator = animation.FuncAnimation(fig, draw_barchart, frames=range(g.day.values.min(), g.day.values.max()))\n",
    "# HTML(animator.to_jshtml())\n",
    "# # or use animator.to_html5_video() or animator.save() "
   ]
  },
  {
   "cell_type": "code",
   "execution_count": null,
   "id": "australian-container",
   "metadata": {
    "papermill": {
     "duration": 0.034104,
     "end_time": "2021-09-12T00:24:45.054320",
     "exception": false,
     "start_time": "2021-09-12T00:24:45.020216",
     "status": "completed"
    },
    "tags": []
   },
   "outputs": [],
   "source": []
  },
  {
   "cell_type": "code",
   "execution_count": null,
   "id": "mediterranean-pontiac",
   "metadata": {
    "papermill": {
     "duration": 0.0341,
     "end_time": "2021-09-12T00:24:45.122423",
     "exception": false,
     "start_time": "2021-09-12T00:24:45.088323",
     "status": "completed"
    },
    "tags": []
   },
   "outputs": [],
   "source": []
  },
  {
   "cell_type": "code",
   "execution_count": null,
   "id": "aging-legislature",
   "metadata": {
    "papermill": {
     "duration": 0.034022,
     "end_time": "2021-09-12T00:24:45.190808",
     "exception": false,
     "start_time": "2021-09-12T00:24:45.156786",
     "status": "completed"
    },
    "tags": []
   },
   "outputs": [],
   "source": []
  }
 ],
 "metadata": {
  "kernelspec": {
   "display_name": "Python 3",
   "language": "python",
   "name": "python3"
  },
  "language_info": {
   "codemirror_mode": {
    "name": "ipython",
    "version": 3
   },
   "file_extension": ".py",
   "mimetype": "text/x-python",
   "name": "python",
   "nbconvert_exporter": "python",
   "pygments_lexer": "ipython3",
   "version": "3.6.14"
  },
  "papermill": {
   "duration": 6.437,
   "end_time": "2021-09-12T00:24:45.533345",
   "environment_variables": {},
   "exception": null,
   "input_path": "2020-03-21-covid19exp.ipynb",
   "output_path": "2020-03-21-covid19exp.ipynb",
   "parameters": {},
   "start_time": "2021-09-12T00:24:39.096345",
   "version": "2.0.0"
  }
 },
 "nbformat": 4,
 "nbformat_minor": 5
}