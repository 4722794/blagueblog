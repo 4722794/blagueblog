{
 "cells": [
  {
   "cell_type": "markdown",
   "id": "muslim-click",
   "metadata": {
    "papermill": {
     "duration": 0.045465,
     "end_time": "2021-01-23T00:42:02.164884",
     "exception": false,
     "start_time": "2021-01-23T00:42:02.119419",
     "status": "completed"
    },
    "tags": []
   },
   "source": [
    "# COVID-19 Case Race\n",
    "> A race chart to see rising cases around the world\n",
    "\n",
    "- author: Hargun Oberoi\n",
    "- image: images/covid-overview.png\n",
    "- hide: false\n",
    "- badges: false"
   ]
  },
  {
   "cell_type": "code",
   "execution_count": 1,
   "id": "proof-material",
   "metadata": {
    "execution": {
     "iopub.execute_input": "2021-01-23T00:42:02.258021Z",
     "iopub.status.busy": "2021-01-23T00:42:02.257362Z",
     "iopub.status.idle": "2021-01-23T00:42:02.615308Z",
     "shell.execute_reply": "2021-01-23T00:42:02.614761Z"
    },
    "papermill": {
     "duration": 0.411148,
     "end_time": "2021-01-23T00:42:02.615468",
     "exception": false,
     "start_time": "2021-01-23T00:42:02.204320",
     "status": "completed"
    },
    "tags": []
   },
   "outputs": [],
   "source": [
    "#hide\n",
    "import numpy as np\n",
    "import pandas as pd\n",
    "from jinja2 import Template\n",
    "from IPython.display import HTML"
   ]
  },
  {
   "cell_type": "code",
   "execution_count": 2,
   "id": "developed-terminology",
   "metadata": {
    "execution": {
     "iopub.execute_input": "2021-01-23T00:42:02.701603Z",
     "iopub.status.busy": "2021-01-23T00:42:02.700837Z",
     "iopub.status.idle": "2021-01-23T00:42:02.703513Z",
     "shell.execute_reply": "2021-01-23T00:42:02.702898Z"
    },
    "papermill": {
     "duration": 0.049489,
     "end_time": "2021-01-23T00:42:02.703648",
     "exception": false,
     "start_time": "2021-01-23T00:42:02.654159",
     "status": "completed"
    },
    "tags": []
   },
   "outputs": [],
   "source": [
    "#hide\n",
    "\n",
    "# FETCH\n",
    "base_url = 'https://raw.githubusercontent.com/pratapvardhan/notebooks/master/covid19/'\n",
    "paths = {\n",
    "    'mapping': base_url + 'mapping_countries.csv',\n",
    "    'overview': base_url + 'overview.tpl'\n",
    "}"
   ]
  },
  {
   "cell_type": "code",
   "execution_count": 3,
   "id": "dynamic-saver",
   "metadata": {
    "execution": {
     "iopub.execute_input": "2021-01-23T00:42:02.791210Z",
     "iopub.status.busy": "2021-01-23T00:42:02.790396Z",
     "iopub.status.idle": "2021-01-23T00:42:02.794701Z",
     "shell.execute_reply": "2021-01-23T00:42:02.794175Z"
    },
    "papermill": {
     "duration": 0.050474,
     "end_time": "2021-01-23T00:42:02.794828",
     "exception": false,
     "start_time": "2021-01-23T00:42:02.744354",
     "status": "completed"
    },
    "tags": []
   },
   "outputs": [
    {
     "data": {
      "text/plain": [
       "'https://raw.githubusercontent.com/pratapvardhan/notebooks/master/covid19/mapping_countries.csv'"
      ]
     },
     "execution_count": 3,
     "metadata": {},
     "output_type": "execute_result"
    }
   ],
   "source": [
    "#hide\n",
    "paths['mapping']"
   ]
  },
  {
   "cell_type": "code",
   "execution_count": 4,
   "id": "urban-software",
   "metadata": {
    "execution": {
     "iopub.execute_input": "2021-01-23T00:42:02.878249Z",
     "iopub.status.busy": "2021-01-23T00:42:02.877523Z",
     "iopub.status.idle": "2021-01-23T00:42:02.879540Z",
     "shell.execute_reply": "2021-01-23T00:42:02.880128Z"
    },
    "papermill": {
     "duration": 0.047228,
     "end_time": "2021-01-23T00:42:02.880268",
     "exception": false,
     "start_time": "2021-01-23T00:42:02.833040",
     "status": "completed"
    },
    "tags": []
   },
   "outputs": [],
   "source": [
    "#hide\n",
    "def get_mappings(url):\n",
    "    df = pd.read_csv(url)\n",
    "    return {\n",
    "        'df': df,\n",
    "        'replace.country': dict(df.dropna(subset=['Name']).set_index('Country')['Name']),\n",
    "        'map.continent': dict(df.set_index('Name')['Continent'])\n",
    "    }"
   ]
  },
  {
   "cell_type": "code",
   "execution_count": 5,
   "id": "intimate-machinery",
   "metadata": {
    "execution": {
     "iopub.execute_input": "2021-01-23T00:42:02.953395Z",
     "iopub.status.busy": "2021-01-23T00:42:02.952608Z",
     "iopub.status.idle": "2021-01-23T00:42:02.992824Z",
     "shell.execute_reply": "2021-01-23T00:42:02.991698Z"
    },
    "papermill": {
     "duration": 0.078707,
     "end_time": "2021-01-23T00:42:02.992976",
     "exception": false,
     "start_time": "2021-01-23T00:42:02.914269",
     "status": "completed"
    },
    "tags": []
   },
   "outputs": [],
   "source": [
    "#hide\n",
    "mapping = get_mappings(paths['mapping'])"
   ]
  },
  {
   "cell_type": "code",
   "execution_count": 6,
   "id": "certified-tactics",
   "metadata": {
    "execution": {
     "iopub.execute_input": "2021-01-23T00:42:03.075195Z",
     "iopub.status.busy": "2021-01-23T00:42:03.074582Z",
     "iopub.status.idle": "2021-01-23T00:42:03.075817Z",
     "shell.execute_reply": "2021-01-23T00:42:03.076707Z"
    },
    "papermill": {
     "duration": 0.046814,
     "end_time": "2021-01-23T00:42:03.076909",
     "exception": false,
     "start_time": "2021-01-23T00:42:03.030095",
     "status": "completed"
    },
    "tags": []
   },
   "outputs": [],
   "source": [
    "#hide\n",
    "def get_template(path):\n",
    "    from urllib.parse import urlparse\n",
    "    if bool(urlparse(path).netloc):\n",
    "        from urllib.request import urlopen\n",
    "        return urlopen(path).read().decode('utf8')\n",
    "    return open(path).read()"
   ]
  },
  {
   "cell_type": "code",
   "execution_count": 7,
   "id": "realistic-blast",
   "metadata": {
    "execution": {
     "iopub.execute_input": "2021-01-23T00:42:03.162875Z",
     "iopub.status.busy": "2021-01-23T00:42:03.162216Z",
     "iopub.status.idle": "2021-01-23T00:42:03.165082Z",
     "shell.execute_reply": "2021-01-23T00:42:03.164257Z"
    },
    "papermill": {
     "duration": 0.049653,
     "end_time": "2021-01-23T00:42:03.165227",
     "exception": false,
     "start_time": "2021-01-23T00:42:03.115574",
     "status": "completed"
    },
    "tags": []
   },
   "outputs": [],
   "source": [
    "#hide\n",
    "def get_frame(name):\n",
    "    url = (\n",
    "        'https://raw.githubusercontent.com/CSSEGISandData/COVID-19/master/csse_covid_19_data/'\n",
    "        f'csse_covid_19_time_series/time_series_covid19_{name}_global.csv')\n",
    "    df = pd.read_csv(url)\n",
    "    # rename countries\n",
    "    df['Country/Region'] = df['Country/Region'].replace(mapping['replace.country'])\n",
    "    return df"
   ]
  },
  {
   "cell_type": "code",
   "execution_count": 8,
   "id": "affiliated-characterization",
   "metadata": {
    "execution": {
     "iopub.execute_input": "2021-01-23T00:42:03.252745Z",
     "iopub.status.busy": "2021-01-23T00:42:03.252085Z",
     "iopub.status.idle": "2021-01-23T00:42:03.254232Z",
     "shell.execute_reply": "2021-01-23T00:42:03.254721Z"
    },
    "papermill": {
     "duration": 0.047023,
     "end_time": "2021-01-23T00:42:03.254855",
     "exception": false,
     "start_time": "2021-01-23T00:42:03.207832",
     "status": "completed"
    },
    "tags": []
   },
   "outputs": [],
   "source": [
    "#hide\n",
    "def get_dates(df):\n",
    "    dt_cols = df.columns[~df.columns.isin(['Province/State', 'Country/Region', 'Lat', 'Long'])]\n",
    "    LAST_DATE_I = -1\n",
    "    # sometimes last column may be empty, then go backwards\n",
    "    for i in range(-1, -len(dt_cols), -1):\n",
    "        if not df[dt_cols[i]].fillna(0).eq(0).all():\n",
    "            LAST_DATE_I = i\n",
    "            break\n",
    "    return LAST_DATE_I, dt_cols"
   ]
  },
  {
   "cell_type": "code",
   "execution_count": 9,
   "id": "recent-optimization",
   "metadata": {
    "execution": {
     "iopub.execute_input": "2021-01-23T00:42:03.329206Z",
     "iopub.status.busy": "2021-01-23T00:42:03.328602Z",
     "iopub.status.idle": "2021-01-23T00:42:03.634867Z",
     "shell.execute_reply": "2021-01-23T00:42:03.635409Z"
    },
    "papermill": {
     "duration": 0.346741,
     "end_time": "2021-01-23T00:42:03.635584",
     "exception": false,
     "start_time": "2021-01-23T00:42:03.288843",
     "status": "completed"
    },
    "tags": []
   },
   "outputs": [],
   "source": [
    "#hide\n",
    "COL_REGION = 'Country/Region'\n",
    "# Confirmed, Recovered, Deaths\n",
    "df = get_frame('confirmed')\n",
    "# dft_: timeseries, dfc_: today country agg\n",
    "dft_cases = df\n",
    "dft_deaths = get_frame('deaths')\n",
    "dft_recovered = get_frame('recovered')\n",
    "LAST_DATE_I, dt_cols = get_dates(df)"
   ]
  },
  {
   "cell_type": "code",
   "execution_count": 10,
   "id": "absolute-copper",
   "metadata": {
    "execution": {
     "iopub.execute_input": "2021-01-23T00:42:03.707362Z",
     "iopub.status.busy": "2021-01-23T00:42:03.706793Z",
     "iopub.status.idle": "2021-01-23T00:42:03.709257Z",
     "shell.execute_reply": "2021-01-23T00:42:03.708706Z"
    },
    "papermill": {
     "duration": 0.039197,
     "end_time": "2021-01-23T00:42:03.709387",
     "exception": false,
     "start_time": "2021-01-23T00:42:03.670190",
     "status": "completed"
    },
    "tags": []
   },
   "outputs": [],
   "source": [
    "#hide\n",
    "LAST_DATE_I, dt_cols = get_dates(df)\n",
    "dt_today =dt_cols[LAST_DATE_I]\n",
    "# dt_5day = dt_cols[LAST_DATE_I - 5]\n",
    "dt_yday = dt_cols[LAST_DATE_I - 1]"
   ]
  },
  {
   "cell_type": "code",
   "execution_count": 11,
   "id": "restricted-sheriff",
   "metadata": {
    "execution": {
     "iopub.execute_input": "2021-01-23T00:42:03.786500Z",
     "iopub.status.busy": "2021-01-23T00:42:03.785727Z",
     "iopub.status.idle": "2021-01-23T00:42:03.799164Z",
     "shell.execute_reply": "2021-01-23T00:42:03.799642Z"
    },
    "papermill": {
     "duration": 0.057268,
     "end_time": "2021-01-23T00:42:03.799827",
     "exception": false,
     "start_time": "2021-01-23T00:42:03.742559",
     "status": "completed"
    },
    "tags": []
   },
   "outputs": [],
   "source": [
    "#hide\n",
    "dfc_cases = dft_cases.groupby(COL_REGION)[dt_today].sum()\n",
    "dfc_deaths = dft_deaths.groupby(COL_REGION)[dt_today].sum()\n",
    "# dfp_cases = dft_cases.groupby(COL_REGION)[dt_5day].sum()\n",
    "# dfp_deaths = dft_deaths.groupby(COL_REGION)[dt_5day].sum()\n",
    "dfp_cases = dft_cases.groupby(COL_REGION)[dt_yday].sum()\n",
    "dfp_deaths = dft_deaths.groupby(COL_REGION)[dt_yday].sum()"
   ]
  },
  {
   "cell_type": "code",
   "execution_count": 12,
   "id": "deluxe-hepatitis",
   "metadata": {
    "execution": {
     "iopub.execute_input": "2021-01-23T00:42:03.878591Z",
     "iopub.status.busy": "2021-01-23T00:42:03.878016Z",
     "iopub.status.idle": "2021-01-23T00:42:03.882760Z",
     "shell.execute_reply": "2021-01-23T00:42:03.884228Z"
    },
    "papermill": {
     "duration": 0.046112,
     "end_time": "2021-01-23T00:42:03.884432",
     "exception": false,
     "start_time": "2021-01-23T00:42:03.838320",
     "status": "completed"
    },
    "tags": []
   },
   "outputs": [],
   "source": [
    "#hide\n",
    "df_table = (pd.DataFrame(dict(Cases = dfc_cases, Deaths = dfc_deaths, PCases = dfp_cases, PDeaths = dfp_deaths))\n",
    "            .sort_values(by = ['Cases','Deaths'], ascending = [False, False])\n",
    "            .reset_index())"
   ]
  },
  {
   "cell_type": "code",
   "execution_count": 13,
   "id": "educational-chancellor",
   "metadata": {
    "execution": {
     "iopub.execute_input": "2021-01-23T00:42:03.975441Z",
     "iopub.status.busy": "2021-01-23T00:42:03.974873Z",
     "iopub.status.idle": "2021-01-23T00:42:03.983736Z",
     "shell.execute_reply": "2021-01-23T00:42:03.984230Z"
    },
    "papermill": {
     "duration": 0.064713,
     "end_time": "2021-01-23T00:42:03.984382",
     "exception": false,
     "start_time": "2021-01-23T00:42:03.919669",
     "status": "completed"
    },
    "tags": []
   },
   "outputs": [
    {
     "data": {
      "text/html": [
       "<div>\n",
       "<style scoped>\n",
       "    .dataframe tbody tr th:only-of-type {\n",
       "        vertical-align: middle;\n",
       "    }\n",
       "\n",
       "    .dataframe tbody tr th {\n",
       "        vertical-align: top;\n",
       "    }\n",
       "\n",
       "    .dataframe thead th {\n",
       "        text-align: right;\n",
       "    }\n",
       "</style>\n",
       "<table border=\"1\" class=\"dataframe\">\n",
       "  <thead>\n",
       "    <tr style=\"text-align: right;\">\n",
       "      <th></th>\n",
       "      <th>Country/Region</th>\n",
       "      <th>Cases</th>\n",
       "      <th>Deaths</th>\n",
       "      <th>PCases</th>\n",
       "      <th>PDeaths</th>\n",
       "      <th>Cases (+)</th>\n",
       "      <th>Deaths (+)</th>\n",
       "      <th>Fatality Rate</th>\n",
       "      <th>Continent</th>\n",
       "    </tr>\n",
       "  </thead>\n",
       "  <tbody>\n",
       "    <tr>\n",
       "      <th>0</th>\n",
       "      <td>US</td>\n",
       "      <td>24631888</td>\n",
       "      <td>410349</td>\n",
       "      <td>24438723</td>\n",
       "      <td>406147</td>\n",
       "      <td>193165</td>\n",
       "      <td>4202</td>\n",
       "      <td>1.67</td>\n",
       "      <td>North America</td>\n",
       "    </tr>\n",
       "    <tr>\n",
       "      <th>1</th>\n",
       "      <td>India</td>\n",
       "      <td>10625428</td>\n",
       "      <td>153032</td>\n",
       "      <td>10610883</td>\n",
       "      <td>152869</td>\n",
       "      <td>14545</td>\n",
       "      <td>163</td>\n",
       "      <td>1.44</td>\n",
       "      <td>Asia</td>\n",
       "    </tr>\n",
       "    <tr>\n",
       "      <th>2</th>\n",
       "      <td>Brazil</td>\n",
       "      <td>8697368</td>\n",
       "      <td>214147</td>\n",
       "      <td>8638249</td>\n",
       "      <td>212831</td>\n",
       "      <td>59119</td>\n",
       "      <td>1316</td>\n",
       "      <td>2.46</td>\n",
       "      <td>South America</td>\n",
       "    </tr>\n",
       "    <tr>\n",
       "      <th>3</th>\n",
       "      <td>Russia</td>\n",
       "      <td>3616680</td>\n",
       "      <td>66810</td>\n",
       "      <td>3595136</td>\n",
       "      <td>66214</td>\n",
       "      <td>21544</td>\n",
       "      <td>596</td>\n",
       "      <td>1.85</td>\n",
       "      <td>Europe</td>\n",
       "    </tr>\n",
       "    <tr>\n",
       "      <th>4</th>\n",
       "      <td>United Kingdom</td>\n",
       "      <td>3553773</td>\n",
       "      <td>94765</td>\n",
       "      <td>3515796</td>\n",
       "      <td>93469</td>\n",
       "      <td>37977</td>\n",
       "      <td>1296</td>\n",
       "      <td>2.67</td>\n",
       "      <td>Europe</td>\n",
       "    </tr>\n",
       "  </tbody>\n",
       "</table>\n",
       "</div>"
      ],
      "text/plain": [
       "   Country/Region     Cases  Deaths    PCases  PDeaths  Cases (+)  Deaths (+)  \\\n",
       "0              US  24631888  410349  24438723   406147     193165        4202   \n",
       "1           India  10625428  153032  10610883   152869      14545         163   \n",
       "2          Brazil   8697368  214147   8638249   212831      59119        1316   \n",
       "3          Russia   3616680   66810   3595136    66214      21544         596   \n",
       "4  United Kingdom   3553773   94765   3515796    93469      37977        1296   \n",
       "\n",
       "   Fatality Rate      Continent  \n",
       "0           1.67  North America  \n",
       "1           1.44           Asia  \n",
       "2           2.46  South America  \n",
       "3           1.85         Europe  \n",
       "4           2.67         Europe  "
      ]
     },
     "execution_count": 13,
     "metadata": {},
     "output_type": "execute_result"
    }
   ],
   "source": [
    "#hide\n",
    "for c in 'Cases, Deaths'.split(', '):\n",
    "    df_table[f'{c} (+)'] = (df_table[c] - df_table[f'P{c}']).clip(0)\n",
    "    #Clip ça veut dire, les chiffres negatif sont interdit\n",
    "df_table['Fatality Rate'] = (100* df_table['Deaths']/ df_table['Cases']).round(2)\n",
    "df_table['Continent'] = df_table['Country/Region'].map(mapping['map.continent'])\n",
    "df_table.head(5)"
   ]
  },
  {
   "cell_type": "code",
   "execution_count": 14,
   "id": "aboriginal-bulgaria",
   "metadata": {
    "execution": {
     "iopub.execute_input": "2021-01-23T00:42:04.066499Z",
     "iopub.status.busy": "2021-01-23T00:42:04.065842Z",
     "iopub.status.idle": "2021-01-23T00:42:04.068121Z",
     "shell.execute_reply": "2021-01-23T00:42:04.068630Z"
    },
    "papermill": {
     "duration": 0.048023,
     "end_time": "2021-01-23T00:42:04.068792",
     "exception": false,
     "start_time": "2021-01-23T00:42:04.020769",
     "status": "completed"
    },
    "tags": []
   },
   "outputs": [],
   "source": [
    "#hide\n",
    "#delete problematic countries from table\n",
    "df_table = df_table[~df_table['Country/Region'].isin(['Cape Verde', 'Cruise Ship', 'Kosovo'])]"
   ]
  },
  {
   "cell_type": "code",
   "execution_count": 15,
   "id": "fantastic-effect",
   "metadata": {
    "execution": {
     "iopub.execute_input": "2021-01-23T00:42:04.146691Z",
     "iopub.status.busy": "2021-01-23T00:42:04.146090Z",
     "iopub.status.idle": "2021-01-23T00:42:04.168269Z",
     "shell.execute_reply": "2021-01-23T00:42:04.167683Z"
    },
    "papermill": {
     "duration": 0.063894,
     "end_time": "2021-01-23T00:42:04.168404",
     "exception": false,
     "start_time": "2021-01-23T00:42:04.104510",
     "status": "completed"
    },
    "tags": []
   },
   "outputs": [
    {
     "data": {
      "text/html": [
       "<div>\n",
       "<style scoped>\n",
       "    .dataframe tbody tr th:only-of-type {\n",
       "        vertical-align: middle;\n",
       "    }\n",
       "\n",
       "    .dataframe tbody tr th {\n",
       "        vertical-align: top;\n",
       "    }\n",
       "\n",
       "    .dataframe thead th {\n",
       "        text-align: right;\n",
       "    }\n",
       "</style>\n",
       "<table border=\"1\" class=\"dataframe\">\n",
       "  <thead>\n",
       "    <tr style=\"text-align: right;\">\n",
       "      <th></th>\n",
       "      <th>Country/Region</th>\n",
       "      <th>Cases</th>\n",
       "      <th>Deaths</th>\n",
       "      <th>PCases</th>\n",
       "      <th>PDeaths</th>\n",
       "      <th>Cases (+)</th>\n",
       "      <th>Deaths (+)</th>\n",
       "      <th>Fatality Rate</th>\n",
       "      <th>Continent</th>\n",
       "    </tr>\n",
       "  </thead>\n",
       "  <tbody>\n",
       "    <tr>\n",
       "      <th>0</th>\n",
       "      <td>US</td>\n",
       "      <td>24631888</td>\n",
       "      <td>410349</td>\n",
       "      <td>24438723</td>\n",
       "      <td>406147</td>\n",
       "      <td>193165</td>\n",
       "      <td>4202</td>\n",
       "      <td>1.7</td>\n",
       "      <td>North America</td>\n",
       "    </tr>\n",
       "    <tr>\n",
       "      <th>1</th>\n",
       "      <td>India</td>\n",
       "      <td>10625428</td>\n",
       "      <td>153032</td>\n",
       "      <td>10610883</td>\n",
       "      <td>152869</td>\n",
       "      <td>14545</td>\n",
       "      <td>163</td>\n",
       "      <td>1.4</td>\n",
       "      <td>Asia</td>\n",
       "    </tr>\n",
       "    <tr>\n",
       "      <th>2</th>\n",
       "      <td>Brazil</td>\n",
       "      <td>8697368</td>\n",
       "      <td>214147</td>\n",
       "      <td>8638249</td>\n",
       "      <td>212831</td>\n",
       "      <td>59119</td>\n",
       "      <td>1316</td>\n",
       "      <td>2.5</td>\n",
       "      <td>South America</td>\n",
       "    </tr>\n",
       "    <tr>\n",
       "      <th>3</th>\n",
       "      <td>Russia</td>\n",
       "      <td>3616680</td>\n",
       "      <td>66810</td>\n",
       "      <td>3595136</td>\n",
       "      <td>66214</td>\n",
       "      <td>21544</td>\n",
       "      <td>596</td>\n",
       "      <td>1.8</td>\n",
       "      <td>Europe</td>\n",
       "    </tr>\n",
       "    <tr>\n",
       "      <th>4</th>\n",
       "      <td>United Kingdom</td>\n",
       "      <td>3553773</td>\n",
       "      <td>94765</td>\n",
       "      <td>3515796</td>\n",
       "      <td>93469</td>\n",
       "      <td>37977</td>\n",
       "      <td>1296</td>\n",
       "      <td>2.7</td>\n",
       "      <td>Europe</td>\n",
       "    </tr>\n",
       "  </tbody>\n",
       "</table>\n",
       "</div>"
      ],
      "text/plain": [
       "   Country/Region     Cases  Deaths    PCases  PDeaths  Cases (+)  Deaths (+)  \\\n",
       "0              US  24631888  410349  24438723   406147     193165        4202   \n",
       "1           India  10625428  153032  10610883   152869      14545         163   \n",
       "2          Brazil   8697368  214147   8638249   212831      59119        1316   \n",
       "3          Russia   3616680   66810   3595136    66214      21544         596   \n",
       "4  United Kingdom   3553773   94765   3515796    93469      37977        1296   \n",
       "\n",
       "   Fatality Rate      Continent  \n",
       "0            1.7  North America  \n",
       "1            1.4           Asia  \n",
       "2            2.5  South America  \n",
       "3            1.8         Europe  \n",
       "4            2.7         Europe  "
      ]
     },
     "execution_count": 15,
     "metadata": {},
     "output_type": "execute_result"
    }
   ],
   "source": [
    "#hide\n",
    "df_table = (pd.DataFrame(dict(Cases=dfc_cases, Deaths=dfc_deaths, PCases=dfp_cases, PDeaths=dfp_deaths))\n",
    "             .sort_values(by=['Cases', 'Deaths'], ascending=[False, False])\n",
    "             .reset_index())\n",
    "df_table.rename(columns={'index': 'Country/Region'}, inplace=True)\n",
    "for c in 'Cases, Deaths'.split(', '):\n",
    "    df_table[f'{c} (+)'] = (df_table[c] - df_table[f'P{c}']).clip(0)  # DATA BUG\n",
    "df_table['Fatality Rate'] = (100 * df_table['Deaths'] / df_table['Cases']).round(1)\n",
    "df_table['Continent'] = df_table['Country/Region'].map(mapping['map.continent'])\n",
    "df_table.head(5)"
   ]
  },
  {
   "cell_type": "code",
   "execution_count": 16,
   "id": "fewer-occasion",
   "metadata": {
    "execution": {
     "iopub.execute_input": "2021-01-23T00:42:04.247093Z",
     "iopub.status.busy": "2021-01-23T00:42:04.246517Z",
     "iopub.status.idle": "2021-01-23T00:42:04.250042Z",
     "shell.execute_reply": "2021-01-23T00:42:04.249553Z"
    },
    "papermill": {
     "duration": 0.045041,
     "end_time": "2021-01-23T00:42:04.250152",
     "exception": false,
     "start_time": "2021-01-23T00:42:04.205111",
     "status": "completed"
    },
    "tags": []
   },
   "outputs": [],
   "source": [
    "#hide\n",
    "#delete problematic countries from table\n",
    "df_table = df_table[~df_table['Country/Region'].isin(['Cape Verde', 'Cruise Ship', 'Kosovo'])]"
   ]
  },
  {
   "cell_type": "code",
   "execution_count": 17,
   "id": "related-center",
   "metadata": {
    "execution": {
     "iopub.execute_input": "2021-01-23T00:42:04.341987Z",
     "iopub.status.busy": "2021-01-23T00:42:04.341362Z",
     "iopub.status.idle": "2021-01-23T00:42:04.345156Z",
     "shell.execute_reply": "2021-01-23T00:42:04.345640Z"
    },
    "papermill": {
     "duration": 0.059334,
     "end_time": "2021-01-23T00:42:04.345781",
     "exception": false,
     "start_time": "2021-01-23T00:42:04.286447",
     "status": "completed"
    },
    "tags": []
   },
   "outputs": [],
   "source": [
    "#hide\n",
    "metrics = [df_table.columns[index] for index in [1,2,5,6]]\n",
    "# s_china = df_table[df_table['Country/Region'].eq('China')][metrics].sum().add_prefix('China ')\n",
    "s_us = df_table[df_table['Country/Region'].eq('US')][metrics].sum().add_prefix('US ')\n",
    "s_eu = df_table[df_table['Continent'].eq('Europe')][metrics].sum().add_prefix('EU ')\n",
    "s_ind = df_table[df_table['Country/Region'].eq('India')][metrics].sum().add_prefix('India ')\n",
    "summary = {'updated': pd.to_datetime(dt_today), 'since': pd.to_datetime(dt_yday)}\n",
    "summary = {'updated': pd.to_datetime(dt_today), 'since': pd.to_datetime(dt_yday)}\n",
    "summary = {**summary, **df_table[metrics].sum(), **s_ind, **s_us, **s_eu}"
   ]
  },
  {
   "cell_type": "code",
   "execution_count": 18,
   "id": "engaging-syndrome",
   "metadata": {
    "execution": {
     "iopub.execute_input": "2021-01-23T00:42:04.422786Z",
     "iopub.status.busy": "2021-01-23T00:42:04.422174Z",
     "iopub.status.idle": "2021-01-23T00:42:04.435183Z",
     "shell.execute_reply": "2021-01-23T00:42:04.434495Z"
    },
    "papermill": {
     "duration": 0.053931,
     "end_time": "2021-01-23T00:42:04.435361",
     "exception": false,
     "start_time": "2021-01-23T00:42:04.381430",
     "status": "completed"
    },
    "tags": []
   },
   "outputs": [],
   "source": [
    "#hide\n",
    "dft_ct_new_cases = dft_cases.groupby(COL_REGION)[dt_cols].sum().diff(axis=1).fillna(0).astype(int)"
   ]
  },
  {
   "cell_type": "code",
   "execution_count": 19,
   "id": "neutral-assignment",
   "metadata": {
    "execution": {
     "iopub.execute_input": "2021-01-23T00:42:04.517223Z",
     "iopub.status.busy": "2021-01-23T00:42:04.516397Z",
     "iopub.status.idle": "2021-01-23T00:42:04.519324Z",
     "shell.execute_reply": "2021-01-23T00:42:04.518651Z"
    },
    "papermill": {
     "duration": 0.047015,
     "end_time": "2021-01-23T00:42:04.519467",
     "exception": false,
     "start_time": "2021-01-23T00:42:04.472452",
     "status": "completed"
    },
    "tags": []
   },
   "outputs": [],
   "source": [
    "#hide\n",
    "everydaycases = dft_ct_new_cases.cumsum(axis=1)"
   ]
  },
  {
   "cell_type": "code",
   "execution_count": 20,
   "id": "parliamentary-calgary",
   "metadata": {
    "execution": {
     "iopub.execute_input": "2021-01-23T00:42:04.602603Z",
     "iopub.status.busy": "2021-01-23T00:42:04.601633Z",
     "iopub.status.idle": "2021-01-23T00:42:06.311535Z",
     "shell.execute_reply": "2021-01-23T00:42:06.310808Z"
    },
    "papermill": {
     "duration": 1.754024,
     "end_time": "2021-01-23T00:42:06.311726",
     "exception": false,
     "start_time": "2021-01-23T00:42:04.557702",
     "status": "completed"
    },
    "tags": []
   },
   "outputs": [],
   "source": [
    "#hide\n",
    "import pandas as pd\n",
    "import matplotlib.pyplot as plt\n",
    "import matplotlib.ticker as ticker\n",
    "import matplotlib.animation as animation\n",
    "from IPython.display import HTML"
   ]
  },
  {
   "cell_type": "code",
   "execution_count": 21,
   "id": "lasting-extraction",
   "metadata": {
    "execution": {
     "iopub.execute_input": "2021-01-23T00:42:06.393376Z",
     "iopub.status.busy": "2021-01-23T00:42:06.392605Z",
     "iopub.status.idle": "2021-01-23T00:42:06.397664Z",
     "shell.execute_reply": "2021-01-23T00:42:06.397204Z"
    },
    "papermill": {
     "duration": 0.048361,
     "end_time": "2021-01-23T00:42:06.397779",
     "exception": false,
     "start_time": "2021-01-23T00:42:06.349418",
     "status": "completed"
    },
    "tags": []
   },
   "outputs": [],
   "source": [
    "#hide\n",
    "t = everydaycases.stack()"
   ]
  },
  {
   "cell_type": "code",
   "execution_count": 22,
   "id": "premier-sleeve",
   "metadata": {
    "execution": {
     "iopub.execute_input": "2021-01-23T00:42:06.479971Z",
     "iopub.status.busy": "2021-01-23T00:42:06.479345Z",
     "iopub.status.idle": "2021-01-23T00:42:06.488301Z",
     "shell.execute_reply": "2021-01-23T00:42:06.487368Z"
    },
    "papermill": {
     "duration": 0.051105,
     "end_time": "2021-01-23T00:42:06.488485",
     "exception": false,
     "start_time": "2021-01-23T00:42:06.437380",
     "status": "completed"
    },
    "tags": []
   },
   "outputs": [],
   "source": [
    "#hide\n",
    "g = t.reset_index(['Country/Region'])"
   ]
  },
  {
   "cell_type": "code",
   "execution_count": 23,
   "id": "distributed-pittsburgh",
   "metadata": {
    "execution": {
     "iopub.execute_input": "2021-01-23T00:42:06.569982Z",
     "iopub.status.busy": "2021-01-23T00:42:06.569306Z",
     "iopub.status.idle": "2021-01-23T00:42:06.571501Z",
     "shell.execute_reply": "2021-01-23T00:42:06.572012Z"
    },
    "papermill": {
     "duration": 0.043017,
     "end_time": "2021-01-23T00:42:06.572260",
     "exception": false,
     "start_time": "2021-01-23T00:42:06.529243",
     "status": "completed"
    },
    "tags": []
   },
   "outputs": [],
   "source": [
    "#hide\n",
    "g.index.name = 'date'"
   ]
  },
  {
   "cell_type": "code",
   "execution_count": 24,
   "id": "naked-donor",
   "metadata": {
    "execution": {
     "iopub.execute_input": "2021-01-23T00:42:06.647005Z",
     "iopub.status.busy": "2021-01-23T00:42:06.646410Z",
     "iopub.status.idle": "2021-01-23T00:42:06.648752Z",
     "shell.execute_reply": "2021-01-23T00:42:06.648216Z"
    },
    "papermill": {
     "duration": 0.040558,
     "end_time": "2021-01-23T00:42:06.649007",
     "exception": false,
     "start_time": "2021-01-23T00:42:06.608449",
     "status": "completed"
    },
    "tags": []
   },
   "outputs": [],
   "source": [
    "# #hide\n",
    "# g = g.reset_index(['date'])"
   ]
  },
  {
   "cell_type": "code",
   "execution_count": 25,
   "id": "incomplete-mustang",
   "metadata": {
    "execution": {
     "iopub.execute_input": "2021-01-23T00:42:06.725135Z",
     "iopub.status.busy": "2021-01-23T00:42:06.724568Z",
     "iopub.status.idle": "2021-01-23T00:42:06.727514Z",
     "shell.execute_reply": "2021-01-23T00:42:06.726560Z"
    },
    "papermill": {
     "duration": 0.042987,
     "end_time": "2021-01-23T00:42:06.727657",
     "exception": false,
     "start_time": "2021-01-23T00:42:06.684670",
     "status": "completed"
    },
    "tags": []
   },
   "outputs": [],
   "source": [
    "#hide\n",
    "# g.head()"
   ]
  },
  {
   "cell_type": "code",
   "execution_count": 26,
   "id": "specific-kruger",
   "metadata": {
    "execution": {
     "iopub.execute_input": "2021-01-23T00:42:06.801576Z",
     "iopub.status.busy": "2021-01-23T00:42:06.801053Z",
     "iopub.status.idle": "2021-01-23T00:42:06.803486Z",
     "shell.execute_reply": "2021-01-23T00:42:06.803014Z"
    },
    "papermill": {
     "duration": 0.041216,
     "end_time": "2021-01-23T00:42:06.803606",
     "exception": false,
     "start_time": "2021-01-23T00:42:06.762390",
     "status": "completed"
    },
    "tags": []
   },
   "outputs": [],
   "source": [
    "#hide\n",
    "# g.columns = ['date','country','cases']"
   ]
  },
  {
   "cell_type": "code",
   "execution_count": 27,
   "id": "tender-conversion",
   "metadata": {
    "execution": {
     "iopub.execute_input": "2021-01-23T00:42:06.885535Z",
     "iopub.status.busy": "2021-01-23T00:42:06.884918Z",
     "iopub.status.idle": "2021-01-23T00:42:06.887001Z",
     "shell.execute_reply": "2021-01-23T00:42:06.887460Z"
    },
    "papermill": {
     "duration": 0.046092,
     "end_time": "2021-01-23T00:42:06.887605",
     "exception": false,
     "start_time": "2021-01-23T00:42:06.841513",
     "status": "completed"
    },
    "tags": []
   },
   "outputs": [],
   "source": [
    "#hide\n",
    "# g['continent'] = g.country"
   ]
  },
  {
   "cell_type": "code",
   "execution_count": 28,
   "id": "substantial-wilderness",
   "metadata": {
    "execution": {
     "iopub.execute_input": "2021-01-23T00:42:06.969201Z",
     "iopub.status.busy": "2021-01-23T00:42:06.968472Z",
     "iopub.status.idle": "2021-01-23T00:42:06.969997Z",
     "shell.execute_reply": "2021-01-23T00:42:06.970550Z"
    },
    "papermill": {
     "duration": 0.045571,
     "end_time": "2021-01-23T00:42:06.970712",
     "exception": false,
     "start_time": "2021-01-23T00:42:06.925141",
     "status": "completed"
    },
    "tags": []
   },
   "outputs": [],
   "source": [
    "#hide\n",
    "# cols = list(g.columns.values)"
   ]
  },
  {
   "cell_type": "code",
   "execution_count": 29,
   "id": "solved-farming",
   "metadata": {
    "execution": {
     "iopub.execute_input": "2021-01-23T00:42:07.047122Z",
     "iopub.status.busy": "2021-01-23T00:42:07.046429Z",
     "iopub.status.idle": "2021-01-23T00:42:07.048471Z",
     "shell.execute_reply": "2021-01-23T00:42:07.048958Z"
    },
    "papermill": {
     "duration": 0.041483,
     "end_time": "2021-01-23T00:42:07.049087",
     "exception": false,
     "start_time": "2021-01-23T00:42:07.007604",
     "status": "completed"
    },
    "tags": []
   },
   "outputs": [],
   "source": [
    "#hide\n",
    "# cols.insert(0, cols.pop())"
   ]
  },
  {
   "cell_type": "code",
   "execution_count": 30,
   "id": "executed-adoption",
   "metadata": {
    "execution": {
     "iopub.execute_input": "2021-01-23T00:42:07.132643Z",
     "iopub.status.busy": "2021-01-23T00:42:07.132033Z",
     "iopub.status.idle": "2021-01-23T00:42:07.134467Z",
     "shell.execute_reply": "2021-01-23T00:42:07.133970Z"
    },
    "papermill": {
     "duration": 0.044831,
     "end_time": "2021-01-23T00:42:07.134590",
     "exception": false,
     "start_time": "2021-01-23T00:42:07.089759",
     "status": "completed"
    },
    "tags": []
   },
   "outputs": [],
   "source": [
    "#hide\n",
    "# g = g[cols]"
   ]
  },
  {
   "cell_type": "code",
   "execution_count": 31,
   "id": "subject-dublin",
   "metadata": {
    "execution": {
     "iopub.execute_input": "2021-01-23T00:42:07.214139Z",
     "iopub.status.busy": "2021-01-23T00:42:07.213263Z",
     "iopub.status.idle": "2021-01-23T00:42:07.216162Z",
     "shell.execute_reply": "2021-01-23T00:42:07.215422Z"
    },
    "papermill": {
     "duration": 0.042393,
     "end_time": "2021-01-23T00:42:07.216282",
     "exception": false,
     "start_time": "2021-01-23T00:42:07.173889",
     "status": "completed"
    },
    "tags": []
   },
   "outputs": [],
   "source": [
    "#hide\n",
    "# g['continent'] = g['continent'].map(mapping['map.continent'])"
   ]
  },
  {
   "cell_type": "code",
   "execution_count": 32,
   "id": "freelance-scout",
   "metadata": {
    "execution": {
     "iopub.execute_input": "2021-01-23T00:42:07.298132Z",
     "iopub.status.busy": "2021-01-23T00:42:07.297508Z",
     "iopub.status.idle": "2021-01-23T00:42:07.299333Z",
     "shell.execute_reply": "2021-01-23T00:42:07.299927Z"
    },
    "papermill": {
     "duration": 0.048556,
     "end_time": "2021-01-23T00:42:07.300165",
     "exception": false,
     "start_time": "2021-01-23T00:42:07.251609",
     "status": "completed"
    },
    "tags": []
   },
   "outputs": [],
   "source": [
    "#hide\n",
    "# g.head()"
   ]
  },
  {
   "cell_type": "code",
   "execution_count": 33,
   "id": "limited-engine",
   "metadata": {
    "execution": {
     "iopub.execute_input": "2021-01-23T00:42:07.379094Z",
     "iopub.status.busy": "2021-01-23T00:42:07.378512Z",
     "iopub.status.idle": "2021-01-23T00:42:07.380338Z",
     "shell.execute_reply": "2021-01-23T00:42:07.380921Z"
    },
    "papermill": {
     "duration": 0.043349,
     "end_time": "2021-01-23T00:42:07.381064",
     "exception": false,
     "start_time": "2021-01-23T00:42:07.337715",
     "status": "completed"
    },
    "tags": []
   },
   "outputs": [],
   "source": [
    "# hide\n",
    "# g['date'] = g['date'].astype('datetime64[ns]')"
   ]
  },
  {
   "cell_type": "code",
   "execution_count": 34,
   "id": "sophisticated-supervisor",
   "metadata": {
    "execution": {
     "iopub.execute_input": "2021-01-23T00:42:07.462452Z",
     "iopub.status.busy": "2021-01-23T00:42:07.461778Z",
     "iopub.status.idle": "2021-01-23T00:42:07.463204Z",
     "shell.execute_reply": "2021-01-23T00:42:07.463765Z"
    },
    "papermill": {
     "duration": 0.044698,
     "end_time": "2021-01-23T00:42:07.463931",
     "exception": false,
     "start_time": "2021-01-23T00:42:07.419233",
     "status": "completed"
    },
    "tags": []
   },
   "outputs": [],
   "source": [
    "#hide\n",
    "# g['date'] = g.date.dt.dayofyear"
   ]
  },
  {
   "cell_type": "code",
   "execution_count": 35,
   "id": "inside-dubai",
   "metadata": {
    "execution": {
     "iopub.execute_input": "2021-01-23T00:42:07.542264Z",
     "iopub.status.busy": "2021-01-23T00:42:07.541501Z",
     "iopub.status.idle": "2021-01-23T00:42:07.543652Z",
     "shell.execute_reply": "2021-01-23T00:42:07.544481Z"
    },
    "papermill": {
     "duration": 0.043656,
     "end_time": "2021-01-23T00:42:07.544740",
     "exception": false,
     "start_time": "2021-01-23T00:42:07.501084",
     "status": "completed"
    },
    "tags": []
   },
   "outputs": [],
   "source": [
    "#hide\n",
    "# g = g.rename(columns= {'continent':'group','country':'name','cases':'value'})"
   ]
  },
  {
   "cell_type": "code",
   "execution_count": 36,
   "id": "fleet-motorcycle",
   "metadata": {
    "execution": {
     "iopub.execute_input": "2021-01-23T00:42:07.622436Z",
     "iopub.status.busy": "2021-01-23T00:42:07.621866Z",
     "iopub.status.idle": "2021-01-23T00:42:07.624003Z",
     "shell.execute_reply": "2021-01-23T00:42:07.623521Z"
    },
    "papermill": {
     "duration": 0.045441,
     "end_time": "2021-01-23T00:42:07.624142",
     "exception": false,
     "start_time": "2021-01-23T00:42:07.578701",
     "status": "completed"
    },
    "tags": []
   },
   "outputs": [],
   "source": [
    "#hide\n",
    "# cols = ['name','group','day','value']"
   ]
  },
  {
   "cell_type": "code",
   "execution_count": 37,
   "id": "continued-sleeping",
   "metadata": {
    "execution": {
     "iopub.execute_input": "2021-01-23T00:42:07.700440Z",
     "iopub.status.busy": "2021-01-23T00:42:07.699690Z",
     "iopub.status.idle": "2021-01-23T00:42:07.701652Z",
     "shell.execute_reply": "2021-01-23T00:42:07.702076Z"
    },
    "papermill": {
     "duration": 0.042046,
     "end_time": "2021-01-23T00:42:07.702206",
     "exception": false,
     "start_time": "2021-01-23T00:42:07.660160",
     "status": "completed"
    },
    "tags": []
   },
   "outputs": [],
   "source": [
    "#hide\n",
    "# g.rename(columns= {'date':'day'},inplace = True)"
   ]
  },
  {
   "cell_type": "code",
   "execution_count": 38,
   "id": "major-fight",
   "metadata": {
    "execution": {
     "iopub.execute_input": "2021-01-23T00:42:07.782294Z",
     "iopub.status.busy": "2021-01-23T00:42:07.781666Z",
     "iopub.status.idle": "2021-01-23T00:42:07.784377Z",
     "shell.execute_reply": "2021-01-23T00:42:07.783768Z"
    },
    "papermill": {
     "duration": 0.043353,
     "end_time": "2021-01-23T00:42:07.784497",
     "exception": false,
     "start_time": "2021-01-23T00:42:07.741144",
     "status": "completed"
    },
    "tags": []
   },
   "outputs": [],
   "source": [
    "#hide\n",
    "# g = g[cols]"
   ]
  },
  {
   "cell_type": "code",
   "execution_count": 39,
   "id": "structured-mobile",
   "metadata": {
    "execution": {
     "iopub.execute_input": "2021-01-23T00:42:07.867899Z",
     "iopub.status.busy": "2021-01-23T00:42:07.867140Z",
     "iopub.status.idle": "2021-01-23T00:42:07.869696Z",
     "shell.execute_reply": "2021-01-23T00:42:07.869130Z"
    },
    "papermill": {
     "duration": 0.044094,
     "end_time": "2021-01-23T00:42:07.869853",
     "exception": false,
     "start_time": "2021-01-23T00:42:07.825759",
     "status": "completed"
    },
    "tags": []
   },
   "outputs": [],
   "source": [
    "# #hide\n",
    "# g = g[g.group.notna()]"
   ]
  },
  {
   "cell_type": "code",
   "execution_count": 40,
   "id": "determined-closing",
   "metadata": {
    "execution": {
     "iopub.execute_input": "2021-01-23T00:42:07.951795Z",
     "iopub.status.busy": "2021-01-23T00:42:07.951180Z",
     "iopub.status.idle": "2021-01-23T00:42:07.952750Z",
     "shell.execute_reply": "2021-01-23T00:42:07.953481Z"
    },
    "papermill": {
     "duration": 0.044485,
     "end_time": "2021-01-23T00:42:07.953719",
     "exception": false,
     "start_time": "2021-01-23T00:42:07.909234",
     "status": "completed"
    },
    "tags": []
   },
   "outputs": [],
   "source": [
    "# #hide\n",
    "# colors = dict(zip(\n",
    "#     [\"Oceania\", \"Europe\", \"Asia\", \"South America\", \"Middle East\", \"North America\", \"Africa\"],\n",
    "#     [\"#adb0ff\", \"#ffb3ff\", \"#90d595\", \"#e48381\", \"#aafbff\", \"#f7bb5f\", \"#eafb50\"]\n",
    "# ))\n",
    "# group_lk = g.set_index('name')['group'].to_dict()"
   ]
  },
  {
   "cell_type": "code",
   "execution_count": null,
   "id": "gross-drinking",
   "metadata": {
    "papermill": {
     "duration": 0.034646,
     "end_time": "2021-01-23T00:42:08.026531",
     "exception": false,
     "start_time": "2021-01-23T00:42:07.991885",
     "status": "completed"
    },
    "tags": []
   },
   "outputs": [],
   "source": []
  },
  {
   "cell_type": "code",
   "execution_count": 41,
   "id": "subject-macintosh",
   "metadata": {
    "execution": {
     "iopub.execute_input": "2021-01-23T00:42:08.100189Z",
     "iopub.status.busy": "2021-01-23T00:42:08.099558Z",
     "iopub.status.idle": "2021-01-23T00:42:08.101526Z",
     "shell.execute_reply": "2021-01-23T00:42:08.102056Z"
    },
    "papermill": {
     "duration": 0.041418,
     "end_time": "2021-01-23T00:42:08.102215",
     "exception": false,
     "start_time": "2021-01-23T00:42:08.060797",
     "status": "completed"
    },
    "tags": []
   },
   "outputs": [],
   "source": [
    "# #hide\n",
    "# fig, ax = plt.subplots(figsize=(15, 8))\n",
    "\n",
    "# def draw_barchart(current_day):\n",
    "#     dff = g[g['day'].eq(current_day)].sort_values(by='value', ascending=True).tail(10)\n",
    "#     ax.clear()\n",
    "#     ax.barh(dff['name'], dff['value'], color=[colors[group_lk[x]] for x in dff['name']])\n",
    "#     dx = dff['value'].max() / 200\n",
    "    \n",
    "#     for i, (value, name) in enumerate(zip(dff['value'], dff['name'])):\n",
    "#         ax.text(value-dx, i,     name,           size=14, weight=600, ha='right', va='bottom')\n",
    "#         ax.text(value-dx, i-.25, group_lk[name], size=10, color='#444444', ha='right', va='baseline')\n",
    "#         ax.text(value+dx, i,     f'{value:,.0f}',  size=14, ha='left',  va='center')\n",
    "#     ax.text(1, 0.4, current_day, transform=ax.transAxes, color='#777777', size=46, ha='right', weight=800)\n",
    "#     ax.text(0, 1.06, 'Population (thousands)', transform=ax.transAxes, size=12, color='#777777')\n",
    "#     ax.xaxis.set_major_formatter(ticker.StrMethodFormatter('{x:,.0f}'))\n",
    "#     ax.xaxis.set_ticks_position('top')\n",
    "#     ax.tick_params(axis='x', colors='#777777', labelsize=12)\n",
    "#     ax.set_yticks([])\n",
    "#     ax.margins(0, 0.01)\n",
    "#     ax.grid(which='major', axis='x', linestyle='-')\n",
    "#     ax.set_axisbelow(True)\n",
    "    \n",
    "#     ax.text(0, 1.15, 'Coronavirus',\n",
    "#             transform=ax.transAxes, size=24, weight=600, ha='left', va='top')\n",
    "# #     ax.text(1, 0, 'by @pratapvardhan; credit @jburnmurdoch', transform=ax.transAxes, color='#777777', ha='right',\n",
    "# #             bbox=dict(facecolor='white', alpha=0.8, edgecolor='white'))\n",
    "#     plt.box(False)"
   ]
  },
  {
   "cell_type": "code",
   "execution_count": 42,
   "id": "sexual-wages",
   "metadata": {
    "execution": {
     "iopub.execute_input": "2021-01-23T00:42:08.183781Z",
     "iopub.status.busy": "2021-01-23T00:42:08.183093Z",
     "iopub.status.idle": "2021-01-23T00:42:08.185902Z",
     "shell.execute_reply": "2021-01-23T00:42:08.185403Z"
    },
    "papermill": {
     "duration": 0.044986,
     "end_time": "2021-01-23T00:42:08.186021",
     "exception": false,
     "start_time": "2021-01-23T00:42:08.141035",
     "status": "completed"
    },
    "tags": []
   },
   "outputs": [],
   "source": [
    "# #hide_input\n",
    "# fig, ax = plt.subplots(figsize=(15, 8))\n",
    "# animator = animation.FuncAnimation(fig, draw_barchart, frames=range(g.day.values.min(), g.day.values.max()))\n",
    "# HTML(animator.to_jshtml())\n",
    "# # or use animator.to_html5_video() or animator.save() "
   ]
  },
  {
   "cell_type": "code",
   "execution_count": null,
   "id": "australian-container",
   "metadata": {
    "papermill": {
     "duration": 0.04017,
     "end_time": "2021-01-23T00:42:08.263164",
     "exception": false,
     "start_time": "2021-01-23T00:42:08.222994",
     "status": "completed"
    },
    "tags": []
   },
   "outputs": [],
   "source": []
  },
  {
   "cell_type": "code",
   "execution_count": null,
   "id": "mediterranean-pontiac",
   "metadata": {
    "papermill": {
     "duration": 0.037107,
     "end_time": "2021-01-23T00:42:08.338257",
     "exception": false,
     "start_time": "2021-01-23T00:42:08.301150",
     "status": "completed"
    },
    "tags": []
   },
   "outputs": [],
   "source": []
  },
  {
   "cell_type": "code",
   "execution_count": null,
   "id": "aging-legislature",
   "metadata": {
    "papermill": {
     "duration": 0.037126,
     "end_time": "2021-01-23T00:42:08.413871",
     "exception": false,
     "start_time": "2021-01-23T00:42:08.376745",
     "status": "completed"
    },
    "tags": []
   },
   "outputs": [],
   "source": []
  }
 ],
 "metadata": {
  "kernelspec": {
   "display_name": "Python 3",
   "language": "python",
   "name": "python3"
  },
  "language_info": {
   "codemirror_mode": {
    "name": "ipython",
    "version": 3
   },
   "file_extension": ".py",
   "mimetype": "text/x-python",
   "name": "python",
   "nbconvert_exporter": "python",
   "pygments_lexer": "ipython3",
   "version": "3.6.12"
  },
  "papermill": {
   "duration": 7.771062,
   "end_time": "2021-01-23T00:42:08.758825",
   "environment_variables": {},
   "exception": null,
   "input_path": "2020-03-21-covid19exp.ipynb",
   "output_path": "2020-03-21-covid19exp.ipynb",
   "parameters": {},
   "start_time": "2021-01-23T00:42:00.987763",
   "version": "2.0.0"
  }
 },
 "nbformat": 4,
 "nbformat_minor": 5
}