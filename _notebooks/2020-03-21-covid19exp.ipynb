{
 "cells": [
  {
   "cell_type": "markdown",
   "id": "muslim-click",
   "metadata": {
    "papermill": {
     "duration": 0.045936,
     "end_time": "2021-11-03T12:12:17.137243",
     "exception": false,
     "start_time": "2021-11-03T12:12:17.091307",
     "status": "completed"
    },
    "tags": []
   },
   "source": [
    "# COVID-19 Case Race\n",
    "> A race chart to see rising cases around the world\n",
    "\n",
    "- author: Hargun Oberoi\n",
    "- image: images/covid-overview.png\n",
    "- hide: false\n",
    "- badges: false"
   ]
  },
  {
   "cell_type": "code",
   "execution_count": 1,
   "id": "proof-material",
   "metadata": {
    "execution": {
     "iopub.execute_input": "2021-11-03T12:12:17.235496Z",
     "iopub.status.busy": "2021-11-03T12:12:17.229587Z",
     "iopub.status.idle": "2021-11-03T12:12:17.688044Z",
     "shell.execute_reply": "2021-11-03T12:12:17.687380Z"
    },
    "papermill": {
     "duration": 0.508304,
     "end_time": "2021-11-03T12:12:17.688211",
     "exception": false,
     "start_time": "2021-11-03T12:12:17.179907",
     "status": "completed"
    },
    "tags": []
   },
   "outputs": [],
   "source": [
    "#hide\n",
    "import numpy as np\n",
    "import pandas as pd\n",
    "from jinja2 import Template\n",
    "from IPython.display import HTML"
   ]
  },
  {
   "cell_type": "code",
   "execution_count": 2,
   "id": "developed-terminology",
   "metadata": {
    "execution": {
     "iopub.execute_input": "2021-11-03T12:12:17.778337Z",
     "iopub.status.busy": "2021-11-03T12:12:17.777659Z",
     "iopub.status.idle": "2021-11-03T12:12:17.780338Z",
     "shell.execute_reply": "2021-11-03T12:12:17.779810Z"
    },
    "papermill": {
     "duration": 0.051574,
     "end_time": "2021-11-03T12:12:17.780481",
     "exception": false,
     "start_time": "2021-11-03T12:12:17.728907",
     "status": "completed"
    },
    "tags": []
   },
   "outputs": [],
   "source": [
    "#hide\n",
    "\n",
    "# FETCH\n",
    "base_url = 'https://raw.githubusercontent.com/pratapvardhan/notebooks/master/covid19/'\n",
    "paths = {\n",
    "    'mapping': base_url + 'mapping_countries.csv',\n",
    "    'overview': base_url + 'overview.tpl'\n",
    "}"
   ]
  },
  {
   "cell_type": "code",
   "execution_count": 3,
   "id": "dynamic-saver",
   "metadata": {
    "execution": {
     "iopub.execute_input": "2021-11-03T12:12:17.883436Z",
     "iopub.status.busy": "2021-11-03T12:12:17.878241Z",
     "iopub.status.idle": "2021-11-03T12:12:17.888048Z",
     "shell.execute_reply": "2021-11-03T12:12:17.887438Z"
    },
    "papermill": {
     "duration": 0.065575,
     "end_time": "2021-11-03T12:12:17.888196",
     "exception": false,
     "start_time": "2021-11-03T12:12:17.822621",
     "status": "completed"
    },
    "tags": []
   },
   "outputs": [
    {
     "data": {
      "text/plain": [
       "'https://raw.githubusercontent.com/pratapvardhan/notebooks/master/covid19/mapping_countries.csv'"
      ]
     },
     "execution_count": 3,
     "metadata": {},
     "output_type": "execute_result"
    }
   ],
   "source": [
    "#hide\n",
    "paths['mapping']"
   ]
  },
  {
   "cell_type": "code",
   "execution_count": 4,
   "id": "urban-software",
   "metadata": {
    "execution": {
     "iopub.execute_input": "2021-11-03T12:12:17.982984Z",
     "iopub.status.busy": "2021-11-03T12:12:17.982210Z",
     "iopub.status.idle": "2021-11-03T12:12:17.984324Z",
     "shell.execute_reply": "2021-11-03T12:12:17.985073Z"
    },
    "papermill": {
     "duration": 0.053364,
     "end_time": "2021-11-03T12:12:17.985301",
     "exception": false,
     "start_time": "2021-11-03T12:12:17.931937",
     "status": "completed"
    },
    "tags": []
   },
   "outputs": [],
   "source": [
    "#hide\n",
    "def get_mappings(url):\n",
    "    df = pd.read_csv(url)\n",
    "    return {\n",
    "        'df': df,\n",
    "        'replace.country': dict(df.dropna(subset=['Name']).set_index('Country')['Name']),\n",
    "        'map.continent': dict(df.set_index('Name')['Continent'])\n",
    "    }"
   ]
  },
  {
   "cell_type": "code",
   "execution_count": 5,
   "id": "intimate-machinery",
   "metadata": {
    "execution": {
     "iopub.execute_input": "2021-11-03T12:12:18.083691Z",
     "iopub.status.busy": "2021-11-03T12:12:18.082966Z",
     "iopub.status.idle": "2021-11-03T12:12:18.126345Z",
     "shell.execute_reply": "2021-11-03T12:12:18.125577Z"
    },
    "papermill": {
     "duration": 0.103419,
     "end_time": "2021-11-03T12:12:18.126513",
     "exception": false,
     "start_time": "2021-11-03T12:12:18.023094",
     "status": "completed"
    },
    "tags": []
   },
   "outputs": [],
   "source": [
    "#hide\n",
    "mapping = get_mappings(paths['mapping'])"
   ]
  },
  {
   "cell_type": "code",
   "execution_count": 6,
   "id": "certified-tactics",
   "metadata": {
    "execution": {
     "iopub.execute_input": "2021-11-03T12:12:18.214134Z",
     "iopub.status.busy": "2021-11-03T12:12:18.213444Z",
     "iopub.status.idle": "2021-11-03T12:12:18.215837Z",
     "shell.execute_reply": "2021-11-03T12:12:18.215320Z"
    },
    "papermill": {
     "duration": 0.049366,
     "end_time": "2021-11-03T12:12:18.215973",
     "exception": false,
     "start_time": "2021-11-03T12:12:18.166607",
     "status": "completed"
    },
    "tags": []
   },
   "outputs": [],
   "source": [
    "#hide\n",
    "def get_template(path):\n",
    "    from urllib.parse import urlparse\n",
    "    if bool(urlparse(path).netloc):\n",
    "        from urllib.request import urlopen\n",
    "        return urlopen(path).read().decode('utf8')\n",
    "    return open(path).read()"
   ]
  },
  {
   "cell_type": "code",
   "execution_count": 7,
   "id": "realistic-blast",
   "metadata": {
    "execution": {
     "iopub.execute_input": "2021-11-03T12:12:18.304043Z",
     "iopub.status.busy": "2021-11-03T12:12:18.303465Z",
     "iopub.status.idle": "2021-11-03T12:12:18.305469Z",
     "shell.execute_reply": "2021-11-03T12:12:18.305960Z"
    },
    "papermill": {
     "duration": 0.049346,
     "end_time": "2021-11-03T12:12:18.306097",
     "exception": false,
     "start_time": "2021-11-03T12:12:18.256751",
     "status": "completed"
    },
    "tags": []
   },
   "outputs": [],
   "source": [
    "#hide\n",
    "def get_frame(name):\n",
    "    url = (\n",
    "        'https://raw.githubusercontent.com/CSSEGISandData/COVID-19/master/csse_covid_19_data/'\n",
    "        f'csse_covid_19_time_series/time_series_covid19_{name}_global.csv')\n",
    "    df = pd.read_csv(url)\n",
    "    # rename countries\n",
    "    df['Country/Region'] = df['Country/Region'].replace(mapping['replace.country'])\n",
    "    return df"
   ]
  },
  {
   "cell_type": "code",
   "execution_count": 8,
   "id": "affiliated-characterization",
   "metadata": {
    "execution": {
     "iopub.execute_input": "2021-11-03T12:12:18.409953Z",
     "iopub.status.busy": "2021-11-03T12:12:18.409082Z",
     "iopub.status.idle": "2021-11-03T12:12:18.410869Z",
     "shell.execute_reply": "2021-11-03T12:12:18.411584Z"
    },
    "papermill": {
     "duration": 0.059892,
     "end_time": "2021-11-03T12:12:18.411800",
     "exception": false,
     "start_time": "2021-11-03T12:12:18.351908",
     "status": "completed"
    },
    "tags": []
   },
   "outputs": [],
   "source": [
    "#hide\n",
    "def get_dates(df):\n",
    "    dt_cols = df.columns[~df.columns.isin(['Province/State', 'Country/Region', 'Lat', 'Long'])]\n",
    "    LAST_DATE_I = -1\n",
    "    # sometimes last column may be empty, then go backwards\n",
    "    for i in range(-1, -len(dt_cols), -1):\n",
    "        if not df[dt_cols[i]].fillna(0).eq(0).all():\n",
    "            LAST_DATE_I = i\n",
    "            break\n",
    "    return LAST_DATE_I, dt_cols"
   ]
  },
  {
   "cell_type": "code",
   "execution_count": 9,
   "id": "recent-optimization",
   "metadata": {
    "execution": {
     "iopub.execute_input": "2021-11-03T12:12:18.509414Z",
     "iopub.status.busy": "2021-11-03T12:12:18.508655Z",
     "iopub.status.idle": "2021-11-03T12:12:19.002814Z",
     "shell.execute_reply": "2021-11-03T12:12:19.002237Z"
    },
    "papermill": {
     "duration": 0.546612,
     "end_time": "2021-11-03T12:12:19.002969",
     "exception": false,
     "start_time": "2021-11-03T12:12:18.456357",
     "status": "completed"
    },
    "tags": []
   },
   "outputs": [],
   "source": [
    "#hide\n",
    "COL_REGION = 'Country/Region'\n",
    "# Confirmed, Recovered, Deaths\n",
    "df = get_frame('confirmed')\n",
    "# dft_: timeseries, dfc_: today country agg\n",
    "dft_cases = df\n",
    "dft_deaths = get_frame('deaths')\n",
    "dft_recovered = get_frame('recovered')\n",
    "LAST_DATE_I, dt_cols = get_dates(df)"
   ]
  },
  {
   "cell_type": "code",
   "execution_count": 10,
   "id": "absolute-copper",
   "metadata": {
    "execution": {
     "iopub.execute_input": "2021-11-03T12:12:19.101623Z",
     "iopub.status.busy": "2021-11-03T12:12:19.100882Z",
     "iopub.status.idle": "2021-11-03T12:12:19.103184Z",
     "shell.execute_reply": "2021-11-03T12:12:19.103701Z"
    },
    "papermill": {
     "duration": 0.054134,
     "end_time": "2021-11-03T12:12:19.103898",
     "exception": false,
     "start_time": "2021-11-03T12:12:19.049764",
     "status": "completed"
    },
    "tags": []
   },
   "outputs": [],
   "source": [
    "#hide\n",
    "LAST_DATE_I, dt_cols = get_dates(df)\n",
    "dt_today =dt_cols[LAST_DATE_I]\n",
    "# dt_5day = dt_cols[LAST_DATE_I - 5]\n",
    "dt_yday = dt_cols[LAST_DATE_I - 1]"
   ]
  },
  {
   "cell_type": "code",
   "execution_count": 11,
   "id": "restricted-sheriff",
   "metadata": {
    "execution": {
     "iopub.execute_input": "2021-11-03T12:12:19.197733Z",
     "iopub.status.busy": "2021-11-03T12:12:19.197036Z",
     "iopub.status.idle": "2021-11-03T12:12:19.206358Z",
     "shell.execute_reply": "2021-11-03T12:12:19.205774Z"
    },
    "papermill": {
     "duration": 0.059933,
     "end_time": "2021-11-03T12:12:19.206599",
     "exception": false,
     "start_time": "2021-11-03T12:12:19.146666",
     "status": "completed"
    },
    "tags": []
   },
   "outputs": [],
   "source": [
    "#hide\n",
    "dfc_cases = dft_cases.groupby(COL_REGION)[dt_today].sum()\n",
    "dfc_deaths = dft_deaths.groupby(COL_REGION)[dt_today].sum()\n",
    "# dfp_cases = dft_cases.groupby(COL_REGION)[dt_5day].sum()\n",
    "# dfp_deaths = dft_deaths.groupby(COL_REGION)[dt_5day].sum()\n",
    "dfp_cases = dft_cases.groupby(COL_REGION)[dt_yday].sum()\n",
    "dfp_deaths = dft_deaths.groupby(COL_REGION)[dt_yday].sum()"
   ]
  },
  {
   "cell_type": "code",
   "execution_count": 12,
   "id": "deluxe-hepatitis",
   "metadata": {
    "execution": {
     "iopub.execute_input": "2021-11-03T12:12:19.295762Z",
     "iopub.status.busy": "2021-11-03T12:12:19.295128Z",
     "iopub.status.idle": "2021-11-03T12:12:19.299897Z",
     "shell.execute_reply": "2021-11-03T12:12:19.300461Z"
    },
    "papermill": {
     "duration": 0.052089,
     "end_time": "2021-11-03T12:12:19.300604",
     "exception": false,
     "start_time": "2021-11-03T12:12:19.248515",
     "status": "completed"
    },
    "tags": []
   },
   "outputs": [],
   "source": [
    "#hide\n",
    "df_table = (pd.DataFrame(dict(Cases = dfc_cases, Deaths = dfc_deaths, PCases = dfp_cases, PDeaths = dfp_deaths))\n",
    "            .sort_values(by = ['Cases','Deaths'], ascending = [False, False])\n",
    "            .reset_index())"
   ]
  },
  {
   "cell_type": "code",
   "execution_count": 13,
   "id": "educational-chancellor",
   "metadata": {
    "execution": {
     "iopub.execute_input": "2021-11-03T12:12:19.405185Z",
     "iopub.status.busy": "2021-11-03T12:12:19.404423Z",
     "iopub.status.idle": "2021-11-03T12:12:19.415275Z",
     "shell.execute_reply": "2021-11-03T12:12:19.414725Z"
    },
    "papermill": {
     "duration": 0.077333,
     "end_time": "2021-11-03T12:12:19.415478",
     "exception": false,
     "start_time": "2021-11-03T12:12:19.338145",
     "status": "completed"
    },
    "tags": []
   },
   "outputs": [
    {
     "data": {
      "text/html": [
       "<div>\n",
       "<style scoped>\n",
       "    .dataframe tbody tr th:only-of-type {\n",
       "        vertical-align: middle;\n",
       "    }\n",
       "\n",
       "    .dataframe tbody tr th {\n",
       "        vertical-align: top;\n",
       "    }\n",
       "\n",
       "    .dataframe thead th {\n",
       "        text-align: right;\n",
       "    }\n",
       "</style>\n",
       "<table border=\"1\" class=\"dataframe\">\n",
       "  <thead>\n",
       "    <tr style=\"text-align: right;\">\n",
       "      <th></th>\n",
       "      <th>Country/Region</th>\n",
       "      <th>Cases</th>\n",
       "      <th>Deaths</th>\n",
       "      <th>PCases</th>\n",
       "      <th>PDeaths</th>\n",
       "      <th>Cases (+)</th>\n",
       "      <th>Deaths (+)</th>\n",
       "      <th>Fatality Rate</th>\n",
       "      <th>Continent</th>\n",
       "    </tr>\n",
       "  </thead>\n",
       "  <tbody>\n",
       "    <tr>\n",
       "      <th>0</th>\n",
       "      <td>US</td>\n",
       "      <td>46169012</td>\n",
       "      <td>748518</td>\n",
       "      <td>46096258</td>\n",
       "      <td>747057</td>\n",
       "      <td>72754</td>\n",
       "      <td>1461</td>\n",
       "      <td>1.62</td>\n",
       "      <td>North America</td>\n",
       "    </tr>\n",
       "    <tr>\n",
       "      <th>1</th>\n",
       "      <td>India</td>\n",
       "      <td>34308140</td>\n",
       "      <td>459191</td>\n",
       "      <td>34296237</td>\n",
       "      <td>458880</td>\n",
       "      <td>11903</td>\n",
       "      <td>311</td>\n",
       "      <td>1.34</td>\n",
       "      <td>Asia</td>\n",
       "    </tr>\n",
       "    <tr>\n",
       "      <th>2</th>\n",
       "      <td>Brazil</td>\n",
       "      <td>21821124</td>\n",
       "      <td>608071</td>\n",
       "      <td>21814693</td>\n",
       "      <td>607922</td>\n",
       "      <td>6431</td>\n",
       "      <td>149</td>\n",
       "      <td>2.79</td>\n",
       "      <td>South America</td>\n",
       "    </tr>\n",
       "    <tr>\n",
       "      <th>3</th>\n",
       "      <td>United Kingdom</td>\n",
       "      <td>9174153</td>\n",
       "      <td>141390</td>\n",
       "      <td>9140441</td>\n",
       "      <td>141098</td>\n",
       "      <td>33712</td>\n",
       "      <td>292</td>\n",
       "      <td>1.54</td>\n",
       "      <td>Europe</td>\n",
       "    </tr>\n",
       "    <tr>\n",
       "      <th>4</th>\n",
       "      <td>Russia</td>\n",
       "      <td>8455232</td>\n",
       "      <td>236462</td>\n",
       "      <td>8417305</td>\n",
       "      <td>235318</td>\n",
       "      <td>37927</td>\n",
       "      <td>1144</td>\n",
       "      <td>2.80</td>\n",
       "      <td>Europe</td>\n",
       "    </tr>\n",
       "  </tbody>\n",
       "</table>\n",
       "</div>"
      ],
      "text/plain": [
       "   Country/Region     Cases  Deaths    PCases  PDeaths  Cases (+)  Deaths (+)  \\\n",
       "0              US  46169012  748518  46096258   747057      72754        1461   \n",
       "1           India  34308140  459191  34296237   458880      11903         311   \n",
       "2          Brazil  21821124  608071  21814693   607922       6431         149   \n",
       "3  United Kingdom   9174153  141390   9140441   141098      33712         292   \n",
       "4          Russia   8455232  236462   8417305   235318      37927        1144   \n",
       "\n",
       "   Fatality Rate      Continent  \n",
       "0           1.62  North America  \n",
       "1           1.34           Asia  \n",
       "2           2.79  South America  \n",
       "3           1.54         Europe  \n",
       "4           2.80         Europe  "
      ]
     },
     "execution_count": 13,
     "metadata": {},
     "output_type": "execute_result"
    }
   ],
   "source": [
    "#hide\n",
    "for c in 'Cases, Deaths'.split(', '):\n",
    "    df_table[f'{c} (+)'] = (df_table[c] - df_table[f'P{c}']).clip(0)\n",
    "    #Clip ça veut dire, les chiffres negatif sont interdit\n",
    "df_table['Fatality Rate'] = (100* df_table['Deaths']/ df_table['Cases']).round(2)\n",
    "df_table['Continent'] = df_table['Country/Region'].map(mapping['map.continent'])\n",
    "df_table.head(5)"
   ]
  },
  {
   "cell_type": "code",
   "execution_count": 14,
   "id": "aboriginal-bulgaria",
   "metadata": {
    "execution": {
     "iopub.execute_input": "2021-11-03T12:12:19.516838Z",
     "iopub.status.busy": "2021-11-03T12:12:19.516047Z",
     "iopub.status.idle": "2021-11-03T12:12:19.518459Z",
     "shell.execute_reply": "2021-11-03T12:12:19.518979Z"
    },
    "papermill": {
     "duration": 0.055188,
     "end_time": "2021-11-03T12:12:19.519129",
     "exception": false,
     "start_time": "2021-11-03T12:12:19.463941",
     "status": "completed"
    },
    "tags": []
   },
   "outputs": [],
   "source": [
    "#hide\n",
    "#delete problematic countries from table\n",
    "df_table = df_table[~df_table['Country/Region'].isin(['Cape Verde', 'Cruise Ship', 'Kosovo'])]"
   ]
  },
  {
   "cell_type": "code",
   "execution_count": 15,
   "id": "fantastic-effect",
   "metadata": {
    "execution": {
     "iopub.execute_input": "2021-11-03T12:12:19.617368Z",
     "iopub.status.busy": "2021-11-03T12:12:19.616554Z",
     "iopub.status.idle": "2021-11-03T12:12:19.639628Z",
     "shell.execute_reply": "2021-11-03T12:12:19.639033Z"
    },
    "papermill": {
     "duration": 0.079245,
     "end_time": "2021-11-03T12:12:19.639784",
     "exception": false,
     "start_time": "2021-11-03T12:12:19.560539",
     "status": "completed"
    },
    "tags": []
   },
   "outputs": [
    {
     "data": {
      "text/html": [
       "<div>\n",
       "<style scoped>\n",
       "    .dataframe tbody tr th:only-of-type {\n",
       "        vertical-align: middle;\n",
       "    }\n",
       "\n",
       "    .dataframe tbody tr th {\n",
       "        vertical-align: top;\n",
       "    }\n",
       "\n",
       "    .dataframe thead th {\n",
       "        text-align: right;\n",
       "    }\n",
       "</style>\n",
       "<table border=\"1\" class=\"dataframe\">\n",
       "  <thead>\n",
       "    <tr style=\"text-align: right;\">\n",
       "      <th></th>\n",
       "      <th>Country/Region</th>\n",
       "      <th>Cases</th>\n",
       "      <th>Deaths</th>\n",
       "      <th>PCases</th>\n",
       "      <th>PDeaths</th>\n",
       "      <th>Cases (+)</th>\n",
       "      <th>Deaths (+)</th>\n",
       "      <th>Fatality Rate</th>\n",
       "      <th>Continent</th>\n",
       "    </tr>\n",
       "  </thead>\n",
       "  <tbody>\n",
       "    <tr>\n",
       "      <th>0</th>\n",
       "      <td>US</td>\n",
       "      <td>46169012</td>\n",
       "      <td>748518</td>\n",
       "      <td>46096258</td>\n",
       "      <td>747057</td>\n",
       "      <td>72754</td>\n",
       "      <td>1461</td>\n",
       "      <td>1.6</td>\n",
       "      <td>North America</td>\n",
       "    </tr>\n",
       "    <tr>\n",
       "      <th>1</th>\n",
       "      <td>India</td>\n",
       "      <td>34308140</td>\n",
       "      <td>459191</td>\n",
       "      <td>34296237</td>\n",
       "      <td>458880</td>\n",
       "      <td>11903</td>\n",
       "      <td>311</td>\n",
       "      <td>1.3</td>\n",
       "      <td>Asia</td>\n",
       "    </tr>\n",
       "    <tr>\n",
       "      <th>2</th>\n",
       "      <td>Brazil</td>\n",
       "      <td>21821124</td>\n",
       "      <td>608071</td>\n",
       "      <td>21814693</td>\n",
       "      <td>607922</td>\n",
       "      <td>6431</td>\n",
       "      <td>149</td>\n",
       "      <td>2.8</td>\n",
       "      <td>South America</td>\n",
       "    </tr>\n",
       "    <tr>\n",
       "      <th>3</th>\n",
       "      <td>United Kingdom</td>\n",
       "      <td>9174153</td>\n",
       "      <td>141390</td>\n",
       "      <td>9140441</td>\n",
       "      <td>141098</td>\n",
       "      <td>33712</td>\n",
       "      <td>292</td>\n",
       "      <td>1.5</td>\n",
       "      <td>Europe</td>\n",
       "    </tr>\n",
       "    <tr>\n",
       "      <th>4</th>\n",
       "      <td>Russia</td>\n",
       "      <td>8455232</td>\n",
       "      <td>236462</td>\n",
       "      <td>8417305</td>\n",
       "      <td>235318</td>\n",
       "      <td>37927</td>\n",
       "      <td>1144</td>\n",
       "      <td>2.8</td>\n",
       "      <td>Europe</td>\n",
       "    </tr>\n",
       "  </tbody>\n",
       "</table>\n",
       "</div>"
      ],
      "text/plain": [
       "   Country/Region     Cases  Deaths    PCases  PDeaths  Cases (+)  Deaths (+)  \\\n",
       "0              US  46169012  748518  46096258   747057      72754        1461   \n",
       "1           India  34308140  459191  34296237   458880      11903         311   \n",
       "2          Brazil  21821124  608071  21814693   607922       6431         149   \n",
       "3  United Kingdom   9174153  141390   9140441   141098      33712         292   \n",
       "4          Russia   8455232  236462   8417305   235318      37927        1144   \n",
       "\n",
       "   Fatality Rate      Continent  \n",
       "0            1.6  North America  \n",
       "1            1.3           Asia  \n",
       "2            2.8  South America  \n",
       "3            1.5         Europe  \n",
       "4            2.8         Europe  "
      ]
     },
     "execution_count": 15,
     "metadata": {},
     "output_type": "execute_result"
    }
   ],
   "source": [
    "#hide\n",
    "df_table = (pd.DataFrame(dict(Cases=dfc_cases, Deaths=dfc_deaths, PCases=dfp_cases, PDeaths=dfp_deaths))\n",
    "             .sort_values(by=['Cases', 'Deaths'], ascending=[False, False])\n",
    "             .reset_index())\n",
    "df_table.rename(columns={'index': 'Country/Region'}, inplace=True)\n",
    "for c in 'Cases, Deaths'.split(', '):\n",
    "    df_table[f'{c} (+)'] = (df_table[c] - df_table[f'P{c}']).clip(0)  # DATA BUG\n",
    "df_table['Fatality Rate'] = (100 * df_table['Deaths'] / df_table['Cases']).round(1)\n",
    "df_table['Continent'] = df_table['Country/Region'].map(mapping['map.continent'])\n",
    "df_table.head(5)"
   ]
  },
  {
   "cell_type": "code",
   "execution_count": 16,
   "id": "fewer-occasion",
   "metadata": {
    "execution": {
     "iopub.execute_input": "2021-11-03T12:12:19.732772Z",
     "iopub.status.busy": "2021-11-03T12:12:19.731993Z",
     "iopub.status.idle": "2021-11-03T12:12:19.734888Z",
     "shell.execute_reply": "2021-11-03T12:12:19.734201Z"
    },
    "papermill": {
     "duration": 0.052692,
     "end_time": "2021-11-03T12:12:19.735028",
     "exception": false,
     "start_time": "2021-11-03T12:12:19.682336",
     "status": "completed"
    },
    "tags": []
   },
   "outputs": [],
   "source": [
    "#hide\n",
    "#delete problematic countries from table\n",
    "df_table = df_table[~df_table['Country/Region'].isin(['Cape Verde', 'Cruise Ship', 'Kosovo'])]"
   ]
  },
  {
   "cell_type": "code",
   "execution_count": 17,
   "id": "related-center",
   "metadata": {
    "execution": {
     "iopub.execute_input": "2021-11-03T12:12:19.847728Z",
     "iopub.status.busy": "2021-11-03T12:12:19.844543Z",
     "iopub.status.idle": "2021-11-03T12:12:19.854136Z",
     "shell.execute_reply": "2021-11-03T12:12:19.854729Z"
    },
    "papermill": {
     "duration": 0.072847,
     "end_time": "2021-11-03T12:12:19.854923",
     "exception": false,
     "start_time": "2021-11-03T12:12:19.782076",
     "status": "completed"
    },
    "tags": []
   },
   "outputs": [],
   "source": [
    "#hide\n",
    "metrics = [df_table.columns[index] for index in [1,2,5,6]]\n",
    "# s_china = df_table[df_table['Country/Region'].eq('China')][metrics].sum().add_prefix('China ')\n",
    "s_us = df_table[df_table['Country/Region'].eq('US')][metrics].sum().add_prefix('US ')\n",
    "s_eu = df_table[df_table['Continent'].eq('Europe')][metrics].sum().add_prefix('EU ')\n",
    "s_ind = df_table[df_table['Country/Region'].eq('India')][metrics].sum().add_prefix('India ')\n",
    "summary = {'updated': pd.to_datetime(dt_today), 'since': pd.to_datetime(dt_yday)}\n",
    "summary = {'updated': pd.to_datetime(dt_today), 'since': pd.to_datetime(dt_yday)}\n",
    "summary = {**summary, **df_table[metrics].sum(), **s_ind, **s_us, **s_eu}"
   ]
  },
  {
   "cell_type": "code",
   "execution_count": 18,
   "id": "engaging-syndrome",
   "metadata": {
    "execution": {
     "iopub.execute_input": "2021-11-03T12:12:19.947356Z",
     "iopub.status.busy": "2021-11-03T12:12:19.946711Z",
     "iopub.status.idle": "2021-11-03T12:12:19.963519Z",
     "shell.execute_reply": "2021-11-03T12:12:19.963981Z"
    },
    "papermill": {
     "duration": 0.062392,
     "end_time": "2021-11-03T12:12:19.964147",
     "exception": false,
     "start_time": "2021-11-03T12:12:19.901755",
     "status": "completed"
    },
    "tags": []
   },
   "outputs": [],
   "source": [
    "#hide\n",
    "dft_ct_new_cases = dft_cases.groupby(COL_REGION)[dt_cols].sum().diff(axis=1).fillna(0).astype(int)"
   ]
  },
  {
   "cell_type": "code",
   "execution_count": 19,
   "id": "neutral-assignment",
   "metadata": {
    "execution": {
     "iopub.execute_input": "2021-11-03T12:12:20.052262Z",
     "iopub.status.busy": "2021-11-03T12:12:20.051263Z",
     "iopub.status.idle": "2021-11-03T12:12:20.055720Z",
     "shell.execute_reply": "2021-11-03T12:12:20.056262Z"
    },
    "papermill": {
     "duration": 0.051615,
     "end_time": "2021-11-03T12:12:20.056426",
     "exception": false,
     "start_time": "2021-11-03T12:12:20.004811",
     "status": "completed"
    },
    "tags": []
   },
   "outputs": [],
   "source": [
    "#hide\n",
    "everydaycases = dft_ct_new_cases.cumsum(axis=1)"
   ]
  },
  {
   "cell_type": "code",
   "execution_count": 20,
   "id": "parliamentary-calgary",
   "metadata": {
    "execution": {
     "iopub.execute_input": "2021-11-03T12:12:20.154796Z",
     "iopub.status.busy": "2021-11-03T12:12:20.152797Z",
     "iopub.status.idle": "2021-11-03T12:12:20.957873Z",
     "shell.execute_reply": "2021-11-03T12:12:20.957281Z"
    },
    "papermill": {
     "duration": 0.853014,
     "end_time": "2021-11-03T12:12:20.958030",
     "exception": false,
     "start_time": "2021-11-03T12:12:20.105016",
     "status": "completed"
    },
    "tags": []
   },
   "outputs": [],
   "source": [
    "#hide\n",
    "import pandas as pd\n",
    "import matplotlib.pyplot as plt\n",
    "import matplotlib.ticker as ticker\n",
    "import matplotlib.animation as animation\n",
    "from IPython.display import HTML"
   ]
  },
  {
   "cell_type": "code",
   "execution_count": 21,
   "id": "lasting-extraction",
   "metadata": {
    "execution": {
     "iopub.execute_input": "2021-11-03T12:12:21.054094Z",
     "iopub.status.busy": "2021-11-03T12:12:21.053382Z",
     "iopub.status.idle": "2021-11-03T12:12:21.060964Z",
     "shell.execute_reply": "2021-11-03T12:12:21.060162Z"
    },
    "papermill": {
     "duration": 0.059602,
     "end_time": "2021-11-03T12:12:21.061312",
     "exception": false,
     "start_time": "2021-11-03T12:12:21.001710",
     "status": "completed"
    },
    "tags": []
   },
   "outputs": [],
   "source": [
    "#hide\n",
    "t = everydaycases.stack()"
   ]
  },
  {
   "cell_type": "code",
   "execution_count": 22,
   "id": "premier-sleeve",
   "metadata": {
    "execution": {
     "iopub.execute_input": "2021-11-03T12:12:21.152740Z",
     "iopub.status.busy": "2021-11-03T12:12:21.151835Z",
     "iopub.status.idle": "2021-11-03T12:12:21.163381Z",
     "shell.execute_reply": "2021-11-03T12:12:21.163922Z"
    },
    "papermill": {
     "duration": 0.059049,
     "end_time": "2021-11-03T12:12:21.164085",
     "exception": false,
     "start_time": "2021-11-03T12:12:21.105036",
     "status": "completed"
    },
    "tags": []
   },
   "outputs": [],
   "source": [
    "#hide\n",
    "g = t.reset_index(['Country/Region'])"
   ]
  },
  {
   "cell_type": "code",
   "execution_count": 23,
   "id": "distributed-pittsburgh",
   "metadata": {
    "execution": {
     "iopub.execute_input": "2021-11-03T12:12:21.253261Z",
     "iopub.status.busy": "2021-11-03T12:12:21.252604Z",
     "iopub.status.idle": "2021-11-03T12:12:21.254961Z",
     "shell.execute_reply": "2021-11-03T12:12:21.255418Z"
    },
    "papermill": {
     "duration": 0.048815,
     "end_time": "2021-11-03T12:12:21.255568",
     "exception": false,
     "start_time": "2021-11-03T12:12:21.206753",
     "status": "completed"
    },
    "tags": []
   },
   "outputs": [],
   "source": [
    "#hide\n",
    "g.index.name = 'date'"
   ]
  },
  {
   "cell_type": "code",
   "execution_count": 24,
   "id": "naked-donor",
   "metadata": {
    "execution": {
     "iopub.execute_input": "2021-11-03T12:12:21.345634Z",
     "iopub.status.busy": "2021-11-03T12:12:21.344748Z",
     "iopub.status.idle": "2021-11-03T12:12:21.348346Z",
     "shell.execute_reply": "2021-11-03T12:12:21.348979Z"
    },
    "papermill": {
     "duration": 0.052989,
     "end_time": "2021-11-03T12:12:21.349165",
     "exception": false,
     "start_time": "2021-11-03T12:12:21.296176",
     "status": "completed"
    },
    "tags": []
   },
   "outputs": [],
   "source": [
    "# #hide\n",
    "# g = g.reset_index(['date'])"
   ]
  },
  {
   "cell_type": "code",
   "execution_count": 25,
   "id": "incomplete-mustang",
   "metadata": {
    "execution": {
     "iopub.execute_input": "2021-11-03T12:12:21.440427Z",
     "iopub.status.busy": "2021-11-03T12:12:21.439502Z",
     "iopub.status.idle": "2021-11-03T12:12:21.446811Z",
     "shell.execute_reply": "2021-11-03T12:12:21.447325Z"
    },
    "papermill": {
     "duration": 0.056449,
     "end_time": "2021-11-03T12:12:21.447501",
     "exception": false,
     "start_time": "2021-11-03T12:12:21.391052",
     "status": "completed"
    },
    "tags": []
   },
   "outputs": [],
   "source": [
    "#hide\n",
    "# g.head()"
   ]
  },
  {
   "cell_type": "code",
   "execution_count": 26,
   "id": "specific-kruger",
   "metadata": {
    "execution": {
     "iopub.execute_input": "2021-11-03T12:12:21.546989Z",
     "iopub.status.busy": "2021-11-03T12:12:21.546186Z",
     "iopub.status.idle": "2021-11-03T12:12:21.550476Z",
     "shell.execute_reply": "2021-11-03T12:12:21.550957Z"
    },
    "papermill": {
     "duration": 0.052498,
     "end_time": "2021-11-03T12:12:21.551104",
     "exception": false,
     "start_time": "2021-11-03T12:12:21.498606",
     "status": "completed"
    },
    "tags": []
   },
   "outputs": [],
   "source": [
    "#hide\n",
    "# g.columns = ['date','country','cases']"
   ]
  },
  {
   "cell_type": "code",
   "execution_count": 27,
   "id": "tender-conversion",
   "metadata": {
    "execution": {
     "iopub.execute_input": "2021-11-03T12:12:21.633290Z",
     "iopub.status.busy": "2021-11-03T12:12:21.632631Z",
     "iopub.status.idle": "2021-11-03T12:12:21.635792Z",
     "shell.execute_reply": "2021-11-03T12:12:21.635293Z"
    },
    "papermill": {
     "duration": 0.046353,
     "end_time": "2021-11-03T12:12:21.635917",
     "exception": false,
     "start_time": "2021-11-03T12:12:21.589564",
     "status": "completed"
    },
    "tags": []
   },
   "outputs": [],
   "source": [
    "#hide\n",
    "# g['continent'] = g.country"
   ]
  },
  {
   "cell_type": "code",
   "execution_count": 28,
   "id": "substantial-wilderness",
   "metadata": {
    "execution": {
     "iopub.execute_input": "2021-11-03T12:12:21.725627Z",
     "iopub.status.busy": "2021-11-03T12:12:21.724947Z",
     "iopub.status.idle": "2021-11-03T12:12:21.727680Z",
     "shell.execute_reply": "2021-11-03T12:12:21.726907Z"
    },
    "papermill": {
     "duration": 0.050188,
     "end_time": "2021-11-03T12:12:21.727808",
     "exception": false,
     "start_time": "2021-11-03T12:12:21.677620",
     "status": "completed"
    },
    "tags": []
   },
   "outputs": [],
   "source": [
    "#hide\n",
    "# cols = list(g.columns.values)"
   ]
  },
  {
   "cell_type": "code",
   "execution_count": 29,
   "id": "solved-farming",
   "metadata": {
    "execution": {
     "iopub.execute_input": "2021-11-03T12:12:21.816027Z",
     "iopub.status.busy": "2021-11-03T12:12:21.815274Z",
     "iopub.status.idle": "2021-11-03T12:12:21.819912Z",
     "shell.execute_reply": "2021-11-03T12:12:21.819387Z"
    },
    "papermill": {
     "duration": 0.049463,
     "end_time": "2021-11-03T12:12:21.820047",
     "exception": false,
     "start_time": "2021-11-03T12:12:21.770584",
     "status": "completed"
    },
    "tags": []
   },
   "outputs": [],
   "source": [
    "#hide\n",
    "# cols.insert(0, cols.pop())"
   ]
  },
  {
   "cell_type": "code",
   "execution_count": 30,
   "id": "executed-adoption",
   "metadata": {
    "execution": {
     "iopub.execute_input": "2021-11-03T12:12:21.905395Z",
     "iopub.status.busy": "2021-11-03T12:12:21.904657Z",
     "iopub.status.idle": "2021-11-03T12:12:21.908652Z",
     "shell.execute_reply": "2021-11-03T12:12:21.908174Z"
    },
    "papermill": {
     "duration": 0.046083,
     "end_time": "2021-11-03T12:12:21.908769",
     "exception": false,
     "start_time": "2021-11-03T12:12:21.862686",
     "status": "completed"
    },
    "tags": []
   },
   "outputs": [],
   "source": [
    "#hide\n",
    "# g = g[cols]"
   ]
  },
  {
   "cell_type": "code",
   "execution_count": 31,
   "id": "subject-dublin",
   "metadata": {
    "execution": {
     "iopub.execute_input": "2021-11-03T12:12:22.002685Z",
     "iopub.status.busy": "2021-11-03T12:12:22.001888Z",
     "iopub.status.idle": "2021-11-03T12:12:22.006311Z",
     "shell.execute_reply": "2021-11-03T12:12:22.005459Z"
    },
    "papermill": {
     "duration": 0.051582,
     "end_time": "2021-11-03T12:12:22.006457",
     "exception": false,
     "start_time": "2021-11-03T12:12:21.954875",
     "status": "completed"
    },
    "tags": []
   },
   "outputs": [],
   "source": [
    "#hide\n",
    "# g['continent'] = g['continent'].map(mapping['map.continent'])"
   ]
  },
  {
   "cell_type": "code",
   "execution_count": 32,
   "id": "freelance-scout",
   "metadata": {
    "execution": {
     "iopub.execute_input": "2021-11-03T12:12:22.099802Z",
     "iopub.status.busy": "2021-11-03T12:12:22.099155Z",
     "iopub.status.idle": "2021-11-03T12:12:22.101429Z",
     "shell.execute_reply": "2021-11-03T12:12:22.101943Z"
    },
    "papermill": {
     "duration": 0.049596,
     "end_time": "2021-11-03T12:12:22.102093",
     "exception": false,
     "start_time": "2021-11-03T12:12:22.052497",
     "status": "completed"
    },
    "tags": []
   },
   "outputs": [],
   "source": [
    "#hide\n",
    "# g.head()"
   ]
  },
  {
   "cell_type": "code",
   "execution_count": 33,
   "id": "limited-engine",
   "metadata": {
    "execution": {
     "iopub.execute_input": "2021-11-03T12:12:22.191736Z",
     "iopub.status.busy": "2021-11-03T12:12:22.190990Z",
     "iopub.status.idle": "2021-11-03T12:12:22.193623Z",
     "shell.execute_reply": "2021-11-03T12:12:22.192964Z"
    },
    "papermill": {
     "duration": 0.04773,
     "end_time": "2021-11-03T12:12:22.193752",
     "exception": false,
     "start_time": "2021-11-03T12:12:22.146022",
     "status": "completed"
    },
    "tags": []
   },
   "outputs": [],
   "source": [
    "# hide\n",
    "# g['date'] = g['date'].astype('datetime64[ns]')"
   ]
  },
  {
   "cell_type": "code",
   "execution_count": 34,
   "id": "sophisticated-supervisor",
   "metadata": {
    "execution": {
     "iopub.execute_input": "2021-11-03T12:12:22.279573Z",
     "iopub.status.busy": "2021-11-03T12:12:22.278835Z",
     "iopub.status.idle": "2021-11-03T12:12:22.284253Z",
     "shell.execute_reply": "2021-11-03T12:12:22.283571Z"
    },
    "papermill": {
     "duration": 0.049619,
     "end_time": "2021-11-03T12:12:22.284427",
     "exception": false,
     "start_time": "2021-11-03T12:12:22.234808",
     "status": "completed"
    },
    "tags": []
   },
   "outputs": [],
   "source": [
    "#hide\n",
    "# g['date'] = g.date.dt.dayofyear"
   ]
  },
  {
   "cell_type": "code",
   "execution_count": 35,
   "id": "inside-dubai",
   "metadata": {
    "execution": {
     "iopub.execute_input": "2021-11-03T12:12:22.378395Z",
     "iopub.status.busy": "2021-11-03T12:12:22.377669Z",
     "iopub.status.idle": "2021-11-03T12:12:22.380420Z",
     "shell.execute_reply": "2021-11-03T12:12:22.379594Z"
    },
    "papermill": {
     "duration": 0.051295,
     "end_time": "2021-11-03T12:12:22.380604",
     "exception": false,
     "start_time": "2021-11-03T12:12:22.329309",
     "status": "completed"
    },
    "tags": []
   },
   "outputs": [],
   "source": [
    "#hide\n",
    "# g = g.rename(columns= {'continent':'group','country':'name','cases':'value'})"
   ]
  },
  {
   "cell_type": "code",
   "execution_count": 36,
   "id": "fleet-motorcycle",
   "metadata": {
    "execution": {
     "iopub.execute_input": "2021-11-03T12:12:22.475803Z",
     "iopub.status.busy": "2021-11-03T12:12:22.475167Z",
     "iopub.status.idle": "2021-11-03T12:12:22.479046Z",
     "shell.execute_reply": "2021-11-03T12:12:22.479535Z"
    },
    "papermill": {
     "duration": 0.056261,
     "end_time": "2021-11-03T12:12:22.479677",
     "exception": false,
     "start_time": "2021-11-03T12:12:22.423416",
     "status": "completed"
    },
    "tags": []
   },
   "outputs": [],
   "source": [
    "#hide\n",
    "# cols = ['name','group','day','value']"
   ]
  },
  {
   "cell_type": "code",
   "execution_count": 37,
   "id": "continued-sleeping",
   "metadata": {
    "execution": {
     "iopub.execute_input": "2021-11-03T12:12:22.572768Z",
     "iopub.status.busy": "2021-11-03T12:12:22.572099Z",
     "iopub.status.idle": "2021-11-03T12:12:22.574194Z",
     "shell.execute_reply": "2021-11-03T12:12:22.573562Z"
    },
    "papermill": {
     "duration": 0.051545,
     "end_time": "2021-11-03T12:12:22.574327",
     "exception": false,
     "start_time": "2021-11-03T12:12:22.522782",
     "status": "completed"
    },
    "tags": []
   },
   "outputs": [],
   "source": [
    "#hide\n",
    "# g.rename(columns= {'date':'day'},inplace = True)"
   ]
  },
  {
   "cell_type": "code",
   "execution_count": 38,
   "id": "major-fight",
   "metadata": {
    "execution": {
     "iopub.execute_input": "2021-11-03T12:12:22.664358Z",
     "iopub.status.busy": "2021-11-03T12:12:22.663697Z",
     "iopub.status.idle": "2021-11-03T12:12:22.668180Z",
     "shell.execute_reply": "2021-11-03T12:12:22.667620Z"
    },
    "papermill": {
     "duration": 0.051524,
     "end_time": "2021-11-03T12:12:22.668318",
     "exception": false,
     "start_time": "2021-11-03T12:12:22.616794",
     "status": "completed"
    },
    "tags": []
   },
   "outputs": [],
   "source": [
    "#hide\n",
    "# g = g[cols]"
   ]
  },
  {
   "cell_type": "code",
   "execution_count": 39,
   "id": "structured-mobile",
   "metadata": {
    "execution": {
     "iopub.execute_input": "2021-11-03T12:12:22.758358Z",
     "iopub.status.busy": "2021-11-03T12:12:22.757627Z",
     "iopub.status.idle": "2021-11-03T12:12:22.759849Z",
     "shell.execute_reply": "2021-11-03T12:12:22.759185Z"
    },
    "papermill": {
     "duration": 0.051209,
     "end_time": "2021-11-03T12:12:22.759982",
     "exception": false,
     "start_time": "2021-11-03T12:12:22.708773",
     "status": "completed"
    },
    "tags": []
   },
   "outputs": [],
   "source": [
    "# #hide\n",
    "# g = g[g.group.notna()]"
   ]
  },
  {
   "cell_type": "code",
   "execution_count": 40,
   "id": "determined-closing",
   "metadata": {
    "execution": {
     "iopub.execute_input": "2021-11-03T12:12:22.847766Z",
     "iopub.status.busy": "2021-11-03T12:12:22.847167Z",
     "iopub.status.idle": "2021-11-03T12:12:22.849420Z",
     "shell.execute_reply": "2021-11-03T12:12:22.848716Z"
    },
    "papermill": {
     "duration": 0.046806,
     "end_time": "2021-11-03T12:12:22.849581",
     "exception": false,
     "start_time": "2021-11-03T12:12:22.802775",
     "status": "completed"
    },
    "tags": []
   },
   "outputs": [],
   "source": [
    "# #hide\n",
    "# colors = dict(zip(\n",
    "#     [\"Oceania\", \"Europe\", \"Asia\", \"South America\", \"Middle East\", \"North America\", \"Africa\"],\n",
    "#     [\"#adb0ff\", \"#ffb3ff\", \"#90d595\", \"#e48381\", \"#aafbff\", \"#f7bb5f\", \"#eafb50\"]\n",
    "# ))\n",
    "# group_lk = g.set_index('name')['group'].to_dict()"
   ]
  },
  {
   "cell_type": "code",
   "execution_count": null,
   "id": "gross-drinking",
   "metadata": {
    "papermill": {
     "duration": 0.041931,
     "end_time": "2021-11-03T12:12:22.929176",
     "exception": false,
     "start_time": "2021-11-03T12:12:22.887245",
     "status": "completed"
    },
    "tags": []
   },
   "outputs": [],
   "source": []
  },
  {
   "cell_type": "code",
   "execution_count": 41,
   "id": "subject-macintosh",
   "metadata": {
    "execution": {
     "iopub.execute_input": "2021-11-03T12:12:23.026865Z",
     "iopub.status.busy": "2021-11-03T12:12:23.026166Z",
     "iopub.status.idle": "2021-11-03T12:12:23.029778Z",
     "shell.execute_reply": "2021-11-03T12:12:23.030222Z"
    },
    "papermill": {
     "duration": 0.051008,
     "end_time": "2021-11-03T12:12:23.030358",
     "exception": false,
     "start_time": "2021-11-03T12:12:22.979350",
     "status": "completed"
    },
    "tags": []
   },
   "outputs": [],
   "source": [
    "# #hide\n",
    "# fig, ax = plt.subplots(figsize=(15, 8))\n",
    "\n",
    "# def draw_barchart(current_day):\n",
    "#     dff = g[g['day'].eq(current_day)].sort_values(by='value', ascending=True).tail(10)\n",
    "#     ax.clear()\n",
    "#     ax.barh(dff['name'], dff['value'], color=[colors[group_lk[x]] for x in dff['name']])\n",
    "#     dx = dff['value'].max() / 200\n",
    "    \n",
    "#     for i, (value, name) in enumerate(zip(dff['value'], dff['name'])):\n",
    "#         ax.text(value-dx, i,     name,           size=14, weight=600, ha='right', va='bottom')\n",
    "#         ax.text(value-dx, i-.25, group_lk[name], size=10, color='#444444', ha='right', va='baseline')\n",
    "#         ax.text(value+dx, i,     f'{value:,.0f}',  size=14, ha='left',  va='center')\n",
    "#     ax.text(1, 0.4, current_day, transform=ax.transAxes, color='#777777', size=46, ha='right', weight=800)\n",
    "#     ax.text(0, 1.06, 'Population (thousands)', transform=ax.transAxes, size=12, color='#777777')\n",
    "#     ax.xaxis.set_major_formatter(ticker.StrMethodFormatter('{x:,.0f}'))\n",
    "#     ax.xaxis.set_ticks_position('top')\n",
    "#     ax.tick_params(axis='x', colors='#777777', labelsize=12)\n",
    "#     ax.set_yticks([])\n",
    "#     ax.margins(0, 0.01)\n",
    "#     ax.grid(which='major', axis='x', linestyle='-')\n",
    "#     ax.set_axisbelow(True)\n",
    "    \n",
    "#     ax.text(0, 1.15, 'Coronavirus',\n",
    "#             transform=ax.transAxes, size=24, weight=600, ha='left', va='top')\n",
    "# #     ax.text(1, 0, 'by @pratapvardhan; credit @jburnmurdoch', transform=ax.transAxes, color='#777777', ha='right',\n",
    "# #             bbox=dict(facecolor='white', alpha=0.8, edgecolor='white'))\n",
    "#     plt.box(False)"
   ]
  },
  {
   "cell_type": "code",
   "execution_count": 42,
   "id": "sexual-wages",
   "metadata": {
    "execution": {
     "iopub.execute_input": "2021-11-03T12:12:23.127336Z",
     "iopub.status.busy": "2021-11-03T12:12:23.126512Z",
     "iopub.status.idle": "2021-11-03T12:12:23.129637Z",
     "shell.execute_reply": "2021-11-03T12:12:23.128960Z"
    },
    "papermill": {
     "duration": 0.049991,
     "end_time": "2021-11-03T12:12:23.129770",
     "exception": false,
     "start_time": "2021-11-03T12:12:23.079779",
     "status": "completed"
    },
    "tags": []
   },
   "outputs": [],
   "source": [
    "# #hide_input\n",
    "# fig, ax = plt.subplots(figsize=(15, 8))\n",
    "# animator = animation.FuncAnimation(fig, draw_barchart, frames=range(g.day.values.min(), g.day.values.max()))\n",
    "# HTML(animator.to_jshtml())\n",
    "# # or use animator.to_html5_video() or animator.save() "
   ]
  },
  {
   "cell_type": "code",
   "execution_count": null,
   "id": "australian-container",
   "metadata": {
    "papermill": {
     "duration": 0.038072,
     "end_time": "2021-11-03T12:12:23.210517",
     "exception": false,
     "start_time": "2021-11-03T12:12:23.172445",
     "status": "completed"
    },
    "tags": []
   },
   "outputs": [],
   "source": []
  },
  {
   "cell_type": "code",
   "execution_count": null,
   "id": "mediterranean-pontiac",
   "metadata": {
    "papermill": {
     "duration": 0.041753,
     "end_time": "2021-11-03T12:12:23.295478",
     "exception": false,
     "start_time": "2021-11-03T12:12:23.253725",
     "status": "completed"
    },
    "tags": []
   },
   "outputs": [],
   "source": []
  },
  {
   "cell_type": "code",
   "execution_count": null,
   "id": "aging-legislature",
   "metadata": {
    "papermill": {
     "duration": 0.044038,
     "end_time": "2021-11-03T12:12:23.381588",
     "exception": false,
     "start_time": "2021-11-03T12:12:23.337550",
     "status": "completed"
    },
    "tags": []
   },
   "outputs": [],
   "source": []
  }
 ],
 "metadata": {
  "kernelspec": {
   "display_name": "Python 3",
   "language": "python",
   "name": "python3"
  },
  "language_info": {
   "codemirror_mode": {
    "name": "ipython",
    "version": 3
   },
   "file_extension": ".py",
   "mimetype": "text/x-python",
   "name": "python",
   "nbconvert_exporter": "python",
   "pygments_lexer": "ipython3",
   "version": "3.6.15"
  },
  "papermill": {
   "duration": 8.199981,
   "end_time": "2021-11-03T12:12:23.842551",
   "environment_variables": {},
   "exception": null,
   "input_path": "2020-03-21-covid19exp.ipynb",
   "output_path": "2020-03-21-covid19exp.ipynb",
   "parameters": {},
   "start_time": "2021-11-03T12:12:15.642570",
   "version": "2.0.0"
  }
 },
 "nbformat": 4,
 "nbformat_minor": 5
}