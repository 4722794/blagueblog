{
 "cells": [
  {
   "cell_type": "markdown",
   "id": "muslim-click",
   "metadata": {
    "papermill": {
     "duration": 0.04279,
     "end_time": "2021-03-17T12:07:14.359720",
     "exception": false,
     "start_time": "2021-03-17T12:07:14.316930",
     "status": "completed"
    },
    "tags": []
   },
   "source": [
    "# COVID-19 Case Race\n",
    "> A race chart to see rising cases around the world\n",
    "\n",
    "- author: Hargun Oberoi\n",
    "- image: images/covid-overview.png\n",
    "- hide: false\n",
    "- badges: false"
   ]
  },
  {
   "cell_type": "code",
   "execution_count": 1,
   "id": "proof-material",
   "metadata": {
    "execution": {
     "iopub.execute_input": "2021-03-17T12:07:14.445343Z",
     "iopub.status.busy": "2021-03-17T12:07:14.444657Z",
     "iopub.status.idle": "2021-03-17T12:07:14.822633Z",
     "shell.execute_reply": "2021-03-17T12:07:14.823186Z"
    },
    "papermill": {
     "duration": 0.427785,
     "end_time": "2021-03-17T12:07:14.823540",
     "exception": false,
     "start_time": "2021-03-17T12:07:14.395755",
     "status": "completed"
    },
    "tags": []
   },
   "outputs": [],
   "source": [
    "#hide\n",
    "import numpy as np\n",
    "import pandas as pd\n",
    "from jinja2 import Template\n",
    "from IPython.display import HTML"
   ]
  },
  {
   "cell_type": "code",
   "execution_count": 2,
   "id": "developed-terminology",
   "metadata": {
    "execution": {
     "iopub.execute_input": "2021-03-17T12:07:14.909463Z",
     "iopub.status.busy": "2021-03-17T12:07:14.908810Z",
     "iopub.status.idle": "2021-03-17T12:07:14.911128Z",
     "shell.execute_reply": "2021-03-17T12:07:14.911655Z"
    },
    "papermill": {
     "duration": 0.046386,
     "end_time": "2021-03-17T12:07:14.911820",
     "exception": false,
     "start_time": "2021-03-17T12:07:14.865434",
     "status": "completed"
    },
    "tags": []
   },
   "outputs": [],
   "source": [
    "#hide\n",
    "\n",
    "# FETCH\n",
    "base_url = 'https://raw.githubusercontent.com/pratapvardhan/notebooks/master/covid19/'\n",
    "paths = {\n",
    "    'mapping': base_url + 'mapping_countries.csv',\n",
    "    'overview': base_url + 'overview.tpl'\n",
    "}"
   ]
  },
  {
   "cell_type": "code",
   "execution_count": 3,
   "id": "dynamic-saver",
   "metadata": {
    "execution": {
     "iopub.execute_input": "2021-03-17T12:07:14.994173Z",
     "iopub.status.busy": "2021-03-17T12:07:14.993511Z",
     "iopub.status.idle": "2021-03-17T12:07:14.996000Z",
     "shell.execute_reply": "2021-03-17T12:07:14.996642Z"
    },
    "papermill": {
     "duration": 0.048722,
     "end_time": "2021-03-17T12:07:14.996816",
     "exception": false,
     "start_time": "2021-03-17T12:07:14.948094",
     "status": "completed"
    },
    "tags": []
   },
   "outputs": [
    {
     "data": {
      "text/plain": [
       "'https://raw.githubusercontent.com/pratapvardhan/notebooks/master/covid19/mapping_countries.csv'"
      ]
     },
     "execution_count": 3,
     "metadata": {},
     "output_type": "execute_result"
    }
   ],
   "source": [
    "#hide\n",
    "paths['mapping']"
   ]
  },
  {
   "cell_type": "code",
   "execution_count": 4,
   "id": "urban-software",
   "metadata": {
    "execution": {
     "iopub.execute_input": "2021-03-17T12:07:15.076888Z",
     "iopub.status.busy": "2021-03-17T12:07:15.076254Z",
     "iopub.status.idle": "2021-03-17T12:07:15.078086Z",
     "shell.execute_reply": "2021-03-17T12:07:15.078647Z"
    },
    "papermill": {
     "duration": 0.045271,
     "end_time": "2021-03-17T12:07:15.078815",
     "exception": false,
     "start_time": "2021-03-17T12:07:15.033544",
     "status": "completed"
    },
    "tags": []
   },
   "outputs": [],
   "source": [
    "#hide\n",
    "def get_mappings(url):\n",
    "    df = pd.read_csv(url)\n",
    "    return {\n",
    "        'df': df,\n",
    "        'replace.country': dict(df.dropna(subset=['Name']).set_index('Country')['Name']),\n",
    "        'map.continent': dict(df.set_index('Name')['Continent'])\n",
    "    }"
   ]
  },
  {
   "cell_type": "code",
   "execution_count": 5,
   "id": "intimate-machinery",
   "metadata": {
    "execution": {
     "iopub.execute_input": "2021-03-17T12:07:15.158158Z",
     "iopub.status.busy": "2021-03-17T12:07:15.157503Z",
     "iopub.status.idle": "2021-03-17T12:07:15.245696Z",
     "shell.execute_reply": "2021-03-17T12:07:15.246272Z"
    },
    "papermill": {
     "duration": 0.131425,
     "end_time": "2021-03-17T12:07:15.246492",
     "exception": false,
     "start_time": "2021-03-17T12:07:15.115067",
     "status": "completed"
    },
    "tags": []
   },
   "outputs": [],
   "source": [
    "#hide\n",
    "mapping = get_mappings(paths['mapping'])"
   ]
  },
  {
   "cell_type": "code",
   "execution_count": 6,
   "id": "certified-tactics",
   "metadata": {
    "execution": {
     "iopub.execute_input": "2021-03-17T12:07:15.324371Z",
     "iopub.status.busy": "2021-03-17T12:07:15.323704Z",
     "iopub.status.idle": "2021-03-17T12:07:15.325604Z",
     "shell.execute_reply": "2021-03-17T12:07:15.326138Z"
    },
    "papermill": {
     "duration": 0.043715,
     "end_time": "2021-03-17T12:07:15.326287",
     "exception": false,
     "start_time": "2021-03-17T12:07:15.282572",
     "status": "completed"
    },
    "tags": []
   },
   "outputs": [],
   "source": [
    "#hide\n",
    "def get_template(path):\n",
    "    from urllib.parse import urlparse\n",
    "    if bool(urlparse(path).netloc):\n",
    "        from urllib.request import urlopen\n",
    "        return urlopen(path).read().decode('utf8')\n",
    "    return open(path).read()"
   ]
  },
  {
   "cell_type": "code",
   "execution_count": 7,
   "id": "realistic-blast",
   "metadata": {
    "execution": {
     "iopub.execute_input": "2021-03-17T12:07:15.407610Z",
     "iopub.status.busy": "2021-03-17T12:07:15.406933Z",
     "iopub.status.idle": "2021-03-17T12:07:15.408730Z",
     "shell.execute_reply": "2021-03-17T12:07:15.409355Z"
    },
    "papermill": {
     "duration": 0.044918,
     "end_time": "2021-03-17T12:07:15.409516",
     "exception": false,
     "start_time": "2021-03-17T12:07:15.364598",
     "status": "completed"
    },
    "tags": []
   },
   "outputs": [],
   "source": [
    "#hide\n",
    "def get_frame(name):\n",
    "    url = (\n",
    "        'https://raw.githubusercontent.com/CSSEGISandData/COVID-19/master/csse_covid_19_data/'\n",
    "        f'csse_covid_19_time_series/time_series_covid19_{name}_global.csv')\n",
    "    df = pd.read_csv(url)\n",
    "    # rename countries\n",
    "    df['Country/Region'] = df['Country/Region'].replace(mapping['replace.country'])\n",
    "    return df"
   ]
  },
  {
   "cell_type": "code",
   "execution_count": 8,
   "id": "affiliated-characterization",
   "metadata": {
    "execution": {
     "iopub.execute_input": "2021-03-17T12:07:15.490905Z",
     "iopub.status.busy": "2021-03-17T12:07:15.490255Z",
     "iopub.status.idle": "2021-03-17T12:07:15.492066Z",
     "shell.execute_reply": "2021-03-17T12:07:15.492677Z"
    },
    "papermill": {
     "duration": 0.046121,
     "end_time": "2021-03-17T12:07:15.492841",
     "exception": false,
     "start_time": "2021-03-17T12:07:15.446720",
     "status": "completed"
    },
    "tags": []
   },
   "outputs": [],
   "source": [
    "#hide\n",
    "def get_dates(df):\n",
    "    dt_cols = df.columns[~df.columns.isin(['Province/State', 'Country/Region', 'Lat', 'Long'])]\n",
    "    LAST_DATE_I = -1\n",
    "    # sometimes last column may be empty, then go backwards\n",
    "    for i in range(-1, -len(dt_cols), -1):\n",
    "        if not df[dt_cols[i]].fillna(0).eq(0).all():\n",
    "            LAST_DATE_I = i\n",
    "            break\n",
    "    return LAST_DATE_I, dt_cols"
   ]
  },
  {
   "cell_type": "code",
   "execution_count": 9,
   "id": "recent-optimization",
   "metadata": {
    "execution": {
     "iopub.execute_input": "2021-03-17T12:07:15.572795Z",
     "iopub.status.busy": "2021-03-17T12:07:15.572149Z",
     "iopub.status.idle": "2021-03-17T12:07:16.158033Z",
     "shell.execute_reply": "2021-03-17T12:07:16.156928Z"
    },
    "papermill": {
     "duration": 0.629184,
     "end_time": "2021-03-17T12:07:16.158184",
     "exception": false,
     "start_time": "2021-03-17T12:07:15.529000",
     "status": "completed"
    },
    "tags": []
   },
   "outputs": [],
   "source": [
    "#hide\n",
    "COL_REGION = 'Country/Region'\n",
    "# Confirmed, Recovered, Deaths\n",
    "df = get_frame('confirmed')\n",
    "# dft_: timeseries, dfc_: today country agg\n",
    "dft_cases = df\n",
    "dft_deaths = get_frame('deaths')\n",
    "dft_recovered = get_frame('recovered')\n",
    "LAST_DATE_I, dt_cols = get_dates(df)"
   ]
  },
  {
   "cell_type": "code",
   "execution_count": 10,
   "id": "absolute-copper",
   "metadata": {
    "execution": {
     "iopub.execute_input": "2021-03-17T12:07:16.240672Z",
     "iopub.status.busy": "2021-03-17T12:07:16.239311Z",
     "iopub.status.idle": "2021-03-17T12:07:16.242468Z",
     "shell.execute_reply": "2021-03-17T12:07:16.243003Z"
    },
    "papermill": {
     "duration": 0.047338,
     "end_time": "2021-03-17T12:07:16.243169",
     "exception": false,
     "start_time": "2021-03-17T12:07:16.195831",
     "status": "completed"
    },
    "tags": []
   },
   "outputs": [],
   "source": [
    "#hide\n",
    "LAST_DATE_I, dt_cols = get_dates(df)\n",
    "dt_today =dt_cols[LAST_DATE_I]\n",
    "# dt_5day = dt_cols[LAST_DATE_I - 5]\n",
    "dt_yday = dt_cols[LAST_DATE_I - 1]"
   ]
  },
  {
   "cell_type": "code",
   "execution_count": 11,
   "id": "restricted-sheriff",
   "metadata": {
    "execution": {
     "iopub.execute_input": "2021-03-17T12:07:16.325646Z",
     "iopub.status.busy": "2021-03-17T12:07:16.324648Z",
     "iopub.status.idle": "2021-03-17T12:07:16.330594Z",
     "shell.execute_reply": "2021-03-17T12:07:16.331179Z"
    },
    "papermill": {
     "duration": 0.0518,
     "end_time": "2021-03-17T12:07:16.331367",
     "exception": false,
     "start_time": "2021-03-17T12:07:16.279567",
     "status": "completed"
    },
    "tags": []
   },
   "outputs": [],
   "source": [
    "#hide\n",
    "dfc_cases = dft_cases.groupby(COL_REGION)[dt_today].sum()\n",
    "dfc_deaths = dft_deaths.groupby(COL_REGION)[dt_today].sum()\n",
    "# dfp_cases = dft_cases.groupby(COL_REGION)[dt_5day].sum()\n",
    "# dfp_deaths = dft_deaths.groupby(COL_REGION)[dt_5day].sum()\n",
    "dfp_cases = dft_cases.groupby(COL_REGION)[dt_yday].sum()\n",
    "dfp_deaths = dft_deaths.groupby(COL_REGION)[dt_yday].sum()"
   ]
  },
  {
   "cell_type": "code",
   "execution_count": 12,
   "id": "deluxe-hepatitis",
   "metadata": {
    "execution": {
     "iopub.execute_input": "2021-03-17T12:07:16.415001Z",
     "iopub.status.busy": "2021-03-17T12:07:16.414320Z",
     "iopub.status.idle": "2021-03-17T12:07:16.419837Z",
     "shell.execute_reply": "2021-03-17T12:07:16.419252Z"
    },
    "papermill": {
     "duration": 0.051074,
     "end_time": "2021-03-17T12:07:16.419986",
     "exception": false,
     "start_time": "2021-03-17T12:07:16.368912",
     "status": "completed"
    },
    "tags": []
   },
   "outputs": [],
   "source": [
    "#hide\n",
    "df_table = (pd.DataFrame(dict(Cases = dfc_cases, Deaths = dfc_deaths, PCases = dfp_cases, PDeaths = dfp_deaths))\n",
    "            .sort_values(by = ['Cases','Deaths'], ascending = [False, False])\n",
    "            .reset_index())"
   ]
  },
  {
   "cell_type": "code",
   "execution_count": 13,
   "id": "educational-chancellor",
   "metadata": {
    "execution": {
     "iopub.execute_input": "2021-03-17T12:07:16.524891Z",
     "iopub.status.busy": "2021-03-17T12:07:16.524162Z",
     "iopub.status.idle": "2021-03-17T12:07:16.532464Z",
     "shell.execute_reply": "2021-03-17T12:07:16.533044Z"
    },
    "papermill": {
     "duration": 0.074727,
     "end_time": "2021-03-17T12:07:16.533236",
     "exception": false,
     "start_time": "2021-03-17T12:07:16.458509",
     "status": "completed"
    },
    "tags": []
   },
   "outputs": [
    {
     "data": {
      "text/html": [
       "<div>\n",
       "<style scoped>\n",
       "    .dataframe tbody tr th:only-of-type {\n",
       "        vertical-align: middle;\n",
       "    }\n",
       "\n",
       "    .dataframe tbody tr th {\n",
       "        vertical-align: top;\n",
       "    }\n",
       "\n",
       "    .dataframe thead th {\n",
       "        text-align: right;\n",
       "    }\n",
       "</style>\n",
       "<table border=\"1\" class=\"dataframe\">\n",
       "  <thead>\n",
       "    <tr style=\"text-align: right;\">\n",
       "      <th></th>\n",
       "      <th>Country/Region</th>\n",
       "      <th>Cases</th>\n",
       "      <th>Deaths</th>\n",
       "      <th>PCases</th>\n",
       "      <th>PDeaths</th>\n",
       "      <th>Cases (+)</th>\n",
       "      <th>Deaths (+)</th>\n",
       "      <th>Fatality Rate</th>\n",
       "      <th>Continent</th>\n",
       "    </tr>\n",
       "  </thead>\n",
       "  <tbody>\n",
       "    <tr>\n",
       "      <th>0</th>\n",
       "      <td>US</td>\n",
       "      <td>29549003</td>\n",
       "      <td>536914</td>\n",
       "      <td>29495424</td>\n",
       "      <td>535628</td>\n",
       "      <td>53579</td>\n",
       "      <td>1286</td>\n",
       "      <td>1.82</td>\n",
       "      <td>North America</td>\n",
       "    </tr>\n",
       "    <tr>\n",
       "      <th>1</th>\n",
       "      <td>Brazil</td>\n",
       "      <td>11603535</td>\n",
       "      <td>282127</td>\n",
       "      <td>11519609</td>\n",
       "      <td>279286</td>\n",
       "      <td>83926</td>\n",
       "      <td>2841</td>\n",
       "      <td>2.43</td>\n",
       "      <td>South America</td>\n",
       "    </tr>\n",
       "    <tr>\n",
       "      <th>2</th>\n",
       "      <td>India</td>\n",
       "      <td>11438734</td>\n",
       "      <td>159044</td>\n",
       "      <td>11409831</td>\n",
       "      <td>158856</td>\n",
       "      <td>28903</td>\n",
       "      <td>188</td>\n",
       "      <td>1.39</td>\n",
       "      <td>Asia</td>\n",
       "    </tr>\n",
       "    <tr>\n",
       "      <th>3</th>\n",
       "      <td>Russia</td>\n",
       "      <td>4360033</td>\n",
       "      <td>91395</td>\n",
       "      <td>4350728</td>\n",
       "      <td>90958</td>\n",
       "      <td>9305</td>\n",
       "      <td>437</td>\n",
       "      <td>2.10</td>\n",
       "      <td>Europe</td>\n",
       "    </tr>\n",
       "    <tr>\n",
       "      <th>4</th>\n",
       "      <td>United Kingdom</td>\n",
       "      <td>4282203</td>\n",
       "      <td>125927</td>\n",
       "      <td>4276840</td>\n",
       "      <td>125817</td>\n",
       "      <td>5363</td>\n",
       "      <td>110</td>\n",
       "      <td>2.94</td>\n",
       "      <td>Europe</td>\n",
       "    </tr>\n",
       "  </tbody>\n",
       "</table>\n",
       "</div>"
      ],
      "text/plain": [
       "   Country/Region     Cases  Deaths    PCases  PDeaths  Cases (+)  Deaths (+)  \\\n",
       "0              US  29549003  536914  29495424   535628      53579        1286   \n",
       "1          Brazil  11603535  282127  11519609   279286      83926        2841   \n",
       "2           India  11438734  159044  11409831   158856      28903         188   \n",
       "3          Russia   4360033   91395   4350728    90958       9305         437   \n",
       "4  United Kingdom   4282203  125927   4276840   125817       5363         110   \n",
       "\n",
       "   Fatality Rate      Continent  \n",
       "0           1.82  North America  \n",
       "1           2.43  South America  \n",
       "2           1.39           Asia  \n",
       "3           2.10         Europe  \n",
       "4           2.94         Europe  "
      ]
     },
     "execution_count": 13,
     "metadata": {},
     "output_type": "execute_result"
    }
   ],
   "source": [
    "#hide\n",
    "for c in 'Cases, Deaths'.split(', '):\n",
    "    df_table[f'{c} (+)'] = (df_table[c] - df_table[f'P{c}']).clip(0)\n",
    "    #Clip ça veut dire, les chiffres negatif sont interdit\n",
    "df_table['Fatality Rate'] = (100* df_table['Deaths']/ df_table['Cases']).round(2)\n",
    "df_table['Continent'] = df_table['Country/Region'].map(mapping['map.continent'])\n",
    "df_table.head(5)"
   ]
  },
  {
   "cell_type": "code",
   "execution_count": 14,
   "id": "aboriginal-bulgaria",
   "metadata": {
    "execution": {
     "iopub.execute_input": "2021-03-17T12:07:16.618329Z",
     "iopub.status.busy": "2021-03-17T12:07:16.617690Z",
     "iopub.status.idle": "2021-03-17T12:07:16.620778Z",
     "shell.execute_reply": "2021-03-17T12:07:16.621298Z"
    },
    "papermill": {
     "duration": 0.047226,
     "end_time": "2021-03-17T12:07:16.621490",
     "exception": false,
     "start_time": "2021-03-17T12:07:16.574264",
     "status": "completed"
    },
    "tags": []
   },
   "outputs": [],
   "source": [
    "#hide\n",
    "#delete problematic countries from table\n",
    "df_table = df_table[~df_table['Country/Region'].isin(['Cape Verde', 'Cruise Ship', 'Kosovo'])]"
   ]
  },
  {
   "cell_type": "code",
   "execution_count": 15,
   "id": "fantastic-effect",
   "metadata": {
    "execution": {
     "iopub.execute_input": "2021-03-17T12:07:16.709916Z",
     "iopub.status.busy": "2021-03-17T12:07:16.709254Z",
     "iopub.status.idle": "2021-03-17T12:07:16.729722Z",
     "shell.execute_reply": "2021-03-17T12:07:16.729182Z"
    },
    "papermill": {
     "duration": 0.069302,
     "end_time": "2021-03-17T12:07:16.729866",
     "exception": false,
     "start_time": "2021-03-17T12:07:16.660564",
     "status": "completed"
    },
    "tags": []
   },
   "outputs": [
    {
     "data": {
      "text/html": [
       "<div>\n",
       "<style scoped>\n",
       "    .dataframe tbody tr th:only-of-type {\n",
       "        vertical-align: middle;\n",
       "    }\n",
       "\n",
       "    .dataframe tbody tr th {\n",
       "        vertical-align: top;\n",
       "    }\n",
       "\n",
       "    .dataframe thead th {\n",
       "        text-align: right;\n",
       "    }\n",
       "</style>\n",
       "<table border=\"1\" class=\"dataframe\">\n",
       "  <thead>\n",
       "    <tr style=\"text-align: right;\">\n",
       "      <th></th>\n",
       "      <th>Country/Region</th>\n",
       "      <th>Cases</th>\n",
       "      <th>Deaths</th>\n",
       "      <th>PCases</th>\n",
       "      <th>PDeaths</th>\n",
       "      <th>Cases (+)</th>\n",
       "      <th>Deaths (+)</th>\n",
       "      <th>Fatality Rate</th>\n",
       "      <th>Continent</th>\n",
       "    </tr>\n",
       "  </thead>\n",
       "  <tbody>\n",
       "    <tr>\n",
       "      <th>0</th>\n",
       "      <td>US</td>\n",
       "      <td>29549003</td>\n",
       "      <td>536914</td>\n",
       "      <td>29495424</td>\n",
       "      <td>535628</td>\n",
       "      <td>53579</td>\n",
       "      <td>1286</td>\n",
       "      <td>1.8</td>\n",
       "      <td>North America</td>\n",
       "    </tr>\n",
       "    <tr>\n",
       "      <th>1</th>\n",
       "      <td>Brazil</td>\n",
       "      <td>11603535</td>\n",
       "      <td>282127</td>\n",
       "      <td>11519609</td>\n",
       "      <td>279286</td>\n",
       "      <td>83926</td>\n",
       "      <td>2841</td>\n",
       "      <td>2.4</td>\n",
       "      <td>South America</td>\n",
       "    </tr>\n",
       "    <tr>\n",
       "      <th>2</th>\n",
       "      <td>India</td>\n",
       "      <td>11438734</td>\n",
       "      <td>159044</td>\n",
       "      <td>11409831</td>\n",
       "      <td>158856</td>\n",
       "      <td>28903</td>\n",
       "      <td>188</td>\n",
       "      <td>1.4</td>\n",
       "      <td>Asia</td>\n",
       "    </tr>\n",
       "    <tr>\n",
       "      <th>3</th>\n",
       "      <td>Russia</td>\n",
       "      <td>4360033</td>\n",
       "      <td>91395</td>\n",
       "      <td>4350728</td>\n",
       "      <td>90958</td>\n",
       "      <td>9305</td>\n",
       "      <td>437</td>\n",
       "      <td>2.1</td>\n",
       "      <td>Europe</td>\n",
       "    </tr>\n",
       "    <tr>\n",
       "      <th>4</th>\n",
       "      <td>United Kingdom</td>\n",
       "      <td>4282203</td>\n",
       "      <td>125927</td>\n",
       "      <td>4276840</td>\n",
       "      <td>125817</td>\n",
       "      <td>5363</td>\n",
       "      <td>110</td>\n",
       "      <td>2.9</td>\n",
       "      <td>Europe</td>\n",
       "    </tr>\n",
       "  </tbody>\n",
       "</table>\n",
       "</div>"
      ],
      "text/plain": [
       "   Country/Region     Cases  Deaths    PCases  PDeaths  Cases (+)  Deaths (+)  \\\n",
       "0              US  29549003  536914  29495424   535628      53579        1286   \n",
       "1          Brazil  11603535  282127  11519609   279286      83926        2841   \n",
       "2           India  11438734  159044  11409831   158856      28903         188   \n",
       "3          Russia   4360033   91395   4350728    90958       9305         437   \n",
       "4  United Kingdom   4282203  125927   4276840   125817       5363         110   \n",
       "\n",
       "   Fatality Rate      Continent  \n",
       "0            1.8  North America  \n",
       "1            2.4  South America  \n",
       "2            1.4           Asia  \n",
       "3            2.1         Europe  \n",
       "4            2.9         Europe  "
      ]
     },
     "execution_count": 15,
     "metadata": {},
     "output_type": "execute_result"
    }
   ],
   "source": [
    "#hide\n",
    "df_table = (pd.DataFrame(dict(Cases=dfc_cases, Deaths=dfc_deaths, PCases=dfp_cases, PDeaths=dfp_deaths))\n",
    "             .sort_values(by=['Cases', 'Deaths'], ascending=[False, False])\n",
    "             .reset_index())\n",
    "df_table.rename(columns={'index': 'Country/Region'}, inplace=True)\n",
    "for c in 'Cases, Deaths'.split(', '):\n",
    "    df_table[f'{c} (+)'] = (df_table[c] - df_table[f'P{c}']).clip(0)  # DATA BUG\n",
    "df_table['Fatality Rate'] = (100 * df_table['Deaths'] / df_table['Cases']).round(1)\n",
    "df_table['Continent'] = df_table['Country/Region'].map(mapping['map.continent'])\n",
    "df_table.head(5)"
   ]
  },
  {
   "cell_type": "code",
   "execution_count": 16,
   "id": "fewer-occasion",
   "metadata": {
    "execution": {
     "iopub.execute_input": "2021-03-17T12:07:16.812715Z",
     "iopub.status.busy": "2021-03-17T12:07:16.812046Z",
     "iopub.status.idle": "2021-03-17T12:07:16.814312Z",
     "shell.execute_reply": "2021-03-17T12:07:16.814910Z"
    },
    "papermill": {
     "duration": 0.047013,
     "end_time": "2021-03-17T12:07:16.815063",
     "exception": false,
     "start_time": "2021-03-17T12:07:16.768050",
     "status": "completed"
    },
    "tags": []
   },
   "outputs": [],
   "source": [
    "#hide\n",
    "#delete problematic countries from table\n",
    "df_table = df_table[~df_table['Country/Region'].isin(['Cape Verde', 'Cruise Ship', 'Kosovo'])]"
   ]
  },
  {
   "cell_type": "code",
   "execution_count": 17,
   "id": "related-center",
   "metadata": {
    "execution": {
     "iopub.execute_input": "2021-03-17T12:07:16.914283Z",
     "iopub.status.busy": "2021-03-17T12:07:16.913585Z",
     "iopub.status.idle": "2021-03-17T12:07:16.915126Z",
     "shell.execute_reply": "2021-03-17T12:07:16.915760Z"
    },
    "papermill": {
     "duration": 0.064366,
     "end_time": "2021-03-17T12:07:16.915937",
     "exception": false,
     "start_time": "2021-03-17T12:07:16.851571",
     "status": "completed"
    },
    "tags": []
   },
   "outputs": [],
   "source": [
    "#hide\n",
    "metrics = [df_table.columns[index] for index in [1,2,5,6]]\n",
    "# s_china = df_table[df_table['Country/Region'].eq('China')][metrics].sum().add_prefix('China ')\n",
    "s_us = df_table[df_table['Country/Region'].eq('US')][metrics].sum().add_prefix('US ')\n",
    "s_eu = df_table[df_table['Continent'].eq('Europe')][metrics].sum().add_prefix('EU ')\n",
    "s_ind = df_table[df_table['Country/Region'].eq('India')][metrics].sum().add_prefix('India ')\n",
    "summary = {'updated': pd.to_datetime(dt_today), 'since': pd.to_datetime(dt_yday)}\n",
    "summary = {'updated': pd.to_datetime(dt_today), 'since': pd.to_datetime(dt_yday)}\n",
    "summary = {**summary, **df_table[metrics].sum(), **s_ind, **s_us, **s_eu}"
   ]
  },
  {
   "cell_type": "code",
   "execution_count": 18,
   "id": "engaging-syndrome",
   "metadata": {
    "execution": {
     "iopub.execute_input": "2021-03-17T12:07:16.998153Z",
     "iopub.status.busy": "2021-03-17T12:07:16.997513Z",
     "iopub.status.idle": "2021-03-17T12:07:17.010219Z",
     "shell.execute_reply": "2021-03-17T12:07:17.010744Z"
    },
    "papermill": {
     "duration": 0.057209,
     "end_time": "2021-03-17T12:07:17.010919",
     "exception": false,
     "start_time": "2021-03-17T12:07:16.953710",
     "status": "completed"
    },
    "tags": []
   },
   "outputs": [],
   "source": [
    "#hide\n",
    "dft_ct_new_cases = dft_cases.groupby(COL_REGION)[dt_cols].sum().diff(axis=1).fillna(0).astype(int)"
   ]
  },
  {
   "cell_type": "code",
   "execution_count": 19,
   "id": "neutral-assignment",
   "metadata": {
    "execution": {
     "iopub.execute_input": "2021-03-17T12:07:17.092558Z",
     "iopub.status.busy": "2021-03-17T12:07:17.091896Z",
     "iopub.status.idle": "2021-03-17T12:07:17.094213Z",
     "shell.execute_reply": "2021-03-17T12:07:17.093670Z"
    },
    "papermill": {
     "duration": 0.046586,
     "end_time": "2021-03-17T12:07:17.094357",
     "exception": false,
     "start_time": "2021-03-17T12:07:17.047771",
     "status": "completed"
    },
    "tags": []
   },
   "outputs": [],
   "source": [
    "#hide\n",
    "everydaycases = dft_ct_new_cases.cumsum(axis=1)"
   ]
  },
  {
   "cell_type": "code",
   "execution_count": 20,
   "id": "parliamentary-calgary",
   "metadata": {
    "execution": {
     "iopub.execute_input": "2021-03-17T12:07:17.176252Z",
     "iopub.status.busy": "2021-03-17T12:07:17.175579Z",
     "iopub.status.idle": "2021-03-17T12:07:17.869229Z",
     "shell.execute_reply": "2021-03-17T12:07:17.868629Z"
    },
    "papermill": {
     "duration": 0.736044,
     "end_time": "2021-03-17T12:07:17.869391",
     "exception": false,
     "start_time": "2021-03-17T12:07:17.133347",
     "status": "completed"
    },
    "tags": []
   },
   "outputs": [],
   "source": [
    "#hide\n",
    "import pandas as pd\n",
    "import matplotlib.pyplot as plt\n",
    "import matplotlib.ticker as ticker\n",
    "import matplotlib.animation as animation\n",
    "from IPython.display import HTML"
   ]
  },
  {
   "cell_type": "code",
   "execution_count": 21,
   "id": "lasting-extraction",
   "metadata": {
    "execution": {
     "iopub.execute_input": "2021-03-17T12:07:17.954996Z",
     "iopub.status.busy": "2021-03-17T12:07:17.954341Z",
     "iopub.status.idle": "2021-03-17T12:07:17.960712Z",
     "shell.execute_reply": "2021-03-17T12:07:17.961263Z"
    },
    "papermill": {
     "duration": 0.052222,
     "end_time": "2021-03-17T12:07:17.961454",
     "exception": false,
     "start_time": "2021-03-17T12:07:17.909232",
     "status": "completed"
    },
    "tags": []
   },
   "outputs": [],
   "source": [
    "#hide\n",
    "t = everydaycases.stack()"
   ]
  },
  {
   "cell_type": "code",
   "execution_count": 22,
   "id": "premier-sleeve",
   "metadata": {
    "execution": {
     "iopub.execute_input": "2021-03-17T12:07:18.041586Z",
     "iopub.status.busy": "2021-03-17T12:07:18.040930Z",
     "iopub.status.idle": "2021-03-17T12:07:18.048929Z",
     "shell.execute_reply": "2021-03-17T12:07:18.048416Z"
    },
    "papermill": {
     "duration": 0.049808,
     "end_time": "2021-03-17T12:07:18.049072",
     "exception": false,
     "start_time": "2021-03-17T12:07:17.999264",
     "status": "completed"
    },
    "tags": []
   },
   "outputs": [],
   "source": [
    "#hide\n",
    "g = t.reset_index(['Country/Region'])"
   ]
  },
  {
   "cell_type": "code",
   "execution_count": 23,
   "id": "distributed-pittsburgh",
   "metadata": {
    "execution": {
     "iopub.execute_input": "2021-03-17T12:07:18.128968Z",
     "iopub.status.busy": "2021-03-17T12:07:18.128222Z",
     "iopub.status.idle": "2021-03-17T12:07:18.130805Z",
     "shell.execute_reply": "2021-03-17T12:07:18.130244Z"
    },
    "papermill": {
     "duration": 0.044604,
     "end_time": "2021-03-17T12:07:18.130946",
     "exception": false,
     "start_time": "2021-03-17T12:07:18.086342",
     "status": "completed"
    },
    "tags": []
   },
   "outputs": [],
   "source": [
    "#hide\n",
    "g.index.name = 'date'"
   ]
  },
  {
   "cell_type": "code",
   "execution_count": 24,
   "id": "naked-donor",
   "metadata": {
    "execution": {
     "iopub.execute_input": "2021-03-17T12:07:18.215068Z",
     "iopub.status.busy": "2021-03-17T12:07:18.213652Z",
     "iopub.status.idle": "2021-03-17T12:07:18.215812Z",
     "shell.execute_reply": "2021-03-17T12:07:18.216348Z"
    },
    "papermill": {
     "duration": 0.046537,
     "end_time": "2021-03-17T12:07:18.216530",
     "exception": false,
     "start_time": "2021-03-17T12:07:18.169993",
     "status": "completed"
    },
    "tags": []
   },
   "outputs": [],
   "source": [
    "# #hide\n",
    "# g = g.reset_index(['date'])"
   ]
  },
  {
   "cell_type": "code",
   "execution_count": 25,
   "id": "incomplete-mustang",
   "metadata": {
    "execution": {
     "iopub.execute_input": "2021-03-17T12:07:18.299443Z",
     "iopub.status.busy": "2021-03-17T12:07:18.298194Z",
     "iopub.status.idle": "2021-03-17T12:07:18.300164Z",
     "shell.execute_reply": "2021-03-17T12:07:18.300829Z"
    },
    "papermill": {
     "duration": 0.04537,
     "end_time": "2021-03-17T12:07:18.300981",
     "exception": false,
     "start_time": "2021-03-17T12:07:18.255611",
     "status": "completed"
    },
    "tags": []
   },
   "outputs": [],
   "source": [
    "#hide\n",
    "# g.head()"
   ]
  },
  {
   "cell_type": "code",
   "execution_count": 26,
   "id": "specific-kruger",
   "metadata": {
    "execution": {
     "iopub.execute_input": "2021-03-17T12:07:18.382578Z",
     "iopub.status.busy": "2021-03-17T12:07:18.381921Z",
     "iopub.status.idle": "2021-03-17T12:07:18.385711Z",
     "shell.execute_reply": "2021-03-17T12:07:18.386216Z"
    },
    "papermill": {
     "duration": 0.046631,
     "end_time": "2021-03-17T12:07:18.386386",
     "exception": false,
     "start_time": "2021-03-17T12:07:18.339755",
     "status": "completed"
    },
    "tags": []
   },
   "outputs": [],
   "source": [
    "#hide\n",
    "# g.columns = ['date','country','cases']"
   ]
  },
  {
   "cell_type": "code",
   "execution_count": 27,
   "id": "tender-conversion",
   "metadata": {
    "execution": {
     "iopub.execute_input": "2021-03-17T12:07:18.472177Z",
     "iopub.status.busy": "2021-03-17T12:07:18.471486Z",
     "iopub.status.idle": "2021-03-17T12:07:18.474294Z",
     "shell.execute_reply": "2021-03-17T12:07:18.473604Z"
    },
    "papermill": {
     "duration": 0.045819,
     "end_time": "2021-03-17T12:07:18.474453",
     "exception": false,
     "start_time": "2021-03-17T12:07:18.428634",
     "status": "completed"
    },
    "tags": []
   },
   "outputs": [],
   "source": [
    "#hide\n",
    "# g['continent'] = g.country"
   ]
  },
  {
   "cell_type": "code",
   "execution_count": 28,
   "id": "substantial-wilderness",
   "metadata": {
    "execution": {
     "iopub.execute_input": "2021-03-17T12:07:18.557657Z",
     "iopub.status.busy": "2021-03-17T12:07:18.556954Z",
     "iopub.status.idle": "2021-03-17T12:07:18.558483Z",
     "shell.execute_reply": "2021-03-17T12:07:18.559110Z"
    },
    "papermill": {
     "duration": 0.045743,
     "end_time": "2021-03-17T12:07:18.559349",
     "exception": false,
     "start_time": "2021-03-17T12:07:18.513606",
     "status": "completed"
    },
    "tags": []
   },
   "outputs": [],
   "source": [
    "#hide\n",
    "# cols = list(g.columns.values)"
   ]
  },
  {
   "cell_type": "code",
   "execution_count": 29,
   "id": "solved-farming",
   "metadata": {
    "execution": {
     "iopub.execute_input": "2021-03-17T12:07:18.646407Z",
     "iopub.status.busy": "2021-03-17T12:07:18.645582Z",
     "iopub.status.idle": "2021-03-17T12:07:18.647344Z",
     "shell.execute_reply": "2021-03-17T12:07:18.648030Z"
    },
    "papermill": {
     "duration": 0.049102,
     "end_time": "2021-03-17T12:07:18.648286",
     "exception": false,
     "start_time": "2021-03-17T12:07:18.599184",
     "status": "completed"
    },
    "tags": []
   },
   "outputs": [],
   "source": [
    "#hide\n",
    "# cols.insert(0, cols.pop())"
   ]
  },
  {
   "cell_type": "code",
   "execution_count": 30,
   "id": "executed-adoption",
   "metadata": {
    "execution": {
     "iopub.execute_input": "2021-03-17T12:07:18.731541Z",
     "iopub.status.busy": "2021-03-17T12:07:18.730853Z",
     "iopub.status.idle": "2021-03-17T12:07:18.733232Z",
     "shell.execute_reply": "2021-03-17T12:07:18.732677Z"
    },
    "papermill": {
     "duration": 0.046397,
     "end_time": "2021-03-17T12:07:18.733366",
     "exception": false,
     "start_time": "2021-03-17T12:07:18.686969",
     "status": "completed"
    },
    "tags": []
   },
   "outputs": [],
   "source": [
    "#hide\n",
    "# g = g[cols]"
   ]
  },
  {
   "cell_type": "code",
   "execution_count": 31,
   "id": "subject-dublin",
   "metadata": {
    "execution": {
     "iopub.execute_input": "2021-03-17T12:07:18.816786Z",
     "iopub.status.busy": "2021-03-17T12:07:18.816140Z",
     "iopub.status.idle": "2021-03-17T12:07:18.820324Z",
     "shell.execute_reply": "2021-03-17T12:07:18.819764Z"
    },
    "papermill": {
     "duration": 0.047043,
     "end_time": "2021-03-17T12:07:18.820458",
     "exception": false,
     "start_time": "2021-03-17T12:07:18.773415",
     "status": "completed"
    },
    "tags": []
   },
   "outputs": [],
   "source": [
    "#hide\n",
    "# g['continent'] = g['continent'].map(mapping['map.continent'])"
   ]
  },
  {
   "cell_type": "code",
   "execution_count": 32,
   "id": "freelance-scout",
   "metadata": {
    "execution": {
     "iopub.execute_input": "2021-03-17T12:07:18.900178Z",
     "iopub.status.busy": "2021-03-17T12:07:18.899547Z",
     "iopub.status.idle": "2021-03-17T12:07:18.901820Z",
     "shell.execute_reply": "2021-03-17T12:07:18.901267Z"
    },
    "papermill": {
     "duration": 0.04308,
     "end_time": "2021-03-17T12:07:18.901946",
     "exception": false,
     "start_time": "2021-03-17T12:07:18.858866",
     "status": "completed"
    },
    "tags": []
   },
   "outputs": [],
   "source": [
    "#hide\n",
    "# g.head()"
   ]
  },
  {
   "cell_type": "code",
   "execution_count": 33,
   "id": "limited-engine",
   "metadata": {
    "execution": {
     "iopub.execute_input": "2021-03-17T12:07:18.984708Z",
     "iopub.status.busy": "2021-03-17T12:07:18.984046Z",
     "iopub.status.idle": "2021-03-17T12:07:18.986339Z",
     "shell.execute_reply": "2021-03-17T12:07:18.985686Z"
    },
    "papermill": {
     "duration": 0.043502,
     "end_time": "2021-03-17T12:07:18.986479",
     "exception": false,
     "start_time": "2021-03-17T12:07:18.942977",
     "status": "completed"
    },
    "tags": []
   },
   "outputs": [],
   "source": [
    "# hide\n",
    "# g['date'] = g['date'].astype('datetime64[ns]')"
   ]
  },
  {
   "cell_type": "code",
   "execution_count": 34,
   "id": "sophisticated-supervisor",
   "metadata": {
    "execution": {
     "iopub.execute_input": "2021-03-17T12:07:19.065759Z",
     "iopub.status.busy": "2021-03-17T12:07:19.065112Z",
     "iopub.status.idle": "2021-03-17T12:07:19.067292Z",
     "shell.execute_reply": "2021-03-17T12:07:19.067821Z"
    },
    "papermill": {
     "duration": 0.044332,
     "end_time": "2021-03-17T12:07:19.067981",
     "exception": false,
     "start_time": "2021-03-17T12:07:19.023649",
     "status": "completed"
    },
    "tags": []
   },
   "outputs": [],
   "source": [
    "#hide\n",
    "# g['date'] = g.date.dt.dayofyear"
   ]
  },
  {
   "cell_type": "code",
   "execution_count": 35,
   "id": "inside-dubai",
   "metadata": {
    "execution": {
     "iopub.execute_input": "2021-03-17T12:07:19.621175Z",
     "iopub.status.busy": "2021-03-17T12:07:19.619014Z",
     "iopub.status.idle": "2021-03-17T12:07:19.624527Z",
     "shell.execute_reply": "2021-03-17T12:07:19.625007Z"
    },
    "papermill": {
     "duration": 0.518931,
     "end_time": "2021-03-17T12:07:19.625167",
     "exception": false,
     "start_time": "2021-03-17T12:07:19.106236",
     "status": "completed"
    },
    "tags": []
   },
   "outputs": [],
   "source": [
    "#hide\n",
    "# g = g.rename(columns= {'continent':'group','country':'name','cases':'value'})"
   ]
  },
  {
   "cell_type": "code",
   "execution_count": 36,
   "id": "fleet-motorcycle",
   "metadata": {
    "execution": {
     "iopub.execute_input": "2021-03-17T12:07:19.702960Z",
     "iopub.status.busy": "2021-03-17T12:07:19.702304Z",
     "iopub.status.idle": "2021-03-17T12:07:19.704524Z",
     "shell.execute_reply": "2021-03-17T12:07:19.703874Z"
    },
    "papermill": {
     "duration": 0.042092,
     "end_time": "2021-03-17T12:07:19.704659",
     "exception": false,
     "start_time": "2021-03-17T12:07:19.662567",
     "status": "completed"
    },
    "tags": []
   },
   "outputs": [],
   "source": [
    "#hide\n",
    "# cols = ['name','group','day','value']"
   ]
  },
  {
   "cell_type": "code",
   "execution_count": 37,
   "id": "continued-sleeping",
   "metadata": {
    "execution": {
     "iopub.execute_input": "2021-03-17T12:07:19.785042Z",
     "iopub.status.busy": "2021-03-17T12:07:19.784270Z",
     "iopub.status.idle": "2021-03-17T12:07:19.786887Z",
     "shell.execute_reply": "2021-03-17T12:07:19.786341Z"
    },
    "papermill": {
     "duration": 0.043861,
     "end_time": "2021-03-17T12:07:19.787021",
     "exception": false,
     "start_time": "2021-03-17T12:07:19.743160",
     "status": "completed"
    },
    "tags": []
   },
   "outputs": [],
   "source": [
    "#hide\n",
    "# g.rename(columns= {'date':'day'},inplace = True)"
   ]
  },
  {
   "cell_type": "code",
   "execution_count": 38,
   "id": "major-fight",
   "metadata": {
    "execution": {
     "iopub.execute_input": "2021-03-17T12:07:19.873195Z",
     "iopub.status.busy": "2021-03-17T12:07:19.872543Z",
     "iopub.status.idle": "2021-03-17T12:07:19.875278Z",
     "shell.execute_reply": "2021-03-17T12:07:19.875907Z"
    },
    "papermill": {
     "duration": 0.050882,
     "end_time": "2021-03-17T12:07:19.876070",
     "exception": false,
     "start_time": "2021-03-17T12:07:19.825188",
     "status": "completed"
    },
    "tags": []
   },
   "outputs": [],
   "source": [
    "#hide\n",
    "# g = g[cols]"
   ]
  },
  {
   "cell_type": "code",
   "execution_count": 39,
   "id": "structured-mobile",
   "metadata": {
    "execution": {
     "iopub.execute_input": "2021-03-17T12:07:19.980805Z",
     "iopub.status.busy": "2021-03-17T12:07:19.980128Z",
     "iopub.status.idle": "2021-03-17T12:07:19.982565Z",
     "shell.execute_reply": "2021-03-17T12:07:19.981980Z"
    },
    "papermill": {
     "duration": 0.054928,
     "end_time": "2021-03-17T12:07:19.982714",
     "exception": false,
     "start_time": "2021-03-17T12:07:19.927786",
     "status": "completed"
    },
    "tags": []
   },
   "outputs": [],
   "source": [
    "# #hide\n",
    "# g = g[g.group.notna()]"
   ]
  },
  {
   "cell_type": "code",
   "execution_count": 40,
   "id": "determined-closing",
   "metadata": {
    "execution": {
     "iopub.execute_input": "2021-03-17T12:07:20.065695Z",
     "iopub.status.busy": "2021-03-17T12:07:20.065035Z",
     "iopub.status.idle": "2021-03-17T12:07:20.067824Z",
     "shell.execute_reply": "2021-03-17T12:07:20.067262Z"
    },
    "papermill": {
     "duration": 0.046538,
     "end_time": "2021-03-17T12:07:20.067969",
     "exception": false,
     "start_time": "2021-03-17T12:07:20.021431",
     "status": "completed"
    },
    "tags": []
   },
   "outputs": [],
   "source": [
    "# #hide\n",
    "# colors = dict(zip(\n",
    "#     [\"Oceania\", \"Europe\", \"Asia\", \"South America\", \"Middle East\", \"North America\", \"Africa\"],\n",
    "#     [\"#adb0ff\", \"#ffb3ff\", \"#90d595\", \"#e48381\", \"#aafbff\", \"#f7bb5f\", \"#eafb50\"]\n",
    "# ))\n",
    "# group_lk = g.set_index('name')['group'].to_dict()"
   ]
  },
  {
   "cell_type": "code",
   "execution_count": null,
   "id": "gross-drinking",
   "metadata": {
    "papermill": {
     "duration": 0.040744,
     "end_time": "2021-03-17T12:07:20.150114",
     "exception": false,
     "start_time": "2021-03-17T12:07:20.109370",
     "status": "completed"
    },
    "tags": []
   },
   "outputs": [],
   "source": []
  },
  {
   "cell_type": "code",
   "execution_count": 41,
   "id": "subject-macintosh",
   "metadata": {
    "execution": {
     "iopub.execute_input": "2021-03-17T12:07:20.231135Z",
     "iopub.status.busy": "2021-03-17T12:07:20.230466Z",
     "iopub.status.idle": "2021-03-17T12:07:20.232599Z",
     "shell.execute_reply": "2021-03-17T12:07:20.233085Z"
    },
    "papermill": {
     "duration": 0.045036,
     "end_time": "2021-03-17T12:07:20.233242",
     "exception": false,
     "start_time": "2021-03-17T12:07:20.188206",
     "status": "completed"
    },
    "tags": []
   },
   "outputs": [],
   "source": [
    "# #hide\n",
    "# fig, ax = plt.subplots(figsize=(15, 8))\n",
    "\n",
    "# def draw_barchart(current_day):\n",
    "#     dff = g[g['day'].eq(current_day)].sort_values(by='value', ascending=True).tail(10)\n",
    "#     ax.clear()\n",
    "#     ax.barh(dff['name'], dff['value'], color=[colors[group_lk[x]] for x in dff['name']])\n",
    "#     dx = dff['value'].max() / 200\n",
    "    \n",
    "#     for i, (value, name) in enumerate(zip(dff['value'], dff['name'])):\n",
    "#         ax.text(value-dx, i,     name,           size=14, weight=600, ha='right', va='bottom')\n",
    "#         ax.text(value-dx, i-.25, group_lk[name], size=10, color='#444444', ha='right', va='baseline')\n",
    "#         ax.text(value+dx, i,     f'{value:,.0f}',  size=14, ha='left',  va='center')\n",
    "#     ax.text(1, 0.4, current_day, transform=ax.transAxes, color='#777777', size=46, ha='right', weight=800)\n",
    "#     ax.text(0, 1.06, 'Population (thousands)', transform=ax.transAxes, size=12, color='#777777')\n",
    "#     ax.xaxis.set_major_formatter(ticker.StrMethodFormatter('{x:,.0f}'))\n",
    "#     ax.xaxis.set_ticks_position('top')\n",
    "#     ax.tick_params(axis='x', colors='#777777', labelsize=12)\n",
    "#     ax.set_yticks([])\n",
    "#     ax.margins(0, 0.01)\n",
    "#     ax.grid(which='major', axis='x', linestyle='-')\n",
    "#     ax.set_axisbelow(True)\n",
    "    \n",
    "#     ax.text(0, 1.15, 'Coronavirus',\n",
    "#             transform=ax.transAxes, size=24, weight=600, ha='left', va='top')\n",
    "# #     ax.text(1, 0, 'by @pratapvardhan; credit @jburnmurdoch', transform=ax.transAxes, color='#777777', ha='right',\n",
    "# #             bbox=dict(facecolor='white', alpha=0.8, edgecolor='white'))\n",
    "#     plt.box(False)"
   ]
  },
  {
   "cell_type": "code",
   "execution_count": 42,
   "id": "sexual-wages",
   "metadata": {
    "execution": {
     "iopub.execute_input": "2021-03-17T12:07:20.317893Z",
     "iopub.status.busy": "2021-03-17T12:07:20.317243Z",
     "iopub.status.idle": "2021-03-17T12:07:20.319059Z",
     "shell.execute_reply": "2021-03-17T12:07:20.319680Z"
    },
    "papermill": {
     "duration": 0.046622,
     "end_time": "2021-03-17T12:07:20.319835",
     "exception": false,
     "start_time": "2021-03-17T12:07:20.273213",
     "status": "completed"
    },
    "tags": []
   },
   "outputs": [],
   "source": [
    "# #hide_input\n",
    "# fig, ax = plt.subplots(figsize=(15, 8))\n",
    "# animator = animation.FuncAnimation(fig, draw_barchart, frames=range(g.day.values.min(), g.day.values.max()))\n",
    "# HTML(animator.to_jshtml())\n",
    "# # or use animator.to_html5_video() or animator.save() "
   ]
  },
  {
   "cell_type": "code",
   "execution_count": null,
   "id": "australian-container",
   "metadata": {
    "papermill": {
     "duration": 0.03672,
     "end_time": "2021-03-17T12:07:20.392849",
     "exception": false,
     "start_time": "2021-03-17T12:07:20.356129",
     "status": "completed"
    },
    "tags": []
   },
   "outputs": [],
   "source": []
  },
  {
   "cell_type": "code",
   "execution_count": null,
   "id": "mediterranean-pontiac",
   "metadata": {
    "papermill": {
     "duration": 0.037912,
     "end_time": "2021-03-17T12:07:20.467181",
     "exception": false,
     "start_time": "2021-03-17T12:07:20.429269",
     "status": "completed"
    },
    "tags": []
   },
   "outputs": [],
   "source": []
  },
  {
   "cell_type": "code",
   "execution_count": null,
   "id": "aging-legislature",
   "metadata": {
    "papermill": {
     "duration": 0.036225,
     "end_time": "2021-03-17T12:07:20.541964",
     "exception": false,
     "start_time": "2021-03-17T12:07:20.505739",
     "status": "completed"
    },
    "tags": []
   },
   "outputs": [],
   "source": []
  }
 ],
 "metadata": {
  "kernelspec": {
   "display_name": "Python 3",
   "language": "python",
   "name": "python3"
  },
  "language_info": {
   "codemirror_mode": {
    "name": "ipython",
    "version": 3
   },
   "file_extension": ".py",
   "mimetype": "text/x-python",
   "name": "python",
   "nbconvert_exporter": "python",
   "pygments_lexer": "ipython3",
   "version": "3.6.13"
  },
  "papermill": {
   "duration": 7.947989,
   "end_time": "2021-03-17T12:07:21.101405",
   "environment_variables": {},
   "exception": null,
   "input_path": "2020-03-21-covid19exp.ipynb",
   "output_path": "2020-03-21-covid19exp.ipynb",
   "parameters": {},
   "start_time": "2021-03-17T12:07:13.153416",
   "version": "2.0.0"
  }
 },
 "nbformat": 4,
 "nbformat_minor": 5
}