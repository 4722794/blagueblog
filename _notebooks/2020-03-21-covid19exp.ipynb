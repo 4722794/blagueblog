{
 "cells": [
  {
   "cell_type": "markdown",
   "id": "muslim-click",
   "metadata": {
    "papermill": {
     "duration": 0.044597,
     "end_time": "2021-06-25T12:09:43.793541",
     "exception": false,
     "start_time": "2021-06-25T12:09:43.748944",
     "status": "completed"
    },
    "tags": []
   },
   "source": [
    "# COVID-19 Case Race\n",
    "> A race chart to see rising cases around the world\n",
    "\n",
    "- author: Hargun Oberoi\n",
    "- image: images/covid-overview.png\n",
    "- hide: false\n",
    "- badges: false"
   ]
  },
  {
   "cell_type": "code",
   "execution_count": 1,
   "id": "proof-material",
   "metadata": {
    "execution": {
     "iopub.execute_input": "2021-06-25T12:09:43.881988Z",
     "iopub.status.busy": "2021-06-25T12:09:43.881251Z",
     "iopub.status.idle": "2021-06-25T12:09:44.289556Z",
     "shell.execute_reply": "2021-06-25T12:09:44.288986Z"
    },
    "papermill": {
     "duration": 0.458032,
     "end_time": "2021-06-25T12:09:44.289719",
     "exception": false,
     "start_time": "2021-06-25T12:09:43.831687",
     "status": "completed"
    },
    "tags": []
   },
   "outputs": [],
   "source": [
    "#hide\n",
    "import numpy as np\n",
    "import pandas as pd\n",
    "from jinja2 import Template\n",
    "from IPython.display import HTML"
   ]
  },
  {
   "cell_type": "code",
   "execution_count": 2,
   "id": "developed-terminology",
   "metadata": {
    "execution": {
     "iopub.execute_input": "2021-06-25T12:09:44.370871Z",
     "iopub.status.busy": "2021-06-25T12:09:44.370155Z",
     "iopub.status.idle": "2021-06-25T12:09:44.372610Z",
     "shell.execute_reply": "2021-06-25T12:09:44.371989Z"
    },
    "papermill": {
     "duration": 0.043276,
     "end_time": "2021-06-25T12:09:44.372734",
     "exception": false,
     "start_time": "2021-06-25T12:09:44.329458",
     "status": "completed"
    },
    "tags": []
   },
   "outputs": [],
   "source": [
    "#hide\n",
    "\n",
    "# FETCH\n",
    "base_url = 'https://raw.githubusercontent.com/pratapvardhan/notebooks/master/covid19/'\n",
    "paths = {\n",
    "    'mapping': base_url + 'mapping_countries.csv',\n",
    "    'overview': base_url + 'overview.tpl'\n",
    "}"
   ]
  },
  {
   "cell_type": "code",
   "execution_count": 3,
   "id": "dynamic-saver",
   "metadata": {
    "execution": {
     "iopub.execute_input": "2021-06-25T12:09:44.455157Z",
     "iopub.status.busy": "2021-06-25T12:09:44.454559Z",
     "iopub.status.idle": "2021-06-25T12:09:44.457713Z",
     "shell.execute_reply": "2021-06-25T12:09:44.458430Z"
    },
    "papermill": {
     "duration": 0.051798,
     "end_time": "2021-06-25T12:09:44.458566",
     "exception": false,
     "start_time": "2021-06-25T12:09:44.406768",
     "status": "completed"
    },
    "tags": []
   },
   "outputs": [
    {
     "data": {
      "text/plain": [
       "'https://raw.githubusercontent.com/pratapvardhan/notebooks/master/covid19/mapping_countries.csv'"
      ]
     },
     "execution_count": 3,
     "metadata": {},
     "output_type": "execute_result"
    }
   ],
   "source": [
    "#hide\n",
    "paths['mapping']"
   ]
  },
  {
   "cell_type": "code",
   "execution_count": 4,
   "id": "urban-software",
   "metadata": {
    "execution": {
     "iopub.execute_input": "2021-06-25T12:09:44.542465Z",
     "iopub.status.busy": "2021-06-25T12:09:44.541801Z",
     "iopub.status.idle": "2021-06-25T12:09:44.544417Z",
     "shell.execute_reply": "2021-06-25T12:09:44.543860Z"
    },
    "papermill": {
     "duration": 0.046929,
     "end_time": "2021-06-25T12:09:44.544555",
     "exception": false,
     "start_time": "2021-06-25T12:09:44.497626",
     "status": "completed"
    },
    "tags": []
   },
   "outputs": [],
   "source": [
    "#hide\n",
    "def get_mappings(url):\n",
    "    df = pd.read_csv(url)\n",
    "    return {\n",
    "        'df': df,\n",
    "        'replace.country': dict(df.dropna(subset=['Name']).set_index('Country')['Name']),\n",
    "        'map.continent': dict(df.set_index('Name')['Continent'])\n",
    "    }"
   ]
  },
  {
   "cell_type": "code",
   "execution_count": 5,
   "id": "intimate-machinery",
   "metadata": {
    "execution": {
     "iopub.execute_input": "2021-06-25T12:09:44.626663Z",
     "iopub.status.busy": "2021-06-25T12:09:44.625992Z",
     "iopub.status.idle": "2021-06-25T12:09:44.666108Z",
     "shell.execute_reply": "2021-06-25T12:09:44.666677Z"
    },
    "papermill": {
     "duration": 0.08438,
     "end_time": "2021-06-25T12:09:44.666861",
     "exception": false,
     "start_time": "2021-06-25T12:09:44.582481",
     "status": "completed"
    },
    "tags": []
   },
   "outputs": [],
   "source": [
    "#hide\n",
    "mapping = get_mappings(paths['mapping'])"
   ]
  },
  {
   "cell_type": "code",
   "execution_count": 6,
   "id": "certified-tactics",
   "metadata": {
    "execution": {
     "iopub.execute_input": "2021-06-25T12:09:44.753114Z",
     "iopub.status.busy": "2021-06-25T12:09:44.752407Z",
     "iopub.status.idle": "2021-06-25T12:09:44.754933Z",
     "shell.execute_reply": "2021-06-25T12:09:44.754222Z"
    },
    "papermill": {
     "duration": 0.048229,
     "end_time": "2021-06-25T12:09:44.755073",
     "exception": false,
     "start_time": "2021-06-25T12:09:44.706844",
     "status": "completed"
    },
    "tags": []
   },
   "outputs": [],
   "source": [
    "#hide\n",
    "def get_template(path):\n",
    "    from urllib.parse import urlparse\n",
    "    if bool(urlparse(path).netloc):\n",
    "        from urllib.request import urlopen\n",
    "        return urlopen(path).read().decode('utf8')\n",
    "    return open(path).read()"
   ]
  },
  {
   "cell_type": "code",
   "execution_count": 7,
   "id": "realistic-blast",
   "metadata": {
    "execution": {
     "iopub.execute_input": "2021-06-25T12:09:44.838296Z",
     "iopub.status.busy": "2021-06-25T12:09:44.837583Z",
     "iopub.status.idle": "2021-06-25T12:09:44.840334Z",
     "shell.execute_reply": "2021-06-25T12:09:44.839800Z"
    },
    "papermill": {
     "duration": 0.045663,
     "end_time": "2021-06-25T12:09:44.840479",
     "exception": false,
     "start_time": "2021-06-25T12:09:44.794816",
     "status": "completed"
    },
    "tags": []
   },
   "outputs": [],
   "source": [
    "#hide\n",
    "def get_frame(name):\n",
    "    url = (\n",
    "        'https://raw.githubusercontent.com/CSSEGISandData/COVID-19/master/csse_covid_19_data/'\n",
    "        f'csse_covid_19_time_series/time_series_covid19_{name}_global.csv')\n",
    "    df = pd.read_csv(url)\n",
    "    # rename countries\n",
    "    df['Country/Region'] = df['Country/Region'].replace(mapping['replace.country'])\n",
    "    return df"
   ]
  },
  {
   "cell_type": "code",
   "execution_count": 8,
   "id": "affiliated-characterization",
   "metadata": {
    "execution": {
     "iopub.execute_input": "2021-06-25T12:09:44.928883Z",
     "iopub.status.busy": "2021-06-25T12:09:44.928214Z",
     "iopub.status.idle": "2021-06-25T12:09:44.930413Z",
     "shell.execute_reply": "2021-06-25T12:09:44.931007Z"
    },
    "papermill": {
     "duration": 0.051692,
     "end_time": "2021-06-25T12:09:44.931379",
     "exception": false,
     "start_time": "2021-06-25T12:09:44.879687",
     "status": "completed"
    },
    "tags": []
   },
   "outputs": [],
   "source": [
    "#hide\n",
    "def get_dates(df):\n",
    "    dt_cols = df.columns[~df.columns.isin(['Province/State', 'Country/Region', 'Lat', 'Long'])]\n",
    "    LAST_DATE_I = -1\n",
    "    # sometimes last column may be empty, then go backwards\n",
    "    for i in range(-1, -len(dt_cols), -1):\n",
    "        if not df[dt_cols[i]].fillna(0).eq(0).all():\n",
    "            LAST_DATE_I = i\n",
    "            break\n",
    "    return LAST_DATE_I, dt_cols"
   ]
  },
  {
   "cell_type": "code",
   "execution_count": 9,
   "id": "recent-optimization",
   "metadata": {
    "execution": {
     "iopub.execute_input": "2021-06-25T12:09:45.015480Z",
     "iopub.status.busy": "2021-06-25T12:09:45.014766Z",
     "iopub.status.idle": "2021-06-25T12:09:45.428158Z",
     "shell.execute_reply": "2021-06-25T12:09:45.427546Z"
    },
    "papermill": {
     "duration": 0.457642,
     "end_time": "2021-06-25T12:09:45.428333",
     "exception": false,
     "start_time": "2021-06-25T12:09:44.970691",
     "status": "completed"
    },
    "tags": []
   },
   "outputs": [],
   "source": [
    "#hide\n",
    "COL_REGION = 'Country/Region'\n",
    "# Confirmed, Recovered, Deaths\n",
    "df = get_frame('confirmed')\n",
    "# dft_: timeseries, dfc_: today country agg\n",
    "dft_cases = df\n",
    "dft_deaths = get_frame('deaths')\n",
    "dft_recovered = get_frame('recovered')\n",
    "LAST_DATE_I, dt_cols = get_dates(df)"
   ]
  },
  {
   "cell_type": "code",
   "execution_count": 10,
   "id": "absolute-copper",
   "metadata": {
    "execution": {
     "iopub.execute_input": "2021-06-25T12:09:45.512497Z",
     "iopub.status.busy": "2021-06-25T12:09:45.511882Z",
     "iopub.status.idle": "2021-06-25T12:09:45.514688Z",
     "shell.execute_reply": "2021-06-25T12:09:45.514162Z"
    },
    "papermill": {
     "duration": 0.047457,
     "end_time": "2021-06-25T12:09:45.514809",
     "exception": false,
     "start_time": "2021-06-25T12:09:45.467352",
     "status": "completed"
    },
    "tags": []
   },
   "outputs": [],
   "source": [
    "#hide\n",
    "LAST_DATE_I, dt_cols = get_dates(df)\n",
    "dt_today =dt_cols[LAST_DATE_I]\n",
    "# dt_5day = dt_cols[LAST_DATE_I - 5]\n",
    "dt_yday = dt_cols[LAST_DATE_I - 1]"
   ]
  },
  {
   "cell_type": "code",
   "execution_count": 11,
   "id": "restricted-sheriff",
   "metadata": {
    "execution": {
     "iopub.execute_input": "2021-06-25T12:09:45.597474Z",
     "iopub.status.busy": "2021-06-25T12:09:45.596796Z",
     "iopub.status.idle": "2021-06-25T12:09:45.605781Z",
     "shell.execute_reply": "2021-06-25T12:09:45.605196Z"
    },
    "papermill": {
     "duration": 0.053416,
     "end_time": "2021-06-25T12:09:45.605971",
     "exception": false,
     "start_time": "2021-06-25T12:09:45.552555",
     "status": "completed"
    },
    "tags": []
   },
   "outputs": [],
   "source": [
    "#hide\n",
    "dfc_cases = dft_cases.groupby(COL_REGION)[dt_today].sum()\n",
    "dfc_deaths = dft_deaths.groupby(COL_REGION)[dt_today].sum()\n",
    "# dfp_cases = dft_cases.groupby(COL_REGION)[dt_5day].sum()\n",
    "# dfp_deaths = dft_deaths.groupby(COL_REGION)[dt_5day].sum()\n",
    "dfp_cases = dft_cases.groupby(COL_REGION)[dt_yday].sum()\n",
    "dfp_deaths = dft_deaths.groupby(COL_REGION)[dt_yday].sum()"
   ]
  },
  {
   "cell_type": "code",
   "execution_count": 12,
   "id": "deluxe-hepatitis",
   "metadata": {
    "execution": {
     "iopub.execute_input": "2021-06-25T12:09:45.691431Z",
     "iopub.status.busy": "2021-06-25T12:09:45.690706Z",
     "iopub.status.idle": "2021-06-25T12:09:45.696421Z",
     "shell.execute_reply": "2021-06-25T12:09:45.695871Z"
    },
    "papermill": {
     "duration": 0.050965,
     "end_time": "2021-06-25T12:09:45.696551",
     "exception": false,
     "start_time": "2021-06-25T12:09:45.645586",
     "status": "completed"
    },
    "tags": []
   },
   "outputs": [],
   "source": [
    "#hide\n",
    "df_table = (pd.DataFrame(dict(Cases = dfc_cases, Deaths = dfc_deaths, PCases = dfp_cases, PDeaths = dfp_deaths))\n",
    "            .sort_values(by = ['Cases','Deaths'], ascending = [False, False])\n",
    "            .reset_index())"
   ]
  },
  {
   "cell_type": "code",
   "execution_count": 13,
   "id": "educational-chancellor",
   "metadata": {
    "execution": {
     "iopub.execute_input": "2021-06-25T12:09:45.806258Z",
     "iopub.status.busy": "2021-06-25T12:09:45.800591Z",
     "iopub.status.idle": "2021-06-25T12:09:45.809606Z",
     "shell.execute_reply": "2021-06-25T12:09:45.810227Z"
    },
    "papermill": {
     "duration": 0.073606,
     "end_time": "2021-06-25T12:09:45.810377",
     "exception": false,
     "start_time": "2021-06-25T12:09:45.736771",
     "status": "completed"
    },
    "tags": []
   },
   "outputs": [
    {
     "data": {
      "text/html": [
       "<div>\n",
       "<style scoped>\n",
       "    .dataframe tbody tr th:only-of-type {\n",
       "        vertical-align: middle;\n",
       "    }\n",
       "\n",
       "    .dataframe tbody tr th {\n",
       "        vertical-align: top;\n",
       "    }\n",
       "\n",
       "    .dataframe thead th {\n",
       "        text-align: right;\n",
       "    }\n",
       "</style>\n",
       "<table border=\"1\" class=\"dataframe\">\n",
       "  <thead>\n",
       "    <tr style=\"text-align: right;\">\n",
       "      <th></th>\n",
       "      <th>Country/Region</th>\n",
       "      <th>Cases</th>\n",
       "      <th>Deaths</th>\n",
       "      <th>PCases</th>\n",
       "      <th>PDeaths</th>\n",
       "      <th>Cases (+)</th>\n",
       "      <th>Deaths (+)</th>\n",
       "      <th>Fatality Rate</th>\n",
       "      <th>Continent</th>\n",
       "    </tr>\n",
       "  </thead>\n",
       "  <tbody>\n",
       "    <tr>\n",
       "      <th>0</th>\n",
       "      <td>US</td>\n",
       "      <td>33590481</td>\n",
       "      <td>603178</td>\n",
       "      <td>33577651</td>\n",
       "      <td>602837</td>\n",
       "      <td>12830</td>\n",
       "      <td>341</td>\n",
       "      <td>1.80</td>\n",
       "      <td>North America</td>\n",
       "    </tr>\n",
       "    <tr>\n",
       "      <th>1</th>\n",
       "      <td>India</td>\n",
       "      <td>30134445</td>\n",
       "      <td>393310</td>\n",
       "      <td>30082778</td>\n",
       "      <td>391981</td>\n",
       "      <td>51667</td>\n",
       "      <td>1329</td>\n",
       "      <td>1.31</td>\n",
       "      <td>Asia</td>\n",
       "    </tr>\n",
       "    <tr>\n",
       "      <th>2</th>\n",
       "      <td>Brazil</td>\n",
       "      <td>18243483</td>\n",
       "      <td>509141</td>\n",
       "      <td>18169881</td>\n",
       "      <td>507109</td>\n",
       "      <td>73602</td>\n",
       "      <td>2032</td>\n",
       "      <td>2.79</td>\n",
       "      <td>South America</td>\n",
       "    </tr>\n",
       "    <tr>\n",
       "      <th>3</th>\n",
       "      <td>France</td>\n",
       "      <td>5826278</td>\n",
       "      <td>111068</td>\n",
       "      <td>5824127</td>\n",
       "      <td>111024</td>\n",
       "      <td>2151</td>\n",
       "      <td>44</td>\n",
       "      <td>1.91</td>\n",
       "      <td>Europe</td>\n",
       "    </tr>\n",
       "    <tr>\n",
       "      <th>4</th>\n",
       "      <td>Turkey</td>\n",
       "      <td>5393248</td>\n",
       "      <td>49417</td>\n",
       "      <td>5387545</td>\n",
       "      <td>49358</td>\n",
       "      <td>5703</td>\n",
       "      <td>59</td>\n",
       "      <td>0.92</td>\n",
       "      <td>Asia</td>\n",
       "    </tr>\n",
       "  </tbody>\n",
       "</table>\n",
       "</div>"
      ],
      "text/plain": [
       "  Country/Region     Cases  Deaths    PCases  PDeaths  Cases (+)  Deaths (+)  \\\n",
       "0             US  33590481  603178  33577651   602837      12830         341   \n",
       "1          India  30134445  393310  30082778   391981      51667        1329   \n",
       "2         Brazil  18243483  509141  18169881   507109      73602        2032   \n",
       "3         France   5826278  111068   5824127   111024       2151          44   \n",
       "4         Turkey   5393248   49417   5387545    49358       5703          59   \n",
       "\n",
       "   Fatality Rate      Continent  \n",
       "0           1.80  North America  \n",
       "1           1.31           Asia  \n",
       "2           2.79  South America  \n",
       "3           1.91         Europe  \n",
       "4           0.92           Asia  "
      ]
     },
     "execution_count": 13,
     "metadata": {},
     "output_type": "execute_result"
    }
   ],
   "source": [
    "#hide\n",
    "for c in 'Cases, Deaths'.split(', '):\n",
    "    df_table[f'{c} (+)'] = (df_table[c] - df_table[f'P{c}']).clip(0)\n",
    "    #Clip ça veut dire, les chiffres negatif sont interdit\n",
    "df_table['Fatality Rate'] = (100* df_table['Deaths']/ df_table['Cases']).round(2)\n",
    "df_table['Continent'] = df_table['Country/Region'].map(mapping['map.continent'])\n",
    "df_table.head(5)"
   ]
  },
  {
   "cell_type": "code",
   "execution_count": 14,
   "id": "aboriginal-bulgaria",
   "metadata": {
    "execution": {
     "iopub.execute_input": "2021-06-25T12:09:45.893638Z",
     "iopub.status.busy": "2021-06-25T12:09:45.892919Z",
     "iopub.status.idle": "2021-06-25T12:09:45.895478Z",
     "shell.execute_reply": "2021-06-25T12:09:45.894896Z"
    },
    "papermill": {
     "duration": 0.047465,
     "end_time": "2021-06-25T12:09:45.895630",
     "exception": false,
     "start_time": "2021-06-25T12:09:45.848165",
     "status": "completed"
    },
    "tags": []
   },
   "outputs": [],
   "source": [
    "#hide\n",
    "#delete problematic countries from table\n",
    "df_table = df_table[~df_table['Country/Region'].isin(['Cape Verde', 'Cruise Ship', 'Kosovo'])]"
   ]
  },
  {
   "cell_type": "code",
   "execution_count": 15,
   "id": "fantastic-effect",
   "metadata": {
    "execution": {
     "iopub.execute_input": "2021-06-25T12:09:45.984652Z",
     "iopub.status.busy": "2021-06-25T12:09:45.983979Z",
     "iopub.status.idle": "2021-06-25T12:09:46.006439Z",
     "shell.execute_reply": "2021-06-25T12:09:46.005826Z"
    },
    "papermill": {
     "duration": 0.07316,
     "end_time": "2021-06-25T12:09:46.006606",
     "exception": false,
     "start_time": "2021-06-25T12:09:45.933446",
     "status": "completed"
    },
    "tags": []
   },
   "outputs": [
    {
     "data": {
      "text/html": [
       "<div>\n",
       "<style scoped>\n",
       "    .dataframe tbody tr th:only-of-type {\n",
       "        vertical-align: middle;\n",
       "    }\n",
       "\n",
       "    .dataframe tbody tr th {\n",
       "        vertical-align: top;\n",
       "    }\n",
       "\n",
       "    .dataframe thead th {\n",
       "        text-align: right;\n",
       "    }\n",
       "</style>\n",
       "<table border=\"1\" class=\"dataframe\">\n",
       "  <thead>\n",
       "    <tr style=\"text-align: right;\">\n",
       "      <th></th>\n",
       "      <th>Country/Region</th>\n",
       "      <th>Cases</th>\n",
       "      <th>Deaths</th>\n",
       "      <th>PCases</th>\n",
       "      <th>PDeaths</th>\n",
       "      <th>Cases (+)</th>\n",
       "      <th>Deaths (+)</th>\n",
       "      <th>Fatality Rate</th>\n",
       "      <th>Continent</th>\n",
       "    </tr>\n",
       "  </thead>\n",
       "  <tbody>\n",
       "    <tr>\n",
       "      <th>0</th>\n",
       "      <td>US</td>\n",
       "      <td>33590481</td>\n",
       "      <td>603178</td>\n",
       "      <td>33577651</td>\n",
       "      <td>602837</td>\n",
       "      <td>12830</td>\n",
       "      <td>341</td>\n",
       "      <td>1.8</td>\n",
       "      <td>North America</td>\n",
       "    </tr>\n",
       "    <tr>\n",
       "      <th>1</th>\n",
       "      <td>India</td>\n",
       "      <td>30134445</td>\n",
       "      <td>393310</td>\n",
       "      <td>30082778</td>\n",
       "      <td>391981</td>\n",
       "      <td>51667</td>\n",
       "      <td>1329</td>\n",
       "      <td>1.3</td>\n",
       "      <td>Asia</td>\n",
       "    </tr>\n",
       "    <tr>\n",
       "      <th>2</th>\n",
       "      <td>Brazil</td>\n",
       "      <td>18243483</td>\n",
       "      <td>509141</td>\n",
       "      <td>18169881</td>\n",
       "      <td>507109</td>\n",
       "      <td>73602</td>\n",
       "      <td>2032</td>\n",
       "      <td>2.8</td>\n",
       "      <td>South America</td>\n",
       "    </tr>\n",
       "    <tr>\n",
       "      <th>3</th>\n",
       "      <td>France</td>\n",
       "      <td>5826278</td>\n",
       "      <td>111068</td>\n",
       "      <td>5824127</td>\n",
       "      <td>111024</td>\n",
       "      <td>2151</td>\n",
       "      <td>44</td>\n",
       "      <td>1.9</td>\n",
       "      <td>Europe</td>\n",
       "    </tr>\n",
       "    <tr>\n",
       "      <th>4</th>\n",
       "      <td>Turkey</td>\n",
       "      <td>5393248</td>\n",
       "      <td>49417</td>\n",
       "      <td>5387545</td>\n",
       "      <td>49358</td>\n",
       "      <td>5703</td>\n",
       "      <td>59</td>\n",
       "      <td>0.9</td>\n",
       "      <td>Asia</td>\n",
       "    </tr>\n",
       "  </tbody>\n",
       "</table>\n",
       "</div>"
      ],
      "text/plain": [
       "  Country/Region     Cases  Deaths    PCases  PDeaths  Cases (+)  Deaths (+)  \\\n",
       "0             US  33590481  603178  33577651   602837      12830         341   \n",
       "1          India  30134445  393310  30082778   391981      51667        1329   \n",
       "2         Brazil  18243483  509141  18169881   507109      73602        2032   \n",
       "3         France   5826278  111068   5824127   111024       2151          44   \n",
       "4         Turkey   5393248   49417   5387545    49358       5703          59   \n",
       "\n",
       "   Fatality Rate      Continent  \n",
       "0            1.8  North America  \n",
       "1            1.3           Asia  \n",
       "2            2.8  South America  \n",
       "3            1.9         Europe  \n",
       "4            0.9           Asia  "
      ]
     },
     "execution_count": 15,
     "metadata": {},
     "output_type": "execute_result"
    }
   ],
   "source": [
    "#hide\n",
    "df_table = (pd.DataFrame(dict(Cases=dfc_cases, Deaths=dfc_deaths, PCases=dfp_cases, PDeaths=dfp_deaths))\n",
    "             .sort_values(by=['Cases', 'Deaths'], ascending=[False, False])\n",
    "             .reset_index())\n",
    "df_table.rename(columns={'index': 'Country/Region'}, inplace=True)\n",
    "for c in 'Cases, Deaths'.split(', '):\n",
    "    df_table[f'{c} (+)'] = (df_table[c] - df_table[f'P{c}']).clip(0)  # DATA BUG\n",
    "df_table['Fatality Rate'] = (100 * df_table['Deaths'] / df_table['Cases']).round(1)\n",
    "df_table['Continent'] = df_table['Country/Region'].map(mapping['map.continent'])\n",
    "df_table.head(5)"
   ]
  },
  {
   "cell_type": "code",
   "execution_count": 16,
   "id": "fewer-occasion",
   "metadata": {
    "execution": {
     "iopub.execute_input": "2021-06-25T12:09:46.106800Z",
     "iopub.status.busy": "2021-06-25T12:09:46.105972Z",
     "iopub.status.idle": "2021-06-25T12:09:46.107868Z",
     "shell.execute_reply": "2021-06-25T12:09:46.108467Z"
    },
    "papermill": {
     "duration": 0.052352,
     "end_time": "2021-06-25T12:09:46.108656",
     "exception": false,
     "start_time": "2021-06-25T12:09:46.056304",
     "status": "completed"
    },
    "tags": []
   },
   "outputs": [],
   "source": [
    "#hide\n",
    "#delete problematic countries from table\n",
    "df_table = df_table[~df_table['Country/Region'].isin(['Cape Verde', 'Cruise Ship', 'Kosovo'])]"
   ]
  },
  {
   "cell_type": "code",
   "execution_count": 17,
   "id": "related-center",
   "metadata": {
    "execution": {
     "iopub.execute_input": "2021-06-25T12:09:46.203219Z",
     "iopub.status.busy": "2021-06-25T12:09:46.202490Z",
     "iopub.status.idle": "2021-06-25T12:09:46.223379Z",
     "shell.execute_reply": "2021-06-25T12:09:46.223914Z"
    },
    "papermill": {
     "duration": 0.074674,
     "end_time": "2021-06-25T12:09:46.224089",
     "exception": false,
     "start_time": "2021-06-25T12:09:46.149415",
     "status": "completed"
    },
    "tags": []
   },
   "outputs": [],
   "source": [
    "#hide\n",
    "metrics = [df_table.columns[index] for index in [1,2,5,6]]\n",
    "# s_china = df_table[df_table['Country/Region'].eq('China')][metrics].sum().add_prefix('China ')\n",
    "s_us = df_table[df_table['Country/Region'].eq('US')][metrics].sum().add_prefix('US ')\n",
    "s_eu = df_table[df_table['Continent'].eq('Europe')][metrics].sum().add_prefix('EU ')\n",
    "s_ind = df_table[df_table['Country/Region'].eq('India')][metrics].sum().add_prefix('India ')\n",
    "summary = {'updated': pd.to_datetime(dt_today), 'since': pd.to_datetime(dt_yday)}\n",
    "summary = {'updated': pd.to_datetime(dt_today), 'since': pd.to_datetime(dt_yday)}\n",
    "summary = {**summary, **df_table[metrics].sum(), **s_ind, **s_us, **s_eu}"
   ]
  },
  {
   "cell_type": "code",
   "execution_count": 18,
   "id": "engaging-syndrome",
   "metadata": {
    "execution": {
     "iopub.execute_input": "2021-06-25T12:09:46.314948Z",
     "iopub.status.busy": "2021-06-25T12:09:46.314270Z",
     "iopub.status.idle": "2021-06-25T12:09:46.325743Z",
     "shell.execute_reply": "2021-06-25T12:09:46.326423Z"
    },
    "papermill": {
     "duration": 0.061071,
     "end_time": "2021-06-25T12:09:46.326610",
     "exception": false,
     "start_time": "2021-06-25T12:09:46.265539",
     "status": "completed"
    },
    "tags": []
   },
   "outputs": [],
   "source": [
    "#hide\n",
    "dft_ct_new_cases = dft_cases.groupby(COL_REGION)[dt_cols].sum().diff(axis=1).fillna(0).astype(int)"
   ]
  },
  {
   "cell_type": "code",
   "execution_count": 19,
   "id": "neutral-assignment",
   "metadata": {
    "execution": {
     "iopub.execute_input": "2021-06-25T12:09:46.415418Z",
     "iopub.status.busy": "2021-06-25T12:09:46.414732Z",
     "iopub.status.idle": "2021-06-25T12:09:46.416142Z",
     "shell.execute_reply": "2021-06-25T12:09:46.416826Z"
    },
    "papermill": {
     "duration": 0.049903,
     "end_time": "2021-06-25T12:09:46.416983",
     "exception": false,
     "start_time": "2021-06-25T12:09:46.367080",
     "status": "completed"
    },
    "tags": []
   },
   "outputs": [],
   "source": [
    "#hide\n",
    "everydaycases = dft_ct_new_cases.cumsum(axis=1)"
   ]
  },
  {
   "cell_type": "code",
   "execution_count": 20,
   "id": "parliamentary-calgary",
   "metadata": {
    "execution": {
     "iopub.execute_input": "2021-06-25T12:09:46.501697Z",
     "iopub.status.busy": "2021-06-25T12:09:46.500979Z",
     "iopub.status.idle": "2021-06-25T12:09:47.137951Z",
     "shell.execute_reply": "2021-06-25T12:09:47.137318Z"
    },
    "papermill": {
     "duration": 0.680755,
     "end_time": "2021-06-25T12:09:47.138119",
     "exception": false,
     "start_time": "2021-06-25T12:09:46.457364",
     "status": "completed"
    },
    "tags": []
   },
   "outputs": [],
   "source": [
    "#hide\n",
    "import pandas as pd\n",
    "import matplotlib.pyplot as plt\n",
    "import matplotlib.ticker as ticker\n",
    "import matplotlib.animation as animation\n",
    "from IPython.display import HTML"
   ]
  },
  {
   "cell_type": "code",
   "execution_count": 21,
   "id": "lasting-extraction",
   "metadata": {
    "execution": {
     "iopub.execute_input": "2021-06-25T12:09:47.224843Z",
     "iopub.status.busy": "2021-06-25T12:09:47.224138Z",
     "iopub.status.idle": "2021-06-25T12:09:47.229489Z",
     "shell.execute_reply": "2021-06-25T12:09:47.230264Z"
    },
    "papermill": {
     "duration": 0.051625,
     "end_time": "2021-06-25T12:09:47.230421",
     "exception": false,
     "start_time": "2021-06-25T12:09:47.178796",
     "status": "completed"
    },
    "tags": []
   },
   "outputs": [],
   "source": [
    "#hide\n",
    "t = everydaycases.stack()"
   ]
  },
  {
   "cell_type": "code",
   "execution_count": 22,
   "id": "premier-sleeve",
   "metadata": {
    "execution": {
     "iopub.execute_input": "2021-06-25T12:09:47.315667Z",
     "iopub.status.busy": "2021-06-25T12:09:47.314512Z",
     "iopub.status.idle": "2021-06-25T12:09:47.323556Z",
     "shell.execute_reply": "2021-06-25T12:09:47.324246Z"
    },
    "papermill": {
     "duration": 0.053964,
     "end_time": "2021-06-25T12:09:47.324637",
     "exception": false,
     "start_time": "2021-06-25T12:09:47.270673",
     "status": "completed"
    },
    "tags": []
   },
   "outputs": [],
   "source": [
    "#hide\n",
    "g = t.reset_index(['Country/Region'])"
   ]
  },
  {
   "cell_type": "code",
   "execution_count": 23,
   "id": "distributed-pittsburgh",
   "metadata": {
    "execution": {
     "iopub.execute_input": "2021-06-25T12:09:47.410126Z",
     "iopub.status.busy": "2021-06-25T12:09:47.409382Z",
     "iopub.status.idle": "2021-06-25T12:09:47.411387Z",
     "shell.execute_reply": "2021-06-25T12:09:47.412004Z"
    },
    "papermill": {
     "duration": 0.047406,
     "end_time": "2021-06-25T12:09:47.412142",
     "exception": false,
     "start_time": "2021-06-25T12:09:47.364736",
     "status": "completed"
    },
    "tags": []
   },
   "outputs": [],
   "source": [
    "#hide\n",
    "g.index.name = 'date'"
   ]
  },
  {
   "cell_type": "code",
   "execution_count": 24,
   "id": "naked-donor",
   "metadata": {
    "execution": {
     "iopub.execute_input": "2021-06-25T12:09:47.497899Z",
     "iopub.status.busy": "2021-06-25T12:09:47.497192Z",
     "iopub.status.idle": "2021-06-25T12:09:47.499410Z",
     "shell.execute_reply": "2021-06-25T12:09:47.500066Z"
    },
    "papermill": {
     "duration": 0.047441,
     "end_time": "2021-06-25T12:09:47.500218",
     "exception": false,
     "start_time": "2021-06-25T12:09:47.452777",
     "status": "completed"
    },
    "tags": []
   },
   "outputs": [],
   "source": [
    "# #hide\n",
    "# g = g.reset_index(['date'])"
   ]
  },
  {
   "cell_type": "code",
   "execution_count": 25,
   "id": "incomplete-mustang",
   "metadata": {
    "execution": {
     "iopub.execute_input": "2021-06-25T12:09:47.586946Z",
     "iopub.status.busy": "2021-06-25T12:09:47.585306Z",
     "iopub.status.idle": "2021-06-25T12:09:47.587693Z",
     "shell.execute_reply": "2021-06-25T12:09:47.588264Z"
    },
    "papermill": {
     "duration": 0.04676,
     "end_time": "2021-06-25T12:09:47.588410",
     "exception": false,
     "start_time": "2021-06-25T12:09:47.541650",
     "status": "completed"
    },
    "tags": []
   },
   "outputs": [],
   "source": [
    "#hide\n",
    "# g.head()"
   ]
  },
  {
   "cell_type": "code",
   "execution_count": 26,
   "id": "specific-kruger",
   "metadata": {
    "execution": {
     "iopub.execute_input": "2021-06-25T12:09:47.674250Z",
     "iopub.status.busy": "2021-06-25T12:09:47.672761Z",
     "iopub.status.idle": "2021-06-25T12:09:47.674975Z",
     "shell.execute_reply": "2021-06-25T12:09:47.675543Z"
    },
    "papermill": {
     "duration": 0.047527,
     "end_time": "2021-06-25T12:09:47.675700",
     "exception": false,
     "start_time": "2021-06-25T12:09:47.628173",
     "status": "completed"
    },
    "tags": []
   },
   "outputs": [],
   "source": [
    "#hide\n",
    "# g.columns = ['date','country','cases']"
   ]
  },
  {
   "cell_type": "code",
   "execution_count": 27,
   "id": "tender-conversion",
   "metadata": {
    "execution": {
     "iopub.execute_input": "2021-06-25T12:09:47.758811Z",
     "iopub.status.busy": "2021-06-25T12:09:47.757023Z",
     "iopub.status.idle": "2021-06-25T12:09:47.759606Z",
     "shell.execute_reply": "2021-06-25T12:09:47.760223Z"
    },
    "papermill": {
     "duration": 0.04446,
     "end_time": "2021-06-25T12:09:47.760379",
     "exception": false,
     "start_time": "2021-06-25T12:09:47.715919",
     "status": "completed"
    },
    "tags": []
   },
   "outputs": [],
   "source": [
    "#hide\n",
    "# g['continent'] = g.country"
   ]
  },
  {
   "cell_type": "code",
   "execution_count": 28,
   "id": "substantial-wilderness",
   "metadata": {
    "execution": {
     "iopub.execute_input": "2021-06-25T12:09:47.842941Z",
     "iopub.status.busy": "2021-06-25T12:09:47.842275Z",
     "iopub.status.idle": "2021-06-25T12:09:47.844268Z",
     "shell.execute_reply": "2021-06-25T12:09:47.844857Z"
    },
    "papermill": {
     "duration": 0.045825,
     "end_time": "2021-06-25T12:09:47.845010",
     "exception": false,
     "start_time": "2021-06-25T12:09:47.799185",
     "status": "completed"
    },
    "tags": []
   },
   "outputs": [],
   "source": [
    "#hide\n",
    "# cols = list(g.columns.values)"
   ]
  },
  {
   "cell_type": "code",
   "execution_count": 29,
   "id": "solved-farming",
   "metadata": {
    "execution": {
     "iopub.execute_input": "2021-06-25T12:09:47.929651Z",
     "iopub.status.busy": "2021-06-25T12:09:47.928868Z",
     "iopub.status.idle": "2021-06-25T12:09:47.930914Z",
     "shell.execute_reply": "2021-06-25T12:09:47.931572Z"
    },
    "papermill": {
     "duration": 0.046543,
     "end_time": "2021-06-25T12:09:47.931724",
     "exception": false,
     "start_time": "2021-06-25T12:09:47.885181",
     "status": "completed"
    },
    "tags": []
   },
   "outputs": [],
   "source": [
    "#hide\n",
    "# cols.insert(0, cols.pop())"
   ]
  },
  {
   "cell_type": "code",
   "execution_count": 30,
   "id": "executed-adoption",
   "metadata": {
    "execution": {
     "iopub.execute_input": "2021-06-25T12:09:48.017708Z",
     "iopub.status.busy": "2021-06-25T12:09:48.017005Z",
     "iopub.status.idle": "2021-06-25T12:09:48.019191Z",
     "shell.execute_reply": "2021-06-25T12:09:48.020145Z"
    },
    "papermill": {
     "duration": 0.046699,
     "end_time": "2021-06-25T12:09:48.020307",
     "exception": false,
     "start_time": "2021-06-25T12:09:47.973608",
     "status": "completed"
    },
    "tags": []
   },
   "outputs": [],
   "source": [
    "#hide\n",
    "# g = g[cols]"
   ]
  },
  {
   "cell_type": "code",
   "execution_count": 31,
   "id": "subject-dublin",
   "metadata": {
    "execution": {
     "iopub.execute_input": "2021-06-25T12:09:48.111822Z",
     "iopub.status.busy": "2021-06-25T12:09:48.111128Z",
     "iopub.status.idle": "2021-06-25T12:09:48.113301Z",
     "shell.execute_reply": "2021-06-25T12:09:48.113996Z"
    },
    "papermill": {
     "duration": 0.050888,
     "end_time": "2021-06-25T12:09:48.114176",
     "exception": false,
     "start_time": "2021-06-25T12:09:48.063288",
     "status": "completed"
    },
    "tags": []
   },
   "outputs": [],
   "source": [
    "#hide\n",
    "# g['continent'] = g['continent'].map(mapping['map.continent'])"
   ]
  },
  {
   "cell_type": "code",
   "execution_count": 32,
   "id": "freelance-scout",
   "metadata": {
    "execution": {
     "iopub.execute_input": "2021-06-25T12:09:48.211248Z",
     "iopub.status.busy": "2021-06-25T12:09:48.209935Z",
     "iopub.status.idle": "2021-06-25T12:09:48.211910Z",
     "shell.execute_reply": "2021-06-25T12:09:48.210618Z"
    },
    "papermill": {
     "duration": 0.053444,
     "end_time": "2021-06-25T12:09:48.212056",
     "exception": false,
     "start_time": "2021-06-25T12:09:48.158612",
     "status": "completed"
    },
    "tags": []
   },
   "outputs": [],
   "source": [
    "#hide\n",
    "# g.head()"
   ]
  },
  {
   "cell_type": "code",
   "execution_count": 33,
   "id": "limited-engine",
   "metadata": {
    "execution": {
     "iopub.execute_input": "2021-06-25T12:09:48.299259Z",
     "iopub.status.busy": "2021-06-25T12:09:48.298535Z",
     "iopub.status.idle": "2021-06-25T12:09:48.300594Z",
     "shell.execute_reply": "2021-06-25T12:09:48.301214Z"
    },
    "papermill": {
     "duration": 0.048983,
     "end_time": "2021-06-25T12:09:48.301350",
     "exception": false,
     "start_time": "2021-06-25T12:09:48.252367",
     "status": "completed"
    },
    "tags": []
   },
   "outputs": [],
   "source": [
    "# hide\n",
    "# g['date'] = g['date'].astype('datetime64[ns]')"
   ]
  },
  {
   "cell_type": "code",
   "execution_count": 34,
   "id": "sophisticated-supervisor",
   "metadata": {
    "execution": {
     "iopub.execute_input": "2021-06-25T12:09:48.389124Z",
     "iopub.status.busy": "2021-06-25T12:09:48.388426Z",
     "iopub.status.idle": "2021-06-25T12:09:48.391133Z",
     "shell.execute_reply": "2021-06-25T12:09:48.390560Z"
    },
    "papermill": {
     "duration": 0.047588,
     "end_time": "2021-06-25T12:09:48.391269",
     "exception": false,
     "start_time": "2021-06-25T12:09:48.343681",
     "status": "completed"
    },
    "tags": []
   },
   "outputs": [],
   "source": [
    "#hide\n",
    "# g['date'] = g.date.dt.dayofyear"
   ]
  },
  {
   "cell_type": "code",
   "execution_count": 35,
   "id": "inside-dubai",
   "metadata": {
    "execution": {
     "iopub.execute_input": "2021-06-25T12:09:48.477111Z",
     "iopub.status.busy": "2021-06-25T12:09:48.476406Z",
     "iopub.status.idle": "2021-06-25T12:09:48.478540Z",
     "shell.execute_reply": "2021-06-25T12:09:48.479197Z"
    },
    "papermill": {
     "duration": 0.047421,
     "end_time": "2021-06-25T12:09:48.479349",
     "exception": false,
     "start_time": "2021-06-25T12:09:48.431928",
     "status": "completed"
    },
    "tags": []
   },
   "outputs": [],
   "source": [
    "#hide\n",
    "# g = g.rename(columns= {'continent':'group','country':'name','cases':'value'})"
   ]
  },
  {
   "cell_type": "code",
   "execution_count": 36,
   "id": "fleet-motorcycle",
   "metadata": {
    "execution": {
     "iopub.execute_input": "2021-06-25T12:09:48.564670Z",
     "iopub.status.busy": "2021-06-25T12:09:48.564006Z",
     "iopub.status.idle": "2021-06-25T12:09:48.566139Z",
     "shell.execute_reply": "2021-06-25T12:09:48.566743Z"
    },
    "papermill": {
     "duration": 0.047144,
     "end_time": "2021-06-25T12:09:48.566925",
     "exception": false,
     "start_time": "2021-06-25T12:09:48.519781",
     "status": "completed"
    },
    "tags": []
   },
   "outputs": [],
   "source": [
    "#hide\n",
    "# cols = ['name','group','day','value']"
   ]
  },
  {
   "cell_type": "code",
   "execution_count": 37,
   "id": "continued-sleeping",
   "metadata": {
    "execution": {
     "iopub.execute_input": "2021-06-25T12:09:48.654810Z",
     "iopub.status.busy": "2021-06-25T12:09:48.653153Z",
     "iopub.status.idle": "2021-06-25T12:09:48.655547Z",
     "shell.execute_reply": "2021-06-25T12:09:48.656155Z"
    },
    "papermill": {
     "duration": 0.049652,
     "end_time": "2021-06-25T12:09:48.656345",
     "exception": false,
     "start_time": "2021-06-25T12:09:48.606693",
     "status": "completed"
    },
    "tags": []
   },
   "outputs": [],
   "source": [
    "#hide\n",
    "# g.rename(columns= {'date':'day'},inplace = True)"
   ]
  },
  {
   "cell_type": "code",
   "execution_count": 38,
   "id": "major-fight",
   "metadata": {
    "execution": {
     "iopub.execute_input": "2021-06-25T12:09:48.743507Z",
     "iopub.status.busy": "2021-06-25T12:09:48.742836Z",
     "iopub.status.idle": "2021-06-25T12:09:48.745553Z",
     "shell.execute_reply": "2021-06-25T12:09:48.745013Z"
    },
    "papermill": {
     "duration": 0.048532,
     "end_time": "2021-06-25T12:09:48.745714",
     "exception": false,
     "start_time": "2021-06-25T12:09:48.697182",
     "status": "completed"
    },
    "tags": []
   },
   "outputs": [],
   "source": [
    "#hide\n",
    "# g = g[cols]"
   ]
  },
  {
   "cell_type": "code",
   "execution_count": 39,
   "id": "structured-mobile",
   "metadata": {
    "execution": {
     "iopub.execute_input": "2021-06-25T12:09:48.831383Z",
     "iopub.status.busy": "2021-06-25T12:09:48.830683Z",
     "iopub.status.idle": "2021-06-25T12:09:48.833531Z",
     "shell.execute_reply": "2021-06-25T12:09:48.832986Z"
    },
    "papermill": {
     "duration": 0.047226,
     "end_time": "2021-06-25T12:09:48.833664",
     "exception": false,
     "start_time": "2021-06-25T12:09:48.786438",
     "status": "completed"
    },
    "tags": []
   },
   "outputs": [],
   "source": [
    "# #hide\n",
    "# g = g[g.group.notna()]"
   ]
  },
  {
   "cell_type": "code",
   "execution_count": 40,
   "id": "determined-closing",
   "metadata": {
    "execution": {
     "iopub.execute_input": "2021-06-25T12:09:48.916512Z",
     "iopub.status.busy": "2021-06-25T12:09:48.915708Z",
     "iopub.status.idle": "2021-06-25T12:09:48.918785Z",
     "shell.execute_reply": "2021-06-25T12:09:48.918237Z"
    },
    "papermill": {
     "duration": 0.045761,
     "end_time": "2021-06-25T12:09:48.918915",
     "exception": false,
     "start_time": "2021-06-25T12:09:48.873154",
     "status": "completed"
    },
    "tags": []
   },
   "outputs": [],
   "source": [
    "# #hide\n",
    "# colors = dict(zip(\n",
    "#     [\"Oceania\", \"Europe\", \"Asia\", \"South America\", \"Middle East\", \"North America\", \"Africa\"],\n",
    "#     [\"#adb0ff\", \"#ffb3ff\", \"#90d595\", \"#e48381\", \"#aafbff\", \"#f7bb5f\", \"#eafb50\"]\n",
    "# ))\n",
    "# group_lk = g.set_index('name')['group'].to_dict()"
   ]
  },
  {
   "cell_type": "code",
   "execution_count": null,
   "id": "gross-drinking",
   "metadata": {
    "papermill": {
     "duration": 0.04088,
     "end_time": "2021-06-25T12:09:48.999774",
     "exception": false,
     "start_time": "2021-06-25T12:09:48.958894",
     "status": "completed"
    },
    "tags": []
   },
   "outputs": [],
   "source": []
  },
  {
   "cell_type": "code",
   "execution_count": 41,
   "id": "subject-macintosh",
   "metadata": {
    "execution": {
     "iopub.execute_input": "2021-06-25T12:09:49.086292Z",
     "iopub.status.busy": "2021-06-25T12:09:49.085477Z",
     "iopub.status.idle": "2021-06-25T12:09:49.088794Z",
     "shell.execute_reply": "2021-06-25T12:09:49.089443Z"
    },
    "papermill": {
     "duration": 0.050325,
     "end_time": "2021-06-25T12:09:49.089600",
     "exception": false,
     "start_time": "2021-06-25T12:09:49.039275",
     "status": "completed"
    },
    "tags": []
   },
   "outputs": [],
   "source": [
    "# #hide\n",
    "# fig, ax = plt.subplots(figsize=(15, 8))\n",
    "\n",
    "# def draw_barchart(current_day):\n",
    "#     dff = g[g['day'].eq(current_day)].sort_values(by='value', ascending=True).tail(10)\n",
    "#     ax.clear()\n",
    "#     ax.barh(dff['name'], dff['value'], color=[colors[group_lk[x]] for x in dff['name']])\n",
    "#     dx = dff['value'].max() / 200\n",
    "    \n",
    "#     for i, (value, name) in enumerate(zip(dff['value'], dff['name'])):\n",
    "#         ax.text(value-dx, i,     name,           size=14, weight=600, ha='right', va='bottom')\n",
    "#         ax.text(value-dx, i-.25, group_lk[name], size=10, color='#444444', ha='right', va='baseline')\n",
    "#         ax.text(value+dx, i,     f'{value:,.0f}',  size=14, ha='left',  va='center')\n",
    "#     ax.text(1, 0.4, current_day, transform=ax.transAxes, color='#777777', size=46, ha='right', weight=800)\n",
    "#     ax.text(0, 1.06, 'Population (thousands)', transform=ax.transAxes, size=12, color='#777777')\n",
    "#     ax.xaxis.set_major_formatter(ticker.StrMethodFormatter('{x:,.0f}'))\n",
    "#     ax.xaxis.set_ticks_position('top')\n",
    "#     ax.tick_params(axis='x', colors='#777777', labelsize=12)\n",
    "#     ax.set_yticks([])\n",
    "#     ax.margins(0, 0.01)\n",
    "#     ax.grid(which='major', axis='x', linestyle='-')\n",
    "#     ax.set_axisbelow(True)\n",
    "    \n",
    "#     ax.text(0, 1.15, 'Coronavirus',\n",
    "#             transform=ax.transAxes, size=24, weight=600, ha='left', va='top')\n",
    "# #     ax.text(1, 0, 'by @pratapvardhan; credit @jburnmurdoch', transform=ax.transAxes, color='#777777', ha='right',\n",
    "# #             bbox=dict(facecolor='white', alpha=0.8, edgecolor='white'))\n",
    "#     plt.box(False)"
   ]
  },
  {
   "cell_type": "code",
   "execution_count": 42,
   "id": "sexual-wages",
   "metadata": {
    "execution": {
     "iopub.execute_input": "2021-06-25T12:09:49.179794Z",
     "iopub.status.busy": "2021-06-25T12:09:49.179046Z",
     "iopub.status.idle": "2021-06-25T12:09:49.181080Z",
     "shell.execute_reply": "2021-06-25T12:09:49.181604Z"
    },
    "papermill": {
     "duration": 0.048234,
     "end_time": "2021-06-25T12:09:49.181774",
     "exception": false,
     "start_time": "2021-06-25T12:09:49.133540",
     "status": "completed"
    },
    "tags": []
   },
   "outputs": [],
   "source": [
    "# #hide_input\n",
    "# fig, ax = plt.subplots(figsize=(15, 8))\n",
    "# animator = animation.FuncAnimation(fig, draw_barchart, frames=range(g.day.values.min(), g.day.values.max()))\n",
    "# HTML(animator.to_jshtml())\n",
    "# # or use animator.to_html5_video() or animator.save() "
   ]
  },
  {
   "cell_type": "code",
   "execution_count": null,
   "id": "australian-container",
   "metadata": {
    "papermill": {
     "duration": 0.042518,
     "end_time": "2021-06-25T12:09:49.263782",
     "exception": false,
     "start_time": "2021-06-25T12:09:49.221264",
     "status": "completed"
    },
    "tags": []
   },
   "outputs": [],
   "source": []
  },
  {
   "cell_type": "code",
   "execution_count": null,
   "id": "mediterranean-pontiac",
   "metadata": {
    "papermill": {
     "duration": 0.039685,
     "end_time": "2021-06-25T12:09:49.344363",
     "exception": false,
     "start_time": "2021-06-25T12:09:49.304678",
     "status": "completed"
    },
    "tags": []
   },
   "outputs": [],
   "source": []
  },
  {
   "cell_type": "code",
   "execution_count": null,
   "id": "aging-legislature",
   "metadata": {
    "papermill": {
     "duration": 0.03999,
     "end_time": "2021-06-25T12:09:49.425007",
     "exception": false,
     "start_time": "2021-06-25T12:09:49.385017",
     "status": "completed"
    },
    "tags": []
   },
   "outputs": [],
   "source": []
  }
 ],
 "metadata": {
  "kernelspec": {
   "display_name": "Python 3",
   "language": "python",
   "name": "python3"
  },
  "language_info": {
   "codemirror_mode": {
    "name": "ipython",
    "version": 3
   },
   "file_extension": ".py",
   "mimetype": "text/x-python",
   "name": "python",
   "nbconvert_exporter": "python",
   "pygments_lexer": "ipython3",
   "version": "3.6.13"
  },
  "papermill": {
   "duration": 7.210405,
   "end_time": "2021-06-25T12:09:49.774743",
   "environment_variables": {},
   "exception": null,
   "input_path": "2020-03-21-covid19exp.ipynb",
   "output_path": "2020-03-21-covid19exp.ipynb",
   "parameters": {},
   "start_time": "2021-06-25T12:09:42.564338",
   "version": "2.0.0"
  }
 },
 "nbformat": 4,
 "nbformat_minor": 5
}