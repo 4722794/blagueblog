{
 "cells": [
  {
   "cell_type": "markdown",
   "metadata": {
    "papermill": {
     "duration": 0.03828,
     "end_time": "2020-12-10T12:07:33.925212",
     "exception": false,
     "start_time": "2020-12-10T12:07:33.886932",
     "status": "completed"
    },
    "tags": []
   },
   "source": [
    "# COVID-19 Case Race\n",
    "> A race chart to see rising cases around the world\n",
    "\n",
    "- author: Hargun Oberoi\n",
    "- image: images/covid-overview.png\n",
    "- hide: false\n",
    "- badges: false"
   ]
  },
  {
   "cell_type": "code",
   "execution_count": 1,
   "metadata": {
    "execution": {
     "iopub.execute_input": "2020-12-10T12:07:34.003314Z",
     "iopub.status.busy": "2020-12-10T12:07:34.002544Z",
     "iopub.status.idle": "2020-12-10T12:07:34.436386Z",
     "shell.execute_reply": "2020-12-10T12:07:34.437017Z"
    },
    "papermill": {
     "duration": 0.478769,
     "end_time": "2020-12-10T12:07:34.437248",
     "exception": false,
     "start_time": "2020-12-10T12:07:33.958479",
     "status": "completed"
    },
    "tags": []
   },
   "outputs": [],
   "source": [
    "#hide\n",
    "import numpy as np\n",
    "import pandas as pd\n",
    "from jinja2 import Template\n",
    "from IPython.display import HTML"
   ]
  },
  {
   "cell_type": "code",
   "execution_count": 2,
   "metadata": {
    "execution": {
     "iopub.execute_input": "2020-12-10T12:07:35.032673Z",
     "iopub.status.busy": "2020-12-10T12:07:35.031980Z",
     "iopub.status.idle": "2020-12-10T12:07:35.034963Z",
     "shell.execute_reply": "2020-12-10T12:07:35.035572Z"
    },
    "papermill": {
     "duration": 0.566797,
     "end_time": "2020-12-10T12:07:35.035750",
     "exception": false,
     "start_time": "2020-12-10T12:07:34.468953",
     "status": "completed"
    },
    "tags": []
   },
   "outputs": [],
   "source": [
    "#hide\n",
    "\n",
    "# FETCH\n",
    "base_url = 'https://raw.githubusercontent.com/pratapvardhan/notebooks/master/covid19/'\n",
    "paths = {\n",
    "    'mapping': base_url + 'mapping_countries.csv',\n",
    "    'overview': base_url + 'overview.tpl'\n",
    "}"
   ]
  },
  {
   "cell_type": "code",
   "execution_count": 3,
   "metadata": {
    "execution": {
     "iopub.execute_input": "2020-12-10T12:07:35.372224Z",
     "iopub.status.busy": "2020-12-10T12:07:35.371539Z",
     "iopub.status.idle": "2020-12-10T12:07:35.373869Z",
     "shell.execute_reply": "2020-12-10T12:07:35.374449Z"
    },
    "papermill": {
     "duration": 0.05067,
     "end_time": "2020-12-10T12:07:35.374634",
     "exception": false,
     "start_time": "2020-12-10T12:07:35.323964",
     "status": "completed"
    },
    "tags": []
   },
   "outputs": [
    {
     "data": {
      "text/plain": [
       "'https://raw.githubusercontent.com/pratapvardhan/notebooks/master/covid19/mapping_countries.csv'"
      ]
     },
     "execution_count": 3,
     "metadata": {},
     "output_type": "execute_result"
    }
   ],
   "source": [
    "#hide\n",
    "paths['mapping']"
   ]
  },
  {
   "cell_type": "code",
   "execution_count": 4,
   "metadata": {
    "execution": {
     "iopub.execute_input": "2020-12-10T12:07:35.448059Z",
     "iopub.status.busy": "2020-12-10T12:07:35.447390Z",
     "iopub.status.idle": "2020-12-10T12:07:35.449074Z",
     "shell.execute_reply": "2020-12-10T12:07:35.449572Z"
    },
    "papermill": {
     "duration": 0.042142,
     "end_time": "2020-12-10T12:07:35.449757",
     "exception": false,
     "start_time": "2020-12-10T12:07:35.407615",
     "status": "completed"
    },
    "tags": []
   },
   "outputs": [],
   "source": [
    "#hide\n",
    "def get_mappings(url):\n",
    "    df = pd.read_csv(url)\n",
    "    return {\n",
    "        'df': df,\n",
    "        'replace.country': dict(df.dropna(subset=['Name']).set_index('Country')['Name']),\n",
    "        'map.continent': dict(df.set_index('Name')['Continent'])\n",
    "    }"
   ]
  },
  {
   "cell_type": "code",
   "execution_count": 5,
   "metadata": {
    "execution": {
     "iopub.execute_input": "2020-12-10T12:07:35.524166Z",
     "iopub.status.busy": "2020-12-10T12:07:35.523390Z",
     "iopub.status.idle": "2020-12-10T12:07:35.573368Z",
     "shell.execute_reply": "2020-12-10T12:07:35.572444Z"
    },
    "papermill": {
     "duration": 0.090915,
     "end_time": "2020-12-10T12:07:35.573617",
     "exception": false,
     "start_time": "2020-12-10T12:07:35.482702",
     "status": "completed"
    },
    "tags": []
   },
   "outputs": [],
   "source": [
    "#hide\n",
    "mapping = get_mappings(paths['mapping'])"
   ]
  },
  {
   "cell_type": "code",
   "execution_count": 6,
   "metadata": {
    "execution": {
     "iopub.execute_input": "2020-12-10T12:07:35.647553Z",
     "iopub.status.busy": "2020-12-10T12:07:35.646871Z",
     "iopub.status.idle": "2020-12-10T12:07:35.649356Z",
     "shell.execute_reply": "2020-12-10T12:07:35.648830Z"
    },
    "papermill": {
     "duration": 0.042931,
     "end_time": "2020-12-10T12:07:35.649514",
     "exception": false,
     "start_time": "2020-12-10T12:07:35.606583",
     "status": "completed"
    },
    "tags": []
   },
   "outputs": [],
   "source": [
    "#hide\n",
    "def get_template(path):\n",
    "    from urllib.parse import urlparse\n",
    "    if bool(urlparse(path).netloc):\n",
    "        from urllib.request import urlopen\n",
    "        return urlopen(path).read().decode('utf8')\n",
    "    return open(path).read()"
   ]
  },
  {
   "cell_type": "code",
   "execution_count": 7,
   "metadata": {
    "execution": {
     "iopub.execute_input": "2020-12-10T12:07:35.720940Z",
     "iopub.status.busy": "2020-12-10T12:07:35.720284Z",
     "iopub.status.idle": "2020-12-10T12:07:35.721868Z",
     "shell.execute_reply": "2020-12-10T12:07:35.722389Z"
    },
    "papermill": {
     "duration": 0.041074,
     "end_time": "2020-12-10T12:07:35.722564",
     "exception": false,
     "start_time": "2020-12-10T12:07:35.681490",
     "status": "completed"
    },
    "tags": []
   },
   "outputs": [],
   "source": [
    "#hide\n",
    "def get_frame(name):\n",
    "    url = (\n",
    "        'https://raw.githubusercontent.com/CSSEGISandData/COVID-19/master/csse_covid_19_data/'\n",
    "        f'csse_covid_19_time_series/time_series_covid19_{name}_global.csv')\n",
    "    df = pd.read_csv(url)\n",
    "    # rename countries\n",
    "    df['Country/Region'] = df['Country/Region'].replace(mapping['replace.country'])\n",
    "    return df"
   ]
  },
  {
   "cell_type": "code",
   "execution_count": 8,
   "metadata": {
    "execution": {
     "iopub.execute_input": "2020-12-10T12:07:35.797382Z",
     "iopub.status.busy": "2020-12-10T12:07:35.796734Z",
     "iopub.status.idle": "2020-12-10T12:07:35.800057Z",
     "shell.execute_reply": "2020-12-10T12:07:35.799515Z"
    },
    "papermill": {
     "duration": 0.04466,
     "end_time": "2020-12-10T12:07:35.800212",
     "exception": false,
     "start_time": "2020-12-10T12:07:35.755552",
     "status": "completed"
    },
    "tags": []
   },
   "outputs": [],
   "source": [
    "#hide\n",
    "def get_dates(df):\n",
    "    dt_cols = df.columns[~df.columns.isin(['Province/State', 'Country/Region', 'Lat', 'Long'])]\n",
    "    LAST_DATE_I = -1\n",
    "    # sometimes last column may be empty, then go backwards\n",
    "    for i in range(-1, -len(dt_cols), -1):\n",
    "        if not df[dt_cols[i]].fillna(0).eq(0).all():\n",
    "            LAST_DATE_I = i\n",
    "            break\n",
    "    return LAST_DATE_I, dt_cols"
   ]
  },
  {
   "cell_type": "code",
   "execution_count": 9,
   "metadata": {
    "execution": {
     "iopub.execute_input": "2020-12-10T12:07:35.878287Z",
     "iopub.status.busy": "2020-12-10T12:07:35.877634Z",
     "iopub.status.idle": "2020-12-10T12:07:36.199643Z",
     "shell.execute_reply": "2020-12-10T12:07:36.198991Z"
    },
    "papermill": {
     "duration": 0.367537,
     "end_time": "2020-12-10T12:07:36.199820",
     "exception": false,
     "start_time": "2020-12-10T12:07:35.832283",
     "status": "completed"
    },
    "tags": []
   },
   "outputs": [],
   "source": [
    "#hide\n",
    "COL_REGION = 'Country/Region'\n",
    "# Confirmed, Recovered, Deaths\n",
    "df = get_frame('confirmed')\n",
    "# dft_: timeseries, dfc_: today country agg\n",
    "dft_cases = df\n",
    "dft_deaths = get_frame('deaths')\n",
    "dft_recovered = get_frame('recovered')\n",
    "LAST_DATE_I, dt_cols = get_dates(df)"
   ]
  },
  {
   "cell_type": "code",
   "execution_count": 10,
   "metadata": {
    "execution": {
     "iopub.execute_input": "2020-12-10T12:07:36.272513Z",
     "iopub.status.busy": "2020-12-10T12:07:36.271852Z",
     "iopub.status.idle": "2020-12-10T12:07:36.273829Z",
     "shell.execute_reply": "2020-12-10T12:07:36.274430Z"
    },
    "papermill": {
     "duration": 0.042471,
     "end_time": "2020-12-10T12:07:36.274615",
     "exception": false,
     "start_time": "2020-12-10T12:07:36.232144",
     "status": "completed"
    },
    "tags": []
   },
   "outputs": [],
   "source": [
    "#hide\n",
    "LAST_DATE_I, dt_cols = get_dates(df)\n",
    "dt_today =dt_cols[LAST_DATE_I]\n",
    "# dt_5day = dt_cols[LAST_DATE_I - 5]\n",
    "dt_yday = dt_cols[LAST_DATE_I - 1]"
   ]
  },
  {
   "cell_type": "code",
   "execution_count": 11,
   "metadata": {
    "execution": {
     "iopub.execute_input": "2020-12-10T12:07:36.348870Z",
     "iopub.status.busy": "2020-12-10T12:07:36.348175Z",
     "iopub.status.idle": "2020-12-10T12:07:36.357072Z",
     "shell.execute_reply": "2020-12-10T12:07:36.357593Z"
    },
    "papermill": {
     "duration": 0.051187,
     "end_time": "2020-12-10T12:07:36.357797",
     "exception": false,
     "start_time": "2020-12-10T12:07:36.306610",
     "status": "completed"
    },
    "tags": []
   },
   "outputs": [],
   "source": [
    "#hide\n",
    "dfc_cases = dft_cases.groupby(COL_REGION)[dt_today].sum()\n",
    "dfc_deaths = dft_deaths.groupby(COL_REGION)[dt_today].sum()\n",
    "# dfp_cases = dft_cases.groupby(COL_REGION)[dt_5day].sum()\n",
    "# dfp_deaths = dft_deaths.groupby(COL_REGION)[dt_5day].sum()\n",
    "dfp_cases = dft_cases.groupby(COL_REGION)[dt_yday].sum()\n",
    "dfp_deaths = dft_deaths.groupby(COL_REGION)[dt_yday].sum()"
   ]
  },
  {
   "cell_type": "code",
   "execution_count": 12,
   "metadata": {
    "execution": {
     "iopub.execute_input": "2020-12-10T12:07:36.429692Z",
     "iopub.status.busy": "2020-12-10T12:07:36.429043Z",
     "iopub.status.idle": "2020-12-10T12:07:36.435128Z",
     "shell.execute_reply": "2020-12-10T12:07:36.434572Z"
    },
    "papermill": {
     "duration": 0.045559,
     "end_time": "2020-12-10T12:07:36.435292",
     "exception": false,
     "start_time": "2020-12-10T12:07:36.389733",
     "status": "completed"
    },
    "tags": []
   },
   "outputs": [],
   "source": [
    "#hide\n",
    "df_table = (pd.DataFrame(dict(Cases = dfc_cases, Deaths = dfc_deaths, PCases = dfp_cases, PDeaths = dfp_deaths))\n",
    "            .sort_values(by = ['Cases','Deaths'], ascending = [False, False])\n",
    "            .reset_index())"
   ]
  },
  {
   "cell_type": "code",
   "execution_count": 13,
   "metadata": {
    "execution": {
     "iopub.execute_input": "2020-12-10T12:07:36.520342Z",
     "iopub.status.busy": "2020-12-10T12:07:36.519659Z",
     "iopub.status.idle": "2020-12-10T12:07:36.528590Z",
     "shell.execute_reply": "2020-12-10T12:07:36.529170Z"
    },
    "papermill": {
     "duration": 0.062724,
     "end_time": "2020-12-10T12:07:36.529356",
     "exception": false,
     "start_time": "2020-12-10T12:07:36.466632",
     "status": "completed"
    },
    "tags": []
   },
   "outputs": [
    {
     "data": {
      "text/html": [
       "<div>\n",
       "<style scoped>\n",
       "    .dataframe tbody tr th:only-of-type {\n",
       "        vertical-align: middle;\n",
       "    }\n",
       "\n",
       "    .dataframe tbody tr th {\n",
       "        vertical-align: top;\n",
       "    }\n",
       "\n",
       "    .dataframe thead th {\n",
       "        text-align: right;\n",
       "    }\n",
       "</style>\n",
       "<table border=\"1\" class=\"dataframe\">\n",
       "  <thead>\n",
       "    <tr style=\"text-align: right;\">\n",
       "      <th></th>\n",
       "      <th>Country/Region</th>\n",
       "      <th>Cases</th>\n",
       "      <th>Deaths</th>\n",
       "      <th>PCases</th>\n",
       "      <th>PDeaths</th>\n",
       "      <th>Cases (+)</th>\n",
       "      <th>Deaths (+)</th>\n",
       "      <th>Fatality Rate</th>\n",
       "      <th>Continent</th>\n",
       "    </tr>\n",
       "  </thead>\n",
       "  <tbody>\n",
       "    <tr>\n",
       "      <th>0</th>\n",
       "      <td>US</td>\n",
       "      <td>15386562</td>\n",
       "      <td>289373</td>\n",
       "      <td>15165295</td>\n",
       "      <td>286249</td>\n",
       "      <td>221267</td>\n",
       "      <td>3124</td>\n",
       "      <td>1.88</td>\n",
       "      <td>North America</td>\n",
       "    </tr>\n",
       "    <tr>\n",
       "      <th>1</th>\n",
       "      <td>India</td>\n",
       "      <td>9767371</td>\n",
       "      <td>141772</td>\n",
       "      <td>9735850</td>\n",
       "      <td>141360</td>\n",
       "      <td>31521</td>\n",
       "      <td>412</td>\n",
       "      <td>1.45</td>\n",
       "      <td>Asia</td>\n",
       "    </tr>\n",
       "    <tr>\n",
       "      <th>2</th>\n",
       "      <td>Brazil</td>\n",
       "      <td>6728452</td>\n",
       "      <td>178995</td>\n",
       "      <td>6674999</td>\n",
       "      <td>178159</td>\n",
       "      <td>53453</td>\n",
       "      <td>836</td>\n",
       "      <td>2.66</td>\n",
       "      <td>South America</td>\n",
       "    </tr>\n",
       "    <tr>\n",
       "      <th>3</th>\n",
       "      <td>Russia</td>\n",
       "      <td>2518551</td>\n",
       "      <td>44220</td>\n",
       "      <td>2492713</td>\n",
       "      <td>43674</td>\n",
       "      <td>25838</td>\n",
       "      <td>546</td>\n",
       "      <td>1.76</td>\n",
       "      <td>Europe</td>\n",
       "    </tr>\n",
       "    <tr>\n",
       "      <th>4</th>\n",
       "      <td>France</td>\n",
       "      <td>2377913</td>\n",
       "      <td>56752</td>\n",
       "      <td>2363196</td>\n",
       "      <td>56453</td>\n",
       "      <td>14717</td>\n",
       "      <td>299</td>\n",
       "      <td>2.39</td>\n",
       "      <td>Europe</td>\n",
       "    </tr>\n",
       "  </tbody>\n",
       "</table>\n",
       "</div>"
      ],
      "text/plain": [
       "  Country/Region     Cases  Deaths    PCases  PDeaths  Cases (+)  Deaths (+)  \\\n",
       "0             US  15386562  289373  15165295   286249     221267        3124   \n",
       "1          India   9767371  141772   9735850   141360      31521         412   \n",
       "2         Brazil   6728452  178995   6674999   178159      53453         836   \n",
       "3         Russia   2518551   44220   2492713    43674      25838         546   \n",
       "4         France   2377913   56752   2363196    56453      14717         299   \n",
       "\n",
       "   Fatality Rate      Continent  \n",
       "0           1.88  North America  \n",
       "1           1.45           Asia  \n",
       "2           2.66  South America  \n",
       "3           1.76         Europe  \n",
       "4           2.39         Europe  "
      ]
     },
     "execution_count": 13,
     "metadata": {},
     "output_type": "execute_result"
    }
   ],
   "source": [
    "#hide\n",
    "for c in 'Cases, Deaths'.split(', '):\n",
    "    df_table[f'{c} (+)'] = (df_table[c] - df_table[f'P{c}']).clip(0)\n",
    "    #Clip ça veut dire, les chiffres negatif sont interdit\n",
    "df_table['Fatality Rate'] = (100* df_table['Deaths']/ df_table['Cases']).round(2)\n",
    "df_table['Continent'] = df_table['Country/Region'].map(mapping['map.continent'])\n",
    "df_table.head(5)"
   ]
  },
  {
   "cell_type": "code",
   "execution_count": 14,
   "metadata": {
    "execution": {
     "iopub.execute_input": "2020-12-10T12:07:36.602807Z",
     "iopub.status.busy": "2020-12-10T12:07:36.602076Z",
     "iopub.status.idle": "2020-12-10T12:07:36.606035Z",
     "shell.execute_reply": "2020-12-10T12:07:36.605526Z"
    },
    "papermill": {
     "duration": 0.044728,
     "end_time": "2020-12-10T12:07:36.606191",
     "exception": false,
     "start_time": "2020-12-10T12:07:36.561463",
     "status": "completed"
    },
    "tags": []
   },
   "outputs": [],
   "source": [
    "#hide\n",
    "#delete problematic countries from table\n",
    "df_table = df_table[~df_table['Country/Region'].isin(['Cape Verde', 'Cruise Ship', 'Kosovo'])]"
   ]
  },
  {
   "cell_type": "code",
   "execution_count": 15,
   "metadata": {
    "execution": {
     "iopub.execute_input": "2020-12-10T12:07:36.681363Z",
     "iopub.status.busy": "2020-12-10T12:07:36.680731Z",
     "iopub.status.idle": "2020-12-10T12:07:36.701638Z",
     "shell.execute_reply": "2020-12-10T12:07:36.701131Z"
    },
    "papermill": {
     "duration": 0.06382,
     "end_time": "2020-12-10T12:07:36.701793",
     "exception": false,
     "start_time": "2020-12-10T12:07:36.637973",
     "status": "completed"
    },
    "tags": []
   },
   "outputs": [
    {
     "data": {
      "text/html": [
       "<div>\n",
       "<style scoped>\n",
       "    .dataframe tbody tr th:only-of-type {\n",
       "        vertical-align: middle;\n",
       "    }\n",
       "\n",
       "    .dataframe tbody tr th {\n",
       "        vertical-align: top;\n",
       "    }\n",
       "\n",
       "    .dataframe thead th {\n",
       "        text-align: right;\n",
       "    }\n",
       "</style>\n",
       "<table border=\"1\" class=\"dataframe\">\n",
       "  <thead>\n",
       "    <tr style=\"text-align: right;\">\n",
       "      <th></th>\n",
       "      <th>Country/Region</th>\n",
       "      <th>Cases</th>\n",
       "      <th>Deaths</th>\n",
       "      <th>PCases</th>\n",
       "      <th>PDeaths</th>\n",
       "      <th>Cases (+)</th>\n",
       "      <th>Deaths (+)</th>\n",
       "      <th>Fatality Rate</th>\n",
       "      <th>Continent</th>\n",
       "    </tr>\n",
       "  </thead>\n",
       "  <tbody>\n",
       "    <tr>\n",
       "      <th>0</th>\n",
       "      <td>US</td>\n",
       "      <td>15386562</td>\n",
       "      <td>289373</td>\n",
       "      <td>15165295</td>\n",
       "      <td>286249</td>\n",
       "      <td>221267</td>\n",
       "      <td>3124</td>\n",
       "      <td>1.9</td>\n",
       "      <td>North America</td>\n",
       "    </tr>\n",
       "    <tr>\n",
       "      <th>1</th>\n",
       "      <td>India</td>\n",
       "      <td>9767371</td>\n",
       "      <td>141772</td>\n",
       "      <td>9735850</td>\n",
       "      <td>141360</td>\n",
       "      <td>31521</td>\n",
       "      <td>412</td>\n",
       "      <td>1.5</td>\n",
       "      <td>Asia</td>\n",
       "    </tr>\n",
       "    <tr>\n",
       "      <th>2</th>\n",
       "      <td>Brazil</td>\n",
       "      <td>6728452</td>\n",
       "      <td>178995</td>\n",
       "      <td>6674999</td>\n",
       "      <td>178159</td>\n",
       "      <td>53453</td>\n",
       "      <td>836</td>\n",
       "      <td>2.7</td>\n",
       "      <td>South America</td>\n",
       "    </tr>\n",
       "    <tr>\n",
       "      <th>3</th>\n",
       "      <td>Russia</td>\n",
       "      <td>2518551</td>\n",
       "      <td>44220</td>\n",
       "      <td>2492713</td>\n",
       "      <td>43674</td>\n",
       "      <td>25838</td>\n",
       "      <td>546</td>\n",
       "      <td>1.8</td>\n",
       "      <td>Europe</td>\n",
       "    </tr>\n",
       "    <tr>\n",
       "      <th>4</th>\n",
       "      <td>France</td>\n",
       "      <td>2377913</td>\n",
       "      <td>56752</td>\n",
       "      <td>2363196</td>\n",
       "      <td>56453</td>\n",
       "      <td>14717</td>\n",
       "      <td>299</td>\n",
       "      <td>2.4</td>\n",
       "      <td>Europe</td>\n",
       "    </tr>\n",
       "  </tbody>\n",
       "</table>\n",
       "</div>"
      ],
      "text/plain": [
       "  Country/Region     Cases  Deaths    PCases  PDeaths  Cases (+)  Deaths (+)  \\\n",
       "0             US  15386562  289373  15165295   286249     221267        3124   \n",
       "1          India   9767371  141772   9735850   141360      31521         412   \n",
       "2         Brazil   6728452  178995   6674999   178159      53453         836   \n",
       "3         Russia   2518551   44220   2492713    43674      25838         546   \n",
       "4         France   2377913   56752   2363196    56453      14717         299   \n",
       "\n",
       "   Fatality Rate      Continent  \n",
       "0            1.9  North America  \n",
       "1            1.5           Asia  \n",
       "2            2.7  South America  \n",
       "3            1.8         Europe  \n",
       "4            2.4         Europe  "
      ]
     },
     "execution_count": 15,
     "metadata": {},
     "output_type": "execute_result"
    }
   ],
   "source": [
    "#hide\n",
    "df_table = (pd.DataFrame(dict(Cases=dfc_cases, Deaths=dfc_deaths, PCases=dfp_cases, PDeaths=dfp_deaths))\n",
    "             .sort_values(by=['Cases', 'Deaths'], ascending=[False, False])\n",
    "             .reset_index())\n",
    "df_table.rename(columns={'index': 'Country/Region'}, inplace=True)\n",
    "for c in 'Cases, Deaths'.split(', '):\n",
    "    df_table[f'{c} (+)'] = (df_table[c] - df_table[f'P{c}']).clip(0)  # DATA BUG\n",
    "df_table['Fatality Rate'] = (100 * df_table['Deaths'] / df_table['Cases']).round(1)\n",
    "df_table['Continent'] = df_table['Country/Region'].map(mapping['map.continent'])\n",
    "df_table.head(5)"
   ]
  },
  {
   "cell_type": "code",
   "execution_count": 16,
   "metadata": {
    "execution": {
     "iopub.execute_input": "2020-12-10T12:07:36.783174Z",
     "iopub.status.busy": "2020-12-10T12:07:36.782464Z",
     "iopub.status.idle": "2020-12-10T12:07:36.784389Z",
     "shell.execute_reply": "2020-12-10T12:07:36.784917Z"
    },
    "papermill": {
     "duration": 0.05057,
     "end_time": "2020-12-10T12:07:36.785098",
     "exception": false,
     "start_time": "2020-12-10T12:07:36.734528",
     "status": "completed"
    },
    "tags": []
   },
   "outputs": [],
   "source": [
    "#hide\n",
    "#delete problematic countries from table\n",
    "df_table = df_table[~df_table['Country/Region'].isin(['Cape Verde', 'Cruise Ship', 'Kosovo'])]"
   ]
  },
  {
   "cell_type": "code",
   "execution_count": 17,
   "metadata": {
    "execution": {
     "iopub.execute_input": "2020-12-10T12:07:36.862174Z",
     "iopub.status.busy": "2020-12-10T12:07:36.861432Z",
     "iopub.status.idle": "2020-12-10T12:07:36.877630Z",
     "shell.execute_reply": "2020-12-10T12:07:36.878490Z"
    },
    "papermill": {
     "duration": 0.060669,
     "end_time": "2020-12-10T12:07:36.878749",
     "exception": false,
     "start_time": "2020-12-10T12:07:36.818080",
     "status": "completed"
    },
    "tags": []
   },
   "outputs": [],
   "source": [
    "#hide\n",
    "metrics = [df_table.columns[index] for index in [1,2,5,6]]\n",
    "# s_china = df_table[df_table['Country/Region'].eq('China')][metrics].sum().add_prefix('China ')\n",
    "s_us = df_table[df_table['Country/Region'].eq('US')][metrics].sum().add_prefix('US ')\n",
    "s_eu = df_table[df_table['Continent'].eq('Europe')][metrics].sum().add_prefix('EU ')\n",
    "s_ind = df_table[df_table['Country/Region'].eq('India')][metrics].sum().add_prefix('India ')\n",
    "summary = {'updated': pd.to_datetime(dt_today), 'since': pd.to_datetime(dt_yday)}\n",
    "summary = {'updated': pd.to_datetime(dt_today), 'since': pd.to_datetime(dt_yday)}\n",
    "summary = {**summary, **df_table[metrics].sum(), **s_ind, **s_us, **s_eu}"
   ]
  },
  {
   "cell_type": "code",
   "execution_count": 18,
   "metadata": {
    "execution": {
     "iopub.execute_input": "2020-12-10T12:07:36.954657Z",
     "iopub.status.busy": "2020-12-10T12:07:36.954031Z",
     "iopub.status.idle": "2020-12-10T12:07:36.964939Z",
     "shell.execute_reply": "2020-12-10T12:07:36.964429Z"
    },
    "papermill": {
     "duration": 0.052554,
     "end_time": "2020-12-10T12:07:36.965093",
     "exception": false,
     "start_time": "2020-12-10T12:07:36.912539",
     "status": "completed"
    },
    "tags": []
   },
   "outputs": [],
   "source": [
    "#hide\n",
    "dft_ct_new_cases = dft_cases.groupby(COL_REGION)[dt_cols].sum().diff(axis=1).fillna(0).astype(int)"
   ]
  },
  {
   "cell_type": "code",
   "execution_count": 19,
   "metadata": {
    "execution": {
     "iopub.execute_input": "2020-12-10T12:07:37.039837Z",
     "iopub.status.busy": "2020-12-10T12:07:37.038799Z",
     "iopub.status.idle": "2020-12-10T12:07:37.042190Z",
     "shell.execute_reply": "2020-12-10T12:07:37.041547Z"
    },
    "papermill": {
     "duration": 0.044223,
     "end_time": "2020-12-10T12:07:37.042355",
     "exception": false,
     "start_time": "2020-12-10T12:07:36.998132",
     "status": "completed"
    },
    "tags": []
   },
   "outputs": [],
   "source": [
    "#hide\n",
    "everydaycases = dft_ct_new_cases.cumsum(axis=1)"
   ]
  },
  {
   "cell_type": "code",
   "execution_count": 20,
   "metadata": {
    "execution": {
     "iopub.execute_input": "2020-12-10T12:07:37.120307Z",
     "iopub.status.busy": "2020-12-10T12:07:37.119562Z",
     "iopub.status.idle": "2020-12-10T12:07:38.256571Z",
     "shell.execute_reply": "2020-12-10T12:07:38.255924Z"
    },
    "papermill": {
     "duration": 1.178186,
     "end_time": "2020-12-10T12:07:38.256756",
     "exception": false,
     "start_time": "2020-12-10T12:07:37.078570",
     "status": "completed"
    },
    "tags": []
   },
   "outputs": [],
   "source": [
    "#hide\n",
    "import pandas as pd\n",
    "import matplotlib.pyplot as plt\n",
    "import matplotlib.ticker as ticker\n",
    "import matplotlib.animation as animation\n",
    "from IPython.display import HTML"
   ]
  },
  {
   "cell_type": "code",
   "execution_count": 21,
   "metadata": {
    "execution": {
     "iopub.execute_input": "2020-12-10T12:07:38.331242Z",
     "iopub.status.busy": "2020-12-10T12:07:38.330565Z",
     "iopub.status.idle": "2020-12-10T12:07:38.336917Z",
     "shell.execute_reply": "2020-12-10T12:07:38.336365Z"
    },
    "papermill": {
     "duration": 0.046699,
     "end_time": "2020-12-10T12:07:38.337065",
     "exception": false,
     "start_time": "2020-12-10T12:07:38.290366",
     "status": "completed"
    },
    "tags": []
   },
   "outputs": [],
   "source": [
    "#hide\n",
    "t = everydaycases.stack()"
   ]
  },
  {
   "cell_type": "code",
   "execution_count": 22,
   "metadata": {
    "execution": {
     "iopub.execute_input": "2020-12-10T12:07:38.409867Z",
     "iopub.status.busy": "2020-12-10T12:07:38.409243Z",
     "iopub.status.idle": "2020-12-10T12:07:38.416216Z",
     "shell.execute_reply": "2020-12-10T12:07:38.416971Z"
    },
    "papermill": {
     "duration": 0.046235,
     "end_time": "2020-12-10T12:07:38.417162",
     "exception": false,
     "start_time": "2020-12-10T12:07:38.370927",
     "status": "completed"
    },
    "tags": []
   },
   "outputs": [],
   "source": [
    "#hide\n",
    "g = t.reset_index(['Country/Region'])"
   ]
  },
  {
   "cell_type": "code",
   "execution_count": 23,
   "metadata": {
    "execution": {
     "iopub.execute_input": "2020-12-10T12:07:38.496523Z",
     "iopub.status.busy": "2020-12-10T12:07:38.495885Z",
     "iopub.status.idle": "2020-12-10T12:07:38.497641Z",
     "shell.execute_reply": "2020-12-10T12:07:38.498216Z"
    },
    "papermill": {
     "duration": 0.045037,
     "end_time": "2020-12-10T12:07:38.498389",
     "exception": false,
     "start_time": "2020-12-10T12:07:38.453352",
     "status": "completed"
    },
    "tags": []
   },
   "outputs": [],
   "source": [
    "#hide\n",
    "g.index.name = 'date'"
   ]
  },
  {
   "cell_type": "code",
   "execution_count": 24,
   "metadata": {
    "execution": {
     "iopub.execute_input": "2020-12-10T12:07:38.578671Z",
     "iopub.status.busy": "2020-12-10T12:07:38.577964Z",
     "iopub.status.idle": "2020-12-10T12:07:38.579347Z",
     "shell.execute_reply": "2020-12-10T12:07:38.579833Z"
    },
    "papermill": {
     "duration": 0.044716,
     "end_time": "2020-12-10T12:07:38.579997",
     "exception": false,
     "start_time": "2020-12-10T12:07:38.535281",
     "status": "completed"
    },
    "tags": []
   },
   "outputs": [],
   "source": [
    "# #hide\n",
    "# g = g.reset_index(['date'])"
   ]
  },
  {
   "cell_type": "code",
   "execution_count": 25,
   "metadata": {
    "execution": {
     "iopub.execute_input": "2020-12-10T12:07:38.651340Z",
     "iopub.status.busy": "2020-12-10T12:07:38.650659Z",
     "iopub.status.idle": "2020-12-10T12:07:38.653064Z",
     "shell.execute_reply": "2020-12-10T12:07:38.653647Z"
    },
    "papermill": {
     "duration": 0.041327,
     "end_time": "2020-12-10T12:07:38.653817",
     "exception": false,
     "start_time": "2020-12-10T12:07:38.612490",
     "status": "completed"
    },
    "tags": []
   },
   "outputs": [],
   "source": [
    "#hide\n",
    "# g.head()"
   ]
  },
  {
   "cell_type": "code",
   "execution_count": 26,
   "metadata": {
    "execution": {
     "iopub.execute_input": "2020-12-10T12:07:38.726014Z",
     "iopub.status.busy": "2020-12-10T12:07:38.725381Z",
     "iopub.status.idle": "2020-12-10T12:07:38.728036Z",
     "shell.execute_reply": "2020-12-10T12:07:38.728574Z"
    },
    "papermill": {
     "duration": 0.04169,
     "end_time": "2020-12-10T12:07:38.728747",
     "exception": false,
     "start_time": "2020-12-10T12:07:38.687057",
     "status": "completed"
    },
    "tags": []
   },
   "outputs": [],
   "source": [
    "#hide\n",
    "# g.columns = ['date','country','cases']"
   ]
  },
  {
   "cell_type": "code",
   "execution_count": 27,
   "metadata": {
    "execution": {
     "iopub.execute_input": "2020-12-10T12:07:38.800335Z",
     "iopub.status.busy": "2020-12-10T12:07:38.799696Z",
     "iopub.status.idle": "2020-12-10T12:07:38.801968Z",
     "shell.execute_reply": "2020-12-10T12:07:38.801365Z"
    },
    "papermill": {
     "duration": 0.040885,
     "end_time": "2020-12-10T12:07:38.802113",
     "exception": false,
     "start_time": "2020-12-10T12:07:38.761228",
     "status": "completed"
    },
    "tags": []
   },
   "outputs": [],
   "source": [
    "#hide\n",
    "# g['continent'] = g.country"
   ]
  },
  {
   "cell_type": "code",
   "execution_count": 28,
   "metadata": {
    "execution": {
     "iopub.execute_input": "2020-12-10T12:07:38.875983Z",
     "iopub.status.busy": "2020-12-10T12:07:38.874902Z",
     "iopub.status.idle": "2020-12-10T12:07:38.877088Z",
     "shell.execute_reply": "2020-12-10T12:07:38.877918Z"
    },
    "papermill": {
     "duration": 0.04253,
     "end_time": "2020-12-10T12:07:38.878175",
     "exception": false,
     "start_time": "2020-12-10T12:07:38.835645",
     "status": "completed"
    },
    "tags": []
   },
   "outputs": [],
   "source": [
    "#hide\n",
    "# cols = list(g.columns.values)"
   ]
  },
  {
   "cell_type": "code",
   "execution_count": 29,
   "metadata": {
    "execution": {
     "iopub.execute_input": "2020-12-10T12:07:38.955623Z",
     "iopub.status.busy": "2020-12-10T12:07:38.954977Z",
     "iopub.status.idle": "2020-12-10T12:07:38.957820Z",
     "shell.execute_reply": "2020-12-10T12:07:38.958415Z"
    },
    "papermill": {
     "duration": 0.044563,
     "end_time": "2020-12-10T12:07:38.958588",
     "exception": false,
     "start_time": "2020-12-10T12:07:38.914025",
     "status": "completed"
    },
    "tags": []
   },
   "outputs": [],
   "source": [
    "#hide\n",
    "# cols.insert(0, cols.pop())"
   ]
  },
  {
   "cell_type": "code",
   "execution_count": 30,
   "metadata": {
    "execution": {
     "iopub.execute_input": "2020-12-10T12:07:39.035278Z",
     "iopub.status.busy": "2020-12-10T12:07:39.034602Z",
     "iopub.status.idle": "2020-12-10T12:07:39.036151Z",
     "shell.execute_reply": "2020-12-10T12:07:39.036730Z"
    },
    "papermill": {
     "duration": 0.040024,
     "end_time": "2020-12-10T12:07:39.036892",
     "exception": false,
     "start_time": "2020-12-10T12:07:38.996868",
     "status": "completed"
    },
    "tags": []
   },
   "outputs": [],
   "source": [
    "#hide\n",
    "# g = g[cols]"
   ]
  },
  {
   "cell_type": "code",
   "execution_count": 31,
   "metadata": {
    "execution": {
     "iopub.execute_input": "2020-12-10T12:07:39.108573Z",
     "iopub.status.busy": "2020-12-10T12:07:39.107962Z",
     "iopub.status.idle": "2020-12-10T12:07:39.110295Z",
     "shell.execute_reply": "2020-12-10T12:07:39.110913Z"
    },
    "papermill": {
     "duration": 0.041255,
     "end_time": "2020-12-10T12:07:39.111080",
     "exception": false,
     "start_time": "2020-12-10T12:07:39.069825",
     "status": "completed"
    },
    "tags": []
   },
   "outputs": [],
   "source": [
    "#hide\n",
    "# g['continent'] = g['continent'].map(mapping['map.continent'])"
   ]
  },
  {
   "cell_type": "code",
   "execution_count": 32,
   "metadata": {
    "execution": {
     "iopub.execute_input": "2020-12-10T12:07:39.184772Z",
     "iopub.status.busy": "2020-12-10T12:07:39.184135Z",
     "iopub.status.idle": "2020-12-10T12:07:39.185556Z",
     "shell.execute_reply": "2020-12-10T12:07:39.186118Z"
    },
    "papermill": {
     "duration": 0.04135,
     "end_time": "2020-12-10T12:07:39.186289",
     "exception": false,
     "start_time": "2020-12-10T12:07:39.144939",
     "status": "completed"
    },
    "tags": []
   },
   "outputs": [],
   "source": [
    "#hide\n",
    "# g.head()"
   ]
  },
  {
   "cell_type": "code",
   "execution_count": 33,
   "metadata": {
    "execution": {
     "iopub.execute_input": "2020-12-10T12:07:39.261256Z",
     "iopub.status.busy": "2020-12-10T12:07:39.260602Z",
     "iopub.status.idle": "2020-12-10T12:07:39.263060Z",
     "shell.execute_reply": "2020-12-10T12:07:39.263663Z"
    },
    "papermill": {
     "duration": 0.044082,
     "end_time": "2020-12-10T12:07:39.263840",
     "exception": false,
     "start_time": "2020-12-10T12:07:39.219758",
     "status": "completed"
    },
    "tags": []
   },
   "outputs": [],
   "source": [
    "# hide\n",
    "# g['date'] = g['date'].astype('datetime64[ns]')"
   ]
  },
  {
   "cell_type": "code",
   "execution_count": 34,
   "metadata": {
    "execution": {
     "iopub.execute_input": "2020-12-10T12:07:39.339353Z",
     "iopub.status.busy": "2020-12-10T12:07:39.338623Z",
     "iopub.status.idle": "2020-12-10T12:07:39.340357Z",
     "shell.execute_reply": "2020-12-10T12:07:39.340860Z"
    },
    "papermill": {
     "duration": 0.042149,
     "end_time": "2020-12-10T12:07:39.341043",
     "exception": false,
     "start_time": "2020-12-10T12:07:39.298894",
     "status": "completed"
    },
    "tags": []
   },
   "outputs": [],
   "source": [
    "#hide\n",
    "# g['date'] = g.date.dt.dayofyear"
   ]
  },
  {
   "cell_type": "code",
   "execution_count": 35,
   "metadata": {
    "execution": {
     "iopub.execute_input": "2020-12-10T12:07:39.412664Z",
     "iopub.status.busy": "2020-12-10T12:07:39.412024Z",
     "iopub.status.idle": "2020-12-10T12:07:39.415722Z",
     "shell.execute_reply": "2020-12-10T12:07:39.415172Z"
    },
    "papermill": {
     "duration": 0.041781,
     "end_time": "2020-12-10T12:07:39.415877",
     "exception": false,
     "start_time": "2020-12-10T12:07:39.374096",
     "status": "completed"
    },
    "tags": []
   },
   "outputs": [],
   "source": [
    "#hide\n",
    "# g = g.rename(columns= {'continent':'group','country':'name','cases':'value'})"
   ]
  },
  {
   "cell_type": "code",
   "execution_count": 36,
   "metadata": {
    "execution": {
     "iopub.execute_input": "2020-12-10T12:07:39.495385Z",
     "iopub.status.busy": "2020-12-10T12:07:39.494705Z",
     "iopub.status.idle": "2020-12-10T12:07:39.497199Z",
     "shell.execute_reply": "2020-12-10T12:07:39.497791Z"
    },
    "papermill": {
     "duration": 0.047912,
     "end_time": "2020-12-10T12:07:39.497967",
     "exception": false,
     "start_time": "2020-12-10T12:07:39.450055",
     "status": "completed"
    },
    "tags": []
   },
   "outputs": [],
   "source": [
    "#hide\n",
    "# cols = ['name','group','day','value']"
   ]
  },
  {
   "cell_type": "code",
   "execution_count": 37,
   "metadata": {
    "execution": {
     "iopub.execute_input": "2020-12-10T12:07:39.577675Z",
     "iopub.status.busy": "2020-12-10T12:07:39.576820Z",
     "iopub.status.idle": "2020-12-10T12:07:39.578944Z",
     "shell.execute_reply": "2020-12-10T12:07:39.578303Z"
    },
    "papermill": {
     "duration": 0.046281,
     "end_time": "2020-12-10T12:07:39.579115",
     "exception": false,
     "start_time": "2020-12-10T12:07:39.532834",
     "status": "completed"
    },
    "tags": []
   },
   "outputs": [],
   "source": [
    "#hide\n",
    "# g.rename(columns= {'date':'day'},inplace = True)"
   ]
  },
  {
   "cell_type": "code",
   "execution_count": 38,
   "metadata": {
    "execution": {
     "iopub.execute_input": "2020-12-10T12:07:39.655815Z",
     "iopub.status.busy": "2020-12-10T12:07:39.654642Z",
     "iopub.status.idle": "2020-12-10T12:07:39.656942Z",
     "shell.execute_reply": "2020-12-10T12:07:39.657786Z"
    },
    "papermill": {
     "duration": 0.044207,
     "end_time": "2020-12-10T12:07:39.658068",
     "exception": false,
     "start_time": "2020-12-10T12:07:39.613861",
     "status": "completed"
    },
    "tags": []
   },
   "outputs": [],
   "source": [
    "#hide\n",
    "# g = g[cols]"
   ]
  },
  {
   "cell_type": "code",
   "execution_count": 39,
   "metadata": {
    "execution": {
     "iopub.execute_input": "2020-12-10T12:07:39.738343Z",
     "iopub.status.busy": "2020-12-10T12:07:39.737670Z",
     "iopub.status.idle": "2020-12-10T12:07:39.740064Z",
     "shell.execute_reply": "2020-12-10T12:07:39.740563Z"
    },
    "papermill": {
     "duration": 0.047488,
     "end_time": "2020-12-10T12:07:39.740743",
     "exception": false,
     "start_time": "2020-12-10T12:07:39.693255",
     "status": "completed"
    },
    "tags": []
   },
   "outputs": [],
   "source": [
    "# #hide\n",
    "# g = g[g.group.notna()]"
   ]
  },
  {
   "cell_type": "code",
   "execution_count": 40,
   "metadata": {
    "execution": {
     "iopub.execute_input": "2020-12-10T12:07:39.814343Z",
     "iopub.status.busy": "2020-12-10T12:07:39.813697Z",
     "iopub.status.idle": "2020-12-10T12:07:39.815261Z",
     "shell.execute_reply": "2020-12-10T12:07:39.815838Z"
    },
    "papermill": {
     "duration": 0.040771,
     "end_time": "2020-12-10T12:07:39.816009",
     "exception": false,
     "start_time": "2020-12-10T12:07:39.775238",
     "status": "completed"
    },
    "tags": []
   },
   "outputs": [],
   "source": [
    "# #hide\n",
    "# colors = dict(zip(\n",
    "#     [\"Oceania\", \"Europe\", \"Asia\", \"South America\", \"Middle East\", \"North America\", \"Africa\"],\n",
    "#     [\"#adb0ff\", \"#ffb3ff\", \"#90d595\", \"#e48381\", \"#aafbff\", \"#f7bb5f\", \"#eafb50\"]\n",
    "# ))\n",
    "# group_lk = g.set_index('name')['group'].to_dict()"
   ]
  },
  {
   "cell_type": "code",
   "execution_count": null,
   "metadata": {
    "papermill": {
     "duration": 0.032588,
     "end_time": "2020-12-10T12:07:39.882525",
     "exception": false,
     "start_time": "2020-12-10T12:07:39.849937",
     "status": "completed"
    },
    "tags": []
   },
   "outputs": [],
   "source": []
  },
  {
   "cell_type": "code",
   "execution_count": 41,
   "metadata": {
    "execution": {
     "iopub.execute_input": "2020-12-10T12:07:40.234598Z",
     "iopub.status.busy": "2020-12-10T12:07:40.233862Z",
     "iopub.status.idle": "2020-12-10T12:07:40.236063Z",
     "shell.execute_reply": "2020-12-10T12:07:40.236675Z"
    },
    "papermill": {
     "duration": 0.319061,
     "end_time": "2020-12-10T12:07:40.236857",
     "exception": false,
     "start_time": "2020-12-10T12:07:39.917796",
     "status": "completed"
    },
    "tags": []
   },
   "outputs": [],
   "source": [
    "# #hide\n",
    "# fig, ax = plt.subplots(figsize=(15, 8))\n",
    "\n",
    "# def draw_barchart(current_day):\n",
    "#     dff = g[g['day'].eq(current_day)].sort_values(by='value', ascending=True).tail(10)\n",
    "#     ax.clear()\n",
    "#     ax.barh(dff['name'], dff['value'], color=[colors[group_lk[x]] for x in dff['name']])\n",
    "#     dx = dff['value'].max() / 200\n",
    "    \n",
    "#     for i, (value, name) in enumerate(zip(dff['value'], dff['name'])):\n",
    "#         ax.text(value-dx, i,     name,           size=14, weight=600, ha='right', va='bottom')\n",
    "#         ax.text(value-dx, i-.25, group_lk[name], size=10, color='#444444', ha='right', va='baseline')\n",
    "#         ax.text(value+dx, i,     f'{value:,.0f}',  size=14, ha='left',  va='center')\n",
    "#     ax.text(1, 0.4, current_day, transform=ax.transAxes, color='#777777', size=46, ha='right', weight=800)\n",
    "#     ax.text(0, 1.06, 'Population (thousands)', transform=ax.transAxes, size=12, color='#777777')\n",
    "#     ax.xaxis.set_major_formatter(ticker.StrMethodFormatter('{x:,.0f}'))\n",
    "#     ax.xaxis.set_ticks_position('top')\n",
    "#     ax.tick_params(axis='x', colors='#777777', labelsize=12)\n",
    "#     ax.set_yticks([])\n",
    "#     ax.margins(0, 0.01)\n",
    "#     ax.grid(which='major', axis='x', linestyle='-')\n",
    "#     ax.set_axisbelow(True)\n",
    "    \n",
    "#     ax.text(0, 1.15, 'Coronavirus',\n",
    "#             transform=ax.transAxes, size=24, weight=600, ha='left', va='top')\n",
    "# #     ax.text(1, 0, 'by @pratapvardhan; credit @jburnmurdoch', transform=ax.transAxes, color='#777777', ha='right',\n",
    "# #             bbox=dict(facecolor='white', alpha=0.8, edgecolor='white'))\n",
    "#     plt.box(False)"
   ]
  },
  {
   "cell_type": "code",
   "execution_count": 42,
   "metadata": {
    "execution": {
     "iopub.execute_input": "2020-12-10T12:07:40.364845Z",
     "iopub.status.busy": "2020-12-10T12:07:40.364093Z",
     "iopub.status.idle": "2020-12-10T12:07:40.365532Z",
     "shell.execute_reply": "2020-12-10T12:07:40.366216Z"
    },
    "papermill": {
     "duration": 0.042735,
     "end_time": "2020-12-10T12:07:40.366401",
     "exception": false,
     "start_time": "2020-12-10T12:07:40.323666",
     "status": "completed"
    },
    "tags": []
   },
   "outputs": [],
   "source": [
    "# #hide_input\n",
    "# fig, ax = plt.subplots(figsize=(15, 8))\n",
    "# animator = animation.FuncAnimation(fig, draw_barchart, frames=range(g.day.values.min(), g.day.values.max()))\n",
    "# HTML(animator.to_jshtml())\n",
    "# # or use animator.to_html5_video() or animator.save() "
   ]
  },
  {
   "cell_type": "code",
   "execution_count": null,
   "metadata": {
    "papermill": {
     "duration": 0.033994,
     "end_time": "2020-12-10T12:07:40.435917",
     "exception": false,
     "start_time": "2020-12-10T12:07:40.401923",
     "status": "completed"
    },
    "tags": []
   },
   "outputs": [],
   "source": []
  },
  {
   "cell_type": "code",
   "execution_count": null,
   "metadata": {
    "papermill": {
     "duration": 0.033692,
     "end_time": "2020-12-10T12:07:40.508195",
     "exception": false,
     "start_time": "2020-12-10T12:07:40.474503",
     "status": "completed"
    },
    "tags": []
   },
   "outputs": [],
   "source": []
  },
  {
   "cell_type": "code",
   "execution_count": null,
   "metadata": {
    "papermill": {
     "duration": 0.033026,
     "end_time": "2020-12-10T12:07:40.574998",
     "exception": false,
     "start_time": "2020-12-10T12:07:40.541972",
     "status": "completed"
    },
    "tags": []
   },
   "outputs": [],
   "source": []
  }
 ],
 "metadata": {
  "kernelspec": {
   "display_name": "Python 3",
   "language": "python",
   "name": "python3"
  },
  "language_info": {
   "codemirror_mode": {
    "name": "ipython",
    "version": 3
   },
   "file_extension": ".py",
   "mimetype": "text/x-python",
   "name": "python",
   "nbconvert_exporter": "python",
   "pygments_lexer": "ipython3",
   "version": "3.6.12"
  },
  "papermill": {
   "duration": 9.424078,
   "end_time": "2020-12-10T12:07:42.105196",
   "environment_variables": {},
   "exception": null,
   "input_path": "2020-03-21-covid19exp.ipynb",
   "output_path": "2020-03-21-covid19exp.ipynb",
   "parameters": {},
   "start_time": "2020-12-10T12:07:32.681118",
   "version": "2.0.0"
  }
 },
 "nbformat": 4,
 "nbformat_minor": 4
}