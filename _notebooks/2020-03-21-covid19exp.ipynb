{
 "cells": [
  {
   "cell_type": "markdown",
   "id": "muslim-click",
   "metadata": {
    "papermill": {
     "duration": 0.038207,
     "end_time": "2022-01-12T00:28:28.734720",
     "exception": false,
     "start_time": "2022-01-12T00:28:28.696513",
     "status": "completed"
    },
    "tags": []
   },
   "source": [
    "# COVID-19 Case Race\n",
    "> A race chart to see rising cases around the world\n",
    "\n",
    "- author: Hargun Oberoi\n",
    "- image: images/covid-overview.png\n",
    "- hide: false\n",
    "- badges: false"
   ]
  },
  {
   "cell_type": "code",
   "execution_count": 1,
   "id": "proof-material",
   "metadata": {
    "execution": {
     "iopub.execute_input": "2022-01-12T00:28:28.814999Z",
     "iopub.status.busy": "2022-01-12T00:28:28.814370Z",
     "iopub.status.idle": "2022-01-12T00:28:29.162130Z",
     "shell.execute_reply": "2022-01-12T00:28:29.161356Z"
    },
    "papermill": {
     "duration": 0.394207,
     "end_time": "2022-01-12T00:28:29.162283",
     "exception": false,
     "start_time": "2022-01-12T00:28:28.768076",
     "status": "completed"
    },
    "tags": []
   },
   "outputs": [],
   "source": [
    "#hide\n",
    "import numpy as np\n",
    "import pandas as pd\n",
    "from jinja2 import Template\n",
    "from IPython.display import HTML"
   ]
  },
  {
   "cell_type": "code",
   "execution_count": 2,
   "id": "developed-terminology",
   "metadata": {
    "execution": {
     "iopub.execute_input": "2022-01-12T00:28:29.231743Z",
     "iopub.status.busy": "2022-01-12T00:28:29.231156Z",
     "iopub.status.idle": "2022-01-12T00:28:29.233255Z",
     "shell.execute_reply": "2022-01-12T00:28:29.233852Z"
    },
    "papermill": {
     "duration": 0.039353,
     "end_time": "2022-01-12T00:28:29.234039",
     "exception": false,
     "start_time": "2022-01-12T00:28:29.194686",
     "status": "completed"
    },
    "tags": []
   },
   "outputs": [],
   "source": [
    "#hide\n",
    "\n",
    "# FETCH\n",
    "base_url = 'https://raw.githubusercontent.com/pratapvardhan/notebooks/master/covid19/'\n",
    "paths = {\n",
    "    'mapping': base_url + 'mapping_countries.csv',\n",
    "    'overview': base_url + 'overview.tpl'\n",
    "}"
   ]
  },
  {
   "cell_type": "code",
   "execution_count": 3,
   "id": "dynamic-saver",
   "metadata": {
    "execution": {
     "iopub.execute_input": "2022-01-12T00:28:29.314734Z",
     "iopub.status.busy": "2022-01-12T00:28:29.313901Z",
     "iopub.status.idle": "2022-01-12T00:28:29.316217Z",
     "shell.execute_reply": "2022-01-12T00:28:29.316743Z"
    },
    "papermill": {
     "duration": 0.049078,
     "end_time": "2022-01-12T00:28:29.316894",
     "exception": false,
     "start_time": "2022-01-12T00:28:29.267816",
     "status": "completed"
    },
    "tags": []
   },
   "outputs": [
    {
     "data": {
      "text/plain": [
       "'https://raw.githubusercontent.com/pratapvardhan/notebooks/master/covid19/mapping_countries.csv'"
      ]
     },
     "execution_count": 3,
     "metadata": {},
     "output_type": "execute_result"
    }
   ],
   "source": [
    "#hide\n",
    "paths['mapping']"
   ]
  },
  {
   "cell_type": "code",
   "execution_count": 4,
   "id": "urban-software",
   "metadata": {
    "execution": {
     "iopub.execute_input": "2022-01-12T00:28:29.388234Z",
     "iopub.status.busy": "2022-01-12T00:28:29.387603Z",
     "iopub.status.idle": "2022-01-12T00:28:29.389760Z",
     "shell.execute_reply": "2022-01-12T00:28:29.390271Z"
    },
    "papermill": {
     "duration": 0.041824,
     "end_time": "2022-01-12T00:28:29.390456",
     "exception": false,
     "start_time": "2022-01-12T00:28:29.348632",
     "status": "completed"
    },
    "tags": []
   },
   "outputs": [],
   "source": [
    "#hide\n",
    "def get_mappings(url):\n",
    "    df = pd.read_csv(url)\n",
    "    return {\n",
    "        'df': df,\n",
    "        'replace.country': dict(df.dropna(subset=['Name']).set_index('Country')['Name']),\n",
    "        'map.continent': dict(df.set_index('Name')['Continent'])\n",
    "    }"
   ]
  },
  {
   "cell_type": "code",
   "execution_count": 5,
   "id": "intimate-machinery",
   "metadata": {
    "execution": {
     "iopub.execute_input": "2022-01-12T00:28:29.463322Z",
     "iopub.status.busy": "2022-01-12T00:28:29.462756Z",
     "iopub.status.idle": "2022-01-12T00:28:29.504877Z",
     "shell.execute_reply": "2022-01-12T00:28:29.504347Z"
    },
    "papermill": {
     "duration": 0.080491,
     "end_time": "2022-01-12T00:28:29.505012",
     "exception": false,
     "start_time": "2022-01-12T00:28:29.424521",
     "status": "completed"
    },
    "tags": []
   },
   "outputs": [],
   "source": [
    "#hide\n",
    "mapping = get_mappings(paths['mapping'])"
   ]
  },
  {
   "cell_type": "code",
   "execution_count": 6,
   "id": "certified-tactics",
   "metadata": {
    "execution": {
     "iopub.execute_input": "2022-01-12T00:28:29.574187Z",
     "iopub.status.busy": "2022-01-12T00:28:29.573652Z",
     "iopub.status.idle": "2022-01-12T00:28:29.577147Z",
     "shell.execute_reply": "2022-01-12T00:28:29.577794Z"
    },
    "papermill": {
     "duration": 0.03858,
     "end_time": "2022-01-12T00:28:29.577920",
     "exception": false,
     "start_time": "2022-01-12T00:28:29.539340",
     "status": "completed"
    },
    "tags": []
   },
   "outputs": [],
   "source": [
    "#hide\n",
    "def get_template(path):\n",
    "    from urllib.parse import urlparse\n",
    "    if bool(urlparse(path).netloc):\n",
    "        from urllib.request import urlopen\n",
    "        return urlopen(path).read().decode('utf8')\n",
    "    return open(path).read()"
   ]
  },
  {
   "cell_type": "code",
   "execution_count": 7,
   "id": "realistic-blast",
   "metadata": {
    "execution": {
     "iopub.execute_input": "2022-01-12T00:28:29.645598Z",
     "iopub.status.busy": "2022-01-12T00:28:29.644961Z",
     "iopub.status.idle": "2022-01-12T00:28:29.646946Z",
     "shell.execute_reply": "2022-01-12T00:28:29.647365Z"
    },
    "papermill": {
     "duration": 0.037235,
     "end_time": "2022-01-12T00:28:29.647478",
     "exception": false,
     "start_time": "2022-01-12T00:28:29.610243",
     "status": "completed"
    },
    "tags": []
   },
   "outputs": [],
   "source": [
    "#hide\n",
    "def get_frame(name):\n",
    "    url = (\n",
    "        'https://raw.githubusercontent.com/CSSEGISandData/COVID-19/master/csse_covid_19_data/'\n",
    "        f'csse_covid_19_time_series/time_series_covid19_{name}_global.csv')\n",
    "    df = pd.read_csv(url)\n",
    "    # rename countries\n",
    "    df['Country/Region'] = df['Country/Region'].replace(mapping['replace.country'])\n",
    "    return df"
   ]
  },
  {
   "cell_type": "code",
   "execution_count": 8,
   "id": "affiliated-characterization",
   "metadata": {
    "execution": {
     "iopub.execute_input": "2022-01-12T00:28:29.720296Z",
     "iopub.status.busy": "2022-01-12T00:28:29.719692Z",
     "iopub.status.idle": "2022-01-12T00:28:29.723163Z",
     "shell.execute_reply": "2022-01-12T00:28:29.723722Z"
    },
    "papermill": {
     "duration": 0.041922,
     "end_time": "2022-01-12T00:28:29.723855",
     "exception": false,
     "start_time": "2022-01-12T00:28:29.681933",
     "status": "completed"
    },
    "tags": []
   },
   "outputs": [],
   "source": [
    "#hide\n",
    "def get_dates(df):\n",
    "    dt_cols = df.columns[~df.columns.isin(['Province/State', 'Country/Region', 'Lat', 'Long'])]\n",
    "    LAST_DATE_I = -1\n",
    "    # sometimes last column may be empty, then go backwards\n",
    "    for i in range(-1, -len(dt_cols), -1):\n",
    "        if not df[dt_cols[i]].fillna(0).eq(0).all():\n",
    "            LAST_DATE_I = i\n",
    "            break\n",
    "    return LAST_DATE_I, dt_cols"
   ]
  },
  {
   "cell_type": "code",
   "execution_count": 9,
   "id": "recent-optimization",
   "metadata": {
    "execution": {
     "iopub.execute_input": "2022-01-12T00:28:29.798254Z",
     "iopub.status.busy": "2022-01-12T00:28:29.797656Z",
     "iopub.status.idle": "2022-01-12T00:28:30.224717Z",
     "shell.execute_reply": "2022-01-12T00:28:30.224226Z"
    },
    "papermill": {
     "duration": 0.466352,
     "end_time": "2022-01-12T00:28:30.224846",
     "exception": false,
     "start_time": "2022-01-12T00:28:29.758494",
     "status": "completed"
    },
    "tags": []
   },
   "outputs": [],
   "source": [
    "#hide\n",
    "COL_REGION = 'Country/Region'\n",
    "# Confirmed, Recovered, Deaths\n",
    "df = get_frame('confirmed')\n",
    "# dft_: timeseries, dfc_: today country agg\n",
    "dft_cases = df\n",
    "dft_deaths = get_frame('deaths')\n",
    "dft_recovered = get_frame('recovered')\n",
    "LAST_DATE_I, dt_cols = get_dates(df)"
   ]
  },
  {
   "cell_type": "code",
   "execution_count": 10,
   "id": "absolute-copper",
   "metadata": {
    "execution": {
     "iopub.execute_input": "2022-01-12T00:28:30.300186Z",
     "iopub.status.busy": "2022-01-12T00:28:30.299406Z",
     "iopub.status.idle": "2022-01-12T00:28:30.301192Z",
     "shell.execute_reply": "2022-01-12T00:28:30.301704Z"
    },
    "papermill": {
     "duration": 0.04456,
     "end_time": "2022-01-12T00:28:30.301864",
     "exception": false,
     "start_time": "2022-01-12T00:28:30.257304",
     "status": "completed"
    },
    "tags": []
   },
   "outputs": [],
   "source": [
    "#hide\n",
    "LAST_DATE_I, dt_cols = get_dates(df)\n",
    "dt_today =dt_cols[LAST_DATE_I]\n",
    "# dt_5day = dt_cols[LAST_DATE_I - 5]\n",
    "dt_yday = dt_cols[LAST_DATE_I - 1]"
   ]
  },
  {
   "cell_type": "code",
   "execution_count": 11,
   "id": "restricted-sheriff",
   "metadata": {
    "execution": {
     "iopub.execute_input": "2022-01-12T00:28:30.381951Z",
     "iopub.status.busy": "2022-01-12T00:28:30.381325Z",
     "iopub.status.idle": "2022-01-12T00:28:30.391007Z",
     "shell.execute_reply": "2022-01-12T00:28:30.390481Z"
    },
    "papermill": {
     "duration": 0.050562,
     "end_time": "2022-01-12T00:28:30.391155",
     "exception": false,
     "start_time": "2022-01-12T00:28:30.340593",
     "status": "completed"
    },
    "tags": []
   },
   "outputs": [],
   "source": [
    "#hide\n",
    "dfc_cases = dft_cases.groupby(COL_REGION)[dt_today].sum()\n",
    "dfc_deaths = dft_deaths.groupby(COL_REGION)[dt_today].sum()\n",
    "# dfp_cases = dft_cases.groupby(COL_REGION)[dt_5day].sum()\n",
    "# dfp_deaths = dft_deaths.groupby(COL_REGION)[dt_5day].sum()\n",
    "dfp_cases = dft_cases.groupby(COL_REGION)[dt_yday].sum()\n",
    "dfp_deaths = dft_deaths.groupby(COL_REGION)[dt_yday].sum()"
   ]
  },
  {
   "cell_type": "code",
   "execution_count": 12,
   "id": "deluxe-hepatitis",
   "metadata": {
    "execution": {
     "iopub.execute_input": "2022-01-12T00:28:30.468119Z",
     "iopub.status.busy": "2022-01-12T00:28:30.467506Z",
     "iopub.status.idle": "2022-01-12T00:28:30.472330Z",
     "shell.execute_reply": "2022-01-12T00:28:30.472910Z"
    },
    "papermill": {
     "duration": 0.047622,
     "end_time": "2022-01-12T00:28:30.473056",
     "exception": false,
     "start_time": "2022-01-12T00:28:30.425434",
     "status": "completed"
    },
    "tags": []
   },
   "outputs": [],
   "source": [
    "#hide\n",
    "df_table = (pd.DataFrame(dict(Cases = dfc_cases, Deaths = dfc_deaths, PCases = dfp_cases, PDeaths = dfp_deaths))\n",
    "            .sort_values(by = ['Cases','Deaths'], ascending = [False, False])\n",
    "            .reset_index())"
   ]
  },
  {
   "cell_type": "code",
   "execution_count": 13,
   "id": "educational-chancellor",
   "metadata": {
    "execution": {
     "iopub.execute_input": "2022-01-12T00:28:30.557259Z",
     "iopub.status.busy": "2022-01-12T00:28:30.556606Z",
     "iopub.status.idle": "2022-01-12T00:28:30.565983Z",
     "shell.execute_reply": "2022-01-12T00:28:30.566808Z"
    },
    "papermill": {
     "duration": 0.060583,
     "end_time": "2022-01-12T00:28:30.566988",
     "exception": false,
     "start_time": "2022-01-12T00:28:30.506405",
     "status": "completed"
    },
    "tags": []
   },
   "outputs": [
    {
     "data": {
      "text/html": [
       "<div>\n",
       "<style scoped>\n",
       "    .dataframe tbody tr th:only-of-type {\n",
       "        vertical-align: middle;\n",
       "    }\n",
       "\n",
       "    .dataframe tbody tr th {\n",
       "        vertical-align: top;\n",
       "    }\n",
       "\n",
       "    .dataframe thead th {\n",
       "        text-align: right;\n",
       "    }\n",
       "</style>\n",
       "<table border=\"1\" class=\"dataframe\">\n",
       "  <thead>\n",
       "    <tr style=\"text-align: right;\">\n",
       "      <th></th>\n",
       "      <th>Country/Region</th>\n",
       "      <th>Cases</th>\n",
       "      <th>Deaths</th>\n",
       "      <th>PCases</th>\n",
       "      <th>PDeaths</th>\n",
       "      <th>Cases (+)</th>\n",
       "      <th>Deaths (+)</th>\n",
       "      <th>Fatality Rate</th>\n",
       "      <th>Continent</th>\n",
       "    </tr>\n",
       "  </thead>\n",
       "  <tbody>\n",
       "    <tr>\n",
       "      <th>0</th>\n",
       "      <td>US</td>\n",
       "      <td>61556085</td>\n",
       "      <td>839500</td>\n",
       "      <td>60090560</td>\n",
       "      <td>837665</td>\n",
       "      <td>1465525</td>\n",
       "      <td>1835</td>\n",
       "      <td>1.36</td>\n",
       "      <td>North America</td>\n",
       "    </tr>\n",
       "    <tr>\n",
       "      <th>1</th>\n",
       "      <td>India</td>\n",
       "      <td>35875790</td>\n",
       "      <td>484213</td>\n",
       "      <td>35707727</td>\n",
       "      <td>483936</td>\n",
       "      <td>168063</td>\n",
       "      <td>277</td>\n",
       "      <td>1.35</td>\n",
       "      <td>Asia</td>\n",
       "    </tr>\n",
       "    <tr>\n",
       "      <th>2</th>\n",
       "      <td>Brazil</td>\n",
       "      <td>22563104</td>\n",
       "      <td>620366</td>\n",
       "      <td>22529183</td>\n",
       "      <td>620251</td>\n",
       "      <td>33921</td>\n",
       "      <td>115</td>\n",
       "      <td>2.75</td>\n",
       "      <td>South America</td>\n",
       "    </tr>\n",
       "    <tr>\n",
       "      <th>3</th>\n",
       "      <td>United Kingdom</td>\n",
       "      <td>14708999</td>\n",
       "      <td>150712</td>\n",
       "      <td>14563769</td>\n",
       "      <td>150634</td>\n",
       "      <td>145230</td>\n",
       "      <td>78</td>\n",
       "      <td>1.02</td>\n",
       "      <td>Europe</td>\n",
       "    </tr>\n",
       "    <tr>\n",
       "      <th>4</th>\n",
       "      <td>France</td>\n",
       "      <td>12311963</td>\n",
       "      <td>126707</td>\n",
       "      <td>12218022</td>\n",
       "      <td>126427</td>\n",
       "      <td>93941</td>\n",
       "      <td>280</td>\n",
       "      <td>1.03</td>\n",
       "      <td>Europe</td>\n",
       "    </tr>\n",
       "  </tbody>\n",
       "</table>\n",
       "</div>"
      ],
      "text/plain": [
       "   Country/Region     Cases  Deaths    PCases  PDeaths  Cases (+)  Deaths (+)  \\\n",
       "0              US  61556085  839500  60090560   837665    1465525        1835   \n",
       "1           India  35875790  484213  35707727   483936     168063         277   \n",
       "2          Brazil  22563104  620366  22529183   620251      33921         115   \n",
       "3  United Kingdom  14708999  150712  14563769   150634     145230          78   \n",
       "4          France  12311963  126707  12218022   126427      93941         280   \n",
       "\n",
       "   Fatality Rate      Continent  \n",
       "0           1.36  North America  \n",
       "1           1.35           Asia  \n",
       "2           2.75  South America  \n",
       "3           1.02         Europe  \n",
       "4           1.03         Europe  "
      ]
     },
     "execution_count": 13,
     "metadata": {},
     "output_type": "execute_result"
    }
   ],
   "source": [
    "#hide\n",
    "for c in 'Cases, Deaths'.split(', '):\n",
    "    df_table[f'{c} (+)'] = (df_table[c] - df_table[f'P{c}']).clip(0)\n",
    "    #Clip ça veut dire, les chiffres negatif sont interdit\n",
    "df_table['Fatality Rate'] = (100* df_table['Deaths']/ df_table['Cases']).round(2)\n",
    "df_table['Continent'] = df_table['Country/Region'].map(mapping['map.continent'])\n",
    "df_table.head(5)"
   ]
  },
  {
   "cell_type": "code",
   "execution_count": 14,
   "id": "aboriginal-bulgaria",
   "metadata": {
    "execution": {
     "iopub.execute_input": "2022-01-12T00:28:30.646173Z",
     "iopub.status.busy": "2022-01-12T00:28:30.645567Z",
     "iopub.status.idle": "2022-01-12T00:28:30.648284Z",
     "shell.execute_reply": "2022-01-12T00:28:30.647698Z"
    },
    "papermill": {
     "duration": 0.043191,
     "end_time": "2022-01-12T00:28:30.648413",
     "exception": false,
     "start_time": "2022-01-12T00:28:30.605222",
     "status": "completed"
    },
    "tags": []
   },
   "outputs": [],
   "source": [
    "#hide\n",
    "#delete problematic countries from table\n",
    "df_table = df_table[~df_table['Country/Region'].isin(['Cape Verde', 'Cruise Ship', 'Kosovo'])]"
   ]
  },
  {
   "cell_type": "code",
   "execution_count": 15,
   "id": "fantastic-effect",
   "metadata": {
    "execution": {
     "iopub.execute_input": "2022-01-12T00:28:30.729253Z",
     "iopub.status.busy": "2022-01-12T00:28:30.727360Z",
     "iopub.status.idle": "2022-01-12T00:28:30.749080Z",
     "shell.execute_reply": "2022-01-12T00:28:30.749540Z"
    },
    "papermill": {
     "duration": 0.064116,
     "end_time": "2022-01-12T00:28:30.749665",
     "exception": false,
     "start_time": "2022-01-12T00:28:30.685549",
     "status": "completed"
    },
    "tags": []
   },
   "outputs": [
    {
     "data": {
      "text/html": [
       "<div>\n",
       "<style scoped>\n",
       "    .dataframe tbody tr th:only-of-type {\n",
       "        vertical-align: middle;\n",
       "    }\n",
       "\n",
       "    .dataframe tbody tr th {\n",
       "        vertical-align: top;\n",
       "    }\n",
       "\n",
       "    .dataframe thead th {\n",
       "        text-align: right;\n",
       "    }\n",
       "</style>\n",
       "<table border=\"1\" class=\"dataframe\">\n",
       "  <thead>\n",
       "    <tr style=\"text-align: right;\">\n",
       "      <th></th>\n",
       "      <th>Country/Region</th>\n",
       "      <th>Cases</th>\n",
       "      <th>Deaths</th>\n",
       "      <th>PCases</th>\n",
       "      <th>PDeaths</th>\n",
       "      <th>Cases (+)</th>\n",
       "      <th>Deaths (+)</th>\n",
       "      <th>Fatality Rate</th>\n",
       "      <th>Continent</th>\n",
       "    </tr>\n",
       "  </thead>\n",
       "  <tbody>\n",
       "    <tr>\n",
       "      <th>0</th>\n",
       "      <td>US</td>\n",
       "      <td>61556085</td>\n",
       "      <td>839500</td>\n",
       "      <td>60090560</td>\n",
       "      <td>837665</td>\n",
       "      <td>1465525</td>\n",
       "      <td>1835</td>\n",
       "      <td>1.4</td>\n",
       "      <td>North America</td>\n",
       "    </tr>\n",
       "    <tr>\n",
       "      <th>1</th>\n",
       "      <td>India</td>\n",
       "      <td>35875790</td>\n",
       "      <td>484213</td>\n",
       "      <td>35707727</td>\n",
       "      <td>483936</td>\n",
       "      <td>168063</td>\n",
       "      <td>277</td>\n",
       "      <td>1.3</td>\n",
       "      <td>Asia</td>\n",
       "    </tr>\n",
       "    <tr>\n",
       "      <th>2</th>\n",
       "      <td>Brazil</td>\n",
       "      <td>22563104</td>\n",
       "      <td>620366</td>\n",
       "      <td>22529183</td>\n",
       "      <td>620251</td>\n",
       "      <td>33921</td>\n",
       "      <td>115</td>\n",
       "      <td>2.7</td>\n",
       "      <td>South America</td>\n",
       "    </tr>\n",
       "    <tr>\n",
       "      <th>3</th>\n",
       "      <td>United Kingdom</td>\n",
       "      <td>14708999</td>\n",
       "      <td>150712</td>\n",
       "      <td>14563769</td>\n",
       "      <td>150634</td>\n",
       "      <td>145230</td>\n",
       "      <td>78</td>\n",
       "      <td>1.0</td>\n",
       "      <td>Europe</td>\n",
       "    </tr>\n",
       "    <tr>\n",
       "      <th>4</th>\n",
       "      <td>France</td>\n",
       "      <td>12311963</td>\n",
       "      <td>126707</td>\n",
       "      <td>12218022</td>\n",
       "      <td>126427</td>\n",
       "      <td>93941</td>\n",
       "      <td>280</td>\n",
       "      <td>1.0</td>\n",
       "      <td>Europe</td>\n",
       "    </tr>\n",
       "  </tbody>\n",
       "</table>\n",
       "</div>"
      ],
      "text/plain": [
       "   Country/Region     Cases  Deaths    PCases  PDeaths  Cases (+)  Deaths (+)  \\\n",
       "0              US  61556085  839500  60090560   837665    1465525        1835   \n",
       "1           India  35875790  484213  35707727   483936     168063         277   \n",
       "2          Brazil  22563104  620366  22529183   620251      33921         115   \n",
       "3  United Kingdom  14708999  150712  14563769   150634     145230          78   \n",
       "4          France  12311963  126707  12218022   126427      93941         280   \n",
       "\n",
       "   Fatality Rate      Continent  \n",
       "0            1.4  North America  \n",
       "1            1.3           Asia  \n",
       "2            2.7  South America  \n",
       "3            1.0         Europe  \n",
       "4            1.0         Europe  "
      ]
     },
     "execution_count": 15,
     "metadata": {},
     "output_type": "execute_result"
    }
   ],
   "source": [
    "#hide\n",
    "df_table = (pd.DataFrame(dict(Cases=dfc_cases, Deaths=dfc_deaths, PCases=dfp_cases, PDeaths=dfp_deaths))\n",
    "             .sort_values(by=['Cases', 'Deaths'], ascending=[False, False])\n",
    "             .reset_index())\n",
    "df_table.rename(columns={'index': 'Country/Region'}, inplace=True)\n",
    "for c in 'Cases, Deaths'.split(', '):\n",
    "    df_table[f'{c} (+)'] = (df_table[c] - df_table[f'P{c}']).clip(0)  # DATA BUG\n",
    "df_table['Fatality Rate'] = (100 * df_table['Deaths'] / df_table['Cases']).round(1)\n",
    "df_table['Continent'] = df_table['Country/Region'].map(mapping['map.continent'])\n",
    "df_table.head(5)"
   ]
  },
  {
   "cell_type": "code",
   "execution_count": 16,
   "id": "fewer-occasion",
   "metadata": {
    "execution": {
     "iopub.execute_input": "2022-01-12T00:28:30.819382Z",
     "iopub.status.busy": "2022-01-12T00:28:30.818492Z",
     "iopub.status.idle": "2022-01-12T00:28:30.821359Z",
     "shell.execute_reply": "2022-01-12T00:28:30.821904Z"
    },
    "papermill": {
     "duration": 0.040096,
     "end_time": "2022-01-12T00:28:30.822025",
     "exception": false,
     "start_time": "2022-01-12T00:28:30.781929",
     "status": "completed"
    },
    "tags": []
   },
   "outputs": [],
   "source": [
    "#hide\n",
    "#delete problematic countries from table\n",
    "df_table = df_table[~df_table['Country/Region'].isin(['Cape Verde', 'Cruise Ship', 'Kosovo'])]"
   ]
  },
  {
   "cell_type": "code",
   "execution_count": 17,
   "id": "related-center",
   "metadata": {
    "execution": {
     "iopub.execute_input": "2022-01-12T00:28:30.906571Z",
     "iopub.status.busy": "2022-01-12T00:28:30.905862Z",
     "iopub.status.idle": "2022-01-12T00:28:30.908169Z",
     "shell.execute_reply": "2022-01-12T00:28:30.908749Z"
    },
    "papermill": {
     "duration": 0.055123,
     "end_time": "2022-01-12T00:28:30.908893",
     "exception": false,
     "start_time": "2022-01-12T00:28:30.853770",
     "status": "completed"
    },
    "tags": []
   },
   "outputs": [],
   "source": [
    "#hide\n",
    "metrics = [df_table.columns[index] for index in [1,2,5,6]]\n",
    "# s_china = df_table[df_table['Country/Region'].eq('China')][metrics].sum().add_prefix('China ')\n",
    "s_us = df_table[df_table['Country/Region'].eq('US')][metrics].sum().add_prefix('US ')\n",
    "s_eu = df_table[df_table['Continent'].eq('Europe')][metrics].sum().add_prefix('EU ')\n",
    "s_ind = df_table[df_table['Country/Region'].eq('India')][metrics].sum().add_prefix('India ')\n",
    "summary = {'updated': pd.to_datetime(dt_today), 'since': pd.to_datetime(dt_yday)}\n",
    "summary = {'updated': pd.to_datetime(dt_today), 'since': pd.to_datetime(dt_yday)}\n",
    "summary = {**summary, **df_table[metrics].sum(), **s_ind, **s_us, **s_eu}"
   ]
  },
  {
   "cell_type": "code",
   "execution_count": 18,
   "id": "engaging-syndrome",
   "metadata": {
    "execution": {
     "iopub.execute_input": "2022-01-12T00:28:30.979244Z",
     "iopub.status.busy": "2022-01-12T00:28:30.978675Z",
     "iopub.status.idle": "2022-01-12T00:28:30.994189Z",
     "shell.execute_reply": "2022-01-12T00:28:30.993739Z"
    },
    "papermill": {
     "duration": 0.050704,
     "end_time": "2022-01-12T00:28:30.994296",
     "exception": false,
     "start_time": "2022-01-12T00:28:30.943592",
     "status": "completed"
    },
    "tags": []
   },
   "outputs": [],
   "source": [
    "#hide\n",
    "dft_ct_new_cases = dft_cases.groupby(COL_REGION)[dt_cols].sum().diff(axis=1).fillna(0).astype(int)"
   ]
  },
  {
   "cell_type": "code",
   "execution_count": 19,
   "id": "neutral-assignment",
   "metadata": {
    "execution": {
     "iopub.execute_input": "2022-01-12T00:28:31.063589Z",
     "iopub.status.busy": "2022-01-12T00:28:31.062911Z",
     "iopub.status.idle": "2022-01-12T00:28:31.065373Z",
     "shell.execute_reply": "2022-01-12T00:28:31.065861Z"
    },
    "papermill": {
     "duration": 0.039807,
     "end_time": "2022-01-12T00:28:31.065978",
     "exception": false,
     "start_time": "2022-01-12T00:28:31.026171",
     "status": "completed"
    },
    "tags": []
   },
   "outputs": [],
   "source": [
    "#hide\n",
    "everydaycases = dft_ct_new_cases.cumsum(axis=1)"
   ]
  },
  {
   "cell_type": "code",
   "execution_count": 20,
   "id": "parliamentary-calgary",
   "metadata": {
    "execution": {
     "iopub.execute_input": "2022-01-12T00:28:31.135341Z",
     "iopub.status.busy": "2022-01-12T00:28:31.134803Z",
     "iopub.status.idle": "2022-01-12T00:28:31.797784Z",
     "shell.execute_reply": "2022-01-12T00:28:31.797277Z"
    },
    "papermill": {
     "duration": 0.701015,
     "end_time": "2022-01-12T00:28:31.798030",
     "exception": false,
     "start_time": "2022-01-12T00:28:31.097015",
     "status": "completed"
    },
    "tags": []
   },
   "outputs": [],
   "source": [
    "#hide\n",
    "import pandas as pd\n",
    "import matplotlib.pyplot as plt\n",
    "import matplotlib.ticker as ticker\n",
    "import matplotlib.animation as animation\n",
    "from IPython.display import HTML"
   ]
  },
  {
   "cell_type": "code",
   "execution_count": 21,
   "id": "lasting-extraction",
   "metadata": {
    "execution": {
     "iopub.execute_input": "2022-01-12T00:28:31.866040Z",
     "iopub.status.busy": "2022-01-12T00:28:31.865505Z",
     "iopub.status.idle": "2022-01-12T00:28:31.871679Z",
     "shell.execute_reply": "2022-01-12T00:28:31.871244Z"
    },
    "papermill": {
     "duration": 0.041672,
     "end_time": "2022-01-12T00:28:31.871781",
     "exception": false,
     "start_time": "2022-01-12T00:28:31.830109",
     "status": "completed"
    },
    "tags": []
   },
   "outputs": [],
   "source": [
    "#hide\n",
    "t = everydaycases.stack()"
   ]
  },
  {
   "cell_type": "code",
   "execution_count": 22,
   "id": "premier-sleeve",
   "metadata": {
    "execution": {
     "iopub.execute_input": "2022-01-12T00:28:31.938970Z",
     "iopub.status.busy": "2022-01-12T00:28:31.938327Z",
     "iopub.status.idle": "2022-01-12T00:28:31.948435Z",
     "shell.execute_reply": "2022-01-12T00:28:31.947974Z"
    },
    "papermill": {
     "duration": 0.044898,
     "end_time": "2022-01-12T00:28:31.948556",
     "exception": false,
     "start_time": "2022-01-12T00:28:31.903658",
     "status": "completed"
    },
    "tags": []
   },
   "outputs": [],
   "source": [
    "#hide\n",
    "g = t.reset_index(['Country/Region'])"
   ]
  },
  {
   "cell_type": "code",
   "execution_count": 23,
   "id": "distributed-pittsburgh",
   "metadata": {
    "execution": {
     "iopub.execute_input": "2022-01-12T00:28:32.025659Z",
     "iopub.status.busy": "2022-01-12T00:28:32.025073Z",
     "iopub.status.idle": "2022-01-12T00:28:32.027430Z",
     "shell.execute_reply": "2022-01-12T00:28:32.026925Z"
    },
    "papermill": {
     "duration": 0.041152,
     "end_time": "2022-01-12T00:28:32.027556",
     "exception": false,
     "start_time": "2022-01-12T00:28:31.986404",
     "status": "completed"
    },
    "tags": []
   },
   "outputs": [],
   "source": [
    "#hide\n",
    "g.index.name = 'date'"
   ]
  },
  {
   "cell_type": "code",
   "execution_count": 24,
   "id": "naked-donor",
   "metadata": {
    "execution": {
     "iopub.execute_input": "2022-01-12T00:28:32.101529Z",
     "iopub.status.busy": "2022-01-12T00:28:32.100927Z",
     "iopub.status.idle": "2022-01-12T00:28:32.104242Z",
     "shell.execute_reply": "2022-01-12T00:28:32.104690Z"
    },
    "papermill": {
     "duration": 0.041794,
     "end_time": "2022-01-12T00:28:32.104825",
     "exception": false,
     "start_time": "2022-01-12T00:28:32.063031",
     "status": "completed"
    },
    "tags": []
   },
   "outputs": [],
   "source": [
    "# #hide\n",
    "# g = g.reset_index(['date'])"
   ]
  },
  {
   "cell_type": "code",
   "execution_count": 25,
   "id": "incomplete-mustang",
   "metadata": {
    "execution": {
     "iopub.execute_input": "2022-01-12T00:28:32.180366Z",
     "iopub.status.busy": "2022-01-12T00:28:32.179768Z",
     "iopub.status.idle": "2022-01-12T00:28:32.183609Z",
     "shell.execute_reply": "2022-01-12T00:28:32.183155Z"
    },
    "papermill": {
     "duration": 0.041194,
     "end_time": "2022-01-12T00:28:32.183717",
     "exception": false,
     "start_time": "2022-01-12T00:28:32.142523",
     "status": "completed"
    },
    "tags": []
   },
   "outputs": [],
   "source": [
    "#hide\n",
    "# g.head()"
   ]
  },
  {
   "cell_type": "code",
   "execution_count": 26,
   "id": "specific-kruger",
   "metadata": {
    "execution": {
     "iopub.execute_input": "2022-01-12T00:28:32.258755Z",
     "iopub.status.busy": "2022-01-12T00:28:32.258185Z",
     "iopub.status.idle": "2022-01-12T00:28:32.260058Z",
     "shell.execute_reply": "2022-01-12T00:28:32.260495Z"
    },
    "papermill": {
     "duration": 0.039742,
     "end_time": "2022-01-12T00:28:32.260631",
     "exception": false,
     "start_time": "2022-01-12T00:28:32.220889",
     "status": "completed"
    },
    "tags": []
   },
   "outputs": [],
   "source": [
    "#hide\n",
    "# g.columns = ['date','country','cases']"
   ]
  },
  {
   "cell_type": "code",
   "execution_count": 27,
   "id": "tender-conversion",
   "metadata": {
    "execution": {
     "iopub.execute_input": "2022-01-12T00:28:32.329648Z",
     "iopub.status.busy": "2022-01-12T00:28:32.329000Z",
     "iopub.status.idle": "2022-01-12T00:28:32.331288Z",
     "shell.execute_reply": "2022-01-12T00:28:32.331869Z"
    },
    "papermill": {
     "duration": 0.038715,
     "end_time": "2022-01-12T00:28:32.332039",
     "exception": false,
     "start_time": "2022-01-12T00:28:32.293324",
     "status": "completed"
    },
    "tags": []
   },
   "outputs": [],
   "source": [
    "#hide\n",
    "# g['continent'] = g.country"
   ]
  },
  {
   "cell_type": "code",
   "execution_count": 28,
   "id": "substantial-wilderness",
   "metadata": {
    "execution": {
     "iopub.execute_input": "2022-01-12T00:28:32.400776Z",
     "iopub.status.busy": "2022-01-12T00:28:32.400107Z",
     "iopub.status.idle": "2022-01-12T00:28:32.402648Z",
     "shell.execute_reply": "2022-01-12T00:28:32.402102Z"
    },
    "papermill": {
     "duration": 0.038052,
     "end_time": "2022-01-12T00:28:32.402766",
     "exception": false,
     "start_time": "2022-01-12T00:28:32.364714",
     "status": "completed"
    },
    "tags": []
   },
   "outputs": [],
   "source": [
    "#hide\n",
    "# cols = list(g.columns.values)"
   ]
  },
  {
   "cell_type": "code",
   "execution_count": 29,
   "id": "solved-farming",
   "metadata": {
    "execution": {
     "iopub.execute_input": "2022-01-12T00:28:32.471101Z",
     "iopub.status.busy": "2022-01-12T00:28:32.470579Z",
     "iopub.status.idle": "2022-01-12T00:28:32.474587Z",
     "shell.execute_reply": "2022-01-12T00:28:32.474004Z"
    },
    "papermill": {
     "duration": 0.038779,
     "end_time": "2022-01-12T00:28:32.474697",
     "exception": false,
     "start_time": "2022-01-12T00:28:32.435918",
     "status": "completed"
    },
    "tags": []
   },
   "outputs": [],
   "source": [
    "#hide\n",
    "# cols.insert(0, cols.pop())"
   ]
  },
  {
   "cell_type": "code",
   "execution_count": 30,
   "id": "executed-adoption",
   "metadata": {
    "execution": {
     "iopub.execute_input": "2022-01-12T00:28:32.542803Z",
     "iopub.status.busy": "2022-01-12T00:28:32.542167Z",
     "iopub.status.idle": "2022-01-12T00:28:32.545211Z",
     "shell.execute_reply": "2022-01-12T00:28:32.544707Z"
    },
    "papermill": {
     "duration": 0.039304,
     "end_time": "2022-01-12T00:28:32.545331",
     "exception": false,
     "start_time": "2022-01-12T00:28:32.506027",
     "status": "completed"
    },
    "tags": []
   },
   "outputs": [],
   "source": [
    "#hide\n",
    "# g = g[cols]"
   ]
  },
  {
   "cell_type": "code",
   "execution_count": 31,
   "id": "subject-dublin",
   "metadata": {
    "execution": {
     "iopub.execute_input": "2022-01-12T00:28:32.613172Z",
     "iopub.status.busy": "2022-01-12T00:28:32.612603Z",
     "iopub.status.idle": "2022-01-12T00:28:32.615181Z",
     "shell.execute_reply": "2022-01-12T00:28:32.614300Z"
    },
    "papermill": {
     "duration": 0.038472,
     "end_time": "2022-01-12T00:28:32.615325",
     "exception": false,
     "start_time": "2022-01-12T00:28:32.576853",
     "status": "completed"
    },
    "tags": []
   },
   "outputs": [],
   "source": [
    "#hide\n",
    "# g['continent'] = g['continent'].map(mapping['map.continent'])"
   ]
  },
  {
   "cell_type": "code",
   "execution_count": 32,
   "id": "freelance-scout",
   "metadata": {
    "execution": {
     "iopub.execute_input": "2022-01-12T00:28:32.687459Z",
     "iopub.status.busy": "2022-01-12T00:28:32.686818Z",
     "iopub.status.idle": "2022-01-12T00:28:32.689259Z",
     "shell.execute_reply": "2022-01-12T00:28:32.689866Z"
    },
    "papermill": {
     "duration": 0.039613,
     "end_time": "2022-01-12T00:28:32.690083",
     "exception": false,
     "start_time": "2022-01-12T00:28:32.650470",
     "status": "completed"
    },
    "tags": []
   },
   "outputs": [],
   "source": [
    "#hide\n",
    "# g.head()"
   ]
  },
  {
   "cell_type": "code",
   "execution_count": 33,
   "id": "limited-engine",
   "metadata": {
    "execution": {
     "iopub.execute_input": "2022-01-12T00:28:32.761236Z",
     "iopub.status.busy": "2022-01-12T00:28:32.760665Z",
     "iopub.status.idle": "2022-01-12T00:28:32.764733Z",
     "shell.execute_reply": "2022-01-12T00:28:32.764248Z"
    },
    "papermill": {
     "duration": 0.042048,
     "end_time": "2022-01-12T00:28:32.764872",
     "exception": false,
     "start_time": "2022-01-12T00:28:32.722824",
     "status": "completed"
    },
    "tags": []
   },
   "outputs": [],
   "source": [
    "# hide\n",
    "# g['date'] = g['date'].astype('datetime64[ns]')"
   ]
  },
  {
   "cell_type": "code",
   "execution_count": 34,
   "id": "sophisticated-supervisor",
   "metadata": {
    "execution": {
     "iopub.execute_input": "2022-01-12T00:28:32.841657Z",
     "iopub.status.busy": "2022-01-12T00:28:32.840888Z",
     "iopub.status.idle": "2022-01-12T00:28:32.843359Z",
     "shell.execute_reply": "2022-01-12T00:28:32.842862Z"
    },
    "papermill": {
     "duration": 0.042246,
     "end_time": "2022-01-12T00:28:32.843475",
     "exception": false,
     "start_time": "2022-01-12T00:28:32.801229",
     "status": "completed"
    },
    "tags": []
   },
   "outputs": [],
   "source": [
    "#hide\n",
    "# g['date'] = g.date.dt.dayofyear"
   ]
  },
  {
   "cell_type": "code",
   "execution_count": 35,
   "id": "inside-dubai",
   "metadata": {
    "execution": {
     "iopub.execute_input": "2022-01-12T00:28:32.920534Z",
     "iopub.status.busy": "2022-01-12T00:28:32.919957Z",
     "iopub.status.idle": "2022-01-12T00:28:32.922121Z",
     "shell.execute_reply": "2022-01-12T00:28:32.921557Z"
    },
    "papermill": {
     "duration": 0.040437,
     "end_time": "2022-01-12T00:28:32.922249",
     "exception": false,
     "start_time": "2022-01-12T00:28:32.881812",
     "status": "completed"
    },
    "tags": []
   },
   "outputs": [],
   "source": [
    "#hide\n",
    "# g = g.rename(columns= {'continent':'group','country':'name','cases':'value'})"
   ]
  },
  {
   "cell_type": "code",
   "execution_count": 36,
   "id": "fleet-motorcycle",
   "metadata": {
    "execution": {
     "iopub.execute_input": "2022-01-12T00:28:32.998991Z",
     "iopub.status.busy": "2022-01-12T00:28:32.998140Z",
     "iopub.status.idle": "2022-01-12T00:28:33.001860Z",
     "shell.execute_reply": "2022-01-12T00:28:33.001374Z"
    },
    "papermill": {
     "duration": 0.045278,
     "end_time": "2022-01-12T00:28:33.001984",
     "exception": false,
     "start_time": "2022-01-12T00:28:32.956706",
     "status": "completed"
    },
    "tags": []
   },
   "outputs": [],
   "source": [
    "#hide\n",
    "# cols = ['name','group','day','value']"
   ]
  },
  {
   "cell_type": "code",
   "execution_count": 37,
   "id": "continued-sleeping",
   "metadata": {
    "execution": {
     "iopub.execute_input": "2022-01-12T00:28:33.084669Z",
     "iopub.status.busy": "2022-01-12T00:28:33.084070Z",
     "iopub.status.idle": "2022-01-12T00:28:33.086121Z",
     "shell.execute_reply": "2022-01-12T00:28:33.086671Z"
    },
    "papermill": {
     "duration": 0.049851,
     "end_time": "2022-01-12T00:28:33.086814",
     "exception": false,
     "start_time": "2022-01-12T00:28:33.036963",
     "status": "completed"
    },
    "tags": []
   },
   "outputs": [],
   "source": [
    "#hide\n",
    "# g.rename(columns= {'date':'day'},inplace = True)"
   ]
  },
  {
   "cell_type": "code",
   "execution_count": 38,
   "id": "major-fight",
   "metadata": {
    "execution": {
     "iopub.execute_input": "2022-01-12T00:28:33.161106Z",
     "iopub.status.busy": "2022-01-12T00:28:33.160364Z",
     "iopub.status.idle": "2022-01-12T00:28:33.163814Z",
     "shell.execute_reply": "2022-01-12T00:28:33.164306Z"
    },
    "papermill": {
     "duration": 0.040218,
     "end_time": "2022-01-12T00:28:33.164481",
     "exception": false,
     "start_time": "2022-01-12T00:28:33.124263",
     "status": "completed"
    },
    "tags": []
   },
   "outputs": [],
   "source": [
    "#hide\n",
    "# g = g[cols]"
   ]
  },
  {
   "cell_type": "code",
   "execution_count": 39,
   "id": "structured-mobile",
   "metadata": {
    "execution": {
     "iopub.execute_input": "2022-01-12T00:28:33.235648Z",
     "iopub.status.busy": "2022-01-12T00:28:33.235104Z",
     "iopub.status.idle": "2022-01-12T00:28:33.237002Z",
     "shell.execute_reply": "2022-01-12T00:28:33.237424Z"
    },
    "papermill": {
     "duration": 0.038482,
     "end_time": "2022-01-12T00:28:33.237552",
     "exception": false,
     "start_time": "2022-01-12T00:28:33.199070",
     "status": "completed"
    },
    "tags": []
   },
   "outputs": [],
   "source": [
    "# #hide\n",
    "# g = g[g.group.notna()]"
   ]
  },
  {
   "cell_type": "code",
   "execution_count": 40,
   "id": "determined-closing",
   "metadata": {
    "execution": {
     "iopub.execute_input": "2022-01-12T00:28:33.315718Z",
     "iopub.status.busy": "2022-01-12T00:28:33.315128Z",
     "iopub.status.idle": "2022-01-12T00:28:33.317660Z",
     "shell.execute_reply": "2022-01-12T00:28:33.317049Z"
    },
    "papermill": {
     "duration": 0.045908,
     "end_time": "2022-01-12T00:28:33.317782",
     "exception": false,
     "start_time": "2022-01-12T00:28:33.271874",
     "status": "completed"
    },
    "tags": []
   },
   "outputs": [],
   "source": [
    "# #hide\n",
    "# colors = dict(zip(\n",
    "#     [\"Oceania\", \"Europe\", \"Asia\", \"South America\", \"Middle East\", \"North America\", \"Africa\"],\n",
    "#     [\"#adb0ff\", \"#ffb3ff\", \"#90d595\", \"#e48381\", \"#aafbff\", \"#f7bb5f\", \"#eafb50\"]\n",
    "# ))\n",
    "# group_lk = g.set_index('name')['group'].to_dict()"
   ]
  },
  {
   "cell_type": "code",
   "execution_count": null,
   "id": "gross-drinking",
   "metadata": {
    "papermill": {
     "duration": 0.03497,
     "end_time": "2022-01-12T00:28:33.390182",
     "exception": false,
     "start_time": "2022-01-12T00:28:33.355212",
     "status": "completed"
    },
    "tags": []
   },
   "outputs": [],
   "source": []
  },
  {
   "cell_type": "code",
   "execution_count": 41,
   "id": "subject-macintosh",
   "metadata": {
    "execution": {
     "iopub.execute_input": "2022-01-12T00:28:33.467475Z",
     "iopub.status.busy": "2022-01-12T00:28:33.466837Z",
     "iopub.status.idle": "2022-01-12T00:28:33.469353Z",
     "shell.execute_reply": "2022-01-12T00:28:33.468798Z"
    },
    "papermill": {
     "duration": 0.043251,
     "end_time": "2022-01-12T00:28:33.469478",
     "exception": false,
     "start_time": "2022-01-12T00:28:33.426227",
     "status": "completed"
    },
    "tags": []
   },
   "outputs": [],
   "source": [
    "# #hide\n",
    "# fig, ax = plt.subplots(figsize=(15, 8))\n",
    "\n",
    "# def draw_barchart(current_day):\n",
    "#     dff = g[g['day'].eq(current_day)].sort_values(by='value', ascending=True).tail(10)\n",
    "#     ax.clear()\n",
    "#     ax.barh(dff['name'], dff['value'], color=[colors[group_lk[x]] for x in dff['name']])\n",
    "#     dx = dff['value'].max() / 200\n",
    "    \n",
    "#     for i, (value, name) in enumerate(zip(dff['value'], dff['name'])):\n",
    "#         ax.text(value-dx, i,     name,           size=14, weight=600, ha='right', va='bottom')\n",
    "#         ax.text(value-dx, i-.25, group_lk[name], size=10, color='#444444', ha='right', va='baseline')\n",
    "#         ax.text(value+dx, i,     f'{value:,.0f}',  size=14, ha='left',  va='center')\n",
    "#     ax.text(1, 0.4, current_day, transform=ax.transAxes, color='#777777', size=46, ha='right', weight=800)\n",
    "#     ax.text(0, 1.06, 'Population (thousands)', transform=ax.transAxes, size=12, color='#777777')\n",
    "#     ax.xaxis.set_major_formatter(ticker.StrMethodFormatter('{x:,.0f}'))\n",
    "#     ax.xaxis.set_ticks_position('top')\n",
    "#     ax.tick_params(axis='x', colors='#777777', labelsize=12)\n",
    "#     ax.set_yticks([])\n",
    "#     ax.margins(0, 0.01)\n",
    "#     ax.grid(which='major', axis='x', linestyle='-')\n",
    "#     ax.set_axisbelow(True)\n",
    "    \n",
    "#     ax.text(0, 1.15, 'Coronavirus',\n",
    "#             transform=ax.transAxes, size=24, weight=600, ha='left', va='top')\n",
    "# #     ax.text(1, 0, 'by @pratapvardhan; credit @jburnmurdoch', transform=ax.transAxes, color='#777777', ha='right',\n",
    "# #             bbox=dict(facecolor='white', alpha=0.8, edgecolor='white'))\n",
    "#     plt.box(False)"
   ]
  },
  {
   "cell_type": "code",
   "execution_count": 42,
   "id": "sexual-wages",
   "metadata": {
    "execution": {
     "iopub.execute_input": "2022-01-12T00:28:33.545451Z",
     "iopub.status.busy": "2022-01-12T00:28:33.544771Z",
     "iopub.status.idle": "2022-01-12T00:28:33.547373Z",
     "shell.execute_reply": "2022-01-12T00:28:33.546855Z"
    },
    "papermill": {
     "duration": 0.040748,
     "end_time": "2022-01-12T00:28:33.547497",
     "exception": false,
     "start_time": "2022-01-12T00:28:33.506749",
     "status": "completed"
    },
    "tags": []
   },
   "outputs": [],
   "source": [
    "# #hide_input\n",
    "# fig, ax = plt.subplots(figsize=(15, 8))\n",
    "# animator = animation.FuncAnimation(fig, draw_barchart, frames=range(g.day.values.min(), g.day.values.max()))\n",
    "# HTML(animator.to_jshtml())\n",
    "# # or use animator.to_html5_video() or animator.save() "
   ]
  },
  {
   "cell_type": "code",
   "execution_count": null,
   "id": "australian-container",
   "metadata": {
    "papermill": {
     "duration": 0.032922,
     "end_time": "2022-01-12T00:28:33.616228",
     "exception": false,
     "start_time": "2022-01-12T00:28:33.583306",
     "status": "completed"
    },
    "tags": []
   },
   "outputs": [],
   "source": []
  },
  {
   "cell_type": "code",
   "execution_count": null,
   "id": "mediterranean-pontiac",
   "metadata": {
    "papermill": {
     "duration": 0.031893,
     "end_time": "2022-01-12T00:28:33.680464",
     "exception": false,
     "start_time": "2022-01-12T00:28:33.648571",
     "status": "completed"
    },
    "tags": []
   },
   "outputs": [],
   "source": []
  },
  {
   "cell_type": "code",
   "execution_count": null,
   "id": "aging-legislature",
   "metadata": {
    "papermill": {
     "duration": 0.031256,
     "end_time": "2022-01-12T00:28:33.744183",
     "exception": false,
     "start_time": "2022-01-12T00:28:33.712927",
     "status": "completed"
    },
    "tags": []
   },
   "outputs": [],
   "source": []
  }
 ],
 "metadata": {
  "kernelspec": {
   "display_name": "Python 3",
   "language": "python",
   "name": "python3"
  },
  "language_info": {
   "codemirror_mode": {
    "name": "ipython",
    "version": 3
   },
   "file_extension": ".py",
   "mimetype": "text/x-python",
   "name": "python",
   "nbconvert_exporter": "python",
   "pygments_lexer": "ipython3",
   "version": "3.6.15"
  },
  "papermill": {
   "duration": 6.486073,
   "end_time": "2022-01-12T00:28:34.084818",
   "environment_variables": {},
   "exception": null,
   "input_path": "2020-03-21-covid19exp.ipynb",
   "output_path": "2020-03-21-covid19exp.ipynb",
   "parameters": {},
   "start_time": "2022-01-12T00:28:27.598745",
   "version": "2.0.0"
  }
 },
 "nbformat": 4,
 "nbformat_minor": 5
}