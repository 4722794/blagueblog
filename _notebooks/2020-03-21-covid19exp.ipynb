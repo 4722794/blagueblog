{
 "cells": [
  {
   "cell_type": "markdown",
   "id": "muslim-click",
   "metadata": {
    "papermill": {
     "duration": 0.033831,
     "end_time": "2022-02-22T12:14:18.005503",
     "exception": false,
     "start_time": "2022-02-22T12:14:17.971672",
     "status": "completed"
    },
    "tags": []
   },
   "source": [
    "# COVID-19 Case Race\n",
    "> A race chart to see rising cases around the world\n",
    "\n",
    "- author: Hargun Oberoi\n",
    "- image: images/covid-overview.png\n",
    "- hide: false\n",
    "- badges: false"
   ]
  },
  {
   "cell_type": "code",
   "execution_count": 1,
   "id": "proof-material",
   "metadata": {
    "execution": {
     "iopub.execute_input": "2022-02-22T12:14:18.076590Z",
     "iopub.status.busy": "2022-02-22T12:14:18.074417Z",
     "iopub.status.idle": "2022-02-22T12:14:18.411421Z",
     "shell.execute_reply": "2022-02-22T12:14:18.410885Z"
    },
    "papermill": {
     "duration": 0.374326,
     "end_time": "2022-02-22T12:14:18.411559",
     "exception": false,
     "start_time": "2022-02-22T12:14:18.037233",
     "status": "completed"
    },
    "tags": []
   },
   "outputs": [],
   "source": [
    "#hide\n",
    "import numpy as np\n",
    "import pandas as pd\n",
    "from jinja2 import Template\n",
    "from IPython.display import HTML"
   ]
  },
  {
   "cell_type": "code",
   "execution_count": 2,
   "id": "developed-terminology",
   "metadata": {
    "execution": {
     "iopub.execute_input": "2022-02-22T12:14:18.476353Z",
     "iopub.status.busy": "2022-02-22T12:14:18.475828Z",
     "iopub.status.idle": "2022-02-22T12:14:18.478333Z",
     "shell.execute_reply": "2022-02-22T12:14:18.477911Z"
    },
    "papermill": {
     "duration": 0.037007,
     "end_time": "2022-02-22T12:14:18.478447",
     "exception": false,
     "start_time": "2022-02-22T12:14:18.441440",
     "status": "completed"
    },
    "tags": []
   },
   "outputs": [],
   "source": [
    "#hide\n",
    "\n",
    "# FETCH\n",
    "base_url = 'https://raw.githubusercontent.com/pratapvardhan/notebooks/master/covid19/'\n",
    "paths = {\n",
    "    'mapping': base_url + 'mapping_countries.csv',\n",
    "    'overview': base_url + 'overview.tpl'\n",
    "}"
   ]
  },
  {
   "cell_type": "code",
   "execution_count": 3,
   "id": "dynamic-saver",
   "metadata": {
    "execution": {
     "iopub.execute_input": "2022-02-22T12:14:18.547966Z",
     "iopub.status.busy": "2022-02-22T12:14:18.547448Z",
     "iopub.status.idle": "2022-02-22T12:14:18.550179Z",
     "shell.execute_reply": "2022-02-22T12:14:18.549666Z"
    },
    "papermill": {
     "duration": 0.04191,
     "end_time": "2022-02-22T12:14:18.550291",
     "exception": false,
     "start_time": "2022-02-22T12:14:18.508381",
     "status": "completed"
    },
    "tags": []
   },
   "outputs": [
    {
     "data": {
      "text/plain": [
       "'https://raw.githubusercontent.com/pratapvardhan/notebooks/master/covid19/mapping_countries.csv'"
      ]
     },
     "execution_count": 3,
     "metadata": {},
     "output_type": "execute_result"
    }
   ],
   "source": [
    "#hide\n",
    "paths['mapping']"
   ]
  },
  {
   "cell_type": "code",
   "execution_count": 4,
   "id": "urban-software",
   "metadata": {
    "execution": {
     "iopub.execute_input": "2022-02-22T12:14:18.616205Z",
     "iopub.status.busy": "2022-02-22T12:14:18.615652Z",
     "iopub.status.idle": "2022-02-22T12:14:18.619425Z",
     "shell.execute_reply": "2022-02-22T12:14:18.618997Z"
    },
    "papermill": {
     "duration": 0.039311,
     "end_time": "2022-02-22T12:14:18.619544",
     "exception": false,
     "start_time": "2022-02-22T12:14:18.580233",
     "status": "completed"
    },
    "tags": []
   },
   "outputs": [],
   "source": [
    "#hide\n",
    "def get_mappings(url):\n",
    "    df = pd.read_csv(url)\n",
    "    return {\n",
    "        'df': df,\n",
    "        'replace.country': dict(df.dropna(subset=['Name']).set_index('Country')['Name']),\n",
    "        'map.continent': dict(df.set_index('Name')['Continent'])\n",
    "    }"
   ]
  },
  {
   "cell_type": "code",
   "execution_count": 5,
   "id": "intimate-machinery",
   "metadata": {
    "execution": {
     "iopub.execute_input": "2022-02-22T12:14:18.685231Z",
     "iopub.status.busy": "2022-02-22T12:14:18.684651Z",
     "iopub.status.idle": "2022-02-22T12:14:18.715319Z",
     "shell.execute_reply": "2022-02-22T12:14:18.714809Z"
    },
    "papermill": {
     "duration": 0.066,
     "end_time": "2022-02-22T12:14:18.715454",
     "exception": false,
     "start_time": "2022-02-22T12:14:18.649454",
     "status": "completed"
    },
    "tags": []
   },
   "outputs": [],
   "source": [
    "#hide\n",
    "mapping = get_mappings(paths['mapping'])"
   ]
  },
  {
   "cell_type": "code",
   "execution_count": 6,
   "id": "certified-tactics",
   "metadata": {
    "execution": {
     "iopub.execute_input": "2022-02-22T12:14:18.781090Z",
     "iopub.status.busy": "2022-02-22T12:14:18.780536Z",
     "iopub.status.idle": "2022-02-22T12:14:18.782780Z",
     "shell.execute_reply": "2022-02-22T12:14:18.783168Z"
    },
    "papermill": {
     "duration": 0.037595,
     "end_time": "2022-02-22T12:14:18.783304",
     "exception": false,
     "start_time": "2022-02-22T12:14:18.745709",
     "status": "completed"
    },
    "tags": []
   },
   "outputs": [],
   "source": [
    "#hide\n",
    "def get_template(path):\n",
    "    from urllib.parse import urlparse\n",
    "    if bool(urlparse(path).netloc):\n",
    "        from urllib.request import urlopen\n",
    "        return urlopen(path).read().decode('utf8')\n",
    "    return open(path).read()"
   ]
  },
  {
   "cell_type": "code",
   "execution_count": 7,
   "id": "realistic-blast",
   "metadata": {
    "execution": {
     "iopub.execute_input": "2022-02-22T12:14:18.848773Z",
     "iopub.status.busy": "2022-02-22T12:14:18.848214Z",
     "iopub.status.idle": "2022-02-22T12:14:18.850283Z",
     "shell.execute_reply": "2022-02-22T12:14:18.849861Z"
    },
    "papermill": {
     "duration": 0.037078,
     "end_time": "2022-02-22T12:14:18.850399",
     "exception": false,
     "start_time": "2022-02-22T12:14:18.813321",
     "status": "completed"
    },
    "tags": []
   },
   "outputs": [],
   "source": [
    "#hide\n",
    "def get_frame(name):\n",
    "    url = (\n",
    "        'https://raw.githubusercontent.com/CSSEGISandData/COVID-19/master/csse_covid_19_data/'\n",
    "        f'csse_covid_19_time_series/time_series_covid19_{name}_global.csv')\n",
    "    df = pd.read_csv(url)\n",
    "    # rename countries\n",
    "    df['Country/Region'] = df['Country/Region'].replace(mapping['replace.country'])\n",
    "    return df"
   ]
  },
  {
   "cell_type": "code",
   "execution_count": 8,
   "id": "affiliated-characterization",
   "metadata": {
    "execution": {
     "iopub.execute_input": "2022-02-22T12:14:18.917249Z",
     "iopub.status.busy": "2022-02-22T12:14:18.916572Z",
     "iopub.status.idle": "2022-02-22T12:14:18.920131Z",
     "shell.execute_reply": "2022-02-22T12:14:18.919706Z"
    },
    "papermill": {
     "duration": 0.039581,
     "end_time": "2022-02-22T12:14:18.920247",
     "exception": false,
     "start_time": "2022-02-22T12:14:18.880666",
     "status": "completed"
    },
    "tags": []
   },
   "outputs": [],
   "source": [
    "#hide\n",
    "def get_dates(df):\n",
    "    dt_cols = df.columns[~df.columns.isin(['Province/State', 'Country/Region', 'Lat', 'Long'])]\n",
    "    LAST_DATE_I = -1\n",
    "    # sometimes last column may be empty, then go backwards\n",
    "    for i in range(-1, -len(dt_cols), -1):\n",
    "        if not df[dt_cols[i]].fillna(0).eq(0).all():\n",
    "            LAST_DATE_I = i\n",
    "            break\n",
    "    return LAST_DATE_I, dt_cols"
   ]
  },
  {
   "cell_type": "code",
   "execution_count": 9,
   "id": "recent-optimization",
   "metadata": {
    "execution": {
     "iopub.execute_input": "2022-02-22T12:14:18.985712Z",
     "iopub.status.busy": "2022-02-22T12:14:18.985130Z",
     "iopub.status.idle": "2022-02-22T12:14:19.325282Z",
     "shell.execute_reply": "2022-02-22T12:14:19.324753Z"
    },
    "papermill": {
     "duration": 0.375107,
     "end_time": "2022-02-22T12:14:19.325407",
     "exception": false,
     "start_time": "2022-02-22T12:14:18.950300",
     "status": "completed"
    },
    "tags": []
   },
   "outputs": [],
   "source": [
    "#hide\n",
    "COL_REGION = 'Country/Region'\n",
    "# Confirmed, Recovered, Deaths\n",
    "df = get_frame('confirmed')\n",
    "# dft_: timeseries, dfc_: today country agg\n",
    "dft_cases = df\n",
    "dft_deaths = get_frame('deaths')\n",
    "dft_recovered = get_frame('recovered')\n",
    "LAST_DATE_I, dt_cols = get_dates(df)"
   ]
  },
  {
   "cell_type": "code",
   "execution_count": 10,
   "id": "absolute-copper",
   "metadata": {
    "execution": {
     "iopub.execute_input": "2022-02-22T12:14:19.391056Z",
     "iopub.status.busy": "2022-02-22T12:14:19.390496Z",
     "iopub.status.idle": "2022-02-22T12:14:19.392684Z",
     "shell.execute_reply": "2022-02-22T12:14:19.392230Z"
    },
    "papermill": {
     "duration": 0.037179,
     "end_time": "2022-02-22T12:14:19.392802",
     "exception": false,
     "start_time": "2022-02-22T12:14:19.355623",
     "status": "completed"
    },
    "tags": []
   },
   "outputs": [],
   "source": [
    "#hide\n",
    "LAST_DATE_I, dt_cols = get_dates(df)\n",
    "dt_today =dt_cols[LAST_DATE_I]\n",
    "# dt_5day = dt_cols[LAST_DATE_I - 5]\n",
    "dt_yday = dt_cols[LAST_DATE_I - 1]"
   ]
  },
  {
   "cell_type": "code",
   "execution_count": 11,
   "id": "restricted-sheriff",
   "metadata": {
    "execution": {
     "iopub.execute_input": "2022-02-22T12:14:19.460168Z",
     "iopub.status.busy": "2022-02-22T12:14:19.459644Z",
     "iopub.status.idle": "2022-02-22T12:14:19.465581Z",
     "shell.execute_reply": "2022-02-22T12:14:19.465142Z"
    },
    "papermill": {
     "duration": 0.042657,
     "end_time": "2022-02-22T12:14:19.465690",
     "exception": false,
     "start_time": "2022-02-22T12:14:19.423033",
     "status": "completed"
    },
    "tags": []
   },
   "outputs": [],
   "source": [
    "#hide\n",
    "dfc_cases = dft_cases.groupby(COL_REGION)[dt_today].sum()\n",
    "dfc_deaths = dft_deaths.groupby(COL_REGION)[dt_today].sum()\n",
    "# dfp_cases = dft_cases.groupby(COL_REGION)[dt_5day].sum()\n",
    "# dfp_deaths = dft_deaths.groupby(COL_REGION)[dt_5day].sum()\n",
    "dfp_cases = dft_cases.groupby(COL_REGION)[dt_yday].sum()\n",
    "dfp_deaths = dft_deaths.groupby(COL_REGION)[dt_yday].sum()"
   ]
  },
  {
   "cell_type": "code",
   "execution_count": 12,
   "id": "deluxe-hepatitis",
   "metadata": {
    "execution": {
     "iopub.execute_input": "2022-02-22T12:14:19.532651Z",
     "iopub.status.busy": "2022-02-22T12:14:19.532119Z",
     "iopub.status.idle": "2022-02-22T12:14:19.535944Z",
     "shell.execute_reply": "2022-02-22T12:14:19.536388Z"
    },
    "papermill": {
     "duration": 0.040691,
     "end_time": "2022-02-22T12:14:19.536524",
     "exception": false,
     "start_time": "2022-02-22T12:14:19.495833",
     "status": "completed"
    },
    "tags": []
   },
   "outputs": [],
   "source": [
    "#hide\n",
    "df_table = (pd.DataFrame(dict(Cases = dfc_cases, Deaths = dfc_deaths, PCases = dfp_cases, PDeaths = dfp_deaths))\n",
    "            .sort_values(by = ['Cases','Deaths'], ascending = [False, False])\n",
    "            .reset_index())"
   ]
  },
  {
   "cell_type": "code",
   "execution_count": 13,
   "id": "educational-chancellor",
   "metadata": {
    "execution": {
     "iopub.execute_input": "2022-02-22T12:14:19.614833Z",
     "iopub.status.busy": "2022-02-22T12:14:19.614277Z",
     "iopub.status.idle": "2022-02-22T12:14:19.622097Z",
     "shell.execute_reply": "2022-02-22T12:14:19.621661Z"
    },
    "papermill": {
     "duration": 0.055833,
     "end_time": "2022-02-22T12:14:19.622218",
     "exception": false,
     "start_time": "2022-02-22T12:14:19.566385",
     "status": "completed"
    },
    "tags": []
   },
   "outputs": [
    {
     "data": {
      "text/html": [
       "<div>\n",
       "<style scoped>\n",
       "    .dataframe tbody tr th:only-of-type {\n",
       "        vertical-align: middle;\n",
       "    }\n",
       "\n",
       "    .dataframe tbody tr th {\n",
       "        vertical-align: top;\n",
       "    }\n",
       "\n",
       "    .dataframe thead th {\n",
       "        text-align: right;\n",
       "    }\n",
       "</style>\n",
       "<table border=\"1\" class=\"dataframe\">\n",
       "  <thead>\n",
       "    <tr style=\"text-align: right;\">\n",
       "      <th></th>\n",
       "      <th>Country/Region</th>\n",
       "      <th>Cases</th>\n",
       "      <th>Deaths</th>\n",
       "      <th>PCases</th>\n",
       "      <th>PDeaths</th>\n",
       "      <th>Cases (+)</th>\n",
       "      <th>Deaths (+)</th>\n",
       "      <th>Fatality Rate</th>\n",
       "      <th>Continent</th>\n",
       "    </tr>\n",
       "  </thead>\n",
       "  <tbody>\n",
       "    <tr>\n",
       "      <th>0</th>\n",
       "      <td>US</td>\n",
       "      <td>78529099</td>\n",
       "      <td>935990</td>\n",
       "      <td>78479134</td>\n",
       "      <td>935335</td>\n",
       "      <td>49965</td>\n",
       "      <td>655</td>\n",
       "      <td>1.19</td>\n",
       "      <td>North America</td>\n",
       "    </tr>\n",
       "    <tr>\n",
       "      <th>1</th>\n",
       "      <td>India</td>\n",
       "      <td>42851929</td>\n",
       "      <td>512344</td>\n",
       "      <td>42838524</td>\n",
       "      <td>512109</td>\n",
       "      <td>13405</td>\n",
       "      <td>235</td>\n",
       "      <td>1.20</td>\n",
       "      <td>Asia</td>\n",
       "    </tr>\n",
       "    <tr>\n",
       "      <th>2</th>\n",
       "      <td>Brazil</td>\n",
       "      <td>28258458</td>\n",
       "      <td>644918</td>\n",
       "      <td>28218180</td>\n",
       "      <td>644592</td>\n",
       "      <td>40278</td>\n",
       "      <td>326</td>\n",
       "      <td>2.28</td>\n",
       "      <td>South America</td>\n",
       "    </tr>\n",
       "    <tr>\n",
       "      <th>3</th>\n",
       "      <td>France</td>\n",
       "      <td>22466076</td>\n",
       "      <td>133663</td>\n",
       "      <td>22445580</td>\n",
       "      <td>137596</td>\n",
       "      <td>20496</td>\n",
       "      <td>0</td>\n",
       "      <td>0.59</td>\n",
       "      <td>Europe</td>\n",
       "    </tr>\n",
       "    <tr>\n",
       "      <th>4</th>\n",
       "      <td>United Kingdom</td>\n",
       "      <td>18785333</td>\n",
       "      <td>161179</td>\n",
       "      <td>18735911</td>\n",
       "      <td>161148</td>\n",
       "      <td>49422</td>\n",
       "      <td>31</td>\n",
       "      <td>0.86</td>\n",
       "      <td>Europe</td>\n",
       "    </tr>\n",
       "  </tbody>\n",
       "</table>\n",
       "</div>"
      ],
      "text/plain": [
       "   Country/Region     Cases  Deaths    PCases  PDeaths  Cases (+)  Deaths (+)  \\\n",
       "0              US  78529099  935990  78479134   935335      49965         655   \n",
       "1           India  42851929  512344  42838524   512109      13405         235   \n",
       "2          Brazil  28258458  644918  28218180   644592      40278         326   \n",
       "3          France  22466076  133663  22445580   137596      20496           0   \n",
       "4  United Kingdom  18785333  161179  18735911   161148      49422          31   \n",
       "\n",
       "   Fatality Rate      Continent  \n",
       "0           1.19  North America  \n",
       "1           1.20           Asia  \n",
       "2           2.28  South America  \n",
       "3           0.59         Europe  \n",
       "4           0.86         Europe  "
      ]
     },
     "execution_count": 13,
     "metadata": {},
     "output_type": "execute_result"
    }
   ],
   "source": [
    "#hide\n",
    "for c in 'Cases, Deaths'.split(', '):\n",
    "    df_table[f'{c} (+)'] = (df_table[c] - df_table[f'P{c}']).clip(0)\n",
    "    #Clip ça veut dire, les chiffres negatif sont interdit\n",
    "df_table['Fatality Rate'] = (100* df_table['Deaths']/ df_table['Cases']).round(2)\n",
    "df_table['Continent'] = df_table['Country/Region'].map(mapping['map.continent'])\n",
    "df_table.head(5)"
   ]
  },
  {
   "cell_type": "code",
   "execution_count": 14,
   "id": "aboriginal-bulgaria",
   "metadata": {
    "execution": {
     "iopub.execute_input": "2022-02-22T12:14:19.689934Z",
     "iopub.status.busy": "2022-02-22T12:14:19.689305Z",
     "iopub.status.idle": "2022-02-22T12:14:19.692016Z",
     "shell.execute_reply": "2022-02-22T12:14:19.691583Z"
    },
    "papermill": {
     "duration": 0.039193,
     "end_time": "2022-02-22T12:14:19.692136",
     "exception": false,
     "start_time": "2022-02-22T12:14:19.652943",
     "status": "completed"
    },
    "tags": []
   },
   "outputs": [],
   "source": [
    "#hide\n",
    "#delete problematic countries from table\n",
    "df_table = df_table[~df_table['Country/Region'].isin(['Cape Verde', 'Cruise Ship', 'Kosovo'])]"
   ]
  },
  {
   "cell_type": "code",
   "execution_count": 15,
   "id": "fantastic-effect",
   "metadata": {
    "execution": {
     "iopub.execute_input": "2022-02-22T12:14:19.761547Z",
     "iopub.status.busy": "2022-02-22T12:14:19.760968Z",
     "iopub.status.idle": "2022-02-22T12:14:19.778060Z",
     "shell.execute_reply": "2022-02-22T12:14:19.778468Z"
    },
    "papermill": {
     "duration": 0.055869,
     "end_time": "2022-02-22T12:14:19.778599",
     "exception": false,
     "start_time": "2022-02-22T12:14:19.722730",
     "status": "completed"
    },
    "tags": []
   },
   "outputs": [
    {
     "data": {
      "text/html": [
       "<div>\n",
       "<style scoped>\n",
       "    .dataframe tbody tr th:only-of-type {\n",
       "        vertical-align: middle;\n",
       "    }\n",
       "\n",
       "    .dataframe tbody tr th {\n",
       "        vertical-align: top;\n",
       "    }\n",
       "\n",
       "    .dataframe thead th {\n",
       "        text-align: right;\n",
       "    }\n",
       "</style>\n",
       "<table border=\"1\" class=\"dataframe\">\n",
       "  <thead>\n",
       "    <tr style=\"text-align: right;\">\n",
       "      <th></th>\n",
       "      <th>Country/Region</th>\n",
       "      <th>Cases</th>\n",
       "      <th>Deaths</th>\n",
       "      <th>PCases</th>\n",
       "      <th>PDeaths</th>\n",
       "      <th>Cases (+)</th>\n",
       "      <th>Deaths (+)</th>\n",
       "      <th>Fatality Rate</th>\n",
       "      <th>Continent</th>\n",
       "    </tr>\n",
       "  </thead>\n",
       "  <tbody>\n",
       "    <tr>\n",
       "      <th>0</th>\n",
       "      <td>US</td>\n",
       "      <td>78529099</td>\n",
       "      <td>935990</td>\n",
       "      <td>78479134</td>\n",
       "      <td>935335</td>\n",
       "      <td>49965</td>\n",
       "      <td>655</td>\n",
       "      <td>1.2</td>\n",
       "      <td>North America</td>\n",
       "    </tr>\n",
       "    <tr>\n",
       "      <th>1</th>\n",
       "      <td>India</td>\n",
       "      <td>42851929</td>\n",
       "      <td>512344</td>\n",
       "      <td>42838524</td>\n",
       "      <td>512109</td>\n",
       "      <td>13405</td>\n",
       "      <td>235</td>\n",
       "      <td>1.2</td>\n",
       "      <td>Asia</td>\n",
       "    </tr>\n",
       "    <tr>\n",
       "      <th>2</th>\n",
       "      <td>Brazil</td>\n",
       "      <td>28258458</td>\n",
       "      <td>644918</td>\n",
       "      <td>28218180</td>\n",
       "      <td>644592</td>\n",
       "      <td>40278</td>\n",
       "      <td>326</td>\n",
       "      <td>2.3</td>\n",
       "      <td>South America</td>\n",
       "    </tr>\n",
       "    <tr>\n",
       "      <th>3</th>\n",
       "      <td>France</td>\n",
       "      <td>22466076</td>\n",
       "      <td>133663</td>\n",
       "      <td>22445580</td>\n",
       "      <td>137596</td>\n",
       "      <td>20496</td>\n",
       "      <td>0</td>\n",
       "      <td>0.6</td>\n",
       "      <td>Europe</td>\n",
       "    </tr>\n",
       "    <tr>\n",
       "      <th>4</th>\n",
       "      <td>United Kingdom</td>\n",
       "      <td>18785333</td>\n",
       "      <td>161179</td>\n",
       "      <td>18735911</td>\n",
       "      <td>161148</td>\n",
       "      <td>49422</td>\n",
       "      <td>31</td>\n",
       "      <td>0.9</td>\n",
       "      <td>Europe</td>\n",
       "    </tr>\n",
       "  </tbody>\n",
       "</table>\n",
       "</div>"
      ],
      "text/plain": [
       "   Country/Region     Cases  Deaths    PCases  PDeaths  Cases (+)  Deaths (+)  \\\n",
       "0              US  78529099  935990  78479134   935335      49965         655   \n",
       "1           India  42851929  512344  42838524   512109      13405         235   \n",
       "2          Brazil  28258458  644918  28218180   644592      40278         326   \n",
       "3          France  22466076  133663  22445580   137596      20496           0   \n",
       "4  United Kingdom  18785333  161179  18735911   161148      49422          31   \n",
       "\n",
       "   Fatality Rate      Continent  \n",
       "0            1.2  North America  \n",
       "1            1.2           Asia  \n",
       "2            2.3  South America  \n",
       "3            0.6         Europe  \n",
       "4            0.9         Europe  "
      ]
     },
     "execution_count": 15,
     "metadata": {},
     "output_type": "execute_result"
    }
   ],
   "source": [
    "#hide\n",
    "df_table = (pd.DataFrame(dict(Cases=dfc_cases, Deaths=dfc_deaths, PCases=dfp_cases, PDeaths=dfp_deaths))\n",
    "             .sort_values(by=['Cases', 'Deaths'], ascending=[False, False])\n",
    "             .reset_index())\n",
    "df_table.rename(columns={'index': 'Country/Region'}, inplace=True)\n",
    "for c in 'Cases, Deaths'.split(', '):\n",
    "    df_table[f'{c} (+)'] = (df_table[c] - df_table[f'P{c}']).clip(0)  # DATA BUG\n",
    "df_table['Fatality Rate'] = (100 * df_table['Deaths'] / df_table['Cases']).round(1)\n",
    "df_table['Continent'] = df_table['Country/Region'].map(mapping['map.continent'])\n",
    "df_table.head(5)"
   ]
  },
  {
   "cell_type": "code",
   "execution_count": 16,
   "id": "fewer-occasion",
   "metadata": {
    "execution": {
     "iopub.execute_input": "2022-02-22T12:14:19.847192Z",
     "iopub.status.busy": "2022-02-22T12:14:19.846623Z",
     "iopub.status.idle": "2022-02-22T12:14:19.848751Z",
     "shell.execute_reply": "2022-02-22T12:14:19.848337Z"
    },
    "papermill": {
     "duration": 0.038998,
     "end_time": "2022-02-22T12:14:19.848866",
     "exception": false,
     "start_time": "2022-02-22T12:14:19.809868",
     "status": "completed"
    },
    "tags": []
   },
   "outputs": [],
   "source": [
    "#hide\n",
    "#delete problematic countries from table\n",
    "df_table = df_table[~df_table['Country/Region'].isin(['Cape Verde', 'Cruise Ship', 'Kosovo'])]"
   ]
  },
  {
   "cell_type": "code",
   "execution_count": 17,
   "id": "related-center",
   "metadata": {
    "execution": {
     "iopub.execute_input": "2022-02-22T12:14:19.930141Z",
     "iopub.status.busy": "2022-02-22T12:14:19.929539Z",
     "iopub.status.idle": "2022-02-22T12:14:19.931615Z",
     "shell.execute_reply": "2022-02-22T12:14:19.931090Z"
    },
    "papermill": {
     "duration": 0.052141,
     "end_time": "2022-02-22T12:14:19.931731",
     "exception": false,
     "start_time": "2022-02-22T12:14:19.879590",
     "status": "completed"
    },
    "tags": []
   },
   "outputs": [],
   "source": [
    "#hide\n",
    "metrics = [df_table.columns[index] for index in [1,2,5,6]]\n",
    "# s_china = df_table[df_table['Country/Region'].eq('China')][metrics].sum().add_prefix('China ')\n",
    "s_us = df_table[df_table['Country/Region'].eq('US')][metrics].sum().add_prefix('US ')\n",
    "s_eu = df_table[df_table['Continent'].eq('Europe')][metrics].sum().add_prefix('EU ')\n",
    "s_ind = df_table[df_table['Country/Region'].eq('India')][metrics].sum().add_prefix('India ')\n",
    "summary = {'updated': pd.to_datetime(dt_today), 'since': pd.to_datetime(dt_yday)}\n",
    "summary = {'updated': pd.to_datetime(dt_today), 'since': pd.to_datetime(dt_yday)}\n",
    "summary = {**summary, **df_table[metrics].sum(), **s_ind, **s_us, **s_eu}"
   ]
  },
  {
   "cell_type": "code",
   "execution_count": 18,
   "id": "engaging-syndrome",
   "metadata": {
    "execution": {
     "iopub.execute_input": "2022-02-22T12:14:19.999060Z",
     "iopub.status.busy": "2022-02-22T12:14:19.998505Z",
     "iopub.status.idle": "2022-02-22T12:14:20.014078Z",
     "shell.execute_reply": "2022-02-22T12:14:20.013638Z"
    },
    "papermill": {
     "duration": 0.051363,
     "end_time": "2022-02-22T12:14:20.014207",
     "exception": false,
     "start_time": "2022-02-22T12:14:19.962844",
     "status": "completed"
    },
    "tags": []
   },
   "outputs": [],
   "source": [
    "#hide\n",
    "dft_ct_new_cases = dft_cases.groupby(COL_REGION)[dt_cols].sum().diff(axis=1).fillna(0).astype(int)"
   ]
  },
  {
   "cell_type": "code",
   "execution_count": 19,
   "id": "neutral-assignment",
   "metadata": {
    "execution": {
     "iopub.execute_input": "2022-02-22T12:14:20.082371Z",
     "iopub.status.busy": "2022-02-22T12:14:20.081828Z",
     "iopub.status.idle": "2022-02-22T12:14:20.083782Z",
     "shell.execute_reply": "2022-02-22T12:14:20.084167Z"
    },
    "papermill": {
     "duration": 0.039147,
     "end_time": "2022-02-22T12:14:20.084308",
     "exception": false,
     "start_time": "2022-02-22T12:14:20.045161",
     "status": "completed"
    },
    "tags": []
   },
   "outputs": [],
   "source": [
    "#hide\n",
    "everydaycases = dft_ct_new_cases.cumsum(axis=1)"
   ]
  },
  {
   "cell_type": "code",
   "execution_count": 20,
   "id": "parliamentary-calgary",
   "metadata": {
    "execution": {
     "iopub.execute_input": "2022-02-22T12:14:20.151210Z",
     "iopub.status.busy": "2022-02-22T12:14:20.150670Z",
     "iopub.status.idle": "2022-02-22T12:14:20.742440Z",
     "shell.execute_reply": "2022-02-22T12:14:20.742914Z"
    },
    "papermill": {
     "duration": 0.627569,
     "end_time": "2022-02-22T12:14:20.743085",
     "exception": false,
     "start_time": "2022-02-22T12:14:20.115516",
     "status": "completed"
    },
    "tags": []
   },
   "outputs": [],
   "source": [
    "#hide\n",
    "import pandas as pd\n",
    "import matplotlib.pyplot as plt\n",
    "import matplotlib.ticker as ticker\n",
    "import matplotlib.animation as animation\n",
    "from IPython.display import HTML"
   ]
  },
  {
   "cell_type": "code",
   "execution_count": 21,
   "id": "lasting-extraction",
   "metadata": {
    "execution": {
     "iopub.execute_input": "2022-02-22T12:14:20.812270Z",
     "iopub.status.busy": "2022-02-22T12:14:20.811743Z",
     "iopub.status.idle": "2022-02-22T12:14:20.817705Z",
     "shell.execute_reply": "2022-02-22T12:14:20.818099Z"
    },
    "papermill": {
     "duration": 0.043547,
     "end_time": "2022-02-22T12:14:20.818238",
     "exception": false,
     "start_time": "2022-02-22T12:14:20.774691",
     "status": "completed"
    },
    "tags": []
   },
   "outputs": [],
   "source": [
    "#hide\n",
    "t = everydaycases.stack()"
   ]
  },
  {
   "cell_type": "code",
   "execution_count": 22,
   "id": "premier-sleeve",
   "metadata": {
    "execution": {
     "iopub.execute_input": "2022-02-22T12:14:20.884149Z",
     "iopub.status.busy": "2022-02-22T12:14:20.883588Z",
     "iopub.status.idle": "2022-02-22T12:14:20.895199Z",
     "shell.execute_reply": "2022-02-22T12:14:20.894751Z"
    },
    "papermill": {
     "duration": 0.04592,
     "end_time": "2022-02-22T12:14:20.895320",
     "exception": false,
     "start_time": "2022-02-22T12:14:20.849400",
     "status": "completed"
    },
    "tags": []
   },
   "outputs": [],
   "source": [
    "#hide\n",
    "g = t.reset_index(['Country/Region'])"
   ]
  },
  {
   "cell_type": "code",
   "execution_count": 23,
   "id": "distributed-pittsburgh",
   "metadata": {
    "execution": {
     "iopub.execute_input": "2022-02-22T12:14:20.961748Z",
     "iopub.status.busy": "2022-02-22T12:14:20.961120Z",
     "iopub.status.idle": "2022-02-22T12:14:20.962653Z",
     "shell.execute_reply": "2022-02-22T12:14:20.963087Z"
    },
    "papermill": {
     "duration": 0.036816,
     "end_time": "2022-02-22T12:14:20.963232",
     "exception": false,
     "start_time": "2022-02-22T12:14:20.926416",
     "status": "completed"
    },
    "tags": []
   },
   "outputs": [],
   "source": [
    "#hide\n",
    "g.index.name = 'date'"
   ]
  },
  {
   "cell_type": "code",
   "execution_count": 24,
   "id": "naked-donor",
   "metadata": {
    "execution": {
     "iopub.execute_input": "2022-02-22T12:14:21.029152Z",
     "iopub.status.busy": "2022-02-22T12:14:21.028505Z",
     "iopub.status.idle": "2022-02-22T12:14:21.032228Z",
     "shell.execute_reply": "2022-02-22T12:14:21.031692Z"
    },
    "papermill": {
     "duration": 0.038068,
     "end_time": "2022-02-22T12:14:21.032355",
     "exception": false,
     "start_time": "2022-02-22T12:14:20.994287",
     "status": "completed"
    },
    "tags": []
   },
   "outputs": [],
   "source": [
    "# #hide\n",
    "# g = g.reset_index(['date'])"
   ]
  },
  {
   "cell_type": "code",
   "execution_count": 25,
   "id": "incomplete-mustang",
   "metadata": {
    "execution": {
     "iopub.execute_input": "2022-02-22T12:14:21.098605Z",
     "iopub.status.busy": "2022-02-22T12:14:21.097975Z",
     "iopub.status.idle": "2022-02-22T12:14:21.101722Z",
     "shell.execute_reply": "2022-02-22T12:14:21.102178Z"
    },
    "papermill": {
     "duration": 0.038738,
     "end_time": "2022-02-22T12:14:21.102335",
     "exception": false,
     "start_time": "2022-02-22T12:14:21.063597",
     "status": "completed"
    },
    "tags": []
   },
   "outputs": [],
   "source": [
    "#hide\n",
    "# g.head()"
   ]
  },
  {
   "cell_type": "code",
   "execution_count": 26,
   "id": "specific-kruger",
   "metadata": {
    "execution": {
     "iopub.execute_input": "2022-02-22T12:14:21.168919Z",
     "iopub.status.busy": "2022-02-22T12:14:21.168306Z",
     "iopub.status.idle": "2022-02-22T12:14:21.170284Z",
     "shell.execute_reply": "2022-02-22T12:14:21.169725Z"
    },
    "papermill": {
     "duration": 0.036586,
     "end_time": "2022-02-22T12:14:21.170406",
     "exception": false,
     "start_time": "2022-02-22T12:14:21.133820",
     "status": "completed"
    },
    "tags": []
   },
   "outputs": [],
   "source": [
    "#hide\n",
    "# g.columns = ['date','country','cases']"
   ]
  },
  {
   "cell_type": "code",
   "execution_count": 27,
   "id": "tender-conversion",
   "metadata": {
    "execution": {
     "iopub.execute_input": "2022-02-22T12:14:21.237079Z",
     "iopub.status.busy": "2022-02-22T12:14:21.236440Z",
     "iopub.status.idle": "2022-02-22T12:14:21.239489Z",
     "shell.execute_reply": "2022-02-22T12:14:21.239873Z"
    },
    "papermill": {
     "duration": 0.037846,
     "end_time": "2022-02-22T12:14:21.240005",
     "exception": false,
     "start_time": "2022-02-22T12:14:21.202159",
     "status": "completed"
    },
    "tags": []
   },
   "outputs": [],
   "source": [
    "#hide\n",
    "# g['continent'] = g.country"
   ]
  },
  {
   "cell_type": "code",
   "execution_count": 28,
   "id": "substantial-wilderness",
   "metadata": {
    "execution": {
     "iopub.execute_input": "2022-02-22T12:14:21.306046Z",
     "iopub.status.busy": "2022-02-22T12:14:21.305433Z",
     "iopub.status.idle": "2022-02-22T12:14:21.308899Z",
     "shell.execute_reply": "2022-02-22T12:14:21.309319Z"
    },
    "papermill": {
     "duration": 0.038393,
     "end_time": "2022-02-22T12:14:21.309456",
     "exception": false,
     "start_time": "2022-02-22T12:14:21.271063",
     "status": "completed"
    },
    "tags": []
   },
   "outputs": [],
   "source": [
    "#hide\n",
    "# cols = list(g.columns.values)"
   ]
  },
  {
   "cell_type": "code",
   "execution_count": 29,
   "id": "solved-farming",
   "metadata": {
    "execution": {
     "iopub.execute_input": "2022-02-22T12:14:21.375302Z",
     "iopub.status.busy": "2022-02-22T12:14:21.374696Z",
     "iopub.status.idle": "2022-02-22T12:14:21.376458Z",
     "shell.execute_reply": "2022-02-22T12:14:21.375906Z"
    },
    "papermill": {
     "duration": 0.035978,
     "end_time": "2022-02-22T12:14:21.376576",
     "exception": false,
     "start_time": "2022-02-22T12:14:21.340598",
     "status": "completed"
    },
    "tags": []
   },
   "outputs": [],
   "source": [
    "#hide\n",
    "# cols.insert(0, cols.pop())"
   ]
  },
  {
   "cell_type": "code",
   "execution_count": 30,
   "id": "executed-adoption",
   "metadata": {
    "execution": {
     "iopub.execute_input": "2022-02-22T12:14:21.442864Z",
     "iopub.status.busy": "2022-02-22T12:14:21.442258Z",
     "iopub.status.idle": "2022-02-22T12:14:21.444279Z",
     "shell.execute_reply": "2022-02-22T12:14:21.443712Z"
    },
    "papermill": {
     "duration": 0.036274,
     "end_time": "2022-02-22T12:14:21.444400",
     "exception": false,
     "start_time": "2022-02-22T12:14:21.408126",
     "status": "completed"
    },
    "tags": []
   },
   "outputs": [],
   "source": [
    "#hide\n",
    "# g = g[cols]"
   ]
  },
  {
   "cell_type": "code",
   "execution_count": 31,
   "id": "subject-dublin",
   "metadata": {
    "execution": {
     "iopub.execute_input": "2022-02-22T12:14:21.510891Z",
     "iopub.status.busy": "2022-02-22T12:14:21.510280Z",
     "iopub.status.idle": "2022-02-22T12:14:21.512156Z",
     "shell.execute_reply": "2022-02-22T12:14:21.511659Z"
    },
    "papermill": {
     "duration": 0.036355,
     "end_time": "2022-02-22T12:14:21.512266",
     "exception": false,
     "start_time": "2022-02-22T12:14:21.475911",
     "status": "completed"
    },
    "tags": []
   },
   "outputs": [],
   "source": [
    "#hide\n",
    "# g['continent'] = g['continent'].map(mapping['map.continent'])"
   ]
  },
  {
   "cell_type": "code",
   "execution_count": 32,
   "id": "freelance-scout",
   "metadata": {
    "execution": {
     "iopub.execute_input": "2022-02-22T12:14:21.578039Z",
     "iopub.status.busy": "2022-02-22T12:14:21.577441Z",
     "iopub.status.idle": "2022-02-22T12:14:21.581528Z",
     "shell.execute_reply": "2022-02-22T12:14:21.581010Z"
    },
    "papermill": {
     "duration": 0.038381,
     "end_time": "2022-02-22T12:14:21.581655",
     "exception": false,
     "start_time": "2022-02-22T12:14:21.543274",
     "status": "completed"
    },
    "tags": []
   },
   "outputs": [],
   "source": [
    "#hide\n",
    "# g.head()"
   ]
  },
  {
   "cell_type": "code",
   "execution_count": 33,
   "id": "limited-engine",
   "metadata": {
    "execution": {
     "iopub.execute_input": "2022-02-22T12:14:21.647367Z",
     "iopub.status.busy": "2022-02-22T12:14:21.646751Z",
     "iopub.status.idle": "2022-02-22T12:14:21.648521Z",
     "shell.execute_reply": "2022-02-22T12:14:21.647964Z"
    },
    "papermill": {
     "duration": 0.036105,
     "end_time": "2022-02-22T12:14:21.648641",
     "exception": false,
     "start_time": "2022-02-22T12:14:21.612536",
     "status": "completed"
    },
    "tags": []
   },
   "outputs": [],
   "source": [
    "# hide\n",
    "# g['date'] = g['date'].astype('datetime64[ns]')"
   ]
  },
  {
   "cell_type": "code",
   "execution_count": 34,
   "id": "sophisticated-supervisor",
   "metadata": {
    "execution": {
     "iopub.execute_input": "2022-02-22T12:14:21.715588Z",
     "iopub.status.busy": "2022-02-22T12:14:21.715012Z",
     "iopub.status.idle": "2022-02-22T12:14:21.718390Z",
     "shell.execute_reply": "2022-02-22T12:14:21.718783Z"
    },
    "papermill": {
     "duration": 0.038538,
     "end_time": "2022-02-22T12:14:21.718926",
     "exception": false,
     "start_time": "2022-02-22T12:14:21.680388",
     "status": "completed"
    },
    "tags": []
   },
   "outputs": [],
   "source": [
    "#hide\n",
    "# g['date'] = g.date.dt.dayofyear"
   ]
  },
  {
   "cell_type": "code",
   "execution_count": 35,
   "id": "inside-dubai",
   "metadata": {
    "execution": {
     "iopub.execute_input": "2022-02-22T12:14:21.784382Z",
     "iopub.status.busy": "2022-02-22T12:14:21.783756Z",
     "iopub.status.idle": "2022-02-22T12:14:21.785859Z",
     "shell.execute_reply": "2022-02-22T12:14:21.785284Z"
    },
    "papermill": {
     "duration": 0.036354,
     "end_time": "2022-02-22T12:14:21.785972",
     "exception": false,
     "start_time": "2022-02-22T12:14:21.749618",
     "status": "completed"
    },
    "tags": []
   },
   "outputs": [],
   "source": [
    "#hide\n",
    "# g = g.rename(columns= {'continent':'group','country':'name','cases':'value'})"
   ]
  },
  {
   "cell_type": "code",
   "execution_count": 36,
   "id": "fleet-motorcycle",
   "metadata": {
    "execution": {
     "iopub.execute_input": "2022-02-22T12:14:21.851870Z",
     "iopub.status.busy": "2022-02-22T12:14:21.851269Z",
     "iopub.status.idle": "2022-02-22T12:14:21.854720Z",
     "shell.execute_reply": "2022-02-22T12:14:21.855166Z"
    },
    "papermill": {
     "duration": 0.038089,
     "end_time": "2022-02-22T12:14:21.855308",
     "exception": false,
     "start_time": "2022-02-22T12:14:21.817219",
     "status": "completed"
    },
    "tags": []
   },
   "outputs": [],
   "source": [
    "#hide\n",
    "# cols = ['name','group','day','value']"
   ]
  },
  {
   "cell_type": "code",
   "execution_count": 37,
   "id": "continued-sleeping",
   "metadata": {
    "execution": {
     "iopub.execute_input": "2022-02-22T12:14:21.921140Z",
     "iopub.status.busy": "2022-02-22T12:14:21.920508Z",
     "iopub.status.idle": "2022-02-22T12:14:21.922391Z",
     "shell.execute_reply": "2022-02-22T12:14:21.921824Z"
    },
    "papermill": {
     "duration": 0.036212,
     "end_time": "2022-02-22T12:14:21.922513",
     "exception": false,
     "start_time": "2022-02-22T12:14:21.886301",
     "status": "completed"
    },
    "tags": []
   },
   "outputs": [],
   "source": [
    "#hide\n",
    "# g.rename(columns= {'date':'day'},inplace = True)"
   ]
  },
  {
   "cell_type": "code",
   "execution_count": 38,
   "id": "major-fight",
   "metadata": {
    "execution": {
     "iopub.execute_input": "2022-02-22T12:14:21.988966Z",
     "iopub.status.busy": "2022-02-22T12:14:21.988419Z",
     "iopub.status.idle": "2022-02-22T12:14:21.990558Z",
     "shell.execute_reply": "2022-02-22T12:14:21.990112Z"
    },
    "papermill": {
     "duration": 0.036341,
     "end_time": "2022-02-22T12:14:21.990673",
     "exception": false,
     "start_time": "2022-02-22T12:14:21.954332",
     "status": "completed"
    },
    "tags": []
   },
   "outputs": [],
   "source": [
    "#hide\n",
    "# g = g[cols]"
   ]
  },
  {
   "cell_type": "code",
   "execution_count": 39,
   "id": "structured-mobile",
   "metadata": {
    "execution": {
     "iopub.execute_input": "2022-02-22T12:14:22.056390Z",
     "iopub.status.busy": "2022-02-22T12:14:22.055785Z",
     "iopub.status.idle": "2022-02-22T12:14:22.059147Z",
     "shell.execute_reply": "2022-02-22T12:14:22.059579Z"
    },
    "papermill": {
     "duration": 0.038159,
     "end_time": "2022-02-22T12:14:22.059720",
     "exception": false,
     "start_time": "2022-02-22T12:14:22.021561",
     "status": "completed"
    },
    "tags": []
   },
   "outputs": [],
   "source": [
    "# #hide\n",
    "# g = g[g.group.notna()]"
   ]
  },
  {
   "cell_type": "code",
   "execution_count": 40,
   "id": "determined-closing",
   "metadata": {
    "execution": {
     "iopub.execute_input": "2022-02-22T12:14:22.125663Z",
     "iopub.status.busy": "2022-02-22T12:14:22.124995Z",
     "iopub.status.idle": "2022-02-22T12:14:22.126508Z",
     "shell.execute_reply": "2022-02-22T12:14:22.126965Z"
    },
    "papermill": {
     "duration": 0.036383,
     "end_time": "2022-02-22T12:14:22.127103",
     "exception": false,
     "start_time": "2022-02-22T12:14:22.090720",
     "status": "completed"
    },
    "tags": []
   },
   "outputs": [],
   "source": [
    "# #hide\n",
    "# colors = dict(zip(\n",
    "#     [\"Oceania\", \"Europe\", \"Asia\", \"South America\", \"Middle East\", \"North America\", \"Africa\"],\n",
    "#     [\"#adb0ff\", \"#ffb3ff\", \"#90d595\", \"#e48381\", \"#aafbff\", \"#f7bb5f\", \"#eafb50\"]\n",
    "# ))\n",
    "# group_lk = g.set_index('name')['group'].to_dict()"
   ]
  },
  {
   "cell_type": "code",
   "execution_count": null,
   "id": "gross-drinking",
   "metadata": {
    "papermill": {
     "duration": 0.030615,
     "end_time": "2022-02-22T12:14:22.188894",
     "exception": false,
     "start_time": "2022-02-22T12:14:22.158279",
     "status": "completed"
    },
    "tags": []
   },
   "outputs": [],
   "source": []
  },
  {
   "cell_type": "code",
   "execution_count": 41,
   "id": "subject-macintosh",
   "metadata": {
    "execution": {
     "iopub.execute_input": "2022-02-22T12:14:22.255081Z",
     "iopub.status.busy": "2022-02-22T12:14:22.254528Z",
     "iopub.status.idle": "2022-02-22T12:14:22.256550Z",
     "shell.execute_reply": "2022-02-22T12:14:22.256040Z"
    },
    "papermill": {
     "duration": 0.036758,
     "end_time": "2022-02-22T12:14:22.256661",
     "exception": false,
     "start_time": "2022-02-22T12:14:22.219903",
     "status": "completed"
    },
    "tags": []
   },
   "outputs": [],
   "source": [
    "# #hide\n",
    "# fig, ax = plt.subplots(figsize=(15, 8))\n",
    "\n",
    "# def draw_barchart(current_day):\n",
    "#     dff = g[g['day'].eq(current_day)].sort_values(by='value', ascending=True).tail(10)\n",
    "#     ax.clear()\n",
    "#     ax.barh(dff['name'], dff['value'], color=[colors[group_lk[x]] for x in dff['name']])\n",
    "#     dx = dff['value'].max() / 200\n",
    "    \n",
    "#     for i, (value, name) in enumerate(zip(dff['value'], dff['name'])):\n",
    "#         ax.text(value-dx, i,     name,           size=14, weight=600, ha='right', va='bottom')\n",
    "#         ax.text(value-dx, i-.25, group_lk[name], size=10, color='#444444', ha='right', va='baseline')\n",
    "#         ax.text(value+dx, i,     f'{value:,.0f}',  size=14, ha='left',  va='center')\n",
    "#     ax.text(1, 0.4, current_day, transform=ax.transAxes, color='#777777', size=46, ha='right', weight=800)\n",
    "#     ax.text(0, 1.06, 'Population (thousands)', transform=ax.transAxes, size=12, color='#777777')\n",
    "#     ax.xaxis.set_major_formatter(ticker.StrMethodFormatter('{x:,.0f}'))\n",
    "#     ax.xaxis.set_ticks_position('top')\n",
    "#     ax.tick_params(axis='x', colors='#777777', labelsize=12)\n",
    "#     ax.set_yticks([])\n",
    "#     ax.margins(0, 0.01)\n",
    "#     ax.grid(which='major', axis='x', linestyle='-')\n",
    "#     ax.set_axisbelow(True)\n",
    "    \n",
    "#     ax.text(0, 1.15, 'Coronavirus',\n",
    "#             transform=ax.transAxes, size=24, weight=600, ha='left', va='top')\n",
    "# #     ax.text(1, 0, 'by @pratapvardhan; credit @jburnmurdoch', transform=ax.transAxes, color='#777777', ha='right',\n",
    "# #             bbox=dict(facecolor='white', alpha=0.8, edgecolor='white'))\n",
    "#     plt.box(False)"
   ]
  },
  {
   "cell_type": "code",
   "execution_count": 42,
   "id": "sexual-wages",
   "metadata": {
    "execution": {
     "iopub.execute_input": "2022-02-22T12:14:22.322676Z",
     "iopub.status.busy": "2022-02-22T12:14:22.322132Z",
     "iopub.status.idle": "2022-02-22T12:14:22.324103Z",
     "shell.execute_reply": "2022-02-22T12:14:22.324584Z"
    },
    "papermill": {
     "duration": 0.037012,
     "end_time": "2022-02-22T12:14:22.324714",
     "exception": false,
     "start_time": "2022-02-22T12:14:22.287702",
     "status": "completed"
    },
    "tags": []
   },
   "outputs": [],
   "source": [
    "# #hide_input\n",
    "# fig, ax = plt.subplots(figsize=(15, 8))\n",
    "# animator = animation.FuncAnimation(fig, draw_barchart, frames=range(g.day.values.min(), g.day.values.max()))\n",
    "# HTML(animator.to_jshtml())\n",
    "# # or use animator.to_html5_video() or animator.save() "
   ]
  },
  {
   "cell_type": "code",
   "execution_count": null,
   "id": "australian-container",
   "metadata": {
    "papermill": {
     "duration": 0.030791,
     "end_time": "2022-02-22T12:14:22.386968",
     "exception": false,
     "start_time": "2022-02-22T12:14:22.356177",
     "status": "completed"
    },
    "tags": []
   },
   "outputs": [],
   "source": []
  },
  {
   "cell_type": "code",
   "execution_count": null,
   "id": "mediterranean-pontiac",
   "metadata": {
    "papermill": {
     "duration": 0.030778,
     "end_time": "2022-02-22T12:14:22.448584",
     "exception": false,
     "start_time": "2022-02-22T12:14:22.417806",
     "status": "completed"
    },
    "tags": []
   },
   "outputs": [],
   "source": []
  },
  {
   "cell_type": "code",
   "execution_count": null,
   "id": "aging-legislature",
   "metadata": {
    "papermill": {
     "duration": 0.030825,
     "end_time": "2022-02-22T12:14:22.510336",
     "exception": false,
     "start_time": "2022-02-22T12:14:22.479511",
     "status": "completed"
    },
    "tags": []
   },
   "outputs": [],
   "source": []
  }
 ],
 "metadata": {
  "kernelspec": {
   "display_name": "Python 3",
   "language": "python",
   "name": "python3"
  },
  "language_info": {
   "codemirror_mode": {
    "name": "ipython",
    "version": 3
   },
   "file_extension": ".py",
   "mimetype": "text/x-python",
   "name": "python",
   "nbconvert_exporter": "python",
   "pygments_lexer": "ipython3",
   "version": "3.6.15"
  },
  "papermill": {
   "duration": 5.94151,
   "end_time": "2022-02-22T12:14:22.960326",
   "environment_variables": {},
   "exception": null,
   "input_path": "2020-03-21-covid19exp.ipynb",
   "output_path": "2020-03-21-covid19exp.ipynb",
   "parameters": {},
   "start_time": "2022-02-22T12:14:17.018816",
   "version": "2.0.0"
  }
 },
 "nbformat": 4,
 "nbformat_minor": 5
}