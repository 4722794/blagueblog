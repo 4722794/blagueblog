{
 "cells": [
  {
   "cell_type": "markdown",
   "id": "muslim-click",
   "metadata": {
    "papermill": {
     "duration": 0.032995,
     "end_time": "2022-06-25T12:13:54.557210",
     "exception": false,
     "start_time": "2022-06-25T12:13:54.524215",
     "status": "completed"
    },
    "tags": []
   },
   "source": [
    "# COVID-19 Case Race\n",
    "> A race chart to see rising cases around the world\n",
    "\n",
    "- author: Hargun Oberoi\n",
    "- image: images/covid-overview.png\n",
    "- hide: false\n",
    "- badges: false"
   ]
  },
  {
   "cell_type": "code",
   "execution_count": 1,
   "id": "proof-material",
   "metadata": {
    "execution": {
     "iopub.execute_input": "2022-06-25T12:13:54.628545Z",
     "iopub.status.busy": "2022-06-25T12:13:54.627937Z",
     "iopub.status.idle": "2022-06-25T12:13:54.956519Z",
     "shell.execute_reply": "2022-06-25T12:13:54.955983Z"
    },
    "papermill": {
     "duration": 0.36812,
     "end_time": "2022-06-25T12:13:54.956659",
     "exception": false,
     "start_time": "2022-06-25T12:13:54.588539",
     "status": "completed"
    },
    "tags": []
   },
   "outputs": [],
   "source": [
    "#hide\n",
    "import numpy as np\n",
    "import pandas as pd\n",
    "from jinja2 import Template\n",
    "from IPython.display import HTML"
   ]
  },
  {
   "cell_type": "code",
   "execution_count": 2,
   "id": "developed-terminology",
   "metadata": {
    "execution": {
     "iopub.execute_input": "2022-06-25T12:13:55.021019Z",
     "iopub.status.busy": "2022-06-25T12:13:55.020307Z",
     "iopub.status.idle": "2022-06-25T12:13:55.022024Z",
     "shell.execute_reply": "2022-06-25T12:13:55.022557Z"
    },
    "papermill": {
     "duration": 0.03642,
     "end_time": "2022-06-25T12:13:55.022705",
     "exception": false,
     "start_time": "2022-06-25T12:13:54.986285",
     "status": "completed"
    },
    "tags": []
   },
   "outputs": [],
   "source": [
    "#hide\n",
    "\n",
    "# FETCH\n",
    "base_url = 'https://raw.githubusercontent.com/pratapvardhan/notebooks/master/covid19/'\n",
    "paths = {\n",
    "    'mapping': base_url + 'mapping_countries.csv',\n",
    "    'overview': base_url + 'overview.tpl'\n",
    "}"
   ]
  },
  {
   "cell_type": "code",
   "execution_count": 3,
   "id": "dynamic-saver",
   "metadata": {
    "execution": {
     "iopub.execute_input": "2022-06-25T12:13:55.091271Z",
     "iopub.status.busy": "2022-06-25T12:13:55.090624Z",
     "iopub.status.idle": "2022-06-25T12:13:55.094035Z",
     "shell.execute_reply": "2022-06-25T12:13:55.093556Z"
    },
    "papermill": {
     "duration": 0.042305,
     "end_time": "2022-06-25T12:13:55.094148",
     "exception": false,
     "start_time": "2022-06-25T12:13:55.051843",
     "status": "completed"
    },
    "tags": []
   },
   "outputs": [
    {
     "data": {
      "text/plain": [
       "'https://raw.githubusercontent.com/pratapvardhan/notebooks/master/covid19/mapping_countries.csv'"
      ]
     },
     "execution_count": 3,
     "metadata": {},
     "output_type": "execute_result"
    }
   ],
   "source": [
    "#hide\n",
    "paths['mapping']"
   ]
  },
  {
   "cell_type": "code",
   "execution_count": 4,
   "id": "urban-software",
   "metadata": {
    "execution": {
     "iopub.execute_input": "2022-06-25T12:13:55.159190Z",
     "iopub.status.busy": "2022-06-25T12:13:55.158580Z",
     "iopub.status.idle": "2022-06-25T12:13:55.160985Z",
     "shell.execute_reply": "2022-06-25T12:13:55.160408Z"
    },
    "papermill": {
     "duration": 0.037517,
     "end_time": "2022-06-25T12:13:55.161098",
     "exception": false,
     "start_time": "2022-06-25T12:13:55.123581",
     "status": "completed"
    },
    "tags": []
   },
   "outputs": [],
   "source": [
    "#hide\n",
    "def get_mappings(url):\n",
    "    df = pd.read_csv(url)\n",
    "    return {\n",
    "        'df': df,\n",
    "        'replace.country': dict(df.dropna(subset=['Name']).set_index('Country')['Name']),\n",
    "        'map.continent': dict(df.set_index('Name')['Continent'])\n",
    "    }"
   ]
  },
  {
   "cell_type": "code",
   "execution_count": 5,
   "id": "intimate-machinery",
   "metadata": {
    "execution": {
     "iopub.execute_input": "2022-06-25T12:13:55.226377Z",
     "iopub.status.busy": "2022-06-25T12:13:55.225782Z",
     "iopub.status.idle": "2022-06-25T12:13:55.256255Z",
     "shell.execute_reply": "2022-06-25T12:13:55.255053Z"
    },
    "papermill": {
     "duration": 0.065507,
     "end_time": "2022-06-25T12:13:55.256390",
     "exception": false,
     "start_time": "2022-06-25T12:13:55.190883",
     "status": "completed"
    },
    "tags": []
   },
   "outputs": [],
   "source": [
    "#hide\n",
    "mapping = get_mappings(paths['mapping'])"
   ]
  },
  {
   "cell_type": "code",
   "execution_count": 6,
   "id": "certified-tactics",
   "metadata": {
    "execution": {
     "iopub.execute_input": "2022-06-25T12:13:55.321334Z",
     "iopub.status.busy": "2022-06-25T12:13:55.320640Z",
     "iopub.status.idle": "2022-06-25T12:13:55.323028Z",
     "shell.execute_reply": "2022-06-25T12:13:55.322547Z"
    },
    "papermill": {
     "duration": 0.037171,
     "end_time": "2022-06-25T12:13:55.323139",
     "exception": false,
     "start_time": "2022-06-25T12:13:55.285968",
     "status": "completed"
    },
    "tags": []
   },
   "outputs": [],
   "source": [
    "#hide\n",
    "def get_template(path):\n",
    "    from urllib.parse import urlparse\n",
    "    if bool(urlparse(path).netloc):\n",
    "        from urllib.request import urlopen\n",
    "        return urlopen(path).read().decode('utf8')\n",
    "    return open(path).read()"
   ]
  },
  {
   "cell_type": "code",
   "execution_count": 7,
   "id": "realistic-blast",
   "metadata": {
    "execution": {
     "iopub.execute_input": "2022-06-25T12:13:55.387291Z",
     "iopub.status.busy": "2022-06-25T12:13:55.386698Z",
     "iopub.status.idle": "2022-06-25T12:13:55.388779Z",
     "shell.execute_reply": "2022-06-25T12:13:55.389246Z"
    },
    "papermill": {
     "duration": 0.036986,
     "end_time": "2022-06-25T12:13:55.389376",
     "exception": false,
     "start_time": "2022-06-25T12:13:55.352390",
     "status": "completed"
    },
    "tags": []
   },
   "outputs": [],
   "source": [
    "#hide\n",
    "def get_frame(name):\n",
    "    url = (\n",
    "        'https://raw.githubusercontent.com/CSSEGISandData/COVID-19/master/csse_covid_19_data/'\n",
    "        f'csse_covid_19_time_series/time_series_covid19_{name}_global.csv')\n",
    "    df = pd.read_csv(url)\n",
    "    # rename countries\n",
    "    df['Country/Region'] = df['Country/Region'].replace(mapping['replace.country'])\n",
    "    return df"
   ]
  },
  {
   "cell_type": "code",
   "execution_count": 8,
   "id": "affiliated-characterization",
   "metadata": {
    "execution": {
     "iopub.execute_input": "2022-06-25T12:13:55.454416Z",
     "iopub.status.busy": "2022-06-25T12:13:55.453822Z",
     "iopub.status.idle": "2022-06-25T12:13:55.456352Z",
     "shell.execute_reply": "2022-06-25T12:13:55.455879Z"
    },
    "papermill": {
     "duration": 0.03788,
     "end_time": "2022-06-25T12:13:55.456463",
     "exception": false,
     "start_time": "2022-06-25T12:13:55.418583",
     "status": "completed"
    },
    "tags": []
   },
   "outputs": [],
   "source": [
    "#hide\n",
    "def get_dates(df):\n",
    "    dt_cols = df.columns[~df.columns.isin(['Province/State', 'Country/Region', 'Lat', 'Long'])]\n",
    "    LAST_DATE_I = -1\n",
    "    # sometimes last column may be empty, then go backwards\n",
    "    for i in range(-1, -len(dt_cols), -1):\n",
    "        if not df[dt_cols[i]].fillna(0).eq(0).all():\n",
    "            LAST_DATE_I = i\n",
    "            break\n",
    "    return LAST_DATE_I, dt_cols"
   ]
  },
  {
   "cell_type": "code",
   "execution_count": 9,
   "id": "recent-optimization",
   "metadata": {
    "execution": {
     "iopub.execute_input": "2022-06-25T12:13:55.520351Z",
     "iopub.status.busy": "2022-06-25T12:13:55.519756Z",
     "iopub.status.idle": "2022-06-25T12:13:55.891034Z",
     "shell.execute_reply": "2022-06-25T12:13:55.890507Z"
    },
    "papermill": {
     "duration": 0.405641,
     "end_time": "2022-06-25T12:13:55.891175",
     "exception": false,
     "start_time": "2022-06-25T12:13:55.485534",
     "status": "completed"
    },
    "tags": []
   },
   "outputs": [],
   "source": [
    "#hide\n",
    "COL_REGION = 'Country/Region'\n",
    "# Confirmed, Recovered, Deaths\n",
    "df = get_frame('confirmed')\n",
    "# dft_: timeseries, dfc_: today country agg\n",
    "dft_cases = df\n",
    "dft_deaths = get_frame('deaths')\n",
    "dft_recovered = get_frame('recovered')\n",
    "LAST_DATE_I, dt_cols = get_dates(df)"
   ]
  },
  {
   "cell_type": "code",
   "execution_count": 10,
   "id": "absolute-copper",
   "metadata": {
    "execution": {
     "iopub.execute_input": "2022-06-25T12:13:55.956606Z",
     "iopub.status.busy": "2022-06-25T12:13:55.956014Z",
     "iopub.status.idle": "2022-06-25T12:13:55.958388Z",
     "shell.execute_reply": "2022-06-25T12:13:55.958941Z"
    },
    "papermill": {
     "duration": 0.038175,
     "end_time": "2022-06-25T12:13:55.959078",
     "exception": false,
     "start_time": "2022-06-25T12:13:55.920903",
     "status": "completed"
    },
    "tags": []
   },
   "outputs": [],
   "source": [
    "#hide\n",
    "LAST_DATE_I, dt_cols = get_dates(df)\n",
    "dt_today =dt_cols[LAST_DATE_I]\n",
    "# dt_5day = dt_cols[LAST_DATE_I - 5]\n",
    "dt_yday = dt_cols[LAST_DATE_I - 1]"
   ]
  },
  {
   "cell_type": "code",
   "execution_count": 11,
   "id": "restricted-sheriff",
   "metadata": {
    "execution": {
     "iopub.execute_input": "2022-06-25T12:13:56.023651Z",
     "iopub.status.busy": "2022-06-25T12:13:56.023022Z",
     "iopub.status.idle": "2022-06-25T12:13:56.030394Z",
     "shell.execute_reply": "2022-06-25T12:13:56.030952Z"
    },
    "papermill": {
     "duration": 0.042758,
     "end_time": "2022-06-25T12:13:56.031091",
     "exception": false,
     "start_time": "2022-06-25T12:13:55.988333",
     "status": "completed"
    },
    "tags": []
   },
   "outputs": [],
   "source": [
    "#hide\n",
    "dfc_cases = dft_cases.groupby(COL_REGION)[dt_today].sum()\n",
    "dfc_deaths = dft_deaths.groupby(COL_REGION)[dt_today].sum()\n",
    "# dfp_cases = dft_cases.groupby(COL_REGION)[dt_5day].sum()\n",
    "# dfp_deaths = dft_deaths.groupby(COL_REGION)[dt_5day].sum()\n",
    "dfp_cases = dft_cases.groupby(COL_REGION)[dt_yday].sum()\n",
    "dfp_deaths = dft_deaths.groupby(COL_REGION)[dt_yday].sum()"
   ]
  },
  {
   "cell_type": "code",
   "execution_count": 12,
   "id": "deluxe-hepatitis",
   "metadata": {
    "execution": {
     "iopub.execute_input": "2022-06-25T12:13:56.096785Z",
     "iopub.status.busy": "2022-06-25T12:13:56.096170Z",
     "iopub.status.idle": "2022-06-25T12:13:56.100996Z",
     "shell.execute_reply": "2022-06-25T12:13:56.100427Z"
    },
    "papermill": {
     "duration": 0.040627,
     "end_time": "2022-06-25T12:13:56.101110",
     "exception": false,
     "start_time": "2022-06-25T12:13:56.060483",
     "status": "completed"
    },
    "tags": []
   },
   "outputs": [],
   "source": [
    "#hide\n",
    "df_table = (pd.DataFrame(dict(Cases = dfc_cases, Deaths = dfc_deaths, PCases = dfp_cases, PDeaths = dfp_deaths))\n",
    "            .sort_values(by = ['Cases','Deaths'], ascending = [False, False])\n",
    "            .reset_index())"
   ]
  },
  {
   "cell_type": "code",
   "execution_count": 13,
   "id": "educational-chancellor",
   "metadata": {
    "execution": {
     "iopub.execute_input": "2022-06-25T12:13:56.171762Z",
     "iopub.status.busy": "2022-06-25T12:13:56.171042Z",
     "iopub.status.idle": "2022-06-25T12:13:56.186441Z",
     "shell.execute_reply": "2022-06-25T12:13:56.185950Z"
    },
    "papermill": {
     "duration": 0.056052,
     "end_time": "2022-06-25T12:13:56.186559",
     "exception": false,
     "start_time": "2022-06-25T12:13:56.130507",
     "status": "completed"
    },
    "tags": []
   },
   "outputs": [
    {
     "data": {
      "text/html": [
       "<div>\n",
       "<style scoped>\n",
       "    .dataframe tbody tr th:only-of-type {\n",
       "        vertical-align: middle;\n",
       "    }\n",
       "\n",
       "    .dataframe tbody tr th {\n",
       "        vertical-align: top;\n",
       "    }\n",
       "\n",
       "    .dataframe thead th {\n",
       "        text-align: right;\n",
       "    }\n",
       "</style>\n",
       "<table border=\"1\" class=\"dataframe\">\n",
       "  <thead>\n",
       "    <tr style=\"text-align: right;\">\n",
       "      <th></th>\n",
       "      <th>Country/Region</th>\n",
       "      <th>Cases</th>\n",
       "      <th>Deaths</th>\n",
       "      <th>PCases</th>\n",
       "      <th>PDeaths</th>\n",
       "      <th>Cases (+)</th>\n",
       "      <th>Deaths (+)</th>\n",
       "      <th>Fatality Rate</th>\n",
       "      <th>Continent</th>\n",
       "    </tr>\n",
       "  </thead>\n",
       "  <tbody>\n",
       "    <tr>\n",
       "      <th>0</th>\n",
       "      <td>US</td>\n",
       "      <td>86909716</td>\n",
       "      <td>1015789</td>\n",
       "      <td>86757621</td>\n",
       "      <td>1015342</td>\n",
       "      <td>152095</td>\n",
       "      <td>447</td>\n",
       "      <td>1.17</td>\n",
       "      <td>North America</td>\n",
       "    </tr>\n",
       "    <tr>\n",
       "      <th>1</th>\n",
       "      <td>India</td>\n",
       "      <td>43378234</td>\n",
       "      <td>524974</td>\n",
       "      <td>43362294</td>\n",
       "      <td>524954</td>\n",
       "      <td>15940</td>\n",
       "      <td>20</td>\n",
       "      <td>1.21</td>\n",
       "      <td>Asia</td>\n",
       "    </tr>\n",
       "    <tr>\n",
       "      <th>2</th>\n",
       "      <td>Brazil</td>\n",
       "      <td>32023166</td>\n",
       "      <td>670229</td>\n",
       "      <td>31962782</td>\n",
       "      <td>669895</td>\n",
       "      <td>60384</td>\n",
       "      <td>334</td>\n",
       "      <td>2.09</td>\n",
       "      <td>South America</td>\n",
       "    </tr>\n",
       "    <tr>\n",
       "      <th>3</th>\n",
       "      <td>France</td>\n",
       "      <td>30714200</td>\n",
       "      <td>150356</td>\n",
       "      <td>30634890</td>\n",
       "      <td>150307</td>\n",
       "      <td>79310</td>\n",
       "      <td>49</td>\n",
       "      <td>0.49</td>\n",
       "      <td>Europe</td>\n",
       "    </tr>\n",
       "    <tr>\n",
       "      <th>4</th>\n",
       "      <td>Germany</td>\n",
       "      <td>27771111</td>\n",
       "      <td>140734</td>\n",
       "      <td>27681775</td>\n",
       "      <td>140650</td>\n",
       "      <td>89336</td>\n",
       "      <td>84</td>\n",
       "      <td>0.51</td>\n",
       "      <td>Europe</td>\n",
       "    </tr>\n",
       "  </tbody>\n",
       "</table>\n",
       "</div>"
      ],
      "text/plain": [
       "  Country/Region     Cases   Deaths    PCases  PDeaths  Cases (+)  Deaths (+)  \\\n",
       "0             US  86909716  1015789  86757621  1015342     152095         447   \n",
       "1          India  43378234   524974  43362294   524954      15940          20   \n",
       "2         Brazil  32023166   670229  31962782   669895      60384         334   \n",
       "3         France  30714200   150356  30634890   150307      79310          49   \n",
       "4        Germany  27771111   140734  27681775   140650      89336          84   \n",
       "\n",
       "   Fatality Rate      Continent  \n",
       "0           1.17  North America  \n",
       "1           1.21           Asia  \n",
       "2           2.09  South America  \n",
       "3           0.49         Europe  \n",
       "4           0.51         Europe  "
      ]
     },
     "execution_count": 13,
     "metadata": {},
     "output_type": "execute_result"
    }
   ],
   "source": [
    "#hide\n",
    "for c in 'Cases, Deaths'.split(', '):\n",
    "    df_table[f'{c} (+)'] = (df_table[c] - df_table[f'P{c}']).clip(0)\n",
    "    #Clip ça veut dire, les chiffres negatif sont interdit\n",
    "df_table['Fatality Rate'] = (100* df_table['Deaths']/ df_table['Cases']).round(2)\n",
    "df_table['Continent'] = df_table['Country/Region'].map(mapping['map.continent'])\n",
    "df_table.head(5)"
   ]
  },
  {
   "cell_type": "code",
   "execution_count": 14,
   "id": "aboriginal-bulgaria",
   "metadata": {
    "execution": {
     "iopub.execute_input": "2022-06-25T12:13:56.253944Z",
     "iopub.status.busy": "2022-06-25T12:13:56.253343Z",
     "iopub.status.idle": "2022-06-25T12:13:56.255415Z",
     "shell.execute_reply": "2022-06-25T12:13:56.255963Z"
    },
    "papermill": {
     "duration": 0.039473,
     "end_time": "2022-06-25T12:13:56.256100",
     "exception": false,
     "start_time": "2022-06-25T12:13:56.216627",
     "status": "completed"
    },
    "tags": []
   },
   "outputs": [],
   "source": [
    "#hide\n",
    "#delete problematic countries from table\n",
    "df_table = df_table[~df_table['Country/Region'].isin(['Cape Verde', 'Cruise Ship', 'Kosovo'])]"
   ]
  },
  {
   "cell_type": "code",
   "execution_count": 15,
   "id": "fantastic-effect",
   "metadata": {
    "execution": {
     "iopub.execute_input": "2022-06-25T12:13:56.324957Z",
     "iopub.status.busy": "2022-06-25T12:13:56.324358Z",
     "iopub.status.idle": "2022-06-25T12:13:56.342018Z",
     "shell.execute_reply": "2022-06-25T12:13:56.342529Z"
    },
    "papermill": {
     "duration": 0.056774,
     "end_time": "2022-06-25T12:13:56.342678",
     "exception": false,
     "start_time": "2022-06-25T12:13:56.285904",
     "status": "completed"
    },
    "tags": []
   },
   "outputs": [
    {
     "data": {
      "text/html": [
       "<div>\n",
       "<style scoped>\n",
       "    .dataframe tbody tr th:only-of-type {\n",
       "        vertical-align: middle;\n",
       "    }\n",
       "\n",
       "    .dataframe tbody tr th {\n",
       "        vertical-align: top;\n",
       "    }\n",
       "\n",
       "    .dataframe thead th {\n",
       "        text-align: right;\n",
       "    }\n",
       "</style>\n",
       "<table border=\"1\" class=\"dataframe\">\n",
       "  <thead>\n",
       "    <tr style=\"text-align: right;\">\n",
       "      <th></th>\n",
       "      <th>Country/Region</th>\n",
       "      <th>Cases</th>\n",
       "      <th>Deaths</th>\n",
       "      <th>PCases</th>\n",
       "      <th>PDeaths</th>\n",
       "      <th>Cases (+)</th>\n",
       "      <th>Deaths (+)</th>\n",
       "      <th>Fatality Rate</th>\n",
       "      <th>Continent</th>\n",
       "    </tr>\n",
       "  </thead>\n",
       "  <tbody>\n",
       "    <tr>\n",
       "      <th>0</th>\n",
       "      <td>US</td>\n",
       "      <td>86909716</td>\n",
       "      <td>1015789</td>\n",
       "      <td>86757621</td>\n",
       "      <td>1015342</td>\n",
       "      <td>152095</td>\n",
       "      <td>447</td>\n",
       "      <td>1.2</td>\n",
       "      <td>North America</td>\n",
       "    </tr>\n",
       "    <tr>\n",
       "      <th>1</th>\n",
       "      <td>India</td>\n",
       "      <td>43378234</td>\n",
       "      <td>524974</td>\n",
       "      <td>43362294</td>\n",
       "      <td>524954</td>\n",
       "      <td>15940</td>\n",
       "      <td>20</td>\n",
       "      <td>1.2</td>\n",
       "      <td>Asia</td>\n",
       "    </tr>\n",
       "    <tr>\n",
       "      <th>2</th>\n",
       "      <td>Brazil</td>\n",
       "      <td>32023166</td>\n",
       "      <td>670229</td>\n",
       "      <td>31962782</td>\n",
       "      <td>669895</td>\n",
       "      <td>60384</td>\n",
       "      <td>334</td>\n",
       "      <td>2.1</td>\n",
       "      <td>South America</td>\n",
       "    </tr>\n",
       "    <tr>\n",
       "      <th>3</th>\n",
       "      <td>France</td>\n",
       "      <td>30714200</td>\n",
       "      <td>150356</td>\n",
       "      <td>30634890</td>\n",
       "      <td>150307</td>\n",
       "      <td>79310</td>\n",
       "      <td>49</td>\n",
       "      <td>0.5</td>\n",
       "      <td>Europe</td>\n",
       "    </tr>\n",
       "    <tr>\n",
       "      <th>4</th>\n",
       "      <td>Germany</td>\n",
       "      <td>27771111</td>\n",
       "      <td>140734</td>\n",
       "      <td>27681775</td>\n",
       "      <td>140650</td>\n",
       "      <td>89336</td>\n",
       "      <td>84</td>\n",
       "      <td>0.5</td>\n",
       "      <td>Europe</td>\n",
       "    </tr>\n",
       "  </tbody>\n",
       "</table>\n",
       "</div>"
      ],
      "text/plain": [
       "  Country/Region     Cases   Deaths    PCases  PDeaths  Cases (+)  Deaths (+)  \\\n",
       "0             US  86909716  1015789  86757621  1015342     152095         447   \n",
       "1          India  43378234   524974  43362294   524954      15940          20   \n",
       "2         Brazil  32023166   670229  31962782   669895      60384         334   \n",
       "3         France  30714200   150356  30634890   150307      79310          49   \n",
       "4        Germany  27771111   140734  27681775   140650      89336          84   \n",
       "\n",
       "   Fatality Rate      Continent  \n",
       "0            1.2  North America  \n",
       "1            1.2           Asia  \n",
       "2            2.1  South America  \n",
       "3            0.5         Europe  \n",
       "4            0.5         Europe  "
      ]
     },
     "execution_count": 15,
     "metadata": {},
     "output_type": "execute_result"
    }
   ],
   "source": [
    "#hide\n",
    "df_table = (pd.DataFrame(dict(Cases=dfc_cases, Deaths=dfc_deaths, PCases=dfp_cases, PDeaths=dfp_deaths))\n",
    "             .sort_values(by=['Cases', 'Deaths'], ascending=[False, False])\n",
    "             .reset_index())\n",
    "df_table.rename(columns={'index': 'Country/Region'}, inplace=True)\n",
    "for c in 'Cases, Deaths'.split(', '):\n",
    "    df_table[f'{c} (+)'] = (df_table[c] - df_table[f'P{c}']).clip(0)  # DATA BUG\n",
    "df_table['Fatality Rate'] = (100 * df_table['Deaths'] / df_table['Cases']).round(1)\n",
    "df_table['Continent'] = df_table['Country/Region'].map(mapping['map.continent'])\n",
    "df_table.head(5)"
   ]
  },
  {
   "cell_type": "code",
   "execution_count": 16,
   "id": "fewer-occasion",
   "metadata": {
    "execution": {
     "iopub.execute_input": "2022-06-25T12:13:56.410877Z",
     "iopub.status.busy": "2022-06-25T12:13:56.410279Z",
     "iopub.status.idle": "2022-06-25T12:13:56.412688Z",
     "shell.execute_reply": "2022-06-25T12:13:56.413137Z"
    },
    "papermill": {
     "duration": 0.039596,
     "end_time": "2022-06-25T12:13:56.413276",
     "exception": false,
     "start_time": "2022-06-25T12:13:56.373680",
     "status": "completed"
    },
    "tags": []
   },
   "outputs": [],
   "source": [
    "#hide\n",
    "#delete problematic countries from table\n",
    "df_table = df_table[~df_table['Country/Region'].isin(['Cape Verde', 'Cruise Ship', 'Kosovo'])]"
   ]
  },
  {
   "cell_type": "code",
   "execution_count": 17,
   "id": "related-center",
   "metadata": {
    "execution": {
     "iopub.execute_input": "2022-06-25T12:13:56.476952Z",
     "iopub.status.busy": "2022-06-25T12:13:56.476367Z",
     "iopub.status.idle": "2022-06-25T12:13:56.494371Z",
     "shell.execute_reply": "2022-06-25T12:13:56.493884Z"
    },
    "papermill": {
     "duration": 0.05103,
     "end_time": "2022-06-25T12:13:56.494485",
     "exception": false,
     "start_time": "2022-06-25T12:13:56.443455",
     "status": "completed"
    },
    "tags": []
   },
   "outputs": [],
   "source": [
    "#hide\n",
    "metrics = [df_table.columns[index] for index in [1,2,5,6]]\n",
    "# s_china = df_table[df_table['Country/Region'].eq('China')][metrics].sum().add_prefix('China ')\n",
    "s_us = df_table[df_table['Country/Region'].eq('US')][metrics].sum().add_prefix('US ')\n",
    "s_eu = df_table[df_table['Continent'].eq('Europe')][metrics].sum().add_prefix('EU ')\n",
    "s_ind = df_table[df_table['Country/Region'].eq('India')][metrics].sum().add_prefix('India ')\n",
    "summary = {'updated': pd.to_datetime(dt_today), 'since': pd.to_datetime(dt_yday)}\n",
    "summary = {'updated': pd.to_datetime(dt_today), 'since': pd.to_datetime(dt_yday)}\n",
    "summary = {**summary, **df_table[metrics].sum(), **s_ind, **s_us, **s_eu}"
   ]
  },
  {
   "cell_type": "code",
   "execution_count": 18,
   "id": "engaging-syndrome",
   "metadata": {
    "execution": {
     "iopub.execute_input": "2022-06-25T12:13:56.561623Z",
     "iopub.status.busy": "2022-06-25T12:13:56.560998Z",
     "iopub.status.idle": "2022-06-25T12:13:56.581108Z",
     "shell.execute_reply": "2022-06-25T12:13:56.580611Z"
    },
    "papermill": {
     "duration": 0.056144,
     "end_time": "2022-06-25T12:13:56.581224",
     "exception": false,
     "start_time": "2022-06-25T12:13:56.525080",
     "status": "completed"
    },
    "tags": []
   },
   "outputs": [],
   "source": [
    "#hide\n",
    "dft_ct_new_cases = dft_cases.groupby(COL_REGION)[dt_cols].sum().diff(axis=1).fillna(0).astype(int)"
   ]
  },
  {
   "cell_type": "code",
   "execution_count": 19,
   "id": "neutral-assignment",
   "metadata": {
    "execution": {
     "iopub.execute_input": "2022-06-25T12:13:56.648796Z",
     "iopub.status.busy": "2022-06-25T12:13:56.648214Z",
     "iopub.status.idle": "2022-06-25T12:13:56.650686Z",
     "shell.execute_reply": "2022-06-25T12:13:56.651159Z"
    },
    "papermill": {
     "duration": 0.039838,
     "end_time": "2022-06-25T12:13:56.651291",
     "exception": false,
     "start_time": "2022-06-25T12:13:56.611453",
     "status": "completed"
    },
    "tags": []
   },
   "outputs": [],
   "source": [
    "#hide\n",
    "everydaycases = dft_ct_new_cases.cumsum(axis=1)"
   ]
  },
  {
   "cell_type": "code",
   "execution_count": 20,
   "id": "parliamentary-calgary",
   "metadata": {
    "execution": {
     "iopub.execute_input": "2022-06-25T12:13:56.716275Z",
     "iopub.status.busy": "2022-06-25T12:13:56.715679Z",
     "iopub.status.idle": "2022-06-25T12:13:57.298252Z",
     "shell.execute_reply": "2022-06-25T12:13:57.297662Z"
    },
    "papermill": {
     "duration": 0.616974,
     "end_time": "2022-06-25T12:13:57.298397",
     "exception": false,
     "start_time": "2022-06-25T12:13:56.681423",
     "status": "completed"
    },
    "tags": []
   },
   "outputs": [],
   "source": [
    "#hide\n",
    "import pandas as pd\n",
    "import matplotlib.pyplot as plt\n",
    "import matplotlib.ticker as ticker\n",
    "import matplotlib.animation as animation\n",
    "from IPython.display import HTML"
   ]
  },
  {
   "cell_type": "code",
   "execution_count": 21,
   "id": "lasting-extraction",
   "metadata": {
    "execution": {
     "iopub.execute_input": "2022-06-25T12:13:57.366906Z",
     "iopub.status.busy": "2022-06-25T12:13:57.366311Z",
     "iopub.status.idle": "2022-06-25T12:13:57.373742Z",
     "shell.execute_reply": "2022-06-25T12:13:57.373256Z"
    },
    "papermill": {
     "duration": 0.044308,
     "end_time": "2022-06-25T12:13:57.373855",
     "exception": false,
     "start_time": "2022-06-25T12:13:57.329547",
     "status": "completed"
    },
    "tags": []
   },
   "outputs": [],
   "source": [
    "#hide\n",
    "t = everydaycases.stack()"
   ]
  },
  {
   "cell_type": "code",
   "execution_count": 22,
   "id": "premier-sleeve",
   "metadata": {
    "execution": {
     "iopub.execute_input": "2022-06-25T12:13:57.440063Z",
     "iopub.status.busy": "2022-06-25T12:13:57.439452Z",
     "iopub.status.idle": "2022-06-25T12:13:57.451819Z",
     "shell.execute_reply": "2022-06-25T12:13:57.451330Z"
    },
    "papermill": {
     "duration": 0.047611,
     "end_time": "2022-06-25T12:13:57.451931",
     "exception": false,
     "start_time": "2022-06-25T12:13:57.404320",
     "status": "completed"
    },
    "tags": []
   },
   "outputs": [],
   "source": [
    "#hide\n",
    "g = t.reset_index(['Country/Region'])"
   ]
  },
  {
   "cell_type": "code",
   "execution_count": 23,
   "id": "distributed-pittsburgh",
   "metadata": {
    "execution": {
     "iopub.execute_input": "2022-06-25T12:13:57.516555Z",
     "iopub.status.busy": "2022-06-25T12:13:57.515981Z",
     "iopub.status.idle": "2022-06-25T12:13:57.518399Z",
     "shell.execute_reply": "2022-06-25T12:13:57.518937Z"
    },
    "papermill": {
     "duration": 0.037038,
     "end_time": "2022-06-25T12:13:57.519070",
     "exception": false,
     "start_time": "2022-06-25T12:13:57.482032",
     "status": "completed"
    },
    "tags": []
   },
   "outputs": [],
   "source": [
    "#hide\n",
    "g.index.name = 'date'"
   ]
  },
  {
   "cell_type": "code",
   "execution_count": 24,
   "id": "naked-donor",
   "metadata": {
    "execution": {
     "iopub.execute_input": "2022-06-25T12:13:57.584144Z",
     "iopub.status.busy": "2022-06-25T12:13:57.583450Z",
     "iopub.status.idle": "2022-06-25T12:13:57.586793Z",
     "shell.execute_reply": "2022-06-25T12:13:57.586252Z"
    },
    "papermill": {
     "duration": 0.03752,
     "end_time": "2022-06-25T12:13:57.586916",
     "exception": false,
     "start_time": "2022-06-25T12:13:57.549396",
     "status": "completed"
    },
    "tags": []
   },
   "outputs": [],
   "source": [
    "# #hide\n",
    "# g = g.reset_index(['date'])"
   ]
  },
  {
   "cell_type": "code",
   "execution_count": 25,
   "id": "incomplete-mustang",
   "metadata": {
    "execution": {
     "iopub.execute_input": "2022-06-25T12:13:57.652229Z",
     "iopub.status.busy": "2022-06-25T12:13:57.651623Z",
     "iopub.status.idle": "2022-06-25T12:13:57.653681Z",
     "shell.execute_reply": "2022-06-25T12:13:57.654230Z"
    },
    "papermill": {
     "duration": 0.036982,
     "end_time": "2022-06-25T12:13:57.654366",
     "exception": false,
     "start_time": "2022-06-25T12:13:57.617384",
     "status": "completed"
    },
    "tags": []
   },
   "outputs": [],
   "source": [
    "#hide\n",
    "# g.head()"
   ]
  },
  {
   "cell_type": "code",
   "execution_count": 26,
   "id": "specific-kruger",
   "metadata": {
    "execution": {
     "iopub.execute_input": "2022-06-25T12:13:57.719053Z",
     "iopub.status.busy": "2022-06-25T12:13:57.718371Z",
     "iopub.status.idle": "2022-06-25T12:13:57.722631Z",
     "shell.execute_reply": "2022-06-25T12:13:57.722167Z"
    },
    "papermill": {
     "duration": 0.03804,
     "end_time": "2022-06-25T12:13:57.722745",
     "exception": false,
     "start_time": "2022-06-25T12:13:57.684705",
     "status": "completed"
    },
    "tags": []
   },
   "outputs": [],
   "source": [
    "#hide\n",
    "# g.columns = ['date','country','cases']"
   ]
  },
  {
   "cell_type": "code",
   "execution_count": 27,
   "id": "tender-conversion",
   "metadata": {
    "execution": {
     "iopub.execute_input": "2022-06-25T12:13:57.788014Z",
     "iopub.status.busy": "2022-06-25T12:13:57.787264Z",
     "iopub.status.idle": "2022-06-25T12:13:57.789354Z",
     "shell.execute_reply": "2022-06-25T12:13:57.788721Z"
    },
    "papermill": {
     "duration": 0.036424,
     "end_time": "2022-06-25T12:13:57.789476",
     "exception": false,
     "start_time": "2022-06-25T12:13:57.753052",
     "status": "completed"
    },
    "tags": []
   },
   "outputs": [],
   "source": [
    "#hide\n",
    "# g['continent'] = g.country"
   ]
  },
  {
   "cell_type": "code",
   "execution_count": 28,
   "id": "substantial-wilderness",
   "metadata": {
    "execution": {
     "iopub.execute_input": "2022-06-25T12:13:57.855261Z",
     "iopub.status.busy": "2022-06-25T12:13:57.854670Z",
     "iopub.status.idle": "2022-06-25T12:13:57.857404Z",
     "shell.execute_reply": "2022-06-25T12:13:57.856926Z"
    },
    "papermill": {
     "duration": 0.037303,
     "end_time": "2022-06-25T12:13:57.857526",
     "exception": false,
     "start_time": "2022-06-25T12:13:57.820223",
     "status": "completed"
    },
    "tags": []
   },
   "outputs": [],
   "source": [
    "#hide\n",
    "# cols = list(g.columns.values)"
   ]
  },
  {
   "cell_type": "code",
   "execution_count": 29,
   "id": "solved-farming",
   "metadata": {
    "execution": {
     "iopub.execute_input": "2022-06-25T12:13:57.922734Z",
     "iopub.status.busy": "2022-06-25T12:13:57.922090Z",
     "iopub.status.idle": "2022-06-25T12:13:57.925857Z",
     "shell.execute_reply": "2022-06-25T12:13:57.926282Z"
    },
    "papermill": {
     "duration": 0.03825,
     "end_time": "2022-06-25T12:13:57.926426",
     "exception": false,
     "start_time": "2022-06-25T12:13:57.888176",
     "status": "completed"
    },
    "tags": []
   },
   "outputs": [],
   "source": [
    "#hide\n",
    "# cols.insert(0, cols.pop())"
   ]
  },
  {
   "cell_type": "code",
   "execution_count": 30,
   "id": "executed-adoption",
   "metadata": {
    "execution": {
     "iopub.execute_input": "2022-06-25T12:13:57.991757Z",
     "iopub.status.busy": "2022-06-25T12:13:57.991019Z",
     "iopub.status.idle": "2022-06-25T12:13:57.993390Z",
     "shell.execute_reply": "2022-06-25T12:13:57.992743Z"
    },
    "papermill": {
     "duration": 0.036303,
     "end_time": "2022-06-25T12:13:57.993514",
     "exception": false,
     "start_time": "2022-06-25T12:13:57.957211",
     "status": "completed"
    },
    "tags": []
   },
   "outputs": [],
   "source": [
    "#hide\n",
    "# g = g[cols]"
   ]
  },
  {
   "cell_type": "code",
   "execution_count": 31,
   "id": "subject-dublin",
   "metadata": {
    "execution": {
     "iopub.execute_input": "2022-06-25T12:13:58.058064Z",
     "iopub.status.busy": "2022-06-25T12:13:58.057489Z",
     "iopub.status.idle": "2022-06-25T12:13:58.059717Z",
     "shell.execute_reply": "2022-06-25T12:13:58.060273Z"
    },
    "papermill": {
     "duration": 0.036548,
     "end_time": "2022-06-25T12:13:58.060404",
     "exception": false,
     "start_time": "2022-06-25T12:13:58.023856",
     "status": "completed"
    },
    "tags": []
   },
   "outputs": [],
   "source": [
    "#hide\n",
    "# g['continent'] = g['continent'].map(mapping['map.continent'])"
   ]
  },
  {
   "cell_type": "code",
   "execution_count": 32,
   "id": "freelance-scout",
   "metadata": {
    "execution": {
     "iopub.execute_input": "2022-06-25T12:13:58.125187Z",
     "iopub.status.busy": "2022-06-25T12:13:58.124495Z",
     "iopub.status.idle": "2022-06-25T12:13:58.126849Z",
     "shell.execute_reply": "2022-06-25T12:13:58.126268Z"
    },
    "papermill": {
     "duration": 0.036361,
     "end_time": "2022-06-25T12:13:58.126962",
     "exception": false,
     "start_time": "2022-06-25T12:13:58.090601",
     "status": "completed"
    },
    "tags": []
   },
   "outputs": [],
   "source": [
    "#hide\n",
    "# g.head()"
   ]
  },
  {
   "cell_type": "code",
   "execution_count": 33,
   "id": "limited-engine",
   "metadata": {
    "execution": {
     "iopub.execute_input": "2022-06-25T12:13:58.191210Z",
     "iopub.status.busy": "2022-06-25T12:13:58.190533Z",
     "iopub.status.idle": "2022-06-25T12:13:58.194803Z",
     "shell.execute_reply": "2022-06-25T12:13:58.194254Z"
    },
    "papermill": {
     "duration": 0.037942,
     "end_time": "2022-06-25T12:13:58.194927",
     "exception": false,
     "start_time": "2022-06-25T12:13:58.156985",
     "status": "completed"
    },
    "tags": []
   },
   "outputs": [],
   "source": [
    "# hide\n",
    "# g['date'] = g['date'].astype('datetime64[ns]')"
   ]
  },
  {
   "cell_type": "code",
   "execution_count": 34,
   "id": "sophisticated-supervisor",
   "metadata": {
    "execution": {
     "iopub.execute_input": "2022-06-25T12:13:58.259264Z",
     "iopub.status.busy": "2022-06-25T12:13:58.258683Z",
     "iopub.status.idle": "2022-06-25T12:13:58.262603Z",
     "shell.execute_reply": "2022-06-25T12:13:58.262137Z"
    },
    "papermill": {
     "duration": 0.037226,
     "end_time": "2022-06-25T12:13:58.262709",
     "exception": false,
     "start_time": "2022-06-25T12:13:58.225483",
     "status": "completed"
    },
    "tags": []
   },
   "outputs": [],
   "source": [
    "#hide\n",
    "# g['date'] = g.date.dt.dayofyear"
   ]
  },
  {
   "cell_type": "code",
   "execution_count": 35,
   "id": "inside-dubai",
   "metadata": {
    "execution": {
     "iopub.execute_input": "2022-06-25T12:13:58.326535Z",
     "iopub.status.busy": "2022-06-25T12:13:58.325864Z",
     "iopub.status.idle": "2022-06-25T12:13:58.330171Z",
     "shell.execute_reply": "2022-06-25T12:13:58.329718Z"
    },
    "papermill": {
     "duration": 0.037682,
     "end_time": "2022-06-25T12:13:58.330283",
     "exception": false,
     "start_time": "2022-06-25T12:13:58.292601",
     "status": "completed"
    },
    "tags": []
   },
   "outputs": [],
   "source": [
    "#hide\n",
    "# g = g.rename(columns= {'continent':'group','country':'name','cases':'value'})"
   ]
  },
  {
   "cell_type": "code",
   "execution_count": 36,
   "id": "fleet-motorcycle",
   "metadata": {
    "execution": {
     "iopub.execute_input": "2022-06-25T12:13:58.394185Z",
     "iopub.status.busy": "2022-06-25T12:13:58.393606Z",
     "iopub.status.idle": "2022-06-25T12:13:58.396598Z",
     "shell.execute_reply": "2022-06-25T12:13:58.396029Z"
    },
    "papermill": {
     "duration": 0.036265,
     "end_time": "2022-06-25T12:13:58.396702",
     "exception": false,
     "start_time": "2022-06-25T12:13:58.360437",
     "status": "completed"
    },
    "tags": []
   },
   "outputs": [],
   "source": [
    "#hide\n",
    "# cols = ['name','group','day','value']"
   ]
  },
  {
   "cell_type": "code",
   "execution_count": 37,
   "id": "continued-sleeping",
   "metadata": {
    "execution": {
     "iopub.execute_input": "2022-06-25T12:13:58.461382Z",
     "iopub.status.busy": "2022-06-25T12:13:58.460691Z",
     "iopub.status.idle": "2022-06-25T12:13:58.463023Z",
     "shell.execute_reply": "2022-06-25T12:13:58.462450Z"
    },
    "papermill": {
     "duration": 0.036299,
     "end_time": "2022-06-25T12:13:58.463131",
     "exception": false,
     "start_time": "2022-06-25T12:13:58.426832",
     "status": "completed"
    },
    "tags": []
   },
   "outputs": [],
   "source": [
    "#hide\n",
    "# g.rename(columns= {'date':'day'},inplace = True)"
   ]
  },
  {
   "cell_type": "code",
   "execution_count": 38,
   "id": "major-fight",
   "metadata": {
    "execution": {
     "iopub.execute_input": "2022-06-25T12:13:58.528815Z",
     "iopub.status.busy": "2022-06-25T12:13:58.528144Z",
     "iopub.status.idle": "2022-06-25T12:13:58.531995Z",
     "shell.execute_reply": "2022-06-25T12:13:58.532446Z"
    },
    "papermill": {
     "duration": 0.039255,
     "end_time": "2022-06-25T12:13:58.532580",
     "exception": false,
     "start_time": "2022-06-25T12:13:58.493325",
     "status": "completed"
    },
    "tags": []
   },
   "outputs": [],
   "source": [
    "#hide\n",
    "# g = g[cols]"
   ]
  },
  {
   "cell_type": "code",
   "execution_count": 39,
   "id": "structured-mobile",
   "metadata": {
    "execution": {
     "iopub.execute_input": "2022-06-25T12:13:58.596282Z",
     "iopub.status.busy": "2022-06-25T12:13:58.595699Z",
     "iopub.status.idle": "2022-06-25T12:13:58.598434Z",
     "shell.execute_reply": "2022-06-25T12:13:58.597961Z"
    },
    "papermill": {
     "duration": 0.03601,
     "end_time": "2022-06-25T12:13:58.598538",
     "exception": false,
     "start_time": "2022-06-25T12:13:58.562528",
     "status": "completed"
    },
    "tags": []
   },
   "outputs": [],
   "source": [
    "# #hide\n",
    "# g = g[g.group.notna()]"
   ]
  },
  {
   "cell_type": "code",
   "execution_count": 40,
   "id": "determined-closing",
   "metadata": {
    "execution": {
     "iopub.execute_input": "2022-06-25T12:13:58.662854Z",
     "iopub.status.busy": "2022-06-25T12:13:58.662171Z",
     "iopub.status.idle": "2022-06-25T12:13:58.666159Z",
     "shell.execute_reply": "2022-06-25T12:13:58.665684Z"
    },
    "papermill": {
     "duration": 0.0376,
     "end_time": "2022-06-25T12:13:58.666264",
     "exception": false,
     "start_time": "2022-06-25T12:13:58.628664",
     "status": "completed"
    },
    "tags": []
   },
   "outputs": [],
   "source": [
    "# #hide\n",
    "# colors = dict(zip(\n",
    "#     [\"Oceania\", \"Europe\", \"Asia\", \"South America\", \"Middle East\", \"North America\", \"Africa\"],\n",
    "#     [\"#adb0ff\", \"#ffb3ff\", \"#90d595\", \"#e48381\", \"#aafbff\", \"#f7bb5f\", \"#eafb50\"]\n",
    "# ))\n",
    "# group_lk = g.set_index('name')['group'].to_dict()"
   ]
  },
  {
   "cell_type": "code",
   "execution_count": null,
   "id": "gross-drinking",
   "metadata": {
    "papermill": {
     "duration": 0.029961,
     "end_time": "2022-06-25T12:13:58.726154",
     "exception": false,
     "start_time": "2022-06-25T12:13:58.696193",
     "status": "completed"
    },
    "tags": []
   },
   "outputs": [],
   "source": []
  },
  {
   "cell_type": "code",
   "execution_count": 41,
   "id": "subject-macintosh",
   "metadata": {
    "execution": {
     "iopub.execute_input": "2022-06-25T12:13:58.791154Z",
     "iopub.status.busy": "2022-06-25T12:13:58.790454Z",
     "iopub.status.idle": "2022-06-25T12:13:58.793025Z",
     "shell.execute_reply": "2022-06-25T12:13:58.792484Z"
    },
    "papermill": {
     "duration": 0.036889,
     "end_time": "2022-06-25T12:13:58.793144",
     "exception": false,
     "start_time": "2022-06-25T12:13:58.756255",
     "status": "completed"
    },
    "tags": []
   },
   "outputs": [],
   "source": [
    "# #hide\n",
    "# fig, ax = plt.subplots(figsize=(15, 8))\n",
    "\n",
    "# def draw_barchart(current_day):\n",
    "#     dff = g[g['day'].eq(current_day)].sort_values(by='value', ascending=True).tail(10)\n",
    "#     ax.clear()\n",
    "#     ax.barh(dff['name'], dff['value'], color=[colors[group_lk[x]] for x in dff['name']])\n",
    "#     dx = dff['value'].max() / 200\n",
    "    \n",
    "#     for i, (value, name) in enumerate(zip(dff['value'], dff['name'])):\n",
    "#         ax.text(value-dx, i,     name,           size=14, weight=600, ha='right', va='bottom')\n",
    "#         ax.text(value-dx, i-.25, group_lk[name], size=10, color='#444444', ha='right', va='baseline')\n",
    "#         ax.text(value+dx, i,     f'{value:,.0f}',  size=14, ha='left',  va='center')\n",
    "#     ax.text(1, 0.4, current_day, transform=ax.transAxes, color='#777777', size=46, ha='right', weight=800)\n",
    "#     ax.text(0, 1.06, 'Population (thousands)', transform=ax.transAxes, size=12, color='#777777')\n",
    "#     ax.xaxis.set_major_formatter(ticker.StrMethodFormatter('{x:,.0f}'))\n",
    "#     ax.xaxis.set_ticks_position('top')\n",
    "#     ax.tick_params(axis='x', colors='#777777', labelsize=12)\n",
    "#     ax.set_yticks([])\n",
    "#     ax.margins(0, 0.01)\n",
    "#     ax.grid(which='major', axis='x', linestyle='-')\n",
    "#     ax.set_axisbelow(True)\n",
    "    \n",
    "#     ax.text(0, 1.15, 'Coronavirus',\n",
    "#             transform=ax.transAxes, size=24, weight=600, ha='left', va='top')\n",
    "# #     ax.text(1, 0, 'by @pratapvardhan; credit @jburnmurdoch', transform=ax.transAxes, color='#777777', ha='right',\n",
    "# #             bbox=dict(facecolor='white', alpha=0.8, edgecolor='white'))\n",
    "#     plt.box(False)"
   ]
  },
  {
   "cell_type": "code",
   "execution_count": 42,
   "id": "sexual-wages",
   "metadata": {
    "execution": {
     "iopub.execute_input": "2022-06-25T12:13:58.857407Z",
     "iopub.status.busy": "2022-06-25T12:13:58.856829Z",
     "iopub.status.idle": "2022-06-25T12:13:58.859736Z",
     "shell.execute_reply": "2022-06-25T12:13:58.859211Z"
    },
    "papermill": {
     "duration": 0.036489,
     "end_time": "2022-06-25T12:13:58.859843",
     "exception": false,
     "start_time": "2022-06-25T12:13:58.823354",
     "status": "completed"
    },
    "tags": []
   },
   "outputs": [],
   "source": [
    "# #hide_input\n",
    "# fig, ax = plt.subplots(figsize=(15, 8))\n",
    "# animator = animation.FuncAnimation(fig, draw_barchart, frames=range(g.day.values.min(), g.day.values.max()))\n",
    "# HTML(animator.to_jshtml())\n",
    "# # or use animator.to_html5_video() or animator.save() "
   ]
  },
  {
   "cell_type": "code",
   "execution_count": null,
   "id": "australian-container",
   "metadata": {
    "papermill": {
     "duration": 0.029874,
     "end_time": "2022-06-25T12:13:58.920268",
     "exception": false,
     "start_time": "2022-06-25T12:13:58.890394",
     "status": "completed"
    },
    "tags": []
   },
   "outputs": [],
   "source": []
  },
  {
   "cell_type": "code",
   "execution_count": null,
   "id": "mediterranean-pontiac",
   "metadata": {
    "papermill": {
     "duration": 0.029967,
     "end_time": "2022-06-25T12:13:58.980198",
     "exception": false,
     "start_time": "2022-06-25T12:13:58.950231",
     "status": "completed"
    },
    "tags": []
   },
   "outputs": [],
   "source": []
  },
  {
   "cell_type": "code",
   "execution_count": null,
   "id": "aging-legislature",
   "metadata": {
    "papermill": {
     "duration": 0.029877,
     "end_time": "2022-06-25T12:13:59.040107",
     "exception": false,
     "start_time": "2022-06-25T12:13:59.010230",
     "status": "completed"
    },
    "tags": []
   },
   "outputs": [],
   "source": []
  }
 ],
 "metadata": {
  "kernelspec": {
   "display_name": "Python 3",
   "language": "python",
   "name": "python3"
  },
  "language_info": {
   "codemirror_mode": {
    "name": "ipython",
    "version": 3
   },
   "file_extension": ".py",
   "mimetype": "text/x-python",
   "name": "python",
   "nbconvert_exporter": "python",
   "pygments_lexer": "ipython3",
   "version": "3.6.15"
  },
  "papermill": {
   "duration": 5.911566,
   "end_time": "2022-06-25T12:13:59.489424",
   "environment_variables": {},
   "exception": null,
   "input_path": "2020-03-21-covid19exp.ipynb",
   "output_path": "2020-03-21-covid19exp.ipynb",
   "parameters": {},
   "start_time": "2022-06-25T12:13:53.577858",
   "version": "2.0.0"
  }
 },
 "nbformat": 4,
 "nbformat_minor": 5
}