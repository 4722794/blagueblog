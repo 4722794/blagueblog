{
 "cells": [
  {
   "cell_type": "markdown",
   "metadata": {
    "papermill": {
     "duration": 0.035977,
     "end_time": "2020-11-25T12:06:38.489829",
     "exception": false,
     "start_time": "2020-11-25T12:06:38.453852",
     "status": "completed"
    },
    "tags": []
   },
   "source": [
    "# COVID-19 Case Race\n",
    "> A race chart to see rising cases around the world\n",
    "\n",
    "- author: Hargun Oberoi\n",
    "- image: images/covid-overview.png\n",
    "- hide: false\n",
    "- badges: false"
   ]
  },
  {
   "cell_type": "code",
   "execution_count": 1,
   "metadata": {
    "execution": {
     "iopub.execute_input": "2020-11-25T12:06:38.558293Z",
     "iopub.status.busy": "2020-11-25T12:06:38.557662Z",
     "iopub.status.idle": "2020-11-25T12:06:38.924953Z",
     "shell.execute_reply": "2020-11-25T12:06:38.924386Z"
    },
    "papermill": {
     "duration": 0.404193,
     "end_time": "2020-11-25T12:06:38.925130",
     "exception": false,
     "start_time": "2020-11-25T12:06:38.520937",
     "status": "completed"
    },
    "tags": []
   },
   "outputs": [],
   "source": [
    "#hide\n",
    "import numpy as np\n",
    "import pandas as pd\n",
    "from jinja2 import Template\n",
    "from IPython.display import HTML"
   ]
  },
  {
   "cell_type": "code",
   "execution_count": 2,
   "metadata": {
    "execution": {
     "iopub.execute_input": "2020-11-25T12:06:38.993959Z",
     "iopub.status.busy": "2020-11-25T12:06:38.993311Z",
     "iopub.status.idle": "2020-11-25T12:06:38.997616Z",
     "shell.execute_reply": "2020-11-25T12:06:38.997093Z"
    },
    "papermill": {
     "duration": 0.041089,
     "end_time": "2020-11-25T12:06:38.997753",
     "exception": false,
     "start_time": "2020-11-25T12:06:38.956664",
     "status": "completed"
    },
    "tags": []
   },
   "outputs": [],
   "source": [
    "#hide\n",
    "\n",
    "# FETCH\n",
    "base_url = 'https://raw.githubusercontent.com/pratapvardhan/notebooks/master/covid19/'\n",
    "paths = {\n",
    "    'mapping': base_url + 'mapping_countries.csv',\n",
    "    'overview': base_url + 'overview.tpl'\n",
    "}"
   ]
  },
  {
   "cell_type": "code",
   "execution_count": 3,
   "metadata": {
    "execution": {
     "iopub.execute_input": "2020-11-25T12:06:39.071865Z",
     "iopub.status.busy": "2020-11-25T12:06:39.071167Z",
     "iopub.status.idle": "2020-11-25T12:06:39.074492Z",
     "shell.execute_reply": "2020-11-25T12:06:39.073975Z"
    },
    "papermill": {
     "duration": 0.046856,
     "end_time": "2020-11-25T12:06:39.074631",
     "exception": false,
     "start_time": "2020-11-25T12:06:39.027775",
     "status": "completed"
    },
    "tags": []
   },
   "outputs": [
    {
     "data": {
      "text/plain": [
       "'https://raw.githubusercontent.com/pratapvardhan/notebooks/master/covid19/mapping_countries.csv'"
      ]
     },
     "execution_count": 3,
     "metadata": {},
     "output_type": "execute_result"
    }
   ],
   "source": [
    "#hide\n",
    "paths['mapping']"
   ]
  },
  {
   "cell_type": "code",
   "execution_count": 4,
   "metadata": {
    "execution": {
     "iopub.execute_input": "2020-11-25T12:06:39.142233Z",
     "iopub.status.busy": "2020-11-25T12:06:39.141513Z",
     "iopub.status.idle": "2020-11-25T12:06:39.143026Z",
     "shell.execute_reply": "2020-11-25T12:06:39.143709Z"
    },
    "papermill": {
     "duration": 0.038455,
     "end_time": "2020-11-25T12:06:39.143883",
     "exception": false,
     "start_time": "2020-11-25T12:06:39.105428",
     "status": "completed"
    },
    "tags": []
   },
   "outputs": [],
   "source": [
    "#hide\n",
    "def get_mappings(url):\n",
    "    df = pd.read_csv(url)\n",
    "    return {\n",
    "        'df': df,\n",
    "        'replace.country': dict(df.dropna(subset=['Name']).set_index('Country')['Name']),\n",
    "        'map.continent': dict(df.set_index('Name')['Continent'])\n",
    "    }"
   ]
  },
  {
   "cell_type": "code",
   "execution_count": 5,
   "metadata": {
    "execution": {
     "iopub.execute_input": "2020-11-25T12:06:39.212173Z",
     "iopub.status.busy": "2020-11-25T12:06:39.211512Z",
     "iopub.status.idle": "2020-11-25T12:06:39.295487Z",
     "shell.execute_reply": "2020-11-25T12:06:39.294540Z"
    },
    "papermill": {
     "duration": 0.120932,
     "end_time": "2020-11-25T12:06:39.295726",
     "exception": false,
     "start_time": "2020-11-25T12:06:39.174794",
     "status": "completed"
    },
    "tags": []
   },
   "outputs": [],
   "source": [
    "#hide\n",
    "mapping = get_mappings(paths['mapping'])"
   ]
  },
  {
   "cell_type": "code",
   "execution_count": 6,
   "metadata": {
    "execution": {
     "iopub.execute_input": "2020-11-25T12:06:39.365383Z",
     "iopub.status.busy": "2020-11-25T12:06:39.364728Z",
     "iopub.status.idle": "2020-11-25T12:06:39.367503Z",
     "shell.execute_reply": "2020-11-25T12:06:39.368025Z"
    },
    "papermill": {
     "duration": 0.040296,
     "end_time": "2020-11-25T12:06:39.368190",
     "exception": false,
     "start_time": "2020-11-25T12:06:39.327894",
     "status": "completed"
    },
    "tags": []
   },
   "outputs": [],
   "source": [
    "#hide\n",
    "def get_template(path):\n",
    "    from urllib.parse import urlparse\n",
    "    if bool(urlparse(path).netloc):\n",
    "        from urllib.request import urlopen\n",
    "        return urlopen(path).read().decode('utf8')\n",
    "    return open(path).read()"
   ]
  },
  {
   "cell_type": "code",
   "execution_count": 7,
   "metadata": {
    "execution": {
     "iopub.execute_input": "2020-11-25T12:06:39.435147Z",
     "iopub.status.busy": "2020-11-25T12:06:39.434524Z",
     "iopub.status.idle": "2020-11-25T12:06:39.436295Z",
     "shell.execute_reply": "2020-11-25T12:06:39.436774Z"
    },
    "papermill": {
     "duration": 0.038306,
     "end_time": "2020-11-25T12:06:39.436932",
     "exception": false,
     "start_time": "2020-11-25T12:06:39.398626",
     "status": "completed"
    },
    "tags": []
   },
   "outputs": [],
   "source": [
    "#hide\n",
    "def get_frame(name):\n",
    "    url = (\n",
    "        'https://raw.githubusercontent.com/CSSEGISandData/COVID-19/master/csse_covid_19_data/'\n",
    "        f'csse_covid_19_time_series/time_series_covid19_{name}_global.csv')\n",
    "    df = pd.read_csv(url)\n",
    "    # rename countries\n",
    "    df['Country/Region'] = df['Country/Region'].replace(mapping['replace.country'])\n",
    "    return df"
   ]
  },
  {
   "cell_type": "code",
   "execution_count": 8,
   "metadata": {
    "execution": {
     "iopub.execute_input": "2020-11-25T12:06:39.503717Z",
     "iopub.status.busy": "2020-11-25T12:06:39.503006Z",
     "iopub.status.idle": "2020-11-25T12:06:39.505472Z",
     "shell.execute_reply": "2020-11-25T12:06:39.506046Z"
    },
    "papermill": {
     "duration": 0.039276,
     "end_time": "2020-11-25T12:06:39.506205",
     "exception": false,
     "start_time": "2020-11-25T12:06:39.466929",
     "status": "completed"
    },
    "tags": []
   },
   "outputs": [],
   "source": [
    "#hide\n",
    "def get_dates(df):\n",
    "    dt_cols = df.columns[~df.columns.isin(['Province/State', 'Country/Region', 'Lat', 'Long'])]\n",
    "    LAST_DATE_I = -1\n",
    "    # sometimes last column may be empty, then go backwards\n",
    "    for i in range(-1, -len(dt_cols), -1):\n",
    "        if not df[dt_cols[i]].fillna(0).eq(0).all():\n",
    "            LAST_DATE_I = i\n",
    "            break\n",
    "    return LAST_DATE_I, dt_cols"
   ]
  },
  {
   "cell_type": "code",
   "execution_count": 9,
   "metadata": {
    "execution": {
     "iopub.execute_input": "2020-11-25T12:06:39.579699Z",
     "iopub.status.busy": "2020-11-25T12:06:39.579029Z",
     "iopub.status.idle": "2020-11-25T12:06:40.042914Z",
     "shell.execute_reply": "2020-11-25T12:06:40.041616Z"
    },
    "papermill": {
     "duration": 0.50651,
     "end_time": "2020-11-25T12:06:40.043071",
     "exception": false,
     "start_time": "2020-11-25T12:06:39.536561",
     "status": "completed"
    },
    "tags": []
   },
   "outputs": [],
   "source": [
    "#hide\n",
    "COL_REGION = 'Country/Region'\n",
    "# Confirmed, Recovered, Deaths\n",
    "df = get_frame('confirmed')\n",
    "# dft_: timeseries, dfc_: today country agg\n",
    "dft_cases = df\n",
    "dft_deaths = get_frame('deaths')\n",
    "dft_recovered = get_frame('recovered')\n",
    "LAST_DATE_I, dt_cols = get_dates(df)"
   ]
  },
  {
   "cell_type": "code",
   "execution_count": 10,
   "metadata": {
    "execution": {
     "iopub.execute_input": "2020-11-25T12:06:40.113192Z",
     "iopub.status.busy": "2020-11-25T12:06:40.112553Z",
     "iopub.status.idle": "2020-11-25T12:06:40.114890Z",
     "shell.execute_reply": "2020-11-25T12:06:40.114374Z"
    },
    "papermill": {
     "duration": 0.039179,
     "end_time": "2020-11-25T12:06:40.115030",
     "exception": false,
     "start_time": "2020-11-25T12:06:40.075851",
     "status": "completed"
    },
    "tags": []
   },
   "outputs": [],
   "source": [
    "#hide\n",
    "LAST_DATE_I, dt_cols = get_dates(df)\n",
    "dt_today =dt_cols[LAST_DATE_I]\n",
    "# dt_5day = dt_cols[LAST_DATE_I - 5]\n",
    "dt_yday = dt_cols[LAST_DATE_I - 1]"
   ]
  },
  {
   "cell_type": "code",
   "execution_count": 11,
   "metadata": {
    "execution": {
     "iopub.execute_input": "2020-11-25T12:06:40.196577Z",
     "iopub.status.busy": "2020-11-25T12:06:40.195902Z",
     "iopub.status.idle": "2020-11-25T12:06:40.202190Z",
     "shell.execute_reply": "2020-11-25T12:06:40.202680Z"
    },
    "papermill": {
     "duration": 0.047722,
     "end_time": "2020-11-25T12:06:40.202851",
     "exception": false,
     "start_time": "2020-11-25T12:06:40.155129",
     "status": "completed"
    },
    "tags": []
   },
   "outputs": [],
   "source": [
    "#hide\n",
    "dfc_cases = dft_cases.groupby(COL_REGION)[dt_today].sum()\n",
    "dfc_deaths = dft_deaths.groupby(COL_REGION)[dt_today].sum()\n",
    "# dfp_cases = dft_cases.groupby(COL_REGION)[dt_5day].sum()\n",
    "# dfp_deaths = dft_deaths.groupby(COL_REGION)[dt_5day].sum()\n",
    "dfp_cases = dft_cases.groupby(COL_REGION)[dt_yday].sum()\n",
    "dfp_deaths = dft_deaths.groupby(COL_REGION)[dt_yday].sum()"
   ]
  },
  {
   "cell_type": "code",
   "execution_count": 12,
   "metadata": {
    "execution": {
     "iopub.execute_input": "2020-11-25T12:06:40.273920Z",
     "iopub.status.busy": "2020-11-25T12:06:40.273050Z",
     "iopub.status.idle": "2020-11-25T12:06:40.280239Z",
     "shell.execute_reply": "2020-11-25T12:06:40.279291Z"
    },
    "papermill": {
     "duration": 0.046886,
     "end_time": "2020-11-25T12:06:40.280453",
     "exception": false,
     "start_time": "2020-11-25T12:06:40.233567",
     "status": "completed"
    },
    "tags": []
   },
   "outputs": [],
   "source": [
    "#hide\n",
    "df_table = (pd.DataFrame(dict(Cases = dfc_cases, Deaths = dfc_deaths, PCases = dfp_cases, PDeaths = dfp_deaths))\n",
    "            .sort_values(by = ['Cases','Deaths'], ascending = [False, False])\n",
    "            .reset_index())"
   ]
  },
  {
   "cell_type": "code",
   "execution_count": 13,
   "metadata": {
    "execution": {
     "iopub.execute_input": "2020-11-25T12:06:40.365463Z",
     "iopub.status.busy": "2020-11-25T12:06:40.350483Z",
     "iopub.status.idle": "2020-11-25T12:06:40.373007Z",
     "shell.execute_reply": "2020-11-25T12:06:40.373575Z"
    },
    "papermill": {
     "duration": 0.062694,
     "end_time": "2020-11-25T12:06:40.373737",
     "exception": false,
     "start_time": "2020-11-25T12:06:40.311043",
     "status": "completed"
    },
    "tags": []
   },
   "outputs": [
    {
     "data": {
      "text/html": [
       "<div>\n",
       "<style scoped>\n",
       "    .dataframe tbody tr th:only-of-type {\n",
       "        vertical-align: middle;\n",
       "    }\n",
       "\n",
       "    .dataframe tbody tr th {\n",
       "        vertical-align: top;\n",
       "    }\n",
       "\n",
       "    .dataframe thead th {\n",
       "        text-align: right;\n",
       "    }\n",
       "</style>\n",
       "<table border=\"1\" class=\"dataframe\">\n",
       "  <thead>\n",
       "    <tr style=\"text-align: right;\">\n",
       "      <th></th>\n",
       "      <th>Country/Region</th>\n",
       "      <th>Cases</th>\n",
       "      <th>Deaths</th>\n",
       "      <th>PCases</th>\n",
       "      <th>PDeaths</th>\n",
       "      <th>Cases (+)</th>\n",
       "      <th>Deaths (+)</th>\n",
       "      <th>Fatality Rate</th>\n",
       "      <th>Continent</th>\n",
       "    </tr>\n",
       "  </thead>\n",
       "  <tbody>\n",
       "    <tr>\n",
       "      <th>0</th>\n",
       "      <td>US</td>\n",
       "      <td>12591163</td>\n",
       "      <td>259925</td>\n",
       "      <td>12418228</td>\n",
       "      <td>257779</td>\n",
       "      <td>172935</td>\n",
       "      <td>2146</td>\n",
       "      <td>2.06</td>\n",
       "      <td>North America</td>\n",
       "    </tr>\n",
       "    <tr>\n",
       "      <th>1</th>\n",
       "      <td>India</td>\n",
       "      <td>9222216</td>\n",
       "      <td>134699</td>\n",
       "      <td>9177840</td>\n",
       "      <td>134218</td>\n",
       "      <td>44376</td>\n",
       "      <td>481</td>\n",
       "      <td>1.46</td>\n",
       "      <td>Asia</td>\n",
       "    </tr>\n",
       "    <tr>\n",
       "      <th>2</th>\n",
       "      <td>Brazil</td>\n",
       "      <td>6118708</td>\n",
       "      <td>170115</td>\n",
       "      <td>6087608</td>\n",
       "      <td>169485</td>\n",
       "      <td>31100</td>\n",
       "      <td>630</td>\n",
       "      <td>2.78</td>\n",
       "      <td>South America</td>\n",
       "    </tr>\n",
       "    <tr>\n",
       "      <th>3</th>\n",
       "      <td>France</td>\n",
       "      <td>2206126</td>\n",
       "      <td>50324</td>\n",
       "      <td>2195940</td>\n",
       "      <td>49312</td>\n",
       "      <td>10186</td>\n",
       "      <td>1012</td>\n",
       "      <td>2.28</td>\n",
       "      <td>Europe</td>\n",
       "    </tr>\n",
       "    <tr>\n",
       "      <th>4</th>\n",
       "      <td>Russia</td>\n",
       "      <td>2120836</td>\n",
       "      <td>36675</td>\n",
       "      <td>2096749</td>\n",
       "      <td>36192</td>\n",
       "      <td>24087</td>\n",
       "      <td>483</td>\n",
       "      <td>1.73</td>\n",
       "      <td>Europe</td>\n",
       "    </tr>\n",
       "  </tbody>\n",
       "</table>\n",
       "</div>"
      ],
      "text/plain": [
       "  Country/Region     Cases  Deaths    PCases  PDeaths  Cases (+)  Deaths (+)  \\\n",
       "0             US  12591163  259925  12418228   257779     172935        2146   \n",
       "1          India   9222216  134699   9177840   134218      44376         481   \n",
       "2         Brazil   6118708  170115   6087608   169485      31100         630   \n",
       "3         France   2206126   50324   2195940    49312      10186        1012   \n",
       "4         Russia   2120836   36675   2096749    36192      24087         483   \n",
       "\n",
       "   Fatality Rate      Continent  \n",
       "0           2.06  North America  \n",
       "1           1.46           Asia  \n",
       "2           2.78  South America  \n",
       "3           2.28         Europe  \n",
       "4           1.73         Europe  "
      ]
     },
     "execution_count": 13,
     "metadata": {},
     "output_type": "execute_result"
    }
   ],
   "source": [
    "#hide\n",
    "for c in 'Cases, Deaths'.split(', '):\n",
    "    df_table[f'{c} (+)'] = (df_table[c] - df_table[f'P{c}']).clip(0)\n",
    "    #Clip ça veut dire, les chiffres negatif sont interdit\n",
    "df_table['Fatality Rate'] = (100* df_table['Deaths']/ df_table['Cases']).round(2)\n",
    "df_table['Continent'] = df_table['Country/Region'].map(mapping['map.continent'])\n",
    "df_table.head(5)"
   ]
  },
  {
   "cell_type": "code",
   "execution_count": 14,
   "metadata": {
    "execution": {
     "iopub.execute_input": "2020-11-25T12:06:40.443954Z",
     "iopub.status.busy": "2020-11-25T12:06:40.443323Z",
     "iopub.status.idle": "2020-11-25T12:06:40.445750Z",
     "shell.execute_reply": "2020-11-25T12:06:40.445056Z"
    },
    "papermill": {
     "duration": 0.041324,
     "end_time": "2020-11-25T12:06:40.445892",
     "exception": false,
     "start_time": "2020-11-25T12:06:40.404568",
     "status": "completed"
    },
    "tags": []
   },
   "outputs": [],
   "source": [
    "#hide\n",
    "#delete problematic countries from table\n",
    "df_table = df_table[~df_table['Country/Region'].isin(['Cape Verde', 'Cruise Ship', 'Kosovo'])]"
   ]
  },
  {
   "cell_type": "code",
   "execution_count": 15,
   "metadata": {
    "execution": {
     "iopub.execute_input": "2020-11-25T12:06:40.518491Z",
     "iopub.status.busy": "2020-11-25T12:06:40.517843Z",
     "iopub.status.idle": "2020-11-25T12:06:40.537470Z",
     "shell.execute_reply": "2020-11-25T12:06:40.536866Z"
    },
    "papermill": {
     "duration": 0.061298,
     "end_time": "2020-11-25T12:06:40.537611",
     "exception": false,
     "start_time": "2020-11-25T12:06:40.476313",
     "status": "completed"
    },
    "tags": []
   },
   "outputs": [
    {
     "data": {
      "text/html": [
       "<div>\n",
       "<style scoped>\n",
       "    .dataframe tbody tr th:only-of-type {\n",
       "        vertical-align: middle;\n",
       "    }\n",
       "\n",
       "    .dataframe tbody tr th {\n",
       "        vertical-align: top;\n",
       "    }\n",
       "\n",
       "    .dataframe thead th {\n",
       "        text-align: right;\n",
       "    }\n",
       "</style>\n",
       "<table border=\"1\" class=\"dataframe\">\n",
       "  <thead>\n",
       "    <tr style=\"text-align: right;\">\n",
       "      <th></th>\n",
       "      <th>Country/Region</th>\n",
       "      <th>Cases</th>\n",
       "      <th>Deaths</th>\n",
       "      <th>PCases</th>\n",
       "      <th>PDeaths</th>\n",
       "      <th>Cases (+)</th>\n",
       "      <th>Deaths (+)</th>\n",
       "      <th>Fatality Rate</th>\n",
       "      <th>Continent</th>\n",
       "    </tr>\n",
       "  </thead>\n",
       "  <tbody>\n",
       "    <tr>\n",
       "      <th>0</th>\n",
       "      <td>US</td>\n",
       "      <td>12591163</td>\n",
       "      <td>259925</td>\n",
       "      <td>12418228</td>\n",
       "      <td>257779</td>\n",
       "      <td>172935</td>\n",
       "      <td>2146</td>\n",
       "      <td>2.1</td>\n",
       "      <td>North America</td>\n",
       "    </tr>\n",
       "    <tr>\n",
       "      <th>1</th>\n",
       "      <td>India</td>\n",
       "      <td>9222216</td>\n",
       "      <td>134699</td>\n",
       "      <td>9177840</td>\n",
       "      <td>134218</td>\n",
       "      <td>44376</td>\n",
       "      <td>481</td>\n",
       "      <td>1.5</td>\n",
       "      <td>Asia</td>\n",
       "    </tr>\n",
       "    <tr>\n",
       "      <th>2</th>\n",
       "      <td>Brazil</td>\n",
       "      <td>6118708</td>\n",
       "      <td>170115</td>\n",
       "      <td>6087608</td>\n",
       "      <td>169485</td>\n",
       "      <td>31100</td>\n",
       "      <td>630</td>\n",
       "      <td>2.8</td>\n",
       "      <td>South America</td>\n",
       "    </tr>\n",
       "    <tr>\n",
       "      <th>3</th>\n",
       "      <td>France</td>\n",
       "      <td>2206126</td>\n",
       "      <td>50324</td>\n",
       "      <td>2195940</td>\n",
       "      <td>49312</td>\n",
       "      <td>10186</td>\n",
       "      <td>1012</td>\n",
       "      <td>2.3</td>\n",
       "      <td>Europe</td>\n",
       "    </tr>\n",
       "    <tr>\n",
       "      <th>4</th>\n",
       "      <td>Russia</td>\n",
       "      <td>2120836</td>\n",
       "      <td>36675</td>\n",
       "      <td>2096749</td>\n",
       "      <td>36192</td>\n",
       "      <td>24087</td>\n",
       "      <td>483</td>\n",
       "      <td>1.7</td>\n",
       "      <td>Europe</td>\n",
       "    </tr>\n",
       "  </tbody>\n",
       "</table>\n",
       "</div>"
      ],
      "text/plain": [
       "  Country/Region     Cases  Deaths    PCases  PDeaths  Cases (+)  Deaths (+)  \\\n",
       "0             US  12591163  259925  12418228   257779     172935        2146   \n",
       "1          India   9222216  134699   9177840   134218      44376         481   \n",
       "2         Brazil   6118708  170115   6087608   169485      31100         630   \n",
       "3         France   2206126   50324   2195940    49312      10186        1012   \n",
       "4         Russia   2120836   36675   2096749    36192      24087         483   \n",
       "\n",
       "   Fatality Rate      Continent  \n",
       "0            2.1  North America  \n",
       "1            1.5           Asia  \n",
       "2            2.8  South America  \n",
       "3            2.3         Europe  \n",
       "4            1.7         Europe  "
      ]
     },
     "execution_count": 15,
     "metadata": {},
     "output_type": "execute_result"
    }
   ],
   "source": [
    "#hide\n",
    "df_table = (pd.DataFrame(dict(Cases=dfc_cases, Deaths=dfc_deaths, PCases=dfp_cases, PDeaths=dfp_deaths))\n",
    "             .sort_values(by=['Cases', 'Deaths'], ascending=[False, False])\n",
    "             .reset_index())\n",
    "df_table.rename(columns={'index': 'Country/Region'}, inplace=True)\n",
    "for c in 'Cases, Deaths'.split(', '):\n",
    "    df_table[f'{c} (+)'] = (df_table[c] - df_table[f'P{c}']).clip(0)  # DATA BUG\n",
    "df_table['Fatality Rate'] = (100 * df_table['Deaths'] / df_table['Cases']).round(1)\n",
    "df_table['Continent'] = df_table['Country/Region'].map(mapping['map.continent'])\n",
    "df_table.head(5)"
   ]
  },
  {
   "cell_type": "code",
   "execution_count": 16,
   "metadata": {
    "execution": {
     "iopub.execute_input": "2020-11-25T12:06:40.609704Z",
     "iopub.status.busy": "2020-11-25T12:06:40.609068Z",
     "iopub.status.idle": "2020-11-25T12:06:40.610700Z",
     "shell.execute_reply": "2020-11-25T12:06:40.611184Z"
    },
    "papermill": {
     "duration": 0.041694,
     "end_time": "2020-11-25T12:06:40.611374",
     "exception": false,
     "start_time": "2020-11-25T12:06:40.569680",
     "status": "completed"
    },
    "tags": []
   },
   "outputs": [],
   "source": [
    "#hide\n",
    "#delete problematic countries from table\n",
    "df_table = df_table[~df_table['Country/Region'].isin(['Cape Verde', 'Cruise Ship', 'Kosovo'])]"
   ]
  },
  {
   "cell_type": "code",
   "execution_count": 17,
   "metadata": {
    "execution": {
     "iopub.execute_input": "2020-11-25T12:06:40.702548Z",
     "iopub.status.busy": "2020-11-25T12:06:40.701896Z",
     "iopub.status.idle": "2020-11-25T12:06:40.704299Z",
     "shell.execute_reply": "2020-11-25T12:06:40.703691Z"
    },
    "papermill": {
     "duration": 0.054205,
     "end_time": "2020-11-25T12:06:40.704440",
     "exception": false,
     "start_time": "2020-11-25T12:06:40.650235",
     "status": "completed"
    },
    "tags": []
   },
   "outputs": [],
   "source": [
    "#hide\n",
    "metrics = [df_table.columns[index] for index in [1,2,5,6]]\n",
    "# s_china = df_table[df_table['Country/Region'].eq('China')][metrics].sum().add_prefix('China ')\n",
    "s_us = df_table[df_table['Country/Region'].eq('US')][metrics].sum().add_prefix('US ')\n",
    "s_eu = df_table[df_table['Continent'].eq('Europe')][metrics].sum().add_prefix('EU ')\n",
    "s_ind = df_table[df_table['Country/Region'].eq('India')][metrics].sum().add_prefix('India ')\n",
    "summary = {'updated': pd.to_datetime(dt_today), 'since': pd.to_datetime(dt_yday)}\n",
    "summary = {'updated': pd.to_datetime(dt_today), 'since': pd.to_datetime(dt_yday)}\n",
    "summary = {**summary, **df_table[metrics].sum(), **s_ind, **s_us, **s_eu}"
   ]
  },
  {
   "cell_type": "code",
   "execution_count": 18,
   "metadata": {
    "execution": {
     "iopub.execute_input": "2020-11-25T12:06:40.775700Z",
     "iopub.status.busy": "2020-11-25T12:06:40.775006Z",
     "iopub.status.idle": "2020-11-25T12:06:40.786957Z",
     "shell.execute_reply": "2020-11-25T12:06:40.786452Z"
    },
    "papermill": {
     "duration": 0.050918,
     "end_time": "2020-11-25T12:06:40.787102",
     "exception": false,
     "start_time": "2020-11-25T12:06:40.736184",
     "status": "completed"
    },
    "tags": []
   },
   "outputs": [],
   "source": [
    "#hide\n",
    "dft_ct_new_cases = dft_cases.groupby(COL_REGION)[dt_cols].sum().diff(axis=1).fillna(0).astype(int)"
   ]
  },
  {
   "cell_type": "code",
   "execution_count": 19,
   "metadata": {
    "execution": {
     "iopub.execute_input": "2020-11-25T12:06:40.858487Z",
     "iopub.status.busy": "2020-11-25T12:06:40.857842Z",
     "iopub.status.idle": "2020-11-25T12:06:40.859057Z",
     "shell.execute_reply": "2020-11-25T12:06:40.859651Z"
    },
    "papermill": {
     "duration": 0.041403,
     "end_time": "2020-11-25T12:06:40.859812",
     "exception": false,
     "start_time": "2020-11-25T12:06:40.818409",
     "status": "completed"
    },
    "tags": []
   },
   "outputs": [],
   "source": [
    "#hide\n",
    "everydaycases = dft_ct_new_cases.cumsum(axis=1)"
   ]
  },
  {
   "cell_type": "code",
   "execution_count": 20,
   "metadata": {
    "execution": {
     "iopub.execute_input": "2020-11-25T12:06:40.929128Z",
     "iopub.status.busy": "2020-11-25T12:06:40.928513Z",
     "iopub.status.idle": "2020-11-25T12:06:42.123829Z",
     "shell.execute_reply": "2020-11-25T12:06:42.123314Z"
    },
    "papermill": {
     "duration": 1.232914,
     "end_time": "2020-11-25T12:06:42.123971",
     "exception": false,
     "start_time": "2020-11-25T12:06:40.891057",
     "status": "completed"
    },
    "tags": []
   },
   "outputs": [],
   "source": [
    "#hide\n",
    "import pandas as pd\n",
    "import matplotlib.pyplot as plt\n",
    "import matplotlib.ticker as ticker\n",
    "import matplotlib.animation as animation\n",
    "from IPython.display import HTML"
   ]
  },
  {
   "cell_type": "code",
   "execution_count": 21,
   "metadata": {
    "execution": {
     "iopub.execute_input": "2020-11-25T12:06:42.195127Z",
     "iopub.status.busy": "2020-11-25T12:06:42.194574Z",
     "iopub.status.idle": "2020-11-25T12:06:42.200862Z",
     "shell.execute_reply": "2020-11-25T12:06:42.201305Z"
    },
    "papermill": {
     "duration": 0.043589,
     "end_time": "2020-11-25T12:06:42.201439",
     "exception": false,
     "start_time": "2020-11-25T12:06:42.157850",
     "status": "completed"
    },
    "tags": []
   },
   "outputs": [],
   "source": [
    "#hide\n",
    "t = everydaycases.stack()"
   ]
  },
  {
   "cell_type": "code",
   "execution_count": 22,
   "metadata": {
    "execution": {
     "iopub.execute_input": "2020-11-25T12:06:42.262296Z",
     "iopub.status.busy": "2020-11-25T12:06:42.261765Z",
     "iopub.status.idle": "2020-11-25T12:06:42.269012Z",
     "shell.execute_reply": "2020-11-25T12:06:42.268519Z"
    },
    "papermill": {
     "duration": 0.039625,
     "end_time": "2020-11-25T12:06:42.269138",
     "exception": false,
     "start_time": "2020-11-25T12:06:42.229513",
     "status": "completed"
    },
    "tags": []
   },
   "outputs": [],
   "source": [
    "#hide\n",
    "g = t.reset_index(['Country/Region'])"
   ]
  },
  {
   "cell_type": "code",
   "execution_count": 23,
   "metadata": {
    "execution": {
     "iopub.execute_input": "2020-11-25T12:06:42.333366Z",
     "iopub.status.busy": "2020-11-25T12:06:42.332774Z",
     "iopub.status.idle": "2020-11-25T12:06:42.335495Z",
     "shell.execute_reply": "2020-11-25T12:06:42.336022Z"
    },
    "papermill": {
     "duration": 0.037677,
     "end_time": "2020-11-25T12:06:42.336322",
     "exception": false,
     "start_time": "2020-11-25T12:06:42.298645",
     "status": "completed"
    },
    "tags": []
   },
   "outputs": [],
   "source": [
    "#hide\n",
    "g.index.name = 'date'"
   ]
  },
  {
   "cell_type": "code",
   "execution_count": 24,
   "metadata": {
    "execution": {
     "iopub.execute_input": "2020-11-25T12:06:42.400890Z",
     "iopub.status.busy": "2020-11-25T12:06:42.400320Z",
     "iopub.status.idle": "2020-11-25T12:06:42.402745Z",
     "shell.execute_reply": "2020-11-25T12:06:42.403339Z"
    },
    "papermill": {
     "duration": 0.037116,
     "end_time": "2020-11-25T12:06:42.403476",
     "exception": false,
     "start_time": "2020-11-25T12:06:42.366360",
     "status": "completed"
    },
    "tags": []
   },
   "outputs": [],
   "source": [
    "# #hide\n",
    "# g = g.reset_index(['date'])"
   ]
  },
  {
   "cell_type": "code",
   "execution_count": 25,
   "metadata": {
    "execution": {
     "iopub.execute_input": "2020-11-25T12:06:42.466935Z",
     "iopub.status.busy": "2020-11-25T12:06:42.466353Z",
     "iopub.status.idle": "2020-11-25T12:06:42.468684Z",
     "shell.execute_reply": "2020-11-25T12:06:42.469132Z"
    },
    "papermill": {
     "duration": 0.036543,
     "end_time": "2020-11-25T12:06:42.469268",
     "exception": false,
     "start_time": "2020-11-25T12:06:42.432725",
     "status": "completed"
    },
    "tags": []
   },
   "outputs": [],
   "source": [
    "#hide\n",
    "# g.head()"
   ]
  },
  {
   "cell_type": "code",
   "execution_count": 26,
   "metadata": {
    "execution": {
     "iopub.execute_input": "2020-11-25T12:06:42.536389Z",
     "iopub.status.busy": "2020-11-25T12:06:42.535796Z",
     "iopub.status.idle": "2020-11-25T12:06:42.538467Z",
     "shell.execute_reply": "2020-11-25T12:06:42.538933Z"
    },
    "papermill": {
     "duration": 0.039651,
     "end_time": "2020-11-25T12:06:42.539058",
     "exception": false,
     "start_time": "2020-11-25T12:06:42.499407",
     "status": "completed"
    },
    "tags": []
   },
   "outputs": [],
   "source": [
    "#hide\n",
    "# g.columns = ['date','country','cases']"
   ]
  },
  {
   "cell_type": "code",
   "execution_count": 27,
   "metadata": {
    "execution": {
     "iopub.execute_input": "2020-11-25T12:06:42.602627Z",
     "iopub.status.busy": "2020-11-25T12:06:42.602011Z",
     "iopub.status.idle": "2020-11-25T12:06:42.604693Z",
     "shell.execute_reply": "2020-11-25T12:06:42.605264Z"
    },
    "papermill": {
     "duration": 0.035913,
     "end_time": "2020-11-25T12:06:42.605391",
     "exception": false,
     "start_time": "2020-11-25T12:06:42.569478",
     "status": "completed"
    },
    "tags": []
   },
   "outputs": [],
   "source": [
    "#hide\n",
    "# g['continent'] = g.country"
   ]
  },
  {
   "cell_type": "code",
   "execution_count": 28,
   "metadata": {
    "execution": {
     "iopub.execute_input": "2020-11-25T12:06:42.679756Z",
     "iopub.status.busy": "2020-11-25T12:06:42.679166Z",
     "iopub.status.idle": "2020-11-25T12:06:42.680539Z",
     "shell.execute_reply": "2020-11-25T12:06:42.681013Z"
    },
    "papermill": {
     "duration": 0.044635,
     "end_time": "2020-11-25T12:06:42.681158",
     "exception": false,
     "start_time": "2020-11-25T12:06:42.636523",
     "status": "completed"
    },
    "tags": []
   },
   "outputs": [],
   "source": [
    "#hide\n",
    "# cols = list(g.columns.values)"
   ]
  },
  {
   "cell_type": "code",
   "execution_count": 29,
   "metadata": {
    "execution": {
     "iopub.execute_input": "2020-11-25T12:06:42.744908Z",
     "iopub.status.busy": "2020-11-25T12:06:42.744345Z",
     "iopub.status.idle": "2020-11-25T12:06:42.746669Z",
     "shell.execute_reply": "2020-11-25T12:06:42.747220Z"
    },
    "papermill": {
     "duration": 0.036707,
     "end_time": "2020-11-25T12:06:42.747351",
     "exception": false,
     "start_time": "2020-11-25T12:06:42.710644",
     "status": "completed"
    },
    "tags": []
   },
   "outputs": [],
   "source": [
    "#hide\n",
    "# cols.insert(0, cols.pop())"
   ]
  },
  {
   "cell_type": "code",
   "execution_count": 30,
   "metadata": {
    "execution": {
     "iopub.execute_input": "2020-11-25T12:06:42.809845Z",
     "iopub.status.busy": "2020-11-25T12:06:42.809256Z",
     "iopub.status.idle": "2020-11-25T12:06:42.811648Z",
     "shell.execute_reply": "2020-11-25T12:06:42.812126Z"
    },
    "papermill": {
     "duration": 0.035749,
     "end_time": "2020-11-25T12:06:42.812259",
     "exception": false,
     "start_time": "2020-11-25T12:06:42.776510",
     "status": "completed"
    },
    "tags": []
   },
   "outputs": [],
   "source": [
    "#hide\n",
    "# g = g[cols]"
   ]
  },
  {
   "cell_type": "code",
   "execution_count": 31,
   "metadata": {
    "execution": {
     "iopub.execute_input": "2020-11-25T12:06:42.874994Z",
     "iopub.status.busy": "2020-11-25T12:06:42.874439Z",
     "iopub.status.idle": "2020-11-25T12:06:42.877109Z",
     "shell.execute_reply": "2020-11-25T12:06:42.876668Z"
    },
    "papermill": {
     "duration": 0.035337,
     "end_time": "2020-11-25T12:06:42.877221",
     "exception": false,
     "start_time": "2020-11-25T12:06:42.841884",
     "status": "completed"
    },
    "tags": []
   },
   "outputs": [],
   "source": [
    "#hide\n",
    "# g['continent'] = g['continent'].map(mapping['map.continent'])"
   ]
  },
  {
   "cell_type": "code",
   "execution_count": 32,
   "metadata": {
    "execution": {
     "iopub.execute_input": "2020-11-25T12:06:42.941232Z",
     "iopub.status.busy": "2020-11-25T12:06:42.940640Z",
     "iopub.status.idle": "2020-11-25T12:06:42.942944Z",
     "shell.execute_reply": "2020-11-25T12:06:42.942443Z"
    },
    "papermill": {
     "duration": 0.036132,
     "end_time": "2020-11-25T12:06:42.943066",
     "exception": false,
     "start_time": "2020-11-25T12:06:42.906934",
     "status": "completed"
    },
    "tags": []
   },
   "outputs": [],
   "source": [
    "#hide\n",
    "# g.head()"
   ]
  },
  {
   "cell_type": "code",
   "execution_count": 33,
   "metadata": {
    "execution": {
     "iopub.execute_input": "2020-11-25T12:06:43.008352Z",
     "iopub.status.busy": "2020-11-25T12:06:43.007634Z",
     "iopub.status.idle": "2020-11-25T12:06:43.010296Z",
     "shell.execute_reply": "2020-11-25T12:06:43.010868Z"
    },
    "papermill": {
     "duration": 0.037514,
     "end_time": "2020-11-25T12:06:43.011012",
     "exception": false,
     "start_time": "2020-11-25T12:06:42.973498",
     "status": "completed"
    },
    "tags": []
   },
   "outputs": [],
   "source": [
    "# hide\n",
    "# g['date'] = g['date'].astype('datetime64[ns]')"
   ]
  },
  {
   "cell_type": "code",
   "execution_count": 34,
   "metadata": {
    "execution": {
     "iopub.execute_input": "2020-11-25T12:06:43.074327Z",
     "iopub.status.busy": "2020-11-25T12:06:43.073733Z",
     "iopub.status.idle": "2020-11-25T12:06:43.076327Z",
     "shell.execute_reply": "2020-11-25T12:06:43.075821Z"
    },
    "papermill": {
     "duration": 0.036377,
     "end_time": "2020-11-25T12:06:43.076452",
     "exception": false,
     "start_time": "2020-11-25T12:06:43.040075",
     "status": "completed"
    },
    "tags": []
   },
   "outputs": [],
   "source": [
    "#hide\n",
    "# g['date'] = g.date.dt.dayofyear"
   ]
  },
  {
   "cell_type": "code",
   "execution_count": 35,
   "metadata": {
    "execution": {
     "iopub.execute_input": "2020-11-25T12:06:43.139908Z",
     "iopub.status.busy": "2020-11-25T12:06:43.138857Z",
     "iopub.status.idle": "2020-11-25T12:06:43.141196Z",
     "shell.execute_reply": "2020-11-25T12:06:43.141676Z"
    },
    "papermill": {
     "duration": 0.036218,
     "end_time": "2020-11-25T12:06:43.141817",
     "exception": false,
     "start_time": "2020-11-25T12:06:43.105599",
     "status": "completed"
    },
    "tags": []
   },
   "outputs": [],
   "source": [
    "#hide\n",
    "# g = g.rename(columns= {'continent':'group','country':'name','cases':'value'})"
   ]
  },
  {
   "cell_type": "code",
   "execution_count": 36,
   "metadata": {
    "execution": {
     "iopub.execute_input": "2020-11-25T12:06:43.207548Z",
     "iopub.status.busy": "2020-11-25T12:06:43.206252Z",
     "iopub.status.idle": "2020-11-25T12:06:43.208188Z",
     "shell.execute_reply": "2020-11-25T12:06:43.208626Z"
    },
    "papermill": {
     "duration": 0.036407,
     "end_time": "2020-11-25T12:06:43.208755",
     "exception": false,
     "start_time": "2020-11-25T12:06:43.172348",
     "status": "completed"
    },
    "tags": []
   },
   "outputs": [],
   "source": [
    "#hide\n",
    "# cols = ['name','group','day','value']"
   ]
  },
  {
   "cell_type": "code",
   "execution_count": 37,
   "metadata": {
    "execution": {
     "iopub.execute_input": "2020-11-25T12:06:43.270506Z",
     "iopub.status.busy": "2020-11-25T12:06:43.269956Z",
     "iopub.status.idle": "2020-11-25T12:06:43.271964Z",
     "shell.execute_reply": "2020-11-25T12:06:43.272386Z"
    },
    "papermill": {
     "duration": 0.034604,
     "end_time": "2020-11-25T12:06:43.272519",
     "exception": false,
     "start_time": "2020-11-25T12:06:43.237915",
     "status": "completed"
    },
    "tags": []
   },
   "outputs": [],
   "source": [
    "#hide\n",
    "# g.rename(columns= {'date':'day'},inplace = True)"
   ]
  },
  {
   "cell_type": "code",
   "execution_count": 38,
   "metadata": {
    "execution": {
     "iopub.execute_input": "2020-11-25T12:06:43.335766Z",
     "iopub.status.busy": "2020-11-25T12:06:43.335160Z",
     "iopub.status.idle": "2020-11-25T12:06:43.337673Z",
     "shell.execute_reply": "2020-11-25T12:06:43.338229Z"
    },
    "papermill": {
     "duration": 0.036819,
     "end_time": "2020-11-25T12:06:43.338370",
     "exception": false,
     "start_time": "2020-11-25T12:06:43.301551",
     "status": "completed"
    },
    "tags": []
   },
   "outputs": [],
   "source": [
    "#hide\n",
    "# g = g[cols]"
   ]
  },
  {
   "cell_type": "code",
   "execution_count": 39,
   "metadata": {
    "execution": {
     "iopub.execute_input": "2020-11-25T12:06:43.400711Z",
     "iopub.status.busy": "2020-11-25T12:06:43.400166Z",
     "iopub.status.idle": "2020-11-25T12:06:43.403107Z",
     "shell.execute_reply": "2020-11-25T12:06:43.403710Z"
    },
    "papermill": {
     "duration": 0.037033,
     "end_time": "2020-11-25T12:06:43.403848",
     "exception": false,
     "start_time": "2020-11-25T12:06:43.366815",
     "status": "completed"
    },
    "tags": []
   },
   "outputs": [],
   "source": [
    "# #hide\n",
    "# g = g[g.group.notna()]"
   ]
  },
  {
   "cell_type": "code",
   "execution_count": 40,
   "metadata": {
    "execution": {
     "iopub.execute_input": "2020-11-25T12:06:43.465721Z",
     "iopub.status.busy": "2020-11-25T12:06:43.465092Z",
     "iopub.status.idle": "2020-11-25T12:06:43.468278Z",
     "shell.execute_reply": "2020-11-25T12:06:43.468736Z"
    },
    "papermill": {
     "duration": 0.035542,
     "end_time": "2020-11-25T12:06:43.468864",
     "exception": false,
     "start_time": "2020-11-25T12:06:43.433322",
     "status": "completed"
    },
    "tags": []
   },
   "outputs": [],
   "source": [
    "# #hide\n",
    "# colors = dict(zip(\n",
    "#     [\"Oceania\", \"Europe\", \"Asia\", \"South America\", \"Middle East\", \"North America\", \"Africa\"],\n",
    "#     [\"#adb0ff\", \"#ffb3ff\", \"#90d595\", \"#e48381\", \"#aafbff\", \"#f7bb5f\", \"#eafb50\"]\n",
    "# ))\n",
    "# group_lk = g.set_index('name')['group'].to_dict()"
   ]
  },
  {
   "cell_type": "code",
   "execution_count": null,
   "metadata": {
    "papermill": {
     "duration": 0.027988,
     "end_time": "2020-11-25T12:06:43.524624",
     "exception": false,
     "start_time": "2020-11-25T12:06:43.496636",
     "status": "completed"
    },
    "tags": []
   },
   "outputs": [],
   "source": []
  },
  {
   "cell_type": "code",
   "execution_count": 41,
   "metadata": {
    "execution": {
     "iopub.execute_input": "2020-11-25T12:06:43.586890Z",
     "iopub.status.busy": "2020-11-25T12:06:43.586200Z",
     "iopub.status.idle": "2020-11-25T12:06:43.589225Z",
     "shell.execute_reply": "2020-11-25T12:06:43.589726Z"
    },
    "papermill": {
     "duration": 0.036348,
     "end_time": "2020-11-25T12:06:43.589863",
     "exception": false,
     "start_time": "2020-11-25T12:06:43.553515",
     "status": "completed"
    },
    "tags": []
   },
   "outputs": [],
   "source": [
    "# #hide\n",
    "# fig, ax = plt.subplots(figsize=(15, 8))\n",
    "\n",
    "# def draw_barchart(current_day):\n",
    "#     dff = g[g['day'].eq(current_day)].sort_values(by='value', ascending=True).tail(10)\n",
    "#     ax.clear()\n",
    "#     ax.barh(dff['name'], dff['value'], color=[colors[group_lk[x]] for x in dff['name']])\n",
    "#     dx = dff['value'].max() / 200\n",
    "    \n",
    "#     for i, (value, name) in enumerate(zip(dff['value'], dff['name'])):\n",
    "#         ax.text(value-dx, i,     name,           size=14, weight=600, ha='right', va='bottom')\n",
    "#         ax.text(value-dx, i-.25, group_lk[name], size=10, color='#444444', ha='right', va='baseline')\n",
    "#         ax.text(value+dx, i,     f'{value:,.0f}',  size=14, ha='left',  va='center')\n",
    "#     ax.text(1, 0.4, current_day, transform=ax.transAxes, color='#777777', size=46, ha='right', weight=800)\n",
    "#     ax.text(0, 1.06, 'Population (thousands)', transform=ax.transAxes, size=12, color='#777777')\n",
    "#     ax.xaxis.set_major_formatter(ticker.StrMethodFormatter('{x:,.0f}'))\n",
    "#     ax.xaxis.set_ticks_position('top')\n",
    "#     ax.tick_params(axis='x', colors='#777777', labelsize=12)\n",
    "#     ax.set_yticks([])\n",
    "#     ax.margins(0, 0.01)\n",
    "#     ax.grid(which='major', axis='x', linestyle='-')\n",
    "#     ax.set_axisbelow(True)\n",
    "    \n",
    "#     ax.text(0, 1.15, 'Coronavirus',\n",
    "#             transform=ax.transAxes, size=24, weight=600, ha='left', va='top')\n",
    "# #     ax.text(1, 0, 'by @pratapvardhan; credit @jburnmurdoch', transform=ax.transAxes, color='#777777', ha='right',\n",
    "# #             bbox=dict(facecolor='white', alpha=0.8, edgecolor='white'))\n",
    "#     plt.box(False)"
   ]
  },
  {
   "cell_type": "code",
   "execution_count": 42,
   "metadata": {
    "execution": {
     "iopub.execute_input": "2020-11-25T12:06:43.652720Z",
     "iopub.status.busy": "2020-11-25T12:06:43.652166Z",
     "iopub.status.idle": "2020-11-25T12:06:43.654523Z",
     "shell.execute_reply": "2020-11-25T12:06:43.655050Z"
    },
    "papermill": {
     "duration": 0.036218,
     "end_time": "2020-11-25T12:06:43.655176",
     "exception": false,
     "start_time": "2020-11-25T12:06:43.618958",
     "status": "completed"
    },
    "tags": []
   },
   "outputs": [],
   "source": [
    "# #hide_input\n",
    "# fig, ax = plt.subplots(figsize=(15, 8))\n",
    "# animator = animation.FuncAnimation(fig, draw_barchart, frames=range(g.day.values.min(), g.day.values.max()))\n",
    "# HTML(animator.to_jshtml())\n",
    "# # or use animator.to_html5_video() or animator.save() "
   ]
  },
  {
   "cell_type": "code",
   "execution_count": null,
   "metadata": {
    "papermill": {
     "duration": 0.029195,
     "end_time": "2020-11-25T12:06:43.713429",
     "exception": false,
     "start_time": "2020-11-25T12:06:43.684234",
     "status": "completed"
    },
    "tags": []
   },
   "outputs": [],
   "source": []
  },
  {
   "cell_type": "code",
   "execution_count": null,
   "metadata": {
    "papermill": {
     "duration": 0.027899,
     "end_time": "2020-11-25T12:06:43.769354",
     "exception": false,
     "start_time": "2020-11-25T12:06:43.741455",
     "status": "completed"
    },
    "tags": []
   },
   "outputs": [],
   "source": []
  },
  {
   "cell_type": "code",
   "execution_count": null,
   "metadata": {
    "papermill": {
     "duration": 0.028903,
     "end_time": "2020-11-25T12:06:43.826633",
     "exception": false,
     "start_time": "2020-11-25T12:06:43.797730",
     "status": "completed"
    },
    "tags": []
   },
   "outputs": [],
   "source": []
  }
 ],
 "metadata": {
  "kernelspec": {
   "display_name": "Python 3",
   "language": "python",
   "name": "python3"
  },
  "language_info": {
   "codemirror_mode": {
    "name": "ipython",
    "version": 3
   },
   "file_extension": ".py",
   "mimetype": "text/x-python",
   "name": "python",
   "nbconvert_exporter": "python",
   "pygments_lexer": "ipython3",
   "version": "3.6.12"
  },
  "papermill": {
   "duration": 6.816465,
   "end_time": "2020-11-25T12:06:44.163487",
   "environment_variables": {},
   "exception": null,
   "input_path": "2020-03-21-covid19exp.ipynb",
   "output_path": "2020-03-21-covid19exp.ipynb",
   "parameters": {},
   "start_time": "2020-11-25T12:06:37.347022",
   "version": "2.0.0"
  }
 },
 "nbformat": 4,
 "nbformat_minor": 4
}