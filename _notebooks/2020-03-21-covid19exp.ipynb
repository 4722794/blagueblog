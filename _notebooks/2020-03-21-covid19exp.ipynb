{
 "cells": [
  {
   "cell_type": "markdown",
   "id": "muslim-click",
   "metadata": {
    "papermill": {
     "duration": 0.034158,
     "end_time": "2021-11-16T00:24:42.079534",
     "exception": false,
     "start_time": "2021-11-16T00:24:42.045376",
     "status": "completed"
    },
    "tags": []
   },
   "source": [
    "# COVID-19 Case Race\n",
    "> A race chart to see rising cases around the world\n",
    "\n",
    "- author: Hargun Oberoi\n",
    "- image: images/covid-overview.png\n",
    "- hide: false\n",
    "- badges: false"
   ]
  },
  {
   "cell_type": "code",
   "execution_count": 1,
   "id": "proof-material",
   "metadata": {
    "execution": {
     "iopub.execute_input": "2021-11-16T00:24:42.149846Z",
     "iopub.status.busy": "2021-11-16T00:24:42.149363Z",
     "iopub.status.idle": "2021-11-16T00:24:42.450028Z",
     "shell.execute_reply": "2021-11-16T00:24:42.450453Z"
    },
    "papermill": {
     "duration": 0.340116,
     "end_time": "2021-11-16T00:24:42.450613",
     "exception": false,
     "start_time": "2021-11-16T00:24:42.110497",
     "status": "completed"
    },
    "tags": []
   },
   "outputs": [],
   "source": [
    "#hide\n",
    "import numpy as np\n",
    "import pandas as pd\n",
    "from jinja2 import Template\n",
    "from IPython.display import HTML"
   ]
  },
  {
   "cell_type": "code",
   "execution_count": 2,
   "id": "developed-terminology",
   "metadata": {
    "execution": {
     "iopub.execute_input": "2021-11-16T00:24:42.516903Z",
     "iopub.status.busy": "2021-11-16T00:24:42.516013Z",
     "iopub.status.idle": "2021-11-16T00:24:42.517475Z",
     "shell.execute_reply": "2021-11-16T00:24:42.517873Z"
    },
    "papermill": {
     "duration": 0.035937,
     "end_time": "2021-11-16T00:24:42.517976",
     "exception": false,
     "start_time": "2021-11-16T00:24:42.482039",
     "status": "completed"
    },
    "tags": []
   },
   "outputs": [],
   "source": [
    "#hide\n",
    "\n",
    "# FETCH\n",
    "base_url = 'https://raw.githubusercontent.com/pratapvardhan/notebooks/master/covid19/'\n",
    "paths = {\n",
    "    'mapping': base_url + 'mapping_countries.csv',\n",
    "    'overview': base_url + 'overview.tpl'\n",
    "}"
   ]
  },
  {
   "cell_type": "code",
   "execution_count": 3,
   "id": "dynamic-saver",
   "metadata": {
    "execution": {
     "iopub.execute_input": "2021-11-16T00:24:42.586767Z",
     "iopub.status.busy": "2021-11-16T00:24:42.585253Z",
     "iopub.status.idle": "2021-11-16T00:24:42.589000Z",
     "shell.execute_reply": "2021-11-16T00:24:42.588604Z"
    },
    "papermill": {
     "duration": 0.040863,
     "end_time": "2021-11-16T00:24:42.589090",
     "exception": false,
     "start_time": "2021-11-16T00:24:42.548227",
     "status": "completed"
    },
    "tags": []
   },
   "outputs": [
    {
     "data": {
      "text/plain": [
       "'https://raw.githubusercontent.com/pratapvardhan/notebooks/master/covid19/mapping_countries.csv'"
      ]
     },
     "execution_count": 3,
     "metadata": {},
     "output_type": "execute_result"
    }
   ],
   "source": [
    "#hide\n",
    "paths['mapping']"
   ]
  },
  {
   "cell_type": "code",
   "execution_count": 4,
   "id": "urban-software",
   "metadata": {
    "execution": {
     "iopub.execute_input": "2021-11-16T00:24:42.654559Z",
     "iopub.status.busy": "2021-11-16T00:24:42.654047Z",
     "iopub.status.idle": "2021-11-16T00:24:42.657342Z",
     "shell.execute_reply": "2021-11-16T00:24:42.656878Z"
    },
    "papermill": {
     "duration": 0.03766,
     "end_time": "2021-11-16T00:24:42.657434",
     "exception": false,
     "start_time": "2021-11-16T00:24:42.619774",
     "status": "completed"
    },
    "tags": []
   },
   "outputs": [],
   "source": [
    "#hide\n",
    "def get_mappings(url):\n",
    "    df = pd.read_csv(url)\n",
    "    return {\n",
    "        'df': df,\n",
    "        'replace.country': dict(df.dropna(subset=['Name']).set_index('Country')['Name']),\n",
    "        'map.continent': dict(df.set_index('Name')['Continent'])\n",
    "    }"
   ]
  },
  {
   "cell_type": "code",
   "execution_count": 5,
   "id": "intimate-machinery",
   "metadata": {
    "execution": {
     "iopub.execute_input": "2021-11-16T00:24:42.723153Z",
     "iopub.status.busy": "2021-11-16T00:24:42.722661Z",
     "iopub.status.idle": "2021-11-16T00:24:42.791613Z",
     "shell.execute_reply": "2021-11-16T00:24:42.791194Z"
    },
    "papermill": {
     "duration": 0.103579,
     "end_time": "2021-11-16T00:24:42.791706",
     "exception": false,
     "start_time": "2021-11-16T00:24:42.688127",
     "status": "completed"
    },
    "tags": []
   },
   "outputs": [],
   "source": [
    "#hide\n",
    "mapping = get_mappings(paths['mapping'])"
   ]
  },
  {
   "cell_type": "code",
   "execution_count": 6,
   "id": "certified-tactics",
   "metadata": {
    "execution": {
     "iopub.execute_input": "2021-11-16T00:24:42.857186Z",
     "iopub.status.busy": "2021-11-16T00:24:42.856693Z",
     "iopub.status.idle": "2021-11-16T00:24:42.858707Z",
     "shell.execute_reply": "2021-11-16T00:24:42.858228Z"
    },
    "papermill": {
     "duration": 0.036399,
     "end_time": "2021-11-16T00:24:42.858801",
     "exception": false,
     "start_time": "2021-11-16T00:24:42.822402",
     "status": "completed"
    },
    "tags": []
   },
   "outputs": [],
   "source": [
    "#hide\n",
    "def get_template(path):\n",
    "    from urllib.parse import urlparse\n",
    "    if bool(urlparse(path).netloc):\n",
    "        from urllib.request import urlopen\n",
    "        return urlopen(path).read().decode('utf8')\n",
    "    return open(path).read()"
   ]
  },
  {
   "cell_type": "code",
   "execution_count": 7,
   "id": "realistic-blast",
   "metadata": {
    "execution": {
     "iopub.execute_input": "2021-11-16T00:24:42.923936Z",
     "iopub.status.busy": "2021-11-16T00:24:42.923450Z",
     "iopub.status.idle": "2021-11-16T00:24:42.925474Z",
     "shell.execute_reply": "2021-11-16T00:24:42.925067Z"
    },
    "papermill": {
     "duration": 0.036068,
     "end_time": "2021-11-16T00:24:42.925565",
     "exception": false,
     "start_time": "2021-11-16T00:24:42.889497",
     "status": "completed"
    },
    "tags": []
   },
   "outputs": [],
   "source": [
    "#hide\n",
    "def get_frame(name):\n",
    "    url = (\n",
    "        'https://raw.githubusercontent.com/CSSEGISandData/COVID-19/master/csse_covid_19_data/'\n",
    "        f'csse_covid_19_time_series/time_series_covid19_{name}_global.csv')\n",
    "    df = pd.read_csv(url)\n",
    "    # rename countries\n",
    "    df['Country/Region'] = df['Country/Region'].replace(mapping['replace.country'])\n",
    "    return df"
   ]
  },
  {
   "cell_type": "code",
   "execution_count": 8,
   "id": "affiliated-characterization",
   "metadata": {
    "execution": {
     "iopub.execute_input": "2021-11-16T00:24:42.991537Z",
     "iopub.status.busy": "2021-11-16T00:24:42.991038Z",
     "iopub.status.idle": "2021-11-16T00:24:42.993048Z",
     "shell.execute_reply": "2021-11-16T00:24:42.992575Z"
    },
    "papermill": {
     "duration": 0.036909,
     "end_time": "2021-11-16T00:24:42.993138",
     "exception": false,
     "start_time": "2021-11-16T00:24:42.956229",
     "status": "completed"
    },
    "tags": []
   },
   "outputs": [],
   "source": [
    "#hide\n",
    "def get_dates(df):\n",
    "    dt_cols = df.columns[~df.columns.isin(['Province/State', 'Country/Region', 'Lat', 'Long'])]\n",
    "    LAST_DATE_I = -1\n",
    "    # sometimes last column may be empty, then go backwards\n",
    "    for i in range(-1, -len(dt_cols), -1):\n",
    "        if not df[dt_cols[i]].fillna(0).eq(0).all():\n",
    "            LAST_DATE_I = i\n",
    "            break\n",
    "    return LAST_DATE_I, dt_cols"
   ]
  },
  {
   "cell_type": "code",
   "execution_count": 9,
   "id": "recent-optimization",
   "metadata": {
    "execution": {
     "iopub.execute_input": "2021-11-16T00:24:43.057921Z",
     "iopub.status.busy": "2021-11-16T00:24:43.057436Z",
     "iopub.status.idle": "2021-11-16T00:24:46.639845Z",
     "shell.execute_reply": "2021-11-16T00:24:46.640278Z"
    },
    "papermill": {
     "duration": 3.616859,
     "end_time": "2021-11-16T00:24:46.640408",
     "exception": false,
     "start_time": "2021-11-16T00:24:43.023549",
     "status": "completed"
    },
    "tags": []
   },
   "outputs": [],
   "source": [
    "#hide\n",
    "COL_REGION = 'Country/Region'\n",
    "# Confirmed, Recovered, Deaths\n",
    "df = get_frame('confirmed')\n",
    "# dft_: timeseries, dfc_: today country agg\n",
    "dft_cases = df\n",
    "dft_deaths = get_frame('deaths')\n",
    "dft_recovered = get_frame('recovered')\n",
    "LAST_DATE_I, dt_cols = get_dates(df)"
   ]
  },
  {
   "cell_type": "code",
   "execution_count": 10,
   "id": "absolute-copper",
   "metadata": {
    "execution": {
     "iopub.execute_input": "2021-11-16T00:24:46.707264Z",
     "iopub.status.busy": "2021-11-16T00:24:46.706754Z",
     "iopub.status.idle": "2021-11-16T00:24:46.710055Z",
     "shell.execute_reply": "2021-11-16T00:24:46.710455Z"
    },
    "papermill": {
     "duration": 0.038893,
     "end_time": "2021-11-16T00:24:46.710572",
     "exception": false,
     "start_time": "2021-11-16T00:24:46.671679",
     "status": "completed"
    },
    "tags": []
   },
   "outputs": [],
   "source": [
    "#hide\n",
    "LAST_DATE_I, dt_cols = get_dates(df)\n",
    "dt_today =dt_cols[LAST_DATE_I]\n",
    "# dt_5day = dt_cols[LAST_DATE_I - 5]\n",
    "dt_yday = dt_cols[LAST_DATE_I - 1]"
   ]
  },
  {
   "cell_type": "code",
   "execution_count": 11,
   "id": "restricted-sheriff",
   "metadata": {
    "execution": {
     "iopub.execute_input": "2021-11-16T00:24:46.777781Z",
     "iopub.status.busy": "2021-11-16T00:24:46.777297Z",
     "iopub.status.idle": "2021-11-16T00:24:46.782778Z",
     "shell.execute_reply": "2021-11-16T00:24:46.782354Z"
    },
    "papermill": {
     "duration": 0.041636,
     "end_time": "2021-11-16T00:24:46.782870",
     "exception": false,
     "start_time": "2021-11-16T00:24:46.741234",
     "status": "completed"
    },
    "tags": []
   },
   "outputs": [],
   "source": [
    "#hide\n",
    "dfc_cases = dft_cases.groupby(COL_REGION)[dt_today].sum()\n",
    "dfc_deaths = dft_deaths.groupby(COL_REGION)[dt_today].sum()\n",
    "# dfp_cases = dft_cases.groupby(COL_REGION)[dt_5day].sum()\n",
    "# dfp_deaths = dft_deaths.groupby(COL_REGION)[dt_5day].sum()\n",
    "dfp_cases = dft_cases.groupby(COL_REGION)[dt_yday].sum()\n",
    "dfp_deaths = dft_deaths.groupby(COL_REGION)[dt_yday].sum()"
   ]
  },
  {
   "cell_type": "code",
   "execution_count": 12,
   "id": "deluxe-hepatitis",
   "metadata": {
    "execution": {
     "iopub.execute_input": "2021-11-16T00:24:46.849357Z",
     "iopub.status.busy": "2021-11-16T00:24:46.848877Z",
     "iopub.status.idle": "2021-11-16T00:24:46.852867Z",
     "shell.execute_reply": "2021-11-16T00:24:46.853261Z"
    },
    "papermill": {
     "duration": 0.039735,
     "end_time": "2021-11-16T00:24:46.853367",
     "exception": false,
     "start_time": "2021-11-16T00:24:46.813632",
     "status": "completed"
    },
    "tags": []
   },
   "outputs": [],
   "source": [
    "#hide\n",
    "df_table = (pd.DataFrame(dict(Cases = dfc_cases, Deaths = dfc_deaths, PCases = dfp_cases, PDeaths = dfp_deaths))\n",
    "            .sort_values(by = ['Cases','Deaths'], ascending = [False, False])\n",
    "            .reset_index())"
   ]
  },
  {
   "cell_type": "code",
   "execution_count": 13,
   "id": "educational-chancellor",
   "metadata": {
    "execution": {
     "iopub.execute_input": "2021-11-16T00:24:46.926172Z",
     "iopub.status.busy": "2021-11-16T00:24:46.924875Z",
     "iopub.status.idle": "2021-11-16T00:24:46.946770Z",
     "shell.execute_reply": "2021-11-16T00:24:46.947145Z"
    },
    "papermill": {
     "duration": 0.063275,
     "end_time": "2021-11-16T00:24:46.947259",
     "exception": false,
     "start_time": "2021-11-16T00:24:46.883984",
     "status": "completed"
    },
    "tags": []
   },
   "outputs": [
    {
     "data": {
      "text/html": [
       "<div>\n",
       "<style scoped>\n",
       "    .dataframe tbody tr th:only-of-type {\n",
       "        vertical-align: middle;\n",
       "    }\n",
       "\n",
       "    .dataframe tbody tr th {\n",
       "        vertical-align: top;\n",
       "    }\n",
       "\n",
       "    .dataframe thead th {\n",
       "        text-align: right;\n",
       "    }\n",
       "</style>\n",
       "<table border=\"1\" class=\"dataframe\">\n",
       "  <thead>\n",
       "    <tr style=\"text-align: right;\">\n",
       "      <th></th>\n",
       "      <th>Country/Region</th>\n",
       "      <th>Cases</th>\n",
       "      <th>Deaths</th>\n",
       "      <th>PCases</th>\n",
       "      <th>PDeaths</th>\n",
       "      <th>Cases (+)</th>\n",
       "      <th>Deaths (+)</th>\n",
       "      <th>Fatality Rate</th>\n",
       "      <th>Continent</th>\n",
       "    </tr>\n",
       "  </thead>\n",
       "  <tbody>\n",
       "    <tr>\n",
       "      <th>0</th>\n",
       "      <td>US</td>\n",
       "      <td>47077864</td>\n",
       "      <td>763092</td>\n",
       "      <td>47056556</td>\n",
       "      <td>762972</td>\n",
       "      <td>21308</td>\n",
       "      <td>120</td>\n",
       "      <td>1.62</td>\n",
       "      <td>North America</td>\n",
       "    </tr>\n",
       "    <tr>\n",
       "      <th>1</th>\n",
       "      <td>India</td>\n",
       "      <td>34447536</td>\n",
       "      <td>463655</td>\n",
       "      <td>34437307</td>\n",
       "      <td>463530</td>\n",
       "      <td>10229</td>\n",
       "      <td>125</td>\n",
       "      <td>1.35</td>\n",
       "      <td>Asia</td>\n",
       "    </tr>\n",
       "    <tr>\n",
       "      <th>2</th>\n",
       "      <td>Brazil</td>\n",
       "      <td>21957967</td>\n",
       "      <td>611283</td>\n",
       "      <td>21953838</td>\n",
       "      <td>611222</td>\n",
       "      <td>4129</td>\n",
       "      <td>61</td>\n",
       "      <td>2.78</td>\n",
       "      <td>South America</td>\n",
       "    </tr>\n",
       "    <tr>\n",
       "      <th>3</th>\n",
       "      <td>United Kingdom</td>\n",
       "      <td>9608568</td>\n",
       "      <td>143337</td>\n",
       "      <td>9572351</td>\n",
       "      <td>143274</td>\n",
       "      <td>36217</td>\n",
       "      <td>63</td>\n",
       "      <td>1.49</td>\n",
       "      <td>Europe</td>\n",
       "    </tr>\n",
       "    <tr>\n",
       "      <th>4</th>\n",
       "      <td>Russia</td>\n",
       "      <td>8918926</td>\n",
       "      <td>250609</td>\n",
       "      <td>8881306</td>\n",
       "      <td>249415</td>\n",
       "      <td>37620</td>\n",
       "      <td>1194</td>\n",
       "      <td>2.81</td>\n",
       "      <td>Europe</td>\n",
       "    </tr>\n",
       "  </tbody>\n",
       "</table>\n",
       "</div>"
      ],
      "text/plain": [
       "   Country/Region     Cases  Deaths    PCases  PDeaths  Cases (+)  Deaths (+)  \\\n",
       "0              US  47077864  763092  47056556   762972      21308         120   \n",
       "1           India  34447536  463655  34437307   463530      10229         125   \n",
       "2          Brazil  21957967  611283  21953838   611222       4129          61   \n",
       "3  United Kingdom   9608568  143337   9572351   143274      36217          63   \n",
       "4          Russia   8918926  250609   8881306   249415      37620        1194   \n",
       "\n",
       "   Fatality Rate      Continent  \n",
       "0           1.62  North America  \n",
       "1           1.35           Asia  \n",
       "2           2.78  South America  \n",
       "3           1.49         Europe  \n",
       "4           2.81         Europe  "
      ]
     },
     "execution_count": 13,
     "metadata": {},
     "output_type": "execute_result"
    }
   ],
   "source": [
    "#hide\n",
    "for c in 'Cases, Deaths'.split(', '):\n",
    "    df_table[f'{c} (+)'] = (df_table[c] - df_table[f'P{c}']).clip(0)\n",
    "    #Clip ça veut dire, les chiffres negatif sont interdit\n",
    "df_table['Fatality Rate'] = (100* df_table['Deaths']/ df_table['Cases']).round(2)\n",
    "df_table['Continent'] = df_table['Country/Region'].map(mapping['map.continent'])\n",
    "df_table.head(5)"
   ]
  },
  {
   "cell_type": "code",
   "execution_count": 14,
   "id": "aboriginal-bulgaria",
   "metadata": {
    "execution": {
     "iopub.execute_input": "2021-11-16T00:24:47.048906Z",
     "iopub.status.busy": "2021-11-16T00:24:47.048345Z",
     "iopub.status.idle": "2021-11-16T00:24:47.049822Z",
     "shell.execute_reply": "2021-11-16T00:24:47.050252Z"
    },
    "papermill": {
     "duration": 0.054119,
     "end_time": "2021-11-16T00:24:47.050363",
     "exception": false,
     "start_time": "2021-11-16T00:24:46.996244",
     "status": "completed"
    },
    "tags": []
   },
   "outputs": [],
   "source": [
    "#hide\n",
    "#delete problematic countries from table\n",
    "df_table = df_table[~df_table['Country/Region'].isin(['Cape Verde', 'Cruise Ship', 'Kosovo'])]"
   ]
  },
  {
   "cell_type": "code",
   "execution_count": 15,
   "id": "fantastic-effect",
   "metadata": {
    "execution": {
     "iopub.execute_input": "2021-11-16T00:24:47.147563Z",
     "iopub.status.busy": "2021-11-16T00:24:47.147072Z",
     "iopub.status.idle": "2021-11-16T00:24:47.167754Z",
     "shell.execute_reply": "2021-11-16T00:24:47.167350Z"
    },
    "papermill": {
     "duration": 0.076686,
     "end_time": "2021-11-16T00:24:47.167959",
     "exception": false,
     "start_time": "2021-11-16T00:24:47.091273",
     "status": "completed"
    },
    "tags": []
   },
   "outputs": [
    {
     "data": {
      "text/html": [
       "<div>\n",
       "<style scoped>\n",
       "    .dataframe tbody tr th:only-of-type {\n",
       "        vertical-align: middle;\n",
       "    }\n",
       "\n",
       "    .dataframe tbody tr th {\n",
       "        vertical-align: top;\n",
       "    }\n",
       "\n",
       "    .dataframe thead th {\n",
       "        text-align: right;\n",
       "    }\n",
       "</style>\n",
       "<table border=\"1\" class=\"dataframe\">\n",
       "  <thead>\n",
       "    <tr style=\"text-align: right;\">\n",
       "      <th></th>\n",
       "      <th>Country/Region</th>\n",
       "      <th>Cases</th>\n",
       "      <th>Deaths</th>\n",
       "      <th>PCases</th>\n",
       "      <th>PDeaths</th>\n",
       "      <th>Cases (+)</th>\n",
       "      <th>Deaths (+)</th>\n",
       "      <th>Fatality Rate</th>\n",
       "      <th>Continent</th>\n",
       "    </tr>\n",
       "  </thead>\n",
       "  <tbody>\n",
       "    <tr>\n",
       "      <th>0</th>\n",
       "      <td>US</td>\n",
       "      <td>47077864</td>\n",
       "      <td>763092</td>\n",
       "      <td>47056556</td>\n",
       "      <td>762972</td>\n",
       "      <td>21308</td>\n",
       "      <td>120</td>\n",
       "      <td>1.6</td>\n",
       "      <td>North America</td>\n",
       "    </tr>\n",
       "    <tr>\n",
       "      <th>1</th>\n",
       "      <td>India</td>\n",
       "      <td>34447536</td>\n",
       "      <td>463655</td>\n",
       "      <td>34437307</td>\n",
       "      <td>463530</td>\n",
       "      <td>10229</td>\n",
       "      <td>125</td>\n",
       "      <td>1.3</td>\n",
       "      <td>Asia</td>\n",
       "    </tr>\n",
       "    <tr>\n",
       "      <th>2</th>\n",
       "      <td>Brazil</td>\n",
       "      <td>21957967</td>\n",
       "      <td>611283</td>\n",
       "      <td>21953838</td>\n",
       "      <td>611222</td>\n",
       "      <td>4129</td>\n",
       "      <td>61</td>\n",
       "      <td>2.8</td>\n",
       "      <td>South America</td>\n",
       "    </tr>\n",
       "    <tr>\n",
       "      <th>3</th>\n",
       "      <td>United Kingdom</td>\n",
       "      <td>9608568</td>\n",
       "      <td>143337</td>\n",
       "      <td>9572351</td>\n",
       "      <td>143274</td>\n",
       "      <td>36217</td>\n",
       "      <td>63</td>\n",
       "      <td>1.5</td>\n",
       "      <td>Europe</td>\n",
       "    </tr>\n",
       "    <tr>\n",
       "      <th>4</th>\n",
       "      <td>Russia</td>\n",
       "      <td>8918926</td>\n",
       "      <td>250609</td>\n",
       "      <td>8881306</td>\n",
       "      <td>249415</td>\n",
       "      <td>37620</td>\n",
       "      <td>1194</td>\n",
       "      <td>2.8</td>\n",
       "      <td>Europe</td>\n",
       "    </tr>\n",
       "  </tbody>\n",
       "</table>\n",
       "</div>"
      ],
      "text/plain": [
       "   Country/Region     Cases  Deaths    PCases  PDeaths  Cases (+)  Deaths (+)  \\\n",
       "0              US  47077864  763092  47056556   762972      21308         120   \n",
       "1           India  34447536  463655  34437307   463530      10229         125   \n",
       "2          Brazil  21957967  611283  21953838   611222       4129          61   \n",
       "3  United Kingdom   9608568  143337   9572351   143274      36217          63   \n",
       "4          Russia   8918926  250609   8881306   249415      37620        1194   \n",
       "\n",
       "   Fatality Rate      Continent  \n",
       "0            1.6  North America  \n",
       "1            1.3           Asia  \n",
       "2            2.8  South America  \n",
       "3            1.5         Europe  \n",
       "4            2.8         Europe  "
      ]
     },
     "execution_count": 15,
     "metadata": {},
     "output_type": "execute_result"
    }
   ],
   "source": [
    "#hide\n",
    "df_table = (pd.DataFrame(dict(Cases=dfc_cases, Deaths=dfc_deaths, PCases=dfp_cases, PDeaths=dfp_deaths))\n",
    "             .sort_values(by=['Cases', 'Deaths'], ascending=[False, False])\n",
    "             .reset_index())\n",
    "df_table.rename(columns={'index': 'Country/Region'}, inplace=True)\n",
    "for c in 'Cases, Deaths'.split(', '):\n",
    "    df_table[f'{c} (+)'] = (df_table[c] - df_table[f'P{c}']).clip(0)  # DATA BUG\n",
    "df_table['Fatality Rate'] = (100 * df_table['Deaths'] / df_table['Cases']).round(1)\n",
    "df_table['Continent'] = df_table['Country/Region'].map(mapping['map.continent'])\n",
    "df_table.head(5)"
   ]
  },
  {
   "cell_type": "code",
   "execution_count": 16,
   "id": "fewer-occasion",
   "metadata": {
    "execution": {
     "iopub.execute_input": "2021-11-16T00:24:47.300211Z",
     "iopub.status.busy": "2021-11-16T00:24:47.299712Z",
     "iopub.status.idle": "2021-11-16T00:24:47.303174Z",
     "shell.execute_reply": "2021-11-16T00:24:47.302762Z"
    },
    "papermill": {
     "duration": 0.052378,
     "end_time": "2021-11-16T00:24:47.303275",
     "exception": false,
     "start_time": "2021-11-16T00:24:47.250897",
     "status": "completed"
    },
    "tags": []
   },
   "outputs": [],
   "source": [
    "#hide\n",
    "#delete problematic countries from table\n",
    "df_table = df_table[~df_table['Country/Region'].isin(['Cape Verde', 'Cruise Ship', 'Kosovo'])]"
   ]
  },
  {
   "cell_type": "code",
   "execution_count": 17,
   "id": "related-center",
   "metadata": {
    "execution": {
     "iopub.execute_input": "2021-11-16T00:24:47.400382Z",
     "iopub.status.busy": "2021-11-16T00:24:47.399896Z",
     "iopub.status.idle": "2021-11-16T00:24:47.412814Z",
     "shell.execute_reply": "2021-11-16T00:24:47.412347Z"
    },
    "papermill": {
     "duration": 0.064601,
     "end_time": "2021-11-16T00:24:47.412909",
     "exception": false,
     "start_time": "2021-11-16T00:24:47.348308",
     "status": "completed"
    },
    "tags": []
   },
   "outputs": [],
   "source": [
    "#hide\n",
    "metrics = [df_table.columns[index] for index in [1,2,5,6]]\n",
    "# s_china = df_table[df_table['Country/Region'].eq('China')][metrics].sum().add_prefix('China ')\n",
    "s_us = df_table[df_table['Country/Region'].eq('US')][metrics].sum().add_prefix('US ')\n",
    "s_eu = df_table[df_table['Continent'].eq('Europe')][metrics].sum().add_prefix('EU ')\n",
    "s_ind = df_table[df_table['Country/Region'].eq('India')][metrics].sum().add_prefix('India ')\n",
    "summary = {'updated': pd.to_datetime(dt_today), 'since': pd.to_datetime(dt_yday)}\n",
    "summary = {'updated': pd.to_datetime(dt_today), 'since': pd.to_datetime(dt_yday)}\n",
    "summary = {**summary, **df_table[metrics].sum(), **s_ind, **s_us, **s_eu}"
   ]
  },
  {
   "cell_type": "code",
   "execution_count": 18,
   "id": "engaging-syndrome",
   "metadata": {
    "execution": {
     "iopub.execute_input": "2021-11-16T00:24:47.485562Z",
     "iopub.status.busy": "2021-11-16T00:24:47.485082Z",
     "iopub.status.idle": "2021-11-16T00:24:47.496751Z",
     "shell.execute_reply": "2021-11-16T00:24:47.496288Z"
    },
    "papermill": {
     "duration": 0.048572,
     "end_time": "2021-11-16T00:24:47.496847",
     "exception": false,
     "start_time": "2021-11-16T00:24:47.448275",
     "status": "completed"
    },
    "tags": []
   },
   "outputs": [],
   "source": [
    "#hide\n",
    "dft_ct_new_cases = dft_cases.groupby(COL_REGION)[dt_cols].sum().diff(axis=1).fillna(0).astype(int)"
   ]
  },
  {
   "cell_type": "code",
   "execution_count": 19,
   "id": "neutral-assignment",
   "metadata": {
    "execution": {
     "iopub.execute_input": "2021-11-16T00:24:47.564117Z",
     "iopub.status.busy": "2021-11-16T00:24:47.563617Z",
     "iopub.status.idle": "2021-11-16T00:24:47.565536Z",
     "shell.execute_reply": "2021-11-16T00:24:47.565128Z"
    },
    "papermill": {
     "duration": 0.037277,
     "end_time": "2021-11-16T00:24:47.565628",
     "exception": false,
     "start_time": "2021-11-16T00:24:47.528351",
     "status": "completed"
    },
    "tags": []
   },
   "outputs": [],
   "source": [
    "#hide\n",
    "everydaycases = dft_ct_new_cases.cumsum(axis=1)"
   ]
  },
  {
   "cell_type": "code",
   "execution_count": 20,
   "id": "parliamentary-calgary",
   "metadata": {
    "execution": {
     "iopub.execute_input": "2021-11-16T00:24:47.632440Z",
     "iopub.status.busy": "2021-11-16T00:24:47.631959Z",
     "iopub.status.idle": "2021-11-16T00:24:48.234092Z",
     "shell.execute_reply": "2021-11-16T00:24:48.233654Z"
    },
    "papermill": {
     "duration": 0.637061,
     "end_time": "2021-11-16T00:24:48.234205",
     "exception": false,
     "start_time": "2021-11-16T00:24:47.597144",
     "status": "completed"
    },
    "tags": []
   },
   "outputs": [],
   "source": [
    "#hide\n",
    "import pandas as pd\n",
    "import matplotlib.pyplot as plt\n",
    "import matplotlib.ticker as ticker\n",
    "import matplotlib.animation as animation\n",
    "from IPython.display import HTML"
   ]
  },
  {
   "cell_type": "code",
   "execution_count": 21,
   "id": "lasting-extraction",
   "metadata": {
    "execution": {
     "iopub.execute_input": "2021-11-16T00:24:48.301796Z",
     "iopub.status.busy": "2021-11-16T00:24:48.301313Z",
     "iopub.status.idle": "2021-11-16T00:24:48.306101Z",
     "shell.execute_reply": "2021-11-16T00:24:48.305708Z"
    },
    "papermill": {
     "duration": 0.040199,
     "end_time": "2021-11-16T00:24:48.306196",
     "exception": false,
     "start_time": "2021-11-16T00:24:48.265997",
     "status": "completed"
    },
    "tags": []
   },
   "outputs": [],
   "source": [
    "#hide\n",
    "t = everydaycases.stack()"
   ]
  },
  {
   "cell_type": "code",
   "execution_count": 22,
   "id": "premier-sleeve",
   "metadata": {
    "execution": {
     "iopub.execute_input": "2021-11-16T00:24:48.373279Z",
     "iopub.status.busy": "2021-11-16T00:24:48.372771Z",
     "iopub.status.idle": "2021-11-16T00:24:48.380409Z",
     "shell.execute_reply": "2021-11-16T00:24:48.380840Z"
    },
    "papermill": {
     "duration": 0.04303,
     "end_time": "2021-11-16T00:24:48.380952",
     "exception": false,
     "start_time": "2021-11-16T00:24:48.337922",
     "status": "completed"
    },
    "tags": []
   },
   "outputs": [],
   "source": [
    "#hide\n",
    "g = t.reset_index(['Country/Region'])"
   ]
  },
  {
   "cell_type": "code",
   "execution_count": 23,
   "id": "distributed-pittsburgh",
   "metadata": {
    "execution": {
     "iopub.execute_input": "2021-11-16T00:24:48.447056Z",
     "iopub.status.busy": "2021-11-16T00:24:48.446562Z",
     "iopub.status.idle": "2021-11-16T00:24:48.449478Z",
     "shell.execute_reply": "2021-11-16T00:24:48.449854Z"
    },
    "papermill": {
     "duration": 0.037391,
     "end_time": "2021-11-16T00:24:48.449965",
     "exception": false,
     "start_time": "2021-11-16T00:24:48.412574",
     "status": "completed"
    },
    "tags": []
   },
   "outputs": [],
   "source": [
    "#hide\n",
    "g.index.name = 'date'"
   ]
  },
  {
   "cell_type": "code",
   "execution_count": 24,
   "id": "naked-donor",
   "metadata": {
    "execution": {
     "iopub.execute_input": "2021-11-16T00:24:48.515895Z",
     "iopub.status.busy": "2021-11-16T00:24:48.515407Z",
     "iopub.status.idle": "2021-11-16T00:24:48.517332Z",
     "shell.execute_reply": "2021-11-16T00:24:48.516881Z"
    },
    "papermill": {
     "duration": 0.035835,
     "end_time": "2021-11-16T00:24:48.517422",
     "exception": false,
     "start_time": "2021-11-16T00:24:48.481587",
     "status": "completed"
    },
    "tags": []
   },
   "outputs": [],
   "source": [
    "# #hide\n",
    "# g = g.reset_index(['date'])"
   ]
  },
  {
   "cell_type": "code",
   "execution_count": 25,
   "id": "incomplete-mustang",
   "metadata": {
    "execution": {
     "iopub.execute_input": "2021-11-16T00:24:48.583144Z",
     "iopub.status.busy": "2021-11-16T00:24:48.582646Z",
     "iopub.status.idle": "2021-11-16T00:24:48.584172Z",
     "shell.execute_reply": "2021-11-16T00:24:48.584536Z"
    },
    "papermill": {
     "duration": 0.035557,
     "end_time": "2021-11-16T00:24:48.584642",
     "exception": false,
     "start_time": "2021-11-16T00:24:48.549085",
     "status": "completed"
    },
    "tags": []
   },
   "outputs": [],
   "source": [
    "#hide\n",
    "# g.head()"
   ]
  },
  {
   "cell_type": "code",
   "execution_count": 26,
   "id": "specific-kruger",
   "metadata": {
    "execution": {
     "iopub.execute_input": "2021-11-16T00:24:48.650405Z",
     "iopub.status.busy": "2021-11-16T00:24:48.649917Z",
     "iopub.status.idle": "2021-11-16T00:24:48.651876Z",
     "shell.execute_reply": "2021-11-16T00:24:48.651476Z"
    },
    "papermill": {
     "duration": 0.035793,
     "end_time": "2021-11-16T00:24:48.651966",
     "exception": false,
     "start_time": "2021-11-16T00:24:48.616173",
     "status": "completed"
    },
    "tags": []
   },
   "outputs": [],
   "source": [
    "#hide\n",
    "# g.columns = ['date','country','cases']"
   ]
  },
  {
   "cell_type": "code",
   "execution_count": 27,
   "id": "tender-conversion",
   "metadata": {
    "execution": {
     "iopub.execute_input": "2021-11-16T00:24:48.717398Z",
     "iopub.status.busy": "2021-11-16T00:24:48.716911Z",
     "iopub.status.idle": "2021-11-16T00:24:48.718873Z",
     "shell.execute_reply": "2021-11-16T00:24:48.718470Z"
    },
    "papermill": {
     "duration": 0.035707,
     "end_time": "2021-11-16T00:24:48.718962",
     "exception": false,
     "start_time": "2021-11-16T00:24:48.683255",
     "status": "completed"
    },
    "tags": []
   },
   "outputs": [],
   "source": [
    "#hide\n",
    "# g['continent'] = g.country"
   ]
  },
  {
   "cell_type": "code",
   "execution_count": 28,
   "id": "substantial-wilderness",
   "metadata": {
    "execution": {
     "iopub.execute_input": "2021-11-16T00:24:48.784760Z",
     "iopub.status.busy": "2021-11-16T00:24:48.784254Z",
     "iopub.status.idle": "2021-11-16T00:24:48.786198Z",
     "shell.execute_reply": "2021-11-16T00:24:48.785805Z"
    },
    "papermill": {
     "duration": 0.035485,
     "end_time": "2021-11-16T00:24:48.786286",
     "exception": false,
     "start_time": "2021-11-16T00:24:48.750801",
     "status": "completed"
    },
    "tags": []
   },
   "outputs": [],
   "source": [
    "#hide\n",
    "# cols = list(g.columns.values)"
   ]
  },
  {
   "cell_type": "code",
   "execution_count": 29,
   "id": "solved-farming",
   "metadata": {
    "execution": {
     "iopub.execute_input": "2021-11-16T00:24:48.851542Z",
     "iopub.status.busy": "2021-11-16T00:24:48.851047Z",
     "iopub.status.idle": "2021-11-16T00:24:48.852696Z",
     "shell.execute_reply": "2021-11-16T00:24:48.853075Z"
    },
    "papermill": {
     "duration": 0.035496,
     "end_time": "2021-11-16T00:24:48.853175",
     "exception": false,
     "start_time": "2021-11-16T00:24:48.817679",
     "status": "completed"
    },
    "tags": []
   },
   "outputs": [],
   "source": [
    "#hide\n",
    "# cols.insert(0, cols.pop())"
   ]
  },
  {
   "cell_type": "code",
   "execution_count": 30,
   "id": "executed-adoption",
   "metadata": {
    "execution": {
     "iopub.execute_input": "2021-11-16T00:24:48.918482Z",
     "iopub.status.busy": "2021-11-16T00:24:48.917952Z",
     "iopub.status.idle": "2021-11-16T00:24:48.919856Z",
     "shell.execute_reply": "2021-11-16T00:24:48.919460Z"
    },
    "papermill": {
     "duration": 0.03544,
     "end_time": "2021-11-16T00:24:48.919945",
     "exception": false,
     "start_time": "2021-11-16T00:24:48.884505",
     "status": "completed"
    },
    "tags": []
   },
   "outputs": [],
   "source": [
    "#hide\n",
    "# g = g[cols]"
   ]
  },
  {
   "cell_type": "code",
   "execution_count": 31,
   "id": "subject-dublin",
   "metadata": {
    "execution": {
     "iopub.execute_input": "2021-11-16T00:24:48.985422Z",
     "iopub.status.busy": "2021-11-16T00:24:48.984944Z",
     "iopub.status.idle": "2021-11-16T00:24:48.986911Z",
     "shell.execute_reply": "2021-11-16T00:24:48.986516Z"
    },
    "papermill": {
     "duration": 0.035511,
     "end_time": "2021-11-16T00:24:48.987000",
     "exception": false,
     "start_time": "2021-11-16T00:24:48.951489",
     "status": "completed"
    },
    "tags": []
   },
   "outputs": [],
   "source": [
    "#hide\n",
    "# g['continent'] = g['continent'].map(mapping['map.continent'])"
   ]
  },
  {
   "cell_type": "code",
   "execution_count": 32,
   "id": "freelance-scout",
   "metadata": {
    "execution": {
     "iopub.execute_input": "2021-11-16T00:24:49.052368Z",
     "iopub.status.busy": "2021-11-16T00:24:49.051858Z",
     "iopub.status.idle": "2021-11-16T00:24:49.055155Z",
     "shell.execute_reply": "2021-11-16T00:24:49.054771Z"
    },
    "papermill": {
     "duration": 0.036884,
     "end_time": "2021-11-16T00:24:49.055247",
     "exception": false,
     "start_time": "2021-11-16T00:24:49.018363",
     "status": "completed"
    },
    "tags": []
   },
   "outputs": [],
   "source": [
    "#hide\n",
    "# g.head()"
   ]
  },
  {
   "cell_type": "code",
   "execution_count": 33,
   "id": "limited-engine",
   "metadata": {
    "execution": {
     "iopub.execute_input": "2021-11-16T00:24:49.120932Z",
     "iopub.status.busy": "2021-11-16T00:24:49.120439Z",
     "iopub.status.idle": "2021-11-16T00:24:49.122580Z",
     "shell.execute_reply": "2021-11-16T00:24:49.122142Z"
    },
    "papermill": {
     "duration": 0.036029,
     "end_time": "2021-11-16T00:24:49.122673",
     "exception": false,
     "start_time": "2021-11-16T00:24:49.086644",
     "status": "completed"
    },
    "tags": []
   },
   "outputs": [],
   "source": [
    "# hide\n",
    "# g['date'] = g['date'].astype('datetime64[ns]')"
   ]
  },
  {
   "cell_type": "code",
   "execution_count": 34,
   "id": "sophisticated-supervisor",
   "metadata": {
    "execution": {
     "iopub.execute_input": "2021-11-16T00:24:49.188633Z",
     "iopub.status.busy": "2021-11-16T00:24:49.188132Z",
     "iopub.status.idle": "2021-11-16T00:24:49.190222Z",
     "shell.execute_reply": "2021-11-16T00:24:49.189757Z"
    },
    "papermill": {
     "duration": 0.036068,
     "end_time": "2021-11-16T00:24:49.190311",
     "exception": false,
     "start_time": "2021-11-16T00:24:49.154243",
     "status": "completed"
    },
    "tags": []
   },
   "outputs": [],
   "source": [
    "#hide\n",
    "# g['date'] = g.date.dt.dayofyear"
   ]
  },
  {
   "cell_type": "code",
   "execution_count": 35,
   "id": "inside-dubai",
   "metadata": {
    "execution": {
     "iopub.execute_input": "2021-11-16T00:24:49.256559Z",
     "iopub.status.busy": "2021-11-16T00:24:49.256057Z",
     "iopub.status.idle": "2021-11-16T00:24:49.258199Z",
     "shell.execute_reply": "2021-11-16T00:24:49.257815Z"
    },
    "papermill": {
     "duration": 0.036185,
     "end_time": "2021-11-16T00:24:49.258295",
     "exception": false,
     "start_time": "2021-11-16T00:24:49.222110",
     "status": "completed"
    },
    "tags": []
   },
   "outputs": [],
   "source": [
    "#hide\n",
    "# g = g.rename(columns= {'continent':'group','country':'name','cases':'value'})"
   ]
  },
  {
   "cell_type": "code",
   "execution_count": 36,
   "id": "fleet-motorcycle",
   "metadata": {
    "execution": {
     "iopub.execute_input": "2021-11-16T00:24:49.324593Z",
     "iopub.status.busy": "2021-11-16T00:24:49.324104Z",
     "iopub.status.idle": "2021-11-16T00:24:49.325840Z",
     "shell.execute_reply": "2021-11-16T00:24:49.326211Z"
    },
    "papermill": {
     "duration": 0.036472,
     "end_time": "2021-11-16T00:24:49.326327",
     "exception": false,
     "start_time": "2021-11-16T00:24:49.289855",
     "status": "completed"
    },
    "tags": []
   },
   "outputs": [],
   "source": [
    "#hide\n",
    "# cols = ['name','group','day','value']"
   ]
  },
  {
   "cell_type": "code",
   "execution_count": 37,
   "id": "continued-sleeping",
   "metadata": {
    "execution": {
     "iopub.execute_input": "2021-11-16T00:24:49.392527Z",
     "iopub.status.busy": "2021-11-16T00:24:49.392045Z",
     "iopub.status.idle": "2021-11-16T00:24:49.394190Z",
     "shell.execute_reply": "2021-11-16T00:24:49.393761Z"
    },
    "papermill": {
     "duration": 0.036271,
     "end_time": "2021-11-16T00:24:49.394288",
     "exception": false,
     "start_time": "2021-11-16T00:24:49.358017",
     "status": "completed"
    },
    "tags": []
   },
   "outputs": [],
   "source": [
    "#hide\n",
    "# g.rename(columns= {'date':'day'},inplace = True)"
   ]
  },
  {
   "cell_type": "code",
   "execution_count": 38,
   "id": "major-fight",
   "metadata": {
    "execution": {
     "iopub.execute_input": "2021-11-16T00:24:49.460431Z",
     "iopub.status.busy": "2021-11-16T00:24:49.459935Z",
     "iopub.status.idle": "2021-11-16T00:24:49.461796Z",
     "shell.execute_reply": "2021-11-16T00:24:49.462158Z"
    },
    "papermill": {
     "duration": 0.03626,
     "end_time": "2021-11-16T00:24:49.462268",
     "exception": false,
     "start_time": "2021-11-16T00:24:49.426008",
     "status": "completed"
    },
    "tags": []
   },
   "outputs": [],
   "source": [
    "#hide\n",
    "# g = g[cols]"
   ]
  },
  {
   "cell_type": "code",
   "execution_count": 39,
   "id": "structured-mobile",
   "metadata": {
    "execution": {
     "iopub.execute_input": "2021-11-16T00:24:49.527793Z",
     "iopub.status.busy": "2021-11-16T00:24:49.527293Z",
     "iopub.status.idle": "2021-11-16T00:24:49.529232Z",
     "shell.execute_reply": "2021-11-16T00:24:49.528777Z"
    },
    "papermill": {
     "duration": 0.035675,
     "end_time": "2021-11-16T00:24:49.529323",
     "exception": false,
     "start_time": "2021-11-16T00:24:49.493648",
     "status": "completed"
    },
    "tags": []
   },
   "outputs": [],
   "source": [
    "# #hide\n",
    "# g = g[g.group.notna()]"
   ]
  },
  {
   "cell_type": "code",
   "execution_count": 40,
   "id": "determined-closing",
   "metadata": {
    "execution": {
     "iopub.execute_input": "2021-11-16T00:24:49.595466Z",
     "iopub.status.busy": "2021-11-16T00:24:49.594958Z",
     "iopub.status.idle": "2021-11-16T00:24:49.597070Z",
     "shell.execute_reply": "2021-11-16T00:24:49.596686Z"
    },
    "papermill": {
     "duration": 0.036034,
     "end_time": "2021-11-16T00:24:49.597162",
     "exception": false,
     "start_time": "2021-11-16T00:24:49.561128",
     "status": "completed"
    },
    "tags": []
   },
   "outputs": [],
   "source": [
    "# #hide\n",
    "# colors = dict(zip(\n",
    "#     [\"Oceania\", \"Europe\", \"Asia\", \"South America\", \"Middle East\", \"North America\", \"Africa\"],\n",
    "#     [\"#adb0ff\", \"#ffb3ff\", \"#90d595\", \"#e48381\", \"#aafbff\", \"#f7bb5f\", \"#eafb50\"]\n",
    "# ))\n",
    "# group_lk = g.set_index('name')['group'].to_dict()"
   ]
  },
  {
   "cell_type": "code",
   "execution_count": null,
   "id": "gross-drinking",
   "metadata": {
    "papermill": {
     "duration": 0.031269,
     "end_time": "2021-11-16T00:24:49.659755",
     "exception": false,
     "start_time": "2021-11-16T00:24:49.628486",
     "status": "completed"
    },
    "tags": []
   },
   "outputs": [],
   "source": []
  },
  {
   "cell_type": "code",
   "execution_count": 41,
   "id": "subject-macintosh",
   "metadata": {
    "execution": {
     "iopub.execute_input": "2021-11-16T00:24:49.726114Z",
     "iopub.status.busy": "2021-11-16T00:24:49.725599Z",
     "iopub.status.idle": "2021-11-16T00:24:49.727305Z",
     "shell.execute_reply": "2021-11-16T00:24:49.726851Z"
    },
    "papermill": {
     "duration": 0.036238,
     "end_time": "2021-11-16T00:24:49.727396",
     "exception": false,
     "start_time": "2021-11-16T00:24:49.691158",
     "status": "completed"
    },
    "tags": []
   },
   "outputs": [],
   "source": [
    "# #hide\n",
    "# fig, ax = plt.subplots(figsize=(15, 8))\n",
    "\n",
    "# def draw_barchart(current_day):\n",
    "#     dff = g[g['day'].eq(current_day)].sort_values(by='value', ascending=True).tail(10)\n",
    "#     ax.clear()\n",
    "#     ax.barh(dff['name'], dff['value'], color=[colors[group_lk[x]] for x in dff['name']])\n",
    "#     dx = dff['value'].max() / 200\n",
    "    \n",
    "#     for i, (value, name) in enumerate(zip(dff['value'], dff['name'])):\n",
    "#         ax.text(value-dx, i,     name,           size=14, weight=600, ha='right', va='bottom')\n",
    "#         ax.text(value-dx, i-.25, group_lk[name], size=10, color='#444444', ha='right', va='baseline')\n",
    "#         ax.text(value+dx, i,     f'{value:,.0f}',  size=14, ha='left',  va='center')\n",
    "#     ax.text(1, 0.4, current_day, transform=ax.transAxes, color='#777777', size=46, ha='right', weight=800)\n",
    "#     ax.text(0, 1.06, 'Population (thousands)', transform=ax.transAxes, size=12, color='#777777')\n",
    "#     ax.xaxis.set_major_formatter(ticker.StrMethodFormatter('{x:,.0f}'))\n",
    "#     ax.xaxis.set_ticks_position('top')\n",
    "#     ax.tick_params(axis='x', colors='#777777', labelsize=12)\n",
    "#     ax.set_yticks([])\n",
    "#     ax.margins(0, 0.01)\n",
    "#     ax.grid(which='major', axis='x', linestyle='-')\n",
    "#     ax.set_axisbelow(True)\n",
    "    \n",
    "#     ax.text(0, 1.15, 'Coronavirus',\n",
    "#             transform=ax.transAxes, size=24, weight=600, ha='left', va='top')\n",
    "# #     ax.text(1, 0, 'by @pratapvardhan; credit @jburnmurdoch', transform=ax.transAxes, color='#777777', ha='right',\n",
    "# #             bbox=dict(facecolor='white', alpha=0.8, edgecolor='white'))\n",
    "#     plt.box(False)"
   ]
  },
  {
   "cell_type": "code",
   "execution_count": 42,
   "id": "sexual-wages",
   "metadata": {
    "execution": {
     "iopub.execute_input": "2021-11-16T00:24:49.793095Z",
     "iopub.status.busy": "2021-11-16T00:24:49.792588Z",
     "iopub.status.idle": "2021-11-16T00:24:49.794654Z",
     "shell.execute_reply": "2021-11-16T00:24:49.794253Z"
    },
    "papermill": {
     "duration": 0.035845,
     "end_time": "2021-11-16T00:24:49.794747",
     "exception": false,
     "start_time": "2021-11-16T00:24:49.758902",
     "status": "completed"
    },
    "tags": []
   },
   "outputs": [],
   "source": [
    "# #hide_input\n",
    "# fig, ax = plt.subplots(figsize=(15, 8))\n",
    "# animator = animation.FuncAnimation(fig, draw_barchart, frames=range(g.day.values.min(), g.day.values.max()))\n",
    "# HTML(animator.to_jshtml())\n",
    "# # or use animator.to_html5_video() or animator.save() "
   ]
  },
  {
   "cell_type": "code",
   "execution_count": null,
   "id": "australian-container",
   "metadata": {
    "papermill": {
     "duration": 0.031313,
     "end_time": "2021-11-16T00:24:49.857596",
     "exception": false,
     "start_time": "2021-11-16T00:24:49.826283",
     "status": "completed"
    },
    "tags": []
   },
   "outputs": [],
   "source": []
  },
  {
   "cell_type": "code",
   "execution_count": null,
   "id": "mediterranean-pontiac",
   "metadata": {
    "papermill": {
     "duration": 0.031267,
     "end_time": "2021-11-16T00:24:49.920216",
     "exception": false,
     "start_time": "2021-11-16T00:24:49.888949",
     "status": "completed"
    },
    "tags": []
   },
   "outputs": [],
   "source": []
  },
  {
   "cell_type": "code",
   "execution_count": null,
   "id": "aging-legislature",
   "metadata": {
    "papermill": {
     "duration": 0.031258,
     "end_time": "2021-11-16T00:24:49.983173",
     "exception": false,
     "start_time": "2021-11-16T00:24:49.951915",
     "status": "completed"
    },
    "tags": []
   },
   "outputs": [],
   "source": []
  }
 ],
 "metadata": {
  "kernelspec": {
   "display_name": "Python 3",
   "language": "python",
   "name": "python3"
  },
  "language_info": {
   "codemirror_mode": {
    "name": "ipython",
    "version": 3
   },
   "file_extension": ".py",
   "mimetype": "text/x-python",
   "name": "python",
   "nbconvert_exporter": "python",
   "pygments_lexer": "ipython3",
   "version": "3.6.15"
  },
  "papermill": {
   "duration": 9.386303,
   "end_time": "2021-11-16T00:24:50.320522",
   "environment_variables": {},
   "exception": null,
   "input_path": "2020-03-21-covid19exp.ipynb",
   "output_path": "2020-03-21-covid19exp.ipynb",
   "parameters": {},
   "start_time": "2021-11-16T00:24:40.934219",
   "version": "2.0.0"
  }
 },
 "nbformat": 4,
 "nbformat_minor": 5
}