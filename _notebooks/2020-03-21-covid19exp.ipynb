{
 "cells": [
  {
   "cell_type": "markdown",
   "id": "muslim-click",
   "metadata": {
    "papermill": {
     "duration": 0.033225,
     "end_time": "2022-05-02T12:16:18.608239",
     "exception": false,
     "start_time": "2022-05-02T12:16:18.575014",
     "status": "completed"
    },
    "tags": []
   },
   "source": [
    "# COVID-19 Case Race\n",
    "> A race chart to see rising cases around the world\n",
    "\n",
    "- author: Hargun Oberoi\n",
    "- image: images/covid-overview.png\n",
    "- hide: false\n",
    "- badges: false"
   ]
  },
  {
   "cell_type": "code",
   "execution_count": 1,
   "id": "proof-material",
   "metadata": {
    "execution": {
     "iopub.execute_input": "2022-05-02T12:16:18.679564Z",
     "iopub.status.busy": "2022-05-02T12:16:18.679026Z",
     "iopub.status.idle": "2022-05-02T12:16:18.999767Z",
     "shell.execute_reply": "2022-05-02T12:16:18.999227Z"
    },
    "papermill": {
     "duration": 0.360175,
     "end_time": "2022-05-02T12:16:18.999919",
     "exception": false,
     "start_time": "2022-05-02T12:16:18.639744",
     "status": "completed"
    },
    "tags": []
   },
   "outputs": [],
   "source": [
    "#hide\n",
    "import numpy as np\n",
    "import pandas as pd\n",
    "from jinja2 import Template\n",
    "from IPython.display import HTML"
   ]
  },
  {
   "cell_type": "code",
   "execution_count": 2,
   "id": "developed-terminology",
   "metadata": {
    "execution": {
     "iopub.execute_input": "2022-05-02T12:16:19.065348Z",
     "iopub.status.busy": "2022-05-02T12:16:19.064798Z",
     "iopub.status.idle": "2022-05-02T12:16:19.066853Z",
     "shell.execute_reply": "2022-05-02T12:16:19.066419Z"
    },
    "papermill": {
     "duration": 0.0369,
     "end_time": "2022-05-02T12:16:19.066963",
     "exception": false,
     "start_time": "2022-05-02T12:16:19.030063",
     "status": "completed"
    },
    "tags": []
   },
   "outputs": [],
   "source": [
    "#hide\n",
    "\n",
    "# FETCH\n",
    "base_url = 'https://raw.githubusercontent.com/pratapvardhan/notebooks/master/covid19/'\n",
    "paths = {\n",
    "    'mapping': base_url + 'mapping_countries.csv',\n",
    "    'overview': base_url + 'overview.tpl'\n",
    "}"
   ]
  },
  {
   "cell_type": "code",
   "execution_count": 3,
   "id": "dynamic-saver",
   "metadata": {
    "execution": {
     "iopub.execute_input": "2022-05-02T12:16:19.136332Z",
     "iopub.status.busy": "2022-05-02T12:16:19.135798Z",
     "iopub.status.idle": "2022-05-02T12:16:19.138891Z",
     "shell.execute_reply": "2022-05-02T12:16:19.138474Z"
    },
    "papermill": {
     "duration": 0.042445,
     "end_time": "2022-05-02T12:16:19.139004",
     "exception": false,
     "start_time": "2022-05-02T12:16:19.096559",
     "status": "completed"
    },
    "tags": []
   },
   "outputs": [
    {
     "data": {
      "text/plain": [
       "'https://raw.githubusercontent.com/pratapvardhan/notebooks/master/covid19/mapping_countries.csv'"
      ]
     },
     "execution_count": 3,
     "metadata": {},
     "output_type": "execute_result"
    }
   ],
   "source": [
    "#hide\n",
    "paths['mapping']"
   ]
  },
  {
   "cell_type": "code",
   "execution_count": 4,
   "id": "urban-software",
   "metadata": {
    "execution": {
     "iopub.execute_input": "2022-05-02T12:16:19.204486Z",
     "iopub.status.busy": "2022-05-02T12:16:19.203841Z",
     "iopub.status.idle": "2022-05-02T12:16:19.207399Z",
     "shell.execute_reply": "2022-05-02T12:16:19.206958Z"
    },
    "papermill": {
     "duration": 0.03852,
     "end_time": "2022-05-02T12:16:19.207508",
     "exception": false,
     "start_time": "2022-05-02T12:16:19.168988",
     "status": "completed"
    },
    "tags": []
   },
   "outputs": [],
   "source": [
    "#hide\n",
    "def get_mappings(url):\n",
    "    df = pd.read_csv(url)\n",
    "    return {\n",
    "        'df': df,\n",
    "        'replace.country': dict(df.dropna(subset=['Name']).set_index('Country')['Name']),\n",
    "        'map.continent': dict(df.set_index('Name')['Continent'])\n",
    "    }"
   ]
  },
  {
   "cell_type": "code",
   "execution_count": 5,
   "id": "intimate-machinery",
   "metadata": {
    "execution": {
     "iopub.execute_input": "2022-05-02T12:16:19.272606Z",
     "iopub.status.busy": "2022-05-02T12:16:19.272061Z",
     "iopub.status.idle": "2022-05-02T12:16:19.334550Z",
     "shell.execute_reply": "2022-05-02T12:16:19.334045Z"
    },
    "papermill": {
     "duration": 0.097326,
     "end_time": "2022-05-02T12:16:19.334683",
     "exception": false,
     "start_time": "2022-05-02T12:16:19.237357",
     "status": "completed"
    },
    "tags": []
   },
   "outputs": [],
   "source": [
    "#hide\n",
    "mapping = get_mappings(paths['mapping'])"
   ]
  },
  {
   "cell_type": "code",
   "execution_count": 6,
   "id": "certified-tactics",
   "metadata": {
    "execution": {
     "iopub.execute_input": "2022-05-02T12:16:19.400213Z",
     "iopub.status.busy": "2022-05-02T12:16:19.399686Z",
     "iopub.status.idle": "2022-05-02T12:16:19.402157Z",
     "shell.execute_reply": "2022-05-02T12:16:19.401743Z"
    },
    "papermill": {
     "duration": 0.037152,
     "end_time": "2022-05-02T12:16:19.402270",
     "exception": false,
     "start_time": "2022-05-02T12:16:19.365118",
     "status": "completed"
    },
    "tags": []
   },
   "outputs": [],
   "source": [
    "#hide\n",
    "def get_template(path):\n",
    "    from urllib.parse import urlparse\n",
    "    if bool(urlparse(path).netloc):\n",
    "        from urllib.request import urlopen\n",
    "        return urlopen(path).read().decode('utf8')\n",
    "    return open(path).read()"
   ]
  },
  {
   "cell_type": "code",
   "execution_count": 7,
   "id": "realistic-blast",
   "metadata": {
    "execution": {
     "iopub.execute_input": "2022-05-02T12:16:19.466764Z",
     "iopub.status.busy": "2022-05-02T12:16:19.466253Z",
     "iopub.status.idle": "2022-05-02T12:16:19.468368Z",
     "shell.execute_reply": "2022-05-02T12:16:19.468807Z"
    },
    "papermill": {
     "duration": 0.036806,
     "end_time": "2022-05-02T12:16:19.468932",
     "exception": false,
     "start_time": "2022-05-02T12:16:19.432126",
     "status": "completed"
    },
    "tags": []
   },
   "outputs": [],
   "source": [
    "#hide\n",
    "def get_frame(name):\n",
    "    url = (\n",
    "        'https://raw.githubusercontent.com/CSSEGISandData/COVID-19/master/csse_covid_19_data/'\n",
    "        f'csse_covid_19_time_series/time_series_covid19_{name}_global.csv')\n",
    "    df = pd.read_csv(url)\n",
    "    # rename countries\n",
    "    df['Country/Region'] = df['Country/Region'].replace(mapping['replace.country'])\n",
    "    return df"
   ]
  },
  {
   "cell_type": "code",
   "execution_count": 8,
   "id": "affiliated-characterization",
   "metadata": {
    "execution": {
     "iopub.execute_input": "2022-05-02T12:16:19.534338Z",
     "iopub.status.busy": "2022-05-02T12:16:19.533800Z",
     "iopub.status.idle": "2022-05-02T12:16:19.537312Z",
     "shell.execute_reply": "2022-05-02T12:16:19.536904Z"
    },
    "papermill": {
     "duration": 0.038656,
     "end_time": "2022-05-02T12:16:19.537419",
     "exception": false,
     "start_time": "2022-05-02T12:16:19.498763",
     "status": "completed"
    },
    "tags": []
   },
   "outputs": [],
   "source": [
    "#hide\n",
    "def get_dates(df):\n",
    "    dt_cols = df.columns[~df.columns.isin(['Province/State', 'Country/Region', 'Lat', 'Long'])]\n",
    "    LAST_DATE_I = -1\n",
    "    # sometimes last column may be empty, then go backwards\n",
    "    for i in range(-1, -len(dt_cols), -1):\n",
    "        if not df[dt_cols[i]].fillna(0).eq(0).all():\n",
    "            LAST_DATE_I = i\n",
    "            break\n",
    "    return LAST_DATE_I, dt_cols"
   ]
  },
  {
   "cell_type": "code",
   "execution_count": 9,
   "id": "recent-optimization",
   "metadata": {
    "execution": {
     "iopub.execute_input": "2022-05-02T12:16:19.602403Z",
     "iopub.status.busy": "2022-05-02T12:16:19.601856Z",
     "iopub.status.idle": "2022-05-02T12:16:20.205572Z",
     "shell.execute_reply": "2022-05-02T12:16:20.205089Z"
    },
    "papermill": {
     "duration": 0.638434,
     "end_time": "2022-05-02T12:16:20.205687",
     "exception": false,
     "start_time": "2022-05-02T12:16:19.567253",
     "status": "completed"
    },
    "tags": []
   },
   "outputs": [],
   "source": [
    "#hide\n",
    "COL_REGION = 'Country/Region'\n",
    "# Confirmed, Recovered, Deaths\n",
    "df = get_frame('confirmed')\n",
    "# dft_: timeseries, dfc_: today country agg\n",
    "dft_cases = df\n",
    "dft_deaths = get_frame('deaths')\n",
    "dft_recovered = get_frame('recovered')\n",
    "LAST_DATE_I, dt_cols = get_dates(df)"
   ]
  },
  {
   "cell_type": "code",
   "execution_count": 10,
   "id": "absolute-copper",
   "metadata": {
    "execution": {
     "iopub.execute_input": "2022-05-02T12:16:20.271880Z",
     "iopub.status.busy": "2022-05-02T12:16:20.271271Z",
     "iopub.status.idle": "2022-05-02T12:16:20.272815Z",
     "shell.execute_reply": "2022-05-02T12:16:20.273252Z"
    },
    "papermill": {
     "duration": 0.037069,
     "end_time": "2022-05-02T12:16:20.273400",
     "exception": false,
     "start_time": "2022-05-02T12:16:20.236331",
     "status": "completed"
    },
    "tags": []
   },
   "outputs": [],
   "source": [
    "#hide\n",
    "LAST_DATE_I, dt_cols = get_dates(df)\n",
    "dt_today =dt_cols[LAST_DATE_I]\n",
    "# dt_5day = dt_cols[LAST_DATE_I - 5]\n",
    "dt_yday = dt_cols[LAST_DATE_I - 1]"
   ]
  },
  {
   "cell_type": "code",
   "execution_count": 11,
   "id": "restricted-sheriff",
   "metadata": {
    "execution": {
     "iopub.execute_input": "2022-05-02T12:16:20.340887Z",
     "iopub.status.busy": "2022-05-02T12:16:20.340325Z",
     "iopub.status.idle": "2022-05-02T12:16:20.345754Z",
     "shell.execute_reply": "2022-05-02T12:16:20.346188Z"
    },
    "papermill": {
     "duration": 0.042829,
     "end_time": "2022-05-02T12:16:20.346318",
     "exception": false,
     "start_time": "2022-05-02T12:16:20.303489",
     "status": "completed"
    },
    "tags": []
   },
   "outputs": [],
   "source": [
    "#hide\n",
    "dfc_cases = dft_cases.groupby(COL_REGION)[dt_today].sum()\n",
    "dfc_deaths = dft_deaths.groupby(COL_REGION)[dt_today].sum()\n",
    "# dfp_cases = dft_cases.groupby(COL_REGION)[dt_5day].sum()\n",
    "# dfp_deaths = dft_deaths.groupby(COL_REGION)[dt_5day].sum()\n",
    "dfp_cases = dft_cases.groupby(COL_REGION)[dt_yday].sum()\n",
    "dfp_deaths = dft_deaths.groupby(COL_REGION)[dt_yday].sum()"
   ]
  },
  {
   "cell_type": "code",
   "execution_count": 12,
   "id": "deluxe-hepatitis",
   "metadata": {
    "execution": {
     "iopub.execute_input": "2022-05-02T12:16:20.412496Z",
     "iopub.status.busy": "2022-05-02T12:16:20.411939Z",
     "iopub.status.idle": "2022-05-02T12:16:20.415652Z",
     "shell.execute_reply": "2022-05-02T12:16:20.416090Z"
    },
    "papermill": {
     "duration": 0.039973,
     "end_time": "2022-05-02T12:16:20.416223",
     "exception": false,
     "start_time": "2022-05-02T12:16:20.376250",
     "status": "completed"
    },
    "tags": []
   },
   "outputs": [],
   "source": [
    "#hide\n",
    "df_table = (pd.DataFrame(dict(Cases = dfc_cases, Deaths = dfc_deaths, PCases = dfp_cases, PDeaths = dfp_deaths))\n",
    "            .sort_values(by = ['Cases','Deaths'], ascending = [False, False])\n",
    "            .reset_index())"
   ]
  },
  {
   "cell_type": "code",
   "execution_count": 13,
   "id": "educational-chancellor",
   "metadata": {
    "execution": {
     "iopub.execute_input": "2022-05-02T12:16:20.494045Z",
     "iopub.status.busy": "2022-05-02T12:16:20.493488Z",
     "iopub.status.idle": "2022-05-02T12:16:20.500997Z",
     "shell.execute_reply": "2022-05-02T12:16:20.500567Z"
    },
    "papermill": {
     "duration": 0.055076,
     "end_time": "2022-05-02T12:16:20.501113",
     "exception": false,
     "start_time": "2022-05-02T12:16:20.446037",
     "status": "completed"
    },
    "tags": []
   },
   "outputs": [
    {
     "data": {
      "text/html": [
       "<div>\n",
       "<style scoped>\n",
       "    .dataframe tbody tr th:only-of-type {\n",
       "        vertical-align: middle;\n",
       "    }\n",
       "\n",
       "    .dataframe tbody tr th {\n",
       "        vertical-align: top;\n",
       "    }\n",
       "\n",
       "    .dataframe thead th {\n",
       "        text-align: right;\n",
       "    }\n",
       "</style>\n",
       "<table border=\"1\" class=\"dataframe\">\n",
       "  <thead>\n",
       "    <tr style=\"text-align: right;\">\n",
       "      <th></th>\n",
       "      <th>Country/Region</th>\n",
       "      <th>Cases</th>\n",
       "      <th>Deaths</th>\n",
       "      <th>PCases</th>\n",
       "      <th>PDeaths</th>\n",
       "      <th>Cases (+)</th>\n",
       "      <th>Deaths (+)</th>\n",
       "      <th>Fatality Rate</th>\n",
       "      <th>Continent</th>\n",
       "    </tr>\n",
       "  </thead>\n",
       "  <tbody>\n",
       "    <tr>\n",
       "      <th>0</th>\n",
       "      <td>US</td>\n",
       "      <td>81365218</td>\n",
       "      <td>993733</td>\n",
       "      <td>81349065</td>\n",
       "      <td>993712</td>\n",
       "      <td>16153</td>\n",
       "      <td>21</td>\n",
       "      <td>1.22</td>\n",
       "      <td>North America</td>\n",
       "    </tr>\n",
       "    <tr>\n",
       "      <th>1</th>\n",
       "      <td>India</td>\n",
       "      <td>43082345</td>\n",
       "      <td>523869</td>\n",
       "      <td>43079188</td>\n",
       "      <td>523843</td>\n",
       "      <td>3157</td>\n",
       "      <td>26</td>\n",
       "      <td>1.22</td>\n",
       "      <td>Asia</td>\n",
       "    </tr>\n",
       "    <tr>\n",
       "      <th>2</th>\n",
       "      <td>Brazil</td>\n",
       "      <td>30454499</td>\n",
       "      <td>663752</td>\n",
       "      <td>30448236</td>\n",
       "      <td>663736</td>\n",
       "      <td>6263</td>\n",
       "      <td>16</td>\n",
       "      <td>2.18</td>\n",
       "      <td>South America</td>\n",
       "    </tr>\n",
       "    <tr>\n",
       "      <th>3</th>\n",
       "      <td>France</td>\n",
       "      <td>28872621</td>\n",
       "      <td>146999</td>\n",
       "      <td>28835895</td>\n",
       "      <td>146967</td>\n",
       "      <td>36726</td>\n",
       "      <td>32</td>\n",
       "      <td>0.51</td>\n",
       "      <td>Europe</td>\n",
       "    </tr>\n",
       "    <tr>\n",
       "      <th>4</th>\n",
       "      <td>Germany</td>\n",
       "      <td>24813817</td>\n",
       "      <td>135461</td>\n",
       "      <td>24809785</td>\n",
       "      <td>135461</td>\n",
       "      <td>4032</td>\n",
       "      <td>0</td>\n",
       "      <td>0.55</td>\n",
       "      <td>Europe</td>\n",
       "    </tr>\n",
       "  </tbody>\n",
       "</table>\n",
       "</div>"
      ],
      "text/plain": [
       "  Country/Region     Cases  Deaths    PCases  PDeaths  Cases (+)  Deaths (+)  \\\n",
       "0             US  81365218  993733  81349065   993712      16153          21   \n",
       "1          India  43082345  523869  43079188   523843       3157          26   \n",
       "2         Brazil  30454499  663752  30448236   663736       6263          16   \n",
       "3         France  28872621  146999  28835895   146967      36726          32   \n",
       "4        Germany  24813817  135461  24809785   135461       4032           0   \n",
       "\n",
       "   Fatality Rate      Continent  \n",
       "0           1.22  North America  \n",
       "1           1.22           Asia  \n",
       "2           2.18  South America  \n",
       "3           0.51         Europe  \n",
       "4           0.55         Europe  "
      ]
     },
     "execution_count": 13,
     "metadata": {},
     "output_type": "execute_result"
    }
   ],
   "source": [
    "#hide\n",
    "for c in 'Cases, Deaths'.split(', '):\n",
    "    df_table[f'{c} (+)'] = (df_table[c] - df_table[f'P{c}']).clip(0)\n",
    "    #Clip ça veut dire, les chiffres negatif sont interdit\n",
    "df_table['Fatality Rate'] = (100* df_table['Deaths']/ df_table['Cases']).round(2)\n",
    "df_table['Continent'] = df_table['Country/Region'].map(mapping['map.continent'])\n",
    "df_table.head(5)"
   ]
  },
  {
   "cell_type": "code",
   "execution_count": 14,
   "id": "aboriginal-bulgaria",
   "metadata": {
    "execution": {
     "iopub.execute_input": "2022-05-02T12:16:20.567211Z",
     "iopub.status.busy": "2022-05-02T12:16:20.566690Z",
     "iopub.status.idle": "2022-05-02T12:16:20.569374Z",
     "shell.execute_reply": "2022-05-02T12:16:20.569850Z"
    },
    "papermill": {
     "duration": 0.038463,
     "end_time": "2022-05-02T12:16:20.569980",
     "exception": false,
     "start_time": "2022-05-02T12:16:20.531517",
     "status": "completed"
    },
    "tags": []
   },
   "outputs": [],
   "source": [
    "#hide\n",
    "#delete problematic countries from table\n",
    "df_table = df_table[~df_table['Country/Region'].isin(['Cape Verde', 'Cruise Ship', 'Kosovo'])]"
   ]
  },
  {
   "cell_type": "code",
   "execution_count": 15,
   "id": "fantastic-effect",
   "metadata": {
    "execution": {
     "iopub.execute_input": "2022-05-02T12:16:20.638062Z",
     "iopub.status.busy": "2022-05-02T12:16:20.637542Z",
     "iopub.status.idle": "2022-05-02T12:16:20.654517Z",
     "shell.execute_reply": "2022-05-02T12:16:20.654096Z"
    },
    "papermill": {
     "duration": 0.054666,
     "end_time": "2022-05-02T12:16:20.654634",
     "exception": false,
     "start_time": "2022-05-02T12:16:20.599968",
     "status": "completed"
    },
    "tags": []
   },
   "outputs": [
    {
     "data": {
      "text/html": [
       "<div>\n",
       "<style scoped>\n",
       "    .dataframe tbody tr th:only-of-type {\n",
       "        vertical-align: middle;\n",
       "    }\n",
       "\n",
       "    .dataframe tbody tr th {\n",
       "        vertical-align: top;\n",
       "    }\n",
       "\n",
       "    .dataframe thead th {\n",
       "        text-align: right;\n",
       "    }\n",
       "</style>\n",
       "<table border=\"1\" class=\"dataframe\">\n",
       "  <thead>\n",
       "    <tr style=\"text-align: right;\">\n",
       "      <th></th>\n",
       "      <th>Country/Region</th>\n",
       "      <th>Cases</th>\n",
       "      <th>Deaths</th>\n",
       "      <th>PCases</th>\n",
       "      <th>PDeaths</th>\n",
       "      <th>Cases (+)</th>\n",
       "      <th>Deaths (+)</th>\n",
       "      <th>Fatality Rate</th>\n",
       "      <th>Continent</th>\n",
       "    </tr>\n",
       "  </thead>\n",
       "  <tbody>\n",
       "    <tr>\n",
       "      <th>0</th>\n",
       "      <td>US</td>\n",
       "      <td>81365218</td>\n",
       "      <td>993733</td>\n",
       "      <td>81349065</td>\n",
       "      <td>993712</td>\n",
       "      <td>16153</td>\n",
       "      <td>21</td>\n",
       "      <td>1.2</td>\n",
       "      <td>North America</td>\n",
       "    </tr>\n",
       "    <tr>\n",
       "      <th>1</th>\n",
       "      <td>India</td>\n",
       "      <td>43082345</td>\n",
       "      <td>523869</td>\n",
       "      <td>43079188</td>\n",
       "      <td>523843</td>\n",
       "      <td>3157</td>\n",
       "      <td>26</td>\n",
       "      <td>1.2</td>\n",
       "      <td>Asia</td>\n",
       "    </tr>\n",
       "    <tr>\n",
       "      <th>2</th>\n",
       "      <td>Brazil</td>\n",
       "      <td>30454499</td>\n",
       "      <td>663752</td>\n",
       "      <td>30448236</td>\n",
       "      <td>663736</td>\n",
       "      <td>6263</td>\n",
       "      <td>16</td>\n",
       "      <td>2.2</td>\n",
       "      <td>South America</td>\n",
       "    </tr>\n",
       "    <tr>\n",
       "      <th>3</th>\n",
       "      <td>France</td>\n",
       "      <td>28872621</td>\n",
       "      <td>146999</td>\n",
       "      <td>28835895</td>\n",
       "      <td>146967</td>\n",
       "      <td>36726</td>\n",
       "      <td>32</td>\n",
       "      <td>0.5</td>\n",
       "      <td>Europe</td>\n",
       "    </tr>\n",
       "    <tr>\n",
       "      <th>4</th>\n",
       "      <td>Germany</td>\n",
       "      <td>24813817</td>\n",
       "      <td>135461</td>\n",
       "      <td>24809785</td>\n",
       "      <td>135461</td>\n",
       "      <td>4032</td>\n",
       "      <td>0</td>\n",
       "      <td>0.5</td>\n",
       "      <td>Europe</td>\n",
       "    </tr>\n",
       "  </tbody>\n",
       "</table>\n",
       "</div>"
      ],
      "text/plain": [
       "  Country/Region     Cases  Deaths    PCases  PDeaths  Cases (+)  Deaths (+)  \\\n",
       "0             US  81365218  993733  81349065   993712      16153          21   \n",
       "1          India  43082345  523869  43079188   523843       3157          26   \n",
       "2         Brazil  30454499  663752  30448236   663736       6263          16   \n",
       "3         France  28872621  146999  28835895   146967      36726          32   \n",
       "4        Germany  24813817  135461  24809785   135461       4032           0   \n",
       "\n",
       "   Fatality Rate      Continent  \n",
       "0            1.2  North America  \n",
       "1            1.2           Asia  \n",
       "2            2.2  South America  \n",
       "3            0.5         Europe  \n",
       "4            0.5         Europe  "
      ]
     },
     "execution_count": 15,
     "metadata": {},
     "output_type": "execute_result"
    }
   ],
   "source": [
    "#hide\n",
    "df_table = (pd.DataFrame(dict(Cases=dfc_cases, Deaths=dfc_deaths, PCases=dfp_cases, PDeaths=dfp_deaths))\n",
    "             .sort_values(by=['Cases', 'Deaths'], ascending=[False, False])\n",
    "             .reset_index())\n",
    "df_table.rename(columns={'index': 'Country/Region'}, inplace=True)\n",
    "for c in 'Cases, Deaths'.split(', '):\n",
    "    df_table[f'{c} (+)'] = (df_table[c] - df_table[f'P{c}']).clip(0)  # DATA BUG\n",
    "df_table['Fatality Rate'] = (100 * df_table['Deaths'] / df_table['Cases']).round(1)\n",
    "df_table['Continent'] = df_table['Country/Region'].map(mapping['map.continent'])\n",
    "df_table.head(5)"
   ]
  },
  {
   "cell_type": "code",
   "execution_count": 16,
   "id": "fewer-occasion",
   "metadata": {
    "execution": {
     "iopub.execute_input": "2022-05-02T12:16:20.721961Z",
     "iopub.status.busy": "2022-05-02T12:16:20.721447Z",
     "iopub.status.idle": "2022-05-02T12:16:20.723497Z",
     "shell.execute_reply": "2022-05-02T12:16:20.723925Z"
    },
    "papermill": {
     "duration": 0.038528,
     "end_time": "2022-05-02T12:16:20.724053",
     "exception": false,
     "start_time": "2022-05-02T12:16:20.685525",
     "status": "completed"
    },
    "tags": []
   },
   "outputs": [],
   "source": [
    "#hide\n",
    "#delete problematic countries from table\n",
    "df_table = df_table[~df_table['Country/Region'].isin(['Cape Verde', 'Cruise Ship', 'Kosovo'])]"
   ]
  },
  {
   "cell_type": "code",
   "execution_count": 17,
   "id": "related-center",
   "metadata": {
    "execution": {
     "iopub.execute_input": "2022-05-02T12:16:20.803160Z",
     "iopub.status.busy": "2022-05-02T12:16:20.802586Z",
     "iopub.status.idle": "2022-05-02T12:16:20.806218Z",
     "shell.execute_reply": "2022-05-02T12:16:20.805772Z"
    },
    "papermill": {
     "duration": 0.051703,
     "end_time": "2022-05-02T12:16:20.806335",
     "exception": false,
     "start_time": "2022-05-02T12:16:20.754632",
     "status": "completed"
    },
    "tags": []
   },
   "outputs": [],
   "source": [
    "#hide\n",
    "metrics = [df_table.columns[index] for index in [1,2,5,6]]\n",
    "# s_china = df_table[df_table['Country/Region'].eq('China')][metrics].sum().add_prefix('China ')\n",
    "s_us = df_table[df_table['Country/Region'].eq('US')][metrics].sum().add_prefix('US ')\n",
    "s_eu = df_table[df_table['Continent'].eq('Europe')][metrics].sum().add_prefix('EU ')\n",
    "s_ind = df_table[df_table['Country/Region'].eq('India')][metrics].sum().add_prefix('India ')\n",
    "summary = {'updated': pd.to_datetime(dt_today), 'since': pd.to_datetime(dt_yday)}\n",
    "summary = {'updated': pd.to_datetime(dt_today), 'since': pd.to_datetime(dt_yday)}\n",
    "summary = {**summary, **df_table[metrics].sum(), **s_ind, **s_us, **s_eu}"
   ]
  },
  {
   "cell_type": "code",
   "execution_count": 18,
   "id": "engaging-syndrome",
   "metadata": {
    "execution": {
     "iopub.execute_input": "2022-05-02T12:16:20.873574Z",
     "iopub.status.busy": "2022-05-02T12:16:20.873066Z",
     "iopub.status.idle": "2022-05-02T12:16:20.891607Z",
     "shell.execute_reply": "2022-05-02T12:16:20.891117Z"
    },
    "papermill": {
     "duration": 0.054371,
     "end_time": "2022-05-02T12:16:20.891740",
     "exception": false,
     "start_time": "2022-05-02T12:16:20.837369",
     "status": "completed"
    },
    "tags": []
   },
   "outputs": [],
   "source": [
    "#hide\n",
    "dft_ct_new_cases = dft_cases.groupby(COL_REGION)[dt_cols].sum().diff(axis=1).fillna(0).astype(int)"
   ]
  },
  {
   "cell_type": "code",
   "execution_count": 19,
   "id": "neutral-assignment",
   "metadata": {
    "execution": {
     "iopub.execute_input": "2022-05-02T12:16:20.961105Z",
     "iopub.status.busy": "2022-05-02T12:16:20.960560Z",
     "iopub.status.idle": "2022-05-02T12:16:20.963141Z",
     "shell.execute_reply": "2022-05-02T12:16:20.962726Z"
    },
    "papermill": {
     "duration": 0.039554,
     "end_time": "2022-05-02T12:16:20.963253",
     "exception": false,
     "start_time": "2022-05-02T12:16:20.923699",
     "status": "completed"
    },
    "tags": []
   },
   "outputs": [],
   "source": [
    "#hide\n",
    "everydaycases = dft_ct_new_cases.cumsum(axis=1)"
   ]
  },
  {
   "cell_type": "code",
   "execution_count": 20,
   "id": "parliamentary-calgary",
   "metadata": {
    "execution": {
     "iopub.execute_input": "2022-05-02T12:16:21.029555Z",
     "iopub.status.busy": "2022-05-02T12:16:21.029033Z",
     "iopub.status.idle": "2022-05-02T12:16:21.567864Z",
     "shell.execute_reply": "2022-05-02T12:16:21.568335Z"
    },
    "papermill": {
     "duration": 0.574287,
     "end_time": "2022-05-02T12:16:21.568530",
     "exception": false,
     "start_time": "2022-05-02T12:16:20.994243",
     "status": "completed"
    },
    "tags": []
   },
   "outputs": [],
   "source": [
    "#hide\n",
    "import pandas as pd\n",
    "import matplotlib.pyplot as plt\n",
    "import matplotlib.ticker as ticker\n",
    "import matplotlib.animation as animation\n",
    "from IPython.display import HTML"
   ]
  },
  {
   "cell_type": "code",
   "execution_count": 21,
   "id": "lasting-extraction",
   "metadata": {
    "execution": {
     "iopub.execute_input": "2022-05-02T12:16:21.636912Z",
     "iopub.status.busy": "2022-05-02T12:16:21.636373Z",
     "iopub.status.idle": "2022-05-02T12:16:21.642940Z",
     "shell.execute_reply": "2022-05-02T12:16:21.642507Z"
    },
    "papermill": {
     "duration": 0.043312,
     "end_time": "2022-05-02T12:16:21.643051",
     "exception": false,
     "start_time": "2022-05-02T12:16:21.599739",
     "status": "completed"
    },
    "tags": []
   },
   "outputs": [],
   "source": [
    "#hide\n",
    "t = everydaycases.stack()"
   ]
  },
  {
   "cell_type": "code",
   "execution_count": 22,
   "id": "premier-sleeve",
   "metadata": {
    "execution": {
     "iopub.execute_input": "2022-05-02T12:16:21.708891Z",
     "iopub.status.busy": "2022-05-02T12:16:21.708320Z",
     "iopub.status.idle": "2022-05-02T12:16:21.719824Z",
     "shell.execute_reply": "2022-05-02T12:16:21.719408Z"
    },
    "papermill": {
     "duration": 0.046062,
     "end_time": "2022-05-02T12:16:21.719936",
     "exception": false,
     "start_time": "2022-05-02T12:16:21.673874",
     "status": "completed"
    },
    "tags": []
   },
   "outputs": [],
   "source": [
    "#hide\n",
    "g = t.reset_index(['Country/Region'])"
   ]
  },
  {
   "cell_type": "code",
   "execution_count": 23,
   "id": "distributed-pittsburgh",
   "metadata": {
    "execution": {
     "iopub.execute_input": "2022-05-02T12:16:21.785341Z",
     "iopub.status.busy": "2022-05-02T12:16:21.784797Z",
     "iopub.status.idle": "2022-05-02T12:16:21.788560Z",
     "shell.execute_reply": "2022-05-02T12:16:21.788116Z"
    },
    "papermill": {
     "duration": 0.038203,
     "end_time": "2022-05-02T12:16:21.788677",
     "exception": false,
     "start_time": "2022-05-02T12:16:21.750474",
     "status": "completed"
    },
    "tags": []
   },
   "outputs": [],
   "source": [
    "#hide\n",
    "g.index.name = 'date'"
   ]
  },
  {
   "cell_type": "code",
   "execution_count": 24,
   "id": "naked-donor",
   "metadata": {
    "execution": {
     "iopub.execute_input": "2022-05-02T12:16:21.853665Z",
     "iopub.status.busy": "2022-05-02T12:16:21.853077Z",
     "iopub.status.idle": "2022-05-02T12:16:21.855105Z",
     "shell.execute_reply": "2022-05-02T12:16:21.854678Z"
    },
    "papermill": {
     "duration": 0.03592,
     "end_time": "2022-05-02T12:16:21.855211",
     "exception": false,
     "start_time": "2022-05-02T12:16:21.819291",
     "status": "completed"
    },
    "tags": []
   },
   "outputs": [],
   "source": [
    "# #hide\n",
    "# g = g.reset_index(['date'])"
   ]
  },
  {
   "cell_type": "code",
   "execution_count": 25,
   "id": "incomplete-mustang",
   "metadata": {
    "execution": {
     "iopub.execute_input": "2022-05-02T12:16:21.920179Z",
     "iopub.status.busy": "2022-05-02T12:16:21.919568Z",
     "iopub.status.idle": "2022-05-02T12:16:21.921035Z",
     "shell.execute_reply": "2022-05-02T12:16:21.921524Z"
    },
    "papermill": {
     "duration": 0.035838,
     "end_time": "2022-05-02T12:16:21.921664",
     "exception": false,
     "start_time": "2022-05-02T12:16:21.885826",
     "status": "completed"
    },
    "tags": []
   },
   "outputs": [],
   "source": [
    "#hide\n",
    "# g.head()"
   ]
  },
  {
   "cell_type": "code",
   "execution_count": 26,
   "id": "specific-kruger",
   "metadata": {
    "execution": {
     "iopub.execute_input": "2022-05-02T12:16:21.987934Z",
     "iopub.status.busy": "2022-05-02T12:16:21.987389Z",
     "iopub.status.idle": "2022-05-02T12:16:21.990750Z",
     "shell.execute_reply": "2022-05-02T12:16:21.991143Z"
    },
    "papermill": {
     "duration": 0.037811,
     "end_time": "2022-05-02T12:16:21.991282",
     "exception": false,
     "start_time": "2022-05-02T12:16:21.953471",
     "status": "completed"
    },
    "tags": []
   },
   "outputs": [],
   "source": [
    "#hide\n",
    "# g.columns = ['date','country','cases']"
   ]
  },
  {
   "cell_type": "code",
   "execution_count": 27,
   "id": "tender-conversion",
   "metadata": {
    "execution": {
     "iopub.execute_input": "2022-05-02T12:16:22.056523Z",
     "iopub.status.busy": "2022-05-02T12:16:22.055883Z",
     "iopub.status.idle": "2022-05-02T12:16:22.057808Z",
     "shell.execute_reply": "2022-05-02T12:16:22.057305Z"
    },
    "papermill": {
     "duration": 0.035886,
     "end_time": "2022-05-02T12:16:22.057915",
     "exception": false,
     "start_time": "2022-05-02T12:16:22.022029",
     "status": "completed"
    },
    "tags": []
   },
   "outputs": [],
   "source": [
    "#hide\n",
    "# g['continent'] = g.country"
   ]
  },
  {
   "cell_type": "code",
   "execution_count": 28,
   "id": "substantial-wilderness",
   "metadata": {
    "execution": {
     "iopub.execute_input": "2022-05-02T12:16:22.123410Z",
     "iopub.status.busy": "2022-05-02T12:16:22.122801Z",
     "iopub.status.idle": "2022-05-02T12:16:22.124304Z",
     "shell.execute_reply": "2022-05-02T12:16:22.124794Z"
    },
    "papermill": {
     "duration": 0.035985,
     "end_time": "2022-05-02T12:16:22.124936",
     "exception": false,
     "start_time": "2022-05-02T12:16:22.088951",
     "status": "completed"
    },
    "tags": []
   },
   "outputs": [],
   "source": [
    "#hide\n",
    "# cols = list(g.columns.values)"
   ]
  },
  {
   "cell_type": "code",
   "execution_count": 29,
   "id": "solved-farming",
   "metadata": {
    "execution": {
     "iopub.execute_input": "2022-05-02T12:16:22.190513Z",
     "iopub.status.busy": "2022-05-02T12:16:22.189964Z",
     "iopub.status.idle": "2022-05-02T12:16:22.192045Z",
     "shell.execute_reply": "2022-05-02T12:16:22.191628Z"
    },
    "papermill": {
     "duration": 0.036118,
     "end_time": "2022-05-02T12:16:22.192155",
     "exception": false,
     "start_time": "2022-05-02T12:16:22.156037",
     "status": "completed"
    },
    "tags": []
   },
   "outputs": [],
   "source": [
    "#hide\n",
    "# cols.insert(0, cols.pop())"
   ]
  },
  {
   "cell_type": "code",
   "execution_count": 30,
   "id": "executed-adoption",
   "metadata": {
    "execution": {
     "iopub.execute_input": "2022-05-02T12:16:22.257574Z",
     "iopub.status.busy": "2022-05-02T12:16:22.256956Z",
     "iopub.status.idle": "2022-05-02T12:16:22.258456Z",
     "shell.execute_reply": "2022-05-02T12:16:22.258914Z"
    },
    "papermill": {
     "duration": 0.035984,
     "end_time": "2022-05-02T12:16:22.259054",
     "exception": false,
     "start_time": "2022-05-02T12:16:22.223070",
     "status": "completed"
    },
    "tags": []
   },
   "outputs": [],
   "source": [
    "#hide\n",
    "# g = g[cols]"
   ]
  },
  {
   "cell_type": "code",
   "execution_count": 31,
   "id": "subject-dublin",
   "metadata": {
    "execution": {
     "iopub.execute_input": "2022-05-02T12:16:22.324664Z",
     "iopub.status.busy": "2022-05-02T12:16:22.324027Z",
     "iopub.status.idle": "2022-05-02T12:16:22.327274Z",
     "shell.execute_reply": "2022-05-02T12:16:22.326778Z"
    },
    "papermill": {
     "duration": 0.037511,
     "end_time": "2022-05-02T12:16:22.327397",
     "exception": false,
     "start_time": "2022-05-02T12:16:22.289886",
     "status": "completed"
    },
    "tags": []
   },
   "outputs": [],
   "source": [
    "#hide\n",
    "# g['continent'] = g['continent'].map(mapping['map.continent'])"
   ]
  },
  {
   "cell_type": "code",
   "execution_count": 32,
   "id": "freelance-scout",
   "metadata": {
    "execution": {
     "iopub.execute_input": "2022-05-02T12:16:22.393279Z",
     "iopub.status.busy": "2022-05-02T12:16:22.392719Z",
     "iopub.status.idle": "2022-05-02T12:16:22.394798Z",
     "shell.execute_reply": "2022-05-02T12:16:22.394362Z"
    },
    "papermill": {
     "duration": 0.036119,
     "end_time": "2022-05-02T12:16:22.394908",
     "exception": false,
     "start_time": "2022-05-02T12:16:22.358789",
     "status": "completed"
    },
    "tags": []
   },
   "outputs": [],
   "source": [
    "#hide\n",
    "# g.head()"
   ]
  },
  {
   "cell_type": "code",
   "execution_count": 33,
   "id": "limited-engine",
   "metadata": {
    "execution": {
     "iopub.execute_input": "2022-05-02T12:16:22.460139Z",
     "iopub.status.busy": "2022-05-02T12:16:22.459527Z",
     "iopub.status.idle": "2022-05-02T12:16:22.461031Z",
     "shell.execute_reply": "2022-05-02T12:16:22.461573Z"
    },
    "papermill": {
     "duration": 0.036039,
     "end_time": "2022-05-02T12:16:22.461723",
     "exception": false,
     "start_time": "2022-05-02T12:16:22.425684",
     "status": "completed"
    },
    "tags": []
   },
   "outputs": [],
   "source": [
    "# hide\n",
    "# g['date'] = g['date'].astype('datetime64[ns]')"
   ]
  },
  {
   "cell_type": "code",
   "execution_count": 34,
   "id": "sophisticated-supervisor",
   "metadata": {
    "execution": {
     "iopub.execute_input": "2022-05-02T12:16:22.527638Z",
     "iopub.status.busy": "2022-05-02T12:16:22.527026Z",
     "iopub.status.idle": "2022-05-02T12:16:22.528458Z",
     "shell.execute_reply": "2022-05-02T12:16:22.528953Z"
    },
    "papermill": {
     "duration": 0.036156,
     "end_time": "2022-05-02T12:16:22.529092",
     "exception": false,
     "start_time": "2022-05-02T12:16:22.492936",
     "status": "completed"
    },
    "tags": []
   },
   "outputs": [],
   "source": [
    "#hide\n",
    "# g['date'] = g.date.dt.dayofyear"
   ]
  },
  {
   "cell_type": "code",
   "execution_count": 35,
   "id": "inside-dubai",
   "metadata": {
    "execution": {
     "iopub.execute_input": "2022-05-02T12:16:22.595175Z",
     "iopub.status.busy": "2022-05-02T12:16:22.594536Z",
     "iopub.status.idle": "2022-05-02T12:16:22.596056Z",
     "shell.execute_reply": "2022-05-02T12:16:22.596488Z"
    },
    "papermill": {
     "duration": 0.03612,
     "end_time": "2022-05-02T12:16:22.596622",
     "exception": false,
     "start_time": "2022-05-02T12:16:22.560502",
     "status": "completed"
    },
    "tags": []
   },
   "outputs": [],
   "source": [
    "#hide\n",
    "# g = g.rename(columns= {'continent':'group','country':'name','cases':'value'})"
   ]
  },
  {
   "cell_type": "code",
   "execution_count": 36,
   "id": "fleet-motorcycle",
   "metadata": {
    "execution": {
     "iopub.execute_input": "2022-05-02T12:16:22.661775Z",
     "iopub.status.busy": "2022-05-02T12:16:22.661170Z",
     "iopub.status.idle": "2022-05-02T12:16:22.662640Z",
     "shell.execute_reply": "2022-05-02T12:16:22.663100Z"
    },
    "papermill": {
     "duration": 0.035784,
     "end_time": "2022-05-02T12:16:22.663238",
     "exception": false,
     "start_time": "2022-05-02T12:16:22.627454",
     "status": "completed"
    },
    "tags": []
   },
   "outputs": [],
   "source": [
    "#hide\n",
    "# cols = ['name','group','day','value']"
   ]
  },
  {
   "cell_type": "code",
   "execution_count": 37,
   "id": "continued-sleeping",
   "metadata": {
    "execution": {
     "iopub.execute_input": "2022-05-02T12:16:22.729055Z",
     "iopub.status.busy": "2022-05-02T12:16:22.728507Z",
     "iopub.status.idle": "2022-05-02T12:16:22.731124Z",
     "shell.execute_reply": "2022-05-02T12:16:22.730715Z"
    },
    "papermill": {
     "duration": 0.03683,
     "end_time": "2022-05-02T12:16:22.731236",
     "exception": false,
     "start_time": "2022-05-02T12:16:22.694406",
     "status": "completed"
    },
    "tags": []
   },
   "outputs": [],
   "source": [
    "#hide\n",
    "# g.rename(columns= {'date':'day'},inplace = True)"
   ]
  },
  {
   "cell_type": "code",
   "execution_count": 38,
   "id": "major-fight",
   "metadata": {
    "execution": {
     "iopub.execute_input": "2022-05-02T12:16:22.796617Z",
     "iopub.status.busy": "2022-05-02T12:16:22.795971Z",
     "iopub.status.idle": "2022-05-02T12:16:22.797499Z",
     "shell.execute_reply": "2022-05-02T12:16:22.797971Z"
    },
    "papermill": {
     "duration": 0.036016,
     "end_time": "2022-05-02T12:16:22.798116",
     "exception": false,
     "start_time": "2022-05-02T12:16:22.762100",
     "status": "completed"
    },
    "tags": []
   },
   "outputs": [],
   "source": [
    "#hide\n",
    "# g = g[cols]"
   ]
  },
  {
   "cell_type": "code",
   "execution_count": 39,
   "id": "structured-mobile",
   "metadata": {
    "execution": {
     "iopub.execute_input": "2022-05-02T12:16:22.863318Z",
     "iopub.status.busy": "2022-05-02T12:16:22.862717Z",
     "iopub.status.idle": "2022-05-02T12:16:22.864189Z",
     "shell.execute_reply": "2022-05-02T12:16:22.864681Z"
    },
    "papermill": {
     "duration": 0.035891,
     "end_time": "2022-05-02T12:16:22.864829",
     "exception": false,
     "start_time": "2022-05-02T12:16:22.828938",
     "status": "completed"
    },
    "tags": []
   },
   "outputs": [],
   "source": [
    "# #hide\n",
    "# g = g[g.group.notna()]"
   ]
  },
  {
   "cell_type": "code",
   "execution_count": 40,
   "id": "determined-closing",
   "metadata": {
    "execution": {
     "iopub.execute_input": "2022-05-02T12:16:22.931252Z",
     "iopub.status.busy": "2022-05-02T12:16:22.930614Z",
     "iopub.status.idle": "2022-05-02T12:16:22.934386Z",
     "shell.execute_reply": "2022-05-02T12:16:22.933969Z"
    },
    "papermill": {
     "duration": 0.038126,
     "end_time": "2022-05-02T12:16:22.934497",
     "exception": false,
     "start_time": "2022-05-02T12:16:22.896371",
     "status": "completed"
    },
    "tags": []
   },
   "outputs": [],
   "source": [
    "# #hide\n",
    "# colors = dict(zip(\n",
    "#     [\"Oceania\", \"Europe\", \"Asia\", \"South America\", \"Middle East\", \"North America\", \"Africa\"],\n",
    "#     [\"#adb0ff\", \"#ffb3ff\", \"#90d595\", \"#e48381\", \"#aafbff\", \"#f7bb5f\", \"#eafb50\"]\n",
    "# ))\n",
    "# group_lk = g.set_index('name')['group'].to_dict()"
   ]
  },
  {
   "cell_type": "code",
   "execution_count": null,
   "id": "gross-drinking",
   "metadata": {
    "papermill": {
     "duration": 0.03073,
     "end_time": "2022-05-02T12:16:22.996599",
     "exception": false,
     "start_time": "2022-05-02T12:16:22.965869",
     "status": "completed"
    },
    "tags": []
   },
   "outputs": [],
   "source": []
  },
  {
   "cell_type": "code",
   "execution_count": 41,
   "id": "subject-macintosh",
   "metadata": {
    "execution": {
     "iopub.execute_input": "2022-05-02T12:16:23.062685Z",
     "iopub.status.busy": "2022-05-02T12:16:23.062058Z",
     "iopub.status.idle": "2022-05-02T12:16:23.064112Z",
     "shell.execute_reply": "2022-05-02T12:16:23.063531Z"
    },
    "papermill": {
     "duration": 0.036735,
     "end_time": "2022-05-02T12:16:23.064236",
     "exception": false,
     "start_time": "2022-05-02T12:16:23.027501",
     "status": "completed"
    },
    "tags": []
   },
   "outputs": [],
   "source": [
    "# #hide\n",
    "# fig, ax = plt.subplots(figsize=(15, 8))\n",
    "\n",
    "# def draw_barchart(current_day):\n",
    "#     dff = g[g['day'].eq(current_day)].sort_values(by='value', ascending=True).tail(10)\n",
    "#     ax.clear()\n",
    "#     ax.barh(dff['name'], dff['value'], color=[colors[group_lk[x]] for x in dff['name']])\n",
    "#     dx = dff['value'].max() / 200\n",
    "    \n",
    "#     for i, (value, name) in enumerate(zip(dff['value'], dff['name'])):\n",
    "#         ax.text(value-dx, i,     name,           size=14, weight=600, ha='right', va='bottom')\n",
    "#         ax.text(value-dx, i-.25, group_lk[name], size=10, color='#444444', ha='right', va='baseline')\n",
    "#         ax.text(value+dx, i,     f'{value:,.0f}',  size=14, ha='left',  va='center')\n",
    "#     ax.text(1, 0.4, current_day, transform=ax.transAxes, color='#777777', size=46, ha='right', weight=800)\n",
    "#     ax.text(0, 1.06, 'Population (thousands)', transform=ax.transAxes, size=12, color='#777777')\n",
    "#     ax.xaxis.set_major_formatter(ticker.StrMethodFormatter('{x:,.0f}'))\n",
    "#     ax.xaxis.set_ticks_position('top')\n",
    "#     ax.tick_params(axis='x', colors='#777777', labelsize=12)\n",
    "#     ax.set_yticks([])\n",
    "#     ax.margins(0, 0.01)\n",
    "#     ax.grid(which='major', axis='x', linestyle='-')\n",
    "#     ax.set_axisbelow(True)\n",
    "    \n",
    "#     ax.text(0, 1.15, 'Coronavirus',\n",
    "#             transform=ax.transAxes, size=24, weight=600, ha='left', va='top')\n",
    "# #     ax.text(1, 0, 'by @pratapvardhan; credit @jburnmurdoch', transform=ax.transAxes, color='#777777', ha='right',\n",
    "# #             bbox=dict(facecolor='white', alpha=0.8, edgecolor='white'))\n",
    "#     plt.box(False)"
   ]
  },
  {
   "cell_type": "code",
   "execution_count": 42,
   "id": "sexual-wages",
   "metadata": {
    "execution": {
     "iopub.execute_input": "2022-05-02T12:16:23.131013Z",
     "iopub.status.busy": "2022-05-02T12:16:23.130406Z",
     "iopub.status.idle": "2022-05-02T12:16:23.133710Z",
     "shell.execute_reply": "2022-05-02T12:16:23.134152Z"
    },
    "papermill": {
     "duration": 0.039364,
     "end_time": "2022-05-02T12:16:23.134294",
     "exception": false,
     "start_time": "2022-05-02T12:16:23.094930",
     "status": "completed"
    },
    "tags": []
   },
   "outputs": [],
   "source": [
    "# #hide_input\n",
    "# fig, ax = plt.subplots(figsize=(15, 8))\n",
    "# animator = animation.FuncAnimation(fig, draw_barchart, frames=range(g.day.values.min(), g.day.values.max()))\n",
    "# HTML(animator.to_jshtml())\n",
    "# # or use animator.to_html5_video() or animator.save() "
   ]
  },
  {
   "cell_type": "code",
   "execution_count": null,
   "id": "australian-container",
   "metadata": {
    "papermill": {
     "duration": 0.03049,
     "end_time": "2022-05-02T12:16:23.195784",
     "exception": false,
     "start_time": "2022-05-02T12:16:23.165294",
     "status": "completed"
    },
    "tags": []
   },
   "outputs": [],
   "source": []
  },
  {
   "cell_type": "code",
   "execution_count": null,
   "id": "mediterranean-pontiac",
   "metadata": {
    "papermill": {
     "duration": 0.030667,
     "end_time": "2022-05-02T12:16:23.257627",
     "exception": false,
     "start_time": "2022-05-02T12:16:23.226960",
     "status": "completed"
    },
    "tags": []
   },
   "outputs": [],
   "source": []
  },
  {
   "cell_type": "code",
   "execution_count": null,
   "id": "aging-legislature",
   "metadata": {
    "papermill": {
     "duration": 0.030554,
     "end_time": "2022-05-02T12:16:23.318870",
     "exception": false,
     "start_time": "2022-05-02T12:16:23.288316",
     "status": "completed"
    },
    "tags": []
   },
   "outputs": [],
   "source": []
  }
 ],
 "metadata": {
  "kernelspec": {
   "display_name": "Python 3",
   "language": "python",
   "name": "python3"
  },
  "language_info": {
   "codemirror_mode": {
    "name": "ipython",
    "version": 3
   },
   "file_extension": ".py",
   "mimetype": "text/x-python",
   "name": "python",
   "nbconvert_exporter": "python",
   "pygments_lexer": "ipython3",
   "version": "3.6.15"
  },
  "papermill": {
   "duration": 6.135237,
   "end_time": "2022-05-02T12:16:23.767941",
   "environment_variables": {},
   "exception": null,
   "input_path": "2020-03-21-covid19exp.ipynb",
   "output_path": "2020-03-21-covid19exp.ipynb",
   "parameters": {},
   "start_time": "2022-05-02T12:16:17.632704",
   "version": "2.0.0"
  }
 },
 "nbformat": 4,
 "nbformat_minor": 5
}