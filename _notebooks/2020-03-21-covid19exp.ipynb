{
 "cells": [
  {
   "cell_type": "markdown",
   "id": "muslim-click",
   "metadata": {
    "papermill": {
     "duration": 0.043604,
     "end_time": "2022-10-10T01:00:01.304510",
     "exception": false,
     "start_time": "2022-10-10T01:00:01.260906",
     "status": "completed"
    },
    "tags": []
   },
   "source": [
    "# COVID-19 Case Race\n",
    "> A race chart to see rising cases around the world\n",
    "\n",
    "- author: Hargun Oberoi\n",
    "- image: images/covid-overview.png\n",
    "- hide: false\n",
    "- badges: false"
   ]
  },
  {
   "cell_type": "code",
   "execution_count": 1,
   "id": "proof-material",
   "metadata": {
    "execution": {
     "iopub.execute_input": "2022-10-10T01:00:01.395569Z",
     "iopub.status.busy": "2022-10-10T01:00:01.394219Z",
     "iopub.status.idle": "2022-10-10T01:00:01.850982Z",
     "shell.execute_reply": "2022-10-10T01:00:01.851586Z"
    },
    "papermill": {
     "duration": 0.508265,
     "end_time": "2022-10-10T01:00:01.851783",
     "exception": false,
     "start_time": "2022-10-10T01:00:01.343518",
     "status": "completed"
    },
    "tags": []
   },
   "outputs": [],
   "source": [
    "#hide\n",
    "import numpy as np\n",
    "import pandas as pd\n",
    "from jinja2 import Template\n",
    "from IPython.display import HTML"
   ]
  },
  {
   "cell_type": "code",
   "execution_count": 2,
   "id": "developed-terminology",
   "metadata": {
    "execution": {
     "iopub.execute_input": "2022-10-10T01:00:01.936838Z",
     "iopub.status.busy": "2022-10-10T01:00:01.936174Z",
     "iopub.status.idle": "2022-10-10T01:00:01.938844Z",
     "shell.execute_reply": "2022-10-10T01:00:01.939383Z"
    },
    "papermill": {
     "duration": 0.049258,
     "end_time": "2022-10-10T01:00:01.939524",
     "exception": false,
     "start_time": "2022-10-10T01:00:01.890266",
     "status": "completed"
    },
    "tags": []
   },
   "outputs": [],
   "source": [
    "#hide\n",
    "\n",
    "# FETCH\n",
    "base_url = 'https://raw.githubusercontent.com/pratapvardhan/notebooks/master/covid19/'\n",
    "paths = {\n",
    "    'mapping': base_url + 'mapping_countries.csv',\n",
    "    'overview': base_url + 'overview.tpl'\n",
    "}"
   ]
  },
  {
   "cell_type": "code",
   "execution_count": 3,
   "id": "dynamic-saver",
   "metadata": {
    "execution": {
     "iopub.execute_input": "2022-10-10T01:00:02.021627Z",
     "iopub.status.busy": "2022-10-10T01:00:02.020786Z",
     "iopub.status.idle": "2022-10-10T01:00:02.025029Z",
     "shell.execute_reply": "2022-10-10T01:00:02.024364Z"
    },
    "papermill": {
     "duration": 0.050714,
     "end_time": "2022-10-10T01:00:02.025176",
     "exception": false,
     "start_time": "2022-10-10T01:00:01.974462",
     "status": "completed"
    },
    "tags": []
   },
   "outputs": [
    {
     "data": {
      "text/plain": [
       "'https://raw.githubusercontent.com/pratapvardhan/notebooks/master/covid19/mapping_countries.csv'"
      ]
     },
     "execution_count": 3,
     "metadata": {},
     "output_type": "execute_result"
    }
   ],
   "source": [
    "#hide\n",
    "paths['mapping']"
   ]
  },
  {
   "cell_type": "code",
   "execution_count": 4,
   "id": "urban-software",
   "metadata": {
    "execution": {
     "iopub.execute_input": "2022-10-10T01:00:02.110144Z",
     "iopub.status.busy": "2022-10-10T01:00:02.109225Z",
     "iopub.status.idle": "2022-10-10T01:00:02.112288Z",
     "shell.execute_reply": "2022-10-10T01:00:02.113157Z"
    },
    "papermill": {
     "duration": 0.048715,
     "end_time": "2022-10-10T01:00:02.113321",
     "exception": false,
     "start_time": "2022-10-10T01:00:02.064606",
     "status": "completed"
    },
    "tags": []
   },
   "outputs": [],
   "source": [
    "#hide\n",
    "def get_mappings(url):\n",
    "    df = pd.read_csv(url)\n",
    "    return {\n",
    "        'df': df,\n",
    "        'replace.country': dict(df.dropna(subset=['Name']).set_index('Country')['Name']),\n",
    "        'map.continent': dict(df.set_index('Name')['Continent'])\n",
    "    }"
   ]
  },
  {
   "cell_type": "code",
   "execution_count": 5,
   "id": "intimate-machinery",
   "metadata": {
    "execution": {
     "iopub.execute_input": "2022-10-10T01:00:02.196246Z",
     "iopub.status.busy": "2022-10-10T01:00:02.195505Z",
     "iopub.status.idle": "2022-10-10T01:00:02.355100Z",
     "shell.execute_reply": "2022-10-10T01:00:02.354555Z"
    },
    "papermill": {
     "duration": 0.204589,
     "end_time": "2022-10-10T01:00:02.355237",
     "exception": false,
     "start_time": "2022-10-10T01:00:02.150648",
     "status": "completed"
    },
    "tags": []
   },
   "outputs": [],
   "source": [
    "#hide\n",
    "mapping = get_mappings(paths['mapping'])"
   ]
  },
  {
   "cell_type": "code",
   "execution_count": 6,
   "id": "certified-tactics",
   "metadata": {
    "execution": {
     "iopub.execute_input": "2022-10-10T01:00:02.438360Z",
     "iopub.status.busy": "2022-10-10T01:00:02.437285Z",
     "iopub.status.idle": "2022-10-10T01:00:02.439341Z",
     "shell.execute_reply": "2022-10-10T01:00:02.440068Z"
    },
    "papermill": {
     "duration": 0.050816,
     "end_time": "2022-10-10T01:00:02.440209",
     "exception": false,
     "start_time": "2022-10-10T01:00:02.389393",
     "status": "completed"
    },
    "tags": []
   },
   "outputs": [],
   "source": [
    "#hide\n",
    "def get_template(path):\n",
    "    from urllib.parse import urlparse\n",
    "    if bool(urlparse(path).netloc):\n",
    "        from urllib.request import urlopen\n",
    "        return urlopen(path).read().decode('utf8')\n",
    "    return open(path).read()"
   ]
  },
  {
   "cell_type": "code",
   "execution_count": 7,
   "id": "realistic-blast",
   "metadata": {
    "execution": {
     "iopub.execute_input": "2022-10-10T01:00:02.517342Z",
     "iopub.status.busy": "2022-10-10T01:00:02.516604Z",
     "iopub.status.idle": "2022-10-10T01:00:02.518327Z",
     "shell.execute_reply": "2022-10-10T01:00:02.518965Z"
    },
    "papermill": {
     "duration": 0.040935,
     "end_time": "2022-10-10T01:00:02.519090",
     "exception": false,
     "start_time": "2022-10-10T01:00:02.478155",
     "status": "completed"
    },
    "tags": []
   },
   "outputs": [],
   "source": [
    "#hide\n",
    "def get_frame(name):\n",
    "    url = (\n",
    "        'https://raw.githubusercontent.com/CSSEGISandData/COVID-19/master/csse_covid_19_data/'\n",
    "        f'csse_covid_19_time_series/time_series_covid19_{name}_global.csv')\n",
    "    df = pd.read_csv(url)\n",
    "    # rename countries\n",
    "    df['Country/Region'] = df['Country/Region'].replace(mapping['replace.country'])\n",
    "    return df"
   ]
  },
  {
   "cell_type": "code",
   "execution_count": 8,
   "id": "affiliated-characterization",
   "metadata": {
    "execution": {
     "iopub.execute_input": "2022-10-10T01:00:02.596874Z",
     "iopub.status.busy": "2022-10-10T01:00:02.596017Z",
     "iopub.status.idle": "2022-10-10T01:00:02.600794Z",
     "shell.execute_reply": "2022-10-10T01:00:02.600291Z"
    },
    "papermill": {
     "duration": 0.047763,
     "end_time": "2022-10-10T01:00:02.600912",
     "exception": false,
     "start_time": "2022-10-10T01:00:02.553149",
     "status": "completed"
    },
    "tags": []
   },
   "outputs": [],
   "source": [
    "#hide\n",
    "def get_dates(df):\n",
    "    dt_cols = df.columns[~df.columns.isin(['Province/State', 'Country/Region', 'Lat', 'Long'])]\n",
    "    LAST_DATE_I = -1\n",
    "    # sometimes last column may be empty, then go backwards\n",
    "    for i in range(-1, -len(dt_cols), -1):\n",
    "        if not df[dt_cols[i]].fillna(0).eq(0).all():\n",
    "            LAST_DATE_I = i\n",
    "            break\n",
    "    return LAST_DATE_I, dt_cols"
   ]
  },
  {
   "cell_type": "code",
   "execution_count": 9,
   "id": "recent-optimization",
   "metadata": {
    "execution": {
     "iopub.execute_input": "2022-10-10T01:00:02.676368Z",
     "iopub.status.busy": "2022-10-10T01:00:02.675655Z",
     "iopub.status.idle": "2022-10-10T01:00:03.192616Z",
     "shell.execute_reply": "2022-10-10T01:00:03.192030Z"
    },
    "papermill": {
     "duration": 0.556233,
     "end_time": "2022-10-10T01:00:03.192753",
     "exception": false,
     "start_time": "2022-10-10T01:00:02.636520",
     "status": "completed"
    },
    "tags": []
   },
   "outputs": [],
   "source": [
    "#hide\n",
    "COL_REGION = 'Country/Region'\n",
    "# Confirmed, Recovered, Deaths\n",
    "df = get_frame('confirmed')\n",
    "# dft_: timeseries, dfc_: today country agg\n",
    "dft_cases = df\n",
    "dft_deaths = get_frame('deaths')\n",
    "dft_recovered = get_frame('recovered')\n",
    "LAST_DATE_I, dt_cols = get_dates(df)"
   ]
  },
  {
   "cell_type": "code",
   "execution_count": 10,
   "id": "absolute-copper",
   "metadata": {
    "execution": {
     "iopub.execute_input": "2022-10-10T01:00:03.278272Z",
     "iopub.status.busy": "2022-10-10T01:00:03.277407Z",
     "iopub.status.idle": "2022-10-10T01:00:03.281643Z",
     "shell.execute_reply": "2022-10-10T01:00:03.281059Z"
    },
    "papermill": {
     "duration": 0.052017,
     "end_time": "2022-10-10T01:00:03.281792",
     "exception": false,
     "start_time": "2022-10-10T01:00:03.229775",
     "status": "completed"
    },
    "tags": []
   },
   "outputs": [],
   "source": [
    "#hide\n",
    "LAST_DATE_I, dt_cols = get_dates(df)\n",
    "dt_today =dt_cols[LAST_DATE_I]\n",
    "# dt_5day = dt_cols[LAST_DATE_I - 5]\n",
    "dt_yday = dt_cols[LAST_DATE_I - 1]"
   ]
  },
  {
   "cell_type": "code",
   "execution_count": 11,
   "id": "restricted-sheriff",
   "metadata": {
    "execution": {
     "iopub.execute_input": "2022-10-10T01:00:03.360558Z",
     "iopub.status.busy": "2022-10-10T01:00:03.356283Z",
     "iopub.status.idle": "2022-10-10T01:00:03.367838Z",
     "shell.execute_reply": "2022-10-10T01:00:03.367226Z"
    },
    "papermill": {
     "duration": 0.051257,
     "end_time": "2022-10-10T01:00:03.367996",
     "exception": false,
     "start_time": "2022-10-10T01:00:03.316739",
     "status": "completed"
    },
    "tags": []
   },
   "outputs": [],
   "source": [
    "#hide\n",
    "dfc_cases = dft_cases.groupby(COL_REGION)[dt_today].sum()\n",
    "dfc_deaths = dft_deaths.groupby(COL_REGION)[dt_today].sum()\n",
    "# dfp_cases = dft_cases.groupby(COL_REGION)[dt_5day].sum()\n",
    "# dfp_deaths = dft_deaths.groupby(COL_REGION)[dt_5day].sum()\n",
    "dfp_cases = dft_cases.groupby(COL_REGION)[dt_yday].sum()\n",
    "dfp_deaths = dft_deaths.groupby(COL_REGION)[dt_yday].sum()"
   ]
  },
  {
   "cell_type": "code",
   "execution_count": 12,
   "id": "deluxe-hepatitis",
   "metadata": {
    "execution": {
     "iopub.execute_input": "2022-10-10T01:00:03.443358Z",
     "iopub.status.busy": "2022-10-10T01:00:03.442687Z",
     "iopub.status.idle": "2022-10-10T01:00:03.448997Z",
     "shell.execute_reply": "2022-10-10T01:00:03.448369Z"
    },
    "papermill": {
     "duration": 0.044969,
     "end_time": "2022-10-10T01:00:03.449118",
     "exception": false,
     "start_time": "2022-10-10T01:00:03.404149",
     "status": "completed"
    },
    "tags": []
   },
   "outputs": [],
   "source": [
    "#hide\n",
    "df_table = (pd.DataFrame(dict(Cases = dfc_cases, Deaths = dfc_deaths, PCases = dfp_cases, PDeaths = dfp_deaths))\n",
    "            .sort_values(by = ['Cases','Deaths'], ascending = [False, False])\n",
    "            .reset_index())"
   ]
  },
  {
   "cell_type": "code",
   "execution_count": 13,
   "id": "educational-chancellor",
   "metadata": {
    "execution": {
     "iopub.execute_input": "2022-10-10T01:00:03.537480Z",
     "iopub.status.busy": "2022-10-10T01:00:03.536668Z",
     "iopub.status.idle": "2022-10-10T01:00:03.546973Z",
     "shell.execute_reply": "2022-10-10T01:00:03.546403Z"
    },
    "papermill": {
     "duration": 0.062076,
     "end_time": "2022-10-10T01:00:03.547197",
     "exception": false,
     "start_time": "2022-10-10T01:00:03.485121",
     "status": "completed"
    },
    "tags": []
   },
   "outputs": [
    {
     "data": {
      "text/html": [
       "<div>\n",
       "<style scoped>\n",
       "    .dataframe tbody tr th:only-of-type {\n",
       "        vertical-align: middle;\n",
       "    }\n",
       "\n",
       "    .dataframe tbody tr th {\n",
       "        vertical-align: top;\n",
       "    }\n",
       "\n",
       "    .dataframe thead th {\n",
       "        text-align: right;\n",
       "    }\n",
       "</style>\n",
       "<table border=\"1\" class=\"dataframe\">\n",
       "  <thead>\n",
       "    <tr style=\"text-align: right;\">\n",
       "      <th></th>\n",
       "      <th>Country/Region</th>\n",
       "      <th>Cases</th>\n",
       "      <th>Deaths</th>\n",
       "      <th>PCases</th>\n",
       "      <th>PDeaths</th>\n",
       "      <th>Cases (+)</th>\n",
       "      <th>Deaths (+)</th>\n",
       "      <th>Fatality Rate</th>\n",
       "      <th>Continent</th>\n",
       "    </tr>\n",
       "  </thead>\n",
       "  <tbody>\n",
       "    <tr>\n",
       "      <th>0</th>\n",
       "      <td>US</td>\n",
       "      <td>96694214</td>\n",
       "      <td>1062560</td>\n",
       "      <td>96686904</td>\n",
       "      <td>1062513</td>\n",
       "      <td>7310</td>\n",
       "      <td>47</td>\n",
       "      <td>1.10</td>\n",
       "      <td>North America</td>\n",
       "    </tr>\n",
       "    <tr>\n",
       "      <th>1</th>\n",
       "      <td>India</td>\n",
       "      <td>44612013</td>\n",
       "      <td>528799</td>\n",
       "      <td>44609257</td>\n",
       "      <td>528778</td>\n",
       "      <td>2756</td>\n",
       "      <td>21</td>\n",
       "      <td>1.19</td>\n",
       "      <td>Asia</td>\n",
       "    </tr>\n",
       "    <tr>\n",
       "      <th>2</th>\n",
       "      <td>France</td>\n",
       "      <td>35983605</td>\n",
       "      <td>156462</td>\n",
       "      <td>35983605</td>\n",
       "      <td>156462</td>\n",
       "      <td>0</td>\n",
       "      <td>0</td>\n",
       "      <td>0.43</td>\n",
       "      <td>Europe</td>\n",
       "    </tr>\n",
       "    <tr>\n",
       "      <th>3</th>\n",
       "      <td>Brazil</td>\n",
       "      <td>34707233</td>\n",
       "      <td>686706</td>\n",
       "      <td>34707233</td>\n",
       "      <td>686706</td>\n",
       "      <td>0</td>\n",
       "      <td>0</td>\n",
       "      <td>1.98</td>\n",
       "      <td>South America</td>\n",
       "    </tr>\n",
       "    <tr>\n",
       "      <th>4</th>\n",
       "      <td>Germany</td>\n",
       "      <td>33948632</td>\n",
       "      <td>150535</td>\n",
       "      <td>33948632</td>\n",
       "      <td>150535</td>\n",
       "      <td>0</td>\n",
       "      <td>0</td>\n",
       "      <td>0.44</td>\n",
       "      <td>Europe</td>\n",
       "    </tr>\n",
       "  </tbody>\n",
       "</table>\n",
       "</div>"
      ],
      "text/plain": [
       "  Country/Region     Cases   Deaths    PCases  PDeaths  Cases (+)  Deaths (+)  \\\n",
       "0             US  96694214  1062560  96686904  1062513       7310          47   \n",
       "1          India  44612013   528799  44609257   528778       2756          21   \n",
       "2         France  35983605   156462  35983605   156462          0           0   \n",
       "3         Brazil  34707233   686706  34707233   686706          0           0   \n",
       "4        Germany  33948632   150535  33948632   150535          0           0   \n",
       "\n",
       "   Fatality Rate      Continent  \n",
       "0           1.10  North America  \n",
       "1           1.19           Asia  \n",
       "2           0.43         Europe  \n",
       "3           1.98  South America  \n",
       "4           0.44         Europe  "
      ]
     },
     "execution_count": 13,
     "metadata": {},
     "output_type": "execute_result"
    }
   ],
   "source": [
    "#hide\n",
    "for c in 'Cases, Deaths'.split(', '):\n",
    "    df_table[f'{c} (+)'] = (df_table[c] - df_table[f'P{c}']).clip(0)\n",
    "    #Clip ça veut dire, les chiffres negatif sont interdit\n",
    "df_table['Fatality Rate'] = (100* df_table['Deaths']/ df_table['Cases']).round(2)\n",
    "df_table['Continent'] = df_table['Country/Region'].map(mapping['map.continent'])\n",
    "df_table.head(5)"
   ]
  },
  {
   "cell_type": "code",
   "execution_count": 14,
   "id": "aboriginal-bulgaria",
   "metadata": {
    "execution": {
     "iopub.execute_input": "2022-10-10T01:00:03.627649Z",
     "iopub.status.busy": "2022-10-10T01:00:03.626794Z",
     "iopub.status.idle": "2022-10-10T01:00:03.630578Z",
     "shell.execute_reply": "2022-10-10T01:00:03.631105Z"
    },
    "papermill": {
     "duration": 0.049692,
     "end_time": "2022-10-10T01:00:03.631238",
     "exception": false,
     "start_time": "2022-10-10T01:00:03.581546",
     "status": "completed"
    },
    "tags": []
   },
   "outputs": [],
   "source": [
    "#hide\n",
    "#delete problematic countries from table\n",
    "df_table = df_table[~df_table['Country/Region'].isin(['Cape Verde', 'Cruise Ship', 'Kosovo'])]"
   ]
  },
  {
   "cell_type": "code",
   "execution_count": 15,
   "id": "fantastic-effect",
   "metadata": {
    "execution": {
     "iopub.execute_input": "2022-10-10T01:00:03.706173Z",
     "iopub.status.busy": "2022-10-10T01:00:03.705499Z",
     "iopub.status.idle": "2022-10-10T01:00:03.727313Z",
     "shell.execute_reply": "2022-10-10T01:00:03.727839Z"
    },
    "papermill": {
     "duration": 0.064662,
     "end_time": "2022-10-10T01:00:03.727966",
     "exception": false,
     "start_time": "2022-10-10T01:00:03.663304",
     "status": "completed"
    },
    "tags": []
   },
   "outputs": [
    {
     "data": {
      "text/html": [
       "<div>\n",
       "<style scoped>\n",
       "    .dataframe tbody tr th:only-of-type {\n",
       "        vertical-align: middle;\n",
       "    }\n",
       "\n",
       "    .dataframe tbody tr th {\n",
       "        vertical-align: top;\n",
       "    }\n",
       "\n",
       "    .dataframe thead th {\n",
       "        text-align: right;\n",
       "    }\n",
       "</style>\n",
       "<table border=\"1\" class=\"dataframe\">\n",
       "  <thead>\n",
       "    <tr style=\"text-align: right;\">\n",
       "      <th></th>\n",
       "      <th>Country/Region</th>\n",
       "      <th>Cases</th>\n",
       "      <th>Deaths</th>\n",
       "      <th>PCases</th>\n",
       "      <th>PDeaths</th>\n",
       "      <th>Cases (+)</th>\n",
       "      <th>Deaths (+)</th>\n",
       "      <th>Fatality Rate</th>\n",
       "      <th>Continent</th>\n",
       "    </tr>\n",
       "  </thead>\n",
       "  <tbody>\n",
       "    <tr>\n",
       "      <th>0</th>\n",
       "      <td>US</td>\n",
       "      <td>96694214</td>\n",
       "      <td>1062560</td>\n",
       "      <td>96686904</td>\n",
       "      <td>1062513</td>\n",
       "      <td>7310</td>\n",
       "      <td>47</td>\n",
       "      <td>1.1</td>\n",
       "      <td>North America</td>\n",
       "    </tr>\n",
       "    <tr>\n",
       "      <th>1</th>\n",
       "      <td>India</td>\n",
       "      <td>44612013</td>\n",
       "      <td>528799</td>\n",
       "      <td>44609257</td>\n",
       "      <td>528778</td>\n",
       "      <td>2756</td>\n",
       "      <td>21</td>\n",
       "      <td>1.2</td>\n",
       "      <td>Asia</td>\n",
       "    </tr>\n",
       "    <tr>\n",
       "      <th>2</th>\n",
       "      <td>France</td>\n",
       "      <td>35983605</td>\n",
       "      <td>156462</td>\n",
       "      <td>35983605</td>\n",
       "      <td>156462</td>\n",
       "      <td>0</td>\n",
       "      <td>0</td>\n",
       "      <td>0.4</td>\n",
       "      <td>Europe</td>\n",
       "    </tr>\n",
       "    <tr>\n",
       "      <th>3</th>\n",
       "      <td>Brazil</td>\n",
       "      <td>34707233</td>\n",
       "      <td>686706</td>\n",
       "      <td>34707233</td>\n",
       "      <td>686706</td>\n",
       "      <td>0</td>\n",
       "      <td>0</td>\n",
       "      <td>2.0</td>\n",
       "      <td>South America</td>\n",
       "    </tr>\n",
       "    <tr>\n",
       "      <th>4</th>\n",
       "      <td>Germany</td>\n",
       "      <td>33948632</td>\n",
       "      <td>150535</td>\n",
       "      <td>33948632</td>\n",
       "      <td>150535</td>\n",
       "      <td>0</td>\n",
       "      <td>0</td>\n",
       "      <td>0.4</td>\n",
       "      <td>Europe</td>\n",
       "    </tr>\n",
       "  </tbody>\n",
       "</table>\n",
       "</div>"
      ],
      "text/plain": [
       "  Country/Region     Cases   Deaths    PCases  PDeaths  Cases (+)  Deaths (+)  \\\n",
       "0             US  96694214  1062560  96686904  1062513       7310          47   \n",
       "1          India  44612013   528799  44609257   528778       2756          21   \n",
       "2         France  35983605   156462  35983605   156462          0           0   \n",
       "3         Brazil  34707233   686706  34707233   686706          0           0   \n",
       "4        Germany  33948632   150535  33948632   150535          0           0   \n",
       "\n",
       "   Fatality Rate      Continent  \n",
       "0            1.1  North America  \n",
       "1            1.2           Asia  \n",
       "2            0.4         Europe  \n",
       "3            2.0  South America  \n",
       "4            0.4         Europe  "
      ]
     },
     "execution_count": 15,
     "metadata": {},
     "output_type": "execute_result"
    }
   ],
   "source": [
    "#hide\n",
    "df_table = (pd.DataFrame(dict(Cases=dfc_cases, Deaths=dfc_deaths, PCases=dfp_cases, PDeaths=dfp_deaths))\n",
    "             .sort_values(by=['Cases', 'Deaths'], ascending=[False, False])\n",
    "             .reset_index())\n",
    "df_table.rename(columns={'index': 'Country/Region'}, inplace=True)\n",
    "for c in 'Cases, Deaths'.split(', '):\n",
    "    df_table[f'{c} (+)'] = (df_table[c] - df_table[f'P{c}']).clip(0)  # DATA BUG\n",
    "df_table['Fatality Rate'] = (100 * df_table['Deaths'] / df_table['Cases']).round(1)\n",
    "df_table['Continent'] = df_table['Country/Region'].map(mapping['map.continent'])\n",
    "df_table.head(5)"
   ]
  },
  {
   "cell_type": "code",
   "execution_count": 16,
   "id": "fewer-occasion",
   "metadata": {
    "execution": {
     "iopub.execute_input": "2022-10-10T01:00:03.807840Z",
     "iopub.status.busy": "2022-10-10T01:00:03.807196Z",
     "iopub.status.idle": "2022-10-10T01:00:03.810834Z",
     "shell.execute_reply": "2022-10-10T01:00:03.810300Z"
    },
    "papermill": {
     "duration": 0.042922,
     "end_time": "2022-10-10T01:00:03.810944",
     "exception": false,
     "start_time": "2022-10-10T01:00:03.768022",
     "status": "completed"
    },
    "tags": []
   },
   "outputs": [],
   "source": [
    "#hide\n",
    "#delete problematic countries from table\n",
    "df_table = df_table[~df_table['Country/Region'].isin(['Cape Verde', 'Cruise Ship', 'Kosovo'])]"
   ]
  },
  {
   "cell_type": "code",
   "execution_count": 17,
   "id": "related-center",
   "metadata": {
    "execution": {
     "iopub.execute_input": "2022-10-10T01:00:03.887712Z",
     "iopub.status.busy": "2022-10-10T01:00:03.887039Z",
     "iopub.status.idle": "2022-10-10T01:00:03.900432Z",
     "shell.execute_reply": "2022-10-10T01:00:03.899940Z"
    },
    "papermill": {
     "duration": 0.054769,
     "end_time": "2022-10-10T01:00:03.900563",
     "exception": false,
     "start_time": "2022-10-10T01:00:03.845794",
     "status": "completed"
    },
    "tags": []
   },
   "outputs": [],
   "source": [
    "#hide\n",
    "metrics = [df_table.columns[index] for index in [1,2,5,6]]\n",
    "# s_china = df_table[df_table['Country/Region'].eq('China')][metrics].sum().add_prefix('China ')\n",
    "s_us = df_table[df_table['Country/Region'].eq('US')][metrics].sum().add_prefix('US ')\n",
    "s_eu = df_table[df_table['Continent'].eq('Europe')][metrics].sum().add_prefix('EU ')\n",
    "s_ind = df_table[df_table['Country/Region'].eq('India')][metrics].sum().add_prefix('India ')\n",
    "summary = {'updated': pd.to_datetime(dt_today), 'since': pd.to_datetime(dt_yday)}\n",
    "summary = {'updated': pd.to_datetime(dt_today), 'since': pd.to_datetime(dt_yday)}\n",
    "summary = {**summary, **df_table[metrics].sum(), **s_ind, **s_us, **s_eu}"
   ]
  },
  {
   "cell_type": "code",
   "execution_count": 18,
   "id": "engaging-syndrome",
   "metadata": {
    "execution": {
     "iopub.execute_input": "2022-10-10T01:00:03.978916Z",
     "iopub.status.busy": "2022-10-10T01:00:03.978257Z",
     "iopub.status.idle": "2022-10-10T01:00:03.999488Z",
     "shell.execute_reply": "2022-10-10T01:00:03.998884Z"
    },
    "papermill": {
     "duration": 0.058285,
     "end_time": "2022-10-10T01:00:03.999674",
     "exception": false,
     "start_time": "2022-10-10T01:00:03.941389",
     "status": "completed"
    },
    "tags": []
   },
   "outputs": [],
   "source": [
    "#hide\n",
    "dft_ct_new_cases = dft_cases.groupby(COL_REGION)[dt_cols].sum().diff(axis=1).fillna(0).astype(int)"
   ]
  },
  {
   "cell_type": "code",
   "execution_count": 19,
   "id": "neutral-assignment",
   "metadata": {
    "execution": {
     "iopub.execute_input": "2022-10-10T01:00:04.087549Z",
     "iopub.status.busy": "2022-10-10T01:00:04.086912Z",
     "iopub.status.idle": "2022-10-10T01:00:04.089321Z",
     "shell.execute_reply": "2022-10-10T01:00:04.089935Z"
    },
    "papermill": {
     "duration": 0.054367,
     "end_time": "2022-10-10T01:00:04.090131",
     "exception": false,
     "start_time": "2022-10-10T01:00:04.035764",
     "status": "completed"
    },
    "tags": []
   },
   "outputs": [],
   "source": [
    "#hide\n",
    "everydaycases = dft_ct_new_cases.cumsum(axis=1)"
   ]
  },
  {
   "cell_type": "code",
   "execution_count": 20,
   "id": "parliamentary-calgary",
   "metadata": {
    "execution": {
     "iopub.execute_input": "2022-10-10T01:00:04.159859Z",
     "iopub.status.busy": "2022-10-10T01:00:04.159277Z",
     "iopub.status.idle": "2022-10-10T01:00:04.818212Z",
     "shell.execute_reply": "2022-10-10T01:00:04.818703Z"
    },
    "papermill": {
     "duration": 0.695821,
     "end_time": "2022-10-10T01:00:04.818884",
     "exception": false,
     "start_time": "2022-10-10T01:00:04.123063",
     "status": "completed"
    },
    "tags": []
   },
   "outputs": [],
   "source": [
    "#hide\n",
    "import pandas as pd\n",
    "import matplotlib.pyplot as plt\n",
    "import matplotlib.ticker as ticker\n",
    "import matplotlib.animation as animation\n",
    "from IPython.display import HTML"
   ]
  },
  {
   "cell_type": "code",
   "execution_count": 21,
   "id": "lasting-extraction",
   "metadata": {
    "execution": {
     "iopub.execute_input": "2022-10-10T01:00:04.897915Z",
     "iopub.status.busy": "2022-10-10T01:00:04.897160Z",
     "iopub.status.idle": "2022-10-10T01:00:04.905682Z",
     "shell.execute_reply": "2022-10-10T01:00:04.905012Z"
    },
    "papermill": {
     "duration": 0.051594,
     "end_time": "2022-10-10T01:00:04.905815",
     "exception": false,
     "start_time": "2022-10-10T01:00:04.854221",
     "status": "completed"
    },
    "tags": []
   },
   "outputs": [],
   "source": [
    "#hide\n",
    "t = everydaycases.stack()"
   ]
  },
  {
   "cell_type": "code",
   "execution_count": 22,
   "id": "premier-sleeve",
   "metadata": {
    "execution": {
     "iopub.execute_input": "2022-10-10T01:00:04.982570Z",
     "iopub.status.busy": "2022-10-10T01:00:04.981946Z",
     "iopub.status.idle": "2022-10-10T01:00:04.994572Z",
     "shell.execute_reply": "2022-10-10T01:00:04.995331Z"
    },
    "papermill": {
     "duration": 0.052732,
     "end_time": "2022-10-10T01:00:04.995459",
     "exception": false,
     "start_time": "2022-10-10T01:00:04.942727",
     "status": "completed"
    },
    "tags": []
   },
   "outputs": [],
   "source": [
    "#hide\n",
    "g = t.reset_index(['Country/Region'])"
   ]
  },
  {
   "cell_type": "code",
   "execution_count": 23,
   "id": "distributed-pittsburgh",
   "metadata": {
    "execution": {
     "iopub.execute_input": "2022-10-10T01:00:05.070121Z",
     "iopub.status.busy": "2022-10-10T01:00:05.069376Z",
     "iopub.status.idle": "2022-10-10T01:00:05.072414Z",
     "shell.execute_reply": "2022-10-10T01:00:05.071943Z"
    },
    "papermill": {
     "duration": 0.041893,
     "end_time": "2022-10-10T01:00:05.072524",
     "exception": false,
     "start_time": "2022-10-10T01:00:05.030631",
     "status": "completed"
    },
    "tags": []
   },
   "outputs": [],
   "source": [
    "#hide\n",
    "g.index.name = 'date'"
   ]
  },
  {
   "cell_type": "code",
   "execution_count": 24,
   "id": "naked-donor",
   "metadata": {
    "execution": {
     "iopub.execute_input": "2022-10-10T01:00:05.156598Z",
     "iopub.status.busy": "2022-10-10T01:00:05.155638Z",
     "iopub.status.idle": "2022-10-10T01:00:05.159314Z",
     "shell.execute_reply": "2022-10-10T01:00:05.158589Z"
    },
    "papermill": {
     "duration": 0.048307,
     "end_time": "2022-10-10T01:00:05.159447",
     "exception": false,
     "start_time": "2022-10-10T01:00:05.111140",
     "status": "completed"
    },
    "tags": []
   },
   "outputs": [],
   "source": [
    "# #hide\n",
    "# g = g.reset_index(['date'])"
   ]
  },
  {
   "cell_type": "code",
   "execution_count": 25,
   "id": "incomplete-mustang",
   "metadata": {
    "execution": {
     "iopub.execute_input": "2022-10-10T01:00:05.263100Z",
     "iopub.status.busy": "2022-10-10T01:00:05.262283Z",
     "iopub.status.idle": "2022-10-10T01:00:05.265972Z",
     "shell.execute_reply": "2022-10-10T01:00:05.265094Z"
    },
    "papermill": {
     "duration": 0.059037,
     "end_time": "2022-10-10T01:00:05.266145",
     "exception": false,
     "start_time": "2022-10-10T01:00:05.207108",
     "status": "completed"
    },
    "tags": []
   },
   "outputs": [],
   "source": [
    "#hide\n",
    "# g.head()"
   ]
  },
  {
   "cell_type": "code",
   "execution_count": 26,
   "id": "specific-kruger",
   "metadata": {
    "execution": {
     "iopub.execute_input": "2022-10-10T01:00:05.350588Z",
     "iopub.status.busy": "2022-10-10T01:00:05.349912Z",
     "iopub.status.idle": "2022-10-10T01:00:05.352869Z",
     "shell.execute_reply": "2022-10-10T01:00:05.354239Z"
    },
    "papermill": {
     "duration": 0.046429,
     "end_time": "2022-10-10T01:00:05.354384",
     "exception": false,
     "start_time": "2022-10-10T01:00:05.307955",
     "status": "completed"
    },
    "tags": []
   },
   "outputs": [],
   "source": [
    "#hide\n",
    "# g.columns = ['date','country','cases']"
   ]
  },
  {
   "cell_type": "code",
   "execution_count": 27,
   "id": "tender-conversion",
   "metadata": {
    "execution": {
     "iopub.execute_input": "2022-10-10T01:00:05.432180Z",
     "iopub.status.busy": "2022-10-10T01:00:05.431565Z",
     "iopub.status.idle": "2022-10-10T01:00:05.434238Z",
     "shell.execute_reply": "2022-10-10T01:00:05.434847Z"
    },
    "papermill": {
     "duration": 0.044649,
     "end_time": "2022-10-10T01:00:05.435006",
     "exception": false,
     "start_time": "2022-10-10T01:00:05.390357",
     "status": "completed"
    },
    "tags": []
   },
   "outputs": [],
   "source": [
    "#hide\n",
    "# g['continent'] = g.country"
   ]
  },
  {
   "cell_type": "code",
   "execution_count": 28,
   "id": "substantial-wilderness",
   "metadata": {
    "execution": {
     "iopub.execute_input": "2022-10-10T01:00:05.514424Z",
     "iopub.status.busy": "2022-10-10T01:00:05.513745Z",
     "iopub.status.idle": "2022-10-10T01:00:05.516847Z",
     "shell.execute_reply": "2022-10-10T01:00:05.516242Z"
    },
    "papermill": {
     "duration": 0.045258,
     "end_time": "2022-10-10T01:00:05.516961",
     "exception": false,
     "start_time": "2022-10-10T01:00:05.471703",
     "status": "completed"
    },
    "tags": []
   },
   "outputs": [],
   "source": [
    "#hide\n",
    "# cols = list(g.columns.values)"
   ]
  },
  {
   "cell_type": "code",
   "execution_count": 29,
   "id": "solved-farming",
   "metadata": {
    "execution": {
     "iopub.execute_input": "2022-10-10T01:00:05.595888Z",
     "iopub.status.busy": "2022-10-10T01:00:05.595164Z",
     "iopub.status.idle": "2022-10-10T01:00:05.598188Z",
     "shell.execute_reply": "2022-10-10T01:00:05.597531Z"
    },
    "papermill": {
     "duration": 0.043493,
     "end_time": "2022-10-10T01:00:05.598303",
     "exception": false,
     "start_time": "2022-10-10T01:00:05.554810",
     "status": "completed"
    },
    "tags": []
   },
   "outputs": [],
   "source": [
    "#hide\n",
    "# cols.insert(0, cols.pop())"
   ]
  },
  {
   "cell_type": "code",
   "execution_count": 30,
   "id": "executed-adoption",
   "metadata": {
    "execution": {
     "iopub.execute_input": "2022-10-10T01:00:05.673919Z",
     "iopub.status.busy": "2022-10-10T01:00:05.673042Z",
     "iopub.status.idle": "2022-10-10T01:00:05.675837Z",
     "shell.execute_reply": "2022-10-10T01:00:05.675350Z"
    },
    "papermill": {
     "duration": 0.041845,
     "end_time": "2022-10-10T01:00:05.675950",
     "exception": false,
     "start_time": "2022-10-10T01:00:05.634105",
     "status": "completed"
    },
    "tags": []
   },
   "outputs": [],
   "source": [
    "#hide\n",
    "# g = g[cols]"
   ]
  },
  {
   "cell_type": "code",
   "execution_count": 31,
   "id": "subject-dublin",
   "metadata": {
    "execution": {
     "iopub.execute_input": "2022-10-10T01:00:05.764643Z",
     "iopub.status.busy": "2022-10-10T01:00:05.763934Z",
     "iopub.status.idle": "2022-10-10T01:00:05.767634Z",
     "shell.execute_reply": "2022-10-10T01:00:05.766976Z"
    },
    "papermill": {
     "duration": 0.045483,
     "end_time": "2022-10-10T01:00:05.767785",
     "exception": false,
     "start_time": "2022-10-10T01:00:05.722302",
     "status": "completed"
    },
    "tags": []
   },
   "outputs": [],
   "source": [
    "#hide\n",
    "# g['continent'] = g['continent'].map(mapping['map.continent'])"
   ]
  },
  {
   "cell_type": "code",
   "execution_count": 32,
   "id": "freelance-scout",
   "metadata": {
    "execution": {
     "iopub.execute_input": "2022-10-10T01:00:05.848149Z",
     "iopub.status.busy": "2022-10-10T01:00:05.847073Z",
     "iopub.status.idle": "2022-10-10T01:00:05.851754Z",
     "shell.execute_reply": "2022-10-10T01:00:05.853950Z"
    },
    "papermill": {
     "duration": 0.046864,
     "end_time": "2022-10-10T01:00:05.854106",
     "exception": false,
     "start_time": "2022-10-10T01:00:05.807242",
     "status": "completed"
    },
    "tags": []
   },
   "outputs": [],
   "source": [
    "#hide\n",
    "# g.head()"
   ]
  },
  {
   "cell_type": "code",
   "execution_count": 33,
   "id": "limited-engine",
   "metadata": {
    "execution": {
     "iopub.execute_input": "2022-10-10T01:00:05.929577Z",
     "iopub.status.busy": "2022-10-10T01:00:05.928966Z",
     "iopub.status.idle": "2022-10-10T01:00:05.931173Z",
     "shell.execute_reply": "2022-10-10T01:00:05.931757Z"
    },
    "papermill": {
     "duration": 0.040674,
     "end_time": "2022-10-10T01:00:05.931888",
     "exception": false,
     "start_time": "2022-10-10T01:00:05.891214",
     "status": "completed"
    },
    "tags": []
   },
   "outputs": [],
   "source": [
    "# hide\n",
    "# g['date'] = g['date'].astype('datetime64[ns]')"
   ]
  },
  {
   "cell_type": "code",
   "execution_count": 34,
   "id": "sophisticated-supervisor",
   "metadata": {
    "execution": {
     "iopub.execute_input": "2022-10-10T01:00:06.007308Z",
     "iopub.status.busy": "2022-10-10T01:00:06.006455Z",
     "iopub.status.idle": "2022-10-10T01:00:06.009326Z",
     "shell.execute_reply": "2022-10-10T01:00:06.010037Z"
    },
    "papermill": {
     "duration": 0.041528,
     "end_time": "2022-10-10T01:00:06.010227",
     "exception": false,
     "start_time": "2022-10-10T01:00:05.968699",
     "status": "completed"
    },
    "tags": []
   },
   "outputs": [],
   "source": [
    "#hide\n",
    "# g['date'] = g.date.dt.dayofyear"
   ]
  },
  {
   "cell_type": "code",
   "execution_count": 35,
   "id": "inside-dubai",
   "metadata": {
    "execution": {
     "iopub.execute_input": "2022-10-10T01:00:06.086806Z",
     "iopub.status.busy": "2022-10-10T01:00:06.086200Z",
     "iopub.status.idle": "2022-10-10T01:00:06.090480Z",
     "shell.execute_reply": "2022-10-10T01:00:06.091078Z"
    },
    "papermill": {
     "duration": 0.045412,
     "end_time": "2022-10-10T01:00:06.091233",
     "exception": false,
     "start_time": "2022-10-10T01:00:06.045821",
     "status": "completed"
    },
    "tags": []
   },
   "outputs": [],
   "source": [
    "#hide\n",
    "# g = g.rename(columns= {'continent':'group','country':'name','cases':'value'})"
   ]
  },
  {
   "cell_type": "code",
   "execution_count": 36,
   "id": "fleet-motorcycle",
   "metadata": {
    "execution": {
     "iopub.execute_input": "2022-10-10T01:00:06.180144Z",
     "iopub.status.busy": "2022-10-10T01:00:06.179468Z",
     "iopub.status.idle": "2022-10-10T01:00:06.181512Z",
     "shell.execute_reply": "2022-10-10T01:00:06.182213Z"
    },
    "papermill": {
     "duration": 0.051021,
     "end_time": "2022-10-10T01:00:06.182344",
     "exception": false,
     "start_time": "2022-10-10T01:00:06.131323",
     "status": "completed"
    },
    "tags": []
   },
   "outputs": [],
   "source": [
    "#hide\n",
    "# cols = ['name','group','day','value']"
   ]
  },
  {
   "cell_type": "code",
   "execution_count": 37,
   "id": "continued-sleeping",
   "metadata": {
    "execution": {
     "iopub.execute_input": "2022-10-10T01:00:06.258930Z",
     "iopub.status.busy": "2022-10-10T01:00:06.258219Z",
     "iopub.status.idle": "2022-10-10T01:00:06.263508Z",
     "shell.execute_reply": "2022-10-10T01:00:06.263005Z"
    },
    "papermill": {
     "duration": 0.045762,
     "end_time": "2022-10-10T01:00:06.263625",
     "exception": false,
     "start_time": "2022-10-10T01:00:06.217863",
     "status": "completed"
    },
    "tags": []
   },
   "outputs": [],
   "source": [
    "#hide\n",
    "# g.rename(columns= {'date':'day'},inplace = True)"
   ]
  },
  {
   "cell_type": "code",
   "execution_count": 38,
   "id": "major-fight",
   "metadata": {
    "execution": {
     "iopub.execute_input": "2022-10-10T01:00:06.340723Z",
     "iopub.status.busy": "2022-10-10T01:00:06.339882Z",
     "iopub.status.idle": "2022-10-10T01:00:06.342380Z",
     "shell.execute_reply": "2022-10-10T01:00:06.341778Z"
    },
    "papermill": {
     "duration": 0.043043,
     "end_time": "2022-10-10T01:00:06.342491",
     "exception": false,
     "start_time": "2022-10-10T01:00:06.299448",
     "status": "completed"
    },
    "tags": []
   },
   "outputs": [],
   "source": [
    "#hide\n",
    "# g = g[cols]"
   ]
  },
  {
   "cell_type": "code",
   "execution_count": 39,
   "id": "structured-mobile",
   "metadata": {
    "execution": {
     "iopub.execute_input": "2022-10-10T01:00:06.421277Z",
     "iopub.status.busy": "2022-10-10T01:00:06.420583Z",
     "iopub.status.idle": "2022-10-10T01:00:06.423327Z",
     "shell.execute_reply": "2022-10-10T01:00:06.422672Z"
    },
    "papermill": {
     "duration": 0.042929,
     "end_time": "2022-10-10T01:00:06.423464",
     "exception": false,
     "start_time": "2022-10-10T01:00:06.380535",
     "status": "completed"
    },
    "tags": []
   },
   "outputs": [],
   "source": [
    "# #hide\n",
    "# g = g[g.group.notna()]"
   ]
  },
  {
   "cell_type": "code",
   "execution_count": 40,
   "id": "determined-closing",
   "metadata": {
    "execution": {
     "iopub.execute_input": "2022-10-10T01:00:06.493231Z",
     "iopub.status.busy": "2022-10-10T01:00:06.492651Z",
     "iopub.status.idle": "2022-10-10T01:00:06.495138Z",
     "shell.execute_reply": "2022-10-10T01:00:06.495641Z"
    },
    "papermill": {
     "duration": 0.038676,
     "end_time": "2022-10-10T01:00:06.495786",
     "exception": false,
     "start_time": "2022-10-10T01:00:06.457110",
     "status": "completed"
    },
    "tags": []
   },
   "outputs": [],
   "source": [
    "# #hide\n",
    "# colors = dict(zip(\n",
    "#     [\"Oceania\", \"Europe\", \"Asia\", \"South America\", \"Middle East\", \"North America\", \"Africa\"],\n",
    "#     [\"#adb0ff\", \"#ffb3ff\", \"#90d595\", \"#e48381\", \"#aafbff\", \"#f7bb5f\", \"#eafb50\"]\n",
    "# ))\n",
    "# group_lk = g.set_index('name')['group'].to_dict()"
   ]
  },
  {
   "cell_type": "code",
   "execution_count": null,
   "id": "gross-drinking",
   "metadata": {
    "papermill": {
     "duration": 0.033647,
     "end_time": "2022-10-10T01:00:06.566691",
     "exception": false,
     "start_time": "2022-10-10T01:00:06.533044",
     "status": "completed"
    },
    "tags": []
   },
   "outputs": [],
   "source": []
  },
  {
   "cell_type": "code",
   "execution_count": 41,
   "id": "subject-macintosh",
   "metadata": {
    "execution": {
     "iopub.execute_input": "2022-10-10T01:00:06.639130Z",
     "iopub.status.busy": "2022-10-10T01:00:06.638485Z",
     "iopub.status.idle": "2022-10-10T01:00:06.640683Z",
     "shell.execute_reply": "2022-10-10T01:00:06.641382Z"
    },
    "papermill": {
     "duration": 0.04089,
     "end_time": "2022-10-10T01:00:06.641513",
     "exception": false,
     "start_time": "2022-10-10T01:00:06.600623",
     "status": "completed"
    },
    "tags": []
   },
   "outputs": [],
   "source": [
    "# #hide\n",
    "# fig, ax = plt.subplots(figsize=(15, 8))\n",
    "\n",
    "# def draw_barchart(current_day):\n",
    "#     dff = g[g['day'].eq(current_day)].sort_values(by='value', ascending=True).tail(10)\n",
    "#     ax.clear()\n",
    "#     ax.barh(dff['name'], dff['value'], color=[colors[group_lk[x]] for x in dff['name']])\n",
    "#     dx = dff['value'].max() / 200\n",
    "    \n",
    "#     for i, (value, name) in enumerate(zip(dff['value'], dff['name'])):\n",
    "#         ax.text(value-dx, i,     name,           size=14, weight=600, ha='right', va='bottom')\n",
    "#         ax.text(value-dx, i-.25, group_lk[name], size=10, color='#444444', ha='right', va='baseline')\n",
    "#         ax.text(value+dx, i,     f'{value:,.0f}',  size=14, ha='left',  va='center')\n",
    "#     ax.text(1, 0.4, current_day, transform=ax.transAxes, color='#777777', size=46, ha='right', weight=800)\n",
    "#     ax.text(0, 1.06, 'Population (thousands)', transform=ax.transAxes, size=12, color='#777777')\n",
    "#     ax.xaxis.set_major_formatter(ticker.StrMethodFormatter('{x:,.0f}'))\n",
    "#     ax.xaxis.set_ticks_position('top')\n",
    "#     ax.tick_params(axis='x', colors='#777777', labelsize=12)\n",
    "#     ax.set_yticks([])\n",
    "#     ax.margins(0, 0.01)\n",
    "#     ax.grid(which='major', axis='x', linestyle='-')\n",
    "#     ax.set_axisbelow(True)\n",
    "    \n",
    "#     ax.text(0, 1.15, 'Coronavirus',\n",
    "#             transform=ax.transAxes, size=24, weight=600, ha='left', va='top')\n",
    "# #     ax.text(1, 0, 'by @pratapvardhan; credit @jburnmurdoch', transform=ax.transAxes, color='#777777', ha='right',\n",
    "# #             bbox=dict(facecolor='white', alpha=0.8, edgecolor='white'))\n",
    "#     plt.box(False)"
   ]
  },
  {
   "cell_type": "code",
   "execution_count": 42,
   "id": "sexual-wages",
   "metadata": {
    "execution": {
     "iopub.execute_input": "2022-10-10T01:00:06.726137Z",
     "iopub.status.busy": "2022-10-10T01:00:06.725458Z",
     "iopub.status.idle": "2022-10-10T01:00:06.728919Z",
     "shell.execute_reply": "2022-10-10T01:00:06.729412Z"
    },
    "papermill": {
     "duration": 0.046853,
     "end_time": "2022-10-10T01:00:06.729541",
     "exception": false,
     "start_time": "2022-10-10T01:00:06.682688",
     "status": "completed"
    },
    "tags": []
   },
   "outputs": [],
   "source": [
    "# #hide_input\n",
    "# fig, ax = plt.subplots(figsize=(15, 8))\n",
    "# animator = animation.FuncAnimation(fig, draw_barchart, frames=range(g.day.values.min(), g.day.values.max()))\n",
    "# HTML(animator.to_jshtml())\n",
    "# # or use animator.to_html5_video() or animator.save() "
   ]
  },
  {
   "cell_type": "code",
   "execution_count": null,
   "id": "australian-container",
   "metadata": {
    "papermill": {
     "duration": 0.035917,
     "end_time": "2022-10-10T01:00:06.802562",
     "exception": false,
     "start_time": "2022-10-10T01:00:06.766645",
     "status": "completed"
    },
    "tags": []
   },
   "outputs": [],
   "source": []
  },
  {
   "cell_type": "code",
   "execution_count": null,
   "id": "mediterranean-pontiac",
   "metadata": {
    "papermill": {
     "duration": 0.039373,
     "end_time": "2022-10-10T01:00:06.882650",
     "exception": false,
     "start_time": "2022-10-10T01:00:06.843277",
     "status": "completed"
    },
    "tags": []
   },
   "outputs": [],
   "source": []
  },
  {
   "cell_type": "code",
   "execution_count": null,
   "id": "aging-legislature",
   "metadata": {
    "papermill": {
     "duration": 0.039004,
     "end_time": "2022-10-10T01:00:06.960591",
     "exception": false,
     "start_time": "2022-10-10T01:00:06.921587",
     "status": "completed"
    },
    "tags": []
   },
   "outputs": [],
   "source": []
  }
 ],
 "metadata": {
  "kernelspec": {
   "display_name": "Python 3",
   "language": "python",
   "name": "python3"
  },
  "language_info": {
   "codemirror_mode": {
    "name": "ipython",
    "version": 3
   },
   "file_extension": ".py",
   "mimetype": "text/x-python",
   "name": "python",
   "nbconvert_exporter": "python",
   "pygments_lexer": "ipython3",
   "version": "3.6.15"
  },
  "papermill": {
   "duration": 7.380495,
   "end_time": "2022-10-10T01:00:07.318493",
   "environment_variables": {},
   "exception": null,
   "input_path": "2020-03-21-covid19exp.ipynb",
   "output_path": "2020-03-21-covid19exp.ipynb",
   "parameters": {},
   "start_time": "2022-10-10T00:59:59.937998",
   "version": "2.0.0"
  }
 },
 "nbformat": 4,
 "nbformat_minor": 5
}