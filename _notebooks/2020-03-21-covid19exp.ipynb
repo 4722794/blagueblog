{
 "cells": [
  {
   "cell_type": "markdown",
   "id": "muslim-click",
   "metadata": {
    "papermill": {
     "duration": 0.03503,
     "end_time": "2022-07-23T00:43:30.205899",
     "exception": false,
     "start_time": "2022-07-23T00:43:30.170869",
     "status": "completed"
    },
    "tags": []
   },
   "source": [
    "# COVID-19 Case Race\n",
    "> A race chart to see rising cases around the world\n",
    "\n",
    "- author: Hargun Oberoi\n",
    "- image: images/covid-overview.png\n",
    "- hide: false\n",
    "- badges: false"
   ]
  },
  {
   "cell_type": "code",
   "execution_count": 1,
   "id": "proof-material",
   "metadata": {
    "execution": {
     "iopub.execute_input": "2022-07-23T00:43:30.275382Z",
     "iopub.status.busy": "2022-07-23T00:43:30.274800Z",
     "iopub.status.idle": "2022-07-23T00:43:30.590163Z",
     "shell.execute_reply": "2022-07-23T00:43:30.591000Z"
    },
    "papermill": {
     "duration": 0.355065,
     "end_time": "2022-07-23T00:43:30.591167",
     "exception": false,
     "start_time": "2022-07-23T00:43:30.236102",
     "status": "completed"
    },
    "tags": []
   },
   "outputs": [],
   "source": [
    "#hide\n",
    "import numpy as np\n",
    "import pandas as pd\n",
    "from jinja2 import Template\n",
    "from IPython.display import HTML"
   ]
  },
  {
   "cell_type": "code",
   "execution_count": 2,
   "id": "developed-terminology",
   "metadata": {
    "execution": {
     "iopub.execute_input": "2022-07-23T00:43:30.656163Z",
     "iopub.status.busy": "2022-07-23T00:43:30.655532Z",
     "iopub.status.idle": "2022-07-23T00:43:30.657495Z",
     "shell.execute_reply": "2022-07-23T00:43:30.657915Z"
    },
    "papermill": {
     "duration": 0.036443,
     "end_time": "2022-07-23T00:43:30.658038",
     "exception": false,
     "start_time": "2022-07-23T00:43:30.621595",
     "status": "completed"
    },
    "tags": []
   },
   "outputs": [],
   "source": [
    "#hide\n",
    "\n",
    "# FETCH\n",
    "base_url = 'https://raw.githubusercontent.com/pratapvardhan/notebooks/master/covid19/'\n",
    "paths = {\n",
    "    'mapping': base_url + 'mapping_countries.csv',\n",
    "    'overview': base_url + 'overview.tpl'\n",
    "}"
   ]
  },
  {
   "cell_type": "code",
   "execution_count": 3,
   "id": "dynamic-saver",
   "metadata": {
    "execution": {
     "iopub.execute_input": "2022-07-23T00:43:30.728746Z",
     "iopub.status.busy": "2022-07-23T00:43:30.728152Z",
     "iopub.status.idle": "2022-07-23T00:43:30.731537Z",
     "shell.execute_reply": "2022-07-23T00:43:30.730978Z"
    },
    "papermill": {
     "duration": 0.04384,
     "end_time": "2022-07-23T00:43:30.731642",
     "exception": false,
     "start_time": "2022-07-23T00:43:30.687802",
     "status": "completed"
    },
    "tags": []
   },
   "outputs": [
    {
     "data": {
      "text/plain": [
       "'https://raw.githubusercontent.com/pratapvardhan/notebooks/master/covid19/mapping_countries.csv'"
      ]
     },
     "execution_count": 3,
     "metadata": {},
     "output_type": "execute_result"
    }
   ],
   "source": [
    "#hide\n",
    "paths['mapping']"
   ]
  },
  {
   "cell_type": "code",
   "execution_count": 4,
   "id": "urban-software",
   "metadata": {
    "execution": {
     "iopub.execute_input": "2022-07-23T00:43:30.797498Z",
     "iopub.status.busy": "2022-07-23T00:43:30.796501Z",
     "iopub.status.idle": "2022-07-23T00:43:30.798193Z",
     "shell.execute_reply": "2022-07-23T00:43:30.798722Z"
    },
    "papermill": {
     "duration": 0.036986,
     "end_time": "2022-07-23T00:43:30.798839",
     "exception": false,
     "start_time": "2022-07-23T00:43:30.761853",
     "status": "completed"
    },
    "tags": []
   },
   "outputs": [],
   "source": [
    "#hide\n",
    "def get_mappings(url):\n",
    "    df = pd.read_csv(url)\n",
    "    return {\n",
    "        'df': df,\n",
    "        'replace.country': dict(df.dropna(subset=['Name']).set_index('Country')['Name']),\n",
    "        'map.continent': dict(df.set_index('Name')['Continent'])\n",
    "    }"
   ]
  },
  {
   "cell_type": "code",
   "execution_count": 5,
   "id": "intimate-machinery",
   "metadata": {
    "execution": {
     "iopub.execute_input": "2022-07-23T00:43:30.863766Z",
     "iopub.status.busy": "2022-07-23T00:43:30.863159Z",
     "iopub.status.idle": "2022-07-23T00:43:30.924369Z",
     "shell.execute_reply": "2022-07-23T00:43:30.923862Z"
    },
    "papermill": {
     "duration": 0.095829,
     "end_time": "2022-07-23T00:43:30.924482",
     "exception": false,
     "start_time": "2022-07-23T00:43:30.828653",
     "status": "completed"
    },
    "tags": []
   },
   "outputs": [],
   "source": [
    "#hide\n",
    "mapping = get_mappings(paths['mapping'])"
   ]
  },
  {
   "cell_type": "code",
   "execution_count": 6,
   "id": "certified-tactics",
   "metadata": {
    "execution": {
     "iopub.execute_input": "2022-07-23T00:43:30.993736Z",
     "iopub.status.busy": "2022-07-23T00:43:30.993143Z",
     "iopub.status.idle": "2022-07-23T00:43:30.995772Z",
     "shell.execute_reply": "2022-07-23T00:43:30.996331Z"
    },
    "papermill": {
     "duration": 0.041892,
     "end_time": "2022-07-23T00:43:30.996453",
     "exception": false,
     "start_time": "2022-07-23T00:43:30.954561",
     "status": "completed"
    },
    "tags": []
   },
   "outputs": [],
   "source": [
    "#hide\n",
    "def get_template(path):\n",
    "    from urllib.parse import urlparse\n",
    "    if bool(urlparse(path).netloc):\n",
    "        from urllib.request import urlopen\n",
    "        return urlopen(path).read().decode('utf8')\n",
    "    return open(path).read()"
   ]
  },
  {
   "cell_type": "code",
   "execution_count": 7,
   "id": "realistic-blast",
   "metadata": {
    "execution": {
     "iopub.execute_input": "2022-07-23T00:43:31.060851Z",
     "iopub.status.busy": "2022-07-23T00:43:31.060261Z",
     "iopub.status.idle": "2022-07-23T00:43:31.062479Z",
     "shell.execute_reply": "2022-07-23T00:43:31.062892Z"
    },
    "papermill": {
     "duration": 0.036771,
     "end_time": "2022-07-23T00:43:31.063013",
     "exception": false,
     "start_time": "2022-07-23T00:43:31.026242",
     "status": "completed"
    },
    "tags": []
   },
   "outputs": [],
   "source": [
    "#hide\n",
    "def get_frame(name):\n",
    "    url = (\n",
    "        'https://raw.githubusercontent.com/CSSEGISandData/COVID-19/master/csse_covid_19_data/'\n",
    "        f'csse_covid_19_time_series/time_series_covid19_{name}_global.csv')\n",
    "    df = pd.read_csv(url)\n",
    "    # rename countries\n",
    "    df['Country/Region'] = df['Country/Region'].replace(mapping['replace.country'])\n",
    "    return df"
   ]
  },
  {
   "cell_type": "code",
   "execution_count": 8,
   "id": "affiliated-characterization",
   "metadata": {
    "execution": {
     "iopub.execute_input": "2022-07-23T00:43:31.129085Z",
     "iopub.status.busy": "2022-07-23T00:43:31.128491Z",
     "iopub.status.idle": "2022-07-23T00:43:31.132034Z",
     "shell.execute_reply": "2022-07-23T00:43:31.132456Z"
    },
    "papermill": {
     "duration": 0.039066,
     "end_time": "2022-07-23T00:43:31.132581",
     "exception": false,
     "start_time": "2022-07-23T00:43:31.093515",
     "status": "completed"
    },
    "tags": []
   },
   "outputs": [],
   "source": [
    "#hide\n",
    "def get_dates(df):\n",
    "    dt_cols = df.columns[~df.columns.isin(['Province/State', 'Country/Region', 'Lat', 'Long'])]\n",
    "    LAST_DATE_I = -1\n",
    "    # sometimes last column may be empty, then go backwards\n",
    "    for i in range(-1, -len(dt_cols), -1):\n",
    "        if not df[dt_cols[i]].fillna(0).eq(0).all():\n",
    "            LAST_DATE_I = i\n",
    "            break\n",
    "    return LAST_DATE_I, dt_cols"
   ]
  },
  {
   "cell_type": "code",
   "execution_count": 9,
   "id": "recent-optimization",
   "metadata": {
    "execution": {
     "iopub.execute_input": "2022-07-23T00:43:31.197718Z",
     "iopub.status.busy": "2022-07-23T00:43:31.197106Z",
     "iopub.status.idle": "2022-07-23T00:43:31.838113Z",
     "shell.execute_reply": "2022-07-23T00:43:31.838598Z"
    },
    "papermill": {
     "duration": 0.676266,
     "end_time": "2022-07-23T00:43:31.838735",
     "exception": false,
     "start_time": "2022-07-23T00:43:31.162469",
     "status": "completed"
    },
    "tags": []
   },
   "outputs": [],
   "source": [
    "#hide\n",
    "COL_REGION = 'Country/Region'\n",
    "# Confirmed, Recovered, Deaths\n",
    "df = get_frame('confirmed')\n",
    "# dft_: timeseries, dfc_: today country agg\n",
    "dft_cases = df\n",
    "dft_deaths = get_frame('deaths')\n",
    "dft_recovered = get_frame('recovered')\n",
    "LAST_DATE_I, dt_cols = get_dates(df)"
   ]
  },
  {
   "cell_type": "code",
   "execution_count": 10,
   "id": "absolute-copper",
   "metadata": {
    "execution": {
     "iopub.execute_input": "2022-07-23T00:43:31.904179Z",
     "iopub.status.busy": "2022-07-23T00:43:31.903525Z",
     "iopub.status.idle": "2022-07-23T00:43:31.906031Z",
     "shell.execute_reply": "2022-07-23T00:43:31.905577Z"
    },
    "papermill": {
     "duration": 0.037309,
     "end_time": "2022-07-23T00:43:31.906133",
     "exception": false,
     "start_time": "2022-07-23T00:43:31.868824",
     "status": "completed"
    },
    "tags": []
   },
   "outputs": [],
   "source": [
    "#hide\n",
    "LAST_DATE_I, dt_cols = get_dates(df)\n",
    "dt_today =dt_cols[LAST_DATE_I]\n",
    "# dt_5day = dt_cols[LAST_DATE_I - 5]\n",
    "dt_yday = dt_cols[LAST_DATE_I - 1]"
   ]
  },
  {
   "cell_type": "code",
   "execution_count": 11,
   "id": "restricted-sheriff",
   "metadata": {
    "execution": {
     "iopub.execute_input": "2022-07-23T00:43:31.971373Z",
     "iopub.status.busy": "2022-07-23T00:43:31.970788Z",
     "iopub.status.idle": "2022-07-23T00:43:31.977172Z",
     "shell.execute_reply": "2022-07-23T00:43:31.977733Z"
    },
    "papermill": {
     "duration": 0.042008,
     "end_time": "2022-07-23T00:43:31.977851",
     "exception": false,
     "start_time": "2022-07-23T00:43:31.935843",
     "status": "completed"
    },
    "tags": []
   },
   "outputs": [],
   "source": [
    "#hide\n",
    "dfc_cases = dft_cases.groupby(COL_REGION)[dt_today].sum()\n",
    "dfc_deaths = dft_deaths.groupby(COL_REGION)[dt_today].sum()\n",
    "# dfp_cases = dft_cases.groupby(COL_REGION)[dt_5day].sum()\n",
    "# dfp_deaths = dft_deaths.groupby(COL_REGION)[dt_5day].sum()\n",
    "dfp_cases = dft_cases.groupby(COL_REGION)[dt_yday].sum()\n",
    "dfp_deaths = dft_deaths.groupby(COL_REGION)[dt_yday].sum()"
   ]
  },
  {
   "cell_type": "code",
   "execution_count": 12,
   "id": "deluxe-hepatitis",
   "metadata": {
    "execution": {
     "iopub.execute_input": "2022-07-23T00:43:32.042844Z",
     "iopub.status.busy": "2022-07-23T00:43:32.042257Z",
     "iopub.status.idle": "2022-07-23T00:43:32.047779Z",
     "shell.execute_reply": "2022-07-23T00:43:32.047301Z"
    },
    "papermill": {
     "duration": 0.0402,
     "end_time": "2022-07-23T00:43:32.047884",
     "exception": false,
     "start_time": "2022-07-23T00:43:32.007684",
     "status": "completed"
    },
    "tags": []
   },
   "outputs": [],
   "source": [
    "#hide\n",
    "df_table = (pd.DataFrame(dict(Cases = dfc_cases, Deaths = dfc_deaths, PCases = dfp_cases, PDeaths = dfp_deaths))\n",
    "            .sort_values(by = ['Cases','Deaths'], ascending = [False, False])\n",
    "            .reset_index())"
   ]
  },
  {
   "cell_type": "code",
   "execution_count": 13,
   "id": "educational-chancellor",
   "metadata": {
    "execution": {
     "iopub.execute_input": "2022-07-23T00:43:32.124056Z",
     "iopub.status.busy": "2022-07-23T00:43:32.123459Z",
     "iopub.status.idle": "2022-07-23T00:43:32.135590Z",
     "shell.execute_reply": "2022-07-23T00:43:32.135134Z"
    },
    "papermill": {
     "duration": 0.053824,
     "end_time": "2022-07-23T00:43:32.135711",
     "exception": false,
     "start_time": "2022-07-23T00:43:32.081887",
     "status": "completed"
    },
    "tags": []
   },
   "outputs": [
    {
     "data": {
      "text/html": [
       "<div>\n",
       "<style scoped>\n",
       "    .dataframe tbody tr th:only-of-type {\n",
       "        vertical-align: middle;\n",
       "    }\n",
       "\n",
       "    .dataframe tbody tr th {\n",
       "        vertical-align: top;\n",
       "    }\n",
       "\n",
       "    .dataframe thead th {\n",
       "        text-align: right;\n",
       "    }\n",
       "</style>\n",
       "<table border=\"1\" class=\"dataframe\">\n",
       "  <thead>\n",
       "    <tr style=\"text-align: right;\">\n",
       "      <th></th>\n",
       "      <th>Country/Region</th>\n",
       "      <th>Cases</th>\n",
       "      <th>Deaths</th>\n",
       "      <th>PCases</th>\n",
       "      <th>PDeaths</th>\n",
       "      <th>Cases (+)</th>\n",
       "      <th>Deaths (+)</th>\n",
       "      <th>Fatality Rate</th>\n",
       "      <th>Continent</th>\n",
       "    </tr>\n",
       "  </thead>\n",
       "  <tbody>\n",
       "    <tr>\n",
       "      <th>0</th>\n",
       "      <td>US</td>\n",
       "      <td>90200438</td>\n",
       "      <td>1026294</td>\n",
       "      <td>90046261</td>\n",
       "      <td>1025763</td>\n",
       "      <td>154177</td>\n",
       "      <td>531</td>\n",
       "      <td>1.14</td>\n",
       "      <td>North America</td>\n",
       "    </tr>\n",
       "    <tr>\n",
       "      <th>1</th>\n",
       "      <td>India</td>\n",
       "      <td>43847065</td>\n",
       "      <td>525930</td>\n",
       "      <td>43824728</td>\n",
       "      <td>528433</td>\n",
       "      <td>22337</td>\n",
       "      <td>0</td>\n",
       "      <td>1.20</td>\n",
       "      <td>Asia</td>\n",
       "    </tr>\n",
       "    <tr>\n",
       "      <th>2</th>\n",
       "      <td>France</td>\n",
       "      <td>33546628</td>\n",
       "      <td>152277</td>\n",
       "      <td>33465759</td>\n",
       "      <td>152144</td>\n",
       "      <td>80869</td>\n",
       "      <td>133</td>\n",
       "      <td>0.45</td>\n",
       "      <td>Europe</td>\n",
       "    </tr>\n",
       "    <tr>\n",
       "      <th>3</th>\n",
       "      <td>Brazil</td>\n",
       "      <td>33505727</td>\n",
       "      <td>676486</td>\n",
       "      <td>33454294</td>\n",
       "      <td>676217</td>\n",
       "      <td>51433</td>\n",
       "      <td>269</td>\n",
       "      <td>2.02</td>\n",
       "      <td>South America</td>\n",
       "    </tr>\n",
       "    <tr>\n",
       "      <th>4</th>\n",
       "      <td>Germany</td>\n",
       "      <td>30239122</td>\n",
       "      <td>143061</td>\n",
       "      <td>30131303</td>\n",
       "      <td>142948</td>\n",
       "      <td>107819</td>\n",
       "      <td>113</td>\n",
       "      <td>0.47</td>\n",
       "      <td>Europe</td>\n",
       "    </tr>\n",
       "  </tbody>\n",
       "</table>\n",
       "</div>"
      ],
      "text/plain": [
       "  Country/Region     Cases   Deaths    PCases  PDeaths  Cases (+)  Deaths (+)  \\\n",
       "0             US  90200438  1026294  90046261  1025763     154177         531   \n",
       "1          India  43847065   525930  43824728   528433      22337           0   \n",
       "2         France  33546628   152277  33465759   152144      80869         133   \n",
       "3         Brazil  33505727   676486  33454294   676217      51433         269   \n",
       "4        Germany  30239122   143061  30131303   142948     107819         113   \n",
       "\n",
       "   Fatality Rate      Continent  \n",
       "0           1.14  North America  \n",
       "1           1.20           Asia  \n",
       "2           0.45         Europe  \n",
       "3           2.02  South America  \n",
       "4           0.47         Europe  "
      ]
     },
     "execution_count": 13,
     "metadata": {},
     "output_type": "execute_result"
    }
   ],
   "source": [
    "#hide\n",
    "for c in 'Cases, Deaths'.split(', '):\n",
    "    df_table[f'{c} (+)'] = (df_table[c] - df_table[f'P{c}']).clip(0)\n",
    "    #Clip ça veut dire, les chiffres negatif sont interdit\n",
    "df_table['Fatality Rate'] = (100* df_table['Deaths']/ df_table['Cases']).round(2)\n",
    "df_table['Continent'] = df_table['Country/Region'].map(mapping['map.continent'])\n",
    "df_table.head(5)"
   ]
  },
  {
   "cell_type": "code",
   "execution_count": 14,
   "id": "aboriginal-bulgaria",
   "metadata": {
    "execution": {
     "iopub.execute_input": "2022-07-23T00:43:32.201997Z",
     "iopub.status.busy": "2022-07-23T00:43:32.201405Z",
     "iopub.status.idle": "2022-07-23T00:43:32.203946Z",
     "shell.execute_reply": "2022-07-23T00:43:32.203473Z"
    },
    "papermill": {
     "duration": 0.038101,
     "end_time": "2022-07-23T00:43:32.204051",
     "exception": false,
     "start_time": "2022-07-23T00:43:32.165950",
     "status": "completed"
    },
    "tags": []
   },
   "outputs": [],
   "source": [
    "#hide\n",
    "#delete problematic countries from table\n",
    "df_table = df_table[~df_table['Country/Region'].isin(['Cape Verde', 'Cruise Ship', 'Kosovo'])]"
   ]
  },
  {
   "cell_type": "code",
   "execution_count": 15,
   "id": "fantastic-effect",
   "metadata": {
    "execution": {
     "iopub.execute_input": "2022-07-23T00:43:32.272446Z",
     "iopub.status.busy": "2022-07-23T00:43:32.271862Z",
     "iopub.status.idle": "2022-07-23T00:43:32.288139Z",
     "shell.execute_reply": "2022-07-23T00:43:32.288672Z"
    },
    "papermill": {
     "duration": 0.054466,
     "end_time": "2022-07-23T00:43:32.288793",
     "exception": false,
     "start_time": "2022-07-23T00:43:32.234327",
     "status": "completed"
    },
    "tags": []
   },
   "outputs": [
    {
     "data": {
      "text/html": [
       "<div>\n",
       "<style scoped>\n",
       "    .dataframe tbody tr th:only-of-type {\n",
       "        vertical-align: middle;\n",
       "    }\n",
       "\n",
       "    .dataframe tbody tr th {\n",
       "        vertical-align: top;\n",
       "    }\n",
       "\n",
       "    .dataframe thead th {\n",
       "        text-align: right;\n",
       "    }\n",
       "</style>\n",
       "<table border=\"1\" class=\"dataframe\">\n",
       "  <thead>\n",
       "    <tr style=\"text-align: right;\">\n",
       "      <th></th>\n",
       "      <th>Country/Region</th>\n",
       "      <th>Cases</th>\n",
       "      <th>Deaths</th>\n",
       "      <th>PCases</th>\n",
       "      <th>PDeaths</th>\n",
       "      <th>Cases (+)</th>\n",
       "      <th>Deaths (+)</th>\n",
       "      <th>Fatality Rate</th>\n",
       "      <th>Continent</th>\n",
       "    </tr>\n",
       "  </thead>\n",
       "  <tbody>\n",
       "    <tr>\n",
       "      <th>0</th>\n",
       "      <td>US</td>\n",
       "      <td>90200438</td>\n",
       "      <td>1026294</td>\n",
       "      <td>90046261</td>\n",
       "      <td>1025763</td>\n",
       "      <td>154177</td>\n",
       "      <td>531</td>\n",
       "      <td>1.1</td>\n",
       "      <td>North America</td>\n",
       "    </tr>\n",
       "    <tr>\n",
       "      <th>1</th>\n",
       "      <td>India</td>\n",
       "      <td>43847065</td>\n",
       "      <td>525930</td>\n",
       "      <td>43824728</td>\n",
       "      <td>528433</td>\n",
       "      <td>22337</td>\n",
       "      <td>0</td>\n",
       "      <td>1.2</td>\n",
       "      <td>Asia</td>\n",
       "    </tr>\n",
       "    <tr>\n",
       "      <th>2</th>\n",
       "      <td>France</td>\n",
       "      <td>33546628</td>\n",
       "      <td>152277</td>\n",
       "      <td>33465759</td>\n",
       "      <td>152144</td>\n",
       "      <td>80869</td>\n",
       "      <td>133</td>\n",
       "      <td>0.5</td>\n",
       "      <td>Europe</td>\n",
       "    </tr>\n",
       "    <tr>\n",
       "      <th>3</th>\n",
       "      <td>Brazil</td>\n",
       "      <td>33505727</td>\n",
       "      <td>676486</td>\n",
       "      <td>33454294</td>\n",
       "      <td>676217</td>\n",
       "      <td>51433</td>\n",
       "      <td>269</td>\n",
       "      <td>2.0</td>\n",
       "      <td>South America</td>\n",
       "    </tr>\n",
       "    <tr>\n",
       "      <th>4</th>\n",
       "      <td>Germany</td>\n",
       "      <td>30239122</td>\n",
       "      <td>143061</td>\n",
       "      <td>30131303</td>\n",
       "      <td>142948</td>\n",
       "      <td>107819</td>\n",
       "      <td>113</td>\n",
       "      <td>0.5</td>\n",
       "      <td>Europe</td>\n",
       "    </tr>\n",
       "  </tbody>\n",
       "</table>\n",
       "</div>"
      ],
      "text/plain": [
       "  Country/Region     Cases   Deaths    PCases  PDeaths  Cases (+)  Deaths (+)  \\\n",
       "0             US  90200438  1026294  90046261  1025763     154177         531   \n",
       "1          India  43847065   525930  43824728   528433      22337           0   \n",
       "2         France  33546628   152277  33465759   152144      80869         133   \n",
       "3         Brazil  33505727   676486  33454294   676217      51433         269   \n",
       "4        Germany  30239122   143061  30131303   142948     107819         113   \n",
       "\n",
       "   Fatality Rate      Continent  \n",
       "0            1.1  North America  \n",
       "1            1.2           Asia  \n",
       "2            0.5         Europe  \n",
       "3            2.0  South America  \n",
       "4            0.5         Europe  "
      ]
     },
     "execution_count": 15,
     "metadata": {},
     "output_type": "execute_result"
    }
   ],
   "source": [
    "#hide\n",
    "df_table = (pd.DataFrame(dict(Cases=dfc_cases, Deaths=dfc_deaths, PCases=dfp_cases, PDeaths=dfp_deaths))\n",
    "             .sort_values(by=['Cases', 'Deaths'], ascending=[False, False])\n",
    "             .reset_index())\n",
    "df_table.rename(columns={'index': 'Country/Region'}, inplace=True)\n",
    "for c in 'Cases, Deaths'.split(', '):\n",
    "    df_table[f'{c} (+)'] = (df_table[c] - df_table[f'P{c}']).clip(0)  # DATA BUG\n",
    "df_table['Fatality Rate'] = (100 * df_table['Deaths'] / df_table['Cases']).round(1)\n",
    "df_table['Continent'] = df_table['Country/Region'].map(mapping['map.continent'])\n",
    "df_table.head(5)"
   ]
  },
  {
   "cell_type": "code",
   "execution_count": 16,
   "id": "fewer-occasion",
   "metadata": {
    "execution": {
     "iopub.execute_input": "2022-07-23T00:43:32.356239Z",
     "iopub.status.busy": "2022-07-23T00:43:32.355623Z",
     "iopub.status.idle": "2022-07-23T00:43:32.358070Z",
     "shell.execute_reply": "2022-07-23T00:43:32.357533Z"
    },
    "papermill": {
     "duration": 0.038051,
     "end_time": "2022-07-23T00:43:32.358170",
     "exception": false,
     "start_time": "2022-07-23T00:43:32.320119",
     "status": "completed"
    },
    "tags": []
   },
   "outputs": [],
   "source": [
    "#hide\n",
    "#delete problematic countries from table\n",
    "df_table = df_table[~df_table['Country/Region'].isin(['Cape Verde', 'Cruise Ship', 'Kosovo'])]"
   ]
  },
  {
   "cell_type": "code",
   "execution_count": 17,
   "id": "related-center",
   "metadata": {
    "execution": {
     "iopub.execute_input": "2022-07-23T00:43:32.436894Z",
     "iopub.status.busy": "2022-07-23T00:43:32.436308Z",
     "iopub.status.idle": "2022-07-23T00:43:32.438690Z",
     "shell.execute_reply": "2022-07-23T00:43:32.439141Z"
    },
    "papermill": {
     "duration": 0.050373,
     "end_time": "2022-07-23T00:43:32.439261",
     "exception": false,
     "start_time": "2022-07-23T00:43:32.388888",
     "status": "completed"
    },
    "tags": []
   },
   "outputs": [],
   "source": [
    "#hide\n",
    "metrics = [df_table.columns[index] for index in [1,2,5,6]]\n",
    "# s_china = df_table[df_table['Country/Region'].eq('China')][metrics].sum().add_prefix('China ')\n",
    "s_us = df_table[df_table['Country/Region'].eq('US')][metrics].sum().add_prefix('US ')\n",
    "s_eu = df_table[df_table['Continent'].eq('Europe')][metrics].sum().add_prefix('EU ')\n",
    "s_ind = df_table[df_table['Country/Region'].eq('India')][metrics].sum().add_prefix('India ')\n",
    "summary = {'updated': pd.to_datetime(dt_today), 'since': pd.to_datetime(dt_yday)}\n",
    "summary = {'updated': pd.to_datetime(dt_today), 'since': pd.to_datetime(dt_yday)}\n",
    "summary = {**summary, **df_table[metrics].sum(), **s_ind, **s_us, **s_eu}"
   ]
  },
  {
   "cell_type": "code",
   "execution_count": 18,
   "id": "engaging-syndrome",
   "metadata": {
    "execution": {
     "iopub.execute_input": "2022-07-23T00:43:32.505951Z",
     "iopub.status.busy": "2022-07-23T00:43:32.505355Z",
     "iopub.status.idle": "2022-07-23T00:43:32.523906Z",
     "shell.execute_reply": "2022-07-23T00:43:32.523412Z"
    },
    "papermill": {
     "duration": 0.05394,
     "end_time": "2022-07-23T00:43:32.524018",
     "exception": false,
     "start_time": "2022-07-23T00:43:32.470078",
     "status": "completed"
    },
    "tags": []
   },
   "outputs": [],
   "source": [
    "#hide\n",
    "dft_ct_new_cases = dft_cases.groupby(COL_REGION)[dt_cols].sum().diff(axis=1).fillna(0).astype(int)"
   ]
  },
  {
   "cell_type": "code",
   "execution_count": 19,
   "id": "neutral-assignment",
   "metadata": {
    "execution": {
     "iopub.execute_input": "2022-07-23T00:43:32.593569Z",
     "iopub.status.busy": "2022-07-23T00:43:32.593000Z",
     "iopub.status.idle": "2022-07-23T00:43:32.597725Z",
     "shell.execute_reply": "2022-07-23T00:43:32.597281Z"
    },
    "papermill": {
     "duration": 0.043055,
     "end_time": "2022-07-23T00:43:32.597832",
     "exception": false,
     "start_time": "2022-07-23T00:43:32.554777",
     "status": "completed"
    },
    "tags": []
   },
   "outputs": [],
   "source": [
    "#hide\n",
    "everydaycases = dft_ct_new_cases.cumsum(axis=1)"
   ]
  },
  {
   "cell_type": "code",
   "execution_count": 20,
   "id": "parliamentary-calgary",
   "metadata": {
    "execution": {
     "iopub.execute_input": "2022-07-23T00:43:32.663622Z",
     "iopub.status.busy": "2022-07-23T00:43:32.663044Z",
     "iopub.status.idle": "2022-07-23T00:43:33.223113Z",
     "shell.execute_reply": "2022-07-23T00:43:33.222141Z"
    },
    "papermill": {
     "duration": 0.594502,
     "end_time": "2022-07-23T00:43:33.223234",
     "exception": false,
     "start_time": "2022-07-23T00:43:32.628732",
     "status": "completed"
    },
    "tags": []
   },
   "outputs": [],
   "source": [
    "#hide\n",
    "import pandas as pd\n",
    "import matplotlib.pyplot as plt\n",
    "import matplotlib.ticker as ticker\n",
    "import matplotlib.animation as animation\n",
    "from IPython.display import HTML"
   ]
  },
  {
   "cell_type": "code",
   "execution_count": 21,
   "id": "lasting-extraction",
   "metadata": {
    "execution": {
     "iopub.execute_input": "2022-07-23T00:43:33.291305Z",
     "iopub.status.busy": "2022-07-23T00:43:33.290733Z",
     "iopub.status.idle": "2022-07-23T00:43:33.298966Z",
     "shell.execute_reply": "2022-07-23T00:43:33.299383Z"
    },
    "papermill": {
     "duration": 0.045195,
     "end_time": "2022-07-23T00:43:33.299516",
     "exception": false,
     "start_time": "2022-07-23T00:43:33.254321",
     "status": "completed"
    },
    "tags": []
   },
   "outputs": [],
   "source": [
    "#hide\n",
    "t = everydaycases.stack()"
   ]
  },
  {
   "cell_type": "code",
   "execution_count": 22,
   "id": "premier-sleeve",
   "metadata": {
    "execution": {
     "iopub.execute_input": "2022-07-23T00:43:33.365576Z",
     "iopub.status.busy": "2022-07-23T00:43:33.364996Z",
     "iopub.status.idle": "2022-07-23T00:43:33.375679Z",
     "shell.execute_reply": "2022-07-23T00:43:33.376144Z"
    },
    "papermill": {
     "duration": 0.045829,
     "end_time": "2022-07-23T00:43:33.376268",
     "exception": false,
     "start_time": "2022-07-23T00:43:33.330439",
     "status": "completed"
    },
    "tags": []
   },
   "outputs": [],
   "source": [
    "#hide\n",
    "g = t.reset_index(['Country/Region'])"
   ]
  },
  {
   "cell_type": "code",
   "execution_count": 23,
   "id": "distributed-pittsburgh",
   "metadata": {
    "execution": {
     "iopub.execute_input": "2022-07-23T00:43:33.441774Z",
     "iopub.status.busy": "2022-07-23T00:43:33.441190Z",
     "iopub.status.idle": "2022-07-23T00:43:33.443941Z",
     "shell.execute_reply": "2022-07-23T00:43:33.443376Z"
    },
    "papermill": {
     "duration": 0.037128,
     "end_time": "2022-07-23T00:43:33.444047",
     "exception": false,
     "start_time": "2022-07-23T00:43:33.406919",
     "status": "completed"
    },
    "tags": []
   },
   "outputs": [],
   "source": [
    "#hide\n",
    "g.index.name = 'date'"
   ]
  },
  {
   "cell_type": "code",
   "execution_count": 24,
   "id": "naked-donor",
   "metadata": {
    "execution": {
     "iopub.execute_input": "2022-07-23T00:43:33.513470Z",
     "iopub.status.busy": "2022-07-23T00:43:33.512862Z",
     "iopub.status.idle": "2022-07-23T00:43:33.515568Z",
     "shell.execute_reply": "2022-07-23T00:43:33.515021Z"
    },
    "papermill": {
     "duration": 0.036814,
     "end_time": "2022-07-23T00:43:33.515687",
     "exception": false,
     "start_time": "2022-07-23T00:43:33.478873",
     "status": "completed"
    },
    "tags": []
   },
   "outputs": [],
   "source": [
    "# #hide\n",
    "# g = g.reset_index(['date'])"
   ]
  },
  {
   "cell_type": "code",
   "execution_count": 25,
   "id": "incomplete-mustang",
   "metadata": {
    "execution": {
     "iopub.execute_input": "2022-07-23T00:43:33.583757Z",
     "iopub.status.busy": "2022-07-23T00:43:33.583159Z",
     "iopub.status.idle": "2022-07-23T00:43:33.585184Z",
     "shell.execute_reply": "2022-07-23T00:43:33.585639Z"
    },
    "papermill": {
     "duration": 0.039313,
     "end_time": "2022-07-23T00:43:33.585760",
     "exception": false,
     "start_time": "2022-07-23T00:43:33.546447",
     "status": "completed"
    },
    "tags": []
   },
   "outputs": [],
   "source": [
    "#hide\n",
    "# g.head()"
   ]
  },
  {
   "cell_type": "code",
   "execution_count": 26,
   "id": "specific-kruger",
   "metadata": {
    "execution": {
     "iopub.execute_input": "2022-07-23T00:43:33.650873Z",
     "iopub.status.busy": "2022-07-23T00:43:33.650288Z",
     "iopub.status.idle": "2022-07-23T00:43:33.652881Z",
     "shell.execute_reply": "2022-07-23T00:43:33.652330Z"
    },
    "papermill": {
     "duration": 0.036351,
     "end_time": "2022-07-23T00:43:33.652983",
     "exception": false,
     "start_time": "2022-07-23T00:43:33.616632",
     "status": "completed"
    },
    "tags": []
   },
   "outputs": [],
   "source": [
    "#hide\n",
    "# g.columns = ['date','country','cases']"
   ]
  },
  {
   "cell_type": "code",
   "execution_count": 27,
   "id": "tender-conversion",
   "metadata": {
    "execution": {
     "iopub.execute_input": "2022-07-23T00:43:33.722153Z",
     "iopub.status.busy": "2022-07-23T00:43:33.721563Z",
     "iopub.status.idle": "2022-07-23T00:43:33.724128Z",
     "shell.execute_reply": "2022-07-23T00:43:33.723561Z"
    },
    "papermill": {
     "duration": 0.036393,
     "end_time": "2022-07-23T00:43:33.724231",
     "exception": false,
     "start_time": "2022-07-23T00:43:33.687838",
     "status": "completed"
    },
    "tags": []
   },
   "outputs": [],
   "source": [
    "#hide\n",
    "# g['continent'] = g.country"
   ]
  },
  {
   "cell_type": "code",
   "execution_count": 28,
   "id": "substantial-wilderness",
   "metadata": {
    "execution": {
     "iopub.execute_input": "2022-07-23T00:43:33.793167Z",
     "iopub.status.busy": "2022-07-23T00:43:33.792592Z",
     "iopub.status.idle": "2022-07-23T00:43:33.794584Z",
     "shell.execute_reply": "2022-07-23T00:43:33.795033Z"
    },
    "papermill": {
     "duration": 0.039957,
     "end_time": "2022-07-23T00:43:33.795152",
     "exception": false,
     "start_time": "2022-07-23T00:43:33.755195",
     "status": "completed"
    },
    "tags": []
   },
   "outputs": [],
   "source": [
    "#hide\n",
    "# cols = list(g.columns.values)"
   ]
  },
  {
   "cell_type": "code",
   "execution_count": 29,
   "id": "solved-farming",
   "metadata": {
    "execution": {
     "iopub.execute_input": "2022-07-23T00:43:33.859808Z",
     "iopub.status.busy": "2022-07-23T00:43:33.859201Z",
     "iopub.status.idle": "2022-07-23T00:43:33.861792Z",
     "shell.execute_reply": "2022-07-23T00:43:33.861343Z"
    },
    "papermill": {
     "duration": 0.036244,
     "end_time": "2022-07-23T00:43:33.861897",
     "exception": false,
     "start_time": "2022-07-23T00:43:33.825653",
     "status": "completed"
    },
    "tags": []
   },
   "outputs": [],
   "source": [
    "#hide\n",
    "# cols.insert(0, cols.pop())"
   ]
  },
  {
   "cell_type": "code",
   "execution_count": 30,
   "id": "executed-adoption",
   "metadata": {
    "execution": {
     "iopub.execute_input": "2022-07-23T00:43:33.927907Z",
     "iopub.status.busy": "2022-07-23T00:43:33.927311Z",
     "iopub.status.idle": "2022-07-23T00:43:33.930994Z",
     "shell.execute_reply": "2022-07-23T00:43:33.931419Z"
    },
    "papermill": {
     "duration": 0.038129,
     "end_time": "2022-07-23T00:43:33.931544",
     "exception": false,
     "start_time": "2022-07-23T00:43:33.893415",
     "status": "completed"
    },
    "tags": []
   },
   "outputs": [],
   "source": [
    "#hide\n",
    "# g = g[cols]"
   ]
  },
  {
   "cell_type": "code",
   "execution_count": 31,
   "id": "subject-dublin",
   "metadata": {
    "execution": {
     "iopub.execute_input": "2022-07-23T00:43:34.000955Z",
     "iopub.status.busy": "2022-07-23T00:43:34.000370Z",
     "iopub.status.idle": "2022-07-23T00:43:34.002955Z",
     "shell.execute_reply": "2022-07-23T00:43:34.002502Z"
    },
    "papermill": {
     "duration": 0.040923,
     "end_time": "2022-07-23T00:43:34.003057",
     "exception": false,
     "start_time": "2022-07-23T00:43:33.962134",
     "status": "completed"
    },
    "tags": []
   },
   "outputs": [],
   "source": [
    "#hide\n",
    "# g['continent'] = g['continent'].map(mapping['map.continent'])"
   ]
  },
  {
   "cell_type": "code",
   "execution_count": 32,
   "id": "freelance-scout",
   "metadata": {
    "execution": {
     "iopub.execute_input": "2022-07-23T00:43:34.068109Z",
     "iopub.status.busy": "2022-07-23T00:43:34.067478Z",
     "iopub.status.idle": "2022-07-23T00:43:34.069880Z",
     "shell.execute_reply": "2022-07-23T00:43:34.069440Z"
    },
    "papermill": {
     "duration": 0.036188,
     "end_time": "2022-07-23T00:43:34.069979",
     "exception": false,
     "start_time": "2022-07-23T00:43:34.033791",
     "status": "completed"
    },
    "tags": []
   },
   "outputs": [],
   "source": [
    "#hide\n",
    "# g.head()"
   ]
  },
  {
   "cell_type": "code",
   "execution_count": 33,
   "id": "limited-engine",
   "metadata": {
    "execution": {
     "iopub.execute_input": "2022-07-23T00:43:34.134809Z",
     "iopub.status.busy": "2022-07-23T00:43:34.134225Z",
     "iopub.status.idle": "2022-07-23T00:43:34.136793Z",
     "shell.execute_reply": "2022-07-23T00:43:34.136246Z"
    },
    "papermill": {
     "duration": 0.036322,
     "end_time": "2022-07-23T00:43:34.136894",
     "exception": false,
     "start_time": "2022-07-23T00:43:34.100572",
     "status": "completed"
    },
    "tags": []
   },
   "outputs": [],
   "source": [
    "# hide\n",
    "# g['date'] = g['date'].astype('datetime64[ns]')"
   ]
  },
  {
   "cell_type": "code",
   "execution_count": 34,
   "id": "sophisticated-supervisor",
   "metadata": {
    "execution": {
     "iopub.execute_input": "2022-07-23T00:43:34.202564Z",
     "iopub.status.busy": "2022-07-23T00:43:34.201984Z",
     "iopub.status.idle": "2022-07-23T00:43:34.204624Z",
     "shell.execute_reply": "2022-07-23T00:43:34.204174Z"
    },
    "papermill": {
     "duration": 0.036697,
     "end_time": "2022-07-23T00:43:34.204726",
     "exception": false,
     "start_time": "2022-07-23T00:43:34.168029",
     "status": "completed"
    },
    "tags": []
   },
   "outputs": [],
   "source": [
    "#hide\n",
    "# g['date'] = g.date.dt.dayofyear"
   ]
  },
  {
   "cell_type": "code",
   "execution_count": 35,
   "id": "inside-dubai",
   "metadata": {
    "execution": {
     "iopub.execute_input": "2022-07-23T00:43:34.270812Z",
     "iopub.status.busy": "2022-07-23T00:43:34.270236Z",
     "iopub.status.idle": "2022-07-23T00:43:34.272223Z",
     "shell.execute_reply": "2022-07-23T00:43:34.272637Z"
    },
    "papermill": {
     "duration": 0.036459,
     "end_time": "2022-07-23T00:43:34.272750",
     "exception": false,
     "start_time": "2022-07-23T00:43:34.236291",
     "status": "completed"
    },
    "tags": []
   },
   "outputs": [],
   "source": [
    "#hide\n",
    "# g = g.rename(columns= {'continent':'group','country':'name','cases':'value'})"
   ]
  },
  {
   "cell_type": "code",
   "execution_count": 36,
   "id": "fleet-motorcycle",
   "metadata": {
    "execution": {
     "iopub.execute_input": "2022-07-23T00:43:34.338345Z",
     "iopub.status.busy": "2022-07-23T00:43:34.337765Z",
     "iopub.status.idle": "2022-07-23T00:43:34.340420Z",
     "shell.execute_reply": "2022-07-23T00:43:34.339988Z"
    },
    "papermill": {
     "duration": 0.036545,
     "end_time": "2022-07-23T00:43:34.340527",
     "exception": false,
     "start_time": "2022-07-23T00:43:34.303982",
     "status": "completed"
    },
    "tags": []
   },
   "outputs": [],
   "source": [
    "#hide\n",
    "# cols = ['name','group','day','value']"
   ]
  },
  {
   "cell_type": "code",
   "execution_count": 37,
   "id": "continued-sleeping",
   "metadata": {
    "execution": {
     "iopub.execute_input": "2022-07-23T00:43:34.406689Z",
     "iopub.status.busy": "2022-07-23T00:43:34.406112Z",
     "iopub.status.idle": "2022-07-23T00:43:34.408751Z",
     "shell.execute_reply": "2022-07-23T00:43:34.408309Z"
    },
    "papermill": {
     "duration": 0.037488,
     "end_time": "2022-07-23T00:43:34.408853",
     "exception": false,
     "start_time": "2022-07-23T00:43:34.371365",
     "status": "completed"
    },
    "tags": []
   },
   "outputs": [],
   "source": [
    "#hide\n",
    "# g.rename(columns= {'date':'day'},inplace = True)"
   ]
  },
  {
   "cell_type": "code",
   "execution_count": 38,
   "id": "major-fight",
   "metadata": {
    "execution": {
     "iopub.execute_input": "2022-07-23T00:43:34.473420Z",
     "iopub.status.busy": "2022-07-23T00:43:34.472845Z",
     "iopub.status.idle": "2022-07-23T00:43:34.476294Z",
     "shell.execute_reply": "2022-07-23T00:43:34.476715Z"
    },
    "papermill": {
     "duration": 0.036851,
     "end_time": "2022-07-23T00:43:34.476839",
     "exception": false,
     "start_time": "2022-07-23T00:43:34.439988",
     "status": "completed"
    },
    "tags": []
   },
   "outputs": [],
   "source": [
    "#hide\n",
    "# g = g[cols]"
   ]
  },
  {
   "cell_type": "code",
   "execution_count": 39,
   "id": "structured-mobile",
   "metadata": {
    "execution": {
     "iopub.execute_input": "2022-07-23T00:43:34.541557Z",
     "iopub.status.busy": "2022-07-23T00:43:34.540633Z",
     "iopub.status.idle": "2022-07-23T00:43:34.543710Z",
     "shell.execute_reply": "2022-07-23T00:43:34.544136Z"
    },
    "papermill": {
     "duration": 0.036656,
     "end_time": "2022-07-23T00:43:34.544260",
     "exception": false,
     "start_time": "2022-07-23T00:43:34.507604",
     "status": "completed"
    },
    "tags": []
   },
   "outputs": [],
   "source": [
    "# #hide\n",
    "# g = g[g.group.notna()]"
   ]
  },
  {
   "cell_type": "code",
   "execution_count": 40,
   "id": "determined-closing",
   "metadata": {
    "execution": {
     "iopub.execute_input": "2022-07-23T00:43:34.609971Z",
     "iopub.status.busy": "2022-07-23T00:43:34.609368Z",
     "iopub.status.idle": "2022-07-23T00:43:34.611919Z",
     "shell.execute_reply": "2022-07-23T00:43:34.611369Z"
    },
    "papermill": {
     "duration": 0.036691,
     "end_time": "2022-07-23T00:43:34.612027",
     "exception": false,
     "start_time": "2022-07-23T00:43:34.575336",
     "status": "completed"
    },
    "tags": []
   },
   "outputs": [],
   "source": [
    "# #hide\n",
    "# colors = dict(zip(\n",
    "#     [\"Oceania\", \"Europe\", \"Asia\", \"South America\", \"Middle East\", \"North America\", \"Africa\"],\n",
    "#     [\"#adb0ff\", \"#ffb3ff\", \"#90d595\", \"#e48381\", \"#aafbff\", \"#f7bb5f\", \"#eafb50\"]\n",
    "# ))\n",
    "# group_lk = g.set_index('name')['group'].to_dict()"
   ]
  },
  {
   "cell_type": "code",
   "execution_count": null,
   "id": "gross-drinking",
   "metadata": {
    "papermill": {
     "duration": 0.035142,
     "end_time": "2022-07-23T00:43:34.677958",
     "exception": false,
     "start_time": "2022-07-23T00:43:34.642816",
     "status": "completed"
    },
    "tags": []
   },
   "outputs": [],
   "source": []
  },
  {
   "cell_type": "code",
   "execution_count": 41,
   "id": "subject-macintosh",
   "metadata": {
    "execution": {
     "iopub.execute_input": "2022-07-23T00:43:34.744095Z",
     "iopub.status.busy": "2022-07-23T00:43:34.743470Z",
     "iopub.status.idle": "2022-07-23T00:43:34.746077Z",
     "shell.execute_reply": "2022-07-23T00:43:34.745626Z"
    },
    "papermill": {
     "duration": 0.037177,
     "end_time": "2022-07-23T00:43:34.746182",
     "exception": false,
     "start_time": "2022-07-23T00:43:34.709005",
     "status": "completed"
    },
    "tags": []
   },
   "outputs": [],
   "source": [
    "# #hide\n",
    "# fig, ax = plt.subplots(figsize=(15, 8))\n",
    "\n",
    "# def draw_barchart(current_day):\n",
    "#     dff = g[g['day'].eq(current_day)].sort_values(by='value', ascending=True).tail(10)\n",
    "#     ax.clear()\n",
    "#     ax.barh(dff['name'], dff['value'], color=[colors[group_lk[x]] for x in dff['name']])\n",
    "#     dx = dff['value'].max() / 200\n",
    "    \n",
    "#     for i, (value, name) in enumerate(zip(dff['value'], dff['name'])):\n",
    "#         ax.text(value-dx, i,     name,           size=14, weight=600, ha='right', va='bottom')\n",
    "#         ax.text(value-dx, i-.25, group_lk[name], size=10, color='#444444', ha='right', va='baseline')\n",
    "#         ax.text(value+dx, i,     f'{value:,.0f}',  size=14, ha='left',  va='center')\n",
    "#     ax.text(1, 0.4, current_day, transform=ax.transAxes, color='#777777', size=46, ha='right', weight=800)\n",
    "#     ax.text(0, 1.06, 'Population (thousands)', transform=ax.transAxes, size=12, color='#777777')\n",
    "#     ax.xaxis.set_major_formatter(ticker.StrMethodFormatter('{x:,.0f}'))\n",
    "#     ax.xaxis.set_ticks_position('top')\n",
    "#     ax.tick_params(axis='x', colors='#777777', labelsize=12)\n",
    "#     ax.set_yticks([])\n",
    "#     ax.margins(0, 0.01)\n",
    "#     ax.grid(which='major', axis='x', linestyle='-')\n",
    "#     ax.set_axisbelow(True)\n",
    "    \n",
    "#     ax.text(0, 1.15, 'Coronavirus',\n",
    "#             transform=ax.transAxes, size=24, weight=600, ha='left', va='top')\n",
    "# #     ax.text(1, 0, 'by @pratapvardhan; credit @jburnmurdoch', transform=ax.transAxes, color='#777777', ha='right',\n",
    "# #             bbox=dict(facecolor='white', alpha=0.8, edgecolor='white'))\n",
    "#     plt.box(False)"
   ]
  },
  {
   "cell_type": "code",
   "execution_count": 42,
   "id": "sexual-wages",
   "metadata": {
    "execution": {
     "iopub.execute_input": "2022-07-23T00:43:34.811690Z",
     "iopub.status.busy": "2022-07-23T00:43:34.811068Z",
     "iopub.status.idle": "2022-07-23T00:43:34.814693Z",
     "shell.execute_reply": "2022-07-23T00:43:34.815111Z"
    },
    "papermill": {
     "duration": 0.038214,
     "end_time": "2022-07-23T00:43:34.815233",
     "exception": false,
     "start_time": "2022-07-23T00:43:34.777019",
     "status": "completed"
    },
    "tags": []
   },
   "outputs": [],
   "source": [
    "# #hide_input\n",
    "# fig, ax = plt.subplots(figsize=(15, 8))\n",
    "# animator = animation.FuncAnimation(fig, draw_barchart, frames=range(g.day.values.min(), g.day.values.max()))\n",
    "# HTML(animator.to_jshtml())\n",
    "# # or use animator.to_html5_video() or animator.save() "
   ]
  },
  {
   "cell_type": "code",
   "execution_count": null,
   "id": "australian-container",
   "metadata": {
    "papermill": {
     "duration": 0.034724,
     "end_time": "2022-07-23T00:43:34.880828",
     "exception": false,
     "start_time": "2022-07-23T00:43:34.846104",
     "status": "completed"
    },
    "tags": []
   },
   "outputs": [],
   "source": []
  },
  {
   "cell_type": "code",
   "execution_count": null,
   "id": "mediterranean-pontiac",
   "metadata": {
    "papermill": {
     "duration": 0.030508,
     "end_time": "2022-07-23T00:43:34.941875",
     "exception": false,
     "start_time": "2022-07-23T00:43:34.911367",
     "status": "completed"
    },
    "tags": []
   },
   "outputs": [],
   "source": []
  },
  {
   "cell_type": "code",
   "execution_count": null,
   "id": "aging-legislature",
   "metadata": {
    "papermill": {
     "duration": 0.030628,
     "end_time": "2022-07-23T00:43:35.003462",
     "exception": false,
     "start_time": "2022-07-23T00:43:34.972834",
     "status": "completed"
    },
    "tags": []
   },
   "outputs": [],
   "source": []
  }
 ],
 "metadata": {
  "kernelspec": {
   "display_name": "Python 3",
   "language": "python",
   "name": "python3"
  },
  "language_info": {
   "codemirror_mode": {
    "name": "ipython",
    "version": 3
   },
   "file_extension": ".py",
   "mimetype": "text/x-python",
   "name": "python",
   "nbconvert_exporter": "python",
   "pygments_lexer": "ipython3",
   "version": "3.6.15"
  },
  "papermill": {
   "duration": 6.234649,
   "end_time": "2022-07-23T00:43:35.352282",
   "environment_variables": {},
   "exception": null,
   "input_path": "2020-03-21-covid19exp.ipynb",
   "output_path": "2020-03-21-covid19exp.ipynb",
   "parameters": {},
   "start_time": "2022-07-23T00:43:29.117633",
   "version": "2.0.0"
  }
 },
 "nbformat": 4,
 "nbformat_minor": 5
}