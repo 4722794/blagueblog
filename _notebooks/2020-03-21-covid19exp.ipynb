{
 "cells": [
  {
   "cell_type": "markdown",
   "id": "muslim-click",
   "metadata": {
    "papermill": {
     "duration": 0.03645,
     "end_time": "2022-02-14T00:27:19.310291",
     "exception": false,
     "start_time": "2022-02-14T00:27:19.273841",
     "status": "completed"
    },
    "tags": []
   },
   "source": [
    "# COVID-19 Case Race\n",
    "> A race chart to see rising cases around the world\n",
    "\n",
    "- author: Hargun Oberoi\n",
    "- image: images/covid-overview.png\n",
    "- hide: false\n",
    "- badges: false"
   ]
  },
  {
   "cell_type": "code",
   "execution_count": 1,
   "id": "proof-material",
   "metadata": {
    "execution": {
     "iopub.execute_input": "2022-02-14T00:27:19.390839Z",
     "iopub.status.busy": "2022-02-14T00:27:19.390222Z",
     "iopub.status.idle": "2022-02-14T00:27:19.729222Z",
     "shell.execute_reply": "2022-02-14T00:27:19.728654Z"
    },
    "papermill": {
     "duration": 0.381168,
     "end_time": "2022-02-14T00:27:19.729409",
     "exception": false,
     "start_time": "2022-02-14T00:27:19.348241",
     "status": "completed"
    },
    "tags": []
   },
   "outputs": [],
   "source": [
    "#hide\n",
    "import numpy as np\n",
    "import pandas as pd\n",
    "from jinja2 import Template\n",
    "from IPython.display import HTML"
   ]
  },
  {
   "cell_type": "code",
   "execution_count": 2,
   "id": "developed-terminology",
   "metadata": {
    "execution": {
     "iopub.execute_input": "2022-02-14T00:27:19.801184Z",
     "iopub.status.busy": "2022-02-14T00:27:19.800548Z",
     "iopub.status.idle": "2022-02-14T00:27:19.802937Z",
     "shell.execute_reply": "2022-02-14T00:27:19.803631Z"
    },
    "papermill": {
     "duration": 0.040127,
     "end_time": "2022-02-14T00:27:19.803801",
     "exception": false,
     "start_time": "2022-02-14T00:27:19.763674",
     "status": "completed"
    },
    "tags": []
   },
   "outputs": [],
   "source": [
    "#hide\n",
    "\n",
    "# FETCH\n",
    "base_url = 'https://raw.githubusercontent.com/pratapvardhan/notebooks/master/covid19/'\n",
    "paths = {\n",
    "    'mapping': base_url + 'mapping_countries.csv',\n",
    "    'overview': base_url + 'overview.tpl'\n",
    "}"
   ]
  },
  {
   "cell_type": "code",
   "execution_count": 3,
   "id": "dynamic-saver",
   "metadata": {
    "execution": {
     "iopub.execute_input": "2022-02-14T00:27:19.877947Z",
     "iopub.status.busy": "2022-02-14T00:27:19.877322Z",
     "iopub.status.idle": "2022-02-14T00:27:19.880366Z",
     "shell.execute_reply": "2022-02-14T00:27:19.880902Z"
    },
    "papermill": {
     "duration": 0.044729,
     "end_time": "2022-02-14T00:27:19.881017",
     "exception": false,
     "start_time": "2022-02-14T00:27:19.836288",
     "status": "completed"
    },
    "tags": []
   },
   "outputs": [
    {
     "data": {
      "text/plain": [
       "'https://raw.githubusercontent.com/pratapvardhan/notebooks/master/covid19/mapping_countries.csv'"
      ]
     },
     "execution_count": 3,
     "metadata": {},
     "output_type": "execute_result"
    }
   ],
   "source": [
    "#hide\n",
    "paths['mapping']"
   ]
  },
  {
   "cell_type": "code",
   "execution_count": 4,
   "id": "urban-software",
   "metadata": {
    "execution": {
     "iopub.execute_input": "2022-02-14T00:27:19.948728Z",
     "iopub.status.busy": "2022-02-14T00:27:19.948143Z",
     "iopub.status.idle": "2022-02-14T00:27:19.950615Z",
     "shell.execute_reply": "2022-02-14T00:27:19.950121Z"
    },
    "papermill": {
     "duration": 0.038254,
     "end_time": "2022-02-14T00:27:19.950722",
     "exception": false,
     "start_time": "2022-02-14T00:27:19.912468",
     "status": "completed"
    },
    "tags": []
   },
   "outputs": [],
   "source": [
    "#hide\n",
    "def get_mappings(url):\n",
    "    df = pd.read_csv(url)\n",
    "    return {\n",
    "        'df': df,\n",
    "        'replace.country': dict(df.dropna(subset=['Name']).set_index('Country')['Name']),\n",
    "        'map.continent': dict(df.set_index('Name')['Continent'])\n",
    "    }"
   ]
  },
  {
   "cell_type": "code",
   "execution_count": 5,
   "id": "intimate-machinery",
   "metadata": {
    "execution": {
     "iopub.execute_input": "2022-02-14T00:27:20.021247Z",
     "iopub.status.busy": "2022-02-14T00:27:20.020656Z",
     "iopub.status.idle": "2022-02-14T00:27:20.058048Z",
     "shell.execute_reply": "2022-02-14T00:27:20.058760Z"
    },
    "papermill": {
     "duration": 0.074472,
     "end_time": "2022-02-14T00:27:20.058958",
     "exception": false,
     "start_time": "2022-02-14T00:27:19.984486",
     "status": "completed"
    },
    "tags": []
   },
   "outputs": [],
   "source": [
    "#hide\n",
    "mapping = get_mappings(paths['mapping'])"
   ]
  },
  {
   "cell_type": "code",
   "execution_count": 6,
   "id": "certified-tactics",
   "metadata": {
    "execution": {
     "iopub.execute_input": "2022-02-14T00:27:20.126692Z",
     "iopub.status.busy": "2022-02-14T00:27:20.125952Z",
     "iopub.status.idle": "2022-02-14T00:27:20.128530Z",
     "shell.execute_reply": "2022-02-14T00:27:20.129009Z"
    },
    "papermill": {
     "duration": 0.039396,
     "end_time": "2022-02-14T00:27:20.129130",
     "exception": false,
     "start_time": "2022-02-14T00:27:20.089734",
     "status": "completed"
    },
    "tags": []
   },
   "outputs": [],
   "source": [
    "#hide\n",
    "def get_template(path):\n",
    "    from urllib.parse import urlparse\n",
    "    if bool(urlparse(path).netloc):\n",
    "        from urllib.request import urlopen\n",
    "        return urlopen(path).read().decode('utf8')\n",
    "    return open(path).read()"
   ]
  },
  {
   "cell_type": "code",
   "execution_count": 7,
   "id": "realistic-blast",
   "metadata": {
    "execution": {
     "iopub.execute_input": "2022-02-14T00:27:20.200754Z",
     "iopub.status.busy": "2022-02-14T00:27:20.200042Z",
     "iopub.status.idle": "2022-02-14T00:27:20.204399Z",
     "shell.execute_reply": "2022-02-14T00:27:20.203852Z"
    },
    "papermill": {
     "duration": 0.043165,
     "end_time": "2022-02-14T00:27:20.204606",
     "exception": false,
     "start_time": "2022-02-14T00:27:20.161441",
     "status": "completed"
    },
    "tags": []
   },
   "outputs": [],
   "source": [
    "#hide\n",
    "def get_frame(name):\n",
    "    url = (\n",
    "        'https://raw.githubusercontent.com/CSSEGISandData/COVID-19/master/csse_covid_19_data/'\n",
    "        f'csse_covid_19_time_series/time_series_covid19_{name}_global.csv')\n",
    "    df = pd.read_csv(url)\n",
    "    # rename countries\n",
    "    df['Country/Region'] = df['Country/Region'].replace(mapping['replace.country'])\n",
    "    return df"
   ]
  },
  {
   "cell_type": "code",
   "execution_count": 8,
   "id": "affiliated-characterization",
   "metadata": {
    "execution": {
     "iopub.execute_input": "2022-02-14T00:27:20.275943Z",
     "iopub.status.busy": "2022-02-14T00:27:20.275280Z",
     "iopub.status.idle": "2022-02-14T00:27:20.277923Z",
     "shell.execute_reply": "2022-02-14T00:27:20.277362Z"
    },
    "papermill": {
     "duration": 0.04084,
     "end_time": "2022-02-14T00:27:20.278065",
     "exception": false,
     "start_time": "2022-02-14T00:27:20.237225",
     "status": "completed"
    },
    "tags": []
   },
   "outputs": [],
   "source": [
    "#hide\n",
    "def get_dates(df):\n",
    "    dt_cols = df.columns[~df.columns.isin(['Province/State', 'Country/Region', 'Lat', 'Long'])]\n",
    "    LAST_DATE_I = -1\n",
    "    # sometimes last column may be empty, then go backwards\n",
    "    for i in range(-1, -len(dt_cols), -1):\n",
    "        if not df[dt_cols[i]].fillna(0).eq(0).all():\n",
    "            LAST_DATE_I = i\n",
    "            break\n",
    "    return LAST_DATE_I, dt_cols"
   ]
  },
  {
   "cell_type": "code",
   "execution_count": 9,
   "id": "recent-optimization",
   "metadata": {
    "execution": {
     "iopub.execute_input": "2022-02-14T00:27:20.354258Z",
     "iopub.status.busy": "2022-02-14T00:27:20.353626Z",
     "iopub.status.idle": "2022-02-14T00:27:20.822287Z",
     "shell.execute_reply": "2022-02-14T00:27:20.821686Z"
    },
    "papermill": {
     "duration": 0.50707,
     "end_time": "2022-02-14T00:27:20.822436",
     "exception": false,
     "start_time": "2022-02-14T00:27:20.315366",
     "status": "completed"
    },
    "tags": []
   },
   "outputs": [],
   "source": [
    "#hide\n",
    "COL_REGION = 'Country/Region'\n",
    "# Confirmed, Recovered, Deaths\n",
    "df = get_frame('confirmed')\n",
    "# dft_: timeseries, dfc_: today country agg\n",
    "dft_cases = df\n",
    "dft_deaths = get_frame('deaths')\n",
    "dft_recovered = get_frame('recovered')\n",
    "LAST_DATE_I, dt_cols = get_dates(df)"
   ]
  },
  {
   "cell_type": "code",
   "execution_count": 10,
   "id": "absolute-copper",
   "metadata": {
    "execution": {
     "iopub.execute_input": "2022-02-14T00:27:20.902654Z",
     "iopub.status.busy": "2022-02-14T00:27:20.901950Z",
     "iopub.status.idle": "2022-02-14T00:27:20.904513Z",
     "shell.execute_reply": "2022-02-14T00:27:20.903942Z"
    },
    "papermill": {
     "duration": 0.045634,
     "end_time": "2022-02-14T00:27:20.904624",
     "exception": false,
     "start_time": "2022-02-14T00:27:20.858990",
     "status": "completed"
    },
    "tags": []
   },
   "outputs": [],
   "source": [
    "#hide\n",
    "LAST_DATE_I, dt_cols = get_dates(df)\n",
    "dt_today =dt_cols[LAST_DATE_I]\n",
    "# dt_5day = dt_cols[LAST_DATE_I - 5]\n",
    "dt_yday = dt_cols[LAST_DATE_I - 1]"
   ]
  },
  {
   "cell_type": "code",
   "execution_count": 11,
   "id": "restricted-sheriff",
   "metadata": {
    "execution": {
     "iopub.execute_input": "2022-02-14T00:27:20.982326Z",
     "iopub.status.busy": "2022-02-14T00:27:20.981708Z",
     "iopub.status.idle": "2022-02-14T00:27:20.988404Z",
     "shell.execute_reply": "2022-02-14T00:27:20.988953Z"
    },
    "papermill": {
     "duration": 0.050857,
     "end_time": "2022-02-14T00:27:20.989114",
     "exception": false,
     "start_time": "2022-02-14T00:27:20.938257",
     "status": "completed"
    },
    "tags": []
   },
   "outputs": [],
   "source": [
    "#hide\n",
    "dfc_cases = dft_cases.groupby(COL_REGION)[dt_today].sum()\n",
    "dfc_deaths = dft_deaths.groupby(COL_REGION)[dt_today].sum()\n",
    "# dfp_cases = dft_cases.groupby(COL_REGION)[dt_5day].sum()\n",
    "# dfp_deaths = dft_deaths.groupby(COL_REGION)[dt_5day].sum()\n",
    "dfp_cases = dft_cases.groupby(COL_REGION)[dt_yday].sum()\n",
    "dfp_deaths = dft_deaths.groupby(COL_REGION)[dt_yday].sum()"
   ]
  },
  {
   "cell_type": "code",
   "execution_count": 12,
   "id": "deluxe-hepatitis",
   "metadata": {
    "execution": {
     "iopub.execute_input": "2022-02-14T00:27:21.058748Z",
     "iopub.status.busy": "2022-02-14T00:27:21.058069Z",
     "iopub.status.idle": "2022-02-14T00:27:21.063314Z",
     "shell.execute_reply": "2022-02-14T00:27:21.063953Z"
    },
    "papermill": {
     "duration": 0.042685,
     "end_time": "2022-02-14T00:27:21.064079",
     "exception": false,
     "start_time": "2022-02-14T00:27:21.021394",
     "status": "completed"
    },
    "tags": []
   },
   "outputs": [],
   "source": [
    "#hide\n",
    "df_table = (pd.DataFrame(dict(Cases = dfc_cases, Deaths = dfc_deaths, PCases = dfp_cases, PDeaths = dfp_deaths))\n",
    "            .sort_values(by = ['Cases','Deaths'], ascending = [False, False])\n",
    "            .reset_index())"
   ]
  },
  {
   "cell_type": "code",
   "execution_count": 13,
   "id": "educational-chancellor",
   "metadata": {
    "execution": {
     "iopub.execute_input": "2022-02-14T00:27:21.153140Z",
     "iopub.status.busy": "2022-02-14T00:27:21.152582Z",
     "iopub.status.idle": "2022-02-14T00:27:21.160592Z",
     "shell.execute_reply": "2022-02-14T00:27:21.161130Z"
    },
    "papermill": {
     "duration": 0.062727,
     "end_time": "2022-02-14T00:27:21.161251",
     "exception": false,
     "start_time": "2022-02-14T00:27:21.098524",
     "status": "completed"
    },
    "tags": []
   },
   "outputs": [
    {
     "data": {
      "text/html": [
       "<div>\n",
       "<style scoped>\n",
       "    .dataframe tbody tr th:only-of-type {\n",
       "        vertical-align: middle;\n",
       "    }\n",
       "\n",
       "    .dataframe tbody tr th {\n",
       "        vertical-align: top;\n",
       "    }\n",
       "\n",
       "    .dataframe thead th {\n",
       "        text-align: right;\n",
       "    }\n",
       "</style>\n",
       "<table border=\"1\" class=\"dataframe\">\n",
       "  <thead>\n",
       "    <tr style=\"text-align: right;\">\n",
       "      <th></th>\n",
       "      <th>Country/Region</th>\n",
       "      <th>Cases</th>\n",
       "      <th>Deaths</th>\n",
       "      <th>PCases</th>\n",
       "      <th>PDeaths</th>\n",
       "      <th>Cases (+)</th>\n",
       "      <th>Deaths (+)</th>\n",
       "      <th>Fatality Rate</th>\n",
       "      <th>Continent</th>\n",
       "    </tr>\n",
       "  </thead>\n",
       "  <tbody>\n",
       "    <tr>\n",
       "      <th>0</th>\n",
       "      <td>US</td>\n",
       "      <td>77707349</td>\n",
       "      <td>919255</td>\n",
       "      <td>77650446</td>\n",
       "      <td>918451</td>\n",
       "      <td>56903</td>\n",
       "      <td>804</td>\n",
       "      <td>1.18</td>\n",
       "      <td>North America</td>\n",
       "    </tr>\n",
       "    <tr>\n",
       "      <th>1</th>\n",
       "      <td>India</td>\n",
       "      <td>42631421</td>\n",
       "      <td>508665</td>\n",
       "      <td>42586544</td>\n",
       "      <td>507981</td>\n",
       "      <td>44877</td>\n",
       "      <td>684</td>\n",
       "      <td>1.19</td>\n",
       "      <td>Asia</td>\n",
       "    </tr>\n",
       "    <tr>\n",
       "      <th>2</th>\n",
       "      <td>Brazil</td>\n",
       "      <td>27434286</td>\n",
       "      <td>638346</td>\n",
       "      <td>27299336</td>\n",
       "      <td>637467</td>\n",
       "      <td>134950</td>\n",
       "      <td>879</td>\n",
       "      <td>2.33</td>\n",
       "      <td>South America</td>\n",
       "    </tr>\n",
       "    <tr>\n",
       "      <th>3</th>\n",
       "      <td>France</td>\n",
       "      <td>21765182</td>\n",
       "      <td>135695</td>\n",
       "      <td>21646561</td>\n",
       "      <td>135534</td>\n",
       "      <td>118621</td>\n",
       "      <td>161</td>\n",
       "      <td>0.62</td>\n",
       "      <td>Europe</td>\n",
       "    </tr>\n",
       "    <tr>\n",
       "      <th>4</th>\n",
       "      <td>United Kingdom</td>\n",
       "      <td>18392137</td>\n",
       "      <td>160076</td>\n",
       "      <td>18346553</td>\n",
       "      <td>159909</td>\n",
       "      <td>45584</td>\n",
       "      <td>167</td>\n",
       "      <td>0.87</td>\n",
       "      <td>Europe</td>\n",
       "    </tr>\n",
       "  </tbody>\n",
       "</table>\n",
       "</div>"
      ],
      "text/plain": [
       "   Country/Region     Cases  Deaths    PCases  PDeaths  Cases (+)  Deaths (+)  \\\n",
       "0              US  77707349  919255  77650446   918451      56903         804   \n",
       "1           India  42631421  508665  42586544   507981      44877         684   \n",
       "2          Brazil  27434286  638346  27299336   637467     134950         879   \n",
       "3          France  21765182  135695  21646561   135534     118621         161   \n",
       "4  United Kingdom  18392137  160076  18346553   159909      45584         167   \n",
       "\n",
       "   Fatality Rate      Continent  \n",
       "0           1.18  North America  \n",
       "1           1.19           Asia  \n",
       "2           2.33  South America  \n",
       "3           0.62         Europe  \n",
       "4           0.87         Europe  "
      ]
     },
     "execution_count": 13,
     "metadata": {},
     "output_type": "execute_result"
    }
   ],
   "source": [
    "#hide\n",
    "for c in 'Cases, Deaths'.split(', '):\n",
    "    df_table[f'{c} (+)'] = (df_table[c] - df_table[f'P{c}']).clip(0)\n",
    "    #Clip ça veut dire, les chiffres negatif sont interdit\n",
    "df_table['Fatality Rate'] = (100* df_table['Deaths']/ df_table['Cases']).round(2)\n",
    "df_table['Continent'] = df_table['Country/Region'].map(mapping['map.continent'])\n",
    "df_table.head(5)"
   ]
  },
  {
   "cell_type": "code",
   "execution_count": 14,
   "id": "aboriginal-bulgaria",
   "metadata": {
    "execution": {
     "iopub.execute_input": "2022-02-14T00:27:21.231298Z",
     "iopub.status.busy": "2022-02-14T00:27:21.230711Z",
     "iopub.status.idle": "2022-02-14T00:27:21.233001Z",
     "shell.execute_reply": "2022-02-14T00:27:21.232418Z"
    },
    "papermill": {
     "duration": 0.039722,
     "end_time": "2022-02-14T00:27:21.233117",
     "exception": false,
     "start_time": "2022-02-14T00:27:21.193395",
     "status": "completed"
    },
    "tags": []
   },
   "outputs": [],
   "source": [
    "#hide\n",
    "#delete problematic countries from table\n",
    "df_table = df_table[~df_table['Country/Region'].isin(['Cape Verde', 'Cruise Ship', 'Kosovo'])]"
   ]
  },
  {
   "cell_type": "code",
   "execution_count": 15,
   "id": "fantastic-effect",
   "metadata": {
    "execution": {
     "iopub.execute_input": "2022-02-14T00:27:21.308555Z",
     "iopub.status.busy": "2022-02-14T00:27:21.307931Z",
     "iopub.status.idle": "2022-02-14T00:27:21.328851Z",
     "shell.execute_reply": "2022-02-14T00:27:21.329403Z"
    },
    "papermill": {
     "duration": 0.061792,
     "end_time": "2022-02-14T00:27:21.329525",
     "exception": false,
     "start_time": "2022-02-14T00:27:21.267733",
     "status": "completed"
    },
    "tags": []
   },
   "outputs": [
    {
     "data": {
      "text/html": [
       "<div>\n",
       "<style scoped>\n",
       "    .dataframe tbody tr th:only-of-type {\n",
       "        vertical-align: middle;\n",
       "    }\n",
       "\n",
       "    .dataframe tbody tr th {\n",
       "        vertical-align: top;\n",
       "    }\n",
       "\n",
       "    .dataframe thead th {\n",
       "        text-align: right;\n",
       "    }\n",
       "</style>\n",
       "<table border=\"1\" class=\"dataframe\">\n",
       "  <thead>\n",
       "    <tr style=\"text-align: right;\">\n",
       "      <th></th>\n",
       "      <th>Country/Region</th>\n",
       "      <th>Cases</th>\n",
       "      <th>Deaths</th>\n",
       "      <th>PCases</th>\n",
       "      <th>PDeaths</th>\n",
       "      <th>Cases (+)</th>\n",
       "      <th>Deaths (+)</th>\n",
       "      <th>Fatality Rate</th>\n",
       "      <th>Continent</th>\n",
       "    </tr>\n",
       "  </thead>\n",
       "  <tbody>\n",
       "    <tr>\n",
       "      <th>0</th>\n",
       "      <td>US</td>\n",
       "      <td>77707349</td>\n",
       "      <td>919255</td>\n",
       "      <td>77650446</td>\n",
       "      <td>918451</td>\n",
       "      <td>56903</td>\n",
       "      <td>804</td>\n",
       "      <td>1.2</td>\n",
       "      <td>North America</td>\n",
       "    </tr>\n",
       "    <tr>\n",
       "      <th>1</th>\n",
       "      <td>India</td>\n",
       "      <td>42631421</td>\n",
       "      <td>508665</td>\n",
       "      <td>42586544</td>\n",
       "      <td>507981</td>\n",
       "      <td>44877</td>\n",
       "      <td>684</td>\n",
       "      <td>1.2</td>\n",
       "      <td>Asia</td>\n",
       "    </tr>\n",
       "    <tr>\n",
       "      <th>2</th>\n",
       "      <td>Brazil</td>\n",
       "      <td>27434286</td>\n",
       "      <td>638346</td>\n",
       "      <td>27299336</td>\n",
       "      <td>637467</td>\n",
       "      <td>134950</td>\n",
       "      <td>879</td>\n",
       "      <td>2.3</td>\n",
       "      <td>South America</td>\n",
       "    </tr>\n",
       "    <tr>\n",
       "      <th>3</th>\n",
       "      <td>France</td>\n",
       "      <td>21765182</td>\n",
       "      <td>135695</td>\n",
       "      <td>21646561</td>\n",
       "      <td>135534</td>\n",
       "      <td>118621</td>\n",
       "      <td>161</td>\n",
       "      <td>0.6</td>\n",
       "      <td>Europe</td>\n",
       "    </tr>\n",
       "    <tr>\n",
       "      <th>4</th>\n",
       "      <td>United Kingdom</td>\n",
       "      <td>18392137</td>\n",
       "      <td>160076</td>\n",
       "      <td>18346553</td>\n",
       "      <td>159909</td>\n",
       "      <td>45584</td>\n",
       "      <td>167</td>\n",
       "      <td>0.9</td>\n",
       "      <td>Europe</td>\n",
       "    </tr>\n",
       "  </tbody>\n",
       "</table>\n",
       "</div>"
      ],
      "text/plain": [
       "   Country/Region     Cases  Deaths    PCases  PDeaths  Cases (+)  Deaths (+)  \\\n",
       "0              US  77707349  919255  77650446   918451      56903         804   \n",
       "1           India  42631421  508665  42586544   507981      44877         684   \n",
       "2          Brazil  27434286  638346  27299336   637467     134950         879   \n",
       "3          France  21765182  135695  21646561   135534     118621         161   \n",
       "4  United Kingdom  18392137  160076  18346553   159909      45584         167   \n",
       "\n",
       "   Fatality Rate      Continent  \n",
       "0            1.2  North America  \n",
       "1            1.2           Asia  \n",
       "2            2.3  South America  \n",
       "3            0.6         Europe  \n",
       "4            0.9         Europe  "
      ]
     },
     "execution_count": 15,
     "metadata": {},
     "output_type": "execute_result"
    }
   ],
   "source": [
    "#hide\n",
    "df_table = (pd.DataFrame(dict(Cases=dfc_cases, Deaths=dfc_deaths, PCases=dfp_cases, PDeaths=dfp_deaths))\n",
    "             .sort_values(by=['Cases', 'Deaths'], ascending=[False, False])\n",
    "             .reset_index())\n",
    "df_table.rename(columns={'index': 'Country/Region'}, inplace=True)\n",
    "for c in 'Cases, Deaths'.split(', '):\n",
    "    df_table[f'{c} (+)'] = (df_table[c] - df_table[f'P{c}']).clip(0)  # DATA BUG\n",
    "df_table['Fatality Rate'] = (100 * df_table['Deaths'] / df_table['Cases']).round(1)\n",
    "df_table['Continent'] = df_table['Country/Region'].map(mapping['map.continent'])\n",
    "df_table.head(5)"
   ]
  },
  {
   "cell_type": "code",
   "execution_count": 16,
   "id": "fewer-occasion",
   "metadata": {
    "execution": {
     "iopub.execute_input": "2022-02-14T00:27:21.402437Z",
     "iopub.status.busy": "2022-02-14T00:27:21.401785Z",
     "iopub.status.idle": "2022-02-14T00:27:21.404561Z",
     "shell.execute_reply": "2022-02-14T00:27:21.405151Z"
    },
    "papermill": {
     "duration": 0.040894,
     "end_time": "2022-02-14T00:27:21.405266",
     "exception": false,
     "start_time": "2022-02-14T00:27:21.364372",
     "status": "completed"
    },
    "tags": []
   },
   "outputs": [],
   "source": [
    "#hide\n",
    "#delete problematic countries from table\n",
    "df_table = df_table[~df_table['Country/Region'].isin(['Cape Verde', 'Cruise Ship', 'Kosovo'])]"
   ]
  },
  {
   "cell_type": "code",
   "execution_count": 17,
   "id": "related-center",
   "metadata": {
    "execution": {
     "iopub.execute_input": "2022-02-14T00:27:21.484483Z",
     "iopub.status.busy": "2022-02-14T00:27:21.483878Z",
     "iopub.status.idle": "2022-02-14T00:27:21.494978Z",
     "shell.execute_reply": "2022-02-14T00:27:21.494521Z"
    },
    "papermill": {
     "duration": 0.055159,
     "end_time": "2022-02-14T00:27:21.495080",
     "exception": false,
     "start_time": "2022-02-14T00:27:21.439921",
     "status": "completed"
    },
    "tags": []
   },
   "outputs": [],
   "source": [
    "#hide\n",
    "metrics = [df_table.columns[index] for index in [1,2,5,6]]\n",
    "# s_china = df_table[df_table['Country/Region'].eq('China')][metrics].sum().add_prefix('China ')\n",
    "s_us = df_table[df_table['Country/Region'].eq('US')][metrics].sum().add_prefix('US ')\n",
    "s_eu = df_table[df_table['Continent'].eq('Europe')][metrics].sum().add_prefix('EU ')\n",
    "s_ind = df_table[df_table['Country/Region'].eq('India')][metrics].sum().add_prefix('India ')\n",
    "summary = {'updated': pd.to_datetime(dt_today), 'since': pd.to_datetime(dt_yday)}\n",
    "summary = {'updated': pd.to_datetime(dt_today), 'since': pd.to_datetime(dt_yday)}\n",
    "summary = {**summary, **df_table[metrics].sum(), **s_ind, **s_us, **s_eu}"
   ]
  },
  {
   "cell_type": "code",
   "execution_count": 18,
   "id": "engaging-syndrome",
   "metadata": {
    "execution": {
     "iopub.execute_input": "2022-02-14T00:27:21.571349Z",
     "iopub.status.busy": "2022-02-14T00:27:21.570730Z",
     "iopub.status.idle": "2022-02-14T00:27:21.586920Z",
     "shell.execute_reply": "2022-02-14T00:27:21.586420Z"
    },
    "papermill": {
     "duration": 0.054534,
     "end_time": "2022-02-14T00:27:21.587025",
     "exception": false,
     "start_time": "2022-02-14T00:27:21.532491",
     "status": "completed"
    },
    "tags": []
   },
   "outputs": [],
   "source": [
    "#hide\n",
    "dft_ct_new_cases = dft_cases.groupby(COL_REGION)[dt_cols].sum().diff(axis=1).fillna(0).astype(int)"
   ]
  },
  {
   "cell_type": "code",
   "execution_count": 19,
   "id": "neutral-assignment",
   "metadata": {
    "execution": {
     "iopub.execute_input": "2022-02-14T00:27:21.658334Z",
     "iopub.status.busy": "2022-02-14T00:27:21.657685Z",
     "iopub.status.idle": "2022-02-14T00:27:21.660011Z",
     "shell.execute_reply": "2022-02-14T00:27:21.660584Z"
    },
    "papermill": {
     "duration": 0.04049,
     "end_time": "2022-02-14T00:27:21.660700",
     "exception": false,
     "start_time": "2022-02-14T00:27:21.620210",
     "status": "completed"
    },
    "tags": []
   },
   "outputs": [],
   "source": [
    "#hide\n",
    "everydaycases = dft_ct_new_cases.cumsum(axis=1)"
   ]
  },
  {
   "cell_type": "code",
   "execution_count": 20,
   "id": "parliamentary-calgary",
   "metadata": {
    "execution": {
     "iopub.execute_input": "2022-02-14T00:27:21.733340Z",
     "iopub.status.busy": "2022-02-14T00:27:21.732717Z",
     "iopub.status.idle": "2022-02-14T00:27:22.388102Z",
     "shell.execute_reply": "2022-02-14T00:27:22.388567Z"
    },
    "papermill": {
     "duration": 0.694764,
     "end_time": "2022-02-14T00:27:22.388727",
     "exception": false,
     "start_time": "2022-02-14T00:27:21.693963",
     "status": "completed"
    },
    "tags": []
   },
   "outputs": [],
   "source": [
    "#hide\n",
    "import pandas as pd\n",
    "import matplotlib.pyplot as plt\n",
    "import matplotlib.ticker as ticker\n",
    "import matplotlib.animation as animation\n",
    "from IPython.display import HTML"
   ]
  },
  {
   "cell_type": "code",
   "execution_count": 21,
   "id": "lasting-extraction",
   "metadata": {
    "execution": {
     "iopub.execute_input": "2022-02-14T00:27:22.464700Z",
     "iopub.status.busy": "2022-02-14T00:27:22.464037Z",
     "iopub.status.idle": "2022-02-14T00:27:22.470501Z",
     "shell.execute_reply": "2022-02-14T00:27:22.470001Z"
    },
    "papermill": {
     "duration": 0.045639,
     "end_time": "2022-02-14T00:27:22.470614",
     "exception": false,
     "start_time": "2022-02-14T00:27:22.424975",
     "status": "completed"
    },
    "tags": []
   },
   "outputs": [],
   "source": [
    "#hide\n",
    "t = everydaycases.stack()"
   ]
  },
  {
   "cell_type": "code",
   "execution_count": 22,
   "id": "premier-sleeve",
   "metadata": {
    "execution": {
     "iopub.execute_input": "2022-02-14T00:27:22.548800Z",
     "iopub.status.busy": "2022-02-14T00:27:22.548189Z",
     "iopub.status.idle": "2022-02-14T00:27:22.558688Z",
     "shell.execute_reply": "2022-02-14T00:27:22.558147Z"
    },
    "papermill": {
     "duration": 0.05014,
     "end_time": "2022-02-14T00:27:22.558817",
     "exception": false,
     "start_time": "2022-02-14T00:27:22.508677",
     "status": "completed"
    },
    "tags": []
   },
   "outputs": [],
   "source": [
    "#hide\n",
    "g = t.reset_index(['Country/Region'])"
   ]
  },
  {
   "cell_type": "code",
   "execution_count": 23,
   "id": "distributed-pittsburgh",
   "metadata": {
    "execution": {
     "iopub.execute_input": "2022-02-14T00:27:22.632259Z",
     "iopub.status.busy": "2022-02-14T00:27:22.631663Z",
     "iopub.status.idle": "2022-02-14T00:27:22.634209Z",
     "shell.execute_reply": "2022-02-14T00:27:22.633704Z"
    },
    "papermill": {
     "duration": 0.041018,
     "end_time": "2022-02-14T00:27:22.634319",
     "exception": false,
     "start_time": "2022-02-14T00:27:22.593301",
     "status": "completed"
    },
    "tags": []
   },
   "outputs": [],
   "source": [
    "#hide\n",
    "g.index.name = 'date'"
   ]
  },
  {
   "cell_type": "code",
   "execution_count": 24,
   "id": "naked-donor",
   "metadata": {
    "execution": {
     "iopub.execute_input": "2022-02-14T00:27:22.708486Z",
     "iopub.status.busy": "2022-02-14T00:27:22.707879Z",
     "iopub.status.idle": "2022-02-14T00:27:22.710448Z",
     "shell.execute_reply": "2022-02-14T00:27:22.709902Z"
    },
    "papermill": {
     "duration": 0.040884,
     "end_time": "2022-02-14T00:27:22.710581",
     "exception": false,
     "start_time": "2022-02-14T00:27:22.669697",
     "status": "completed"
    },
    "tags": []
   },
   "outputs": [],
   "source": [
    "# #hide\n",
    "# g = g.reset_index(['date'])"
   ]
  },
  {
   "cell_type": "code",
   "execution_count": 25,
   "id": "incomplete-mustang",
   "metadata": {
    "execution": {
     "iopub.execute_input": "2022-02-14T00:27:22.785324Z",
     "iopub.status.busy": "2022-02-14T00:27:22.784769Z",
     "iopub.status.idle": "2022-02-14T00:27:22.787350Z",
     "shell.execute_reply": "2022-02-14T00:27:22.786667Z"
    },
    "papermill": {
     "duration": 0.041221,
     "end_time": "2022-02-14T00:27:22.787501",
     "exception": false,
     "start_time": "2022-02-14T00:27:22.746280",
     "status": "completed"
    },
    "tags": []
   },
   "outputs": [],
   "source": [
    "#hide\n",
    "# g.head()"
   ]
  },
  {
   "cell_type": "code",
   "execution_count": 26,
   "id": "specific-kruger",
   "metadata": {
    "execution": {
     "iopub.execute_input": "2022-02-14T00:27:22.865388Z",
     "iopub.status.busy": "2022-02-14T00:27:22.864771Z",
     "iopub.status.idle": "2022-02-14T00:27:22.868782Z",
     "shell.execute_reply": "2022-02-14T00:27:22.869249Z"
    },
    "papermill": {
     "duration": 0.045144,
     "end_time": "2022-02-14T00:27:22.869395",
     "exception": false,
     "start_time": "2022-02-14T00:27:22.824251",
     "status": "completed"
    },
    "tags": []
   },
   "outputs": [],
   "source": [
    "#hide\n",
    "# g.columns = ['date','country','cases']"
   ]
  },
  {
   "cell_type": "code",
   "execution_count": 27,
   "id": "tender-conversion",
   "metadata": {
    "execution": {
     "iopub.execute_input": "2022-02-14T00:27:22.942758Z",
     "iopub.status.busy": "2022-02-14T00:27:22.942154Z",
     "iopub.status.idle": "2022-02-14T00:27:22.944215Z",
     "shell.execute_reply": "2022-02-14T00:27:22.944656Z"
    },
    "papermill": {
     "duration": 0.03982,
     "end_time": "2022-02-14T00:27:22.944778",
     "exception": false,
     "start_time": "2022-02-14T00:27:22.904958",
     "status": "completed"
    },
    "tags": []
   },
   "outputs": [],
   "source": [
    "#hide\n",
    "# g['continent'] = g.country"
   ]
  },
  {
   "cell_type": "code",
   "execution_count": 28,
   "id": "substantial-wilderness",
   "metadata": {
    "execution": {
     "iopub.execute_input": "2022-02-14T00:27:23.016283Z",
     "iopub.status.busy": "2022-02-14T00:27:23.015620Z",
     "iopub.status.idle": "2022-02-14T00:27:23.018033Z",
     "shell.execute_reply": "2022-02-14T00:27:23.017552Z"
    },
    "papermill": {
     "duration": 0.039697,
     "end_time": "2022-02-14T00:27:23.018143",
     "exception": false,
     "start_time": "2022-02-14T00:27:22.978446",
     "status": "completed"
    },
    "tags": []
   },
   "outputs": [],
   "source": [
    "#hide\n",
    "# cols = list(g.columns.values)"
   ]
  },
  {
   "cell_type": "code",
   "execution_count": 29,
   "id": "solved-farming",
   "metadata": {
    "execution": {
     "iopub.execute_input": "2022-02-14T00:27:23.096133Z",
     "iopub.status.busy": "2022-02-14T00:27:23.095511Z",
     "iopub.status.idle": "2022-02-14T00:27:23.098669Z",
     "shell.execute_reply": "2022-02-14T00:27:23.098176Z"
    },
    "papermill": {
     "duration": 0.044152,
     "end_time": "2022-02-14T00:27:23.098784",
     "exception": false,
     "start_time": "2022-02-14T00:27:23.054632",
     "status": "completed"
    },
    "tags": []
   },
   "outputs": [],
   "source": [
    "#hide\n",
    "# cols.insert(0, cols.pop())"
   ]
  },
  {
   "cell_type": "code",
   "execution_count": 30,
   "id": "executed-adoption",
   "metadata": {
    "execution": {
     "iopub.execute_input": "2022-02-14T00:27:23.173961Z",
     "iopub.status.busy": "2022-02-14T00:27:23.173385Z",
     "iopub.status.idle": "2022-02-14T00:27:23.175837Z",
     "shell.execute_reply": "2022-02-14T00:27:23.175223Z"
    },
    "papermill": {
     "duration": 0.040607,
     "end_time": "2022-02-14T00:27:23.175957",
     "exception": false,
     "start_time": "2022-02-14T00:27:23.135350",
     "status": "completed"
    },
    "tags": []
   },
   "outputs": [],
   "source": [
    "#hide\n",
    "# g = g[cols]"
   ]
  },
  {
   "cell_type": "code",
   "execution_count": 31,
   "id": "subject-dublin",
   "metadata": {
    "execution": {
     "iopub.execute_input": "2022-02-14T00:27:23.247251Z",
     "iopub.status.busy": "2022-02-14T00:27:23.246658Z",
     "iopub.status.idle": "2022-02-14T00:27:23.250151Z",
     "shell.execute_reply": "2022-02-14T00:27:23.250594Z"
    },
    "papermill": {
     "duration": 0.041086,
     "end_time": "2022-02-14T00:27:23.250724",
     "exception": false,
     "start_time": "2022-02-14T00:27:23.209638",
     "status": "completed"
    },
    "tags": []
   },
   "outputs": [],
   "source": [
    "#hide\n",
    "# g['continent'] = g['continent'].map(mapping['map.continent'])"
   ]
  },
  {
   "cell_type": "code",
   "execution_count": 32,
   "id": "freelance-scout",
   "metadata": {
    "execution": {
     "iopub.execute_input": "2022-02-14T00:27:23.322615Z",
     "iopub.status.busy": "2022-02-14T00:27:23.322028Z",
     "iopub.status.idle": "2022-02-14T00:27:23.324305Z",
     "shell.execute_reply": "2022-02-14T00:27:23.324817Z"
    },
    "papermill": {
     "duration": 0.039612,
     "end_time": "2022-02-14T00:27:23.324958",
     "exception": false,
     "start_time": "2022-02-14T00:27:23.285346",
     "status": "completed"
    },
    "tags": []
   },
   "outputs": [],
   "source": [
    "#hide\n",
    "# g.head()"
   ]
  },
  {
   "cell_type": "code",
   "execution_count": 33,
   "id": "limited-engine",
   "metadata": {
    "execution": {
     "iopub.execute_input": "2022-02-14T00:27:23.395424Z",
     "iopub.status.busy": "2022-02-14T00:27:23.394833Z",
     "iopub.status.idle": "2022-02-14T00:27:23.398290Z",
     "shell.execute_reply": "2022-02-14T00:27:23.398738Z"
    },
    "papermill": {
     "duration": 0.040939,
     "end_time": "2022-02-14T00:27:23.398870",
     "exception": false,
     "start_time": "2022-02-14T00:27:23.357931",
     "status": "completed"
    },
    "tags": []
   },
   "outputs": [],
   "source": [
    "# hide\n",
    "# g['date'] = g['date'].astype('datetime64[ns]')"
   ]
  },
  {
   "cell_type": "code",
   "execution_count": 34,
   "id": "sophisticated-supervisor",
   "metadata": {
    "execution": {
     "iopub.execute_input": "2022-02-14T00:27:23.473013Z",
     "iopub.status.busy": "2022-02-14T00:27:23.471574Z",
     "iopub.status.idle": "2022-02-14T00:27:23.473666Z",
     "shell.execute_reply": "2022-02-14T00:27:23.474168Z"
    },
    "papermill": {
     "duration": 0.040839,
     "end_time": "2022-02-14T00:27:23.474301",
     "exception": false,
     "start_time": "2022-02-14T00:27:23.433462",
     "status": "completed"
    },
    "tags": []
   },
   "outputs": [],
   "source": [
    "#hide\n",
    "# g['date'] = g.date.dt.dayofyear"
   ]
  },
  {
   "cell_type": "code",
   "execution_count": 35,
   "id": "inside-dubai",
   "metadata": {
    "execution": {
     "iopub.execute_input": "2022-02-14T00:27:23.552579Z",
     "iopub.status.busy": "2022-02-14T00:27:23.551141Z",
     "iopub.status.idle": "2022-02-14T00:27:23.553280Z",
     "shell.execute_reply": "2022-02-14T00:27:23.553753Z"
    },
    "papermill": {
     "duration": 0.042226,
     "end_time": "2022-02-14T00:27:23.553876",
     "exception": false,
     "start_time": "2022-02-14T00:27:23.511650",
     "status": "completed"
    },
    "tags": []
   },
   "outputs": [],
   "source": [
    "#hide\n",
    "# g = g.rename(columns= {'continent':'group','country':'name','cases':'value'})"
   ]
  },
  {
   "cell_type": "code",
   "execution_count": 36,
   "id": "fleet-motorcycle",
   "metadata": {
    "execution": {
     "iopub.execute_input": "2022-02-14T00:27:23.628031Z",
     "iopub.status.busy": "2022-02-14T00:27:23.626480Z",
     "iopub.status.idle": "2022-02-14T00:27:23.628736Z",
     "shell.execute_reply": "2022-02-14T00:27:23.629188Z"
    },
    "papermill": {
     "duration": 0.040711,
     "end_time": "2022-02-14T00:27:23.629308",
     "exception": false,
     "start_time": "2022-02-14T00:27:23.588597",
     "status": "completed"
    },
    "tags": []
   },
   "outputs": [],
   "source": [
    "#hide\n",
    "# cols = ['name','group','day','value']"
   ]
  },
  {
   "cell_type": "code",
   "execution_count": 37,
   "id": "continued-sleeping",
   "metadata": {
    "execution": {
     "iopub.execute_input": "2022-02-14T00:27:23.700487Z",
     "iopub.status.busy": "2022-02-14T00:27:23.699920Z",
     "iopub.status.idle": "2022-02-14T00:27:23.703227Z",
     "shell.execute_reply": "2022-02-14T00:27:23.703686Z"
    },
    "papermill": {
     "duration": 0.040547,
     "end_time": "2022-02-14T00:27:23.703812",
     "exception": false,
     "start_time": "2022-02-14T00:27:23.663265",
     "status": "completed"
    },
    "tags": []
   },
   "outputs": [],
   "source": [
    "#hide\n",
    "# g.rename(columns= {'date':'day'},inplace = True)"
   ]
  },
  {
   "cell_type": "code",
   "execution_count": 38,
   "id": "major-fight",
   "metadata": {
    "execution": {
     "iopub.execute_input": "2022-02-14T00:27:23.773321Z",
     "iopub.status.busy": "2022-02-14T00:27:23.772736Z",
     "iopub.status.idle": "2022-02-14T00:27:23.775015Z",
     "shell.execute_reply": "2022-02-14T00:27:23.774525Z"
    },
    "papermill": {
     "duration": 0.038118,
     "end_time": "2022-02-14T00:27:23.775129",
     "exception": false,
     "start_time": "2022-02-14T00:27:23.737011",
     "status": "completed"
    },
    "tags": []
   },
   "outputs": [],
   "source": [
    "#hide\n",
    "# g = g[cols]"
   ]
  },
  {
   "cell_type": "code",
   "execution_count": 39,
   "id": "structured-mobile",
   "metadata": {
    "execution": {
     "iopub.execute_input": "2022-02-14T00:27:23.848457Z",
     "iopub.status.busy": "2022-02-14T00:27:23.847876Z",
     "iopub.status.idle": "2022-02-14T00:27:23.850417Z",
     "shell.execute_reply": "2022-02-14T00:27:23.849941Z"
    },
    "papermill": {
     "duration": 0.040938,
     "end_time": "2022-02-14T00:27:23.850523",
     "exception": false,
     "start_time": "2022-02-14T00:27:23.809585",
     "status": "completed"
    },
    "tags": []
   },
   "outputs": [],
   "source": [
    "# #hide\n",
    "# g = g[g.group.notna()]"
   ]
  },
  {
   "cell_type": "code",
   "execution_count": 40,
   "id": "determined-closing",
   "metadata": {
    "execution": {
     "iopub.execute_input": "2022-02-14T00:27:23.925171Z",
     "iopub.status.busy": "2022-02-14T00:27:23.924420Z",
     "iopub.status.idle": "2022-02-14T00:27:23.926993Z",
     "shell.execute_reply": "2022-02-14T00:27:23.926316Z"
    },
    "papermill": {
     "duration": 0.041075,
     "end_time": "2022-02-14T00:27:23.927106",
     "exception": false,
     "start_time": "2022-02-14T00:27:23.886031",
     "status": "completed"
    },
    "tags": []
   },
   "outputs": [],
   "source": [
    "# #hide\n",
    "# colors = dict(zip(\n",
    "#     [\"Oceania\", \"Europe\", \"Asia\", \"South America\", \"Middle East\", \"North America\", \"Africa\"],\n",
    "#     [\"#adb0ff\", \"#ffb3ff\", \"#90d595\", \"#e48381\", \"#aafbff\", \"#f7bb5f\", \"#eafb50\"]\n",
    "# ))\n",
    "# group_lk = g.set_index('name')['group'].to_dict()"
   ]
  },
  {
   "cell_type": "code",
   "execution_count": null,
   "id": "gross-drinking",
   "metadata": {
    "papermill": {
     "duration": 0.039015,
     "end_time": "2022-02-14T00:27:24.005806",
     "exception": false,
     "start_time": "2022-02-14T00:27:23.966791",
     "status": "completed"
    },
    "tags": []
   },
   "outputs": [],
   "source": []
  },
  {
   "cell_type": "code",
   "execution_count": 41,
   "id": "subject-macintosh",
   "metadata": {
    "execution": {
     "iopub.execute_input": "2022-02-14T00:27:24.089247Z",
     "iopub.status.busy": "2022-02-14T00:27:24.088398Z",
     "iopub.status.idle": "2022-02-14T00:27:24.091367Z",
     "shell.execute_reply": "2022-02-14T00:27:24.090853Z"
    },
    "papermill": {
     "duration": 0.046284,
     "end_time": "2022-02-14T00:27:24.091481",
     "exception": false,
     "start_time": "2022-02-14T00:27:24.045197",
     "status": "completed"
    },
    "tags": []
   },
   "outputs": [],
   "source": [
    "# #hide\n",
    "# fig, ax = plt.subplots(figsize=(15, 8))\n",
    "\n",
    "# def draw_barchart(current_day):\n",
    "#     dff = g[g['day'].eq(current_day)].sort_values(by='value', ascending=True).tail(10)\n",
    "#     ax.clear()\n",
    "#     ax.barh(dff['name'], dff['value'], color=[colors[group_lk[x]] for x in dff['name']])\n",
    "#     dx = dff['value'].max() / 200\n",
    "    \n",
    "#     for i, (value, name) in enumerate(zip(dff['value'], dff['name'])):\n",
    "#         ax.text(value-dx, i,     name,           size=14, weight=600, ha='right', va='bottom')\n",
    "#         ax.text(value-dx, i-.25, group_lk[name], size=10, color='#444444', ha='right', va='baseline')\n",
    "#         ax.text(value+dx, i,     f'{value:,.0f}',  size=14, ha='left',  va='center')\n",
    "#     ax.text(1, 0.4, current_day, transform=ax.transAxes, color='#777777', size=46, ha='right', weight=800)\n",
    "#     ax.text(0, 1.06, 'Population (thousands)', transform=ax.transAxes, size=12, color='#777777')\n",
    "#     ax.xaxis.set_major_formatter(ticker.StrMethodFormatter('{x:,.0f}'))\n",
    "#     ax.xaxis.set_ticks_position('top')\n",
    "#     ax.tick_params(axis='x', colors='#777777', labelsize=12)\n",
    "#     ax.set_yticks([])\n",
    "#     ax.margins(0, 0.01)\n",
    "#     ax.grid(which='major', axis='x', linestyle='-')\n",
    "#     ax.set_axisbelow(True)\n",
    "    \n",
    "#     ax.text(0, 1.15, 'Coronavirus',\n",
    "#             transform=ax.transAxes, size=24, weight=600, ha='left', va='top')\n",
    "# #     ax.text(1, 0, 'by @pratapvardhan; credit @jburnmurdoch', transform=ax.transAxes, color='#777777', ha='right',\n",
    "# #             bbox=dict(facecolor='white', alpha=0.8, edgecolor='white'))\n",
    "#     plt.box(False)"
   ]
  },
  {
   "cell_type": "code",
   "execution_count": 42,
   "id": "sexual-wages",
   "metadata": {
    "execution": {
     "iopub.execute_input": "2022-02-14T00:27:24.172663Z",
     "iopub.status.busy": "2022-02-14T00:27:24.171947Z",
     "iopub.status.idle": "2022-02-14T00:27:24.176336Z",
     "shell.execute_reply": "2022-02-14T00:27:24.175826Z"
    },
    "papermill": {
     "duration": 0.047354,
     "end_time": "2022-02-14T00:27:24.176453",
     "exception": false,
     "start_time": "2022-02-14T00:27:24.129099",
     "status": "completed"
    },
    "tags": []
   },
   "outputs": [],
   "source": [
    "# #hide_input\n",
    "# fig, ax = plt.subplots(figsize=(15, 8))\n",
    "# animator = animation.FuncAnimation(fig, draw_barchart, frames=range(g.day.values.min(), g.day.values.max()))\n",
    "# HTML(animator.to_jshtml())\n",
    "# # or use animator.to_html5_video() or animator.save() "
   ]
  },
  {
   "cell_type": "code",
   "execution_count": null,
   "id": "australian-container",
   "metadata": {
    "papermill": {
     "duration": 0.038816,
     "end_time": "2022-02-14T00:27:24.254244",
     "exception": false,
     "start_time": "2022-02-14T00:27:24.215428",
     "status": "completed"
    },
    "tags": []
   },
   "outputs": [],
   "source": []
  },
  {
   "cell_type": "code",
   "execution_count": null,
   "id": "mediterranean-pontiac",
   "metadata": {
    "papermill": {
     "duration": 0.039948,
     "end_time": "2022-02-14T00:27:24.332322",
     "exception": false,
     "start_time": "2022-02-14T00:27:24.292374",
     "status": "completed"
    },
    "tags": []
   },
   "outputs": [],
   "source": []
  },
  {
   "cell_type": "code",
   "execution_count": null,
   "id": "aging-legislature",
   "metadata": {
    "papermill": {
     "duration": 0.059177,
     "end_time": "2022-02-14T00:27:24.465206",
     "exception": false,
     "start_time": "2022-02-14T00:27:24.406029",
     "status": "completed"
    },
    "tags": []
   },
   "outputs": [],
   "source": []
  }
 ],
 "metadata": {
  "kernelspec": {
   "display_name": "Python 3",
   "language": "python",
   "name": "python3"
  },
  "language_info": {
   "codemirror_mode": {
    "name": "ipython",
    "version": 3
   },
   "file_extension": ".py",
   "mimetype": "text/x-python",
   "name": "python",
   "nbconvert_exporter": "python",
   "pygments_lexer": "ipython3",
   "version": "3.6.15"
  },
  "papermill": {
   "duration": 6.838194,
   "end_time": "2022-02-14T00:27:24.833305",
   "environment_variables": {},
   "exception": null,
   "input_path": "2020-03-21-covid19exp.ipynb",
   "output_path": "2020-03-21-covid19exp.ipynb",
   "parameters": {},
   "start_time": "2022-02-14T00:27:17.995111",
   "version": "2.0.0"
  }
 },
 "nbformat": 4,
 "nbformat_minor": 5
}