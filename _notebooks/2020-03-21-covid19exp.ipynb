{
 "cells": [
  {
   "cell_type": "markdown",
   "id": "muslim-click",
   "metadata": {
    "papermill": {
     "duration": 0.046768,
     "end_time": "2021-07-11T12:09:41.863859",
     "exception": false,
     "start_time": "2021-07-11T12:09:41.817091",
     "status": "completed"
    },
    "tags": []
   },
   "source": [
    "# COVID-19 Case Race\n",
    "> A race chart to see rising cases around the world\n",
    "\n",
    "- author: Hargun Oberoi\n",
    "- image: images/covid-overview.png\n",
    "- hide: false\n",
    "- badges: false"
   ]
  },
  {
   "cell_type": "code",
   "execution_count": 1,
   "id": "proof-material",
   "metadata": {
    "execution": {
     "iopub.execute_input": "2021-07-11T12:09:41.955184Z",
     "iopub.status.busy": "2021-07-11T12:09:41.954597Z",
     "iopub.status.idle": "2021-07-11T12:09:42.323119Z",
     "shell.execute_reply": "2021-07-11T12:09:42.323598Z"
    },
    "papermill": {
     "duration": 0.419239,
     "end_time": "2021-07-11T12:09:42.323776",
     "exception": false,
     "start_time": "2021-07-11T12:09:41.904537",
     "status": "completed"
    },
    "tags": []
   },
   "outputs": [],
   "source": [
    "#hide\n",
    "import numpy as np\n",
    "import pandas as pd\n",
    "from jinja2 import Template\n",
    "from IPython.display import HTML"
   ]
  },
  {
   "cell_type": "code",
   "execution_count": 2,
   "id": "developed-terminology",
   "metadata": {
    "execution": {
     "iopub.execute_input": "2021-07-11T12:09:42.401014Z",
     "iopub.status.busy": "2021-07-11T12:09:42.400411Z",
     "iopub.status.idle": "2021-07-11T12:09:42.402749Z",
     "shell.execute_reply": "2021-07-11T12:09:42.403303Z"
    },
    "papermill": {
     "duration": 0.04353,
     "end_time": "2021-07-11T12:09:42.403438",
     "exception": false,
     "start_time": "2021-07-11T12:09:42.359908",
     "status": "completed"
    },
    "tags": []
   },
   "outputs": [],
   "source": [
    "#hide\n",
    "\n",
    "# FETCH\n",
    "base_url = 'https://raw.githubusercontent.com/pratapvardhan/notebooks/master/covid19/'\n",
    "paths = {\n",
    "    'mapping': base_url + 'mapping_countries.csv',\n",
    "    'overview': base_url + 'overview.tpl'\n",
    "}"
   ]
  },
  {
   "cell_type": "code",
   "execution_count": 3,
   "id": "dynamic-saver",
   "metadata": {
    "execution": {
     "iopub.execute_input": "2021-07-11T12:09:42.485752Z",
     "iopub.status.busy": "2021-07-11T12:09:42.485159Z",
     "iopub.status.idle": "2021-07-11T12:09:42.487746Z",
     "shell.execute_reply": "2021-07-11T12:09:42.488185Z"
    },
    "papermill": {
     "duration": 0.050023,
     "end_time": "2021-07-11T12:09:42.488343",
     "exception": false,
     "start_time": "2021-07-11T12:09:42.438320",
     "status": "completed"
    },
    "tags": []
   },
   "outputs": [
    {
     "data": {
      "text/plain": [
       "'https://raw.githubusercontent.com/pratapvardhan/notebooks/master/covid19/mapping_countries.csv'"
      ]
     },
     "execution_count": 3,
     "metadata": {},
     "output_type": "execute_result"
    }
   ],
   "source": [
    "#hide\n",
    "paths['mapping']"
   ]
  },
  {
   "cell_type": "code",
   "execution_count": 4,
   "id": "urban-software",
   "metadata": {
    "execution": {
     "iopub.execute_input": "2021-07-11T12:09:42.566651Z",
     "iopub.status.busy": "2021-07-11T12:09:42.566041Z",
     "iopub.status.idle": "2021-07-11T12:09:42.568768Z",
     "shell.execute_reply": "2021-07-11T12:09:42.568257Z"
    },
    "papermill": {
     "duration": 0.044381,
     "end_time": "2021-07-11T12:09:42.568889",
     "exception": false,
     "start_time": "2021-07-11T12:09:42.524508",
     "status": "completed"
    },
    "tags": []
   },
   "outputs": [],
   "source": [
    "#hide\n",
    "def get_mappings(url):\n",
    "    df = pd.read_csv(url)\n",
    "    return {\n",
    "        'df': df,\n",
    "        'replace.country': dict(df.dropna(subset=['Name']).set_index('Country')['Name']),\n",
    "        'map.continent': dict(df.set_index('Name')['Continent'])\n",
    "    }"
   ]
  },
  {
   "cell_type": "code",
   "execution_count": 5,
   "id": "intimate-machinery",
   "metadata": {
    "execution": {
     "iopub.execute_input": "2021-07-11T12:09:42.647917Z",
     "iopub.status.busy": "2021-07-11T12:09:42.647335Z",
     "iopub.status.idle": "2021-07-11T12:09:42.677503Z",
     "shell.execute_reply": "2021-07-11T12:09:42.678027Z"
    },
    "papermill": {
     "duration": 0.072337,
     "end_time": "2021-07-11T12:09:42.678169",
     "exception": false,
     "start_time": "2021-07-11T12:09:42.605832",
     "status": "completed"
    },
    "tags": []
   },
   "outputs": [],
   "source": [
    "#hide\n",
    "mapping = get_mappings(paths['mapping'])"
   ]
  },
  {
   "cell_type": "code",
   "execution_count": 6,
   "id": "certified-tactics",
   "metadata": {
    "execution": {
     "iopub.execute_input": "2021-07-11T12:09:42.763433Z",
     "iopub.status.busy": "2021-07-11T12:09:42.762837Z",
     "iopub.status.idle": "2021-07-11T12:09:42.765131Z",
     "shell.execute_reply": "2021-07-11T12:09:42.764633Z"
    },
    "papermill": {
     "duration": 0.04864,
     "end_time": "2021-07-11T12:09:42.765250",
     "exception": false,
     "start_time": "2021-07-11T12:09:42.716610",
     "status": "completed"
    },
    "tags": []
   },
   "outputs": [],
   "source": [
    "#hide\n",
    "def get_template(path):\n",
    "    from urllib.parse import urlparse\n",
    "    if bool(urlparse(path).netloc):\n",
    "        from urllib.request import urlopen\n",
    "        return urlopen(path).read().decode('utf8')\n",
    "    return open(path).read()"
   ]
  },
  {
   "cell_type": "code",
   "execution_count": 7,
   "id": "realistic-blast",
   "metadata": {
    "execution": {
     "iopub.execute_input": "2021-07-11T12:09:42.843182Z",
     "iopub.status.busy": "2021-07-11T12:09:42.842442Z",
     "iopub.status.idle": "2021-07-11T12:09:42.844000Z",
     "shell.execute_reply": "2021-07-11T12:09:42.844559Z"
    },
    "papermill": {
     "duration": 0.045809,
     "end_time": "2021-07-11T12:09:42.844690",
     "exception": false,
     "start_time": "2021-07-11T12:09:42.798881",
     "status": "completed"
    },
    "tags": []
   },
   "outputs": [],
   "source": [
    "#hide\n",
    "def get_frame(name):\n",
    "    url = (\n",
    "        'https://raw.githubusercontent.com/CSSEGISandData/COVID-19/master/csse_covid_19_data/'\n",
    "        f'csse_covid_19_time_series/time_series_covid19_{name}_global.csv')\n",
    "    df = pd.read_csv(url)\n",
    "    # rename countries\n",
    "    df['Country/Region'] = df['Country/Region'].replace(mapping['replace.country'])\n",
    "    return df"
   ]
  },
  {
   "cell_type": "code",
   "execution_count": 8,
   "id": "affiliated-characterization",
   "metadata": {
    "execution": {
     "iopub.execute_input": "2021-07-11T12:09:42.921820Z",
     "iopub.status.busy": "2021-07-11T12:09:42.921239Z",
     "iopub.status.idle": "2021-07-11T12:09:42.923407Z",
     "shell.execute_reply": "2021-07-11T12:09:42.923944Z"
    },
    "papermill": {
     "duration": 0.045288,
     "end_time": "2021-07-11T12:09:42.924071",
     "exception": false,
     "start_time": "2021-07-11T12:09:42.878783",
     "status": "completed"
    },
    "tags": []
   },
   "outputs": [],
   "source": [
    "#hide\n",
    "def get_dates(df):\n",
    "    dt_cols = df.columns[~df.columns.isin(['Province/State', 'Country/Region', 'Lat', 'Long'])]\n",
    "    LAST_DATE_I = -1\n",
    "    # sometimes last column may be empty, then go backwards\n",
    "    for i in range(-1, -len(dt_cols), -1):\n",
    "        if not df[dt_cols[i]].fillna(0).eq(0).all():\n",
    "            LAST_DATE_I = i\n",
    "            break\n",
    "    return LAST_DATE_I, dt_cols"
   ]
  },
  {
   "cell_type": "code",
   "execution_count": 9,
   "id": "recent-optimization",
   "metadata": {
    "execution": {
     "iopub.execute_input": "2021-07-11T12:09:43.002584Z",
     "iopub.status.busy": "2021-07-11T12:09:43.001605Z",
     "iopub.status.idle": "2021-07-11T12:09:43.308495Z",
     "shell.execute_reply": "2021-07-11T12:09:43.307303Z"
    },
    "papermill": {
     "duration": 0.347999,
     "end_time": "2021-07-11T12:09:43.308638",
     "exception": false,
     "start_time": "2021-07-11T12:09:42.960639",
     "status": "completed"
    },
    "tags": []
   },
   "outputs": [],
   "source": [
    "#hide\n",
    "COL_REGION = 'Country/Region'\n",
    "# Confirmed, Recovered, Deaths\n",
    "df = get_frame('confirmed')\n",
    "# dft_: timeseries, dfc_: today country agg\n",
    "dft_cases = df\n",
    "dft_deaths = get_frame('deaths')\n",
    "dft_recovered = get_frame('recovered')\n",
    "LAST_DATE_I, dt_cols = get_dates(df)"
   ]
  },
  {
   "cell_type": "code",
   "execution_count": 10,
   "id": "absolute-copper",
   "metadata": {
    "execution": {
     "iopub.execute_input": "2021-07-11T12:09:43.384287Z",
     "iopub.status.busy": "2021-07-11T12:09:43.383701Z",
     "iopub.status.idle": "2021-07-11T12:09:43.386111Z",
     "shell.execute_reply": "2021-07-11T12:09:43.386577Z"
    },
    "papermill": {
     "duration": 0.043039,
     "end_time": "2021-07-11T12:09:43.386711",
     "exception": false,
     "start_time": "2021-07-11T12:09:43.343672",
     "status": "completed"
    },
    "tags": []
   },
   "outputs": [],
   "source": [
    "#hide\n",
    "LAST_DATE_I, dt_cols = get_dates(df)\n",
    "dt_today =dt_cols[LAST_DATE_I]\n",
    "# dt_5day = dt_cols[LAST_DATE_I - 5]\n",
    "dt_yday = dt_cols[LAST_DATE_I - 1]"
   ]
  },
  {
   "cell_type": "code",
   "execution_count": 11,
   "id": "restricted-sheriff",
   "metadata": {
    "execution": {
     "iopub.execute_input": "2021-07-11T12:09:43.465082Z",
     "iopub.status.busy": "2021-07-11T12:09:43.464490Z",
     "iopub.status.idle": "2021-07-11T12:09:43.470847Z",
     "shell.execute_reply": "2021-07-11T12:09:43.471312Z"
    },
    "papermill": {
     "duration": 0.049613,
     "end_time": "2021-07-11T12:09:43.471443",
     "exception": false,
     "start_time": "2021-07-11T12:09:43.421830",
     "status": "completed"
    },
    "tags": []
   },
   "outputs": [],
   "source": [
    "#hide\n",
    "dfc_cases = dft_cases.groupby(COL_REGION)[dt_today].sum()\n",
    "dfc_deaths = dft_deaths.groupby(COL_REGION)[dt_today].sum()\n",
    "# dfp_cases = dft_cases.groupby(COL_REGION)[dt_5day].sum()\n",
    "# dfp_deaths = dft_deaths.groupby(COL_REGION)[dt_5day].sum()\n",
    "dfp_cases = dft_cases.groupby(COL_REGION)[dt_yday].sum()\n",
    "dfp_deaths = dft_deaths.groupby(COL_REGION)[dt_yday].sum()"
   ]
  },
  {
   "cell_type": "code",
   "execution_count": 12,
   "id": "deluxe-hepatitis",
   "metadata": {
    "execution": {
     "iopub.execute_input": "2021-07-11T12:09:43.549360Z",
     "iopub.status.busy": "2021-07-11T12:09:43.547457Z",
     "iopub.status.idle": "2021-07-11T12:09:43.553523Z",
     "shell.execute_reply": "2021-07-11T12:09:43.553997Z"
    },
    "papermill": {
     "duration": 0.048295,
     "end_time": "2021-07-11T12:09:43.554115",
     "exception": false,
     "start_time": "2021-07-11T12:09:43.505820",
     "status": "completed"
    },
    "tags": []
   },
   "outputs": [],
   "source": [
    "#hide\n",
    "df_table = (pd.DataFrame(dict(Cases = dfc_cases, Deaths = dfc_deaths, PCases = dfp_cases, PDeaths = dfp_deaths))\n",
    "            .sort_values(by = ['Cases','Deaths'], ascending = [False, False])\n",
    "            .reset_index())"
   ]
  },
  {
   "cell_type": "code",
   "execution_count": 13,
   "id": "educational-chancellor",
   "metadata": {
    "execution": {
     "iopub.execute_input": "2021-07-11T12:09:43.643235Z",
     "iopub.status.busy": "2021-07-11T12:09:43.641592Z",
     "iopub.status.idle": "2021-07-11T12:09:43.652874Z",
     "shell.execute_reply": "2021-07-11T12:09:43.651967Z"
    },
    "papermill": {
     "duration": 0.064659,
     "end_time": "2021-07-11T12:09:43.652998",
     "exception": false,
     "start_time": "2021-07-11T12:09:43.588339",
     "status": "completed"
    },
    "tags": []
   },
   "outputs": [
    {
     "data": {
      "text/html": [
       "<div>\n",
       "<style scoped>\n",
       "    .dataframe tbody tr th:only-of-type {\n",
       "        vertical-align: middle;\n",
       "    }\n",
       "\n",
       "    .dataframe tbody tr th {\n",
       "        vertical-align: top;\n",
       "    }\n",
       "\n",
       "    .dataframe thead th {\n",
       "        text-align: right;\n",
       "    }\n",
       "</style>\n",
       "<table border=\"1\" class=\"dataframe\">\n",
       "  <thead>\n",
       "    <tr style=\"text-align: right;\">\n",
       "      <th></th>\n",
       "      <th>Country/Region</th>\n",
       "      <th>Cases</th>\n",
       "      <th>Deaths</th>\n",
       "      <th>PCases</th>\n",
       "      <th>PDeaths</th>\n",
       "      <th>Cases (+)</th>\n",
       "      <th>Deaths (+)</th>\n",
       "      <th>Fatality Rate</th>\n",
       "      <th>Continent</th>\n",
       "    </tr>\n",
       "  </thead>\n",
       "  <tbody>\n",
       "    <tr>\n",
       "      <th>0</th>\n",
       "      <td>US</td>\n",
       "      <td>33847784</td>\n",
       "      <td>607132</td>\n",
       "      <td>33838746</td>\n",
       "      <td>606993</td>\n",
       "      <td>9038</td>\n",
       "      <td>139</td>\n",
       "      <td>1.79</td>\n",
       "      <td>North America</td>\n",
       "    </tr>\n",
       "    <tr>\n",
       "      <th>1</th>\n",
       "      <td>India</td>\n",
       "      <td>30837222</td>\n",
       "      <td>408040</td>\n",
       "      <td>30795716</td>\n",
       "      <td>407145</td>\n",
       "      <td>41506</td>\n",
       "      <td>895</td>\n",
       "      <td>1.32</td>\n",
       "      <td>Asia</td>\n",
       "    </tr>\n",
       "    <tr>\n",
       "      <th>2</th>\n",
       "      <td>Brazil</td>\n",
       "      <td>19069003</td>\n",
       "      <td>532893</td>\n",
       "      <td>19020499</td>\n",
       "      <td>531688</td>\n",
       "      <td>48504</td>\n",
       "      <td>1205</td>\n",
       "      <td>2.79</td>\n",
       "      <td>South America</td>\n",
       "    </tr>\n",
       "    <tr>\n",
       "      <th>3</th>\n",
       "      <td>France</td>\n",
       "      <td>5870463</td>\n",
       "      <td>111511</td>\n",
       "      <td>5865767</td>\n",
       "      <td>111492</td>\n",
       "      <td>4696</td>\n",
       "      <td>19</td>\n",
       "      <td>1.90</td>\n",
       "      <td>Europe</td>\n",
       "    </tr>\n",
       "    <tr>\n",
       "      <th>4</th>\n",
       "      <td>Russia</td>\n",
       "      <td>5688807</td>\n",
       "      <td>139896</td>\n",
       "      <td>5664200</td>\n",
       "      <td>139156</td>\n",
       "      <td>24607</td>\n",
       "      <td>740</td>\n",
       "      <td>2.46</td>\n",
       "      <td>Europe</td>\n",
       "    </tr>\n",
       "  </tbody>\n",
       "</table>\n",
       "</div>"
      ],
      "text/plain": [
       "  Country/Region     Cases  Deaths    PCases  PDeaths  Cases (+)  Deaths (+)  \\\n",
       "0             US  33847784  607132  33838746   606993       9038         139   \n",
       "1          India  30837222  408040  30795716   407145      41506         895   \n",
       "2         Brazil  19069003  532893  19020499   531688      48504        1205   \n",
       "3         France   5870463  111511   5865767   111492       4696          19   \n",
       "4         Russia   5688807  139896   5664200   139156      24607         740   \n",
       "\n",
       "   Fatality Rate      Continent  \n",
       "0           1.79  North America  \n",
       "1           1.32           Asia  \n",
       "2           2.79  South America  \n",
       "3           1.90         Europe  \n",
       "4           2.46         Europe  "
      ]
     },
     "execution_count": 13,
     "metadata": {},
     "output_type": "execute_result"
    }
   ],
   "source": [
    "#hide\n",
    "for c in 'Cases, Deaths'.split(', '):\n",
    "    df_table[f'{c} (+)'] = (df_table[c] - df_table[f'P{c}']).clip(0)\n",
    "    #Clip ça veut dire, les chiffres negatif sont interdit\n",
    "df_table['Fatality Rate'] = (100* df_table['Deaths']/ df_table['Cases']).round(2)\n",
    "df_table['Continent'] = df_table['Country/Region'].map(mapping['map.continent'])\n",
    "df_table.head(5)"
   ]
  },
  {
   "cell_type": "code",
   "execution_count": 14,
   "id": "aboriginal-bulgaria",
   "metadata": {
    "execution": {
     "iopub.execute_input": "2021-07-11T12:09:43.737274Z",
     "iopub.status.busy": "2021-07-11T12:09:43.736219Z",
     "iopub.status.idle": "2021-07-11T12:09:43.738347Z",
     "shell.execute_reply": "2021-07-11T12:09:43.739153Z"
    },
    "papermill": {
     "duration": 0.046612,
     "end_time": "2021-07-11T12:09:43.739366",
     "exception": false,
     "start_time": "2021-07-11T12:09:43.692754",
     "status": "completed"
    },
    "tags": []
   },
   "outputs": [],
   "source": [
    "#hide\n",
    "#delete problematic countries from table\n",
    "df_table = df_table[~df_table['Country/Region'].isin(['Cape Verde', 'Cruise Ship', 'Kosovo'])]"
   ]
  },
  {
   "cell_type": "code",
   "execution_count": 15,
   "id": "fantastic-effect",
   "metadata": {
    "execution": {
     "iopub.execute_input": "2021-07-11T12:09:43.822348Z",
     "iopub.status.busy": "2021-07-11T12:09:43.821764Z",
     "iopub.status.idle": "2021-07-11T12:09:43.841580Z",
     "shell.execute_reply": "2021-07-11T12:09:43.842025Z"
    },
    "papermill": {
     "duration": 0.063645,
     "end_time": "2021-07-11T12:09:43.842164",
     "exception": false,
     "start_time": "2021-07-11T12:09:43.778519",
     "status": "completed"
    },
    "tags": []
   },
   "outputs": [
    {
     "data": {
      "text/html": [
       "<div>\n",
       "<style scoped>\n",
       "    .dataframe tbody tr th:only-of-type {\n",
       "        vertical-align: middle;\n",
       "    }\n",
       "\n",
       "    .dataframe tbody tr th {\n",
       "        vertical-align: top;\n",
       "    }\n",
       "\n",
       "    .dataframe thead th {\n",
       "        text-align: right;\n",
       "    }\n",
       "</style>\n",
       "<table border=\"1\" class=\"dataframe\">\n",
       "  <thead>\n",
       "    <tr style=\"text-align: right;\">\n",
       "      <th></th>\n",
       "      <th>Country/Region</th>\n",
       "      <th>Cases</th>\n",
       "      <th>Deaths</th>\n",
       "      <th>PCases</th>\n",
       "      <th>PDeaths</th>\n",
       "      <th>Cases (+)</th>\n",
       "      <th>Deaths (+)</th>\n",
       "      <th>Fatality Rate</th>\n",
       "      <th>Continent</th>\n",
       "    </tr>\n",
       "  </thead>\n",
       "  <tbody>\n",
       "    <tr>\n",
       "      <th>0</th>\n",
       "      <td>US</td>\n",
       "      <td>33847784</td>\n",
       "      <td>607132</td>\n",
       "      <td>33838746</td>\n",
       "      <td>606993</td>\n",
       "      <td>9038</td>\n",
       "      <td>139</td>\n",
       "      <td>1.8</td>\n",
       "      <td>North America</td>\n",
       "    </tr>\n",
       "    <tr>\n",
       "      <th>1</th>\n",
       "      <td>India</td>\n",
       "      <td>30837222</td>\n",
       "      <td>408040</td>\n",
       "      <td>30795716</td>\n",
       "      <td>407145</td>\n",
       "      <td>41506</td>\n",
       "      <td>895</td>\n",
       "      <td>1.3</td>\n",
       "      <td>Asia</td>\n",
       "    </tr>\n",
       "    <tr>\n",
       "      <th>2</th>\n",
       "      <td>Brazil</td>\n",
       "      <td>19069003</td>\n",
       "      <td>532893</td>\n",
       "      <td>19020499</td>\n",
       "      <td>531688</td>\n",
       "      <td>48504</td>\n",
       "      <td>1205</td>\n",
       "      <td>2.8</td>\n",
       "      <td>South America</td>\n",
       "    </tr>\n",
       "    <tr>\n",
       "      <th>3</th>\n",
       "      <td>France</td>\n",
       "      <td>5870463</td>\n",
       "      <td>111511</td>\n",
       "      <td>5865767</td>\n",
       "      <td>111492</td>\n",
       "      <td>4696</td>\n",
       "      <td>19</td>\n",
       "      <td>1.9</td>\n",
       "      <td>Europe</td>\n",
       "    </tr>\n",
       "    <tr>\n",
       "      <th>4</th>\n",
       "      <td>Russia</td>\n",
       "      <td>5688807</td>\n",
       "      <td>139896</td>\n",
       "      <td>5664200</td>\n",
       "      <td>139156</td>\n",
       "      <td>24607</td>\n",
       "      <td>740</td>\n",
       "      <td>2.5</td>\n",
       "      <td>Europe</td>\n",
       "    </tr>\n",
       "  </tbody>\n",
       "</table>\n",
       "</div>"
      ],
      "text/plain": [
       "  Country/Region     Cases  Deaths    PCases  PDeaths  Cases (+)  Deaths (+)  \\\n",
       "0             US  33847784  607132  33838746   606993       9038         139   \n",
       "1          India  30837222  408040  30795716   407145      41506         895   \n",
       "2         Brazil  19069003  532893  19020499   531688      48504        1205   \n",
       "3         France   5870463  111511   5865767   111492       4696          19   \n",
       "4         Russia   5688807  139896   5664200   139156      24607         740   \n",
       "\n",
       "   Fatality Rate      Continent  \n",
       "0            1.8  North America  \n",
       "1            1.3           Asia  \n",
       "2            2.8  South America  \n",
       "3            1.9         Europe  \n",
       "4            2.5         Europe  "
      ]
     },
     "execution_count": 15,
     "metadata": {},
     "output_type": "execute_result"
    }
   ],
   "source": [
    "#hide\n",
    "df_table = (pd.DataFrame(dict(Cases=dfc_cases, Deaths=dfc_deaths, PCases=dfp_cases, PDeaths=dfp_deaths))\n",
    "             .sort_values(by=['Cases', 'Deaths'], ascending=[False, False])\n",
    "             .reset_index())\n",
    "df_table.rename(columns={'index': 'Country/Region'}, inplace=True)\n",
    "for c in 'Cases, Deaths'.split(', '):\n",
    "    df_table[f'{c} (+)'] = (df_table[c] - df_table[f'P{c}']).clip(0)  # DATA BUG\n",
    "df_table['Fatality Rate'] = (100 * df_table['Deaths'] / df_table['Cases']).round(1)\n",
    "df_table['Continent'] = df_table['Country/Region'].map(mapping['map.continent'])\n",
    "df_table.head(5)"
   ]
  },
  {
   "cell_type": "code",
   "execution_count": 16,
   "id": "fewer-occasion",
   "metadata": {
    "execution": {
     "iopub.execute_input": "2021-07-11T12:09:43.926699Z",
     "iopub.status.busy": "2021-07-11T12:09:43.926096Z",
     "iopub.status.idle": "2021-07-11T12:09:43.928374Z",
     "shell.execute_reply": "2021-07-11T12:09:43.927881Z"
    },
    "papermill": {
     "duration": 0.046502,
     "end_time": "2021-07-11T12:09:43.928499",
     "exception": false,
     "start_time": "2021-07-11T12:09:43.881997",
     "status": "completed"
    },
    "tags": []
   },
   "outputs": [],
   "source": [
    "#hide\n",
    "#delete problematic countries from table\n",
    "df_table = df_table[~df_table['Country/Region'].isin(['Cape Verde', 'Cruise Ship', 'Kosovo'])]"
   ]
  },
  {
   "cell_type": "code",
   "execution_count": 17,
   "id": "related-center",
   "metadata": {
    "execution": {
     "iopub.execute_input": "2021-07-11T12:09:44.011674Z",
     "iopub.status.busy": "2021-07-11T12:09:44.011083Z",
     "iopub.status.idle": "2021-07-11T12:09:44.023919Z",
     "shell.execute_reply": "2021-07-11T12:09:44.023450Z"
    },
    "papermill": {
     "duration": 0.06029,
     "end_time": "2021-07-11T12:09:44.024041",
     "exception": false,
     "start_time": "2021-07-11T12:09:43.963751",
     "status": "completed"
    },
    "tags": []
   },
   "outputs": [],
   "source": [
    "#hide\n",
    "metrics = [df_table.columns[index] for index in [1,2,5,6]]\n",
    "# s_china = df_table[df_table['Country/Region'].eq('China')][metrics].sum().add_prefix('China ')\n",
    "s_us = df_table[df_table['Country/Region'].eq('US')][metrics].sum().add_prefix('US ')\n",
    "s_eu = df_table[df_table['Continent'].eq('Europe')][metrics].sum().add_prefix('EU ')\n",
    "s_ind = df_table[df_table['Country/Region'].eq('India')][metrics].sum().add_prefix('India ')\n",
    "summary = {'updated': pd.to_datetime(dt_today), 'since': pd.to_datetime(dt_yday)}\n",
    "summary = {'updated': pd.to_datetime(dt_today), 'since': pd.to_datetime(dt_yday)}\n",
    "summary = {**summary, **df_table[metrics].sum(), **s_ind, **s_us, **s_eu}"
   ]
  },
  {
   "cell_type": "code",
   "execution_count": 18,
   "id": "engaging-syndrome",
   "metadata": {
    "execution": {
     "iopub.execute_input": "2021-07-11T12:09:44.103202Z",
     "iopub.status.busy": "2021-07-11T12:09:44.102619Z",
     "iopub.status.idle": "2021-07-11T12:09:44.114364Z",
     "shell.execute_reply": "2021-07-11T12:09:44.114872Z"
    },
    "papermill": {
     "duration": 0.054294,
     "end_time": "2021-07-11T12:09:44.115012",
     "exception": false,
     "start_time": "2021-07-11T12:09:44.060718",
     "status": "completed"
    },
    "tags": []
   },
   "outputs": [],
   "source": [
    "#hide\n",
    "dft_ct_new_cases = dft_cases.groupby(COL_REGION)[dt_cols].sum().diff(axis=1).fillna(0).astype(int)"
   ]
  },
  {
   "cell_type": "code",
   "execution_count": 19,
   "id": "neutral-assignment",
   "metadata": {
    "execution": {
     "iopub.execute_input": "2021-07-11T12:09:44.193405Z",
     "iopub.status.busy": "2021-07-11T12:09:44.192816Z",
     "iopub.status.idle": "2021-07-11T12:09:44.195012Z",
     "shell.execute_reply": "2021-07-11T12:09:44.194526Z"
    },
    "papermill": {
     "duration": 0.044575,
     "end_time": "2021-07-11T12:09:44.195126",
     "exception": false,
     "start_time": "2021-07-11T12:09:44.150551",
     "status": "completed"
    },
    "tags": []
   },
   "outputs": [],
   "source": [
    "#hide\n",
    "everydaycases = dft_ct_new_cases.cumsum(axis=1)"
   ]
  },
  {
   "cell_type": "code",
   "execution_count": 20,
   "id": "parliamentary-calgary",
   "metadata": {
    "execution": {
     "iopub.execute_input": "2021-07-11T12:09:44.270785Z",
     "iopub.status.busy": "2021-07-11T12:09:44.270207Z",
     "iopub.status.idle": "2021-07-11T12:09:44.890301Z",
     "shell.execute_reply": "2021-07-11T12:09:44.889437Z"
    },
    "papermill": {
     "duration": 0.659887,
     "end_time": "2021-07-11T12:09:44.890513",
     "exception": false,
     "start_time": "2021-07-11T12:09:44.230626",
     "status": "completed"
    },
    "tags": []
   },
   "outputs": [],
   "source": [
    "#hide\n",
    "import pandas as pd\n",
    "import matplotlib.pyplot as plt\n",
    "import matplotlib.ticker as ticker\n",
    "import matplotlib.animation as animation\n",
    "from IPython.display import HTML"
   ]
  },
  {
   "cell_type": "code",
   "execution_count": 21,
   "id": "lasting-extraction",
   "metadata": {
    "execution": {
     "iopub.execute_input": "2021-07-11T12:09:44.966872Z",
     "iopub.status.busy": "2021-07-11T12:09:44.966285Z",
     "iopub.status.idle": "2021-07-11T12:09:44.972537Z",
     "shell.execute_reply": "2021-07-11T12:09:44.972014Z"
    },
    "papermill": {
     "duration": 0.046541,
     "end_time": "2021-07-11T12:09:44.972718",
     "exception": false,
     "start_time": "2021-07-11T12:09:44.926177",
     "status": "completed"
    },
    "tags": []
   },
   "outputs": [],
   "source": [
    "#hide\n",
    "t = everydaycases.stack()"
   ]
  },
  {
   "cell_type": "code",
   "execution_count": 22,
   "id": "premier-sleeve",
   "metadata": {
    "execution": {
     "iopub.execute_input": "2021-07-11T12:09:45.054335Z",
     "iopub.status.busy": "2021-07-11T12:09:45.053746Z",
     "iopub.status.idle": "2021-07-11T12:09:45.062361Z",
     "shell.execute_reply": "2021-07-11T12:09:45.062910Z"
    },
    "papermill": {
     "duration": 0.051853,
     "end_time": "2021-07-11T12:09:45.063048",
     "exception": false,
     "start_time": "2021-07-11T12:09:45.011195",
     "status": "completed"
    },
    "tags": []
   },
   "outputs": [],
   "source": [
    "#hide\n",
    "g = t.reset_index(['Country/Region'])"
   ]
  },
  {
   "cell_type": "code",
   "execution_count": 23,
   "id": "distributed-pittsburgh",
   "metadata": {
    "execution": {
     "iopub.execute_input": "2021-07-11T12:09:45.137032Z",
     "iopub.status.busy": "2021-07-11T12:09:45.136435Z",
     "iopub.status.idle": "2021-07-11T12:09:45.138643Z",
     "shell.execute_reply": "2021-07-11T12:09:45.138160Z"
    },
    "papermill": {
     "duration": 0.041413,
     "end_time": "2021-07-11T12:09:45.138762",
     "exception": false,
     "start_time": "2021-07-11T12:09:45.097349",
     "status": "completed"
    },
    "tags": []
   },
   "outputs": [],
   "source": [
    "#hide\n",
    "g.index.name = 'date'"
   ]
  },
  {
   "cell_type": "code",
   "execution_count": 24,
   "id": "naked-donor",
   "metadata": {
    "execution": {
     "iopub.execute_input": "2021-07-11T12:09:45.212294Z",
     "iopub.status.busy": "2021-07-11T12:09:45.211717Z",
     "iopub.status.idle": "2021-07-11T12:09:45.214100Z",
     "shell.execute_reply": "2021-07-11T12:09:45.214540Z"
    },
    "papermill": {
     "duration": 0.041323,
     "end_time": "2021-07-11T12:09:45.214673",
     "exception": false,
     "start_time": "2021-07-11T12:09:45.173350",
     "status": "completed"
    },
    "tags": []
   },
   "outputs": [],
   "source": [
    "# #hide\n",
    "# g = g.reset_index(['date'])"
   ]
  },
  {
   "cell_type": "code",
   "execution_count": 25,
   "id": "incomplete-mustang",
   "metadata": {
    "execution": {
     "iopub.execute_input": "2021-07-11T12:09:45.288174Z",
     "iopub.status.busy": "2021-07-11T12:09:45.287594Z",
     "iopub.status.idle": "2021-07-11T12:09:45.289901Z",
     "shell.execute_reply": "2021-07-11T12:09:45.289418Z"
    },
    "papermill": {
     "duration": 0.040974,
     "end_time": "2021-07-11T12:09:45.290016",
     "exception": false,
     "start_time": "2021-07-11T12:09:45.249042",
     "status": "completed"
    },
    "tags": []
   },
   "outputs": [],
   "source": [
    "#hide\n",
    "# g.head()"
   ]
  },
  {
   "cell_type": "code",
   "execution_count": 26,
   "id": "specific-kruger",
   "metadata": {
    "execution": {
     "iopub.execute_input": "2021-07-11T12:09:45.362921Z",
     "iopub.status.busy": "2021-07-11T12:09:45.362341Z",
     "iopub.status.idle": "2021-07-11T12:09:45.364034Z",
     "shell.execute_reply": "2021-07-11T12:09:45.364589Z"
    },
    "papermill": {
     "duration": 0.040001,
     "end_time": "2021-07-11T12:09:45.364724",
     "exception": false,
     "start_time": "2021-07-11T12:09:45.324723",
     "status": "completed"
    },
    "tags": []
   },
   "outputs": [],
   "source": [
    "#hide\n",
    "# g.columns = ['date','country','cases']"
   ]
  },
  {
   "cell_type": "code",
   "execution_count": 27,
   "id": "tender-conversion",
   "metadata": {
    "execution": {
     "iopub.execute_input": "2021-07-11T12:09:45.438599Z",
     "iopub.status.busy": "2021-07-11T12:09:45.438019Z",
     "iopub.status.idle": "2021-07-11T12:09:45.440487Z",
     "shell.execute_reply": "2021-07-11T12:09:45.441029Z"
    },
    "papermill": {
     "duration": 0.04197,
     "end_time": "2021-07-11T12:09:45.441165",
     "exception": false,
     "start_time": "2021-07-11T12:09:45.399195",
     "status": "completed"
    },
    "tags": []
   },
   "outputs": [],
   "source": [
    "#hide\n",
    "# g['continent'] = g.country"
   ]
  },
  {
   "cell_type": "code",
   "execution_count": 28,
   "id": "substantial-wilderness",
   "metadata": {
    "execution": {
     "iopub.execute_input": "2021-07-11T12:09:45.515100Z",
     "iopub.status.busy": "2021-07-11T12:09:45.514523Z",
     "iopub.status.idle": "2021-07-11T12:09:45.516878Z",
     "shell.execute_reply": "2021-07-11T12:09:45.517437Z"
    },
    "papermill": {
     "duration": 0.041907,
     "end_time": "2021-07-11T12:09:45.517574",
     "exception": false,
     "start_time": "2021-07-11T12:09:45.475667",
     "status": "completed"
    },
    "tags": []
   },
   "outputs": [],
   "source": [
    "#hide\n",
    "# cols = list(g.columns.values)"
   ]
  },
  {
   "cell_type": "code",
   "execution_count": 29,
   "id": "solved-farming",
   "metadata": {
    "execution": {
     "iopub.execute_input": "2021-07-11T12:09:45.590338Z",
     "iopub.status.busy": "2021-07-11T12:09:45.589757Z",
     "iopub.status.idle": "2021-07-11T12:09:45.591543Z",
     "shell.execute_reply": "2021-07-11T12:09:45.592013Z"
    },
    "papermill": {
     "duration": 0.040163,
     "end_time": "2021-07-11T12:09:45.592151",
     "exception": false,
     "start_time": "2021-07-11T12:09:45.551988",
     "status": "completed"
    },
    "tags": []
   },
   "outputs": [],
   "source": [
    "#hide\n",
    "# cols.insert(0, cols.pop())"
   ]
  },
  {
   "cell_type": "code",
   "execution_count": 30,
   "id": "executed-adoption",
   "metadata": {
    "execution": {
     "iopub.execute_input": "2021-07-11T12:09:45.665270Z",
     "iopub.status.busy": "2021-07-11T12:09:45.664681Z",
     "iopub.status.idle": "2021-07-11T12:09:45.666863Z",
     "shell.execute_reply": "2021-07-11T12:09:45.666301Z"
    },
    "papermill": {
     "duration": 0.040208,
     "end_time": "2021-07-11T12:09:45.666980",
     "exception": false,
     "start_time": "2021-07-11T12:09:45.626772",
     "status": "completed"
    },
    "tags": []
   },
   "outputs": [],
   "source": [
    "#hide\n",
    "# g = g[cols]"
   ]
  },
  {
   "cell_type": "code",
   "execution_count": 31,
   "id": "subject-dublin",
   "metadata": {
    "execution": {
     "iopub.execute_input": "2021-07-11T12:09:45.740364Z",
     "iopub.status.busy": "2021-07-11T12:09:45.739763Z",
     "iopub.status.idle": "2021-07-11T12:09:45.741980Z",
     "shell.execute_reply": "2021-07-11T12:09:45.742528Z"
    },
    "papermill": {
     "duration": 0.041127,
     "end_time": "2021-07-11T12:09:45.742660",
     "exception": false,
     "start_time": "2021-07-11T12:09:45.701533",
     "status": "completed"
    },
    "tags": []
   },
   "outputs": [],
   "source": [
    "#hide\n",
    "# g['continent'] = g['continent'].map(mapping['map.continent'])"
   ]
  },
  {
   "cell_type": "code",
   "execution_count": 32,
   "id": "freelance-scout",
   "metadata": {
    "execution": {
     "iopub.execute_input": "2021-07-11T12:09:45.815307Z",
     "iopub.status.busy": "2021-07-11T12:09:45.814731Z",
     "iopub.status.idle": "2021-07-11T12:09:45.817223Z",
     "shell.execute_reply": "2021-07-11T12:09:45.816755Z"
    },
    "papermill": {
     "duration": 0.040212,
     "end_time": "2021-07-11T12:09:45.817342",
     "exception": false,
     "start_time": "2021-07-11T12:09:45.777130",
     "status": "completed"
    },
    "tags": []
   },
   "outputs": [],
   "source": [
    "#hide\n",
    "# g.head()"
   ]
  },
  {
   "cell_type": "code",
   "execution_count": 33,
   "id": "limited-engine",
   "metadata": {
    "execution": {
     "iopub.execute_input": "2021-07-11T12:09:45.890774Z",
     "iopub.status.busy": "2021-07-11T12:09:45.889549Z",
     "iopub.status.idle": "2021-07-11T12:09:45.891418Z",
     "shell.execute_reply": "2021-07-11T12:09:45.891871Z"
    },
    "papermill": {
     "duration": 0.040271,
     "end_time": "2021-07-11T12:09:45.892004",
     "exception": false,
     "start_time": "2021-07-11T12:09:45.851733",
     "status": "completed"
    },
    "tags": []
   },
   "outputs": [],
   "source": [
    "# hide\n",
    "# g['date'] = g['date'].astype('datetime64[ns]')"
   ]
  },
  {
   "cell_type": "code",
   "execution_count": 34,
   "id": "sophisticated-supervisor",
   "metadata": {
    "execution": {
     "iopub.execute_input": "2021-07-11T12:09:45.965344Z",
     "iopub.status.busy": "2021-07-11T12:09:45.964768Z",
     "iopub.status.idle": "2021-07-11T12:09:45.966989Z",
     "shell.execute_reply": "2021-07-11T12:09:45.967452Z"
    },
    "papermill": {
     "duration": 0.041184,
     "end_time": "2021-07-11T12:09:45.967583",
     "exception": false,
     "start_time": "2021-07-11T12:09:45.926399",
     "status": "completed"
    },
    "tags": []
   },
   "outputs": [],
   "source": [
    "#hide\n",
    "# g['date'] = g.date.dt.dayofyear"
   ]
  },
  {
   "cell_type": "code",
   "execution_count": 35,
   "id": "inside-dubai",
   "metadata": {
    "execution": {
     "iopub.execute_input": "2021-07-11T12:09:46.040534Z",
     "iopub.status.busy": "2021-07-11T12:09:46.039930Z",
     "iopub.status.idle": "2021-07-11T12:09:46.042347Z",
     "shell.execute_reply": "2021-07-11T12:09:46.042898Z"
    },
    "papermill": {
     "duration": 0.041227,
     "end_time": "2021-07-11T12:09:46.043028",
     "exception": false,
     "start_time": "2021-07-11T12:09:46.001801",
     "status": "completed"
    },
    "tags": []
   },
   "outputs": [],
   "source": [
    "#hide\n",
    "# g = g.rename(columns= {'continent':'group','country':'name','cases':'value'})"
   ]
  },
  {
   "cell_type": "code",
   "execution_count": 36,
   "id": "fleet-motorcycle",
   "metadata": {
    "execution": {
     "iopub.execute_input": "2021-07-11T12:09:46.116594Z",
     "iopub.status.busy": "2021-07-11T12:09:46.115990Z",
     "iopub.status.idle": "2021-07-11T12:09:46.118775Z",
     "shell.execute_reply": "2021-07-11T12:09:46.118293Z"
    },
    "papermill": {
     "duration": 0.040976,
     "end_time": "2021-07-11T12:09:46.118888",
     "exception": false,
     "start_time": "2021-07-11T12:09:46.077912",
     "status": "completed"
    },
    "tags": []
   },
   "outputs": [],
   "source": [
    "#hide\n",
    "# cols = ['name','group','day','value']"
   ]
  },
  {
   "cell_type": "code",
   "execution_count": 37,
   "id": "continued-sleeping",
   "metadata": {
    "execution": {
     "iopub.execute_input": "2021-07-11T12:09:46.190404Z",
     "iopub.status.busy": "2021-07-11T12:09:46.189830Z",
     "iopub.status.idle": "2021-07-11T12:09:46.192046Z",
     "shell.execute_reply": "2021-07-11T12:09:46.191565Z"
    },
    "papermill": {
     "duration": 0.039558,
     "end_time": "2021-07-11T12:09:46.192158",
     "exception": false,
     "start_time": "2021-07-11T12:09:46.152600",
     "status": "completed"
    },
    "tags": []
   },
   "outputs": [],
   "source": [
    "#hide\n",
    "# g.rename(columns= {'date':'day'},inplace = True)"
   ]
  },
  {
   "cell_type": "code",
   "execution_count": 38,
   "id": "major-fight",
   "metadata": {
    "execution": {
     "iopub.execute_input": "2021-07-11T12:09:46.265004Z",
     "iopub.status.busy": "2021-07-11T12:09:46.264419Z",
     "iopub.status.idle": "2021-07-11T12:09:46.266743Z",
     "shell.execute_reply": "2021-07-11T12:09:46.267292Z"
    },
    "papermill": {
     "duration": 0.040881,
     "end_time": "2021-07-11T12:09:46.267419",
     "exception": false,
     "start_time": "2021-07-11T12:09:46.226538",
     "status": "completed"
    },
    "tags": []
   },
   "outputs": [],
   "source": [
    "#hide\n",
    "# g = g[cols]"
   ]
  },
  {
   "cell_type": "code",
   "execution_count": 39,
   "id": "structured-mobile",
   "metadata": {
    "execution": {
     "iopub.execute_input": "2021-07-11T12:09:46.339135Z",
     "iopub.status.busy": "2021-07-11T12:09:46.338566Z",
     "iopub.status.idle": "2021-07-11T12:09:46.341173Z",
     "shell.execute_reply": "2021-07-11T12:09:46.340640Z"
    },
    "papermill": {
     "duration": 0.039857,
     "end_time": "2021-07-11T12:09:46.341275",
     "exception": false,
     "start_time": "2021-07-11T12:09:46.301418",
     "status": "completed"
    },
    "tags": []
   },
   "outputs": [],
   "source": [
    "# #hide\n",
    "# g = g[g.group.notna()]"
   ]
  },
  {
   "cell_type": "code",
   "execution_count": 40,
   "id": "determined-closing",
   "metadata": {
    "execution": {
     "iopub.execute_input": "2021-07-11T12:09:46.413454Z",
     "iopub.status.busy": "2021-07-11T12:09:46.412868Z",
     "iopub.status.idle": "2021-07-11T12:09:46.414959Z",
     "shell.execute_reply": "2021-07-11T12:09:46.415396Z"
    },
    "papermill": {
     "duration": 0.039848,
     "end_time": "2021-07-11T12:09:46.415521",
     "exception": false,
     "start_time": "2021-07-11T12:09:46.375673",
     "status": "completed"
    },
    "tags": []
   },
   "outputs": [],
   "source": [
    "# #hide\n",
    "# colors = dict(zip(\n",
    "#     [\"Oceania\", \"Europe\", \"Asia\", \"South America\", \"Middle East\", \"North America\", \"Africa\"],\n",
    "#     [\"#adb0ff\", \"#ffb3ff\", \"#90d595\", \"#e48381\", \"#aafbff\", \"#f7bb5f\", \"#eafb50\"]\n",
    "# ))\n",
    "# group_lk = g.set_index('name')['group'].to_dict()"
   ]
  },
  {
   "cell_type": "code",
   "execution_count": null,
   "id": "gross-drinking",
   "metadata": {
    "papermill": {
     "duration": 0.034158,
     "end_time": "2021-07-11T12:09:46.483943",
     "exception": false,
     "start_time": "2021-07-11T12:09:46.449785",
     "status": "completed"
    },
    "tags": []
   },
   "outputs": [],
   "source": []
  },
  {
   "cell_type": "code",
   "execution_count": 41,
   "id": "subject-macintosh",
   "metadata": {
    "execution": {
     "iopub.execute_input": "2021-07-11T12:09:46.557721Z",
     "iopub.status.busy": "2021-07-11T12:09:46.557121Z",
     "iopub.status.idle": "2021-07-11T12:09:46.559708Z",
     "shell.execute_reply": "2021-07-11T12:09:46.559239Z"
    },
    "papermill": {
     "duration": 0.041493,
     "end_time": "2021-07-11T12:09:46.559817",
     "exception": false,
     "start_time": "2021-07-11T12:09:46.518324",
     "status": "completed"
    },
    "tags": []
   },
   "outputs": [],
   "source": [
    "# #hide\n",
    "# fig, ax = plt.subplots(figsize=(15, 8))\n",
    "\n",
    "# def draw_barchart(current_day):\n",
    "#     dff = g[g['day'].eq(current_day)].sort_values(by='value', ascending=True).tail(10)\n",
    "#     ax.clear()\n",
    "#     ax.barh(dff['name'], dff['value'], color=[colors[group_lk[x]] for x in dff['name']])\n",
    "#     dx = dff['value'].max() / 200\n",
    "    \n",
    "#     for i, (value, name) in enumerate(zip(dff['value'], dff['name'])):\n",
    "#         ax.text(value-dx, i,     name,           size=14, weight=600, ha='right', va='bottom')\n",
    "#         ax.text(value-dx, i-.25, group_lk[name], size=10, color='#444444', ha='right', va='baseline')\n",
    "#         ax.text(value+dx, i,     f'{value:,.0f}',  size=14, ha='left',  va='center')\n",
    "#     ax.text(1, 0.4, current_day, transform=ax.transAxes, color='#777777', size=46, ha='right', weight=800)\n",
    "#     ax.text(0, 1.06, 'Population (thousands)', transform=ax.transAxes, size=12, color='#777777')\n",
    "#     ax.xaxis.set_major_formatter(ticker.StrMethodFormatter('{x:,.0f}'))\n",
    "#     ax.xaxis.set_ticks_position('top')\n",
    "#     ax.tick_params(axis='x', colors='#777777', labelsize=12)\n",
    "#     ax.set_yticks([])\n",
    "#     ax.margins(0, 0.01)\n",
    "#     ax.grid(which='major', axis='x', linestyle='-')\n",
    "#     ax.set_axisbelow(True)\n",
    "    \n",
    "#     ax.text(0, 1.15, 'Coronavirus',\n",
    "#             transform=ax.transAxes, size=24, weight=600, ha='left', va='top')\n",
    "# #     ax.text(1, 0, 'by @pratapvardhan; credit @jburnmurdoch', transform=ax.transAxes, color='#777777', ha='right',\n",
    "# #             bbox=dict(facecolor='white', alpha=0.8, edgecolor='white'))\n",
    "#     plt.box(False)"
   ]
  },
  {
   "cell_type": "code",
   "execution_count": 42,
   "id": "sexual-wages",
   "metadata": {
    "execution": {
     "iopub.execute_input": "2021-07-11T12:09:46.631523Z",
     "iopub.status.busy": "2021-07-11T12:09:46.630945Z",
     "iopub.status.idle": "2021-07-11T12:09:46.633360Z",
     "shell.execute_reply": "2021-07-11T12:09:46.633923Z"
    },
    "papermill": {
     "duration": 0.04076,
     "end_time": "2021-07-11T12:09:46.634051",
     "exception": false,
     "start_time": "2021-07-11T12:09:46.593291",
     "status": "completed"
    },
    "tags": []
   },
   "outputs": [],
   "source": [
    "# #hide_input\n",
    "# fig, ax = plt.subplots(figsize=(15, 8))\n",
    "# animator = animation.FuncAnimation(fig, draw_barchart, frames=range(g.day.values.min(), g.day.values.max()))\n",
    "# HTML(animator.to_jshtml())\n",
    "# # or use animator.to_html5_video() or animator.save() "
   ]
  },
  {
   "cell_type": "code",
   "execution_count": null,
   "id": "australian-container",
   "metadata": {
    "papermill": {
     "duration": 0.034276,
     "end_time": "2021-07-11T12:09:46.702873",
     "exception": false,
     "start_time": "2021-07-11T12:09:46.668597",
     "status": "completed"
    },
    "tags": []
   },
   "outputs": [],
   "source": []
  },
  {
   "cell_type": "code",
   "execution_count": null,
   "id": "mediterranean-pontiac",
   "metadata": {
    "papermill": {
     "duration": 0.076167,
     "end_time": "2021-07-11T12:09:46.813490",
     "exception": false,
     "start_time": "2021-07-11T12:09:46.737323",
     "status": "completed"
    },
    "tags": []
   },
   "outputs": [],
   "source": []
  },
  {
   "cell_type": "code",
   "execution_count": null,
   "id": "aging-legislature",
   "metadata": {
    "papermill": {
     "duration": 0.040535,
     "end_time": "2021-07-11T12:09:46.911215",
     "exception": false,
     "start_time": "2021-07-11T12:09:46.870680",
     "status": "completed"
    },
    "tags": []
   },
   "outputs": [],
   "source": []
  }
 ],
 "metadata": {
  "kernelspec": {
   "display_name": "Python 3",
   "language": "python",
   "name": "python3"
  },
  "language_info": {
   "codemirror_mode": {
    "name": "ipython",
    "version": 3
   },
   "file_extension": ".py",
   "mimetype": "text/x-python",
   "name": "python",
   "nbconvert_exporter": "python",
   "pygments_lexer": "ipython3",
   "version": "3.6.13"
  },
  "papermill": {
   "duration": 6.559639,
   "end_time": "2021-07-11T12:09:47.285674",
   "environment_variables": {},
   "exception": null,
   "input_path": "2020-03-21-covid19exp.ipynb",
   "output_path": "2020-03-21-covid19exp.ipynb",
   "parameters": {},
   "start_time": "2021-07-11T12:09:40.726035",
   "version": "2.0.0"
  }
 },
 "nbformat": 4,
 "nbformat_minor": 5
}