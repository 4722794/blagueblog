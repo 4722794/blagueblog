{
 "cells": [
  {
   "cell_type": "markdown",
   "id": "muslim-click",
   "metadata": {
    "papermill": {
     "duration": 0.041366,
     "end_time": "2021-11-06T00:23:15.050536",
     "exception": false,
     "start_time": "2021-11-06T00:23:15.009170",
     "status": "completed"
    },
    "tags": []
   },
   "source": [
    "# COVID-19 Case Race\n",
    "> A race chart to see rising cases around the world\n",
    "\n",
    "- author: Hargun Oberoi\n",
    "- image: images/covid-overview.png\n",
    "- hide: false\n",
    "- badges: false"
   ]
  },
  {
   "cell_type": "code",
   "execution_count": 1,
   "id": "proof-material",
   "metadata": {
    "execution": {
     "iopub.execute_input": "2021-11-06T00:23:15.141554Z",
     "iopub.status.busy": "2021-11-06T00:23:15.140806Z",
     "iopub.status.idle": "2021-11-06T00:23:15.515189Z",
     "shell.execute_reply": "2021-11-06T00:23:15.514036Z"
    },
    "papermill": {
     "duration": 0.420379,
     "end_time": "2021-11-06T00:23:15.515368",
     "exception": false,
     "start_time": "2021-11-06T00:23:15.094989",
     "status": "completed"
    },
    "tags": []
   },
   "outputs": [],
   "source": [
    "#hide\n",
    "import numpy as np\n",
    "import pandas as pd\n",
    "from jinja2 import Template\n",
    "from IPython.display import HTML"
   ]
  },
  {
   "cell_type": "code",
   "execution_count": 2,
   "id": "developed-terminology",
   "metadata": {
    "execution": {
     "iopub.execute_input": "2021-11-06T00:23:15.598637Z",
     "iopub.status.busy": "2021-11-06T00:23:15.597937Z",
     "iopub.status.idle": "2021-11-06T00:23:15.601307Z",
     "shell.execute_reply": "2021-11-06T00:23:15.600802Z"
    },
    "papermill": {
     "duration": 0.048187,
     "end_time": "2021-11-06T00:23:15.601547",
     "exception": false,
     "start_time": "2021-11-06T00:23:15.553360",
     "status": "completed"
    },
    "tags": []
   },
   "outputs": [],
   "source": [
    "#hide\n",
    "\n",
    "# FETCH\n",
    "base_url = 'https://raw.githubusercontent.com/pratapvardhan/notebooks/master/covid19/'\n",
    "paths = {\n",
    "    'mapping': base_url + 'mapping_countries.csv',\n",
    "    'overview': base_url + 'overview.tpl'\n",
    "}"
   ]
  },
  {
   "cell_type": "code",
   "execution_count": 3,
   "id": "dynamic-saver",
   "metadata": {
    "execution": {
     "iopub.execute_input": "2021-11-06T00:23:15.688638Z",
     "iopub.status.busy": "2021-11-06T00:23:15.687862Z",
     "iopub.status.idle": "2021-11-06T00:23:15.690688Z",
     "shell.execute_reply": "2021-11-06T00:23:15.691297Z"
    },
    "papermill": {
     "duration": 0.050278,
     "end_time": "2021-11-06T00:23:15.691451",
     "exception": false,
     "start_time": "2021-11-06T00:23:15.641173",
     "status": "completed"
    },
    "tags": []
   },
   "outputs": [
    {
     "data": {
      "text/plain": [
       "'https://raw.githubusercontent.com/pratapvardhan/notebooks/master/covid19/mapping_countries.csv'"
      ]
     },
     "execution_count": 3,
     "metadata": {},
     "output_type": "execute_result"
    }
   ],
   "source": [
    "#hide\n",
    "paths['mapping']"
   ]
  },
  {
   "cell_type": "code",
   "execution_count": 4,
   "id": "urban-software",
   "metadata": {
    "execution": {
     "iopub.execute_input": "2021-11-06T00:23:15.773192Z",
     "iopub.status.busy": "2021-11-06T00:23:15.772327Z",
     "iopub.status.idle": "2021-11-06T00:23:15.774655Z",
     "shell.execute_reply": "2021-11-06T00:23:15.775158Z"
    },
    "papermill": {
     "duration": 0.046609,
     "end_time": "2021-11-06T00:23:15.775304",
     "exception": false,
     "start_time": "2021-11-06T00:23:15.728695",
     "status": "completed"
    },
    "tags": []
   },
   "outputs": [],
   "source": [
    "#hide\n",
    "def get_mappings(url):\n",
    "    df = pd.read_csv(url)\n",
    "    return {\n",
    "        'df': df,\n",
    "        'replace.country': dict(df.dropna(subset=['Name']).set_index('Country')['Name']),\n",
    "        'map.continent': dict(df.set_index('Name')['Continent'])\n",
    "    }"
   ]
  },
  {
   "cell_type": "code",
   "execution_count": 5,
   "id": "intimate-machinery",
   "metadata": {
    "execution": {
     "iopub.execute_input": "2021-11-06T00:23:15.851579Z",
     "iopub.status.busy": "2021-11-06T00:23:15.850953Z",
     "iopub.status.idle": "2021-11-06T00:23:15.889036Z",
     "shell.execute_reply": "2021-11-06T00:23:15.888409Z"
    },
    "papermill": {
     "duration": 0.078908,
     "end_time": "2021-11-06T00:23:15.889204",
     "exception": false,
     "start_time": "2021-11-06T00:23:15.810296",
     "status": "completed"
    },
    "tags": []
   },
   "outputs": [],
   "source": [
    "#hide\n",
    "mapping = get_mappings(paths['mapping'])"
   ]
  },
  {
   "cell_type": "code",
   "execution_count": 6,
   "id": "certified-tactics",
   "metadata": {
    "execution": {
     "iopub.execute_input": "2021-11-06T00:23:15.966568Z",
     "iopub.status.busy": "2021-11-06T00:23:15.965867Z",
     "iopub.status.idle": "2021-11-06T00:23:15.967300Z",
     "shell.execute_reply": "2021-11-06T00:23:15.967929Z"
    },
    "papermill": {
     "duration": 0.044417,
     "end_time": "2021-11-06T00:23:15.968179",
     "exception": false,
     "start_time": "2021-11-06T00:23:15.923762",
     "status": "completed"
    },
    "tags": []
   },
   "outputs": [],
   "source": [
    "#hide\n",
    "def get_template(path):\n",
    "    from urllib.parse import urlparse\n",
    "    if bool(urlparse(path).netloc):\n",
    "        from urllib.request import urlopen\n",
    "        return urlopen(path).read().decode('utf8')\n",
    "    return open(path).read()"
   ]
  },
  {
   "cell_type": "code",
   "execution_count": 7,
   "id": "realistic-blast",
   "metadata": {
    "execution": {
     "iopub.execute_input": "2021-11-06T00:23:16.051620Z",
     "iopub.status.busy": "2021-11-06T00:23:16.050981Z",
     "iopub.status.idle": "2021-11-06T00:23:16.052904Z",
     "shell.execute_reply": "2021-11-06T00:23:16.053452Z"
    },
    "papermill": {
     "duration": 0.044462,
     "end_time": "2021-11-06T00:23:16.053591",
     "exception": false,
     "start_time": "2021-11-06T00:23:16.009129",
     "status": "completed"
    },
    "tags": []
   },
   "outputs": [],
   "source": [
    "#hide\n",
    "def get_frame(name):\n",
    "    url = (\n",
    "        'https://raw.githubusercontent.com/CSSEGISandData/COVID-19/master/csse_covid_19_data/'\n",
    "        f'csse_covid_19_time_series/time_series_covid19_{name}_global.csv')\n",
    "    df = pd.read_csv(url)\n",
    "    # rename countries\n",
    "    df['Country/Region'] = df['Country/Region'].replace(mapping['replace.country'])\n",
    "    return df"
   ]
  },
  {
   "cell_type": "code",
   "execution_count": 8,
   "id": "affiliated-characterization",
   "metadata": {
    "execution": {
     "iopub.execute_input": "2021-11-06T00:23:16.140159Z",
     "iopub.status.busy": "2021-11-06T00:23:16.139432Z",
     "iopub.status.idle": "2021-11-06T00:23:16.141498Z",
     "shell.execute_reply": "2021-11-06T00:23:16.142031Z"
    },
    "papermill": {
     "duration": 0.048513,
     "end_time": "2021-11-06T00:23:16.142203",
     "exception": false,
     "start_time": "2021-11-06T00:23:16.093690",
     "status": "completed"
    },
    "tags": []
   },
   "outputs": [],
   "source": [
    "#hide\n",
    "def get_dates(df):\n",
    "    dt_cols = df.columns[~df.columns.isin(['Province/State', 'Country/Region', 'Lat', 'Long'])]\n",
    "    LAST_DATE_I = -1\n",
    "    # sometimes last column may be empty, then go backwards\n",
    "    for i in range(-1, -len(dt_cols), -1):\n",
    "        if not df[dt_cols[i]].fillna(0).eq(0).all():\n",
    "            LAST_DATE_I = i\n",
    "            break\n",
    "    return LAST_DATE_I, dt_cols"
   ]
  },
  {
   "cell_type": "code",
   "execution_count": 9,
   "id": "recent-optimization",
   "metadata": {
    "execution": {
     "iopub.execute_input": "2021-11-06T00:23:16.223273Z",
     "iopub.status.busy": "2021-11-06T00:23:16.222547Z",
     "iopub.status.idle": "2021-11-06T00:23:16.580727Z",
     "shell.execute_reply": "2021-11-06T00:23:16.579547Z"
    },
    "papermill": {
     "duration": 0.399243,
     "end_time": "2021-11-06T00:23:16.580907",
     "exception": false,
     "start_time": "2021-11-06T00:23:16.181664",
     "status": "completed"
    },
    "tags": []
   },
   "outputs": [],
   "source": [
    "#hide\n",
    "COL_REGION = 'Country/Region'\n",
    "# Confirmed, Recovered, Deaths\n",
    "df = get_frame('confirmed')\n",
    "# dft_: timeseries, dfc_: today country agg\n",
    "dft_cases = df\n",
    "dft_deaths = get_frame('deaths')\n",
    "dft_recovered = get_frame('recovered')\n",
    "LAST_DATE_I, dt_cols = get_dates(df)"
   ]
  },
  {
   "cell_type": "code",
   "execution_count": 10,
   "id": "absolute-copper",
   "metadata": {
    "execution": {
     "iopub.execute_input": "2021-11-06T00:23:16.662273Z",
     "iopub.status.busy": "2021-11-06T00:23:16.661607Z",
     "iopub.status.idle": "2021-11-06T00:23:16.663515Z",
     "shell.execute_reply": "2021-11-06T00:23:16.664211Z"
    },
    "papermill": {
     "duration": 0.043931,
     "end_time": "2021-11-06T00:23:16.664368",
     "exception": false,
     "start_time": "2021-11-06T00:23:16.620437",
     "status": "completed"
    },
    "tags": []
   },
   "outputs": [],
   "source": [
    "#hide\n",
    "LAST_DATE_I, dt_cols = get_dates(df)\n",
    "dt_today =dt_cols[LAST_DATE_I]\n",
    "# dt_5day = dt_cols[LAST_DATE_I - 5]\n",
    "dt_yday = dt_cols[LAST_DATE_I - 1]"
   ]
  },
  {
   "cell_type": "code",
   "execution_count": 11,
   "id": "restricted-sheriff",
   "metadata": {
    "execution": {
     "iopub.execute_input": "2021-11-06T00:23:16.740748Z",
     "iopub.status.busy": "2021-11-06T00:23:16.740095Z",
     "iopub.status.idle": "2021-11-06T00:23:16.749461Z",
     "shell.execute_reply": "2021-11-06T00:23:16.748939Z"
    },
    "papermill": {
     "duration": 0.050756,
     "end_time": "2021-11-06T00:23:16.749576",
     "exception": false,
     "start_time": "2021-11-06T00:23:16.698820",
     "status": "completed"
    },
    "tags": []
   },
   "outputs": [],
   "source": [
    "#hide\n",
    "dfc_cases = dft_cases.groupby(COL_REGION)[dt_today].sum()\n",
    "dfc_deaths = dft_deaths.groupby(COL_REGION)[dt_today].sum()\n",
    "# dfp_cases = dft_cases.groupby(COL_REGION)[dt_5day].sum()\n",
    "# dfp_deaths = dft_deaths.groupby(COL_REGION)[dt_5day].sum()\n",
    "dfp_cases = dft_cases.groupby(COL_REGION)[dt_yday].sum()\n",
    "dfp_deaths = dft_deaths.groupby(COL_REGION)[dt_yday].sum()"
   ]
  },
  {
   "cell_type": "code",
   "execution_count": 12,
   "id": "deluxe-hepatitis",
   "metadata": {
    "execution": {
     "iopub.execute_input": "2021-11-06T00:23:16.830411Z",
     "iopub.status.busy": "2021-11-06T00:23:16.829663Z",
     "iopub.status.idle": "2021-11-06T00:23:16.835341Z",
     "shell.execute_reply": "2021-11-06T00:23:16.835874Z"
    },
    "papermill": {
     "duration": 0.049965,
     "end_time": "2021-11-06T00:23:16.836098",
     "exception": false,
     "start_time": "2021-11-06T00:23:16.786133",
     "status": "completed"
    },
    "tags": []
   },
   "outputs": [],
   "source": [
    "#hide\n",
    "df_table = (pd.DataFrame(dict(Cases = dfc_cases, Deaths = dfc_deaths, PCases = dfp_cases, PDeaths = dfp_deaths))\n",
    "            .sort_values(by = ['Cases','Deaths'], ascending = [False, False])\n",
    "            .reset_index())"
   ]
  },
  {
   "cell_type": "code",
   "execution_count": 13,
   "id": "educational-chancellor",
   "metadata": {
    "execution": {
     "iopub.execute_input": "2021-11-06T00:23:16.939626Z",
     "iopub.status.busy": "2021-11-06T00:23:16.938868Z",
     "iopub.status.idle": "2021-11-06T00:23:16.948891Z",
     "shell.execute_reply": "2021-11-06T00:23:16.948337Z"
    },
    "papermill": {
     "duration": 0.072662,
     "end_time": "2021-11-06T00:23:16.949041",
     "exception": false,
     "start_time": "2021-11-06T00:23:16.876379",
     "status": "completed"
    },
    "tags": []
   },
   "outputs": [
    {
     "data": {
      "text/html": [
       "<div>\n",
       "<style scoped>\n",
       "    .dataframe tbody tr th:only-of-type {\n",
       "        vertical-align: middle;\n",
       "    }\n",
       "\n",
       "    .dataframe tbody tr th {\n",
       "        vertical-align: top;\n",
       "    }\n",
       "\n",
       "    .dataframe thead th {\n",
       "        text-align: right;\n",
       "    }\n",
       "</style>\n",
       "<table border=\"1\" class=\"dataframe\">\n",
       "  <thead>\n",
       "    <tr style=\"text-align: right;\">\n",
       "      <th></th>\n",
       "      <th>Country/Region</th>\n",
       "      <th>Cases</th>\n",
       "      <th>Deaths</th>\n",
       "      <th>PCases</th>\n",
       "      <th>PDeaths</th>\n",
       "      <th>Cases (+)</th>\n",
       "      <th>Deaths (+)</th>\n",
       "      <th>Fatality Rate</th>\n",
       "      <th>Continent</th>\n",
       "    </tr>\n",
       "  </thead>\n",
       "  <tbody>\n",
       "    <tr>\n",
       "      <th>0</th>\n",
       "      <td>US</td>\n",
       "      <td>46334856</td>\n",
       "      <td>751555</td>\n",
       "      <td>46252795</td>\n",
       "      <td>750424</td>\n",
       "      <td>82061</td>\n",
       "      <td>1131</td>\n",
       "      <td>1.62</td>\n",
       "      <td>North America</td>\n",
       "    </tr>\n",
       "    <tr>\n",
       "      <th>1</th>\n",
       "      <td>India</td>\n",
       "      <td>34333754</td>\n",
       "      <td>459873</td>\n",
       "      <td>34321025</td>\n",
       "      <td>459652</td>\n",
       "      <td>12729</td>\n",
       "      <td>221</td>\n",
       "      <td>1.34</td>\n",
       "      <td>Asia</td>\n",
       "    </tr>\n",
       "    <tr>\n",
       "      <th>2</th>\n",
       "      <td>Brazil</td>\n",
       "      <td>21849137</td>\n",
       "      <td>608671</td>\n",
       "      <td>21835785</td>\n",
       "      <td>608235</td>\n",
       "      <td>13352</td>\n",
       "      <td>436</td>\n",
       "      <td>2.79</td>\n",
       "      <td>South America</td>\n",
       "    </tr>\n",
       "    <tr>\n",
       "      <th>3</th>\n",
       "      <td>United Kingdom</td>\n",
       "      <td>9252646</td>\n",
       "      <td>141826</td>\n",
       "      <td>9215683</td>\n",
       "      <td>141607</td>\n",
       "      <td>36963</td>\n",
       "      <td>219</td>\n",
       "      <td>1.53</td>\n",
       "      <td>Europe</td>\n",
       "    </tr>\n",
       "    <tr>\n",
       "      <th>4</th>\n",
       "      <td>Russia</td>\n",
       "      <td>8533706</td>\n",
       "      <td>238784</td>\n",
       "      <td>8494589</td>\n",
       "      <td>237619</td>\n",
       "      <td>39117</td>\n",
       "      <td>1165</td>\n",
       "      <td>2.80</td>\n",
       "      <td>Europe</td>\n",
       "    </tr>\n",
       "  </tbody>\n",
       "</table>\n",
       "</div>"
      ],
      "text/plain": [
       "   Country/Region     Cases  Deaths    PCases  PDeaths  Cases (+)  Deaths (+)  \\\n",
       "0              US  46334856  751555  46252795   750424      82061        1131   \n",
       "1           India  34333754  459873  34321025   459652      12729         221   \n",
       "2          Brazil  21849137  608671  21835785   608235      13352         436   \n",
       "3  United Kingdom   9252646  141826   9215683   141607      36963         219   \n",
       "4          Russia   8533706  238784   8494589   237619      39117        1165   \n",
       "\n",
       "   Fatality Rate      Continent  \n",
       "0           1.62  North America  \n",
       "1           1.34           Asia  \n",
       "2           2.79  South America  \n",
       "3           1.53         Europe  \n",
       "4           2.80         Europe  "
      ]
     },
     "execution_count": 13,
     "metadata": {},
     "output_type": "execute_result"
    }
   ],
   "source": [
    "#hide\n",
    "for c in 'Cases, Deaths'.split(', '):\n",
    "    df_table[f'{c} (+)'] = (df_table[c] - df_table[f'P{c}']).clip(0)\n",
    "    #Clip ça veut dire, les chiffres negatif sont interdit\n",
    "df_table['Fatality Rate'] = (100* df_table['Deaths']/ df_table['Cases']).round(2)\n",
    "df_table['Continent'] = df_table['Country/Region'].map(mapping['map.continent'])\n",
    "df_table.head(5)"
   ]
  },
  {
   "cell_type": "code",
   "execution_count": 14,
   "id": "aboriginal-bulgaria",
   "metadata": {
    "execution": {
     "iopub.execute_input": "2021-11-06T00:23:17.036465Z",
     "iopub.status.busy": "2021-11-06T00:23:17.035742Z",
     "iopub.status.idle": "2021-11-06T00:23:17.038335Z",
     "shell.execute_reply": "2021-11-06T00:23:17.038899Z"
    },
    "papermill": {
     "duration": 0.049713,
     "end_time": "2021-11-06T00:23:17.039052",
     "exception": false,
     "start_time": "2021-11-06T00:23:16.989339",
     "status": "completed"
    },
    "tags": []
   },
   "outputs": [],
   "source": [
    "#hide\n",
    "#delete problematic countries from table\n",
    "df_table = df_table[~df_table['Country/Region'].isin(['Cape Verde', 'Cruise Ship', 'Kosovo'])]"
   ]
  },
  {
   "cell_type": "code",
   "execution_count": 15,
   "id": "fantastic-effect",
   "metadata": {
    "execution": {
     "iopub.execute_input": "2021-11-06T00:23:17.129637Z",
     "iopub.status.busy": "2021-11-06T00:23:17.128924Z",
     "iopub.status.idle": "2021-11-06T00:23:17.153114Z",
     "shell.execute_reply": "2021-11-06T00:23:17.152562Z"
    },
    "papermill": {
     "duration": 0.073821,
     "end_time": "2021-11-06T00:23:17.153260",
     "exception": false,
     "start_time": "2021-11-06T00:23:17.079439",
     "status": "completed"
    },
    "tags": []
   },
   "outputs": [
    {
     "data": {
      "text/html": [
       "<div>\n",
       "<style scoped>\n",
       "    .dataframe tbody tr th:only-of-type {\n",
       "        vertical-align: middle;\n",
       "    }\n",
       "\n",
       "    .dataframe tbody tr th {\n",
       "        vertical-align: top;\n",
       "    }\n",
       "\n",
       "    .dataframe thead th {\n",
       "        text-align: right;\n",
       "    }\n",
       "</style>\n",
       "<table border=\"1\" class=\"dataframe\">\n",
       "  <thead>\n",
       "    <tr style=\"text-align: right;\">\n",
       "      <th></th>\n",
       "      <th>Country/Region</th>\n",
       "      <th>Cases</th>\n",
       "      <th>Deaths</th>\n",
       "      <th>PCases</th>\n",
       "      <th>PDeaths</th>\n",
       "      <th>Cases (+)</th>\n",
       "      <th>Deaths (+)</th>\n",
       "      <th>Fatality Rate</th>\n",
       "      <th>Continent</th>\n",
       "    </tr>\n",
       "  </thead>\n",
       "  <tbody>\n",
       "    <tr>\n",
       "      <th>0</th>\n",
       "      <td>US</td>\n",
       "      <td>46334856</td>\n",
       "      <td>751555</td>\n",
       "      <td>46252795</td>\n",
       "      <td>750424</td>\n",
       "      <td>82061</td>\n",
       "      <td>1131</td>\n",
       "      <td>1.6</td>\n",
       "      <td>North America</td>\n",
       "    </tr>\n",
       "    <tr>\n",
       "      <th>1</th>\n",
       "      <td>India</td>\n",
       "      <td>34333754</td>\n",
       "      <td>459873</td>\n",
       "      <td>34321025</td>\n",
       "      <td>459652</td>\n",
       "      <td>12729</td>\n",
       "      <td>221</td>\n",
       "      <td>1.3</td>\n",
       "      <td>Asia</td>\n",
       "    </tr>\n",
       "    <tr>\n",
       "      <th>2</th>\n",
       "      <td>Brazil</td>\n",
       "      <td>21849137</td>\n",
       "      <td>608671</td>\n",
       "      <td>21835785</td>\n",
       "      <td>608235</td>\n",
       "      <td>13352</td>\n",
       "      <td>436</td>\n",
       "      <td>2.8</td>\n",
       "      <td>South America</td>\n",
       "    </tr>\n",
       "    <tr>\n",
       "      <th>3</th>\n",
       "      <td>United Kingdom</td>\n",
       "      <td>9252646</td>\n",
       "      <td>141826</td>\n",
       "      <td>9215683</td>\n",
       "      <td>141607</td>\n",
       "      <td>36963</td>\n",
       "      <td>219</td>\n",
       "      <td>1.5</td>\n",
       "      <td>Europe</td>\n",
       "    </tr>\n",
       "    <tr>\n",
       "      <th>4</th>\n",
       "      <td>Russia</td>\n",
       "      <td>8533706</td>\n",
       "      <td>238784</td>\n",
       "      <td>8494589</td>\n",
       "      <td>237619</td>\n",
       "      <td>39117</td>\n",
       "      <td>1165</td>\n",
       "      <td>2.8</td>\n",
       "      <td>Europe</td>\n",
       "    </tr>\n",
       "  </tbody>\n",
       "</table>\n",
       "</div>"
      ],
      "text/plain": [
       "   Country/Region     Cases  Deaths    PCases  PDeaths  Cases (+)  Deaths (+)  \\\n",
       "0              US  46334856  751555  46252795   750424      82061        1131   \n",
       "1           India  34333754  459873  34321025   459652      12729         221   \n",
       "2          Brazil  21849137  608671  21835785   608235      13352         436   \n",
       "3  United Kingdom   9252646  141826   9215683   141607      36963         219   \n",
       "4          Russia   8533706  238784   8494589   237619      39117        1165   \n",
       "\n",
       "   Fatality Rate      Continent  \n",
       "0            1.6  North America  \n",
       "1            1.3           Asia  \n",
       "2            2.8  South America  \n",
       "3            1.5         Europe  \n",
       "4            2.8         Europe  "
      ]
     },
     "execution_count": 15,
     "metadata": {},
     "output_type": "execute_result"
    }
   ],
   "source": [
    "#hide\n",
    "df_table = (pd.DataFrame(dict(Cases=dfc_cases, Deaths=dfc_deaths, PCases=dfp_cases, PDeaths=dfp_deaths))\n",
    "             .sort_values(by=['Cases', 'Deaths'], ascending=[False, False])\n",
    "             .reset_index())\n",
    "df_table.rename(columns={'index': 'Country/Region'}, inplace=True)\n",
    "for c in 'Cases, Deaths'.split(', '):\n",
    "    df_table[f'{c} (+)'] = (df_table[c] - df_table[f'P{c}']).clip(0)  # DATA BUG\n",
    "df_table['Fatality Rate'] = (100 * df_table['Deaths'] / df_table['Cases']).round(1)\n",
    "df_table['Continent'] = df_table['Country/Region'].map(mapping['map.continent'])\n",
    "df_table.head(5)"
   ]
  },
  {
   "cell_type": "code",
   "execution_count": 16,
   "id": "fewer-occasion",
   "metadata": {
    "execution": {
     "iopub.execute_input": "2021-11-06T00:23:17.242535Z",
     "iopub.status.busy": "2021-11-06T00:23:17.241779Z",
     "iopub.status.idle": "2021-11-06T00:23:17.245153Z",
     "shell.execute_reply": "2021-11-06T00:23:17.245667Z"
    },
    "papermill": {
     "duration": 0.050568,
     "end_time": "2021-11-06T00:23:17.245813",
     "exception": false,
     "start_time": "2021-11-06T00:23:17.195245",
     "status": "completed"
    },
    "tags": []
   },
   "outputs": [],
   "source": [
    "#hide\n",
    "#delete problematic countries from table\n",
    "df_table = df_table[~df_table['Country/Region'].isin(['Cape Verde', 'Cruise Ship', 'Kosovo'])]"
   ]
  },
  {
   "cell_type": "code",
   "execution_count": 17,
   "id": "related-center",
   "metadata": {
    "execution": {
     "iopub.execute_input": "2021-11-06T00:23:17.350677Z",
     "iopub.status.busy": "2021-11-06T00:23:17.349387Z",
     "iopub.status.idle": "2021-11-06T00:23:17.354334Z",
     "shell.execute_reply": "2021-11-06T00:23:17.354905Z"
    },
    "papermill": {
     "duration": 0.068775,
     "end_time": "2021-11-06T00:23:17.355075",
     "exception": false,
     "start_time": "2021-11-06T00:23:17.286300",
     "status": "completed"
    },
    "tags": []
   },
   "outputs": [],
   "source": [
    "#hide\n",
    "metrics = [df_table.columns[index] for index in [1,2,5,6]]\n",
    "# s_china = df_table[df_table['Country/Region'].eq('China')][metrics].sum().add_prefix('China ')\n",
    "s_us = df_table[df_table['Country/Region'].eq('US')][metrics].sum().add_prefix('US ')\n",
    "s_eu = df_table[df_table['Continent'].eq('Europe')][metrics].sum().add_prefix('EU ')\n",
    "s_ind = df_table[df_table['Country/Region'].eq('India')][metrics].sum().add_prefix('India ')\n",
    "summary = {'updated': pd.to_datetime(dt_today), 'since': pd.to_datetime(dt_yday)}\n",
    "summary = {'updated': pd.to_datetime(dt_today), 'since': pd.to_datetime(dt_yday)}\n",
    "summary = {**summary, **df_table[metrics].sum(), **s_ind, **s_us, **s_eu}"
   ]
  },
  {
   "cell_type": "code",
   "execution_count": 18,
   "id": "engaging-syndrome",
   "metadata": {
    "execution": {
     "iopub.execute_input": "2021-11-06T00:23:17.437535Z",
     "iopub.status.busy": "2021-11-06T00:23:17.436912Z",
     "iopub.status.idle": "2021-11-06T00:23:17.453093Z",
     "shell.execute_reply": "2021-11-06T00:23:17.453617Z"
    },
    "papermill": {
     "duration": 0.05998,
     "end_time": "2021-11-06T00:23:17.453786",
     "exception": false,
     "start_time": "2021-11-06T00:23:17.393806",
     "status": "completed"
    },
    "tags": []
   },
   "outputs": [],
   "source": [
    "#hide\n",
    "dft_ct_new_cases = dft_cases.groupby(COL_REGION)[dt_cols].sum().diff(axis=1).fillna(0).astype(int)"
   ]
  },
  {
   "cell_type": "code",
   "execution_count": 19,
   "id": "neutral-assignment",
   "metadata": {
    "execution": {
     "iopub.execute_input": "2021-11-06T00:23:17.541580Z",
     "iopub.status.busy": "2021-11-06T00:23:17.540829Z",
     "iopub.status.idle": "2021-11-06T00:23:17.543329Z",
     "shell.execute_reply": "2021-11-06T00:23:17.544117Z"
    },
    "papermill": {
     "duration": 0.050133,
     "end_time": "2021-11-06T00:23:17.544266",
     "exception": false,
     "start_time": "2021-11-06T00:23:17.494133",
     "status": "completed"
    },
    "tags": []
   },
   "outputs": [],
   "source": [
    "#hide\n",
    "everydaycases = dft_ct_new_cases.cumsum(axis=1)"
   ]
  },
  {
   "cell_type": "code",
   "execution_count": 20,
   "id": "parliamentary-calgary",
   "metadata": {
    "execution": {
     "iopub.execute_input": "2021-11-06T00:23:17.633247Z",
     "iopub.status.busy": "2021-11-06T00:23:17.632561Z",
     "iopub.status.idle": "2021-11-06T00:23:18.224109Z",
     "shell.execute_reply": "2021-11-06T00:23:18.223553Z"
    },
    "papermill": {
     "duration": 0.6387,
     "end_time": "2021-11-06T00:23:18.224252",
     "exception": false,
     "start_time": "2021-11-06T00:23:17.585552",
     "status": "completed"
    },
    "tags": []
   },
   "outputs": [],
   "source": [
    "#hide\n",
    "import pandas as pd\n",
    "import matplotlib.pyplot as plt\n",
    "import matplotlib.ticker as ticker\n",
    "import matplotlib.animation as animation\n",
    "from IPython.display import HTML"
   ]
  },
  {
   "cell_type": "code",
   "execution_count": 21,
   "id": "lasting-extraction",
   "metadata": {
    "execution": {
     "iopub.execute_input": "2021-11-06T00:23:18.301124Z",
     "iopub.status.busy": "2021-11-06T00:23:18.300543Z",
     "iopub.status.idle": "2021-11-06T00:23:18.306018Z",
     "shell.execute_reply": "2021-11-06T00:23:18.306470Z"
    },
    "papermill": {
     "duration": 0.04594,
     "end_time": "2021-11-06T00:23:18.306598",
     "exception": false,
     "start_time": "2021-11-06T00:23:18.260658",
     "status": "completed"
    },
    "tags": []
   },
   "outputs": [],
   "source": [
    "#hide\n",
    "t = everydaycases.stack()"
   ]
  },
  {
   "cell_type": "code",
   "execution_count": 22,
   "id": "premier-sleeve",
   "metadata": {
    "execution": {
     "iopub.execute_input": "2021-11-06T00:23:18.381626Z",
     "iopub.status.busy": "2021-11-06T00:23:18.381003Z",
     "iopub.status.idle": "2021-11-06T00:23:18.390081Z",
     "shell.execute_reply": "2021-11-06T00:23:18.390663Z"
    },
    "papermill": {
     "duration": 0.050756,
     "end_time": "2021-11-06T00:23:18.390829",
     "exception": false,
     "start_time": "2021-11-06T00:23:18.340073",
     "status": "completed"
    },
    "tags": []
   },
   "outputs": [],
   "source": [
    "#hide\n",
    "g = t.reset_index(['Country/Region'])"
   ]
  },
  {
   "cell_type": "code",
   "execution_count": 23,
   "id": "distributed-pittsburgh",
   "metadata": {
    "execution": {
     "iopub.execute_input": "2021-11-06T00:23:18.470315Z",
     "iopub.status.busy": "2021-11-06T00:23:18.469659Z",
     "iopub.status.idle": "2021-11-06T00:23:18.471471Z",
     "shell.execute_reply": "2021-11-06T00:23:18.471943Z"
    },
    "papermill": {
     "duration": 0.044778,
     "end_time": "2021-11-06T00:23:18.472114",
     "exception": false,
     "start_time": "2021-11-06T00:23:18.427336",
     "status": "completed"
    },
    "tags": []
   },
   "outputs": [],
   "source": [
    "#hide\n",
    "g.index.name = 'date'"
   ]
  },
  {
   "cell_type": "code",
   "execution_count": 24,
   "id": "naked-donor",
   "metadata": {
    "execution": {
     "iopub.execute_input": "2021-11-06T00:23:18.557500Z",
     "iopub.status.busy": "2021-11-06T00:23:18.556705Z",
     "iopub.status.idle": "2021-11-06T00:23:18.558778Z",
     "shell.execute_reply": "2021-11-06T00:23:18.559397Z"
    },
    "papermill": {
     "duration": 0.049165,
     "end_time": "2021-11-06T00:23:18.559554",
     "exception": false,
     "start_time": "2021-11-06T00:23:18.510389",
     "status": "completed"
    },
    "tags": []
   },
   "outputs": [],
   "source": [
    "# #hide\n",
    "# g = g.reset_index(['date'])"
   ]
  },
  {
   "cell_type": "code",
   "execution_count": 25,
   "id": "incomplete-mustang",
   "metadata": {
    "execution": {
     "iopub.execute_input": "2021-11-06T00:23:18.646454Z",
     "iopub.status.busy": "2021-11-06T00:23:18.645354Z",
     "iopub.status.idle": "2021-11-06T00:23:18.649793Z",
     "shell.execute_reply": "2021-11-06T00:23:18.650367Z"
    },
    "papermill": {
     "duration": 0.047943,
     "end_time": "2021-11-06T00:23:18.650550",
     "exception": false,
     "start_time": "2021-11-06T00:23:18.602607",
     "status": "completed"
    },
    "tags": []
   },
   "outputs": [],
   "source": [
    "#hide\n",
    "# g.head()"
   ]
  },
  {
   "cell_type": "code",
   "execution_count": 26,
   "id": "specific-kruger",
   "metadata": {
    "execution": {
     "iopub.execute_input": "2021-11-06T00:23:18.738342Z",
     "iopub.status.busy": "2021-11-06T00:23:18.737578Z",
     "iopub.status.idle": "2021-11-06T00:23:18.739700Z",
     "shell.execute_reply": "2021-11-06T00:23:18.740320Z"
    },
    "papermill": {
     "duration": 0.051815,
     "end_time": "2021-11-06T00:23:18.740549",
     "exception": false,
     "start_time": "2021-11-06T00:23:18.688734",
     "status": "completed"
    },
    "tags": []
   },
   "outputs": [],
   "source": [
    "#hide\n",
    "# g.columns = ['date','country','cases']"
   ]
  },
  {
   "cell_type": "code",
   "execution_count": 27,
   "id": "tender-conversion",
   "metadata": {
    "execution": {
     "iopub.execute_input": "2021-11-06T00:23:18.821473Z",
     "iopub.status.busy": "2021-11-06T00:23:18.820876Z",
     "iopub.status.idle": "2021-11-06T00:23:18.823510Z",
     "shell.execute_reply": "2021-11-06T00:23:18.822995Z"
    },
    "papermill": {
     "duration": 0.042349,
     "end_time": "2021-11-06T00:23:18.823630",
     "exception": false,
     "start_time": "2021-11-06T00:23:18.781281",
     "status": "completed"
    },
    "tags": []
   },
   "outputs": [],
   "source": [
    "#hide\n",
    "# g['continent'] = g.country"
   ]
  },
  {
   "cell_type": "code",
   "execution_count": 28,
   "id": "substantial-wilderness",
   "metadata": {
    "execution": {
     "iopub.execute_input": "2021-11-06T00:23:18.897995Z",
     "iopub.status.busy": "2021-11-06T00:23:18.897329Z",
     "iopub.status.idle": "2021-11-06T00:23:18.899312Z",
     "shell.execute_reply": "2021-11-06T00:23:18.899761Z"
    },
    "papermill": {
     "duration": 0.041687,
     "end_time": "2021-11-06T00:23:18.899920",
     "exception": false,
     "start_time": "2021-11-06T00:23:18.858233",
     "status": "completed"
    },
    "tags": []
   },
   "outputs": [],
   "source": [
    "#hide\n",
    "# cols = list(g.columns.values)"
   ]
  },
  {
   "cell_type": "code",
   "execution_count": 29,
   "id": "solved-farming",
   "metadata": {
    "execution": {
     "iopub.execute_input": "2021-11-06T00:23:18.979991Z",
     "iopub.status.busy": "2021-11-06T00:23:18.979348Z",
     "iopub.status.idle": "2021-11-06T00:23:18.983526Z",
     "shell.execute_reply": "2021-11-06T00:23:18.982998Z"
    },
    "papermill": {
     "duration": 0.04488,
     "end_time": "2021-11-06T00:23:18.983665",
     "exception": false,
     "start_time": "2021-11-06T00:23:18.938785",
     "status": "completed"
    },
    "tags": []
   },
   "outputs": [],
   "source": [
    "#hide\n",
    "# cols.insert(0, cols.pop())"
   ]
  },
  {
   "cell_type": "code",
   "execution_count": 30,
   "id": "executed-adoption",
   "metadata": {
    "execution": {
     "iopub.execute_input": "2021-11-06T00:23:19.060743Z",
     "iopub.status.busy": "2021-11-06T00:23:19.060158Z",
     "iopub.status.idle": "2021-11-06T00:23:19.063316Z",
     "shell.execute_reply": "2021-11-06T00:23:19.062770Z"
    },
    "papermill": {
     "duration": 0.042037,
     "end_time": "2021-11-06T00:23:19.063479",
     "exception": false,
     "start_time": "2021-11-06T00:23:19.021442",
     "status": "completed"
    },
    "tags": []
   },
   "outputs": [],
   "source": [
    "#hide\n",
    "# g = g[cols]"
   ]
  },
  {
   "cell_type": "code",
   "execution_count": 31,
   "id": "subject-dublin",
   "metadata": {
    "execution": {
     "iopub.execute_input": "2021-11-06T00:23:19.144962Z",
     "iopub.status.busy": "2021-11-06T00:23:19.144150Z",
     "iopub.status.idle": "2021-11-06T00:23:19.147309Z",
     "shell.execute_reply": "2021-11-06T00:23:19.146771Z"
    },
    "papermill": {
     "duration": 0.045879,
     "end_time": "2021-11-06T00:23:19.147459",
     "exception": false,
     "start_time": "2021-11-06T00:23:19.101580",
     "status": "completed"
    },
    "tags": []
   },
   "outputs": [],
   "source": [
    "#hide\n",
    "# g['continent'] = g['continent'].map(mapping['map.continent'])"
   ]
  },
  {
   "cell_type": "code",
   "execution_count": 32,
   "id": "freelance-scout",
   "metadata": {
    "execution": {
     "iopub.execute_input": "2021-11-06T00:23:19.232966Z",
     "iopub.status.busy": "2021-11-06T00:23:19.232244Z",
     "iopub.status.idle": "2021-11-06T00:23:19.234821Z",
     "shell.execute_reply": "2021-11-06T00:23:19.235459Z"
    },
    "papermill": {
     "duration": 0.049504,
     "end_time": "2021-11-06T00:23:19.235631",
     "exception": false,
     "start_time": "2021-11-06T00:23:19.186127",
     "status": "completed"
    },
    "tags": []
   },
   "outputs": [],
   "source": [
    "#hide\n",
    "# g.head()"
   ]
  },
  {
   "cell_type": "code",
   "execution_count": 33,
   "id": "limited-engine",
   "metadata": {
    "execution": {
     "iopub.execute_input": "2021-11-06T00:23:19.312618Z",
     "iopub.status.busy": "2021-11-06T00:23:19.311912Z",
     "iopub.status.idle": "2021-11-06T00:23:19.314626Z",
     "shell.execute_reply": "2021-11-06T00:23:19.314121Z"
    },
    "papermill": {
     "duration": 0.041626,
     "end_time": "2021-11-06T00:23:19.314781",
     "exception": false,
     "start_time": "2021-11-06T00:23:19.273155",
     "status": "completed"
    },
    "tags": []
   },
   "outputs": [],
   "source": [
    "# hide\n",
    "# g['date'] = g['date'].astype('datetime64[ns]')"
   ]
  },
  {
   "cell_type": "code",
   "execution_count": 34,
   "id": "sophisticated-supervisor",
   "metadata": {
    "execution": {
     "iopub.execute_input": "2021-11-06T00:23:19.390554Z",
     "iopub.status.busy": "2021-11-06T00:23:19.390012Z",
     "iopub.status.idle": "2021-11-06T00:23:19.394179Z",
     "shell.execute_reply": "2021-11-06T00:23:19.393686Z"
    },
    "papermill": {
     "duration": 0.042675,
     "end_time": "2021-11-06T00:23:19.394314",
     "exception": false,
     "start_time": "2021-11-06T00:23:19.351639",
     "status": "completed"
    },
    "tags": []
   },
   "outputs": [],
   "source": [
    "#hide\n",
    "# g['date'] = g.date.dt.dayofyear"
   ]
  },
  {
   "cell_type": "code",
   "execution_count": 35,
   "id": "inside-dubai",
   "metadata": {
    "execution": {
     "iopub.execute_input": "2021-11-06T00:23:19.471185Z",
     "iopub.status.busy": "2021-11-06T00:23:19.470514Z",
     "iopub.status.idle": "2021-11-06T00:23:19.472860Z",
     "shell.execute_reply": "2021-11-06T00:23:19.472228Z"
    },
    "papermill": {
     "duration": 0.043398,
     "end_time": "2021-11-06T00:23:19.473030",
     "exception": false,
     "start_time": "2021-11-06T00:23:19.429632",
     "status": "completed"
    },
    "tags": []
   },
   "outputs": [],
   "source": [
    "#hide\n",
    "# g = g.rename(columns= {'continent':'group','country':'name','cases':'value'})"
   ]
  },
  {
   "cell_type": "code",
   "execution_count": 36,
   "id": "fleet-motorcycle",
   "metadata": {
    "execution": {
     "iopub.execute_input": "2021-11-06T00:23:19.551119Z",
     "iopub.status.busy": "2021-11-06T00:23:19.550460Z",
     "iopub.status.idle": "2021-11-06T00:23:19.554747Z",
     "shell.execute_reply": "2021-11-06T00:23:19.554184Z"
    },
    "papermill": {
     "duration": 0.044676,
     "end_time": "2021-11-06T00:23:19.554864",
     "exception": false,
     "start_time": "2021-11-06T00:23:19.510188",
     "status": "completed"
    },
    "tags": []
   },
   "outputs": [],
   "source": [
    "#hide\n",
    "# cols = ['name','group','day','value']"
   ]
  },
  {
   "cell_type": "code",
   "execution_count": 37,
   "id": "continued-sleeping",
   "metadata": {
    "execution": {
     "iopub.execute_input": "2021-11-06T00:23:19.633666Z",
     "iopub.status.busy": "2021-11-06T00:23:19.633016Z",
     "iopub.status.idle": "2021-11-06T00:23:19.635229Z",
     "shell.execute_reply": "2021-11-06T00:23:19.634635Z"
    },
    "papermill": {
     "duration": 0.043167,
     "end_time": "2021-11-06T00:23:19.635355",
     "exception": false,
     "start_time": "2021-11-06T00:23:19.592188",
     "status": "completed"
    },
    "tags": []
   },
   "outputs": [],
   "source": [
    "#hide\n",
    "# g.rename(columns= {'date':'day'},inplace = True)"
   ]
  },
  {
   "cell_type": "code",
   "execution_count": 38,
   "id": "major-fight",
   "metadata": {
    "execution": {
     "iopub.execute_input": "2021-11-06T00:23:19.719292Z",
     "iopub.status.busy": "2021-11-06T00:23:19.718665Z",
     "iopub.status.idle": "2021-11-06T00:23:19.721275Z",
     "shell.execute_reply": "2021-11-06T00:23:19.720383Z"
    },
    "papermill": {
     "duration": 0.04784,
     "end_time": "2021-11-06T00:23:19.721430",
     "exception": false,
     "start_time": "2021-11-06T00:23:19.673590",
     "status": "completed"
    },
    "tags": []
   },
   "outputs": [],
   "source": [
    "#hide\n",
    "# g = g[cols]"
   ]
  },
  {
   "cell_type": "code",
   "execution_count": 39,
   "id": "structured-mobile",
   "metadata": {
    "execution": {
     "iopub.execute_input": "2021-11-06T00:23:19.810604Z",
     "iopub.status.busy": "2021-11-06T00:23:19.809919Z",
     "iopub.status.idle": "2021-11-06T00:23:19.814376Z",
     "shell.execute_reply": "2021-11-06T00:23:19.813750Z"
    },
    "papermill": {
     "duration": 0.050948,
     "end_time": "2021-11-06T00:23:19.814540",
     "exception": false,
     "start_time": "2021-11-06T00:23:19.763592",
     "status": "completed"
    },
    "tags": []
   },
   "outputs": [],
   "source": [
    "# #hide\n",
    "# g = g[g.group.notna()]"
   ]
  },
  {
   "cell_type": "code",
   "execution_count": 40,
   "id": "determined-closing",
   "metadata": {
    "execution": {
     "iopub.execute_input": "2021-11-06T00:23:19.903178Z",
     "iopub.status.busy": "2021-11-06T00:23:19.902518Z",
     "iopub.status.idle": "2021-11-06T00:23:19.905213Z",
     "shell.execute_reply": "2021-11-06T00:23:19.904689Z"
    },
    "papermill": {
     "duration": 0.046963,
     "end_time": "2021-11-06T00:23:19.905338",
     "exception": false,
     "start_time": "2021-11-06T00:23:19.858375",
     "status": "completed"
    },
    "tags": []
   },
   "outputs": [],
   "source": [
    "# #hide\n",
    "# colors = dict(zip(\n",
    "#     [\"Oceania\", \"Europe\", \"Asia\", \"South America\", \"Middle East\", \"North America\", \"Africa\"],\n",
    "#     [\"#adb0ff\", \"#ffb3ff\", \"#90d595\", \"#e48381\", \"#aafbff\", \"#f7bb5f\", \"#eafb50\"]\n",
    "# ))\n",
    "# group_lk = g.set_index('name')['group'].to_dict()"
   ]
  },
  {
   "cell_type": "code",
   "execution_count": null,
   "id": "gross-drinking",
   "metadata": {
    "papermill": {
     "duration": 0.038079,
     "end_time": "2021-11-06T00:23:19.980878",
     "exception": false,
     "start_time": "2021-11-06T00:23:19.942799",
     "status": "completed"
    },
    "tags": []
   },
   "outputs": [],
   "source": []
  },
  {
   "cell_type": "code",
   "execution_count": 41,
   "id": "subject-macintosh",
   "metadata": {
    "execution": {
     "iopub.execute_input": "2021-11-06T00:23:20.054658Z",
     "iopub.status.busy": "2021-11-06T00:23:20.053962Z",
     "iopub.status.idle": "2021-11-06T00:23:20.058537Z",
     "shell.execute_reply": "2021-11-06T00:23:20.059082Z"
    },
    "papermill": {
     "duration": 0.043617,
     "end_time": "2021-11-06T00:23:20.059287",
     "exception": false,
     "start_time": "2021-11-06T00:23:20.015670",
     "status": "completed"
    },
    "tags": []
   },
   "outputs": [],
   "source": [
    "# #hide\n",
    "# fig, ax = plt.subplots(figsize=(15, 8))\n",
    "\n",
    "# def draw_barchart(current_day):\n",
    "#     dff = g[g['day'].eq(current_day)].sort_values(by='value', ascending=True).tail(10)\n",
    "#     ax.clear()\n",
    "#     ax.barh(dff['name'], dff['value'], color=[colors[group_lk[x]] for x in dff['name']])\n",
    "#     dx = dff['value'].max() / 200\n",
    "    \n",
    "#     for i, (value, name) in enumerate(zip(dff['value'], dff['name'])):\n",
    "#         ax.text(value-dx, i,     name,           size=14, weight=600, ha='right', va='bottom')\n",
    "#         ax.text(value-dx, i-.25, group_lk[name], size=10, color='#444444', ha='right', va='baseline')\n",
    "#         ax.text(value+dx, i,     f'{value:,.0f}',  size=14, ha='left',  va='center')\n",
    "#     ax.text(1, 0.4, current_day, transform=ax.transAxes, color='#777777', size=46, ha='right', weight=800)\n",
    "#     ax.text(0, 1.06, 'Population (thousands)', transform=ax.transAxes, size=12, color='#777777')\n",
    "#     ax.xaxis.set_major_formatter(ticker.StrMethodFormatter('{x:,.0f}'))\n",
    "#     ax.xaxis.set_ticks_position('top')\n",
    "#     ax.tick_params(axis='x', colors='#777777', labelsize=12)\n",
    "#     ax.set_yticks([])\n",
    "#     ax.margins(0, 0.01)\n",
    "#     ax.grid(which='major', axis='x', linestyle='-')\n",
    "#     ax.set_axisbelow(True)\n",
    "    \n",
    "#     ax.text(0, 1.15, 'Coronavirus',\n",
    "#             transform=ax.transAxes, size=24, weight=600, ha='left', va='top')\n",
    "# #     ax.text(1, 0, 'by @pratapvardhan; credit @jburnmurdoch', transform=ax.transAxes, color='#777777', ha='right',\n",
    "# #             bbox=dict(facecolor='white', alpha=0.8, edgecolor='white'))\n",
    "#     plt.box(False)"
   ]
  },
  {
   "cell_type": "code",
   "execution_count": 42,
   "id": "sexual-wages",
   "metadata": {
    "execution": {
     "iopub.execute_input": "2021-11-06T00:23:20.138980Z",
     "iopub.status.busy": "2021-11-06T00:23:20.138311Z",
     "iopub.status.idle": "2021-11-06T00:23:20.140787Z",
     "shell.execute_reply": "2021-11-06T00:23:20.140208Z"
    },
    "papermill": {
     "duration": 0.044438,
     "end_time": "2021-11-06T00:23:20.140942",
     "exception": false,
     "start_time": "2021-11-06T00:23:20.096504",
     "status": "completed"
    },
    "tags": []
   },
   "outputs": [],
   "source": [
    "# #hide_input\n",
    "# fig, ax = plt.subplots(figsize=(15, 8))\n",
    "# animator = animation.FuncAnimation(fig, draw_barchart, frames=range(g.day.values.min(), g.day.values.max()))\n",
    "# HTML(animator.to_jshtml())\n",
    "# # or use animator.to_html5_video() or animator.save() "
   ]
  },
  {
   "cell_type": "code",
   "execution_count": null,
   "id": "australian-container",
   "metadata": {
    "papermill": {
     "duration": 0.039355,
     "end_time": "2021-11-06T00:23:20.221977",
     "exception": false,
     "start_time": "2021-11-06T00:23:20.182622",
     "status": "completed"
    },
    "tags": []
   },
   "outputs": [],
   "source": []
  },
  {
   "cell_type": "code",
   "execution_count": null,
   "id": "mediterranean-pontiac",
   "metadata": {
    "papermill": {
     "duration": 0.042505,
     "end_time": "2021-11-06T00:23:20.306332",
     "exception": false,
     "start_time": "2021-11-06T00:23:20.263827",
     "status": "completed"
    },
    "tags": []
   },
   "outputs": [],
   "source": []
  },
  {
   "cell_type": "code",
   "execution_count": null,
   "id": "aging-legislature",
   "metadata": {
    "papermill": {
     "duration": 0.039392,
     "end_time": "2021-11-06T00:23:20.386867",
     "exception": false,
     "start_time": "2021-11-06T00:23:20.347475",
     "status": "completed"
    },
    "tags": []
   },
   "outputs": [],
   "source": []
  }
 ],
 "metadata": {
  "kernelspec": {
   "display_name": "Python 3",
   "language": "python",
   "name": "python3"
  },
  "language_info": {
   "codemirror_mode": {
    "name": "ipython",
    "version": 3
   },
   "file_extension": ".py",
   "mimetype": "text/x-python",
   "name": "python",
   "nbconvert_exporter": "python",
   "pygments_lexer": "ipython3",
   "version": "3.6.15"
  },
  "papermill": {
   "duration": 6.836624,
   "end_time": "2021-11-06T00:23:20.731982",
   "environment_variables": {},
   "exception": null,
   "input_path": "2020-03-21-covid19exp.ipynb",
   "output_path": "2020-03-21-covid19exp.ipynb",
   "parameters": {},
   "start_time": "2021-11-06T00:23:13.895358",
   "version": "2.0.0"
  }
 },
 "nbformat": 4,
 "nbformat_minor": 5
}