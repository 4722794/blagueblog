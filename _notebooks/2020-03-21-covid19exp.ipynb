{
 "cells": [
  {
   "cell_type": "markdown",
   "metadata": {
    "papermill": {
     "duration": 0.03711,
     "end_time": "2020-12-29T12:09:10.576980",
     "exception": false,
     "start_time": "2020-12-29T12:09:10.539870",
     "status": "completed"
    },
    "tags": []
   },
   "source": [
    "# COVID-19 Case Race\n",
    "> A race chart to see rising cases around the world\n",
    "\n",
    "- author: Hargun Oberoi\n",
    "- image: images/covid-overview.png\n",
    "- hide: false\n",
    "- badges: false"
   ]
  },
  {
   "cell_type": "code",
   "execution_count": 1,
   "metadata": {
    "execution": {
     "iopub.execute_input": "2020-12-29T12:09:10.652577Z",
     "iopub.status.busy": "2020-12-29T12:09:10.651945Z",
     "iopub.status.idle": "2020-12-29T12:09:10.990317Z",
     "shell.execute_reply": "2020-12-29T12:09:10.989590Z"
    },
    "papermill": {
     "duration": 0.382694,
     "end_time": "2020-12-29T12:09:10.990514",
     "exception": false,
     "start_time": "2020-12-29T12:09:10.607820",
     "status": "completed"
    },
    "tags": []
   },
   "outputs": [],
   "source": [
    "#hide\n",
    "import numpy as np\n",
    "import pandas as pd\n",
    "from jinja2 import Template\n",
    "from IPython.display import HTML"
   ]
  },
  {
   "cell_type": "code",
   "execution_count": 2,
   "metadata": {
    "execution": {
     "iopub.execute_input": "2020-12-29T12:09:11.056104Z",
     "iopub.status.busy": "2020-12-29T12:09:11.055503Z",
     "iopub.status.idle": "2020-12-29T12:09:11.057914Z",
     "shell.execute_reply": "2020-12-29T12:09:11.058509Z"
    },
    "papermill": {
     "duration": 0.038271,
     "end_time": "2020-12-29T12:09:11.058653",
     "exception": false,
     "start_time": "2020-12-29T12:09:11.020382",
     "status": "completed"
    },
    "tags": []
   },
   "outputs": [],
   "source": [
    "#hide\n",
    "\n",
    "# FETCH\n",
    "base_url = 'https://raw.githubusercontent.com/pratapvardhan/notebooks/master/covid19/'\n",
    "paths = {\n",
    "    'mapping': base_url + 'mapping_countries.csv',\n",
    "    'overview': base_url + 'overview.tpl'\n",
    "}"
   ]
  },
  {
   "cell_type": "code",
   "execution_count": 3,
   "metadata": {
    "execution": {
     "iopub.execute_input": "2020-12-29T12:09:11.126340Z",
     "iopub.status.busy": "2020-12-29T12:09:11.125768Z",
     "iopub.status.idle": "2020-12-29T12:09:11.128668Z",
     "shell.execute_reply": "2020-12-29T12:09:11.128136Z"
    },
    "papermill": {
     "duration": 0.041497,
     "end_time": "2020-12-29T12:09:11.128779",
     "exception": false,
     "start_time": "2020-12-29T12:09:11.087282",
     "status": "completed"
    },
    "tags": []
   },
   "outputs": [
    {
     "data": {
      "text/plain": [
       "'https://raw.githubusercontent.com/pratapvardhan/notebooks/master/covid19/mapping_countries.csv'"
      ]
     },
     "execution_count": 3,
     "metadata": {},
     "output_type": "execute_result"
    }
   ],
   "source": [
    "#hide\n",
    "paths['mapping']"
   ]
  },
  {
   "cell_type": "code",
   "execution_count": 4,
   "metadata": {
    "execution": {
     "iopub.execute_input": "2020-12-29T12:09:11.193000Z",
     "iopub.status.busy": "2020-12-29T12:09:11.192407Z",
     "iopub.status.idle": "2020-12-29T12:09:11.194786Z",
     "shell.execute_reply": "2020-12-29T12:09:11.194349Z"
    },
    "papermill": {
     "duration": 0.037314,
     "end_time": "2020-12-29T12:09:11.194902",
     "exception": false,
     "start_time": "2020-12-29T12:09:11.157588",
     "status": "completed"
    },
    "tags": []
   },
   "outputs": [],
   "source": [
    "#hide\n",
    "def get_mappings(url):\n",
    "    df = pd.read_csv(url)\n",
    "    return {\n",
    "        'df': df,\n",
    "        'replace.country': dict(df.dropna(subset=['Name']).set_index('Country')['Name']),\n",
    "        'map.continent': dict(df.set_index('Name')['Continent'])\n",
    "    }"
   ]
  },
  {
   "cell_type": "code",
   "execution_count": 5,
   "metadata": {
    "execution": {
     "iopub.execute_input": "2020-12-29T12:09:11.257024Z",
     "iopub.status.busy": "2020-12-29T12:09:11.256448Z",
     "iopub.status.idle": "2020-12-29T12:09:11.311192Z",
     "shell.execute_reply": "2020-12-29T12:09:11.311652Z"
    },
    "papermill": {
     "duration": 0.08834,
     "end_time": "2020-12-29T12:09:11.311791",
     "exception": false,
     "start_time": "2020-12-29T12:09:11.223451",
     "status": "completed"
    },
    "tags": []
   },
   "outputs": [],
   "source": [
    "#hide\n",
    "mapping = get_mappings(paths['mapping'])"
   ]
  },
  {
   "cell_type": "code",
   "execution_count": 6,
   "metadata": {
    "execution": {
     "iopub.execute_input": "2020-12-29T12:09:11.385772Z",
     "iopub.status.busy": "2020-12-29T12:09:11.385177Z",
     "iopub.status.idle": "2020-12-29T12:09:11.387436Z",
     "shell.execute_reply": "2020-12-29T12:09:11.386863Z"
    },
    "papermill": {
     "duration": 0.037335,
     "end_time": "2020-12-29T12:09:11.387553",
     "exception": false,
     "start_time": "2020-12-29T12:09:11.350218",
     "status": "completed"
    },
    "tags": []
   },
   "outputs": [],
   "source": [
    "#hide\n",
    "def get_template(path):\n",
    "    from urllib.parse import urlparse\n",
    "    if bool(urlparse(path).netloc):\n",
    "        from urllib.request import urlopen\n",
    "        return urlopen(path).read().decode('utf8')\n",
    "    return open(path).read()"
   ]
  },
  {
   "cell_type": "code",
   "execution_count": 7,
   "metadata": {
    "execution": {
     "iopub.execute_input": "2020-12-29T12:09:11.452253Z",
     "iopub.status.busy": "2020-12-29T12:09:11.451654Z",
     "iopub.status.idle": "2020-12-29T12:09:11.453920Z",
     "shell.execute_reply": "2020-12-29T12:09:11.453319Z"
    },
    "papermill": {
     "duration": 0.037318,
     "end_time": "2020-12-29T12:09:11.454049",
     "exception": false,
     "start_time": "2020-12-29T12:09:11.416731",
     "status": "completed"
    },
    "tags": []
   },
   "outputs": [],
   "source": [
    "#hide\n",
    "def get_frame(name):\n",
    "    url = (\n",
    "        'https://raw.githubusercontent.com/CSSEGISandData/COVID-19/master/csse_covid_19_data/'\n",
    "        f'csse_covid_19_time_series/time_series_covid19_{name}_global.csv')\n",
    "    df = pd.read_csv(url)\n",
    "    # rename countries\n",
    "    df['Country/Region'] = df['Country/Region'].replace(mapping['replace.country'])\n",
    "    return df"
   ]
  },
  {
   "cell_type": "code",
   "execution_count": 8,
   "metadata": {
    "execution": {
     "iopub.execute_input": "2020-12-29T12:09:11.521290Z",
     "iopub.status.busy": "2020-12-29T12:09:11.520682Z",
     "iopub.status.idle": "2020-12-29T12:09:11.522402Z",
     "shell.execute_reply": "2020-12-29T12:09:11.522957Z"
    },
    "papermill": {
     "duration": 0.039061,
     "end_time": "2020-12-29T12:09:11.523106",
     "exception": false,
     "start_time": "2020-12-29T12:09:11.484045",
     "status": "completed"
    },
    "tags": []
   },
   "outputs": [],
   "source": [
    "#hide\n",
    "def get_dates(df):\n",
    "    dt_cols = df.columns[~df.columns.isin(['Province/State', 'Country/Region', 'Lat', 'Long'])]\n",
    "    LAST_DATE_I = -1\n",
    "    # sometimes last column may be empty, then go backwards\n",
    "    for i in range(-1, -len(dt_cols), -1):\n",
    "        if not df[dt_cols[i]].fillna(0).eq(0).all():\n",
    "            LAST_DATE_I = i\n",
    "            break\n",
    "    return LAST_DATE_I, dt_cols"
   ]
  },
  {
   "cell_type": "code",
   "execution_count": 9,
   "metadata": {
    "execution": {
     "iopub.execute_input": "2020-12-29T12:09:11.590244Z",
     "iopub.status.busy": "2020-12-29T12:09:11.588834Z",
     "iopub.status.idle": "2020-12-29T12:09:12.029918Z",
     "shell.execute_reply": "2020-12-29T12:09:12.028784Z"
    },
    "papermill": {
     "duration": 0.476321,
     "end_time": "2020-12-29T12:09:12.030065",
     "exception": false,
     "start_time": "2020-12-29T12:09:11.553744",
     "status": "completed"
    },
    "tags": []
   },
   "outputs": [],
   "source": [
    "#hide\n",
    "COL_REGION = 'Country/Region'\n",
    "# Confirmed, Recovered, Deaths\n",
    "df = get_frame('confirmed')\n",
    "# dft_: timeseries, dfc_: today country agg\n",
    "dft_cases = df\n",
    "dft_deaths = get_frame('deaths')\n",
    "dft_recovered = get_frame('recovered')\n",
    "LAST_DATE_I, dt_cols = get_dates(df)"
   ]
  },
  {
   "cell_type": "code",
   "execution_count": 10,
   "metadata": {
    "execution": {
     "iopub.execute_input": "2020-12-29T12:09:12.097150Z",
     "iopub.status.busy": "2020-12-29T12:09:12.096544Z",
     "iopub.status.idle": "2020-12-29T12:09:12.098278Z",
     "shell.execute_reply": "2020-12-29T12:09:12.098783Z"
    },
    "papermill": {
     "duration": 0.038065,
     "end_time": "2020-12-29T12:09:12.098931",
     "exception": false,
     "start_time": "2020-12-29T12:09:12.060866",
     "status": "completed"
    },
    "tags": []
   },
   "outputs": [],
   "source": [
    "#hide\n",
    "LAST_DATE_I, dt_cols = get_dates(df)\n",
    "dt_today =dt_cols[LAST_DATE_I]\n",
    "# dt_5day = dt_cols[LAST_DATE_I - 5]\n",
    "dt_yday = dt_cols[LAST_DATE_I - 1]"
   ]
  },
  {
   "cell_type": "code",
   "execution_count": 11,
   "metadata": {
    "execution": {
     "iopub.execute_input": "2020-12-29T12:09:12.167842Z",
     "iopub.status.busy": "2020-12-29T12:09:12.167112Z",
     "iopub.status.idle": "2020-12-29T12:09:12.175412Z",
     "shell.execute_reply": "2020-12-29T12:09:12.174931Z"
    },
    "papermill": {
     "duration": 0.046337,
     "end_time": "2020-12-29T12:09:12.175543",
     "exception": false,
     "start_time": "2020-12-29T12:09:12.129206",
     "status": "completed"
    },
    "tags": []
   },
   "outputs": [],
   "source": [
    "#hide\n",
    "dfc_cases = dft_cases.groupby(COL_REGION)[dt_today].sum()\n",
    "dfc_deaths = dft_deaths.groupby(COL_REGION)[dt_today].sum()\n",
    "# dfp_cases = dft_cases.groupby(COL_REGION)[dt_5day].sum()\n",
    "# dfp_deaths = dft_deaths.groupby(COL_REGION)[dt_5day].sum()\n",
    "dfp_cases = dft_cases.groupby(COL_REGION)[dt_yday].sum()\n",
    "dfp_deaths = dft_deaths.groupby(COL_REGION)[dt_yday].sum()"
   ]
  },
  {
   "cell_type": "code",
   "execution_count": 12,
   "metadata": {
    "execution": {
     "iopub.execute_input": "2020-12-29T12:09:12.243996Z",
     "iopub.status.busy": "2020-12-29T12:09:12.242929Z",
     "iopub.status.idle": "2020-12-29T12:09:12.248053Z",
     "shell.execute_reply": "2020-12-29T12:09:12.247526Z"
    },
    "papermill": {
     "duration": 0.041651,
     "end_time": "2020-12-29T12:09:12.248189",
     "exception": false,
     "start_time": "2020-12-29T12:09:12.206538",
     "status": "completed"
    },
    "tags": []
   },
   "outputs": [],
   "source": [
    "#hide\n",
    "df_table = (pd.DataFrame(dict(Cases = dfc_cases, Deaths = dfc_deaths, PCases = dfp_cases, PDeaths = dfp_deaths))\n",
    "            .sort_values(by = ['Cases','Deaths'], ascending = [False, False])\n",
    "            .reset_index())"
   ]
  },
  {
   "cell_type": "code",
   "execution_count": 13,
   "metadata": {
    "execution": {
     "iopub.execute_input": "2020-12-29T12:09:12.317272Z",
     "iopub.status.busy": "2020-12-29T12:09:12.316676Z",
     "iopub.status.idle": "2020-12-29T12:09:12.343113Z",
     "shell.execute_reply": "2020-12-29T12:09:12.343595Z"
    },
    "papermill": {
     "duration": 0.065535,
     "end_time": "2020-12-29T12:09:12.343752",
     "exception": false,
     "start_time": "2020-12-29T12:09:12.278217",
     "status": "completed"
    },
    "tags": []
   },
   "outputs": [
    {
     "data": {
      "text/html": [
       "<div>\n",
       "<style scoped>\n",
       "    .dataframe tbody tr th:only-of-type {\n",
       "        vertical-align: middle;\n",
       "    }\n",
       "\n",
       "    .dataframe tbody tr th {\n",
       "        vertical-align: top;\n",
       "    }\n",
       "\n",
       "    .dataframe thead th {\n",
       "        text-align: right;\n",
       "    }\n",
       "</style>\n",
       "<table border=\"1\" class=\"dataframe\">\n",
       "  <thead>\n",
       "    <tr style=\"text-align: right;\">\n",
       "      <th></th>\n",
       "      <th>Country/Region</th>\n",
       "      <th>Cases</th>\n",
       "      <th>Deaths</th>\n",
       "      <th>PCases</th>\n",
       "      <th>PDeaths</th>\n",
       "      <th>Cases (+)</th>\n",
       "      <th>Deaths (+)</th>\n",
       "      <th>Fatality Rate</th>\n",
       "      <th>Continent</th>\n",
       "    </tr>\n",
       "  </thead>\n",
       "  <tbody>\n",
       "    <tr>\n",
       "      <th>0</th>\n",
       "      <td>US</td>\n",
       "      <td>19301543</td>\n",
       "      <td>334836</td>\n",
       "      <td>19132726</td>\n",
       "      <td>333118</td>\n",
       "      <td>168817</td>\n",
       "      <td>1718</td>\n",
       "      <td>1.73</td>\n",
       "      <td>North America</td>\n",
       "    </tr>\n",
       "    <tr>\n",
       "      <th>1</th>\n",
       "      <td>India</td>\n",
       "      <td>10224303</td>\n",
       "      <td>148153</td>\n",
       "      <td>10207871</td>\n",
       "      <td>147901</td>\n",
       "      <td>16432</td>\n",
       "      <td>252</td>\n",
       "      <td>1.45</td>\n",
       "      <td>Asia</td>\n",
       "    </tr>\n",
       "    <tr>\n",
       "      <th>2</th>\n",
       "      <td>Brazil</td>\n",
       "      <td>7504833</td>\n",
       "      <td>191570</td>\n",
       "      <td>7484285</td>\n",
       "      <td>191139</td>\n",
       "      <td>20548</td>\n",
       "      <td>431</td>\n",
       "      <td>2.55</td>\n",
       "      <td>South America</td>\n",
       "    </tr>\n",
       "    <tr>\n",
       "      <th>3</th>\n",
       "      <td>Russia</td>\n",
       "      <td>3047335</td>\n",
       "      <td>54559</td>\n",
       "      <td>3019972</td>\n",
       "      <td>54080</td>\n",
       "      <td>27363</td>\n",
       "      <td>479</td>\n",
       "      <td>1.79</td>\n",
       "      <td>Europe</td>\n",
       "    </tr>\n",
       "    <tr>\n",
       "      <th>4</th>\n",
       "      <td>France</td>\n",
       "      <td>2619616</td>\n",
       "      <td>63235</td>\n",
       "      <td>2616510</td>\n",
       "      <td>62867</td>\n",
       "      <td>3106</td>\n",
       "      <td>368</td>\n",
       "      <td>2.41</td>\n",
       "      <td>Europe</td>\n",
       "    </tr>\n",
       "  </tbody>\n",
       "</table>\n",
       "</div>"
      ],
      "text/plain": [
       "  Country/Region     Cases  Deaths    PCases  PDeaths  Cases (+)  Deaths (+)  \\\n",
       "0             US  19301543  334836  19132726   333118     168817        1718   \n",
       "1          India  10224303  148153  10207871   147901      16432         252   \n",
       "2         Brazil   7504833  191570   7484285   191139      20548         431   \n",
       "3         Russia   3047335   54559   3019972    54080      27363         479   \n",
       "4         France   2619616   63235   2616510    62867       3106         368   \n",
       "\n",
       "   Fatality Rate      Continent  \n",
       "0           1.73  North America  \n",
       "1           1.45           Asia  \n",
       "2           2.55  South America  \n",
       "3           1.79         Europe  \n",
       "4           2.41         Europe  "
      ]
     },
     "execution_count": 13,
     "metadata": {},
     "output_type": "execute_result"
    }
   ],
   "source": [
    "#hide\n",
    "for c in 'Cases, Deaths'.split(', '):\n",
    "    df_table[f'{c} (+)'] = (df_table[c] - df_table[f'P{c}']).clip(0)\n",
    "    #Clip ça veut dire, les chiffres negatif sont interdit\n",
    "df_table['Fatality Rate'] = (100* df_table['Deaths']/ df_table['Cases']).round(2)\n",
    "df_table['Continent'] = df_table['Country/Region'].map(mapping['map.continent'])\n",
    "df_table.head(5)"
   ]
  },
  {
   "cell_type": "code",
   "execution_count": 14,
   "metadata": {
    "execution": {
     "iopub.execute_input": "2020-12-29T12:09:12.417875Z",
     "iopub.status.busy": "2020-12-29T12:09:12.417018Z",
     "iopub.status.idle": "2020-12-29T12:09:12.420155Z",
     "shell.execute_reply": "2020-12-29T12:09:12.419642Z"
    },
    "papermill": {
     "duration": 0.045065,
     "end_time": "2020-12-29T12:09:12.420290",
     "exception": false,
     "start_time": "2020-12-29T12:09:12.375225",
     "status": "completed"
    },
    "tags": []
   },
   "outputs": [],
   "source": [
    "#hide\n",
    "#delete problematic countries from table\n",
    "df_table = df_table[~df_table['Country/Region'].isin(['Cape Verde', 'Cruise Ship', 'Kosovo'])]"
   ]
  },
  {
   "cell_type": "code",
   "execution_count": 15,
   "metadata": {
    "execution": {
     "iopub.execute_input": "2020-12-29T12:09:12.489038Z",
     "iopub.status.busy": "2020-12-29T12:09:12.488437Z",
     "iopub.status.idle": "2020-12-29T12:09:12.508374Z",
     "shell.execute_reply": "2020-12-29T12:09:12.507780Z"
    },
    "papermill": {
     "duration": 0.057804,
     "end_time": "2020-12-29T12:09:12.508521",
     "exception": false,
     "start_time": "2020-12-29T12:09:12.450717",
     "status": "completed"
    },
    "tags": []
   },
   "outputs": [
    {
     "data": {
      "text/html": [
       "<div>\n",
       "<style scoped>\n",
       "    .dataframe tbody tr th:only-of-type {\n",
       "        vertical-align: middle;\n",
       "    }\n",
       "\n",
       "    .dataframe tbody tr th {\n",
       "        vertical-align: top;\n",
       "    }\n",
       "\n",
       "    .dataframe thead th {\n",
       "        text-align: right;\n",
       "    }\n",
       "</style>\n",
       "<table border=\"1\" class=\"dataframe\">\n",
       "  <thead>\n",
       "    <tr style=\"text-align: right;\">\n",
       "      <th></th>\n",
       "      <th>Country/Region</th>\n",
       "      <th>Cases</th>\n",
       "      <th>Deaths</th>\n",
       "      <th>PCases</th>\n",
       "      <th>PDeaths</th>\n",
       "      <th>Cases (+)</th>\n",
       "      <th>Deaths (+)</th>\n",
       "      <th>Fatality Rate</th>\n",
       "      <th>Continent</th>\n",
       "    </tr>\n",
       "  </thead>\n",
       "  <tbody>\n",
       "    <tr>\n",
       "      <th>0</th>\n",
       "      <td>US</td>\n",
       "      <td>19301543</td>\n",
       "      <td>334836</td>\n",
       "      <td>19132726</td>\n",
       "      <td>333118</td>\n",
       "      <td>168817</td>\n",
       "      <td>1718</td>\n",
       "      <td>1.7</td>\n",
       "      <td>North America</td>\n",
       "    </tr>\n",
       "    <tr>\n",
       "      <th>1</th>\n",
       "      <td>India</td>\n",
       "      <td>10224303</td>\n",
       "      <td>148153</td>\n",
       "      <td>10207871</td>\n",
       "      <td>147901</td>\n",
       "      <td>16432</td>\n",
       "      <td>252</td>\n",
       "      <td>1.4</td>\n",
       "      <td>Asia</td>\n",
       "    </tr>\n",
       "    <tr>\n",
       "      <th>2</th>\n",
       "      <td>Brazil</td>\n",
       "      <td>7504833</td>\n",
       "      <td>191570</td>\n",
       "      <td>7484285</td>\n",
       "      <td>191139</td>\n",
       "      <td>20548</td>\n",
       "      <td>431</td>\n",
       "      <td>2.6</td>\n",
       "      <td>South America</td>\n",
       "    </tr>\n",
       "    <tr>\n",
       "      <th>3</th>\n",
       "      <td>Russia</td>\n",
       "      <td>3047335</td>\n",
       "      <td>54559</td>\n",
       "      <td>3019972</td>\n",
       "      <td>54080</td>\n",
       "      <td>27363</td>\n",
       "      <td>479</td>\n",
       "      <td>1.8</td>\n",
       "      <td>Europe</td>\n",
       "    </tr>\n",
       "    <tr>\n",
       "      <th>4</th>\n",
       "      <td>France</td>\n",
       "      <td>2619616</td>\n",
       "      <td>63235</td>\n",
       "      <td>2616510</td>\n",
       "      <td>62867</td>\n",
       "      <td>3106</td>\n",
       "      <td>368</td>\n",
       "      <td>2.4</td>\n",
       "      <td>Europe</td>\n",
       "    </tr>\n",
       "  </tbody>\n",
       "</table>\n",
       "</div>"
      ],
      "text/plain": [
       "  Country/Region     Cases  Deaths    PCases  PDeaths  Cases (+)  Deaths (+)  \\\n",
       "0             US  19301543  334836  19132726   333118     168817        1718   \n",
       "1          India  10224303  148153  10207871   147901      16432         252   \n",
       "2         Brazil   7504833  191570   7484285   191139      20548         431   \n",
       "3         Russia   3047335   54559   3019972    54080      27363         479   \n",
       "4         France   2619616   63235   2616510    62867       3106         368   \n",
       "\n",
       "   Fatality Rate      Continent  \n",
       "0            1.7  North America  \n",
       "1            1.4           Asia  \n",
       "2            2.6  South America  \n",
       "3            1.8         Europe  \n",
       "4            2.4         Europe  "
      ]
     },
     "execution_count": 15,
     "metadata": {},
     "output_type": "execute_result"
    }
   ],
   "source": [
    "#hide\n",
    "df_table = (pd.DataFrame(dict(Cases=dfc_cases, Deaths=dfc_deaths, PCases=dfp_cases, PDeaths=dfp_deaths))\n",
    "             .sort_values(by=['Cases', 'Deaths'], ascending=[False, False])\n",
    "             .reset_index())\n",
    "df_table.rename(columns={'index': 'Country/Region'}, inplace=True)\n",
    "for c in 'Cases, Deaths'.split(', '):\n",
    "    df_table[f'{c} (+)'] = (df_table[c] - df_table[f'P{c}']).clip(0)  # DATA BUG\n",
    "df_table['Fatality Rate'] = (100 * df_table['Deaths'] / df_table['Cases']).round(1)\n",
    "df_table['Continent'] = df_table['Country/Region'].map(mapping['map.continent'])\n",
    "df_table.head(5)"
   ]
  },
  {
   "cell_type": "code",
   "execution_count": 16,
   "metadata": {
    "execution": {
     "iopub.execute_input": "2020-12-29T12:09:12.584428Z",
     "iopub.status.busy": "2020-12-29T12:09:12.583818Z",
     "iopub.status.idle": "2020-12-29T12:09:12.586052Z",
     "shell.execute_reply": "2020-12-29T12:09:12.585442Z"
    },
    "papermill": {
     "duration": 0.044363,
     "end_time": "2020-12-29T12:09:12.586184",
     "exception": false,
     "start_time": "2020-12-29T12:09:12.541821",
     "status": "completed"
    },
    "tags": []
   },
   "outputs": [],
   "source": [
    "#hide\n",
    "#delete problematic countries from table\n",
    "df_table = df_table[~df_table['Country/Region'].isin(['Cape Verde', 'Cruise Ship', 'Kosovo'])]"
   ]
  },
  {
   "cell_type": "code",
   "execution_count": 17,
   "metadata": {
    "execution": {
     "iopub.execute_input": "2020-12-29T12:09:12.658073Z",
     "iopub.status.busy": "2020-12-29T12:09:12.657444Z",
     "iopub.status.idle": "2020-12-29T12:09:12.671917Z",
     "shell.execute_reply": "2020-12-29T12:09:12.671441Z"
    },
    "papermill": {
     "duration": 0.054615,
     "end_time": "2020-12-29T12:09:12.672046",
     "exception": false,
     "start_time": "2020-12-29T12:09:12.617431",
     "status": "completed"
    },
    "tags": []
   },
   "outputs": [],
   "source": [
    "#hide\n",
    "metrics = [df_table.columns[index] for index in [1,2,5,6]]\n",
    "# s_china = df_table[df_table['Country/Region'].eq('China')][metrics].sum().add_prefix('China ')\n",
    "s_us = df_table[df_table['Country/Region'].eq('US')][metrics].sum().add_prefix('US ')\n",
    "s_eu = df_table[df_table['Continent'].eq('Europe')][metrics].sum().add_prefix('EU ')\n",
    "s_ind = df_table[df_table['Country/Region'].eq('India')][metrics].sum().add_prefix('India ')\n",
    "summary = {'updated': pd.to_datetime(dt_today), 'since': pd.to_datetime(dt_yday)}\n",
    "summary = {'updated': pd.to_datetime(dt_today), 'since': pd.to_datetime(dt_yday)}\n",
    "summary = {**summary, **df_table[metrics].sum(), **s_ind, **s_us, **s_eu}"
   ]
  },
  {
   "cell_type": "code",
   "execution_count": 18,
   "metadata": {
    "execution": {
     "iopub.execute_input": "2020-12-29T12:09:12.748846Z",
     "iopub.status.busy": "2020-12-29T12:09:12.748254Z",
     "iopub.status.idle": "2020-12-29T12:09:12.756733Z",
     "shell.execute_reply": "2020-12-29T12:09:12.757210Z"
    },
    "papermill": {
     "duration": 0.051534,
     "end_time": "2020-12-29T12:09:12.757353",
     "exception": false,
     "start_time": "2020-12-29T12:09:12.705819",
     "status": "completed"
    },
    "tags": []
   },
   "outputs": [],
   "source": [
    "#hide\n",
    "dft_ct_new_cases = dft_cases.groupby(COL_REGION)[dt_cols].sum().diff(axis=1).fillna(0).astype(int)"
   ]
  },
  {
   "cell_type": "code",
   "execution_count": 19,
   "metadata": {
    "execution": {
     "iopub.execute_input": "2020-12-29T12:09:12.825100Z",
     "iopub.status.busy": "2020-12-29T12:09:12.824397Z",
     "iopub.status.idle": "2020-12-29T12:09:12.825969Z",
     "shell.execute_reply": "2020-12-29T12:09:12.826468Z"
    },
    "papermill": {
     "duration": 0.038481,
     "end_time": "2020-12-29T12:09:12.826606",
     "exception": false,
     "start_time": "2020-12-29T12:09:12.788125",
     "status": "completed"
    },
    "tags": []
   },
   "outputs": [],
   "source": [
    "#hide\n",
    "everydaycases = dft_ct_new_cases.cumsum(axis=1)"
   ]
  },
  {
   "cell_type": "code",
   "execution_count": 20,
   "metadata": {
    "execution": {
     "iopub.execute_input": "2020-12-29T12:09:12.893069Z",
     "iopub.status.busy": "2020-12-29T12:09:12.892479Z",
     "iopub.status.idle": "2020-12-29T12:09:13.957784Z",
     "shell.execute_reply": "2020-12-29T12:09:13.956911Z"
    },
    "papermill": {
     "duration": 1.100782,
     "end_time": "2020-12-29T12:09:13.958039",
     "exception": false,
     "start_time": "2020-12-29T12:09:12.857257",
     "status": "completed"
    },
    "tags": []
   },
   "outputs": [],
   "source": [
    "#hide\n",
    "import pandas as pd\n",
    "import matplotlib.pyplot as plt\n",
    "import matplotlib.ticker as ticker\n",
    "import matplotlib.animation as animation\n",
    "from IPython.display import HTML"
   ]
  },
  {
   "cell_type": "code",
   "execution_count": 21,
   "metadata": {
    "execution": {
     "iopub.execute_input": "2020-12-29T12:09:14.029236Z",
     "iopub.status.busy": "2020-12-29T12:09:14.028642Z",
     "iopub.status.idle": "2020-12-29T12:09:14.035057Z",
     "shell.execute_reply": "2020-12-29T12:09:14.034540Z"
    },
    "papermill": {
     "duration": 0.045205,
     "end_time": "2020-12-29T12:09:14.035189",
     "exception": false,
     "start_time": "2020-12-29T12:09:13.989984",
     "status": "completed"
    },
    "tags": []
   },
   "outputs": [],
   "source": [
    "#hide\n",
    "t = everydaycases.stack()"
   ]
  },
  {
   "cell_type": "code",
   "execution_count": 22,
   "metadata": {
    "execution": {
     "iopub.execute_input": "2020-12-29T12:09:14.105984Z",
     "iopub.status.busy": "2020-12-29T12:09:14.105203Z",
     "iopub.status.idle": "2020-12-29T12:09:14.113031Z",
     "shell.execute_reply": "2020-12-29T12:09:14.112549Z"
    },
    "papermill": {
     "duration": 0.044354,
     "end_time": "2020-12-29T12:09:14.113162",
     "exception": false,
     "start_time": "2020-12-29T12:09:14.068808",
     "status": "completed"
    },
    "tags": []
   },
   "outputs": [],
   "source": [
    "#hide\n",
    "g = t.reset_index(['Country/Region'])"
   ]
  },
  {
   "cell_type": "code",
   "execution_count": 23,
   "metadata": {
    "execution": {
     "iopub.execute_input": "2020-12-29T12:09:14.179104Z",
     "iopub.status.busy": "2020-12-29T12:09:14.178553Z",
     "iopub.status.idle": "2020-12-29T12:09:14.182512Z",
     "shell.execute_reply": "2020-12-29T12:09:14.181924Z"
    },
    "papermill": {
     "duration": 0.03827,
     "end_time": "2020-12-29T12:09:14.182634",
     "exception": false,
     "start_time": "2020-12-29T12:09:14.144364",
     "status": "completed"
    },
    "tags": []
   },
   "outputs": [],
   "source": [
    "#hide\n",
    "g.index.name = 'date'"
   ]
  },
  {
   "cell_type": "code",
   "execution_count": 24,
   "metadata": {
    "execution": {
     "iopub.execute_input": "2020-12-29T12:09:14.250348Z",
     "iopub.status.busy": "2020-12-29T12:09:14.249729Z",
     "iopub.status.idle": "2020-12-29T12:09:14.252398Z",
     "shell.execute_reply": "2020-12-29T12:09:14.252914Z"
    },
    "papermill": {
     "duration": 0.037728,
     "end_time": "2020-12-29T12:09:14.253047",
     "exception": false,
     "start_time": "2020-12-29T12:09:14.215319",
     "status": "completed"
    },
    "tags": []
   },
   "outputs": [],
   "source": [
    "# #hide\n",
    "# g = g.reset_index(['date'])"
   ]
  },
  {
   "cell_type": "code",
   "execution_count": 25,
   "metadata": {
    "execution": {
     "iopub.execute_input": "2020-12-29T12:09:14.316885Z",
     "iopub.status.busy": "2020-12-29T12:09:14.316280Z",
     "iopub.status.idle": "2020-12-29T12:09:14.318506Z",
     "shell.execute_reply": "2020-12-29T12:09:14.318032Z"
    },
    "papermill": {
     "duration": 0.035841,
     "end_time": "2020-12-29T12:09:14.318624",
     "exception": false,
     "start_time": "2020-12-29T12:09:14.282783",
     "status": "completed"
    },
    "tags": []
   },
   "outputs": [],
   "source": [
    "#hide\n",
    "# g.head()"
   ]
  },
  {
   "cell_type": "code",
   "execution_count": 26,
   "metadata": {
    "execution": {
     "iopub.execute_input": "2020-12-29T12:09:14.382919Z",
     "iopub.status.busy": "2020-12-29T12:09:14.382356Z",
     "iopub.status.idle": "2020-12-29T12:09:14.384967Z",
     "shell.execute_reply": "2020-12-29T12:09:14.384498Z"
    },
    "papermill": {
     "duration": 0.036265,
     "end_time": "2020-12-29T12:09:14.385094",
     "exception": false,
     "start_time": "2020-12-29T12:09:14.348829",
     "status": "completed"
    },
    "tags": []
   },
   "outputs": [],
   "source": [
    "#hide\n",
    "# g.columns = ['date','country','cases']"
   ]
  },
  {
   "cell_type": "code",
   "execution_count": 27,
   "metadata": {
    "execution": {
     "iopub.execute_input": "2020-12-29T12:09:14.449458Z",
     "iopub.status.busy": "2020-12-29T12:09:14.448795Z",
     "iopub.status.idle": "2020-12-29T12:09:14.451035Z",
     "shell.execute_reply": "2020-12-29T12:09:14.451571Z"
    },
    "papermill": {
     "duration": 0.03702,
     "end_time": "2020-12-29T12:09:14.451715",
     "exception": false,
     "start_time": "2020-12-29T12:09:14.414695",
     "status": "completed"
    },
    "tags": []
   },
   "outputs": [],
   "source": [
    "#hide\n",
    "# g['continent'] = g.country"
   ]
  },
  {
   "cell_type": "code",
   "execution_count": 28,
   "metadata": {
    "execution": {
     "iopub.execute_input": "2020-12-29T12:09:14.517640Z",
     "iopub.status.busy": "2020-12-29T12:09:14.517047Z",
     "iopub.status.idle": "2020-12-29T12:09:14.519459Z",
     "shell.execute_reply": "2020-12-29T12:09:14.518976Z"
    },
    "papermill": {
     "duration": 0.037662,
     "end_time": "2020-12-29T12:09:14.519584",
     "exception": false,
     "start_time": "2020-12-29T12:09:14.481922",
     "status": "completed"
    },
    "tags": []
   },
   "outputs": [],
   "source": [
    "#hide\n",
    "# cols = list(g.columns.values)"
   ]
  },
  {
   "cell_type": "code",
   "execution_count": 29,
   "metadata": {
    "execution": {
     "iopub.execute_input": "2020-12-29T12:09:14.583402Z",
     "iopub.status.busy": "2020-12-29T12:09:14.582707Z",
     "iopub.status.idle": "2020-12-29T12:09:14.584253Z",
     "shell.execute_reply": "2020-12-29T12:09:14.584833Z"
    },
    "papermill": {
     "duration": 0.035581,
     "end_time": "2020-12-29T12:09:14.584994",
     "exception": false,
     "start_time": "2020-12-29T12:09:14.549413",
     "status": "completed"
    },
    "tags": []
   },
   "outputs": [],
   "source": [
    "#hide\n",
    "# cols.insert(0, cols.pop())"
   ]
  },
  {
   "cell_type": "code",
   "execution_count": 30,
   "metadata": {
    "execution": {
     "iopub.execute_input": "2020-12-29T12:09:14.650023Z",
     "iopub.status.busy": "2020-12-29T12:09:14.649426Z",
     "iopub.status.idle": "2020-12-29T12:09:14.651852Z",
     "shell.execute_reply": "2020-12-29T12:09:14.651397Z"
    },
    "papermill": {
     "duration": 0.03629,
     "end_time": "2020-12-29T12:09:14.651965",
     "exception": false,
     "start_time": "2020-12-29T12:09:14.615675",
     "status": "completed"
    },
    "tags": []
   },
   "outputs": [],
   "source": [
    "#hide\n",
    "# g = g[cols]"
   ]
  },
  {
   "cell_type": "code",
   "execution_count": 31,
   "metadata": {
    "execution": {
     "iopub.execute_input": "2020-12-29T12:09:14.716484Z",
     "iopub.status.busy": "2020-12-29T12:09:14.715905Z",
     "iopub.status.idle": "2020-12-29T12:09:14.718326Z",
     "shell.execute_reply": "2020-12-29T12:09:14.718869Z"
    },
    "papermill": {
     "duration": 0.037019,
     "end_time": "2020-12-29T12:09:14.719012",
     "exception": false,
     "start_time": "2020-12-29T12:09:14.681993",
     "status": "completed"
    },
    "tags": []
   },
   "outputs": [],
   "source": [
    "#hide\n",
    "# g['continent'] = g['continent'].map(mapping['map.continent'])"
   ]
  },
  {
   "cell_type": "code",
   "execution_count": 32,
   "metadata": {
    "execution": {
     "iopub.execute_input": "2020-12-29T12:09:14.784421Z",
     "iopub.status.busy": "2020-12-29T12:09:14.783836Z",
     "iopub.status.idle": "2020-12-29T12:09:14.786684Z",
     "shell.execute_reply": "2020-12-29T12:09:14.787222Z"
    },
    "papermill": {
     "duration": 0.037116,
     "end_time": "2020-12-29T12:09:14.787353",
     "exception": false,
     "start_time": "2020-12-29T12:09:14.750237",
     "status": "completed"
    },
    "tags": []
   },
   "outputs": [],
   "source": [
    "#hide\n",
    "# g.head()"
   ]
  },
  {
   "cell_type": "code",
   "execution_count": 33,
   "metadata": {
    "execution": {
     "iopub.execute_input": "2020-12-29T12:09:14.852159Z",
     "iopub.status.busy": "2020-12-29T12:09:14.851149Z",
     "iopub.status.idle": "2020-12-29T12:09:14.852934Z",
     "shell.execute_reply": "2020-12-29T12:09:14.853388Z"
    },
    "papermill": {
     "duration": 0.036377,
     "end_time": "2020-12-29T12:09:14.853525",
     "exception": false,
     "start_time": "2020-12-29T12:09:14.817148",
     "status": "completed"
    },
    "tags": []
   },
   "outputs": [],
   "source": [
    "# hide\n",
    "# g['date'] = g['date'].astype('datetime64[ns]')"
   ]
  },
  {
   "cell_type": "code",
   "execution_count": 34,
   "metadata": {
    "execution": {
     "iopub.execute_input": "2020-12-29T12:09:14.918116Z",
     "iopub.status.busy": "2020-12-29T12:09:14.917399Z",
     "iopub.status.idle": "2020-12-29T12:09:14.919615Z",
     "shell.execute_reply": "2020-12-29T12:09:14.920076Z"
    },
    "papermill": {
     "duration": 0.036834,
     "end_time": "2020-12-29T12:09:14.920204",
     "exception": false,
     "start_time": "2020-12-29T12:09:14.883370",
     "status": "completed"
    },
    "tags": []
   },
   "outputs": [],
   "source": [
    "#hide\n",
    "# g['date'] = g.date.dt.dayofyear"
   ]
  },
  {
   "cell_type": "code",
   "execution_count": 35,
   "metadata": {
    "execution": {
     "iopub.execute_input": "2020-12-29T12:09:14.982728Z",
     "iopub.status.busy": "2020-12-29T12:09:14.982145Z",
     "iopub.status.idle": "2020-12-29T12:09:14.984139Z",
     "shell.execute_reply": "2020-12-29T12:09:14.984632Z"
    },
    "papermill": {
     "duration": 0.034946,
     "end_time": "2020-12-29T12:09:14.984774",
     "exception": false,
     "start_time": "2020-12-29T12:09:14.949828",
     "status": "completed"
    },
    "tags": []
   },
   "outputs": [],
   "source": [
    "#hide\n",
    "# g = g.rename(columns= {'continent':'group','country':'name','cases':'value'})"
   ]
  },
  {
   "cell_type": "code",
   "execution_count": 36,
   "metadata": {
    "execution": {
     "iopub.execute_input": "2020-12-29T12:09:15.048377Z",
     "iopub.status.busy": "2020-12-29T12:09:15.047768Z",
     "iopub.status.idle": "2020-12-29T12:09:15.050270Z",
     "shell.execute_reply": "2020-12-29T12:09:15.049770Z"
    },
    "papermill": {
     "duration": 0.035817,
     "end_time": "2020-12-29T12:09:15.050400",
     "exception": false,
     "start_time": "2020-12-29T12:09:15.014583",
     "status": "completed"
    },
    "tags": []
   },
   "outputs": [],
   "source": [
    "#hide\n",
    "# cols = ['name','group','day','value']"
   ]
  },
  {
   "cell_type": "code",
   "execution_count": 37,
   "metadata": {
    "execution": {
     "iopub.execute_input": "2020-12-29T12:09:15.118761Z",
     "iopub.status.busy": "2020-12-29T12:09:15.117965Z",
     "iopub.status.idle": "2020-12-29T12:09:15.119816Z",
     "shell.execute_reply": "2020-12-29T12:09:15.120324Z"
    },
    "papermill": {
     "duration": 0.040033,
     "end_time": "2020-12-29T12:09:15.120472",
     "exception": false,
     "start_time": "2020-12-29T12:09:15.080439",
     "status": "completed"
    },
    "tags": []
   },
   "outputs": [],
   "source": [
    "#hide\n",
    "# g.rename(columns= {'date':'day'},inplace = True)"
   ]
  },
  {
   "cell_type": "code",
   "execution_count": 38,
   "metadata": {
    "execution": {
     "iopub.execute_input": "2020-12-29T12:09:15.187341Z",
     "iopub.status.busy": "2020-12-29T12:09:15.186749Z",
     "iopub.status.idle": "2020-12-29T12:09:15.188539Z",
     "shell.execute_reply": "2020-12-29T12:09:15.189004Z"
    },
    "papermill": {
     "duration": 0.035828,
     "end_time": "2020-12-29T12:09:15.189139",
     "exception": false,
     "start_time": "2020-12-29T12:09:15.153311",
     "status": "completed"
    },
    "tags": []
   },
   "outputs": [],
   "source": [
    "#hide\n",
    "# g = g[cols]"
   ]
  },
  {
   "cell_type": "code",
   "execution_count": 39,
   "metadata": {
    "execution": {
     "iopub.execute_input": "2020-12-29T12:09:15.255004Z",
     "iopub.status.busy": "2020-12-29T12:09:15.254405Z",
     "iopub.status.idle": "2020-12-29T12:09:15.256778Z",
     "shell.execute_reply": "2020-12-29T12:09:15.257300Z"
    },
    "papermill": {
     "duration": 0.038092,
     "end_time": "2020-12-29T12:09:15.257428",
     "exception": false,
     "start_time": "2020-12-29T12:09:15.219336",
     "status": "completed"
    },
    "tags": []
   },
   "outputs": [],
   "source": [
    "# #hide\n",
    "# g = g[g.group.notna()]"
   ]
  },
  {
   "cell_type": "code",
   "execution_count": 40,
   "metadata": {
    "execution": {
     "iopub.execute_input": "2020-12-29T12:09:15.319990Z",
     "iopub.status.busy": "2020-12-29T12:09:15.319433Z",
     "iopub.status.idle": "2020-12-29T12:09:15.321283Z",
     "shell.execute_reply": "2020-12-29T12:09:15.321714Z"
    },
    "papermill": {
     "duration": 0.033401,
     "end_time": "2020-12-29T12:09:15.321852",
     "exception": false,
     "start_time": "2020-12-29T12:09:15.288451",
     "status": "completed"
    },
    "tags": []
   },
   "outputs": [],
   "source": [
    "# #hide\n",
    "# colors = dict(zip(\n",
    "#     [\"Oceania\", \"Europe\", \"Asia\", \"South America\", \"Middle East\", \"North America\", \"Africa\"],\n",
    "#     [\"#adb0ff\", \"#ffb3ff\", \"#90d595\", \"#e48381\", \"#aafbff\", \"#f7bb5f\", \"#eafb50\"]\n",
    "# ))\n",
    "# group_lk = g.set_index('name')['group'].to_dict()"
   ]
  },
  {
   "cell_type": "code",
   "execution_count": null,
   "metadata": {
    "papermill": {
     "duration": 0.030576,
     "end_time": "2020-12-29T12:09:15.381989",
     "exception": false,
     "start_time": "2020-12-29T12:09:15.351413",
     "status": "completed"
    },
    "tags": []
   },
   "outputs": [],
   "source": []
  },
  {
   "cell_type": "code",
   "execution_count": 41,
   "metadata": {
    "execution": {
     "iopub.execute_input": "2020-12-29T12:09:15.447715Z",
     "iopub.status.busy": "2020-12-29T12:09:15.447114Z",
     "iopub.status.idle": "2020-12-29T12:09:15.449750Z",
     "shell.execute_reply": "2020-12-29T12:09:15.449160Z"
    },
    "papermill": {
     "duration": 0.037272,
     "end_time": "2020-12-29T12:09:15.449879",
     "exception": false,
     "start_time": "2020-12-29T12:09:15.412607",
     "status": "completed"
    },
    "tags": []
   },
   "outputs": [],
   "source": [
    "# #hide\n",
    "# fig, ax = plt.subplots(figsize=(15, 8))\n",
    "\n",
    "# def draw_barchart(current_day):\n",
    "#     dff = g[g['day'].eq(current_day)].sort_values(by='value', ascending=True).tail(10)\n",
    "#     ax.clear()\n",
    "#     ax.barh(dff['name'], dff['value'], color=[colors[group_lk[x]] for x in dff['name']])\n",
    "#     dx = dff['value'].max() / 200\n",
    "    \n",
    "#     for i, (value, name) in enumerate(zip(dff['value'], dff['name'])):\n",
    "#         ax.text(value-dx, i,     name,           size=14, weight=600, ha='right', va='bottom')\n",
    "#         ax.text(value-dx, i-.25, group_lk[name], size=10, color='#444444', ha='right', va='baseline')\n",
    "#         ax.text(value+dx, i,     f'{value:,.0f}',  size=14, ha='left',  va='center')\n",
    "#     ax.text(1, 0.4, current_day, transform=ax.transAxes, color='#777777', size=46, ha='right', weight=800)\n",
    "#     ax.text(0, 1.06, 'Population (thousands)', transform=ax.transAxes, size=12, color='#777777')\n",
    "#     ax.xaxis.set_major_formatter(ticker.StrMethodFormatter('{x:,.0f}'))\n",
    "#     ax.xaxis.set_ticks_position('top')\n",
    "#     ax.tick_params(axis='x', colors='#777777', labelsize=12)\n",
    "#     ax.set_yticks([])\n",
    "#     ax.margins(0, 0.01)\n",
    "#     ax.grid(which='major', axis='x', linestyle='-')\n",
    "#     ax.set_axisbelow(True)\n",
    "    \n",
    "#     ax.text(0, 1.15, 'Coronavirus',\n",
    "#             transform=ax.transAxes, size=24, weight=600, ha='left', va='top')\n",
    "# #     ax.text(1, 0, 'by @pratapvardhan; credit @jburnmurdoch', transform=ax.transAxes, color='#777777', ha='right',\n",
    "# #             bbox=dict(facecolor='white', alpha=0.8, edgecolor='white'))\n",
    "#     plt.box(False)"
   ]
  },
  {
   "cell_type": "code",
   "execution_count": 42,
   "metadata": {
    "execution": {
     "iopub.execute_input": "2020-12-29T12:09:15.751555Z",
     "iopub.status.busy": "2020-12-29T12:09:15.750528Z",
     "iopub.status.idle": "2020-12-29T12:09:15.752365Z",
     "shell.execute_reply": "2020-12-29T12:09:15.752922Z"
    },
    "papermill": {
     "duration": 0.271233,
     "end_time": "2020-12-29T12:09:15.753090",
     "exception": false,
     "start_time": "2020-12-29T12:09:15.481857",
     "status": "completed"
    },
    "tags": []
   },
   "outputs": [],
   "source": [
    "# #hide_input\n",
    "# fig, ax = plt.subplots(figsize=(15, 8))\n",
    "# animator = animation.FuncAnimation(fig, draw_barchart, frames=range(g.day.values.min(), g.day.values.max()))\n",
    "# HTML(animator.to_jshtml())\n",
    "# # or use animator.to_html5_video() or animator.save() "
   ]
  },
  {
   "cell_type": "code",
   "execution_count": null,
   "metadata": {
    "papermill": {
     "duration": 0.032581,
     "end_time": "2020-12-29T12:09:15.817356",
     "exception": false,
     "start_time": "2020-12-29T12:09:15.784775",
     "status": "completed"
    },
    "tags": []
   },
   "outputs": [],
   "source": []
  },
  {
   "cell_type": "code",
   "execution_count": null,
   "metadata": {
    "papermill": {
     "duration": 0.033893,
     "end_time": "2020-12-29T12:09:15.881983",
     "exception": false,
     "start_time": "2020-12-29T12:09:15.848090",
     "status": "completed"
    },
    "tags": []
   },
   "outputs": [],
   "source": []
  },
  {
   "cell_type": "code",
   "execution_count": null,
   "metadata": {
    "papermill": {
     "duration": 0.031744,
     "end_time": "2020-12-29T12:09:15.946178",
     "exception": false,
     "start_time": "2020-12-29T12:09:15.914434",
     "status": "completed"
    },
    "tags": []
   },
   "outputs": [],
   "source": []
  }
 ],
 "metadata": {
  "kernelspec": {
   "display_name": "Python 3",
   "language": "python",
   "name": "python3"
  },
  "language_info": {
   "codemirror_mode": {
    "name": "ipython",
    "version": 3
   },
   "file_extension": ".py",
   "mimetype": "text/x-python",
   "name": "python",
   "nbconvert_exporter": "python",
   "pygments_lexer": "ipython3",
   "version": "3.6.12"
  },
  "papermill": {
   "duration": 6.8645,
   "end_time": "2020-12-29T12:09:16.285501",
   "environment_variables": {},
   "exception": null,
   "input_path": "2020-03-21-covid19exp.ipynb",
   "output_path": "2020-03-21-covid19exp.ipynb",
   "parameters": {},
   "start_time": "2020-12-29T12:09:09.421001",
   "version": "2.0.0"
  }
 },
 "nbformat": 4,
 "nbformat_minor": 4
}