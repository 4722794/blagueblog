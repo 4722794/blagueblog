{
 "cells": [
  {
   "cell_type": "markdown",
   "id": "muslim-click",
   "metadata": {
    "papermill": {
     "duration": 0.046835,
     "end_time": "2021-04-25T12:04:23.304921",
     "exception": false,
     "start_time": "2021-04-25T12:04:23.258086",
     "status": "completed"
    },
    "tags": []
   },
   "source": [
    "# COVID-19 Case Race\n",
    "> A race chart to see rising cases around the world\n",
    "\n",
    "- author: Hargun Oberoi\n",
    "- image: images/covid-overview.png\n",
    "- hide: false\n",
    "- badges: false"
   ]
  },
  {
   "cell_type": "code",
   "execution_count": 1,
   "id": "proof-material",
   "metadata": {
    "execution": {
     "iopub.execute_input": "2021-04-25T12:04:23.392625Z",
     "iopub.status.busy": "2021-04-25T12:04:23.391877Z",
     "iopub.status.idle": "2021-04-25T12:04:23.729489Z",
     "shell.execute_reply": "2021-04-25T12:04:23.728959Z"
    },
    "papermill": {
     "duration": 0.383935,
     "end_time": "2021-04-25T12:04:23.729641",
     "exception": false,
     "start_time": "2021-04-25T12:04:23.345706",
     "status": "completed"
    },
    "tags": []
   },
   "outputs": [],
   "source": [
    "#hide\n",
    "import numpy as np\n",
    "import pandas as pd\n",
    "from jinja2 import Template\n",
    "from IPython.display import HTML"
   ]
  },
  {
   "cell_type": "code",
   "execution_count": 2,
   "id": "developed-terminology",
   "metadata": {
    "execution": {
     "iopub.execute_input": "2021-04-25T12:04:23.808517Z",
     "iopub.status.busy": "2021-04-25T12:04:23.805575Z",
     "iopub.status.idle": "2021-04-25T12:04:23.810907Z",
     "shell.execute_reply": "2021-04-25T12:04:23.810404Z"
    },
    "papermill": {
     "duration": 0.045269,
     "end_time": "2021-04-25T12:04:23.811029",
     "exception": false,
     "start_time": "2021-04-25T12:04:23.765760",
     "status": "completed"
    },
    "tags": []
   },
   "outputs": [],
   "source": [
    "#hide\n",
    "\n",
    "# FETCH\n",
    "base_url = 'https://raw.githubusercontent.com/pratapvardhan/notebooks/master/covid19/'\n",
    "paths = {\n",
    "    'mapping': base_url + 'mapping_countries.csv',\n",
    "    'overview': base_url + 'overview.tpl'\n",
    "}"
   ]
  },
  {
   "cell_type": "code",
   "execution_count": 3,
   "id": "dynamic-saver",
   "metadata": {
    "execution": {
     "iopub.execute_input": "2021-04-25T12:04:23.909817Z",
     "iopub.status.busy": "2021-04-25T12:04:23.909027Z",
     "iopub.status.idle": "2021-04-25T12:04:23.911395Z",
     "shell.execute_reply": "2021-04-25T12:04:23.911866Z"
    },
    "papermill": {
     "duration": 0.053769,
     "end_time": "2021-04-25T12:04:23.912012",
     "exception": false,
     "start_time": "2021-04-25T12:04:23.858243",
     "status": "completed"
    },
    "tags": []
   },
   "outputs": [
    {
     "data": {
      "text/plain": [
       "'https://raw.githubusercontent.com/pratapvardhan/notebooks/master/covid19/mapping_countries.csv'"
      ]
     },
     "execution_count": 3,
     "metadata": {},
     "output_type": "execute_result"
    }
   ],
   "source": [
    "#hide\n",
    "paths['mapping']"
   ]
  },
  {
   "cell_type": "code",
   "execution_count": 4,
   "id": "urban-software",
   "metadata": {
    "execution": {
     "iopub.execute_input": "2021-04-25T12:04:23.994160Z",
     "iopub.status.busy": "2021-04-25T12:04:23.993491Z",
     "iopub.status.idle": "2021-04-25T12:04:23.994995Z",
     "shell.execute_reply": "2021-04-25T12:04:23.995562Z"
    },
    "papermill": {
     "duration": 0.042644,
     "end_time": "2021-04-25T12:04:23.995706",
     "exception": false,
     "start_time": "2021-04-25T12:04:23.953062",
     "status": "completed"
    },
    "tags": []
   },
   "outputs": [],
   "source": [
    "#hide\n",
    "def get_mappings(url):\n",
    "    df = pd.read_csv(url)\n",
    "    return {\n",
    "        'df': df,\n",
    "        'replace.country': dict(df.dropna(subset=['Name']).set_index('Country')['Name']),\n",
    "        'map.continent': dict(df.set_index('Name')['Continent'])\n",
    "    }"
   ]
  },
  {
   "cell_type": "code",
   "execution_count": 5,
   "id": "intimate-machinery",
   "metadata": {
    "execution": {
     "iopub.execute_input": "2021-04-25T12:04:24.076430Z",
     "iopub.status.busy": "2021-04-25T12:04:24.075847Z",
     "iopub.status.idle": "2021-04-25T12:04:24.114287Z",
     "shell.execute_reply": "2021-04-25T12:04:24.113578Z"
    },
    "papermill": {
     "duration": 0.08442,
     "end_time": "2021-04-25T12:04:24.114468",
     "exception": false,
     "start_time": "2021-04-25T12:04:24.030048",
     "status": "completed"
    },
    "tags": []
   },
   "outputs": [],
   "source": [
    "#hide\n",
    "mapping = get_mappings(paths['mapping'])"
   ]
  },
  {
   "cell_type": "code",
   "execution_count": 6,
   "id": "certified-tactics",
   "metadata": {
    "execution": {
     "iopub.execute_input": "2021-04-25T12:04:24.192960Z",
     "iopub.status.busy": "2021-04-25T12:04:24.192250Z",
     "iopub.status.idle": "2021-04-25T12:04:24.194624Z",
     "shell.execute_reply": "2021-04-25T12:04:24.195174Z"
    },
    "papermill": {
     "duration": 0.044136,
     "end_time": "2021-04-25T12:04:24.195348",
     "exception": false,
     "start_time": "2021-04-25T12:04:24.151212",
     "status": "completed"
    },
    "tags": []
   },
   "outputs": [],
   "source": [
    "#hide\n",
    "def get_template(path):\n",
    "    from urllib.parse import urlparse\n",
    "    if bool(urlparse(path).netloc):\n",
    "        from urllib.request import urlopen\n",
    "        return urlopen(path).read().decode('utf8')\n",
    "    return open(path).read()"
   ]
  },
  {
   "cell_type": "code",
   "execution_count": 7,
   "id": "realistic-blast",
   "metadata": {
    "execution": {
     "iopub.execute_input": "2021-04-25T12:04:24.277966Z",
     "iopub.status.busy": "2021-04-25T12:04:24.276966Z",
     "iopub.status.idle": "2021-04-25T12:04:24.278634Z",
     "shell.execute_reply": "2021-04-25T12:04:24.279191Z"
    },
    "papermill": {
     "duration": 0.049331,
     "end_time": "2021-04-25T12:04:24.279363",
     "exception": false,
     "start_time": "2021-04-25T12:04:24.230032",
     "status": "completed"
    },
    "tags": []
   },
   "outputs": [],
   "source": [
    "#hide\n",
    "def get_frame(name):\n",
    "    url = (\n",
    "        'https://raw.githubusercontent.com/CSSEGISandData/COVID-19/master/csse_covid_19_data/'\n",
    "        f'csse_covid_19_time_series/time_series_covid19_{name}_global.csv')\n",
    "    df = pd.read_csv(url)\n",
    "    # rename countries\n",
    "    df['Country/Region'] = df['Country/Region'].replace(mapping['replace.country'])\n",
    "    return df"
   ]
  },
  {
   "cell_type": "code",
   "execution_count": 8,
   "id": "affiliated-characterization",
   "metadata": {
    "execution": {
     "iopub.execute_input": "2021-04-25T12:04:24.353985Z",
     "iopub.status.busy": "2021-04-25T12:04:24.353327Z",
     "iopub.status.idle": "2021-04-25T12:04:24.355110Z",
     "shell.execute_reply": "2021-04-25T12:04:24.355575Z"
    },
    "papermill": {
     "duration": 0.042385,
     "end_time": "2021-04-25T12:04:24.355724",
     "exception": false,
     "start_time": "2021-04-25T12:04:24.313339",
     "status": "completed"
    },
    "tags": []
   },
   "outputs": [],
   "source": [
    "#hide\n",
    "def get_dates(df):\n",
    "    dt_cols = df.columns[~df.columns.isin(['Province/State', 'Country/Region', 'Lat', 'Long'])]\n",
    "    LAST_DATE_I = -1\n",
    "    # sometimes last column may be empty, then go backwards\n",
    "    for i in range(-1, -len(dt_cols), -1):\n",
    "        if not df[dt_cols[i]].fillna(0).eq(0).all():\n",
    "            LAST_DATE_I = i\n",
    "            break\n",
    "    return LAST_DATE_I, dt_cols"
   ]
  },
  {
   "cell_type": "code",
   "execution_count": 9,
   "id": "recent-optimization",
   "metadata": {
    "execution": {
     "iopub.execute_input": "2021-04-25T12:04:24.429805Z",
     "iopub.status.busy": "2021-04-25T12:04:24.429218Z",
     "iopub.status.idle": "2021-04-25T12:04:24.845706Z",
     "shell.execute_reply": "2021-04-25T12:04:24.845108Z"
    },
    "papermill": {
     "duration": 0.456617,
     "end_time": "2021-04-25T12:04:24.845849",
     "exception": false,
     "start_time": "2021-04-25T12:04:24.389232",
     "status": "completed"
    },
    "tags": []
   },
   "outputs": [],
   "source": [
    "#hide\n",
    "COL_REGION = 'Country/Region'\n",
    "# Confirmed, Recovered, Deaths\n",
    "df = get_frame('confirmed')\n",
    "# dft_: timeseries, dfc_: today country agg\n",
    "dft_cases = df\n",
    "dft_deaths = get_frame('deaths')\n",
    "dft_recovered = get_frame('recovered')\n",
    "LAST_DATE_I, dt_cols = get_dates(df)"
   ]
  },
  {
   "cell_type": "code",
   "execution_count": 10,
   "id": "absolute-copper",
   "metadata": {
    "execution": {
     "iopub.execute_input": "2021-04-25T12:04:24.920037Z",
     "iopub.status.busy": "2021-04-25T12:04:24.919448Z",
     "iopub.status.idle": "2021-04-25T12:04:24.922079Z",
     "shell.execute_reply": "2021-04-25T12:04:24.921586Z"
    },
    "papermill": {
     "duration": 0.042345,
     "end_time": "2021-04-25T12:04:24.922199",
     "exception": false,
     "start_time": "2021-04-25T12:04:24.879854",
     "status": "completed"
    },
    "tags": []
   },
   "outputs": [],
   "source": [
    "#hide\n",
    "LAST_DATE_I, dt_cols = get_dates(df)\n",
    "dt_today =dt_cols[LAST_DATE_I]\n",
    "# dt_5day = dt_cols[LAST_DATE_I - 5]\n",
    "dt_yday = dt_cols[LAST_DATE_I - 1]"
   ]
  },
  {
   "cell_type": "code",
   "execution_count": 11,
   "id": "restricted-sheriff",
   "metadata": {
    "execution": {
     "iopub.execute_input": "2021-04-25T12:04:24.997751Z",
     "iopub.status.busy": "2021-04-25T12:04:24.997144Z",
     "iopub.status.idle": "2021-04-25T12:04:25.005479Z",
     "shell.execute_reply": "2021-04-25T12:04:25.005004Z"
    },
    "papermill": {
     "duration": 0.049619,
     "end_time": "2021-04-25T12:04:25.005609",
     "exception": false,
     "start_time": "2021-04-25T12:04:24.955990",
     "status": "completed"
    },
    "tags": []
   },
   "outputs": [],
   "source": [
    "#hide\n",
    "dfc_cases = dft_cases.groupby(COL_REGION)[dt_today].sum()\n",
    "dfc_deaths = dft_deaths.groupby(COL_REGION)[dt_today].sum()\n",
    "# dfp_cases = dft_cases.groupby(COL_REGION)[dt_5day].sum()\n",
    "# dfp_deaths = dft_deaths.groupby(COL_REGION)[dt_5day].sum()\n",
    "dfp_cases = dft_cases.groupby(COL_REGION)[dt_yday].sum()\n",
    "dfp_deaths = dft_deaths.groupby(COL_REGION)[dt_yday].sum()"
   ]
  },
  {
   "cell_type": "code",
   "execution_count": 12,
   "id": "deluxe-hepatitis",
   "metadata": {
    "execution": {
     "iopub.execute_input": "2021-04-25T12:04:25.081084Z",
     "iopub.status.busy": "2021-04-25T12:04:25.080504Z",
     "iopub.status.idle": "2021-04-25T12:04:25.085812Z",
     "shell.execute_reply": "2021-04-25T12:04:25.086281Z"
    },
    "papermill": {
     "duration": 0.046946,
     "end_time": "2021-04-25T12:04:25.086423",
     "exception": false,
     "start_time": "2021-04-25T12:04:25.039477",
     "status": "completed"
    },
    "tags": []
   },
   "outputs": [],
   "source": [
    "#hide\n",
    "df_table = (pd.DataFrame(dict(Cases = dfc_cases, Deaths = dfc_deaths, PCases = dfp_cases, PDeaths = dfp_deaths))\n",
    "            .sort_values(by = ['Cases','Deaths'], ascending = [False, False])\n",
    "            .reset_index())"
   ]
  },
  {
   "cell_type": "code",
   "execution_count": 13,
   "id": "educational-chancellor",
   "metadata": {
    "execution": {
     "iopub.execute_input": "2021-04-25T12:04:25.162996Z",
     "iopub.status.busy": "2021-04-25T12:04:25.162392Z",
     "iopub.status.idle": "2021-04-25T12:04:25.184665Z",
     "shell.execute_reply": "2021-04-25T12:04:25.184081Z"
    },
    "papermill": {
     "duration": 0.064754,
     "end_time": "2021-04-25T12:04:25.184793",
     "exception": false,
     "start_time": "2021-04-25T12:04:25.120039",
     "status": "completed"
    },
    "tags": []
   },
   "outputs": [
    {
     "data": {
      "text/html": [
       "<div>\n",
       "<style scoped>\n",
       "    .dataframe tbody tr th:only-of-type {\n",
       "        vertical-align: middle;\n",
       "    }\n",
       "\n",
       "    .dataframe tbody tr th {\n",
       "        vertical-align: top;\n",
       "    }\n",
       "\n",
       "    .dataframe thead th {\n",
       "        text-align: right;\n",
       "    }\n",
       "</style>\n",
       "<table border=\"1\" class=\"dataframe\">\n",
       "  <thead>\n",
       "    <tr style=\"text-align: right;\">\n",
       "      <th></th>\n",
       "      <th>Country/Region</th>\n",
       "      <th>Cases</th>\n",
       "      <th>Deaths</th>\n",
       "      <th>PCases</th>\n",
       "      <th>PDeaths</th>\n",
       "      <th>Cases (+)</th>\n",
       "      <th>Deaths (+)</th>\n",
       "      <th>Fatality Rate</th>\n",
       "      <th>Continent</th>\n",
       "    </tr>\n",
       "  </thead>\n",
       "  <tbody>\n",
       "    <tr>\n",
       "      <th>0</th>\n",
       "      <td>US</td>\n",
       "      <td>32045113</td>\n",
       "      <td>571921</td>\n",
       "      <td>31991750</td>\n",
       "      <td>571197</td>\n",
       "      <td>53363</td>\n",
       "      <td>724</td>\n",
       "      <td>1.78</td>\n",
       "      <td>North America</td>\n",
       "    </tr>\n",
       "    <tr>\n",
       "      <th>1</th>\n",
       "      <td>India</td>\n",
       "      <td>16960172</td>\n",
       "      <td>192311</td>\n",
       "      <td>16610481</td>\n",
       "      <td>189544</td>\n",
       "      <td>349691</td>\n",
       "      <td>2767</td>\n",
       "      <td>1.13</td>\n",
       "      <td>Asia</td>\n",
       "    </tr>\n",
       "    <tr>\n",
       "      <th>2</th>\n",
       "      <td>Brazil</td>\n",
       "      <td>14308215</td>\n",
       "      <td>389492</td>\n",
       "      <td>14237078</td>\n",
       "      <td>386416</td>\n",
       "      <td>71137</td>\n",
       "      <td>3076</td>\n",
       "      <td>2.72</td>\n",
       "      <td>South America</td>\n",
       "    </tr>\n",
       "    <tr>\n",
       "      <th>3</th>\n",
       "      <td>France</td>\n",
       "      <td>5534656</td>\n",
       "      <td>102872</td>\n",
       "      <td>5502014</td>\n",
       "      <td>102655</td>\n",
       "      <td>32642</td>\n",
       "      <td>217</td>\n",
       "      <td>1.86</td>\n",
       "      <td>Europe</td>\n",
       "    </tr>\n",
       "    <tr>\n",
       "      <th>4</th>\n",
       "      <td>Russia</td>\n",
       "      <td>4699988</td>\n",
       "      <td>106108</td>\n",
       "      <td>4691290</td>\n",
       "      <td>105718</td>\n",
       "      <td>8698</td>\n",
       "      <td>390</td>\n",
       "      <td>2.26</td>\n",
       "      <td>Europe</td>\n",
       "    </tr>\n",
       "  </tbody>\n",
       "</table>\n",
       "</div>"
      ],
      "text/plain": [
       "  Country/Region     Cases  Deaths    PCases  PDeaths  Cases (+)  Deaths (+)  \\\n",
       "0             US  32045113  571921  31991750   571197      53363         724   \n",
       "1          India  16960172  192311  16610481   189544     349691        2767   \n",
       "2         Brazil  14308215  389492  14237078   386416      71137        3076   \n",
       "3         France   5534656  102872   5502014   102655      32642         217   \n",
       "4         Russia   4699988  106108   4691290   105718       8698         390   \n",
       "\n",
       "   Fatality Rate      Continent  \n",
       "0           1.78  North America  \n",
       "1           1.13           Asia  \n",
       "2           2.72  South America  \n",
       "3           1.86         Europe  \n",
       "4           2.26         Europe  "
      ]
     },
     "execution_count": 13,
     "metadata": {},
     "output_type": "execute_result"
    }
   ],
   "source": [
    "#hide\n",
    "for c in 'Cases, Deaths'.split(', '):\n",
    "    df_table[f'{c} (+)'] = (df_table[c] - df_table[f'P{c}']).clip(0)\n",
    "    #Clip ça veut dire, les chiffres negatif sont interdit\n",
    "df_table['Fatality Rate'] = (100* df_table['Deaths']/ df_table['Cases']).round(2)\n",
    "df_table['Continent'] = df_table['Country/Region'].map(mapping['map.continent'])\n",
    "df_table.head(5)"
   ]
  },
  {
   "cell_type": "code",
   "execution_count": 14,
   "id": "aboriginal-bulgaria",
   "metadata": {
    "execution": {
     "iopub.execute_input": "2021-04-25T12:04:25.264150Z",
     "iopub.status.busy": "2021-04-25T12:04:25.263541Z",
     "iopub.status.idle": "2021-04-25T12:04:25.266066Z",
     "shell.execute_reply": "2021-04-25T12:04:25.265595Z"
    },
    "papermill": {
     "duration": 0.047539,
     "end_time": "2021-04-25T12:04:25.266197",
     "exception": false,
     "start_time": "2021-04-25T12:04:25.218658",
     "status": "completed"
    },
    "tags": []
   },
   "outputs": [],
   "source": [
    "#hide\n",
    "#delete problematic countries from table\n",
    "df_table = df_table[~df_table['Country/Region'].isin(['Cape Verde', 'Cruise Ship', 'Kosovo'])]"
   ]
  },
  {
   "cell_type": "code",
   "execution_count": 15,
   "id": "fantastic-effect",
   "metadata": {
    "execution": {
     "iopub.execute_input": "2021-04-25T12:04:25.344092Z",
     "iopub.status.busy": "2021-04-25T12:04:25.343500Z",
     "iopub.status.idle": "2021-04-25T12:04:25.364558Z",
     "shell.execute_reply": "2021-04-25T12:04:25.365103Z"
    },
    "papermill": {
     "duration": 0.065073,
     "end_time": "2021-04-25T12:04:25.365253",
     "exception": false,
     "start_time": "2021-04-25T12:04:25.300180",
     "status": "completed"
    },
    "tags": []
   },
   "outputs": [
    {
     "data": {
      "text/html": [
       "<div>\n",
       "<style scoped>\n",
       "    .dataframe tbody tr th:only-of-type {\n",
       "        vertical-align: middle;\n",
       "    }\n",
       "\n",
       "    .dataframe tbody tr th {\n",
       "        vertical-align: top;\n",
       "    }\n",
       "\n",
       "    .dataframe thead th {\n",
       "        text-align: right;\n",
       "    }\n",
       "</style>\n",
       "<table border=\"1\" class=\"dataframe\">\n",
       "  <thead>\n",
       "    <tr style=\"text-align: right;\">\n",
       "      <th></th>\n",
       "      <th>Country/Region</th>\n",
       "      <th>Cases</th>\n",
       "      <th>Deaths</th>\n",
       "      <th>PCases</th>\n",
       "      <th>PDeaths</th>\n",
       "      <th>Cases (+)</th>\n",
       "      <th>Deaths (+)</th>\n",
       "      <th>Fatality Rate</th>\n",
       "      <th>Continent</th>\n",
       "    </tr>\n",
       "  </thead>\n",
       "  <tbody>\n",
       "    <tr>\n",
       "      <th>0</th>\n",
       "      <td>US</td>\n",
       "      <td>32045113</td>\n",
       "      <td>571921</td>\n",
       "      <td>31991750</td>\n",
       "      <td>571197</td>\n",
       "      <td>53363</td>\n",
       "      <td>724</td>\n",
       "      <td>1.8</td>\n",
       "      <td>North America</td>\n",
       "    </tr>\n",
       "    <tr>\n",
       "      <th>1</th>\n",
       "      <td>India</td>\n",
       "      <td>16960172</td>\n",
       "      <td>192311</td>\n",
       "      <td>16610481</td>\n",
       "      <td>189544</td>\n",
       "      <td>349691</td>\n",
       "      <td>2767</td>\n",
       "      <td>1.1</td>\n",
       "      <td>Asia</td>\n",
       "    </tr>\n",
       "    <tr>\n",
       "      <th>2</th>\n",
       "      <td>Brazil</td>\n",
       "      <td>14308215</td>\n",
       "      <td>389492</td>\n",
       "      <td>14237078</td>\n",
       "      <td>386416</td>\n",
       "      <td>71137</td>\n",
       "      <td>3076</td>\n",
       "      <td>2.7</td>\n",
       "      <td>South America</td>\n",
       "    </tr>\n",
       "    <tr>\n",
       "      <th>3</th>\n",
       "      <td>France</td>\n",
       "      <td>5534656</td>\n",
       "      <td>102872</td>\n",
       "      <td>5502014</td>\n",
       "      <td>102655</td>\n",
       "      <td>32642</td>\n",
       "      <td>217</td>\n",
       "      <td>1.9</td>\n",
       "      <td>Europe</td>\n",
       "    </tr>\n",
       "    <tr>\n",
       "      <th>4</th>\n",
       "      <td>Russia</td>\n",
       "      <td>4699988</td>\n",
       "      <td>106108</td>\n",
       "      <td>4691290</td>\n",
       "      <td>105718</td>\n",
       "      <td>8698</td>\n",
       "      <td>390</td>\n",
       "      <td>2.3</td>\n",
       "      <td>Europe</td>\n",
       "    </tr>\n",
       "  </tbody>\n",
       "</table>\n",
       "</div>"
      ],
      "text/plain": [
       "  Country/Region     Cases  Deaths    PCases  PDeaths  Cases (+)  Deaths (+)  \\\n",
       "0             US  32045113  571921  31991750   571197      53363         724   \n",
       "1          India  16960172  192311  16610481   189544     349691        2767   \n",
       "2         Brazil  14308215  389492  14237078   386416      71137        3076   \n",
       "3         France   5534656  102872   5502014   102655      32642         217   \n",
       "4         Russia   4699988  106108   4691290   105718       8698         390   \n",
       "\n",
       "   Fatality Rate      Continent  \n",
       "0            1.8  North America  \n",
       "1            1.1           Asia  \n",
       "2            2.7  South America  \n",
       "3            1.9         Europe  \n",
       "4            2.3         Europe  "
      ]
     },
     "execution_count": 15,
     "metadata": {},
     "output_type": "execute_result"
    }
   ],
   "source": [
    "#hide\n",
    "df_table = (pd.DataFrame(dict(Cases=dfc_cases, Deaths=dfc_deaths, PCases=dfp_cases, PDeaths=dfp_deaths))\n",
    "             .sort_values(by=['Cases', 'Deaths'], ascending=[False, False])\n",
    "             .reset_index())\n",
    "df_table.rename(columns={'index': 'Country/Region'}, inplace=True)\n",
    "for c in 'Cases, Deaths'.split(', '):\n",
    "    df_table[f'{c} (+)'] = (df_table[c] - df_table[f'P{c}']).clip(0)  # DATA BUG\n",
    "df_table['Fatality Rate'] = (100 * df_table['Deaths'] / df_table['Cases']).round(1)\n",
    "df_table['Continent'] = df_table['Country/Region'].map(mapping['map.continent'])\n",
    "df_table.head(5)"
   ]
  },
  {
   "cell_type": "code",
   "execution_count": 16,
   "id": "fewer-occasion",
   "metadata": {
    "execution": {
     "iopub.execute_input": "2021-04-25T12:04:25.443528Z",
     "iopub.status.busy": "2021-04-25T12:04:25.442916Z",
     "iopub.status.idle": "2021-04-25T12:04:25.445338Z",
     "shell.execute_reply": "2021-04-25T12:04:25.445886Z"
    },
    "papermill": {
     "duration": 0.045744,
     "end_time": "2021-04-25T12:04:25.446026",
     "exception": false,
     "start_time": "2021-04-25T12:04:25.400282",
     "status": "completed"
    },
    "tags": []
   },
   "outputs": [],
   "source": [
    "#hide\n",
    "#delete problematic countries from table\n",
    "df_table = df_table[~df_table['Country/Region'].isin(['Cape Verde', 'Cruise Ship', 'Kosovo'])]"
   ]
  },
  {
   "cell_type": "code",
   "execution_count": 17,
   "id": "related-center",
   "metadata": {
    "execution": {
     "iopub.execute_input": "2021-04-25T12:04:25.537202Z",
     "iopub.status.busy": "2021-04-25T12:04:25.536581Z",
     "iopub.status.idle": "2021-04-25T12:04:25.539672Z",
     "shell.execute_reply": "2021-04-25T12:04:25.539088Z"
    },
    "papermill": {
     "duration": 0.059544,
     "end_time": "2021-04-25T12:04:25.539804",
     "exception": false,
     "start_time": "2021-04-25T12:04:25.480260",
     "status": "completed"
    },
    "tags": []
   },
   "outputs": [],
   "source": [
    "#hide\n",
    "metrics = [df_table.columns[index] for index in [1,2,5,6]]\n",
    "# s_china = df_table[df_table['Country/Region'].eq('China')][metrics].sum().add_prefix('China ')\n",
    "s_us = df_table[df_table['Country/Region'].eq('US')][metrics].sum().add_prefix('US ')\n",
    "s_eu = df_table[df_table['Continent'].eq('Europe')][metrics].sum().add_prefix('EU ')\n",
    "s_ind = df_table[df_table['Country/Region'].eq('India')][metrics].sum().add_prefix('India ')\n",
    "summary = {'updated': pd.to_datetime(dt_today), 'since': pd.to_datetime(dt_yday)}\n",
    "summary = {'updated': pd.to_datetime(dt_today), 'since': pd.to_datetime(dt_yday)}\n",
    "summary = {**summary, **df_table[metrics].sum(), **s_ind, **s_us, **s_eu}"
   ]
  },
  {
   "cell_type": "code",
   "execution_count": 18,
   "id": "engaging-syndrome",
   "metadata": {
    "execution": {
     "iopub.execute_input": "2021-04-25T12:04:25.621916Z",
     "iopub.status.busy": "2021-04-25T12:04:25.621316Z",
     "iopub.status.idle": "2021-04-25T12:04:25.633831Z",
     "shell.execute_reply": "2021-04-25T12:04:25.633299Z"
    },
    "papermill": {
     "duration": 0.057097,
     "end_time": "2021-04-25T12:04:25.633962",
     "exception": false,
     "start_time": "2021-04-25T12:04:25.576865",
     "status": "completed"
    },
    "tags": []
   },
   "outputs": [],
   "source": [
    "#hide\n",
    "dft_ct_new_cases = dft_cases.groupby(COL_REGION)[dt_cols].sum().diff(axis=1).fillna(0).astype(int)"
   ]
  },
  {
   "cell_type": "code",
   "execution_count": 19,
   "id": "neutral-assignment",
   "metadata": {
    "execution": {
     "iopub.execute_input": "2021-04-25T12:04:25.711608Z",
     "iopub.status.busy": "2021-04-25T12:04:25.710988Z",
     "iopub.status.idle": "2021-04-25T12:04:25.713261Z",
     "shell.execute_reply": "2021-04-25T12:04:25.712774Z"
    },
    "papermill": {
     "duration": 0.04416,
     "end_time": "2021-04-25T12:04:25.713381",
     "exception": false,
     "start_time": "2021-04-25T12:04:25.669221",
     "status": "completed"
    },
    "tags": []
   },
   "outputs": [],
   "source": [
    "#hide\n",
    "everydaycases = dft_ct_new_cases.cumsum(axis=1)"
   ]
  },
  {
   "cell_type": "code",
   "execution_count": 20,
   "id": "parliamentary-calgary",
   "metadata": {
    "execution": {
     "iopub.execute_input": "2021-04-25T12:04:25.788099Z",
     "iopub.status.busy": "2021-04-25T12:04:25.787506Z",
     "iopub.status.idle": "2021-04-25T12:04:26.368462Z",
     "shell.execute_reply": "2021-04-25T12:04:26.367813Z"
    },
    "papermill": {
     "duration": 0.620611,
     "end_time": "2021-04-25T12:04:26.368593",
     "exception": false,
     "start_time": "2021-04-25T12:04:25.747982",
     "status": "completed"
    },
    "tags": []
   },
   "outputs": [],
   "source": [
    "#hide\n",
    "import pandas as pd\n",
    "import matplotlib.pyplot as plt\n",
    "import matplotlib.ticker as ticker\n",
    "import matplotlib.animation as animation\n",
    "from IPython.display import HTML"
   ]
  },
  {
   "cell_type": "code",
   "execution_count": 21,
   "id": "lasting-extraction",
   "metadata": {
    "execution": {
     "iopub.execute_input": "2021-04-25T12:04:26.451697Z",
     "iopub.status.busy": "2021-04-25T12:04:26.451085Z",
     "iopub.status.idle": "2021-04-25T12:04:26.457281Z",
     "shell.execute_reply": "2021-04-25T12:04:26.456809Z"
    },
    "papermill": {
     "duration": 0.048476,
     "end_time": "2021-04-25T12:04:26.457409",
     "exception": false,
     "start_time": "2021-04-25T12:04:26.408933",
     "status": "completed"
    },
    "tags": []
   },
   "outputs": [],
   "source": [
    "#hide\n",
    "t = everydaycases.stack()"
   ]
  },
  {
   "cell_type": "code",
   "execution_count": 22,
   "id": "premier-sleeve",
   "metadata": {
    "execution": {
     "iopub.execute_input": "2021-04-25T12:04:26.532836Z",
     "iopub.status.busy": "2021-04-25T12:04:26.532250Z",
     "iopub.status.idle": "2021-04-25T12:04:26.539936Z",
     "shell.execute_reply": "2021-04-25T12:04:26.540374Z"
    },
    "papermill": {
     "duration": 0.048031,
     "end_time": "2021-04-25T12:04:26.540518",
     "exception": false,
     "start_time": "2021-04-25T12:04:26.492487",
     "status": "completed"
    },
    "tags": []
   },
   "outputs": [],
   "source": [
    "#hide\n",
    "g = t.reset_index(['Country/Region'])"
   ]
  },
  {
   "cell_type": "code",
   "execution_count": 23,
   "id": "distributed-pittsburgh",
   "metadata": {
    "execution": {
     "iopub.execute_input": "2021-04-25T12:04:26.614904Z",
     "iopub.status.busy": "2021-04-25T12:04:26.614330Z",
     "iopub.status.idle": "2021-04-25T12:04:26.616814Z",
     "shell.execute_reply": "2021-04-25T12:04:26.616325Z"
    },
    "papermill": {
     "duration": 0.041864,
     "end_time": "2021-04-25T12:04:26.616936",
     "exception": false,
     "start_time": "2021-04-25T12:04:26.575072",
     "status": "completed"
    },
    "tags": []
   },
   "outputs": [],
   "source": [
    "#hide\n",
    "g.index.name = 'date'"
   ]
  },
  {
   "cell_type": "code",
   "execution_count": 24,
   "id": "naked-donor",
   "metadata": {
    "execution": {
     "iopub.execute_input": "2021-04-25T12:04:26.691010Z",
     "iopub.status.busy": "2021-04-25T12:04:26.690420Z",
     "iopub.status.idle": "2021-04-25T12:04:26.692721Z",
     "shell.execute_reply": "2021-04-25T12:04:26.692232Z"
    },
    "papermill": {
     "duration": 0.040979,
     "end_time": "2021-04-25T12:04:26.692840",
     "exception": false,
     "start_time": "2021-04-25T12:04:26.651861",
     "status": "completed"
    },
    "tags": []
   },
   "outputs": [],
   "source": [
    "# #hide\n",
    "# g = g.reset_index(['date'])"
   ]
  },
  {
   "cell_type": "code",
   "execution_count": 25,
   "id": "incomplete-mustang",
   "metadata": {
    "execution": {
     "iopub.execute_input": "2021-04-25T12:04:26.767147Z",
     "iopub.status.busy": "2021-04-25T12:04:26.766572Z",
     "iopub.status.idle": "2021-04-25T12:04:26.768835Z",
     "shell.execute_reply": "2021-04-25T12:04:26.768344Z"
    },
    "papermill": {
     "duration": 0.041497,
     "end_time": "2021-04-25T12:04:26.768953",
     "exception": false,
     "start_time": "2021-04-25T12:04:26.727456",
     "status": "completed"
    },
    "tags": []
   },
   "outputs": [],
   "source": [
    "#hide\n",
    "# g.head()"
   ]
  },
  {
   "cell_type": "code",
   "execution_count": 26,
   "id": "specific-kruger",
   "metadata": {
    "execution": {
     "iopub.execute_input": "2021-04-25T12:04:26.843553Z",
     "iopub.status.busy": "2021-04-25T12:04:26.842919Z",
     "iopub.status.idle": "2021-04-25T12:04:26.845061Z",
     "shell.execute_reply": "2021-04-25T12:04:26.845504Z"
    },
    "papermill": {
     "duration": 0.041749,
     "end_time": "2021-04-25T12:04:26.845663",
     "exception": false,
     "start_time": "2021-04-25T12:04:26.803914",
     "status": "completed"
    },
    "tags": []
   },
   "outputs": [],
   "source": [
    "#hide\n",
    "# g.columns = ['date','country','cases']"
   ]
  },
  {
   "cell_type": "code",
   "execution_count": 27,
   "id": "tender-conversion",
   "metadata": {
    "execution": {
     "iopub.execute_input": "2021-04-25T12:04:26.919389Z",
     "iopub.status.busy": "2021-04-25T12:04:26.918787Z",
     "iopub.status.idle": "2021-04-25T12:04:26.921041Z",
     "shell.execute_reply": "2021-04-25T12:04:26.920548Z"
    },
    "papermill": {
     "duration": 0.040647,
     "end_time": "2021-04-25T12:04:26.921161",
     "exception": false,
     "start_time": "2021-04-25T12:04:26.880514",
     "status": "completed"
    },
    "tags": []
   },
   "outputs": [],
   "source": [
    "#hide\n",
    "# g['continent'] = g.country"
   ]
  },
  {
   "cell_type": "code",
   "execution_count": 28,
   "id": "substantial-wilderness",
   "metadata": {
    "execution": {
     "iopub.execute_input": "2021-04-25T12:04:26.994827Z",
     "iopub.status.busy": "2021-04-25T12:04:26.994253Z",
     "iopub.status.idle": "2021-04-25T12:04:26.996027Z",
     "shell.execute_reply": "2021-04-25T12:04:26.996518Z"
    },
    "papermill": {
     "duration": 0.040751,
     "end_time": "2021-04-25T12:04:26.996656",
     "exception": false,
     "start_time": "2021-04-25T12:04:26.955905",
     "status": "completed"
    },
    "tags": []
   },
   "outputs": [],
   "source": [
    "#hide\n",
    "# cols = list(g.columns.values)"
   ]
  },
  {
   "cell_type": "code",
   "execution_count": 29,
   "id": "solved-farming",
   "metadata": {
    "execution": {
     "iopub.execute_input": "2021-04-25T12:04:27.069837Z",
     "iopub.status.busy": "2021-04-25T12:04:27.069205Z",
     "iopub.status.idle": "2021-04-25T12:04:27.071448Z",
     "shell.execute_reply": "2021-04-25T12:04:27.070835Z"
    },
    "papermill": {
     "duration": 0.040246,
     "end_time": "2021-04-25T12:04:27.071567",
     "exception": false,
     "start_time": "2021-04-25T12:04:27.031321",
     "status": "completed"
    },
    "tags": []
   },
   "outputs": [],
   "source": [
    "#hide\n",
    "# cols.insert(0, cols.pop())"
   ]
  },
  {
   "cell_type": "code",
   "execution_count": 30,
   "id": "executed-adoption",
   "metadata": {
    "execution": {
     "iopub.execute_input": "2021-04-25T12:04:27.150458Z",
     "iopub.status.busy": "2021-04-25T12:04:27.149857Z",
     "iopub.status.idle": "2021-04-25T12:04:27.152111Z",
     "shell.execute_reply": "2021-04-25T12:04:27.152581Z"
    },
    "papermill": {
     "duration": 0.043295,
     "end_time": "2021-04-25T12:04:27.152727",
     "exception": false,
     "start_time": "2021-04-25T12:04:27.109432",
     "status": "completed"
    },
    "tags": []
   },
   "outputs": [],
   "source": [
    "#hide\n",
    "# g = g[cols]"
   ]
  },
  {
   "cell_type": "code",
   "execution_count": 31,
   "id": "subject-dublin",
   "metadata": {
    "execution": {
     "iopub.execute_input": "2021-04-25T12:04:27.231502Z",
     "iopub.status.busy": "2021-04-25T12:04:27.230892Z",
     "iopub.status.idle": "2021-04-25T12:04:27.233502Z",
     "shell.execute_reply": "2021-04-25T12:04:27.233005Z"
    },
    "papermill": {
     "duration": 0.044421,
     "end_time": "2021-04-25T12:04:27.233622",
     "exception": false,
     "start_time": "2021-04-25T12:04:27.189201",
     "status": "completed"
    },
    "tags": []
   },
   "outputs": [],
   "source": [
    "#hide\n",
    "# g['continent'] = g['continent'].map(mapping['map.continent'])"
   ]
  },
  {
   "cell_type": "code",
   "execution_count": 32,
   "id": "freelance-scout",
   "metadata": {
    "execution": {
     "iopub.execute_input": "2021-04-25T12:04:27.310677Z",
     "iopub.status.busy": "2021-04-25T12:04:27.310082Z",
     "iopub.status.idle": "2021-04-25T12:04:27.312557Z",
     "shell.execute_reply": "2021-04-25T12:04:27.313106Z"
    },
    "papermill": {
     "duration": 0.043822,
     "end_time": "2021-04-25T12:04:27.313253",
     "exception": false,
     "start_time": "2021-04-25T12:04:27.269431",
     "status": "completed"
    },
    "tags": []
   },
   "outputs": [],
   "source": [
    "#hide\n",
    "# g.head()"
   ]
  },
  {
   "cell_type": "code",
   "execution_count": 33,
   "id": "limited-engine",
   "metadata": {
    "execution": {
     "iopub.execute_input": "2021-04-25T12:04:27.389038Z",
     "iopub.status.busy": "2021-04-25T12:04:27.388449Z",
     "iopub.status.idle": "2021-04-25T12:04:27.391007Z",
     "shell.execute_reply": "2021-04-25T12:04:27.391708Z"
    },
    "papermill": {
     "duration": 0.042295,
     "end_time": "2021-04-25T12:04:27.391856",
     "exception": false,
     "start_time": "2021-04-25T12:04:27.349561",
     "status": "completed"
    },
    "tags": []
   },
   "outputs": [],
   "source": [
    "# hide\n",
    "# g['date'] = g['date'].astype('datetime64[ns]')"
   ]
  },
  {
   "cell_type": "code",
   "execution_count": 34,
   "id": "sophisticated-supervisor",
   "metadata": {
    "execution": {
     "iopub.execute_input": "2021-04-25T12:04:27.471069Z",
     "iopub.status.busy": "2021-04-25T12:04:27.470014Z",
     "iopub.status.idle": "2021-04-25T12:04:27.472199Z",
     "shell.execute_reply": "2021-04-25T12:04:27.473002Z"
    },
    "papermill": {
     "duration": 0.04362,
     "end_time": "2021-04-25T12:04:27.473229",
     "exception": false,
     "start_time": "2021-04-25T12:04:27.429609",
     "status": "completed"
    },
    "tags": []
   },
   "outputs": [],
   "source": [
    "#hide\n",
    "# g['date'] = g.date.dt.dayofyear"
   ]
  },
  {
   "cell_type": "code",
   "execution_count": 35,
   "id": "inside-dubai",
   "metadata": {
    "execution": {
     "iopub.execute_input": "2021-04-25T12:04:27.548530Z",
     "iopub.status.busy": "2021-04-25T12:04:27.547933Z",
     "iopub.status.idle": "2021-04-25T12:04:27.550287Z",
     "shell.execute_reply": "2021-04-25T12:04:27.549778Z"
    },
    "papermill": {
     "duration": 0.041471,
     "end_time": "2021-04-25T12:04:27.550406",
     "exception": false,
     "start_time": "2021-04-25T12:04:27.508935",
     "status": "completed"
    },
    "tags": []
   },
   "outputs": [],
   "source": [
    "#hide\n",
    "# g = g.rename(columns= {'continent':'group','country':'name','cases':'value'})"
   ]
  },
  {
   "cell_type": "code",
   "execution_count": 36,
   "id": "fleet-motorcycle",
   "metadata": {
    "execution": {
     "iopub.execute_input": "2021-04-25T12:04:27.623244Z",
     "iopub.status.busy": "2021-04-25T12:04:27.622660Z",
     "iopub.status.idle": "2021-04-25T12:04:27.624826Z",
     "shell.execute_reply": "2021-04-25T12:04:27.624258Z"
    },
    "papermill": {
     "duration": 0.040309,
     "end_time": "2021-04-25T12:04:27.624944",
     "exception": false,
     "start_time": "2021-04-25T12:04:27.584635",
     "status": "completed"
    },
    "tags": []
   },
   "outputs": [],
   "source": [
    "#hide\n",
    "# cols = ['name','group','day','value']"
   ]
  },
  {
   "cell_type": "code",
   "execution_count": 37,
   "id": "continued-sleeping",
   "metadata": {
    "execution": {
     "iopub.execute_input": "2021-04-25T12:04:27.699867Z",
     "iopub.status.busy": "2021-04-25T12:04:27.699251Z",
     "iopub.status.idle": "2021-04-25T12:04:27.701540Z",
     "shell.execute_reply": "2021-04-25T12:04:27.701050Z"
    },
    "papermill": {
     "duration": 0.041961,
     "end_time": "2021-04-25T12:04:27.701659",
     "exception": false,
     "start_time": "2021-04-25T12:04:27.659698",
     "status": "completed"
    },
    "tags": []
   },
   "outputs": [],
   "source": [
    "#hide\n",
    "# g.rename(columns= {'date':'day'},inplace = True)"
   ]
  },
  {
   "cell_type": "code",
   "execution_count": 38,
   "id": "major-fight",
   "metadata": {
    "execution": {
     "iopub.execute_input": "2021-04-25T12:04:27.776261Z",
     "iopub.status.busy": "2021-04-25T12:04:27.775678Z",
     "iopub.status.idle": "2021-04-25T12:04:27.778216Z",
     "shell.execute_reply": "2021-04-25T12:04:27.778759Z"
    },
    "papermill": {
     "duration": 0.042401,
     "end_time": "2021-04-25T12:04:27.778897",
     "exception": false,
     "start_time": "2021-04-25T12:04:27.736496",
     "status": "completed"
    },
    "tags": []
   },
   "outputs": [],
   "source": [
    "#hide\n",
    "# g = g[cols]"
   ]
  },
  {
   "cell_type": "code",
   "execution_count": 39,
   "id": "structured-mobile",
   "metadata": {
    "execution": {
     "iopub.execute_input": "2021-04-25T12:04:27.852836Z",
     "iopub.status.busy": "2021-04-25T12:04:27.852229Z",
     "iopub.status.idle": "2021-04-25T12:04:27.854565Z",
     "shell.execute_reply": "2021-04-25T12:04:27.854087Z"
    },
    "papermill": {
     "duration": 0.041124,
     "end_time": "2021-04-25T12:04:27.854691",
     "exception": false,
     "start_time": "2021-04-25T12:04:27.813567",
     "status": "completed"
    },
    "tags": []
   },
   "outputs": [],
   "source": [
    "# #hide\n",
    "# g = g[g.group.notna()]"
   ]
  },
  {
   "cell_type": "code",
   "execution_count": 40,
   "id": "determined-closing",
   "metadata": {
    "execution": {
     "iopub.execute_input": "2021-04-25T12:04:27.934666Z",
     "iopub.status.busy": "2021-04-25T12:04:27.934067Z",
     "iopub.status.idle": "2021-04-25T12:04:27.936836Z",
     "shell.execute_reply": "2021-04-25T12:04:27.936199Z"
    },
    "papermill": {
     "duration": 0.046896,
     "end_time": "2021-04-25T12:04:27.936980",
     "exception": false,
     "start_time": "2021-04-25T12:04:27.890084",
     "status": "completed"
    },
    "tags": []
   },
   "outputs": [],
   "source": [
    "# #hide\n",
    "# colors = dict(zip(\n",
    "#     [\"Oceania\", \"Europe\", \"Asia\", \"South America\", \"Middle East\", \"North America\", \"Africa\"],\n",
    "#     [\"#adb0ff\", \"#ffb3ff\", \"#90d595\", \"#e48381\", \"#aafbff\", \"#f7bb5f\", \"#eafb50\"]\n",
    "# ))\n",
    "# group_lk = g.set_index('name')['group'].to_dict()"
   ]
  },
  {
   "cell_type": "code",
   "execution_count": null,
   "id": "gross-drinking",
   "metadata": {
    "papermill": {
     "duration": 0.034637,
     "end_time": "2021-04-25T12:04:28.007165",
     "exception": false,
     "start_time": "2021-04-25T12:04:27.972528",
     "status": "completed"
    },
    "tags": []
   },
   "outputs": [],
   "source": []
  },
  {
   "cell_type": "code",
   "execution_count": 41,
   "id": "subject-macintosh",
   "metadata": {
    "execution": {
     "iopub.execute_input": "2021-04-25T12:04:28.081711Z",
     "iopub.status.busy": "2021-04-25T12:04:28.081112Z",
     "iopub.status.idle": "2021-04-25T12:04:28.083152Z",
     "shell.execute_reply": "2021-04-25T12:04:28.083615Z"
    },
    "papermill": {
     "duration": 0.041647,
     "end_time": "2021-04-25T12:04:28.083762",
     "exception": false,
     "start_time": "2021-04-25T12:04:28.042115",
     "status": "completed"
    },
    "tags": []
   },
   "outputs": [],
   "source": [
    "# #hide\n",
    "# fig, ax = plt.subplots(figsize=(15, 8))\n",
    "\n",
    "# def draw_barchart(current_day):\n",
    "#     dff = g[g['day'].eq(current_day)].sort_values(by='value', ascending=True).tail(10)\n",
    "#     ax.clear()\n",
    "#     ax.barh(dff['name'], dff['value'], color=[colors[group_lk[x]] for x in dff['name']])\n",
    "#     dx = dff['value'].max() / 200\n",
    "    \n",
    "#     for i, (value, name) in enumerate(zip(dff['value'], dff['name'])):\n",
    "#         ax.text(value-dx, i,     name,           size=14, weight=600, ha='right', va='bottom')\n",
    "#         ax.text(value-dx, i-.25, group_lk[name], size=10, color='#444444', ha='right', va='baseline')\n",
    "#         ax.text(value+dx, i,     f'{value:,.0f}',  size=14, ha='left',  va='center')\n",
    "#     ax.text(1, 0.4, current_day, transform=ax.transAxes, color='#777777', size=46, ha='right', weight=800)\n",
    "#     ax.text(0, 1.06, 'Population (thousands)', transform=ax.transAxes, size=12, color='#777777')\n",
    "#     ax.xaxis.set_major_formatter(ticker.StrMethodFormatter('{x:,.0f}'))\n",
    "#     ax.xaxis.set_ticks_position('top')\n",
    "#     ax.tick_params(axis='x', colors='#777777', labelsize=12)\n",
    "#     ax.set_yticks([])\n",
    "#     ax.margins(0, 0.01)\n",
    "#     ax.grid(which='major', axis='x', linestyle='-')\n",
    "#     ax.set_axisbelow(True)\n",
    "    \n",
    "#     ax.text(0, 1.15, 'Coronavirus',\n",
    "#             transform=ax.transAxes, size=24, weight=600, ha='left', va='top')\n",
    "# #     ax.text(1, 0, 'by @pratapvardhan; credit @jburnmurdoch', transform=ax.transAxes, color='#777777', ha='right',\n",
    "# #             bbox=dict(facecolor='white', alpha=0.8, edgecolor='white'))\n",
    "#     plt.box(False)"
   ]
  },
  {
   "cell_type": "code",
   "execution_count": 42,
   "id": "sexual-wages",
   "metadata": {
    "execution": {
     "iopub.execute_input": "2021-04-25T12:04:28.157287Z",
     "iopub.status.busy": "2021-04-25T12:04:28.156712Z",
     "iopub.status.idle": "2021-04-25T12:04:28.159144Z",
     "shell.execute_reply": "2021-04-25T12:04:28.158677Z"
    },
    "papermill": {
     "duration": 0.04077,
     "end_time": "2021-04-25T12:04:28.159265",
     "exception": false,
     "start_time": "2021-04-25T12:04:28.118495",
     "status": "completed"
    },
    "tags": []
   },
   "outputs": [],
   "source": [
    "# #hide_input\n",
    "# fig, ax = plt.subplots(figsize=(15, 8))\n",
    "# animator = animation.FuncAnimation(fig, draw_barchart, frames=range(g.day.values.min(), g.day.values.max()))\n",
    "# HTML(animator.to_jshtml())\n",
    "# # or use animator.to_html5_video() or animator.save() "
   ]
  },
  {
   "cell_type": "code",
   "execution_count": null,
   "id": "australian-container",
   "metadata": {
    "papermill": {
     "duration": 0.034496,
     "end_time": "2021-04-25T12:04:28.228212",
     "exception": false,
     "start_time": "2021-04-25T12:04:28.193716",
     "status": "completed"
    },
    "tags": []
   },
   "outputs": [],
   "source": []
  },
  {
   "cell_type": "code",
   "execution_count": null,
   "id": "mediterranean-pontiac",
   "metadata": {
    "papermill": {
     "duration": 0.034462,
     "end_time": "2021-04-25T12:04:28.297148",
     "exception": false,
     "start_time": "2021-04-25T12:04:28.262686",
     "status": "completed"
    },
    "tags": []
   },
   "outputs": [],
   "source": []
  },
  {
   "cell_type": "code",
   "execution_count": null,
   "id": "aging-legislature",
   "metadata": {
    "papermill": {
     "duration": 0.03472,
     "end_time": "2021-04-25T12:04:28.366756",
     "exception": false,
     "start_time": "2021-04-25T12:04:28.332036",
     "status": "completed"
    },
    "tags": []
   },
   "outputs": [],
   "source": []
  }
 ],
 "metadata": {
  "kernelspec": {
   "display_name": "Python 3",
   "language": "python",
   "name": "python3"
  },
  "language_info": {
   "codemirror_mode": {
    "name": "ipython",
    "version": 3
   },
   "file_extension": ".py",
   "mimetype": "text/x-python",
   "name": "python",
   "nbconvert_exporter": "python",
   "pygments_lexer": "ipython3",
   "version": "3.6.13"
  },
  "papermill": {
   "duration": 6.65549,
   "end_time": "2021-04-25T12:04:28.811428",
   "environment_variables": {},
   "exception": null,
   "input_path": "2020-03-21-covid19exp.ipynb",
   "output_path": "2020-03-21-covid19exp.ipynb",
   "parameters": {},
   "start_time": "2021-04-25T12:04:22.155938",
   "version": "2.0.0"
  }
 },
 "nbformat": 4,
 "nbformat_minor": 5
}