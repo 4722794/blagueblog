{
 "cells": [
  {
   "cell_type": "markdown",
   "id": "muslim-click",
   "metadata": {
    "papermill": {
     "duration": 0.041293,
     "end_time": "2021-10-29T00:22:45.002242",
     "exception": false,
     "start_time": "2021-10-29T00:22:44.960949",
     "status": "completed"
    },
    "tags": []
   },
   "source": [
    "# COVID-19 Case Race\n",
    "> A race chart to see rising cases around the world\n",
    "\n",
    "- author: Hargun Oberoi\n",
    "- image: images/covid-overview.png\n",
    "- hide: false\n",
    "- badges: false"
   ]
  },
  {
   "cell_type": "code",
   "execution_count": 1,
   "id": "proof-material",
   "metadata": {
    "execution": {
     "iopub.execute_input": "2021-10-29T00:22:45.084313Z",
     "iopub.status.busy": "2021-10-29T00:22:45.081753Z",
     "iopub.status.idle": "2021-10-29T00:22:45.477476Z",
     "shell.execute_reply": "2021-10-29T00:22:45.476362Z"
    },
    "papermill": {
     "duration": 0.440308,
     "end_time": "2021-10-29T00:22:45.477653",
     "exception": false,
     "start_time": "2021-10-29T00:22:45.037345",
     "status": "completed"
    },
    "tags": []
   },
   "outputs": [],
   "source": [
    "#hide\n",
    "import numpy as np\n",
    "import pandas as pd\n",
    "from jinja2 import Template\n",
    "from IPython.display import HTML"
   ]
  },
  {
   "cell_type": "code",
   "execution_count": 2,
   "id": "developed-terminology",
   "metadata": {
    "execution": {
     "iopub.execute_input": "2021-10-29T00:22:45.557819Z",
     "iopub.status.busy": "2021-10-29T00:22:45.556960Z",
     "iopub.status.idle": "2021-10-29T00:22:45.558752Z",
     "shell.execute_reply": "2021-10-29T00:22:45.559396Z"
    },
    "papermill": {
     "duration": 0.046751,
     "end_time": "2021-10-29T00:22:45.559582",
     "exception": false,
     "start_time": "2021-10-29T00:22:45.512831",
     "status": "completed"
    },
    "tags": []
   },
   "outputs": [],
   "source": [
    "#hide\n",
    "\n",
    "# FETCH\n",
    "base_url = 'https://raw.githubusercontent.com/pratapvardhan/notebooks/master/covid19/'\n",
    "paths = {\n",
    "    'mapping': base_url + 'mapping_countries.csv',\n",
    "    'overview': base_url + 'overview.tpl'\n",
    "}"
   ]
  },
  {
   "cell_type": "code",
   "execution_count": 3,
   "id": "dynamic-saver",
   "metadata": {
    "execution": {
     "iopub.execute_input": "2021-10-29T00:22:45.643672Z",
     "iopub.status.busy": "2021-10-29T00:22:45.640610Z",
     "iopub.status.idle": "2021-10-29T00:22:45.646308Z",
     "shell.execute_reply": "2021-10-29T00:22:45.646961Z"
    },
    "papermill": {
     "duration": 0.051663,
     "end_time": "2021-10-29T00:22:45.647111",
     "exception": false,
     "start_time": "2021-10-29T00:22:45.595448",
     "status": "completed"
    },
    "tags": []
   },
   "outputs": [
    {
     "data": {
      "text/plain": [
       "'https://raw.githubusercontent.com/pratapvardhan/notebooks/master/covid19/mapping_countries.csv'"
      ]
     },
     "execution_count": 3,
     "metadata": {},
     "output_type": "execute_result"
    }
   ],
   "source": [
    "#hide\n",
    "paths['mapping']"
   ]
  },
  {
   "cell_type": "code",
   "execution_count": 4,
   "id": "urban-software",
   "metadata": {
    "execution": {
     "iopub.execute_input": "2021-10-29T00:22:45.725876Z",
     "iopub.status.busy": "2021-10-29T00:22:45.725256Z",
     "iopub.status.idle": "2021-10-29T00:22:45.728171Z",
     "shell.execute_reply": "2021-10-29T00:22:45.727608Z"
    },
    "papermill": {
     "duration": 0.045891,
     "end_time": "2021-10-29T00:22:45.728304",
     "exception": false,
     "start_time": "2021-10-29T00:22:45.682413",
     "status": "completed"
    },
    "tags": []
   },
   "outputs": [],
   "source": [
    "#hide\n",
    "def get_mappings(url):\n",
    "    df = pd.read_csv(url)\n",
    "    return {\n",
    "        'df': df,\n",
    "        'replace.country': dict(df.dropna(subset=['Name']).set_index('Country')['Name']),\n",
    "        'map.continent': dict(df.set_index('Name')['Continent'])\n",
    "    }"
   ]
  },
  {
   "cell_type": "code",
   "execution_count": 5,
   "id": "intimate-machinery",
   "metadata": {
    "execution": {
     "iopub.execute_input": "2021-10-29T00:22:45.803616Z",
     "iopub.status.busy": "2021-10-29T00:22:45.802997Z",
     "iopub.status.idle": "2021-10-29T00:22:45.835573Z",
     "shell.execute_reply": "2021-10-29T00:22:45.836392Z"
    },
    "papermill": {
     "duration": 0.074172,
     "end_time": "2021-10-29T00:22:45.836643",
     "exception": false,
     "start_time": "2021-10-29T00:22:45.762471",
     "status": "completed"
    },
    "tags": []
   },
   "outputs": [],
   "source": [
    "#hide\n",
    "mapping = get_mappings(paths['mapping'])"
   ]
  },
  {
   "cell_type": "code",
   "execution_count": 6,
   "id": "certified-tactics",
   "metadata": {
    "execution": {
     "iopub.execute_input": "2021-10-29T00:22:45.914476Z",
     "iopub.status.busy": "2021-10-29T00:22:45.913829Z",
     "iopub.status.idle": "2021-10-29T00:22:45.915516Z",
     "shell.execute_reply": "2021-10-29T00:22:45.916064Z"
    },
    "papermill": {
     "duration": 0.043401,
     "end_time": "2021-10-29T00:22:45.916207",
     "exception": false,
     "start_time": "2021-10-29T00:22:45.872806",
     "status": "completed"
    },
    "tags": []
   },
   "outputs": [],
   "source": [
    "#hide\n",
    "def get_template(path):\n",
    "    from urllib.parse import urlparse\n",
    "    if bool(urlparse(path).netloc):\n",
    "        from urllib.request import urlopen\n",
    "        return urlopen(path).read().decode('utf8')\n",
    "    return open(path).read()"
   ]
  },
  {
   "cell_type": "code",
   "execution_count": 7,
   "id": "realistic-blast",
   "metadata": {
    "execution": {
     "iopub.execute_input": "2021-10-29T00:22:45.999853Z",
     "iopub.status.busy": "2021-10-29T00:22:45.999250Z",
     "iopub.status.idle": "2021-10-29T00:22:46.000969Z",
     "shell.execute_reply": "2021-10-29T00:22:46.001473Z"
    },
    "papermill": {
     "duration": 0.047311,
     "end_time": "2021-10-29T00:22:46.001612",
     "exception": false,
     "start_time": "2021-10-29T00:22:45.954301",
     "status": "completed"
    },
    "tags": []
   },
   "outputs": [],
   "source": [
    "#hide\n",
    "def get_frame(name):\n",
    "    url = (\n",
    "        'https://raw.githubusercontent.com/CSSEGISandData/COVID-19/master/csse_covid_19_data/'\n",
    "        f'csse_covid_19_time_series/time_series_covid19_{name}_global.csv')\n",
    "    df = pd.read_csv(url)\n",
    "    # rename countries\n",
    "    df['Country/Region'] = df['Country/Region'].replace(mapping['replace.country'])\n",
    "    return df"
   ]
  },
  {
   "cell_type": "code",
   "execution_count": 8,
   "id": "affiliated-characterization",
   "metadata": {
    "execution": {
     "iopub.execute_input": "2021-10-29T00:22:46.078419Z",
     "iopub.status.busy": "2021-10-29T00:22:46.077771Z",
     "iopub.status.idle": "2021-10-29T00:22:46.080028Z",
     "shell.execute_reply": "2021-10-29T00:22:46.080537Z"
    },
    "papermill": {
     "duration": 0.043715,
     "end_time": "2021-10-29T00:22:46.080681",
     "exception": false,
     "start_time": "2021-10-29T00:22:46.036966",
     "status": "completed"
    },
    "tags": []
   },
   "outputs": [],
   "source": [
    "#hide\n",
    "def get_dates(df):\n",
    "    dt_cols = df.columns[~df.columns.isin(['Province/State', 'Country/Region', 'Lat', 'Long'])]\n",
    "    LAST_DATE_I = -1\n",
    "    # sometimes last column may be empty, then go backwards\n",
    "    for i in range(-1, -len(dt_cols), -1):\n",
    "        if not df[dt_cols[i]].fillna(0).eq(0).all():\n",
    "            LAST_DATE_I = i\n",
    "            break\n",
    "    return LAST_DATE_I, dt_cols"
   ]
  },
  {
   "cell_type": "code",
   "execution_count": 9,
   "id": "recent-optimization",
   "metadata": {
    "execution": {
     "iopub.execute_input": "2021-10-29T00:22:46.164556Z",
     "iopub.status.busy": "2021-10-29T00:22:46.163922Z",
     "iopub.status.idle": "2021-10-29T00:22:46.517100Z",
     "shell.execute_reply": "2021-10-29T00:22:46.516416Z"
    },
    "papermill": {
     "duration": 0.396749,
     "end_time": "2021-10-29T00:22:46.517239",
     "exception": false,
     "start_time": "2021-10-29T00:22:46.120490",
     "status": "completed"
    },
    "tags": []
   },
   "outputs": [],
   "source": [
    "#hide\n",
    "COL_REGION = 'Country/Region'\n",
    "# Confirmed, Recovered, Deaths\n",
    "df = get_frame('confirmed')\n",
    "# dft_: timeseries, dfc_: today country agg\n",
    "dft_cases = df\n",
    "dft_deaths = get_frame('deaths')\n",
    "dft_recovered = get_frame('recovered')\n",
    "LAST_DATE_I, dt_cols = get_dates(df)"
   ]
  },
  {
   "cell_type": "code",
   "execution_count": 10,
   "id": "absolute-copper",
   "metadata": {
    "execution": {
     "iopub.execute_input": "2021-10-29T00:22:46.595305Z",
     "iopub.status.busy": "2021-10-29T00:22:46.594669Z",
     "iopub.status.idle": "2021-10-29T00:22:46.597374Z",
     "shell.execute_reply": "2021-10-29T00:22:46.596849Z"
    },
    "papermill": {
     "duration": 0.044346,
     "end_time": "2021-10-29T00:22:46.597502",
     "exception": false,
     "start_time": "2021-10-29T00:22:46.553156",
     "status": "completed"
    },
    "tags": []
   },
   "outputs": [],
   "source": [
    "#hide\n",
    "LAST_DATE_I, dt_cols = get_dates(df)\n",
    "dt_today =dt_cols[LAST_DATE_I]\n",
    "# dt_5day = dt_cols[LAST_DATE_I - 5]\n",
    "dt_yday = dt_cols[LAST_DATE_I - 1]"
   ]
  },
  {
   "cell_type": "code",
   "execution_count": 11,
   "id": "restricted-sheriff",
   "metadata": {
    "execution": {
     "iopub.execute_input": "2021-10-29T00:22:46.672439Z",
     "iopub.status.busy": "2021-10-29T00:22:46.671842Z",
     "iopub.status.idle": "2021-10-29T00:22:46.680350Z",
     "shell.execute_reply": "2021-10-29T00:22:46.679845Z"
    },
    "papermill": {
     "duration": 0.04892,
     "end_time": "2021-10-29T00:22:46.680471",
     "exception": false,
     "start_time": "2021-10-29T00:22:46.631551",
     "status": "completed"
    },
    "tags": []
   },
   "outputs": [],
   "source": [
    "#hide\n",
    "dfc_cases = dft_cases.groupby(COL_REGION)[dt_today].sum()\n",
    "dfc_deaths = dft_deaths.groupby(COL_REGION)[dt_today].sum()\n",
    "# dfp_cases = dft_cases.groupby(COL_REGION)[dt_5day].sum()\n",
    "# dfp_deaths = dft_deaths.groupby(COL_REGION)[dt_5day].sum()\n",
    "dfp_cases = dft_cases.groupby(COL_REGION)[dt_yday].sum()\n",
    "dfp_deaths = dft_deaths.groupby(COL_REGION)[dt_yday].sum()"
   ]
  },
  {
   "cell_type": "code",
   "execution_count": 12,
   "id": "deluxe-hepatitis",
   "metadata": {
    "execution": {
     "iopub.execute_input": "2021-10-29T00:22:46.757724Z",
     "iopub.status.busy": "2021-10-29T00:22:46.757121Z",
     "iopub.status.idle": "2021-10-29T00:22:46.766845Z",
     "shell.execute_reply": "2021-10-29T00:22:46.767297Z"
    },
    "papermill": {
     "duration": 0.049192,
     "end_time": "2021-10-29T00:22:46.767444",
     "exception": false,
     "start_time": "2021-10-29T00:22:46.718252",
     "status": "completed"
    },
    "tags": []
   },
   "outputs": [],
   "source": [
    "#hide\n",
    "df_table = (pd.DataFrame(dict(Cases = dfc_cases, Deaths = dfc_deaths, PCases = dfp_cases, PDeaths = dfp_deaths))\n",
    "            .sort_values(by = ['Cases','Deaths'], ascending = [False, False])\n",
    "            .reset_index())"
   ]
  },
  {
   "cell_type": "code",
   "execution_count": 13,
   "id": "educational-chancellor",
   "metadata": {
    "execution": {
     "iopub.execute_input": "2021-10-29T00:22:46.862734Z",
     "iopub.status.busy": "2021-10-29T00:22:46.862105Z",
     "iopub.status.idle": "2021-10-29T00:22:46.870537Z",
     "shell.execute_reply": "2021-10-29T00:22:46.870019Z"
    },
    "papermill": {
     "duration": 0.065027,
     "end_time": "2021-10-29T00:22:46.870663",
     "exception": false,
     "start_time": "2021-10-29T00:22:46.805636",
     "status": "completed"
    },
    "tags": []
   },
   "outputs": [
    {
     "data": {
      "text/html": [
       "<div>\n",
       "<style scoped>\n",
       "    .dataframe tbody tr th:only-of-type {\n",
       "        vertical-align: middle;\n",
       "    }\n",
       "\n",
       "    .dataframe tbody tr th {\n",
       "        vertical-align: top;\n",
       "    }\n",
       "\n",
       "    .dataframe thead th {\n",
       "        text-align: right;\n",
       "    }\n",
       "</style>\n",
       "<table border=\"1\" class=\"dataframe\">\n",
       "  <thead>\n",
       "    <tr style=\"text-align: right;\">\n",
       "      <th></th>\n",
       "      <th>Country/Region</th>\n",
       "      <th>Cases</th>\n",
       "      <th>Deaths</th>\n",
       "      <th>PCases</th>\n",
       "      <th>PDeaths</th>\n",
       "      <th>Cases (+)</th>\n",
       "      <th>Deaths (+)</th>\n",
       "      <th>Fatality Rate</th>\n",
       "      <th>Continent</th>\n",
       "    </tr>\n",
       "  </thead>\n",
       "  <tbody>\n",
       "    <tr>\n",
       "      <th>0</th>\n",
       "      <td>US</td>\n",
       "      <td>45726714</td>\n",
       "      <td>741582</td>\n",
       "      <td>45627021</td>\n",
       "      <td>739090</td>\n",
       "      <td>99693</td>\n",
       "      <td>2492</td>\n",
       "      <td>1.62</td>\n",
       "      <td>North America</td>\n",
       "    </tr>\n",
       "    <tr>\n",
       "      <th>1</th>\n",
       "      <td>India</td>\n",
       "      <td>34231809</td>\n",
       "      <td>456386</td>\n",
       "      <td>34215653</td>\n",
       "      <td>455653</td>\n",
       "      <td>16156</td>\n",
       "      <td>733</td>\n",
       "      <td>1.33</td>\n",
       "      <td>Asia</td>\n",
       "    </tr>\n",
       "    <tr>\n",
       "      <th>2</th>\n",
       "      <td>Brazil</td>\n",
       "      <td>21766168</td>\n",
       "      <td>606679</td>\n",
       "      <td>21748984</td>\n",
       "      <td>606246</td>\n",
       "      <td>17184</td>\n",
       "      <td>433</td>\n",
       "      <td>2.79</td>\n",
       "      <td>South America</td>\n",
       "    </tr>\n",
       "    <tr>\n",
       "      <th>3</th>\n",
       "      <td>United Kingdom</td>\n",
       "      <td>8938965</td>\n",
       "      <td>140462</td>\n",
       "      <td>8894843</td>\n",
       "      <td>140253</td>\n",
       "      <td>44122</td>\n",
       "      <td>209</td>\n",
       "      <td>1.57</td>\n",
       "      <td>Europe</td>\n",
       "    </tr>\n",
       "    <tr>\n",
       "      <th>4</th>\n",
       "      <td>Russia</td>\n",
       "      <td>8220975</td>\n",
       "      <td>229672</td>\n",
       "      <td>8185400</td>\n",
       "      <td>228581</td>\n",
       "      <td>35575</td>\n",
       "      <td>1091</td>\n",
       "      <td>2.79</td>\n",
       "      <td>Europe</td>\n",
       "    </tr>\n",
       "  </tbody>\n",
       "</table>\n",
       "</div>"
      ],
      "text/plain": [
       "   Country/Region     Cases  Deaths    PCases  PDeaths  Cases (+)  Deaths (+)  \\\n",
       "0              US  45726714  741582  45627021   739090      99693        2492   \n",
       "1           India  34231809  456386  34215653   455653      16156         733   \n",
       "2          Brazil  21766168  606679  21748984   606246      17184         433   \n",
       "3  United Kingdom   8938965  140462   8894843   140253      44122         209   \n",
       "4          Russia   8220975  229672   8185400   228581      35575        1091   \n",
       "\n",
       "   Fatality Rate      Continent  \n",
       "0           1.62  North America  \n",
       "1           1.33           Asia  \n",
       "2           2.79  South America  \n",
       "3           1.57         Europe  \n",
       "4           2.79         Europe  "
      ]
     },
     "execution_count": 13,
     "metadata": {},
     "output_type": "execute_result"
    }
   ],
   "source": [
    "#hide\n",
    "for c in 'Cases, Deaths'.split(', '):\n",
    "    df_table[f'{c} (+)'] = (df_table[c] - df_table[f'P{c}']).clip(0)\n",
    "    #Clip ça veut dire, les chiffres negatif sont interdit\n",
    "df_table['Fatality Rate'] = (100* df_table['Deaths']/ df_table['Cases']).round(2)\n",
    "df_table['Continent'] = df_table['Country/Region'].map(mapping['map.continent'])\n",
    "df_table.head(5)"
   ]
  },
  {
   "cell_type": "code",
   "execution_count": 14,
   "id": "aboriginal-bulgaria",
   "metadata": {
    "execution": {
     "iopub.execute_input": "2021-10-29T00:22:46.948801Z",
     "iopub.status.busy": "2021-10-29T00:22:46.948197Z",
     "iopub.status.idle": "2021-10-29T00:22:46.950150Z",
     "shell.execute_reply": "2021-10-29T00:22:46.950604Z"
    },
    "papermill": {
     "duration": 0.044479,
     "end_time": "2021-10-29T00:22:46.950751",
     "exception": false,
     "start_time": "2021-10-29T00:22:46.906272",
     "status": "completed"
    },
    "tags": []
   },
   "outputs": [],
   "source": [
    "#hide\n",
    "#delete problematic countries from table\n",
    "df_table = df_table[~df_table['Country/Region'].isin(['Cape Verde', 'Cruise Ship', 'Kosovo'])]"
   ]
  },
  {
   "cell_type": "code",
   "execution_count": 15,
   "id": "fantastic-effect",
   "metadata": {
    "execution": {
     "iopub.execute_input": "2021-10-29T00:22:47.032633Z",
     "iopub.status.busy": "2021-10-29T00:22:47.031994Z",
     "iopub.status.idle": "2021-10-29T00:22:47.050690Z",
     "shell.execute_reply": "2021-10-29T00:22:47.051230Z"
    },
    "papermill": {
     "duration": 0.065334,
     "end_time": "2021-10-29T00:22:47.051392",
     "exception": false,
     "start_time": "2021-10-29T00:22:46.986058",
     "status": "completed"
    },
    "tags": []
   },
   "outputs": [
    {
     "data": {
      "text/html": [
       "<div>\n",
       "<style scoped>\n",
       "    .dataframe tbody tr th:only-of-type {\n",
       "        vertical-align: middle;\n",
       "    }\n",
       "\n",
       "    .dataframe tbody tr th {\n",
       "        vertical-align: top;\n",
       "    }\n",
       "\n",
       "    .dataframe thead th {\n",
       "        text-align: right;\n",
       "    }\n",
       "</style>\n",
       "<table border=\"1\" class=\"dataframe\">\n",
       "  <thead>\n",
       "    <tr style=\"text-align: right;\">\n",
       "      <th></th>\n",
       "      <th>Country/Region</th>\n",
       "      <th>Cases</th>\n",
       "      <th>Deaths</th>\n",
       "      <th>PCases</th>\n",
       "      <th>PDeaths</th>\n",
       "      <th>Cases (+)</th>\n",
       "      <th>Deaths (+)</th>\n",
       "      <th>Fatality Rate</th>\n",
       "      <th>Continent</th>\n",
       "    </tr>\n",
       "  </thead>\n",
       "  <tbody>\n",
       "    <tr>\n",
       "      <th>0</th>\n",
       "      <td>US</td>\n",
       "      <td>45726714</td>\n",
       "      <td>741582</td>\n",
       "      <td>45627021</td>\n",
       "      <td>739090</td>\n",
       "      <td>99693</td>\n",
       "      <td>2492</td>\n",
       "      <td>1.6</td>\n",
       "      <td>North America</td>\n",
       "    </tr>\n",
       "    <tr>\n",
       "      <th>1</th>\n",
       "      <td>India</td>\n",
       "      <td>34231809</td>\n",
       "      <td>456386</td>\n",
       "      <td>34215653</td>\n",
       "      <td>455653</td>\n",
       "      <td>16156</td>\n",
       "      <td>733</td>\n",
       "      <td>1.3</td>\n",
       "      <td>Asia</td>\n",
       "    </tr>\n",
       "    <tr>\n",
       "      <th>2</th>\n",
       "      <td>Brazil</td>\n",
       "      <td>21766168</td>\n",
       "      <td>606679</td>\n",
       "      <td>21748984</td>\n",
       "      <td>606246</td>\n",
       "      <td>17184</td>\n",
       "      <td>433</td>\n",
       "      <td>2.8</td>\n",
       "      <td>South America</td>\n",
       "    </tr>\n",
       "    <tr>\n",
       "      <th>3</th>\n",
       "      <td>United Kingdom</td>\n",
       "      <td>8938965</td>\n",
       "      <td>140462</td>\n",
       "      <td>8894843</td>\n",
       "      <td>140253</td>\n",
       "      <td>44122</td>\n",
       "      <td>209</td>\n",
       "      <td>1.6</td>\n",
       "      <td>Europe</td>\n",
       "    </tr>\n",
       "    <tr>\n",
       "      <th>4</th>\n",
       "      <td>Russia</td>\n",
       "      <td>8220975</td>\n",
       "      <td>229672</td>\n",
       "      <td>8185400</td>\n",
       "      <td>228581</td>\n",
       "      <td>35575</td>\n",
       "      <td>1091</td>\n",
       "      <td>2.8</td>\n",
       "      <td>Europe</td>\n",
       "    </tr>\n",
       "  </tbody>\n",
       "</table>\n",
       "</div>"
      ],
      "text/plain": [
       "   Country/Region     Cases  Deaths    PCases  PDeaths  Cases (+)  Deaths (+)  \\\n",
       "0              US  45726714  741582  45627021   739090      99693        2492   \n",
       "1           India  34231809  456386  34215653   455653      16156         733   \n",
       "2          Brazil  21766168  606679  21748984   606246      17184         433   \n",
       "3  United Kingdom   8938965  140462   8894843   140253      44122         209   \n",
       "4          Russia   8220975  229672   8185400   228581      35575        1091   \n",
       "\n",
       "   Fatality Rate      Continent  \n",
       "0            1.6  North America  \n",
       "1            1.3           Asia  \n",
       "2            2.8  South America  \n",
       "3            1.6         Europe  \n",
       "4            2.8         Europe  "
      ]
     },
     "execution_count": 15,
     "metadata": {},
     "output_type": "execute_result"
    }
   ],
   "source": [
    "#hide\n",
    "df_table = (pd.DataFrame(dict(Cases=dfc_cases, Deaths=dfc_deaths, PCases=dfp_cases, PDeaths=dfp_deaths))\n",
    "             .sort_values(by=['Cases', 'Deaths'], ascending=[False, False])\n",
    "             .reset_index())\n",
    "df_table.rename(columns={'index': 'Country/Region'}, inplace=True)\n",
    "for c in 'Cases, Deaths'.split(', '):\n",
    "    df_table[f'{c} (+)'] = (df_table[c] - df_table[f'P{c}']).clip(0)  # DATA BUG\n",
    "df_table['Fatality Rate'] = (100 * df_table['Deaths'] / df_table['Cases']).round(1)\n",
    "df_table['Continent'] = df_table['Country/Region'].map(mapping['map.continent'])\n",
    "df_table.head(5)"
   ]
  },
  {
   "cell_type": "code",
   "execution_count": 16,
   "id": "fewer-occasion",
   "metadata": {
    "execution": {
     "iopub.execute_input": "2021-10-29T00:22:47.136013Z",
     "iopub.status.busy": "2021-10-29T00:22:47.135403Z",
     "iopub.status.idle": "2021-10-29T00:22:47.138212Z",
     "shell.execute_reply": "2021-10-29T00:22:47.138783Z"
    },
    "papermill": {
     "duration": 0.05189,
     "end_time": "2021-10-29T00:22:47.138922",
     "exception": false,
     "start_time": "2021-10-29T00:22:47.087032",
     "status": "completed"
    },
    "tags": []
   },
   "outputs": [],
   "source": [
    "#hide\n",
    "#delete problematic countries from table\n",
    "df_table = df_table[~df_table['Country/Region'].isin(['Cape Verde', 'Cruise Ship', 'Kosovo'])]"
   ]
  },
  {
   "cell_type": "code",
   "execution_count": 17,
   "id": "related-center",
   "metadata": {
    "execution": {
     "iopub.execute_input": "2021-10-29T00:22:47.223324Z",
     "iopub.status.busy": "2021-10-29T00:22:47.222724Z",
     "iopub.status.idle": "2021-10-29T00:22:47.233433Z",
     "shell.execute_reply": "2021-10-29T00:22:47.234058Z"
    },
    "papermill": {
     "duration": 0.060311,
     "end_time": "2021-10-29T00:22:47.234217",
     "exception": false,
     "start_time": "2021-10-29T00:22:47.173906",
     "status": "completed"
    },
    "tags": []
   },
   "outputs": [],
   "source": [
    "#hide\n",
    "metrics = [df_table.columns[index] for index in [1,2,5,6]]\n",
    "# s_china = df_table[df_table['Country/Region'].eq('China')][metrics].sum().add_prefix('China ')\n",
    "s_us = df_table[df_table['Country/Region'].eq('US')][metrics].sum().add_prefix('US ')\n",
    "s_eu = df_table[df_table['Continent'].eq('Europe')][metrics].sum().add_prefix('EU ')\n",
    "s_ind = df_table[df_table['Country/Region'].eq('India')][metrics].sum().add_prefix('India ')\n",
    "summary = {'updated': pd.to_datetime(dt_today), 'since': pd.to_datetime(dt_yday)}\n",
    "summary = {'updated': pd.to_datetime(dt_today), 'since': pd.to_datetime(dt_yday)}\n",
    "summary = {**summary, **df_table[metrics].sum(), **s_ind, **s_us, **s_eu}"
   ]
  },
  {
   "cell_type": "code",
   "execution_count": 18,
   "id": "engaging-syndrome",
   "metadata": {
    "execution": {
     "iopub.execute_input": "2021-10-29T00:22:47.315967Z",
     "iopub.status.busy": "2021-10-29T00:22:47.315344Z",
     "iopub.status.idle": "2021-10-29T00:22:47.329974Z",
     "shell.execute_reply": "2021-10-29T00:22:47.330441Z"
    },
    "papermill": {
     "duration": 0.059478,
     "end_time": "2021-10-29T00:22:47.330594",
     "exception": false,
     "start_time": "2021-10-29T00:22:47.271116",
     "status": "completed"
    },
    "tags": []
   },
   "outputs": [],
   "source": [
    "#hide\n",
    "dft_ct_new_cases = dft_cases.groupby(COL_REGION)[dt_cols].sum().diff(axis=1).fillna(0).astype(int)"
   ]
  },
  {
   "cell_type": "code",
   "execution_count": 19,
   "id": "neutral-assignment",
   "metadata": {
    "execution": {
     "iopub.execute_input": "2021-10-29T00:22:47.417369Z",
     "iopub.status.busy": "2021-10-29T00:22:47.416641Z",
     "iopub.status.idle": "2021-10-29T00:22:47.418280Z",
     "shell.execute_reply": "2021-10-29T00:22:47.418795Z"
    },
    "papermill": {
     "duration": 0.052036,
     "end_time": "2021-10-29T00:22:47.418944",
     "exception": false,
     "start_time": "2021-10-29T00:22:47.366908",
     "status": "completed"
    },
    "tags": []
   },
   "outputs": [],
   "source": [
    "#hide\n",
    "everydaycases = dft_ct_new_cases.cumsum(axis=1)"
   ]
  },
  {
   "cell_type": "code",
   "execution_count": 20,
   "id": "parliamentary-calgary",
   "metadata": {
    "execution": {
     "iopub.execute_input": "2021-10-29T00:22:47.496018Z",
     "iopub.status.busy": "2021-10-29T00:22:47.495415Z",
     "iopub.status.idle": "2021-10-29T00:22:48.265434Z",
     "shell.execute_reply": "2021-10-29T00:22:48.264880Z"
    },
    "papermill": {
     "duration": 0.809952,
     "end_time": "2021-10-29T00:22:48.265575",
     "exception": false,
     "start_time": "2021-10-29T00:22:47.455623",
     "status": "completed"
    },
    "tags": []
   },
   "outputs": [],
   "source": [
    "#hide\n",
    "import pandas as pd\n",
    "import matplotlib.pyplot as plt\n",
    "import matplotlib.ticker as ticker\n",
    "import matplotlib.animation as animation\n",
    "from IPython.display import HTML"
   ]
  },
  {
   "cell_type": "code",
   "execution_count": 21,
   "id": "lasting-extraction",
   "metadata": {
    "execution": {
     "iopub.execute_input": "2021-10-29T00:22:48.350313Z",
     "iopub.status.busy": "2021-10-29T00:22:48.349658Z",
     "iopub.status.idle": "2021-10-29T00:22:48.357361Z",
     "shell.execute_reply": "2021-10-29T00:22:48.356881Z"
    },
    "papermill": {
     "duration": 0.054222,
     "end_time": "2021-10-29T00:22:48.357489",
     "exception": false,
     "start_time": "2021-10-29T00:22:48.303267",
     "status": "completed"
    },
    "tags": []
   },
   "outputs": [],
   "source": [
    "#hide\n",
    "t = everydaycases.stack()"
   ]
  },
  {
   "cell_type": "code",
   "execution_count": 22,
   "id": "premier-sleeve",
   "metadata": {
    "execution": {
     "iopub.execute_input": "2021-10-29T00:22:48.435812Z",
     "iopub.status.busy": "2021-10-29T00:22:48.435210Z",
     "iopub.status.idle": "2021-10-29T00:22:48.446957Z",
     "shell.execute_reply": "2021-10-29T00:22:48.446475Z"
    },
    "papermill": {
     "duration": 0.053805,
     "end_time": "2021-10-29T00:22:48.447085",
     "exception": false,
     "start_time": "2021-10-29T00:22:48.393280",
     "status": "completed"
    },
    "tags": []
   },
   "outputs": [],
   "source": [
    "#hide\n",
    "g = t.reset_index(['Country/Region'])"
   ]
  },
  {
   "cell_type": "code",
   "execution_count": 23,
   "id": "distributed-pittsburgh",
   "metadata": {
    "execution": {
     "iopub.execute_input": "2021-10-29T00:22:48.527499Z",
     "iopub.status.busy": "2021-10-29T00:22:48.526740Z",
     "iopub.status.idle": "2021-10-29T00:22:48.529737Z",
     "shell.execute_reply": "2021-10-29T00:22:48.529257Z"
    },
    "papermill": {
     "duration": 0.047365,
     "end_time": "2021-10-29T00:22:48.529865",
     "exception": false,
     "start_time": "2021-10-29T00:22:48.482500",
     "status": "completed"
    },
    "tags": []
   },
   "outputs": [],
   "source": [
    "#hide\n",
    "g.index.name = 'date'"
   ]
  },
  {
   "cell_type": "code",
   "execution_count": 24,
   "id": "naked-donor",
   "metadata": {
    "execution": {
     "iopub.execute_input": "2021-10-29T00:22:48.602205Z",
     "iopub.status.busy": "2021-10-29T00:22:48.601572Z",
     "iopub.status.idle": "2021-10-29T00:22:48.603362Z",
     "shell.execute_reply": "2021-10-29T00:22:48.603910Z"
    },
    "papermill": {
     "duration": 0.039877,
     "end_time": "2021-10-29T00:22:48.604050",
     "exception": false,
     "start_time": "2021-10-29T00:22:48.564173",
     "status": "completed"
    },
    "tags": []
   },
   "outputs": [],
   "source": [
    "# #hide\n",
    "# g = g.reset_index(['date'])"
   ]
  },
  {
   "cell_type": "code",
   "execution_count": 25,
   "id": "incomplete-mustang",
   "metadata": {
    "execution": {
     "iopub.execute_input": "2021-10-29T00:22:48.676875Z",
     "iopub.status.busy": "2021-10-29T00:22:48.676263Z",
     "iopub.status.idle": "2021-10-29T00:22:48.678056Z",
     "shell.execute_reply": "2021-10-29T00:22:48.678538Z"
    },
    "papermill": {
     "duration": 0.040363,
     "end_time": "2021-10-29T00:22:48.678680",
     "exception": false,
     "start_time": "2021-10-29T00:22:48.638317",
     "status": "completed"
    },
    "tags": []
   },
   "outputs": [],
   "source": [
    "#hide\n",
    "# g.head()"
   ]
  },
  {
   "cell_type": "code",
   "execution_count": 26,
   "id": "specific-kruger",
   "metadata": {
    "execution": {
     "iopub.execute_input": "2021-10-29T00:22:48.751807Z",
     "iopub.status.busy": "2021-10-29T00:22:48.751201Z",
     "iopub.status.idle": "2021-10-29T00:22:48.753470Z",
     "shell.execute_reply": "2021-10-29T00:22:48.753943Z"
    },
    "papermill": {
     "duration": 0.040941,
     "end_time": "2021-10-29T00:22:48.754094",
     "exception": false,
     "start_time": "2021-10-29T00:22:48.713153",
     "status": "completed"
    },
    "tags": []
   },
   "outputs": [],
   "source": [
    "#hide\n",
    "# g.columns = ['date','country','cases']"
   ]
  },
  {
   "cell_type": "code",
   "execution_count": 27,
   "id": "tender-conversion",
   "metadata": {
    "execution": {
     "iopub.execute_input": "2021-10-29T00:22:48.827092Z",
     "iopub.status.busy": "2021-10-29T00:22:48.826498Z",
     "iopub.status.idle": "2021-10-29T00:22:48.829209Z",
     "shell.execute_reply": "2021-10-29T00:22:48.829773Z"
    },
    "papermill": {
     "duration": 0.041853,
     "end_time": "2021-10-29T00:22:48.829942",
     "exception": false,
     "start_time": "2021-10-29T00:22:48.788089",
     "status": "completed"
    },
    "tags": []
   },
   "outputs": [],
   "source": [
    "#hide\n",
    "# g['continent'] = g.country"
   ]
  },
  {
   "cell_type": "code",
   "execution_count": 28,
   "id": "substantial-wilderness",
   "metadata": {
    "execution": {
     "iopub.execute_input": "2021-10-29T00:22:48.902790Z",
     "iopub.status.busy": "2021-10-29T00:22:48.902183Z",
     "iopub.status.idle": "2021-10-29T00:22:48.904390Z",
     "shell.execute_reply": "2021-10-29T00:22:48.904866Z"
    },
    "papermill": {
     "duration": 0.04039,
     "end_time": "2021-10-29T00:22:48.905006",
     "exception": false,
     "start_time": "2021-10-29T00:22:48.864616",
     "status": "completed"
    },
    "tags": []
   },
   "outputs": [],
   "source": [
    "#hide\n",
    "# cols = list(g.columns.values)"
   ]
  },
  {
   "cell_type": "code",
   "execution_count": 29,
   "id": "solved-farming",
   "metadata": {
    "execution": {
     "iopub.execute_input": "2021-10-29T00:22:48.977441Z",
     "iopub.status.busy": "2021-10-29T00:22:48.976843Z",
     "iopub.status.idle": "2021-10-29T00:22:48.978978Z",
     "shell.execute_reply": "2021-10-29T00:22:48.979453Z"
    },
    "papermill": {
     "duration": 0.040501,
     "end_time": "2021-10-29T00:22:48.979593",
     "exception": false,
     "start_time": "2021-10-29T00:22:48.939092",
     "status": "completed"
    },
    "tags": []
   },
   "outputs": [],
   "source": [
    "#hide\n",
    "# cols.insert(0, cols.pop())"
   ]
  },
  {
   "cell_type": "code",
   "execution_count": 30,
   "id": "executed-adoption",
   "metadata": {
    "execution": {
     "iopub.execute_input": "2021-10-29T00:22:49.052249Z",
     "iopub.status.busy": "2021-10-29T00:22:49.051631Z",
     "iopub.status.idle": "2021-10-29T00:22:49.053886Z",
     "shell.execute_reply": "2021-10-29T00:22:49.053384Z"
    },
    "papermill": {
     "duration": 0.040123,
     "end_time": "2021-10-29T00:22:49.054033",
     "exception": false,
     "start_time": "2021-10-29T00:22:49.013910",
     "status": "completed"
    },
    "tags": []
   },
   "outputs": [],
   "source": [
    "#hide\n",
    "# g = g[cols]"
   ]
  },
  {
   "cell_type": "code",
   "execution_count": 31,
   "id": "subject-dublin",
   "metadata": {
    "execution": {
     "iopub.execute_input": "2021-10-29T00:22:49.127196Z",
     "iopub.status.busy": "2021-10-29T00:22:49.126603Z",
     "iopub.status.idle": "2021-10-29T00:22:49.129414Z",
     "shell.execute_reply": "2021-10-29T00:22:49.128940Z"
    },
    "papermill": {
     "duration": 0.041305,
     "end_time": "2021-10-29T00:22:49.129539",
     "exception": false,
     "start_time": "2021-10-29T00:22:49.088234",
     "status": "completed"
    },
    "tags": []
   },
   "outputs": [],
   "source": [
    "#hide\n",
    "# g['continent'] = g['continent'].map(mapping['map.continent'])"
   ]
  },
  {
   "cell_type": "code",
   "execution_count": 32,
   "id": "freelance-scout",
   "metadata": {
    "execution": {
     "iopub.execute_input": "2021-10-29T00:22:49.203139Z",
     "iopub.status.busy": "2021-10-29T00:22:49.202541Z",
     "iopub.status.idle": "2021-10-29T00:22:49.205199Z",
     "shell.execute_reply": "2021-10-29T00:22:49.205754Z"
    },
    "papermill": {
     "duration": 0.04218,
     "end_time": "2021-10-29T00:22:49.206010",
     "exception": false,
     "start_time": "2021-10-29T00:22:49.163830",
     "status": "completed"
    },
    "tags": []
   },
   "outputs": [],
   "source": [
    "#hide\n",
    "# g.head()"
   ]
  },
  {
   "cell_type": "code",
   "execution_count": 33,
   "id": "limited-engine",
   "metadata": {
    "execution": {
     "iopub.execute_input": "2021-10-29T00:22:49.285480Z",
     "iopub.status.busy": "2021-10-29T00:22:49.284870Z",
     "iopub.status.idle": "2021-10-29T00:22:49.287412Z",
     "shell.execute_reply": "2021-10-29T00:22:49.287889Z"
    },
    "papermill": {
     "duration": 0.043825,
     "end_time": "2021-10-29T00:22:49.288038",
     "exception": false,
     "start_time": "2021-10-29T00:22:49.244213",
     "status": "completed"
    },
    "tags": []
   },
   "outputs": [],
   "source": [
    "# hide\n",
    "# g['date'] = g['date'].astype('datetime64[ns]')"
   ]
  },
  {
   "cell_type": "code",
   "execution_count": 34,
   "id": "sophisticated-supervisor",
   "metadata": {
    "execution": {
     "iopub.execute_input": "2021-10-29T00:22:49.361661Z",
     "iopub.status.busy": "2021-10-29T00:22:49.361051Z",
     "iopub.status.idle": "2021-10-29T00:22:49.363733Z",
     "shell.execute_reply": "2021-10-29T00:22:49.363254Z"
    },
    "papermill": {
     "duration": 0.041257,
     "end_time": "2021-10-29T00:22:49.363862",
     "exception": false,
     "start_time": "2021-10-29T00:22:49.322605",
     "status": "completed"
    },
    "tags": []
   },
   "outputs": [],
   "source": [
    "#hide\n",
    "# g['date'] = g.date.dt.dayofyear"
   ]
  },
  {
   "cell_type": "code",
   "execution_count": 35,
   "id": "inside-dubai",
   "metadata": {
    "execution": {
     "iopub.execute_input": "2021-10-29T00:22:49.437125Z",
     "iopub.status.busy": "2021-10-29T00:22:49.436502Z",
     "iopub.status.idle": "2021-10-29T00:22:49.440285Z",
     "shell.execute_reply": "2021-10-29T00:22:49.440783Z"
    },
    "papermill": {
     "duration": 0.042717,
     "end_time": "2021-10-29T00:22:49.440937",
     "exception": false,
     "start_time": "2021-10-29T00:22:49.398220",
     "status": "completed"
    },
    "tags": []
   },
   "outputs": [],
   "source": [
    "#hide\n",
    "# g = g.rename(columns= {'continent':'group','country':'name','cases':'value'})"
   ]
  },
  {
   "cell_type": "code",
   "execution_count": 36,
   "id": "fleet-motorcycle",
   "metadata": {
    "execution": {
     "iopub.execute_input": "2021-10-29T00:22:49.514423Z",
     "iopub.status.busy": "2021-10-29T00:22:49.513763Z",
     "iopub.status.idle": "2021-10-29T00:22:49.515698Z",
     "shell.execute_reply": "2021-10-29T00:22:49.516146Z"
    },
    "papermill": {
     "duration": 0.040692,
     "end_time": "2021-10-29T00:22:49.516299",
     "exception": false,
     "start_time": "2021-10-29T00:22:49.475607",
     "status": "completed"
    },
    "tags": []
   },
   "outputs": [],
   "source": [
    "#hide\n",
    "# cols = ['name','group','day','value']"
   ]
  },
  {
   "cell_type": "code",
   "execution_count": 37,
   "id": "continued-sleeping",
   "metadata": {
    "execution": {
     "iopub.execute_input": "2021-10-29T00:22:49.589651Z",
     "iopub.status.busy": "2021-10-29T00:22:49.589046Z",
     "iopub.status.idle": "2021-10-29T00:22:49.591383Z",
     "shell.execute_reply": "2021-10-29T00:22:49.590873Z"
    },
    "papermill": {
     "duration": 0.040607,
     "end_time": "2021-10-29T00:22:49.591508",
     "exception": false,
     "start_time": "2021-10-29T00:22:49.550901",
     "status": "completed"
    },
    "tags": []
   },
   "outputs": [],
   "source": [
    "#hide\n",
    "# g.rename(columns= {'date':'day'},inplace = True)"
   ]
  },
  {
   "cell_type": "code",
   "execution_count": 38,
   "id": "major-fight",
   "metadata": {
    "execution": {
     "iopub.execute_input": "2021-10-29T00:22:49.665301Z",
     "iopub.status.busy": "2021-10-29T00:22:49.664691Z",
     "iopub.status.idle": "2021-10-29T00:22:49.666862Z",
     "shell.execute_reply": "2021-10-29T00:22:49.667444Z"
    },
    "papermill": {
     "duration": 0.041404,
     "end_time": "2021-10-29T00:22:49.667592",
     "exception": false,
     "start_time": "2021-10-29T00:22:49.626188",
     "status": "completed"
    },
    "tags": []
   },
   "outputs": [],
   "source": [
    "#hide\n",
    "# g = g[cols]"
   ]
  },
  {
   "cell_type": "code",
   "execution_count": 39,
   "id": "structured-mobile",
   "metadata": {
    "execution": {
     "iopub.execute_input": "2021-10-29T00:22:49.741259Z",
     "iopub.status.busy": "2021-10-29T00:22:49.740651Z",
     "iopub.status.idle": "2021-10-29T00:22:49.745413Z",
     "shell.execute_reply": "2021-10-29T00:22:49.744900Z"
    },
    "papermill": {
     "duration": 0.043829,
     "end_time": "2021-10-29T00:22:49.745548",
     "exception": false,
     "start_time": "2021-10-29T00:22:49.701719",
     "status": "completed"
    },
    "tags": []
   },
   "outputs": [],
   "source": [
    "# #hide\n",
    "# g = g[g.group.notna()]"
   ]
  },
  {
   "cell_type": "code",
   "execution_count": 40,
   "id": "determined-closing",
   "metadata": {
    "execution": {
     "iopub.execute_input": "2021-10-29T00:22:49.819849Z",
     "iopub.status.busy": "2021-10-29T00:22:49.819178Z",
     "iopub.status.idle": "2021-10-29T00:22:49.821389Z",
     "shell.execute_reply": "2021-10-29T00:22:49.820790Z"
    },
    "papermill": {
     "duration": 0.041416,
     "end_time": "2021-10-29T00:22:49.821516",
     "exception": false,
     "start_time": "2021-10-29T00:22:49.780100",
     "status": "completed"
    },
    "tags": []
   },
   "outputs": [],
   "source": [
    "# #hide\n",
    "# colors = dict(zip(\n",
    "#     [\"Oceania\", \"Europe\", \"Asia\", \"South America\", \"Middle East\", \"North America\", \"Africa\"],\n",
    "#     [\"#adb0ff\", \"#ffb3ff\", \"#90d595\", \"#e48381\", \"#aafbff\", \"#f7bb5f\", \"#eafb50\"]\n",
    "# ))\n",
    "# group_lk = g.set_index('name')['group'].to_dict()"
   ]
  },
  {
   "cell_type": "code",
   "execution_count": null,
   "id": "gross-drinking",
   "metadata": {
    "papermill": {
     "duration": 0.034422,
     "end_time": "2021-10-29T00:22:49.890490",
     "exception": false,
     "start_time": "2021-10-29T00:22:49.856068",
     "status": "completed"
    },
    "tags": []
   },
   "outputs": [],
   "source": []
  },
  {
   "cell_type": "code",
   "execution_count": 41,
   "id": "subject-macintosh",
   "metadata": {
    "execution": {
     "iopub.execute_input": "2021-10-29T00:22:49.964814Z",
     "iopub.status.busy": "2021-10-29T00:22:49.964195Z",
     "iopub.status.idle": "2021-10-29T00:22:49.967420Z",
     "shell.execute_reply": "2021-10-29T00:22:49.966933Z"
    },
    "papermill": {
     "duration": 0.042572,
     "end_time": "2021-10-29T00:22:49.967548",
     "exception": false,
     "start_time": "2021-10-29T00:22:49.924976",
     "status": "completed"
    },
    "tags": []
   },
   "outputs": [],
   "source": [
    "# #hide\n",
    "# fig, ax = plt.subplots(figsize=(15, 8))\n",
    "\n",
    "# def draw_barchart(current_day):\n",
    "#     dff = g[g['day'].eq(current_day)].sort_values(by='value', ascending=True).tail(10)\n",
    "#     ax.clear()\n",
    "#     ax.barh(dff['name'], dff['value'], color=[colors[group_lk[x]] for x in dff['name']])\n",
    "#     dx = dff['value'].max() / 200\n",
    "    \n",
    "#     for i, (value, name) in enumerate(zip(dff['value'], dff['name'])):\n",
    "#         ax.text(value-dx, i,     name,           size=14, weight=600, ha='right', va='bottom')\n",
    "#         ax.text(value-dx, i-.25, group_lk[name], size=10, color='#444444', ha='right', va='baseline')\n",
    "#         ax.text(value+dx, i,     f'{value:,.0f}',  size=14, ha='left',  va='center')\n",
    "#     ax.text(1, 0.4, current_day, transform=ax.transAxes, color='#777777', size=46, ha='right', weight=800)\n",
    "#     ax.text(0, 1.06, 'Population (thousands)', transform=ax.transAxes, size=12, color='#777777')\n",
    "#     ax.xaxis.set_major_formatter(ticker.StrMethodFormatter('{x:,.0f}'))\n",
    "#     ax.xaxis.set_ticks_position('top')\n",
    "#     ax.tick_params(axis='x', colors='#777777', labelsize=12)\n",
    "#     ax.set_yticks([])\n",
    "#     ax.margins(0, 0.01)\n",
    "#     ax.grid(which='major', axis='x', linestyle='-')\n",
    "#     ax.set_axisbelow(True)\n",
    "    \n",
    "#     ax.text(0, 1.15, 'Coronavirus',\n",
    "#             transform=ax.transAxes, size=24, weight=600, ha='left', va='top')\n",
    "# #     ax.text(1, 0, 'by @pratapvardhan; credit @jburnmurdoch', transform=ax.transAxes, color='#777777', ha='right',\n",
    "# #             bbox=dict(facecolor='white', alpha=0.8, edgecolor='white'))\n",
    "#     plt.box(False)"
   ]
  },
  {
   "cell_type": "code",
   "execution_count": 42,
   "id": "sexual-wages",
   "metadata": {
    "execution": {
     "iopub.execute_input": "2021-10-29T00:22:50.040765Z",
     "iopub.status.busy": "2021-10-29T00:22:50.040137Z",
     "iopub.status.idle": "2021-10-29T00:22:50.042356Z",
     "shell.execute_reply": "2021-10-29T00:22:50.041738Z"
    },
    "papermill": {
     "duration": 0.040632,
     "end_time": "2021-10-29T00:22:50.042481",
     "exception": false,
     "start_time": "2021-10-29T00:22:50.001849",
     "status": "completed"
    },
    "tags": []
   },
   "outputs": [],
   "source": [
    "# #hide_input\n",
    "# fig, ax = plt.subplots(figsize=(15, 8))\n",
    "# animator = animation.FuncAnimation(fig, draw_barchart, frames=range(g.day.values.min(), g.day.values.max()))\n",
    "# HTML(animator.to_jshtml())\n",
    "# # or use animator.to_html5_video() or animator.save() "
   ]
  },
  {
   "cell_type": "code",
   "execution_count": null,
   "id": "australian-container",
   "metadata": {
    "papermill": {
     "duration": 0.034253,
     "end_time": "2021-10-29T00:22:50.111397",
     "exception": false,
     "start_time": "2021-10-29T00:22:50.077144",
     "status": "completed"
    },
    "tags": []
   },
   "outputs": [],
   "source": []
  },
  {
   "cell_type": "code",
   "execution_count": null,
   "id": "mediterranean-pontiac",
   "metadata": {
    "papermill": {
     "duration": 0.034229,
     "end_time": "2021-10-29T00:22:50.179781",
     "exception": false,
     "start_time": "2021-10-29T00:22:50.145552",
     "status": "completed"
    },
    "tags": []
   },
   "outputs": [],
   "source": []
  },
  {
   "cell_type": "code",
   "execution_count": null,
   "id": "aging-legislature",
   "metadata": {
    "papermill": {
     "duration": 0.034464,
     "end_time": "2021-10-29T00:22:50.248689",
     "exception": false,
     "start_time": "2021-10-29T00:22:50.214225",
     "status": "completed"
    },
    "tags": []
   },
   "outputs": [],
   "source": []
  }
 ],
 "metadata": {
  "kernelspec": {
   "display_name": "Python 3",
   "language": "python",
   "name": "python3"
  },
  "language_info": {
   "codemirror_mode": {
    "name": "ipython",
    "version": 3
   },
   "file_extension": ".py",
   "mimetype": "text/x-python",
   "name": "python",
   "nbconvert_exporter": "python",
   "pygments_lexer": "ipython3",
   "version": "3.6.15"
  },
  "papermill": {
   "duration": 6.74158,
   "end_time": "2021-10-29T00:22:50.592353",
   "environment_variables": {},
   "exception": null,
   "input_path": "2020-03-21-covid19exp.ipynb",
   "output_path": "2020-03-21-covid19exp.ipynb",
   "parameters": {},
   "start_time": "2021-10-29T00:22:43.850773",
   "version": "2.0.0"
  }
 },
 "nbformat": 4,
 "nbformat_minor": 5
}