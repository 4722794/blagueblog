{
 "cells": [
  {
   "cell_type": "markdown",
   "id": "muslim-click",
   "metadata": {
    "papermill": {
     "duration": 0.051187,
     "end_time": "2021-03-02T12:06:26.231523",
     "exception": false,
     "start_time": "2021-03-02T12:06:26.180336",
     "status": "completed"
    },
    "tags": []
   },
   "source": [
    "# COVID-19 Case Race\n",
    "> A race chart to see rising cases around the world\n",
    "\n",
    "- author: Hargun Oberoi\n",
    "- image: images/covid-overview.png\n",
    "- hide: false\n",
    "- badges: false"
   ]
  },
  {
   "cell_type": "code",
   "execution_count": 1,
   "id": "proof-material",
   "metadata": {
    "execution": {
     "iopub.execute_input": "2021-03-02T12:06:26.334544Z",
     "iopub.status.busy": "2021-03-02T12:06:26.333867Z",
     "iopub.status.idle": "2021-03-02T12:06:26.678406Z",
     "shell.execute_reply": "2021-03-02T12:06:26.677515Z"
    },
    "papermill": {
     "duration": 0.397793,
     "end_time": "2021-03-02T12:06:26.678562",
     "exception": false,
     "start_time": "2021-03-02T12:06:26.280769",
     "status": "completed"
    },
    "tags": []
   },
   "outputs": [],
   "source": [
    "#hide\n",
    "import numpy as np\n",
    "import pandas as pd\n",
    "from jinja2 import Template\n",
    "from IPython.display import HTML"
   ]
  },
  {
   "cell_type": "code",
   "execution_count": 2,
   "id": "developed-terminology",
   "metadata": {
    "execution": {
     "iopub.execute_input": "2021-03-02T12:06:26.763987Z",
     "iopub.status.busy": "2021-03-02T12:06:26.762900Z",
     "iopub.status.idle": "2021-03-02T12:06:26.766750Z",
     "shell.execute_reply": "2021-03-02T12:06:26.767197Z"
    },
    "papermill": {
     "duration": 0.045385,
     "end_time": "2021-03-02T12:06:26.767346",
     "exception": false,
     "start_time": "2021-03-02T12:06:26.721961",
     "status": "completed"
    },
    "tags": []
   },
   "outputs": [],
   "source": [
    "#hide\n",
    "\n",
    "# FETCH\n",
    "base_url = 'https://raw.githubusercontent.com/pratapvardhan/notebooks/master/covid19/'\n",
    "paths = {\n",
    "    'mapping': base_url + 'mapping_countries.csv',\n",
    "    'overview': base_url + 'overview.tpl'\n",
    "}"
   ]
  },
  {
   "cell_type": "code",
   "execution_count": 3,
   "id": "dynamic-saver",
   "metadata": {
    "execution": {
     "iopub.execute_input": "2021-03-02T12:06:26.844200Z",
     "iopub.status.busy": "2021-03-02T12:06:26.843578Z",
     "iopub.status.idle": "2021-03-02T12:06:26.845899Z",
     "shell.execute_reply": "2021-03-02T12:06:26.846466Z"
    },
    "papermill": {
     "duration": 0.045984,
     "end_time": "2021-03-02T12:06:26.846612",
     "exception": false,
     "start_time": "2021-03-02T12:06:26.800628",
     "status": "completed"
    },
    "tags": []
   },
   "outputs": [
    {
     "data": {
      "text/plain": [
       "'https://raw.githubusercontent.com/pratapvardhan/notebooks/master/covid19/mapping_countries.csv'"
      ]
     },
     "execution_count": 3,
     "metadata": {},
     "output_type": "execute_result"
    }
   ],
   "source": [
    "#hide\n",
    "paths['mapping']"
   ]
  },
  {
   "cell_type": "code",
   "execution_count": 4,
   "id": "urban-software",
   "metadata": {
    "execution": {
     "iopub.execute_input": "2021-03-02T12:06:26.920950Z",
     "iopub.status.busy": "2021-03-02T12:06:26.920356Z",
     "iopub.status.idle": "2021-03-02T12:06:26.922542Z",
     "shell.execute_reply": "2021-03-02T12:06:26.921939Z"
    },
    "papermill": {
     "duration": 0.042329,
     "end_time": "2021-03-02T12:06:26.922666",
     "exception": false,
     "start_time": "2021-03-02T12:06:26.880337",
     "status": "completed"
    },
    "tags": []
   },
   "outputs": [],
   "source": [
    "#hide\n",
    "def get_mappings(url):\n",
    "    df = pd.read_csv(url)\n",
    "    return {\n",
    "        'df': df,\n",
    "        'replace.country': dict(df.dropna(subset=['Name']).set_index('Country')['Name']),\n",
    "        'map.continent': dict(df.set_index('Name')['Continent'])\n",
    "    }"
   ]
  },
  {
   "cell_type": "code",
   "execution_count": 5,
   "id": "intimate-machinery",
   "metadata": {
    "execution": {
     "iopub.execute_input": "2021-03-02T12:06:26.996818Z",
     "iopub.status.busy": "2021-03-02T12:06:26.996223Z",
     "iopub.status.idle": "2021-03-02T12:06:27.056030Z",
     "shell.execute_reply": "2021-03-02T12:06:27.055523Z"
    },
    "papermill": {
     "duration": 0.100245,
     "end_time": "2021-03-02T12:06:27.056163",
     "exception": false,
     "start_time": "2021-03-02T12:06:26.955918",
     "status": "completed"
    },
    "tags": []
   },
   "outputs": [],
   "source": [
    "#hide\n",
    "mapping = get_mappings(paths['mapping'])"
   ]
  },
  {
   "cell_type": "code",
   "execution_count": 6,
   "id": "certified-tactics",
   "metadata": {
    "execution": {
     "iopub.execute_input": "2021-03-02T12:06:27.131348Z",
     "iopub.status.busy": "2021-03-02T12:06:27.130740Z",
     "iopub.status.idle": "2021-03-02T12:06:27.133351Z",
     "shell.execute_reply": "2021-03-02T12:06:27.132848Z"
    },
    "papermill": {
     "duration": 0.043025,
     "end_time": "2021-03-02T12:06:27.133476",
     "exception": false,
     "start_time": "2021-03-02T12:06:27.090451",
     "status": "completed"
    },
    "tags": []
   },
   "outputs": [],
   "source": [
    "#hide\n",
    "def get_template(path):\n",
    "    from urllib.parse import urlparse\n",
    "    if bool(urlparse(path).netloc):\n",
    "        from urllib.request import urlopen\n",
    "        return urlopen(path).read().decode('utf8')\n",
    "    return open(path).read()"
   ]
  },
  {
   "cell_type": "code",
   "execution_count": 7,
   "id": "realistic-blast",
   "metadata": {
    "execution": {
     "iopub.execute_input": "2021-03-02T12:06:27.206383Z",
     "iopub.status.busy": "2021-03-02T12:06:27.205764Z",
     "iopub.status.idle": "2021-03-02T12:06:27.207503Z",
     "shell.execute_reply": "2021-03-02T12:06:27.207943Z"
    },
    "papermill": {
     "duration": 0.041022,
     "end_time": "2021-03-02T12:06:27.208086",
     "exception": false,
     "start_time": "2021-03-02T12:06:27.167064",
     "status": "completed"
    },
    "tags": []
   },
   "outputs": [],
   "source": [
    "#hide\n",
    "def get_frame(name):\n",
    "    url = (\n",
    "        'https://raw.githubusercontent.com/CSSEGISandData/COVID-19/master/csse_covid_19_data/'\n",
    "        f'csse_covid_19_time_series/time_series_covid19_{name}_global.csv')\n",
    "    df = pd.read_csv(url)\n",
    "    # rename countries\n",
    "    df['Country/Region'] = df['Country/Region'].replace(mapping['replace.country'])\n",
    "    return df"
   ]
  },
  {
   "cell_type": "code",
   "execution_count": 8,
   "id": "affiliated-characterization",
   "metadata": {
    "execution": {
     "iopub.execute_input": "2021-03-02T12:06:27.281884Z",
     "iopub.status.busy": "2021-03-02T12:06:27.281291Z",
     "iopub.status.idle": "2021-03-02T12:06:27.283045Z",
     "shell.execute_reply": "2021-03-02T12:06:27.283540Z"
    },
    "papermill": {
     "duration": 0.041383,
     "end_time": "2021-03-02T12:06:27.283679",
     "exception": false,
     "start_time": "2021-03-02T12:06:27.242296",
     "status": "completed"
    },
    "tags": []
   },
   "outputs": [],
   "source": [
    "#hide\n",
    "def get_dates(df):\n",
    "    dt_cols = df.columns[~df.columns.isin(['Province/State', 'Country/Region', 'Lat', 'Long'])]\n",
    "    LAST_DATE_I = -1\n",
    "    # sometimes last column may be empty, then go backwards\n",
    "    for i in range(-1, -len(dt_cols), -1):\n",
    "        if not df[dt_cols[i]].fillna(0).eq(0).all():\n",
    "            LAST_DATE_I = i\n",
    "            break\n",
    "    return LAST_DATE_I, dt_cols"
   ]
  },
  {
   "cell_type": "code",
   "execution_count": 9,
   "id": "recent-optimization",
   "metadata": {
    "execution": {
     "iopub.execute_input": "2021-03-02T12:06:27.358316Z",
     "iopub.status.busy": "2021-03-02T12:06:27.357677Z",
     "iopub.status.idle": "2021-03-02T12:06:27.850253Z",
     "shell.execute_reply": "2021-03-02T12:06:27.849512Z"
    },
    "papermill": {
     "duration": 0.533091,
     "end_time": "2021-03-02T12:06:27.850439",
     "exception": false,
     "start_time": "2021-03-02T12:06:27.317348",
     "status": "completed"
    },
    "tags": []
   },
   "outputs": [],
   "source": [
    "#hide\n",
    "COL_REGION = 'Country/Region'\n",
    "# Confirmed, Recovered, Deaths\n",
    "df = get_frame('confirmed')\n",
    "# dft_: timeseries, dfc_: today country agg\n",
    "dft_cases = df\n",
    "dft_deaths = get_frame('deaths')\n",
    "dft_recovered = get_frame('recovered')\n",
    "LAST_DATE_I, dt_cols = get_dates(df)"
   ]
  },
  {
   "cell_type": "code",
   "execution_count": 10,
   "id": "absolute-copper",
   "metadata": {
    "execution": {
     "iopub.execute_input": "2021-03-02T12:06:27.926939Z",
     "iopub.status.busy": "2021-03-02T12:06:27.926347Z",
     "iopub.status.idle": "2021-03-02T12:06:27.928799Z",
     "shell.execute_reply": "2021-03-02T12:06:27.928289Z"
    },
    "papermill": {
     "duration": 0.043758,
     "end_time": "2021-03-02T12:06:27.928921",
     "exception": false,
     "start_time": "2021-03-02T12:06:27.885163",
     "status": "completed"
    },
    "tags": []
   },
   "outputs": [],
   "source": [
    "#hide\n",
    "LAST_DATE_I, dt_cols = get_dates(df)\n",
    "dt_today =dt_cols[LAST_DATE_I]\n",
    "# dt_5day = dt_cols[LAST_DATE_I - 5]\n",
    "dt_yday = dt_cols[LAST_DATE_I - 1]"
   ]
  },
  {
   "cell_type": "code",
   "execution_count": 11,
   "id": "restricted-sheriff",
   "metadata": {
    "execution": {
     "iopub.execute_input": "2021-03-02T12:06:28.005678Z",
     "iopub.status.busy": "2021-03-02T12:06:28.004921Z",
     "iopub.status.idle": "2021-03-02T12:06:28.013128Z",
     "shell.execute_reply": "2021-03-02T12:06:28.012653Z"
    },
    "papermill": {
     "duration": 0.049689,
     "end_time": "2021-03-02T12:06:28.013254",
     "exception": false,
     "start_time": "2021-03-02T12:06:27.963565",
     "status": "completed"
    },
    "tags": []
   },
   "outputs": [],
   "source": [
    "#hide\n",
    "dfc_cases = dft_cases.groupby(COL_REGION)[dt_today].sum()\n",
    "dfc_deaths = dft_deaths.groupby(COL_REGION)[dt_today].sum()\n",
    "# dfp_cases = dft_cases.groupby(COL_REGION)[dt_5day].sum()\n",
    "# dfp_deaths = dft_deaths.groupby(COL_REGION)[dt_5day].sum()\n",
    "dfp_cases = dft_cases.groupby(COL_REGION)[dt_yday].sum()\n",
    "dfp_deaths = dft_deaths.groupby(COL_REGION)[dt_yday].sum()"
   ]
  },
  {
   "cell_type": "code",
   "execution_count": 12,
   "id": "deluxe-hepatitis",
   "metadata": {
    "execution": {
     "iopub.execute_input": "2021-03-02T12:06:28.093885Z",
     "iopub.status.busy": "2021-03-02T12:06:28.093283Z",
     "iopub.status.idle": "2021-03-02T12:06:28.098910Z",
     "shell.execute_reply": "2021-03-02T12:06:28.099365Z"
    },
    "papermill": {
     "duration": 0.051119,
     "end_time": "2021-03-02T12:06:28.099521",
     "exception": false,
     "start_time": "2021-03-02T12:06:28.048402",
     "status": "completed"
    },
    "tags": []
   },
   "outputs": [],
   "source": [
    "#hide\n",
    "df_table = (pd.DataFrame(dict(Cases = dfc_cases, Deaths = dfc_deaths, PCases = dfp_cases, PDeaths = dfp_deaths))\n",
    "            .sort_values(by = ['Cases','Deaths'], ascending = [False, False])\n",
    "            .reset_index())"
   ]
  },
  {
   "cell_type": "code",
   "execution_count": 13,
   "id": "educational-chancellor",
   "metadata": {
    "execution": {
     "iopub.execute_input": "2021-03-02T12:06:28.193622Z",
     "iopub.status.busy": "2021-03-02T12:06:28.192999Z",
     "iopub.status.idle": "2021-03-02T12:06:28.200868Z",
     "shell.execute_reply": "2021-03-02T12:06:28.200338Z"
    },
    "papermill": {
     "duration": 0.064639,
     "end_time": "2021-03-02T12:06:28.200992",
     "exception": false,
     "start_time": "2021-03-02T12:06:28.136353",
     "status": "completed"
    },
    "tags": []
   },
   "outputs": [
    {
     "data": {
      "text/html": [
       "<div>\n",
       "<style scoped>\n",
       "    .dataframe tbody tr th:only-of-type {\n",
       "        vertical-align: middle;\n",
       "    }\n",
       "\n",
       "    .dataframe tbody tr th {\n",
       "        vertical-align: top;\n",
       "    }\n",
       "\n",
       "    .dataframe thead th {\n",
       "        text-align: right;\n",
       "    }\n",
       "</style>\n",
       "<table border=\"1\" class=\"dataframe\">\n",
       "  <thead>\n",
       "    <tr style=\"text-align: right;\">\n",
       "      <th></th>\n",
       "      <th>Country/Region</th>\n",
       "      <th>Cases</th>\n",
       "      <th>Deaths</th>\n",
       "      <th>PCases</th>\n",
       "      <th>PDeaths</th>\n",
       "      <th>Cases (+)</th>\n",
       "      <th>Deaths (+)</th>\n",
       "      <th>Fatality Rate</th>\n",
       "      <th>Continent</th>\n",
       "    </tr>\n",
       "  </thead>\n",
       "  <tbody>\n",
       "    <tr>\n",
       "      <th>0</th>\n",
       "      <td>US</td>\n",
       "      <td>28664481</td>\n",
       "      <td>514657</td>\n",
       "      <td>28605669</td>\n",
       "      <td>513091</td>\n",
       "      <td>58812</td>\n",
       "      <td>1566</td>\n",
       "      <td>1.80</td>\n",
       "      <td>North America</td>\n",
       "    </tr>\n",
       "    <tr>\n",
       "      <th>1</th>\n",
       "      <td>India</td>\n",
       "      <td>11124527</td>\n",
       "      <td>157248</td>\n",
       "      <td>11112241</td>\n",
       "      <td>157157</td>\n",
       "      <td>12286</td>\n",
       "      <td>91</td>\n",
       "      <td>1.41</td>\n",
       "      <td>Asia</td>\n",
       "    </tr>\n",
       "    <tr>\n",
       "      <th>2</th>\n",
       "      <td>Brazil</td>\n",
       "      <td>10587001</td>\n",
       "      <td>255720</td>\n",
       "      <td>10551259</td>\n",
       "      <td>254942</td>\n",
       "      <td>35742</td>\n",
       "      <td>778</td>\n",
       "      <td>2.42</td>\n",
       "      <td>South America</td>\n",
       "    </tr>\n",
       "    <tr>\n",
       "      <th>3</th>\n",
       "      <td>Russia</td>\n",
       "      <td>4209850</td>\n",
       "      <td>85025</td>\n",
       "      <td>4198400</td>\n",
       "      <td>84700</td>\n",
       "      <td>11450</td>\n",
       "      <td>325</td>\n",
       "      <td>2.02</td>\n",
       "      <td>Europe</td>\n",
       "    </tr>\n",
       "    <tr>\n",
       "      <th>4</th>\n",
       "      <td>United Kingdom</td>\n",
       "      <td>4194289</td>\n",
       "      <td>123187</td>\n",
       "      <td>4188827</td>\n",
       "      <td>123083</td>\n",
       "      <td>5462</td>\n",
       "      <td>104</td>\n",
       "      <td>2.94</td>\n",
       "      <td>Europe</td>\n",
       "    </tr>\n",
       "  </tbody>\n",
       "</table>\n",
       "</div>"
      ],
      "text/plain": [
       "   Country/Region     Cases  Deaths    PCases  PDeaths  Cases (+)  Deaths (+)  \\\n",
       "0              US  28664481  514657  28605669   513091      58812        1566   \n",
       "1           India  11124527  157248  11112241   157157      12286          91   \n",
       "2          Brazil  10587001  255720  10551259   254942      35742         778   \n",
       "3          Russia   4209850   85025   4198400    84700      11450         325   \n",
       "4  United Kingdom   4194289  123187   4188827   123083       5462         104   \n",
       "\n",
       "   Fatality Rate      Continent  \n",
       "0           1.80  North America  \n",
       "1           1.41           Asia  \n",
       "2           2.42  South America  \n",
       "3           2.02         Europe  \n",
       "4           2.94         Europe  "
      ]
     },
     "execution_count": 13,
     "metadata": {},
     "output_type": "execute_result"
    }
   ],
   "source": [
    "#hide\n",
    "for c in 'Cases, Deaths'.split(', '):\n",
    "    df_table[f'{c} (+)'] = (df_table[c] - df_table[f'P{c}']).clip(0)\n",
    "    #Clip ça veut dire, les chiffres negatif sont interdit\n",
    "df_table['Fatality Rate'] = (100* df_table['Deaths']/ df_table['Cases']).round(2)\n",
    "df_table['Continent'] = df_table['Country/Region'].map(mapping['map.continent'])\n",
    "df_table.head(5)"
   ]
  },
  {
   "cell_type": "code",
   "execution_count": 14,
   "id": "aboriginal-bulgaria",
   "metadata": {
    "execution": {
     "iopub.execute_input": "2021-03-02T12:06:28.297810Z",
     "iopub.status.busy": "2021-03-02T12:06:28.297204Z",
     "iopub.status.idle": "2021-03-02T12:06:28.299740Z",
     "shell.execute_reply": "2021-03-02T12:06:28.300263Z"
    },
    "papermill": {
     "duration": 0.053635,
     "end_time": "2021-03-02T12:06:28.300408",
     "exception": false,
     "start_time": "2021-03-02T12:06:28.246773",
     "status": "completed"
    },
    "tags": []
   },
   "outputs": [],
   "source": [
    "#hide\n",
    "#delete problematic countries from table\n",
    "df_table = df_table[~df_table['Country/Region'].isin(['Cape Verde', 'Cruise Ship', 'Kosovo'])]"
   ]
  },
  {
   "cell_type": "code",
   "execution_count": 15,
   "id": "fantastic-effect",
   "metadata": {
    "execution": {
     "iopub.execute_input": "2021-03-02T12:06:28.385507Z",
     "iopub.status.busy": "2021-03-02T12:06:28.384879Z",
     "iopub.status.idle": "2021-03-02T12:06:28.402447Z",
     "shell.execute_reply": "2021-03-02T12:06:28.401912Z"
    },
    "papermill": {
     "duration": 0.066367,
     "end_time": "2021-03-02T12:06:28.402580",
     "exception": false,
     "start_time": "2021-03-02T12:06:28.336213",
     "status": "completed"
    },
    "tags": []
   },
   "outputs": [
    {
     "data": {
      "text/html": [
       "<div>\n",
       "<style scoped>\n",
       "    .dataframe tbody tr th:only-of-type {\n",
       "        vertical-align: middle;\n",
       "    }\n",
       "\n",
       "    .dataframe tbody tr th {\n",
       "        vertical-align: top;\n",
       "    }\n",
       "\n",
       "    .dataframe thead th {\n",
       "        text-align: right;\n",
       "    }\n",
       "</style>\n",
       "<table border=\"1\" class=\"dataframe\">\n",
       "  <thead>\n",
       "    <tr style=\"text-align: right;\">\n",
       "      <th></th>\n",
       "      <th>Country/Region</th>\n",
       "      <th>Cases</th>\n",
       "      <th>Deaths</th>\n",
       "      <th>PCases</th>\n",
       "      <th>PDeaths</th>\n",
       "      <th>Cases (+)</th>\n",
       "      <th>Deaths (+)</th>\n",
       "      <th>Fatality Rate</th>\n",
       "      <th>Continent</th>\n",
       "    </tr>\n",
       "  </thead>\n",
       "  <tbody>\n",
       "    <tr>\n",
       "      <th>0</th>\n",
       "      <td>US</td>\n",
       "      <td>28664481</td>\n",
       "      <td>514657</td>\n",
       "      <td>28605669</td>\n",
       "      <td>513091</td>\n",
       "      <td>58812</td>\n",
       "      <td>1566</td>\n",
       "      <td>1.8</td>\n",
       "      <td>North America</td>\n",
       "    </tr>\n",
       "    <tr>\n",
       "      <th>1</th>\n",
       "      <td>India</td>\n",
       "      <td>11124527</td>\n",
       "      <td>157248</td>\n",
       "      <td>11112241</td>\n",
       "      <td>157157</td>\n",
       "      <td>12286</td>\n",
       "      <td>91</td>\n",
       "      <td>1.4</td>\n",
       "      <td>Asia</td>\n",
       "    </tr>\n",
       "    <tr>\n",
       "      <th>2</th>\n",
       "      <td>Brazil</td>\n",
       "      <td>10587001</td>\n",
       "      <td>255720</td>\n",
       "      <td>10551259</td>\n",
       "      <td>254942</td>\n",
       "      <td>35742</td>\n",
       "      <td>778</td>\n",
       "      <td>2.4</td>\n",
       "      <td>South America</td>\n",
       "    </tr>\n",
       "    <tr>\n",
       "      <th>3</th>\n",
       "      <td>Russia</td>\n",
       "      <td>4209850</td>\n",
       "      <td>85025</td>\n",
       "      <td>4198400</td>\n",
       "      <td>84700</td>\n",
       "      <td>11450</td>\n",
       "      <td>325</td>\n",
       "      <td>2.0</td>\n",
       "      <td>Europe</td>\n",
       "    </tr>\n",
       "    <tr>\n",
       "      <th>4</th>\n",
       "      <td>United Kingdom</td>\n",
       "      <td>4194289</td>\n",
       "      <td>123187</td>\n",
       "      <td>4188827</td>\n",
       "      <td>123083</td>\n",
       "      <td>5462</td>\n",
       "      <td>104</td>\n",
       "      <td>2.9</td>\n",
       "      <td>Europe</td>\n",
       "    </tr>\n",
       "  </tbody>\n",
       "</table>\n",
       "</div>"
      ],
      "text/plain": [
       "   Country/Region     Cases  Deaths    PCases  PDeaths  Cases (+)  Deaths (+)  \\\n",
       "0              US  28664481  514657  28605669   513091      58812        1566   \n",
       "1           India  11124527  157248  11112241   157157      12286          91   \n",
       "2          Brazil  10587001  255720  10551259   254942      35742         778   \n",
       "3          Russia   4209850   85025   4198400    84700      11450         325   \n",
       "4  United Kingdom   4194289  123187   4188827   123083       5462         104   \n",
       "\n",
       "   Fatality Rate      Continent  \n",
       "0            1.8  North America  \n",
       "1            1.4           Asia  \n",
       "2            2.4  South America  \n",
       "3            2.0         Europe  \n",
       "4            2.9         Europe  "
      ]
     },
     "execution_count": 15,
     "metadata": {},
     "output_type": "execute_result"
    }
   ],
   "source": [
    "#hide\n",
    "df_table = (pd.DataFrame(dict(Cases=dfc_cases, Deaths=dfc_deaths, PCases=dfp_cases, PDeaths=dfp_deaths))\n",
    "             .sort_values(by=['Cases', 'Deaths'], ascending=[False, False])\n",
    "             .reset_index())\n",
    "df_table.rename(columns={'index': 'Country/Region'}, inplace=True)\n",
    "for c in 'Cases, Deaths'.split(', '):\n",
    "    df_table[f'{c} (+)'] = (df_table[c] - df_table[f'P{c}']).clip(0)  # DATA BUG\n",
    "df_table['Fatality Rate'] = (100 * df_table['Deaths'] / df_table['Cases']).round(1)\n",
    "df_table['Continent'] = df_table['Country/Region'].map(mapping['map.continent'])\n",
    "df_table.head(5)"
   ]
  },
  {
   "cell_type": "code",
   "execution_count": 16,
   "id": "fewer-occasion",
   "metadata": {
    "execution": {
     "iopub.execute_input": "2021-03-02T12:06:28.501861Z",
     "iopub.status.busy": "2021-03-02T12:06:28.501257Z",
     "iopub.status.idle": "2021-03-02T12:06:28.504022Z",
     "shell.execute_reply": "2021-03-02T12:06:28.503523Z"
    },
    "papermill": {
     "duration": 0.06114,
     "end_time": "2021-03-02T12:06:28.504148",
     "exception": false,
     "start_time": "2021-03-02T12:06:28.443008",
     "status": "completed"
    },
    "tags": []
   },
   "outputs": [],
   "source": [
    "#hide\n",
    "#delete problematic countries from table\n",
    "df_table = df_table[~df_table['Country/Region'].isin(['Cape Verde', 'Cruise Ship', 'Kosovo'])]"
   ]
  },
  {
   "cell_type": "code",
   "execution_count": 17,
   "id": "related-center",
   "metadata": {
    "execution": {
     "iopub.execute_input": "2021-03-02T12:06:28.600534Z",
     "iopub.status.busy": "2021-03-02T12:06:28.599881Z",
     "iopub.status.idle": "2021-03-02T12:06:28.602497Z",
     "shell.execute_reply": "2021-03-02T12:06:28.601945Z"
    },
    "papermill": {
     "duration": 0.05957,
     "end_time": "2021-03-02T12:06:28.602628",
     "exception": false,
     "start_time": "2021-03-02T12:06:28.543058",
     "status": "completed"
    },
    "tags": []
   },
   "outputs": [],
   "source": [
    "#hide\n",
    "metrics = [df_table.columns[index] for index in [1,2,5,6]]\n",
    "# s_china = df_table[df_table['Country/Region'].eq('China')][metrics].sum().add_prefix('China ')\n",
    "s_us = df_table[df_table['Country/Region'].eq('US')][metrics].sum().add_prefix('US ')\n",
    "s_eu = df_table[df_table['Continent'].eq('Europe')][metrics].sum().add_prefix('EU ')\n",
    "s_ind = df_table[df_table['Country/Region'].eq('India')][metrics].sum().add_prefix('India ')\n",
    "summary = {'updated': pd.to_datetime(dt_today), 'since': pd.to_datetime(dt_yday)}\n",
    "summary = {'updated': pd.to_datetime(dt_today), 'since': pd.to_datetime(dt_yday)}\n",
    "summary = {**summary, **df_table[metrics].sum(), **s_ind, **s_us, **s_eu}"
   ]
  },
  {
   "cell_type": "code",
   "execution_count": 18,
   "id": "engaging-syndrome",
   "metadata": {
    "execution": {
     "iopub.execute_input": "2021-03-02T12:06:28.688211Z",
     "iopub.status.busy": "2021-03-02T12:06:28.687611Z",
     "iopub.status.idle": "2021-03-02T12:06:28.699385Z",
     "shell.execute_reply": "2021-03-02T12:06:28.699855Z"
    },
    "papermill": {
     "duration": 0.062288,
     "end_time": "2021-03-02T12:06:28.700004",
     "exception": false,
     "start_time": "2021-03-02T12:06:28.637716",
     "status": "completed"
    },
    "tags": []
   },
   "outputs": [],
   "source": [
    "#hide\n",
    "dft_ct_new_cases = dft_cases.groupby(COL_REGION)[dt_cols].sum().diff(axis=1).fillna(0).astype(int)"
   ]
  },
  {
   "cell_type": "code",
   "execution_count": 19,
   "id": "neutral-assignment",
   "metadata": {
    "execution": {
     "iopub.execute_input": "2021-03-02T12:06:28.778071Z",
     "iopub.status.busy": "2021-03-02T12:06:28.777482Z",
     "iopub.status.idle": "2021-03-02T12:06:28.780166Z",
     "shell.execute_reply": "2021-03-02T12:06:28.779667Z"
    },
    "papermill": {
     "duration": 0.043261,
     "end_time": "2021-03-02T12:06:28.780288",
     "exception": false,
     "start_time": "2021-03-02T12:06:28.737027",
     "status": "completed"
    },
    "tags": []
   },
   "outputs": [],
   "source": [
    "#hide\n",
    "everydaycases = dft_ct_new_cases.cumsum(axis=1)"
   ]
  },
  {
   "cell_type": "code",
   "execution_count": 20,
   "id": "parliamentary-calgary",
   "metadata": {
    "execution": {
     "iopub.execute_input": "2021-03-02T12:06:28.855197Z",
     "iopub.status.busy": "2021-03-02T12:06:28.854588Z",
     "iopub.status.idle": "2021-03-02T12:06:30.316078Z",
     "shell.execute_reply": "2021-03-02T12:06:30.317407Z"
    },
    "papermill": {
     "duration": 1.502995,
     "end_time": "2021-03-02T12:06:30.317563",
     "exception": false,
     "start_time": "2021-03-02T12:06:28.814568",
     "status": "completed"
    },
    "tags": []
   },
   "outputs": [],
   "source": [
    "#hide\n",
    "import pandas as pd\n",
    "import matplotlib.pyplot as plt\n",
    "import matplotlib.ticker as ticker\n",
    "import matplotlib.animation as animation\n",
    "from IPython.display import HTML"
   ]
  },
  {
   "cell_type": "code",
   "execution_count": 21,
   "id": "lasting-extraction",
   "metadata": {
    "execution": {
     "iopub.execute_input": "2021-03-02T12:06:30.393002Z",
     "iopub.status.busy": "2021-03-02T12:06:30.392395Z",
     "iopub.status.idle": "2021-03-02T12:06:30.405501Z",
     "shell.execute_reply": "2021-03-02T12:06:30.405982Z"
    },
    "papermill": {
     "duration": 0.053728,
     "end_time": "2021-03-02T12:06:30.406133",
     "exception": false,
     "start_time": "2021-03-02T12:06:30.352405",
     "status": "completed"
    },
    "tags": []
   },
   "outputs": [],
   "source": [
    "#hide\n",
    "t = everydaycases.stack()"
   ]
  },
  {
   "cell_type": "code",
   "execution_count": 22,
   "id": "premier-sleeve",
   "metadata": {
    "execution": {
     "iopub.execute_input": "2021-03-02T12:06:30.480116Z",
     "iopub.status.busy": "2021-03-02T12:06:30.479265Z",
     "iopub.status.idle": "2021-03-02T12:06:30.489287Z",
     "shell.execute_reply": "2021-03-02T12:06:30.489785Z"
    },
    "papermill": {
     "duration": 0.049451,
     "end_time": "2021-03-02T12:06:30.489945",
     "exception": false,
     "start_time": "2021-03-02T12:06:30.440494",
     "status": "completed"
    },
    "tags": []
   },
   "outputs": [],
   "source": [
    "#hide\n",
    "g = t.reset_index(['Country/Region'])"
   ]
  },
  {
   "cell_type": "code",
   "execution_count": 23,
   "id": "distributed-pittsburgh",
   "metadata": {
    "execution": {
     "iopub.execute_input": "2021-03-02T12:06:30.577529Z",
     "iopub.status.busy": "2021-03-02T12:06:30.576475Z",
     "iopub.status.idle": "2021-03-02T12:06:30.578613Z",
     "shell.execute_reply": "2021-03-02T12:06:30.579078Z"
    },
    "papermill": {
     "duration": 0.043757,
     "end_time": "2021-03-02T12:06:30.579219",
     "exception": false,
     "start_time": "2021-03-02T12:06:30.535462",
     "status": "completed"
    },
    "tags": []
   },
   "outputs": [],
   "source": [
    "#hide\n",
    "g.index.name = 'date'"
   ]
  },
  {
   "cell_type": "code",
   "execution_count": 24,
   "id": "naked-donor",
   "metadata": {
    "execution": {
     "iopub.execute_input": "2021-03-02T12:06:30.651887Z",
     "iopub.status.busy": "2021-03-02T12:06:30.651289Z",
     "iopub.status.idle": "2021-03-02T12:06:30.653930Z",
     "shell.execute_reply": "2021-03-02T12:06:30.654437Z"
    },
    "papermill": {
     "duration": 0.041115,
     "end_time": "2021-03-02T12:06:30.654585",
     "exception": false,
     "start_time": "2021-03-02T12:06:30.613470",
     "status": "completed"
    },
    "tags": []
   },
   "outputs": [],
   "source": [
    "# #hide\n",
    "# g = g.reset_index(['date'])"
   ]
  },
  {
   "cell_type": "code",
   "execution_count": 25,
   "id": "incomplete-mustang",
   "metadata": {
    "execution": {
     "iopub.execute_input": "2021-03-02T12:06:30.727265Z",
     "iopub.status.busy": "2021-03-02T12:06:30.726666Z",
     "iopub.status.idle": "2021-03-02T12:06:30.728432Z",
     "shell.execute_reply": "2021-03-02T12:06:30.728985Z"
    },
    "papermill": {
     "duration": 0.040164,
     "end_time": "2021-03-02T12:06:30.729124",
     "exception": false,
     "start_time": "2021-03-02T12:06:30.688960",
     "status": "completed"
    },
    "tags": []
   },
   "outputs": [],
   "source": [
    "#hide\n",
    "# g.head()"
   ]
  },
  {
   "cell_type": "code",
   "execution_count": 26,
   "id": "specific-kruger",
   "metadata": {
    "execution": {
     "iopub.execute_input": "2021-03-02T12:06:30.802109Z",
     "iopub.status.busy": "2021-03-02T12:06:30.801523Z",
     "iopub.status.idle": "2021-03-02T12:06:30.803937Z",
     "shell.execute_reply": "2021-03-02T12:06:30.803435Z"
    },
    "papermill": {
     "duration": 0.040634,
     "end_time": "2021-03-02T12:06:30.804058",
     "exception": false,
     "start_time": "2021-03-02T12:06:30.763424",
     "status": "completed"
    },
    "tags": []
   },
   "outputs": [],
   "source": [
    "#hide\n",
    "# g.columns = ['date','country','cases']"
   ]
  },
  {
   "cell_type": "code",
   "execution_count": 27,
   "id": "tender-conversion",
   "metadata": {
    "execution": {
     "iopub.execute_input": "2021-03-02T12:06:30.877728Z",
     "iopub.status.busy": "2021-03-02T12:06:30.877123Z",
     "iopub.status.idle": "2021-03-02T12:06:30.880082Z",
     "shell.execute_reply": "2021-03-02T12:06:30.880639Z"
    },
    "papermill": {
     "duration": 0.042291,
     "end_time": "2021-03-02T12:06:30.880784",
     "exception": false,
     "start_time": "2021-03-02T12:06:30.838493",
     "status": "completed"
    },
    "tags": []
   },
   "outputs": [],
   "source": [
    "#hide\n",
    "# g['continent'] = g.country"
   ]
  },
  {
   "cell_type": "code",
   "execution_count": 28,
   "id": "substantial-wilderness",
   "metadata": {
    "execution": {
     "iopub.execute_input": "2021-03-02T12:06:30.954240Z",
     "iopub.status.busy": "2021-03-02T12:06:30.953628Z",
     "iopub.status.idle": "2021-03-02T12:06:30.955917Z",
     "shell.execute_reply": "2021-03-02T12:06:30.956386Z"
    },
    "papermill": {
     "duration": 0.041248,
     "end_time": "2021-03-02T12:06:30.956527",
     "exception": false,
     "start_time": "2021-03-02T12:06:30.915279",
     "status": "completed"
    },
    "tags": []
   },
   "outputs": [],
   "source": [
    "#hide\n",
    "# cols = list(g.columns.values)"
   ]
  },
  {
   "cell_type": "code",
   "execution_count": 29,
   "id": "solved-farming",
   "metadata": {
    "execution": {
     "iopub.execute_input": "2021-03-02T12:06:31.029024Z",
     "iopub.status.busy": "2021-03-02T12:06:31.028429Z",
     "iopub.status.idle": "2021-03-02T12:06:31.030672Z",
     "shell.execute_reply": "2021-03-02T12:06:31.030159Z"
    },
    "papermill": {
     "duration": 0.039815,
     "end_time": "2021-03-02T12:06:31.030794",
     "exception": false,
     "start_time": "2021-03-02T12:06:30.990979",
     "status": "completed"
    },
    "tags": []
   },
   "outputs": [],
   "source": [
    "#hide\n",
    "# cols.insert(0, cols.pop())"
   ]
  },
  {
   "cell_type": "code",
   "execution_count": 30,
   "id": "executed-adoption",
   "metadata": {
    "execution": {
     "iopub.execute_input": "2021-03-02T12:06:31.103246Z",
     "iopub.status.busy": "2021-03-02T12:06:31.102648Z",
     "iopub.status.idle": "2021-03-02T12:06:31.104843Z",
     "shell.execute_reply": "2021-03-02T12:06:31.104352Z"
    },
    "papermill": {
     "duration": 0.039956,
     "end_time": "2021-03-02T12:06:31.104963",
     "exception": false,
     "start_time": "2021-03-02T12:06:31.065007",
     "status": "completed"
    },
    "tags": []
   },
   "outputs": [],
   "source": [
    "#hide\n",
    "# g = g[cols]"
   ]
  },
  {
   "cell_type": "code",
   "execution_count": 31,
   "id": "subject-dublin",
   "metadata": {
    "execution": {
     "iopub.execute_input": "2021-03-02T12:06:31.177530Z",
     "iopub.status.busy": "2021-03-02T12:06:31.176943Z",
     "iopub.status.idle": "2021-03-02T12:06:31.179195Z",
     "shell.execute_reply": "2021-03-02T12:06:31.178696Z"
    },
    "papermill": {
     "duration": 0.039952,
     "end_time": "2021-03-02T12:06:31.179319",
     "exception": false,
     "start_time": "2021-03-02T12:06:31.139367",
     "status": "completed"
    },
    "tags": []
   },
   "outputs": [],
   "source": [
    "#hide\n",
    "# g['continent'] = g['continent'].map(mapping['map.continent'])"
   ]
  },
  {
   "cell_type": "code",
   "execution_count": 32,
   "id": "freelance-scout",
   "metadata": {
    "execution": {
     "iopub.execute_input": "2021-03-02T12:06:31.251911Z",
     "iopub.status.busy": "2021-03-02T12:06:31.251318Z",
     "iopub.status.idle": "2021-03-02T12:06:31.253087Z",
     "shell.execute_reply": "2021-03-02T12:06:31.253553Z"
    },
    "papermill": {
     "duration": 0.040153,
     "end_time": "2021-03-02T12:06:31.253693",
     "exception": false,
     "start_time": "2021-03-02T12:06:31.213540",
     "status": "completed"
    },
    "tags": []
   },
   "outputs": [],
   "source": [
    "#hide\n",
    "# g.head()"
   ]
  },
  {
   "cell_type": "code",
   "execution_count": 33,
   "id": "limited-engine",
   "metadata": {
    "execution": {
     "iopub.execute_input": "2021-03-02T12:06:31.326231Z",
     "iopub.status.busy": "2021-03-02T12:06:31.325616Z",
     "iopub.status.idle": "2021-03-02T12:06:31.327897Z",
     "shell.execute_reply": "2021-03-02T12:06:31.327396Z"
    },
    "papermill": {
     "duration": 0.0399,
     "end_time": "2021-03-02T12:06:31.328020",
     "exception": false,
     "start_time": "2021-03-02T12:06:31.288120",
     "status": "completed"
    },
    "tags": []
   },
   "outputs": [],
   "source": [
    "# hide\n",
    "# g['date'] = g['date'].astype('datetime64[ns]')"
   ]
  },
  {
   "cell_type": "code",
   "execution_count": 34,
   "id": "sophisticated-supervisor",
   "metadata": {
    "execution": {
     "iopub.execute_input": "2021-03-02T12:06:31.400888Z",
     "iopub.status.busy": "2021-03-02T12:06:31.400290Z",
     "iopub.status.idle": "2021-03-02T12:06:31.402537Z",
     "shell.execute_reply": "2021-03-02T12:06:31.403013Z"
    },
    "papermill": {
     "duration": 0.040941,
     "end_time": "2021-03-02T12:06:31.403159",
     "exception": false,
     "start_time": "2021-03-02T12:06:31.362218",
     "status": "completed"
    },
    "tags": []
   },
   "outputs": [],
   "source": [
    "#hide\n",
    "# g['date'] = g.date.dt.dayofyear"
   ]
  },
  {
   "cell_type": "code",
   "execution_count": 35,
   "id": "inside-dubai",
   "metadata": {
    "execution": {
     "iopub.execute_input": "2021-03-02T12:06:31.475931Z",
     "iopub.status.busy": "2021-03-02T12:06:31.475335Z",
     "iopub.status.idle": "2021-03-02T12:06:31.477782Z",
     "shell.execute_reply": "2021-03-02T12:06:31.477282Z"
    },
    "papermill": {
     "duration": 0.040317,
     "end_time": "2021-03-02T12:06:31.477905",
     "exception": false,
     "start_time": "2021-03-02T12:06:31.437588",
     "status": "completed"
    },
    "tags": []
   },
   "outputs": [],
   "source": [
    "#hide\n",
    "# g = g.rename(columns= {'continent':'group','country':'name','cases':'value'})"
   ]
  },
  {
   "cell_type": "code",
   "execution_count": 36,
   "id": "fleet-motorcycle",
   "metadata": {
    "execution": {
     "iopub.execute_input": "2021-03-02T12:06:31.550487Z",
     "iopub.status.busy": "2021-03-02T12:06:31.549857Z",
     "iopub.status.idle": "2021-03-02T12:06:31.552040Z",
     "shell.execute_reply": "2021-03-02T12:06:31.551541Z"
    },
    "papermill": {
     "duration": 0.039995,
     "end_time": "2021-03-02T12:06:31.552162",
     "exception": false,
     "start_time": "2021-03-02T12:06:31.512167",
     "status": "completed"
    },
    "tags": []
   },
   "outputs": [],
   "source": [
    "#hide\n",
    "# cols = ['name','group','day','value']"
   ]
  },
  {
   "cell_type": "code",
   "execution_count": 37,
   "id": "continued-sleeping",
   "metadata": {
    "execution": {
     "iopub.execute_input": "2021-03-02T12:06:31.625064Z",
     "iopub.status.busy": "2021-03-02T12:06:31.624435Z",
     "iopub.status.idle": "2021-03-02T12:06:31.626288Z",
     "shell.execute_reply": "2021-03-02T12:06:31.626742Z"
    },
    "papermill": {
     "duration": 0.040064,
     "end_time": "2021-03-02T12:06:31.626891",
     "exception": false,
     "start_time": "2021-03-02T12:06:31.586827",
     "status": "completed"
    },
    "tags": []
   },
   "outputs": [],
   "source": [
    "#hide\n",
    "# g.rename(columns= {'date':'day'},inplace = True)"
   ]
  },
  {
   "cell_type": "code",
   "execution_count": 38,
   "id": "major-fight",
   "metadata": {
    "execution": {
     "iopub.execute_input": "2021-03-02T12:06:31.711006Z",
     "iopub.status.busy": "2021-03-02T12:06:31.710310Z",
     "iopub.status.idle": "2021-03-02T12:06:31.712632Z",
     "shell.execute_reply": "2021-03-02T12:06:31.713193Z"
    },
    "papermill": {
     "duration": 0.043544,
     "end_time": "2021-03-02T12:06:31.713338",
     "exception": false,
     "start_time": "2021-03-02T12:06:31.669794",
     "status": "completed"
    },
    "tags": []
   },
   "outputs": [],
   "source": [
    "#hide\n",
    "# g = g[cols]"
   ]
  },
  {
   "cell_type": "code",
   "execution_count": 39,
   "id": "structured-mobile",
   "metadata": {
    "execution": {
     "iopub.execute_input": "2021-03-02T12:06:31.805036Z",
     "iopub.status.busy": "2021-03-02T12:06:31.803980Z",
     "iopub.status.idle": "2021-03-02T12:06:31.806114Z",
     "shell.execute_reply": "2021-03-02T12:06:31.807001Z"
    },
    "papermill": {
     "duration": 0.049162,
     "end_time": "2021-03-02T12:06:31.807231",
     "exception": false,
     "start_time": "2021-03-02T12:06:31.758069",
     "status": "completed"
    },
    "tags": []
   },
   "outputs": [],
   "source": [
    "# #hide\n",
    "# g = g[g.group.notna()]"
   ]
  },
  {
   "cell_type": "code",
   "execution_count": 40,
   "id": "determined-closing",
   "metadata": {
    "execution": {
     "iopub.execute_input": "2021-03-02T12:06:31.880461Z",
     "iopub.status.busy": "2021-03-02T12:06:31.879827Z",
     "iopub.status.idle": "2021-03-02T12:06:31.881395Z",
     "shell.execute_reply": "2021-03-02T12:06:31.881871Z"
    },
    "papermill": {
     "duration": 0.039923,
     "end_time": "2021-03-02T12:06:31.882014",
     "exception": false,
     "start_time": "2021-03-02T12:06:31.842091",
     "status": "completed"
    },
    "tags": []
   },
   "outputs": [],
   "source": [
    "# #hide\n",
    "# colors = dict(zip(\n",
    "#     [\"Oceania\", \"Europe\", \"Asia\", \"South America\", \"Middle East\", \"North America\", \"Africa\"],\n",
    "#     [\"#adb0ff\", \"#ffb3ff\", \"#90d595\", \"#e48381\", \"#aafbff\", \"#f7bb5f\", \"#eafb50\"]\n",
    "# ))\n",
    "# group_lk = g.set_index('name')['group'].to_dict()"
   ]
  },
  {
   "cell_type": "code",
   "execution_count": null,
   "id": "gross-drinking",
   "metadata": {
    "papermill": {
     "duration": 0.036152,
     "end_time": "2021-03-02T12:06:31.962390",
     "exception": false,
     "start_time": "2021-03-02T12:06:31.926238",
     "status": "completed"
    },
    "tags": []
   },
   "outputs": [],
   "source": []
  },
  {
   "cell_type": "code",
   "execution_count": 41,
   "id": "subject-macintosh",
   "metadata": {
    "execution": {
     "iopub.execute_input": "2021-03-02T12:06:32.038025Z",
     "iopub.status.busy": "2021-03-02T12:06:32.037387Z",
     "iopub.status.idle": "2021-03-02T12:06:32.041372Z",
     "shell.execute_reply": "2021-03-02T12:06:32.042131Z"
    },
    "papermill": {
     "duration": 0.045065,
     "end_time": "2021-03-02T12:06:32.042323",
     "exception": false,
     "start_time": "2021-03-02T12:06:31.997258",
     "status": "completed"
    },
    "tags": []
   },
   "outputs": [],
   "source": [
    "# #hide\n",
    "# fig, ax = plt.subplots(figsize=(15, 8))\n",
    "\n",
    "# def draw_barchart(current_day):\n",
    "#     dff = g[g['day'].eq(current_day)].sort_values(by='value', ascending=True).tail(10)\n",
    "#     ax.clear()\n",
    "#     ax.barh(dff['name'], dff['value'], color=[colors[group_lk[x]] for x in dff['name']])\n",
    "#     dx = dff['value'].max() / 200\n",
    "    \n",
    "#     for i, (value, name) in enumerate(zip(dff['value'], dff['name'])):\n",
    "#         ax.text(value-dx, i,     name,           size=14, weight=600, ha='right', va='bottom')\n",
    "#         ax.text(value-dx, i-.25, group_lk[name], size=10, color='#444444', ha='right', va='baseline')\n",
    "#         ax.text(value+dx, i,     f'{value:,.0f}',  size=14, ha='left',  va='center')\n",
    "#     ax.text(1, 0.4, current_day, transform=ax.transAxes, color='#777777', size=46, ha='right', weight=800)\n",
    "#     ax.text(0, 1.06, 'Population (thousands)', transform=ax.transAxes, size=12, color='#777777')\n",
    "#     ax.xaxis.set_major_formatter(ticker.StrMethodFormatter('{x:,.0f}'))\n",
    "#     ax.xaxis.set_ticks_position('top')\n",
    "#     ax.tick_params(axis='x', colors='#777777', labelsize=12)\n",
    "#     ax.set_yticks([])\n",
    "#     ax.margins(0, 0.01)\n",
    "#     ax.grid(which='major', axis='x', linestyle='-')\n",
    "#     ax.set_axisbelow(True)\n",
    "    \n",
    "#     ax.text(0, 1.15, 'Coronavirus',\n",
    "#             transform=ax.transAxes, size=24, weight=600, ha='left', va='top')\n",
    "# #     ax.text(1, 0, 'by @pratapvardhan; credit @jburnmurdoch', transform=ax.transAxes, color='#777777', ha='right',\n",
    "# #             bbox=dict(facecolor='white', alpha=0.8, edgecolor='white'))\n",
    "#     plt.box(False)"
   ]
  },
  {
   "cell_type": "code",
   "execution_count": 42,
   "id": "sexual-wages",
   "metadata": {
    "execution": {
     "iopub.execute_input": "2021-03-02T12:06:32.120291Z",
     "iopub.status.busy": "2021-03-02T12:06:32.119687Z",
     "iopub.status.idle": "2021-03-02T12:06:32.122101Z",
     "shell.execute_reply": "2021-03-02T12:06:32.122697Z"
    },
    "papermill": {
     "duration": 0.043334,
     "end_time": "2021-03-02T12:06:32.122841",
     "exception": false,
     "start_time": "2021-03-02T12:06:32.079507",
     "status": "completed"
    },
    "tags": []
   },
   "outputs": [],
   "source": [
    "# #hide_input\n",
    "# fig, ax = plt.subplots(figsize=(15, 8))\n",
    "# animator = animation.FuncAnimation(fig, draw_barchart, frames=range(g.day.values.min(), g.day.values.max()))\n",
    "# HTML(animator.to_jshtml())\n",
    "# # or use animator.to_html5_video() or animator.save() "
   ]
  },
  {
   "cell_type": "code",
   "execution_count": null,
   "id": "australian-container",
   "metadata": {
    "papermill": {
     "duration": 0.034773,
     "end_time": "2021-03-02T12:06:32.194424",
     "exception": false,
     "start_time": "2021-03-02T12:06:32.159651",
     "status": "completed"
    },
    "tags": []
   },
   "outputs": [],
   "source": []
  },
  {
   "cell_type": "code",
   "execution_count": null,
   "id": "mediterranean-pontiac",
   "metadata": {
    "papermill": {
     "duration": 0.040009,
     "end_time": "2021-03-02T12:06:32.269761",
     "exception": false,
     "start_time": "2021-03-02T12:06:32.229752",
     "status": "completed"
    },
    "tags": []
   },
   "outputs": [],
   "source": []
  },
  {
   "cell_type": "code",
   "execution_count": null,
   "id": "aging-legislature",
   "metadata": {
    "papermill": {
     "duration": 0.035079,
     "end_time": "2021-03-02T12:06:32.340337",
     "exception": false,
     "start_time": "2021-03-02T12:06:32.305258",
     "status": "completed"
    },
    "tags": []
   },
   "outputs": [],
   "source": []
  }
 ],
 "metadata": {
  "kernelspec": {
   "display_name": "Python 3",
   "language": "python",
   "name": "python3"
  },
  "language_info": {
   "codemirror_mode": {
    "name": "ipython",
    "version": 3
   },
   "file_extension": ".py",
   "mimetype": "text/x-python",
   "name": "python",
   "nbconvert_exporter": "python",
   "pygments_lexer": "ipython3",
   "version": "3.6.13"
  },
  "papermill": {
   "duration": 7.92056,
   "end_time": "2021-03-02T12:06:32.786616",
   "environment_variables": {},
   "exception": null,
   "input_path": "2020-03-21-covid19exp.ipynb",
   "output_path": "2020-03-21-covid19exp.ipynb",
   "parameters": {},
   "start_time": "2021-03-02T12:06:24.866056",
   "version": "2.0.0"
  }
 },
 "nbformat": 4,
 "nbformat_minor": 5
}