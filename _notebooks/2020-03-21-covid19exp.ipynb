{
 "cells": [
  {
   "cell_type": "markdown",
   "id": "muslim-click",
   "metadata": {
    "papermill": {
     "duration": 0.049774,
     "end_time": "2021-12-06T12:13:15.284863",
     "exception": false,
     "start_time": "2021-12-06T12:13:15.235089",
     "status": "completed"
    },
    "tags": []
   },
   "source": [
    "# COVID-19 Case Race\n",
    "> A race chart to see rising cases around the world\n",
    "\n",
    "- author: Hargun Oberoi\n",
    "- image: images/covid-overview.png\n",
    "- hide: false\n",
    "- badges: false"
   ]
  },
  {
   "cell_type": "code",
   "execution_count": 1,
   "id": "proof-material",
   "metadata": {
    "execution": {
     "iopub.execute_input": "2021-12-06T12:13:15.380714Z",
     "iopub.status.busy": "2021-12-06T12:13:15.379930Z",
     "iopub.status.idle": "2021-12-06T12:13:15.850129Z",
     "shell.execute_reply": "2021-12-06T12:13:15.849195Z"
    },
    "papermill": {
     "duration": 0.523247,
     "end_time": "2021-12-06T12:13:15.850337",
     "exception": false,
     "start_time": "2021-12-06T12:13:15.327090",
     "status": "completed"
    },
    "tags": []
   },
   "outputs": [],
   "source": [
    "#hide\n",
    "import numpy as np\n",
    "import pandas as pd\n",
    "from jinja2 import Template\n",
    "from IPython.display import HTML"
   ]
  },
  {
   "cell_type": "code",
   "execution_count": 2,
   "id": "developed-terminology",
   "metadata": {
    "execution": {
     "iopub.execute_input": "2021-12-06T12:13:15.947984Z",
     "iopub.status.busy": "2021-12-06T12:13:15.947214Z",
     "iopub.status.idle": "2021-12-06T12:13:15.950092Z",
     "shell.execute_reply": "2021-12-06T12:13:15.949362Z"
    },
    "papermill": {
     "duration": 0.051066,
     "end_time": "2021-12-06T12:13:15.950245",
     "exception": false,
     "start_time": "2021-12-06T12:13:15.899179",
     "status": "completed"
    },
    "tags": []
   },
   "outputs": [],
   "source": [
    "#hide\n",
    "\n",
    "# FETCH\n",
    "base_url = 'https://raw.githubusercontent.com/pratapvardhan/notebooks/master/covid19/'\n",
    "paths = {\n",
    "    'mapping': base_url + 'mapping_countries.csv',\n",
    "    'overview': base_url + 'overview.tpl'\n",
    "}"
   ]
  },
  {
   "cell_type": "code",
   "execution_count": 3,
   "id": "dynamic-saver",
   "metadata": {
    "execution": {
     "iopub.execute_input": "2021-12-06T12:13:16.049666Z",
     "iopub.status.busy": "2021-12-06T12:13:16.048882Z",
     "iopub.status.idle": "2021-12-06T12:13:16.051648Z",
     "shell.execute_reply": "2021-12-06T12:13:16.052935Z"
    },
    "papermill": {
     "duration": 0.060999,
     "end_time": "2021-12-06T12:13:16.053211",
     "exception": false,
     "start_time": "2021-12-06T12:13:15.992212",
     "status": "completed"
    },
    "tags": []
   },
   "outputs": [
    {
     "data": {
      "text/plain": [
       "'https://raw.githubusercontent.com/pratapvardhan/notebooks/master/covid19/mapping_countries.csv'"
      ]
     },
     "execution_count": 3,
     "metadata": {},
     "output_type": "execute_result"
    }
   ],
   "source": [
    "#hide\n",
    "paths['mapping']"
   ]
  },
  {
   "cell_type": "code",
   "execution_count": 4,
   "id": "urban-software",
   "metadata": {
    "execution": {
     "iopub.execute_input": "2021-12-06T12:13:16.149516Z",
     "iopub.status.busy": "2021-12-06T12:13:16.148787Z",
     "iopub.status.idle": "2021-12-06T12:13:16.151473Z",
     "shell.execute_reply": "2021-12-06T12:13:16.150879Z"
    },
    "papermill": {
     "duration": 0.05456,
     "end_time": "2021-12-06T12:13:16.151626",
     "exception": false,
     "start_time": "2021-12-06T12:13:16.097066",
     "status": "completed"
    },
    "tags": []
   },
   "outputs": [],
   "source": [
    "#hide\n",
    "def get_mappings(url):\n",
    "    df = pd.read_csv(url)\n",
    "    return {\n",
    "        'df': df,\n",
    "        'replace.country': dict(df.dropna(subset=['Name']).set_index('Country')['Name']),\n",
    "        'map.continent': dict(df.set_index('Name')['Continent'])\n",
    "    }"
   ]
  },
  {
   "cell_type": "code",
   "execution_count": 5,
   "id": "intimate-machinery",
   "metadata": {
    "execution": {
     "iopub.execute_input": "2021-12-06T12:13:16.243758Z",
     "iopub.status.busy": "2021-12-06T12:13:16.242969Z",
     "iopub.status.idle": "2021-12-06T12:13:16.288091Z",
     "shell.execute_reply": "2021-12-06T12:13:16.287452Z"
    },
    "papermill": {
     "duration": 0.093518,
     "end_time": "2021-12-06T12:13:16.288247",
     "exception": false,
     "start_time": "2021-12-06T12:13:16.194729",
     "status": "completed"
    },
    "tags": []
   },
   "outputs": [],
   "source": [
    "#hide\n",
    "mapping = get_mappings(paths['mapping'])"
   ]
  },
  {
   "cell_type": "code",
   "execution_count": 6,
   "id": "certified-tactics",
   "metadata": {
    "execution": {
     "iopub.execute_input": "2021-12-06T12:13:16.383965Z",
     "iopub.status.busy": "2021-12-06T12:13:16.383177Z",
     "iopub.status.idle": "2021-12-06T12:13:16.386060Z",
     "shell.execute_reply": "2021-12-06T12:13:16.385468Z"
    },
    "papermill": {
     "duration": 0.05176,
     "end_time": "2021-12-06T12:13:16.386198",
     "exception": false,
     "start_time": "2021-12-06T12:13:16.334438",
     "status": "completed"
    },
    "tags": []
   },
   "outputs": [],
   "source": [
    "#hide\n",
    "def get_template(path):\n",
    "    from urllib.parse import urlparse\n",
    "    if bool(urlparse(path).netloc):\n",
    "        from urllib.request import urlopen\n",
    "        return urlopen(path).read().decode('utf8')\n",
    "    return open(path).read()"
   ]
  },
  {
   "cell_type": "code",
   "execution_count": 7,
   "id": "realistic-blast",
   "metadata": {
    "execution": {
     "iopub.execute_input": "2021-12-06T12:13:16.484298Z",
     "iopub.status.busy": "2021-12-06T12:13:16.483566Z",
     "iopub.status.idle": "2021-12-06T12:13:16.485621Z",
     "shell.execute_reply": "2021-12-06T12:13:16.486159Z"
    },
    "papermill": {
     "duration": 0.051652,
     "end_time": "2021-12-06T12:13:16.486323",
     "exception": false,
     "start_time": "2021-12-06T12:13:16.434671",
     "status": "completed"
    },
    "tags": []
   },
   "outputs": [],
   "source": [
    "#hide\n",
    "def get_frame(name):\n",
    "    url = (\n",
    "        'https://raw.githubusercontent.com/CSSEGISandData/COVID-19/master/csse_covid_19_data/'\n",
    "        f'csse_covid_19_time_series/time_series_covid19_{name}_global.csv')\n",
    "    df = pd.read_csv(url)\n",
    "    # rename countries\n",
    "    df['Country/Region'] = df['Country/Region'].replace(mapping['replace.country'])\n",
    "    return df"
   ]
  },
  {
   "cell_type": "code",
   "execution_count": 8,
   "id": "affiliated-characterization",
   "metadata": {
    "execution": {
     "iopub.execute_input": "2021-12-06T12:13:16.579720Z",
     "iopub.status.busy": "2021-12-06T12:13:16.578752Z",
     "iopub.status.idle": "2021-12-06T12:13:16.581652Z",
     "shell.execute_reply": "2021-12-06T12:13:16.580943Z"
    },
    "papermill": {
     "duration": 0.052138,
     "end_time": "2021-12-06T12:13:16.581795",
     "exception": false,
     "start_time": "2021-12-06T12:13:16.529657",
     "status": "completed"
    },
    "tags": []
   },
   "outputs": [],
   "source": [
    "#hide\n",
    "def get_dates(df):\n",
    "    dt_cols = df.columns[~df.columns.isin(['Province/State', 'Country/Region', 'Lat', 'Long'])]\n",
    "    LAST_DATE_I = -1\n",
    "    # sometimes last column may be empty, then go backwards\n",
    "    for i in range(-1, -len(dt_cols), -1):\n",
    "        if not df[dt_cols[i]].fillna(0).eq(0).all():\n",
    "            LAST_DATE_I = i\n",
    "            break\n",
    "    return LAST_DATE_I, dt_cols"
   ]
  },
  {
   "cell_type": "code",
   "execution_count": 9,
   "id": "recent-optimization",
   "metadata": {
    "execution": {
     "iopub.execute_input": "2021-12-06T12:13:16.676682Z",
     "iopub.status.busy": "2021-12-06T12:13:16.675724Z",
     "iopub.status.idle": "2021-12-06T12:13:17.176430Z",
     "shell.execute_reply": "2021-12-06T12:13:17.175756Z"
    },
    "papermill": {
     "duration": 0.552611,
     "end_time": "2021-12-06T12:13:17.176580",
     "exception": false,
     "start_time": "2021-12-06T12:13:16.623969",
     "status": "completed"
    },
    "tags": []
   },
   "outputs": [],
   "source": [
    "#hide\n",
    "COL_REGION = 'Country/Region'\n",
    "# Confirmed, Recovered, Deaths\n",
    "df = get_frame('confirmed')\n",
    "# dft_: timeseries, dfc_: today country agg\n",
    "dft_cases = df\n",
    "dft_deaths = get_frame('deaths')\n",
    "dft_recovered = get_frame('recovered')\n",
    "LAST_DATE_I, dt_cols = get_dates(df)"
   ]
  },
  {
   "cell_type": "code",
   "execution_count": 10,
   "id": "absolute-copper",
   "metadata": {
    "execution": {
     "iopub.execute_input": "2021-12-06T12:13:17.285287Z",
     "iopub.status.busy": "2021-12-06T12:13:17.284426Z",
     "iopub.status.idle": "2021-12-06T12:13:17.287263Z",
     "shell.execute_reply": "2021-12-06T12:13:17.286466Z"
    },
    "papermill": {
     "duration": 0.055046,
     "end_time": "2021-12-06T12:13:17.287407",
     "exception": false,
     "start_time": "2021-12-06T12:13:17.232361",
     "status": "completed"
    },
    "tags": []
   },
   "outputs": [],
   "source": [
    "#hide\n",
    "LAST_DATE_I, dt_cols = get_dates(df)\n",
    "dt_today =dt_cols[LAST_DATE_I]\n",
    "# dt_5day = dt_cols[LAST_DATE_I - 5]\n",
    "dt_yday = dt_cols[LAST_DATE_I - 1]"
   ]
  },
  {
   "cell_type": "code",
   "execution_count": 11,
   "id": "restricted-sheriff",
   "metadata": {
    "execution": {
     "iopub.execute_input": "2021-12-06T12:13:17.395878Z",
     "iopub.status.busy": "2021-12-06T12:13:17.394996Z",
     "iopub.status.idle": "2021-12-06T12:13:17.401801Z",
     "shell.execute_reply": "2021-12-06T12:13:17.400946Z"
    },
    "papermill": {
     "duration": 0.072797,
     "end_time": "2021-12-06T12:13:17.401952",
     "exception": false,
     "start_time": "2021-12-06T12:13:17.329155",
     "status": "completed"
    },
    "tags": []
   },
   "outputs": [],
   "source": [
    "#hide\n",
    "dfc_cases = dft_cases.groupby(COL_REGION)[dt_today].sum()\n",
    "dfc_deaths = dft_deaths.groupby(COL_REGION)[dt_today].sum()\n",
    "# dfp_cases = dft_cases.groupby(COL_REGION)[dt_5day].sum()\n",
    "# dfp_deaths = dft_deaths.groupby(COL_REGION)[dt_5day].sum()\n",
    "dfp_cases = dft_cases.groupby(COL_REGION)[dt_yday].sum()\n",
    "dfp_deaths = dft_deaths.groupby(COL_REGION)[dt_yday].sum()"
   ]
  },
  {
   "cell_type": "code",
   "execution_count": 12,
   "id": "deluxe-hepatitis",
   "metadata": {
    "execution": {
     "iopub.execute_input": "2021-12-06T12:13:17.510326Z",
     "iopub.status.busy": "2021-12-06T12:13:17.509260Z",
     "iopub.status.idle": "2021-12-06T12:13:17.522170Z",
     "shell.execute_reply": "2021-12-06T12:13:17.521525Z"
    },
    "papermill": {
     "duration": 0.075791,
     "end_time": "2021-12-06T12:13:17.522331",
     "exception": false,
     "start_time": "2021-12-06T12:13:17.446540",
     "status": "completed"
    },
    "tags": []
   },
   "outputs": [],
   "source": [
    "#hide\n",
    "df_table = (pd.DataFrame(dict(Cases = dfc_cases, Deaths = dfc_deaths, PCases = dfp_cases, PDeaths = dfp_deaths))\n",
    "            .sort_values(by = ['Cases','Deaths'], ascending = [False, False])\n",
    "            .reset_index())"
   ]
  },
  {
   "cell_type": "code",
   "execution_count": 13,
   "id": "educational-chancellor",
   "metadata": {
    "execution": {
     "iopub.execute_input": "2021-12-06T12:13:17.634630Z",
     "iopub.status.busy": "2021-12-06T12:13:17.633823Z",
     "iopub.status.idle": "2021-12-06T12:13:17.643135Z",
     "shell.execute_reply": "2021-12-06T12:13:17.643765Z"
    },
    "papermill": {
     "duration": 0.078702,
     "end_time": "2021-12-06T12:13:17.643959",
     "exception": false,
     "start_time": "2021-12-06T12:13:17.565257",
     "status": "completed"
    },
    "tags": []
   },
   "outputs": [
    {
     "data": {
      "text/html": [
       "<div>\n",
       "<style scoped>\n",
       "    .dataframe tbody tr th:only-of-type {\n",
       "        vertical-align: middle;\n",
       "    }\n",
       "\n",
       "    .dataframe tbody tr th {\n",
       "        vertical-align: top;\n",
       "    }\n",
       "\n",
       "    .dataframe thead th {\n",
       "        text-align: right;\n",
       "    }\n",
       "</style>\n",
       "<table border=\"1\" class=\"dataframe\">\n",
       "  <thead>\n",
       "    <tr style=\"text-align: right;\">\n",
       "      <th></th>\n",
       "      <th>Country/Region</th>\n",
       "      <th>Cases</th>\n",
       "      <th>Deaths</th>\n",
       "      <th>PCases</th>\n",
       "      <th>PDeaths</th>\n",
       "      <th>Cases (+)</th>\n",
       "      <th>Deaths (+)</th>\n",
       "      <th>Fatality Rate</th>\n",
       "      <th>Continent</th>\n",
       "    </tr>\n",
       "  </thead>\n",
       "  <tbody>\n",
       "    <tr>\n",
       "      <th>0</th>\n",
       "      <td>US</td>\n",
       "      <td>49085361</td>\n",
       "      <td>788363</td>\n",
       "      <td>49051140</td>\n",
       "      <td>788202</td>\n",
       "      <td>34221</td>\n",
       "      <td>161</td>\n",
       "      <td>1.61</td>\n",
       "      <td>North America</td>\n",
       "    </tr>\n",
       "    <tr>\n",
       "      <th>1</th>\n",
       "      <td>India</td>\n",
       "      <td>34641561</td>\n",
       "      <td>473537</td>\n",
       "      <td>34624360</td>\n",
       "      <td>470530</td>\n",
       "      <td>17201</td>\n",
       "      <td>3007</td>\n",
       "      <td>1.37</td>\n",
       "      <td>Asia</td>\n",
       "    </tr>\n",
       "    <tr>\n",
       "      <th>2</th>\n",
       "      <td>Brazil</td>\n",
       "      <td>22143091</td>\n",
       "      <td>615636</td>\n",
       "      <td>22138247</td>\n",
       "      <td>615570</td>\n",
       "      <td>4844</td>\n",
       "      <td>66</td>\n",
       "      <td>2.78</td>\n",
       "      <td>South America</td>\n",
       "    </tr>\n",
       "    <tr>\n",
       "      <th>3</th>\n",
       "      <td>United Kingdom</td>\n",
       "      <td>10523316</td>\n",
       "      <td>146055</td>\n",
       "      <td>10479955</td>\n",
       "      <td>146001</td>\n",
       "      <td>43361</td>\n",
       "      <td>54</td>\n",
       "      <td>1.39</td>\n",
       "      <td>Europe</td>\n",
       "    </tr>\n",
       "    <tr>\n",
       "      <th>4</th>\n",
       "      <td>Russia</td>\n",
       "      <td>9630296</td>\n",
       "      <td>275824</td>\n",
       "      <td>9598283</td>\n",
       "      <td>274648</td>\n",
       "      <td>32013</td>\n",
       "      <td>1176</td>\n",
       "      <td>2.86</td>\n",
       "      <td>Europe</td>\n",
       "    </tr>\n",
       "  </tbody>\n",
       "</table>\n",
       "</div>"
      ],
      "text/plain": [
       "   Country/Region     Cases  Deaths    PCases  PDeaths  Cases (+)  Deaths (+)  \\\n",
       "0              US  49085361  788363  49051140   788202      34221         161   \n",
       "1           India  34641561  473537  34624360   470530      17201        3007   \n",
       "2          Brazil  22143091  615636  22138247   615570       4844          66   \n",
       "3  United Kingdom  10523316  146055  10479955   146001      43361          54   \n",
       "4          Russia   9630296  275824   9598283   274648      32013        1176   \n",
       "\n",
       "   Fatality Rate      Continent  \n",
       "0           1.61  North America  \n",
       "1           1.37           Asia  \n",
       "2           2.78  South America  \n",
       "3           1.39         Europe  \n",
       "4           2.86         Europe  "
      ]
     },
     "execution_count": 13,
     "metadata": {},
     "output_type": "execute_result"
    }
   ],
   "source": [
    "#hide\n",
    "for c in 'Cases, Deaths'.split(', '):\n",
    "    df_table[f'{c} (+)'] = (df_table[c] - df_table[f'P{c}']).clip(0)\n",
    "    #Clip ça veut dire, les chiffres negatif sont interdit\n",
    "df_table['Fatality Rate'] = (100* df_table['Deaths']/ df_table['Cases']).round(2)\n",
    "df_table['Continent'] = df_table['Country/Region'].map(mapping['map.continent'])\n",
    "df_table.head(5)"
   ]
  },
  {
   "cell_type": "code",
   "execution_count": 14,
   "id": "aboriginal-bulgaria",
   "metadata": {
    "execution": {
     "iopub.execute_input": "2021-12-06T12:13:17.738707Z",
     "iopub.status.busy": "2021-12-06T12:13:17.737904Z",
     "iopub.status.idle": "2021-12-06T12:13:17.741011Z",
     "shell.execute_reply": "2021-12-06T12:13:17.741792Z"
    },
    "papermill": {
     "duration": 0.054918,
     "end_time": "2021-12-06T12:13:17.741983",
     "exception": false,
     "start_time": "2021-12-06T12:13:17.687065",
     "status": "completed"
    },
    "tags": []
   },
   "outputs": [],
   "source": [
    "#hide\n",
    "#delete problematic countries from table\n",
    "df_table = df_table[~df_table['Country/Region'].isin(['Cape Verde', 'Cruise Ship', 'Kosovo'])]"
   ]
  },
  {
   "cell_type": "code",
   "execution_count": 15,
   "id": "fantastic-effect",
   "metadata": {
    "execution": {
     "iopub.execute_input": "2021-12-06T12:13:17.841900Z",
     "iopub.status.busy": "2021-12-06T12:13:17.841159Z",
     "iopub.status.idle": "2021-12-06T12:13:17.865563Z",
     "shell.execute_reply": "2021-12-06T12:13:17.866291Z"
    },
    "papermill": {
     "duration": 0.081664,
     "end_time": "2021-12-06T12:13:17.866468",
     "exception": false,
     "start_time": "2021-12-06T12:13:17.784804",
     "status": "completed"
    },
    "tags": []
   },
   "outputs": [
    {
     "data": {
      "text/html": [
       "<div>\n",
       "<style scoped>\n",
       "    .dataframe tbody tr th:only-of-type {\n",
       "        vertical-align: middle;\n",
       "    }\n",
       "\n",
       "    .dataframe tbody tr th {\n",
       "        vertical-align: top;\n",
       "    }\n",
       "\n",
       "    .dataframe thead th {\n",
       "        text-align: right;\n",
       "    }\n",
       "</style>\n",
       "<table border=\"1\" class=\"dataframe\">\n",
       "  <thead>\n",
       "    <tr style=\"text-align: right;\">\n",
       "      <th></th>\n",
       "      <th>Country/Region</th>\n",
       "      <th>Cases</th>\n",
       "      <th>Deaths</th>\n",
       "      <th>PCases</th>\n",
       "      <th>PDeaths</th>\n",
       "      <th>Cases (+)</th>\n",
       "      <th>Deaths (+)</th>\n",
       "      <th>Fatality Rate</th>\n",
       "      <th>Continent</th>\n",
       "    </tr>\n",
       "  </thead>\n",
       "  <tbody>\n",
       "    <tr>\n",
       "      <th>0</th>\n",
       "      <td>US</td>\n",
       "      <td>49085361</td>\n",
       "      <td>788363</td>\n",
       "      <td>49051140</td>\n",
       "      <td>788202</td>\n",
       "      <td>34221</td>\n",
       "      <td>161</td>\n",
       "      <td>1.6</td>\n",
       "      <td>North America</td>\n",
       "    </tr>\n",
       "    <tr>\n",
       "      <th>1</th>\n",
       "      <td>India</td>\n",
       "      <td>34641561</td>\n",
       "      <td>473537</td>\n",
       "      <td>34624360</td>\n",
       "      <td>470530</td>\n",
       "      <td>17201</td>\n",
       "      <td>3007</td>\n",
       "      <td>1.4</td>\n",
       "      <td>Asia</td>\n",
       "    </tr>\n",
       "    <tr>\n",
       "      <th>2</th>\n",
       "      <td>Brazil</td>\n",
       "      <td>22143091</td>\n",
       "      <td>615636</td>\n",
       "      <td>22138247</td>\n",
       "      <td>615570</td>\n",
       "      <td>4844</td>\n",
       "      <td>66</td>\n",
       "      <td>2.8</td>\n",
       "      <td>South America</td>\n",
       "    </tr>\n",
       "    <tr>\n",
       "      <th>3</th>\n",
       "      <td>United Kingdom</td>\n",
       "      <td>10523316</td>\n",
       "      <td>146055</td>\n",
       "      <td>10479955</td>\n",
       "      <td>146001</td>\n",
       "      <td>43361</td>\n",
       "      <td>54</td>\n",
       "      <td>1.4</td>\n",
       "      <td>Europe</td>\n",
       "    </tr>\n",
       "    <tr>\n",
       "      <th>4</th>\n",
       "      <td>Russia</td>\n",
       "      <td>9630296</td>\n",
       "      <td>275824</td>\n",
       "      <td>9598283</td>\n",
       "      <td>274648</td>\n",
       "      <td>32013</td>\n",
       "      <td>1176</td>\n",
       "      <td>2.9</td>\n",
       "      <td>Europe</td>\n",
       "    </tr>\n",
       "  </tbody>\n",
       "</table>\n",
       "</div>"
      ],
      "text/plain": [
       "   Country/Region     Cases  Deaths    PCases  PDeaths  Cases (+)  Deaths (+)  \\\n",
       "0              US  49085361  788363  49051140   788202      34221         161   \n",
       "1           India  34641561  473537  34624360   470530      17201        3007   \n",
       "2          Brazil  22143091  615636  22138247   615570       4844          66   \n",
       "3  United Kingdom  10523316  146055  10479955   146001      43361          54   \n",
       "4          Russia   9630296  275824   9598283   274648      32013        1176   \n",
       "\n",
       "   Fatality Rate      Continent  \n",
       "0            1.6  North America  \n",
       "1            1.4           Asia  \n",
       "2            2.8  South America  \n",
       "3            1.4         Europe  \n",
       "4            2.9         Europe  "
      ]
     },
     "execution_count": 15,
     "metadata": {},
     "output_type": "execute_result"
    }
   ],
   "source": [
    "#hide\n",
    "df_table = (pd.DataFrame(dict(Cases=dfc_cases, Deaths=dfc_deaths, PCases=dfp_cases, PDeaths=dfp_deaths))\n",
    "             .sort_values(by=['Cases', 'Deaths'], ascending=[False, False])\n",
    "             .reset_index())\n",
    "df_table.rename(columns={'index': 'Country/Region'}, inplace=True)\n",
    "for c in 'Cases, Deaths'.split(', '):\n",
    "    df_table[f'{c} (+)'] = (df_table[c] - df_table[f'P{c}']).clip(0)  # DATA BUG\n",
    "df_table['Fatality Rate'] = (100 * df_table['Deaths'] / df_table['Cases']).round(1)\n",
    "df_table['Continent'] = df_table['Country/Region'].map(mapping['map.continent'])\n",
    "df_table.head(5)"
   ]
  },
  {
   "cell_type": "code",
   "execution_count": 16,
   "id": "fewer-occasion",
   "metadata": {
    "execution": {
     "iopub.execute_input": "2021-12-06T12:13:17.965794Z",
     "iopub.status.busy": "2021-12-06T12:13:17.964847Z",
     "iopub.status.idle": "2021-12-06T12:13:17.967299Z",
     "shell.execute_reply": "2021-12-06T12:13:17.967907Z"
    },
    "papermill": {
     "duration": 0.0589,
     "end_time": "2021-12-06T12:13:17.968080",
     "exception": false,
     "start_time": "2021-12-06T12:13:17.909180",
     "status": "completed"
    },
    "tags": []
   },
   "outputs": [],
   "source": [
    "#hide\n",
    "#delete problematic countries from table\n",
    "df_table = df_table[~df_table['Country/Region'].isin(['Cape Verde', 'Cruise Ship', 'Kosovo'])]"
   ]
  },
  {
   "cell_type": "code",
   "execution_count": 17,
   "id": "related-center",
   "metadata": {
    "execution": {
     "iopub.execute_input": "2021-12-06T12:13:18.086094Z",
     "iopub.status.busy": "2021-12-06T12:13:18.085197Z",
     "iopub.status.idle": "2021-12-06T12:13:18.087178Z",
     "shell.execute_reply": "2021-12-06T12:13:18.088003Z"
    },
    "papermill": {
     "duration": 0.071083,
     "end_time": "2021-12-06T12:13:18.088185",
     "exception": false,
     "start_time": "2021-12-06T12:13:18.017102",
     "status": "completed"
    },
    "tags": []
   },
   "outputs": [],
   "source": [
    "#hide\n",
    "metrics = [df_table.columns[index] for index in [1,2,5,6]]\n",
    "# s_china = df_table[df_table['Country/Region'].eq('China')][metrics].sum().add_prefix('China ')\n",
    "s_us = df_table[df_table['Country/Region'].eq('US')][metrics].sum().add_prefix('US ')\n",
    "s_eu = df_table[df_table['Continent'].eq('Europe')][metrics].sum().add_prefix('EU ')\n",
    "s_ind = df_table[df_table['Country/Region'].eq('India')][metrics].sum().add_prefix('India ')\n",
    "summary = {'updated': pd.to_datetime(dt_today), 'since': pd.to_datetime(dt_yday)}\n",
    "summary = {'updated': pd.to_datetime(dt_today), 'since': pd.to_datetime(dt_yday)}\n",
    "summary = {**summary, **df_table[metrics].sum(), **s_ind, **s_us, **s_eu}"
   ]
  },
  {
   "cell_type": "code",
   "execution_count": 18,
   "id": "engaging-syndrome",
   "metadata": {
    "execution": {
     "iopub.execute_input": "2021-12-06T12:13:18.186033Z",
     "iopub.status.busy": "2021-12-06T12:13:18.185304Z",
     "iopub.status.idle": "2021-12-06T12:13:18.202895Z",
     "shell.execute_reply": "2021-12-06T12:13:18.202260Z"
    },
    "papermill": {
     "duration": 0.07135,
     "end_time": "2021-12-06T12:13:18.203049",
     "exception": false,
     "start_time": "2021-12-06T12:13:18.131699",
     "status": "completed"
    },
    "tags": []
   },
   "outputs": [],
   "source": [
    "#hide\n",
    "dft_ct_new_cases = dft_cases.groupby(COL_REGION)[dt_cols].sum().diff(axis=1).fillna(0).astype(int)"
   ]
  },
  {
   "cell_type": "code",
   "execution_count": 19,
   "id": "neutral-assignment",
   "metadata": {
    "execution": {
     "iopub.execute_input": "2021-12-06T12:13:18.298985Z",
     "iopub.status.busy": "2021-12-06T12:13:18.298252Z",
     "iopub.status.idle": "2021-12-06T12:13:18.300342Z",
     "shell.execute_reply": "2021-12-06T12:13:18.300888Z"
    },
    "papermill": {
     "duration": 0.052245,
     "end_time": "2021-12-06T12:13:18.301070",
     "exception": false,
     "start_time": "2021-12-06T12:13:18.248825",
     "status": "completed"
    },
    "tags": []
   },
   "outputs": [],
   "source": [
    "#hide\n",
    "everydaycases = dft_ct_new_cases.cumsum(axis=1)"
   ]
  },
  {
   "cell_type": "code",
   "execution_count": 20,
   "id": "parliamentary-calgary",
   "metadata": {
    "execution": {
     "iopub.execute_input": "2021-12-06T12:13:18.404907Z",
     "iopub.status.busy": "2021-12-06T12:13:18.404132Z",
     "iopub.status.idle": "2021-12-06T12:13:19.217640Z",
     "shell.execute_reply": "2021-12-06T12:13:19.218561Z"
    },
    "papermill": {
     "duration": 0.863861,
     "end_time": "2021-12-06T12:13:19.218761",
     "exception": false,
     "start_time": "2021-12-06T12:13:18.354900",
     "status": "completed"
    },
    "tags": []
   },
   "outputs": [],
   "source": [
    "#hide\n",
    "import pandas as pd\n",
    "import matplotlib.pyplot as plt\n",
    "import matplotlib.ticker as ticker\n",
    "import matplotlib.animation as animation\n",
    "from IPython.display import HTML"
   ]
  },
  {
   "cell_type": "code",
   "execution_count": 21,
   "id": "lasting-extraction",
   "metadata": {
    "execution": {
     "iopub.execute_input": "2021-12-06T12:13:19.318546Z",
     "iopub.status.busy": "2021-12-06T12:13:19.317168Z",
     "iopub.status.idle": "2021-12-06T12:13:19.331682Z",
     "shell.execute_reply": "2021-12-06T12:13:19.330930Z"
    },
    "papermill": {
     "duration": 0.06858,
     "end_time": "2021-12-06T12:13:19.331843",
     "exception": false,
     "start_time": "2021-12-06T12:13:19.263263",
     "status": "completed"
    },
    "tags": []
   },
   "outputs": [],
   "source": [
    "#hide\n",
    "t = everydaycases.stack()"
   ]
  },
  {
   "cell_type": "code",
   "execution_count": 22,
   "id": "premier-sleeve",
   "metadata": {
    "execution": {
     "iopub.execute_input": "2021-12-06T12:13:19.425353Z",
     "iopub.status.busy": "2021-12-06T12:13:19.424625Z",
     "iopub.status.idle": "2021-12-06T12:13:19.436760Z",
     "shell.execute_reply": "2021-12-06T12:13:19.435986Z"
    },
    "papermill": {
     "duration": 0.061176,
     "end_time": "2021-12-06T12:13:19.436924",
     "exception": false,
     "start_time": "2021-12-06T12:13:19.375748",
     "status": "completed"
    },
    "tags": []
   },
   "outputs": [],
   "source": [
    "#hide\n",
    "g = t.reset_index(['Country/Region'])"
   ]
  },
  {
   "cell_type": "code",
   "execution_count": 23,
   "id": "distributed-pittsburgh",
   "metadata": {
    "execution": {
     "iopub.execute_input": "2021-12-06T12:13:19.528810Z",
     "iopub.status.busy": "2021-12-06T12:13:19.527967Z",
     "iopub.status.idle": "2021-12-06T12:13:19.530350Z",
     "shell.execute_reply": "2021-12-06T12:13:19.530939Z"
    },
    "papermill": {
     "duration": 0.050693,
     "end_time": "2021-12-06T12:13:19.531146",
     "exception": false,
     "start_time": "2021-12-06T12:13:19.480453",
     "status": "completed"
    },
    "tags": []
   },
   "outputs": [],
   "source": [
    "#hide\n",
    "g.index.name = 'date'"
   ]
  },
  {
   "cell_type": "code",
   "execution_count": 24,
   "id": "naked-donor",
   "metadata": {
    "execution": {
     "iopub.execute_input": "2021-12-06T12:13:19.649415Z",
     "iopub.status.busy": "2021-12-06T12:13:19.648679Z",
     "iopub.status.idle": "2021-12-06T12:13:19.650344Z",
     "shell.execute_reply": "2021-12-06T12:13:19.651468Z"
    },
    "papermill": {
     "duration": 0.058448,
     "end_time": "2021-12-06T12:13:19.651657",
     "exception": false,
     "start_time": "2021-12-06T12:13:19.593209",
     "status": "completed"
    },
    "tags": []
   },
   "outputs": [],
   "source": [
    "# #hide\n",
    "# g = g.reset_index(['date'])"
   ]
  },
  {
   "cell_type": "code",
   "execution_count": 25,
   "id": "incomplete-mustang",
   "metadata": {
    "execution": {
     "iopub.execute_input": "2021-12-06T12:13:19.765539Z",
     "iopub.status.busy": "2021-12-06T12:13:19.764776Z",
     "iopub.status.idle": "2021-12-06T12:13:19.766509Z",
     "shell.execute_reply": "2021-12-06T12:13:19.767178Z"
    },
    "papermill": {
     "duration": 0.054628,
     "end_time": "2021-12-06T12:13:19.767332",
     "exception": false,
     "start_time": "2021-12-06T12:13:19.712704",
     "status": "completed"
    },
    "tags": []
   },
   "outputs": [],
   "source": [
    "#hide\n",
    "# g.head()"
   ]
  },
  {
   "cell_type": "code",
   "execution_count": 26,
   "id": "specific-kruger",
   "metadata": {
    "execution": {
     "iopub.execute_input": "2021-12-06T12:13:19.869239Z",
     "iopub.status.busy": "2021-12-06T12:13:19.868490Z",
     "iopub.status.idle": "2021-12-06T12:13:19.872764Z",
     "shell.execute_reply": "2021-12-06T12:13:19.873574Z"
    },
    "papermill": {
     "duration": 0.057463,
     "end_time": "2021-12-06T12:13:19.873779",
     "exception": false,
     "start_time": "2021-12-06T12:13:19.816316",
     "status": "completed"
    },
    "tags": []
   },
   "outputs": [],
   "source": [
    "#hide\n",
    "# g.columns = ['date','country','cases']"
   ]
  },
  {
   "cell_type": "code",
   "execution_count": 27,
   "id": "tender-conversion",
   "metadata": {
    "execution": {
     "iopub.execute_input": "2021-12-06T12:13:19.966649Z",
     "iopub.status.busy": "2021-12-06T12:13:19.965626Z",
     "iopub.status.idle": "2021-12-06T12:13:19.970708Z",
     "shell.execute_reply": "2021-12-06T12:13:19.971304Z"
    },
    "papermill": {
     "duration": 0.054074,
     "end_time": "2021-12-06T12:13:19.971516",
     "exception": false,
     "start_time": "2021-12-06T12:13:19.917442",
     "status": "completed"
    },
    "tags": []
   },
   "outputs": [],
   "source": [
    "#hide\n",
    "# g['continent'] = g.country"
   ]
  },
  {
   "cell_type": "code",
   "execution_count": 28,
   "id": "substantial-wilderness",
   "metadata": {
    "execution": {
     "iopub.execute_input": "2021-12-06T12:13:20.062229Z",
     "iopub.status.busy": "2021-12-06T12:13:20.061511Z",
     "iopub.status.idle": "2021-12-06T12:13:20.065288Z",
     "shell.execute_reply": "2021-12-06T12:13:20.064641Z"
    },
    "papermill": {
     "duration": 0.050325,
     "end_time": "2021-12-06T12:13:20.065447",
     "exception": false,
     "start_time": "2021-12-06T12:13:20.015122",
     "status": "completed"
    },
    "tags": []
   },
   "outputs": [],
   "source": [
    "#hide\n",
    "# cols = list(g.columns.values)"
   ]
  },
  {
   "cell_type": "code",
   "execution_count": 29,
   "id": "solved-farming",
   "metadata": {
    "execution": {
     "iopub.execute_input": "2021-12-06T12:13:20.163100Z",
     "iopub.status.busy": "2021-12-06T12:13:20.162332Z",
     "iopub.status.idle": "2021-12-06T12:13:20.167609Z",
     "shell.execute_reply": "2021-12-06T12:13:20.166783Z"
    },
    "papermill": {
     "duration": 0.053449,
     "end_time": "2021-12-06T12:13:20.167841",
     "exception": false,
     "start_time": "2021-12-06T12:13:20.114392",
     "status": "completed"
    },
    "tags": []
   },
   "outputs": [],
   "source": [
    "#hide\n",
    "# cols.insert(0, cols.pop())"
   ]
  },
  {
   "cell_type": "code",
   "execution_count": 30,
   "id": "executed-adoption",
   "metadata": {
    "execution": {
     "iopub.execute_input": "2021-12-06T12:13:20.259188Z",
     "iopub.status.busy": "2021-12-06T12:13:20.258386Z",
     "iopub.status.idle": "2021-12-06T12:13:20.260836Z",
     "shell.execute_reply": "2021-12-06T12:13:20.260164Z"
    },
    "papermill": {
     "duration": 0.048982,
     "end_time": "2021-12-06T12:13:20.260981",
     "exception": false,
     "start_time": "2021-12-06T12:13:20.211999",
     "status": "completed"
    },
    "tags": []
   },
   "outputs": [],
   "source": [
    "#hide\n",
    "# g = g[cols]"
   ]
  },
  {
   "cell_type": "code",
   "execution_count": 31,
   "id": "subject-dublin",
   "metadata": {
    "execution": {
     "iopub.execute_input": "2021-12-06T12:13:20.354194Z",
     "iopub.status.busy": "2021-12-06T12:13:20.353466Z",
     "iopub.status.idle": "2021-12-06T12:13:20.356202Z",
     "shell.execute_reply": "2021-12-06T12:13:20.355609Z"
    },
    "papermill": {
     "duration": 0.050719,
     "end_time": "2021-12-06T12:13:20.356347",
     "exception": false,
     "start_time": "2021-12-06T12:13:20.305628",
     "status": "completed"
    },
    "tags": []
   },
   "outputs": [],
   "source": [
    "#hide\n",
    "# g['continent'] = g['continent'].map(mapping['map.continent'])"
   ]
  },
  {
   "cell_type": "code",
   "execution_count": 32,
   "id": "freelance-scout",
   "metadata": {
    "execution": {
     "iopub.execute_input": "2021-12-06T12:13:20.449906Z",
     "iopub.status.busy": "2021-12-06T12:13:20.449108Z",
     "iopub.status.idle": "2021-12-06T12:13:20.451050Z",
     "shell.execute_reply": "2021-12-06T12:13:20.451705Z"
    },
    "papermill": {
     "duration": 0.051008,
     "end_time": "2021-12-06T12:13:20.451899",
     "exception": false,
     "start_time": "2021-12-06T12:13:20.400891",
     "status": "completed"
    },
    "tags": []
   },
   "outputs": [],
   "source": [
    "#hide\n",
    "# g.head()"
   ]
  },
  {
   "cell_type": "code",
   "execution_count": 33,
   "id": "limited-engine",
   "metadata": {
    "execution": {
     "iopub.execute_input": "2021-12-06T12:13:20.544277Z",
     "iopub.status.busy": "2021-12-06T12:13:20.543544Z",
     "iopub.status.idle": "2021-12-06T12:13:20.547044Z",
     "shell.execute_reply": "2021-12-06T12:13:20.546388Z"
    },
    "papermill": {
     "duration": 0.05133,
     "end_time": "2021-12-06T12:13:20.547229",
     "exception": false,
     "start_time": "2021-12-06T12:13:20.495899",
     "status": "completed"
    },
    "tags": []
   },
   "outputs": [],
   "source": [
    "# hide\n",
    "# g['date'] = g['date'].astype('datetime64[ns]')"
   ]
  },
  {
   "cell_type": "code",
   "execution_count": 34,
   "id": "sophisticated-supervisor",
   "metadata": {
    "execution": {
     "iopub.execute_input": "2021-12-06T12:13:20.639916Z",
     "iopub.status.busy": "2021-12-06T12:13:20.639175Z",
     "iopub.status.idle": "2021-12-06T12:13:20.642609Z",
     "shell.execute_reply": "2021-12-06T12:13:20.643240Z"
    },
    "papermill": {
     "duration": 0.052198,
     "end_time": "2021-12-06T12:13:20.643509",
     "exception": false,
     "start_time": "2021-12-06T12:13:20.591311",
     "status": "completed"
    },
    "tags": []
   },
   "outputs": [],
   "source": [
    "#hide\n",
    "# g['date'] = g.date.dt.dayofyear"
   ]
  },
  {
   "cell_type": "code",
   "execution_count": 35,
   "id": "inside-dubai",
   "metadata": {
    "execution": {
     "iopub.execute_input": "2021-12-06T12:13:20.752423Z",
     "iopub.status.busy": "2021-12-06T12:13:20.751718Z",
     "iopub.status.idle": "2021-12-06T12:13:20.754638Z",
     "shell.execute_reply": "2021-12-06T12:13:20.755373Z"
    },
    "papermill": {
     "duration": 0.059885,
     "end_time": "2021-12-06T12:13:20.755578",
     "exception": false,
     "start_time": "2021-12-06T12:13:20.695693",
     "status": "completed"
    },
    "tags": []
   },
   "outputs": [],
   "source": [
    "#hide\n",
    "# g = g.rename(columns= {'continent':'group','country':'name','cases':'value'})"
   ]
  },
  {
   "cell_type": "code",
   "execution_count": 36,
   "id": "fleet-motorcycle",
   "metadata": {
    "execution": {
     "iopub.execute_input": "2021-12-06T12:13:20.850649Z",
     "iopub.status.busy": "2021-12-06T12:13:20.849901Z",
     "iopub.status.idle": "2021-12-06T12:13:20.853918Z",
     "shell.execute_reply": "2021-12-06T12:13:20.854498Z"
    },
    "papermill": {
     "duration": 0.055365,
     "end_time": "2021-12-06T12:13:20.854678",
     "exception": false,
     "start_time": "2021-12-06T12:13:20.799313",
     "status": "completed"
    },
    "tags": []
   },
   "outputs": [],
   "source": [
    "#hide\n",
    "# cols = ['name','group','day','value']"
   ]
  },
  {
   "cell_type": "code",
   "execution_count": 37,
   "id": "continued-sleeping",
   "metadata": {
    "execution": {
     "iopub.execute_input": "2021-12-06T12:13:20.953074Z",
     "iopub.status.busy": "2021-12-06T12:13:20.952358Z",
     "iopub.status.idle": "2021-12-06T12:13:20.954871Z",
     "shell.execute_reply": "2021-12-06T12:13:20.954187Z"
    },
    "papermill": {
     "duration": 0.054394,
     "end_time": "2021-12-06T12:13:20.955015",
     "exception": false,
     "start_time": "2021-12-06T12:13:20.900621",
     "status": "completed"
    },
    "tags": []
   },
   "outputs": [],
   "source": [
    "#hide\n",
    "# g.rename(columns= {'date':'day'},inplace = True)"
   ]
  },
  {
   "cell_type": "code",
   "execution_count": 38,
   "id": "major-fight",
   "metadata": {
    "execution": {
     "iopub.execute_input": "2021-12-06T12:13:21.051494Z",
     "iopub.status.busy": "2021-12-06T12:13:21.050746Z",
     "iopub.status.idle": "2021-12-06T12:13:21.054435Z",
     "shell.execute_reply": "2021-12-06T12:13:21.055032Z"
    },
    "papermill": {
     "duration": 0.052647,
     "end_time": "2021-12-06T12:13:21.055230",
     "exception": false,
     "start_time": "2021-12-06T12:13:21.002583",
     "status": "completed"
    },
    "tags": []
   },
   "outputs": [],
   "source": [
    "#hide\n",
    "# g = g[cols]"
   ]
  },
  {
   "cell_type": "code",
   "execution_count": 39,
   "id": "structured-mobile",
   "metadata": {
    "execution": {
     "iopub.execute_input": "2021-12-06T12:13:21.145499Z",
     "iopub.status.busy": "2021-12-06T12:13:21.144803Z",
     "iopub.status.idle": "2021-12-06T12:13:21.150378Z",
     "shell.execute_reply": "2021-12-06T12:13:21.149545Z"
    },
    "papermill": {
     "duration": 0.051791,
     "end_time": "2021-12-06T12:13:21.150529",
     "exception": false,
     "start_time": "2021-12-06T12:13:21.098738",
     "status": "completed"
    },
    "tags": []
   },
   "outputs": [],
   "source": [
    "# #hide\n",
    "# g = g[g.group.notna()]"
   ]
  },
  {
   "cell_type": "code",
   "execution_count": 40,
   "id": "determined-closing",
   "metadata": {
    "execution": {
     "iopub.execute_input": "2021-12-06T12:13:21.250846Z",
     "iopub.status.busy": "2021-12-06T12:13:21.249784Z",
     "iopub.status.idle": "2021-12-06T12:13:21.252079Z",
     "shell.execute_reply": "2021-12-06T12:13:21.252668Z"
    },
    "papermill": {
     "duration": 0.051416,
     "end_time": "2021-12-06T12:13:21.252827",
     "exception": false,
     "start_time": "2021-12-06T12:13:21.201411",
     "status": "completed"
    },
    "tags": []
   },
   "outputs": [],
   "source": [
    "# #hide\n",
    "# colors = dict(zip(\n",
    "#     [\"Oceania\", \"Europe\", \"Asia\", \"South America\", \"Middle East\", \"North America\", \"Africa\"],\n",
    "#     [\"#adb0ff\", \"#ffb3ff\", \"#90d595\", \"#e48381\", \"#aafbff\", \"#f7bb5f\", \"#eafb50\"]\n",
    "# ))\n",
    "# group_lk = g.set_index('name')['group'].to_dict()"
   ]
  },
  {
   "cell_type": "code",
   "execution_count": null,
   "id": "gross-drinking",
   "metadata": {
    "papermill": {
     "duration": 0.045903,
     "end_time": "2021-12-06T12:13:21.352882",
     "exception": false,
     "start_time": "2021-12-06T12:13:21.306979",
     "status": "completed"
    },
    "tags": []
   },
   "outputs": [],
   "source": []
  },
  {
   "cell_type": "code",
   "execution_count": 41,
   "id": "subject-macintosh",
   "metadata": {
    "execution": {
     "iopub.execute_input": "2021-12-06T12:13:21.452442Z",
     "iopub.status.busy": "2021-12-06T12:13:21.451698Z",
     "iopub.status.idle": "2021-12-06T12:13:21.454936Z",
     "shell.execute_reply": "2021-12-06T12:13:21.454340Z"
    },
    "papermill": {
     "duration": 0.053247,
     "end_time": "2021-12-06T12:13:21.455116",
     "exception": false,
     "start_time": "2021-12-06T12:13:21.401869",
     "status": "completed"
    },
    "tags": []
   },
   "outputs": [],
   "source": [
    "# #hide\n",
    "# fig, ax = plt.subplots(figsize=(15, 8))\n",
    "\n",
    "# def draw_barchart(current_day):\n",
    "#     dff = g[g['day'].eq(current_day)].sort_values(by='value', ascending=True).tail(10)\n",
    "#     ax.clear()\n",
    "#     ax.barh(dff['name'], dff['value'], color=[colors[group_lk[x]] for x in dff['name']])\n",
    "#     dx = dff['value'].max() / 200\n",
    "    \n",
    "#     for i, (value, name) in enumerate(zip(dff['value'], dff['name'])):\n",
    "#         ax.text(value-dx, i,     name,           size=14, weight=600, ha='right', va='bottom')\n",
    "#         ax.text(value-dx, i-.25, group_lk[name], size=10, color='#444444', ha='right', va='baseline')\n",
    "#         ax.text(value+dx, i,     f'{value:,.0f}',  size=14, ha='left',  va='center')\n",
    "#     ax.text(1, 0.4, current_day, transform=ax.transAxes, color='#777777', size=46, ha='right', weight=800)\n",
    "#     ax.text(0, 1.06, 'Population (thousands)', transform=ax.transAxes, size=12, color='#777777')\n",
    "#     ax.xaxis.set_major_formatter(ticker.StrMethodFormatter('{x:,.0f}'))\n",
    "#     ax.xaxis.set_ticks_position('top')\n",
    "#     ax.tick_params(axis='x', colors='#777777', labelsize=12)\n",
    "#     ax.set_yticks([])\n",
    "#     ax.margins(0, 0.01)\n",
    "#     ax.grid(which='major', axis='x', linestyle='-')\n",
    "#     ax.set_axisbelow(True)\n",
    "    \n",
    "#     ax.text(0, 1.15, 'Coronavirus',\n",
    "#             transform=ax.transAxes, size=24, weight=600, ha='left', va='top')\n",
    "# #     ax.text(1, 0, 'by @pratapvardhan; credit @jburnmurdoch', transform=ax.transAxes, color='#777777', ha='right',\n",
    "# #             bbox=dict(facecolor='white', alpha=0.8, edgecolor='white'))\n",
    "#     plt.box(False)"
   ]
  },
  {
   "cell_type": "code",
   "execution_count": 42,
   "id": "sexual-wages",
   "metadata": {
    "execution": {
     "iopub.execute_input": "2021-12-06T12:13:21.546251Z",
     "iopub.status.busy": "2021-12-06T12:13:21.545555Z",
     "iopub.status.idle": "2021-12-06T12:13:21.548029Z",
     "shell.execute_reply": "2021-12-06T12:13:21.548569Z"
    },
    "papermill": {
     "duration": 0.050791,
     "end_time": "2021-12-06T12:13:21.548728",
     "exception": false,
     "start_time": "2021-12-06T12:13:21.497937",
     "status": "completed"
    },
    "tags": []
   },
   "outputs": [],
   "source": [
    "# #hide_input\n",
    "# fig, ax = plt.subplots(figsize=(15, 8))\n",
    "# animator = animation.FuncAnimation(fig, draw_barchart, frames=range(g.day.values.min(), g.day.values.max()))\n",
    "# HTML(animator.to_jshtml())\n",
    "# # or use animator.to_html5_video() or animator.save() "
   ]
  },
  {
   "cell_type": "code",
   "execution_count": null,
   "id": "australian-container",
   "metadata": {
    "papermill": {
     "duration": 0.043146,
     "end_time": "2021-12-06T12:13:21.633599",
     "exception": false,
     "start_time": "2021-12-06T12:13:21.590453",
     "status": "completed"
    },
    "tags": []
   },
   "outputs": [],
   "source": []
  },
  {
   "cell_type": "code",
   "execution_count": null,
   "id": "mediterranean-pontiac",
   "metadata": {
    "papermill": {
     "duration": 0.043399,
     "end_time": "2021-12-06T12:13:21.721161",
     "exception": false,
     "start_time": "2021-12-06T12:13:21.677762",
     "status": "completed"
    },
    "tags": []
   },
   "outputs": [],
   "source": []
  },
  {
   "cell_type": "code",
   "execution_count": null,
   "id": "aging-legislature",
   "metadata": {
    "papermill": {
     "duration": 0.043217,
     "end_time": "2021-12-06T12:13:21.806408",
     "exception": false,
     "start_time": "2021-12-06T12:13:21.763191",
     "status": "completed"
    },
    "tags": []
   },
   "outputs": [],
   "source": []
  }
 ],
 "metadata": {
  "kernelspec": {
   "display_name": "Python 3",
   "language": "python",
   "name": "python3"
  },
  "language_info": {
   "codemirror_mode": {
    "name": "ipython",
    "version": 3
   },
   "file_extension": ".py",
   "mimetype": "text/x-python",
   "name": "python",
   "nbconvert_exporter": "python",
   "pygments_lexer": "ipython3",
   "version": "3.6.15"
  },
  "papermill": {
   "duration": 8.314552,
   "end_time": "2021-12-06T12:13:22.261430",
   "environment_variables": {},
   "exception": null,
   "input_path": "2020-03-21-covid19exp.ipynb",
   "output_path": "2020-03-21-covid19exp.ipynb",
   "parameters": {},
   "start_time": "2021-12-06T12:13:13.946878",
   "version": "2.0.0"
  }
 },
 "nbformat": 4,
 "nbformat_minor": 5
}