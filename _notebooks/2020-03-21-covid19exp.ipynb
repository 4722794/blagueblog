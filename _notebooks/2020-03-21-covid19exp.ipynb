{
 "cells": [
  {
   "cell_type": "markdown",
   "id": "muslim-click",
   "metadata": {
    "papermill": {
     "duration": 0.034989,
     "end_time": "2021-11-08T12:11:58.488331",
     "exception": false,
     "start_time": "2021-11-08T12:11:58.453342",
     "status": "completed"
    },
    "tags": []
   },
   "source": [
    "# COVID-19 Case Race\n",
    "> A race chart to see rising cases around the world\n",
    "\n",
    "- author: Hargun Oberoi\n",
    "- image: images/covid-overview.png\n",
    "- hide: false\n",
    "- badges: false"
   ]
  },
  {
   "cell_type": "code",
   "execution_count": 1,
   "id": "proof-material",
   "metadata": {
    "execution": {
     "iopub.execute_input": "2021-11-08T12:11:58.558142Z",
     "iopub.status.busy": "2021-11-08T12:11:58.557560Z",
     "iopub.status.idle": "2021-11-08T12:11:58.895849Z",
     "shell.execute_reply": "2021-11-08T12:11:58.895297Z"
    },
    "papermill": {
     "duration": 0.376127,
     "end_time": "2021-11-08T12:11:58.895990",
     "exception": false,
     "start_time": "2021-11-08T12:11:58.519863",
     "status": "completed"
    },
    "tags": []
   },
   "outputs": [],
   "source": [
    "#hide\n",
    "import numpy as np\n",
    "import pandas as pd\n",
    "from jinja2 import Template\n",
    "from IPython.display import HTML"
   ]
  },
  {
   "cell_type": "code",
   "execution_count": 2,
   "id": "developed-terminology",
   "metadata": {
    "execution": {
     "iopub.execute_input": "2021-11-08T12:11:58.964171Z",
     "iopub.status.busy": "2021-11-08T12:11:58.963598Z",
     "iopub.status.idle": "2021-11-08T12:11:58.967003Z",
     "shell.execute_reply": "2021-11-08T12:11:58.967501Z"
    },
    "papermill": {
     "duration": 0.038921,
     "end_time": "2021-11-08T12:11:58.967626",
     "exception": false,
     "start_time": "2021-11-08T12:11:58.928705",
     "status": "completed"
    },
    "tags": []
   },
   "outputs": [],
   "source": [
    "#hide\n",
    "\n",
    "# FETCH\n",
    "base_url = 'https://raw.githubusercontent.com/pratapvardhan/notebooks/master/covid19/'\n",
    "paths = {\n",
    "    'mapping': base_url + 'mapping_countries.csv',\n",
    "    'overview': base_url + 'overview.tpl'\n",
    "}"
   ]
  },
  {
   "cell_type": "code",
   "execution_count": 3,
   "id": "dynamic-saver",
   "metadata": {
    "execution": {
     "iopub.execute_input": "2021-11-08T12:11:59.039033Z",
     "iopub.status.busy": "2021-11-08T12:11:59.037574Z",
     "iopub.status.idle": "2021-11-08T12:11:59.042070Z",
     "shell.execute_reply": "2021-11-08T12:11:59.041649Z"
    },
    "papermill": {
     "duration": 0.043044,
     "end_time": "2021-11-08T12:11:59.042172",
     "exception": false,
     "start_time": "2021-11-08T12:11:58.999128",
     "status": "completed"
    },
    "tags": []
   },
   "outputs": [
    {
     "data": {
      "text/plain": [
       "'https://raw.githubusercontent.com/pratapvardhan/notebooks/master/covid19/mapping_countries.csv'"
      ]
     },
     "execution_count": 3,
     "metadata": {},
     "output_type": "execute_result"
    }
   ],
   "source": [
    "#hide\n",
    "paths['mapping']"
   ]
  },
  {
   "cell_type": "code",
   "execution_count": 4,
   "id": "urban-software",
   "metadata": {
    "execution": {
     "iopub.execute_input": "2021-11-08T12:11:59.112830Z",
     "iopub.status.busy": "2021-11-08T12:11:59.112203Z",
     "iopub.status.idle": "2021-11-08T12:11:59.114993Z",
     "shell.execute_reply": "2021-11-08T12:11:59.114511Z"
    },
    "papermill": {
     "duration": 0.040276,
     "end_time": "2021-11-08T12:11:59.115100",
     "exception": false,
     "start_time": "2021-11-08T12:11:59.074824",
     "status": "completed"
    },
    "tags": []
   },
   "outputs": [],
   "source": [
    "#hide\n",
    "def get_mappings(url):\n",
    "    df = pd.read_csv(url)\n",
    "    return {\n",
    "        'df': df,\n",
    "        'replace.country': dict(df.dropna(subset=['Name']).set_index('Country')['Name']),\n",
    "        'map.continent': dict(df.set_index('Name')['Continent'])\n",
    "    }"
   ]
  },
  {
   "cell_type": "code",
   "execution_count": 5,
   "id": "intimate-machinery",
   "metadata": {
    "execution": {
     "iopub.execute_input": "2021-11-08T12:11:59.185437Z",
     "iopub.status.busy": "2021-11-08T12:11:59.184834Z",
     "iopub.status.idle": "2021-11-08T12:11:59.223675Z",
     "shell.execute_reply": "2021-11-08T12:11:59.223166Z"
    },
    "papermill": {
     "duration": 0.076813,
     "end_time": "2021-11-08T12:11:59.223815",
     "exception": false,
     "start_time": "2021-11-08T12:11:59.147002",
     "status": "completed"
    },
    "tags": []
   },
   "outputs": [],
   "source": [
    "#hide\n",
    "mapping = get_mappings(paths['mapping'])"
   ]
  },
  {
   "cell_type": "code",
   "execution_count": 6,
   "id": "certified-tactics",
   "metadata": {
    "execution": {
     "iopub.execute_input": "2021-11-08T12:11:59.296341Z",
     "iopub.status.busy": "2021-11-08T12:11:59.295780Z",
     "iopub.status.idle": "2021-11-08T12:11:59.298247Z",
     "shell.execute_reply": "2021-11-08T12:11:59.297800Z"
    },
    "papermill": {
     "duration": 0.040712,
     "end_time": "2021-11-08T12:11:59.298371",
     "exception": false,
     "start_time": "2021-11-08T12:11:59.257659",
     "status": "completed"
    },
    "tags": []
   },
   "outputs": [],
   "source": [
    "#hide\n",
    "def get_template(path):\n",
    "    from urllib.parse import urlparse\n",
    "    if bool(urlparse(path).netloc):\n",
    "        from urllib.request import urlopen\n",
    "        return urlopen(path).read().decode('utf8')\n",
    "    return open(path).read()"
   ]
  },
  {
   "cell_type": "code",
   "execution_count": 7,
   "id": "realistic-blast",
   "metadata": {
    "execution": {
     "iopub.execute_input": "2021-11-08T12:11:59.366363Z",
     "iopub.status.busy": "2021-11-08T12:11:59.365804Z",
     "iopub.status.idle": "2021-11-08T12:11:59.367755Z",
     "shell.execute_reply": "2021-11-08T12:11:59.368167Z"
    },
    "papermill": {
     "duration": 0.036427,
     "end_time": "2021-11-08T12:11:59.368283",
     "exception": false,
     "start_time": "2021-11-08T12:11:59.331856",
     "status": "completed"
    },
    "tags": []
   },
   "outputs": [],
   "source": [
    "#hide\n",
    "def get_frame(name):\n",
    "    url = (\n",
    "        'https://raw.githubusercontent.com/CSSEGISandData/COVID-19/master/csse_covid_19_data/'\n",
    "        f'csse_covid_19_time_series/time_series_covid19_{name}_global.csv')\n",
    "    df = pd.read_csv(url)\n",
    "    # rename countries\n",
    "    df['Country/Region'] = df['Country/Region'].replace(mapping['replace.country'])\n",
    "    return df"
   ]
  },
  {
   "cell_type": "code",
   "execution_count": 8,
   "id": "affiliated-characterization",
   "metadata": {
    "execution": {
     "iopub.execute_input": "2021-11-08T12:11:59.434629Z",
     "iopub.status.busy": "2021-11-08T12:11:59.434112Z",
     "iopub.status.idle": "2021-11-08T12:11:59.436298Z",
     "shell.execute_reply": "2021-11-08T12:11:59.436717Z"
    },
    "papermill": {
     "duration": 0.037024,
     "end_time": "2021-11-08T12:11:59.436830",
     "exception": false,
     "start_time": "2021-11-08T12:11:59.399806",
     "status": "completed"
    },
    "tags": []
   },
   "outputs": [],
   "source": [
    "#hide\n",
    "def get_dates(df):\n",
    "    dt_cols = df.columns[~df.columns.isin(['Province/State', 'Country/Region', 'Lat', 'Long'])]\n",
    "    LAST_DATE_I = -1\n",
    "    # sometimes last column may be empty, then go backwards\n",
    "    for i in range(-1, -len(dt_cols), -1):\n",
    "        if not df[dt_cols[i]].fillna(0).eq(0).all():\n",
    "            LAST_DATE_I = i\n",
    "            break\n",
    "    return LAST_DATE_I, dt_cols"
   ]
  },
  {
   "cell_type": "code",
   "execution_count": 9,
   "id": "recent-optimization",
   "metadata": {
    "execution": {
     "iopub.execute_input": "2021-11-08T12:11:59.500064Z",
     "iopub.status.busy": "2021-11-08T12:11:59.499461Z",
     "iopub.status.idle": "2021-11-08T12:11:59.895121Z",
     "shell.execute_reply": "2021-11-08T12:11:59.894610Z"
    },
    "papermill": {
     "duration": 0.428906,
     "end_time": "2021-11-08T12:11:59.895252",
     "exception": false,
     "start_time": "2021-11-08T12:11:59.466346",
     "status": "completed"
    },
    "tags": []
   },
   "outputs": [],
   "source": [
    "#hide\n",
    "COL_REGION = 'Country/Region'\n",
    "# Confirmed, Recovered, Deaths\n",
    "df = get_frame('confirmed')\n",
    "# dft_: timeseries, dfc_: today country agg\n",
    "dft_cases = df\n",
    "dft_deaths = get_frame('deaths')\n",
    "dft_recovered = get_frame('recovered')\n",
    "LAST_DATE_I, dt_cols = get_dates(df)"
   ]
  },
  {
   "cell_type": "code",
   "execution_count": 10,
   "id": "absolute-copper",
   "metadata": {
    "execution": {
     "iopub.execute_input": "2021-11-08T12:11:59.960721Z",
     "iopub.status.busy": "2021-11-08T12:11:59.960166Z",
     "iopub.status.idle": "2021-11-08T12:11:59.961974Z",
     "shell.execute_reply": "2021-11-08T12:11:59.962394Z"
    },
    "papermill": {
     "duration": 0.037125,
     "end_time": "2021-11-08T12:11:59.962505",
     "exception": false,
     "start_time": "2021-11-08T12:11:59.925380",
     "status": "completed"
    },
    "tags": []
   },
   "outputs": [],
   "source": [
    "#hide\n",
    "LAST_DATE_I, dt_cols = get_dates(df)\n",
    "dt_today =dt_cols[LAST_DATE_I]\n",
    "# dt_5day = dt_cols[LAST_DATE_I - 5]\n",
    "dt_yday = dt_cols[LAST_DATE_I - 1]"
   ]
  },
  {
   "cell_type": "code",
   "execution_count": 11,
   "id": "restricted-sheriff",
   "metadata": {
    "execution": {
     "iopub.execute_input": "2021-11-08T12:12:00.029640Z",
     "iopub.status.busy": "2021-11-08T12:12:00.029125Z",
     "iopub.status.idle": "2021-11-08T12:12:00.037453Z",
     "shell.execute_reply": "2021-11-08T12:12:00.037948Z"
    },
    "papermill": {
     "duration": 0.045568,
     "end_time": "2021-11-08T12:12:00.038063",
     "exception": false,
     "start_time": "2021-11-08T12:11:59.992495",
     "status": "completed"
    },
    "tags": []
   },
   "outputs": [],
   "source": [
    "#hide\n",
    "dfc_cases = dft_cases.groupby(COL_REGION)[dt_today].sum()\n",
    "dfc_deaths = dft_deaths.groupby(COL_REGION)[dt_today].sum()\n",
    "# dfp_cases = dft_cases.groupby(COL_REGION)[dt_5day].sum()\n",
    "# dfp_deaths = dft_deaths.groupby(COL_REGION)[dt_5day].sum()\n",
    "dfp_cases = dft_cases.groupby(COL_REGION)[dt_yday].sum()\n",
    "dfp_deaths = dft_deaths.groupby(COL_REGION)[dt_yday].sum()"
   ]
  },
  {
   "cell_type": "code",
   "execution_count": 12,
   "id": "deluxe-hepatitis",
   "metadata": {
    "execution": {
     "iopub.execute_input": "2021-11-08T12:12:00.104925Z",
     "iopub.status.busy": "2021-11-08T12:12:00.104412Z",
     "iopub.status.idle": "2021-11-08T12:12:00.108831Z",
     "shell.execute_reply": "2021-11-08T12:12:00.108417Z"
    },
    "papermill": {
     "duration": 0.041512,
     "end_time": "2021-11-08T12:12:00.108931",
     "exception": false,
     "start_time": "2021-11-08T12:12:00.067419",
     "status": "completed"
    },
    "tags": []
   },
   "outputs": [],
   "source": [
    "#hide\n",
    "df_table = (pd.DataFrame(dict(Cases = dfc_cases, Deaths = dfc_deaths, PCases = dfp_cases, PDeaths = dfp_deaths))\n",
    "            .sort_values(by = ['Cases','Deaths'], ascending = [False, False])\n",
    "            .reset_index())"
   ]
  },
  {
   "cell_type": "code",
   "execution_count": 13,
   "id": "educational-chancellor",
   "metadata": {
    "execution": {
     "iopub.execute_input": "2021-11-08T12:12:00.180108Z",
     "iopub.status.busy": "2021-11-08T12:12:00.179465Z",
     "iopub.status.idle": "2021-11-08T12:12:00.194528Z",
     "shell.execute_reply": "2021-11-08T12:12:00.194112Z"
    },
    "papermill": {
     "duration": 0.05566,
     "end_time": "2021-11-08T12:12:00.194629",
     "exception": false,
     "start_time": "2021-11-08T12:12:00.138969",
     "status": "completed"
    },
    "tags": []
   },
   "outputs": [
    {
     "data": {
      "text/html": [
       "<div>\n",
       "<style scoped>\n",
       "    .dataframe tbody tr th:only-of-type {\n",
       "        vertical-align: middle;\n",
       "    }\n",
       "\n",
       "    .dataframe tbody tr th {\n",
       "        vertical-align: top;\n",
       "    }\n",
       "\n",
       "    .dataframe thead th {\n",
       "        text-align: right;\n",
       "    }\n",
       "</style>\n",
       "<table border=\"1\" class=\"dataframe\">\n",
       "  <thead>\n",
       "    <tr style=\"text-align: right;\">\n",
       "      <th></th>\n",
       "      <th>Country/Region</th>\n",
       "      <th>Cases</th>\n",
       "      <th>Deaths</th>\n",
       "      <th>PCases</th>\n",
       "      <th>PDeaths</th>\n",
       "      <th>Cases (+)</th>\n",
       "      <th>Deaths (+)</th>\n",
       "      <th>Fatality Rate</th>\n",
       "      <th>Continent</th>\n",
       "    </tr>\n",
       "  </thead>\n",
       "  <tbody>\n",
       "    <tr>\n",
       "      <th>0</th>\n",
       "      <td>US</td>\n",
       "      <td>46487791</td>\n",
       "      <td>754429</td>\n",
       "      <td>46465823</td>\n",
       "      <td>754310</td>\n",
       "      <td>21968</td>\n",
       "      <td>119</td>\n",
       "      <td>1.62</td>\n",
       "      <td>North America</td>\n",
       "    </tr>\n",
       "    <tr>\n",
       "      <th>1</th>\n",
       "      <td>India</td>\n",
       "      <td>34366987</td>\n",
       "      <td>461057</td>\n",
       "      <td>34355509</td>\n",
       "      <td>460791</td>\n",
       "      <td>11478</td>\n",
       "      <td>266</td>\n",
       "      <td>1.34</td>\n",
       "      <td>Asia</td>\n",
       "    </tr>\n",
       "    <tr>\n",
       "      <th>2</th>\n",
       "      <td>Brazil</td>\n",
       "      <td>21880439</td>\n",
       "      <td>609447</td>\n",
       "      <td>21874324</td>\n",
       "      <td>609388</td>\n",
       "      <td>6115</td>\n",
       "      <td>59</td>\n",
       "      <td>2.79</td>\n",
       "      <td>South America</td>\n",
       "    </tr>\n",
       "    <tr>\n",
       "      <th>3</th>\n",
       "      <td>United Kingdom</td>\n",
       "      <td>9346961</td>\n",
       "      <td>142236</td>\n",
       "      <td>9317072</td>\n",
       "      <td>142174</td>\n",
       "      <td>29889</td>\n",
       "      <td>62</td>\n",
       "      <td>1.52</td>\n",
       "      <td>Europe</td>\n",
       "    </tr>\n",
       "    <tr>\n",
       "      <th>4</th>\n",
       "      <td>Russia</td>\n",
       "      <td>8651561</td>\n",
       "      <td>242241</td>\n",
       "      <td>8613533</td>\n",
       "      <td>241095</td>\n",
       "      <td>38028</td>\n",
       "      <td>1146</td>\n",
       "      <td>2.80</td>\n",
       "      <td>Europe</td>\n",
       "    </tr>\n",
       "  </tbody>\n",
       "</table>\n",
       "</div>"
      ],
      "text/plain": [
       "   Country/Region     Cases  Deaths    PCases  PDeaths  Cases (+)  Deaths (+)  \\\n",
       "0              US  46487791  754429  46465823   754310      21968         119   \n",
       "1           India  34366987  461057  34355509   460791      11478         266   \n",
       "2          Brazil  21880439  609447  21874324   609388       6115          59   \n",
       "3  United Kingdom   9346961  142236   9317072   142174      29889          62   \n",
       "4          Russia   8651561  242241   8613533   241095      38028        1146   \n",
       "\n",
       "   Fatality Rate      Continent  \n",
       "0           1.62  North America  \n",
       "1           1.34           Asia  \n",
       "2           2.79  South America  \n",
       "3           1.52         Europe  \n",
       "4           2.80         Europe  "
      ]
     },
     "execution_count": 13,
     "metadata": {},
     "output_type": "execute_result"
    }
   ],
   "source": [
    "#hide\n",
    "for c in 'Cases, Deaths'.split(', '):\n",
    "    df_table[f'{c} (+)'] = (df_table[c] - df_table[f'P{c}']).clip(0)\n",
    "    #Clip ça veut dire, les chiffres negatif sont interdit\n",
    "df_table['Fatality Rate'] = (100* df_table['Deaths']/ df_table['Cases']).round(2)\n",
    "df_table['Continent'] = df_table['Country/Region'].map(mapping['map.continent'])\n",
    "df_table.head(5)"
   ]
  },
  {
   "cell_type": "code",
   "execution_count": 14,
   "id": "aboriginal-bulgaria",
   "metadata": {
    "execution": {
     "iopub.execute_input": "2021-11-08T12:12:00.258526Z",
     "iopub.status.busy": "2021-11-08T12:12:00.258018Z",
     "iopub.status.idle": "2021-11-08T12:12:00.260789Z",
     "shell.execute_reply": "2021-11-08T12:12:00.261297Z"
    },
    "papermill": {
     "duration": 0.037011,
     "end_time": "2021-11-08T12:12:00.261407",
     "exception": false,
     "start_time": "2021-11-08T12:12:00.224396",
     "status": "completed"
    },
    "tags": []
   },
   "outputs": [],
   "source": [
    "#hide\n",
    "#delete problematic countries from table\n",
    "df_table = df_table[~df_table['Country/Region'].isin(['Cape Verde', 'Cruise Ship', 'Kosovo'])]"
   ]
  },
  {
   "cell_type": "code",
   "execution_count": 15,
   "id": "fantastic-effect",
   "metadata": {
    "execution": {
     "iopub.execute_input": "2021-11-08T12:12:00.334900Z",
     "iopub.status.busy": "2021-11-08T12:12:00.334317Z",
     "iopub.status.idle": "2021-11-08T12:12:00.353194Z",
     "shell.execute_reply": "2021-11-08T12:12:00.353818Z"
    },
    "papermill": {
     "duration": 0.062678,
     "end_time": "2021-11-08T12:12:00.353935",
     "exception": false,
     "start_time": "2021-11-08T12:12:00.291257",
     "status": "completed"
    },
    "tags": []
   },
   "outputs": [
    {
     "data": {
      "text/html": [
       "<div>\n",
       "<style scoped>\n",
       "    .dataframe tbody tr th:only-of-type {\n",
       "        vertical-align: middle;\n",
       "    }\n",
       "\n",
       "    .dataframe tbody tr th {\n",
       "        vertical-align: top;\n",
       "    }\n",
       "\n",
       "    .dataframe thead th {\n",
       "        text-align: right;\n",
       "    }\n",
       "</style>\n",
       "<table border=\"1\" class=\"dataframe\">\n",
       "  <thead>\n",
       "    <tr style=\"text-align: right;\">\n",
       "      <th></th>\n",
       "      <th>Country/Region</th>\n",
       "      <th>Cases</th>\n",
       "      <th>Deaths</th>\n",
       "      <th>PCases</th>\n",
       "      <th>PDeaths</th>\n",
       "      <th>Cases (+)</th>\n",
       "      <th>Deaths (+)</th>\n",
       "      <th>Fatality Rate</th>\n",
       "      <th>Continent</th>\n",
       "    </tr>\n",
       "  </thead>\n",
       "  <tbody>\n",
       "    <tr>\n",
       "      <th>0</th>\n",
       "      <td>US</td>\n",
       "      <td>46487791</td>\n",
       "      <td>754429</td>\n",
       "      <td>46465823</td>\n",
       "      <td>754310</td>\n",
       "      <td>21968</td>\n",
       "      <td>119</td>\n",
       "      <td>1.6</td>\n",
       "      <td>North America</td>\n",
       "    </tr>\n",
       "    <tr>\n",
       "      <th>1</th>\n",
       "      <td>India</td>\n",
       "      <td>34366987</td>\n",
       "      <td>461057</td>\n",
       "      <td>34355509</td>\n",
       "      <td>460791</td>\n",
       "      <td>11478</td>\n",
       "      <td>266</td>\n",
       "      <td>1.3</td>\n",
       "      <td>Asia</td>\n",
       "    </tr>\n",
       "    <tr>\n",
       "      <th>2</th>\n",
       "      <td>Brazil</td>\n",
       "      <td>21880439</td>\n",
       "      <td>609447</td>\n",
       "      <td>21874324</td>\n",
       "      <td>609388</td>\n",
       "      <td>6115</td>\n",
       "      <td>59</td>\n",
       "      <td>2.8</td>\n",
       "      <td>South America</td>\n",
       "    </tr>\n",
       "    <tr>\n",
       "      <th>3</th>\n",
       "      <td>United Kingdom</td>\n",
       "      <td>9346961</td>\n",
       "      <td>142236</td>\n",
       "      <td>9317072</td>\n",
       "      <td>142174</td>\n",
       "      <td>29889</td>\n",
       "      <td>62</td>\n",
       "      <td>1.5</td>\n",
       "      <td>Europe</td>\n",
       "    </tr>\n",
       "    <tr>\n",
       "      <th>4</th>\n",
       "      <td>Russia</td>\n",
       "      <td>8651561</td>\n",
       "      <td>242241</td>\n",
       "      <td>8613533</td>\n",
       "      <td>241095</td>\n",
       "      <td>38028</td>\n",
       "      <td>1146</td>\n",
       "      <td>2.8</td>\n",
       "      <td>Europe</td>\n",
       "    </tr>\n",
       "  </tbody>\n",
       "</table>\n",
       "</div>"
      ],
      "text/plain": [
       "   Country/Region     Cases  Deaths    PCases  PDeaths  Cases (+)  Deaths (+)  \\\n",
       "0              US  46487791  754429  46465823   754310      21968         119   \n",
       "1           India  34366987  461057  34355509   460791      11478         266   \n",
       "2          Brazil  21880439  609447  21874324   609388       6115          59   \n",
       "3  United Kingdom   9346961  142236   9317072   142174      29889          62   \n",
       "4          Russia   8651561  242241   8613533   241095      38028        1146   \n",
       "\n",
       "   Fatality Rate      Continent  \n",
       "0            1.6  North America  \n",
       "1            1.3           Asia  \n",
       "2            2.8  South America  \n",
       "3            1.5         Europe  \n",
       "4            2.8         Europe  "
      ]
     },
     "execution_count": 15,
     "metadata": {},
     "output_type": "execute_result"
    }
   ],
   "source": [
    "#hide\n",
    "df_table = (pd.DataFrame(dict(Cases=dfc_cases, Deaths=dfc_deaths, PCases=dfp_cases, PDeaths=dfp_deaths))\n",
    "             .sort_values(by=['Cases', 'Deaths'], ascending=[False, False])\n",
    "             .reset_index())\n",
    "df_table.rename(columns={'index': 'Country/Region'}, inplace=True)\n",
    "for c in 'Cases, Deaths'.split(', '):\n",
    "    df_table[f'{c} (+)'] = (df_table[c] - df_table[f'P{c}']).clip(0)  # DATA BUG\n",
    "df_table['Fatality Rate'] = (100 * df_table['Deaths'] / df_table['Cases']).round(1)\n",
    "df_table['Continent'] = df_table['Country/Region'].map(mapping['map.continent'])\n",
    "df_table.head(5)"
   ]
  },
  {
   "cell_type": "code",
   "execution_count": 16,
   "id": "fewer-occasion",
   "metadata": {
    "execution": {
     "iopub.execute_input": "2021-11-08T12:12:00.419728Z",
     "iopub.status.busy": "2021-11-08T12:12:00.419151Z",
     "iopub.status.idle": "2021-11-08T12:12:00.422497Z",
     "shell.execute_reply": "2021-11-08T12:12:00.421931Z"
    },
    "papermill": {
     "duration": 0.038246,
     "end_time": "2021-11-08T12:12:00.422637",
     "exception": false,
     "start_time": "2021-11-08T12:12:00.384391",
     "status": "completed"
    },
    "tags": []
   },
   "outputs": [],
   "source": [
    "#hide\n",
    "#delete problematic countries from table\n",
    "df_table = df_table[~df_table['Country/Region'].isin(['Cape Verde', 'Cruise Ship', 'Kosovo'])]"
   ]
  },
  {
   "cell_type": "code",
   "execution_count": 17,
   "id": "related-center",
   "metadata": {
    "execution": {
     "iopub.execute_input": "2021-11-08T12:12:00.502743Z",
     "iopub.status.busy": "2021-11-08T12:12:00.502159Z",
     "iopub.status.idle": "2021-11-08T12:12:00.504980Z",
     "shell.execute_reply": "2021-11-08T12:12:00.504504Z"
    },
    "papermill": {
     "duration": 0.051815,
     "end_time": "2021-11-08T12:12:00.505082",
     "exception": false,
     "start_time": "2021-11-08T12:12:00.453267",
     "status": "completed"
    },
    "tags": []
   },
   "outputs": [],
   "source": [
    "#hide\n",
    "metrics = [df_table.columns[index] for index in [1,2,5,6]]\n",
    "# s_china = df_table[df_table['Country/Region'].eq('China')][metrics].sum().add_prefix('China ')\n",
    "s_us = df_table[df_table['Country/Region'].eq('US')][metrics].sum().add_prefix('US ')\n",
    "s_eu = df_table[df_table['Continent'].eq('Europe')][metrics].sum().add_prefix('EU ')\n",
    "s_ind = df_table[df_table['Country/Region'].eq('India')][metrics].sum().add_prefix('India ')\n",
    "summary = {'updated': pd.to_datetime(dt_today), 'since': pd.to_datetime(dt_yday)}\n",
    "summary = {'updated': pd.to_datetime(dt_today), 'since': pd.to_datetime(dt_yday)}\n",
    "summary = {**summary, **df_table[metrics].sum(), **s_ind, **s_us, **s_eu}"
   ]
  },
  {
   "cell_type": "code",
   "execution_count": 18,
   "id": "engaging-syndrome",
   "metadata": {
    "execution": {
     "iopub.execute_input": "2021-11-08T12:12:00.572867Z",
     "iopub.status.busy": "2021-11-08T12:12:00.572316Z",
     "iopub.status.idle": "2021-11-08T12:12:00.586391Z",
     "shell.execute_reply": "2021-11-08T12:12:00.586894Z"
    },
    "papermill": {
     "duration": 0.051451,
     "end_time": "2021-11-08T12:12:00.587017",
     "exception": false,
     "start_time": "2021-11-08T12:12:00.535566",
     "status": "completed"
    },
    "tags": []
   },
   "outputs": [],
   "source": [
    "#hide\n",
    "dft_ct_new_cases = dft_cases.groupby(COL_REGION)[dt_cols].sum().diff(axis=1).fillna(0).astype(int)"
   ]
  },
  {
   "cell_type": "code",
   "execution_count": 19,
   "id": "neutral-assignment",
   "metadata": {
    "execution": {
     "iopub.execute_input": "2021-11-08T12:12:00.655277Z",
     "iopub.status.busy": "2021-11-08T12:12:00.654749Z",
     "iopub.status.idle": "2021-11-08T12:12:00.659859Z",
     "shell.execute_reply": "2021-11-08T12:12:00.659267Z"
    },
    "papermill": {
     "duration": 0.039863,
     "end_time": "2021-11-08T12:12:00.659962",
     "exception": false,
     "start_time": "2021-11-08T12:12:00.620099",
     "status": "completed"
    },
    "tags": []
   },
   "outputs": [],
   "source": [
    "#hide\n",
    "everydaycases = dft_ct_new_cases.cumsum(axis=1)"
   ]
  },
  {
   "cell_type": "code",
   "execution_count": 20,
   "id": "parliamentary-calgary",
   "metadata": {
    "execution": {
     "iopub.execute_input": "2021-11-08T12:12:00.726856Z",
     "iopub.status.busy": "2021-11-08T12:12:00.726230Z",
     "iopub.status.idle": "2021-11-08T12:12:01.236849Z",
     "shell.execute_reply": "2021-11-08T12:12:01.236294Z"
    },
    "papermill": {
     "duration": 0.545506,
     "end_time": "2021-11-08T12:12:01.237047",
     "exception": false,
     "start_time": "2021-11-08T12:12:00.691541",
     "status": "completed"
    },
    "tags": []
   },
   "outputs": [],
   "source": [
    "#hide\n",
    "import pandas as pd\n",
    "import matplotlib.pyplot as plt\n",
    "import matplotlib.ticker as ticker\n",
    "import matplotlib.animation as animation\n",
    "from IPython.display import HTML"
   ]
  },
  {
   "cell_type": "code",
   "execution_count": 21,
   "id": "lasting-extraction",
   "metadata": {
    "execution": {
     "iopub.execute_input": "2021-11-08T12:12:01.311434Z",
     "iopub.status.busy": "2021-11-08T12:12:01.310683Z",
     "iopub.status.idle": "2021-11-08T12:12:01.316959Z",
     "shell.execute_reply": "2021-11-08T12:12:01.316506Z"
    },
    "papermill": {
     "duration": 0.047156,
     "end_time": "2021-11-08T12:12:01.317068",
     "exception": false,
     "start_time": "2021-11-08T12:12:01.269912",
     "status": "completed"
    },
    "tags": []
   },
   "outputs": [],
   "source": [
    "#hide\n",
    "t = everydaycases.stack()"
   ]
  },
  {
   "cell_type": "code",
   "execution_count": 22,
   "id": "premier-sleeve",
   "metadata": {
    "execution": {
     "iopub.execute_input": "2021-11-08T12:12:01.394295Z",
     "iopub.status.busy": "2021-11-08T12:12:01.393581Z",
     "iopub.status.idle": "2021-11-08T12:12:01.403486Z",
     "shell.execute_reply": "2021-11-08T12:12:01.403958Z"
    },
    "papermill": {
     "duration": 0.050337,
     "end_time": "2021-11-08T12:12:01.404091",
     "exception": false,
     "start_time": "2021-11-08T12:12:01.353754",
     "status": "completed"
    },
    "tags": []
   },
   "outputs": [],
   "source": [
    "#hide\n",
    "g = t.reset_index(['Country/Region'])"
   ]
  },
  {
   "cell_type": "code",
   "execution_count": 23,
   "id": "distributed-pittsburgh",
   "metadata": {
    "execution": {
     "iopub.execute_input": "2021-11-08T12:12:01.476203Z",
     "iopub.status.busy": "2021-11-08T12:12:01.475561Z",
     "iopub.status.idle": "2021-11-08T12:12:01.478044Z",
     "shell.execute_reply": "2021-11-08T12:12:01.477372Z"
    },
    "papermill": {
     "duration": 0.040623,
     "end_time": "2021-11-08T12:12:01.478191",
     "exception": false,
     "start_time": "2021-11-08T12:12:01.437568",
     "status": "completed"
    },
    "tags": []
   },
   "outputs": [],
   "source": [
    "#hide\n",
    "g.index.name = 'date'"
   ]
  },
  {
   "cell_type": "code",
   "execution_count": 24,
   "id": "naked-donor",
   "metadata": {
    "execution": {
     "iopub.execute_input": "2021-11-08T12:12:01.549803Z",
     "iopub.status.busy": "2021-11-08T12:12:01.549106Z",
     "iopub.status.idle": "2021-11-08T12:12:01.551122Z",
     "shell.execute_reply": "2021-11-08T12:12:01.551621Z"
    },
    "papermill": {
     "duration": 0.038493,
     "end_time": "2021-11-08T12:12:01.551760",
     "exception": false,
     "start_time": "2021-11-08T12:12:01.513267",
     "status": "completed"
    },
    "tags": []
   },
   "outputs": [],
   "source": [
    "# #hide\n",
    "# g = g.reset_index(['date'])"
   ]
  },
  {
   "cell_type": "code",
   "execution_count": 25,
   "id": "incomplete-mustang",
   "metadata": {
    "execution": {
     "iopub.execute_input": "2021-11-08T12:12:01.626290Z",
     "iopub.status.busy": "2021-11-08T12:12:01.625677Z",
     "iopub.status.idle": "2021-11-08T12:12:01.627742Z",
     "shell.execute_reply": "2021-11-08T12:12:01.628216Z"
    },
    "papermill": {
     "duration": 0.039703,
     "end_time": "2021-11-08T12:12:01.628358",
     "exception": false,
     "start_time": "2021-11-08T12:12:01.588655",
     "status": "completed"
    },
    "tags": []
   },
   "outputs": [],
   "source": [
    "#hide\n",
    "# g.head()"
   ]
  },
  {
   "cell_type": "code",
   "execution_count": 26,
   "id": "specific-kruger",
   "metadata": {
    "execution": {
     "iopub.execute_input": "2021-11-08T12:12:01.695692Z",
     "iopub.status.busy": "2021-11-08T12:12:01.695098Z",
     "iopub.status.idle": "2021-11-08T12:12:01.697048Z",
     "shell.execute_reply": "2021-11-08T12:12:01.697619Z"
    },
    "papermill": {
     "duration": 0.036799,
     "end_time": "2021-11-08T12:12:01.697728",
     "exception": false,
     "start_time": "2021-11-08T12:12:01.660929",
     "status": "completed"
    },
    "tags": []
   },
   "outputs": [],
   "source": [
    "#hide\n",
    "# g.columns = ['date','country','cases']"
   ]
  },
  {
   "cell_type": "code",
   "execution_count": 27,
   "id": "tender-conversion",
   "metadata": {
    "execution": {
     "iopub.execute_input": "2021-11-08T12:12:01.762556Z",
     "iopub.status.busy": "2021-11-08T12:12:01.761926Z",
     "iopub.status.idle": "2021-11-08T12:12:01.764361Z",
     "shell.execute_reply": "2021-11-08T12:12:01.763842Z"
    },
    "papermill": {
     "duration": 0.035291,
     "end_time": "2021-11-08T12:12:01.764468",
     "exception": false,
     "start_time": "2021-11-08T12:12:01.729177",
     "status": "completed"
    },
    "tags": []
   },
   "outputs": [],
   "source": [
    "#hide\n",
    "# g['continent'] = g.country"
   ]
  },
  {
   "cell_type": "code",
   "execution_count": 28,
   "id": "substantial-wilderness",
   "metadata": {
    "execution": {
     "iopub.execute_input": "2021-11-08T12:12:01.834529Z",
     "iopub.status.busy": "2021-11-08T12:12:01.833970Z",
     "iopub.status.idle": "2021-11-08T12:12:01.836084Z",
     "shell.execute_reply": "2021-11-08T12:12:01.836616Z"
    },
    "papermill": {
     "duration": 0.037795,
     "end_time": "2021-11-08T12:12:01.836728",
     "exception": false,
     "start_time": "2021-11-08T12:12:01.798933",
     "status": "completed"
    },
    "tags": []
   },
   "outputs": [],
   "source": [
    "#hide\n",
    "# cols = list(g.columns.values)"
   ]
  },
  {
   "cell_type": "code",
   "execution_count": 29,
   "id": "solved-farming",
   "metadata": {
    "execution": {
     "iopub.execute_input": "2021-11-08T12:12:01.900352Z",
     "iopub.status.busy": "2021-11-08T12:12:01.899515Z",
     "iopub.status.idle": "2021-11-08T12:12:01.902066Z",
     "shell.execute_reply": "2021-11-08T12:12:01.901503Z"
    },
    "papermill": {
     "duration": 0.035504,
     "end_time": "2021-11-08T12:12:01.902177",
     "exception": false,
     "start_time": "2021-11-08T12:12:01.866673",
     "status": "completed"
    },
    "tags": []
   },
   "outputs": [],
   "source": [
    "#hide\n",
    "# cols.insert(0, cols.pop())"
   ]
  },
  {
   "cell_type": "code",
   "execution_count": 30,
   "id": "executed-adoption",
   "metadata": {
    "execution": {
     "iopub.execute_input": "2021-11-08T12:12:01.970407Z",
     "iopub.status.busy": "2021-11-08T12:12:01.969783Z",
     "iopub.status.idle": "2021-11-08T12:12:01.972756Z",
     "shell.execute_reply": "2021-11-08T12:12:01.972169Z"
    },
    "papermill": {
     "duration": 0.037085,
     "end_time": "2021-11-08T12:12:01.972888",
     "exception": false,
     "start_time": "2021-11-08T12:12:01.935803",
     "status": "completed"
    },
    "tags": []
   },
   "outputs": [],
   "source": [
    "#hide\n",
    "# g = g[cols]"
   ]
  },
  {
   "cell_type": "code",
   "execution_count": 31,
   "id": "subject-dublin",
   "metadata": {
    "execution": {
     "iopub.execute_input": "2021-11-08T12:12:02.038142Z",
     "iopub.status.busy": "2021-11-08T12:12:02.037539Z",
     "iopub.status.idle": "2021-11-08T12:12:02.039999Z",
     "shell.execute_reply": "2021-11-08T12:12:02.039530Z"
    },
    "papermill": {
     "duration": 0.035753,
     "end_time": "2021-11-08T12:12:02.040120",
     "exception": false,
     "start_time": "2021-11-08T12:12:02.004367",
     "status": "completed"
    },
    "tags": []
   },
   "outputs": [],
   "source": [
    "#hide\n",
    "# g['continent'] = g['continent'].map(mapping['map.continent'])"
   ]
  },
  {
   "cell_type": "code",
   "execution_count": 32,
   "id": "freelance-scout",
   "metadata": {
    "execution": {
     "iopub.execute_input": "2021-11-08T12:12:02.108446Z",
     "iopub.status.busy": "2021-11-08T12:12:02.107910Z",
     "iopub.status.idle": "2021-11-08T12:12:02.110269Z",
     "shell.execute_reply": "2021-11-08T12:12:02.110682Z"
    },
    "papermill": {
     "duration": 0.037849,
     "end_time": "2021-11-08T12:12:02.110802",
     "exception": false,
     "start_time": "2021-11-08T12:12:02.072953",
     "status": "completed"
    },
    "tags": []
   },
   "outputs": [],
   "source": [
    "#hide\n",
    "# g.head()"
   ]
  },
  {
   "cell_type": "code",
   "execution_count": 33,
   "id": "limited-engine",
   "metadata": {
    "execution": {
     "iopub.execute_input": "2021-11-08T12:12:02.179832Z",
     "iopub.status.busy": "2021-11-08T12:12:02.179110Z",
     "iopub.status.idle": "2021-11-08T12:12:02.181090Z",
     "shell.execute_reply": "2021-11-08T12:12:02.181533Z"
    },
    "papermill": {
     "duration": 0.037472,
     "end_time": "2021-11-08T12:12:02.181655",
     "exception": false,
     "start_time": "2021-11-08T12:12:02.144183",
     "status": "completed"
    },
    "tags": []
   },
   "outputs": [],
   "source": [
    "# hide\n",
    "# g['date'] = g['date'].astype('datetime64[ns]')"
   ]
  },
  {
   "cell_type": "code",
   "execution_count": 34,
   "id": "sophisticated-supervisor",
   "metadata": {
    "execution": {
     "iopub.execute_input": "2021-11-08T12:12:02.249148Z",
     "iopub.status.busy": "2021-11-08T12:12:02.248639Z",
     "iopub.status.idle": "2021-11-08T12:12:02.251000Z",
     "shell.execute_reply": "2021-11-08T12:12:02.251419Z"
    },
    "papermill": {
     "duration": 0.03705,
     "end_time": "2021-11-08T12:12:02.251532",
     "exception": false,
     "start_time": "2021-11-08T12:12:02.214482",
     "status": "completed"
    },
    "tags": []
   },
   "outputs": [],
   "source": [
    "#hide\n",
    "# g['date'] = g.date.dt.dayofyear"
   ]
  },
  {
   "cell_type": "code",
   "execution_count": 35,
   "id": "inside-dubai",
   "metadata": {
    "execution": {
     "iopub.execute_input": "2021-11-08T12:12:02.317530Z",
     "iopub.status.busy": "2021-11-08T12:12:02.316900Z",
     "iopub.status.idle": "2021-11-08T12:12:02.320440Z",
     "shell.execute_reply": "2021-11-08T12:12:02.321025Z"
    },
    "papermill": {
     "duration": 0.037697,
     "end_time": "2021-11-08T12:12:02.321150",
     "exception": false,
     "start_time": "2021-11-08T12:12:02.283453",
     "status": "completed"
    },
    "tags": []
   },
   "outputs": [],
   "source": [
    "#hide\n",
    "# g = g.rename(columns= {'continent':'group','country':'name','cases':'value'})"
   ]
  },
  {
   "cell_type": "code",
   "execution_count": 36,
   "id": "fleet-motorcycle",
   "metadata": {
    "execution": {
     "iopub.execute_input": "2021-11-08T12:12:02.390139Z",
     "iopub.status.busy": "2021-11-08T12:12:02.389590Z",
     "iopub.status.idle": "2021-11-08T12:12:02.391701Z",
     "shell.execute_reply": "2021-11-08T12:12:02.392173Z"
    },
    "papermill": {
     "duration": 0.037337,
     "end_time": "2021-11-08T12:12:02.392310",
     "exception": false,
     "start_time": "2021-11-08T12:12:02.354973",
     "status": "completed"
    },
    "tags": []
   },
   "outputs": [],
   "source": [
    "#hide\n",
    "# cols = ['name','group','day','value']"
   ]
  },
  {
   "cell_type": "code",
   "execution_count": 37,
   "id": "continued-sleeping",
   "metadata": {
    "execution": {
     "iopub.execute_input": "2021-11-08T12:12:02.459180Z",
     "iopub.status.busy": "2021-11-08T12:12:02.458379Z",
     "iopub.status.idle": "2021-11-08T12:12:02.460714Z",
     "shell.execute_reply": "2021-11-08T12:12:02.460183Z"
    },
    "papermill": {
     "duration": 0.036528,
     "end_time": "2021-11-08T12:12:02.460818",
     "exception": false,
     "start_time": "2021-11-08T12:12:02.424290",
     "status": "completed"
    },
    "tags": []
   },
   "outputs": [],
   "source": [
    "#hide\n",
    "# g.rename(columns= {'date':'day'},inplace = True)"
   ]
  },
  {
   "cell_type": "code",
   "execution_count": 38,
   "id": "major-fight",
   "metadata": {
    "execution": {
     "iopub.execute_input": "2021-11-08T12:12:02.528247Z",
     "iopub.status.busy": "2021-11-08T12:12:02.527700Z",
     "iopub.status.idle": "2021-11-08T12:12:02.529827Z",
     "shell.execute_reply": "2021-11-08T12:12:02.530223Z"
    },
    "papermill": {
     "duration": 0.036772,
     "end_time": "2021-11-08T12:12:02.530334",
     "exception": false,
     "start_time": "2021-11-08T12:12:02.493562",
     "status": "completed"
    },
    "tags": []
   },
   "outputs": [],
   "source": [
    "#hide\n",
    "# g = g[cols]"
   ]
  },
  {
   "cell_type": "code",
   "execution_count": 39,
   "id": "structured-mobile",
   "metadata": {
    "execution": {
     "iopub.execute_input": "2021-11-08T12:12:02.592982Z",
     "iopub.status.busy": "2021-11-08T12:12:02.592322Z",
     "iopub.status.idle": "2021-11-08T12:12:02.595137Z",
     "shell.execute_reply": "2021-11-08T12:12:02.594347Z"
    },
    "papermill": {
     "duration": 0.035183,
     "end_time": "2021-11-08T12:12:02.595306",
     "exception": false,
     "start_time": "2021-11-08T12:12:02.560123",
     "status": "completed"
    },
    "tags": []
   },
   "outputs": [],
   "source": [
    "# #hide\n",
    "# g = g[g.group.notna()]"
   ]
  },
  {
   "cell_type": "code",
   "execution_count": 40,
   "id": "determined-closing",
   "metadata": {
    "execution": {
     "iopub.execute_input": "2021-11-08T12:12:02.662025Z",
     "iopub.status.busy": "2021-11-08T12:12:02.661453Z",
     "iopub.status.idle": "2021-11-08T12:12:02.663527Z",
     "shell.execute_reply": "2021-11-08T12:12:02.663084Z"
    },
    "papermill": {
     "duration": 0.03683,
     "end_time": "2021-11-08T12:12:02.663652",
     "exception": false,
     "start_time": "2021-11-08T12:12:02.626822",
     "status": "completed"
    },
    "tags": []
   },
   "outputs": [],
   "source": [
    "# #hide\n",
    "# colors = dict(zip(\n",
    "#     [\"Oceania\", \"Europe\", \"Asia\", \"South America\", \"Middle East\", \"North America\", \"Africa\"],\n",
    "#     [\"#adb0ff\", \"#ffb3ff\", \"#90d595\", \"#e48381\", \"#aafbff\", \"#f7bb5f\", \"#eafb50\"]\n",
    "# ))\n",
    "# group_lk = g.set_index('name')['group'].to_dict()"
   ]
  },
  {
   "cell_type": "code",
   "execution_count": null,
   "id": "gross-drinking",
   "metadata": {
    "papermill": {
     "duration": 0.030384,
     "end_time": "2021-11-08T12:12:02.724213",
     "exception": false,
     "start_time": "2021-11-08T12:12:02.693829",
     "status": "completed"
    },
    "tags": []
   },
   "outputs": [],
   "source": []
  },
  {
   "cell_type": "code",
   "execution_count": 41,
   "id": "subject-macintosh",
   "metadata": {
    "execution": {
     "iopub.execute_input": "2021-11-08T12:12:02.791867Z",
     "iopub.status.busy": "2021-11-08T12:12:02.791248Z",
     "iopub.status.idle": "2021-11-08T12:12:02.794331Z",
     "shell.execute_reply": "2021-11-08T12:12:02.794776Z"
    },
    "papermill": {
     "duration": 0.039046,
     "end_time": "2021-11-08T12:12:02.794906",
     "exception": false,
     "start_time": "2021-11-08T12:12:02.755860",
     "status": "completed"
    },
    "tags": []
   },
   "outputs": [],
   "source": [
    "# #hide\n",
    "# fig, ax = plt.subplots(figsize=(15, 8))\n",
    "\n",
    "# def draw_barchart(current_day):\n",
    "#     dff = g[g['day'].eq(current_day)].sort_values(by='value', ascending=True).tail(10)\n",
    "#     ax.clear()\n",
    "#     ax.barh(dff['name'], dff['value'], color=[colors[group_lk[x]] for x in dff['name']])\n",
    "#     dx = dff['value'].max() / 200\n",
    "    \n",
    "#     for i, (value, name) in enumerate(zip(dff['value'], dff['name'])):\n",
    "#         ax.text(value-dx, i,     name,           size=14, weight=600, ha='right', va='bottom')\n",
    "#         ax.text(value-dx, i-.25, group_lk[name], size=10, color='#444444', ha='right', va='baseline')\n",
    "#         ax.text(value+dx, i,     f'{value:,.0f}',  size=14, ha='left',  va='center')\n",
    "#     ax.text(1, 0.4, current_day, transform=ax.transAxes, color='#777777', size=46, ha='right', weight=800)\n",
    "#     ax.text(0, 1.06, 'Population (thousands)', transform=ax.transAxes, size=12, color='#777777')\n",
    "#     ax.xaxis.set_major_formatter(ticker.StrMethodFormatter('{x:,.0f}'))\n",
    "#     ax.xaxis.set_ticks_position('top')\n",
    "#     ax.tick_params(axis='x', colors='#777777', labelsize=12)\n",
    "#     ax.set_yticks([])\n",
    "#     ax.margins(0, 0.01)\n",
    "#     ax.grid(which='major', axis='x', linestyle='-')\n",
    "#     ax.set_axisbelow(True)\n",
    "    \n",
    "#     ax.text(0, 1.15, 'Coronavirus',\n",
    "#             transform=ax.transAxes, size=24, weight=600, ha='left', va='top')\n",
    "# #     ax.text(1, 0, 'by @pratapvardhan; credit @jburnmurdoch', transform=ax.transAxes, color='#777777', ha='right',\n",
    "# #             bbox=dict(facecolor='white', alpha=0.8, edgecolor='white'))\n",
    "#     plt.box(False)"
   ]
  },
  {
   "cell_type": "code",
   "execution_count": 42,
   "id": "sexual-wages",
   "metadata": {
    "execution": {
     "iopub.execute_input": "2021-11-08T12:12:02.865048Z",
     "iopub.status.busy": "2021-11-08T12:12:02.864486Z",
     "iopub.status.idle": "2021-11-08T12:12:02.867869Z",
     "shell.execute_reply": "2021-11-08T12:12:02.868281Z"
    },
    "papermill": {
     "duration": 0.038922,
     "end_time": "2021-11-08T12:12:02.868401",
     "exception": false,
     "start_time": "2021-11-08T12:12:02.829479",
     "status": "completed"
    },
    "tags": []
   },
   "outputs": [],
   "source": [
    "# #hide_input\n",
    "# fig, ax = plt.subplots(figsize=(15, 8))\n",
    "# animator = animation.FuncAnimation(fig, draw_barchart, frames=range(g.day.values.min(), g.day.values.max()))\n",
    "# HTML(animator.to_jshtml())\n",
    "# # or use animator.to_html5_video() or animator.save() "
   ]
  },
  {
   "cell_type": "code",
   "execution_count": null,
   "id": "australian-container",
   "metadata": {
    "papermill": {
     "duration": 0.030739,
     "end_time": "2021-11-08T12:12:02.931264",
     "exception": false,
     "start_time": "2021-11-08T12:12:02.900525",
     "status": "completed"
    },
    "tags": []
   },
   "outputs": [],
   "source": []
  },
  {
   "cell_type": "code",
   "execution_count": null,
   "id": "mediterranean-pontiac",
   "metadata": {
    "papermill": {
     "duration": 0.03221,
     "end_time": "2021-11-08T12:12:02.994057",
     "exception": false,
     "start_time": "2021-11-08T12:12:02.961847",
     "status": "completed"
    },
    "tags": []
   },
   "outputs": [],
   "source": []
  },
  {
   "cell_type": "code",
   "execution_count": null,
   "id": "aging-legislature",
   "metadata": {
    "papermill": {
     "duration": 0.032303,
     "end_time": "2021-11-08T12:12:03.057554",
     "exception": false,
     "start_time": "2021-11-08T12:12:03.025251",
     "status": "completed"
    },
    "tags": []
   },
   "outputs": [],
   "source": []
  }
 ],
 "metadata": {
  "kernelspec": {
   "display_name": "Python 3",
   "language": "python",
   "name": "python3"
  },
  "language_info": {
   "codemirror_mode": {
    "name": "ipython",
    "version": 3
   },
   "file_extension": ".py",
   "mimetype": "text/x-python",
   "name": "python",
   "nbconvert_exporter": "python",
   "pygments_lexer": "ipython3",
   "version": "3.6.15"
  },
  "papermill": {
   "duration": 5.997803,
   "end_time": "2021-11-08T12:12:03.401819",
   "environment_variables": {},
   "exception": null,
   "input_path": "2020-03-21-covid19exp.ipynb",
   "output_path": "2020-03-21-covid19exp.ipynb",
   "parameters": {},
   "start_time": "2021-11-08T12:11:57.404016",
   "version": "2.0.0"
  }
 },
 "nbformat": 4,
 "nbformat_minor": 5
}