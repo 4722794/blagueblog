{
 "cells": [
  {
   "cell_type": "markdown",
   "id": "muslim-click",
   "metadata": {
    "papermill": {
     "duration": 0.045936,
     "end_time": "2021-02-08T12:07:09.056875",
     "exception": false,
     "start_time": "2021-02-08T12:07:09.010939",
     "status": "completed"
    },
    "tags": []
   },
   "source": [
    "# COVID-19 Case Race\n",
    "> A race chart to see rising cases around the world\n",
    "\n",
    "- author: Hargun Oberoi\n",
    "- image: images/covid-overview.png\n",
    "- hide: false\n",
    "- badges: false"
   ]
  },
  {
   "cell_type": "code",
   "execution_count": 1,
   "id": "proof-material",
   "metadata": {
    "execution": {
     "iopub.execute_input": "2021-02-08T12:07:09.154254Z",
     "iopub.status.busy": "2021-02-08T12:07:09.146761Z",
     "iopub.status.idle": "2021-02-08T12:07:09.508864Z",
     "shell.execute_reply": "2021-02-08T12:07:09.509526Z"
    },
    "papermill": {
     "duration": 0.409298,
     "end_time": "2021-02-08T12:07:09.509833",
     "exception": false,
     "start_time": "2021-02-08T12:07:09.100535",
     "status": "completed"
    },
    "tags": []
   },
   "outputs": [],
   "source": [
    "#hide\n",
    "import numpy as np\n",
    "import pandas as pd\n",
    "from jinja2 import Template\n",
    "from IPython.display import HTML"
   ]
  },
  {
   "cell_type": "code",
   "execution_count": 2,
   "id": "developed-terminology",
   "metadata": {
    "execution": {
     "iopub.execute_input": "2021-02-08T12:07:09.589404Z",
     "iopub.status.busy": "2021-02-08T12:07:09.588666Z",
     "iopub.status.idle": "2021-02-08T12:07:09.591301Z",
     "shell.execute_reply": "2021-02-08T12:07:09.590809Z"
    },
    "papermill": {
     "duration": 0.04422,
     "end_time": "2021-02-08T12:07:09.591418",
     "exception": false,
     "start_time": "2021-02-08T12:07:09.547198",
     "status": "completed"
    },
    "tags": []
   },
   "outputs": [],
   "source": [
    "#hide\n",
    "\n",
    "# FETCH\n",
    "base_url = 'https://raw.githubusercontent.com/pratapvardhan/notebooks/master/covid19/'\n",
    "paths = {\n",
    "    'mapping': base_url + 'mapping_countries.csv',\n",
    "    'overview': base_url + 'overview.tpl'\n",
    "}"
   ]
  },
  {
   "cell_type": "code",
   "execution_count": 3,
   "id": "dynamic-saver",
   "metadata": {
    "execution": {
     "iopub.execute_input": "2021-02-08T12:07:09.674661Z",
     "iopub.status.busy": "2021-02-08T12:07:09.671950Z",
     "iopub.status.idle": "2021-02-08T12:07:09.677335Z",
     "shell.execute_reply": "2021-02-08T12:07:09.678022Z"
    },
    "papermill": {
     "duration": 0.051391,
     "end_time": "2021-02-08T12:07:09.678156",
     "exception": false,
     "start_time": "2021-02-08T12:07:09.626765",
     "status": "completed"
    },
    "tags": []
   },
   "outputs": [
    {
     "data": {
      "text/plain": [
       "'https://raw.githubusercontent.com/pratapvardhan/notebooks/master/covid19/mapping_countries.csv'"
      ]
     },
     "execution_count": 3,
     "metadata": {},
     "output_type": "execute_result"
    }
   ],
   "source": [
    "#hide\n",
    "paths['mapping']"
   ]
  },
  {
   "cell_type": "code",
   "execution_count": 4,
   "id": "urban-software",
   "metadata": {
    "execution": {
     "iopub.execute_input": "2021-02-08T12:07:09.765685Z",
     "iopub.status.busy": "2021-02-08T12:07:09.765063Z",
     "iopub.status.idle": "2021-02-08T12:07:09.767656Z",
     "shell.execute_reply": "2021-02-08T12:07:09.768214Z"
    },
    "papermill": {
     "duration": 0.050015,
     "end_time": "2021-02-08T12:07:09.768351",
     "exception": false,
     "start_time": "2021-02-08T12:07:09.718336",
     "status": "completed"
    },
    "tags": []
   },
   "outputs": [],
   "source": [
    "#hide\n",
    "def get_mappings(url):\n",
    "    df = pd.read_csv(url)\n",
    "    return {\n",
    "        'df': df,\n",
    "        'replace.country': dict(df.dropna(subset=['Name']).set_index('Country')['Name']),\n",
    "        'map.continent': dict(df.set_index('Name')['Continent'])\n",
    "    }"
   ]
  },
  {
   "cell_type": "code",
   "execution_count": 5,
   "id": "intimate-machinery",
   "metadata": {
    "execution": {
     "iopub.execute_input": "2021-02-08T12:07:09.856092Z",
     "iopub.status.busy": "2021-02-08T12:07:09.855394Z",
     "iopub.status.idle": "2021-02-08T12:07:09.894838Z",
     "shell.execute_reply": "2021-02-08T12:07:09.895458Z"
    },
    "papermill": {
     "duration": 0.085164,
     "end_time": "2021-02-08T12:07:09.895603",
     "exception": false,
     "start_time": "2021-02-08T12:07:09.810439",
     "status": "completed"
    },
    "tags": []
   },
   "outputs": [],
   "source": [
    "#hide\n",
    "mapping = get_mappings(paths['mapping'])"
   ]
  },
  {
   "cell_type": "code",
   "execution_count": 6,
   "id": "certified-tactics",
   "metadata": {
    "execution": {
     "iopub.execute_input": "2021-02-08T12:07:09.980746Z",
     "iopub.status.busy": "2021-02-08T12:07:09.980001Z",
     "iopub.status.idle": "2021-02-08T12:07:09.982638Z",
     "shell.execute_reply": "2021-02-08T12:07:09.983146Z"
    },
    "papermill": {
     "duration": 0.047609,
     "end_time": "2021-02-08T12:07:09.983327",
     "exception": false,
     "start_time": "2021-02-08T12:07:09.935718",
     "status": "completed"
    },
    "tags": []
   },
   "outputs": [],
   "source": [
    "#hide\n",
    "def get_template(path):\n",
    "    from urllib.parse import urlparse\n",
    "    if bool(urlparse(path).netloc):\n",
    "        from urllib.request import urlopen\n",
    "        return urlopen(path).read().decode('utf8')\n",
    "    return open(path).read()"
   ]
  },
  {
   "cell_type": "code",
   "execution_count": 7,
   "id": "realistic-blast",
   "metadata": {
    "execution": {
     "iopub.execute_input": "2021-02-08T12:07:10.074422Z",
     "iopub.status.busy": "2021-02-08T12:07:10.073582Z",
     "iopub.status.idle": "2021-02-08T12:07:10.075864Z",
     "shell.execute_reply": "2021-02-08T12:07:10.076383Z"
    },
    "papermill": {
     "duration": 0.055695,
     "end_time": "2021-02-08T12:07:10.076533",
     "exception": false,
     "start_time": "2021-02-08T12:07:10.020838",
     "status": "completed"
    },
    "tags": []
   },
   "outputs": [],
   "source": [
    "#hide\n",
    "def get_frame(name):\n",
    "    url = (\n",
    "        'https://raw.githubusercontent.com/CSSEGISandData/COVID-19/master/csse_covid_19_data/'\n",
    "        f'csse_covid_19_time_series/time_series_covid19_{name}_global.csv')\n",
    "    df = pd.read_csv(url)\n",
    "    # rename countries\n",
    "    df['Country/Region'] = df['Country/Region'].replace(mapping['replace.country'])\n",
    "    return df"
   ]
  },
  {
   "cell_type": "code",
   "execution_count": 8,
   "id": "affiliated-characterization",
   "metadata": {
    "execution": {
     "iopub.execute_input": "2021-02-08T12:07:10.161898Z",
     "iopub.status.busy": "2021-02-08T12:07:10.161196Z",
     "iopub.status.idle": "2021-02-08T12:07:10.163864Z",
     "shell.execute_reply": "2021-02-08T12:07:10.163257Z"
    },
    "papermill": {
     "duration": 0.046997,
     "end_time": "2021-02-08T12:07:10.163980",
     "exception": false,
     "start_time": "2021-02-08T12:07:10.116983",
     "status": "completed"
    },
    "tags": []
   },
   "outputs": [],
   "source": [
    "#hide\n",
    "def get_dates(df):\n",
    "    dt_cols = df.columns[~df.columns.isin(['Province/State', 'Country/Region', 'Lat', 'Long'])]\n",
    "    LAST_DATE_I = -1\n",
    "    # sometimes last column may be empty, then go backwards\n",
    "    for i in range(-1, -len(dt_cols), -1):\n",
    "        if not df[dt_cols[i]].fillna(0).eq(0).all():\n",
    "            LAST_DATE_I = i\n",
    "            break\n",
    "    return LAST_DATE_I, dt_cols"
   ]
  },
  {
   "cell_type": "code",
   "execution_count": 9,
   "id": "recent-optimization",
   "metadata": {
    "execution": {
     "iopub.execute_input": "2021-02-08T12:07:10.249439Z",
     "iopub.status.busy": "2021-02-08T12:07:10.248755Z",
     "iopub.status.idle": "2021-02-08T12:07:10.564467Z",
     "shell.execute_reply": "2021-02-08T12:07:10.563897Z"
    },
    "papermill": {
     "duration": 0.358636,
     "end_time": "2021-02-08T12:07:10.564600",
     "exception": false,
     "start_time": "2021-02-08T12:07:10.205964",
     "status": "completed"
    },
    "tags": []
   },
   "outputs": [],
   "source": [
    "#hide\n",
    "COL_REGION = 'Country/Region'\n",
    "# Confirmed, Recovered, Deaths\n",
    "df = get_frame('confirmed')\n",
    "# dft_: timeseries, dfc_: today country agg\n",
    "dft_cases = df\n",
    "dft_deaths = get_frame('deaths')\n",
    "dft_recovered = get_frame('recovered')\n",
    "LAST_DATE_I, dt_cols = get_dates(df)"
   ]
  },
  {
   "cell_type": "code",
   "execution_count": 10,
   "id": "absolute-copper",
   "metadata": {
    "execution": {
     "iopub.execute_input": "2021-02-08T12:07:10.643297Z",
     "iopub.status.busy": "2021-02-08T12:07:10.642580Z",
     "iopub.status.idle": "2021-02-08T12:07:10.645569Z",
     "shell.execute_reply": "2021-02-08T12:07:10.646159Z"
    },
    "papermill": {
     "duration": 0.045325,
     "end_time": "2021-02-08T12:07:10.646291",
     "exception": false,
     "start_time": "2021-02-08T12:07:10.600966",
     "status": "completed"
    },
    "tags": []
   },
   "outputs": [],
   "source": [
    "#hide\n",
    "LAST_DATE_I, dt_cols = get_dates(df)\n",
    "dt_today =dt_cols[LAST_DATE_I]\n",
    "# dt_5day = dt_cols[LAST_DATE_I - 5]\n",
    "dt_yday = dt_cols[LAST_DATE_I - 1]"
   ]
  },
  {
   "cell_type": "code",
   "execution_count": 11,
   "id": "restricted-sheriff",
   "metadata": {
    "execution": {
     "iopub.execute_input": "2021-02-08T12:07:10.724805Z",
     "iopub.status.busy": "2021-02-08T12:07:10.724054Z",
     "iopub.status.idle": "2021-02-08T12:07:10.732863Z",
     "shell.execute_reply": "2021-02-08T12:07:10.733370Z"
    },
    "papermill": {
     "duration": 0.048957,
     "end_time": "2021-02-08T12:07:10.733503",
     "exception": false,
     "start_time": "2021-02-08T12:07:10.684546",
     "status": "completed"
    },
    "tags": []
   },
   "outputs": [],
   "source": [
    "#hide\n",
    "dfc_cases = dft_cases.groupby(COL_REGION)[dt_today].sum()\n",
    "dfc_deaths = dft_deaths.groupby(COL_REGION)[dt_today].sum()\n",
    "# dfp_cases = dft_cases.groupby(COL_REGION)[dt_5day].sum()\n",
    "# dfp_deaths = dft_deaths.groupby(COL_REGION)[dt_5day].sum()\n",
    "dfp_cases = dft_cases.groupby(COL_REGION)[dt_yday].sum()\n",
    "dfp_deaths = dft_deaths.groupby(COL_REGION)[dt_yday].sum()"
   ]
  },
  {
   "cell_type": "code",
   "execution_count": 12,
   "id": "deluxe-hepatitis",
   "metadata": {
    "execution": {
     "iopub.execute_input": "2021-02-08T12:07:10.811734Z",
     "iopub.status.busy": "2021-02-08T12:07:10.811186Z",
     "iopub.status.idle": "2021-02-08T12:07:10.815623Z",
     "shell.execute_reply": "2021-02-08T12:07:10.816088Z"
    },
    "papermill": {
     "duration": 0.047851,
     "end_time": "2021-02-08T12:07:10.816252",
     "exception": false,
     "start_time": "2021-02-08T12:07:10.768401",
     "status": "completed"
    },
    "tags": []
   },
   "outputs": [],
   "source": [
    "#hide\n",
    "df_table = (pd.DataFrame(dict(Cases = dfc_cases, Deaths = dfc_deaths, PCases = dfp_cases, PDeaths = dfp_deaths))\n",
    "            .sort_values(by = ['Cases','Deaths'], ascending = [False, False])\n",
    "            .reset_index())"
   ]
  },
  {
   "cell_type": "code",
   "execution_count": 13,
   "id": "educational-chancellor",
   "metadata": {
    "execution": {
     "iopub.execute_input": "2021-02-08T12:07:10.910572Z",
     "iopub.status.busy": "2021-02-08T12:07:10.909848Z",
     "iopub.status.idle": "2021-02-08T12:07:10.919114Z",
     "shell.execute_reply": "2021-02-08T12:07:10.918593Z"
    },
    "papermill": {
     "duration": 0.069601,
     "end_time": "2021-02-08T12:07:10.919249",
     "exception": false,
     "start_time": "2021-02-08T12:07:10.849648",
     "status": "completed"
    },
    "tags": []
   },
   "outputs": [
    {
     "data": {
      "text/html": [
       "<div>\n",
       "<style scoped>\n",
       "    .dataframe tbody tr th:only-of-type {\n",
       "        vertical-align: middle;\n",
       "    }\n",
       "\n",
       "    .dataframe tbody tr th {\n",
       "        vertical-align: top;\n",
       "    }\n",
       "\n",
       "    .dataframe thead th {\n",
       "        text-align: right;\n",
       "    }\n",
       "</style>\n",
       "<table border=\"1\" class=\"dataframe\">\n",
       "  <thead>\n",
       "    <tr style=\"text-align: right;\">\n",
       "      <th></th>\n",
       "      <th>Country/Region</th>\n",
       "      <th>Cases</th>\n",
       "      <th>Deaths</th>\n",
       "      <th>PCases</th>\n",
       "      <th>PDeaths</th>\n",
       "      <th>Cases (+)</th>\n",
       "      <th>Deaths (+)</th>\n",
       "      <th>Fatality Rate</th>\n",
       "      <th>Continent</th>\n",
       "    </tr>\n",
       "  </thead>\n",
       "  <tbody>\n",
       "    <tr>\n",
       "      <th>0</th>\n",
       "      <td>US</td>\n",
       "      <td>27005831</td>\n",
       "      <td>463445</td>\n",
       "      <td>26917787</td>\n",
       "      <td>462169</td>\n",
       "      <td>88044</td>\n",
       "      <td>1276</td>\n",
       "      <td>1.72</td>\n",
       "      <td>North America</td>\n",
       "    </tr>\n",
       "    <tr>\n",
       "      <th>1</th>\n",
       "      <td>India</td>\n",
       "      <td>10838194</td>\n",
       "      <td>155080</td>\n",
       "      <td>10826363</td>\n",
       "      <td>154996</td>\n",
       "      <td>11831</td>\n",
       "      <td>84</td>\n",
       "      <td>1.43</td>\n",
       "      <td>Asia</td>\n",
       "    </tr>\n",
       "    <tr>\n",
       "      <th>2</th>\n",
       "      <td>Brazil</td>\n",
       "      <td>9524640</td>\n",
       "      <td>231534</td>\n",
       "      <td>9447165</td>\n",
       "      <td>230034</td>\n",
       "      <td>77475</td>\n",
       "      <td>1500</td>\n",
       "      <td>2.43</td>\n",
       "      <td>South America</td>\n",
       "    </tr>\n",
       "    <tr>\n",
       "      <th>3</th>\n",
       "      <td>United Kingdom</td>\n",
       "      <td>3957177</td>\n",
       "      <td>112681</td>\n",
       "      <td>3941273</td>\n",
       "      <td>112305</td>\n",
       "      <td>15904</td>\n",
       "      <td>376</td>\n",
       "      <td>2.85</td>\n",
       "      <td>Europe</td>\n",
       "    </tr>\n",
       "    <tr>\n",
       "      <th>4</th>\n",
       "      <td>Russia</td>\n",
       "      <td>3923461</td>\n",
       "      <td>75430</td>\n",
       "      <td>3907653</td>\n",
       "      <td>75010</td>\n",
       "      <td>15808</td>\n",
       "      <td>420</td>\n",
       "      <td>1.92</td>\n",
       "      <td>Europe</td>\n",
       "    </tr>\n",
       "  </tbody>\n",
       "</table>\n",
       "</div>"
      ],
      "text/plain": [
       "   Country/Region     Cases  Deaths    PCases  PDeaths  Cases (+)  Deaths (+)  \\\n",
       "0              US  27005831  463445  26917787   462169      88044        1276   \n",
       "1           India  10838194  155080  10826363   154996      11831          84   \n",
       "2          Brazil   9524640  231534   9447165   230034      77475        1500   \n",
       "3  United Kingdom   3957177  112681   3941273   112305      15904         376   \n",
       "4          Russia   3923461   75430   3907653    75010      15808         420   \n",
       "\n",
       "   Fatality Rate      Continent  \n",
       "0           1.72  North America  \n",
       "1           1.43           Asia  \n",
       "2           2.43  South America  \n",
       "3           2.85         Europe  \n",
       "4           1.92         Europe  "
      ]
     },
     "execution_count": 13,
     "metadata": {},
     "output_type": "execute_result"
    }
   ],
   "source": [
    "#hide\n",
    "for c in 'Cases, Deaths'.split(', '):\n",
    "    df_table[f'{c} (+)'] = (df_table[c] - df_table[f'P{c}']).clip(0)\n",
    "    #Clip ça veut dire, les chiffres negatif sont interdit\n",
    "df_table['Fatality Rate'] = (100* df_table['Deaths']/ df_table['Cases']).round(2)\n",
    "df_table['Continent'] = df_table['Country/Region'].map(mapping['map.continent'])\n",
    "df_table.head(5)"
   ]
  },
  {
   "cell_type": "code",
   "execution_count": 14,
   "id": "aboriginal-bulgaria",
   "metadata": {
    "execution": {
     "iopub.execute_input": "2021-02-08T12:07:11.000981Z",
     "iopub.status.busy": "2021-02-08T12:07:11.000393Z",
     "iopub.status.idle": "2021-02-08T12:07:11.003522Z",
     "shell.execute_reply": "2021-02-08T12:07:11.004074Z"
    },
    "papermill": {
     "duration": 0.046901,
     "end_time": "2021-02-08T12:07:11.004203",
     "exception": false,
     "start_time": "2021-02-08T12:07:10.957302",
     "status": "completed"
    },
    "tags": []
   },
   "outputs": [],
   "source": [
    "#hide\n",
    "#delete problematic countries from table\n",
    "df_table = df_table[~df_table['Country/Region'].isin(['Cape Verde', 'Cruise Ship', 'Kosovo'])]"
   ]
  },
  {
   "cell_type": "code",
   "execution_count": 15,
   "id": "fantastic-effect",
   "metadata": {
    "execution": {
     "iopub.execute_input": "2021-02-08T12:07:11.092801Z",
     "iopub.status.busy": "2021-02-08T12:07:11.091925Z",
     "iopub.status.idle": "2021-02-08T12:07:11.115020Z",
     "shell.execute_reply": "2021-02-08T12:07:11.115573Z"
    },
    "papermill": {
     "duration": 0.074333,
     "end_time": "2021-02-08T12:07:11.115717",
     "exception": false,
     "start_time": "2021-02-08T12:07:11.041384",
     "status": "completed"
    },
    "tags": []
   },
   "outputs": [
    {
     "data": {
      "text/html": [
       "<div>\n",
       "<style scoped>\n",
       "    .dataframe tbody tr th:only-of-type {\n",
       "        vertical-align: middle;\n",
       "    }\n",
       "\n",
       "    .dataframe tbody tr th {\n",
       "        vertical-align: top;\n",
       "    }\n",
       "\n",
       "    .dataframe thead th {\n",
       "        text-align: right;\n",
       "    }\n",
       "</style>\n",
       "<table border=\"1\" class=\"dataframe\">\n",
       "  <thead>\n",
       "    <tr style=\"text-align: right;\">\n",
       "      <th></th>\n",
       "      <th>Country/Region</th>\n",
       "      <th>Cases</th>\n",
       "      <th>Deaths</th>\n",
       "      <th>PCases</th>\n",
       "      <th>PDeaths</th>\n",
       "      <th>Cases (+)</th>\n",
       "      <th>Deaths (+)</th>\n",
       "      <th>Fatality Rate</th>\n",
       "      <th>Continent</th>\n",
       "    </tr>\n",
       "  </thead>\n",
       "  <tbody>\n",
       "    <tr>\n",
       "      <th>0</th>\n",
       "      <td>US</td>\n",
       "      <td>27005831</td>\n",
       "      <td>463445</td>\n",
       "      <td>26917787</td>\n",
       "      <td>462169</td>\n",
       "      <td>88044</td>\n",
       "      <td>1276</td>\n",
       "      <td>1.7</td>\n",
       "      <td>North America</td>\n",
       "    </tr>\n",
       "    <tr>\n",
       "      <th>1</th>\n",
       "      <td>India</td>\n",
       "      <td>10838194</td>\n",
       "      <td>155080</td>\n",
       "      <td>10826363</td>\n",
       "      <td>154996</td>\n",
       "      <td>11831</td>\n",
       "      <td>84</td>\n",
       "      <td>1.4</td>\n",
       "      <td>Asia</td>\n",
       "    </tr>\n",
       "    <tr>\n",
       "      <th>2</th>\n",
       "      <td>Brazil</td>\n",
       "      <td>9524640</td>\n",
       "      <td>231534</td>\n",
       "      <td>9447165</td>\n",
       "      <td>230034</td>\n",
       "      <td>77475</td>\n",
       "      <td>1500</td>\n",
       "      <td>2.4</td>\n",
       "      <td>South America</td>\n",
       "    </tr>\n",
       "    <tr>\n",
       "      <th>3</th>\n",
       "      <td>United Kingdom</td>\n",
       "      <td>3957177</td>\n",
       "      <td>112681</td>\n",
       "      <td>3941273</td>\n",
       "      <td>112305</td>\n",
       "      <td>15904</td>\n",
       "      <td>376</td>\n",
       "      <td>2.8</td>\n",
       "      <td>Europe</td>\n",
       "    </tr>\n",
       "    <tr>\n",
       "      <th>4</th>\n",
       "      <td>Russia</td>\n",
       "      <td>3923461</td>\n",
       "      <td>75430</td>\n",
       "      <td>3907653</td>\n",
       "      <td>75010</td>\n",
       "      <td>15808</td>\n",
       "      <td>420</td>\n",
       "      <td>1.9</td>\n",
       "      <td>Europe</td>\n",
       "    </tr>\n",
       "  </tbody>\n",
       "</table>\n",
       "</div>"
      ],
      "text/plain": [
       "   Country/Region     Cases  Deaths    PCases  PDeaths  Cases (+)  Deaths (+)  \\\n",
       "0              US  27005831  463445  26917787   462169      88044        1276   \n",
       "1           India  10838194  155080  10826363   154996      11831          84   \n",
       "2          Brazil   9524640  231534   9447165   230034      77475        1500   \n",
       "3  United Kingdom   3957177  112681   3941273   112305      15904         376   \n",
       "4          Russia   3923461   75430   3907653    75010      15808         420   \n",
       "\n",
       "   Fatality Rate      Continent  \n",
       "0            1.7  North America  \n",
       "1            1.4           Asia  \n",
       "2            2.4  South America  \n",
       "3            2.8         Europe  \n",
       "4            1.9         Europe  "
      ]
     },
     "execution_count": 15,
     "metadata": {},
     "output_type": "execute_result"
    }
   ],
   "source": [
    "#hide\n",
    "df_table = (pd.DataFrame(dict(Cases=dfc_cases, Deaths=dfc_deaths, PCases=dfp_cases, PDeaths=dfp_deaths))\n",
    "             .sort_values(by=['Cases', 'Deaths'], ascending=[False, False])\n",
    "             .reset_index())\n",
    "df_table.rename(columns={'index': 'Country/Region'}, inplace=True)\n",
    "for c in 'Cases, Deaths'.split(', '):\n",
    "    df_table[f'{c} (+)'] = (df_table[c] - df_table[f'P{c}']).clip(0)  # DATA BUG\n",
    "df_table['Fatality Rate'] = (100 * df_table['Deaths'] / df_table['Cases']).round(1)\n",
    "df_table['Continent'] = df_table['Country/Region'].map(mapping['map.continent'])\n",
    "df_table.head(5)"
   ]
  },
  {
   "cell_type": "code",
   "execution_count": 16,
   "id": "fewer-occasion",
   "metadata": {
    "execution": {
     "iopub.execute_input": "2021-02-08T12:07:11.201067Z",
     "iopub.status.busy": "2021-02-08T12:07:11.200296Z",
     "iopub.status.idle": "2021-02-08T12:07:11.202481Z",
     "shell.execute_reply": "2021-02-08T12:07:11.203052Z"
    },
    "papermill": {
     "duration": 0.045109,
     "end_time": "2021-02-08T12:07:11.203192",
     "exception": false,
     "start_time": "2021-02-08T12:07:11.158083",
     "status": "completed"
    },
    "tags": []
   },
   "outputs": [],
   "source": [
    "#hide\n",
    "#delete problematic countries from table\n",
    "df_table = df_table[~df_table['Country/Region'].isin(['Cape Verde', 'Cruise Ship', 'Kosovo'])]"
   ]
  },
  {
   "cell_type": "code",
   "execution_count": 17,
   "id": "related-center",
   "metadata": {
    "execution": {
     "iopub.execute_input": "2021-02-08T12:07:11.301765Z",
     "iopub.status.busy": "2021-02-08T12:07:11.301024Z",
     "iopub.status.idle": "2021-02-08T12:07:11.303980Z",
     "shell.execute_reply": "2021-02-08T12:07:11.304566Z"
    },
    "papermill": {
     "duration": 0.063636,
     "end_time": "2021-02-08T12:07:11.304759",
     "exception": false,
     "start_time": "2021-02-08T12:07:11.241123",
     "status": "completed"
    },
    "tags": []
   },
   "outputs": [],
   "source": [
    "#hide\n",
    "metrics = [df_table.columns[index] for index in [1,2,5,6]]\n",
    "# s_china = df_table[df_table['Country/Region'].eq('China')][metrics].sum().add_prefix('China ')\n",
    "s_us = df_table[df_table['Country/Region'].eq('US')][metrics].sum().add_prefix('US ')\n",
    "s_eu = df_table[df_table['Continent'].eq('Europe')][metrics].sum().add_prefix('EU ')\n",
    "s_ind = df_table[df_table['Country/Region'].eq('India')][metrics].sum().add_prefix('India ')\n",
    "summary = {'updated': pd.to_datetime(dt_today), 'since': pd.to_datetime(dt_yday)}\n",
    "summary = {'updated': pd.to_datetime(dt_today), 'since': pd.to_datetime(dt_yday)}\n",
    "summary = {**summary, **df_table[metrics].sum(), **s_ind, **s_us, **s_eu}"
   ]
  },
  {
   "cell_type": "code",
   "execution_count": 18,
   "id": "engaging-syndrome",
   "metadata": {
    "execution": {
     "iopub.execute_input": "2021-02-08T12:07:11.989081Z",
     "iopub.status.busy": "2021-02-08T12:07:11.988399Z",
     "iopub.status.idle": "2021-02-08T12:07:12.001190Z",
     "shell.execute_reply": "2021-02-08T12:07:12.000659Z"
    },
    "papermill": {
     "duration": 0.658583,
     "end_time": "2021-02-08T12:07:12.001350",
     "exception": false,
     "start_time": "2021-02-08T12:07:11.342767",
     "status": "completed"
    },
    "tags": []
   },
   "outputs": [],
   "source": [
    "#hide\n",
    "dft_ct_new_cases = dft_cases.groupby(COL_REGION)[dt_cols].sum().diff(axis=1).fillna(0).astype(int)"
   ]
  },
  {
   "cell_type": "code",
   "execution_count": 19,
   "id": "neutral-assignment",
   "metadata": {
    "execution": {
     "iopub.execute_input": "2021-02-08T12:07:12.091940Z",
     "iopub.status.busy": "2021-02-08T12:07:12.091166Z",
     "iopub.status.idle": "2021-02-08T12:07:12.092674Z",
     "shell.execute_reply": "2021-02-08T12:07:12.093296Z"
    },
    "papermill": {
     "duration": 0.053817,
     "end_time": "2021-02-08T12:07:12.093486",
     "exception": false,
     "start_time": "2021-02-08T12:07:12.039669",
     "status": "completed"
    },
    "tags": []
   },
   "outputs": [],
   "source": [
    "#hide\n",
    "everydaycases = dft_ct_new_cases.cumsum(axis=1)"
   ]
  },
  {
   "cell_type": "code",
   "execution_count": 20,
   "id": "parliamentary-calgary",
   "metadata": {
    "execution": {
     "iopub.execute_input": "2021-02-08T12:07:12.176207Z",
     "iopub.status.busy": "2021-02-08T12:07:12.175509Z",
     "iopub.status.idle": "2021-02-08T12:07:14.555455Z",
     "shell.execute_reply": "2021-02-08T12:07:14.556027Z"
    },
    "papermill": {
     "duration": 2.423346,
     "end_time": "2021-02-08T12:07:14.556188",
     "exception": false,
     "start_time": "2021-02-08T12:07:12.132842",
     "status": "completed"
    },
    "tags": []
   },
   "outputs": [],
   "source": [
    "#hide\n",
    "import pandas as pd\n",
    "import matplotlib.pyplot as plt\n",
    "import matplotlib.ticker as ticker\n",
    "import matplotlib.animation as animation\n",
    "from IPython.display import HTML"
   ]
  },
  {
   "cell_type": "code",
   "execution_count": 21,
   "id": "lasting-extraction",
   "metadata": {
    "execution": {
     "iopub.execute_input": "2021-02-08T12:07:14.634977Z",
     "iopub.status.busy": "2021-02-08T12:07:14.634318Z",
     "iopub.status.idle": "2021-02-08T12:07:14.640103Z",
     "shell.execute_reply": "2021-02-08T12:07:14.639568Z"
    },
    "papermill": {
     "duration": 0.046443,
     "end_time": "2021-02-08T12:07:14.640228",
     "exception": false,
     "start_time": "2021-02-08T12:07:14.593785",
     "status": "completed"
    },
    "tags": []
   },
   "outputs": [],
   "source": [
    "#hide\n",
    "t = everydaycases.stack()"
   ]
  },
  {
   "cell_type": "code",
   "execution_count": 22,
   "id": "premier-sleeve",
   "metadata": {
    "execution": {
     "iopub.execute_input": "2021-02-08T12:07:14.734247Z",
     "iopub.status.busy": "2021-02-08T12:07:14.733296Z",
     "iopub.status.idle": "2021-02-08T12:07:14.742393Z",
     "shell.execute_reply": "2021-02-08T12:07:14.741856Z"
    },
    "papermill": {
     "duration": 0.053667,
     "end_time": "2021-02-08T12:07:14.742532",
     "exception": false,
     "start_time": "2021-02-08T12:07:14.688865",
     "status": "completed"
    },
    "tags": []
   },
   "outputs": [],
   "source": [
    "#hide\n",
    "g = t.reset_index(['Country/Region'])"
   ]
  },
  {
   "cell_type": "code",
   "execution_count": 23,
   "id": "distributed-pittsburgh",
   "metadata": {
    "execution": {
     "iopub.execute_input": "2021-02-08T12:07:14.829770Z",
     "iopub.status.busy": "2021-02-08T12:07:14.828885Z",
     "iopub.status.idle": "2021-02-08T12:07:14.831739Z",
     "shell.execute_reply": "2021-02-08T12:07:14.831012Z"
    },
    "papermill": {
     "duration": 0.050827,
     "end_time": "2021-02-08T12:07:14.831881",
     "exception": false,
     "start_time": "2021-02-08T12:07:14.781054",
     "status": "completed"
    },
    "tags": []
   },
   "outputs": [],
   "source": [
    "#hide\n",
    "g.index.name = 'date'"
   ]
  },
  {
   "cell_type": "code",
   "execution_count": 24,
   "id": "naked-donor",
   "metadata": {
    "execution": {
     "iopub.execute_input": "2021-02-08T12:07:14.915965Z",
     "iopub.status.busy": "2021-02-08T12:07:14.915366Z",
     "iopub.status.idle": "2021-02-08T12:07:14.919101Z",
     "shell.execute_reply": "2021-02-08T12:07:14.918446Z"
    },
    "papermill": {
     "duration": 0.046481,
     "end_time": "2021-02-08T12:07:14.919246",
     "exception": false,
     "start_time": "2021-02-08T12:07:14.872765",
     "status": "completed"
    },
    "tags": []
   },
   "outputs": [],
   "source": [
    "# #hide\n",
    "# g = g.reset_index(['date'])"
   ]
  },
  {
   "cell_type": "code",
   "execution_count": 25,
   "id": "incomplete-mustang",
   "metadata": {
    "execution": {
     "iopub.execute_input": "2021-02-08T12:07:15.001842Z",
     "iopub.status.busy": "2021-02-08T12:07:15.001126Z",
     "iopub.status.idle": "2021-02-08T12:07:15.003227Z",
     "shell.execute_reply": "2021-02-08T12:07:15.003842Z"
    },
    "papermill": {
     "duration": 0.044725,
     "end_time": "2021-02-08T12:07:15.003969",
     "exception": false,
     "start_time": "2021-02-08T12:07:14.959244",
     "status": "completed"
    },
    "tags": []
   },
   "outputs": [],
   "source": [
    "#hide\n",
    "# g.head()"
   ]
  },
  {
   "cell_type": "code",
   "execution_count": 26,
   "id": "specific-kruger",
   "metadata": {
    "execution": {
     "iopub.execute_input": "2021-02-08T12:07:15.085866Z",
     "iopub.status.busy": "2021-02-08T12:07:15.085236Z",
     "iopub.status.idle": "2021-02-08T12:07:15.087238Z",
     "shell.execute_reply": "2021-02-08T12:07:15.087833Z"
    },
    "papermill": {
     "duration": 0.048198,
     "end_time": "2021-02-08T12:07:15.087973",
     "exception": false,
     "start_time": "2021-02-08T12:07:15.039775",
     "status": "completed"
    },
    "tags": []
   },
   "outputs": [],
   "source": [
    "#hide\n",
    "# g.columns = ['date','country','cases']"
   ]
  },
  {
   "cell_type": "code",
   "execution_count": 27,
   "id": "tender-conversion",
   "metadata": {
    "execution": {
     "iopub.execute_input": "2021-02-08T12:07:15.175322Z",
     "iopub.status.busy": "2021-02-08T12:07:15.174602Z",
     "iopub.status.idle": "2021-02-08T12:07:15.177305Z",
     "shell.execute_reply": "2021-02-08T12:07:15.176769Z"
    },
    "papermill": {
     "duration": 0.049119,
     "end_time": "2021-02-08T12:07:15.177435",
     "exception": false,
     "start_time": "2021-02-08T12:07:15.128316",
     "status": "completed"
    },
    "tags": []
   },
   "outputs": [],
   "source": [
    "#hide\n",
    "# g['continent'] = g.country"
   ]
  },
  {
   "cell_type": "code",
   "execution_count": 28,
   "id": "substantial-wilderness",
   "metadata": {
    "execution": {
     "iopub.execute_input": "2021-02-08T12:07:15.254874Z",
     "iopub.status.busy": "2021-02-08T12:07:15.254195Z",
     "iopub.status.idle": "2021-02-08T12:07:15.256958Z",
     "shell.execute_reply": "2021-02-08T12:07:15.256477Z"
    },
    "papermill": {
     "duration": 0.043585,
     "end_time": "2021-02-08T12:07:15.257073",
     "exception": false,
     "start_time": "2021-02-08T12:07:15.213488",
     "status": "completed"
    },
    "tags": []
   },
   "outputs": [],
   "source": [
    "#hide\n",
    "# cols = list(g.columns.values)"
   ]
  },
  {
   "cell_type": "code",
   "execution_count": 29,
   "id": "solved-farming",
   "metadata": {
    "execution": {
     "iopub.execute_input": "2021-02-08T12:07:15.339011Z",
     "iopub.status.busy": "2021-02-08T12:07:15.338358Z",
     "iopub.status.idle": "2021-02-08T12:07:15.344612Z",
     "shell.execute_reply": "2021-02-08T12:07:15.343984Z"
    },
    "papermill": {
     "duration": 0.047388,
     "end_time": "2021-02-08T12:07:15.344757",
     "exception": false,
     "start_time": "2021-02-08T12:07:15.297369",
     "status": "completed"
    },
    "tags": []
   },
   "outputs": [],
   "source": [
    "#hide\n",
    "# cols.insert(0, cols.pop())"
   ]
  },
  {
   "cell_type": "code",
   "execution_count": 30,
   "id": "executed-adoption",
   "metadata": {
    "execution": {
     "iopub.execute_input": "2021-02-08T12:07:15.430717Z",
     "iopub.status.busy": "2021-02-08T12:07:15.430105Z",
     "iopub.status.idle": "2021-02-08T12:07:15.432235Z",
     "shell.execute_reply": "2021-02-08T12:07:15.432756Z"
    },
    "papermill": {
     "duration": 0.049974,
     "end_time": "2021-02-08T12:07:15.432914",
     "exception": false,
     "start_time": "2021-02-08T12:07:15.382940",
     "status": "completed"
    },
    "tags": []
   },
   "outputs": [],
   "source": [
    "#hide\n",
    "# g = g[cols]"
   ]
  },
  {
   "cell_type": "code",
   "execution_count": 31,
   "id": "subject-dublin",
   "metadata": {
    "execution": {
     "iopub.execute_input": "2021-02-08T12:07:15.509640Z",
     "iopub.status.busy": "2021-02-08T12:07:15.508813Z",
     "iopub.status.idle": "2021-02-08T12:07:15.512251Z",
     "shell.execute_reply": "2021-02-08T12:07:15.511608Z"
    },
    "papermill": {
     "duration": 0.042881,
     "end_time": "2021-02-08T12:07:15.512408",
     "exception": false,
     "start_time": "2021-02-08T12:07:15.469527",
     "status": "completed"
    },
    "tags": []
   },
   "outputs": [],
   "source": [
    "#hide\n",
    "# g['continent'] = g['continent'].map(mapping['map.continent'])"
   ]
  },
  {
   "cell_type": "code",
   "execution_count": 32,
   "id": "freelance-scout",
   "metadata": {
    "execution": {
     "iopub.execute_input": "2021-02-08T12:07:15.592227Z",
     "iopub.status.busy": "2021-02-08T12:07:15.591598Z",
     "iopub.status.idle": "2021-02-08T12:07:15.594244Z",
     "shell.execute_reply": "2021-02-08T12:07:15.593692Z"
    },
    "papermill": {
     "duration": 0.04567,
     "end_time": "2021-02-08T12:07:15.594379",
     "exception": false,
     "start_time": "2021-02-08T12:07:15.548709",
     "status": "completed"
    },
    "tags": []
   },
   "outputs": [],
   "source": [
    "#hide\n",
    "# g.head()"
   ]
  },
  {
   "cell_type": "code",
   "execution_count": 33,
   "id": "limited-engine",
   "metadata": {
    "execution": {
     "iopub.execute_input": "2021-02-08T12:07:15.676816Z",
     "iopub.status.busy": "2021-02-08T12:07:15.676191Z",
     "iopub.status.idle": "2021-02-08T12:07:15.678201Z",
     "shell.execute_reply": "2021-02-08T12:07:15.679305Z"
    },
    "papermill": {
     "duration": 0.04646,
     "end_time": "2021-02-08T12:07:15.679485",
     "exception": false,
     "start_time": "2021-02-08T12:07:15.633025",
     "status": "completed"
    },
    "tags": []
   },
   "outputs": [],
   "source": [
    "# hide\n",
    "# g['date'] = g['date'].astype('datetime64[ns]')"
   ]
  },
  {
   "cell_type": "code",
   "execution_count": 34,
   "id": "sophisticated-supervisor",
   "metadata": {
    "execution": {
     "iopub.execute_input": "2021-02-08T12:07:15.763433Z",
     "iopub.status.busy": "2021-02-08T12:07:15.762808Z",
     "iopub.status.idle": "2021-02-08T12:07:15.765341Z",
     "shell.execute_reply": "2021-02-08T12:07:15.764601Z"
    },
    "papermill": {
     "duration": 0.045251,
     "end_time": "2021-02-08T12:07:15.765491",
     "exception": false,
     "start_time": "2021-02-08T12:07:15.720240",
     "status": "completed"
    },
    "tags": []
   },
   "outputs": [],
   "source": [
    "#hide\n",
    "# g['date'] = g.date.dt.dayofyear"
   ]
  },
  {
   "cell_type": "code",
   "execution_count": 35,
   "id": "inside-dubai",
   "metadata": {
    "execution": {
     "iopub.execute_input": "2021-02-08T12:07:15.844865Z",
     "iopub.status.busy": "2021-02-08T12:07:15.844289Z",
     "iopub.status.idle": "2021-02-08T12:07:15.846269Z",
     "shell.execute_reply": "2021-02-08T12:07:15.846835Z"
    },
    "papermill": {
     "duration": 0.04091,
     "end_time": "2021-02-08T12:07:15.846966",
     "exception": false,
     "start_time": "2021-02-08T12:07:15.806056",
     "status": "completed"
    },
    "tags": []
   },
   "outputs": [],
   "source": [
    "#hide\n",
    "# g = g.rename(columns= {'continent':'group','country':'name','cases':'value'})"
   ]
  },
  {
   "cell_type": "code",
   "execution_count": 36,
   "id": "fleet-motorcycle",
   "metadata": {
    "execution": {
     "iopub.execute_input": "2021-02-08T12:07:15.919776Z",
     "iopub.status.busy": "2021-02-08T12:07:15.919132Z",
     "iopub.status.idle": "2021-02-08T12:07:15.922271Z",
     "shell.execute_reply": "2021-02-08T12:07:15.921372Z"
    },
    "papermill": {
     "duration": 0.041425,
     "end_time": "2021-02-08T12:07:15.922417",
     "exception": false,
     "start_time": "2021-02-08T12:07:15.880992",
     "status": "completed"
    },
    "tags": []
   },
   "outputs": [],
   "source": [
    "#hide\n",
    "# cols = ['name','group','day','value']"
   ]
  },
  {
   "cell_type": "code",
   "execution_count": 37,
   "id": "continued-sleeping",
   "metadata": {
    "execution": {
     "iopub.execute_input": "2021-02-08T12:07:16.007569Z",
     "iopub.status.busy": "2021-02-08T12:07:16.006972Z",
     "iopub.status.idle": "2021-02-08T12:07:16.008931Z",
     "shell.execute_reply": "2021-02-08T12:07:16.009418Z"
    },
    "papermill": {
     "duration": 0.041287,
     "end_time": "2021-02-08T12:07:16.009615",
     "exception": false,
     "start_time": "2021-02-08T12:07:15.968328",
     "status": "completed"
    },
    "tags": []
   },
   "outputs": [],
   "source": [
    "#hide\n",
    "# g.rename(columns= {'date':'day'},inplace = True)"
   ]
  },
  {
   "cell_type": "code",
   "execution_count": 38,
   "id": "major-fight",
   "metadata": {
    "execution": {
     "iopub.execute_input": "2021-02-08T12:07:16.091922Z",
     "iopub.status.busy": "2021-02-08T12:07:16.091081Z",
     "iopub.status.idle": "2021-02-08T12:07:16.093732Z",
     "shell.execute_reply": "2021-02-08T12:07:16.093055Z"
    },
    "papermill": {
     "duration": 0.047379,
     "end_time": "2021-02-08T12:07:16.093863",
     "exception": false,
     "start_time": "2021-02-08T12:07:16.046484",
     "status": "completed"
    },
    "tags": []
   },
   "outputs": [],
   "source": [
    "#hide\n",
    "# g = g[cols]"
   ]
  },
  {
   "cell_type": "code",
   "execution_count": 39,
   "id": "structured-mobile",
   "metadata": {
    "execution": {
     "iopub.execute_input": "2021-02-08T12:07:16.178333Z",
     "iopub.status.busy": "2021-02-08T12:07:16.177492Z",
     "iopub.status.idle": "2021-02-08T12:07:16.179545Z",
     "shell.execute_reply": "2021-02-08T12:07:16.180043Z"
    },
    "papermill": {
     "duration": 0.045814,
     "end_time": "2021-02-08T12:07:16.180183",
     "exception": false,
     "start_time": "2021-02-08T12:07:16.134369",
     "status": "completed"
    },
    "tags": []
   },
   "outputs": [],
   "source": [
    "# #hide\n",
    "# g = g[g.group.notna()]"
   ]
  },
  {
   "cell_type": "code",
   "execution_count": 40,
   "id": "determined-closing",
   "metadata": {
    "execution": {
     "iopub.execute_input": "2021-02-08T12:07:16.258935Z",
     "iopub.status.busy": "2021-02-08T12:07:16.258327Z",
     "iopub.status.idle": "2021-02-08T12:07:16.260750Z",
     "shell.execute_reply": "2021-02-08T12:07:16.260256Z"
    },
    "papermill": {
     "duration": 0.045059,
     "end_time": "2021-02-08T12:07:16.260875",
     "exception": false,
     "start_time": "2021-02-08T12:07:16.215816",
     "status": "completed"
    },
    "tags": []
   },
   "outputs": [],
   "source": [
    "# #hide\n",
    "# colors = dict(zip(\n",
    "#     [\"Oceania\", \"Europe\", \"Asia\", \"South America\", \"Middle East\", \"North America\", \"Africa\"],\n",
    "#     [\"#adb0ff\", \"#ffb3ff\", \"#90d595\", \"#e48381\", \"#aafbff\", \"#f7bb5f\", \"#eafb50\"]\n",
    "# ))\n",
    "# group_lk = g.set_index('name')['group'].to_dict()"
   ]
  },
  {
   "cell_type": "code",
   "execution_count": null,
   "id": "gross-drinking",
   "metadata": {
    "papermill": {
     "duration": 0.037808,
     "end_time": "2021-02-08T12:07:16.336064",
     "exception": false,
     "start_time": "2021-02-08T12:07:16.298256",
     "status": "completed"
    },
    "tags": []
   },
   "outputs": [],
   "source": []
  },
  {
   "cell_type": "code",
   "execution_count": 41,
   "id": "subject-macintosh",
   "metadata": {
    "execution": {
     "iopub.execute_input": "2021-02-08T12:07:16.435016Z",
     "iopub.status.busy": "2021-02-08T12:07:16.433942Z",
     "iopub.status.idle": "2021-02-08T12:07:16.437700Z",
     "shell.execute_reply": "2021-02-08T12:07:16.438184Z"
    },
    "papermill": {
     "duration": 0.064916,
     "end_time": "2021-02-08T12:07:16.438333",
     "exception": false,
     "start_time": "2021-02-08T12:07:16.373417",
     "status": "completed"
    },
    "tags": []
   },
   "outputs": [],
   "source": [
    "# #hide\n",
    "# fig, ax = plt.subplots(figsize=(15, 8))\n",
    "\n",
    "# def draw_barchart(current_day):\n",
    "#     dff = g[g['day'].eq(current_day)].sort_values(by='value', ascending=True).tail(10)\n",
    "#     ax.clear()\n",
    "#     ax.barh(dff['name'], dff['value'], color=[colors[group_lk[x]] for x in dff['name']])\n",
    "#     dx = dff['value'].max() / 200\n",
    "    \n",
    "#     for i, (value, name) in enumerate(zip(dff['value'], dff['name'])):\n",
    "#         ax.text(value-dx, i,     name,           size=14, weight=600, ha='right', va='bottom')\n",
    "#         ax.text(value-dx, i-.25, group_lk[name], size=10, color='#444444', ha='right', va='baseline')\n",
    "#         ax.text(value+dx, i,     f'{value:,.0f}',  size=14, ha='left',  va='center')\n",
    "#     ax.text(1, 0.4, current_day, transform=ax.transAxes, color='#777777', size=46, ha='right', weight=800)\n",
    "#     ax.text(0, 1.06, 'Population (thousands)', transform=ax.transAxes, size=12, color='#777777')\n",
    "#     ax.xaxis.set_major_formatter(ticker.StrMethodFormatter('{x:,.0f}'))\n",
    "#     ax.xaxis.set_ticks_position('top')\n",
    "#     ax.tick_params(axis='x', colors='#777777', labelsize=12)\n",
    "#     ax.set_yticks([])\n",
    "#     ax.margins(0, 0.01)\n",
    "#     ax.grid(which='major', axis='x', linestyle='-')\n",
    "#     ax.set_axisbelow(True)\n",
    "    \n",
    "#     ax.text(0, 1.15, 'Coronavirus',\n",
    "#             transform=ax.transAxes, size=24, weight=600, ha='left', va='top')\n",
    "# #     ax.text(1, 0, 'by @pratapvardhan; credit @jburnmurdoch', transform=ax.transAxes, color='#777777', ha='right',\n",
    "# #             bbox=dict(facecolor='white', alpha=0.8, edgecolor='white'))\n",
    "#     plt.box(False)"
   ]
  },
  {
   "cell_type": "code",
   "execution_count": 42,
   "id": "sexual-wages",
   "metadata": {
    "execution": {
     "iopub.execute_input": "2021-02-08T12:07:16.788748Z",
     "iopub.status.busy": "2021-02-08T12:07:16.788097Z",
     "iopub.status.idle": "2021-02-08T12:07:16.791650Z",
     "shell.execute_reply": "2021-02-08T12:07:16.790153Z"
    },
    "papermill": {
     "duration": 0.315164,
     "end_time": "2021-02-08T12:07:16.791780",
     "exception": false,
     "start_time": "2021-02-08T12:07:16.476616",
     "status": "completed"
    },
    "tags": []
   },
   "outputs": [],
   "source": [
    "# #hide_input\n",
    "# fig, ax = plt.subplots(figsize=(15, 8))\n",
    "# animator = animation.FuncAnimation(fig, draw_barchart, frames=range(g.day.values.min(), g.day.values.max()))\n",
    "# HTML(animator.to_jshtml())\n",
    "# # or use animator.to_html5_video() or animator.save() "
   ]
  },
  {
   "cell_type": "code",
   "execution_count": null,
   "id": "australian-container",
   "metadata": {
    "papermill": {
     "duration": 0.040709,
     "end_time": "2021-02-08T12:07:17.070198",
     "exception": false,
     "start_time": "2021-02-08T12:07:17.029489",
     "status": "completed"
    },
    "tags": []
   },
   "outputs": [],
   "source": []
  },
  {
   "cell_type": "code",
   "execution_count": null,
   "id": "mediterranean-pontiac",
   "metadata": {
    "papermill": {
     "duration": 0.038917,
     "end_time": "2021-02-08T12:07:17.149979",
     "exception": false,
     "start_time": "2021-02-08T12:07:17.111062",
     "status": "completed"
    },
    "tags": []
   },
   "outputs": [],
   "source": []
  },
  {
   "cell_type": "code",
   "execution_count": null,
   "id": "aging-legislature",
   "metadata": {
    "papermill": {
     "duration": 0.036879,
     "end_time": "2021-02-08T12:07:17.225812",
     "exception": false,
     "start_time": "2021-02-08T12:07:17.188933",
     "status": "completed"
    },
    "tags": []
   },
   "outputs": [],
   "source": []
  }
 ],
 "metadata": {
  "kernelspec": {
   "display_name": "Python 3",
   "language": "python",
   "name": "python3"
  },
  "language_info": {
   "codemirror_mode": {
    "name": "ipython",
    "version": 3
   },
   "file_extension": ".py",
   "mimetype": "text/x-python",
   "name": "python",
   "nbconvert_exporter": "python",
   "pygments_lexer": "ipython3",
   "version": "3.6.12"
  },
  "papermill": {
   "duration": 9.69649,
   "end_time": "2021-02-08T12:07:17.573031",
   "environment_variables": {},
   "exception": null,
   "input_path": "2020-03-21-covid19exp.ipynb",
   "output_path": "2020-03-21-covid19exp.ipynb",
   "parameters": {},
   "start_time": "2021-02-08T12:07:07.876541",
   "version": "2.0.0"
  }
 },
 "nbformat": 4,
 "nbformat_minor": 5
}