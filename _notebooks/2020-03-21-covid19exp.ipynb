{
 "cells": [
  {
   "cell_type": "markdown",
   "id": "muslim-click",
   "metadata": {
    "papermill": {
     "duration": 0.045974,
     "end_time": "2021-04-29T12:12:40.733482",
     "exception": false,
     "start_time": "2021-04-29T12:12:40.687508",
     "status": "completed"
    },
    "tags": []
   },
   "source": [
    "# COVID-19 Case Race\n",
    "> A race chart to see rising cases around the world\n",
    "\n",
    "- author: Hargun Oberoi\n",
    "- image: images/covid-overview.png\n",
    "- hide: false\n",
    "- badges: false"
   ]
  },
  {
   "cell_type": "code",
   "execution_count": 1,
   "id": "proof-material",
   "metadata": {
    "execution": {
     "iopub.execute_input": "2021-04-29T12:12:40.825324Z",
     "iopub.status.busy": "2021-04-29T12:12:40.824613Z",
     "iopub.status.idle": "2021-04-29T12:12:41.227597Z",
     "shell.execute_reply": "2021-04-29T12:12:41.226979Z"
    },
    "papermill": {
     "duration": 0.453685,
     "end_time": "2021-04-29T12:12:41.227781",
     "exception": false,
     "start_time": "2021-04-29T12:12:40.774096",
     "status": "completed"
    },
    "tags": []
   },
   "outputs": [],
   "source": [
    "#hide\n",
    "import numpy as np\n",
    "import pandas as pd\n",
    "from jinja2 import Template\n",
    "from IPython.display import HTML"
   ]
  },
  {
   "cell_type": "code",
   "execution_count": 2,
   "id": "developed-terminology",
   "metadata": {
    "execution": {
     "iopub.execute_input": "2021-04-29T12:12:41.316646Z",
     "iopub.status.busy": "2021-04-29T12:12:41.315968Z",
     "iopub.status.idle": "2021-04-29T12:12:41.318616Z",
     "shell.execute_reply": "2021-04-29T12:12:41.318005Z"
    },
    "papermill": {
     "duration": 0.049903,
     "end_time": "2021-04-29T12:12:41.318755",
     "exception": false,
     "start_time": "2021-04-29T12:12:41.268852",
     "status": "completed"
    },
    "tags": []
   },
   "outputs": [],
   "source": [
    "#hide\n",
    "\n",
    "# FETCH\n",
    "base_url = 'https://raw.githubusercontent.com/pratapvardhan/notebooks/master/covid19/'\n",
    "paths = {\n",
    "    'mapping': base_url + 'mapping_countries.csv',\n",
    "    'overview': base_url + 'overview.tpl'\n",
    "}"
   ]
  },
  {
   "cell_type": "code",
   "execution_count": 3,
   "id": "dynamic-saver",
   "metadata": {
    "execution": {
     "iopub.execute_input": "2021-04-29T12:12:41.411059Z",
     "iopub.status.busy": "2021-04-29T12:12:41.410368Z",
     "iopub.status.idle": "2021-04-29T12:12:41.412912Z",
     "shell.execute_reply": "2021-04-29T12:12:41.413552Z"
    },
    "papermill": {
     "duration": 0.054817,
     "end_time": "2021-04-29T12:12:41.413711",
     "exception": false,
     "start_time": "2021-04-29T12:12:41.358894",
     "status": "completed"
    },
    "tags": []
   },
   "outputs": [
    {
     "data": {
      "text/plain": [
       "'https://raw.githubusercontent.com/pratapvardhan/notebooks/master/covid19/mapping_countries.csv'"
      ]
     },
     "execution_count": 3,
     "metadata": {},
     "output_type": "execute_result"
    }
   ],
   "source": [
    "#hide\n",
    "paths['mapping']"
   ]
  },
  {
   "cell_type": "code",
   "execution_count": 4,
   "id": "urban-software",
   "metadata": {
    "execution": {
     "iopub.execute_input": "2021-04-29T12:12:41.502035Z",
     "iopub.status.busy": "2021-04-29T12:12:41.501217Z",
     "iopub.status.idle": "2021-04-29T12:12:41.503375Z",
     "shell.execute_reply": "2021-04-29T12:12:41.504066Z"
    },
    "papermill": {
     "duration": 0.049875,
     "end_time": "2021-04-29T12:12:41.504247",
     "exception": false,
     "start_time": "2021-04-29T12:12:41.454372",
     "status": "completed"
    },
    "tags": []
   },
   "outputs": [],
   "source": [
    "#hide\n",
    "def get_mappings(url):\n",
    "    df = pd.read_csv(url)\n",
    "    return {\n",
    "        'df': df,\n",
    "        'replace.country': dict(df.dropna(subset=['Name']).set_index('Country')['Name']),\n",
    "        'map.continent': dict(df.set_index('Name')['Continent'])\n",
    "    }"
   ]
  },
  {
   "cell_type": "code",
   "execution_count": 5,
   "id": "intimate-machinery",
   "metadata": {
    "execution": {
     "iopub.execute_input": "2021-04-29T12:12:41.593552Z",
     "iopub.status.busy": "2021-04-29T12:12:41.592871Z",
     "iopub.status.idle": "2021-04-29T12:12:41.635641Z",
     "shell.execute_reply": "2021-04-29T12:12:41.636333Z"
    },
    "papermill": {
     "duration": 0.090084,
     "end_time": "2021-04-29T12:12:41.636579",
     "exception": false,
     "start_time": "2021-04-29T12:12:41.546495",
     "status": "completed"
    },
    "tags": []
   },
   "outputs": [],
   "source": [
    "#hide\n",
    "mapping = get_mappings(paths['mapping'])"
   ]
  },
  {
   "cell_type": "code",
   "execution_count": 6,
   "id": "certified-tactics",
   "metadata": {
    "execution": {
     "iopub.execute_input": "2021-04-29T12:12:41.727333Z",
     "iopub.status.busy": "2021-04-29T12:12:41.726631Z",
     "iopub.status.idle": "2021-04-29T12:12:41.729236Z",
     "shell.execute_reply": "2021-04-29T12:12:41.728685Z"
    },
    "papermill": {
     "duration": 0.049752,
     "end_time": "2021-04-29T12:12:41.729370",
     "exception": false,
     "start_time": "2021-04-29T12:12:41.679618",
     "status": "completed"
    },
    "tags": []
   },
   "outputs": [],
   "source": [
    "#hide\n",
    "def get_template(path):\n",
    "    from urllib.parse import urlparse\n",
    "    if bool(urlparse(path).netloc):\n",
    "        from urllib.request import urlopen\n",
    "        return urlopen(path).read().decode('utf8')\n",
    "    return open(path).read()"
   ]
  },
  {
   "cell_type": "code",
   "execution_count": 7,
   "id": "realistic-blast",
   "metadata": {
    "execution": {
     "iopub.execute_input": "2021-04-29T12:12:41.828117Z",
     "iopub.status.busy": "2021-04-29T12:12:41.827402Z",
     "iopub.status.idle": "2021-04-29T12:12:41.829976Z",
     "shell.execute_reply": "2021-04-29T12:12:41.829422Z"
    },
    "papermill": {
     "duration": 0.052035,
     "end_time": "2021-04-29T12:12:41.830112",
     "exception": false,
     "start_time": "2021-04-29T12:12:41.778077",
     "status": "completed"
    },
    "tags": []
   },
   "outputs": [],
   "source": [
    "#hide\n",
    "def get_frame(name):\n",
    "    url = (\n",
    "        'https://raw.githubusercontent.com/CSSEGISandData/COVID-19/master/csse_covid_19_data/'\n",
    "        f'csse_covid_19_time_series/time_series_covid19_{name}_global.csv')\n",
    "    df = pd.read_csv(url)\n",
    "    # rename countries\n",
    "    df['Country/Region'] = df['Country/Region'].replace(mapping['replace.country'])\n",
    "    return df"
   ]
  },
  {
   "cell_type": "code",
   "execution_count": 8,
   "id": "affiliated-characterization",
   "metadata": {
    "execution": {
     "iopub.execute_input": "2021-04-29T12:12:41.919025Z",
     "iopub.status.busy": "2021-04-29T12:12:41.918341Z",
     "iopub.status.idle": "2021-04-29T12:12:41.920323Z",
     "shell.execute_reply": "2021-04-29T12:12:41.920898Z"
    },
    "papermill": {
     "duration": 0.049837,
     "end_time": "2021-04-29T12:12:41.921059",
     "exception": false,
     "start_time": "2021-04-29T12:12:41.871222",
     "status": "completed"
    },
    "tags": []
   },
   "outputs": [],
   "source": [
    "#hide\n",
    "def get_dates(df):\n",
    "    dt_cols = df.columns[~df.columns.isin(['Province/State', 'Country/Region', 'Lat', 'Long'])]\n",
    "    LAST_DATE_I = -1\n",
    "    # sometimes last column may be empty, then go backwards\n",
    "    for i in range(-1, -len(dt_cols), -1):\n",
    "        if not df[dt_cols[i]].fillna(0).eq(0).all():\n",
    "            LAST_DATE_I = i\n",
    "            break\n",
    "    return LAST_DATE_I, dt_cols"
   ]
  },
  {
   "cell_type": "code",
   "execution_count": 9,
   "id": "recent-optimization",
   "metadata": {
    "execution": {
     "iopub.execute_input": "2021-04-29T12:12:42.007764Z",
     "iopub.status.busy": "2021-04-29T12:12:42.007031Z",
     "iopub.status.idle": "2021-04-29T12:12:42.389043Z",
     "shell.execute_reply": "2021-04-29T12:12:42.389580Z"
    },
    "papermill": {
     "duration": 0.428937,
     "end_time": "2021-04-29T12:12:42.389771",
     "exception": false,
     "start_time": "2021-04-29T12:12:41.960834",
     "status": "completed"
    },
    "tags": []
   },
   "outputs": [],
   "source": [
    "#hide\n",
    "COL_REGION = 'Country/Region'\n",
    "# Confirmed, Recovered, Deaths\n",
    "df = get_frame('confirmed')\n",
    "# dft_: timeseries, dfc_: today country agg\n",
    "dft_cases = df\n",
    "dft_deaths = get_frame('deaths')\n",
    "dft_recovered = get_frame('recovered')\n",
    "LAST_DATE_I, dt_cols = get_dates(df)"
   ]
  },
  {
   "cell_type": "code",
   "execution_count": 10,
   "id": "absolute-copper",
   "metadata": {
    "execution": {
     "iopub.execute_input": "2021-04-29T12:12:42.480039Z",
     "iopub.status.busy": "2021-04-29T12:12:42.479351Z",
     "iopub.status.idle": "2021-04-29T12:12:42.481544Z",
     "shell.execute_reply": "2021-04-29T12:12:42.482059Z"
    },
    "papermill": {
     "duration": 0.051376,
     "end_time": "2021-04-29T12:12:42.482218",
     "exception": false,
     "start_time": "2021-04-29T12:12:42.430842",
     "status": "completed"
    },
    "tags": []
   },
   "outputs": [],
   "source": [
    "#hide\n",
    "LAST_DATE_I, dt_cols = get_dates(df)\n",
    "dt_today =dt_cols[LAST_DATE_I]\n",
    "# dt_5day = dt_cols[LAST_DATE_I - 5]\n",
    "dt_yday = dt_cols[LAST_DATE_I - 1]"
   ]
  },
  {
   "cell_type": "code",
   "execution_count": 11,
   "id": "restricted-sheriff",
   "metadata": {
    "execution": {
     "iopub.execute_input": "2021-04-29T12:12:42.576682Z",
     "iopub.status.busy": "2021-04-29T12:12:42.571327Z",
     "iopub.status.idle": "2021-04-29T12:12:42.579598Z",
     "shell.execute_reply": "2021-04-29T12:12:42.578893Z"
    },
    "papermill": {
     "duration": 0.057102,
     "end_time": "2021-04-29T12:12:42.579742",
     "exception": false,
     "start_time": "2021-04-29T12:12:42.522640",
     "status": "completed"
    },
    "tags": []
   },
   "outputs": [],
   "source": [
    "#hide\n",
    "dfc_cases = dft_cases.groupby(COL_REGION)[dt_today].sum()\n",
    "dfc_deaths = dft_deaths.groupby(COL_REGION)[dt_today].sum()\n",
    "# dfp_cases = dft_cases.groupby(COL_REGION)[dt_5day].sum()\n",
    "# dfp_deaths = dft_deaths.groupby(COL_REGION)[dt_5day].sum()\n",
    "dfp_cases = dft_cases.groupby(COL_REGION)[dt_yday].sum()\n",
    "dfp_deaths = dft_deaths.groupby(COL_REGION)[dt_yday].sum()"
   ]
  },
  {
   "cell_type": "code",
   "execution_count": 12,
   "id": "deluxe-hepatitis",
   "metadata": {
    "execution": {
     "iopub.execute_input": "2021-04-29T12:12:42.668460Z",
     "iopub.status.busy": "2021-04-29T12:12:42.667783Z",
     "iopub.status.idle": "2021-04-29T12:12:42.672671Z",
     "shell.execute_reply": "2021-04-29T12:12:42.673260Z"
    },
    "papermill": {
     "duration": 0.053076,
     "end_time": "2021-04-29T12:12:42.673408",
     "exception": false,
     "start_time": "2021-04-29T12:12:42.620332",
     "status": "completed"
    },
    "tags": []
   },
   "outputs": [],
   "source": [
    "#hide\n",
    "df_table = (pd.DataFrame(dict(Cases = dfc_cases, Deaths = dfc_deaths, PCases = dfp_cases, PDeaths = dfp_deaths))\n",
    "            .sort_values(by = ['Cases','Deaths'], ascending = [False, False])\n",
    "            .reset_index())"
   ]
  },
  {
   "cell_type": "code",
   "execution_count": 13,
   "id": "educational-chancellor",
   "metadata": {
    "execution": {
     "iopub.execute_input": "2021-04-29T12:12:42.777520Z",
     "iopub.status.busy": "2021-04-29T12:12:42.776818Z",
     "iopub.status.idle": "2021-04-29T12:12:42.785582Z",
     "shell.execute_reply": "2021-04-29T12:12:42.786214Z"
    },
    "papermill": {
     "duration": 0.070983,
     "end_time": "2021-04-29T12:12:42.786403",
     "exception": false,
     "start_time": "2021-04-29T12:12:42.715420",
     "status": "completed"
    },
    "tags": []
   },
   "outputs": [
    {
     "data": {
      "text/html": [
       "<div>\n",
       "<style scoped>\n",
       "    .dataframe tbody tr th:only-of-type {\n",
       "        vertical-align: middle;\n",
       "    }\n",
       "\n",
       "    .dataframe tbody tr th {\n",
       "        vertical-align: top;\n",
       "    }\n",
       "\n",
       "    .dataframe thead th {\n",
       "        text-align: right;\n",
       "    }\n",
       "</style>\n",
       "<table border=\"1\" class=\"dataframe\">\n",
       "  <thead>\n",
       "    <tr style=\"text-align: right;\">\n",
       "      <th></th>\n",
       "      <th>Country/Region</th>\n",
       "      <th>Cases</th>\n",
       "      <th>Deaths</th>\n",
       "      <th>PCases</th>\n",
       "      <th>PDeaths</th>\n",
       "      <th>Cases (+)</th>\n",
       "      <th>Deaths (+)</th>\n",
       "      <th>Fatality Rate</th>\n",
       "      <th>Continent</th>\n",
       "    </tr>\n",
       "  </thead>\n",
       "  <tbody>\n",
       "    <tr>\n",
       "      <th>0</th>\n",
       "      <td>US</td>\n",
       "      <td>32229751</td>\n",
       "      <td>574329</td>\n",
       "      <td>32175725</td>\n",
       "      <td>573381</td>\n",
       "      <td>54026</td>\n",
       "      <td>948</td>\n",
       "      <td>1.78</td>\n",
       "      <td>North America</td>\n",
       "    </tr>\n",
       "    <tr>\n",
       "      <th>1</th>\n",
       "      <td>India</td>\n",
       "      <td>18376421</td>\n",
       "      <td>204832</td>\n",
       "      <td>17997113</td>\n",
       "      <td>201187</td>\n",
       "      <td>379308</td>\n",
       "      <td>3645</td>\n",
       "      <td>1.11</td>\n",
       "      <td>Asia</td>\n",
       "    </tr>\n",
       "    <tr>\n",
       "      <th>2</th>\n",
       "      <td>Brazil</td>\n",
       "      <td>14521289</td>\n",
       "      <td>398185</td>\n",
       "      <td>14441563</td>\n",
       "      <td>395022</td>\n",
       "      <td>79726</td>\n",
       "      <td>3163</td>\n",
       "      <td>2.74</td>\n",
       "      <td>South America</td>\n",
       "    </tr>\n",
       "    <tr>\n",
       "      <th>3</th>\n",
       "      <td>France</td>\n",
       "      <td>5626985</td>\n",
       "      <td>104077</td>\n",
       "      <td>5595403</td>\n",
       "      <td>103762</td>\n",
       "      <td>31582</td>\n",
       "      <td>315</td>\n",
       "      <td>1.85</td>\n",
       "      <td>Europe</td>\n",
       "    </tr>\n",
       "    <tr>\n",
       "      <th>4</th>\n",
       "      <td>Turkey</td>\n",
       "      <td>4751026</td>\n",
       "      <td>39398</td>\n",
       "      <td>4710582</td>\n",
       "      <td>39057</td>\n",
       "      <td>40444</td>\n",
       "      <td>341</td>\n",
       "      <td>0.83</td>\n",
       "      <td>Asia</td>\n",
       "    </tr>\n",
       "  </tbody>\n",
       "</table>\n",
       "</div>"
      ],
      "text/plain": [
       "  Country/Region     Cases  Deaths    PCases  PDeaths  Cases (+)  Deaths (+)  \\\n",
       "0             US  32229751  574329  32175725   573381      54026         948   \n",
       "1          India  18376421  204832  17997113   201187     379308        3645   \n",
       "2         Brazil  14521289  398185  14441563   395022      79726        3163   \n",
       "3         France   5626985  104077   5595403   103762      31582         315   \n",
       "4         Turkey   4751026   39398   4710582    39057      40444         341   \n",
       "\n",
       "   Fatality Rate      Continent  \n",
       "0           1.78  North America  \n",
       "1           1.11           Asia  \n",
       "2           2.74  South America  \n",
       "3           1.85         Europe  \n",
       "4           0.83           Asia  "
      ]
     },
     "execution_count": 13,
     "metadata": {},
     "output_type": "execute_result"
    }
   ],
   "source": [
    "#hide\n",
    "for c in 'Cases, Deaths'.split(', '):\n",
    "    df_table[f'{c} (+)'] = (df_table[c] - df_table[f'P{c}']).clip(0)\n",
    "    #Clip ça veut dire, les chiffres negatif sont interdit\n",
    "df_table['Fatality Rate'] = (100* df_table['Deaths']/ df_table['Cases']).round(2)\n",
    "df_table['Continent'] = df_table['Country/Region'].map(mapping['map.continent'])\n",
    "df_table.head(5)"
   ]
  },
  {
   "cell_type": "code",
   "execution_count": 14,
   "id": "aboriginal-bulgaria",
   "metadata": {
    "execution": {
     "iopub.execute_input": "2021-04-29T12:12:42.874834Z",
     "iopub.status.busy": "2021-04-29T12:12:42.874107Z",
     "iopub.status.idle": "2021-04-29T12:12:42.876491Z",
     "shell.execute_reply": "2021-04-29T12:12:42.877153Z"
    },
    "papermill": {
     "duration": 0.049225,
     "end_time": "2021-04-29T12:12:42.877305",
     "exception": false,
     "start_time": "2021-04-29T12:12:42.828080",
     "status": "completed"
    },
    "tags": []
   },
   "outputs": [],
   "source": [
    "#hide\n",
    "#delete problematic countries from table\n",
    "df_table = df_table[~df_table['Country/Region'].isin(['Cape Verde', 'Cruise Ship', 'Kosovo'])]"
   ]
  },
  {
   "cell_type": "code",
   "execution_count": 15,
   "id": "fantastic-effect",
   "metadata": {
    "execution": {
     "iopub.execute_input": "2021-04-29T12:12:42.968215Z",
     "iopub.status.busy": "2021-04-29T12:12:42.967524Z",
     "iopub.status.idle": "2021-04-29T12:12:42.990171Z",
     "shell.execute_reply": "2021-04-29T12:12:42.989629Z"
    },
    "papermill": {
     "duration": 0.072542,
     "end_time": "2021-04-29T12:12:42.990315",
     "exception": false,
     "start_time": "2021-04-29T12:12:42.917773",
     "status": "completed"
    },
    "tags": []
   },
   "outputs": [
    {
     "data": {
      "text/html": [
       "<div>\n",
       "<style scoped>\n",
       "    .dataframe tbody tr th:only-of-type {\n",
       "        vertical-align: middle;\n",
       "    }\n",
       "\n",
       "    .dataframe tbody tr th {\n",
       "        vertical-align: top;\n",
       "    }\n",
       "\n",
       "    .dataframe thead th {\n",
       "        text-align: right;\n",
       "    }\n",
       "</style>\n",
       "<table border=\"1\" class=\"dataframe\">\n",
       "  <thead>\n",
       "    <tr style=\"text-align: right;\">\n",
       "      <th></th>\n",
       "      <th>Country/Region</th>\n",
       "      <th>Cases</th>\n",
       "      <th>Deaths</th>\n",
       "      <th>PCases</th>\n",
       "      <th>PDeaths</th>\n",
       "      <th>Cases (+)</th>\n",
       "      <th>Deaths (+)</th>\n",
       "      <th>Fatality Rate</th>\n",
       "      <th>Continent</th>\n",
       "    </tr>\n",
       "  </thead>\n",
       "  <tbody>\n",
       "    <tr>\n",
       "      <th>0</th>\n",
       "      <td>US</td>\n",
       "      <td>32229751</td>\n",
       "      <td>574329</td>\n",
       "      <td>32175725</td>\n",
       "      <td>573381</td>\n",
       "      <td>54026</td>\n",
       "      <td>948</td>\n",
       "      <td>1.8</td>\n",
       "      <td>North America</td>\n",
       "    </tr>\n",
       "    <tr>\n",
       "      <th>1</th>\n",
       "      <td>India</td>\n",
       "      <td>18376421</td>\n",
       "      <td>204832</td>\n",
       "      <td>17997113</td>\n",
       "      <td>201187</td>\n",
       "      <td>379308</td>\n",
       "      <td>3645</td>\n",
       "      <td>1.1</td>\n",
       "      <td>Asia</td>\n",
       "    </tr>\n",
       "    <tr>\n",
       "      <th>2</th>\n",
       "      <td>Brazil</td>\n",
       "      <td>14521289</td>\n",
       "      <td>398185</td>\n",
       "      <td>14441563</td>\n",
       "      <td>395022</td>\n",
       "      <td>79726</td>\n",
       "      <td>3163</td>\n",
       "      <td>2.7</td>\n",
       "      <td>South America</td>\n",
       "    </tr>\n",
       "    <tr>\n",
       "      <th>3</th>\n",
       "      <td>France</td>\n",
       "      <td>5626985</td>\n",
       "      <td>104077</td>\n",
       "      <td>5595403</td>\n",
       "      <td>103762</td>\n",
       "      <td>31582</td>\n",
       "      <td>315</td>\n",
       "      <td>1.8</td>\n",
       "      <td>Europe</td>\n",
       "    </tr>\n",
       "    <tr>\n",
       "      <th>4</th>\n",
       "      <td>Turkey</td>\n",
       "      <td>4751026</td>\n",
       "      <td>39398</td>\n",
       "      <td>4710582</td>\n",
       "      <td>39057</td>\n",
       "      <td>40444</td>\n",
       "      <td>341</td>\n",
       "      <td>0.8</td>\n",
       "      <td>Asia</td>\n",
       "    </tr>\n",
       "  </tbody>\n",
       "</table>\n",
       "</div>"
      ],
      "text/plain": [
       "  Country/Region     Cases  Deaths    PCases  PDeaths  Cases (+)  Deaths (+)  \\\n",
       "0             US  32229751  574329  32175725   573381      54026         948   \n",
       "1          India  18376421  204832  17997113   201187     379308        3645   \n",
       "2         Brazil  14521289  398185  14441563   395022      79726        3163   \n",
       "3         France   5626985  104077   5595403   103762      31582         315   \n",
       "4         Turkey   4751026   39398   4710582    39057      40444         341   \n",
       "\n",
       "   Fatality Rate      Continent  \n",
       "0            1.8  North America  \n",
       "1            1.1           Asia  \n",
       "2            2.7  South America  \n",
       "3            1.8         Europe  \n",
       "4            0.8           Asia  "
      ]
     },
     "execution_count": 15,
     "metadata": {},
     "output_type": "execute_result"
    }
   ],
   "source": [
    "#hide\n",
    "df_table = (pd.DataFrame(dict(Cases=dfc_cases, Deaths=dfc_deaths, PCases=dfp_cases, PDeaths=dfp_deaths))\n",
    "             .sort_values(by=['Cases', 'Deaths'], ascending=[False, False])\n",
    "             .reset_index())\n",
    "df_table.rename(columns={'index': 'Country/Region'}, inplace=True)\n",
    "for c in 'Cases, Deaths'.split(', '):\n",
    "    df_table[f'{c} (+)'] = (df_table[c] - df_table[f'P{c}']).clip(0)  # DATA BUG\n",
    "df_table['Fatality Rate'] = (100 * df_table['Deaths'] / df_table['Cases']).round(1)\n",
    "df_table['Continent'] = df_table['Country/Region'].map(mapping['map.continent'])\n",
    "df_table.head(5)"
   ]
  },
  {
   "cell_type": "code",
   "execution_count": 16,
   "id": "fewer-occasion",
   "metadata": {
    "execution": {
     "iopub.execute_input": "2021-04-29T12:12:43.080258Z",
     "iopub.status.busy": "2021-04-29T12:12:43.079602Z",
     "iopub.status.idle": "2021-04-29T12:12:43.082036Z",
     "shell.execute_reply": "2021-04-29T12:12:43.081492Z"
    },
    "papermill": {
     "duration": 0.050461,
     "end_time": "2021-04-29T12:12:43.082166",
     "exception": false,
     "start_time": "2021-04-29T12:12:43.031705",
     "status": "completed"
    },
    "tags": []
   },
   "outputs": [],
   "source": [
    "#hide\n",
    "#delete problematic countries from table\n",
    "df_table = df_table[~df_table['Country/Region'].isin(['Cape Verde', 'Cruise Ship', 'Kosovo'])]"
   ]
  },
  {
   "cell_type": "code",
   "execution_count": 17,
   "id": "related-center",
   "metadata": {
    "execution": {
     "iopub.execute_input": "2021-04-29T12:12:43.181642Z",
     "iopub.status.busy": "2021-04-29T12:12:43.180968Z",
     "iopub.status.idle": "2021-04-29T12:12:43.190711Z",
     "shell.execute_reply": "2021-04-29T12:12:43.191258Z"
    },
    "papermill": {
     "duration": 0.06829,
     "end_time": "2021-04-29T12:12:43.191442",
     "exception": false,
     "start_time": "2021-04-29T12:12:43.123152",
     "status": "completed"
    },
    "tags": []
   },
   "outputs": [],
   "source": [
    "#hide\n",
    "metrics = [df_table.columns[index] for index in [1,2,5,6]]\n",
    "# s_china = df_table[df_table['Country/Region'].eq('China')][metrics].sum().add_prefix('China ')\n",
    "s_us = df_table[df_table['Country/Region'].eq('US')][metrics].sum().add_prefix('US ')\n",
    "s_eu = df_table[df_table['Continent'].eq('Europe')][metrics].sum().add_prefix('EU ')\n",
    "s_ind = df_table[df_table['Country/Region'].eq('India')][metrics].sum().add_prefix('India ')\n",
    "summary = {'updated': pd.to_datetime(dt_today), 'since': pd.to_datetime(dt_yday)}\n",
    "summary = {'updated': pd.to_datetime(dt_today), 'since': pd.to_datetime(dt_yday)}\n",
    "summary = {**summary, **df_table[metrics].sum(), **s_ind, **s_us, **s_eu}"
   ]
  },
  {
   "cell_type": "code",
   "execution_count": 18,
   "id": "engaging-syndrome",
   "metadata": {
    "execution": {
     "iopub.execute_input": "2021-04-29T12:12:43.295537Z",
     "iopub.status.busy": "2021-04-29T12:12:43.294856Z",
     "iopub.status.idle": "2021-04-29T12:12:43.307134Z",
     "shell.execute_reply": "2021-04-29T12:12:43.307827Z"
    },
    "papermill": {
     "duration": 0.061834,
     "end_time": "2021-04-29T12:12:43.307994",
     "exception": false,
     "start_time": "2021-04-29T12:12:43.246160",
     "status": "completed"
    },
    "tags": []
   },
   "outputs": [],
   "source": [
    "#hide\n",
    "dft_ct_new_cases = dft_cases.groupby(COL_REGION)[dt_cols].sum().diff(axis=1).fillna(0).astype(int)"
   ]
  },
  {
   "cell_type": "code",
   "execution_count": 19,
   "id": "neutral-assignment",
   "metadata": {
    "execution": {
     "iopub.execute_input": "2021-04-29T12:12:43.399908Z",
     "iopub.status.busy": "2021-04-29T12:12:43.399140Z",
     "iopub.status.idle": "2021-04-29T12:12:43.402141Z",
     "shell.execute_reply": "2021-04-29T12:12:43.402646Z"
    },
    "papermill": {
     "duration": 0.051741,
     "end_time": "2021-04-29T12:12:43.402802",
     "exception": false,
     "start_time": "2021-04-29T12:12:43.351061",
     "status": "completed"
    },
    "tags": []
   },
   "outputs": [],
   "source": [
    "#hide\n",
    "everydaycases = dft_ct_new_cases.cumsum(axis=1)"
   ]
  },
  {
   "cell_type": "code",
   "execution_count": 20,
   "id": "parliamentary-calgary",
   "metadata": {
    "execution": {
     "iopub.execute_input": "2021-04-29T12:12:43.503700Z",
     "iopub.status.busy": "2021-04-29T12:12:43.502970Z",
     "iopub.status.idle": "2021-04-29T12:12:44.236870Z",
     "shell.execute_reply": "2021-04-29T12:12:44.237463Z"
    },
    "papermill": {
     "duration": 0.786334,
     "end_time": "2021-04-29T12:12:44.237640",
     "exception": false,
     "start_time": "2021-04-29T12:12:43.451306",
     "status": "completed"
    },
    "tags": []
   },
   "outputs": [],
   "source": [
    "#hide\n",
    "import pandas as pd\n",
    "import matplotlib.pyplot as plt\n",
    "import matplotlib.ticker as ticker\n",
    "import matplotlib.animation as animation\n",
    "from IPython.display import HTML"
   ]
  },
  {
   "cell_type": "code",
   "execution_count": 21,
   "id": "lasting-extraction",
   "metadata": {
    "execution": {
     "iopub.execute_input": "2021-04-29T12:12:44.360018Z",
     "iopub.status.busy": "2021-04-29T12:12:44.359244Z",
     "iopub.status.idle": "2021-04-29T12:12:44.370566Z",
     "shell.execute_reply": "2021-04-29T12:12:44.369934Z"
    },
    "papermill": {
     "duration": 0.077482,
     "end_time": "2021-04-29T12:12:44.370711",
     "exception": false,
     "start_time": "2021-04-29T12:12:44.293229",
     "status": "completed"
    },
    "tags": []
   },
   "outputs": [],
   "source": [
    "#hide\n",
    "t = everydaycases.stack()"
   ]
  },
  {
   "cell_type": "code",
   "execution_count": 22,
   "id": "premier-sleeve",
   "metadata": {
    "execution": {
     "iopub.execute_input": "2021-04-29T12:12:44.460691Z",
     "iopub.status.busy": "2021-04-29T12:12:44.459999Z",
     "iopub.status.idle": "2021-04-29T12:12:44.470112Z",
     "shell.execute_reply": "2021-04-29T12:12:44.469379Z"
    },
    "papermill": {
     "duration": 0.057248,
     "end_time": "2021-04-29T12:12:44.470281",
     "exception": false,
     "start_time": "2021-04-29T12:12:44.413033",
     "status": "completed"
    },
    "tags": []
   },
   "outputs": [],
   "source": [
    "#hide\n",
    "g = t.reset_index(['Country/Region'])"
   ]
  },
  {
   "cell_type": "code",
   "execution_count": 23,
   "id": "distributed-pittsburgh",
   "metadata": {
    "execution": {
     "iopub.execute_input": "2021-04-29T12:12:44.558959Z",
     "iopub.status.busy": "2021-04-29T12:12:44.558281Z",
     "iopub.status.idle": "2021-04-29T12:12:44.560803Z",
     "shell.execute_reply": "2021-04-29T12:12:44.560148Z"
    },
    "papermill": {
     "duration": 0.048388,
     "end_time": "2021-04-29T12:12:44.561011",
     "exception": false,
     "start_time": "2021-04-29T12:12:44.512623",
     "status": "completed"
    },
    "tags": []
   },
   "outputs": [],
   "source": [
    "#hide\n",
    "g.index.name = 'date'"
   ]
  },
  {
   "cell_type": "code",
   "execution_count": 24,
   "id": "naked-donor",
   "metadata": {
    "execution": {
     "iopub.execute_input": "2021-04-29T12:12:44.648669Z",
     "iopub.status.busy": "2021-04-29T12:12:44.647988Z",
     "iopub.status.idle": "2021-04-29T12:12:44.649985Z",
     "shell.execute_reply": "2021-04-29T12:12:44.650522Z"
    },
    "papermill": {
     "duration": 0.047795,
     "end_time": "2021-04-29T12:12:44.650692",
     "exception": false,
     "start_time": "2021-04-29T12:12:44.602897",
     "status": "completed"
    },
    "tags": []
   },
   "outputs": [],
   "source": [
    "# #hide\n",
    "# g = g.reset_index(['date'])"
   ]
  },
  {
   "cell_type": "code",
   "execution_count": 25,
   "id": "incomplete-mustang",
   "metadata": {
    "execution": {
     "iopub.execute_input": "2021-04-29T12:12:44.740749Z",
     "iopub.status.busy": "2021-04-29T12:12:44.740048Z",
     "iopub.status.idle": "2021-04-29T12:12:44.742659Z",
     "shell.execute_reply": "2021-04-29T12:12:44.742069Z"
    },
    "papermill": {
     "duration": 0.050804,
     "end_time": "2021-04-29T12:12:44.742872",
     "exception": false,
     "start_time": "2021-04-29T12:12:44.692068",
     "status": "completed"
    },
    "tags": []
   },
   "outputs": [],
   "source": [
    "#hide\n",
    "# g.head()"
   ]
  },
  {
   "cell_type": "code",
   "execution_count": 26,
   "id": "specific-kruger",
   "metadata": {
    "execution": {
     "iopub.execute_input": "2021-04-29T12:12:44.834885Z",
     "iopub.status.busy": "2021-04-29T12:12:44.834220Z",
     "iopub.status.idle": "2021-04-29T12:12:44.836682Z",
     "shell.execute_reply": "2021-04-29T12:12:44.836036Z"
    },
    "papermill": {
     "duration": 0.048527,
     "end_time": "2021-04-29T12:12:44.836821",
     "exception": false,
     "start_time": "2021-04-29T12:12:44.788294",
     "status": "completed"
    },
    "tags": []
   },
   "outputs": [],
   "source": [
    "#hide\n",
    "# g.columns = ['date','country','cases']"
   ]
  },
  {
   "cell_type": "code",
   "execution_count": 27,
   "id": "tender-conversion",
   "metadata": {
    "execution": {
     "iopub.execute_input": "2021-04-29T12:12:44.923921Z",
     "iopub.status.busy": "2021-04-29T12:12:44.923241Z",
     "iopub.status.idle": "2021-04-29T12:12:44.925459Z",
     "shell.execute_reply": "2021-04-29T12:12:44.926085Z"
    },
    "papermill": {
     "duration": 0.0492,
     "end_time": "2021-04-29T12:12:44.926235",
     "exception": false,
     "start_time": "2021-04-29T12:12:44.877035",
     "status": "completed"
    },
    "tags": []
   },
   "outputs": [],
   "source": [
    "#hide\n",
    "# g['continent'] = g.country"
   ]
  },
  {
   "cell_type": "code",
   "execution_count": 28,
   "id": "substantial-wilderness",
   "metadata": {
    "execution": {
     "iopub.execute_input": "2021-04-29T12:12:45.014255Z",
     "iopub.status.busy": "2021-04-29T12:12:45.013593Z",
     "iopub.status.idle": "2021-04-29T12:12:45.015041Z",
     "shell.execute_reply": "2021-04-29T12:12:45.016865Z"
    },
    "papermill": {
     "duration": 0.04846,
     "end_time": "2021-04-29T12:12:45.017034",
     "exception": false,
     "start_time": "2021-04-29T12:12:44.968574",
     "status": "completed"
    },
    "tags": []
   },
   "outputs": [],
   "source": [
    "#hide\n",
    "# cols = list(g.columns.values)"
   ]
  },
  {
   "cell_type": "code",
   "execution_count": 29,
   "id": "solved-farming",
   "metadata": {
    "execution": {
     "iopub.execute_input": "2021-04-29T12:12:45.102851Z",
     "iopub.status.busy": "2021-04-29T12:12:45.102207Z",
     "iopub.status.idle": "2021-04-29T12:12:45.104275Z",
     "shell.execute_reply": "2021-04-29T12:12:45.104897Z"
    },
    "papermill": {
     "duration": 0.047661,
     "end_time": "2021-04-29T12:12:45.105047",
     "exception": false,
     "start_time": "2021-04-29T12:12:45.057386",
     "status": "completed"
    },
    "tags": []
   },
   "outputs": [],
   "source": [
    "#hide\n",
    "# cols.insert(0, cols.pop())"
   ]
  },
  {
   "cell_type": "code",
   "execution_count": 30,
   "id": "executed-adoption",
   "metadata": {
    "execution": {
     "iopub.execute_input": "2021-04-29T12:12:45.193035Z",
     "iopub.status.busy": "2021-04-29T12:12:45.192371Z",
     "iopub.status.idle": "2021-04-29T12:12:45.194840Z",
     "shell.execute_reply": "2021-04-29T12:12:45.194281Z"
    },
    "papermill": {
     "duration": 0.0477,
     "end_time": "2021-04-29T12:12:45.194979",
     "exception": false,
     "start_time": "2021-04-29T12:12:45.147279",
     "status": "completed"
    },
    "tags": []
   },
   "outputs": [],
   "source": [
    "#hide\n",
    "# g = g[cols]"
   ]
  },
  {
   "cell_type": "code",
   "execution_count": 31,
   "id": "subject-dublin",
   "metadata": {
    "execution": {
     "iopub.execute_input": "2021-04-29T12:12:45.285003Z",
     "iopub.status.busy": "2021-04-29T12:12:45.284334Z",
     "iopub.status.idle": "2021-04-29T12:12:45.286281Z",
     "shell.execute_reply": "2021-04-29T12:12:45.286828Z"
    },
    "papermill": {
     "duration": 0.046994,
     "end_time": "2021-04-29T12:12:45.286976",
     "exception": false,
     "start_time": "2021-04-29T12:12:45.239982",
     "status": "completed"
    },
    "tags": []
   },
   "outputs": [],
   "source": [
    "#hide\n",
    "# g['continent'] = g['continent'].map(mapping['map.continent'])"
   ]
  },
  {
   "cell_type": "code",
   "execution_count": 32,
   "id": "freelance-scout",
   "metadata": {
    "execution": {
     "iopub.execute_input": "2021-04-29T12:12:45.374090Z",
     "iopub.status.busy": "2021-04-29T12:12:45.373421Z",
     "iopub.status.idle": "2021-04-29T12:12:45.376166Z",
     "shell.execute_reply": "2021-04-29T12:12:45.375615Z"
    },
    "papermill": {
     "duration": 0.047895,
     "end_time": "2021-04-29T12:12:45.376310",
     "exception": false,
     "start_time": "2021-04-29T12:12:45.328415",
     "status": "completed"
    },
    "tags": []
   },
   "outputs": [],
   "source": [
    "#hide\n",
    "# g.head()"
   ]
  },
  {
   "cell_type": "code",
   "execution_count": 33,
   "id": "limited-engine",
   "metadata": {
    "execution": {
     "iopub.execute_input": "2021-04-29T12:12:45.462988Z",
     "iopub.status.busy": "2021-04-29T12:12:45.462307Z",
     "iopub.status.idle": "2021-04-29T12:12:45.464306Z",
     "shell.execute_reply": "2021-04-29T12:12:45.464874Z"
    },
    "papermill": {
     "duration": 0.047134,
     "end_time": "2021-04-29T12:12:45.465029",
     "exception": false,
     "start_time": "2021-04-29T12:12:45.417895",
     "status": "completed"
    },
    "tags": []
   },
   "outputs": [],
   "source": [
    "# hide\n",
    "# g['date'] = g['date'].astype('datetime64[ns]')"
   ]
  },
  {
   "cell_type": "code",
   "execution_count": 34,
   "id": "sophisticated-supervisor",
   "metadata": {
    "execution": {
     "iopub.execute_input": "2021-04-29T12:12:45.551570Z",
     "iopub.status.busy": "2021-04-29T12:12:45.550900Z",
     "iopub.status.idle": "2021-04-29T12:12:45.552896Z",
     "shell.execute_reply": "2021-04-29T12:12:45.553527Z"
    },
    "papermill": {
     "duration": 0.047442,
     "end_time": "2021-04-29T12:12:45.553672",
     "exception": false,
     "start_time": "2021-04-29T12:12:45.506230",
     "status": "completed"
    },
    "tags": []
   },
   "outputs": [],
   "source": [
    "#hide\n",
    "# g['date'] = g.date.dt.dayofyear"
   ]
  },
  {
   "cell_type": "code",
   "execution_count": 35,
   "id": "inside-dubai",
   "metadata": {
    "execution": {
     "iopub.execute_input": "2021-04-29T12:12:45.639511Z",
     "iopub.status.busy": "2021-04-29T12:12:45.638796Z",
     "iopub.status.idle": "2021-04-29T12:12:45.640797Z",
     "shell.execute_reply": "2021-04-29T12:12:45.641325Z"
    },
    "papermill": {
     "duration": 0.04787,
     "end_time": "2021-04-29T12:12:45.641488",
     "exception": false,
     "start_time": "2021-04-29T12:12:45.593618",
     "status": "completed"
    },
    "tags": []
   },
   "outputs": [],
   "source": [
    "#hide\n",
    "# g = g.rename(columns= {'continent':'group','country':'name','cases':'value'})"
   ]
  },
  {
   "cell_type": "code",
   "execution_count": 36,
   "id": "fleet-motorcycle",
   "metadata": {
    "execution": {
     "iopub.execute_input": "2021-04-29T12:12:45.727513Z",
     "iopub.status.busy": "2021-04-29T12:12:45.726848Z",
     "iopub.status.idle": "2021-04-29T12:12:45.729343Z",
     "shell.execute_reply": "2021-04-29T12:12:45.728797Z"
    },
    "papermill": {
     "duration": 0.047053,
     "end_time": "2021-04-29T12:12:45.729481",
     "exception": false,
     "start_time": "2021-04-29T12:12:45.682428",
     "status": "completed"
    },
    "tags": []
   },
   "outputs": [],
   "source": [
    "#hide\n",
    "# cols = ['name','group','day','value']"
   ]
  },
  {
   "cell_type": "code",
   "execution_count": 37,
   "id": "continued-sleeping",
   "metadata": {
    "execution": {
     "iopub.execute_input": "2021-04-29T12:12:45.816040Z",
     "iopub.status.busy": "2021-04-29T12:12:45.815342Z",
     "iopub.status.idle": "2021-04-29T12:12:45.817220Z",
     "shell.execute_reply": "2021-04-29T12:12:45.817815Z"
    },
    "papermill": {
     "duration": 0.048004,
     "end_time": "2021-04-29T12:12:45.817989",
     "exception": false,
     "start_time": "2021-04-29T12:12:45.769985",
     "status": "completed"
    },
    "tags": []
   },
   "outputs": [],
   "source": [
    "#hide\n",
    "# g.rename(columns= {'date':'day'},inplace = True)"
   ]
  },
  {
   "cell_type": "code",
   "execution_count": 38,
   "id": "major-fight",
   "metadata": {
    "execution": {
     "iopub.execute_input": "2021-04-29T12:12:45.903602Z",
     "iopub.status.busy": "2021-04-29T12:12:45.902865Z",
     "iopub.status.idle": "2021-04-29T12:12:45.904896Z",
     "shell.execute_reply": "2021-04-29T12:12:45.905396Z"
    },
    "papermill": {
     "duration": 0.046896,
     "end_time": "2021-04-29T12:12:45.905537",
     "exception": false,
     "start_time": "2021-04-29T12:12:45.858641",
     "status": "completed"
    },
    "tags": []
   },
   "outputs": [],
   "source": [
    "#hide\n",
    "# g = g[cols]"
   ]
  },
  {
   "cell_type": "code",
   "execution_count": 39,
   "id": "structured-mobile",
   "metadata": {
    "execution": {
     "iopub.execute_input": "2021-04-29T12:12:45.992265Z",
     "iopub.status.busy": "2021-04-29T12:12:45.991596Z",
     "iopub.status.idle": "2021-04-29T12:12:45.993574Z",
     "shell.execute_reply": "2021-04-29T12:12:45.994091Z"
    },
    "papermill": {
     "duration": 0.046802,
     "end_time": "2021-04-29T12:12:45.994235",
     "exception": false,
     "start_time": "2021-04-29T12:12:45.947433",
     "status": "completed"
    },
    "tags": []
   },
   "outputs": [],
   "source": [
    "# #hide\n",
    "# g = g[g.group.notna()]"
   ]
  },
  {
   "cell_type": "code",
   "execution_count": 40,
   "id": "determined-closing",
   "metadata": {
    "execution": {
     "iopub.execute_input": "2021-04-29T12:12:46.082750Z",
     "iopub.status.busy": "2021-04-29T12:12:46.082075Z",
     "iopub.status.idle": "2021-04-29T12:12:46.084663Z",
     "shell.execute_reply": "2021-04-29T12:12:46.084088Z"
    },
    "papermill": {
     "duration": 0.048374,
     "end_time": "2021-04-29T12:12:46.084799",
     "exception": false,
     "start_time": "2021-04-29T12:12:46.036425",
     "status": "completed"
    },
    "tags": []
   },
   "outputs": [],
   "source": [
    "# #hide\n",
    "# colors = dict(zip(\n",
    "#     [\"Oceania\", \"Europe\", \"Asia\", \"South America\", \"Middle East\", \"North America\", \"Africa\"],\n",
    "#     [\"#adb0ff\", \"#ffb3ff\", \"#90d595\", \"#e48381\", \"#aafbff\", \"#f7bb5f\", \"#eafb50\"]\n",
    "# ))\n",
    "# group_lk = g.set_index('name')['group'].to_dict()"
   ]
  },
  {
   "cell_type": "code",
   "execution_count": null,
   "id": "gross-drinking",
   "metadata": {
    "papermill": {
     "duration": 0.041932,
     "end_time": "2021-04-29T12:12:46.168520",
     "exception": false,
     "start_time": "2021-04-29T12:12:46.126588",
     "status": "completed"
    },
    "tags": []
   },
   "outputs": [],
   "source": []
  },
  {
   "cell_type": "code",
   "execution_count": 41,
   "id": "subject-macintosh",
   "metadata": {
    "execution": {
     "iopub.execute_input": "2021-04-29T12:12:46.256472Z",
     "iopub.status.busy": "2021-04-29T12:12:46.255841Z",
     "iopub.status.idle": "2021-04-29T12:12:46.257735Z",
     "shell.execute_reply": "2021-04-29T12:12:46.258362Z"
    },
    "papermill": {
     "duration": 0.04787,
     "end_time": "2021-04-29T12:12:46.258512",
     "exception": false,
     "start_time": "2021-04-29T12:12:46.210642",
     "status": "completed"
    },
    "tags": []
   },
   "outputs": [],
   "source": [
    "# #hide\n",
    "# fig, ax = plt.subplots(figsize=(15, 8))\n",
    "\n",
    "# def draw_barchart(current_day):\n",
    "#     dff = g[g['day'].eq(current_day)].sort_values(by='value', ascending=True).tail(10)\n",
    "#     ax.clear()\n",
    "#     ax.barh(dff['name'], dff['value'], color=[colors[group_lk[x]] for x in dff['name']])\n",
    "#     dx = dff['value'].max() / 200\n",
    "    \n",
    "#     for i, (value, name) in enumerate(zip(dff['value'], dff['name'])):\n",
    "#         ax.text(value-dx, i,     name,           size=14, weight=600, ha='right', va='bottom')\n",
    "#         ax.text(value-dx, i-.25, group_lk[name], size=10, color='#444444', ha='right', va='baseline')\n",
    "#         ax.text(value+dx, i,     f'{value:,.0f}',  size=14, ha='left',  va='center')\n",
    "#     ax.text(1, 0.4, current_day, transform=ax.transAxes, color='#777777', size=46, ha='right', weight=800)\n",
    "#     ax.text(0, 1.06, 'Population (thousands)', transform=ax.transAxes, size=12, color='#777777')\n",
    "#     ax.xaxis.set_major_formatter(ticker.StrMethodFormatter('{x:,.0f}'))\n",
    "#     ax.xaxis.set_ticks_position('top')\n",
    "#     ax.tick_params(axis='x', colors='#777777', labelsize=12)\n",
    "#     ax.set_yticks([])\n",
    "#     ax.margins(0, 0.01)\n",
    "#     ax.grid(which='major', axis='x', linestyle='-')\n",
    "#     ax.set_axisbelow(True)\n",
    "    \n",
    "#     ax.text(0, 1.15, 'Coronavirus',\n",
    "#             transform=ax.transAxes, size=24, weight=600, ha='left', va='top')\n",
    "# #     ax.text(1, 0, 'by @pratapvardhan; credit @jburnmurdoch', transform=ax.transAxes, color='#777777', ha='right',\n",
    "# #             bbox=dict(facecolor='white', alpha=0.8, edgecolor='white'))\n",
    "#     plt.box(False)"
   ]
  },
  {
   "cell_type": "code",
   "execution_count": 42,
   "id": "sexual-wages",
   "metadata": {
    "execution": {
     "iopub.execute_input": "2021-04-29T12:12:46.349315Z",
     "iopub.status.busy": "2021-04-29T12:12:46.348620Z",
     "iopub.status.idle": "2021-04-29T12:12:46.350669Z",
     "shell.execute_reply": "2021-04-29T12:12:46.351481Z"
    },
    "papermill": {
     "duration": 0.051489,
     "end_time": "2021-04-29T12:12:46.351682",
     "exception": false,
     "start_time": "2021-04-29T12:12:46.300193",
     "status": "completed"
    },
    "tags": []
   },
   "outputs": [],
   "source": [
    "# #hide_input\n",
    "# fig, ax = plt.subplots(figsize=(15, 8))\n",
    "# animator = animation.FuncAnimation(fig, draw_barchart, frames=range(g.day.values.min(), g.day.values.max()))\n",
    "# HTML(animator.to_jshtml())\n",
    "# # or use animator.to_html5_video() or animator.save() "
   ]
  },
  {
   "cell_type": "code",
   "execution_count": null,
   "id": "australian-container",
   "metadata": {
    "papermill": {
     "duration": 0.04255,
     "end_time": "2021-04-29T12:12:46.436718",
     "exception": false,
     "start_time": "2021-04-29T12:12:46.394168",
     "status": "completed"
    },
    "tags": []
   },
   "outputs": [],
   "source": []
  },
  {
   "cell_type": "code",
   "execution_count": null,
   "id": "mediterranean-pontiac",
   "metadata": {
    "papermill": {
     "duration": 0.041431,
     "end_time": "2021-04-29T12:12:46.521735",
     "exception": false,
     "start_time": "2021-04-29T12:12:46.480304",
     "status": "completed"
    },
    "tags": []
   },
   "outputs": [],
   "source": []
  },
  {
   "cell_type": "code",
   "execution_count": null,
   "id": "aging-legislature",
   "metadata": {
    "papermill": {
     "duration": 0.043552,
     "end_time": "2021-04-29T12:12:46.611131",
     "exception": false,
     "start_time": "2021-04-29T12:12:46.567579",
     "status": "completed"
    },
    "tags": []
   },
   "outputs": [],
   "source": []
  }
 ],
 "metadata": {
  "kernelspec": {
   "display_name": "Python 3",
   "language": "python",
   "name": "python3"
  },
  "language_info": {
   "codemirror_mode": {
    "name": "ipython",
    "version": 3
   },
   "file_extension": ".py",
   "mimetype": "text/x-python",
   "name": "python",
   "nbconvert_exporter": "python",
   "pygments_lexer": "ipython3",
   "version": "3.6.13"
  },
  "papermill": {
   "duration": 8.424173,
   "end_time": "2021-04-29T12:12:47.931367",
   "environment_variables": {},
   "exception": null,
   "input_path": "2020-03-21-covid19exp.ipynb",
   "output_path": "2020-03-21-covid19exp.ipynb",
   "parameters": {},
   "start_time": "2021-04-29T12:12:39.507194",
   "version": "2.0.0"
  }
 },
 "nbformat": 4,
 "nbformat_minor": 5
}