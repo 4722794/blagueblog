{
 "cells": [
  {
   "cell_type": "markdown",
   "id": "muslim-click",
   "metadata": {
    "papermill": {
     "duration": 0.035237,
     "end_time": "2022-07-24T12:15:30.849379",
     "exception": false,
     "start_time": "2022-07-24T12:15:30.814142",
     "status": "completed"
    },
    "tags": []
   },
   "source": [
    "# COVID-19 Case Race\n",
    "> A race chart to see rising cases around the world\n",
    "\n",
    "- author: Hargun Oberoi\n",
    "- image: images/covid-overview.png\n",
    "- hide: false\n",
    "- badges: false"
   ]
  },
  {
   "cell_type": "code",
   "execution_count": 1,
   "id": "proof-material",
   "metadata": {
    "execution": {
     "iopub.execute_input": "2022-07-24T12:15:30.923859Z",
     "iopub.status.busy": "2022-07-24T12:15:30.923220Z",
     "iopub.status.idle": "2022-07-24T12:15:31.253998Z",
     "shell.execute_reply": "2022-07-24T12:15:31.254468Z"
    },
    "papermill": {
     "duration": 0.370587,
     "end_time": "2022-07-24T12:15:31.254626",
     "exception": false,
     "start_time": "2022-07-24T12:15:30.884039",
     "status": "completed"
    },
    "tags": []
   },
   "outputs": [],
   "source": [
    "#hide\n",
    "import numpy as np\n",
    "import pandas as pd\n",
    "from jinja2 import Template\n",
    "from IPython.display import HTML"
   ]
  },
  {
   "cell_type": "code",
   "execution_count": 2,
   "id": "developed-terminology",
   "metadata": {
    "execution": {
     "iopub.execute_input": "2022-07-24T12:15:31.324279Z",
     "iopub.status.busy": "2022-07-24T12:15:31.323679Z",
     "iopub.status.idle": "2022-07-24T12:15:31.326197Z",
     "shell.execute_reply": "2022-07-24T12:15:31.325734Z"
    },
    "papermill": {
     "duration": 0.036893,
     "end_time": "2022-07-24T12:15:31.326299",
     "exception": false,
     "start_time": "2022-07-24T12:15:31.289406",
     "status": "completed"
    },
    "tags": []
   },
   "outputs": [],
   "source": [
    "#hide\n",
    "\n",
    "# FETCH\n",
    "base_url = 'https://raw.githubusercontent.com/pratapvardhan/notebooks/master/covid19/'\n",
    "paths = {\n",
    "    'mapping': base_url + 'mapping_countries.csv',\n",
    "    'overview': base_url + 'overview.tpl'\n",
    "}"
   ]
  },
  {
   "cell_type": "code",
   "execution_count": 3,
   "id": "dynamic-saver",
   "metadata": {
    "execution": {
     "iopub.execute_input": "2022-07-24T12:15:31.400486Z",
     "iopub.status.busy": "2022-07-24T12:15:31.399261Z",
     "iopub.status.idle": "2022-07-24T12:15:31.403407Z",
     "shell.execute_reply": "2022-07-24T12:15:31.403966Z"
    },
    "papermill": {
     "duration": 0.047904,
     "end_time": "2022-07-24T12:15:31.404091",
     "exception": false,
     "start_time": "2022-07-24T12:15:31.356187",
     "status": "completed"
    },
    "tags": []
   },
   "outputs": [
    {
     "data": {
      "text/plain": [
       "'https://raw.githubusercontent.com/pratapvardhan/notebooks/master/covid19/mapping_countries.csv'"
      ]
     },
     "execution_count": 3,
     "metadata": {},
     "output_type": "execute_result"
    }
   ],
   "source": [
    "#hide\n",
    "paths['mapping']"
   ]
  },
  {
   "cell_type": "code",
   "execution_count": 4,
   "id": "urban-software",
   "metadata": {
    "execution": {
     "iopub.execute_input": "2022-07-24T12:15:31.469930Z",
     "iopub.status.busy": "2022-07-24T12:15:31.469320Z",
     "iopub.status.idle": "2022-07-24T12:15:31.471011Z",
     "shell.execute_reply": "2022-07-24T12:15:31.471542Z"
    },
    "papermill": {
     "duration": 0.037385,
     "end_time": "2022-07-24T12:15:31.471688",
     "exception": false,
     "start_time": "2022-07-24T12:15:31.434303",
     "status": "completed"
    },
    "tags": []
   },
   "outputs": [],
   "source": [
    "#hide\n",
    "def get_mappings(url):\n",
    "    df = pd.read_csv(url)\n",
    "    return {\n",
    "        'df': df,\n",
    "        'replace.country': dict(df.dropna(subset=['Name']).set_index('Country')['Name']),\n",
    "        'map.continent': dict(df.set_index('Name')['Continent'])\n",
    "    }"
   ]
  },
  {
   "cell_type": "code",
   "execution_count": 5,
   "id": "intimate-machinery",
   "metadata": {
    "execution": {
     "iopub.execute_input": "2022-07-24T12:15:31.537541Z",
     "iopub.status.busy": "2022-07-24T12:15:31.536954Z",
     "iopub.status.idle": "2022-07-24T12:15:31.581773Z",
     "shell.execute_reply": "2022-07-24T12:15:31.582236Z"
    },
    "papermill": {
     "duration": 0.080516,
     "end_time": "2022-07-24T12:15:31.582370",
     "exception": false,
     "start_time": "2022-07-24T12:15:31.501854",
     "status": "completed"
    },
    "tags": []
   },
   "outputs": [],
   "source": [
    "#hide\n",
    "mapping = get_mappings(paths['mapping'])"
   ]
  },
  {
   "cell_type": "code",
   "execution_count": 6,
   "id": "certified-tactics",
   "metadata": {
    "execution": {
     "iopub.execute_input": "2022-07-24T12:15:31.648126Z",
     "iopub.status.busy": "2022-07-24T12:15:31.647507Z",
     "iopub.status.idle": "2022-07-24T12:15:31.649965Z",
     "shell.execute_reply": "2022-07-24T12:15:31.649495Z"
    },
    "papermill": {
     "duration": 0.037259,
     "end_time": "2022-07-24T12:15:31.650074",
     "exception": false,
     "start_time": "2022-07-24T12:15:31.612815",
     "status": "completed"
    },
    "tags": []
   },
   "outputs": [],
   "source": [
    "#hide\n",
    "def get_template(path):\n",
    "    from urllib.parse import urlparse\n",
    "    if bool(urlparse(path).netloc):\n",
    "        from urllib.request import urlopen\n",
    "        return urlopen(path).read().decode('utf8')\n",
    "    return open(path).read()"
   ]
  },
  {
   "cell_type": "code",
   "execution_count": 7,
   "id": "realistic-blast",
   "metadata": {
    "execution": {
     "iopub.execute_input": "2022-07-24T12:15:31.719858Z",
     "iopub.status.busy": "2022-07-24T12:15:31.719244Z",
     "iopub.status.idle": "2022-07-24T12:15:31.721673Z",
     "shell.execute_reply": "2022-07-24T12:15:31.721119Z"
    },
    "papermill": {
     "duration": 0.037332,
     "end_time": "2022-07-24T12:15:31.721774",
     "exception": false,
     "start_time": "2022-07-24T12:15:31.684442",
     "status": "completed"
    },
    "tags": []
   },
   "outputs": [],
   "source": [
    "#hide\n",
    "def get_frame(name):\n",
    "    url = (\n",
    "        'https://raw.githubusercontent.com/CSSEGISandData/COVID-19/master/csse_covid_19_data/'\n",
    "        f'csse_covid_19_time_series/time_series_covid19_{name}_global.csv')\n",
    "    df = pd.read_csv(url)\n",
    "    # rename countries\n",
    "    df['Country/Region'] = df['Country/Region'].replace(mapping['replace.country'])\n",
    "    return df"
   ]
  },
  {
   "cell_type": "code",
   "execution_count": 8,
   "id": "affiliated-characterization",
   "metadata": {
    "execution": {
     "iopub.execute_input": "2022-07-24T12:15:31.789517Z",
     "iopub.status.busy": "2022-07-24T12:15:31.788939Z",
     "iopub.status.idle": "2022-07-24T12:15:31.793773Z",
     "shell.execute_reply": "2022-07-24T12:15:31.794311Z"
    },
    "papermill": {
     "duration": 0.042294,
     "end_time": "2022-07-24T12:15:31.794434",
     "exception": false,
     "start_time": "2022-07-24T12:15:31.752140",
     "status": "completed"
    },
    "tags": []
   },
   "outputs": [],
   "source": [
    "#hide\n",
    "def get_dates(df):\n",
    "    dt_cols = df.columns[~df.columns.isin(['Province/State', 'Country/Region', 'Lat', 'Long'])]\n",
    "    LAST_DATE_I = -1\n",
    "    # sometimes last column may be empty, then go backwards\n",
    "    for i in range(-1, -len(dt_cols), -1):\n",
    "        if not df[dt_cols[i]].fillna(0).eq(0).all():\n",
    "            LAST_DATE_I = i\n",
    "            break\n",
    "    return LAST_DATE_I, dt_cols"
   ]
  },
  {
   "cell_type": "code",
   "execution_count": 9,
   "id": "recent-optimization",
   "metadata": {
    "execution": {
     "iopub.execute_input": "2022-07-24T12:15:31.859910Z",
     "iopub.status.busy": "2022-07-24T12:15:31.859283Z",
     "iopub.status.idle": "2022-07-24T12:15:32.366239Z",
     "shell.execute_reply": "2022-07-24T12:15:32.365715Z"
    },
    "papermill": {
     "duration": 0.541725,
     "end_time": "2022-07-24T12:15:32.366352",
     "exception": false,
     "start_time": "2022-07-24T12:15:31.824627",
     "status": "completed"
    },
    "tags": []
   },
   "outputs": [],
   "source": [
    "#hide\n",
    "COL_REGION = 'Country/Region'\n",
    "# Confirmed, Recovered, Deaths\n",
    "df = get_frame('confirmed')\n",
    "# dft_: timeseries, dfc_: today country agg\n",
    "dft_cases = df\n",
    "dft_deaths = get_frame('deaths')\n",
    "dft_recovered = get_frame('recovered')\n",
    "LAST_DATE_I, dt_cols = get_dates(df)"
   ]
  },
  {
   "cell_type": "code",
   "execution_count": 10,
   "id": "absolute-copper",
   "metadata": {
    "execution": {
     "iopub.execute_input": "2022-07-24T12:15:32.432333Z",
     "iopub.status.busy": "2022-07-24T12:15:32.431730Z",
     "iopub.status.idle": "2022-07-24T12:15:32.434174Z",
     "shell.execute_reply": "2022-07-24T12:15:32.433715Z"
    },
    "papermill": {
     "duration": 0.03742,
     "end_time": "2022-07-24T12:15:32.434282",
     "exception": false,
     "start_time": "2022-07-24T12:15:32.396862",
     "status": "completed"
    },
    "tags": []
   },
   "outputs": [],
   "source": [
    "#hide\n",
    "LAST_DATE_I, dt_cols = get_dates(df)\n",
    "dt_today =dt_cols[LAST_DATE_I]\n",
    "# dt_5day = dt_cols[LAST_DATE_I - 5]\n",
    "dt_yday = dt_cols[LAST_DATE_I - 1]"
   ]
  },
  {
   "cell_type": "code",
   "execution_count": 11,
   "id": "restricted-sheriff",
   "metadata": {
    "execution": {
     "iopub.execute_input": "2022-07-24T12:15:32.506127Z",
     "iopub.status.busy": "2022-07-24T12:15:32.505529Z",
     "iopub.status.idle": "2022-07-24T12:15:32.511303Z",
     "shell.execute_reply": "2022-07-24T12:15:32.511864Z"
    },
    "papermill": {
     "duration": 0.047497,
     "end_time": "2022-07-24T12:15:32.511994",
     "exception": false,
     "start_time": "2022-07-24T12:15:32.464497",
     "status": "completed"
    },
    "tags": []
   },
   "outputs": [],
   "source": [
    "#hide\n",
    "dfc_cases = dft_cases.groupby(COL_REGION)[dt_today].sum()\n",
    "dfc_deaths = dft_deaths.groupby(COL_REGION)[dt_today].sum()\n",
    "# dfp_cases = dft_cases.groupby(COL_REGION)[dt_5day].sum()\n",
    "# dfp_deaths = dft_deaths.groupby(COL_REGION)[dt_5day].sum()\n",
    "dfp_cases = dft_cases.groupby(COL_REGION)[dt_yday].sum()\n",
    "dfp_deaths = dft_deaths.groupby(COL_REGION)[dt_yday].sum()"
   ]
  },
  {
   "cell_type": "code",
   "execution_count": 12,
   "id": "deluxe-hepatitis",
   "metadata": {
    "execution": {
     "iopub.execute_input": "2022-07-24T12:15:32.577821Z",
     "iopub.status.busy": "2022-07-24T12:15:32.577247Z",
     "iopub.status.idle": "2022-07-24T12:15:32.581663Z",
     "shell.execute_reply": "2022-07-24T12:15:32.582206Z"
    },
    "papermill": {
     "duration": 0.040116,
     "end_time": "2022-07-24T12:15:32.582330",
     "exception": false,
     "start_time": "2022-07-24T12:15:32.542214",
     "status": "completed"
    },
    "tags": []
   },
   "outputs": [],
   "source": [
    "#hide\n",
    "df_table = (pd.DataFrame(dict(Cases = dfc_cases, Deaths = dfc_deaths, PCases = dfp_cases, PDeaths = dfp_deaths))\n",
    "            .sort_values(by = ['Cases','Deaths'], ascending = [False, False])\n",
    "            .reset_index())"
   ]
  },
  {
   "cell_type": "code",
   "execution_count": 13,
   "id": "educational-chancellor",
   "metadata": {
    "execution": {
     "iopub.execute_input": "2022-07-24T12:15:32.655711Z",
     "iopub.status.busy": "2022-07-24T12:15:32.655105Z",
     "iopub.status.idle": "2022-07-24T12:15:32.666691Z",
     "shell.execute_reply": "2022-07-24T12:15:32.667144Z"
    },
    "papermill": {
     "duration": 0.054798,
     "end_time": "2022-07-24T12:15:32.667268",
     "exception": false,
     "start_time": "2022-07-24T12:15:32.612470",
     "status": "completed"
    },
    "tags": []
   },
   "outputs": [
    {
     "data": {
      "text/html": [
       "<div>\n",
       "<style scoped>\n",
       "    .dataframe tbody tr th:only-of-type {\n",
       "        vertical-align: middle;\n",
       "    }\n",
       "\n",
       "    .dataframe tbody tr th {\n",
       "        vertical-align: top;\n",
       "    }\n",
       "\n",
       "    .dataframe thead th {\n",
       "        text-align: right;\n",
       "    }\n",
       "</style>\n",
       "<table border=\"1\" class=\"dataframe\">\n",
       "  <thead>\n",
       "    <tr style=\"text-align: right;\">\n",
       "      <th></th>\n",
       "      <th>Country/Region</th>\n",
       "      <th>Cases</th>\n",
       "      <th>Deaths</th>\n",
       "      <th>PCases</th>\n",
       "      <th>PDeaths</th>\n",
       "      <th>Cases (+)</th>\n",
       "      <th>Deaths (+)</th>\n",
       "      <th>Fatality Rate</th>\n",
       "      <th>Continent</th>\n",
       "    </tr>\n",
       "  </thead>\n",
       "  <tbody>\n",
       "    <tr>\n",
       "      <th>0</th>\n",
       "      <td>US</td>\n",
       "      <td>90390185</td>\n",
       "      <td>1026937</td>\n",
       "      <td>90367064</td>\n",
       "      <td>1026883</td>\n",
       "      <td>23121</td>\n",
       "      <td>54</td>\n",
       "      <td>1.14</td>\n",
       "      <td>North America</td>\n",
       "    </tr>\n",
       "    <tr>\n",
       "      <th>1</th>\n",
       "      <td>India</td>\n",
       "      <td>43888755</td>\n",
       "      <td>526033</td>\n",
       "      <td>43868476</td>\n",
       "      <td>525997</td>\n",
       "      <td>20279</td>\n",
       "      <td>36</td>\n",
       "      <td>1.20</td>\n",
       "      <td>Asia</td>\n",
       "    </tr>\n",
       "    <tr>\n",
       "      <th>2</th>\n",
       "      <td>France</td>\n",
       "      <td>33621366</td>\n",
       "      <td>152390</td>\n",
       "      <td>33621366</td>\n",
       "      <td>152390</td>\n",
       "      <td>0</td>\n",
       "      <td>0</td>\n",
       "      <td>0.45</td>\n",
       "      <td>Europe</td>\n",
       "    </tr>\n",
       "    <tr>\n",
       "      <th>3</th>\n",
       "      <td>Brazil</td>\n",
       "      <td>33555526</td>\n",
       "      <td>676766</td>\n",
       "      <td>33555526</td>\n",
       "      <td>676766</td>\n",
       "      <td>0</td>\n",
       "      <td>0</td>\n",
       "      <td>2.02</td>\n",
       "      <td>South America</td>\n",
       "    </tr>\n",
       "    <tr>\n",
       "      <th>4</th>\n",
       "      <td>Germany</td>\n",
       "      <td>30331133</td>\n",
       "      <td>143177</td>\n",
       "      <td>30331131</td>\n",
       "      <td>143177</td>\n",
       "      <td>2</td>\n",
       "      <td>0</td>\n",
       "      <td>0.47</td>\n",
       "      <td>Europe</td>\n",
       "    </tr>\n",
       "  </tbody>\n",
       "</table>\n",
       "</div>"
      ],
      "text/plain": [
       "  Country/Region     Cases   Deaths    PCases  PDeaths  Cases (+)  Deaths (+)  \\\n",
       "0             US  90390185  1026937  90367064  1026883      23121          54   \n",
       "1          India  43888755   526033  43868476   525997      20279          36   \n",
       "2         France  33621366   152390  33621366   152390          0           0   \n",
       "3         Brazil  33555526   676766  33555526   676766          0           0   \n",
       "4        Germany  30331133   143177  30331131   143177          2           0   \n",
       "\n",
       "   Fatality Rate      Continent  \n",
       "0           1.14  North America  \n",
       "1           1.20           Asia  \n",
       "2           0.45         Europe  \n",
       "3           2.02  South America  \n",
       "4           0.47         Europe  "
      ]
     },
     "execution_count": 13,
     "metadata": {},
     "output_type": "execute_result"
    }
   ],
   "source": [
    "#hide\n",
    "for c in 'Cases, Deaths'.split(', '):\n",
    "    df_table[f'{c} (+)'] = (df_table[c] - df_table[f'P{c}']).clip(0)\n",
    "    #Clip ça veut dire, les chiffres negatif sont interdit\n",
    "df_table['Fatality Rate'] = (100* df_table['Deaths']/ df_table['Cases']).round(2)\n",
    "df_table['Continent'] = df_table['Country/Region'].map(mapping['map.continent'])\n",
    "df_table.head(5)"
   ]
  },
  {
   "cell_type": "code",
   "execution_count": 14,
   "id": "aboriginal-bulgaria",
   "metadata": {
    "execution": {
     "iopub.execute_input": "2022-07-24T12:15:32.734569Z",
     "iopub.status.busy": "2022-07-24T12:15:32.733971Z",
     "iopub.status.idle": "2022-07-24T12:15:32.736400Z",
     "shell.execute_reply": "2022-07-24T12:15:32.735950Z"
    },
    "papermill": {
     "duration": 0.038569,
     "end_time": "2022-07-24T12:15:32.736503",
     "exception": false,
     "start_time": "2022-07-24T12:15:32.697934",
     "status": "completed"
    },
    "tags": []
   },
   "outputs": [],
   "source": [
    "#hide\n",
    "#delete problematic countries from table\n",
    "df_table = df_table[~df_table['Country/Region'].isin(['Cape Verde', 'Cruise Ship', 'Kosovo'])]"
   ]
  },
  {
   "cell_type": "code",
   "execution_count": 15,
   "id": "fantastic-effect",
   "metadata": {
    "execution": {
     "iopub.execute_input": "2022-07-24T12:15:32.801109Z",
     "iopub.status.busy": "2022-07-24T12:15:32.800520Z",
     "iopub.status.idle": "2022-07-24T12:15:32.822724Z",
     "shell.execute_reply": "2022-07-24T12:15:32.822226Z"
    },
    "papermill": {
     "duration": 0.055447,
     "end_time": "2022-07-24T12:15:32.822840",
     "exception": false,
     "start_time": "2022-07-24T12:15:32.767393",
     "status": "completed"
    },
    "tags": []
   },
   "outputs": [
    {
     "data": {
      "text/html": [
       "<div>\n",
       "<style scoped>\n",
       "    .dataframe tbody tr th:only-of-type {\n",
       "        vertical-align: middle;\n",
       "    }\n",
       "\n",
       "    .dataframe tbody tr th {\n",
       "        vertical-align: top;\n",
       "    }\n",
       "\n",
       "    .dataframe thead th {\n",
       "        text-align: right;\n",
       "    }\n",
       "</style>\n",
       "<table border=\"1\" class=\"dataframe\">\n",
       "  <thead>\n",
       "    <tr style=\"text-align: right;\">\n",
       "      <th></th>\n",
       "      <th>Country/Region</th>\n",
       "      <th>Cases</th>\n",
       "      <th>Deaths</th>\n",
       "      <th>PCases</th>\n",
       "      <th>PDeaths</th>\n",
       "      <th>Cases (+)</th>\n",
       "      <th>Deaths (+)</th>\n",
       "      <th>Fatality Rate</th>\n",
       "      <th>Continent</th>\n",
       "    </tr>\n",
       "  </thead>\n",
       "  <tbody>\n",
       "    <tr>\n",
       "      <th>0</th>\n",
       "      <td>US</td>\n",
       "      <td>90390185</td>\n",
       "      <td>1026937</td>\n",
       "      <td>90367064</td>\n",
       "      <td>1026883</td>\n",
       "      <td>23121</td>\n",
       "      <td>54</td>\n",
       "      <td>1.1</td>\n",
       "      <td>North America</td>\n",
       "    </tr>\n",
       "    <tr>\n",
       "      <th>1</th>\n",
       "      <td>India</td>\n",
       "      <td>43888755</td>\n",
       "      <td>526033</td>\n",
       "      <td>43868476</td>\n",
       "      <td>525997</td>\n",
       "      <td>20279</td>\n",
       "      <td>36</td>\n",
       "      <td>1.2</td>\n",
       "      <td>Asia</td>\n",
       "    </tr>\n",
       "    <tr>\n",
       "      <th>2</th>\n",
       "      <td>France</td>\n",
       "      <td>33621366</td>\n",
       "      <td>152390</td>\n",
       "      <td>33621366</td>\n",
       "      <td>152390</td>\n",
       "      <td>0</td>\n",
       "      <td>0</td>\n",
       "      <td>0.5</td>\n",
       "      <td>Europe</td>\n",
       "    </tr>\n",
       "    <tr>\n",
       "      <th>3</th>\n",
       "      <td>Brazil</td>\n",
       "      <td>33555526</td>\n",
       "      <td>676766</td>\n",
       "      <td>33555526</td>\n",
       "      <td>676766</td>\n",
       "      <td>0</td>\n",
       "      <td>0</td>\n",
       "      <td>2.0</td>\n",
       "      <td>South America</td>\n",
       "    </tr>\n",
       "    <tr>\n",
       "      <th>4</th>\n",
       "      <td>Germany</td>\n",
       "      <td>30331133</td>\n",
       "      <td>143177</td>\n",
       "      <td>30331131</td>\n",
       "      <td>143177</td>\n",
       "      <td>2</td>\n",
       "      <td>0</td>\n",
       "      <td>0.5</td>\n",
       "      <td>Europe</td>\n",
       "    </tr>\n",
       "  </tbody>\n",
       "</table>\n",
       "</div>"
      ],
      "text/plain": [
       "  Country/Region     Cases   Deaths    PCases  PDeaths  Cases (+)  Deaths (+)  \\\n",
       "0             US  90390185  1026937  90367064  1026883      23121          54   \n",
       "1          India  43888755   526033  43868476   525997      20279          36   \n",
       "2         France  33621366   152390  33621366   152390          0           0   \n",
       "3         Brazil  33555526   676766  33555526   676766          0           0   \n",
       "4        Germany  30331133   143177  30331131   143177          2           0   \n",
       "\n",
       "   Fatality Rate      Continent  \n",
       "0            1.1  North America  \n",
       "1            1.2           Asia  \n",
       "2            0.5         Europe  \n",
       "3            2.0  South America  \n",
       "4            0.5         Europe  "
      ]
     },
     "execution_count": 15,
     "metadata": {},
     "output_type": "execute_result"
    }
   ],
   "source": [
    "#hide\n",
    "df_table = (pd.DataFrame(dict(Cases=dfc_cases, Deaths=dfc_deaths, PCases=dfp_cases, PDeaths=dfp_deaths))\n",
    "             .sort_values(by=['Cases', 'Deaths'], ascending=[False, False])\n",
    "             .reset_index())\n",
    "df_table.rename(columns={'index': 'Country/Region'}, inplace=True)\n",
    "for c in 'Cases, Deaths'.split(', '):\n",
    "    df_table[f'{c} (+)'] = (df_table[c] - df_table[f'P{c}']).clip(0)  # DATA BUG\n",
    "df_table['Fatality Rate'] = (100 * df_table['Deaths'] / df_table['Cases']).round(1)\n",
    "df_table['Continent'] = df_table['Country/Region'].map(mapping['map.continent'])\n",
    "df_table.head(5)"
   ]
  },
  {
   "cell_type": "code",
   "execution_count": 16,
   "id": "fewer-occasion",
   "metadata": {
    "execution": {
     "iopub.execute_input": "2022-07-24T12:15:32.890407Z",
     "iopub.status.busy": "2022-07-24T12:15:32.889803Z",
     "iopub.status.idle": "2022-07-24T12:15:32.892908Z",
     "shell.execute_reply": "2022-07-24T12:15:32.893330Z"
    },
    "papermill": {
     "duration": 0.039171,
     "end_time": "2022-07-24T12:15:32.893460",
     "exception": false,
     "start_time": "2022-07-24T12:15:32.854289",
     "status": "completed"
    },
    "tags": []
   },
   "outputs": [],
   "source": [
    "#hide\n",
    "#delete problematic countries from table\n",
    "df_table = df_table[~df_table['Country/Region'].isin(['Cape Verde', 'Cruise Ship', 'Kosovo'])]"
   ]
  },
  {
   "cell_type": "code",
   "execution_count": 17,
   "id": "related-center",
   "metadata": {
    "execution": {
     "iopub.execute_input": "2022-07-24T12:15:32.973556Z",
     "iopub.status.busy": "2022-07-24T12:15:32.972941Z",
     "iopub.status.idle": "2022-07-24T12:15:32.975948Z",
     "shell.execute_reply": "2022-07-24T12:15:32.976358Z"
    },
    "papermill": {
     "duration": 0.051956,
     "end_time": "2022-07-24T12:15:32.976490",
     "exception": false,
     "start_time": "2022-07-24T12:15:32.924534",
     "status": "completed"
    },
    "tags": []
   },
   "outputs": [],
   "source": [
    "#hide\n",
    "metrics = [df_table.columns[index] for index in [1,2,5,6]]\n",
    "# s_china = df_table[df_table['Country/Region'].eq('China')][metrics].sum().add_prefix('China ')\n",
    "s_us = df_table[df_table['Country/Region'].eq('US')][metrics].sum().add_prefix('US ')\n",
    "s_eu = df_table[df_table['Continent'].eq('Europe')][metrics].sum().add_prefix('EU ')\n",
    "s_ind = df_table[df_table['Country/Region'].eq('India')][metrics].sum().add_prefix('India ')\n",
    "summary = {'updated': pd.to_datetime(dt_today), 'since': pd.to_datetime(dt_yday)}\n",
    "summary = {'updated': pd.to_datetime(dt_today), 'since': pd.to_datetime(dt_yday)}\n",
    "summary = {**summary, **df_table[metrics].sum(), **s_ind, **s_us, **s_eu}"
   ]
  },
  {
   "cell_type": "code",
   "execution_count": 18,
   "id": "engaging-syndrome",
   "metadata": {
    "execution": {
     "iopub.execute_input": "2022-07-24T12:15:33.044159Z",
     "iopub.status.busy": "2022-07-24T12:15:33.043542Z",
     "iopub.status.idle": "2022-07-24T12:15:33.066675Z",
     "shell.execute_reply": "2022-07-24T12:15:33.067232Z"
    },
    "papermill": {
     "duration": 0.05952,
     "end_time": "2022-07-24T12:15:33.067392",
     "exception": false,
     "start_time": "2022-07-24T12:15:33.007872",
     "status": "completed"
    },
    "tags": []
   },
   "outputs": [],
   "source": [
    "#hide\n",
    "dft_ct_new_cases = dft_cases.groupby(COL_REGION)[dt_cols].sum().diff(axis=1).fillna(0).astype(int)"
   ]
  },
  {
   "cell_type": "code",
   "execution_count": 19,
   "id": "neutral-assignment",
   "metadata": {
    "execution": {
     "iopub.execute_input": "2022-07-24T12:15:33.149542Z",
     "iopub.status.busy": "2022-07-24T12:15:33.148956Z",
     "iopub.status.idle": "2022-07-24T12:15:33.151335Z",
     "shell.execute_reply": "2022-07-24T12:15:33.151793Z"
    },
    "papermill": {
     "duration": 0.041336,
     "end_time": "2022-07-24T12:15:33.151914",
     "exception": false,
     "start_time": "2022-07-24T12:15:33.110578",
     "status": "completed"
    },
    "tags": []
   },
   "outputs": [],
   "source": [
    "#hide\n",
    "everydaycases = dft_ct_new_cases.cumsum(axis=1)"
   ]
  },
  {
   "cell_type": "code",
   "execution_count": 20,
   "id": "parliamentary-calgary",
   "metadata": {
    "execution": {
     "iopub.execute_input": "2022-07-24T12:15:33.218810Z",
     "iopub.status.busy": "2022-07-24T12:15:33.218232Z",
     "iopub.status.idle": "2022-07-24T12:15:33.789333Z",
     "shell.execute_reply": "2022-07-24T12:15:33.789822Z"
    },
    "papermill": {
     "duration": 0.606781,
     "end_time": "2022-07-24T12:15:33.789957",
     "exception": false,
     "start_time": "2022-07-24T12:15:33.183176",
     "status": "completed"
    },
    "tags": []
   },
   "outputs": [],
   "source": [
    "#hide\n",
    "import pandas as pd\n",
    "import matplotlib.pyplot as plt\n",
    "import matplotlib.ticker as ticker\n",
    "import matplotlib.animation as animation\n",
    "from IPython.display import HTML"
   ]
  },
  {
   "cell_type": "code",
   "execution_count": 21,
   "id": "lasting-extraction",
   "metadata": {
    "execution": {
     "iopub.execute_input": "2022-07-24T12:15:33.861123Z",
     "iopub.status.busy": "2022-07-24T12:15:33.860509Z",
     "iopub.status.idle": "2022-07-24T12:15:33.864835Z",
     "shell.execute_reply": "2022-07-24T12:15:33.865270Z"
    },
    "papermill": {
     "duration": 0.044249,
     "end_time": "2022-07-24T12:15:33.865399",
     "exception": false,
     "start_time": "2022-07-24T12:15:33.821150",
     "status": "completed"
    },
    "tags": []
   },
   "outputs": [],
   "source": [
    "#hide\n",
    "t = everydaycases.stack()"
   ]
  },
  {
   "cell_type": "code",
   "execution_count": 22,
   "id": "premier-sleeve",
   "metadata": {
    "execution": {
     "iopub.execute_input": "2022-07-24T12:15:33.932782Z",
     "iopub.status.busy": "2022-07-24T12:15:33.932208Z",
     "iopub.status.idle": "2022-07-24T12:15:33.942636Z",
     "shell.execute_reply": "2022-07-24T12:15:33.943125Z"
    },
    "papermill": {
     "duration": 0.046212,
     "end_time": "2022-07-24T12:15:33.943284",
     "exception": false,
     "start_time": "2022-07-24T12:15:33.897072",
     "status": "completed"
    },
    "tags": []
   },
   "outputs": [],
   "source": [
    "#hide\n",
    "g = t.reset_index(['Country/Region'])"
   ]
  },
  {
   "cell_type": "code",
   "execution_count": 23,
   "id": "distributed-pittsburgh",
   "metadata": {
    "execution": {
     "iopub.execute_input": "2022-07-24T12:15:34.009695Z",
     "iopub.status.busy": "2022-07-24T12:15:34.009110Z",
     "iopub.status.idle": "2022-07-24T12:15:34.012652Z",
     "shell.execute_reply": "2022-07-24T12:15:34.013060Z"
    },
    "papermill": {
     "duration": 0.038656,
     "end_time": "2022-07-24T12:15:34.013184",
     "exception": false,
     "start_time": "2022-07-24T12:15:33.974528",
     "status": "completed"
    },
    "tags": []
   },
   "outputs": [],
   "source": [
    "#hide\n",
    "g.index.name = 'date'"
   ]
  },
  {
   "cell_type": "code",
   "execution_count": 24,
   "id": "naked-donor",
   "metadata": {
    "execution": {
     "iopub.execute_input": "2022-07-24T12:15:34.079379Z",
     "iopub.status.busy": "2022-07-24T12:15:34.078805Z",
     "iopub.status.idle": "2022-07-24T12:15:34.081304Z",
     "shell.execute_reply": "2022-07-24T12:15:34.080856Z"
    },
    "papermill": {
     "duration": 0.037094,
     "end_time": "2022-07-24T12:15:34.081409",
     "exception": false,
     "start_time": "2022-07-24T12:15:34.044315",
     "status": "completed"
    },
    "tags": []
   },
   "outputs": [],
   "source": [
    "# #hide\n",
    "# g = g.reset_index(['date'])"
   ]
  },
  {
   "cell_type": "code",
   "execution_count": 25,
   "id": "incomplete-mustang",
   "metadata": {
    "execution": {
     "iopub.execute_input": "2022-07-24T12:15:34.147705Z",
     "iopub.status.busy": "2022-07-24T12:15:34.147104Z",
     "iopub.status.idle": "2022-07-24T12:15:34.151212Z",
     "shell.execute_reply": "2022-07-24T12:15:34.150777Z"
    },
    "papermill": {
     "duration": 0.038668,
     "end_time": "2022-07-24T12:15:34.151318",
     "exception": false,
     "start_time": "2022-07-24T12:15:34.112650",
     "status": "completed"
    },
    "tags": []
   },
   "outputs": [],
   "source": [
    "#hide\n",
    "# g.head()"
   ]
  },
  {
   "cell_type": "code",
   "execution_count": 26,
   "id": "specific-kruger",
   "metadata": {
    "execution": {
     "iopub.execute_input": "2022-07-24T12:15:34.222363Z",
     "iopub.status.busy": "2022-07-24T12:15:34.221768Z",
     "iopub.status.idle": "2022-07-24T12:15:34.224138Z",
     "shell.execute_reply": "2022-07-24T12:15:34.223681Z"
    },
    "papermill": {
     "duration": 0.037014,
     "end_time": "2022-07-24T12:15:34.224244",
     "exception": false,
     "start_time": "2022-07-24T12:15:34.187230",
     "status": "completed"
    },
    "tags": []
   },
   "outputs": [],
   "source": [
    "#hide\n",
    "# g.columns = ['date','country','cases']"
   ]
  },
  {
   "cell_type": "code",
   "execution_count": 27,
   "id": "tender-conversion",
   "metadata": {
    "execution": {
     "iopub.execute_input": "2022-07-24T12:15:34.293327Z",
     "iopub.status.busy": "2022-07-24T12:15:34.292747Z",
     "iopub.status.idle": "2022-07-24T12:15:34.296089Z",
     "shell.execute_reply": "2022-07-24T12:15:34.296495Z"
    },
    "papermill": {
     "duration": 0.041383,
     "end_time": "2022-07-24T12:15:34.296619",
     "exception": false,
     "start_time": "2022-07-24T12:15:34.255236",
     "status": "completed"
    },
    "tags": []
   },
   "outputs": [],
   "source": [
    "#hide\n",
    "# g['continent'] = g.country"
   ]
  },
  {
   "cell_type": "code",
   "execution_count": 28,
   "id": "substantial-wilderness",
   "metadata": {
    "execution": {
     "iopub.execute_input": "2022-07-24T12:15:34.362821Z",
     "iopub.status.busy": "2022-07-24T12:15:34.362239Z",
     "iopub.status.idle": "2022-07-24T12:15:34.364705Z",
     "shell.execute_reply": "2022-07-24T12:15:34.364163Z"
    },
    "papermill": {
     "duration": 0.036869,
     "end_time": "2022-07-24T12:15:34.364807",
     "exception": false,
     "start_time": "2022-07-24T12:15:34.327938",
     "status": "completed"
    },
    "tags": []
   },
   "outputs": [],
   "source": [
    "#hide\n",
    "# cols = list(g.columns.values)"
   ]
  },
  {
   "cell_type": "code",
   "execution_count": 29,
   "id": "solved-farming",
   "metadata": {
    "execution": {
     "iopub.execute_input": "2022-07-24T12:15:34.430979Z",
     "iopub.status.busy": "2022-07-24T12:15:34.430389Z",
     "iopub.status.idle": "2022-07-24T12:15:34.434307Z",
     "shell.execute_reply": "2022-07-24T12:15:34.433836Z"
    },
    "papermill": {
     "duration": 0.03848,
     "end_time": "2022-07-24T12:15:34.434414",
     "exception": false,
     "start_time": "2022-07-24T12:15:34.395934",
     "status": "completed"
    },
    "tags": []
   },
   "outputs": [],
   "source": [
    "#hide\n",
    "# cols.insert(0, cols.pop())"
   ]
  },
  {
   "cell_type": "code",
   "execution_count": 30,
   "id": "executed-adoption",
   "metadata": {
    "execution": {
     "iopub.execute_input": "2022-07-24T12:15:34.500973Z",
     "iopub.status.busy": "2022-07-24T12:15:34.500393Z",
     "iopub.status.idle": "2022-07-24T12:15:34.504647Z",
     "shell.execute_reply": "2022-07-24T12:15:34.505505Z"
    },
    "papermill": {
     "duration": 0.039903,
     "end_time": "2022-07-24T12:15:34.505641",
     "exception": false,
     "start_time": "2022-07-24T12:15:34.465738",
     "status": "completed"
    },
    "tags": []
   },
   "outputs": [],
   "source": [
    "#hide\n",
    "# g = g[cols]"
   ]
  },
  {
   "cell_type": "code",
   "execution_count": 31,
   "id": "subject-dublin",
   "metadata": {
    "execution": {
     "iopub.execute_input": "2022-07-24T12:15:34.571810Z",
     "iopub.status.busy": "2022-07-24T12:15:34.571211Z",
     "iopub.status.idle": "2022-07-24T12:15:34.573296Z",
     "shell.execute_reply": "2022-07-24T12:15:34.573725Z"
    },
    "papermill": {
     "duration": 0.037084,
     "end_time": "2022-07-24T12:15:34.573849",
     "exception": false,
     "start_time": "2022-07-24T12:15:34.536765",
     "status": "completed"
    },
    "tags": []
   },
   "outputs": [],
   "source": [
    "#hide\n",
    "# g['continent'] = g['continent'].map(mapping['map.continent'])"
   ]
  },
  {
   "cell_type": "code",
   "execution_count": 32,
   "id": "freelance-scout",
   "metadata": {
    "execution": {
     "iopub.execute_input": "2022-07-24T12:15:34.639855Z",
     "iopub.status.busy": "2022-07-24T12:15:34.639248Z",
     "iopub.status.idle": "2022-07-24T12:15:34.642767Z",
     "shell.execute_reply": "2022-07-24T12:15:34.643189Z"
    },
    "papermill": {
     "duration": 0.038249,
     "end_time": "2022-07-24T12:15:34.643313",
     "exception": false,
     "start_time": "2022-07-24T12:15:34.605064",
     "status": "completed"
    },
    "tags": []
   },
   "outputs": [],
   "source": [
    "#hide\n",
    "# g.head()"
   ]
  },
  {
   "cell_type": "code",
   "execution_count": 33,
   "id": "limited-engine",
   "metadata": {
    "execution": {
     "iopub.execute_input": "2022-07-24T12:15:34.713295Z",
     "iopub.status.busy": "2022-07-24T12:15:34.712717Z",
     "iopub.status.idle": "2022-07-24T12:15:34.715158Z",
     "shell.execute_reply": "2022-07-24T12:15:34.714716Z"
    },
    "papermill": {
     "duration": 0.036891,
     "end_time": "2022-07-24T12:15:34.715255",
     "exception": false,
     "start_time": "2022-07-24T12:15:34.678364",
     "status": "completed"
    },
    "tags": []
   },
   "outputs": [],
   "source": [
    "# hide\n",
    "# g['date'] = g['date'].astype('datetime64[ns]')"
   ]
  },
  {
   "cell_type": "code",
   "execution_count": 34,
   "id": "sophisticated-supervisor",
   "metadata": {
    "execution": {
     "iopub.execute_input": "2022-07-24T12:15:34.785870Z",
     "iopub.status.busy": "2022-07-24T12:15:34.785296Z",
     "iopub.status.idle": "2022-07-24T12:15:34.787640Z",
     "shell.execute_reply": "2022-07-24T12:15:34.787080Z"
    },
    "papermill": {
     "duration": 0.04098,
     "end_time": "2022-07-24T12:15:34.787744",
     "exception": false,
     "start_time": "2022-07-24T12:15:34.746764",
     "status": "completed"
    },
    "tags": []
   },
   "outputs": [],
   "source": [
    "#hide\n",
    "# g['date'] = g.date.dt.dayofyear"
   ]
  },
  {
   "cell_type": "code",
   "execution_count": 35,
   "id": "inside-dubai",
   "metadata": {
    "execution": {
     "iopub.execute_input": "2022-07-24T12:15:34.853986Z",
     "iopub.status.busy": "2022-07-24T12:15:34.853398Z",
     "iopub.status.idle": "2022-07-24T12:15:34.856934Z",
     "shell.execute_reply": "2022-07-24T12:15:34.857346Z"
    },
    "papermill": {
     "duration": 0.03862,
     "end_time": "2022-07-24T12:15:34.857471",
     "exception": false,
     "start_time": "2022-07-24T12:15:34.818851",
     "status": "completed"
    },
    "tags": []
   },
   "outputs": [],
   "source": [
    "#hide\n",
    "# g = g.rename(columns= {'continent':'group','country':'name','cases':'value'})"
   ]
  },
  {
   "cell_type": "code",
   "execution_count": 36,
   "id": "fleet-motorcycle",
   "metadata": {
    "execution": {
     "iopub.execute_input": "2022-07-24T12:15:34.925657Z",
     "iopub.status.busy": "2022-07-24T12:15:34.925012Z",
     "iopub.status.idle": "2022-07-24T12:15:34.926960Z",
     "shell.execute_reply": "2022-07-24T12:15:34.927394Z"
    },
    "papermill": {
     "duration": 0.03698,
     "end_time": "2022-07-24T12:15:34.927518",
     "exception": false,
     "start_time": "2022-07-24T12:15:34.890538",
     "status": "completed"
    },
    "tags": []
   },
   "outputs": [],
   "source": [
    "#hide\n",
    "# cols = ['name','group','day','value']"
   ]
  },
  {
   "cell_type": "code",
   "execution_count": 37,
   "id": "continued-sleeping",
   "metadata": {
    "execution": {
     "iopub.execute_input": "2022-07-24T12:15:34.993930Z",
     "iopub.status.busy": "2022-07-24T12:15:34.993348Z",
     "iopub.status.idle": "2022-07-24T12:15:34.995669Z",
     "shell.execute_reply": "2022-07-24T12:15:34.995109Z"
    },
    "papermill": {
     "duration": 0.036852,
     "end_time": "2022-07-24T12:15:34.995777",
     "exception": false,
     "start_time": "2022-07-24T12:15:34.958925",
     "status": "completed"
    },
    "tags": []
   },
   "outputs": [],
   "source": [
    "#hide\n",
    "# g.rename(columns= {'date':'day'},inplace = True)"
   ]
  },
  {
   "cell_type": "code",
   "execution_count": 38,
   "id": "major-fight",
   "metadata": {
    "execution": {
     "iopub.execute_input": "2022-07-24T12:15:35.062066Z",
     "iopub.status.busy": "2022-07-24T12:15:35.061471Z",
     "iopub.status.idle": "2022-07-24T12:15:35.064029Z",
     "shell.execute_reply": "2022-07-24T12:15:35.063453Z"
    },
    "papermill": {
     "duration": 0.037116,
     "end_time": "2022-07-24T12:15:35.064136",
     "exception": false,
     "start_time": "2022-07-24T12:15:35.027020",
     "status": "completed"
    },
    "tags": []
   },
   "outputs": [],
   "source": [
    "#hide\n",
    "# g = g[cols]"
   ]
  },
  {
   "cell_type": "code",
   "execution_count": 39,
   "id": "structured-mobile",
   "metadata": {
    "execution": {
     "iopub.execute_input": "2022-07-24T12:15:35.130035Z",
     "iopub.status.busy": "2022-07-24T12:15:35.129451Z",
     "iopub.status.idle": "2022-07-24T12:15:35.131982Z",
     "shell.execute_reply": "2022-07-24T12:15:35.131403Z"
    },
    "papermill": {
     "duration": 0.036942,
     "end_time": "2022-07-24T12:15:35.132089",
     "exception": false,
     "start_time": "2022-07-24T12:15:35.095147",
     "status": "completed"
    },
    "tags": []
   },
   "outputs": [],
   "source": [
    "# #hide\n",
    "# g = g[g.group.notna()]"
   ]
  },
  {
   "cell_type": "code",
   "execution_count": 40,
   "id": "determined-closing",
   "metadata": {
    "execution": {
     "iopub.execute_input": "2022-07-24T12:15:35.198369Z",
     "iopub.status.busy": "2022-07-24T12:15:35.197756Z",
     "iopub.status.idle": "2022-07-24T12:15:35.200329Z",
     "shell.execute_reply": "2022-07-24T12:15:35.199779Z"
    },
    "papermill": {
     "duration": 0.037088,
     "end_time": "2022-07-24T12:15:35.200433",
     "exception": false,
     "start_time": "2022-07-24T12:15:35.163345",
     "status": "completed"
    },
    "tags": []
   },
   "outputs": [],
   "source": [
    "# #hide\n",
    "# colors = dict(zip(\n",
    "#     [\"Oceania\", \"Europe\", \"Asia\", \"South America\", \"Middle East\", \"North America\", \"Africa\"],\n",
    "#     [\"#adb0ff\", \"#ffb3ff\", \"#90d595\", \"#e48381\", \"#aafbff\", \"#f7bb5f\", \"#eafb50\"]\n",
    "# ))\n",
    "# group_lk = g.set_index('name')['group'].to_dict()"
   ]
  },
  {
   "cell_type": "code",
   "execution_count": null,
   "id": "gross-drinking",
   "metadata": {
    "papermill": {
     "duration": 0.031244,
     "end_time": "2022-07-24T12:15:35.262802",
     "exception": false,
     "start_time": "2022-07-24T12:15:35.231558",
     "status": "completed"
    },
    "tags": []
   },
   "outputs": [],
   "source": []
  },
  {
   "cell_type": "code",
   "execution_count": 41,
   "id": "subject-macintosh",
   "metadata": {
    "execution": {
     "iopub.execute_input": "2022-07-24T12:15:35.333564Z",
     "iopub.status.busy": "2022-07-24T12:15:35.332961Z",
     "iopub.status.idle": "2022-07-24T12:15:35.335021Z",
     "shell.execute_reply": "2022-07-24T12:15:35.335470Z"
    },
    "papermill": {
     "duration": 0.037451,
     "end_time": "2022-07-24T12:15:35.335615",
     "exception": false,
     "start_time": "2022-07-24T12:15:35.298164",
     "status": "completed"
    },
    "tags": []
   },
   "outputs": [],
   "source": [
    "# #hide\n",
    "# fig, ax = plt.subplots(figsize=(15, 8))\n",
    "\n",
    "# def draw_barchart(current_day):\n",
    "#     dff = g[g['day'].eq(current_day)].sort_values(by='value', ascending=True).tail(10)\n",
    "#     ax.clear()\n",
    "#     ax.barh(dff['name'], dff['value'], color=[colors[group_lk[x]] for x in dff['name']])\n",
    "#     dx = dff['value'].max() / 200\n",
    "    \n",
    "#     for i, (value, name) in enumerate(zip(dff['value'], dff['name'])):\n",
    "#         ax.text(value-dx, i,     name,           size=14, weight=600, ha='right', va='bottom')\n",
    "#         ax.text(value-dx, i-.25, group_lk[name], size=10, color='#444444', ha='right', va='baseline')\n",
    "#         ax.text(value+dx, i,     f'{value:,.0f}',  size=14, ha='left',  va='center')\n",
    "#     ax.text(1, 0.4, current_day, transform=ax.transAxes, color='#777777', size=46, ha='right', weight=800)\n",
    "#     ax.text(0, 1.06, 'Population (thousands)', transform=ax.transAxes, size=12, color='#777777')\n",
    "#     ax.xaxis.set_major_formatter(ticker.StrMethodFormatter('{x:,.0f}'))\n",
    "#     ax.xaxis.set_ticks_position('top')\n",
    "#     ax.tick_params(axis='x', colors='#777777', labelsize=12)\n",
    "#     ax.set_yticks([])\n",
    "#     ax.margins(0, 0.01)\n",
    "#     ax.grid(which='major', axis='x', linestyle='-')\n",
    "#     ax.set_axisbelow(True)\n",
    "    \n",
    "#     ax.text(0, 1.15, 'Coronavirus',\n",
    "#             transform=ax.transAxes, size=24, weight=600, ha='left', va='top')\n",
    "# #     ax.text(1, 0, 'by @pratapvardhan; credit @jburnmurdoch', transform=ax.transAxes, color='#777777', ha='right',\n",
    "# #             bbox=dict(facecolor='white', alpha=0.8, edgecolor='white'))\n",
    "#     plt.box(False)"
   ]
  },
  {
   "cell_type": "code",
   "execution_count": 42,
   "id": "sexual-wages",
   "metadata": {
    "execution": {
     "iopub.execute_input": "2022-07-24T12:15:35.403630Z",
     "iopub.status.busy": "2022-07-24T12:15:35.403023Z",
     "iopub.status.idle": "2022-07-24T12:15:35.405592Z",
     "shell.execute_reply": "2022-07-24T12:15:35.405148Z"
    },
    "papermill": {
     "duration": 0.039019,
     "end_time": "2022-07-24T12:15:35.405692",
     "exception": false,
     "start_time": "2022-07-24T12:15:35.366673",
     "status": "completed"
    },
    "tags": []
   },
   "outputs": [],
   "source": [
    "# #hide_input\n",
    "# fig, ax = plt.subplots(figsize=(15, 8))\n",
    "# animator = animation.FuncAnimation(fig, draw_barchart, frames=range(g.day.values.min(), g.day.values.max()))\n",
    "# HTML(animator.to_jshtml())\n",
    "# # or use animator.to_html5_video() or animator.save() "
   ]
  },
  {
   "cell_type": "code",
   "execution_count": null,
   "id": "australian-container",
   "metadata": {
    "papermill": {
     "duration": 0.031088,
     "end_time": "2022-07-24T12:15:35.467947",
     "exception": false,
     "start_time": "2022-07-24T12:15:35.436859",
     "status": "completed"
    },
    "tags": []
   },
   "outputs": [],
   "source": []
  },
  {
   "cell_type": "code",
   "execution_count": null,
   "id": "mediterranean-pontiac",
   "metadata": {
    "papermill": {
     "duration": 0.030931,
     "end_time": "2022-07-24T12:15:35.533897",
     "exception": false,
     "start_time": "2022-07-24T12:15:35.502966",
     "status": "completed"
    },
    "tags": []
   },
   "outputs": [],
   "source": []
  },
  {
   "cell_type": "code",
   "execution_count": null,
   "id": "aging-legislature",
   "metadata": {
    "papermill": {
     "duration": 0.030955,
     "end_time": "2022-07-24T12:15:35.596315",
     "exception": false,
     "start_time": "2022-07-24T12:15:35.565360",
     "status": "completed"
    },
    "tags": []
   },
   "outputs": [],
   "source": []
  }
 ],
 "metadata": {
  "kernelspec": {
   "display_name": "Python 3",
   "language": "python",
   "name": "python3"
  },
  "language_info": {
   "codemirror_mode": {
    "name": "ipython",
    "version": 3
   },
   "file_extension": ".py",
   "mimetype": "text/x-python",
   "name": "python",
   "nbconvert_exporter": "python",
   "pygments_lexer": "ipython3",
   "version": "3.6.15"
  },
  "papermill": {
   "duration": 6.318167,
   "end_time": "2022-07-24T12:15:35.945070",
   "environment_variables": {},
   "exception": null,
   "input_path": "2020-03-21-covid19exp.ipynb",
   "output_path": "2020-03-21-covid19exp.ipynb",
   "parameters": {},
   "start_time": "2022-07-24T12:15:29.626903",
   "version": "2.0.0"
  }
 },
 "nbformat": 4,
 "nbformat_minor": 5
}