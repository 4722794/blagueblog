{
 "cells": [
  {
   "cell_type": "markdown",
   "id": "muslim-click",
   "metadata": {
    "papermill": {
     "duration": 0.041297,
     "end_time": "2022-01-09T00:28:46.450151",
     "exception": false,
     "start_time": "2022-01-09T00:28:46.408854",
     "status": "completed"
    },
    "tags": []
   },
   "source": [
    "# COVID-19 Case Race\n",
    "> A race chart to see rising cases around the world\n",
    "\n",
    "- author: Hargun Oberoi\n",
    "- image: images/covid-overview.png\n",
    "- hide: false\n",
    "- badges: false"
   ]
  },
  {
   "cell_type": "code",
   "execution_count": 1,
   "id": "proof-material",
   "metadata": {
    "execution": {
     "iopub.execute_input": "2022-01-09T00:28:46.547286Z",
     "iopub.status.busy": "2022-01-09T00:28:46.546634Z",
     "iopub.status.idle": "2022-01-09T00:28:46.938791Z",
     "shell.execute_reply": "2022-01-09T00:28:46.938233Z"
    },
    "papermill": {
     "duration": 0.44223,
     "end_time": "2022-01-09T00:28:46.938944",
     "exception": false,
     "start_time": "2022-01-09T00:28:46.496714",
     "status": "completed"
    },
    "tags": []
   },
   "outputs": [],
   "source": [
    "#hide\n",
    "import numpy as np\n",
    "import pandas as pd\n",
    "from jinja2 import Template\n",
    "from IPython.display import HTML"
   ]
  },
  {
   "cell_type": "code",
   "execution_count": 2,
   "id": "developed-terminology",
   "metadata": {
    "execution": {
     "iopub.execute_input": "2022-01-09T00:28:47.055474Z",
     "iopub.status.busy": "2022-01-09T00:28:47.054631Z",
     "iopub.status.idle": "2022-01-09T00:28:47.057839Z",
     "shell.execute_reply": "2022-01-09T00:28:47.058425Z"
    },
    "papermill": {
     "duration": 0.076101,
     "end_time": "2022-01-09T00:28:47.058589",
     "exception": false,
     "start_time": "2022-01-09T00:28:46.982488",
     "status": "completed"
    },
    "tags": []
   },
   "outputs": [],
   "source": [
    "#hide\n",
    "\n",
    "# FETCH\n",
    "base_url = 'https://raw.githubusercontent.com/pratapvardhan/notebooks/master/covid19/'\n",
    "paths = {\n",
    "    'mapping': base_url + 'mapping_countries.csv',\n",
    "    'overview': base_url + 'overview.tpl'\n",
    "}"
   ]
  },
  {
   "cell_type": "code",
   "execution_count": 3,
   "id": "dynamic-saver",
   "metadata": {
    "execution": {
     "iopub.execute_input": "2022-01-09T00:28:47.163161Z",
     "iopub.status.busy": "2022-01-09T00:28:47.162398Z",
     "iopub.status.idle": "2022-01-09T00:28:47.169037Z",
     "shell.execute_reply": "2022-01-09T00:28:47.168487Z"
    },
    "papermill": {
     "duration": 0.063996,
     "end_time": "2022-01-09T00:28:47.169202",
     "exception": false,
     "start_time": "2022-01-09T00:28:47.105206",
     "status": "completed"
    },
    "tags": []
   },
   "outputs": [
    {
     "data": {
      "text/plain": [
       "'https://raw.githubusercontent.com/pratapvardhan/notebooks/master/covid19/mapping_countries.csv'"
      ]
     },
     "execution_count": 3,
     "metadata": {},
     "output_type": "execute_result"
    }
   ],
   "source": [
    "#hide\n",
    "paths['mapping']"
   ]
  },
  {
   "cell_type": "code",
   "execution_count": 4,
   "id": "urban-software",
   "metadata": {
    "execution": {
     "iopub.execute_input": "2022-01-09T00:28:47.249368Z",
     "iopub.status.busy": "2022-01-09T00:28:47.248446Z",
     "iopub.status.idle": "2022-01-09T00:28:47.251352Z",
     "shell.execute_reply": "2022-01-09T00:28:47.250793Z"
    },
    "papermill": {
     "duration": 0.045598,
     "end_time": "2022-01-09T00:28:47.251482",
     "exception": false,
     "start_time": "2022-01-09T00:28:47.205884",
     "status": "completed"
    },
    "tags": []
   },
   "outputs": [],
   "source": [
    "#hide\n",
    "def get_mappings(url):\n",
    "    df = pd.read_csv(url)\n",
    "    return {\n",
    "        'df': df,\n",
    "        'replace.country': dict(df.dropna(subset=['Name']).set_index('Country')['Name']),\n",
    "        'map.continent': dict(df.set_index('Name')['Continent'])\n",
    "    }"
   ]
  },
  {
   "cell_type": "code",
   "execution_count": 5,
   "id": "intimate-machinery",
   "metadata": {
    "execution": {
     "iopub.execute_input": "2022-01-09T00:28:47.339848Z",
     "iopub.status.busy": "2022-01-09T00:28:47.339163Z",
     "iopub.status.idle": "2022-01-09T00:28:47.371990Z",
     "shell.execute_reply": "2022-01-09T00:28:47.371274Z"
    },
    "papermill": {
     "duration": 0.077505,
     "end_time": "2022-01-09T00:28:47.372133",
     "exception": false,
     "start_time": "2022-01-09T00:28:47.294628",
     "status": "completed"
    },
    "tags": []
   },
   "outputs": [],
   "source": [
    "#hide\n",
    "mapping = get_mappings(paths['mapping'])"
   ]
  },
  {
   "cell_type": "code",
   "execution_count": 6,
   "id": "certified-tactics",
   "metadata": {
    "execution": {
     "iopub.execute_input": "2022-01-09T00:28:47.456343Z",
     "iopub.status.busy": "2022-01-09T00:28:47.455621Z",
     "iopub.status.idle": "2022-01-09T00:28:47.460200Z",
     "shell.execute_reply": "2022-01-09T00:28:47.459657Z"
    },
    "papermill": {
     "duration": 0.05309,
     "end_time": "2022-01-09T00:28:47.460332",
     "exception": false,
     "start_time": "2022-01-09T00:28:47.407242",
     "status": "completed"
    },
    "tags": []
   },
   "outputs": [],
   "source": [
    "#hide\n",
    "def get_template(path):\n",
    "    from urllib.parse import urlparse\n",
    "    if bool(urlparse(path).netloc):\n",
    "        from urllib.request import urlopen\n",
    "        return urlopen(path).read().decode('utf8')\n",
    "    return open(path).read()"
   ]
  },
  {
   "cell_type": "code",
   "execution_count": 7,
   "id": "realistic-blast",
   "metadata": {
    "execution": {
     "iopub.execute_input": "2022-01-09T00:28:47.540271Z",
     "iopub.status.busy": "2022-01-09T00:28:47.539532Z",
     "iopub.status.idle": "2022-01-09T00:28:47.541632Z",
     "shell.execute_reply": "2022-01-09T00:28:47.542105Z"
    },
    "papermill": {
     "duration": 0.044134,
     "end_time": "2022-01-09T00:28:47.542243",
     "exception": false,
     "start_time": "2022-01-09T00:28:47.498109",
     "status": "completed"
    },
    "tags": []
   },
   "outputs": [],
   "source": [
    "#hide\n",
    "def get_frame(name):\n",
    "    url = (\n",
    "        'https://raw.githubusercontent.com/CSSEGISandData/COVID-19/master/csse_covid_19_data/'\n",
    "        f'csse_covid_19_time_series/time_series_covid19_{name}_global.csv')\n",
    "    df = pd.read_csv(url)\n",
    "    # rename countries\n",
    "    df['Country/Region'] = df['Country/Region'].replace(mapping['replace.country'])\n",
    "    return df"
   ]
  },
  {
   "cell_type": "code",
   "execution_count": 8,
   "id": "affiliated-characterization",
   "metadata": {
    "execution": {
     "iopub.execute_input": "2022-01-09T00:28:47.624419Z",
     "iopub.status.busy": "2022-01-09T00:28:47.623436Z",
     "iopub.status.idle": "2022-01-09T00:28:47.627655Z",
     "shell.execute_reply": "2022-01-09T00:28:47.628124Z"
    },
    "papermill": {
     "duration": 0.047001,
     "end_time": "2022-01-09T00:28:47.628293",
     "exception": false,
     "start_time": "2022-01-09T00:28:47.581292",
     "status": "completed"
    },
    "tags": []
   },
   "outputs": [],
   "source": [
    "#hide\n",
    "def get_dates(df):\n",
    "    dt_cols = df.columns[~df.columns.isin(['Province/State', 'Country/Region', 'Lat', 'Long'])]\n",
    "    LAST_DATE_I = -1\n",
    "    # sometimes last column may be empty, then go backwards\n",
    "    for i in range(-1, -len(dt_cols), -1):\n",
    "        if not df[dt_cols[i]].fillna(0).eq(0).all():\n",
    "            LAST_DATE_I = i\n",
    "            break\n",
    "    return LAST_DATE_I, dt_cols"
   ]
  },
  {
   "cell_type": "code",
   "execution_count": 9,
   "id": "recent-optimization",
   "metadata": {
    "execution": {
     "iopub.execute_input": "2022-01-09T00:28:47.708482Z",
     "iopub.status.busy": "2022-01-09T00:28:47.707763Z",
     "iopub.status.idle": "2022-01-09T00:28:48.082953Z",
     "shell.execute_reply": "2022-01-09T00:28:48.083433Z"
    },
    "papermill": {
     "duration": 0.419254,
     "end_time": "2022-01-09T00:28:48.083673",
     "exception": false,
     "start_time": "2022-01-09T00:28:47.664419",
     "status": "completed"
    },
    "tags": []
   },
   "outputs": [],
   "source": [
    "#hide\n",
    "COL_REGION = 'Country/Region'\n",
    "# Confirmed, Recovered, Deaths\n",
    "df = get_frame('confirmed')\n",
    "# dft_: timeseries, dfc_: today country agg\n",
    "dft_cases = df\n",
    "dft_deaths = get_frame('deaths')\n",
    "dft_recovered = get_frame('recovered')\n",
    "LAST_DATE_I, dt_cols = get_dates(df)"
   ]
  },
  {
   "cell_type": "code",
   "execution_count": 10,
   "id": "absolute-copper",
   "metadata": {
    "execution": {
     "iopub.execute_input": "2022-01-09T00:28:48.170825Z",
     "iopub.status.busy": "2022-01-09T00:28:48.170148Z",
     "iopub.status.idle": "2022-01-09T00:28:48.173095Z",
     "shell.execute_reply": "2022-01-09T00:28:48.172474Z"
    },
    "papermill": {
     "duration": 0.048907,
     "end_time": "2022-01-09T00:28:48.173234",
     "exception": false,
     "start_time": "2022-01-09T00:28:48.124327",
     "status": "completed"
    },
    "tags": []
   },
   "outputs": [],
   "source": [
    "#hide\n",
    "LAST_DATE_I, dt_cols = get_dates(df)\n",
    "dt_today =dt_cols[LAST_DATE_I]\n",
    "# dt_5day = dt_cols[LAST_DATE_I - 5]\n",
    "dt_yday = dt_cols[LAST_DATE_I - 1]"
   ]
  },
  {
   "cell_type": "code",
   "execution_count": 11,
   "id": "restricted-sheriff",
   "metadata": {
    "execution": {
     "iopub.execute_input": "2022-01-09T00:28:48.254987Z",
     "iopub.status.busy": "2022-01-09T00:28:48.254258Z",
     "iopub.status.idle": "2022-01-09T00:28:48.261804Z",
     "shell.execute_reply": "2022-01-09T00:28:48.261129Z"
    },
    "papermill": {
     "duration": 0.052109,
     "end_time": "2022-01-09T00:28:48.261943",
     "exception": false,
     "start_time": "2022-01-09T00:28:48.209834",
     "status": "completed"
    },
    "tags": []
   },
   "outputs": [],
   "source": [
    "#hide\n",
    "dfc_cases = dft_cases.groupby(COL_REGION)[dt_today].sum()\n",
    "dfc_deaths = dft_deaths.groupby(COL_REGION)[dt_today].sum()\n",
    "# dfp_cases = dft_cases.groupby(COL_REGION)[dt_5day].sum()\n",
    "# dfp_deaths = dft_deaths.groupby(COL_REGION)[dt_5day].sum()\n",
    "dfp_cases = dft_cases.groupby(COL_REGION)[dt_yday].sum()\n",
    "dfp_deaths = dft_deaths.groupby(COL_REGION)[dt_yday].sum()"
   ]
  },
  {
   "cell_type": "code",
   "execution_count": 12,
   "id": "deluxe-hepatitis",
   "metadata": {
    "execution": {
     "iopub.execute_input": "2022-01-09T00:28:48.345326Z",
     "iopub.status.busy": "2022-01-09T00:28:48.344540Z",
     "iopub.status.idle": "2022-01-09T00:28:48.349625Z",
     "shell.execute_reply": "2022-01-09T00:28:48.350223Z"
    },
    "papermill": {
     "duration": 0.050377,
     "end_time": "2022-01-09T00:28:48.350375",
     "exception": false,
     "start_time": "2022-01-09T00:28:48.299998",
     "status": "completed"
    },
    "tags": []
   },
   "outputs": [],
   "source": [
    "#hide\n",
    "df_table = (pd.DataFrame(dict(Cases = dfc_cases, Deaths = dfc_deaths, PCases = dfp_cases, PDeaths = dfp_deaths))\n",
    "            .sort_values(by = ['Cases','Deaths'], ascending = [False, False])\n",
    "            .reset_index())"
   ]
  },
  {
   "cell_type": "code",
   "execution_count": 13,
   "id": "educational-chancellor",
   "metadata": {
    "execution": {
     "iopub.execute_input": "2022-01-09T00:28:48.444373Z",
     "iopub.status.busy": "2022-01-09T00:28:48.443484Z",
     "iopub.status.idle": "2022-01-09T00:28:48.465928Z",
     "shell.execute_reply": "2022-01-09T00:28:48.465434Z"
    },
    "papermill": {
     "duration": 0.076784,
     "end_time": "2022-01-09T00:28:48.466052",
     "exception": false,
     "start_time": "2022-01-09T00:28:48.389268",
     "status": "completed"
    },
    "tags": []
   },
   "outputs": [
    {
     "data": {
      "text/html": [
       "<div>\n",
       "<style scoped>\n",
       "    .dataframe tbody tr th:only-of-type {\n",
       "        vertical-align: middle;\n",
       "    }\n",
       "\n",
       "    .dataframe tbody tr th {\n",
       "        vertical-align: top;\n",
       "    }\n",
       "\n",
       "    .dataframe thead th {\n",
       "        text-align: right;\n",
       "    }\n",
       "</style>\n",
       "<table border=\"1\" class=\"dataframe\">\n",
       "  <thead>\n",
       "    <tr style=\"text-align: right;\">\n",
       "      <th></th>\n",
       "      <th>Country/Region</th>\n",
       "      <th>Cases</th>\n",
       "      <th>Deaths</th>\n",
       "      <th>PCases</th>\n",
       "      <th>PDeaths</th>\n",
       "      <th>Cases (+)</th>\n",
       "      <th>Deaths (+)</th>\n",
       "      <th>Fatality Rate</th>\n",
       "      <th>Continent</th>\n",
       "    </tr>\n",
       "  </thead>\n",
       "  <tbody>\n",
       "    <tr>\n",
       "      <th>0</th>\n",
       "      <td>US</td>\n",
       "      <td>59388529</td>\n",
       "      <td>836603</td>\n",
       "      <td>58487697</td>\n",
       "      <td>833988</td>\n",
       "      <td>900832</td>\n",
       "      <td>2615</td>\n",
       "      <td>1.41</td>\n",
       "      <td>North America</td>\n",
       "    </tr>\n",
       "    <tr>\n",
       "      <th>1</th>\n",
       "      <td>India</td>\n",
       "      <td>35368372</td>\n",
       "      <td>483463</td>\n",
       "      <td>35226386</td>\n",
       "      <td>483178</td>\n",
       "      <td>141986</td>\n",
       "      <td>285</td>\n",
       "      <td>1.37</td>\n",
       "      <td>Asia</td>\n",
       "    </tr>\n",
       "    <tr>\n",
       "      <th>2</th>\n",
       "      <td>Brazil</td>\n",
       "      <td>22328252</td>\n",
       "      <td>619654</td>\n",
       "      <td>22328252</td>\n",
       "      <td>619654</td>\n",
       "      <td>0</td>\n",
       "      <td>0</td>\n",
       "      <td>2.78</td>\n",
       "      <td>South America</td>\n",
       "    </tr>\n",
       "    <tr>\n",
       "      <th>3</th>\n",
       "      <td>United Kingdom</td>\n",
       "      <td>14280816</td>\n",
       "      <td>150223</td>\n",
       "      <td>14100750</td>\n",
       "      <td>149993</td>\n",
       "      <td>180066</td>\n",
       "      <td>230</td>\n",
       "      <td>1.05</td>\n",
       "      <td>Europe</td>\n",
       "    </tr>\n",
       "    <tr>\n",
       "      <th>4</th>\n",
       "      <td>France</td>\n",
       "      <td>11623327</td>\n",
       "      <td>126202</td>\n",
       "      <td>11290010</td>\n",
       "      <td>126002</td>\n",
       "      <td>333317</td>\n",
       "      <td>200</td>\n",
       "      <td>1.09</td>\n",
       "      <td>Europe</td>\n",
       "    </tr>\n",
       "  </tbody>\n",
       "</table>\n",
       "</div>"
      ],
      "text/plain": [
       "   Country/Region     Cases  Deaths    PCases  PDeaths  Cases (+)  Deaths (+)  \\\n",
       "0              US  59388529  836603  58487697   833988     900832        2615   \n",
       "1           India  35368372  483463  35226386   483178     141986         285   \n",
       "2          Brazil  22328252  619654  22328252   619654          0           0   \n",
       "3  United Kingdom  14280816  150223  14100750   149993     180066         230   \n",
       "4          France  11623327  126202  11290010   126002     333317         200   \n",
       "\n",
       "   Fatality Rate      Continent  \n",
       "0           1.41  North America  \n",
       "1           1.37           Asia  \n",
       "2           2.78  South America  \n",
       "3           1.05         Europe  \n",
       "4           1.09         Europe  "
      ]
     },
     "execution_count": 13,
     "metadata": {},
     "output_type": "execute_result"
    }
   ],
   "source": [
    "#hide\n",
    "for c in 'Cases, Deaths'.split(', '):\n",
    "    df_table[f'{c} (+)'] = (df_table[c] - df_table[f'P{c}']).clip(0)\n",
    "    #Clip ça veut dire, les chiffres negatif sont interdit\n",
    "df_table['Fatality Rate'] = (100* df_table['Deaths']/ df_table['Cases']).round(2)\n",
    "df_table['Continent'] = df_table['Country/Region'].map(mapping['map.continent'])\n",
    "df_table.head(5)"
   ]
  },
  {
   "cell_type": "code",
   "execution_count": 14,
   "id": "aboriginal-bulgaria",
   "metadata": {
    "execution": {
     "iopub.execute_input": "2022-01-09T00:28:48.545644Z",
     "iopub.status.busy": "2022-01-09T00:28:48.544911Z",
     "iopub.status.idle": "2022-01-09T00:28:48.548215Z",
     "shell.execute_reply": "2022-01-09T00:28:48.548728Z"
    },
    "papermill": {
     "duration": 0.046359,
     "end_time": "2022-01-09T00:28:48.548883",
     "exception": false,
     "start_time": "2022-01-09T00:28:48.502524",
     "status": "completed"
    },
    "tags": []
   },
   "outputs": [],
   "source": [
    "#hide\n",
    "#delete problematic countries from table\n",
    "df_table = df_table[~df_table['Country/Region'].isin(['Cape Verde', 'Cruise Ship', 'Kosovo'])]"
   ]
  },
  {
   "cell_type": "code",
   "execution_count": 15,
   "id": "fantastic-effect",
   "metadata": {
    "execution": {
     "iopub.execute_input": "2022-01-09T00:28:48.630968Z",
     "iopub.status.busy": "2022-01-09T00:28:48.630327Z",
     "iopub.status.idle": "2022-01-09T00:28:48.676367Z",
     "shell.execute_reply": "2022-01-09T00:28:48.676869Z"
    },
    "papermill": {
     "duration": 0.090947,
     "end_time": "2022-01-09T00:28:48.677104",
     "exception": false,
     "start_time": "2022-01-09T00:28:48.586157",
     "status": "completed"
    },
    "tags": []
   },
   "outputs": [
    {
     "data": {
      "text/html": [
       "<div>\n",
       "<style scoped>\n",
       "    .dataframe tbody tr th:only-of-type {\n",
       "        vertical-align: middle;\n",
       "    }\n",
       "\n",
       "    .dataframe tbody tr th {\n",
       "        vertical-align: top;\n",
       "    }\n",
       "\n",
       "    .dataframe thead th {\n",
       "        text-align: right;\n",
       "    }\n",
       "</style>\n",
       "<table border=\"1\" class=\"dataframe\">\n",
       "  <thead>\n",
       "    <tr style=\"text-align: right;\">\n",
       "      <th></th>\n",
       "      <th>Country/Region</th>\n",
       "      <th>Cases</th>\n",
       "      <th>Deaths</th>\n",
       "      <th>PCases</th>\n",
       "      <th>PDeaths</th>\n",
       "      <th>Cases (+)</th>\n",
       "      <th>Deaths (+)</th>\n",
       "      <th>Fatality Rate</th>\n",
       "      <th>Continent</th>\n",
       "    </tr>\n",
       "  </thead>\n",
       "  <tbody>\n",
       "    <tr>\n",
       "      <th>0</th>\n",
       "      <td>US</td>\n",
       "      <td>59388529</td>\n",
       "      <td>836603</td>\n",
       "      <td>58487697</td>\n",
       "      <td>833988</td>\n",
       "      <td>900832</td>\n",
       "      <td>2615</td>\n",
       "      <td>1.4</td>\n",
       "      <td>North America</td>\n",
       "    </tr>\n",
       "    <tr>\n",
       "      <th>1</th>\n",
       "      <td>India</td>\n",
       "      <td>35368372</td>\n",
       "      <td>483463</td>\n",
       "      <td>35226386</td>\n",
       "      <td>483178</td>\n",
       "      <td>141986</td>\n",
       "      <td>285</td>\n",
       "      <td>1.4</td>\n",
       "      <td>Asia</td>\n",
       "    </tr>\n",
       "    <tr>\n",
       "      <th>2</th>\n",
       "      <td>Brazil</td>\n",
       "      <td>22328252</td>\n",
       "      <td>619654</td>\n",
       "      <td>22328252</td>\n",
       "      <td>619654</td>\n",
       "      <td>0</td>\n",
       "      <td>0</td>\n",
       "      <td>2.8</td>\n",
       "      <td>South America</td>\n",
       "    </tr>\n",
       "    <tr>\n",
       "      <th>3</th>\n",
       "      <td>United Kingdom</td>\n",
       "      <td>14280816</td>\n",
       "      <td>150223</td>\n",
       "      <td>14100750</td>\n",
       "      <td>149993</td>\n",
       "      <td>180066</td>\n",
       "      <td>230</td>\n",
       "      <td>1.1</td>\n",
       "      <td>Europe</td>\n",
       "    </tr>\n",
       "    <tr>\n",
       "      <th>4</th>\n",
       "      <td>France</td>\n",
       "      <td>11623327</td>\n",
       "      <td>126202</td>\n",
       "      <td>11290010</td>\n",
       "      <td>126002</td>\n",
       "      <td>333317</td>\n",
       "      <td>200</td>\n",
       "      <td>1.1</td>\n",
       "      <td>Europe</td>\n",
       "    </tr>\n",
       "  </tbody>\n",
       "</table>\n",
       "</div>"
      ],
      "text/plain": [
       "   Country/Region     Cases  Deaths    PCases  PDeaths  Cases (+)  Deaths (+)  \\\n",
       "0              US  59388529  836603  58487697   833988     900832        2615   \n",
       "1           India  35368372  483463  35226386   483178     141986         285   \n",
       "2          Brazil  22328252  619654  22328252   619654          0           0   \n",
       "3  United Kingdom  14280816  150223  14100750   149993     180066         230   \n",
       "4          France  11623327  126202  11290010   126002     333317         200   \n",
       "\n",
       "   Fatality Rate      Continent  \n",
       "0            1.4  North America  \n",
       "1            1.4           Asia  \n",
       "2            2.8  South America  \n",
       "3            1.1         Europe  \n",
       "4            1.1         Europe  "
      ]
     },
     "execution_count": 15,
     "metadata": {},
     "output_type": "execute_result"
    }
   ],
   "source": [
    "#hide\n",
    "df_table = (pd.DataFrame(dict(Cases=dfc_cases, Deaths=dfc_deaths, PCases=dfp_cases, PDeaths=dfp_deaths))\n",
    "             .sort_values(by=['Cases', 'Deaths'], ascending=[False, False])\n",
    "             .reset_index())\n",
    "df_table.rename(columns={'index': 'Country/Region'}, inplace=True)\n",
    "for c in 'Cases, Deaths'.split(', '):\n",
    "    df_table[f'{c} (+)'] = (df_table[c] - df_table[f'P{c}']).clip(0)  # DATA BUG\n",
    "df_table['Fatality Rate'] = (100 * df_table['Deaths'] / df_table['Cases']).round(1)\n",
    "df_table['Continent'] = df_table['Country/Region'].map(mapping['map.continent'])\n",
    "df_table.head(5)"
   ]
  },
  {
   "cell_type": "code",
   "execution_count": 16,
   "id": "fewer-occasion",
   "metadata": {
    "execution": {
     "iopub.execute_input": "2022-01-09T00:28:48.763433Z",
     "iopub.status.busy": "2022-01-09T00:28:48.762654Z",
     "iopub.status.idle": "2022-01-09T00:28:48.765592Z",
     "shell.execute_reply": "2022-01-09T00:28:48.764658Z"
    },
    "papermill": {
     "duration": 0.048186,
     "end_time": "2022-01-09T00:28:48.765745",
     "exception": false,
     "start_time": "2022-01-09T00:28:48.717559",
     "status": "completed"
    },
    "tags": []
   },
   "outputs": [],
   "source": [
    "#hide\n",
    "#delete problematic countries from table\n",
    "df_table = df_table[~df_table['Country/Region'].isin(['Cape Verde', 'Cruise Ship', 'Kosovo'])]"
   ]
  },
  {
   "cell_type": "code",
   "execution_count": 17,
   "id": "related-center",
   "metadata": {
    "execution": {
     "iopub.execute_input": "2022-01-09T00:28:48.854115Z",
     "iopub.status.busy": "2022-01-09T00:28:48.853438Z",
     "iopub.status.idle": "2022-01-09T00:28:48.864990Z",
     "shell.execute_reply": "2022-01-09T00:28:48.865583Z"
    },
    "papermill": {
     "duration": 0.060573,
     "end_time": "2022-01-09T00:28:48.865733",
     "exception": false,
     "start_time": "2022-01-09T00:28:48.805160",
     "status": "completed"
    },
    "tags": []
   },
   "outputs": [],
   "source": [
    "#hide\n",
    "metrics = [df_table.columns[index] for index in [1,2,5,6]]\n",
    "# s_china = df_table[df_table['Country/Region'].eq('China')][metrics].sum().add_prefix('China ')\n",
    "s_us = df_table[df_table['Country/Region'].eq('US')][metrics].sum().add_prefix('US ')\n",
    "s_eu = df_table[df_table['Continent'].eq('Europe')][metrics].sum().add_prefix('EU ')\n",
    "s_ind = df_table[df_table['Country/Region'].eq('India')][metrics].sum().add_prefix('India ')\n",
    "summary = {'updated': pd.to_datetime(dt_today), 'since': pd.to_datetime(dt_yday)}\n",
    "summary = {'updated': pd.to_datetime(dt_today), 'since': pd.to_datetime(dt_yday)}\n",
    "summary = {**summary, **df_table[metrics].sum(), **s_ind, **s_us, **s_eu}"
   ]
  },
  {
   "cell_type": "code",
   "execution_count": 18,
   "id": "engaging-syndrome",
   "metadata": {
    "execution": {
     "iopub.execute_input": "2022-01-09T00:28:48.948882Z",
     "iopub.status.busy": "2022-01-09T00:28:48.948195Z",
     "iopub.status.idle": "2022-01-09T00:28:48.964179Z",
     "shell.execute_reply": "2022-01-09T00:28:48.963537Z"
    },
    "papermill": {
     "duration": 0.059455,
     "end_time": "2022-01-09T00:28:48.964329",
     "exception": false,
     "start_time": "2022-01-09T00:28:48.904874",
     "status": "completed"
    },
    "tags": []
   },
   "outputs": [],
   "source": [
    "#hide\n",
    "dft_ct_new_cases = dft_cases.groupby(COL_REGION)[dt_cols].sum().diff(axis=1).fillna(0).astype(int)"
   ]
  },
  {
   "cell_type": "code",
   "execution_count": 19,
   "id": "neutral-assignment",
   "metadata": {
    "execution": {
     "iopub.execute_input": "2022-01-09T00:28:49.049426Z",
     "iopub.status.busy": "2022-01-09T00:28:49.048583Z",
     "iopub.status.idle": "2022-01-09T00:28:49.050574Z",
     "shell.execute_reply": "2022-01-09T00:28:49.051212Z"
    },
    "papermill": {
     "duration": 0.048428,
     "end_time": "2022-01-09T00:28:49.051399",
     "exception": false,
     "start_time": "2022-01-09T00:28:49.002971",
     "status": "completed"
    },
    "tags": []
   },
   "outputs": [],
   "source": [
    "#hide\n",
    "everydaycases = dft_ct_new_cases.cumsum(axis=1)"
   ]
  },
  {
   "cell_type": "code",
   "execution_count": 20,
   "id": "parliamentary-calgary",
   "metadata": {
    "execution": {
     "iopub.execute_input": "2022-01-09T00:28:49.135506Z",
     "iopub.status.busy": "2022-01-09T00:28:49.134843Z",
     "iopub.status.idle": "2022-01-09T00:28:49.912981Z",
     "shell.execute_reply": "2022-01-09T00:28:49.912356Z"
    },
    "papermill": {
     "duration": 0.822938,
     "end_time": "2022-01-09T00:28:49.913167",
     "exception": false,
     "start_time": "2022-01-09T00:28:49.090229",
     "status": "completed"
    },
    "tags": []
   },
   "outputs": [],
   "source": [
    "#hide\n",
    "import pandas as pd\n",
    "import matplotlib.pyplot as plt\n",
    "import matplotlib.ticker as ticker\n",
    "import matplotlib.animation as animation\n",
    "from IPython.display import HTML"
   ]
  },
  {
   "cell_type": "code",
   "execution_count": 21,
   "id": "lasting-extraction",
   "metadata": {
    "execution": {
     "iopub.execute_input": "2022-01-09T00:28:49.998528Z",
     "iopub.status.busy": "2022-01-09T00:28:49.997714Z",
     "iopub.status.idle": "2022-01-09T00:28:50.005305Z",
     "shell.execute_reply": "2022-01-09T00:28:50.006078Z"
    },
    "papermill": {
     "duration": 0.054183,
     "end_time": "2022-01-09T00:28:50.006305",
     "exception": false,
     "start_time": "2022-01-09T00:28:49.952122",
     "status": "completed"
    },
    "tags": []
   },
   "outputs": [],
   "source": [
    "#hide\n",
    "t = everydaycases.stack()"
   ]
  },
  {
   "cell_type": "code",
   "execution_count": 22,
   "id": "premier-sleeve",
   "metadata": {
    "execution": {
     "iopub.execute_input": "2022-01-09T00:28:50.091463Z",
     "iopub.status.busy": "2022-01-09T00:28:50.090797Z",
     "iopub.status.idle": "2022-01-09T00:28:50.103540Z",
     "shell.execute_reply": "2022-01-09T00:28:50.102798Z"
    },
    "papermill": {
     "duration": 0.058083,
     "end_time": "2022-01-09T00:28:50.103799",
     "exception": false,
     "start_time": "2022-01-09T00:28:50.045716",
     "status": "completed"
    },
    "tags": []
   },
   "outputs": [],
   "source": [
    "#hide\n",
    "g = t.reset_index(['Country/Region'])"
   ]
  },
  {
   "cell_type": "code",
   "execution_count": 23,
   "id": "distributed-pittsburgh",
   "metadata": {
    "execution": {
     "iopub.execute_input": "2022-01-09T00:28:50.185691Z",
     "iopub.status.busy": "2022-01-09T00:28:50.185036Z",
     "iopub.status.idle": "2022-01-09T00:28:50.188609Z",
     "shell.execute_reply": "2022-01-09T00:28:50.187964Z"
    },
    "papermill": {
     "duration": 0.045603,
     "end_time": "2022-01-09T00:28:50.188805",
     "exception": false,
     "start_time": "2022-01-09T00:28:50.143202",
     "status": "completed"
    },
    "tags": []
   },
   "outputs": [],
   "source": [
    "#hide\n",
    "g.index.name = 'date'"
   ]
  },
  {
   "cell_type": "code",
   "execution_count": 24,
   "id": "naked-donor",
   "metadata": {
    "execution": {
     "iopub.execute_input": "2022-01-09T00:28:50.271161Z",
     "iopub.status.busy": "2022-01-09T00:28:50.270386Z",
     "iopub.status.idle": "2022-01-09T00:28:50.274520Z",
     "shell.execute_reply": "2022-01-09T00:28:50.275017Z"
    },
    "papermill": {
     "duration": 0.045392,
     "end_time": "2022-01-09T00:28:50.275244",
     "exception": false,
     "start_time": "2022-01-09T00:28:50.229852",
     "status": "completed"
    },
    "tags": []
   },
   "outputs": [],
   "source": [
    "# #hide\n",
    "# g = g.reset_index(['date'])"
   ]
  },
  {
   "cell_type": "code",
   "execution_count": 25,
   "id": "incomplete-mustang",
   "metadata": {
    "execution": {
     "iopub.execute_input": "2022-01-09T00:28:50.364665Z",
     "iopub.status.busy": "2022-01-09T00:28:50.363849Z",
     "iopub.status.idle": "2022-01-09T00:28:50.366088Z",
     "shell.execute_reply": "2022-01-09T00:28:50.365528Z"
    },
    "papermill": {
     "duration": 0.047859,
     "end_time": "2022-01-09T00:28:50.366220",
     "exception": false,
     "start_time": "2022-01-09T00:28:50.318361",
     "status": "completed"
    },
    "tags": []
   },
   "outputs": [],
   "source": [
    "#hide\n",
    "# g.head()"
   ]
  },
  {
   "cell_type": "code",
   "execution_count": 26,
   "id": "specific-kruger",
   "metadata": {
    "execution": {
     "iopub.execute_input": "2022-01-09T00:28:50.449844Z",
     "iopub.status.busy": "2022-01-09T00:28:50.449224Z",
     "iopub.status.idle": "2022-01-09T00:28:50.452657Z",
     "shell.execute_reply": "2022-01-09T00:28:50.452148Z"
    },
    "papermill": {
     "duration": 0.04893,
     "end_time": "2022-01-09T00:28:50.452784",
     "exception": false,
     "start_time": "2022-01-09T00:28:50.403854",
     "status": "completed"
    },
    "tags": []
   },
   "outputs": [],
   "source": [
    "#hide\n",
    "# g.columns = ['date','country','cases']"
   ]
  },
  {
   "cell_type": "code",
   "execution_count": 27,
   "id": "tender-conversion",
   "metadata": {
    "execution": {
     "iopub.execute_input": "2022-01-09T00:28:50.536607Z",
     "iopub.status.busy": "2022-01-09T00:28:50.535972Z",
     "iopub.status.idle": "2022-01-09T00:28:50.540687Z",
     "shell.execute_reply": "2022-01-09T00:28:50.540135Z"
    },
    "papermill": {
     "duration": 0.050988,
     "end_time": "2022-01-09T00:28:50.540812",
     "exception": false,
     "start_time": "2022-01-09T00:28:50.489824",
     "status": "completed"
    },
    "tags": []
   },
   "outputs": [],
   "source": [
    "#hide\n",
    "# g['continent'] = g.country"
   ]
  },
  {
   "cell_type": "code",
   "execution_count": 28,
   "id": "substantial-wilderness",
   "metadata": {
    "execution": {
     "iopub.execute_input": "2022-01-09T00:28:50.638343Z",
     "iopub.status.busy": "2022-01-09T00:28:50.636759Z",
     "iopub.status.idle": "2022-01-09T00:28:50.639087Z",
     "shell.execute_reply": "2022-01-09T00:28:50.639710Z"
    },
    "papermill": {
     "duration": 0.048148,
     "end_time": "2022-01-09T00:28:50.639862",
     "exception": false,
     "start_time": "2022-01-09T00:28:50.591714",
     "status": "completed"
    },
    "tags": []
   },
   "outputs": [],
   "source": [
    "#hide\n",
    "# cols = list(g.columns.values)"
   ]
  },
  {
   "cell_type": "code",
   "execution_count": 29,
   "id": "solved-farming",
   "metadata": {
    "execution": {
     "iopub.execute_input": "2022-01-09T00:28:50.726731Z",
     "iopub.status.busy": "2022-01-09T00:28:50.725832Z",
     "iopub.status.idle": "2022-01-09T00:28:50.728475Z",
     "shell.execute_reply": "2022-01-09T00:28:50.727949Z"
    },
    "papermill": {
     "duration": 0.046937,
     "end_time": "2022-01-09T00:28:50.728603",
     "exception": false,
     "start_time": "2022-01-09T00:28:50.681666",
     "status": "completed"
    },
    "tags": []
   },
   "outputs": [],
   "source": [
    "#hide\n",
    "# cols.insert(0, cols.pop())"
   ]
  },
  {
   "cell_type": "code",
   "execution_count": 30,
   "id": "executed-adoption",
   "metadata": {
    "execution": {
     "iopub.execute_input": "2022-01-09T00:28:50.812115Z",
     "iopub.status.busy": "2022-01-09T00:28:50.811316Z",
     "iopub.status.idle": "2022-01-09T00:28:50.813464Z",
     "shell.execute_reply": "2022-01-09T00:28:50.814262Z"
    },
    "papermill": {
     "duration": 0.048645,
     "end_time": "2022-01-09T00:28:50.814406",
     "exception": false,
     "start_time": "2022-01-09T00:28:50.765761",
     "status": "completed"
    },
    "tags": []
   },
   "outputs": [],
   "source": [
    "#hide\n",
    "# g = g[cols]"
   ]
  },
  {
   "cell_type": "code",
   "execution_count": 31,
   "id": "subject-dublin",
   "metadata": {
    "execution": {
     "iopub.execute_input": "2022-01-09T00:28:50.892883Z",
     "iopub.status.busy": "2022-01-09T00:28:50.892245Z",
     "iopub.status.idle": "2022-01-09T00:28:50.896158Z",
     "shell.execute_reply": "2022-01-09T00:28:50.896686Z"
    },
    "papermill": {
     "duration": 0.045005,
     "end_time": "2022-01-09T00:28:50.896837",
     "exception": false,
     "start_time": "2022-01-09T00:28:50.851832",
     "status": "completed"
    },
    "tags": []
   },
   "outputs": [],
   "source": [
    "#hide\n",
    "# g['continent'] = g['continent'].map(mapping['map.continent'])"
   ]
  },
  {
   "cell_type": "code",
   "execution_count": 32,
   "id": "freelance-scout",
   "metadata": {
    "execution": {
     "iopub.execute_input": "2022-01-09T00:28:50.979151Z",
     "iopub.status.busy": "2022-01-09T00:28:50.978360Z",
     "iopub.status.idle": "2022-01-09T00:28:50.982876Z",
     "shell.execute_reply": "2022-01-09T00:28:50.982341Z"
    },
    "papermill": {
     "duration": 0.045067,
     "end_time": "2022-01-09T00:28:50.982999",
     "exception": false,
     "start_time": "2022-01-09T00:28:50.937932",
     "status": "completed"
    },
    "tags": []
   },
   "outputs": [],
   "source": [
    "#hide\n",
    "# g.head()"
   ]
  },
  {
   "cell_type": "code",
   "execution_count": 33,
   "id": "limited-engine",
   "metadata": {
    "execution": {
     "iopub.execute_input": "2022-01-09T00:28:51.066701Z",
     "iopub.status.busy": "2022-01-09T00:28:51.066033Z",
     "iopub.status.idle": "2022-01-09T00:28:51.068397Z",
     "shell.execute_reply": "2022-01-09T00:28:51.067747Z"
    },
    "papermill": {
     "duration": 0.044708,
     "end_time": "2022-01-09T00:28:51.068521",
     "exception": false,
     "start_time": "2022-01-09T00:28:51.023813",
     "status": "completed"
    },
    "tags": []
   },
   "outputs": [],
   "source": [
    "# hide\n",
    "# g['date'] = g['date'].astype('datetime64[ns]')"
   ]
  },
  {
   "cell_type": "code",
   "execution_count": 34,
   "id": "sophisticated-supervisor",
   "metadata": {
    "execution": {
     "iopub.execute_input": "2022-01-09T00:28:51.158336Z",
     "iopub.status.busy": "2022-01-09T00:28:51.157579Z",
     "iopub.status.idle": "2022-01-09T00:28:51.161953Z",
     "shell.execute_reply": "2022-01-09T00:28:51.161447Z"
    },
    "papermill": {
     "duration": 0.053939,
     "end_time": "2022-01-09T00:28:51.162089",
     "exception": false,
     "start_time": "2022-01-09T00:28:51.108150",
     "status": "completed"
    },
    "tags": []
   },
   "outputs": [],
   "source": [
    "#hide\n",
    "# g['date'] = g.date.dt.dayofyear"
   ]
  },
  {
   "cell_type": "code",
   "execution_count": 35,
   "id": "inside-dubai",
   "metadata": {
    "execution": {
     "iopub.execute_input": "2022-01-09T00:28:51.246013Z",
     "iopub.status.busy": "2022-01-09T00:28:51.245350Z",
     "iopub.status.idle": "2022-01-09T00:28:51.248574Z",
     "shell.execute_reply": "2022-01-09T00:28:51.247962Z"
    },
    "papermill": {
     "duration": 0.048546,
     "end_time": "2022-01-09T00:28:51.248723",
     "exception": false,
     "start_time": "2022-01-09T00:28:51.200177",
     "status": "completed"
    },
    "tags": []
   },
   "outputs": [],
   "source": [
    "#hide\n",
    "# g = g.rename(columns= {'continent':'group','country':'name','cases':'value'})"
   ]
  },
  {
   "cell_type": "code",
   "execution_count": 36,
   "id": "fleet-motorcycle",
   "metadata": {
    "execution": {
     "iopub.execute_input": "2022-01-09T00:28:51.330037Z",
     "iopub.status.busy": "2022-01-09T00:28:51.329387Z",
     "iopub.status.idle": "2022-01-09T00:28:51.333279Z",
     "shell.execute_reply": "2022-01-09T00:28:51.333826Z"
    },
    "papermill": {
     "duration": 0.046355,
     "end_time": "2022-01-09T00:28:51.334030",
     "exception": false,
     "start_time": "2022-01-09T00:28:51.287675",
     "status": "completed"
    },
    "tags": []
   },
   "outputs": [],
   "source": [
    "#hide\n",
    "# cols = ['name','group','day','value']"
   ]
  },
  {
   "cell_type": "code",
   "execution_count": 37,
   "id": "continued-sleeping",
   "metadata": {
    "execution": {
     "iopub.execute_input": "2022-01-09T00:28:51.419509Z",
     "iopub.status.busy": "2022-01-09T00:28:51.418808Z",
     "iopub.status.idle": "2022-01-09T00:28:51.422405Z",
     "shell.execute_reply": "2022-01-09T00:28:51.422930Z"
    },
    "papermill": {
     "duration": 0.049476,
     "end_time": "2022-01-09T00:28:51.423076",
     "exception": false,
     "start_time": "2022-01-09T00:28:51.373600",
     "status": "completed"
    },
    "tags": []
   },
   "outputs": [],
   "source": [
    "#hide\n",
    "# g.rename(columns= {'date':'day'},inplace = True)"
   ]
  },
  {
   "cell_type": "code",
   "execution_count": 38,
   "id": "major-fight",
   "metadata": {
    "execution": {
     "iopub.execute_input": "2022-01-09T00:28:51.518719Z",
     "iopub.status.busy": "2022-01-09T00:28:51.518010Z",
     "iopub.status.idle": "2022-01-09T00:28:51.520056Z",
     "shell.execute_reply": "2022-01-09T00:28:51.520528Z"
    },
    "papermill": {
     "duration": 0.059415,
     "end_time": "2022-01-09T00:28:51.520668",
     "exception": false,
     "start_time": "2022-01-09T00:28:51.461253",
     "status": "completed"
    },
    "tags": []
   },
   "outputs": [],
   "source": [
    "#hide\n",
    "# g = g[cols]"
   ]
  },
  {
   "cell_type": "code",
   "execution_count": 39,
   "id": "structured-mobile",
   "metadata": {
    "execution": {
     "iopub.execute_input": "2022-01-09T00:28:51.607139Z",
     "iopub.status.busy": "2022-01-09T00:28:51.606436Z",
     "iopub.status.idle": "2022-01-09T00:28:51.610995Z",
     "shell.execute_reply": "2022-01-09T00:28:51.611491Z"
    },
    "papermill": {
     "duration": 0.052898,
     "end_time": "2022-01-09T00:28:51.611646",
     "exception": false,
     "start_time": "2022-01-09T00:28:51.558748",
     "status": "completed"
    },
    "tags": []
   },
   "outputs": [],
   "source": [
    "# #hide\n",
    "# g = g[g.group.notna()]"
   ]
  },
  {
   "cell_type": "code",
   "execution_count": 40,
   "id": "determined-closing",
   "metadata": {
    "execution": {
     "iopub.execute_input": "2022-01-09T00:28:51.695791Z",
     "iopub.status.busy": "2022-01-09T00:28:51.695034Z",
     "iopub.status.idle": "2022-01-09T00:28:51.698373Z",
     "shell.execute_reply": "2022-01-09T00:28:51.697779Z"
    },
    "papermill": {
     "duration": 0.046665,
     "end_time": "2022-01-09T00:28:51.698511",
     "exception": false,
     "start_time": "2022-01-09T00:28:51.651846",
     "status": "completed"
    },
    "tags": []
   },
   "outputs": [],
   "source": [
    "# #hide\n",
    "# colors = dict(zip(\n",
    "#     [\"Oceania\", \"Europe\", \"Asia\", \"South America\", \"Middle East\", \"North America\", \"Africa\"],\n",
    "#     [\"#adb0ff\", \"#ffb3ff\", \"#90d595\", \"#e48381\", \"#aafbff\", \"#f7bb5f\", \"#eafb50\"]\n",
    "# ))\n",
    "# group_lk = g.set_index('name')['group'].to_dict()"
   ]
  },
  {
   "cell_type": "code",
   "execution_count": null,
   "id": "gross-drinking",
   "metadata": {
    "papermill": {
     "duration": 0.04047,
     "end_time": "2022-01-09T00:28:51.780779",
     "exception": false,
     "start_time": "2022-01-09T00:28:51.740309",
     "status": "completed"
    },
    "tags": []
   },
   "outputs": [],
   "source": []
  },
  {
   "cell_type": "code",
   "execution_count": 41,
   "id": "subject-macintosh",
   "metadata": {
    "execution": {
     "iopub.execute_input": "2022-01-09T00:28:51.868492Z",
     "iopub.status.busy": "2022-01-09T00:28:51.867632Z",
     "iopub.status.idle": "2022-01-09T00:28:51.872094Z",
     "shell.execute_reply": "2022-01-09T00:28:51.872605Z"
    },
    "papermill": {
     "duration": 0.050729,
     "end_time": "2022-01-09T00:28:51.872756",
     "exception": false,
     "start_time": "2022-01-09T00:28:51.822027",
     "status": "completed"
    },
    "tags": []
   },
   "outputs": [],
   "source": [
    "# #hide\n",
    "# fig, ax = plt.subplots(figsize=(15, 8))\n",
    "\n",
    "# def draw_barchart(current_day):\n",
    "#     dff = g[g['day'].eq(current_day)].sort_values(by='value', ascending=True).tail(10)\n",
    "#     ax.clear()\n",
    "#     ax.barh(dff['name'], dff['value'], color=[colors[group_lk[x]] for x in dff['name']])\n",
    "#     dx = dff['value'].max() / 200\n",
    "    \n",
    "#     for i, (value, name) in enumerate(zip(dff['value'], dff['name'])):\n",
    "#         ax.text(value-dx, i,     name,           size=14, weight=600, ha='right', va='bottom')\n",
    "#         ax.text(value-dx, i-.25, group_lk[name], size=10, color='#444444', ha='right', va='baseline')\n",
    "#         ax.text(value+dx, i,     f'{value:,.0f}',  size=14, ha='left',  va='center')\n",
    "#     ax.text(1, 0.4, current_day, transform=ax.transAxes, color='#777777', size=46, ha='right', weight=800)\n",
    "#     ax.text(0, 1.06, 'Population (thousands)', transform=ax.transAxes, size=12, color='#777777')\n",
    "#     ax.xaxis.set_major_formatter(ticker.StrMethodFormatter('{x:,.0f}'))\n",
    "#     ax.xaxis.set_ticks_position('top')\n",
    "#     ax.tick_params(axis='x', colors='#777777', labelsize=12)\n",
    "#     ax.set_yticks([])\n",
    "#     ax.margins(0, 0.01)\n",
    "#     ax.grid(which='major', axis='x', linestyle='-')\n",
    "#     ax.set_axisbelow(True)\n",
    "    \n",
    "#     ax.text(0, 1.15, 'Coronavirus',\n",
    "#             transform=ax.transAxes, size=24, weight=600, ha='left', va='top')\n",
    "# #     ax.text(1, 0, 'by @pratapvardhan; credit @jburnmurdoch', transform=ax.transAxes, color='#777777', ha='right',\n",
    "# #             bbox=dict(facecolor='white', alpha=0.8, edgecolor='white'))\n",
    "#     plt.box(False)"
   ]
  },
  {
   "cell_type": "code",
   "execution_count": 42,
   "id": "sexual-wages",
   "metadata": {
    "execution": {
     "iopub.execute_input": "2022-01-09T00:28:51.953004Z",
     "iopub.status.busy": "2022-01-09T00:28:51.952255Z",
     "iopub.status.idle": "2022-01-09T00:28:51.955052Z",
     "shell.execute_reply": "2022-01-09T00:28:51.954475Z"
    },
    "papermill": {
     "duration": 0.043948,
     "end_time": "2022-01-09T00:28:51.955169",
     "exception": false,
     "start_time": "2022-01-09T00:28:51.911221",
     "status": "completed"
    },
    "tags": []
   },
   "outputs": [],
   "source": [
    "# #hide_input\n",
    "# fig, ax = plt.subplots(figsize=(15, 8))\n",
    "# animator = animation.FuncAnimation(fig, draw_barchart, frames=range(g.day.values.min(), g.day.values.max()))\n",
    "# HTML(animator.to_jshtml())\n",
    "# # or use animator.to_html5_video() or animator.save() "
   ]
  },
  {
   "cell_type": "code",
   "execution_count": null,
   "id": "australian-container",
   "metadata": {
    "papermill": {
     "duration": 0.040017,
     "end_time": "2022-01-09T00:28:52.040405",
     "exception": false,
     "start_time": "2022-01-09T00:28:52.000388",
     "status": "completed"
    },
    "tags": []
   },
   "outputs": [],
   "source": []
  },
  {
   "cell_type": "code",
   "execution_count": null,
   "id": "mediterranean-pontiac",
   "metadata": {
    "papermill": {
     "duration": 0.038001,
     "end_time": "2022-01-09T00:28:52.116845",
     "exception": false,
     "start_time": "2022-01-09T00:28:52.078844",
     "status": "completed"
    },
    "tags": []
   },
   "outputs": [],
   "source": []
  },
  {
   "cell_type": "code",
   "execution_count": null,
   "id": "aging-legislature",
   "metadata": {
    "papermill": {
     "duration": 0.038465,
     "end_time": "2022-01-09T00:28:52.194160",
     "exception": false,
     "start_time": "2022-01-09T00:28:52.155695",
     "status": "completed"
    },
    "tags": []
   },
   "outputs": [],
   "source": []
  }
 ],
 "metadata": {
  "kernelspec": {
   "display_name": "Python 3",
   "language": "python",
   "name": "python3"
  },
  "language_info": {
   "codemirror_mode": {
    "name": "ipython",
    "version": 3
   },
   "file_extension": ".py",
   "mimetype": "text/x-python",
   "name": "python",
   "nbconvert_exporter": "python",
   "pygments_lexer": "ipython3",
   "version": "3.6.15"
  },
  "papermill": {
   "duration": 7.555783,
   "end_time": "2022-01-09T00:28:52.645646",
   "environment_variables": {},
   "exception": null,
   "input_path": "2020-03-21-covid19exp.ipynb",
   "output_path": "2020-03-21-covid19exp.ipynb",
   "parameters": {},
   "start_time": "2022-01-09T00:28:45.089863",
   "version": "2.0.0"
  }
 },
 "nbformat": 4,
 "nbformat_minor": 5
}