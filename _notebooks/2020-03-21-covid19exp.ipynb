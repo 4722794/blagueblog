{
 "cells": [
  {
   "cell_type": "markdown",
   "id": "muslim-click",
   "metadata": {
    "papermill": {
     "duration": 0.043937,
     "end_time": "2021-12-21T00:29:33.265221",
     "exception": false,
     "start_time": "2021-12-21T00:29:33.221284",
     "status": "completed"
    },
    "tags": []
   },
   "source": [
    "# COVID-19 Case Race\n",
    "> A race chart to see rising cases around the world\n",
    "\n",
    "- author: Hargun Oberoi\n",
    "- image: images/covid-overview.png\n",
    "- hide: false\n",
    "- badges: false"
   ]
  },
  {
   "cell_type": "code",
   "execution_count": 1,
   "id": "proof-material",
   "metadata": {
    "execution": {
     "iopub.execute_input": "2021-12-21T00:29:33.350310Z",
     "iopub.status.busy": "2021-12-21T00:29:33.349658Z",
     "iopub.status.idle": "2021-12-21T00:29:33.737378Z",
     "shell.execute_reply": "2021-12-21T00:29:33.736208Z"
    },
    "papermill": {
     "duration": 0.435792,
     "end_time": "2021-12-21T00:29:33.737633",
     "exception": false,
     "start_time": "2021-12-21T00:29:33.301841",
     "status": "completed"
    },
    "tags": []
   },
   "outputs": [],
   "source": [
    "#hide\n",
    "import numpy as np\n",
    "import pandas as pd\n",
    "from jinja2 import Template\n",
    "from IPython.display import HTML"
   ]
  },
  {
   "cell_type": "code",
   "execution_count": 2,
   "id": "developed-terminology",
   "metadata": {
    "execution": {
     "iopub.execute_input": "2021-12-21T00:29:33.823246Z",
     "iopub.status.busy": "2021-12-21T00:29:33.822625Z",
     "iopub.status.idle": "2021-12-21T00:29:33.826873Z",
     "shell.execute_reply": "2021-12-21T00:29:33.826273Z"
    },
    "papermill": {
     "duration": 0.046542,
     "end_time": "2021-12-21T00:29:33.827000",
     "exception": false,
     "start_time": "2021-12-21T00:29:33.780458",
     "status": "completed"
    },
    "tags": []
   },
   "outputs": [],
   "source": [
    "#hide\n",
    "\n",
    "# FETCH\n",
    "base_url = 'https://raw.githubusercontent.com/pratapvardhan/notebooks/master/covid19/'\n",
    "paths = {\n",
    "    'mapping': base_url + 'mapping_countries.csv',\n",
    "    'overview': base_url + 'overview.tpl'\n",
    "}"
   ]
  },
  {
   "cell_type": "code",
   "execution_count": 3,
   "id": "dynamic-saver",
   "metadata": {
    "execution": {
     "iopub.execute_input": "2021-12-21T00:29:33.908507Z",
     "iopub.status.busy": "2021-12-21T00:29:33.907385Z",
     "iopub.status.idle": "2021-12-21T00:29:33.910332Z",
     "shell.execute_reply": "2021-12-21T00:29:33.910752Z"
    },
    "papermill": {
     "duration": 0.050058,
     "end_time": "2021-12-21T00:29:33.910892",
     "exception": false,
     "start_time": "2021-12-21T00:29:33.860834",
     "status": "completed"
    },
    "tags": []
   },
   "outputs": [
    {
     "data": {
      "text/plain": [
       "'https://raw.githubusercontent.com/pratapvardhan/notebooks/master/covid19/mapping_countries.csv'"
      ]
     },
     "execution_count": 3,
     "metadata": {},
     "output_type": "execute_result"
    }
   ],
   "source": [
    "#hide\n",
    "paths['mapping']"
   ]
  },
  {
   "cell_type": "code",
   "execution_count": 4,
   "id": "urban-software",
   "metadata": {
    "execution": {
     "iopub.execute_input": "2021-12-21T00:29:33.984604Z",
     "iopub.status.busy": "2021-12-21T00:29:33.983988Z",
     "iopub.status.idle": "2021-12-21T00:29:33.986649Z",
     "shell.execute_reply": "2021-12-21T00:29:33.986136Z"
    },
    "papermill": {
     "duration": 0.042279,
     "end_time": "2021-12-21T00:29:33.986775",
     "exception": false,
     "start_time": "2021-12-21T00:29:33.944496",
     "status": "completed"
    },
    "tags": []
   },
   "outputs": [],
   "source": [
    "#hide\n",
    "def get_mappings(url):\n",
    "    df = pd.read_csv(url)\n",
    "    return {\n",
    "        'df': df,\n",
    "        'replace.country': dict(df.dropna(subset=['Name']).set_index('Country')['Name']),\n",
    "        'map.continent': dict(df.set_index('Name')['Continent'])\n",
    "    }"
   ]
  },
  {
   "cell_type": "code",
   "execution_count": 5,
   "id": "intimate-machinery",
   "metadata": {
    "execution": {
     "iopub.execute_input": "2021-12-21T00:29:34.058815Z",
     "iopub.status.busy": "2021-12-21T00:29:34.058214Z",
     "iopub.status.idle": "2021-12-21T00:29:34.090383Z",
     "shell.execute_reply": "2021-12-21T00:29:34.091038Z"
    },
    "papermill": {
     "duration": 0.070969,
     "end_time": "2021-12-21T00:29:34.091250",
     "exception": false,
     "start_time": "2021-12-21T00:29:34.020281",
     "status": "completed"
    },
    "tags": []
   },
   "outputs": [],
   "source": [
    "#hide\n",
    "mapping = get_mappings(paths['mapping'])"
   ]
  },
  {
   "cell_type": "code",
   "execution_count": 6,
   "id": "certified-tactics",
   "metadata": {
    "execution": {
     "iopub.execute_input": "2021-12-21T00:29:34.165327Z",
     "iopub.status.busy": "2021-12-21T00:29:34.164720Z",
     "iopub.status.idle": "2021-12-21T00:29:34.168346Z",
     "shell.execute_reply": "2021-12-21T00:29:34.168802Z"
    },
    "papermill": {
     "duration": 0.042932,
     "end_time": "2021-12-21T00:29:34.168960",
     "exception": false,
     "start_time": "2021-12-21T00:29:34.126028",
     "status": "completed"
    },
    "tags": []
   },
   "outputs": [],
   "source": [
    "#hide\n",
    "def get_template(path):\n",
    "    from urllib.parse import urlparse\n",
    "    if bool(urlparse(path).netloc):\n",
    "        from urllib.request import urlopen\n",
    "        return urlopen(path).read().decode('utf8')\n",
    "    return open(path).read()"
   ]
  },
  {
   "cell_type": "code",
   "execution_count": 7,
   "id": "realistic-blast",
   "metadata": {
    "execution": {
     "iopub.execute_input": "2021-12-21T00:29:34.244019Z",
     "iopub.status.busy": "2021-12-21T00:29:34.243390Z",
     "iopub.status.idle": "2021-12-21T00:29:34.246186Z",
     "shell.execute_reply": "2021-12-21T00:29:34.245711Z"
    },
    "papermill": {
     "duration": 0.043051,
     "end_time": "2021-12-21T00:29:34.246313",
     "exception": false,
     "start_time": "2021-12-21T00:29:34.203262",
     "status": "completed"
    },
    "tags": []
   },
   "outputs": [],
   "source": [
    "#hide\n",
    "def get_frame(name):\n",
    "    url = (\n",
    "        'https://raw.githubusercontent.com/CSSEGISandData/COVID-19/master/csse_covid_19_data/'\n",
    "        f'csse_covid_19_time_series/time_series_covid19_{name}_global.csv')\n",
    "    df = pd.read_csv(url)\n",
    "    # rename countries\n",
    "    df['Country/Region'] = df['Country/Region'].replace(mapping['replace.country'])\n",
    "    return df"
   ]
  },
  {
   "cell_type": "code",
   "execution_count": 8,
   "id": "affiliated-characterization",
   "metadata": {
    "execution": {
     "iopub.execute_input": "2021-12-21T00:29:34.321506Z",
     "iopub.status.busy": "2021-12-21T00:29:34.320880Z",
     "iopub.status.idle": "2021-12-21T00:29:34.323584Z",
     "shell.execute_reply": "2021-12-21T00:29:34.323102Z"
    },
    "papermill": {
     "duration": 0.042419,
     "end_time": "2021-12-21T00:29:34.323744",
     "exception": false,
     "start_time": "2021-12-21T00:29:34.281325",
     "status": "completed"
    },
    "tags": []
   },
   "outputs": [],
   "source": [
    "#hide\n",
    "def get_dates(df):\n",
    "    dt_cols = df.columns[~df.columns.isin(['Province/State', 'Country/Region', 'Lat', 'Long'])]\n",
    "    LAST_DATE_I = -1\n",
    "    # sometimes last column may be empty, then go backwards\n",
    "    for i in range(-1, -len(dt_cols), -1):\n",
    "        if not df[dt_cols[i]].fillna(0).eq(0).all():\n",
    "            LAST_DATE_I = i\n",
    "            break\n",
    "    return LAST_DATE_I, dt_cols"
   ]
  },
  {
   "cell_type": "code",
   "execution_count": 9,
   "id": "recent-optimization",
   "metadata": {
    "execution": {
     "iopub.execute_input": "2021-12-21T00:29:34.398620Z",
     "iopub.status.busy": "2021-12-21T00:29:34.397939Z",
     "iopub.status.idle": "2021-12-21T00:29:34.747966Z",
     "shell.execute_reply": "2021-12-21T00:29:34.747356Z"
    },
    "papermill": {
     "duration": 0.39053,
     "end_time": "2021-12-21T00:29:34.748115",
     "exception": false,
     "start_time": "2021-12-21T00:29:34.357585",
     "status": "completed"
    },
    "tags": []
   },
   "outputs": [],
   "source": [
    "#hide\n",
    "COL_REGION = 'Country/Region'\n",
    "# Confirmed, Recovered, Deaths\n",
    "df = get_frame('confirmed')\n",
    "# dft_: timeseries, dfc_: today country agg\n",
    "dft_cases = df\n",
    "dft_deaths = get_frame('deaths')\n",
    "dft_recovered = get_frame('recovered')\n",
    "LAST_DATE_I, dt_cols = get_dates(df)"
   ]
  },
  {
   "cell_type": "code",
   "execution_count": 10,
   "id": "absolute-copper",
   "metadata": {
    "execution": {
     "iopub.execute_input": "2021-12-21T00:29:34.826126Z",
     "iopub.status.busy": "2021-12-21T00:29:34.825523Z",
     "iopub.status.idle": "2021-12-21T00:29:34.828274Z",
     "shell.execute_reply": "2021-12-21T00:29:34.827824Z"
    },
    "papermill": {
     "duration": 0.045748,
     "end_time": "2021-12-21T00:29:34.828422",
     "exception": false,
     "start_time": "2021-12-21T00:29:34.782674",
     "status": "completed"
    },
    "tags": []
   },
   "outputs": [],
   "source": [
    "#hide\n",
    "LAST_DATE_I, dt_cols = get_dates(df)\n",
    "dt_today =dt_cols[LAST_DATE_I]\n",
    "# dt_5day = dt_cols[LAST_DATE_I - 5]\n",
    "dt_yday = dt_cols[LAST_DATE_I - 1]"
   ]
  },
  {
   "cell_type": "code",
   "execution_count": 11,
   "id": "restricted-sheriff",
   "metadata": {
    "execution": {
     "iopub.execute_input": "2021-12-21T00:29:34.901194Z",
     "iopub.status.busy": "2021-12-21T00:29:34.900599Z",
     "iopub.status.idle": "2021-12-21T00:29:34.908956Z",
     "shell.execute_reply": "2021-12-21T00:29:34.909437Z"
    },
    "papermill": {
     "duration": 0.04895,
     "end_time": "2021-12-21T00:29:34.909580",
     "exception": false,
     "start_time": "2021-12-21T00:29:34.860630",
     "status": "completed"
    },
    "tags": []
   },
   "outputs": [],
   "source": [
    "#hide\n",
    "dfc_cases = dft_cases.groupby(COL_REGION)[dt_today].sum()\n",
    "dfc_deaths = dft_deaths.groupby(COL_REGION)[dt_today].sum()\n",
    "# dfp_cases = dft_cases.groupby(COL_REGION)[dt_5day].sum()\n",
    "# dfp_deaths = dft_deaths.groupby(COL_REGION)[dt_5day].sum()\n",
    "dfp_cases = dft_cases.groupby(COL_REGION)[dt_yday].sum()\n",
    "dfp_deaths = dft_deaths.groupby(COL_REGION)[dt_yday].sum()"
   ]
  },
  {
   "cell_type": "code",
   "execution_count": 12,
   "id": "deluxe-hepatitis",
   "metadata": {
    "execution": {
     "iopub.execute_input": "2021-12-21T00:29:34.980736Z",
     "iopub.status.busy": "2021-12-21T00:29:34.980141Z",
     "iopub.status.idle": "2021-12-21T00:29:34.984678Z",
     "shell.execute_reply": "2021-12-21T00:29:34.985167Z"
    },
    "papermill": {
     "duration": 0.043205,
     "end_time": "2021-12-21T00:29:34.985318",
     "exception": false,
     "start_time": "2021-12-21T00:29:34.942113",
     "status": "completed"
    },
    "tags": []
   },
   "outputs": [],
   "source": [
    "#hide\n",
    "df_table = (pd.DataFrame(dict(Cases = dfc_cases, Deaths = dfc_deaths, PCases = dfp_cases, PDeaths = dfp_deaths))\n",
    "            .sort_values(by = ['Cases','Deaths'], ascending = [False, False])\n",
    "            .reset_index())"
   ]
  },
  {
   "cell_type": "code",
   "execution_count": 13,
   "id": "educational-chancellor",
   "metadata": {
    "execution": {
     "iopub.execute_input": "2021-12-21T00:29:35.075683Z",
     "iopub.status.busy": "2021-12-21T00:29:35.075066Z",
     "iopub.status.idle": "2021-12-21T00:29:35.084684Z",
     "shell.execute_reply": "2021-12-21T00:29:35.084205Z"
    },
    "papermill": {
     "duration": 0.066519,
     "end_time": "2021-12-21T00:29:35.084805",
     "exception": false,
     "start_time": "2021-12-21T00:29:35.018286",
     "status": "completed"
    },
    "tags": []
   },
   "outputs": [
    {
     "data": {
      "text/html": [
       "<div>\n",
       "<style scoped>\n",
       "    .dataframe tbody tr th:only-of-type {\n",
       "        vertical-align: middle;\n",
       "    }\n",
       "\n",
       "    .dataframe tbody tr th {\n",
       "        vertical-align: top;\n",
       "    }\n",
       "\n",
       "    .dataframe thead th {\n",
       "        text-align: right;\n",
       "    }\n",
       "</style>\n",
       "<table border=\"1\" class=\"dataframe\">\n",
       "  <thead>\n",
       "    <tr style=\"text-align: right;\">\n",
       "      <th></th>\n",
       "      <th>Country/Region</th>\n",
       "      <th>Cases</th>\n",
       "      <th>Deaths</th>\n",
       "      <th>PCases</th>\n",
       "      <th>PDeaths</th>\n",
       "      <th>Cases (+)</th>\n",
       "      <th>Deaths (+)</th>\n",
       "      <th>Fatality Rate</th>\n",
       "      <th>Continent</th>\n",
       "    </tr>\n",
       "  </thead>\n",
       "  <tbody>\n",
       "    <tr>\n",
       "      <th>0</th>\n",
       "      <td>US</td>\n",
       "      <td>50846828</td>\n",
       "      <td>806439</td>\n",
       "      <td>50776013</td>\n",
       "      <td>806302</td>\n",
       "      <td>70815</td>\n",
       "      <td>137</td>\n",
       "      <td>1.59</td>\n",
       "      <td>North America</td>\n",
       "    </tr>\n",
       "    <tr>\n",
       "      <th>1</th>\n",
       "      <td>India</td>\n",
       "      <td>34746838</td>\n",
       "      <td>477554</td>\n",
       "      <td>34733194</td>\n",
       "      <td>477158</td>\n",
       "      <td>13644</td>\n",
       "      <td>396</td>\n",
       "      <td>1.37</td>\n",
       "      <td>Asia</td>\n",
       "    </tr>\n",
       "    <tr>\n",
       "      <th>2</th>\n",
       "      <td>Brazil</td>\n",
       "      <td>22213762</td>\n",
       "      <td>617803</td>\n",
       "      <td>22204941</td>\n",
       "      <td>617395</td>\n",
       "      <td>8821</td>\n",
       "      <td>408</td>\n",
       "      <td>2.78</td>\n",
       "      <td>South America</td>\n",
       "    </tr>\n",
       "    <tr>\n",
       "      <th>3</th>\n",
       "      <td>United Kingdom</td>\n",
       "      <td>11425657</td>\n",
       "      <td>147679</td>\n",
       "      <td>11343594</td>\n",
       "      <td>147634</td>\n",
       "      <td>82063</td>\n",
       "      <td>45</td>\n",
       "      <td>1.29</td>\n",
       "      <td>Europe</td>\n",
       "    </tr>\n",
       "    <tr>\n",
       "      <th>4</th>\n",
       "      <td>Russia</td>\n",
       "      <td>10037546</td>\n",
       "      <td>291336</td>\n",
       "      <td>10009866</td>\n",
       "      <td>290340</td>\n",
       "      <td>27680</td>\n",
       "      <td>996</td>\n",
       "      <td>2.90</td>\n",
       "      <td>Europe</td>\n",
       "    </tr>\n",
       "  </tbody>\n",
       "</table>\n",
       "</div>"
      ],
      "text/plain": [
       "   Country/Region     Cases  Deaths    PCases  PDeaths  Cases (+)  Deaths (+)  \\\n",
       "0              US  50846828  806439  50776013   806302      70815         137   \n",
       "1           India  34746838  477554  34733194   477158      13644         396   \n",
       "2          Brazil  22213762  617803  22204941   617395       8821         408   \n",
       "3  United Kingdom  11425657  147679  11343594   147634      82063          45   \n",
       "4          Russia  10037546  291336  10009866   290340      27680         996   \n",
       "\n",
       "   Fatality Rate      Continent  \n",
       "0           1.59  North America  \n",
       "1           1.37           Asia  \n",
       "2           2.78  South America  \n",
       "3           1.29         Europe  \n",
       "4           2.90         Europe  "
      ]
     },
     "execution_count": 13,
     "metadata": {},
     "output_type": "execute_result"
    }
   ],
   "source": [
    "#hide\n",
    "for c in 'Cases, Deaths'.split(', '):\n",
    "    df_table[f'{c} (+)'] = (df_table[c] - df_table[f'P{c}']).clip(0)\n",
    "    #Clip ça veut dire, les chiffres negatif sont interdit\n",
    "df_table['Fatality Rate'] = (100* df_table['Deaths']/ df_table['Cases']).round(2)\n",
    "df_table['Continent'] = df_table['Country/Region'].map(mapping['map.continent'])\n",
    "df_table.head(5)"
   ]
  },
  {
   "cell_type": "code",
   "execution_count": 14,
   "id": "aboriginal-bulgaria",
   "metadata": {
    "execution": {
     "iopub.execute_input": "2021-12-21T00:29:35.159805Z",
     "iopub.status.busy": "2021-12-21T00:29:35.159181Z",
     "iopub.status.idle": "2021-12-21T00:29:35.161930Z",
     "shell.execute_reply": "2021-12-21T00:29:35.161452Z"
    },
    "papermill": {
     "duration": 0.041905,
     "end_time": "2021-12-21T00:29:35.162056",
     "exception": false,
     "start_time": "2021-12-21T00:29:35.120151",
     "status": "completed"
    },
    "tags": []
   },
   "outputs": [],
   "source": [
    "#hide\n",
    "#delete problematic countries from table\n",
    "df_table = df_table[~df_table['Country/Region'].isin(['Cape Verde', 'Cruise Ship', 'Kosovo'])]"
   ]
  },
  {
   "cell_type": "code",
   "execution_count": 15,
   "id": "fantastic-effect",
   "metadata": {
    "execution": {
     "iopub.execute_input": "2021-12-21T00:29:35.243969Z",
     "iopub.status.busy": "2021-12-21T00:29:35.243312Z",
     "iopub.status.idle": "2021-12-21T00:29:35.263893Z",
     "shell.execute_reply": "2021-12-21T00:29:35.264435Z"
    },
    "papermill": {
     "duration": 0.067747,
     "end_time": "2021-12-21T00:29:35.264618",
     "exception": false,
     "start_time": "2021-12-21T00:29:35.196871",
     "status": "completed"
    },
    "tags": []
   },
   "outputs": [
    {
     "data": {
      "text/html": [
       "<div>\n",
       "<style scoped>\n",
       "    .dataframe tbody tr th:only-of-type {\n",
       "        vertical-align: middle;\n",
       "    }\n",
       "\n",
       "    .dataframe tbody tr th {\n",
       "        vertical-align: top;\n",
       "    }\n",
       "\n",
       "    .dataframe thead th {\n",
       "        text-align: right;\n",
       "    }\n",
       "</style>\n",
       "<table border=\"1\" class=\"dataframe\">\n",
       "  <thead>\n",
       "    <tr style=\"text-align: right;\">\n",
       "      <th></th>\n",
       "      <th>Country/Region</th>\n",
       "      <th>Cases</th>\n",
       "      <th>Deaths</th>\n",
       "      <th>PCases</th>\n",
       "      <th>PDeaths</th>\n",
       "      <th>Cases (+)</th>\n",
       "      <th>Deaths (+)</th>\n",
       "      <th>Fatality Rate</th>\n",
       "      <th>Continent</th>\n",
       "    </tr>\n",
       "  </thead>\n",
       "  <tbody>\n",
       "    <tr>\n",
       "      <th>0</th>\n",
       "      <td>US</td>\n",
       "      <td>50846828</td>\n",
       "      <td>806439</td>\n",
       "      <td>50776013</td>\n",
       "      <td>806302</td>\n",
       "      <td>70815</td>\n",
       "      <td>137</td>\n",
       "      <td>1.6</td>\n",
       "      <td>North America</td>\n",
       "    </tr>\n",
       "    <tr>\n",
       "      <th>1</th>\n",
       "      <td>India</td>\n",
       "      <td>34746838</td>\n",
       "      <td>477554</td>\n",
       "      <td>34733194</td>\n",
       "      <td>477158</td>\n",
       "      <td>13644</td>\n",
       "      <td>396</td>\n",
       "      <td>1.4</td>\n",
       "      <td>Asia</td>\n",
       "    </tr>\n",
       "    <tr>\n",
       "      <th>2</th>\n",
       "      <td>Brazil</td>\n",
       "      <td>22213762</td>\n",
       "      <td>617803</td>\n",
       "      <td>22204941</td>\n",
       "      <td>617395</td>\n",
       "      <td>8821</td>\n",
       "      <td>408</td>\n",
       "      <td>2.8</td>\n",
       "      <td>South America</td>\n",
       "    </tr>\n",
       "    <tr>\n",
       "      <th>3</th>\n",
       "      <td>United Kingdom</td>\n",
       "      <td>11425657</td>\n",
       "      <td>147679</td>\n",
       "      <td>11343594</td>\n",
       "      <td>147634</td>\n",
       "      <td>82063</td>\n",
       "      <td>45</td>\n",
       "      <td>1.3</td>\n",
       "      <td>Europe</td>\n",
       "    </tr>\n",
       "    <tr>\n",
       "      <th>4</th>\n",
       "      <td>Russia</td>\n",
       "      <td>10037546</td>\n",
       "      <td>291336</td>\n",
       "      <td>10009866</td>\n",
       "      <td>290340</td>\n",
       "      <td>27680</td>\n",
       "      <td>996</td>\n",
       "      <td>2.9</td>\n",
       "      <td>Europe</td>\n",
       "    </tr>\n",
       "  </tbody>\n",
       "</table>\n",
       "</div>"
      ],
      "text/plain": [
       "   Country/Region     Cases  Deaths    PCases  PDeaths  Cases (+)  Deaths (+)  \\\n",
       "0              US  50846828  806439  50776013   806302      70815         137   \n",
       "1           India  34746838  477554  34733194   477158      13644         396   \n",
       "2          Brazil  22213762  617803  22204941   617395       8821         408   \n",
       "3  United Kingdom  11425657  147679  11343594   147634      82063          45   \n",
       "4          Russia  10037546  291336  10009866   290340      27680         996   \n",
       "\n",
       "   Fatality Rate      Continent  \n",
       "0            1.6  North America  \n",
       "1            1.4           Asia  \n",
       "2            2.8  South America  \n",
       "3            1.3         Europe  \n",
       "4            2.9         Europe  "
      ]
     },
     "execution_count": 15,
     "metadata": {},
     "output_type": "execute_result"
    }
   ],
   "source": [
    "#hide\n",
    "df_table = (pd.DataFrame(dict(Cases=dfc_cases, Deaths=dfc_deaths, PCases=dfp_cases, PDeaths=dfp_deaths))\n",
    "             .sort_values(by=['Cases', 'Deaths'], ascending=[False, False])\n",
    "             .reset_index())\n",
    "df_table.rename(columns={'index': 'Country/Region'}, inplace=True)\n",
    "for c in 'Cases, Deaths'.split(', '):\n",
    "    df_table[f'{c} (+)'] = (df_table[c] - df_table[f'P{c}']).clip(0)  # DATA BUG\n",
    "df_table['Fatality Rate'] = (100 * df_table['Deaths'] / df_table['Cases']).round(1)\n",
    "df_table['Continent'] = df_table['Country/Region'].map(mapping['map.continent'])\n",
    "df_table.head(5)"
   ]
  },
  {
   "cell_type": "code",
   "execution_count": 16,
   "id": "fewer-occasion",
   "metadata": {
    "execution": {
     "iopub.execute_input": "2021-12-21T00:29:35.342231Z",
     "iopub.status.busy": "2021-12-21T00:29:35.341503Z",
     "iopub.status.idle": "2021-12-21T00:29:35.343191Z",
     "shell.execute_reply": "2021-12-21T00:29:35.343637Z"
    },
    "papermill": {
     "duration": 0.042721,
     "end_time": "2021-12-21T00:29:35.343823",
     "exception": false,
     "start_time": "2021-12-21T00:29:35.301102",
     "status": "completed"
    },
    "tags": []
   },
   "outputs": [],
   "source": [
    "#hide\n",
    "#delete problematic countries from table\n",
    "df_table = df_table[~df_table['Country/Region'].isin(['Cape Verde', 'Cruise Ship', 'Kosovo'])]"
   ]
  },
  {
   "cell_type": "code",
   "execution_count": 17,
   "id": "related-center",
   "metadata": {
    "execution": {
     "iopub.execute_input": "2021-12-21T00:29:35.440429Z",
     "iopub.status.busy": "2021-12-21T00:29:35.439745Z",
     "iopub.status.idle": "2021-12-21T00:29:35.442147Z",
     "shell.execute_reply": "2021-12-21T00:29:35.441653Z"
    },
    "papermill": {
     "duration": 0.061189,
     "end_time": "2021-12-21T00:29:35.442280",
     "exception": false,
     "start_time": "2021-12-21T00:29:35.381091",
     "status": "completed"
    },
    "tags": []
   },
   "outputs": [],
   "source": [
    "#hide\n",
    "metrics = [df_table.columns[index] for index in [1,2,5,6]]\n",
    "# s_china = df_table[df_table['Country/Region'].eq('China')][metrics].sum().add_prefix('China ')\n",
    "s_us = df_table[df_table['Country/Region'].eq('US')][metrics].sum().add_prefix('US ')\n",
    "s_eu = df_table[df_table['Continent'].eq('Europe')][metrics].sum().add_prefix('EU ')\n",
    "s_ind = df_table[df_table['Country/Region'].eq('India')][metrics].sum().add_prefix('India ')\n",
    "summary = {'updated': pd.to_datetime(dt_today), 'since': pd.to_datetime(dt_yday)}\n",
    "summary = {'updated': pd.to_datetime(dt_today), 'since': pd.to_datetime(dt_yday)}\n",
    "summary = {**summary, **df_table[metrics].sum(), **s_ind, **s_us, **s_eu}"
   ]
  },
  {
   "cell_type": "code",
   "execution_count": 18,
   "id": "engaging-syndrome",
   "metadata": {
    "execution": {
     "iopub.execute_input": "2021-12-21T00:29:35.516893Z",
     "iopub.status.busy": "2021-12-21T00:29:35.516326Z",
     "iopub.status.idle": "2021-12-21T00:29:35.531187Z",
     "shell.execute_reply": "2021-12-21T00:29:35.530680Z"
    },
    "papermill": {
     "duration": 0.053996,
     "end_time": "2021-12-21T00:29:35.531320",
     "exception": false,
     "start_time": "2021-12-21T00:29:35.477324",
     "status": "completed"
    },
    "tags": []
   },
   "outputs": [],
   "source": [
    "#hide\n",
    "dft_ct_new_cases = dft_cases.groupby(COL_REGION)[dt_cols].sum().diff(axis=1).fillna(0).astype(int)"
   ]
  },
  {
   "cell_type": "code",
   "execution_count": 19,
   "id": "neutral-assignment",
   "metadata": {
    "execution": {
     "iopub.execute_input": "2021-12-21T00:29:35.606985Z",
     "iopub.status.busy": "2021-12-21T00:29:35.606390Z",
     "iopub.status.idle": "2021-12-21T00:29:35.611065Z",
     "shell.execute_reply": "2021-12-21T00:29:35.611636Z"
    },
    "papermill": {
     "duration": 0.045755,
     "end_time": "2021-12-21T00:29:35.611834",
     "exception": false,
     "start_time": "2021-12-21T00:29:35.566079",
     "status": "completed"
    },
    "tags": []
   },
   "outputs": [],
   "source": [
    "#hide\n",
    "everydaycases = dft_ct_new_cases.cumsum(axis=1)"
   ]
  },
  {
   "cell_type": "code",
   "execution_count": 20,
   "id": "parliamentary-calgary",
   "metadata": {
    "execution": {
     "iopub.execute_input": "2021-12-21T00:29:35.686157Z",
     "iopub.status.busy": "2021-12-21T00:29:35.685512Z",
     "iopub.status.idle": "2021-12-21T00:29:36.357181Z",
     "shell.execute_reply": "2021-12-21T00:29:36.356606Z"
    },
    "papermill": {
     "duration": 0.711389,
     "end_time": "2021-12-21T00:29:36.357310",
     "exception": false,
     "start_time": "2021-12-21T00:29:35.645921",
     "status": "completed"
    },
    "tags": []
   },
   "outputs": [],
   "source": [
    "#hide\n",
    "import pandas as pd\n",
    "import matplotlib.pyplot as plt\n",
    "import matplotlib.ticker as ticker\n",
    "import matplotlib.animation as animation\n",
    "from IPython.display import HTML"
   ]
  },
  {
   "cell_type": "code",
   "execution_count": 21,
   "id": "lasting-extraction",
   "metadata": {
    "execution": {
     "iopub.execute_input": "2021-12-21T00:29:36.432644Z",
     "iopub.status.busy": "2021-12-21T00:29:36.432059Z",
     "iopub.status.idle": "2021-12-21T00:29:36.440829Z",
     "shell.execute_reply": "2021-12-21T00:29:36.440338Z"
    },
    "papermill": {
     "duration": 0.04961,
     "end_time": "2021-12-21T00:29:36.440964",
     "exception": false,
     "start_time": "2021-12-21T00:29:36.391354",
     "status": "completed"
    },
    "tags": []
   },
   "outputs": [],
   "source": [
    "#hide\n",
    "t = everydaycases.stack()"
   ]
  },
  {
   "cell_type": "code",
   "execution_count": 22,
   "id": "premier-sleeve",
   "metadata": {
    "execution": {
     "iopub.execute_input": "2021-12-21T00:29:36.516711Z",
     "iopub.status.busy": "2021-12-21T00:29:36.516099Z",
     "iopub.status.idle": "2021-12-21T00:29:36.528124Z",
     "shell.execute_reply": "2021-12-21T00:29:36.528608Z"
    },
    "papermill": {
     "duration": 0.053331,
     "end_time": "2021-12-21T00:29:36.528759",
     "exception": false,
     "start_time": "2021-12-21T00:29:36.475428",
     "status": "completed"
    },
    "tags": []
   },
   "outputs": [],
   "source": [
    "#hide\n",
    "g = t.reset_index(['Country/Region'])"
   ]
  },
  {
   "cell_type": "code",
   "execution_count": 23,
   "id": "distributed-pittsburgh",
   "metadata": {
    "execution": {
     "iopub.execute_input": "2021-12-21T00:29:36.602596Z",
     "iopub.status.busy": "2021-12-21T00:29:36.601984Z",
     "iopub.status.idle": "2021-12-21T00:29:36.606284Z",
     "shell.execute_reply": "2021-12-21T00:29:36.605776Z"
    },
    "papermill": {
     "duration": 0.043464,
     "end_time": "2021-12-21T00:29:36.606410",
     "exception": false,
     "start_time": "2021-12-21T00:29:36.562946",
     "status": "completed"
    },
    "tags": []
   },
   "outputs": [],
   "source": [
    "#hide\n",
    "g.index.name = 'date'"
   ]
  },
  {
   "cell_type": "code",
   "execution_count": 24,
   "id": "naked-donor",
   "metadata": {
    "execution": {
     "iopub.execute_input": "2021-12-21T00:29:36.678544Z",
     "iopub.status.busy": "2021-12-21T00:29:36.677914Z",
     "iopub.status.idle": "2021-12-21T00:29:36.680606Z",
     "shell.execute_reply": "2021-12-21T00:29:36.681058Z"
    },
    "papermill": {
     "duration": 0.041973,
     "end_time": "2021-12-21T00:29:36.681225",
     "exception": false,
     "start_time": "2021-12-21T00:29:36.639252",
     "status": "completed"
    },
    "tags": []
   },
   "outputs": [],
   "source": [
    "# #hide\n",
    "# g = g.reset_index(['date'])"
   ]
  },
  {
   "cell_type": "code",
   "execution_count": 25,
   "id": "incomplete-mustang",
   "metadata": {
    "execution": {
     "iopub.execute_input": "2021-12-21T00:29:36.755454Z",
     "iopub.status.busy": "2021-12-21T00:29:36.754831Z",
     "iopub.status.idle": "2021-12-21T00:29:36.758951Z",
     "shell.execute_reply": "2021-12-21T00:29:36.758470Z"
    },
    "papermill": {
     "duration": 0.043046,
     "end_time": "2021-12-21T00:29:36.759079",
     "exception": false,
     "start_time": "2021-12-21T00:29:36.716033",
     "status": "completed"
    },
    "tags": []
   },
   "outputs": [],
   "source": [
    "#hide\n",
    "# g.head()"
   ]
  },
  {
   "cell_type": "code",
   "execution_count": 26,
   "id": "specific-kruger",
   "metadata": {
    "execution": {
     "iopub.execute_input": "2021-12-21T00:29:36.833040Z",
     "iopub.status.busy": "2021-12-21T00:29:36.832414Z",
     "iopub.status.idle": "2021-12-21T00:29:36.834761Z",
     "shell.execute_reply": "2021-12-21T00:29:36.834280Z"
    },
    "papermill": {
     "duration": 0.040931,
     "end_time": "2021-12-21T00:29:36.834893",
     "exception": false,
     "start_time": "2021-12-21T00:29:36.793962",
     "status": "completed"
    },
    "tags": []
   },
   "outputs": [],
   "source": [
    "#hide\n",
    "# g.columns = ['date','country','cases']"
   ]
  },
  {
   "cell_type": "code",
   "execution_count": 27,
   "id": "tender-conversion",
   "metadata": {
    "execution": {
     "iopub.execute_input": "2021-12-21T00:29:36.910118Z",
     "iopub.status.busy": "2021-12-21T00:29:36.909039Z",
     "iopub.status.idle": "2021-12-21T00:29:36.913784Z",
     "shell.execute_reply": "2021-12-21T00:29:36.914686Z"
    },
    "papermill": {
     "duration": 0.045488,
     "end_time": "2021-12-21T00:29:36.914924",
     "exception": false,
     "start_time": "2021-12-21T00:29:36.869436",
     "status": "completed"
    },
    "tags": []
   },
   "outputs": [],
   "source": [
    "#hide\n",
    "# g['continent'] = g.country"
   ]
  },
  {
   "cell_type": "code",
   "execution_count": 28,
   "id": "substantial-wilderness",
   "metadata": {
    "execution": {
     "iopub.execute_input": "2021-12-21T00:29:36.988991Z",
     "iopub.status.busy": "2021-12-21T00:29:36.988343Z",
     "iopub.status.idle": "2021-12-21T00:29:36.990890Z",
     "shell.execute_reply": "2021-12-21T00:29:36.990358Z"
    },
    "papermill": {
     "duration": 0.040423,
     "end_time": "2021-12-21T00:29:36.991012",
     "exception": false,
     "start_time": "2021-12-21T00:29:36.950589",
     "status": "completed"
    },
    "tags": []
   },
   "outputs": [],
   "source": [
    "#hide\n",
    "# cols = list(g.columns.values)"
   ]
  },
  {
   "cell_type": "code",
   "execution_count": 29,
   "id": "solved-farming",
   "metadata": {
    "execution": {
     "iopub.execute_input": "2021-12-21T00:29:37.066768Z",
     "iopub.status.busy": "2021-12-21T00:29:37.065706Z",
     "iopub.status.idle": "2021-12-21T00:29:37.070471Z",
     "shell.execute_reply": "2021-12-21T00:29:37.069986Z"
    },
    "papermill": {
     "duration": 0.045367,
     "end_time": "2021-12-21T00:29:37.070597",
     "exception": false,
     "start_time": "2021-12-21T00:29:37.025230",
     "status": "completed"
    },
    "tags": []
   },
   "outputs": [],
   "source": [
    "#hide\n",
    "# cols.insert(0, cols.pop())"
   ]
  },
  {
   "cell_type": "code",
   "execution_count": 30,
   "id": "executed-adoption",
   "metadata": {
    "execution": {
     "iopub.execute_input": "2021-12-21T00:29:37.145097Z",
     "iopub.status.busy": "2021-12-21T00:29:37.144503Z",
     "iopub.status.idle": "2021-12-21T00:29:37.146976Z",
     "shell.execute_reply": "2021-12-21T00:29:37.147545Z"
    },
    "papermill": {
     "duration": 0.041856,
     "end_time": "2021-12-21T00:29:37.147726",
     "exception": false,
     "start_time": "2021-12-21T00:29:37.105870",
     "status": "completed"
    },
    "tags": []
   },
   "outputs": [],
   "source": [
    "#hide\n",
    "# g = g[cols]"
   ]
  },
  {
   "cell_type": "code",
   "execution_count": 31,
   "id": "subject-dublin",
   "metadata": {
    "execution": {
     "iopub.execute_input": "2021-12-21T00:29:37.221525Z",
     "iopub.status.busy": "2021-12-21T00:29:37.220890Z",
     "iopub.status.idle": "2021-12-21T00:29:37.223316Z",
     "shell.execute_reply": "2021-12-21T00:29:37.222834Z"
    },
    "papermill": {
     "duration": 0.040879,
     "end_time": "2021-12-21T00:29:37.223447",
     "exception": false,
     "start_time": "2021-12-21T00:29:37.182568",
     "status": "completed"
    },
    "tags": []
   },
   "outputs": [],
   "source": [
    "#hide\n",
    "# g['continent'] = g['continent'].map(mapping['map.continent'])"
   ]
  },
  {
   "cell_type": "code",
   "execution_count": 32,
   "id": "freelance-scout",
   "metadata": {
    "execution": {
     "iopub.execute_input": "2021-12-21T00:29:37.300504Z",
     "iopub.status.busy": "2021-12-21T00:29:37.299389Z",
     "iopub.status.idle": "2021-12-21T00:29:37.302927Z",
     "shell.execute_reply": "2021-12-21T00:29:37.302448Z"
    },
    "papermill": {
     "duration": 0.044253,
     "end_time": "2021-12-21T00:29:37.303056",
     "exception": false,
     "start_time": "2021-12-21T00:29:37.258803",
     "status": "completed"
    },
    "tags": []
   },
   "outputs": [],
   "source": [
    "#hide\n",
    "# g.head()"
   ]
  },
  {
   "cell_type": "code",
   "execution_count": 33,
   "id": "limited-engine",
   "metadata": {
    "execution": {
     "iopub.execute_input": "2021-12-21T00:29:37.377534Z",
     "iopub.status.busy": "2021-12-21T00:29:37.376922Z",
     "iopub.status.idle": "2021-12-21T00:29:37.380479Z",
     "shell.execute_reply": "2021-12-21T00:29:37.380928Z"
    },
    "papermill": {
     "duration": 0.043239,
     "end_time": "2021-12-21T00:29:37.381074",
     "exception": false,
     "start_time": "2021-12-21T00:29:37.337835",
     "status": "completed"
    },
    "tags": []
   },
   "outputs": [],
   "source": [
    "# hide\n",
    "# g['date'] = g['date'].astype('datetime64[ns]')"
   ]
  },
  {
   "cell_type": "code",
   "execution_count": 34,
   "id": "sophisticated-supervisor",
   "metadata": {
    "execution": {
     "iopub.execute_input": "2021-12-21T00:29:37.456283Z",
     "iopub.status.busy": "2021-12-21T00:29:37.455603Z",
     "iopub.status.idle": "2021-12-21T00:29:37.458547Z",
     "shell.execute_reply": "2021-12-21T00:29:37.459001Z"
    },
    "papermill": {
     "duration": 0.042738,
     "end_time": "2021-12-21T00:29:37.459154",
     "exception": false,
     "start_time": "2021-12-21T00:29:37.416416",
     "status": "completed"
    },
    "tags": []
   },
   "outputs": [],
   "source": [
    "#hide\n",
    "# g['date'] = g.date.dt.dayofyear"
   ]
  },
  {
   "cell_type": "code",
   "execution_count": 35,
   "id": "inside-dubai",
   "metadata": {
    "execution": {
     "iopub.execute_input": "2021-12-21T00:29:37.537185Z",
     "iopub.status.busy": "2021-12-21T00:29:37.536564Z",
     "iopub.status.idle": "2021-12-21T00:29:37.539324Z",
     "shell.execute_reply": "2021-12-21T00:29:37.539827Z"
    },
    "papermill": {
     "duration": 0.044857,
     "end_time": "2021-12-21T00:29:37.539991",
     "exception": false,
     "start_time": "2021-12-21T00:29:37.495134",
     "status": "completed"
    },
    "tags": []
   },
   "outputs": [],
   "source": [
    "#hide\n",
    "# g = g.rename(columns= {'continent':'group','country':'name','cases':'value'})"
   ]
  },
  {
   "cell_type": "code",
   "execution_count": 36,
   "id": "fleet-motorcycle",
   "metadata": {
    "execution": {
     "iopub.execute_input": "2021-12-21T00:29:37.619286Z",
     "iopub.status.busy": "2021-12-21T00:29:37.618672Z",
     "iopub.status.idle": "2021-12-21T00:29:37.621569Z",
     "shell.execute_reply": "2021-12-21T00:29:37.622327Z"
    },
    "papermill": {
     "duration": 0.046606,
     "end_time": "2021-12-21T00:29:37.622504",
     "exception": false,
     "start_time": "2021-12-21T00:29:37.575898",
     "status": "completed"
    },
    "tags": []
   },
   "outputs": [],
   "source": [
    "#hide\n",
    "# cols = ['name','group','day','value']"
   ]
  },
  {
   "cell_type": "code",
   "execution_count": 37,
   "id": "continued-sleeping",
   "metadata": {
    "execution": {
     "iopub.execute_input": "2021-12-21T00:29:37.704821Z",
     "iopub.status.busy": "2021-12-21T00:29:37.703675Z",
     "iopub.status.idle": "2021-12-21T00:29:37.707759Z",
     "shell.execute_reply": "2021-12-21T00:29:37.707166Z"
    },
    "papermill": {
     "duration": 0.045808,
     "end_time": "2021-12-21T00:29:37.707896",
     "exception": false,
     "start_time": "2021-12-21T00:29:37.662088",
     "status": "completed"
    },
    "tags": []
   },
   "outputs": [],
   "source": [
    "#hide\n",
    "# g.rename(columns= {'date':'day'},inplace = True)"
   ]
  },
  {
   "cell_type": "code",
   "execution_count": 38,
   "id": "major-fight",
   "metadata": {
    "execution": {
     "iopub.execute_input": "2021-12-21T00:29:37.783857Z",
     "iopub.status.busy": "2021-12-21T00:29:37.783217Z",
     "iopub.status.idle": "2021-12-21T00:29:37.785810Z",
     "shell.execute_reply": "2021-12-21T00:29:37.786303Z"
    },
    "papermill": {
     "duration": 0.04292,
     "end_time": "2021-12-21T00:29:37.786457",
     "exception": false,
     "start_time": "2021-12-21T00:29:37.743537",
     "status": "completed"
    },
    "tags": []
   },
   "outputs": [],
   "source": [
    "#hide\n",
    "# g = g[cols]"
   ]
  },
  {
   "cell_type": "code",
   "execution_count": 39,
   "id": "structured-mobile",
   "metadata": {
    "execution": {
     "iopub.execute_input": "2021-12-21T00:29:37.862321Z",
     "iopub.status.busy": "2021-12-21T00:29:37.861653Z",
     "iopub.status.idle": "2021-12-21T00:29:37.864339Z",
     "shell.execute_reply": "2021-12-21T00:29:37.863835Z"
    },
    "papermill": {
     "duration": 0.04302,
     "end_time": "2021-12-21T00:29:37.864478",
     "exception": false,
     "start_time": "2021-12-21T00:29:37.821458",
     "status": "completed"
    },
    "tags": []
   },
   "outputs": [],
   "source": [
    "# #hide\n",
    "# g = g[g.group.notna()]"
   ]
  },
  {
   "cell_type": "code",
   "execution_count": 40,
   "id": "determined-closing",
   "metadata": {
    "execution": {
     "iopub.execute_input": "2021-12-21T00:29:37.940499Z",
     "iopub.status.busy": "2021-12-21T00:29:37.939846Z",
     "iopub.status.idle": "2021-12-21T00:29:37.942890Z",
     "shell.execute_reply": "2021-12-21T00:29:37.942409Z"
    },
    "papermill": {
     "duration": 0.043141,
     "end_time": "2021-12-21T00:29:37.943021",
     "exception": false,
     "start_time": "2021-12-21T00:29:37.899880",
     "status": "completed"
    },
    "tags": []
   },
   "outputs": [],
   "source": [
    "# #hide\n",
    "# colors = dict(zip(\n",
    "#     [\"Oceania\", \"Europe\", \"Asia\", \"South America\", \"Middle East\", \"North America\", \"Africa\"],\n",
    "#     [\"#adb0ff\", \"#ffb3ff\", \"#90d595\", \"#e48381\", \"#aafbff\", \"#f7bb5f\", \"#eafb50\"]\n",
    "# ))\n",
    "# group_lk = g.set_index('name')['group'].to_dict()"
   ]
  },
  {
   "cell_type": "code",
   "execution_count": null,
   "id": "gross-drinking",
   "metadata": {
    "papermill": {
     "duration": 0.03517,
     "end_time": "2021-12-21T00:29:38.013358",
     "exception": false,
     "start_time": "2021-12-21T00:29:37.978188",
     "status": "completed"
    },
    "tags": []
   },
   "outputs": [],
   "source": []
  },
  {
   "cell_type": "code",
   "execution_count": 41,
   "id": "subject-macintosh",
   "metadata": {
    "execution": {
     "iopub.execute_input": "2021-12-21T00:29:38.088465Z",
     "iopub.status.busy": "2021-12-21T00:29:38.087827Z",
     "iopub.status.idle": "2021-12-21T00:29:38.090347Z",
     "shell.execute_reply": "2021-12-21T00:29:38.090925Z"
    },
    "papermill": {
     "duration": 0.042994,
     "end_time": "2021-12-21T00:29:38.091076",
     "exception": false,
     "start_time": "2021-12-21T00:29:38.048082",
     "status": "completed"
    },
    "tags": []
   },
   "outputs": [],
   "source": [
    "# #hide\n",
    "# fig, ax = plt.subplots(figsize=(15, 8))\n",
    "\n",
    "# def draw_barchart(current_day):\n",
    "#     dff = g[g['day'].eq(current_day)].sort_values(by='value', ascending=True).tail(10)\n",
    "#     ax.clear()\n",
    "#     ax.barh(dff['name'], dff['value'], color=[colors[group_lk[x]] for x in dff['name']])\n",
    "#     dx = dff['value'].max() / 200\n",
    "    \n",
    "#     for i, (value, name) in enumerate(zip(dff['value'], dff['name'])):\n",
    "#         ax.text(value-dx, i,     name,           size=14, weight=600, ha='right', va='bottom')\n",
    "#         ax.text(value-dx, i-.25, group_lk[name], size=10, color='#444444', ha='right', va='baseline')\n",
    "#         ax.text(value+dx, i,     f'{value:,.0f}',  size=14, ha='left',  va='center')\n",
    "#     ax.text(1, 0.4, current_day, transform=ax.transAxes, color='#777777', size=46, ha='right', weight=800)\n",
    "#     ax.text(0, 1.06, 'Population (thousands)', transform=ax.transAxes, size=12, color='#777777')\n",
    "#     ax.xaxis.set_major_formatter(ticker.StrMethodFormatter('{x:,.0f}'))\n",
    "#     ax.xaxis.set_ticks_position('top')\n",
    "#     ax.tick_params(axis='x', colors='#777777', labelsize=12)\n",
    "#     ax.set_yticks([])\n",
    "#     ax.margins(0, 0.01)\n",
    "#     ax.grid(which='major', axis='x', linestyle='-')\n",
    "#     ax.set_axisbelow(True)\n",
    "    \n",
    "#     ax.text(0, 1.15, 'Coronavirus',\n",
    "#             transform=ax.transAxes, size=24, weight=600, ha='left', va='top')\n",
    "# #     ax.text(1, 0, 'by @pratapvardhan; credit @jburnmurdoch', transform=ax.transAxes, color='#777777', ha='right',\n",
    "# #             bbox=dict(facecolor='white', alpha=0.8, edgecolor='white'))\n",
    "#     plt.box(False)"
   ]
  },
  {
   "cell_type": "code",
   "execution_count": 42,
   "id": "sexual-wages",
   "metadata": {
    "execution": {
     "iopub.execute_input": "2021-12-21T00:29:38.166325Z",
     "iopub.status.busy": "2021-12-21T00:29:38.165694Z",
     "iopub.status.idle": "2021-12-21T00:29:38.168097Z",
     "shell.execute_reply": "2021-12-21T00:29:38.167584Z"
    },
    "papermill": {
     "duration": 0.042088,
     "end_time": "2021-12-21T00:29:38.168227",
     "exception": false,
     "start_time": "2021-12-21T00:29:38.126139",
     "status": "completed"
    },
    "tags": []
   },
   "outputs": [],
   "source": [
    "# #hide_input\n",
    "# fig, ax = plt.subplots(figsize=(15, 8))\n",
    "# animator = animation.FuncAnimation(fig, draw_barchart, frames=range(g.day.values.min(), g.day.values.max()))\n",
    "# HTML(animator.to_jshtml())\n",
    "# # or use animator.to_html5_video() or animator.save() "
   ]
  },
  {
   "cell_type": "code",
   "execution_count": null,
   "id": "australian-container",
   "metadata": {
    "papermill": {
     "duration": 0.034945,
     "end_time": "2021-12-21T00:29:38.238355",
     "exception": false,
     "start_time": "2021-12-21T00:29:38.203410",
     "status": "completed"
    },
    "tags": []
   },
   "outputs": [],
   "source": []
  },
  {
   "cell_type": "code",
   "execution_count": null,
   "id": "mediterranean-pontiac",
   "metadata": {
    "papermill": {
     "duration": 0.035415,
     "end_time": "2021-12-21T00:29:38.308630",
     "exception": false,
     "start_time": "2021-12-21T00:29:38.273215",
     "status": "completed"
    },
    "tags": []
   },
   "outputs": [],
   "source": []
  },
  {
   "cell_type": "code",
   "execution_count": null,
   "id": "aging-legislature",
   "metadata": {
    "papermill": {
     "duration": 0.034347,
     "end_time": "2021-12-21T00:29:38.378215",
     "exception": false,
     "start_time": "2021-12-21T00:29:38.343868",
     "status": "completed"
    },
    "tags": []
   },
   "outputs": [],
   "source": []
  }
 ],
 "metadata": {
  "kernelspec": {
   "display_name": "Python 3",
   "language": "python",
   "name": "python3"
  },
  "language_info": {
   "codemirror_mode": {
    "name": "ipython",
    "version": 3
   },
   "file_extension": ".py",
   "mimetype": "text/x-python",
   "name": "python",
   "nbconvert_exporter": "python",
   "pygments_lexer": "ipython3",
   "version": "3.6.15"
  },
  "papermill": {
   "duration": 6.919446,
   "end_time": "2021-12-21T00:29:38.821979",
   "environment_variables": {},
   "exception": null,
   "input_path": "2020-03-21-covid19exp.ipynb",
   "output_path": "2020-03-21-covid19exp.ipynb",
   "parameters": {},
   "start_time": "2021-12-21T00:29:31.902533",
   "version": "2.0.0"
  }
 },
 "nbformat": 4,
 "nbformat_minor": 5
}