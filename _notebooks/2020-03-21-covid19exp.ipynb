{
 "cells": [
  {
   "cell_type": "markdown",
   "id": "muslim-click",
   "metadata": {
    "papermill": {
     "duration": 0.052515,
     "end_time": "2021-03-22T00:11:44.972269",
     "exception": false,
     "start_time": "2021-03-22T00:11:44.919754",
     "status": "completed"
    },
    "tags": []
   },
   "source": [
    "# COVID-19 Case Race\n",
    "> A race chart to see rising cases around the world\n",
    "\n",
    "- author: Hargun Oberoi\n",
    "- image: images/covid-overview.png\n",
    "- hide: false\n",
    "- badges: false"
   ]
  },
  {
   "cell_type": "code",
   "execution_count": 1,
   "id": "proof-material",
   "metadata": {
    "execution": {
     "iopub.execute_input": "2021-03-22T00:11:45.057118Z",
     "iopub.status.busy": "2021-03-22T00:11:45.056402Z",
     "iopub.status.idle": "2021-03-22T00:11:45.494778Z",
     "shell.execute_reply": "2021-03-22T00:11:45.494066Z"
    },
    "papermill": {
     "duration": 0.487257,
     "end_time": "2021-03-22T00:11:45.494952",
     "exception": false,
     "start_time": "2021-03-22T00:11:45.007695",
     "status": "completed"
    },
    "tags": []
   },
   "outputs": [],
   "source": [
    "#hide\n",
    "import numpy as np\n",
    "import pandas as pd\n",
    "from jinja2 import Template\n",
    "from IPython.display import HTML"
   ]
  },
  {
   "cell_type": "code",
   "execution_count": 2,
   "id": "developed-terminology",
   "metadata": {
    "execution": {
     "iopub.execute_input": "2021-03-22T00:11:45.569422Z",
     "iopub.status.busy": "2021-03-22T00:11:45.568710Z",
     "iopub.status.idle": "2021-03-22T00:11:45.570614Z",
     "shell.execute_reply": "2021-03-22T00:11:45.571124Z"
    },
    "papermill": {
     "duration": 0.042049,
     "end_time": "2021-03-22T00:11:45.571313",
     "exception": false,
     "start_time": "2021-03-22T00:11:45.529264",
     "status": "completed"
    },
    "tags": []
   },
   "outputs": [],
   "source": [
    "#hide\n",
    "\n",
    "# FETCH\n",
    "base_url = 'https://raw.githubusercontent.com/pratapvardhan/notebooks/master/covid19/'\n",
    "paths = {\n",
    "    'mapping': base_url + 'mapping_countries.csv',\n",
    "    'overview': base_url + 'overview.tpl'\n",
    "}"
   ]
  },
  {
   "cell_type": "code",
   "execution_count": 3,
   "id": "dynamic-saver",
   "metadata": {
    "execution": {
     "iopub.execute_input": "2021-03-22T00:11:45.658731Z",
     "iopub.status.busy": "2021-03-22T00:11:45.657921Z",
     "iopub.status.idle": "2021-03-22T00:11:45.660760Z",
     "shell.execute_reply": "2021-03-22T00:11:45.661267Z"
    },
    "papermill": {
     "duration": 0.049874,
     "end_time": "2021-03-22T00:11:45.661452",
     "exception": false,
     "start_time": "2021-03-22T00:11:45.611578",
     "status": "completed"
    },
    "tags": []
   },
   "outputs": [
    {
     "data": {
      "text/plain": [
       "'https://raw.githubusercontent.com/pratapvardhan/notebooks/master/covid19/mapping_countries.csv'"
      ]
     },
     "execution_count": 3,
     "metadata": {},
     "output_type": "execute_result"
    }
   ],
   "source": [
    "#hide\n",
    "paths['mapping']"
   ]
  },
  {
   "cell_type": "code",
   "execution_count": 4,
   "id": "urban-software",
   "metadata": {
    "execution": {
     "iopub.execute_input": "2021-03-22T00:11:45.750915Z",
     "iopub.status.busy": "2021-03-22T00:11:45.749966Z",
     "iopub.status.idle": "2021-03-22T00:11:45.752141Z",
     "shell.execute_reply": "2021-03-22T00:11:45.751619Z"
    },
    "papermill": {
     "duration": 0.05114,
     "end_time": "2021-03-22T00:11:45.752292",
     "exception": false,
     "start_time": "2021-03-22T00:11:45.701152",
     "status": "completed"
    },
    "tags": []
   },
   "outputs": [],
   "source": [
    "#hide\n",
    "def get_mappings(url):\n",
    "    df = pd.read_csv(url)\n",
    "    return {\n",
    "        'df': df,\n",
    "        'replace.country': dict(df.dropna(subset=['Name']).set_index('Country')['Name']),\n",
    "        'map.continent': dict(df.set_index('Name')['Continent'])\n",
    "    }"
   ]
  },
  {
   "cell_type": "code",
   "execution_count": 5,
   "id": "intimate-machinery",
   "metadata": {
    "execution": {
     "iopub.execute_input": "2021-03-22T00:11:45.828906Z",
     "iopub.status.busy": "2021-03-22T00:11:45.828217Z",
     "iopub.status.idle": "2021-03-22T00:11:45.866477Z",
     "shell.execute_reply": "2021-03-22T00:11:45.865748Z"
    },
    "papermill": {
     "duration": 0.079588,
     "end_time": "2021-03-22T00:11:45.866701",
     "exception": false,
     "start_time": "2021-03-22T00:11:45.787113",
     "status": "completed"
    },
    "tags": []
   },
   "outputs": [],
   "source": [
    "#hide\n",
    "mapping = get_mappings(paths['mapping'])"
   ]
  },
  {
   "cell_type": "code",
   "execution_count": 6,
   "id": "certified-tactics",
   "metadata": {
    "execution": {
     "iopub.execute_input": "2021-03-22T00:11:45.959751Z",
     "iopub.status.busy": "2021-03-22T00:11:45.958638Z",
     "iopub.status.idle": "2021-03-22T00:11:45.960828Z",
     "shell.execute_reply": "2021-03-22T00:11:45.961570Z"
    },
    "papermill": {
     "duration": 0.047832,
     "end_time": "2021-03-22T00:11:45.961757",
     "exception": false,
     "start_time": "2021-03-22T00:11:45.913925",
     "status": "completed"
    },
    "tags": []
   },
   "outputs": [],
   "source": [
    "#hide\n",
    "def get_template(path):\n",
    "    from urllib.parse import urlparse\n",
    "    if bool(urlparse(path).netloc):\n",
    "        from urllib.request import urlopen\n",
    "        return urlopen(path).read().decode('utf8')\n",
    "    return open(path).read()"
   ]
  },
  {
   "cell_type": "code",
   "execution_count": 7,
   "id": "realistic-blast",
   "metadata": {
    "execution": {
     "iopub.execute_input": "2021-03-22T00:11:46.049890Z",
     "iopub.status.busy": "2021-03-22T00:11:46.049103Z",
     "iopub.status.idle": "2021-03-22T00:11:46.050782Z",
     "shell.execute_reply": "2021-03-22T00:11:46.051374Z"
    },
    "papermill": {
     "duration": 0.051455,
     "end_time": "2021-03-22T00:11:46.051816",
     "exception": false,
     "start_time": "2021-03-22T00:11:46.000361",
     "status": "completed"
    },
    "tags": []
   },
   "outputs": [],
   "source": [
    "#hide\n",
    "def get_frame(name):\n",
    "    url = (\n",
    "        'https://raw.githubusercontent.com/CSSEGISandData/COVID-19/master/csse_covid_19_data/'\n",
    "        f'csse_covid_19_time_series/time_series_covid19_{name}_global.csv')\n",
    "    df = pd.read_csv(url)\n",
    "    # rename countries\n",
    "    df['Country/Region'] = df['Country/Region'].replace(mapping['replace.country'])\n",
    "    return df"
   ]
  },
  {
   "cell_type": "code",
   "execution_count": 8,
   "id": "affiliated-characterization",
   "metadata": {
    "execution": {
     "iopub.execute_input": "2021-03-22T00:11:46.136902Z",
     "iopub.status.busy": "2021-03-22T00:11:46.135829Z",
     "iopub.status.idle": "2021-03-22T00:11:46.137888Z",
     "shell.execute_reply": "2021-03-22T00:11:46.138537Z"
    },
    "papermill": {
     "duration": 0.04613,
     "end_time": "2021-03-22T00:11:46.138818",
     "exception": false,
     "start_time": "2021-03-22T00:11:46.092688",
     "status": "completed"
    },
    "tags": []
   },
   "outputs": [],
   "source": [
    "#hide\n",
    "def get_dates(df):\n",
    "    dt_cols = df.columns[~df.columns.isin(['Province/State', 'Country/Region', 'Lat', 'Long'])]\n",
    "    LAST_DATE_I = -1\n",
    "    # sometimes last column may be empty, then go backwards\n",
    "    for i in range(-1, -len(dt_cols), -1):\n",
    "        if not df[dt_cols[i]].fillna(0).eq(0).all():\n",
    "            LAST_DATE_I = i\n",
    "            break\n",
    "    return LAST_DATE_I, dt_cols"
   ]
  },
  {
   "cell_type": "code",
   "execution_count": 9,
   "id": "recent-optimization",
   "metadata": {
    "execution": {
     "iopub.execute_input": "2021-03-22T00:11:46.217083Z",
     "iopub.status.busy": "2021-03-22T00:11:46.216322Z",
     "iopub.status.idle": "2021-03-22T00:11:46.520198Z",
     "shell.execute_reply": "2021-03-22T00:11:46.518832Z"
    },
    "papermill": {
     "duration": 0.345072,
     "end_time": "2021-03-22T00:11:46.520477",
     "exception": false,
     "start_time": "2021-03-22T00:11:46.175405",
     "status": "completed"
    },
    "tags": []
   },
   "outputs": [],
   "source": [
    "#hide\n",
    "COL_REGION = 'Country/Region'\n",
    "# Confirmed, Recovered, Deaths\n",
    "df = get_frame('confirmed')\n",
    "# dft_: timeseries, dfc_: today country agg\n",
    "dft_cases = df\n",
    "dft_deaths = get_frame('deaths')\n",
    "dft_recovered = get_frame('recovered')\n",
    "LAST_DATE_I, dt_cols = get_dates(df)"
   ]
  },
  {
   "cell_type": "code",
   "execution_count": 10,
   "id": "absolute-copper",
   "metadata": {
    "execution": {
     "iopub.execute_input": "2021-03-22T00:11:46.605480Z",
     "iopub.status.busy": "2021-03-22T00:11:46.604773Z",
     "iopub.status.idle": "2021-03-22T00:11:46.607841Z",
     "shell.execute_reply": "2021-03-22T00:11:46.607165Z"
    },
    "papermill": {
     "duration": 0.051358,
     "end_time": "2021-03-22T00:11:46.608071",
     "exception": false,
     "start_time": "2021-03-22T00:11:46.556713",
     "status": "completed"
    },
    "tags": []
   },
   "outputs": [],
   "source": [
    "#hide\n",
    "LAST_DATE_I, dt_cols = get_dates(df)\n",
    "dt_today =dt_cols[LAST_DATE_I]\n",
    "# dt_5day = dt_cols[LAST_DATE_I - 5]\n",
    "dt_yday = dt_cols[LAST_DATE_I - 1]"
   ]
  },
  {
   "cell_type": "code",
   "execution_count": 11,
   "id": "restricted-sheriff",
   "metadata": {
    "execution": {
     "iopub.execute_input": "2021-03-22T00:11:46.695070Z",
     "iopub.status.busy": "2021-03-22T00:11:46.693903Z",
     "iopub.status.idle": "2021-03-22T00:11:46.704917Z",
     "shell.execute_reply": "2021-03-22T00:11:46.703799Z"
    },
    "papermill": {
     "duration": 0.057636,
     "end_time": "2021-03-22T00:11:46.705122",
     "exception": false,
     "start_time": "2021-03-22T00:11:46.647486",
     "status": "completed"
    },
    "tags": []
   },
   "outputs": [],
   "source": [
    "#hide\n",
    "dfc_cases = dft_cases.groupby(COL_REGION)[dt_today].sum()\n",
    "dfc_deaths = dft_deaths.groupby(COL_REGION)[dt_today].sum()\n",
    "# dfp_cases = dft_cases.groupby(COL_REGION)[dt_5day].sum()\n",
    "# dfp_deaths = dft_deaths.groupby(COL_REGION)[dt_5day].sum()\n",
    "dfp_cases = dft_cases.groupby(COL_REGION)[dt_yday].sum()\n",
    "dfp_deaths = dft_deaths.groupby(COL_REGION)[dt_yday].sum()"
   ]
  },
  {
   "cell_type": "code",
   "execution_count": 12,
   "id": "deluxe-hepatitis",
   "metadata": {
    "execution": {
     "iopub.execute_input": "2021-03-22T00:11:46.803273Z",
     "iopub.status.busy": "2021-03-22T00:11:46.802553Z",
     "iopub.status.idle": "2021-03-22T00:11:46.809110Z",
     "shell.execute_reply": "2021-03-22T00:11:46.808516Z"
    },
    "papermill": {
     "duration": 0.062544,
     "end_time": "2021-03-22T00:11:46.809277",
     "exception": false,
     "start_time": "2021-03-22T00:11:46.746733",
     "status": "completed"
    },
    "tags": []
   },
   "outputs": [],
   "source": [
    "#hide\n",
    "df_table = (pd.DataFrame(dict(Cases = dfc_cases, Deaths = dfc_deaths, PCases = dfp_cases, PDeaths = dfp_deaths))\n",
    "            .sort_values(by = ['Cases','Deaths'], ascending = [False, False])\n",
    "            .reset_index())"
   ]
  },
  {
   "cell_type": "code",
   "execution_count": 13,
   "id": "educational-chancellor",
   "metadata": {
    "execution": {
     "iopub.execute_input": "2021-03-22T00:11:46.917145Z",
     "iopub.status.busy": "2021-03-22T00:11:46.916053Z",
     "iopub.status.idle": "2021-03-22T00:11:46.931112Z",
     "shell.execute_reply": "2021-03-22T00:11:46.930483Z"
    },
    "papermill": {
     "duration": 0.085873,
     "end_time": "2021-03-22T00:11:46.931282",
     "exception": false,
     "start_time": "2021-03-22T00:11:46.845409",
     "status": "completed"
    },
    "tags": []
   },
   "outputs": [
    {
     "data": {
      "text/html": [
       "<div>\n",
       "<style scoped>\n",
       "    .dataframe tbody tr th:only-of-type {\n",
       "        vertical-align: middle;\n",
       "    }\n",
       "\n",
       "    .dataframe tbody tr th {\n",
       "        vertical-align: top;\n",
       "    }\n",
       "\n",
       "    .dataframe thead th {\n",
       "        text-align: right;\n",
       "    }\n",
       "</style>\n",
       "<table border=\"1\" class=\"dataframe\">\n",
       "  <thead>\n",
       "    <tr style=\"text-align: right;\">\n",
       "      <th></th>\n",
       "      <th>Country/Region</th>\n",
       "      <th>Cases</th>\n",
       "      <th>Deaths</th>\n",
       "      <th>PCases</th>\n",
       "      <th>PDeaths</th>\n",
       "      <th>Cases (+)</th>\n",
       "      <th>Deaths (+)</th>\n",
       "      <th>Fatality Rate</th>\n",
       "      <th>Continent</th>\n",
       "    </tr>\n",
       "  </thead>\n",
       "  <tbody>\n",
       "    <tr>\n",
       "      <th>0</th>\n",
       "      <td>US</td>\n",
       "      <td>29785285</td>\n",
       "      <td>541926</td>\n",
       "      <td>29730000</td>\n",
       "      <td>541143</td>\n",
       "      <td>55285</td>\n",
       "      <td>783</td>\n",
       "      <td>1.82</td>\n",
       "      <td>North America</td>\n",
       "    </tr>\n",
       "    <tr>\n",
       "      <th>1</th>\n",
       "      <td>Brazil</td>\n",
       "      <td>11950459</td>\n",
       "      <td>292752</td>\n",
       "      <td>11871390</td>\n",
       "      <td>290314</td>\n",
       "      <td>79069</td>\n",
       "      <td>2438</td>\n",
       "      <td>2.45</td>\n",
       "      <td>South America</td>\n",
       "    </tr>\n",
       "    <tr>\n",
       "      <th>2</th>\n",
       "      <td>India</td>\n",
       "      <td>11599130</td>\n",
       "      <td>159755</td>\n",
       "      <td>11555284</td>\n",
       "      <td>159558</td>\n",
       "      <td>43846</td>\n",
       "      <td>197</td>\n",
       "      <td>1.38</td>\n",
       "      <td>Asia</td>\n",
       "    </tr>\n",
       "    <tr>\n",
       "      <th>3</th>\n",
       "      <td>Russia</td>\n",
       "      <td>4397816</td>\n",
       "      <td>93090</td>\n",
       "      <td>4388268</td>\n",
       "      <td>92704</td>\n",
       "      <td>9548</td>\n",
       "      <td>386</td>\n",
       "      <td>2.12</td>\n",
       "      <td>Europe</td>\n",
       "    </tr>\n",
       "    <tr>\n",
       "      <th>4</th>\n",
       "      <td>United Kingdom</td>\n",
       "      <td>4304839</td>\n",
       "      <td>126359</td>\n",
       "      <td>4299200</td>\n",
       "      <td>126263</td>\n",
       "      <td>5639</td>\n",
       "      <td>96</td>\n",
       "      <td>2.94</td>\n",
       "      <td>Europe</td>\n",
       "    </tr>\n",
       "  </tbody>\n",
       "</table>\n",
       "</div>"
      ],
      "text/plain": [
       "   Country/Region     Cases  Deaths    PCases  PDeaths  Cases (+)  Deaths (+)  \\\n",
       "0              US  29785285  541926  29730000   541143      55285         783   \n",
       "1          Brazil  11950459  292752  11871390   290314      79069        2438   \n",
       "2           India  11599130  159755  11555284   159558      43846         197   \n",
       "3          Russia   4397816   93090   4388268    92704       9548         386   \n",
       "4  United Kingdom   4304839  126359   4299200   126263       5639          96   \n",
       "\n",
       "   Fatality Rate      Continent  \n",
       "0           1.82  North America  \n",
       "1           2.45  South America  \n",
       "2           1.38           Asia  \n",
       "3           2.12         Europe  \n",
       "4           2.94         Europe  "
      ]
     },
     "execution_count": 13,
     "metadata": {},
     "output_type": "execute_result"
    }
   ],
   "source": [
    "#hide\n",
    "for c in 'Cases, Deaths'.split(', '):\n",
    "    df_table[f'{c} (+)'] = (df_table[c] - df_table[f'P{c}']).clip(0)\n",
    "    #Clip ça veut dire, les chiffres negatif sont interdit\n",
    "df_table['Fatality Rate'] = (100* df_table['Deaths']/ df_table['Cases']).round(2)\n",
    "df_table['Continent'] = df_table['Country/Region'].map(mapping['map.continent'])\n",
    "df_table.head(5)"
   ]
  },
  {
   "cell_type": "code",
   "execution_count": 14,
   "id": "aboriginal-bulgaria",
   "metadata": {
    "execution": {
     "iopub.execute_input": "2021-03-22T00:11:47.023406Z",
     "iopub.status.busy": "2021-03-22T00:11:47.022280Z",
     "iopub.status.idle": "2021-03-22T00:11:47.024065Z",
     "shell.execute_reply": "2021-03-22T00:11:47.024663Z"
    },
    "papermill": {
     "duration": 0.053327,
     "end_time": "2021-03-22T00:11:47.024849",
     "exception": false,
     "start_time": "2021-03-22T00:11:46.971522",
     "status": "completed"
    },
    "tags": []
   },
   "outputs": [],
   "source": [
    "#hide\n",
    "#delete problematic countries from table\n",
    "df_table = df_table[~df_table['Country/Region'].isin(['Cape Verde', 'Cruise Ship', 'Kosovo'])]"
   ]
  },
  {
   "cell_type": "code",
   "execution_count": 15,
   "id": "fantastic-effect",
   "metadata": {
    "execution": {
     "iopub.execute_input": "2021-03-22T00:11:47.111589Z",
     "iopub.status.busy": "2021-03-22T00:11:47.110729Z",
     "iopub.status.idle": "2021-03-22T00:11:47.142975Z",
     "shell.execute_reply": "2021-03-22T00:11:47.143608Z"
    },
    "papermill": {
     "duration": 0.080221,
     "end_time": "2021-03-22T00:11:47.143810",
     "exception": false,
     "start_time": "2021-03-22T00:11:47.063589",
     "status": "completed"
    },
    "tags": []
   },
   "outputs": [
    {
     "data": {
      "text/html": [
       "<div>\n",
       "<style scoped>\n",
       "    .dataframe tbody tr th:only-of-type {\n",
       "        vertical-align: middle;\n",
       "    }\n",
       "\n",
       "    .dataframe tbody tr th {\n",
       "        vertical-align: top;\n",
       "    }\n",
       "\n",
       "    .dataframe thead th {\n",
       "        text-align: right;\n",
       "    }\n",
       "</style>\n",
       "<table border=\"1\" class=\"dataframe\">\n",
       "  <thead>\n",
       "    <tr style=\"text-align: right;\">\n",
       "      <th></th>\n",
       "      <th>Country/Region</th>\n",
       "      <th>Cases</th>\n",
       "      <th>Deaths</th>\n",
       "      <th>PCases</th>\n",
       "      <th>PDeaths</th>\n",
       "      <th>Cases (+)</th>\n",
       "      <th>Deaths (+)</th>\n",
       "      <th>Fatality Rate</th>\n",
       "      <th>Continent</th>\n",
       "    </tr>\n",
       "  </thead>\n",
       "  <tbody>\n",
       "    <tr>\n",
       "      <th>0</th>\n",
       "      <td>US</td>\n",
       "      <td>29785285</td>\n",
       "      <td>541926</td>\n",
       "      <td>29730000</td>\n",
       "      <td>541143</td>\n",
       "      <td>55285</td>\n",
       "      <td>783</td>\n",
       "      <td>1.8</td>\n",
       "      <td>North America</td>\n",
       "    </tr>\n",
       "    <tr>\n",
       "      <th>1</th>\n",
       "      <td>Brazil</td>\n",
       "      <td>11950459</td>\n",
       "      <td>292752</td>\n",
       "      <td>11871390</td>\n",
       "      <td>290314</td>\n",
       "      <td>79069</td>\n",
       "      <td>2438</td>\n",
       "      <td>2.4</td>\n",
       "      <td>South America</td>\n",
       "    </tr>\n",
       "    <tr>\n",
       "      <th>2</th>\n",
       "      <td>India</td>\n",
       "      <td>11599130</td>\n",
       "      <td>159755</td>\n",
       "      <td>11555284</td>\n",
       "      <td>159558</td>\n",
       "      <td>43846</td>\n",
       "      <td>197</td>\n",
       "      <td>1.4</td>\n",
       "      <td>Asia</td>\n",
       "    </tr>\n",
       "    <tr>\n",
       "      <th>3</th>\n",
       "      <td>Russia</td>\n",
       "      <td>4397816</td>\n",
       "      <td>93090</td>\n",
       "      <td>4388268</td>\n",
       "      <td>92704</td>\n",
       "      <td>9548</td>\n",
       "      <td>386</td>\n",
       "      <td>2.1</td>\n",
       "      <td>Europe</td>\n",
       "    </tr>\n",
       "    <tr>\n",
       "      <th>4</th>\n",
       "      <td>United Kingdom</td>\n",
       "      <td>4304839</td>\n",
       "      <td>126359</td>\n",
       "      <td>4299200</td>\n",
       "      <td>126263</td>\n",
       "      <td>5639</td>\n",
       "      <td>96</td>\n",
       "      <td>2.9</td>\n",
       "      <td>Europe</td>\n",
       "    </tr>\n",
       "  </tbody>\n",
       "</table>\n",
       "</div>"
      ],
      "text/plain": [
       "   Country/Region     Cases  Deaths    PCases  PDeaths  Cases (+)  Deaths (+)  \\\n",
       "0              US  29785285  541926  29730000   541143      55285         783   \n",
       "1          Brazil  11950459  292752  11871390   290314      79069        2438   \n",
       "2           India  11599130  159755  11555284   159558      43846         197   \n",
       "3          Russia   4397816   93090   4388268    92704       9548         386   \n",
       "4  United Kingdom   4304839  126359   4299200   126263       5639          96   \n",
       "\n",
       "   Fatality Rate      Continent  \n",
       "0            1.8  North America  \n",
       "1            2.4  South America  \n",
       "2            1.4           Asia  \n",
       "3            2.1         Europe  \n",
       "4            2.9         Europe  "
      ]
     },
     "execution_count": 15,
     "metadata": {},
     "output_type": "execute_result"
    }
   ],
   "source": [
    "#hide\n",
    "df_table = (pd.DataFrame(dict(Cases=dfc_cases, Deaths=dfc_deaths, PCases=dfp_cases, PDeaths=dfp_deaths))\n",
    "             .sort_values(by=['Cases', 'Deaths'], ascending=[False, False])\n",
    "             .reset_index())\n",
    "df_table.rename(columns={'index': 'Country/Region'}, inplace=True)\n",
    "for c in 'Cases, Deaths'.split(', '):\n",
    "    df_table[f'{c} (+)'] = (df_table[c] - df_table[f'P{c}']).clip(0)  # DATA BUG\n",
    "df_table['Fatality Rate'] = (100 * df_table['Deaths'] / df_table['Cases']).round(1)\n",
    "df_table['Continent'] = df_table['Country/Region'].map(mapping['map.continent'])\n",
    "df_table.head(5)"
   ]
  },
  {
   "cell_type": "code",
   "execution_count": 16,
   "id": "fewer-occasion",
   "metadata": {
    "execution": {
     "iopub.execute_input": "2021-03-22T00:11:47.238618Z",
     "iopub.status.busy": "2021-03-22T00:11:47.236057Z",
     "iopub.status.idle": "2021-03-22T00:11:47.239765Z",
     "shell.execute_reply": "2021-03-22T00:11:47.239244Z"
    },
    "papermill": {
     "duration": 0.050807,
     "end_time": "2021-03-22T00:11:47.239917",
     "exception": false,
     "start_time": "2021-03-22T00:11:47.189110",
     "status": "completed"
    },
    "tags": []
   },
   "outputs": [],
   "source": [
    "#hide\n",
    "#delete problematic countries from table\n",
    "df_table = df_table[~df_table['Country/Region'].isin(['Cape Verde', 'Cruise Ship', 'Kosovo'])]"
   ]
  },
  {
   "cell_type": "code",
   "execution_count": 17,
   "id": "related-center",
   "metadata": {
    "execution": {
     "iopub.execute_input": "2021-03-22T00:11:47.354082Z",
     "iopub.status.busy": "2021-03-22T00:11:47.353209Z",
     "iopub.status.idle": "2021-03-22T00:11:47.355079Z",
     "shell.execute_reply": "2021-03-22T00:11:47.355707Z"
    },
    "papermill": {
     "duration": 0.074229,
     "end_time": "2021-03-22T00:11:47.355904",
     "exception": false,
     "start_time": "2021-03-22T00:11:47.281675",
     "status": "completed"
    },
    "tags": []
   },
   "outputs": [],
   "source": [
    "#hide\n",
    "metrics = [df_table.columns[index] for index in [1,2,5,6]]\n",
    "# s_china = df_table[df_table['Country/Region'].eq('China')][metrics].sum().add_prefix('China ')\n",
    "s_us = df_table[df_table['Country/Region'].eq('US')][metrics].sum().add_prefix('US ')\n",
    "s_eu = df_table[df_table['Continent'].eq('Europe')][metrics].sum().add_prefix('EU ')\n",
    "s_ind = df_table[df_table['Country/Region'].eq('India')][metrics].sum().add_prefix('India ')\n",
    "summary = {'updated': pd.to_datetime(dt_today), 'since': pd.to_datetime(dt_yday)}\n",
    "summary = {'updated': pd.to_datetime(dt_today), 'since': pd.to_datetime(dt_yday)}\n",
    "summary = {**summary, **df_table[metrics].sum(), **s_ind, **s_us, **s_eu}"
   ]
  },
  {
   "cell_type": "code",
   "execution_count": 18,
   "id": "engaging-syndrome",
   "metadata": {
    "execution": {
     "iopub.execute_input": "2021-03-22T00:11:47.447063Z",
     "iopub.status.busy": "2021-03-22T00:11:47.446407Z",
     "iopub.status.idle": "2021-03-22T00:11:47.471509Z",
     "shell.execute_reply": "2021-03-22T00:11:47.470790Z"
    },
    "papermill": {
     "duration": 0.074088,
     "end_time": "2021-03-22T00:11:47.471709",
     "exception": false,
     "start_time": "2021-03-22T00:11:47.397621",
     "status": "completed"
    },
    "tags": []
   },
   "outputs": [],
   "source": [
    "#hide\n",
    "dft_ct_new_cases = dft_cases.groupby(COL_REGION)[dt_cols].sum().diff(axis=1).fillna(0).astype(int)"
   ]
  },
  {
   "cell_type": "code",
   "execution_count": 19,
   "id": "neutral-assignment",
   "metadata": {
    "execution": {
     "iopub.execute_input": "2021-03-22T00:11:47.556970Z",
     "iopub.status.busy": "2021-03-22T00:11:47.556286Z",
     "iopub.status.idle": "2021-03-22T00:11:47.560299Z",
     "shell.execute_reply": "2021-03-22T00:11:47.559715Z"
    },
    "papermill": {
     "duration": 0.050181,
     "end_time": "2021-03-22T00:11:47.560460",
     "exception": false,
     "start_time": "2021-03-22T00:11:47.510279",
     "status": "completed"
    },
    "tags": []
   },
   "outputs": [],
   "source": [
    "#hide\n",
    "everydaycases = dft_ct_new_cases.cumsum(axis=1)"
   ]
  },
  {
   "cell_type": "code",
   "execution_count": 20,
   "id": "parliamentary-calgary",
   "metadata": {
    "execution": {
     "iopub.execute_input": "2021-03-22T00:11:47.638393Z",
     "iopub.status.busy": "2021-03-22T00:11:47.637471Z",
     "iopub.status.idle": "2021-03-22T00:11:49.532846Z",
     "shell.execute_reply": "2021-03-22T00:11:49.532106Z"
    },
    "papermill": {
     "duration": 1.936356,
     "end_time": "2021-03-22T00:11:49.533021",
     "exception": false,
     "start_time": "2021-03-22T00:11:47.596665",
     "status": "completed"
    },
    "tags": []
   },
   "outputs": [],
   "source": [
    "#hide\n",
    "import pandas as pd\n",
    "import matplotlib.pyplot as plt\n",
    "import matplotlib.ticker as ticker\n",
    "import matplotlib.animation as animation\n",
    "from IPython.display import HTML"
   ]
  },
  {
   "cell_type": "code",
   "execution_count": 21,
   "id": "lasting-extraction",
   "metadata": {
    "execution": {
     "iopub.execute_input": "2021-03-22T00:11:49.618925Z",
     "iopub.status.busy": "2021-03-22T00:11:49.618131Z",
     "iopub.status.idle": "2021-03-22T00:11:49.625859Z",
     "shell.execute_reply": "2021-03-22T00:11:49.625106Z"
    },
    "papermill": {
     "duration": 0.050462,
     "end_time": "2021-03-22T00:11:49.626029",
     "exception": false,
     "start_time": "2021-03-22T00:11:49.575567",
     "status": "completed"
    },
    "tags": []
   },
   "outputs": [],
   "source": [
    "#hide\n",
    "t = everydaycases.stack()"
   ]
  },
  {
   "cell_type": "code",
   "execution_count": 22,
   "id": "premier-sleeve",
   "metadata": {
    "execution": {
     "iopub.execute_input": "2021-03-22T00:11:49.707572Z",
     "iopub.status.busy": "2021-03-22T00:11:49.706796Z",
     "iopub.status.idle": "2021-03-22T00:11:49.718654Z",
     "shell.execute_reply": "2021-03-22T00:11:49.717953Z"
    },
    "papermill": {
     "duration": 0.053038,
     "end_time": "2021-03-22T00:11:49.719043",
     "exception": false,
     "start_time": "2021-03-22T00:11:49.666005",
     "status": "completed"
    },
    "tags": []
   },
   "outputs": [],
   "source": [
    "#hide\n",
    "g = t.reset_index(['Country/Region'])"
   ]
  },
  {
   "cell_type": "code",
   "execution_count": 23,
   "id": "distributed-pittsburgh",
   "metadata": {
    "execution": {
     "iopub.execute_input": "2021-03-22T00:11:49.809104Z",
     "iopub.status.busy": "2021-03-22T00:11:49.808176Z",
     "iopub.status.idle": "2021-03-22T00:11:49.809852Z",
     "shell.execute_reply": "2021-03-22T00:11:49.810586Z"
    },
    "papermill": {
     "duration": 0.049857,
     "end_time": "2021-03-22T00:11:49.810791",
     "exception": false,
     "start_time": "2021-03-22T00:11:49.760934",
     "status": "completed"
    },
    "tags": []
   },
   "outputs": [],
   "source": [
    "#hide\n",
    "g.index.name = 'date'"
   ]
  },
  {
   "cell_type": "code",
   "execution_count": 24,
   "id": "naked-donor",
   "metadata": {
    "execution": {
     "iopub.execute_input": "2021-03-22T00:11:49.887744Z",
     "iopub.status.busy": "2021-03-22T00:11:49.886623Z",
     "iopub.status.idle": "2021-03-22T00:11:49.888768Z",
     "shell.execute_reply": "2021-03-22T00:11:49.889283Z"
    },
    "papermill": {
     "duration": 0.047808,
     "end_time": "2021-03-22T00:11:49.894122",
     "exception": false,
     "start_time": "2021-03-22T00:11:49.846314",
     "status": "completed"
    },
    "tags": []
   },
   "outputs": [],
   "source": [
    "# #hide\n",
    "# g = g.reset_index(['date'])"
   ]
  },
  {
   "cell_type": "code",
   "execution_count": 25,
   "id": "incomplete-mustang",
   "metadata": {
    "execution": {
     "iopub.execute_input": "2021-03-22T00:11:49.980585Z",
     "iopub.status.busy": "2021-03-22T00:11:49.979567Z",
     "iopub.status.idle": "2021-03-22T00:11:49.981455Z",
     "shell.execute_reply": "2021-03-22T00:11:49.982128Z"
    },
    "papermill": {
     "duration": 0.046808,
     "end_time": "2021-03-22T00:11:49.982333",
     "exception": false,
     "start_time": "2021-03-22T00:11:49.935525",
     "status": "completed"
    },
    "tags": []
   },
   "outputs": [],
   "source": [
    "#hide\n",
    "# g.head()"
   ]
  },
  {
   "cell_type": "code",
   "execution_count": 26,
   "id": "specific-kruger",
   "metadata": {
    "execution": {
     "iopub.execute_input": "2021-03-22T00:11:50.064218Z",
     "iopub.status.busy": "2021-03-22T00:11:50.063488Z",
     "iopub.status.idle": "2021-03-22T00:11:50.065003Z",
     "shell.execute_reply": "2021-03-22T00:11:50.065573Z"
    },
    "papermill": {
     "duration": 0.042571,
     "end_time": "2021-03-22T00:11:50.065767",
     "exception": false,
     "start_time": "2021-03-22T00:11:50.023196",
     "status": "completed"
    },
    "tags": []
   },
   "outputs": [],
   "source": [
    "#hide\n",
    "# g.columns = ['date','country','cases']"
   ]
  },
  {
   "cell_type": "code",
   "execution_count": 27,
   "id": "tender-conversion",
   "metadata": {
    "execution": {
     "iopub.execute_input": "2021-03-22T00:11:50.146426Z",
     "iopub.status.busy": "2021-03-22T00:11:50.145723Z",
     "iopub.status.idle": "2021-03-22T00:11:50.151215Z",
     "shell.execute_reply": "2021-03-22T00:11:50.151739Z"
    },
    "papermill": {
     "duration": 0.048761,
     "end_time": "2021-03-22T00:11:50.151930",
     "exception": false,
     "start_time": "2021-03-22T00:11:50.103169",
     "status": "completed"
    },
    "tags": []
   },
   "outputs": [],
   "source": [
    "#hide\n",
    "# g['continent'] = g.country"
   ]
  },
  {
   "cell_type": "code",
   "execution_count": 28,
   "id": "substantial-wilderness",
   "metadata": {
    "execution": {
     "iopub.execute_input": "2021-03-22T00:11:50.227888Z",
     "iopub.status.busy": "2021-03-22T00:11:50.227159Z",
     "iopub.status.idle": "2021-03-22T00:11:50.229913Z",
     "shell.execute_reply": "2021-03-22T00:11:50.230437Z"
    },
    "papermill": {
     "duration": 0.043357,
     "end_time": "2021-03-22T00:11:50.230639",
     "exception": false,
     "start_time": "2021-03-22T00:11:50.187282",
     "status": "completed"
    },
    "tags": []
   },
   "outputs": [],
   "source": [
    "#hide\n",
    "# cols = list(g.columns.values)"
   ]
  },
  {
   "cell_type": "code",
   "execution_count": 29,
   "id": "solved-farming",
   "metadata": {
    "execution": {
     "iopub.execute_input": "2021-03-22T00:11:50.308186Z",
     "iopub.status.busy": "2021-03-22T00:11:50.307400Z",
     "iopub.status.idle": "2021-03-22T00:11:50.309434Z",
     "shell.execute_reply": "2021-03-22T00:11:50.309915Z"
    },
    "papermill": {
     "duration": 0.043743,
     "end_time": "2021-03-22T00:11:50.310141",
     "exception": false,
     "start_time": "2021-03-22T00:11:50.266398",
     "status": "completed"
    },
    "tags": []
   },
   "outputs": [],
   "source": [
    "#hide\n",
    "# cols.insert(0, cols.pop())"
   ]
  },
  {
   "cell_type": "code",
   "execution_count": 30,
   "id": "executed-adoption",
   "metadata": {
    "execution": {
     "iopub.execute_input": "2021-03-22T00:11:50.392372Z",
     "iopub.status.busy": "2021-03-22T00:11:50.391669Z",
     "iopub.status.idle": "2021-03-22T00:11:50.394590Z",
     "shell.execute_reply": "2021-03-22T00:11:50.395147Z"
    },
    "papermill": {
     "duration": 0.04363,
     "end_time": "2021-03-22T00:11:50.395338",
     "exception": false,
     "start_time": "2021-03-22T00:11:50.351708",
     "status": "completed"
    },
    "tags": []
   },
   "outputs": [],
   "source": [
    "#hide\n",
    "# g = g[cols]"
   ]
  },
  {
   "cell_type": "code",
   "execution_count": 31,
   "id": "subject-dublin",
   "metadata": {
    "execution": {
     "iopub.execute_input": "2021-03-22T00:11:50.473592Z",
     "iopub.status.busy": "2021-03-22T00:11:50.472926Z",
     "iopub.status.idle": "2021-03-22T00:11:50.475185Z",
     "shell.execute_reply": "2021-03-22T00:11:50.475686Z"
    },
    "papermill": {
     "duration": 0.043745,
     "end_time": "2021-03-22T00:11:50.475872",
     "exception": false,
     "start_time": "2021-03-22T00:11:50.432127",
     "status": "completed"
    },
    "tags": []
   },
   "outputs": [],
   "source": [
    "#hide\n",
    "# g['continent'] = g['continent'].map(mapping['map.continent'])"
   ]
  },
  {
   "cell_type": "code",
   "execution_count": 32,
   "id": "freelance-scout",
   "metadata": {
    "execution": {
     "iopub.execute_input": "2021-03-22T00:11:50.553889Z",
     "iopub.status.busy": "2021-03-22T00:11:50.553230Z",
     "iopub.status.idle": "2021-03-22T00:11:50.555568Z",
     "shell.execute_reply": "2021-03-22T00:11:50.556062Z"
    },
    "papermill": {
     "duration": 0.044932,
     "end_time": "2021-03-22T00:11:50.556245",
     "exception": false,
     "start_time": "2021-03-22T00:11:50.511313",
     "status": "completed"
    },
    "tags": []
   },
   "outputs": [],
   "source": [
    "#hide\n",
    "# g.head()"
   ]
  },
  {
   "cell_type": "code",
   "execution_count": 33,
   "id": "limited-engine",
   "metadata": {
    "execution": {
     "iopub.execute_input": "2021-03-22T00:11:50.634360Z",
     "iopub.status.busy": "2021-03-22T00:11:50.633576Z",
     "iopub.status.idle": "2021-03-22T00:11:50.635506Z",
     "shell.execute_reply": "2021-03-22T00:11:50.636061Z"
    },
    "papermill": {
     "duration": 0.042968,
     "end_time": "2021-03-22T00:11:50.636299",
     "exception": false,
     "start_time": "2021-03-22T00:11:50.593331",
     "status": "completed"
    },
    "tags": []
   },
   "outputs": [],
   "source": [
    "# hide\n",
    "# g['date'] = g['date'].astype('datetime64[ns]')"
   ]
  },
  {
   "cell_type": "code",
   "execution_count": 34,
   "id": "sophisticated-supervisor",
   "metadata": {
    "execution": {
     "iopub.execute_input": "2021-03-22T00:11:50.712471Z",
     "iopub.status.busy": "2021-03-22T00:11:50.711789Z",
     "iopub.status.idle": "2021-03-22T00:11:50.713782Z",
     "shell.execute_reply": "2021-03-22T00:11:50.714307Z"
    },
    "papermill": {
     "duration": 0.042667,
     "end_time": "2021-03-22T00:11:50.714504",
     "exception": false,
     "start_time": "2021-03-22T00:11:50.671837",
     "status": "completed"
    },
    "tags": []
   },
   "outputs": [],
   "source": [
    "#hide\n",
    "# g['date'] = g.date.dt.dayofyear"
   ]
  },
  {
   "cell_type": "code",
   "execution_count": 35,
   "id": "inside-dubai",
   "metadata": {
    "execution": {
     "iopub.execute_input": "2021-03-22T00:11:50.790786Z",
     "iopub.status.busy": "2021-03-22T00:11:50.790006Z",
     "iopub.status.idle": "2021-03-22T00:11:50.791798Z",
     "shell.execute_reply": "2021-03-22T00:11:50.792388Z"
    },
    "papermill": {
     "duration": 0.042613,
     "end_time": "2021-03-22T00:11:50.792579",
     "exception": false,
     "start_time": "2021-03-22T00:11:50.749966",
     "status": "completed"
    },
    "tags": []
   },
   "outputs": [],
   "source": [
    "#hide\n",
    "# g = g.rename(columns= {'continent':'group','country':'name','cases':'value'})"
   ]
  },
  {
   "cell_type": "code",
   "execution_count": 36,
   "id": "fleet-motorcycle",
   "metadata": {
    "execution": {
     "iopub.execute_input": "2021-03-22T00:11:50.868832Z",
     "iopub.status.busy": "2021-03-22T00:11:50.868094Z",
     "iopub.status.idle": "2021-03-22T00:11:50.869813Z",
     "shell.execute_reply": "2021-03-22T00:11:50.870364Z"
    },
    "papermill": {
     "duration": 0.042423,
     "end_time": "2021-03-22T00:11:50.870617",
     "exception": false,
     "start_time": "2021-03-22T00:11:50.828194",
     "status": "completed"
    },
    "tags": []
   },
   "outputs": [],
   "source": [
    "#hide\n",
    "# cols = ['name','group','day','value']"
   ]
  },
  {
   "cell_type": "code",
   "execution_count": 37,
   "id": "continued-sleeping",
   "metadata": {
    "execution": {
     "iopub.execute_input": "2021-03-22T00:11:50.947370Z",
     "iopub.status.busy": "2021-03-22T00:11:50.946545Z",
     "iopub.status.idle": "2021-03-22T00:11:50.948622Z",
     "shell.execute_reply": "2021-03-22T00:11:50.949173Z"
    },
    "papermill": {
     "duration": 0.042717,
     "end_time": "2021-03-22T00:11:50.949362",
     "exception": false,
     "start_time": "2021-03-22T00:11:50.906645",
     "status": "completed"
    },
    "tags": []
   },
   "outputs": [],
   "source": [
    "#hide\n",
    "# g.rename(columns= {'date':'day'},inplace = True)"
   ]
  },
  {
   "cell_type": "code",
   "execution_count": 38,
   "id": "major-fight",
   "metadata": {
    "execution": {
     "iopub.execute_input": "2021-03-22T00:11:51.027210Z",
     "iopub.status.busy": "2021-03-22T00:11:51.026550Z",
     "iopub.status.idle": "2021-03-22T00:11:51.029904Z",
     "shell.execute_reply": "2021-03-22T00:11:51.029367Z"
    },
    "papermill": {
     "duration": 0.044575,
     "end_time": "2021-03-22T00:11:51.030064",
     "exception": false,
     "start_time": "2021-03-22T00:11:50.985489",
     "status": "completed"
    },
    "tags": []
   },
   "outputs": [],
   "source": [
    "#hide\n",
    "# g = g[cols]"
   ]
  },
  {
   "cell_type": "code",
   "execution_count": 39,
   "id": "structured-mobile",
   "metadata": {
    "execution": {
     "iopub.execute_input": "2021-03-22T00:11:51.106167Z",
     "iopub.status.busy": "2021-03-22T00:11:51.105463Z",
     "iopub.status.idle": "2021-03-22T00:11:51.108057Z",
     "shell.execute_reply": "2021-03-22T00:11:51.107514Z"
    },
    "papermill": {
     "duration": 0.042515,
     "end_time": "2021-03-22T00:11:51.108215",
     "exception": false,
     "start_time": "2021-03-22T00:11:51.065700",
     "status": "completed"
    },
    "tags": []
   },
   "outputs": [],
   "source": [
    "# #hide\n",
    "# g = g[g.group.notna()]"
   ]
  },
  {
   "cell_type": "code",
   "execution_count": 40,
   "id": "determined-closing",
   "metadata": {
    "execution": {
     "iopub.execute_input": "2021-03-22T00:11:51.184582Z",
     "iopub.status.busy": "2021-03-22T00:11:51.183679Z",
     "iopub.status.idle": "2021-03-22T00:11:51.185376Z",
     "shell.execute_reply": "2021-03-22T00:11:51.186047Z"
    },
    "papermill": {
     "duration": 0.042824,
     "end_time": "2021-03-22T00:11:51.186268",
     "exception": false,
     "start_time": "2021-03-22T00:11:51.143444",
     "status": "completed"
    },
    "tags": []
   },
   "outputs": [],
   "source": [
    "# #hide\n",
    "# colors = dict(zip(\n",
    "#     [\"Oceania\", \"Europe\", \"Asia\", \"South America\", \"Middle East\", \"North America\", \"Africa\"],\n",
    "#     [\"#adb0ff\", \"#ffb3ff\", \"#90d595\", \"#e48381\", \"#aafbff\", \"#f7bb5f\", \"#eafb50\"]\n",
    "# ))\n",
    "# group_lk = g.set_index('name')['group'].to_dict()"
   ]
  },
  {
   "cell_type": "code",
   "execution_count": null,
   "id": "gross-drinking",
   "metadata": {
    "papermill": {
     "duration": 0.038241,
     "end_time": "2021-03-22T00:11:51.272727",
     "exception": false,
     "start_time": "2021-03-22T00:11:51.234486",
     "status": "completed"
    },
    "tags": []
   },
   "outputs": [],
   "source": []
  },
  {
   "cell_type": "code",
   "execution_count": 41,
   "id": "subject-macintosh",
   "metadata": {
    "execution": {
     "iopub.execute_input": "2021-03-22T00:11:51.375946Z",
     "iopub.status.busy": "2021-03-22T00:11:51.375168Z",
     "iopub.status.idle": "2021-03-22T00:11:51.383512Z",
     "shell.execute_reply": "2021-03-22T00:11:51.378682Z"
    },
    "papermill": {
     "duration": 0.059066,
     "end_time": "2021-03-22T00:11:51.383707",
     "exception": false,
     "start_time": "2021-03-22T00:11:51.324641",
     "status": "completed"
    },
    "tags": []
   },
   "outputs": [],
   "source": [
    "# #hide\n",
    "# fig, ax = plt.subplots(figsize=(15, 8))\n",
    "\n",
    "# def draw_barchart(current_day):\n",
    "#     dff = g[g['day'].eq(current_day)].sort_values(by='value', ascending=True).tail(10)\n",
    "#     ax.clear()\n",
    "#     ax.barh(dff['name'], dff['value'], color=[colors[group_lk[x]] for x in dff['name']])\n",
    "#     dx = dff['value'].max() / 200\n",
    "    \n",
    "#     for i, (value, name) in enumerate(zip(dff['value'], dff['name'])):\n",
    "#         ax.text(value-dx, i,     name,           size=14, weight=600, ha='right', va='bottom')\n",
    "#         ax.text(value-dx, i-.25, group_lk[name], size=10, color='#444444', ha='right', va='baseline')\n",
    "#         ax.text(value+dx, i,     f'{value:,.0f}',  size=14, ha='left',  va='center')\n",
    "#     ax.text(1, 0.4, current_day, transform=ax.transAxes, color='#777777', size=46, ha='right', weight=800)\n",
    "#     ax.text(0, 1.06, 'Population (thousands)', transform=ax.transAxes, size=12, color='#777777')\n",
    "#     ax.xaxis.set_major_formatter(ticker.StrMethodFormatter('{x:,.0f}'))\n",
    "#     ax.xaxis.set_ticks_position('top')\n",
    "#     ax.tick_params(axis='x', colors='#777777', labelsize=12)\n",
    "#     ax.set_yticks([])\n",
    "#     ax.margins(0, 0.01)\n",
    "#     ax.grid(which='major', axis='x', linestyle='-')\n",
    "#     ax.set_axisbelow(True)\n",
    "    \n",
    "#     ax.text(0, 1.15, 'Coronavirus',\n",
    "#             transform=ax.transAxes, size=24, weight=600, ha='left', va='top')\n",
    "# #     ax.text(1, 0, 'by @pratapvardhan; credit @jburnmurdoch', transform=ax.transAxes, color='#777777', ha='right',\n",
    "# #             bbox=dict(facecolor='white', alpha=0.8, edgecolor='white'))\n",
    "#     plt.box(False)"
   ]
  },
  {
   "cell_type": "code",
   "execution_count": 42,
   "id": "sexual-wages",
   "metadata": {
    "execution": {
     "iopub.execute_input": "2021-03-22T00:11:52.061109Z",
     "iopub.status.busy": "2021-03-22T00:11:52.059420Z",
     "iopub.status.idle": "2021-03-22T00:11:52.062015Z",
     "shell.execute_reply": "2021-03-22T00:11:52.062621Z"
    },
    "papermill": {
     "duration": 0.47206,
     "end_time": "2021-03-22T00:11:52.062814",
     "exception": false,
     "start_time": "2021-03-22T00:11:51.590754",
     "status": "completed"
    },
    "tags": []
   },
   "outputs": [],
   "source": [
    "# #hide_input\n",
    "# fig, ax = plt.subplots(figsize=(15, 8))\n",
    "# animator = animation.FuncAnimation(fig, draw_barchart, frames=range(g.day.values.min(), g.day.values.max()))\n",
    "# HTML(animator.to_jshtml())\n",
    "# # or use animator.to_html5_video() or animator.save() "
   ]
  },
  {
   "cell_type": "code",
   "execution_count": null,
   "id": "australian-container",
   "metadata": {
    "papermill": {
     "duration": 0.034994,
     "end_time": "2021-03-22T00:11:52.133137",
     "exception": false,
     "start_time": "2021-03-22T00:11:52.098143",
     "status": "completed"
    },
    "tags": []
   },
   "outputs": [],
   "source": []
  },
  {
   "cell_type": "code",
   "execution_count": null,
   "id": "mediterranean-pontiac",
   "metadata": {
    "papermill": {
     "duration": 0.035086,
     "end_time": "2021-03-22T00:11:52.203657",
     "exception": false,
     "start_time": "2021-03-22T00:11:52.168571",
     "status": "completed"
    },
    "tags": []
   },
   "outputs": [],
   "source": []
  },
  {
   "cell_type": "code",
   "execution_count": null,
   "id": "aging-legislature",
   "metadata": {
    "papermill": {
     "duration": 0.034956,
     "end_time": "2021-03-22T00:11:52.273723",
     "exception": false,
     "start_time": "2021-03-22T00:11:52.238767",
     "status": "completed"
    },
    "tags": []
   },
   "outputs": [],
   "source": []
  }
 ],
 "metadata": {
  "kernelspec": {
   "display_name": "Python 3",
   "language": "python",
   "name": "python3"
  },
  "language_info": {
   "codemirror_mode": {
    "name": "ipython",
    "version": 3
   },
   "file_extension": ".py",
   "mimetype": "text/x-python",
   "name": "python",
   "nbconvert_exporter": "python",
   "pygments_lexer": "ipython3",
   "version": "3.6.13"
  },
  "papermill": {
   "duration": 9.268528,
   "end_time": "2021-03-22T00:11:52.820854",
   "environment_variables": {},
   "exception": null,
   "input_path": "2020-03-21-covid19exp.ipynb",
   "output_path": "2020-03-21-covid19exp.ipynb",
   "parameters": {},
   "start_time": "2021-03-22T00:11:43.552326",
   "version": "2.0.0"
  }
 },
 "nbformat": 4,
 "nbformat_minor": 5
}