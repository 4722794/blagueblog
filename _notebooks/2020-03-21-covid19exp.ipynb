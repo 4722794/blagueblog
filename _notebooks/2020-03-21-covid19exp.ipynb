{
 "cells": [
  {
   "cell_type": "markdown",
   "id": "muslim-click",
   "metadata": {
    "papermill": {
     "duration": 0.044755,
     "end_time": "2022-12-02T12:16:45.473181",
     "exception": false,
     "start_time": "2022-12-02T12:16:45.428426",
     "status": "completed"
    },
    "tags": []
   },
   "source": [
    "# COVID-19 Case Race\n",
    "> A race chart to see rising cases around the world\n",
    "\n",
    "- author: Hargun Oberoi\n",
    "- image: images/covid-overview.png\n",
    "- hide: false\n",
    "- badges: false"
   ]
  },
  {
   "cell_type": "code",
   "execution_count": 1,
   "id": "proof-material",
   "metadata": {
    "execution": {
     "iopub.execute_input": "2022-12-02T12:16:45.557053Z",
     "iopub.status.busy": "2022-12-02T12:16:45.556325Z",
     "iopub.status.idle": "2022-12-02T12:16:45.958738Z",
     "shell.execute_reply": "2022-12-02T12:16:45.959333Z"
    },
    "papermill": {
     "duration": 0.450124,
     "end_time": "2022-12-02T12:16:45.959535",
     "exception": false,
     "start_time": "2022-12-02T12:16:45.509411",
     "status": "completed"
    },
    "tags": []
   },
   "outputs": [],
   "source": [
    "#hide\n",
    "import numpy as np\n",
    "import pandas as pd\n",
    "from jinja2 import Template\n",
    "from IPython.display import HTML"
   ]
  },
  {
   "cell_type": "code",
   "execution_count": 2,
   "id": "developed-terminology",
   "metadata": {
    "execution": {
     "iopub.execute_input": "2022-12-02T12:16:46.042785Z",
     "iopub.status.busy": "2022-12-02T12:16:46.041786Z",
     "iopub.status.idle": "2022-12-02T12:16:46.043792Z",
     "shell.execute_reply": "2022-12-02T12:16:46.044679Z"
    },
    "papermill": {
     "duration": 0.046998,
     "end_time": "2022-12-02T12:16:46.044890",
     "exception": false,
     "start_time": "2022-12-02T12:16:45.997892",
     "status": "completed"
    },
    "tags": []
   },
   "outputs": [],
   "source": [
    "#hide\n",
    "\n",
    "# FETCH\n",
    "base_url = 'https://raw.githubusercontent.com/pratapvardhan/notebooks/master/covid19/'\n",
    "paths = {\n",
    "    'mapping': base_url + 'mapping_countries.csv',\n",
    "    'overview': base_url + 'overview.tpl'\n",
    "}"
   ]
  },
  {
   "cell_type": "code",
   "execution_count": 3,
   "id": "dynamic-saver",
   "metadata": {
    "execution": {
     "iopub.execute_input": "2022-12-02T12:16:46.132400Z",
     "iopub.status.busy": "2022-12-02T12:16:46.131640Z",
     "iopub.status.idle": "2022-12-02T12:16:46.143595Z",
     "shell.execute_reply": "2022-12-02T12:16:46.144494Z"
    },
    "papermill": {
     "duration": 0.054076,
     "end_time": "2022-12-02T12:16:46.144655",
     "exception": false,
     "start_time": "2022-12-02T12:16:46.090579",
     "status": "completed"
    },
    "tags": []
   },
   "outputs": [
    {
     "data": {
      "text/plain": [
       "'https://raw.githubusercontent.com/pratapvardhan/notebooks/master/covid19/mapping_countries.csv'"
      ]
     },
     "execution_count": 3,
     "metadata": {},
     "output_type": "execute_result"
    }
   ],
   "source": [
    "#hide\n",
    "paths['mapping']"
   ]
  },
  {
   "cell_type": "code",
   "execution_count": 4,
   "id": "urban-software",
   "metadata": {
    "execution": {
     "iopub.execute_input": "2022-12-02T12:16:46.248129Z",
     "iopub.status.busy": "2022-12-02T12:16:46.247387Z",
     "iopub.status.idle": "2022-12-02T12:16:46.251419Z",
     "shell.execute_reply": "2022-12-02T12:16:46.250814Z"
    },
    "papermill": {
     "duration": 0.056465,
     "end_time": "2022-12-02T12:16:46.251552",
     "exception": false,
     "start_time": "2022-12-02T12:16:46.195087",
     "status": "completed"
    },
    "tags": []
   },
   "outputs": [],
   "source": [
    "#hide\n",
    "def get_mappings(url):\n",
    "    df = pd.read_csv(url)\n",
    "    return {\n",
    "        'df': df,\n",
    "        'replace.country': dict(df.dropna(subset=['Name']).set_index('Country')['Name']),\n",
    "        'map.continent': dict(df.set_index('Name')['Continent'])\n",
    "    }"
   ]
  },
  {
   "cell_type": "code",
   "execution_count": 5,
   "id": "intimate-machinery",
   "metadata": {
    "execution": {
     "iopub.execute_input": "2022-12-02T12:16:46.339292Z",
     "iopub.status.busy": "2022-12-02T12:16:46.336986Z",
     "iopub.status.idle": "2022-12-02T12:16:46.373409Z",
     "shell.execute_reply": "2022-12-02T12:16:46.374002Z"
    },
    "papermill": {
     "duration": 0.084138,
     "end_time": "2022-12-02T12:16:46.374181",
     "exception": false,
     "start_time": "2022-12-02T12:16:46.290043",
     "status": "completed"
    },
    "tags": []
   },
   "outputs": [],
   "source": [
    "#hide\n",
    "mapping = get_mappings(paths['mapping'])"
   ]
  },
  {
   "cell_type": "code",
   "execution_count": 6,
   "id": "certified-tactics",
   "metadata": {
    "execution": {
     "iopub.execute_input": "2022-12-02T12:16:46.465305Z",
     "iopub.status.busy": "2022-12-02T12:16:46.464541Z",
     "iopub.status.idle": "2022-12-02T12:16:46.469744Z",
     "shell.execute_reply": "2022-12-02T12:16:46.470575Z"
    },
    "papermill": {
     "duration": 0.050574,
     "end_time": "2022-12-02T12:16:46.470737",
     "exception": false,
     "start_time": "2022-12-02T12:16:46.420163",
     "status": "completed"
    },
    "tags": []
   },
   "outputs": [],
   "source": [
    "#hide\n",
    "def get_template(path):\n",
    "    from urllib.parse import urlparse\n",
    "    if bool(urlparse(path).netloc):\n",
    "        from urllib.request import urlopen\n",
    "        return urlopen(path).read().decode('utf8')\n",
    "    return open(path).read()"
   ]
  },
  {
   "cell_type": "code",
   "execution_count": 7,
   "id": "realistic-blast",
   "metadata": {
    "execution": {
     "iopub.execute_input": "2022-12-02T12:16:46.561107Z",
     "iopub.status.busy": "2022-12-02T12:16:46.560356Z",
     "iopub.status.idle": "2022-12-02T12:16:46.565374Z",
     "shell.execute_reply": "2022-12-02T12:16:46.564684Z"
    },
    "papermill": {
     "duration": 0.054445,
     "end_time": "2022-12-02T12:16:46.565522",
     "exception": false,
     "start_time": "2022-12-02T12:16:46.511077",
     "status": "completed"
    },
    "tags": []
   },
   "outputs": [],
   "source": [
    "#hide\n",
    "def get_frame(name):\n",
    "    url = (\n",
    "        'https://raw.githubusercontent.com/CSSEGISandData/COVID-19/master/csse_covid_19_data/'\n",
    "        f'csse_covid_19_time_series/time_series_covid19_{name}_global.csv')\n",
    "    df = pd.read_csv(url)\n",
    "    # rename countries\n",
    "    df['Country/Region'] = df['Country/Region'].replace(mapping['replace.country'])\n",
    "    return df"
   ]
  },
  {
   "cell_type": "code",
   "execution_count": 8,
   "id": "affiliated-characterization",
   "metadata": {
    "execution": {
     "iopub.execute_input": "2022-12-02T12:16:46.651477Z",
     "iopub.status.busy": "2022-12-02T12:16:46.650729Z",
     "iopub.status.idle": "2022-12-02T12:16:46.654167Z",
     "shell.execute_reply": "2022-12-02T12:16:46.653563Z"
    },
    "papermill": {
     "duration": 0.04928,
     "end_time": "2022-12-02T12:16:46.654304",
     "exception": false,
     "start_time": "2022-12-02T12:16:46.605024",
     "status": "completed"
    },
    "tags": []
   },
   "outputs": [],
   "source": [
    "#hide\n",
    "def get_dates(df):\n",
    "    dt_cols = df.columns[~df.columns.isin(['Province/State', 'Country/Region', 'Lat', 'Long'])]\n",
    "    LAST_DATE_I = -1\n",
    "    # sometimes last column may be empty, then go backwards\n",
    "    for i in range(-1, -len(dt_cols), -1):\n",
    "        if not df[dt_cols[i]].fillna(0).eq(0).all():\n",
    "            LAST_DATE_I = i\n",
    "            break\n",
    "    return LAST_DATE_I, dt_cols"
   ]
  },
  {
   "cell_type": "code",
   "execution_count": 9,
   "id": "recent-optimization",
   "metadata": {
    "execution": {
     "iopub.execute_input": "2022-12-02T12:16:46.739541Z",
     "iopub.status.busy": "2022-12-02T12:16:46.738777Z",
     "iopub.status.idle": "2022-12-02T12:16:47.248342Z",
     "shell.execute_reply": "2022-12-02T12:16:47.247698Z"
    },
    "papermill": {
     "duration": 0.556246,
     "end_time": "2022-12-02T12:16:47.248488",
     "exception": false,
     "start_time": "2022-12-02T12:16:46.692242",
     "status": "completed"
    },
    "tags": []
   },
   "outputs": [],
   "source": [
    "#hide\n",
    "COL_REGION = 'Country/Region'\n",
    "# Confirmed, Recovered, Deaths\n",
    "df = get_frame('confirmed')\n",
    "# dft_: timeseries, dfc_: today country agg\n",
    "dft_cases = df\n",
    "dft_deaths = get_frame('deaths')\n",
    "dft_recovered = get_frame('recovered')\n",
    "LAST_DATE_I, dt_cols = get_dates(df)"
   ]
  },
  {
   "cell_type": "code",
   "execution_count": 10,
   "id": "absolute-copper",
   "metadata": {
    "execution": {
     "iopub.execute_input": "2022-12-02T12:16:47.337105Z",
     "iopub.status.busy": "2022-12-02T12:16:47.335535Z",
     "iopub.status.idle": "2022-12-02T12:16:47.338099Z",
     "shell.execute_reply": "2022-12-02T12:16:47.338759Z"
    },
    "papermill": {
     "duration": 0.050109,
     "end_time": "2022-12-02T12:16:47.338950",
     "exception": false,
     "start_time": "2022-12-02T12:16:47.288841",
     "status": "completed"
    },
    "tags": []
   },
   "outputs": [],
   "source": [
    "#hide\n",
    "LAST_DATE_I, dt_cols = get_dates(df)\n",
    "dt_today =dt_cols[LAST_DATE_I]\n",
    "# dt_5day = dt_cols[LAST_DATE_I - 5]\n",
    "dt_yday = dt_cols[LAST_DATE_I - 1]"
   ]
  },
  {
   "cell_type": "code",
   "execution_count": 11,
   "id": "restricted-sheriff",
   "metadata": {
    "execution": {
     "iopub.execute_input": "2022-12-02T12:16:47.433066Z",
     "iopub.status.busy": "2022-12-02T12:16:47.431312Z",
     "iopub.status.idle": "2022-12-02T12:16:47.440285Z",
     "shell.execute_reply": "2022-12-02T12:16:47.440818Z"
    },
    "papermill": {
     "duration": 0.056154,
     "end_time": "2022-12-02T12:16:47.440985",
     "exception": false,
     "start_time": "2022-12-02T12:16:47.384831",
     "status": "completed"
    },
    "tags": []
   },
   "outputs": [],
   "source": [
    "#hide\n",
    "dfc_cases = dft_cases.groupby(COL_REGION)[dt_today].sum()\n",
    "dfc_deaths = dft_deaths.groupby(COL_REGION)[dt_today].sum()\n",
    "# dfp_cases = dft_cases.groupby(COL_REGION)[dt_5day].sum()\n",
    "# dfp_deaths = dft_deaths.groupby(COL_REGION)[dt_5day].sum()\n",
    "dfp_cases = dft_cases.groupby(COL_REGION)[dt_yday].sum()\n",
    "dfp_deaths = dft_deaths.groupby(COL_REGION)[dt_yday].sum()"
   ]
  },
  {
   "cell_type": "code",
   "execution_count": 12,
   "id": "deluxe-hepatitis",
   "metadata": {
    "execution": {
     "iopub.execute_input": "2022-12-02T12:16:47.525667Z",
     "iopub.status.busy": "2022-12-02T12:16:47.524770Z",
     "iopub.status.idle": "2022-12-02T12:16:47.530982Z",
     "shell.execute_reply": "2022-12-02T12:16:47.530344Z"
    },
    "papermill": {
     "duration": 0.051087,
     "end_time": "2022-12-02T12:16:47.531120",
     "exception": false,
     "start_time": "2022-12-02T12:16:47.480033",
     "status": "completed"
    },
    "tags": []
   },
   "outputs": [],
   "source": [
    "#hide\n",
    "df_table = (pd.DataFrame(dict(Cases = dfc_cases, Deaths = dfc_deaths, PCases = dfp_cases, PDeaths = dfp_deaths))\n",
    "            .sort_values(by = ['Cases','Deaths'], ascending = [False, False])\n",
    "            .reset_index())"
   ]
  },
  {
   "cell_type": "code",
   "execution_count": 13,
   "id": "educational-chancellor",
   "metadata": {
    "execution": {
     "iopub.execute_input": "2022-12-02T12:16:47.629526Z",
     "iopub.status.busy": "2022-12-02T12:16:47.628742Z",
     "iopub.status.idle": "2022-12-02T12:16:47.638503Z",
     "shell.execute_reply": "2022-12-02T12:16:47.639207Z"
    },
    "papermill": {
     "duration": 0.070206,
     "end_time": "2022-12-02T12:16:47.639369",
     "exception": false,
     "start_time": "2022-12-02T12:16:47.569163",
     "status": "completed"
    },
    "tags": []
   },
   "outputs": [
    {
     "data": {
      "text/html": [
       "<div>\n",
       "<style scoped>\n",
       "    .dataframe tbody tr th:only-of-type {\n",
       "        vertical-align: middle;\n",
       "    }\n",
       "\n",
       "    .dataframe tbody tr th {\n",
       "        vertical-align: top;\n",
       "    }\n",
       "\n",
       "    .dataframe thead th {\n",
       "        text-align: right;\n",
       "    }\n",
       "</style>\n",
       "<table border=\"1\" class=\"dataframe\">\n",
       "  <thead>\n",
       "    <tr style=\"text-align: right;\">\n",
       "      <th></th>\n",
       "      <th>Country/Region</th>\n",
       "      <th>Cases</th>\n",
       "      <th>Deaths</th>\n",
       "      <th>PCases</th>\n",
       "      <th>PDeaths</th>\n",
       "      <th>Cases (+)</th>\n",
       "      <th>Deaths (+)</th>\n",
       "      <th>Fatality Rate</th>\n",
       "      <th>Continent</th>\n",
       "    </tr>\n",
       "  </thead>\n",
       "  <tbody>\n",
       "    <tr>\n",
       "      <th>0</th>\n",
       "      <td>US</td>\n",
       "      <td>98923115</td>\n",
       "      <td>1081147</td>\n",
       "      <td>98806857</td>\n",
       "      <td>1080536</td>\n",
       "      <td>116258</td>\n",
       "      <td>611</td>\n",
       "      <td>1.09</td>\n",
       "      <td>North America</td>\n",
       "    </tr>\n",
       "    <tr>\n",
       "      <th>1</th>\n",
       "      <td>India</td>\n",
       "      <td>44674138</td>\n",
       "      <td>530624</td>\n",
       "      <td>44673863</td>\n",
       "      <td>530622</td>\n",
       "      <td>275</td>\n",
       "      <td>2</td>\n",
       "      <td>1.19</td>\n",
       "      <td>Asia</td>\n",
       "    </tr>\n",
       "    <tr>\n",
       "      <th>2</th>\n",
       "      <td>France</td>\n",
       "      <td>38115885</td>\n",
       "      <td>160066</td>\n",
       "      <td>38046448</td>\n",
       "      <td>159990</td>\n",
       "      <td>69437</td>\n",
       "      <td>76</td>\n",
       "      <td>0.42</td>\n",
       "      <td>Europe</td>\n",
       "    </tr>\n",
       "    <tr>\n",
       "      <th>3</th>\n",
       "      <td>Germany</td>\n",
       "      <td>36530020</td>\n",
       "      <td>158109</td>\n",
       "      <td>36499600</td>\n",
       "      <td>157943</td>\n",
       "      <td>30420</td>\n",
       "      <td>166</td>\n",
       "      <td>0.43</td>\n",
       "      <td>Europe</td>\n",
       "    </tr>\n",
       "    <tr>\n",
       "      <th>4</th>\n",
       "      <td>Brazil</td>\n",
       "      <td>35302137</td>\n",
       "      <td>689945</td>\n",
       "      <td>35227599</td>\n",
       "      <td>689665</td>\n",
       "      <td>74538</td>\n",
       "      <td>280</td>\n",
       "      <td>1.95</td>\n",
       "      <td>South America</td>\n",
       "    </tr>\n",
       "  </tbody>\n",
       "</table>\n",
       "</div>"
      ],
      "text/plain": [
       "  Country/Region     Cases   Deaths    PCases  PDeaths  Cases (+)  Deaths (+)  \\\n",
       "0             US  98923115  1081147  98806857  1080536     116258         611   \n",
       "1          India  44674138   530624  44673863   530622        275           2   \n",
       "2         France  38115885   160066  38046448   159990      69437          76   \n",
       "3        Germany  36530020   158109  36499600   157943      30420         166   \n",
       "4         Brazil  35302137   689945  35227599   689665      74538         280   \n",
       "\n",
       "   Fatality Rate      Continent  \n",
       "0           1.09  North America  \n",
       "1           1.19           Asia  \n",
       "2           0.42         Europe  \n",
       "3           0.43         Europe  \n",
       "4           1.95  South America  "
      ]
     },
     "execution_count": 13,
     "metadata": {},
     "output_type": "execute_result"
    }
   ],
   "source": [
    "#hide\n",
    "for c in 'Cases, Deaths'.split(', '):\n",
    "    df_table[f'{c} (+)'] = (df_table[c] - df_table[f'P{c}']).clip(0)\n",
    "    #Clip ça veut dire, les chiffres negatif sont interdit\n",
    "df_table['Fatality Rate'] = (100* df_table['Deaths']/ df_table['Cases']).round(2)\n",
    "df_table['Continent'] = df_table['Country/Region'].map(mapping['map.continent'])\n",
    "df_table.head(5)"
   ]
  },
  {
   "cell_type": "code",
   "execution_count": 14,
   "id": "aboriginal-bulgaria",
   "metadata": {
    "execution": {
     "iopub.execute_input": "2022-12-02T12:16:47.726709Z",
     "iopub.status.busy": "2022-12-02T12:16:47.725875Z",
     "iopub.status.idle": "2022-12-02T12:16:47.729912Z",
     "shell.execute_reply": "2022-12-02T12:16:47.730587Z"
    },
    "papermill": {
     "duration": 0.052174,
     "end_time": "2022-12-02T12:16:47.730756",
     "exception": false,
     "start_time": "2022-12-02T12:16:47.678582",
     "status": "completed"
    },
    "tags": []
   },
   "outputs": [],
   "source": [
    "#hide\n",
    "#delete problematic countries from table\n",
    "df_table = df_table[~df_table['Country/Region'].isin(['Cape Verde', 'Cruise Ship', 'Kosovo'])]"
   ]
  },
  {
   "cell_type": "code",
   "execution_count": 15,
   "id": "fantastic-effect",
   "metadata": {
    "execution": {
     "iopub.execute_input": "2022-12-02T12:16:47.820471Z",
     "iopub.status.busy": "2022-12-02T12:16:47.819708Z",
     "iopub.status.idle": "2022-12-02T12:16:47.841742Z",
     "shell.execute_reply": "2022-12-02T12:16:47.842484Z"
    },
    "papermill": {
     "duration": 0.071383,
     "end_time": "2022-12-02T12:16:47.842653",
     "exception": false,
     "start_time": "2022-12-02T12:16:47.771270",
     "status": "completed"
    },
    "tags": []
   },
   "outputs": [
    {
     "data": {
      "text/html": [
       "<div>\n",
       "<style scoped>\n",
       "    .dataframe tbody tr th:only-of-type {\n",
       "        vertical-align: middle;\n",
       "    }\n",
       "\n",
       "    .dataframe tbody tr th {\n",
       "        vertical-align: top;\n",
       "    }\n",
       "\n",
       "    .dataframe thead th {\n",
       "        text-align: right;\n",
       "    }\n",
       "</style>\n",
       "<table border=\"1\" class=\"dataframe\">\n",
       "  <thead>\n",
       "    <tr style=\"text-align: right;\">\n",
       "      <th></th>\n",
       "      <th>Country/Region</th>\n",
       "      <th>Cases</th>\n",
       "      <th>Deaths</th>\n",
       "      <th>PCases</th>\n",
       "      <th>PDeaths</th>\n",
       "      <th>Cases (+)</th>\n",
       "      <th>Deaths (+)</th>\n",
       "      <th>Fatality Rate</th>\n",
       "      <th>Continent</th>\n",
       "    </tr>\n",
       "  </thead>\n",
       "  <tbody>\n",
       "    <tr>\n",
       "      <th>0</th>\n",
       "      <td>US</td>\n",
       "      <td>98923115</td>\n",
       "      <td>1081147</td>\n",
       "      <td>98806857</td>\n",
       "      <td>1080536</td>\n",
       "      <td>116258</td>\n",
       "      <td>611</td>\n",
       "      <td>1.1</td>\n",
       "      <td>North America</td>\n",
       "    </tr>\n",
       "    <tr>\n",
       "      <th>1</th>\n",
       "      <td>India</td>\n",
       "      <td>44674138</td>\n",
       "      <td>530624</td>\n",
       "      <td>44673863</td>\n",
       "      <td>530622</td>\n",
       "      <td>275</td>\n",
       "      <td>2</td>\n",
       "      <td>1.2</td>\n",
       "      <td>Asia</td>\n",
       "    </tr>\n",
       "    <tr>\n",
       "      <th>2</th>\n",
       "      <td>France</td>\n",
       "      <td>38115885</td>\n",
       "      <td>160066</td>\n",
       "      <td>38046448</td>\n",
       "      <td>159990</td>\n",
       "      <td>69437</td>\n",
       "      <td>76</td>\n",
       "      <td>0.4</td>\n",
       "      <td>Europe</td>\n",
       "    </tr>\n",
       "    <tr>\n",
       "      <th>3</th>\n",
       "      <td>Germany</td>\n",
       "      <td>36530020</td>\n",
       "      <td>158109</td>\n",
       "      <td>36499600</td>\n",
       "      <td>157943</td>\n",
       "      <td>30420</td>\n",
       "      <td>166</td>\n",
       "      <td>0.4</td>\n",
       "      <td>Europe</td>\n",
       "    </tr>\n",
       "    <tr>\n",
       "      <th>4</th>\n",
       "      <td>Brazil</td>\n",
       "      <td>35302137</td>\n",
       "      <td>689945</td>\n",
       "      <td>35227599</td>\n",
       "      <td>689665</td>\n",
       "      <td>74538</td>\n",
       "      <td>280</td>\n",
       "      <td>2.0</td>\n",
       "      <td>South America</td>\n",
       "    </tr>\n",
       "  </tbody>\n",
       "</table>\n",
       "</div>"
      ],
      "text/plain": [
       "  Country/Region     Cases   Deaths    PCases  PDeaths  Cases (+)  Deaths (+)  \\\n",
       "0             US  98923115  1081147  98806857  1080536     116258         611   \n",
       "1          India  44674138   530624  44673863   530622        275           2   \n",
       "2         France  38115885   160066  38046448   159990      69437          76   \n",
       "3        Germany  36530020   158109  36499600   157943      30420         166   \n",
       "4         Brazil  35302137   689945  35227599   689665      74538         280   \n",
       "\n",
       "   Fatality Rate      Continent  \n",
       "0            1.1  North America  \n",
       "1            1.2           Asia  \n",
       "2            0.4         Europe  \n",
       "3            0.4         Europe  \n",
       "4            2.0  South America  "
      ]
     },
     "execution_count": 15,
     "metadata": {},
     "output_type": "execute_result"
    }
   ],
   "source": [
    "#hide\n",
    "df_table = (pd.DataFrame(dict(Cases=dfc_cases, Deaths=dfc_deaths, PCases=dfp_cases, PDeaths=dfp_deaths))\n",
    "             .sort_values(by=['Cases', 'Deaths'], ascending=[False, False])\n",
    "             .reset_index())\n",
    "df_table.rename(columns={'index': 'Country/Region'}, inplace=True)\n",
    "for c in 'Cases, Deaths'.split(', '):\n",
    "    df_table[f'{c} (+)'] = (df_table[c] - df_table[f'P{c}']).clip(0)  # DATA BUG\n",
    "df_table['Fatality Rate'] = (100 * df_table['Deaths'] / df_table['Cases']).round(1)\n",
    "df_table['Continent'] = df_table['Country/Region'].map(mapping['map.continent'])\n",
    "df_table.head(5)"
   ]
  },
  {
   "cell_type": "code",
   "execution_count": 16,
   "id": "fewer-occasion",
   "metadata": {
    "execution": {
     "iopub.execute_input": "2022-12-02T12:16:47.929893Z",
     "iopub.status.busy": "2022-12-02T12:16:47.929121Z",
     "iopub.status.idle": "2022-12-02T12:16:47.933655Z",
     "shell.execute_reply": "2022-12-02T12:16:47.934204Z"
    },
    "papermill": {
     "duration": 0.051266,
     "end_time": "2022-12-02T12:16:47.934391",
     "exception": false,
     "start_time": "2022-12-02T12:16:47.883125",
     "status": "completed"
    },
    "tags": []
   },
   "outputs": [],
   "source": [
    "#hide\n",
    "#delete problematic countries from table\n",
    "df_table = df_table[~df_table['Country/Region'].isin(['Cape Verde', 'Cruise Ship', 'Kosovo'])]"
   ]
  },
  {
   "cell_type": "code",
   "execution_count": 17,
   "id": "related-center",
   "metadata": {
    "execution": {
     "iopub.execute_input": "2022-12-02T12:16:48.038521Z",
     "iopub.status.busy": "2022-12-02T12:16:48.037715Z",
     "iopub.status.idle": "2022-12-02T12:16:48.041206Z",
     "shell.execute_reply": "2022-12-02T12:16:48.040481Z"
    },
    "papermill": {
     "duration": 0.064689,
     "end_time": "2022-12-02T12:16:48.041354",
     "exception": false,
     "start_time": "2022-12-02T12:16:47.976665",
     "status": "completed"
    },
    "tags": []
   },
   "outputs": [],
   "source": [
    "#hide\n",
    "metrics = [df_table.columns[index] for index in [1,2,5,6]]\n",
    "# s_china = df_table[df_table['Country/Region'].eq('China')][metrics].sum().add_prefix('China ')\n",
    "s_us = df_table[df_table['Country/Region'].eq('US')][metrics].sum().add_prefix('US ')\n",
    "s_eu = df_table[df_table['Continent'].eq('Europe')][metrics].sum().add_prefix('EU ')\n",
    "s_ind = df_table[df_table['Country/Region'].eq('India')][metrics].sum().add_prefix('India ')\n",
    "summary = {'updated': pd.to_datetime(dt_today), 'since': pd.to_datetime(dt_yday)}\n",
    "summary = {'updated': pd.to_datetime(dt_today), 'since': pd.to_datetime(dt_yday)}\n",
    "summary = {**summary, **df_table[metrics].sum(), **s_ind, **s_us, **s_eu}"
   ]
  },
  {
   "cell_type": "code",
   "execution_count": 18,
   "id": "engaging-syndrome",
   "metadata": {
    "execution": {
     "iopub.execute_input": "2022-12-02T12:16:48.133026Z",
     "iopub.status.busy": "2022-12-02T12:16:48.132273Z",
     "iopub.status.idle": "2022-12-02T12:16:48.155477Z",
     "shell.execute_reply": "2022-12-02T12:16:48.154733Z"
    },
    "papermill": {
     "duration": 0.072138,
     "end_time": "2022-12-02T12:16:48.155630",
     "exception": false,
     "start_time": "2022-12-02T12:16:48.083492",
     "status": "completed"
    },
    "tags": []
   },
   "outputs": [],
   "source": [
    "#hide\n",
    "dft_ct_new_cases = dft_cases.groupby(COL_REGION)[dt_cols].sum().diff(axis=1).fillna(0).astype(int)"
   ]
  },
  {
   "cell_type": "code",
   "execution_count": 19,
   "id": "neutral-assignment",
   "metadata": {
    "execution": {
     "iopub.execute_input": "2022-12-02T12:16:48.243402Z",
     "iopub.status.busy": "2022-12-02T12:16:48.242662Z",
     "iopub.status.idle": "2022-12-02T12:16:48.245710Z",
     "shell.execute_reply": "2022-12-02T12:16:48.244990Z"
    },
    "papermill": {
     "duration": 0.050826,
     "end_time": "2022-12-02T12:16:48.245849",
     "exception": false,
     "start_time": "2022-12-02T12:16:48.195023",
     "status": "completed"
    },
    "tags": []
   },
   "outputs": [],
   "source": [
    "#hide\n",
    "everydaycases = dft_ct_new_cases.cumsum(axis=1)"
   ]
  },
  {
   "cell_type": "code",
   "execution_count": 20,
   "id": "parliamentary-calgary",
   "metadata": {
    "execution": {
     "iopub.execute_input": "2022-12-02T12:16:48.334183Z",
     "iopub.status.busy": "2022-12-02T12:16:48.333426Z",
     "iopub.status.idle": "2022-12-02T12:16:49.100704Z",
     "shell.execute_reply": "2022-12-02T12:16:49.099945Z"
    },
    "papermill": {
     "duration": 0.813559,
     "end_time": "2022-12-02T12:16:49.100956",
     "exception": false,
     "start_time": "2022-12-02T12:16:48.287397",
     "status": "completed"
    },
    "tags": []
   },
   "outputs": [],
   "source": [
    "#hide\n",
    "import pandas as pd\n",
    "import matplotlib.pyplot as plt\n",
    "import matplotlib.ticker as ticker\n",
    "import matplotlib.animation as animation\n",
    "from IPython.display import HTML"
   ]
  },
  {
   "cell_type": "code",
   "execution_count": 21,
   "id": "lasting-extraction",
   "metadata": {
    "execution": {
     "iopub.execute_input": "2022-12-02T12:16:49.189865Z",
     "iopub.status.busy": "2022-12-02T12:16:49.189110Z",
     "iopub.status.idle": "2022-12-02T12:16:49.199514Z",
     "shell.execute_reply": "2022-12-02T12:16:49.198871Z"
    },
    "papermill": {
     "duration": 0.058396,
     "end_time": "2022-12-02T12:16:49.199663",
     "exception": false,
     "start_time": "2022-12-02T12:16:49.141267",
     "status": "completed"
    },
    "tags": []
   },
   "outputs": [],
   "source": [
    "#hide\n",
    "t = everydaycases.stack()"
   ]
  },
  {
   "cell_type": "code",
   "execution_count": 22,
   "id": "premier-sleeve",
   "metadata": {
    "execution": {
     "iopub.execute_input": "2022-12-02T12:16:49.285626Z",
     "iopub.status.busy": "2022-12-02T12:16:49.284870Z",
     "iopub.status.idle": "2022-12-02T12:16:49.300418Z",
     "shell.execute_reply": "2022-12-02T12:16:49.299767Z"
    },
    "papermill": {
     "duration": 0.06059,
     "end_time": "2022-12-02T12:16:49.300568",
     "exception": false,
     "start_time": "2022-12-02T12:16:49.239978",
     "status": "completed"
    },
    "tags": []
   },
   "outputs": [],
   "source": [
    "#hide\n",
    "g = t.reset_index(['Country/Region'])"
   ]
  },
  {
   "cell_type": "code",
   "execution_count": 23,
   "id": "distributed-pittsburgh",
   "metadata": {
    "execution": {
     "iopub.execute_input": "2022-12-02T12:16:49.389334Z",
     "iopub.status.busy": "2022-12-02T12:16:49.387567Z",
     "iopub.status.idle": "2022-12-02T12:16:49.390173Z",
     "shell.execute_reply": "2022-12-02T12:16:49.390783Z"
    },
    "papermill": {
     "duration": 0.048882,
     "end_time": "2022-12-02T12:16:49.390949",
     "exception": false,
     "start_time": "2022-12-02T12:16:49.342067",
     "status": "completed"
    },
    "tags": []
   },
   "outputs": [],
   "source": [
    "#hide\n",
    "g.index.name = 'date'"
   ]
  },
  {
   "cell_type": "code",
   "execution_count": 24,
   "id": "naked-donor",
   "metadata": {
    "execution": {
     "iopub.execute_input": "2022-12-02T12:16:49.477362Z",
     "iopub.status.busy": "2022-12-02T12:16:49.476596Z",
     "iopub.status.idle": "2022-12-02T12:16:49.481355Z",
     "shell.execute_reply": "2022-12-02T12:16:49.480731Z"
    },
    "papermill": {
     "duration": 0.049322,
     "end_time": "2022-12-02T12:16:49.481501",
     "exception": false,
     "start_time": "2022-12-02T12:16:49.432179",
     "status": "completed"
    },
    "tags": []
   },
   "outputs": [],
   "source": [
    "# #hide\n",
    "# g = g.reset_index(['date'])"
   ]
  },
  {
   "cell_type": "code",
   "execution_count": 25,
   "id": "incomplete-mustang",
   "metadata": {
    "execution": {
     "iopub.execute_input": "2022-12-02T12:16:49.568984Z",
     "iopub.status.busy": "2022-12-02T12:16:49.568233Z",
     "iopub.status.idle": "2022-12-02T12:16:49.571677Z",
     "shell.execute_reply": "2022-12-02T12:16:49.571050Z"
    },
    "papermill": {
     "duration": 0.049206,
     "end_time": "2022-12-02T12:16:49.571829",
     "exception": false,
     "start_time": "2022-12-02T12:16:49.522623",
     "status": "completed"
    },
    "tags": []
   },
   "outputs": [],
   "source": [
    "#hide\n",
    "# g.head()"
   ]
  },
  {
   "cell_type": "code",
   "execution_count": 26,
   "id": "specific-kruger",
   "metadata": {
    "execution": {
     "iopub.execute_input": "2022-12-02T12:16:49.667684Z",
     "iopub.status.busy": "2022-12-02T12:16:49.666748Z",
     "iopub.status.idle": "2022-12-02T12:16:49.670032Z",
     "shell.execute_reply": "2022-12-02T12:16:49.669424Z"
    },
    "papermill": {
     "duration": 0.052812,
     "end_time": "2022-12-02T12:16:49.670173",
     "exception": false,
     "start_time": "2022-12-02T12:16:49.617361",
     "status": "completed"
    },
    "tags": []
   },
   "outputs": [],
   "source": [
    "#hide\n",
    "# g.columns = ['date','country','cases']"
   ]
  },
  {
   "cell_type": "code",
   "execution_count": 27,
   "id": "tender-conversion",
   "metadata": {
    "execution": {
     "iopub.execute_input": "2022-12-02T12:16:49.756515Z",
     "iopub.status.busy": "2022-12-02T12:16:49.755768Z",
     "iopub.status.idle": "2022-12-02T12:16:49.759101Z",
     "shell.execute_reply": "2022-12-02T12:16:49.758483Z"
    },
    "papermill": {
     "duration": 0.048223,
     "end_time": "2022-12-02T12:16:49.759242",
     "exception": false,
     "start_time": "2022-12-02T12:16:49.711019",
     "status": "completed"
    },
    "tags": []
   },
   "outputs": [],
   "source": [
    "#hide\n",
    "# g['continent'] = g.country"
   ]
  },
  {
   "cell_type": "code",
   "execution_count": 28,
   "id": "substantial-wilderness",
   "metadata": {
    "execution": {
     "iopub.execute_input": "2022-12-02T12:16:49.843776Z",
     "iopub.status.busy": "2022-12-02T12:16:49.843003Z",
     "iopub.status.idle": "2022-12-02T12:16:49.846339Z",
     "shell.execute_reply": "2022-12-02T12:16:49.845728Z"
    },
    "papermill": {
     "duration": 0.046839,
     "end_time": "2022-12-02T12:16:49.846503",
     "exception": false,
     "start_time": "2022-12-02T12:16:49.799664",
     "status": "completed"
    },
    "tags": []
   },
   "outputs": [],
   "source": [
    "#hide\n",
    "# cols = list(g.columns.values)"
   ]
  },
  {
   "cell_type": "code",
   "execution_count": 29,
   "id": "solved-farming",
   "metadata": {
    "execution": {
     "iopub.execute_input": "2022-12-02T12:16:49.930936Z",
     "iopub.status.busy": "2022-12-02T12:16:49.930098Z",
     "iopub.status.idle": "2022-12-02T12:16:49.933331Z",
     "shell.execute_reply": "2022-12-02T12:16:49.932726Z"
    },
    "papermill": {
     "duration": 0.047467,
     "end_time": "2022-12-02T12:16:49.933466",
     "exception": false,
     "start_time": "2022-12-02T12:16:49.885999",
     "status": "completed"
    },
    "tags": []
   },
   "outputs": [],
   "source": [
    "#hide\n",
    "# cols.insert(0, cols.pop())"
   ]
  },
  {
   "cell_type": "code",
   "execution_count": 30,
   "id": "executed-adoption",
   "metadata": {
    "execution": {
     "iopub.execute_input": "2022-12-02T12:16:50.021676Z",
     "iopub.status.busy": "2022-12-02T12:16:50.020914Z",
     "iopub.status.idle": "2022-12-02T12:16:50.024106Z",
     "shell.execute_reply": "2022-12-02T12:16:50.023478Z"
    },
    "papermill": {
     "duration": 0.049736,
     "end_time": "2022-12-02T12:16:50.024249",
     "exception": false,
     "start_time": "2022-12-02T12:16:49.974513",
     "status": "completed"
    },
    "tags": []
   },
   "outputs": [],
   "source": [
    "#hide\n",
    "# g = g[cols]"
   ]
  },
  {
   "cell_type": "code",
   "execution_count": 31,
   "id": "subject-dublin",
   "metadata": {
    "execution": {
     "iopub.execute_input": "2022-12-02T12:16:50.110913Z",
     "iopub.status.busy": "2022-12-02T12:16:50.109576Z",
     "iopub.status.idle": "2022-12-02T12:16:50.112911Z",
     "shell.execute_reply": "2022-12-02T12:16:50.114134Z"
    },
    "papermill": {
     "duration": 0.049496,
     "end_time": "2022-12-02T12:16:50.114319",
     "exception": false,
     "start_time": "2022-12-02T12:16:50.064823",
     "status": "completed"
    },
    "tags": []
   },
   "outputs": [],
   "source": [
    "#hide\n",
    "# g['continent'] = g['continent'].map(mapping['map.continent'])"
   ]
  },
  {
   "cell_type": "code",
   "execution_count": 32,
   "id": "freelance-scout",
   "metadata": {
    "execution": {
     "iopub.execute_input": "2022-12-02T12:16:50.204033Z",
     "iopub.status.busy": "2022-12-02T12:16:50.203273Z",
     "iopub.status.idle": "2022-12-02T12:16:50.206570Z",
     "shell.execute_reply": "2022-12-02T12:16:50.205943Z"
    },
    "papermill": {
     "duration": 0.047434,
     "end_time": "2022-12-02T12:16:50.206714",
     "exception": false,
     "start_time": "2022-12-02T12:16:50.159280",
     "status": "completed"
    },
    "tags": []
   },
   "outputs": [],
   "source": [
    "#hide\n",
    "# g.head()"
   ]
  },
  {
   "cell_type": "code",
   "execution_count": 33,
   "id": "limited-engine",
   "metadata": {
    "execution": {
     "iopub.execute_input": "2022-12-02T12:16:50.294761Z",
     "iopub.status.busy": "2022-12-02T12:16:50.293983Z",
     "iopub.status.idle": "2022-12-02T12:16:50.297241Z",
     "shell.execute_reply": "2022-12-02T12:16:50.296510Z"
    },
    "papermill": {
     "duration": 0.051117,
     "end_time": "2022-12-02T12:16:50.297373",
     "exception": false,
     "start_time": "2022-12-02T12:16:50.246256",
     "status": "completed"
    },
    "tags": []
   },
   "outputs": [],
   "source": [
    "# hide\n",
    "# g['date'] = g['date'].astype('datetime64[ns]')"
   ]
  },
  {
   "cell_type": "code",
   "execution_count": 34,
   "id": "sophisticated-supervisor",
   "metadata": {
    "execution": {
     "iopub.execute_input": "2022-12-02T12:16:50.381847Z",
     "iopub.status.busy": "2022-12-02T12:16:50.381089Z",
     "iopub.status.idle": "2022-12-02T12:16:50.384344Z",
     "shell.execute_reply": "2022-12-02T12:16:50.383770Z"
    },
    "papermill": {
     "duration": 0.046873,
     "end_time": "2022-12-02T12:16:50.384481",
     "exception": false,
     "start_time": "2022-12-02T12:16:50.337608",
     "status": "completed"
    },
    "tags": []
   },
   "outputs": [],
   "source": [
    "#hide\n",
    "# g['date'] = g.date.dt.dayofyear"
   ]
  },
  {
   "cell_type": "code",
   "execution_count": 35,
   "id": "inside-dubai",
   "metadata": {
    "execution": {
     "iopub.execute_input": "2022-12-02T12:16:50.470427Z",
     "iopub.status.busy": "2022-12-02T12:16:50.469647Z",
     "iopub.status.idle": "2022-12-02T12:16:50.472898Z",
     "shell.execute_reply": "2022-12-02T12:16:50.472181Z"
    },
    "papermill": {
     "duration": 0.047703,
     "end_time": "2022-12-02T12:16:50.473037",
     "exception": false,
     "start_time": "2022-12-02T12:16:50.425334",
     "status": "completed"
    },
    "tags": []
   },
   "outputs": [],
   "source": [
    "#hide\n",
    "# g = g.rename(columns= {'continent':'group','country':'name','cases':'value'})"
   ]
  },
  {
   "cell_type": "code",
   "execution_count": 36,
   "id": "fleet-motorcycle",
   "metadata": {
    "execution": {
     "iopub.execute_input": "2022-12-02T12:16:50.561841Z",
     "iopub.status.busy": "2022-12-02T12:16:50.561102Z",
     "iopub.status.idle": "2022-12-02T12:16:50.564656Z",
     "shell.execute_reply": "2022-12-02T12:16:50.563951Z"
    },
    "papermill": {
     "duration": 0.047641,
     "end_time": "2022-12-02T12:16:50.564793",
     "exception": false,
     "start_time": "2022-12-02T12:16:50.517152",
     "status": "completed"
    },
    "tags": []
   },
   "outputs": [],
   "source": [
    "#hide\n",
    "# cols = ['name','group','day','value']"
   ]
  },
  {
   "cell_type": "code",
   "execution_count": 37,
   "id": "continued-sleeping",
   "metadata": {
    "execution": {
     "iopub.execute_input": "2022-12-02T12:16:50.649481Z",
     "iopub.status.busy": "2022-12-02T12:16:50.648731Z",
     "iopub.status.idle": "2022-12-02T12:16:50.651981Z",
     "shell.execute_reply": "2022-12-02T12:16:50.651292Z"
    },
    "papermill": {
     "duration": 0.04656,
     "end_time": "2022-12-02T12:16:50.652119",
     "exception": false,
     "start_time": "2022-12-02T12:16:50.605559",
     "status": "completed"
    },
    "tags": []
   },
   "outputs": [],
   "source": [
    "#hide\n",
    "# g.rename(columns= {'date':'day'},inplace = True)"
   ]
  },
  {
   "cell_type": "code",
   "execution_count": 38,
   "id": "major-fight",
   "metadata": {
    "execution": {
     "iopub.execute_input": "2022-12-02T12:16:50.738968Z",
     "iopub.status.busy": "2022-12-02T12:16:50.738098Z",
     "iopub.status.idle": "2022-12-02T12:16:50.740578Z",
     "shell.execute_reply": "2022-12-02T12:16:50.741266Z"
    },
    "papermill": {
     "duration": 0.047628,
     "end_time": "2022-12-02T12:16:50.741419",
     "exception": false,
     "start_time": "2022-12-02T12:16:50.693791",
     "status": "completed"
    },
    "tags": []
   },
   "outputs": [],
   "source": [
    "#hide\n",
    "# g = g[cols]"
   ]
  },
  {
   "cell_type": "code",
   "execution_count": 39,
   "id": "structured-mobile",
   "metadata": {
    "execution": {
     "iopub.execute_input": "2022-12-02T12:16:50.833290Z",
     "iopub.status.busy": "2022-12-02T12:16:50.832548Z",
     "iopub.status.idle": "2022-12-02T12:16:50.835884Z",
     "shell.execute_reply": "2022-12-02T12:16:50.835152Z"
    },
    "papermill": {
     "duration": 0.049032,
     "end_time": "2022-12-02T12:16:50.836019",
     "exception": false,
     "start_time": "2022-12-02T12:16:50.786987",
     "status": "completed"
    },
    "tags": []
   },
   "outputs": [],
   "source": [
    "# #hide\n",
    "# g = g[g.group.notna()]"
   ]
  },
  {
   "cell_type": "code",
   "execution_count": 40,
   "id": "determined-closing",
   "metadata": {
    "execution": {
     "iopub.execute_input": "2022-12-02T12:16:50.925050Z",
     "iopub.status.busy": "2022-12-02T12:16:50.923813Z",
     "iopub.status.idle": "2022-12-02T12:16:50.926226Z",
     "shell.execute_reply": "2022-12-02T12:16:50.926973Z"
    },
    "papermill": {
     "duration": 0.047917,
     "end_time": "2022-12-02T12:16:50.927134",
     "exception": false,
     "start_time": "2022-12-02T12:16:50.879217",
     "status": "completed"
    },
    "tags": []
   },
   "outputs": [],
   "source": [
    "# #hide\n",
    "# colors = dict(zip(\n",
    "#     [\"Oceania\", \"Europe\", \"Asia\", \"South America\", \"Middle East\", \"North America\", \"Africa\"],\n",
    "#     [\"#adb0ff\", \"#ffb3ff\", \"#90d595\", \"#e48381\", \"#aafbff\", \"#f7bb5f\", \"#eafb50\"]\n",
    "# ))\n",
    "# group_lk = g.set_index('name')['group'].to_dict()"
   ]
  },
  {
   "cell_type": "code",
   "execution_count": null,
   "id": "gross-drinking",
   "metadata": {
    "papermill": {
     "duration": 0.053523,
     "end_time": "2022-12-02T12:16:51.036446",
     "exception": false,
     "start_time": "2022-12-02T12:16:50.982923",
     "status": "completed"
    },
    "tags": []
   },
   "outputs": [],
   "source": []
  },
  {
   "cell_type": "code",
   "execution_count": 41,
   "id": "subject-macintosh",
   "metadata": {
    "execution": {
     "iopub.execute_input": "2022-12-02T12:16:51.133773Z",
     "iopub.status.busy": "2022-12-02T12:16:51.132998Z",
     "iopub.status.idle": "2022-12-02T12:16:51.136217Z",
     "shell.execute_reply": "2022-12-02T12:16:51.135608Z"
    },
    "papermill": {
     "duration": 0.052481,
     "end_time": "2022-12-02T12:16:51.136355",
     "exception": false,
     "start_time": "2022-12-02T12:16:51.083874",
     "status": "completed"
    },
    "tags": []
   },
   "outputs": [],
   "source": [
    "# #hide\n",
    "# fig, ax = plt.subplots(figsize=(15, 8))\n",
    "\n",
    "# def draw_barchart(current_day):\n",
    "#     dff = g[g['day'].eq(current_day)].sort_values(by='value', ascending=True).tail(10)\n",
    "#     ax.clear()\n",
    "#     ax.barh(dff['name'], dff['value'], color=[colors[group_lk[x]] for x in dff['name']])\n",
    "#     dx = dff['value'].max() / 200\n",
    "    \n",
    "#     for i, (value, name) in enumerate(zip(dff['value'], dff['name'])):\n",
    "#         ax.text(value-dx, i,     name,           size=14, weight=600, ha='right', va='bottom')\n",
    "#         ax.text(value-dx, i-.25, group_lk[name], size=10, color='#444444', ha='right', va='baseline')\n",
    "#         ax.text(value+dx, i,     f'{value:,.0f}',  size=14, ha='left',  va='center')\n",
    "#     ax.text(1, 0.4, current_day, transform=ax.transAxes, color='#777777', size=46, ha='right', weight=800)\n",
    "#     ax.text(0, 1.06, 'Population (thousands)', transform=ax.transAxes, size=12, color='#777777')\n",
    "#     ax.xaxis.set_major_formatter(ticker.StrMethodFormatter('{x:,.0f}'))\n",
    "#     ax.xaxis.set_ticks_position('top')\n",
    "#     ax.tick_params(axis='x', colors='#777777', labelsize=12)\n",
    "#     ax.set_yticks([])\n",
    "#     ax.margins(0, 0.01)\n",
    "#     ax.grid(which='major', axis='x', linestyle='-')\n",
    "#     ax.set_axisbelow(True)\n",
    "    \n",
    "#     ax.text(0, 1.15, 'Coronavirus',\n",
    "#             transform=ax.transAxes, size=24, weight=600, ha='left', va='top')\n",
    "# #     ax.text(1, 0, 'by @pratapvardhan; credit @jburnmurdoch', transform=ax.transAxes, color='#777777', ha='right',\n",
    "# #             bbox=dict(facecolor='white', alpha=0.8, edgecolor='white'))\n",
    "#     plt.box(False)"
   ]
  },
  {
   "cell_type": "code",
   "execution_count": 42,
   "id": "sexual-wages",
   "metadata": {
    "execution": {
     "iopub.execute_input": "2022-12-02T12:16:51.222646Z",
     "iopub.status.busy": "2022-12-02T12:16:51.221855Z",
     "iopub.status.idle": "2022-12-02T12:16:51.225174Z",
     "shell.execute_reply": "2022-12-02T12:16:51.224575Z"
    },
    "papermill": {
     "duration": 0.049324,
     "end_time": "2022-12-02T12:16:51.225361",
     "exception": false,
     "start_time": "2022-12-02T12:16:51.176037",
     "status": "completed"
    },
    "tags": []
   },
   "outputs": [],
   "source": [
    "# #hide_input\n",
    "# fig, ax = plt.subplots(figsize=(15, 8))\n",
    "# animator = animation.FuncAnimation(fig, draw_barchart, frames=range(g.day.values.min(), g.day.values.max()))\n",
    "# HTML(animator.to_jshtml())\n",
    "# # or use animator.to_html5_video() or animator.save() "
   ]
  },
  {
   "cell_type": "code",
   "execution_count": null,
   "id": "australian-container",
   "metadata": {
    "papermill": {
     "duration": 0.038877,
     "end_time": "2022-12-02T12:16:51.303749",
     "exception": false,
     "start_time": "2022-12-02T12:16:51.264872",
     "status": "completed"
    },
    "tags": []
   },
   "outputs": [],
   "source": []
  },
  {
   "cell_type": "code",
   "execution_count": null,
   "id": "mediterranean-pontiac",
   "metadata": {
    "papermill": {
     "duration": 0.041281,
     "end_time": "2022-12-02T12:16:51.385487",
     "exception": false,
     "start_time": "2022-12-02T12:16:51.344206",
     "status": "completed"
    },
    "tags": []
   },
   "outputs": [],
   "source": []
  },
  {
   "cell_type": "code",
   "execution_count": null,
   "id": "aging-legislature",
   "metadata": {
    "papermill": {
     "duration": 0.040913,
     "end_time": "2022-12-02T12:16:51.466551",
     "exception": false,
     "start_time": "2022-12-02T12:16:51.425638",
     "status": "completed"
    },
    "tags": []
   },
   "outputs": [],
   "source": []
  }
 ],
 "metadata": {
  "kernelspec": {
   "display_name": "Python 3",
   "language": "python",
   "name": "python3"
  },
  "language_info": {
   "codemirror_mode": {
    "name": "ipython",
    "version": 3
   },
   "file_extension": ".py",
   "mimetype": "text/x-python",
   "name": "python",
   "nbconvert_exporter": "python",
   "pygments_lexer": "ipython3",
   "version": "3.6.15"
  },
  "papermill": {
   "duration": 7.90074,
   "end_time": "2022-12-02T12:16:51.926754",
   "environment_variables": {},
   "exception": null,
   "input_path": "2020-03-21-covid19exp.ipynb",
   "output_path": "2020-03-21-covid19exp.ipynb",
   "parameters": {},
   "start_time": "2022-12-02T12:16:44.026014",
   "version": "2.0.0"
  }
 },
 "nbformat": 4,
 "nbformat_minor": 5
}