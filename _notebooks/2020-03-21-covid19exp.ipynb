{
 "cells": [
  {
   "cell_type": "markdown",
   "id": "muslim-click",
   "metadata": {
    "papermill": {
     "duration": 0.03687,
     "end_time": "2021-03-03T12:07:20.878165",
     "exception": false,
     "start_time": "2021-03-03T12:07:20.841295",
     "status": "completed"
    },
    "tags": []
   },
   "source": [
    "# COVID-19 Case Race\n",
    "> A race chart to see rising cases around the world\n",
    "\n",
    "- author: Hargun Oberoi\n",
    "- image: images/covid-overview.png\n",
    "- hide: false\n",
    "- badges: false"
   ]
  },
  {
   "cell_type": "code",
   "execution_count": 1,
   "id": "proof-material",
   "metadata": {
    "execution": {
     "iopub.execute_input": "2021-03-03T12:07:20.956271Z",
     "iopub.status.busy": "2021-03-03T12:07:20.955665Z",
     "iopub.status.idle": "2021-03-03T12:07:21.316460Z",
     "shell.execute_reply": "2021-03-03T12:07:21.315802Z"
    },
    "papermill": {
     "duration": 0.403543,
     "end_time": "2021-03-03T12:07:21.316663",
     "exception": false,
     "start_time": "2021-03-03T12:07:20.913120",
     "status": "completed"
    },
    "tags": []
   },
   "outputs": [],
   "source": [
    "#hide\n",
    "import numpy as np\n",
    "import pandas as pd\n",
    "from jinja2 import Template\n",
    "from IPython.display import HTML"
   ]
  },
  {
   "cell_type": "code",
   "execution_count": 2,
   "id": "developed-terminology",
   "metadata": {
    "execution": {
     "iopub.execute_input": "2021-03-03T12:07:21.389472Z",
     "iopub.status.busy": "2021-03-03T12:07:21.388846Z",
     "iopub.status.idle": "2021-03-03T12:07:21.391263Z",
     "shell.execute_reply": "2021-03-03T12:07:21.391820Z"
    },
    "papermill": {
     "duration": 0.040431,
     "end_time": "2021-03-03T12:07:21.391961",
     "exception": false,
     "start_time": "2021-03-03T12:07:21.351530",
     "status": "completed"
    },
    "tags": []
   },
   "outputs": [],
   "source": [
    "#hide\n",
    "\n",
    "# FETCH\n",
    "base_url = 'https://raw.githubusercontent.com/pratapvardhan/notebooks/master/covid19/'\n",
    "paths = {\n",
    "    'mapping': base_url + 'mapping_countries.csv',\n",
    "    'overview': base_url + 'overview.tpl'\n",
    "}"
   ]
  },
  {
   "cell_type": "code",
   "execution_count": 3,
   "id": "dynamic-saver",
   "metadata": {
    "execution": {
     "iopub.execute_input": "2021-03-03T12:07:21.468207Z",
     "iopub.status.busy": "2021-03-03T12:07:21.467609Z",
     "iopub.status.idle": "2021-03-03T12:07:21.472635Z",
     "shell.execute_reply": "2021-03-03T12:07:21.473118Z"
    },
    "papermill": {
     "duration": 0.048777,
     "end_time": "2021-03-03T12:07:21.473261",
     "exception": false,
     "start_time": "2021-03-03T12:07:21.424484",
     "status": "completed"
    },
    "tags": []
   },
   "outputs": [
    {
     "data": {
      "text/plain": [
       "'https://raw.githubusercontent.com/pratapvardhan/notebooks/master/covid19/mapping_countries.csv'"
      ]
     },
     "execution_count": 3,
     "metadata": {},
     "output_type": "execute_result"
    }
   ],
   "source": [
    "#hide\n",
    "paths['mapping']"
   ]
  },
  {
   "cell_type": "code",
   "execution_count": 4,
   "id": "urban-software",
   "metadata": {
    "execution": {
     "iopub.execute_input": "2021-03-03T12:07:21.544462Z",
     "iopub.status.busy": "2021-03-03T12:07:21.543867Z",
     "iopub.status.idle": "2021-03-03T12:07:21.546155Z",
     "shell.execute_reply": "2021-03-03T12:07:21.545649Z"
    },
    "papermill": {
     "duration": 0.040377,
     "end_time": "2021-03-03T12:07:21.546276",
     "exception": false,
     "start_time": "2021-03-03T12:07:21.505899",
     "status": "completed"
    },
    "tags": []
   },
   "outputs": [],
   "source": [
    "#hide\n",
    "def get_mappings(url):\n",
    "    df = pd.read_csv(url)\n",
    "    return {\n",
    "        'df': df,\n",
    "        'replace.country': dict(df.dropna(subset=['Name']).set_index('Country')['Name']),\n",
    "        'map.continent': dict(df.set_index('Name')['Continent'])\n",
    "    }"
   ]
  },
  {
   "cell_type": "code",
   "execution_count": 5,
   "id": "intimate-machinery",
   "metadata": {
    "execution": {
     "iopub.execute_input": "2021-03-03T12:07:21.619955Z",
     "iopub.status.busy": "2021-03-03T12:07:21.619354Z",
     "iopub.status.idle": "2021-03-03T12:07:21.710390Z",
     "shell.execute_reply": "2021-03-03T12:07:21.710910Z"
    },
    "papermill": {
     "duration": 0.131873,
     "end_time": "2021-03-03T12:07:21.711070",
     "exception": false,
     "start_time": "2021-03-03T12:07:21.579197",
     "status": "completed"
    },
    "tags": []
   },
   "outputs": [],
   "source": [
    "#hide\n",
    "mapping = get_mappings(paths['mapping'])"
   ]
  },
  {
   "cell_type": "code",
   "execution_count": 6,
   "id": "certified-tactics",
   "metadata": {
    "execution": {
     "iopub.execute_input": "2021-03-03T12:07:21.783763Z",
     "iopub.status.busy": "2021-03-03T12:07:21.783149Z",
     "iopub.status.idle": "2021-03-03T12:07:21.785712Z",
     "shell.execute_reply": "2021-03-03T12:07:21.786188Z"
    },
    "papermill": {
     "duration": 0.041775,
     "end_time": "2021-03-03T12:07:21.786330",
     "exception": false,
     "start_time": "2021-03-03T12:07:21.744555",
     "status": "completed"
    },
    "tags": []
   },
   "outputs": [],
   "source": [
    "#hide\n",
    "def get_template(path):\n",
    "    from urllib.parse import urlparse\n",
    "    if bool(urlparse(path).netloc):\n",
    "        from urllib.request import urlopen\n",
    "        return urlopen(path).read().decode('utf8')\n",
    "    return open(path).read()"
   ]
  },
  {
   "cell_type": "code",
   "execution_count": 7,
   "id": "realistic-blast",
   "metadata": {
    "execution": {
     "iopub.execute_input": "2021-03-03T12:07:21.860458Z",
     "iopub.status.busy": "2021-03-03T12:07:21.859415Z",
     "iopub.status.idle": "2021-03-03T12:07:21.861611Z",
     "shell.execute_reply": "2021-03-03T12:07:21.862430Z"
    },
    "papermill": {
     "duration": 0.043223,
     "end_time": "2021-03-03T12:07:21.862652",
     "exception": false,
     "start_time": "2021-03-03T12:07:21.819429",
     "status": "completed"
    },
    "tags": []
   },
   "outputs": [],
   "source": [
    "#hide\n",
    "def get_frame(name):\n",
    "    url = (\n",
    "        'https://raw.githubusercontent.com/CSSEGISandData/COVID-19/master/csse_covid_19_data/'\n",
    "        f'csse_covid_19_time_series/time_series_covid19_{name}_global.csv')\n",
    "    df = pd.read_csv(url)\n",
    "    # rename countries\n",
    "    df['Country/Region'] = df['Country/Region'].replace(mapping['replace.country'])\n",
    "    return df"
   ]
  },
  {
   "cell_type": "code",
   "execution_count": 8,
   "id": "affiliated-characterization",
   "metadata": {
    "execution": {
     "iopub.execute_input": "2021-03-03T12:07:21.935624Z",
     "iopub.status.busy": "2021-03-03T12:07:21.935015Z",
     "iopub.status.idle": "2021-03-03T12:07:21.937517Z",
     "shell.execute_reply": "2021-03-03T12:07:21.938083Z"
    },
    "papermill": {
     "duration": 0.042067,
     "end_time": "2021-03-03T12:07:21.938225",
     "exception": false,
     "start_time": "2021-03-03T12:07:21.896158",
     "status": "completed"
    },
    "tags": []
   },
   "outputs": [],
   "source": [
    "#hide\n",
    "def get_dates(df):\n",
    "    dt_cols = df.columns[~df.columns.isin(['Province/State', 'Country/Region', 'Lat', 'Long'])]\n",
    "    LAST_DATE_I = -1\n",
    "    # sometimes last column may be empty, then go backwards\n",
    "    for i in range(-1, -len(dt_cols), -1):\n",
    "        if not df[dt_cols[i]].fillna(0).eq(0).all():\n",
    "            LAST_DATE_I = i\n",
    "            break\n",
    "    return LAST_DATE_I, dt_cols"
   ]
  },
  {
   "cell_type": "code",
   "execution_count": 9,
   "id": "recent-optimization",
   "metadata": {
    "execution": {
     "iopub.execute_input": "2021-03-03T12:07:22.009491Z",
     "iopub.status.busy": "2021-03-03T12:07:22.008877Z",
     "iopub.status.idle": "2021-03-03T12:07:22.497204Z",
     "shell.execute_reply": "2021-03-03T12:07:22.496095Z"
    },
    "papermill": {
     "duration": 0.526346,
     "end_time": "2021-03-03T12:07:22.497344",
     "exception": false,
     "start_time": "2021-03-03T12:07:21.970998",
     "status": "completed"
    },
    "tags": []
   },
   "outputs": [],
   "source": [
    "#hide\n",
    "COL_REGION = 'Country/Region'\n",
    "# Confirmed, Recovered, Deaths\n",
    "df = get_frame('confirmed')\n",
    "# dft_: timeseries, dfc_: today country agg\n",
    "dft_cases = df\n",
    "dft_deaths = get_frame('deaths')\n",
    "dft_recovered = get_frame('recovered')\n",
    "LAST_DATE_I, dt_cols = get_dates(df)"
   ]
  },
  {
   "cell_type": "code",
   "execution_count": 10,
   "id": "absolute-copper",
   "metadata": {
    "execution": {
     "iopub.execute_input": "2021-03-03T12:07:22.569920Z",
     "iopub.status.busy": "2021-03-03T12:07:22.569314Z",
     "iopub.status.idle": "2021-03-03T12:07:22.571563Z",
     "shell.execute_reply": "2021-03-03T12:07:22.571060Z"
    },
    "papermill": {
     "duration": 0.040776,
     "end_time": "2021-03-03T12:07:22.571685",
     "exception": false,
     "start_time": "2021-03-03T12:07:22.530909",
     "status": "completed"
    },
    "tags": []
   },
   "outputs": [],
   "source": [
    "#hide\n",
    "LAST_DATE_I, dt_cols = get_dates(df)\n",
    "dt_today =dt_cols[LAST_DATE_I]\n",
    "# dt_5day = dt_cols[LAST_DATE_I - 5]\n",
    "dt_yday = dt_cols[LAST_DATE_I - 1]"
   ]
  },
  {
   "cell_type": "code",
   "execution_count": 11,
   "id": "restricted-sheriff",
   "metadata": {
    "execution": {
     "iopub.execute_input": "2021-03-03T12:07:22.644178Z",
     "iopub.status.busy": "2021-03-03T12:07:22.643581Z",
     "iopub.status.idle": "2021-03-03T12:07:22.650783Z",
     "shell.execute_reply": "2021-03-03T12:07:22.651295Z"
    },
    "papermill": {
     "duration": 0.046808,
     "end_time": "2021-03-03T12:07:22.651439",
     "exception": false,
     "start_time": "2021-03-03T12:07:22.604631",
     "status": "completed"
    },
    "tags": []
   },
   "outputs": [],
   "source": [
    "#hide\n",
    "dfc_cases = dft_cases.groupby(COL_REGION)[dt_today].sum()\n",
    "dfc_deaths = dft_deaths.groupby(COL_REGION)[dt_today].sum()\n",
    "# dfp_cases = dft_cases.groupby(COL_REGION)[dt_5day].sum()\n",
    "# dfp_deaths = dft_deaths.groupby(COL_REGION)[dt_5day].sum()\n",
    "dfp_cases = dft_cases.groupby(COL_REGION)[dt_yday].sum()\n",
    "dfp_deaths = dft_deaths.groupby(COL_REGION)[dt_yday].sum()"
   ]
  },
  {
   "cell_type": "code",
   "execution_count": 12,
   "id": "deluxe-hepatitis",
   "metadata": {
    "execution": {
     "iopub.execute_input": "2021-03-03T12:07:22.724430Z",
     "iopub.status.busy": "2021-03-03T12:07:22.723838Z",
     "iopub.status.idle": "2021-03-03T12:07:22.728264Z",
     "shell.execute_reply": "2021-03-03T12:07:22.728848Z"
    },
    "papermill": {
     "duration": 0.044086,
     "end_time": "2021-03-03T12:07:22.728993",
     "exception": false,
     "start_time": "2021-03-03T12:07:22.684907",
     "status": "completed"
    },
    "tags": []
   },
   "outputs": [],
   "source": [
    "#hide\n",
    "df_table = (pd.DataFrame(dict(Cases = dfc_cases, Deaths = dfc_deaths, PCases = dfp_cases, PDeaths = dfp_deaths))\n",
    "            .sort_values(by = ['Cases','Deaths'], ascending = [False, False])\n",
    "            .reset_index())"
   ]
  },
  {
   "cell_type": "code",
   "execution_count": 13,
   "id": "educational-chancellor",
   "metadata": {
    "execution": {
     "iopub.execute_input": "2021-03-03T12:07:22.818460Z",
     "iopub.status.busy": "2021-03-03T12:07:22.817834Z",
     "iopub.status.idle": "2021-03-03T12:07:22.825058Z",
     "shell.execute_reply": "2021-03-03T12:07:22.825624Z"
    },
    "papermill": {
     "duration": 0.063397,
     "end_time": "2021-03-03T12:07:22.825770",
     "exception": false,
     "start_time": "2021-03-03T12:07:22.762373",
     "status": "completed"
    },
    "tags": []
   },
   "outputs": [
    {
     "data": {
      "text/html": [
       "<div>\n",
       "<style scoped>\n",
       "    .dataframe tbody tr th:only-of-type {\n",
       "        vertical-align: middle;\n",
       "    }\n",
       "\n",
       "    .dataframe tbody tr th {\n",
       "        vertical-align: top;\n",
       "    }\n",
       "\n",
       "    .dataframe thead th {\n",
       "        text-align: right;\n",
       "    }\n",
       "</style>\n",
       "<table border=\"1\" class=\"dataframe\">\n",
       "  <thead>\n",
       "    <tr style=\"text-align: right;\">\n",
       "      <th></th>\n",
       "      <th>Country/Region</th>\n",
       "      <th>Cases</th>\n",
       "      <th>Deaths</th>\n",
       "      <th>PCases</th>\n",
       "      <th>PDeaths</th>\n",
       "      <th>Cases (+)</th>\n",
       "      <th>Deaths (+)</th>\n",
       "      <th>Fatality Rate</th>\n",
       "      <th>Continent</th>\n",
       "    </tr>\n",
       "  </thead>\n",
       "  <tbody>\n",
       "    <tr>\n",
       "      <th>0</th>\n",
       "      <td>US</td>\n",
       "      <td>28719552</td>\n",
       "      <td>516581</td>\n",
       "      <td>28664481</td>\n",
       "      <td>514657</td>\n",
       "      <td>55071</td>\n",
       "      <td>1924</td>\n",
       "      <td>1.80</td>\n",
       "      <td>North America</td>\n",
       "    </tr>\n",
       "    <tr>\n",
       "      <th>1</th>\n",
       "      <td>India</td>\n",
       "      <td>11139516</td>\n",
       "      <td>157346</td>\n",
       "      <td>11124527</td>\n",
       "      <td>157248</td>\n",
       "      <td>14989</td>\n",
       "      <td>98</td>\n",
       "      <td>1.41</td>\n",
       "      <td>Asia</td>\n",
       "    </tr>\n",
       "    <tr>\n",
       "      <th>2</th>\n",
       "      <td>Brazil</td>\n",
       "      <td>10646926</td>\n",
       "      <td>257361</td>\n",
       "      <td>10587001</td>\n",
       "      <td>255720</td>\n",
       "      <td>59925</td>\n",
       "      <td>1641</td>\n",
       "      <td>2.42</td>\n",
       "      <td>South America</td>\n",
       "    </tr>\n",
       "    <tr>\n",
       "      <th>3</th>\n",
       "      <td>Russia</td>\n",
       "      <td>4220291</td>\n",
       "      <td>85458</td>\n",
       "      <td>4209850</td>\n",
       "      <td>85025</td>\n",
       "      <td>10441</td>\n",
       "      <td>433</td>\n",
       "      <td>2.02</td>\n",
       "      <td>Europe</td>\n",
       "    </tr>\n",
       "    <tr>\n",
       "      <th>4</th>\n",
       "      <td>United Kingdom</td>\n",
       "      <td>4200700</td>\n",
       "      <td>123530</td>\n",
       "      <td>4194289</td>\n",
       "      <td>123187</td>\n",
       "      <td>6411</td>\n",
       "      <td>343</td>\n",
       "      <td>2.94</td>\n",
       "      <td>Europe</td>\n",
       "    </tr>\n",
       "  </tbody>\n",
       "</table>\n",
       "</div>"
      ],
      "text/plain": [
       "   Country/Region     Cases  Deaths    PCases  PDeaths  Cases (+)  Deaths (+)  \\\n",
       "0              US  28719552  516581  28664481   514657      55071        1924   \n",
       "1           India  11139516  157346  11124527   157248      14989          98   \n",
       "2          Brazil  10646926  257361  10587001   255720      59925        1641   \n",
       "3          Russia   4220291   85458   4209850    85025      10441         433   \n",
       "4  United Kingdom   4200700  123530   4194289   123187       6411         343   \n",
       "\n",
       "   Fatality Rate      Continent  \n",
       "0           1.80  North America  \n",
       "1           1.41           Asia  \n",
       "2           2.42  South America  \n",
       "3           2.02         Europe  \n",
       "4           2.94         Europe  "
      ]
     },
     "execution_count": 13,
     "metadata": {},
     "output_type": "execute_result"
    }
   ],
   "source": [
    "#hide\n",
    "for c in 'Cases, Deaths'.split(', '):\n",
    "    df_table[f'{c} (+)'] = (df_table[c] - df_table[f'P{c}']).clip(0)\n",
    "    #Clip ça veut dire, les chiffres negatif sont interdit\n",
    "df_table['Fatality Rate'] = (100* df_table['Deaths']/ df_table['Cases']).round(2)\n",
    "df_table['Continent'] = df_table['Country/Region'].map(mapping['map.continent'])\n",
    "df_table.head(5)"
   ]
  },
  {
   "cell_type": "code",
   "execution_count": 14,
   "id": "aboriginal-bulgaria",
   "metadata": {
    "execution": {
     "iopub.execute_input": "2021-03-03T12:07:22.899622Z",
     "iopub.status.busy": "2021-03-03T12:07:22.899031Z",
     "iopub.status.idle": "2021-03-03T12:07:22.902612Z",
     "shell.execute_reply": "2021-03-03T12:07:22.902136Z"
    },
    "papermill": {
     "duration": 0.043294,
     "end_time": "2021-03-03T12:07:22.902735",
     "exception": false,
     "start_time": "2021-03-03T12:07:22.859441",
     "status": "completed"
    },
    "tags": []
   },
   "outputs": [],
   "source": [
    "#hide\n",
    "#delete problematic countries from table\n",
    "df_table = df_table[~df_table['Country/Region'].isin(['Cape Verde', 'Cruise Ship', 'Kosovo'])]"
   ]
  },
  {
   "cell_type": "code",
   "execution_count": 15,
   "id": "fantastic-effect",
   "metadata": {
    "execution": {
     "iopub.execute_input": "2021-03-03T12:07:22.981005Z",
     "iopub.status.busy": "2021-03-03T12:07:22.980366Z",
     "iopub.status.idle": "2021-03-03T12:07:23.001417Z",
     "shell.execute_reply": "2021-03-03T12:07:23.000923Z"
    },
    "papermill": {
     "duration": 0.065673,
     "end_time": "2021-03-03T12:07:23.001549",
     "exception": false,
     "start_time": "2021-03-03T12:07:22.935876",
     "status": "completed"
    },
    "tags": []
   },
   "outputs": [
    {
     "data": {
      "text/html": [
       "<div>\n",
       "<style scoped>\n",
       "    .dataframe tbody tr th:only-of-type {\n",
       "        vertical-align: middle;\n",
       "    }\n",
       "\n",
       "    .dataframe tbody tr th {\n",
       "        vertical-align: top;\n",
       "    }\n",
       "\n",
       "    .dataframe thead th {\n",
       "        text-align: right;\n",
       "    }\n",
       "</style>\n",
       "<table border=\"1\" class=\"dataframe\">\n",
       "  <thead>\n",
       "    <tr style=\"text-align: right;\">\n",
       "      <th></th>\n",
       "      <th>Country/Region</th>\n",
       "      <th>Cases</th>\n",
       "      <th>Deaths</th>\n",
       "      <th>PCases</th>\n",
       "      <th>PDeaths</th>\n",
       "      <th>Cases (+)</th>\n",
       "      <th>Deaths (+)</th>\n",
       "      <th>Fatality Rate</th>\n",
       "      <th>Continent</th>\n",
       "    </tr>\n",
       "  </thead>\n",
       "  <tbody>\n",
       "    <tr>\n",
       "      <th>0</th>\n",
       "      <td>US</td>\n",
       "      <td>28719552</td>\n",
       "      <td>516581</td>\n",
       "      <td>28664481</td>\n",
       "      <td>514657</td>\n",
       "      <td>55071</td>\n",
       "      <td>1924</td>\n",
       "      <td>1.8</td>\n",
       "      <td>North America</td>\n",
       "    </tr>\n",
       "    <tr>\n",
       "      <th>1</th>\n",
       "      <td>India</td>\n",
       "      <td>11139516</td>\n",
       "      <td>157346</td>\n",
       "      <td>11124527</td>\n",
       "      <td>157248</td>\n",
       "      <td>14989</td>\n",
       "      <td>98</td>\n",
       "      <td>1.4</td>\n",
       "      <td>Asia</td>\n",
       "    </tr>\n",
       "    <tr>\n",
       "      <th>2</th>\n",
       "      <td>Brazil</td>\n",
       "      <td>10646926</td>\n",
       "      <td>257361</td>\n",
       "      <td>10587001</td>\n",
       "      <td>255720</td>\n",
       "      <td>59925</td>\n",
       "      <td>1641</td>\n",
       "      <td>2.4</td>\n",
       "      <td>South America</td>\n",
       "    </tr>\n",
       "    <tr>\n",
       "      <th>3</th>\n",
       "      <td>Russia</td>\n",
       "      <td>4220291</td>\n",
       "      <td>85458</td>\n",
       "      <td>4209850</td>\n",
       "      <td>85025</td>\n",
       "      <td>10441</td>\n",
       "      <td>433</td>\n",
       "      <td>2.0</td>\n",
       "      <td>Europe</td>\n",
       "    </tr>\n",
       "    <tr>\n",
       "      <th>4</th>\n",
       "      <td>United Kingdom</td>\n",
       "      <td>4200700</td>\n",
       "      <td>123530</td>\n",
       "      <td>4194289</td>\n",
       "      <td>123187</td>\n",
       "      <td>6411</td>\n",
       "      <td>343</td>\n",
       "      <td>2.9</td>\n",
       "      <td>Europe</td>\n",
       "    </tr>\n",
       "  </tbody>\n",
       "</table>\n",
       "</div>"
      ],
      "text/plain": [
       "   Country/Region     Cases  Deaths    PCases  PDeaths  Cases (+)  Deaths (+)  \\\n",
       "0              US  28719552  516581  28664481   514657      55071        1924   \n",
       "1           India  11139516  157346  11124527   157248      14989          98   \n",
       "2          Brazil  10646926  257361  10587001   255720      59925        1641   \n",
       "3          Russia   4220291   85458   4209850    85025      10441         433   \n",
       "4  United Kingdom   4200700  123530   4194289   123187       6411         343   \n",
       "\n",
       "   Fatality Rate      Continent  \n",
       "0            1.8  North America  \n",
       "1            1.4           Asia  \n",
       "2            2.4  South America  \n",
       "3            2.0         Europe  \n",
       "4            2.9         Europe  "
      ]
     },
     "execution_count": 15,
     "metadata": {},
     "output_type": "execute_result"
    }
   ],
   "source": [
    "#hide\n",
    "df_table = (pd.DataFrame(dict(Cases=dfc_cases, Deaths=dfc_deaths, PCases=dfp_cases, PDeaths=dfp_deaths))\n",
    "             .sort_values(by=['Cases', 'Deaths'], ascending=[False, False])\n",
    "             .reset_index())\n",
    "df_table.rename(columns={'index': 'Country/Region'}, inplace=True)\n",
    "for c in 'Cases, Deaths'.split(', '):\n",
    "    df_table[f'{c} (+)'] = (df_table[c] - df_table[f'P{c}']).clip(0)  # DATA BUG\n",
    "df_table['Fatality Rate'] = (100 * df_table['Deaths'] / df_table['Cases']).round(1)\n",
    "df_table['Continent'] = df_table['Country/Region'].map(mapping['map.continent'])\n",
    "df_table.head(5)"
   ]
  },
  {
   "cell_type": "code",
   "execution_count": 16,
   "id": "fewer-occasion",
   "metadata": {
    "execution": {
     "iopub.execute_input": "2021-03-03T12:07:23.076381Z",
     "iopub.status.busy": "2021-03-03T12:07:23.075773Z",
     "iopub.status.idle": "2021-03-03T12:07:23.078064Z",
     "shell.execute_reply": "2021-03-03T12:07:23.077585Z"
    },
    "papermill": {
     "duration": 0.042261,
     "end_time": "2021-03-03T12:07:23.078190",
     "exception": false,
     "start_time": "2021-03-03T12:07:23.035929",
     "status": "completed"
    },
    "tags": []
   },
   "outputs": [],
   "source": [
    "#hide\n",
    "#delete problematic countries from table\n",
    "df_table = df_table[~df_table['Country/Region'].isin(['Cape Verde', 'Cruise Ship', 'Kosovo'])]"
   ]
  },
  {
   "cell_type": "code",
   "execution_count": 17,
   "id": "related-center",
   "metadata": {
    "execution": {
     "iopub.execute_input": "2021-03-03T12:07:23.170012Z",
     "iopub.status.busy": "2021-03-03T12:07:23.169388Z",
     "iopub.status.idle": "2021-03-03T12:07:23.172117Z",
     "shell.execute_reply": "2021-03-03T12:07:23.172651Z"
    },
    "papermill": {
     "duration": 0.057916,
     "end_time": "2021-03-03T12:07:23.172799",
     "exception": false,
     "start_time": "2021-03-03T12:07:23.114883",
     "status": "completed"
    },
    "tags": []
   },
   "outputs": [],
   "source": [
    "#hide\n",
    "metrics = [df_table.columns[index] for index in [1,2,5,6]]\n",
    "# s_china = df_table[df_table['Country/Region'].eq('China')][metrics].sum().add_prefix('China ')\n",
    "s_us = df_table[df_table['Country/Region'].eq('US')][metrics].sum().add_prefix('US ')\n",
    "s_eu = df_table[df_table['Continent'].eq('Europe')][metrics].sum().add_prefix('EU ')\n",
    "s_ind = df_table[df_table['Country/Region'].eq('India')][metrics].sum().add_prefix('India ')\n",
    "summary = {'updated': pd.to_datetime(dt_today), 'since': pd.to_datetime(dt_yday)}\n",
    "summary = {'updated': pd.to_datetime(dt_today), 'since': pd.to_datetime(dt_yday)}\n",
    "summary = {**summary, **df_table[metrics].sum(), **s_ind, **s_us, **s_eu}"
   ]
  },
  {
   "cell_type": "code",
   "execution_count": 18,
   "id": "engaging-syndrome",
   "metadata": {
    "execution": {
     "iopub.execute_input": "2021-03-03T12:07:23.250430Z",
     "iopub.status.busy": "2021-03-03T12:07:23.249829Z",
     "iopub.status.idle": "2021-03-03T12:07:23.261863Z",
     "shell.execute_reply": "2021-03-03T12:07:23.261323Z"
    },
    "papermill": {
     "duration": 0.051684,
     "end_time": "2021-03-03T12:07:23.261991",
     "exception": false,
     "start_time": "2021-03-03T12:07:23.210307",
     "status": "completed"
    },
    "tags": []
   },
   "outputs": [],
   "source": [
    "#hide\n",
    "dft_ct_new_cases = dft_cases.groupby(COL_REGION)[dt_cols].sum().diff(axis=1).fillna(0).astype(int)"
   ]
  },
  {
   "cell_type": "code",
   "execution_count": 19,
   "id": "neutral-assignment",
   "metadata": {
    "execution": {
     "iopub.execute_input": "2021-03-03T12:07:23.336845Z",
     "iopub.status.busy": "2021-03-03T12:07:23.336199Z",
     "iopub.status.idle": "2021-03-03T12:07:23.338575Z",
     "shell.execute_reply": "2021-03-03T12:07:23.339057Z"
    },
    "papermill": {
     "duration": 0.042866,
     "end_time": "2021-03-03T12:07:23.339199",
     "exception": false,
     "start_time": "2021-03-03T12:07:23.296333",
     "status": "completed"
    },
    "tags": []
   },
   "outputs": [],
   "source": [
    "#hide\n",
    "everydaycases = dft_ct_new_cases.cumsum(axis=1)"
   ]
  },
  {
   "cell_type": "code",
   "execution_count": 20,
   "id": "parliamentary-calgary",
   "metadata": {
    "execution": {
     "iopub.execute_input": "2021-03-03T12:07:23.411772Z",
     "iopub.status.busy": "2021-03-03T12:07:23.411190Z",
     "iopub.status.idle": "2021-03-03T12:07:24.088522Z",
     "shell.execute_reply": "2021-03-03T12:07:24.089078Z"
    },
    "papermill": {
     "duration": 0.715674,
     "end_time": "2021-03-03T12:07:24.089243",
     "exception": false,
     "start_time": "2021-03-03T12:07:23.373569",
     "status": "completed"
    },
    "tags": []
   },
   "outputs": [],
   "source": [
    "#hide\n",
    "import pandas as pd\n",
    "import matplotlib.pyplot as plt\n",
    "import matplotlib.ticker as ticker\n",
    "import matplotlib.animation as animation\n",
    "from IPython.display import HTML"
   ]
  },
  {
   "cell_type": "code",
   "execution_count": 21,
   "id": "lasting-extraction",
   "metadata": {
    "execution": {
     "iopub.execute_input": "2021-03-03T12:07:24.165641Z",
     "iopub.status.busy": "2021-03-03T12:07:24.163757Z",
     "iopub.status.idle": "2021-03-03T12:07:24.169467Z",
     "shell.execute_reply": "2021-03-03T12:07:24.168943Z"
    },
    "papermill": {
     "duration": 0.04506,
     "end_time": "2021-03-03T12:07:24.169592",
     "exception": false,
     "start_time": "2021-03-03T12:07:24.124532",
     "status": "completed"
    },
    "tags": []
   },
   "outputs": [],
   "source": [
    "#hide\n",
    "t = everydaycases.stack()"
   ]
  },
  {
   "cell_type": "code",
   "execution_count": 22,
   "id": "premier-sleeve",
   "metadata": {
    "execution": {
     "iopub.execute_input": "2021-03-03T12:07:24.242553Z",
     "iopub.status.busy": "2021-03-03T12:07:24.241849Z",
     "iopub.status.idle": "2021-03-03T12:07:24.250396Z",
     "shell.execute_reply": "2021-03-03T12:07:24.249908Z"
    },
    "papermill": {
     "duration": 0.046896,
     "end_time": "2021-03-03T12:07:24.250524",
     "exception": false,
     "start_time": "2021-03-03T12:07:24.203628",
     "status": "completed"
    },
    "tags": []
   },
   "outputs": [],
   "source": [
    "#hide\n",
    "g = t.reset_index(['Country/Region'])"
   ]
  },
  {
   "cell_type": "code",
   "execution_count": 23,
   "id": "distributed-pittsburgh",
   "metadata": {
    "execution": {
     "iopub.execute_input": "2021-03-03T12:07:24.324064Z",
     "iopub.status.busy": "2021-03-03T12:07:24.323469Z",
     "iopub.status.idle": "2021-03-03T12:07:24.325637Z",
     "shell.execute_reply": "2021-03-03T12:07:24.326202Z"
    },
    "papermill": {
     "duration": 0.041481,
     "end_time": "2021-03-03T12:07:24.326340",
     "exception": false,
     "start_time": "2021-03-03T12:07:24.284859",
     "status": "completed"
    },
    "tags": []
   },
   "outputs": [],
   "source": [
    "#hide\n",
    "g.index.name = 'date'"
   ]
  },
  {
   "cell_type": "code",
   "execution_count": 24,
   "id": "naked-donor",
   "metadata": {
    "execution": {
     "iopub.execute_input": "2021-03-03T12:07:24.398391Z",
     "iopub.status.busy": "2021-03-03T12:07:24.397811Z",
     "iopub.status.idle": "2021-03-03T12:07:24.399689Z",
     "shell.execute_reply": "2021-03-03T12:07:24.400234Z"
    },
    "papermill": {
     "duration": 0.039662,
     "end_time": "2021-03-03T12:07:24.400370",
     "exception": false,
     "start_time": "2021-03-03T12:07:24.360708",
     "status": "completed"
    },
    "tags": []
   },
   "outputs": [],
   "source": [
    "# #hide\n",
    "# g = g.reset_index(['date'])"
   ]
  },
  {
   "cell_type": "code",
   "execution_count": 25,
   "id": "incomplete-mustang",
   "metadata": {
    "execution": {
     "iopub.execute_input": "2021-03-03T12:07:24.472416Z",
     "iopub.status.busy": "2021-03-03T12:07:24.471828Z",
     "iopub.status.idle": "2021-03-03T12:07:24.474126Z",
     "shell.execute_reply": "2021-03-03T12:07:24.473621Z"
    },
    "papermill": {
     "duration": 0.039934,
     "end_time": "2021-03-03T12:07:24.474248",
     "exception": false,
     "start_time": "2021-03-03T12:07:24.434314",
     "status": "completed"
    },
    "tags": []
   },
   "outputs": [],
   "source": [
    "#hide\n",
    "# g.head()"
   ]
  },
  {
   "cell_type": "code",
   "execution_count": 26,
   "id": "specific-kruger",
   "metadata": {
    "execution": {
     "iopub.execute_input": "2021-03-03T12:07:24.549540Z",
     "iopub.status.busy": "2021-03-03T12:07:24.548920Z",
     "iopub.status.idle": "2021-03-03T12:07:24.551731Z",
     "shell.execute_reply": "2021-03-03T12:07:24.552226Z"
    },
    "papermill": {
     "duration": 0.043169,
     "end_time": "2021-03-03T12:07:24.552367",
     "exception": false,
     "start_time": "2021-03-03T12:07:24.509198",
     "status": "completed"
    },
    "tags": []
   },
   "outputs": [],
   "source": [
    "#hide\n",
    "# g.columns = ['date','country','cases']"
   ]
  },
  {
   "cell_type": "code",
   "execution_count": 27,
   "id": "tender-conversion",
   "metadata": {
    "execution": {
     "iopub.execute_input": "2021-03-03T12:07:24.625964Z",
     "iopub.status.busy": "2021-03-03T12:07:24.625361Z",
     "iopub.status.idle": "2021-03-03T12:07:24.626988Z",
     "shell.execute_reply": "2021-03-03T12:07:24.627494Z"
    },
    "papermill": {
     "duration": 0.040588,
     "end_time": "2021-03-03T12:07:24.627631",
     "exception": false,
     "start_time": "2021-03-03T12:07:24.587043",
     "status": "completed"
    },
    "tags": []
   },
   "outputs": [],
   "source": [
    "#hide\n",
    "# g['continent'] = g.country"
   ]
  },
  {
   "cell_type": "code",
   "execution_count": 28,
   "id": "substantial-wilderness",
   "metadata": {
    "execution": {
     "iopub.execute_input": "2021-03-03T12:07:24.701669Z",
     "iopub.status.busy": "2021-03-03T12:07:24.701067Z",
     "iopub.status.idle": "2021-03-03T12:07:24.703199Z",
     "shell.execute_reply": "2021-03-03T12:07:24.703806Z"
    },
    "papermill": {
     "duration": 0.041155,
     "end_time": "2021-03-03T12:07:24.703947",
     "exception": false,
     "start_time": "2021-03-03T12:07:24.662792",
     "status": "completed"
    },
    "tags": []
   },
   "outputs": [],
   "source": [
    "#hide\n",
    "# cols = list(g.columns.values)"
   ]
  },
  {
   "cell_type": "code",
   "execution_count": 29,
   "id": "solved-farming",
   "metadata": {
    "execution": {
     "iopub.execute_input": "2021-03-03T12:07:24.778489Z",
     "iopub.status.busy": "2021-03-03T12:07:24.777892Z",
     "iopub.status.idle": "2021-03-03T12:07:24.780081Z",
     "shell.execute_reply": "2021-03-03T12:07:24.779501Z"
    },
    "papermill": {
     "duration": 0.042315,
     "end_time": "2021-03-03T12:07:24.780203",
     "exception": false,
     "start_time": "2021-03-03T12:07:24.737888",
     "status": "completed"
    },
    "tags": []
   },
   "outputs": [],
   "source": [
    "#hide\n",
    "# cols.insert(0, cols.pop())"
   ]
  },
  {
   "cell_type": "code",
   "execution_count": 30,
   "id": "executed-adoption",
   "metadata": {
    "execution": {
     "iopub.execute_input": "2021-03-03T12:07:24.855629Z",
     "iopub.status.busy": "2021-03-03T12:07:24.855030Z",
     "iopub.status.idle": "2021-03-03T12:07:24.857310Z",
     "shell.execute_reply": "2021-03-03T12:07:24.856805Z"
    },
    "papermill": {
     "duration": 0.042943,
     "end_time": "2021-03-03T12:07:24.857429",
     "exception": false,
     "start_time": "2021-03-03T12:07:24.814486",
     "status": "completed"
    },
    "tags": []
   },
   "outputs": [],
   "source": [
    "#hide\n",
    "# g = g[cols]"
   ]
  },
  {
   "cell_type": "code",
   "execution_count": 31,
   "id": "subject-dublin",
   "metadata": {
    "execution": {
     "iopub.execute_input": "2021-03-03T12:07:24.929857Z",
     "iopub.status.busy": "2021-03-03T12:07:24.929267Z",
     "iopub.status.idle": "2021-03-03T12:07:24.932171Z",
     "shell.execute_reply": "2021-03-03T12:07:24.931690Z"
    },
    "papermill": {
     "duration": 0.041089,
     "end_time": "2021-03-03T12:07:24.932298",
     "exception": false,
     "start_time": "2021-03-03T12:07:24.891209",
     "status": "completed"
    },
    "tags": []
   },
   "outputs": [],
   "source": [
    "#hide\n",
    "# g['continent'] = g['continent'].map(mapping['map.continent'])"
   ]
  },
  {
   "cell_type": "code",
   "execution_count": 32,
   "id": "freelance-scout",
   "metadata": {
    "execution": {
     "iopub.execute_input": "2021-03-03T12:07:25.005237Z",
     "iopub.status.busy": "2021-03-03T12:07:25.004631Z",
     "iopub.status.idle": "2021-03-03T12:07:25.007054Z",
     "shell.execute_reply": "2021-03-03T12:07:25.007621Z"
    },
    "papermill": {
     "duration": 0.041321,
     "end_time": "2021-03-03T12:07:25.007760",
     "exception": false,
     "start_time": "2021-03-03T12:07:24.966439",
     "status": "completed"
    },
    "tags": []
   },
   "outputs": [],
   "source": [
    "#hide\n",
    "# g.head()"
   ]
  },
  {
   "cell_type": "code",
   "execution_count": 33,
   "id": "limited-engine",
   "metadata": {
    "execution": {
     "iopub.execute_input": "2021-03-03T12:07:25.077782Z",
     "iopub.status.busy": "2021-03-03T12:07:25.077190Z",
     "iopub.status.idle": "2021-03-03T12:07:25.079638Z",
     "shell.execute_reply": "2021-03-03T12:07:25.079164Z"
    },
    "papermill": {
     "duration": 0.039743,
     "end_time": "2021-03-03T12:07:25.079764",
     "exception": false,
     "start_time": "2021-03-03T12:07:25.040021",
     "status": "completed"
    },
    "tags": []
   },
   "outputs": [],
   "source": [
    "# hide\n",
    "# g['date'] = g['date'].astype('datetime64[ns]')"
   ]
  },
  {
   "cell_type": "code",
   "execution_count": 34,
   "id": "sophisticated-supervisor",
   "metadata": {
    "execution": {
     "iopub.execute_input": "2021-03-03T12:07:25.152654Z",
     "iopub.status.busy": "2021-03-03T12:07:25.152030Z",
     "iopub.status.idle": "2021-03-03T12:07:25.154382Z",
     "shell.execute_reply": "2021-03-03T12:07:25.153885Z"
    },
    "papermill": {
     "duration": 0.039979,
     "end_time": "2021-03-03T12:07:25.154502",
     "exception": false,
     "start_time": "2021-03-03T12:07:25.114523",
     "status": "completed"
    },
    "tags": []
   },
   "outputs": [],
   "source": [
    "#hide\n",
    "# g['date'] = g.date.dt.dayofyear"
   ]
  },
  {
   "cell_type": "code",
   "execution_count": 35,
   "id": "inside-dubai",
   "metadata": {
    "execution": {
     "iopub.execute_input": "2021-03-03T12:07:25.227242Z",
     "iopub.status.busy": "2021-03-03T12:07:25.226196Z",
     "iopub.status.idle": "2021-03-03T12:07:25.228321Z",
     "shell.execute_reply": "2021-03-03T12:07:25.229179Z"
    },
    "papermill": {
     "duration": 0.041367,
     "end_time": "2021-03-03T12:07:25.229404",
     "exception": false,
     "start_time": "2021-03-03T12:07:25.188037",
     "status": "completed"
    },
    "tags": []
   },
   "outputs": [],
   "source": [
    "#hide\n",
    "# g = g.rename(columns= {'continent':'group','country':'name','cases':'value'})"
   ]
  },
  {
   "cell_type": "code",
   "execution_count": 36,
   "id": "fleet-motorcycle",
   "metadata": {
    "execution": {
     "iopub.execute_input": "2021-03-03T12:07:25.303846Z",
     "iopub.status.busy": "2021-03-03T12:07:25.303234Z",
     "iopub.status.idle": "2021-03-03T12:07:25.305654Z",
     "shell.execute_reply": "2021-03-03T12:07:25.306109Z"
    },
    "papermill": {
     "duration": 0.0415,
     "end_time": "2021-03-03T12:07:25.306255",
     "exception": false,
     "start_time": "2021-03-03T12:07:25.264755",
     "status": "completed"
    },
    "tags": []
   },
   "outputs": [],
   "source": [
    "#hide\n",
    "# cols = ['name','group','day','value']"
   ]
  },
  {
   "cell_type": "code",
   "execution_count": 37,
   "id": "continued-sleeping",
   "metadata": {
    "execution": {
     "iopub.execute_input": "2021-03-03T12:07:25.377774Z",
     "iopub.status.busy": "2021-03-03T12:07:25.377160Z",
     "iopub.status.idle": "2021-03-03T12:07:25.379492Z",
     "shell.execute_reply": "2021-03-03T12:07:25.378906Z"
    },
    "papermill": {
     "duration": 0.039412,
     "end_time": "2021-03-03T12:07:25.379616",
     "exception": false,
     "start_time": "2021-03-03T12:07:25.340204",
     "status": "completed"
    },
    "tags": []
   },
   "outputs": [],
   "source": [
    "#hide\n",
    "# g.rename(columns= {'date':'day'},inplace = True)"
   ]
  },
  {
   "cell_type": "code",
   "execution_count": 38,
   "id": "major-fight",
   "metadata": {
    "execution": {
     "iopub.execute_input": "2021-03-03T12:07:25.452087Z",
     "iopub.status.busy": "2021-03-03T12:07:25.451484Z",
     "iopub.status.idle": "2021-03-03T12:07:25.453907Z",
     "shell.execute_reply": "2021-03-03T12:07:25.454473Z"
    },
    "papermill": {
     "duration": 0.040869,
     "end_time": "2021-03-03T12:07:25.454615",
     "exception": false,
     "start_time": "2021-03-03T12:07:25.413746",
     "status": "completed"
    },
    "tags": []
   },
   "outputs": [],
   "source": [
    "#hide\n",
    "# g = g[cols]"
   ]
  },
  {
   "cell_type": "code",
   "execution_count": 39,
   "id": "structured-mobile",
   "metadata": {
    "execution": {
     "iopub.execute_input": "2021-03-03T12:07:25.525983Z",
     "iopub.status.busy": "2021-03-03T12:07:25.525355Z",
     "iopub.status.idle": "2021-03-03T12:07:25.527139Z",
     "shell.execute_reply": "2021-03-03T12:07:25.527634Z"
    },
    "papermill": {
     "duration": 0.039379,
     "end_time": "2021-03-03T12:07:25.527775",
     "exception": false,
     "start_time": "2021-03-03T12:07:25.488396",
     "status": "completed"
    },
    "tags": []
   },
   "outputs": [],
   "source": [
    "# #hide\n",
    "# g = g[g.group.notna()]"
   ]
  },
  {
   "cell_type": "code",
   "execution_count": 40,
   "id": "determined-closing",
   "metadata": {
    "execution": {
     "iopub.execute_input": "2021-03-03T12:07:25.600137Z",
     "iopub.status.busy": "2021-03-03T12:07:25.599528Z",
     "iopub.status.idle": "2021-03-03T12:07:25.601913Z",
     "shell.execute_reply": "2021-03-03T12:07:25.601419Z"
    },
    "papermill": {
     "duration": 0.039915,
     "end_time": "2021-03-03T12:07:25.602031",
     "exception": false,
     "start_time": "2021-03-03T12:07:25.562116",
     "status": "completed"
    },
    "tags": []
   },
   "outputs": [],
   "source": [
    "# #hide\n",
    "# colors = dict(zip(\n",
    "#     [\"Oceania\", \"Europe\", \"Asia\", \"South America\", \"Middle East\", \"North America\", \"Africa\"],\n",
    "#     [\"#adb0ff\", \"#ffb3ff\", \"#90d595\", \"#e48381\", \"#aafbff\", \"#f7bb5f\", \"#eafb50\"]\n",
    "# ))\n",
    "# group_lk = g.set_index('name')['group'].to_dict()"
   ]
  },
  {
   "cell_type": "code",
   "execution_count": null,
   "id": "gross-drinking",
   "metadata": {
    "papermill": {
     "duration": 0.033424,
     "end_time": "2021-03-03T12:07:25.669225",
     "exception": false,
     "start_time": "2021-03-03T12:07:25.635801",
     "status": "completed"
    },
    "tags": []
   },
   "outputs": [],
   "source": []
  },
  {
   "cell_type": "code",
   "execution_count": 41,
   "id": "subject-macintosh",
   "metadata": {
    "execution": {
     "iopub.execute_input": "2021-03-03T12:07:25.741219Z",
     "iopub.status.busy": "2021-03-03T12:07:25.740563Z",
     "iopub.status.idle": "2021-03-03T12:07:25.742822Z",
     "shell.execute_reply": "2021-03-03T12:07:25.743327Z"
    },
    "papermill": {
     "duration": 0.040412,
     "end_time": "2021-03-03T12:07:25.743466",
     "exception": false,
     "start_time": "2021-03-03T12:07:25.703054",
     "status": "completed"
    },
    "tags": []
   },
   "outputs": [],
   "source": [
    "# #hide\n",
    "# fig, ax = plt.subplots(figsize=(15, 8))\n",
    "\n",
    "# def draw_barchart(current_day):\n",
    "#     dff = g[g['day'].eq(current_day)].sort_values(by='value', ascending=True).tail(10)\n",
    "#     ax.clear()\n",
    "#     ax.barh(dff['name'], dff['value'], color=[colors[group_lk[x]] for x in dff['name']])\n",
    "#     dx = dff['value'].max() / 200\n",
    "    \n",
    "#     for i, (value, name) in enumerate(zip(dff['value'], dff['name'])):\n",
    "#         ax.text(value-dx, i,     name,           size=14, weight=600, ha='right', va='bottom')\n",
    "#         ax.text(value-dx, i-.25, group_lk[name], size=10, color='#444444', ha='right', va='baseline')\n",
    "#         ax.text(value+dx, i,     f'{value:,.0f}',  size=14, ha='left',  va='center')\n",
    "#     ax.text(1, 0.4, current_day, transform=ax.transAxes, color='#777777', size=46, ha='right', weight=800)\n",
    "#     ax.text(0, 1.06, 'Population (thousands)', transform=ax.transAxes, size=12, color='#777777')\n",
    "#     ax.xaxis.set_major_formatter(ticker.StrMethodFormatter('{x:,.0f}'))\n",
    "#     ax.xaxis.set_ticks_position('top')\n",
    "#     ax.tick_params(axis='x', colors='#777777', labelsize=12)\n",
    "#     ax.set_yticks([])\n",
    "#     ax.margins(0, 0.01)\n",
    "#     ax.grid(which='major', axis='x', linestyle='-')\n",
    "#     ax.set_axisbelow(True)\n",
    "    \n",
    "#     ax.text(0, 1.15, 'Coronavirus',\n",
    "#             transform=ax.transAxes, size=24, weight=600, ha='left', va='top')\n",
    "# #     ax.text(1, 0, 'by @pratapvardhan; credit @jburnmurdoch', transform=ax.transAxes, color='#777777', ha='right',\n",
    "# #             bbox=dict(facecolor='white', alpha=0.8, edgecolor='white'))\n",
    "#     plt.box(False)"
   ]
  },
  {
   "cell_type": "code",
   "execution_count": 42,
   "id": "sexual-wages",
   "metadata": {
    "execution": {
     "iopub.execute_input": "2021-03-03T12:07:25.814908Z",
     "iopub.status.busy": "2021-03-03T12:07:25.814320Z",
     "iopub.status.idle": "2021-03-03T12:07:25.816537Z",
     "shell.execute_reply": "2021-03-03T12:07:25.816063Z"
    },
    "papermill": {
     "duration": 0.039472,
     "end_time": "2021-03-03T12:07:25.816668",
     "exception": false,
     "start_time": "2021-03-03T12:07:25.777196",
     "status": "completed"
    },
    "tags": []
   },
   "outputs": [],
   "source": [
    "# #hide_input\n",
    "# fig, ax = plt.subplots(figsize=(15, 8))\n",
    "# animator = animation.FuncAnimation(fig, draw_barchart, frames=range(g.day.values.min(), g.day.values.max()))\n",
    "# HTML(animator.to_jshtml())\n",
    "# # or use animator.to_html5_video() or animator.save() "
   ]
  },
  {
   "cell_type": "code",
   "execution_count": null,
   "id": "australian-container",
   "metadata": {
    "papermill": {
     "duration": 0.033596,
     "end_time": "2021-03-03T12:07:25.883790",
     "exception": false,
     "start_time": "2021-03-03T12:07:25.850194",
     "status": "completed"
    },
    "tags": []
   },
   "outputs": [],
   "source": []
  },
  {
   "cell_type": "code",
   "execution_count": null,
   "id": "mediterranean-pontiac",
   "metadata": {
    "papermill": {
     "duration": 0.03338,
     "end_time": "2021-03-03T12:07:25.951008",
     "exception": false,
     "start_time": "2021-03-03T12:07:25.917628",
     "status": "completed"
    },
    "tags": []
   },
   "outputs": [],
   "source": []
  },
  {
   "cell_type": "code",
   "execution_count": null,
   "id": "aging-legislature",
   "metadata": {
    "papermill": {
     "duration": 0.033148,
     "end_time": "2021-03-03T12:07:26.017669",
     "exception": false,
     "start_time": "2021-03-03T12:07:25.984521",
     "status": "completed"
    },
    "tags": []
   },
   "outputs": [],
   "source": []
  }
 ],
 "metadata": {
  "kernelspec": {
   "display_name": "Python 3",
   "language": "python",
   "name": "python3"
  },
  "language_info": {
   "codemirror_mode": {
    "name": "ipython",
    "version": 3
   },
   "file_extension": ".py",
   "mimetype": "text/x-python",
   "name": "python",
   "nbconvert_exporter": "python",
   "pygments_lexer": "ipython3",
   "version": "3.6.13"
  },
  "papermill": {
   "duration": 6.724166,
   "end_time": "2021-03-03T12:07:26.459777",
   "environment_variables": {},
   "exception": null,
   "input_path": "2020-03-21-covid19exp.ipynb",
   "output_path": "2020-03-21-covid19exp.ipynb",
   "parameters": {},
   "start_time": "2021-03-03T12:07:19.735611",
   "version": "2.0.0"
  }
 },
 "nbformat": 4,
 "nbformat_minor": 5
}