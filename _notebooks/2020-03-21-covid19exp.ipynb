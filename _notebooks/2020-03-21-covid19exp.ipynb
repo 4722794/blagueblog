{
 "cells": [
  {
   "cell_type": "markdown",
   "id": "muslim-click",
   "metadata": {
    "papermill": {
     "duration": 0.037123,
     "end_time": "2021-02-05T12:06:53.392387",
     "exception": false,
     "start_time": "2021-02-05T12:06:53.355264",
     "status": "completed"
    },
    "tags": []
   },
   "source": [
    "# COVID-19 Case Race\n",
    "> A race chart to see rising cases around the world\n",
    "\n",
    "- author: Hargun Oberoi\n",
    "- image: images/covid-overview.png\n",
    "- hide: false\n",
    "- badges: false"
   ]
  },
  {
   "cell_type": "code",
   "execution_count": 1,
   "id": "proof-material",
   "metadata": {
    "execution": {
     "iopub.execute_input": "2021-02-05T12:06:53.466340Z",
     "iopub.status.busy": "2021-02-05T12:06:53.465745Z",
     "iopub.status.idle": "2021-02-05T12:06:53.786812Z",
     "shell.execute_reply": "2021-02-05T12:06:53.785784Z"
    },
    "papermill": {
     "duration": 0.362529,
     "end_time": "2021-02-05T12:06:53.786967",
     "exception": false,
     "start_time": "2021-02-05T12:06:53.424438",
     "status": "completed"
    },
    "tags": []
   },
   "outputs": [],
   "source": [
    "#hide\n",
    "import numpy as np\n",
    "import pandas as pd\n",
    "from jinja2 import Template\n",
    "from IPython.display import HTML"
   ]
  },
  {
   "cell_type": "code",
   "execution_count": 2,
   "id": "developed-terminology",
   "metadata": {
    "execution": {
     "iopub.execute_input": "2021-02-05T12:06:53.862194Z",
     "iopub.status.busy": "2021-02-05T12:06:53.861625Z",
     "iopub.status.idle": "2021-02-05T12:06:53.863766Z",
     "shell.execute_reply": "2021-02-05T12:06:53.863292Z"
    },
    "papermill": {
     "duration": 0.041584,
     "end_time": "2021-02-05T12:06:53.863885",
     "exception": false,
     "start_time": "2021-02-05T12:06:53.822301",
     "status": "completed"
    },
    "tags": []
   },
   "outputs": [],
   "source": [
    "#hide\n",
    "\n",
    "# FETCH\n",
    "base_url = 'https://raw.githubusercontent.com/pratapvardhan/notebooks/master/covid19/'\n",
    "paths = {\n",
    "    'mapping': base_url + 'mapping_countries.csv',\n",
    "    'overview': base_url + 'overview.tpl'\n",
    "}"
   ]
  },
  {
   "cell_type": "code",
   "execution_count": 3,
   "id": "dynamic-saver",
   "metadata": {
    "execution": {
     "iopub.execute_input": "2021-02-05T12:06:53.940105Z",
     "iopub.status.busy": "2021-02-05T12:06:53.938771Z",
     "iopub.status.idle": "2021-02-05T12:06:53.943125Z",
     "shell.execute_reply": "2021-02-05T12:06:53.942686Z"
    },
    "papermill": {
     "duration": 0.045808,
     "end_time": "2021-02-05T12:06:53.943233",
     "exception": false,
     "start_time": "2021-02-05T12:06:53.897425",
     "status": "completed"
    },
    "tags": []
   },
   "outputs": [
    {
     "data": {
      "text/plain": [
       "'https://raw.githubusercontent.com/pratapvardhan/notebooks/master/covid19/mapping_countries.csv'"
      ]
     },
     "execution_count": 3,
     "metadata": {},
     "output_type": "execute_result"
    }
   ],
   "source": [
    "#hide\n",
    "paths['mapping']"
   ]
  },
  {
   "cell_type": "code",
   "execution_count": 4,
   "id": "urban-software",
   "metadata": {
    "execution": {
     "iopub.execute_input": "2021-02-05T12:06:54.009359Z",
     "iopub.status.busy": "2021-02-05T12:06:54.008738Z",
     "iopub.status.idle": "2021-02-05T12:06:54.011134Z",
     "shell.execute_reply": "2021-02-05T12:06:54.011682Z"
    },
    "papermill": {
     "duration": 0.038151,
     "end_time": "2021-02-05T12:06:54.011807",
     "exception": false,
     "start_time": "2021-02-05T12:06:53.973656",
     "status": "completed"
    },
    "tags": []
   },
   "outputs": [],
   "source": [
    "#hide\n",
    "def get_mappings(url):\n",
    "    df = pd.read_csv(url)\n",
    "    return {\n",
    "        'df': df,\n",
    "        'replace.country': dict(df.dropna(subset=['Name']).set_index('Country')['Name']),\n",
    "        'map.continent': dict(df.set_index('Name')['Continent'])\n",
    "    }"
   ]
  },
  {
   "cell_type": "code",
   "execution_count": 5,
   "id": "intimate-machinery",
   "metadata": {
    "execution": {
     "iopub.execute_input": "2021-02-05T12:06:54.082058Z",
     "iopub.status.busy": "2021-02-05T12:06:54.081505Z",
     "iopub.status.idle": "2021-02-05T12:06:54.107642Z",
     "shell.execute_reply": "2021-02-05T12:06:54.108117Z"
    },
    "papermill": {
     "duration": 0.065187,
     "end_time": "2021-02-05T12:06:54.108307",
     "exception": false,
     "start_time": "2021-02-05T12:06:54.043120",
     "status": "completed"
    },
    "tags": []
   },
   "outputs": [],
   "source": [
    "#hide\n",
    "mapping = get_mappings(paths['mapping'])"
   ]
  },
  {
   "cell_type": "code",
   "execution_count": 6,
   "id": "certified-tactics",
   "metadata": {
    "execution": {
     "iopub.execute_input": "2021-02-05T12:06:54.181468Z",
     "iopub.status.busy": "2021-02-05T12:06:54.180886Z",
     "iopub.status.idle": "2021-02-05T12:06:54.182995Z",
     "shell.execute_reply": "2021-02-05T12:06:54.183493Z"
    },
    "papermill": {
     "duration": 0.04062,
     "end_time": "2021-02-05T12:06:54.183626",
     "exception": false,
     "start_time": "2021-02-05T12:06:54.143006",
     "status": "completed"
    },
    "tags": []
   },
   "outputs": [],
   "source": [
    "#hide\n",
    "def get_template(path):\n",
    "    from urllib.parse import urlparse\n",
    "    if bool(urlparse(path).netloc):\n",
    "        from urllib.request import urlopen\n",
    "        return urlopen(path).read().decode('utf8')\n",
    "    return open(path).read()"
   ]
  },
  {
   "cell_type": "code",
   "execution_count": 7,
   "id": "realistic-blast",
   "metadata": {
    "execution": {
     "iopub.execute_input": "2021-02-05T12:06:54.259844Z",
     "iopub.status.busy": "2021-02-05T12:06:54.259253Z",
     "iopub.status.idle": "2021-02-05T12:06:54.261782Z",
     "shell.execute_reply": "2021-02-05T12:06:54.261274Z"
    },
    "papermill": {
     "duration": 0.042748,
     "end_time": "2021-02-05T12:06:54.261896",
     "exception": false,
     "start_time": "2021-02-05T12:06:54.219148",
     "status": "completed"
    },
    "tags": []
   },
   "outputs": [],
   "source": [
    "#hide\n",
    "def get_frame(name):\n",
    "    url = (\n",
    "        'https://raw.githubusercontent.com/CSSEGISandData/COVID-19/master/csse_covid_19_data/'\n",
    "        f'csse_covid_19_time_series/time_series_covid19_{name}_global.csv')\n",
    "    df = pd.read_csv(url)\n",
    "    # rename countries\n",
    "    df['Country/Region'] = df['Country/Region'].replace(mapping['replace.country'])\n",
    "    return df"
   ]
  },
  {
   "cell_type": "code",
   "execution_count": 8,
   "id": "affiliated-characterization",
   "metadata": {
    "execution": {
     "iopub.execute_input": "2021-02-05T12:06:54.329823Z",
     "iopub.status.busy": "2021-02-05T12:06:54.329269Z",
     "iopub.status.idle": "2021-02-05T12:06:54.331661Z",
     "shell.execute_reply": "2021-02-05T12:06:54.331215Z"
    },
    "papermill": {
     "duration": 0.038441,
     "end_time": "2021-02-05T12:06:54.331771",
     "exception": false,
     "start_time": "2021-02-05T12:06:54.293330",
     "status": "completed"
    },
    "tags": []
   },
   "outputs": [],
   "source": [
    "#hide\n",
    "def get_dates(df):\n",
    "    dt_cols = df.columns[~df.columns.isin(['Province/State', 'Country/Region', 'Lat', 'Long'])]\n",
    "    LAST_DATE_I = -1\n",
    "    # sometimes last column may be empty, then go backwards\n",
    "    for i in range(-1, -len(dt_cols), -1):\n",
    "        if not df[dt_cols[i]].fillna(0).eq(0).all():\n",
    "            LAST_DATE_I = i\n",
    "            break\n",
    "    return LAST_DATE_I, dt_cols"
   ]
  },
  {
   "cell_type": "code",
   "execution_count": 9,
   "id": "recent-optimization",
   "metadata": {
    "execution": {
     "iopub.execute_input": "2021-02-05T12:06:54.405725Z",
     "iopub.status.busy": "2021-02-05T12:06:54.405105Z",
     "iopub.status.idle": "2021-02-05T12:06:54.646824Z",
     "shell.execute_reply": "2021-02-05T12:06:54.646296Z"
    },
    "papermill": {
     "duration": 0.281488,
     "end_time": "2021-02-05T12:06:54.646979",
     "exception": false,
     "start_time": "2021-02-05T12:06:54.365491",
     "status": "completed"
    },
    "tags": []
   },
   "outputs": [],
   "source": [
    "#hide\n",
    "COL_REGION = 'Country/Region'\n",
    "# Confirmed, Recovered, Deaths\n",
    "df = get_frame('confirmed')\n",
    "# dft_: timeseries, dfc_: today country agg\n",
    "dft_cases = df\n",
    "dft_deaths = get_frame('deaths')\n",
    "dft_recovered = get_frame('recovered')\n",
    "LAST_DATE_I, dt_cols = get_dates(df)"
   ]
  },
  {
   "cell_type": "code",
   "execution_count": 10,
   "id": "absolute-copper",
   "metadata": {
    "execution": {
     "iopub.execute_input": "2021-02-05T12:06:54.717119Z",
     "iopub.status.busy": "2021-02-05T12:06:54.716442Z",
     "iopub.status.idle": "2021-02-05T12:06:54.719227Z",
     "shell.execute_reply": "2021-02-05T12:06:54.718685Z"
    },
    "papermill": {
     "duration": 0.040307,
     "end_time": "2021-02-05T12:06:54.719358",
     "exception": false,
     "start_time": "2021-02-05T12:06:54.679051",
     "status": "completed"
    },
    "tags": []
   },
   "outputs": [],
   "source": [
    "#hide\n",
    "LAST_DATE_I, dt_cols = get_dates(df)\n",
    "dt_today =dt_cols[LAST_DATE_I]\n",
    "# dt_5day = dt_cols[LAST_DATE_I - 5]\n",
    "dt_yday = dt_cols[LAST_DATE_I - 1]"
   ]
  },
  {
   "cell_type": "code",
   "execution_count": 11,
   "id": "restricted-sheriff",
   "metadata": {
    "execution": {
     "iopub.execute_input": "2021-02-05T12:06:54.790087Z",
     "iopub.status.busy": "2021-02-05T12:06:54.789397Z",
     "iopub.status.idle": "2021-02-05T12:06:54.799256Z",
     "shell.execute_reply": "2021-02-05T12:06:54.798708Z"
    },
    "papermill": {
     "duration": 0.04839,
     "end_time": "2021-02-05T12:06:54.799375",
     "exception": false,
     "start_time": "2021-02-05T12:06:54.750985",
     "status": "completed"
    },
    "tags": []
   },
   "outputs": [],
   "source": [
    "#hide\n",
    "dfc_cases = dft_cases.groupby(COL_REGION)[dt_today].sum()\n",
    "dfc_deaths = dft_deaths.groupby(COL_REGION)[dt_today].sum()\n",
    "# dfp_cases = dft_cases.groupby(COL_REGION)[dt_5day].sum()\n",
    "# dfp_deaths = dft_deaths.groupby(COL_REGION)[dt_5day].sum()\n",
    "dfp_cases = dft_cases.groupby(COL_REGION)[dt_yday].sum()\n",
    "dfp_deaths = dft_deaths.groupby(COL_REGION)[dt_yday].sum()"
   ]
  },
  {
   "cell_type": "code",
   "execution_count": 12,
   "id": "deluxe-hepatitis",
   "metadata": {
    "execution": {
     "iopub.execute_input": "2021-02-05T12:06:54.868792Z",
     "iopub.status.busy": "2021-02-05T12:06:54.868198Z",
     "iopub.status.idle": "2021-02-05T12:06:54.874724Z",
     "shell.execute_reply": "2021-02-05T12:06:54.874237Z"
    },
    "papermill": {
     "duration": 0.043096,
     "end_time": "2021-02-05T12:06:54.874843",
     "exception": false,
     "start_time": "2021-02-05T12:06:54.831747",
     "status": "completed"
    },
    "tags": []
   },
   "outputs": [],
   "source": [
    "#hide\n",
    "df_table = (pd.DataFrame(dict(Cases = dfc_cases, Deaths = dfc_deaths, PCases = dfp_cases, PDeaths = dfp_deaths))\n",
    "            .sort_values(by = ['Cases','Deaths'], ascending = [False, False])\n",
    "            .reset_index())"
   ]
  },
  {
   "cell_type": "code",
   "execution_count": 13,
   "id": "educational-chancellor",
   "metadata": {
    "execution": {
     "iopub.execute_input": "2021-02-05T12:06:54.957349Z",
     "iopub.status.busy": "2021-02-05T12:06:54.952702Z",
     "iopub.status.idle": "2021-02-05T12:06:54.965372Z",
     "shell.execute_reply": "2021-02-05T12:06:54.964832Z"
    },
    "papermill": {
     "duration": 0.057282,
     "end_time": "2021-02-05T12:06:54.965492",
     "exception": false,
     "start_time": "2021-02-05T12:06:54.908210",
     "status": "completed"
    },
    "tags": []
   },
   "outputs": [
    {
     "data": {
      "text/html": [
       "<div>\n",
       "<style scoped>\n",
       "    .dataframe tbody tr th:only-of-type {\n",
       "        vertical-align: middle;\n",
       "    }\n",
       "\n",
       "    .dataframe tbody tr th {\n",
       "        vertical-align: top;\n",
       "    }\n",
       "\n",
       "    .dataframe thead th {\n",
       "        text-align: right;\n",
       "    }\n",
       "</style>\n",
       "<table border=\"1\" class=\"dataframe\">\n",
       "  <thead>\n",
       "    <tr style=\"text-align: right;\">\n",
       "      <th></th>\n",
       "      <th>Country/Region</th>\n",
       "      <th>Cases</th>\n",
       "      <th>Deaths</th>\n",
       "      <th>PCases</th>\n",
       "      <th>PDeaths</th>\n",
       "      <th>Cases (+)</th>\n",
       "      <th>Deaths (+)</th>\n",
       "      <th>Fatality Rate</th>\n",
       "      <th>Continent</th>\n",
       "    </tr>\n",
       "  </thead>\n",
       "  <tbody>\n",
       "    <tr>\n",
       "      <th>0</th>\n",
       "      <td>US</td>\n",
       "      <td>26679499</td>\n",
       "      <td>455874</td>\n",
       "      <td>26557026</td>\n",
       "      <td>450797</td>\n",
       "      <td>122473</td>\n",
       "      <td>5077</td>\n",
       "      <td>1.71</td>\n",
       "      <td>North America</td>\n",
       "    </tr>\n",
       "    <tr>\n",
       "      <th>1</th>\n",
       "      <td>India</td>\n",
       "      <td>10802591</td>\n",
       "      <td>154823</td>\n",
       "      <td>10790183</td>\n",
       "      <td>154703</td>\n",
       "      <td>12408</td>\n",
       "      <td>120</td>\n",
       "      <td>1.43</td>\n",
       "      <td>Asia</td>\n",
       "    </tr>\n",
       "    <tr>\n",
       "      <th>2</th>\n",
       "      <td>Brazil</td>\n",
       "      <td>9396293</td>\n",
       "      <td>228795</td>\n",
       "      <td>9339420</td>\n",
       "      <td>227563</td>\n",
       "      <td>56873</td>\n",
       "      <td>1232</td>\n",
       "      <td>2.43</td>\n",
       "      <td>South America</td>\n",
       "    </tr>\n",
       "    <tr>\n",
       "      <th>3</th>\n",
       "      <td>United Kingdom</td>\n",
       "      <td>3903706</td>\n",
       "      <td>110462</td>\n",
       "      <td>3882972</td>\n",
       "      <td>109547</td>\n",
       "      <td>20734</td>\n",
       "      <td>915</td>\n",
       "      <td>2.83</td>\n",
       "      <td>Europe</td>\n",
       "    </tr>\n",
       "    <tr>\n",
       "      <th>4</th>\n",
       "      <td>Russia</td>\n",
       "      <td>3874830</td>\n",
       "      <td>74005</td>\n",
       "      <td>3858367</td>\n",
       "      <td>73497</td>\n",
       "      <td>16463</td>\n",
       "      <td>508</td>\n",
       "      <td>1.91</td>\n",
       "      <td>Europe</td>\n",
       "    </tr>\n",
       "  </tbody>\n",
       "</table>\n",
       "</div>"
      ],
      "text/plain": [
       "   Country/Region     Cases  Deaths    PCases  PDeaths  Cases (+)  Deaths (+)  \\\n",
       "0              US  26679499  455874  26557026   450797     122473        5077   \n",
       "1           India  10802591  154823  10790183   154703      12408         120   \n",
       "2          Brazil   9396293  228795   9339420   227563      56873        1232   \n",
       "3  United Kingdom   3903706  110462   3882972   109547      20734         915   \n",
       "4          Russia   3874830   74005   3858367    73497      16463         508   \n",
       "\n",
       "   Fatality Rate      Continent  \n",
       "0           1.71  North America  \n",
       "1           1.43           Asia  \n",
       "2           2.43  South America  \n",
       "3           2.83         Europe  \n",
       "4           1.91         Europe  "
      ]
     },
     "execution_count": 13,
     "metadata": {},
     "output_type": "execute_result"
    }
   ],
   "source": [
    "#hide\n",
    "for c in 'Cases, Deaths'.split(', '):\n",
    "    df_table[f'{c} (+)'] = (df_table[c] - df_table[f'P{c}']).clip(0)\n",
    "    #Clip ça veut dire, les chiffres negatif sont interdit\n",
    "df_table['Fatality Rate'] = (100* df_table['Deaths']/ df_table['Cases']).round(2)\n",
    "df_table['Continent'] = df_table['Country/Region'].map(mapping['map.continent'])\n",
    "df_table.head(5)"
   ]
  },
  {
   "cell_type": "code",
   "execution_count": 14,
   "id": "aboriginal-bulgaria",
   "metadata": {
    "execution": {
     "iopub.execute_input": "2021-02-05T12:06:55.040135Z",
     "iopub.status.busy": "2021-02-05T12:06:55.039455Z",
     "iopub.status.idle": "2021-02-05T12:06:55.041979Z",
     "shell.execute_reply": "2021-02-05T12:06:55.042493Z"
    },
    "papermill": {
     "duration": 0.039402,
     "end_time": "2021-02-05T12:06:55.042616",
     "exception": false,
     "start_time": "2021-02-05T12:06:55.003214",
     "status": "completed"
    },
    "tags": []
   },
   "outputs": [],
   "source": [
    "#hide\n",
    "#delete problematic countries from table\n",
    "df_table = df_table[~df_table['Country/Region'].isin(['Cape Verde', 'Cruise Ship', 'Kosovo'])]"
   ]
  },
  {
   "cell_type": "code",
   "execution_count": 15,
   "id": "fantastic-effect",
   "metadata": {
    "execution": {
     "iopub.execute_input": "2021-02-05T12:06:55.111325Z",
     "iopub.status.busy": "2021-02-05T12:06:55.110762Z",
     "iopub.status.idle": "2021-02-05T12:06:55.130493Z",
     "shell.execute_reply": "2021-02-05T12:06:55.130035Z"
    },
    "papermill": {
     "duration": 0.056009,
     "end_time": "2021-02-05T12:06:55.130602",
     "exception": false,
     "start_time": "2021-02-05T12:06:55.074593",
     "status": "completed"
    },
    "tags": []
   },
   "outputs": [
    {
     "data": {
      "text/html": [
       "<div>\n",
       "<style scoped>\n",
       "    .dataframe tbody tr th:only-of-type {\n",
       "        vertical-align: middle;\n",
       "    }\n",
       "\n",
       "    .dataframe tbody tr th {\n",
       "        vertical-align: top;\n",
       "    }\n",
       "\n",
       "    .dataframe thead th {\n",
       "        text-align: right;\n",
       "    }\n",
       "</style>\n",
       "<table border=\"1\" class=\"dataframe\">\n",
       "  <thead>\n",
       "    <tr style=\"text-align: right;\">\n",
       "      <th></th>\n",
       "      <th>Country/Region</th>\n",
       "      <th>Cases</th>\n",
       "      <th>Deaths</th>\n",
       "      <th>PCases</th>\n",
       "      <th>PDeaths</th>\n",
       "      <th>Cases (+)</th>\n",
       "      <th>Deaths (+)</th>\n",
       "      <th>Fatality Rate</th>\n",
       "      <th>Continent</th>\n",
       "    </tr>\n",
       "  </thead>\n",
       "  <tbody>\n",
       "    <tr>\n",
       "      <th>0</th>\n",
       "      <td>US</td>\n",
       "      <td>26679499</td>\n",
       "      <td>455874</td>\n",
       "      <td>26557026</td>\n",
       "      <td>450797</td>\n",
       "      <td>122473</td>\n",
       "      <td>5077</td>\n",
       "      <td>1.7</td>\n",
       "      <td>North America</td>\n",
       "    </tr>\n",
       "    <tr>\n",
       "      <th>1</th>\n",
       "      <td>India</td>\n",
       "      <td>10802591</td>\n",
       "      <td>154823</td>\n",
       "      <td>10790183</td>\n",
       "      <td>154703</td>\n",
       "      <td>12408</td>\n",
       "      <td>120</td>\n",
       "      <td>1.4</td>\n",
       "      <td>Asia</td>\n",
       "    </tr>\n",
       "    <tr>\n",
       "      <th>2</th>\n",
       "      <td>Brazil</td>\n",
       "      <td>9396293</td>\n",
       "      <td>228795</td>\n",
       "      <td>9339420</td>\n",
       "      <td>227563</td>\n",
       "      <td>56873</td>\n",
       "      <td>1232</td>\n",
       "      <td>2.4</td>\n",
       "      <td>South America</td>\n",
       "    </tr>\n",
       "    <tr>\n",
       "      <th>3</th>\n",
       "      <td>United Kingdom</td>\n",
       "      <td>3903706</td>\n",
       "      <td>110462</td>\n",
       "      <td>3882972</td>\n",
       "      <td>109547</td>\n",
       "      <td>20734</td>\n",
       "      <td>915</td>\n",
       "      <td>2.8</td>\n",
       "      <td>Europe</td>\n",
       "    </tr>\n",
       "    <tr>\n",
       "      <th>4</th>\n",
       "      <td>Russia</td>\n",
       "      <td>3874830</td>\n",
       "      <td>74005</td>\n",
       "      <td>3858367</td>\n",
       "      <td>73497</td>\n",
       "      <td>16463</td>\n",
       "      <td>508</td>\n",
       "      <td>1.9</td>\n",
       "      <td>Europe</td>\n",
       "    </tr>\n",
       "  </tbody>\n",
       "</table>\n",
       "</div>"
      ],
      "text/plain": [
       "   Country/Region     Cases  Deaths    PCases  PDeaths  Cases (+)  Deaths (+)  \\\n",
       "0              US  26679499  455874  26557026   450797     122473        5077   \n",
       "1           India  10802591  154823  10790183   154703      12408         120   \n",
       "2          Brazil   9396293  228795   9339420   227563      56873        1232   \n",
       "3  United Kingdom   3903706  110462   3882972   109547      20734         915   \n",
       "4          Russia   3874830   74005   3858367    73497      16463         508   \n",
       "\n",
       "   Fatality Rate      Continent  \n",
       "0            1.7  North America  \n",
       "1            1.4           Asia  \n",
       "2            2.4  South America  \n",
       "3            2.8         Europe  \n",
       "4            1.9         Europe  "
      ]
     },
     "execution_count": 15,
     "metadata": {},
     "output_type": "execute_result"
    }
   ],
   "source": [
    "#hide\n",
    "df_table = (pd.DataFrame(dict(Cases=dfc_cases, Deaths=dfc_deaths, PCases=dfp_cases, PDeaths=dfp_deaths))\n",
    "             .sort_values(by=['Cases', 'Deaths'], ascending=[False, False])\n",
    "             .reset_index())\n",
    "df_table.rename(columns={'index': 'Country/Region'}, inplace=True)\n",
    "for c in 'Cases, Deaths'.split(', '):\n",
    "    df_table[f'{c} (+)'] = (df_table[c] - df_table[f'P{c}']).clip(0)  # DATA BUG\n",
    "df_table['Fatality Rate'] = (100 * df_table['Deaths'] / df_table['Cases']).round(1)\n",
    "df_table['Continent'] = df_table['Country/Region'].map(mapping['map.continent'])\n",
    "df_table.head(5)"
   ]
  },
  {
   "cell_type": "code",
   "execution_count": 16,
   "id": "fewer-occasion",
   "metadata": {
    "execution": {
     "iopub.execute_input": "2021-02-05T12:06:55.199333Z",
     "iopub.status.busy": "2021-02-05T12:06:55.198734Z",
     "iopub.status.idle": "2021-02-05T12:06:55.201813Z",
     "shell.execute_reply": "2021-02-05T12:06:55.201358Z"
    },
    "papermill": {
     "duration": 0.03979,
     "end_time": "2021-02-05T12:06:55.201919",
     "exception": false,
     "start_time": "2021-02-05T12:06:55.162129",
     "status": "completed"
    },
    "tags": []
   },
   "outputs": [],
   "source": [
    "#hide\n",
    "#delete problematic countries from table\n",
    "df_table = df_table[~df_table['Country/Region'].isin(['Cape Verde', 'Cruise Ship', 'Kosovo'])]"
   ]
  },
  {
   "cell_type": "code",
   "execution_count": 17,
   "id": "related-center",
   "metadata": {
    "execution": {
     "iopub.execute_input": "2021-02-05T12:06:55.275346Z",
     "iopub.status.busy": "2021-02-05T12:06:55.274764Z",
     "iopub.status.idle": "2021-02-05T12:06:55.289665Z",
     "shell.execute_reply": "2021-02-05T12:06:55.290148Z"
    },
    "papermill": {
     "duration": 0.05512,
     "end_time": "2021-02-05T12:06:55.290276",
     "exception": false,
     "start_time": "2021-02-05T12:06:55.235156",
     "status": "completed"
    },
    "tags": []
   },
   "outputs": [],
   "source": [
    "#hide\n",
    "metrics = [df_table.columns[index] for index in [1,2,5,6]]\n",
    "# s_china = df_table[df_table['Country/Region'].eq('China')][metrics].sum().add_prefix('China ')\n",
    "s_us = df_table[df_table['Country/Region'].eq('US')][metrics].sum().add_prefix('US ')\n",
    "s_eu = df_table[df_table['Continent'].eq('Europe')][metrics].sum().add_prefix('EU ')\n",
    "s_ind = df_table[df_table['Country/Region'].eq('India')][metrics].sum().add_prefix('India ')\n",
    "summary = {'updated': pd.to_datetime(dt_today), 'since': pd.to_datetime(dt_yday)}\n",
    "summary = {'updated': pd.to_datetime(dt_today), 'since': pd.to_datetime(dt_yday)}\n",
    "summary = {**summary, **df_table[metrics].sum(), **s_ind, **s_us, **s_eu}"
   ]
  },
  {
   "cell_type": "code",
   "execution_count": 18,
   "id": "engaging-syndrome",
   "metadata": {
    "execution": {
     "iopub.execute_input": "2021-02-05T12:06:55.366566Z",
     "iopub.status.busy": "2021-02-05T12:06:55.365915Z",
     "iopub.status.idle": "2021-02-05T12:06:55.374827Z",
     "shell.execute_reply": "2021-02-05T12:06:55.374356Z"
    },
    "papermill": {
     "duration": 0.050003,
     "end_time": "2021-02-05T12:06:55.374992",
     "exception": false,
     "start_time": "2021-02-05T12:06:55.324989",
     "status": "completed"
    },
    "tags": []
   },
   "outputs": [],
   "source": [
    "#hide\n",
    "dft_ct_new_cases = dft_cases.groupby(COL_REGION)[dt_cols].sum().diff(axis=1).fillna(0).astype(int)"
   ]
  },
  {
   "cell_type": "code",
   "execution_count": 19,
   "id": "neutral-assignment",
   "metadata": {
    "execution": {
     "iopub.execute_input": "2021-02-05T12:06:55.450546Z",
     "iopub.status.busy": "2021-02-05T12:06:55.450011Z",
     "iopub.status.idle": "2021-02-05T12:06:55.452309Z",
     "shell.execute_reply": "2021-02-05T12:06:55.451844Z"
    },
    "papermill": {
     "duration": 0.041777,
     "end_time": "2021-02-05T12:06:55.452415",
     "exception": false,
     "start_time": "2021-02-05T12:06:55.410638",
     "status": "completed"
    },
    "tags": []
   },
   "outputs": [],
   "source": [
    "#hide\n",
    "everydaycases = dft_ct_new_cases.cumsum(axis=1)"
   ]
  },
  {
   "cell_type": "code",
   "execution_count": 20,
   "id": "parliamentary-calgary",
   "metadata": {
    "execution": {
     "iopub.execute_input": "2021-02-05T12:06:55.518382Z",
     "iopub.status.busy": "2021-02-05T12:06:55.517812Z",
     "iopub.status.idle": "2021-02-05T12:06:57.019490Z",
     "shell.execute_reply": "2021-02-05T12:06:57.018924Z"
    },
    "papermill": {
     "duration": 1.535847,
     "end_time": "2021-02-05T12:06:57.019626",
     "exception": false,
     "start_time": "2021-02-05T12:06:55.483779",
     "status": "completed"
    },
    "tags": []
   },
   "outputs": [],
   "source": [
    "#hide\n",
    "import pandas as pd\n",
    "import matplotlib.pyplot as plt\n",
    "import matplotlib.ticker as ticker\n",
    "import matplotlib.animation as animation\n",
    "from IPython.display import HTML"
   ]
  },
  {
   "cell_type": "code",
   "execution_count": 21,
   "id": "lasting-extraction",
   "metadata": {
    "execution": {
     "iopub.execute_input": "2021-02-05T12:06:57.088559Z",
     "iopub.status.busy": "2021-02-05T12:06:57.087792Z",
     "iopub.status.idle": "2021-02-05T12:06:57.092997Z",
     "shell.execute_reply": "2021-02-05T12:06:57.092508Z"
    },
    "papermill": {
     "duration": 0.041692,
     "end_time": "2021-02-05T12:06:57.093107",
     "exception": false,
     "start_time": "2021-02-05T12:06:57.051415",
     "status": "completed"
    },
    "tags": []
   },
   "outputs": [],
   "source": [
    "#hide\n",
    "t = everydaycases.stack()"
   ]
  },
  {
   "cell_type": "code",
   "execution_count": 22,
   "id": "premier-sleeve",
   "metadata": {
    "execution": {
     "iopub.execute_input": "2021-02-05T12:06:57.162463Z",
     "iopub.status.busy": "2021-02-05T12:06:57.161901Z",
     "iopub.status.idle": "2021-02-05T12:06:57.168558Z",
     "shell.execute_reply": "2021-02-05T12:06:57.168054Z"
    },
    "papermill": {
     "duration": 0.041713,
     "end_time": "2021-02-05T12:06:57.168687",
     "exception": false,
     "start_time": "2021-02-05T12:06:57.126974",
     "status": "completed"
    },
    "tags": []
   },
   "outputs": [],
   "source": [
    "#hide\n",
    "g = t.reset_index(['Country/Region'])"
   ]
  },
  {
   "cell_type": "code",
   "execution_count": 23,
   "id": "distributed-pittsburgh",
   "metadata": {
    "execution": {
     "iopub.execute_input": "2021-02-05T12:06:57.238702Z",
     "iopub.status.busy": "2021-02-05T12:06:57.238106Z",
     "iopub.status.idle": "2021-02-05T12:06:57.240396Z",
     "shell.execute_reply": "2021-02-05T12:06:57.239928Z"
    },
    "papermill": {
     "duration": 0.038205,
     "end_time": "2021-02-05T12:06:57.240506",
     "exception": false,
     "start_time": "2021-02-05T12:06:57.202301",
     "status": "completed"
    },
    "tags": []
   },
   "outputs": [],
   "source": [
    "#hide\n",
    "g.index.name = 'date'"
   ]
  },
  {
   "cell_type": "code",
   "execution_count": 24,
   "id": "naked-donor",
   "metadata": {
    "execution": {
     "iopub.execute_input": "2021-02-05T12:06:57.309878Z",
     "iopub.status.busy": "2021-02-05T12:06:57.309310Z",
     "iopub.status.idle": "2021-02-05T12:06:57.311699Z",
     "shell.execute_reply": "2021-02-05T12:06:57.311229Z"
    },
    "papermill": {
     "duration": 0.038882,
     "end_time": "2021-02-05T12:06:57.311828",
     "exception": false,
     "start_time": "2021-02-05T12:06:57.272946",
     "status": "completed"
    },
    "tags": []
   },
   "outputs": [],
   "source": [
    "# #hide\n",
    "# g = g.reset_index(['date'])"
   ]
  },
  {
   "cell_type": "code",
   "execution_count": 25,
   "id": "incomplete-mustang",
   "metadata": {
    "execution": {
     "iopub.execute_input": "2021-02-05T12:06:57.381263Z",
     "iopub.status.busy": "2021-02-05T12:06:57.380690Z",
     "iopub.status.idle": "2021-02-05T12:06:57.382948Z",
     "shell.execute_reply": "2021-02-05T12:06:57.382445Z"
    },
    "papermill": {
     "duration": 0.03781,
     "end_time": "2021-02-05T12:06:57.383074",
     "exception": false,
     "start_time": "2021-02-05T12:06:57.345264",
     "status": "completed"
    },
    "tags": []
   },
   "outputs": [],
   "source": [
    "#hide\n",
    "# g.head()"
   ]
  },
  {
   "cell_type": "code",
   "execution_count": 26,
   "id": "specific-kruger",
   "metadata": {
    "execution": {
     "iopub.execute_input": "2021-02-05T12:06:57.469117Z",
     "iopub.status.busy": "2021-02-05T12:06:57.468505Z",
     "iopub.status.idle": "2021-02-05T12:06:57.470749Z",
     "shell.execute_reply": "2021-02-05T12:06:57.471506Z"
    },
    "papermill": {
     "duration": 0.044313,
     "end_time": "2021-02-05T12:06:57.471708",
     "exception": false,
     "start_time": "2021-02-05T12:06:57.427395",
     "status": "completed"
    },
    "tags": []
   },
   "outputs": [],
   "source": [
    "#hide\n",
    "# g.columns = ['date','country','cases']"
   ]
  },
  {
   "cell_type": "code",
   "execution_count": 27,
   "id": "tender-conversion",
   "metadata": {
    "execution": {
     "iopub.execute_input": "2021-02-05T12:06:57.545862Z",
     "iopub.status.busy": "2021-02-05T12:06:57.545295Z",
     "iopub.status.idle": "2021-02-05T12:06:57.547578Z",
     "shell.execute_reply": "2021-02-05T12:06:57.547073Z"
    },
    "papermill": {
     "duration": 0.040358,
     "end_time": "2021-02-05T12:06:57.547698",
     "exception": false,
     "start_time": "2021-02-05T12:06:57.507340",
     "status": "completed"
    },
    "tags": []
   },
   "outputs": [],
   "source": [
    "#hide\n",
    "# g['continent'] = g.country"
   ]
  },
  {
   "cell_type": "code",
   "execution_count": 28,
   "id": "substantial-wilderness",
   "metadata": {
    "execution": {
     "iopub.execute_input": "2021-02-05T12:06:57.620710Z",
     "iopub.status.busy": "2021-02-05T12:06:57.620034Z",
     "iopub.status.idle": "2021-02-05T12:06:57.622062Z",
     "shell.execute_reply": "2021-02-05T12:06:57.622567Z"
    },
    "papermill": {
     "duration": 0.042521,
     "end_time": "2021-02-05T12:06:57.622714",
     "exception": false,
     "start_time": "2021-02-05T12:06:57.580193",
     "status": "completed"
    },
    "tags": []
   },
   "outputs": [],
   "source": [
    "#hide\n",
    "# cols = list(g.columns.values)"
   ]
  },
  {
   "cell_type": "code",
   "execution_count": 29,
   "id": "solved-farming",
   "metadata": {
    "execution": {
     "iopub.execute_input": "2021-02-05T12:06:57.692070Z",
     "iopub.status.busy": "2021-02-05T12:06:57.691514Z",
     "iopub.status.idle": "2021-02-05T12:06:57.693344Z",
     "shell.execute_reply": "2021-02-05T12:06:57.693811Z"
    },
    "papermill": {
     "duration": 0.037501,
     "end_time": "2021-02-05T12:06:57.693963",
     "exception": false,
     "start_time": "2021-02-05T12:06:57.656462",
     "status": "completed"
    },
    "tags": []
   },
   "outputs": [],
   "source": [
    "#hide\n",
    "# cols.insert(0, cols.pop())"
   ]
  },
  {
   "cell_type": "code",
   "execution_count": 30,
   "id": "executed-adoption",
   "metadata": {
    "execution": {
     "iopub.execute_input": "2021-02-05T12:06:57.765066Z",
     "iopub.status.busy": "2021-02-05T12:06:57.764466Z",
     "iopub.status.idle": "2021-02-05T12:06:57.766344Z",
     "shell.execute_reply": "2021-02-05T12:06:57.766931Z"
    },
    "papermill": {
     "duration": 0.03949,
     "end_time": "2021-02-05T12:06:57.767072",
     "exception": false,
     "start_time": "2021-02-05T12:06:57.727582",
     "status": "completed"
    },
    "tags": []
   },
   "outputs": [],
   "source": [
    "#hide\n",
    "# g = g[cols]"
   ]
  },
  {
   "cell_type": "code",
   "execution_count": 31,
   "id": "subject-dublin",
   "metadata": {
    "execution": {
     "iopub.execute_input": "2021-02-05T12:06:57.851312Z",
     "iopub.status.busy": "2021-02-05T12:06:57.850659Z",
     "iopub.status.idle": "2021-02-05T12:06:57.852983Z",
     "shell.execute_reply": "2021-02-05T12:06:57.852390Z"
    },
    "papermill": {
     "duration": 0.053266,
     "end_time": "2021-02-05T12:06:57.853112",
     "exception": false,
     "start_time": "2021-02-05T12:06:57.799846",
     "status": "completed"
    },
    "tags": []
   },
   "outputs": [],
   "source": [
    "#hide\n",
    "# g['continent'] = g['continent'].map(mapping['map.continent'])"
   ]
  },
  {
   "cell_type": "code",
   "execution_count": 32,
   "id": "freelance-scout",
   "metadata": {
    "execution": {
     "iopub.execute_input": "2021-02-05T12:06:57.936872Z",
     "iopub.status.busy": "2021-02-05T12:06:57.936050Z",
     "iopub.status.idle": "2021-02-05T12:06:57.940385Z",
     "shell.execute_reply": "2021-02-05T12:06:57.939734Z"
    },
    "papermill": {
     "duration": 0.047502,
     "end_time": "2021-02-05T12:06:57.940545",
     "exception": false,
     "start_time": "2021-02-05T12:06:57.893043",
     "status": "completed"
    },
    "tags": []
   },
   "outputs": [],
   "source": [
    "#hide\n",
    "# g.head()"
   ]
  },
  {
   "cell_type": "code",
   "execution_count": 33,
   "id": "limited-engine",
   "metadata": {
    "execution": {
     "iopub.execute_input": "2021-02-05T12:06:58.018063Z",
     "iopub.status.busy": "2021-02-05T12:06:58.017420Z",
     "iopub.status.idle": "2021-02-05T12:06:58.019705Z",
     "shell.execute_reply": "2021-02-05T12:06:58.020148Z"
    },
    "papermill": {
     "duration": 0.041674,
     "end_time": "2021-02-05T12:06:58.020321",
     "exception": false,
     "start_time": "2021-02-05T12:06:57.978647",
     "status": "completed"
    },
    "tags": []
   },
   "outputs": [],
   "source": [
    "# hide\n",
    "# g['date'] = g['date'].astype('datetime64[ns]')"
   ]
  },
  {
   "cell_type": "code",
   "execution_count": 34,
   "id": "sophisticated-supervisor",
   "metadata": {
    "execution": {
     "iopub.execute_input": "2021-02-05T12:06:58.090891Z",
     "iopub.status.busy": "2021-02-05T12:06:58.090291Z",
     "iopub.status.idle": "2021-02-05T12:06:58.092171Z",
     "shell.execute_reply": "2021-02-05T12:06:58.092759Z"
    },
    "papermill": {
     "duration": 0.038561,
     "end_time": "2021-02-05T12:06:58.092880",
     "exception": false,
     "start_time": "2021-02-05T12:06:58.054319",
     "status": "completed"
    },
    "tags": []
   },
   "outputs": [],
   "source": [
    "#hide\n",
    "# g['date'] = g.date.dt.dayofyear"
   ]
  },
  {
   "cell_type": "code",
   "execution_count": 35,
   "id": "inside-dubai",
   "metadata": {
    "execution": {
     "iopub.execute_input": "2021-02-05T12:06:58.162119Z",
     "iopub.status.busy": "2021-02-05T12:06:58.161541Z",
     "iopub.status.idle": "2021-02-05T12:06:58.163851Z",
     "shell.execute_reply": "2021-02-05T12:06:58.163335Z"
    },
    "papermill": {
     "duration": 0.038585,
     "end_time": "2021-02-05T12:06:58.163967",
     "exception": false,
     "start_time": "2021-02-05T12:06:58.125382",
     "status": "completed"
    },
    "tags": []
   },
   "outputs": [],
   "source": [
    "#hide\n",
    "# g = g.rename(columns= {'continent':'group','country':'name','cases':'value'})"
   ]
  },
  {
   "cell_type": "code",
   "execution_count": 36,
   "id": "fleet-motorcycle",
   "metadata": {
    "execution": {
     "iopub.execute_input": "2021-02-05T12:06:58.236578Z",
     "iopub.status.busy": "2021-02-05T12:06:58.235959Z",
     "iopub.status.idle": "2021-02-05T12:06:58.238378Z",
     "shell.execute_reply": "2021-02-05T12:06:58.237882Z"
    },
    "papermill": {
     "duration": 0.040385,
     "end_time": "2021-02-05T12:06:58.238499",
     "exception": false,
     "start_time": "2021-02-05T12:06:58.198114",
     "status": "completed"
    },
    "tags": []
   },
   "outputs": [],
   "source": [
    "#hide\n",
    "# cols = ['name','group','day','value']"
   ]
  },
  {
   "cell_type": "code",
   "execution_count": 37,
   "id": "continued-sleeping",
   "metadata": {
    "execution": {
     "iopub.execute_input": "2021-02-05T12:06:58.309576Z",
     "iopub.status.busy": "2021-02-05T12:06:58.308970Z",
     "iopub.status.idle": "2021-02-05T12:06:58.310897Z",
     "shell.execute_reply": "2021-02-05T12:06:58.311362Z"
    },
    "papermill": {
     "duration": 0.038229,
     "end_time": "2021-02-05T12:06:58.311539",
     "exception": false,
     "start_time": "2021-02-05T12:06:58.273310",
     "status": "completed"
    },
    "tags": []
   },
   "outputs": [],
   "source": [
    "#hide\n",
    "# g.rename(columns= {'date':'day'},inplace = True)"
   ]
  },
  {
   "cell_type": "code",
   "execution_count": 38,
   "id": "major-fight",
   "metadata": {
    "execution": {
     "iopub.execute_input": "2021-02-05T12:06:58.383754Z",
     "iopub.status.busy": "2021-02-05T12:06:58.383147Z",
     "iopub.status.idle": "2021-02-05T12:06:58.385649Z",
     "shell.execute_reply": "2021-02-05T12:06:58.385059Z"
    },
    "papermill": {
     "duration": 0.039672,
     "end_time": "2021-02-05T12:06:58.385786",
     "exception": false,
     "start_time": "2021-02-05T12:06:58.346114",
     "status": "completed"
    },
    "tags": []
   },
   "outputs": [],
   "source": [
    "#hide\n",
    "# g = g[cols]"
   ]
  },
  {
   "cell_type": "code",
   "execution_count": 39,
   "id": "structured-mobile",
   "metadata": {
    "execution": {
     "iopub.execute_input": "2021-02-05T12:06:58.461798Z",
     "iopub.status.busy": "2021-02-05T12:06:58.461150Z",
     "iopub.status.idle": "2021-02-05T12:06:58.463361Z",
     "shell.execute_reply": "2021-02-05T12:06:58.464076Z"
    },
    "papermill": {
     "duration": 0.04562,
     "end_time": "2021-02-05T12:06:58.464383",
     "exception": false,
     "start_time": "2021-02-05T12:06:58.418763",
     "status": "completed"
    },
    "tags": []
   },
   "outputs": [],
   "source": [
    "# #hide\n",
    "# g = g[g.group.notna()]"
   ]
  },
  {
   "cell_type": "code",
   "execution_count": 40,
   "id": "determined-closing",
   "metadata": {
    "execution": {
     "iopub.execute_input": "2021-02-05T12:06:58.537648Z",
     "iopub.status.busy": "2021-02-05T12:06:58.537040Z",
     "iopub.status.idle": "2021-02-05T12:06:58.538960Z",
     "shell.execute_reply": "2021-02-05T12:06:58.539396Z"
    },
    "papermill": {
     "duration": 0.038992,
     "end_time": "2021-02-05T12:06:58.539533",
     "exception": false,
     "start_time": "2021-02-05T12:06:58.500541",
     "status": "completed"
    },
    "tags": []
   },
   "outputs": [],
   "source": [
    "# #hide\n",
    "# colors = dict(zip(\n",
    "#     [\"Oceania\", \"Europe\", \"Asia\", \"South America\", \"Middle East\", \"North America\", \"Africa\"],\n",
    "#     [\"#adb0ff\", \"#ffb3ff\", \"#90d595\", \"#e48381\", \"#aafbff\", \"#f7bb5f\", \"#eafb50\"]\n",
    "# ))\n",
    "# group_lk = g.set_index('name')['group'].to_dict()"
   ]
  },
  {
   "cell_type": "code",
   "execution_count": null,
   "id": "gross-drinking",
   "metadata": {
    "papermill": {
     "duration": 0.03489,
     "end_time": "2021-02-05T12:06:58.609574",
     "exception": false,
     "start_time": "2021-02-05T12:06:58.574684",
     "status": "completed"
    },
    "tags": []
   },
   "outputs": [],
   "source": []
  },
  {
   "cell_type": "code",
   "execution_count": 41,
   "id": "subject-macintosh",
   "metadata": {
    "execution": {
     "iopub.execute_input": "2021-02-05T12:06:58.679954Z",
     "iopub.status.busy": "2021-02-05T12:06:58.679403Z",
     "iopub.status.idle": "2021-02-05T12:06:58.681210Z",
     "shell.execute_reply": "2021-02-05T12:06:58.681628Z"
    },
    "papermill": {
     "duration": 0.037878,
     "end_time": "2021-02-05T12:06:58.681757",
     "exception": false,
     "start_time": "2021-02-05T12:06:58.643879",
     "status": "completed"
    },
    "tags": []
   },
   "outputs": [],
   "source": [
    "# #hide\n",
    "# fig, ax = plt.subplots(figsize=(15, 8))\n",
    "\n",
    "# def draw_barchart(current_day):\n",
    "#     dff = g[g['day'].eq(current_day)].sort_values(by='value', ascending=True).tail(10)\n",
    "#     ax.clear()\n",
    "#     ax.barh(dff['name'], dff['value'], color=[colors[group_lk[x]] for x in dff['name']])\n",
    "#     dx = dff['value'].max() / 200\n",
    "    \n",
    "#     for i, (value, name) in enumerate(zip(dff['value'], dff['name'])):\n",
    "#         ax.text(value-dx, i,     name,           size=14, weight=600, ha='right', va='bottom')\n",
    "#         ax.text(value-dx, i-.25, group_lk[name], size=10, color='#444444', ha='right', va='baseline')\n",
    "#         ax.text(value+dx, i,     f'{value:,.0f}',  size=14, ha='left',  va='center')\n",
    "#     ax.text(1, 0.4, current_day, transform=ax.transAxes, color='#777777', size=46, ha='right', weight=800)\n",
    "#     ax.text(0, 1.06, 'Population (thousands)', transform=ax.transAxes, size=12, color='#777777')\n",
    "#     ax.xaxis.set_major_formatter(ticker.StrMethodFormatter('{x:,.0f}'))\n",
    "#     ax.xaxis.set_ticks_position('top')\n",
    "#     ax.tick_params(axis='x', colors='#777777', labelsize=12)\n",
    "#     ax.set_yticks([])\n",
    "#     ax.margins(0, 0.01)\n",
    "#     ax.grid(which='major', axis='x', linestyle='-')\n",
    "#     ax.set_axisbelow(True)\n",
    "    \n",
    "#     ax.text(0, 1.15, 'Coronavirus',\n",
    "#             transform=ax.transAxes, size=24, weight=600, ha='left', va='top')\n",
    "# #     ax.text(1, 0, 'by @pratapvardhan; credit @jburnmurdoch', transform=ax.transAxes, color='#777777', ha='right',\n",
    "# #             bbox=dict(facecolor='white', alpha=0.8, edgecolor='white'))\n",
    "#     plt.box(False)"
   ]
  },
  {
   "cell_type": "code",
   "execution_count": 42,
   "id": "sexual-wages",
   "metadata": {
    "execution": {
     "iopub.execute_input": "2021-02-05T12:06:58.752884Z",
     "iopub.status.busy": "2021-02-05T12:06:58.752241Z",
     "iopub.status.idle": "2021-02-05T12:06:58.754387Z",
     "shell.execute_reply": "2021-02-05T12:06:58.753927Z"
    },
    "papermill": {
     "duration": 0.039894,
     "end_time": "2021-02-05T12:06:58.754502",
     "exception": false,
     "start_time": "2021-02-05T12:06:58.714608",
     "status": "completed"
    },
    "tags": []
   },
   "outputs": [],
   "source": [
    "# #hide_input\n",
    "# fig, ax = plt.subplots(figsize=(15, 8))\n",
    "# animator = animation.FuncAnimation(fig, draw_barchart, frames=range(g.day.values.min(), g.day.values.max()))\n",
    "# HTML(animator.to_jshtml())\n",
    "# # or use animator.to_html5_video() or animator.save() "
   ]
  },
  {
   "cell_type": "code",
   "execution_count": null,
   "id": "australian-container",
   "metadata": {
    "papermill": {
     "duration": 0.036282,
     "end_time": "2021-02-05T12:06:58.823749",
     "exception": false,
     "start_time": "2021-02-05T12:06:58.787467",
     "status": "completed"
    },
    "tags": []
   },
   "outputs": [],
   "source": []
  },
  {
   "cell_type": "code",
   "execution_count": null,
   "id": "mediterranean-pontiac",
   "metadata": {
    "papermill": {
     "duration": 0.036852,
     "end_time": "2021-02-05T12:06:58.896643",
     "exception": false,
     "start_time": "2021-02-05T12:06:58.859791",
     "status": "completed"
    },
    "tags": []
   },
   "outputs": [],
   "source": []
  },
  {
   "cell_type": "code",
   "execution_count": null,
   "id": "aging-legislature",
   "metadata": {
    "papermill": {
     "duration": 0.03719,
     "end_time": "2021-02-05T12:06:58.970586",
     "exception": false,
     "start_time": "2021-02-05T12:06:58.933396",
     "status": "completed"
    },
    "tags": []
   },
   "outputs": [],
   "source": []
  }
 ],
 "metadata": {
  "kernelspec": {
   "display_name": "Python 3",
   "language": "python",
   "name": "python3"
  },
  "language_info": {
   "codemirror_mode": {
    "name": "ipython",
    "version": 3
   },
   "file_extension": ".py",
   "mimetype": "text/x-python",
   "name": "python",
   "nbconvert_exporter": "python",
   "pygments_lexer": "ipython3",
   "version": "3.6.12"
  },
  "papermill": {
   "duration": 7.188604,
   "end_time": "2021-02-05T12:06:59.313582",
   "environment_variables": {},
   "exception": null,
   "input_path": "2020-03-21-covid19exp.ipynb",
   "output_path": "2020-03-21-covid19exp.ipynb",
   "parameters": {},
   "start_time": "2021-02-05T12:06:52.124978",
   "version": "2.0.0"
  }
 },
 "nbformat": 4,
 "nbformat_minor": 5
}