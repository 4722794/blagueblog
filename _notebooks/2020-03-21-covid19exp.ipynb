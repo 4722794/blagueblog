{
 "cells": [
  {
   "cell_type": "markdown",
   "id": "muslim-click",
   "metadata": {
    "papermill": {
     "duration": 0.042618,
     "end_time": "2022-06-15T00:44:18.798578",
     "exception": false,
     "start_time": "2022-06-15T00:44:18.755960",
     "status": "completed"
    },
    "tags": []
   },
   "source": [
    "# COVID-19 Case Race\n",
    "> A race chart to see rising cases around the world\n",
    "\n",
    "- author: Hargun Oberoi\n",
    "- image: images/covid-overview.png\n",
    "- hide: false\n",
    "- badges: false"
   ]
  },
  {
   "cell_type": "code",
   "execution_count": 1,
   "id": "proof-material",
   "metadata": {
    "execution": {
     "iopub.execute_input": "2022-06-15T00:44:18.883303Z",
     "iopub.status.busy": "2022-06-15T00:44:18.882476Z",
     "iopub.status.idle": "2022-06-15T00:44:19.257407Z",
     "shell.execute_reply": "2022-06-15T00:44:19.256342Z"
    },
    "papermill": {
     "duration": 0.42184,
     "end_time": "2022-06-15T00:44:19.257572",
     "exception": false,
     "start_time": "2022-06-15T00:44:18.835732",
     "status": "completed"
    },
    "tags": []
   },
   "outputs": [],
   "source": [
    "#hide\n",
    "import numpy as np\n",
    "import pandas as pd\n",
    "from jinja2 import Template\n",
    "from IPython.display import HTML"
   ]
  },
  {
   "cell_type": "code",
   "execution_count": 2,
   "id": "developed-terminology",
   "metadata": {
    "execution": {
     "iopub.execute_input": "2022-06-15T00:44:19.333094Z",
     "iopub.status.busy": "2022-06-15T00:44:19.331868Z",
     "iopub.status.idle": "2022-06-15T00:44:19.334387Z",
     "shell.execute_reply": "2022-06-15T00:44:19.334990Z"
    },
    "papermill": {
     "duration": 0.043792,
     "end_time": "2022-06-15T00:44:19.335138",
     "exception": false,
     "start_time": "2022-06-15T00:44:19.291346",
     "status": "completed"
    },
    "tags": []
   },
   "outputs": [],
   "source": [
    "#hide\n",
    "\n",
    "# FETCH\n",
    "base_url = 'https://raw.githubusercontent.com/pratapvardhan/notebooks/master/covid19/'\n",
    "paths = {\n",
    "    'mapping': base_url + 'mapping_countries.csv',\n",
    "    'overview': base_url + 'overview.tpl'\n",
    "}"
   ]
  },
  {
   "cell_type": "code",
   "execution_count": 3,
   "id": "dynamic-saver",
   "metadata": {
    "execution": {
     "iopub.execute_input": "2022-06-15T00:44:19.413782Z",
     "iopub.status.busy": "2022-06-15T00:44:19.413095Z",
     "iopub.status.idle": "2022-06-15T00:44:19.417170Z",
     "shell.execute_reply": "2022-06-15T00:44:19.416509Z"
    },
    "papermill": {
     "duration": 0.049071,
     "end_time": "2022-06-15T00:44:19.417295",
     "exception": false,
     "start_time": "2022-06-15T00:44:19.368224",
     "status": "completed"
    },
    "tags": []
   },
   "outputs": [
    {
     "data": {
      "text/plain": [
       "'https://raw.githubusercontent.com/pratapvardhan/notebooks/master/covid19/mapping_countries.csv'"
      ]
     },
     "execution_count": 3,
     "metadata": {},
     "output_type": "execute_result"
    }
   ],
   "source": [
    "#hide\n",
    "paths['mapping']"
   ]
  },
  {
   "cell_type": "code",
   "execution_count": 4,
   "id": "urban-software",
   "metadata": {
    "execution": {
     "iopub.execute_input": "2022-06-15T00:44:19.491194Z",
     "iopub.status.busy": "2022-06-15T00:44:19.490438Z",
     "iopub.status.idle": "2022-06-15T00:44:19.493196Z",
     "shell.execute_reply": "2022-06-15T00:44:19.492642Z"
    },
    "papermill": {
     "duration": 0.042392,
     "end_time": "2022-06-15T00:44:19.493319",
     "exception": false,
     "start_time": "2022-06-15T00:44:19.450927",
     "status": "completed"
    },
    "tags": []
   },
   "outputs": [],
   "source": [
    "#hide\n",
    "def get_mappings(url):\n",
    "    df = pd.read_csv(url)\n",
    "    return {\n",
    "        'df': df,\n",
    "        'replace.country': dict(df.dropna(subset=['Name']).set_index('Country')['Name']),\n",
    "        'map.continent': dict(df.set_index('Name')['Continent'])\n",
    "    }"
   ]
  },
  {
   "cell_type": "code",
   "execution_count": 5,
   "id": "intimate-machinery",
   "metadata": {
    "execution": {
     "iopub.execute_input": "2022-06-15T00:44:19.568251Z",
     "iopub.status.busy": "2022-06-15T00:44:19.567550Z",
     "iopub.status.idle": "2022-06-15T00:44:19.596413Z",
     "shell.execute_reply": "2022-06-15T00:44:19.595706Z"
    },
    "papermill": {
     "duration": 0.06991,
     "end_time": "2022-06-15T00:44:19.596546",
     "exception": false,
     "start_time": "2022-06-15T00:44:19.526636",
     "status": "completed"
    },
    "tags": []
   },
   "outputs": [],
   "source": [
    "#hide\n",
    "mapping = get_mappings(paths['mapping'])"
   ]
  },
  {
   "cell_type": "code",
   "execution_count": 6,
   "id": "certified-tactics",
   "metadata": {
    "execution": {
     "iopub.execute_input": "2022-06-15T00:44:19.669385Z",
     "iopub.status.busy": "2022-06-15T00:44:19.668687Z",
     "iopub.status.idle": "2022-06-15T00:44:19.673245Z",
     "shell.execute_reply": "2022-06-15T00:44:19.672693Z"
    },
    "papermill": {
     "duration": 0.043108,
     "end_time": "2022-06-15T00:44:19.673366",
     "exception": false,
     "start_time": "2022-06-15T00:44:19.630258",
     "status": "completed"
    },
    "tags": []
   },
   "outputs": [],
   "source": [
    "#hide\n",
    "def get_template(path):\n",
    "    from urllib.parse import urlparse\n",
    "    if bool(urlparse(path).netloc):\n",
    "        from urllib.request import urlopen\n",
    "        return urlopen(path).read().decode('utf8')\n",
    "    return open(path).read()"
   ]
  },
  {
   "cell_type": "code",
   "execution_count": 7,
   "id": "realistic-blast",
   "metadata": {
    "execution": {
     "iopub.execute_input": "2022-06-15T00:44:19.747609Z",
     "iopub.status.busy": "2022-06-15T00:44:19.746911Z",
     "iopub.status.idle": "2022-06-15T00:44:19.750202Z",
     "shell.execute_reply": "2022-06-15T00:44:19.750880Z"
    },
    "papermill": {
     "duration": 0.044337,
     "end_time": "2022-06-15T00:44:19.751029",
     "exception": false,
     "start_time": "2022-06-15T00:44:19.706692",
     "status": "completed"
    },
    "tags": []
   },
   "outputs": [],
   "source": [
    "#hide\n",
    "def get_frame(name):\n",
    "    url = (\n",
    "        'https://raw.githubusercontent.com/CSSEGISandData/COVID-19/master/csse_covid_19_data/'\n",
    "        f'csse_covid_19_time_series/time_series_covid19_{name}_global.csv')\n",
    "    df = pd.read_csv(url)\n",
    "    # rename countries\n",
    "    df['Country/Region'] = df['Country/Region'].replace(mapping['replace.country'])\n",
    "    return df"
   ]
  },
  {
   "cell_type": "code",
   "execution_count": 8,
   "id": "affiliated-characterization",
   "metadata": {
    "execution": {
     "iopub.execute_input": "2022-06-15T00:44:19.825877Z",
     "iopub.status.busy": "2022-06-15T00:44:19.825175Z",
     "iopub.status.idle": "2022-06-15T00:44:19.827543Z",
     "shell.execute_reply": "2022-06-15T00:44:19.828092Z"
    },
    "papermill": {
     "duration": 0.043614,
     "end_time": "2022-06-15T00:44:19.828231",
     "exception": false,
     "start_time": "2022-06-15T00:44:19.784617",
     "status": "completed"
    },
    "tags": []
   },
   "outputs": [],
   "source": [
    "#hide\n",
    "def get_dates(df):\n",
    "    dt_cols = df.columns[~df.columns.isin(['Province/State', 'Country/Region', 'Lat', 'Long'])]\n",
    "    LAST_DATE_I = -1\n",
    "    # sometimes last column may be empty, then go backwards\n",
    "    for i in range(-1, -len(dt_cols), -1):\n",
    "        if not df[dt_cols[i]].fillna(0).eq(0).all():\n",
    "            LAST_DATE_I = i\n",
    "            break\n",
    "    return LAST_DATE_I, dt_cols"
   ]
  },
  {
   "cell_type": "code",
   "execution_count": 9,
   "id": "recent-optimization",
   "metadata": {
    "execution": {
     "iopub.execute_input": "2022-06-15T00:44:19.900111Z",
     "iopub.status.busy": "2022-06-15T00:44:19.899368Z",
     "iopub.status.idle": "2022-06-15T00:44:20.319076Z",
     "shell.execute_reply": "2022-06-15T00:44:20.318029Z"
    },
    "papermill": {
     "duration": 0.45772,
     "end_time": "2022-06-15T00:44:20.319217",
     "exception": false,
     "start_time": "2022-06-15T00:44:19.861497",
     "status": "completed"
    },
    "tags": []
   },
   "outputs": [],
   "source": [
    "#hide\n",
    "COL_REGION = 'Country/Region'\n",
    "# Confirmed, Recovered, Deaths\n",
    "df = get_frame('confirmed')\n",
    "# dft_: timeseries, dfc_: today country agg\n",
    "dft_cases = df\n",
    "dft_deaths = get_frame('deaths')\n",
    "dft_recovered = get_frame('recovered')\n",
    "LAST_DATE_I, dt_cols = get_dates(df)"
   ]
  },
  {
   "cell_type": "code",
   "execution_count": 10,
   "id": "absolute-copper",
   "metadata": {
    "execution": {
     "iopub.execute_input": "2022-06-15T00:44:20.393892Z",
     "iopub.status.busy": "2022-06-15T00:44:20.393190Z",
     "iopub.status.idle": "2022-06-15T00:44:20.396042Z",
     "shell.execute_reply": "2022-06-15T00:44:20.395521Z"
    },
    "papermill": {
     "duration": 0.042973,
     "end_time": "2022-06-15T00:44:20.396170",
     "exception": false,
     "start_time": "2022-06-15T00:44:20.353197",
     "status": "completed"
    },
    "tags": []
   },
   "outputs": [],
   "source": [
    "#hide\n",
    "LAST_DATE_I, dt_cols = get_dates(df)\n",
    "dt_today =dt_cols[LAST_DATE_I]\n",
    "# dt_5day = dt_cols[LAST_DATE_I - 5]\n",
    "dt_yday = dt_cols[LAST_DATE_I - 1]"
   ]
  },
  {
   "cell_type": "code",
   "execution_count": 11,
   "id": "restricted-sheriff",
   "metadata": {
    "execution": {
     "iopub.execute_input": "2022-06-15T00:44:20.471693Z",
     "iopub.status.busy": "2022-06-15T00:44:20.470985Z",
     "iopub.status.idle": "2022-06-15T00:44:20.479296Z",
     "shell.execute_reply": "2022-06-15T00:44:20.479849Z"
    },
    "papermill": {
     "duration": 0.05061,
     "end_time": "2022-06-15T00:44:20.479996",
     "exception": false,
     "start_time": "2022-06-15T00:44:20.429386",
     "status": "completed"
    },
    "tags": []
   },
   "outputs": [],
   "source": [
    "#hide\n",
    "dfc_cases = dft_cases.groupby(COL_REGION)[dt_today].sum()\n",
    "dfc_deaths = dft_deaths.groupby(COL_REGION)[dt_today].sum()\n",
    "# dfp_cases = dft_cases.groupby(COL_REGION)[dt_5day].sum()\n",
    "# dfp_deaths = dft_deaths.groupby(COL_REGION)[dt_5day].sum()\n",
    "dfp_cases = dft_cases.groupby(COL_REGION)[dt_yday].sum()\n",
    "dfp_deaths = dft_deaths.groupby(COL_REGION)[dt_yday].sum()"
   ]
  },
  {
   "cell_type": "code",
   "execution_count": 12,
   "id": "deluxe-hepatitis",
   "metadata": {
    "execution": {
     "iopub.execute_input": "2022-06-15T00:44:20.555440Z",
     "iopub.status.busy": "2022-06-15T00:44:20.554744Z",
     "iopub.status.idle": "2022-06-15T00:44:20.560949Z",
     "shell.execute_reply": "2022-06-15T00:44:20.560388Z"
    },
    "papermill": {
     "duration": 0.047585,
     "end_time": "2022-06-15T00:44:20.561071",
     "exception": false,
     "start_time": "2022-06-15T00:44:20.513486",
     "status": "completed"
    },
    "tags": []
   },
   "outputs": [],
   "source": [
    "#hide\n",
    "df_table = (pd.DataFrame(dict(Cases = dfc_cases, Deaths = dfc_deaths, PCases = dfp_cases, PDeaths = dfp_deaths))\n",
    "            .sort_values(by = ['Cases','Deaths'], ascending = [False, False])\n",
    "            .reset_index())"
   ]
  },
  {
   "cell_type": "code",
   "execution_count": 13,
   "id": "educational-chancellor",
   "metadata": {
    "execution": {
     "iopub.execute_input": "2022-06-15T00:44:20.636888Z",
     "iopub.status.busy": "2022-06-15T00:44:20.635910Z",
     "iopub.status.idle": "2022-06-15T00:44:20.656608Z",
     "shell.execute_reply": "2022-06-15T00:44:20.656060Z"
    },
    "papermill": {
     "duration": 0.062563,
     "end_time": "2022-06-15T00:44:20.656727",
     "exception": false,
     "start_time": "2022-06-15T00:44:20.594164",
     "status": "completed"
    },
    "tags": []
   },
   "outputs": [
    {
     "data": {
      "text/html": [
       "<div>\n",
       "<style scoped>\n",
       "    .dataframe tbody tr th:only-of-type {\n",
       "        vertical-align: middle;\n",
       "    }\n",
       "\n",
       "    .dataframe tbody tr th {\n",
       "        vertical-align: top;\n",
       "    }\n",
       "\n",
       "    .dataframe thead th {\n",
       "        text-align: right;\n",
       "    }\n",
       "</style>\n",
       "<table border=\"1\" class=\"dataframe\">\n",
       "  <thead>\n",
       "    <tr style=\"text-align: right;\">\n",
       "      <th></th>\n",
       "      <th>Country/Region</th>\n",
       "      <th>Cases</th>\n",
       "      <th>Deaths</th>\n",
       "      <th>PCases</th>\n",
       "      <th>PDeaths</th>\n",
       "      <th>Cases (+)</th>\n",
       "      <th>Deaths (+)</th>\n",
       "      <th>Fatality Rate</th>\n",
       "      <th>Continent</th>\n",
       "    </tr>\n",
       "  </thead>\n",
       "  <tbody>\n",
       "    <tr>\n",
       "      <th>0</th>\n",
       "      <td>US</td>\n",
       "      <td>85632808</td>\n",
       "      <td>1011543</td>\n",
       "      <td>85515529</td>\n",
       "      <td>1011275</td>\n",
       "      <td>117279</td>\n",
       "      <td>268</td>\n",
       "      <td>1.18</td>\n",
       "      <td>North America</td>\n",
       "    </tr>\n",
       "    <tr>\n",
       "      <th>1</th>\n",
       "      <td>India</td>\n",
       "      <td>43236695</td>\n",
       "      <td>524777</td>\n",
       "      <td>43230101</td>\n",
       "      <td>524771</td>\n",
       "      <td>6594</td>\n",
       "      <td>6</td>\n",
       "      <td>1.21</td>\n",
       "      <td>Asia</td>\n",
       "    </tr>\n",
       "    <tr>\n",
       "      <th>2</th>\n",
       "      <td>Brazil</td>\n",
       "      <td>31497038</td>\n",
       "      <td>668180</td>\n",
       "      <td>31456865</td>\n",
       "      <td>668110</td>\n",
       "      <td>40173</td>\n",
       "      <td>70</td>\n",
       "      <td>2.12</td>\n",
       "      <td>South America</td>\n",
       "    </tr>\n",
       "    <tr>\n",
       "      <th>3</th>\n",
       "      <td>France</td>\n",
       "      <td>29946647</td>\n",
       "      <td>149788</td>\n",
       "      <td>29946603</td>\n",
       "      <td>149788</td>\n",
       "      <td>44</td>\n",
       "      <td>0</td>\n",
       "      <td>0.50</td>\n",
       "      <td>Europe</td>\n",
       "    </tr>\n",
       "    <tr>\n",
       "      <th>4</th>\n",
       "      <td>Germany</td>\n",
       "      <td>26915085</td>\n",
       "      <td>139914</td>\n",
       "      <td>26809245</td>\n",
       "      <td>139807</td>\n",
       "      <td>105840</td>\n",
       "      <td>107</td>\n",
       "      <td>0.52</td>\n",
       "      <td>Europe</td>\n",
       "    </tr>\n",
       "  </tbody>\n",
       "</table>\n",
       "</div>"
      ],
      "text/plain": [
       "  Country/Region     Cases   Deaths    PCases  PDeaths  Cases (+)  Deaths (+)  \\\n",
       "0             US  85632808  1011543  85515529  1011275     117279         268   \n",
       "1          India  43236695   524777  43230101   524771       6594           6   \n",
       "2         Brazil  31497038   668180  31456865   668110      40173          70   \n",
       "3         France  29946647   149788  29946603   149788         44           0   \n",
       "4        Germany  26915085   139914  26809245   139807     105840         107   \n",
       "\n",
       "   Fatality Rate      Continent  \n",
       "0           1.18  North America  \n",
       "1           1.21           Asia  \n",
       "2           2.12  South America  \n",
       "3           0.50         Europe  \n",
       "4           0.52         Europe  "
      ]
     },
     "execution_count": 13,
     "metadata": {},
     "output_type": "execute_result"
    }
   ],
   "source": [
    "#hide\n",
    "for c in 'Cases, Deaths'.split(', '):\n",
    "    df_table[f'{c} (+)'] = (df_table[c] - df_table[f'P{c}']).clip(0)\n",
    "    #Clip ça veut dire, les chiffres negatif sont interdit\n",
    "df_table['Fatality Rate'] = (100* df_table['Deaths']/ df_table['Cases']).round(2)\n",
    "df_table['Continent'] = df_table['Country/Region'].map(mapping['map.continent'])\n",
    "df_table.head(5)"
   ]
  },
  {
   "cell_type": "code",
   "execution_count": 14,
   "id": "aboriginal-bulgaria",
   "metadata": {
    "execution": {
     "iopub.execute_input": "2022-06-15T00:44:20.732671Z",
     "iopub.status.busy": "2022-06-15T00:44:20.731999Z",
     "iopub.status.idle": "2022-06-15T00:44:20.735420Z",
     "shell.execute_reply": "2022-06-15T00:44:20.736057Z"
    },
    "papermill": {
     "duration": 0.045627,
     "end_time": "2022-06-15T00:44:20.736191",
     "exception": false,
     "start_time": "2022-06-15T00:44:20.690564",
     "status": "completed"
    },
    "tags": []
   },
   "outputs": [],
   "source": [
    "#hide\n",
    "#delete problematic countries from table\n",
    "df_table = df_table[~df_table['Country/Region'].isin(['Cape Verde', 'Cruise Ship', 'Kosovo'])]"
   ]
  },
  {
   "cell_type": "code",
   "execution_count": 15,
   "id": "fantastic-effect",
   "metadata": {
    "execution": {
     "iopub.execute_input": "2022-06-15T00:44:20.822308Z",
     "iopub.status.busy": "2022-06-15T00:44:20.821627Z",
     "iopub.status.idle": "2022-06-15T00:44:20.837864Z",
     "shell.execute_reply": "2022-06-15T00:44:20.838416Z"
    },
    "papermill": {
     "duration": 0.068395,
     "end_time": "2022-06-15T00:44:20.838655",
     "exception": false,
     "start_time": "2022-06-15T00:44:20.770260",
     "status": "completed"
    },
    "tags": []
   },
   "outputs": [
    {
     "data": {
      "text/html": [
       "<div>\n",
       "<style scoped>\n",
       "    .dataframe tbody tr th:only-of-type {\n",
       "        vertical-align: middle;\n",
       "    }\n",
       "\n",
       "    .dataframe tbody tr th {\n",
       "        vertical-align: top;\n",
       "    }\n",
       "\n",
       "    .dataframe thead th {\n",
       "        text-align: right;\n",
       "    }\n",
       "</style>\n",
       "<table border=\"1\" class=\"dataframe\">\n",
       "  <thead>\n",
       "    <tr style=\"text-align: right;\">\n",
       "      <th></th>\n",
       "      <th>Country/Region</th>\n",
       "      <th>Cases</th>\n",
       "      <th>Deaths</th>\n",
       "      <th>PCases</th>\n",
       "      <th>PDeaths</th>\n",
       "      <th>Cases (+)</th>\n",
       "      <th>Deaths (+)</th>\n",
       "      <th>Fatality Rate</th>\n",
       "      <th>Continent</th>\n",
       "    </tr>\n",
       "  </thead>\n",
       "  <tbody>\n",
       "    <tr>\n",
       "      <th>0</th>\n",
       "      <td>US</td>\n",
       "      <td>85632808</td>\n",
       "      <td>1011543</td>\n",
       "      <td>85515529</td>\n",
       "      <td>1011275</td>\n",
       "      <td>117279</td>\n",
       "      <td>268</td>\n",
       "      <td>1.2</td>\n",
       "      <td>North America</td>\n",
       "    </tr>\n",
       "    <tr>\n",
       "      <th>1</th>\n",
       "      <td>India</td>\n",
       "      <td>43236695</td>\n",
       "      <td>524777</td>\n",
       "      <td>43230101</td>\n",
       "      <td>524771</td>\n",
       "      <td>6594</td>\n",
       "      <td>6</td>\n",
       "      <td>1.2</td>\n",
       "      <td>Asia</td>\n",
       "    </tr>\n",
       "    <tr>\n",
       "      <th>2</th>\n",
       "      <td>Brazil</td>\n",
       "      <td>31497038</td>\n",
       "      <td>668180</td>\n",
       "      <td>31456865</td>\n",
       "      <td>668110</td>\n",
       "      <td>40173</td>\n",
       "      <td>70</td>\n",
       "      <td>2.1</td>\n",
       "      <td>South America</td>\n",
       "    </tr>\n",
       "    <tr>\n",
       "      <th>3</th>\n",
       "      <td>France</td>\n",
       "      <td>29946647</td>\n",
       "      <td>149788</td>\n",
       "      <td>29946603</td>\n",
       "      <td>149788</td>\n",
       "      <td>44</td>\n",
       "      <td>0</td>\n",
       "      <td>0.5</td>\n",
       "      <td>Europe</td>\n",
       "    </tr>\n",
       "    <tr>\n",
       "      <th>4</th>\n",
       "      <td>Germany</td>\n",
       "      <td>26915085</td>\n",
       "      <td>139914</td>\n",
       "      <td>26809245</td>\n",
       "      <td>139807</td>\n",
       "      <td>105840</td>\n",
       "      <td>107</td>\n",
       "      <td>0.5</td>\n",
       "      <td>Europe</td>\n",
       "    </tr>\n",
       "  </tbody>\n",
       "</table>\n",
       "</div>"
      ],
      "text/plain": [
       "  Country/Region     Cases   Deaths    PCases  PDeaths  Cases (+)  Deaths (+)  \\\n",
       "0             US  85632808  1011543  85515529  1011275     117279         268   \n",
       "1          India  43236695   524777  43230101   524771       6594           6   \n",
       "2         Brazil  31497038   668180  31456865   668110      40173          70   \n",
       "3         France  29946647   149788  29946603   149788         44           0   \n",
       "4        Germany  26915085   139914  26809245   139807     105840         107   \n",
       "\n",
       "   Fatality Rate      Continent  \n",
       "0            1.2  North America  \n",
       "1            1.2           Asia  \n",
       "2            2.1  South America  \n",
       "3            0.5         Europe  \n",
       "4            0.5         Europe  "
      ]
     },
     "execution_count": 15,
     "metadata": {},
     "output_type": "execute_result"
    }
   ],
   "source": [
    "#hide\n",
    "df_table = (pd.DataFrame(dict(Cases=dfc_cases, Deaths=dfc_deaths, PCases=dfp_cases, PDeaths=dfp_deaths))\n",
    "             .sort_values(by=['Cases', 'Deaths'], ascending=[False, False])\n",
    "             .reset_index())\n",
    "df_table.rename(columns={'index': 'Country/Region'}, inplace=True)\n",
    "for c in 'Cases, Deaths'.split(', '):\n",
    "    df_table[f'{c} (+)'] = (df_table[c] - df_table[f'P{c}']).clip(0)  # DATA BUG\n",
    "df_table['Fatality Rate'] = (100 * df_table['Deaths'] / df_table['Cases']).round(1)\n",
    "df_table['Continent'] = df_table['Country/Region'].map(mapping['map.continent'])\n",
    "df_table.head(5)"
   ]
  },
  {
   "cell_type": "code",
   "execution_count": 16,
   "id": "fewer-occasion",
   "metadata": {
    "execution": {
     "iopub.execute_input": "2022-06-15T00:44:20.911608Z",
     "iopub.status.busy": "2022-06-15T00:44:20.910922Z",
     "iopub.status.idle": "2022-06-15T00:44:20.917969Z",
     "shell.execute_reply": "2022-06-15T00:44:20.917425Z"
    },
    "papermill": {
     "duration": 0.044808,
     "end_time": "2022-06-15T00:44:20.918088",
     "exception": false,
     "start_time": "2022-06-15T00:44:20.873280",
     "status": "completed"
    },
    "tags": []
   },
   "outputs": [],
   "source": [
    "#hide\n",
    "#delete problematic countries from table\n",
    "df_table = df_table[~df_table['Country/Region'].isin(['Cape Verde', 'Cruise Ship', 'Kosovo'])]"
   ]
  },
  {
   "cell_type": "code",
   "execution_count": 17,
   "id": "related-center",
   "metadata": {
    "execution": {
     "iopub.execute_input": "2022-06-15T00:44:21.003187Z",
     "iopub.status.busy": "2022-06-15T00:44:21.002461Z",
     "iopub.status.idle": "2022-06-15T00:44:21.014763Z",
     "shell.execute_reply": "2022-06-15T00:44:21.014185Z"
    },
    "papermill": {
     "duration": 0.059085,
     "end_time": "2022-06-15T00:44:21.014889",
     "exception": false,
     "start_time": "2022-06-15T00:44:20.955804",
     "status": "completed"
    },
    "tags": []
   },
   "outputs": [],
   "source": [
    "#hide\n",
    "metrics = [df_table.columns[index] for index in [1,2,5,6]]\n",
    "# s_china = df_table[df_table['Country/Region'].eq('China')][metrics].sum().add_prefix('China ')\n",
    "s_us = df_table[df_table['Country/Region'].eq('US')][metrics].sum().add_prefix('US ')\n",
    "s_eu = df_table[df_table['Continent'].eq('Europe')][metrics].sum().add_prefix('EU ')\n",
    "s_ind = df_table[df_table['Country/Region'].eq('India')][metrics].sum().add_prefix('India ')\n",
    "summary = {'updated': pd.to_datetime(dt_today), 'since': pd.to_datetime(dt_yday)}\n",
    "summary = {'updated': pd.to_datetime(dt_today), 'since': pd.to_datetime(dt_yday)}\n",
    "summary = {**summary, **df_table[metrics].sum(), **s_ind, **s_us, **s_eu}"
   ]
  },
  {
   "cell_type": "code",
   "execution_count": 18,
   "id": "engaging-syndrome",
   "metadata": {
    "execution": {
     "iopub.execute_input": "2022-06-15T00:44:21.091501Z",
     "iopub.status.busy": "2022-06-15T00:44:21.090812Z",
     "iopub.status.idle": "2022-06-15T00:44:21.112639Z",
     "shell.execute_reply": "2022-06-15T00:44:21.112020Z"
    },
    "papermill": {
     "duration": 0.063074,
     "end_time": "2022-06-15T00:44:21.112776",
     "exception": false,
     "start_time": "2022-06-15T00:44:21.049702",
     "status": "completed"
    },
    "tags": []
   },
   "outputs": [],
   "source": [
    "#hide\n",
    "dft_ct_new_cases = dft_cases.groupby(COL_REGION)[dt_cols].sum().diff(axis=1).fillna(0).astype(int)"
   ]
  },
  {
   "cell_type": "code",
   "execution_count": 19,
   "id": "neutral-assignment",
   "metadata": {
    "execution": {
     "iopub.execute_input": "2022-06-15T00:44:21.190134Z",
     "iopub.status.busy": "2022-06-15T00:44:21.189419Z",
     "iopub.status.idle": "2022-06-15T00:44:21.192990Z",
     "shell.execute_reply": "2022-06-15T00:44:21.192409Z"
    },
    "papermill": {
     "duration": 0.045132,
     "end_time": "2022-06-15T00:44:21.193114",
     "exception": false,
     "start_time": "2022-06-15T00:44:21.147982",
     "status": "completed"
    },
    "tags": []
   },
   "outputs": [],
   "source": [
    "#hide\n",
    "everydaycases = dft_ct_new_cases.cumsum(axis=1)"
   ]
  },
  {
   "cell_type": "code",
   "execution_count": 20,
   "id": "parliamentary-calgary",
   "metadata": {
    "execution": {
     "iopub.execute_input": "2022-06-15T00:44:21.266970Z",
     "iopub.status.busy": "2022-06-15T00:44:21.266238Z",
     "iopub.status.idle": "2022-06-15T00:44:21.881218Z",
     "shell.execute_reply": "2022-06-15T00:44:21.881741Z"
    },
    "papermill": {
     "duration": 0.654121,
     "end_time": "2022-06-15T00:44:21.881909",
     "exception": false,
     "start_time": "2022-06-15T00:44:21.227788",
     "status": "completed"
    },
    "tags": []
   },
   "outputs": [],
   "source": [
    "#hide\n",
    "import pandas as pd\n",
    "import matplotlib.pyplot as plt\n",
    "import matplotlib.ticker as ticker\n",
    "import matplotlib.animation as animation\n",
    "from IPython.display import HTML"
   ]
  },
  {
   "cell_type": "code",
   "execution_count": 21,
   "id": "lasting-extraction",
   "metadata": {
    "execution": {
     "iopub.execute_input": "2022-06-15T00:44:21.961407Z",
     "iopub.status.busy": "2022-06-15T00:44:21.960724Z",
     "iopub.status.idle": "2022-06-15T00:44:21.968644Z",
     "shell.execute_reply": "2022-06-15T00:44:21.967964Z"
    },
    "papermill": {
     "duration": 0.052095,
     "end_time": "2022-06-15T00:44:21.968773",
     "exception": false,
     "start_time": "2022-06-15T00:44:21.916678",
     "status": "completed"
    },
    "tags": []
   },
   "outputs": [],
   "source": [
    "#hide\n",
    "t = everydaycases.stack()"
   ]
  },
  {
   "cell_type": "code",
   "execution_count": 22,
   "id": "premier-sleeve",
   "metadata": {
    "execution": {
     "iopub.execute_input": "2022-06-15T00:44:22.044182Z",
     "iopub.status.busy": "2022-06-15T00:44:22.043482Z",
     "iopub.status.idle": "2022-06-15T00:44:22.056250Z",
     "shell.execute_reply": "2022-06-15T00:44:22.055568Z"
    },
    "papermill": {
     "duration": 0.052802,
     "end_time": "2022-06-15T00:44:22.056378",
     "exception": false,
     "start_time": "2022-06-15T00:44:22.003576",
     "status": "completed"
    },
    "tags": []
   },
   "outputs": [],
   "source": [
    "#hide\n",
    "g = t.reset_index(['Country/Region'])"
   ]
  },
  {
   "cell_type": "code",
   "execution_count": 23,
   "id": "distributed-pittsburgh",
   "metadata": {
    "execution": {
     "iopub.execute_input": "2022-06-15T00:44:22.131100Z",
     "iopub.status.busy": "2022-06-15T00:44:22.130388Z",
     "iopub.status.idle": "2022-06-15T00:44:22.133811Z",
     "shell.execute_reply": "2022-06-15T00:44:22.134459Z"
    },
    "papermill": {
     "duration": 0.043881,
     "end_time": "2022-06-15T00:44:22.134633",
     "exception": false,
     "start_time": "2022-06-15T00:44:22.090752",
     "status": "completed"
    },
    "tags": []
   },
   "outputs": [],
   "source": [
    "#hide\n",
    "g.index.name = 'date'"
   ]
  },
  {
   "cell_type": "code",
   "execution_count": 24,
   "id": "naked-donor",
   "metadata": {
    "execution": {
     "iopub.execute_input": "2022-06-15T00:44:22.209496Z",
     "iopub.status.busy": "2022-06-15T00:44:22.208326Z",
     "iopub.status.idle": "2022-06-15T00:44:22.210825Z",
     "shell.execute_reply": "2022-06-15T00:44:22.211730Z"
    },
    "papermill": {
     "duration": 0.042894,
     "end_time": "2022-06-15T00:44:22.211952",
     "exception": false,
     "start_time": "2022-06-15T00:44:22.169058",
     "status": "completed"
    },
    "tags": []
   },
   "outputs": [],
   "source": [
    "# #hide\n",
    "# g = g.reset_index(['date'])"
   ]
  },
  {
   "cell_type": "code",
   "execution_count": 25,
   "id": "incomplete-mustang",
   "metadata": {
    "execution": {
     "iopub.execute_input": "2022-06-15T00:44:22.286505Z",
     "iopub.status.busy": "2022-06-15T00:44:22.285828Z",
     "iopub.status.idle": "2022-06-15T00:44:22.290011Z",
     "shell.execute_reply": "2022-06-15T00:44:22.289457Z"
    },
    "papermill": {
     "duration": 0.043239,
     "end_time": "2022-06-15T00:44:22.290153",
     "exception": false,
     "start_time": "2022-06-15T00:44:22.246914",
     "status": "completed"
    },
    "tags": []
   },
   "outputs": [],
   "source": [
    "#hide\n",
    "# g.head()"
   ]
  },
  {
   "cell_type": "code",
   "execution_count": 26,
   "id": "specific-kruger",
   "metadata": {
    "execution": {
     "iopub.execute_input": "2022-06-15T00:44:22.365391Z",
     "iopub.status.busy": "2022-06-15T00:44:22.364217Z",
     "iopub.status.idle": "2022-06-15T00:44:22.366237Z",
     "shell.execute_reply": "2022-06-15T00:44:22.366770Z"
    },
    "papermill": {
     "duration": 0.041891,
     "end_time": "2022-06-15T00:44:22.366906",
     "exception": false,
     "start_time": "2022-06-15T00:44:22.325015",
     "status": "completed"
    },
    "tags": []
   },
   "outputs": [],
   "source": [
    "#hide\n",
    "# g.columns = ['date','country','cases']"
   ]
  },
  {
   "cell_type": "code",
   "execution_count": 27,
   "id": "tender-conversion",
   "metadata": {
    "execution": {
     "iopub.execute_input": "2022-06-15T00:44:22.440480Z",
     "iopub.status.busy": "2022-06-15T00:44:22.439611Z",
     "iopub.status.idle": "2022-06-15T00:44:22.444276Z",
     "shell.execute_reply": "2022-06-15T00:44:22.444962Z"
    },
    "papermill": {
     "duration": 0.043947,
     "end_time": "2022-06-15T00:44:22.445129",
     "exception": false,
     "start_time": "2022-06-15T00:44:22.401182",
     "status": "completed"
    },
    "tags": []
   },
   "outputs": [],
   "source": [
    "#hide\n",
    "# g['continent'] = g.country"
   ]
  },
  {
   "cell_type": "code",
   "execution_count": 28,
   "id": "substantial-wilderness",
   "metadata": {
    "execution": {
     "iopub.execute_input": "2022-06-15T00:44:22.517986Z",
     "iopub.status.busy": "2022-06-15T00:44:22.517319Z",
     "iopub.status.idle": "2022-06-15T00:44:22.519812Z",
     "shell.execute_reply": "2022-06-15T00:44:22.520307Z"
    },
    "papermill": {
     "duration": 0.040495,
     "end_time": "2022-06-15T00:44:22.520443",
     "exception": false,
     "start_time": "2022-06-15T00:44:22.479948",
     "status": "completed"
    },
    "tags": []
   },
   "outputs": [],
   "source": [
    "#hide\n",
    "# cols = list(g.columns.values)"
   ]
  },
  {
   "cell_type": "code",
   "execution_count": 29,
   "id": "solved-farming",
   "metadata": {
    "execution": {
     "iopub.execute_input": "2022-06-15T00:44:22.593860Z",
     "iopub.status.busy": "2022-06-15T00:44:22.593201Z",
     "iopub.status.idle": "2022-06-15T00:44:22.596310Z",
     "shell.execute_reply": "2022-06-15T00:44:22.596862Z"
    },
    "papermill": {
     "duration": 0.042389,
     "end_time": "2022-06-15T00:44:22.596991",
     "exception": false,
     "start_time": "2022-06-15T00:44:22.554602",
     "status": "completed"
    },
    "tags": []
   },
   "outputs": [],
   "source": [
    "#hide\n",
    "# cols.insert(0, cols.pop())"
   ]
  },
  {
   "cell_type": "code",
   "execution_count": 30,
   "id": "executed-adoption",
   "metadata": {
    "execution": {
     "iopub.execute_input": "2022-06-15T00:44:22.671412Z",
     "iopub.status.busy": "2022-06-15T00:44:22.670734Z",
     "iopub.status.idle": "2022-06-15T00:44:22.673208Z",
     "shell.execute_reply": "2022-06-15T00:44:22.672558Z"
    },
    "papermill": {
     "duration": 0.042034,
     "end_time": "2022-06-15T00:44:22.673322",
     "exception": false,
     "start_time": "2022-06-15T00:44:22.631288",
     "status": "completed"
    },
    "tags": []
   },
   "outputs": [],
   "source": [
    "#hide\n",
    "# g = g[cols]"
   ]
  },
  {
   "cell_type": "code",
   "execution_count": 31,
   "id": "subject-dublin",
   "metadata": {
    "execution": {
     "iopub.execute_input": "2022-06-15T00:44:22.745766Z",
     "iopub.status.busy": "2022-06-15T00:44:22.745090Z",
     "iopub.status.idle": "2022-06-15T00:44:22.747554Z",
     "shell.execute_reply": "2022-06-15T00:44:22.748071Z"
    },
    "papermill": {
     "duration": 0.040495,
     "end_time": "2022-06-15T00:44:22.748198",
     "exception": false,
     "start_time": "2022-06-15T00:44:22.707703",
     "status": "completed"
    },
    "tags": []
   },
   "outputs": [],
   "source": [
    "#hide\n",
    "# g['continent'] = g['continent'].map(mapping['map.continent'])"
   ]
  },
  {
   "cell_type": "code",
   "execution_count": 32,
   "id": "freelance-scout",
   "metadata": {
    "execution": {
     "iopub.execute_input": "2022-06-15T00:44:22.823889Z",
     "iopub.status.busy": "2022-06-15T00:44:22.823194Z",
     "iopub.status.idle": "2022-06-15T00:44:22.824938Z",
     "shell.execute_reply": "2022-06-15T00:44:22.825485Z"
    },
    "papermill": {
     "duration": 0.041777,
     "end_time": "2022-06-15T00:44:22.825614",
     "exception": false,
     "start_time": "2022-06-15T00:44:22.783837",
     "status": "completed"
    },
    "tags": []
   },
   "outputs": [],
   "source": [
    "#hide\n",
    "# g.head()"
   ]
  },
  {
   "cell_type": "code",
   "execution_count": 33,
   "id": "limited-engine",
   "metadata": {
    "execution": {
     "iopub.execute_input": "2022-06-15T00:44:22.900270Z",
     "iopub.status.busy": "2022-06-15T00:44:22.899093Z",
     "iopub.status.idle": "2022-06-15T00:44:22.901400Z",
     "shell.execute_reply": "2022-06-15T00:44:22.902481Z"
    },
    "papermill": {
     "duration": 0.042844,
     "end_time": "2022-06-15T00:44:22.902726",
     "exception": false,
     "start_time": "2022-06-15T00:44:22.859882",
     "status": "completed"
    },
    "tags": []
   },
   "outputs": [],
   "source": [
    "# hide\n",
    "# g['date'] = g['date'].astype('datetime64[ns]')"
   ]
  },
  {
   "cell_type": "code",
   "execution_count": 34,
   "id": "sophisticated-supervisor",
   "metadata": {
    "execution": {
     "iopub.execute_input": "2022-06-15T00:44:22.976994Z",
     "iopub.status.busy": "2022-06-15T00:44:22.976315Z",
     "iopub.status.idle": "2022-06-15T00:44:22.980598Z",
     "shell.execute_reply": "2022-06-15T00:44:22.981089Z"
    },
    "papermill": {
     "duration": 0.043696,
     "end_time": "2022-06-15T00:44:22.981224",
     "exception": false,
     "start_time": "2022-06-15T00:44:22.937528",
     "status": "completed"
    },
    "tags": []
   },
   "outputs": [],
   "source": [
    "#hide\n",
    "# g['date'] = g.date.dt.dayofyear"
   ]
  },
  {
   "cell_type": "code",
   "execution_count": 35,
   "id": "inside-dubai",
   "metadata": {
    "execution": {
     "iopub.execute_input": "2022-06-15T00:44:23.056730Z",
     "iopub.status.busy": "2022-06-15T00:44:23.055540Z",
     "iopub.status.idle": "2022-06-15T00:44:23.057890Z",
     "shell.execute_reply": "2022-06-15T00:44:23.057357Z"
    },
    "papermill": {
     "duration": 0.042592,
     "end_time": "2022-06-15T00:44:23.058003",
     "exception": false,
     "start_time": "2022-06-15T00:44:23.015411",
     "status": "completed"
    },
    "tags": []
   },
   "outputs": [],
   "source": [
    "#hide\n",
    "# g = g.rename(columns= {'continent':'group','country':'name','cases':'value'})"
   ]
  },
  {
   "cell_type": "code",
   "execution_count": 36,
   "id": "fleet-motorcycle",
   "metadata": {
    "execution": {
     "iopub.execute_input": "2022-06-15T00:44:23.132821Z",
     "iopub.status.busy": "2022-06-15T00:44:23.131640Z",
     "iopub.status.idle": "2022-06-15T00:44:23.134106Z",
     "shell.execute_reply": "2022-06-15T00:44:23.135040Z"
    },
    "papermill": {
     "duration": 0.042869,
     "end_time": "2022-06-15T00:44:23.135266",
     "exception": false,
     "start_time": "2022-06-15T00:44:23.092397",
     "status": "completed"
    },
    "tags": []
   },
   "outputs": [],
   "source": [
    "#hide\n",
    "# cols = ['name','group','day','value']"
   ]
  },
  {
   "cell_type": "code",
   "execution_count": 37,
   "id": "continued-sleeping",
   "metadata": {
    "execution": {
     "iopub.execute_input": "2022-06-15T00:44:23.209394Z",
     "iopub.status.busy": "2022-06-15T00:44:23.208723Z",
     "iopub.status.idle": "2022-06-15T00:44:23.211367Z",
     "shell.execute_reply": "2022-06-15T00:44:23.210707Z"
    },
    "papermill": {
     "duration": 0.041333,
     "end_time": "2022-06-15T00:44:23.211483",
     "exception": false,
     "start_time": "2022-06-15T00:44:23.170150",
     "status": "completed"
    },
    "tags": []
   },
   "outputs": [],
   "source": [
    "#hide\n",
    "# g.rename(columns= {'date':'day'},inplace = True)"
   ]
  },
  {
   "cell_type": "code",
   "execution_count": 38,
   "id": "major-fight",
   "metadata": {
    "execution": {
     "iopub.execute_input": "2022-06-15T00:44:23.287209Z",
     "iopub.status.busy": "2022-06-15T00:44:23.285951Z",
     "iopub.status.idle": "2022-06-15T00:44:23.288531Z",
     "shell.execute_reply": "2022-06-15T00:44:23.289424Z"
    },
    "papermill": {
     "duration": 0.043707,
     "end_time": "2022-06-15T00:44:23.289660",
     "exception": false,
     "start_time": "2022-06-15T00:44:23.245953",
     "status": "completed"
    },
    "tags": []
   },
   "outputs": [],
   "source": [
    "#hide\n",
    "# g = g[cols]"
   ]
  },
  {
   "cell_type": "code",
   "execution_count": 39,
   "id": "structured-mobile",
   "metadata": {
    "execution": {
     "iopub.execute_input": "2022-06-15T00:44:23.363109Z",
     "iopub.status.busy": "2022-06-15T00:44:23.362276Z",
     "iopub.status.idle": "2022-06-15T00:44:23.365971Z",
     "shell.execute_reply": "2022-06-15T00:44:23.365321Z"
    },
    "papermill": {
     "duration": 0.042113,
     "end_time": "2022-06-15T00:44:23.366091",
     "exception": false,
     "start_time": "2022-06-15T00:44:23.323978",
     "status": "completed"
    },
    "tags": []
   },
   "outputs": [],
   "source": [
    "# #hide\n",
    "# g = g[g.group.notna()]"
   ]
  },
  {
   "cell_type": "code",
   "execution_count": 40,
   "id": "determined-closing",
   "metadata": {
    "execution": {
     "iopub.execute_input": "2022-06-15T00:44:23.441822Z",
     "iopub.status.busy": "2022-06-15T00:44:23.440590Z",
     "iopub.status.idle": "2022-06-15T00:44:23.442662Z",
     "shell.execute_reply": "2022-06-15T00:44:23.443184Z"
    },
    "papermill": {
     "duration": 0.042499,
     "end_time": "2022-06-15T00:44:23.443325",
     "exception": false,
     "start_time": "2022-06-15T00:44:23.400826",
     "status": "completed"
    },
    "tags": []
   },
   "outputs": [],
   "source": [
    "# #hide\n",
    "# colors = dict(zip(\n",
    "#     [\"Oceania\", \"Europe\", \"Asia\", \"South America\", \"Middle East\", \"North America\", \"Africa\"],\n",
    "#     [\"#adb0ff\", \"#ffb3ff\", \"#90d595\", \"#e48381\", \"#aafbff\", \"#f7bb5f\", \"#eafb50\"]\n",
    "# ))\n",
    "# group_lk = g.set_index('name')['group'].to_dict()"
   ]
  },
  {
   "cell_type": "code",
   "execution_count": null,
   "id": "gross-drinking",
   "metadata": {
    "papermill": {
     "duration": 0.034374,
     "end_time": "2022-06-15T00:44:23.511931",
     "exception": false,
     "start_time": "2022-06-15T00:44:23.477557",
     "status": "completed"
    },
    "tags": []
   },
   "outputs": [],
   "source": []
  },
  {
   "cell_type": "code",
   "execution_count": 41,
   "id": "subject-macintosh",
   "metadata": {
    "execution": {
     "iopub.execute_input": "2022-06-15T00:44:23.586726Z",
     "iopub.status.busy": "2022-06-15T00:44:23.586004Z",
     "iopub.status.idle": "2022-06-15T00:44:23.588676Z",
     "shell.execute_reply": "2022-06-15T00:44:23.589227Z"
    },
    "papermill": {
     "duration": 0.043061,
     "end_time": "2022-06-15T00:44:23.589368",
     "exception": false,
     "start_time": "2022-06-15T00:44:23.546307",
     "status": "completed"
    },
    "tags": []
   },
   "outputs": [],
   "source": [
    "# #hide\n",
    "# fig, ax = plt.subplots(figsize=(15, 8))\n",
    "\n",
    "# def draw_barchart(current_day):\n",
    "#     dff = g[g['day'].eq(current_day)].sort_values(by='value', ascending=True).tail(10)\n",
    "#     ax.clear()\n",
    "#     ax.barh(dff['name'], dff['value'], color=[colors[group_lk[x]] for x in dff['name']])\n",
    "#     dx = dff['value'].max() / 200\n",
    "    \n",
    "#     for i, (value, name) in enumerate(zip(dff['value'], dff['name'])):\n",
    "#         ax.text(value-dx, i,     name,           size=14, weight=600, ha='right', va='bottom')\n",
    "#         ax.text(value-dx, i-.25, group_lk[name], size=10, color='#444444', ha='right', va='baseline')\n",
    "#         ax.text(value+dx, i,     f'{value:,.0f}',  size=14, ha='left',  va='center')\n",
    "#     ax.text(1, 0.4, current_day, transform=ax.transAxes, color='#777777', size=46, ha='right', weight=800)\n",
    "#     ax.text(0, 1.06, 'Population (thousands)', transform=ax.transAxes, size=12, color='#777777')\n",
    "#     ax.xaxis.set_major_formatter(ticker.StrMethodFormatter('{x:,.0f}'))\n",
    "#     ax.xaxis.set_ticks_position('top')\n",
    "#     ax.tick_params(axis='x', colors='#777777', labelsize=12)\n",
    "#     ax.set_yticks([])\n",
    "#     ax.margins(0, 0.01)\n",
    "#     ax.grid(which='major', axis='x', linestyle='-')\n",
    "#     ax.set_axisbelow(True)\n",
    "    \n",
    "#     ax.text(0, 1.15, 'Coronavirus',\n",
    "#             transform=ax.transAxes, size=24, weight=600, ha='left', va='top')\n",
    "# #     ax.text(1, 0, 'by @pratapvardhan; credit @jburnmurdoch', transform=ax.transAxes, color='#777777', ha='right',\n",
    "# #             bbox=dict(facecolor='white', alpha=0.8, edgecolor='white'))\n",
    "#     plt.box(False)"
   ]
  },
  {
   "cell_type": "code",
   "execution_count": 42,
   "id": "sexual-wages",
   "metadata": {
    "execution": {
     "iopub.execute_input": "2022-06-15T00:44:23.664435Z",
     "iopub.status.busy": "2022-06-15T00:44:23.663234Z",
     "iopub.status.idle": "2022-06-15T00:44:23.665404Z",
     "shell.execute_reply": "2022-06-15T00:44:23.665910Z"
    },
    "papermill": {
     "duration": 0.042332,
     "end_time": "2022-06-15T00:44:23.666045",
     "exception": false,
     "start_time": "2022-06-15T00:44:23.623713",
     "status": "completed"
    },
    "tags": []
   },
   "outputs": [],
   "source": [
    "# #hide_input\n",
    "# fig, ax = plt.subplots(figsize=(15, 8))\n",
    "# animator = animation.FuncAnimation(fig, draw_barchart, frames=range(g.day.values.min(), g.day.values.max()))\n",
    "# HTML(animator.to_jshtml())\n",
    "# # or use animator.to_html5_video() or animator.save() "
   ]
  },
  {
   "cell_type": "code",
   "execution_count": null,
   "id": "australian-container",
   "metadata": {
    "papermill": {
     "duration": 0.034543,
     "end_time": "2022-06-15T00:44:23.734988",
     "exception": false,
     "start_time": "2022-06-15T00:44:23.700445",
     "status": "completed"
    },
    "tags": []
   },
   "outputs": [],
   "source": []
  },
  {
   "cell_type": "code",
   "execution_count": null,
   "id": "mediterranean-pontiac",
   "metadata": {
    "papermill": {
     "duration": 0.034461,
     "end_time": "2022-06-15T00:44:23.804063",
     "exception": false,
     "start_time": "2022-06-15T00:44:23.769602",
     "status": "completed"
    },
    "tags": []
   },
   "outputs": [],
   "source": []
  },
  {
   "cell_type": "code",
   "execution_count": null,
   "id": "aging-legislature",
   "metadata": {
    "papermill": {
     "duration": 0.034372,
     "end_time": "2022-06-15T00:44:23.873850",
     "exception": false,
     "start_time": "2022-06-15T00:44:23.839478",
     "status": "completed"
    },
    "tags": []
   },
   "outputs": [],
   "source": []
  }
 ],
 "metadata": {
  "kernelspec": {
   "display_name": "Python 3",
   "language": "python",
   "name": "python3"
  },
  "language_info": {
   "codemirror_mode": {
    "name": "ipython",
    "version": 3
   },
   "file_extension": ".py",
   "mimetype": "text/x-python",
   "name": "python",
   "nbconvert_exporter": "python",
   "pygments_lexer": "ipython3",
   "version": "3.6.15"
  },
  "papermill": {
   "duration": 6.77284,
   "end_time": "2022-06-15T00:44:24.227510",
   "environment_variables": {},
   "exception": null,
   "input_path": "2020-03-21-covid19exp.ipynb",
   "output_path": "2020-03-21-covid19exp.ipynb",
   "parameters": {},
   "start_time": "2022-06-15T00:44:17.454670",
   "version": "2.0.0"
  }
 },
 "nbformat": 4,
 "nbformat_minor": 5
}