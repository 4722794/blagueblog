{
 "cells": [
  {
   "cell_type": "markdown",
   "id": "muslim-click",
   "metadata": {
    "papermill": {
     "duration": 0.04338,
     "end_time": "2021-03-18T00:12:10.252372",
     "exception": false,
     "start_time": "2021-03-18T00:12:10.208992",
     "status": "completed"
    },
    "tags": []
   },
   "source": [
    "# COVID-19 Case Race\n",
    "> A race chart to see rising cases around the world\n",
    "\n",
    "- author: Hargun Oberoi\n",
    "- image: images/covid-overview.png\n",
    "- hide: false\n",
    "- badges: false"
   ]
  },
  {
   "cell_type": "code",
   "execution_count": 1,
   "id": "proof-material",
   "metadata": {
    "execution": {
     "iopub.execute_input": "2021-03-18T00:12:10.340229Z",
     "iopub.status.busy": "2021-03-18T00:12:10.339572Z",
     "iopub.status.idle": "2021-03-18T00:12:10.707549Z",
     "shell.execute_reply": "2021-03-18T00:12:10.706930Z"
    },
    "papermill": {
     "duration": 0.418118,
     "end_time": "2021-03-18T00:12:10.707756",
     "exception": false,
     "start_time": "2021-03-18T00:12:10.289638",
     "status": "completed"
    },
    "tags": []
   },
   "outputs": [],
   "source": [
    "#hide\n",
    "import numpy as np\n",
    "import pandas as pd\n",
    "from jinja2 import Template\n",
    "from IPython.display import HTML"
   ]
  },
  {
   "cell_type": "code",
   "execution_count": 2,
   "id": "developed-terminology",
   "metadata": {
    "execution": {
     "iopub.execute_input": "2021-03-18T00:12:10.789109Z",
     "iopub.status.busy": "2021-03-18T00:12:10.788411Z",
     "iopub.status.idle": "2021-03-18T00:12:10.790940Z",
     "shell.execute_reply": "2021-03-18T00:12:10.791444Z"
    },
    "papermill": {
     "duration": 0.044985,
     "end_time": "2021-03-18T00:12:10.791609",
     "exception": false,
     "start_time": "2021-03-18T00:12:10.746624",
     "status": "completed"
    },
    "tags": []
   },
   "outputs": [],
   "source": [
    "#hide\n",
    "\n",
    "# FETCH\n",
    "base_url = 'https://raw.githubusercontent.com/pratapvardhan/notebooks/master/covid19/'\n",
    "paths = {\n",
    "    'mapping': base_url + 'mapping_countries.csv',\n",
    "    'overview': base_url + 'overview.tpl'\n",
    "}"
   ]
  },
  {
   "cell_type": "code",
   "execution_count": 3,
   "id": "dynamic-saver",
   "metadata": {
    "execution": {
     "iopub.execute_input": "2021-03-18T00:12:10.879213Z",
     "iopub.status.busy": "2021-03-18T00:12:10.878342Z",
     "iopub.status.idle": "2021-03-18T00:12:10.882158Z",
     "shell.execute_reply": "2021-03-18T00:12:10.882679Z"
    },
    "papermill": {
     "duration": 0.050426,
     "end_time": "2021-03-18T00:12:10.882865",
     "exception": false,
     "start_time": "2021-03-18T00:12:10.832439",
     "status": "completed"
    },
    "tags": []
   },
   "outputs": [
    {
     "data": {
      "text/plain": [
       "'https://raw.githubusercontent.com/pratapvardhan/notebooks/master/covid19/mapping_countries.csv'"
      ]
     },
     "execution_count": 3,
     "metadata": {},
     "output_type": "execute_result"
    }
   ],
   "source": [
    "#hide\n",
    "paths['mapping']"
   ]
  },
  {
   "cell_type": "code",
   "execution_count": 4,
   "id": "urban-software",
   "metadata": {
    "execution": {
     "iopub.execute_input": "2021-03-18T00:12:10.969916Z",
     "iopub.status.busy": "2021-03-18T00:12:10.968670Z",
     "iopub.status.idle": "2021-03-18T00:12:10.970551Z",
     "shell.execute_reply": "2021-03-18T00:12:10.971202Z"
    },
    "papermill": {
     "duration": 0.047904,
     "end_time": "2021-03-18T00:12:10.971339",
     "exception": false,
     "start_time": "2021-03-18T00:12:10.923435",
     "status": "completed"
    },
    "tags": []
   },
   "outputs": [],
   "source": [
    "#hide\n",
    "def get_mappings(url):\n",
    "    df = pd.read_csv(url)\n",
    "    return {\n",
    "        'df': df,\n",
    "        'replace.country': dict(df.dropna(subset=['Name']).set_index('Country')['Name']),\n",
    "        'map.continent': dict(df.set_index('Name')['Continent'])\n",
    "    }"
   ]
  },
  {
   "cell_type": "code",
   "execution_count": 5,
   "id": "intimate-machinery",
   "metadata": {
    "execution": {
     "iopub.execute_input": "2021-03-18T00:12:11.059664Z",
     "iopub.status.busy": "2021-03-18T00:12:11.058975Z",
     "iopub.status.idle": "2021-03-18T00:12:11.092473Z",
     "shell.execute_reply": "2021-03-18T00:12:11.091960Z"
    },
    "papermill": {
     "duration": 0.080567,
     "end_time": "2021-03-18T00:12:11.092609",
     "exception": false,
     "start_time": "2021-03-18T00:12:11.012042",
     "status": "completed"
    },
    "tags": []
   },
   "outputs": [],
   "source": [
    "#hide\n",
    "mapping = get_mappings(paths['mapping'])"
   ]
  },
  {
   "cell_type": "code",
   "execution_count": 6,
   "id": "certified-tactics",
   "metadata": {
    "execution": {
     "iopub.execute_input": "2021-03-18T00:12:11.179394Z",
     "iopub.status.busy": "2021-03-18T00:12:11.178716Z",
     "iopub.status.idle": "2021-03-18T00:12:11.180596Z",
     "shell.execute_reply": "2021-03-18T00:12:11.181137Z"
    },
    "papermill": {
     "duration": 0.047496,
     "end_time": "2021-03-18T00:12:11.181335",
     "exception": false,
     "start_time": "2021-03-18T00:12:11.133839",
     "status": "completed"
    },
    "tags": []
   },
   "outputs": [],
   "source": [
    "#hide\n",
    "def get_template(path):\n",
    "    from urllib.parse import urlparse\n",
    "    if bool(urlparse(path).netloc):\n",
    "        from urllib.request import urlopen\n",
    "        return urlopen(path).read().decode('utf8')\n",
    "    return open(path).read()"
   ]
  },
  {
   "cell_type": "code",
   "execution_count": 7,
   "id": "realistic-blast",
   "metadata": {
    "execution": {
     "iopub.execute_input": "2021-03-18T00:12:11.266866Z",
     "iopub.status.busy": "2021-03-18T00:12:11.266136Z",
     "iopub.status.idle": "2021-03-18T00:12:11.268229Z",
     "shell.execute_reply": "2021-03-18T00:12:11.268790Z"
    },
    "papermill": {
     "duration": 0.048408,
     "end_time": "2021-03-18T00:12:11.268928",
     "exception": false,
     "start_time": "2021-03-18T00:12:11.220520",
     "status": "completed"
    },
    "tags": []
   },
   "outputs": [],
   "source": [
    "#hide\n",
    "def get_frame(name):\n",
    "    url = (\n",
    "        'https://raw.githubusercontent.com/CSSEGISandData/COVID-19/master/csse_covid_19_data/'\n",
    "        f'csse_covid_19_time_series/time_series_covid19_{name}_global.csv')\n",
    "    df = pd.read_csv(url)\n",
    "    # rename countries\n",
    "    df['Country/Region'] = df['Country/Region'].replace(mapping['replace.country'])\n",
    "    return df"
   ]
  },
  {
   "cell_type": "code",
   "execution_count": 8,
   "id": "affiliated-characterization",
   "metadata": {
    "execution": {
     "iopub.execute_input": "2021-03-18T00:12:11.354577Z",
     "iopub.status.busy": "2021-03-18T00:12:11.354026Z",
     "iopub.status.idle": "2021-03-18T00:12:11.355926Z",
     "shell.execute_reply": "2021-03-18T00:12:11.356482Z"
    },
    "papermill": {
     "duration": 0.047893,
     "end_time": "2021-03-18T00:12:11.356651",
     "exception": false,
     "start_time": "2021-03-18T00:12:11.308758",
     "status": "completed"
    },
    "tags": []
   },
   "outputs": [],
   "source": [
    "#hide\n",
    "def get_dates(df):\n",
    "    dt_cols = df.columns[~df.columns.isin(['Province/State', 'Country/Region', 'Lat', 'Long'])]\n",
    "    LAST_DATE_I = -1\n",
    "    # sometimes last column may be empty, then go backwards\n",
    "    for i in range(-1, -len(dt_cols), -1):\n",
    "        if not df[dt_cols[i]].fillna(0).eq(0).all():\n",
    "            LAST_DATE_I = i\n",
    "            break\n",
    "    return LAST_DATE_I, dt_cols"
   ]
  },
  {
   "cell_type": "code",
   "execution_count": 9,
   "id": "recent-optimization",
   "metadata": {
    "execution": {
     "iopub.execute_input": "2021-03-18T00:12:11.440903Z",
     "iopub.status.busy": "2021-03-18T00:12:11.439649Z",
     "iopub.status.idle": "2021-03-18T00:12:11.717664Z",
     "shell.execute_reply": "2021-03-18T00:12:11.716995Z"
    },
    "papermill": {
     "duration": 0.322412,
     "end_time": "2021-03-18T00:12:11.717800",
     "exception": false,
     "start_time": "2021-03-18T00:12:11.395388",
     "status": "completed"
    },
    "tags": []
   },
   "outputs": [],
   "source": [
    "#hide\n",
    "COL_REGION = 'Country/Region'\n",
    "# Confirmed, Recovered, Deaths\n",
    "df = get_frame('confirmed')\n",
    "# dft_: timeseries, dfc_: today country agg\n",
    "dft_cases = df\n",
    "dft_deaths = get_frame('deaths')\n",
    "dft_recovered = get_frame('recovered')\n",
    "LAST_DATE_I, dt_cols = get_dates(df)"
   ]
  },
  {
   "cell_type": "code",
   "execution_count": 10,
   "id": "absolute-copper",
   "metadata": {
    "execution": {
     "iopub.execute_input": "2021-03-18T00:12:11.803934Z",
     "iopub.status.busy": "2021-03-18T00:12:11.803252Z",
     "iopub.status.idle": "2021-03-18T00:12:11.805692Z",
     "shell.execute_reply": "2021-03-18T00:12:11.805024Z"
    },
    "papermill": {
     "duration": 0.048993,
     "end_time": "2021-03-18T00:12:11.805886",
     "exception": false,
     "start_time": "2021-03-18T00:12:11.756893",
     "status": "completed"
    },
    "tags": []
   },
   "outputs": [],
   "source": [
    "#hide\n",
    "LAST_DATE_I, dt_cols = get_dates(df)\n",
    "dt_today =dt_cols[LAST_DATE_I]\n",
    "# dt_5day = dt_cols[LAST_DATE_I - 5]\n",
    "dt_yday = dt_cols[LAST_DATE_I - 1]"
   ]
  },
  {
   "cell_type": "code",
   "execution_count": 11,
   "id": "restricted-sheriff",
   "metadata": {
    "execution": {
     "iopub.execute_input": "2021-03-18T00:12:11.889327Z",
     "iopub.status.busy": "2021-03-18T00:12:11.888727Z",
     "iopub.status.idle": "2021-03-18T00:12:11.899212Z",
     "shell.execute_reply": "2021-03-18T00:12:11.899675Z"
    },
    "papermill": {
     "duration": 0.055304,
     "end_time": "2021-03-18T00:12:11.899823",
     "exception": false,
     "start_time": "2021-03-18T00:12:11.844519",
     "status": "completed"
    },
    "tags": []
   },
   "outputs": [],
   "source": [
    "#hide\n",
    "dfc_cases = dft_cases.groupby(COL_REGION)[dt_today].sum()\n",
    "dfc_deaths = dft_deaths.groupby(COL_REGION)[dt_today].sum()\n",
    "# dfp_cases = dft_cases.groupby(COL_REGION)[dt_5day].sum()\n",
    "# dfp_deaths = dft_deaths.groupby(COL_REGION)[dt_5day].sum()\n",
    "dfp_cases = dft_cases.groupby(COL_REGION)[dt_yday].sum()\n",
    "dfp_deaths = dft_deaths.groupby(COL_REGION)[dt_yday].sum()"
   ]
  },
  {
   "cell_type": "code",
   "execution_count": 12,
   "id": "deluxe-hepatitis",
   "metadata": {
    "execution": {
     "iopub.execute_input": "2021-03-18T00:12:11.982808Z",
     "iopub.status.busy": "2021-03-18T00:12:11.982167Z",
     "iopub.status.idle": "2021-03-18T00:12:11.987534Z",
     "shell.execute_reply": "2021-03-18T00:12:11.986882Z"
    },
    "papermill": {
     "duration": 0.04966,
     "end_time": "2021-03-18T00:12:11.987658",
     "exception": false,
     "start_time": "2021-03-18T00:12:11.937998",
     "status": "completed"
    },
    "tags": []
   },
   "outputs": [],
   "source": [
    "#hide\n",
    "df_table = (pd.DataFrame(dict(Cases = dfc_cases, Deaths = dfc_deaths, PCases = dfp_cases, PDeaths = dfp_deaths))\n",
    "            .sort_values(by = ['Cases','Deaths'], ascending = [False, False])\n",
    "            .reset_index())"
   ]
  },
  {
   "cell_type": "code",
   "execution_count": 13,
   "id": "educational-chancellor",
   "metadata": {
    "execution": {
     "iopub.execute_input": "2021-03-18T00:12:12.077470Z",
     "iopub.status.busy": "2021-03-18T00:12:12.076841Z",
     "iopub.status.idle": "2021-03-18T00:12:12.094929Z",
     "shell.execute_reply": "2021-03-18T00:12:12.094231Z"
    },
    "papermill": {
     "duration": 0.067225,
     "end_time": "2021-03-18T00:12:12.095056",
     "exception": false,
     "start_time": "2021-03-18T00:12:12.027831",
     "status": "completed"
    },
    "tags": []
   },
   "outputs": [
    {
     "data": {
      "text/html": [
       "<div>\n",
       "<style scoped>\n",
       "    .dataframe tbody tr th:only-of-type {\n",
       "        vertical-align: middle;\n",
       "    }\n",
       "\n",
       "    .dataframe tbody tr th {\n",
       "        vertical-align: top;\n",
       "    }\n",
       "\n",
       "    .dataframe thead th {\n",
       "        text-align: right;\n",
       "    }\n",
       "</style>\n",
       "<table border=\"1\" class=\"dataframe\">\n",
       "  <thead>\n",
       "    <tr style=\"text-align: right;\">\n",
       "      <th></th>\n",
       "      <th>Country/Region</th>\n",
       "      <th>Cases</th>\n",
       "      <th>Deaths</th>\n",
       "      <th>PCases</th>\n",
       "      <th>PDeaths</th>\n",
       "      <th>Cases (+)</th>\n",
       "      <th>Deaths (+)</th>\n",
       "      <th>Fatality Rate</th>\n",
       "      <th>Continent</th>\n",
       "    </tr>\n",
       "  </thead>\n",
       "  <tbody>\n",
       "    <tr>\n",
       "      <th>0</th>\n",
       "      <td>US</td>\n",
       "      <td>29549003</td>\n",
       "      <td>536914</td>\n",
       "      <td>29495424</td>\n",
       "      <td>535628</td>\n",
       "      <td>53579</td>\n",
       "      <td>1286</td>\n",
       "      <td>1.82</td>\n",
       "      <td>North America</td>\n",
       "    </tr>\n",
       "    <tr>\n",
       "      <th>1</th>\n",
       "      <td>Brazil</td>\n",
       "      <td>11603535</td>\n",
       "      <td>282127</td>\n",
       "      <td>11519609</td>\n",
       "      <td>279286</td>\n",
       "      <td>83926</td>\n",
       "      <td>2841</td>\n",
       "      <td>2.43</td>\n",
       "      <td>South America</td>\n",
       "    </tr>\n",
       "    <tr>\n",
       "      <th>2</th>\n",
       "      <td>India</td>\n",
       "      <td>11438734</td>\n",
       "      <td>159044</td>\n",
       "      <td>11409831</td>\n",
       "      <td>158856</td>\n",
       "      <td>28903</td>\n",
       "      <td>188</td>\n",
       "      <td>1.39</td>\n",
       "      <td>Asia</td>\n",
       "    </tr>\n",
       "    <tr>\n",
       "      <th>3</th>\n",
       "      <td>Russia</td>\n",
       "      <td>4360033</td>\n",
       "      <td>91395</td>\n",
       "      <td>4350728</td>\n",
       "      <td>90958</td>\n",
       "      <td>9305</td>\n",
       "      <td>437</td>\n",
       "      <td>2.10</td>\n",
       "      <td>Europe</td>\n",
       "    </tr>\n",
       "    <tr>\n",
       "      <th>4</th>\n",
       "      <td>United Kingdom</td>\n",
       "      <td>4282203</td>\n",
       "      <td>125927</td>\n",
       "      <td>4276840</td>\n",
       "      <td>125817</td>\n",
       "      <td>5363</td>\n",
       "      <td>110</td>\n",
       "      <td>2.94</td>\n",
       "      <td>Europe</td>\n",
       "    </tr>\n",
       "  </tbody>\n",
       "</table>\n",
       "</div>"
      ],
      "text/plain": [
       "   Country/Region     Cases  Deaths    PCases  PDeaths  Cases (+)  Deaths (+)  \\\n",
       "0              US  29549003  536914  29495424   535628      53579        1286   \n",
       "1          Brazil  11603535  282127  11519609   279286      83926        2841   \n",
       "2           India  11438734  159044  11409831   158856      28903         188   \n",
       "3          Russia   4360033   91395   4350728    90958       9305         437   \n",
       "4  United Kingdom   4282203  125927   4276840   125817       5363         110   \n",
       "\n",
       "   Fatality Rate      Continent  \n",
       "0           1.82  North America  \n",
       "1           2.43  South America  \n",
       "2           1.39           Asia  \n",
       "3           2.10         Europe  \n",
       "4           2.94         Europe  "
      ]
     },
     "execution_count": 13,
     "metadata": {},
     "output_type": "execute_result"
    }
   ],
   "source": [
    "#hide\n",
    "for c in 'Cases, Deaths'.split(', '):\n",
    "    df_table[f'{c} (+)'] = (df_table[c] - df_table[f'P{c}']).clip(0)\n",
    "    #Clip ça veut dire, les chiffres negatif sont interdit\n",
    "df_table['Fatality Rate'] = (100* df_table['Deaths']/ df_table['Cases']).round(2)\n",
    "df_table['Continent'] = df_table['Country/Region'].map(mapping['map.continent'])\n",
    "df_table.head(5)"
   ]
  },
  {
   "cell_type": "code",
   "execution_count": 14,
   "id": "aboriginal-bulgaria",
   "metadata": {
    "execution": {
     "iopub.execute_input": "2021-03-18T00:12:12.185285Z",
     "iopub.status.busy": "2021-03-18T00:12:12.184647Z",
     "iopub.status.idle": "2021-03-18T00:12:12.187804Z",
     "shell.execute_reply": "2021-03-18T00:12:12.188429Z"
    },
    "papermill": {
     "duration": 0.050737,
     "end_time": "2021-03-18T00:12:12.188564",
     "exception": false,
     "start_time": "2021-03-18T00:12:12.137827",
     "status": "completed"
    },
    "tags": []
   },
   "outputs": [],
   "source": [
    "#hide\n",
    "#delete problematic countries from table\n",
    "df_table = df_table[~df_table['Country/Region'].isin(['Cape Verde', 'Cruise Ship', 'Kosovo'])]"
   ]
  },
  {
   "cell_type": "code",
   "execution_count": 15,
   "id": "fantastic-effect",
   "metadata": {
    "execution": {
     "iopub.execute_input": "2021-03-18T00:12:12.277312Z",
     "iopub.status.busy": "2021-03-18T00:12:12.276655Z",
     "iopub.status.idle": "2021-03-18T00:12:12.299155Z",
     "shell.execute_reply": "2021-03-18T00:12:12.299618Z"
    },
    "papermill": {
     "duration": 0.067856,
     "end_time": "2021-03-18T00:12:12.299757",
     "exception": false,
     "start_time": "2021-03-18T00:12:12.231901",
     "status": "completed"
    },
    "tags": []
   },
   "outputs": [
    {
     "data": {
      "text/html": [
       "<div>\n",
       "<style scoped>\n",
       "    .dataframe tbody tr th:only-of-type {\n",
       "        vertical-align: middle;\n",
       "    }\n",
       "\n",
       "    .dataframe tbody tr th {\n",
       "        vertical-align: top;\n",
       "    }\n",
       "\n",
       "    .dataframe thead th {\n",
       "        text-align: right;\n",
       "    }\n",
       "</style>\n",
       "<table border=\"1\" class=\"dataframe\">\n",
       "  <thead>\n",
       "    <tr style=\"text-align: right;\">\n",
       "      <th></th>\n",
       "      <th>Country/Region</th>\n",
       "      <th>Cases</th>\n",
       "      <th>Deaths</th>\n",
       "      <th>PCases</th>\n",
       "      <th>PDeaths</th>\n",
       "      <th>Cases (+)</th>\n",
       "      <th>Deaths (+)</th>\n",
       "      <th>Fatality Rate</th>\n",
       "      <th>Continent</th>\n",
       "    </tr>\n",
       "  </thead>\n",
       "  <tbody>\n",
       "    <tr>\n",
       "      <th>0</th>\n",
       "      <td>US</td>\n",
       "      <td>29549003</td>\n",
       "      <td>536914</td>\n",
       "      <td>29495424</td>\n",
       "      <td>535628</td>\n",
       "      <td>53579</td>\n",
       "      <td>1286</td>\n",
       "      <td>1.8</td>\n",
       "      <td>North America</td>\n",
       "    </tr>\n",
       "    <tr>\n",
       "      <th>1</th>\n",
       "      <td>Brazil</td>\n",
       "      <td>11603535</td>\n",
       "      <td>282127</td>\n",
       "      <td>11519609</td>\n",
       "      <td>279286</td>\n",
       "      <td>83926</td>\n",
       "      <td>2841</td>\n",
       "      <td>2.4</td>\n",
       "      <td>South America</td>\n",
       "    </tr>\n",
       "    <tr>\n",
       "      <th>2</th>\n",
       "      <td>India</td>\n",
       "      <td>11438734</td>\n",
       "      <td>159044</td>\n",
       "      <td>11409831</td>\n",
       "      <td>158856</td>\n",
       "      <td>28903</td>\n",
       "      <td>188</td>\n",
       "      <td>1.4</td>\n",
       "      <td>Asia</td>\n",
       "    </tr>\n",
       "    <tr>\n",
       "      <th>3</th>\n",
       "      <td>Russia</td>\n",
       "      <td>4360033</td>\n",
       "      <td>91395</td>\n",
       "      <td>4350728</td>\n",
       "      <td>90958</td>\n",
       "      <td>9305</td>\n",
       "      <td>437</td>\n",
       "      <td>2.1</td>\n",
       "      <td>Europe</td>\n",
       "    </tr>\n",
       "    <tr>\n",
       "      <th>4</th>\n",
       "      <td>United Kingdom</td>\n",
       "      <td>4282203</td>\n",
       "      <td>125927</td>\n",
       "      <td>4276840</td>\n",
       "      <td>125817</td>\n",
       "      <td>5363</td>\n",
       "      <td>110</td>\n",
       "      <td>2.9</td>\n",
       "      <td>Europe</td>\n",
       "    </tr>\n",
       "  </tbody>\n",
       "</table>\n",
       "</div>"
      ],
      "text/plain": [
       "   Country/Region     Cases  Deaths    PCases  PDeaths  Cases (+)  Deaths (+)  \\\n",
       "0              US  29549003  536914  29495424   535628      53579        1286   \n",
       "1          Brazil  11603535  282127  11519609   279286      83926        2841   \n",
       "2           India  11438734  159044  11409831   158856      28903         188   \n",
       "3          Russia   4360033   91395   4350728    90958       9305         437   \n",
       "4  United Kingdom   4282203  125927   4276840   125817       5363         110   \n",
       "\n",
       "   Fatality Rate      Continent  \n",
       "0            1.8  North America  \n",
       "1            2.4  South America  \n",
       "2            1.4           Asia  \n",
       "3            2.1         Europe  \n",
       "4            2.9         Europe  "
      ]
     },
     "execution_count": 15,
     "metadata": {},
     "output_type": "execute_result"
    }
   ],
   "source": [
    "#hide\n",
    "df_table = (pd.DataFrame(dict(Cases=dfc_cases, Deaths=dfc_deaths, PCases=dfp_cases, PDeaths=dfp_deaths))\n",
    "             .sort_values(by=['Cases', 'Deaths'], ascending=[False, False])\n",
    "             .reset_index())\n",
    "df_table.rename(columns={'index': 'Country/Region'}, inplace=True)\n",
    "for c in 'Cases, Deaths'.split(', '):\n",
    "    df_table[f'{c} (+)'] = (df_table[c] - df_table[f'P{c}']).clip(0)  # DATA BUG\n",
    "df_table['Fatality Rate'] = (100 * df_table['Deaths'] / df_table['Cases']).round(1)\n",
    "df_table['Continent'] = df_table['Country/Region'].map(mapping['map.continent'])\n",
    "df_table.head(5)"
   ]
  },
  {
   "cell_type": "code",
   "execution_count": 16,
   "id": "fewer-occasion",
   "metadata": {
    "execution": {
     "iopub.execute_input": "2021-03-18T00:12:12.381689Z",
     "iopub.status.busy": "2021-03-18T00:12:12.380943Z",
     "iopub.status.idle": "2021-03-18T00:12:12.384542Z",
     "shell.execute_reply": "2021-03-18T00:12:12.384065Z"
    },
    "papermill": {
     "duration": 0.046268,
     "end_time": "2021-03-18T00:12:12.384662",
     "exception": false,
     "start_time": "2021-03-18T00:12:12.338394",
     "status": "completed"
    },
    "tags": []
   },
   "outputs": [],
   "source": [
    "#hide\n",
    "#delete problematic countries from table\n",
    "df_table = df_table[~df_table['Country/Region'].isin(['Cape Verde', 'Cruise Ship', 'Kosovo'])]"
   ]
  },
  {
   "cell_type": "code",
   "execution_count": 17,
   "id": "related-center",
   "metadata": {
    "execution": {
     "iopub.execute_input": "2021-03-18T00:12:12.486508Z",
     "iopub.status.busy": "2021-03-18T00:12:12.485806Z",
     "iopub.status.idle": "2021-03-18T00:12:12.488303Z",
     "shell.execute_reply": "2021-03-18T00:12:12.488978Z"
    },
    "papermill": {
     "duration": 0.065107,
     "end_time": "2021-03-18T00:12:12.489141",
     "exception": false,
     "start_time": "2021-03-18T00:12:12.424034",
     "status": "completed"
    },
    "tags": []
   },
   "outputs": [],
   "source": [
    "#hide\n",
    "metrics = [df_table.columns[index] for index in [1,2,5,6]]\n",
    "# s_china = df_table[df_table['Country/Region'].eq('China')][metrics].sum().add_prefix('China ')\n",
    "s_us = df_table[df_table['Country/Region'].eq('US')][metrics].sum().add_prefix('US ')\n",
    "s_eu = df_table[df_table['Continent'].eq('Europe')][metrics].sum().add_prefix('EU ')\n",
    "s_ind = df_table[df_table['Country/Region'].eq('India')][metrics].sum().add_prefix('India ')\n",
    "summary = {'updated': pd.to_datetime(dt_today), 'since': pd.to_datetime(dt_yday)}\n",
    "summary = {'updated': pd.to_datetime(dt_today), 'since': pd.to_datetime(dt_yday)}\n",
    "summary = {**summary, **df_table[metrics].sum(), **s_ind, **s_us, **s_eu}"
   ]
  },
  {
   "cell_type": "code",
   "execution_count": 18,
   "id": "engaging-syndrome",
   "metadata": {
    "execution": {
     "iopub.execute_input": "2021-03-18T00:12:12.575043Z",
     "iopub.status.busy": "2021-03-18T00:12:12.574434Z",
     "iopub.status.idle": "2021-03-18T00:12:12.590225Z",
     "shell.execute_reply": "2021-03-18T00:12:12.590788Z"
    },
    "papermill": {
     "duration": 0.062798,
     "end_time": "2021-03-18T00:12:12.590936",
     "exception": false,
     "start_time": "2021-03-18T00:12:12.528138",
     "status": "completed"
    },
    "tags": []
   },
   "outputs": [],
   "source": [
    "#hide\n",
    "dft_ct_new_cases = dft_cases.groupby(COL_REGION)[dt_cols].sum().diff(axis=1).fillna(0).astype(int)"
   ]
  },
  {
   "cell_type": "code",
   "execution_count": 19,
   "id": "neutral-assignment",
   "metadata": {
    "execution": {
     "iopub.execute_input": "2021-03-18T00:12:12.673142Z",
     "iopub.status.busy": "2021-03-18T00:12:12.672365Z",
     "iopub.status.idle": "2021-03-18T00:12:12.674390Z",
     "shell.execute_reply": "2021-03-18T00:12:12.674989Z"
    },
    "papermill": {
     "duration": 0.045812,
     "end_time": "2021-03-18T00:12:12.675196",
     "exception": false,
     "start_time": "2021-03-18T00:12:12.629384",
     "status": "completed"
    },
    "tags": []
   },
   "outputs": [],
   "source": [
    "#hide\n",
    "everydaycases = dft_ct_new_cases.cumsum(axis=1)"
   ]
  },
  {
   "cell_type": "code",
   "execution_count": 20,
   "id": "parliamentary-calgary",
   "metadata": {
    "execution": {
     "iopub.execute_input": "2021-03-18T00:12:12.760397Z",
     "iopub.status.busy": "2021-03-18T00:12:12.759695Z",
     "iopub.status.idle": "2021-03-18T00:12:18.546372Z",
     "shell.execute_reply": "2021-03-18T00:12:18.546934Z"
    },
    "papermill": {
     "duration": 5.832052,
     "end_time": "2021-03-18T00:12:18.547188",
     "exception": false,
     "start_time": "2021-03-18T00:12:12.715136",
     "status": "completed"
    },
    "tags": []
   },
   "outputs": [
    {
     "name": "stderr",
     "output_type": "stream",
     "text": [
      "Matplotlib is building the font cache; this may take a moment.\n"
     ]
    }
   ],
   "source": [
    "#hide\n",
    "import pandas as pd\n",
    "import matplotlib.pyplot as plt\n",
    "import matplotlib.ticker as ticker\n",
    "import matplotlib.animation as animation\n",
    "from IPython.display import HTML"
   ]
  },
  {
   "cell_type": "code",
   "execution_count": 21,
   "id": "lasting-extraction",
   "metadata": {
    "execution": {
     "iopub.execute_input": "2021-03-18T00:12:18.638845Z",
     "iopub.status.busy": "2021-03-18T00:12:18.638260Z",
     "iopub.status.idle": "2021-03-18T00:12:18.643077Z",
     "shell.execute_reply": "2021-03-18T00:12:18.643593Z"
    },
    "papermill": {
     "duration": 0.051792,
     "end_time": "2021-03-18T00:12:18.643726",
     "exception": false,
     "start_time": "2021-03-18T00:12:18.591934",
     "status": "completed"
    },
    "tags": []
   },
   "outputs": [],
   "source": [
    "#hide\n",
    "t = everydaycases.stack()"
   ]
  },
  {
   "cell_type": "code",
   "execution_count": 22,
   "id": "premier-sleeve",
   "metadata": {
    "execution": {
     "iopub.execute_input": "2021-03-18T00:12:18.726355Z",
     "iopub.status.busy": "2021-03-18T00:12:18.725653Z",
     "iopub.status.idle": "2021-03-18T00:12:18.733421Z",
     "shell.execute_reply": "2021-03-18T00:12:18.734067Z"
    },
    "papermill": {
     "duration": 0.053483,
     "end_time": "2021-03-18T00:12:18.734266",
     "exception": false,
     "start_time": "2021-03-18T00:12:18.680783",
     "status": "completed"
    },
    "tags": []
   },
   "outputs": [],
   "source": [
    "#hide\n",
    "g = t.reset_index(['Country/Region'])"
   ]
  },
  {
   "cell_type": "code",
   "execution_count": 23,
   "id": "distributed-pittsburgh",
   "metadata": {
    "execution": {
     "iopub.execute_input": "2021-03-18T00:12:18.818911Z",
     "iopub.status.busy": "2021-03-18T00:12:18.818360Z",
     "iopub.status.idle": "2021-03-18T00:12:18.822772Z",
     "shell.execute_reply": "2021-03-18T00:12:18.822130Z"
    },
    "papermill": {
     "duration": 0.048011,
     "end_time": "2021-03-18T00:12:18.822976",
     "exception": false,
     "start_time": "2021-03-18T00:12:18.774965",
     "status": "completed"
    },
    "tags": []
   },
   "outputs": [],
   "source": [
    "#hide\n",
    "g.index.name = 'date'"
   ]
  },
  {
   "cell_type": "code",
   "execution_count": 24,
   "id": "naked-donor",
   "metadata": {
    "execution": {
     "iopub.execute_input": "2021-03-18T00:12:18.920590Z",
     "iopub.status.busy": "2021-03-18T00:12:18.919911Z",
     "iopub.status.idle": "2021-03-18T00:12:18.922093Z",
     "shell.execute_reply": "2021-03-18T00:12:18.922636Z"
    },
    "papermill": {
     "duration": 0.050044,
     "end_time": "2021-03-18T00:12:18.922877",
     "exception": false,
     "start_time": "2021-03-18T00:12:18.872833",
     "status": "completed"
    },
    "tags": []
   },
   "outputs": [],
   "source": [
    "# #hide\n",
    "# g = g.reset_index(['date'])"
   ]
  },
  {
   "cell_type": "code",
   "execution_count": 25,
   "id": "incomplete-mustang",
   "metadata": {
    "execution": {
     "iopub.execute_input": "2021-03-18T00:12:19.010517Z",
     "iopub.status.busy": "2021-03-18T00:12:19.009855Z",
     "iopub.status.idle": "2021-03-18T00:12:19.012157Z",
     "shell.execute_reply": "2021-03-18T00:12:19.012768Z"
    },
    "papermill": {
     "duration": 0.048772,
     "end_time": "2021-03-18T00:12:19.012982",
     "exception": false,
     "start_time": "2021-03-18T00:12:18.964210",
     "status": "completed"
    },
    "tags": []
   },
   "outputs": [],
   "source": [
    "#hide\n",
    "# g.head()"
   ]
  },
  {
   "cell_type": "code",
   "execution_count": 26,
   "id": "specific-kruger",
   "metadata": {
    "execution": {
     "iopub.execute_input": "2021-03-18T00:12:19.100296Z",
     "iopub.status.busy": "2021-03-18T00:12:19.099549Z",
     "iopub.status.idle": "2021-03-18T00:12:19.100990Z",
     "shell.execute_reply": "2021-03-18T00:12:19.101645Z"
    },
    "papermill": {
     "duration": 0.048294,
     "end_time": "2021-03-18T00:12:19.101806",
     "exception": false,
     "start_time": "2021-03-18T00:12:19.053512",
     "status": "completed"
    },
    "tags": []
   },
   "outputs": [],
   "source": [
    "#hide\n",
    "# g.columns = ['date','country','cases']"
   ]
  },
  {
   "cell_type": "code",
   "execution_count": 27,
   "id": "tender-conversion",
   "metadata": {
    "execution": {
     "iopub.execute_input": "2021-03-18T00:12:19.202708Z",
     "iopub.status.busy": "2021-03-18T00:12:19.202005Z",
     "iopub.status.idle": "2021-03-18T00:12:19.205147Z",
     "shell.execute_reply": "2021-03-18T00:12:19.204573Z"
    },
    "papermill": {
     "duration": 0.061295,
     "end_time": "2021-03-18T00:12:19.205311",
     "exception": false,
     "start_time": "2021-03-18T00:12:19.144016",
     "status": "completed"
    },
    "tags": []
   },
   "outputs": [],
   "source": [
    "#hide\n",
    "# g['continent'] = g.country"
   ]
  },
  {
   "cell_type": "code",
   "execution_count": 28,
   "id": "substantial-wilderness",
   "metadata": {
    "execution": {
     "iopub.execute_input": "2021-03-18T00:12:19.294803Z",
     "iopub.status.busy": "2021-03-18T00:12:19.294173Z",
     "iopub.status.idle": "2021-03-18T00:12:19.296546Z",
     "shell.execute_reply": "2021-03-18T00:12:19.296023Z"
    },
    "papermill": {
     "duration": 0.04781,
     "end_time": "2021-03-18T00:12:19.296670",
     "exception": false,
     "start_time": "2021-03-18T00:12:19.248860",
     "status": "completed"
    },
    "tags": []
   },
   "outputs": [],
   "source": [
    "#hide\n",
    "# cols = list(g.columns.values)"
   ]
  },
  {
   "cell_type": "code",
   "execution_count": 29,
   "id": "solved-farming",
   "metadata": {
    "execution": {
     "iopub.execute_input": "2021-03-18T00:12:19.384912Z",
     "iopub.status.busy": "2021-03-18T00:12:19.384285Z",
     "iopub.status.idle": "2021-03-18T00:12:19.386798Z",
     "shell.execute_reply": "2021-03-18T00:12:19.386207Z"
    },
    "papermill": {
     "duration": 0.049094,
     "end_time": "2021-03-18T00:12:19.386924",
     "exception": false,
     "start_time": "2021-03-18T00:12:19.337830",
     "status": "completed"
    },
    "tags": []
   },
   "outputs": [],
   "source": [
    "#hide\n",
    "# cols.insert(0, cols.pop())"
   ]
  },
  {
   "cell_type": "code",
   "execution_count": 30,
   "id": "executed-adoption",
   "metadata": {
    "execution": {
     "iopub.execute_input": "2021-03-18T00:12:19.475541Z",
     "iopub.status.busy": "2021-03-18T00:12:19.474407Z",
     "iopub.status.idle": "2021-03-18T00:12:19.476202Z",
     "shell.execute_reply": "2021-03-18T00:12:19.476875Z"
    },
    "papermill": {
     "duration": 0.049035,
     "end_time": "2021-03-18T00:12:19.477027",
     "exception": false,
     "start_time": "2021-03-18T00:12:19.427992",
     "status": "completed"
    },
    "tags": []
   },
   "outputs": [],
   "source": [
    "#hide\n",
    "# g = g[cols]"
   ]
  },
  {
   "cell_type": "code",
   "execution_count": 31,
   "id": "subject-dublin",
   "metadata": {
    "execution": {
     "iopub.execute_input": "2021-03-18T00:12:19.565420Z",
     "iopub.status.busy": "2021-03-18T00:12:19.564676Z",
     "iopub.status.idle": "2021-03-18T00:12:19.567641Z",
     "shell.execute_reply": "2021-03-18T00:12:19.568209Z"
    },
    "papermill": {
     "duration": 0.049679,
     "end_time": "2021-03-18T00:12:19.568458",
     "exception": false,
     "start_time": "2021-03-18T00:12:19.518779",
     "status": "completed"
    },
    "tags": []
   },
   "outputs": [],
   "source": [
    "#hide\n",
    "# g['continent'] = g['continent'].map(mapping['map.continent'])"
   ]
  },
  {
   "cell_type": "code",
   "execution_count": 32,
   "id": "freelance-scout",
   "metadata": {
    "execution": {
     "iopub.execute_input": "2021-03-18T00:12:19.655971Z",
     "iopub.status.busy": "2021-03-18T00:12:19.655331Z",
     "iopub.status.idle": "2021-03-18T00:12:19.656933Z",
     "shell.execute_reply": "2021-03-18T00:12:19.657561Z"
    },
    "papermill": {
     "duration": 0.047977,
     "end_time": "2021-03-18T00:12:19.657702",
     "exception": false,
     "start_time": "2021-03-18T00:12:19.609725",
     "status": "completed"
    },
    "tags": []
   },
   "outputs": [],
   "source": [
    "#hide\n",
    "# g.head()"
   ]
  },
  {
   "cell_type": "code",
   "execution_count": 33,
   "id": "limited-engine",
   "metadata": {
    "execution": {
     "iopub.execute_input": "2021-03-18T00:12:19.750854Z",
     "iopub.status.busy": "2021-03-18T00:12:19.750186Z",
     "iopub.status.idle": "2021-03-18T00:12:19.752252Z",
     "shell.execute_reply": "2021-03-18T00:12:19.753060Z"
    },
    "papermill": {
     "duration": 0.048785,
     "end_time": "2021-03-18T00:12:19.753243",
     "exception": false,
     "start_time": "2021-03-18T00:12:19.704458",
     "status": "completed"
    },
    "tags": []
   },
   "outputs": [],
   "source": [
    "# hide\n",
    "# g['date'] = g['date'].astype('datetime64[ns]')"
   ]
  },
  {
   "cell_type": "code",
   "execution_count": 34,
   "id": "sophisticated-supervisor",
   "metadata": {
    "execution": {
     "iopub.execute_input": "2021-03-18T00:12:19.850268Z",
     "iopub.status.busy": "2021-03-18T00:12:19.849453Z",
     "iopub.status.idle": "2021-03-18T00:12:19.852734Z",
     "shell.execute_reply": "2021-03-18T00:12:19.853227Z"
    },
    "papermill": {
     "duration": 0.054546,
     "end_time": "2021-03-18T00:12:19.853378",
     "exception": false,
     "start_time": "2021-03-18T00:12:19.798832",
     "status": "completed"
    },
    "tags": []
   },
   "outputs": [],
   "source": [
    "#hide\n",
    "# g['date'] = g.date.dt.dayofyear"
   ]
  },
  {
   "cell_type": "code",
   "execution_count": 35,
   "id": "inside-dubai",
   "metadata": {
    "execution": {
     "iopub.execute_input": "2021-03-18T00:12:20.144463Z",
     "iopub.status.busy": "2021-03-18T00:12:20.143858Z",
     "iopub.status.idle": "2021-03-18T00:12:20.146777Z",
     "shell.execute_reply": "2021-03-18T00:12:20.146166Z"
    },
    "papermill": {
     "duration": 0.251428,
     "end_time": "2021-03-18T00:12:20.146902",
     "exception": false,
     "start_time": "2021-03-18T00:12:19.895474",
     "status": "completed"
    },
    "tags": []
   },
   "outputs": [],
   "source": [
    "#hide\n",
    "# g = g.rename(columns= {'continent':'group','country':'name','cases':'value'})"
   ]
  },
  {
   "cell_type": "code",
   "execution_count": 36,
   "id": "fleet-motorcycle",
   "metadata": {
    "execution": {
     "iopub.execute_input": "2021-03-18T00:12:20.598693Z",
     "iopub.status.busy": "2021-03-18T00:12:20.597949Z",
     "iopub.status.idle": "2021-03-18T00:12:20.599956Z",
     "shell.execute_reply": "2021-03-18T00:12:20.600456Z"
    },
    "papermill": {
     "duration": 0.050526,
     "end_time": "2021-03-18T00:12:20.600611",
     "exception": false,
     "start_time": "2021-03-18T00:12:20.550085",
     "status": "completed"
    },
    "tags": []
   },
   "outputs": [],
   "source": [
    "#hide\n",
    "# cols = ['name','group','day','value']"
   ]
  },
  {
   "cell_type": "code",
   "execution_count": 37,
   "id": "continued-sleeping",
   "metadata": {
    "execution": {
     "iopub.execute_input": "2021-03-18T00:12:20.685699Z",
     "iopub.status.busy": "2021-03-18T00:12:20.684990Z",
     "iopub.status.idle": "2021-03-18T00:12:20.687503Z",
     "shell.execute_reply": "2021-03-18T00:12:20.686931Z"
    },
    "papermill": {
     "duration": 0.047233,
     "end_time": "2021-03-18T00:12:20.687641",
     "exception": false,
     "start_time": "2021-03-18T00:12:20.640408",
     "status": "completed"
    },
    "tags": []
   },
   "outputs": [],
   "source": [
    "#hide\n",
    "# g.rename(columns= {'date':'day'},inplace = True)"
   ]
  },
  {
   "cell_type": "code",
   "execution_count": 38,
   "id": "major-fight",
   "metadata": {
    "execution": {
     "iopub.execute_input": "2021-03-18T00:12:20.777426Z",
     "iopub.status.busy": "2021-03-18T00:12:20.776684Z",
     "iopub.status.idle": "2021-03-18T00:12:20.779098Z",
     "shell.execute_reply": "2021-03-18T00:12:20.778541Z"
    },
    "papermill": {
     "duration": 0.047621,
     "end_time": "2021-03-18T00:12:20.779233",
     "exception": false,
     "start_time": "2021-03-18T00:12:20.731612",
     "status": "completed"
    },
    "tags": []
   },
   "outputs": [],
   "source": [
    "#hide\n",
    "# g = g[cols]"
   ]
  },
  {
   "cell_type": "code",
   "execution_count": 39,
   "id": "structured-mobile",
   "metadata": {
    "execution": {
     "iopub.execute_input": "2021-03-18T00:12:20.881998Z",
     "iopub.status.busy": "2021-03-18T00:12:20.880563Z",
     "iopub.status.idle": "2021-03-18T00:12:20.882771Z",
     "shell.execute_reply": "2021-03-18T00:12:20.883307Z"
    },
    "papermill": {
     "duration": 0.049841,
     "end_time": "2021-03-18T00:12:20.883505",
     "exception": false,
     "start_time": "2021-03-18T00:12:20.833664",
     "status": "completed"
    },
    "tags": []
   },
   "outputs": [],
   "source": [
    "# #hide\n",
    "# g = g[g.group.notna()]"
   ]
  },
  {
   "cell_type": "code",
   "execution_count": 40,
   "id": "determined-closing",
   "metadata": {
    "execution": {
     "iopub.execute_input": "2021-03-18T00:12:20.971012Z",
     "iopub.status.busy": "2021-03-18T00:12:20.970258Z",
     "iopub.status.idle": "2021-03-18T00:12:20.972862Z",
     "shell.execute_reply": "2021-03-18T00:12:20.972262Z"
    },
    "papermill": {
     "duration": 0.047289,
     "end_time": "2021-03-18T00:12:20.973172",
     "exception": false,
     "start_time": "2021-03-18T00:12:20.925883",
     "status": "completed"
    },
    "tags": []
   },
   "outputs": [],
   "source": [
    "# #hide\n",
    "# colors = dict(zip(\n",
    "#     [\"Oceania\", \"Europe\", \"Asia\", \"South America\", \"Middle East\", \"North America\", \"Africa\"],\n",
    "#     [\"#adb0ff\", \"#ffb3ff\", \"#90d595\", \"#e48381\", \"#aafbff\", \"#f7bb5f\", \"#eafb50\"]\n",
    "# ))\n",
    "# group_lk = g.set_index('name')['group'].to_dict()"
   ]
  },
  {
   "cell_type": "code",
   "execution_count": null,
   "id": "gross-drinking",
   "metadata": {
    "papermill": {
     "duration": 0.042743,
     "end_time": "2021-03-18T00:12:21.057529",
     "exception": false,
     "start_time": "2021-03-18T00:12:21.014786",
     "status": "completed"
    },
    "tags": []
   },
   "outputs": [],
   "source": []
  },
  {
   "cell_type": "code",
   "execution_count": 41,
   "id": "subject-macintosh",
   "metadata": {
    "execution": {
     "iopub.execute_input": "2021-03-18T00:12:21.149411Z",
     "iopub.status.busy": "2021-03-18T00:12:21.148664Z",
     "iopub.status.idle": "2021-03-18T00:12:21.151266Z",
     "shell.execute_reply": "2021-03-18T00:12:21.150683Z"
    },
    "papermill": {
     "duration": 0.050907,
     "end_time": "2021-03-18T00:12:21.151402",
     "exception": false,
     "start_time": "2021-03-18T00:12:21.100495",
     "status": "completed"
    },
    "tags": []
   },
   "outputs": [],
   "source": [
    "# #hide\n",
    "# fig, ax = plt.subplots(figsize=(15, 8))\n",
    "\n",
    "# def draw_barchart(current_day):\n",
    "#     dff = g[g['day'].eq(current_day)].sort_values(by='value', ascending=True).tail(10)\n",
    "#     ax.clear()\n",
    "#     ax.barh(dff['name'], dff['value'], color=[colors[group_lk[x]] for x in dff['name']])\n",
    "#     dx = dff['value'].max() / 200\n",
    "    \n",
    "#     for i, (value, name) in enumerate(zip(dff['value'], dff['name'])):\n",
    "#         ax.text(value-dx, i,     name,           size=14, weight=600, ha='right', va='bottom')\n",
    "#         ax.text(value-dx, i-.25, group_lk[name], size=10, color='#444444', ha='right', va='baseline')\n",
    "#         ax.text(value+dx, i,     f'{value:,.0f}',  size=14, ha='left',  va='center')\n",
    "#     ax.text(1, 0.4, current_day, transform=ax.transAxes, color='#777777', size=46, ha='right', weight=800)\n",
    "#     ax.text(0, 1.06, 'Population (thousands)', transform=ax.transAxes, size=12, color='#777777')\n",
    "#     ax.xaxis.set_major_formatter(ticker.StrMethodFormatter('{x:,.0f}'))\n",
    "#     ax.xaxis.set_ticks_position('top')\n",
    "#     ax.tick_params(axis='x', colors='#777777', labelsize=12)\n",
    "#     ax.set_yticks([])\n",
    "#     ax.margins(0, 0.01)\n",
    "#     ax.grid(which='major', axis='x', linestyle='-')\n",
    "#     ax.set_axisbelow(True)\n",
    "    \n",
    "#     ax.text(0, 1.15, 'Coronavirus',\n",
    "#             transform=ax.transAxes, size=24, weight=600, ha='left', va='top')\n",
    "# #     ax.text(1, 0, 'by @pratapvardhan; credit @jburnmurdoch', transform=ax.transAxes, color='#777777', ha='right',\n",
    "# #             bbox=dict(facecolor='white', alpha=0.8, edgecolor='white'))\n",
    "#     plt.box(False)"
   ]
  },
  {
   "cell_type": "code",
   "execution_count": 42,
   "id": "sexual-wages",
   "metadata": {
    "execution": {
     "iopub.execute_input": "2021-03-18T00:12:21.238760Z",
     "iopub.status.busy": "2021-03-18T00:12:21.238003Z",
     "iopub.status.idle": "2021-03-18T00:12:21.240322Z",
     "shell.execute_reply": "2021-03-18T00:12:21.240956Z"
    },
    "papermill": {
     "duration": 0.048554,
     "end_time": "2021-03-18T00:12:21.241107",
     "exception": false,
     "start_time": "2021-03-18T00:12:21.192553",
     "status": "completed"
    },
    "tags": []
   },
   "outputs": [],
   "source": [
    "# #hide_input\n",
    "# fig, ax = plt.subplots(figsize=(15, 8))\n",
    "# animator = animation.FuncAnimation(fig, draw_barchart, frames=range(g.day.values.min(), g.day.values.max()))\n",
    "# HTML(animator.to_jshtml())\n",
    "# # or use animator.to_html5_video() or animator.save() "
   ]
  },
  {
   "cell_type": "code",
   "execution_count": null,
   "id": "australian-container",
   "metadata": {
    "papermill": {
     "duration": 0.04665,
     "end_time": "2021-03-18T00:12:21.329701",
     "exception": false,
     "start_time": "2021-03-18T00:12:21.283051",
     "status": "completed"
    },
    "tags": []
   },
   "outputs": [],
   "source": []
  },
  {
   "cell_type": "code",
   "execution_count": null,
   "id": "mediterranean-pontiac",
   "metadata": {
    "papermill": {
     "duration": 0.043356,
     "end_time": "2021-03-18T00:12:21.417261",
     "exception": false,
     "start_time": "2021-03-18T00:12:21.373905",
     "status": "completed"
    },
    "tags": []
   },
   "outputs": [],
   "source": []
  },
  {
   "cell_type": "code",
   "execution_count": null,
   "id": "aging-legislature",
   "metadata": {
    "papermill": {
     "duration": 0.040185,
     "end_time": "2021-03-18T00:12:21.498465",
     "exception": false,
     "start_time": "2021-03-18T00:12:21.458280",
     "status": "completed"
    },
    "tags": []
   },
   "outputs": [],
   "source": []
  }
 ],
 "metadata": {
  "kernelspec": {
   "display_name": "Python 3",
   "language": "python",
   "name": "python3"
  },
  "language_info": {
   "codemirror_mode": {
    "name": "ipython",
    "version": 3
   },
   "file_extension": ".py",
   "mimetype": "text/x-python",
   "name": "python",
   "nbconvert_exporter": "python",
   "pygments_lexer": "ipython3",
   "version": "3.6.13"
  },
  "papermill": {
   "duration": 12.799288,
   "end_time": "2021-03-18T00:12:21.849628",
   "environment_variables": {},
   "exception": null,
   "input_path": "2020-03-21-covid19exp.ipynb",
   "output_path": "2020-03-21-covid19exp.ipynb",
   "parameters": {},
   "start_time": "2021-03-18T00:12:09.050340",
   "version": "2.0.0"
  }
 },
 "nbformat": 4,
 "nbformat_minor": 5
}