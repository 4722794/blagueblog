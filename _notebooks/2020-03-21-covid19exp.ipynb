{
 "cells": [
  {
   "cell_type": "markdown",
   "id": "muslim-click",
   "metadata": {
    "papermill": {
     "duration": 0.03163,
     "end_time": "2021-07-10T12:10:02.765889",
     "exception": false,
     "start_time": "2021-07-10T12:10:02.734259",
     "status": "completed"
    },
    "tags": []
   },
   "source": [
    "# COVID-19 Case Race\n",
    "> A race chart to see rising cases around the world\n",
    "\n",
    "- author: Hargun Oberoi\n",
    "- image: images/covid-overview.png\n",
    "- hide: false\n",
    "- badges: false"
   ]
  },
  {
   "cell_type": "code",
   "execution_count": 1,
   "id": "proof-material",
   "metadata": {
    "execution": {
     "iopub.execute_input": "2021-07-10T12:10:02.828983Z",
     "iopub.status.busy": "2021-07-10T12:10:02.828526Z",
     "iopub.status.idle": "2021-07-10T12:10:03.145554Z",
     "shell.execute_reply": "2021-07-10T12:10:03.145099Z"
    },
    "papermill": {
     "duration": 0.353262,
     "end_time": "2021-07-10T12:10:03.145689",
     "exception": false,
     "start_time": "2021-07-10T12:10:02.792427",
     "status": "completed"
    },
    "tags": []
   },
   "outputs": [],
   "source": [
    "#hide\n",
    "import numpy as np\n",
    "import pandas as pd\n",
    "from jinja2 import Template\n",
    "from IPython.display import HTML"
   ]
  },
  {
   "cell_type": "code",
   "execution_count": 2,
   "id": "developed-terminology",
   "metadata": {
    "execution": {
     "iopub.execute_input": "2021-07-10T12:10:03.203650Z",
     "iopub.status.busy": "2021-07-10T12:10:03.203064Z",
     "iopub.status.idle": "2021-07-10T12:10:03.205716Z",
     "shell.execute_reply": "2021-07-10T12:10:03.205233Z"
    },
    "papermill": {
     "duration": 0.032993,
     "end_time": "2021-07-10T12:10:03.205819",
     "exception": false,
     "start_time": "2021-07-10T12:10:03.172826",
     "status": "completed"
    },
    "tags": []
   },
   "outputs": [],
   "source": [
    "#hide\n",
    "\n",
    "# FETCH\n",
    "base_url = 'https://raw.githubusercontent.com/pratapvardhan/notebooks/master/covid19/'\n",
    "paths = {\n",
    "    'mapping': base_url + 'mapping_countries.csv',\n",
    "    'overview': base_url + 'overview.tpl'\n",
    "}"
   ]
  },
  {
   "cell_type": "code",
   "execution_count": 3,
   "id": "dynamic-saver",
   "metadata": {
    "execution": {
     "iopub.execute_input": "2021-07-10T12:10:03.273632Z",
     "iopub.status.busy": "2021-07-10T12:10:03.273112Z",
     "iopub.status.idle": "2021-07-10T12:10:03.274891Z",
     "shell.execute_reply": "2021-07-10T12:10:03.275313Z"
    },
    "papermill": {
     "duration": 0.040148,
     "end_time": "2021-07-10T12:10:03.275432",
     "exception": false,
     "start_time": "2021-07-10T12:10:03.235284",
     "status": "completed"
    },
    "tags": []
   },
   "outputs": [
    {
     "data": {
      "text/plain": [
       "'https://raw.githubusercontent.com/pratapvardhan/notebooks/master/covid19/mapping_countries.csv'"
      ]
     },
     "execution_count": 3,
     "metadata": {},
     "output_type": "execute_result"
    }
   ],
   "source": [
    "#hide\n",
    "paths['mapping']"
   ]
  },
  {
   "cell_type": "code",
   "execution_count": 4,
   "id": "urban-software",
   "metadata": {
    "execution": {
     "iopub.execute_input": "2021-07-10T12:10:03.340772Z",
     "iopub.status.busy": "2021-07-10T12:10:03.340281Z",
     "iopub.status.idle": "2021-07-10T12:10:03.342157Z",
     "shell.execute_reply": "2021-07-10T12:10:03.342550Z"
    },
    "papermill": {
     "duration": 0.03648,
     "end_time": "2021-07-10T12:10:03.342664",
     "exception": false,
     "start_time": "2021-07-10T12:10:03.306184",
     "status": "completed"
    },
    "tags": []
   },
   "outputs": [],
   "source": [
    "#hide\n",
    "def get_mappings(url):\n",
    "    df = pd.read_csv(url)\n",
    "    return {\n",
    "        'df': df,\n",
    "        'replace.country': dict(df.dropna(subset=['Name']).set_index('Country')['Name']),\n",
    "        'map.continent': dict(df.set_index('Name')['Continent'])\n",
    "    }"
   ]
  },
  {
   "cell_type": "code",
   "execution_count": 5,
   "id": "intimate-machinery",
   "metadata": {
    "execution": {
     "iopub.execute_input": "2021-07-10T12:10:03.406952Z",
     "iopub.status.busy": "2021-07-10T12:10:03.406448Z",
     "iopub.status.idle": "2021-07-10T12:10:03.474702Z",
     "shell.execute_reply": "2021-07-10T12:10:03.474204Z"
    },
    "papermill": {
     "duration": 0.10266,
     "end_time": "2021-07-10T12:10:03.474824",
     "exception": false,
     "start_time": "2021-07-10T12:10:03.372164",
     "status": "completed"
    },
    "tags": []
   },
   "outputs": [],
   "source": [
    "#hide\n",
    "mapping = get_mappings(paths['mapping'])"
   ]
  },
  {
   "cell_type": "code",
   "execution_count": 6,
   "id": "certified-tactics",
   "metadata": {
    "execution": {
     "iopub.execute_input": "2021-07-10T12:10:03.539830Z",
     "iopub.status.busy": "2021-07-10T12:10:03.539327Z",
     "iopub.status.idle": "2021-07-10T12:10:03.541472Z",
     "shell.execute_reply": "2021-07-10T12:10:03.541060Z"
    },
    "papermill": {
     "duration": 0.036223,
     "end_time": "2021-07-10T12:10:03.541572",
     "exception": false,
     "start_time": "2021-07-10T12:10:03.505349",
     "status": "completed"
    },
    "tags": []
   },
   "outputs": [],
   "source": [
    "#hide\n",
    "def get_template(path):\n",
    "    from urllib.parse import urlparse\n",
    "    if bool(urlparse(path).netloc):\n",
    "        from urllib.request import urlopen\n",
    "        return urlopen(path).read().decode('utf8')\n",
    "    return open(path).read()"
   ]
  },
  {
   "cell_type": "code",
   "execution_count": 7,
   "id": "realistic-blast",
   "metadata": {
    "execution": {
     "iopub.execute_input": "2021-07-10T12:10:03.605726Z",
     "iopub.status.busy": "2021-07-10T12:10:03.605237Z",
     "iopub.status.idle": "2021-07-10T12:10:03.606995Z",
     "shell.execute_reply": "2021-07-10T12:10:03.607459Z"
    },
    "papermill": {
     "duration": 0.03611,
     "end_time": "2021-07-10T12:10:03.607573",
     "exception": false,
     "start_time": "2021-07-10T12:10:03.571463",
     "status": "completed"
    },
    "tags": []
   },
   "outputs": [],
   "source": [
    "#hide\n",
    "def get_frame(name):\n",
    "    url = (\n",
    "        'https://raw.githubusercontent.com/CSSEGISandData/COVID-19/master/csse_covid_19_data/'\n",
    "        f'csse_covid_19_time_series/time_series_covid19_{name}_global.csv')\n",
    "    df = pd.read_csv(url)\n",
    "    # rename countries\n",
    "    df['Country/Region'] = df['Country/Region'].replace(mapping['replace.country'])\n",
    "    return df"
   ]
  },
  {
   "cell_type": "code",
   "execution_count": 8,
   "id": "affiliated-characterization",
   "metadata": {
    "execution": {
     "iopub.execute_input": "2021-07-10T12:10:03.672381Z",
     "iopub.status.busy": "2021-07-10T12:10:03.671884Z",
     "iopub.status.idle": "2021-07-10T12:10:03.673407Z",
     "shell.execute_reply": "2021-07-10T12:10:03.673776Z"
    },
    "papermill": {
     "duration": 0.036801,
     "end_time": "2021-07-10T12:10:03.673897",
     "exception": false,
     "start_time": "2021-07-10T12:10:03.637096",
     "status": "completed"
    },
    "tags": []
   },
   "outputs": [],
   "source": [
    "#hide\n",
    "def get_dates(df):\n",
    "    dt_cols = df.columns[~df.columns.isin(['Province/State', 'Country/Region', 'Lat', 'Long'])]\n",
    "    LAST_DATE_I = -1\n",
    "    # sometimes last column may be empty, then go backwards\n",
    "    for i in range(-1, -len(dt_cols), -1):\n",
    "        if not df[dt_cols[i]].fillna(0).eq(0).all():\n",
    "            LAST_DATE_I = i\n",
    "            break\n",
    "    return LAST_DATE_I, dt_cols"
   ]
  },
  {
   "cell_type": "code",
   "execution_count": 9,
   "id": "recent-optimization",
   "metadata": {
    "execution": {
     "iopub.execute_input": "2021-07-10T12:10:03.737665Z",
     "iopub.status.busy": "2021-07-10T12:10:03.736812Z",
     "iopub.status.idle": "2021-07-10T12:10:04.230491Z",
     "shell.execute_reply": "2021-07-10T12:10:04.229475Z"
    },
    "papermill": {
     "duration": 0.527118,
     "end_time": "2021-07-10T12:10:04.230624",
     "exception": false,
     "start_time": "2021-07-10T12:10:03.703506",
     "status": "completed"
    },
    "tags": []
   },
   "outputs": [],
   "source": [
    "#hide\n",
    "COL_REGION = 'Country/Region'\n",
    "# Confirmed, Recovered, Deaths\n",
    "df = get_frame('confirmed')\n",
    "# dft_: timeseries, dfc_: today country agg\n",
    "dft_cases = df\n",
    "dft_deaths = get_frame('deaths')\n",
    "dft_recovered = get_frame('recovered')\n",
    "LAST_DATE_I, dt_cols = get_dates(df)"
   ]
  },
  {
   "cell_type": "code",
   "execution_count": 10,
   "id": "absolute-copper",
   "metadata": {
    "execution": {
     "iopub.execute_input": "2021-07-10T12:10:04.295627Z",
     "iopub.status.busy": "2021-07-10T12:10:04.295125Z",
     "iopub.status.idle": "2021-07-10T12:10:04.297254Z",
     "shell.execute_reply": "2021-07-10T12:10:04.296855Z"
    },
    "papermill": {
     "duration": 0.036603,
     "end_time": "2021-07-10T12:10:04.297362",
     "exception": false,
     "start_time": "2021-07-10T12:10:04.260759",
     "status": "completed"
    },
    "tags": []
   },
   "outputs": [],
   "source": [
    "#hide\n",
    "LAST_DATE_I, dt_cols = get_dates(df)\n",
    "dt_today =dt_cols[LAST_DATE_I]\n",
    "# dt_5day = dt_cols[LAST_DATE_I - 5]\n",
    "dt_yday = dt_cols[LAST_DATE_I - 1]"
   ]
  },
  {
   "cell_type": "code",
   "execution_count": 11,
   "id": "restricted-sheriff",
   "metadata": {
    "execution": {
     "iopub.execute_input": "2021-07-10T12:10:04.361960Z",
     "iopub.status.busy": "2021-07-10T12:10:04.361467Z",
     "iopub.status.idle": "2021-07-10T12:10:04.367863Z",
     "shell.execute_reply": "2021-07-10T12:10:04.367445Z"
    },
    "papermill": {
     "duration": 0.041068,
     "end_time": "2021-07-10T12:10:04.367970",
     "exception": false,
     "start_time": "2021-07-10T12:10:04.326902",
     "status": "completed"
    },
    "tags": []
   },
   "outputs": [],
   "source": [
    "#hide\n",
    "dfc_cases = dft_cases.groupby(COL_REGION)[dt_today].sum()\n",
    "dfc_deaths = dft_deaths.groupby(COL_REGION)[dt_today].sum()\n",
    "# dfp_cases = dft_cases.groupby(COL_REGION)[dt_5day].sum()\n",
    "# dfp_deaths = dft_deaths.groupby(COL_REGION)[dt_5day].sum()\n",
    "dfp_cases = dft_cases.groupby(COL_REGION)[dt_yday].sum()\n",
    "dfp_deaths = dft_deaths.groupby(COL_REGION)[dt_yday].sum()"
   ]
  },
  {
   "cell_type": "code",
   "execution_count": 12,
   "id": "deluxe-hepatitis",
   "metadata": {
    "execution": {
     "iopub.execute_input": "2021-07-10T12:10:04.433315Z",
     "iopub.status.busy": "2021-07-10T12:10:04.432819Z",
     "iopub.status.idle": "2021-07-10T12:10:04.436825Z",
     "shell.execute_reply": "2021-07-10T12:10:04.436404Z"
    },
    "papermill": {
     "duration": 0.039104,
     "end_time": "2021-07-10T12:10:04.436931",
     "exception": false,
     "start_time": "2021-07-10T12:10:04.397827",
     "status": "completed"
    },
    "tags": []
   },
   "outputs": [],
   "source": [
    "#hide\n",
    "df_table = (pd.DataFrame(dict(Cases = dfc_cases, Deaths = dfc_deaths, PCases = dfp_cases, PDeaths = dfp_deaths))\n",
    "            .sort_values(by = ['Cases','Deaths'], ascending = [False, False])\n",
    "            .reset_index())"
   ]
  },
  {
   "cell_type": "code",
   "execution_count": 13,
   "id": "educational-chancellor",
   "metadata": {
    "execution": {
     "iopub.execute_input": "2021-07-10T12:10:04.512750Z",
     "iopub.status.busy": "2021-07-10T12:10:04.512243Z",
     "iopub.status.idle": "2021-07-10T12:10:04.518389Z",
     "shell.execute_reply": "2021-07-10T12:10:04.518814Z"
    },
    "papermill": {
     "duration": 0.052496,
     "end_time": "2021-07-10T12:10:04.518951",
     "exception": false,
     "start_time": "2021-07-10T12:10:04.466455",
     "status": "completed"
    },
    "tags": []
   },
   "outputs": [
    {
     "data": {
      "text/html": [
       "<div>\n",
       "<style scoped>\n",
       "    .dataframe tbody tr th:only-of-type {\n",
       "        vertical-align: middle;\n",
       "    }\n",
       "\n",
       "    .dataframe tbody tr th {\n",
       "        vertical-align: top;\n",
       "    }\n",
       "\n",
       "    .dataframe thead th {\n",
       "        text-align: right;\n",
       "    }\n",
       "</style>\n",
       "<table border=\"1\" class=\"dataframe\">\n",
       "  <thead>\n",
       "    <tr style=\"text-align: right;\">\n",
       "      <th></th>\n",
       "      <th>Country/Region</th>\n",
       "      <th>Cases</th>\n",
       "      <th>Deaths</th>\n",
       "      <th>PCases</th>\n",
       "      <th>PDeaths</th>\n",
       "      <th>Cases (+)</th>\n",
       "      <th>Deaths (+)</th>\n",
       "      <th>Fatality Rate</th>\n",
       "      <th>Continent</th>\n",
       "    </tr>\n",
       "  </thead>\n",
       "  <tbody>\n",
       "    <tr>\n",
       "      <th>0</th>\n",
       "      <td>US</td>\n",
       "      <td>33838746</td>\n",
       "      <td>606993</td>\n",
       "      <td>33790505</td>\n",
       "      <td>606475</td>\n",
       "      <td>48241</td>\n",
       "      <td>518</td>\n",
       "      <td>1.79</td>\n",
       "      <td>North America</td>\n",
       "    </tr>\n",
       "    <tr>\n",
       "      <th>1</th>\n",
       "      <td>India</td>\n",
       "      <td>30795716</td>\n",
       "      <td>407145</td>\n",
       "      <td>30752950</td>\n",
       "      <td>405939</td>\n",
       "      <td>42766</td>\n",
       "      <td>1206</td>\n",
       "      <td>1.32</td>\n",
       "      <td>Asia</td>\n",
       "    </tr>\n",
       "    <tr>\n",
       "      <th>2</th>\n",
       "      <td>Brazil</td>\n",
       "      <td>19020499</td>\n",
       "      <td>531688</td>\n",
       "      <td>18962762</td>\n",
       "      <td>530179</td>\n",
       "      <td>57737</td>\n",
       "      <td>1509</td>\n",
       "      <td>2.80</td>\n",
       "      <td>South America</td>\n",
       "    </tr>\n",
       "    <tr>\n",
       "      <th>3</th>\n",
       "      <td>France</td>\n",
       "      <td>5865767</td>\n",
       "      <td>111492</td>\n",
       "      <td>5861128</td>\n",
       "      <td>111473</td>\n",
       "      <td>4639</td>\n",
       "      <td>19</td>\n",
       "      <td>1.90</td>\n",
       "      <td>Europe</td>\n",
       "    </tr>\n",
       "    <tr>\n",
       "      <th>4</th>\n",
       "      <td>Russia</td>\n",
       "      <td>5664200</td>\n",
       "      <td>139156</td>\n",
       "      <td>5638901</td>\n",
       "      <td>138441</td>\n",
       "      <td>25299</td>\n",
       "      <td>715</td>\n",
       "      <td>2.46</td>\n",
       "      <td>Europe</td>\n",
       "    </tr>\n",
       "  </tbody>\n",
       "</table>\n",
       "</div>"
      ],
      "text/plain": [
       "  Country/Region     Cases  Deaths    PCases  PDeaths  Cases (+)  Deaths (+)  \\\n",
       "0             US  33838746  606993  33790505   606475      48241         518   \n",
       "1          India  30795716  407145  30752950   405939      42766        1206   \n",
       "2         Brazil  19020499  531688  18962762   530179      57737        1509   \n",
       "3         France   5865767  111492   5861128   111473       4639          19   \n",
       "4         Russia   5664200  139156   5638901   138441      25299         715   \n",
       "\n",
       "   Fatality Rate      Continent  \n",
       "0           1.79  North America  \n",
       "1           1.32           Asia  \n",
       "2           2.80  South America  \n",
       "3           1.90         Europe  \n",
       "4           2.46         Europe  "
      ]
     },
     "execution_count": 13,
     "metadata": {},
     "output_type": "execute_result"
    }
   ],
   "source": [
    "#hide\n",
    "for c in 'Cases, Deaths'.split(', '):\n",
    "    df_table[f'{c} (+)'] = (df_table[c] - df_table[f'P{c}']).clip(0)\n",
    "    #Clip ça veut dire, les chiffres negatif sont interdit\n",
    "df_table['Fatality Rate'] = (100* df_table['Deaths']/ df_table['Cases']).round(2)\n",
    "df_table['Continent'] = df_table['Country/Region'].map(mapping['map.continent'])\n",
    "df_table.head(5)"
   ]
  },
  {
   "cell_type": "code",
   "execution_count": 14,
   "id": "aboriginal-bulgaria",
   "metadata": {
    "execution": {
     "iopub.execute_input": "2021-07-10T12:10:04.584026Z",
     "iopub.status.busy": "2021-07-10T12:10:04.583539Z",
     "iopub.status.idle": "2021-07-10T12:10:04.585917Z",
     "shell.execute_reply": "2021-07-10T12:10:04.586291Z"
    },
    "papermill": {
     "duration": 0.037394,
     "end_time": "2021-07-10T12:10:04.586419",
     "exception": false,
     "start_time": "2021-07-10T12:10:04.549025",
     "status": "completed"
    },
    "tags": []
   },
   "outputs": [],
   "source": [
    "#hide\n",
    "#delete problematic countries from table\n",
    "df_table = df_table[~df_table['Country/Region'].isin(['Cape Verde', 'Cruise Ship', 'Kosovo'])]"
   ]
  },
  {
   "cell_type": "code",
   "execution_count": 15,
   "id": "fantastic-effect",
   "metadata": {
    "execution": {
     "iopub.execute_input": "2021-07-10T12:10:04.654744Z",
     "iopub.status.busy": "2021-07-10T12:10:04.654249Z",
     "iopub.status.idle": "2021-07-10T12:10:04.669584Z",
     "shell.execute_reply": "2021-07-10T12:10:04.669961Z"
    },
    "papermill": {
     "duration": 0.05362,
     "end_time": "2021-07-10T12:10:04.670100",
     "exception": false,
     "start_time": "2021-07-10T12:10:04.616480",
     "status": "completed"
    },
    "tags": []
   },
   "outputs": [
    {
     "data": {
      "text/html": [
       "<div>\n",
       "<style scoped>\n",
       "    .dataframe tbody tr th:only-of-type {\n",
       "        vertical-align: middle;\n",
       "    }\n",
       "\n",
       "    .dataframe tbody tr th {\n",
       "        vertical-align: top;\n",
       "    }\n",
       "\n",
       "    .dataframe thead th {\n",
       "        text-align: right;\n",
       "    }\n",
       "</style>\n",
       "<table border=\"1\" class=\"dataframe\">\n",
       "  <thead>\n",
       "    <tr style=\"text-align: right;\">\n",
       "      <th></th>\n",
       "      <th>Country/Region</th>\n",
       "      <th>Cases</th>\n",
       "      <th>Deaths</th>\n",
       "      <th>PCases</th>\n",
       "      <th>PDeaths</th>\n",
       "      <th>Cases (+)</th>\n",
       "      <th>Deaths (+)</th>\n",
       "      <th>Fatality Rate</th>\n",
       "      <th>Continent</th>\n",
       "    </tr>\n",
       "  </thead>\n",
       "  <tbody>\n",
       "    <tr>\n",
       "      <th>0</th>\n",
       "      <td>US</td>\n",
       "      <td>33838746</td>\n",
       "      <td>606993</td>\n",
       "      <td>33790505</td>\n",
       "      <td>606475</td>\n",
       "      <td>48241</td>\n",
       "      <td>518</td>\n",
       "      <td>1.8</td>\n",
       "      <td>North America</td>\n",
       "    </tr>\n",
       "    <tr>\n",
       "      <th>1</th>\n",
       "      <td>India</td>\n",
       "      <td>30795716</td>\n",
       "      <td>407145</td>\n",
       "      <td>30752950</td>\n",
       "      <td>405939</td>\n",
       "      <td>42766</td>\n",
       "      <td>1206</td>\n",
       "      <td>1.3</td>\n",
       "      <td>Asia</td>\n",
       "    </tr>\n",
       "    <tr>\n",
       "      <th>2</th>\n",
       "      <td>Brazil</td>\n",
       "      <td>19020499</td>\n",
       "      <td>531688</td>\n",
       "      <td>18962762</td>\n",
       "      <td>530179</td>\n",
       "      <td>57737</td>\n",
       "      <td>1509</td>\n",
       "      <td>2.8</td>\n",
       "      <td>South America</td>\n",
       "    </tr>\n",
       "    <tr>\n",
       "      <th>3</th>\n",
       "      <td>France</td>\n",
       "      <td>5865767</td>\n",
       "      <td>111492</td>\n",
       "      <td>5861128</td>\n",
       "      <td>111473</td>\n",
       "      <td>4639</td>\n",
       "      <td>19</td>\n",
       "      <td>1.9</td>\n",
       "      <td>Europe</td>\n",
       "    </tr>\n",
       "    <tr>\n",
       "      <th>4</th>\n",
       "      <td>Russia</td>\n",
       "      <td>5664200</td>\n",
       "      <td>139156</td>\n",
       "      <td>5638901</td>\n",
       "      <td>138441</td>\n",
       "      <td>25299</td>\n",
       "      <td>715</td>\n",
       "      <td>2.5</td>\n",
       "      <td>Europe</td>\n",
       "    </tr>\n",
       "  </tbody>\n",
       "</table>\n",
       "</div>"
      ],
      "text/plain": [
       "  Country/Region     Cases  Deaths    PCases  PDeaths  Cases (+)  Deaths (+)  \\\n",
       "0             US  33838746  606993  33790505   606475      48241         518   \n",
       "1          India  30795716  407145  30752950   405939      42766        1206   \n",
       "2         Brazil  19020499  531688  18962762   530179      57737        1509   \n",
       "3         France   5865767  111492   5861128   111473       4639          19   \n",
       "4         Russia   5664200  139156   5638901   138441      25299         715   \n",
       "\n",
       "   Fatality Rate      Continent  \n",
       "0            1.8  North America  \n",
       "1            1.3           Asia  \n",
       "2            2.8  South America  \n",
       "3            1.9         Europe  \n",
       "4            2.5         Europe  "
      ]
     },
     "execution_count": 15,
     "metadata": {},
     "output_type": "execute_result"
    }
   ],
   "source": [
    "#hide\n",
    "df_table = (pd.DataFrame(dict(Cases=dfc_cases, Deaths=dfc_deaths, PCases=dfp_cases, PDeaths=dfp_deaths))\n",
    "             .sort_values(by=['Cases', 'Deaths'], ascending=[False, False])\n",
    "             .reset_index())\n",
    "df_table.rename(columns={'index': 'Country/Region'}, inplace=True)\n",
    "for c in 'Cases, Deaths'.split(', '):\n",
    "    df_table[f'{c} (+)'] = (df_table[c] - df_table[f'P{c}']).clip(0)  # DATA BUG\n",
    "df_table['Fatality Rate'] = (100 * df_table['Deaths'] / df_table['Cases']).round(1)\n",
    "df_table['Continent'] = df_table['Country/Region'].map(mapping['map.continent'])\n",
    "df_table.head(5)"
   ]
  },
  {
   "cell_type": "code",
   "execution_count": 16,
   "id": "fewer-occasion",
   "metadata": {
    "execution": {
     "iopub.execute_input": "2021-07-10T12:10:04.737558Z",
     "iopub.status.busy": "2021-07-10T12:10:04.737062Z",
     "iopub.status.idle": "2021-07-10T12:10:04.738565Z",
     "shell.execute_reply": "2021-07-10T12:10:04.738983Z"
    },
    "papermill": {
     "duration": 0.038069,
     "end_time": "2021-07-10T12:10:04.739112",
     "exception": false,
     "start_time": "2021-07-10T12:10:04.701043",
     "status": "completed"
    },
    "tags": []
   },
   "outputs": [],
   "source": [
    "#hide\n",
    "#delete problematic countries from table\n",
    "df_table = df_table[~df_table['Country/Region'].isin(['Cape Verde', 'Cruise Ship', 'Kosovo'])]"
   ]
  },
  {
   "cell_type": "code",
   "execution_count": 17,
   "id": "related-center",
   "metadata": {
    "execution": {
     "iopub.execute_input": "2021-07-10T12:10:04.817320Z",
     "iopub.status.busy": "2021-07-10T12:10:04.816819Z",
     "iopub.status.idle": "2021-07-10T12:10:04.819112Z",
     "shell.execute_reply": "2021-07-10T12:10:04.818688Z"
    },
    "papermill": {
     "duration": 0.049488,
     "end_time": "2021-07-10T12:10:04.819228",
     "exception": false,
     "start_time": "2021-07-10T12:10:04.769740",
     "status": "completed"
    },
    "tags": []
   },
   "outputs": [],
   "source": [
    "#hide\n",
    "metrics = [df_table.columns[index] for index in [1,2,5,6]]\n",
    "# s_china = df_table[df_table['Country/Region'].eq('China')][metrics].sum().add_prefix('China ')\n",
    "s_us = df_table[df_table['Country/Region'].eq('US')][metrics].sum().add_prefix('US ')\n",
    "s_eu = df_table[df_table['Continent'].eq('Europe')][metrics].sum().add_prefix('EU ')\n",
    "s_ind = df_table[df_table['Country/Region'].eq('India')][metrics].sum().add_prefix('India ')\n",
    "summary = {'updated': pd.to_datetime(dt_today), 'since': pd.to_datetime(dt_yday)}\n",
    "summary = {'updated': pd.to_datetime(dt_today), 'since': pd.to_datetime(dt_yday)}\n",
    "summary = {**summary, **df_table[metrics].sum(), **s_ind, **s_us, **s_eu}"
   ]
  },
  {
   "cell_type": "code",
   "execution_count": 18,
   "id": "engaging-syndrome",
   "metadata": {
    "execution": {
     "iopub.execute_input": "2021-07-10T12:10:04.885788Z",
     "iopub.status.busy": "2021-07-10T12:10:04.885282Z",
     "iopub.status.idle": "2021-07-10T12:10:04.896869Z",
     "shell.execute_reply": "2021-07-10T12:10:04.896467Z"
    },
    "papermill": {
     "duration": 0.046838,
     "end_time": "2021-07-10T12:10:04.896984",
     "exception": false,
     "start_time": "2021-07-10T12:10:04.850146",
     "status": "completed"
    },
    "tags": []
   },
   "outputs": [],
   "source": [
    "#hide\n",
    "dft_ct_new_cases = dft_cases.groupby(COL_REGION)[dt_cols].sum().diff(axis=1).fillna(0).astype(int)"
   ]
  },
  {
   "cell_type": "code",
   "execution_count": 19,
   "id": "neutral-assignment",
   "metadata": {
    "execution": {
     "iopub.execute_input": "2021-07-10T12:10:04.964943Z",
     "iopub.status.busy": "2021-07-10T12:10:04.964444Z",
     "iopub.status.idle": "2021-07-10T12:10:04.966657Z",
     "shell.execute_reply": "2021-07-10T12:10:04.966257Z"
    },
    "papermill": {
     "duration": 0.03909,
     "end_time": "2021-07-10T12:10:04.966765",
     "exception": false,
     "start_time": "2021-07-10T12:10:04.927675",
     "status": "completed"
    },
    "tags": []
   },
   "outputs": [],
   "source": [
    "#hide\n",
    "everydaycases = dft_ct_new_cases.cumsum(axis=1)"
   ]
  },
  {
   "cell_type": "code",
   "execution_count": 20,
   "id": "parliamentary-calgary",
   "metadata": {
    "execution": {
     "iopub.execute_input": "2021-07-10T12:10:05.032933Z",
     "iopub.status.busy": "2021-07-10T12:10:05.032436Z",
     "iopub.status.idle": "2021-07-10T12:10:05.581522Z",
     "shell.execute_reply": "2021-07-10T12:10:05.581000Z"
    },
    "papermill": {
     "duration": 0.584096,
     "end_time": "2021-07-10T12:10:05.581661",
     "exception": false,
     "start_time": "2021-07-10T12:10:04.997565",
     "status": "completed"
    },
    "tags": []
   },
   "outputs": [],
   "source": [
    "#hide\n",
    "import pandas as pd\n",
    "import matplotlib.pyplot as plt\n",
    "import matplotlib.ticker as ticker\n",
    "import matplotlib.animation as animation\n",
    "from IPython.display import HTML"
   ]
  },
  {
   "cell_type": "code",
   "execution_count": 21,
   "id": "lasting-extraction",
   "metadata": {
    "execution": {
     "iopub.execute_input": "2021-07-10T12:10:05.648830Z",
     "iopub.status.busy": "2021-07-10T12:10:05.648328Z",
     "iopub.status.idle": "2021-07-10T12:10:05.652976Z",
     "shell.execute_reply": "2021-07-10T12:10:05.653395Z"
    },
    "papermill": {
     "duration": 0.040465,
     "end_time": "2021-07-10T12:10:05.653515",
     "exception": false,
     "start_time": "2021-07-10T12:10:05.613050",
     "status": "completed"
    },
    "tags": []
   },
   "outputs": [],
   "source": [
    "#hide\n",
    "t = everydaycases.stack()"
   ]
  },
  {
   "cell_type": "code",
   "execution_count": 22,
   "id": "premier-sleeve",
   "metadata": {
    "execution": {
     "iopub.execute_input": "2021-07-10T12:10:05.718730Z",
     "iopub.status.busy": "2021-07-10T12:10:05.718232Z",
     "iopub.status.idle": "2021-07-10T12:10:05.724910Z",
     "shell.execute_reply": "2021-07-10T12:10:05.725331Z"
    },
    "papermill": {
     "duration": 0.041209,
     "end_time": "2021-07-10T12:10:05.725456",
     "exception": false,
     "start_time": "2021-07-10T12:10:05.684247",
     "status": "completed"
    },
    "tags": []
   },
   "outputs": [],
   "source": [
    "#hide\n",
    "g = t.reset_index(['Country/Region'])"
   ]
  },
  {
   "cell_type": "code",
   "execution_count": 23,
   "id": "distributed-pittsburgh",
   "metadata": {
    "execution": {
     "iopub.execute_input": "2021-07-10T12:10:05.790272Z",
     "iopub.status.busy": "2021-07-10T12:10:05.789782Z",
     "iopub.status.idle": "2021-07-10T12:10:05.791815Z",
     "shell.execute_reply": "2021-07-10T12:10:05.791401Z"
    },
    "papermill": {
     "duration": 0.036016,
     "end_time": "2021-07-10T12:10:05.791920",
     "exception": false,
     "start_time": "2021-07-10T12:10:05.755904",
     "status": "completed"
    },
    "tags": []
   },
   "outputs": [],
   "source": [
    "#hide\n",
    "g.index.name = 'date'"
   ]
  },
  {
   "cell_type": "code",
   "execution_count": 24,
   "id": "naked-donor",
   "metadata": {
    "execution": {
     "iopub.execute_input": "2021-07-10T12:10:05.856655Z",
     "iopub.status.busy": "2021-07-10T12:10:05.856164Z",
     "iopub.status.idle": "2021-07-10T12:10:05.857903Z",
     "shell.execute_reply": "2021-07-10T12:10:05.858373Z"
    },
    "papermill": {
     "duration": 0.035875,
     "end_time": "2021-07-10T12:10:05.858494",
     "exception": false,
     "start_time": "2021-07-10T12:10:05.822619",
     "status": "completed"
    },
    "tags": []
   },
   "outputs": [],
   "source": [
    "# #hide\n",
    "# g = g.reset_index(['date'])"
   ]
  },
  {
   "cell_type": "code",
   "execution_count": 25,
   "id": "incomplete-mustang",
   "metadata": {
    "execution": {
     "iopub.execute_input": "2021-07-10T12:10:05.922937Z",
     "iopub.status.busy": "2021-07-10T12:10:05.922429Z",
     "iopub.status.idle": "2021-07-10T12:10:05.924314Z",
     "shell.execute_reply": "2021-07-10T12:10:05.924708Z"
    },
    "papermill": {
     "duration": 0.035748,
     "end_time": "2021-07-10T12:10:05.924829",
     "exception": false,
     "start_time": "2021-07-10T12:10:05.889081",
     "status": "completed"
    },
    "tags": []
   },
   "outputs": [],
   "source": [
    "#hide\n",
    "# g.head()"
   ]
  },
  {
   "cell_type": "code",
   "execution_count": 26,
   "id": "specific-kruger",
   "metadata": {
    "execution": {
     "iopub.execute_input": "2021-07-10T12:10:05.989220Z",
     "iopub.status.busy": "2021-07-10T12:10:05.988733Z",
     "iopub.status.idle": "2021-07-10T12:10:05.990581Z",
     "shell.execute_reply": "2021-07-10T12:10:05.991065Z"
    },
    "papermill": {
     "duration": 0.035667,
     "end_time": "2021-07-10T12:10:05.991188",
     "exception": false,
     "start_time": "2021-07-10T12:10:05.955521",
     "status": "completed"
    },
    "tags": []
   },
   "outputs": [],
   "source": [
    "#hide\n",
    "# g.columns = ['date','country','cases']"
   ]
  },
  {
   "cell_type": "code",
   "execution_count": 27,
   "id": "tender-conversion",
   "metadata": {
    "execution": {
     "iopub.execute_input": "2021-07-10T12:10:06.055464Z",
     "iopub.status.busy": "2021-07-10T12:10:06.054971Z",
     "iopub.status.idle": "2021-07-10T12:10:06.057112Z",
     "shell.execute_reply": "2021-07-10T12:10:06.056718Z"
    },
    "papermill": {
     "duration": 0.035773,
     "end_time": "2021-07-10T12:10:06.057221",
     "exception": false,
     "start_time": "2021-07-10T12:10:06.021448",
     "status": "completed"
    },
    "tags": []
   },
   "outputs": [],
   "source": [
    "#hide\n",
    "# g['continent'] = g.country"
   ]
  },
  {
   "cell_type": "code",
   "execution_count": 28,
   "id": "substantial-wilderness",
   "metadata": {
    "execution": {
     "iopub.execute_input": "2021-07-10T12:10:06.122046Z",
     "iopub.status.busy": "2021-07-10T12:10:06.121555Z",
     "iopub.status.idle": "2021-07-10T12:10:06.123766Z",
     "shell.execute_reply": "2021-07-10T12:10:06.123374Z"
    },
    "papermill": {
     "duration": 0.03583,
     "end_time": "2021-07-10T12:10:06.123874",
     "exception": false,
     "start_time": "2021-07-10T12:10:06.088044",
     "status": "completed"
    },
    "tags": []
   },
   "outputs": [],
   "source": [
    "#hide\n",
    "# cols = list(g.columns.values)"
   ]
  },
  {
   "cell_type": "code",
   "execution_count": 29,
   "id": "solved-farming",
   "metadata": {
    "execution": {
     "iopub.execute_input": "2021-07-10T12:10:06.188039Z",
     "iopub.status.busy": "2021-07-10T12:10:06.187544Z",
     "iopub.status.idle": "2021-07-10T12:10:06.189368Z",
     "shell.execute_reply": "2021-07-10T12:10:06.189839Z"
    },
    "papermill": {
     "duration": 0.035816,
     "end_time": "2021-07-10T12:10:06.189961",
     "exception": false,
     "start_time": "2021-07-10T12:10:06.154145",
     "status": "completed"
    },
    "tags": []
   },
   "outputs": [],
   "source": [
    "#hide\n",
    "# cols.insert(0, cols.pop())"
   ]
  },
  {
   "cell_type": "code",
   "execution_count": 30,
   "id": "executed-adoption",
   "metadata": {
    "execution": {
     "iopub.execute_input": "2021-07-10T12:10:06.254650Z",
     "iopub.status.busy": "2021-07-10T12:10:06.254160Z",
     "iopub.status.idle": "2021-07-10T12:10:06.256149Z",
     "shell.execute_reply": "2021-07-10T12:10:06.255733Z"
    },
    "papermill": {
     "duration": 0.035673,
     "end_time": "2021-07-10T12:10:06.256254",
     "exception": false,
     "start_time": "2021-07-10T12:10:06.220581",
     "status": "completed"
    },
    "tags": []
   },
   "outputs": [],
   "source": [
    "#hide\n",
    "# g = g[cols]"
   ]
  },
  {
   "cell_type": "code",
   "execution_count": 31,
   "id": "subject-dublin",
   "metadata": {
    "execution": {
     "iopub.execute_input": "2021-07-10T12:10:06.320791Z",
     "iopub.status.busy": "2021-07-10T12:10:06.320290Z",
     "iopub.status.idle": "2021-07-10T12:10:06.322037Z",
     "shell.execute_reply": "2021-07-10T12:10:06.322507Z"
    },
    "papermill": {
     "duration": 0.035914,
     "end_time": "2021-07-10T12:10:06.322632",
     "exception": false,
     "start_time": "2021-07-10T12:10:06.286718",
     "status": "completed"
    },
    "tags": []
   },
   "outputs": [],
   "source": [
    "#hide\n",
    "# g['continent'] = g['continent'].map(mapping['map.continent'])"
   ]
  },
  {
   "cell_type": "code",
   "execution_count": 32,
   "id": "freelance-scout",
   "metadata": {
    "execution": {
     "iopub.execute_input": "2021-07-10T12:10:06.387616Z",
     "iopub.status.busy": "2021-07-10T12:10:06.387103Z",
     "iopub.status.idle": "2021-07-10T12:10:06.388563Z",
     "shell.execute_reply": "2021-07-10T12:10:06.388956Z"
    },
    "papermill": {
     "duration": 0.035774,
     "end_time": "2021-07-10T12:10:06.389080",
     "exception": false,
     "start_time": "2021-07-10T12:10:06.353306",
     "status": "completed"
    },
    "tags": []
   },
   "outputs": [],
   "source": [
    "#hide\n",
    "# g.head()"
   ]
  },
  {
   "cell_type": "code",
   "execution_count": 33,
   "id": "limited-engine",
   "metadata": {
    "execution": {
     "iopub.execute_input": "2021-07-10T12:10:06.453658Z",
     "iopub.status.busy": "2021-07-10T12:10:06.453166Z",
     "iopub.status.idle": "2021-07-10T12:10:06.454687Z",
     "shell.execute_reply": "2021-07-10T12:10:06.455074Z"
    },
    "papermill": {
     "duration": 0.035672,
     "end_time": "2021-07-10T12:10:06.455209",
     "exception": false,
     "start_time": "2021-07-10T12:10:06.419537",
     "status": "completed"
    },
    "tags": []
   },
   "outputs": [],
   "source": [
    "# hide\n",
    "# g['date'] = g['date'].astype('datetime64[ns]')"
   ]
  },
  {
   "cell_type": "code",
   "execution_count": 34,
   "id": "sophisticated-supervisor",
   "metadata": {
    "execution": {
     "iopub.execute_input": "2021-07-10T12:10:06.520208Z",
     "iopub.status.busy": "2021-07-10T12:10:06.519716Z",
     "iopub.status.idle": "2021-07-10T12:10:06.521634Z",
     "shell.execute_reply": "2021-07-10T12:10:06.521217Z"
    },
    "papermill": {
     "duration": 0.035757,
     "end_time": "2021-07-10T12:10:06.521739",
     "exception": false,
     "start_time": "2021-07-10T12:10:06.485982",
     "status": "completed"
    },
    "tags": []
   },
   "outputs": [],
   "source": [
    "#hide\n",
    "# g['date'] = g.date.dt.dayofyear"
   ]
  },
  {
   "cell_type": "code",
   "execution_count": 35,
   "id": "inside-dubai",
   "metadata": {
    "execution": {
     "iopub.execute_input": "2021-07-10T12:10:06.586235Z",
     "iopub.status.busy": "2021-07-10T12:10:06.585741Z",
     "iopub.status.idle": "2021-07-10T12:10:06.587282Z",
     "shell.execute_reply": "2021-07-10T12:10:06.587680Z"
    },
    "papermill": {
     "duration": 0.035647,
     "end_time": "2021-07-10T12:10:06.587801",
     "exception": false,
     "start_time": "2021-07-10T12:10:06.552154",
     "status": "completed"
    },
    "tags": []
   },
   "outputs": [],
   "source": [
    "#hide\n",
    "# g = g.rename(columns= {'continent':'group','country':'name','cases':'value'})"
   ]
  },
  {
   "cell_type": "code",
   "execution_count": 36,
   "id": "fleet-motorcycle",
   "metadata": {
    "execution": {
     "iopub.execute_input": "2021-07-10T12:10:06.652437Z",
     "iopub.status.busy": "2021-07-10T12:10:06.651939Z",
     "iopub.status.idle": "2021-07-10T12:10:06.653763Z",
     "shell.execute_reply": "2021-07-10T12:10:06.654160Z"
    },
    "papermill": {
     "duration": 0.035972,
     "end_time": "2021-07-10T12:10:06.654288",
     "exception": false,
     "start_time": "2021-07-10T12:10:06.618316",
     "status": "completed"
    },
    "tags": []
   },
   "outputs": [],
   "source": [
    "#hide\n",
    "# cols = ['name','group','day','value']"
   ]
  },
  {
   "cell_type": "code",
   "execution_count": 37,
   "id": "continued-sleeping",
   "metadata": {
    "execution": {
     "iopub.execute_input": "2021-07-10T12:10:06.719187Z",
     "iopub.status.busy": "2021-07-10T12:10:06.718658Z",
     "iopub.status.idle": "2021-07-10T12:10:06.720426Z",
     "shell.execute_reply": "2021-07-10T12:10:06.720798Z"
    },
    "papermill": {
     "duration": 0.036088,
     "end_time": "2021-07-10T12:10:06.720923",
     "exception": false,
     "start_time": "2021-07-10T12:10:06.684835",
     "status": "completed"
    },
    "tags": []
   },
   "outputs": [],
   "source": [
    "#hide\n",
    "# g.rename(columns= {'date':'day'},inplace = True)"
   ]
  },
  {
   "cell_type": "code",
   "execution_count": 38,
   "id": "major-fight",
   "metadata": {
    "execution": {
     "iopub.execute_input": "2021-07-10T12:10:06.785652Z",
     "iopub.status.busy": "2021-07-10T12:10:06.785144Z",
     "iopub.status.idle": "2021-07-10T12:10:06.786885Z",
     "shell.execute_reply": "2021-07-10T12:10:06.787330Z"
    },
    "papermill": {
     "duration": 0.03606,
     "end_time": "2021-07-10T12:10:06.787455",
     "exception": false,
     "start_time": "2021-07-10T12:10:06.751395",
     "status": "completed"
    },
    "tags": []
   },
   "outputs": [],
   "source": [
    "#hide\n",
    "# g = g[cols]"
   ]
  },
  {
   "cell_type": "code",
   "execution_count": 39,
   "id": "structured-mobile",
   "metadata": {
    "execution": {
     "iopub.execute_input": "2021-07-10T12:10:06.997823Z",
     "iopub.status.busy": "2021-07-10T12:10:06.996447Z",
     "iopub.status.idle": "2021-07-10T12:10:06.999904Z",
     "shell.execute_reply": "2021-07-10T12:10:06.999538Z"
    },
    "papermill": {
     "duration": 0.170795,
     "end_time": "2021-07-10T12:10:07.000009",
     "exception": false,
     "start_time": "2021-07-10T12:10:06.829214",
     "status": "completed"
    },
    "tags": []
   },
   "outputs": [],
   "source": [
    "# #hide\n",
    "# g = g[g.group.notna()]"
   ]
  },
  {
   "cell_type": "code",
   "execution_count": 40,
   "id": "determined-closing",
   "metadata": {
    "execution": {
     "iopub.execute_input": "2021-07-10T12:10:07.136432Z",
     "iopub.status.busy": "2021-07-10T12:10:07.135849Z",
     "iopub.status.idle": "2021-07-10T12:10:07.138068Z",
     "shell.execute_reply": "2021-07-10T12:10:07.137610Z"
    },
    "papermill": {
     "duration": 0.06538,
     "end_time": "2021-07-10T12:10:07.138177",
     "exception": false,
     "start_time": "2021-07-10T12:10:07.072797",
     "status": "completed"
    },
    "tags": []
   },
   "outputs": [],
   "source": [
    "# #hide\n",
    "# colors = dict(zip(\n",
    "#     [\"Oceania\", \"Europe\", \"Asia\", \"South America\", \"Middle East\", \"North America\", \"Africa\"],\n",
    "#     [\"#adb0ff\", \"#ffb3ff\", \"#90d595\", \"#e48381\", \"#aafbff\", \"#f7bb5f\", \"#eafb50\"]\n",
    "# ))\n",
    "# group_lk = g.set_index('name')['group'].to_dict()"
   ]
  },
  {
   "cell_type": "code",
   "execution_count": null,
   "id": "gross-drinking",
   "metadata": {
    "papermill": {
     "duration": 0.061708,
     "end_time": "2021-07-10T12:10:07.234212",
     "exception": false,
     "start_time": "2021-07-10T12:10:07.172504",
     "status": "completed"
    },
    "tags": []
   },
   "outputs": [],
   "source": []
  },
  {
   "cell_type": "code",
   "execution_count": 41,
   "id": "subject-macintosh",
   "metadata": {
    "execution": {
     "iopub.execute_input": "2021-07-10T12:10:07.337747Z",
     "iopub.status.busy": "2021-07-10T12:10:07.337127Z",
     "iopub.status.idle": "2021-07-10T12:10:07.341125Z",
     "shell.execute_reply": "2021-07-10T12:10:07.340627Z"
    },
    "papermill": {
     "duration": 0.06716,
     "end_time": "2021-07-10T12:10:07.341236",
     "exception": false,
     "start_time": "2021-07-10T12:10:07.274076",
     "status": "completed"
    },
    "tags": []
   },
   "outputs": [],
   "source": [
    "# #hide\n",
    "# fig, ax = plt.subplots(figsize=(15, 8))\n",
    "\n",
    "# def draw_barchart(current_day):\n",
    "#     dff = g[g['day'].eq(current_day)].sort_values(by='value', ascending=True).tail(10)\n",
    "#     ax.clear()\n",
    "#     ax.barh(dff['name'], dff['value'], color=[colors[group_lk[x]] for x in dff['name']])\n",
    "#     dx = dff['value'].max() / 200\n",
    "    \n",
    "#     for i, (value, name) in enumerate(zip(dff['value'], dff['name'])):\n",
    "#         ax.text(value-dx, i,     name,           size=14, weight=600, ha='right', va='bottom')\n",
    "#         ax.text(value-dx, i-.25, group_lk[name], size=10, color='#444444', ha='right', va='baseline')\n",
    "#         ax.text(value+dx, i,     f'{value:,.0f}',  size=14, ha='left',  va='center')\n",
    "#     ax.text(1, 0.4, current_day, transform=ax.transAxes, color='#777777', size=46, ha='right', weight=800)\n",
    "#     ax.text(0, 1.06, 'Population (thousands)', transform=ax.transAxes, size=12, color='#777777')\n",
    "#     ax.xaxis.set_major_formatter(ticker.StrMethodFormatter('{x:,.0f}'))\n",
    "#     ax.xaxis.set_ticks_position('top')\n",
    "#     ax.tick_params(axis='x', colors='#777777', labelsize=12)\n",
    "#     ax.set_yticks([])\n",
    "#     ax.margins(0, 0.01)\n",
    "#     ax.grid(which='major', axis='x', linestyle='-')\n",
    "#     ax.set_axisbelow(True)\n",
    "    \n",
    "#     ax.text(0, 1.15, 'Coronavirus',\n",
    "#             transform=ax.transAxes, size=24, weight=600, ha='left', va='top')\n",
    "# #     ax.text(1, 0, 'by @pratapvardhan; credit @jburnmurdoch', transform=ax.transAxes, color='#777777', ha='right',\n",
    "# #             bbox=dict(facecolor='white', alpha=0.8, edgecolor='white'))\n",
    "#     plt.box(False)"
   ]
  },
  {
   "cell_type": "code",
   "execution_count": 42,
   "id": "sexual-wages",
   "metadata": {
    "execution": {
     "iopub.execute_input": "2021-07-10T12:10:07.483409Z",
     "iopub.status.busy": "2021-07-10T12:10:07.482875Z",
     "iopub.status.idle": "2021-07-10T12:10:07.484857Z",
     "shell.execute_reply": "2021-07-10T12:10:07.484435Z"
    },
    "papermill": {
     "duration": 0.045023,
     "end_time": "2021-07-10T12:10:07.484969",
     "exception": false,
     "start_time": "2021-07-10T12:10:07.439946",
     "status": "completed"
    },
    "tags": []
   },
   "outputs": [],
   "source": [
    "# #hide_input\n",
    "# fig, ax = plt.subplots(figsize=(15, 8))\n",
    "# animator = animation.FuncAnimation(fig, draw_barchart, frames=range(g.day.values.min(), g.day.values.max()))\n",
    "# HTML(animator.to_jshtml())\n",
    "# # or use animator.to_html5_video() or animator.save() "
   ]
  },
  {
   "cell_type": "code",
   "execution_count": null,
   "id": "australian-container",
   "metadata": {
    "papermill": {
     "duration": 0.038651,
     "end_time": "2021-07-10T12:10:07.577226",
     "exception": false,
     "start_time": "2021-07-10T12:10:07.538575",
     "status": "completed"
    },
    "tags": []
   },
   "outputs": [],
   "source": []
  },
  {
   "cell_type": "code",
   "execution_count": null,
   "id": "mediterranean-pontiac",
   "metadata": {
    "papermill": {
     "duration": 0.02768,
     "end_time": "2021-07-10T12:10:07.669715",
     "exception": false,
     "start_time": "2021-07-10T12:10:07.642035",
     "status": "completed"
    },
    "tags": []
   },
   "outputs": [],
   "source": []
  },
  {
   "cell_type": "code",
   "execution_count": null,
   "id": "aging-legislature",
   "metadata": {
    "papermill": {
     "duration": 0.02689,
     "end_time": "2021-07-10T12:10:07.723789",
     "exception": false,
     "start_time": "2021-07-10T12:10:07.696899",
     "status": "completed"
    },
    "tags": []
   },
   "outputs": [],
   "source": []
  }
 ],
 "metadata": {
  "kernelspec": {
   "display_name": "Python 3",
   "language": "python",
   "name": "python3"
  },
  "language_info": {
   "codemirror_mode": {
    "name": "ipython",
    "version": 3
   },
   "file_extension": ".py",
   "mimetype": "text/x-python",
   "name": "python",
   "nbconvert_exporter": "python",
   "pygments_lexer": "ipython3",
   "version": "3.6.13"
  },
  "papermill": {
   "duration": 7.300757,
   "end_time": "2021-07-10T12:10:08.957138",
   "environment_variables": {},
   "exception": null,
   "input_path": "2020-03-21-covid19exp.ipynb",
   "output_path": "2020-03-21-covid19exp.ipynb",
   "parameters": {},
   "start_time": "2021-07-10T12:10:01.656381",
   "version": "2.0.0"
  }
 },
 "nbformat": 4,
 "nbformat_minor": 5
}