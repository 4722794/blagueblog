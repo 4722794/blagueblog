{
 "cells": [
  {
   "cell_type": "markdown",
   "id": "muslim-click",
   "metadata": {
    "papermill": {
     "duration": 0.030452,
     "end_time": "2022-04-14T00:42:33.657775",
     "exception": false,
     "start_time": "2022-04-14T00:42:33.627323",
     "status": "completed"
    },
    "tags": []
   },
   "source": [
    "# COVID-19 Case Race\n",
    "> A race chart to see rising cases around the world\n",
    "\n",
    "- author: Hargun Oberoi\n",
    "- image: images/covid-overview.png\n",
    "- hide: false\n",
    "- badges: false"
   ]
  },
  {
   "cell_type": "code",
   "execution_count": 1,
   "id": "proof-material",
   "metadata": {
    "execution": {
     "iopub.execute_input": "2022-04-14T00:42:33.720427Z",
     "iopub.status.busy": "2022-04-14T00:42:33.719939Z",
     "iopub.status.idle": "2022-04-14T00:42:34.040498Z",
     "shell.execute_reply": "2022-04-14T00:42:34.040921Z"
    },
    "papermill": {
     "duration": 0.355894,
     "end_time": "2022-04-14T00:42:34.041084",
     "exception": false,
     "start_time": "2022-04-14T00:42:33.685190",
     "status": "completed"
    },
    "tags": []
   },
   "outputs": [],
   "source": [
    "#hide\n",
    "import numpy as np\n",
    "import pandas as pd\n",
    "from jinja2 import Template\n",
    "from IPython.display import HTML"
   ]
  },
  {
   "cell_type": "code",
   "execution_count": 2,
   "id": "developed-terminology",
   "metadata": {
    "execution": {
     "iopub.execute_input": "2022-04-14T00:42:34.098077Z",
     "iopub.status.busy": "2022-04-14T00:42:34.097588Z",
     "iopub.status.idle": "2022-04-14T00:42:34.099192Z",
     "shell.execute_reply": "2022-04-14T00:42:34.099626Z"
    },
    "papermill": {
     "duration": 0.032762,
     "end_time": "2022-04-14T00:42:34.099747",
     "exception": false,
     "start_time": "2022-04-14T00:42:34.066985",
     "status": "completed"
    },
    "tags": []
   },
   "outputs": [],
   "source": [
    "#hide\n",
    "\n",
    "# FETCH\n",
    "base_url = 'https://raw.githubusercontent.com/pratapvardhan/notebooks/master/covid19/'\n",
    "paths = {\n",
    "    'mapping': base_url + 'mapping_countries.csv',\n",
    "    'overview': base_url + 'overview.tpl'\n",
    "}"
   ]
  },
  {
   "cell_type": "code",
   "execution_count": 3,
   "id": "dynamic-saver",
   "metadata": {
    "execution": {
     "iopub.execute_input": "2022-04-14T00:42:34.160596Z",
     "iopub.status.busy": "2022-04-14T00:42:34.160133Z",
     "iopub.status.idle": "2022-04-14T00:42:34.163273Z",
     "shell.execute_reply": "2022-04-14T00:42:34.162849Z"
    },
    "papermill": {
     "duration": 0.037909,
     "end_time": "2022-04-14T00:42:34.163371",
     "exception": false,
     "start_time": "2022-04-14T00:42:34.125462",
     "status": "completed"
    },
    "tags": []
   },
   "outputs": [
    {
     "data": {
      "text/plain": [
       "'https://raw.githubusercontent.com/pratapvardhan/notebooks/master/covid19/mapping_countries.csv'"
      ]
     },
     "execution_count": 3,
     "metadata": {},
     "output_type": "execute_result"
    }
   ],
   "source": [
    "#hide\n",
    "paths['mapping']"
   ]
  },
  {
   "cell_type": "code",
   "execution_count": 4,
   "id": "urban-software",
   "metadata": {
    "execution": {
     "iopub.execute_input": "2022-04-14T00:42:34.222125Z",
     "iopub.status.busy": "2022-04-14T00:42:34.221554Z",
     "iopub.status.idle": "2022-04-14T00:42:34.222782Z",
     "shell.execute_reply": "2022-04-14T00:42:34.223295Z"
    },
    "papermill": {
     "duration": 0.033013,
     "end_time": "2022-04-14T00:42:34.223420",
     "exception": false,
     "start_time": "2022-04-14T00:42:34.190407",
     "status": "completed"
    },
    "tags": []
   },
   "outputs": [],
   "source": [
    "#hide\n",
    "def get_mappings(url):\n",
    "    df = pd.read_csv(url)\n",
    "    return {\n",
    "        'df': df,\n",
    "        'replace.country': dict(df.dropna(subset=['Name']).set_index('Country')['Name']),\n",
    "        'map.continent': dict(df.set_index('Name')['Continent'])\n",
    "    }"
   ]
  },
  {
   "cell_type": "code",
   "execution_count": 5,
   "id": "intimate-machinery",
   "metadata": {
    "execution": {
     "iopub.execute_input": "2022-04-14T00:42:34.287880Z",
     "iopub.status.busy": "2022-04-14T00:42:34.287360Z",
     "iopub.status.idle": "2022-04-14T00:42:34.351402Z",
     "shell.execute_reply": "2022-04-14T00:42:34.350910Z"
    },
    "papermill": {
     "duration": 0.098466,
     "end_time": "2022-04-14T00:42:34.351527",
     "exception": false,
     "start_time": "2022-04-14T00:42:34.253061",
     "status": "completed"
    },
    "tags": []
   },
   "outputs": [],
   "source": [
    "#hide\n",
    "mapping = get_mappings(paths['mapping'])"
   ]
  },
  {
   "cell_type": "code",
   "execution_count": 6,
   "id": "certified-tactics",
   "metadata": {
    "execution": {
     "iopub.execute_input": "2022-04-14T00:42:34.416112Z",
     "iopub.status.busy": "2022-04-14T00:42:34.415644Z",
     "iopub.status.idle": "2022-04-14T00:42:34.417822Z",
     "shell.execute_reply": "2022-04-14T00:42:34.417451Z"
    },
    "papermill": {
     "duration": 0.036277,
     "end_time": "2022-04-14T00:42:34.417920",
     "exception": false,
     "start_time": "2022-04-14T00:42:34.381643",
     "status": "completed"
    },
    "tags": []
   },
   "outputs": [],
   "source": [
    "#hide\n",
    "def get_template(path):\n",
    "    from urllib.parse import urlparse\n",
    "    if bool(urlparse(path).netloc):\n",
    "        from urllib.request import urlopen\n",
    "        return urlopen(path).read().decode('utf8')\n",
    "    return open(path).read()"
   ]
  },
  {
   "cell_type": "code",
   "execution_count": 7,
   "id": "realistic-blast",
   "metadata": {
    "execution": {
     "iopub.execute_input": "2022-04-14T00:42:34.474714Z",
     "iopub.status.busy": "2022-04-14T00:42:34.474116Z",
     "iopub.status.idle": "2022-04-14T00:42:34.477709Z",
     "shell.execute_reply": "2022-04-14T00:42:34.477298Z"
    },
    "papermill": {
     "duration": 0.033954,
     "end_time": "2022-04-14T00:42:34.477813",
     "exception": false,
     "start_time": "2022-04-14T00:42:34.443859",
     "status": "completed"
    },
    "tags": []
   },
   "outputs": [],
   "source": [
    "#hide\n",
    "def get_frame(name):\n",
    "    url = (\n",
    "        'https://raw.githubusercontent.com/CSSEGISandData/COVID-19/master/csse_covid_19_data/'\n",
    "        f'csse_covid_19_time_series/time_series_covid19_{name}_global.csv')\n",
    "    df = pd.read_csv(url)\n",
    "    # rename countries\n",
    "    df['Country/Region'] = df['Country/Region'].replace(mapping['replace.country'])\n",
    "    return df"
   ]
  },
  {
   "cell_type": "code",
   "execution_count": 8,
   "id": "affiliated-characterization",
   "metadata": {
    "execution": {
     "iopub.execute_input": "2022-04-14T00:42:34.542568Z",
     "iopub.status.busy": "2022-04-14T00:42:34.541973Z",
     "iopub.status.idle": "2022-04-14T00:42:34.543538Z",
     "shell.execute_reply": "2022-04-14T00:42:34.544003Z"
    },
    "papermill": {
     "duration": 0.036599,
     "end_time": "2022-04-14T00:42:34.544134",
     "exception": false,
     "start_time": "2022-04-14T00:42:34.507535",
     "status": "completed"
    },
    "tags": []
   },
   "outputs": [],
   "source": [
    "#hide\n",
    "def get_dates(df):\n",
    "    dt_cols = df.columns[~df.columns.isin(['Province/State', 'Country/Region', 'Lat', 'Long'])]\n",
    "    LAST_DATE_I = -1\n",
    "    # sometimes last column may be empty, then go backwards\n",
    "    for i in range(-1, -len(dt_cols), -1):\n",
    "        if not df[dt_cols[i]].fillna(0).eq(0).all():\n",
    "            LAST_DATE_I = i\n",
    "            break\n",
    "    return LAST_DATE_I, dt_cols"
   ]
  },
  {
   "cell_type": "code",
   "execution_count": 9,
   "id": "recent-optimization",
   "metadata": {
    "execution": {
     "iopub.execute_input": "2022-04-14T00:42:34.600306Z",
     "iopub.status.busy": "2022-04-14T00:42:34.599855Z",
     "iopub.status.idle": "2022-04-14T00:42:35.171262Z",
     "shell.execute_reply": "2022-04-14T00:42:35.170210Z"
    },
    "papermill": {
     "duration": 0.600975,
     "end_time": "2022-04-14T00:42:35.171415",
     "exception": false,
     "start_time": "2022-04-14T00:42:34.570440",
     "status": "completed"
    },
    "tags": []
   },
   "outputs": [],
   "source": [
    "#hide\n",
    "COL_REGION = 'Country/Region'\n",
    "# Confirmed, Recovered, Deaths\n",
    "df = get_frame('confirmed')\n",
    "# dft_: timeseries, dfc_: today country agg\n",
    "dft_cases = df\n",
    "dft_deaths = get_frame('deaths')\n",
    "dft_recovered = get_frame('recovered')\n",
    "LAST_DATE_I, dt_cols = get_dates(df)"
   ]
  },
  {
   "cell_type": "code",
   "execution_count": 10,
   "id": "absolute-copper",
   "metadata": {
    "execution": {
     "iopub.execute_input": "2022-04-14T00:42:35.230861Z",
     "iopub.status.busy": "2022-04-14T00:42:35.230392Z",
     "iopub.status.idle": "2022-04-14T00:42:35.232183Z",
     "shell.execute_reply": "2022-04-14T00:42:35.232618Z"
    },
    "papermill": {
     "duration": 0.033653,
     "end_time": "2022-04-14T00:42:35.232740",
     "exception": false,
     "start_time": "2022-04-14T00:42:35.199087",
     "status": "completed"
    },
    "tags": []
   },
   "outputs": [],
   "source": [
    "#hide\n",
    "LAST_DATE_I, dt_cols = get_dates(df)\n",
    "dt_today =dt_cols[LAST_DATE_I]\n",
    "# dt_5day = dt_cols[LAST_DATE_I - 5]\n",
    "dt_yday = dt_cols[LAST_DATE_I - 1]"
   ]
  },
  {
   "cell_type": "code",
   "execution_count": 11,
   "id": "restricted-sheriff",
   "metadata": {
    "execution": {
     "iopub.execute_input": "2022-04-14T00:42:35.290835Z",
     "iopub.status.busy": "2022-04-14T00:42:35.290377Z",
     "iopub.status.idle": "2022-04-14T00:42:35.296783Z",
     "shell.execute_reply": "2022-04-14T00:42:35.297159Z"
    },
    "papermill": {
     "duration": 0.038319,
     "end_time": "2022-04-14T00:42:35.297269",
     "exception": false,
     "start_time": "2022-04-14T00:42:35.258950",
     "status": "completed"
    },
    "tags": []
   },
   "outputs": [],
   "source": [
    "#hide\n",
    "dfc_cases = dft_cases.groupby(COL_REGION)[dt_today].sum()\n",
    "dfc_deaths = dft_deaths.groupby(COL_REGION)[dt_today].sum()\n",
    "# dfp_cases = dft_cases.groupby(COL_REGION)[dt_5day].sum()\n",
    "# dfp_deaths = dft_deaths.groupby(COL_REGION)[dt_5day].sum()\n",
    "dfp_cases = dft_cases.groupby(COL_REGION)[dt_yday].sum()\n",
    "dfp_deaths = dft_deaths.groupby(COL_REGION)[dt_yday].sum()"
   ]
  },
  {
   "cell_type": "code",
   "execution_count": 12,
   "id": "deluxe-hepatitis",
   "metadata": {
    "execution": {
     "iopub.execute_input": "2022-04-14T00:42:35.354755Z",
     "iopub.status.busy": "2022-04-14T00:42:35.354312Z",
     "iopub.status.idle": "2022-04-14T00:42:35.358929Z",
     "shell.execute_reply": "2022-04-14T00:42:35.359340Z"
    },
    "papermill": {
     "duration": 0.036042,
     "end_time": "2022-04-14T00:42:35.359448",
     "exception": false,
     "start_time": "2022-04-14T00:42:35.323406",
     "status": "completed"
    },
    "tags": []
   },
   "outputs": [],
   "source": [
    "#hide\n",
    "df_table = (pd.DataFrame(dict(Cases = dfc_cases, Deaths = dfc_deaths, PCases = dfp_cases, PDeaths = dfp_deaths))\n",
    "            .sort_values(by = ['Cases','Deaths'], ascending = [False, False])\n",
    "            .reset_index())"
   ]
  },
  {
   "cell_type": "code",
   "execution_count": 13,
   "id": "educational-chancellor",
   "metadata": {
    "execution": {
     "iopub.execute_input": "2022-04-14T00:42:35.427743Z",
     "iopub.status.busy": "2022-04-14T00:42:35.427298Z",
     "iopub.status.idle": "2022-04-14T00:42:35.433946Z",
     "shell.execute_reply": "2022-04-14T00:42:35.433582Z"
    },
    "papermill": {
     "duration": 0.048629,
     "end_time": "2022-04-14T00:42:35.434041",
     "exception": false,
     "start_time": "2022-04-14T00:42:35.385412",
     "status": "completed"
    },
    "tags": []
   },
   "outputs": [
    {
     "data": {
      "text/html": [
       "<div>\n",
       "<style scoped>\n",
       "    .dataframe tbody tr th:only-of-type {\n",
       "        vertical-align: middle;\n",
       "    }\n",
       "\n",
       "    .dataframe tbody tr th {\n",
       "        vertical-align: top;\n",
       "    }\n",
       "\n",
       "    .dataframe thead th {\n",
       "        text-align: right;\n",
       "    }\n",
       "</style>\n",
       "<table border=\"1\" class=\"dataframe\">\n",
       "  <thead>\n",
       "    <tr style=\"text-align: right;\">\n",
       "      <th></th>\n",
       "      <th>Country/Region</th>\n",
       "      <th>Cases</th>\n",
       "      <th>Deaths</th>\n",
       "      <th>PCases</th>\n",
       "      <th>PDeaths</th>\n",
       "      <th>Cases (+)</th>\n",
       "      <th>Deaths (+)</th>\n",
       "      <th>Fatality Rate</th>\n",
       "      <th>Continent</th>\n",
       "    </tr>\n",
       "  </thead>\n",
       "  <tbody>\n",
       "    <tr>\n",
       "      <th>0</th>\n",
       "      <td>US</td>\n",
       "      <td>80477797</td>\n",
       "      <td>986387</td>\n",
       "      <td>80449944</td>\n",
       "      <td>985826</td>\n",
       "      <td>27853</td>\n",
       "      <td>561</td>\n",
       "      <td>1.23</td>\n",
       "      <td>North America</td>\n",
       "    </tr>\n",
       "    <tr>\n",
       "      <th>1</th>\n",
       "      <td>India</td>\n",
       "      <td>43038016</td>\n",
       "      <td>521736</td>\n",
       "      <td>43036928</td>\n",
       "      <td>521710</td>\n",
       "      <td>1088</td>\n",
       "      <td>26</td>\n",
       "      <td>1.21</td>\n",
       "      <td>Asia</td>\n",
       "    </tr>\n",
       "    <tr>\n",
       "      <th>2</th>\n",
       "      <td>Brazil</td>\n",
       "      <td>30184286</td>\n",
       "      <td>661741</td>\n",
       "      <td>30161909</td>\n",
       "      <td>661576</td>\n",
       "      <td>22377</td>\n",
       "      <td>165</td>\n",
       "      <td>2.19</td>\n",
       "      <td>South America</td>\n",
       "    </tr>\n",
       "    <tr>\n",
       "      <th>3</th>\n",
       "      <td>France</td>\n",
       "      <td>27353225</td>\n",
       "      <td>144662</td>\n",
       "      <td>27162463</td>\n",
       "      <td>144503</td>\n",
       "      <td>190762</td>\n",
       "      <td>159</td>\n",
       "      <td>0.53</td>\n",
       "      <td>Europe</td>\n",
       "    </tr>\n",
       "    <tr>\n",
       "      <th>4</th>\n",
       "      <td>Germany</td>\n",
       "      <td>23017079</td>\n",
       "      <td>132378</td>\n",
       "      <td>22878428</td>\n",
       "      <td>132017</td>\n",
       "      <td>138651</td>\n",
       "      <td>361</td>\n",
       "      <td>0.58</td>\n",
       "      <td>Europe</td>\n",
       "    </tr>\n",
       "  </tbody>\n",
       "</table>\n",
       "</div>"
      ],
      "text/plain": [
       "  Country/Region     Cases  Deaths    PCases  PDeaths  Cases (+)  Deaths (+)  \\\n",
       "0             US  80477797  986387  80449944   985826      27853         561   \n",
       "1          India  43038016  521736  43036928   521710       1088          26   \n",
       "2         Brazil  30184286  661741  30161909   661576      22377         165   \n",
       "3         France  27353225  144662  27162463   144503     190762         159   \n",
       "4        Germany  23017079  132378  22878428   132017     138651         361   \n",
       "\n",
       "   Fatality Rate      Continent  \n",
       "0           1.23  North America  \n",
       "1           1.21           Asia  \n",
       "2           2.19  South America  \n",
       "3           0.53         Europe  \n",
       "4           0.58         Europe  "
      ]
     },
     "execution_count": 13,
     "metadata": {},
     "output_type": "execute_result"
    }
   ],
   "source": [
    "#hide\n",
    "for c in 'Cases, Deaths'.split(', '):\n",
    "    df_table[f'{c} (+)'] = (df_table[c] - df_table[f'P{c}']).clip(0)\n",
    "    #Clip ça veut dire, les chiffres negatif sont interdit\n",
    "df_table['Fatality Rate'] = (100* df_table['Deaths']/ df_table['Cases']).round(2)\n",
    "df_table['Continent'] = df_table['Country/Region'].map(mapping['map.continent'])\n",
    "df_table.head(5)"
   ]
  },
  {
   "cell_type": "code",
   "execution_count": 14,
   "id": "aboriginal-bulgaria",
   "metadata": {
    "execution": {
     "iopub.execute_input": "2022-04-14T00:42:35.491141Z",
     "iopub.status.busy": "2022-04-14T00:42:35.490659Z",
     "iopub.status.idle": "2022-04-14T00:42:35.492540Z",
     "shell.execute_reply": "2022-04-14T00:42:35.492972Z"
    },
    "papermill": {
     "duration": 0.03282,
     "end_time": "2022-04-14T00:42:35.493078",
     "exception": false,
     "start_time": "2022-04-14T00:42:35.460258",
     "status": "completed"
    },
    "tags": []
   },
   "outputs": [],
   "source": [
    "#hide\n",
    "#delete problematic countries from table\n",
    "df_table = df_table[~df_table['Country/Region'].isin(['Cape Verde', 'Cruise Ship', 'Kosovo'])]"
   ]
  },
  {
   "cell_type": "code",
   "execution_count": 15,
   "id": "fantastic-effect",
   "metadata": {
    "execution": {
     "iopub.execute_input": "2022-04-14T00:42:35.552342Z",
     "iopub.status.busy": "2022-04-14T00:42:35.551884Z",
     "iopub.status.idle": "2022-04-14T00:42:35.566914Z",
     "shell.execute_reply": "2022-04-14T00:42:35.567313Z"
    },
    "papermill": {
     "duration": 0.04874,
     "end_time": "2022-04-14T00:42:35.567422",
     "exception": false,
     "start_time": "2022-04-14T00:42:35.518682",
     "status": "completed"
    },
    "tags": []
   },
   "outputs": [
    {
     "data": {
      "text/html": [
       "<div>\n",
       "<style scoped>\n",
       "    .dataframe tbody tr th:only-of-type {\n",
       "        vertical-align: middle;\n",
       "    }\n",
       "\n",
       "    .dataframe tbody tr th {\n",
       "        vertical-align: top;\n",
       "    }\n",
       "\n",
       "    .dataframe thead th {\n",
       "        text-align: right;\n",
       "    }\n",
       "</style>\n",
       "<table border=\"1\" class=\"dataframe\">\n",
       "  <thead>\n",
       "    <tr style=\"text-align: right;\">\n",
       "      <th></th>\n",
       "      <th>Country/Region</th>\n",
       "      <th>Cases</th>\n",
       "      <th>Deaths</th>\n",
       "      <th>PCases</th>\n",
       "      <th>PDeaths</th>\n",
       "      <th>Cases (+)</th>\n",
       "      <th>Deaths (+)</th>\n",
       "      <th>Fatality Rate</th>\n",
       "      <th>Continent</th>\n",
       "    </tr>\n",
       "  </thead>\n",
       "  <tbody>\n",
       "    <tr>\n",
       "      <th>0</th>\n",
       "      <td>US</td>\n",
       "      <td>80477797</td>\n",
       "      <td>986387</td>\n",
       "      <td>80449944</td>\n",
       "      <td>985826</td>\n",
       "      <td>27853</td>\n",
       "      <td>561</td>\n",
       "      <td>1.2</td>\n",
       "      <td>North America</td>\n",
       "    </tr>\n",
       "    <tr>\n",
       "      <th>1</th>\n",
       "      <td>India</td>\n",
       "      <td>43038016</td>\n",
       "      <td>521736</td>\n",
       "      <td>43036928</td>\n",
       "      <td>521710</td>\n",
       "      <td>1088</td>\n",
       "      <td>26</td>\n",
       "      <td>1.2</td>\n",
       "      <td>Asia</td>\n",
       "    </tr>\n",
       "    <tr>\n",
       "      <th>2</th>\n",
       "      <td>Brazil</td>\n",
       "      <td>30184286</td>\n",
       "      <td>661741</td>\n",
       "      <td>30161909</td>\n",
       "      <td>661576</td>\n",
       "      <td>22377</td>\n",
       "      <td>165</td>\n",
       "      <td>2.2</td>\n",
       "      <td>South America</td>\n",
       "    </tr>\n",
       "    <tr>\n",
       "      <th>3</th>\n",
       "      <td>France</td>\n",
       "      <td>27353225</td>\n",
       "      <td>144662</td>\n",
       "      <td>27162463</td>\n",
       "      <td>144503</td>\n",
       "      <td>190762</td>\n",
       "      <td>159</td>\n",
       "      <td>0.5</td>\n",
       "      <td>Europe</td>\n",
       "    </tr>\n",
       "    <tr>\n",
       "      <th>4</th>\n",
       "      <td>Germany</td>\n",
       "      <td>23017079</td>\n",
       "      <td>132378</td>\n",
       "      <td>22878428</td>\n",
       "      <td>132017</td>\n",
       "      <td>138651</td>\n",
       "      <td>361</td>\n",
       "      <td>0.6</td>\n",
       "      <td>Europe</td>\n",
       "    </tr>\n",
       "  </tbody>\n",
       "</table>\n",
       "</div>"
      ],
      "text/plain": [
       "  Country/Region     Cases  Deaths    PCases  PDeaths  Cases (+)  Deaths (+)  \\\n",
       "0             US  80477797  986387  80449944   985826      27853         561   \n",
       "1          India  43038016  521736  43036928   521710       1088          26   \n",
       "2         Brazil  30184286  661741  30161909   661576      22377         165   \n",
       "3         France  27353225  144662  27162463   144503     190762         159   \n",
       "4        Germany  23017079  132378  22878428   132017     138651         361   \n",
       "\n",
       "   Fatality Rate      Continent  \n",
       "0            1.2  North America  \n",
       "1            1.2           Asia  \n",
       "2            2.2  South America  \n",
       "3            0.5         Europe  \n",
       "4            0.6         Europe  "
      ]
     },
     "execution_count": 15,
     "metadata": {},
     "output_type": "execute_result"
    }
   ],
   "source": [
    "#hide\n",
    "df_table = (pd.DataFrame(dict(Cases=dfc_cases, Deaths=dfc_deaths, PCases=dfp_cases, PDeaths=dfp_deaths))\n",
    "             .sort_values(by=['Cases', 'Deaths'], ascending=[False, False])\n",
    "             .reset_index())\n",
    "df_table.rename(columns={'index': 'Country/Region'}, inplace=True)\n",
    "for c in 'Cases, Deaths'.split(', '):\n",
    "    df_table[f'{c} (+)'] = (df_table[c] - df_table[f'P{c}']).clip(0)  # DATA BUG\n",
    "df_table['Fatality Rate'] = (100 * df_table['Deaths'] / df_table['Cases']).round(1)\n",
    "df_table['Continent'] = df_table['Country/Region'].map(mapping['map.continent'])\n",
    "df_table.head(5)"
   ]
  },
  {
   "cell_type": "code",
   "execution_count": 16,
   "id": "fewer-occasion",
   "metadata": {
    "execution": {
     "iopub.execute_input": "2022-04-14T00:42:35.626654Z",
     "iopub.status.busy": "2022-04-14T00:42:35.626051Z",
     "iopub.status.idle": "2022-04-14T00:42:35.629907Z",
     "shell.execute_reply": "2022-04-14T00:42:35.630353Z"
    },
    "papermill": {
     "duration": 0.035869,
     "end_time": "2022-04-14T00:42:35.630490",
     "exception": false,
     "start_time": "2022-04-14T00:42:35.594621",
     "status": "completed"
    },
    "tags": []
   },
   "outputs": [],
   "source": [
    "#hide\n",
    "#delete problematic countries from table\n",
    "df_table = df_table[~df_table['Country/Region'].isin(['Cape Verde', 'Cruise Ship', 'Kosovo'])]"
   ]
  },
  {
   "cell_type": "code",
   "execution_count": 17,
   "id": "related-center",
   "metadata": {
    "execution": {
     "iopub.execute_input": "2022-04-14T00:42:35.701221Z",
     "iopub.status.busy": "2022-04-14T00:42:35.700730Z",
     "iopub.status.idle": "2022-04-14T00:42:35.702955Z",
     "shell.execute_reply": "2022-04-14T00:42:35.702544Z"
    },
    "papermill": {
     "duration": 0.044619,
     "end_time": "2022-04-14T00:42:35.703056",
     "exception": false,
     "start_time": "2022-04-14T00:42:35.658437",
     "status": "completed"
    },
    "tags": []
   },
   "outputs": [],
   "source": [
    "#hide\n",
    "metrics = [df_table.columns[index] for index in [1,2,5,6]]\n",
    "# s_china = df_table[df_table['Country/Region'].eq('China')][metrics].sum().add_prefix('China ')\n",
    "s_us = df_table[df_table['Country/Region'].eq('US')][metrics].sum().add_prefix('US ')\n",
    "s_eu = df_table[df_table['Continent'].eq('Europe')][metrics].sum().add_prefix('EU ')\n",
    "s_ind = df_table[df_table['Country/Region'].eq('India')][metrics].sum().add_prefix('India ')\n",
    "summary = {'updated': pd.to_datetime(dt_today), 'since': pd.to_datetime(dt_yday)}\n",
    "summary = {'updated': pd.to_datetime(dt_today), 'since': pd.to_datetime(dt_yday)}\n",
    "summary = {**summary, **df_table[metrics].sum(), **s_ind, **s_us, **s_eu}"
   ]
  },
  {
   "cell_type": "code",
   "execution_count": 18,
   "id": "engaging-syndrome",
   "metadata": {
    "execution": {
     "iopub.execute_input": "2022-04-14T00:42:35.761395Z",
     "iopub.status.busy": "2022-04-14T00:42:35.760937Z",
     "iopub.status.idle": "2022-04-14T00:42:35.777088Z",
     "shell.execute_reply": "2022-04-14T00:42:35.776661Z"
    },
    "papermill": {
     "duration": 0.047166,
     "end_time": "2022-04-14T00:42:35.777198",
     "exception": false,
     "start_time": "2022-04-14T00:42:35.730032",
     "status": "completed"
    },
    "tags": []
   },
   "outputs": [],
   "source": [
    "#hide\n",
    "dft_ct_new_cases = dft_cases.groupby(COL_REGION)[dt_cols].sum().diff(axis=1).fillna(0).astype(int)"
   ]
  },
  {
   "cell_type": "code",
   "execution_count": 19,
   "id": "neutral-assignment",
   "metadata": {
    "execution": {
     "iopub.execute_input": "2022-04-14T00:42:35.837400Z",
     "iopub.status.busy": "2022-04-14T00:42:35.836940Z",
     "iopub.status.idle": "2022-04-14T00:42:35.838788Z",
     "shell.execute_reply": "2022-04-14T00:42:35.839213Z"
    },
    "papermill": {
     "duration": 0.033744,
     "end_time": "2022-04-14T00:42:35.839342",
     "exception": false,
     "start_time": "2022-04-14T00:42:35.805598",
     "status": "completed"
    },
    "tags": []
   },
   "outputs": [],
   "source": [
    "#hide\n",
    "everydaycases = dft_ct_new_cases.cumsum(axis=1)"
   ]
  },
  {
   "cell_type": "code",
   "execution_count": 20,
   "id": "parliamentary-calgary",
   "metadata": {
    "execution": {
     "iopub.execute_input": "2022-04-14T00:42:35.896628Z",
     "iopub.status.busy": "2022-04-14T00:42:35.896150Z",
     "iopub.status.idle": "2022-04-14T00:42:36.520209Z",
     "shell.execute_reply": "2022-04-14T00:42:36.519664Z"
    },
    "papermill": {
     "duration": 0.654245,
     "end_time": "2022-04-14T00:42:36.520354",
     "exception": false,
     "start_time": "2022-04-14T00:42:35.866109",
     "status": "completed"
    },
    "tags": []
   },
   "outputs": [],
   "source": [
    "#hide\n",
    "import pandas as pd\n",
    "import matplotlib.pyplot as plt\n",
    "import matplotlib.ticker as ticker\n",
    "import matplotlib.animation as animation\n",
    "from IPython.display import HTML"
   ]
  },
  {
   "cell_type": "code",
   "execution_count": 21,
   "id": "lasting-extraction",
   "metadata": {
    "execution": {
     "iopub.execute_input": "2022-04-14T00:42:36.582762Z",
     "iopub.status.busy": "2022-04-14T00:42:36.582299Z",
     "iopub.status.idle": "2022-04-14T00:42:36.589165Z",
     "shell.execute_reply": "2022-04-14T00:42:36.588795Z"
    },
    "papermill": {
     "duration": 0.040201,
     "end_time": "2022-04-14T00:42:36.589272",
     "exception": false,
     "start_time": "2022-04-14T00:42:36.549071",
     "status": "completed"
    },
    "tags": []
   },
   "outputs": [],
   "source": [
    "#hide\n",
    "t = everydaycases.stack()"
   ]
  },
  {
   "cell_type": "code",
   "execution_count": 22,
   "id": "premier-sleeve",
   "metadata": {
    "execution": {
     "iopub.execute_input": "2022-04-14T00:42:36.646920Z",
     "iopub.status.busy": "2022-04-14T00:42:36.646426Z",
     "iopub.status.idle": "2022-04-14T00:42:36.657385Z",
     "shell.execute_reply": "2022-04-14T00:42:36.657012Z"
    },
    "papermill": {
     "duration": 0.041472,
     "end_time": "2022-04-14T00:42:36.657486",
     "exception": false,
     "start_time": "2022-04-14T00:42:36.616014",
     "status": "completed"
    },
    "tags": []
   },
   "outputs": [],
   "source": [
    "#hide\n",
    "g = t.reset_index(['Country/Region'])"
   ]
  },
  {
   "cell_type": "code",
   "execution_count": 23,
   "id": "distributed-pittsburgh",
   "metadata": {
    "execution": {
     "iopub.execute_input": "2022-04-14T00:42:36.715437Z",
     "iopub.status.busy": "2022-04-14T00:42:36.714795Z",
     "iopub.status.idle": "2022-04-14T00:42:36.716290Z",
     "shell.execute_reply": "2022-04-14T00:42:36.716726Z"
    },
    "papermill": {
     "duration": 0.032405,
     "end_time": "2022-04-14T00:42:36.716864",
     "exception": false,
     "start_time": "2022-04-14T00:42:36.684459",
     "status": "completed"
    },
    "tags": []
   },
   "outputs": [],
   "source": [
    "#hide\n",
    "g.index.name = 'date'"
   ]
  },
  {
   "cell_type": "code",
   "execution_count": 24,
   "id": "naked-donor",
   "metadata": {
    "execution": {
     "iopub.execute_input": "2022-04-14T00:42:36.776074Z",
     "iopub.status.busy": "2022-04-14T00:42:36.775435Z",
     "iopub.status.idle": "2022-04-14T00:42:36.778922Z",
     "shell.execute_reply": "2022-04-14T00:42:36.779389Z"
    },
    "papermill": {
     "duration": 0.034733,
     "end_time": "2022-04-14T00:42:36.779540",
     "exception": false,
     "start_time": "2022-04-14T00:42:36.744807",
     "status": "completed"
    },
    "tags": []
   },
   "outputs": [],
   "source": [
    "# #hide\n",
    "# g = g.reset_index(['date'])"
   ]
  },
  {
   "cell_type": "code",
   "execution_count": 25,
   "id": "incomplete-mustang",
   "metadata": {
    "execution": {
     "iopub.execute_input": "2022-04-14T00:42:36.838407Z",
     "iopub.status.busy": "2022-04-14T00:42:36.837793Z",
     "iopub.status.idle": "2022-04-14T00:42:36.839123Z",
     "shell.execute_reply": "2022-04-14T00:42:36.839681Z"
    },
    "papermill": {
     "duration": 0.032445,
     "end_time": "2022-04-14T00:42:36.839824",
     "exception": false,
     "start_time": "2022-04-14T00:42:36.807379",
     "status": "completed"
    },
    "tags": []
   },
   "outputs": [],
   "source": [
    "#hide\n",
    "# g.head()"
   ]
  },
  {
   "cell_type": "code",
   "execution_count": 26,
   "id": "specific-kruger",
   "metadata": {
    "execution": {
     "iopub.execute_input": "2022-04-14T00:42:36.897683Z",
     "iopub.status.busy": "2022-04-14T00:42:36.897229Z",
     "iopub.status.idle": "2022-04-14T00:42:36.899525Z",
     "shell.execute_reply": "2022-04-14T00:42:36.899142Z"
    },
    "papermill": {
     "duration": 0.032283,
     "end_time": "2022-04-14T00:42:36.899624",
     "exception": false,
     "start_time": "2022-04-14T00:42:36.867341",
     "status": "completed"
    },
    "tags": []
   },
   "outputs": [],
   "source": [
    "#hide\n",
    "# g.columns = ['date','country','cases']"
   ]
  },
  {
   "cell_type": "code",
   "execution_count": 27,
   "id": "tender-conversion",
   "metadata": {
    "execution": {
     "iopub.execute_input": "2022-04-14T00:42:36.955739Z",
     "iopub.status.busy": "2022-04-14T00:42:36.955301Z",
     "iopub.status.idle": "2022-04-14T00:42:36.957182Z",
     "shell.execute_reply": "2022-04-14T00:42:36.957513Z"
    },
    "papermill": {
     "duration": 0.031432,
     "end_time": "2022-04-14T00:42:36.957620",
     "exception": false,
     "start_time": "2022-04-14T00:42:36.926188",
     "status": "completed"
    },
    "tags": []
   },
   "outputs": [],
   "source": [
    "#hide\n",
    "# g['continent'] = g.country"
   ]
  },
  {
   "cell_type": "code",
   "execution_count": 28,
   "id": "substantial-wilderness",
   "metadata": {
    "execution": {
     "iopub.execute_input": "2022-04-14T00:42:37.013969Z",
     "iopub.status.busy": "2022-04-14T00:42:37.013379Z",
     "iopub.status.idle": "2022-04-14T00:42:37.016754Z",
     "shell.execute_reply": "2022-04-14T00:42:37.016390Z"
    },
    "papermill": {
     "duration": 0.033086,
     "end_time": "2022-04-14T00:42:37.016849",
     "exception": false,
     "start_time": "2022-04-14T00:42:36.983763",
     "status": "completed"
    },
    "tags": []
   },
   "outputs": [],
   "source": [
    "#hide\n",
    "# cols = list(g.columns.values)"
   ]
  },
  {
   "cell_type": "code",
   "execution_count": 29,
   "id": "solved-farming",
   "metadata": {
    "execution": {
     "iopub.execute_input": "2022-04-14T00:42:37.073903Z",
     "iopub.status.busy": "2022-04-14T00:42:37.073439Z",
     "iopub.status.idle": "2022-04-14T00:42:37.075296Z",
     "shell.execute_reply": "2022-04-14T00:42:37.075654Z"
    },
    "papermill": {
     "duration": 0.032231,
     "end_time": "2022-04-14T00:42:37.075762",
     "exception": false,
     "start_time": "2022-04-14T00:42:37.043531",
     "status": "completed"
    },
    "tags": []
   },
   "outputs": [],
   "source": [
    "#hide\n",
    "# cols.insert(0, cols.pop())"
   ]
  },
  {
   "cell_type": "code",
   "execution_count": 30,
   "id": "executed-adoption",
   "metadata": {
    "execution": {
     "iopub.execute_input": "2022-04-14T00:42:37.132514Z",
     "iopub.status.busy": "2022-04-14T00:42:37.132060Z",
     "iopub.status.idle": "2022-04-14T00:42:37.133887Z",
     "shell.execute_reply": "2022-04-14T00:42:37.134299Z"
    },
    "papermill": {
     "duration": 0.031959,
     "end_time": "2022-04-14T00:42:37.134407",
     "exception": false,
     "start_time": "2022-04-14T00:42:37.102448",
     "status": "completed"
    },
    "tags": []
   },
   "outputs": [],
   "source": [
    "#hide\n",
    "# g = g[cols]"
   ]
  },
  {
   "cell_type": "code",
   "execution_count": 31,
   "id": "subject-dublin",
   "metadata": {
    "execution": {
     "iopub.execute_input": "2022-04-14T00:42:37.191419Z",
     "iopub.status.busy": "2022-04-14T00:42:37.190791Z",
     "iopub.status.idle": "2022-04-14T00:42:37.192277Z",
     "shell.execute_reply": "2022-04-14T00:42:37.192739Z"
    },
    "papermill": {
     "duration": 0.031721,
     "end_time": "2022-04-14T00:42:37.192873",
     "exception": false,
     "start_time": "2022-04-14T00:42:37.161152",
     "status": "completed"
    },
    "tags": []
   },
   "outputs": [],
   "source": [
    "#hide\n",
    "# g['continent'] = g['continent'].map(mapping['map.continent'])"
   ]
  },
  {
   "cell_type": "code",
   "execution_count": 32,
   "id": "freelance-scout",
   "metadata": {
    "execution": {
     "iopub.execute_input": "2022-04-14T00:42:37.250591Z",
     "iopub.status.busy": "2022-04-14T00:42:37.250126Z",
     "iopub.status.idle": "2022-04-14T00:42:37.252388Z",
     "shell.execute_reply": "2022-04-14T00:42:37.252024Z"
    },
    "papermill": {
     "duration": 0.031842,
     "end_time": "2022-04-14T00:42:37.252480",
     "exception": false,
     "start_time": "2022-04-14T00:42:37.220638",
     "status": "completed"
    },
    "tags": []
   },
   "outputs": [],
   "source": [
    "#hide\n",
    "# g.head()"
   ]
  },
  {
   "cell_type": "code",
   "execution_count": 33,
   "id": "limited-engine",
   "metadata": {
    "execution": {
     "iopub.execute_input": "2022-04-14T00:42:37.309397Z",
     "iopub.status.busy": "2022-04-14T00:42:37.308927Z",
     "iopub.status.idle": "2022-04-14T00:42:37.310609Z",
     "shell.execute_reply": "2022-04-14T00:42:37.310985Z"
    },
    "papermill": {
     "duration": 0.031824,
     "end_time": "2022-04-14T00:42:37.311097",
     "exception": false,
     "start_time": "2022-04-14T00:42:37.279273",
     "status": "completed"
    },
    "tags": []
   },
   "outputs": [],
   "source": [
    "# hide\n",
    "# g['date'] = g['date'].astype('datetime64[ns]')"
   ]
  },
  {
   "cell_type": "code",
   "execution_count": 34,
   "id": "sophisticated-supervisor",
   "metadata": {
    "execution": {
     "iopub.execute_input": "2022-04-14T00:42:37.368314Z",
     "iopub.status.busy": "2022-04-14T00:42:37.367715Z",
     "iopub.status.idle": "2022-04-14T00:42:37.369101Z",
     "shell.execute_reply": "2022-04-14T00:42:37.369561Z"
    },
    "papermill": {
     "duration": 0.031634,
     "end_time": "2022-04-14T00:42:37.369676",
     "exception": false,
     "start_time": "2022-04-14T00:42:37.338042",
     "status": "completed"
    },
    "tags": []
   },
   "outputs": [],
   "source": [
    "#hide\n",
    "# g['date'] = g.date.dt.dayofyear"
   ]
  },
  {
   "cell_type": "code",
   "execution_count": 35,
   "id": "inside-dubai",
   "metadata": {
    "execution": {
     "iopub.execute_input": "2022-04-14T00:42:37.426581Z",
     "iopub.status.busy": "2022-04-14T00:42:37.425972Z",
     "iopub.status.idle": "2022-04-14T00:42:37.429602Z",
     "shell.execute_reply": "2022-04-14T00:42:37.430047Z"
    },
    "papermill": {
     "duration": 0.033916,
     "end_time": "2022-04-14T00:42:37.430172",
     "exception": false,
     "start_time": "2022-04-14T00:42:37.396256",
     "status": "completed"
    },
    "tags": []
   },
   "outputs": [],
   "source": [
    "#hide\n",
    "# g = g.rename(columns= {'continent':'group','country':'name','cases':'value'})"
   ]
  },
  {
   "cell_type": "code",
   "execution_count": 36,
   "id": "fleet-motorcycle",
   "metadata": {
    "execution": {
     "iopub.execute_input": "2022-04-14T00:42:37.487322Z",
     "iopub.status.busy": "2022-04-14T00:42:37.486691Z",
     "iopub.status.idle": "2022-04-14T00:42:37.488566Z",
     "shell.execute_reply": "2022-04-14T00:42:37.488001Z"
    },
    "papermill": {
     "duration": 0.031717,
     "end_time": "2022-04-14T00:42:37.488682",
     "exception": false,
     "start_time": "2022-04-14T00:42:37.456965",
     "status": "completed"
    },
    "tags": []
   },
   "outputs": [],
   "source": [
    "#hide\n",
    "# cols = ['name','group','day','value']"
   ]
  },
  {
   "cell_type": "code",
   "execution_count": 37,
   "id": "continued-sleeping",
   "metadata": {
    "execution": {
     "iopub.execute_input": "2022-04-14T00:42:37.545567Z",
     "iopub.status.busy": "2022-04-14T00:42:37.545116Z",
     "iopub.status.idle": "2022-04-14T00:42:37.546935Z",
     "shell.execute_reply": "2022-04-14T00:42:37.547392Z"
    },
    "papermill": {
     "duration": 0.031525,
     "end_time": "2022-04-14T00:42:37.547499",
     "exception": false,
     "start_time": "2022-04-14T00:42:37.515974",
     "status": "completed"
    },
    "tags": []
   },
   "outputs": [],
   "source": [
    "#hide\n",
    "# g.rename(columns= {'date':'day'},inplace = True)"
   ]
  },
  {
   "cell_type": "code",
   "execution_count": 38,
   "id": "major-fight",
   "metadata": {
    "execution": {
     "iopub.execute_input": "2022-04-14T00:42:37.603474Z",
     "iopub.status.busy": "2022-04-14T00:42:37.603022Z",
     "iopub.status.idle": "2022-04-14T00:42:37.606411Z",
     "shell.execute_reply": "2022-04-14T00:42:37.606746Z"
    },
    "papermill": {
     "duration": 0.032686,
     "end_time": "2022-04-14T00:42:37.606852",
     "exception": false,
     "start_time": "2022-04-14T00:42:37.574166",
     "status": "completed"
    },
    "tags": []
   },
   "outputs": [],
   "source": [
    "#hide\n",
    "# g = g[cols]"
   ]
  },
  {
   "cell_type": "code",
   "execution_count": 39,
   "id": "structured-mobile",
   "metadata": {
    "execution": {
     "iopub.execute_input": "2022-04-14T00:42:37.663734Z",
     "iopub.status.busy": "2022-04-14T00:42:37.663265Z",
     "iopub.status.idle": "2022-04-14T00:42:37.665170Z",
     "shell.execute_reply": "2022-04-14T00:42:37.665516Z"
    },
    "papermill": {
     "duration": 0.032376,
     "end_time": "2022-04-14T00:42:37.665629",
     "exception": false,
     "start_time": "2022-04-14T00:42:37.633253",
     "status": "completed"
    },
    "tags": []
   },
   "outputs": [],
   "source": [
    "# #hide\n",
    "# g = g[g.group.notna()]"
   ]
  },
  {
   "cell_type": "code",
   "execution_count": 40,
   "id": "determined-closing",
   "metadata": {
    "execution": {
     "iopub.execute_input": "2022-04-14T00:42:37.721994Z",
     "iopub.status.busy": "2022-04-14T00:42:37.721391Z",
     "iopub.status.idle": "2022-04-14T00:42:37.723178Z",
     "shell.execute_reply": "2022-04-14T00:42:37.722596Z"
    },
    "papermill": {
     "duration": 0.031126,
     "end_time": "2022-04-14T00:42:37.723295",
     "exception": false,
     "start_time": "2022-04-14T00:42:37.692169",
     "status": "completed"
    },
    "tags": []
   },
   "outputs": [],
   "source": [
    "# #hide\n",
    "# colors = dict(zip(\n",
    "#     [\"Oceania\", \"Europe\", \"Asia\", \"South America\", \"Middle East\", \"North America\", \"Africa\"],\n",
    "#     [\"#adb0ff\", \"#ffb3ff\", \"#90d595\", \"#e48381\", \"#aafbff\", \"#f7bb5f\", \"#eafb50\"]\n",
    "# ))\n",
    "# group_lk = g.set_index('name')['group'].to_dict()"
   ]
  },
  {
   "cell_type": "code",
   "execution_count": null,
   "id": "gross-drinking",
   "metadata": {
    "papermill": {
     "duration": 0.026657,
     "end_time": "2022-04-14T00:42:37.776826",
     "exception": false,
     "start_time": "2022-04-14T00:42:37.750169",
     "status": "completed"
    },
    "tags": []
   },
   "outputs": [],
   "source": []
  },
  {
   "cell_type": "code",
   "execution_count": 41,
   "id": "subject-macintosh",
   "metadata": {
    "execution": {
     "iopub.execute_input": "2022-04-14T00:42:37.833785Z",
     "iopub.status.busy": "2022-04-14T00:42:37.833324Z",
     "iopub.status.idle": "2022-04-14T00:42:37.835278Z",
     "shell.execute_reply": "2022-04-14T00:42:37.835641Z"
    },
    "papermill": {
     "duration": 0.03257,
     "end_time": "2022-04-14T00:42:37.835744",
     "exception": false,
     "start_time": "2022-04-14T00:42:37.803174",
     "status": "completed"
    },
    "tags": []
   },
   "outputs": [],
   "source": [
    "# #hide\n",
    "# fig, ax = plt.subplots(figsize=(15, 8))\n",
    "\n",
    "# def draw_barchart(current_day):\n",
    "#     dff = g[g['day'].eq(current_day)].sort_values(by='value', ascending=True).tail(10)\n",
    "#     ax.clear()\n",
    "#     ax.barh(dff['name'], dff['value'], color=[colors[group_lk[x]] for x in dff['name']])\n",
    "#     dx = dff['value'].max() / 200\n",
    "    \n",
    "#     for i, (value, name) in enumerate(zip(dff['value'], dff['name'])):\n",
    "#         ax.text(value-dx, i,     name,           size=14, weight=600, ha='right', va='bottom')\n",
    "#         ax.text(value-dx, i-.25, group_lk[name], size=10, color='#444444', ha='right', va='baseline')\n",
    "#         ax.text(value+dx, i,     f'{value:,.0f}',  size=14, ha='left',  va='center')\n",
    "#     ax.text(1, 0.4, current_day, transform=ax.transAxes, color='#777777', size=46, ha='right', weight=800)\n",
    "#     ax.text(0, 1.06, 'Population (thousands)', transform=ax.transAxes, size=12, color='#777777')\n",
    "#     ax.xaxis.set_major_formatter(ticker.StrMethodFormatter('{x:,.0f}'))\n",
    "#     ax.xaxis.set_ticks_position('top')\n",
    "#     ax.tick_params(axis='x', colors='#777777', labelsize=12)\n",
    "#     ax.set_yticks([])\n",
    "#     ax.margins(0, 0.01)\n",
    "#     ax.grid(which='major', axis='x', linestyle='-')\n",
    "#     ax.set_axisbelow(True)\n",
    "    \n",
    "#     ax.text(0, 1.15, 'Coronavirus',\n",
    "#             transform=ax.transAxes, size=24, weight=600, ha='left', va='top')\n",
    "# #     ax.text(1, 0, 'by @pratapvardhan; credit @jburnmurdoch', transform=ax.transAxes, color='#777777', ha='right',\n",
    "# #             bbox=dict(facecolor='white', alpha=0.8, edgecolor='white'))\n",
    "#     plt.box(False)"
   ]
  },
  {
   "cell_type": "code",
   "execution_count": 42,
   "id": "sexual-wages",
   "metadata": {
    "execution": {
     "iopub.execute_input": "2022-04-14T00:42:37.892016Z",
     "iopub.status.busy": "2022-04-14T00:42:37.891416Z",
     "iopub.status.idle": "2022-04-14T00:42:37.895277Z",
     "shell.execute_reply": "2022-04-14T00:42:37.895727Z"
    },
    "papermill": {
     "duration": 0.033706,
     "end_time": "2022-04-14T00:42:37.895860",
     "exception": false,
     "start_time": "2022-04-14T00:42:37.862154",
     "status": "completed"
    },
    "tags": []
   },
   "outputs": [],
   "source": [
    "# #hide_input\n",
    "# fig, ax = plt.subplots(figsize=(15, 8))\n",
    "# animator = animation.FuncAnimation(fig, draw_barchart, frames=range(g.day.values.min(), g.day.values.max()))\n",
    "# HTML(animator.to_jshtml())\n",
    "# # or use animator.to_html5_video() or animator.save() "
   ]
  },
  {
   "cell_type": "code",
   "execution_count": null,
   "id": "australian-container",
   "metadata": {
    "papermill": {
     "duration": 0.026918,
     "end_time": "2022-04-14T00:42:37.949981",
     "exception": false,
     "start_time": "2022-04-14T00:42:37.923063",
     "status": "completed"
    },
    "tags": []
   },
   "outputs": [],
   "source": []
  },
  {
   "cell_type": "code",
   "execution_count": null,
   "id": "mediterranean-pontiac",
   "metadata": {
    "papermill": {
     "duration": 0.026617,
     "end_time": "2022-04-14T00:42:38.003179",
     "exception": false,
     "start_time": "2022-04-14T00:42:37.976562",
     "status": "completed"
    },
    "tags": []
   },
   "outputs": [],
   "source": []
  },
  {
   "cell_type": "code",
   "execution_count": null,
   "id": "aging-legislature",
   "metadata": {
    "papermill": {
     "duration": 0.026307,
     "end_time": "2022-04-14T00:42:38.055733",
     "exception": false,
     "start_time": "2022-04-14T00:42:38.029426",
     "status": "completed"
    },
    "tags": []
   },
   "outputs": [],
   "source": []
  }
 ],
 "metadata": {
  "kernelspec": {
   "display_name": "Python 3",
   "language": "python",
   "name": "python3"
  },
  "language_info": {
   "codemirror_mode": {
    "name": "ipython",
    "version": 3
   },
   "file_extension": ".py",
   "mimetype": "text/x-python",
   "name": "python",
   "nbconvert_exporter": "python",
   "pygments_lexer": "ipython3",
   "version": "3.6.15"
  },
  "papermill": {
   "duration": 5.888606,
   "end_time": "2022-04-14T00:42:38.400276",
   "environment_variables": {},
   "exception": null,
   "input_path": "2020-03-21-covid19exp.ipynb",
   "output_path": "2020-03-21-covid19exp.ipynb",
   "parameters": {},
   "start_time": "2022-04-14T00:42:32.511670",
   "version": "2.0.0"
  }
 },
 "nbformat": 4,
 "nbformat_minor": 5
}