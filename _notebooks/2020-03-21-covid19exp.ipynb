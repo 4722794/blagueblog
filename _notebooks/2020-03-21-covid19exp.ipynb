{
 "cells": [
  {
   "cell_type": "markdown",
   "id": "muslim-click",
   "metadata": {
    "papermill": {
     "duration": 0.03745,
     "end_time": "2021-03-04T12:08:32.134444",
     "exception": false,
     "start_time": "2021-03-04T12:08:32.096994",
     "status": "completed"
    },
    "tags": []
   },
   "source": [
    "# COVID-19 Case Race\n",
    "> A race chart to see rising cases around the world\n",
    "\n",
    "- author: Hargun Oberoi\n",
    "- image: images/covid-overview.png\n",
    "- hide: false\n",
    "- badges: false"
   ]
  },
  {
   "cell_type": "code",
   "execution_count": 1,
   "id": "proof-material",
   "metadata": {
    "execution": {
     "iopub.execute_input": "2021-03-04T12:08:32.216341Z",
     "iopub.status.busy": "2021-03-04T12:08:32.215734Z",
     "iopub.status.idle": "2021-03-04T12:08:32.550056Z",
     "shell.execute_reply": "2021-03-04T12:08:32.549466Z"
    },
    "papermill": {
     "duration": 0.381777,
     "end_time": "2021-03-04T12:08:32.550220",
     "exception": false,
     "start_time": "2021-03-04T12:08:32.168443",
     "status": "completed"
    },
    "tags": []
   },
   "outputs": [],
   "source": [
    "#hide\n",
    "import numpy as np\n",
    "import pandas as pd\n",
    "from jinja2 import Template\n",
    "from IPython.display import HTML"
   ]
  },
  {
   "cell_type": "code",
   "execution_count": 2,
   "id": "developed-terminology",
   "metadata": {
    "execution": {
     "iopub.execute_input": "2021-03-04T12:08:32.632410Z",
     "iopub.status.busy": "2021-03-04T12:08:32.631803Z",
     "iopub.status.idle": "2021-03-04T12:08:32.634873Z",
     "shell.execute_reply": "2021-03-04T12:08:32.634366Z"
    },
    "papermill": {
     "duration": 0.04271,
     "end_time": "2021-03-04T12:08:32.634994",
     "exception": false,
     "start_time": "2021-03-04T12:08:32.592284",
     "status": "completed"
    },
    "tags": []
   },
   "outputs": [],
   "source": [
    "#hide\n",
    "\n",
    "# FETCH\n",
    "base_url = 'https://raw.githubusercontent.com/pratapvardhan/notebooks/master/covid19/'\n",
    "paths = {\n",
    "    'mapping': base_url + 'mapping_countries.csv',\n",
    "    'overview': base_url + 'overview.tpl'\n",
    "}"
   ]
  },
  {
   "cell_type": "code",
   "execution_count": 3,
   "id": "dynamic-saver",
   "metadata": {
    "execution": {
     "iopub.execute_input": "2021-03-04T12:08:32.713161Z",
     "iopub.status.busy": "2021-03-04T12:08:32.710678Z",
     "iopub.status.idle": "2021-03-04T12:08:32.716246Z",
     "shell.execute_reply": "2021-03-04T12:08:32.715752Z"
    },
    "papermill": {
     "duration": 0.047717,
     "end_time": "2021-03-04T12:08:32.716372",
     "exception": false,
     "start_time": "2021-03-04T12:08:32.668655",
     "status": "completed"
    },
    "tags": []
   },
   "outputs": [
    {
     "data": {
      "text/plain": [
       "'https://raw.githubusercontent.com/pratapvardhan/notebooks/master/covid19/mapping_countries.csv'"
      ]
     },
     "execution_count": 3,
     "metadata": {},
     "output_type": "execute_result"
    }
   ],
   "source": [
    "#hide\n",
    "paths['mapping']"
   ]
  },
  {
   "cell_type": "code",
   "execution_count": 4,
   "id": "urban-software",
   "metadata": {
    "execution": {
     "iopub.execute_input": "2021-03-04T12:08:32.790152Z",
     "iopub.status.busy": "2021-03-04T12:08:32.789533Z",
     "iopub.status.idle": "2021-03-04T12:08:32.791840Z",
     "shell.execute_reply": "2021-03-04T12:08:32.791347Z"
    },
    "papermill": {
     "duration": 0.042367,
     "end_time": "2021-03-04T12:08:32.791959",
     "exception": false,
     "start_time": "2021-03-04T12:08:32.749592",
     "status": "completed"
    },
    "tags": []
   },
   "outputs": [],
   "source": [
    "#hide\n",
    "def get_mappings(url):\n",
    "    df = pd.read_csv(url)\n",
    "    return {\n",
    "        'df': df,\n",
    "        'replace.country': dict(df.dropna(subset=['Name']).set_index('Country')['Name']),\n",
    "        'map.continent': dict(df.set_index('Name')['Continent'])\n",
    "    }"
   ]
  },
  {
   "cell_type": "code",
   "execution_count": 5,
   "id": "intimate-machinery",
   "metadata": {
    "execution": {
     "iopub.execute_input": "2021-03-04T12:08:32.864386Z",
     "iopub.status.busy": "2021-03-04T12:08:32.863792Z",
     "iopub.status.idle": "2021-03-04T12:08:32.895996Z",
     "shell.execute_reply": "2021-03-04T12:08:32.895322Z"
    },
    "papermill": {
     "duration": 0.071077,
     "end_time": "2021-03-04T12:08:32.896153",
     "exception": false,
     "start_time": "2021-03-04T12:08:32.825076",
     "status": "completed"
    },
    "tags": []
   },
   "outputs": [],
   "source": [
    "#hide\n",
    "mapping = get_mappings(paths['mapping'])"
   ]
  },
  {
   "cell_type": "code",
   "execution_count": 6,
   "id": "certified-tactics",
   "metadata": {
    "execution": {
     "iopub.execute_input": "2021-03-04T12:08:32.970630Z",
     "iopub.status.busy": "2021-03-04T12:08:32.970004Z",
     "iopub.status.idle": "2021-03-04T12:08:32.972735Z",
     "shell.execute_reply": "2021-03-04T12:08:32.972268Z"
    },
    "papermill": {
     "duration": 0.042516,
     "end_time": "2021-03-04T12:08:32.972864",
     "exception": false,
     "start_time": "2021-03-04T12:08:32.930348",
     "status": "completed"
    },
    "tags": []
   },
   "outputs": [],
   "source": [
    "#hide\n",
    "def get_template(path):\n",
    "    from urllib.parse import urlparse\n",
    "    if bool(urlparse(path).netloc):\n",
    "        from urllib.request import urlopen\n",
    "        return urlopen(path).read().decode('utf8')\n",
    "    return open(path).read()"
   ]
  },
  {
   "cell_type": "code",
   "execution_count": 7,
   "id": "realistic-blast",
   "metadata": {
    "execution": {
     "iopub.execute_input": "2021-03-04T12:08:33.044620Z",
     "iopub.status.busy": "2021-03-04T12:08:33.044035Z",
     "iopub.status.idle": "2021-03-04T12:08:33.046246Z",
     "shell.execute_reply": "2021-03-04T12:08:33.046691Z"
    },
    "papermill": {
     "duration": 0.040877,
     "end_time": "2021-03-04T12:08:33.046828",
     "exception": false,
     "start_time": "2021-03-04T12:08:33.005951",
     "status": "completed"
    },
    "tags": []
   },
   "outputs": [],
   "source": [
    "#hide\n",
    "def get_frame(name):\n",
    "    url = (\n",
    "        'https://raw.githubusercontent.com/CSSEGISandData/COVID-19/master/csse_covid_19_data/'\n",
    "        f'csse_covid_19_time_series/time_series_covid19_{name}_global.csv')\n",
    "    df = pd.read_csv(url)\n",
    "    # rename countries\n",
    "    df['Country/Region'] = df['Country/Region'].replace(mapping['replace.country'])\n",
    "    return df"
   ]
  },
  {
   "cell_type": "code",
   "execution_count": 8,
   "id": "affiliated-characterization",
   "metadata": {
    "execution": {
     "iopub.execute_input": "2021-03-04T12:08:33.121535Z",
     "iopub.status.busy": "2021-03-04T12:08:33.120947Z",
     "iopub.status.idle": "2021-03-04T12:08:33.123416Z",
     "shell.execute_reply": "2021-03-04T12:08:33.123915Z"
    },
    "papermill": {
     "duration": 0.044084,
     "end_time": "2021-03-04T12:08:33.124051",
     "exception": false,
     "start_time": "2021-03-04T12:08:33.079967",
     "status": "completed"
    },
    "tags": []
   },
   "outputs": [],
   "source": [
    "#hide\n",
    "def get_dates(df):\n",
    "    dt_cols = df.columns[~df.columns.isin(['Province/State', 'Country/Region', 'Lat', 'Long'])]\n",
    "    LAST_DATE_I = -1\n",
    "    # sometimes last column may be empty, then go backwards\n",
    "    for i in range(-1, -len(dt_cols), -1):\n",
    "        if not df[dt_cols[i]].fillna(0).eq(0).all():\n",
    "            LAST_DATE_I = i\n",
    "            break\n",
    "    return LAST_DATE_I, dt_cols"
   ]
  },
  {
   "cell_type": "code",
   "execution_count": 9,
   "id": "recent-optimization",
   "metadata": {
    "execution": {
     "iopub.execute_input": "2021-03-04T12:08:33.200847Z",
     "iopub.status.busy": "2021-03-04T12:08:33.200222Z",
     "iopub.status.idle": "2021-03-04T12:08:33.454870Z",
     "shell.execute_reply": "2021-03-04T12:08:33.454273Z"
    },
    "papermill": {
     "duration": 0.298099,
     "end_time": "2021-03-04T12:08:33.455006",
     "exception": false,
     "start_time": "2021-03-04T12:08:33.156907",
     "status": "completed"
    },
    "tags": []
   },
   "outputs": [],
   "source": [
    "#hide\n",
    "COL_REGION = 'Country/Region'\n",
    "# Confirmed, Recovered, Deaths\n",
    "df = get_frame('confirmed')\n",
    "# dft_: timeseries, dfc_: today country agg\n",
    "dft_cases = df\n",
    "dft_deaths = get_frame('deaths')\n",
    "dft_recovered = get_frame('recovered')\n",
    "LAST_DATE_I, dt_cols = get_dates(df)"
   ]
  },
  {
   "cell_type": "code",
   "execution_count": 10,
   "id": "absolute-copper",
   "metadata": {
    "execution": {
     "iopub.execute_input": "2021-03-04T12:08:33.536037Z",
     "iopub.status.busy": "2021-03-04T12:08:33.535434Z",
     "iopub.status.idle": "2021-03-04T12:08:33.537630Z",
     "shell.execute_reply": "2021-03-04T12:08:33.537139Z"
    },
    "papermill": {
     "duration": 0.040824,
     "end_time": "2021-03-04T12:08:33.537753",
     "exception": false,
     "start_time": "2021-03-04T12:08:33.496929",
     "status": "completed"
    },
    "tags": []
   },
   "outputs": [],
   "source": [
    "#hide\n",
    "LAST_DATE_I, dt_cols = get_dates(df)\n",
    "dt_today =dt_cols[LAST_DATE_I]\n",
    "# dt_5day = dt_cols[LAST_DATE_I - 5]\n",
    "dt_yday = dt_cols[LAST_DATE_I - 1]"
   ]
  },
  {
   "cell_type": "code",
   "execution_count": 11,
   "id": "restricted-sheriff",
   "metadata": {
    "execution": {
     "iopub.execute_input": "2021-03-04T12:08:33.614423Z",
     "iopub.status.busy": "2021-03-04T12:08:33.613800Z",
     "iopub.status.idle": "2021-03-04T12:08:33.618773Z",
     "shell.execute_reply": "2021-03-04T12:08:33.619240Z"
    },
    "papermill": {
     "duration": 0.047848,
     "end_time": "2021-03-04T12:08:33.619380",
     "exception": false,
     "start_time": "2021-03-04T12:08:33.571532",
     "status": "completed"
    },
    "tags": []
   },
   "outputs": [],
   "source": [
    "#hide\n",
    "dfc_cases = dft_cases.groupby(COL_REGION)[dt_today].sum()\n",
    "dfc_deaths = dft_deaths.groupby(COL_REGION)[dt_today].sum()\n",
    "# dfp_cases = dft_cases.groupby(COL_REGION)[dt_5day].sum()\n",
    "# dfp_deaths = dft_deaths.groupby(COL_REGION)[dt_5day].sum()\n",
    "dfp_cases = dft_cases.groupby(COL_REGION)[dt_yday].sum()\n",
    "dfp_deaths = dft_deaths.groupby(COL_REGION)[dt_yday].sum()"
   ]
  },
  {
   "cell_type": "code",
   "execution_count": 12,
   "id": "deluxe-hepatitis",
   "metadata": {
    "execution": {
     "iopub.execute_input": "2021-03-04T12:08:33.695858Z",
     "iopub.status.busy": "2021-03-04T12:08:33.693640Z",
     "iopub.status.idle": "2021-03-04T12:08:33.700315Z",
     "shell.execute_reply": "2021-03-04T12:08:33.699840Z"
    },
    "papermill": {
     "duration": 0.047731,
     "end_time": "2021-03-04T12:08:33.700440",
     "exception": false,
     "start_time": "2021-03-04T12:08:33.652709",
     "status": "completed"
    },
    "tags": []
   },
   "outputs": [],
   "source": [
    "#hide\n",
    "df_table = (pd.DataFrame(dict(Cases = dfc_cases, Deaths = dfc_deaths, PCases = dfp_cases, PDeaths = dfp_deaths))\n",
    "            .sort_values(by = ['Cases','Deaths'], ascending = [False, False])\n",
    "            .reset_index())"
   ]
  },
  {
   "cell_type": "code",
   "execution_count": 13,
   "id": "educational-chancellor",
   "metadata": {
    "execution": {
     "iopub.execute_input": "2021-03-04T12:08:33.783425Z",
     "iopub.status.busy": "2021-03-04T12:08:33.782819Z",
     "iopub.status.idle": "2021-03-04T12:08:33.799282Z",
     "shell.execute_reply": "2021-03-04T12:08:33.798782Z"
    },
    "papermill": {
     "duration": 0.065641,
     "end_time": "2021-03-04T12:08:33.799408",
     "exception": false,
     "start_time": "2021-03-04T12:08:33.733767",
     "status": "completed"
    },
    "tags": []
   },
   "outputs": [
    {
     "data": {
      "text/html": [
       "<div>\n",
       "<style scoped>\n",
       "    .dataframe tbody tr th:only-of-type {\n",
       "        vertical-align: middle;\n",
       "    }\n",
       "\n",
       "    .dataframe tbody tr th {\n",
       "        vertical-align: top;\n",
       "    }\n",
       "\n",
       "    .dataframe thead th {\n",
       "        text-align: right;\n",
       "    }\n",
       "</style>\n",
       "<table border=\"1\" class=\"dataframe\">\n",
       "  <thead>\n",
       "    <tr style=\"text-align: right;\">\n",
       "      <th></th>\n",
       "      <th>Country/Region</th>\n",
       "      <th>Cases</th>\n",
       "      <th>Deaths</th>\n",
       "      <th>PCases</th>\n",
       "      <th>PDeaths</th>\n",
       "      <th>Cases (+)</th>\n",
       "      <th>Deaths (+)</th>\n",
       "      <th>Fatality Rate</th>\n",
       "      <th>Continent</th>\n",
       "    </tr>\n",
       "  </thead>\n",
       "  <tbody>\n",
       "    <tr>\n",
       "      <th>0</th>\n",
       "      <td>US</td>\n",
       "      <td>28759980</td>\n",
       "      <td>518453</td>\n",
       "      <td>28694071</td>\n",
       "      <td>515985</td>\n",
       "      <td>65909</td>\n",
       "      <td>2468</td>\n",
       "      <td>1.80</td>\n",
       "      <td>North America</td>\n",
       "    </tr>\n",
       "    <tr>\n",
       "      <th>1</th>\n",
       "      <td>India</td>\n",
       "      <td>11156923</td>\n",
       "      <td>157435</td>\n",
       "      <td>11139516</td>\n",
       "      <td>157346</td>\n",
       "      <td>17407</td>\n",
       "      <td>89</td>\n",
       "      <td>1.41</td>\n",
       "      <td>Asia</td>\n",
       "    </tr>\n",
       "    <tr>\n",
       "      <th>2</th>\n",
       "      <td>Brazil</td>\n",
       "      <td>10718630</td>\n",
       "      <td>259271</td>\n",
       "      <td>10646926</td>\n",
       "      <td>257361</td>\n",
       "      <td>71704</td>\n",
       "      <td>1910</td>\n",
       "      <td>2.42</td>\n",
       "      <td>South America</td>\n",
       "    </tr>\n",
       "    <tr>\n",
       "      <th>3</th>\n",
       "      <td>Russia</td>\n",
       "      <td>4230707</td>\n",
       "      <td>85901</td>\n",
       "      <td>4220291</td>\n",
       "      <td>85458</td>\n",
       "      <td>10416</td>\n",
       "      <td>443</td>\n",
       "      <td>2.03</td>\n",
       "      <td>Europe</td>\n",
       "    </tr>\n",
       "    <tr>\n",
       "      <th>4</th>\n",
       "      <td>United Kingdom</td>\n",
       "      <td>4207120</td>\n",
       "      <td>124017</td>\n",
       "      <td>4200700</td>\n",
       "      <td>123530</td>\n",
       "      <td>6420</td>\n",
       "      <td>487</td>\n",
       "      <td>2.95</td>\n",
       "      <td>Europe</td>\n",
       "    </tr>\n",
       "  </tbody>\n",
       "</table>\n",
       "</div>"
      ],
      "text/plain": [
       "   Country/Region     Cases  Deaths    PCases  PDeaths  Cases (+)  Deaths (+)  \\\n",
       "0              US  28759980  518453  28694071   515985      65909        2468   \n",
       "1           India  11156923  157435  11139516   157346      17407          89   \n",
       "2          Brazil  10718630  259271  10646926   257361      71704        1910   \n",
       "3          Russia   4230707   85901   4220291    85458      10416         443   \n",
       "4  United Kingdom   4207120  124017   4200700   123530       6420         487   \n",
       "\n",
       "   Fatality Rate      Continent  \n",
       "0           1.80  North America  \n",
       "1           1.41           Asia  \n",
       "2           2.42  South America  \n",
       "3           2.03         Europe  \n",
       "4           2.95         Europe  "
      ]
     },
     "execution_count": 13,
     "metadata": {},
     "output_type": "execute_result"
    }
   ],
   "source": [
    "#hide\n",
    "for c in 'Cases, Deaths'.split(', '):\n",
    "    df_table[f'{c} (+)'] = (df_table[c] - df_table[f'P{c}']).clip(0)\n",
    "    #Clip ça veut dire, les chiffres negatif sont interdit\n",
    "df_table['Fatality Rate'] = (100* df_table['Deaths']/ df_table['Cases']).round(2)\n",
    "df_table['Continent'] = df_table['Country/Region'].map(mapping['map.continent'])\n",
    "df_table.head(5)"
   ]
  },
  {
   "cell_type": "code",
   "execution_count": 14,
   "id": "aboriginal-bulgaria",
   "metadata": {
    "execution": {
     "iopub.execute_input": "2021-03-04T12:08:33.873854Z",
     "iopub.status.busy": "2021-03-04T12:08:33.873275Z",
     "iopub.status.idle": "2021-03-04T12:08:33.875409Z",
     "shell.execute_reply": "2021-03-04T12:08:33.875872Z"
    },
    "papermill": {
     "duration": 0.042833,
     "end_time": "2021-03-04T12:08:33.876019",
     "exception": false,
     "start_time": "2021-03-04T12:08:33.833186",
     "status": "completed"
    },
    "tags": []
   },
   "outputs": [],
   "source": [
    "#hide\n",
    "#delete problematic countries from table\n",
    "df_table = df_table[~df_table['Country/Region'].isin(['Cape Verde', 'Cruise Ship', 'Kosovo'])]"
   ]
  },
  {
   "cell_type": "code",
   "execution_count": 15,
   "id": "fantastic-effect",
   "metadata": {
    "execution": {
     "iopub.execute_input": "2021-03-04T12:08:33.952055Z",
     "iopub.status.busy": "2021-03-04T12:08:33.951467Z",
     "iopub.status.idle": "2021-03-04T12:08:33.970491Z",
     "shell.execute_reply": "2021-03-04T12:08:33.971172Z"
    },
    "papermill": {
     "duration": 0.06182,
     "end_time": "2021-03-04T12:08:33.971357",
     "exception": false,
     "start_time": "2021-03-04T12:08:33.909537",
     "status": "completed"
    },
    "tags": []
   },
   "outputs": [
    {
     "data": {
      "text/html": [
       "<div>\n",
       "<style scoped>\n",
       "    .dataframe tbody tr th:only-of-type {\n",
       "        vertical-align: middle;\n",
       "    }\n",
       "\n",
       "    .dataframe tbody tr th {\n",
       "        vertical-align: top;\n",
       "    }\n",
       "\n",
       "    .dataframe thead th {\n",
       "        text-align: right;\n",
       "    }\n",
       "</style>\n",
       "<table border=\"1\" class=\"dataframe\">\n",
       "  <thead>\n",
       "    <tr style=\"text-align: right;\">\n",
       "      <th></th>\n",
       "      <th>Country/Region</th>\n",
       "      <th>Cases</th>\n",
       "      <th>Deaths</th>\n",
       "      <th>PCases</th>\n",
       "      <th>PDeaths</th>\n",
       "      <th>Cases (+)</th>\n",
       "      <th>Deaths (+)</th>\n",
       "      <th>Fatality Rate</th>\n",
       "      <th>Continent</th>\n",
       "    </tr>\n",
       "  </thead>\n",
       "  <tbody>\n",
       "    <tr>\n",
       "      <th>0</th>\n",
       "      <td>US</td>\n",
       "      <td>28759980</td>\n",
       "      <td>518453</td>\n",
       "      <td>28694071</td>\n",
       "      <td>515985</td>\n",
       "      <td>65909</td>\n",
       "      <td>2468</td>\n",
       "      <td>1.8</td>\n",
       "      <td>North America</td>\n",
       "    </tr>\n",
       "    <tr>\n",
       "      <th>1</th>\n",
       "      <td>India</td>\n",
       "      <td>11156923</td>\n",
       "      <td>157435</td>\n",
       "      <td>11139516</td>\n",
       "      <td>157346</td>\n",
       "      <td>17407</td>\n",
       "      <td>89</td>\n",
       "      <td>1.4</td>\n",
       "      <td>Asia</td>\n",
       "    </tr>\n",
       "    <tr>\n",
       "      <th>2</th>\n",
       "      <td>Brazil</td>\n",
       "      <td>10718630</td>\n",
       "      <td>259271</td>\n",
       "      <td>10646926</td>\n",
       "      <td>257361</td>\n",
       "      <td>71704</td>\n",
       "      <td>1910</td>\n",
       "      <td>2.4</td>\n",
       "      <td>South America</td>\n",
       "    </tr>\n",
       "    <tr>\n",
       "      <th>3</th>\n",
       "      <td>Russia</td>\n",
       "      <td>4230707</td>\n",
       "      <td>85901</td>\n",
       "      <td>4220291</td>\n",
       "      <td>85458</td>\n",
       "      <td>10416</td>\n",
       "      <td>443</td>\n",
       "      <td>2.0</td>\n",
       "      <td>Europe</td>\n",
       "    </tr>\n",
       "    <tr>\n",
       "      <th>4</th>\n",
       "      <td>United Kingdom</td>\n",
       "      <td>4207120</td>\n",
       "      <td>124017</td>\n",
       "      <td>4200700</td>\n",
       "      <td>123530</td>\n",
       "      <td>6420</td>\n",
       "      <td>487</td>\n",
       "      <td>2.9</td>\n",
       "      <td>Europe</td>\n",
       "    </tr>\n",
       "  </tbody>\n",
       "</table>\n",
       "</div>"
      ],
      "text/plain": [
       "   Country/Region     Cases  Deaths    PCases  PDeaths  Cases (+)  Deaths (+)  \\\n",
       "0              US  28759980  518453  28694071   515985      65909        2468   \n",
       "1           India  11156923  157435  11139516   157346      17407          89   \n",
       "2          Brazil  10718630  259271  10646926   257361      71704        1910   \n",
       "3          Russia   4230707   85901   4220291    85458      10416         443   \n",
       "4  United Kingdom   4207120  124017   4200700   123530       6420         487   \n",
       "\n",
       "   Fatality Rate      Continent  \n",
       "0            1.8  North America  \n",
       "1            1.4           Asia  \n",
       "2            2.4  South America  \n",
       "3            2.0         Europe  \n",
       "4            2.9         Europe  "
      ]
     },
     "execution_count": 15,
     "metadata": {},
     "output_type": "execute_result"
    }
   ],
   "source": [
    "#hide\n",
    "df_table = (pd.DataFrame(dict(Cases=dfc_cases, Deaths=dfc_deaths, PCases=dfp_cases, PDeaths=dfp_deaths))\n",
    "             .sort_values(by=['Cases', 'Deaths'], ascending=[False, False])\n",
    "             .reset_index())\n",
    "df_table.rename(columns={'index': 'Country/Region'}, inplace=True)\n",
    "for c in 'Cases, Deaths'.split(', '):\n",
    "    df_table[f'{c} (+)'] = (df_table[c] - df_table[f'P{c}']).clip(0)  # DATA BUG\n",
    "df_table['Fatality Rate'] = (100 * df_table['Deaths'] / df_table['Cases']).round(1)\n",
    "df_table['Continent'] = df_table['Country/Region'].map(mapping['map.continent'])\n",
    "df_table.head(5)"
   ]
  },
  {
   "cell_type": "code",
   "execution_count": 16,
   "id": "fewer-occasion",
   "metadata": {
    "execution": {
     "iopub.execute_input": "2021-03-04T12:08:34.053028Z",
     "iopub.status.busy": "2021-03-04T12:08:34.051999Z",
     "iopub.status.idle": "2021-03-04T12:08:34.054215Z",
     "shell.execute_reply": "2021-03-04T12:08:34.054797Z"
    },
    "papermill": {
     "duration": 0.048146,
     "end_time": "2021-03-04T12:08:34.054934",
     "exception": false,
     "start_time": "2021-03-04T12:08:34.006788",
     "status": "completed"
    },
    "tags": []
   },
   "outputs": [],
   "source": [
    "#hide\n",
    "#delete problematic countries from table\n",
    "df_table = df_table[~df_table['Country/Region'].isin(['Cape Verde', 'Cruise Ship', 'Kosovo'])]"
   ]
  },
  {
   "cell_type": "code",
   "execution_count": 17,
   "id": "related-center",
   "metadata": {
    "execution": {
     "iopub.execute_input": "2021-03-04T12:08:34.142110Z",
     "iopub.status.busy": "2021-03-04T12:08:34.141500Z",
     "iopub.status.idle": "2021-03-04T12:08:34.144147Z",
     "shell.execute_reply": "2021-03-04T12:08:34.143676Z"
    },
    "papermill": {
     "duration": 0.055381,
     "end_time": "2021-03-04T12:08:34.144270",
     "exception": false,
     "start_time": "2021-03-04T12:08:34.088889",
     "status": "completed"
    },
    "tags": []
   },
   "outputs": [],
   "source": [
    "#hide\n",
    "metrics = [df_table.columns[index] for index in [1,2,5,6]]\n",
    "# s_china = df_table[df_table['Country/Region'].eq('China')][metrics].sum().add_prefix('China ')\n",
    "s_us = df_table[df_table['Country/Region'].eq('US')][metrics].sum().add_prefix('US ')\n",
    "s_eu = df_table[df_table['Continent'].eq('Europe')][metrics].sum().add_prefix('EU ')\n",
    "s_ind = df_table[df_table['Country/Region'].eq('India')][metrics].sum().add_prefix('India ')\n",
    "summary = {'updated': pd.to_datetime(dt_today), 'since': pd.to_datetime(dt_yday)}\n",
    "summary = {'updated': pd.to_datetime(dt_today), 'since': pd.to_datetime(dt_yday)}\n",
    "summary = {**summary, **df_table[metrics].sum(), **s_ind, **s_us, **s_eu}"
   ]
  },
  {
   "cell_type": "code",
   "execution_count": 18,
   "id": "engaging-syndrome",
   "metadata": {
    "execution": {
     "iopub.execute_input": "2021-03-04T12:08:34.218843Z",
     "iopub.status.busy": "2021-03-04T12:08:34.218254Z",
     "iopub.status.idle": "2021-03-04T12:08:34.229582Z",
     "shell.execute_reply": "2021-03-04T12:08:34.230049Z"
    },
    "papermill": {
     "duration": 0.051881,
     "end_time": "2021-03-04T12:08:34.230192",
     "exception": false,
     "start_time": "2021-03-04T12:08:34.178311",
     "status": "completed"
    },
    "tags": []
   },
   "outputs": [],
   "source": [
    "#hide\n",
    "dft_ct_new_cases = dft_cases.groupby(COL_REGION)[dt_cols].sum().diff(axis=1).fillna(0).astype(int)"
   ]
  },
  {
   "cell_type": "code",
   "execution_count": 19,
   "id": "neutral-assignment",
   "metadata": {
    "execution": {
     "iopub.execute_input": "2021-03-04T12:08:34.305985Z",
     "iopub.status.busy": "2021-03-04T12:08:34.305403Z",
     "iopub.status.idle": "2021-03-04T12:08:34.307796Z",
     "shell.execute_reply": "2021-03-04T12:08:34.308345Z"
    },
    "papermill": {
     "duration": 0.04419,
     "end_time": "2021-03-04T12:08:34.308480",
     "exception": false,
     "start_time": "2021-03-04T12:08:34.264290",
     "status": "completed"
    },
    "tags": []
   },
   "outputs": [],
   "source": [
    "#hide\n",
    "everydaycases = dft_ct_new_cases.cumsum(axis=1)"
   ]
  },
  {
   "cell_type": "code",
   "execution_count": 20,
   "id": "parliamentary-calgary",
   "metadata": {
    "execution": {
     "iopub.execute_input": "2021-03-04T12:08:34.381606Z",
     "iopub.status.busy": "2021-03-04T12:08:34.380913Z",
     "iopub.status.idle": "2021-03-04T12:08:42.100325Z",
     "shell.execute_reply": "2021-03-04T12:08:42.099462Z"
    },
    "papermill": {
     "duration": 7.757848,
     "end_time": "2021-03-04T12:08:42.100537",
     "exception": false,
     "start_time": "2021-03-04T12:08:34.342689",
     "status": "completed"
    },
    "tags": []
   },
   "outputs": [
    {
     "name": "stderr",
     "output_type": "stream",
     "text": [
      "Matplotlib is building the font cache; this may take a moment.\n"
     ]
    }
   ],
   "source": [
    "#hide\n",
    "import pandas as pd\n",
    "import matplotlib.pyplot as plt\n",
    "import matplotlib.ticker as ticker\n",
    "import matplotlib.animation as animation\n",
    "from IPython.display import HTML"
   ]
  },
  {
   "cell_type": "code",
   "execution_count": 21,
   "id": "lasting-extraction",
   "metadata": {
    "execution": {
     "iopub.execute_input": "2021-03-04T12:08:42.177862Z",
     "iopub.status.busy": "2021-03-04T12:08:42.177259Z",
     "iopub.status.idle": "2021-03-04T12:08:42.182781Z",
     "shell.execute_reply": "2021-03-04T12:08:42.182302Z"
    },
    "papermill": {
     "duration": 0.046141,
     "end_time": "2021-03-04T12:08:42.182907",
     "exception": false,
     "start_time": "2021-03-04T12:08:42.136766",
     "status": "completed"
    },
    "tags": []
   },
   "outputs": [],
   "source": [
    "#hide\n",
    "t = everydaycases.stack()"
   ]
  },
  {
   "cell_type": "code",
   "execution_count": 22,
   "id": "premier-sleeve",
   "metadata": {
    "execution": {
     "iopub.execute_input": "2021-03-04T12:08:42.257231Z",
     "iopub.status.busy": "2021-03-04T12:08:42.256649Z",
     "iopub.status.idle": "2021-03-04T12:08:42.264734Z",
     "shell.execute_reply": "2021-03-04T12:08:42.264261Z"
    },
    "papermill": {
     "duration": 0.047263,
     "end_time": "2021-03-04T12:08:42.264858",
     "exception": false,
     "start_time": "2021-03-04T12:08:42.217595",
     "status": "completed"
    },
    "tags": []
   },
   "outputs": [],
   "source": [
    "#hide\n",
    "g = t.reset_index(['Country/Region'])"
   ]
  },
  {
   "cell_type": "code",
   "execution_count": 23,
   "id": "distributed-pittsburgh",
   "metadata": {
    "execution": {
     "iopub.execute_input": "2021-03-04T12:08:42.338148Z",
     "iopub.status.busy": "2021-03-04T12:08:42.337537Z",
     "iopub.status.idle": "2021-03-04T12:08:42.340004Z",
     "shell.execute_reply": "2021-03-04T12:08:42.339515Z"
    },
    "papermill": {
     "duration": 0.040746,
     "end_time": "2021-03-04T12:08:42.340124",
     "exception": false,
     "start_time": "2021-03-04T12:08:42.299378",
     "status": "completed"
    },
    "tags": []
   },
   "outputs": [],
   "source": [
    "#hide\n",
    "g.index.name = 'date'"
   ]
  },
  {
   "cell_type": "code",
   "execution_count": 24,
   "id": "naked-donor",
   "metadata": {
    "execution": {
     "iopub.execute_input": "2021-03-04T12:08:42.413026Z",
     "iopub.status.busy": "2021-03-04T12:08:42.412454Z",
     "iopub.status.idle": "2021-03-04T12:08:42.415020Z",
     "shell.execute_reply": "2021-03-04T12:08:42.414555Z"
    },
    "papermill": {
     "duration": 0.040008,
     "end_time": "2021-03-04T12:08:42.415140",
     "exception": false,
     "start_time": "2021-03-04T12:08:42.375132",
     "status": "completed"
    },
    "tags": []
   },
   "outputs": [],
   "source": [
    "# #hide\n",
    "# g = g.reset_index(['date'])"
   ]
  },
  {
   "cell_type": "code",
   "execution_count": 25,
   "id": "incomplete-mustang",
   "metadata": {
    "execution": {
     "iopub.execute_input": "2021-03-04T12:08:42.487563Z",
     "iopub.status.busy": "2021-03-04T12:08:42.486957Z",
     "iopub.status.idle": "2021-03-04T12:08:42.489772Z",
     "shell.execute_reply": "2021-03-04T12:08:42.489262Z"
    },
    "papermill": {
     "duration": 0.040533,
     "end_time": "2021-03-04T12:08:42.489894",
     "exception": false,
     "start_time": "2021-03-04T12:08:42.449361",
     "status": "completed"
    },
    "tags": []
   },
   "outputs": [],
   "source": [
    "#hide\n",
    "# g.head()"
   ]
  },
  {
   "cell_type": "code",
   "execution_count": 26,
   "id": "specific-kruger",
   "metadata": {
    "execution": {
     "iopub.execute_input": "2021-03-04T12:08:42.575407Z",
     "iopub.status.busy": "2021-03-04T12:08:42.570548Z",
     "iopub.status.idle": "2021-03-04T12:08:42.576085Z",
     "shell.execute_reply": "2021-03-04T12:08:42.576561Z"
    },
    "papermill": {
     "duration": 0.049681,
     "end_time": "2021-03-04T12:08:42.576711",
     "exception": false,
     "start_time": "2021-03-04T12:08:42.527030",
     "status": "completed"
    },
    "tags": []
   },
   "outputs": [],
   "source": [
    "#hide\n",
    "# g.columns = ['date','country','cases']"
   ]
  },
  {
   "cell_type": "code",
   "execution_count": 27,
   "id": "tender-conversion",
   "metadata": {
    "execution": {
     "iopub.execute_input": "2021-03-04T12:08:42.654240Z",
     "iopub.status.busy": "2021-03-04T12:08:42.653617Z",
     "iopub.status.idle": "2021-03-04T12:08:42.655846Z",
     "shell.execute_reply": "2021-03-04T12:08:42.655273Z"
    },
    "papermill": {
     "duration": 0.041382,
     "end_time": "2021-03-04T12:08:42.655966",
     "exception": false,
     "start_time": "2021-03-04T12:08:42.614584",
     "status": "completed"
    },
    "tags": []
   },
   "outputs": [],
   "source": [
    "#hide\n",
    "# g['continent'] = g.country"
   ]
  },
  {
   "cell_type": "code",
   "execution_count": 28,
   "id": "substantial-wilderness",
   "metadata": {
    "execution": {
     "iopub.execute_input": "2021-03-04T12:08:42.766761Z",
     "iopub.status.busy": "2021-03-04T12:08:42.766136Z",
     "iopub.status.idle": "2021-03-04T12:08:42.768344Z",
     "shell.execute_reply": "2021-03-04T12:08:42.768906Z"
    },
    "papermill": {
     "duration": 0.07661,
     "end_time": "2021-03-04T12:08:42.769106",
     "exception": false,
     "start_time": "2021-03-04T12:08:42.692496",
     "status": "completed"
    },
    "tags": []
   },
   "outputs": [],
   "source": [
    "#hide\n",
    "# cols = list(g.columns.values)"
   ]
  },
  {
   "cell_type": "code",
   "execution_count": 29,
   "id": "solved-farming",
   "metadata": {
    "execution": {
     "iopub.execute_input": "2021-03-04T12:08:43.072797Z",
     "iopub.status.busy": "2021-03-04T12:08:43.071751Z",
     "iopub.status.idle": "2021-03-04T12:08:43.087724Z",
     "shell.execute_reply": "2021-03-04T12:08:43.085541Z"
    },
    "papermill": {
     "duration": 0.062296,
     "end_time": "2021-03-04T12:08:43.087950",
     "exception": false,
     "start_time": "2021-03-04T12:08:43.025654",
     "status": "completed"
    },
    "tags": []
   },
   "outputs": [],
   "source": [
    "#hide\n",
    "# cols.insert(0, cols.pop())"
   ]
  },
  {
   "cell_type": "code",
   "execution_count": 30,
   "id": "executed-adoption",
   "metadata": {
    "execution": {
     "iopub.execute_input": "2021-03-04T12:08:43.167724Z",
     "iopub.status.busy": "2021-03-04T12:08:43.165909Z",
     "iopub.status.idle": "2021-03-04T12:08:43.168432Z",
     "shell.execute_reply": "2021-03-04T12:08:43.168909Z"
    },
    "papermill": {
     "duration": 0.041268,
     "end_time": "2021-03-04T12:08:43.169051",
     "exception": false,
     "start_time": "2021-03-04T12:08:43.127783",
     "status": "completed"
    },
    "tags": []
   },
   "outputs": [],
   "source": [
    "#hide\n",
    "# g = g[cols]"
   ]
  },
  {
   "cell_type": "code",
   "execution_count": 31,
   "id": "subject-dublin",
   "metadata": {
    "execution": {
     "iopub.execute_input": "2021-03-04T12:08:43.260900Z",
     "iopub.status.busy": "2021-03-04T12:08:43.260305Z",
     "iopub.status.idle": "2021-03-04T12:08:43.262786Z",
     "shell.execute_reply": "2021-03-04T12:08:43.262287Z"
    },
    "papermill": {
     "duration": 0.041379,
     "end_time": "2021-03-04T12:08:43.262905",
     "exception": false,
     "start_time": "2021-03-04T12:08:43.221526",
     "status": "completed"
    },
    "tags": []
   },
   "outputs": [],
   "source": [
    "#hide\n",
    "# g['continent'] = g['continent'].map(mapping['map.continent'])"
   ]
  },
  {
   "cell_type": "code",
   "execution_count": 32,
   "id": "freelance-scout",
   "metadata": {
    "execution": {
     "iopub.execute_input": "2021-03-04T12:08:43.336309Z",
     "iopub.status.busy": "2021-03-04T12:08:43.335712Z",
     "iopub.status.idle": "2021-03-04T12:08:43.338041Z",
     "shell.execute_reply": "2021-03-04T12:08:43.338604Z"
    },
    "papermill": {
     "duration": 0.04137,
     "end_time": "2021-03-04T12:08:43.338740",
     "exception": false,
     "start_time": "2021-03-04T12:08:43.297370",
     "status": "completed"
    },
    "tags": []
   },
   "outputs": [],
   "source": [
    "#hide\n",
    "# g.head()"
   ]
  },
  {
   "cell_type": "code",
   "execution_count": 33,
   "id": "limited-engine",
   "metadata": {
    "execution": {
     "iopub.execute_input": "2021-03-04T12:08:43.412555Z",
     "iopub.status.busy": "2021-03-04T12:08:43.411971Z",
     "iopub.status.idle": "2021-03-04T12:08:43.414886Z",
     "shell.execute_reply": "2021-03-04T12:08:43.414390Z"
    },
    "papermill": {
     "duration": 0.041417,
     "end_time": "2021-03-04T12:08:43.415004",
     "exception": false,
     "start_time": "2021-03-04T12:08:43.373587",
     "status": "completed"
    },
    "tags": []
   },
   "outputs": [],
   "source": [
    "# hide\n",
    "# g['date'] = g['date'].astype('datetime64[ns]')"
   ]
  },
  {
   "cell_type": "code",
   "execution_count": 34,
   "id": "sophisticated-supervisor",
   "metadata": {
    "execution": {
     "iopub.execute_input": "2021-03-04T12:08:43.488822Z",
     "iopub.status.busy": "2021-03-04T12:08:43.488228Z",
     "iopub.status.idle": "2021-03-04T12:08:43.492134Z",
     "shell.execute_reply": "2021-03-04T12:08:43.492682Z"
    },
    "papermill": {
     "duration": 0.043296,
     "end_time": "2021-03-04T12:08:43.492818",
     "exception": false,
     "start_time": "2021-03-04T12:08:43.449522",
     "status": "completed"
    },
    "tags": []
   },
   "outputs": [],
   "source": [
    "#hide\n",
    "# g['date'] = g.date.dt.dayofyear"
   ]
  },
  {
   "cell_type": "code",
   "execution_count": 35,
   "id": "inside-dubai",
   "metadata": {
    "execution": {
     "iopub.execute_input": "2021-03-04T12:08:43.566049Z",
     "iopub.status.busy": "2021-03-04T12:08:43.565444Z",
     "iopub.status.idle": "2021-03-04T12:08:43.567738Z",
     "shell.execute_reply": "2021-03-04T12:08:43.567239Z"
    },
    "papermill": {
     "duration": 0.040702,
     "end_time": "2021-03-04T12:08:43.567848",
     "exception": false,
     "start_time": "2021-03-04T12:08:43.527146",
     "status": "completed"
    },
    "tags": []
   },
   "outputs": [],
   "source": [
    "#hide\n",
    "# g = g.rename(columns= {'continent':'group','country':'name','cases':'value'})"
   ]
  },
  {
   "cell_type": "code",
   "execution_count": 36,
   "id": "fleet-motorcycle",
   "metadata": {
    "execution": {
     "iopub.execute_input": "2021-03-04T12:08:43.641379Z",
     "iopub.status.busy": "2021-03-04T12:08:43.640797Z",
     "iopub.status.idle": "2021-03-04T12:08:43.643228Z",
     "shell.execute_reply": "2021-03-04T12:08:43.643778Z"
    },
    "papermill": {
     "duration": 0.041578,
     "end_time": "2021-03-04T12:08:43.643912",
     "exception": false,
     "start_time": "2021-03-04T12:08:43.602334",
     "status": "completed"
    },
    "tags": []
   },
   "outputs": [],
   "source": [
    "#hide\n",
    "# cols = ['name','group','day','value']"
   ]
  },
  {
   "cell_type": "code",
   "execution_count": 37,
   "id": "continued-sleeping",
   "metadata": {
    "execution": {
     "iopub.execute_input": "2021-03-04T12:08:43.716940Z",
     "iopub.status.busy": "2021-03-04T12:08:43.716351Z",
     "iopub.status.idle": "2021-03-04T12:08:43.718562Z",
     "shell.execute_reply": "2021-03-04T12:08:43.719028Z"
    },
    "papermill": {
     "duration": 0.041203,
     "end_time": "2021-03-04T12:08:43.719162",
     "exception": false,
     "start_time": "2021-03-04T12:08:43.677959",
     "status": "completed"
    },
    "tags": []
   },
   "outputs": [],
   "source": [
    "#hide\n",
    "# g.rename(columns= {'date':'day'},inplace = True)"
   ]
  },
  {
   "cell_type": "code",
   "execution_count": 38,
   "id": "major-fight",
   "metadata": {
    "execution": {
     "iopub.execute_input": "2021-03-04T12:08:43.792000Z",
     "iopub.status.busy": "2021-03-04T12:08:43.791398Z",
     "iopub.status.idle": "2021-03-04T12:08:43.793658Z",
     "shell.execute_reply": "2021-03-04T12:08:43.793184Z"
    },
    "papermill": {
     "duration": 0.040088,
     "end_time": "2021-03-04T12:08:43.793781",
     "exception": false,
     "start_time": "2021-03-04T12:08:43.753693",
     "status": "completed"
    },
    "tags": []
   },
   "outputs": [],
   "source": [
    "#hide\n",
    "# g = g[cols]"
   ]
  },
  {
   "cell_type": "code",
   "execution_count": 39,
   "id": "structured-mobile",
   "metadata": {
    "execution": {
     "iopub.execute_input": "2021-03-04T12:08:43.868133Z",
     "iopub.status.busy": "2021-03-04T12:08:43.867547Z",
     "iopub.status.idle": "2021-03-04T12:08:43.870107Z",
     "shell.execute_reply": "2021-03-04T12:08:43.869618Z"
    },
    "papermill": {
     "duration": 0.040277,
     "end_time": "2021-03-04T12:08:43.870232",
     "exception": false,
     "start_time": "2021-03-04T12:08:43.829955",
     "status": "completed"
    },
    "tags": []
   },
   "outputs": [],
   "source": [
    "# #hide\n",
    "# g = g[g.group.notna()]"
   ]
  },
  {
   "cell_type": "code",
   "execution_count": 40,
   "id": "determined-closing",
   "metadata": {
    "execution": {
     "iopub.execute_input": "2021-03-04T12:08:43.944444Z",
     "iopub.status.busy": "2021-03-04T12:08:43.943851Z",
     "iopub.status.idle": "2021-03-04T12:08:43.946739Z",
     "shell.execute_reply": "2021-03-04T12:08:43.947295Z"
    },
    "papermill": {
     "duration": 0.042412,
     "end_time": "2021-03-04T12:08:43.947433",
     "exception": false,
     "start_time": "2021-03-04T12:08:43.905021",
     "status": "completed"
    },
    "tags": []
   },
   "outputs": [],
   "source": [
    "# #hide\n",
    "# colors = dict(zip(\n",
    "#     [\"Oceania\", \"Europe\", \"Asia\", \"South America\", \"Middle East\", \"North America\", \"Africa\"],\n",
    "#     [\"#adb0ff\", \"#ffb3ff\", \"#90d595\", \"#e48381\", \"#aafbff\", \"#f7bb5f\", \"#eafb50\"]\n",
    "# ))\n",
    "# group_lk = g.set_index('name')['group'].to_dict()"
   ]
  },
  {
   "cell_type": "code",
   "execution_count": null,
   "id": "gross-drinking",
   "metadata": {
    "papermill": {
     "duration": 0.034559,
     "end_time": "2021-03-04T12:08:44.016399",
     "exception": false,
     "start_time": "2021-03-04T12:08:43.981840",
     "status": "completed"
    },
    "tags": []
   },
   "outputs": [],
   "source": []
  },
  {
   "cell_type": "code",
   "execution_count": 41,
   "id": "subject-macintosh",
   "metadata": {
    "execution": {
     "iopub.execute_input": "2021-03-04T12:08:44.093378Z",
     "iopub.status.busy": "2021-03-04T12:08:44.092759Z",
     "iopub.status.idle": "2021-03-04T12:08:44.095333Z",
     "shell.execute_reply": "2021-03-04T12:08:44.094838Z"
    },
    "papermill": {
     "duration": 0.044373,
     "end_time": "2021-03-04T12:08:44.095452",
     "exception": false,
     "start_time": "2021-03-04T12:08:44.051079",
     "status": "completed"
    },
    "tags": []
   },
   "outputs": [],
   "source": [
    "# #hide\n",
    "# fig, ax = plt.subplots(figsize=(15, 8))\n",
    "\n",
    "# def draw_barchart(current_day):\n",
    "#     dff = g[g['day'].eq(current_day)].sort_values(by='value', ascending=True).tail(10)\n",
    "#     ax.clear()\n",
    "#     ax.barh(dff['name'], dff['value'], color=[colors[group_lk[x]] for x in dff['name']])\n",
    "#     dx = dff['value'].max() / 200\n",
    "    \n",
    "#     for i, (value, name) in enumerate(zip(dff['value'], dff['name'])):\n",
    "#         ax.text(value-dx, i,     name,           size=14, weight=600, ha='right', va='bottom')\n",
    "#         ax.text(value-dx, i-.25, group_lk[name], size=10, color='#444444', ha='right', va='baseline')\n",
    "#         ax.text(value+dx, i,     f'{value:,.0f}',  size=14, ha='left',  va='center')\n",
    "#     ax.text(1, 0.4, current_day, transform=ax.transAxes, color='#777777', size=46, ha='right', weight=800)\n",
    "#     ax.text(0, 1.06, 'Population (thousands)', transform=ax.transAxes, size=12, color='#777777')\n",
    "#     ax.xaxis.set_major_formatter(ticker.StrMethodFormatter('{x:,.0f}'))\n",
    "#     ax.xaxis.set_ticks_position('top')\n",
    "#     ax.tick_params(axis='x', colors='#777777', labelsize=12)\n",
    "#     ax.set_yticks([])\n",
    "#     ax.margins(0, 0.01)\n",
    "#     ax.grid(which='major', axis='x', linestyle='-')\n",
    "#     ax.set_axisbelow(True)\n",
    "    \n",
    "#     ax.text(0, 1.15, 'Coronavirus',\n",
    "#             transform=ax.transAxes, size=24, weight=600, ha='left', va='top')\n",
    "# #     ax.text(1, 0, 'by @pratapvardhan; credit @jburnmurdoch', transform=ax.transAxes, color='#777777', ha='right',\n",
    "# #             bbox=dict(facecolor='white', alpha=0.8, edgecolor='white'))\n",
    "#     plt.box(False)"
   ]
  },
  {
   "cell_type": "code",
   "execution_count": 42,
   "id": "sexual-wages",
   "metadata": {
    "execution": {
     "iopub.execute_input": "2021-03-04T12:08:44.168454Z",
     "iopub.status.busy": "2021-03-04T12:08:44.167873Z",
     "iopub.status.idle": "2021-03-04T12:08:44.170166Z",
     "shell.execute_reply": "2021-03-04T12:08:44.170727Z"
    },
    "papermill": {
     "duration": 0.04126,
     "end_time": "2021-03-04T12:08:44.170860",
     "exception": false,
     "start_time": "2021-03-04T12:08:44.129600",
     "status": "completed"
    },
    "tags": []
   },
   "outputs": [],
   "source": [
    "# #hide_input\n",
    "# fig, ax = plt.subplots(figsize=(15, 8))\n",
    "# animator = animation.FuncAnimation(fig, draw_barchart, frames=range(g.day.values.min(), g.day.values.max()))\n",
    "# HTML(animator.to_jshtml())\n",
    "# # or use animator.to_html5_video() or animator.save() "
   ]
  },
  {
   "cell_type": "code",
   "execution_count": null,
   "id": "australian-container",
   "metadata": {
    "papermill": {
     "duration": 0.034238,
     "end_time": "2021-03-04T12:08:44.239598",
     "exception": false,
     "start_time": "2021-03-04T12:08:44.205360",
     "status": "completed"
    },
    "tags": []
   },
   "outputs": [],
   "source": []
  },
  {
   "cell_type": "code",
   "execution_count": null,
   "id": "mediterranean-pontiac",
   "metadata": {
    "papermill": {
     "duration": 0.034223,
     "end_time": "2021-03-04T12:08:44.308335",
     "exception": false,
     "start_time": "2021-03-04T12:08:44.274112",
     "status": "completed"
    },
    "tags": []
   },
   "outputs": [],
   "source": []
  },
  {
   "cell_type": "code",
   "execution_count": null,
   "id": "aging-legislature",
   "metadata": {
    "papermill": {
     "duration": 0.034719,
     "end_time": "2021-03-04T12:08:44.377503",
     "exception": false,
     "start_time": "2021-03-04T12:08:44.342784",
     "status": "completed"
    },
    "tags": []
   },
   "outputs": [],
   "source": []
  }
 ],
 "metadata": {
  "kernelspec": {
   "display_name": "Python 3",
   "language": "python",
   "name": "python3"
  },
  "language_info": {
   "codemirror_mode": {
    "name": "ipython",
    "version": 3
   },
   "file_extension": ".py",
   "mimetype": "text/x-python",
   "name": "python",
   "nbconvert_exporter": "python",
   "pygments_lexer": "ipython3",
   "version": "3.6.13"
  },
  "papermill": {
   "duration": 13.83652,
   "end_time": "2021-03-04T12:08:44.820280",
   "environment_variables": {},
   "exception": null,
   "input_path": "2020-03-21-covid19exp.ipynb",
   "output_path": "2020-03-21-covid19exp.ipynb",
   "parameters": {},
   "start_time": "2021-03-04T12:08:30.983760",
   "version": "2.0.0"
  }
 },
 "nbformat": 4,
 "nbformat_minor": 5
}