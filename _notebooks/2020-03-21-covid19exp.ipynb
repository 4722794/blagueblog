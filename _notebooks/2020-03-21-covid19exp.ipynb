{
 "cells": [
  {
   "cell_type": "markdown",
   "id": "muslim-click",
   "metadata": {
    "papermill": {
     "duration": 0.039594,
     "end_time": "2022-04-04T00:35:16.268854",
     "exception": false,
     "start_time": "2022-04-04T00:35:16.229260",
     "status": "completed"
    },
    "tags": []
   },
   "source": [
    "# COVID-19 Case Race\n",
    "> A race chart to see rising cases around the world\n",
    "\n",
    "- author: Hargun Oberoi\n",
    "- image: images/covid-overview.png\n",
    "- hide: false\n",
    "- badges: false"
   ]
  },
  {
   "cell_type": "code",
   "execution_count": 1,
   "id": "proof-material",
   "metadata": {
    "execution": {
     "iopub.execute_input": "2022-04-04T00:35:16.347974Z",
     "iopub.status.busy": "2022-04-04T00:35:16.347295Z",
     "iopub.status.idle": "2022-04-04T00:35:16.724913Z",
     "shell.execute_reply": "2022-04-04T00:35:16.723906Z"
    },
    "papermill": {
     "duration": 0.421027,
     "end_time": "2022-04-04T00:35:16.725095",
     "exception": false,
     "start_time": "2022-04-04T00:35:16.304068",
     "status": "completed"
    },
    "tags": []
   },
   "outputs": [],
   "source": [
    "#hide\n",
    "import numpy as np\n",
    "import pandas as pd\n",
    "from jinja2 import Template\n",
    "from IPython.display import HTML"
   ]
  },
  {
   "cell_type": "code",
   "execution_count": 2,
   "id": "developed-terminology",
   "metadata": {
    "execution": {
     "iopub.execute_input": "2022-04-04T00:35:16.814730Z",
     "iopub.status.busy": "2022-04-04T00:35:16.814105Z",
     "iopub.status.idle": "2022-04-04T00:35:16.815623Z",
     "shell.execute_reply": "2022-04-04T00:35:16.816101Z"
    },
    "papermill": {
     "duration": 0.055383,
     "end_time": "2022-04-04T00:35:16.816243",
     "exception": false,
     "start_time": "2022-04-04T00:35:16.760860",
     "status": "completed"
    },
    "tags": []
   },
   "outputs": [],
   "source": [
    "#hide\n",
    "\n",
    "# FETCH\n",
    "base_url = 'https://raw.githubusercontent.com/pratapvardhan/notebooks/master/covid19/'\n",
    "paths = {\n",
    "    'mapping': base_url + 'mapping_countries.csv',\n",
    "    'overview': base_url + 'overview.tpl'\n",
    "}"
   ]
  },
  {
   "cell_type": "code",
   "execution_count": 3,
   "id": "dynamic-saver",
   "metadata": {
    "execution": {
     "iopub.execute_input": "2022-04-04T00:35:16.896975Z",
     "iopub.status.busy": "2022-04-04T00:35:16.896332Z",
     "iopub.status.idle": "2022-04-04T00:35:16.898874Z",
     "shell.execute_reply": "2022-04-04T00:35:16.899360Z"
    },
    "papermill": {
     "duration": 0.048298,
     "end_time": "2022-04-04T00:35:16.899511",
     "exception": false,
     "start_time": "2022-04-04T00:35:16.851213",
     "status": "completed"
    },
    "tags": []
   },
   "outputs": [
    {
     "data": {
      "text/plain": [
       "'https://raw.githubusercontent.com/pratapvardhan/notebooks/master/covid19/mapping_countries.csv'"
      ]
     },
     "execution_count": 3,
     "metadata": {},
     "output_type": "execute_result"
    }
   ],
   "source": [
    "#hide\n",
    "paths['mapping']"
   ]
  },
  {
   "cell_type": "code",
   "execution_count": 4,
   "id": "urban-software",
   "metadata": {
    "execution": {
     "iopub.execute_input": "2022-04-04T00:35:16.974169Z",
     "iopub.status.busy": "2022-04-04T00:35:16.973565Z",
     "iopub.status.idle": "2022-04-04T00:35:16.976389Z",
     "shell.execute_reply": "2022-04-04T00:35:16.975866Z"
    },
    "papermill": {
     "duration": 0.043277,
     "end_time": "2022-04-04T00:35:16.976512",
     "exception": false,
     "start_time": "2022-04-04T00:35:16.933235",
     "status": "completed"
    },
    "tags": []
   },
   "outputs": [],
   "source": [
    "#hide\n",
    "def get_mappings(url):\n",
    "    df = pd.read_csv(url)\n",
    "    return {\n",
    "        'df': df,\n",
    "        'replace.country': dict(df.dropna(subset=['Name']).set_index('Country')['Name']),\n",
    "        'map.continent': dict(df.set_index('Name')['Continent'])\n",
    "    }"
   ]
  },
  {
   "cell_type": "code",
   "execution_count": 5,
   "id": "intimate-machinery",
   "metadata": {
    "execution": {
     "iopub.execute_input": "2022-04-04T00:35:17.050234Z",
     "iopub.status.busy": "2022-04-04T00:35:17.049599Z",
     "iopub.status.idle": "2022-04-04T00:35:17.083203Z",
     "shell.execute_reply": "2022-04-04T00:35:17.082460Z"
    },
    "papermill": {
     "duration": 0.073002,
     "end_time": "2022-04-04T00:35:17.083375",
     "exception": false,
     "start_time": "2022-04-04T00:35:17.010373",
     "status": "completed"
    },
    "tags": []
   },
   "outputs": [],
   "source": [
    "#hide\n",
    "mapping = get_mappings(paths['mapping'])"
   ]
  },
  {
   "cell_type": "code",
   "execution_count": 6,
   "id": "certified-tactics",
   "metadata": {
    "execution": {
     "iopub.execute_input": "2022-04-04T00:35:17.160402Z",
     "iopub.status.busy": "2022-04-04T00:35:17.159187Z",
     "iopub.status.idle": "2022-04-04T00:35:17.161439Z",
     "shell.execute_reply": "2022-04-04T00:35:17.162262Z"
    },
    "papermill": {
     "duration": 0.044948,
     "end_time": "2022-04-04T00:35:17.162486",
     "exception": false,
     "start_time": "2022-04-04T00:35:17.117538",
     "status": "completed"
    },
    "tags": []
   },
   "outputs": [],
   "source": [
    "#hide\n",
    "def get_template(path):\n",
    "    from urllib.parse import urlparse\n",
    "    if bool(urlparse(path).netloc):\n",
    "        from urllib.request import urlopen\n",
    "        return urlopen(path).read().decode('utf8')\n",
    "    return open(path).read()"
   ]
  },
  {
   "cell_type": "code",
   "execution_count": 7,
   "id": "realistic-blast",
   "metadata": {
    "execution": {
     "iopub.execute_input": "2022-04-04T00:35:17.239636Z",
     "iopub.status.busy": "2022-04-04T00:35:17.239014Z",
     "iopub.status.idle": "2022-04-04T00:35:17.241735Z",
     "shell.execute_reply": "2022-04-04T00:35:17.241223Z"
    },
    "papermill": {
     "duration": 0.041489,
     "end_time": "2022-04-04T00:35:17.241858",
     "exception": false,
     "start_time": "2022-04-04T00:35:17.200369",
     "status": "completed"
    },
    "tags": []
   },
   "outputs": [],
   "source": [
    "#hide\n",
    "def get_frame(name):\n",
    "    url = (\n",
    "        'https://raw.githubusercontent.com/CSSEGISandData/COVID-19/master/csse_covid_19_data/'\n",
    "        f'csse_covid_19_time_series/time_series_covid19_{name}_global.csv')\n",
    "    df = pd.read_csv(url)\n",
    "    # rename countries\n",
    "    df['Country/Region'] = df['Country/Region'].replace(mapping['replace.country'])\n",
    "    return df"
   ]
  },
  {
   "cell_type": "code",
   "execution_count": 8,
   "id": "affiliated-characterization",
   "metadata": {
    "execution": {
     "iopub.execute_input": "2022-04-04T00:35:17.316595Z",
     "iopub.status.busy": "2022-04-04T00:35:17.315592Z",
     "iopub.status.idle": "2022-04-04T00:35:17.318362Z",
     "shell.execute_reply": "2022-04-04T00:35:17.318854Z"
    },
    "papermill": {
     "duration": 0.043186,
     "end_time": "2022-04-04T00:35:17.319002",
     "exception": false,
     "start_time": "2022-04-04T00:35:17.275816",
     "status": "completed"
    },
    "tags": []
   },
   "outputs": [],
   "source": [
    "#hide\n",
    "def get_dates(df):\n",
    "    dt_cols = df.columns[~df.columns.isin(['Province/State', 'Country/Region', 'Lat', 'Long'])]\n",
    "    LAST_DATE_I = -1\n",
    "    # sometimes last column may be empty, then go backwards\n",
    "    for i in range(-1, -len(dt_cols), -1):\n",
    "        if not df[dt_cols[i]].fillna(0).eq(0).all():\n",
    "            LAST_DATE_I = i\n",
    "            break\n",
    "    return LAST_DATE_I, dt_cols"
   ]
  },
  {
   "cell_type": "code",
   "execution_count": 9,
   "id": "recent-optimization",
   "metadata": {
    "execution": {
     "iopub.execute_input": "2022-04-04T00:35:17.399064Z",
     "iopub.status.busy": "2022-04-04T00:35:17.398435Z",
     "iopub.status.idle": "2022-04-04T00:35:17.794549Z",
     "shell.execute_reply": "2022-04-04T00:35:17.794014Z"
    },
    "papermill": {
     "duration": 0.43936,
     "end_time": "2022-04-04T00:35:17.794686",
     "exception": false,
     "start_time": "2022-04-04T00:35:17.355326",
     "status": "completed"
    },
    "tags": []
   },
   "outputs": [],
   "source": [
    "#hide\n",
    "COL_REGION = 'Country/Region'\n",
    "# Confirmed, Recovered, Deaths\n",
    "df = get_frame('confirmed')\n",
    "# dft_: timeseries, dfc_: today country agg\n",
    "dft_cases = df\n",
    "dft_deaths = get_frame('deaths')\n",
    "dft_recovered = get_frame('recovered')\n",
    "LAST_DATE_I, dt_cols = get_dates(df)"
   ]
  },
  {
   "cell_type": "code",
   "execution_count": 10,
   "id": "absolute-copper",
   "metadata": {
    "execution": {
     "iopub.execute_input": "2022-04-04T00:35:17.869151Z",
     "iopub.status.busy": "2022-04-04T00:35:17.868543Z",
     "iopub.status.idle": "2022-04-04T00:35:17.872366Z",
     "shell.execute_reply": "2022-04-04T00:35:17.872823Z"
    },
    "papermill": {
     "duration": 0.043824,
     "end_time": "2022-04-04T00:35:17.872973",
     "exception": false,
     "start_time": "2022-04-04T00:35:17.829149",
     "status": "completed"
    },
    "tags": []
   },
   "outputs": [],
   "source": [
    "#hide\n",
    "LAST_DATE_I, dt_cols = get_dates(df)\n",
    "dt_today =dt_cols[LAST_DATE_I]\n",
    "# dt_5day = dt_cols[LAST_DATE_I - 5]\n",
    "dt_yday = dt_cols[LAST_DATE_I - 1]"
   ]
  },
  {
   "cell_type": "code",
   "execution_count": 11,
   "id": "restricted-sheriff",
   "metadata": {
    "execution": {
     "iopub.execute_input": "2022-04-04T00:35:17.953956Z",
     "iopub.status.busy": "2022-04-04T00:35:17.953346Z",
     "iopub.status.idle": "2022-04-04T00:35:17.960059Z",
     "shell.execute_reply": "2022-04-04T00:35:17.959505Z"
    },
    "papermill": {
     "duration": 0.049452,
     "end_time": "2022-04-04T00:35:17.960182",
     "exception": false,
     "start_time": "2022-04-04T00:35:17.910730",
     "status": "completed"
    },
    "tags": []
   },
   "outputs": [],
   "source": [
    "#hide\n",
    "dfc_cases = dft_cases.groupby(COL_REGION)[dt_today].sum()\n",
    "dfc_deaths = dft_deaths.groupby(COL_REGION)[dt_today].sum()\n",
    "# dfp_cases = dft_cases.groupby(COL_REGION)[dt_5day].sum()\n",
    "# dfp_deaths = dft_deaths.groupby(COL_REGION)[dt_5day].sum()\n",
    "dfp_cases = dft_cases.groupby(COL_REGION)[dt_yday].sum()\n",
    "dfp_deaths = dft_deaths.groupby(COL_REGION)[dt_yday].sum()"
   ]
  },
  {
   "cell_type": "code",
   "execution_count": 12,
   "id": "deluxe-hepatitis",
   "metadata": {
    "execution": {
     "iopub.execute_input": "2022-04-04T00:35:18.042959Z",
     "iopub.status.busy": "2022-04-04T00:35:18.042342Z",
     "iopub.status.idle": "2022-04-04T00:35:18.046693Z",
     "shell.execute_reply": "2022-04-04T00:35:18.047503Z"
    },
    "papermill": {
     "duration": 0.051877,
     "end_time": "2022-04-04T00:35:18.047667",
     "exception": false,
     "start_time": "2022-04-04T00:35:17.995790",
     "status": "completed"
    },
    "tags": []
   },
   "outputs": [],
   "source": [
    "#hide\n",
    "df_table = (pd.DataFrame(dict(Cases = dfc_cases, Deaths = dfc_deaths, PCases = dfp_cases, PDeaths = dfp_deaths))\n",
    "            .sort_values(by = ['Cases','Deaths'], ascending = [False, False])\n",
    "            .reset_index())"
   ]
  },
  {
   "cell_type": "code",
   "execution_count": 13,
   "id": "educational-chancellor",
   "metadata": {
    "execution": {
     "iopub.execute_input": "2022-04-04T00:35:18.144487Z",
     "iopub.status.busy": "2022-04-04T00:35:18.142562Z",
     "iopub.status.idle": "2022-04-04T00:35:18.154660Z",
     "shell.execute_reply": "2022-04-04T00:35:18.153868Z"
    },
    "papermill": {
     "duration": 0.070207,
     "end_time": "2022-04-04T00:35:18.154793",
     "exception": false,
     "start_time": "2022-04-04T00:35:18.084586",
     "status": "completed"
    },
    "tags": []
   },
   "outputs": [
    {
     "data": {
      "text/html": [
       "<div>\n",
       "<style scoped>\n",
       "    .dataframe tbody tr th:only-of-type {\n",
       "        vertical-align: middle;\n",
       "    }\n",
       "\n",
       "    .dataframe tbody tr th {\n",
       "        vertical-align: top;\n",
       "    }\n",
       "\n",
       "    .dataframe thead th {\n",
       "        text-align: right;\n",
       "    }\n",
       "</style>\n",
       "<table border=\"1\" class=\"dataframe\">\n",
       "  <thead>\n",
       "    <tr style=\"text-align: right;\">\n",
       "      <th></th>\n",
       "      <th>Country/Region</th>\n",
       "      <th>Cases</th>\n",
       "      <th>Deaths</th>\n",
       "      <th>PCases</th>\n",
       "      <th>PDeaths</th>\n",
       "      <th>Cases (+)</th>\n",
       "      <th>Deaths (+)</th>\n",
       "      <th>Fatality Rate</th>\n",
       "      <th>Continent</th>\n",
       "    </tr>\n",
       "  </thead>\n",
       "  <tbody>\n",
       "    <tr>\n",
       "      <th>0</th>\n",
       "      <td>US</td>\n",
       "      <td>80150811</td>\n",
       "      <td>982533</td>\n",
       "      <td>80140309</td>\n",
       "      <td>982371</td>\n",
       "      <td>10502</td>\n",
       "      <td>162</td>\n",
       "      <td>1.23</td>\n",
       "      <td>North America</td>\n",
       "    </tr>\n",
       "    <tr>\n",
       "      <th>1</th>\n",
       "      <td>India</td>\n",
       "      <td>43028131</td>\n",
       "      <td>521345</td>\n",
       "      <td>43027035</td>\n",
       "      <td>521264</td>\n",
       "      <td>1096</td>\n",
       "      <td>81</td>\n",
       "      <td>1.21</td>\n",
       "      <td>Asia</td>\n",
       "    </tr>\n",
       "    <tr>\n",
       "      <th>2</th>\n",
       "      <td>Brazil</td>\n",
       "      <td>29995575</td>\n",
       "      <td>660371</td>\n",
       "      <td>29978513</td>\n",
       "      <td>660265</td>\n",
       "      <td>17062</td>\n",
       "      <td>106</td>\n",
       "      <td>2.20</td>\n",
       "      <td>South America</td>\n",
       "    </tr>\n",
       "    <tr>\n",
       "      <th>3</th>\n",
       "      <td>France</td>\n",
       "      <td>26084340</td>\n",
       "      <td>143509</td>\n",
       "      <td>25952226</td>\n",
       "      <td>143441</td>\n",
       "      <td>132114</td>\n",
       "      <td>68</td>\n",
       "      <td>0.55</td>\n",
       "      <td>Europe</td>\n",
       "    </tr>\n",
       "    <tr>\n",
       "      <th>4</th>\n",
       "      <td>Germany</td>\n",
       "      <td>21591147</td>\n",
       "      <td>129987</td>\n",
       "      <td>21394691</td>\n",
       "      <td>129695</td>\n",
       "      <td>196456</td>\n",
       "      <td>292</td>\n",
       "      <td>0.60</td>\n",
       "      <td>Europe</td>\n",
       "    </tr>\n",
       "  </tbody>\n",
       "</table>\n",
       "</div>"
      ],
      "text/plain": [
       "  Country/Region     Cases  Deaths    PCases  PDeaths  Cases (+)  Deaths (+)  \\\n",
       "0             US  80150811  982533  80140309   982371      10502         162   \n",
       "1          India  43028131  521345  43027035   521264       1096          81   \n",
       "2         Brazil  29995575  660371  29978513   660265      17062         106   \n",
       "3         France  26084340  143509  25952226   143441     132114          68   \n",
       "4        Germany  21591147  129987  21394691   129695     196456         292   \n",
       "\n",
       "   Fatality Rate      Continent  \n",
       "0           1.23  North America  \n",
       "1           1.21           Asia  \n",
       "2           2.20  South America  \n",
       "3           0.55         Europe  \n",
       "4           0.60         Europe  "
      ]
     },
     "execution_count": 13,
     "metadata": {},
     "output_type": "execute_result"
    }
   ],
   "source": [
    "#hide\n",
    "for c in 'Cases, Deaths'.split(', '):\n",
    "    df_table[f'{c} (+)'] = (df_table[c] - df_table[f'P{c}']).clip(0)\n",
    "    #Clip ça veut dire, les chiffres negatif sont interdit\n",
    "df_table['Fatality Rate'] = (100* df_table['Deaths']/ df_table['Cases']).round(2)\n",
    "df_table['Continent'] = df_table['Country/Region'].map(mapping['map.continent'])\n",
    "df_table.head(5)"
   ]
  },
  {
   "cell_type": "code",
   "execution_count": 14,
   "id": "aboriginal-bulgaria",
   "metadata": {
    "execution": {
     "iopub.execute_input": "2022-04-04T00:35:18.230489Z",
     "iopub.status.busy": "2022-04-04T00:35:18.229887Z",
     "iopub.status.idle": "2022-04-04T00:35:18.232382Z",
     "shell.execute_reply": "2022-04-04T00:35:18.231899Z"
    },
    "papermill": {
     "duration": 0.042409,
     "end_time": "2022-04-04T00:35:18.232505",
     "exception": false,
     "start_time": "2022-04-04T00:35:18.190096",
     "status": "completed"
    },
    "tags": []
   },
   "outputs": [],
   "source": [
    "#hide\n",
    "#delete problematic countries from table\n",
    "df_table = df_table[~df_table['Country/Region'].isin(['Cape Verde', 'Cruise Ship', 'Kosovo'])]"
   ]
  },
  {
   "cell_type": "code",
   "execution_count": 15,
   "id": "fantastic-effect",
   "metadata": {
    "execution": {
     "iopub.execute_input": "2022-04-04T00:35:18.309897Z",
     "iopub.status.busy": "2022-04-04T00:35:18.309278Z",
     "iopub.status.idle": "2022-04-04T00:35:18.334621Z",
     "shell.execute_reply": "2022-04-04T00:35:18.333941Z"
    },
    "papermill": {
     "duration": 0.068146,
     "end_time": "2022-04-04T00:35:18.334766",
     "exception": false,
     "start_time": "2022-04-04T00:35:18.266620",
     "status": "completed"
    },
    "tags": []
   },
   "outputs": [
    {
     "data": {
      "text/html": [
       "<div>\n",
       "<style scoped>\n",
       "    .dataframe tbody tr th:only-of-type {\n",
       "        vertical-align: middle;\n",
       "    }\n",
       "\n",
       "    .dataframe tbody tr th {\n",
       "        vertical-align: top;\n",
       "    }\n",
       "\n",
       "    .dataframe thead th {\n",
       "        text-align: right;\n",
       "    }\n",
       "</style>\n",
       "<table border=\"1\" class=\"dataframe\">\n",
       "  <thead>\n",
       "    <tr style=\"text-align: right;\">\n",
       "      <th></th>\n",
       "      <th>Country/Region</th>\n",
       "      <th>Cases</th>\n",
       "      <th>Deaths</th>\n",
       "      <th>PCases</th>\n",
       "      <th>PDeaths</th>\n",
       "      <th>Cases (+)</th>\n",
       "      <th>Deaths (+)</th>\n",
       "      <th>Fatality Rate</th>\n",
       "      <th>Continent</th>\n",
       "    </tr>\n",
       "  </thead>\n",
       "  <tbody>\n",
       "    <tr>\n",
       "      <th>0</th>\n",
       "      <td>US</td>\n",
       "      <td>80150811</td>\n",
       "      <td>982533</td>\n",
       "      <td>80140309</td>\n",
       "      <td>982371</td>\n",
       "      <td>10502</td>\n",
       "      <td>162</td>\n",
       "      <td>1.2</td>\n",
       "      <td>North America</td>\n",
       "    </tr>\n",
       "    <tr>\n",
       "      <th>1</th>\n",
       "      <td>India</td>\n",
       "      <td>43028131</td>\n",
       "      <td>521345</td>\n",
       "      <td>43027035</td>\n",
       "      <td>521264</td>\n",
       "      <td>1096</td>\n",
       "      <td>81</td>\n",
       "      <td>1.2</td>\n",
       "      <td>Asia</td>\n",
       "    </tr>\n",
       "    <tr>\n",
       "      <th>2</th>\n",
       "      <td>Brazil</td>\n",
       "      <td>29995575</td>\n",
       "      <td>660371</td>\n",
       "      <td>29978513</td>\n",
       "      <td>660265</td>\n",
       "      <td>17062</td>\n",
       "      <td>106</td>\n",
       "      <td>2.2</td>\n",
       "      <td>South America</td>\n",
       "    </tr>\n",
       "    <tr>\n",
       "      <th>3</th>\n",
       "      <td>France</td>\n",
       "      <td>26084340</td>\n",
       "      <td>143509</td>\n",
       "      <td>25952226</td>\n",
       "      <td>143441</td>\n",
       "      <td>132114</td>\n",
       "      <td>68</td>\n",
       "      <td>0.6</td>\n",
       "      <td>Europe</td>\n",
       "    </tr>\n",
       "    <tr>\n",
       "      <th>4</th>\n",
       "      <td>Germany</td>\n",
       "      <td>21591147</td>\n",
       "      <td>129987</td>\n",
       "      <td>21394691</td>\n",
       "      <td>129695</td>\n",
       "      <td>196456</td>\n",
       "      <td>292</td>\n",
       "      <td>0.6</td>\n",
       "      <td>Europe</td>\n",
       "    </tr>\n",
       "  </tbody>\n",
       "</table>\n",
       "</div>"
      ],
      "text/plain": [
       "  Country/Region     Cases  Deaths    PCases  PDeaths  Cases (+)  Deaths (+)  \\\n",
       "0             US  80150811  982533  80140309   982371      10502         162   \n",
       "1          India  43028131  521345  43027035   521264       1096          81   \n",
       "2         Brazil  29995575  660371  29978513   660265      17062         106   \n",
       "3         France  26084340  143509  25952226   143441     132114          68   \n",
       "4        Germany  21591147  129987  21394691   129695     196456         292   \n",
       "\n",
       "   Fatality Rate      Continent  \n",
       "0            1.2  North America  \n",
       "1            1.2           Asia  \n",
       "2            2.2  South America  \n",
       "3            0.6         Europe  \n",
       "4            0.6         Europe  "
      ]
     },
     "execution_count": 15,
     "metadata": {},
     "output_type": "execute_result"
    }
   ],
   "source": [
    "#hide\n",
    "df_table = (pd.DataFrame(dict(Cases=dfc_cases, Deaths=dfc_deaths, PCases=dfp_cases, PDeaths=dfp_deaths))\n",
    "             .sort_values(by=['Cases', 'Deaths'], ascending=[False, False])\n",
    "             .reset_index())\n",
    "df_table.rename(columns={'index': 'Country/Region'}, inplace=True)\n",
    "for c in 'Cases, Deaths'.split(', '):\n",
    "    df_table[f'{c} (+)'] = (df_table[c] - df_table[f'P{c}']).clip(0)  # DATA BUG\n",
    "df_table['Fatality Rate'] = (100 * df_table['Deaths'] / df_table['Cases']).round(1)\n",
    "df_table['Continent'] = df_table['Country/Region'].map(mapping['map.continent'])\n",
    "df_table.head(5)"
   ]
  },
  {
   "cell_type": "code",
   "execution_count": 16,
   "id": "fewer-occasion",
   "metadata": {
    "execution": {
     "iopub.execute_input": "2022-04-04T00:35:18.411832Z",
     "iopub.status.busy": "2022-04-04T00:35:18.411187Z",
     "iopub.status.idle": "2022-04-04T00:35:18.414374Z",
     "shell.execute_reply": "2022-04-04T00:35:18.414895Z"
    },
    "papermill": {
     "duration": 0.044488,
     "end_time": "2022-04-04T00:35:18.415039",
     "exception": false,
     "start_time": "2022-04-04T00:35:18.370551",
     "status": "completed"
    },
    "tags": []
   },
   "outputs": [],
   "source": [
    "#hide\n",
    "#delete problematic countries from table\n",
    "df_table = df_table[~df_table['Country/Region'].isin(['Cape Verde', 'Cruise Ship', 'Kosovo'])]"
   ]
  },
  {
   "cell_type": "code",
   "execution_count": 17,
   "id": "related-center",
   "metadata": {
    "execution": {
     "iopub.execute_input": "2022-04-04T00:35:18.493446Z",
     "iopub.status.busy": "2022-04-04T00:35:18.492806Z",
     "iopub.status.idle": "2022-04-04T00:35:18.507499Z",
     "shell.execute_reply": "2022-04-04T00:35:18.507002Z"
    },
    "papermill": {
     "duration": 0.058166,
     "end_time": "2022-04-04T00:35:18.507630",
     "exception": false,
     "start_time": "2022-04-04T00:35:18.449464",
     "status": "completed"
    },
    "tags": []
   },
   "outputs": [],
   "source": [
    "#hide\n",
    "metrics = [df_table.columns[index] for index in [1,2,5,6]]\n",
    "# s_china = df_table[df_table['Country/Region'].eq('China')][metrics].sum().add_prefix('China ')\n",
    "s_us = df_table[df_table['Country/Region'].eq('US')][metrics].sum().add_prefix('US ')\n",
    "s_eu = df_table[df_table['Continent'].eq('Europe')][metrics].sum().add_prefix('EU ')\n",
    "s_ind = df_table[df_table['Country/Region'].eq('India')][metrics].sum().add_prefix('India ')\n",
    "summary = {'updated': pd.to_datetime(dt_today), 'since': pd.to_datetime(dt_yday)}\n",
    "summary = {'updated': pd.to_datetime(dt_today), 'since': pd.to_datetime(dt_yday)}\n",
    "summary = {**summary, **df_table[metrics].sum(), **s_ind, **s_us, **s_eu}"
   ]
  },
  {
   "cell_type": "code",
   "execution_count": 18,
   "id": "engaging-syndrome",
   "metadata": {
    "execution": {
     "iopub.execute_input": "2022-04-04T00:35:18.584660Z",
     "iopub.status.busy": "2022-04-04T00:35:18.584038Z",
     "iopub.status.idle": "2022-04-04T00:35:18.605232Z",
     "shell.execute_reply": "2022-04-04T00:35:18.604680Z"
    },
    "papermill": {
     "duration": 0.062938,
     "end_time": "2022-04-04T00:35:18.605361",
     "exception": false,
     "start_time": "2022-04-04T00:35:18.542423",
     "status": "completed"
    },
    "tags": []
   },
   "outputs": [],
   "source": [
    "#hide\n",
    "dft_ct_new_cases = dft_cases.groupby(COL_REGION)[dt_cols].sum().diff(axis=1).fillna(0).astype(int)"
   ]
  },
  {
   "cell_type": "code",
   "execution_count": 19,
   "id": "neutral-assignment",
   "metadata": {
    "execution": {
     "iopub.execute_input": "2022-04-04T00:35:18.687008Z",
     "iopub.status.busy": "2022-04-04T00:35:18.686387Z",
     "iopub.status.idle": "2022-04-04T00:35:18.689866Z",
     "shell.execute_reply": "2022-04-04T00:35:18.690368Z"
    },
    "papermill": {
     "duration": 0.048619,
     "end_time": "2022-04-04T00:35:18.690517",
     "exception": false,
     "start_time": "2022-04-04T00:35:18.641898",
     "status": "completed"
    },
    "tags": []
   },
   "outputs": [],
   "source": [
    "#hide\n",
    "everydaycases = dft_ct_new_cases.cumsum(axis=1)"
   ]
  },
  {
   "cell_type": "code",
   "execution_count": 20,
   "id": "parliamentary-calgary",
   "metadata": {
    "execution": {
     "iopub.execute_input": "2022-04-04T00:35:18.771392Z",
     "iopub.status.busy": "2022-04-04T00:35:18.769810Z",
     "iopub.status.idle": "2022-04-04T00:35:19.482112Z",
     "shell.execute_reply": "2022-04-04T00:35:19.480939Z"
    },
    "papermill": {
     "duration": 0.75407,
     "end_time": "2022-04-04T00:35:19.482261",
     "exception": false,
     "start_time": "2022-04-04T00:35:18.728191",
     "status": "completed"
    },
    "tags": []
   },
   "outputs": [],
   "source": [
    "#hide\n",
    "import pandas as pd\n",
    "import matplotlib.pyplot as plt\n",
    "import matplotlib.ticker as ticker\n",
    "import matplotlib.animation as animation\n",
    "from IPython.display import HTML"
   ]
  },
  {
   "cell_type": "code",
   "execution_count": 21,
   "id": "lasting-extraction",
   "metadata": {
    "execution": {
     "iopub.execute_input": "2022-04-04T00:35:19.558687Z",
     "iopub.status.busy": "2022-04-04T00:35:19.558061Z",
     "iopub.status.idle": "2022-04-04T00:35:19.566266Z",
     "shell.execute_reply": "2022-04-04T00:35:19.566732Z"
    },
    "papermill": {
     "duration": 0.049921,
     "end_time": "2022-04-04T00:35:19.566887",
     "exception": false,
     "start_time": "2022-04-04T00:35:19.516966",
     "status": "completed"
    },
    "tags": []
   },
   "outputs": [],
   "source": [
    "#hide\n",
    "t = everydaycases.stack()"
   ]
  },
  {
   "cell_type": "code",
   "execution_count": 22,
   "id": "premier-sleeve",
   "metadata": {
    "execution": {
     "iopub.execute_input": "2022-04-04T00:35:19.660992Z",
     "iopub.status.busy": "2022-04-04T00:35:19.660268Z",
     "iopub.status.idle": "2022-04-04T00:35:19.673380Z",
     "shell.execute_reply": "2022-04-04T00:35:19.672754Z"
    },
    "papermill": {
     "duration": 0.061,
     "end_time": "2022-04-04T00:35:19.673511",
     "exception": false,
     "start_time": "2022-04-04T00:35:19.612511",
     "status": "completed"
    },
    "tags": []
   },
   "outputs": [],
   "source": [
    "#hide\n",
    "g = t.reset_index(['Country/Region'])"
   ]
  },
  {
   "cell_type": "code",
   "execution_count": 23,
   "id": "distributed-pittsburgh",
   "metadata": {
    "execution": {
     "iopub.execute_input": "2022-04-04T00:35:19.754397Z",
     "iopub.status.busy": "2022-04-04T00:35:19.753773Z",
     "iopub.status.idle": "2022-04-04T00:35:19.758129Z",
     "shell.execute_reply": "2022-04-04T00:35:19.757643Z"
    },
    "papermill": {
     "duration": 0.04607,
     "end_time": "2022-04-04T00:35:19.758253",
     "exception": false,
     "start_time": "2022-04-04T00:35:19.712183",
     "status": "completed"
    },
    "tags": []
   },
   "outputs": [],
   "source": [
    "#hide\n",
    "g.index.name = 'date'"
   ]
  },
  {
   "cell_type": "code",
   "execution_count": 24,
   "id": "naked-donor",
   "metadata": {
    "execution": {
     "iopub.execute_input": "2022-04-04T00:35:19.837040Z",
     "iopub.status.busy": "2022-04-04T00:35:19.836441Z",
     "iopub.status.idle": "2022-04-04T00:35:19.839007Z",
     "shell.execute_reply": "2022-04-04T00:35:19.839487Z"
    },
    "papermill": {
     "duration": 0.04454,
     "end_time": "2022-04-04T00:35:19.839629",
     "exception": false,
     "start_time": "2022-04-04T00:35:19.795089",
     "status": "completed"
    },
    "tags": []
   },
   "outputs": [],
   "source": [
    "# #hide\n",
    "# g = g.reset_index(['date'])"
   ]
  },
  {
   "cell_type": "code",
   "execution_count": 25,
   "id": "incomplete-mustang",
   "metadata": {
    "execution": {
     "iopub.execute_input": "2022-04-04T00:35:19.918589Z",
     "iopub.status.busy": "2022-04-04T00:35:19.917973Z",
     "iopub.status.idle": "2022-04-04T00:35:19.922104Z",
     "shell.execute_reply": "2022-04-04T00:35:19.922584Z"
    },
    "papermill": {
     "duration": 0.045405,
     "end_time": "2022-04-04T00:35:19.922728",
     "exception": false,
     "start_time": "2022-04-04T00:35:19.877323",
     "status": "completed"
    },
    "tags": []
   },
   "outputs": [],
   "source": [
    "#hide\n",
    "# g.head()"
   ]
  },
  {
   "cell_type": "code",
   "execution_count": 26,
   "id": "specific-kruger",
   "metadata": {
    "execution": {
     "iopub.execute_input": "2022-04-04T00:35:20.003261Z",
     "iopub.status.busy": "2022-04-04T00:35:20.002634Z",
     "iopub.status.idle": "2022-04-04T00:35:20.004919Z",
     "shell.execute_reply": "2022-04-04T00:35:20.004435Z"
    },
    "papermill": {
     "duration": 0.044167,
     "end_time": "2022-04-04T00:35:20.005044",
     "exception": false,
     "start_time": "2022-04-04T00:35:19.960877",
     "status": "completed"
    },
    "tags": []
   },
   "outputs": [],
   "source": [
    "#hide\n",
    "# g.columns = ['date','country','cases']"
   ]
  },
  {
   "cell_type": "code",
   "execution_count": 27,
   "id": "tender-conversion",
   "metadata": {
    "execution": {
     "iopub.execute_input": "2022-04-04T00:35:20.087043Z",
     "iopub.status.busy": "2022-04-04T00:35:20.086433Z",
     "iopub.status.idle": "2022-04-04T00:35:20.088867Z",
     "shell.execute_reply": "2022-04-04T00:35:20.088340Z"
    },
    "papermill": {
     "duration": 0.046215,
     "end_time": "2022-04-04T00:35:20.088991",
     "exception": false,
     "start_time": "2022-04-04T00:35:20.042776",
     "status": "completed"
    },
    "tags": []
   },
   "outputs": [],
   "source": [
    "#hide\n",
    "# g['continent'] = g.country"
   ]
  },
  {
   "cell_type": "code",
   "execution_count": 28,
   "id": "substantial-wilderness",
   "metadata": {
    "execution": {
     "iopub.execute_input": "2022-04-04T00:35:20.171001Z",
     "iopub.status.busy": "2022-04-04T00:35:20.169921Z",
     "iopub.status.idle": "2022-04-04T00:35:20.174630Z",
     "shell.execute_reply": "2022-04-04T00:35:20.174087Z"
    },
    "papermill": {
     "duration": 0.047897,
     "end_time": "2022-04-04T00:35:20.174750",
     "exception": false,
     "start_time": "2022-04-04T00:35:20.126853",
     "status": "completed"
    },
    "tags": []
   },
   "outputs": [],
   "source": [
    "#hide\n",
    "# cols = list(g.columns.values)"
   ]
  },
  {
   "cell_type": "code",
   "execution_count": 29,
   "id": "solved-farming",
   "metadata": {
    "execution": {
     "iopub.execute_input": "2022-04-04T00:35:20.255194Z",
     "iopub.status.busy": "2022-04-04T00:35:20.254590Z",
     "iopub.status.idle": "2022-04-04T00:35:20.256809Z",
     "shell.execute_reply": "2022-04-04T00:35:20.256216Z"
    },
    "papermill": {
     "duration": 0.043529,
     "end_time": "2022-04-04T00:35:20.256932",
     "exception": false,
     "start_time": "2022-04-04T00:35:20.213403",
     "status": "completed"
    },
    "tags": []
   },
   "outputs": [],
   "source": [
    "#hide\n",
    "# cols.insert(0, cols.pop())"
   ]
  },
  {
   "cell_type": "code",
   "execution_count": 30,
   "id": "executed-adoption",
   "metadata": {
    "execution": {
     "iopub.execute_input": "2022-04-04T00:35:20.338973Z",
     "iopub.status.busy": "2022-04-04T00:35:20.338333Z",
     "iopub.status.idle": "2022-04-04T00:35:20.340675Z",
     "shell.execute_reply": "2022-04-04T00:35:20.340195Z"
    },
    "papermill": {
     "duration": 0.047182,
     "end_time": "2022-04-04T00:35:20.340803",
     "exception": false,
     "start_time": "2022-04-04T00:35:20.293621",
     "status": "completed"
    },
    "tags": []
   },
   "outputs": [],
   "source": [
    "#hide\n",
    "# g = g[cols]"
   ]
  },
  {
   "cell_type": "code",
   "execution_count": 31,
   "id": "subject-dublin",
   "metadata": {
    "execution": {
     "iopub.execute_input": "2022-04-04T00:35:20.426892Z",
     "iopub.status.busy": "2022-04-04T00:35:20.426262Z",
     "iopub.status.idle": "2022-04-04T00:35:20.429725Z",
     "shell.execute_reply": "2022-04-04T00:35:20.429209Z"
    },
    "papermill": {
     "duration": 0.046503,
     "end_time": "2022-04-04T00:35:20.429851",
     "exception": false,
     "start_time": "2022-04-04T00:35:20.383348",
     "status": "completed"
    },
    "tags": []
   },
   "outputs": [],
   "source": [
    "#hide\n",
    "# g['continent'] = g['continent'].map(mapping['map.continent'])"
   ]
  },
  {
   "cell_type": "code",
   "execution_count": 32,
   "id": "freelance-scout",
   "metadata": {
    "execution": {
     "iopub.execute_input": "2022-04-04T00:35:20.510026Z",
     "iopub.status.busy": "2022-04-04T00:35:20.509218Z",
     "iopub.status.idle": "2022-04-04T00:35:20.511120Z",
     "shell.execute_reply": "2022-04-04T00:35:20.511763Z"
    },
    "papermill": {
     "duration": 0.043705,
     "end_time": "2022-04-04T00:35:20.511921",
     "exception": false,
     "start_time": "2022-04-04T00:35:20.468216",
     "status": "completed"
    },
    "tags": []
   },
   "outputs": [],
   "source": [
    "#hide\n",
    "# g.head()"
   ]
  },
  {
   "cell_type": "code",
   "execution_count": 33,
   "id": "limited-engine",
   "metadata": {
    "execution": {
     "iopub.execute_input": "2022-04-04T00:35:20.592921Z",
     "iopub.status.busy": "2022-04-04T00:35:20.592202Z",
     "iopub.status.idle": "2022-04-04T00:35:20.593755Z",
     "shell.execute_reply": "2022-04-04T00:35:20.594265Z"
    },
    "papermill": {
     "duration": 0.042519,
     "end_time": "2022-04-04T00:35:20.594404",
     "exception": false,
     "start_time": "2022-04-04T00:35:20.551885",
     "status": "completed"
    },
    "tags": []
   },
   "outputs": [],
   "source": [
    "# hide\n",
    "# g['date'] = g['date'].astype('datetime64[ns]')"
   ]
  },
  {
   "cell_type": "code",
   "execution_count": 34,
   "id": "sophisticated-supervisor",
   "metadata": {
    "execution": {
     "iopub.execute_input": "2022-04-04T00:35:20.673038Z",
     "iopub.status.busy": "2022-04-04T00:35:20.672399Z",
     "iopub.status.idle": "2022-04-04T00:35:20.674177Z",
     "shell.execute_reply": "2022-04-04T00:35:20.674690Z"
    },
    "papermill": {
     "duration": 0.043468,
     "end_time": "2022-04-04T00:35:20.674835",
     "exception": false,
     "start_time": "2022-04-04T00:35:20.631367",
     "status": "completed"
    },
    "tags": []
   },
   "outputs": [],
   "source": [
    "#hide\n",
    "# g['date'] = g.date.dt.dayofyear"
   ]
  },
  {
   "cell_type": "code",
   "execution_count": 35,
   "id": "inside-dubai",
   "metadata": {
    "execution": {
     "iopub.execute_input": "2022-04-04T00:35:20.747727Z",
     "iopub.status.busy": "2022-04-04T00:35:20.747077Z",
     "iopub.status.idle": "2022-04-04T00:35:20.750974Z",
     "shell.execute_reply": "2022-04-04T00:35:20.750457Z"
    },
    "papermill": {
     "duration": 0.041892,
     "end_time": "2022-04-04T00:35:20.751099",
     "exception": false,
     "start_time": "2022-04-04T00:35:20.709207",
     "status": "completed"
    },
    "tags": []
   },
   "outputs": [],
   "source": [
    "#hide\n",
    "# g = g.rename(columns= {'continent':'group','country':'name','cases':'value'})"
   ]
  },
  {
   "cell_type": "code",
   "execution_count": 36,
   "id": "fleet-motorcycle",
   "metadata": {
    "execution": {
     "iopub.execute_input": "2022-04-04T00:35:20.825220Z",
     "iopub.status.busy": "2022-04-04T00:35:20.824587Z",
     "iopub.status.idle": "2022-04-04T00:35:20.826959Z",
     "shell.execute_reply": "2022-04-04T00:35:20.826473Z"
    },
    "papermill": {
     "duration": 0.041058,
     "end_time": "2022-04-04T00:35:20.827083",
     "exception": false,
     "start_time": "2022-04-04T00:35:20.786025",
     "status": "completed"
    },
    "tags": []
   },
   "outputs": [],
   "source": [
    "#hide\n",
    "# cols = ['name','group','day','value']"
   ]
  },
  {
   "cell_type": "code",
   "execution_count": 37,
   "id": "continued-sleeping",
   "metadata": {
    "execution": {
     "iopub.execute_input": "2022-04-04T00:35:20.906647Z",
     "iopub.status.busy": "2022-04-04T00:35:20.906009Z",
     "iopub.status.idle": "2022-04-04T00:35:20.907618Z",
     "shell.execute_reply": "2022-04-04T00:35:20.908161Z"
    },
    "papermill": {
     "duration": 0.040863,
     "end_time": "2022-04-04T00:35:20.908307",
     "exception": false,
     "start_time": "2022-04-04T00:35:20.867444",
     "status": "completed"
    },
    "tags": []
   },
   "outputs": [],
   "source": [
    "#hide\n",
    "# g.rename(columns= {'date':'day'},inplace = True)"
   ]
  },
  {
   "cell_type": "code",
   "execution_count": 38,
   "id": "major-fight",
   "metadata": {
    "execution": {
     "iopub.execute_input": "2022-04-04T00:35:20.989038Z",
     "iopub.status.busy": "2022-04-04T00:35:20.988397Z",
     "iopub.status.idle": "2022-04-04T00:35:20.990093Z",
     "shell.execute_reply": "2022-04-04T00:35:20.990668Z"
    },
    "papermill": {
     "duration": 0.044825,
     "end_time": "2022-04-04T00:35:20.990814",
     "exception": false,
     "start_time": "2022-04-04T00:35:20.945989",
     "status": "completed"
    },
    "tags": []
   },
   "outputs": [],
   "source": [
    "#hide\n",
    "# g = g[cols]"
   ]
  },
  {
   "cell_type": "code",
   "execution_count": 39,
   "id": "structured-mobile",
   "metadata": {
    "execution": {
     "iopub.execute_input": "2022-04-04T00:35:21.074362Z",
     "iopub.status.busy": "2022-04-04T00:35:21.073566Z",
     "iopub.status.idle": "2022-04-04T00:35:21.078246Z",
     "shell.execute_reply": "2022-04-04T00:35:21.078702Z"
    },
    "papermill": {
     "duration": 0.051075,
     "end_time": "2022-04-04T00:35:21.078853",
     "exception": false,
     "start_time": "2022-04-04T00:35:21.027778",
     "status": "completed"
    },
    "tags": []
   },
   "outputs": [],
   "source": [
    "# #hide\n",
    "# g = g[g.group.notna()]"
   ]
  },
  {
   "cell_type": "code",
   "execution_count": 40,
   "id": "determined-closing",
   "metadata": {
    "execution": {
     "iopub.execute_input": "2022-04-04T00:35:21.169333Z",
     "iopub.status.busy": "2022-04-04T00:35:21.168473Z",
     "iopub.status.idle": "2022-04-04T00:35:21.171091Z",
     "shell.execute_reply": "2022-04-04T00:35:21.170609Z"
    },
    "papermill": {
     "duration": 0.048937,
     "end_time": "2022-04-04T00:35:21.171219",
     "exception": false,
     "start_time": "2022-04-04T00:35:21.122282",
     "status": "completed"
    },
    "tags": []
   },
   "outputs": [],
   "source": [
    "# #hide\n",
    "# colors = dict(zip(\n",
    "#     [\"Oceania\", \"Europe\", \"Asia\", \"South America\", \"Middle East\", \"North America\", \"Africa\"],\n",
    "#     [\"#adb0ff\", \"#ffb3ff\", \"#90d595\", \"#e48381\", \"#aafbff\", \"#f7bb5f\", \"#eafb50\"]\n",
    "# ))\n",
    "# group_lk = g.set_index('name')['group'].to_dict()"
   ]
  },
  {
   "cell_type": "code",
   "execution_count": null,
   "id": "gross-drinking",
   "metadata": {
    "papermill": {
     "duration": 0.034439,
     "end_time": "2022-04-04T00:35:21.240136",
     "exception": false,
     "start_time": "2022-04-04T00:35:21.205697",
     "status": "completed"
    },
    "tags": []
   },
   "outputs": [],
   "source": []
  },
  {
   "cell_type": "code",
   "execution_count": 41,
   "id": "subject-macintosh",
   "metadata": {
    "execution": {
     "iopub.execute_input": "2022-04-04T00:35:21.315573Z",
     "iopub.status.busy": "2022-04-04T00:35:21.314940Z",
     "iopub.status.idle": "2022-04-04T00:35:21.317427Z",
     "shell.execute_reply": "2022-04-04T00:35:21.316939Z"
    },
    "papermill": {
     "duration": 0.042863,
     "end_time": "2022-04-04T00:35:21.317558",
     "exception": false,
     "start_time": "2022-04-04T00:35:21.274695",
     "status": "completed"
    },
    "tags": []
   },
   "outputs": [],
   "source": [
    "# #hide\n",
    "# fig, ax = plt.subplots(figsize=(15, 8))\n",
    "\n",
    "# def draw_barchart(current_day):\n",
    "#     dff = g[g['day'].eq(current_day)].sort_values(by='value', ascending=True).tail(10)\n",
    "#     ax.clear()\n",
    "#     ax.barh(dff['name'], dff['value'], color=[colors[group_lk[x]] for x in dff['name']])\n",
    "#     dx = dff['value'].max() / 200\n",
    "    \n",
    "#     for i, (value, name) in enumerate(zip(dff['value'], dff['name'])):\n",
    "#         ax.text(value-dx, i,     name,           size=14, weight=600, ha='right', va='bottom')\n",
    "#         ax.text(value-dx, i-.25, group_lk[name], size=10, color='#444444', ha='right', va='baseline')\n",
    "#         ax.text(value+dx, i,     f'{value:,.0f}',  size=14, ha='left',  va='center')\n",
    "#     ax.text(1, 0.4, current_day, transform=ax.transAxes, color='#777777', size=46, ha='right', weight=800)\n",
    "#     ax.text(0, 1.06, 'Population (thousands)', transform=ax.transAxes, size=12, color='#777777')\n",
    "#     ax.xaxis.set_major_formatter(ticker.StrMethodFormatter('{x:,.0f}'))\n",
    "#     ax.xaxis.set_ticks_position('top')\n",
    "#     ax.tick_params(axis='x', colors='#777777', labelsize=12)\n",
    "#     ax.set_yticks([])\n",
    "#     ax.margins(0, 0.01)\n",
    "#     ax.grid(which='major', axis='x', linestyle='-')\n",
    "#     ax.set_axisbelow(True)\n",
    "    \n",
    "#     ax.text(0, 1.15, 'Coronavirus',\n",
    "#             transform=ax.transAxes, size=24, weight=600, ha='left', va='top')\n",
    "# #     ax.text(1, 0, 'by @pratapvardhan; credit @jburnmurdoch', transform=ax.transAxes, color='#777777', ha='right',\n",
    "# #             bbox=dict(facecolor='white', alpha=0.8, edgecolor='white'))\n",
    "#     plt.box(False)"
   ]
  },
  {
   "cell_type": "code",
   "execution_count": 42,
   "id": "sexual-wages",
   "metadata": {
    "execution": {
     "iopub.execute_input": "2022-04-04T00:35:21.392275Z",
     "iopub.status.busy": "2022-04-04T00:35:21.391623Z",
     "iopub.status.idle": "2022-04-04T00:35:21.395073Z",
     "shell.execute_reply": "2022-04-04T00:35:21.394558Z"
    },
    "papermill": {
     "duration": 0.04316,
     "end_time": "2022-04-04T00:35:21.395194",
     "exception": false,
     "start_time": "2022-04-04T00:35:21.352034",
     "status": "completed"
    },
    "tags": []
   },
   "outputs": [],
   "source": [
    "# #hide_input\n",
    "# fig, ax = plt.subplots(figsize=(15, 8))\n",
    "# animator = animation.FuncAnimation(fig, draw_barchart, frames=range(g.day.values.min(), g.day.values.max()))\n",
    "# HTML(animator.to_jshtml())\n",
    "# # or use animator.to_html5_video() or animator.save() "
   ]
  },
  {
   "cell_type": "code",
   "execution_count": null,
   "id": "australian-container",
   "metadata": {
    "papermill": {
     "duration": 0.034292,
     "end_time": "2022-04-04T00:35:21.464002",
     "exception": false,
     "start_time": "2022-04-04T00:35:21.429710",
     "status": "completed"
    },
    "tags": []
   },
   "outputs": [],
   "source": []
  },
  {
   "cell_type": "code",
   "execution_count": null,
   "id": "mediterranean-pontiac",
   "metadata": {
    "papermill": {
     "duration": 0.03425,
     "end_time": "2022-04-04T00:35:21.532597",
     "exception": false,
     "start_time": "2022-04-04T00:35:21.498347",
     "status": "completed"
    },
    "tags": []
   },
   "outputs": [],
   "source": []
  },
  {
   "cell_type": "code",
   "execution_count": null,
   "id": "aging-legislature",
   "metadata": {
    "papermill": {
     "duration": 0.034441,
     "end_time": "2022-04-04T00:35:21.601642",
     "exception": false,
     "start_time": "2022-04-04T00:35:21.567201",
     "status": "completed"
    },
    "tags": []
   },
   "outputs": [],
   "source": []
  }
 ],
 "metadata": {
  "kernelspec": {
   "display_name": "Python 3",
   "language": "python",
   "name": "python3"
  },
  "language_info": {
   "codemirror_mode": {
    "name": "ipython",
    "version": 3
   },
   "file_extension": ".py",
   "mimetype": "text/x-python",
   "name": "python",
   "nbconvert_exporter": "python",
   "pygments_lexer": "ipython3",
   "version": "3.6.15"
  },
  "papermill": {
   "duration": 7.131138,
   "end_time": "2022-04-04T00:35:22.057017",
   "environment_variables": {},
   "exception": null,
   "input_path": "2020-03-21-covid19exp.ipynb",
   "output_path": "2020-03-21-covid19exp.ipynb",
   "parameters": {},
   "start_time": "2022-04-04T00:35:14.925879",
   "version": "2.0.0"
  }
 },
 "nbformat": 4,
 "nbformat_minor": 5
}