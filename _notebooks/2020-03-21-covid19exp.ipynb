{
 "cells": [
  {
   "cell_type": "markdown",
   "id": "muslim-click",
   "metadata": {
    "papermill": {
     "duration": 0.043055,
     "end_time": "2022-03-19T00:32:37.923032",
     "exception": false,
     "start_time": "2022-03-19T00:32:37.879977",
     "status": "completed"
    },
    "tags": []
   },
   "source": [
    "# COVID-19 Case Race\n",
    "> A race chart to see rising cases around the world\n",
    "\n",
    "- author: Hargun Oberoi\n",
    "- image: images/covid-overview.png\n",
    "- hide: false\n",
    "- badges: false"
   ]
  },
  {
   "cell_type": "code",
   "execution_count": 1,
   "id": "proof-material",
   "metadata": {
    "execution": {
     "iopub.execute_input": "2022-03-19T00:32:38.003357Z",
     "iopub.status.busy": "2022-03-19T00:32:38.002686Z",
     "iopub.status.idle": "2022-03-19T00:32:38.431138Z",
     "shell.execute_reply": "2022-03-19T00:32:38.429781Z"
    },
    "papermill": {
     "duration": 0.472393,
     "end_time": "2022-03-19T00:32:38.431315",
     "exception": false,
     "start_time": "2022-03-19T00:32:37.958922",
     "status": "completed"
    },
    "tags": []
   },
   "outputs": [],
   "source": [
    "#hide\n",
    "import numpy as np\n",
    "import pandas as pd\n",
    "from jinja2 import Template\n",
    "from IPython.display import HTML"
   ]
  },
  {
   "cell_type": "code",
   "execution_count": 2,
   "id": "developed-terminology",
   "metadata": {
    "execution": {
     "iopub.execute_input": "2022-03-19T00:32:38.504729Z",
     "iopub.status.busy": "2022-03-19T00:32:38.504100Z",
     "iopub.status.idle": "2022-03-19T00:32:38.507109Z",
     "shell.execute_reply": "2022-03-19T00:32:38.506553Z"
    },
    "papermill": {
     "duration": 0.042231,
     "end_time": "2022-03-19T00:32:38.507265",
     "exception": false,
     "start_time": "2022-03-19T00:32:38.465034",
     "status": "completed"
    },
    "tags": []
   },
   "outputs": [],
   "source": [
    "#hide\n",
    "\n",
    "# FETCH\n",
    "base_url = 'https://raw.githubusercontent.com/pratapvardhan/notebooks/master/covid19/'\n",
    "paths = {\n",
    "    'mapping': base_url + 'mapping_countries.csv',\n",
    "    'overview': base_url + 'overview.tpl'\n",
    "}"
   ]
  },
  {
   "cell_type": "code",
   "execution_count": 3,
   "id": "dynamic-saver",
   "metadata": {
    "execution": {
     "iopub.execute_input": "2022-03-19T00:32:38.579460Z",
     "iopub.status.busy": "2022-03-19T00:32:38.578841Z",
     "iopub.status.idle": "2022-03-19T00:32:38.591281Z",
     "shell.execute_reply": "2022-03-19T00:32:38.591797Z"
    },
    "papermill": {
     "duration": 0.050477,
     "end_time": "2022-03-19T00:32:38.591951",
     "exception": false,
     "start_time": "2022-03-19T00:32:38.541474",
     "status": "completed"
    },
    "tags": []
   },
   "outputs": [
    {
     "data": {
      "text/plain": [
       "'https://raw.githubusercontent.com/pratapvardhan/notebooks/master/covid19/mapping_countries.csv'"
      ]
     },
     "execution_count": 3,
     "metadata": {},
     "output_type": "execute_result"
    }
   ],
   "source": [
    "#hide\n",
    "paths['mapping']"
   ]
  },
  {
   "cell_type": "code",
   "execution_count": 4,
   "id": "urban-software",
   "metadata": {
    "execution": {
     "iopub.execute_input": "2022-03-19T00:32:38.667875Z",
     "iopub.status.busy": "2022-03-19T00:32:38.667235Z",
     "iopub.status.idle": "2022-03-19T00:32:38.668758Z",
     "shell.execute_reply": "2022-03-19T00:32:38.669261Z"
    },
    "papermill": {
     "duration": 0.042959,
     "end_time": "2022-03-19T00:32:38.669412",
     "exception": false,
     "start_time": "2022-03-19T00:32:38.626453",
     "status": "completed"
    },
    "tags": []
   },
   "outputs": [],
   "source": [
    "#hide\n",
    "def get_mappings(url):\n",
    "    df = pd.read_csv(url)\n",
    "    return {\n",
    "        'df': df,\n",
    "        'replace.country': dict(df.dropna(subset=['Name']).set_index('Country')['Name']),\n",
    "        'map.continent': dict(df.set_index('Name')['Continent'])\n",
    "    }"
   ]
  },
  {
   "cell_type": "code",
   "execution_count": 5,
   "id": "intimate-machinery",
   "metadata": {
    "execution": {
     "iopub.execute_input": "2022-03-19T00:32:38.747691Z",
     "iopub.status.busy": "2022-03-19T00:32:38.747025Z",
     "iopub.status.idle": "2022-03-19T00:32:38.782674Z",
     "shell.execute_reply": "2022-03-19T00:32:38.782090Z"
    },
    "papermill": {
     "duration": 0.07815,
     "end_time": "2022-03-19T00:32:38.782842",
     "exception": false,
     "start_time": "2022-03-19T00:32:38.704692",
     "status": "completed"
    },
    "tags": []
   },
   "outputs": [],
   "source": [
    "#hide\n",
    "mapping = get_mappings(paths['mapping'])"
   ]
  },
  {
   "cell_type": "code",
   "execution_count": 6,
   "id": "certified-tactics",
   "metadata": {
    "execution": {
     "iopub.execute_input": "2022-03-19T00:32:38.861656Z",
     "iopub.status.busy": "2022-03-19T00:32:38.861038Z",
     "iopub.status.idle": "2022-03-19T00:32:38.863446Z",
     "shell.execute_reply": "2022-03-19T00:32:38.863900Z"
    },
    "papermill": {
     "duration": 0.04479,
     "end_time": "2022-03-19T00:32:38.864052",
     "exception": false,
     "start_time": "2022-03-19T00:32:38.819262",
     "status": "completed"
    },
    "tags": []
   },
   "outputs": [],
   "source": [
    "#hide\n",
    "def get_template(path):\n",
    "    from urllib.parse import urlparse\n",
    "    if bool(urlparse(path).netloc):\n",
    "        from urllib.request import urlopen\n",
    "        return urlopen(path).read().decode('utf8')\n",
    "    return open(path).read()"
   ]
  },
  {
   "cell_type": "code",
   "execution_count": 7,
   "id": "realistic-blast",
   "metadata": {
    "execution": {
     "iopub.execute_input": "2022-03-19T00:32:38.940333Z",
     "iopub.status.busy": "2022-03-19T00:32:38.939716Z",
     "iopub.status.idle": "2022-03-19T00:32:38.941973Z",
     "shell.execute_reply": "2022-03-19T00:32:38.941381Z"
    },
    "papermill": {
     "duration": 0.043952,
     "end_time": "2022-03-19T00:32:38.942103",
     "exception": false,
     "start_time": "2022-03-19T00:32:38.898151",
     "status": "completed"
    },
    "tags": []
   },
   "outputs": [],
   "source": [
    "#hide\n",
    "def get_frame(name):\n",
    "    url = (\n",
    "        'https://raw.githubusercontent.com/CSSEGISandData/COVID-19/master/csse_covid_19_data/'\n",
    "        f'csse_covid_19_time_series/time_series_covid19_{name}_global.csv')\n",
    "    df = pd.read_csv(url)\n",
    "    # rename countries\n",
    "    df['Country/Region'] = df['Country/Region'].replace(mapping['replace.country'])\n",
    "    return df"
   ]
  },
  {
   "cell_type": "code",
   "execution_count": 8,
   "id": "affiliated-characterization",
   "metadata": {
    "execution": {
     "iopub.execute_input": "2022-03-19T00:32:39.019969Z",
     "iopub.status.busy": "2022-03-19T00:32:39.019342Z",
     "iopub.status.idle": "2022-03-19T00:32:39.022034Z",
     "shell.execute_reply": "2022-03-19T00:32:39.022487Z"
    },
    "papermill": {
     "duration": 0.046176,
     "end_time": "2022-03-19T00:32:39.022642",
     "exception": false,
     "start_time": "2022-03-19T00:32:38.976466",
     "status": "completed"
    },
    "tags": []
   },
   "outputs": [],
   "source": [
    "#hide\n",
    "def get_dates(df):\n",
    "    dt_cols = df.columns[~df.columns.isin(['Province/State', 'Country/Region', 'Lat', 'Long'])]\n",
    "    LAST_DATE_I = -1\n",
    "    # sometimes last column may be empty, then go backwards\n",
    "    for i in range(-1, -len(dt_cols), -1):\n",
    "        if not df[dt_cols[i]].fillna(0).eq(0).all():\n",
    "            LAST_DATE_I = i\n",
    "            break\n",
    "    return LAST_DATE_I, dt_cols"
   ]
  },
  {
   "cell_type": "code",
   "execution_count": 9,
   "id": "recent-optimization",
   "metadata": {
    "execution": {
     "iopub.execute_input": "2022-03-19T00:32:39.097285Z",
     "iopub.status.busy": "2022-03-19T00:32:39.096646Z",
     "iopub.status.idle": "2022-03-19T00:32:39.506959Z",
     "shell.execute_reply": "2022-03-19T00:32:39.506393Z"
    },
    "papermill": {
     "duration": 0.450074,
     "end_time": "2022-03-19T00:32:39.507106",
     "exception": false,
     "start_time": "2022-03-19T00:32:39.057032",
     "status": "completed"
    },
    "tags": []
   },
   "outputs": [],
   "source": [
    "#hide\n",
    "COL_REGION = 'Country/Region'\n",
    "# Confirmed, Recovered, Deaths\n",
    "df = get_frame('confirmed')\n",
    "# dft_: timeseries, dfc_: today country agg\n",
    "dft_cases = df\n",
    "dft_deaths = get_frame('deaths')\n",
    "dft_recovered = get_frame('recovered')\n",
    "LAST_DATE_I, dt_cols = get_dates(df)"
   ]
  },
  {
   "cell_type": "code",
   "execution_count": 10,
   "id": "absolute-copper",
   "metadata": {
    "execution": {
     "iopub.execute_input": "2022-03-19T00:32:39.599180Z",
     "iopub.status.busy": "2022-03-19T00:32:39.597866Z",
     "iopub.status.idle": "2022-03-19T00:32:39.607737Z",
     "shell.execute_reply": "2022-03-19T00:32:39.605601Z"
    },
    "papermill": {
     "duration": 0.060191,
     "end_time": "2022-03-19T00:32:39.607896",
     "exception": false,
     "start_time": "2022-03-19T00:32:39.547705",
     "status": "completed"
    },
    "tags": []
   },
   "outputs": [],
   "source": [
    "#hide\n",
    "LAST_DATE_I, dt_cols = get_dates(df)\n",
    "dt_today =dt_cols[LAST_DATE_I]\n",
    "# dt_5day = dt_cols[LAST_DATE_I - 5]\n",
    "dt_yday = dt_cols[LAST_DATE_I - 1]"
   ]
  },
  {
   "cell_type": "code",
   "execution_count": 11,
   "id": "restricted-sheriff",
   "metadata": {
    "execution": {
     "iopub.execute_input": "2022-03-19T00:32:39.687942Z",
     "iopub.status.busy": "2022-03-19T00:32:39.685907Z",
     "iopub.status.idle": "2022-03-19T00:32:39.695056Z",
     "shell.execute_reply": "2022-03-19T00:32:39.694480Z"
    },
    "papermill": {
     "duration": 0.051254,
     "end_time": "2022-03-19T00:32:39.695205",
     "exception": false,
     "start_time": "2022-03-19T00:32:39.643951",
     "status": "completed"
    },
    "tags": []
   },
   "outputs": [],
   "source": [
    "#hide\n",
    "dfc_cases = dft_cases.groupby(COL_REGION)[dt_today].sum()\n",
    "dfc_deaths = dft_deaths.groupby(COL_REGION)[dt_today].sum()\n",
    "# dfp_cases = dft_cases.groupby(COL_REGION)[dt_5day].sum()\n",
    "# dfp_deaths = dft_deaths.groupby(COL_REGION)[dt_5day].sum()\n",
    "dfp_cases = dft_cases.groupby(COL_REGION)[dt_yday].sum()\n",
    "dfp_deaths = dft_deaths.groupby(COL_REGION)[dt_yday].sum()"
   ]
  },
  {
   "cell_type": "code",
   "execution_count": 12,
   "id": "deluxe-hepatitis",
   "metadata": {
    "execution": {
     "iopub.execute_input": "2022-03-19T00:32:39.771567Z",
     "iopub.status.busy": "2022-03-19T00:32:39.770929Z",
     "iopub.status.idle": "2022-03-19T00:32:39.776885Z",
     "shell.execute_reply": "2022-03-19T00:32:39.776366Z"
    },
    "papermill": {
     "duration": 0.04722,
     "end_time": "2022-03-19T00:32:39.777019",
     "exception": false,
     "start_time": "2022-03-19T00:32:39.729799",
     "status": "completed"
    },
    "tags": []
   },
   "outputs": [],
   "source": [
    "#hide\n",
    "df_table = (pd.DataFrame(dict(Cases = dfc_cases, Deaths = dfc_deaths, PCases = dfp_cases, PDeaths = dfp_deaths))\n",
    "            .sort_values(by = ['Cases','Deaths'], ascending = [False, False])\n",
    "            .reset_index())"
   ]
  },
  {
   "cell_type": "code",
   "execution_count": 13,
   "id": "educational-chancellor",
   "metadata": {
    "execution": {
     "iopub.execute_input": "2022-03-19T00:32:39.860610Z",
     "iopub.status.busy": "2022-03-19T00:32:39.853675Z",
     "iopub.status.idle": "2022-03-19T00:32:39.877010Z",
     "shell.execute_reply": "2022-03-19T00:32:39.876488Z"
    },
    "papermill": {
     "duration": 0.06588,
     "end_time": "2022-03-19T00:32:39.877145",
     "exception": false,
     "start_time": "2022-03-19T00:32:39.811265",
     "status": "completed"
    },
    "tags": []
   },
   "outputs": [
    {
     "data": {
      "text/html": [
       "<div>\n",
       "<style scoped>\n",
       "    .dataframe tbody tr th:only-of-type {\n",
       "        vertical-align: middle;\n",
       "    }\n",
       "\n",
       "    .dataframe tbody tr th {\n",
       "        vertical-align: top;\n",
       "    }\n",
       "\n",
       "    .dataframe thead th {\n",
       "        text-align: right;\n",
       "    }\n",
       "</style>\n",
       "<table border=\"1\" class=\"dataframe\">\n",
       "  <thead>\n",
       "    <tr style=\"text-align: right;\">\n",
       "      <th></th>\n",
       "      <th>Country/Region</th>\n",
       "      <th>Cases</th>\n",
       "      <th>Deaths</th>\n",
       "      <th>PCases</th>\n",
       "      <th>PDeaths</th>\n",
       "      <th>Cases (+)</th>\n",
       "      <th>Deaths (+)</th>\n",
       "      <th>Fatality Rate</th>\n",
       "      <th>Continent</th>\n",
       "    </tr>\n",
       "  </thead>\n",
       "  <tbody>\n",
       "    <tr>\n",
       "      <th>0</th>\n",
       "      <td>US</td>\n",
       "      <td>79683737</td>\n",
       "      <td>970009</td>\n",
       "      <td>79630853</td>\n",
       "      <td>968324</td>\n",
       "      <td>52884</td>\n",
       "      <td>1685</td>\n",
       "      <td>1.22</td>\n",
       "      <td>North America</td>\n",
       "    </tr>\n",
       "    <tr>\n",
       "      <th>1</th>\n",
       "      <td>India</td>\n",
       "      <td>43004005</td>\n",
       "      <td>516281</td>\n",
       "      <td>43001477</td>\n",
       "      <td>516132</td>\n",
       "      <td>2528</td>\n",
       "      <td>149</td>\n",
       "      <td>1.20</td>\n",
       "      <td>Asia</td>\n",
       "    </tr>\n",
       "    <tr>\n",
       "      <th>2</th>\n",
       "      <td>Brazil</td>\n",
       "      <td>29532810</td>\n",
       "      <td>656693</td>\n",
       "      <td>29488777</td>\n",
       "      <td>656231</td>\n",
       "      <td>44033</td>\n",
       "      <td>462</td>\n",
       "      <td>2.22</td>\n",
       "      <td>South America</td>\n",
       "    </tr>\n",
       "    <tr>\n",
       "      <th>3</th>\n",
       "      <td>France</td>\n",
       "      <td>24046195</td>\n",
       "      <td>141757</td>\n",
       "      <td>23943801</td>\n",
       "      <td>141640</td>\n",
       "      <td>102394</td>\n",
       "      <td>117</td>\n",
       "      <td>0.59</td>\n",
       "      <td>Europe</td>\n",
       "    </tr>\n",
       "    <tr>\n",
       "      <th>4</th>\n",
       "      <td>United Kingdom</td>\n",
       "      <td>20150847</td>\n",
       "      <td>163972</td>\n",
       "      <td>20059641</td>\n",
       "      <td>163833</td>\n",
       "      <td>91206</td>\n",
       "      <td>139</td>\n",
       "      <td>0.81</td>\n",
       "      <td>Europe</td>\n",
       "    </tr>\n",
       "  </tbody>\n",
       "</table>\n",
       "</div>"
      ],
      "text/plain": [
       "   Country/Region     Cases  Deaths    PCases  PDeaths  Cases (+)  Deaths (+)  \\\n",
       "0              US  79683737  970009  79630853   968324      52884        1685   \n",
       "1           India  43004005  516281  43001477   516132       2528         149   \n",
       "2          Brazil  29532810  656693  29488777   656231      44033         462   \n",
       "3          France  24046195  141757  23943801   141640     102394         117   \n",
       "4  United Kingdom  20150847  163972  20059641   163833      91206         139   \n",
       "\n",
       "   Fatality Rate      Continent  \n",
       "0           1.22  North America  \n",
       "1           1.20           Asia  \n",
       "2           2.22  South America  \n",
       "3           0.59         Europe  \n",
       "4           0.81         Europe  "
      ]
     },
     "execution_count": 13,
     "metadata": {},
     "output_type": "execute_result"
    }
   ],
   "source": [
    "#hide\n",
    "for c in 'Cases, Deaths'.split(', '):\n",
    "    df_table[f'{c} (+)'] = (df_table[c] - df_table[f'P{c}']).clip(0)\n",
    "    #Clip ça veut dire, les chiffres negatif sont interdit\n",
    "df_table['Fatality Rate'] = (100* df_table['Deaths']/ df_table['Cases']).round(2)\n",
    "df_table['Continent'] = df_table['Country/Region'].map(mapping['map.continent'])\n",
    "df_table.head(5)"
   ]
  },
  {
   "cell_type": "code",
   "execution_count": 14,
   "id": "aboriginal-bulgaria",
   "metadata": {
    "execution": {
     "iopub.execute_input": "2022-03-19T00:32:39.957314Z",
     "iopub.status.busy": "2022-03-19T00:32:39.956692Z",
     "iopub.status.idle": "2022-03-19T00:32:39.959560Z",
     "shell.execute_reply": "2022-03-19T00:32:39.960237Z"
    },
    "papermill": {
     "duration": 0.048002,
     "end_time": "2022-03-19T00:32:39.960396",
     "exception": false,
     "start_time": "2022-03-19T00:32:39.912394",
     "status": "completed"
    },
    "tags": []
   },
   "outputs": [],
   "source": [
    "#hide\n",
    "#delete problematic countries from table\n",
    "df_table = df_table[~df_table['Country/Region'].isin(['Cape Verde', 'Cruise Ship', 'Kosovo'])]"
   ]
  },
  {
   "cell_type": "code",
   "execution_count": 15,
   "id": "fantastic-effect",
   "metadata": {
    "execution": {
     "iopub.execute_input": "2022-03-19T00:32:40.040330Z",
     "iopub.status.busy": "2022-03-19T00:32:40.039578Z",
     "iopub.status.idle": "2022-03-19T00:32:40.067179Z",
     "shell.execute_reply": "2022-03-19T00:32:40.067856Z"
    },
    "papermill": {
     "duration": 0.073001,
     "end_time": "2022-03-19T00:32:40.068074",
     "exception": false,
     "start_time": "2022-03-19T00:32:39.995073",
     "status": "completed"
    },
    "tags": []
   },
   "outputs": [
    {
     "data": {
      "text/html": [
       "<div>\n",
       "<style scoped>\n",
       "    .dataframe tbody tr th:only-of-type {\n",
       "        vertical-align: middle;\n",
       "    }\n",
       "\n",
       "    .dataframe tbody tr th {\n",
       "        vertical-align: top;\n",
       "    }\n",
       "\n",
       "    .dataframe thead th {\n",
       "        text-align: right;\n",
       "    }\n",
       "</style>\n",
       "<table border=\"1\" class=\"dataframe\">\n",
       "  <thead>\n",
       "    <tr style=\"text-align: right;\">\n",
       "      <th></th>\n",
       "      <th>Country/Region</th>\n",
       "      <th>Cases</th>\n",
       "      <th>Deaths</th>\n",
       "      <th>PCases</th>\n",
       "      <th>PDeaths</th>\n",
       "      <th>Cases (+)</th>\n",
       "      <th>Deaths (+)</th>\n",
       "      <th>Fatality Rate</th>\n",
       "      <th>Continent</th>\n",
       "    </tr>\n",
       "  </thead>\n",
       "  <tbody>\n",
       "    <tr>\n",
       "      <th>0</th>\n",
       "      <td>US</td>\n",
       "      <td>79683737</td>\n",
       "      <td>970009</td>\n",
       "      <td>79630853</td>\n",
       "      <td>968324</td>\n",
       "      <td>52884</td>\n",
       "      <td>1685</td>\n",
       "      <td>1.2</td>\n",
       "      <td>North America</td>\n",
       "    </tr>\n",
       "    <tr>\n",
       "      <th>1</th>\n",
       "      <td>India</td>\n",
       "      <td>43004005</td>\n",
       "      <td>516281</td>\n",
       "      <td>43001477</td>\n",
       "      <td>516132</td>\n",
       "      <td>2528</td>\n",
       "      <td>149</td>\n",
       "      <td>1.2</td>\n",
       "      <td>Asia</td>\n",
       "    </tr>\n",
       "    <tr>\n",
       "      <th>2</th>\n",
       "      <td>Brazil</td>\n",
       "      <td>29532810</td>\n",
       "      <td>656693</td>\n",
       "      <td>29488777</td>\n",
       "      <td>656231</td>\n",
       "      <td>44033</td>\n",
       "      <td>462</td>\n",
       "      <td>2.2</td>\n",
       "      <td>South America</td>\n",
       "    </tr>\n",
       "    <tr>\n",
       "      <th>3</th>\n",
       "      <td>France</td>\n",
       "      <td>24046195</td>\n",
       "      <td>141757</td>\n",
       "      <td>23943801</td>\n",
       "      <td>141640</td>\n",
       "      <td>102394</td>\n",
       "      <td>117</td>\n",
       "      <td>0.6</td>\n",
       "      <td>Europe</td>\n",
       "    </tr>\n",
       "    <tr>\n",
       "      <th>4</th>\n",
       "      <td>United Kingdom</td>\n",
       "      <td>20150847</td>\n",
       "      <td>163972</td>\n",
       "      <td>20059641</td>\n",
       "      <td>163833</td>\n",
       "      <td>91206</td>\n",
       "      <td>139</td>\n",
       "      <td>0.8</td>\n",
       "      <td>Europe</td>\n",
       "    </tr>\n",
       "  </tbody>\n",
       "</table>\n",
       "</div>"
      ],
      "text/plain": [
       "   Country/Region     Cases  Deaths    PCases  PDeaths  Cases (+)  Deaths (+)  \\\n",
       "0              US  79683737  970009  79630853   968324      52884        1685   \n",
       "1           India  43004005  516281  43001477   516132       2528         149   \n",
       "2          Brazil  29532810  656693  29488777   656231      44033         462   \n",
       "3          France  24046195  141757  23943801   141640     102394         117   \n",
       "4  United Kingdom  20150847  163972  20059641   163833      91206         139   \n",
       "\n",
       "   Fatality Rate      Continent  \n",
       "0            1.2  North America  \n",
       "1            1.2           Asia  \n",
       "2            2.2  South America  \n",
       "3            0.6         Europe  \n",
       "4            0.8         Europe  "
      ]
     },
     "execution_count": 15,
     "metadata": {},
     "output_type": "execute_result"
    }
   ],
   "source": [
    "#hide\n",
    "df_table = (pd.DataFrame(dict(Cases=dfc_cases, Deaths=dfc_deaths, PCases=dfp_cases, PDeaths=dfp_deaths))\n",
    "             .sort_values(by=['Cases', 'Deaths'], ascending=[False, False])\n",
    "             .reset_index())\n",
    "df_table.rename(columns={'index': 'Country/Region'}, inplace=True)\n",
    "for c in 'Cases, Deaths'.split(', '):\n",
    "    df_table[f'{c} (+)'] = (df_table[c] - df_table[f'P{c}']).clip(0)  # DATA BUG\n",
    "df_table['Fatality Rate'] = (100 * df_table['Deaths'] / df_table['Cases']).round(1)\n",
    "df_table['Continent'] = df_table['Country/Region'].map(mapping['map.continent'])\n",
    "df_table.head(5)"
   ]
  },
  {
   "cell_type": "code",
   "execution_count": 16,
   "id": "fewer-occasion",
   "metadata": {
    "execution": {
     "iopub.execute_input": "2022-03-19T00:32:40.147230Z",
     "iopub.status.busy": "2022-03-19T00:32:40.146543Z",
     "iopub.status.idle": "2022-03-19T00:32:40.148891Z",
     "shell.execute_reply": "2022-03-19T00:32:40.149376Z"
    },
    "papermill": {
     "duration": 0.044205,
     "end_time": "2022-03-19T00:32:40.149535",
     "exception": false,
     "start_time": "2022-03-19T00:32:40.105330",
     "status": "completed"
    },
    "tags": []
   },
   "outputs": [],
   "source": [
    "#hide\n",
    "#delete problematic countries from table\n",
    "df_table = df_table[~df_table['Country/Region'].isin(['Cape Verde', 'Cruise Ship', 'Kosovo'])]"
   ]
  },
  {
   "cell_type": "code",
   "execution_count": 17,
   "id": "related-center",
   "metadata": {
    "execution": {
     "iopub.execute_input": "2022-03-19T00:32:40.243709Z",
     "iopub.status.busy": "2022-03-19T00:32:40.243050Z",
     "iopub.status.idle": "2022-03-19T00:32:40.244681Z",
     "shell.execute_reply": "2022-03-19T00:32:40.245155Z"
    },
    "papermill": {
     "duration": 0.060514,
     "end_time": "2022-03-19T00:32:40.245311",
     "exception": false,
     "start_time": "2022-03-19T00:32:40.184797",
     "status": "completed"
    },
    "tags": []
   },
   "outputs": [],
   "source": [
    "#hide\n",
    "metrics = [df_table.columns[index] for index in [1,2,5,6]]\n",
    "# s_china = df_table[df_table['Country/Region'].eq('China')][metrics].sum().add_prefix('China ')\n",
    "s_us = df_table[df_table['Country/Region'].eq('US')][metrics].sum().add_prefix('US ')\n",
    "s_eu = df_table[df_table['Continent'].eq('Europe')][metrics].sum().add_prefix('EU ')\n",
    "s_ind = df_table[df_table['Country/Region'].eq('India')][metrics].sum().add_prefix('India ')\n",
    "summary = {'updated': pd.to_datetime(dt_today), 'since': pd.to_datetime(dt_yday)}\n",
    "summary = {'updated': pd.to_datetime(dt_today), 'since': pd.to_datetime(dt_yday)}\n",
    "summary = {**summary, **df_table[metrics].sum(), **s_ind, **s_us, **s_eu}"
   ]
  },
  {
   "cell_type": "code",
   "execution_count": 18,
   "id": "engaging-syndrome",
   "metadata": {
    "execution": {
     "iopub.execute_input": "2022-03-19T00:32:40.332763Z",
     "iopub.status.busy": "2022-03-19T00:32:40.332150Z",
     "iopub.status.idle": "2022-03-19T00:32:40.351106Z",
     "shell.execute_reply": "2022-03-19T00:32:40.351589Z"
    },
    "papermill": {
     "duration": 0.059823,
     "end_time": "2022-03-19T00:32:40.351755",
     "exception": false,
     "start_time": "2022-03-19T00:32:40.291932",
     "status": "completed"
    },
    "tags": []
   },
   "outputs": [],
   "source": [
    "#hide\n",
    "dft_ct_new_cases = dft_cases.groupby(COL_REGION)[dt_cols].sum().diff(axis=1).fillna(0).astype(int)"
   ]
  },
  {
   "cell_type": "code",
   "execution_count": 19,
   "id": "neutral-assignment",
   "metadata": {
    "execution": {
     "iopub.execute_input": "2022-03-19T00:32:40.429485Z",
     "iopub.status.busy": "2022-03-19T00:32:40.428653Z",
     "iopub.status.idle": "2022-03-19T00:32:40.430190Z",
     "shell.execute_reply": "2022-03-19T00:32:40.430773Z"
    },
    "papermill": {
     "duration": 0.043947,
     "end_time": "2022-03-19T00:32:40.430927",
     "exception": false,
     "start_time": "2022-03-19T00:32:40.386980",
     "status": "completed"
    },
    "tags": []
   },
   "outputs": [],
   "source": [
    "#hide\n",
    "everydaycases = dft_ct_new_cases.cumsum(axis=1)"
   ]
  },
  {
   "cell_type": "code",
   "execution_count": 20,
   "id": "parliamentary-calgary",
   "metadata": {
    "execution": {
     "iopub.execute_input": "2022-03-19T00:32:40.516359Z",
     "iopub.status.busy": "2022-03-19T00:32:40.515736Z",
     "iopub.status.idle": "2022-03-19T00:32:41.222967Z",
     "shell.execute_reply": "2022-03-19T00:32:41.222404Z"
    },
    "papermill": {
     "duration": 0.747448,
     "end_time": "2022-03-19T00:32:41.223117",
     "exception": false,
     "start_time": "2022-03-19T00:32:40.475669",
     "status": "completed"
    },
    "tags": []
   },
   "outputs": [],
   "source": [
    "#hide\n",
    "import pandas as pd\n",
    "import matplotlib.pyplot as plt\n",
    "import matplotlib.ticker as ticker\n",
    "import matplotlib.animation as animation\n",
    "from IPython.display import HTML"
   ]
  },
  {
   "cell_type": "code",
   "execution_count": 21,
   "id": "lasting-extraction",
   "metadata": {
    "execution": {
     "iopub.execute_input": "2022-03-19T00:32:41.313607Z",
     "iopub.status.busy": "2022-03-19T00:32:41.312989Z",
     "iopub.status.idle": "2022-03-19T00:32:41.319819Z",
     "shell.execute_reply": "2022-03-19T00:32:41.320340Z"
    },
    "papermill": {
     "duration": 0.051231,
     "end_time": "2022-03-19T00:32:41.320497",
     "exception": false,
     "start_time": "2022-03-19T00:32:41.269266",
     "status": "completed"
    },
    "tags": []
   },
   "outputs": [],
   "source": [
    "#hide\n",
    "t = everydaycases.stack()"
   ]
  },
  {
   "cell_type": "code",
   "execution_count": 22,
   "id": "premier-sleeve",
   "metadata": {
    "execution": {
     "iopub.execute_input": "2022-03-19T00:32:41.410171Z",
     "iopub.status.busy": "2022-03-19T00:32:41.409547Z",
     "iopub.status.idle": "2022-03-19T00:32:41.423595Z",
     "shell.execute_reply": "2022-03-19T00:32:41.424128Z"
    },
    "papermill": {
     "duration": 0.063815,
     "end_time": "2022-03-19T00:32:41.424289",
     "exception": false,
     "start_time": "2022-03-19T00:32:41.360474",
     "status": "completed"
    },
    "tags": []
   },
   "outputs": [],
   "source": [
    "#hide\n",
    "g = t.reset_index(['Country/Region'])"
   ]
  },
  {
   "cell_type": "code",
   "execution_count": 23,
   "id": "distributed-pittsburgh",
   "metadata": {
    "execution": {
     "iopub.execute_input": "2022-03-19T00:32:41.500527Z",
     "iopub.status.busy": "2022-03-19T00:32:41.499697Z",
     "iopub.status.idle": "2022-03-19T00:32:41.504647Z",
     "shell.execute_reply": "2022-03-19T00:32:41.504151Z"
    },
    "papermill": {
     "duration": 0.045117,
     "end_time": "2022-03-19T00:32:41.504782",
     "exception": false,
     "start_time": "2022-03-19T00:32:41.459665",
     "status": "completed"
    },
    "tags": []
   },
   "outputs": [],
   "source": [
    "#hide\n",
    "g.index.name = 'date'"
   ]
  },
  {
   "cell_type": "code",
   "execution_count": 24,
   "id": "naked-donor",
   "metadata": {
    "execution": {
     "iopub.execute_input": "2022-03-19T00:32:41.598303Z",
     "iopub.status.busy": "2022-03-19T00:32:41.597663Z",
     "iopub.status.idle": "2022-03-19T00:32:41.602205Z",
     "shell.execute_reply": "2022-03-19T00:32:41.601606Z"
    },
    "papermill": {
     "duration": 0.048587,
     "end_time": "2022-03-19T00:32:41.602349",
     "exception": false,
     "start_time": "2022-03-19T00:32:41.553762",
     "status": "completed"
    },
    "tags": []
   },
   "outputs": [],
   "source": [
    "# #hide\n",
    "# g = g.reset_index(['date'])"
   ]
  },
  {
   "cell_type": "code",
   "execution_count": 25,
   "id": "incomplete-mustang",
   "metadata": {
    "execution": {
     "iopub.execute_input": "2022-03-19T00:32:41.689214Z",
     "iopub.status.busy": "2022-03-19T00:32:41.688531Z",
     "iopub.status.idle": "2022-03-19T00:32:41.691559Z",
     "shell.execute_reply": "2022-03-19T00:32:41.691054Z"
    },
    "papermill": {
     "duration": 0.048394,
     "end_time": "2022-03-19T00:32:41.691695",
     "exception": false,
     "start_time": "2022-03-19T00:32:41.643301",
     "status": "completed"
    },
    "tags": []
   },
   "outputs": [],
   "source": [
    "#hide\n",
    "# g.head()"
   ]
  },
  {
   "cell_type": "code",
   "execution_count": 26,
   "id": "specific-kruger",
   "metadata": {
    "execution": {
     "iopub.execute_input": "2022-03-19T00:32:41.766885Z",
     "iopub.status.busy": "2022-03-19T00:32:41.766232Z",
     "iopub.status.idle": "2022-03-19T00:32:41.770097Z",
     "shell.execute_reply": "2022-03-19T00:32:41.769548Z"
    },
    "papermill": {
     "duration": 0.042984,
     "end_time": "2022-03-19T00:32:41.770234",
     "exception": false,
     "start_time": "2022-03-19T00:32:41.727250",
     "status": "completed"
    },
    "tags": []
   },
   "outputs": [],
   "source": [
    "#hide\n",
    "# g.columns = ['date','country','cases']"
   ]
  },
  {
   "cell_type": "code",
   "execution_count": 27,
   "id": "tender-conversion",
   "metadata": {
    "execution": {
     "iopub.execute_input": "2022-03-19T00:32:41.856495Z",
     "iopub.status.busy": "2022-03-19T00:32:41.855873Z",
     "iopub.status.idle": "2022-03-19T00:32:41.858281Z",
     "shell.execute_reply": "2022-03-19T00:32:41.858734Z"
    },
    "papermill": {
     "duration": 0.048925,
     "end_time": "2022-03-19T00:32:41.858917",
     "exception": false,
     "start_time": "2022-03-19T00:32:41.809992",
     "status": "completed"
    },
    "tags": []
   },
   "outputs": [],
   "source": [
    "#hide\n",
    "# g['continent'] = g.country"
   ]
  },
  {
   "cell_type": "code",
   "execution_count": 28,
   "id": "substantial-wilderness",
   "metadata": {
    "execution": {
     "iopub.execute_input": "2022-03-19T00:32:41.938284Z",
     "iopub.status.busy": "2022-03-19T00:32:41.937671Z",
     "iopub.status.idle": "2022-03-19T00:32:41.940344Z",
     "shell.execute_reply": "2022-03-19T00:32:41.940922Z"
    },
    "papermill": {
     "duration": 0.043526,
     "end_time": "2022-03-19T00:32:41.941077",
     "exception": false,
     "start_time": "2022-03-19T00:32:41.897551",
     "status": "completed"
    },
    "tags": []
   },
   "outputs": [],
   "source": [
    "#hide\n",
    "# cols = list(g.columns.values)"
   ]
  },
  {
   "cell_type": "code",
   "execution_count": 29,
   "id": "solved-farming",
   "metadata": {
    "execution": {
     "iopub.execute_input": "2022-03-19T00:32:42.017586Z",
     "iopub.status.busy": "2022-03-19T00:32:42.016377Z",
     "iopub.status.idle": "2022-03-19T00:32:42.021483Z",
     "shell.execute_reply": "2022-03-19T00:32:42.020974Z"
    },
    "papermill": {
     "duration": 0.044531,
     "end_time": "2022-03-19T00:32:42.021622",
     "exception": false,
     "start_time": "2022-03-19T00:32:41.977091",
     "status": "completed"
    },
    "tags": []
   },
   "outputs": [],
   "source": [
    "#hide\n",
    "# cols.insert(0, cols.pop())"
   ]
  },
  {
   "cell_type": "code",
   "execution_count": 30,
   "id": "executed-adoption",
   "metadata": {
    "execution": {
     "iopub.execute_input": "2022-03-19T00:32:42.112125Z",
     "iopub.status.busy": "2022-03-19T00:32:42.111495Z",
     "iopub.status.idle": "2022-03-19T00:32:42.113366Z",
     "shell.execute_reply": "2022-03-19T00:32:42.118238Z"
    },
    "papermill": {
     "duration": 0.046235,
     "end_time": "2022-03-19T00:32:42.118424",
     "exception": false,
     "start_time": "2022-03-19T00:32:42.072189",
     "status": "completed"
    },
    "tags": []
   },
   "outputs": [],
   "source": [
    "#hide\n",
    "# g = g[cols]"
   ]
  },
  {
   "cell_type": "code",
   "execution_count": 31,
   "id": "subject-dublin",
   "metadata": {
    "execution": {
     "iopub.execute_input": "2022-03-19T00:32:42.194558Z",
     "iopub.status.busy": "2022-03-19T00:32:42.193944Z",
     "iopub.status.idle": "2022-03-19T00:32:42.196281Z",
     "shell.execute_reply": "2022-03-19T00:32:42.196759Z"
    },
    "papermill": {
     "duration": 0.041867,
     "end_time": "2022-03-19T00:32:42.196910",
     "exception": false,
     "start_time": "2022-03-19T00:32:42.155043",
     "status": "completed"
    },
    "tags": []
   },
   "outputs": [],
   "source": [
    "#hide\n",
    "# g['continent'] = g['continent'].map(mapping['map.continent'])"
   ]
  },
  {
   "cell_type": "code",
   "execution_count": 32,
   "id": "freelance-scout",
   "metadata": {
    "execution": {
     "iopub.execute_input": "2022-03-19T00:32:42.273718Z",
     "iopub.status.busy": "2022-03-19T00:32:42.272647Z",
     "iopub.status.idle": "2022-03-19T00:32:42.277851Z",
     "shell.execute_reply": "2022-03-19T00:32:42.277359Z"
    },
    "papermill": {
     "duration": 0.046021,
     "end_time": "2022-03-19T00:32:42.277988",
     "exception": false,
     "start_time": "2022-03-19T00:32:42.231967",
     "status": "completed"
    },
    "tags": []
   },
   "outputs": [],
   "source": [
    "#hide\n",
    "# g.head()"
   ]
  },
  {
   "cell_type": "code",
   "execution_count": 33,
   "id": "limited-engine",
   "metadata": {
    "execution": {
     "iopub.execute_input": "2022-03-19T00:32:42.354938Z",
     "iopub.status.busy": "2022-03-19T00:32:42.353816Z",
     "iopub.status.idle": "2022-03-19T00:32:42.356095Z",
     "shell.execute_reply": "2022-03-19T00:32:42.356912Z"
    },
    "papermill": {
     "duration": 0.043689,
     "end_time": "2022-03-19T00:32:42.357119",
     "exception": false,
     "start_time": "2022-03-19T00:32:42.313430",
     "status": "completed"
    },
    "tags": []
   },
   "outputs": [],
   "source": [
    "# hide\n",
    "# g['date'] = g['date'].astype('datetime64[ns]')"
   ]
  },
  {
   "cell_type": "code",
   "execution_count": 34,
   "id": "sophisticated-supervisor",
   "metadata": {
    "execution": {
     "iopub.execute_input": "2022-03-19T00:32:42.434042Z",
     "iopub.status.busy": "2022-03-19T00:32:42.432973Z",
     "iopub.status.idle": "2022-03-19T00:32:42.438071Z",
     "shell.execute_reply": "2022-03-19T00:32:42.438531Z"
    },
    "papermill": {
     "duration": 0.046376,
     "end_time": "2022-03-19T00:32:42.438683",
     "exception": false,
     "start_time": "2022-03-19T00:32:42.392307",
     "status": "completed"
    },
    "tags": []
   },
   "outputs": [],
   "source": [
    "#hide\n",
    "# g['date'] = g.date.dt.dayofyear"
   ]
  },
  {
   "cell_type": "code",
   "execution_count": 35,
   "id": "inside-dubai",
   "metadata": {
    "execution": {
     "iopub.execute_input": "2022-03-19T00:32:42.513493Z",
     "iopub.status.busy": "2022-03-19T00:32:42.512861Z",
     "iopub.status.idle": "2022-03-19T00:32:42.517926Z",
     "shell.execute_reply": "2022-03-19T00:32:42.518877Z"
    },
    "papermill": {
     "duration": 0.045161,
     "end_time": "2022-03-19T00:32:42.519055",
     "exception": false,
     "start_time": "2022-03-19T00:32:42.473894",
     "status": "completed"
    },
    "tags": []
   },
   "outputs": [],
   "source": [
    "#hide\n",
    "# g = g.rename(columns= {'continent':'group','country':'name','cases':'value'})"
   ]
  },
  {
   "cell_type": "code",
   "execution_count": 36,
   "id": "fleet-motorcycle",
   "metadata": {
    "execution": {
     "iopub.execute_input": "2022-03-19T00:32:42.600123Z",
     "iopub.status.busy": "2022-03-19T00:32:42.599030Z",
     "iopub.status.idle": "2022-03-19T00:32:42.600928Z",
     "shell.execute_reply": "2022-03-19T00:32:42.601395Z"
    },
    "papermill": {
     "duration": 0.04216,
     "end_time": "2022-03-19T00:32:42.601544",
     "exception": false,
     "start_time": "2022-03-19T00:32:42.559384",
     "status": "completed"
    },
    "tags": []
   },
   "outputs": [],
   "source": [
    "#hide\n",
    "# cols = ['name','group','day','value']"
   ]
  },
  {
   "cell_type": "code",
   "execution_count": 37,
   "id": "continued-sleeping",
   "metadata": {
    "execution": {
     "iopub.execute_input": "2022-03-19T00:32:42.676203Z",
     "iopub.status.busy": "2022-03-19T00:32:42.675570Z",
     "iopub.status.idle": "2022-03-19T00:32:42.677430Z",
     "shell.execute_reply": "2022-03-19T00:32:42.677889Z"
    },
    "papermill": {
     "duration": 0.041192,
     "end_time": "2022-03-19T00:32:42.678043",
     "exception": false,
     "start_time": "2022-03-19T00:32:42.636851",
     "status": "completed"
    },
    "tags": []
   },
   "outputs": [],
   "source": [
    "#hide\n",
    "# g.rename(columns= {'date':'day'},inplace = True)"
   ]
  },
  {
   "cell_type": "code",
   "execution_count": 38,
   "id": "major-fight",
   "metadata": {
    "execution": {
     "iopub.execute_input": "2022-03-19T00:32:42.757193Z",
     "iopub.status.busy": "2022-03-19T00:32:42.756305Z",
     "iopub.status.idle": "2022-03-19T00:32:42.760708Z",
     "shell.execute_reply": "2022-03-19T00:32:42.761207Z"
    },
    "papermill": {
     "duration": 0.044621,
     "end_time": "2022-03-19T00:32:42.761779",
     "exception": false,
     "start_time": "2022-03-19T00:32:42.717158",
     "status": "completed"
    },
    "tags": []
   },
   "outputs": [],
   "source": [
    "#hide\n",
    "# g = g[cols]"
   ]
  },
  {
   "cell_type": "code",
   "execution_count": 39,
   "id": "structured-mobile",
   "metadata": {
    "execution": {
     "iopub.execute_input": "2022-03-19T00:32:42.846427Z",
     "iopub.status.busy": "2022-03-19T00:32:42.845802Z",
     "iopub.status.idle": "2022-03-19T00:32:42.847900Z",
     "shell.execute_reply": "2022-03-19T00:32:42.847310Z"
    },
    "papermill": {
     "duration": 0.042117,
     "end_time": "2022-03-19T00:32:42.848029",
     "exception": false,
     "start_time": "2022-03-19T00:32:42.805912",
     "status": "completed"
    },
    "tags": []
   },
   "outputs": [],
   "source": [
    "# #hide\n",
    "# g = g[g.group.notna()]"
   ]
  },
  {
   "cell_type": "code",
   "execution_count": 40,
   "id": "determined-closing",
   "metadata": {
    "execution": {
     "iopub.execute_input": "2022-03-19T00:32:42.924039Z",
     "iopub.status.busy": "2022-03-19T00:32:42.923406Z",
     "iopub.status.idle": "2022-03-19T00:32:42.927675Z",
     "shell.execute_reply": "2022-03-19T00:32:42.927184Z"
    },
    "papermill": {
     "duration": 0.044334,
     "end_time": "2022-03-19T00:32:42.927809",
     "exception": false,
     "start_time": "2022-03-19T00:32:42.883475",
     "status": "completed"
    },
    "tags": []
   },
   "outputs": [],
   "source": [
    "# #hide\n",
    "# colors = dict(zip(\n",
    "#     [\"Oceania\", \"Europe\", \"Asia\", \"South America\", \"Middle East\", \"North America\", \"Africa\"],\n",
    "#     [\"#adb0ff\", \"#ffb3ff\", \"#90d595\", \"#e48381\", \"#aafbff\", \"#f7bb5f\", \"#eafb50\"]\n",
    "# ))\n",
    "# group_lk = g.set_index('name')['group'].to_dict()"
   ]
  },
  {
   "cell_type": "code",
   "execution_count": null,
   "id": "gross-drinking",
   "metadata": {
    "papermill": {
     "duration": 0.03683,
     "end_time": "2022-03-19T00:32:43.001895",
     "exception": false,
     "start_time": "2022-03-19T00:32:42.965065",
     "status": "completed"
    },
    "tags": []
   },
   "outputs": [],
   "source": []
  },
  {
   "cell_type": "code",
   "execution_count": 41,
   "id": "subject-macintosh",
   "metadata": {
    "execution": {
     "iopub.execute_input": "2022-03-19T00:32:43.082350Z",
     "iopub.status.busy": "2022-03-19T00:32:43.081563Z",
     "iopub.status.idle": "2022-03-19T00:32:43.083029Z",
     "shell.execute_reply": "2022-03-19T00:32:43.083506Z"
    },
    "papermill": {
     "duration": 0.044577,
     "end_time": "2022-03-19T00:32:43.083657",
     "exception": false,
     "start_time": "2022-03-19T00:32:43.039080",
     "status": "completed"
    },
    "tags": []
   },
   "outputs": [],
   "source": [
    "# #hide\n",
    "# fig, ax = plt.subplots(figsize=(15, 8))\n",
    "\n",
    "# def draw_barchart(current_day):\n",
    "#     dff = g[g['day'].eq(current_day)].sort_values(by='value', ascending=True).tail(10)\n",
    "#     ax.clear()\n",
    "#     ax.barh(dff['name'], dff['value'], color=[colors[group_lk[x]] for x in dff['name']])\n",
    "#     dx = dff['value'].max() / 200\n",
    "    \n",
    "#     for i, (value, name) in enumerate(zip(dff['value'], dff['name'])):\n",
    "#         ax.text(value-dx, i,     name,           size=14, weight=600, ha='right', va='bottom')\n",
    "#         ax.text(value-dx, i-.25, group_lk[name], size=10, color='#444444', ha='right', va='baseline')\n",
    "#         ax.text(value+dx, i,     f'{value:,.0f}',  size=14, ha='left',  va='center')\n",
    "#     ax.text(1, 0.4, current_day, transform=ax.transAxes, color='#777777', size=46, ha='right', weight=800)\n",
    "#     ax.text(0, 1.06, 'Population (thousands)', transform=ax.transAxes, size=12, color='#777777')\n",
    "#     ax.xaxis.set_major_formatter(ticker.StrMethodFormatter('{x:,.0f}'))\n",
    "#     ax.xaxis.set_ticks_position('top')\n",
    "#     ax.tick_params(axis='x', colors='#777777', labelsize=12)\n",
    "#     ax.set_yticks([])\n",
    "#     ax.margins(0, 0.01)\n",
    "#     ax.grid(which='major', axis='x', linestyle='-')\n",
    "#     ax.set_axisbelow(True)\n",
    "    \n",
    "#     ax.text(0, 1.15, 'Coronavirus',\n",
    "#             transform=ax.transAxes, size=24, weight=600, ha='left', va='top')\n",
    "# #     ax.text(1, 0, 'by @pratapvardhan; credit @jburnmurdoch', transform=ax.transAxes, color='#777777', ha='right',\n",
    "# #             bbox=dict(facecolor='white', alpha=0.8, edgecolor='white'))\n",
    "#     plt.box(False)"
   ]
  },
  {
   "cell_type": "code",
   "execution_count": 42,
   "id": "sexual-wages",
   "metadata": {
    "execution": {
     "iopub.execute_input": "2022-03-19T00:32:43.165355Z",
     "iopub.status.busy": "2022-03-19T00:32:43.164709Z",
     "iopub.status.idle": "2022-03-19T00:32:43.169727Z",
     "shell.execute_reply": "2022-03-19T00:32:43.168849Z"
    },
    "papermill": {
     "duration": 0.048163,
     "end_time": "2022-03-19T00:32:43.169874",
     "exception": false,
     "start_time": "2022-03-19T00:32:43.121711",
     "status": "completed"
    },
    "tags": []
   },
   "outputs": [],
   "source": [
    "# #hide_input\n",
    "# fig, ax = plt.subplots(figsize=(15, 8))\n",
    "# animator = animation.FuncAnimation(fig, draw_barchart, frames=range(g.day.values.min(), g.day.values.max()))\n",
    "# HTML(animator.to_jshtml())\n",
    "# # or use animator.to_html5_video() or animator.save() "
   ]
  },
  {
   "cell_type": "code",
   "execution_count": null,
   "id": "australian-container",
   "metadata": {
    "papermill": {
     "duration": 0.040689,
     "end_time": "2022-03-19T00:32:43.255572",
     "exception": false,
     "start_time": "2022-03-19T00:32:43.214883",
     "status": "completed"
    },
    "tags": []
   },
   "outputs": [],
   "source": []
  },
  {
   "cell_type": "code",
   "execution_count": null,
   "id": "mediterranean-pontiac",
   "metadata": {
    "papermill": {
     "duration": 0.034851,
     "end_time": "2022-03-19T00:32:43.325539",
     "exception": false,
     "start_time": "2022-03-19T00:32:43.290688",
     "status": "completed"
    },
    "tags": []
   },
   "outputs": [],
   "source": []
  },
  {
   "cell_type": "code",
   "execution_count": null,
   "id": "aging-legislature",
   "metadata": {
    "papermill": {
     "duration": 0.035131,
     "end_time": "2022-03-19T00:32:43.395875",
     "exception": false,
     "start_time": "2022-03-19T00:32:43.360744",
     "status": "completed"
    },
    "tags": []
   },
   "outputs": [],
   "source": []
  }
 ],
 "metadata": {
  "kernelspec": {
   "display_name": "Python 3",
   "language": "python",
   "name": "python3"
  },
  "language_info": {
   "codemirror_mode": {
    "name": "ipython",
    "version": 3
   },
   "file_extension": ".py",
   "mimetype": "text/x-python",
   "name": "python",
   "nbconvert_exporter": "python",
   "pygments_lexer": "ipython3",
   "version": "3.6.15"
  },
  "papermill": {
   "duration": 7.273107,
   "end_time": "2022-03-19T00:32:43.850592",
   "environment_variables": {},
   "exception": null,
   "input_path": "2020-03-21-covid19exp.ipynb",
   "output_path": "2020-03-21-covid19exp.ipynb",
   "parameters": {},
   "start_time": "2022-03-19T00:32:36.577485",
   "version": "2.0.0"
  }
 },
 "nbformat": 4,
 "nbformat_minor": 5
}