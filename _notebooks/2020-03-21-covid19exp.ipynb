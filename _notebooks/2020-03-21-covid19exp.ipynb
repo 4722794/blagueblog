{
 "cells": [
  {
   "cell_type": "markdown",
   "id": "muslim-click",
   "metadata": {
    "papermill": {
     "duration": 0.041131,
     "end_time": "2021-05-23T12:11:22.743776",
     "exception": false,
     "start_time": "2021-05-23T12:11:22.702645",
     "status": "completed"
    },
    "tags": []
   },
   "source": [
    "# COVID-19 Case Race\n",
    "> A race chart to see rising cases around the world\n",
    "\n",
    "- author: Hargun Oberoi\n",
    "- image: images/covid-overview.png\n",
    "- hide: false\n",
    "- badges: false"
   ]
  },
  {
   "cell_type": "code",
   "execution_count": 1,
   "id": "proof-material",
   "metadata": {
    "execution": {
     "iopub.execute_input": "2021-05-23T12:11:22.818751Z",
     "iopub.status.busy": "2021-05-23T12:11:22.818096Z",
     "iopub.status.idle": "2021-05-23T12:11:23.197260Z",
     "shell.execute_reply": "2021-05-23T12:11:23.196349Z"
    },
    "papermill": {
     "duration": 0.417767,
     "end_time": "2021-05-23T12:11:23.197433",
     "exception": false,
     "start_time": "2021-05-23T12:11:22.779666",
     "status": "completed"
    },
    "tags": []
   },
   "outputs": [],
   "source": [
    "#hide\n",
    "import numpy as np\n",
    "import pandas as pd\n",
    "from jinja2 import Template\n",
    "from IPython.display import HTML"
   ]
  },
  {
   "cell_type": "code",
   "execution_count": 2,
   "id": "developed-terminology",
   "metadata": {
    "execution": {
     "iopub.execute_input": "2021-05-23T12:11:23.279977Z",
     "iopub.status.busy": "2021-05-23T12:11:23.279314Z",
     "iopub.status.idle": "2021-05-23T12:11:23.281433Z",
     "shell.execute_reply": "2021-05-23T12:11:23.282005Z"
    },
    "papermill": {
     "duration": 0.045411,
     "end_time": "2021-05-23T12:11:23.282150",
     "exception": false,
     "start_time": "2021-05-23T12:11:23.236739",
     "status": "completed"
    },
    "tags": []
   },
   "outputs": [],
   "source": [
    "#hide\n",
    "\n",
    "# FETCH\n",
    "base_url = 'https://raw.githubusercontent.com/pratapvardhan/notebooks/master/covid19/'\n",
    "paths = {\n",
    "    'mapping': base_url + 'mapping_countries.csv',\n",
    "    'overview': base_url + 'overview.tpl'\n",
    "}"
   ]
  },
  {
   "cell_type": "code",
   "execution_count": 3,
   "id": "dynamic-saver",
   "metadata": {
    "execution": {
     "iopub.execute_input": "2021-05-23T12:11:23.366000Z",
     "iopub.status.busy": "2021-05-23T12:11:23.365408Z",
     "iopub.status.idle": "2021-05-23T12:11:23.368073Z",
     "shell.execute_reply": "2021-05-23T12:11:23.368510Z"
    },
    "papermill": {
     "duration": 0.049891,
     "end_time": "2021-05-23T12:11:23.368639",
     "exception": false,
     "start_time": "2021-05-23T12:11:23.318748",
     "status": "completed"
    },
    "tags": []
   },
   "outputs": [
    {
     "data": {
      "text/plain": [
       "'https://raw.githubusercontent.com/pratapvardhan/notebooks/master/covid19/mapping_countries.csv'"
      ]
     },
     "execution_count": 3,
     "metadata": {},
     "output_type": "execute_result"
    }
   ],
   "source": [
    "#hide\n",
    "paths['mapping']"
   ]
  },
  {
   "cell_type": "code",
   "execution_count": 4,
   "id": "urban-software",
   "metadata": {
    "execution": {
     "iopub.execute_input": "2021-05-23T12:11:23.448732Z",
     "iopub.status.busy": "2021-05-23T12:11:23.448079Z",
     "iopub.status.idle": "2021-05-23T12:11:23.450459Z",
     "shell.execute_reply": "2021-05-23T12:11:23.449940Z"
    },
    "papermill": {
     "duration": 0.046124,
     "end_time": "2021-05-23T12:11:23.450592",
     "exception": false,
     "start_time": "2021-05-23T12:11:23.404468",
     "status": "completed"
    },
    "tags": []
   },
   "outputs": [],
   "source": [
    "#hide\n",
    "def get_mappings(url):\n",
    "    df = pd.read_csv(url)\n",
    "    return {\n",
    "        'df': df,\n",
    "        'replace.country': dict(df.dropna(subset=['Name']).set_index('Country')['Name']),\n",
    "        'map.continent': dict(df.set_index('Name')['Continent'])\n",
    "    }"
   ]
  },
  {
   "cell_type": "code",
   "execution_count": 5,
   "id": "intimate-machinery",
   "metadata": {
    "execution": {
     "iopub.execute_input": "2021-05-23T12:11:23.529863Z",
     "iopub.status.busy": "2021-05-23T12:11:23.529107Z",
     "iopub.status.idle": "2021-05-23T12:11:23.569238Z",
     "shell.execute_reply": "2021-05-23T12:11:23.569818Z"
    },
    "papermill": {
     "duration": 0.083502,
     "end_time": "2021-05-23T12:11:23.569960",
     "exception": false,
     "start_time": "2021-05-23T12:11:23.486458",
     "status": "completed"
    },
    "tags": []
   },
   "outputs": [],
   "source": [
    "#hide\n",
    "mapping = get_mappings(paths['mapping'])"
   ]
  },
  {
   "cell_type": "code",
   "execution_count": 6,
   "id": "certified-tactics",
   "metadata": {
    "execution": {
     "iopub.execute_input": "2021-05-23T12:11:23.648228Z",
     "iopub.status.busy": "2021-05-23T12:11:23.647600Z",
     "iopub.status.idle": "2021-05-23T12:11:23.650004Z",
     "shell.execute_reply": "2021-05-23T12:11:23.649484Z"
    },
    "papermill": {
     "duration": 0.044941,
     "end_time": "2021-05-23T12:11:23.650130",
     "exception": false,
     "start_time": "2021-05-23T12:11:23.605189",
     "status": "completed"
    },
    "tags": []
   },
   "outputs": [],
   "source": [
    "#hide\n",
    "def get_template(path):\n",
    "    from urllib.parse import urlparse\n",
    "    if bool(urlparse(path).netloc):\n",
    "        from urllib.request import urlopen\n",
    "        return urlopen(path).read().decode('utf8')\n",
    "    return open(path).read()"
   ]
  },
  {
   "cell_type": "code",
   "execution_count": 7,
   "id": "realistic-blast",
   "metadata": {
    "execution": {
     "iopub.execute_input": "2021-05-23T12:11:23.731711Z",
     "iopub.status.busy": "2021-05-23T12:11:23.731050Z",
     "iopub.status.idle": "2021-05-23T12:11:23.732944Z",
     "shell.execute_reply": "2021-05-23T12:11:23.733580Z"
    },
    "papermill": {
     "duration": 0.045626,
     "end_time": "2021-05-23T12:11:23.733721",
     "exception": false,
     "start_time": "2021-05-23T12:11:23.688095",
     "status": "completed"
    },
    "tags": []
   },
   "outputs": [],
   "source": [
    "#hide\n",
    "def get_frame(name):\n",
    "    url = (\n",
    "        'https://raw.githubusercontent.com/CSSEGISandData/COVID-19/master/csse_covid_19_data/'\n",
    "        f'csse_covid_19_time_series/time_series_covid19_{name}_global.csv')\n",
    "    df = pd.read_csv(url)\n",
    "    # rename countries\n",
    "    df['Country/Region'] = df['Country/Region'].replace(mapping['replace.country'])\n",
    "    return df"
   ]
  },
  {
   "cell_type": "code",
   "execution_count": 8,
   "id": "affiliated-characterization",
   "metadata": {
    "execution": {
     "iopub.execute_input": "2021-05-23T12:11:23.814856Z",
     "iopub.status.busy": "2021-05-23T12:11:23.814200Z",
     "iopub.status.idle": "2021-05-23T12:11:23.816757Z",
     "shell.execute_reply": "2021-05-23T12:11:23.816226Z"
    },
    "papermill": {
     "duration": 0.045395,
     "end_time": "2021-05-23T12:11:23.816873",
     "exception": false,
     "start_time": "2021-05-23T12:11:23.771478",
     "status": "completed"
    },
    "tags": []
   },
   "outputs": [],
   "source": [
    "#hide\n",
    "def get_dates(df):\n",
    "    dt_cols = df.columns[~df.columns.isin(['Province/State', 'Country/Region', 'Lat', 'Long'])]\n",
    "    LAST_DATE_I = -1\n",
    "    # sometimes last column may be empty, then go backwards\n",
    "    for i in range(-1, -len(dt_cols), -1):\n",
    "        if not df[dt_cols[i]].fillna(0).eq(0).all():\n",
    "            LAST_DATE_I = i\n",
    "            break\n",
    "    return LAST_DATE_I, dt_cols"
   ]
  },
  {
   "cell_type": "code",
   "execution_count": 9,
   "id": "recent-optimization",
   "metadata": {
    "execution": {
     "iopub.execute_input": "2021-05-23T12:11:23.898327Z",
     "iopub.status.busy": "2021-05-23T12:11:23.897608Z",
     "iopub.status.idle": "2021-05-23T12:11:24.261382Z",
     "shell.execute_reply": "2021-05-23T12:11:24.260761Z"
    },
    "papermill": {
     "duration": 0.405092,
     "end_time": "2021-05-23T12:11:24.261522",
     "exception": false,
     "start_time": "2021-05-23T12:11:23.856430",
     "status": "completed"
    },
    "tags": []
   },
   "outputs": [],
   "source": [
    "#hide\n",
    "COL_REGION = 'Country/Region'\n",
    "# Confirmed, Recovered, Deaths\n",
    "df = get_frame('confirmed')\n",
    "# dft_: timeseries, dfc_: today country agg\n",
    "dft_cases = df\n",
    "dft_deaths = get_frame('deaths')\n",
    "dft_recovered = get_frame('recovered')\n",
    "LAST_DATE_I, dt_cols = get_dates(df)"
   ]
  },
  {
   "cell_type": "code",
   "execution_count": 10,
   "id": "absolute-copper",
   "metadata": {
    "execution": {
     "iopub.execute_input": "2021-05-23T12:11:24.341409Z",
     "iopub.status.busy": "2021-05-23T12:11:24.340731Z",
     "iopub.status.idle": "2021-05-23T12:11:24.343308Z",
     "shell.execute_reply": "2021-05-23T12:11:24.342830Z"
    },
    "papermill": {
     "duration": 0.044869,
     "end_time": "2021-05-23T12:11:24.343421",
     "exception": false,
     "start_time": "2021-05-23T12:11:24.298552",
     "status": "completed"
    },
    "tags": []
   },
   "outputs": [],
   "source": [
    "#hide\n",
    "LAST_DATE_I, dt_cols = get_dates(df)\n",
    "dt_today =dt_cols[LAST_DATE_I]\n",
    "# dt_5day = dt_cols[LAST_DATE_I - 5]\n",
    "dt_yday = dt_cols[LAST_DATE_I - 1]"
   ]
  },
  {
   "cell_type": "code",
   "execution_count": 11,
   "id": "restricted-sheriff",
   "metadata": {
    "execution": {
     "iopub.execute_input": "2021-05-23T12:11:24.421269Z",
     "iopub.status.busy": "2021-05-23T12:11:24.420603Z",
     "iopub.status.idle": "2021-05-23T12:11:24.427241Z",
     "shell.execute_reply": "2021-05-23T12:11:24.427826Z"
    },
    "papermill": {
     "duration": 0.049422,
     "end_time": "2021-05-23T12:11:24.427948",
     "exception": false,
     "start_time": "2021-05-23T12:11:24.378526",
     "status": "completed"
    },
    "tags": []
   },
   "outputs": [],
   "source": [
    "#hide\n",
    "dfc_cases = dft_cases.groupby(COL_REGION)[dt_today].sum()\n",
    "dfc_deaths = dft_deaths.groupby(COL_REGION)[dt_today].sum()\n",
    "# dfp_cases = dft_cases.groupby(COL_REGION)[dt_5day].sum()\n",
    "# dfp_deaths = dft_deaths.groupby(COL_REGION)[dt_5day].sum()\n",
    "dfp_cases = dft_cases.groupby(COL_REGION)[dt_yday].sum()\n",
    "dfp_deaths = dft_deaths.groupby(COL_REGION)[dt_yday].sum()"
   ]
  },
  {
   "cell_type": "code",
   "execution_count": 12,
   "id": "deluxe-hepatitis",
   "metadata": {
    "execution": {
     "iopub.execute_input": "2021-05-23T12:11:24.506426Z",
     "iopub.status.busy": "2021-05-23T12:11:24.505784Z",
     "iopub.status.idle": "2021-05-23T12:11:24.510428Z",
     "shell.execute_reply": "2021-05-23T12:11:24.510993Z"
    },
    "papermill": {
     "duration": 0.047163,
     "end_time": "2021-05-23T12:11:24.511134",
     "exception": false,
     "start_time": "2021-05-23T12:11:24.463971",
     "status": "completed"
    },
    "tags": []
   },
   "outputs": [],
   "source": [
    "#hide\n",
    "df_table = (pd.DataFrame(dict(Cases = dfc_cases, Deaths = dfc_deaths, PCases = dfp_cases, PDeaths = dfp_deaths))\n",
    "            .sort_values(by = ['Cases','Deaths'], ascending = [False, False])\n",
    "            .reset_index())"
   ]
  },
  {
   "cell_type": "code",
   "execution_count": 13,
   "id": "educational-chancellor",
   "metadata": {
    "execution": {
     "iopub.execute_input": "2021-05-23T12:11:24.603437Z",
     "iopub.status.busy": "2021-05-23T12:11:24.602852Z",
     "iopub.status.idle": "2021-05-23T12:11:24.611388Z",
     "shell.execute_reply": "2021-05-23T12:11:24.610896Z"
    },
    "papermill": {
     "duration": 0.062672,
     "end_time": "2021-05-23T12:11:24.611501",
     "exception": false,
     "start_time": "2021-05-23T12:11:24.548829",
     "status": "completed"
    },
    "tags": []
   },
   "outputs": [
    {
     "data": {
      "text/html": [
       "<div>\n",
       "<style scoped>\n",
       "    .dataframe tbody tr th:only-of-type {\n",
       "        vertical-align: middle;\n",
       "    }\n",
       "\n",
       "    .dataframe tbody tr th {\n",
       "        vertical-align: top;\n",
       "    }\n",
       "\n",
       "    .dataframe thead th {\n",
       "        text-align: right;\n",
       "    }\n",
       "</style>\n",
       "<table border=\"1\" class=\"dataframe\">\n",
       "  <thead>\n",
       "    <tr style=\"text-align: right;\">\n",
       "      <th></th>\n",
       "      <th>Country/Region</th>\n",
       "      <th>Cases</th>\n",
       "      <th>Deaths</th>\n",
       "      <th>PCases</th>\n",
       "      <th>PDeaths</th>\n",
       "      <th>Cases (+)</th>\n",
       "      <th>Deaths (+)</th>\n",
       "      <th>Fatality Rate</th>\n",
       "      <th>Continent</th>\n",
       "    </tr>\n",
       "  </thead>\n",
       "  <tbody>\n",
       "    <tr>\n",
       "      <th>0</th>\n",
       "      <td>US</td>\n",
       "      <td>33104884</td>\n",
       "      <td>589703</td>\n",
       "      <td>33085106</td>\n",
       "      <td>589223</td>\n",
       "      <td>19778</td>\n",
       "      <td>480</td>\n",
       "      <td>1.78</td>\n",
       "      <td>North America</td>\n",
       "    </tr>\n",
       "    <tr>\n",
       "      <th>1</th>\n",
       "      <td>India</td>\n",
       "      <td>26530132</td>\n",
       "      <td>299266</td>\n",
       "      <td>26289290</td>\n",
       "      <td>295525</td>\n",
       "      <td>240842</td>\n",
       "      <td>3741</td>\n",
       "      <td>1.13</td>\n",
       "      <td>Asia</td>\n",
       "    </tr>\n",
       "    <tr>\n",
       "      <th>2</th>\n",
       "      <td>Brazil</td>\n",
       "      <td>16047439</td>\n",
       "      <td>448208</td>\n",
       "      <td>15970949</td>\n",
       "      <td>446309</td>\n",
       "      <td>76490</td>\n",
       "      <td>1899</td>\n",
       "      <td>2.79</td>\n",
       "      <td>South America</td>\n",
       "    </tr>\n",
       "    <tr>\n",
       "      <th>3</th>\n",
       "      <td>France</td>\n",
       "      <td>5979597</td>\n",
       "      <td>108345</td>\n",
       "      <td>5979369</td>\n",
       "      <td>108343</td>\n",
       "      <td>228</td>\n",
       "      <td>2</td>\n",
       "      <td>1.81</td>\n",
       "      <td>Europe</td>\n",
       "    </tr>\n",
       "    <tr>\n",
       "      <th>4</th>\n",
       "      <td>Turkey</td>\n",
       "      <td>5178648</td>\n",
       "      <td>46071</td>\n",
       "      <td>5169951</td>\n",
       "      <td>45840</td>\n",
       "      <td>8697</td>\n",
       "      <td>231</td>\n",
       "      <td>0.89</td>\n",
       "      <td>Asia</td>\n",
       "    </tr>\n",
       "  </tbody>\n",
       "</table>\n",
       "</div>"
      ],
      "text/plain": [
       "  Country/Region     Cases  Deaths    PCases  PDeaths  Cases (+)  Deaths (+)  \\\n",
       "0             US  33104884  589703  33085106   589223      19778         480   \n",
       "1          India  26530132  299266  26289290   295525     240842        3741   \n",
       "2         Brazil  16047439  448208  15970949   446309      76490        1899   \n",
       "3         France   5979597  108345   5979369   108343        228           2   \n",
       "4         Turkey   5178648   46071   5169951    45840       8697         231   \n",
       "\n",
       "   Fatality Rate      Continent  \n",
       "0           1.78  North America  \n",
       "1           1.13           Asia  \n",
       "2           2.79  South America  \n",
       "3           1.81         Europe  \n",
       "4           0.89           Asia  "
      ]
     },
     "execution_count": 13,
     "metadata": {},
     "output_type": "execute_result"
    }
   ],
   "source": [
    "#hide\n",
    "for c in 'Cases, Deaths'.split(', '):\n",
    "    df_table[f'{c} (+)'] = (df_table[c] - df_table[f'P{c}']).clip(0)\n",
    "    #Clip ça veut dire, les chiffres negatif sont interdit\n",
    "df_table['Fatality Rate'] = (100* df_table['Deaths']/ df_table['Cases']).round(2)\n",
    "df_table['Continent'] = df_table['Country/Region'].map(mapping['map.continent'])\n",
    "df_table.head(5)"
   ]
  },
  {
   "cell_type": "code",
   "execution_count": 14,
   "id": "aboriginal-bulgaria",
   "metadata": {
    "execution": {
     "iopub.execute_input": "2021-05-23T12:11:24.692376Z",
     "iopub.status.busy": "2021-05-23T12:11:24.691687Z",
     "iopub.status.idle": "2021-05-23T12:11:24.694056Z",
     "shell.execute_reply": "2021-05-23T12:11:24.694631Z"
    },
    "papermill": {
     "duration": 0.046478,
     "end_time": "2021-05-23T12:11:24.694771",
     "exception": false,
     "start_time": "2021-05-23T12:11:24.648293",
     "status": "completed"
    },
    "tags": []
   },
   "outputs": [],
   "source": [
    "#hide\n",
    "#delete problematic countries from table\n",
    "df_table = df_table[~df_table['Country/Region'].isin(['Cape Verde', 'Cruise Ship', 'Kosovo'])]"
   ]
  },
  {
   "cell_type": "code",
   "execution_count": 15,
   "id": "fantastic-effect",
   "metadata": {
    "execution": {
     "iopub.execute_input": "2021-05-23T12:11:24.778142Z",
     "iopub.status.busy": "2021-05-23T12:11:24.777371Z",
     "iopub.status.idle": "2021-05-23T12:11:24.798565Z",
     "shell.execute_reply": "2021-05-23T12:11:24.798076Z"
    },
    "papermill": {
     "duration": 0.066209,
     "end_time": "2021-05-23T12:11:24.798679",
     "exception": false,
     "start_time": "2021-05-23T12:11:24.732470",
     "status": "completed"
    },
    "tags": []
   },
   "outputs": [
    {
     "data": {
      "text/html": [
       "<div>\n",
       "<style scoped>\n",
       "    .dataframe tbody tr th:only-of-type {\n",
       "        vertical-align: middle;\n",
       "    }\n",
       "\n",
       "    .dataframe tbody tr th {\n",
       "        vertical-align: top;\n",
       "    }\n",
       "\n",
       "    .dataframe thead th {\n",
       "        text-align: right;\n",
       "    }\n",
       "</style>\n",
       "<table border=\"1\" class=\"dataframe\">\n",
       "  <thead>\n",
       "    <tr style=\"text-align: right;\">\n",
       "      <th></th>\n",
       "      <th>Country/Region</th>\n",
       "      <th>Cases</th>\n",
       "      <th>Deaths</th>\n",
       "      <th>PCases</th>\n",
       "      <th>PDeaths</th>\n",
       "      <th>Cases (+)</th>\n",
       "      <th>Deaths (+)</th>\n",
       "      <th>Fatality Rate</th>\n",
       "      <th>Continent</th>\n",
       "    </tr>\n",
       "  </thead>\n",
       "  <tbody>\n",
       "    <tr>\n",
       "      <th>0</th>\n",
       "      <td>US</td>\n",
       "      <td>33104884</td>\n",
       "      <td>589703</td>\n",
       "      <td>33085106</td>\n",
       "      <td>589223</td>\n",
       "      <td>19778</td>\n",
       "      <td>480</td>\n",
       "      <td>1.8</td>\n",
       "      <td>North America</td>\n",
       "    </tr>\n",
       "    <tr>\n",
       "      <th>1</th>\n",
       "      <td>India</td>\n",
       "      <td>26530132</td>\n",
       "      <td>299266</td>\n",
       "      <td>26289290</td>\n",
       "      <td>295525</td>\n",
       "      <td>240842</td>\n",
       "      <td>3741</td>\n",
       "      <td>1.1</td>\n",
       "      <td>Asia</td>\n",
       "    </tr>\n",
       "    <tr>\n",
       "      <th>2</th>\n",
       "      <td>Brazil</td>\n",
       "      <td>16047439</td>\n",
       "      <td>448208</td>\n",
       "      <td>15970949</td>\n",
       "      <td>446309</td>\n",
       "      <td>76490</td>\n",
       "      <td>1899</td>\n",
       "      <td>2.8</td>\n",
       "      <td>South America</td>\n",
       "    </tr>\n",
       "    <tr>\n",
       "      <th>3</th>\n",
       "      <td>France</td>\n",
       "      <td>5979597</td>\n",
       "      <td>108345</td>\n",
       "      <td>5979369</td>\n",
       "      <td>108343</td>\n",
       "      <td>228</td>\n",
       "      <td>2</td>\n",
       "      <td>1.8</td>\n",
       "      <td>Europe</td>\n",
       "    </tr>\n",
       "    <tr>\n",
       "      <th>4</th>\n",
       "      <td>Turkey</td>\n",
       "      <td>5178648</td>\n",
       "      <td>46071</td>\n",
       "      <td>5169951</td>\n",
       "      <td>45840</td>\n",
       "      <td>8697</td>\n",
       "      <td>231</td>\n",
       "      <td>0.9</td>\n",
       "      <td>Asia</td>\n",
       "    </tr>\n",
       "  </tbody>\n",
       "</table>\n",
       "</div>"
      ],
      "text/plain": [
       "  Country/Region     Cases  Deaths    PCases  PDeaths  Cases (+)  Deaths (+)  \\\n",
       "0             US  33104884  589703  33085106   589223      19778         480   \n",
       "1          India  26530132  299266  26289290   295525     240842        3741   \n",
       "2         Brazil  16047439  448208  15970949   446309      76490        1899   \n",
       "3         France   5979597  108345   5979369   108343        228           2   \n",
       "4         Turkey   5178648   46071   5169951    45840       8697         231   \n",
       "\n",
       "   Fatality Rate      Continent  \n",
       "0            1.8  North America  \n",
       "1            1.1           Asia  \n",
       "2            2.8  South America  \n",
       "3            1.8         Europe  \n",
       "4            0.9           Asia  "
      ]
     },
     "execution_count": 15,
     "metadata": {},
     "output_type": "execute_result"
    }
   ],
   "source": [
    "#hide\n",
    "df_table = (pd.DataFrame(dict(Cases=dfc_cases, Deaths=dfc_deaths, PCases=dfp_cases, PDeaths=dfp_deaths))\n",
    "             .sort_values(by=['Cases', 'Deaths'], ascending=[False, False])\n",
    "             .reset_index())\n",
    "df_table.rename(columns={'index': 'Country/Region'}, inplace=True)\n",
    "for c in 'Cases, Deaths'.split(', '):\n",
    "    df_table[f'{c} (+)'] = (df_table[c] - df_table[f'P{c}']).clip(0)  # DATA BUG\n",
    "df_table['Fatality Rate'] = (100 * df_table['Deaths'] / df_table['Cases']).round(1)\n",
    "df_table['Continent'] = df_table['Country/Region'].map(mapping['map.continent'])\n",
    "df_table.head(5)"
   ]
  },
  {
   "cell_type": "code",
   "execution_count": 16,
   "id": "fewer-occasion",
   "metadata": {
    "execution": {
     "iopub.execute_input": "2021-05-23T12:11:24.882991Z",
     "iopub.status.busy": "2021-05-23T12:11:24.882386Z",
     "iopub.status.idle": "2021-05-23T12:11:24.884687Z",
     "shell.execute_reply": "2021-05-23T12:11:24.885181Z"
    },
    "papermill": {
     "duration": 0.046088,
     "end_time": "2021-05-23T12:11:24.885367",
     "exception": false,
     "start_time": "2021-05-23T12:11:24.839279",
     "status": "completed"
    },
    "tags": []
   },
   "outputs": [],
   "source": [
    "#hide\n",
    "#delete problematic countries from table\n",
    "df_table = df_table[~df_table['Country/Region'].isin(['Cape Verde', 'Cruise Ship', 'Kosovo'])]"
   ]
  },
  {
   "cell_type": "code",
   "execution_count": 17,
   "id": "related-center",
   "metadata": {
    "execution": {
     "iopub.execute_input": "2021-05-23T12:11:24.978847Z",
     "iopub.status.busy": "2021-05-23T12:11:24.978060Z",
     "iopub.status.idle": "2021-05-23T12:11:24.980938Z",
     "shell.execute_reply": "2021-05-23T12:11:24.980235Z"
    },
    "papermill": {
     "duration": 0.059594,
     "end_time": "2021-05-23T12:11:24.981067",
     "exception": false,
     "start_time": "2021-05-23T12:11:24.921473",
     "status": "completed"
    },
    "tags": []
   },
   "outputs": [],
   "source": [
    "#hide\n",
    "metrics = [df_table.columns[index] for index in [1,2,5,6]]\n",
    "# s_china = df_table[df_table['Country/Region'].eq('China')][metrics].sum().add_prefix('China ')\n",
    "s_us = df_table[df_table['Country/Region'].eq('US')][metrics].sum().add_prefix('US ')\n",
    "s_eu = df_table[df_table['Continent'].eq('Europe')][metrics].sum().add_prefix('EU ')\n",
    "s_ind = df_table[df_table['Country/Region'].eq('India')][metrics].sum().add_prefix('India ')\n",
    "summary = {'updated': pd.to_datetime(dt_today), 'since': pd.to_datetime(dt_yday)}\n",
    "summary = {'updated': pd.to_datetime(dt_today), 'since': pd.to_datetime(dt_yday)}\n",
    "summary = {**summary, **df_table[metrics].sum(), **s_ind, **s_us, **s_eu}"
   ]
  },
  {
   "cell_type": "code",
   "execution_count": 18,
   "id": "engaging-syndrome",
   "metadata": {
    "execution": {
     "iopub.execute_input": "2021-05-23T12:11:25.058212Z",
     "iopub.status.busy": "2021-05-23T12:11:25.057621Z",
     "iopub.status.idle": "2021-05-23T12:11:25.072092Z",
     "shell.execute_reply": "2021-05-23T12:11:25.071447Z"
    },
    "papermill": {
     "duration": 0.055012,
     "end_time": "2021-05-23T12:11:25.072221",
     "exception": false,
     "start_time": "2021-05-23T12:11:25.017209",
     "status": "completed"
    },
    "tags": []
   },
   "outputs": [],
   "source": [
    "#hide\n",
    "dft_ct_new_cases = dft_cases.groupby(COL_REGION)[dt_cols].sum().diff(axis=1).fillna(0).astype(int)"
   ]
  },
  {
   "cell_type": "code",
   "execution_count": 19,
   "id": "neutral-assignment",
   "metadata": {
    "execution": {
     "iopub.execute_input": "2021-05-23T12:11:25.158036Z",
     "iopub.status.busy": "2021-05-23T12:11:25.157396Z",
     "iopub.status.idle": "2021-05-23T12:11:25.159176Z",
     "shell.execute_reply": "2021-05-23T12:11:25.159729Z"
    },
    "papermill": {
     "duration": 0.050715,
     "end_time": "2021-05-23T12:11:25.159892",
     "exception": false,
     "start_time": "2021-05-23T12:11:25.109177",
     "status": "completed"
    },
    "tags": []
   },
   "outputs": [],
   "source": [
    "#hide\n",
    "everydaycases = dft_ct_new_cases.cumsum(axis=1)"
   ]
  },
  {
   "cell_type": "code",
   "execution_count": 20,
   "id": "parliamentary-calgary",
   "metadata": {
    "execution": {
     "iopub.execute_input": "2021-05-23T12:11:25.243504Z",
     "iopub.status.busy": "2021-05-23T12:11:25.242815Z",
     "iopub.status.idle": "2021-05-23T12:11:25.829288Z",
     "shell.execute_reply": "2021-05-23T12:11:25.829750Z"
    },
    "papermill": {
     "duration": 0.630937,
     "end_time": "2021-05-23T12:11:25.829901",
     "exception": false,
     "start_time": "2021-05-23T12:11:25.198964",
     "status": "completed"
    },
    "tags": []
   },
   "outputs": [],
   "source": [
    "#hide\n",
    "import pandas as pd\n",
    "import matplotlib.pyplot as plt\n",
    "import matplotlib.ticker as ticker\n",
    "import matplotlib.animation as animation\n",
    "from IPython.display import HTML"
   ]
  },
  {
   "cell_type": "code",
   "execution_count": 21,
   "id": "lasting-extraction",
   "metadata": {
    "execution": {
     "iopub.execute_input": "2021-05-23T12:11:25.910922Z",
     "iopub.status.busy": "2021-05-23T12:11:25.910314Z",
     "iopub.status.idle": "2021-05-23T12:11:25.916148Z",
     "shell.execute_reply": "2021-05-23T12:11:25.915601Z"
    },
    "papermill": {
     "duration": 0.049726,
     "end_time": "2021-05-23T12:11:25.916278",
     "exception": false,
     "start_time": "2021-05-23T12:11:25.866552",
     "status": "completed"
    },
    "tags": []
   },
   "outputs": [],
   "source": [
    "#hide\n",
    "t = everydaycases.stack()"
   ]
  },
  {
   "cell_type": "code",
   "execution_count": 22,
   "id": "premier-sleeve",
   "metadata": {
    "execution": {
     "iopub.execute_input": "2021-05-23T12:11:25.992778Z",
     "iopub.status.busy": "2021-05-23T12:11:25.992208Z",
     "iopub.status.idle": "2021-05-23T12:11:26.000068Z",
     "shell.execute_reply": "2021-05-23T12:11:25.999446Z"
    },
    "papermill": {
     "duration": 0.046509,
     "end_time": "2021-05-23T12:11:26.000225",
     "exception": false,
     "start_time": "2021-05-23T12:11:25.953716",
     "status": "completed"
    },
    "tags": []
   },
   "outputs": [],
   "source": [
    "#hide\n",
    "g = t.reset_index(['Country/Region'])"
   ]
  },
  {
   "cell_type": "code",
   "execution_count": 23,
   "id": "distributed-pittsburgh",
   "metadata": {
    "execution": {
     "iopub.execute_input": "2021-05-23T12:11:26.083436Z",
     "iopub.status.busy": "2021-05-23T12:11:26.082107Z",
     "iopub.status.idle": "2021-05-23T12:11:26.084085Z",
     "shell.execute_reply": "2021-05-23T12:11:26.084693Z"
    },
    "papermill": {
     "duration": 0.048681,
     "end_time": "2021-05-23T12:11:26.084860",
     "exception": false,
     "start_time": "2021-05-23T12:11:26.036179",
     "status": "completed"
    },
    "tags": []
   },
   "outputs": [],
   "source": [
    "#hide\n",
    "g.index.name = 'date'"
   ]
  },
  {
   "cell_type": "code",
   "execution_count": 24,
   "id": "naked-donor",
   "metadata": {
    "execution": {
     "iopub.execute_input": "2021-05-23T12:11:26.167671Z",
     "iopub.status.busy": "2021-05-23T12:11:26.167037Z",
     "iopub.status.idle": "2021-05-23T12:11:26.168964Z",
     "shell.execute_reply": "2021-05-23T12:11:26.169541Z"
    },
    "papermill": {
     "duration": 0.043352,
     "end_time": "2021-05-23T12:11:26.169683",
     "exception": false,
     "start_time": "2021-05-23T12:11:26.126331",
     "status": "completed"
    },
    "tags": []
   },
   "outputs": [],
   "source": [
    "# #hide\n",
    "# g = g.reset_index(['date'])"
   ]
  },
  {
   "cell_type": "code",
   "execution_count": 25,
   "id": "incomplete-mustang",
   "metadata": {
    "execution": {
     "iopub.execute_input": "2021-05-23T12:11:26.244407Z",
     "iopub.status.busy": "2021-05-23T12:11:26.243850Z",
     "iopub.status.idle": "2021-05-23T12:11:26.246273Z",
     "shell.execute_reply": "2021-05-23T12:11:26.245791Z"
    },
    "papermill": {
     "duration": 0.041318,
     "end_time": "2021-05-23T12:11:26.246380",
     "exception": false,
     "start_time": "2021-05-23T12:11:26.205062",
     "status": "completed"
    },
    "tags": []
   },
   "outputs": [],
   "source": [
    "#hide\n",
    "# g.head()"
   ]
  },
  {
   "cell_type": "code",
   "execution_count": 26,
   "id": "specific-kruger",
   "metadata": {
    "execution": {
     "iopub.execute_input": "2021-05-23T12:11:26.324102Z",
     "iopub.status.busy": "2021-05-23T12:11:26.323502Z",
     "iopub.status.idle": "2021-05-23T12:11:26.325678Z",
     "shell.execute_reply": "2021-05-23T12:11:26.325170Z"
    },
    "papermill": {
     "duration": 0.040578,
     "end_time": "2021-05-23T12:11:26.325793",
     "exception": false,
     "start_time": "2021-05-23T12:11:26.285215",
     "status": "completed"
    },
    "tags": []
   },
   "outputs": [],
   "source": [
    "#hide\n",
    "# g.columns = ['date','country','cases']"
   ]
  },
  {
   "cell_type": "code",
   "execution_count": 27,
   "id": "tender-conversion",
   "metadata": {
    "execution": {
     "iopub.execute_input": "2021-05-23T12:11:26.409430Z",
     "iopub.status.busy": "2021-05-23T12:11:26.408819Z",
     "iopub.status.idle": "2021-05-23T12:11:26.410678Z",
     "shell.execute_reply": "2021-05-23T12:11:26.411232Z"
    },
    "papermill": {
     "duration": 0.042499,
     "end_time": "2021-05-23T12:11:26.411375",
     "exception": false,
     "start_time": "2021-05-23T12:11:26.368876",
     "status": "completed"
    },
    "tags": []
   },
   "outputs": [],
   "source": [
    "#hide\n",
    "# g['continent'] = g.country"
   ]
  },
  {
   "cell_type": "code",
   "execution_count": 28,
   "id": "substantial-wilderness",
   "metadata": {
    "execution": {
     "iopub.execute_input": "2021-05-23T12:11:26.492820Z",
     "iopub.status.busy": "2021-05-23T12:11:26.492244Z",
     "iopub.status.idle": "2021-05-23T12:11:26.494161Z",
     "shell.execute_reply": "2021-05-23T12:11:26.494852Z"
    },
    "papermill": {
     "duration": 0.043708,
     "end_time": "2021-05-23T12:11:26.494998",
     "exception": false,
     "start_time": "2021-05-23T12:11:26.451290",
     "status": "completed"
    },
    "tags": []
   },
   "outputs": [],
   "source": [
    "#hide\n",
    "# cols = list(g.columns.values)"
   ]
  },
  {
   "cell_type": "code",
   "execution_count": 29,
   "id": "solved-farming",
   "metadata": {
    "execution": {
     "iopub.execute_input": "2021-05-23T12:11:26.576454Z",
     "iopub.status.busy": "2021-05-23T12:11:26.575807Z",
     "iopub.status.idle": "2021-05-23T12:11:26.578058Z",
     "shell.execute_reply": "2021-05-23T12:11:26.577407Z"
    },
    "papermill": {
     "duration": 0.046615,
     "end_time": "2021-05-23T12:11:26.578182",
     "exception": false,
     "start_time": "2021-05-23T12:11:26.531567",
     "status": "completed"
    },
    "tags": []
   },
   "outputs": [],
   "source": [
    "#hide\n",
    "# cols.insert(0, cols.pop())"
   ]
  },
  {
   "cell_type": "code",
   "execution_count": 30,
   "id": "executed-adoption",
   "metadata": {
    "execution": {
     "iopub.execute_input": "2021-05-23T12:11:26.652233Z",
     "iopub.status.busy": "2021-05-23T12:11:26.651619Z",
     "iopub.status.idle": "2021-05-23T12:11:26.653691Z",
     "shell.execute_reply": "2021-05-23T12:11:26.654188Z"
    },
    "papermill": {
     "duration": 0.040706,
     "end_time": "2021-05-23T12:11:26.654308",
     "exception": false,
     "start_time": "2021-05-23T12:11:26.613602",
     "status": "completed"
    },
    "tags": []
   },
   "outputs": [],
   "source": [
    "#hide\n",
    "# g = g[cols]"
   ]
  },
  {
   "cell_type": "code",
   "execution_count": 31,
   "id": "subject-dublin",
   "metadata": {
    "execution": {
     "iopub.execute_input": "2021-05-23T12:11:26.729765Z",
     "iopub.status.busy": "2021-05-23T12:11:26.729106Z",
     "iopub.status.idle": "2021-05-23T12:11:26.731469Z",
     "shell.execute_reply": "2021-05-23T12:11:26.730915Z"
    },
    "papermill": {
     "duration": 0.04197,
     "end_time": "2021-05-23T12:11:26.731580",
     "exception": false,
     "start_time": "2021-05-23T12:11:26.689610",
     "status": "completed"
    },
    "tags": []
   },
   "outputs": [],
   "source": [
    "#hide\n",
    "# g['continent'] = g['continent'].map(mapping['map.continent'])"
   ]
  },
  {
   "cell_type": "code",
   "execution_count": 32,
   "id": "freelance-scout",
   "metadata": {
    "execution": {
     "iopub.execute_input": "2021-05-23T12:11:26.811268Z",
     "iopub.status.busy": "2021-05-23T12:11:26.810657Z",
     "iopub.status.idle": "2021-05-23T12:11:26.813119Z",
     "shell.execute_reply": "2021-05-23T12:11:26.812644Z"
    },
    "papermill": {
     "duration": 0.042642,
     "end_time": "2021-05-23T12:11:26.813231",
     "exception": false,
     "start_time": "2021-05-23T12:11:26.770589",
     "status": "completed"
    },
    "tags": []
   },
   "outputs": [],
   "source": [
    "#hide\n",
    "# g.head()"
   ]
  },
  {
   "cell_type": "code",
   "execution_count": 33,
   "id": "limited-engine",
   "metadata": {
    "execution": {
     "iopub.execute_input": "2021-05-23T12:11:26.894334Z",
     "iopub.status.busy": "2021-05-23T12:11:26.893741Z",
     "iopub.status.idle": "2021-05-23T12:11:26.896118Z",
     "shell.execute_reply": "2021-05-23T12:11:26.895646Z"
    },
    "papermill": {
     "duration": 0.044589,
     "end_time": "2021-05-23T12:11:26.896230",
     "exception": false,
     "start_time": "2021-05-23T12:11:26.851641",
     "status": "completed"
    },
    "tags": []
   },
   "outputs": [],
   "source": [
    "# hide\n",
    "# g['date'] = g['date'].astype('datetime64[ns]')"
   ]
  },
  {
   "cell_type": "code",
   "execution_count": 34,
   "id": "sophisticated-supervisor",
   "metadata": {
    "execution": {
     "iopub.execute_input": "2021-05-23T12:11:26.974837Z",
     "iopub.status.busy": "2021-05-23T12:11:26.974181Z",
     "iopub.status.idle": "2021-05-23T12:11:26.976712Z",
     "shell.execute_reply": "2021-05-23T12:11:26.976088Z"
    },
    "papermill": {
     "duration": 0.045154,
     "end_time": "2021-05-23T12:11:26.976830",
     "exception": false,
     "start_time": "2021-05-23T12:11:26.931676",
     "status": "completed"
    },
    "tags": []
   },
   "outputs": [],
   "source": [
    "#hide\n",
    "# g['date'] = g.date.dt.dayofyear"
   ]
  },
  {
   "cell_type": "code",
   "execution_count": 35,
   "id": "inside-dubai",
   "metadata": {
    "execution": {
     "iopub.execute_input": "2021-05-23T12:11:27.053542Z",
     "iopub.status.busy": "2021-05-23T12:11:27.052875Z",
     "iopub.status.idle": "2021-05-23T12:11:27.055445Z",
     "shell.execute_reply": "2021-05-23T12:11:27.054888Z"
    },
    "papermill": {
     "duration": 0.042253,
     "end_time": "2021-05-23T12:11:27.055551",
     "exception": false,
     "start_time": "2021-05-23T12:11:27.013298",
     "status": "completed"
    },
    "tags": []
   },
   "outputs": [],
   "source": [
    "#hide\n",
    "# g = g.rename(columns= {'continent':'group','country':'name','cases':'value'})"
   ]
  },
  {
   "cell_type": "code",
   "execution_count": 36,
   "id": "fleet-motorcycle",
   "metadata": {
    "execution": {
     "iopub.execute_input": "2021-05-23T12:11:27.143170Z",
     "iopub.status.busy": "2021-05-23T12:11:27.142528Z",
     "iopub.status.idle": "2021-05-23T12:11:27.145239Z",
     "shell.execute_reply": "2021-05-23T12:11:27.144722Z"
    },
    "papermill": {
     "duration": 0.042459,
     "end_time": "2021-05-23T12:11:27.145388",
     "exception": false,
     "start_time": "2021-05-23T12:11:27.102929",
     "status": "completed"
    },
    "tags": []
   },
   "outputs": [],
   "source": [
    "#hide\n",
    "# cols = ['name','group','day','value']"
   ]
  },
  {
   "cell_type": "code",
   "execution_count": 37,
   "id": "continued-sleeping",
   "metadata": {
    "execution": {
     "iopub.execute_input": "2021-05-23T12:11:27.224237Z",
     "iopub.status.busy": "2021-05-23T12:11:27.223520Z",
     "iopub.status.idle": "2021-05-23T12:11:27.225999Z",
     "shell.execute_reply": "2021-05-23T12:11:27.225526Z"
    },
    "papermill": {
     "duration": 0.041995,
     "end_time": "2021-05-23T12:11:27.226108",
     "exception": false,
     "start_time": "2021-05-23T12:11:27.184113",
     "status": "completed"
    },
    "tags": []
   },
   "outputs": [],
   "source": [
    "#hide\n",
    "# g.rename(columns= {'date':'day'},inplace = True)"
   ]
  },
  {
   "cell_type": "code",
   "execution_count": 38,
   "id": "major-fight",
   "metadata": {
    "execution": {
     "iopub.execute_input": "2021-05-23T12:11:27.302714Z",
     "iopub.status.busy": "2021-05-23T12:11:27.302005Z",
     "iopub.status.idle": "2021-05-23T12:11:27.304683Z",
     "shell.execute_reply": "2021-05-23T12:11:27.304154Z"
    },
    "papermill": {
     "duration": 0.043735,
     "end_time": "2021-05-23T12:11:27.304802",
     "exception": false,
     "start_time": "2021-05-23T12:11:27.261067",
     "status": "completed"
    },
    "tags": []
   },
   "outputs": [],
   "source": [
    "#hide\n",
    "# g = g[cols]"
   ]
  },
  {
   "cell_type": "code",
   "execution_count": 39,
   "id": "structured-mobile",
   "metadata": {
    "execution": {
     "iopub.execute_input": "2021-05-23T12:11:27.387537Z",
     "iopub.status.busy": "2021-05-23T12:11:27.386974Z",
     "iopub.status.idle": "2021-05-23T12:11:27.388813Z",
     "shell.execute_reply": "2021-05-23T12:11:27.389325Z"
    },
    "papermill": {
     "duration": 0.042479,
     "end_time": "2021-05-23T12:11:27.389452",
     "exception": false,
     "start_time": "2021-05-23T12:11:27.346973",
     "status": "completed"
    },
    "tags": []
   },
   "outputs": [],
   "source": [
    "# #hide\n",
    "# g = g[g.group.notna()]"
   ]
  },
  {
   "cell_type": "code",
   "execution_count": 40,
   "id": "determined-closing",
   "metadata": {
    "execution": {
     "iopub.execute_input": "2021-05-23T12:11:27.464258Z",
     "iopub.status.busy": "2021-05-23T12:11:27.463635Z",
     "iopub.status.idle": "2021-05-23T12:11:27.467860Z",
     "shell.execute_reply": "2021-05-23T12:11:27.468395Z"
    },
    "papermill": {
     "duration": 0.044595,
     "end_time": "2021-05-23T12:11:27.468534",
     "exception": false,
     "start_time": "2021-05-23T12:11:27.423939",
     "status": "completed"
    },
    "tags": []
   },
   "outputs": [],
   "source": [
    "# #hide\n",
    "# colors = dict(zip(\n",
    "#     [\"Oceania\", \"Europe\", \"Asia\", \"South America\", \"Middle East\", \"North America\", \"Africa\"],\n",
    "#     [\"#adb0ff\", \"#ffb3ff\", \"#90d595\", \"#e48381\", \"#aafbff\", \"#f7bb5f\", \"#eafb50\"]\n",
    "# ))\n",
    "# group_lk = g.set_index('name')['group'].to_dict()"
   ]
  },
  {
   "cell_type": "code",
   "execution_count": null,
   "id": "gross-drinking",
   "metadata": {
    "papermill": {
     "duration": 0.036551,
     "end_time": "2021-05-23T12:11:27.541532",
     "exception": false,
     "start_time": "2021-05-23T12:11:27.504981",
     "status": "completed"
    },
    "tags": []
   },
   "outputs": [],
   "source": []
  },
  {
   "cell_type": "code",
   "execution_count": 41,
   "id": "subject-macintosh",
   "metadata": {
    "execution": {
     "iopub.execute_input": "2021-05-23T12:11:27.620616Z",
     "iopub.status.busy": "2021-05-23T12:11:27.619938Z",
     "iopub.status.idle": "2021-05-23T12:11:27.621941Z",
     "shell.execute_reply": "2021-05-23T12:11:27.622404Z"
    },
    "papermill": {
     "duration": 0.043534,
     "end_time": "2021-05-23T12:11:27.622531",
     "exception": false,
     "start_time": "2021-05-23T12:11:27.578997",
     "status": "completed"
    },
    "tags": []
   },
   "outputs": [],
   "source": [
    "# #hide\n",
    "# fig, ax = plt.subplots(figsize=(15, 8))\n",
    "\n",
    "# def draw_barchart(current_day):\n",
    "#     dff = g[g['day'].eq(current_day)].sort_values(by='value', ascending=True).tail(10)\n",
    "#     ax.clear()\n",
    "#     ax.barh(dff['name'], dff['value'], color=[colors[group_lk[x]] for x in dff['name']])\n",
    "#     dx = dff['value'].max() / 200\n",
    "    \n",
    "#     for i, (value, name) in enumerate(zip(dff['value'], dff['name'])):\n",
    "#         ax.text(value-dx, i,     name,           size=14, weight=600, ha='right', va='bottom')\n",
    "#         ax.text(value-dx, i-.25, group_lk[name], size=10, color='#444444', ha='right', va='baseline')\n",
    "#         ax.text(value+dx, i,     f'{value:,.0f}',  size=14, ha='left',  va='center')\n",
    "#     ax.text(1, 0.4, current_day, transform=ax.transAxes, color='#777777', size=46, ha='right', weight=800)\n",
    "#     ax.text(0, 1.06, 'Population (thousands)', transform=ax.transAxes, size=12, color='#777777')\n",
    "#     ax.xaxis.set_major_formatter(ticker.StrMethodFormatter('{x:,.0f}'))\n",
    "#     ax.xaxis.set_ticks_position('top')\n",
    "#     ax.tick_params(axis='x', colors='#777777', labelsize=12)\n",
    "#     ax.set_yticks([])\n",
    "#     ax.margins(0, 0.01)\n",
    "#     ax.grid(which='major', axis='x', linestyle='-')\n",
    "#     ax.set_axisbelow(True)\n",
    "    \n",
    "#     ax.text(0, 1.15, 'Coronavirus',\n",
    "#             transform=ax.transAxes, size=24, weight=600, ha='left', va='top')\n",
    "# #     ax.text(1, 0, 'by @pratapvardhan; credit @jburnmurdoch', transform=ax.transAxes, color='#777777', ha='right',\n",
    "# #             bbox=dict(facecolor='white', alpha=0.8, edgecolor='white'))\n",
    "#     plt.box(False)"
   ]
  },
  {
   "cell_type": "code",
   "execution_count": 42,
   "id": "sexual-wages",
   "metadata": {
    "execution": {
     "iopub.execute_input": "2021-05-23T12:11:27.699972Z",
     "iopub.status.busy": "2021-05-23T12:11:27.699411Z",
     "iopub.status.idle": "2021-05-23T12:11:27.701926Z",
     "shell.execute_reply": "2021-05-23T12:11:27.701423Z"
    },
    "papermill": {
     "duration": 0.043881,
     "end_time": "2021-05-23T12:11:27.702038",
     "exception": false,
     "start_time": "2021-05-23T12:11:27.658157",
     "status": "completed"
    },
    "tags": []
   },
   "outputs": [],
   "source": [
    "# #hide_input\n",
    "# fig, ax = plt.subplots(figsize=(15, 8))\n",
    "# animator = animation.FuncAnimation(fig, draw_barchart, frames=range(g.day.values.min(), g.day.values.max()))\n",
    "# HTML(animator.to_jshtml())\n",
    "# # or use animator.to_html5_video() or animator.save() "
   ]
  },
  {
   "cell_type": "code",
   "execution_count": null,
   "id": "australian-container",
   "metadata": {
    "papermill": {
     "duration": 0.0397,
     "end_time": "2021-05-23T12:11:27.777985",
     "exception": false,
     "start_time": "2021-05-23T12:11:27.738285",
     "status": "completed"
    },
    "tags": []
   },
   "outputs": [],
   "source": []
  },
  {
   "cell_type": "code",
   "execution_count": null,
   "id": "mediterranean-pontiac",
   "metadata": {
    "papermill": {
     "duration": 0.035943,
     "end_time": "2021-05-23T12:11:27.849980",
     "exception": false,
     "start_time": "2021-05-23T12:11:27.814037",
     "status": "completed"
    },
    "tags": []
   },
   "outputs": [],
   "source": []
  },
  {
   "cell_type": "code",
   "execution_count": null,
   "id": "aging-legislature",
   "metadata": {
    "papermill": {
     "duration": 0.034645,
     "end_time": "2021-05-23T12:11:27.923161",
     "exception": false,
     "start_time": "2021-05-23T12:11:27.888516",
     "status": "completed"
    },
    "tags": []
   },
   "outputs": [],
   "source": []
  }
 ],
 "metadata": {
  "kernelspec": {
   "display_name": "Python 3",
   "language": "python",
   "name": "python3"
  },
  "language_info": {
   "codemirror_mode": {
    "name": "ipython",
    "version": 3
   },
   "file_extension": ".py",
   "mimetype": "text/x-python",
   "name": "python",
   "nbconvert_exporter": "python",
   "pygments_lexer": "ipython3",
   "version": "3.6.13"
  },
  "papermill": {
   "duration": 6.656571,
   "end_time": "2021-05-23T12:11:28.266065",
   "environment_variables": {},
   "exception": null,
   "input_path": "2020-03-21-covid19exp.ipynb",
   "output_path": "2020-03-21-covid19exp.ipynb",
   "parameters": {},
   "start_time": "2021-05-23T12:11:21.609494",
   "version": "2.0.0"
  }
 },
 "nbformat": 4,
 "nbformat_minor": 5
}