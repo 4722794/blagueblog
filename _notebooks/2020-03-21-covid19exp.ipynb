{
 "cells": [
  {
   "cell_type": "markdown",
   "id": "muslim-click",
   "metadata": {
    "papermill": {
     "duration": 0.035661,
     "end_time": "2022-08-23T12:18:25.777272",
     "exception": false,
     "start_time": "2022-08-23T12:18:25.741611",
     "status": "completed"
    },
    "tags": []
   },
   "source": [
    "# COVID-19 Case Race\n",
    "> A race chart to see rising cases around the world\n",
    "\n",
    "- author: Hargun Oberoi\n",
    "- image: images/covid-overview.png\n",
    "- hide: false\n",
    "- badges: false"
   ]
  },
  {
   "cell_type": "code",
   "execution_count": 1,
   "id": "proof-material",
   "metadata": {
    "execution": {
     "iopub.execute_input": "2022-08-23T12:18:25.847067Z",
     "iopub.status.busy": "2022-08-23T12:18:25.846426Z",
     "iopub.status.idle": "2022-08-23T12:18:26.165671Z",
     "shell.execute_reply": "2022-08-23T12:18:26.164636Z"
    },
    "papermill": {
     "duration": 0.3585,
     "end_time": "2022-08-23T12:18:26.165822",
     "exception": false,
     "start_time": "2022-08-23T12:18:25.807322",
     "status": "completed"
    },
    "tags": []
   },
   "outputs": [],
   "source": [
    "#hide\n",
    "import numpy as np\n",
    "import pandas as pd\n",
    "from jinja2 import Template\n",
    "from IPython.display import HTML"
   ]
  },
  {
   "cell_type": "code",
   "execution_count": 2,
   "id": "developed-terminology",
   "metadata": {
    "execution": {
     "iopub.execute_input": "2022-08-23T12:18:26.229621Z",
     "iopub.status.busy": "2022-08-23T12:18:26.228977Z",
     "iopub.status.idle": "2022-08-23T12:18:26.231370Z",
     "shell.execute_reply": "2022-08-23T12:18:26.230862Z"
    },
    "papermill": {
     "duration": 0.036009,
     "end_time": "2022-08-23T12:18:26.231483",
     "exception": false,
     "start_time": "2022-08-23T12:18:26.195474",
     "status": "completed"
    },
    "tags": []
   },
   "outputs": [],
   "source": [
    "#hide\n",
    "\n",
    "# FETCH\n",
    "base_url = 'https://raw.githubusercontent.com/pratapvardhan/notebooks/master/covid19/'\n",
    "paths = {\n",
    "    'mapping': base_url + 'mapping_countries.csv',\n",
    "    'overview': base_url + 'overview.tpl'\n",
    "}"
   ]
  },
  {
   "cell_type": "code",
   "execution_count": 3,
   "id": "dynamic-saver",
   "metadata": {
    "execution": {
     "iopub.execute_input": "2022-08-23T12:18:26.300360Z",
     "iopub.status.busy": "2022-08-23T12:18:26.299784Z",
     "iopub.status.idle": "2022-08-23T12:18:26.302651Z",
     "shell.execute_reply": "2022-08-23T12:18:26.303080Z"
    },
    "papermill": {
     "duration": 0.042134,
     "end_time": "2022-08-23T12:18:26.303201",
     "exception": false,
     "start_time": "2022-08-23T12:18:26.261067",
     "status": "completed"
    },
    "tags": []
   },
   "outputs": [
    {
     "data": {
      "text/plain": [
       "'https://raw.githubusercontent.com/pratapvardhan/notebooks/master/covid19/mapping_countries.csv'"
      ]
     },
     "execution_count": 3,
     "metadata": {},
     "output_type": "execute_result"
    }
   ],
   "source": [
    "#hide\n",
    "paths['mapping']"
   ]
  },
  {
   "cell_type": "code",
   "execution_count": 4,
   "id": "urban-software",
   "metadata": {
    "execution": {
     "iopub.execute_input": "2022-08-23T12:18:26.367836Z",
     "iopub.status.busy": "2022-08-23T12:18:26.367261Z",
     "iopub.status.idle": "2022-08-23T12:18:26.369789Z",
     "shell.execute_reply": "2022-08-23T12:18:26.369325Z"
    },
    "papermill": {
     "duration": 0.037056,
     "end_time": "2022-08-23T12:18:26.369890",
     "exception": false,
     "start_time": "2022-08-23T12:18:26.332834",
     "status": "completed"
    },
    "tags": []
   },
   "outputs": [],
   "source": [
    "#hide\n",
    "def get_mappings(url):\n",
    "    df = pd.read_csv(url)\n",
    "    return {\n",
    "        'df': df,\n",
    "        'replace.country': dict(df.dropna(subset=['Name']).set_index('Country')['Name']),\n",
    "        'map.continent': dict(df.set_index('Name')['Continent'])\n",
    "    }"
   ]
  },
  {
   "cell_type": "code",
   "execution_count": 5,
   "id": "intimate-machinery",
   "metadata": {
    "execution": {
     "iopub.execute_input": "2022-08-23T12:18:26.434016Z",
     "iopub.status.busy": "2022-08-23T12:18:26.433432Z",
     "iopub.status.idle": "2022-08-23T12:18:26.461584Z",
     "shell.execute_reply": "2022-08-23T12:18:26.461046Z"
    },
    "papermill": {
     "duration": 0.06227,
     "end_time": "2022-08-23T12:18:26.461704",
     "exception": false,
     "start_time": "2022-08-23T12:18:26.399434",
     "status": "completed"
    },
    "tags": []
   },
   "outputs": [],
   "source": [
    "#hide\n",
    "mapping = get_mappings(paths['mapping'])"
   ]
  },
  {
   "cell_type": "code",
   "execution_count": 6,
   "id": "certified-tactics",
   "metadata": {
    "execution": {
     "iopub.execute_input": "2022-08-23T12:18:26.526697Z",
     "iopub.status.busy": "2022-08-23T12:18:26.526044Z",
     "iopub.status.idle": "2022-08-23T12:18:26.528677Z",
     "shell.execute_reply": "2022-08-23T12:18:26.528207Z"
    },
    "papermill": {
     "duration": 0.037309,
     "end_time": "2022-08-23T12:18:26.528785",
     "exception": false,
     "start_time": "2022-08-23T12:18:26.491476",
     "status": "completed"
    },
    "tags": []
   },
   "outputs": [],
   "source": [
    "#hide\n",
    "def get_template(path):\n",
    "    from urllib.parse import urlparse\n",
    "    if bool(urlparse(path).netloc):\n",
    "        from urllib.request import urlopen\n",
    "        return urlopen(path).read().decode('utf8')\n",
    "    return open(path).read()"
   ]
  },
  {
   "cell_type": "code",
   "execution_count": 7,
   "id": "realistic-blast",
   "metadata": {
    "execution": {
     "iopub.execute_input": "2022-08-23T12:18:26.592992Z",
     "iopub.status.busy": "2022-08-23T12:18:26.592412Z",
     "iopub.status.idle": "2022-08-23T12:18:26.594588Z",
     "shell.execute_reply": "2022-08-23T12:18:26.595067Z"
    },
    "papermill": {
     "duration": 0.036761,
     "end_time": "2022-08-23T12:18:26.595185",
     "exception": false,
     "start_time": "2022-08-23T12:18:26.558424",
     "status": "completed"
    },
    "tags": []
   },
   "outputs": [],
   "source": [
    "#hide\n",
    "def get_frame(name):\n",
    "    url = (\n",
    "        'https://raw.githubusercontent.com/CSSEGISandData/COVID-19/master/csse_covid_19_data/'\n",
    "        f'csse_covid_19_time_series/time_series_covid19_{name}_global.csv')\n",
    "    df = pd.read_csv(url)\n",
    "    # rename countries\n",
    "    df['Country/Region'] = df['Country/Region'].replace(mapping['replace.country'])\n",
    "    return df"
   ]
  },
  {
   "cell_type": "code",
   "execution_count": 8,
   "id": "affiliated-characterization",
   "metadata": {
    "execution": {
     "iopub.execute_input": "2022-08-23T12:18:26.660739Z",
     "iopub.status.busy": "2022-08-23T12:18:26.660045Z",
     "iopub.status.idle": "2022-08-23T12:18:26.662660Z",
     "shell.execute_reply": "2022-08-23T12:18:26.662088Z"
    },
    "papermill": {
     "duration": 0.03787,
     "end_time": "2022-08-23T12:18:26.662783",
     "exception": false,
     "start_time": "2022-08-23T12:18:26.624913",
     "status": "completed"
    },
    "tags": []
   },
   "outputs": [],
   "source": [
    "#hide\n",
    "def get_dates(df):\n",
    "    dt_cols = df.columns[~df.columns.isin(['Province/State', 'Country/Region', 'Lat', 'Long'])]\n",
    "    LAST_DATE_I = -1\n",
    "    # sometimes last column may be empty, then go backwards\n",
    "    for i in range(-1, -len(dt_cols), -1):\n",
    "        if not df[dt_cols[i]].fillna(0).eq(0).all():\n",
    "            LAST_DATE_I = i\n",
    "            break\n",
    "    return LAST_DATE_I, dt_cols"
   ]
  },
  {
   "cell_type": "code",
   "execution_count": 9,
   "id": "recent-optimization",
   "metadata": {
    "execution": {
     "iopub.execute_input": "2022-08-23T12:18:26.727010Z",
     "iopub.status.busy": "2022-08-23T12:18:26.726068Z",
     "iopub.status.idle": "2022-08-23T12:18:27.099493Z",
     "shell.execute_reply": "2022-08-23T12:18:27.098915Z"
    },
    "papermill": {
     "duration": 0.407087,
     "end_time": "2022-08-23T12:18:27.099635",
     "exception": false,
     "start_time": "2022-08-23T12:18:26.692548",
     "status": "completed"
    },
    "tags": []
   },
   "outputs": [],
   "source": [
    "#hide\n",
    "COL_REGION = 'Country/Region'\n",
    "# Confirmed, Recovered, Deaths\n",
    "df = get_frame('confirmed')\n",
    "# dft_: timeseries, dfc_: today country agg\n",
    "dft_cases = df\n",
    "dft_deaths = get_frame('deaths')\n",
    "dft_recovered = get_frame('recovered')\n",
    "LAST_DATE_I, dt_cols = get_dates(df)"
   ]
  },
  {
   "cell_type": "code",
   "execution_count": 10,
   "id": "absolute-copper",
   "metadata": {
    "execution": {
     "iopub.execute_input": "2022-08-23T12:18:27.165846Z",
     "iopub.status.busy": "2022-08-23T12:18:27.165242Z",
     "iopub.status.idle": "2022-08-23T12:18:27.167755Z",
     "shell.execute_reply": "2022-08-23T12:18:27.167187Z"
    },
    "papermill": {
     "duration": 0.037131,
     "end_time": "2022-08-23T12:18:27.167861",
     "exception": false,
     "start_time": "2022-08-23T12:18:27.130730",
     "status": "completed"
    },
    "tags": []
   },
   "outputs": [],
   "source": [
    "#hide\n",
    "LAST_DATE_I, dt_cols = get_dates(df)\n",
    "dt_today =dt_cols[LAST_DATE_I]\n",
    "# dt_5day = dt_cols[LAST_DATE_I - 5]\n",
    "dt_yday = dt_cols[LAST_DATE_I - 1]"
   ]
  },
  {
   "cell_type": "code",
   "execution_count": 11,
   "id": "restricted-sheriff",
   "metadata": {
    "execution": {
     "iopub.execute_input": "2022-08-23T12:18:27.232454Z",
     "iopub.status.busy": "2022-08-23T12:18:27.231881Z",
     "iopub.status.idle": "2022-08-23T12:18:27.239845Z",
     "shell.execute_reply": "2022-08-23T12:18:27.239377Z"
    },
    "papermill": {
     "duration": 0.04257,
     "end_time": "2022-08-23T12:18:27.239951",
     "exception": false,
     "start_time": "2022-08-23T12:18:27.197381",
     "status": "completed"
    },
    "tags": []
   },
   "outputs": [],
   "source": [
    "#hide\n",
    "dfc_cases = dft_cases.groupby(COL_REGION)[dt_today].sum()\n",
    "dfc_deaths = dft_deaths.groupby(COL_REGION)[dt_today].sum()\n",
    "# dfp_cases = dft_cases.groupby(COL_REGION)[dt_5day].sum()\n",
    "# dfp_deaths = dft_deaths.groupby(COL_REGION)[dt_5day].sum()\n",
    "dfp_cases = dft_cases.groupby(COL_REGION)[dt_yday].sum()\n",
    "dfp_deaths = dft_deaths.groupby(COL_REGION)[dt_yday].sum()"
   ]
  },
  {
   "cell_type": "code",
   "execution_count": 12,
   "id": "deluxe-hepatitis",
   "metadata": {
    "execution": {
     "iopub.execute_input": "2022-08-23T12:18:27.305425Z",
     "iopub.status.busy": "2022-08-23T12:18:27.304830Z",
     "iopub.status.idle": "2022-08-23T12:18:27.310912Z",
     "shell.execute_reply": "2022-08-23T12:18:27.311332Z"
    },
    "papermill": {
     "duration": 0.041874,
     "end_time": "2022-08-23T12:18:27.311460",
     "exception": false,
     "start_time": "2022-08-23T12:18:27.269586",
     "status": "completed"
    },
    "tags": []
   },
   "outputs": [],
   "source": [
    "#hide\n",
    "df_table = (pd.DataFrame(dict(Cases = dfc_cases, Deaths = dfc_deaths, PCases = dfp_cases, PDeaths = dfp_deaths))\n",
    "            .sort_values(by = ['Cases','Deaths'], ascending = [False, False])\n",
    "            .reset_index())"
   ]
  },
  {
   "cell_type": "code",
   "execution_count": 13,
   "id": "educational-chancellor",
   "metadata": {
    "execution": {
     "iopub.execute_input": "2022-08-23T12:18:27.387015Z",
     "iopub.status.busy": "2022-08-23T12:18:27.386304Z",
     "iopub.status.idle": "2022-08-23T12:18:27.394642Z",
     "shell.execute_reply": "2022-08-23T12:18:27.394084Z"
    },
    "papermill": {
     "duration": 0.053909,
     "end_time": "2022-08-23T12:18:27.394765",
     "exception": false,
     "start_time": "2022-08-23T12:18:27.340856",
     "status": "completed"
    },
    "tags": []
   },
   "outputs": [
    {
     "data": {
      "text/html": [
       "<div>\n",
       "<style scoped>\n",
       "    .dataframe tbody tr th:only-of-type {\n",
       "        vertical-align: middle;\n",
       "    }\n",
       "\n",
       "    .dataframe tbody tr th {\n",
       "        vertical-align: top;\n",
       "    }\n",
       "\n",
       "    .dataframe thead th {\n",
       "        text-align: right;\n",
       "    }\n",
       "</style>\n",
       "<table border=\"1\" class=\"dataframe\">\n",
       "  <thead>\n",
       "    <tr style=\"text-align: right;\">\n",
       "      <th></th>\n",
       "      <th>Country/Region</th>\n",
       "      <th>Cases</th>\n",
       "      <th>Deaths</th>\n",
       "      <th>PCases</th>\n",
       "      <th>PDeaths</th>\n",
       "      <th>Cases (+)</th>\n",
       "      <th>Deaths (+)</th>\n",
       "      <th>Fatality Rate</th>\n",
       "      <th>Continent</th>\n",
       "    </tr>\n",
       "  </thead>\n",
       "  <tbody>\n",
       "    <tr>\n",
       "      <th>0</th>\n",
       "      <td>US</td>\n",
       "      <td>93623893</td>\n",
       "      <td>1040898</td>\n",
       "      <td>93517372</td>\n",
       "      <td>1041149</td>\n",
       "      <td>106521</td>\n",
       "      <td>0</td>\n",
       "      <td>1.11</td>\n",
       "      <td>North America</td>\n",
       "    </tr>\n",
       "    <tr>\n",
       "      <th>1</th>\n",
       "      <td>India</td>\n",
       "      <td>44357546</td>\n",
       "      <td>527416</td>\n",
       "      <td>44348960</td>\n",
       "      <td>527368</td>\n",
       "      <td>8586</td>\n",
       "      <td>48</td>\n",
       "      <td>1.19</td>\n",
       "      <td>Asia</td>\n",
       "    </tr>\n",
       "    <tr>\n",
       "      <th>2</th>\n",
       "      <td>France</td>\n",
       "      <td>34573992</td>\n",
       "      <td>154657</td>\n",
       "      <td>34535255</td>\n",
       "      <td>154541</td>\n",
       "      <td>38737</td>\n",
       "      <td>116</td>\n",
       "      <td>0.45</td>\n",
       "      <td>Europe</td>\n",
       "    </tr>\n",
       "    <tr>\n",
       "      <th>3</th>\n",
       "      <td>Brazil</td>\n",
       "      <td>34284864</td>\n",
       "      <td>682549</td>\n",
       "      <td>34264237</td>\n",
       "      <td>682358</td>\n",
       "      <td>20627</td>\n",
       "      <td>191</td>\n",
       "      <td>1.99</td>\n",
       "      <td>South America</td>\n",
       "    </tr>\n",
       "    <tr>\n",
       "      <th>4</th>\n",
       "      <td>Germany</td>\n",
       "      <td>31868639</td>\n",
       "      <td>146650</td>\n",
       "      <td>31808228</td>\n",
       "      <td>146504</td>\n",
       "      <td>60411</td>\n",
       "      <td>146</td>\n",
       "      <td>0.46</td>\n",
       "      <td>Europe</td>\n",
       "    </tr>\n",
       "  </tbody>\n",
       "</table>\n",
       "</div>"
      ],
      "text/plain": [
       "  Country/Region     Cases   Deaths    PCases  PDeaths  Cases (+)  Deaths (+)  \\\n",
       "0             US  93623893  1040898  93517372  1041149     106521           0   \n",
       "1          India  44357546   527416  44348960   527368       8586          48   \n",
       "2         France  34573992   154657  34535255   154541      38737         116   \n",
       "3         Brazil  34284864   682549  34264237   682358      20627         191   \n",
       "4        Germany  31868639   146650  31808228   146504      60411         146   \n",
       "\n",
       "   Fatality Rate      Continent  \n",
       "0           1.11  North America  \n",
       "1           1.19           Asia  \n",
       "2           0.45         Europe  \n",
       "3           1.99  South America  \n",
       "4           0.46         Europe  "
      ]
     },
     "execution_count": 13,
     "metadata": {},
     "output_type": "execute_result"
    }
   ],
   "source": [
    "#hide\n",
    "for c in 'Cases, Deaths'.split(', '):\n",
    "    df_table[f'{c} (+)'] = (df_table[c] - df_table[f'P{c}']).clip(0)\n",
    "    #Clip ça veut dire, les chiffres negatif sont interdit\n",
    "df_table['Fatality Rate'] = (100* df_table['Deaths']/ df_table['Cases']).round(2)\n",
    "df_table['Continent'] = df_table['Country/Region'].map(mapping['map.continent'])\n",
    "df_table.head(5)"
   ]
  },
  {
   "cell_type": "code",
   "execution_count": 14,
   "id": "aboriginal-bulgaria",
   "metadata": {
    "execution": {
     "iopub.execute_input": "2022-08-23T12:18:27.459842Z",
     "iopub.status.busy": "2022-08-23T12:18:27.459276Z",
     "iopub.status.idle": "2022-08-23T12:18:27.462682Z",
     "shell.execute_reply": "2022-08-23T12:18:27.463238Z"
    },
    "papermill": {
     "duration": 0.038264,
     "end_time": "2022-08-23T12:18:27.463355",
     "exception": false,
     "start_time": "2022-08-23T12:18:27.425091",
     "status": "completed"
    },
    "tags": []
   },
   "outputs": [],
   "source": [
    "#hide\n",
    "#delete problematic countries from table\n",
    "df_table = df_table[~df_table['Country/Region'].isin(['Cape Verde', 'Cruise Ship', 'Kosovo'])]"
   ]
  },
  {
   "cell_type": "code",
   "execution_count": 15,
   "id": "fantastic-effect",
   "metadata": {
    "execution": {
     "iopub.execute_input": "2022-08-23T12:18:27.530571Z",
     "iopub.status.busy": "2022-08-23T12:18:27.529973Z",
     "iopub.status.idle": "2022-08-23T12:18:27.547510Z",
     "shell.execute_reply": "2022-08-23T12:18:27.546951Z"
    },
    "papermill": {
     "duration": 0.054465,
     "end_time": "2022-08-23T12:18:27.547615",
     "exception": false,
     "start_time": "2022-08-23T12:18:27.493150",
     "status": "completed"
    },
    "tags": []
   },
   "outputs": [
    {
     "data": {
      "text/html": [
       "<div>\n",
       "<style scoped>\n",
       "    .dataframe tbody tr th:only-of-type {\n",
       "        vertical-align: middle;\n",
       "    }\n",
       "\n",
       "    .dataframe tbody tr th {\n",
       "        vertical-align: top;\n",
       "    }\n",
       "\n",
       "    .dataframe thead th {\n",
       "        text-align: right;\n",
       "    }\n",
       "</style>\n",
       "<table border=\"1\" class=\"dataframe\">\n",
       "  <thead>\n",
       "    <tr style=\"text-align: right;\">\n",
       "      <th></th>\n",
       "      <th>Country/Region</th>\n",
       "      <th>Cases</th>\n",
       "      <th>Deaths</th>\n",
       "      <th>PCases</th>\n",
       "      <th>PDeaths</th>\n",
       "      <th>Cases (+)</th>\n",
       "      <th>Deaths (+)</th>\n",
       "      <th>Fatality Rate</th>\n",
       "      <th>Continent</th>\n",
       "    </tr>\n",
       "  </thead>\n",
       "  <tbody>\n",
       "    <tr>\n",
       "      <th>0</th>\n",
       "      <td>US</td>\n",
       "      <td>93623893</td>\n",
       "      <td>1040898</td>\n",
       "      <td>93517372</td>\n",
       "      <td>1041149</td>\n",
       "      <td>106521</td>\n",
       "      <td>0</td>\n",
       "      <td>1.1</td>\n",
       "      <td>North America</td>\n",
       "    </tr>\n",
       "    <tr>\n",
       "      <th>1</th>\n",
       "      <td>India</td>\n",
       "      <td>44357546</td>\n",
       "      <td>527416</td>\n",
       "      <td>44348960</td>\n",
       "      <td>527368</td>\n",
       "      <td>8586</td>\n",
       "      <td>48</td>\n",
       "      <td>1.2</td>\n",
       "      <td>Asia</td>\n",
       "    </tr>\n",
       "    <tr>\n",
       "      <th>2</th>\n",
       "      <td>France</td>\n",
       "      <td>34573992</td>\n",
       "      <td>154657</td>\n",
       "      <td>34535255</td>\n",
       "      <td>154541</td>\n",
       "      <td>38737</td>\n",
       "      <td>116</td>\n",
       "      <td>0.4</td>\n",
       "      <td>Europe</td>\n",
       "    </tr>\n",
       "    <tr>\n",
       "      <th>3</th>\n",
       "      <td>Brazil</td>\n",
       "      <td>34284864</td>\n",
       "      <td>682549</td>\n",
       "      <td>34264237</td>\n",
       "      <td>682358</td>\n",
       "      <td>20627</td>\n",
       "      <td>191</td>\n",
       "      <td>2.0</td>\n",
       "      <td>South America</td>\n",
       "    </tr>\n",
       "    <tr>\n",
       "      <th>4</th>\n",
       "      <td>Germany</td>\n",
       "      <td>31868639</td>\n",
       "      <td>146650</td>\n",
       "      <td>31808228</td>\n",
       "      <td>146504</td>\n",
       "      <td>60411</td>\n",
       "      <td>146</td>\n",
       "      <td>0.5</td>\n",
       "      <td>Europe</td>\n",
       "    </tr>\n",
       "  </tbody>\n",
       "</table>\n",
       "</div>"
      ],
      "text/plain": [
       "  Country/Region     Cases   Deaths    PCases  PDeaths  Cases (+)  Deaths (+)  \\\n",
       "0             US  93623893  1040898  93517372  1041149     106521           0   \n",
       "1          India  44357546   527416  44348960   527368       8586          48   \n",
       "2         France  34573992   154657  34535255   154541      38737         116   \n",
       "3         Brazil  34284864   682549  34264237   682358      20627         191   \n",
       "4        Germany  31868639   146650  31808228   146504      60411         146   \n",
       "\n",
       "   Fatality Rate      Continent  \n",
       "0            1.1  North America  \n",
       "1            1.2           Asia  \n",
       "2            0.4         Europe  \n",
       "3            2.0  South America  \n",
       "4            0.5         Europe  "
      ]
     },
     "execution_count": 15,
     "metadata": {},
     "output_type": "execute_result"
    }
   ],
   "source": [
    "#hide\n",
    "df_table = (pd.DataFrame(dict(Cases=dfc_cases, Deaths=dfc_deaths, PCases=dfp_cases, PDeaths=dfp_deaths))\n",
    "             .sort_values(by=['Cases', 'Deaths'], ascending=[False, False])\n",
    "             .reset_index())\n",
    "df_table.rename(columns={'index': 'Country/Region'}, inplace=True)\n",
    "for c in 'Cases, Deaths'.split(', '):\n",
    "    df_table[f'{c} (+)'] = (df_table[c] - df_table[f'P{c}']).clip(0)  # DATA BUG\n",
    "df_table['Fatality Rate'] = (100 * df_table['Deaths'] / df_table['Cases']).round(1)\n",
    "df_table['Continent'] = df_table['Country/Region'].map(mapping['map.continent'])\n",
    "df_table.head(5)"
   ]
  },
  {
   "cell_type": "code",
   "execution_count": 16,
   "id": "fewer-occasion",
   "metadata": {
    "execution": {
     "iopub.execute_input": "2022-08-23T12:18:27.613816Z",
     "iopub.status.busy": "2022-08-23T12:18:27.613240Z",
     "iopub.status.idle": "2022-08-23T12:18:27.615808Z",
     "shell.execute_reply": "2022-08-23T12:18:27.616283Z"
    },
    "papermill": {
     "duration": 0.03819,
     "end_time": "2022-08-23T12:18:27.616398",
     "exception": false,
     "start_time": "2022-08-23T12:18:27.578208",
     "status": "completed"
    },
    "tags": []
   },
   "outputs": [],
   "source": [
    "#hide\n",
    "#delete problematic countries from table\n",
    "df_table = df_table[~df_table['Country/Region'].isin(['Cape Verde', 'Cruise Ship', 'Kosovo'])]"
   ]
  },
  {
   "cell_type": "code",
   "execution_count": 17,
   "id": "related-center",
   "metadata": {
    "execution": {
     "iopub.execute_input": "2022-08-23T12:18:27.694393Z",
     "iopub.status.busy": "2022-08-23T12:18:27.693811Z",
     "iopub.status.idle": "2022-08-23T12:18:27.696539Z",
     "shell.execute_reply": "2022-08-23T12:18:27.695982Z"
    },
    "papermill": {
     "duration": 0.049787,
     "end_time": "2022-08-23T12:18:27.696640",
     "exception": false,
     "start_time": "2022-08-23T12:18:27.646853",
     "status": "completed"
    },
    "tags": []
   },
   "outputs": [],
   "source": [
    "#hide\n",
    "metrics = [df_table.columns[index] for index in [1,2,5,6]]\n",
    "# s_china = df_table[df_table['Country/Region'].eq('China')][metrics].sum().add_prefix('China ')\n",
    "s_us = df_table[df_table['Country/Region'].eq('US')][metrics].sum().add_prefix('US ')\n",
    "s_eu = df_table[df_table['Continent'].eq('Europe')][metrics].sum().add_prefix('EU ')\n",
    "s_ind = df_table[df_table['Country/Region'].eq('India')][metrics].sum().add_prefix('India ')\n",
    "summary = {'updated': pd.to_datetime(dt_today), 'since': pd.to_datetime(dt_yday)}\n",
    "summary = {'updated': pd.to_datetime(dt_today), 'since': pd.to_datetime(dt_yday)}\n",
    "summary = {**summary, **df_table[metrics].sum(), **s_ind, **s_us, **s_eu}"
   ]
  },
  {
   "cell_type": "code",
   "execution_count": 18,
   "id": "engaging-syndrome",
   "metadata": {
    "execution": {
     "iopub.execute_input": "2022-08-23T12:18:27.762570Z",
     "iopub.status.busy": "2022-08-23T12:18:27.761977Z",
     "iopub.status.idle": "2022-08-23T12:18:27.782312Z",
     "shell.execute_reply": "2022-08-23T12:18:27.781838Z"
    },
    "papermill": {
     "duration": 0.055109,
     "end_time": "2022-08-23T12:18:27.782421",
     "exception": false,
     "start_time": "2022-08-23T12:18:27.727312",
     "status": "completed"
    },
    "tags": []
   },
   "outputs": [],
   "source": [
    "#hide\n",
    "dft_ct_new_cases = dft_cases.groupby(COL_REGION)[dt_cols].sum().diff(axis=1).fillna(0).astype(int)"
   ]
  },
  {
   "cell_type": "code",
   "execution_count": 19,
   "id": "neutral-assignment",
   "metadata": {
    "execution": {
     "iopub.execute_input": "2022-08-23T12:18:27.849360Z",
     "iopub.status.busy": "2022-08-23T12:18:27.848785Z",
     "iopub.status.idle": "2022-08-23T12:18:27.851214Z",
     "shell.execute_reply": "2022-08-23T12:18:27.851762Z"
    },
    "papermill": {
     "duration": 0.038861,
     "end_time": "2022-08-23T12:18:27.851881",
     "exception": false,
     "start_time": "2022-08-23T12:18:27.813020",
     "status": "completed"
    },
    "tags": []
   },
   "outputs": [],
   "source": [
    "#hide\n",
    "everydaycases = dft_ct_new_cases.cumsum(axis=1)"
   ]
  },
  {
   "cell_type": "code",
   "execution_count": 20,
   "id": "parliamentary-calgary",
   "metadata": {
    "execution": {
     "iopub.execute_input": "2022-08-23T12:18:27.917252Z",
     "iopub.status.busy": "2022-08-23T12:18:27.916672Z",
     "iopub.status.idle": "2022-08-23T12:18:28.452102Z",
     "shell.execute_reply": "2022-08-23T12:18:28.451534Z"
    },
    "papermill": {
     "duration": 0.569909,
     "end_time": "2022-08-23T12:18:28.452241",
     "exception": false,
     "start_time": "2022-08-23T12:18:27.882332",
     "status": "completed"
    },
    "tags": []
   },
   "outputs": [],
   "source": [
    "#hide\n",
    "import pandas as pd\n",
    "import matplotlib.pyplot as plt\n",
    "import matplotlib.ticker as ticker\n",
    "import matplotlib.animation as animation\n",
    "from IPython.display import HTML"
   ]
  },
  {
   "cell_type": "code",
   "execution_count": 21,
   "id": "lasting-extraction",
   "metadata": {
    "execution": {
     "iopub.execute_input": "2022-08-23T12:18:28.520138Z",
     "iopub.status.busy": "2022-08-23T12:18:28.519551Z",
     "iopub.status.idle": "2022-08-23T12:18:28.527045Z",
     "shell.execute_reply": "2022-08-23T12:18:28.526567Z"
    },
    "papermill": {
     "duration": 0.043913,
     "end_time": "2022-08-23T12:18:28.527151",
     "exception": false,
     "start_time": "2022-08-23T12:18:28.483238",
     "status": "completed"
    },
    "tags": []
   },
   "outputs": [],
   "source": [
    "#hide\n",
    "t = everydaycases.stack()"
   ]
  },
  {
   "cell_type": "code",
   "execution_count": 22,
   "id": "premier-sleeve",
   "metadata": {
    "execution": {
     "iopub.execute_input": "2022-08-23T12:18:28.592537Z",
     "iopub.status.busy": "2022-08-23T12:18:28.591967Z",
     "iopub.status.idle": "2022-08-23T12:18:28.603826Z",
     "shell.execute_reply": "2022-08-23T12:18:28.604364Z"
    },
    "papermill": {
     "duration": 0.04672,
     "end_time": "2022-08-23T12:18:28.604487",
     "exception": false,
     "start_time": "2022-08-23T12:18:28.557767",
     "status": "completed"
    },
    "tags": []
   },
   "outputs": [],
   "source": [
    "#hide\n",
    "g = t.reset_index(['Country/Region'])"
   ]
  },
  {
   "cell_type": "code",
   "execution_count": 23,
   "id": "distributed-pittsburgh",
   "metadata": {
    "execution": {
     "iopub.execute_input": "2022-08-23T12:18:28.669450Z",
     "iopub.status.busy": "2022-08-23T12:18:28.668875Z",
     "iopub.status.idle": "2022-08-23T12:18:28.671176Z",
     "shell.execute_reply": "2022-08-23T12:18:28.671724Z"
    },
    "papermill": {
     "duration": 0.036966,
     "end_time": "2022-08-23T12:18:28.671846",
     "exception": false,
     "start_time": "2022-08-23T12:18:28.634880",
     "status": "completed"
    },
    "tags": []
   },
   "outputs": [],
   "source": [
    "#hide\n",
    "g.index.name = 'date'"
   ]
  },
  {
   "cell_type": "code",
   "execution_count": 24,
   "id": "naked-donor",
   "metadata": {
    "execution": {
     "iopub.execute_input": "2022-08-23T12:18:28.736847Z",
     "iopub.status.busy": "2022-08-23T12:18:28.736182Z",
     "iopub.status.idle": "2022-08-23T12:18:28.740707Z",
     "shell.execute_reply": "2022-08-23T12:18:28.740259Z"
    },
    "papermill": {
     "duration": 0.03854,
     "end_time": "2022-08-23T12:18:28.740818",
     "exception": false,
     "start_time": "2022-08-23T12:18:28.702278",
     "status": "completed"
    },
    "tags": []
   },
   "outputs": [],
   "source": [
    "# #hide\n",
    "# g = g.reset_index(['date'])"
   ]
  },
  {
   "cell_type": "code",
   "execution_count": 25,
   "id": "incomplete-mustang",
   "metadata": {
    "execution": {
     "iopub.execute_input": "2022-08-23T12:18:28.806004Z",
     "iopub.status.busy": "2022-08-23T12:18:28.805344Z",
     "iopub.status.idle": "2022-08-23T12:18:28.807804Z",
     "shell.execute_reply": "2022-08-23T12:18:28.807273Z"
    },
    "papermill": {
     "duration": 0.036352,
     "end_time": "2022-08-23T12:18:28.807922",
     "exception": false,
     "start_time": "2022-08-23T12:18:28.771570",
     "status": "completed"
    },
    "tags": []
   },
   "outputs": [],
   "source": [
    "#hide\n",
    "# g.head()"
   ]
  },
  {
   "cell_type": "code",
   "execution_count": 26,
   "id": "specific-kruger",
   "metadata": {
    "execution": {
     "iopub.execute_input": "2022-08-23T12:18:28.873174Z",
     "iopub.status.busy": "2022-08-23T12:18:28.872605Z",
     "iopub.status.idle": "2022-08-23T12:18:28.875429Z",
     "shell.execute_reply": "2022-08-23T12:18:28.874970Z"
    },
    "papermill": {
     "duration": 0.036594,
     "end_time": "2022-08-23T12:18:28.875533",
     "exception": false,
     "start_time": "2022-08-23T12:18:28.838939",
     "status": "completed"
    },
    "tags": []
   },
   "outputs": [],
   "source": [
    "#hide\n",
    "# g.columns = ['date','country','cases']"
   ]
  },
  {
   "cell_type": "code",
   "execution_count": 27,
   "id": "tender-conversion",
   "metadata": {
    "execution": {
     "iopub.execute_input": "2022-08-23T12:18:28.939983Z",
     "iopub.status.busy": "2022-08-23T12:18:28.939413Z",
     "iopub.status.idle": "2022-08-23T12:18:28.941611Z",
     "shell.execute_reply": "2022-08-23T12:18:28.942155Z"
    },
    "papermill": {
     "duration": 0.036392,
     "end_time": "2022-08-23T12:18:28.942270",
     "exception": false,
     "start_time": "2022-08-23T12:18:28.905878",
     "status": "completed"
    },
    "tags": []
   },
   "outputs": [],
   "source": [
    "#hide\n",
    "# g['continent'] = g.country"
   ]
  },
  {
   "cell_type": "code",
   "execution_count": 28,
   "id": "substantial-wilderness",
   "metadata": {
    "execution": {
     "iopub.execute_input": "2022-08-23T12:18:29.007096Z",
     "iopub.status.busy": "2022-08-23T12:18:29.006471Z",
     "iopub.status.idle": "2022-08-23T12:18:29.009621Z",
     "shell.execute_reply": "2022-08-23T12:18:29.009127Z"
    },
    "papermill": {
     "duration": 0.036902,
     "end_time": "2022-08-23T12:18:29.009727",
     "exception": false,
     "start_time": "2022-08-23T12:18:28.972825",
     "status": "completed"
    },
    "tags": []
   },
   "outputs": [],
   "source": [
    "#hide\n",
    "# cols = list(g.columns.values)"
   ]
  },
  {
   "cell_type": "code",
   "execution_count": 29,
   "id": "solved-farming",
   "metadata": {
    "execution": {
     "iopub.execute_input": "2022-08-23T12:18:29.074466Z",
     "iopub.status.busy": "2022-08-23T12:18:29.073786Z",
     "iopub.status.idle": "2022-08-23T12:18:29.076337Z",
     "shell.execute_reply": "2022-08-23T12:18:29.075874Z"
    },
    "papermill": {
     "duration": 0.036261,
     "end_time": "2022-08-23T12:18:29.076441",
     "exception": false,
     "start_time": "2022-08-23T12:18:29.040180",
     "status": "completed"
    },
    "tags": []
   },
   "outputs": [],
   "source": [
    "#hide\n",
    "# cols.insert(0, cols.pop())"
   ]
  },
  {
   "cell_type": "code",
   "execution_count": 30,
   "id": "executed-adoption",
   "metadata": {
    "execution": {
     "iopub.execute_input": "2022-08-23T12:18:29.141178Z",
     "iopub.status.busy": "2022-08-23T12:18:29.140609Z",
     "iopub.status.idle": "2022-08-23T12:18:29.142801Z",
     "shell.execute_reply": "2022-08-23T12:18:29.143354Z"
    },
    "papermill": {
     "duration": 0.036175,
     "end_time": "2022-08-23T12:18:29.143472",
     "exception": false,
     "start_time": "2022-08-23T12:18:29.107297",
     "status": "completed"
    },
    "tags": []
   },
   "outputs": [],
   "source": [
    "#hide\n",
    "# g = g[cols]"
   ]
  },
  {
   "cell_type": "code",
   "execution_count": 31,
   "id": "subject-dublin",
   "metadata": {
    "execution": {
     "iopub.execute_input": "2022-08-23T12:18:29.208110Z",
     "iopub.status.busy": "2022-08-23T12:18:29.207463Z",
     "iopub.status.idle": "2022-08-23T12:18:29.211125Z",
     "shell.execute_reply": "2022-08-23T12:18:29.211544Z"
    },
    "papermill": {
     "duration": 0.037757,
     "end_time": "2022-08-23T12:18:29.211666",
     "exception": false,
     "start_time": "2022-08-23T12:18:29.173909",
     "status": "completed"
    },
    "tags": []
   },
   "outputs": [],
   "source": [
    "#hide\n",
    "# g['continent'] = g['continent'].map(mapping['map.continent'])"
   ]
  },
  {
   "cell_type": "code",
   "execution_count": 32,
   "id": "freelance-scout",
   "metadata": {
    "execution": {
     "iopub.execute_input": "2022-08-23T12:18:29.275790Z",
     "iopub.status.busy": "2022-08-23T12:18:29.275221Z",
     "iopub.status.idle": "2022-08-23T12:18:29.277961Z",
     "shell.execute_reply": "2022-08-23T12:18:29.277523Z"
    },
    "papermill": {
     "duration": 0.035886,
     "end_time": "2022-08-23T12:18:29.278065",
     "exception": false,
     "start_time": "2022-08-23T12:18:29.242179",
     "status": "completed"
    },
    "tags": []
   },
   "outputs": [],
   "source": [
    "#hide\n",
    "# g.head()"
   ]
  },
  {
   "cell_type": "code",
   "execution_count": 33,
   "id": "limited-engine",
   "metadata": {
    "execution": {
     "iopub.execute_input": "2022-08-23T12:18:29.342550Z",
     "iopub.status.busy": "2022-08-23T12:18:29.341848Z",
     "iopub.status.idle": "2022-08-23T12:18:29.346208Z",
     "shell.execute_reply": "2022-08-23T12:18:29.345556Z"
    },
    "papermill": {
     "duration": 0.037872,
     "end_time": "2022-08-23T12:18:29.346325",
     "exception": false,
     "start_time": "2022-08-23T12:18:29.308453",
     "status": "completed"
    },
    "tags": []
   },
   "outputs": [],
   "source": [
    "# hide\n",
    "# g['date'] = g['date'].astype('datetime64[ns]')"
   ]
  },
  {
   "cell_type": "code",
   "execution_count": 34,
   "id": "sophisticated-supervisor",
   "metadata": {
    "execution": {
     "iopub.execute_input": "2022-08-23T12:18:29.410823Z",
     "iopub.status.busy": "2022-08-23T12:18:29.410220Z",
     "iopub.status.idle": "2022-08-23T12:18:29.412880Z",
     "shell.execute_reply": "2022-08-23T12:18:29.412419Z"
    },
    "papermill": {
     "duration": 0.035718,
     "end_time": "2022-08-23T12:18:29.412981",
     "exception": false,
     "start_time": "2022-08-23T12:18:29.377263",
     "status": "completed"
    },
    "tags": []
   },
   "outputs": [],
   "source": [
    "#hide\n",
    "# g['date'] = g.date.dt.dayofyear"
   ]
  },
  {
   "cell_type": "code",
   "execution_count": 35,
   "id": "inside-dubai",
   "metadata": {
    "execution": {
     "iopub.execute_input": "2022-08-23T12:18:29.477448Z",
     "iopub.status.busy": "2022-08-23T12:18:29.476794Z",
     "iopub.status.idle": "2022-08-23T12:18:29.479294Z",
     "shell.execute_reply": "2022-08-23T12:18:29.478655Z"
    },
    "papermill": {
     "duration": 0.036054,
     "end_time": "2022-08-23T12:18:29.479406",
     "exception": false,
     "start_time": "2022-08-23T12:18:29.443352",
     "status": "completed"
    },
    "tags": []
   },
   "outputs": [],
   "source": [
    "#hide\n",
    "# g = g.rename(columns= {'continent':'group','country':'name','cases':'value'})"
   ]
  },
  {
   "cell_type": "code",
   "execution_count": 36,
   "id": "fleet-motorcycle",
   "metadata": {
    "execution": {
     "iopub.execute_input": "2022-08-23T12:18:29.545225Z",
     "iopub.status.busy": "2022-08-23T12:18:29.544539Z",
     "iopub.status.idle": "2022-08-23T12:18:29.548185Z",
     "shell.execute_reply": "2022-08-23T12:18:29.548696Z"
    },
    "papermill": {
     "duration": 0.038369,
     "end_time": "2022-08-23T12:18:29.548835",
     "exception": false,
     "start_time": "2022-08-23T12:18:29.510466",
     "status": "completed"
    },
    "tags": []
   },
   "outputs": [],
   "source": [
    "#hide\n",
    "# cols = ['name','group','day','value']"
   ]
  },
  {
   "cell_type": "code",
   "execution_count": 37,
   "id": "continued-sleeping",
   "metadata": {
    "execution": {
     "iopub.execute_input": "2022-08-23T12:18:29.614406Z",
     "iopub.status.busy": "2022-08-23T12:18:29.613777Z",
     "iopub.status.idle": "2022-08-23T12:18:29.616272Z",
     "shell.execute_reply": "2022-08-23T12:18:29.615802Z"
    },
    "papermill": {
     "duration": 0.036601,
     "end_time": "2022-08-23T12:18:29.616383",
     "exception": false,
     "start_time": "2022-08-23T12:18:29.579782",
     "status": "completed"
    },
    "tags": []
   },
   "outputs": [],
   "source": [
    "#hide\n",
    "# g.rename(columns= {'date':'day'},inplace = True)"
   ]
  },
  {
   "cell_type": "code",
   "execution_count": 38,
   "id": "major-fight",
   "metadata": {
    "execution": {
     "iopub.execute_input": "2022-08-23T12:18:29.681872Z",
     "iopub.status.busy": "2022-08-23T12:18:29.681192Z",
     "iopub.status.idle": "2022-08-23T12:18:29.684749Z",
     "shell.execute_reply": "2022-08-23T12:18:29.685191Z"
    },
    "papermill": {
     "duration": 0.038123,
     "end_time": "2022-08-23T12:18:29.685315",
     "exception": false,
     "start_time": "2022-08-23T12:18:29.647192",
     "status": "completed"
    },
    "tags": []
   },
   "outputs": [],
   "source": [
    "#hide\n",
    "# g = g[cols]"
   ]
  },
  {
   "cell_type": "code",
   "execution_count": 39,
   "id": "structured-mobile",
   "metadata": {
    "execution": {
     "iopub.execute_input": "2022-08-23T12:18:29.750282Z",
     "iopub.status.busy": "2022-08-23T12:18:29.749598Z",
     "iopub.status.idle": "2022-08-23T12:18:29.753336Z",
     "shell.execute_reply": "2022-08-23T12:18:29.753815Z"
    },
    "papermill": {
     "duration": 0.038169,
     "end_time": "2022-08-23T12:18:29.753956",
     "exception": false,
     "start_time": "2022-08-23T12:18:29.715787",
     "status": "completed"
    },
    "tags": []
   },
   "outputs": [],
   "source": [
    "# #hide\n",
    "# g = g[g.group.notna()]"
   ]
  },
  {
   "cell_type": "code",
   "execution_count": 40,
   "id": "determined-closing",
   "metadata": {
    "execution": {
     "iopub.execute_input": "2022-08-23T12:18:29.819838Z",
     "iopub.status.busy": "2022-08-23T12:18:29.819151Z",
     "iopub.status.idle": "2022-08-23T12:18:29.821629Z",
     "shell.execute_reply": "2022-08-23T12:18:29.820988Z"
    },
    "papermill": {
     "duration": 0.036977,
     "end_time": "2022-08-23T12:18:29.821747",
     "exception": false,
     "start_time": "2022-08-23T12:18:29.784770",
     "status": "completed"
    },
    "tags": []
   },
   "outputs": [],
   "source": [
    "# #hide\n",
    "# colors = dict(zip(\n",
    "#     [\"Oceania\", \"Europe\", \"Asia\", \"South America\", \"Middle East\", \"North America\", \"Africa\"],\n",
    "#     [\"#adb0ff\", \"#ffb3ff\", \"#90d595\", \"#e48381\", \"#aafbff\", \"#f7bb5f\", \"#eafb50\"]\n",
    "# ))\n",
    "# group_lk = g.set_index('name')['group'].to_dict()"
   ]
  },
  {
   "cell_type": "code",
   "execution_count": null,
   "id": "gross-drinking",
   "metadata": {
    "papermill": {
     "duration": 0.030529,
     "end_time": "2022-08-23T12:18:29.883219",
     "exception": false,
     "start_time": "2022-08-23T12:18:29.852690",
     "status": "completed"
    },
    "tags": []
   },
   "outputs": [],
   "source": []
  },
  {
   "cell_type": "code",
   "execution_count": 41,
   "id": "subject-macintosh",
   "metadata": {
    "execution": {
     "iopub.execute_input": "2022-08-23T12:18:29.950369Z",
     "iopub.status.busy": "2022-08-23T12:18:29.949656Z",
     "iopub.status.idle": "2022-08-23T12:18:29.952160Z",
     "shell.execute_reply": "2022-08-23T12:18:29.951517Z"
    },
    "papermill": {
     "duration": 0.03718,
     "end_time": "2022-08-23T12:18:29.952281",
     "exception": false,
     "start_time": "2022-08-23T12:18:29.915101",
     "status": "completed"
    },
    "tags": []
   },
   "outputs": [],
   "source": [
    "# #hide\n",
    "# fig, ax = plt.subplots(figsize=(15, 8))\n",
    "\n",
    "# def draw_barchart(current_day):\n",
    "#     dff = g[g['day'].eq(current_day)].sort_values(by='value', ascending=True).tail(10)\n",
    "#     ax.clear()\n",
    "#     ax.barh(dff['name'], dff['value'], color=[colors[group_lk[x]] for x in dff['name']])\n",
    "#     dx = dff['value'].max() / 200\n",
    "    \n",
    "#     for i, (value, name) in enumerate(zip(dff['value'], dff['name'])):\n",
    "#         ax.text(value-dx, i,     name,           size=14, weight=600, ha='right', va='bottom')\n",
    "#         ax.text(value-dx, i-.25, group_lk[name], size=10, color='#444444', ha='right', va='baseline')\n",
    "#         ax.text(value+dx, i,     f'{value:,.0f}',  size=14, ha='left',  va='center')\n",
    "#     ax.text(1, 0.4, current_day, transform=ax.transAxes, color='#777777', size=46, ha='right', weight=800)\n",
    "#     ax.text(0, 1.06, 'Population (thousands)', transform=ax.transAxes, size=12, color='#777777')\n",
    "#     ax.xaxis.set_major_formatter(ticker.StrMethodFormatter('{x:,.0f}'))\n",
    "#     ax.xaxis.set_ticks_position('top')\n",
    "#     ax.tick_params(axis='x', colors='#777777', labelsize=12)\n",
    "#     ax.set_yticks([])\n",
    "#     ax.margins(0, 0.01)\n",
    "#     ax.grid(which='major', axis='x', linestyle='-')\n",
    "#     ax.set_axisbelow(True)\n",
    "    \n",
    "#     ax.text(0, 1.15, 'Coronavirus',\n",
    "#             transform=ax.transAxes, size=24, weight=600, ha='left', va='top')\n",
    "# #     ax.text(1, 0, 'by @pratapvardhan; credit @jburnmurdoch', transform=ax.transAxes, color='#777777', ha='right',\n",
    "# #             bbox=dict(facecolor='white', alpha=0.8, edgecolor='white'))\n",
    "#     plt.box(False)"
   ]
  },
  {
   "cell_type": "code",
   "execution_count": 42,
   "id": "sexual-wages",
   "metadata": {
    "execution": {
     "iopub.execute_input": "2022-08-23T12:18:30.017704Z",
     "iopub.status.busy": "2022-08-23T12:18:30.017123Z",
     "iopub.status.idle": "2022-08-23T12:18:30.019519Z",
     "shell.execute_reply": "2022-08-23T12:18:30.019937Z"
    },
    "papermill": {
     "duration": 0.036538,
     "end_time": "2022-08-23T12:18:30.020062",
     "exception": false,
     "start_time": "2022-08-23T12:18:29.983524",
     "status": "completed"
    },
    "tags": []
   },
   "outputs": [],
   "source": [
    "# #hide_input\n",
    "# fig, ax = plt.subplots(figsize=(15, 8))\n",
    "# animator = animation.FuncAnimation(fig, draw_barchart, frames=range(g.day.values.min(), g.day.values.max()))\n",
    "# HTML(animator.to_jshtml())\n",
    "# # or use animator.to_html5_video() or animator.save() "
   ]
  },
  {
   "cell_type": "code",
   "execution_count": null,
   "id": "australian-container",
   "metadata": {
    "papermill": {
     "duration": 0.030328,
     "end_time": "2022-08-23T12:18:30.080882",
     "exception": false,
     "start_time": "2022-08-23T12:18:30.050554",
     "status": "completed"
    },
    "tags": []
   },
   "outputs": [],
   "source": []
  },
  {
   "cell_type": "code",
   "execution_count": null,
   "id": "mediterranean-pontiac",
   "metadata": {
    "papermill": {
     "duration": 0.030366,
     "end_time": "2022-08-23T12:18:30.142048",
     "exception": false,
     "start_time": "2022-08-23T12:18:30.111682",
     "status": "completed"
    },
    "tags": []
   },
   "outputs": [],
   "source": []
  },
  {
   "cell_type": "code",
   "execution_count": null,
   "id": "aging-legislature",
   "metadata": {
    "papermill": {
     "duration": 0.030511,
     "end_time": "2022-08-23T12:18:30.203074",
     "exception": false,
     "start_time": "2022-08-23T12:18:30.172563",
     "status": "completed"
    },
    "tags": []
   },
   "outputs": [],
   "source": []
  }
 ],
 "metadata": {
  "kernelspec": {
   "display_name": "Python 3",
   "language": "python",
   "name": "python3"
  },
  "language_info": {
   "codemirror_mode": {
    "name": "ipython",
    "version": 3
   },
   "file_extension": ".py",
   "mimetype": "text/x-python",
   "name": "python",
   "nbconvert_exporter": "python",
   "pygments_lexer": "ipython3",
   "version": "3.6.15"
  },
  "papermill": {
   "duration": 5.754258,
   "end_time": "2022-08-23T12:18:30.552852",
   "environment_variables": {},
   "exception": null,
   "input_path": "2020-03-21-covid19exp.ipynb",
   "output_path": "2020-03-21-covid19exp.ipynb",
   "parameters": {},
   "start_time": "2022-08-23T12:18:24.798594",
   "version": "2.0.0"
  }
 },
 "nbformat": 4,
 "nbformat_minor": 5
}